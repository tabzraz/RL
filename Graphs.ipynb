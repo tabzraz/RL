{
 "cells": [
  {
   "cell_type": "code",
   "execution_count": 1,
   "metadata": {
    "collapsed": false,
    "deletable": true,
    "editable": true
   },
   "outputs": [
    {
     "data": {
      "text/html": [
       "\n",
       "    <div class=\"bk-root\">\n",
       "        <a href=\"http://bokeh.pydata.org\" target=\"_blank\" class=\"bk-logo bk-logo-small bk-logo-notebook\"></a>\n",
       "        <span id=\"36100ed1-f592-4310-8028-22339d8a4070\">Loading BokehJS ...</span>\n",
       "    </div>"
      ]
     },
     "metadata": {},
     "output_type": "display_data"
    },
    {
     "data": {
      "application/javascript": [
       "\n",
       "(function(global) {\n",
       "  function now() {\n",
       "    return new Date();\n",
       "  }\n",
       "\n",
       "  var force = true;\n",
       "\n",
       "  if (typeof (window._bokeh_onload_callbacks) === \"undefined\" || force === true) {\n",
       "    window._bokeh_onload_callbacks = [];\n",
       "    window._bokeh_is_loading = undefined;\n",
       "  }\n",
       "\n",
       "\n",
       "  \n",
       "  if (typeof (window._bokeh_timeout) === \"undefined\" || force === true) {\n",
       "    window._bokeh_timeout = Date.now() + 5000;\n",
       "    window._bokeh_failed_load = false;\n",
       "  }\n",
       "\n",
       "  var NB_LOAD_WARNING = {'data': {'text/html':\n",
       "     \"<div style='background-color: #fdd'>\\n\"+\n",
       "     \"<p>\\n\"+\n",
       "     \"BokehJS does not appear to have successfully loaded. If loading BokehJS from CDN, this \\n\"+\n",
       "     \"may be due to a slow or bad network connection. Possible fixes:\\n\"+\n",
       "     \"</p>\\n\"+\n",
       "     \"<ul>\\n\"+\n",
       "     \"<li>re-rerun `output_notebook()` to attempt to load from CDN again, or</li>\\n\"+\n",
       "     \"<li>use INLINE resources instead, as so:</li>\\n\"+\n",
       "     \"</ul>\\n\"+\n",
       "     \"<code>\\n\"+\n",
       "     \"from bokeh.resources import INLINE\\n\"+\n",
       "     \"output_notebook(resources=INLINE)\\n\"+\n",
       "     \"</code>\\n\"+\n",
       "     \"</div>\"}};\n",
       "\n",
       "  function display_loaded() {\n",
       "    if (window.Bokeh !== undefined) {\n",
       "      document.getElementById(\"36100ed1-f592-4310-8028-22339d8a4070\").textContent = \"BokehJS successfully loaded.\";\n",
       "    } else if (Date.now() < window._bokeh_timeout) {\n",
       "      setTimeout(display_loaded, 100)\n",
       "    }\n",
       "  }\n",
       "\n",
       "  function run_callbacks() {\n",
       "    window._bokeh_onload_callbacks.forEach(function(callback) { callback() });\n",
       "    delete window._bokeh_onload_callbacks\n",
       "    console.info(\"Bokeh: all callbacks have finished\");\n",
       "  }\n",
       "\n",
       "  function load_libs(js_urls, callback) {\n",
       "    window._bokeh_onload_callbacks.push(callback);\n",
       "    if (window._bokeh_is_loading > 0) {\n",
       "      console.log(\"Bokeh: BokehJS is being loaded, scheduling callback at\", now());\n",
       "      return null;\n",
       "    }\n",
       "    if (js_urls == null || js_urls.length === 0) {\n",
       "      run_callbacks();\n",
       "      return null;\n",
       "    }\n",
       "    console.log(\"Bokeh: BokehJS not loaded, scheduling load and callback at\", now());\n",
       "    window._bokeh_is_loading = js_urls.length;\n",
       "    for (var i = 0; i < js_urls.length; i++) {\n",
       "      var url = js_urls[i];\n",
       "      var s = document.createElement('script');\n",
       "      s.src = url;\n",
       "      s.async = false;\n",
       "      s.onreadystatechange = s.onload = function() {\n",
       "        window._bokeh_is_loading--;\n",
       "        if (window._bokeh_is_loading === 0) {\n",
       "          console.log(\"Bokeh: all BokehJS libraries loaded\");\n",
       "          run_callbacks()\n",
       "        }\n",
       "      };\n",
       "      s.onerror = function() {\n",
       "        console.warn(\"failed to load library \" + url);\n",
       "      };\n",
       "      console.log(\"Bokeh: injecting script tag for BokehJS library: \", url);\n",
       "      document.getElementsByTagName(\"head\")[0].appendChild(s);\n",
       "    }\n",
       "  };var element = document.getElementById(\"36100ed1-f592-4310-8028-22339d8a4070\");\n",
       "  if (element == null) {\n",
       "    console.log(\"Bokeh: ERROR: autoload.js configured with elementid '36100ed1-f592-4310-8028-22339d8a4070' but no matching script tag was found. \")\n",
       "    return false;\n",
       "  }\n",
       "\n",
       "  var js_urls = [\"https://cdn.pydata.org/bokeh/release/bokeh-0.12.4.min.js\", \"https://cdn.pydata.org/bokeh/release/bokeh-widgets-0.12.4.min.js\"];\n",
       "\n",
       "  var inline_js = [\n",
       "    function(Bokeh) {\n",
       "      Bokeh.set_log_level(\"info\");\n",
       "    },\n",
       "    \n",
       "    function(Bokeh) {\n",
       "      \n",
       "      document.getElementById(\"36100ed1-f592-4310-8028-22339d8a4070\").textContent = \"BokehJS is loading...\";\n",
       "    },\n",
       "    function(Bokeh) {\n",
       "      console.log(\"Bokeh: injecting CSS: https://cdn.pydata.org/bokeh/release/bokeh-0.12.4.min.css\");\n",
       "      Bokeh.embed.inject_css(\"https://cdn.pydata.org/bokeh/release/bokeh-0.12.4.min.css\");\n",
       "      console.log(\"Bokeh: injecting CSS: https://cdn.pydata.org/bokeh/release/bokeh-widgets-0.12.4.min.css\");\n",
       "      Bokeh.embed.inject_css(\"https://cdn.pydata.org/bokeh/release/bokeh-widgets-0.12.4.min.css\");\n",
       "    }\n",
       "  ];\n",
       "\n",
       "  function run_inline_js() {\n",
       "    \n",
       "    if ((window.Bokeh !== undefined) || (force === true)) {\n",
       "      for (var i = 0; i < inline_js.length; i++) {\n",
       "        inline_js[i](window.Bokeh);\n",
       "      }if (force === true) {\n",
       "        display_loaded();\n",
       "      }} else if (Date.now() < window._bokeh_timeout) {\n",
       "      setTimeout(run_inline_js, 100);\n",
       "    } else if (!window._bokeh_failed_load) {\n",
       "      console.log(\"Bokeh: BokehJS failed to load within specified timeout.\");\n",
       "      window._bokeh_failed_load = true;\n",
       "    } else if (force !== true) {\n",
       "      var cell = $(document.getElementById(\"36100ed1-f592-4310-8028-22339d8a4070\")).parents('.cell').data().cell;\n",
       "      cell.output_area.append_execute_result(NB_LOAD_WARNING)\n",
       "    }\n",
       "\n",
       "  }\n",
       "\n",
       "  if (window._bokeh_is_loading === 0) {\n",
       "    console.log(\"Bokeh: BokehJS loaded, going straight to plotting\");\n",
       "    run_inline_js();\n",
       "  } else {\n",
       "    load_libs(js_urls, function() {\n",
       "      console.log(\"Bokeh: BokehJS plotting callback run at\", now());\n",
       "      run_inline_js();\n",
       "    });\n",
       "  }\n",
       "}(this));"
      ]
     },
     "metadata": {},
     "output_type": "display_data"
    }
   ],
   "source": [
    "from bokeh.plotting import figure, output_notebook, show\n",
    "output_notebook()"
   ]
  },
  {
   "cell_type": "code",
   "execution_count": 2,
   "metadata": {
    "collapsed": true,
    "deletable": true,
    "editable": true
   },
   "outputs": [],
   "source": [
    "import glob"
   ]
  },
  {
   "cell_type": "code",
   "execution_count": 3,
   "metadata": {
    "collapsed": true,
    "deletable": true,
    "editable": true
   },
   "outputs": [],
   "source": [
    "import numpy as np"
   ]
  },
  {
   "cell_type": "code",
   "execution_count": 4,
   "metadata": {
    "collapsed": true,
    "deletable": true,
    "editable": true
   },
   "outputs": [],
   "source": [
    "from scipy.interpolate import interp1d\n",
    "from scipy.interpolate import spline"
   ]
  },
  {
   "cell_type": "code",
   "execution_count": 5,
   "metadata": {
    "collapsed": true,
    "deletable": true,
    "editable": true
   },
   "outputs": [],
   "source": [
    "from tqdm import tqdm"
   ]
  },
  {
   "cell_type": "code",
   "execution_count": 6,
   "metadata": {
    "collapsed": true,
    "deletable": true,
    "editable": true
   },
   "outputs": [],
   "source": [
    "DQN_Rewards_Path = \"/home/tabz/Dropbox/RL/Log_Files/March 2017/Maze_5_Batch_Sizes_Logs/*DQN*/logs/Episode_Rewards.txt\"\n",
    "DQN_Lengths_Path = \"/home/tabz/Dropbox/RL/Log_Files/March 2017/Maze_5_Batch_Sizes_Logs/*DQN*/logs/Episode_Lengths.txt\"\n",
    "DQN_Rewards = []\n",
    "DQN_Lengths = []\n",
    "DQN_Lengths_C = []"
   ]
  },
  {
   "cell_type": "code",
   "execution_count": 7,
   "metadata": {
    "collapsed": true,
    "deletable": true,
    "editable": true
   },
   "outputs": [],
   "source": [
    "for filename in glob.glob(DQN_Rewards_Path):\n",
    "    run_logs = [0]\n",
    "#     print(filename)\n",
    "    with open(filename, \"r\") as f:\n",
    "        for line in f:\n",
    "            try:\n",
    "                ep_r = float(line)\n",
    "            except:\n",
    "                continue\n",
    "            run_logs.append(ep_r)\n",
    "    DQN_Rewards.append(run_logs)"
   ]
  },
  {
   "cell_type": "code",
   "execution_count": 8,
   "metadata": {
    "collapsed": true,
    "deletable": true,
    "editable": true
   },
   "outputs": [],
   "source": [
    "for filename in glob.glob(DQN_Lengths_Path):\n",
    "    run_logs = [0]\n",
    "#     print(filename)\n",
    "    with open(filename, \"r\") as f:\n",
    "        for line in f:\n",
    "            try:\n",
    "                ep_r = float(line)\n",
    "            except:\n",
    "                continue\n",
    "            run_logs.append(ep_r)\n",
    "    DQN_Lengths.append(run_logs)\n",
    "    run_logs_c = np.cumsum(run_logs).astype(np.int32)\n",
    "    DQN_Lengths_C.append(run_logs_c)"
   ]
  },
  {
   "cell_type": "markdown",
   "metadata": {
    "collapsed": false,
    "deletable": true,
    "editable": true
   },
   "source": [
    "for lens, runs in zip(DQN_Lengths_C, DQN_Rewards):\n",
    "    plt.plot(lens, runs)\n",
    "plt.show()"
   ]
  },
  {
   "cell_type": "markdown",
   "metadata": {
    "collapsed": false,
    "deletable": true,
    "editable": true
   },
   "source": [
    "p = figure(width=500, height=500, y_range=(-1,3))\n",
    "for lens, runs in zip(DQN_Lengths_C, DQN_Rewards):\n",
    "    p.line(lens, runs)\n",
    "show(p)"
   ]
  },
  {
   "cell_type": "code",
   "execution_count": null,
   "metadata": {
    "collapsed": true,
    "deletable": true,
    "editable": true
   },
   "outputs": [],
   "source": []
  },
  {
   "cell_type": "markdown",
   "metadata": {
    "collapsed": true,
    "deletable": true,
    "editable": true
   },
   "source": [
    "def plot_averages(names, t_maxs, colors, legends=None, directory=\"Logs/\", step=10):\n",
    "    plt.figure(figsize=(10,10))\n",
    "    plt.ylim(-1, 3)\n",
    "    for name, color, t_max in tqdm(zip(names, colors, t_maxs)):\n",
    "        # TODO: Remove DQN from names\n",
    "        DQN_Rewards_Path = directory + \"*\" + name + \"*/logs/Episode_Rewards.txt\"\n",
    "        DQN_Lengths_Path = directory + \"*\" + name + \"*/logs/Episode_Lengths.txt\"\n",
    "        DQN_Rewards = []\n",
    "        DQN_Lengths = []\n",
    "        DQN_Lengths_C = []\n",
    "        for filename in glob.glob(DQN_Rewards_Path):\n",
    "            run_logs = [0]\n",
    "            with open(filename, \"r\") as f:\n",
    "                for line in f:\n",
    "                    try:\n",
    "                        ep_r = float(line)\n",
    "                    except:\n",
    "                        continue\n",
    "                    run_logs.append(ep_r)\n",
    "            DQN_Rewards.append(run_logs)\n",
    "        for filename in glob.glob(DQN_Lengths_Path):\n",
    "            run_logs = [0]\n",
    "        #     print(filename)\n",
    "            with open(filename, \"r\") as f:\n",
    "                for line in f:\n",
    "                    try:\n",
    "                        ep_r = float(line)\n",
    "                    except:\n",
    "                        continue\n",
    "                    run_logs.append(ep_r)\n",
    "            DQN_Lengths.append(run_logs)\n",
    "            run_logs_c = np.cumsum(run_logs).astype(np.int32)\n",
    "            DQN_Lengths_C.append(run_logs_c)\n",
    "        DQN_Smoothed = []\n",
    "        for times, rewards in zip(DQN_Lengths_C, DQN_Rewards):\n",
    "#             linear = interp1d(times, rewards, kind=\"linear\")\n",
    "#             linear_rewards = linear([i for i in range(500000)])\n",
    "#             DQN_Smoothed.append(linear_rewards)\n",
    "            spline_rewards = spline(times, rewards, [i for i in range(0, t_max, step)])\n",
    "            DQN_Smoothed.append(spline_rewards)\n",
    "        DQN_Means = np.mean(DQN_Smoothed, axis=0)\n",
    "        DQN_Stds = np.std(DQN_Smoothed, axis=0)\n",
    "        plt.fill_between([i for i in range(0, t_max, step)], DQN_Means - DQN_Stds, DQN_Means + DQN_Stds, color=color, alpha=0.2, edgecolor=\"white\")\n",
    "\n",
    "        plt.plot([i for i in range(0, t_max, step)], DQN_Means, color=color)\n",
    "\n",
    "    plt.title(\"Episode_Reward\")\n",
    "    plt.xlabel(\"T\")\n",
    "    plt.ylabel(\"Reward\")\n",
    "    if legends is not None:\n",
    "        plt.legend(legends, bbox_to_anchor=(1.05, 1), loc=2)\n",
    "    plt.show()"
   ]
  },
  {
   "cell_type": "code",
   "execution_count": 9,
   "metadata": {
    "collapsed": true,
    "deletable": true,
    "editable": true
   },
   "outputs": [],
   "source": [
    "from bokeh.models import Legend\n",
    "from bokeh.models.formatters import BasicTickFormatter\n",
    "from bokeh.models import HoverTool, TapTool"
   ]
  },
  {
   "cell_type": "code",
   "execution_count": 10,
   "metadata": {
    "collapsed": false,
    "deletable": true,
    "editable": true
   },
   "outputs": [],
   "source": [
    "def plot_averages_b(names, t_maxs, colors, legends, directories=\"Logs/\", step=10, title=\"\"):\n",
    "#     plt.figure(figsize=(10,10))\n",
    "    p = figure(width=800, height=800, y_range=(-1.2, 3.2), title=title)\n",
    "    p.toolbar_location = \"above\"\n",
    "    p.yaxis.axis_label = \"Episode Reward\"\n",
    "    p.xaxis.axis_label = \"T\"\n",
    "    p.xaxis.formatter = BasicTickFormatter(use_scientific=False)\n",
    "#     p = figure(width=800, height=500)\n",
    "    lines = []\n",
    "    alpha_lines = []\n",
    "    if isinstance(directories, str):\n",
    "        dd = directories\n",
    "        directories = [dd for _ in names]\n",
    "    for name, color, t_max, legend, directory in zip(names, colors, t_maxs, legends, directories):\n",
    "#         print(directory)\n",
    "        DQN_Rewards_Path = directory + \"*\" + name + \"*/logs/Episode_Rewards.txt\"\n",
    "        DQN_Lengths_Path = directory + \"*\" + name + \"*/logs/Episode_Lengths.txt\"\n",
    "        DQN_Rewards = []\n",
    "        DQN_Lengths = []\n",
    "        DQN_Lengths_C = []\n",
    "        for filename in glob.glob(DQN_Rewards_Path):\n",
    "            run_logs = [0]\n",
    "            with open(filename, \"r\") as f:\n",
    "#                 print(f)\n",
    "                for line in f:\n",
    "                    try:\n",
    "                        ep_r = float(line)\n",
    "                    except:\n",
    "                        print(\"Nothing here for:\", filename)\n",
    "                        continue\n",
    "                    run_logs.append(ep_r)\n",
    "            DQN_Rewards.append(run_logs)\n",
    "        for filename in glob.glob(DQN_Lengths_Path):\n",
    "            run_logs = [0]\n",
    "        #     print(filename)\n",
    "            with open(filename, \"r\") as f:\n",
    "                for line in f:\n",
    "                    try:\n",
    "                        ep_r = float(line)\n",
    "                    except:\n",
    "                        continue\n",
    "                    run_logs.append(ep_r)\n",
    "            DQN_Lengths.append(run_logs)\n",
    "            run_logs_c = np.cumsum(run_logs).astype(np.int32)\n",
    "            DQN_Lengths_C.append(run_logs_c)\n",
    "        DQN_Smoothed = []\n",
    "        for times, rewards in zip(DQN_Lengths_C, DQN_Rewards):\n",
    "#             linear = interp1d(times, rewards, kind=\"linear\")\n",
    "#             linear_rewards = linear([i for i in range(500000)])\n",
    "#             DQN_Smoothed.append(linear_rewards)\n",
    "            spline_rewards = spline(times, rewards, [i for i in range(0, t_max, step)], order=1)\n",
    "            DQN_Smoothed.append(spline_rewards)\n",
    "        DQN_Means = np.mean(DQN_Smoothed, axis=0)\n",
    "        DQN_Stds = np.std(DQN_Smoothed, axis=0)\n",
    "        \n",
    "#         plt.fill_between([i for i in range(0, t_max, step)], DQN_Means - DQN_Stds, DQN_Means + DQN_Stds, color=color, alpha=0.2, edgecolor=\"white\")\n",
    "        # Error bars\n",
    "        xs = [i for i in range(0, t_max, step)]\n",
    "        xs = xs + list(reversed(xs))\n",
    "        ys = np.concatenate([DQN_Means - DQN_Stds, np.flip(DQN_Means + DQN_Stds, axis=0)])\n",
    "        lls = p.patch(xs, ys, color=color, alpha=0.1)\n",
    "\n",
    "        \n",
    "#         for x, y, yerr in zip(range(0, t_max, step), DQN_Means, DQN_Stds):\n",
    "#             lls = p.line([x, x], [y - yerr, y + yerr], color=color, alpha=0.1, hover_alpha=0.8)\n",
    "#             alpha_lines.append(lls)\n",
    "            \n",
    "\n",
    "#         plt.plot([i for i in range(0, t_max, step)], DQN_Means, color=color)\n",
    "        l = p.line([i for i in range(0, t_max, step)], DQN_Means, color=color, line_width=2)\n",
    "        lines.append(l)\n",
    "#         alpha_lines.append(lls)\n",
    "\n",
    "#     plt.title(\"Episode_Reward\")\n",
    "#     plt.xlabel(\"T\")\n",
    "#     plt.ylabel(\"Reward\")\n",
    "#     if legends is not None:\n",
    "#         plt.legend(legends)\n",
    "#     plt.show()\n",
    "#     p.line([0,1], [-1,3])\n",
    "    new_leg = Legend(items=[(name, [line]) for name, line in zip(legends, lines)], location=(0,-30))\n",
    "    p.add_layout(new_leg, \"right\")\n",
    "#     p.add_tools(HoverTool(renderers=alpha_lines))\n",
    "#     p.add_tools(TapTool(renderers=alpha_lines))\n",
    "    show(p)"
   ]
  },
  {
   "cell_type": "code",
   "execution_count": 41,
   "metadata": {
    "collapsed": false
   },
   "outputs": [],
   "source": [
    "def plot_states(names, t_maxs, colors, legends, directories=\"Logs/\", step=10, title=\"\"):\n",
    "#     plt.figure(figsize=(10,10))\n",
    "    p = figure(width=1200, height=800, title=title)\n",
    "    p.toolbar_location = \"above\"\n",
    "    p.yaxis.axis_label = \"States visited\"\n",
    "    p.xaxis.axis_label = \"T\"\n",
    "    p.xaxis.formatter = BasicTickFormatter(use_scientific=False)\n",
    "#     p = figure(width=800, height=500)\n",
    "    lines = []\n",
    "    alpha_lines = []\n",
    "    if isinstance(directories, str):\n",
    "        dd = directories\n",
    "        directories = [dd for _ in names]\n",
    "    for name, color, t_max, legend, directory in zip(names, colors, t_maxs, legends, directories):\n",
    "#         print(directory)\n",
    "        States_Path = directory + \"*\" + name + \"*/logs/Player_Positions.txt\"\n",
    "        States = []\n",
    "        for filename in glob.glob(States_Path):\n",
    "            run_logs = []\n",
    "            with open(filename, \"r\") as f:\n",
    "#                 print(f)\n",
    "                for line in f:\n",
    "                    try:\n",
    "                        ep_r = str(line)\n",
    "#                         print(ep_r)\n",
    "                    except:\n",
    "                        print(\"Nothing here for:\", filename)\n",
    "                        continue\n",
    "                    run_logs.append(ep_r)\n",
    "            States.append(run_logs)\n",
    "        States_Visited = []\n",
    "        for run in States:\n",
    "            Visited = []\n",
    "            States_Sets = set()\n",
    "#             print(len(run))\n",
    "            for ii, s in enumerate(run):\n",
    "                if ii >= t_max - 1:\n",
    "                    break\n",
    "#                 print(s)\n",
    "                States_Sets.add(s)\n",
    "                if ii % step == 0:\n",
    "                    Visited.append(len(States_Sets))\n",
    "#             print(len(States_Sets))\n",
    "#             print(len(Visited))\n",
    "            States_Visited.append(Visited)\n",
    "#         print(np.array(States_Visited).shape)\n",
    "        Means = np.mean(States_Visited, axis=0)\n",
    "        Stds = np.std(States_Visited, axis=0)\n",
    "#         print(Means.shape)\n",
    "        \n",
    "#         plt.fill_between([i for i in range(0, t_max, step)], DQN_Means - DQN_Stds, DQN_Means + DQN_Stds, color=color, alpha=0.2, edgecolor=\"white\")\n",
    "        # Error bars\n",
    "        xs = [i for i in range(0, t_max, step)]\n",
    "        xs = xs + list(reversed(xs))\n",
    "        ys = np.concatenate([Means - Stds, np.flip(Means + Stds, axis=0)])\n",
    "        lls = p.patch(xs, ys, color=color, alpha=0.1)\n",
    "\n",
    "        \n",
    "#         for x, y, yerr in zip(range(0, t_max, step), DQN_Means, DQN_Stds):\n",
    "#             lls = p.line([x, x], [y - yerr, y + yerr], color=color, alpha=0.1, hover_alpha=0.8)\n",
    "#             alpha_lines.append(lls)\n",
    "            \n",
    "\n",
    "#         plt.plot([i for i in range(0, t_max, step)], DQN_Means, color=color)\n",
    "        l = p.line([i for i in range(0, t_max, step)], Means, color=color, line_width=2)\n",
    "        lines.append(l)\n",
    "#         alpha_lines.append(lls)\n",
    "\n",
    "#     plt.title(\"Episode_Reward\")\n",
    "#     plt.xlabel(\"T\")\n",
    "#     plt.ylabel(\"Reward\")\n",
    "#     if legends is not None:\n",
    "#         plt.legend(legends)\n",
    "#     plt.show()\n",
    "#     p.line([0,1], [-1,3])\n",
    "    new_leg = Legend(items=[(name, [line]) for name, line in zip(legends, lines)], location=(0,-30))\n",
    "    p.add_layout(new_leg, \"right\")\n",
    "#     p.add_tools(HoverTool(renderers=alpha_lines))\n",
    "#     p.add_tools(TapTool(renderers=alpha_lines))\n",
    "    show(p)"
   ]
  },
  {
   "cell_type": "code",
   "execution_count": null,
   "metadata": {
    "collapsed": true,
    "deletable": true,
    "editable": true
   },
   "outputs": [],
   "source": []
  },
  {
   "cell_type": "code",
   "execution_count": 127,
   "metadata": {
    "collapsed": false,
    "deletable": true,
    "editable": true
   },
   "outputs": [
    {
     "name": "stdout",
     "output_type": "stream",
     "text": [
      "['_10_Step_*DQN_', '_10_Step_*k_Count_', '_10_Step_*_CountEps_']\n",
      "[300001, 300001, 300001]\n"
     ]
    }
   ],
   "source": [
    "names = []\n",
    "legends = []\n",
    "t_maxs = []\n",
    "directories = []\n",
    "\n",
    "            \n",
    "# Frontier stuff\n",
    "for step in [10]:\n",
    "    # DQN\n",
    "    names += [\"_{}_Step_*DQN_\".format(step)]\n",
    "    legends += [\"{}_Step_DQN\".format(step)]\n",
    "    t_maxs += [300001]\n",
    "#     continue\n",
    "    # PseudoCount\n",
    "    names += [\"_{}_Step_*k_Count_\".format(step)]\n",
    "    legends += [\"{}_Step_Count\".format(step)]\n",
    "    t_maxs += [300001]\n",
    "#     continue\n",
    "    # EpsilonScaling\n",
    "    names += [\"_{}_Step_*_CountEps_\".format(step)]\n",
    "    legends += [\"{}_Step_Epsilon_Scaling\".format(step)]\n",
    "    t_maxs += [300001]\n",
    "            \n",
    "    \n",
    "direc = \"/home/tabz/tmp/logfiles/MedMaze10/MedMaze10\"\n",
    "# directories =  [\"{}/{}\".format(dropbox_direc, \"Maze_5_Logs/\")] + 3 * [\"{}/{}\".format(dropbox_direc, \"Maze_5_Batch_Sizes_Logs/\")] \n",
    "directories += [direc + \"/EpsilonLogs/\"] * 3\n",
    "    \n",
    "print(names)\n",
    "print(t_maxs)\n",
    "# colours = [\"red\", \"#3366ff\", \"#66ff33\", \"yellow\"]\n",
    "# colours = rainbow(np.linspace(0, 1, len(names)))"
   ]
  },
  {
   "cell_type": "code",
   "execution_count": 128,
   "metadata": {
    "collapsed": false
   },
   "outputs": [
    {
     "name": "stdout",
     "output_type": "stream",
     "text": [
      "['_10_Step_*DQN_', '_10_Step_*k_Count_', '_10_Step_*_CountEps_', 'ForceAction', 'OptimisticAction', 'StateAction']\n",
      "[300001, 300001, 300001, 300001, 300001, 300001]\n",
      "['/home/tabz/tmp/logfiles/MedMaze10/MedMaze10/EpsilonLogs/', '/home/tabz/tmp/logfiles/MedMaze10/MedMaze10/EpsilonLogs/', '/home/tabz/tmp/logfiles/MedMaze10/MedMaze10/EpsilonLogs/', '/home/tabz/tmp/logfiles/MedMaze10/MedMaze10/BanditLogs/', '/home/tabz/tmp/logfiles/MedMaze10/MedMaze10/BanditLogs/', '/home/tabz/tmp/logfiles/MedMaze10/MedMaze10/BanditLogs/']\n"
     ]
    }
   ],
   "source": [
    "# names = []\n",
    "# legends = []\n",
    "# t_maxs = []\n",
    "\n",
    "            \n",
    "# Frontier bandit stuff\n",
    "\n",
    "# ForceAction\n",
    "names += [\"ForceAction\"]\n",
    "legends += [\"1_Step_ForceAction\"]\n",
    "t_maxs += [300001]\n",
    "\n",
    "# Optimistic\n",
    "names += [\"OptimisticAction\"]\n",
    "legends += [\"1_Step_OptimisticAction\"]\n",
    "t_maxs += [300001]\n",
    "\n",
    "# State action pseudo counts\n",
    "names += [\"StateAction\"]\n",
    "legends += [\"1_Step_Action_Count\"]\n",
    "t_maxs += [300001]\n",
    "            \n",
    "    \n",
    "direc = \"/home/tabz/tmp/logfiles/MedMaze10/MedMaze10\"\n",
    "# directories =  [\"{}/{}\".format(dropbox_direc, \"Maze_5_Logs/\")] + 3 * [\"{}/{}\".format(dropbox_direc, \"Maze_5_Batch_Sizes_Logs/\")] \n",
    "directories += [direc + \"/BanditLogs/\"] * 3\n",
    "    \n",
    "print(names)\n",
    "print(t_maxs)\n",
    "print(directories)\n",
    "# colours = [\"red\", \"#3366ff\", \"#66ff33\", \"yellow\"]\n",
    "# colours = rainbow(np.linspace(0, 1, len(names)))"
   ]
  },
  {
   "cell_type": "code",
   "execution_count": 129,
   "metadata": {
    "collapsed": true,
    "deletable": true,
    "editable": true
   },
   "outputs": [],
   "source": [
    "import itertools"
   ]
  },
  {
   "cell_type": "code",
   "execution_count": 130,
   "metadata": {
    "collapsed": false,
    "deletable": true,
    "editable": true
   },
   "outputs": [],
   "source": [
    "from bokeh.palettes import magma, inferno, Purples, Oranges, Greens, Reds, Set1, Set3, Paired, Dark2"
   ]
  },
  {
   "cell_type": "code",
   "execution_count": 131,
   "metadata": {
    "collapsed": false,
    "deletable": true,
    "editable": true
   },
   "outputs": [
    {
     "name": "stderr",
     "output_type": "stream",
     "text": [
      "/home/tabz/.local/lib/python3.6/site-packages/bokeh/models/sources.py:81: BokehUserWarning: ColumnDataSource's columns must be of the same length\n",
      "  lambda: warnings.warn(\"ColumnDataSource's columns must be of the same length\", BokehUserWarning))\n",
      "/home/tabz/.local/lib/python3.6/site-packages/bokeh/models/sources.py:81: BokehUserWarning: ColumnDataSource's columns must be of the same length\n",
      "  lambda: warnings.warn(\"ColumnDataSource's columns must be of the same length\", BokehUserWarning))\n",
      "/home/tabz/.local/lib/python3.6/site-packages/bokeh/models/sources.py:81: BokehUserWarning: ColumnDataSource's columns must be of the same length\n",
      "  lambda: warnings.warn(\"ColumnDataSource's columns must be of the same length\", BokehUserWarning))\n",
      "/home/tabz/.local/lib/python3.6/site-packages/bokeh/models/sources.py:81: BokehUserWarning: ColumnDataSource's columns must be of the same length\n",
      "  lambda: warnings.warn(\"ColumnDataSource's columns must be of the same length\", BokehUserWarning))\n",
      "/home/tabz/.local/lib/python3.6/site-packages/bokeh/models/sources.py:81: BokehUserWarning: ColumnDataSource's columns must be of the same length\n",
      "  lambda: warnings.warn(\"ColumnDataSource's columns must be of the same length\", BokehUserWarning))\n",
      "/home/tabz/.local/lib/python3.6/site-packages/bokeh/models/sources.py:81: BokehUserWarning: ColumnDataSource's columns must be of the same length\n",
      "  lambda: warnings.warn(\"ColumnDataSource's columns must be of the same length\", BokehUserWarning))\n",
      "/home/tabz/.local/lib/python3.6/site-packages/bokeh/models/sources.py:81: BokehUserWarning: ColumnDataSource's columns must be of the same length\n",
      "  lambda: warnings.warn(\"ColumnDataSource's columns must be of the same length\", BokehUserWarning))\n",
      "/home/tabz/.local/lib/python3.6/site-packages/bokeh/models/sources.py:81: BokehUserWarning: ColumnDataSource's columns must be of the same length\n",
      "  lambda: warnings.warn(\"ColumnDataSource's columns must be of the same length\", BokehUserWarning))\n",
      "/home/tabz/.local/lib/python3.6/site-packages/bokeh/models/sources.py:81: BokehUserWarning: ColumnDataSource's columns must be of the same length\n",
      "  lambda: warnings.warn(\"ColumnDataSource's columns must be of the same length\", BokehUserWarning))\n",
      "/home/tabz/.local/lib/python3.6/site-packages/bokeh/models/sources.py:81: BokehUserWarning: ColumnDataSource's columns must be of the same length\n",
      "  lambda: warnings.warn(\"ColumnDataSource's columns must be of the same length\", BokehUserWarning))\n",
      "/home/tabz/.local/lib/python3.6/site-packages/bokeh/models/sources.py:81: BokehUserWarning: ColumnDataSource's columns must be of the same length\n",
      "  lambda: warnings.warn(\"ColumnDataSource's columns must be of the same length\", BokehUserWarning))\n",
      "/home/tabz/.local/lib/python3.6/site-packages/bokeh/models/sources.py:81: BokehUserWarning: ColumnDataSource's columns must be of the same length\n",
      "  lambda: warnings.warn(\"ColumnDataSource's columns must be of the same length\", BokehUserWarning))\n"
     ]
    },
    {
     "data": {
      "text/html": [
       "\n",
       "\n",
       "    <div class=\"bk-root\">\n",
       "        <div class=\"bk-plotdiv\" id=\"f07851c6-a87f-48e4-947d-282db212eb78\"></div>\n",
       "    </div>\n",
       "<script type=\"text/javascript\">\n",
       "  \n",
       "  (function(global) {\n",
       "    function now() {\n",
       "      return new Date();\n",
       "    }\n",
       "  \n",
       "    var force = false;\n",
       "  \n",
       "    if (typeof (window._bokeh_onload_callbacks) === \"undefined\" || force === true) {\n",
       "      window._bokeh_onload_callbacks = [];\n",
       "      window._bokeh_is_loading = undefined;\n",
       "    }\n",
       "  \n",
       "  \n",
       "    \n",
       "    if (typeof (window._bokeh_timeout) === \"undefined\" || force === true) {\n",
       "      window._bokeh_timeout = Date.now() + 0;\n",
       "      window._bokeh_failed_load = false;\n",
       "    }\n",
       "  \n",
       "    var NB_LOAD_WARNING = {'data': {'text/html':\n",
       "       \"<div style='background-color: #fdd'>\\n\"+\n",
       "       \"<p>\\n\"+\n",
       "       \"BokehJS does not appear to have successfully loaded. If loading BokehJS from CDN, this \\n\"+\n",
       "       \"may be due to a slow or bad network connection. Possible fixes:\\n\"+\n",
       "       \"</p>\\n\"+\n",
       "       \"<ul>\\n\"+\n",
       "       \"<li>re-rerun `output_notebook()` to attempt to load from CDN again, or</li>\\n\"+\n",
       "       \"<li>use INLINE resources instead, as so:</li>\\n\"+\n",
       "       \"</ul>\\n\"+\n",
       "       \"<code>\\n\"+\n",
       "       \"from bokeh.resources import INLINE\\n\"+\n",
       "       \"output_notebook(resources=INLINE)\\n\"+\n",
       "       \"</code>\\n\"+\n",
       "       \"</div>\"}};\n",
       "  \n",
       "    function display_loaded() {\n",
       "      if (window.Bokeh !== undefined) {\n",
       "        document.getElementById(\"f07851c6-a87f-48e4-947d-282db212eb78\").textContent = \"BokehJS successfully loaded.\";\n",
       "      } else if (Date.now() < window._bokeh_timeout) {\n",
       "        setTimeout(display_loaded, 100)\n",
       "      }\n",
       "    }\n",
       "  \n",
       "    function run_callbacks() {\n",
       "      window._bokeh_onload_callbacks.forEach(function(callback) { callback() });\n",
       "      delete window._bokeh_onload_callbacks\n",
       "      console.info(\"Bokeh: all callbacks have finished\");\n",
       "    }\n",
       "  \n",
       "    function load_libs(js_urls, callback) {\n",
       "      window._bokeh_onload_callbacks.push(callback);\n",
       "      if (window._bokeh_is_loading > 0) {\n",
       "        console.log(\"Bokeh: BokehJS is being loaded, scheduling callback at\", now());\n",
       "        return null;\n",
       "      }\n",
       "      if (js_urls == null || js_urls.length === 0) {\n",
       "        run_callbacks();\n",
       "        return null;\n",
       "      }\n",
       "      console.log(\"Bokeh: BokehJS not loaded, scheduling load and callback at\", now());\n",
       "      window._bokeh_is_loading = js_urls.length;\n",
       "      for (var i = 0; i < js_urls.length; i++) {\n",
       "        var url = js_urls[i];\n",
       "        var s = document.createElement('script');\n",
       "        s.src = url;\n",
       "        s.async = false;\n",
       "        s.onreadystatechange = s.onload = function() {\n",
       "          window._bokeh_is_loading--;\n",
       "          if (window._bokeh_is_loading === 0) {\n",
       "            console.log(\"Bokeh: all BokehJS libraries loaded\");\n",
       "            run_callbacks()\n",
       "          }\n",
       "        };\n",
       "        s.onerror = function() {\n",
       "          console.warn(\"failed to load library \" + url);\n",
       "        };\n",
       "        console.log(\"Bokeh: injecting script tag for BokehJS library: \", url);\n",
       "        document.getElementsByTagName(\"head\")[0].appendChild(s);\n",
       "      }\n",
       "    };var element = document.getElementById(\"f07851c6-a87f-48e4-947d-282db212eb78\");\n",
       "    if (element == null) {\n",
       "      console.log(\"Bokeh: ERROR: autoload.js configured with elementid 'f07851c6-a87f-48e4-947d-282db212eb78' but no matching script tag was found. \")\n",
       "      return false;\n",
       "    }\n",
       "  \n",
       "    var js_urls = [];\n",
       "  \n",
       "    var inline_js = [\n",
       "      function(Bokeh) {\n",
       "        (function() {\n",
       "          var fn = function() {\n",
       "            var docs_json = {\"ee5a5912-d00b-4838-b588-8ea17f7d2dee\":{\"roots\":{\"references\":[{\"attributes\":{\"callback\":null,\"column_names\":[\"x\",\"y\"],\"data\":{\"x\":[0,1000,2000,3000,4000,5000,6000,7000,8000,9000,10000,11000,12000,13000,14000,15000,16000,17000,18000,19000,20000,21000,22000,23000,24000,25000,26000,27000,28000,29000,30000,31000,32000,33000,34000,35000,36000,37000,38000,39000,40000,41000,42000,43000,44000,45000,46000,47000,48000,49000,50000,51000,52000,53000,54000,55000,56000,57000,58000,59000,60000,61000,62000,63000,64000,65000,66000,67000,68000,69000,70000,71000,72000,73000,74000,75000,76000,77000,78000,79000,80000,81000,82000,83000,84000,85000,86000,87000,88000,89000,90000,91000,92000,93000,94000,95000,96000,97000,98000,99000,100000,101000,102000,103000,104000,105000,106000,107000,108000,109000,110000,111000,112000,113000,114000,115000,116000,117000,118000,119000,120000,121000,122000,123000,124000,125000,126000,127000,128000,129000,130000,131000,132000,133000,134000,135000,136000,137000,138000,139000,140000,141000,142000,143000,144000,145000,146000,147000,148000,149000,150000,151000,152000,153000,154000,155000,156000,157000,158000,159000,160000,161000,162000,163000,164000,165000,166000,167000,168000,169000,170000,171000,172000,173000,174000,175000,176000,177000,178000,179000,180000,181000,182000,183000,184000,185000,186000,187000,188000,189000,190000,191000,192000,193000,194000,195000,196000,197000,198000,199000,200000,201000,202000,203000,204000,205000,206000,207000,208000,209000,210000,211000,212000,213000,214000,215000,216000,217000,218000,219000,220000,221000,222000,223000,224000,225000,226000,227000,228000,229000,230000,231000,232000,233000,234000,235000,236000,237000,238000,239000,240000,241000,242000,243000,244000,245000,246000,247000,248000,249000,250000,251000,252000,253000,254000,255000,256000,257000,258000,259000,260000,261000,262000,263000,264000,265000,266000,267000,268000,269000,270000,271000,272000,273000,274000,275000,276000,277000,278000,279000,280000,281000,282000,283000,284000,285000,286000,287000,288000,289000,290000,291000,292000,293000,294000,295000,296000,297000,298000,299000,300000,300000,299000,298000,297000,296000,295000,294000,293000,292000,291000,290000,289000,288000,287000,286000,285000,284000,283000,282000,281000,280000,279000,278000,277000,276000,275000,274000,273000,272000,271000,270000,269000,268000,267000,266000,265000,264000,263000,262000,261000,260000,259000,258000,257000,256000,255000,254000,253000,252000,251000,250000,249000,248000,247000,246000,245000,244000,243000,242000,241000,240000,239000,238000,237000,236000,235000,234000,233000,232000,231000,230000,229000,228000,227000,226000,225000,224000,223000,222000,221000,220000,219000,218000,217000,216000,215000,214000,213000,212000,211000,210000,209000,208000,207000,206000,205000,204000,203000,202000,201000,200000,199000,198000,197000,196000,195000,194000,193000,192000,191000,190000,189000,188000,187000,186000,185000,184000,183000,182000,181000,180000,179000,178000,177000,176000,175000,174000,173000,172000,171000,170000,169000,168000,167000,166000,165000,164000,163000,162000,161000,160000,159000,158000,157000,156000,155000,154000,153000,152000,151000,150000,149000,148000,147000,146000,145000,144000,143000,142000,141000,140000,139000,138000,137000,136000,135000,134000,133000,132000,131000,130000,129000,128000,127000,126000,125000,124000,123000,122000,121000,120000,119000,118000,117000,116000,115000,114000,113000,112000,111000,110000,109000,108000,107000,106000,105000,104000,103000,102000,101000,100000,99000,98000,97000,96000,95000,94000,93000,92000,91000,90000,89000,88000,87000,86000,85000,84000,83000,82000,81000,80000,79000,78000,77000,76000,75000,74000,73000,72000,71000,70000,69000,68000,67000,66000,65000,64000,63000,62000,61000,60000,59000,58000,57000,56000,55000,54000,53000,52000,51000,50000,49000,48000,47000,46000,45000,44000,43000,42000,41000,40000,39000,38000,37000,36000,35000,34000,33000,32000,31000,30000,29000,28000,27000,26000,25000,24000,23000,22000,21000,20000,19000,18000,17000,16000,15000,14000,13000,12000,11000,10000,9000,8000,7000,6000,5000,4000,3000,2000,1000,0],\"y\":{\"__ndarray__\":\"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\",\"dtype\":\"float64\",\"shape\":[600]}}},\"id\":\"6196f5b6-7ec3-426c-a428-bb19e2ad131a\",\"type\":\"ColumnDataSource\"},{\"attributes\":{\"label\":{\"value\":\"10_Step_Epsilon_Scaling\"},\"renderers\":[{\"id\":\"1a8744e6-a962-4ff7-9648-61776019b87b\",\"type\":\"GlyphRenderer\"}]},\"id\":\"da49a91d-ec68-4b3a-9bfa-4d80f65f87de\",\"type\":\"LegendItem\"},{\"attributes\":{\"bottom_units\":\"screen\",\"fill_alpha\":{\"value\":0.5},\"fill_color\":{\"value\":\"lightgrey\"},\"left_units\":\"screen\",\"level\":\"overlay\",\"line_alpha\":{\"value\":1.0},\"line_color\":{\"value\":\"black\"},\"line_dash\":[4,4],\"line_width\":{\"value\":2},\"plot\":null,\"render_mode\":\"css\",\"right_units\":\"screen\",\"top_units\":\"screen\"},\"id\":\"f9120e24-6933-4ab8-ac6d-18180c93dc82\",\"type\":\"BoxAnnotation\"},{\"attributes\":{\"label\":{\"value\":\"10_Step_DQN\"},\"renderers\":[{\"id\":\"01a671f8-a09d-46a1-b15a-b99f98acc345\",\"type\":\"GlyphRenderer\"}]},\"id\":\"697b48dc-43b1-4136-b5e5-a084833e4a4f\",\"type\":\"LegendItem\"},{\"attributes\":{\"plot\":{\"id\":\"e6ec79ab-8586-437c-92ad-1369b9f53130\",\"subtype\":\"Figure\",\"type\":\"Plot\"}},\"id\":\"d363d4eb-e57d-4739-98b1-7566f67a8732\",\"type\":\"PanTool\"},{\"attributes\":{\"data_source\":{\"id\":\"132ef4ca-dceb-4198-9b24-6df147ffd7b0\",\"type\":\"ColumnDataSource\"},\"glyph\":{\"id\":\"ca66c44f-1a0c-4e45-a8f3-6acc95e98e71\",\"type\":\"Line\"},\"hover_glyph\":null,\"nonselection_glyph\":{\"id\":\"83282104-b75f-43d8-ac19-6b7a85e35102\",\"type\":\"Line\"},\"selection_glyph\":null},\"id\":\"7ef86afb-0fb7-40cd-90a3-e0d1fa14d542\",\"type\":\"GlyphRenderer\"},{\"attributes\":{\"callback\":null,\"column_names\":[\"x\",\"y\"],\"data\":{\"x\":[0,1000,2000,3000,4000,5000,6000,7000,8000,9000,10000,11000,12000,13000,14000,15000,16000,17000,18000,19000,20000,21000,22000,23000,24000,25000,26000,27000,28000,29000,30000,31000,32000,33000,34000,35000,36000,37000,38000,39000,40000,41000,42000,43000,44000,45000,46000,47000,48000,49000,50000,51000,52000,53000,54000,55000,56000,57000,58000,59000,60000,61000,62000,63000,64000,65000,66000,67000,68000,69000,70000,71000,72000,73000,74000,75000,76000,77000,78000,79000,80000,81000,82000,83000,84000,85000,86000,87000,88000,89000,90000,91000,92000,93000,94000,95000,96000,97000,98000,99000,100000,101000,102000,103000,104000,105000,106000,107000,108000,109000,110000,111000,112000,113000,114000,115000,116000,117000,118000,119000,120000,121000,122000,123000,124000,125000,126000,127000,128000,129000,130000,131000,132000,133000,134000,135000,136000,137000,138000,139000,140000,141000,142000,143000,144000,145000,146000,147000,148000,149000,150000,151000,152000,153000,154000,155000,156000,157000,158000,159000,160000,161000,162000,163000,164000,165000,166000,167000,168000,169000,170000,171000,172000,173000,174000,175000,176000,177000,178000,179000,180000,181000,182000,183000,184000,185000,186000,187000,188000,189000,190000,191000,192000,193000,194000,195000,196000,197000,198000,199000,200000,201000,202000,203000,204000,205000,206000,207000,208000,209000,210000,211000,212000,213000,214000,215000,216000,217000,218000,219000,220000,221000,222000,223000,224000,225000,226000,227000,228000,229000,230000,231000,232000,233000,234000,235000,236000,237000,238000,239000,240000,241000,242000,243000,244000,245000,246000,247000,248000,249000,250000,251000,252000,253000,254000,255000,256000,257000,258000,259000,260000,261000,262000,263000,264000,265000,266000,267000,268000,269000,270000,271000,272000,273000,274000,275000,276000,277000,278000,279000,280000,281000,282000,283000,284000,285000,286000,287000,288000,289000,290000,291000,292000,293000,294000,295000,296000,297000,298000,299000,300000],\"y\":{\"__ndarray__\":\"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\",\"dtype\":\"float64\",\"shape\":[300]}}},\"id\":\"132ef4ca-dceb-4198-9b24-6df147ffd7b0\",\"type\":\"ColumnDataSource\"},{\"attributes\":{\"label\":{\"value\":\"1_Step_OptimisticAction\"},\"renderers\":[{\"id\":\"6138085a-e01e-4c2c-9bd1-e007c8c5a0b4\",\"type\":\"GlyphRenderer\"}]},\"id\":\"a9b4483d-6fd1-4706-99c3-bfb09f9ad772\",\"type\":\"LegendItem\"},{\"attributes\":{\"plot\":{\"id\":\"e6ec79ab-8586-437c-92ad-1369b9f53130\",\"subtype\":\"Figure\",\"type\":\"Plot\"}},\"id\":\"fbace72a-30e3-4597-8cfe-54dc1766a820\",\"type\":\"WheelZoomTool\"},{\"attributes\":{\"callback\":null,\"column_names\":[\"x\",\"y\"],\"data\":{\"x\":[0,1000,2000,3000,4000,5000,6000,7000,8000,9000,10000,11000,12000,13000,14000,15000,16000,17000,18000,19000,20000,21000,22000,23000,24000,25000,26000,27000,28000,29000,30000,31000,32000,33000,34000,35000,36000,37000,38000,39000,40000,41000,42000,43000,44000,45000,46000,47000,48000,49000,50000,51000,52000,53000,54000,55000,56000,57000,58000,59000,60000,61000,62000,63000,64000,65000,66000,67000,68000,69000,70000,71000,72000,73000,74000,75000,76000,77000,78000,79000,80000,81000,82000,83000,84000,85000,86000,87000,88000,89000,90000,91000,92000,93000,94000,95000,96000,97000,98000,99000,100000,101000,102000,103000,104000,105000,106000,107000,108000,109000,110000,111000,112000,113000,114000,115000,116000,117000,118000,119000,120000,121000,122000,123000,124000,125000,126000,127000,128000,129000,130000,131000,132000,133000,134000,135000,136000,137000,138000,139000,140000,141000,142000,143000,144000,145000,146000,147000,148000,149000,150000,151000,152000,153000,154000,155000,156000,157000,158000,159000,160000,161000,162000,163000,164000,165000,166000,167000,168000,169000,170000,171000,172000,173000,174000,175000,176000,177000,178000,179000,180000,181000,182000,183000,184000,185000,186000,187000,188000,189000,190000,191000,192000,193000,194000,195000,196000,197000,198000,199000,200000,201000,202000,203000,204000,205000,206000,207000,208000,209000,210000,211000,212000,213000,214000,215000,216000,217000,218000,219000,220000,221000,222000,223000,224000,225000,226000,227000,228000,229000,230000,231000,232000,233000,234000,235000,236000,237000,238000,239000,240000,241000,242000,243000,244000,245000,246000,247000,248000,249000,250000,251000,252000,253000,254000,255000,256000,257000,258000,259000,260000,261000,262000,263000,264000,265000,266000,267000,268000,269000,270000,271000,272000,273000,274000,275000,276000,277000,278000,279000,280000,281000,282000,283000,284000,285000,286000,287000,288000,289000,290000,291000,292000,293000,294000,295000,296000,297000,298000,299000,300000],\"y\":{\"__ndarray__\":\"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\",\"dtype\":\"float64\",\"shape\":[300]}}},\"id\":\"d6188a52-f9c9-45a5-9f55-6caabc270140\",\"type\":\"ColumnDataSource\"},{\"attributes\":{\"label\":{\"value\":\"1_Step_ForceAction\"},\"renderers\":[{\"id\":\"0d0cfae4-2a48-435c-9aee-7693d32785c9\",\"type\":\"GlyphRenderer\"}]},\"id\":\"3de056de-f08f-493d-ae88-45ed72fbc433\",\"type\":\"LegendItem\"},{\"attributes\":{\"overlay\":{\"id\":\"f9120e24-6933-4ab8-ac6d-18180c93dc82\",\"type\":\"BoxAnnotation\"},\"plot\":{\"id\":\"e6ec79ab-8586-437c-92ad-1369b9f53130\",\"subtype\":\"Figure\",\"type\":\"Plot\"}},\"id\":\"0280238a-0830-4f18-9e5e-ab0f15e0cb24\",\"type\":\"BoxZoomTool\"},{\"attributes\":{\"fill_alpha\":{\"value\":0.1},\"fill_color\":{\"value\":\"#1f77b4\"},\"line_alpha\":{\"value\":0.1},\"line_color\":{\"value\":\"#1f77b4\"},\"x\":{\"field\":\"x\"},\"y\":{\"field\":\"y\"}},\"id\":\"35092561-b252-4952-9f6b-1a43a546382b\",\"type\":\"Patch\"},{\"attributes\":{\"label\":{\"value\":\"1_Step_Action_Count\"},\"renderers\":[{\"id\":\"7ef86afb-0fb7-40cd-90a3-e0d1fa14d542\",\"type\":\"GlyphRenderer\"}]},\"id\":\"62a49b27-a00e-44a5-8857-8e0fc4b606e9\",\"type\":\"LegendItem\"},{\"attributes\":{\"plot\":{\"id\":\"e6ec79ab-8586-437c-92ad-1369b9f53130\",\"subtype\":\"Figure\",\"type\":\"Plot\"}},\"id\":\"6b0db4f4-0f08-4ebb-8e15-df9ef06dc24e\",\"type\":\"SaveTool\"},{\"attributes\":{\"plot\":{\"id\":\"e6ec79ab-8586-437c-92ad-1369b9f53130\",\"subtype\":\"Figure\",\"type\":\"Plot\"}},\"id\":\"40b99c0b-f534-42aa-ad20-86c4df3ded53\",\"type\":\"ResetTool\"},{\"attributes\":{\"data_source\":{\"id\":\"9c9afcde-e9d8-4604-9b21-d567bcdc8e0c\",\"type\":\"ColumnDataSource\"},\"glyph\":{\"id\":\"e0c89bfe-6c01-487c-a6a9-826c2078054e\",\"type\":\"Patch\"},\"hover_glyph\":null,\"nonselection_glyph\":{\"id\":\"b20eb1e8-6b77-4c8f-8ed4-11a4b293ddab\",\"type\":\"Patch\"},\"selection_glyph\":null},\"id\":\"8f65b799-428f-42ec-910f-80da200ba509\",\"type\":\"GlyphRenderer\"},{\"attributes\":{\"plot\":{\"id\":\"e6ec79ab-8586-437c-92ad-1369b9f53130\",\"subtype\":\"Figure\",\"type\":\"Plot\"}},\"id\":\"0e10e555-043c-4093-80f9-388cd73eabc9\",\"type\":\"HelpTool\"},{\"attributes\":{\"callback\":null,\"column_names\":[\"x\",\"y\"],\"data\":{\"x\":[0,1000,2000,3000,4000,5000,6000,7000,8000,9000,10000,11000,12000,13000,14000,15000,16000,17000,18000,19000,20000,21000,22000,23000,24000,25000,26000,27000,28000,29000,30000,31000,32000,33000,34000,35000,36000,37000,38000,39000,40000,41000,42000,43000,44000,45000,46000,47000,48000,49000,50000,51000,52000,53000,54000,55000,56000,57000,58000,59000,60000,61000,62000,63000,64000,65000,66000,67000,68000,69000,70000,71000,72000,73000,74000,75000,76000,77000,78000,79000,80000,81000,82000,83000,84000,85000,86000,87000,88000,89000,90000,91000,92000,93000,94000,95000,96000,97000,98000,99000,100000,101000,102000,103000,104000,105000,106000,107000,108000,109000,110000,111000,112000,113000,114000,115000,116000,117000,118000,119000,120000,121000,122000,123000,124000,125000,126000,127000,128000,129000,130000,131000,132000,133000,134000,135000,136000,137000,138000,139000,140000,141000,142000,143000,144000,145000,146000,147000,148000,149000,150000,151000,152000,153000,154000,155000,156000,157000,158000,159000,160000,161000,162000,163000,164000,165000,166000,167000,168000,169000,170000,171000,172000,173000,174000,175000,176000,177000,178000,179000,180000,181000,182000,183000,184000,185000,186000,187000,188000,189000,190000,191000,192000,193000,194000,195000,196000,197000,198000,199000,200000,201000,202000,203000,204000,205000,206000,207000,208000,209000,210000,211000,212000,213000,214000,215000,216000,217000,218000,219000,220000,221000,222000,223000,224000,225000,226000,227000,228000,229000,230000,231000,232000,233000,234000,235000,236000,237000,238000,239000,240000,241000,242000,243000,244000,245000,246000,247000,248000,249000,250000,251000,252000,253000,254000,255000,256000,257000,258000,259000,260000,261000,262000,263000,264000,265000,266000,267000,268000,269000,270000,271000,272000,273000,274000,275000,276000,277000,278000,279000,280000,281000,282000,283000,284000,285000,286000,287000,288000,289000,290000,291000,292000,293000,294000,295000,296000,297000,298000,299000,300000,300000,299000,298000,297000,296000,295000,294000,293000,292000,291000,290000,289000,288000,287000,286000,285000,284000,283000,282000,281000,280000,279000,278000,277000,276000,275000,274000,273000,272000,271000,270000,269000,268000,267000,266000,265000,264000,263000,262000,261000,260000,259000,258000,257000,256000,255000,254000,253000,252000,251000,250000,249000,248000,247000,246000,245000,244000,243000,242000,241000,240000,239000,238000,237000,236000,235000,234000,233000,232000,231000,230000,229000,228000,227000,226000,225000,224000,223000,222000,221000,220000,219000,218000,217000,216000,215000,214000,213000,212000,211000,210000,209000,208000,207000,206000,205000,204000,203000,202000,201000,200000,199000,198000,197000,196000,195000,194000,193000,192000,191000,190000,189000,188000,187000,186000,185000,184000,183000,182000,181000,180000,179000,178000,177000,176000,175000,174000,173000,172000,171000,170000,169000,168000,167000,166000,165000,164000,163000,162000,161000,160000,159000,158000,157000,156000,155000,154000,153000,152000,151000,150000,149000,148000,147000,146000,145000,144000,143000,142000,141000,140000,139000,138000,137000,136000,135000,134000,133000,132000,131000,130000,129000,128000,127000,126000,125000,124000,123000,122000,121000,120000,119000,118000,117000,116000,115000,114000,113000,112000,111000,110000,109000,108000,107000,106000,105000,104000,103000,102000,101000,100000,99000,98000,97000,96000,95000,94000,93000,92000,91000,90000,89000,88000,87000,86000,85000,84000,83000,82000,81000,80000,79000,78000,77000,76000,75000,74000,73000,72000,71000,70000,69000,68000,67000,66000,65000,64000,63000,62000,61000,60000,59000,58000,57000,56000,55000,54000,53000,52000,51000,50000,49000,48000,47000,46000,45000,44000,43000,42000,41000,40000,39000,38000,37000,36000,35000,34000,33000,32000,31000,30000,29000,28000,27000,26000,25000,24000,23000,22000,21000,20000,19000,18000,17000,16000,15000,14000,13000,12000,11000,10000,9000,8000,7000,6000,5000,4000,3000,2000,1000,0],\"y\":{\"__ndarray__\":\"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\",\"dtype\":\"float64\",\"shape\":[600]}}},\"id\":\"9c9afcde-e9d8-4604-9b21-d567bcdc8e0c\",\"type\":\"ColumnDataSource\"},{\"attributes\":{\"line_color\":{\"value\":\"#ff7f00\"},\"line_width\":{\"value\":2},\"x\":{\"field\":\"x\"},\"y\":{\"field\":\"y\"}},\"id\":\"9fde69db-4afc-434c-aa9d-1cf262d9795b\",\"type\":\"Line\"},{\"attributes\":{\"line_alpha\":{\"value\":0.1},\"line_color\":{\"value\":\"#1f77b4\"},\"line_width\":{\"value\":2},\"x\":{\"field\":\"x\"},\"y\":{\"field\":\"y\"}},\"id\":\"27c4e687-b302-4379-841d-443707c8c66c\",\"type\":\"Line\"},{\"attributes\":{\"callback\":null,\"column_names\":[\"x\",\"y\"],\"data\":{\"x\":[0,1000,2000,3000,4000,5000,6000,7000,8000,9000,10000,11000,12000,13000,14000,15000,16000,17000,18000,19000,20000,21000,22000,23000,24000,25000,26000,27000,28000,29000,30000,31000,32000,33000,34000,35000,36000,37000,38000,39000,40000,41000,42000,43000,44000,45000,46000,47000,48000,49000,50000,51000,52000,53000,54000,55000,56000,57000,58000,59000,60000,61000,62000,63000,64000,65000,66000,67000,68000,69000,70000,71000,72000,73000,74000,75000,76000,77000,78000,79000,80000,81000,82000,83000,84000,85000,86000,87000,88000,89000,90000,91000,92000,93000,94000,95000,96000,97000,98000,99000,100000,101000,102000,103000,104000,105000,106000,107000,108000,109000,110000,111000,112000,113000,114000,115000,116000,117000,118000,119000,120000,121000,122000,123000,124000,125000,126000,127000,128000,129000,130000,131000,132000,133000,134000,135000,136000,137000,138000,139000,140000,141000,142000,143000,144000,145000,146000,147000,148000,149000,150000,151000,152000,153000,154000,155000,156000,157000,158000,159000,160000,161000,162000,163000,164000,165000,166000,167000,168000,169000,170000,171000,172000,173000,174000,175000,176000,177000,178000,179000,180000,181000,182000,183000,184000,185000,186000,187000,188000,189000,190000,191000,192000,193000,194000,195000,196000,197000,198000,199000,200000,201000,202000,203000,204000,205000,206000,207000,208000,209000,210000,211000,212000,213000,214000,215000,216000,217000,218000,219000,220000,221000,222000,223000,224000,225000,226000,227000,228000,229000,230000,231000,232000,233000,234000,235000,236000,237000,238000,239000,240000,241000,242000,243000,244000,245000,246000,247000,248000,249000,250000,251000,252000,253000,254000,255000,256000,257000,258000,259000,260000,261000,262000,263000,264000,265000,266000,267000,268000,269000,270000,271000,272000,273000,274000,275000,276000,277000,278000,279000,280000,281000,282000,283000,284000,285000,286000,287000,288000,289000,290000,291000,292000,293000,294000,295000,296000,297000,298000,299000,300000,300000,299000,298000,297000,296000,295000,294000,293000,292000,291000,290000,289000,288000,287000,286000,285000,284000,283000,282000,281000,280000,279000,278000,277000,276000,275000,274000,273000,272000,271000,270000,269000,268000,267000,266000,265000,264000,263000,262000,261000,260000,259000,258000,257000,256000,255000,254000,253000,252000,251000,250000,249000,248000,247000,246000,245000,244000,243000,242000,241000,240000,239000,238000,237000,236000,235000,234000,233000,232000,231000,230000,229000,228000,227000,226000,225000,224000,223000,222000,221000,220000,219000,218000,217000,216000,215000,214000,213000,212000,211000,210000,209000,208000,207000,206000,205000,204000,203000,202000,201000,200000,199000,198000,197000,196000,195000,194000,193000,192000,191000,190000,189000,188000,187000,186000,185000,184000,183000,182000,181000,180000,179000,178000,177000,176000,175000,174000,173000,172000,171000,170000,169000,168000,167000,166000,165000,164000,163000,162000,161000,160000,159000,158000,157000,156000,155000,154000,153000,152000,151000,150000,149000,148000,147000,146000,145000,144000,143000,142000,141000,140000,139000,138000,137000,136000,135000,134000,133000,132000,131000,130000,129000,128000,127000,126000,125000,124000,123000,122000,121000,120000,119000,118000,117000,116000,115000,114000,113000,112000,111000,110000,109000,108000,107000,106000,105000,104000,103000,102000,101000,100000,99000,98000,97000,96000,95000,94000,93000,92000,91000,90000,89000,88000,87000,86000,85000,84000,83000,82000,81000,80000,79000,78000,77000,76000,75000,74000,73000,72000,71000,70000,69000,68000,67000,66000,65000,64000,63000,62000,61000,60000,59000,58000,57000,56000,55000,54000,53000,52000,51000,50000,49000,48000,47000,46000,45000,44000,43000,42000,41000,40000,39000,38000,37000,36000,35000,34000,33000,32000,31000,30000,29000,28000,27000,26000,25000,24000,23000,22000,21000,20000,19000,18000,17000,16000,15000,14000,13000,12000,11000,10000,9000,8000,7000,6000,5000,4000,3000,2000,1000,0],\"y\":{\"__ndarray__\":\"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\",\"dtype\":\"float64\",\"shape\":[600]}}},\"id\":\"9cc072c1-a570-4baa-b5dd-1f8d34f0fc57\",\"type\":\"ColumnDataSource\"},{\"attributes\":{\"line_alpha\":{\"value\":0.1},\"line_color\":{\"value\":\"#1f77b4\"},\"line_width\":{\"value\":2},\"x\":{\"field\":\"x\"},\"y\":{\"field\":\"y\"}},\"id\":\"bf8d952c-059a-4d52-852c-8fca49c1f869\",\"type\":\"Line\"},{\"attributes\":{\"data_source\":{\"id\":\"2c1ba34f-f1d8-4edf-9954-0cef983bf8c0\",\"type\":\"ColumnDataSource\"},\"glyph\":{\"id\":\"b10d1415-df1a-42b7-93dc-86dad7308703\",\"type\":\"Line\"},\"hover_glyph\":null,\"nonselection_glyph\":{\"id\":\"bf8d952c-059a-4d52-852c-8fca49c1f869\",\"type\":\"Line\"},\"selection_glyph\":null},\"id\":\"612bc00c-f327-498e-a3bb-3e169a58f3ab\",\"type\":\"GlyphRenderer\"},{\"attributes\":{\"fill_alpha\":{\"value\":0.1},\"fill_color\":{\"value\":\"#e41a1c\"},\"line_alpha\":{\"value\":0.1},\"line_color\":{\"value\":\"#e41a1c\"},\"x\":{\"field\":\"x\"},\"y\":{\"field\":\"y\"}},\"id\":\"0289b299-de0b-4632-b672-7257b41aba8e\",\"type\":\"Patch\"},{\"attributes\":{\"fill_alpha\":{\"value\":0.1},\"fill_color\":{\"value\":\"#1f77b4\"},\"line_alpha\":{\"value\":0.1},\"line_color\":{\"value\":\"#1f77b4\"},\"x\":{\"field\":\"x\"},\"y\":{\"field\":\"y\"}},\"id\":\"47e152bb-df66-49ec-bee1-8326b590643a\",\"type\":\"Patch\"},{\"attributes\":{\"line_alpha\":{\"value\":0.1},\"line_color\":{\"value\":\"#1f77b4\"},\"line_width\":{\"value\":2},\"x\":{\"field\":\"x\"},\"y\":{\"field\":\"y\"}},\"id\":\"c75bd1b1-242b-4871-b5df-5bb1800bb8c1\",\"type\":\"Line\"},{\"attributes\":{\"data_source\":{\"id\":\"1b35ffe7-c4b8-45ea-b119-4291bcb888e6\",\"type\":\"ColumnDataSource\"},\"glyph\":{\"id\":\"0289b299-de0b-4632-b672-7257b41aba8e\",\"type\":\"Patch\"},\"hover_glyph\":null,\"nonselection_glyph\":{\"id\":\"47e152bb-df66-49ec-bee1-8326b590643a\",\"type\":\"Patch\"},\"selection_glyph\":null},\"id\":\"502365e3-00ec-4a6c-a685-4eb294c284e0\",\"type\":\"GlyphRenderer\"},{\"attributes\":{\"data_source\":{\"id\":\"9cc072c1-a570-4baa-b5dd-1f8d34f0fc57\",\"type\":\"ColumnDataSource\"},\"glyph\":{\"id\":\"636918bc-9815-43db-8e49-b62bda6cc847\",\"type\":\"Patch\"},\"hover_glyph\":null,\"nonselection_glyph\":{\"id\":\"c25037e8-f551-4e03-9fc9-7a9e7e55209a\",\"type\":\"Patch\"},\"selection_glyph\":null},\"id\":\"379bf49a-eb83-4030-934f-b95d15466eb9\",\"type\":\"GlyphRenderer\"},{\"attributes\":{},\"id\":\"34ef1832-c618-4df0-9fb9-c59a927b14cf\",\"type\":\"BasicTickFormatter\"},{\"attributes\":{\"callback\":null,\"column_names\":[\"x\",\"y\"],\"data\":{\"x\":[0,1000,2000,3000,4000,5000,6000,7000,8000,9000,10000,11000,12000,13000,14000,15000,16000,17000,18000,19000,20000,21000,22000,23000,24000,25000,26000,27000,28000,29000,30000,31000,32000,33000,34000,35000,36000,37000,38000,39000,40000,41000,42000,43000,44000,45000,46000,47000,48000,49000,50000,51000,52000,53000,54000,55000,56000,57000,58000,59000,60000,61000,62000,63000,64000,65000,66000,67000,68000,69000,70000,71000,72000,73000,74000,75000,76000,77000,78000,79000,80000,81000,82000,83000,84000,85000,86000,87000,88000,89000,90000,91000,92000,93000,94000,95000,96000,97000,98000,99000,100000,101000,102000,103000,104000,105000,106000,107000,108000,109000,110000,111000,112000,113000,114000,115000,116000,117000,118000,119000,120000,121000,122000,123000,124000,125000,126000,127000,128000,129000,130000,131000,132000,133000,134000,135000,136000,137000,138000,139000,140000,141000,142000,143000,144000,145000,146000,147000,148000,149000,150000,151000,152000,153000,154000,155000,156000,157000,158000,159000,160000,161000,162000,163000,164000,165000,166000,167000,168000,169000,170000,171000,172000,173000,174000,175000,176000,177000,178000,179000,180000,181000,182000,183000,184000,185000,186000,187000,188000,189000,190000,191000,192000,193000,194000,195000,196000,197000,198000,199000,200000,201000,202000,203000,204000,205000,206000,207000,208000,209000,210000,211000,212000,213000,214000,215000,216000,217000,218000,219000,220000,221000,222000,223000,224000,225000,226000,227000,228000,229000,230000,231000,232000,233000,234000,235000,236000,237000,238000,239000,240000,241000,242000,243000,244000,245000,246000,247000,248000,249000,250000,251000,252000,253000,254000,255000,256000,257000,258000,259000,260000,261000,262000,263000,264000,265000,266000,267000,268000,269000,270000,271000,272000,273000,274000,275000,276000,277000,278000,279000,280000,281000,282000,283000,284000,285000,286000,287000,288000,289000,290000,291000,292000,293000,294000,295000,296000,297000,298000,299000,300000],\"y\":{\"__ndarray__\":\"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\",\"dtype\":\"float64\",\"shape\":[300]}}},\"id\":\"2c1ba34f-f1d8-4edf-9954-0cef983bf8c0\",\"type\":\"ColumnDataSource\"},{\"attributes\":{\"data_source\":{\"id\":\"6196f5b6-7ec3-426c-a428-bb19e2ad131a\",\"type\":\"ColumnDataSource\"},\"glyph\":{\"id\":\"f4fe655b-32a3-4b00-84a4-b284927b71c7\",\"type\":\"Patch\"},\"hover_glyph\":null,\"nonselection_glyph\":{\"id\":\"35092561-b252-4952-9f6b-1a43a546382b\",\"type\":\"Patch\"},\"selection_glyph\":null},\"id\":\"7bc337df-602d-40a6-9c36-24d2d2d2f432\",\"type\":\"GlyphRenderer\"},{\"attributes\":{\"line_color\":{\"value\":\"#984ea3\"},\"line_width\":{\"value\":2},\"x\":{\"field\":\"x\"},\"y\":{\"field\":\"y\"}},\"id\":\"7ad2b593-8158-4d3d-b161-267ad4f6d07b\",\"type\":\"Line\"},{\"attributes\":{\"line_color\":{\"value\":\"#4daf4a\"},\"line_width\":{\"value\":2},\"x\":{\"field\":\"x\"},\"y\":{\"field\":\"y\"}},\"id\":\"dfbe3598-4cc7-4ffe-ac77-5ada4010bc7f\",\"type\":\"Line\"},{\"attributes\":{\"fill_alpha\":{\"value\":0.1},\"fill_color\":{\"value\":\"#984ea3\"},\"line_alpha\":{\"value\":0.1},\"line_color\":{\"value\":\"#984ea3\"},\"x\":{\"field\":\"x\"},\"y\":{\"field\":\"y\"}},\"id\":\"0cf44ce5-9394-4058-a264-acea195bc9eb\",\"type\":\"Patch\"},{\"attributes\":{\"callback\":null,\"column_names\":[\"x\",\"y\"],\"data\":{\"x\":[0,1000,2000,3000,4000,5000,6000,7000,8000,9000,10000,11000,12000,13000,14000,15000,16000,17000,18000,19000,20000,21000,22000,23000,24000,25000,26000,27000,28000,29000,30000,31000,32000,33000,34000,35000,36000,37000,38000,39000,40000,41000,42000,43000,44000,45000,46000,47000,48000,49000,50000,51000,52000,53000,54000,55000,56000,57000,58000,59000,60000,61000,62000,63000,64000,65000,66000,67000,68000,69000,70000,71000,72000,73000,74000,75000,76000,77000,78000,79000,80000,81000,82000,83000,84000,85000,86000,87000,88000,89000,90000,91000,92000,93000,94000,95000,96000,97000,98000,99000,100000,101000,102000,103000,104000,105000,106000,107000,108000,109000,110000,111000,112000,113000,114000,115000,116000,117000,118000,119000,120000,121000,122000,123000,124000,125000,126000,127000,128000,129000,130000,131000,132000,133000,134000,135000,136000,137000,138000,139000,140000,141000,142000,143000,144000,145000,146000,147000,148000,149000,150000,151000,152000,153000,154000,155000,156000,157000,158000,159000,160000,161000,162000,163000,164000,165000,166000,167000,168000,169000,170000,171000,172000,173000,174000,175000,176000,177000,178000,179000,180000,181000,182000,183000,184000,185000,186000,187000,188000,189000,190000,191000,192000,193000,194000,195000,196000,197000,198000,199000,200000,201000,202000,203000,204000,205000,206000,207000,208000,209000,210000,211000,212000,213000,214000,215000,216000,217000,218000,219000,220000,221000,222000,223000,224000,225000,226000,227000,228000,229000,230000,231000,232000,233000,234000,235000,236000,237000,238000,239000,240000,241000,242000,243000,244000,245000,246000,247000,248000,249000,250000,251000,252000,253000,254000,255000,256000,257000,258000,259000,260000,261000,262000,263000,264000,265000,266000,267000,268000,269000,270000,271000,272000,273000,274000,275000,276000,277000,278000,279000,280000,281000,282000,283000,284000,285000,286000,287000,288000,289000,290000,291000,292000,293000,294000,295000,296000,297000,298000,299000,300000,300000,299000,298000,297000,296000,295000,294000,293000,292000,291000,290000,289000,288000,287000,286000,285000,284000,283000,282000,281000,280000,279000,278000,277000,276000,275000,274000,273000,272000,271000,270000,269000,268000,267000,266000,265000,264000,263000,262000,261000,260000,259000,258000,257000,256000,255000,254000,253000,252000,251000,250000,249000,248000,247000,246000,245000,244000,243000,242000,241000,240000,239000,238000,237000,236000,235000,234000,233000,232000,231000,230000,229000,228000,227000,226000,225000,224000,223000,222000,221000,220000,219000,218000,217000,216000,215000,214000,213000,212000,211000,210000,209000,208000,207000,206000,205000,204000,203000,202000,201000,200000,199000,198000,197000,196000,195000,194000,193000,192000,191000,190000,189000,188000,187000,186000,185000,184000,183000,182000,181000,180000,179000,178000,177000,176000,175000,174000,173000,172000,171000,170000,169000,168000,167000,166000,165000,164000,163000,162000,161000,160000,159000,158000,157000,156000,155000,154000,153000,152000,151000,150000,149000,148000,147000,146000,145000,144000,143000,142000,141000,140000,139000,138000,137000,136000,135000,134000,133000,132000,131000,130000,129000,128000,127000,126000,125000,124000,123000,122000,121000,120000,119000,118000,117000,116000,115000,114000,113000,112000,111000,110000,109000,108000,107000,106000,105000,104000,103000,102000,101000,100000,99000,98000,97000,96000,95000,94000,93000,92000,91000,90000,89000,88000,87000,86000,85000,84000,83000,82000,81000,80000,79000,78000,77000,76000,75000,74000,73000,72000,71000,70000,69000,68000,67000,66000,65000,64000,63000,62000,61000,60000,59000,58000,57000,56000,55000,54000,53000,52000,51000,50000,49000,48000,47000,46000,45000,44000,43000,42000,41000,40000,39000,38000,37000,36000,35000,34000,33000,32000,31000,30000,29000,28000,27000,26000,25000,24000,23000,22000,21000,20000,19000,18000,17000,16000,15000,14000,13000,12000,11000,10000,9000,8000,7000,6000,5000,4000,3000,2000,1000,0],\"y\":{\"__ndarray__\":\"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\",\"dtype\":\"float64\",\"shape\":[600]}}},\"id\":\"1b35ffe7-c4b8-45ea-b119-4291bcb888e6\",\"type\":\"ColumnDataSource\"},{\"attributes\":{\"data_source\":{\"id\":\"e67c5429-4123-4764-8544-81c124d10ebd\",\"type\":\"ColumnDataSource\"},\"glyph\":{\"id\":\"dfbe3598-4cc7-4ffe-ac77-5ada4010bc7f\",\"type\":\"Line\"},\"hover_glyph\":null,\"nonselection_glyph\":{\"id\":\"e7879d1c-4682-4b66-b94a-176737f6262d\",\"type\":\"Line\"},\"selection_glyph\":null},\"id\":\"1a8744e6-a962-4ff7-9648-61776019b87b\",\"type\":\"GlyphRenderer\"},{\"attributes\":{\"data_source\":{\"id\":\"a44b4429-d224-4ef7-b181-2e3c4944c6cf\",\"type\":\"ColumnDataSource\"},\"glyph\":{\"id\":\"9fde69db-4afc-434c-aa9d-1cf262d9795b\",\"type\":\"Line\"},\"hover_glyph\":null,\"nonselection_glyph\":{\"id\":\"c75bd1b1-242b-4871-b5df-5bb1800bb8c1\",\"type\":\"Line\"},\"selection_glyph\":null},\"id\":\"6138085a-e01e-4c2c-9bd1-e007c8c5a0b4\",\"type\":\"GlyphRenderer\"},{\"attributes\":{\"data_source\":{\"id\":\"d6188a52-f9c9-45a5-9f55-6caabc270140\",\"type\":\"ColumnDataSource\"},\"glyph\":{\"id\":\"7ad2b593-8158-4d3d-b161-267ad4f6d07b\",\"type\":\"Line\"},\"hover_glyph\":null,\"nonselection_glyph\":{\"id\":\"27c4e687-b302-4379-841d-443707c8c66c\",\"type\":\"Line\"},\"selection_glyph\":null},\"id\":\"0d0cfae4-2a48-435c-9aee-7693d32785c9\",\"type\":\"GlyphRenderer\"},{\"attributes\":{\"fill_alpha\":{\"value\":0.1},\"fill_color\":{\"value\":\"#1f77b4\"},\"line_alpha\":{\"value\":0.1},\"line_color\":{\"value\":\"#1f77b4\"},\"x\":{\"field\":\"x\"},\"y\":{\"field\":\"y\"}},\"id\":\"b20eb1e8-6b77-4c8f-8ed4-11a4b293ddab\",\"type\":\"Patch\"},{\"attributes\":{\"line_color\":{\"value\":\"#377eb8\"},\"line_width\":{\"value\":2},\"x\":{\"field\":\"x\"},\"y\":{\"field\":\"y\"}},\"id\":\"b10d1415-df1a-42b7-93dc-86dad7308703\",\"type\":\"Line\"},{\"attributes\":{\"data_source\":{\"id\":\"5810479a-2fea-4e0b-95cf-40f117a785c2\",\"type\":\"ColumnDataSource\"},\"glyph\":{\"id\":\"0cf44ce5-9394-4058-a264-acea195bc9eb\",\"type\":\"Patch\"},\"hover_glyph\":null,\"nonselection_glyph\":{\"id\":\"1dc87d51-24b8-4560-9262-ff6b5af18978\",\"type\":\"Patch\"},\"selection_glyph\":null},\"id\":\"6d5bf67d-33aa-4576-a2e3-4bf1afbc57e5\",\"type\":\"GlyphRenderer\"},{\"attributes\":{\"fill_alpha\":{\"value\":0.1},\"fill_color\":{\"value\":\"#ffff33\"},\"line_alpha\":{\"value\":0.1},\"line_color\":{\"value\":\"#ffff33\"},\"x\":{\"field\":\"x\"},\"y\":{\"field\":\"y\"}},\"id\":\"f4fe655b-32a3-4b00-84a4-b284927b71c7\",\"type\":\"Patch\"},{\"attributes\":{\"callback\":null,\"column_names\":[\"x\",\"y\"],\"data\":{\"x\":[0,1000,2000,3000,4000,5000,6000,7000,8000,9000,10000,11000,12000,13000,14000,15000,16000,17000,18000,19000,20000,21000,22000,23000,24000,25000,26000,27000,28000,29000,30000,31000,32000,33000,34000,35000,36000,37000,38000,39000,40000,41000,42000,43000,44000,45000,46000,47000,48000,49000,50000,51000,52000,53000,54000,55000,56000,57000,58000,59000,60000,61000,62000,63000,64000,65000,66000,67000,68000,69000,70000,71000,72000,73000,74000,75000,76000,77000,78000,79000,80000,81000,82000,83000,84000,85000,86000,87000,88000,89000,90000,91000,92000,93000,94000,95000,96000,97000,98000,99000,100000,101000,102000,103000,104000,105000,106000,107000,108000,109000,110000,111000,112000,113000,114000,115000,116000,117000,118000,119000,120000,121000,122000,123000,124000,125000,126000,127000,128000,129000,130000,131000,132000,133000,134000,135000,136000,137000,138000,139000,140000,141000,142000,143000,144000,145000,146000,147000,148000,149000,150000,151000,152000,153000,154000,155000,156000,157000,158000,159000,160000,161000,162000,163000,164000,165000,166000,167000,168000,169000,170000,171000,172000,173000,174000,175000,176000,177000,178000,179000,180000,181000,182000,183000,184000,185000,186000,187000,188000,189000,190000,191000,192000,193000,194000,195000,196000,197000,198000,199000,200000,201000,202000,203000,204000,205000,206000,207000,208000,209000,210000,211000,212000,213000,214000,215000,216000,217000,218000,219000,220000,221000,222000,223000,224000,225000,226000,227000,228000,229000,230000,231000,232000,233000,234000,235000,236000,237000,238000,239000,240000,241000,242000,243000,244000,245000,246000,247000,248000,249000,250000,251000,252000,253000,254000,255000,256000,257000,258000,259000,260000,261000,262000,263000,264000,265000,266000,267000,268000,269000,270000,271000,272000,273000,274000,275000,276000,277000,278000,279000,280000,281000,282000,283000,284000,285000,286000,287000,288000,289000,290000,291000,292000,293000,294000,295000,296000,297000,298000,299000,300000],\"y\":{\"__ndarray__\":\"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\",\"dtype\":\"float64\",\"shape\":[300]}}},\"id\":\"e67c5429-4123-4764-8544-81c124d10ebd\",\"type\":\"ColumnDataSource\"},{\"attributes\":{\"callback\":null,\"column_names\":[\"x\",\"y\"],\"data\":{\"x\":[0,1000,2000,3000,4000,5000,6000,7000,8000,9000,10000,11000,12000,13000,14000,15000,16000,17000,18000,19000,20000,21000,22000,23000,24000,25000,26000,27000,28000,29000,30000,31000,32000,33000,34000,35000,36000,37000,38000,39000,40000,41000,42000,43000,44000,45000,46000,47000,48000,49000,50000,51000,52000,53000,54000,55000,56000,57000,58000,59000,60000,61000,62000,63000,64000,65000,66000,67000,68000,69000,70000,71000,72000,73000,74000,75000,76000,77000,78000,79000,80000,81000,82000,83000,84000,85000,86000,87000,88000,89000,90000,91000,92000,93000,94000,95000,96000,97000,98000,99000,100000,101000,102000,103000,104000,105000,106000,107000,108000,109000,110000,111000,112000,113000,114000,115000,116000,117000,118000,119000,120000,121000,122000,123000,124000,125000,126000,127000,128000,129000,130000,131000,132000,133000,134000,135000,136000,137000,138000,139000,140000,141000,142000,143000,144000,145000,146000,147000,148000,149000,150000,151000,152000,153000,154000,155000,156000,157000,158000,159000,160000,161000,162000,163000,164000,165000,166000,167000,168000,169000,170000,171000,172000,173000,174000,175000,176000,177000,178000,179000,180000,181000,182000,183000,184000,185000,186000,187000,188000,189000,190000,191000,192000,193000,194000,195000,196000,197000,198000,199000,200000,201000,202000,203000,204000,205000,206000,207000,208000,209000,210000,211000,212000,213000,214000,215000,216000,217000,218000,219000,220000,221000,222000,223000,224000,225000,226000,227000,228000,229000,230000,231000,232000,233000,234000,235000,236000,237000,238000,239000,240000,241000,242000,243000,244000,245000,246000,247000,248000,249000,250000,251000,252000,253000,254000,255000,256000,257000,258000,259000,260000,261000,262000,263000,264000,265000,266000,267000,268000,269000,270000,271000,272000,273000,274000,275000,276000,277000,278000,279000,280000,281000,282000,283000,284000,285000,286000,287000,288000,289000,290000,291000,292000,293000,294000,295000,296000,297000,298000,299000,300000,300000,299000,298000,297000,296000,295000,294000,293000,292000,291000,290000,289000,288000,287000,286000,285000,284000,283000,282000,281000,280000,279000,278000,277000,276000,275000,274000,273000,272000,271000,270000,269000,268000,267000,266000,265000,264000,263000,262000,261000,260000,259000,258000,257000,256000,255000,254000,253000,252000,251000,250000,249000,248000,247000,246000,245000,244000,243000,242000,241000,240000,239000,238000,237000,236000,235000,234000,233000,232000,231000,230000,229000,228000,227000,226000,225000,224000,223000,222000,221000,220000,219000,218000,217000,216000,215000,214000,213000,212000,211000,210000,209000,208000,207000,206000,205000,204000,203000,202000,201000,200000,199000,198000,197000,196000,195000,194000,193000,192000,191000,190000,189000,188000,187000,186000,185000,184000,183000,182000,181000,180000,179000,178000,177000,176000,175000,174000,173000,172000,171000,170000,169000,168000,167000,166000,165000,164000,163000,162000,161000,160000,159000,158000,157000,156000,155000,154000,153000,152000,151000,150000,149000,148000,147000,146000,145000,144000,143000,142000,141000,140000,139000,138000,137000,136000,135000,134000,133000,132000,131000,130000,129000,128000,127000,126000,125000,124000,123000,122000,121000,120000,119000,118000,117000,116000,115000,114000,113000,112000,111000,110000,109000,108000,107000,106000,105000,104000,103000,102000,101000,100000,99000,98000,97000,96000,95000,94000,93000,92000,91000,90000,89000,88000,87000,86000,85000,84000,83000,82000,81000,80000,79000,78000,77000,76000,75000,74000,73000,72000,71000,70000,69000,68000,67000,66000,65000,64000,63000,62000,61000,60000,59000,58000,57000,56000,55000,54000,53000,52000,51000,50000,49000,48000,47000,46000,45000,44000,43000,42000,41000,40000,39000,38000,37000,36000,35000,34000,33000,32000,31000,30000,29000,28000,27000,26000,25000,24000,23000,22000,21000,20000,19000,18000,17000,16000,15000,14000,13000,12000,11000,10000,9000,8000,7000,6000,5000,4000,3000,2000,1000,0],\"y\":{\"__ndarray__\":\"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\",\"dtype\":\"float64\",\"shape\":[600]}}},\"id\":\"5810479a-2fea-4e0b-95cf-40f117a785c2\",\"type\":\"ColumnDataSource\"},{\"attributes\":{\"line_alpha\":{\"value\":0.1},\"line_color\":{\"value\":\"#1f77b4\"},\"line_width\":{\"value\":2},\"x\":{\"field\":\"x\"},\"y\":{\"field\":\"y\"}},\"id\":\"e7879d1c-4682-4b66-b94a-176737f6262d\",\"type\":\"Line\"},{\"attributes\":{\"below\":[{\"id\":\"5b31cb64-e98a-4eba-9404-093ed94dbbbe\",\"type\":\"LinearAxis\"}],\"left\":[{\"id\":\"65c510f6-aead-4fc5-926c-efa6d2b87b48\",\"type\":\"LinearAxis\"}],\"plot_height\":800,\"plot_width\":1200,\"renderers\":[{\"id\":\"5b31cb64-e98a-4eba-9404-093ed94dbbbe\",\"type\":\"LinearAxis\"},{\"id\":\"f006cdbb-dcf1-45b2-91f1-36087f3804c8\",\"type\":\"Grid\"},{\"id\":\"65c510f6-aead-4fc5-926c-efa6d2b87b48\",\"type\":\"LinearAxis\"},{\"id\":\"aac2e5a7-ffcd-4b35-9abb-25f6aa87c982\",\"type\":\"Grid\"},{\"id\":\"f9120e24-6933-4ab8-ac6d-18180c93dc82\",\"type\":\"BoxAnnotation\"},{\"id\":\"502365e3-00ec-4a6c-a685-4eb294c284e0\",\"type\":\"GlyphRenderer\"},{\"id\":\"01a671f8-a09d-46a1-b15a-b99f98acc345\",\"type\":\"GlyphRenderer\"},{\"id\":\"379bf49a-eb83-4030-934f-b95d15466eb9\",\"type\":\"GlyphRenderer\"},{\"id\":\"612bc00c-f327-498e-a3bb-3e169a58f3ab\",\"type\":\"GlyphRenderer\"},{\"id\":\"8f841852-261c-4267-9d4b-a4c882bfa3a2\",\"type\":\"GlyphRenderer\"},{\"id\":\"1a8744e6-a962-4ff7-9648-61776019b87b\",\"type\":\"GlyphRenderer\"},{\"id\":\"6d5bf67d-33aa-4576-a2e3-4bf1afbc57e5\",\"type\":\"GlyphRenderer\"},{\"id\":\"0d0cfae4-2a48-435c-9aee-7693d32785c9\",\"type\":\"GlyphRenderer\"},{\"id\":\"8f65b799-428f-42ec-910f-80da200ba509\",\"type\":\"GlyphRenderer\"},{\"id\":\"6138085a-e01e-4c2c-9bd1-e007c8c5a0b4\",\"type\":\"GlyphRenderer\"},{\"id\":\"7bc337df-602d-40a6-9c36-24d2d2d2f432\",\"type\":\"GlyphRenderer\"},{\"id\":\"7ef86afb-0fb7-40cd-90a3-e0d1fa14d542\",\"type\":\"GlyphRenderer\"},{\"id\":\"39fcd405-79e2-40f4-a04d-14deb6662c31\",\"type\":\"Legend\"}],\"right\":[{\"id\":\"39fcd405-79e2-40f4-a04d-14deb6662c31\",\"type\":\"Legend\"}],\"title\":{\"id\":\"b27ab639-af62-464b-8fe0-ac028a9488c1\",\"type\":\"Title\"},\"tool_events\":{\"id\":\"96876962-22ef-4847-bd17-b0650c860ad3\",\"type\":\"ToolEvents\"},\"toolbar\":{\"id\":\"37d22255-71b1-4276-ada6-6f8a1bbeb956\",\"type\":\"Toolbar\"},\"toolbar_location\":\"above\",\"x_range\":{\"id\":\"1a86002b-b6d9-49fe-abea-cf215bea70df\",\"type\":\"DataRange1d\"},\"y_range\":{\"id\":\"b791ab79-28b9-411b-8c80-572a9c4dd40c\",\"type\":\"DataRange1d\"}},\"id\":\"e6ec79ab-8586-437c-92ad-1369b9f53130\",\"subtype\":\"Figure\",\"type\":\"Plot\"},{\"attributes\":{\"use_scientific\":false},\"id\":\"75ba01fd-4552-454c-bbbb-820dcefe61ef\",\"type\":\"BasicTickFormatter\"},{\"attributes\":{},\"id\":\"96876962-22ef-4847-bd17-b0650c860ad3\",\"type\":\"ToolEvents\"},{\"attributes\":{\"fill_alpha\":{\"value\":0.1},\"fill_color\":{\"value\":\"#1f77b4\"},\"line_alpha\":{\"value\":0.1},\"line_color\":{\"value\":\"#1f77b4\"},\"x\":{\"field\":\"x\"},\"y\":{\"field\":\"y\"}},\"id\":\"1dc87d51-24b8-4560-9262-ff6b5af18978\",\"type\":\"Patch\"},{\"attributes\":{\"plot\":null,\"text\":\"Med Maze 10\"},\"id\":\"b27ab639-af62-464b-8fe0-ac028a9488c1\",\"type\":\"Title\"},{\"attributes\":{\"data_source\":{\"id\":\"ebed576c-e8d6-4f4e-a11d-f2733d180451\",\"type\":\"ColumnDataSource\"},\"glyph\":{\"id\":\"77e317e5-e14b-4340-8a67-b77a9b79aa98\",\"type\":\"Patch\"},\"hover_glyph\":null,\"nonselection_glyph\":{\"id\":\"72875ce9-bc03-428f-9cec-8ae5e76a7a74\",\"type\":\"Patch\"},\"selection_glyph\":null},\"id\":\"8f841852-261c-4267-9d4b-a4c882bfa3a2\",\"type\":\"GlyphRenderer\"},{\"attributes\":{\"callback\":null},\"id\":\"1a86002b-b6d9-49fe-abea-cf215bea70df\",\"type\":\"DataRange1d\"},{\"attributes\":{\"active_drag\":\"auto\",\"active_scroll\":\"auto\",\"active_tap\":\"auto\",\"tools\":[{\"id\":\"d363d4eb-e57d-4739-98b1-7566f67a8732\",\"type\":\"PanTool\"},{\"id\":\"fbace72a-30e3-4597-8cfe-54dc1766a820\",\"type\":\"WheelZoomTool\"},{\"id\":\"0280238a-0830-4f18-9e5e-ab0f15e0cb24\",\"type\":\"BoxZoomTool\"},{\"id\":\"6b0db4f4-0f08-4ebb-8e15-df9ef06dc24e\",\"type\":\"SaveTool\"},{\"id\":\"40b99c0b-f534-42aa-ad20-86c4df3ded53\",\"type\":\"ResetTool\"},{\"id\":\"0e10e555-043c-4093-80f9-388cd73eabc9\",\"type\":\"HelpTool\"}]},\"id\":\"37d22255-71b1-4276-ada6-6f8a1bbeb956\",\"type\":\"Toolbar\"},{\"attributes\":{\"fill_alpha\":{\"value\":0.1},\"fill_color\":{\"value\":\"#ff7f00\"},\"line_alpha\":{\"value\":0.1},\"line_color\":{\"value\":\"#ff7f00\"},\"x\":{\"field\":\"x\"},\"y\":{\"field\":\"y\"}},\"id\":\"e0c89bfe-6c01-487c-a6a9-826c2078054e\",\"type\":\"Patch\"},{\"attributes\":{\"callback\":null},\"id\":\"b791ab79-28b9-411b-8c80-572a9c4dd40c\",\"type\":\"DataRange1d\"},{\"attributes\":{\"dimension\":1,\"plot\":{\"id\":\"e6ec79ab-8586-437c-92ad-1369b9f53130\",\"subtype\":\"Figure\",\"type\":\"Plot\"},\"ticker\":{\"id\":\"8971a739-9d30-42c7-a53a-74bee56561b8\",\"type\":\"BasicTicker\"}},\"id\":\"aac2e5a7-ffcd-4b35-9abb-25f6aa87c982\",\"type\":\"Grid\"},{\"attributes\":{\"callback\":null,\"column_names\":[\"x\",\"y\"],\"data\":{\"x\":[0,1000,2000,3000,4000,5000,6000,7000,8000,9000,10000,11000,12000,13000,14000,15000,16000,17000,18000,19000,20000,21000,22000,23000,24000,25000,26000,27000,28000,29000,30000,31000,32000,33000,34000,35000,36000,37000,38000,39000,40000,41000,42000,43000,44000,45000,46000,47000,48000,49000,50000,51000,52000,53000,54000,55000,56000,57000,58000,59000,60000,61000,62000,63000,64000,65000,66000,67000,68000,69000,70000,71000,72000,73000,74000,75000,76000,77000,78000,79000,80000,81000,82000,83000,84000,85000,86000,87000,88000,89000,90000,91000,92000,93000,94000,95000,96000,97000,98000,99000,100000,101000,102000,103000,104000,105000,106000,107000,108000,109000,110000,111000,112000,113000,114000,115000,116000,117000,118000,119000,120000,121000,122000,123000,124000,125000,126000,127000,128000,129000,130000,131000,132000,133000,134000,135000,136000,137000,138000,139000,140000,141000,142000,143000,144000,145000,146000,147000,148000,149000,150000,151000,152000,153000,154000,155000,156000,157000,158000,159000,160000,161000,162000,163000,164000,165000,166000,167000,168000,169000,170000,171000,172000,173000,174000,175000,176000,177000,178000,179000,180000,181000,182000,183000,184000,185000,186000,187000,188000,189000,190000,191000,192000,193000,194000,195000,196000,197000,198000,199000,200000,201000,202000,203000,204000,205000,206000,207000,208000,209000,210000,211000,212000,213000,214000,215000,216000,217000,218000,219000,220000,221000,222000,223000,224000,225000,226000,227000,228000,229000,230000,231000,232000,233000,234000,235000,236000,237000,238000,239000,240000,241000,242000,243000,244000,245000,246000,247000,248000,249000,250000,251000,252000,253000,254000,255000,256000,257000,258000,259000,260000,261000,262000,263000,264000,265000,266000,267000,268000,269000,270000,271000,272000,273000,274000,275000,276000,277000,278000,279000,280000,281000,282000,283000,284000,285000,286000,287000,288000,289000,290000,291000,292000,293000,294000,295000,296000,297000,298000,299000,300000],\"y\":{\"__ndarray__\":\"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\",\"dtype\":\"float64\",\"shape\":[300]}}},\"id\":\"a44b4429-d224-4ef7-b181-2e3c4944c6cf\",\"type\":\"ColumnDataSource\"},{\"attributes\":{\"axis_label\":\"T\",\"formatter\":{\"id\":\"75ba01fd-4552-454c-bbbb-820dcefe61ef\",\"type\":\"BasicTickFormatter\"},\"plot\":{\"id\":\"e6ec79ab-8586-437c-92ad-1369b9f53130\",\"subtype\":\"Figure\",\"type\":\"Plot\"},\"ticker\":{\"id\":\"93a0114a-0a0b-4545-93cd-377658bbaadb\",\"type\":\"BasicTicker\"}},\"id\":\"5b31cb64-e98a-4eba-9404-093ed94dbbbe\",\"type\":\"LinearAxis\"},{\"attributes\":{},\"id\":\"93a0114a-0a0b-4545-93cd-377658bbaadb\",\"type\":\"BasicTicker\"},{\"attributes\":{},\"id\":\"8971a739-9d30-42c7-a53a-74bee56561b8\",\"type\":\"BasicTicker\"},{\"attributes\":{\"plot\":{\"id\":\"e6ec79ab-8586-437c-92ad-1369b9f53130\",\"subtype\":\"Figure\",\"type\":\"Plot\"},\"ticker\":{\"id\":\"93a0114a-0a0b-4545-93cd-377658bbaadb\",\"type\":\"BasicTicker\"}},\"id\":\"f006cdbb-dcf1-45b2-91f1-36087f3804c8\",\"type\":\"Grid\"},{\"attributes\":{\"axis_label\":\"States visited\",\"formatter\":{\"id\":\"34ef1832-c618-4df0-9fb9-c59a927b14cf\",\"type\":\"BasicTickFormatter\"},\"plot\":{\"id\":\"e6ec79ab-8586-437c-92ad-1369b9f53130\",\"subtype\":\"Figure\",\"type\":\"Plot\"},\"ticker\":{\"id\":\"8971a739-9d30-42c7-a53a-74bee56561b8\",\"type\":\"BasicTicker\"}},\"id\":\"65c510f6-aead-4fc5-926c-efa6d2b87b48\",\"type\":\"LinearAxis\"},{\"attributes\":{\"line_alpha\":{\"value\":0.1},\"line_color\":{\"value\":\"#1f77b4\"},\"line_width\":{\"value\":2},\"x\":{\"field\":\"x\"},\"y\":{\"field\":\"y\"}},\"id\":\"83282104-b75f-43d8-ac19-6b7a85e35102\",\"type\":\"Line\"},{\"attributes\":{\"fill_alpha\":{\"value\":0.1},\"fill_color\":{\"value\":\"#1f77b4\"},\"line_alpha\":{\"value\":0.1},\"line_color\":{\"value\":\"#1f77b4\"},\"x\":{\"field\":\"x\"},\"y\":{\"field\":\"y\"}},\"id\":\"c25037e8-f551-4e03-9fc9-7a9e7e55209a\",\"type\":\"Patch\"},{\"attributes\":{\"callback\":null,\"column_names\":[\"x\",\"y\"],\"data\":{\"x\":[0,1000,2000,3000,4000,5000,6000,7000,8000,9000,10000,11000,12000,13000,14000,15000,16000,17000,18000,19000,20000,21000,22000,23000,24000,25000,26000,27000,28000,29000,30000,31000,32000,33000,34000,35000,36000,37000,38000,39000,40000,41000,42000,43000,44000,45000,46000,47000,48000,49000,50000,51000,52000,53000,54000,55000,56000,57000,58000,59000,60000,61000,62000,63000,64000,65000,66000,67000,68000,69000,70000,71000,72000,73000,74000,75000,76000,77000,78000,79000,80000,81000,82000,83000,84000,85000,86000,87000,88000,89000,90000,91000,92000,93000,94000,95000,96000,97000,98000,99000,100000,101000,102000,103000,104000,105000,106000,107000,108000,109000,110000,111000,112000,113000,114000,115000,116000,117000,118000,119000,120000,121000,122000,123000,124000,125000,126000,127000,128000,129000,130000,131000,132000,133000,134000,135000,136000,137000,138000,139000,140000,141000,142000,143000,144000,145000,146000,147000,148000,149000,150000,151000,152000,153000,154000,155000,156000,157000,158000,159000,160000,161000,162000,163000,164000,165000,166000,167000,168000,169000,170000,171000,172000,173000,174000,175000,176000,177000,178000,179000,180000,181000,182000,183000,184000,185000,186000,187000,188000,189000,190000,191000,192000,193000,194000,195000,196000,197000,198000,199000,200000,201000,202000,203000,204000,205000,206000,207000,208000,209000,210000,211000,212000,213000,214000,215000,216000,217000,218000,219000,220000,221000,222000,223000,224000,225000,226000,227000,228000,229000,230000,231000,232000,233000,234000,235000,236000,237000,238000,239000,240000,241000,242000,243000,244000,245000,246000,247000,248000,249000,250000,251000,252000,253000,254000,255000,256000,257000,258000,259000,260000,261000,262000,263000,264000,265000,266000,267000,268000,269000,270000,271000,272000,273000,274000,275000,276000,277000,278000,279000,280000,281000,282000,283000,284000,285000,286000,287000,288000,289000,290000,291000,292000,293000,294000,295000,296000,297000,298000,299000,300000,300000,299000,298000,297000,296000,295000,294000,293000,292000,291000,290000,289000,288000,287000,286000,285000,284000,283000,282000,281000,280000,279000,278000,277000,276000,275000,274000,273000,272000,271000,270000,269000,268000,267000,266000,265000,264000,263000,262000,261000,260000,259000,258000,257000,256000,255000,254000,253000,252000,251000,250000,249000,248000,247000,246000,245000,244000,243000,242000,241000,240000,239000,238000,237000,236000,235000,234000,233000,232000,231000,230000,229000,228000,227000,226000,225000,224000,223000,222000,221000,220000,219000,218000,217000,216000,215000,214000,213000,212000,211000,210000,209000,208000,207000,206000,205000,204000,203000,202000,201000,200000,199000,198000,197000,196000,195000,194000,193000,192000,191000,190000,189000,188000,187000,186000,185000,184000,183000,182000,181000,180000,179000,178000,177000,176000,175000,174000,173000,172000,171000,170000,169000,168000,167000,166000,165000,164000,163000,162000,161000,160000,159000,158000,157000,156000,155000,154000,153000,152000,151000,150000,149000,148000,147000,146000,145000,144000,143000,142000,141000,140000,139000,138000,137000,136000,135000,134000,133000,132000,131000,130000,129000,128000,127000,126000,125000,124000,123000,122000,121000,120000,119000,118000,117000,116000,115000,114000,113000,112000,111000,110000,109000,108000,107000,106000,105000,104000,103000,102000,101000,100000,99000,98000,97000,96000,95000,94000,93000,92000,91000,90000,89000,88000,87000,86000,85000,84000,83000,82000,81000,80000,79000,78000,77000,76000,75000,74000,73000,72000,71000,70000,69000,68000,67000,66000,65000,64000,63000,62000,61000,60000,59000,58000,57000,56000,55000,54000,53000,52000,51000,50000,49000,48000,47000,46000,45000,44000,43000,42000,41000,40000,39000,38000,37000,36000,35000,34000,33000,32000,31000,30000,29000,28000,27000,26000,25000,24000,23000,22000,21000,20000,19000,18000,17000,16000,15000,14000,13000,12000,11000,10000,9000,8000,7000,6000,5000,4000,3000,2000,1000,0],\"y\":{\"__ndarray__\":\"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\",\"dtype\":\"float64\",\"shape\":[600]}}},\"id\":\"ebed576c-e8d6-4f4e-a11d-f2733d180451\",\"type\":\"ColumnDataSource\"},{\"attributes\":{\"data_source\":{\"id\":\"f252673b-38dc-496d-a3a5-6dca1d46c311\",\"type\":\"ColumnDataSource\"},\"glyph\":{\"id\":\"b59de391-2fab-4a16-975c-0dfb55f18552\",\"type\":\"Line\"},\"hover_glyph\":null,\"nonselection_glyph\":{\"id\":\"c39c6351-36fc-4295-8d55-f0089e95934b\",\"type\":\"Line\"},\"selection_glyph\":null},\"id\":\"01a671f8-a09d-46a1-b15a-b99f98acc345\",\"type\":\"GlyphRenderer\"},{\"attributes\":{\"items\":[{\"id\":\"697b48dc-43b1-4136-b5e5-a084833e4a4f\",\"type\":\"LegendItem\"},{\"id\":\"33dff943-b242-4e7b-bfdc-484ab4ca8d10\",\"type\":\"LegendItem\"},{\"id\":\"da49a91d-ec68-4b3a-9bfa-4d80f65f87de\",\"type\":\"LegendItem\"},{\"id\":\"3de056de-f08f-493d-ae88-45ed72fbc433\",\"type\":\"LegendItem\"},{\"id\":\"a9b4483d-6fd1-4706-99c3-bfb09f9ad772\",\"type\":\"LegendItem\"},{\"id\":\"62a49b27-a00e-44a5-8857-8e0fc4b606e9\",\"type\":\"LegendItem\"}],\"location\":[0,-30],\"plot\":{\"id\":\"e6ec79ab-8586-437c-92ad-1369b9f53130\",\"subtype\":\"Figure\",\"type\":\"Plot\"}},\"id\":\"39fcd405-79e2-40f4-a04d-14deb6662c31\",\"type\":\"Legend\"},{\"attributes\":{\"fill_alpha\":{\"value\":0.1},\"fill_color\":{\"value\":\"#4daf4a\"},\"line_alpha\":{\"value\":0.1},\"line_color\":{\"value\":\"#4daf4a\"},\"x\":{\"field\":\"x\"},\"y\":{\"field\":\"y\"}},\"id\":\"77e317e5-e14b-4340-8a67-b77a9b79aa98\",\"type\":\"Patch\"},{\"attributes\":{\"line_color\":{\"value\":\"#e41a1c\"},\"line_width\":{\"value\":2},\"x\":{\"field\":\"x\"},\"y\":{\"field\":\"y\"}},\"id\":\"b59de391-2fab-4a16-975c-0dfb55f18552\",\"type\":\"Line\"},{\"attributes\":{\"fill_alpha\":{\"value\":0.1},\"fill_color\":{\"value\":\"#377eb8\"},\"line_alpha\":{\"value\":0.1},\"line_color\":{\"value\":\"#377eb8\"},\"x\":{\"field\":\"x\"},\"y\":{\"field\":\"y\"}},\"id\":\"636918bc-9815-43db-8e49-b62bda6cc847\",\"type\":\"Patch\"},{\"attributes\":{\"label\":{\"value\":\"10_Step_Count\"},\"renderers\":[{\"id\":\"612bc00c-f327-498e-a3bb-3e169a58f3ab\",\"type\":\"GlyphRenderer\"}]},\"id\":\"33dff943-b242-4e7b-bfdc-484ab4ca8d10\",\"type\":\"LegendItem\"},{\"attributes\":{\"callback\":null,\"column_names\":[\"x\",\"y\"],\"data\":{\"x\":[0,1000,2000,3000,4000,5000,6000,7000,8000,9000,10000,11000,12000,13000,14000,15000,16000,17000,18000,19000,20000,21000,22000,23000,24000,25000,26000,27000,28000,29000,30000,31000,32000,33000,34000,35000,36000,37000,38000,39000,40000,41000,42000,43000,44000,45000,46000,47000,48000,49000,50000,51000,52000,53000,54000,55000,56000,57000,58000,59000,60000,61000,62000,63000,64000,65000,66000,67000,68000,69000,70000,71000,72000,73000,74000,75000,76000,77000,78000,79000,80000,81000,82000,83000,84000,85000,86000,87000,88000,89000,90000,91000,92000,93000,94000,95000,96000,97000,98000,99000,100000,101000,102000,103000,104000,105000,106000,107000,108000,109000,110000,111000,112000,113000,114000,115000,116000,117000,118000,119000,120000,121000,122000,123000,124000,125000,126000,127000,128000,129000,130000,131000,132000,133000,134000,135000,136000,137000,138000,139000,140000,141000,142000,143000,144000,145000,146000,147000,148000,149000,150000,151000,152000,153000,154000,155000,156000,157000,158000,159000,160000,161000,162000,163000,164000,165000,166000,167000,168000,169000,170000,171000,172000,173000,174000,175000,176000,177000,178000,179000,180000,181000,182000,183000,184000,185000,186000,187000,188000,189000,190000,191000,192000,193000,194000,195000,196000,197000,198000,199000,200000,201000,202000,203000,204000,205000,206000,207000,208000,209000,210000,211000,212000,213000,214000,215000,216000,217000,218000,219000,220000,221000,222000,223000,224000,225000,226000,227000,228000,229000,230000,231000,232000,233000,234000,235000,236000,237000,238000,239000,240000,241000,242000,243000,244000,245000,246000,247000,248000,249000,250000,251000,252000,253000,254000,255000,256000,257000,258000,259000,260000,261000,262000,263000,264000,265000,266000,267000,268000,269000,270000,271000,272000,273000,274000,275000,276000,277000,278000,279000,280000,281000,282000,283000,284000,285000,286000,287000,288000,289000,290000,291000,292000,293000,294000,295000,296000,297000,298000,299000,300000],\"y\":{\"__ndarray__\":\"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\",\"dtype\":\"float64\",\"shape\":[300]}}},\"id\":\"f252673b-38dc-496d-a3a5-6dca1d46c311\",\"type\":\"ColumnDataSource\"},{\"attributes\":{\"line_color\":{\"value\":\"#ffff33\"},\"line_width\":{\"value\":2},\"x\":{\"field\":\"x\"},\"y\":{\"field\":\"y\"}},\"id\":\"ca66c44f-1a0c-4e45-a8f3-6acc95e98e71\",\"type\":\"Line\"},{\"attributes\":{\"line_alpha\":{\"value\":0.1},\"line_color\":{\"value\":\"#1f77b4\"},\"line_width\":{\"value\":2},\"x\":{\"field\":\"x\"},\"y\":{\"field\":\"y\"}},\"id\":\"c39c6351-36fc-4295-8d55-f0089e95934b\",\"type\":\"Line\"},{\"attributes\":{\"fill_alpha\":{\"value\":0.1},\"fill_color\":{\"value\":\"#1f77b4\"},\"line_alpha\":{\"value\":0.1},\"line_color\":{\"value\":\"#1f77b4\"},\"x\":{\"field\":\"x\"},\"y\":{\"field\":\"y\"}},\"id\":\"72875ce9-bc03-428f-9cec-8ae5e76a7a74\",\"type\":\"Patch\"}],\"root_ids\":[\"e6ec79ab-8586-437c-92ad-1369b9f53130\"]},\"title\":\"Bokeh Application\",\"version\":\"0.12.4\"}};\n",
       "            var render_items = [{\"docid\":\"ee5a5912-d00b-4838-b588-8ea17f7d2dee\",\"elementid\":\"f07851c6-a87f-48e4-947d-282db212eb78\",\"modelid\":\"e6ec79ab-8586-437c-92ad-1369b9f53130\"}];\n",
       "            \n",
       "            Bokeh.embed.embed_items(docs_json, render_items);\n",
       "          };\n",
       "          if (document.readyState != \"loading\") fn();\n",
       "          else document.addEventListener(\"DOMContentLoaded\", fn);\n",
       "        })();\n",
       "      },\n",
       "      function(Bokeh) {\n",
       "      }\n",
       "    ];\n",
       "  \n",
       "    function run_inline_js() {\n",
       "      \n",
       "      if ((window.Bokeh !== undefined) || (force === true)) {\n",
       "        for (var i = 0; i < inline_js.length; i++) {\n",
       "          inline_js[i](window.Bokeh);\n",
       "        }if (force === true) {\n",
       "          display_loaded();\n",
       "        }} else if (Date.now() < window._bokeh_timeout) {\n",
       "        setTimeout(run_inline_js, 100);\n",
       "      } else if (!window._bokeh_failed_load) {\n",
       "        console.log(\"Bokeh: BokehJS failed to load within specified timeout.\");\n",
       "        window._bokeh_failed_load = true;\n",
       "      } else if (force !== true) {\n",
       "        var cell = $(document.getElementById(\"f07851c6-a87f-48e4-947d-282db212eb78\")).parents('.cell').data().cell;\n",
       "        cell.output_area.append_execute_result(NB_LOAD_WARNING)\n",
       "      }\n",
       "  \n",
       "    }\n",
       "  \n",
       "    if (window._bokeh_is_loading === 0) {\n",
       "      console.log(\"Bokeh: BokehJS loaded, going straight to plotting\");\n",
       "      run_inline_js();\n",
       "    } else {\n",
       "      load_libs(js_urls, function() {\n",
       "        console.log(\"Bokeh: BokehJS plotting callback run at\", now());\n",
       "        run_inline_js();\n",
       "      });\n",
       "    }\n",
       "  }(this));\n",
       "</script>"
      ]
     },
     "metadata": {},
     "output_type": "display_data"
    }
   ],
   "source": [
    "plot_states(names, t_maxs, Set1[len(names)], legends, directories, step=1000, title=\"Med Maze 10\")"
   ]
  },
  {
   "cell_type": "code",
   "execution_count": null,
   "metadata": {
    "collapsed": true,
    "deletable": true,
    "editable": true
   },
   "outputs": [],
   "source": []
  },
  {
   "cell_type": "code",
   "execution_count": null,
   "metadata": {
    "collapsed": true,
    "deletable": true,
    "editable": true
   },
   "outputs": [],
   "source": []
  },
  {
   "cell_type": "code",
   "execution_count": null,
   "metadata": {
    "collapsed": true,
    "deletable": true,
    "editable": true
   },
   "outputs": [],
   "source": [
    "DQN_Smoothed = []\n",
    "for times, rewards in zip(DQN_Lengths_C, DQN_Rewards):\n",
    "    linear = interp1d(times, rewards, kind=\"linear\")\n",
    "    linear_rewards = linear([i for i in range(500000)])\n",
    "    DQN_Smoothed.append(linear_rewards)"
   ]
  },
  {
   "cell_type": "code",
   "execution_count": null,
   "metadata": {
    "collapsed": true,
    "deletable": true,
    "editable": true
   },
   "outputs": [],
   "source": [
    "DQN_Means = np.mean(DQN_Smoothed, axis=0)"
   ]
  },
  {
   "cell_type": "code",
   "execution_count": null,
   "metadata": {
    "collapsed": true,
    "deletable": true,
    "editable": true
   },
   "outputs": [],
   "source": [
    "DQN_Stds = np.std(DQN_Smoothed, axis=0)"
   ]
  },
  {
   "cell_type": "code",
   "execution_count": null,
   "metadata": {
    "collapsed": false,
    "deletable": true,
    "editable": true
   },
   "outputs": [],
   "source": [
    "plt.fill_between([i for i in range(500000)], DQN_Means - DQN_Stds, DQN_Means + DQN_Stds, color=\"red\", alpha=0.3, edgecolor=\"white\")\n",
    "\n",
    "plt.plot([i for i in range(500000)], DQN_Means, color=\"red\")"
   ]
  },
  {
   "cell_type": "code",
   "execution_count": null,
   "metadata": {
    "collapsed": false,
    "deletable": true,
    "editable": true
   },
   "outputs": [],
   "source": [
    "len(DQN_Repeat)"
   ]
  },
  {
   "cell_type": "code",
   "execution_count": null,
   "metadata": {
    "collapsed": true,
    "deletable": true,
    "editable": true
   },
   "outputs": [],
   "source": [
    "plt.plot(DQN)"
   ]
  },
  {
   "cell_type": "code",
   "execution_count": null,
   "metadata": {
    "collapsed": true,
    "deletable": true,
    "editable": true
   },
   "outputs": [],
   "source": [
    "directories = [\"Logs/\"]"
   ]
  },
  {
   "cell_type": "code",
   "execution_count": null,
   "metadata": {
    "collapsed": false,
    "deletable": true,
    "editable": true
   },
   "outputs": [],
   "source": [
    "for i in range(0, 10, 2):\n",
    "    print(i)"
   ]
  },
  {
   "cell_type": "code",
   "execution_count": null,
   "metadata": {
    "collapsed": true,
    "deletable": true,
    "editable": true
   },
   "outputs": [],
   "source": []
  }
 ],
 "metadata": {
  "kernelspec": {
   "display_name": "Python 3",
   "language": "python",
   "name": "python3"
  },
  "language_info": {
   "codemirror_mode": {
    "name": "ipython",
    "version": 3
   },
   "file_extension": ".py",
   "mimetype": "text/x-python",
   "name": "python",
   "nbconvert_exporter": "python",
   "pygments_lexer": "ipython3",
   "version": "3.6.0"
  }
 },
 "nbformat": 4,
 "nbformat_minor": 2
}
