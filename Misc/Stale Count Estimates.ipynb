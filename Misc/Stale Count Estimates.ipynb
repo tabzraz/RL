{
 "cells": [
  {
   "cell_type": "code",
   "execution_count": 6,
   "metadata": {
    "collapsed": true
   },
   "outputs": [],
   "source": [
    "import numpy as np\n",
    "from math import sqrt"
   ]
  },
  {
   "cell_type": "code",
   "execution_count": 116,
   "metadata": {
    "collapsed": true
   },
   "outputs": [],
   "source": [
    "class FreshReplay:\n",
    "    def add(self, x):\n",
    "        self.exp = x\n",
    "    def sample(self, b, m_e):\n",
    "        return [self.exp]"
   ]
  },
  {
   "cell_type": "code",
   "execution_count": 117,
   "metadata": {
    "collapsed": true
   },
   "outputs": [],
   "source": [
    "class UniformReplay:\n",
    "    def __init__(self):\n",
    "        self.exps = []\n",
    "    def add(self, x):\n",
    "        self.exps.append(x)\n",
    "    def sample(self, b, m_e):\n",
    "        indices = np.random.randint(low=0, high=len(self.exps), size=b)\n",
    "        return [self.exps[i] for i in indices]"
   ]
  },
  {
   "cell_type": "code",
   "execution_count": 118,
   "metadata": {
    "collapsed": true
   },
   "outputs": [],
   "source": [
    "class PrioritisedReplay:\n",
    "    def __init__(self, alpha=0.7):\n",
    "        self.exps = []\n",
    "        self.alpha = 0.7\n",
    "    def add(self, x):\n",
    "        self.exps.append((10,x)) # (Error, value)\n",
    "    def sample(self, b, model_estimate):\n",
    "        self.exps.sort(reverse=True)\n",
    "        sampling_distrib = np.array([pow(1/(i+1), self.alpha) for i in range(len(self.exps))])\n",
    "        sampling_distrib /= np.sum(sampling_distrib)\n",
    "        indices = np.random.choice([i for i in range(len(self.exps))], p=sampling_distrib, size=b)\n",
    "        sampled = [self.exps[i][1] for i in indices]\n",
    "        # Update td error\n",
    "        for i in indices:\n",
    "            td_error = abs(self.exps[i][1] - model_estimate)\n",
    "            current_exp = self.exps[i]\n",
    "            self.exps[i] = (td_error, current_exp[1])\n",
    "        return sampled"
   ]
  },
  {
   "cell_type": "code",
   "execution_count": 119,
   "metadata": {
    "collapsed": true
   },
   "outputs": [],
   "source": [
    "class Model:\n",
    "    def __init__(self, lr):\n",
    "        self.lr = lr\n",
    "        self.estimate = 0\n",
    "    def output(self):\n",
    "        return self.estimate\n",
    "    def train(self, xs):\n",
    "        batch_error = 0\n",
    "        for x in xs:\n",
    "            batch_error += (self.estimate - x)\n",
    "        self.estimate -= self.lr * (batch_error / len(xs))"
   ]
  },
  {
   "cell_type": "code",
   "execution_count": 152,
   "metadata": {
    "collapsed": false
   },
   "outputs": [],
   "source": [
    "dataset = [1/sqrt(n + 1) for n in range(25)]\n",
    "timesteps = 10000\n",
    "t_max_extra = (20) * timesteps"
   ]
  },
  {
   "cell_type": "code",
   "execution_count": 153,
   "metadata": {
    "collapsed": false
   },
   "outputs": [],
   "source": [
    "def get_estimates(replay, model_lr=0.01, batch_size=1):\n",
    "\n",
    "    model = Model(model_lr)\n",
    "\n",
    "    model_estimates = []\n",
    "    model_estimate = model.output()\n",
    "    model_estimates.append(model_estimate)\n",
    "    for d in dataset:\n",
    "        replay.add(d)\n",
    "        for _ in range(timesteps):\n",
    "            x = replay.sample(batch_size, model_estimate)\n",
    "            model.train(x)\n",
    "            model_estimate = model.output()\n",
    "            model_estimates.append(model_estimate)\n",
    "            \n",
    "    for _ in range(t_max_extra):\n",
    "        x = replay.sample(batch_size, model_estimate)\n",
    "        model.train(x)\n",
    "        model_estimate = model.output()\n",
    "        model_estimates.append(model_estimate)\n",
    "\n",
    "    return model_estimates"
   ]
  },
  {
   "cell_type": "code",
   "execution_count": 154,
   "metadata": {
    "collapsed": true
   },
   "outputs": [],
   "source": [
    "model_lr = 0.1"
   ]
  },
  {
   "cell_type": "code",
   "execution_count": 155,
   "metadata": {
    "collapsed": true
   },
   "outputs": [],
   "source": [
    "batch_size = 50"
   ]
  },
  {
   "cell_type": "code",
   "execution_count": null,
   "metadata": {
    "collapsed": false
   },
   "outputs": [],
   "source": [
    "fresh_estimates = get_estimates(FreshReplay(), model_lr, batch_size)\n",
    "uniform_estimates = get_estimates(UniformReplay(), model_lr, batch_size)\n",
    "p_estimates = get_estimates(PrioritisedReplay(), model_lr, batch_size)"
   ]
  },
  {
   "cell_type": "code",
   "execution_count": null,
   "metadata": {
    "collapsed": true
   },
   "outputs": [],
   "source": [
    "import matplotlib\n",
    "import matplotlib.pyplot as plt\n",
    "%matplotlib inline "
   ]
  },
  {
   "cell_type": "code",
   "execution_count": null,
   "metadata": {
    "collapsed": false
   },
   "outputs": [],
   "source": [
    "plt.figure(figsize=(50,25))\n",
    "# Ground truth\n",
    "plt.plot([i*timesteps for i in range(len(dataset))], dataset, color=\"r\", linewidth=4)\n",
    "\n",
    "plt.plot([i for i in range(len(fresh_estimates))], fresh_estimates, color=\"b\", linewidth=2)\n",
    "\n",
    "plt.plot([i for i in range(len(uniform_estimates))], uniform_estimates, color=\"g\", linewidth=2)\n",
    "\n",
    "plt.plot([i for i in range(len(p_estimates))], p_estimates, color=\"purple\", linewidth=2)"
   ]
  },
  {
   "cell_type": "code",
   "execution_count": null,
   "metadata": {
    "collapsed": true
   },
   "outputs": [],
   "source": []
  }
 ],
 "metadata": {
  "kernelspec": {
   "display_name": "Python 3",
   "language": "python",
   "name": "python3"
  },
  "language_info": {
   "codemirror_mode": {
    "name": "ipython",
    "version": 3
   },
   "file_extension": ".py",
   "mimetype": "text/x-python",
   "name": "python",
   "nbconvert_exporter": "python",
   "pygments_lexer": "ipython3",
   "version": "3.5.3"
  }
 },
 "nbformat": 4,
 "nbformat_minor": 2
}
