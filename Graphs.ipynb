{
 "cells": [
  {
   "cell_type": "code",
   "execution_count": 1,
   "metadata": {
    "collapsed": false,
    "deletable": true,
    "editable": true
   },
   "outputs": [
    {
     "data": {
      "text/html": [
       "\n",
       "    <div class=\"bk-root\">\n",
       "        <a href=\"http://bokeh.pydata.org\" target=\"_blank\" class=\"bk-logo bk-logo-small bk-logo-notebook\"></a>\n",
       "        <span id=\"36100ed1-f592-4310-8028-22339d8a4070\">Loading BokehJS ...</span>\n",
       "    </div>"
      ]
     },
     "metadata": {},
     "output_type": "display_data"
    },
    {
     "data": {
      "application/javascript": [
       "\n",
       "(function(global) {\n",
       "  function now() {\n",
       "    return new Date();\n",
       "  }\n",
       "\n",
       "  var force = true;\n",
       "\n",
       "  if (typeof (window._bokeh_onload_callbacks) === \"undefined\" || force === true) {\n",
       "    window._bokeh_onload_callbacks = [];\n",
       "    window._bokeh_is_loading = undefined;\n",
       "  }\n",
       "\n",
       "\n",
       "  \n",
       "  if (typeof (window._bokeh_timeout) === \"undefined\" || force === true) {\n",
       "    window._bokeh_timeout = Date.now() + 5000;\n",
       "    window._bokeh_failed_load = false;\n",
       "  }\n",
       "\n",
       "  var NB_LOAD_WARNING = {'data': {'text/html':\n",
       "     \"<div style='background-color: #fdd'>\\n\"+\n",
       "     \"<p>\\n\"+\n",
       "     \"BokehJS does not appear to have successfully loaded. If loading BokehJS from CDN, this \\n\"+\n",
       "     \"may be due to a slow or bad network connection. Possible fixes:\\n\"+\n",
       "     \"</p>\\n\"+\n",
       "     \"<ul>\\n\"+\n",
       "     \"<li>re-rerun `output_notebook()` to attempt to load from CDN again, or</li>\\n\"+\n",
       "     \"<li>use INLINE resources instead, as so:</li>\\n\"+\n",
       "     \"</ul>\\n\"+\n",
       "     \"<code>\\n\"+\n",
       "     \"from bokeh.resources import INLINE\\n\"+\n",
       "     \"output_notebook(resources=INLINE)\\n\"+\n",
       "     \"</code>\\n\"+\n",
       "     \"</div>\"}};\n",
       "\n",
       "  function display_loaded() {\n",
       "    if (window.Bokeh !== undefined) {\n",
       "      document.getElementById(\"36100ed1-f592-4310-8028-22339d8a4070\").textContent = \"BokehJS successfully loaded.\";\n",
       "    } else if (Date.now() < window._bokeh_timeout) {\n",
       "      setTimeout(display_loaded, 100)\n",
       "    }\n",
       "  }\n",
       "\n",
       "  function run_callbacks() {\n",
       "    window._bokeh_onload_callbacks.forEach(function(callback) { callback() });\n",
       "    delete window._bokeh_onload_callbacks\n",
       "    console.info(\"Bokeh: all callbacks have finished\");\n",
       "  }\n",
       "\n",
       "  function load_libs(js_urls, callback) {\n",
       "    window._bokeh_onload_callbacks.push(callback);\n",
       "    if (window._bokeh_is_loading > 0) {\n",
       "      console.log(\"Bokeh: BokehJS is being loaded, scheduling callback at\", now());\n",
       "      return null;\n",
       "    }\n",
       "    if (js_urls == null || js_urls.length === 0) {\n",
       "      run_callbacks();\n",
       "      return null;\n",
       "    }\n",
       "    console.log(\"Bokeh: BokehJS not loaded, scheduling load and callback at\", now());\n",
       "    window._bokeh_is_loading = js_urls.length;\n",
       "    for (var i = 0; i < js_urls.length; i++) {\n",
       "      var url = js_urls[i];\n",
       "      var s = document.createElement('script');\n",
       "      s.src = url;\n",
       "      s.async = false;\n",
       "      s.onreadystatechange = s.onload = function() {\n",
       "        window._bokeh_is_loading--;\n",
       "        if (window._bokeh_is_loading === 0) {\n",
       "          console.log(\"Bokeh: all BokehJS libraries loaded\");\n",
       "          run_callbacks()\n",
       "        }\n",
       "      };\n",
       "      s.onerror = function() {\n",
       "        console.warn(\"failed to load library \" + url);\n",
       "      };\n",
       "      console.log(\"Bokeh: injecting script tag for BokehJS library: \", url);\n",
       "      document.getElementsByTagName(\"head\")[0].appendChild(s);\n",
       "    }\n",
       "  };var element = document.getElementById(\"36100ed1-f592-4310-8028-22339d8a4070\");\n",
       "  if (element == null) {\n",
       "    console.log(\"Bokeh: ERROR: autoload.js configured with elementid '36100ed1-f592-4310-8028-22339d8a4070' but no matching script tag was found. \")\n",
       "    return false;\n",
       "  }\n",
       "\n",
       "  var js_urls = [\"https://cdn.pydata.org/bokeh/release/bokeh-0.12.4.min.js\", \"https://cdn.pydata.org/bokeh/release/bokeh-widgets-0.12.4.min.js\"];\n",
       "\n",
       "  var inline_js = [\n",
       "    function(Bokeh) {\n",
       "      Bokeh.set_log_level(\"info\");\n",
       "    },\n",
       "    \n",
       "    function(Bokeh) {\n",
       "      \n",
       "      document.getElementById(\"36100ed1-f592-4310-8028-22339d8a4070\").textContent = \"BokehJS is loading...\";\n",
       "    },\n",
       "    function(Bokeh) {\n",
       "      console.log(\"Bokeh: injecting CSS: https://cdn.pydata.org/bokeh/release/bokeh-0.12.4.min.css\");\n",
       "      Bokeh.embed.inject_css(\"https://cdn.pydata.org/bokeh/release/bokeh-0.12.4.min.css\");\n",
       "      console.log(\"Bokeh: injecting CSS: https://cdn.pydata.org/bokeh/release/bokeh-widgets-0.12.4.min.css\");\n",
       "      Bokeh.embed.inject_css(\"https://cdn.pydata.org/bokeh/release/bokeh-widgets-0.12.4.min.css\");\n",
       "    }\n",
       "  ];\n",
       "\n",
       "  function run_inline_js() {\n",
       "    \n",
       "    if ((window.Bokeh !== undefined) || (force === true)) {\n",
       "      for (var i = 0; i < inline_js.length; i++) {\n",
       "        inline_js[i](window.Bokeh);\n",
       "      }if (force === true) {\n",
       "        display_loaded();\n",
       "      }} else if (Date.now() < window._bokeh_timeout) {\n",
       "      setTimeout(run_inline_js, 100);\n",
       "    } else if (!window._bokeh_failed_load) {\n",
       "      console.log(\"Bokeh: BokehJS failed to load within specified timeout.\");\n",
       "      window._bokeh_failed_load = true;\n",
       "    } else if (force !== true) {\n",
       "      var cell = $(document.getElementById(\"36100ed1-f592-4310-8028-22339d8a4070\")).parents('.cell').data().cell;\n",
       "      cell.output_area.append_execute_result(NB_LOAD_WARNING)\n",
       "    }\n",
       "\n",
       "  }\n",
       "\n",
       "  if (window._bokeh_is_loading === 0) {\n",
       "    console.log(\"Bokeh: BokehJS loaded, going straight to plotting\");\n",
       "    run_inline_js();\n",
       "  } else {\n",
       "    load_libs(js_urls, function() {\n",
       "      console.log(\"Bokeh: BokehJS plotting callback run at\", now());\n",
       "      run_inline_js();\n",
       "    });\n",
       "  }\n",
       "}(this));"
      ]
     },
     "metadata": {},
     "output_type": "display_data"
    }
   ],
   "source": [
    "from bokeh.plotting import figure, output_notebook, show\n",
    "output_notebook()"
   ]
  },
  {
   "cell_type": "code",
   "execution_count": 2,
   "metadata": {
    "collapsed": true,
    "deletable": true,
    "editable": true
   },
   "outputs": [],
   "source": [
    "import glob"
   ]
  },
  {
   "cell_type": "code",
   "execution_count": 3,
   "metadata": {
    "collapsed": true,
    "deletable": true,
    "editable": true
   },
   "outputs": [],
   "source": [
    "import numpy as np"
   ]
  },
  {
   "cell_type": "code",
   "execution_count": 4,
   "metadata": {
    "collapsed": true,
    "deletable": true,
    "editable": true
   },
   "outputs": [],
   "source": [
    "from scipy.interpolate import interp1d\n",
    "from scipy.interpolate import spline"
   ]
  },
  {
   "cell_type": "code",
   "execution_count": 5,
   "metadata": {
    "collapsed": true,
    "deletable": true,
    "editable": true
   },
   "outputs": [],
   "source": [
    "from tqdm import tqdm"
   ]
  },
  {
   "cell_type": "code",
   "execution_count": 6,
   "metadata": {
    "collapsed": true,
    "deletable": true,
    "editable": true
   },
   "outputs": [],
   "source": [
    "DQN_Rewards_Path = \"/home/tabz/Dropbox/RL/Log_Files/March 2017/Maze_5_Batch_Sizes_Logs/*DQN*/logs/Episode_Rewards.txt\"\n",
    "DQN_Lengths_Path = \"/home/tabz/Dropbox/RL/Log_Files/March 2017/Maze_5_Batch_Sizes_Logs/*DQN*/logs/Episode_Lengths.txt\"\n",
    "DQN_Rewards = []\n",
    "DQN_Lengths = []\n",
    "DQN_Lengths_C = []"
   ]
  },
  {
   "cell_type": "code",
   "execution_count": 7,
   "metadata": {
    "collapsed": true,
    "deletable": true,
    "editable": true
   },
   "outputs": [],
   "source": [
    "for filename in glob.glob(DQN_Rewards_Path):\n",
    "    run_logs = [0]\n",
    "#     print(filename)\n",
    "    with open(filename, \"r\") as f:\n",
    "        for line in f:\n",
    "            try:\n",
    "                ep_r = float(line)\n",
    "            except:\n",
    "                continue\n",
    "            run_logs.append(ep_r)\n",
    "    DQN_Rewards.append(run_logs)"
   ]
  },
  {
   "cell_type": "code",
   "execution_count": 8,
   "metadata": {
    "collapsed": true,
    "deletable": true,
    "editable": true
   },
   "outputs": [],
   "source": [
    "for filename in glob.glob(DQN_Lengths_Path):\n",
    "    run_logs = [0]\n",
    "#     print(filename)\n",
    "    with open(filename, \"r\") as f:\n",
    "        for line in f:\n",
    "            try:\n",
    "                ep_r = float(line)\n",
    "            except:\n",
    "                continue\n",
    "            run_logs.append(ep_r)\n",
    "    DQN_Lengths.append(run_logs)\n",
    "    run_logs_c = np.cumsum(run_logs).astype(np.int32)\n",
    "    DQN_Lengths_C.append(run_logs_c)"
   ]
  },
  {
   "cell_type": "markdown",
   "metadata": {
    "collapsed": false,
    "deletable": true,
    "editable": true
   },
   "source": [
    "for lens, runs in zip(DQN_Lengths_C, DQN_Rewards):\n",
    "    plt.plot(lens, runs)\n",
    "plt.show()"
   ]
  },
  {
   "cell_type": "markdown",
   "metadata": {
    "collapsed": false,
    "deletable": true,
    "editable": true
   },
   "source": [
    "p = figure(width=500, height=500, y_range=(-1,3))\n",
    "for lens, runs in zip(DQN_Lengths_C, DQN_Rewards):\n",
    "    p.line(lens, runs)\n",
    "show(p)"
   ]
  },
  {
   "cell_type": "code",
   "execution_count": null,
   "metadata": {
    "collapsed": true,
    "deletable": true,
    "editable": true
   },
   "outputs": [],
   "source": []
  },
  {
   "cell_type": "markdown",
   "metadata": {
    "collapsed": true,
    "deletable": true,
    "editable": true
   },
   "source": [
    "def plot_averages(names, t_maxs, colors, legends=None, directory=\"Logs/\", step=10):\n",
    "    plt.figure(figsize=(10,10))\n",
    "    plt.ylim(-1, 3)\n",
    "    for name, color, t_max in tqdm(zip(names, colors, t_maxs)):\n",
    "        # TODO: Remove DQN from names\n",
    "        DQN_Rewards_Path = directory + \"*\" + name + \"*/logs/Episode_Rewards.txt\"\n",
    "        DQN_Lengths_Path = directory + \"*\" + name + \"*/logs/Episode_Lengths.txt\"\n",
    "        DQN_Rewards = []\n",
    "        DQN_Lengths = []\n",
    "        DQN_Lengths_C = []\n",
    "        for filename in glob.glob(DQN_Rewards_Path):\n",
    "            run_logs = [0]\n",
    "            with open(filename, \"r\") as f:\n",
    "                for line in f:\n",
    "                    try:\n",
    "                        ep_r = float(line)\n",
    "                    except:\n",
    "                        continue\n",
    "                    run_logs.append(ep_r)\n",
    "            DQN_Rewards.append(run_logs)\n",
    "        for filename in glob.glob(DQN_Lengths_Path):\n",
    "            run_logs = [0]\n",
    "        #     print(filename)\n",
    "            with open(filename, \"r\") as f:\n",
    "                for line in f:\n",
    "                    try:\n",
    "                        ep_r = float(line)\n",
    "                    except:\n",
    "                        continue\n",
    "                    run_logs.append(ep_r)\n",
    "            DQN_Lengths.append(run_logs)\n",
    "            run_logs_c = np.cumsum(run_logs).astype(np.int32)\n",
    "            DQN_Lengths_C.append(run_logs_c)\n",
    "        DQN_Smoothed = []\n",
    "        for times, rewards in zip(DQN_Lengths_C, DQN_Rewards):\n",
    "#             linear = interp1d(times, rewards, kind=\"linear\")\n",
    "#             linear_rewards = linear([i for i in range(500000)])\n",
    "#             DQN_Smoothed.append(linear_rewards)\n",
    "            spline_rewards = spline(times, rewards, [i for i in range(0, t_max, step)])\n",
    "            DQN_Smoothed.append(spline_rewards)\n",
    "        DQN_Means = np.mean(DQN_Smoothed, axis=0)\n",
    "        DQN_Stds = np.std(DQN_Smoothed, axis=0)\n",
    "        plt.fill_between([i for i in range(0, t_max, step)], DQN_Means - DQN_Stds, DQN_Means + DQN_Stds, color=color, alpha=0.2, edgecolor=\"white\")\n",
    "\n",
    "        plt.plot([i for i in range(0, t_max, step)], DQN_Means, color=color)\n",
    "\n",
    "    plt.title(\"Episode_Reward\")\n",
    "    plt.xlabel(\"T\")\n",
    "    plt.ylabel(\"Reward\")\n",
    "    if legends is not None:\n",
    "        plt.legend(legends, bbox_to_anchor=(1.05, 1), loc=2)\n",
    "    plt.show()"
   ]
  },
  {
   "cell_type": "code",
   "execution_count": 9,
   "metadata": {
    "collapsed": true,
    "deletable": true,
    "editable": true
   },
   "outputs": [],
   "source": [
    "from bokeh.models import Legend\n",
    "from bokeh.models.formatters import BasicTickFormatter\n",
    "from bokeh.models import HoverTool, TapTool"
   ]
  },
  {
   "cell_type": "code",
   "execution_count": 10,
   "metadata": {
    "collapsed": false,
    "deletable": true,
    "editable": true
   },
   "outputs": [],
   "source": [
    "def plot_averages_b(names, t_maxs, colors, legends, directories=\"Logs/\", step=10, title=\"\"):\n",
    "#     plt.figure(figsize=(10,10))\n",
    "    p = figure(width=800, height=800, y_range=(-1.2, 3.2), title=title)\n",
    "    p.toolbar_location = \"above\"\n",
    "    p.yaxis.axis_label = \"Episode Reward\"\n",
    "    p.xaxis.axis_label = \"T\"\n",
    "    p.xaxis.formatter = BasicTickFormatter(use_scientific=False)\n",
    "#     p = figure(width=800, height=500)\n",
    "    lines = []\n",
    "    alpha_lines = []\n",
    "    if isinstance(directories, str):\n",
    "        dd = directories\n",
    "        directories = [dd for _ in names]\n",
    "    for name, color, t_max, legend, directory in zip(names, colors, t_maxs, legends, directories):\n",
    "#         print(directory)\n",
    "        DQN_Rewards_Path = directory + \"*\" + name + \"*/logs/Episode_Rewards.txt\"\n",
    "        DQN_Lengths_Path = directory + \"*\" + name + \"*/logs/Episode_Lengths.txt\"\n",
    "        DQN_Rewards = []\n",
    "        DQN_Lengths = []\n",
    "        DQN_Lengths_C = []\n",
    "        for filename in glob.glob(DQN_Rewards_Path):\n",
    "            run_logs = [0]\n",
    "            with open(filename, \"r\") as f:\n",
    "#                 print(f)\n",
    "                for line in f:\n",
    "                    try:\n",
    "                        ep_r = float(line)\n",
    "                    except:\n",
    "                        print(\"Nothing here for:\", filename)\n",
    "                        continue\n",
    "                    run_logs.append(ep_r)\n",
    "            DQN_Rewards.append(run_logs)\n",
    "        for filename in glob.glob(DQN_Lengths_Path):\n",
    "            run_logs = [0]\n",
    "        #     print(filename)\n",
    "            with open(filename, \"r\") as f:\n",
    "                for line in f:\n",
    "                    try:\n",
    "                        ep_r = float(line)\n",
    "                    except:\n",
    "                        continue\n",
    "                    run_logs.append(ep_r)\n",
    "            DQN_Lengths.append(run_logs)\n",
    "            run_logs_c = np.cumsum(run_logs).astype(np.int32)\n",
    "            DQN_Lengths_C.append(run_logs_c)\n",
    "        DQN_Smoothed = []\n",
    "        for times, rewards in zip(DQN_Lengths_C, DQN_Rewards):\n",
    "#             linear = interp1d(times, rewards, kind=\"linear\")\n",
    "#             linear_rewards = linear([i for i in range(500000)])\n",
    "#             DQN_Smoothed.append(linear_rewards)\n",
    "            spline_rewards = spline(times, rewards, [i for i in range(0, t_max, step)], order=1)\n",
    "            DQN_Smoothed.append(spline_rewards)\n",
    "        DQN_Means = np.mean(DQN_Smoothed, axis=0)\n",
    "        DQN_Stds = np.std(DQN_Smoothed, axis=0)\n",
    "        \n",
    "#         plt.fill_between([i for i in range(0, t_max, step)], DQN_Means - DQN_Stds, DQN_Means + DQN_Stds, color=color, alpha=0.2, edgecolor=\"white\")\n",
    "        # Error bars\n",
    "        xs = [i for i in range(0, t_max, step)]\n",
    "        xs = xs + list(reversed(xs))\n",
    "        ys = np.concatenate([DQN_Means - DQN_Stds, np.flip(DQN_Means + DQN_Stds, axis=0)])\n",
    "        lls = p.patch(xs, ys, color=color, alpha=0.1)\n",
    "\n",
    "        \n",
    "#         for x, y, yerr in zip(range(0, t_max, step), DQN_Means, DQN_Stds):\n",
    "#             lls = p.line([x, x], [y - yerr, y + yerr], color=color, alpha=0.1, hover_alpha=0.8)\n",
    "#             alpha_lines.append(lls)\n",
    "            \n",
    "\n",
    "#         plt.plot([i for i in range(0, t_max, step)], DQN_Means, color=color)\n",
    "        l = p.line([i for i in range(0, t_max, step)], DQN_Means, color=color, line_width=2)\n",
    "        lines.append(l)\n",
    "#         alpha_lines.append(lls)\n",
    "\n",
    "#     plt.title(\"Episode_Reward\")\n",
    "#     plt.xlabel(\"T\")\n",
    "#     plt.ylabel(\"Reward\")\n",
    "#     if legends is not None:\n",
    "#         plt.legend(legends)\n",
    "#     plt.show()\n",
    "#     p.line([0,1], [-1,3])\n",
    "    new_leg = Legend(items=[(name, [line]) for name, line in zip(legends, lines)], location=(0,-30))\n",
    "    p.add_layout(new_leg, \"right\")\n",
    "#     p.add_tools(HoverTool(renderers=alpha_lines))\n",
    "#     p.add_tools(TapTool(renderers=alpha_lines))\n",
    "    show(p)"
   ]
  },
  {
   "cell_type": "code",
   "execution_count": 41,
   "metadata": {
    "collapsed": false
   },
   "outputs": [],
   "source": [
    "def plot_states(names, t_maxs, colors, legends, directories=\"Logs/\", step=10, title=\"\"):\n",
    "#     plt.figure(figsize=(10,10))\n",
    "    p = figure(width=1200, height=800, title=title)\n",
    "    p.toolbar_location = \"above\"\n",
    "    p.yaxis.axis_label = \"States visited\"\n",
    "    p.xaxis.axis_label = \"T\"\n",
    "    p.xaxis.formatter = BasicTickFormatter(use_scientific=False)\n",
    "#     p = figure(width=800, height=500)\n",
    "    lines = []\n",
    "    alpha_lines = []\n",
    "    if isinstance(directories, str):\n",
    "        dd = directories\n",
    "        directories = [dd for _ in names]\n",
    "    for name, color, t_max, legend, directory in zip(names, colors, t_maxs, legends, directories):\n",
    "#         print(directory)\n",
    "        States_Path = directory + \"*\" + name + \"*/logs/Player_Positions.txt\"\n",
    "        States = []\n",
    "        for filename in glob.glob(States_Path):\n",
    "            run_logs = []\n",
    "            with open(filename, \"r\") as f:\n",
    "#                 print(f)\n",
    "                for line in f:\n",
    "                    try:\n",
    "                        ep_r = str(line)\n",
    "#                         print(ep_r)\n",
    "                    except:\n",
    "                        print(\"Nothing here for:\", filename)\n",
    "                        continue\n",
    "                    run_logs.append(ep_r)\n",
    "            States.append(run_logs)\n",
    "        States_Visited = []\n",
    "        for run in States:\n",
    "            Visited = []\n",
    "            States_Sets = set()\n",
    "#             print(len(run))\n",
    "            for ii, s in enumerate(run):\n",
    "                if ii >= t_max - 1:\n",
    "                    break\n",
    "#                 print(s)\n",
    "                States_Sets.add(s)\n",
    "                if ii % step == 0:\n",
    "                    Visited.append(len(States_Sets))\n",
    "#             print(len(States_Sets))\n",
    "#             print(len(Visited))\n",
    "            States_Visited.append(Visited)\n",
    "#         print(np.array(States_Visited).shape)\n",
    "        Means = np.mean(States_Visited, axis=0)\n",
    "        Stds = np.std(States_Visited, axis=0)\n",
    "#         print(Means.shape)\n",
    "        \n",
    "#         plt.fill_between([i for i in range(0, t_max, step)], DQN_Means - DQN_Stds, DQN_Means + DQN_Stds, color=color, alpha=0.2, edgecolor=\"white\")\n",
    "        # Error bars\n",
    "        xs = [i for i in range(0, t_max, step)]\n",
    "        xs = xs + list(reversed(xs))\n",
    "        ys = np.concatenate([Means - Stds, np.flip(Means + Stds, axis=0)])\n",
    "        lls = p.patch(xs, ys, color=color, alpha=0.1)\n",
    "\n",
    "        \n",
    "#         for x, y, yerr in zip(range(0, t_max, step), DQN_Means, DQN_Stds):\n",
    "#             lls = p.line([x, x], [y - yerr, y + yerr], color=color, alpha=0.1, hover_alpha=0.8)\n",
    "#             alpha_lines.append(lls)\n",
    "            \n",
    "\n",
    "#         plt.plot([i for i in range(0, t_max, step)], DQN_Means, color=color)\n",
    "        l = p.line([i for i in range(0, t_max, step)], Means, color=color, line_width=2)\n",
    "        lines.append(l)\n",
    "#         alpha_lines.append(lls)\n",
    "\n",
    "#     plt.title(\"Episode_Reward\")\n",
    "#     plt.xlabel(\"T\")\n",
    "#     plt.ylabel(\"Reward\")\n",
    "#     if legends is not None:\n",
    "#         plt.legend(legends)\n",
    "#     plt.show()\n",
    "#     p.line([0,1], [-1,3])\n",
    "    new_leg = Legend(items=[(name, [line]) for name, line in zip(legends, lines)], location=(0,-30))\n",
    "    p.add_layout(new_leg, \"right\")\n",
    "#     p.add_tools(HoverTool(renderers=alpha_lines))\n",
    "#     p.add_tools(TapTool(renderers=alpha_lines))\n",
    "    show(p)"
   ]
  },
  {
   "cell_type": "code",
   "execution_count": null,
   "metadata": {
    "collapsed": true,
    "deletable": true,
    "editable": true
   },
   "outputs": [],
   "source": []
  },
  {
   "cell_type": "code",
   "execution_count": 127,
   "metadata": {
    "collapsed": false,
    "deletable": true,
    "editable": true
   },
   "outputs": [
    {
     "name": "stdout",
     "output_type": "stream",
     "text": [
      "['_10_Step_*DQN_', '_10_Step_*k_Count_', '_10_Step_*_CountEps_']\n",
      "[300001, 300001, 300001]\n"
     ]
    }
   ],
   "source": [
    "names = []\n",
    "legends = []\n",
    "t_maxs = []\n",
    "directories = []\n",
    "\n",
    "            \n",
    "# Frontier stuff\n",
    "for step in [10]:\n",
    "    # DQN\n",
    "    names += [\"_{}_Step_*DQN_\".format(step)]\n",
    "    legends += [\"{}_Step_DQN\".format(step)]\n",
    "    t_maxs += [300001]\n",
    "#     continue\n",
    "    # PseudoCount\n",
    "    names += [\"_{}_Step_*k_Count_\".format(step)]\n",
    "    legends += [\"{}_Step_Count\".format(step)]\n",
    "    t_maxs += [300001]\n",
    "#     continue\n",
    "    # EpsilonScaling\n",
    "    names += [\"_{}_Step_*_CountEps_\".format(step)]\n",
    "    legends += [\"{}_Step_Epsilon_Scaling\".format(step)]\n",
    "    t_maxs += [300001]\n",
    "            \n",
    "    \n",
    "direc = \"/home/tabz/tmp/logfiles/MedMaze10/MedMaze10\"\n",
    "# directories =  [\"{}/{}\".format(dropbox_direc, \"Maze_5_Logs/\")] + 3 * [\"{}/{}\".format(dropbox_direc, \"Maze_5_Batch_Sizes_Logs/\")] \n",
    "directories += [direc + \"/EpsilonLogs/\"] * 3\n",
    "    \n",
    "print(names)\n",
    "print(t_maxs)\n",
    "# colours = [\"red\", \"#3366ff\", \"#66ff33\", \"yellow\"]\n",
    "# colours = rainbow(np.linspace(0, 1, len(names)))"
   ]
  },
  {
   "cell_type": "code",
   "execution_count": 128,
   "metadata": {
    "collapsed": false
   },
   "outputs": [
    {
     "name": "stdout",
     "output_type": "stream",
     "text": [
      "['_10_Step_*DQN_', '_10_Step_*k_Count_', '_10_Step_*_CountEps_', 'ForceAction', 'OptimisticAction', 'StateAction']\n",
      "[300001, 300001, 300001, 300001, 300001, 300001]\n",
      "['/home/tabz/tmp/logfiles/MedMaze10/MedMaze10/EpsilonLogs/', '/home/tabz/tmp/logfiles/MedMaze10/MedMaze10/EpsilonLogs/', '/home/tabz/tmp/logfiles/MedMaze10/MedMaze10/EpsilonLogs/', '/home/tabz/tmp/logfiles/MedMaze10/MedMaze10/BanditLogs/', '/home/tabz/tmp/logfiles/MedMaze10/MedMaze10/BanditLogs/', '/home/tabz/tmp/logfiles/MedMaze10/MedMaze10/BanditLogs/']\n"
     ]
    }
   ],
   "source": [
    "# names = []\n",
    "# legends = []\n",
    "# t_maxs = []\n",
    "\n",
    "            \n",
    "# Frontier bandit stuff\n",
    "\n",
    "# ForceAction\n",
    "names += [\"ForceAction\"]\n",
    "legends += [\"1_Step_ForceAction\"]\n",
    "t_maxs += [300001]\n",
    "\n",
    "# Optimistic\n",
    "names += [\"OptimisticAction\"]\n",
    "legends += [\"1_Step_OptimisticAction\"]\n",
    "t_maxs += [300001]\n",
    "\n",
    "# State action pseudo counts\n",
    "names += [\"StateAction\"]\n",
    "legends += [\"1_Step_Action_Count\"]\n",
    "t_maxs += [300001]\n",
    "            \n",
    "    \n",
    "direc = \"/home/tabz/tmp/logfiles/MedMaze10/MedMaze10\"\n",
    "# directories =  [\"{}/{}\".format(dropbox_direc, \"Maze_5_Logs/\")] + 3 * [\"{}/{}\".format(dropbox_direc, \"Maze_5_Batch_Sizes_Logs/\")] \n",
    "directories += [direc + \"/BanditLogs/\"] * 3\n",
    "    \n",
    "print(names)\n",
    "print(t_maxs)\n",
    "print(directories)\n",
    "# colours = [\"red\", \"#3366ff\", \"#66ff33\", \"yellow\"]\n",
    "# colours = rainbow(np.linspace(0, 1, len(names)))"
   ]
  },
  {
   "cell_type": "code",
   "execution_count": 133,
   "metadata": {
    "collapsed": false
   },
   "outputs": [
    {
     "name": "stdout",
     "output_type": "stream",
     "text": [
      "['XpSize_30k*Stale_k', 'XpSize_30k*Stale_30k', 'XpSize_100k*Stale_k', 'XpSize_100k*Stale_100k', 'XpSize_200k*Stale_k', 'XpSize_200k*Stale_200k', 'XpSize_300k*Stale_k', 'XpSize_300k*Stale_300k']\n",
      "[300001, 300001, 300001, 300001, 300001, 300001, 300001, 300001]\n",
      "/home/tabz/tmp/logfiles/MedMaze10/MedMaze10_Xp/XpSize/\n"
     ]
    }
   ],
   "source": [
    "names = []\n",
    "legends = []\n",
    "t_maxs = []\n",
    "directories = []\n",
    "\n",
    "            \n",
    "# XpSize\n",
    "\n",
    "for xp in [30, 100, 200, 300]:\n",
    "    \n",
    "    #Fresh \n",
    "    names += [\"XpSize_{}k*Stale_k\".format(xp)]\n",
    "    legends += [\"Fresh {}k Xp\".format(xp)]\n",
    "    t_maxs += [300001]\n",
    "    \n",
    "    #Stale\n",
    "    names += [\"XpSize_{}k*Stale_{}k\".format(xp, xp)]\n",
    "    legends += [\"Stale {}k Xp\".format(xp)]\n",
    "    t_maxs += [300001]          \n",
    "    \n",
    "direc = \"/home/tabz/tmp/logfiles/MedMaze10/MedMaze10_Xp\"\n",
    "# directories =  [\"{}/{}\".format(dropbox_direc, \"Maze_5_Logs/\")] + 3 * [\"{}/{}\".format(dropbox_direc, \"Maze_5_Batch_Sizes_Logs/\")] \n",
    "directories = direc + \"/XpSize/\"\n",
    "    \n",
    "print(names)\n",
    "print(t_maxs)\n",
    "print(directories)"
   ]
  },
  {
   "cell_type": "code",
   "execution_count": 134,
   "metadata": {
    "collapsed": true,
    "deletable": true,
    "editable": true
   },
   "outputs": [],
   "source": [
    "import itertools"
   ]
  },
  {
   "cell_type": "code",
   "execution_count": 135,
   "metadata": {
    "collapsed": false,
    "deletable": true,
    "editable": true
   },
   "outputs": [],
   "source": [
    "from bokeh.palettes import magma, inferno, Purples, Oranges, Greens, Reds, Set1, Set3, Paired, Dark2"
   ]
  },
  {
   "cell_type": "code",
   "execution_count": 136,
   "metadata": {
    "collapsed": false,
    "deletable": true,
    "editable": true
   },
   "outputs": [
    {
     "name": "stderr",
     "output_type": "stream",
     "text": [
      "/home/tabz/.local/lib/python3.6/site-packages/bokeh/models/sources.py:81: BokehUserWarning: ColumnDataSource's columns must be of the same length\n",
      "  lambda: warnings.warn(\"ColumnDataSource's columns must be of the same length\", BokehUserWarning))\n",
      "/home/tabz/.local/lib/python3.6/site-packages/bokeh/models/sources.py:81: BokehUserWarning: ColumnDataSource's columns must be of the same length\n",
      "  lambda: warnings.warn(\"ColumnDataSource's columns must be of the same length\", BokehUserWarning))\n",
      "/home/tabz/.local/lib/python3.6/site-packages/bokeh/models/sources.py:81: BokehUserWarning: ColumnDataSource's columns must be of the same length\n",
      "  lambda: warnings.warn(\"ColumnDataSource's columns must be of the same length\", BokehUserWarning))\n",
      "/home/tabz/.local/lib/python3.6/site-packages/bokeh/models/sources.py:81: BokehUserWarning: ColumnDataSource's columns must be of the same length\n",
      "  lambda: warnings.warn(\"ColumnDataSource's columns must be of the same length\", BokehUserWarning))\n",
      "/home/tabz/.local/lib/python3.6/site-packages/bokeh/models/sources.py:81: BokehUserWarning: ColumnDataSource's columns must be of the same length\n",
      "  lambda: warnings.warn(\"ColumnDataSource's columns must be of the same length\", BokehUserWarning))\n",
      "/home/tabz/.local/lib/python3.6/site-packages/bokeh/models/sources.py:81: BokehUserWarning: ColumnDataSource's columns must be of the same length\n",
      "  lambda: warnings.warn(\"ColumnDataSource's columns must be of the same length\", BokehUserWarning))\n",
      "/home/tabz/.local/lib/python3.6/site-packages/bokeh/models/sources.py:81: BokehUserWarning: ColumnDataSource's columns must be of the same length\n",
      "  lambda: warnings.warn(\"ColumnDataSource's columns must be of the same length\", BokehUserWarning))\n",
      "/home/tabz/.local/lib/python3.6/site-packages/bokeh/models/sources.py:81: BokehUserWarning: ColumnDataSource's columns must be of the same length\n",
      "  lambda: warnings.warn(\"ColumnDataSource's columns must be of the same length\", BokehUserWarning))\n",
      "/home/tabz/.local/lib/python3.6/site-packages/bokeh/models/sources.py:81: BokehUserWarning: ColumnDataSource's columns must be of the same length\n",
      "  lambda: warnings.warn(\"ColumnDataSource's columns must be of the same length\", BokehUserWarning))\n",
      "/home/tabz/.local/lib/python3.6/site-packages/bokeh/models/sources.py:81: BokehUserWarning: ColumnDataSource's columns must be of the same length\n",
      "  lambda: warnings.warn(\"ColumnDataSource's columns must be of the same length\", BokehUserWarning))\n",
      "/home/tabz/.local/lib/python3.6/site-packages/bokeh/models/sources.py:81: BokehUserWarning: ColumnDataSource's columns must be of the same length\n",
      "  lambda: warnings.warn(\"ColumnDataSource's columns must be of the same length\", BokehUserWarning))\n",
      "/home/tabz/.local/lib/python3.6/site-packages/bokeh/models/sources.py:81: BokehUserWarning: ColumnDataSource's columns must be of the same length\n",
      "  lambda: warnings.warn(\"ColumnDataSource's columns must be of the same length\", BokehUserWarning))\n",
      "/home/tabz/.local/lib/python3.6/site-packages/bokeh/models/sources.py:81: BokehUserWarning: ColumnDataSource's columns must be of the same length\n",
      "  lambda: warnings.warn(\"ColumnDataSource's columns must be of the same length\", BokehUserWarning))\n",
      "/home/tabz/.local/lib/python3.6/site-packages/bokeh/models/sources.py:81: BokehUserWarning: ColumnDataSource's columns must be of the same length\n",
      "  lambda: warnings.warn(\"ColumnDataSource's columns must be of the same length\", BokehUserWarning))\n",
      "/home/tabz/.local/lib/python3.6/site-packages/bokeh/models/sources.py:81: BokehUserWarning: ColumnDataSource's columns must be of the same length\n",
      "  lambda: warnings.warn(\"ColumnDataSource's columns must be of the same length\", BokehUserWarning))\n",
      "/home/tabz/.local/lib/python3.6/site-packages/bokeh/models/sources.py:81: BokehUserWarning: ColumnDataSource's columns must be of the same length\n",
      "  lambda: warnings.warn(\"ColumnDataSource's columns must be of the same length\", BokehUserWarning))\n"
     ]
    },
    {
     "data": {
      "text/html": [
       "\n",
       "\n",
       "    <div class=\"bk-root\">\n",
       "        <div class=\"bk-plotdiv\" id=\"9c368083-35e1-49c6-9e5b-dcd0bf7e4f3f\"></div>\n",
       "    </div>\n",
       "<script type=\"text/javascript\">\n",
       "  \n",
       "  (function(global) {\n",
       "    function now() {\n",
       "      return new Date();\n",
       "    }\n",
       "  \n",
       "    var force = false;\n",
       "  \n",
       "    if (typeof (window._bokeh_onload_callbacks) === \"undefined\" || force === true) {\n",
       "      window._bokeh_onload_callbacks = [];\n",
       "      window._bokeh_is_loading = undefined;\n",
       "    }\n",
       "  \n",
       "  \n",
       "    \n",
       "    if (typeof (window._bokeh_timeout) === \"undefined\" || force === true) {\n",
       "      window._bokeh_timeout = Date.now() + 0;\n",
       "      window._bokeh_failed_load = false;\n",
       "    }\n",
       "  \n",
       "    var NB_LOAD_WARNING = {'data': {'text/html':\n",
       "       \"<div style='background-color: #fdd'>\\n\"+\n",
       "       \"<p>\\n\"+\n",
       "       \"BokehJS does not appear to have successfully loaded. If loading BokehJS from CDN, this \\n\"+\n",
       "       \"may be due to a slow or bad network connection. Possible fixes:\\n\"+\n",
       "       \"</p>\\n\"+\n",
       "       \"<ul>\\n\"+\n",
       "       \"<li>re-rerun `output_notebook()` to attempt to load from CDN again, or</li>\\n\"+\n",
       "       \"<li>use INLINE resources instead, as so:</li>\\n\"+\n",
       "       \"</ul>\\n\"+\n",
       "       \"<code>\\n\"+\n",
       "       \"from bokeh.resources import INLINE\\n\"+\n",
       "       \"output_notebook(resources=INLINE)\\n\"+\n",
       "       \"</code>\\n\"+\n",
       "       \"</div>\"}};\n",
       "  \n",
       "    function display_loaded() {\n",
       "      if (window.Bokeh !== undefined) {\n",
       "        document.getElementById(\"9c368083-35e1-49c6-9e5b-dcd0bf7e4f3f\").textContent = \"BokehJS successfully loaded.\";\n",
       "      } else if (Date.now() < window._bokeh_timeout) {\n",
       "        setTimeout(display_loaded, 100)\n",
       "      }\n",
       "    }\n",
       "  \n",
       "    function run_callbacks() {\n",
       "      window._bokeh_onload_callbacks.forEach(function(callback) { callback() });\n",
       "      delete window._bokeh_onload_callbacks\n",
       "      console.info(\"Bokeh: all callbacks have finished\");\n",
       "    }\n",
       "  \n",
       "    function load_libs(js_urls, callback) {\n",
       "      window._bokeh_onload_callbacks.push(callback);\n",
       "      if (window._bokeh_is_loading > 0) {\n",
       "        console.log(\"Bokeh: BokehJS is being loaded, scheduling callback at\", now());\n",
       "        return null;\n",
       "      }\n",
       "      if (js_urls == null || js_urls.length === 0) {\n",
       "        run_callbacks();\n",
       "        return null;\n",
       "      }\n",
       "      console.log(\"Bokeh: BokehJS not loaded, scheduling load and callback at\", now());\n",
       "      window._bokeh_is_loading = js_urls.length;\n",
       "      for (var i = 0; i < js_urls.length; i++) {\n",
       "        var url = js_urls[i];\n",
       "        var s = document.createElement('script');\n",
       "        s.src = url;\n",
       "        s.async = false;\n",
       "        s.onreadystatechange = s.onload = function() {\n",
       "          window._bokeh_is_loading--;\n",
       "          if (window._bokeh_is_loading === 0) {\n",
       "            console.log(\"Bokeh: all BokehJS libraries loaded\");\n",
       "            run_callbacks()\n",
       "          }\n",
       "        };\n",
       "        s.onerror = function() {\n",
       "          console.warn(\"failed to load library \" + url);\n",
       "        };\n",
       "        console.log(\"Bokeh: injecting script tag for BokehJS library: \", url);\n",
       "        document.getElementsByTagName(\"head\")[0].appendChild(s);\n",
       "      }\n",
       "    };var element = document.getElementById(\"9c368083-35e1-49c6-9e5b-dcd0bf7e4f3f\");\n",
       "    if (element == null) {\n",
       "      console.log(\"Bokeh: ERROR: autoload.js configured with elementid '9c368083-35e1-49c6-9e5b-dcd0bf7e4f3f' but no matching script tag was found. \")\n",
       "      return false;\n",
       "    }\n",
       "  \n",
       "    var js_urls = [];\n",
       "  \n",
       "    var inline_js = [\n",
       "      function(Bokeh) {\n",
       "        (function() {\n",
       "          var fn = function() {\n",
       "            var docs_json = {\"1e8ac7bf-508b-4f3a-8ea8-f8645b48ba3b\":{\"roots\":{\"references\":[{\"attributes\":{\"callback\":null,\"column_names\":[\"x\",\"y\"],\"data\":{\"x\":[0,1000,2000,3000,4000,5000,6000,7000,8000,9000,10000,11000,12000,13000,14000,15000,16000,17000,18000,19000,20000,21000,22000,23000,24000,25000,26000,27000,28000,29000,30000,31000,32000,33000,34000,35000,36000,37000,38000,39000,40000,41000,42000,43000,44000,45000,46000,47000,48000,49000,50000,51000,52000,53000,54000,55000,56000,57000,58000,59000,60000,61000,62000,63000,64000,65000,66000,67000,68000,69000,70000,71000,72000,73000,74000,75000,76000,77000,78000,79000,80000,81000,82000,83000,84000,85000,86000,87000,88000,89000,90000,91000,92000,93000,94000,95000,96000,97000,98000,99000,100000,101000,102000,103000,104000,105000,106000,107000,108000,109000,110000,111000,112000,113000,114000,115000,116000,117000,118000,119000,120000,121000,122000,123000,124000,125000,126000,127000,128000,129000,130000,131000,132000,133000,134000,135000,136000,137000,138000,139000,140000,141000,142000,143000,144000,145000,146000,147000,148000,149000,150000,151000,152000,153000,154000,155000,156000,157000,158000,159000,160000,161000,162000,163000,164000,165000,166000,167000,168000,169000,170000,171000,172000,173000,174000,175000,176000,177000,178000,179000,180000,181000,182000,183000,184000,185000,186000,187000,188000,189000,190000,191000,192000,193000,194000,195000,196000,197000,198000,199000,200000,201000,202000,203000,204000,205000,206000,207000,208000,209000,210000,211000,212000,213000,214000,215000,216000,217000,218000,219000,220000,221000,222000,223000,224000,225000,226000,227000,228000,229000,230000,231000,232000,233000,234000,235000,236000,237000,238000,239000,240000,241000,242000,243000,244000,245000,246000,247000,248000,249000,250000,251000,252000,253000,254000,255000,256000,257000,258000,259000,260000,261000,262000,263000,264000,265000,266000,267000,268000,269000,270000,271000,272000,273000,274000,275000,276000,277000,278000,279000,280000,281000,282000,283000,284000,285000,286000,287000,288000,289000,290000,291000,292000,293000,294000,295000,296000,297000,298000,299000,300000],\"y\":{\"__ndarray__\":\"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\",\"dtype\":\"float64\",\"shape\":[300]}}},\"id\":\"37e02fee-539a-47c8-8330-2e1f56d43194\",\"type\":\"ColumnDataSource\"},{\"attributes\":{\"overlay\":{\"id\":\"e678b44b-de8a-4f6e-b540-50e70d1254a3\",\"type\":\"BoxAnnotation\"},\"plot\":{\"id\":\"df8806a1-9c70-45c4-a6d7-33e33dfd4642\",\"subtype\":\"Figure\",\"type\":\"Plot\"}},\"id\":\"18a44f3c-e913-47e9-b715-449d609ff3f6\",\"type\":\"BoxZoomTool\"},{\"attributes\":{\"plot\":{\"id\":\"df8806a1-9c70-45c4-a6d7-33e33dfd4642\",\"subtype\":\"Figure\",\"type\":\"Plot\"}},\"id\":\"4d149cc0-a772-45d9-8dbf-24410476be8d\",\"type\":\"ResetTool\"},{\"attributes\":{\"line_color\":{\"value\":\"#377eb8\"},\"line_width\":{\"value\":2},\"x\":{\"field\":\"x\"},\"y\":{\"field\":\"y\"}},\"id\":\"e0285fff-db9c-4191-90ed-c0cbcec12911\",\"type\":\"Line\"},{\"attributes\":{\"fill_alpha\":{\"value\":0.1},\"fill_color\":{\"value\":\"#a65628\"},\"line_alpha\":{\"value\":0.1},\"line_color\":{\"value\":\"#a65628\"},\"x\":{\"field\":\"x\"},\"y\":{\"field\":\"y\"}},\"id\":\"f0b39d9f-fba1-4467-8cfa-ae636d69c466\",\"type\":\"Patch\"},{\"attributes\":{\"plot\":{\"id\":\"df8806a1-9c70-45c4-a6d7-33e33dfd4642\",\"subtype\":\"Figure\",\"type\":\"Plot\"},\"ticker\":{\"id\":\"41f65ef0-9d1d-417c-a1dc-36ec66393a12\",\"type\":\"BasicTicker\"}},\"id\":\"ffe45a1f-6c46-46f9-a148-c2b42ae59fb7\",\"type\":\"Grid\"},{\"attributes\":{\"data_source\":{\"id\":\"aaf42ed5-5937-4dbe-9811-b4f0132e1963\",\"type\":\"ColumnDataSource\"},\"glyph\":{\"id\":\"4575371d-f8b7-4b50-b88f-787157908d0b\",\"type\":\"Line\"},\"hover_glyph\":null,\"nonselection_glyph\":{\"id\":\"3be9eb41-2ce3-4132-b293-8166bf87166f\",\"type\":\"Line\"},\"selection_glyph\":null},\"id\":\"dcb9079d-92b2-49e1-aee3-d2c956d724ed\",\"type\":\"GlyphRenderer\"},{\"attributes\":{},\"id\":\"41f65ef0-9d1d-417c-a1dc-36ec66393a12\",\"type\":\"BasicTicker\"},{\"attributes\":{\"fill_alpha\":{\"value\":0.1},\"fill_color\":{\"value\":\"#1f77b4\"},\"line_alpha\":{\"value\":0.1},\"line_color\":{\"value\":\"#1f77b4\"},\"x\":{\"field\":\"x\"},\"y\":{\"field\":\"y\"}},\"id\":\"bcc166a3-9ad3-462a-a44b-74c2b326680e\",\"type\":\"Patch\"},{\"attributes\":{\"dimension\":1,\"plot\":{\"id\":\"df8806a1-9c70-45c4-a6d7-33e33dfd4642\",\"subtype\":\"Figure\",\"type\":\"Plot\"},\"ticker\":{\"id\":\"129ca6b4-ed22-4bcd-8fec-11e62e9e098f\",\"type\":\"BasicTicker\"}},\"id\":\"900a859f-b61d-4ad1-8fb6-f68d359b9549\",\"type\":\"Grid\"},{\"attributes\":{\"data_source\":{\"id\":\"ae510b07-65b6-4540-a386-ec9d848fbed4\",\"type\":\"ColumnDataSource\"},\"glyph\":{\"id\":\"f0b39d9f-fba1-4467-8cfa-ae636d69c466\",\"type\":\"Patch\"},\"hover_glyph\":null,\"nonselection_glyph\":{\"id\":\"e7da2983-fb0d-417d-ab5e-f0bc96d2e435\",\"type\":\"Patch\"},\"selection_glyph\":null},\"id\":\"52aae123-a478-4ab2-b7c5-b379a180b689\",\"type\":\"GlyphRenderer\"},{\"attributes\":{\"callback\":null,\"column_names\":[\"x\",\"y\"],\"data\":{\"x\":[0,1000,2000,3000,4000,5000,6000,7000,8000,9000,10000,11000,12000,13000,14000,15000,16000,17000,18000,19000,20000,21000,22000,23000,24000,25000,26000,27000,28000,29000,30000,31000,32000,33000,34000,35000,36000,37000,38000,39000,40000,41000,42000,43000,44000,45000,46000,47000,48000,49000,50000,51000,52000,53000,54000,55000,56000,57000,58000,59000,60000,61000,62000,63000,64000,65000,66000,67000,68000,69000,70000,71000,72000,73000,74000,75000,76000,77000,78000,79000,80000,81000,82000,83000,84000,85000,86000,87000,88000,89000,90000,91000,92000,93000,94000,95000,96000,97000,98000,99000,100000,101000,102000,103000,104000,105000,106000,107000,108000,109000,110000,111000,112000,113000,114000,115000,116000,117000,118000,119000,120000,121000,122000,123000,124000,125000,126000,127000,128000,129000,130000,131000,132000,133000,134000,135000,136000,137000,138000,139000,140000,141000,142000,143000,144000,145000,146000,147000,148000,149000,150000,151000,152000,153000,154000,155000,156000,157000,158000,159000,160000,161000,162000,163000,164000,165000,166000,167000,168000,169000,170000,171000,172000,173000,174000,175000,176000,177000,178000,179000,180000,181000,182000,183000,184000,185000,186000,187000,188000,189000,190000,191000,192000,193000,194000,195000,196000,197000,198000,199000,200000,201000,202000,203000,204000,205000,206000,207000,208000,209000,210000,211000,212000,213000,214000,215000,216000,217000,218000,219000,220000,221000,222000,223000,224000,225000,226000,227000,228000,229000,230000,231000,232000,233000,234000,235000,236000,237000,238000,239000,240000,241000,242000,243000,244000,245000,246000,247000,248000,249000,250000,251000,252000,253000,254000,255000,256000,257000,258000,259000,260000,261000,262000,263000,264000,265000,266000,267000,268000,269000,270000,271000,272000,273000,274000,275000,276000,277000,278000,279000,280000,281000,282000,283000,284000,285000,286000,287000,288000,289000,290000,291000,292000,293000,294000,295000,296000,297000,298000,299000,300000,300000,299000,298000,297000,296000,295000,294000,293000,292000,291000,290000,289000,288000,287000,286000,285000,284000,283000,282000,281000,280000,279000,278000,277000,276000,275000,274000,273000,272000,271000,270000,269000,268000,267000,266000,265000,264000,263000,262000,261000,260000,259000,258000,257000,256000,255000,254000,253000,252000,251000,250000,249000,248000,247000,246000,245000,244000,243000,242000,241000,240000,239000,238000,237000,236000,235000,234000,233000,232000,231000,230000,229000,228000,227000,226000,225000,224000,223000,222000,221000,220000,219000,218000,217000,216000,215000,214000,213000,212000,211000,210000,209000,208000,207000,206000,205000,204000,203000,202000,201000,200000,199000,198000,197000,196000,195000,194000,193000,192000,191000,190000,189000,188000,187000,186000,185000,184000,183000,182000,181000,180000,179000,178000,177000,176000,175000,174000,173000,172000,171000,170000,169000,168000,167000,166000,165000,164000,163000,162000,161000,160000,159000,158000,157000,156000,155000,154000,153000,152000,151000,150000,149000,148000,147000,146000,145000,144000,143000,142000,141000,140000,139000,138000,137000,136000,135000,134000,133000,132000,131000,130000,129000,128000,127000,126000,125000,124000,123000,122000,121000,120000,119000,118000,117000,116000,115000,114000,113000,112000,111000,110000,109000,108000,107000,106000,105000,104000,103000,102000,101000,100000,99000,98000,97000,96000,95000,94000,93000,92000,91000,90000,89000,88000,87000,86000,85000,84000,83000,82000,81000,80000,79000,78000,77000,76000,75000,74000,73000,72000,71000,70000,69000,68000,67000,66000,65000,64000,63000,62000,61000,60000,59000,58000,57000,56000,55000,54000,53000,52000,51000,50000,49000,48000,47000,46000,45000,44000,43000,42000,41000,40000,39000,38000,37000,36000,35000,34000,33000,32000,31000,30000,29000,28000,27000,26000,25000,24000,23000,22000,21000,20000,19000,18000,17000,16000,15000,14000,13000,12000,11000,10000,9000,8000,7000,6000,5000,4000,3000,2000,1000,0],\"y\":{\"__ndarray__\":\"AAAAAAAA8D8WdURNuV1TQLvfidYV1WFAcuEGn6l1YkBAEJ361D5iQA9yxCkt7WFAWGU+VsLObUCET67KBeNwQHw9e/8keXFAdJwqI436ckDlemFdMtVzQPR35ZAN+3RA/sJKWBdxeUCxyfUS9IN9QLHJ9RL0g31Ascn1EvSDfUCxyfUS9IN9QPl5o7BTkH1AUg5h8HjafUCcohpfvuh+QINNB0uC1H9Aqk2Se1gOg0CYVc9V4X6DQGLlKAgC+YRAYuUoCAL5hECSlHLtS+mEQJKUcu1L6YRAkpRy7UvphECSlHLtS+mEQJKUcu1L6YRAkpRy7UvphECSlHLtS+mEQJKUcu1L6YRAkpRy7UvphEAjQ9QRSduEQHmYKWeeWIVAflc/44lKhUBuqQB+7VSFQG6pAH7tVIVAbqkAfu1UhUBuqQB+7VSFQG6pAH7tVIVAbqkAfu1UhUBuqQB+7VSFQG6pAH7tVIVAbqkAfu1UhUBuqQB+7VSFQG6pAH7tVIVAbqkAfu1UhUBuqQB+7VSFQG6pAH7tVIVAbqkAfu1UhUBuqQB+7VSFQG6pAH7tVIVAmUMEGHlThUCZQwQYeVOFQJlDBBh5U4VAmUMEGHlThUCZQwQYeVOFQJlDBBh5U4VA2gf/Nf9RhUDaB/81/1GFQNoH/zX/UYVA2gf/Nf9RhUDaB/81/1GFQNoH/zX/UYVA2gf/Nf9RhUDaB/81/1GFQNoH/zX/UYVA2gf/Nf9RhUDaB/81/1GFQNoH/zX/UYVA2gf/Nf9RhUAt2qplgtmEQGV7CVN814RAZACb5JmxhEBkAJvkmbGEQGQAm+SZsYRAZACb5JmxhEBkAJvkmbGEQGQAm+SZsYRAZACb5JmxhEBkAJvkmbGEQGQAm+SZsYRAZACb5JmxhEBkAJvkmbGEQGQAm+SZsYRAZACb5JmxhEBkAJvkmbGEQGQAm+SZsYRAZACb5JmxhEBkAJvkmbGEQGQAm+SZsYRAZACb5JmxhEDAS01f9oiEQJYDarnph4RAlgNquemHhECWA2q56YeEQA5iz8vUj4RA6ZJ7nSHGhEBMPg4WrEuFQEw+DhasS4VATD4OFqxLhUBMPg4WrEuFQPdLxL03RoVA+AUj+k1FhUDV9+thzT+FQNX362HNP4VA1ffrYc0/hUDV9+thzT+FQNX362HNP4VA1ffrYc0/hUDV9+thzT+FQNX362HNP4VA1ffrYc0/hUDV9+thzT+FQNX362HNP4VA1ffrYc0/hUDV9+thzT+FQHwZtp71PYVAfBm2nvU9hUB8Gbae9T2FQHwZtp71PYVAfBm2nvU9hUB8Gbae9T2FQHwZtp71PYVAfBm2nvU9hUB8Gbae9T2FQHwZtp71PYVAfBm2nvU9hUB8Gbae9T2FQHwZtp71PYVAfBm2nvU9hUB8Gbae9T2FQHwZtp71PYVAfBm2nvU9hUB8Gbae9T2FQHwZtp71PYVAfBm2nvU9hUB8Gbae9T2FQHwZtp71PYVAfBm2nvU9hUB8Gbae9T2FQHwZtp71PYVAfBm2nvU9hUB8Gbae9T2FQHwZtp71PYVAfBm2nvU9hUB8Gbae9T2FQHwZtp71PYVAfBm2nvU9hUB8Gbae9T2FQHwZtp71PYVAfBm2nvU9hUB8Gbae9T2FQHwZtp71PYVAfBm2nvU9hUB8Gbae9T2FQHwZtp71PYVAfBm2nvU9hUB8Gbae9T2FQHwZtp71PYVAfBm2nvU9hUB8Gbae9T2FQHwZtp71PYVAfBm2nvU9hUB8Gbae9T2FQHwZtp71PYVAlYa9VAk9hUCVhr1UCT2FQJWGvVQJPYVAlYa9VAk9hUCVhr1UCT2FQJWGvVQJPYVAlYa9VAk9hUA6E2PcQjqFQDoTY9xCOoVAOhNj3EI6hUA6E2PcQjqFQDoTY9xCOoVAOhNj3EI6hUA6E2PcQjqFQDoTY9xCOoVArOKzglU5hUCs4rOCVTmFQKzis4JVOYVArOKzglU5hUCs4rOCVTmFQKzis4JVOYVArOKzglU5hUCs4rOCVTmFQKzis4JVOYVArOKzglU5hUCs4rOCVTmFQKzis4JVOYVArOKzglU5hUCs4rOCVTmFQKzis4JVOYVArOKzglU5hUCs4rOCVTmFQKzis4JVOYVArOKzglU5hUCs4rOCVTmFQKzis4JVOYVArOKzglU5hUCs4rOCVTmFQKzis4JVOYVAYnd5SEAshUBid3lIQCyFQLSB2kBPK4VAtIHaQE8rhUCaoMOBbCmFQJqgw4FsKYVAmqDDgWwphUCaoMOBbCmFQJqgw4FsKYVAmqDDgWwphUCaoMOBbCmFQJqgw4FsKYVAmqDDgWwphUCaoMOBbCmFQJqgw4FsKYVAmqDDgWwphUCaoMOBbCmFQFGBLVxN94RAtPuwg1b1hEC0+7CDVvWEQLT7sINW9YRAtPuwg1b1hEC0+7CDVvWEQLT7sINW9YRAtPuwg1b1hEC0+7CDVvWEQLT7sINW9YRAtPuwg1b1hEC0+7CDVvWEQLT7sINW9YRAtPuwg1b1hEC0+7CDVvWEQLT7sINW9YRAtPuwg1b1hEC0+7CDVvWEQLT7sINW9YRAtPuwg1b1hEC0+7CDVvWEQLT7sINW9YRAtPuwg1b1hEC0+7CDVvWEQLT7sINW9YRAtPuwg1b1hEC0+7CDVvWEQLT7sINW9YRAtPuwg1b1hEC0+7CDVvWEQLT7sINW9YRAtPuwg1b1hEC0+7CDVvWEQLT7sINW9YRAtPuwg1b1hEC0+7CDVvWEQLT7sINW9YRAtPuwg1b1hEC0+7CDVvWEQLT7sINW9YRAtPuwg1b1hEC0+7CDVvWEQLT7sINW9YRAtPuwg1b1hEC0+7CDVvWEQLT7sINW9YRAtPuwg1b1hEC0+7CDVvWEQMAho91a9IRAwCGj3Vr0hEAwOjQ1de2EQHdfeH2c0oRAd194fZzShEB3X3h9nNKEQHdfeH2c0oRAd194fZzShEB3X3h9nNKEQHdfeH2c0oRAd194fZzShEB3X3h9nNKEQHdfeH2c0oRAd194fZzShEB3X3h9nNKEQHdfeH2c0oRAd194fZzShEB3X3h9nNKEQHdfeH2c0oRAd194fZzShEB3X3h9nNKEQHdfeH2c0oRAd194fZzShEB3X3h9nNKEQHdfeH2c0oRAd194fZzShEDWLbk8m8+EQNZa7PCYzIRAldKJh7MBkUAVaaNhMviQQETQQ8Gx7pBARNBDwbHukEBE0EPBse6QQETQQ8Gx7pBARNBDwbHukEBE0EPBse6QQETQQ8Gx7pBARNBDwbHukEBE0EPBse6QQETQQ8Gx7pBARNBDwbHukEBE0EPBse6QQETQQ8Gx7pBARNBDwbHukEBE0EPBse6QQETQQ8Gx7pBARNBDwbHukEBE0EPBse6QQETQQ8Gx7pBARNBDwbHukEBE0EPBse6QQETQQ8Gx7pBARNBDwbHukEDo4mVlRZmQQHXEg+Yng5BAdcSD5ieDkEDRLNJo/3+QQNEs0mj/f5BA0SzSaP9/kEDRLNJo/3+QQNEs0mj/f5BA0SzSaP9/kEDRLNJo/3+QQNEs0mj/f5BA0SzSaP9/kEDRLNJo/3+QQNEs0mj/f5BA0SzSaP9/kEDRLNJo/3+QQNEs0mj/f5BA0SzSaP9/kEDRLNJo/3+QQNEs0mj/f5BA0SzSaP9/kEDRLNJo/3+QQNEs0mj/f5BA0SzSaP9/kEDRLNJo/3+QQNEs0mj/f5BA0SzSaP9/kEDRLNJo/3+QQNEs0mj/f5BA0SzSaP9/kEDRLNJo/3+QQNEs0mj/f5BA0SzSaP9/kEDRLNJo/3+QQNEs0mj/f5BA0SzSaP9/kEDRLNJo/3+QQNEs0mj/f5BA0SzSaP9/kEDRLNJo/3+QQNEs0mj/f5BA0SzSaP9/kEDRLNJo/3+QQNEs0mj/f5BA0SzSaP9/kEDRLNJo/3+QQNEs0mj/f5BA0SzSaP9/kEDRLNJo/3+QQNEs0mj/f5BArZQ+p655kEC8tJHT6KuPQLy0kdPoq49AvLSR0+irj0C8tJHT6KuPQLy0kdPoq49AvLSR0+irj0C8tJHT6KuPQLy0kdPoq49AvLSR0+irj0C8tJHT6KuPQLy0kdPoq49AvLSR0+irj0C8tJHT6KuPQPYo0Glbn49A9ijQaVufj0D03dsMFZmPQPTd2wwVmY9A/sf2J1VBj0D+x/YnVUGPQP7H9idVQY9A/sf2J1VBj0D+x/YnVUGPQP7H9idVQY9A/sf2J1VBj0D+x/YnVUGPQP7H9idVQY9A/sf2J1VBj0D+x/YnVUGPQP7H9idVQY9A/sf2J1VBj0D+x/YnVUGPQP7H9idVQY9A/sf2J1VBj0D+x/YnVUGPQP7H9idVQY9A/sf2J1VBj0D+x/YnVUGPQP7H9idVQY9A/sf2J1VBj0D+x/YnVUGPQP7H9idVQY9AHELyeBI7j0AcQvJ4EjuPQBxC8ngSO49AHELyeBI7j0AcQvJ4EjuPQBxC8ngSO49AHELyeBI7j0AcQvJ4EjuPQMHOlwBMKI9Awc6XAEwoj0DBzpcATCiPQMHOlwBMKI9Awc6XAEwoj0DBzpcATCiPQMHOlwBMKI9AhOZJYQoij0CE5klhCiKPQITmSWEKIo9AhOZJYQoij0CE5klhCiKPQITmSWEKIo9AhOZJYQoij0CE5klhCiKPQITmSWEKIo9AhOZJYQoij0CE5klhCiKPQITmSWEKIo9AhOZJYQoij0CE5klhCiKPQITmSWEKIo9AhOZJYQoij0CE5klhCiKPQITmSWEKIo9AhOZJYQoij0CE5klhCiKPQITmSWEKIo9AhOZJYQoij0CE5klhCiKPQITmSWEKIo9AhOZJYQoij0CE5klhCiKPQITmSWEKIo9AhOZJYQoij0CE5klhCiKPQITmSWEKIo9AhOZJYQoij0CE5klhCiKPQITmSWEKIo9AhOZJYQoij0CE5klhCiKPQITmSWEKIo9AhOZJYQoij0CE5klhCiKPQITmSWEKIo9AhOZJYQoij0CE5klhCiKPQITmSWEKIo9AhOZJYQoij0CE5klhCiKPQITmSWEKIo9AhOZJYQoij0CE5klhCiKPQITmSWEKIo9AhOZJYQoij0CBXWnzhxWPQIFdafOHFY9AgV1p84cVj0CBXWnzhxWPQIFdafOHFY9AgV1p84cVj0CBXWnzhxWPQIFdafOHFY9AgV1p84cVj0CBXWnzhxWPQIFdafOHFY9AgV1p84cVj0CBXWnzhxWPQF5PMlsH8I5ACbQ7QsjpjkC0wfHpU8SOQLTB8elTxI5AtMHx6VPEjkC0wfHpU8SOQMEXLw2JhI5A8p0wNCtwjkDAUeuba22OQMBR65trbY5AwFHrm2ttjkBAtLKgCWeOQJz/ZBtmbo1AnP9kG2ZujUCc/2QbZm6NQJz/ZBtmbo1AnP9kG2ZujUCc/2QbZm6NQJz/ZBtmbo1AnP9kG2ZujUCc/2QbZm6NQJz/ZBtmbo1AnP9kG2ZujUCc/2QbZm6NQJz/ZBtmbo1AnP9kG2ZujUCc/2QbZm6NQJz/ZBtmbo1AnP9kG2ZujUCc/2QbZm6NQJz/ZBtmbo1ARS+hVy6DjEDTJVWafXaMQHxNVh9WQ4lAfE1WH1ZDiUB8TVYfVkOJQHxNVh9WQ4lAfE1WH1ZDiUB8TVYfVkOJQHxNVh9WQ4lAfE1WH1ZDiUB8TVYfVkOJQHxNVh9WQ4lAfE1WH1ZDiUB8TVYfVkOJQHxNVh9WQ4lAEWemkjE3iUARZ6aSMTeJQBFnppIxN4lAEWemkjE3iUARZ6aSMTeJQBFnppIxN4lAklb/gRIriUCSVv+BEiuJQJJW/4ESK4lAklb/gRIriUCSVv+BEiuJQJJW/4ESK4lAklb/gRIriUCSVv+BEiuJQJJW/4ESK4lAklb/gRIriUCSVv+BEiuJQJJW/4ESK4lAklb/gRIriUCSVv+BEiuJQJJW/4ESK4lAklb/gRIriUCSVv+BEiuJQNj9FXLL+ohA3bwr7rYMh0CHZ9aYYY+GQMTA4mcJPIZAxMDiZwk8hkDEwOJnCTyGQMTA4mcJPIZAxMDiZwk8hkDEwOJnCTyGQMTA4mcJPIZAxMDiZwk8hkDEwOJnCTyGQJ4a1/f9doVAnhrX9/12hUASVdtUyZuFQFaybYSnoYVAlK7RLxQbhUBcWR17SyaFQC3OJN0YOIVAWpgDfSs9hUAnG4X2BT6FQCcbhfYFPoVAJxuF9gU+hUAnG4X2BT6FQIGe2lN094RAW5nijM5ng0COQk/RZkWDQHFcFRlkrYFAl7aX1cI4gEDSBaeKT/J/QP53i39JQ35AThxzwL6+d0Dgd7GClUB2QDjJowsB9W9Am3XLfj8AaUDKGrOueGZhQAAAAAAAAPA/\",\"dtype\":\"float64\",\"shape\":[600]}}},\"id\":\"32bdb4a6-de3e-4473-992f-8b4bfd33a82a\",\"type\":\"ColumnDataSource\"},{\"attributes\":{\"fill_alpha\":{\"value\":0.1},\"fill_color\":{\"value\":\"#e41a1c\"},\"line_alpha\":{\"value\":0.1},\"line_color\":{\"value\":\"#e41a1c\"},\"x\":{\"field\":\"x\"},\"y\":{\"field\":\"y\"}},\"id\":\"729f585e-0725-4bd2-aa49-b2d8ceb0190d\",\"type\":\"Patch\"},{\"attributes\":{\"line_color\":{\"value\":\"#e41a1c\"},\"line_width\":{\"value\":2},\"x\":{\"field\":\"x\"},\"y\":{\"field\":\"y\"}},\"id\":\"42c1f54e-2ad6-4177-b47e-586d374920e4\",\"type\":\"Line\"},{\"attributes\":{\"data_source\":{\"id\":\"bdfa6aeb-b9e6-409b-9f70-71a8f6f48b25\",\"type\":\"ColumnDataSource\"},\"glyph\":{\"id\":\"42c1f54e-2ad6-4177-b47e-586d374920e4\",\"type\":\"Line\"},\"hover_glyph\":null,\"nonselection_glyph\":{\"id\":\"e6473f90-6ec2-47c0-9ee6-5550507b91cf\",\"type\":\"Line\"},\"selection_glyph\":null},\"id\":\"99e4caa2-5ee6-442d-b854-04e37abee1d5\",\"type\":\"GlyphRenderer\"},{\"attributes\":{\"fill_alpha\":{\"value\":0.1},\"fill_color\":{\"value\":\"#1f77b4\"},\"line_alpha\":{\"value\":0.1},\"line_color\":{\"value\":\"#1f77b4\"},\"x\":{\"field\":\"x\"},\"y\":{\"field\":\"y\"}},\"id\":\"9a0951ce-9dc4-4e77-a49f-dc21d73f32e1\",\"type\":\"Patch\"},{\"attributes\":{},\"id\":\"129ca6b4-ed22-4bcd-8fec-11e62e9e098f\",\"type\":\"BasicTicker\"},{\"attributes\":{\"label\":{\"value\":\"Fresh 300k Xp\"},\"renderers\":[{\"id\":\"7a8d3ff9-3191-468f-baa2-3442c3d60076\",\"type\":\"GlyphRenderer\"}]},\"id\":\"78bee4c5-80be-4e80-8f66-0849e79aeba4\",\"type\":\"LegendItem\"},{\"attributes\":{\"callback\":null,\"column_names\":[\"x\",\"y\"],\"data\":{\"x\":[0,1000,2000,3000,4000,5000,6000,7000,8000,9000,10000,11000,12000,13000,14000,15000,16000,17000,18000,19000,20000,21000,22000,23000,24000,25000,26000,27000,28000,29000,30000,31000,32000,33000,34000,35000,36000,37000,38000,39000,40000,41000,42000,43000,44000,45000,46000,47000,48000,49000,50000,51000,52000,53000,54000,55000,56000,57000,58000,59000,60000,61000,62000,63000,64000,65000,66000,67000,68000,69000,70000,71000,72000,73000,74000,75000,76000,77000,78000,79000,80000,81000,82000,83000,84000,85000,86000,87000,88000,89000,90000,91000,92000,93000,94000,95000,96000,97000,98000,99000,100000,101000,102000,103000,104000,105000,106000,107000,108000,109000,110000,111000,112000,113000,114000,115000,116000,117000,118000,119000,120000,121000,122000,123000,124000,125000,126000,127000,128000,129000,130000,131000,132000,133000,134000,135000,136000,137000,138000,139000,140000,141000,142000,143000,144000,145000,146000,147000,148000,149000,150000,151000,152000,153000,154000,155000,156000,157000,158000,159000,160000,161000,162000,163000,164000,165000,166000,167000,168000,169000,170000,171000,172000,173000,174000,175000,176000,177000,178000,179000,180000,181000,182000,183000,184000,185000,186000,187000,188000,189000,190000,191000,192000,193000,194000,195000,196000,197000,198000,199000,200000,201000,202000,203000,204000,205000,206000,207000,208000,209000,210000,211000,212000,213000,214000,215000,216000,217000,218000,219000,220000,221000,222000,223000,224000,225000,226000,227000,228000,229000,230000,231000,232000,233000,234000,235000,236000,237000,238000,239000,240000,241000,242000,243000,244000,245000,246000,247000,248000,249000,250000,251000,252000,253000,254000,255000,256000,257000,258000,259000,260000,261000,262000,263000,264000,265000,266000,267000,268000,269000,270000,271000,272000,273000,274000,275000,276000,277000,278000,279000,280000,281000,282000,283000,284000,285000,286000,287000,288000,289000,290000,291000,292000,293000,294000,295000,296000,297000,298000,299000,300000,300000,299000,298000,297000,296000,295000,294000,293000,292000,291000,290000,289000,288000,287000,286000,285000,284000,283000,282000,281000,280000,279000,278000,277000,276000,275000,274000,273000,272000,271000,270000,269000,268000,267000,266000,265000,264000,263000,262000,261000,260000,259000,258000,257000,256000,255000,254000,253000,252000,251000,250000,249000,248000,247000,246000,245000,244000,243000,242000,241000,240000,239000,238000,237000,236000,235000,234000,233000,232000,231000,230000,229000,228000,227000,226000,225000,224000,223000,222000,221000,220000,219000,218000,217000,216000,215000,214000,213000,212000,211000,210000,209000,208000,207000,206000,205000,204000,203000,202000,201000,200000,199000,198000,197000,196000,195000,194000,193000,192000,191000,190000,189000,188000,187000,186000,185000,184000,183000,182000,181000,180000,179000,178000,177000,176000,175000,174000,173000,172000,171000,170000,169000,168000,167000,166000,165000,164000,163000,162000,161000,160000,159000,158000,157000,156000,155000,154000,153000,152000,151000,150000,149000,148000,147000,146000,145000,144000,143000,142000,141000,140000,139000,138000,137000,136000,135000,134000,133000,132000,131000,130000,129000,128000,127000,126000,125000,124000,123000,122000,121000,120000,119000,118000,117000,116000,115000,114000,113000,112000,111000,110000,109000,108000,107000,106000,105000,104000,103000,102000,101000,100000,99000,98000,97000,96000,95000,94000,93000,92000,91000,90000,89000,88000,87000,86000,85000,84000,83000,82000,81000,80000,79000,78000,77000,76000,75000,74000,73000,72000,71000,70000,69000,68000,67000,66000,65000,64000,63000,62000,61000,60000,59000,58000,57000,56000,55000,54000,53000,52000,51000,50000,49000,48000,47000,46000,45000,44000,43000,42000,41000,40000,39000,38000,37000,36000,35000,34000,33000,32000,31000,30000,29000,28000,27000,26000,25000,24000,23000,22000,21000,20000,19000,18000,17000,16000,15000,14000,13000,12000,11000,10000,9000,8000,7000,6000,5000,4000,3000,2000,1000,0],\"y\":{\"__ndarray__\":\"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\",\"dtype\":\"float64\",\"shape\":[600]}}},\"id\":\"18e13d39-55e0-463c-be84-2d1a9f0e5347\",\"type\":\"ColumnDataSource\"},{\"attributes\":{\"label\":{\"value\":\"Stale 30k Xp\"},\"renderers\":[{\"id\":\"a0b3d819-2789-4841-8524-c2d99c5e3f2e\",\"type\":\"GlyphRenderer\"}]},\"id\":\"b09fbe2f-3386-43e3-9c94-8d926b19251c\",\"type\":\"LegendItem\"},{\"attributes\":{\"use_scientific\":false},\"id\":\"ec64ea80-c128-43f3-925a-b6402d317f66\",\"type\":\"BasicTickFormatter\"},{\"attributes\":{\"fill_alpha\":{\"value\":0.1},\"fill_color\":{\"value\":\"#4daf4a\"},\"line_alpha\":{\"value\":0.1},\"line_color\":{\"value\":\"#4daf4a\"},\"x\":{\"field\":\"x\"},\"y\":{\"field\":\"y\"}},\"id\":\"2e7cb5e2-6af3-4127-ab0e-8825f8e6d025\",\"type\":\"Patch\"},{\"attributes\":{\"bottom_units\":\"screen\",\"fill_alpha\":{\"value\":0.5},\"fill_color\":{\"value\":\"lightgrey\"},\"left_units\":\"screen\",\"level\":\"overlay\",\"line_alpha\":{\"value\":1.0},\"line_color\":{\"value\":\"black\"},\"line_dash\":[4,4],\"line_width\":{\"value\":2},\"plot\":null,\"render_mode\":\"css\",\"right_units\":\"screen\",\"top_units\":\"screen\"},\"id\":\"e678b44b-de8a-4f6e-b540-50e70d1254a3\",\"type\":\"BoxAnnotation\"},{\"attributes\":{\"line_color\":{\"value\":\"#ff7f00\"},\"line_width\":{\"value\":2},\"x\":{\"field\":\"x\"},\"y\":{\"field\":\"y\"}},\"id\":\"4575371d-f8b7-4b50-b88f-787157908d0b\",\"type\":\"Line\"},{\"attributes\":{\"plot\":{\"id\":\"df8806a1-9c70-45c4-a6d7-33e33dfd4642\",\"subtype\":\"Figure\",\"type\":\"Plot\"}},\"id\":\"886e95c0-8b28-4990-aef2-9fb5b34532e8\",\"type\":\"WheelZoomTool\"},{\"attributes\":{\"line_alpha\":{\"value\":0.1},\"line_color\":{\"value\":\"#1f77b4\"},\"line_width\":{\"value\":2},\"x\":{\"field\":\"x\"},\"y\":{\"field\":\"y\"}},\"id\":\"e6473f90-6ec2-47c0-9ee6-5550507b91cf\",\"type\":\"Line\"},{\"attributes\":{},\"id\":\"cd63383f-1303-4092-b514-97fcfb650e46\",\"type\":\"BasicTickFormatter\"},{\"attributes\":{\"plot\":{\"id\":\"df8806a1-9c70-45c4-a6d7-33e33dfd4642\",\"subtype\":\"Figure\",\"type\":\"Plot\"}},\"id\":\"fae0b920-46a6-4014-b097-97b301ceada0\",\"type\":\"PanTool\"},{\"attributes\":{\"label\":{\"value\":\"Stale 200k Xp\"},\"renderers\":[{\"id\":\"725df949-affa-421e-84c5-f3f08ec1487a\",\"type\":\"GlyphRenderer\"}]},\"id\":\"7e0e41dd-879f-43d6-9190-49b17340d2b4\",\"type\":\"LegendItem\"},{\"attributes\":{\"fill_alpha\":{\"value\":0.1},\"fill_color\":{\"value\":\"#1f77b4\"},\"line_alpha\":{\"value\":0.1},\"line_color\":{\"value\":\"#1f77b4\"},\"x\":{\"field\":\"x\"},\"y\":{\"field\":\"y\"}},\"id\":\"2270ea77-626f-400d-96b7-50d93908a4da\",\"type\":\"Patch\"},{\"attributes\":{\"fill_alpha\":{\"value\":0.1},\"fill_color\":{\"value\":\"#f781bf\"},\"line_alpha\":{\"value\":0.1},\"line_color\":{\"value\":\"#f781bf\"},\"x\":{\"field\":\"x\"},\"y\":{\"field\":\"y\"}},\"id\":\"783e02cf-4779-4256-b55c-84b62dbbe74f\",\"type\":\"Patch\"},{\"attributes\":{\"callback\":null},\"id\":\"42a0eeed-94c1-4107-99a8-688975d16f3d\",\"type\":\"DataRange1d\"},{\"attributes\":{\"line_color\":{\"value\":\"#a65628\"},\"line_width\":{\"value\":2},\"x\":{\"field\":\"x\"},\"y\":{\"field\":\"y\"}},\"id\":\"2d546c42-6414-4d56-a3e6-45ab3652e03e\",\"type\":\"Line\"},{\"attributes\":{\"label\":{\"value\":\"Stale 300k Xp\"},\"renderers\":[{\"id\":\"aceb7e6a-eba9-4e05-865a-4e3eaaf9b364\",\"type\":\"GlyphRenderer\"}]},\"id\":\"c16beffc-c6ab-4735-9bee-2b58cfd2896c\",\"type\":\"LegendItem\"},{\"attributes\":{\"data_source\":{\"id\":\"3abf7d2f-e5a2-481c-86f5-a6d69c4ee7aa\",\"type\":\"ColumnDataSource\"},\"glyph\":{\"id\":\"783e02cf-4779-4256-b55c-84b62dbbe74f\",\"type\":\"Patch\"},\"hover_glyph\":null,\"nonselection_glyph\":{\"id\":\"bcc166a3-9ad3-462a-a44b-74c2b326680e\",\"type\":\"Patch\"},\"selection_glyph\":null},\"id\":\"43914de9-16d0-4147-ab19-50cb7ffac461\",\"type\":\"GlyphRenderer\"},{\"attributes\":{\"axis_label\":\"T\",\"formatter\":{\"id\":\"ec64ea80-c128-43f3-925a-b6402d317f66\",\"type\":\"BasicTickFormatter\"},\"plot\":{\"id\":\"df8806a1-9c70-45c4-a6d7-33e33dfd4642\",\"subtype\":\"Figure\",\"type\":\"Plot\"},\"ticker\":{\"id\":\"41f65ef0-9d1d-417c-a1dc-36ec66393a12\",\"type\":\"BasicTicker\"}},\"id\":\"3919d127-738e-4c97-b2b1-4f40fadccf03\",\"type\":\"LinearAxis\"},{\"attributes\":{\"items\":[{\"id\":\"01971b59-1ea5-423d-98f8-70269062faf4\",\"type\":\"LegendItem\"},{\"id\":\"b09fbe2f-3386-43e3-9c94-8d926b19251c\",\"type\":\"LegendItem\"},{\"id\":\"5e33232d-57a9-48bc-b0d9-7cd50408af68\",\"type\":\"LegendItem\"},{\"id\":\"bbf2d3f1-d4ae-4890-9ca0-07fe6f7ea30e\",\"type\":\"LegendItem\"},{\"id\":\"4f8041ed-286b-4cbf-a807-6f03cdbfcc08\",\"type\":\"LegendItem\"},{\"id\":\"7e0e41dd-879f-43d6-9190-49b17340d2b4\",\"type\":\"LegendItem\"},{\"id\":\"78bee4c5-80be-4e80-8f66-0849e79aeba4\",\"type\":\"LegendItem\"},{\"id\":\"c16beffc-c6ab-4735-9bee-2b58cfd2896c\",\"type\":\"LegendItem\"}],\"location\":[0,-30],\"plot\":{\"id\":\"df8806a1-9c70-45c4-a6d7-33e33dfd4642\",\"subtype\":\"Figure\",\"type\":\"Plot\"}},\"id\":\"3b059ffd-5965-4e07-8aa1-4bc3eb3bec72\",\"type\":\"Legend\"},{\"attributes\":{\"fill_alpha\":{\"value\":0.1},\"fill_color\":{\"value\":\"#1f77b4\"},\"line_alpha\":{\"value\":0.1},\"line_color\":{\"value\":\"#1f77b4\"},\"x\":{\"field\":\"x\"},\"y\":{\"field\":\"y\"}},\"id\":\"e7da2983-fb0d-417d-ab5e-f0bc96d2e435\",\"type\":\"Patch\"},{\"attributes\":{\"callback\":null,\"column_names\":[\"x\",\"y\"],\"data\":{\"x\":[0,1000,2000,3000,4000,5000,6000,7000,8000,9000,10000,11000,12000,13000,14000,15000,16000,17000,18000,19000,20000,21000,22000,23000,24000,25000,26000,27000,28000,29000,30000,31000,32000,33000,34000,35000,36000,37000,38000,39000,40000,41000,42000,43000,44000,45000,46000,47000,48000,49000,50000,51000,52000,53000,54000,55000,56000,57000,58000,59000,60000,61000,62000,63000,64000,65000,66000,67000,68000,69000,70000,71000,72000,73000,74000,75000,76000,77000,78000,79000,80000,81000,82000,83000,84000,85000,86000,87000,88000,89000,90000,91000,92000,93000,94000,95000,96000,97000,98000,99000,100000,101000,102000,103000,104000,105000,106000,107000,108000,109000,110000,111000,112000,113000,114000,115000,116000,117000,118000,119000,120000,121000,122000,123000,124000,125000,126000,127000,128000,129000,130000,131000,132000,133000,134000,135000,136000,137000,138000,139000,140000,141000,142000,143000,144000,145000,146000,147000,148000,149000,150000,151000,152000,153000,154000,155000,156000,157000,158000,159000,160000,161000,162000,163000,164000,165000,166000,167000,168000,169000,170000,171000,172000,173000,174000,175000,176000,177000,178000,179000,180000,181000,182000,183000,184000,185000,186000,187000,188000,189000,190000,191000,192000,193000,194000,195000,196000,197000,198000,199000,200000,201000,202000,203000,204000,205000,206000,207000,208000,209000,210000,211000,212000,213000,214000,215000,216000,217000,218000,219000,220000,221000,222000,223000,224000,225000,226000,227000,228000,229000,230000,231000,232000,233000,234000,235000,236000,237000,238000,239000,240000,241000,242000,243000,244000,245000,246000,247000,248000,249000,250000,251000,252000,253000,254000,255000,256000,257000,258000,259000,260000,261000,262000,263000,264000,265000,266000,267000,268000,269000,270000,271000,272000,273000,274000,275000,276000,277000,278000,279000,280000,281000,282000,283000,284000,285000,286000,287000,288000,289000,290000,291000,292000,293000,294000,295000,296000,297000,298000,299000,300000],\"y\":{\"__ndarray__\":\"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\",\"dtype\":\"float64\",\"shape\":[300]}}},\"id\":\"c3683fa8-b2ac-4db4-8a65-8fc1caa4c616\",\"type\":\"ColumnDataSource\"},{\"attributes\":{\"active_drag\":\"auto\",\"active_scroll\":\"auto\",\"active_tap\":\"auto\",\"tools\":[{\"id\":\"fae0b920-46a6-4014-b097-97b301ceada0\",\"type\":\"PanTool\"},{\"id\":\"886e95c0-8b28-4990-aef2-9fb5b34532e8\",\"type\":\"WheelZoomTool\"},{\"id\":\"18a44f3c-e913-47e9-b715-449d609ff3f6\",\"type\":\"BoxZoomTool\"},{\"id\":\"a41d6929-e5a6-4415-9962-d8547e56612b\",\"type\":\"SaveTool\"},{\"id\":\"4d149cc0-a772-45d9-8dbf-24410476be8d\",\"type\":\"ResetTool\"},{\"id\":\"529b94ca-cb42-4970-9d9a-6be9624ae025\",\"type\":\"HelpTool\"}]},\"id\":\"a326cac0-1fb8-41c5-bdc6-5f8a65d35878\",\"type\":\"Toolbar\"},{\"attributes\":{\"callback\":null},\"id\":\"508796c5-c0bd-4c8b-b99e-95426e10e2b3\",\"type\":\"DataRange1d\"},{\"attributes\":{\"label\":{\"value\":\"Fresh 100k Xp\"},\"renderers\":[{\"id\":\"6bf3e6b4-24c7-4c5c-bae6-ddc2c8680a16\",\"type\":\"GlyphRenderer\"}]},\"id\":\"5e33232d-57a9-48bc-b0d9-7cd50408af68\",\"type\":\"LegendItem\"},{\"attributes\":{\"callback\":null,\"column_names\":[\"x\",\"y\"],\"data\":{\"x\":[0,1000,2000,3000,4000,5000,6000,7000,8000,9000,10000,11000,12000,13000,14000,15000,16000,17000,18000,19000,20000,21000,22000,23000,24000,25000,26000,27000,28000,29000,30000,31000,32000,33000,34000,35000,36000,37000,38000,39000,40000,41000,42000,43000,44000,45000,46000,47000,48000,49000,50000,51000,52000,53000,54000,55000,56000,57000,58000,59000,60000,61000,62000,63000,64000,65000,66000,67000,68000,69000,70000,71000,72000,73000,74000,75000,76000,77000,78000,79000,80000,81000,82000,83000,84000,85000,86000,87000,88000,89000,90000,91000,92000,93000,94000,95000,96000,97000,98000,99000,100000,101000,102000,103000,104000,105000,106000,107000,108000,109000,110000,111000,112000,113000,114000,115000,116000,117000,118000,119000,120000,121000,122000,123000,124000,125000,126000,127000,128000,129000,130000,131000,132000,133000,134000,135000,136000,137000,138000,139000,140000,141000,142000,143000,144000,145000,146000,147000,148000,149000,150000,151000,152000,153000,154000,155000,156000,157000,158000,159000,160000,161000,162000,163000,164000,165000,166000,167000,168000,169000,170000,171000,172000,173000,174000,175000,176000,177000,178000,179000,180000,181000,182000,183000,184000,185000,186000,187000,188000,189000,190000,191000,192000,193000,194000,195000,196000,197000,198000,199000,200000,201000,202000,203000,204000,205000,206000,207000,208000,209000,210000,211000,212000,213000,214000,215000,216000,217000,218000,219000,220000,221000,222000,223000,224000,225000,226000,227000,228000,229000,230000,231000,232000,233000,234000,235000,236000,237000,238000,239000,240000,241000,242000,243000,244000,245000,246000,247000,248000,249000,250000,251000,252000,253000,254000,255000,256000,257000,258000,259000,260000,261000,262000,263000,264000,265000,266000,267000,268000,269000,270000,271000,272000,273000,274000,275000,276000,277000,278000,279000,280000,281000,282000,283000,284000,285000,286000,287000,288000,289000,290000,291000,292000,293000,294000,295000,296000,297000,298000,299000,300000],\"y\":{\"__ndarray__\":\"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\",\"dtype\":\"float64\",\"shape\":[300]}}},\"id\":\"aaf42ed5-5937-4dbe-9811-b4f0132e1963\",\"type\":\"ColumnDataSource\"},{\"attributes\":{\"data_source\":{\"id\":\"32bdb4a6-de3e-4473-992f-8b4bfd33a82a\",\"type\":\"ColumnDataSource\"},\"glyph\":{\"id\":\"8f38d7e9-b57a-4720-a0c8-43e028521489\",\"type\":\"Patch\"},\"hover_glyph\":null,\"nonselection_glyph\":{\"id\":\"226bea4d-13ff-4ee1-92be-8224249dc723\",\"type\":\"Patch\"},\"selection_glyph\":null},\"id\":\"1ef1c07d-89f0-41e6-936b-b239cb6e76b3\",\"type\":\"GlyphRenderer\"},{\"attributes\":{\"line_color\":{\"value\":\"#f781bf\"},\"line_width\":{\"value\":2},\"x\":{\"field\":\"x\"},\"y\":{\"field\":\"y\"}},\"id\":\"319e9412-1824-433f-8bbd-05163c31035b\",\"type\":\"Line\"},{\"attributes\":{\"callback\":null,\"column_names\":[\"x\",\"y\"],\"data\":{\"x\":[0,1000,2000,3000,4000,5000,6000,7000,8000,9000,10000,11000,12000,13000,14000,15000,16000,17000,18000,19000,20000,21000,22000,23000,24000,25000,26000,27000,28000,29000,30000,31000,32000,33000,34000,35000,36000,37000,38000,39000,40000,41000,42000,43000,44000,45000,46000,47000,48000,49000,50000,51000,52000,53000,54000,55000,56000,57000,58000,59000,60000,61000,62000,63000,64000,65000,66000,67000,68000,69000,70000,71000,72000,73000,74000,75000,76000,77000,78000,79000,80000,81000,82000,83000,84000,85000,86000,87000,88000,89000,90000,91000,92000,93000,94000,95000,96000,97000,98000,99000,100000,101000,102000,103000,104000,105000,106000,107000,108000,109000,110000,111000,112000,113000,114000,115000,116000,117000,118000,119000,120000,121000,122000,123000,124000,125000,126000,127000,128000,129000,130000,131000,132000,133000,134000,135000,136000,137000,138000,139000,140000,141000,142000,143000,144000,145000,146000,147000,148000,149000,150000,151000,152000,153000,154000,155000,156000,157000,158000,159000,160000,161000,162000,163000,164000,165000,166000,167000,168000,169000,170000,171000,172000,173000,174000,175000,176000,177000,178000,179000,180000,181000,182000,183000,184000,185000,186000,187000,188000,189000,190000,191000,192000,193000,194000,195000,196000,197000,198000,199000,200000,201000,202000,203000,204000,205000,206000,207000,208000,209000,210000,211000,212000,213000,214000,215000,216000,217000,218000,219000,220000,221000,222000,223000,224000,225000,226000,227000,228000,229000,230000,231000,232000,233000,234000,235000,236000,237000,238000,239000,240000,241000,242000,243000,244000,245000,246000,247000,248000,249000,250000,251000,252000,253000,254000,255000,256000,257000,258000,259000,260000,261000,262000,263000,264000,265000,266000,267000,268000,269000,270000,271000,272000,273000,274000,275000,276000,277000,278000,279000,280000,281000,282000,283000,284000,285000,286000,287000,288000,289000,290000,291000,292000,293000,294000,295000,296000,297000,298000,299000,300000,300000,299000,298000,297000,296000,295000,294000,293000,292000,291000,290000,289000,288000,287000,286000,285000,284000,283000,282000,281000,280000,279000,278000,277000,276000,275000,274000,273000,272000,271000,270000,269000,268000,267000,266000,265000,264000,263000,262000,261000,260000,259000,258000,257000,256000,255000,254000,253000,252000,251000,250000,249000,248000,247000,246000,245000,244000,243000,242000,241000,240000,239000,238000,237000,236000,235000,234000,233000,232000,231000,230000,229000,228000,227000,226000,225000,224000,223000,222000,221000,220000,219000,218000,217000,216000,215000,214000,213000,212000,211000,210000,209000,208000,207000,206000,205000,204000,203000,202000,201000,200000,199000,198000,197000,196000,195000,194000,193000,192000,191000,190000,189000,188000,187000,186000,185000,184000,183000,182000,181000,180000,179000,178000,177000,176000,175000,174000,173000,172000,171000,170000,169000,168000,167000,166000,165000,164000,163000,162000,161000,160000,159000,158000,157000,156000,155000,154000,153000,152000,151000,150000,149000,148000,147000,146000,145000,144000,143000,142000,141000,140000,139000,138000,137000,136000,135000,134000,133000,132000,131000,130000,129000,128000,127000,126000,125000,124000,123000,122000,121000,120000,119000,118000,117000,116000,115000,114000,113000,112000,111000,110000,109000,108000,107000,106000,105000,104000,103000,102000,101000,100000,99000,98000,97000,96000,95000,94000,93000,92000,91000,90000,89000,88000,87000,86000,85000,84000,83000,82000,81000,80000,79000,78000,77000,76000,75000,74000,73000,72000,71000,70000,69000,68000,67000,66000,65000,64000,63000,62000,61000,60000,59000,58000,57000,56000,55000,54000,53000,52000,51000,50000,49000,48000,47000,46000,45000,44000,43000,42000,41000,40000,39000,38000,37000,36000,35000,34000,33000,32000,31000,30000,29000,28000,27000,26000,25000,24000,23000,22000,21000,20000,19000,18000,17000,16000,15000,14000,13000,12000,11000,10000,9000,8000,7000,6000,5000,4000,3000,2000,1000,0],\"y\":{\"__ndarray__\":\"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\",\"dtype\":\"float64\",\"shape\":[600]}}},\"id\":\"ae510b07-65b6-4540-a386-ec9d848fbed4\",\"type\":\"ColumnDataSource\"},{\"attributes\":{\"fill_alpha\":{\"value\":0.1},\"fill_color\":{\"value\":\"#1f77b4\"},\"line_alpha\":{\"value\":0.1},\"line_color\":{\"value\":\"#1f77b4\"},\"x\":{\"field\":\"x\"},\"y\":{\"field\":\"y\"}},\"id\":\"b04d4c74-0bd1-4303-8747-2d7b0ca940e8\",\"type\":\"Patch\"},{\"attributes\":{\"line_alpha\":{\"value\":0.1},\"line_color\":{\"value\":\"#1f77b4\"},\"line_width\":{\"value\":2},\"x\":{\"field\":\"x\"},\"y\":{\"field\":\"y\"}},\"id\":\"9f6e9226-5c32-48dc-af59-d2cd8009336a\",\"type\":\"Line\"},{\"attributes\":{\"data_source\":{\"id\":\"094f8c38-5cca-44e3-ac5a-16dc8ee0b9e2\",\"type\":\"ColumnDataSource\"},\"glyph\":{\"id\":\"6abd6832-7a7d-44c9-9667-18657ea0a320\",\"type\":\"Line\"},\"hover_glyph\":null,\"nonselection_glyph\":{\"id\":\"43503f00-90ad-4214-ba2c-c6dbc212b1f3\",\"type\":\"Line\"},\"selection_glyph\":null},\"id\":\"c03311c4-d3fe-4fd0-8c33-7e236a3d9819\",\"type\":\"GlyphRenderer\"},{\"attributes\":{\"line_color\":{\"value\":\"#ffff33\"},\"line_width\":{\"value\":2},\"x\":{\"field\":\"x\"},\"y\":{\"field\":\"y\"}},\"id\":\"000266b2-8bbd-425d-8acf-385405df5cd5\",\"type\":\"Line\"},{\"attributes\":{\"below\":[{\"id\":\"3919d127-738e-4c97-b2b1-4f40fadccf03\",\"type\":\"LinearAxis\"}],\"left\":[{\"id\":\"e84e7517-9063-43da-ac49-04def7fddc0a\",\"type\":\"LinearAxis\"}],\"plot_height\":800,\"plot_width\":1200,\"renderers\":[{\"id\":\"3919d127-738e-4c97-b2b1-4f40fadccf03\",\"type\":\"LinearAxis\"},{\"id\":\"ffe45a1f-6c46-46f9-a148-c2b42ae59fb7\",\"type\":\"Grid\"},{\"id\":\"e84e7517-9063-43da-ac49-04def7fddc0a\",\"type\":\"LinearAxis\"},{\"id\":\"900a859f-b61d-4ad1-8fb6-f68d359b9549\",\"type\":\"Grid\"},{\"id\":\"e678b44b-de8a-4f6e-b540-50e70d1254a3\",\"type\":\"BoxAnnotation\"},{\"id\":\"61d7b6c9-6573-4b08-b711-8f31eabf817d\",\"type\":\"GlyphRenderer\"},{\"id\":\"99e4caa2-5ee6-442d-b854-04e37abee1d5\",\"type\":\"GlyphRenderer\"},{\"id\":\"267af0ba-c549-462b-84ef-735fb5f22b9a\",\"type\":\"GlyphRenderer\"},{\"id\":\"a0b3d819-2789-4841-8524-c2d99c5e3f2e\",\"type\":\"GlyphRenderer\"},{\"id\":\"a1b9cf33-9ef1-4b94-85f8-e4cedb3e8f12\",\"type\":\"GlyphRenderer\"},{\"id\":\"6bf3e6b4-24c7-4c5c-bae6-ddc2c8680a16\",\"type\":\"GlyphRenderer\"},{\"id\":\"64bccb15-2681-4b55-a921-de6ffd0005b9\",\"type\":\"GlyphRenderer\"},{\"id\":\"c03311c4-d3fe-4fd0-8c33-7e236a3d9819\",\"type\":\"GlyphRenderer\"},{\"id\":\"1ef1c07d-89f0-41e6-936b-b239cb6e76b3\",\"type\":\"GlyphRenderer\"},{\"id\":\"dcb9079d-92b2-49e1-aee3-d2c956d724ed\",\"type\":\"GlyphRenderer\"},{\"id\":\"b8caf787-2db8-4cde-a650-3d3fdc81ef83\",\"type\":\"GlyphRenderer\"},{\"id\":\"725df949-affa-421e-84c5-f3f08ec1487a\",\"type\":\"GlyphRenderer\"},{\"id\":\"52aae123-a478-4ab2-b7c5-b379a180b689\",\"type\":\"GlyphRenderer\"},{\"id\":\"7a8d3ff9-3191-468f-baa2-3442c3d60076\",\"type\":\"GlyphRenderer\"},{\"id\":\"43914de9-16d0-4147-ab19-50cb7ffac461\",\"type\":\"GlyphRenderer\"},{\"id\":\"aceb7e6a-eba9-4e05-865a-4e3eaaf9b364\",\"type\":\"GlyphRenderer\"},{\"id\":\"3b059ffd-5965-4e07-8aa1-4bc3eb3bec72\",\"type\":\"Legend\"}],\"right\":[{\"id\":\"3b059ffd-5965-4e07-8aa1-4bc3eb3bec72\",\"type\":\"Legend\"}],\"title\":{\"id\":\"865fdce4-99cb-45ba-8556-e8ea39c617b0\",\"type\":\"Title\"},\"tool_events\":{\"id\":\"39e7d4ac-e24a-4e25-b0e4-44b1143a6ef2\",\"type\":\"ToolEvents\"},\"toolbar\":{\"id\":\"a326cac0-1fb8-41c5-bdc6-5f8a65d35878\",\"type\":\"Toolbar\"},\"toolbar_location\":\"above\",\"x_range\":{\"id\":\"508796c5-c0bd-4c8b-b99e-95426e10e2b3\",\"type\":\"DataRange1d\"},\"y_range\":{\"id\":\"42a0eeed-94c1-4107-99a8-688975d16f3d\",\"type\":\"DataRange1d\"}},\"id\":\"df8806a1-9c70-45c4-a6d7-33e33dfd4642\",\"subtype\":\"Figure\",\"type\":\"Plot\"},{\"attributes\":{\"line_alpha\":{\"value\":0.1},\"line_color\":{\"value\":\"#1f77b4\"},\"line_width\":{\"value\":2},\"x\":{\"field\":\"x\"},\"y\":{\"field\":\"y\"}},\"id\":\"3076257b-737c-4087-8158-da6e9d8c5aab\",\"type\":\"Line\"},{\"attributes\":{\"label\":{\"value\":\"Fresh 200k Xp\"},\"renderers\":[{\"id\":\"dcb9079d-92b2-49e1-aee3-d2c956d724ed\",\"type\":\"GlyphRenderer\"}]},\"id\":\"4f8041ed-286b-4cbf-a807-6f03cdbfcc08\",\"type\":\"LegendItem\"},{\"attributes\":{\"fill_alpha\":{\"value\":0.1},\"fill_color\":{\"value\":\"#1f77b4\"},\"line_alpha\":{\"value\":0.1},\"line_color\":{\"value\":\"#1f77b4\"},\"x\":{\"field\":\"x\"},\"y\":{\"field\":\"y\"}},\"id\":\"be9fe285-e05b-470c-9ff6-2c3091dc2d89\",\"type\":\"Patch\"},{\"attributes\":{\"label\":{\"value\":\"Fresh 30k Xp\"},\"renderers\":[{\"id\":\"99e4caa2-5ee6-442d-b854-04e37abee1d5\",\"type\":\"GlyphRenderer\"}]},\"id\":\"01971b59-1ea5-423d-98f8-70269062faf4\",\"type\":\"LegendItem\"},{\"attributes\":{\"line_alpha\":{\"value\":0.1},\"line_color\":{\"value\":\"#1f77b4\"},\"line_width\":{\"value\":2},\"x\":{\"field\":\"x\"},\"y\":{\"field\":\"y\"}},\"id\":\"3be9eb41-2ce3-4132-b293-8166bf87166f\",\"type\":\"Line\"},{\"attributes\":{\"plot\":null,\"text\":\"Med Maze 10\"},\"id\":\"865fdce4-99cb-45ba-8556-e8ea39c617b0\",\"type\":\"Title\"},{\"attributes\":{\"line_color\":{\"value\":\"#4daf4a\"},\"line_width\":{\"value\":2},\"x\":{\"field\":\"x\"},\"y\":{\"field\":\"y\"}},\"id\":\"84237695-6255-40e2-a783-7566b514be98\",\"type\":\"Line\"},{\"attributes\":{\"label\":{\"value\":\"Stale 100k Xp\"},\"renderers\":[{\"id\":\"c03311c4-d3fe-4fd0-8c33-7e236a3d9819\",\"type\":\"GlyphRenderer\"}]},\"id\":\"bbf2d3f1-d4ae-4890-9ca0-07fe6f7ea30e\",\"type\":\"LegendItem\"},{\"attributes\":{},\"id\":\"39e7d4ac-e24a-4e25-b0e4-44b1143a6ef2\",\"type\":\"ToolEvents\"},{\"attributes\":{\"line_alpha\":{\"value\":0.1},\"line_color\":{\"value\":\"#1f77b4\"},\"line_width\":{\"value\":2},\"x\":{\"field\":\"x\"},\"y\":{\"field\":\"y\"}},\"id\":\"43503f00-90ad-4214-ba2c-c6dbc212b1f3\",\"type\":\"Line\"},{\"attributes\":{\"data_source\":{\"id\":\"18e13d39-55e0-463c-be84-2d1a9f0e5347\",\"type\":\"ColumnDataSource\"},\"glyph\":{\"id\":\"40bbc382-8b4a-4465-a082-1015ee1c2e40\",\"type\":\"Patch\"},\"hover_glyph\":null,\"nonselection_glyph\":{\"id\":\"9a0951ce-9dc4-4e77-a49f-dc21d73f32e1\",\"type\":\"Patch\"},\"selection_glyph\":null},\"id\":\"267af0ba-c549-462b-84ef-735fb5f22b9a\",\"type\":\"GlyphRenderer\"},{\"attributes\":{\"fill_alpha\":{\"value\":0.1},\"fill_color\":{\"value\":\"#1f77b4\"},\"line_alpha\":{\"value\":0.1},\"line_color\":{\"value\":\"#1f77b4\"},\"x\":{\"field\":\"x\"},\"y\":{\"field\":\"y\"}},\"id\":\"93517239-9ffe-4b4c-b7b9-4a366ae425ff\",\"type\":\"Patch\"},{\"attributes\":{\"data_source\":{\"id\":\"d7b4976c-8e8d-4512-b6d2-65518f715933\",\"type\":\"ColumnDataSource\"},\"glyph\":{\"id\":\"2e7cb5e2-6af3-4127-ab0e-8825f8e6d025\",\"type\":\"Patch\"},\"hover_glyph\":null,\"nonselection_glyph\":{\"id\":\"be9fe285-e05b-470c-9ff6-2c3091dc2d89\",\"type\":\"Patch\"},\"selection_glyph\":null},\"id\":\"a1b9cf33-9ef1-4b94-85f8-e4cedb3e8f12\",\"type\":\"GlyphRenderer\"},{\"attributes\":{\"callback\":null,\"column_names\":[\"x\",\"y\"],\"data\":{\"x\":[0,1000,2000,3000,4000,5000,6000,7000,8000,9000,10000,11000,12000,13000,14000,15000,16000,17000,18000,19000,20000,21000,22000,23000,24000,25000,26000,27000,28000,29000,30000,31000,32000,33000,34000,35000,36000,37000,38000,39000,40000,41000,42000,43000,44000,45000,46000,47000,48000,49000,50000,51000,52000,53000,54000,55000,56000,57000,58000,59000,60000,61000,62000,63000,64000,65000,66000,67000,68000,69000,70000,71000,72000,73000,74000,75000,76000,77000,78000,79000,80000,81000,82000,83000,84000,85000,86000,87000,88000,89000,90000,91000,92000,93000,94000,95000,96000,97000,98000,99000,100000,101000,102000,103000,104000,105000,106000,107000,108000,109000,110000,111000,112000,113000,114000,115000,116000,117000,118000,119000,120000,121000,122000,123000,124000,125000,126000,127000,128000,129000,130000,131000,132000,133000,134000,135000,136000,137000,138000,139000,140000,141000,142000,143000,144000,145000,146000,147000,148000,149000,150000,151000,152000,153000,154000,155000,156000,157000,158000,159000,160000,161000,162000,163000,164000,165000,166000,167000,168000,169000,170000,171000,172000,173000,174000,175000,176000,177000,178000,179000,180000,181000,182000,183000,184000,185000,186000,187000,188000,189000,190000,191000,192000,193000,194000,195000,196000,197000,198000,199000,200000,201000,202000,203000,204000,205000,206000,207000,208000,209000,210000,211000,212000,213000,214000,215000,216000,217000,218000,219000,220000,221000,222000,223000,224000,225000,226000,227000,228000,229000,230000,231000,232000,233000,234000,235000,236000,237000,238000,239000,240000,241000,242000,243000,244000,245000,246000,247000,248000,249000,250000,251000,252000,253000,254000,255000,256000,257000,258000,259000,260000,261000,262000,263000,264000,265000,266000,267000,268000,269000,270000,271000,272000,273000,274000,275000,276000,277000,278000,279000,280000,281000,282000,283000,284000,285000,286000,287000,288000,289000,290000,291000,292000,293000,294000,295000,296000,297000,298000,299000,300000],\"y\":{\"__ndarray__\":\"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\",\"dtype\":\"float64\",\"shape\":[300]}}},\"id\":\"bdfa6aeb-b9e6-409b-9f70-71a8f6f48b25\",\"type\":\"ColumnDataSource\"},{\"attributes\":{\"callback\":null,\"column_names\":[\"x\",\"y\"],\"data\":{\"x\":[0,1000,2000,3000,4000,5000,6000,7000,8000,9000,10000,11000,12000,13000,14000,15000,16000,17000,18000,19000,20000,21000,22000,23000,24000,25000,26000,27000,28000,29000,30000,31000,32000,33000,34000,35000,36000,37000,38000,39000,40000,41000,42000,43000,44000,45000,46000,47000,48000,49000,50000,51000,52000,53000,54000,55000,56000,57000,58000,59000,60000,61000,62000,63000,64000,65000,66000,67000,68000,69000,70000,71000,72000,73000,74000,75000,76000,77000,78000,79000,80000,81000,82000,83000,84000,85000,86000,87000,88000,89000,90000,91000,92000,93000,94000,95000,96000,97000,98000,99000,100000,101000,102000,103000,104000,105000,106000,107000,108000,109000,110000,111000,112000,113000,114000,115000,116000,117000,118000,119000,120000,121000,122000,123000,124000,125000,126000,127000,128000,129000,130000,131000,132000,133000,134000,135000,136000,137000,138000,139000,140000,141000,142000,143000,144000,145000,146000,147000,148000,149000,150000,151000,152000,153000,154000,155000,156000,157000,158000,159000,160000,161000,162000,163000,164000,165000,166000,167000,168000,169000,170000,171000,172000,173000,174000,175000,176000,177000,178000,179000,180000,181000,182000,183000,184000,185000,186000,187000,188000,189000,190000,191000,192000,193000,194000,195000,196000,197000,198000,199000,200000,201000,202000,203000,204000,205000,206000,207000,208000,209000,210000,211000,212000,213000,214000,215000,216000,217000,218000,219000,220000,221000,222000,223000,224000,225000,226000,227000,228000,229000,230000,231000,232000,233000,234000,235000,236000,237000,238000,239000,240000,241000,242000,243000,244000,245000,246000,247000,248000,249000,250000,251000,252000,253000,254000,255000,256000,257000,258000,259000,260000,261000,262000,263000,264000,265000,266000,267000,268000,269000,270000,271000,272000,273000,274000,275000,276000,277000,278000,279000,280000,281000,282000,283000,284000,285000,286000,287000,288000,289000,290000,291000,292000,293000,294000,295000,296000,297000,298000,299000,300000],\"y\":{\"__ndarray__\":\"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\",\"dtype\":\"float64\",\"shape\":[300]}}},\"id\":\"17f3def6-ff9c-49d7-8cdd-04a877a0bf8c\",\"type\":\"ColumnDataSource\"},{\"attributes\":{\"data_source\":{\"id\":\"089e07ec-2965-431a-ac8f-4c84b2656124\",\"type\":\"ColumnDataSource\"},\"glyph\":{\"id\":\"5a33e8b8-f85a-4087-92b7-ab8934c494cd\",\"type\":\"Patch\"},\"hover_glyph\":null,\"nonselection_glyph\":{\"id\":\"b04d4c74-0bd1-4303-8747-2d7b0ca940e8\",\"type\":\"Patch\"},\"selection_glyph\":null},\"id\":\"b8caf787-2db8-4cde-a650-3d3fdc81ef83\",\"type\":\"GlyphRenderer\"},{\"attributes\":{\"data_source\":{\"id\":\"c3683fa8-b2ac-4db4-8a65-8fc1caa4c616\",\"type\":\"ColumnDataSource\"},\"glyph\":{\"id\":\"2d546c42-6414-4d56-a3e6-45ab3652e03e\",\"type\":\"Line\"},\"hover_glyph\":null,\"nonselection_glyph\":{\"id\":\"9f6e9226-5c32-48dc-af59-d2cd8009336a\",\"type\":\"Line\"},\"selection_glyph\":null},\"id\":\"7a8d3ff9-3191-468f-baa2-3442c3d60076\",\"type\":\"GlyphRenderer\"},{\"attributes\":{\"callback\":null,\"column_names\":[\"x\",\"y\"],\"data\":{\"x\":[0,1000,2000,3000,4000,5000,6000,7000,8000,9000,10000,11000,12000,13000,14000,15000,16000,17000,18000,19000,20000,21000,22000,23000,24000,25000,26000,27000,28000,29000,30000,31000,32000,33000,34000,35000,36000,37000,38000,39000,40000,41000,42000,43000,44000,45000,46000,47000,48000,49000,50000,51000,52000,53000,54000,55000,56000,57000,58000,59000,60000,61000,62000,63000,64000,65000,66000,67000,68000,69000,70000,71000,72000,73000,74000,75000,76000,77000,78000,79000,80000,81000,82000,83000,84000,85000,86000,87000,88000,89000,90000,91000,92000,93000,94000,95000,96000,97000,98000,99000,100000,101000,102000,103000,104000,105000,106000,107000,108000,109000,110000,111000,112000,113000,114000,115000,116000,117000,118000,119000,120000,121000,122000,123000,124000,125000,126000,127000,128000,129000,130000,131000,132000,133000,134000,135000,136000,137000,138000,139000,140000,141000,142000,143000,144000,145000,146000,147000,148000,149000,150000,151000,152000,153000,154000,155000,156000,157000,158000,159000,160000,161000,162000,163000,164000,165000,166000,167000,168000,169000,170000,171000,172000,173000,174000,175000,176000,177000,178000,179000,180000,181000,182000,183000,184000,185000,186000,187000,188000,189000,190000,191000,192000,193000,194000,195000,196000,197000,198000,199000,200000,201000,202000,203000,204000,205000,206000,207000,208000,209000,210000,211000,212000,213000,214000,215000,216000,217000,218000,219000,220000,221000,222000,223000,224000,225000,226000,227000,228000,229000,230000,231000,232000,233000,234000,235000,236000,237000,238000,239000,240000,241000,242000,243000,244000,245000,246000,247000,248000,249000,250000,251000,252000,253000,254000,255000,256000,257000,258000,259000,260000,261000,262000,263000,264000,265000,266000,267000,268000,269000,270000,271000,272000,273000,274000,275000,276000,277000,278000,279000,280000,281000,282000,283000,284000,285000,286000,287000,288000,289000,290000,291000,292000,293000,294000,295000,296000,297000,298000,299000,300000],\"y\":{\"__ndarray__\":\"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\",\"dtype\":\"float64\",\"shape\":[300]}}},\"id\":\"7797aa3c-722b-48c0-b5fe-717a3b2e1dc2\",\"type\":\"ColumnDataSource\"},{\"attributes\":{\"fill_alpha\":{\"value\":0.1},\"fill_color\":{\"value\":\"#1f77b4\"},\"line_alpha\":{\"value\":0.1},\"line_color\":{\"value\":\"#1f77b4\"},\"x\":{\"field\":\"x\"},\"y\":{\"field\":\"y\"}},\"id\":\"226bea4d-13ff-4ee1-92be-8224249dc723\",\"type\":\"Patch\"},{\"attributes\":{\"data_source\":{\"id\":\"615fad14-aa20-4046-8305-ef8528ed7e28\",\"type\":\"ColumnDataSource\"},\"glyph\":{\"id\":\"319e9412-1824-433f-8bbd-05163c31035b\",\"type\":\"Line\"},\"hover_glyph\":null,\"nonselection_glyph\":{\"id\":\"3527c06d-0e73-48f8-8e52-83fbf42cc873\",\"type\":\"Line\"},\"selection_glyph\":null},\"id\":\"aceb7e6a-eba9-4e05-865a-4e3eaaf9b364\",\"type\":\"GlyphRenderer\"},{\"attributes\":{\"fill_alpha\":{\"value\":0.1},\"fill_color\":{\"value\":\"#ff7f00\"},\"line_alpha\":{\"value\":0.1},\"line_color\":{\"value\":\"#ff7f00\"},\"x\":{\"field\":\"x\"},\"y\":{\"field\":\"y\"}},\"id\":\"8f38d7e9-b57a-4720-a0c8-43e028521489\",\"type\":\"Patch\"},{\"attributes\":{\"callback\":null,\"column_names\":[\"x\",\"y\"],\"data\":{\"x\":[0,1000,2000,3000,4000,5000,6000,7000,8000,9000,10000,11000,12000,13000,14000,15000,16000,17000,18000,19000,20000,21000,22000,23000,24000,25000,26000,27000,28000,29000,30000,31000,32000,33000,34000,35000,36000,37000,38000,39000,40000,41000,42000,43000,44000,45000,46000,47000,48000,49000,50000,51000,52000,53000,54000,55000,56000,57000,58000,59000,60000,61000,62000,63000,64000,65000,66000,67000,68000,69000,70000,71000,72000,73000,74000,75000,76000,77000,78000,79000,80000,81000,82000,83000,84000,85000,86000,87000,88000,89000,90000,91000,92000,93000,94000,95000,96000,97000,98000,99000,100000,101000,102000,103000,104000,105000,106000,107000,108000,109000,110000,111000,112000,113000,114000,115000,116000,117000,118000,119000,120000,121000,122000,123000,124000,125000,126000,127000,128000,129000,130000,131000,132000,133000,134000,135000,136000,137000,138000,139000,140000,141000,142000,143000,144000,145000,146000,147000,148000,149000,150000,151000,152000,153000,154000,155000,156000,157000,158000,159000,160000,161000,162000,163000,164000,165000,166000,167000,168000,169000,170000,171000,172000,173000,174000,175000,176000,177000,178000,179000,180000,181000,182000,183000,184000,185000,186000,187000,188000,189000,190000,191000,192000,193000,194000,195000,196000,197000,198000,199000,200000,201000,202000,203000,204000,205000,206000,207000,208000,209000,210000,211000,212000,213000,214000,215000,216000,217000,218000,219000,220000,221000,222000,223000,224000,225000,226000,227000,228000,229000,230000,231000,232000,233000,234000,235000,236000,237000,238000,239000,240000,241000,242000,243000,244000,245000,246000,247000,248000,249000,250000,251000,252000,253000,254000,255000,256000,257000,258000,259000,260000,261000,262000,263000,264000,265000,266000,267000,268000,269000,270000,271000,272000,273000,274000,275000,276000,277000,278000,279000,280000,281000,282000,283000,284000,285000,286000,287000,288000,289000,290000,291000,292000,293000,294000,295000,296000,297000,298000,299000,300000,300000,299000,298000,297000,296000,295000,294000,293000,292000,291000,290000,289000,288000,287000,286000,285000,284000,283000,282000,281000,280000,279000,278000,277000,276000,275000,274000,273000,272000,271000,270000,269000,268000,267000,266000,265000,264000,263000,262000,261000,260000,259000,258000,257000,256000,255000,254000,253000,252000,251000,250000,249000,248000,247000,246000,245000,244000,243000,242000,241000,240000,239000,238000,237000,236000,235000,234000,233000,232000,231000,230000,229000,228000,227000,226000,225000,224000,223000,222000,221000,220000,219000,218000,217000,216000,215000,214000,213000,212000,211000,210000,209000,208000,207000,206000,205000,204000,203000,202000,201000,200000,199000,198000,197000,196000,195000,194000,193000,192000,191000,190000,189000,188000,187000,186000,185000,184000,183000,182000,181000,180000,179000,178000,177000,176000,175000,174000,173000,172000,171000,170000,169000,168000,167000,166000,165000,164000,163000,162000,161000,160000,159000,158000,157000,156000,155000,154000,153000,152000,151000,150000,149000,148000,147000,146000,145000,144000,143000,142000,141000,140000,139000,138000,137000,136000,135000,134000,133000,132000,131000,130000,129000,128000,127000,126000,125000,124000,123000,122000,121000,120000,119000,118000,117000,116000,115000,114000,113000,112000,111000,110000,109000,108000,107000,106000,105000,104000,103000,102000,101000,100000,99000,98000,97000,96000,95000,94000,93000,92000,91000,90000,89000,88000,87000,86000,85000,84000,83000,82000,81000,80000,79000,78000,77000,76000,75000,74000,73000,72000,71000,70000,69000,68000,67000,66000,65000,64000,63000,62000,61000,60000,59000,58000,57000,56000,55000,54000,53000,52000,51000,50000,49000,48000,47000,46000,45000,44000,43000,42000,41000,40000,39000,38000,37000,36000,35000,34000,33000,32000,31000,30000,29000,28000,27000,26000,25000,24000,23000,22000,21000,20000,19000,18000,17000,16000,15000,14000,13000,12000,11000,10000,9000,8000,7000,6000,5000,4000,3000,2000,1000,0],\"y\":{\"__ndarray__\":\"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\",\"dtype\":\"float64\",\"shape\":[600]}}},\"id\":\"39739e39-9e5a-4990-be40-b9be3042d176\",\"type\":\"ColumnDataSource\"},{\"attributes\":{\"callback\":null,\"column_names\":[\"x\",\"y\"],\"data\":{\"x\":[0,1000,2000,3000,4000,5000,6000,7000,8000,9000,10000,11000,12000,13000,14000,15000,16000,17000,18000,19000,20000,21000,22000,23000,24000,25000,26000,27000,28000,29000,30000,31000,32000,33000,34000,35000,36000,37000,38000,39000,40000,41000,42000,43000,44000,45000,46000,47000,48000,49000,50000,51000,52000,53000,54000,55000,56000,57000,58000,59000,60000,61000,62000,63000,64000,65000,66000,67000,68000,69000,70000,71000,72000,73000,74000,75000,76000,77000,78000,79000,80000,81000,82000,83000,84000,85000,86000,87000,88000,89000,90000,91000,92000,93000,94000,95000,96000,97000,98000,99000,100000,101000,102000,103000,104000,105000,106000,107000,108000,109000,110000,111000,112000,113000,114000,115000,116000,117000,118000,119000,120000,121000,122000,123000,124000,125000,126000,127000,128000,129000,130000,131000,132000,133000,134000,135000,136000,137000,138000,139000,140000,141000,142000,143000,144000,145000,146000,147000,148000,149000,150000,151000,152000,153000,154000,155000,156000,157000,158000,159000,160000,161000,162000,163000,164000,165000,166000,167000,168000,169000,170000,171000,172000,173000,174000,175000,176000,177000,178000,179000,180000,181000,182000,183000,184000,185000,186000,187000,188000,189000,190000,191000,192000,193000,194000,195000,196000,197000,198000,199000,200000,201000,202000,203000,204000,205000,206000,207000,208000,209000,210000,211000,212000,213000,214000,215000,216000,217000,218000,219000,220000,221000,222000,223000,224000,225000,226000,227000,228000,229000,230000,231000,232000,233000,234000,235000,236000,237000,238000,239000,240000,241000,242000,243000,244000,245000,246000,247000,248000,249000,250000,251000,252000,253000,254000,255000,256000,257000,258000,259000,260000,261000,262000,263000,264000,265000,266000,267000,268000,269000,270000,271000,272000,273000,274000,275000,276000,277000,278000,279000,280000,281000,282000,283000,284000,285000,286000,287000,288000,289000,290000,291000,292000,293000,294000,295000,296000,297000,298000,299000,300000,300000,299000,298000,297000,296000,295000,294000,293000,292000,291000,290000,289000,288000,287000,286000,285000,284000,283000,282000,281000,280000,279000,278000,277000,276000,275000,274000,273000,272000,271000,270000,269000,268000,267000,266000,265000,264000,263000,262000,261000,260000,259000,258000,257000,256000,255000,254000,253000,252000,251000,250000,249000,248000,247000,246000,245000,244000,243000,242000,241000,240000,239000,238000,237000,236000,235000,234000,233000,232000,231000,230000,229000,228000,227000,226000,225000,224000,223000,222000,221000,220000,219000,218000,217000,216000,215000,214000,213000,212000,211000,210000,209000,208000,207000,206000,205000,204000,203000,202000,201000,200000,199000,198000,197000,196000,195000,194000,193000,192000,191000,190000,189000,188000,187000,186000,185000,184000,183000,182000,181000,180000,179000,178000,177000,176000,175000,174000,173000,172000,171000,170000,169000,168000,167000,166000,165000,164000,163000,162000,161000,160000,159000,158000,157000,156000,155000,154000,153000,152000,151000,150000,149000,148000,147000,146000,145000,144000,143000,142000,141000,140000,139000,138000,137000,136000,135000,134000,133000,132000,131000,130000,129000,128000,127000,126000,125000,124000,123000,122000,121000,120000,119000,118000,117000,116000,115000,114000,113000,112000,111000,110000,109000,108000,107000,106000,105000,104000,103000,102000,101000,100000,99000,98000,97000,96000,95000,94000,93000,92000,91000,90000,89000,88000,87000,86000,85000,84000,83000,82000,81000,80000,79000,78000,77000,76000,75000,74000,73000,72000,71000,70000,69000,68000,67000,66000,65000,64000,63000,62000,61000,60000,59000,58000,57000,56000,55000,54000,53000,52000,51000,50000,49000,48000,47000,46000,45000,44000,43000,42000,41000,40000,39000,38000,37000,36000,35000,34000,33000,32000,31000,30000,29000,28000,27000,26000,25000,24000,23000,22000,21000,20000,19000,18000,17000,16000,15000,14000,13000,12000,11000,10000,9000,8000,7000,6000,5000,4000,3000,2000,1000,0],\"y\":{\"__ndarray__\":\"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\",\"dtype\":\"float64\",\"shape\":[600]}}},\"id\":\"3abf7d2f-e5a2-481c-86f5-a6d69c4ee7aa\",\"type\":\"ColumnDataSource\"},{\"attributes\":{\"line_alpha\":{\"value\":0.1},\"line_color\":{\"value\":\"#1f77b4\"},\"line_width\":{\"value\":2},\"x\":{\"field\":\"x\"},\"y\":{\"field\":\"y\"}},\"id\":\"3527c06d-0e73-48f8-8e52-83fbf42cc873\",\"type\":\"Line\"},{\"attributes\":{\"data_source\":{\"id\":\"dec2841f-db92-478e-afeb-339851c056c7\",\"type\":\"ColumnDataSource\"},\"glyph\":{\"id\":\"729f585e-0725-4bd2-aa49-b2d8ceb0190d\",\"type\":\"Patch\"},\"hover_glyph\":null,\"nonselection_glyph\":{\"id\":\"2270ea77-626f-400d-96b7-50d93908a4da\",\"type\":\"Patch\"},\"selection_glyph\":null},\"id\":\"61d7b6c9-6573-4b08-b711-8f31eabf817d\",\"type\":\"GlyphRenderer\"},{\"attributes\":{\"line_alpha\":{\"value\":0.1},\"line_color\":{\"value\":\"#1f77b4\"},\"line_width\":{\"value\":2},\"x\":{\"field\":\"x\"},\"y\":{\"field\":\"y\"}},\"id\":\"54b97fce-9e1d-4bb1-a39a-e875c8462eb1\",\"type\":\"Line\"},{\"attributes\":{\"callback\":null,\"column_names\":[\"x\",\"y\"],\"data\":{\"x\":[0,1000,2000,3000,4000,5000,6000,7000,8000,9000,10000,11000,12000,13000,14000,15000,16000,17000,18000,19000,20000,21000,22000,23000,24000,25000,26000,27000,28000,29000,30000,31000,32000,33000,34000,35000,36000,37000,38000,39000,40000,41000,42000,43000,44000,45000,46000,47000,48000,49000,50000,51000,52000,53000,54000,55000,56000,57000,58000,59000,60000,61000,62000,63000,64000,65000,66000,67000,68000,69000,70000,71000,72000,73000,74000,75000,76000,77000,78000,79000,80000,81000,82000,83000,84000,85000,86000,87000,88000,89000,90000,91000,92000,93000,94000,95000,96000,97000,98000,99000,100000,101000,102000,103000,104000,105000,106000,107000,108000,109000,110000,111000,112000,113000,114000,115000,116000,117000,118000,119000,120000,121000,122000,123000,124000,125000,126000,127000,128000,129000,130000,131000,132000,133000,134000,135000,136000,137000,138000,139000,140000,141000,142000,143000,144000,145000,146000,147000,148000,149000,150000,151000,152000,153000,154000,155000,156000,157000,158000,159000,160000,161000,162000,163000,164000,165000,166000,167000,168000,169000,170000,171000,172000,173000,174000,175000,176000,177000,178000,179000,180000,181000,182000,183000,184000,185000,186000,187000,188000,189000,190000,191000,192000,193000,194000,195000,196000,197000,198000,199000,200000,201000,202000,203000,204000,205000,206000,207000,208000,209000,210000,211000,212000,213000,214000,215000,216000,217000,218000,219000,220000,221000,222000,223000,224000,225000,226000,227000,228000,229000,230000,231000,232000,233000,234000,235000,236000,237000,238000,239000,240000,241000,242000,243000,244000,245000,246000,247000,248000,249000,250000,251000,252000,253000,254000,255000,256000,257000,258000,259000,260000,261000,262000,263000,264000,265000,266000,267000,268000,269000,270000,271000,272000,273000,274000,275000,276000,277000,278000,279000,280000,281000,282000,283000,284000,285000,286000,287000,288000,289000,290000,291000,292000,293000,294000,295000,296000,297000,298000,299000,300000],\"y\":{\"__ndarray__\":\"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\",\"dtype\":\"float64\",\"shape\":[300]}}},\"id\":\"615fad14-aa20-4046-8305-ef8528ed7e28\",\"type\":\"ColumnDataSource\"},{\"attributes\":{\"callback\":null,\"column_names\":[\"x\",\"y\"],\"data\":{\"x\":[0,1000,2000,3000,4000,5000,6000,7000,8000,9000,10000,11000,12000,13000,14000,15000,16000,17000,18000,19000,20000,21000,22000,23000,24000,25000,26000,27000,28000,29000,30000,31000,32000,33000,34000,35000,36000,37000,38000,39000,40000,41000,42000,43000,44000,45000,46000,47000,48000,49000,50000,51000,52000,53000,54000,55000,56000,57000,58000,59000,60000,61000,62000,63000,64000,65000,66000,67000,68000,69000,70000,71000,72000,73000,74000,75000,76000,77000,78000,79000,80000,81000,82000,83000,84000,85000,86000,87000,88000,89000,90000,91000,92000,93000,94000,95000,96000,97000,98000,99000,100000,101000,102000,103000,104000,105000,106000,107000,108000,109000,110000,111000,112000,113000,114000,115000,116000,117000,118000,119000,120000,121000,122000,123000,124000,125000,126000,127000,128000,129000,130000,131000,132000,133000,134000,135000,136000,137000,138000,139000,140000,141000,142000,143000,144000,145000,146000,147000,148000,149000,150000,151000,152000,153000,154000,155000,156000,157000,158000,159000,160000,161000,162000,163000,164000,165000,166000,167000,168000,169000,170000,171000,172000,173000,174000,175000,176000,177000,178000,179000,180000,181000,182000,183000,184000,185000,186000,187000,188000,189000,190000,191000,192000,193000,194000,195000,196000,197000,198000,199000,200000,201000,202000,203000,204000,205000,206000,207000,208000,209000,210000,211000,212000,213000,214000,215000,216000,217000,218000,219000,220000,221000,222000,223000,224000,225000,226000,227000,228000,229000,230000,231000,232000,233000,234000,235000,236000,237000,238000,239000,240000,241000,242000,243000,244000,245000,246000,247000,248000,249000,250000,251000,252000,253000,254000,255000,256000,257000,258000,259000,260000,261000,262000,263000,264000,265000,266000,267000,268000,269000,270000,271000,272000,273000,274000,275000,276000,277000,278000,279000,280000,281000,282000,283000,284000,285000,286000,287000,288000,289000,290000,291000,292000,293000,294000,295000,296000,297000,298000,299000,300000],\"y\":{\"__ndarray__\":\"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\",\"dtype\":\"float64\",\"shape\":[300]}}},\"id\":\"094f8c38-5cca-44e3-ac5a-16dc8ee0b9e2\",\"type\":\"ColumnDataSource\"},{\"attributes\":{\"line_alpha\":{\"value\":0.1},\"line_color\":{\"value\":\"#1f77b4\"},\"line_width\":{\"value\":2},\"x\":{\"field\":\"x\"},\"y\":{\"field\":\"y\"}},\"id\":\"142bbe65-f3d2-42bf-a2a3-872a4dccc6ce\",\"type\":\"Line\"},{\"attributes\":{\"data_source\":{\"id\":\"7797aa3c-722b-48c0-b5fe-717a3b2e1dc2\",\"type\":\"ColumnDataSource\"},\"glyph\":{\"id\":\"84237695-6255-40e2-a783-7566b514be98\",\"type\":\"Line\"},\"hover_glyph\":null,\"nonselection_glyph\":{\"id\":\"54b97fce-9e1d-4bb1-a39a-e875c8462eb1\",\"type\":\"Line\"},\"selection_glyph\":null},\"id\":\"6bf3e6b4-24c7-4c5c-bae6-ddc2c8680a16\",\"type\":\"GlyphRenderer\"},{\"attributes\":{\"plot\":{\"id\":\"df8806a1-9c70-45c4-a6d7-33e33dfd4642\",\"subtype\":\"Figure\",\"type\":\"Plot\"}},\"id\":\"529b94ca-cb42-4970-9d9a-6be9624ae025\",\"type\":\"HelpTool\"},{\"attributes\":{\"data_source\":{\"id\":\"17f3def6-ff9c-49d7-8cdd-04a877a0bf8c\",\"type\":\"ColumnDataSource\"},\"glyph\":{\"id\":\"e0285fff-db9c-4191-90ed-c0cbcec12911\",\"type\":\"Line\"},\"hover_glyph\":null,\"nonselection_glyph\":{\"id\":\"142bbe65-f3d2-42bf-a2a3-872a4dccc6ce\",\"type\":\"Line\"},\"selection_glyph\":null},\"id\":\"a0b3d819-2789-4841-8524-c2d99c5e3f2e\",\"type\":\"GlyphRenderer\"},{\"attributes\":{\"plot\":{\"id\":\"df8806a1-9c70-45c4-a6d7-33e33dfd4642\",\"subtype\":\"Figure\",\"type\":\"Plot\"}},\"id\":\"a41d6929-e5a6-4415-9962-d8547e56612b\",\"type\":\"SaveTool\"},{\"attributes\":{\"axis_label\":\"States visited\",\"formatter\":{\"id\":\"cd63383f-1303-4092-b514-97fcfb650e46\",\"type\":\"BasicTickFormatter\"},\"plot\":{\"id\":\"df8806a1-9c70-45c4-a6d7-33e33dfd4642\",\"subtype\":\"Figure\",\"type\":\"Plot\"},\"ticker\":{\"id\":\"129ca6b4-ed22-4bcd-8fec-11e62e9e098f\",\"type\":\"BasicTicker\"}},\"id\":\"e84e7517-9063-43da-ac49-04def7fddc0a\",\"type\":\"LinearAxis\"},{\"attributes\":{\"fill_alpha\":{\"value\":0.1},\"fill_color\":{\"value\":\"#377eb8\"},\"line_alpha\":{\"value\":0.1},\"line_color\":{\"value\":\"#377eb8\"},\"x\":{\"field\":\"x\"},\"y\":{\"field\":\"y\"}},\"id\":\"40bbc382-8b4a-4465-a082-1015ee1c2e40\",\"type\":\"Patch\"},{\"attributes\":{\"line_color\":{\"value\":\"#984ea3\"},\"line_width\":{\"value\":2},\"x\":{\"field\":\"x\"},\"y\":{\"field\":\"y\"}},\"id\":\"6abd6832-7a7d-44c9-9667-18657ea0a320\",\"type\":\"Line\"},{\"attributes\":{\"callback\":null,\"column_names\":[\"x\",\"y\"],\"data\":{\"x\":[0,1000,2000,3000,4000,5000,6000,7000,8000,9000,10000,11000,12000,13000,14000,15000,16000,17000,18000,19000,20000,21000,22000,23000,24000,25000,26000,27000,28000,29000,30000,31000,32000,33000,34000,35000,36000,37000,38000,39000,40000,41000,42000,43000,44000,45000,46000,47000,48000,49000,50000,51000,52000,53000,54000,55000,56000,57000,58000,59000,60000,61000,62000,63000,64000,65000,66000,67000,68000,69000,70000,71000,72000,73000,74000,75000,76000,77000,78000,79000,80000,81000,82000,83000,84000,85000,86000,87000,88000,89000,90000,91000,92000,93000,94000,95000,96000,97000,98000,99000,100000,101000,102000,103000,104000,105000,106000,107000,108000,109000,110000,111000,112000,113000,114000,115000,116000,117000,118000,119000,120000,121000,122000,123000,124000,125000,126000,127000,128000,129000,130000,131000,132000,133000,134000,135000,136000,137000,138000,139000,140000,141000,142000,143000,144000,145000,146000,147000,148000,149000,150000,151000,152000,153000,154000,155000,156000,157000,158000,159000,160000,161000,162000,163000,164000,165000,166000,167000,168000,169000,170000,171000,172000,173000,174000,175000,176000,177000,178000,179000,180000,181000,182000,183000,184000,185000,186000,187000,188000,189000,190000,191000,192000,193000,194000,195000,196000,197000,198000,199000,200000,201000,202000,203000,204000,205000,206000,207000,208000,209000,210000,211000,212000,213000,214000,215000,216000,217000,218000,219000,220000,221000,222000,223000,224000,225000,226000,227000,228000,229000,230000,231000,232000,233000,234000,235000,236000,237000,238000,239000,240000,241000,242000,243000,244000,245000,246000,247000,248000,249000,250000,251000,252000,253000,254000,255000,256000,257000,258000,259000,260000,261000,262000,263000,264000,265000,266000,267000,268000,269000,270000,271000,272000,273000,274000,275000,276000,277000,278000,279000,280000,281000,282000,283000,284000,285000,286000,287000,288000,289000,290000,291000,292000,293000,294000,295000,296000,297000,298000,299000,300000,300000,299000,298000,297000,296000,295000,294000,293000,292000,291000,290000,289000,288000,287000,286000,285000,284000,283000,282000,281000,280000,279000,278000,277000,276000,275000,274000,273000,272000,271000,270000,269000,268000,267000,266000,265000,264000,263000,262000,261000,260000,259000,258000,257000,256000,255000,254000,253000,252000,251000,250000,249000,248000,247000,246000,245000,244000,243000,242000,241000,240000,239000,238000,237000,236000,235000,234000,233000,232000,231000,230000,229000,228000,227000,226000,225000,224000,223000,222000,221000,220000,219000,218000,217000,216000,215000,214000,213000,212000,211000,210000,209000,208000,207000,206000,205000,204000,203000,202000,201000,200000,199000,198000,197000,196000,195000,194000,193000,192000,191000,190000,189000,188000,187000,186000,185000,184000,183000,182000,181000,180000,179000,178000,177000,176000,175000,174000,173000,172000,171000,170000,169000,168000,167000,166000,165000,164000,163000,162000,161000,160000,159000,158000,157000,156000,155000,154000,153000,152000,151000,150000,149000,148000,147000,146000,145000,144000,143000,142000,141000,140000,139000,138000,137000,136000,135000,134000,133000,132000,131000,130000,129000,128000,127000,126000,125000,124000,123000,122000,121000,120000,119000,118000,117000,116000,115000,114000,113000,112000,111000,110000,109000,108000,107000,106000,105000,104000,103000,102000,101000,100000,99000,98000,97000,96000,95000,94000,93000,92000,91000,90000,89000,88000,87000,86000,85000,84000,83000,82000,81000,80000,79000,78000,77000,76000,75000,74000,73000,72000,71000,70000,69000,68000,67000,66000,65000,64000,63000,62000,61000,60000,59000,58000,57000,56000,55000,54000,53000,52000,51000,50000,49000,48000,47000,46000,45000,44000,43000,42000,41000,40000,39000,38000,37000,36000,35000,34000,33000,32000,31000,30000,29000,28000,27000,26000,25000,24000,23000,22000,21000,20000,19000,18000,17000,16000,15000,14000,13000,12000,11000,10000,9000,8000,7000,6000,5000,4000,3000,2000,1000,0],\"y\":{\"__ndarray__\":\"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\",\"dtype\":\"float64\",\"shape\":[600]}}},\"id\":\"089e07ec-2965-431a-ac8f-4c84b2656124\",\"type\":\"ColumnDataSource\"},{\"attributes\":{\"data_source\":{\"id\":\"37e02fee-539a-47c8-8330-2e1f56d43194\",\"type\":\"ColumnDataSource\"},\"glyph\":{\"id\":\"000266b2-8bbd-425d-8acf-385405df5cd5\",\"type\":\"Line\"},\"hover_glyph\":null,\"nonselection_glyph\":{\"id\":\"3076257b-737c-4087-8158-da6e9d8c5aab\",\"type\":\"Line\"},\"selection_glyph\":null},\"id\":\"725df949-affa-421e-84c5-f3f08ec1487a\",\"type\":\"GlyphRenderer\"},{\"attributes\":{\"callback\":null,\"column_names\":[\"x\",\"y\"],\"data\":{\"x\":[0,1000,2000,3000,4000,5000,6000,7000,8000,9000,10000,11000,12000,13000,14000,15000,16000,17000,18000,19000,20000,21000,22000,23000,24000,25000,26000,27000,28000,29000,30000,31000,32000,33000,34000,35000,36000,37000,38000,39000,40000,41000,42000,43000,44000,45000,46000,47000,48000,49000,50000,51000,52000,53000,54000,55000,56000,57000,58000,59000,60000,61000,62000,63000,64000,65000,66000,67000,68000,69000,70000,71000,72000,73000,74000,75000,76000,77000,78000,79000,80000,81000,82000,83000,84000,85000,86000,87000,88000,89000,90000,91000,92000,93000,94000,95000,96000,97000,98000,99000,100000,101000,102000,103000,104000,105000,106000,107000,108000,109000,110000,111000,112000,113000,114000,115000,116000,117000,118000,119000,120000,121000,122000,123000,124000,125000,126000,127000,128000,129000,130000,131000,132000,133000,134000,135000,136000,137000,138000,139000,140000,141000,142000,143000,144000,145000,146000,147000,148000,149000,150000,151000,152000,153000,154000,155000,156000,157000,158000,159000,160000,161000,162000,163000,164000,165000,166000,167000,168000,169000,170000,171000,172000,173000,174000,175000,176000,177000,178000,179000,180000,181000,182000,183000,184000,185000,186000,187000,188000,189000,190000,191000,192000,193000,194000,195000,196000,197000,198000,199000,200000,201000,202000,203000,204000,205000,206000,207000,208000,209000,210000,211000,212000,213000,214000,215000,216000,217000,218000,219000,220000,221000,222000,223000,224000,225000,226000,227000,228000,229000,230000,231000,232000,233000,234000,235000,236000,237000,238000,239000,240000,241000,242000,243000,244000,245000,246000,247000,248000,249000,250000,251000,252000,253000,254000,255000,256000,257000,258000,259000,260000,261000,262000,263000,264000,265000,266000,267000,268000,269000,270000,271000,272000,273000,274000,275000,276000,277000,278000,279000,280000,281000,282000,283000,284000,285000,286000,287000,288000,289000,290000,291000,292000,293000,294000,295000,296000,297000,298000,299000,300000,300000,299000,298000,297000,296000,295000,294000,293000,292000,291000,290000,289000,288000,287000,286000,285000,284000,283000,282000,281000,280000,279000,278000,277000,276000,275000,274000,273000,272000,271000,270000,269000,268000,267000,266000,265000,264000,263000,262000,261000,260000,259000,258000,257000,256000,255000,254000,253000,252000,251000,250000,249000,248000,247000,246000,245000,244000,243000,242000,241000,240000,239000,238000,237000,236000,235000,234000,233000,232000,231000,230000,229000,228000,227000,226000,225000,224000,223000,222000,221000,220000,219000,218000,217000,216000,215000,214000,213000,212000,211000,210000,209000,208000,207000,206000,205000,204000,203000,202000,201000,200000,199000,198000,197000,196000,195000,194000,193000,192000,191000,190000,189000,188000,187000,186000,185000,184000,183000,182000,181000,180000,179000,178000,177000,176000,175000,174000,173000,172000,171000,170000,169000,168000,167000,166000,165000,164000,163000,162000,161000,160000,159000,158000,157000,156000,155000,154000,153000,152000,151000,150000,149000,148000,147000,146000,145000,144000,143000,142000,141000,140000,139000,138000,137000,136000,135000,134000,133000,132000,131000,130000,129000,128000,127000,126000,125000,124000,123000,122000,121000,120000,119000,118000,117000,116000,115000,114000,113000,112000,111000,110000,109000,108000,107000,106000,105000,104000,103000,102000,101000,100000,99000,98000,97000,96000,95000,94000,93000,92000,91000,90000,89000,88000,87000,86000,85000,84000,83000,82000,81000,80000,79000,78000,77000,76000,75000,74000,73000,72000,71000,70000,69000,68000,67000,66000,65000,64000,63000,62000,61000,60000,59000,58000,57000,56000,55000,54000,53000,52000,51000,50000,49000,48000,47000,46000,45000,44000,43000,42000,41000,40000,39000,38000,37000,36000,35000,34000,33000,32000,31000,30000,29000,28000,27000,26000,25000,24000,23000,22000,21000,20000,19000,18000,17000,16000,15000,14000,13000,12000,11000,10000,9000,8000,7000,6000,5000,4000,3000,2000,1000,0],\"y\":{\"__ndarray__\":\"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\",\"dtype\":\"float64\",\"shape\":[600]}}},\"id\":\"dec2841f-db92-478e-afeb-339851c056c7\",\"type\":\"ColumnDataSource\"},{\"attributes\":{\"callback\":null,\"column_names\":[\"x\",\"y\"],\"data\":{\"x\":[0,1000,2000,3000,4000,5000,6000,7000,8000,9000,10000,11000,12000,13000,14000,15000,16000,17000,18000,19000,20000,21000,22000,23000,24000,25000,26000,27000,28000,29000,30000,31000,32000,33000,34000,35000,36000,37000,38000,39000,40000,41000,42000,43000,44000,45000,46000,47000,48000,49000,50000,51000,52000,53000,54000,55000,56000,57000,58000,59000,60000,61000,62000,63000,64000,65000,66000,67000,68000,69000,70000,71000,72000,73000,74000,75000,76000,77000,78000,79000,80000,81000,82000,83000,84000,85000,86000,87000,88000,89000,90000,91000,92000,93000,94000,95000,96000,97000,98000,99000,100000,101000,102000,103000,104000,105000,106000,107000,108000,109000,110000,111000,112000,113000,114000,115000,116000,117000,118000,119000,120000,121000,122000,123000,124000,125000,126000,127000,128000,129000,130000,131000,132000,133000,134000,135000,136000,137000,138000,139000,140000,141000,142000,143000,144000,145000,146000,147000,148000,149000,150000,151000,152000,153000,154000,155000,156000,157000,158000,159000,160000,161000,162000,163000,164000,165000,166000,167000,168000,169000,170000,171000,172000,173000,174000,175000,176000,177000,178000,179000,180000,181000,182000,183000,184000,185000,186000,187000,188000,189000,190000,191000,192000,193000,194000,195000,196000,197000,198000,199000,200000,201000,202000,203000,204000,205000,206000,207000,208000,209000,210000,211000,212000,213000,214000,215000,216000,217000,218000,219000,220000,221000,222000,223000,224000,225000,226000,227000,228000,229000,230000,231000,232000,233000,234000,235000,236000,237000,238000,239000,240000,241000,242000,243000,244000,245000,246000,247000,248000,249000,250000,251000,252000,253000,254000,255000,256000,257000,258000,259000,260000,261000,262000,263000,264000,265000,266000,267000,268000,269000,270000,271000,272000,273000,274000,275000,276000,277000,278000,279000,280000,281000,282000,283000,284000,285000,286000,287000,288000,289000,290000,291000,292000,293000,294000,295000,296000,297000,298000,299000,300000,300000,299000,298000,297000,296000,295000,294000,293000,292000,291000,290000,289000,288000,287000,286000,285000,284000,283000,282000,281000,280000,279000,278000,277000,276000,275000,274000,273000,272000,271000,270000,269000,268000,267000,266000,265000,264000,263000,262000,261000,260000,259000,258000,257000,256000,255000,254000,253000,252000,251000,250000,249000,248000,247000,246000,245000,244000,243000,242000,241000,240000,239000,238000,237000,236000,235000,234000,233000,232000,231000,230000,229000,228000,227000,226000,225000,224000,223000,222000,221000,220000,219000,218000,217000,216000,215000,214000,213000,212000,211000,210000,209000,208000,207000,206000,205000,204000,203000,202000,201000,200000,199000,198000,197000,196000,195000,194000,193000,192000,191000,190000,189000,188000,187000,186000,185000,184000,183000,182000,181000,180000,179000,178000,177000,176000,175000,174000,173000,172000,171000,170000,169000,168000,167000,166000,165000,164000,163000,162000,161000,160000,159000,158000,157000,156000,155000,154000,153000,152000,151000,150000,149000,148000,147000,146000,145000,144000,143000,142000,141000,140000,139000,138000,137000,136000,135000,134000,133000,132000,131000,130000,129000,128000,127000,126000,125000,124000,123000,122000,121000,120000,119000,118000,117000,116000,115000,114000,113000,112000,111000,110000,109000,108000,107000,106000,105000,104000,103000,102000,101000,100000,99000,98000,97000,96000,95000,94000,93000,92000,91000,90000,89000,88000,87000,86000,85000,84000,83000,82000,81000,80000,79000,78000,77000,76000,75000,74000,73000,72000,71000,70000,69000,68000,67000,66000,65000,64000,63000,62000,61000,60000,59000,58000,57000,56000,55000,54000,53000,52000,51000,50000,49000,48000,47000,46000,45000,44000,43000,42000,41000,40000,39000,38000,37000,36000,35000,34000,33000,32000,31000,30000,29000,28000,27000,26000,25000,24000,23000,22000,21000,20000,19000,18000,17000,16000,15000,14000,13000,12000,11000,10000,9000,8000,7000,6000,5000,4000,3000,2000,1000,0],\"y\":{\"__ndarray__\":\"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\",\"dtype\":\"float64\",\"shape\":[600]}}},\"id\":\"d7b4976c-8e8d-4512-b6d2-65518f715933\",\"type\":\"ColumnDataSource\"},{\"attributes\":{\"data_source\":{\"id\":\"39739e39-9e5a-4990-be40-b9be3042d176\",\"type\":\"ColumnDataSource\"},\"glyph\":{\"id\":\"7cd93467-4e4b-40aa-9ba4-8ef6cb1f7b9e\",\"type\":\"Patch\"},\"hover_glyph\":null,\"nonselection_glyph\":{\"id\":\"93517239-9ffe-4b4c-b7b9-4a366ae425ff\",\"type\":\"Patch\"},\"selection_glyph\":null},\"id\":\"64bccb15-2681-4b55-a921-de6ffd0005b9\",\"type\":\"GlyphRenderer\"},{\"attributes\":{\"fill_alpha\":{\"value\":0.1},\"fill_color\":{\"value\":\"#ffff33\"},\"line_alpha\":{\"value\":0.1},\"line_color\":{\"value\":\"#ffff33\"},\"x\":{\"field\":\"x\"},\"y\":{\"field\":\"y\"}},\"id\":\"5a33e8b8-f85a-4087-92b7-ab8934c494cd\",\"type\":\"Patch\"},{\"attributes\":{\"fill_alpha\":{\"value\":0.1},\"fill_color\":{\"value\":\"#984ea3\"},\"line_alpha\":{\"value\":0.1},\"line_color\":{\"value\":\"#984ea3\"},\"x\":{\"field\":\"x\"},\"y\":{\"field\":\"y\"}},\"id\":\"7cd93467-4e4b-40aa-9ba4-8ef6cb1f7b9e\",\"type\":\"Patch\"}],\"root_ids\":[\"df8806a1-9c70-45c4-a6d7-33e33dfd4642\"]},\"title\":\"Bokeh Application\",\"version\":\"0.12.4\"}};\n",
       "            var render_items = [{\"docid\":\"1e8ac7bf-508b-4f3a-8ea8-f8645b48ba3b\",\"elementid\":\"9c368083-35e1-49c6-9e5b-dcd0bf7e4f3f\",\"modelid\":\"df8806a1-9c70-45c4-a6d7-33e33dfd4642\"}];\n",
       "            \n",
       "            Bokeh.embed.embed_items(docs_json, render_items);\n",
       "          };\n",
       "          if (document.readyState != \"loading\") fn();\n",
       "          else document.addEventListener(\"DOMContentLoaded\", fn);\n",
       "        })();\n",
       "      },\n",
       "      function(Bokeh) {\n",
       "      }\n",
       "    ];\n",
       "  \n",
       "    function run_inline_js() {\n",
       "      \n",
       "      if ((window.Bokeh !== undefined) || (force === true)) {\n",
       "        for (var i = 0; i < inline_js.length; i++) {\n",
       "          inline_js[i](window.Bokeh);\n",
       "        }if (force === true) {\n",
       "          display_loaded();\n",
       "        }} else if (Date.now() < window._bokeh_timeout) {\n",
       "        setTimeout(run_inline_js, 100);\n",
       "      } else if (!window._bokeh_failed_load) {\n",
       "        console.log(\"Bokeh: BokehJS failed to load within specified timeout.\");\n",
       "        window._bokeh_failed_load = true;\n",
       "      } else if (force !== true) {\n",
       "        var cell = $(document.getElementById(\"9c368083-35e1-49c6-9e5b-dcd0bf7e4f3f\")).parents('.cell').data().cell;\n",
       "        cell.output_area.append_execute_result(NB_LOAD_WARNING)\n",
       "      }\n",
       "  \n",
       "    }\n",
       "  \n",
       "    if (window._bokeh_is_loading === 0) {\n",
       "      console.log(\"Bokeh: BokehJS loaded, going straight to plotting\");\n",
       "      run_inline_js();\n",
       "    } else {\n",
       "      load_libs(js_urls, function() {\n",
       "        console.log(\"Bokeh: BokehJS plotting callback run at\", now());\n",
       "        run_inline_js();\n",
       "      });\n",
       "    }\n",
       "  }(this));\n",
       "</script>"
      ]
     },
     "metadata": {},
     "output_type": "display_data"
    }
   ],
   "source": [
    "plot_states(names, t_maxs, Set1[len(names)], legends, directories, step=1000, title=\"Med Maze 10\")"
   ]
  },
  {
   "cell_type": "code",
   "execution_count": null,
   "metadata": {
    "collapsed": true,
    "deletable": true,
    "editable": true
   },
   "outputs": [],
   "source": []
  },
  {
   "cell_type": "code",
   "execution_count": null,
   "metadata": {
    "collapsed": true,
    "deletable": true,
    "editable": true
   },
   "outputs": [],
   "source": []
  },
  {
   "cell_type": "code",
   "execution_count": null,
   "metadata": {
    "collapsed": true,
    "deletable": true,
    "editable": true
   },
   "outputs": [],
   "source": [
    "DQN_Smoothed = []\n",
    "for times, rewards in zip(DQN_Lengths_C, DQN_Rewards):\n",
    "    linear = interp1d(times, rewards, kind=\"linear\")\n",
    "    linear_rewards = linear([i for i in range(500000)])\n",
    "    DQN_Smoothed.append(linear_rewards)"
   ]
  },
  {
   "cell_type": "code",
   "execution_count": null,
   "metadata": {
    "collapsed": true,
    "deletable": true,
    "editable": true
   },
   "outputs": [],
   "source": [
    "DQN_Means = np.mean(DQN_Smoothed, axis=0)"
   ]
  },
  {
   "cell_type": "code",
   "execution_count": null,
   "metadata": {
    "collapsed": true,
    "deletable": true,
    "editable": true
   },
   "outputs": [],
   "source": [
    "DQN_Stds = np.std(DQN_Smoothed, axis=0)"
   ]
  },
  {
   "cell_type": "code",
   "execution_count": null,
   "metadata": {
    "collapsed": false,
    "deletable": true,
    "editable": true
   },
   "outputs": [],
   "source": [
    "plt.fill_between([i for i in range(500000)], DQN_Means - DQN_Stds, DQN_Means + DQN_Stds, color=\"red\", alpha=0.3, edgecolor=\"white\")\n",
    "\n",
    "plt.plot([i for i in range(500000)], DQN_Means, color=\"red\")"
   ]
  },
  {
   "cell_type": "code",
   "execution_count": null,
   "metadata": {
    "collapsed": false,
    "deletable": true,
    "editable": true
   },
   "outputs": [],
   "source": [
    "len(DQN_Repeat)"
   ]
  },
  {
   "cell_type": "code",
   "execution_count": null,
   "metadata": {
    "collapsed": true,
    "deletable": true,
    "editable": true
   },
   "outputs": [],
   "source": [
    "plt.plot(DQN)"
   ]
  },
  {
   "cell_type": "code",
   "execution_count": null,
   "metadata": {
    "collapsed": true,
    "deletable": true,
    "editable": true
   },
   "outputs": [],
   "source": [
    "directories = [\"Logs/\"]"
   ]
  },
  {
   "cell_type": "code",
   "execution_count": null,
   "metadata": {
    "collapsed": false,
    "deletable": true,
    "editable": true
   },
   "outputs": [],
   "source": [
    "for i in range(0, 10, 2):\n",
    "    print(i)"
   ]
  },
  {
   "cell_type": "code",
   "execution_count": null,
   "metadata": {
    "collapsed": true,
    "deletable": true,
    "editable": true
   },
   "outputs": [],
   "source": []
  }
 ],
 "metadata": {
  "kernelspec": {
   "display_name": "Python 3",
   "language": "python",
   "name": "python3"
  },
  "language_info": {
   "codemirror_mode": {
    "name": "ipython",
    "version": 3
   },
   "file_extension": ".py",
   "mimetype": "text/x-python",
   "name": "python",
   "nbconvert_exporter": "python",
   "pygments_lexer": "ipython3",
   "version": "3.6.0"
  }
 },
 "nbformat": 4,
 "nbformat_minor": 2
}
