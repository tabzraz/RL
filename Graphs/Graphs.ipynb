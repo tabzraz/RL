{
 "cells": [
  {
   "cell_type": "code",
   "execution_count": 1,
   "metadata": {
    "collapsed": false,
    "deletable": true,
    "editable": true
   },
   "outputs": [
    {
     "data": {
      "text/html": [
       "\n",
       "    <div class=\"bk-root\">\n",
       "        <a href=\"http://bokeh.pydata.org\" target=\"_blank\" class=\"bk-logo bk-logo-small bk-logo-notebook\"></a>\n",
       "        <span id=\"1869990e-4cbe-4eac-8c5f-600ee8ba7897\">Loading BokehJS ...</span>\n",
       "    </div>"
      ]
     },
     "metadata": {},
     "output_type": "display_data"
    },
    {
     "data": {
      "application/javascript": [
       "\n",
       "(function(global) {\n",
       "  function now() {\n",
       "    return new Date();\n",
       "  }\n",
       "\n",
       "  var force = true;\n",
       "\n",
       "  if (typeof (window._bokeh_onload_callbacks) === \"undefined\" || force === true) {\n",
       "    window._bokeh_onload_callbacks = [];\n",
       "    window._bokeh_is_loading = undefined;\n",
       "  }\n",
       "\n",
       "\n",
       "  \n",
       "  if (typeof (window._bokeh_timeout) === \"undefined\" || force === true) {\n",
       "    window._bokeh_timeout = Date.now() + 5000;\n",
       "    window._bokeh_failed_load = false;\n",
       "  }\n",
       "\n",
       "  var NB_LOAD_WARNING = {'data': {'text/html':\n",
       "     \"<div style='background-color: #fdd'>\\n\"+\n",
       "     \"<p>\\n\"+\n",
       "     \"BokehJS does not appear to have successfully loaded. If loading BokehJS from CDN, this \\n\"+\n",
       "     \"may be due to a slow or bad network connection. Possible fixes:\\n\"+\n",
       "     \"</p>\\n\"+\n",
       "     \"<ul>\\n\"+\n",
       "     \"<li>re-rerun `output_notebook()` to attempt to load from CDN again, or</li>\\n\"+\n",
       "     \"<li>use INLINE resources instead, as so:</li>\\n\"+\n",
       "     \"</ul>\\n\"+\n",
       "     \"<code>\\n\"+\n",
       "     \"from bokeh.resources import INLINE\\n\"+\n",
       "     \"output_notebook(resources=INLINE)\\n\"+\n",
       "     \"</code>\\n\"+\n",
       "     \"</div>\"}};\n",
       "\n",
       "  function display_loaded() {\n",
       "    if (window.Bokeh !== undefined) {\n",
       "      document.getElementById(\"1869990e-4cbe-4eac-8c5f-600ee8ba7897\").textContent = \"BokehJS successfully loaded.\";\n",
       "    } else if (Date.now() < window._bokeh_timeout) {\n",
       "      setTimeout(display_loaded, 100)\n",
       "    }\n",
       "  }\n",
       "\n",
       "  function run_callbacks() {\n",
       "    window._bokeh_onload_callbacks.forEach(function(callback) { callback() });\n",
       "    delete window._bokeh_onload_callbacks\n",
       "    console.info(\"Bokeh: all callbacks have finished\");\n",
       "  }\n",
       "\n",
       "  function load_libs(js_urls, callback) {\n",
       "    window._bokeh_onload_callbacks.push(callback);\n",
       "    if (window._bokeh_is_loading > 0) {\n",
       "      console.log(\"Bokeh: BokehJS is being loaded, scheduling callback at\", now());\n",
       "      return null;\n",
       "    }\n",
       "    if (js_urls == null || js_urls.length === 0) {\n",
       "      run_callbacks();\n",
       "      return null;\n",
       "    }\n",
       "    console.log(\"Bokeh: BokehJS not loaded, scheduling load and callback at\", now());\n",
       "    window._bokeh_is_loading = js_urls.length;\n",
       "    for (var i = 0; i < js_urls.length; i++) {\n",
       "      var url = js_urls[i];\n",
       "      var s = document.createElement('script');\n",
       "      s.src = url;\n",
       "      s.async = false;\n",
       "      s.onreadystatechange = s.onload = function() {\n",
       "        window._bokeh_is_loading--;\n",
       "        if (window._bokeh_is_loading === 0) {\n",
       "          console.log(\"Bokeh: all BokehJS libraries loaded\");\n",
       "          run_callbacks()\n",
       "        }\n",
       "      };\n",
       "      s.onerror = function() {\n",
       "        console.warn(\"failed to load library \" + url);\n",
       "      };\n",
       "      console.log(\"Bokeh: injecting script tag for BokehJS library: \", url);\n",
       "      document.getElementsByTagName(\"head\")[0].appendChild(s);\n",
       "    }\n",
       "  };var element = document.getElementById(\"1869990e-4cbe-4eac-8c5f-600ee8ba7897\");\n",
       "  if (element == null) {\n",
       "    console.log(\"Bokeh: ERROR: autoload.js configured with elementid '1869990e-4cbe-4eac-8c5f-600ee8ba7897' but no matching script tag was found. \")\n",
       "    return false;\n",
       "  }\n",
       "\n",
       "  var js_urls = [\"https://cdn.pydata.org/bokeh/release/bokeh-0.12.4.min.js\", \"https://cdn.pydata.org/bokeh/release/bokeh-widgets-0.12.4.min.js\"];\n",
       "\n",
       "  var inline_js = [\n",
       "    function(Bokeh) {\n",
       "      Bokeh.set_log_level(\"info\");\n",
       "    },\n",
       "    \n",
       "    function(Bokeh) {\n",
       "      \n",
       "      document.getElementById(\"1869990e-4cbe-4eac-8c5f-600ee8ba7897\").textContent = \"BokehJS is loading...\";\n",
       "    },\n",
       "    function(Bokeh) {\n",
       "      console.log(\"Bokeh: injecting CSS: https://cdn.pydata.org/bokeh/release/bokeh-0.12.4.min.css\");\n",
       "      Bokeh.embed.inject_css(\"https://cdn.pydata.org/bokeh/release/bokeh-0.12.4.min.css\");\n",
       "      console.log(\"Bokeh: injecting CSS: https://cdn.pydata.org/bokeh/release/bokeh-widgets-0.12.4.min.css\");\n",
       "      Bokeh.embed.inject_css(\"https://cdn.pydata.org/bokeh/release/bokeh-widgets-0.12.4.min.css\");\n",
       "    }\n",
       "  ];\n",
       "\n",
       "  function run_inline_js() {\n",
       "    \n",
       "    if ((window.Bokeh !== undefined) || (force === true)) {\n",
       "      for (var i = 0; i < inline_js.length; i++) {\n",
       "        inline_js[i](window.Bokeh);\n",
       "      }if (force === true) {\n",
       "        display_loaded();\n",
       "      }} else if (Date.now() < window._bokeh_timeout) {\n",
       "      setTimeout(run_inline_js, 100);\n",
       "    } else if (!window._bokeh_failed_load) {\n",
       "      console.log(\"Bokeh: BokehJS failed to load within specified timeout.\");\n",
       "      window._bokeh_failed_load = true;\n",
       "    } else if (force !== true) {\n",
       "      var cell = $(document.getElementById(\"1869990e-4cbe-4eac-8c5f-600ee8ba7897\")).parents('.cell').data().cell;\n",
       "      cell.output_area.append_execute_result(NB_LOAD_WARNING)\n",
       "    }\n",
       "\n",
       "  }\n",
       "\n",
       "  if (window._bokeh_is_loading === 0) {\n",
       "    console.log(\"Bokeh: BokehJS loaded, going straight to plotting\");\n",
       "    run_inline_js();\n",
       "  } else {\n",
       "    load_libs(js_urls, function() {\n",
       "      console.log(\"Bokeh: BokehJS plotting callback run at\", now());\n",
       "      run_inline_js();\n",
       "    });\n",
       "  }\n",
       "}(this));"
      ]
     },
     "metadata": {},
     "output_type": "display_data"
    }
   ],
   "source": [
    "from bokeh.plotting import figure, output_notebook, show\n",
    "output_notebook()"
   ]
  },
  {
   "cell_type": "code",
   "execution_count": 2,
   "metadata": {
    "collapsed": true,
    "deletable": true,
    "editable": true
   },
   "outputs": [],
   "source": [
    "import glob"
   ]
  },
  {
   "cell_type": "code",
   "execution_count": 3,
   "metadata": {
    "collapsed": true,
    "deletable": true,
    "editable": true
   },
   "outputs": [],
   "source": [
    "import numpy as np"
   ]
  },
  {
   "cell_type": "code",
   "execution_count": 4,
   "metadata": {
    "collapsed": true,
    "deletable": true,
    "editable": true
   },
   "outputs": [],
   "source": [
    "from scipy.interpolate import interp1d\n",
    "from scipy.interpolate import spline"
   ]
  },
  {
   "cell_type": "code",
   "execution_count": 5,
   "metadata": {
    "collapsed": true,
    "deletable": true,
    "editable": true
   },
   "outputs": [],
   "source": [
    "from tqdm import tqdm"
   ]
  },
  {
   "cell_type": "code",
   "execution_count": 6,
   "metadata": {
    "collapsed": true,
    "deletable": true,
    "editable": true
   },
   "outputs": [],
   "source": [
    "DQN_Rewards_Path = \"/home/tabz/Dropbox/RL/Log_Files/March 2017/Maze_5_Batch_Sizes_Logs/*DQN*/logs/Episode_Rewards.txt\"\n",
    "DQN_Lengths_Path = \"/home/tabz/Dropbox/RL/Log_Files/March 2017/Maze_5_Batch_Sizes_Logs/*DQN*/logs/Episode_Lengths.txt\"\n",
    "DQN_Rewards = []\n",
    "DQN_Lengths = []\n",
    "DQN_Lengths_C = []"
   ]
  },
  {
   "cell_type": "code",
   "execution_count": 7,
   "metadata": {
    "collapsed": true,
    "deletable": true,
    "editable": true
   },
   "outputs": [],
   "source": [
    "for filename in glob.glob(DQN_Rewards_Path):\n",
    "    run_logs = [0]\n",
    "#     print(filename)\n",
    "    with open(filename, \"r\") as f:\n",
    "        for line in f:\n",
    "            try:\n",
    "                ep_r = float(line)\n",
    "            except:\n",
    "                continue\n",
    "            run_logs.append(ep_r)\n",
    "    DQN_Rewards.append(run_logs)"
   ]
  },
  {
   "cell_type": "code",
   "execution_count": 8,
   "metadata": {
    "collapsed": true,
    "deletable": true,
    "editable": true
   },
   "outputs": [],
   "source": [
    "for filename in glob.glob(DQN_Lengths_Path):\n",
    "    run_logs = [0]\n",
    "#     print(filename)\n",
    "    with open(filename, \"r\") as f:\n",
    "        for line in f:\n",
    "            try:\n",
    "                ep_r = float(line)\n",
    "            except:\n",
    "                continue\n",
    "            run_logs.append(ep_r)\n",
    "    DQN_Lengths.append(run_logs)\n",
    "    run_logs_c = np.cumsum(run_logs).astype(np.int32)\n",
    "    DQN_Lengths_C.append(run_logs_c)"
   ]
  },
  {
   "cell_type": "markdown",
   "metadata": {
    "collapsed": false,
    "deletable": true,
    "editable": true
   },
   "source": [
    "for lens, runs in zip(DQN_Lengths_C, DQN_Rewards):\n",
    "    plt.plot(lens, runs)\n",
    "plt.show()"
   ]
  },
  {
   "cell_type": "markdown",
   "metadata": {
    "collapsed": false,
    "deletable": true,
    "editable": true
   },
   "source": [
    "p = figure(width=500, height=500, y_range=(-1,3))\n",
    "for lens, runs in zip(DQN_Lengths_C, DQN_Rewards):\n",
    "    p.line(lens, runs)\n",
    "show(p)"
   ]
  },
  {
   "cell_type": "code",
   "execution_count": null,
   "metadata": {
    "collapsed": true,
    "deletable": true,
    "editable": true
   },
   "outputs": [],
   "source": []
  },
  {
   "cell_type": "markdown",
   "metadata": {
    "collapsed": true,
    "deletable": true,
    "editable": true
   },
   "source": [
    "def plot_averages(names, t_maxs, colors, legends=None, directory=\"Logs/\", step=10):\n",
    "    plt.figure(figsize=(10,10))\n",
    "    plt.ylim(-1, 3)\n",
    "    for name, color, t_max in tqdm(zip(names, colors, t_maxs)):\n",
    "        # TODO: Remove DQN from names\n",
    "        DQN_Rewards_Path = directory + \"*\" + name + \"*/logs/Episode_Rewards.txt\"\n",
    "        DQN_Lengths_Path = directory + \"*\" + name + \"*/logs/Episode_Lengths.txt\"\n",
    "        DQN_Rewards = []\n",
    "        DQN_Lengths = []\n",
    "        DQN_Lengths_C = []\n",
    "        for filename in glob.glob(DQN_Rewards_Path):\n",
    "            run_logs = [0]\n",
    "            with open(filename, \"r\") as f:\n",
    "                for line in f:\n",
    "                    try:\n",
    "                        ep_r = float(line)\n",
    "                    except:\n",
    "                        continue\n",
    "                    run_logs.append(ep_r)\n",
    "            DQN_Rewards.append(run_logs)\n",
    "        for filename in glob.glob(DQN_Lengths_Path):\n",
    "            run_logs = [0]\n",
    "        #     print(filename)\n",
    "            with open(filename, \"r\") as f:\n",
    "                for line in f:\n",
    "                    try:\n",
    "                        ep_r = float(line)\n",
    "                    except:\n",
    "                        continue\n",
    "                    run_logs.append(ep_r)\n",
    "            DQN_Lengths.append(run_logs)\n",
    "            run_logs_c = np.cumsum(run_logs).astype(np.int32)\n",
    "            DQN_Lengths_C.append(run_logs_c)\n",
    "        DQN_Smoothed = []\n",
    "        for times, rewards in zip(DQN_Lengths_C, DQN_Rewards):\n",
    "#             linear = interp1d(times, rewards, kind=\"linear\")\n",
    "#             linear_rewards = linear([i for i in range(500000)])\n",
    "#             DQN_Smoothed.append(linear_rewards)\n",
    "            spline_rewards = spline(times, rewards, [i for i in range(0, t_max, step)])\n",
    "            DQN_Smoothed.append(spline_rewards)\n",
    "        DQN_Means = np.mean(DQN_Smoothed, axis=0)\n",
    "        DQN_Stds = np.std(DQN_Smoothed, axis=0)\n",
    "        plt.fill_between([i for i in range(0, t_max, step)], DQN_Means - DQN_Stds, DQN_Means + DQN_Stds, color=color, alpha=0.2, edgecolor=\"white\")\n",
    "\n",
    "        plt.plot([i for i in range(0, t_max, step)], DQN_Means, color=color)\n",
    "\n",
    "    plt.title(\"Episode_Reward\")\n",
    "    plt.xlabel(\"T\")\n",
    "    plt.ylabel(\"Reward\")\n",
    "    if legends is not None:\n",
    "        plt.legend(legends, bbox_to_anchor=(1.05, 1), loc=2)\n",
    "    plt.show()"
   ]
  },
  {
   "cell_type": "code",
   "execution_count": 9,
   "metadata": {
    "collapsed": true,
    "deletable": true,
    "editable": true
   },
   "outputs": [],
   "source": [
    "from bokeh.models import Legend\n",
    "from bokeh.models.formatters import BasicTickFormatter\n",
    "from bokeh.models import HoverTool, TapTool"
   ]
  },
  {
   "cell_type": "code",
   "execution_count": 10,
   "metadata": {
    "collapsed": false,
    "deletable": true,
    "editable": true
   },
   "outputs": [],
   "source": [
    "def plot_averages_b(names, t_maxs, colors, legends, directories=\"Logs/\", step=10, title=\"\"):\n",
    "#     plt.figure(figsize=(10,10))\n",
    "    p = figure(width=1200, height=800, y_range=(-0.1, 1.1), title=title)\n",
    "    p.toolbar_location = \"above\"\n",
    "    p.yaxis.axis_label = \"Episode Reward\"\n",
    "    p.xaxis.axis_label = \"T\"\n",
    "    p.xaxis.formatter = BasicTickFormatter(use_scientific=False)\n",
    "#     p = figure(width=800, height=500)\n",
    "    lines = []\n",
    "    alpha_lines = []\n",
    "    if isinstance(directories, str):\n",
    "        dd = directories\n",
    "        directories = [dd for _ in names]\n",
    "    for name, color, t_max, legend, directory in zip(names, colors, t_maxs, legends, directories):\n",
    "#         print(directory)\n",
    "        DQN_Rewards_Path = directory + \"*\" + name + \"*/logs/Episode_Rewards.txt\"\n",
    "        DQN_Lengths_Path = directory + \"*\" + name + \"*/logs/Episode_Lengths.txt\"\n",
    "        DQN_Rewards = []\n",
    "        DQN_Lengths = []\n",
    "        DQN_Lengths_C = []\n",
    "        for filename in glob.glob(DQN_Rewards_Path):\n",
    "            run_logs = [0]\n",
    "            with open(filename, \"r\") as f:\n",
    "#                 print(f)\n",
    "                for line in f:\n",
    "                    try:\n",
    "                        ep_r = float(line)\n",
    "                    except:\n",
    "                        print(\"Nothing here for:\", filename)\n",
    "                        continue\n",
    "                    run_logs.append(ep_r)\n",
    "            DQN_Rewards.append(run_logs)\n",
    "        for filename in glob.glob(DQN_Lengths_Path):\n",
    "            run_logs = [0]\n",
    "        #     print(filename)\n",
    "            with open(filename, \"r\") as f:\n",
    "                for line in f:\n",
    "                    try:\n",
    "                        ep_r = float(line)\n",
    "                    except:\n",
    "                        continue\n",
    "                    run_logs.append(ep_r)\n",
    "            DQN_Lengths.append(run_logs)\n",
    "            run_logs_c = np.cumsum(run_logs).astype(np.int32)\n",
    "            DQN_Lengths_C.append(run_logs_c)\n",
    "        DQN_Smoothed = []\n",
    "        for times, rewards in zip(DQN_Lengths_C, DQN_Rewards):\n",
    "#             linear = interp1d(times, rewards, kind=\"linear\")\n",
    "#             linear_rewards = linear([i for i in range(500000)])\n",
    "#             DQN_Smoothed.append(linear_rewards)\n",
    "            spline_rewards = spline(times, rewards, [i for i in range(0, t_max, step)], order=1)\n",
    "            DQN_Smoothed.append(spline_rewards)\n",
    "        DQN_Means = np.mean(DQN_Smoothed, axis=0)\n",
    "        DQN_Stds = np.std(DQN_Smoothed, axis=0)\n",
    "        \n",
    "#         plt.fill_between([i for i in range(0, t_max, step)], DQN_Means - DQN_Stds, DQN_Means + DQN_Stds, color=color, alpha=0.2, edgecolor=\"white\")\n",
    "        # Error bars\n",
    "        xs = [i for i in range(0, t_max, step)]\n",
    "        xs = xs + list(reversed(xs))\n",
    "        ys = np.concatenate([DQN_Means - DQN_Stds, np.flip(DQN_Means + DQN_Stds, axis=0)])\n",
    "        lls = p.patch(xs, ys, color=color, alpha=0.1)\n",
    "\n",
    "        \n",
    "#         for x, y, yerr in zip(range(0, t_max, step), DQN_Means, DQN_Stds):\n",
    "#             lls = p.line([x, x], [y - yerr, y + yerr], color=color, alpha=0.1, hover_alpha=0.8)\n",
    "#             alpha_lines.append(lls)\n",
    "            \n",
    "\n",
    "#         plt.plot([i for i in range(0, t_max, step)], DQN_Means, color=color)\n",
    "        l = p.line([i for i in range(0, t_max, step)], DQN_Means, color=color, line_width=2)\n",
    "        lines.append(l)\n",
    "#         alpha_lines.append(lls)\n",
    "\n",
    "#     plt.title(\"Episode_Reward\")\n",
    "#     plt.xlabel(\"T\")\n",
    "#     plt.ylabel(\"Reward\")\n",
    "#     if legends is not None:\n",
    "#         plt.legend(legends)\n",
    "#     plt.show()\n",
    "#     p.line([0,1], [-1,3])\n",
    "    new_leg = Legend(items=[(name, [line]) for name, line in zip(legends, lines)], location=(0,-30))\n",
    "    p.add_layout(new_leg, \"right\")\n",
    "#     p.add_tools(HoverTool(renderers=alpha_lines))\n",
    "#     p.add_tools(TapTool(renderers=alpha_lines))\n",
    "    show(p)"
   ]
  },
  {
   "cell_type": "code",
   "execution_count": 11,
   "metadata": {
    "collapsed": false,
    "deletable": true,
    "editable": true
   },
   "outputs": [],
   "source": [
    "def plot_states(names, t_maxs, colors, legends, directories=\"Logs/\", step=10, title=\"\"):\n",
    "#     plt.figure(figsize=(10,10))\n",
    "    p = figure(width=1200, height=800, title=title)\n",
    "    p.toolbar_location = \"above\"\n",
    "    p.yaxis.axis_label = \"States visited\"\n",
    "    p.xaxis.axis_label = \"T\"\n",
    "    p.xaxis.formatter = BasicTickFormatter(use_scientific=False)\n",
    "#     p = figure(width=800, height=500)\n",
    "    lines = []\n",
    "    alpha_lines = []\n",
    "    if isinstance(directories, str):\n",
    "        dd = directories\n",
    "        directories = [dd for _ in names]\n",
    "    for name, color, t_max, legend, directory in zip(names, colors, t_maxs, legends, directories):\n",
    "#         print(directory)\n",
    "        States_Path = directory + \"*\" + name + \"*/logs/Player_Positions.txt\"\n",
    "        States = []\n",
    "        for filename in glob.glob(States_Path):\n",
    "            run_logs = []\n",
    "            with open(filename, \"r\") as f:\n",
    "#                 print(f)\n",
    "                for line in f:\n",
    "                    try:\n",
    "                        ep_r = str(line)\n",
    "#                         print(ep_r)\n",
    "                    except:\n",
    "                        print(\"Nothing here for:\", filename)\n",
    "                        continue\n",
    "                    run_logs.append(ep_r)\n",
    "            States.append(run_logs)\n",
    "        States_Visited = []\n",
    "        for run in States:\n",
    "            Visited = []\n",
    "            States_Sets = set()\n",
    "#             print(len(run))\n",
    "            for ii, s in enumerate(run):\n",
    "                if ii >= t_max - 1:\n",
    "                    break\n",
    "#                 print(s)\n",
    "                States_Sets.add(s)\n",
    "                if ii % step == 0:\n",
    "                    Visited.append(len(States_Sets))\n",
    "#             print(len(States_Sets))\n",
    "#             print(len(Visited))\n",
    "            States_Visited.append(Visited)\n",
    "#         print(np.array(States_Visited).shape)\n",
    "        Means = np.mean(States_Visited, axis=0)\n",
    "        Stds = np.std(States_Visited, axis=0)\n",
    "#         print(Means.shape)\n",
    "        \n",
    "#         plt.fill_between([i for i in range(0, t_max, step)], DQN_Means - DQN_Stds, DQN_Means + DQN_Stds, color=color, alpha=0.2, edgecolor=\"white\")\n",
    "        # Error bars\n",
    "        xs = [i for i in range(0, t_max, step)]\n",
    "        xs = xs + list(reversed(xs))\n",
    "        ys = np.concatenate([Means - Stds, np.flip(Means + Stds, axis=0)])\n",
    "        lls = p.patch(xs, ys, color=color, alpha=0.1)\n",
    "\n",
    "        \n",
    "#         for x, y, yerr in zip(range(0, t_max, step), DQN_Means, DQN_Stds):\n",
    "#             lls = p.line([x, x], [y - yerr, y + yerr], color=color, alpha=0.1, hover_alpha=0.8)\n",
    "#             alpha_lines.append(lls)\n",
    "            \n",
    "\n",
    "#         plt.plot([i for i in range(0, t_max, step)], DQN_Means, color=color)\n",
    "        l = p.line([i for i in range(0, t_max, step)], Means, color=color, line_width=2)\n",
    "        lines.append(l)\n",
    "#         alpha_lines.append(lls)\n",
    "\n",
    "#     plt.title(\"Episode_Reward\")\n",
    "#     plt.xlabel(\"T\")\n",
    "#     plt.ylabel(\"Reward\")\n",
    "#     if legends is not None:\n",
    "#         plt.legend(legends)\n",
    "#     plt.show()\n",
    "#     p.line([0,1], [-1,3])\n",
    "    new_leg = Legend(items=[(name, [line]) for name, line in zip(legends, lines)], location=(0,-30))\n",
    "    p.add_layout(new_leg, \"right\")\n",
    "#     p.add_tools(HoverTool(renderers=alpha_lines))\n",
    "#     p.add_tools(TapTool(renderers=alpha_lines))\n",
    "    show(p)"
   ]
  },
  {
   "cell_type": "code",
   "execution_count": null,
   "metadata": {
    "collapsed": true,
    "deletable": true,
    "editable": true
   },
   "outputs": [],
   "source": []
  },
  {
   "cell_type": "code",
   "execution_count": 12,
   "metadata": {
    "collapsed": false,
    "deletable": true,
    "editable": true
   },
   "outputs": [
    {
     "name": "stdout",
     "output_type": "stream",
     "text": [
      "['_10_Step_*DQN_', '_10_Step_*k_Count_', '_10_Step_*_CountEps_']\n",
      "[300001, 300001, 300001]\n"
     ]
    }
   ],
   "source": [
    "names = []\n",
    "legends = []\n",
    "t_maxs = []\n",
    "directories = []\n",
    "\n",
    "            \n",
    "# Frontier stuff\n",
    "for step in [10]:\n",
    "    # DQN\n",
    "    names += [\"_{}_Step_*DQN_\".format(step)]\n",
    "    legends += [\"{}_Step_DQN\".format(step)]\n",
    "    t_maxs += [300001]\n",
    "#     continue\n",
    "    # PseudoCount\n",
    "    names += [\"_{}_Step_*k_Count_\".format(step)]\n",
    "    legends += [\"{}_Step_Count\".format(step)]\n",
    "    t_maxs += [300001]\n",
    "#     continue\n",
    "    # EpsilonScaling\n",
    "    names += [\"_{}_Step_*_CountEps_\".format(step)]\n",
    "    legends += [\"{}_Step_Epsilon_Scaling\".format(step)]\n",
    "    t_maxs += [300001]\n",
    "            \n",
    "    \n",
    "direc = \"/home/tabz/tmp/logfiles/MedMaze10/MedMaze10\"\n",
    "# directories =  [\"{}/{}\".format(dropbox_direc, \"Maze_5_Logs/\")] + 3 * [\"{}/{}\".format(dropbox_direc, \"Maze_5_Batch_Sizes_Logs/\")] \n",
    "directories += [direc + \"/EpsilonLogs/\"] * 3\n",
    "    \n",
    "print(names)\n",
    "print(t_maxs)\n",
    "# colours = [\"red\", \"#3366ff\", \"#66ff33\", \"yellow\"]\n",
    "# colours = rainbow(np.linspace(0, 1, len(names)))"
   ]
  },
  {
   "cell_type": "code",
   "execution_count": 13,
   "metadata": {
    "collapsed": false,
    "deletable": true,
    "editable": true
   },
   "outputs": [
    {
     "name": "stdout",
     "output_type": "stream",
     "text": [
      "['_100_Step*k_Count_', '_100_Step*OptimisticAction', '_100_Step*_CountEps_']\n",
      "[300001, 300001, 300001]\n",
      "/home/scratch/tabhid/Log_Files/Gamma_Logs//\n"
     ]
    }
   ],
   "source": [
    "names = []\n",
    "legends = []\n",
    "t_maxs = []\n",
    "\n",
    "            \n",
    "# Frontier bandit stuff\n",
    "\n",
    "for n in [100]:\n",
    "    \n",
    "    # Count\n",
    "    names += [\"_{}_Step*k_Count_\".format(n)]\n",
    "    legends += [\"{}_Step_Count\".format(n)]\n",
    "    t_maxs += [300001]\n",
    "#     continue\n",
    "    # Optimistic\n",
    "    names += [\"_{}_Step*OptimisticAction\".format(n)]\n",
    "    legends += [\"{}_Step_OptimisticAction\".format(n)]\n",
    "    t_maxs += [300001]\n",
    "#     continue\n",
    "    # Epsilon Scaling\n",
    "    names += [\"_{}_Step*_CountEps_\".format(n)]\n",
    "    legends += [\"{}_Step_EpsilonScaling\".format(n)]\n",
    "    t_maxs += [300001]\n",
    "            \n",
    "    \n",
    "direc = \"/home/scratch/tabhid/Log_Files/Gamma_Logs//\"\n",
    "# directories =  [\"{}/{}\".format(dropbox_direc, \"Maze_5_Logs/\")] + 3 * [\"{}/{}\".format(dropbox_direc, \"Maze_5_Batch_Sizes_Logs/\")] \n",
    "# directories += [direc + \"/BanditLogs/\"] * 3\n",
    "directories = direc\n",
    "    \n",
    "print(names)\n",
    "print(t_maxs)\n",
    "print(directories)\n",
    "# colours = [\"red\", \"#3366ff\", \"#66ff33\", \"yellow\"]\n",
    "# colours = rainbow(np.linspace(0, 1, len(names)))"
   ]
  },
  {
   "cell_type": "code",
   "execution_count": 14,
   "metadata": {
    "collapsed": false,
    "deletable": true,
    "editable": true
   },
   "outputs": [
    {
     "name": "stdout",
     "output_type": "stream",
     "text": [
      "['_0.9_Decay*_Eps_0.1_', '_0.99_Decay*_Eps_0.1_', '_0.9999_Decay*_Eps_0.1_', '_0.9_Decay*_Eps_1_', '_0.99_Decay*_Eps_1_', '_0.9999_Decay*_Eps_1_']\n",
      "[300001, 300001, 300001, 300001, 300001, 300001]\n",
      "/home/tabz/tmp/Epsilon_Decay_Logs/\n"
     ]
    }
   ],
   "source": [
    "names = []\n",
    "legends = []\n",
    "t_maxs = []\n",
    "\n",
    "            \n",
    "# Epsilon Decay Scaling\n",
    "for eps in [0.1, 1]:\n",
    "    for decay in [0.9, 0.99, 0.9999]:\n",
    "    \n",
    "        names += [\"_{}_Decay*_Eps_{}_\".format(decay, eps)]\n",
    "        legends += [\"{}_Decay_EpsilonScaling_{}_Start\".format(decay, eps)]\n",
    "        t_maxs += [300001]\n",
    "            \n",
    "    \n",
    "# direc = \"/home/scratch/tabhid/Log_Files/Epsilon_Decay_Logs/\"\n",
    "direc = \"/home/tabz/tmp/Epsilon_Decay_Logs/\"\n",
    "# directories =  [\"{}/{}\".format(dropbox_direc, \"Maze_5_Logs/\")] + 3 * [\"{}/{}\".format(dropbox_direc, \"Maze_5_Batch_Sizes_Logs/\")] \n",
    "# directories += [direc + \"/BanditLogs/\"] * 3\n",
    "directories = direc\n",
    "    \n",
    "print(names)\n",
    "print(t_maxs)\n",
    "print(directories)"
   ]
  },
  {
   "cell_type": "code",
   "execution_count": 15,
   "metadata": {
    "collapsed": false,
    "deletable": true,
    "editable": true
   },
   "outputs": [
    {
     "name": "stdout",
     "output_type": "stream",
     "text": [
      "['_NegativeReward_0.5_', '_NegativeReward_0.7_', '_NegativeReward_0.9_']\n",
      "[300001, 300001, 300001]\n",
      "/home/tabz/tmp/Big_Negative_Reward_Logs/\n"
     ]
    }
   ],
   "source": [
    "names = []\n",
    "legends = []\n",
    "t_maxs = []\n",
    "\n",
    "            \n",
    "# Negative reward threshold\n",
    "for ns in [0.5, 0.7,  0.9]:\n",
    "    names += [\"_NegativeReward_{}_\".format(ns)]\n",
    "    legends += [\"NegativeReward_{}_Threshold\".format(ns)]\n",
    "    t_maxs += [300001]\n",
    "            \n",
    "    \n",
    "# direc = \"/home/scratch/tabhid/Log_Files/Epsilon_Decay_Logs/\"\n",
    "direc = \"/home/tabz/tmp/Big_Negative_Reward_Logs/\"\n",
    "# directories =  [\"{}/{}\".format(dropbox_direc, \"Maze_5_Logs/\")] + 3 * [\"{}/{}\".format(dropbox_direc, \"Maze_5_Batch_Sizes_Logs/\")] \n",
    "# directories += [direc + \"/BanditLogs/\"] * 3\n",
    "directories = direc\n",
    "    \n",
    "print(names)\n",
    "print(t_maxs)\n",
    "print(directories)"
   ]
  },
  {
   "cell_type": "code",
   "execution_count": 16,
   "metadata": {
    "collapsed": false,
    "deletable": true,
    "editable": true
   },
   "outputs": [
    {
     "name": "stdout",
     "output_type": "stream",
     "text": [
      "['k_OptimisticAction_0.0001_Scaler', 'k_OptimisticAction_0.0005_Scaler', 'k_OptimisticAction_0.001_Scaler', 'k_OptimisticAction_0.005_Scaler']\n",
      "[300001, 300001, 300001, 300001]\n",
      "/home/scratch/tabhid/Log_Files/Bandit_Small_Tau_Logs/\n"
     ]
    }
   ],
   "source": [
    "names = []\n",
    "legends = []\n",
    "t_maxs = []\n",
    "\n",
    "            \n",
    "# Bandit Tau\n",
    "for tau in [0.0001, 0.0005, 0.001, 0.005]:\n",
    "    for negative_reward in [False]:\n",
    "        if negative_reward:\n",
    "            names += [\"NegativeReward_*_OptimisticAction_{}_Scaler\".format(tau)]\n",
    "            legends += [\"Optim Bandit {} Tau Neg Reward\".format(tau)]\n",
    "        else:\n",
    "            names += [\"k_OptimisticAction_{}_Scaler\".format(tau)]\n",
    "            legends += [\"Optim Bandit {} Tau\".format(tau)]\n",
    "        t_maxs += [300001]\n",
    "            \n",
    "    \n",
    "direc = \"/home/scratch/tabhid/Log_Files/Bandit_Small_Tau_Logs/\"\n",
    "# direc = \"/home/tabz/tmp/Bandit_Tau_Logs/\"\n",
    "# directories =  [\"{}/{}\".format(dropbox_direc, \"Maze_5_Logs/\")] + 3 * [\"{}/{}\".format(dropbox_direc, \"Maze_5_Batch_Sizes_Logs/\")] \n",
    "# directories += [direc + \"/BanditLogs/\"] * 3\n",
    "directories = direc\n",
    "    \n",
    "print(names)\n",
    "print(t_maxs)\n",
    "print(directories)"
   ]
  },
  {
   "cell_type": "code",
   "execution_count": 60,
   "metadata": {
    "collapsed": false
   },
   "outputs": [
    {
     "name": "stdout",
     "output_type": "stream",
     "text": [
      "['Batch_64_XpSize_300k', 'Batch_128_XpSize_300k', 'Batch_256_XpSize_300k']\n",
      "[600001, 600001, 600001]\n",
      "/home/tabz/tmp/logfiles/MedMaze10/Logs/\n"
     ]
    }
   ],
   "source": [
    "names = []\n",
    "legends = []\n",
    "t_maxs = []\n",
    "\n",
    "            \n",
    "# Negative reward threshold\n",
    "for xp in [300]:\n",
    "    for bs in [64, 128, 256]:\n",
    "        names += [\"Batch_{}_XpSize_{}k\".format(bs, xp)]\n",
    "        legends += [\"Batch {} Xp {}k\".format(bs, xp)]\n",
    "        t_maxs += [600001]\n",
    "            \n",
    "    \n",
    "# direc = \"/home/scratch/tabhid/Log_Files/Xp_Logs/\"\n",
    "direc = \"/home/tabz/tmp/logfiles/MedMaze10/Logs/\"\n",
    "# directories =  [\"{}/{}\".format(dropbox_direc, \"Maze_5_Logs/\")] + 3 * [\"{}/{}\".format(dropbox_direc, \"Maze_5_Batch_Sizes_Logs/\")] \n",
    "# directories += [direc + \"/BanditLogs/\"] * 3\n",
    "directories = direc\n",
    "    \n",
    "print(names)\n",
    "print(t_maxs)\n",
    "print(directories)"
   ]
  },
  {
   "cell_type": "code",
   "execution_count": 86,
   "metadata": {
    "collapsed": false
   },
   "outputs": [
    {
     "name": "stdout",
     "output_type": "stream",
     "text": [
      "['ETrace_0.9_3_States', 'ETrace_0.9_5_States', 'ETrace_0.9_7_States']\n",
      "[600001, 600001, 600001]\n",
      "/home/tabz/tmp/logfiles/MedMaze10/Elig_Logs/\n"
     ]
    }
   ],
   "source": [
    "names = []\n",
    "legends = []\n",
    "t_maxs = []\n",
    "\n",
    "            \n",
    "# Negative reward threshold\n",
    "for lamb in [0.9]:\n",
    "    for states in [3, 5, 7]:\n",
    "        names += [\"ETrace_{}_{}_States\".format(lamb, states)]\n",
    "        legends += [\"Traces {} Lambda {} States\".format(lamb, states)]\n",
    "        t_maxs += [600001]\n",
    "            \n",
    "    \n",
    "# direc = \"/home/scratch/tabhid/Log_Files/Xp_Logs/\"\n",
    "direc = \"/home/tabz/tmp/logfiles/MedMaze10/Elig_Logs/\"\n",
    "# directories =  [\"{}/{}\".format(dropbox_direc, \"Maze_5_Logs/\")] + 3 * [\"{}/{}\".format(dropbox_direc, \"Maze_5_Batch_Sizes_Logs/\")] \n",
    "# directories += [direc + \"/BanditLogs/\"] * 3\n",
    "directories = direc\n",
    "    \n",
    "print(names)\n",
    "print(t_maxs)\n",
    "print(directories)"
   ]
  },
  {
   "cell_type": "code",
   "execution_count": 87,
   "metadata": {
    "collapsed": true,
    "deletable": true,
    "editable": true
   },
   "outputs": [],
   "source": [
    "import itertools"
   ]
  },
  {
   "cell_type": "code",
   "execution_count": 88,
   "metadata": {
    "collapsed": false,
    "deletable": true,
    "editable": true
   },
   "outputs": [],
   "source": [
    "from bokeh.palettes import magma, inferno, Set1, Set3, Paired, Dark2"
   ]
  },
  {
   "cell_type": "code",
   "execution_count": 89,
   "metadata": {
    "collapsed": false,
    "deletable": true,
    "editable": true
   },
   "outputs": [
    {
     "name": "stderr",
     "output_type": "stream",
     "text": [
      "/home/tabz/.local/lib/python3.6/site-packages/bokeh/models/sources.py:81: BokehUserWarning: ColumnDataSource's columns must be of the same length\n",
      "  lambda: warnings.warn(\"ColumnDataSource's columns must be of the same length\", BokehUserWarning))\n",
      "/home/tabz/.local/lib/python3.6/site-packages/bokeh/models/sources.py:81: BokehUserWarning: ColumnDataSource's columns must be of the same length\n",
      "  lambda: warnings.warn(\"ColumnDataSource's columns must be of the same length\", BokehUserWarning))\n",
      "/home/tabz/.local/lib/python3.6/site-packages/bokeh/models/sources.py:81: BokehUserWarning: ColumnDataSource's columns must be of the same length\n",
      "  lambda: warnings.warn(\"ColumnDataSource's columns must be of the same length\", BokehUserWarning))\n",
      "/home/tabz/.local/lib/python3.6/site-packages/bokeh/models/sources.py:81: BokehUserWarning: ColumnDataSource's columns must be of the same length\n",
      "  lambda: warnings.warn(\"ColumnDataSource's columns must be of the same length\", BokehUserWarning))\n",
      "/home/tabz/.local/lib/python3.6/site-packages/bokeh/models/sources.py:81: BokehUserWarning: ColumnDataSource's columns must be of the same length\n",
      "  lambda: warnings.warn(\"ColumnDataSource's columns must be of the same length\", BokehUserWarning))\n",
      "/home/tabz/.local/lib/python3.6/site-packages/bokeh/models/sources.py:81: BokehUserWarning: ColumnDataSource's columns must be of the same length\n",
      "  lambda: warnings.warn(\"ColumnDataSource's columns must be of the same length\", BokehUserWarning))\n"
     ]
    },
    {
     "data": {
      "text/html": [
       "\n",
       "\n",
       "    <div class=\"bk-root\">\n",
       "        <div class=\"bk-plotdiv\" id=\"8d9755fe-99f5-42be-8a66-a34bcd6cbd3a\"></div>\n",
       "    </div>\n",
       "<script type=\"text/javascript\">\n",
       "  \n",
       "  (function(global) {\n",
       "    function now() {\n",
       "      return new Date();\n",
       "    }\n",
       "  \n",
       "    var force = false;\n",
       "  \n",
       "    if (typeof (window._bokeh_onload_callbacks) === \"undefined\" || force === true) {\n",
       "      window._bokeh_onload_callbacks = [];\n",
       "      window._bokeh_is_loading = undefined;\n",
       "    }\n",
       "  \n",
       "  \n",
       "    \n",
       "    if (typeof (window._bokeh_timeout) === \"undefined\" || force === true) {\n",
       "      window._bokeh_timeout = Date.now() + 0;\n",
       "      window._bokeh_failed_load = false;\n",
       "    }\n",
       "  \n",
       "    var NB_LOAD_WARNING = {'data': {'text/html':\n",
       "       \"<div style='background-color: #fdd'>\\n\"+\n",
       "       \"<p>\\n\"+\n",
       "       \"BokehJS does not appear to have successfully loaded. If loading BokehJS from CDN, this \\n\"+\n",
       "       \"may be due to a slow or bad network connection. Possible fixes:\\n\"+\n",
       "       \"</p>\\n\"+\n",
       "       \"<ul>\\n\"+\n",
       "       \"<li>re-rerun `output_notebook()` to attempt to load from CDN again, or</li>\\n\"+\n",
       "       \"<li>use INLINE resources instead, as so:</li>\\n\"+\n",
       "       \"</ul>\\n\"+\n",
       "       \"<code>\\n\"+\n",
       "       \"from bokeh.resources import INLINE\\n\"+\n",
       "       \"output_notebook(resources=INLINE)\\n\"+\n",
       "       \"</code>\\n\"+\n",
       "       \"</div>\"}};\n",
       "  \n",
       "    function display_loaded() {\n",
       "      if (window.Bokeh !== undefined) {\n",
       "        document.getElementById(\"8d9755fe-99f5-42be-8a66-a34bcd6cbd3a\").textContent = \"BokehJS successfully loaded.\";\n",
       "      } else if (Date.now() < window._bokeh_timeout) {\n",
       "        setTimeout(display_loaded, 100)\n",
       "      }\n",
       "    }\n",
       "  \n",
       "    function run_callbacks() {\n",
       "      window._bokeh_onload_callbacks.forEach(function(callback) { callback() });\n",
       "      delete window._bokeh_onload_callbacks\n",
       "      console.info(\"Bokeh: all callbacks have finished\");\n",
       "    }\n",
       "  \n",
       "    function load_libs(js_urls, callback) {\n",
       "      window._bokeh_onload_callbacks.push(callback);\n",
       "      if (window._bokeh_is_loading > 0) {\n",
       "        console.log(\"Bokeh: BokehJS is being loaded, scheduling callback at\", now());\n",
       "        return null;\n",
       "      }\n",
       "      if (js_urls == null || js_urls.length === 0) {\n",
       "        run_callbacks();\n",
       "        return null;\n",
       "      }\n",
       "      console.log(\"Bokeh: BokehJS not loaded, scheduling load and callback at\", now());\n",
       "      window._bokeh_is_loading = js_urls.length;\n",
       "      for (var i = 0; i < js_urls.length; i++) {\n",
       "        var url = js_urls[i];\n",
       "        var s = document.createElement('script');\n",
       "        s.src = url;\n",
       "        s.async = false;\n",
       "        s.onreadystatechange = s.onload = function() {\n",
       "          window._bokeh_is_loading--;\n",
       "          if (window._bokeh_is_loading === 0) {\n",
       "            console.log(\"Bokeh: all BokehJS libraries loaded\");\n",
       "            run_callbacks()\n",
       "          }\n",
       "        };\n",
       "        s.onerror = function() {\n",
       "          console.warn(\"failed to load library \" + url);\n",
       "        };\n",
       "        console.log(\"Bokeh: injecting script tag for BokehJS library: \", url);\n",
       "        document.getElementsByTagName(\"head\")[0].appendChild(s);\n",
       "      }\n",
       "    };var element = document.getElementById(\"8d9755fe-99f5-42be-8a66-a34bcd6cbd3a\");\n",
       "    if (element == null) {\n",
       "      console.log(\"Bokeh: ERROR: autoload.js configured with elementid '8d9755fe-99f5-42be-8a66-a34bcd6cbd3a' but no matching script tag was found. \")\n",
       "      return false;\n",
       "    }\n",
       "  \n",
       "    var js_urls = [];\n",
       "  \n",
       "    var inline_js = [\n",
       "      function(Bokeh) {\n",
       "        (function() {\n",
       "          var fn = function() {\n",
       "            var docs_json = {\"fc7fb4a4-70ce-4cf2-9e29-d58fda83b124\":{\"roots\":{\"references\":[{\"attributes\":{\"below\":[{\"id\":\"94df66f2-8993-4c67-8c94-448782c865c8\",\"type\":\"LinearAxis\"}],\"left\":[{\"id\":\"7d25b412-078f-42b8-b26a-e12d91bcf984\",\"type\":\"LinearAxis\"}],\"plot_height\":800,\"plot_width\":1200,\"renderers\":[{\"id\":\"94df66f2-8993-4c67-8c94-448782c865c8\",\"type\":\"LinearAxis\"},{\"id\":\"6dedc379-8789-40ed-8b71-35cfc14e706a\",\"type\":\"Grid\"},{\"id\":\"7d25b412-078f-42b8-b26a-e12d91bcf984\",\"type\":\"LinearAxis\"},{\"id\":\"e48cf605-f2df-4d68-aba0-01a07397d38c\",\"type\":\"Grid\"},{\"id\":\"5125d796-4a38-4ee0-bf55-5931f57962bb\",\"type\":\"BoxAnnotation\"},{\"id\":\"9b7253c2-db43-45fe-8723-a14a830780e2\",\"type\":\"GlyphRenderer\"},{\"id\":\"defcf19d-a54c-4957-96ab-1397ac139bfb\",\"type\":\"GlyphRenderer\"},{\"id\":\"24e156de-f6b3-457d-af18-2d379250d081\",\"type\":\"GlyphRenderer\"},{\"id\":\"9f60a5a3-81b5-467d-95eb-a953de0b534b\",\"type\":\"GlyphRenderer\"},{\"id\":\"24a70491-0cb2-4a4c-b863-a1914bc20826\",\"type\":\"GlyphRenderer\"},{\"id\":\"3185c8a5-a98a-414b-9659-6691d18a759d\",\"type\":\"GlyphRenderer\"},{\"id\":\"86440c9c-dfa2-4707-b4ea-b9a90dd083a0\",\"type\":\"Legend\"}],\"right\":[{\"id\":\"86440c9c-dfa2-4707-b4ea-b9a90dd083a0\",\"type\":\"Legend\"}],\"title\":{\"id\":\"a96425bc-d0d3-4ead-9eb6-ed17f5749d45\",\"type\":\"Title\"},\"tool_events\":{\"id\":\"52f5d65a-5d92-4994-92ff-2d2bb70ad815\",\"type\":\"ToolEvents\"},\"toolbar\":{\"id\":\"5ba53373-1f3b-495b-a6af-79480f9d78b7\",\"type\":\"Toolbar\"},\"toolbar_location\":\"above\",\"x_range\":{\"id\":\"3a4f91b3-e613-402a-af9a-1addfb8581d3\",\"type\":\"DataRange1d\"},\"y_range\":{\"id\":\"5bb414c2-e93c-419f-a9f5-493f587020ef\",\"type\":\"DataRange1d\"}},\"id\":\"c53b5120-5287-4e24-83d4-7a0886034e8b\",\"subtype\":\"Figure\",\"type\":\"Plot\"},{\"attributes\":{\"label\":{\"value\":\"Traces 0.9 Lambda 3 States\"},\"renderers\":[{\"id\":\"defcf19d-a54c-4957-96ab-1397ac139bfb\",\"type\":\"GlyphRenderer\"}]},\"id\":\"e7775227-6c1c-4ad4-825f-69716b9b18ec\",\"type\":\"LegendItem\"},{\"attributes\":{\"plot\":null,\"text\":\"Med Maze 10\"},\"id\":\"a96425bc-d0d3-4ead-9eb6-ed17f5749d45\",\"type\":\"Title\"},{\"attributes\":{\"callback\":null},\"id\":\"3a4f91b3-e613-402a-af9a-1addfb8581d3\",\"type\":\"DataRange1d\"},{\"attributes\":{},\"id\":\"52f5d65a-5d92-4994-92ff-2d2bb70ad815\",\"type\":\"ToolEvents\"},{\"attributes\":{\"active_drag\":\"auto\",\"active_scroll\":\"auto\",\"active_tap\":\"auto\",\"tools\":[{\"id\":\"dc8f8737-7d39-4c44-99ea-5f67d441b856\",\"type\":\"PanTool\"},{\"id\":\"0a0dab89-6dd2-4cfe-a1b8-77fd6fffbbdc\",\"type\":\"WheelZoomTool\"},{\"id\":\"635f2683-e5dd-4fe0-948c-acaa43766ae3\",\"type\":\"BoxZoomTool\"},{\"id\":\"e52010b9-8e9a-4fae-bed3-309ef10d13d2\",\"type\":\"SaveTool\"},{\"id\":\"c8db443b-f5a4-43b2-9252-a49f33c5ee25\",\"type\":\"ResetTool\"},{\"id\":\"b22477c1-b486-482b-b41b-53ee49705ca6\",\"type\":\"HelpTool\"}]},\"id\":\"5ba53373-1f3b-495b-a6af-79480f9d78b7\",\"type\":\"Toolbar\"},{\"attributes\":{\"items\":[{\"id\":\"e7775227-6c1c-4ad4-825f-69716b9b18ec\",\"type\":\"LegendItem\"},{\"id\":\"419c0475-3349-49ee-9361-b9dfe40babf9\",\"type\":\"LegendItem\"},{\"id\":\"9dfee4b1-ab25-4a88-ace2-99fff7dcaae3\",\"type\":\"LegendItem\"}],\"location\":[0,-30],\"plot\":{\"id\":\"c53b5120-5287-4e24-83d4-7a0886034e8b\",\"subtype\":\"Figure\",\"type\":\"Plot\"}},\"id\":\"86440c9c-dfa2-4707-b4ea-b9a90dd083a0\",\"type\":\"Legend\"},{\"attributes\":{\"axis_label\":\"T\",\"formatter\":{\"id\":\"ed02ab04-3048-4de7-96d9-2f545ab7a0c7\",\"type\":\"BasicTickFormatter\"},\"plot\":{\"id\":\"c53b5120-5287-4e24-83d4-7a0886034e8b\",\"subtype\":\"Figure\",\"type\":\"Plot\"},\"ticker\":{\"id\":\"9a89969d-d662-44fb-94fa-48f3b9e3e2dd\",\"type\":\"BasicTicker\"}},\"id\":\"94df66f2-8993-4c67-8c94-448782c865c8\",\"type\":\"LinearAxis\"},{\"attributes\":{\"fill_alpha\":{\"value\":0.1},\"fill_color\":{\"value\":\"#1f77b4\"},\"line_alpha\":{\"value\":0.1},\"line_color\":{\"value\":\"#1f77b4\"},\"x\":{\"field\":\"x\"},\"y\":{\"field\":\"y\"}},\"id\":\"e45ab6f6-901f-4e5b-a540-08569599da2d\",\"type\":\"Patch\"},{\"attributes\":{\"callback\":null},\"id\":\"5bb414c2-e93c-419f-a9f5-493f587020ef\",\"type\":\"DataRange1d\"},{\"attributes\":{\"callback\":null,\"column_names\":[\"x\",\"y\"],\"data\":{\"x\":[0,10000,20000,30000,40000,50000,60000,70000,80000,90000,100000,110000,120000,130000,140000,150000,160000,170000,180000,190000,200000,210000,220000,230000,240000,250000,260000,270000,280000,290000,300000,310000,320000,330000,340000,350000,360000,370000,380000,390000,400000,410000,420000,430000,440000,450000,460000,470000,480000,490000,500000,510000,520000,530000,540000,550000,560000,570000,580000,590000,600000,600000,590000,580000,570000,560000,550000,540000,530000,520000,510000,500000,490000,480000,470000,460000,450000,440000,430000,420000,410000,400000,390000,380000,370000,360000,350000,340000,330000,320000,310000,300000,290000,280000,270000,260000,250000,240000,230000,220000,210000,200000,190000,180000,170000,160000,150000,140000,130000,120000,110000,100000,90000,80000,70000,60000,50000,40000,30000,20000,10000,0],\"y\":{\"__ndarray__\":\"AAAAAAAA8D/Sn68WAxF3QJq2BkR8BIRA4FXaH62qhkC/0wOsCdKHQFN+2+c88YpAu9nxHDUWi0BEA7bFIwqLQBlIxPAxCYtAKn6q2ms9jEDb5XYE/r6NQFBIun0qx41AUEi6fSrHjUBQSLp9KseNQLqI8UpWAY5A47J74U+tjkCX74rSJ6eOQP4D6KP6S45AGk7+Md26j0C4Enb86f+QQLgSdvzp/5BAuBJ2/On/kEC4Enb86f+QQLgSdvzp/5BAuBJ2/On/kECdiPGh92CRQJ2I8aH3YJFAr7mvsZjgkUCvua+xmOCRQJv0LA/m4ZFAxHYnqcm3kUDpiNKGvR+SQKjNggzeKJJAqM2CDN4okkCZNGmtRh2SQLK1vAn7ZZJAsrW8CftlkkCytbwJ+2WSQLK1vAn7ZZJAsrW8CftlkkCytbwJ+2WSQLK1vAn7ZZJAsrW8CftlkkCytbwJ+2WSQLK1vAn7ZZJAsrW8CftlkkCytbwJ+2WSQLK1vAn7ZZJAsrW8CftlkkCytbwJ+2WSQGnUk4g6hZJAadSTiDqFkkBp1JOIOoWSQGnUk4g6hZJAadSTiDqFkkBQrOBcu5aSQFCs4Fy7lpJAUKzgXLuWkkC0KF0KvJuSQLQoXQq8m5JAGKRvwhDJmUAYpG/CEMmZQHwg7G8RxplAfCDsbxHGmUB8IOxvEcaZQJcrbHfFsplAlytsd8WymUCXK2x3xbKZQJcrbHfFsplAlytsd8WymUAaFxDD0ZaZQBoXEMPRlplAGhcQw9GWmUAaFxDD0ZaZQBoXEMPRlplAGhcQw9GWmUAaFxDD0ZaZQBoXEMPRlplAGhcQw9GWmUAaFxDD0ZaZQBoXEMPRlplAGhcQw9GWmUAaFxDD0ZaZQBoXEMPRlplAGhcQw9GWmUBny5ZSuWqZQL6Y41mINZlAvpjjWYg1mUB93ZPfqC6ZQHC8C4ppC5lAmT4GJE0xmEDr3+nnADGYQOvf6ecAMZhAL0TbKtVLmEAvRNsq1UuYQK5T8Gl8VpdArlPwaXxWl0CuU/BpfFaXQK5T8Gl8VpdArlPwaXxWl0CuU/BpfFaXQCcMNJrE3ZRAAf4LrgLSlEDOIVSwBQaUQI8mQg9YmZJAPdUgdO6YkkCkqO+NN2GSQKSo7403YZJApKjvjTdhkkDeWZHKTVWSQB/03UV9JJJAjnU3oQCFkUBe/iQd7oKRQFZGuqQYEJBARxu+sVz4j0CGfGSQYQWQQIYQjEa5a45AMhbGiFA4jEAXMKh0fheHQAAAAAAAAPA/\",\"dtype\":\"float64\",\"shape\":[120]}}},\"id\":\"be9680e0-260a-4769-8a9f-e4531f1b7ddb\",\"type\":\"ColumnDataSource\"},{\"attributes\":{},\"id\":\"9a89969d-d662-44fb-94fa-48f3b9e3e2dd\",\"type\":\"BasicTicker\"},{\"attributes\":{\"plot\":{\"id\":\"c53b5120-5287-4e24-83d4-7a0886034e8b\",\"subtype\":\"Figure\",\"type\":\"Plot\"},\"ticker\":{\"id\":\"9a89969d-d662-44fb-94fa-48f3b9e3e2dd\",\"type\":\"BasicTicker\"}},\"id\":\"6dedc379-8789-40ed-8b71-35cfc14e706a\",\"type\":\"Grid\"},{\"attributes\":{\"axis_label\":\"States visited\",\"formatter\":{\"id\":\"3f88044f-c8f0-41a9-b297-d3b14de132e9\",\"type\":\"BasicTickFormatter\"},\"plot\":{\"id\":\"c53b5120-5287-4e24-83d4-7a0886034e8b\",\"subtype\":\"Figure\",\"type\":\"Plot\"},\"ticker\":{\"id\":\"985cd69f-50fb-415a-85d8-3820499e9c68\",\"type\":\"BasicTicker\"}},\"id\":\"7d25b412-078f-42b8-b26a-e12d91bcf984\",\"type\":\"LinearAxis\"},{\"attributes\":{},\"id\":\"985cd69f-50fb-415a-85d8-3820499e9c68\",\"type\":\"BasicTicker\"},{\"attributes\":{\"dimension\":1,\"plot\":{\"id\":\"c53b5120-5287-4e24-83d4-7a0886034e8b\",\"subtype\":\"Figure\",\"type\":\"Plot\"},\"ticker\":{\"id\":\"985cd69f-50fb-415a-85d8-3820499e9c68\",\"type\":\"BasicTicker\"}},\"id\":\"e48cf605-f2df-4d68-aba0-01a07397d38c\",\"type\":\"Grid\"},{\"attributes\":{\"use_scientific\":false},\"id\":\"ed02ab04-3048-4de7-96d9-2f545ab7a0c7\",\"type\":\"BasicTickFormatter\"},{\"attributes\":{\"bottom_units\":\"screen\",\"fill_alpha\":{\"value\":0.5},\"fill_color\":{\"value\":\"lightgrey\"},\"left_units\":\"screen\",\"level\":\"overlay\",\"line_alpha\":{\"value\":1.0},\"line_color\":{\"value\":\"black\"},\"line_dash\":[4,4],\"line_width\":{\"value\":2},\"plot\":null,\"render_mode\":\"css\",\"right_units\":\"screen\",\"top_units\":\"screen\"},\"id\":\"5125d796-4a38-4ee0-bf55-5931f57962bb\",\"type\":\"BoxAnnotation\"},{\"attributes\":{\"plot\":{\"id\":\"c53b5120-5287-4e24-83d4-7a0886034e8b\",\"subtype\":\"Figure\",\"type\":\"Plot\"}},\"id\":\"dc8f8737-7d39-4c44-99ea-5f67d441b856\",\"type\":\"PanTool\"},{\"attributes\":{\"fill_alpha\":{\"value\":0.1},\"fill_color\":{\"value\":\"#377eb8\"},\"line_alpha\":{\"value\":0.1},\"line_color\":{\"value\":\"#377eb8\"},\"x\":{\"field\":\"x\"},\"y\":{\"field\":\"y\"}},\"id\":\"44277759-46e5-4ffe-af5f-5009e4692ee0\",\"type\":\"Patch\"},{\"attributes\":{\"plot\":{\"id\":\"c53b5120-5287-4e24-83d4-7a0886034e8b\",\"subtype\":\"Figure\",\"type\":\"Plot\"}},\"id\":\"0a0dab89-6dd2-4cfe-a1b8-77fd6fffbbdc\",\"type\":\"WheelZoomTool\"},{\"attributes\":{\"overlay\":{\"id\":\"5125d796-4a38-4ee0-bf55-5931f57962bb\",\"type\":\"BoxAnnotation\"},\"plot\":{\"id\":\"c53b5120-5287-4e24-83d4-7a0886034e8b\",\"subtype\":\"Figure\",\"type\":\"Plot\"}},\"id\":\"635f2683-e5dd-4fe0-948c-acaa43766ae3\",\"type\":\"BoxZoomTool\"},{\"attributes\":{\"plot\":{\"id\":\"c53b5120-5287-4e24-83d4-7a0886034e8b\",\"subtype\":\"Figure\",\"type\":\"Plot\"}},\"id\":\"e52010b9-8e9a-4fae-bed3-309ef10d13d2\",\"type\":\"SaveTool\"},{\"attributes\":{\"plot\":{\"id\":\"c53b5120-5287-4e24-83d4-7a0886034e8b\",\"subtype\":\"Figure\",\"type\":\"Plot\"}},\"id\":\"c8db443b-f5a4-43b2-9252-a49f33c5ee25\",\"type\":\"ResetTool\"},{\"attributes\":{\"plot\":{\"id\":\"c53b5120-5287-4e24-83d4-7a0886034e8b\",\"subtype\":\"Figure\",\"type\":\"Plot\"}},\"id\":\"b22477c1-b486-482b-b41b-53ee49705ca6\",\"type\":\"HelpTool\"},{\"attributes\":{\"data_source\":{\"id\":\"be9680e0-260a-4769-8a9f-e4531f1b7ddb\",\"type\":\"ColumnDataSource\"},\"glyph\":{\"id\":\"d3381fff-0967-490b-b199-07ca431d9a04\",\"type\":\"Patch\"},\"hover_glyph\":null,\"nonselection_glyph\":{\"id\":\"e45ab6f6-901f-4e5b-a540-08569599da2d\",\"type\":\"Patch\"},\"selection_glyph\":null},\"id\":\"9b7253c2-db43-45fe-8723-a14a830780e2\",\"type\":\"GlyphRenderer\"},{\"attributes\":{\"callback\":null,\"column_names\":[\"x\",\"y\"],\"data\":{\"x\":[0,10000,20000,30000,40000,50000,60000,70000,80000,90000,100000,110000,120000,130000,140000,150000,160000,170000,180000,190000,200000,210000,220000,230000,240000,250000,260000,270000,280000,290000,300000,310000,320000,330000,340000,350000,360000,370000,380000,390000,400000,410000,420000,430000,440000,450000,460000,470000,480000,490000,500000,510000,520000,530000,540000,550000,560000,570000,580000,590000,600000],\"y\":{\"__ndarray__\":\"AAAAAAAA8D8zMzMzM5N4QGZmZmZmBoFAMzMzMzPbgkCamZmZmVGFQGZmZmZmvoVAmpmZmZkRh0AAAAAAAGiIQDMzMzMz64hAMzMzMzMLikDNzMzMzCSOQDMzMzMz+45AZmZmZmYej0CamZmZmTGQQAAAAAAAaJBAmpmZmZlJkUAAAAAAAFSRQAAAAAAAVJFAAAAAAABUkUAAAAAAAFSRQAAAAAAAtJFAAAAAAABkkkAzMzMzM2eSQAAAAAAAqJJAZmZmZmYak0DNzMzMzByTQAAAAAAAIJNAMzMzMzMjk0CamZmZmV2TQM3MzMzMBJRAZmZmZmYGlEBmZmZmZhaUQDMzMzMzZ5RAMzMzMzNnlEDNzMzMzHyUQM3MzMzMjJRAzczMzMyglEAzMzMzM7uUQAAAAAAA4JRAAAAAAACElUCamZmZmW2WQAAAAAAAoJZAAAAAAAAQl0DNzMzMzBSXQAAAAAAAIJdAmpmZmZkhl0AzMzMzM++XQAAAAAAA9JdAzczMzMz0l0DNzMzMzAyYQGZmZmZmIphAAAAAAAAsmEAAAAAAADyYQM3MzMzMSJhAzczMzMxsmEAzMzMzM2+YQDMzMzMzb5hAMzMzMzNvmEDNzMzMzHCYQJqZmZmZqZhA\",\"dtype\":\"float64\",\"shape\":[60]}}},\"id\":\"c5d47748-39bb-4418-a82b-89016e4478c8\",\"type\":\"ColumnDataSource\"},{\"attributes\":{\"fill_alpha\":{\"value\":0.1},\"fill_color\":{\"value\":\"#e41a1c\"},\"line_alpha\":{\"value\":0.1},\"line_color\":{\"value\":\"#e41a1c\"},\"x\":{\"field\":\"x\"},\"y\":{\"field\":\"y\"}},\"id\":\"d3381fff-0967-490b-b199-07ca431d9a04\",\"type\":\"Patch\"},{\"attributes\":{\"data_source\":{\"id\":\"94cdd167-442b-47f4-85fd-ea33abc9cac2\",\"type\":\"ColumnDataSource\"},\"glyph\":{\"id\":\"44277759-46e5-4ffe-af5f-5009e4692ee0\",\"type\":\"Patch\"},\"hover_glyph\":null,\"nonselection_glyph\":{\"id\":\"4a2e3776-b7f1-4894-ab63-e9e0a857a3a3\",\"type\":\"Patch\"},\"selection_glyph\":null},\"id\":\"24e156de-f6b3-457d-af18-2d379250d081\",\"type\":\"GlyphRenderer\"},{\"attributes\":{\"callback\":null,\"column_names\":[\"x\",\"y\"],\"data\":{\"x\":[0,10000,20000,30000,40000,50000,60000,70000,80000,90000,100000,110000,120000,130000,140000,150000,160000,170000,180000,190000,200000,210000,220000,230000,240000,250000,260000,270000,280000,290000,300000,310000,320000,330000,340000,350000,360000,370000,380000,390000,400000,410000,420000,430000,440000,450000,460000,470000,480000,490000,500000,510000,520000,530000,540000,550000,560000,570000,580000,590000,600000],\"y\":{\"__ndarray__\":\"AAAAAAAA8D8AAAAAAFCBQGZmZmZmHohAMzMzMzOLikBmZmZmZu6LQM3MzMzMdI1AMzMzMzObjUAAAAAAAAiPQJqZmZmZCY9AmpmZmZkhkEBmZmZmZpqQQGZmZmZmopBAZmZmZmaikEBmZmZmZqKQQM3MzMzMzJBAAAAAAAD4kEDNzMzMzKyRQAAAAAAA/JFAmpmZmZldkkAzMzMzMyuUQDMzMzMzK5RAMzMzMzMrlEAzMzMzMyuUQDMzMzMzK5RAMzMzMzMrlEBmZmZmZtaUQGZmZmZm1pRAzczMzMwIlUDNzMzMzAiVQJqZmZmZCZVAmpmZmZlhlUAzMzMzM6eVQDMzMzMzr5VAMzMzMzOvlUAAAAAAAMSVQGZmZmZm/pVAZmZmZmb+lUBmZmZmZv6VQGZmZmZm/pVAZmZmZmb+lUBmZmZmZv6VQGZmZmZm/pVAZmZmZmb+lUBmZmZmZv6VQGZmZmZm/pVAZmZmZmb+lUBmZmZmZv6VQGZmZmZm/pVAZmZmZmb+lUBmZmZmZv6VQAAAAAAAHJZAAAAAAAAclkAAAAAAAByWQAAAAAAAHJZAAAAAAAAclkBmZmZmZi6WQGZmZmZmLpZAZmZmZmYulkBmZmZmZjKWQGZmZmZmMpZA\",\"dtype\":\"float64\",\"shape\":[60]}}},\"id\":\"419c7c4b-4838-432d-a56e-1f07f360bb33\",\"type\":\"ColumnDataSource\"},{\"attributes\":{\"callback\":null,\"column_names\":[\"x\",\"y\"],\"data\":{\"x\":[0,10000,20000,30000,40000,50000,60000,70000,80000,90000,100000,110000,120000,130000,140000,150000,160000,170000,180000,190000,200000,210000,220000,230000,240000,250000,260000,270000,280000,290000,300000,310000,320000,330000,340000,350000,360000,370000,380000,390000,400000,410000,420000,430000,440000,450000,460000,470000,480000,490000,500000,510000,520000,530000,540000,550000,560000,570000,580000,590000,600000],\"y\":{\"__ndarray__\":\"AAAAAAAA8D8zMzMzM3NxQM3MzMzM/H9AAAAAAABIgkDNzMzMzNSEQGZmZmZmVoZAZmZmZmYmh0DNzMzMzNSIQM3MzMzMPIpAAAAAAAAoi0AzMzMzM7uLQAAAAAAAaIxAAAAAAABojEAAAAAAAOiMQAAAAAAA6IxAAAAAAADojEDNzMzMzKyNQGZmZmZmho5AmpmZmZmhjkCamZmZmaGOQJqZmZmZoY5AmpmZmZmhjkBmZmZmZsaOQGZmZmZmxo5AZmZmZmbGjkAAAAAAAMiOQAAAAAAAyI5AAAAAAADIjkAAAAAAAMiOQGZmZmZmdo9AMzMzMzOjj0DNzMzMzKSPQM3MzMzMpI9AzczMzMy0j0DNzMzMzLSPQM3MzMzMtI9AMzMzMzO7j0AzMzMzM7uPQDMzMzMzu49AMzMzMzO7j0AzMzMzM7uPQDMzMzMzu49AMzMzMzO7j0AzMzMzM7uPQGZmZmZmdpBAZmZmZmZ2kEBmZmZmZnaQQGZmZmZmdpBAZmZmZmZ2kEBmZmZmZsqQQDMzMzMzA5FAMzMzMzMDkUBmZmZmZjKRQGZmZmZmMpFAZmZmZmYykUBmZmZmZjKRQGZmZmZmMpFAMzMzMzOLkUCamZmZmaWRQJqZmZmZ0ZFA\",\"dtype\":\"float64\",\"shape\":[60]}}},\"id\":\"57102c6c-b2ce-4d0e-b5e0-de137fcc232b\",\"type\":\"ColumnDataSource\"},{\"attributes\":{},\"id\":\"3f88044f-c8f0-41a9-b297-d3b14de132e9\",\"type\":\"BasicTickFormatter\"},{\"attributes\":{\"fill_alpha\":{\"value\":0.1},\"fill_color\":{\"value\":\"#4daf4a\"},\"line_alpha\":{\"value\":0.1},\"line_color\":{\"value\":\"#4daf4a\"},\"x\":{\"field\":\"x\"},\"y\":{\"field\":\"y\"}},\"id\":\"6584632e-c707-4c16-97d5-aa59fc81b3a2\",\"type\":\"Patch\"},{\"attributes\":{\"line_color\":{\"value\":\"#e41a1c\"},\"line_width\":{\"value\":2},\"x\":{\"field\":\"x\"},\"y\":{\"field\":\"y\"}},\"id\":\"ffe657ba-e117-4527-a651-dcc45dc815ce\",\"type\":\"Line\"},{\"attributes\":{\"line_alpha\":{\"value\":0.1},\"line_color\":{\"value\":\"#1f77b4\"},\"line_width\":{\"value\":2},\"x\":{\"field\":\"x\"},\"y\":{\"field\":\"y\"}},\"id\":\"64b200cb-70e4-45d0-9e4d-32b38b22a192\",\"type\":\"Line\"},{\"attributes\":{\"data_source\":{\"id\":\"419c7c4b-4838-432d-a56e-1f07f360bb33\",\"type\":\"ColumnDataSource\"},\"glyph\":{\"id\":\"ffe657ba-e117-4527-a651-dcc45dc815ce\",\"type\":\"Line\"},\"hover_glyph\":null,\"nonselection_glyph\":{\"id\":\"64b200cb-70e4-45d0-9e4d-32b38b22a192\",\"type\":\"Line\"},\"selection_glyph\":null},\"id\":\"defcf19d-a54c-4957-96ab-1397ac139bfb\",\"type\":\"GlyphRenderer\"},{\"attributes\":{\"fill_alpha\":{\"value\":0.1},\"fill_color\":{\"value\":\"#1f77b4\"},\"line_alpha\":{\"value\":0.1},\"line_color\":{\"value\":\"#1f77b4\"},\"x\":{\"field\":\"x\"},\"y\":{\"field\":\"y\"}},\"id\":\"23a6b9ec-4217-4e5c-84c9-d81c32b68f4a\",\"type\":\"Patch\"},{\"attributes\":{\"line_color\":{\"value\":\"#4daf4a\"},\"line_width\":{\"value\":2},\"x\":{\"field\":\"x\"},\"y\":{\"field\":\"y\"}},\"id\":\"a5a26c6d-cfd4-4ded-be40-06fe0065e4c5\",\"type\":\"Line\"},{\"attributes\":{\"line_color\":{\"value\":\"#377eb8\"},\"line_width\":{\"value\":2},\"x\":{\"field\":\"x\"},\"y\":{\"field\":\"y\"}},\"id\":\"ea8c862c-9060-46a4-8e05-1829ba042080\",\"type\":\"Line\"},{\"attributes\":{\"data_source\":{\"id\":\"3d424981-e74c-45dd-9889-ec84ce6ba46a\",\"type\":\"ColumnDataSource\"},\"glyph\":{\"id\":\"6584632e-c707-4c16-97d5-aa59fc81b3a2\",\"type\":\"Patch\"},\"hover_glyph\":null,\"nonselection_glyph\":{\"id\":\"23a6b9ec-4217-4e5c-84c9-d81c32b68f4a\",\"type\":\"Patch\"},\"selection_glyph\":null},\"id\":\"24a70491-0cb2-4a4c-b863-a1914bc20826\",\"type\":\"GlyphRenderer\"},{\"attributes\":{\"line_alpha\":{\"value\":0.1},\"line_color\":{\"value\":\"#1f77b4\"},\"line_width\":{\"value\":2},\"x\":{\"field\":\"x\"},\"y\":{\"field\":\"y\"}},\"id\":\"35d85e67-bdb0-4c61-81a2-96bea18d2b3c\",\"type\":\"Line\"},{\"attributes\":{\"data_source\":{\"id\":\"57102c6c-b2ce-4d0e-b5e0-de137fcc232b\",\"type\":\"ColumnDataSource\"},\"glyph\":{\"id\":\"ea8c862c-9060-46a4-8e05-1829ba042080\",\"type\":\"Line\"},\"hover_glyph\":null,\"nonselection_glyph\":{\"id\":\"35d85e67-bdb0-4c61-81a2-96bea18d2b3c\",\"type\":\"Line\"},\"selection_glyph\":null},\"id\":\"9f60a5a3-81b5-467d-95eb-a953de0b534b\",\"type\":\"GlyphRenderer\"},{\"attributes\":{\"callback\":null,\"column_names\":[\"x\",\"y\"],\"data\":{\"x\":[0,10000,20000,30000,40000,50000,60000,70000,80000,90000,100000,110000,120000,130000,140000,150000,160000,170000,180000,190000,200000,210000,220000,230000,240000,250000,260000,270000,280000,290000,300000,310000,320000,330000,340000,350000,360000,370000,380000,390000,400000,410000,420000,430000,440000,450000,460000,470000,480000,490000,500000,510000,520000,530000,540000,550000,560000,570000,580000,590000,600000,600000,590000,580000,570000,560000,550000,540000,530000,520000,510000,500000,490000,480000,470000,460000,450000,440000,430000,420000,410000,400000,390000,380000,370000,360000,350000,340000,330000,320000,310000,300000,290000,280000,270000,260000,250000,240000,230000,220000,210000,200000,190000,180000,170000,160000,150000,140000,130000,120000,110000,100000,90000,80000,70000,60000,50000,40000,30000,20000,10000,0],\"y\":{\"__ndarray__\":\"AAAAAAAA8D8MHpUdjpVyQON3oCEdc3ZAmkntxhdGeUAlTl1G/0d+QAx+egZfn39AsJOQXtHhgUDivyMm2XGCQLjRhjAcsYJAmol0BXOdg0B5AUc5c52IQL6O295U/ohAm7IFjTMiiUCuKzygQzuKQF+Ur2nkRYpAaL8n0uswjkDR/IXJpVmOQNH8hcmlWY5A0fyFyaVZjkDR/IXJpVmOQHFiAd+TsI5Ai+hw24yDj0Ampg9zIYSPQIMQcu5kQpBA3nw/j/sWkUDIkusURhiRQLxzFAPuGZFAYj838IIbkUCSsgp9vIaRQMlxNXjSnZFAEGcJEs6dkUBkcnK2JqeRQAQXvD5oUpJABBe8PmhSkkDn7BG3iX6SQGKUxZ1Hl5JARlW1Um2XkkC4OtTDTJeSQJKjOXdWrZJATLC/DC5nk0Akv4WYRBSTQI/OS8qgJpNAUlO2bpr2k0CmkzQFt/WTQMbzMkMm75NAmJtCkyHyk0DgAByZ4t+TQHgdK2Qa55NABTO2qNXmk0BqbOayjuOTQAhYq24g35NAZGQnHDTdk0BUIDwVvfWTQFIcWwnY8pNA22dELroqlECXKRQUNSqUQJcpFBQ1KpRAlykUFDUqlEBN+PwrOC2UQFahAi4rjpRA3pEwBQjFnEBNoZxtYbScQM88UlIxtJxAzzxSUjG0nEDPPFJSMbScQL8xVWvfrpxASH0+kMGenECs38PqQoKcQJyb2OPLepxAxHQhXqxlnEAwLbPmCjacQJVm4/DDApxAiOLUm+UAnECGZUrNg/6bQJyX8J8RUZpAOgzNvNlQmkD0BWWU4jOaQK6sSZFlKZpAcTG0NV8ZmkAQdK2a7saZQLRPQPPRoJdAblzGiKkSl0CuK5KiGd+WQFRE5EYsqpZAOAXU+1GClkCzrIfiD3uWQGJPqif+e5ZAYk+qJ/57lkBoWloWpoWWQLxlw7r+bpZA0SdkIcdrlkCigCi2djSVQAQnL3bjKpVARIzr/BEmlUDSBq6EUyGVQO5PjT3RHZVAfe+NEZsNlUBTk96sVQyVQLqLR5I5BpVAx05/ELYPlECYAT0bLXuTQJgBPRste5NAmAE9Gy17k0CYAT0bLXuTQIBTH0q9epNA0DUoyw2tk0BdHRVjkUWTQBiN459MjZJA1GvFwwh8kkAQTCkwE9aRQGbueLB5PJBArpTfNUolj0AeQNzZJl6OQISfotRhQYxAxo2PSR2ti0AijASQM3+LQJnB74JaE4lA2pD8Oz7ThkBaSNFI2JB+QAAAAAAAAPA/\",\"dtype\":\"float64\",\"shape\":[120]}}},\"id\":\"3d424981-e74c-45dd-9889-ec84ce6ba46a\",\"type\":\"ColumnDataSource\"},{\"attributes\":{\"fill_alpha\":{\"value\":0.1},\"fill_color\":{\"value\":\"#1f77b4\"},\"line_alpha\":{\"value\":0.1},\"line_color\":{\"value\":\"#1f77b4\"},\"x\":{\"field\":\"x\"},\"y\":{\"field\":\"y\"}},\"id\":\"4a2e3776-b7f1-4894-ab63-e9e0a857a3a3\",\"type\":\"Patch\"},{\"attributes\":{\"line_alpha\":{\"value\":0.1},\"line_color\":{\"value\":\"#1f77b4\"},\"line_width\":{\"value\":2},\"x\":{\"field\":\"x\"},\"y\":{\"field\":\"y\"}},\"id\":\"88437c83-9cb0-4232-aeff-f43b306528f9\",\"type\":\"Line\"},{\"attributes\":{\"data_source\":{\"id\":\"c5d47748-39bb-4418-a82b-89016e4478c8\",\"type\":\"ColumnDataSource\"},\"glyph\":{\"id\":\"a5a26c6d-cfd4-4ded-be40-06fe0065e4c5\",\"type\":\"Line\"},\"hover_glyph\":null,\"nonselection_glyph\":{\"id\":\"88437c83-9cb0-4232-aeff-f43b306528f9\",\"type\":\"Line\"},\"selection_glyph\":null},\"id\":\"3185c8a5-a98a-414b-9659-6691d18a759d\",\"type\":\"GlyphRenderer\"},{\"attributes\":{\"label\":{\"value\":\"Traces 0.9 Lambda 5 States\"},\"renderers\":[{\"id\":\"9f60a5a3-81b5-467d-95eb-a953de0b534b\",\"type\":\"GlyphRenderer\"}]},\"id\":\"419c0475-3349-49ee-9361-b9dfe40babf9\",\"type\":\"LegendItem\"},{\"attributes\":{\"label\":{\"value\":\"Traces 0.9 Lambda 7 States\"},\"renderers\":[{\"id\":\"3185c8a5-a98a-414b-9659-6691d18a759d\",\"type\":\"GlyphRenderer\"}]},\"id\":\"9dfee4b1-ab25-4a88-ace2-99fff7dcaae3\",\"type\":\"LegendItem\"},{\"attributes\":{\"callback\":null,\"column_names\":[\"x\",\"y\"],\"data\":{\"x\":[0,10000,20000,30000,40000,50000,60000,70000,80000,90000,100000,110000,120000,130000,140000,150000,160000,170000,180000,190000,200000,210000,220000,230000,240000,250000,260000,270000,280000,290000,300000,310000,320000,330000,340000,350000,360000,370000,380000,390000,400000,410000,420000,430000,440000,450000,460000,470000,480000,490000,500000,510000,520000,530000,540000,550000,560000,570000,580000,590000,600000,600000,590000,580000,570000,560000,550000,540000,530000,520000,510000,500000,490000,480000,470000,460000,450000,440000,430000,420000,410000,400000,390000,380000,370000,360000,350000,340000,330000,320000,310000,300000,290000,280000,270000,260000,250000,240000,230000,220000,210000,200000,190000,180000,170000,160000,150000,140000,130000,120000,110000,100000,90000,80000,70000,60000,50000,40000,30000,20000,10000,0],\"y\":{\"__ndarray__\":\"AAAAAAAA8D8QbD0m8UhmQPbOAzBdA3VAXlRglSJ5eEDuVP3DTwJ9QDgN3oLgnX1Aqg7lDSUDfkBtjfg2LcSCQIn7y8e+lIVAZ5XYtAarhkDPlxBbAoOHQPB41h0awIdA8HjWHRrAh0DdgwNPW7iHQN2DA09buIdA3YMDT1u4h0B4BgQlTXuJQO/SNSRiz4pATiNz3PPcikBOI3Pc89yKQE4jc9zz3IpATiNz3PPcikAgHjQV7hOLQCAeNBXuE4tAIB40Fe4Ti0AIKLjFMhaLQAgouMUyFotACCi4xTIWi0AIKLjFMhaLQHyw0hSZzItAOlCGufTli0AmubjCOOeLQCa5uMI454tAkj/Z+CQWjECSP9n4JBaMQJI/2fgkFoxA7pLGLMcajEDuksYsxxqMQO6SxizHGoxA7pLGLMcajEDuksYsxxqMQO6SxizHGoxA7pLGLMcajEDuksYsxxqMQKPWInPneI9Ao9Yic+d4j0Cj1iJz53iPQKPWInPneI9Ao9Yic+d4j0B5zLlsN1GQQJ32EmV9nZBAnfYSZX2dkEACxMgVCKKQQALEyBUIopBAAsTIFQiikEACxMgVCKKQQALEyBUIopBAKZ436oGEkEBk+xkclXCQQOoKDFKfr5BASign4ZPzkkDQNxkXntqSQD3ILnzkkZJAyggEt8TCkUDKCAS3xMKRQMoIBLfEwpFAyggEt8TCkUDKCAS3xMKRQMlvUwHpaJFAyW9TAelokUBTABNglUORQHthOxNZMJFAe2E7E1kwkUB7YTsTWTCRQHthOxNZMJFAe2E7E1kwkUC86c+cz62RQLzpz5zPrZFAvOnPnM+tkUC86c+cz62RQLzpz5zPrZFAvOnPnM+tkUC86c+cz62RQLzpz5zPrZFABC1gULqpkUAELWBQuqmRQAQtYFC6qZFAOnBwazCxkUA6cHBrMLGRQBYLcNY4sJFAKA792xmQkUD86yOd5jyRQPzrI53mPJFA/OsjneY8kUD86yOd5jyRQFZXzFtvPJFAVlfMW288kUBWV8xbbzyRQPMHYKsfM5FA8wdgqx8zkUDzB2CrHzORQPMHYKsfM5FA7nxLVLUekUCRyUo6Ju+QQBI+fljSC5FAEj5+WNILkUASPn5Y0guRQIjDFPHyh5BAiMMU8fKHkECXzlULZPOPQJlqJ0v5pI9AEZ7N0drkjkAtDKFibOWOQHdF2kU6S49AMMZdi9zdjUAj75q3cSiLQNHVT7VuU4hAUuXKNB57hUBesEfT7cF3QAAAAAAAAPA/\",\"dtype\":\"float64\",\"shape\":[120]}}},\"id\":\"94cdd167-442b-47f4-85fd-ea33abc9cac2\",\"type\":\"ColumnDataSource\"}],\"root_ids\":[\"c53b5120-5287-4e24-83d4-7a0886034e8b\"]},\"title\":\"Bokeh Application\",\"version\":\"0.12.4\"}};\n",
       "            var render_items = [{\"docid\":\"fc7fb4a4-70ce-4cf2-9e29-d58fda83b124\",\"elementid\":\"8d9755fe-99f5-42be-8a66-a34bcd6cbd3a\",\"modelid\":\"c53b5120-5287-4e24-83d4-7a0886034e8b\"}];\n",
       "            \n",
       "            Bokeh.embed.embed_items(docs_json, render_items);\n",
       "          };\n",
       "          if (document.readyState != \"loading\") fn();\n",
       "          else document.addEventListener(\"DOMContentLoaded\", fn);\n",
       "        })();\n",
       "      },\n",
       "      function(Bokeh) {\n",
       "      }\n",
       "    ];\n",
       "  \n",
       "    function run_inline_js() {\n",
       "      \n",
       "      if ((window.Bokeh !== undefined) || (force === true)) {\n",
       "        for (var i = 0; i < inline_js.length; i++) {\n",
       "          inline_js[i](window.Bokeh);\n",
       "        }if (force === true) {\n",
       "          display_loaded();\n",
       "        }} else if (Date.now() < window._bokeh_timeout) {\n",
       "        setTimeout(run_inline_js, 100);\n",
       "      } else if (!window._bokeh_failed_load) {\n",
       "        console.log(\"Bokeh: BokehJS failed to load within specified timeout.\");\n",
       "        window._bokeh_failed_load = true;\n",
       "      } else if (force !== true) {\n",
       "        var cell = $(document.getElementById(\"8d9755fe-99f5-42be-8a66-a34bcd6cbd3a\")).parents('.cell').data().cell;\n",
       "        cell.output_area.append_execute_result(NB_LOAD_WARNING)\n",
       "      }\n",
       "  \n",
       "    }\n",
       "  \n",
       "    if (window._bokeh_is_loading === 0) {\n",
       "      console.log(\"Bokeh: BokehJS loaded, going straight to plotting\");\n",
       "      run_inline_js();\n",
       "    } else {\n",
       "      load_libs(js_urls, function() {\n",
       "        console.log(\"Bokeh: BokehJS plotting callback run at\", now());\n",
       "        run_inline_js();\n",
       "      });\n",
       "    }\n",
       "  }(this));\n",
       "</script>"
      ]
     },
     "metadata": {},
     "output_type": "display_data"
    }
   ],
   "source": [
    "plot_states(names, t_maxs, Set1[len(names)], legends, directories, step=10000, title=\"Med Maze 10\")"
   ]
  },
  {
   "cell_type": "code",
   "execution_count": null,
   "metadata": {
    "collapsed": true,
    "deletable": true,
    "editable": true
   },
   "outputs": [],
   "source": []
  },
  {
   "cell_type": "code",
   "execution_count": null,
   "metadata": {
    "collapsed": true,
    "deletable": true,
    "editable": true
   },
   "outputs": [],
   "source": []
  },
  {
   "cell_type": "code",
   "execution_count": null,
   "metadata": {
    "collapsed": true,
    "deletable": true,
    "editable": true
   },
   "outputs": [],
   "source": [
    "DQN_Smoothed = []\n",
    "for times, rewards in zip(DQN_Lengths_C, DQN_Rewards):\n",
    "    linear = interp1d(times, rewards, kind=\"linear\")\n",
    "    linear_rewards = linear([i for i in range(500000)])\n",
    "    DQN_Smoothed.append(linear_rewards)"
   ]
  },
  {
   "cell_type": "code",
   "execution_count": null,
   "metadata": {
    "collapsed": true,
    "deletable": true,
    "editable": true
   },
   "outputs": [],
   "source": [
    "DQN_Means = np.mean(DQN_Smoothed, axis=0)"
   ]
  },
  {
   "cell_type": "code",
   "execution_count": null,
   "metadata": {
    "collapsed": true,
    "deletable": true,
    "editable": true
   },
   "outputs": [],
   "source": [
    "DQN_Stds = np.std(DQN_Smoothed, axis=0)"
   ]
  },
  {
   "cell_type": "code",
   "execution_count": null,
   "metadata": {
    "collapsed": false,
    "deletable": true,
    "editable": true
   },
   "outputs": [],
   "source": [
    "plt.fill_between([i for i in range(500000)], DQN_Means - DQN_Stds, DQN_Means + DQN_Stds, color=\"red\", alpha=0.3, edgecolor=\"white\")\n",
    "\n",
    "plt.plot([i for i in range(500000)], DQN_Means, color=\"red\")"
   ]
  },
  {
   "cell_type": "code",
   "execution_count": null,
   "metadata": {
    "collapsed": false,
    "deletable": true,
    "editable": true
   },
   "outputs": [],
   "source": [
    "len(DQN_Repeat)"
   ]
  },
  {
   "cell_type": "code",
   "execution_count": null,
   "metadata": {
    "collapsed": true,
    "deletable": true,
    "editable": true
   },
   "outputs": [],
   "source": [
    "plt.plot(DQN)"
   ]
  },
  {
   "cell_type": "code",
   "execution_count": null,
   "metadata": {
    "collapsed": true,
    "deletable": true,
    "editable": true
   },
   "outputs": [],
   "source": [
    "directories = [\"Logs/\"]"
   ]
  },
  {
   "cell_type": "code",
   "execution_count": null,
   "metadata": {
    "collapsed": false,
    "deletable": true,
    "editable": true
   },
   "outputs": [],
   "source": [
    "for i in range(0, 10, 2):\n",
    "    print(i)"
   ]
  },
  {
   "cell_type": "code",
   "execution_count": null,
   "metadata": {
    "collapsed": true,
    "deletable": true,
    "editable": true
   },
   "outputs": [],
   "source": []
  }
 ],
 "metadata": {
  "kernelspec": {
   "display_name": "Python 3",
   "language": "python",
   "name": "python3"
  },
  "language_info": {
   "codemirror_mode": {
    "name": "ipython",
    "version": 3
   },
   "file_extension": ".py",
   "mimetype": "text/x-python",
   "name": "python",
   "nbconvert_exporter": "python",
   "pygments_lexer": "ipython3",
   "version": "3.6.0"
  }
 },
 "nbformat": 4,
 "nbformat_minor": 2
}
