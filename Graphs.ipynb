{
 "cells": [
  {
   "cell_type": "code",
   "execution_count": 1,
   "metadata": {
    "collapsed": false,
    "deletable": true,
    "editable": true
   },
   "outputs": [
    {
     "data": {
      "text/html": [
       "\n",
       "    <div class=\"bk-root\">\n",
       "        <a href=\"http://bokeh.pydata.org\" target=\"_blank\" class=\"bk-logo bk-logo-small bk-logo-notebook\"></a>\n",
       "        <span id=\"36100ed1-f592-4310-8028-22339d8a4070\">Loading BokehJS ...</span>\n",
       "    </div>"
      ]
     },
     "metadata": {},
     "output_type": "display_data"
    },
    {
     "data": {
      "application/javascript": [
       "\n",
       "(function(global) {\n",
       "  function now() {\n",
       "    return new Date();\n",
       "  }\n",
       "\n",
       "  var force = true;\n",
       "\n",
       "  if (typeof (window._bokeh_onload_callbacks) === \"undefined\" || force === true) {\n",
       "    window._bokeh_onload_callbacks = [];\n",
       "    window._bokeh_is_loading = undefined;\n",
       "  }\n",
       "\n",
       "\n",
       "  \n",
       "  if (typeof (window._bokeh_timeout) === \"undefined\" || force === true) {\n",
       "    window._bokeh_timeout = Date.now() + 5000;\n",
       "    window._bokeh_failed_load = false;\n",
       "  }\n",
       "\n",
       "  var NB_LOAD_WARNING = {'data': {'text/html':\n",
       "     \"<div style='background-color: #fdd'>\\n\"+\n",
       "     \"<p>\\n\"+\n",
       "     \"BokehJS does not appear to have successfully loaded. If loading BokehJS from CDN, this \\n\"+\n",
       "     \"may be due to a slow or bad network connection. Possible fixes:\\n\"+\n",
       "     \"</p>\\n\"+\n",
       "     \"<ul>\\n\"+\n",
       "     \"<li>re-rerun `output_notebook()` to attempt to load from CDN again, or</li>\\n\"+\n",
       "     \"<li>use INLINE resources instead, as so:</li>\\n\"+\n",
       "     \"</ul>\\n\"+\n",
       "     \"<code>\\n\"+\n",
       "     \"from bokeh.resources import INLINE\\n\"+\n",
       "     \"output_notebook(resources=INLINE)\\n\"+\n",
       "     \"</code>\\n\"+\n",
       "     \"</div>\"}};\n",
       "\n",
       "  function display_loaded() {\n",
       "    if (window.Bokeh !== undefined) {\n",
       "      document.getElementById(\"36100ed1-f592-4310-8028-22339d8a4070\").textContent = \"BokehJS successfully loaded.\";\n",
       "    } else if (Date.now() < window._bokeh_timeout) {\n",
       "      setTimeout(display_loaded, 100)\n",
       "    }\n",
       "  }\n",
       "\n",
       "  function run_callbacks() {\n",
       "    window._bokeh_onload_callbacks.forEach(function(callback) { callback() });\n",
       "    delete window._bokeh_onload_callbacks\n",
       "    console.info(\"Bokeh: all callbacks have finished\");\n",
       "  }\n",
       "\n",
       "  function load_libs(js_urls, callback) {\n",
       "    window._bokeh_onload_callbacks.push(callback);\n",
       "    if (window._bokeh_is_loading > 0) {\n",
       "      console.log(\"Bokeh: BokehJS is being loaded, scheduling callback at\", now());\n",
       "      return null;\n",
       "    }\n",
       "    if (js_urls == null || js_urls.length === 0) {\n",
       "      run_callbacks();\n",
       "      return null;\n",
       "    }\n",
       "    console.log(\"Bokeh: BokehJS not loaded, scheduling load and callback at\", now());\n",
       "    window._bokeh_is_loading = js_urls.length;\n",
       "    for (var i = 0; i < js_urls.length; i++) {\n",
       "      var url = js_urls[i];\n",
       "      var s = document.createElement('script');\n",
       "      s.src = url;\n",
       "      s.async = false;\n",
       "      s.onreadystatechange = s.onload = function() {\n",
       "        window._bokeh_is_loading--;\n",
       "        if (window._bokeh_is_loading === 0) {\n",
       "          console.log(\"Bokeh: all BokehJS libraries loaded\");\n",
       "          run_callbacks()\n",
       "        }\n",
       "      };\n",
       "      s.onerror = function() {\n",
       "        console.warn(\"failed to load library \" + url);\n",
       "      };\n",
       "      console.log(\"Bokeh: injecting script tag for BokehJS library: \", url);\n",
       "      document.getElementsByTagName(\"head\")[0].appendChild(s);\n",
       "    }\n",
       "  };var element = document.getElementById(\"36100ed1-f592-4310-8028-22339d8a4070\");\n",
       "  if (element == null) {\n",
       "    console.log(\"Bokeh: ERROR: autoload.js configured with elementid '36100ed1-f592-4310-8028-22339d8a4070' but no matching script tag was found. \")\n",
       "    return false;\n",
       "  }\n",
       "\n",
       "  var js_urls = [\"https://cdn.pydata.org/bokeh/release/bokeh-0.12.4.min.js\", \"https://cdn.pydata.org/bokeh/release/bokeh-widgets-0.12.4.min.js\"];\n",
       "\n",
       "  var inline_js = [\n",
       "    function(Bokeh) {\n",
       "      Bokeh.set_log_level(\"info\");\n",
       "    },\n",
       "    \n",
       "    function(Bokeh) {\n",
       "      \n",
       "      document.getElementById(\"36100ed1-f592-4310-8028-22339d8a4070\").textContent = \"BokehJS is loading...\";\n",
       "    },\n",
       "    function(Bokeh) {\n",
       "      console.log(\"Bokeh: injecting CSS: https://cdn.pydata.org/bokeh/release/bokeh-0.12.4.min.css\");\n",
       "      Bokeh.embed.inject_css(\"https://cdn.pydata.org/bokeh/release/bokeh-0.12.4.min.css\");\n",
       "      console.log(\"Bokeh: injecting CSS: https://cdn.pydata.org/bokeh/release/bokeh-widgets-0.12.4.min.css\");\n",
       "      Bokeh.embed.inject_css(\"https://cdn.pydata.org/bokeh/release/bokeh-widgets-0.12.4.min.css\");\n",
       "    }\n",
       "  ];\n",
       "\n",
       "  function run_inline_js() {\n",
       "    \n",
       "    if ((window.Bokeh !== undefined) || (force === true)) {\n",
       "      for (var i = 0; i < inline_js.length; i++) {\n",
       "        inline_js[i](window.Bokeh);\n",
       "      }if (force === true) {\n",
       "        display_loaded();\n",
       "      }} else if (Date.now() < window._bokeh_timeout) {\n",
       "      setTimeout(run_inline_js, 100);\n",
       "    } else if (!window._bokeh_failed_load) {\n",
       "      console.log(\"Bokeh: BokehJS failed to load within specified timeout.\");\n",
       "      window._bokeh_failed_load = true;\n",
       "    } else if (force !== true) {\n",
       "      var cell = $(document.getElementById(\"36100ed1-f592-4310-8028-22339d8a4070\")).parents('.cell').data().cell;\n",
       "      cell.output_area.append_execute_result(NB_LOAD_WARNING)\n",
       "    }\n",
       "\n",
       "  }\n",
       "\n",
       "  if (window._bokeh_is_loading === 0) {\n",
       "    console.log(\"Bokeh: BokehJS loaded, going straight to plotting\");\n",
       "    run_inline_js();\n",
       "  } else {\n",
       "    load_libs(js_urls, function() {\n",
       "      console.log(\"Bokeh: BokehJS plotting callback run at\", now());\n",
       "      run_inline_js();\n",
       "    });\n",
       "  }\n",
       "}(this));"
      ]
     },
     "metadata": {},
     "output_type": "display_data"
    }
   ],
   "source": [
    "from bokeh.plotting import figure, output_notebook, show\n",
    "output_notebook()"
   ]
  },
  {
   "cell_type": "code",
   "execution_count": 2,
   "metadata": {
    "collapsed": true,
    "deletable": true,
    "editable": true
   },
   "outputs": [],
   "source": [
    "import glob"
   ]
  },
  {
   "cell_type": "code",
   "execution_count": 3,
   "metadata": {
    "collapsed": true,
    "deletable": true,
    "editable": true
   },
   "outputs": [],
   "source": [
    "import numpy as np"
   ]
  },
  {
   "cell_type": "code",
   "execution_count": 4,
   "metadata": {
    "collapsed": true,
    "deletable": true,
    "editable": true
   },
   "outputs": [],
   "source": [
    "from scipy.interpolate import interp1d\n",
    "from scipy.interpolate import spline"
   ]
  },
  {
   "cell_type": "code",
   "execution_count": 5,
   "metadata": {
    "collapsed": true,
    "deletable": true,
    "editable": true
   },
   "outputs": [],
   "source": [
    "from tqdm import tqdm"
   ]
  },
  {
   "cell_type": "code",
   "execution_count": 6,
   "metadata": {
    "collapsed": true,
    "deletable": true,
    "editable": true
   },
   "outputs": [],
   "source": [
    "DQN_Rewards_Path = \"/home/tabz/Dropbox/RL/Log_Files/March 2017/Maze_5_Batch_Sizes_Logs/*DQN*/logs/Episode_Rewards.txt\"\n",
    "DQN_Lengths_Path = \"/home/tabz/Dropbox/RL/Log_Files/March 2017/Maze_5_Batch_Sizes_Logs/*DQN*/logs/Episode_Lengths.txt\"\n",
    "DQN_Rewards = []\n",
    "DQN_Lengths = []\n",
    "DQN_Lengths_C = []"
   ]
  },
  {
   "cell_type": "code",
   "execution_count": 7,
   "metadata": {
    "collapsed": true,
    "deletable": true,
    "editable": true
   },
   "outputs": [],
   "source": [
    "for filename in glob.glob(DQN_Rewards_Path):\n",
    "    run_logs = [0]\n",
    "#     print(filename)\n",
    "    with open(filename, \"r\") as f:\n",
    "        for line in f:\n",
    "            try:\n",
    "                ep_r = float(line)\n",
    "            except:\n",
    "                continue\n",
    "            run_logs.append(ep_r)\n",
    "    DQN_Rewards.append(run_logs)"
   ]
  },
  {
   "cell_type": "code",
   "execution_count": 8,
   "metadata": {
    "collapsed": true,
    "deletable": true,
    "editable": true
   },
   "outputs": [],
   "source": [
    "for filename in glob.glob(DQN_Lengths_Path):\n",
    "    run_logs = [0]\n",
    "#     print(filename)\n",
    "    with open(filename, \"r\") as f:\n",
    "        for line in f:\n",
    "            try:\n",
    "                ep_r = float(line)\n",
    "            except:\n",
    "                continue\n",
    "            run_logs.append(ep_r)\n",
    "    DQN_Lengths.append(run_logs)\n",
    "    run_logs_c = np.cumsum(run_logs).astype(np.int32)\n",
    "    DQN_Lengths_C.append(run_logs_c)"
   ]
  },
  {
   "cell_type": "markdown",
   "metadata": {
    "collapsed": false,
    "deletable": true,
    "editable": true
   },
   "source": [
    "for lens, runs in zip(DQN_Lengths_C, DQN_Rewards):\n",
    "    plt.plot(lens, runs)\n",
    "plt.show()"
   ]
  },
  {
   "cell_type": "markdown",
   "metadata": {
    "collapsed": false,
    "deletable": true,
    "editable": true
   },
   "source": [
    "p = figure(width=500, height=500, y_range=(-1,3))\n",
    "for lens, runs in zip(DQN_Lengths_C, DQN_Rewards):\n",
    "    p.line(lens, runs)\n",
    "show(p)"
   ]
  },
  {
   "cell_type": "code",
   "execution_count": null,
   "metadata": {
    "collapsed": true,
    "deletable": true,
    "editable": true
   },
   "outputs": [],
   "source": []
  },
  {
   "cell_type": "markdown",
   "metadata": {
    "collapsed": true,
    "deletable": true,
    "editable": true
   },
   "source": [
    "def plot_averages(names, t_maxs, colors, legends=None, directory=\"Logs/\", step=10):\n",
    "    plt.figure(figsize=(10,10))\n",
    "    plt.ylim(-1, 3)\n",
    "    for name, color, t_max in tqdm(zip(names, colors, t_maxs)):\n",
    "        # TODO: Remove DQN from names\n",
    "        DQN_Rewards_Path = directory + \"*\" + name + \"*/logs/Episode_Rewards.txt\"\n",
    "        DQN_Lengths_Path = directory + \"*\" + name + \"*/logs/Episode_Lengths.txt\"\n",
    "        DQN_Rewards = []\n",
    "        DQN_Lengths = []\n",
    "        DQN_Lengths_C = []\n",
    "        for filename in glob.glob(DQN_Rewards_Path):\n",
    "            run_logs = [0]\n",
    "            with open(filename, \"r\") as f:\n",
    "                for line in f:\n",
    "                    try:\n",
    "                        ep_r = float(line)\n",
    "                    except:\n",
    "                        continue\n",
    "                    run_logs.append(ep_r)\n",
    "            DQN_Rewards.append(run_logs)\n",
    "        for filename in glob.glob(DQN_Lengths_Path):\n",
    "            run_logs = [0]\n",
    "        #     print(filename)\n",
    "            with open(filename, \"r\") as f:\n",
    "                for line in f:\n",
    "                    try:\n",
    "                        ep_r = float(line)\n",
    "                    except:\n",
    "                        continue\n",
    "                    run_logs.append(ep_r)\n",
    "            DQN_Lengths.append(run_logs)\n",
    "            run_logs_c = np.cumsum(run_logs).astype(np.int32)\n",
    "            DQN_Lengths_C.append(run_logs_c)\n",
    "        DQN_Smoothed = []\n",
    "        for times, rewards in zip(DQN_Lengths_C, DQN_Rewards):\n",
    "#             linear = interp1d(times, rewards, kind=\"linear\")\n",
    "#             linear_rewards = linear([i for i in range(500000)])\n",
    "#             DQN_Smoothed.append(linear_rewards)\n",
    "            spline_rewards = spline(times, rewards, [i for i in range(0, t_max, step)])\n",
    "            DQN_Smoothed.append(spline_rewards)\n",
    "        DQN_Means = np.mean(DQN_Smoothed, axis=0)\n",
    "        DQN_Stds = np.std(DQN_Smoothed, axis=0)\n",
    "        plt.fill_between([i for i in range(0, t_max, step)], DQN_Means - DQN_Stds, DQN_Means + DQN_Stds, color=color, alpha=0.2, edgecolor=\"white\")\n",
    "\n",
    "        plt.plot([i for i in range(0, t_max, step)], DQN_Means, color=color)\n",
    "\n",
    "    plt.title(\"Episode_Reward\")\n",
    "    plt.xlabel(\"T\")\n",
    "    plt.ylabel(\"Reward\")\n",
    "    if legends is not None:\n",
    "        plt.legend(legends, bbox_to_anchor=(1.05, 1), loc=2)\n",
    "    plt.show()"
   ]
  },
  {
   "cell_type": "code",
   "execution_count": 9,
   "metadata": {
    "collapsed": true,
    "deletable": true,
    "editable": true
   },
   "outputs": [],
   "source": [
    "from bokeh.models import Legend\n",
    "from bokeh.models.formatters import BasicTickFormatter\n",
    "from bokeh.models import HoverTool, TapTool"
   ]
  },
  {
   "cell_type": "code",
   "execution_count": 10,
   "metadata": {
    "collapsed": false,
    "deletable": true,
    "editable": true
   },
   "outputs": [],
   "source": [
    "def plot_averages_b(names, t_maxs, colors, legends, directories=\"Logs/\", step=10, title=\"\"):\n",
    "#     plt.figure(figsize=(10,10))\n",
    "    p = figure(width=800, height=800, y_range=(-1.2, 3.2), title=title)\n",
    "    p.toolbar_location = \"above\"\n",
    "    p.yaxis.axis_label = \"Episode Reward\"\n",
    "    p.xaxis.axis_label = \"T\"\n",
    "    p.xaxis.formatter = BasicTickFormatter(use_scientific=False)\n",
    "#     p = figure(width=800, height=500)\n",
    "    lines = []\n",
    "    alpha_lines = []\n",
    "    if isinstance(directories, str):\n",
    "        dd = directories\n",
    "        directories = [dd for _ in names]\n",
    "    for name, color, t_max, legend, directory in zip(names, colors, t_maxs, legends, directories):\n",
    "#         print(directory)\n",
    "        DQN_Rewards_Path = directory + \"*\" + name + \"*/logs/Episode_Rewards.txt\"\n",
    "        DQN_Lengths_Path = directory + \"*\" + name + \"*/logs/Episode_Lengths.txt\"\n",
    "        DQN_Rewards = []\n",
    "        DQN_Lengths = []\n",
    "        DQN_Lengths_C = []\n",
    "        for filename in glob.glob(DQN_Rewards_Path):\n",
    "            run_logs = [0]\n",
    "            with open(filename, \"r\") as f:\n",
    "#                 print(f)\n",
    "                for line in f:\n",
    "                    try:\n",
    "                        ep_r = float(line)\n",
    "                    except:\n",
    "                        print(\"Nothing here for:\", filename)\n",
    "                        continue\n",
    "                    run_logs.append(ep_r)\n",
    "            DQN_Rewards.append(run_logs)\n",
    "        for filename in glob.glob(DQN_Lengths_Path):\n",
    "            run_logs = [0]\n",
    "        #     print(filename)\n",
    "            with open(filename, \"r\") as f:\n",
    "                for line in f:\n",
    "                    try:\n",
    "                        ep_r = float(line)\n",
    "                    except:\n",
    "                        continue\n",
    "                    run_logs.append(ep_r)\n",
    "            DQN_Lengths.append(run_logs)\n",
    "            run_logs_c = np.cumsum(run_logs).astype(np.int32)\n",
    "            DQN_Lengths_C.append(run_logs_c)\n",
    "        DQN_Smoothed = []\n",
    "        for times, rewards in zip(DQN_Lengths_C, DQN_Rewards):\n",
    "#             linear = interp1d(times, rewards, kind=\"linear\")\n",
    "#             linear_rewards = linear([i for i in range(500000)])\n",
    "#             DQN_Smoothed.append(linear_rewards)\n",
    "            spline_rewards = spline(times, rewards, [i for i in range(0, t_max, step)], order=1)\n",
    "            DQN_Smoothed.append(spline_rewards)\n",
    "        DQN_Means = np.mean(DQN_Smoothed, axis=0)\n",
    "        DQN_Stds = np.std(DQN_Smoothed, axis=0)\n",
    "        \n",
    "#         plt.fill_between([i for i in range(0, t_max, step)], DQN_Means - DQN_Stds, DQN_Means + DQN_Stds, color=color, alpha=0.2, edgecolor=\"white\")\n",
    "        # Error bars\n",
    "        xs = [i for i in range(0, t_max, step)]\n",
    "        xs = xs + list(reversed(xs))\n",
    "        ys = np.concatenate([DQN_Means - DQN_Stds, np.flip(DQN_Means + DQN_Stds, axis=0)])\n",
    "        lls = p.patch(xs, ys, color=color, alpha=0.1)\n",
    "\n",
    "        \n",
    "#         for x, y, yerr in zip(range(0, t_max, step), DQN_Means, DQN_Stds):\n",
    "#             lls = p.line([x, x], [y - yerr, y + yerr], color=color, alpha=0.1, hover_alpha=0.8)\n",
    "#             alpha_lines.append(lls)\n",
    "            \n",
    "\n",
    "#         plt.plot([i for i in range(0, t_max, step)], DQN_Means, color=color)\n",
    "        l = p.line([i for i in range(0, t_max, step)], DQN_Means, color=color, line_width=2)\n",
    "        lines.append(l)\n",
    "#         alpha_lines.append(lls)\n",
    "\n",
    "#     plt.title(\"Episode_Reward\")\n",
    "#     plt.xlabel(\"T\")\n",
    "#     plt.ylabel(\"Reward\")\n",
    "#     if legends is not None:\n",
    "#         plt.legend(legends)\n",
    "#     plt.show()\n",
    "#     p.line([0,1], [-1,3])\n",
    "    new_leg = Legend(items=[(name, [line]) for name, line in zip(legends, lines)], location=(0,-30))\n",
    "    p.add_layout(new_leg, \"right\")\n",
    "#     p.add_tools(HoverTool(renderers=alpha_lines))\n",
    "#     p.add_tools(TapTool(renderers=alpha_lines))\n",
    "    show(p)"
   ]
  },
  {
   "cell_type": "code",
   "execution_count": 41,
   "metadata": {
    "collapsed": false
   },
   "outputs": [],
   "source": [
    "def plot_states(names, t_maxs, colors, legends, directories=\"Logs/\", step=10, title=\"\"):\n",
    "#     plt.figure(figsize=(10,10))\n",
    "    p = figure(width=1200, height=800, title=title)\n",
    "    p.toolbar_location = \"above\"\n",
    "    p.yaxis.axis_label = \"States visited\"\n",
    "    p.xaxis.axis_label = \"T\"\n",
    "    p.xaxis.formatter = BasicTickFormatter(use_scientific=False)\n",
    "#     p = figure(width=800, height=500)\n",
    "    lines = []\n",
    "    alpha_lines = []\n",
    "    if isinstance(directories, str):\n",
    "        dd = directories\n",
    "        directories = [dd for _ in names]\n",
    "    for name, color, t_max, legend, directory in zip(names, colors, t_maxs, legends, directories):\n",
    "#         print(directory)\n",
    "        States_Path = directory + \"*\" + name + \"*/logs/Player_Positions.txt\"\n",
    "        States = []\n",
    "        for filename in glob.glob(States_Path):\n",
    "            run_logs = []\n",
    "            with open(filename, \"r\") as f:\n",
    "#                 print(f)\n",
    "                for line in f:\n",
    "                    try:\n",
    "                        ep_r = str(line)\n",
    "#                         print(ep_r)\n",
    "                    except:\n",
    "                        print(\"Nothing here for:\", filename)\n",
    "                        continue\n",
    "                    run_logs.append(ep_r)\n",
    "            States.append(run_logs)\n",
    "        States_Visited = []\n",
    "        for run in States:\n",
    "            Visited = []\n",
    "            States_Sets = set()\n",
    "#             print(len(run))\n",
    "            for ii, s in enumerate(run):\n",
    "                if ii >= t_max - 1:\n",
    "                    break\n",
    "#                 print(s)\n",
    "                States_Sets.add(s)\n",
    "                if ii % step == 0:\n",
    "                    Visited.append(len(States_Sets))\n",
    "#             print(len(States_Sets))\n",
    "#             print(len(Visited))\n",
    "            States_Visited.append(Visited)\n",
    "#         print(np.array(States_Visited).shape)\n",
    "        Means = np.mean(States_Visited, axis=0)\n",
    "        Stds = np.std(States_Visited, axis=0)\n",
    "#         print(Means.shape)\n",
    "        \n",
    "#         plt.fill_between([i for i in range(0, t_max, step)], DQN_Means - DQN_Stds, DQN_Means + DQN_Stds, color=color, alpha=0.2, edgecolor=\"white\")\n",
    "        # Error bars\n",
    "        xs = [i for i in range(0, t_max, step)]\n",
    "        xs = xs + list(reversed(xs))\n",
    "        ys = np.concatenate([Means - Stds, np.flip(Means + Stds, axis=0)])\n",
    "        lls = p.patch(xs, ys, color=color, alpha=0.1)\n",
    "\n",
    "        \n",
    "#         for x, y, yerr in zip(range(0, t_max, step), DQN_Means, DQN_Stds):\n",
    "#             lls = p.line([x, x], [y - yerr, y + yerr], color=color, alpha=0.1, hover_alpha=0.8)\n",
    "#             alpha_lines.append(lls)\n",
    "            \n",
    "\n",
    "#         plt.plot([i for i in range(0, t_max, step)], DQN_Means, color=color)\n",
    "        l = p.line([i for i in range(0, t_max, step)], Means, color=color, line_width=2)\n",
    "        lines.append(l)\n",
    "#         alpha_lines.append(lls)\n",
    "\n",
    "#     plt.title(\"Episode_Reward\")\n",
    "#     plt.xlabel(\"T\")\n",
    "#     plt.ylabel(\"Reward\")\n",
    "#     if legends is not None:\n",
    "#         plt.legend(legends)\n",
    "#     plt.show()\n",
    "#     p.line([0,1], [-1,3])\n",
    "    new_leg = Legend(items=[(name, [line]) for name, line in zip(legends, lines)], location=(0,-30))\n",
    "    p.add_layout(new_leg, \"right\")\n",
    "#     p.add_tools(HoverTool(renderers=alpha_lines))\n",
    "#     p.add_tools(TapTool(renderers=alpha_lines))\n",
    "    show(p)"
   ]
  },
  {
   "cell_type": "code",
   "execution_count": null,
   "metadata": {
    "collapsed": true,
    "deletable": true,
    "editable": true
   },
   "outputs": [],
   "source": []
  },
  {
   "cell_type": "code",
   "execution_count": 127,
   "metadata": {
    "collapsed": false,
    "deletable": true,
    "editable": true
   },
   "outputs": [
    {
     "name": "stdout",
     "output_type": "stream",
     "text": [
      "['_10_Step_*DQN_', '_10_Step_*k_Count_', '_10_Step_*_CountEps_']\n",
      "[300001, 300001, 300001]\n"
     ]
    }
   ],
   "source": [
    "names = []\n",
    "legends = []\n",
    "t_maxs = []\n",
    "directories = []\n",
    "\n",
    "            \n",
    "# Frontier stuff\n",
    "for step in [10]:\n",
    "    # DQN\n",
    "    names += [\"_{}_Step_*DQN_\".format(step)]\n",
    "    legends += [\"{}_Step_DQN\".format(step)]\n",
    "    t_maxs += [300001]\n",
    "#     continue\n",
    "    # PseudoCount\n",
    "    names += [\"_{}_Step_*k_Count_\".format(step)]\n",
    "    legends += [\"{}_Step_Count\".format(step)]\n",
    "    t_maxs += [300001]\n",
    "#     continue\n",
    "    # EpsilonScaling\n",
    "    names += [\"_{}_Step_*_CountEps_\".format(step)]\n",
    "    legends += [\"{}_Step_Epsilon_Scaling\".format(step)]\n",
    "    t_maxs += [300001]\n",
    "            \n",
    "    \n",
    "direc = \"/home/tabz/tmp/logfiles/MedMaze10/MedMaze10\"\n",
    "# directories =  [\"{}/{}\".format(dropbox_direc, \"Maze_5_Logs/\")] + 3 * [\"{}/{}\".format(dropbox_direc, \"Maze_5_Batch_Sizes_Logs/\")] \n",
    "directories += [direc + \"/EpsilonLogs/\"] * 3\n",
    "    \n",
    "print(names)\n",
    "print(t_maxs)\n",
    "# colours = [\"red\", \"#3366ff\", \"#66ff33\", \"yellow\"]\n",
    "# colours = rainbow(np.linspace(0, 1, len(names)))"
   ]
  },
  {
   "cell_type": "code",
   "execution_count": 128,
   "metadata": {
    "collapsed": false
   },
   "outputs": [
    {
     "name": "stdout",
     "output_type": "stream",
     "text": [
      "['_10_Step_*DQN_', '_10_Step_*k_Count_', '_10_Step_*_CountEps_', 'ForceAction', 'OptimisticAction', 'StateAction']\n",
      "[300001, 300001, 300001, 300001, 300001, 300001]\n",
      "['/home/tabz/tmp/logfiles/MedMaze10/MedMaze10/EpsilonLogs/', '/home/tabz/tmp/logfiles/MedMaze10/MedMaze10/EpsilonLogs/', '/home/tabz/tmp/logfiles/MedMaze10/MedMaze10/EpsilonLogs/', '/home/tabz/tmp/logfiles/MedMaze10/MedMaze10/BanditLogs/', '/home/tabz/tmp/logfiles/MedMaze10/MedMaze10/BanditLogs/', '/home/tabz/tmp/logfiles/MedMaze10/MedMaze10/BanditLogs/']\n"
     ]
    }
   ],
   "source": [
    "# names = []\n",
    "# legends = []\n",
    "# t_maxs = []\n",
    "\n",
    "            \n",
    "# Frontier bandit stuff\n",
    "\n",
    "# ForceAction\n",
    "names += [\"ForceAction\"]\n",
    "legends += [\"1_Step_ForceAction\"]\n",
    "t_maxs += [300001]\n",
    "\n",
    "# Optimistic\n",
    "names += [\"OptimisticAction\"]\n",
    "legends += [\"1_Step_OptimisticAction\"]\n",
    "t_maxs += [300001]\n",
    "\n",
    "# State action pseudo counts\n",
    "names += [\"StateAction\"]\n",
    "legends += [\"1_Step_Action_Count\"]\n",
    "t_maxs += [300001]\n",
    "            \n",
    "    \n",
    "direc = \"/home/tabz/tmp/logfiles/MedMaze10/MedMaze10\"\n",
    "# directories =  [\"{}/{}\".format(dropbox_direc, \"Maze_5_Logs/\")] + 3 * [\"{}/{}\".format(dropbox_direc, \"Maze_5_Batch_Sizes_Logs/\")] \n",
    "directories += [direc + \"/BanditLogs/\"] * 3\n",
    "    \n",
    "print(names)\n",
    "print(t_maxs)\n",
    "print(directories)\n",
    "# colours = [\"red\", \"#3366ff\", \"#66ff33\", \"yellow\"]\n",
    "# colours = rainbow(np.linspace(0, 1, len(names)))"
   ]
  },
  {
   "cell_type": "code",
   "execution_count": 143,
   "metadata": {
    "collapsed": false
   },
   "outputs": [
    {
     "name": "stdout",
     "output_type": "stream",
     "text": [
      "['XpSize_30k*Stale_30k', 'XpSize_100k*Stale_100k', 'XpSize_200k*Stale_200k', 'XpSize_300k*Stale_300k']\n",
      "[300001, 300001, 300001, 300001]\n",
      "/home/tabz/tmp/logfiles/MedMaze10/MedMaze10_Xp/XpSize/\n"
     ]
    }
   ],
   "source": [
    "names = []\n",
    "legends = []\n",
    "t_maxs = []\n",
    "directories = []\n",
    "\n",
    "            \n",
    "# XpSize\n",
    "\n",
    "for xp in [30, 100, 200, 300]:\n",
    "    \n",
    "    #Fresh \n",
    "#     names += [\"XpSize_{}k*Stale_k\".format(xp)]\n",
    "#     legends += [\"Fresh {}k Xp\".format(xp)]\n",
    "#     t_maxs += [300001]\n",
    "    \n",
    "    #Stale\n",
    "    names += [\"XpSize_{}k*Stale_{}k\".format(xp, xp)]\n",
    "    legends += [\"Stale {}k Xp\".format(xp)]\n",
    "    t_maxs += [300001]\n",
    "    \n",
    "for xp, p in zip([30, 60], [])\n",
    "    \n",
    "direc = \"/home/tabz/tmp/logfiles/MedMaze10/MedMaze10_Xp\"\n",
    "# directories =  [\"{}/{}\".format(dropbox_direc, \"Maze_5_Logs/\")] + 3 * [\"{}/{}\".format(dropbox_direc, \"Maze_5_Batch_Sizes_Logs/\")] \n",
    "# directories = direc + \"/XpSize/\"\n",
    "directories = direc + \"/PriXp/\"\n",
    "    \n",
    "print(names)\n",
    "print(t_maxs)\n",
    "print(directories)"
   ]
  },
  {
   "cell_type": "code",
   "execution_count": 144,
   "metadata": {
    "collapsed": true,
    "deletable": true,
    "editable": true
   },
   "outputs": [],
   "source": [
    "import itertools"
   ]
  },
  {
   "cell_type": "code",
   "execution_count": 145,
   "metadata": {
    "collapsed": false,
    "deletable": true,
    "editable": true
   },
   "outputs": [],
   "source": [
    "from bokeh.palettes import magma, inferno, Purples, Oranges, Greens, Reds, Set1, Set3, Paired, Dark2"
   ]
  },
  {
   "cell_type": "code",
   "execution_count": 146,
   "metadata": {
    "collapsed": false,
    "deletable": true,
    "editable": true
   },
   "outputs": [
    {
     "name": "stderr",
     "output_type": "stream",
     "text": [
      "/home/tabz/.local/lib/python3.6/site-packages/bokeh/models/sources.py:81: BokehUserWarning: ColumnDataSource's columns must be of the same length\n",
      "  lambda: warnings.warn(\"ColumnDataSource's columns must be of the same length\", BokehUserWarning))\n",
      "/home/tabz/.local/lib/python3.6/site-packages/bokeh/models/sources.py:81: BokehUserWarning: ColumnDataSource's columns must be of the same length\n",
      "  lambda: warnings.warn(\"ColumnDataSource's columns must be of the same length\", BokehUserWarning))\n",
      "/home/tabz/.local/lib/python3.6/site-packages/bokeh/models/sources.py:81: BokehUserWarning: ColumnDataSource's columns must be of the same length\n",
      "  lambda: warnings.warn(\"ColumnDataSource's columns must be of the same length\", BokehUserWarning))\n",
      "/home/tabz/.local/lib/python3.6/site-packages/bokeh/models/sources.py:81: BokehUserWarning: ColumnDataSource's columns must be of the same length\n",
      "  lambda: warnings.warn(\"ColumnDataSource's columns must be of the same length\", BokehUserWarning))\n",
      "/home/tabz/.local/lib/python3.6/site-packages/bokeh/models/sources.py:81: BokehUserWarning: ColumnDataSource's columns must be of the same length\n",
      "  lambda: warnings.warn(\"ColumnDataSource's columns must be of the same length\", BokehUserWarning))\n",
      "/home/tabz/.local/lib/python3.6/site-packages/bokeh/models/sources.py:81: BokehUserWarning: ColumnDataSource's columns must be of the same length\n",
      "  lambda: warnings.warn(\"ColumnDataSource's columns must be of the same length\", BokehUserWarning))\n",
      "/home/tabz/.local/lib/python3.6/site-packages/bokeh/models/sources.py:81: BokehUserWarning: ColumnDataSource's columns must be of the same length\n",
      "  lambda: warnings.warn(\"ColumnDataSource's columns must be of the same length\", BokehUserWarning))\n",
      "/home/tabz/.local/lib/python3.6/site-packages/bokeh/models/sources.py:81: BokehUserWarning: ColumnDataSource's columns must be of the same length\n",
      "  lambda: warnings.warn(\"ColumnDataSource's columns must be of the same length\", BokehUserWarning))\n"
     ]
    },
    {
     "data": {
      "text/html": [
       "\n",
       "\n",
       "    <div class=\"bk-root\">\n",
       "        <div class=\"bk-plotdiv\" id=\"7208b82d-259a-4275-8d91-c1f0b8f4fd57\"></div>\n",
       "    </div>\n",
       "<script type=\"text/javascript\">\n",
       "  \n",
       "  (function(global) {\n",
       "    function now() {\n",
       "      return new Date();\n",
       "    }\n",
       "  \n",
       "    var force = false;\n",
       "  \n",
       "    if (typeof (window._bokeh_onload_callbacks) === \"undefined\" || force === true) {\n",
       "      window._bokeh_onload_callbacks = [];\n",
       "      window._bokeh_is_loading = undefined;\n",
       "    }\n",
       "  \n",
       "  \n",
       "    \n",
       "    if (typeof (window._bokeh_timeout) === \"undefined\" || force === true) {\n",
       "      window._bokeh_timeout = Date.now() + 0;\n",
       "      window._bokeh_failed_load = false;\n",
       "    }\n",
       "  \n",
       "    var NB_LOAD_WARNING = {'data': {'text/html':\n",
       "       \"<div style='background-color: #fdd'>\\n\"+\n",
       "       \"<p>\\n\"+\n",
       "       \"BokehJS does not appear to have successfully loaded. If loading BokehJS from CDN, this \\n\"+\n",
       "       \"may be due to a slow or bad network connection. Possible fixes:\\n\"+\n",
       "       \"</p>\\n\"+\n",
       "       \"<ul>\\n\"+\n",
       "       \"<li>re-rerun `output_notebook()` to attempt to load from CDN again, or</li>\\n\"+\n",
       "       \"<li>use INLINE resources instead, as so:</li>\\n\"+\n",
       "       \"</ul>\\n\"+\n",
       "       \"<code>\\n\"+\n",
       "       \"from bokeh.resources import INLINE\\n\"+\n",
       "       \"output_notebook(resources=INLINE)\\n\"+\n",
       "       \"</code>\\n\"+\n",
       "       \"</div>\"}};\n",
       "  \n",
       "    function display_loaded() {\n",
       "      if (window.Bokeh !== undefined) {\n",
       "        document.getElementById(\"7208b82d-259a-4275-8d91-c1f0b8f4fd57\").textContent = \"BokehJS successfully loaded.\";\n",
       "      } else if (Date.now() < window._bokeh_timeout) {\n",
       "        setTimeout(display_loaded, 100)\n",
       "      }\n",
       "    }\n",
       "  \n",
       "    function run_callbacks() {\n",
       "      window._bokeh_onload_callbacks.forEach(function(callback) { callback() });\n",
       "      delete window._bokeh_onload_callbacks\n",
       "      console.info(\"Bokeh: all callbacks have finished\");\n",
       "    }\n",
       "  \n",
       "    function load_libs(js_urls, callback) {\n",
       "      window._bokeh_onload_callbacks.push(callback);\n",
       "      if (window._bokeh_is_loading > 0) {\n",
       "        console.log(\"Bokeh: BokehJS is being loaded, scheduling callback at\", now());\n",
       "        return null;\n",
       "      }\n",
       "      if (js_urls == null || js_urls.length === 0) {\n",
       "        run_callbacks();\n",
       "        return null;\n",
       "      }\n",
       "      console.log(\"Bokeh: BokehJS not loaded, scheduling load and callback at\", now());\n",
       "      window._bokeh_is_loading = js_urls.length;\n",
       "      for (var i = 0; i < js_urls.length; i++) {\n",
       "        var url = js_urls[i];\n",
       "        var s = document.createElement('script');\n",
       "        s.src = url;\n",
       "        s.async = false;\n",
       "        s.onreadystatechange = s.onload = function() {\n",
       "          window._bokeh_is_loading--;\n",
       "          if (window._bokeh_is_loading === 0) {\n",
       "            console.log(\"Bokeh: all BokehJS libraries loaded\");\n",
       "            run_callbacks()\n",
       "          }\n",
       "        };\n",
       "        s.onerror = function() {\n",
       "          console.warn(\"failed to load library \" + url);\n",
       "        };\n",
       "        console.log(\"Bokeh: injecting script tag for BokehJS library: \", url);\n",
       "        document.getElementsByTagName(\"head\")[0].appendChild(s);\n",
       "      }\n",
       "    };var element = document.getElementById(\"7208b82d-259a-4275-8d91-c1f0b8f4fd57\");\n",
       "    if (element == null) {\n",
       "      console.log(\"Bokeh: ERROR: autoload.js configured with elementid '7208b82d-259a-4275-8d91-c1f0b8f4fd57' but no matching script tag was found. \")\n",
       "      return false;\n",
       "    }\n",
       "  \n",
       "    var js_urls = [];\n",
       "  \n",
       "    var inline_js = [\n",
       "      function(Bokeh) {\n",
       "        (function() {\n",
       "          var fn = function() {\n",
       "            var docs_json = {\"c234bccc-f067-4fd7-b58e-ccc5a94da60c\":{\"roots\":{\"references\":[{\"attributes\":{\"bottom_units\":\"screen\",\"fill_alpha\":{\"value\":0.5},\"fill_color\":{\"value\":\"lightgrey\"},\"left_units\":\"screen\",\"level\":\"overlay\",\"line_alpha\":{\"value\":1.0},\"line_color\":{\"value\":\"black\"},\"line_dash\":[4,4],\"line_width\":{\"value\":2},\"plot\":null,\"render_mode\":\"css\",\"right_units\":\"screen\",\"top_units\":\"screen\"},\"id\":\"ae995851-8d10-4773-9c61-45975e5a7ecf\",\"type\":\"BoxAnnotation\"},{\"attributes\":{\"items\":[{\"id\":\"9c0b3f89-b941-44f6-991f-63a096710670\",\"type\":\"LegendItem\"},{\"id\":\"05db6db6-3cf8-4857-a90b-a2d13b593537\",\"type\":\"LegendItem\"},{\"id\":\"e967e96a-1627-4a90-adc9-bf75a7599134\",\"type\":\"LegendItem\"},{\"id\":\"bfc8cce6-97b9-47f7-9990-ca116129e530\",\"type\":\"LegendItem\"}],\"location\":[0,-30],\"plot\":{\"id\":\"811d8f6b-deb1-4645-ab9b-e1afdcf02397\",\"subtype\":\"Figure\",\"type\":\"Plot\"}},\"id\":\"d43ea113-40d6-4d2b-a188-ad3fc280a3a2\",\"type\":\"Legend\"},{\"attributes\":{\"line_color\":{\"value\":\"#984ea3\"},\"line_width\":{\"value\":2},\"x\":{\"field\":\"x\"},\"y\":{\"field\":\"y\"}},\"id\":\"33f6e74b-cde3-4c96-9315-12d632230aa1\",\"type\":\"Line\"},{\"attributes\":{\"plot\":{\"id\":\"811d8f6b-deb1-4645-ab9b-e1afdcf02397\",\"subtype\":\"Figure\",\"type\":\"Plot\"}},\"id\":\"70e9f533-80ed-4b95-a555-df1b5fa531ca\",\"type\":\"ResetTool\"},{\"attributes\":{\"plot\":{\"id\":\"811d8f6b-deb1-4645-ab9b-e1afdcf02397\",\"subtype\":\"Figure\",\"type\":\"Plot\"}},\"id\":\"f8bdbc5f-79d3-4b27-a420-19ead9ce208e\",\"type\":\"HelpTool\"},{\"attributes\":{\"fill_alpha\":{\"value\":0.1},\"fill_color\":{\"value\":\"#1f77b4\"},\"line_alpha\":{\"value\":0.1},\"line_color\":{\"value\":\"#1f77b4\"},\"x\":{\"field\":\"x\"},\"y\":{\"field\":\"y\"}},\"id\":\"3032b073-5ef5-45d7-b146-00c6a12221f6\",\"type\":\"Patch\"},{\"attributes\":{\"callback\":null,\"column_names\":[\"x\",\"y\"],\"data\":{\"x\":[0,1000,2000,3000,4000,5000,6000,7000,8000,9000,10000,11000,12000,13000,14000,15000,16000,17000,18000,19000,20000,21000,22000,23000,24000,25000,26000,27000,28000,29000,30000,31000,32000,33000,34000,35000,36000,37000,38000,39000,40000,41000,42000,43000,44000,45000,46000,47000,48000,49000,50000,51000,52000,53000,54000,55000,56000,57000,58000,59000,60000,61000,62000,63000,64000,65000,66000,67000,68000,69000,70000,71000,72000,73000,74000,75000,76000,77000,78000,79000,80000,81000,82000,83000,84000,85000,86000,87000,88000,89000,90000,91000,92000,93000,94000,95000,96000,97000,98000,99000,100000,101000,102000,103000,104000,105000,106000,107000,108000,109000,110000,111000,112000,113000,114000,115000,116000,117000,118000,119000,120000,121000,122000,123000,124000,125000,126000,127000,128000,129000,130000,131000,132000,133000,134000,135000,136000,137000,138000,139000,140000,141000,142000,143000,144000,145000,146000,147000,148000,149000,150000,151000,152000,153000,154000,155000,156000,157000,158000,159000,160000,161000,162000,163000,164000,165000,166000,167000,168000,169000,170000,171000,172000,173000,174000,175000,176000,177000,178000,179000,180000,181000,182000,183000,184000,185000,186000,187000,188000,189000,190000,191000,192000,193000,194000,195000,196000,197000,198000,199000,200000,201000,202000,203000,204000,205000,206000,207000,208000,209000,210000,211000,212000,213000,214000,215000,216000,217000,218000,219000,220000,221000,222000,223000,224000,225000,226000,227000,228000,229000,230000,231000,232000,233000,234000,235000,236000,237000,238000,239000,240000,241000,242000,243000,244000,245000,246000,247000,248000,249000,250000,251000,252000,253000,254000,255000,256000,257000,258000,259000,260000,261000,262000,263000,264000,265000,266000,267000,268000,269000,270000,271000,272000,273000,274000,275000,276000,277000,278000,279000,280000,281000,282000,283000,284000,285000,286000,287000,288000,289000,290000,291000,292000,293000,294000,295000,296000,297000,298000,299000,300000,300000,299000,298000,297000,296000,295000,294000,293000,292000,291000,290000,289000,288000,287000,286000,285000,284000,283000,282000,281000,280000,279000,278000,277000,276000,275000,274000,273000,272000,271000,270000,269000,268000,267000,266000,265000,264000,263000,262000,261000,260000,259000,258000,257000,256000,255000,254000,253000,252000,251000,250000,249000,248000,247000,246000,245000,244000,243000,242000,241000,240000,239000,238000,237000,236000,235000,234000,233000,232000,231000,230000,229000,228000,227000,226000,225000,224000,223000,222000,221000,220000,219000,218000,217000,216000,215000,214000,213000,212000,211000,210000,209000,208000,207000,206000,205000,204000,203000,202000,201000,200000,199000,198000,197000,196000,195000,194000,193000,192000,191000,190000,189000,188000,187000,186000,185000,184000,183000,182000,181000,180000,179000,178000,177000,176000,175000,174000,173000,172000,171000,170000,169000,168000,167000,166000,165000,164000,163000,162000,161000,160000,159000,158000,157000,156000,155000,154000,153000,152000,151000,150000,149000,148000,147000,146000,145000,144000,143000,142000,141000,140000,139000,138000,137000,136000,135000,134000,133000,132000,131000,130000,129000,128000,127000,126000,125000,124000,123000,122000,121000,120000,119000,118000,117000,116000,115000,114000,113000,112000,111000,110000,109000,108000,107000,106000,105000,104000,103000,102000,101000,100000,99000,98000,97000,96000,95000,94000,93000,92000,91000,90000,89000,88000,87000,86000,85000,84000,83000,82000,81000,80000,79000,78000,77000,76000,75000,74000,73000,72000,71000,70000,69000,68000,67000,66000,65000,64000,63000,62000,61000,60000,59000,58000,57000,56000,55000,54000,53000,52000,51000,50000,49000,48000,47000,46000,45000,44000,43000,42000,41000,40000,39000,38000,37000,36000,35000,34000,33000,32000,31000,30000,29000,28000,27000,26000,25000,24000,23000,22000,21000,20000,19000,18000,17000,16000,15000,14000,13000,12000,11000,10000,9000,8000,7000,6000,5000,4000,3000,2000,1000,0],\"y\":{\"__ndarray__\":\"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\",\"dtype\":\"float64\",\"shape\":[600]}}},\"id\":\"e38ef9b4-3b42-4d6e-820d-988adca7d955\",\"type\":\"ColumnDataSource\"},{\"attributes\":{\"label\":{\"value\":\"Stale 100k Xp\"},\"renderers\":[{\"id\":\"80498c37-7a30-4711-a86d-c26f1372f8ee\",\"type\":\"GlyphRenderer\"}]},\"id\":\"05db6db6-3cf8-4857-a90b-a2d13b593537\",\"type\":\"LegendItem\"},{\"attributes\":{\"line_color\":{\"value\":\"#377eb8\"},\"line_width\":{\"value\":2},\"x\":{\"field\":\"x\"},\"y\":{\"field\":\"y\"}},\"id\":\"f756d0f5-e422-4204-ab35-d0098bc08477\",\"type\":\"Line\"},{\"attributes\":{\"fill_alpha\":{\"value\":0.1},\"fill_color\":{\"value\":\"#e41a1c\"},\"line_alpha\":{\"value\":0.1},\"line_color\":{\"value\":\"#e41a1c\"},\"x\":{\"field\":\"x\"},\"y\":{\"field\":\"y\"}},\"id\":\"4439c654-c9bc-4a67-8293-c4ad8baf04eb\",\"type\":\"Patch\"},{\"attributes\":{\"fill_alpha\":{\"value\":0.1},\"fill_color\":{\"value\":\"#377eb8\"},\"line_alpha\":{\"value\":0.1},\"line_color\":{\"value\":\"#377eb8\"},\"x\":{\"field\":\"x\"},\"y\":{\"field\":\"y\"}},\"id\":\"0866957f-4f37-43fe-af89-b85256dd14b6\",\"type\":\"Patch\"},{\"attributes\":{\"line_color\":{\"value\":\"#e41a1c\"},\"line_width\":{\"value\":2},\"x\":{\"field\":\"x\"},\"y\":{\"field\":\"y\"}},\"id\":\"4a21e2fd-9f71-4dff-a772-66601da900db\",\"type\":\"Line\"},{\"attributes\":{\"fill_alpha\":{\"value\":0.1},\"fill_color\":{\"value\":\"#1f77b4\"},\"line_alpha\":{\"value\":0.1},\"line_color\":{\"value\":\"#1f77b4\"},\"x\":{\"field\":\"x\"},\"y\":{\"field\":\"y\"}},\"id\":\"7e26b51e-9833-43a3-a306-5c902f49a182\",\"type\":\"Patch\"},{\"attributes\":{},\"id\":\"59a7e76a-b9af-45fc-bce3-612be816d2c7\",\"type\":\"BasicTickFormatter\"},{\"attributes\":{\"data_source\":{\"id\":\"6f36feab-a653-455d-a7de-b4401f155842\",\"type\":\"ColumnDataSource\"},\"glyph\":{\"id\":\"4439c654-c9bc-4a67-8293-c4ad8baf04eb\",\"type\":\"Patch\"},\"hover_glyph\":null,\"nonselection_glyph\":{\"id\":\"7e26b51e-9833-43a3-a306-5c902f49a182\",\"type\":\"Patch\"},\"selection_glyph\":null},\"id\":\"acb09502-26e0-4699-bbac-9ecd75ea8540\",\"type\":\"GlyphRenderer\"},{\"attributes\":{\"callback\":null,\"column_names\":[\"x\",\"y\"],\"data\":{\"x\":[0,1000,2000,3000,4000,5000,6000,7000,8000,9000,10000,11000,12000,13000,14000,15000,16000,17000,18000,19000,20000,21000,22000,23000,24000,25000,26000,27000,28000,29000,30000,31000,32000,33000,34000,35000,36000,37000,38000,39000,40000,41000,42000,43000,44000,45000,46000,47000,48000,49000,50000,51000,52000,53000,54000,55000,56000,57000,58000,59000,60000,61000,62000,63000,64000,65000,66000,67000,68000,69000,70000,71000,72000,73000,74000,75000,76000,77000,78000,79000,80000,81000,82000,83000,84000,85000,86000,87000,88000,89000,90000,91000,92000,93000,94000,95000,96000,97000,98000,99000,100000,101000,102000,103000,104000,105000,106000,107000,108000,109000,110000,111000,112000,113000,114000,115000,116000,117000,118000,119000,120000,121000,122000,123000,124000,125000,126000,127000,128000,129000,130000,131000,132000,133000,134000,135000,136000,137000,138000,139000,140000,141000,142000,143000,144000,145000,146000,147000,148000,149000,150000,151000,152000,153000,154000,155000,156000,157000,158000,159000,160000,161000,162000,163000,164000,165000,166000,167000,168000,169000,170000,171000,172000,173000,174000,175000,176000,177000,178000,179000,180000,181000,182000,183000,184000,185000,186000,187000,188000,189000,190000,191000,192000,193000,194000,195000,196000,197000,198000,199000,200000,201000,202000,203000,204000,205000,206000,207000,208000,209000,210000,211000,212000,213000,214000,215000,216000,217000,218000,219000,220000,221000,222000,223000,224000,225000,226000,227000,228000,229000,230000,231000,232000,233000,234000,235000,236000,237000,238000,239000,240000,241000,242000,243000,244000,245000,246000,247000,248000,249000,250000,251000,252000,253000,254000,255000,256000,257000,258000,259000,260000,261000,262000,263000,264000,265000,266000,267000,268000,269000,270000,271000,272000,273000,274000,275000,276000,277000,278000,279000,280000,281000,282000,283000,284000,285000,286000,287000,288000,289000,290000,291000,292000,293000,294000,295000,296000,297000,298000,299000,300000],\"y\":{\"__ndarray__\":\"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\",\"dtype\":\"float64\",\"shape\":[300]}}},\"id\":\"77573754-7040-4936-a9e2-facab0c38130\",\"type\":\"ColumnDataSource\"},{\"attributes\":{\"fill_alpha\":{\"value\":0.1},\"fill_color\":{\"value\":\"#1f77b4\"},\"line_alpha\":{\"value\":0.1},\"line_color\":{\"value\":\"#1f77b4\"},\"x\":{\"field\":\"x\"},\"y\":{\"field\":\"y\"}},\"id\":\"863d7df4-a632-4ed1-9328-5414adddee15\",\"type\":\"Patch\"},{\"attributes\":{\"line_alpha\":{\"value\":0.1},\"line_color\":{\"value\":\"#1f77b4\"},\"line_width\":{\"value\":2},\"x\":{\"field\":\"x\"},\"y\":{\"field\":\"y\"}},\"id\":\"bfe2c0d8-ccd9-4bb6-9cce-423981d6cdfd\",\"type\":\"Line\"},{\"attributes\":{\"fill_alpha\":{\"value\":0.1},\"fill_color\":{\"value\":\"#4daf4a\"},\"line_alpha\":{\"value\":0.1},\"line_color\":{\"value\":\"#4daf4a\"},\"x\":{\"field\":\"x\"},\"y\":{\"field\":\"y\"}},\"id\":\"2dd045d5-b06e-4561-a07e-b1b8473f3b6a\",\"type\":\"Patch\"},{\"attributes\":{\"data_source\":{\"id\":\"77573754-7040-4936-a9e2-facab0c38130\",\"type\":\"ColumnDataSource\"},\"glyph\":{\"id\":\"4a21e2fd-9f71-4dff-a772-66601da900db\",\"type\":\"Line\"},\"hover_glyph\":null,\"nonselection_glyph\":{\"id\":\"bfe2c0d8-ccd9-4bb6-9cce-423981d6cdfd\",\"type\":\"Line\"},\"selection_glyph\":null},\"id\":\"58e9e43e-ffa2-4562-9892-1582848b71a7\",\"type\":\"GlyphRenderer\"},{\"attributes\":{\"line_color\":{\"value\":\"#4daf4a\"},\"line_width\":{\"value\":2},\"x\":{\"field\":\"x\"},\"y\":{\"field\":\"y\"}},\"id\":\"f74d172c-c68c-46cd-9a54-98430a0c68a2\",\"type\":\"Line\"},{\"attributes\":{\"data_source\":{\"id\":\"e5d01e6e-b386-4e4b-9d99-13f239db8edf\",\"type\":\"ColumnDataSource\"},\"glyph\":{\"id\":\"0866957f-4f37-43fe-af89-b85256dd14b6\",\"type\":\"Patch\"},\"hover_glyph\":null,\"nonselection_glyph\":{\"id\":\"3032b073-5ef5-45d7-b146-00c6a12221f6\",\"type\":\"Patch\"},\"selection_glyph\":null},\"id\":\"6fdbb67f-2123-40cb-beb7-5b4a08ab745b\",\"type\":\"GlyphRenderer\"},{\"attributes\":{\"data_source\":{\"id\":\"d48b4f89-9f7e-4b62-9bc1-901856609652\",\"type\":\"ColumnDataSource\"},\"glyph\":{\"id\":\"2dd045d5-b06e-4561-a07e-b1b8473f3b6a\",\"type\":\"Patch\"},\"hover_glyph\":null,\"nonselection_glyph\":{\"id\":\"863d7df4-a632-4ed1-9328-5414adddee15\",\"type\":\"Patch\"},\"selection_glyph\":null},\"id\":\"1f22eaf5-32ae-4b8d-aff3-7d7500343107\",\"type\":\"GlyphRenderer\"},{\"attributes\":{\"callback\":null,\"column_names\":[\"x\",\"y\"],\"data\":{\"x\":[0,1000,2000,3000,4000,5000,6000,7000,8000,9000,10000,11000,12000,13000,14000,15000,16000,17000,18000,19000,20000,21000,22000,23000,24000,25000,26000,27000,28000,29000,30000,31000,32000,33000,34000,35000,36000,37000,38000,39000,40000,41000,42000,43000,44000,45000,46000,47000,48000,49000,50000,51000,52000,53000,54000,55000,56000,57000,58000,59000,60000,61000,62000,63000,64000,65000,66000,67000,68000,69000,70000,71000,72000,73000,74000,75000,76000,77000,78000,79000,80000,81000,82000,83000,84000,85000,86000,87000,88000,89000,90000,91000,92000,93000,94000,95000,96000,97000,98000,99000,100000,101000,102000,103000,104000,105000,106000,107000,108000,109000,110000,111000,112000,113000,114000,115000,116000,117000,118000,119000,120000,121000,122000,123000,124000,125000,126000,127000,128000,129000,130000,131000,132000,133000,134000,135000,136000,137000,138000,139000,140000,141000,142000,143000,144000,145000,146000,147000,148000,149000,150000,151000,152000,153000,154000,155000,156000,157000,158000,159000,160000,161000,162000,163000,164000,165000,166000,167000,168000,169000,170000,171000,172000,173000,174000,175000,176000,177000,178000,179000,180000,181000,182000,183000,184000,185000,186000,187000,188000,189000,190000,191000,192000,193000,194000,195000,196000,197000,198000,199000,200000,201000,202000,203000,204000,205000,206000,207000,208000,209000,210000,211000,212000,213000,214000,215000,216000,217000,218000,219000,220000,221000,222000,223000,224000,225000,226000,227000,228000,229000,230000,231000,232000,233000,234000,235000,236000,237000,238000,239000,240000,241000,242000,243000,244000,245000,246000,247000,248000,249000,250000,251000,252000,253000,254000,255000,256000,257000,258000,259000,260000,261000,262000,263000,264000,265000,266000,267000,268000,269000,270000,271000,272000,273000,274000,275000,276000,277000,278000,279000,280000,281000,282000,283000,284000,285000,286000,287000,288000,289000,290000,291000,292000,293000,294000,295000,296000,297000,298000,299000,300000,300000,299000,298000,297000,296000,295000,294000,293000,292000,291000,290000,289000,288000,287000,286000,285000,284000,283000,282000,281000,280000,279000,278000,277000,276000,275000,274000,273000,272000,271000,270000,269000,268000,267000,266000,265000,264000,263000,262000,261000,260000,259000,258000,257000,256000,255000,254000,253000,252000,251000,250000,249000,248000,247000,246000,245000,244000,243000,242000,241000,240000,239000,238000,237000,236000,235000,234000,233000,232000,231000,230000,229000,228000,227000,226000,225000,224000,223000,222000,221000,220000,219000,218000,217000,216000,215000,214000,213000,212000,211000,210000,209000,208000,207000,206000,205000,204000,203000,202000,201000,200000,199000,198000,197000,196000,195000,194000,193000,192000,191000,190000,189000,188000,187000,186000,185000,184000,183000,182000,181000,180000,179000,178000,177000,176000,175000,174000,173000,172000,171000,170000,169000,168000,167000,166000,165000,164000,163000,162000,161000,160000,159000,158000,157000,156000,155000,154000,153000,152000,151000,150000,149000,148000,147000,146000,145000,144000,143000,142000,141000,140000,139000,138000,137000,136000,135000,134000,133000,132000,131000,130000,129000,128000,127000,126000,125000,124000,123000,122000,121000,120000,119000,118000,117000,116000,115000,114000,113000,112000,111000,110000,109000,108000,107000,106000,105000,104000,103000,102000,101000,100000,99000,98000,97000,96000,95000,94000,93000,92000,91000,90000,89000,88000,87000,86000,85000,84000,83000,82000,81000,80000,79000,78000,77000,76000,75000,74000,73000,72000,71000,70000,69000,68000,67000,66000,65000,64000,63000,62000,61000,60000,59000,58000,57000,56000,55000,54000,53000,52000,51000,50000,49000,48000,47000,46000,45000,44000,43000,42000,41000,40000,39000,38000,37000,36000,35000,34000,33000,32000,31000,30000,29000,28000,27000,26000,25000,24000,23000,22000,21000,20000,19000,18000,17000,16000,15000,14000,13000,12000,11000,10000,9000,8000,7000,6000,5000,4000,3000,2000,1000,0],\"y\":{\"__ndarray__\":\"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\",\"dtype\":\"float64\",\"shape\":[600]}}},\"id\":\"e5d01e6e-b386-4e4b-9d99-13f239db8edf\",\"type\":\"ColumnDataSource\"},{\"attributes\":{\"callback\":null,\"column_names\":[\"x\",\"y\"],\"data\":{\"x\":[0,1000,2000,3000,4000,5000,6000,7000,8000,9000,10000,11000,12000,13000,14000,15000,16000,17000,18000,19000,20000,21000,22000,23000,24000,25000,26000,27000,28000,29000,30000,31000,32000,33000,34000,35000,36000,37000,38000,39000,40000,41000,42000,43000,44000,45000,46000,47000,48000,49000,50000,51000,52000,53000,54000,55000,56000,57000,58000,59000,60000,61000,62000,63000,64000,65000,66000,67000,68000,69000,70000,71000,72000,73000,74000,75000,76000,77000,78000,79000,80000,81000,82000,83000,84000,85000,86000,87000,88000,89000,90000,91000,92000,93000,94000,95000,96000,97000,98000,99000,100000,101000,102000,103000,104000,105000,106000,107000,108000,109000,110000,111000,112000,113000,114000,115000,116000,117000,118000,119000,120000,121000,122000,123000,124000,125000,126000,127000,128000,129000,130000,131000,132000,133000,134000,135000,136000,137000,138000,139000,140000,141000,142000,143000,144000,145000,146000,147000,148000,149000,150000,151000,152000,153000,154000,155000,156000,157000,158000,159000,160000,161000,162000,163000,164000,165000,166000,167000,168000,169000,170000,171000,172000,173000,174000,175000,176000,177000,178000,179000,180000,181000,182000,183000,184000,185000,186000,187000,188000,189000,190000,191000,192000,193000,194000,195000,196000,197000,198000,199000,200000,201000,202000,203000,204000,205000,206000,207000,208000,209000,210000,211000,212000,213000,214000,215000,216000,217000,218000,219000,220000,221000,222000,223000,224000,225000,226000,227000,228000,229000,230000,231000,232000,233000,234000,235000,236000,237000,238000,239000,240000,241000,242000,243000,244000,245000,246000,247000,248000,249000,250000,251000,252000,253000,254000,255000,256000,257000,258000,259000,260000,261000,262000,263000,264000,265000,266000,267000,268000,269000,270000,271000,272000,273000,274000,275000,276000,277000,278000,279000,280000,281000,282000,283000,284000,285000,286000,287000,288000,289000,290000,291000,292000,293000,294000,295000,296000,297000,298000,299000,300000],\"y\":{\"__ndarray__\":\"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\",\"dtype\":\"float64\",\"shape\":[300]}}},\"id\":\"859f6f58-86b0-42d7-a35e-0053f453dece\",\"type\":\"ColumnDataSource\"},{\"attributes\":{\"label\":{\"value\":\"Stale 200k Xp\"},\"renderers\":[{\"id\":\"e11f5b0d-f599-421c-bc0b-dc5805889c2b\",\"type\":\"GlyphRenderer\"}]},\"id\":\"e967e96a-1627-4a90-adc9-bf75a7599134\",\"type\":\"LegendItem\"},{\"attributes\":{\"line_alpha\":{\"value\":0.1},\"line_color\":{\"value\":\"#1f77b4\"},\"line_width\":{\"value\":2},\"x\":{\"field\":\"x\"},\"y\":{\"field\":\"y\"}},\"id\":\"4bca70d0-51f1-4907-af9c-875e4890a3e2\",\"type\":\"Line\"},{\"attributes\":{\"data_source\":{\"id\":\"859f6f58-86b0-42d7-a35e-0053f453dece\",\"type\":\"ColumnDataSource\"},\"glyph\":{\"id\":\"f756d0f5-e422-4204-ab35-d0098bc08477\",\"type\":\"Line\"},\"hover_glyph\":null,\"nonselection_glyph\":{\"id\":\"4bca70d0-51f1-4907-af9c-875e4890a3e2\",\"type\":\"Line\"},\"selection_glyph\":null},\"id\":\"80498c37-7a30-4711-a86d-c26f1372f8ee\",\"type\":\"GlyphRenderer\"},{\"attributes\":{\"callback\":null,\"column_names\":[\"x\",\"y\"],\"data\":{\"x\":[0,1000,2000,3000,4000,5000,6000,7000,8000,9000,10000,11000,12000,13000,14000,15000,16000,17000,18000,19000,20000,21000,22000,23000,24000,25000,26000,27000,28000,29000,30000,31000,32000,33000,34000,35000,36000,37000,38000,39000,40000,41000,42000,43000,44000,45000,46000,47000,48000,49000,50000,51000,52000,53000,54000,55000,56000,57000,58000,59000,60000,61000,62000,63000,64000,65000,66000,67000,68000,69000,70000,71000,72000,73000,74000,75000,76000,77000,78000,79000,80000,81000,82000,83000,84000,85000,86000,87000,88000,89000,90000,91000,92000,93000,94000,95000,96000,97000,98000,99000,100000,101000,102000,103000,104000,105000,106000,107000,108000,109000,110000,111000,112000,113000,114000,115000,116000,117000,118000,119000,120000,121000,122000,123000,124000,125000,126000,127000,128000,129000,130000,131000,132000,133000,134000,135000,136000,137000,138000,139000,140000,141000,142000,143000,144000,145000,146000,147000,148000,149000,150000,151000,152000,153000,154000,155000,156000,157000,158000,159000,160000,161000,162000,163000,164000,165000,166000,167000,168000,169000,170000,171000,172000,173000,174000,175000,176000,177000,178000,179000,180000,181000,182000,183000,184000,185000,186000,187000,188000,189000,190000,191000,192000,193000,194000,195000,196000,197000,198000,199000,200000,201000,202000,203000,204000,205000,206000,207000,208000,209000,210000,211000,212000,213000,214000,215000,216000,217000,218000,219000,220000,221000,222000,223000,224000,225000,226000,227000,228000,229000,230000,231000,232000,233000,234000,235000,236000,237000,238000,239000,240000,241000,242000,243000,244000,245000,246000,247000,248000,249000,250000,251000,252000,253000,254000,255000,256000,257000,258000,259000,260000,261000,262000,263000,264000,265000,266000,267000,268000,269000,270000,271000,272000,273000,274000,275000,276000,277000,278000,279000,280000,281000,282000,283000,284000,285000,286000,287000,288000,289000,290000,291000,292000,293000,294000,295000,296000,297000,298000,299000,300000,300000,299000,298000,297000,296000,295000,294000,293000,292000,291000,290000,289000,288000,287000,286000,285000,284000,283000,282000,281000,280000,279000,278000,277000,276000,275000,274000,273000,272000,271000,270000,269000,268000,267000,266000,265000,264000,263000,262000,261000,260000,259000,258000,257000,256000,255000,254000,253000,252000,251000,250000,249000,248000,247000,246000,245000,244000,243000,242000,241000,240000,239000,238000,237000,236000,235000,234000,233000,232000,231000,230000,229000,228000,227000,226000,225000,224000,223000,222000,221000,220000,219000,218000,217000,216000,215000,214000,213000,212000,211000,210000,209000,208000,207000,206000,205000,204000,203000,202000,201000,200000,199000,198000,197000,196000,195000,194000,193000,192000,191000,190000,189000,188000,187000,186000,185000,184000,183000,182000,181000,180000,179000,178000,177000,176000,175000,174000,173000,172000,171000,170000,169000,168000,167000,166000,165000,164000,163000,162000,161000,160000,159000,158000,157000,156000,155000,154000,153000,152000,151000,150000,149000,148000,147000,146000,145000,144000,143000,142000,141000,140000,139000,138000,137000,136000,135000,134000,133000,132000,131000,130000,129000,128000,127000,126000,125000,124000,123000,122000,121000,120000,119000,118000,117000,116000,115000,114000,113000,112000,111000,110000,109000,108000,107000,106000,105000,104000,103000,102000,101000,100000,99000,98000,97000,96000,95000,94000,93000,92000,91000,90000,89000,88000,87000,86000,85000,84000,83000,82000,81000,80000,79000,78000,77000,76000,75000,74000,73000,72000,71000,70000,69000,68000,67000,66000,65000,64000,63000,62000,61000,60000,59000,58000,57000,56000,55000,54000,53000,52000,51000,50000,49000,48000,47000,46000,45000,44000,43000,42000,41000,40000,39000,38000,37000,36000,35000,34000,33000,32000,31000,30000,29000,28000,27000,26000,25000,24000,23000,22000,21000,20000,19000,18000,17000,16000,15000,14000,13000,12000,11000,10000,9000,8000,7000,6000,5000,4000,3000,2000,1000,0],\"y\":{\"__ndarray__\":\"AAAAAAAA8D8WdURNuV1TQLvfidYV1WFAcuEGn6l1YkBAEJ361D5iQA9yxCkt7WFAWGU+VsLObUCET67KBeNwQHw9e/8keXFAc5wqI436ckDlemFdMtVzQPR35ZAN+3RA/sJKWBdxeUCxyfUS9IN9QLHJ9RL0g31Ascn1EvSDfUCxyfUS9IN9QLHJ9RL0g31Ascn1EvSDfUCC3bDXivd9QHuZh8gjHIBAwcqmwiE+gEDByqbCIT6AQMHKpsIhPoBAZq8skag+gEBmryyRqD6AQGavLJGoPoBAZq8skag+gEBmryyRqD6AQGavLJGoPoBAZq8skag+gEB6mCg9gkuAQHqYKD2CS4BAepgoPYJLgEASTDwdPMmAQAj9bXkZ6YBACIVcfYRIgUDYgCLVyDqBQNiAItXIOoFA2IAi1cg6gUDYgCLVyDqBQNiAItXIOoFA2IAi1cg6gUDYgCLVyDqBQNiAItXIOoFA2IAi1cg6gUDYgCLVyDqBQNiAItXIOoFA2IAi1cg6gUDYgCLVyDqBQNiAItXIOoFA2IAi1cg6gUDYgCLVyDqBQNiAItXIOoFA2IAi1cg6gUDYgCLVyDqBQNiAItXIOoFA2IAi1cg6gUDSI5/Dum+BQPon4UHu0oFA+ifhQe7SgUD6J+FB7tKBQPon4UHu0oFA+ifhQe7SgUD6J+FB7tKBQPon4UHu0oFA+ifhQe7SgUD6J+FB7tKBQE7G8nzm44JAmlgwmajIg0DttkXJis6DQO22RcmKzoNAWKgv/ArUg0DeQ3aBVCCEQHPvBjMXGIZA6kegJfRMh0DqR6Al9EyHQOpHoCX0TIdA6kegJfRMh0DqR6Al9EyHQOpHoCX0TIdA6kegJfRMh0DqR6Al9EyHQOpHoCX0TIdA6kegJfRMh0DqR6Al9EyHQOpHoCX0TIdA6kegJfRMh0DqR6Al9EyHQOpHoCX0TIdA6kegJfRMh0DqR6Al9EyHQOpHoCX0TIdA6kegJfRMh0DqR6Al9EyHQOpHoCX0TIdA6kegJfRMh0DqR6Al9EyHQOpHoCX0TIdA6kegJfRMh0DqR6Al9EyHQOpHoCX0TIdA6kegJfRMh0DqR6Al9EyHQOpHoCX0TIdA6kegJfRMh0DqR6Al9EyHQOpHoCX0TIdA6kegJfRMh0DqR6Al9EyHQOpHoCX0TIdA6kegJfRMh0DqR6Al9EyHQOpHoCX0TIdA6kegJfRMh0DqR6Al9EyHQOpHoCX0TIdA6kegJfRMh0DqR6Al9EyHQOpHoCX0TIdA6kegJfRMh0DqR6Al9EyHQOpHoCX0TIdA6kegJfRMh0BBU8ppkEqHQFWax0Mk1oZAVZrHQyTWhkBVmsdDJNaGQAotTD3g8IZACi1MPeDwhkAKLUw94PCGQEjFp9o3B4dAhTqM0/olh0C0q37vEDaHQNvP5Y4hPYdAqlLtVkHjh0CECWEWdZ2IQL9Fn25jro5ASlym2p0dj0BKXKbanR2PQEpcptqdHY9ASlym2p0dj0BKXKbanR2PQEpcptqdHY9ASlym2p0dj0BKXKbanR2PQEpcptqdHY9ASlym2p0dj0BKXKbanR2PQEpcptqdHY9AQHMvIiQzj0BAcy8iJDOPQEBzLyIkM49AQHMvIiQzj0BAcy8iJDOPQEBzLyIkM49AQHMvIiQzj0BAcy8iJDOPQEBzLyIkM49AQHMvIiQzj0BAcy8iJDOPQEBzLyIkM49AQHMvIiQzj0BAcy8iJDOPQEBzLyIkM49AQHMvIiQzj0BAcy8iJDOPQEBzLyIkM49AQHMvIiQzj0BAcy8iJDOPQEBzLyIkM49AQHMvIiQzj0BAcy8iJDOPQEBzLyIkM49AQHMvIiQzj0BAcy8iJDOPQEBzLyIkM49AQHMvIiQzj0BAcy8iJDOPQEBzLyIkM49AQHMvIiQzj0BAcy8iJDOPQEBzLyIkM49AQHMvIiQzj0BAcy8iJDOPQEBzLyIkM49AQHMvIiQzj0BAcy8iJDOPQEBzLyIkM49AQHMvIiQzj0BAcy8iJDOPQEBzLyIkM49AQHMvIiQzj0BAcy8iJDOPQEBzLyIkM49AQHMvIiQzj0BAcy8iJDOPQEBzLyIkM49AQHMvIiQzj0BAcy8iJDOPQEBzLyIkM49AQHMvIiQzj0BAcy8iJDOPQEBzLyIkM49AQHMvIiQzj0BAcy8iJDOPQEBzLyIkM49AQHMvIiQzj0BAcy8iJDOPQEBzLyIkM49AQHMvIiQzj0BOfpkNrlGPQFM2A5PvUY9AUzYDk+9Rj0BTNgOT71GPQFM2A5PvUY9AUzYDk+9Rj0BTNgOT71GPQFM2A5PvUY9AUzYDk+9Rj0BTNgOT71GPQFM2A5PvUY9AUzYDk+9Rj0BTNgOT71GPQFM2A5PvUY9AUzYDk+9Rj0BTNgOT71GPQFM2A5PvUY9AUzYDk+9Rj0BTNgOT71GPQFM2A5PvUY9AUzYDk+9Rj0BTNgOT71GPQFM2A5PvUY9AUzYDk+9Rj0BTNgOT71GPQFM2A5PvUY9AUzYDk+9Rj0BTNgOT71GPQFM2A5PvUY9AUzYDk+9Rj0BTNgOT71GPQFM2A5PvUY9AUzYDk+9Rj0BTNgOT71GPQFM2A5PvUY9AUzYDk+9Rj0BTNgOT71GPQFM2A5PvUY9AUzYDk+9Rj0BTNgOT71GPQFM2A5PvUY9AUzYDk+9Rj0BTNgOT71GPQFM2A5PvUY9AUzYDk+9Rj0BTNgOT71GPQFM2A5PvUY9AUzYDk+9Rj0BTNgOT71GPQFM2A5PvUY9AUzYDk+9Rj0BTNgOT71GPQFM2A5PvUY9AUzYDk+9Rj0BTNgOT71GPQFM2A5PvUY9A2NarQilZj0Dajmerfk+PQDigzbEjSo9AzPlCmYZIj0DM+UKZhkiPQHFH12rGQY9A9xiQziM/j0D3GJDOIz+PQMLRHpgJNo9AwtEemAk2j0DC0R6YCTaPQMLRHpgJNo9AwtEemAk2j0DC0R6YCTaPQMLRHpgJNo9AwtEemAk2j0DC0R6YCTaPQMLRHpgJNo9AwtEemAk2j0DC0R6YCTaPQM94WbfcVo9Az3hZt9xWj0DPeFm33FaPQM94WbfcVo9Az3hZt9xWj0DPeFm33FaPQM94WbfcVo9Az3hZt9xWj0DPeFm33FaPQM94WbfcVo9Az3hZt9xWj0DPeFm33FaPQM94WbfcVo9AQu79Tjz3kEBC7v1OPPeQQELu/U4895BAQu79Tjz3kEBC7v1OPPeQQELu/U4895BAQu79Tjz3kEBC7v1OPPeQQELu/U4895BAQu79Tjz3kEBC7v1OPPeQQELu/U4895BAQu79Tjz3kEAfl/Az++yQQB+X8DP77JBAH5fwM/vskEAfl/Az++yQQB+X8DP77JBAH5fwM/vskEAfl/Az++yQQB+X8DP77JBAH5fwM/vskEAfl/Az++yQQB+X8DP77JBAH5fwM/vskEDaSA1uw82QQNpIDW7DzZBAnrHpH3LEkEAag16zvKuQQBqDXrO8q5BAjtrD0ZilkECTOEyqQJCQQJQUql5rI5BALLrTi10UkEAsutOLXRSQQCy604tdFJBALLrTi10UkEAsutOLXRSQQCy604tdFJBALLrTi10UkEAsutOLXRSQQCy604tdFJBALLrTi10UkEAsutOLXRSQQCy604tdFJBALLrTi10UkEAsutOLXRSQQCy604tdFJBALLrTi10UkEAsutOLXRSQQCy604tdFJBALLrTi10UkEAsutOLXRSQQCy604tdFJBALLrTi10UkEAsutOLXRSQQCy604tdFJBALLrTi10UkEAsutOLXRSQQCy604tdFJBALLrTi10UkEAsutOLXRSQQCy604tdFJBALLrTi10UkEAsutOLXRSQQCy604tdFJBALLrTi10UkEAsutOLXRSQQCy604tdFJBALLrTi10UkEAsutOLXRSQQCy604tdFJBALLrTi10UkEAsutOLXRSQQCy604tdFJBALLrTi10UkEAsutOLXRSQQCy604tdFJBALLrTi10UkEAsutOLXRSQQCy604tdFJBALLrTi10UkEAsutOLXRSQQCy604tdFJBALLrTi10UkEAsutOLXRSQQCy604tdFJBALLrTi10UkECE692j0xGQQGo3e4iG149Aajd7iIbXj0BqN3uIhtePQGo3e4iG149Aajd7iIbXj0BqN3uIhtePQGo3e4iG149Aajd7iIbXj0BqN3uIhtePQGo3e4iG149Aajd7iIbXj0BqN3uIhtePQGo3e4iG149Aajd7iIbXj0BqN3uIhtePQGo3e4iG149Aajd7iIbXj0BqN3uIhtePQGo3e4iG149Aajd7iIbXj0BqN3uIhtePQGo3e4iG149Aajd7iIbXj0BqN3uIhtePQGo3e4iG149Aajd7iIbXj0BqN3uIhtePQGo3e4iG149Aajd7iIbXj0BqN3uIhtePQGo3e4iG149Aajd7iIbXj0BqN3uIhtePQGo3e4iG149Aajd7iIbXj0BqN3uIhtePQGo3e4iG149Aajd7iIbXj0BqN3uIhtePQGo3e4iG149Aajd7iIbXj0BqN3uIhtePQGo3e4iG149Aajd7iIbXj0BqN3uIhtePQGo3e4iG149Aajd7iIbXj0BqN3uIhtePQGo3e4iG149Aajd7iIbXj0BqN3uIhtePQGo3e4iG149Aajd7iIbXj0BqN3uIhtePQGo3e4iG149Aajd7iIbXj0BqN3uIhtePQGo3e4iG149Aajd7iIbXj0BqN3uIhtePQGo3e4iG149AYE4E0AzNj0BgTgTQDM2PQGBOBNAMzY9AYE4E0AzNj0BgTgTQDM2PQGBOBNAMzY9AYE4E0AzNj0BgTgTQDM2PQGBOBNAMzY9AYE4E0AzNj0BgTgTQDM2PQGBOBNAMzY9AQbpgkZxBj0DSS/Q+4MePQKwCaP4Tco5Ae4VvxjP4jUD2/iu7mfSNQNEayYFa741AYuUC0HLjjUCgfV5tytmNQKB9Xm3K2Y1AoH1ebcrZjUABu40RMc+NQAG7jRExz41AAbuNETHPjUBpV+BAGtCKQMBiCoW2vYpAwGIKhba9ikDAYgqFtr2KQMBiCoW2vYpAwGIKhba9ikDAYgqFtr2KQMBiCoW2vYpAwGIKhba9ikDAYgqFtr2KQMBiCoW2vYpAwGIKhba9ikDAYgqFtr2KQMBiCoW2vYpAwGIKhba9ikDAYgqFtr2KQMBiCoW2vYpAwGIKhba9ikDAYgqFtr2KQMBiCoW2vYpAwGIKhba9ikDAYgqFtr2KQMBiCoW2vYpAwGIKhba9ikDAYgqFtr2KQMBiCoW2vYpAwGIKhba9ikDAYgqFtr2KQMBiCoW2vYpAwGIKhba9ikDAYgqFtr2KQMBiCoW2vYpAwGIKhba9ikDAYgqFtr2KQMBiCoW2vYpAwGIKhba9ikDAYgqFtr2KQMBiCoW2vYpAwGIKhba9ikDAYgqFtr2KQMBiCoW2vYpAwGIKhba9ikDAYgqFtr2KQMBiCoW2vYpAwGIKhba9ikDAYgqFtr2KQMBiCoW2vYpAwGIKhba9ikDAYgqFtr2KQMBiCoW2vYpAN7ujd5NiikAivIl+q2+KQFICe66fdopAE0m6NnVxikATSbo2dXGKQBBSehECcopACI9i2G4RikBcLXQTZyKKQFwtdBNnIopAXC10E2ciikBcLXQTZyKKQFwtdBNnIopAXC10E2ciikBcLXQTZyKKQFwtdBNnIopAXC10E2ciikDYhgvn7yqKQNIpiNXhL4pA0imI1eEvikDSKYjV4S+KQNIpiNXhL4pA0imI1eEvikDSKYjV4S+KQNIpiNXhL4pA0imI1eEvikDSKYjV4S+KQNIpiNXhL4pA0imI1eEvikDSKYjV4S+KQNIpiNXhL4pA0imI1eEvikDSKYjV4S+KQNIpiNXhL4pA0imI1eEvikDSKYjV4S+KQNIpiNXhL4pA0imI1eEvikDSKYjV4S+KQPh6o4J7p4lATljn2zusiUBECRk4GQyIQNy8LBjTKYZA3LwsGNMphkDcvCwY0ymGQET7fRkCLIZARPt9GQIshkBE+30ZAiyGQET7fRkCLIZARPt9GQIshkBE+30ZAiyGQET7fRkCLIZAlYqukjMnhkCViq6SMyeGQJWKrpIzJ4ZA27vNjDG5hUA/kSeUOkSFQCcbhfYFPoVAJxuF9gU+hUAnG4X2BT6FQCcbhfYFPoVAJxuF9gU+hUAnG4X2BT6FQIGe2lN094RAW5nijM5ng0COQk/RZkWDQHJcFRlkrYFAl7aX1cI4gEDSBaeKT/J/QP53i39JQ35AThxzwL6+d0Dgd7GClUB2QDjJowsB9W9Am3XLfj8AaUDKGrOueGZhQAAAAAAAAPA/\",\"dtype\":\"float64\",\"shape\":[600]}}},\"id\":\"d48b4f89-9f7e-4b62-9bc1-901856609652\",\"type\":\"ColumnDataSource\"},{\"attributes\":{\"fill_alpha\":{\"value\":0.1},\"fill_color\":{\"value\":\"#984ea3\"},\"line_alpha\":{\"value\":0.1},\"line_color\":{\"value\":\"#984ea3\"},\"x\":{\"field\":\"x\"},\"y\":{\"field\":\"y\"}},\"id\":\"71844382-8a00-47b8-b37e-450f08c49676\",\"type\":\"Patch\"},{\"attributes\":{\"callback\":null,\"column_names\":[\"x\",\"y\"],\"data\":{\"x\":[0,1000,2000,3000,4000,5000,6000,7000,8000,9000,10000,11000,12000,13000,14000,15000,16000,17000,18000,19000,20000,21000,22000,23000,24000,25000,26000,27000,28000,29000,30000,31000,32000,33000,34000,35000,36000,37000,38000,39000,40000,41000,42000,43000,44000,45000,46000,47000,48000,49000,50000,51000,52000,53000,54000,55000,56000,57000,58000,59000,60000,61000,62000,63000,64000,65000,66000,67000,68000,69000,70000,71000,72000,73000,74000,75000,76000,77000,78000,79000,80000,81000,82000,83000,84000,85000,86000,87000,88000,89000,90000,91000,92000,93000,94000,95000,96000,97000,98000,99000,100000,101000,102000,103000,104000,105000,106000,107000,108000,109000,110000,111000,112000,113000,114000,115000,116000,117000,118000,119000,120000,121000,122000,123000,124000,125000,126000,127000,128000,129000,130000,131000,132000,133000,134000,135000,136000,137000,138000,139000,140000,141000,142000,143000,144000,145000,146000,147000,148000,149000,150000,151000,152000,153000,154000,155000,156000,157000,158000,159000,160000,161000,162000,163000,164000,165000,166000,167000,168000,169000,170000,171000,172000,173000,174000,175000,176000,177000,178000,179000,180000,181000,182000,183000,184000,185000,186000,187000,188000,189000,190000,191000,192000,193000,194000,195000,196000,197000,198000,199000,200000,201000,202000,203000,204000,205000,206000,207000,208000,209000,210000,211000,212000,213000,214000,215000,216000,217000,218000,219000,220000,221000,222000,223000,224000,225000,226000,227000,228000,229000,230000,231000,232000,233000,234000,235000,236000,237000,238000,239000,240000,241000,242000,243000,244000,245000,246000,247000,248000,249000,250000,251000,252000,253000,254000,255000,256000,257000,258000,259000,260000,261000,262000,263000,264000,265000,266000,267000,268000,269000,270000,271000,272000,273000,274000,275000,276000,277000,278000,279000,280000,281000,282000,283000,284000,285000,286000,287000,288000,289000,290000,291000,292000,293000,294000,295000,296000,297000,298000,299000,300000],\"y\":{\"__ndarray__\":\"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\",\"dtype\":\"float64\",\"shape\":[300]}}},\"id\":\"551f8a4a-e01b-4404-a0c5-bd411385c57a\",\"type\":\"ColumnDataSource\"},{\"attributes\":{\"fill_alpha\":{\"value\":0.1},\"fill_color\":{\"value\":\"#1f77b4\"},\"line_alpha\":{\"value\":0.1},\"line_color\":{\"value\":\"#1f77b4\"},\"x\":{\"field\":\"x\"},\"y\":{\"field\":\"y\"}},\"id\":\"b790ae88-238f-4e88-9f04-c98b4b1fabb8\",\"type\":\"Patch\"},{\"attributes\":{\"callback\":null,\"column_names\":[\"x\",\"y\"],\"data\":{\"x\":[0,1000,2000,3000,4000,5000,6000,7000,8000,9000,10000,11000,12000,13000,14000,15000,16000,17000,18000,19000,20000,21000,22000,23000,24000,25000,26000,27000,28000,29000,30000,31000,32000,33000,34000,35000,36000,37000,38000,39000,40000,41000,42000,43000,44000,45000,46000,47000,48000,49000,50000,51000,52000,53000,54000,55000,56000,57000,58000,59000,60000,61000,62000,63000,64000,65000,66000,67000,68000,69000,70000,71000,72000,73000,74000,75000,76000,77000,78000,79000,80000,81000,82000,83000,84000,85000,86000,87000,88000,89000,90000,91000,92000,93000,94000,95000,96000,97000,98000,99000,100000,101000,102000,103000,104000,105000,106000,107000,108000,109000,110000,111000,112000,113000,114000,115000,116000,117000,118000,119000,120000,121000,122000,123000,124000,125000,126000,127000,128000,129000,130000,131000,132000,133000,134000,135000,136000,137000,138000,139000,140000,141000,142000,143000,144000,145000,146000,147000,148000,149000,150000,151000,152000,153000,154000,155000,156000,157000,158000,159000,160000,161000,162000,163000,164000,165000,166000,167000,168000,169000,170000,171000,172000,173000,174000,175000,176000,177000,178000,179000,180000,181000,182000,183000,184000,185000,186000,187000,188000,189000,190000,191000,192000,193000,194000,195000,196000,197000,198000,199000,200000,201000,202000,203000,204000,205000,206000,207000,208000,209000,210000,211000,212000,213000,214000,215000,216000,217000,218000,219000,220000,221000,222000,223000,224000,225000,226000,227000,228000,229000,230000,231000,232000,233000,234000,235000,236000,237000,238000,239000,240000,241000,242000,243000,244000,245000,246000,247000,248000,249000,250000,251000,252000,253000,254000,255000,256000,257000,258000,259000,260000,261000,262000,263000,264000,265000,266000,267000,268000,269000,270000,271000,272000,273000,274000,275000,276000,277000,278000,279000,280000,281000,282000,283000,284000,285000,286000,287000,288000,289000,290000,291000,292000,293000,294000,295000,296000,297000,298000,299000,300000,300000,299000,298000,297000,296000,295000,294000,293000,292000,291000,290000,289000,288000,287000,286000,285000,284000,283000,282000,281000,280000,279000,278000,277000,276000,275000,274000,273000,272000,271000,270000,269000,268000,267000,266000,265000,264000,263000,262000,261000,260000,259000,258000,257000,256000,255000,254000,253000,252000,251000,250000,249000,248000,247000,246000,245000,244000,243000,242000,241000,240000,239000,238000,237000,236000,235000,234000,233000,232000,231000,230000,229000,228000,227000,226000,225000,224000,223000,222000,221000,220000,219000,218000,217000,216000,215000,214000,213000,212000,211000,210000,209000,208000,207000,206000,205000,204000,203000,202000,201000,200000,199000,198000,197000,196000,195000,194000,193000,192000,191000,190000,189000,188000,187000,186000,185000,184000,183000,182000,181000,180000,179000,178000,177000,176000,175000,174000,173000,172000,171000,170000,169000,168000,167000,166000,165000,164000,163000,162000,161000,160000,159000,158000,157000,156000,155000,154000,153000,152000,151000,150000,149000,148000,147000,146000,145000,144000,143000,142000,141000,140000,139000,138000,137000,136000,135000,134000,133000,132000,131000,130000,129000,128000,127000,126000,125000,124000,123000,122000,121000,120000,119000,118000,117000,116000,115000,114000,113000,112000,111000,110000,109000,108000,107000,106000,105000,104000,103000,102000,101000,100000,99000,98000,97000,96000,95000,94000,93000,92000,91000,90000,89000,88000,87000,86000,85000,84000,83000,82000,81000,80000,79000,78000,77000,76000,75000,74000,73000,72000,71000,70000,69000,68000,67000,66000,65000,64000,63000,62000,61000,60000,59000,58000,57000,56000,55000,54000,53000,52000,51000,50000,49000,48000,47000,46000,45000,44000,43000,42000,41000,40000,39000,38000,37000,36000,35000,34000,33000,32000,31000,30000,29000,28000,27000,26000,25000,24000,23000,22000,21000,20000,19000,18000,17000,16000,15000,14000,13000,12000,11000,10000,9000,8000,7000,6000,5000,4000,3000,2000,1000,0],\"y\":{\"__ndarray__\":\"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\",\"dtype\":\"float64\",\"shape\":[600]}}},\"id\":\"6f36feab-a653-455d-a7de-b4401f155842\",\"type\":\"ColumnDataSource\"},{\"attributes\":{\"line_alpha\":{\"value\":0.1},\"line_color\":{\"value\":\"#1f77b4\"},\"line_width\":{\"value\":2},\"x\":{\"field\":\"x\"},\"y\":{\"field\":\"y\"}},\"id\":\"608f5da7-7420-4209-a9b5-0ec9b2955ec7\",\"type\":\"Line\"},{\"attributes\":{\"label\":{\"value\":\"Stale 300k Xp\"},\"renderers\":[{\"id\":\"a3cd5742-180c-4dcb-afc5-755531a08fa5\",\"type\":\"GlyphRenderer\"}]},\"id\":\"bfc8cce6-97b9-47f7-9990-ca116129e530\",\"type\":\"LegendItem\"},{\"attributes\":{\"data_source\":{\"id\":\"551f8a4a-e01b-4404-a0c5-bd411385c57a\",\"type\":\"ColumnDataSource\"},\"glyph\":{\"id\":\"f74d172c-c68c-46cd-9a54-98430a0c68a2\",\"type\":\"Line\"},\"hover_glyph\":null,\"nonselection_glyph\":{\"id\":\"608f5da7-7420-4209-a9b5-0ec9b2955ec7\",\"type\":\"Line\"},\"selection_glyph\":null},\"id\":\"e11f5b0d-f599-421c-bc0b-dc5805889c2b\",\"type\":\"GlyphRenderer\"},{\"attributes\":{\"data_source\":{\"id\":\"e38ef9b4-3b42-4d6e-820d-988adca7d955\",\"type\":\"ColumnDataSource\"},\"glyph\":{\"id\":\"71844382-8a00-47b8-b37e-450f08c49676\",\"type\":\"Patch\"},\"hover_glyph\":null,\"nonselection_glyph\":{\"id\":\"b790ae88-238f-4e88-9f04-c98b4b1fabb8\",\"type\":\"Patch\"},\"selection_glyph\":null},\"id\":\"14538d1a-8402-4f5b-a8b6-be16b4ea30ca\",\"type\":\"GlyphRenderer\"},{\"attributes\":{\"callback\":null,\"column_names\":[\"x\",\"y\"],\"data\":{\"x\":[0,1000,2000,3000,4000,5000,6000,7000,8000,9000,10000,11000,12000,13000,14000,15000,16000,17000,18000,19000,20000,21000,22000,23000,24000,25000,26000,27000,28000,29000,30000,31000,32000,33000,34000,35000,36000,37000,38000,39000,40000,41000,42000,43000,44000,45000,46000,47000,48000,49000,50000,51000,52000,53000,54000,55000,56000,57000,58000,59000,60000,61000,62000,63000,64000,65000,66000,67000,68000,69000,70000,71000,72000,73000,74000,75000,76000,77000,78000,79000,80000,81000,82000,83000,84000,85000,86000,87000,88000,89000,90000,91000,92000,93000,94000,95000,96000,97000,98000,99000,100000,101000,102000,103000,104000,105000,106000,107000,108000,109000,110000,111000,112000,113000,114000,115000,116000,117000,118000,119000,120000,121000,122000,123000,124000,125000,126000,127000,128000,129000,130000,131000,132000,133000,134000,135000,136000,137000,138000,139000,140000,141000,142000,143000,144000,145000,146000,147000,148000,149000,150000,151000,152000,153000,154000,155000,156000,157000,158000,159000,160000,161000,162000,163000,164000,165000,166000,167000,168000,169000,170000,171000,172000,173000,174000,175000,176000,177000,178000,179000,180000,181000,182000,183000,184000,185000,186000,187000,188000,189000,190000,191000,192000,193000,194000,195000,196000,197000,198000,199000,200000,201000,202000,203000,204000,205000,206000,207000,208000,209000,210000,211000,212000,213000,214000,215000,216000,217000,218000,219000,220000,221000,222000,223000,224000,225000,226000,227000,228000,229000,230000,231000,232000,233000,234000,235000,236000,237000,238000,239000,240000,241000,242000,243000,244000,245000,246000,247000,248000,249000,250000,251000,252000,253000,254000,255000,256000,257000,258000,259000,260000,261000,262000,263000,264000,265000,266000,267000,268000,269000,270000,271000,272000,273000,274000,275000,276000,277000,278000,279000,280000,281000,282000,283000,284000,285000,286000,287000,288000,289000,290000,291000,292000,293000,294000,295000,296000,297000,298000,299000,300000],\"y\":{\"__ndarray__\":\"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\",\"dtype\":\"float64\",\"shape\":[300]}}},\"id\":\"af9b2ede-0f69-4943-a4a1-a156d6d35e22\",\"type\":\"ColumnDataSource\"},{\"attributes\":{\"below\":[{\"id\":\"495bfa48-c23b-46ef-9914-c5c2a3115f41\",\"type\":\"LinearAxis\"}],\"left\":[{\"id\":\"f0c45630-2d03-4167-8789-df3853cf5e77\",\"type\":\"LinearAxis\"}],\"plot_height\":800,\"plot_width\":1200,\"renderers\":[{\"id\":\"495bfa48-c23b-46ef-9914-c5c2a3115f41\",\"type\":\"LinearAxis\"},{\"id\":\"468b926a-66b9-4bc3-82cd-8e7410b93f8d\",\"type\":\"Grid\"},{\"id\":\"f0c45630-2d03-4167-8789-df3853cf5e77\",\"type\":\"LinearAxis\"},{\"id\":\"21d71db6-c62a-418b-a1b9-03294c7af15c\",\"type\":\"Grid\"},{\"id\":\"ae995851-8d10-4773-9c61-45975e5a7ecf\",\"type\":\"BoxAnnotation\"},{\"id\":\"acb09502-26e0-4699-bbac-9ecd75ea8540\",\"type\":\"GlyphRenderer\"},{\"id\":\"58e9e43e-ffa2-4562-9892-1582848b71a7\",\"type\":\"GlyphRenderer\"},{\"id\":\"6fdbb67f-2123-40cb-beb7-5b4a08ab745b\",\"type\":\"GlyphRenderer\"},{\"id\":\"80498c37-7a30-4711-a86d-c26f1372f8ee\",\"type\":\"GlyphRenderer\"},{\"id\":\"1f22eaf5-32ae-4b8d-aff3-7d7500343107\",\"type\":\"GlyphRenderer\"},{\"id\":\"e11f5b0d-f599-421c-bc0b-dc5805889c2b\",\"type\":\"GlyphRenderer\"},{\"id\":\"14538d1a-8402-4f5b-a8b6-be16b4ea30ca\",\"type\":\"GlyphRenderer\"},{\"id\":\"a3cd5742-180c-4dcb-afc5-755531a08fa5\",\"type\":\"GlyphRenderer\"},{\"id\":\"d43ea113-40d6-4d2b-a188-ad3fc280a3a2\",\"type\":\"Legend\"}],\"right\":[{\"id\":\"d43ea113-40d6-4d2b-a188-ad3fc280a3a2\",\"type\":\"Legend\"}],\"title\":{\"id\":\"c4001dad-c99d-45e3-b0b0-a82d4d4e0df6\",\"type\":\"Title\"},\"tool_events\":{\"id\":\"a7dac3a2-0530-4858-ad70-e9ecd3578a06\",\"type\":\"ToolEvents\"},\"toolbar\":{\"id\":\"88623db8-951d-4f09-b9fb-bf67ae1107b7\",\"type\":\"Toolbar\"},\"toolbar_location\":\"above\",\"x_range\":{\"id\":\"0728a128-da11-459e-9836-b02ccf33c6f7\",\"type\":\"DataRange1d\"},\"y_range\":{\"id\":\"3610df52-57d4-4d92-b156-2cb23ad2c369\",\"type\":\"DataRange1d\"}},\"id\":\"811d8f6b-deb1-4645-ab9b-e1afdcf02397\",\"subtype\":\"Figure\",\"type\":\"Plot\"},{\"attributes\":{\"plot\":null,\"text\":\"Med Maze 10\"},\"id\":\"c4001dad-c99d-45e3-b0b0-a82d4d4e0df6\",\"type\":\"Title\"},{\"attributes\":{\"line_alpha\":{\"value\":0.1},\"line_color\":{\"value\":\"#1f77b4\"},\"line_width\":{\"value\":2},\"x\":{\"field\":\"x\"},\"y\":{\"field\":\"y\"}},\"id\":\"50aaf00b-416e-4944-9a80-14d3b014d43c\",\"type\":\"Line\"},{\"attributes\":{\"callback\":null},\"id\":\"0728a128-da11-459e-9836-b02ccf33c6f7\",\"type\":\"DataRange1d\"},{\"attributes\":{},\"id\":\"a7dac3a2-0530-4858-ad70-e9ecd3578a06\",\"type\":\"ToolEvents\"},{\"attributes\":{\"data_source\":{\"id\":\"af9b2ede-0f69-4943-a4a1-a156d6d35e22\",\"type\":\"ColumnDataSource\"},\"glyph\":{\"id\":\"33f6e74b-cde3-4c96-9315-12d632230aa1\",\"type\":\"Line\"},\"hover_glyph\":null,\"nonselection_glyph\":{\"id\":\"50aaf00b-416e-4944-9a80-14d3b014d43c\",\"type\":\"Line\"},\"selection_glyph\":null},\"id\":\"a3cd5742-180c-4dcb-afc5-755531a08fa5\",\"type\":\"GlyphRenderer\"},{\"attributes\":{\"active_drag\":\"auto\",\"active_scroll\":\"auto\",\"active_tap\":\"auto\",\"tools\":[{\"id\":\"8684246b-b91f-407b-8508-f309d12c1e3f\",\"type\":\"PanTool\"},{\"id\":\"0c989ce9-1b77-499f-aff9-8a0ada9a1cf0\",\"type\":\"WheelZoomTool\"},{\"id\":\"3a511212-ceeb-4c29-a43f-61e242f63216\",\"type\":\"BoxZoomTool\"},{\"id\":\"8892b68f-a2fe-4078-80e6-71ee2f290468\",\"type\":\"SaveTool\"},{\"id\":\"70e9f533-80ed-4b95-a555-df1b5fa531ca\",\"type\":\"ResetTool\"},{\"id\":\"f8bdbc5f-79d3-4b27-a420-19ead9ce208e\",\"type\":\"HelpTool\"}]},\"id\":\"88623db8-951d-4f09-b9fb-bf67ae1107b7\",\"type\":\"Toolbar\"},{\"attributes\":{\"label\":{\"value\":\"Stale 30k Xp\"},\"renderers\":[{\"id\":\"58e9e43e-ffa2-4562-9892-1582848b71a7\",\"type\":\"GlyphRenderer\"}]},\"id\":\"9c0b3f89-b941-44f6-991f-63a096710670\",\"type\":\"LegendItem\"},{\"attributes\":{\"axis_label\":\"T\",\"formatter\":{\"id\":\"1c430f9e-0886-4c7e-a3e4-f6a32f4df3de\",\"type\":\"BasicTickFormatter\"},\"plot\":{\"id\":\"811d8f6b-deb1-4645-ab9b-e1afdcf02397\",\"subtype\":\"Figure\",\"type\":\"Plot\"},\"ticker\":{\"id\":\"89f0dbd4-d815-4c29-89bb-2e433c5b694b\",\"type\":\"BasicTicker\"}},\"id\":\"495bfa48-c23b-46ef-9914-c5c2a3115f41\",\"type\":\"LinearAxis\"},{\"attributes\":{\"callback\":null},\"id\":\"3610df52-57d4-4d92-b156-2cb23ad2c369\",\"type\":\"DataRange1d\"},{\"attributes\":{},\"id\":\"89f0dbd4-d815-4c29-89bb-2e433c5b694b\",\"type\":\"BasicTicker\"},{\"attributes\":{\"plot\":{\"id\":\"811d8f6b-deb1-4645-ab9b-e1afdcf02397\",\"subtype\":\"Figure\",\"type\":\"Plot\"},\"ticker\":{\"id\":\"89f0dbd4-d815-4c29-89bb-2e433c5b694b\",\"type\":\"BasicTicker\"}},\"id\":\"468b926a-66b9-4bc3-82cd-8e7410b93f8d\",\"type\":\"Grid\"},{\"attributes\":{\"axis_label\":\"States visited\",\"formatter\":{\"id\":\"59a7e76a-b9af-45fc-bce3-612be816d2c7\",\"type\":\"BasicTickFormatter\"},\"plot\":{\"id\":\"811d8f6b-deb1-4645-ab9b-e1afdcf02397\",\"subtype\":\"Figure\",\"type\":\"Plot\"},\"ticker\":{\"id\":\"42c34f3a-f0f6-4852-af47-7cf9e2e7bfcf\",\"type\":\"BasicTicker\"}},\"id\":\"f0c45630-2d03-4167-8789-df3853cf5e77\",\"type\":\"LinearAxis\"},{\"attributes\":{},\"id\":\"42c34f3a-f0f6-4852-af47-7cf9e2e7bfcf\",\"type\":\"BasicTicker\"},{\"attributes\":{\"dimension\":1,\"plot\":{\"id\":\"811d8f6b-deb1-4645-ab9b-e1afdcf02397\",\"subtype\":\"Figure\",\"type\":\"Plot\"},\"ticker\":{\"id\":\"42c34f3a-f0f6-4852-af47-7cf9e2e7bfcf\",\"type\":\"BasicTicker\"}},\"id\":\"21d71db6-c62a-418b-a1b9-03294c7af15c\",\"type\":\"Grid\"},{\"attributes\":{\"use_scientific\":false},\"id\":\"1c430f9e-0886-4c7e-a3e4-f6a32f4df3de\",\"type\":\"BasicTickFormatter\"},{\"attributes\":{\"plot\":{\"id\":\"811d8f6b-deb1-4645-ab9b-e1afdcf02397\",\"subtype\":\"Figure\",\"type\":\"Plot\"}},\"id\":\"8684246b-b91f-407b-8508-f309d12c1e3f\",\"type\":\"PanTool\"},{\"attributes\":{\"plot\":{\"id\":\"811d8f6b-deb1-4645-ab9b-e1afdcf02397\",\"subtype\":\"Figure\",\"type\":\"Plot\"}},\"id\":\"8892b68f-a2fe-4078-80e6-71ee2f290468\",\"type\":\"SaveTool\"},{\"attributes\":{\"plot\":{\"id\":\"811d8f6b-deb1-4645-ab9b-e1afdcf02397\",\"subtype\":\"Figure\",\"type\":\"Plot\"}},\"id\":\"0c989ce9-1b77-499f-aff9-8a0ada9a1cf0\",\"type\":\"WheelZoomTool\"},{\"attributes\":{\"overlay\":{\"id\":\"ae995851-8d10-4773-9c61-45975e5a7ecf\",\"type\":\"BoxAnnotation\"},\"plot\":{\"id\":\"811d8f6b-deb1-4645-ab9b-e1afdcf02397\",\"subtype\":\"Figure\",\"type\":\"Plot\"}},\"id\":\"3a511212-ceeb-4c29-a43f-61e242f63216\",\"type\":\"BoxZoomTool\"}],\"root_ids\":[\"811d8f6b-deb1-4645-ab9b-e1afdcf02397\"]},\"title\":\"Bokeh Application\",\"version\":\"0.12.4\"}};\n",
       "            var render_items = [{\"docid\":\"c234bccc-f067-4fd7-b58e-ccc5a94da60c\",\"elementid\":\"7208b82d-259a-4275-8d91-c1f0b8f4fd57\",\"modelid\":\"811d8f6b-deb1-4645-ab9b-e1afdcf02397\"}];\n",
       "            \n",
       "            Bokeh.embed.embed_items(docs_json, render_items);\n",
       "          };\n",
       "          if (document.readyState != \"loading\") fn();\n",
       "          else document.addEventListener(\"DOMContentLoaded\", fn);\n",
       "        })();\n",
       "      },\n",
       "      function(Bokeh) {\n",
       "      }\n",
       "    ];\n",
       "  \n",
       "    function run_inline_js() {\n",
       "      \n",
       "      if ((window.Bokeh !== undefined) || (force === true)) {\n",
       "        for (var i = 0; i < inline_js.length; i++) {\n",
       "          inline_js[i](window.Bokeh);\n",
       "        }if (force === true) {\n",
       "          display_loaded();\n",
       "        }} else if (Date.now() < window._bokeh_timeout) {\n",
       "        setTimeout(run_inline_js, 100);\n",
       "      } else if (!window._bokeh_failed_load) {\n",
       "        console.log(\"Bokeh: BokehJS failed to load within specified timeout.\");\n",
       "        window._bokeh_failed_load = true;\n",
       "      } else if (force !== true) {\n",
       "        var cell = $(document.getElementById(\"7208b82d-259a-4275-8d91-c1f0b8f4fd57\")).parents('.cell').data().cell;\n",
       "        cell.output_area.append_execute_result(NB_LOAD_WARNING)\n",
       "      }\n",
       "  \n",
       "    }\n",
       "  \n",
       "    if (window._bokeh_is_loading === 0) {\n",
       "      console.log(\"Bokeh: BokehJS loaded, going straight to plotting\");\n",
       "      run_inline_js();\n",
       "    } else {\n",
       "      load_libs(js_urls, function() {\n",
       "        console.log(\"Bokeh: BokehJS plotting callback run at\", now());\n",
       "        run_inline_js();\n",
       "      });\n",
       "    }\n",
       "  }(this));\n",
       "</script>"
      ]
     },
     "metadata": {},
     "output_type": "display_data"
    }
   ],
   "source": [
    "plot_states(names, t_maxs, Set1[len(names)], legends, directories, step=1000, title=\"Med Maze 10\")"
   ]
  },
  {
   "cell_type": "code",
   "execution_count": null,
   "metadata": {
    "collapsed": true,
    "deletable": true,
    "editable": true
   },
   "outputs": [],
   "source": []
  },
  {
   "cell_type": "code",
   "execution_count": null,
   "metadata": {
    "collapsed": true,
    "deletable": true,
    "editable": true
   },
   "outputs": [],
   "source": []
  },
  {
   "cell_type": "code",
   "execution_count": null,
   "metadata": {
    "collapsed": true,
    "deletable": true,
    "editable": true
   },
   "outputs": [],
   "source": [
    "DQN_Smoothed = []\n",
    "for times, rewards in zip(DQN_Lengths_C, DQN_Rewards):\n",
    "    linear = interp1d(times, rewards, kind=\"linear\")\n",
    "    linear_rewards = linear([i for i in range(500000)])\n",
    "    DQN_Smoothed.append(linear_rewards)"
   ]
  },
  {
   "cell_type": "code",
   "execution_count": null,
   "metadata": {
    "collapsed": true,
    "deletable": true,
    "editable": true
   },
   "outputs": [],
   "source": [
    "DQN_Means = np.mean(DQN_Smoothed, axis=0)"
   ]
  },
  {
   "cell_type": "code",
   "execution_count": null,
   "metadata": {
    "collapsed": true,
    "deletable": true,
    "editable": true
   },
   "outputs": [],
   "source": [
    "DQN_Stds = np.std(DQN_Smoothed, axis=0)"
   ]
  },
  {
   "cell_type": "code",
   "execution_count": null,
   "metadata": {
    "collapsed": false,
    "deletable": true,
    "editable": true
   },
   "outputs": [],
   "source": [
    "plt.fill_between([i for i in range(500000)], DQN_Means - DQN_Stds, DQN_Means + DQN_Stds, color=\"red\", alpha=0.3, edgecolor=\"white\")\n",
    "\n",
    "plt.plot([i for i in range(500000)], DQN_Means, color=\"red\")"
   ]
  },
  {
   "cell_type": "code",
   "execution_count": null,
   "metadata": {
    "collapsed": false,
    "deletable": true,
    "editable": true
   },
   "outputs": [],
   "source": [
    "len(DQN_Repeat)"
   ]
  },
  {
   "cell_type": "code",
   "execution_count": null,
   "metadata": {
    "collapsed": true,
    "deletable": true,
    "editable": true
   },
   "outputs": [],
   "source": [
    "plt.plot(DQN)"
   ]
  },
  {
   "cell_type": "code",
   "execution_count": null,
   "metadata": {
    "collapsed": true,
    "deletable": true,
    "editable": true
   },
   "outputs": [],
   "source": [
    "directories = [\"Logs/\"]"
   ]
  },
  {
   "cell_type": "code",
   "execution_count": null,
   "metadata": {
    "collapsed": false,
    "deletable": true,
    "editable": true
   },
   "outputs": [],
   "source": [
    "for i in range(0, 10, 2):\n",
    "    print(i)"
   ]
  },
  {
   "cell_type": "code",
   "execution_count": null,
   "metadata": {
    "collapsed": true,
    "deletable": true,
    "editable": true
   },
   "outputs": [],
   "source": []
  }
 ],
 "metadata": {
  "kernelspec": {
   "display_name": "Python 3",
   "language": "python",
   "name": "python3"
  },
  "language_info": {
   "codemirror_mode": {
    "name": "ipython",
    "version": 3
   },
   "file_extension": ".py",
   "mimetype": "text/x-python",
   "name": "python",
   "nbconvert_exporter": "python",
   "pygments_lexer": "ipython3",
   "version": "3.6.0"
  }
 },
 "nbformat": 4,
 "nbformat_minor": 2
}
