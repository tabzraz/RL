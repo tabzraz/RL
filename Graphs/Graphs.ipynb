{
 "cells": [
  {
   "cell_type": "code",
   "execution_count": 1,
   "metadata": {
    "collapsed": false,
    "deletable": true,
    "editable": true
   },
   "outputs": [
    {
     "data": {
      "text/html": [
       "\n",
       "    <div class=\"bk-root\">\n",
       "        <a href=\"http://bokeh.pydata.org\" target=\"_blank\" class=\"bk-logo bk-logo-small bk-logo-notebook\"></a>\n",
       "        <span id=\"7ceb6ac5-92c6-444c-b61d-7eb9a2af8f65\">Loading BokehJS ...</span>\n",
       "    </div>"
      ]
     },
     "metadata": {},
     "output_type": "display_data"
    },
    {
     "data": {
      "application/javascript": [
       "\n",
       "(function(global) {\n",
       "  function now() {\n",
       "    return new Date();\n",
       "  }\n",
       "\n",
       "  var force = true;\n",
       "\n",
       "  if (typeof (window._bokeh_onload_callbacks) === \"undefined\" || force === true) {\n",
       "    window._bokeh_onload_callbacks = [];\n",
       "    window._bokeh_is_loading = undefined;\n",
       "  }\n",
       "\n",
       "\n",
       "  \n",
       "  if (typeof (window._bokeh_timeout) === \"undefined\" || force === true) {\n",
       "    window._bokeh_timeout = Date.now() + 5000;\n",
       "    window._bokeh_failed_load = false;\n",
       "  }\n",
       "\n",
       "  var NB_LOAD_WARNING = {'data': {'text/html':\n",
       "     \"<div style='background-color: #fdd'>\\n\"+\n",
       "     \"<p>\\n\"+\n",
       "     \"BokehJS does not appear to have successfully loaded. If loading BokehJS from CDN, this \\n\"+\n",
       "     \"may be due to a slow or bad network connection. Possible fixes:\\n\"+\n",
       "     \"</p>\\n\"+\n",
       "     \"<ul>\\n\"+\n",
       "     \"<li>re-rerun `output_notebook()` to attempt to load from CDN again, or</li>\\n\"+\n",
       "     \"<li>use INLINE resources instead, as so:</li>\\n\"+\n",
       "     \"</ul>\\n\"+\n",
       "     \"<code>\\n\"+\n",
       "     \"from bokeh.resources import INLINE\\n\"+\n",
       "     \"output_notebook(resources=INLINE)\\n\"+\n",
       "     \"</code>\\n\"+\n",
       "     \"</div>\"}};\n",
       "\n",
       "  function display_loaded() {\n",
       "    if (window.Bokeh !== undefined) {\n",
       "      document.getElementById(\"7ceb6ac5-92c6-444c-b61d-7eb9a2af8f65\").textContent = \"BokehJS successfully loaded.\";\n",
       "    } else if (Date.now() < window._bokeh_timeout) {\n",
       "      setTimeout(display_loaded, 100)\n",
       "    }\n",
       "  }\n",
       "\n",
       "  function run_callbacks() {\n",
       "    window._bokeh_onload_callbacks.forEach(function(callback) { callback() });\n",
       "    delete window._bokeh_onload_callbacks\n",
       "    console.info(\"Bokeh: all callbacks have finished\");\n",
       "  }\n",
       "\n",
       "  function load_libs(js_urls, callback) {\n",
       "    window._bokeh_onload_callbacks.push(callback);\n",
       "    if (window._bokeh_is_loading > 0) {\n",
       "      console.log(\"Bokeh: BokehJS is being loaded, scheduling callback at\", now());\n",
       "      return null;\n",
       "    }\n",
       "    if (js_urls == null || js_urls.length === 0) {\n",
       "      run_callbacks();\n",
       "      return null;\n",
       "    }\n",
       "    console.log(\"Bokeh: BokehJS not loaded, scheduling load and callback at\", now());\n",
       "    window._bokeh_is_loading = js_urls.length;\n",
       "    for (var i = 0; i < js_urls.length; i++) {\n",
       "      var url = js_urls[i];\n",
       "      var s = document.createElement('script');\n",
       "      s.src = url;\n",
       "      s.async = false;\n",
       "      s.onreadystatechange = s.onload = function() {\n",
       "        window._bokeh_is_loading--;\n",
       "        if (window._bokeh_is_loading === 0) {\n",
       "          console.log(\"Bokeh: all BokehJS libraries loaded\");\n",
       "          run_callbacks()\n",
       "        }\n",
       "      };\n",
       "      s.onerror = function() {\n",
       "        console.warn(\"failed to load library \" + url);\n",
       "      };\n",
       "      console.log(\"Bokeh: injecting script tag for BokehJS library: \", url);\n",
       "      document.getElementsByTagName(\"head\")[0].appendChild(s);\n",
       "    }\n",
       "  };var element = document.getElementById(\"7ceb6ac5-92c6-444c-b61d-7eb9a2af8f65\");\n",
       "  if (element == null) {\n",
       "    console.log(\"Bokeh: ERROR: autoload.js configured with elementid '7ceb6ac5-92c6-444c-b61d-7eb9a2af8f65' but no matching script tag was found. \")\n",
       "    return false;\n",
       "  }\n",
       "\n",
       "  var js_urls = [\"https://cdn.pydata.org/bokeh/release/bokeh-0.12.4.min.js\", \"https://cdn.pydata.org/bokeh/release/bokeh-widgets-0.12.4.min.js\"];\n",
       "\n",
       "  var inline_js = [\n",
       "    function(Bokeh) {\n",
       "      Bokeh.set_log_level(\"info\");\n",
       "    },\n",
       "    \n",
       "    function(Bokeh) {\n",
       "      \n",
       "      document.getElementById(\"7ceb6ac5-92c6-444c-b61d-7eb9a2af8f65\").textContent = \"BokehJS is loading...\";\n",
       "    },\n",
       "    function(Bokeh) {\n",
       "      console.log(\"Bokeh: injecting CSS: https://cdn.pydata.org/bokeh/release/bokeh-0.12.4.min.css\");\n",
       "      Bokeh.embed.inject_css(\"https://cdn.pydata.org/bokeh/release/bokeh-0.12.4.min.css\");\n",
       "      console.log(\"Bokeh: injecting CSS: https://cdn.pydata.org/bokeh/release/bokeh-widgets-0.12.4.min.css\");\n",
       "      Bokeh.embed.inject_css(\"https://cdn.pydata.org/bokeh/release/bokeh-widgets-0.12.4.min.css\");\n",
       "    }\n",
       "  ];\n",
       "\n",
       "  function run_inline_js() {\n",
       "    \n",
       "    if ((window.Bokeh !== undefined) || (force === true)) {\n",
       "      for (var i = 0; i < inline_js.length; i++) {\n",
       "        inline_js[i](window.Bokeh);\n",
       "      }if (force === true) {\n",
       "        display_loaded();\n",
       "      }} else if (Date.now() < window._bokeh_timeout) {\n",
       "      setTimeout(run_inline_js, 100);\n",
       "    } else if (!window._bokeh_failed_load) {\n",
       "      console.log(\"Bokeh: BokehJS failed to load within specified timeout.\");\n",
       "      window._bokeh_failed_load = true;\n",
       "    } else if (force !== true) {\n",
       "      var cell = $(document.getElementById(\"7ceb6ac5-92c6-444c-b61d-7eb9a2af8f65\")).parents('.cell').data().cell;\n",
       "      cell.output_area.append_execute_result(NB_LOAD_WARNING)\n",
       "    }\n",
       "\n",
       "  }\n",
       "\n",
       "  if (window._bokeh_is_loading === 0) {\n",
       "    console.log(\"Bokeh: BokehJS loaded, going straight to plotting\");\n",
       "    run_inline_js();\n",
       "  } else {\n",
       "    load_libs(js_urls, function() {\n",
       "      console.log(\"Bokeh: BokehJS plotting callback run at\", now());\n",
       "      run_inline_js();\n",
       "    });\n",
       "  }\n",
       "}(this));"
      ]
     },
     "metadata": {},
     "output_type": "display_data"
    }
   ],
   "source": [
    "from bokeh.plotting import figure, output_notebook, show\n",
    "output_notebook()"
   ]
  },
  {
   "cell_type": "code",
   "execution_count": 2,
   "metadata": {
    "collapsed": true,
    "deletable": true,
    "editable": true
   },
   "outputs": [],
   "source": [
    "import glob"
   ]
  },
  {
   "cell_type": "code",
   "execution_count": 3,
   "metadata": {
    "collapsed": true,
    "deletable": true,
    "editable": true
   },
   "outputs": [],
   "source": [
    "import numpy as np"
   ]
  },
  {
   "cell_type": "code",
   "execution_count": 4,
   "metadata": {
    "collapsed": true,
    "deletable": true,
    "editable": true
   },
   "outputs": [],
   "source": [
    "from scipy.interpolate import interp1d\n",
    "from scipy.interpolate import spline"
   ]
  },
  {
   "cell_type": "code",
   "execution_count": 5,
   "metadata": {
    "collapsed": true,
    "deletable": true,
    "editable": true
   },
   "outputs": [],
   "source": [
    "from tqdm import tqdm"
   ]
  },
  {
   "cell_type": "code",
   "execution_count": 6,
   "metadata": {
    "collapsed": true,
    "deletable": true,
    "editable": true
   },
   "outputs": [],
   "source": [
    "DQN_Rewards_Path = \"/home/tabz/Dropbox/RL/Log_Files/March 2017/Maze_5_Batch_Sizes_Logs/*DQN*/logs/Episode_Rewards.txt\"\n",
    "DQN_Lengths_Path = \"/home/tabz/Dropbox/RL/Log_Files/March 2017/Maze_5_Batch_Sizes_Logs/*DQN*/logs/Episode_Lengths.txt\"\n",
    "DQN_Rewards = []\n",
    "DQN_Lengths = []\n",
    "DQN_Lengths_C = []"
   ]
  },
  {
   "cell_type": "code",
   "execution_count": 7,
   "metadata": {
    "collapsed": true,
    "deletable": true,
    "editable": true
   },
   "outputs": [],
   "source": [
    "for filename in glob.glob(DQN_Rewards_Path):\n",
    "    run_logs = [0]\n",
    "#     print(filename)\n",
    "    with open(filename, \"r\") as f:\n",
    "        for line in f:\n",
    "            try:\n",
    "                ep_r = float(line)\n",
    "            except:\n",
    "                continue\n",
    "            run_logs.append(ep_r)\n",
    "    DQN_Rewards.append(run_logs)"
   ]
  },
  {
   "cell_type": "code",
   "execution_count": 8,
   "metadata": {
    "collapsed": true,
    "deletable": true,
    "editable": true
   },
   "outputs": [],
   "source": [
    "for filename in glob.glob(DQN_Lengths_Path):\n",
    "    run_logs = [0]\n",
    "#     print(filename)\n",
    "    with open(filename, \"r\") as f:\n",
    "        for line in f:\n",
    "            try:\n",
    "                ep_r = float(line)\n",
    "            except:\n",
    "                continue\n",
    "            run_logs.append(ep_r)\n",
    "    DQN_Lengths.append(run_logs)\n",
    "    run_logs_c = np.cumsum(run_logs).astype(np.int32)\n",
    "    DQN_Lengths_C.append(run_logs_c)"
   ]
  },
  {
   "cell_type": "markdown",
   "metadata": {
    "collapsed": false,
    "deletable": true,
    "editable": true
   },
   "source": [
    "for lens, runs in zip(DQN_Lengths_C, DQN_Rewards):\n",
    "    plt.plot(lens, runs)\n",
    "plt.show()"
   ]
  },
  {
   "cell_type": "markdown",
   "metadata": {
    "collapsed": false,
    "deletable": true,
    "editable": true
   },
   "source": [
    "p = figure(width=500, height=500, y_range=(-1,3))\n",
    "for lens, runs in zip(DQN_Lengths_C, DQN_Rewards):\n",
    "    p.line(lens, runs)\n",
    "show(p)"
   ]
  },
  {
   "cell_type": "code",
   "execution_count": null,
   "metadata": {
    "collapsed": true,
    "deletable": true,
    "editable": true
   },
   "outputs": [],
   "source": []
  },
  {
   "cell_type": "markdown",
   "metadata": {
    "collapsed": true,
    "deletable": true,
    "editable": true
   },
   "source": [
    "def plot_averages(names, t_maxs, colors, legends=None, directory=\"Logs/\", step=10):\n",
    "    plt.figure(figsize=(10,10))\n",
    "    plt.ylim(-1, 3)\n",
    "    for name, color, t_max in tqdm(zip(names, colors, t_maxs)):\n",
    "        # TODO: Remove DQN from names\n",
    "        DQN_Rewards_Path = directory + \"*\" + name + \"*/logs/Episode_Rewards.txt\"\n",
    "        DQN_Lengths_Path = directory + \"*\" + name + \"*/logs/Episode_Lengths.txt\"\n",
    "        DQN_Rewards = []\n",
    "        DQN_Lengths = []\n",
    "        DQN_Lengths_C = []\n",
    "        for filename in glob.glob(DQN_Rewards_Path):\n",
    "            run_logs = [0]\n",
    "            with open(filename, \"r\") as f:\n",
    "                for line in f:\n",
    "                    try:\n",
    "                        ep_r = float(line)\n",
    "                    except:\n",
    "                        continue\n",
    "                    run_logs.append(ep_r)\n",
    "            DQN_Rewards.append(run_logs)\n",
    "        for filename in glob.glob(DQN_Lengths_Path):\n",
    "            run_logs = [0]\n",
    "        #     print(filename)\n",
    "            with open(filename, \"r\") as f:\n",
    "                for line in f:\n",
    "                    try:\n",
    "                        ep_r = float(line)\n",
    "                    except:\n",
    "                        continue\n",
    "                    run_logs.append(ep_r)\n",
    "            DQN_Lengths.append(run_logs)\n",
    "            run_logs_c = np.cumsum(run_logs).astype(np.int32)\n",
    "            DQN_Lengths_C.append(run_logs_c)\n",
    "        DQN_Smoothed = []\n",
    "        for times, rewards in zip(DQN_Lengths_C, DQN_Rewards):\n",
    "#             linear = interp1d(times, rewards, kind=\"linear\")\n",
    "#             linear_rewards = linear([i for i in range(500000)])\n",
    "#             DQN_Smoothed.append(linear_rewards)\n",
    "            spline_rewards = spline(times, rewards, [i for i in range(0, t_max, step)])\n",
    "            DQN_Smoothed.append(spline_rewards)\n",
    "        DQN_Means = np.mean(DQN_Smoothed, axis=0)\n",
    "        DQN_Stds = np.std(DQN_Smoothed, axis=0)\n",
    "        plt.fill_between([i for i in range(0, t_max, step)], DQN_Means - DQN_Stds, DQN_Means + DQN_Stds, color=color, alpha=0.2, edgecolor=\"white\")\n",
    "\n",
    "        plt.plot([i for i in range(0, t_max, step)], DQN_Means, color=color)\n",
    "\n",
    "    plt.title(\"Episode_Reward\")\n",
    "    plt.xlabel(\"T\")\n",
    "    plt.ylabel(\"Reward\")\n",
    "    if legends is not None:\n",
    "        plt.legend(legends, bbox_to_anchor=(1.05, 1), loc=2)\n",
    "    plt.show()"
   ]
  },
  {
   "cell_type": "code",
   "execution_count": 9,
   "metadata": {
    "collapsed": true,
    "deletable": true,
    "editable": true
   },
   "outputs": [],
   "source": [
    "from bokeh.models import Legend\n",
    "from bokeh.models.formatters import BasicTickFormatter\n",
    "from bokeh.models import HoverTool, TapTool"
   ]
  },
  {
   "cell_type": "code",
   "execution_count": 10,
   "metadata": {
    "collapsed": false,
    "deletable": true,
    "editable": true
   },
   "outputs": [],
   "source": [
    "def plot_averages_b(names, t_maxs, colors, legends, directories=\"Logs/\", step=10, title=\"\"):\n",
    "#     plt.figure(figsize=(10,10))\n",
    "    p = figure(width=1200, height=800, y_range=(-0.1, 1.1), title=title)\n",
    "    p.toolbar_location = \"above\"\n",
    "    p.yaxis.axis_label = \"Episode Reward\"\n",
    "    p.xaxis.axis_label = \"T\"\n",
    "    p.xaxis.formatter = BasicTickFormatter(use_scientific=False)\n",
    "#     p = figure(width=800, height=500)\n",
    "    lines = []\n",
    "    alpha_lines = []\n",
    "    if isinstance(directories, str):\n",
    "        dd = directories\n",
    "        directories = [dd for _ in names]\n",
    "    for name, color, t_max, legend, directory in zip(names, colors, t_maxs, legends, directories):\n",
    "#         print(directory)\n",
    "        DQN_Rewards_Path = directory + \"*\" + name + \"*/logs/Episode_Rewards.txt\"\n",
    "        DQN_Lengths_Path = directory + \"*\" + name + \"*/logs/Episode_Lengths.txt\"\n",
    "        DQN_Rewards = []\n",
    "        DQN_Lengths = []\n",
    "        DQN_Lengths_C = []\n",
    "        for filename in glob.glob(DQN_Rewards_Path):\n",
    "            run_logs = [0]\n",
    "            with open(filename, \"r\") as f:\n",
    "#                 print(f)\n",
    "                for line in f:\n",
    "                    try:\n",
    "                        ep_r = float(line)\n",
    "                    except:\n",
    "                        print(\"Nothing here for:\", filename)\n",
    "                        continue\n",
    "                    run_logs.append(ep_r)\n",
    "            DQN_Rewards.append(run_logs)\n",
    "        for filename in glob.glob(DQN_Lengths_Path):\n",
    "            run_logs = [0]\n",
    "        #     print(filename)\n",
    "            with open(filename, \"r\") as f:\n",
    "                for line in f:\n",
    "                    try:\n",
    "                        ep_r = float(line)\n",
    "                    except:\n",
    "                        continue\n",
    "                    run_logs.append(ep_r)\n",
    "            DQN_Lengths.append(run_logs)\n",
    "            run_logs_c = np.cumsum(run_logs).astype(np.int32)\n",
    "            DQN_Lengths_C.append(run_logs_c)\n",
    "        DQN_Smoothed = []\n",
    "        for times, rewards in zip(DQN_Lengths_C, DQN_Rewards):\n",
    "#             linear = interp1d(times, rewards, kind=\"linear\")\n",
    "#             linear_rewards = linear([i for i in range(500000)])\n",
    "#             DQN_Smoothed.append(linear_rewards)\n",
    "            spline_rewards = spline(times, rewards, [i for i in range(0, t_max, step)], order=1)\n",
    "            DQN_Smoothed.append(spline_rewards)\n",
    "        DQN_Means = np.mean(DQN_Smoothed, axis=0)\n",
    "        DQN_Stds = np.std(DQN_Smoothed, axis=0)\n",
    "        \n",
    "#         plt.fill_between([i for i in range(0, t_max, step)], DQN_Means - DQN_Stds, DQN_Means + DQN_Stds, color=color, alpha=0.2, edgecolor=\"white\")\n",
    "        # Error bars\n",
    "        xs = [i for i in range(0, t_max, step)]\n",
    "        xs = xs + list(reversed(xs))\n",
    "        ys = np.concatenate([DQN_Means - DQN_Stds, np.flip(DQN_Means + DQN_Stds, axis=0)])\n",
    "        lls = p.patch(xs, ys, color=color, alpha=0.1)\n",
    "\n",
    "        \n",
    "#         for x, y, yerr in zip(range(0, t_max, step), DQN_Means, DQN_Stds):\n",
    "#             lls = p.line([x, x], [y - yerr, y + yerr], color=color, alpha=0.1, hover_alpha=0.8)\n",
    "#             alpha_lines.append(lls)\n",
    "            \n",
    "\n",
    "#         plt.plot([i for i in range(0, t_max, step)], DQN_Means, color=color)\n",
    "        l = p.line([i for i in range(0, t_max, step)], DQN_Means, color=color, line_width=2)\n",
    "        lines.append(l)\n",
    "#         alpha_lines.append(lls)\n",
    "\n",
    "#     plt.title(\"Episode_Reward\")\n",
    "#     plt.xlabel(\"T\")\n",
    "#     plt.ylabel(\"Reward\")\n",
    "#     if legends is not None:\n",
    "#         plt.legend(legends)\n",
    "#     plt.show()\n",
    "#     p.line([0,1], [-1,3])\n",
    "    new_leg = Legend(items=[(name, [line]) for name, line in zip(legends, lines)], location=(0,-30))\n",
    "    p.add_layout(new_leg, \"right\")\n",
    "#     p.add_tools(HoverTool(renderers=alpha_lines))\n",
    "#     p.add_tools(TapTool(renderers=alpha_lines))\n",
    "    show(p)"
   ]
  },
  {
   "cell_type": "code",
   "execution_count": 11,
   "metadata": {
    "collapsed": false,
    "deletable": true,
    "editable": true
   },
   "outputs": [],
   "source": [
    "def plot_states(names, t_maxs, colors, legends, directories=\"Logs/\", step=10, title=\"\"):\n",
    "#     plt.figure(figsize=(10,10))\n",
    "    p = figure(width=1200, height=800, title=title)\n",
    "    p.toolbar_location = \"above\"\n",
    "    p.yaxis.axis_label = \"States visited\"\n",
    "    p.xaxis.axis_label = \"T\"\n",
    "    p.xaxis.formatter = BasicTickFormatter(use_scientific=False)\n",
    "#     p = figure(width=800, height=500)\n",
    "    lines = []\n",
    "    alpha_lines = []\n",
    "    if isinstance(directories, str):\n",
    "        dd = directories\n",
    "        directories = [dd for _ in names]\n",
    "    for name, color, t_max, legend, directory in zip(names, colors, t_maxs, legends, directories):\n",
    "#         print(directory)\n",
    "        States_Path = directory + \"*\" + name + \"*/logs/Player_Positions.txt\"\n",
    "        States = []\n",
    "        for filename in glob.glob(States_Path):\n",
    "            run_logs = []\n",
    "            with open(filename, \"r\") as f:\n",
    "#                 print(f)\n",
    "                for line in f:\n",
    "                    try:\n",
    "                        ep_r = str(line)\n",
    "#                         print(ep_r)\n",
    "                    except:\n",
    "                        print(\"Nothing here for:\", filename)\n",
    "                        continue\n",
    "                    run_logs.append(ep_r)\n",
    "            States.append(run_logs)\n",
    "        States_Visited = []\n",
    "        for run in States:\n",
    "            Visited = []\n",
    "            States_Sets = set()\n",
    "#             print(len(run))\n",
    "            for ii, s in enumerate(run):\n",
    "                if ii >= t_max - 1:\n",
    "                    break\n",
    "#                 print(s)\n",
    "                States_Sets.add(s)\n",
    "                if ii % step == 0:\n",
    "                    Visited.append(len(States_Sets))\n",
    "#             print(len(States_Sets))\n",
    "#             print(len(Visited))\n",
    "            States_Visited.append(Visited)\n",
    "#         print(np.array(States_Visited).shape)\n",
    "        Means = np.mean(States_Visited, axis=0)\n",
    "        Stds = np.std(States_Visited, axis=0)\n",
    "#         print(Means.shape)\n",
    "        \n",
    "#         plt.fill_between([i for i in range(0, t_max, step)], DQN_Means - DQN_Stds, DQN_Means + DQN_Stds, color=color, alpha=0.2, edgecolor=\"white\")\n",
    "        # Error bars\n",
    "        xs = [i for i in range(0, t_max, step)]\n",
    "        xs = xs + list(reversed(xs))\n",
    "        ys = np.concatenate([Means - Stds, np.flip(Means + Stds, axis=0)])\n",
    "        lls = p.patch(xs, ys, color=color, alpha=0.1)\n",
    "\n",
    "        \n",
    "#         for x, y, yerr in zip(range(0, t_max, step), DQN_Means, DQN_Stds):\n",
    "#             lls = p.line([x, x], [y - yerr, y + yerr], color=color, alpha=0.1, hover_alpha=0.8)\n",
    "#             alpha_lines.append(lls)\n",
    "            \n",
    "\n",
    "#         plt.plot([i for i in range(0, t_max, step)], DQN_Means, color=color)\n",
    "        l = p.line([i for i in range(0, t_max, step)], Means, color=color, line_width=2)\n",
    "        lines.append(l)\n",
    "#         alpha_lines.append(lls)\n",
    "\n",
    "#     plt.title(\"Episode_Reward\")\n",
    "#     plt.xlabel(\"T\")\n",
    "#     plt.ylabel(\"Reward\")\n",
    "#     if legends is not None:\n",
    "#         plt.legend(legends)\n",
    "#     plt.show()\n",
    "#     p.line([0,1], [-1,3])\n",
    "    new_leg = Legend(items=[(name, [line]) for name, line in zip(legends, lines)], location=(0,-30))\n",
    "    p.add_layout(new_leg, \"right\")\n",
    "#     p.add_tools(HoverTool(renderers=alpha_lines))\n",
    "#     p.add_tools(TapTool(renderers=alpha_lines))\n",
    "    show(p)"
   ]
  },
  {
   "cell_type": "code",
   "execution_count": null,
   "metadata": {
    "collapsed": true,
    "deletable": true,
    "editable": true
   },
   "outputs": [],
   "source": []
  },
  {
   "cell_type": "code",
   "execution_count": 12,
   "metadata": {
    "collapsed": false,
    "deletable": true,
    "editable": true
   },
   "outputs": [
    {
     "name": "stdout",
     "output_type": "stream",
     "text": [
      "['_10_Step_*DQN_', '_10_Step_*k_Count_', '_10_Step_*_CountEps_']\n",
      "[300001, 300001, 300001]\n"
     ]
    }
   ],
   "source": [
    "names = []\n",
    "legends = []\n",
    "t_maxs = []\n",
    "directories = []\n",
    "\n",
    "            \n",
    "# Frontier stuff\n",
    "for step in [10]:\n",
    "    # DQN\n",
    "    names += [\"_{}_Step_*DQN_\".format(step)]\n",
    "    legends += [\"{}_Step_DQN\".format(step)]\n",
    "    t_maxs += [300001]\n",
    "#     continue\n",
    "    # PseudoCount\n",
    "    names += [\"_{}_Step_*k_Count_\".format(step)]\n",
    "    legends += [\"{}_Step_Count\".format(step)]\n",
    "    t_maxs += [300001]\n",
    "#     continue\n",
    "    # EpsilonScaling\n",
    "    names += [\"_{}_Step_*_CountEps_\".format(step)]\n",
    "    legends += [\"{}_Step_Epsilon_Scaling\".format(step)]\n",
    "    t_maxs += [300001]\n",
    "            \n",
    "    \n",
    "direc = \"/home/tabz/tmp/logfiles/MedMaze10/MedMaze10\"\n",
    "# directories =  [\"{}/{}\".format(dropbox_direc, \"Maze_5_Logs/\")] + 3 * [\"{}/{}\".format(dropbox_direc, \"Maze_5_Batch_Sizes_Logs/\")] \n",
    "directories += [direc + \"/EpsilonLogs/\"] * 3\n",
    "    \n",
    "print(names)\n",
    "print(t_maxs)\n",
    "# colours = [\"red\", \"#3366ff\", \"#66ff33\", \"yellow\"]\n",
    "# colours = rainbow(np.linspace(0, 1, len(names)))"
   ]
  },
  {
   "cell_type": "code",
   "execution_count": 13,
   "metadata": {
    "collapsed": false,
    "deletable": true,
    "editable": true
   },
   "outputs": [
    {
     "name": "stdout",
     "output_type": "stream",
     "text": [
      "['_100_Step*k_Count_', '_100_Step*OptimisticAction', '_100_Step*_CountEps_']\n",
      "[300001, 300001, 300001]\n",
      "/home/scratch/tabhid/Log_Files/Gamma_Logs//\n"
     ]
    }
   ],
   "source": [
    "names = []\n",
    "legends = []\n",
    "t_maxs = []\n",
    "\n",
    "            \n",
    "# Frontier bandit stuff\n",
    "\n",
    "for n in [100]:\n",
    "    \n",
    "    # Count\n",
    "    names += [\"_{}_Step*k_Count_\".format(n)]\n",
    "    legends += [\"{}_Step_Count\".format(n)]\n",
    "    t_maxs += [300001]\n",
    "#     continue\n",
    "    # Optimistic\n",
    "    names += [\"_{}_Step*OptimisticAction\".format(n)]\n",
    "    legends += [\"{}_Step_OptimisticAction\".format(n)]\n",
    "    t_maxs += [300001]\n",
    "#     continue\n",
    "    # Epsilon Scaling\n",
    "    names += [\"_{}_Step*_CountEps_\".format(n)]\n",
    "    legends += [\"{}_Step_EpsilonScaling\".format(n)]\n",
    "    t_maxs += [300001]\n",
    "            \n",
    "    \n",
    "direc = \"/home/scratch/tabhid/Log_Files/Gamma_Logs//\"\n",
    "# directories =  [\"{}/{}\".format(dropbox_direc, \"Maze_5_Logs/\")] + 3 * [\"{}/{}\".format(dropbox_direc, \"Maze_5_Batch_Sizes_Logs/\")] \n",
    "# directories += [direc + \"/BanditLogs/\"] * 3\n",
    "directories = direc\n",
    "    \n",
    "print(names)\n",
    "print(t_maxs)\n",
    "print(directories)\n",
    "# colours = [\"red\", \"#3366ff\", \"#66ff33\", \"yellow\"]\n",
    "# colours = rainbow(np.linspace(0, 1, len(names)))"
   ]
  },
  {
   "cell_type": "code",
   "execution_count": 14,
   "metadata": {
    "collapsed": false,
    "deletable": true,
    "editable": true
   },
   "outputs": [
    {
     "name": "stdout",
     "output_type": "stream",
     "text": [
      "['_0.9_Decay*_Eps_0.1_', '_0.99_Decay*_Eps_0.1_', '_0.9999_Decay*_Eps_0.1_', '_0.9_Decay*_Eps_1_', '_0.99_Decay*_Eps_1_', '_0.9999_Decay*_Eps_1_']\n",
      "[300001, 300001, 300001, 300001, 300001, 300001]\n",
      "/home/tabz/tmp/Epsilon_Decay_Logs/\n"
     ]
    }
   ],
   "source": [
    "names = []\n",
    "legends = []\n",
    "t_maxs = []\n",
    "\n",
    "            \n",
    "# Epsilon Decay Scaling\n",
    "for eps in [0.1, 1]:\n",
    "    for decay in [0.9, 0.99, 0.9999]:\n",
    "    \n",
    "        names += [\"_{}_Decay*_Eps_{}_\".format(decay, eps)]\n",
    "        legends += [\"{}_Decay_EpsilonScaling_{}_Start\".format(decay, eps)]\n",
    "        t_maxs += [300001]\n",
    "            \n",
    "    \n",
    "# direc = \"/home/scratch/tabhid/Log_Files/Epsilon_Decay_Logs/\"\n",
    "direc = \"/home/tabz/tmp/Epsilon_Decay_Logs/\"\n",
    "# directories =  [\"{}/{}\".format(dropbox_direc, \"Maze_5_Logs/\")] + 3 * [\"{}/{}\".format(dropbox_direc, \"Maze_5_Batch_Sizes_Logs/\")] \n",
    "# directories += [direc + \"/BanditLogs/\"] * 3\n",
    "directories = direc\n",
    "    \n",
    "print(names)\n",
    "print(t_maxs)\n",
    "print(directories)"
   ]
  },
  {
   "cell_type": "code",
   "execution_count": 15,
   "metadata": {
    "collapsed": false,
    "deletable": true,
    "editable": true
   },
   "outputs": [
    {
     "name": "stdout",
     "output_type": "stream",
     "text": [
      "['_NegativeReward_0.5_', '_NegativeReward_0.7_', '_NegativeReward_0.9_']\n",
      "[300001, 300001, 300001]\n",
      "/home/tabz/tmp/Big_Negative_Reward_Logs/\n"
     ]
    }
   ],
   "source": [
    "names = []\n",
    "legends = []\n",
    "t_maxs = []\n",
    "\n",
    "            \n",
    "# Negative reward threshold\n",
    "for ns in [0.5, 0.7,  0.9]:\n",
    "    names += [\"_NegativeReward_{}_\".format(ns)]\n",
    "    legends += [\"NegativeReward_{}_Threshold\".format(ns)]\n",
    "    t_maxs += [300001]\n",
    "            \n",
    "    \n",
    "# direc = \"/home/scratch/tabhid/Log_Files/Epsilon_Decay_Logs/\"\n",
    "direc = \"/home/tabz/tmp/Big_Negative_Reward_Logs/\"\n",
    "# directories =  [\"{}/{}\".format(dropbox_direc, \"Maze_5_Logs/\")] + 3 * [\"{}/{}\".format(dropbox_direc, \"Maze_5_Batch_Sizes_Logs/\")] \n",
    "# directories += [direc + \"/BanditLogs/\"] * 3\n",
    "directories = direc\n",
    "    \n",
    "print(names)\n",
    "print(t_maxs)\n",
    "print(directories)"
   ]
  },
  {
   "cell_type": "code",
   "execution_count": 16,
   "metadata": {
    "collapsed": false,
    "deletable": true,
    "editable": true
   },
   "outputs": [
    {
     "name": "stdout",
     "output_type": "stream",
     "text": [
      "['k_OptimisticAction_0.0001_Scaler', 'k_OptimisticAction_0.0005_Scaler', 'k_OptimisticAction_0.001_Scaler', 'k_OptimisticAction_0.005_Scaler']\n",
      "[300001, 300001, 300001, 300001]\n",
      "/home/scratch/tabhid/Log_Files/Bandit_Small_Tau_Logs/\n"
     ]
    }
   ],
   "source": [
    "names = []\n",
    "legends = []\n",
    "t_maxs = []\n",
    "\n",
    "            \n",
    "# Bandit Tau\n",
    "for tau in [0.0001, 0.0005, 0.001, 0.005]:\n",
    "    for negative_reward in [False]:\n",
    "        if negative_reward:\n",
    "            names += [\"NegativeReward_*_OptimisticAction_{}_Scaler\".format(tau)]\n",
    "            legends += [\"Optim Bandit {} Tau Neg Reward\".format(tau)]\n",
    "        else:\n",
    "            names += [\"k_OptimisticAction_{}_Scaler\".format(tau)]\n",
    "            legends += [\"Optim Bandit {} Tau\".format(tau)]\n",
    "        t_maxs += [300001]\n",
    "            \n",
    "    \n",
    "direc = \"/home/scratch/tabhid/Log_Files/Bandit_Small_Tau_Logs/\"\n",
    "# direc = \"/home/tabz/tmp/Bandit_Tau_Logs/\"\n",
    "# directories =  [\"{}/{}\".format(dropbox_direc, \"Maze_5_Logs/\")] + 3 * [\"{}/{}\".format(dropbox_direc, \"Maze_5_Batch_Sizes_Logs/\")] \n",
    "# directories += [direc + \"/BanditLogs/\"] * 3\n",
    "directories = direc\n",
    "    \n",
    "print(names)\n",
    "print(t_maxs)\n",
    "print(directories)"
   ]
  },
  {
   "cell_type": "code",
   "execution_count": 17,
   "metadata": {
    "collapsed": false,
    "deletable": true,
    "editable": true
   },
   "outputs": [
    {
     "name": "stdout",
     "output_type": "stream",
     "text": [
      "['Batch_64_XpSize_600k', 'Batch_128_XpSize_600k', 'Batch_256_XpSize_600k']\n",
      "[600001, 600001, 600001]\n",
      "/home/tabz/tmp/logfiles/MedMaze10/Batch_Size_Logs/\n"
     ]
    }
   ],
   "source": [
    "names = []\n",
    "legends = []\n",
    "t_maxs = []\n",
    "\n",
    "            \n",
    "# Batch Size\n",
    "for xp in [600]:\n",
    "    for bs in [64, 128, 256]:\n",
    "        names += [\"Batch_{}_XpSize_{}k\".format(bs, xp)]\n",
    "        legends += [\"Batch {} Xp {}k\".format(bs, xp)]\n",
    "        t_maxs += [600001]\n",
    "            \n",
    "    \n",
    "# direc = \"/home/scratch/tabhid/Log_Files/Xp_Logs/\"\n",
    "direc = \"/home/tabz/tmp/logfiles/MedMaze10/Batch_Size_Logs/\"\n",
    "# directories =  [\"{}/{}\".format(dropbox_direc, \"Maze_5_Logs/\")] + 3 * [\"{}/{}\".format(dropbox_direc, \"Maze_5_Batch_Sizes_Logs/\")] \n",
    "# directories += [direc + \"/BanditLogs/\"] * 3\n",
    "directories = direc\n",
    "    \n",
    "print(names)\n",
    "print(t_maxs)\n",
    "print(directories)"
   ]
  },
  {
   "cell_type": "code",
   "execution_count": 18,
   "metadata": {
    "collapsed": false,
    "deletable": true,
    "editable": true
   },
   "outputs": [
    {
     "name": "stdout",
     "output_type": "stream",
     "text": [
      "['ETrace_0.7_6_States', 'ETrace_0.9_6_States', 'ETrace_1_6_States']\n",
      "[600001, 600001, 600001]\n",
      "/home/tabz/tmp/logfiles/MedMaze10/Elig_3_Logs/\n"
     ]
    }
   ],
   "source": [
    "names = []\n",
    "legends = []\n",
    "t_maxs = []\n",
    "\n",
    "            \n",
    "# Elig States\n",
    "for lamb in [0.7, 0.9, 1]:\n",
    "    for states in [6]:\n",
    "        names += [\"ETrace_{}_{}_States\".format(lamb, states)]\n",
    "        legends += [\"Traces {} Lambda {} States 3 Gap\".format(lamb, states)]\n",
    "        t_maxs += [600001]\n",
    "            \n",
    "    \n",
    "# direc = \"/home/scratch/tabhid/Log_Files/Xp_Logs/\"\n",
    "direc = \"/home/tabz/tmp/logfiles/MedMaze10/Elig_3_Logs/\"\n",
    "# directories =  [\"{}/{}\".format(dropbox_direc, \"Maze_5_Logs/\")] + 3 * [\"{}/{}\".format(dropbox_direc, \"Maze_5_Batch_Sizes_Logs/\")] \n",
    "# directories += [direc + \"/BanditLogs/\"] * 3\n",
    "directories = direc\n",
    "    \n",
    "print(names)\n",
    "print(t_maxs)\n",
    "print(directories)"
   ]
  },
  {
   "cell_type": "code",
   "execution_count": 19,
   "metadata": {
    "collapsed": false,
    "deletable": true,
    "editable": true
   },
   "outputs": [
    {
     "name": "stdout",
     "output_type": "stream",
     "text": [
      "['Iters_1_', 'Iters_2_', 'Iters_4_', 'Iters_8_', 'Iters_16_']\n",
      "[600001, 600001, 600001, 600001, 600001]\n",
      "/home/tabz/tmp/logfiles/MedMaze10/Iters_Logs/\n"
     ]
    }
   ],
   "source": [
    "names = []\n",
    "legends = []\n",
    "t_maxs = []\n",
    "\n",
    "            \n",
    "# Iterations\n",
    "for i in [1, 2, 4, 8, 16]:\n",
    "    names += [\"Iters_{}_\".format(i)]\n",
    "    legends += [\"{} Iterations\".format(i)]\n",
    "    t_maxs += [600001]\n",
    "            \n",
    "    \n",
    "# direc = \"/home/scratch/tabhid/Log_Files/Xp_Logs/\"\n",
    "direc = \"/home/tabz/tmp/logfiles/MedMaze10/Iters_Logs/\"\n",
    "# directories =  [\"{}/{}\".format(dropbox_direc, \"Maze_5_Logs/\")] + 3 * [\"{}/{}\".format(dropbox_direc, \"Maze_5_Batch_Sizes_Logs/\")] \n",
    "# directories += [direc + \"/BanditLogs/\"] * 3\n",
    "directories = direc\n",
    "    \n",
    "print(names)\n",
    "print(t_maxs)\n",
    "print(directories)"
   ]
  },
  {
   "cell_type": "code",
   "execution_count": 20,
   "metadata": {
    "collapsed": false,
    "deletable": true,
    "editable": true
   },
   "outputs": [
    {
     "name": "stdout",
     "output_type": "stream",
     "text": [
      "['k_CountEps_', 'Trajectory_0.2_', 'Trajectory_0.5_', 'Trajectory_0.75_', 'Trajectory_0.8_', 'Trajectory_0.9_']\n",
      "[600001, 600001, 600001, 600001, 600001, 600001]\n",
      "/home/tabz/tmp/logfiles/MedMaze10/Trajectory_Logs/\n"
     ]
    }
   ],
   "source": [
    "names = []\n",
    "legends = []\n",
    "t_maxs = []\n",
    "\n",
    "names += [\"k_CountEps_\"]\n",
    "legends += [\"No Trajectory\"]\n",
    "t_maxs += [600001]\n",
    "            \n",
    "# Trajectory\n",
    "for t in [0.2, 0.5, 0.75, 0.8, 0.9]:\n",
    "    names += [\"Trajectory_{}_\".format(t)]\n",
    "    legends += [\"Trajectory {} Save\".format(t)]\n",
    "    t_maxs += [600001]\n",
    "            \n",
    "    \n",
    "# direc = \"/home/scratch/tabhid/Log_Files/Xp_Logs/\"\n",
    "direc = \"/home/tabz/tmp/logfiles/MedMaze10/Trajectory_Logs/\"\n",
    "# directories =  [\"{}/{}\".format(dropbox_direc, \"Maze_5_Logs/\")] + 3 * [\"{}/{}\".format(dropbox_direc, \"Maze_5_Batch_Sizes_Logs/\")] \n",
    "# directories += [direc + \"/BanditLogs/\"] * 3\n",
    "directories = direc\n",
    "    \n",
    "print(names)\n",
    "print(t_maxs)\n",
    "print(directories)"
   ]
  },
  {
   "cell_type": "code",
   "execution_count": 21,
   "metadata": {
    "collapsed": false,
    "deletable": true,
    "editable": true
   },
   "outputs": [
    {
     "name": "stdout",
     "output_type": "stream",
     "text": [
      "['XpSize_30k*CountDecay_0.9999', 'XpSize_30k*CountDecay_0.999999', 'XpSize_30k*CountDecay_1', 'XpSize_60k*CountDecay_0.9999', 'XpSize_60k*CountDecay_0.999999', 'XpSize_60k*CountDecay_1', 'XpSize_100k*CountDecay_0.9999', 'XpSize_100k*CountDecay_0.999999', 'XpSize_100k*CountDecay_1']\n",
      "[600001, 600001, 600001, 600001, 600001, 600001, 600001, 600001, 600001]\n",
      "/home/tabz/tmp/logfiles/CountXpSort/\n"
     ]
    }
   ],
   "source": [
    "names = []\n",
    "legends = []\n",
    "t_maxs = []\n",
    "          \n",
    "# Count Xp Sort\n",
    "for xp in [30, 60, 100]:\n",
    "    for decay in [0.9999, 0.999999, 1]:\n",
    "        names += [\"XpSize_{}k*CountDecay_{}\".format(xp, decay)]\n",
    "        legends += [\"CountXp Sort {}k Xp {} CountDecay\".format(xp, decay)]\n",
    "        t_maxs += [600001]\n",
    "            \n",
    "    \n",
    "# direc = \"/home/scratch/tabhid/Log_Files/Xp_Logs/\"\n",
    "direc = \"/home/tabz/tmp/logfiles/CountXpSort/\"\n",
    "# directories =  [\"{}/{}\".format(dropbox_direc, \"Maze_5_Logs/\")] + 3 * [\"{}/{}\".format(dropbox_direc, \"Maze_5_Batch_Sizes_Logs/\")] \n",
    "# directories += [direc + \"/BanditLogs/\"] * 3\n",
    "directories = direc\n",
    "    \n",
    "print(names)\n",
    "print(t_maxs)\n",
    "print(directories)"
   ]
  },
  {
   "cell_type": "code",
   "execution_count": 22,
   "metadata": {
    "collapsed": false,
    "deletable": true,
    "editable": true
   },
   "outputs": [
    {
     "name": "stdout",
     "output_type": "stream",
     "text": [
      "['OptimisticAction_0.1', 'OptimisticAction_1', 'OptimisticAction_10', 'k_CountEps']\n",
      "[600001, 600001, 600001, 600001]\n",
      "/home/tabz/tmp/logfiles/MedMaze12/\n"
     ]
    }
   ],
   "source": [
    "names = []\n",
    "legends = []\n",
    "t_maxs = []\n",
    "          \n",
    "# MedMaze12\n",
    "\n",
    "#Bandits\n",
    "for os in [0.1, 1, 10]:\n",
    "    names += [\"OptimisticAction_{}\".format(os)]\n",
    "    legends += [\"Bandit {} Scaler\".format(os)]\n",
    "    t_maxs += [600001]\n",
    "    \n",
    "# #-ve reward\n",
    "# for nr in [0.5, 0.7]:\n",
    "#     names += [\"NegativeReward_{}\".format(nr)]\n",
    "#     legends += [\"Negative Reward {}\".format(nr)]\n",
    "#     t_maxs += [600001]\n",
    "    \n",
    "#CountXp\n",
    "names += [\"k_CountEps\"]\n",
    "legends += [\"Counts\"]\n",
    "t_maxs += [600001]\n",
    "            \n",
    "    \n",
    "# direc = \"/home/scratch/tabhid/Log_Files/Xp_Logs/\"\n",
    "direc = \"/home/tabz/tmp/logfiles/MedMaze12/\"\n",
    "# directories =  [\"{}/{}\".format(dropbox_direc, \"Maze_5_Logs/\")] + 3 * [\"{}/{}\".format(dropbox_direc, \"Maze_5_Batch_Sizes_Logs/\")] \n",
    "# directories += [direc + \"/BanditLogs/\"] * 3\n",
    "directories = direc\n",
    "    \n",
    "print(names)\n",
    "print(t_maxs)\n",
    "print(directories)"
   ]
  },
  {
   "cell_type": "code",
   "execution_count": 23,
   "metadata": {
    "collapsed": false,
    "deletable": true,
    "editable": true
   },
   "outputs": [
    {
     "name": "stdout",
     "output_type": "stream",
     "text": [
      "['k_CountEps*Stale_50k', 'Prioritized*Stale_50k', 'Prioritized_IS*Stale_50k', 'k_CountEps*Stale_300k', 'Prioritized*Stale_300k', 'Prioritized_IS*Stale_300k']\n",
      "[600001, 600001, 600001, 600001, 600001, 600001]\n",
      "/home/tabz/tmp/logfiles/Prioritized_Logs/\n"
     ]
    }
   ],
   "source": [
    "names = []\n",
    "legends = []\n",
    "t_maxs = []\n",
    "          \n",
    "# Prioritized replay stuff\n",
    "for fresh in [50, 300]:\n",
    "    for p in [None, \"P\", \"P_IS\"]:\n",
    "        if p is \"P\":\n",
    "            names += [\"Prioritized*Stale_{}k\".format(fresh)]\n",
    "            legends += [\"Prioritized {}k Fresh Counts\".format(fresh)]\n",
    "        elif p is \"P_IS\":\n",
    "            names += [\"Prioritized_IS*Stale_{}k\".format(fresh)]\n",
    "            legends += [\"Prioritized IS {}k Fresh Counts\".format(fresh)]\n",
    "        else:\n",
    "            names += [\"k_CountEps*Stale_{}k\".format(fresh)]\n",
    "            legends += [\"{}k Fresh Counts\".format(fresh)]\n",
    "        t_maxs += [600001]\n",
    "    \n",
    "direc = \"/home/tabz/tmp/logfiles/Prioritized_Logs/\"\n",
    "env = \"Med Maze 10\"\n",
    "directories = direc\n",
    "    \n",
    "print(names)\n",
    "print(t_maxs)\n",
    "print(directories)"
   ]
  },
  {
   "cell_type": "code",
   "execution_count": 24,
   "metadata": {
    "collapsed": false,
    "deletable": true,
    "editable": true
   },
   "outputs": [
    {
     "name": "stdout",
     "output_type": "stream",
     "text": [
      "['_0.1_Mix', '_0.3_Mix', '_0.5_Mix', '_0.7_Mix', '_0.9_Mix']\n",
      "[600001, 600001, 600001, 600001, 600001]\n",
      "/home/tabz/tmp/logfiles/Mixing_Logs/\n"
     ]
    }
   ],
   "source": [
    "names = []\n",
    "legends = []\n",
    "t_maxs = []\n",
    "          \n",
    "# Mixing\n",
    "for mix in [0.1, 0.3, 0.5, 0.7, 0.9]:\n",
    "    names += [\"_{}_Mix\".format(mix)]\n",
    "    legends += [\"{} Mixing\".format(mix)]\n",
    "    t_maxs += [600001]\n",
    "    \n",
    "direc = \"/home/tabz/tmp/logfiles/Mixing_Logs/\"\n",
    "directories = direc\n",
    "\n",
    "env =\"Med Maze 10\"\n",
    "    \n",
    "print(names)\n",
    "print(t_maxs)\n",
    "print(directories)"
   ]
  },
  {
   "cell_type": "code",
   "execution_count": 25,
   "metadata": {
    "collapsed": false,
    "deletable": true,
    "editable": true
   },
   "outputs": [
    {
     "name": "stdout",
     "output_type": "stream",
     "text": [
      "['OptimisticAction_0.1', 'OptimisticAction_0.01', 'OptimisticAction_0.001', 'CountEps_0.9999_', 'CountEps_0.999_', 'CountEps_0.99_', 'CountEps_0.9_']\n",
      "[600001, 600001, 600001, 600001, 600001, 600001, 600001]\n",
      "/home/tabz/tmp/logfiles/Frontier_Logs/\n"
     ]
    }
   ],
   "source": [
    "names = []\n",
    "legends = []\n",
    "t_maxs = []\n",
    "          \n",
    "# MedMaze12\n",
    "\n",
    "#Bandits\n",
    "for os in [0.1, 0.01, 0.001]:\n",
    "    names += [\"OptimisticAction_{}\".format(os)]\n",
    "    legends += [\"Bandit {} Scaler\".format(os)]\n",
    "    t_maxs += [600001]\n",
    "    \n",
    "#Epsilon decay\n",
    "for decay in [0.9999, 0.999, 0.99, 0.9]:\n",
    "    names += [\"CountEps_{}_\".format(decay)]\n",
    "    legends += [\"Epsilon Scaling {} Decay\".format(decay)]\n",
    "    t_maxs += [600001]\n",
    "            \n",
    "    \n",
    "direc = \"/home/tabz/tmp/logfiles/Frontier_Logs/\"\n",
    "directories = direc\n",
    "env = \"Med Maze 12\"\n",
    "    \n",
    "print(names)\n",
    "print(t_maxs)\n",
    "print(directories)"
   ]
  },
  {
   "cell_type": "code",
   "execution_count": 26,
   "metadata": {
    "collapsed": false
   },
   "outputs": [
    {
     "name": "stdout",
     "output_type": "stream",
     "text": [
      "['NegativeReward_0.1', 'NegativeReward_0.2']\n",
      "[600001, 600001]\n",
      "/home/tabz/tmp/Neg/\n"
     ]
    }
   ],
   "source": [
    "names = []\n",
    "legends = []\n",
    "t_maxs = []\n",
    "          \n",
    "# MedMaze10 Set replay negative reward\n",
    "\n",
    "for neg_reward in [0.1, 0.2]:\n",
    "    names += [\"NegativeReward_{}\".format(neg_reward)]\n",
    "    legends += [\"Negative Reward {} Set Replay\".format(neg_reward)]\n",
    "    t_maxs += [600001]            \n",
    "    \n",
    "direc = \"/home/tabz/tmp/Neg/\"\n",
    "directories = direc\n",
    "env = \"Med Maze 10 Set Replay Negative Reward\"\n",
    "    \n",
    "print(names)\n",
    "print(t_maxs)\n",
    "print(directories)"
   ]
  },
  {
   "cell_type": "code",
   "execution_count": 27,
   "metadata": {
    "collapsed": false,
    "deletable": true,
    "editable": true
   },
   "outputs": [
    {
     "name": "stdout",
     "output_type": "stream",
     "text": [
      "['_1_Step*_Gamma_0.99_*_Beta_0.0001_', '_1_Step*_Gamma_0.9999_*_Beta_0.0001_', '_1_Step*_Gamma_0.99_*_Beta_1e-05_', '_1_Step*_Gamma_0.9999_*_Beta_1e-05_', '_10_Step*_Gamma_0.99_*_Beta_0.0001_', '_10_Step*_Gamma_0.9999_*_Beta_0.0001_', '_10_Step*_Gamma_0.99_*_Beta_1e-05_', '_10_Step*_Gamma_0.9999_*_Beta_1e-05_']\n",
      "[600001, 600001, 600001, 600001, 600001, 600001, 600001, 600001]\n",
      "/home/tabz/tmp/Steps/\n"
     ]
    }
   ],
   "source": [
    "names = []\n",
    "legends = []\n",
    "t_maxs = []\n",
    "          \n",
    "# MedMaze10 Set replay Gamma\n",
    "\n",
    "for step in [1, 10]:\n",
    "    for beta in [0.0001, 0.00001]:\n",
    "        for gamma in [0.99, 0.9999]:\n",
    "            names += [\"_{}_Step*_Gamma_{}_*_Beta_{}_\".format(step, gamma, beta)]\n",
    "            legends += [\"{} Step {} Beta {} Gamma\".format(step, beta, gamma)]\n",
    "            t_maxs += [600001]\n",
    "    \n",
    "direc = \"/home/tabz/tmp/Steps/\"\n",
    "directories = direc\n",
    "env = \"Med Maze 10 Set Replay\"\n",
    "    \n",
    "print(names)\n",
    "print(t_maxs)\n",
    "print(directories)"
   ]
  },
  {
   "cell_type": "code",
   "execution_count": 28,
   "metadata": {
    "collapsed": false
   },
   "outputs": [
    {
     "name": "stdout",
     "output_type": "stream",
     "text": [
      "['_0.5_Mix*Prioritized*Stale_100k', '_0.5_Mix*Prioritized_OnBonus_IS*Stale_100k', '_0.5_Mix*Prioritized*Stale_300k', '_0.5_Mix*Prioritized_OnBonus_IS*Stale_300k']\n",
      "[800001, 800001, 800001, 800001]\n",
      "/home/tabz/tmp/Prioritised/\n"
     ]
    }
   ],
   "source": [
    "names = []\n",
    "legends = []\n",
    "t_maxs = []\n",
    "          \n",
    "# Prioritized replay stuff\n",
    "for fresh in [100, 300]:\n",
    "    for p in [\"P\", \"P_IS\"]:\n",
    "        for mix in [0.5]:\n",
    "            if p is \"P\":\n",
    "                names += [\"_{}_Mix*Prioritized*Stale_{}k\".format(mix, fresh)]\n",
    "                legends += [\"Prioritized {}k Fresh Counts {} Mix\".format(fresh, mix)]\n",
    "            elif p is \"P_IS\":\n",
    "                names += [\"_{}_Mix*Prioritized_OnBonus_IS*Stale_{}k\".format(mix, fresh)]\n",
    "                legends += [\"Prioritized IS {}k Fresh Counts {} Mix\".format(fresh, mix)]\n",
    "            t_maxs += [800001]\n",
    "    \n",
    "direc = \"/home/tabz/tmp/Prioritised/\"\n",
    "env = \"Med Maze 10 Prioritized On Bonus\"\n",
    "directories = direc\n",
    "    \n",
    "print(names)\n",
    "print(t_maxs)\n",
    "print(directories)"
   ]
  },
  {
   "cell_type": "code",
   "execution_count": 33,
   "metadata": {
    "collapsed": false
   },
   "outputs": [
    {
     "name": "stdout",
     "output_type": "stream",
     "text": [
      "['k_BonusClip', 'Prioritized_IS', 'Prioritized_MinusPseudo']\n",
      "[800001, 800001, 800001]\n",
      "/home/tabz/tmp/logfiles/MinusPseudo/\n"
     ]
    }
   ],
   "source": [
    "names = []\n",
    "legends = []\n",
    "t_maxs = []\n",
    "          \n",
    "# Prioritized replay stuff musing pseudo rewards\n",
    "\n",
    "names += [\"k_BonusClip\"]\n",
    "legends += [\"Uniform\"]\n",
    "\n",
    "names += [\"Prioritized_IS\"]\n",
    "legends += [\"Prioritised minus pseudo rewards IS\"]\n",
    "\n",
    "names += [\"Prioritized_MinusPseudo\"]\n",
    "legends += [\"Prioritized minus pseudo rewards\"]\n",
    "\n",
    "t_maxs += [800001 for _ in range(3)]\n",
    "    \n",
    "direc = \"/home/tabz/tmp/logfiles/MinusPseudo/\"\n",
    "env = \"Med Maze 10 Prioritized Minus PseudoReward\"\n",
    "directories = direc\n",
    "    \n",
    "print(names)\n",
    "print(t_maxs)\n",
    "print(directories)"
   ]
  },
  {
   "cell_type": "code",
   "execution_count": 34,
   "metadata": {
    "collapsed": true,
    "deletable": true,
    "editable": true
   },
   "outputs": [],
   "source": [
    "import itertools"
   ]
  },
  {
   "cell_type": "code",
   "execution_count": 35,
   "metadata": {
    "collapsed": false,
    "deletable": true,
    "editable": true
   },
   "outputs": [],
   "source": [
    "from bokeh.palettes import magma, inferno, Set1, Set3, Paired, Dark2"
   ]
  },
  {
   "cell_type": "code",
   "execution_count": 36,
   "metadata": {
    "collapsed": false,
    "deletable": true,
    "editable": true
   },
   "outputs": [],
   "source": [
    "if len(names) <= 2:\n",
    "    colours = magma(len(names))\n",
    "else:\n",
    "    colours = Set1[len(names)]"
   ]
  },
  {
   "cell_type": "code",
   "execution_count": 37,
   "metadata": {
    "collapsed": false,
    "deletable": true,
    "editable": true
   },
   "outputs": [
    {
     "data": {
      "text/html": [
       "\n",
       "\n",
       "    <div class=\"bk-root\">\n",
       "        <div class=\"bk-plotdiv\" id=\"15094958-470e-4365-9ec9-d914f620eb1f\"></div>\n",
       "    </div>\n",
       "<script type=\"text/javascript\">\n",
       "  \n",
       "  (function(global) {\n",
       "    function now() {\n",
       "      return new Date();\n",
       "    }\n",
       "  \n",
       "    var force = false;\n",
       "  \n",
       "    if (typeof (window._bokeh_onload_callbacks) === \"undefined\" || force === true) {\n",
       "      window._bokeh_onload_callbacks = [];\n",
       "      window._bokeh_is_loading = undefined;\n",
       "    }\n",
       "  \n",
       "  \n",
       "    \n",
       "    if (typeof (window._bokeh_timeout) === \"undefined\" || force === true) {\n",
       "      window._bokeh_timeout = Date.now() + 0;\n",
       "      window._bokeh_failed_load = false;\n",
       "    }\n",
       "  \n",
       "    var NB_LOAD_WARNING = {'data': {'text/html':\n",
       "       \"<div style='background-color: #fdd'>\\n\"+\n",
       "       \"<p>\\n\"+\n",
       "       \"BokehJS does not appear to have successfully loaded. If loading BokehJS from CDN, this \\n\"+\n",
       "       \"may be due to a slow or bad network connection. Possible fixes:\\n\"+\n",
       "       \"</p>\\n\"+\n",
       "       \"<ul>\\n\"+\n",
       "       \"<li>re-rerun `output_notebook()` to attempt to load from CDN again, or</li>\\n\"+\n",
       "       \"<li>use INLINE resources instead, as so:</li>\\n\"+\n",
       "       \"</ul>\\n\"+\n",
       "       \"<code>\\n\"+\n",
       "       \"from bokeh.resources import INLINE\\n\"+\n",
       "       \"output_notebook(resources=INLINE)\\n\"+\n",
       "       \"</code>\\n\"+\n",
       "       \"</div>\"}};\n",
       "  \n",
       "    function display_loaded() {\n",
       "      if (window.Bokeh !== undefined) {\n",
       "        document.getElementById(\"15094958-470e-4365-9ec9-d914f620eb1f\").textContent = \"BokehJS successfully loaded.\";\n",
       "      } else if (Date.now() < window._bokeh_timeout) {\n",
       "        setTimeout(display_loaded, 100)\n",
       "      }\n",
       "    }\n",
       "  \n",
       "    function run_callbacks() {\n",
       "      window._bokeh_onload_callbacks.forEach(function(callback) { callback() });\n",
       "      delete window._bokeh_onload_callbacks\n",
       "      console.info(\"Bokeh: all callbacks have finished\");\n",
       "    }\n",
       "  \n",
       "    function load_libs(js_urls, callback) {\n",
       "      window._bokeh_onload_callbacks.push(callback);\n",
       "      if (window._bokeh_is_loading > 0) {\n",
       "        console.log(\"Bokeh: BokehJS is being loaded, scheduling callback at\", now());\n",
       "        return null;\n",
       "      }\n",
       "      if (js_urls == null || js_urls.length === 0) {\n",
       "        run_callbacks();\n",
       "        return null;\n",
       "      }\n",
       "      console.log(\"Bokeh: BokehJS not loaded, scheduling load and callback at\", now());\n",
       "      window._bokeh_is_loading = js_urls.length;\n",
       "      for (var i = 0; i < js_urls.length; i++) {\n",
       "        var url = js_urls[i];\n",
       "        var s = document.createElement('script');\n",
       "        s.src = url;\n",
       "        s.async = false;\n",
       "        s.onreadystatechange = s.onload = function() {\n",
       "          window._bokeh_is_loading--;\n",
       "          if (window._bokeh_is_loading === 0) {\n",
       "            console.log(\"Bokeh: all BokehJS libraries loaded\");\n",
       "            run_callbacks()\n",
       "          }\n",
       "        };\n",
       "        s.onerror = function() {\n",
       "          console.warn(\"failed to load library \" + url);\n",
       "        };\n",
       "        console.log(\"Bokeh: injecting script tag for BokehJS library: \", url);\n",
       "        document.getElementsByTagName(\"head\")[0].appendChild(s);\n",
       "      }\n",
       "    };var element = document.getElementById(\"15094958-470e-4365-9ec9-d914f620eb1f\");\n",
       "    if (element == null) {\n",
       "      console.log(\"Bokeh: ERROR: autoload.js configured with elementid '15094958-470e-4365-9ec9-d914f620eb1f' but no matching script tag was found. \")\n",
       "      return false;\n",
       "    }\n",
       "  \n",
       "    var js_urls = [];\n",
       "  \n",
       "    var inline_js = [\n",
       "      function(Bokeh) {\n",
       "        (function() {\n",
       "          var fn = function() {\n",
       "            var docs_json = {\"4a5b9bb5-9392-4bf6-8774-766048bc7f20\":{\"roots\":{\"references\":[{\"attributes\":{\"plot\":{\"id\":\"ee224ec3-a7da-440f-a247-477c839ce091\",\"subtype\":\"Figure\",\"type\":\"Plot\"}},\"id\":\"79d18ceb-c8ec-4029-a11b-cbde9636c689\",\"type\":\"PanTool\"},{\"attributes\":{\"line_color\":{\"value\":\"#4daf4a\"},\"line_width\":{\"value\":2},\"x\":{\"field\":\"x\"},\"y\":{\"field\":\"y\"}},\"id\":\"79510f9d-4703-4574-bbd9-45d19c9fb935\",\"type\":\"Line\"},{\"attributes\":{},\"id\":\"7d03e3b2-97df-49c6-aa84-676b82ecbbb9\",\"type\":\"BasicTickFormatter\"},{\"attributes\":{},\"id\":\"9280146e-1b7f-4bad-b846-6b9abea1f40b\",\"type\":\"ToolEvents\"},{\"attributes\":{\"plot\":{\"id\":\"ee224ec3-a7da-440f-a247-477c839ce091\",\"subtype\":\"Figure\",\"type\":\"Plot\"}},\"id\":\"8905056c-1b65-4bfb-b7bf-499391fa335d\",\"type\":\"ResetTool\"},{\"attributes\":{\"fill_alpha\":{\"value\":0.1},\"fill_color\":{\"value\":\"#377eb8\"},\"line_alpha\":{\"value\":0.1},\"line_color\":{\"value\":\"#377eb8\"},\"x\":{\"field\":\"x\"},\"y\":{\"field\":\"y\"}},\"id\":\"1906ca57-cb2e-4a57-a73e-3caacc030bba\",\"type\":\"Patch\"},{\"attributes\":{\"axis_label\":\"Episode Reward\",\"formatter\":{\"id\":\"7d03e3b2-97df-49c6-aa84-676b82ecbbb9\",\"type\":\"BasicTickFormatter\"},\"plot\":{\"id\":\"ee224ec3-a7da-440f-a247-477c839ce091\",\"subtype\":\"Figure\",\"type\":\"Plot\"},\"ticker\":{\"id\":\"cf96eb4e-652d-4a6a-ad37-2e2841b0ef03\",\"type\":\"BasicTicker\"}},\"id\":\"4064ca67-90f0-4f30-8170-03a879aa9fa8\",\"type\":\"LinearAxis\"},{\"attributes\":{\"active_drag\":\"auto\",\"active_scroll\":\"auto\",\"active_tap\":\"auto\",\"tools\":[{\"id\":\"79d18ceb-c8ec-4029-a11b-cbde9636c689\",\"type\":\"PanTool\"},{\"id\":\"ddc0145e-5295-4502-97a1-42f7ed3648c9\",\"type\":\"WheelZoomTool\"},{\"id\":\"8f779dde-e767-4d03-920f-eb292c0bcb33\",\"type\":\"BoxZoomTool\"},{\"id\":\"d4eaeba6-f7a1-455f-9646-f77b202ddd6a\",\"type\":\"SaveTool\"},{\"id\":\"8905056c-1b65-4bfb-b7bf-499391fa335d\",\"type\":\"ResetTool\"},{\"id\":\"9df59cc6-745b-4879-9d19-b618500313af\",\"type\":\"HelpTool\"}]},\"id\":\"5847fbc5-2f9f-4a13-908e-ff5c8cddcc34\",\"type\":\"Toolbar\"},{\"attributes\":{\"callback\":null,\"column_names\":[\"x\",\"y\"],\"data\":{\"x\":[0,1000,2000,3000,4000,5000,6000,7000,8000,9000,10000,11000,12000,13000,14000,15000,16000,17000,18000,19000,20000,21000,22000,23000,24000,25000,26000,27000,28000,29000,30000,31000,32000,33000,34000,35000,36000,37000,38000,39000,40000,41000,42000,43000,44000,45000,46000,47000,48000,49000,50000,51000,52000,53000,54000,55000,56000,57000,58000,59000,60000,61000,62000,63000,64000,65000,66000,67000,68000,69000,70000,71000,72000,73000,74000,75000,76000,77000,78000,79000,80000,81000,82000,83000,84000,85000,86000,87000,88000,89000,90000,91000,92000,93000,94000,95000,96000,97000,98000,99000,100000,101000,102000,103000,104000,105000,106000,107000,108000,109000,110000,111000,112000,113000,114000,115000,116000,117000,118000,119000,120000,121000,122000,123000,124000,125000,126000,127000,128000,129000,130000,131000,132000,133000,134000,135000,136000,137000,138000,139000,140000,141000,142000,143000,144000,145000,146000,147000,148000,149000,150000,151000,152000,153000,154000,155000,156000,157000,158000,159000,160000,161000,162000,163000,164000,165000,166000,167000,168000,169000,170000,171000,172000,173000,174000,175000,176000,177000,178000,179000,180000,181000,182000,183000,184000,185000,186000,187000,188000,189000,190000,191000,192000,193000,194000,195000,196000,197000,198000,199000,200000,201000,202000,203000,204000,205000,206000,207000,208000,209000,210000,211000,212000,213000,214000,215000,216000,217000,218000,219000,220000,221000,222000,223000,224000,225000,226000,227000,228000,229000,230000,231000,232000,233000,234000,235000,236000,237000,238000,239000,240000,241000,242000,243000,244000,245000,246000,247000,248000,249000,250000,251000,252000,253000,254000,255000,256000,257000,258000,259000,260000,261000,262000,263000,264000,265000,266000,267000,268000,269000,270000,271000,272000,273000,274000,275000,276000,277000,278000,279000,280000,281000,282000,283000,284000,285000,286000,287000,288000,289000,290000,291000,292000,293000,294000,295000,296000,297000,298000,299000,300000,301000,302000,303000,304000,305000,306000,307000,308000,309000,310000,311000,312000,313000,314000,315000,316000,317000,318000,319000,320000,321000,322000,323000,324000,325000,326000,327000,328000,329000,330000,331000,332000,333000,334000,335000,336000,337000,338000,339000,340000,341000,342000,343000,344000,345000,346000,347000,348000,349000,350000,351000,352000,353000,354000,355000,356000,357000,358000,359000,360000,361000,362000,363000,364000,365000,366000,367000,368000,369000,370000,371000,372000,373000,374000,375000,376000,377000,378000,379000,380000,381000,382000,383000,384000,385000,386000,387000,388000,389000,390000,391000,392000,393000,394000,395000,396000,397000,398000,399000,400000,401000,402000,403000,404000,405000,406000,407000,408000,409000,410000,411000,412000,413000,414000,415000,416000,417000,418000,419000,420000,421000,422000,423000,424000,425000,426000,427000,428000,429000,430000,431000,432000,433000,434000,435000,436000,437000,438000,439000,440000,441000,442000,443000,444000,445000,446000,447000,448000,449000,450000,451000,452000,453000,454000,455000,456000,457000,458000,459000,460000,461000,462000,463000,464000,465000,466000,467000,468000,469000,470000,471000,472000,473000,474000,475000,476000,477000,478000,479000,480000,481000,482000,483000,484000,485000,486000,487000,488000,489000,490000,491000,492000,493000,494000,495000,496000,497000,498000,499000,500000,501000,502000,503000,504000,505000,506000,507000,508000,509000,510000,511000,512000,513000,514000,515000,516000,517000,518000,519000,520000,521000,522000,523000,524000,525000,526000,527000,528000,529000,530000,531000,532000,533000,534000,535000,536000,537000,538000,539000,540000,541000,542000,543000,544000,545000,546000,547000,548000,549000,550000,551000,552000,553000,554000,555000,556000,557000,558000,559000,560000,561000,562000,563000,564000,565000,566000,567000,568000,569000,570000,571000,572000,573000,574000,575000,576000,577000,578000,579000,580000,581000,582000,583000,584000,585000,586000,587000,588000,589000,590000,591000,592000,593000,594000,595000,596000,597000,598000,599000,600000,601000,602000,603000,604000,605000,606000,607000,608000,609000,610000,611000,612000,613000,614000,615000,616000,617000,618000,619000,620000,621000,622000,623000,624000,625000,626000,627000,628000,629000,630000,631000,632000,633000,634000,635000,636000,637000,638000,639000,640000,641000,642000,643000,644000,645000,646000,647000,648000,649000,650000,651000,652000,653000,654000,655000,656000,657000,658000,659000,660000,661000,662000,663000,664000,665000,666000,667000,668000,669000,670000,671000,672000,673000,674000,675000,676000,677000,678000,679000,680000,681000,682000,683000,684000,685000,686000,687000,688000,689000,690000,691000,692000,693000,694000,695000,696000,697000,698000,699000,700000,701000,702000,703000,704000,705000,706000,707000,708000,709000,710000,711000,712000,713000,714000,715000,716000,717000,718000,719000,720000,721000,722000,723000,724000,725000,726000,727000,728000,729000,730000,731000,732000,733000,734000,735000,736000,737000,738000,739000,740000,741000,742000,743000,744000,745000,746000,747000,748000,749000,750000,751000,752000,753000,754000,755000,756000,757000,758000,759000,760000,761000,762000,763000,764000,765000,766000,767000,768000,769000,770000,771000,772000,773000,774000,775000,776000,777000,778000,779000,780000,781000,782000,783000,784000,785000,786000,787000,788000,789000,790000,791000,792000,793000,794000,795000,796000,797000,798000,799000,800000,800000,799000,798000,797000,796000,795000,794000,793000,792000,791000,790000,789000,788000,787000,786000,785000,784000,783000,782000,781000,780000,779000,778000,777000,776000,775000,774000,773000,772000,771000,770000,769000,768000,767000,766000,765000,764000,763000,762000,761000,760000,759000,758000,757000,756000,755000,754000,753000,752000,751000,750000,749000,748000,747000,746000,745000,744000,743000,742000,741000,740000,739000,738000,737000,736000,735000,734000,733000,732000,731000,730000,729000,728000,727000,726000,725000,724000,723000,722000,721000,720000,719000,718000,717000,716000,715000,714000,713000,712000,711000,710000,709000,708000,707000,706000,705000,704000,703000,702000,701000,700000,699000,698000,697000,696000,695000,694000,693000,692000,691000,690000,689000,688000,687000,686000,685000,684000,683000,682000,681000,680000,679000,678000,677000,676000,675000,674000,673000,672000,671000,670000,669000,668000,667000,666000,665000,664000,663000,662000,661000,660000,659000,658000,657000,656000,655000,654000,653000,652000,651000,650000,649000,648000,647000,646000,645000,644000,643000,642000,641000,640000,639000,638000,637000,636000,635000,634000,633000,632000,631000,630000,629000,628000,627000,626000,625000,624000,623000,622000,621000,620000,619000,618000,617000,616000,615000,614000,613000,612000,611000,610000,609000,608000,607000,606000,605000,604000,603000,602000,601000,600000,599000,598000,597000,596000,595000,594000,593000,592000,591000,590000,589000,588000,587000,586000,585000,584000,583000,582000,581000,580000,579000,578000,577000,576000,575000,574000,573000,572000,571000,570000,569000,568000,567000,566000,565000,564000,563000,562000,561000,560000,559000,558000,557000,556000,555000,554000,553000,552000,551000,550000,549000,548000,547000,546000,545000,544000,543000,542000,541000,540000,539000,538000,537000,536000,535000,534000,533000,532000,531000,530000,529000,528000,527000,526000,525000,524000,523000,522000,521000,520000,519000,518000,517000,516000,515000,514000,513000,512000,511000,510000,509000,508000,507000,506000,505000,504000,503000,502000,501000,500000,499000,498000,497000,496000,495000,494000,493000,492000,491000,490000,489000,488000,487000,486000,485000,484000,483000,482000,481000,480000,479000,478000,477000,476000,475000,474000,473000,472000,471000,470000,469000,468000,467000,466000,465000,464000,463000,462000,461000,460000,459000,458000,457000,456000,455000,454000,453000,452000,451000,450000,449000,448000,447000,446000,445000,444000,443000,442000,441000,440000,439000,438000,437000,436000,435000,434000,433000,432000,431000,430000,429000,428000,427000,426000,425000,424000,423000,422000,421000,420000,419000,418000,417000,416000,415000,414000,413000,412000,411000,410000,409000,408000,407000,406000,405000,404000,403000,402000,401000,400000,399000,398000,397000,396000,395000,394000,393000,392000,391000,390000,389000,388000,387000,386000,385000,384000,383000,382000,381000,380000,379000,378000,377000,376000,375000,374000,373000,372000,371000,370000,369000,368000,367000,366000,365000,364000,363000,362000,361000,360000,359000,358000,357000,356000,355000,354000,353000,352000,351000,350000,349000,348000,347000,346000,345000,344000,343000,342000,341000,340000,339000,338000,337000,336000,335000,334000,333000,332000,331000,330000,329000,328000,327000,326000,325000,324000,323000,322000,321000,320000,319000,318000,317000,316000,315000,314000,313000,312000,311000,310000,309000,308000,307000,306000,305000,304000,303000,302000,301000,300000,299000,298000,297000,296000,295000,294000,293000,292000,291000,290000,289000,288000,287000,286000,285000,284000,283000,282000,281000,280000,279000,278000,277000,276000,275000,274000,273000,272000,271000,270000,269000,268000,267000,266000,265000,264000,263000,262000,261000,260000,259000,258000,257000,256000,255000,254000,253000,252000,251000,250000,249000,248000,247000,246000,245000,244000,243000,242000,241000,240000,239000,238000,237000,236000,235000,234000,233000,232000,231000,230000,229000,228000,227000,226000,225000,224000,223000,222000,221000,220000,219000,218000,217000,216000,215000,214000,213000,212000,211000,210000,209000,208000,207000,206000,205000,204000,203000,202000,201000,200000,199000,198000,197000,196000,195000,194000,193000,192000,191000,190000,189000,188000,187000,186000,185000,184000,183000,182000,181000,180000,179000,178000,177000,176000,175000,174000,173000,172000,171000,170000,169000,168000,167000,166000,165000,164000,163000,162000,161000,160000,159000,158000,157000,156000,155000,154000,153000,152000,151000,150000,149000,148000,147000,146000,145000,144000,143000,142000,141000,140000,139000,138000,137000,136000,135000,134000,133000,132000,131000,130000,129000,128000,127000,126000,125000,124000,123000,122000,121000,120000,119000,118000,117000,116000,115000,114000,113000,112000,111000,110000,109000,108000,107000,106000,105000,104000,103000,102000,101000,100000,99000,98000,97000,96000,95000,94000,93000,92000,91000,90000,89000,88000,87000,86000,85000,84000,83000,82000,81000,80000,79000,78000,77000,76000,75000,74000,73000,72000,71000,70000,69000,68000,67000,66000,65000,64000,63000,62000,61000,60000,59000,58000,57000,56000,55000,54000,53000,52000,51000,50000,49000,48000,47000,46000,45000,44000,43000,42000,41000,40000,39000,38000,37000,36000,35000,34000,33000,32000,31000,30000,29000,28000,27000,26000,25000,24000,23000,22000,21000,20000,19000,18000,17000,16000,15000,14000,13000,12000,11000,10000,9000,8000,7000,6000,5000,4000,3000,2000,1000,0],\"y\":{\"__ndarray__\":\"AAAAAAAAAAAAAAAAAAAAAAAAAAAAAAAAAAAAAAAAAAAAAAAAAAAAAAAAAAAAAAAAAAAAAAAAAAAAAAAAAAAAAAAAAAAAAAAAAAAAAAAAAAAAAAAAAAAAAAAAAAAAAAAAAAAAAAAAAAAAAAAAAAAAAAAAAAAAAAAAAAAAAAAAAAAAAAAAAAAAAAAAAAAAAAAAAAAAAAAAAAAAAAAAAAAAAAAAAAAAAAAAAAAAAAAAAAAAAAAAAAAAAAAAAAAAAAAAAAAAAAAAAAAAAAAAAAAAAAAAAAAAAAAAAAAAAAAAAAAAAAAAAAAAAAAAAAAAAAAAAAAAAAAAAAAAAAAAAAAAAAAAAAAAAAAAAAAAAAAAAAAAAAAAAAAAAAAAAAAAAAAAAAAAAAAAAAAAAAAAAAAAAAAAAAAAAAAAAAAAAAAAAAAAAAAAAAAAAAAAAAAAAAAAAAAAAAAAAAAAAAAAAAAAAAAAAAAAAAAAAAAAAAAAAAAAAAAAAAAAAAAAAAAAAAAAAAAAAAAAAAAAAAAAAAAAAAAAAAAAAAAAAAAAAAAAAAAAAAAAAAAAAAAAAAAAAAAAAAAAAAAAAAAAAAAAAAAAAAAAAAAAAAAAAAAAAAAAAAAAAAAAAAAAAAAAAAAAAAAAAAAAAAAAAAAAAAAAAAAAAAAAAAAAAAAAAAAAAAAAAAAAAAAAAAAAAAAAAAAAAAAAAAAAAAAAAAAAAAAAAAAAAAAAAAAAAAAAAAAAAAAAAAAAAAAAAAAAAAAAAAAAAAAAAAAAAAAAAAAAAAAAAAAAAAAAAAAAAAAAAAAAAAAAAAAAAAAAAAAAAAAAAAAAAAAAAAAAAAAAAAAAAAAAAAAAAAAAAAAAAAAAAAAAAAAAAAAAAAAAAAAAAAAAAAAAAAAAAAAAAAAAAAAAAAAAAAAAAAAAAAAAAAAAAAAAAAAAAAAAAAAAAAAAAAAAAAAAAAAAAAAAAAAAAAAAAAAAAAAAAAAAAAAAAAAAAAAAAAAAAAAAAAAAAAAAAAAAAAAAAAAAAAAAAAAAAAAAAAAAAAAAAAAAAAAAAAAAAAAAAAAAAAAAAAAAAAAAAAAAAAAAAAAAAAAAAAAAAAAAAAAAAAAAAAAAAAAAAAAAAAAAAAAAAAAAAAAAAAAAAAAAAAAAAAAAAAAAAAAAAAAAAAAAAAAAAAAAAAAAAAAAAAAAAAAAAAAAAAAAAAAAAAAAAAAAAAAAAAAAAAAAAAAAAAAAAAAAAAAAAAAAAAAAAAAAAAAAAAAAAAAAAAAAAAAAAAAAAAAAAAAAAAAAAAAAAAAAAAAAAAAAAAAAAAAAAAAAAAAAAAAAAAAAAAAAAAAAAAAAAAAAAAAAAAAAAAAAAAAAAAAAAAAAAAAAAAAAAAAAAAAAAAAAAAAAAAAAAAAAAAAAAAAAAAAAAAAAAAAAAAAAAAAAAAAAAAAAAAAAAAAAAAAAAAAAAAAAAAAAAAAAAAAAAAAAAAAAAAAAAAAAAAAAAAAAAAAAAAAAAAAAAAAAAAAAAAAAAAAAAAAAAAAAAAAAAAAAAAAAAAAAAAAAAAAAAAAAAAAAAAAAAAAAAAAAAAAAAAAAAAAAAAAAAAAAAAAAAAAAAAAAAAAAAAAAAAAAAAAAAAAAAAAAAAAAAAAAAAAAAAAAAAAAAAAAAAAAAAAAAAAAAAAAAAAAAAAAAAAAAAAAAAAAAAAAAAAAAAAAAAAAAAAAAAAAAAAAAAAAAAAAAAAAAAAAAAAAAAAAAAAAAAAAAAAAAAAAAAAAAAAAAAAAAAAAAAAAAAAAAAAAAAAAAAAAAAAAAAAAAAAAAAAAAAAAAAAAAAAAAAAAAAAAAAAAAAAAAAAAAAAAAAAAAAAAAAAAAAAAAAAAAAAAAAAAAAAAAAAAAAAAAAAAAAAAAAAAAAAAAAAAAAAAAAAAAAAAAAAAAAAAAAAAAAAAAAAAAAAAAAAAAAAAAAAAAAAAAAAAAAAAAAAAAAAAAAAAAAAAAAAAAAAAAAAAAAAAAAAAAAAAAAAAAAAAAAAAAAAAAAAAAAAAAAAAAAAAAAAAAAAAAAAAAAAAAAAAAAAAAAAAAAAAAAAAAAAAAAAAAAAAAAAAAAAAAAAAAAAAAAAAAAAAAAAAAAAAAAAAAAAAAAAAAAAAAAAAAAAAAAAAAAAAAAAAAAAAAAAAAAAAAAAAAAAAAAAAAAAAAAAAAAAAAAAAAAAAAAAAAAAAAAAAAAAAAAAAAAAAAAAAAAAAAAAAAAAAAAAAAAAAAAAAAAAAAAAAAAAAAAAAAAAAAAAAAAAAAAAAAAAAAAAAAAAAAAAAAAAAAAAAAAAAAAAAAAAAAAAAAAAAAAAAAAAAAAAAAAAAAAAAAAAAAAAAAAAAAAAAAAAAAAAAAAAAAAAAAAAAAAAAAAAAAAAAAAAAAAAAAAAAAAAAAAAAAAAAAAAAAAAAAAAAAAAAAAAAAAAAAAAAAAAAAAAAAAAAAAAAAAAAAAAAAAAAAAAAAAAAAAAAAAAAAAAAAAAAAAAAAAAAAAAAAAAAAAAAAAAAAAAAAAAAAAAAAAAAAAAAAAAAAAAAAAAAAAAAAAAAAAAAAAAAAAAAAAAAAAAAAAAAAAAAAAAAAAAAAAAAAAAAAAAAAAAAAAAAAAAAAAAAAAAAAAAAAAAAAAAAAAAAAAAAAAAAAAAAAAAAAAAAAAAAAAAAAAAAAAAAAAAAAAAAAAAAAAAAAAAAAAAAAAAAAAAAAAAAAAAAAAAAAAAAAAAAAAAAAAAAAAAAAAAAAAAAAAAAAAAAAAAAAAAAAAAAAAAAAAAAAAAAAAAAAAAAAAAAAAAAAAAAABQB0/rY5oa/z0AevCItob9cwYc5j6Csv/OgeNv9CbS/OGEtGrTDub9+IeJYan2/v99wy0uQm8K/BNEla2t4xb/9tAeX4NTGv1RCQdge9cS/qM96GV0Vw7/9XLRamzXBv6LU2zezq76/TO9Oui/sur/3CcI8rCy3v6IkNb8obbO/nH5Qg0pbr7/wszaIQ9ynv0bpHI08XaC/ND0GJGu8kb/7PpVu6fJlv5qwnr2Atp+/AsvdI96hsb/a6VMYHFa7v1oEZQYthcK/yROgAExfx79UmbDQ9WzHv1SZsND1bMe/VJmw0PVsx79UmbDQ9WzHv1SZsND1bMe/VJmw0PVsx79UmbDQ9WzHv1SZsND1bMe/VJmw0PVsx79UmbDQ9WzHv1SZsND1bMe/VJmw0PVsx79UmbDQ9WzHv1SZsND1bMe/VZmw0PVsx79UmbDQ9WzHv1WZsND1bMe/VJmw0PVsx79UmbDQ9WzHv1SZsND1bMe/VJmw0PVsx79UmbDQ9WzHv1SZsND1bMe/VJmw0PVsx79UmbDQ9WzHv1SZsND1bMe/VJmw0PVsx79UmbDQ9WzHv1SZsND1bMe/VZmw0PVsx79VmbDQ9WzHv1WZsND1bMe/VJmw0PVsx79UmbDQ9WzHv1SZsND1bMe/VJmw0PVsx79UmbDQ9WzHv5DiWO1BE8G/6FqFv/hzt7+YX2jJ1MCtv9Dq1peQ1aC/wA/3f+eYj7/AM8ORES50vwBQbNrP0zi/AAAAAAAAAAAAAAAAAAAAAAAAAAAAAAAAAAAAAAAAAAAAAAAAAAAAAAAAAAAAAAAAAAAAAAAAAAAAAAAAAAAAAADEPfNwXkW/gKre5lAoab9A+FKRSJ5+v+A0VtC61Iy/YMfHXeOjl79gIdRABMOhv2i42fM9Ham/rK9NH8r3sL+8GReY1iC2v5gohf2LCby/5oCsK9ZWwb+sv+AYsQLFv6Q6cdQuKcW/bFxBo02kv7+4q+OrAYm2v3BGY6rfI66/mEwlkCp7or9w6mmHK9+Tv2CdQUaU74C/gA3G3dGkYL8AANLYaRnKvgAAAAAAAJA8AAAAAAAAAAAAAAAAAAAAAAAAAAAAAAAAAAAAAAAAkDwAAAAAAACQPAAAAAAAAJA8AAAAAAAAAAAAAAAAAACQPAAAAAAAAAAAAAAAAAAAkDwAAAAAAACQPAAAAAAAAAAAAAAAAAAAAAAAAAAAAACQPAAAAAAAAAAAAAAAAAAAkDwAAAAAAAAAAAAAAAAAAAAAAAAAAAAAAAAAAAAAAAAAAAAAAAAAAAAAAAAAAAAAAAAAAAAAAAAAAAAAAAAAAAAAAAAAAAAAAAAAAAAAAAAAAAAAAAAAAAAAAAAAAAAAAAAAAAAAAAAAAAAAAAAAAAAAAAAAAAAAAAAAAAAAAAAAAAAAAAAAAAAAAAAAAAAAAAAAAAAAAAAAAAAAAAAAAAAAAAAAAAAAAAAAAAAAAACQPAAAAAAAAJA8AAAAAAAAAAAAAAAAAAAAAAAAAAAAAJA8AAAAAAAAAAAAAAAAAAAAAAAAAAAAAAAAAAAAAAAAAAAAAAAAAAAAAAAAAAAAAAAAAAAAAAAAAAAAAAAAAAAAAAAAAAAAAAAAAAAAAAAAAAAAAAAAAAAAAAAAAAAAAAAAAAAAAAAAAAAAAAAAAAAAAAAAAAAAAAAAAAAAAAAAkDwAAAAAAACQPAAAAAAAAAAAAAAAAAAAAAAAAAAAAAAAAAAAAAAAAAAA6HJDKzP+qT9QvpyWMC65PzR6ufI+N8I/KGQMutpQxz+Wt57ge9bLP9q79Ekbvs8/eu8kQE+B0T/XnbJQWdLSP23EeUJX1dM/a1+ZGnEL1D+vhYyETFrTPxff/MK4fNI/8sGSf5lw0T+5mot6sDTQP9BBvPd6kc0/SMK++wlbyj/oxpMHeMnGP4wRnXi74cI/MAICus9TvT84fTFvcVG0P2hcfveblKU/AGWcBeCEaT+4UFYStKevP6RJDopVj78/joSzE0DDxj84FO6u77vMP/7jyVh/zdA/aob+Ksys0j8bailqYwHUP0TuoX0l29M/UP1m6wYd0z/Vua2mwzHSP7M6Yu58F9E/TImD1nuazz94jCRBKabMP5rRg+4gVMk/wjPpdE2oxT/AzEh2BqjBP2AWVjQ7s7o/gPJZDdaHsT9AD0biQm+fP0A3K/9xCos/kHKsf2wfsj98+qzc97W/P1AUg06g+sU/pJjg469Yyz9Qm2OEfuTPP0LlTNnwytE/PoX1x3030z9VqLu+3z3UP1azpxeFSdQ/VrOnF4VJ1D9Ws6cXhUnUP1azpxeFSdQ/VrOnF4VJ1D9Ws6cXhUnUP1azpxeFSdQ/VrOnF4VJ1D9Ws6cXhUnUP1azpxeFSdQ/VrOnF4VJ1D9Ws6cXhUnUP1azpxeFSdQ/VrOnF4VJ1D9Ws6cXhUnUP1azpxeFSdQ/VrOnF4VJ1D9Ws6cXhUnUP1azpxeFSdQ/VrOnF4VJ1D9Ws6cXhUnUP1azpxeFSdQ/VrOnF4VJ1D9Ws6cXhUnUP1azpxeFSdQ/VrOnF4VJ1D9Ws6cXhUnUP1azpxeFSdQ/VrOnF4VJ1D9Ws6cXhUnUP1azpxeFSdQ/VrOnF4VJ1D9Ws6cXhUnUP1azpxeFSdQ/VrOnF4VJ1D9Ws6cXhUnUP1azpxeFSdQ/Ofux0GHj1j8Ci8ZCGxfcP2WNbVpqpeA/SNV3E0c/4z8sHYLMI9nlPxBljIUAc+g/9KyWPt0M6z/Z9KD3uabtPwAAAAAAAPA/AAAAAAAA8D8AAAAAAADwPwAAAAAAAPA/AAAAAAAA8D8AAAAAAADwPwAAAAAAAPA/AAAAAAAA8D8AAAAAAADwPwAAAAAAAPA/AAAAAAAA8D8AAAAAAADwPwAAAAAAAPA/AAAAAAAA8D8AAAAAAADwPwAAAAAAAPA/AAAAAAAA8D8AAAAAAADwPwAAAAAAAPA/AAAAAAAA8D8AAAAAAADwP////////+8/AAAAAAAA8D8AAAAAAADwPwAAAAAAAPA/AAAAAAAA8D8AAAAAAADwPwAAAAAAAPA/AAAAAAAA8D8AAAAAAADwPwAAAAAAAPA/AAAAAAAA8D8AAAAAAADwPwAAAAAAAPA/AAAAAAAA8D8AAAAAAADwPwAAAAAAAPA/AAAAAAAA8D8AAAAAAADwPwAAAAAAAPA/AAAAAAAA8D8AAAAAAADwP////////+8/AAAAAAAA8D8AAAAAAADwPwAAAAAAAPA/AAAAAAAA8D8AAAAAAADwPwAAAAAAAPA/AAAAAAAA8D8AAAAAAADwPwAAAAAAAPA/AAAAAAAA8D8AAAAAAADwPwAAAAAAAPA/AAAAAAAA8D8AAAAAAADwPwAAAAAAAPA/AAAAAAAA8D8AAAAAAADwPwAAAAAAAPA/AAAAAAAA8D8AAAAAAADwPwAAAAAAAPA/AAAAAAAA8D8AAAAAAADwPwAAAAAAAPA/////////7z/////////vPwAAAAAAAPA/AAAAAAAA8D8AAAAAAADwPwAAAAAAAPA/////////7z/////////vPwAAAAAAAPA/AAAAAAAA8D8AAAAAAADwPwAAAAAAAPA/AAAAAAAA8D/////////vP////////+8/AAAAAAAA8D8AAAAAAADwPwAAAAAAAPA/AAAAAAAA8D8AAAAAAADwPwAAAAAAAPA/AAAAAAAA8D8AAAAAAADwPwAAAAAAAPA/AAAAAAAA8D8AAAAAAADwPwAAAAAAAPA/AAAAAAAA8D8AAAAAAADwPwAAAAAAAPA/AAAAAAAA8D8AAAAAAADwPwAAAAAAAPA/AAAAAAAA8D8AAAAAAADwP////////+8/AAAAAAAA8D8AAAAAAADwP////////+8/////////7z8AAAAAAADwPwAAAAAAAPA/AAAAAAAA8D8AAAAAAADwPwAAAAAAAPA/AAAAAAAA8D8AAAAAAADwPwAAAAAAAPA/AAAAAAAA8D/////////vPwAAAAAAAPA/AAAAAAAA8D8AAAAAAADwPwAAAAAAAPA/AAAAAAAA8D8AAAAAAADwP////////+8/AAAAAAAA8D8AAAAAAADwPwAAAAAAAPA/AAAAAAAA8D8AAAAAAADwPwAAAAAAAPA/AAAAAAAA8D8AAAAAAADwPwAAAAAAAPA/AAAAAAAA8D8AAAAAAADwPwAAAAAAAPA/AAAAAAAA8D8AAAAAAADwPwAAAAAAAPA/AAAAAAAA8D8AAAAAAADwPwAAAAAAAPA/AAAAAAAA8D8AAAAAAADwPwAAAAAAAPA/AAAAAAAA8D8AAAAAAADwPwAAAAAAAPA/AAAAAAAA8D8AAAAAAADwPwAAAAAAAPA/AAAAAAAA8D8AAAAAAADwPwAAAAAAAPA/AAAAAAAA8D8AAAAAAADwPwAAAAAAAPA/AAAAAAAA8D8AAAAAAADwPwAAAAAAAPA/AAAAAAAA8D8AAAAAAADwPwAAAAAAAPA/AAAAAAAA8D8AAAAAAADwPwAAAAAAAPA/AAAAAAAA8D8AAAAAAADwPwAAAAAAAPA/AAAAAAAA8D/////////vPwAAAAAAAPA/AAAAAAAA8D8AAAAAAADwPwAAAAAAAPA/AAAAAAAA8D8AAAAAAADwPwAAAAAAAPA/AAAAAAAA8D8AAAAAAADwPwAAAAAAAPA/AAAAAAAA8D8AAAAAAADwPwAAAAAAAPA/AAAAAAAA8D8AAAAAAADwPwAAAAAAAPA/AAAAAAAA8D8AAAAAAADwPwAAAAAAAPA/AAAAAAAA8D8AAAAAAADwP////////+8/////////7z8AAAAAAADwP////////+8/AAAAAAAA8D8AAAAAAADwP////////+8/////////7z8AAAAAAADwPwAAAAAAAPA/AAAAAAAA8D/////////vPwAAAAAAAPA/////////7z8AAAAAAADwPwAAAAAAAPA/AAAAAAAA8D8AAAAAAADwPwAAAAAAAPA/////////7z8AAAAAAADwPwAAAAAAAPA/AAAAAAAA8D/////////vPwAAAAAAAPA/////////7z8AAAAAAADwPwAAAAAAAPA/AAAAAAAA8D8AAAAAAADwPwAAAAAAAPA/AAAAAAAA8D8AAAAAAADwPwAAAAAAAPA/AAAAAAAA8D8AAAAAAADwPwAAAAAAAPA/AAAAAAAA8D8AAAAAAADwP////////+8/AAAAAAAA8D8AAAAAAADwPwAAAAAAAPA/AAAAAAAA8D8AAAAAAADwPwAAAAAAAPA/AAAAAAAA8D8AAAAAAADwPwAAAAAAAPA/AAAAAAAA8D8AAAAAAADwPwAAAAAAAPA/AAAAAAAA8D8AAAAAAADwPwAAAAAAAPA/AAAAAAAA8D8AAAAAAADwPwAAAAAAAPA/AAAAAAAA8D8AAAAAAADwPwAAAAAAAPA/AAAAAAAA8D8AAAAAAADwPwAAAAAAAPA/AAAAAAAA8D8AAAAAAADwPwAAAAAAAPA/AAAAAAAA8D8AAAAAAADwPwAAAAAAAPA/AAAAAAAA8D8AAAAAAADwPwAAAAAAAPA/AAAAAAAA8D/////////vPwAAAAAAAPA/AAAAAAAA8D8AAAAAAADwPwAAAAAAAPA/AAAAAAAA8D8AAAAAAADwPwAAAAAAAPA/AAAAAAAA8D8AAAAAAADwP/7//////+8/////////7z8AAAAAAADwPwAAAAAAAPA/AAAAAAAA8D8AAAAAAADwPwAAAAAAAPA/AQAAAAAA8D8AAAAAAADwPwAAAAAAAPA/AAAAAAAA8D8AAAAAAADwPwAAAAAAAPA/AAAAAAAA8D8AAAAAAADwPwAAAAAAAPA/AAAAAAAA8D8AAAAAAADwPwAAAAAAAPA/AAAAAAAA8D8AAAAAAADwPwAAAAAAAPA/AAAAAAAA8D8AAAAAAADwPwAAAAAAAPA/AAAAAAAA8D8AAAAAAADwPwAAAAAAAPA/AAAAAAAA8D8AAAAAAADwPwAAAAAAAPA/AAAAAAAA8D8AAAAAAADwPwAAAAAAAPA/AAAAAAAA8D8AAAAAAADwPwAAAAAAAPA/AAAAAAAA8D8AAAAAAADwPwAAAAAAAPA/AAAAAAAA8D8AAAAAAADwPwAAAAAAAPA/AAAAAAAA8D8AAAAAAADwPwAAAAAAAPA/AAAAAAAA8D8AAAAAAADwPwAAAAAAAPA/AAAAAAAA8D8AAAAAAADwPwAAAAAAAPA/AAAAAAAA8D8AAAAAAADwPwAAAAAAAPA/AAAAAAAA8D8AAAAAAADwPwAAAAAAAPA/AAAAAAAA8D8AAAAAAADwPwAAAAAAAPA/AAAAAAAA8D8AAAAAAADwPwAAAAAAAPA/AAAAAAAA8D8AAAAAAADwPwAAAAAAAPA/AAAAAAAA8D8AAAAAAADwPwAAAAAAAPA/AAAAAAAA8D8AAAAAAADwPwAAAAAAAPA/AAAAAAAA8D8AAAAAAADwPwAAAAAAAPA/AAAAAAAA8D8AAAAAAADwPwAAAAAAAPA/AAAAAAAA8D8AAAAAAADwPwAAAAAAAPA/AAAAAAAA8D8AAAAAAADwPwAAAAAAAPA/AAAAAAAA8D8AAAAAAADwPwAAAAAAAPA/AAAAAAAA8D8AAAAAAADwPwAAAAAAAPA/AAAAAAAA8D8AAAAAAADwPwAAAAAAAPA/AAAAAAAA8D8AAAAAAADwPwAAAAAAAPA/AAAAAAAA8D8AAAAAAADwPwAAAAAAAPA/AAAAAAAA8D8AAAAAAADwPwAAAAAAAPA/AAAAAAAA8D8AAAAAAADwPwAAAAAAAPA/AAAAAAAA8D8AAAAAAADwPwAAAAAAAPA/AAAAAAAA8D8AAAAAAADwPwAAAAAAAPA/AAAAAAAA8D8AAAAAAADwPwAAAAAAAPA/AAAAAAAA8D8AAAAAAADwPwAAAAAAAPA/AAAAAAAA8D8AAAAAAADwPwAAAAAAAPA/AAAAAAAA8D8AAAAAAADwPwAAAAAAAPA/AAAAAAAA8D8AAAAAAADwPwAAAAAAAPA/AAAAAAAA8D8AAAAAAADwPwAAAAAAAPA/AAAAAAAA8D8AAAAAAADwPwAAAAAAAPA/AAAAAAAA8D8AAAAAAADwPwAAAAAAAPA/AAAAAAAA8D8AAAAAAADwPwAAAAAAAPA/AAAAAAAA8D8AAAAAAADwPwAAAAAAAPA/AAAAAAAA8D8AAAAAAADwPwAAAAAAAPA/AAAAAAAA8D8AAAAAAADwPwAAAAAAAPA/AAAAAAAA8D8AAAAAAADwPwAAAAAAAPA/AAAAAAAA8D8AAAAAAADwPwAAAAAAAPA/AAAAAAAA8D8AAAAAAADwPwAAAAAAAPA/AAAAAAAA8D8AAAAAAADwPwAAAAAAAPA/AAAAAAAA8D8AAAAAAADwPwAAAAAAAPA/AAAAAAAA8D8AAAAAAADwPwAAAAAAAPA/AAAAAAAA8D8AAAAAAADwPwAAAAAAAPA/AAAAAAAA8D8AAAAAAADwPwAAAAAAAPA/AAAAAAAA8D8AAAAAAADwPwAAAAAAAPA/AAAAAAAA8D8AAAAAAADwPwAAAAAAAPA/AQAAAAAA8D8AAAAAAADwPwAAAAAAAPA/AAAAAAAA8D8AAAAAAADwPwAAAAAAAPA/AAAAAAAA8D8AAAAAAADwPwAAAAAAAPA/AAAAAAAA8D8AAAAAAADwPwAAAAAAAPA/AAAAAAAA8D8AAAAAAADwPwAAAAAAAPA/AAAAAAAA8D8AAAAAAADwPwAAAAAAAPA/AAAAAAAA8D8AAAAAAADwPwAAAAAAAPA/AAAAAAAA8D8AAAAAAADwPwAAAAAAAPA/AAAAAAAA8D8AAAAAAADwPwAAAAAAAPA/AAAAAAAA8D8AAAAAAADwPwAAAAAAAPA/AAAAAAAA8D8AAAAAAADwPwAAAAAAAPA/AAAAAAAA8D8AAAAAAADwPwAAAAAAAPA/AAAAAAAA8D8AAAAAAADwPwAAAAAAAPA/AAAAAAAA8D8AAAAAAADwPwAAAAAAAPA/AAAAAAAA8D8AAAAAAADwPwAAAAAAAPA/AAAAAAAA8D8AAAAAAADwPwAAAAAAAPA/AAAAAAAA8D8AAAAAAADwPwAAAAAAAPA/AAAAAAAA8D8AAAAAAADwPwAAAAAAAPA/AAAAAAAA8D8AAAAAAADwPwAAAAAAAPA/AAAAAAAA8D8AAAAAAADwPwAAAAAAAPA/AAAAAAAA8D8AAAAAAADwPwAAAAAAAPA/AAAAAAAA8D8AAAAAAADwPwAAAAAAAPA/AAAAAAAA8D8AAAAAAADwPwAAAAAAAPA/AAAAAAAA8D8AAAAAAADwPwAAAAAAAPA/AAAAAAAA8D8AAAAAAADwPwAAAAAAAPA/AAAAAAAA8D8AAAAAAADwPwAAAAAAAPA/AAAAAAAA8D8AAAAAAADwPwAAAAAAAPA/AAAAAAAA8D8AAAAAAADwPwAAAAAAAPA/AAAAAAAA8D8AAAAAAADwPwAAAAAAAPA/AAAAAAAA8D8AAAAAAADwPwAAAAAAAPA/AAAAAAAA8D8AAAAAAADwPwAAAAAAAPA/AAAAAAAA8D8AAAAAAADwPwAAAAAAAPA/AAAAAAAA8D8AAAAAAADwPwAAAAAAAPA/AAAAAAAA8D8AAAAAAADwPwAAAAAAAPA/AAAAAAAA8D8AAAAAAADwPwAAAAAAAPA/AAAAAAAA8D9nhpYtjlDwPxqIp5XDqfA/zom4/fgC8T+Ci8llLlzxPzaN2s1jtfE/6o7rNZkO8j+ekPydzmfyP1GSDQYEwfI/KhMWup7t8j8qExa6nu3yPyoTFrqe7fI/KhMWup7t8j8qExa6nu3yPyoTFrqe7fI/KhMWup7t8j8qExa6nu3yPyoTFrqe7fI/KhMWup7t8j8qExa6nu3yPyoTFrqe7fI/KhMWup7t8j8qExa6nu3yPyoTFrqe7fI/KhMWup7t8j8qExa6nu3yPyoTFrqe7fI/KhMWup7t8j8qExa6nu3yPyoTFrqe7fI/KhMWup7t8j8qExa6nu3yPyoTFrqe7fI/KhMWup7t8j8qExa6nu3yPyoTFrqe7fI/KhMWup7t8j8qExa6nu3yPyoTFrqe7fI/KhMWup7t8j8qExa6nu3yPyoTFrqe7fI/KhMWup7t8j8qExa6nu3yPyoTFrqe7fI/KhMWup7t8j9FrL1e6+LyPxJXa8sFLfI/GqER9qqQ8T8HidRKWQ/xP2QL4Q1VqfA/992I75hd8D/gkopqDyrwP2e9Vg/6C/A/KlBP4l0A8D+LEbGGDgLwP0T7oTslC/A/qalv80Uc8D8bYiniTzbwP9/FkgweWvA/x+Kcp3qI8D8PPIanEMLwPxjNF19dB/E/OSCNqKRY8T8VsbcE6rXxP9rQxj3wHvI/QYV1oz+T8j/n8KDUB7DyP4BJBhbQ6PE/xhEuvEVE8T/qZx0OysPwP4pZH3OCZvA/LoWPjpcp8D/uVji48QjwP2KcnB4FAPA/VeggufkD8D8INCeMXg/wP12ct7EPI/A/8oqBSOw/8D/qJODAy2bwPyI2mIxwmPA/1fZVd3nV8D8FCejBUx7xP9qv44owc/E/NJlGxP/T8T8yICDecUDyP2da2sL/t/I/tsoeLBOP8j8L49Dh//nxP1KdNJ9vePE/ZpA/Py0L8T+en6plTrLwP7s4vcMvbfA/quTndZA68D+7lhWEwhjwP7mVZS3hBfA/AAAAAAAA8D8AAAAAAADwPwAAAAAAAPA/AAAAAAAA8D8AAAAAAADwPwAAAAAAAPA/AAAAAAAA8D8AAAAAAADwPwAAAAAAAPA/AAAAAAAA8D8AAAAAAADwPwAAAAAAAPA/AAAAAAAA8D8AAAAAAADwPwAAAAAAAPA/AAAAAAAA8D8AAAAAAADwPwAAAAAAAPA/AAAAAAAA8D8AAAAAAADwPwAAAAAAAPA/AAAAAAAA8D8AAAAAAADwPwAAAAAAAPA/AAAAAAAA8D8AAAAAAADwPwAAAAAAAPA/AAAAAAAA8D8AAAAAAADwPwAAAAAAAPA/AAAAAAAA8D8AAAAAAADwPwAAAAAAAPA/AAAAAAAA8D8AAAAAAADwPwAAAAAAAPA/AAAAAAAA8D8AAAAAAADwPwAAAAAAAPA/AAAAAAAA8D8AAAAAAADwPwAAAAAAAPA/AAAAAAAA8D8AAAAAAADwPwAAAAAAAPA/AAAAAAAA8D8AAAAAAADwPwAAAAAAAPA/AAAAAAAA8D8AAAAAAADwPwAAAAAAAPA/AAAAAAAA8D8AAAAAAADwPwAAAAAAAPA/AAAAAAAA8D8AAAAAAADwPwAAAAAAAPA/AAAAAAAA8D8AAAAAAADwPwAAAAAAAPA/AAAAAAAA8D8AAAAAAADwPwAAAAAAAPA/AAAAAAAA8D+ontaunevvP5JoO/tKFu4/DCNYe3Nj7D/45VuHvdjqP35lBNWFe+k/K7+JJyBQ6D9LekFjEVnnP3KqDuOJluY/nUek5FoG5j8UUvtwignmP6ojKcpBZuY/y4lp02vZ5j84qTY7A2TnPz5dmMCPBug/FiRncBjB6D/uq7HpIpPpP1qJDdW/e+o/OoXbuaF56z+eszd0OYvsP6DNdkjTru0/r59HqLDi7j8AAAAAAADwPwAAAAAAAPA/AAAAAAAA8D8AAAAAAADwPwAAAAAAAPA/AAAAAAAA8D8AAAAAAADwPwAAAAAAAPA/Jpthr6Yk7z9apFYsiyDtP4nK/3o1Tes/Ty1Kus2y6T/0FDDRJFjoP64KV3A5Qec/TGiJpy1u5j9VJix0PdvlP1UmLHQ92+U/VSYsdD3b5T9VJix0PdvlP1UmLHQ92+U/VSYsdD3b5T9VJix0PdvlP1UmLHQ92+U/VSYsdD3b5T9VJix0PdvlP1UmLHQ92+U/VSYsdD3b5T9VJix0PdvlP1UmLHQ92+U/VSYsdD3b5T9VJix0PdvlP1UmLHQ92+U/VSYsdD3b5T9VJix0PdvlP1UmLHQ92+U/VSYsdD3b5T9VJix0PdvlP1UmLHQ92+U/VSYsdD3b5T9VJix0PdvlP1UmLHQ92+U/VSYsdD3b5T9VJix0PdvlP1UmLHQ92+U/VSYsdD3b5T9VJix0PdvlP1UmLHQ92+U/VSYsdD3b5T9VJix0PdvlP1UmLHQ92+U/VSYsdD3b5T9VJix0PdvlPzHtN/N9zuU//nMJy5NH4T+W9bVFU4HZPzADWfV+c9A/KkPwk6qWvT/D338ghHqEP4vrc6VEjLA/H9vXxjiJvj9Z5R10FkPGPyPdz4SQQc0/durASgUg0j9a5hlTQp/VPz/iclt/Htk/JN7LY7yd3D8FbRK2fA7gP/fqPjobzuE/6mhrvrmN4z/c5pdCWE3lPyp5vrM6COQ/V75PJHdc4T8KB8IpZ2HdP2aR5ArgCdg/wRsH7Fiy0j85TFOao7XKP+5gmFyVBsA/k9Z1exxepT8AAAAAAAAAAAAAAAAAAAAAAAAAAAAAAAAAAAAAAAAAAAAAAAAAAAAAAAAAAAAAAAAAAAAAAAAAAAAAAAAAAAAAAAAAAAAAAAAAAAAAAAAAAAAAAAAAAAAAAAAAAAAAAAAAAAAAAAAAAAAAAAAAAAAAAAAAAAAAAAAAAAAAAAAAAAAAAAAAAAAAAAAAAAAAAAAAAAAAAAAAAAAAAAAAAAAAAAAAAAAAAAAAAAAAAAAAAAAAAAAAAAAAAAAAAAAAAAAAAAAAAAAAAAAAAAAAAAAAAAAAAAAAAAAAAAAAAAAAAAAAAAAAAAAAAAAAAAAAAAAAAAAAAAAAAAAAAAAAAAAAAAAAAAAAAAAAAAAAAAAAAAAAAAAAAAAAAAAAAAAAAAAAAAAAAAAAAAAAAAAAAAAAAAAAAAAAAAAAAAAAAAAAAAAAAAAAAAAAAAAAAAAAAAAAAAAAAAAAAAAAAAAAAAAAAAAAAAAAAAAAAAAAAAAAAAAAAAAAAAAAAAAAAAAAAAAAAAAAAAAAAAAAAAAAAAAAAAAAAAAAAAAAAAAAAAAAAAAAAAAAAAAAAAAAAAAAAAAAAAAAAAAAAAAAAAAAAAAAAAAAAAAAAAAAAAAAAAAAAAAAAAAAAAAAAAAAAAAAAAAAAAAAAAAAAAAAAAAAAAAAAAAAAAAAAAAAAAAAAAAAAAAAAAAAAAAAAAAAAAAAAAAAAAAAAAAAAAAAAAAAAAAAAAAAAAAAAAAAAAAAAAAAAAAAAAAAAAAAAAAAAAAAAAAAAAAAAAAAAAAAAAAAAAAAAAAAAAAAAAAAAAAAAAAAAAAAAAAAAAAAAAAAAAAAAAAAAAAAAAAAAAAAAAAAAAAAAAAAAAAAAAAAAAAAAAAAAAAAAAAAAAAAAAAAAAAAAAAAAAAAAAAAAAAAAAAAAAAAAAAAAAAAAAAAAAAAAAAAAAAAAAAAAAAAAAAAAAAAAAAAAAAAAAAAAAAAAAAAAAAAAAAAAAAAAAAAAAAAAAAAAAAAAAAAAAAAAAAAAAAAAAAAAAAAAAAAAAAAAAAAAAAAAAAAAAAAAAAAAAAAAAAAAAAAAAAAAAAAAAAAAAAAAAAAAAAAAAAAAAAAAAAAAAAAAAAAAAAAAAAAAAAAAAAAAAAAAAAAAAAAAAAAAAAAAAAAAAAAAAAAAAAAAAAAAAAAAAAAAAAAAAAAAAAAAAAAAAAAAAAAAAAAAAAAAAAAAAAAAAAAAAAAAAAAAAAAAAAAAAAAAAAAAAAAAAAAAAAAAAAAAAAAAAAAAAAAAAAAAAAAAAAAAAAAAAAAAAAAAAAAAAAAAAAAAAAAAAAAAAAAAAAAAAAAAAAAAAAAAAAAAAAAAAAAAAAAAAAAAAAAAAAAAAAAAAAAAAAAAAAAAAAAAAAAAAAAAAAAAAAAAAAAAAAAAAAAAAAAAAAAAAAAAAAAAAAAAAAAAAAAAAAAAAAAAAAAAAAAAAAAAAAAAAAAAAAAAAAAAAAAAAAAAAAAAAAAAAAAAAAAAAAAAAAAAAAAAAAAAAAAAAAAAAAAAAAAAAAAAAAAAAAAAAAAAAAAAAAAAAAAAAAAAAAAAAAAAAAAAAAAAAAAAAAAAAAAAAAAAAAAAAAAAAAAAAAAAAAAAAAAAAAAAAAAAAAAAAAAAAAAAAAAAAAAAAAAAAAAAAAAAAAAAAAAAAAAAAAAAAAAAAAAAAAAAAAAAAAAAAAAAAAAAAAAAAAAAAAAAAAAAAAAAAAAAAAAAAAAAAAAAAAAAAAAAAAAAAAAAAAAAAAAAAAAAAAAAAAAAAAAAAAAAAAAAAAAAAAAAAAAAAAAAAAAAAAAAAAAAAAAAAAAAAAAAAAAAAAAAAAAAAAAAAAAAAAAAAAAAAAAAAAAAAAAAAAAAAAAAAAAAAAAAAAAAAAAAAAAAAAAAAAAAAAAAAAAAAAAAAAAAAAAAAAAAAAAAAAAAAAAAAAAAAAAAAAAAAAAAAAAAAAAAAAAAAAAAAAAAAAAAAAAAAAAAAAAAAAAAAAAAAAAAAAAAAAAAAAAAAAAAAAAAAAAAAAAAAAAAAAAAAAAAAAAAAAAAAAAAAAAAAAAAAAAAAAAAAAAAAAAAAAAAAAAAAAAAAAAAAAAAAAAAAAAAAAAAAAAAAAAAAAAAAAAAAAAAAAAAAAAAAAAAAAAAAAAAAAAAAAAAAAAAAAAAAAAAAAAAAAAAAAAAAAAAAAAAAAAAAAAAAAAAAAAAAAAAAAAAAAAAAAAAAAAAAAAAAAAAAAAAAAAAAAAAAAAAAAAAAAAAAAAAAAAAAAAAAAAAAAAAAAAAAAAAAAAAAAAAAAAAAAAAAAAAAAAAAAAAAAAAAAAAAAAAAAAAAAAAAAAAAAAAAAAAAAAAAAAAAAAAAAAAAAAAAAAAAAAAAAAAAAAAAAAAAAAAAAAAAAAAAAAAAAAAAAAAAAAAAAAAAAAAAAAAAAAAAAAAAAAAAAAAAAAAAAAAAAAAAAAAAAAAAAAAAAAAAAAAAAAAAAAAAAAAAAAAAAAAAAAAAAAAAAAAAAAAAAAAAAAAAAAAAAAAAAAAAAAAAAAAAAAAAAAAAAAAAAAAAAAAAAAAAAAAAAAAAAAAAAAAAAAAAAAAAAAAAAAAAAAAAAAAAAAAAAAAAAAAAAAAAAAAAAAAAAAAAAAAAAAAAAAAAAAAAAAAAAAAAAAAAAAAAAAAAAAAAAAAAAAAAAAAAAAAAAAAAAAAAAAAAAAAAAAAAAAAAAAAAAAAAAAAAAAAAAAAAAAAAAAAAAAAAAAAAAAAAAAAAAAAAAAAAAAAAAAAAAAAAAAAAAAAAAAAAAAAAAAAAAAAAAA\",\"dtype\":\"float64\",\"shape\":[1602]}}},\"id\":\"836ee649-0266-4950-baf2-64594e3668cc\",\"type\":\"ColumnDataSource\"},{\"attributes\":{},\"id\":\"cf96eb4e-652d-4a6a-ad37-2e2841b0ef03\",\"type\":\"BasicTicker\"},{\"attributes\":{\"callback\":null,\"column_names\":[\"x\",\"y\"],\"data\":{\"x\":[0,1000,2000,3000,4000,5000,6000,7000,8000,9000,10000,11000,12000,13000,14000,15000,16000,17000,18000,19000,20000,21000,22000,23000,24000,25000,26000,27000,28000,29000,30000,31000,32000,33000,34000,35000,36000,37000,38000,39000,40000,41000,42000,43000,44000,45000,46000,47000,48000,49000,50000,51000,52000,53000,54000,55000,56000,57000,58000,59000,60000,61000,62000,63000,64000,65000,66000,67000,68000,69000,70000,71000,72000,73000,74000,75000,76000,77000,78000,79000,80000,81000,82000,83000,84000,85000,86000,87000,88000,89000,90000,91000,92000,93000,94000,95000,96000,97000,98000,99000,100000,101000,102000,103000,104000,105000,106000,107000,108000,109000,110000,111000,112000,113000,114000,115000,116000,117000,118000,119000,120000,121000,122000,123000,124000,125000,126000,127000,128000,129000,130000,131000,132000,133000,134000,135000,136000,137000,138000,139000,140000,141000,142000,143000,144000,145000,146000,147000,148000,149000,150000,151000,152000,153000,154000,155000,156000,157000,158000,159000,160000,161000,162000,163000,164000,165000,166000,167000,168000,169000,170000,171000,172000,173000,174000,175000,176000,177000,178000,179000,180000,181000,182000,183000,184000,185000,186000,187000,188000,189000,190000,191000,192000,193000,194000,195000,196000,197000,198000,199000,200000,201000,202000,203000,204000,205000,206000,207000,208000,209000,210000,211000,212000,213000,214000,215000,216000,217000,218000,219000,220000,221000,222000,223000,224000,225000,226000,227000,228000,229000,230000,231000,232000,233000,234000,235000,236000,237000,238000,239000,240000,241000,242000,243000,244000,245000,246000,247000,248000,249000,250000,251000,252000,253000,254000,255000,256000,257000,258000,259000,260000,261000,262000,263000,264000,265000,266000,267000,268000,269000,270000,271000,272000,273000,274000,275000,276000,277000,278000,279000,280000,281000,282000,283000,284000,285000,286000,287000,288000,289000,290000,291000,292000,293000,294000,295000,296000,297000,298000,299000,300000,301000,302000,303000,304000,305000,306000,307000,308000,309000,310000,311000,312000,313000,314000,315000,316000,317000,318000,319000,320000,321000,322000,323000,324000,325000,326000,327000,328000,329000,330000,331000,332000,333000,334000,335000,336000,337000,338000,339000,340000,341000,342000,343000,344000,345000,346000,347000,348000,349000,350000,351000,352000,353000,354000,355000,356000,357000,358000,359000,360000,361000,362000,363000,364000,365000,366000,367000,368000,369000,370000,371000,372000,373000,374000,375000,376000,377000,378000,379000,380000,381000,382000,383000,384000,385000,386000,387000,388000,389000,390000,391000,392000,393000,394000,395000,396000,397000,398000,399000,400000,401000,402000,403000,404000,405000,406000,407000,408000,409000,410000,411000,412000,413000,414000,415000,416000,417000,418000,419000,420000,421000,422000,423000,424000,425000,426000,427000,428000,429000,430000,431000,432000,433000,434000,435000,436000,437000,438000,439000,440000,441000,442000,443000,444000,445000,446000,447000,448000,449000,450000,451000,452000,453000,454000,455000,456000,457000,458000,459000,460000,461000,462000,463000,464000,465000,466000,467000,468000,469000,470000,471000,472000,473000,474000,475000,476000,477000,478000,479000,480000,481000,482000,483000,484000,485000,486000,487000,488000,489000,490000,491000,492000,493000,494000,495000,496000,497000,498000,499000,500000,501000,502000,503000,504000,505000,506000,507000,508000,509000,510000,511000,512000,513000,514000,515000,516000,517000,518000,519000,520000,521000,522000,523000,524000,525000,526000,527000,528000,529000,530000,531000,532000,533000,534000,535000,536000,537000,538000,539000,540000,541000,542000,543000,544000,545000,546000,547000,548000,549000,550000,551000,552000,553000,554000,555000,556000,557000,558000,559000,560000,561000,562000,563000,564000,565000,566000,567000,568000,569000,570000,571000,572000,573000,574000,575000,576000,577000,578000,579000,580000,581000,582000,583000,584000,585000,586000,587000,588000,589000,590000,591000,592000,593000,594000,595000,596000,597000,598000,599000,600000,601000,602000,603000,604000,605000,606000,607000,608000,609000,610000,611000,612000,613000,614000,615000,616000,617000,618000,619000,620000,621000,622000,623000,624000,625000,626000,627000,628000,629000,630000,631000,632000,633000,634000,635000,636000,637000,638000,639000,640000,641000,642000,643000,644000,645000,646000,647000,648000,649000,650000,651000,652000,653000,654000,655000,656000,657000,658000,659000,660000,661000,662000,663000,664000,665000,666000,667000,668000,669000,670000,671000,672000,673000,674000,675000,676000,677000,678000,679000,680000,681000,682000,683000,684000,685000,686000,687000,688000,689000,690000,691000,692000,693000,694000,695000,696000,697000,698000,699000,700000,701000,702000,703000,704000,705000,706000,707000,708000,709000,710000,711000,712000,713000,714000,715000,716000,717000,718000,719000,720000,721000,722000,723000,724000,725000,726000,727000,728000,729000,730000,731000,732000,733000,734000,735000,736000,737000,738000,739000,740000,741000,742000,743000,744000,745000,746000,747000,748000,749000,750000,751000,752000,753000,754000,755000,756000,757000,758000,759000,760000,761000,762000,763000,764000,765000,766000,767000,768000,769000,770000,771000,772000,773000,774000,775000,776000,777000,778000,779000,780000,781000,782000,783000,784000,785000,786000,787000,788000,789000,790000,791000,792000,793000,794000,795000,796000,797000,798000,799000,800000,800000,799000,798000,797000,796000,795000,794000,793000,792000,791000,790000,789000,788000,787000,786000,785000,784000,783000,782000,781000,780000,779000,778000,777000,776000,775000,774000,773000,772000,771000,770000,769000,768000,767000,766000,765000,764000,763000,762000,761000,760000,759000,758000,757000,756000,755000,754000,753000,752000,751000,750000,749000,748000,747000,746000,745000,744000,743000,742000,741000,740000,739000,738000,737000,736000,735000,734000,733000,732000,731000,730000,729000,728000,727000,726000,725000,724000,723000,722000,721000,720000,719000,718000,717000,716000,715000,714000,713000,712000,711000,710000,709000,708000,707000,706000,705000,704000,703000,702000,701000,700000,699000,698000,697000,696000,695000,694000,693000,692000,691000,690000,689000,688000,687000,686000,685000,684000,683000,682000,681000,680000,679000,678000,677000,676000,675000,674000,673000,672000,671000,670000,669000,668000,667000,666000,665000,664000,663000,662000,661000,660000,659000,658000,657000,656000,655000,654000,653000,652000,651000,650000,649000,648000,647000,646000,645000,644000,643000,642000,641000,640000,639000,638000,637000,636000,635000,634000,633000,632000,631000,630000,629000,628000,627000,626000,625000,624000,623000,622000,621000,620000,619000,618000,617000,616000,615000,614000,613000,612000,611000,610000,609000,608000,607000,606000,605000,604000,603000,602000,601000,600000,599000,598000,597000,596000,595000,594000,593000,592000,591000,590000,589000,588000,587000,586000,585000,584000,583000,582000,581000,580000,579000,578000,577000,576000,575000,574000,573000,572000,571000,570000,569000,568000,567000,566000,565000,564000,563000,562000,561000,560000,559000,558000,557000,556000,555000,554000,553000,552000,551000,550000,549000,548000,547000,546000,545000,544000,543000,542000,541000,540000,539000,538000,537000,536000,535000,534000,533000,532000,531000,530000,529000,528000,527000,526000,525000,524000,523000,522000,521000,520000,519000,518000,517000,516000,515000,514000,513000,512000,511000,510000,509000,508000,507000,506000,505000,504000,503000,502000,501000,500000,499000,498000,497000,496000,495000,494000,493000,492000,491000,490000,489000,488000,487000,486000,485000,484000,483000,482000,481000,480000,479000,478000,477000,476000,475000,474000,473000,472000,471000,470000,469000,468000,467000,466000,465000,464000,463000,462000,461000,460000,459000,458000,457000,456000,455000,454000,453000,452000,451000,450000,449000,448000,447000,446000,445000,444000,443000,442000,441000,440000,439000,438000,437000,436000,435000,434000,433000,432000,431000,430000,429000,428000,427000,426000,425000,424000,423000,422000,421000,420000,419000,418000,417000,416000,415000,414000,413000,412000,411000,410000,409000,408000,407000,406000,405000,404000,403000,402000,401000,400000,399000,398000,397000,396000,395000,394000,393000,392000,391000,390000,389000,388000,387000,386000,385000,384000,383000,382000,381000,380000,379000,378000,377000,376000,375000,374000,373000,372000,371000,370000,369000,368000,367000,366000,365000,364000,363000,362000,361000,360000,359000,358000,357000,356000,355000,354000,353000,352000,351000,350000,349000,348000,347000,346000,345000,344000,343000,342000,341000,340000,339000,338000,337000,336000,335000,334000,333000,332000,331000,330000,329000,328000,327000,326000,325000,324000,323000,322000,321000,320000,319000,318000,317000,316000,315000,314000,313000,312000,311000,310000,309000,308000,307000,306000,305000,304000,303000,302000,301000,300000,299000,298000,297000,296000,295000,294000,293000,292000,291000,290000,289000,288000,287000,286000,285000,284000,283000,282000,281000,280000,279000,278000,277000,276000,275000,274000,273000,272000,271000,270000,269000,268000,267000,266000,265000,264000,263000,262000,261000,260000,259000,258000,257000,256000,255000,254000,253000,252000,251000,250000,249000,248000,247000,246000,245000,244000,243000,242000,241000,240000,239000,238000,237000,236000,235000,234000,233000,232000,231000,230000,229000,228000,227000,226000,225000,224000,223000,222000,221000,220000,219000,218000,217000,216000,215000,214000,213000,212000,211000,210000,209000,208000,207000,206000,205000,204000,203000,202000,201000,200000,199000,198000,197000,196000,195000,194000,193000,192000,191000,190000,189000,188000,187000,186000,185000,184000,183000,182000,181000,180000,179000,178000,177000,176000,175000,174000,173000,172000,171000,170000,169000,168000,167000,166000,165000,164000,163000,162000,161000,160000,159000,158000,157000,156000,155000,154000,153000,152000,151000,150000,149000,148000,147000,146000,145000,144000,143000,142000,141000,140000,139000,138000,137000,136000,135000,134000,133000,132000,131000,130000,129000,128000,127000,126000,125000,124000,123000,122000,121000,120000,119000,118000,117000,116000,115000,114000,113000,112000,111000,110000,109000,108000,107000,106000,105000,104000,103000,102000,101000,100000,99000,98000,97000,96000,95000,94000,93000,92000,91000,90000,89000,88000,87000,86000,85000,84000,83000,82000,81000,80000,79000,78000,77000,76000,75000,74000,73000,72000,71000,70000,69000,68000,67000,66000,65000,64000,63000,62000,61000,60000,59000,58000,57000,56000,55000,54000,53000,52000,51000,50000,49000,48000,47000,46000,45000,44000,43000,42000,41000,40000,39000,38000,37000,36000,35000,34000,33000,32000,31000,30000,29000,28000,27000,26000,25000,24000,23000,22000,21000,20000,19000,18000,17000,16000,15000,14000,13000,12000,11000,10000,9000,8000,7000,6000,5000,4000,3000,2000,1000,0],\"y\":{\"__ndarray__\":\"AAAAAAAAAAAAAAAAAAAAAAAAAAAAAAAAAAAAAAAAAAAAAAAAAAAAAAAAAAAAAAAAAAAAAAAAAAAAAAAAAAAAAAAAAAAAAAAAAAAAAAAAAAAAAAAAAAAAAAAAAAAAAAAAAAAAAAAAAAAAAAAAAAAAAAAAAAAAAAAAAAAAAAAAAAAAAAAAAAAAAAAAAAAAAAAAAAAAAAAAAAAAAAAAAAAAAAAAAAAAAAAAAAAAAAAAAAAAAAAAAAAAAAAAAAAAAAAAAAAAAAAAAAAAAAAAAAAAAAAAAAAAAAAAAAAAAAAAAAAAAAAAAAAAAAAAAAAAAAAAAAAAAAAAAAAAAAAAAAAAAAAAAAAAAAAAAAAAAAAAAAAAAAAAAAAAAAAAAAAAAAAAAAAAAAAAAAAAAAAAAAAAAAAAAAAAAAAAAAAAAAAAAAAAAAAAAAAAAAAAAAAAAAAAAAAAAAAAAAAAAAAAAAAAAAAAAAAAAAAAAAAAAAAAAAAAAAAAAAAAAAAAAAAAAAAAAAAAAAAAAAAAAAAAAAAAAAAAAAAAAAAAAAAAAAAAAAAAAAAAAAAAAAAAAAAAAAAAAAAAAAAAAAAAAAAAAAAAAAAAAAAAAAAAAAAAAAAAAAAAAAAAAAAAAAAAAAAAAAAAAAAAAAAAAAAAAAAAAAAAAAAAAAAAAAAAAAAAAAAAAAAAAAAAAAAAAAAAAAAAAAAAAAAAAAAAAAAAAAAAAAAAAAAAAAAAAAAAAAAAAAAAAAAAAAAAAAAAAAAAAAAAAAAAAAAAAAAAAAAAAAAAAAAAAAAAAAAAAAAAAAAAAAAAAAAAAAAAAAAAAAAAAAAAAAAAAAAAAAAAAAAAAAAAAAAAAAAAAAAAAAAAAAAAAAAAAAAAAAAAAAAAAAAAAAAAAAAAAAAAAAAAAAAAAAAAAAAAAAAAAAAAAAAAAAAAAAAAAAAAAAAAAAAAAAAAAAAAAAAAAAAAAAAAAAAAAAAAAAAAAAAAAAAAAAAAAAAAAAAAAAAAAAAAAAAAAAAAAAAAAAAAAAAAAAAAAAAAAAAAAAAAAAAAAAAAAAAAAAAAAAAAAAAAAAAAAAAAAAAAAAAAAAAAAAAAAAAAAAAAAAAAAAAAAAAAAAAAAAAAAAAAAAAAAAAAAAAAAAAAAAAAAAAAAAAAAAAAAAAAAAAAAAAAAAAAAAAAAAAAAAAAAAAAAAAAAAAAAAAAAAAAAAAAAAAAAAAAAAAAAAAAAAAAAAAAAAAAAAAAAAAAAAAAAAAAAAAAAAAAAAAAAAAAAAAAAAAAAAAAAAAAAAAAAAAAAAAAAAAAAAAAAAAAAAAAAAAAAAAAAAAAAAAAAAAAAAAAAAAAAAAAAAAAAAAAAAAAAAAAAAAAAAAAAAAAAAAAAAAAAAAAAAAAAAAAAAAAAAAAAAAAAAAAAAAAAAAAAAAAAAAAAAAAAAAAAAAAAAAAAAAAAAAAAAAAAAAAAAAAAAAAAAAAAAAAAAAAAAAAAAAAAAAAAAAAAAAAAAAAAAAAAAAAAAAAAAAAAAAAAAAAAAAAAAAAAAAAAAAAAAAAAAAAAAAAAAAAAAAAAAAAAAAAAAAAAAAAAAAAAAAAAAAAAAAAAAAAAAAAAAAAAAAAAAAAAAAAAAAAAAAAAAAAAAAAAAAAAAAAAAAAAAAAAAAAAAAAAAAAAAAAAAAAAAAAAAAAAAAAAAAAAAAAAAAAAAAAAAAAAAAAAAAAAAAAAAAAAAAAAAAAAAAAAAAAAAAAAACWARMOSTd/vy9Bjsp2aZe//ODLqI2Co79ioVDsX1Crv+Ow6hcZj7G/FhGtOQJ2tb9KcW9b61y5v3zRMX3UQ72/1hh6z16VwL/vSFtg04jCvwl5PPFHfMS/I6kdgrxvxr/MoLOqcIDGvyMu7euuoMS/ebsmLe3Awr/OSGBuK+HAv0SsM1/TAr6/8Mam4U9Dur+b4RlkzIO2v0b8jOZIxLK/4i0A0ooJrr83Y+bWg4qmvxYxmbf5Fp6/gjfLgtcxjr/cawYyy90avwAAAAAAAAAAAAAAAAAAAAAAAAAAAAAAAAAAAAAAAAAAAAAAAAAAAAAAAAAAAAAAAAAAAAAAAAAAAAAAAAAAAAAAAAAAAAAAAAAAAAAAAAAAAAAAAAAAAAAAAAAAAAAAADLlXX98+32/DqsxJBuzlr9o7kWUq/Oiv0gHc5bJjaq/FhBQzPMTsb+GnGbNAuG0v/Yofc4Rrri/ZrWTzyB7vL/rIFXoFyTAvyNn4GifCsK/W61r6Sbxw7+T8/ZprtfFv1OZsND1bMe/U5mw0PVsx79UmbDQ9WzHv1SZsND1bMe/U5mw0PVsx79TmbDQ9WzHv1OZsND1bMe/VJmw0PVsx79UmbDQ9WzHv1SZsND1bMe/VJmw0PVsx79UmbDQ9WzHv1SZsND1bMe/VJmw0PVsx79UmbDQ9WzHv1SZsND1bMe/VJmw0PVsx79UmbDQ9WzHv1SZsND1bMe/VJmw0PVsx79UmbDQ9WzHv1SZsND1bMe/VJmw0PVsx79UmbDQ9WzHv1SZsND1bMe/VJmw0PVsx79UmbDQ9WzHv1SZsND1bMe/VJmw0PVsx79UmbDQ9WzHv1SZsND1bMe/VJmw0PVsx79UmbDQ9WzHv1SZsND1bMe/VJmw0PVsx79UmbDQ9WzHv1iZsND1bMe/VJmw0PVsx79UmbDQ9WzHv1SZsND1bMe/VJmw0PVsx79UmbDQ9WzHv1SZsND1bMe/VJmw0PVsx79UmbDQ9WzHv1SZsND1bMe/VJmw0PVsx79UmbDQ9WzHv1SZsND1bMe/VJmw0PVsx79TmbDQ9WzHv1SZsND1bMe/VJmw0PVsx79TmbDQ9WzHv1SZsND1bMe/VJmw0PVsx79UmbDQ9WzHv1SZsND1bMe/VJmw0PVsx79UmbDQ9WzHv1SZsND1bMe/VJmw0PVsx79UmbDQ9WzHv1SZsND1bMe/0DDRO3/Nt7+A1R3YZEmFvzxj6id+NLA/jECWCEVCwD8+Zum8IRfHPwIJ86MwqMw/gf/MKG+N0D+QQBdk8qPRP4XSe2B0C9I/gd/YeKDT0T8OePxfkbfQP77dxqkBJ84/YCCpxGVkyj+qyAzLsxzGPwZ1DzHCSME/KMBi4unLtz+4nWOss9qnP4C6hsNyh2+/6Gd508W3rb/Ap2S4+wW6vwLnww/DNsC/5FDNSsjFw79UmbDQ9WzHv1SZsND1bMe/VJmw0PVsx79UmbDQ9WzHv1SZsND1bMe/VJmw0PVsx79UmbDQ9WzHv1SZsND1bMe/VJmw0PVsx79UmbDQ9WzHv8jvKU68jMK/BPYxdGeBu7/E+CeaeWazv4DfqGeqmY+/yDMOWvRUsD+i8Ro9ogbBP4QVzzgDicg/TGxu95O7zj+irQnEAtPRPx6X4DKlYtM/qq2w75XB0z+wxCy+4/zSP7vyKEy4CtI/HPsnNlXp0D8GvYt41i/PPxJpIf1eLcw/9gw18avNyD8geg0L5RTFP9z30LCOCME/AJYWYCteuT+4t9Yquh6wP7BI/nbhgpk/AAAAAAAAAAAAAAAAAAAAAAAAAAAAAAAAAAAAAAAAAAAAAAAAAAAAAAAAAAAAAJA8AAAAAAAAkDwAAAAAAAAAAAAAYLs6aJG+AGDIyRSFDr8AwE/RnLIQvwDAn1ZAbxK/ANC2Vh6TFL8AUFO64EYXvwDQ7jLGyxq/ANgCPIKRH78AIPudQjQjvwBgKyPIgyi/ALBr5qvwML8ArIYy4GQ7vxB/ZB7etFG/OPvYMQfUYb+ACDePg5NHvwDbkXuAtz6/ALTrtaMQOL8Acp4YtIg0vwAoufnlYzK/AHRdL7f7ML8AcGcOqAMwvwDgfzJRpy6/AKA132ypLb8AAAAAAAAAAAAAAAAAAAAAAAAAAAAAAAAAAAAAAAAAAAAAAAAAAAAAAAAAAAAAAAAAAAAAAAAAALyq+kfez7c/MLxfMK2Qxz9ZrhiiCELQPybHr/v1NdM/kyS9iOmZ0z/eQdXeW8vSP5wsGKbfztE/ONVKQ+ii0D+sLnsovo3OP7ArovRldss/dEpvv5kCyD90I1rD1zbEP9xf//jhGMA/RD+HfJFetz+IL0wj7QOsPwBovl5Tp5A/AAAAAAAAAAAAAAAAAACQPAAAAAAAAJA8AAAAAAAAkDwAAAAAAAAAAAAAAAAAAAAAAAAAAAAAAAAAAAAAAAAAAAAAAAAAAAAAAMAaupIfNL+AbHbbGSliv4DLjoL4y3i/gL6MseQSgL8Al9shFd2cP0gQ7InGHq0/6Dc8x0qisz/I1YUv6SC2P7yn3EK46bU/sEWxc1EVsz/Ie1FOK9qrP8Djq2yGTJs/APkFkIWtYj8o5LtdJYWoP+AtngT5vbY/bNVfisDivz/4Lv9mRLLDPxBNmHZjc8Y/Fgs3XWcLyD8QeqEH5WDIPxA+HPzwcsc/rO1ck3VZxT+eWCcSCj3CP+Da90/Xl7w/kON0BbpXsz8IzlZkkk+iP8AqU4jse36/oLC+5028jL9AzIBmvJOXv1CT2trUuKG/GOuCsNYQqb8s2122cfCwv6Ab4pFWGLa/bJUs0uf/u78kgnW4dlHBvxxs3n7L/MS/SgcK9s6wxb8a6EM3MXDBv7h+ZlAuS7u/8Mwm5ZKttL9Iw2hqnxmuv0gzQmo/zqS/wNm2ytnPmr8AUyAa1yiPvwBqT03+hH6/AL4HAVMkZb8AXNEARIcyvwAAAAAAAJA8AAAAAAAAAAAAAAAAAACQPAAAAAAAAAAAAFBFq+D7Jz/Y6cMQwPOmP/xQWBHOSrY/TDXEpRE1wD+IZM42kuHEPy6xg6EzIck/NFUVasTrzD+eBCzDux3QP0JReC3NhtE/lgyn93ex0j+Xk4Jfy5/TPxqCquQEP9Q/aSspDayc0z9pqU9dgLbSPyD9wwWGUtE/ENje8+Ruzz8aw86PG73LP7IVSjU1hMc/UMleujy8wj8kwHhOEMS6P5g8PZcV360/YMF9nopJgD/gh2mOOLKnv9yLwHv9nLq/esBdJ7+Wwr+mvQIoGqHFv874zfhMzcS/JIYHOovtwr93E0F7yQ3Bv5pB9XgPXL6/Rlxo+4ucur/xdtt9CN22v5qRTgCFHbO/iliDBQO8rr/fjWkK/Dynv2qGnx7qe5+/EfFrKNx9kL+8u4Uj4/xXvyzW7L/8M36//Op4hmqjo7+aHXq6KsCxv7TFtzGgrrm/57Z61IrOwL/1ihmQxcXEv1SZsND1bMe/VJmw0PVsx79UmbDQ9WzHv1SZsND1bMe/1jOaaRTQxr/yiGD+FpnCvwjfuD4gCrq/EOsXaqQnsL+s6bkCsymgv2BTTOfY/IO/ACqZKZOIMb/gqH4b9h9yv9BVI/qu/JW/wOGgM02Bej8AFox5mdCHPwA4mwNmCje/AHVUmRcymL/QnMTPAs6RPyA4sQQ6xbE/FH67E00jvT/8j1uk4kXDP3r/13xNDMc/bsAaX2bhyT8mJ5mnDZ3LPxaTZyUuJMw/5AS7ZTZxyz/6xQE/KqPJP8jzyLgVPsY/nKMiS8bNwT9gwfWgYBa7PzRHPG09L7I/OLGE4z+boT/AWgkQeM9yv4AhbeqFNYS/sOV4C9ciiL8AMem+L+CNv5j09JN7eJO/6LmtRKtsm78Qf6/INV2fv7vpe9InX5C/UEaFxJ0RVr8AAAAAAAAAAAAAAAAAAAAAAAAAAAAAAAAAAAAAAAAAAAAAAAAAAAAAAAAAAAAAAAAAAAAAAAAAAAAAAAAAAAAAAAAAAAAAAAAAAAAAAAAAAAAAAAAAAAAAAAAAAAAAAAAAAAAAAAAAAAAAAAAAAAAAAAAAAAAAAAAAAAAAAAAAAAAAAAAAAAAAAAAAAAAAAAAAAAAAAAAAAAAAAAAAAAAAAAAAAAAAAAAAAAAAAAAAAAAAAAAAAAAAAAAAAAAAAAAAAAAAAAAAAAAAAAAAAAAAAAAAAAAAAAAAAAAAAAAAAAAAAAAAAAAAAAAAAAAAAAAAAAAAAAAAAAAAAAAAAAAAAAAAAAAAAAAAAAAAAAAAAAAAAAAAAAAAAAAAAAAAAAAAAAAAAAAAAAAAAAAAAAAAAAAAAAAAAAAAAAAAAAAAAAAAAAAAAAAAAAAAAAAAAAAAAAAAAAAAAAAAAAAAAAAAAAAAAAAAAAAAAAAAAAAAAAAAAAAAAAAAAAAAAAAAAAAAAAAAAAAAAAAAAAAAAAAAAAAAAAAAAAAAAAAAAAAAAAAAAAAAAAAAAAAAAAAAAAAAAAAAAAAAAAAAAAAAAAAAAAAAAAAAAAAAAAAAAAAAAAAAAAAAAAAAAAAAAAAAAAAAAAAAAAAAAAAAAAAAAAAAulXWCMVEe79qvYvzn4aXv7PycFIHHqS/fHsSBdKOpb9Q2yGlVQafv0g0hodyxJe/eIGAMXEMk7+A715OuIuPv2AbsY27woq/AHSUI+8fh7/AuK8vQEaEv8Dem5v0kn+/AMoEyK+MZr8AoFchgcY2vwAAAAAAAAAAAAAAAAAAAAAAAAAAAAAAAAAAAAAAAAAAAAAAAAAAAAAAAAAAAAAAAAAAAAAAAAAAAAAAAAAAAAAAAAAAAAAAALjmZxefYqM/aCQWE25ftD+4lyeCraq9P24zf6AQm8I/gOX56fJPxT/8od/6HMrGP+byDQXp8sY/kgLuoRHPxT/Udbjv5nzDP2jtVkz2KcA/gMSrHWAOuD+I6lP1OnmtPxAp58eStZM/9KYEeIZLsj8UbFm/iUXIP9avHeMAeNE/VrOnF4VJ1D9Ws6cXhUnUP1azpxeFSdQ/S0ist5NH1D+1QkViy6fTP27Xs0yLsNI/pqhwpTZK0T9MFMYRo1jPP4RdR9hFoMs/AMVfefBfxz8gDV0O3o/CPxBXYPJWWro/gF/DxmLprD8A9AYmENt3P0irHl6Z6Ki/yIi1EZVGu79MsCuCfXm+v7xrZyfreLm/YOTc5yPGk79ANKwjz1KtP2h0QwhxRb8/tIARH4txxj+8FY9/8eHLPzAcVTq9S88/ufuhWE6t0D/PG56EKPvQP4RJCqcKktA/bO5qoNiYzj+MovOoowfLP0QOhfyU+MY/AvhayFhjwj888cUf4oa6P4DA0s+fY64/QGCNL+GEhj+4HACt6Relv9RwePGwKbS/pA3QmevMub8Q5TJkxxbAv0AHt5yAosO/jlgHnKozx7+Uqq4uc/C8v8C7QKVAYq+/8B9G2zkPm7/AnJIOmF58vwCwrRnJDh2/AEILPDl0Q7+AzzlIbhBov8AXoBLJun2/wMbrMsAyjL/AXllnqziXv2B5DIFcf6G/IJP7FM/KqL80E1+D88awvyyb8jFN6LW/UKoXOWbJu79q0gArFDPBv3aeRdFv28S/VJmw0PVsx79UmbDQ9WzHv1SZsND1bMe/0OxuJ5kCxL90MnjK5My7vygJn2FL4bG/2JGLqaSgpL8QTV8a/AOUv8AZfn/qrHu/AMaoQLMNSr8AAAAAAACQPAAAAAAAAJA8AAAAAAAAAAAQD+REjNimP5y1wXuWHbg/AFj6wVLpwT9wo1hu7TTHP3BaDamh3cs/ijBa14RJzz9ONlN766nQP5YZ7j748dA/bCkziJWA0D96VaGpmpzOPyTXX8Ikh8s//KPZ6CcVyD/elOu4GkvEPwoMytW5LsA/pFTTPyWNtz9AZX+RTWasPyDsLoltdZE/AAAAAAAAAAAAAAAAAAAAAAAAAAAAAAAAAAAAAAAAAACIGwrp+NWjP0TPFcd9ZbQ/PPev0ek/vj9m6y2Y7LPDP/jeFI/b5cc/OLXUlQ2uyz8SthODngbPP5Gdl2sP9tA/SnFXa/h50j+wUwwORrTXP1vRDzJVw9w/xTHhTPSC4D+wPDAl4DjiP23YYGlwseM/hO4CrBHB5D9szLN2BjHlPx7mmYWB6OQ/NG5VSTEJ5D+ieJK328niP1pskpl63uA/OQeTpNRJ3T/2bFeN42PYP1Ez1LPQUdM/qB0kBZBJzD+iJXgOmR7IP6h6DDOh38M/kE4I7tOvvz/0QGFTnke3P7gS4FjF1aw/iJYvxyTRkz/IrbzDMTSVvxS1khluHKy/gJDsHXh5sb/YePHyjBqTvwARhmI5qku/+DNmZ/ubnb8YxTxjIQC0vz27Fj1qLcG/JC57E0/1t78Ir8AvAtKuv9CUrHT625m/QMy5qmk0eb8AQEk/rAz5vgAAAAAAAAAA6JKgQ+ZlqT98ldvCEdG7PyiYFqWJt8Q/ON/APeqpyj9KtY8lQanPPyzg86gT1dE/0Ky+W4pX0z/Tyb/umzjUP3IqgvVclNM/LHHraHbE0j9HNKomksbRPyaO+nwqmdA/PLsdFGF3zj/IIHX5NV3LPxjejZmz5sc/6AJViGMYxD981FpPH/C/P6xbDniZGLc/qEPgFy1wqz9gzZQyr+OOPyh083iYM6Q/fMJHVtxhuT9YLynecZvDP1I8psOsr8k/AoQ2OQ3Wzj9SQrfKioDRP1MujZNUGNM/+6WO0Ak51D9Ws6cXhUnUP1azpxeFSdQ/VrOnF4VJ1D9Ws6cXhUnUP1azpxeFSdQ/VrOnF4VJ1D9Ws6cXhUnUP1azpxeFSdQ/KhMWup7t8j8qExa6nu3yPyoTFrqe7fI/KhMWup7t8j8qExa6nu3yPyoTFrqe7fI/KhMWup7t8j8qExa6nu3yP61prAOS3vI/LCdTKH8c8j/CAe9vMXjxP2xh3FBS8/A/+Mn0NN6N8D8sywpnJUbwP4TU0bI1GfA/oRTViXYD8D+FOYn8egDwP6fRbPyXBvA/rF7o12YU8D/DB7GExSrwP1KF2RKSSvA/kNrvGp908D/eYjDZpanwPzLAGIA36vA/tESbDbA28T/Qy2wtLY/xPzvtGSeL8/E/jq8xjmhj8j9ZuB/aL97yP7JUv8DdPvI/Srb+cyeU8T8bZhZA8AjxP0vvnCOHnfA/m+Y+PX9Q8D+3rkBcCx/wP+YR3kyZBfA/AAAAAAAA8D/2O5IPxMfvP5jCNdDW0+w/QkUs1ylK6j8ofSktRkLoP7DJzFf3a+Q/6jNlhsoi4D8j5N6430XaP9L3sjWAz9Q/ULkau36z0D8V34oZdw7PPyqpgz/iiNE/zGAmTcrM1T/CD/cmbJLaPyyTKTkrsN8/9uiwqkyA4j/aZUNzvzvlP/4nX/3CBeg//LbNa9/a6j+Ihlln7wHtPxZLpNKNhu4/CjJqFSXD7z+InAzzkojwP+IH9subOvE/g3uCBzKe8T/wVdyftqDxP8MyhrbW3fA/ak7vd/lK8D/gsu3egQPwP3B50SNHGPA/F9ytpOJ88D+SgVGm9RXxP6ReBHK2zfE/UwSHFXET8j+r/5EbVtzxPzJUScEKsPE/BERzekNP8T+b6bLsIPjwP6v+FnJgr/A/aC6rGpR08D/PQURh/0bwP740676rJfA/MgxR538P8D9ATTZkVQPwPwAAAAAAAPA/AAAAAAAA8D8AAAAAAADwPwAAAAAAAPA/RCCzy50A8D9uUYkfGAfwP/KHVUJPFfA/X+zWZSEs8D/oK7BTbEzwP6ja77cBd/A/6IT8Jpms8D/BxVF0we3wP5OyYbHW6PA/3Hg47UKT8D8CtKQHC2zwP9e9EzUadPA/7tpihFuo8D/aX0ju12vwP/g6HCM5OPA/Tnzn8ncW8D/eiMTXegTwPwAAAAAAAPA/AAAAAAAA8D8AAAAAAADwP+Qg0Lkoxu4/imtnY5ex7D9k4qOw9dTqP74Z0lt4Oek/abrVvi/m5z82WFktO97mP8CFTh/dH+Y/VSYsdD3b5T9VJix0PdvlP1UmLHQ92+U/6BeKkNUM5j8sxnO7bGrmPyRoUYyC3uY/iKfnfw1q5z/QF5BekA3oP+PP7vMMyeg/j78q3wOc6T82pM+GgYXqP6Np20A1hOs/ANyv5o2W7D/otk3X1rrtPzBhz4tR7+4/IHv4EtWH7z8MbKiQUajsP/QQQfO1MOo/z4SW8gc36D+G5/MRmsfmP3aB+xYe3+U/XnFr2sQo5j8aSsWghI3mP9JzbU8eCec/fmHdDmWc5z9ufDv7KVboP7EHowT0Oek/utNZtSk96j8qBFSX42HrP+DGK9JFqew/3wMX7lIT7j9bIfFr657vP3qIhCv9pPA/ADO7rBPl8D8j79KHiJTwP96nTmW7cfA/+zOpplN98D/4F71Oa7HwPz+v4juClu4/7brn6Mgh7D9CgP4d3AzqP7dEwTXMV+g/cL4p1r8C5z80wserR3bmP7AHeoTxs+Y/2gMboQRp5z/OzeITITroP01ouDCdKuk/81XOp0Q96j8c4Hgr9HPrP7T0rblLz+w/I9HpipJO7j//5X9l1+/vP6hsF4Ag2PA/PILBajnG8T/QRVbp6m/yPw71Od7P6/I/KhMWup7t8j8qExa6nu3yPyoTFrqe7fI/ApcC0YB18T9YUmRUiHnwP06yVKc5DPA/ziIkBsoA8D/CkNaDrQfwPxcTzwqBDvA/Drtrs6Dj7j+bMMG3NN7tPxalYTj6GO0/qIDHjFSf7D+N7IC813jsP1Qz6G2ypuw/gLd0LTsj7T8NaX3S+ePtPyFvje2x3O4/dcbT9eIA8D8AAAAAAADwPwAAAAAAAPA/AAAAAAAA8D8AAAAAAADwPwAAAAAAAPA/AAAAAAAA8D8AAAAAAADwPwAAAAAAAPA/AAAAAAAA8D9IqdJOqi3vP0jjWx0FzO0/ZHawRUV/7D+zhy7xy/TpP7M81U6oHec/ZNFUIqlJ5D/Jqi63QnrhP1aqsALaY90/qkm/W0Xq1z9DSEfRTpnSP0l8i/ZdK8s/BCIZxwrFwj9gyWp5L/O1P946jZIlcZk/AAAAAAAAAAAAAAAAAAAAAAAAAAAAAAAAAAAAAAAAAAAAAAAAAAAAAAAAAAAAAAAAAAAAAAAAAAAAAAAAAAAAAAAAAAAAAAAAAAAAAAAAAAAAAAAAAAAAAAAAAAAAAAAAAAAAAAAAAAAAAAAAAAAAAAAAAAAAAAAAAAAAAAAAAAAAAAAAAAAAAAAAAAAAAAAAAAAAAAAAAAAAAAAAAAAAAAAAAAAAAAAAAAAAAAAAAAAAAAAAAAAAAAAAAAAAAAAAAAAAAAAAAAAAAAAAAAAAAAAAAAAAAAAAAAAAAAAAAAAAAAAAAAAAAAAAAAAAAAAAAAAAAAAAAAAAAAAAAAAAAAAAAAAAAAAAAAAAAAAAAAAAAAAAAAAAAAAAAAAAAAAAAAAAAAAAAAAAAAAAAAAAAAAAAAAAAAAAAAAAAAAAAAAAAAAAAAAAAAAAAAAAAAAAAAAAAAAAAAAAAAAAAAAAAAAAAAAAAAAAAAAAAAAAAAAAAAAAAAAAAAAAAAAAAAAAAAAAAAAAAAAAAAAAAAAAAAAAAAAAAAAAAAAAAAAAAAAAAAAAAAAAAAAAAAAAAAAAAAAAAAAAAAAAAAAAAAAAAAAAAAAAAAAAAAAAAAAAAAAAAAAAAAAAAAAAAAAAAAAAAAAAAAAAAAAAAAAAAAAAAAHFhOspl3Q/xnc4gM2Mrj92K4DhWkO9P6d4IScYosY/O2rh1ALhzz97NBSBs8bUP0A3ZA2Bt9k/PV5H1s623j+kj18l/d/hP7LVd3S0d+Q/tjt5Aosi5z9HsHLZsNzpP2NjOZgVo+w/6r1Fp7XH7T/qroBgGRfuP79vm04lmO4/dJD+JGJM7j+yb8AKJU/uP6RNLqMJn+4/IkINoko17z8iUT0P8APwP2L6yu/CDu8/htG4VM347D8KYt2BTCHrP/JUrosFvug/7jUeI6zY5T9uo/F33k/jP0Cj6kp0U+E/8BCdZLIR4D/Msocez/TePxTqZddmmd4/CbJX5qAd3z8jLPv10jXgP7xwUwmHLOE/DXUoOjFd4j86YSqojbbjPwoj31reSOU/VSYsdD3b5T9VJix0PdvlP1UmLHQ92+U/VSYsdD3b5T9qhBNvjGHjPwTU0zqnXN8/N5+AlzX21z9oai30w4/QPzNrtKGkUsI/rQxw2AounD/rGNObhmF2P0RCQhYZxq4/thCFrABgvT8kgPRmeq7FP+53pnf0rMw/3DcsRLfV0T/BM4VM9FTVP6Yv3lQx1Ng/iis3XW5T3D9uJ5Blq9LfP6qR9Db0qOE/nA8hu5Jo4z8QhZFCDjvlP1y0egU4Q+Y/Jj0XlRnE5j+4hnuX+XrnP8K5EA0MTug/jp8MB51A6T/kHad/aFXqPyRG1IM3jus/mjUPjpXr7D/QzGMguGzuPxDFKvjQB/A/EoKwKbro8D9IeEioadfxP0MPGji0aPI/Oip3DPXj8j98oO3itmryPyKBw43n6vE/3i4uES568T/sQKA8DhnxP1SWB3Ggx/A/usn4Wo6F8D81ci5ZHlLwPwS3LjxKLPA/g7ewYNsS8D8qHB8ShgTwPzbgfgQAAPA/AAAAAAAA8D8AAAAAAADwPwAAAAAAAPA/AAAAAAAA8D92YmwLy0HvPzrNIgKZ3O0/gOHxN3mM7D8qQfUjDVTrP9zzFyLjNeo/dN2b1kI06T+mw9Ni81DoP0COB1UGjec/qgGlTrTo5j8KqZ5eVWPmPwiuhVp3++U/gpJ/WwgK5j9MOWA+4WbmP7hMA58u2uY/xt50i+pk5z8AOH8EnAfoP5SMNk1Jwug/XuhWRHeU6T/TJljuNX3qP3r8PVc3e+s/VokqDeyM7D94qnGrB7ntP3Y9/rllAu8/cwjvtKwL8D8s3r9zC/buP/kg3zfqCe4/8vQbAoVe7T8ETqejAf7sP9KRrrJa7uw/ZOnCUFUv7T/82BW5lrrtPx5S9mXJhe4/IC8b+1uF7z+sEVSWUE3vP5bQyd9T0+0/T4nPINKC7D/Q8QKdVGTrP/YBJSEOhOo/1LbyRELu6T8yshAlHazpPw0Hze+xwOk/Ju7I3c8n6j+R8wublNfqP2IklNSJw+s/bVwigLHZ7D+KlnO98AHuP71Eaqr5Oe8/AAAAAAAA8D8AAAAAAADwPwAAAAAAAPA/AAAAAAAA8D8AAAAAAADwPwAAAAAAAPA/AAAAAAAA8D8AAAAAAADwPwAAAAAAAPA/zH7/V48A8D+Uh51G5AbwP8DlLKLxFPA/XN4ShZUr8D+M9gTWrUvwP1DCv6AMdvA/zdZWJGqr8D8SJxkoVuzwPz1Ik+YqOfE/CGMdGASS8T9cjisUvPbxP1EG77PvZvI/vmSeT0Ul8j/NAFuhcCHxP9PKhz9OcPA/o63GHNcV8D8AAAAAAADwPwAAAAAAAPA/AAAAAAAA8D8AAAAAAADwPwAAAAAAAPA/AAAAAAAA8D8AAAAAAADwP9QYWIsvUO4/fDNaFe4V6z9yvgXBstvnPzjDpm6AoeQ/s/Q8IFxn4T/CbnvLnlrcPx2O3B7e5tU/YocPW8rnzj+SjVTNvAbCPyxKAVbQNKU/aPeS7u+eqT9wQlhTdY/APzA/Cd2rx8o/Nu96jmKB0j9OzrXvcJ/XPzZUcdG7vdw/CiTO4xPu4D++IZjlU33jP2jHenCaDOY/QImAeuWb6D9QIVq+MyvrP4KAvGaEuu0/5lUzmBr67z8AAAAAAADwPwAAAAAAAPA/AAAAAAAA8D8AAAAAAADwPwAAAAAAAPA/AAAAAAAA8D8AAAAAAADwPwAAAAAAAPA/7NcMiVYB8D841nh2TQnwP/dIYm0tGfA/AASHV9Ux8D9b5HyWIVTwP6Ri9cPfgPA/xEe1bMC48D/pbYWHSPzwP2dXShPFS/E/I4oHWEOn8T9KBsSFjw7yP7B8oAM6gfI/glb2rENF8j+2XrW+cJPxP559Bpo2TvA/LcvzV44q7j9kzh+LowzsP5O+Y4MqReo/ySKDrKzP6D9iPonC+bPnP57c9oVL5OY/Yngns0FE5j9VJix0PdvlP1UmLHQ92+U/VSYsdD3b5T9VJix0PdvlP1UmLHQ92+U/VSYsdD3b5T9VJix0PdvlP1UmLHQ92+U/VSYsdD3b5T9VJix0PdvlP07g/fx2JeY/Hme2wmOJ5j+d40yKIATnP0ITsV5yrec/DMYyndmA6D8GyJ4YA3PpP21sDkCNhuo/wKkMGTa96z9mF4PblRftPwjEEYYFle4/oAvgWt0Z8D+cqpRMh/jwP/Ip9zzKWvE/ePAUJYEs8T88mDSGDSbxP02Ysdn8GvE/MmdCgvmJ7z/4SHqfkSXtP3+LBDAdEus/UkiiEHNT6T8nhXXMfObnPwKtBIRbwuY/VSYsdD3b5T9VJix0PdvlP1UmLHQ92+U/VSYsdD3b5T9VJix0PdvlP1UmLHQ92+U/VSYsdD3b5T9VJix0PdvlP1UmLHQ92+U/VSYsdD3b5T9UJix0PdvlP1UmLHQ92+U/VSYsdD3b5T9UJix0PdvlP1UmLHQ92+U/VSYsdD3b5T9VJix0PdvlP1UmLHQ92+U/VSYsdD3b5T9VJix0PdvlP1UmLHQ92+U/VSYsdD3b5T9VJix0PdvlP1UmLHQ92+U/VSYsdD3b5T9VJix0PdvlP1UmLHQ92+U/VyYsdD3b5T9VJix0PdvlP1UmLHQ92+U/VSYsdD3b5T9VJix0PdvlP1UmLHQ92+U/VSYsdD3b5T9VJix0PdvlP1UmLHQ92+U/VSYsdD3b5T9VJix0PdvlP1UmLHQ92+U/VSYsdD3b5T9VJix0PdvlP1UmLHQ92+U/VSYsdD3b5T9VJix0PdvlP1UmLHQ92+U/VSYsdD3b5T9VJix0PdvlP1UmLHQ92+U/VSYsdD3b5T9VJix0PdvlP1UmLHQ92+U/VSYsdD3b5T9VJix0PdvlP1UmLHQ92+U/VSYsdD3b5T9VJix0PdvlP1UmLHQ92+U/VCYsdD3b5T9UJix0PdvlP1QmLHQ92+U/VSYsdD3b5T9VJix0PdvlP1QmLHQ92+U/VCYsdD3b5T/Jcx0UHGHkP4Hr7vErm+I/OWPAzzvV4D/itSNblx7eP1Klxha3kto/wpRp0tYG1z8yhAyO9nrTP0XnXpMs3s8/JMakCmzGyD8EpeqBq67BP8gHYfLVLbU/HBazg1P5mz8AAAAAAAAAAAAAAAAAAAAAAAAAAAAAAAAAAAAAAAAAAAAAAAAAAAAAAAAAAAAAAAAAAAAAAAAAAAAAAAAAAAAAAAAAAAAAAAAAAAAAAAAAAAAAAAAAAAAAAAAAAAAAAADKlkikERE5P1RwEGYKLKw/vCdsVPkSvD+oC+i69gfFP3IDmstwBsw/nv0lbnWC0T+C+X52sgHVP2f1137vgNg/S/EwhywA3D8x7YmPaX/fP4t08UtTf+E/ffId0PE+4z9vcEpUkP7kPym0eJ767uQ/oK9BFvsc4z8WqwqO+0rhPxtNpwv48d4/CUQ5+/hN2z/4Osvq+anXP+QxXdr6BdQ/0ijvyfth0D+APwJz+XvJP1stJlL7M8I/bTaUYvrXtT+SSHCD+B+dPwAAAAAAAAAAAAAAAAAAAAAAAAAAAAAAAAAAAAAAAAAAAAAAAAAAAAAAAAAAAAAAAAAAAAAAAAAAAAAAAAAAAAAAAAAAAAAAAAAAAAAAAAAAAAAAAAAAAAAAAAAAAAAAAAAAAAAAAAAAAAAAAAAAAAAAAAAAAAAAAAAAAAAAAAAAAAAAAAAAAAAAAAAAAAAAAAAAAAAAAAAAAAAAAAAAAAAAAAAAAAAAAAAAAAAAAAAAAAAAAAAAAAAAAAAAAAAAAAAAAAAAAAAAAAAAAAAAAAAAAAAAAAAAAAAAAAAAAAAAAAAAAAAAAAAAAAAAAAAAAAAAAAAAAAAAAAAAAAAAAAAAAAAAAAAAAAAAAAAAAAAAAAAAAAAAAAAAAAAAAAAAAAAAAAAAAAAAAAAAAAAAAAAAAAAAAAAAAAAAAAAAAAAAAAAAAAAAAAAAAAAAAAAAAAAAAAAAAAAAAAAAAAAAAAAAAAAAAAAAAAAAAAAAAAAAAAAAAAAAAAAAAAAAAAAAAAAAAAAAAAAAAAAAAAAAAAAAAAAAAAAAAAAAAAAAAAAAAAAAAAAAAAAAAAAAAAAAAAAAAAAAAAAAAAAAAAAAAAAAAAAAAAAAAAAAAAAAAAAAAAAAAAAAAAAAAAAAAAAAAAAAAAAAAAAAAAAAAAAAAAAAAAAAAAAAAAAAAAAAAAAAAAAAAAAAAAAAAAAAAAAAAAAAAAAAAAAAAAAAAAAAAAAAAAAAAAAAAAAAAAAAAAAAAAAAAAAAAAAAAAAAAAAAAAAAAAAAAAAAAAAAAAAAAAAAAAAAAAAAAAAAAAAAAAAAAAAAAAAAAAAAAAAAAAAAAAAAAAAAAAAAAAAAAAAAAAAAAAAAAAAAAAAAAAAAAAAAAAAAAAAAAAAAAAAAAAAAAAAAAAAAAAAAAAAAAAAAAAAAAAAAAAAAAAAAAAAAAAAAAAAAAAAAAAAAAAAAAAAAAAAAAAAAAAAAAAAAAAAAAAAAAAAAAAAAAAAAAAAAAAAAAAAAAAAAAAAAAAAAAAAAAAAAAAAAAAAAAAAAAAAAAAAAAAAAAAAAAAAAAAAAAAAAAAAAAAAAAAAAAAAAAAAAAAAAAAAAAAAAAAAAAAAAAAAAAAAAAAAAAAAAAAAAAAAAAAAAAAAAAAAAAAAAAAAAAAAAAAAAAAAAAAAAAAAAAAAAAAAAAAAAAAAAAAAAAAAAAAAAAAAAAAAAAAAAAAAAAAAAAAAAAAAAAAAAAAAAAAAAAAAAAAAAAAAAAAAAAAAAAAAAAAAAAAAAAAAAAAAAAAAAAAAAAAAAAAAAAAAAAAAAAAAAAAAAAAAAAAAAAAAAAAAAAAAAAAAAAAAAAAAAAAAAAAAAAAAAAAAAAAAAAAAAAAAAAAAAAAAAAAAAAAAAAAAAAAAAAAAAAAAAAAAAAAAAAAAAAAAAAAAAAAAAAAAAAAAAAAAAAAAAAAAAAAAAAAAAAAAAAAAAAAAAAAAAAAAAAAAAAAAAAAAAAAAAAAAAAAAAAAAAAAAAAAAAAAAAAAAAAAAAAAAAAAAAAAAAAAAAAAAAAAAAAAAAAAAAAAAAAAAAAAAAAAAAAAAAAAAAAAAAAAAAAAAAAAAAAAAAAAAAAAAAAAAAAAAAAAAAAAAAAAAAAAAAAAAAAAAAAAAAAAAAAAAAAAAAAAAAAAAAAAAAAAAAAAAAAAAAAAAAAAAAAAAAAAAAAAAAAAAAAAAAAAAAAAAAAAAAAAAAAAAAAAAAAAAAAAAA\",\"dtype\":\"float64\",\"shape\":[1602]}}},\"id\":\"279f1d83-1af7-4118-91cb-4715ee1e2c16\",\"type\":\"ColumnDataSource\"},{\"attributes\":{\"callback\":null},\"id\":\"5b8aea13-d49a-466c-aa1e-92b4b5d68e08\",\"type\":\"DataRange1d\"},{\"attributes\":{\"plot\":{\"id\":\"ee224ec3-a7da-440f-a247-477c839ce091\",\"subtype\":\"Figure\",\"type\":\"Plot\"}},\"id\":\"9df59cc6-745b-4879-9d19-b618500313af\",\"type\":\"HelpTool\"},{\"attributes\":{\"line_alpha\":{\"value\":0.1},\"line_color\":{\"value\":\"#1f77b4\"},\"line_width\":{\"value\":2},\"x\":{\"field\":\"x\"},\"y\":{\"field\":\"y\"}},\"id\":\"44a3ae77-54da-49b8-81c3-d44b8a1a171c\",\"type\":\"Line\"},{\"attributes\":{\"callback\":null,\"end\":1.1,\"start\":-0.1},\"id\":\"9d889151-db5e-49c2-a7a0-ca1c20ed3f94\",\"type\":\"Range1d\"},{\"attributes\":{\"data_source\":{\"id\":\"d3bf9c10-324d-4af1-a964-6e04948b601c\",\"type\":\"ColumnDataSource\"},\"glyph\":{\"id\":\"79510f9d-4703-4574-bbd9-45d19c9fb935\",\"type\":\"Line\"},\"hover_glyph\":null,\"nonselection_glyph\":{\"id\":\"b09e60b8-2451-4db1-b391-f28985bead1d\",\"type\":\"Line\"},\"selection_glyph\":null},\"id\":\"b9360f35-3817-4802-809e-5637e02106d5\",\"type\":\"GlyphRenderer\"},{\"attributes\":{\"label\":{\"value\":\"Prioritised minus pseudo rewards IS\"},\"renderers\":[{\"id\":\"5e630e7c-20a3-40f8-a602-4c70e1cc4059\",\"type\":\"GlyphRenderer\"}]},\"id\":\"62bf66b3-a754-4398-a018-623ab72d6f24\",\"type\":\"LegendItem\"},{\"attributes\":{\"items\":[{\"id\":\"717a6771-c934-4b6a-be1e-97e2c1432756\",\"type\":\"LegendItem\"},{\"id\":\"62bf66b3-a754-4398-a018-623ab72d6f24\",\"type\":\"LegendItem\"},{\"id\":\"ff3241bf-b80c-4c0f-b0da-103784b3a0d1\",\"type\":\"LegendItem\"}],\"location\":[0,-30],\"plot\":{\"id\":\"ee224ec3-a7da-440f-a247-477c839ce091\",\"subtype\":\"Figure\",\"type\":\"Plot\"}},\"id\":\"54056fcb-4d17-4746-b453-8acbca214e9a\",\"type\":\"Legend\"},{\"attributes\":{\"axis_label\":\"T\",\"formatter\":{\"id\":\"def2ac7a-1b77-4fac-ba44-304343a25720\",\"type\":\"BasicTickFormatter\"},\"plot\":{\"id\":\"ee224ec3-a7da-440f-a247-477c839ce091\",\"subtype\":\"Figure\",\"type\":\"Plot\"},\"ticker\":{\"id\":\"a95b8353-60a2-47f8-8bec-84f5aae50092\",\"type\":\"BasicTicker\"}},\"id\":\"66df6f5d-788d-4e21-a9be-134a5456029b\",\"type\":\"LinearAxis\"},{\"attributes\":{\"data_source\":{\"id\":\"7b8c8b8d-882b-43b5-8bed-1524a7b2efc5\",\"type\":\"ColumnDataSource\"},\"glyph\":{\"id\":\"da45161d-6a92-4d88-a6d4-607ada8b67a7\",\"type\":\"Line\"},\"hover_glyph\":null,\"nonselection_glyph\":{\"id\":\"44a3ae77-54da-49b8-81c3-d44b8a1a171c\",\"type\":\"Line\"},\"selection_glyph\":null},\"id\":\"5e630e7c-20a3-40f8-a602-4c70e1cc4059\",\"type\":\"GlyphRenderer\"},{\"attributes\":{\"dimension\":1,\"plot\":{\"id\":\"ee224ec3-a7da-440f-a247-477c839ce091\",\"subtype\":\"Figure\",\"type\":\"Plot\"},\"ticker\":{\"id\":\"cf96eb4e-652d-4a6a-ad37-2e2841b0ef03\",\"type\":\"BasicTicker\"}},\"id\":\"cafc18b6-3dba-4231-bd3a-cec750426ed1\",\"type\":\"Grid\"},{\"attributes\":{\"use_scientific\":false},\"id\":\"def2ac7a-1b77-4fac-ba44-304343a25720\",\"type\":\"BasicTickFormatter\"},{\"attributes\":{\"plot\":null,\"text\":\"Med Maze 10 Prioritized Minus PseudoReward\"},\"id\":\"970fcdd6-f73d-4906-a099-caeba7dbb5b4\",\"type\":\"Title\"},{\"attributes\":{\"callback\":null,\"column_names\":[\"x\",\"y\"],\"data\":{\"x\":[0,1000,2000,3000,4000,5000,6000,7000,8000,9000,10000,11000,12000,13000,14000,15000,16000,17000,18000,19000,20000,21000,22000,23000,24000,25000,26000,27000,28000,29000,30000,31000,32000,33000,34000,35000,36000,37000,38000,39000,40000,41000,42000,43000,44000,45000,46000,47000,48000,49000,50000,51000,52000,53000,54000,55000,56000,57000,58000,59000,60000,61000,62000,63000,64000,65000,66000,67000,68000,69000,70000,71000,72000,73000,74000,75000,76000,77000,78000,79000,80000,81000,82000,83000,84000,85000,86000,87000,88000,89000,90000,91000,92000,93000,94000,95000,96000,97000,98000,99000,100000,101000,102000,103000,104000,105000,106000,107000,108000,109000,110000,111000,112000,113000,114000,115000,116000,117000,118000,119000,120000,121000,122000,123000,124000,125000,126000,127000,128000,129000,130000,131000,132000,133000,134000,135000,136000,137000,138000,139000,140000,141000,142000,143000,144000,145000,146000,147000,148000,149000,150000,151000,152000,153000,154000,155000,156000,157000,158000,159000,160000,161000,162000,163000,164000,165000,166000,167000,168000,169000,170000,171000,172000,173000,174000,175000,176000,177000,178000,179000,180000,181000,182000,183000,184000,185000,186000,187000,188000,189000,190000,191000,192000,193000,194000,195000,196000,197000,198000,199000,200000,201000,202000,203000,204000,205000,206000,207000,208000,209000,210000,211000,212000,213000,214000,215000,216000,217000,218000,219000,220000,221000,222000,223000,224000,225000,226000,227000,228000,229000,230000,231000,232000,233000,234000,235000,236000,237000,238000,239000,240000,241000,242000,243000,244000,245000,246000,247000,248000,249000,250000,251000,252000,253000,254000,255000,256000,257000,258000,259000,260000,261000,262000,263000,264000,265000,266000,267000,268000,269000,270000,271000,272000,273000,274000,275000,276000,277000,278000,279000,280000,281000,282000,283000,284000,285000,286000,287000,288000,289000,290000,291000,292000,293000,294000,295000,296000,297000,298000,299000,300000,301000,302000,303000,304000,305000,306000,307000,308000,309000,310000,311000,312000,313000,314000,315000,316000,317000,318000,319000,320000,321000,322000,323000,324000,325000,326000,327000,328000,329000,330000,331000,332000,333000,334000,335000,336000,337000,338000,339000,340000,341000,342000,343000,344000,345000,346000,347000,348000,349000,350000,351000,352000,353000,354000,355000,356000,357000,358000,359000,360000,361000,362000,363000,364000,365000,366000,367000,368000,369000,370000,371000,372000,373000,374000,375000,376000,377000,378000,379000,380000,381000,382000,383000,384000,385000,386000,387000,388000,389000,390000,391000,392000,393000,394000,395000,396000,397000,398000,399000,400000,401000,402000,403000,404000,405000,406000,407000,408000,409000,410000,411000,412000,413000,414000,415000,416000,417000,418000,419000,420000,421000,422000,423000,424000,425000,426000,427000,428000,429000,430000,431000,432000,433000,434000,435000,436000,437000,438000,439000,440000,441000,442000,443000,444000,445000,446000,447000,448000,449000,450000,451000,452000,453000,454000,455000,456000,457000,458000,459000,460000,461000,462000,463000,464000,465000,466000,467000,468000,469000,470000,471000,472000,473000,474000,475000,476000,477000,478000,479000,480000,481000,482000,483000,484000,485000,486000,487000,488000,489000,490000,491000,492000,493000,494000,495000,496000,497000,498000,499000,500000,501000,502000,503000,504000,505000,506000,507000,508000,509000,510000,511000,512000,513000,514000,515000,516000,517000,518000,519000,520000,521000,522000,523000,524000,525000,526000,527000,528000,529000,530000,531000,532000,533000,534000,535000,536000,537000,538000,539000,540000,541000,542000,543000,544000,545000,546000,547000,548000,549000,550000,551000,552000,553000,554000,555000,556000,557000,558000,559000,560000,561000,562000,563000,564000,565000,566000,567000,568000,569000,570000,571000,572000,573000,574000,575000,576000,577000,578000,579000,580000,581000,582000,583000,584000,585000,586000,587000,588000,589000,590000,591000,592000,593000,594000,595000,596000,597000,598000,599000,600000,601000,602000,603000,604000,605000,606000,607000,608000,609000,610000,611000,612000,613000,614000,615000,616000,617000,618000,619000,620000,621000,622000,623000,624000,625000,626000,627000,628000,629000,630000,631000,632000,633000,634000,635000,636000,637000,638000,639000,640000,641000,642000,643000,644000,645000,646000,647000,648000,649000,650000,651000,652000,653000,654000,655000,656000,657000,658000,659000,660000,661000,662000,663000,664000,665000,666000,667000,668000,669000,670000,671000,672000,673000,674000,675000,676000,677000,678000,679000,680000,681000,682000,683000,684000,685000,686000,687000,688000,689000,690000,691000,692000,693000,694000,695000,696000,697000,698000,699000,700000,701000,702000,703000,704000,705000,706000,707000,708000,709000,710000,711000,712000,713000,714000,715000,716000,717000,718000,719000,720000,721000,722000,723000,724000,725000,726000,727000,728000,729000,730000,731000,732000,733000,734000,735000,736000,737000,738000,739000,740000,741000,742000,743000,744000,745000,746000,747000,748000,749000,750000,751000,752000,753000,754000,755000,756000,757000,758000,759000,760000,761000,762000,763000,764000,765000,766000,767000,768000,769000,770000,771000,772000,773000,774000,775000,776000,777000,778000,779000,780000,781000,782000,783000,784000,785000,786000,787000,788000,789000,790000,791000,792000,793000,794000,795000,796000,797000,798000,799000,800000],\"y\":{\"__ndarray__\":\"AAAAAAAAAAAAAAAAAAAAAAAAAAAAAAAAAAAAAAAAAAAAAAAAAAAAAAAAAAAAAAAAAAAAAAAAAAAAAAAAAAAAAAAAAAAAAAAAAAAAAAAAAAAAAAAAAAAAAAAAAAAAAAAAAAAAAAAAAAAAAAAAAAAAAAAAAAAAAAAAAAAAAAAAAAAAAAAAAAAAAAAAAAAAAAAAAAAAAAAAAAAAAAAAAAAAAAAAAAAAAAAAAAAAAAAAAAAAAAAAAAAAAAAAAAAAAAAAAAAAAAAAAAAAAAAAAAAAAAAAAAAAAAAAAAAAAAAAAAAAAAAAAAAAAAAAAAAAAAAAAAAAAAAAAAAAAAAAAAAAAAAAAAAAAAAAAAAAAAAAAAAAAAAAAAAAAAAAAAAAAAAAAAAAAAAAAAAAAAAAAAAAAAAAAAAAAAAAAAAAAAAAAAAAAAAAAAAAAAAAAAAAAAAAAAAAAAAAAAAAAAAAAAAAAAAAAAAAAAAAAAAAAAAAAAAAAAAAAAAAAAAAAAAAAAAAAAAAAAAAAAAAAAAAAAAAAAAAAAAAAAAAAAAAAAAAAAAAAAAAAAAAAAAAAAAAAAAAAAAAAAAAAAAAAAAAAAAAAAAAAAAAAAAAAAAAAAAAAAAAAAAAAAAAAAAAAAAAAAAAAAAAAAAAAAAAAAAAAAAAAAAAAAAAAAAAAAAAAAAAAAAAAAAAAAAAAAAAAAAAAAAAAAAAAAAAAAAAAAAAAAAAAAAAAAAAAAAAAAAAAAAAAAAAAAAAAAAAAAAAAAAAAAAAAAAAAAAAAAAAAAAAAAAAAAAAAAAAAAAAAAAAAAAAAAAAAAAAAAAAAAAAAAAAAAAAAAAAAAAAAAAAAAAAAAAAAAAAAAAAAAAAAAAAAAAAAAAAAAAAAAAAAAAAAAAAAAAAAAAAAAAAAAAAAAAAAAAAAAAAAAAAAAAAAAAAAAAAAAAAAAAAAAAAAAAAAAAAAAAAAAAAAAAAAAAAAAAAAAAAAAAAAAAAAAAAAAAAAAAAAAAAAAAAAAAAAAAAAAAAAAAAAAAAAAAAAAAAAAAAAAAAAAAAAAAAAAAAAAAAAAAAAAAAAAAAAAAAAAAAAAAAAAAAAAAAAAAAAAAAAAAAAAAAAAAAAAAAAAAAAAAAAAAAAAAAAAAAAAAAAAAAAAAAAAAAAAAAAAAAAAAAAAAAAAAAAAAAAAAAAAAAAAAAAAAAAAAAAAAAAAAAAAAAAAAAAAAAAAAAAAAAAAAAAAAAAAAAAAAAAAAAAAAAAAAAAAAAAAAAAAAAAAAAAAAAAAAAAAAAAAAAAAAAAAAAAAAAAAAAAAAAAAAAAAAAAAAAAAAAAAAAAAAAAAAAAAAAAAAAAAAAAAAAAAAAAAAAAAAAAAAAAAAAAAAAAAAAAAAAAAAAAAAAAAAAAAAAAAAAAAAAAAAAAAAAAAAAAAAAAAAAAAAAAAAAAAAAAAAAAAAAAAAAAAAAAAAAAAAAAAAAAAAAAAAAAAAAAAAAAAAAAAAAAAAAAAAAAAAAAAAAAAAAAAAAAAAAAAAAAAAAAAAAAAAAAAAAAAAAAAAAAAAAAAAAAAAAAAAAAAAAAAAAAAAAAAAAAAAAAAAAAAAAAAAAAAAAAAAAAAAAAAAAAAAAAAAAAAAAAAAAAAAAAAAAAAAAAAAAAAAAAAAAAAAAAAAAAAAAAAAAAAAAAAAAAAAAAAAAAAAAAAAAAAAAAAAAAAAAAAAAAAAAAAAAAAAAAAAAAAAAAAAAAAAAAAAAAAAAAAAAAAAAAAAAAAAAAAAAAAAAAAAAAAAAAAAAAAAAAAAAAAAAAAAAAAAAAAAAAAAAAAAAAAAAAAAAAAAAAAAAAAAAAAAAAAAAAAAAAAAAAAAAAAAAAAAAAAAAAAAAAAAAAAAAAAAAAAAAAAAAAAAAAAAAAAAAAAAAAAAAAAAAAAAAAAAAAAAAAAAAAAAAAAAAAAAAAAAAAAAAAAAAAAAAAAAAAAAAAAAAAAAAAAAAAAAAAAAAAAAAAAAAAAAAAAAAAAAAAAAAAAAAAAAAAAAAAAAAAAAAAAAAAAAAAAAAAAAAAAAAAAAAAAAAAAAAAAAAAAAAAAAAAAAAAAAAAAAAAAAAAAAAAAAAAAAAAAAAAAAAAAAAAAAAAAAAAAAAAAAAAAAAAAAAAAAAAAAAAAAAAAAAAAAAAAAAAAAAAAAAAAAAAAAAAAAAAAAAAAAAAAAAAAAAAAAAAAAAAAAAAAAAAAAAAAAAAAAAAAAAAAAAAAAAAAAAAAAAAAAAAAAAAAAAAAAAAAAAAAAAAAAAAAAAAAAAAAAAAAAAAAAAAAAAAAAAAAAAAAAAAAAAAAAAAAAAAAAAAAAAAAAAAAAAAAAAAAAAAAAAAAAAAAAAAAAAAAAAAAAAAAAAAAAAAAAAAAAAAAAAAAAAAAAAAAAAAAAAAAAAAAAAAAAAAAAAAAAAAAAAAAAAAAAAAAAAAAAAAAAAAAAAAAAAAAAAAAAAAAAAAAAAAAAAAAAAAAAAAAAAAAAAAAAAAAAAAAAAAAAAAAAAAAAAAAAAAAAAAAAAAAAAAAAAAAAAAAAAAAAAAAAAAAAAAAAAAAAAAAAAAAAAAAAAAAAAAAAAAAAAAAAAAAAAAAAAAAAAAAAAAAAAAAAAAAAAAAAAAAAAAAAAAAAAAAAAAAAAAAAAAAAAAAAAAAAAAAAAAAAAAAAAAAAAAAAAAAAAAAAAAAAAAAAAAAAAAAAAAAAAAAAAAAAAAAAAAAAAAAAAAAAAAAAAAAAAAAAAAAAAAAAAAAAAAAAAAAAAAAAAAAAAAAAAAAAAAAAAAAAAAAAAAAAAAAAAAAAAAAAAAAAAAAAAAAAAAAAAAAAAAAAAAAAAAAAAAAAAAAAAAAAAAAAAAAAAAAAAAAAAAAAAAAAAAAAAAAAAAAAAAAAAAAAAAAAAAAAAAAAAAAAAAAAAAAAAAAAAAAAAAAAAAAAAAAAAAAAAAAAAAAAAAAAAAAAAAAAAAAAAAAAAAAAAAAAAAAAAAAAAAAAAAAAAAAAAAAAAAAAAAAAAAAAAAAAAAAAAAAAAAAAAAAAAAAAAAAAAAAAAAAAAAAAAAAAAAAAAAAAAAAAAAAAAAAAAAAAAAAAAAAAAAAAAAAAAAAAAAAAAAAAAAAAAAAAAAAAAAAAAAAAAAAAAAAAAAAAAAAAAAAAAAAAAAAAAAAAAAAAAAAAAAAAAAAAAAAAAAAAAAAAAAAAAAAAAAAAAAAAAAAAAAAARuXxxrSSgPxG5fHGtJLA/mRU7KgQ3uD8RuXxxrSTAP1Xn283YLcQ/mRU7KgQ3yD/dQ5qGL0DMP3BHOC140c8/4IRCBBxCzT9Rwkzbv7LKP8L/VrJjI8g/Mj1hiQeUxT+jemtgqwTDPxO4dTdPdcA/COv/HObLuz/pZRTLLa22P8rgKHl1jrE/V7d6TnrfqD8yWkdVE0SdP26LMhtkkoE/AAAAAAAAAAAAAAAAAAAAAAAAAAAAAAAAAAAAAAAAAAAAAAAAAAAAAAAAAAAAAAAAAAAAAAAAAAAAAAAAAAAAAAAAAAAAAAAAAAAAAAAAAAAAAAAAAAAAAAAAAAAAAAAAAAAAAAAAAAAAAAAAAAAAAAAAAAAAAAAAAAAAAAAAAAAAAAAAAAAAAAAAAAAAAAAAAAAAAAAAAAAAAAAAAAAAAAAAAAAAAAAAAAAAAAAAAAAAAAAAAAAAAAAAAAAAAAAAAAAAAAAAAAAAAAAAAAAAAAAAAAAAAAAAAAAAAAAAAAAAAAAAAAAAAAAAAAAAAAAAAAAAAAAAAAAAAAAAAAAAAAAAAAAAAAAAAAAAAAAAAAAAAAAAAAAAAAAAAAAAAAAAAAAAAAAAAAAAAAAAAAAAAAAAAAAAAAAAAAAAAAAAAAAAAAAAAAAAAAAAAAAAAAAAAAAAAAAAAAAAAAAAAAAAAAAAAAAAAAAAAAAAAAAAAAAAAAAAAAAAAAAAAAAAAAAAAAAAAAAAAAAAAAAAAAAAAAAAAAAAAAAAAAAAAAAAAAAAAAAAAAAAAAAAAAAAAAAAAAAAAAAAAAAAAAAAAAAAAAAAAAAAAAAAAAAAAAAAAAAAAAAAAAAAAAAAAAAAAAAAAAAAAAAAAAAAAAAAAAAAAAAAAAAAAAAAAAAAAAAAAAAAAAAAAAAAAAAAAAAAAAAAAAAAAAAAAAAAAAAAAAAAAAAAAAAAAAAAAAAAAAAAAAAAAAAAAAAAAAAAAAAAAAAAAAAAAAAAAAAAAAAAAAAAAAAAAAAAAAAAaXthoCoHiT9z/GHpBzehPwyaqypFLKw/05v6NcGQsz+fap/WXwu5P2w5RHf+hb4/HIT0i04Awj+C60bcnb3EP+lSmSztesc/T7rrfDw4yj+1IT7Ni/XMPxuJkB3bss8/KssQx7q4zT+bCBueXinLPwtGJXUCmsg/fIMvTKYKxj/swDkjSnvDP13+Q/rt68A/m3ecoiO5vD988rBQa5q3P11txf6ye7I/fdCzWfW5qj8/xty1hHygPwfwFkhQ/Ig/AAAAAAAAAAAAAAAAAAAAAAAAAAAAAAAAAAAAAAAAAAAAAAAAAAAAAAAAAAAAAAAAAAAAAAAAAAAAAAAAAAAAAAAAAAAAAAAAAAAAAAAAAAAAAAAAAAAAAAAAAAAAAAAAAAAAAAAAAAAAAAAAAAAAAAAAAAAAAAAAAAAAAAAAAAAAAAAAAAAAAAAAAAAAAAAAAAAAAAAAAAAAAAAAAAAAAAAAAAAAAAAAAAAAAAAAAAAAAAAAAAAAAAAAAAAAAAAAAAAAAAAAAAAAAAAAAAAAAAAAAAAAAAAAAAAAAAAAAAAAAAAAAAAAAAAAAAAAAAAAAAAAAAAAAAAAAAAAAAAAAAAAAAAAAAAAAAAAAAAAAAAAAAAAAAAAAAAAAAAAAAAAAAAAAAAAAAAAAAAAAAAAAAAAAAAAAAAAAAAAAAAAAAAAAAAAAAAAAAAAAAAAAAAAAAAAAAAAAAAAAAAAAAAAAAAAAAAAAAAAAAAAAAAAAAAAAAAAAAAAAAAAAAAAAAAAAAAAAAAAAAAAAAAAAAAAAAAAAAAAAAAAAAAAAAAAAAAAAAAAAAAAAAAAAAAAAAAAAAAAAAAAAAAAAAAAAAAAAAAAAAAAAAAAAAAAAAAAAAAAAAAAAAAAAAAAAAAAAAAAAAAAAAAAAAAAAAAAAAAAAAAAAAAAAAAAAAAAAAAAAAAAAAAAAAAAAAAAAAAAAAAAAAAAAAAAAAAAAAAAAAAAAAAAAAAAAAAAAAAAAAAAAAAAAAAAAAAAAAAAAAAAAAAAAAAAAAAAAAAAAAAAAAAAAAAAAAAAAAAAAAAAAAAAAAAAAAAAAAAAAAAAAAAAAAAAAAAAAAAAAAAAAAAAAAAAAAAAAAAAAAAAAAAAAAAAAAAAAAAAAAAAAAAAAAAAAAAAAAAAAAAAAAAAAAAAAAAAAAAAAAAAAAAAAAAAAAAAAAAAAAAAAAAAAAAAAAAAAAAAAAAAAAAAAAAAAAAAAAAAAAAAAAAAAAAAAAAAAAAAAAAAAAAAAAAAAAAAAAAAAAAAAAAAAAAAAAAAAAAAAAAAAAAAAAAAAAAAAAAAAAAAAACJTuMFt4+FP+bKJCE1NqM/FWFoQD6EsD+3XD7wYW23P1lYFKCFVr4//in1p9Sfwj+F7ATwItPLP4ZXCpw4g9I/yjgSwN8c1z9siUngeH3bP8jrWxjXXN4/AAAAAAAA4D8AAAAAAADgPwAAAAAAAOA/AAAAAAAA4D8AAAAAAADgPwAAAAAAAOA/AAAAAAAA4D8AAAAAAADgPwAAAAAAAOA/AAAAAAAA4D8AAAAAAADgPwAAAAAAAOA/AAAAAAAA4D8AAAAAAADgPwAAAAAAAOA/AAAAAAAA4D8AAAAAAADgPwAAAAAAAOA/pYgMq3gj3z9dp5GWytvdPxbGFoIclNw/zuSbbW5M2z+GAyFZwATaPz4ipkQSvdg/9kArMGR11z+vX7Abti3WP2d+NQcI5tQ/IJ268lme0z/Yuz/eq1bSP5DaxMn9DtE/UKHZacZX0D8yJVMyJVPSPxWpzPqDTtQ/9yxGw+JJ1j/asL+LQUXYP7w0OVSgQNo/nriyHP873D+APCzlXTfePwAAAAAAAOA/AAAAAAAA4D8AAAAAAADgPwAAAAAAAOA/AAAAAAAA4D8AAAAAAADgPwAAAAAAAOA/AAAAAAAA4D8AAAAAAADgPwAAAAAAAOA/AAAAAAAA4D8AAAAAAADgPwAAAAAAAOA/AAAAAAAA4D8AAAAAAADgPwAAAAAAAOA/AAAAAAAA4D8AAAAAAADgPwAAAAAAAOA/AAAAAAAA4D8AAAAAAADgPwAAAAAAAOA/AAAAAAAA4D8AAAAAAADgPwAAAAAAAOA/AAAAAAAA4D8AAAAAAADgPwAAAAAAAOA/AAAAAAAA4D8AAAAAAADgPwAAAAAAAOA/AAAAAAAA4D8AAAAAAADgPwAAAAAAAOA/AAAAAAAA4D8AAAAAAADgPwAAAAAAAOA/AAAAAAAA4D8AAAAAAADgPwAAAAAAAOA/AAAAAAAA4D8AAAAAAADgPwAAAAAAAOA/AAAAAAAA4D8AAAAAAADgPwAAAAAAAOA/AAAAAAAA4D8AAAAAAADgPwAAAAAAAOA/AAAAAAAA4D8AAAAAAADgPwAAAAAAAOA/AAAAAAAA4D8AAAAAAADgPwAAAAAAAOA/AAAAAAAA4D8AAAAAAADgPwAAAAAAAOA/AAAAAAAA4D8AAAAAAADgPwAAAAAAAOA/////////3z8AAAAAAADgPwAAAAAAAOA/AAAAAAAA4D8AAAAAAADgPwAAAAAAAOA/AAAAAAAA4D8AAAAAAADgP6uqqqqqpuA/AAAAAAD04T9VVVVVVUHjP6qqqqqqjuQ/AAAAAADc5T9VVVVVVSnnP4RHG0esxec/4NbdPNUh5z88ZqAy/n3mP5n1Yign2uU/9IQlHlA25T9RFOgTeZLkP62jqgmi7uM/CTNt/8pK4z9mwi/186biP8JR8uocA+I/HuG04EVf4T96cHfWbrvgP9b/OcyXF+A/AAAAAAAA4D8AAAAAAADgPwAAAAAAAOA/AAAAAAAA4D8AAAAAAADgPwAAAAAAAOA/AAAAAAAA4D8AAAAAAADgPwAAAAAAAOA/AAAAAAAA4D8AAAAAAADgPwAAAAAAAOA/cUKUKItV4D+5MxKm1UXhPwElkCMgNuI/ShYOoWom4z+SB4wetRbkP9r4CZz/BuU/IuqHGUr35T9q2wWXlOfmP7LMgxTf1+c/AAAAAAAA6D8AAAAAAADoPwAAAAAAAOg/AAAAAAAA6D8AAAAAAADoPwAAAAAAAOg/AAAAAAAA6D8AAAAAAADoPwAAAAAAAOg/AAAAAAAA6D8AAAAAAADoPwAAAAAAAOg/AAAAAAAA6D8AAAAAAADoPwAAAAAAAOg/AAAAAAAA6D8AAAAAAADoPwAAAAAAAOg/AAAAAAAA6D8AAAAAAADoPwAAAAAAAOg/AAAAAAAA6D8AAAAAAADoPwAAAAAAAOg/AAAAAAAA6D8AAAAAAADoPwAAAAAAAOg/AAAAAAAA6D8AAAAAAADoPwAAAAAAAOg/3dJqSNxj5z85Yi0+BcDmP5Xx7zMuHOY/8YCyKVd45T9OEHUfgNTkP9wYr8LdleQ/m5pgE3C85D9aHBJkAuPkPxqew7SUCeU/2R91BScw5T+YoSZWuVblP1gj2KZLfeU/1b7dtHqR5j+lJM3MlMToP3OKvOSu9+o/g3gahOCe7D9Le902umPtPxN+oOmTKO4/aCeDo+TV7T/EtkWZDTLtPyBGCI82juw/fNXKhF/q6z/YZI16iEbrPzT0T3Cxouo/kIMSZtr+6T/sEtVbA1vpP0mil1Est+g/pTFaR1UT6D8AAAAAAADoPwAAAAAAAOg/AAAAAAAA6D8AAAAAAADoPwAAAAAAAOg/AAAAAAAA6D8AAAAAAADoPwAAAAAAAOg/AAAAAAAA6D8AAAAAAADoPwAAAAAAAOg/AAAAAAAA6D8AAAAAAADoPwAAAAAAAOg/AAAAAAAA6D8AAAAAAADoPwAAAAAAAOg/AAAAAAAA6D8AAAAAAADoPwAAAAAAAOg/F9nO91Pj5z9yaJHtfD/nP8/3U+Olm+Y/K4cW2c735T+HFtnO91PlP/++mk6nR+U/RlFVeJxP5T+O4w+ikVflP9Z1ysuGX+U/HQiF9Xtn5T9lmj8fcW/lP6ws+khmd+U/9L60clt/5T/9aP9jqbTmP5Llqx0Pe+g/JWJY13RB6j+63gSR2gfsP85jJA60i+w/1GybiXYC7T/YdRIFOXntP7vyWZ4Hd+0/F4IclDDT7D9zEd+JWS/sP8+goX+Ci+s/KzBkdavn6j+IvyZr1EPqP+RO6WD9n+k/QN6rVib86D+cbW5MT1joP1EsL6Nufeg/A3nW8oSN6T+1xX1Cm53qP2YSJZKxres/GF/M4ce97D/Kq3Mx3s3tP3z4GoH03e4/LkXC0Aru7z+eJF0z+WbvP/qzHykiw+4/V0PiHksf7j+z0qQUdHvtPw9iZwqd1+w/a/EpAMYz7D/HgOz17o/rPyQQr+sX7Oo/\",\"dtype\":\"float64\",\"shape\":[801]}}},\"id\":\"7b8c8b8d-882b-43b5-8bed-1524a7b2efc5\",\"type\":\"ColumnDataSource\"},{\"attributes\":{\"below\":[{\"id\":\"66df6f5d-788d-4e21-a9be-134a5456029b\",\"type\":\"LinearAxis\"}],\"left\":[{\"id\":\"4064ca67-90f0-4f30-8170-03a879aa9fa8\",\"type\":\"LinearAxis\"}],\"plot_height\":800,\"plot_width\":1200,\"renderers\":[{\"id\":\"66df6f5d-788d-4e21-a9be-134a5456029b\",\"type\":\"LinearAxis\"},{\"id\":\"48273ad7-107d-4fe3-b965-df04a80f429c\",\"type\":\"Grid\"},{\"id\":\"4064ca67-90f0-4f30-8170-03a879aa9fa8\",\"type\":\"LinearAxis\"},{\"id\":\"cafc18b6-3dba-4231-bd3a-cec750426ed1\",\"type\":\"Grid\"},{\"id\":\"658c17ac-ab7c-46b5-b8b5-0ad276e71546\",\"type\":\"BoxAnnotation\"},{\"id\":\"59f69269-9ec4-4dcc-be1a-3c07232fd323\",\"type\":\"GlyphRenderer\"},{\"id\":\"b19a00ec-abac-4b8f-b9b4-2752425bda6b\",\"type\":\"GlyphRenderer\"},{\"id\":\"eec3bdc1-10e8-4de9-b13a-4a77fffa3804\",\"type\":\"GlyphRenderer\"},{\"id\":\"5e630e7c-20a3-40f8-a602-4c70e1cc4059\",\"type\":\"GlyphRenderer\"},{\"id\":\"a43247c4-6b7f-48cb-819d-c5a03a583cb5\",\"type\":\"GlyphRenderer\"},{\"id\":\"b9360f35-3817-4802-809e-5637e02106d5\",\"type\":\"GlyphRenderer\"},{\"id\":\"54056fcb-4d17-4746-b453-8acbca214e9a\",\"type\":\"Legend\"}],\"right\":[{\"id\":\"54056fcb-4d17-4746-b453-8acbca214e9a\",\"type\":\"Legend\"}],\"title\":{\"id\":\"970fcdd6-f73d-4906-a099-caeba7dbb5b4\",\"type\":\"Title\"},\"tool_events\":{\"id\":\"9280146e-1b7f-4bad-b846-6b9abea1f40b\",\"type\":\"ToolEvents\"},\"toolbar\":{\"id\":\"5847fbc5-2f9f-4a13-908e-ff5c8cddcc34\",\"type\":\"Toolbar\"},\"toolbar_location\":\"above\",\"x_range\":{\"id\":\"5b8aea13-d49a-466c-aa1e-92b4b5d68e08\",\"type\":\"DataRange1d\"},\"y_range\":{\"id\":\"9d889151-db5e-49c2-a7a0-ca1c20ed3f94\",\"type\":\"Range1d\"}},\"id\":\"ee224ec3-a7da-440f-a247-477c839ce091\",\"subtype\":\"Figure\",\"type\":\"Plot\"},{\"attributes\":{\"data_source\":{\"id\":\"e21c13f7-a4b8-4109-8754-7fab27fe1fc3\",\"type\":\"ColumnDataSource\"},\"glyph\":{\"id\":\"1906ca57-cb2e-4a57-a73e-3caacc030bba\",\"type\":\"Patch\"},\"hover_glyph\":null,\"nonselection_glyph\":{\"id\":\"cd94e779-f23b-476b-a39e-46db760e961f\",\"type\":\"Patch\"},\"selection_glyph\":null},\"id\":\"eec3bdc1-10e8-4de9-b13a-4a77fffa3804\",\"type\":\"GlyphRenderer\"},{\"attributes\":{\"line_color\":{\"value\":\"#e41a1c\"},\"line_width\":{\"value\":2},\"x\":{\"field\":\"x\"},\"y\":{\"field\":\"y\"}},\"id\":\"f2199efc-d7e0-4727-81b8-476ece7eb1e2\",\"type\":\"Line\"},{\"attributes\":{\"label\":{\"value\":\"Uniform\"},\"renderers\":[{\"id\":\"b19a00ec-abac-4b8f-b9b4-2752425bda6b\",\"type\":\"GlyphRenderer\"}]},\"id\":\"717a6771-c934-4b6a-be1e-97e2c1432756\",\"type\":\"LegendItem\"},{\"attributes\":{\"callback\":null,\"column_names\":[\"x\",\"y\"],\"data\":{\"x\":[0,1000,2000,3000,4000,5000,6000,7000,8000,9000,10000,11000,12000,13000,14000,15000,16000,17000,18000,19000,20000,21000,22000,23000,24000,25000,26000,27000,28000,29000,30000,31000,32000,33000,34000,35000,36000,37000,38000,39000,40000,41000,42000,43000,44000,45000,46000,47000,48000,49000,50000,51000,52000,53000,54000,55000,56000,57000,58000,59000,60000,61000,62000,63000,64000,65000,66000,67000,68000,69000,70000,71000,72000,73000,74000,75000,76000,77000,78000,79000,80000,81000,82000,83000,84000,85000,86000,87000,88000,89000,90000,91000,92000,93000,94000,95000,96000,97000,98000,99000,100000,101000,102000,103000,104000,105000,106000,107000,108000,109000,110000,111000,112000,113000,114000,115000,116000,117000,118000,119000,120000,121000,122000,123000,124000,125000,126000,127000,128000,129000,130000,131000,132000,133000,134000,135000,136000,137000,138000,139000,140000,141000,142000,143000,144000,145000,146000,147000,148000,149000,150000,151000,152000,153000,154000,155000,156000,157000,158000,159000,160000,161000,162000,163000,164000,165000,166000,167000,168000,169000,170000,171000,172000,173000,174000,175000,176000,177000,178000,179000,180000,181000,182000,183000,184000,185000,186000,187000,188000,189000,190000,191000,192000,193000,194000,195000,196000,197000,198000,199000,200000,201000,202000,203000,204000,205000,206000,207000,208000,209000,210000,211000,212000,213000,214000,215000,216000,217000,218000,219000,220000,221000,222000,223000,224000,225000,226000,227000,228000,229000,230000,231000,232000,233000,234000,235000,236000,237000,238000,239000,240000,241000,242000,243000,244000,245000,246000,247000,248000,249000,250000,251000,252000,253000,254000,255000,256000,257000,258000,259000,260000,261000,262000,263000,264000,265000,266000,267000,268000,269000,270000,271000,272000,273000,274000,275000,276000,277000,278000,279000,280000,281000,282000,283000,284000,285000,286000,287000,288000,289000,290000,291000,292000,293000,294000,295000,296000,297000,298000,299000,300000,301000,302000,303000,304000,305000,306000,307000,308000,309000,310000,311000,312000,313000,314000,315000,316000,317000,318000,319000,320000,321000,322000,323000,324000,325000,326000,327000,328000,329000,330000,331000,332000,333000,334000,335000,336000,337000,338000,339000,340000,341000,342000,343000,344000,345000,346000,347000,348000,349000,350000,351000,352000,353000,354000,355000,356000,357000,358000,359000,360000,361000,362000,363000,364000,365000,366000,367000,368000,369000,370000,371000,372000,373000,374000,375000,376000,377000,378000,379000,380000,381000,382000,383000,384000,385000,386000,387000,388000,389000,390000,391000,392000,393000,394000,395000,396000,397000,398000,399000,400000,401000,402000,403000,404000,405000,406000,407000,408000,409000,410000,411000,412000,413000,414000,415000,416000,417000,418000,419000,420000,421000,422000,423000,424000,425000,426000,427000,428000,429000,430000,431000,432000,433000,434000,435000,436000,437000,438000,439000,440000,441000,442000,443000,444000,445000,446000,447000,448000,449000,450000,451000,452000,453000,454000,455000,456000,457000,458000,459000,460000,461000,462000,463000,464000,465000,466000,467000,468000,469000,470000,471000,472000,473000,474000,475000,476000,477000,478000,479000,480000,481000,482000,483000,484000,485000,486000,487000,488000,489000,490000,491000,492000,493000,494000,495000,496000,497000,498000,499000,500000,501000,502000,503000,504000,505000,506000,507000,508000,509000,510000,511000,512000,513000,514000,515000,516000,517000,518000,519000,520000,521000,522000,523000,524000,525000,526000,527000,528000,529000,530000,531000,532000,533000,534000,535000,536000,537000,538000,539000,540000,541000,542000,543000,544000,545000,546000,547000,548000,549000,550000,551000,552000,553000,554000,555000,556000,557000,558000,559000,560000,561000,562000,563000,564000,565000,566000,567000,568000,569000,570000,571000,572000,573000,574000,575000,576000,577000,578000,579000,580000,581000,582000,583000,584000,585000,586000,587000,588000,589000,590000,591000,592000,593000,594000,595000,596000,597000,598000,599000,600000,601000,602000,603000,604000,605000,606000,607000,608000,609000,610000,611000,612000,613000,614000,615000,616000,617000,618000,619000,620000,621000,622000,623000,624000,625000,626000,627000,628000,629000,630000,631000,632000,633000,634000,635000,636000,637000,638000,639000,640000,641000,642000,643000,644000,645000,646000,647000,648000,649000,650000,651000,652000,653000,654000,655000,656000,657000,658000,659000,660000,661000,662000,663000,664000,665000,666000,667000,668000,669000,670000,671000,672000,673000,674000,675000,676000,677000,678000,679000,680000,681000,682000,683000,684000,685000,686000,687000,688000,689000,690000,691000,692000,693000,694000,695000,696000,697000,698000,699000,700000,701000,702000,703000,704000,705000,706000,707000,708000,709000,710000,711000,712000,713000,714000,715000,716000,717000,718000,719000,720000,721000,722000,723000,724000,725000,726000,727000,728000,729000,730000,731000,732000,733000,734000,735000,736000,737000,738000,739000,740000,741000,742000,743000,744000,745000,746000,747000,748000,749000,750000,751000,752000,753000,754000,755000,756000,757000,758000,759000,760000,761000,762000,763000,764000,765000,766000,767000,768000,769000,770000,771000,772000,773000,774000,775000,776000,777000,778000,779000,780000,781000,782000,783000,784000,785000,786000,787000,788000,789000,790000,791000,792000,793000,794000,795000,796000,797000,798000,799000,800000,800000,799000,798000,797000,796000,795000,794000,793000,792000,791000,790000,789000,788000,787000,786000,785000,784000,783000,782000,781000,780000,779000,778000,777000,776000,775000,774000,773000,772000,771000,770000,769000,768000,767000,766000,765000,764000,763000,762000,761000,760000,759000,758000,757000,756000,755000,754000,753000,752000,751000,750000,749000,748000,747000,746000,745000,744000,743000,742000,741000,740000,739000,738000,737000,736000,735000,734000,733000,732000,731000,730000,729000,728000,727000,726000,725000,724000,723000,722000,721000,720000,719000,718000,717000,716000,715000,714000,713000,712000,711000,710000,709000,708000,707000,706000,705000,704000,703000,702000,701000,700000,699000,698000,697000,696000,695000,694000,693000,692000,691000,690000,689000,688000,687000,686000,685000,684000,683000,682000,681000,680000,679000,678000,677000,676000,675000,674000,673000,672000,671000,670000,669000,668000,667000,666000,665000,664000,663000,662000,661000,660000,659000,658000,657000,656000,655000,654000,653000,652000,651000,650000,649000,648000,647000,646000,645000,644000,643000,642000,641000,640000,639000,638000,637000,636000,635000,634000,633000,632000,631000,630000,629000,628000,627000,626000,625000,624000,623000,622000,621000,620000,619000,618000,617000,616000,615000,614000,613000,612000,611000,610000,609000,608000,607000,606000,605000,604000,603000,602000,601000,600000,599000,598000,597000,596000,595000,594000,593000,592000,591000,590000,589000,588000,587000,586000,585000,584000,583000,582000,581000,580000,579000,578000,577000,576000,575000,574000,573000,572000,571000,570000,569000,568000,567000,566000,565000,564000,563000,562000,561000,560000,559000,558000,557000,556000,555000,554000,553000,552000,551000,550000,549000,548000,547000,546000,545000,544000,543000,542000,541000,540000,539000,538000,537000,536000,535000,534000,533000,532000,531000,530000,529000,528000,527000,526000,525000,524000,523000,522000,521000,520000,519000,518000,517000,516000,515000,514000,513000,512000,511000,510000,509000,508000,507000,506000,505000,504000,503000,502000,501000,500000,499000,498000,497000,496000,495000,494000,493000,492000,491000,490000,489000,488000,487000,486000,485000,484000,483000,482000,481000,480000,479000,478000,477000,476000,475000,474000,473000,472000,471000,470000,469000,468000,467000,466000,465000,464000,463000,462000,461000,460000,459000,458000,457000,456000,455000,454000,453000,452000,451000,450000,449000,448000,447000,446000,445000,444000,443000,442000,441000,440000,439000,438000,437000,436000,435000,434000,433000,432000,431000,430000,429000,428000,427000,426000,425000,424000,423000,422000,421000,420000,419000,418000,417000,416000,415000,414000,413000,412000,411000,410000,409000,408000,407000,406000,405000,404000,403000,402000,401000,400000,399000,398000,397000,396000,395000,394000,393000,392000,391000,390000,389000,388000,387000,386000,385000,384000,383000,382000,381000,380000,379000,378000,377000,376000,375000,374000,373000,372000,371000,370000,369000,368000,367000,366000,365000,364000,363000,362000,361000,360000,359000,358000,357000,356000,355000,354000,353000,352000,351000,350000,349000,348000,347000,346000,345000,344000,343000,342000,341000,340000,339000,338000,337000,336000,335000,334000,333000,332000,331000,330000,329000,328000,327000,326000,325000,324000,323000,322000,321000,320000,319000,318000,317000,316000,315000,314000,313000,312000,311000,310000,309000,308000,307000,306000,305000,304000,303000,302000,301000,300000,299000,298000,297000,296000,295000,294000,293000,292000,291000,290000,289000,288000,287000,286000,285000,284000,283000,282000,281000,280000,279000,278000,277000,276000,275000,274000,273000,272000,271000,270000,269000,268000,267000,266000,265000,264000,263000,262000,261000,260000,259000,258000,257000,256000,255000,254000,253000,252000,251000,250000,249000,248000,247000,246000,245000,244000,243000,242000,241000,240000,239000,238000,237000,236000,235000,234000,233000,232000,231000,230000,229000,228000,227000,226000,225000,224000,223000,222000,221000,220000,219000,218000,217000,216000,215000,214000,213000,212000,211000,210000,209000,208000,207000,206000,205000,204000,203000,202000,201000,200000,199000,198000,197000,196000,195000,194000,193000,192000,191000,190000,189000,188000,187000,186000,185000,184000,183000,182000,181000,180000,179000,178000,177000,176000,175000,174000,173000,172000,171000,170000,169000,168000,167000,166000,165000,164000,163000,162000,161000,160000,159000,158000,157000,156000,155000,154000,153000,152000,151000,150000,149000,148000,147000,146000,145000,144000,143000,142000,141000,140000,139000,138000,137000,136000,135000,134000,133000,132000,131000,130000,129000,128000,127000,126000,125000,124000,123000,122000,121000,120000,119000,118000,117000,116000,115000,114000,113000,112000,111000,110000,109000,108000,107000,106000,105000,104000,103000,102000,101000,100000,99000,98000,97000,96000,95000,94000,93000,92000,91000,90000,89000,88000,87000,86000,85000,84000,83000,82000,81000,80000,79000,78000,77000,76000,75000,74000,73000,72000,71000,70000,69000,68000,67000,66000,65000,64000,63000,62000,61000,60000,59000,58000,57000,56000,55000,54000,53000,52000,51000,50000,49000,48000,47000,46000,45000,44000,43000,42000,41000,40000,39000,38000,37000,36000,35000,34000,33000,32000,31000,30000,29000,28000,27000,26000,25000,24000,23000,22000,21000,20000,19000,18000,17000,16000,15000,14000,13000,12000,11000,10000,9000,8000,7000,6000,5000,4000,3000,2000,1000,0],\"y\":{\"__ndarray__\":\"AAAAAAAAAAAAAAAAAAAAAAAAAAAAAAAAAAAAAAAAAAAAAAAAAAAAAAAAAAAAAAAAAAAAAAAAAAAAAAAAAAAAAAAAAAAAAAAAAAAAAAAAAAAAAAAAAAAAAAAAAAAAAAAAAAAAAAAAAAAAAAAAAAAAAAAAAAAAAAAAAAAAAAAAAAAAAAAAAAAAAAAAAAAAAAAAAAAAAAAAAAAAAAAAAAAAAAAAAAAAAAAAAAAAAAAAAAAAAAAAAAAAAAAAAAAAAAAAAAAAAAAAAAAAAAAAAAAAAAAAAAAAAAAAAAAAAAAAAAAAAAAAAAAAAAAAAAAAAAAAAAAAAAAAAAAAAAAAAAAAAAAAAAAAAAAAAAAAAAAAAAAAAAAAAAAAAAAAAAAAAAAAAAAAAAAAAAAAAAAAAAAAAAAAAAAAAAAAAAAAAAAAAAAAAAAAAAAAAAAAAAAAAAAAAAAAAAAAAAAAAAAAAAAAAAAAAAAAAAAAAAAAAAAAAAAAAAAAAAAAAAAAAAAAAAAAAAAAAAAAAAAAAAAAAAAAAAAAAAAAAAAAAAAAAAAAAAAAAAAAAAAAAAAAAAAAAAAAAAAAAAAAAAAAAAAAAAAAAAAAAAAAAAAAAAAAAAAAAAAAAAAAAAAAAAAAAAAAAAAAAAAAAAAAAAAAAAAAAAAAAAAAAAAAAAAAAAAAAAAAAAAAAAAAAAAAAAAAAAAAAAAAAAAAAAAAAAAAAAAAAAAAAAAAAAAAAAAAAAAAAAAAAAAAAAAAAAAAAAAAAAAAAAAAAAAAAAAAAAAAAAAAAAAAAAAAAAAAAAAAAAAAAAAAAAAAAAAAAAAAAAAAAAAAAAAAAAAAAAAAAAAAAAAAAAAAAAAAAAAAAAAAAAAAAAAAAAAAAAAAAAAAAAAAAAAAAAAAAAAAAAAAAAAAAAAAAAAAAAAAAAAAAAAAAAAAAAAAAAAAAAAAAAAAAAAAAAAAAAAAAAAAAAAAAAAAAAAAAAAAAAAAAAAAAAAAAAAAAAAAAAAAAAAAAAAAAAAAAAAAAAAAAAAAAAAAAAAAAAAAAAAAAAAAAAAAAAAAAAAAAAAAAAAAAAAAAAAAAAAAAAAAAAAAAAAAAAAAAAAAAAAAAAAAAAAAAAAAAAAAAAAAAAAAAAAAAAAAAAAAAAAAAAAAAAAAAAAAAAAAAAAAAAAAAAAAAAAAAAAAAAAAAAAAAAAAAAAAAAAAAAAAAAAAAAAAAAAAAAAAAAAAAAAAAAAAAAAAAAAAAAAAAAAAAAAAAAAAAAAAAAAAAAAAAAAAAAAAAAAAAAAAAAAAAAAAAAAAAAAAAAAAAAAAAAAAAAAAAAAAAAAAAAAAAAAAAAAAAAAAAAAAAAAAAAAAAAAAAAAAAAAAAAAAAAAAAAAAAAAAAAAAAAAAAAAAAAAAAAAAAAAAAAAAAAAAAAAAAAAAAAAAAAAAAAAAAAAAAAAAAAAAAAAAAAAAAAAAAAAAAAAAAAAAAAAAAAAAAAAAAAAAAAAAAAAAAAAAAAAAAAAAAAAAAAAAAAAAAAAAAAAAAAAAAAAAAAAAAAAAAAAAAAAAAAAAAAAAAAAAAAAAAAAAAAAAAAAAAAAAAAAAAAAAAAAAAAAAAAAAAAAAAAAAAAAAAAAAAAAAAAAAAAAAAAAAAAAAAAAAAAAAAAAAAAAAAAAAAAAAAAAAAAAAAAAAAAAAAAAAAAAAAAAAAAAAAAAAAAAAAAAAAAAAAAAAAAAAAAAAAAAAAAAAAAAAAAAAAAAAAAAAAAAAAAAAAAAAAAAAAAAAAAAAAAAAAAAAAAAAAAAAAAAAAAAAAAAAAAAAAAAAAAAAAAAAAAAAAAAAAAAAAAAAAAAAAAAAAAAAAAAAAAAAAAAAAAAAAAAAAAAAAAAAAAAAAAAAAAAAAAAAAAAAAAAAAAAAAAAAAAAAAAAAAAAAAAAAAAAAAAAAAAAAAAAAAAAAAAAAAAAAAAAAAAAAAAAAAAAAAAAAAAAAAAAAAAAAAAAAAAAAAAAAAAAAAAAAAAAAAAAAAAAAAAAAAAAAAAAAAAAAAAAAAAAAAAAAAAAAAAAAAAAAAAAAAAAAAAAAAAAAAAAAAAAAAAAAAAAAAAAAAAAAAAAAAAAAAAAAAAAAAAAAAAAAAAAAAAAAAAAAAAAAAAAAAAAAAAAAAAAAAAAAAAAAAAAAAAAAAAAAAAAAAAAAAAAAAAAAAAAAAAAAAAAAAAAAAAAAAAAAAAAAAAAAAAAAAAAAAAAAAAAAAAAAAAAAAAAAAAAAAAAAAAAAAAAAAAAAAAAAAAAAAAAAAAAAAAAAAAAAAAAAAAAAAAAAAAAAAAAAAAAAAAAAAAAAAAAAAAAAAAAAAAAAAAAAAAAAAAAAAAAAAAAAAAAAAAAAAAAAAAAAAAAAAAAAAAAAAAAAAAAAAAAAAAAAAAAAAAAAAAAAAAAAAAAAAAAAAAAAAAAAAAAAAAAAAAAAAAAAAAAAAAAAAAAAAAAAAAAAAAAAAAAAAAAAAAAAAAAAAAAAAAAAAAAAAAAAAAAAAAAAAAAAAAAAAAAAAAAAAAAAAAAAAAAAAAAAAAAAAAAAAAAAAAAAAAAAAAAAAAAAAAAAAAAAAAAAAAAAAAAAAAAAAAAAAAAAAAAAAAAAAAAAAAAAAAAAAAAAAAAAAAAAAAAAAAAAAAAAAAAAAAAAAAAAAAAAAAAAAAAAAAAAAAAAAAAAAAAAAAAAAAAAAAAAAAAAAAAAAAAAAAAAAAAAAAAAAAAAAAAAAAAAAAAAAAAAAAAAAAAAAAAAAAAAAAAAAAAAAAAAAAAAAAAAAAAAAAAAAAAAAAAAAAAAAAAAAAAAAAAAAAAAAAAAAAAAAAAAAAAAAAAAAAAAAAAAAAAAAAAAAAAAAAAAAAAAAAAAAAAAAAAAAAAAAAAAAAAAAAAAAAAAAAAAAAAAAAAAAAAAAAAAAAAAAAAAAAAAAAAAAAAAAAAAAAAAAAAAAAAAAAAAAAAAAAAAAAAAAAAAAAAAAAAAAAAAAAAAAAAAAAAAAAAAAAAAAAAAAAAAAAAAAAAAAAAAAAAAAAAAAAAAAAAAAAAAAAAAAAAAAAAAAAAAAAAAAAAAAAAAAAAAAAAAAAAAAAAAAAAAAAAAAAAAAAAAAAAAAAAAAAAAAAAAAAAAAAAAAAAAAAAAAAAAAAAAAAAAAAAAAAAAAAAAAAAAAAAAAAAAAAAAAAAAAAAAAAAAAAAAAAAAAAAAAAAAAAAAAAAAAACcKhDqqKKXv5wqEOqooqe/9R+Mr/65sb+cKhDqqKK3v0I1lCRTi72/9R+Mr/65wb9JJc7MU67EvzBRWsHlSse/ht6TAiRrxb/da81DYovDvzT5BoWgq8G/EA2BjL2Xv7+2J/QOOti7v2JCZ5G2GLi/Dl3aEzNZtL+3d02Wr5mwv8QkgTFYtKm/G1pnNlE1or/gHpt2lGyVvyQmngEaunm/AAAAAAAAAAAAAAAAAAAAAAAAAAAAAAAAAAAAAAAAAAAAAAAAAAAAAAAAAAAAAAAAAAAAAAAAAAAAAAAAAAAAAAAAAAAAAAAAAAAAAAAAAAAAAAAAAAAAAAAAAAAAAAAAAAAAAAAAAAAAAAAAAAAAAAAAAAAAAAAAAAAAAAAAAAAAAAAAAAAAAAAAAAAAAAAAAAAAAAAAAAAAAAAAAAAAAAAAAAAAAAAAAAAAAAAAAAAAAAAAAAAAAAAAAAAAAAAAAAAAAAAAAAAAAAAAAAAAAAAAAAAAAAAAAAAAAAAAAAAAAAAAAAAAAAAAAAAAAAAAAAAAAAAAAAAAAAAAAAAAAAAAAAAAAAAAAAAAAAAAAAAAAAAAAAAAAAAAAAAAAAAAAAAAAAAAAAAAAAAAAAAAAAAAAAAAAAAAAAAAAAAAAAAAAAAAAAAAAAAAAAAAAAAAAAAAAAAAAAAAAAAAAAAAAAAAAAAAAAAAAAAAAAAAAAAAAAAAAAAAAAAAAAAAAAAAAAAAAAAAAAAAAAAAAAAAAAAAAAAAAAAAAAAAAAAAAAAAAAAAAAAAAAAAAAAAAAAAAAAAAAAAAAAAAAAAAAAAAAAAAAAAAAAAAAAAAAAAAAAAAAAAAAAAAAAAAAAAAAAAAAAAAAAAAAAAAAAAAAAAAAAAAAAAAAAAAAAAAAAAAAAAAAAAAAAAAAAAAAAAAAAAAAAAAAAAAAAAAAAAAAAAAAAAAAAAAAAAAAAAAAAAAAAAAAAAAAAAAAAAAAAAAAAAAAAAAAAAAAAAAAAAAAAAAAAAAAAAAAAACWo6FV9Sgr8kvxZQVzSZv6QkyIq/n6S/sumEbVOlrL9h1yCoc1Wyv+o5f5k9WLa/cpzdigdbur/8/jt80V2+v8EwzbZNMMG/BWJ8r7Ixw79JkyuoFzPFv43E2qB8NMe/SLOeBfrBxb+dQNhGOOLDv/HNEYh2AsK/SFtLybQiwL840QkV5oW8v+TrfJdixri/jQbwGd8Gtb84IWOcW0exv8p3rD2wD6u/H62SQqmQo7/oxPGORCOYvyVffDFtSoK/AAAAAAAAAAAAAAAAAAAAAAAAAAAAAAAAAAAAAAAAAAAAAAAAAAAAAAAAAAAAAAAAAAAAAAAAAAAAAAAAAAAAAAAAAAAAAAAAAAAAAAAAAAAAAAAAAAAAAAAAAAAAAAAAAAAAAAAAAAAAAAAAAAAAAAAAAAAAAAAAAAAAAAAAAAAAAAAAAAAAAAAAAAAAAAAAAAAAAAAAAAAAAAAAAAAAAAAAAAAAAAAAAAAAAAAAAAAAAAAAAAAAAAAAAAAAAAAAAAAAAAAAAAAAAAAAAAAAAAAAAAAAAAAAAAAAAAAAAAAAAAAAAAAAAAAAAAAAAAAAAAAAAAAAAAAAAAAAAAAAAAAAAAAAAAAAAAAAAAAAAAAAAAAAAAAAAAAAAAAAAAAAAAAAAAAAAAAAAAAAAAAAAAAAAAAAAAAAAAAAAAAAAAAAAAAAAAAAAAAAAAAAAAAAAAAAAAAAAAAAAAAAAAAAAAAAAAAAAAAAAAAAAAAAAAAAAAAAAAAAAAAAAAAAAAAAAAAAAAAAAAAAAAAAAAAAAAAAAAAAAAAAAAAAAAAAAAAAAAAAAAAAAAAAAAAAAAAAAAAAAAAAAAAAAAAAAAAAAAAAAAAAAAAAAAAAAAAAAAAAAAAAAAAAAAAAAAAAAAAAAAAAAAAAAAAAAAAAAAAAAAAAAAAAAAAAAAAAAAAAAAAAAAAAAAAAAAAAAAAAAAAAAAAAAAAAAAAAAAAAAAAAAAAAAAAAAAAAAAAAAAAAAAAAAAAAAAAAAAAAAAAAAAAAAAAAAAAAAAAAAAAAAAAAAAAAAAAAAAAAAAAAAAAAAAAAAAAAAAAAAAAAAAAAAAAAAAAAAAAAAAAAAAAAAAAAAAAAAAAAAAAAAAAAAAAAAAAAAAAAAAAAAAAAAAAAAAAAAAAAAAAAAAAAAAAAAAAAAAAAAAAAAAAAAAAAAAAAAAAAAAAAAAAAAAAAAAAAAAAAAAAAAAAAAAAAAAAAAAAAAAAAAAAAAAAAAAAAAAAAAAAAAAAAAAAAAAAAAAAAAAAAAAAAAAAAAAAAAAAAAAAAAAAAAAAAAAAAAAAAAAAAAAAqULttbJF/v5zm5m7BIJy/mHwv4ZMuqL/twnWFYyaxv5XHUxp9Nba/OMwxr5ZEu7/i0mez2a2wv0Du2VYT96O/EF+t8xgwl78AThkSiF2HvwAbiDUokla/AAAAAAAAAAAAAAAAAAAAAAAAAAAAAAAAAAAAAAAAAAAAAAAAAAAAAAAAAAAAAAAAAAAAAAAAAAAAAAAAAAAAAAAAAAAAAAAAAAAAAAAAAAAAAAAAAAAAAAAAAAAAAAAAAAAAAAAAAAAAAAAAAAAAAAAAAAAAAAAAAAAAAAAAAAAAAAAAAAAAAAAAAAAAAAAAAKwr9uVkOL+AwNWLuptjv4DGD1W9B3q/gJkaXnmJib9AaEP74HKVvxD8yMHDX6C/+KdTUThrp78wabX9KOyvv1QseNrx9bS/EBgJq9y1ur9q/XGsNpnAvzqZJLhCMsS/aLwXAvlaxr8kWLRDpqLAv8xmjnPJhre/GO0giAUir79IS+lxxsiivyBqzzk0rJO/QPvXKZDcf78AQWSMu+havwAAAAAAAJA8AAAAAAAAAAAAAAAAAACQPAAAAAAAAAAAAAAAAAAAkDwAAAAAAAAAAAAAAAAAAAAAAAAAAAAAAAAAAAAAAAAAAAAAAAAAAAAAAAAAAAAAAAAAAAAAAAAAAAAAAAAAAAAAAAAAAAAAAAAAAAAAAAAAAAAAAAAAAAAAAAAAAAAAAAAAAAAAAAAAAAAAAAAAAAAAAAAAAAAAAAAAAAAAAAAAAAAAAAAAAAAAAAAAAAAAAAAAAAAAAAAAAAAAAAAAAAAAAAAAAAAAAAAAAAAAAACQPAAAAAAAAJA8AAAAAAAAkDwAAAAAAAAAAAAAAAAAAAAAAAAAAAAAAAAAAAAAAAAAAAAAAAAAAAAAAAAAAAAAAAAAAAAAAAAAAAAAAAAAAAAAAAAAAAAAAAAAAAAAAAAAAAAAAAAAAAAAAAAAAAAAAAAAAAAAAACQPAAAAAAAAAAAAAAAAAAAkDwAAAAAAAAAAAAAAAAAAAAAAAAAAAAAAAAAAAAAAAAAAAAAAAAAAJA8AAAAAAAAkDwAAAAAAACQPAAAAAAAAAAAAAAAAAAAAAAAAAAAAAAAAAAAAAAAAJA8AAAAAAAAAAAAAAAAAAAAAAAAAAAAAAAAAAAAAAAAkDwAAAAAAAAAAAAAAAAAAJA8AAAAAAAAAAAAAAAAAACQPAAAAAAAAJA8AAAAAAAAAAAAAAAAAAAAAAAAAAAAAAAAAAAAAAAAkDwAAAAAAACQPBhScVVTZKQ/KChs6xkZvT+KsBHlYNHGP1qoC3mQss0/MdzSEgOH0T99UdZjQnDTP3anN3CiFdQ/sn2WHVVn0z/BmvbzwozSPyv1uJLCg9E/XvOU1gVL0D9S33yEdsTNP0Dqb+QslMo/VK55SHsIxz+MCnokQSbDPzTX/LMF570/lPvYnOjttD9A5Zo8Nd6mP4CiS3tNhnc/AAAAAAAAAAAAAAAAAAAAAAAAAAAAAAAAAAAAAAAAAAAAAAAAAAAAAAAAAAAAAAAAAAAAAAAAAAAAAAAAAAAAAAAAAAAAAAAAAAAAAAAAAAAAAAAAAAAAAAAAAAAAAAAAMH4Z9WkolT+M/hpS6HyzP7bpaRBgSsA/9JBb+wMzxj/mYxyfb2TLP4i9NmyCz88/ox6H61m20T/KE2UJ0h7TP+6YNXxhJtQ/VrOnF4VJ1D9Ws6cXhUnUP1azpxeFSdQ/VrOnF4VJ1D9Ws6cXhUnUP1azpxeFSdQ/VrOnF4VJ1D9Ws6cXhUnUP1azpxeFSdQ/VrOnF4VJ1D9Ws6cXhUnUP1azpxeFSdQ/VrOnF4VJ1D9Ws6cXhUnUP1azpxeFSdQ/VrOnF4VJ1D9Ws6cXhUnUP1WzpxeFSdQ/VrOnF4VJ1D9Ws6cXhUnUP1azpxeFSdQ/VrOnF4VJ1D9Ws6cXhUnUP1azpxeFSdQ/VrOnF4VJ1D9Ws6cXhUnUP1azpxeFSdQ/VrOnF4VJ1D9Ws6cXhUnUP1azpxeFSdQ/aP8CXMGy0z9sDy6kU+rSPy4Nm+s+9NE/HfrafNfO0D9yq+QBx/LOP+ruMyiL488/HUwueRL50T/Hl93oCWTTPxNGXGPJGtQ/Zj3eZU4T1D9G179prFXTPyEmUpGe+NE/66JPcHIO1T8UUSAM9vDdPwTQpg5tVuM/APOXSSBR5z8G0eMlSoXqP3cW+dmppes/3E213yYW6j/qz4hbiFboP/dRXNfpluY/BNQvU0vX5D8SVgPPrBfjPyDY1koOWOE/WrRUjd8w3z91uPuEorHbP5K8onxlMtg/rcBJdCiz1D9Ws6cXhUnUP1azpxeFSdQ/VrOnF4VJ1D9Ws6cXhUnUP1azpxeFSdQ/VrOnF4VJ1D9Ws6cXhUnUP1azpxeFSdQ/VrOnF4VJ1D9Ws6cXhUnUP1azpxeFSdQ/VrOnF4VJ1D9Ws6cXhUnUP1azpxeFSdQ/VrOnF4VJ1D9Ws6cXhUnUP1azpxeFSdQ/VrOnF4VJ1D9Ws6cXhUnUP1azpxeFSdQ/5GNZn6kw1D/cOp1nForTPzrhBim2t9I/Pi5T6zy30T/VZQ/AMYfQP8ivC8OIMNI/xAr9lL3W0z+AjgLs4/bUP88r6R/UfNU/FpO0Cple1T93bFYAMKDUP8CwyD76UdM/MZrgzRuL0T+YdcPHSa7VP2iW0o7ou9w/yg0MzdDW4T+ql9qbRjflP+7nf0a13+c/rbZxAm3x6T9iJ/wjAmHqP+oDBff6Euk/94XYclxT5z8ECKzuvZPlPxKKf2of1OM/IAxT5oAU4j8ujiZi4lTgP3Yg9LuHKt0/kSSbs0qr2T+tKEKrDSzWPzjc1+Dk9tY/Z7fBHJvF3D9LyVWsKErhP+K2SsqDMeQ/eaQ/6N4Y5z8QkjQGOgDqP6h/KSSV5+w/QG0eQvDO7z92jjB17F3uP4QQBPFNnuw/kpLXbK/e6j+gFKvoEB/pP62WfmRyX+c/uxhS4NOf5T/ImiVcNeDjP9Yc+deWIOI/uYGyf8zb8T9js9lH1J/xPw7lABDcY/E/uBYo2OMn8T9jSE+g6+vwPw56dmjzr/A/uKudMPtz8D9j3cT4AjjwP44Os6+SBvA/qDgG7ylq8D/CYlkuwc3wP9yMrG1YMfE/9bb/rO+U8T8Q4VLshvjxPykLpiseXPI/QzX5arW/8j9x453hS83yPxwVxalTkfI/xkbscVtV8j9xeBM6YxnyPxuqOgJr3fE/xtthynKh8T9xDYmSemXxPxs/sFqCKfE/xnDXIort8D8nYhTzt0jwP36RYgjACfA/12/katmb8D/lkhdDN2zxP0Bb0nAMVvE/+D/3+RRM8T+Xiw7yFknxP2iYPH+UHPE/fABIueei8D9H/ykfZUfwP1jj17LVD/A/4irQw1EA8D/uPw+n2BnwP5UOFhPtWfA/DdPXHYW78D8SPdVeKzLxP5y7QZ7/ifE/gD8SWbjt8T+7GapT91zyPx6A+I8p1/I/KhMWup7t8j8qExa6nu3yPyoTFrqe7fI/KhMWup7t8j8qExa6nu3yPyoTFrqe7fI/KhMWup7t8j8qExa6nu3yPyoTFrqe7fI/KhMWup7t8j8qExa6nu3yPyoTFrqe7fI/KhMWup7t8j8qExa6nu3yPyoTFrqe7fI/KhMWup7t8j8qExa6nu3yPyoTFrqe7fI/KhMWup7t8j8qExa6nu3yP3rBRyqL5vI/JPNu8pKq8j/PJJa6mm7yP3pWvYKiMvI/JIjkSqr28T/PuQsTsrrxP3rrMtu5fvE/JB1ao8FC8T/PToFryQbxP3qAqDPRyvA/1/Kj/L5V8D/IkusjFSHwPwN/Tl9Q9vA/cSJpXXhM8T9gEMVJV0jxPxrWyRjeTfE/0JmDAiT/8D/Gq7Y7ToHwP4CQ/WtTK/A/lYzsW+IC8D9ottrp/wnwP5QHFXUrPvA//5qoXWyZ8D/gejg/J/bwP2rCe0qhRPE/Si4JeR6f8T9e3iFVcAXyPwMTavErd/I/KhMWup7t8j8qExa6nu3yPyoTFrqe7fI/KhMWup7t8j8qExa6nu3yPyoTFrqe7fI/KhMWup7t8j8qExa6nu3yPyoTFrqe7fI/KhMWup7t8j8qExa6nu3yPyoTFrqe7fI/KxMWup7t8j8qExa6nu3yPyoTFrqe7fI/KhMWup7t8j8qExa6nu3yPyoTFrqe7fI/KhMWup7t8j8qExa6nu3yPyoTFrqe7fI/KhMWup7t8j8qExa6nu3yPyoTFrqe7fI/KhMWup7t8j8qExa6nu3yPyoTFrqe7fI/KhMWup7t8j8qExa6nu3yPyoTFrqe7fI/dmZ2tUbO8j94lqwU4B/yP3kipp6zifE/KSGDTg8N8T8Ve6gqJ6rwPyykoiEKYPA/yueCIdQs8D/Qg/AgBw7wP3jcv4DpAPA/AAAAAAAA8D8AAAAAAADwPwAAAAAAAPA/AAAAAAAA8D8AAAAAAADwPwAAAAAAAPA/AAAAAAAA8D8AAAAAAADwPwAAAAAAAPA/AAAAAAAA8D8AAAAAAADwPwAAAAAAAPA/NLS+fhEA8D9QmZIsfQTwP2VR51ZnEPA/T4Syj6wk8D8UgaDQK0LwPz79XZa7afA/ZaYcbRyc8D9neFhD6tnwPxxIgKiOI/E/Tri0gzZ58T+Mv6J1zdrxP3Q3ePX/R/I/pl0Nq0PA8j/2wF+8RE3yP/RISzs/evE/nzWJm1jY8D9EH7M4KWfwP349SWFuIvA/GiD/D4gD8D8AAAAAAADwPwAAAAAAAPA/AAAAAAAA8D8AAAAAAADwPwAAAAAAAPA/AAAAAAAA8D8AAAAAAADwP////////+8/AAAAAAAA8D8AAAAAAADwPwAAAAAAAPA/AAAAAAAA8D8AAAAAAADwPwAAAAAAAPA/AAAAAAAA8D8AAAAAAADwPwAAAAAAAPA/AAAAAAAA8D8AAAAAAADwPwAAAAAAAPA/AAAAAAAA8D8AAAAAAADwPwAAAAAAAPA/AAAAAAAA8D8AAAAAAADwPwAAAAAAAPA/AAAAAAAA8D8AAAAAAADwPwAAAAAAAPA/AAAAAAAA8D8AAAAAAADwPwAAAAAAAPA/AAAAAAAA8D8AAAAAAADwPwAAAAAAAPA/AAAAAAAA8D8AAAAAAADwPwAAAAAAAPA/AAAAAAAA8D8AAAAAAADwPwAAAAAAAPA/AAAAAAAA8D8AAAAAAADwPwAAAAAAAPA/AAAAAAAA8D8AAAAAAADwPwAAAAAAAPA/AAAAAAAA8D8AAAAAAADwPwAAAAAAAPA/AAAAAAAA8D8AAAAAAADwPwAAAAAAAPA/AAAAAAAA8D8AAAAAAADwPwAAAAAAAPA/AAAAAAAA8D8AAAAAAADwPwAAAAAAAPA/AAAAAAAA8D8AAAAAAADwPwAAAAAAAPA/AAAAAAAA8D8AAAAAAADwPwAAAAAAAPA/AAAAAAAA8D8AAAAAAADwPwAAAAAAAPA/AAAAAAAA8D+gbvJC0kTuP5RoBj24e+w/DbAH9gHe6j+ORd7yzXHpP8g7yBsDPOg/7nU+KV0/5z87O0DDznvmP2qQX6qE7uU/3gDOd44b5j8yO1yJ+XzmPyLAG4gV9eY/8oOEQsaE5z9CtoureCzoP3Z7QLUX7Og//7HCgA7D6T/IHvtgV7DqPzRPFFOUsus/o+XA/CvI7D8efR1RZu/tPxpOy0eFJu8/AAAAAAAA8D8AAAAAAADwPwAAAAAAAPA/AAAAAAAA8D8AAAAAAADwPwAAAAAAAPA/AAAAAAAA8D8AAAAAAADwPwAAAAAAAPA/AAAAAAAA8D8AAAAAAADwPwAAAAAAAPA/AAAAAAAA8D8AAAAAAADwPwAAAAAAAPA/AAAAAAAA8D8AAAAAAADwPwAAAAAAAPA/1q92LCBo7j+k7pEA79rrP8Kjr4dg1uc/avZ30anC4z8+4d5cmf7fPwydwVP6cNk/Eh6fFqK41D8Xn3zZSQDQPztAtDjjj8Y/jYTefGU+uj+UIlIhEnSdPwAAAAAAAAAAAAAAAAAAAAAAAAAAAAAAAAAAAAAAAAAAAAAAAAAAAAAAAAAAAAAAAAAAAAAAAAAAAAAAAAAAAAAAAAAAAAAAAAAAAAAAAAAAAAAAAAAAAAAAAAAAAAAAAAAAAAAAAAAAAAAAAAAAAAAAAAAAAAAAAAAAAAAAAAAAAAAAAAAAAAAAAAAAAAAAAAAAAAAAAAAAAAAAAAAAAAAAAAAAAAAAAAAAAAAAAAAAAAAAAAAAAAAAAAAAAAAAAAAAAAAAAAAAAAAAAAAAAAAAAAAAAAAAAAAAAAAAAAAAAAAAAAAAAAAAAAAAAAAAAAAAAAAAAAAAAAAAAAAAAAAAAAAAAAAAAAAAAAAAAAAAAAAAAAAAAAAAAAAAAAAAAAAAAAAAAAAAAAAAAAAAAAAAAAAAAAAAAAAAAAAAAAAAAAAAAAAAAAAAAAAAAAAAAAAAAAAAAAAAAAAAAAAAAAAAAAAAAAAAAAAAAAAAAAAAAAAAAAAAAAAAAAAAAAAAAAAAAAAAAAAAAAAAAAAAAAAAAAAAAAAAAAAAAAAAAAAAAAAAAAAAAAAAAAAAAAAAAAAAAAAAAAAAAAAAAAAAAAAAAAAAAAAAAAAAAAAAAAAAAAAAAAAAAAAAAAAAAAAAAAAAAAAAAAAAAAAAAAAAAAAAAAAAAAAAAAAAAAAAAAAAAAAAAAAAAAAAAAAAAAAAAAAAAAAAAAAAAAAAAAAAAAAAAAAAAAAAAAAAAAAAAAAAAAAAAAAAAAAAAAAAAAAAAAAAAAAAAAAAAAAAAAAAAAAAAAAAAAAAAAAAAAAAAAAAAAAAAAAAAAAAAAAAAAAAAAAAAAAAAAAAAAAAAAAAAAAAAAAAAAAAAAAAAAAAAAAAAAAAAAAAAAAAAAAAAAAAAAAAAAAAAAAAAAAAAAAAAAAAAAAAAAAAAAAAAAAAAAAAAAAAAAAAAAAAAAAAAAAAAAAAAAAAAAAAAAAAAAAAAAAAAAAAAAAAAAAAAAAAAAAAAAAAAAAAAAAAAAAAAAAAAAAAAAAAAAAAAAAAAAAAAAAAAAAAAAAAAAAAAAAAAAAAzY9qcMMQoT95N5nZVYW2P4aTfv0kQcI/UIswDp8/yT+MQXGPDB/QP3E9ypdJntM/VjkjoIYd1z86NXyow5zaPyAx1bAAHN4/ghaX3J7N4D91lMNgPY3iP2cS8OTbTOQ/sfX+toym5T+t9anQi8fjP6n1VOqK6OE/pfX/A4oJ4D9B61U7ElXcPzjrq24Ql9g/MOsBog7Z1D8o61fVDBvRP0DWWxEWuso/L9YHeBI+wz88rGe9HYS3PzdYfxUtGKE/AAAAAAAAAAAAAAAAAAAAAAAAAAAAAAAAAAAAAAAAAAAAAAAAAAAAAAAAAAAAAAAAAAAAAAAAAAAAAAAAAAAAAAAAAAAAAAAAAAAAAAAAAAAAAAAAAAAAAAAAAAAAAAAAAAAAAAAAAAAAAAAAAAAAAAAAAAAAAAAAAAAAAAAAAAAAAAAAAAAAAAAAAAAAAAAAAAAAAAAAAAAAAAAAAAAAAAAAAAAAAAAAAAAAAAAAAAAAAAAAAAAAAAAAAAAAAAAAAAAAAAAAAAAAAAAAAAAAAAAAAAAAAAAAAAAAAAAAAAAAAAAAAAAAAAAAAAAAAAAAAAAAAAAAAAAAAAAAAAAAAAAAAAAAAAAAAAAAAAAAAAAAAAAAAAAAAAAAAAAAAAAAAAAAAAAAAAAAAAAAAAAAAAAAAAAAAAAAAAAAAAAAAAAAAAAAAAAAAAAAAAAAAAAAAAAAAAAAAAAAAAAAAAAAAAAAAAAAAAAAAAAAAAAAAAAAAAAAAAAAAAAAAAAAAAAAAAAAAAAAAAAAAAAAAAAAAAAAAAAAAAAAAAAAAAAAAAAAAAAAAAAAAAAAAAAAAAAAAAAAAAAAAAAAAAAAAAAAAAAAAAAAAAAAAAAAAAAAAAAAAAAAAAAAAAAAAAAAAAAAAAAAAAAAAAAAAAAAAAAAAAAAAAAAAAAAAAAAAAAAAAAAAAAAAAAAAAAAAAAAAAAAAAAAAAAAAAAAAAAAAAAAAAAAAAAAAAAAAAAAAAAAAAAAAAAAAAAAAAAAAAAAAAAAAAAAAAAAAAAAAAAAAAAAAAAAAAAAAAAA9xSam+oAmD/RdErILv2zPzIy13QR/cA/+ymJhYv7xz/EITuWBfrOP8iMdtM//NI/rIjP23x71j+QhCjkufrZP3aAgez2ed0/Lj5t+pl84D8gvJl+ODziPxI6xgLX++M/BLjyhnW75T9Bq4C2rEvjP8qSAMEBiuA/pvQAl62Q2z+4wwCsVw3WP8qSAMEBitA/uMMArFcNxj+4wwCsVw22PwAAAAAAAAAAAAAAAAAAAAAAAAAAAAAAAAAAAAAAAAAAAAAAAAAAAAAAAAAAAAAAAAAAAAAAAAAAAAAAAAAAAAAAAAAAAAAAAAAAAAAAAAAAAAAAAAAAAAAAAAAAAAAAAAAAAAAAAAAAAAAAAAAAAAAAAAAAAAAAAAAAAAAAAAAAAAAAAAAAAAAAAAAAAAAAAAAAAAAAAAAAAAAAAAAAAAAAAAAAAAAAAAAAAAAAAAAAAAAAAAAAAAAAAAAAAAAAAAAAAAAAAAAAAAAAAAAAAAAAAAAAAAAAAAAAAAAAAAAAAAAAAAAAAAAAAAAAAAAAAAAAAAAAAAAAAAAAAAAAAAAAAAAAAAAAAAAAAAAAAAAAAAAAAAAAAAAAAAAAAAAAAAAAAAAAAAAAAAAAAAAAAAAAAAAAAAAAAAAAAAAAAAAAAAAAAAAAAAAAAAAAAAAAAAAAAAAAAAAAAAAAAAAAAAAAAAAAAAAAAAAAAAAAAAAAAAAAAAAAAAAAAAAAAAAAAAAAAAAAAAAAAAAAAAAAAAAAAAAAAAAAAAAAAAAAAAAAAAAAAAAAAAAAAAAAAAAAAAAAAAAAAAAAAAAAAAAAAAAAAAAAAAAAAAAAAAAAAAAAAAAAAAAAAAAAAAAAAAAAAAAAAAAAAAAAAAAAAAAAAAAAAAAAAAAAAAAAAAAAAAAAAAAAAAAAAAAAAAAAAAAAAAAAAAAAAAAAAAAAAAAAAAAAAAAAAAAAAAAAAAAAAAAAAAAAAAAAAAAAAAAAAAAAAAAAAAAAAAAAAAAAAAAAAAAAAAAAAAAAAAAAAAAAAAAAAAAAAAAAAAAAAAAAAAAAAAAAAAAAAAAAAAAAAAAAAAAAAAAAAAAAAAAAAAAAAAAAAAAAAAAAAAAAAAAAAAAAAAAAAAAAAAAAAAAAAAAAAAAAAAAAAAAAAAAAAAAAAAAAAAAAAAAAAAAAAAAAAAAAAAAAAAAAAAAAAAAAAAAAAAAAAAAAAAAAAAAAAAAAAAAAAAAAAAAAAAAAAAAAAAAAAAAAAAAAAAAAAAAAAAAAAAAAAAAAAAAAAAAAAAAAAAAAAAAAAAAAAAAAAAAAAAAAAAAAAAAAAAAAAAAAAAAAAAAAAAAAAAAAAAAAAAAAAAAAAAAAAAAAAAAAAAAAAAAAAAAAAAAAAAAAAAAAAAAAAAAAAAAAAAAAAAAAAAAAAAAAAAAAAAAAAAAAAAAAAAAAAAAAAAAAAAAAAAAAAAAAAAAAAAAAAAAAAAAAAAAAAAAAAAAAAAAAAAAAAAAAAAAAAAAAAAAAAAAAAAAAAAAAAAAAAAAAAAAAAAAAAAAAAAAAAAAAAAAAAAAAAAAAAAAAAAAAAAAAAAAAAAAAAAAAAAAAAAAAAAAAAAAAAAAAAAAAAAAAAAAAAAAAAAAAAAAAAAAAAAAAAAAAAAAAAAAAAAAAAAAAAAAAAAAAAAAAAAAAAAAAAAAAAAAAAAAAAAAAAAAAAAAAAAAAAAAAAAAAAAAAAAAAAAAAAAAAAAAAAAAAAAAAAAAAAAAAAAAAAAAAAAAAAAAAAAAAAAAAAAAAAAAAAAAAAAAAAAAAAAAAAAAAAAAAAAAAAAAAAAAAAAAAAAAAAAAAAAAAAAAAAAAAAAAAAAAAAAAAAAAAAAAAAAAAAAAAAAAAAAAAAAAAAAAAAAAAAAAAAAAAAAAAAAAAAAAAAAAAAAAAAAAAAAAAAAAAAAAAAAAAAAAAAAAAAAAAAAAAAAAAAAAAAAAAAAAAAAAAAAAAAAAAAAAAAAAAAAAAAAAAAAAAAAAAAAAAAAAAAAAAAAAAAAAAAAAAAAAAAAAAAAAAAAAAAAAAAAAAAAAAAAAAAAAAAAAAAAAAAAAAAAAAAAAAAAAAAAAAAAAAAAAAAAAAAAAAAAAAAAAAAAAAAAAAAAAAAAAAAAAAAAAAAAAAAAAAAAAAAAAAAAAAAAAAAAAAAAAAAAAAAAAAAAAAAAAAAAAAAAAAAAAAAAAAAAAAAAAAAAAAAAAAAAAAAAAAAAAAAAAAAAAAAAAAAAAAAAAAAAAAAAAAAAAAAAAAAAAAAAAAAAAAAAAAAAAAAAAAAAAAAAAAAAAAAAAAAAAAAAAAAAAAAAAAAAAAAAAAAAAAAAAAAAAAAAAAAAAAAAAAAAAAAAAAAAAAAAAAAAAAAAAAAAAAAAAAAAAAAAAAAAAAAAAAAAAAAAAAAAAAAAAAAAAAAAAAAAAAAAAAAAAAAAAAAAAAAAAAAAAAAAAAAAAAAAAAAAAAAAAAAAAAAAAAAAAAAAAAAAAAAAAAAAAAAAAAAAAAAAAAAAAAAAAAAAAAAAAAAAAAAAAAAAAAAAAAAAAAAAAAAAAAAAAAAAAAAAAAAAAAAAAAAAAAAAAAAAAAAAAAAAAAAAAAAAAAAAAAAAAAAAAAAAAAAAAAAAAAAAAAAAAAAAAAAAAAAAAAAAAAAAAAAAAAAAAAAAAAAAAAAAAAAAAAAAAAAAAAAAAAAAAAAAAAAAAAAAAAAAAAAAAAAAAAAAAAAAAAAAAAAAAAAAAAAAAAAAAAAAAAAAAAAAAAAAAAAAAAAAAAAAAAAAAAAAAAAAAAAAAAAAAAAAAAAAAAAAAAAAAAAAAAAAAAAAAAAAAAAAAAAAAAAAAAAAAAAAAAAAAAAAAAAAAAAAAAAAAAAAAAAAAAAAAAAAAAAAAAAAAAAAAAAAAAAAAAAAAAAAAAAAAAAAAAAAAAAAAAAAAAAAAAAAAAAAAAAAAAAAAAAAAAAAAAAAAAAAAAAAAAAAAAAAAAAAAAAAAAAAAAAAAAAAAAAAAAAAAAAAAAAAAAAAAAAAAAAAAAAAAAAAAAAAAAAAAAAAAAAAAAAAAAAAAAAAAAAAAAAAAAAAAAAAAAAAAAAAAAAAAAAAAAAAAAAAAAAAAAAAAAAAAAAAAAAAAAAAAAAAAAAAAAAAAAAAAAAAAAAAAAAAAAAAAAAAAAAAAAAAAAAAAAAAAAAAAAAAAAAAAAAAAAAAAAAAAAAAAAAAAAAAAAAAAAAAAAAAAAAAAAAAAAAAAAAAAAAAAAAAAAAAAAAAAAAAAAAAAAAAAAAAAAAAAAAAAAAAAAAAAAAAAAAAAAAAAAAAAAAAAAAAAAAAAAAAAAAAAAAAAAAAAAAAAAAAAAAAAAAAAAAAAAAAAAAAAAAAAAAAAAAAAAAAAAAAAAAAAAAAAAAAAAAAAAAAAAAAAAAAAAAAAAAAAAAAAAAAAA\",\"dtype\":\"float64\",\"shape\":[1602]}}},\"id\":\"e21c13f7-a4b8-4109-8754-7fab27fe1fc3\",\"type\":\"ColumnDataSource\"},{\"attributes\":{\"data_source\":{\"id\":\"836ee649-0266-4950-baf2-64594e3668cc\",\"type\":\"ColumnDataSource\"},\"glyph\":{\"id\":\"e0bbbf2c-96ba-4472-ae70-fd02aff2cc56\",\"type\":\"Patch\"},\"hover_glyph\":null,\"nonselection_glyph\":{\"id\":\"e7377976-7db9-4aac-9979-7c72208c5997\",\"type\":\"Patch\"},\"selection_glyph\":null},\"id\":\"59f69269-9ec4-4dcc-be1a-3c07232fd323\",\"type\":\"GlyphRenderer\"},{\"attributes\":{\"overlay\":{\"id\":\"658c17ac-ab7c-46b5-b8b5-0ad276e71546\",\"type\":\"BoxAnnotation\"},\"plot\":{\"id\":\"ee224ec3-a7da-440f-a247-477c839ce091\",\"subtype\":\"Figure\",\"type\":\"Plot\"}},\"id\":\"8f779dde-e767-4d03-920f-eb292c0bcb33\",\"type\":\"BoxZoomTool\"},{\"attributes\":{\"fill_alpha\":{\"value\":0.1},\"fill_color\":{\"value\":\"#1f77b4\"},\"line_alpha\":{\"value\":0.1},\"line_color\":{\"value\":\"#1f77b4\"},\"x\":{\"field\":\"x\"},\"y\":{\"field\":\"y\"}},\"id\":\"cd94e779-f23b-476b-a39e-46db760e961f\",\"type\":\"Patch\"},{\"attributes\":{\"data_source\":{\"id\":\"279f1d83-1af7-4118-91cb-4715ee1e2c16\",\"type\":\"ColumnDataSource\"},\"glyph\":{\"id\":\"6c16d94f-1415-46b9-9d12-d2a3044b3ab1\",\"type\":\"Patch\"},\"hover_glyph\":null,\"nonselection_glyph\":{\"id\":\"cc14ee8f-a947-4932-b06c-814b78fa12ed\",\"type\":\"Patch\"},\"selection_glyph\":null},\"id\":\"a43247c4-6b7f-48cb-819d-c5a03a583cb5\",\"type\":\"GlyphRenderer\"},{\"attributes\":{\"fill_alpha\":{\"value\":0.1},\"fill_color\":{\"value\":\"#e41a1c\"},\"line_alpha\":{\"value\":0.1},\"line_color\":{\"value\":\"#e41a1c\"},\"x\":{\"field\":\"x\"},\"y\":{\"field\":\"y\"}},\"id\":\"e0bbbf2c-96ba-4472-ae70-fd02aff2cc56\",\"type\":\"Patch\"},{\"attributes\":{\"fill_alpha\":{\"value\":0.1},\"fill_color\":{\"value\":\"#1f77b4\"},\"line_alpha\":{\"value\":0.1},\"line_color\":{\"value\":\"#1f77b4\"},\"x\":{\"field\":\"x\"},\"y\":{\"field\":\"y\"}},\"id\":\"cc14ee8f-a947-4932-b06c-814b78fa12ed\",\"type\":\"Patch\"},{\"attributes\":{\"data_source\":{\"id\":\"8783c6cd-87d6-44e1-b461-fb3b2dd685a1\",\"type\":\"ColumnDataSource\"},\"glyph\":{\"id\":\"f2199efc-d7e0-4727-81b8-476ece7eb1e2\",\"type\":\"Line\"},\"hover_glyph\":null,\"nonselection_glyph\":{\"id\":\"511825a3-abad-4dde-9518-8102360e4064\",\"type\":\"Line\"},\"selection_glyph\":null},\"id\":\"b19a00ec-abac-4b8f-b9b4-2752425bda6b\",\"type\":\"GlyphRenderer\"},{\"attributes\":{\"callback\":null,\"column_names\":[\"x\",\"y\"],\"data\":{\"x\":[0,1000,2000,3000,4000,5000,6000,7000,8000,9000,10000,11000,12000,13000,14000,15000,16000,17000,18000,19000,20000,21000,22000,23000,24000,25000,26000,27000,28000,29000,30000,31000,32000,33000,34000,35000,36000,37000,38000,39000,40000,41000,42000,43000,44000,45000,46000,47000,48000,49000,50000,51000,52000,53000,54000,55000,56000,57000,58000,59000,60000,61000,62000,63000,64000,65000,66000,67000,68000,69000,70000,71000,72000,73000,74000,75000,76000,77000,78000,79000,80000,81000,82000,83000,84000,85000,86000,87000,88000,89000,90000,91000,92000,93000,94000,95000,96000,97000,98000,99000,100000,101000,102000,103000,104000,105000,106000,107000,108000,109000,110000,111000,112000,113000,114000,115000,116000,117000,118000,119000,120000,121000,122000,123000,124000,125000,126000,127000,128000,129000,130000,131000,132000,133000,134000,135000,136000,137000,138000,139000,140000,141000,142000,143000,144000,145000,146000,147000,148000,149000,150000,151000,152000,153000,154000,155000,156000,157000,158000,159000,160000,161000,162000,163000,164000,165000,166000,167000,168000,169000,170000,171000,172000,173000,174000,175000,176000,177000,178000,179000,180000,181000,182000,183000,184000,185000,186000,187000,188000,189000,190000,191000,192000,193000,194000,195000,196000,197000,198000,199000,200000,201000,202000,203000,204000,205000,206000,207000,208000,209000,210000,211000,212000,213000,214000,215000,216000,217000,218000,219000,220000,221000,222000,223000,224000,225000,226000,227000,228000,229000,230000,231000,232000,233000,234000,235000,236000,237000,238000,239000,240000,241000,242000,243000,244000,245000,246000,247000,248000,249000,250000,251000,252000,253000,254000,255000,256000,257000,258000,259000,260000,261000,262000,263000,264000,265000,266000,267000,268000,269000,270000,271000,272000,273000,274000,275000,276000,277000,278000,279000,280000,281000,282000,283000,284000,285000,286000,287000,288000,289000,290000,291000,292000,293000,294000,295000,296000,297000,298000,299000,300000,301000,302000,303000,304000,305000,306000,307000,308000,309000,310000,311000,312000,313000,314000,315000,316000,317000,318000,319000,320000,321000,322000,323000,324000,325000,326000,327000,328000,329000,330000,331000,332000,333000,334000,335000,336000,337000,338000,339000,340000,341000,342000,343000,344000,345000,346000,347000,348000,349000,350000,351000,352000,353000,354000,355000,356000,357000,358000,359000,360000,361000,362000,363000,364000,365000,366000,367000,368000,369000,370000,371000,372000,373000,374000,375000,376000,377000,378000,379000,380000,381000,382000,383000,384000,385000,386000,387000,388000,389000,390000,391000,392000,393000,394000,395000,396000,397000,398000,399000,400000,401000,402000,403000,404000,405000,406000,407000,408000,409000,410000,411000,412000,413000,414000,415000,416000,417000,418000,419000,420000,421000,422000,423000,424000,425000,426000,427000,428000,429000,430000,431000,432000,433000,434000,435000,436000,437000,438000,439000,440000,441000,442000,443000,444000,445000,446000,447000,448000,449000,450000,451000,452000,453000,454000,455000,456000,457000,458000,459000,460000,461000,462000,463000,464000,465000,466000,467000,468000,469000,470000,471000,472000,473000,474000,475000,476000,477000,478000,479000,480000,481000,482000,483000,484000,485000,486000,487000,488000,489000,490000,491000,492000,493000,494000,495000,496000,497000,498000,499000,500000,501000,502000,503000,504000,505000,506000,507000,508000,509000,510000,511000,512000,513000,514000,515000,516000,517000,518000,519000,520000,521000,522000,523000,524000,525000,526000,527000,528000,529000,530000,531000,532000,533000,534000,535000,536000,537000,538000,539000,540000,541000,542000,543000,544000,545000,546000,547000,548000,549000,550000,551000,552000,553000,554000,555000,556000,557000,558000,559000,560000,561000,562000,563000,564000,565000,566000,567000,568000,569000,570000,571000,572000,573000,574000,575000,576000,577000,578000,579000,580000,581000,582000,583000,584000,585000,586000,587000,588000,589000,590000,591000,592000,593000,594000,595000,596000,597000,598000,599000,600000,601000,602000,603000,604000,605000,606000,607000,608000,609000,610000,611000,612000,613000,614000,615000,616000,617000,618000,619000,620000,621000,622000,623000,624000,625000,626000,627000,628000,629000,630000,631000,632000,633000,634000,635000,636000,637000,638000,639000,640000,641000,642000,643000,644000,645000,646000,647000,648000,649000,650000,651000,652000,653000,654000,655000,656000,657000,658000,659000,660000,661000,662000,663000,664000,665000,666000,667000,668000,669000,670000,671000,672000,673000,674000,675000,676000,677000,678000,679000,680000,681000,682000,683000,684000,685000,686000,687000,688000,689000,690000,691000,692000,693000,694000,695000,696000,697000,698000,699000,700000,701000,702000,703000,704000,705000,706000,707000,708000,709000,710000,711000,712000,713000,714000,715000,716000,717000,718000,719000,720000,721000,722000,723000,724000,725000,726000,727000,728000,729000,730000,731000,732000,733000,734000,735000,736000,737000,738000,739000,740000,741000,742000,743000,744000,745000,746000,747000,748000,749000,750000,751000,752000,753000,754000,755000,756000,757000,758000,759000,760000,761000,762000,763000,764000,765000,766000,767000,768000,769000,770000,771000,772000,773000,774000,775000,776000,777000,778000,779000,780000,781000,782000,783000,784000,785000,786000,787000,788000,789000,790000,791000,792000,793000,794000,795000,796000,797000,798000,799000,800000],\"y\":{\"__ndarray__\":\"AAAAAAAAAAAAAAAAAAAAAAAAAAAAAAAAAAAAAAAAAAAAAAAAAAAAAAAAAAAAAAAAAAAAAAAAAAAAAAAAAAAAAAAAAAAAAAAAAAAAAAAAAAAAAAAAAAAAAAAAAAAAAAAAAAAAAAAAAAAAAAAAAAAAAAAAAAAAAAAAAAAAAAAAAAAAAAAAAAAAAAAAAAAAAAAAAAAAAAAAAAAAAAAAAAAAAAAAAAAAAAAAAAAAAAAAAAAAAAAAAAAAAAAAAAAAAAAAAAAAAAAAAAAAAAAAAAAAAAAAAAAAAAAAAAAAAAAAAAAAAAAAAAAAAAAAAAAAAAAAAAAAAAAAAAAAAAAAAAAAAAAAAAAAAAAAAAAAAAAAAAAAAAAAAAAAAAAAAAAAAAAAAAAAAAAAAAAAAAAAAAAAAAAAAAAAAAAAAAAAAAAAAAAAAAAAAAAAAAAAAAAAAAAAAAAAAAAAAAAAAAAAAAAAAAAAAAAAAAAAAAAAAAAAAAAAAAAAAAAAAAAAAAAAAAAAAAAAAAAAAAAAAAAAAAAAAAAAAAAAAAAAAAAAAAAAAAAAAAAAAAAAAAAAAAAAAAAAAAAAAAAAAAAAAAAAAAAAAAAAAAAAAAAAAAAAAAAAAAAAAAAAAAAAAAAAAAAAAAAAAAAAAAAAAAAAAAAAAAAAAAAAAAAAAAAAAAAAAAAAAAAAAAAAAAAAAAAAAAAAAAAAAAAAAAAAAAAAAAAAAAAAAAAAAAAAAAAAAAAAAAAAAAAAAAAAAAAAAAAAAAAAAAAAAAAAAAAAAAAAAAAAAAAAAAAAAAAAAAAAAAAAAAAAAAAAAAAAAAAAAAAAAAAAAAAAAAAAAAAAAAAAAAAAAAAAAAAAAAAAAAAAAAAAAAAAAAAAAAAAAAAAAAAAAAAAAAAAAAAAAAAAAAAAAAAAAAAAAAAAAAAAAAAAAAAAAAAAAAAAAAAAAAAAAAAAAAAAAAAAAAAAAAAAAAAAAAAAAAAAAAAAAAAAAAAAAAAAAAAAAAAAAAAAAAAAAAAAAAAAAAAAAAAAAAAAAAAAAAAAAAAAAAAAAAAAAAAAAAAAAAAAAAAAAAAAAAAAAAAAAAAAAAAAAAAAAAAAAAAAAAAAAAAAAAAAAAAAAAAAAAAAAAAAAAAAAAAAAAAAAAAAAAAAAAAAAAAAAAAAAAAAAAAAAAAAAAAAAAAAAAAAAAAAAAAAAAAAAAAAAAAAAAAAAAAAAAAAAAAAAAAAAAAAAAAAAAAAAAAAAAAAAAAAAAAAAAAAAAAAAAAAAAAAAAAAAAAAAAAAAAAAAAAAAAAAAAAAAAAAAAAAAAAAAAAAAAAAAAAAAAAAAAAAAAAAAAAAAAAAAAAAAAAAAAAAAAAAAAAAAAAAAAAAAAAAAAAAAAAAAAAAAAAAAAAAAAAAAAAAAAAAAAAAAAAAAAAAAAAAAAAAAAAAAAAAAAAAAAAAAAAAAAAAAAAAAAAAAAAAAAAAAAAAAAAAAAAAAAAAAAAAAAAAAAAAAAAAAAAAAAAAAAAAAAAAAAAAAAAAAAAAAAAAAAAAAAAAAAAAAAAAAAAAAAAAAAAAAAAAAAAAAAAAAAAAAAAAAAAAAAAAAAAAAAAAAAAAAAAAAAAAAAAAAAAAAAAAAAAAAAAAAAAAAAAAAAAAAAAAAAAAAAAAAAAAAAAAAAAAAAAAAAAAAAAAAAAAAAAAAAAAAAAAAAAAAAAAAAAAAAAAAAAAAAAAAAAAAAAAAAAAAAAAAAAAAAAAAAAAAAAAAAAAAAAAAAAAAAAAAAAAAAAAAAAAAAAAAAAAAAAAAAAAAAAAAAAAAAAAAAAAAAAAAAAAAAAAAAAAAAAAAAAAAAAAAAAAAAAAAAAAAAAAAAAAAAAAAAAAAAAAAAAAAAAAAAAAAAAAAAAAAAAAAAAAAAAAAAAAAAAAAAAAAAAAAAAAAAAAAAAAAAAAAAAAAAAAAAAAAAAAAAAAAAAAAAAAAAAAAAAAAAAAAAAAAAAAAAAAAAAAAAAAAAAAAAAAAAAAAAAAAAAAAAAAAAAAAAAAAAAAAAAAAAAAAAAAAAAAAAAAAAAAAAAAAAAAAAAAAAAAAAAAAAAAAAAAAAAAAAAAAAAAAAAAAAAAAAAAAAAAAAAAAAAAAAAAAAAAAAAAAAAAAAAAAAAAAAAAAAAAAAAAAAAAAAAAAAAAAAAAAAAAAAAAAAAAAAAAAAAAAAAAAAAAAAAAAAAAAAAAAAAAAAAAAAAAAAAAAAAAAAAAAAAAAAAAAAAAAAAAAAAAAAAAAAAAAAAAAAAAAAAAAAAAAAAAAAAAAAAAAAAAAAAAAAAAAAAAAAAAAAAAAAAAAAAAAAAAAAAAAAAAAAAAAAAAAAAAAAAAAAAAAAAAAAAAAAAAAAAAAAAAAAAAAAAAAAAAAAAAAAAAAAAAAAAAAAAAAAAAAAAAAAAAAAAAAAAAAAAAAAAAAAAAAAAAAAAAAAAAAAAAAAAAAAAAAAAAAAAAAAAAAAAAAAAAAAAAAAAAAAAAAAAAAAAAAAAAAAAAAAAAAAAAAAAAAAAAAAAAAAAAAAAAAAAAAAAAAAAAAAAAAAAAAAAAAAAAAAAAAAAAAAAAAAAAAAAAAAAAAAAAAAAAAAAAAAAAAAAAAAAAAAAAAAAAAAAAAAAAAAAAAAAAAAAAAAAAAAAAAAAAAAAAAAAAAAAAAAAAAAAAAAAAAAAAAAAAAAAAAAAAAAAAAAAAAAAAAAAAAAAAAAAAAAAAAAAAAAAAAAAAAAAAAAAAAAAAAAAAAAAAAAAAAAAAAAAAAAAAAAAAAAAAAAAAAAAAAAAAAAAAAAAAAAAAAAAAAAAAAJwsgnnMSI8/daEhW5l2pz/iW/HLf42zPwnnUeqyX7s/GDlZBPOYwT+rfomTDILFPz/EuSIma8k/0gnqsT9UzT8586s5QDDPP6owthDkoMw/Gm7A54cRyj+Lq8q+K4LHP/vo1JXP8sQ/bCbfbHNjwj+5x9KHLqi/P5pC5zV2ibo/fL37471qtT9dOBCSBUywP3xmSYCaWqY/fLjkuFM6mD8JILWJk/ttPwOXiGQKqaU/4CDD2A4WuD8f+6A/zKvCP85l4BKRTMk/fdAf5lXtzz8AAAAAAADQPwAAAAAAANA/AAAAAAAA0D8AAAAAAADQPwAAAAAAANA/AAAAAAAA0D8AAAAAAADQPwAAAAAAANA/AAAAAAAA0D8AAAAAAADQPwAAAAAAANA/AAAAAAAA0D8AAAAAAADQPwAAAAAAANA/////////zz8AAAAAAADQP////////88/AAAAAAAA0D8AAAAAAADQPwAAAAAAANA/AAAAAAAA0D8AAAAAAADQPwAAAAAAANA/AAAAAAAA0D8AAAAAAADQPwAAAAAAANA/AAAAAAAA0D8AAAAAAADQPwAAAAAAANA/////////zz/////////PP////////88/AAAAAAAA0D8AAAAAAADQPwAAAAAAANA/AAAAAAAA0D8AAAAAAADQP6gvMyxdKdI/UV9mWLpS1D/6jpmEF3zWP6K+zLB0pdg/Su7/3NHO2j/zHTMJL/jcP5xNZjWMId8/AAAAAAAA4D8AAAAAAADgPwAAAAAAAOA/AAAAAAAA4D8AAAAAAADgPwAAAAAAAOA/AAAAAAAA4D8AAAAAAADgPz7QCgxZ3d4/9u6P96qV3T+uDRXj/E3cP2csms5OBts/H0sfuqC+2T/YaaSl8nbYP5CIKZFEL9c/SKeufJbn1T8AxjNo6J/UP7jkuFM6WNM/cQM+P4wQ0j8pIsMq3sjQP/T4hy8PvNA/5H6mLgCi0j/UBMUt8YfUP8SK4yzibdY/tBACLNNT2D+kliArxDnaP5YcPyq1H9w/hKJdKaYF3j90KHwol+vfPwAAAAAAAOA/AAAAAAAA4D8AAAAAAADgPwAAAAAAAOA/AAAAAAAA4D8AAAAAAADgPwAAAAAAAOA/AAAAAAAA4D8AAAAAAADgPwAAAAAAAOA/AAAAAAAA4D8AAAAAAADgPwAAAAAAAOA/AAAAAAAA4D8AAAAAAADgPwAAAAAAAOA/AAAAAAAA4D8AAAAAAADgPwAAAAAAAOA/AAAAAAAA4D8AAAAAAADgPwAAAAAAAOA/AAAAAAAA4D8AAAAAAADgPwAAAAAAAOA/AAAAAAAA4D8AAAAAAADgPwAAAAAAAOA/AAAAAAAA4D8AAAAAAADgPwAAAAAAAOA/AAAAAAAA4D8AAAAAAADgPwAAAAAAAOA/AAAAAAAA4D8AAAAAAADgPwAAAAAAAOA/AAAAAAAA4D8AAAAAAADgPwAAAAAAAOA/AAAAAAAA4D8AAAAAAADgPwAAAAAAAOA/AAAAAAAA4D8AAAAAAADgPwAAAAAAAOA/AAAAAAAA4D8AAAAAAADgPwAAAAAAAOA/AAAAAAAA4D8AAAAAAADgPwAAAAAAAOA/AAAAAAAA4D8AAAAAAADgPwAAAAAAAOA/AAAAAAAA4D8AAAAAAADgPwAAAAAAAOA/AAAAAAAA4D8AAAAAAADgPwAAAAAAAOA/AAAAAAAA4D8AAAAAAADgPwAAAAAAAOA/ULG/xtLV4D+gYn+NpavhP/ATP1R4geI/QMX+GktX4z+Rdr7hHS3kP+EnfqjwAuU/Mdk9b8PY5T+Biv01lq7mP9E7vfxohOc/QrKACdy65z+eQUP/BBfnP/rQBfUtc+Y/V2DI6lbP5T+z74rgfyvlPw9/Tdaoh+Q/aw4QzNHj4z/HndLB+j/jPyQtlbcjnOI/gLxXrUz44T/cSxqjdVThPzjb3JiesOA/lGqfjscM4D90CctYLwbhP8hpMOeMIuI/HMqVdeo+4z9xKvsDSFvkP8WKYJKld+U/GuvFIAOU5j9uSyuvYLDnP9IA3gIJiuc/LpCg+DHm5j+KH2PuWkLmP+auJeSDnuU/Qj7o2az65D+ezarP1VbkP/pcbcX+suM/V+wvuycP4z+ze/KwUGviPw8LtaZ5x+E/bJp3nKIj4T/IKTqSy3/gP5imTcZyNuA/kIRR1/At4T+IYlXobiXiP4FAWfnsHOM/eR5dCmsU5D9x/GAb6QvlP2raZCxnA+Y/YrhoPeX65j9almxOY/LnPwAAAAAAAOg/AAAAAAAA6D8AAAAAAADoPwAAAAAAAOg/AAAAAAAA6D8AAAAAAADoPwAAAAAAAOg/AAAAAAAA6D8AAAAAAADoPwAAAAAAAOg/AAAAAAAA6D8AAAAAAADoPwAAAAAAAOg/AAAAAAAA6D8AAAAAAADoPwAAAAAAAOg/AAAAAAAA6D8AAAAAAADoPwAAAAAAAOg/AAAAAAAA6D8AAAAAAADoPwAAAAAAAOg/AAAAAAAA6D8AAAAAAADoPwAAAAAAAOg/AAAAAAAA6D8AAAAAAADoPwAAAAAAAOg/AAAAAAAA6D8AAAAAAADoPwAAAAAAAOg/AAAAAAAA6D8AAAAAAADoPwAAAAAAAOg/AAAAAAAA6D8AAAAAAADoPwAAAAAAAOg/HxE6etx56D9eM65ulW3pP5xVImNOYeo/2neWVwdV6z8YmgpMwEjsP1a8fkB5PO0/lN7yNDIw7j/TAGcp6yPvPwAAAAAAAPA/AAAAAAAA8D8AAAAAAADwPwAAAAAAAPA/AAAAAAAA8D8AAAAAAADwPwAAAAAAAPA/AAAAAAAA8D8AAAAAAADwPwAAAAAAAPA/AAAAAAAA8D8AAAAAAADwPwAAAAAAAPA/AAAAAAAA8D8AAAAAAADwPwAAAAAAAPA/AAAAAAAA8D8AAAAAAADwPwAAAAAAAPA/AAAAAAAA8D8AAAAAAADwPwAAAAAAAPA/AAAAAAAA8D8AAAAAAADwPwAAAAAAAPA/AAAAAAAA8D8AAAAAAADwPwAAAAAAAPA/AAAAAAAA8D8AAAAAAADwPwAAAAAAAPA/AAAAAAAA8D8AAAAAAADwPwAAAAAAAPA/AAAAAAAA8D8AAAAAAADwPwAAAAAAAPA/AAAAAAAA8D8AAAAAAADwPwAAAAAAAPA/AAAAAAAA8D8AAAAAAADwPwAAAAAAAPA/AAAAAAAA8D8AAAAAAADwPwAAAAAAAPA/AAAAAAAA8D8AAAAAAADwPwAAAAAAAPA/AAAAAAAA8D8AAAAAAADwPwAAAAAAAPA/AAAAAAAA8D8AAAAAAADwPwAAAAAAAPA/AAAAAAAA8D8AAAAAAADwPwAAAAAAAPA/AAAAAAAA8D8AAAAAAADwPwAAAAAAAPA/AAAAAAAA8D8AAAAAAADwPwAAAAAAAPA/AAAAAAAA8D8AAAAAAADwPwAAAAAAAPA/AAAAAAAA8D8AAAAAAADwPwAAAAAAAPA/AAAAAAAA8D8AAAAAAADwPwAAAAAAAPA/AAAAAAAA8D8AAAAAAADwPwAAAAAAAPA/AAAAAAAA8D8AAAAAAADwPwAAAAAAAPA/AAAAAAAA8D8AAAAAAADwPwAAAAAAAPA/AAAAAAAA8D8AAAAAAADwPwAAAAAAAPA/AAAAAAAA8D8AAAAAAADwPwAAAAAAAPA/AAAAAAAA8D8AAAAAAADwPwAAAAAAAPA/AAAAAAAA8D8AAAAAAADwPwAAAAAAAPA/AAAAAAAA8D8AAAAAAADwPwAAAAAAAPA/AAAAAAAA8D8AAAAAAADwPwAAAAAAAPA/AAAAAAAA8D8AAAAAAADwPwAAAAAAAPA/AAAAAAAA8D8AAAAAAADwPwAAAAAAAPA/AAAAAAAA8D8AAAAAAADwPwAAAAAAAPA/AAAAAAAA8D8AAAAAAADwPwAAAAAAAPA/AAAAAAAA8D8AAAAAAADwPwAAAAAAAPA/AAAAAAAA8D8AAAAAAADwPwAAAAAAAPA/AAAAAAAA8D8AAAAAAADwPwAAAAAAAPA/AAAAAAAA8D8AAAAAAADwPwAAAAAAAPA/AAAAAAAA8D8AAAAAAADwPwAAAAAAAPA/AAAAAAAA8D8AAAAAAADwPwAAAAAAAPA/AAAAAAAA8D8AAAAAAADwPwAAAAAAAPA/AAAAAAAA8D8AAAAAAADwPwAAAAAAAPA/AAAAAAAA8D8AAAAAAADwPwAAAAAAAPA/AAAAAAAA8D8AAAAAAADwPwAAAAAAAPA/AAAAAAAA8D8AAAAAAADwPwAAAAAAAPA/AAAAAAAA8D8AAAAAAADwPwAAAAAAAPA/AAAAAAAA8D8AAAAAAADwPwAAAAAAAPA/AAAAAAAA8D8AAAAAAADwPwAAAAAAAPA/AAAAAAAA8D8AAAAAAADwPwAAAAAAAPA/AAAAAAAA8D8AAAAAAADwPwAAAAAAAPA/AAAAAAAA8D8AAAAAAADwPwAAAAAAAPA/AAAAAAAA8D8AAAAAAADwPwAAAAAAAPA/AAAAAAAA8D8AAAAAAADwPwAAAAAAAPA/AAAAAAAA8D8AAAAAAADwPwAAAAAAAPA/AAAAAAAA8D8AAAAAAADwPwAAAAAAAPA/AAAAAAAA8D8AAAAAAADwPwAAAAAAAPA/AAAAAAAA8D8AAAAAAADwPwAAAAAAAPA/AAAAAAAA8D8AAAAAAADwPwAAAAAAAPA/AAAAAAAA8D8AAAAAAADwPwAAAAAAAPA/AAAAAAAA8D8AAAAAAADwPwAAAAAAAPA/AAAAAAAA8D8AAAAAAADwPwAAAAAAAPA/AAAAAAAA8D8AAAAAAADwPwAAAAAAAPA/AAAAAAAA8D8AAAAAAADwPwAAAAAAAPA/AAAAAAAA8D8AAAAAAADwPwAAAAAAAPA/AAAAAAAA8D8AAAAAAADwPwAAAAAAAPA/AAAAAAAA8D8AAAAAAADwPwAAAAAAAPA/AAAAAAAA8D8AAAAAAADwPwAAAAAAAPA/AAAAAAAA8D8AAAAAAADwPwAAAAAAAPA/AAAAAAAA8D8AAAAAAADwPwAAAAAAAPA/AAAAAAAA8D8AAAAAAADwPwAAAAAAAPA/AAAAAAAA8D8AAAAAAADwPwAAAAAAAPA/AAAAAAAA8D8AAAAAAADwPwAAAAAAAPA/AAAAAAAA8D8AAAAAAADwPwAAAAAAAPA/AAAAAAAA8D8AAAAAAADwPwAAAAAAAPA/AAAAAAAA8D8AAAAAAADwPwAAAAAAAPA/AAAAAAAA8D8AAAAAAADwPwAAAAAAAPA/AAAAAAAA8D8AAAAAAADwPwAAAAAAAPA/AAAAAAAA8D8AAAAAAADwPwAAAAAAAPA/AAAAAAAA8D8AAAAAAADwPwAAAAAAAPA/AAAAAAAA8D8AAAAAAADwPwAAAAAAAPA/AAAAAAAA8D8AAAAAAADwPwAAAAAAAPA/AAAAAAAA8D8AAAAAAADwPwAAAAAAAPA/AAAAAAAA8D8AAAAAAADwPwAAAAAAAPA/AAAAAAAA8D8AAAAAAADwPwAAAAAAAPA/AAAAAAAA8D8AAAAAAADwPwAAAAAAAPA/AAAAAAAA8D8AAAAAAADwPwAAAAAAAPA/AAAAAAAA8D8AAAAAAADwPwAAAAAAAPA/AAAAAAAA8D8AAAAAAADwPwAAAAAAAPA/AAAAAAAA8D8AAAAAAADwPwAAAAAAAPA/AAAAAAAA8D8AAAAAAADwPwAAAAAAAPA/\",\"dtype\":\"float64\",\"shape\":[801]}}},\"id\":\"8783c6cd-87d6-44e1-b461-fb3b2dd685a1\",\"type\":\"ColumnDataSource\"},{\"attributes\":{\"callback\":null,\"column_names\":[\"x\",\"y\"],\"data\":{\"x\":[0,1000,2000,3000,4000,5000,6000,7000,8000,9000,10000,11000,12000,13000,14000,15000,16000,17000,18000,19000,20000,21000,22000,23000,24000,25000,26000,27000,28000,29000,30000,31000,32000,33000,34000,35000,36000,37000,38000,39000,40000,41000,42000,43000,44000,45000,46000,47000,48000,49000,50000,51000,52000,53000,54000,55000,56000,57000,58000,59000,60000,61000,62000,63000,64000,65000,66000,67000,68000,69000,70000,71000,72000,73000,74000,75000,76000,77000,78000,79000,80000,81000,82000,83000,84000,85000,86000,87000,88000,89000,90000,91000,92000,93000,94000,95000,96000,97000,98000,99000,100000,101000,102000,103000,104000,105000,106000,107000,108000,109000,110000,111000,112000,113000,114000,115000,116000,117000,118000,119000,120000,121000,122000,123000,124000,125000,126000,127000,128000,129000,130000,131000,132000,133000,134000,135000,136000,137000,138000,139000,140000,141000,142000,143000,144000,145000,146000,147000,148000,149000,150000,151000,152000,153000,154000,155000,156000,157000,158000,159000,160000,161000,162000,163000,164000,165000,166000,167000,168000,169000,170000,171000,172000,173000,174000,175000,176000,177000,178000,179000,180000,181000,182000,183000,184000,185000,186000,187000,188000,189000,190000,191000,192000,193000,194000,195000,196000,197000,198000,199000,200000,201000,202000,203000,204000,205000,206000,207000,208000,209000,210000,211000,212000,213000,214000,215000,216000,217000,218000,219000,220000,221000,222000,223000,224000,225000,226000,227000,228000,229000,230000,231000,232000,233000,234000,235000,236000,237000,238000,239000,240000,241000,242000,243000,244000,245000,246000,247000,248000,249000,250000,251000,252000,253000,254000,255000,256000,257000,258000,259000,260000,261000,262000,263000,264000,265000,266000,267000,268000,269000,270000,271000,272000,273000,274000,275000,276000,277000,278000,279000,280000,281000,282000,283000,284000,285000,286000,287000,288000,289000,290000,291000,292000,293000,294000,295000,296000,297000,298000,299000,300000,301000,302000,303000,304000,305000,306000,307000,308000,309000,310000,311000,312000,313000,314000,315000,316000,317000,318000,319000,320000,321000,322000,323000,324000,325000,326000,327000,328000,329000,330000,331000,332000,333000,334000,335000,336000,337000,338000,339000,340000,341000,342000,343000,344000,345000,346000,347000,348000,349000,350000,351000,352000,353000,354000,355000,356000,357000,358000,359000,360000,361000,362000,363000,364000,365000,366000,367000,368000,369000,370000,371000,372000,373000,374000,375000,376000,377000,378000,379000,380000,381000,382000,383000,384000,385000,386000,387000,388000,389000,390000,391000,392000,393000,394000,395000,396000,397000,398000,399000,400000,401000,402000,403000,404000,405000,406000,407000,408000,409000,410000,411000,412000,413000,414000,415000,416000,417000,418000,419000,420000,421000,422000,423000,424000,425000,426000,427000,428000,429000,430000,431000,432000,433000,434000,435000,436000,437000,438000,439000,440000,441000,442000,443000,444000,445000,446000,447000,448000,449000,450000,451000,452000,453000,454000,455000,456000,457000,458000,459000,460000,461000,462000,463000,464000,465000,466000,467000,468000,469000,470000,471000,472000,473000,474000,475000,476000,477000,478000,479000,480000,481000,482000,483000,484000,485000,486000,487000,488000,489000,490000,491000,492000,493000,494000,495000,496000,497000,498000,499000,500000,501000,502000,503000,504000,505000,506000,507000,508000,509000,510000,511000,512000,513000,514000,515000,516000,517000,518000,519000,520000,521000,522000,523000,524000,525000,526000,527000,528000,529000,530000,531000,532000,533000,534000,535000,536000,537000,538000,539000,540000,541000,542000,543000,544000,545000,546000,547000,548000,549000,550000,551000,552000,553000,554000,555000,556000,557000,558000,559000,560000,561000,562000,563000,564000,565000,566000,567000,568000,569000,570000,571000,572000,573000,574000,575000,576000,577000,578000,579000,580000,581000,582000,583000,584000,585000,586000,587000,588000,589000,590000,591000,592000,593000,594000,595000,596000,597000,598000,599000,600000,601000,602000,603000,604000,605000,606000,607000,608000,609000,610000,611000,612000,613000,614000,615000,616000,617000,618000,619000,620000,621000,622000,623000,624000,625000,626000,627000,628000,629000,630000,631000,632000,633000,634000,635000,636000,637000,638000,639000,640000,641000,642000,643000,644000,645000,646000,647000,648000,649000,650000,651000,652000,653000,654000,655000,656000,657000,658000,659000,660000,661000,662000,663000,664000,665000,666000,667000,668000,669000,670000,671000,672000,673000,674000,675000,676000,677000,678000,679000,680000,681000,682000,683000,684000,685000,686000,687000,688000,689000,690000,691000,692000,693000,694000,695000,696000,697000,698000,699000,700000,701000,702000,703000,704000,705000,706000,707000,708000,709000,710000,711000,712000,713000,714000,715000,716000,717000,718000,719000,720000,721000,722000,723000,724000,725000,726000,727000,728000,729000,730000,731000,732000,733000,734000,735000,736000,737000,738000,739000,740000,741000,742000,743000,744000,745000,746000,747000,748000,749000,750000,751000,752000,753000,754000,755000,756000,757000,758000,759000,760000,761000,762000,763000,764000,765000,766000,767000,768000,769000,770000,771000,772000,773000,774000,775000,776000,777000,778000,779000,780000,781000,782000,783000,784000,785000,786000,787000,788000,789000,790000,791000,792000,793000,794000,795000,796000,797000,798000,799000,800000],\"y\":{\"__ndarray__\":\"AAAAAAAAAAAAAAAAAAAAAAAAAAAAAAAAAAAAAAAAAAAAAAAAAAAAAAAAAAAAAAAAAAAAAAAAAAAAAAAAAAAAAAAAAAAAAAAAAAAAAAAAAAAAAAAAAAAAAAAAAAAAAAAAAAAAAAAAAAAAAAAAAAAAAAAAAAAAAAAAAAAAAAAAAAAAAAAAAAAAAAAAAAAAAAAAAAAAAAAAAAAAAAAAAAAAAAAAAAAAAAAAAAAAAAAAAAAAAAAAAAAAAAAAAAAAAAAAAAAAAAAAAAAAAAAAAAAAAAAAAAAAAAAAAAAAAAAAAAAAAAAAAAAAAAAAAAAAAAAAAAAAAAAAAAAAAAAAAAAAAAAAAAAAAAAAAAAAAAAAAAAAAAAAAAAAAAAAAAAAAAAAAAAAAAAAAAAAAAAAAAAAAAAAAAAAAAAAAAAAAAAAAAAAAAAAAAAAAAAAAAAAAAAAAAAAAAAAAAAAAAAAAAAAAAAAAAAAAAAAAAAAAAAAAAAAAAAAAAAAAAAAAAAAAAAAAAAAAAAAAAAAAAAAAAAAAAAAAAAAAAAAAAAAAAAAAAAAAAAAAAAAAAAAAAAAAAAAAAAAAAAAAAAAAAAAAAAAAAAAAAAAAAAAAAAAAAAAAAAAAAAAAAAAAAAAAAAAAAAAAAAAAAAAAAAAAAAAAAAAAAAAAAAAAAAAAAAAAAAAAAAAAAAAAAAAAAAAAAAAAAAAAAAAAAAAAAAAAAAAAAAAAAAAAAAAAAAAAAAAAAAAAAAAAAAAAAAAAAAAAAAAAAAAAAAAAAAAAAAAAAAAAAAAAAAAAAAAAAAAAAAAAAAAAAAAAAAAAAAAAAAAAAAAAAAAAAAAAAAAAAAAAAAAAAAAAAAAAAAAAAAAAAAAAAAAAAAAAAAAAAAAAAAAAAAAAAAAAAAAAAAAAAAAAAAAAAAAAAAAAAAAAAAAAAAAAAAAAAAAAAAAAAAAAAAAAAAAAAAAAAAAAAAAAAAAAAAAAAAAAAAAAAAAAAAAAAAAAAAAAAAAAAAAAAAAAAAAAAAAAAAAAAAAAAAAAAAAAAAAAAAAAAAAAAAAAAAAAAAAAAAAAAAAAAAAAAAAAAAAAAAAAAAAAAAAAAAAAAAAAAAAAAAAAAAAAAAAAAAAAAAAAAAAAAAAAAAAAAAAAAAAAAAAAAAAAAAAAAAAAAAAAAAAAAAAAAAAAAAAAAAAAAAAAAAAAAAAAAAAAAAAAAAAAAAAAAAAAAAAAAAAAAAAAAAAAAAAAAAAAAAAAAAAAAAAAAAAAAAAAAAAAAAAAAAAAAAAAAAAAAAAAAAAAAAAAAAAAAAAAAAAAAAAAAAAAAAAAAAAAAAAAAAAAAAAAAAAAAAAAAAAAAAAAAAAAAAAAAAAAAAAAAAAAAAAAAAAAAAAAAAAAAAAAAAAAAAAAAAAAAAAAAAAAAAAAAAAAAAAAAAAAAAAAAAAAAAAAAAAAAAAAAAAAAAAAAAAAAAAAAAAAAAAAAAAAAAAAAAAAAAAAAAAAAAAAAAAAAAAAAAAAAAAAAAAAAAAAAAAAAAAAAAAAAAAAAAAAAAAAAAAAAAAAAAAAAAAAAAAAAAAAAAAAAAAAAAAAAAAAAAAAAAAAAAAAAAAAAAAAAAAAAAAAAAAAAAAAAAAAAAAAAAAAAAAAAAAAAAAAAAAAAAAAAAAAAAAAAAAAAAAAAAAAAAAAAAAAAAAAAAAAAAAAAAAAAAAAAAAAAAAAAAAAAAAAAAAAAAAAAAAAAAAAAAAAAAAAAAtiOs/JlKFP0NM4V85+58/OGrmz6+mqj8nF+534aeyPzP56Adr/Lc/Ptvjl/RQvT+lXu8Tv1LBP6rP7NsD/cM/sEDqo0inxj+1sedrjVHJP7si5TPS+8s/wZPi+xamzj94EDtT6LzOP+lNRSqMLcw/WYtPATCeyT/KyFnY0w7HPzoGZK93f8Q/q0NuhhvwwT83AvG6fsG+Pxh9BWnGork/+fcZFw6EtD+15VyKq8quP3fbheY6jaQ/c6JdhZSflD/T+8bXnlkiPwAAAAAAAAAAAAAAAAAAAAAAAAAAAAAAAAAAAAAAAAAAAAAAAAAAAAAAAAAAAAAAAAAAAAAAAAAAAAAAAAAAAAAAAAAAAAAAAAAAAAAAAAAAAAAAAAAAAAAAAAAAAAAAAM+c22N0eoQ/CDqpUh4Cnz/UUrI5geOpP1IECKX5IrI/Ot82rTJUtz8iumW1a4W8P4VKyl5S28A/+bfh4u5zwz9tJflmiwzGP+GSEOsnpcg/VQAob8Q9yz/JbT/zYNbNP////////88/////////zz8AAAAAAADQPwAAAAAAANA/////////zz/////////PP////////88/AAAAAAAA0D8AAAAAAADQPwAAAAAAANA/AAAAAAAA0D8AAAAAAADQPwAAAAAAANA/AAAAAAAA0D8AAAAAAADQPwAAAAAAANA/AAAAAAAA0D8AAAAAAADQPwAAAAAAANA/AAAAAAAA0D8AAAAAAADQPwAAAAAAANA/AAAAAAAA0D8AAAAAAADQPwAAAAAAANA/AAAAAAAA0D8AAAAAAADQPwAAAAAAANA/AAAAAAAA0D8AAAAAAADQPwAAAAAAANA/AAAAAAAA0D8AAAAAAADQPwAAAAAAANA/AAAAAAAA0D8AAAAAAADQPwEAAAAAANA/AAAAAAAA0D8AAAAAAADQPwAAAAAAANA/AAAAAAAA0D8AAAAAAADQPwAAAAAAANA/AAAAAAAA0D8AAAAAAADQPwAAAAAAANA/AAAAAAAA0D8AAAAAAADQPwAAAAAAANA/AAAAAAAA0D/////////PPwAAAAAAANA/AAAAAAAA0D/////////PPwAAAAAAANA/AAAAAAAA0D8AAAAAAADQPwAAAAAAANA/AAAAAAAA0D8AAAAAAADQPwAAAAAAANA/AAAAAAAA0D8AAAAAAADQPwAAAAAAANA/6IaKnKvI0z/RDRU5V5HXP7mUn9UCWts/ohsqcq4i3z9EUVoHrXXhP7mUn9UCWuM/Ldjko1g+5T9gaDofCo/lPxnlMz1er+U/0mEtW7LP5T+gyJOkayblP1jnGJC93uM/EAaeew+X4j/IJCNnYU/hP4FDqFKzB+A/csRafAqA3T/iAWVTrvDaP1I/bypSYdg/xHx5AfbR1T+lTkATYcPTP11txf6ye9I/FYxK6gQ00T8AAAAAAADQPwAAAAAAANA/AAAAAAAA0D8AAAAAAADQPwAAAAAAANA/AAAAAAAA0D8AAAAAAADQPwAAAAAAANA/AAAAAAAA0D8AAAAAAADQP3D8nJ8SodE/3Z1wlx500z9JP0SPKkfVP0t/5AJGUdg/DIWlDslP3D9mRTMNJifgP0fIE5NnJuI/KEv0GKkl5D8fyrdvMQjmP0l8rvnsHec/GqiMf59x5z92N091yM3mP9LGEWvxKeY/LlbUYBqG5T+K5ZZWQ+LkP+Z0WUxsPuQ/QwQcQpWa4z+fk943vvbiP/sioS3nUuI/V7JjIxCv4T+zQSYZOQvhPw/R6A5iZ+A/AAAAAAAA4D8AAAAAAADgPwAAAAAAAOA/AAAAAAAA4D8AAAAAAADgPwAAAAAAAOA/AAAAAAAA4D8AAAAAAADgPwuA8Qwa+t8/YFlpUgq63T/SlnMprirbP0LUfQBSm9g/shGI1/UL1j8jT5KumXzTP5SMnIU97dA/CJRNucK7zD/qDmJnCp3HP8qJdhVSfsI/WAkWhzO/uj8a/z7jwoGwP3DTn/1IEZk/eLrj4o8XlD+KVsVJKe+xP3S+0Zpu2L4/MBPv9dngxT8mR3WefFXMP469faMPZdE/idfA92Cf1D+E8QNMstnXP34LR6ADFNs/eiWK9FRO3j8AAAAAAADgPwAAAAAAAOA/AAAAAAAA4D8AAAAAAADgPwAAAAAAAOA/AAAAAAAA4D8AAAAAAADgP09YRgHVkuE/WcKT5WNi4z9jLOHJ8jHlP4dWis7C8uY/dk8eFmpN5z/T3uALk6nmPy9uowG8BeY/i/1l9+Rh5T/njCjtDb7kP0Mc6+I2GuQ/n6ut2F924z/7OnDOiNLiP1jKMsSxLuI/tFn1udqK4T8Q6bevA+fgP2x4eqUsQ+A/AAAAAAAA4D8AAAAAAADgPwAAAAAAAOA/AAAAAAAA4D8AAAAAAADgPwAAAAAAAOA/AAAAAAAA4D8AAAAAAADgPwAAAAAAAOA/ZQETuHU33z8dIJijx+/dP9Y+HY8ZqNw/aPHNQT6D2z9J0BpEfb7bPyqvZ0a8+ds/Co60SPs03D/rbAFLOnDcP8tLTk15q9w/rCqbT7jm3D+MCehR9yHdP23oNFQ2Xd0/j9ZZZQHm3T/35xd20WrgP256142NLuE/ZiahuxBB4T9d0mrpk1PhP1R+NBcXZuE/TCr+RJp44T9E1sdyHYvhPzuCkaCgneE/Mi5bziOw4T8q2iT8psLhPyGG7ikq1eE/9GxWfa624D9ZF7fRAN7ePwDjGTT0T9w/uAGfH0YI2z9xICQLmMDZPyk/qfbpeNg/4l0u4jsx1z+afLPNjenVP1KbOLnfodQ/Crq9pDFa0z/D2EKQgxLSP3v3x3vVytA/NSwDnUOP0D8Er80QSQfSP9MxmIROf9M/orRi+FP31D9xNy1sWW/WP0C6999e59c/Dj3CU2Rf2T/ev4zHadfaP6xCVztvT9w/fMUhr3TH3T9KSOwiej/fPwAAAAAAAOA/AAAAAAAA4D8AAAAAAADgPwAAAAAAAOA/YDqE478A4D95O6USJLzgP5M8xkGId+E/rT3ncOwy4j/GPgigUO7iP+A/Kc+0qeM/+kBK/hhl5D8UQmstfSDlPy5DjFzh2+U/SESti0WX5j9iRc66qVLnP8HKoUW28+c/HVpkO99P5z+iYpy/CYXmP1qBIatbPeU/EqCmlq314z/LviuC/63iP4PdsG1RZuE/PPw1WaMe4D/oNXaJ6q3dP1hzgGCOHts/yLCKNzKP2D867pQO1v/VP6orn+V5cNM/PUSjO4id0T9MqyFxj6XPP9Ii2/l+asw/QmDl0CLbyT+zne+nxkvHPyPb+X5qvMQ/lBgEVg4twj8JrBxaZDu/P+omMQisHLo/y6FFtvP9tD9ZObTIdr6vPxsv3SQGgaU/u0kMAiuHlj/8qfHSTWJgPyLXdKgLoYQ/6GAsAJTTqj8Exh2Lcj+4P8qtEouNisE/kXiW0GH1xj9ZQxoWNmDMPwAAAAAAANA/AAAAAAAA0D8AAAAAAADQPwAAAAAAANA/KCzxgLIpzz/6fSTRjyDOP1iyomTaN84/tOYg+CRPzj8RG5+Lb2bOP25PHR+6fc4/yoObsgSVzj8ouBlGT6zOP4Tsl9mZw84/BOVR5XaI0T/G09fdIK/TP4fCXdbK1dU/SrHjznT81z/whluYvK/bP4r4TpV0Md8/EjUhSZZZ4T8iw8hjrGziPwChoQAvfOI/4H56nbGL4j++XFM6NJviP506LNe2quI/fBgFdDm64j80kCD48T/iP279u4qdq+E/JQaBlUOL4D9zaJHtfD/dP5zEILByaNk/xSCwcmiR1T/ufD81XrrRPzH186YiFc4/EnAIVWr2yD/z6hwDstfDP6jLYmLzcb0/asGLvoI0sz+yS1RvDWylP+mC+pY5XZY/2ubG9IQlXj8AAAAAAAAAAAAAAAAAAAAAAAAAAAAAAAAAAAAAAAAAAAAAAAAAAAAAAAAAAAAAAAAAAAAAAAAAAAAAAAAAAAAAAAAAAAAAAAAAAAAAAAAAAAAAAAAAAAAAAAAAAAAAAAAAAAAAAAAAAAAAAAAAAAAAAAAAAAAAAAAAAAAAAAAAAAAAAAAAAAAAAAAAAAAAAAAAAAAAAAAAAAAAAAAAAAAAAAAAAAAAAAAAAAAAAAAAAAAAAAAAAAAAAAAAAAAAAAAAAAAAAAAAAAAAAAAAAAAAAAAAAAAAAAAAAAAAAAAAAAAAAAAAAAAAAAAAAAAAAAAAAAAAAAAAAAAAAAAAAAAAAAAAAAAAAAAAAAAAAAAAAAAAAAAAAAAAAAAAAAAAAAAAAAAAAAAAAAAAAAAAAAAAAAAAAAAAAAAAAAAAAAAAAAAAAAAAAAAAAAAAAAAAAAAAAAAAAAAAAAAAAAAAAAAAAAAAAAAAAAAAAAAAAAAAAAAAAAAAAAAAAAAAAAAAAAAAAAAAAAAAAAAAAAAAAAAAAAAAAAAAAAAAAAAAAAAAAAAAAAAAAAAAAAAAAAAAAAAAAAAAAAAAAAAAAAAAAAAAAAAAAAAAAAAAAAAAAAAAAAAAAAAAAAAAAAAAAAAAAAAAAAAAAAAAAAAAAAAAAAAAb6VXUPSfgj8F2od8hxGgP6/K+eQRe6s/at1GdanHtT+OKvV26ajAP2bmRjP+bcY/PqKY7xIzzD8LL/XVE/zQP/cMHjSe3tM/4+pGkijB1j/QyG/wsqPZP6c+eVwfQNw/ft6TbXi13T9Ufq5+0SrfPwAAAAAAAOA/AAAAAAAA4D8AAAAAAADgPwAAAAAAAOA/AAAAAAAA4D8AAAAAAADgPwAAAAAAAOA/AAAAAAAA4D8AAAAAAADgP6sFj+73m+A/1xn410+04D8CLmHBp8zgPy5Cyqr/5OA/WlYzlFf94D+Gapx9rxXhP7F+BWcHLuE/3ZJuUF9G4T8Ip9c5t17hPzS7QCMPd+E/X8+pDGeP4T8WMIFbd/PgP3K/Q1GgT+A/vfzUDvIw4T/af0+MOYLjP/cCygmB0+U/AAAAAAAA6D8AAAAAAADoPwAAAAAAAOg/IQclzLT95z99lufB3VnnPxh47j1ccuY/0ZZzKa4q5T+JtfgUAOPjP0LUfQBSm+I/+vIC7KNT4T+yEYjX9QvgP9VgGoaPiN0/RZ4kXTP52j+22y4012nYPyYZOQt72tU/l1ZD4h5L0z8rTIL7F6fSP/nQPHGi09M/lF2CFpu51z+GQzkQCeLbP70U+IQ7BeA/tofTgXIZ4j+w+q5+qS3kP4HX803LZuQ/zCZ3+w6d5D8XdvqoUtPkP2HFfVaWCeU/R+aRPxh45D//BBcrajDjP7gjnBa86OE/cEIhAg6h4D9Rwkzbv7LeP8L/VrJjI9w/Mj1hiQeU2T+iemtgqwTXP2RTrvAuF9U/HXIz3IDP0z/WkLjH0ofSP46vPbMkQNE/U6v5bzMS0D8zEh6siynTPxN5QujjQNY/9N9mJDxY2T/TRotglG/cP7Otr5zsht8/YF6AfXTq3j8YfQVpxqLdP9CbilQYW9w/iLoPQGoT2z9A2ZQrvMvZP/n3GRcOhNg/sRafAmA81z9qNSTusfTVPyJUqdkDrdQ/2nIuxVVl0z+SkbOwpx3SP0uwOJz51dA/AAAAAAAA0D8AAAAAAADQPwAAAAAAANA/jMpy1TYf0T/oUQqUnmTTP0TZoVIGqtU/oGA5EW7v1z/859DP1TTaP1dvaI49etw/s/b/TKW/3j8AAAAAAADgPwAAAAAAAOA/AAAAAAAA4D9Xqes5P7vgP6iXo1pRmOE/+IVbe2N14j9IdBOcdVLjPzyGhLkPJOQ/6AP/z0pd5D+VgXnmhZbkP0L/8/zAz+Q/7nxuE/wI5T9w8IXJVMHkP8x/SL99HeQ/KA8LtaZ54z+Ens2qz9XiP+AtkKD4MeI/PL1SliGO4T+YTBWMSurgP/Tb14FzRuA/AAAAAAAA4D8AAAAAAADgPwAAAAAAAOA/AAAAAAAA4D8cnn4rBaLgPyZpwsPXVeE/MjQGXKoJ4j88/0n0fL3iP0fKjYxPceM/UpXRJCIl5D9dYBW99NjkP2grWVXHjOU/hTAf3IhO5j+XFBWfZ8nnP6r4CmJGROk/hvd0mDAP6j/qn+m4ZTLqP05IXtmaVeo/svDS+c946j8WmUcaBZzqP3lBvDo6v+o/3ekwW2/i6j9BkqV7pAXrP7CxS1RvDeo/sMka9RCN6D/Fd2LWi6HmP9klqrcGtuQ/QKn26XjM4j/4x3vVyoThP6bVkLjH0t8/0DEge7372z/4ja89syTYPyHqPgCpTdQ/SkbOwp520D/mRLsKKT/JPykK9Ik8ScI/FAoRcAhVuj/6ryx7Jau8P0h2aZ6ppcA/k5Q8f8D1wj/dsg9g10XFPzUKP+7frsc/7GNddU1t0T84ci0KJlXWP5zghgNKe9k/AE/g/G2h3D9kvTn2kcffPwAAAAAAAOA/fRb7fsjQ4D8PaG54HNzhP6C54XFw5+I/MgtVa8Ty4z/EXMhkGP7kP1WuO15sCeY/5v+uV8AU5z/Oqs/VVuznPyo6kst/SOc/hslUwaik5j/iWBe30QDmPz7o2az6XOU/mnecoiO55D/3Bl+YTBXkP1OWIY51ceM/ryXkg57N4j8LtaZ5xyniP2dEaW/wheE/xNMrZRni4D8gY+5aQj7gP0KwnE0TpeA/rFA2eFOv4T8X8c+ik7niP4KRac3Tw+M/7DED+BPO5D9X0pwiVNjlP8FyNk2U4uY/LBPQd9Ts5z8AAAAAAADoPwAAAAAAAOg/AAAAAAAA6D8AAAAAAADoPwAAAAAAAOg/AAAAAAAA6D8AAAAAAADoPwAAAAAAAOg/\",\"dtype\":\"float64\",\"shape\":[801]}}},\"id\":\"d3bf9c10-324d-4af1-a964-6e04948b601c\",\"type\":\"ColumnDataSource\"},{\"attributes\":{\"plot\":{\"id\":\"ee224ec3-a7da-440f-a247-477c839ce091\",\"subtype\":\"Figure\",\"type\":\"Plot\"},\"ticker\":{\"id\":\"a95b8353-60a2-47f8-8bec-84f5aae50092\",\"type\":\"BasicTicker\"}},\"id\":\"48273ad7-107d-4fe3-b965-df04a80f429c\",\"type\":\"Grid\"},{\"attributes\":{},\"id\":\"a95b8353-60a2-47f8-8bec-84f5aae50092\",\"type\":\"BasicTicker\"},{\"attributes\":{\"bottom_units\":\"screen\",\"fill_alpha\":{\"value\":0.5},\"fill_color\":{\"value\":\"lightgrey\"},\"left_units\":\"screen\",\"level\":\"overlay\",\"line_alpha\":{\"value\":1.0},\"line_color\":{\"value\":\"black\"},\"line_dash\":[4,4],\"line_width\":{\"value\":2},\"plot\":null,\"render_mode\":\"css\",\"right_units\":\"screen\",\"top_units\":\"screen\"},\"id\":\"658c17ac-ab7c-46b5-b8b5-0ad276e71546\",\"type\":\"BoxAnnotation\"},{\"attributes\":{\"plot\":{\"id\":\"ee224ec3-a7da-440f-a247-477c839ce091\",\"subtype\":\"Figure\",\"type\":\"Plot\"}},\"id\":\"d4eaeba6-f7a1-455f-9646-f77b202ddd6a\",\"type\":\"SaveTool\"},{\"attributes\":{\"line_color\":{\"value\":\"#377eb8\"},\"line_width\":{\"value\":2},\"x\":{\"field\":\"x\"},\"y\":{\"field\":\"y\"}},\"id\":\"da45161d-6a92-4d88-a6d4-607ada8b67a7\",\"type\":\"Line\"},{\"attributes\":{\"line_alpha\":{\"value\":0.1},\"line_color\":{\"value\":\"#1f77b4\"},\"line_width\":{\"value\":2},\"x\":{\"field\":\"x\"},\"y\":{\"field\":\"y\"}},\"id\":\"b09e60b8-2451-4db1-b391-f28985bead1d\",\"type\":\"Line\"},{\"attributes\":{\"line_alpha\":{\"value\":0.1},\"line_color\":{\"value\":\"#1f77b4\"},\"line_width\":{\"value\":2},\"x\":{\"field\":\"x\"},\"y\":{\"field\":\"y\"}},\"id\":\"511825a3-abad-4dde-9518-8102360e4064\",\"type\":\"Line\"},{\"attributes\":{\"fill_alpha\":{\"value\":0.1},\"fill_color\":{\"value\":\"#1f77b4\"},\"line_alpha\":{\"value\":0.1},\"line_color\":{\"value\":\"#1f77b4\"},\"x\":{\"field\":\"x\"},\"y\":{\"field\":\"y\"}},\"id\":\"e7377976-7db9-4aac-9979-7c72208c5997\",\"type\":\"Patch\"},{\"attributes\":{\"fill_alpha\":{\"value\":0.1},\"fill_color\":{\"value\":\"#4daf4a\"},\"line_alpha\":{\"value\":0.1},\"line_color\":{\"value\":\"#4daf4a\"},\"x\":{\"field\":\"x\"},\"y\":{\"field\":\"y\"}},\"id\":\"6c16d94f-1415-46b9-9d12-d2a3044b3ab1\",\"type\":\"Patch\"},{\"attributes\":{\"plot\":{\"id\":\"ee224ec3-a7da-440f-a247-477c839ce091\",\"subtype\":\"Figure\",\"type\":\"Plot\"}},\"id\":\"ddc0145e-5295-4502-97a1-42f7ed3648c9\",\"type\":\"WheelZoomTool\"},{\"attributes\":{\"label\":{\"value\":\"Prioritized minus pseudo rewards\"},\"renderers\":[{\"id\":\"b9360f35-3817-4802-809e-5637e02106d5\",\"type\":\"GlyphRenderer\"}]},\"id\":\"ff3241bf-b80c-4c0f-b0da-103784b3a0d1\",\"type\":\"LegendItem\"}],\"root_ids\":[\"ee224ec3-a7da-440f-a247-477c839ce091\"]},\"title\":\"Bokeh Application\",\"version\":\"0.12.4\"}};\n",
       "            var render_items = [{\"docid\":\"4a5b9bb5-9392-4bf6-8774-766048bc7f20\",\"elementid\":\"15094958-470e-4365-9ec9-d914f620eb1f\",\"modelid\":\"ee224ec3-a7da-440f-a247-477c839ce091\"}];\n",
       "            \n",
       "            Bokeh.embed.embed_items(docs_json, render_items);\n",
       "          };\n",
       "          if (document.readyState != \"loading\") fn();\n",
       "          else document.addEventListener(\"DOMContentLoaded\", fn);\n",
       "        })();\n",
       "      },\n",
       "      function(Bokeh) {\n",
       "      }\n",
       "    ];\n",
       "  \n",
       "    function run_inline_js() {\n",
       "      \n",
       "      if ((window.Bokeh !== undefined) || (force === true)) {\n",
       "        for (var i = 0; i < inline_js.length; i++) {\n",
       "          inline_js[i](window.Bokeh);\n",
       "        }if (force === true) {\n",
       "          display_loaded();\n",
       "        }} else if (Date.now() < window._bokeh_timeout) {\n",
       "        setTimeout(run_inline_js, 100);\n",
       "      } else if (!window._bokeh_failed_load) {\n",
       "        console.log(\"Bokeh: BokehJS failed to load within specified timeout.\");\n",
       "        window._bokeh_failed_load = true;\n",
       "      } else if (force !== true) {\n",
       "        var cell = $(document.getElementById(\"15094958-470e-4365-9ec9-d914f620eb1f\")).parents('.cell').data().cell;\n",
       "        cell.output_area.append_execute_result(NB_LOAD_WARNING)\n",
       "      }\n",
       "  \n",
       "    }\n",
       "  \n",
       "    if (window._bokeh_is_loading === 0) {\n",
       "      console.log(\"Bokeh: BokehJS loaded, going straight to plotting\");\n",
       "      run_inline_js();\n",
       "    } else {\n",
       "      load_libs(js_urls, function() {\n",
       "        console.log(\"Bokeh: BokehJS plotting callback run at\", now());\n",
       "        run_inline_js();\n",
       "      });\n",
       "    }\n",
       "  }(this));\n",
       "</script>"
      ]
     },
     "metadata": {},
     "output_type": "display_data"
    },
    {
     "name": "stderr",
     "output_type": "stream",
     "text": [
      "/home/tabz/.local/lib/python3.6/site-packages/bokeh/models/sources.py:81: BokehUserWarning: ColumnDataSource's columns must be of the same length\n",
      "  lambda: warnings.warn(\"ColumnDataSource's columns must be of the same length\", BokehUserWarning))\n",
      "/home/tabz/.local/lib/python3.6/site-packages/bokeh/models/sources.py:81: BokehUserWarning: ColumnDataSource's columns must be of the same length\n",
      "  lambda: warnings.warn(\"ColumnDataSource's columns must be of the same length\", BokehUserWarning))\n",
      "/home/tabz/.local/lib/python3.6/site-packages/bokeh/models/sources.py:81: BokehUserWarning: ColumnDataSource's columns must be of the same length\n",
      "  lambda: warnings.warn(\"ColumnDataSource's columns must be of the same length\", BokehUserWarning))\n",
      "/home/tabz/.local/lib/python3.6/site-packages/bokeh/models/sources.py:81: BokehUserWarning: ColumnDataSource's columns must be of the same length\n",
      "  lambda: warnings.warn(\"ColumnDataSource's columns must be of the same length\", BokehUserWarning))\n",
      "/home/tabz/.local/lib/python3.6/site-packages/bokeh/models/sources.py:81: BokehUserWarning: ColumnDataSource's columns must be of the same length\n",
      "  lambda: warnings.warn(\"ColumnDataSource's columns must be of the same length\", BokehUserWarning))\n",
      "/home/tabz/.local/lib/python3.6/site-packages/bokeh/models/sources.py:81: BokehUserWarning: ColumnDataSource's columns must be of the same length\n",
      "  lambda: warnings.warn(\"ColumnDataSource's columns must be of the same length\", BokehUserWarning))\n"
     ]
    },
    {
     "data": {
      "text/html": [
       "\n",
       "\n",
       "    <div class=\"bk-root\">\n",
       "        <div class=\"bk-plotdiv\" id=\"ca97246e-6b43-4a46-ba2c-1a32415ecde9\"></div>\n",
       "    </div>\n",
       "<script type=\"text/javascript\">\n",
       "  \n",
       "  (function(global) {\n",
       "    function now() {\n",
       "      return new Date();\n",
       "    }\n",
       "  \n",
       "    var force = false;\n",
       "  \n",
       "    if (typeof (window._bokeh_onload_callbacks) === \"undefined\" || force === true) {\n",
       "      window._bokeh_onload_callbacks = [];\n",
       "      window._bokeh_is_loading = undefined;\n",
       "    }\n",
       "  \n",
       "  \n",
       "    \n",
       "    if (typeof (window._bokeh_timeout) === \"undefined\" || force === true) {\n",
       "      window._bokeh_timeout = Date.now() + 0;\n",
       "      window._bokeh_failed_load = false;\n",
       "    }\n",
       "  \n",
       "    var NB_LOAD_WARNING = {'data': {'text/html':\n",
       "       \"<div style='background-color: #fdd'>\\n\"+\n",
       "       \"<p>\\n\"+\n",
       "       \"BokehJS does not appear to have successfully loaded. If loading BokehJS from CDN, this \\n\"+\n",
       "       \"may be due to a slow or bad network connection. Possible fixes:\\n\"+\n",
       "       \"</p>\\n\"+\n",
       "       \"<ul>\\n\"+\n",
       "       \"<li>re-rerun `output_notebook()` to attempt to load from CDN again, or</li>\\n\"+\n",
       "       \"<li>use INLINE resources instead, as so:</li>\\n\"+\n",
       "       \"</ul>\\n\"+\n",
       "       \"<code>\\n\"+\n",
       "       \"from bokeh.resources import INLINE\\n\"+\n",
       "       \"output_notebook(resources=INLINE)\\n\"+\n",
       "       \"</code>\\n\"+\n",
       "       \"</div>\"}};\n",
       "  \n",
       "    function display_loaded() {\n",
       "      if (window.Bokeh !== undefined) {\n",
       "        document.getElementById(\"ca97246e-6b43-4a46-ba2c-1a32415ecde9\").textContent = \"BokehJS successfully loaded.\";\n",
       "      } else if (Date.now() < window._bokeh_timeout) {\n",
       "        setTimeout(display_loaded, 100)\n",
       "      }\n",
       "    }\n",
       "  \n",
       "    function run_callbacks() {\n",
       "      window._bokeh_onload_callbacks.forEach(function(callback) { callback() });\n",
       "      delete window._bokeh_onload_callbacks\n",
       "      console.info(\"Bokeh: all callbacks have finished\");\n",
       "    }\n",
       "  \n",
       "    function load_libs(js_urls, callback) {\n",
       "      window._bokeh_onload_callbacks.push(callback);\n",
       "      if (window._bokeh_is_loading > 0) {\n",
       "        console.log(\"Bokeh: BokehJS is being loaded, scheduling callback at\", now());\n",
       "        return null;\n",
       "      }\n",
       "      if (js_urls == null || js_urls.length === 0) {\n",
       "        run_callbacks();\n",
       "        return null;\n",
       "      }\n",
       "      console.log(\"Bokeh: BokehJS not loaded, scheduling load and callback at\", now());\n",
       "      window._bokeh_is_loading = js_urls.length;\n",
       "      for (var i = 0; i < js_urls.length; i++) {\n",
       "        var url = js_urls[i];\n",
       "        var s = document.createElement('script');\n",
       "        s.src = url;\n",
       "        s.async = false;\n",
       "        s.onreadystatechange = s.onload = function() {\n",
       "          window._bokeh_is_loading--;\n",
       "          if (window._bokeh_is_loading === 0) {\n",
       "            console.log(\"Bokeh: all BokehJS libraries loaded\");\n",
       "            run_callbacks()\n",
       "          }\n",
       "        };\n",
       "        s.onerror = function() {\n",
       "          console.warn(\"failed to load library \" + url);\n",
       "        };\n",
       "        console.log(\"Bokeh: injecting script tag for BokehJS library: \", url);\n",
       "        document.getElementsByTagName(\"head\")[0].appendChild(s);\n",
       "      }\n",
       "    };var element = document.getElementById(\"ca97246e-6b43-4a46-ba2c-1a32415ecde9\");\n",
       "    if (element == null) {\n",
       "      console.log(\"Bokeh: ERROR: autoload.js configured with elementid 'ca97246e-6b43-4a46-ba2c-1a32415ecde9' but no matching script tag was found. \")\n",
       "      return false;\n",
       "    }\n",
       "  \n",
       "    var js_urls = [];\n",
       "  \n",
       "    var inline_js = [\n",
       "      function(Bokeh) {\n",
       "        (function() {\n",
       "          var fn = function() {\n",
       "            var docs_json = {\"a691c0c9-b7ce-46fc-acc9-c7a92fe6bca7\":{\"roots\":{\"references\":[{\"attributes\":{\"callback\":null,\"column_names\":[\"x\",\"y\"],\"data\":{\"x\":[0,1000,2000,3000,4000,5000,6000,7000,8000,9000,10000,11000,12000,13000,14000,15000,16000,17000,18000,19000,20000,21000,22000,23000,24000,25000,26000,27000,28000,29000,30000,31000,32000,33000,34000,35000,36000,37000,38000,39000,40000,41000,42000,43000,44000,45000,46000,47000,48000,49000,50000,51000,52000,53000,54000,55000,56000,57000,58000,59000,60000,61000,62000,63000,64000,65000,66000,67000,68000,69000,70000,71000,72000,73000,74000,75000,76000,77000,78000,79000,80000,81000,82000,83000,84000,85000,86000,87000,88000,89000,90000,91000,92000,93000,94000,95000,96000,97000,98000,99000,100000,101000,102000,103000,104000,105000,106000,107000,108000,109000,110000,111000,112000,113000,114000,115000,116000,117000,118000,119000,120000,121000,122000,123000,124000,125000,126000,127000,128000,129000,130000,131000,132000,133000,134000,135000,136000,137000,138000,139000,140000,141000,142000,143000,144000,145000,146000,147000,148000,149000,150000,151000,152000,153000,154000,155000,156000,157000,158000,159000,160000,161000,162000,163000,164000,165000,166000,167000,168000,169000,170000,171000,172000,173000,174000,175000,176000,177000,178000,179000,180000,181000,182000,183000,184000,185000,186000,187000,188000,189000,190000,191000,192000,193000,194000,195000,196000,197000,198000,199000,200000,201000,202000,203000,204000,205000,206000,207000,208000,209000,210000,211000,212000,213000,214000,215000,216000,217000,218000,219000,220000,221000,222000,223000,224000,225000,226000,227000,228000,229000,230000,231000,232000,233000,234000,235000,236000,237000,238000,239000,240000,241000,242000,243000,244000,245000,246000,247000,248000,249000,250000,251000,252000,253000,254000,255000,256000,257000,258000,259000,260000,261000,262000,263000,264000,265000,266000,267000,268000,269000,270000,271000,272000,273000,274000,275000,276000,277000,278000,279000,280000,281000,282000,283000,284000,285000,286000,287000,288000,289000,290000,291000,292000,293000,294000,295000,296000,297000,298000,299000,300000,301000,302000,303000,304000,305000,306000,307000,308000,309000,310000,311000,312000,313000,314000,315000,316000,317000,318000,319000,320000,321000,322000,323000,324000,325000,326000,327000,328000,329000,330000,331000,332000,333000,334000,335000,336000,337000,338000,339000,340000,341000,342000,343000,344000,345000,346000,347000,348000,349000,350000,351000,352000,353000,354000,355000,356000,357000,358000,359000,360000,361000,362000,363000,364000,365000,366000,367000,368000,369000,370000,371000,372000,373000,374000,375000,376000,377000,378000,379000,380000,381000,382000,383000,384000,385000,386000,387000,388000,389000,390000,391000,392000,393000,394000,395000,396000,397000,398000,399000,400000,401000,402000,403000,404000,405000,406000,407000,408000,409000,410000,411000,412000,413000,414000,415000,416000,417000,418000,419000,420000,421000,422000,423000,424000,425000,426000,427000,428000,429000,430000,431000,432000,433000,434000,435000,436000,437000,438000,439000,440000,441000,442000,443000,444000,445000,446000,447000,448000,449000,450000,451000,452000,453000,454000,455000,456000,457000,458000,459000,460000,461000,462000,463000,464000,465000,466000,467000,468000,469000,470000,471000,472000,473000,474000,475000,476000,477000,478000,479000,480000,481000,482000,483000,484000,485000,486000,487000,488000,489000,490000,491000,492000,493000,494000,495000,496000,497000,498000,499000,500000,501000,502000,503000,504000,505000,506000,507000,508000,509000,510000,511000,512000,513000,514000,515000,516000,517000,518000,519000,520000,521000,522000,523000,524000,525000,526000,527000,528000,529000,530000,531000,532000,533000,534000,535000,536000,537000,538000,539000,540000,541000,542000,543000,544000,545000,546000,547000,548000,549000,550000,551000,552000,553000,554000,555000,556000,557000,558000,559000,560000,561000,562000,563000,564000,565000,566000,567000,568000,569000,570000,571000,572000,573000,574000,575000,576000,577000,578000,579000,580000,581000,582000,583000,584000,585000,586000,587000,588000,589000,590000,591000,592000,593000,594000,595000,596000,597000,598000,599000,600000,601000,602000,603000,604000,605000,606000,607000,608000,609000,610000,611000,612000,613000,614000,615000,616000,617000,618000,619000,620000,621000,622000,623000,624000,625000,626000,627000,628000,629000,630000,631000,632000,633000,634000,635000,636000,637000,638000,639000,640000,641000,642000,643000,644000,645000,646000,647000,648000,649000,650000,651000,652000,653000,654000,655000,656000,657000,658000,659000,660000,661000,662000,663000,664000,665000,666000,667000,668000,669000,670000,671000,672000,673000,674000,675000,676000,677000,678000,679000,680000,681000,682000,683000,684000,685000,686000,687000,688000,689000,690000,691000,692000,693000,694000,695000,696000,697000,698000,699000,700000,701000,702000,703000,704000,705000,706000,707000,708000,709000,710000,711000,712000,713000,714000,715000,716000,717000,718000,719000,720000,721000,722000,723000,724000,725000,726000,727000,728000,729000,730000,731000,732000,733000,734000,735000,736000,737000,738000,739000,740000,741000,742000,743000,744000,745000,746000,747000,748000,749000,750000,751000,752000,753000,754000,755000,756000,757000,758000,759000,760000,761000,762000,763000,764000,765000,766000,767000,768000,769000,770000,771000,772000,773000,774000,775000,776000,777000,778000,779000,780000,781000,782000,783000,784000,785000,786000,787000,788000,789000,790000,791000,792000,793000,794000,795000,796000,797000,798000,799000,800000,800000,799000,798000,797000,796000,795000,794000,793000,792000,791000,790000,789000,788000,787000,786000,785000,784000,783000,782000,781000,780000,779000,778000,777000,776000,775000,774000,773000,772000,771000,770000,769000,768000,767000,766000,765000,764000,763000,762000,761000,760000,759000,758000,757000,756000,755000,754000,753000,752000,751000,750000,749000,748000,747000,746000,745000,744000,743000,742000,741000,740000,739000,738000,737000,736000,735000,734000,733000,732000,731000,730000,729000,728000,727000,726000,725000,724000,723000,722000,721000,720000,719000,718000,717000,716000,715000,714000,713000,712000,711000,710000,709000,708000,707000,706000,705000,704000,703000,702000,701000,700000,699000,698000,697000,696000,695000,694000,693000,692000,691000,690000,689000,688000,687000,686000,685000,684000,683000,682000,681000,680000,679000,678000,677000,676000,675000,674000,673000,672000,671000,670000,669000,668000,667000,666000,665000,664000,663000,662000,661000,660000,659000,658000,657000,656000,655000,654000,653000,652000,651000,650000,649000,648000,647000,646000,645000,644000,643000,642000,641000,640000,639000,638000,637000,636000,635000,634000,633000,632000,631000,630000,629000,628000,627000,626000,625000,624000,623000,622000,621000,620000,619000,618000,617000,616000,615000,614000,613000,612000,611000,610000,609000,608000,607000,606000,605000,604000,603000,602000,601000,600000,599000,598000,597000,596000,595000,594000,593000,592000,591000,590000,589000,588000,587000,586000,585000,584000,583000,582000,581000,580000,579000,578000,577000,576000,575000,574000,573000,572000,571000,570000,569000,568000,567000,566000,565000,564000,563000,562000,561000,560000,559000,558000,557000,556000,555000,554000,553000,552000,551000,550000,549000,548000,547000,546000,545000,544000,543000,542000,541000,540000,539000,538000,537000,536000,535000,534000,533000,532000,531000,530000,529000,528000,527000,526000,525000,524000,523000,522000,521000,520000,519000,518000,517000,516000,515000,514000,513000,512000,511000,510000,509000,508000,507000,506000,505000,504000,503000,502000,501000,500000,499000,498000,497000,496000,495000,494000,493000,492000,491000,490000,489000,488000,487000,486000,485000,484000,483000,482000,481000,480000,479000,478000,477000,476000,475000,474000,473000,472000,471000,470000,469000,468000,467000,466000,465000,464000,463000,462000,461000,460000,459000,458000,457000,456000,455000,454000,453000,452000,451000,450000,449000,448000,447000,446000,445000,444000,443000,442000,441000,440000,439000,438000,437000,436000,435000,434000,433000,432000,431000,430000,429000,428000,427000,426000,425000,424000,423000,422000,421000,420000,419000,418000,417000,416000,415000,414000,413000,412000,411000,410000,409000,408000,407000,406000,405000,404000,403000,402000,401000,400000,399000,398000,397000,396000,395000,394000,393000,392000,391000,390000,389000,388000,387000,386000,385000,384000,383000,382000,381000,380000,379000,378000,377000,376000,375000,374000,373000,372000,371000,370000,369000,368000,367000,366000,365000,364000,363000,362000,361000,360000,359000,358000,357000,356000,355000,354000,353000,352000,351000,350000,349000,348000,347000,346000,345000,344000,343000,342000,341000,340000,339000,338000,337000,336000,335000,334000,333000,332000,331000,330000,329000,328000,327000,326000,325000,324000,323000,322000,321000,320000,319000,318000,317000,316000,315000,314000,313000,312000,311000,310000,309000,308000,307000,306000,305000,304000,303000,302000,301000,300000,299000,298000,297000,296000,295000,294000,293000,292000,291000,290000,289000,288000,287000,286000,285000,284000,283000,282000,281000,280000,279000,278000,277000,276000,275000,274000,273000,272000,271000,270000,269000,268000,267000,266000,265000,264000,263000,262000,261000,260000,259000,258000,257000,256000,255000,254000,253000,252000,251000,250000,249000,248000,247000,246000,245000,244000,243000,242000,241000,240000,239000,238000,237000,236000,235000,234000,233000,232000,231000,230000,229000,228000,227000,226000,225000,224000,223000,222000,221000,220000,219000,218000,217000,216000,215000,214000,213000,212000,211000,210000,209000,208000,207000,206000,205000,204000,203000,202000,201000,200000,199000,198000,197000,196000,195000,194000,193000,192000,191000,190000,189000,188000,187000,186000,185000,184000,183000,182000,181000,180000,179000,178000,177000,176000,175000,174000,173000,172000,171000,170000,169000,168000,167000,166000,165000,164000,163000,162000,161000,160000,159000,158000,157000,156000,155000,154000,153000,152000,151000,150000,149000,148000,147000,146000,145000,144000,143000,142000,141000,140000,139000,138000,137000,136000,135000,134000,133000,132000,131000,130000,129000,128000,127000,126000,125000,124000,123000,122000,121000,120000,119000,118000,117000,116000,115000,114000,113000,112000,111000,110000,109000,108000,107000,106000,105000,104000,103000,102000,101000,100000,99000,98000,97000,96000,95000,94000,93000,92000,91000,90000,89000,88000,87000,86000,85000,84000,83000,82000,81000,80000,79000,78000,77000,76000,75000,74000,73000,72000,71000,70000,69000,68000,67000,66000,65000,64000,63000,62000,61000,60000,59000,58000,57000,56000,55000,54000,53000,52000,51000,50000,49000,48000,47000,46000,45000,44000,43000,42000,41000,40000,39000,38000,37000,36000,35000,34000,33000,32000,31000,30000,29000,28000,27000,26000,25000,24000,23000,22000,21000,20000,19000,18000,17000,16000,15000,14000,13000,12000,11000,10000,9000,8000,7000,6000,5000,4000,3000,2000,1000,0],\"y\":{\"__ndarray__\":\"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\",\"dtype\":\"float64\",\"shape\":[1600]}}},\"id\":\"676205b4-8a71-4da3-9195-9c0ce0b8bf98\",\"type\":\"ColumnDataSource\"},{\"attributes\":{\"axis_label\":\"States visited\",\"formatter\":{\"id\":\"6627f557-0063-4a37-84dc-faf957ad541a\",\"type\":\"BasicTickFormatter\"},\"plot\":{\"id\":\"e953c853-ea47-491c-916a-a205dfdf970c\",\"subtype\":\"Figure\",\"type\":\"Plot\"},\"ticker\":{\"id\":\"6a3695ab-3d6f-4686-9911-c33af8ab183a\",\"type\":\"BasicTicker\"}},\"id\":\"16597204-58aa-4fcd-87bf-933c232e0c9c\",\"type\":\"LinearAxis\"},{\"attributes\":{\"callback\":null,\"column_names\":[\"x\",\"y\"],\"data\":{\"x\":[0,1000,2000,3000,4000,5000,6000,7000,8000,9000,10000,11000,12000,13000,14000,15000,16000,17000,18000,19000,20000,21000,22000,23000,24000,25000,26000,27000,28000,29000,30000,31000,32000,33000,34000,35000,36000,37000,38000,39000,40000,41000,42000,43000,44000,45000,46000,47000,48000,49000,50000,51000,52000,53000,54000,55000,56000,57000,58000,59000,60000,61000,62000,63000,64000,65000,66000,67000,68000,69000,70000,71000,72000,73000,74000,75000,76000,77000,78000,79000,80000,81000,82000,83000,84000,85000,86000,87000,88000,89000,90000,91000,92000,93000,94000,95000,96000,97000,98000,99000,100000,101000,102000,103000,104000,105000,106000,107000,108000,109000,110000,111000,112000,113000,114000,115000,116000,117000,118000,119000,120000,121000,122000,123000,124000,125000,126000,127000,128000,129000,130000,131000,132000,133000,134000,135000,136000,137000,138000,139000,140000,141000,142000,143000,144000,145000,146000,147000,148000,149000,150000,151000,152000,153000,154000,155000,156000,157000,158000,159000,160000,161000,162000,163000,164000,165000,166000,167000,168000,169000,170000,171000,172000,173000,174000,175000,176000,177000,178000,179000,180000,181000,182000,183000,184000,185000,186000,187000,188000,189000,190000,191000,192000,193000,194000,195000,196000,197000,198000,199000,200000,201000,202000,203000,204000,205000,206000,207000,208000,209000,210000,211000,212000,213000,214000,215000,216000,217000,218000,219000,220000,221000,222000,223000,224000,225000,226000,227000,228000,229000,230000,231000,232000,233000,234000,235000,236000,237000,238000,239000,240000,241000,242000,243000,244000,245000,246000,247000,248000,249000,250000,251000,252000,253000,254000,255000,256000,257000,258000,259000,260000,261000,262000,263000,264000,265000,266000,267000,268000,269000,270000,271000,272000,273000,274000,275000,276000,277000,278000,279000,280000,281000,282000,283000,284000,285000,286000,287000,288000,289000,290000,291000,292000,293000,294000,295000,296000,297000,298000,299000,300000,301000,302000,303000,304000,305000,306000,307000,308000,309000,310000,311000,312000,313000,314000,315000,316000,317000,318000,319000,320000,321000,322000,323000,324000,325000,326000,327000,328000,329000,330000,331000,332000,333000,334000,335000,336000,337000,338000,339000,340000,341000,342000,343000,344000,345000,346000,347000,348000,349000,350000,351000,352000,353000,354000,355000,356000,357000,358000,359000,360000,361000,362000,363000,364000,365000,366000,367000,368000,369000,370000,371000,372000,373000,374000,375000,376000,377000,378000,379000,380000,381000,382000,383000,384000,385000,386000,387000,388000,389000,390000,391000,392000,393000,394000,395000,396000,397000,398000,399000,400000,401000,402000,403000,404000,405000,406000,407000,408000,409000,410000,411000,412000,413000,414000,415000,416000,417000,418000,419000,420000,421000,422000,423000,424000,425000,426000,427000,428000,429000,430000,431000,432000,433000,434000,435000,436000,437000,438000,439000,440000,441000,442000,443000,444000,445000,446000,447000,448000,449000,450000,451000,452000,453000,454000,455000,456000,457000,458000,459000,460000,461000,462000,463000,464000,465000,466000,467000,468000,469000,470000,471000,472000,473000,474000,475000,476000,477000,478000,479000,480000,481000,482000,483000,484000,485000,486000,487000,488000,489000,490000,491000,492000,493000,494000,495000,496000,497000,498000,499000,500000,501000,502000,503000,504000,505000,506000,507000,508000,509000,510000,511000,512000,513000,514000,515000,516000,517000,518000,519000,520000,521000,522000,523000,524000,525000,526000,527000,528000,529000,530000,531000,532000,533000,534000,535000,536000,537000,538000,539000,540000,541000,542000,543000,544000,545000,546000,547000,548000,549000,550000,551000,552000,553000,554000,555000,556000,557000,558000,559000,560000,561000,562000,563000,564000,565000,566000,567000,568000,569000,570000,571000,572000,573000,574000,575000,576000,577000,578000,579000,580000,581000,582000,583000,584000,585000,586000,587000,588000,589000,590000,591000,592000,593000,594000,595000,596000,597000,598000,599000,600000,601000,602000,603000,604000,605000,606000,607000,608000,609000,610000,611000,612000,613000,614000,615000,616000,617000,618000,619000,620000,621000,622000,623000,624000,625000,626000,627000,628000,629000,630000,631000,632000,633000,634000,635000,636000,637000,638000,639000,640000,641000,642000,643000,644000,645000,646000,647000,648000,649000,650000,651000,652000,653000,654000,655000,656000,657000,658000,659000,660000,661000,662000,663000,664000,665000,666000,667000,668000,669000,670000,671000,672000,673000,674000,675000,676000,677000,678000,679000,680000,681000,682000,683000,684000,685000,686000,687000,688000,689000,690000,691000,692000,693000,694000,695000,696000,697000,698000,699000,700000,701000,702000,703000,704000,705000,706000,707000,708000,709000,710000,711000,712000,713000,714000,715000,716000,717000,718000,719000,720000,721000,722000,723000,724000,725000,726000,727000,728000,729000,730000,731000,732000,733000,734000,735000,736000,737000,738000,739000,740000,741000,742000,743000,744000,745000,746000,747000,748000,749000,750000,751000,752000,753000,754000,755000,756000,757000,758000,759000,760000,761000,762000,763000,764000,765000,766000,767000,768000,769000,770000,771000,772000,773000,774000,775000,776000,777000,778000,779000,780000,781000,782000,783000,784000,785000,786000,787000,788000,789000,790000,791000,792000,793000,794000,795000,796000,797000,798000,799000,800000,800000,799000,798000,797000,796000,795000,794000,793000,792000,791000,790000,789000,788000,787000,786000,785000,784000,783000,782000,781000,780000,779000,778000,777000,776000,775000,774000,773000,772000,771000,770000,769000,768000,767000,766000,765000,764000,763000,762000,761000,760000,759000,758000,757000,756000,755000,754000,753000,752000,751000,750000,749000,748000,747000,746000,745000,744000,743000,742000,741000,740000,739000,738000,737000,736000,735000,734000,733000,732000,731000,730000,729000,728000,727000,726000,725000,724000,723000,722000,721000,720000,719000,718000,717000,716000,715000,714000,713000,712000,711000,710000,709000,708000,707000,706000,705000,704000,703000,702000,701000,700000,699000,698000,697000,696000,695000,694000,693000,692000,691000,690000,689000,688000,687000,686000,685000,684000,683000,682000,681000,680000,679000,678000,677000,676000,675000,674000,673000,672000,671000,670000,669000,668000,667000,666000,665000,664000,663000,662000,661000,660000,659000,658000,657000,656000,655000,654000,653000,652000,651000,650000,649000,648000,647000,646000,645000,644000,643000,642000,641000,640000,639000,638000,637000,636000,635000,634000,633000,632000,631000,630000,629000,628000,627000,626000,625000,624000,623000,622000,621000,620000,619000,618000,617000,616000,615000,614000,613000,612000,611000,610000,609000,608000,607000,606000,605000,604000,603000,602000,601000,600000,599000,598000,597000,596000,595000,594000,593000,592000,591000,590000,589000,588000,587000,586000,585000,584000,583000,582000,581000,580000,579000,578000,577000,576000,575000,574000,573000,572000,571000,570000,569000,568000,567000,566000,565000,564000,563000,562000,561000,560000,559000,558000,557000,556000,555000,554000,553000,552000,551000,550000,549000,548000,547000,546000,545000,544000,543000,542000,541000,540000,539000,538000,537000,536000,535000,534000,533000,532000,531000,530000,529000,528000,527000,526000,525000,524000,523000,522000,521000,520000,519000,518000,517000,516000,515000,514000,513000,512000,511000,510000,509000,508000,507000,506000,505000,504000,503000,502000,501000,500000,499000,498000,497000,496000,495000,494000,493000,492000,491000,490000,489000,488000,487000,486000,485000,484000,483000,482000,481000,480000,479000,478000,477000,476000,475000,474000,473000,472000,471000,470000,469000,468000,467000,466000,465000,464000,463000,462000,461000,460000,459000,458000,457000,456000,455000,454000,453000,452000,451000,450000,449000,448000,447000,446000,445000,444000,443000,442000,441000,440000,439000,438000,437000,436000,435000,434000,433000,432000,431000,430000,429000,428000,427000,426000,425000,424000,423000,422000,421000,420000,419000,418000,417000,416000,415000,414000,413000,412000,411000,410000,409000,408000,407000,406000,405000,404000,403000,402000,401000,400000,399000,398000,397000,396000,395000,394000,393000,392000,391000,390000,389000,388000,387000,386000,385000,384000,383000,382000,381000,380000,379000,378000,377000,376000,375000,374000,373000,372000,371000,370000,369000,368000,367000,366000,365000,364000,363000,362000,361000,360000,359000,358000,357000,356000,355000,354000,353000,352000,351000,350000,349000,348000,347000,346000,345000,344000,343000,342000,341000,340000,339000,338000,337000,336000,335000,334000,333000,332000,331000,330000,329000,328000,327000,326000,325000,324000,323000,322000,321000,320000,319000,318000,317000,316000,315000,314000,313000,312000,311000,310000,309000,308000,307000,306000,305000,304000,303000,302000,301000,300000,299000,298000,297000,296000,295000,294000,293000,292000,291000,290000,289000,288000,287000,286000,285000,284000,283000,282000,281000,280000,279000,278000,277000,276000,275000,274000,273000,272000,271000,270000,269000,268000,267000,266000,265000,264000,263000,262000,261000,260000,259000,258000,257000,256000,255000,254000,253000,252000,251000,250000,249000,248000,247000,246000,245000,244000,243000,242000,241000,240000,239000,238000,237000,236000,235000,234000,233000,232000,231000,230000,229000,228000,227000,226000,225000,224000,223000,222000,221000,220000,219000,218000,217000,216000,215000,214000,213000,212000,211000,210000,209000,208000,207000,206000,205000,204000,203000,202000,201000,200000,199000,198000,197000,196000,195000,194000,193000,192000,191000,190000,189000,188000,187000,186000,185000,184000,183000,182000,181000,180000,179000,178000,177000,176000,175000,174000,173000,172000,171000,170000,169000,168000,167000,166000,165000,164000,163000,162000,161000,160000,159000,158000,157000,156000,155000,154000,153000,152000,151000,150000,149000,148000,147000,146000,145000,144000,143000,142000,141000,140000,139000,138000,137000,136000,135000,134000,133000,132000,131000,130000,129000,128000,127000,126000,125000,124000,123000,122000,121000,120000,119000,118000,117000,116000,115000,114000,113000,112000,111000,110000,109000,108000,107000,106000,105000,104000,103000,102000,101000,100000,99000,98000,97000,96000,95000,94000,93000,92000,91000,90000,89000,88000,87000,86000,85000,84000,83000,82000,81000,80000,79000,78000,77000,76000,75000,74000,73000,72000,71000,70000,69000,68000,67000,66000,65000,64000,63000,62000,61000,60000,59000,58000,57000,56000,55000,54000,53000,52000,51000,50000,49000,48000,47000,46000,45000,44000,43000,42000,41000,40000,39000,38000,37000,36000,35000,34000,33000,32000,31000,30000,29000,28000,27000,26000,25000,24000,23000,22000,21000,20000,19000,18000,17000,16000,15000,14000,13000,12000,11000,10000,9000,8000,7000,6000,5000,4000,3000,2000,1000,0],\"y\":{\"__ndarray__\":\"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\",\"dtype\":\"float64\",\"shape\":[1600]}}},\"id\":\"966d1db6-3bce-4f13-8b3d-b4e51477e114\",\"type\":\"ColumnDataSource\"},{\"attributes\":{\"callback\":null,\"column_names\":[\"x\",\"y\"],\"data\":{\"x\":[0,1000,2000,3000,4000,5000,6000,7000,8000,9000,10000,11000,12000,13000,14000,15000,16000,17000,18000,19000,20000,21000,22000,23000,24000,25000,26000,27000,28000,29000,30000,31000,32000,33000,34000,35000,36000,37000,38000,39000,40000,41000,42000,43000,44000,45000,46000,47000,48000,49000,50000,51000,52000,53000,54000,55000,56000,57000,58000,59000,60000,61000,62000,63000,64000,65000,66000,67000,68000,69000,70000,71000,72000,73000,74000,75000,76000,77000,78000,79000,80000,81000,82000,83000,84000,85000,86000,87000,88000,89000,90000,91000,92000,93000,94000,95000,96000,97000,98000,99000,100000,101000,102000,103000,104000,105000,106000,107000,108000,109000,110000,111000,112000,113000,114000,115000,116000,117000,118000,119000,120000,121000,122000,123000,124000,125000,126000,127000,128000,129000,130000,131000,132000,133000,134000,135000,136000,137000,138000,139000,140000,141000,142000,143000,144000,145000,146000,147000,148000,149000,150000,151000,152000,153000,154000,155000,156000,157000,158000,159000,160000,161000,162000,163000,164000,165000,166000,167000,168000,169000,170000,171000,172000,173000,174000,175000,176000,177000,178000,179000,180000,181000,182000,183000,184000,185000,186000,187000,188000,189000,190000,191000,192000,193000,194000,195000,196000,197000,198000,199000,200000,201000,202000,203000,204000,205000,206000,207000,208000,209000,210000,211000,212000,213000,214000,215000,216000,217000,218000,219000,220000,221000,222000,223000,224000,225000,226000,227000,228000,229000,230000,231000,232000,233000,234000,235000,236000,237000,238000,239000,240000,241000,242000,243000,244000,245000,246000,247000,248000,249000,250000,251000,252000,253000,254000,255000,256000,257000,258000,259000,260000,261000,262000,263000,264000,265000,266000,267000,268000,269000,270000,271000,272000,273000,274000,275000,276000,277000,278000,279000,280000,281000,282000,283000,284000,285000,286000,287000,288000,289000,290000,291000,292000,293000,294000,295000,296000,297000,298000,299000,300000,301000,302000,303000,304000,305000,306000,307000,308000,309000,310000,311000,312000,313000,314000,315000,316000,317000,318000,319000,320000,321000,322000,323000,324000,325000,326000,327000,328000,329000,330000,331000,332000,333000,334000,335000,336000,337000,338000,339000,340000,341000,342000,343000,344000,345000,346000,347000,348000,349000,350000,351000,352000,353000,354000,355000,356000,357000,358000,359000,360000,361000,362000,363000,364000,365000,366000,367000,368000,369000,370000,371000,372000,373000,374000,375000,376000,377000,378000,379000,380000,381000,382000,383000,384000,385000,386000,387000,388000,389000,390000,391000,392000,393000,394000,395000,396000,397000,398000,399000,400000,401000,402000,403000,404000,405000,406000,407000,408000,409000,410000,411000,412000,413000,414000,415000,416000,417000,418000,419000,420000,421000,422000,423000,424000,425000,426000,427000,428000,429000,430000,431000,432000,433000,434000,435000,436000,437000,438000,439000,440000,441000,442000,443000,444000,445000,446000,447000,448000,449000,450000,451000,452000,453000,454000,455000,456000,457000,458000,459000,460000,461000,462000,463000,464000,465000,466000,467000,468000,469000,470000,471000,472000,473000,474000,475000,476000,477000,478000,479000,480000,481000,482000,483000,484000,485000,486000,487000,488000,489000,490000,491000,492000,493000,494000,495000,496000,497000,498000,499000,500000,501000,502000,503000,504000,505000,506000,507000,508000,509000,510000,511000,512000,513000,514000,515000,516000,517000,518000,519000,520000,521000,522000,523000,524000,525000,526000,527000,528000,529000,530000,531000,532000,533000,534000,535000,536000,537000,538000,539000,540000,541000,542000,543000,544000,545000,546000,547000,548000,549000,550000,551000,552000,553000,554000,555000,556000,557000,558000,559000,560000,561000,562000,563000,564000,565000,566000,567000,568000,569000,570000,571000,572000,573000,574000,575000,576000,577000,578000,579000,580000,581000,582000,583000,584000,585000,586000,587000,588000,589000,590000,591000,592000,593000,594000,595000,596000,597000,598000,599000,600000,601000,602000,603000,604000,605000,606000,607000,608000,609000,610000,611000,612000,613000,614000,615000,616000,617000,618000,619000,620000,621000,622000,623000,624000,625000,626000,627000,628000,629000,630000,631000,632000,633000,634000,635000,636000,637000,638000,639000,640000,641000,642000,643000,644000,645000,646000,647000,648000,649000,650000,651000,652000,653000,654000,655000,656000,657000,658000,659000,660000,661000,662000,663000,664000,665000,666000,667000,668000,669000,670000,671000,672000,673000,674000,675000,676000,677000,678000,679000,680000,681000,682000,683000,684000,685000,686000,687000,688000,689000,690000,691000,692000,693000,694000,695000,696000,697000,698000,699000,700000,701000,702000,703000,704000,705000,706000,707000,708000,709000,710000,711000,712000,713000,714000,715000,716000,717000,718000,719000,720000,721000,722000,723000,724000,725000,726000,727000,728000,729000,730000,731000,732000,733000,734000,735000,736000,737000,738000,739000,740000,741000,742000,743000,744000,745000,746000,747000,748000,749000,750000,751000,752000,753000,754000,755000,756000,757000,758000,759000,760000,761000,762000,763000,764000,765000,766000,767000,768000,769000,770000,771000,772000,773000,774000,775000,776000,777000,778000,779000,780000,781000,782000,783000,784000,785000,786000,787000,788000,789000,790000,791000,792000,793000,794000,795000,796000,797000,798000,799000,800000],\"y\":{\"__ndarray__\":\"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\",\"dtype\":\"float64\",\"shape\":[800]}}},\"id\":\"145426b5-2dc0-4353-815d-693b89c255d8\",\"type\":\"ColumnDataSource\"},{\"attributes\":{\"callback\":null,\"column_names\":[\"x\",\"y\"],\"data\":{\"x\":[0,1000,2000,3000,4000,5000,6000,7000,8000,9000,10000,11000,12000,13000,14000,15000,16000,17000,18000,19000,20000,21000,22000,23000,24000,25000,26000,27000,28000,29000,30000,31000,32000,33000,34000,35000,36000,37000,38000,39000,40000,41000,42000,43000,44000,45000,46000,47000,48000,49000,50000,51000,52000,53000,54000,55000,56000,57000,58000,59000,60000,61000,62000,63000,64000,65000,66000,67000,68000,69000,70000,71000,72000,73000,74000,75000,76000,77000,78000,79000,80000,81000,82000,83000,84000,85000,86000,87000,88000,89000,90000,91000,92000,93000,94000,95000,96000,97000,98000,99000,100000,101000,102000,103000,104000,105000,106000,107000,108000,109000,110000,111000,112000,113000,114000,115000,116000,117000,118000,119000,120000,121000,122000,123000,124000,125000,126000,127000,128000,129000,130000,131000,132000,133000,134000,135000,136000,137000,138000,139000,140000,141000,142000,143000,144000,145000,146000,147000,148000,149000,150000,151000,152000,153000,154000,155000,156000,157000,158000,159000,160000,161000,162000,163000,164000,165000,166000,167000,168000,169000,170000,171000,172000,173000,174000,175000,176000,177000,178000,179000,180000,181000,182000,183000,184000,185000,186000,187000,188000,189000,190000,191000,192000,193000,194000,195000,196000,197000,198000,199000,200000,201000,202000,203000,204000,205000,206000,207000,208000,209000,210000,211000,212000,213000,214000,215000,216000,217000,218000,219000,220000,221000,222000,223000,224000,225000,226000,227000,228000,229000,230000,231000,232000,233000,234000,235000,236000,237000,238000,239000,240000,241000,242000,243000,244000,245000,246000,247000,248000,249000,250000,251000,252000,253000,254000,255000,256000,257000,258000,259000,260000,261000,262000,263000,264000,265000,266000,267000,268000,269000,270000,271000,272000,273000,274000,275000,276000,277000,278000,279000,280000,281000,282000,283000,284000,285000,286000,287000,288000,289000,290000,291000,292000,293000,294000,295000,296000,297000,298000,299000,300000,301000,302000,303000,304000,305000,306000,307000,308000,309000,310000,311000,312000,313000,314000,315000,316000,317000,318000,319000,320000,321000,322000,323000,324000,325000,326000,327000,328000,329000,330000,331000,332000,333000,334000,335000,336000,337000,338000,339000,340000,341000,342000,343000,344000,345000,346000,347000,348000,349000,350000,351000,352000,353000,354000,355000,356000,357000,358000,359000,360000,361000,362000,363000,364000,365000,366000,367000,368000,369000,370000,371000,372000,373000,374000,375000,376000,377000,378000,379000,380000,381000,382000,383000,384000,385000,386000,387000,388000,389000,390000,391000,392000,393000,394000,395000,396000,397000,398000,399000,400000,401000,402000,403000,404000,405000,406000,407000,408000,409000,410000,411000,412000,413000,414000,415000,416000,417000,418000,419000,420000,421000,422000,423000,424000,425000,426000,427000,428000,429000,430000,431000,432000,433000,434000,435000,436000,437000,438000,439000,440000,441000,442000,443000,444000,445000,446000,447000,448000,449000,450000,451000,452000,453000,454000,455000,456000,457000,458000,459000,460000,461000,462000,463000,464000,465000,466000,467000,468000,469000,470000,471000,472000,473000,474000,475000,476000,477000,478000,479000,480000,481000,482000,483000,484000,485000,486000,487000,488000,489000,490000,491000,492000,493000,494000,495000,496000,497000,498000,499000,500000,501000,502000,503000,504000,505000,506000,507000,508000,509000,510000,511000,512000,513000,514000,515000,516000,517000,518000,519000,520000,521000,522000,523000,524000,525000,526000,527000,528000,529000,530000,531000,532000,533000,534000,535000,536000,537000,538000,539000,540000,541000,542000,543000,544000,545000,546000,547000,548000,549000,550000,551000,552000,553000,554000,555000,556000,557000,558000,559000,560000,561000,562000,563000,564000,565000,566000,567000,568000,569000,570000,571000,572000,573000,574000,575000,576000,577000,578000,579000,580000,581000,582000,583000,584000,585000,586000,587000,588000,589000,590000,591000,592000,593000,594000,595000,596000,597000,598000,599000,600000,601000,602000,603000,604000,605000,606000,607000,608000,609000,610000,611000,612000,613000,614000,615000,616000,617000,618000,619000,620000,621000,622000,623000,624000,625000,626000,627000,628000,629000,630000,631000,632000,633000,634000,635000,636000,637000,638000,639000,640000,641000,642000,643000,644000,645000,646000,647000,648000,649000,650000,651000,652000,653000,654000,655000,656000,657000,658000,659000,660000,661000,662000,663000,664000,665000,666000,667000,668000,669000,670000,671000,672000,673000,674000,675000,676000,677000,678000,679000,680000,681000,682000,683000,684000,685000,686000,687000,688000,689000,690000,691000,692000,693000,694000,695000,696000,697000,698000,699000,700000,701000,702000,703000,704000,705000,706000,707000,708000,709000,710000,711000,712000,713000,714000,715000,716000,717000,718000,719000,720000,721000,722000,723000,724000,725000,726000,727000,728000,729000,730000,731000,732000,733000,734000,735000,736000,737000,738000,739000,740000,741000,742000,743000,744000,745000,746000,747000,748000,749000,750000,751000,752000,753000,754000,755000,756000,757000,758000,759000,760000,761000,762000,763000,764000,765000,766000,767000,768000,769000,770000,771000,772000,773000,774000,775000,776000,777000,778000,779000,780000,781000,782000,783000,784000,785000,786000,787000,788000,789000,790000,791000,792000,793000,794000,795000,796000,797000,798000,799000,800000],\"y\":{\"__ndarray__\":\"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\",\"dtype\":\"float64\",\"shape\":[800]}}},\"id\":\"66b06a5d-4044-4f05-8cfc-0351b29cb00e\",\"type\":\"ColumnDataSource\"},{\"attributes\":{},\"id\":\"6627f557-0063-4a37-84dc-faf957ad541a\",\"type\":\"BasicTickFormatter\"},{\"attributes\":{\"fill_alpha\":{\"value\":0.1},\"fill_color\":{\"value\":\"#1f77b4\"},\"line_alpha\":{\"value\":0.1},\"line_color\":{\"value\":\"#1f77b4\"},\"x\":{\"field\":\"x\"},\"y\":{\"field\":\"y\"}},\"id\":\"eec495b0-19d2-47af-acfd-9a8e0152e39e\",\"type\":\"Patch\"},{\"attributes\":{\"data_source\":{\"id\":\"676205b4-8a71-4da3-9195-9c0ce0b8bf98\",\"type\":\"ColumnDataSource\"},\"glyph\":{\"id\":\"767cc739-9e85-4fe1-9ba0-33a1aeecc1b8\",\"type\":\"Patch\"},\"hover_glyph\":null,\"nonselection_glyph\":{\"id\":\"eec495b0-19d2-47af-acfd-9a8e0152e39e\",\"type\":\"Patch\"},\"selection_glyph\":null},\"id\":\"6328926f-8189-449a-ab55-6d6dfa0be929\",\"type\":\"GlyphRenderer\"},{\"attributes\":{\"line_color\":{\"value\":\"#e41a1c\"},\"line_width\":{\"value\":2},\"x\":{\"field\":\"x\"},\"y\":{\"field\":\"y\"}},\"id\":\"dc241ba6-be8a-4b9f-b9d3-b89c8c8753a5\",\"type\":\"Line\"},{\"attributes\":{\"line_alpha\":{\"value\":0.1},\"line_color\":{\"value\":\"#1f77b4\"},\"line_width\":{\"value\":2},\"x\":{\"field\":\"x\"},\"y\":{\"field\":\"y\"}},\"id\":\"69c5af45-e368-4865-ab64-2cd87568a025\",\"type\":\"Line\"},{\"attributes\":{\"data_source\":{\"id\":\"145426b5-2dc0-4353-815d-693b89c255d8\",\"type\":\"ColumnDataSource\"},\"glyph\":{\"id\":\"dc241ba6-be8a-4b9f-b9d3-b89c8c8753a5\",\"type\":\"Line\"},\"hover_glyph\":null,\"nonselection_glyph\":{\"id\":\"69c5af45-e368-4865-ab64-2cd87568a025\",\"type\":\"Line\"},\"selection_glyph\":null},\"id\":\"68505bed-8da8-42b1-8cac-276d5b547cc0\",\"type\":\"GlyphRenderer\"},{\"attributes\":{\"line_color\":{\"value\":\"#377eb8\"},\"line_width\":{\"value\":2},\"x\":{\"field\":\"x\"},\"y\":{\"field\":\"y\"}},\"id\":\"454da03a-faa1-42aa-9cfe-1a038ee09f24\",\"type\":\"Line\"},{\"attributes\":{\"data_source\":{\"id\":\"966d1db6-3bce-4f13-8b3d-b4e51477e114\",\"type\":\"ColumnDataSource\"},\"glyph\":{\"id\":\"51676487-592e-4a5c-8564-c8e8a2e69ad8\",\"type\":\"Patch\"},\"hover_glyph\":null,\"nonselection_glyph\":{\"id\":\"d765a8f5-7c22-4fe7-8938-9f24fbd5ecdc\",\"type\":\"Patch\"},\"selection_glyph\":null},\"id\":\"dea00249-01c1-49a9-ba1c-ac8d9449bbaf\",\"type\":\"GlyphRenderer\"},{\"attributes\":{\"fill_alpha\":{\"value\":0.1},\"fill_color\":{\"value\":\"#4daf4a\"},\"line_alpha\":{\"value\":0.1},\"line_color\":{\"value\":\"#4daf4a\"},\"x\":{\"field\":\"x\"},\"y\":{\"field\":\"y\"}},\"id\":\"8f512944-8aef-419a-ab90-e40ce72b26c5\",\"type\":\"Patch\"},{\"attributes\":{\"fill_alpha\":{\"value\":0.1},\"fill_color\":{\"value\":\"#1f77b4\"},\"line_alpha\":{\"value\":0.1},\"line_color\":{\"value\":\"#1f77b4\"},\"x\":{\"field\":\"x\"},\"y\":{\"field\":\"y\"}},\"id\":\"dd495813-15c8-48ce-8d9c-2b56826174e9\",\"type\":\"Patch\"},{\"attributes\":{\"callback\":null,\"column_names\":[\"x\",\"y\"],\"data\":{\"x\":[0,1000,2000,3000,4000,5000,6000,7000,8000,9000,10000,11000,12000,13000,14000,15000,16000,17000,18000,19000,20000,21000,22000,23000,24000,25000,26000,27000,28000,29000,30000,31000,32000,33000,34000,35000,36000,37000,38000,39000,40000,41000,42000,43000,44000,45000,46000,47000,48000,49000,50000,51000,52000,53000,54000,55000,56000,57000,58000,59000,60000,61000,62000,63000,64000,65000,66000,67000,68000,69000,70000,71000,72000,73000,74000,75000,76000,77000,78000,79000,80000,81000,82000,83000,84000,85000,86000,87000,88000,89000,90000,91000,92000,93000,94000,95000,96000,97000,98000,99000,100000,101000,102000,103000,104000,105000,106000,107000,108000,109000,110000,111000,112000,113000,114000,115000,116000,117000,118000,119000,120000,121000,122000,123000,124000,125000,126000,127000,128000,129000,130000,131000,132000,133000,134000,135000,136000,137000,138000,139000,140000,141000,142000,143000,144000,145000,146000,147000,148000,149000,150000,151000,152000,153000,154000,155000,156000,157000,158000,159000,160000,161000,162000,163000,164000,165000,166000,167000,168000,169000,170000,171000,172000,173000,174000,175000,176000,177000,178000,179000,180000,181000,182000,183000,184000,185000,186000,187000,188000,189000,190000,191000,192000,193000,194000,195000,196000,197000,198000,199000,200000,201000,202000,203000,204000,205000,206000,207000,208000,209000,210000,211000,212000,213000,214000,215000,216000,217000,218000,219000,220000,221000,222000,223000,224000,225000,226000,227000,228000,229000,230000,231000,232000,233000,234000,235000,236000,237000,238000,239000,240000,241000,242000,243000,244000,245000,246000,247000,248000,249000,250000,251000,252000,253000,254000,255000,256000,257000,258000,259000,260000,261000,262000,263000,264000,265000,266000,267000,268000,269000,270000,271000,272000,273000,274000,275000,276000,277000,278000,279000,280000,281000,282000,283000,284000,285000,286000,287000,288000,289000,290000,291000,292000,293000,294000,295000,296000,297000,298000,299000,300000,301000,302000,303000,304000,305000,306000,307000,308000,309000,310000,311000,312000,313000,314000,315000,316000,317000,318000,319000,320000,321000,322000,323000,324000,325000,326000,327000,328000,329000,330000,331000,332000,333000,334000,335000,336000,337000,338000,339000,340000,341000,342000,343000,344000,345000,346000,347000,348000,349000,350000,351000,352000,353000,354000,355000,356000,357000,358000,359000,360000,361000,362000,363000,364000,365000,366000,367000,368000,369000,370000,371000,372000,373000,374000,375000,376000,377000,378000,379000,380000,381000,382000,383000,384000,385000,386000,387000,388000,389000,390000,391000,392000,393000,394000,395000,396000,397000,398000,399000,400000,401000,402000,403000,404000,405000,406000,407000,408000,409000,410000,411000,412000,413000,414000,415000,416000,417000,418000,419000,420000,421000,422000,423000,424000,425000,426000,427000,428000,429000,430000,431000,432000,433000,434000,435000,436000,437000,438000,439000,440000,441000,442000,443000,444000,445000,446000,447000,448000,449000,450000,451000,452000,453000,454000,455000,456000,457000,458000,459000,460000,461000,462000,463000,464000,465000,466000,467000,468000,469000,470000,471000,472000,473000,474000,475000,476000,477000,478000,479000,480000,481000,482000,483000,484000,485000,486000,487000,488000,489000,490000,491000,492000,493000,494000,495000,496000,497000,498000,499000,500000,501000,502000,503000,504000,505000,506000,507000,508000,509000,510000,511000,512000,513000,514000,515000,516000,517000,518000,519000,520000,521000,522000,523000,524000,525000,526000,527000,528000,529000,530000,531000,532000,533000,534000,535000,536000,537000,538000,539000,540000,541000,542000,543000,544000,545000,546000,547000,548000,549000,550000,551000,552000,553000,554000,555000,556000,557000,558000,559000,560000,561000,562000,563000,564000,565000,566000,567000,568000,569000,570000,571000,572000,573000,574000,575000,576000,577000,578000,579000,580000,581000,582000,583000,584000,585000,586000,587000,588000,589000,590000,591000,592000,593000,594000,595000,596000,597000,598000,599000,600000,601000,602000,603000,604000,605000,606000,607000,608000,609000,610000,611000,612000,613000,614000,615000,616000,617000,618000,619000,620000,621000,622000,623000,624000,625000,626000,627000,628000,629000,630000,631000,632000,633000,634000,635000,636000,637000,638000,639000,640000,641000,642000,643000,644000,645000,646000,647000,648000,649000,650000,651000,652000,653000,654000,655000,656000,657000,658000,659000,660000,661000,662000,663000,664000,665000,666000,667000,668000,669000,670000,671000,672000,673000,674000,675000,676000,677000,678000,679000,680000,681000,682000,683000,684000,685000,686000,687000,688000,689000,690000,691000,692000,693000,694000,695000,696000,697000,698000,699000,700000,701000,702000,703000,704000,705000,706000,707000,708000,709000,710000,711000,712000,713000,714000,715000,716000,717000,718000,719000,720000,721000,722000,723000,724000,725000,726000,727000,728000,729000,730000,731000,732000,733000,734000,735000,736000,737000,738000,739000,740000,741000,742000,743000,744000,745000,746000,747000,748000,749000,750000,751000,752000,753000,754000,755000,756000,757000,758000,759000,760000,761000,762000,763000,764000,765000,766000,767000,768000,769000,770000,771000,772000,773000,774000,775000,776000,777000,778000,779000,780000,781000,782000,783000,784000,785000,786000,787000,788000,789000,790000,791000,792000,793000,794000,795000,796000,797000,798000,799000,800000],\"y\":{\"__ndarray__\":\"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\",\"dtype\":\"float64\",\"shape\":[800]}}},\"id\":\"5c307e71-2d54-4fa9-92ac-ba05f733fded\",\"type\":\"ColumnDataSource\"},{\"attributes\":{\"plot\":{\"id\":\"e953c853-ea47-491c-916a-a205dfdf970c\",\"subtype\":\"Figure\",\"type\":\"Plot\"}},\"id\":\"b6445051-fa56-492a-8d58-784af16eee27\",\"type\":\"ResetTool\"},{\"attributes\":{\"dimension\":1,\"plot\":{\"id\":\"e953c853-ea47-491c-916a-a205dfdf970c\",\"subtype\":\"Figure\",\"type\":\"Plot\"},\"ticker\":{\"id\":\"6a3695ab-3d6f-4686-9911-c33af8ab183a\",\"type\":\"BasicTicker\"}},\"id\":\"12ddd260-0a1e-4609-9b85-b7e523f6a311\",\"type\":\"Grid\"},{\"attributes\":{},\"id\":\"cd1439da-34af-44fb-854a-3fe58cc87743\",\"type\":\"BasicTicker\"},{\"attributes\":{\"line_alpha\":{\"value\":0.1},\"line_color\":{\"value\":\"#1f77b4\"},\"line_width\":{\"value\":2},\"x\":{\"field\":\"x\"},\"y\":{\"field\":\"y\"}},\"id\":\"4fc52254-f8a1-4cac-a2a1-b426c1558271\",\"type\":\"Line\"},{\"attributes\":{\"data_source\":{\"id\":\"5c307e71-2d54-4fa9-92ac-ba05f733fded\",\"type\":\"ColumnDataSource\"},\"glyph\":{\"id\":\"454da03a-faa1-42aa-9cfe-1a038ee09f24\",\"type\":\"Line\"},\"hover_glyph\":null,\"nonselection_glyph\":{\"id\":\"4fc52254-f8a1-4cac-a2a1-b426c1558271\",\"type\":\"Line\"},\"selection_glyph\":null},\"id\":\"5abf5e84-b46a-4fee-8fb5-3991bf5b1178\",\"type\":\"GlyphRenderer\"},{\"attributes\":{\"plot\":{\"id\":\"e953c853-ea47-491c-916a-a205dfdf970c\",\"subtype\":\"Figure\",\"type\":\"Plot\"}},\"id\":\"4bc672dc-189d-4b13-95a5-81d45f80017d\",\"type\":\"WheelZoomTool\"},{\"attributes\":{\"line_color\":{\"value\":\"#4daf4a\"},\"line_width\":{\"value\":2},\"x\":{\"field\":\"x\"},\"y\":{\"field\":\"y\"}},\"id\":\"4e7541b5-e104-4656-813e-82956eed705e\",\"type\":\"Line\"},{\"attributes\":{\"callback\":null,\"column_names\":[\"x\",\"y\"],\"data\":{\"x\":[0,1000,2000,3000,4000,5000,6000,7000,8000,9000,10000,11000,12000,13000,14000,15000,16000,17000,18000,19000,20000,21000,22000,23000,24000,25000,26000,27000,28000,29000,30000,31000,32000,33000,34000,35000,36000,37000,38000,39000,40000,41000,42000,43000,44000,45000,46000,47000,48000,49000,50000,51000,52000,53000,54000,55000,56000,57000,58000,59000,60000,61000,62000,63000,64000,65000,66000,67000,68000,69000,70000,71000,72000,73000,74000,75000,76000,77000,78000,79000,80000,81000,82000,83000,84000,85000,86000,87000,88000,89000,90000,91000,92000,93000,94000,95000,96000,97000,98000,99000,100000,101000,102000,103000,104000,105000,106000,107000,108000,109000,110000,111000,112000,113000,114000,115000,116000,117000,118000,119000,120000,121000,122000,123000,124000,125000,126000,127000,128000,129000,130000,131000,132000,133000,134000,135000,136000,137000,138000,139000,140000,141000,142000,143000,144000,145000,146000,147000,148000,149000,150000,151000,152000,153000,154000,155000,156000,157000,158000,159000,160000,161000,162000,163000,164000,165000,166000,167000,168000,169000,170000,171000,172000,173000,174000,175000,176000,177000,178000,179000,180000,181000,182000,183000,184000,185000,186000,187000,188000,189000,190000,191000,192000,193000,194000,195000,196000,197000,198000,199000,200000,201000,202000,203000,204000,205000,206000,207000,208000,209000,210000,211000,212000,213000,214000,215000,216000,217000,218000,219000,220000,221000,222000,223000,224000,225000,226000,227000,228000,229000,230000,231000,232000,233000,234000,235000,236000,237000,238000,239000,240000,241000,242000,243000,244000,245000,246000,247000,248000,249000,250000,251000,252000,253000,254000,255000,256000,257000,258000,259000,260000,261000,262000,263000,264000,265000,266000,267000,268000,269000,270000,271000,272000,273000,274000,275000,276000,277000,278000,279000,280000,281000,282000,283000,284000,285000,286000,287000,288000,289000,290000,291000,292000,293000,294000,295000,296000,297000,298000,299000,300000,301000,302000,303000,304000,305000,306000,307000,308000,309000,310000,311000,312000,313000,314000,315000,316000,317000,318000,319000,320000,321000,322000,323000,324000,325000,326000,327000,328000,329000,330000,331000,332000,333000,334000,335000,336000,337000,338000,339000,340000,341000,342000,343000,344000,345000,346000,347000,348000,349000,350000,351000,352000,353000,354000,355000,356000,357000,358000,359000,360000,361000,362000,363000,364000,365000,366000,367000,368000,369000,370000,371000,372000,373000,374000,375000,376000,377000,378000,379000,380000,381000,382000,383000,384000,385000,386000,387000,388000,389000,390000,391000,392000,393000,394000,395000,396000,397000,398000,399000,400000,401000,402000,403000,404000,405000,406000,407000,408000,409000,410000,411000,412000,413000,414000,415000,416000,417000,418000,419000,420000,421000,422000,423000,424000,425000,426000,427000,428000,429000,430000,431000,432000,433000,434000,435000,436000,437000,438000,439000,440000,441000,442000,443000,444000,445000,446000,447000,448000,449000,450000,451000,452000,453000,454000,455000,456000,457000,458000,459000,460000,461000,462000,463000,464000,465000,466000,467000,468000,469000,470000,471000,472000,473000,474000,475000,476000,477000,478000,479000,480000,481000,482000,483000,484000,485000,486000,487000,488000,489000,490000,491000,492000,493000,494000,495000,496000,497000,498000,499000,500000,501000,502000,503000,504000,505000,506000,507000,508000,509000,510000,511000,512000,513000,514000,515000,516000,517000,518000,519000,520000,521000,522000,523000,524000,525000,526000,527000,528000,529000,530000,531000,532000,533000,534000,535000,536000,537000,538000,539000,540000,541000,542000,543000,544000,545000,546000,547000,548000,549000,550000,551000,552000,553000,554000,555000,556000,557000,558000,559000,560000,561000,562000,563000,564000,565000,566000,567000,568000,569000,570000,571000,572000,573000,574000,575000,576000,577000,578000,579000,580000,581000,582000,583000,584000,585000,586000,587000,588000,589000,590000,591000,592000,593000,594000,595000,596000,597000,598000,599000,600000,601000,602000,603000,604000,605000,606000,607000,608000,609000,610000,611000,612000,613000,614000,615000,616000,617000,618000,619000,620000,621000,622000,623000,624000,625000,626000,627000,628000,629000,630000,631000,632000,633000,634000,635000,636000,637000,638000,639000,640000,641000,642000,643000,644000,645000,646000,647000,648000,649000,650000,651000,652000,653000,654000,655000,656000,657000,658000,659000,660000,661000,662000,663000,664000,665000,666000,667000,668000,669000,670000,671000,672000,673000,674000,675000,676000,677000,678000,679000,680000,681000,682000,683000,684000,685000,686000,687000,688000,689000,690000,691000,692000,693000,694000,695000,696000,697000,698000,699000,700000,701000,702000,703000,704000,705000,706000,707000,708000,709000,710000,711000,712000,713000,714000,715000,716000,717000,718000,719000,720000,721000,722000,723000,724000,725000,726000,727000,728000,729000,730000,731000,732000,733000,734000,735000,736000,737000,738000,739000,740000,741000,742000,743000,744000,745000,746000,747000,748000,749000,750000,751000,752000,753000,754000,755000,756000,757000,758000,759000,760000,761000,762000,763000,764000,765000,766000,767000,768000,769000,770000,771000,772000,773000,774000,775000,776000,777000,778000,779000,780000,781000,782000,783000,784000,785000,786000,787000,788000,789000,790000,791000,792000,793000,794000,795000,796000,797000,798000,799000,800000,800000,799000,798000,797000,796000,795000,794000,793000,792000,791000,790000,789000,788000,787000,786000,785000,784000,783000,782000,781000,780000,779000,778000,777000,776000,775000,774000,773000,772000,771000,770000,769000,768000,767000,766000,765000,764000,763000,762000,761000,760000,759000,758000,757000,756000,755000,754000,753000,752000,751000,750000,749000,748000,747000,746000,745000,744000,743000,742000,741000,740000,739000,738000,737000,736000,735000,734000,733000,732000,731000,730000,729000,728000,727000,726000,725000,724000,723000,722000,721000,720000,719000,718000,717000,716000,715000,714000,713000,712000,711000,710000,709000,708000,707000,706000,705000,704000,703000,702000,701000,700000,699000,698000,697000,696000,695000,694000,693000,692000,691000,690000,689000,688000,687000,686000,685000,684000,683000,682000,681000,680000,679000,678000,677000,676000,675000,674000,673000,672000,671000,670000,669000,668000,667000,666000,665000,664000,663000,662000,661000,660000,659000,658000,657000,656000,655000,654000,653000,652000,651000,650000,649000,648000,647000,646000,645000,644000,643000,642000,641000,640000,639000,638000,637000,636000,635000,634000,633000,632000,631000,630000,629000,628000,627000,626000,625000,624000,623000,622000,621000,620000,619000,618000,617000,616000,615000,614000,613000,612000,611000,610000,609000,608000,607000,606000,605000,604000,603000,602000,601000,600000,599000,598000,597000,596000,595000,594000,593000,592000,591000,590000,589000,588000,587000,586000,585000,584000,583000,582000,581000,580000,579000,578000,577000,576000,575000,574000,573000,572000,571000,570000,569000,568000,567000,566000,565000,564000,563000,562000,561000,560000,559000,558000,557000,556000,555000,554000,553000,552000,551000,550000,549000,548000,547000,546000,545000,544000,543000,542000,541000,540000,539000,538000,537000,536000,535000,534000,533000,532000,531000,530000,529000,528000,527000,526000,525000,524000,523000,522000,521000,520000,519000,518000,517000,516000,515000,514000,513000,512000,511000,510000,509000,508000,507000,506000,505000,504000,503000,502000,501000,500000,499000,498000,497000,496000,495000,494000,493000,492000,491000,490000,489000,488000,487000,486000,485000,484000,483000,482000,481000,480000,479000,478000,477000,476000,475000,474000,473000,472000,471000,470000,469000,468000,467000,466000,465000,464000,463000,462000,461000,460000,459000,458000,457000,456000,455000,454000,453000,452000,451000,450000,449000,448000,447000,446000,445000,444000,443000,442000,441000,440000,439000,438000,437000,436000,435000,434000,433000,432000,431000,430000,429000,428000,427000,426000,425000,424000,423000,422000,421000,420000,419000,418000,417000,416000,415000,414000,413000,412000,411000,410000,409000,408000,407000,406000,405000,404000,403000,402000,401000,400000,399000,398000,397000,396000,395000,394000,393000,392000,391000,390000,389000,388000,387000,386000,385000,384000,383000,382000,381000,380000,379000,378000,377000,376000,375000,374000,373000,372000,371000,370000,369000,368000,367000,366000,365000,364000,363000,362000,361000,360000,359000,358000,357000,356000,355000,354000,353000,352000,351000,350000,349000,348000,347000,346000,345000,344000,343000,342000,341000,340000,339000,338000,337000,336000,335000,334000,333000,332000,331000,330000,329000,328000,327000,326000,325000,324000,323000,322000,321000,320000,319000,318000,317000,316000,315000,314000,313000,312000,311000,310000,309000,308000,307000,306000,305000,304000,303000,302000,301000,300000,299000,298000,297000,296000,295000,294000,293000,292000,291000,290000,289000,288000,287000,286000,285000,284000,283000,282000,281000,280000,279000,278000,277000,276000,275000,274000,273000,272000,271000,270000,269000,268000,267000,266000,265000,264000,263000,262000,261000,260000,259000,258000,257000,256000,255000,254000,253000,252000,251000,250000,249000,248000,247000,246000,245000,244000,243000,242000,241000,240000,239000,238000,237000,236000,235000,234000,233000,232000,231000,230000,229000,228000,227000,226000,225000,224000,223000,222000,221000,220000,219000,218000,217000,216000,215000,214000,213000,212000,211000,210000,209000,208000,207000,206000,205000,204000,203000,202000,201000,200000,199000,198000,197000,196000,195000,194000,193000,192000,191000,190000,189000,188000,187000,186000,185000,184000,183000,182000,181000,180000,179000,178000,177000,176000,175000,174000,173000,172000,171000,170000,169000,168000,167000,166000,165000,164000,163000,162000,161000,160000,159000,158000,157000,156000,155000,154000,153000,152000,151000,150000,149000,148000,147000,146000,145000,144000,143000,142000,141000,140000,139000,138000,137000,136000,135000,134000,133000,132000,131000,130000,129000,128000,127000,126000,125000,124000,123000,122000,121000,120000,119000,118000,117000,116000,115000,114000,113000,112000,111000,110000,109000,108000,107000,106000,105000,104000,103000,102000,101000,100000,99000,98000,97000,96000,95000,94000,93000,92000,91000,90000,89000,88000,87000,86000,85000,84000,83000,82000,81000,80000,79000,78000,77000,76000,75000,74000,73000,72000,71000,70000,69000,68000,67000,66000,65000,64000,63000,62000,61000,60000,59000,58000,57000,56000,55000,54000,53000,52000,51000,50000,49000,48000,47000,46000,45000,44000,43000,42000,41000,40000,39000,38000,37000,36000,35000,34000,33000,32000,31000,30000,29000,28000,27000,26000,25000,24000,23000,22000,21000,20000,19000,18000,17000,16000,15000,14000,13000,12000,11000,10000,9000,8000,7000,6000,5000,4000,3000,2000,1000,0],\"y\":{\"__ndarray__\":\"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\",\"dtype\":\"float64\",\"shape\":[1600]}}},\"id\":\"9cff46bb-dfbe-403c-9969-864a829391f8\",\"type\":\"ColumnDataSource\"},{\"attributes\":{\"plot\":{\"id\":\"e953c853-ea47-491c-916a-a205dfdf970c\",\"subtype\":\"Figure\",\"type\":\"Plot\"}},\"id\":\"86da8960-ca85-474d-bb00-4e7ed21f0e9a\",\"type\":\"PanTool\"},{\"attributes\":{\"use_scientific\":false},\"id\":\"0ef60986-f62d-49df-82c0-5746caa3d6bc\",\"type\":\"BasicTickFormatter\"},{\"attributes\":{\"data_source\":{\"id\":\"9cff46bb-dfbe-403c-9969-864a829391f8\",\"type\":\"ColumnDataSource\"},\"glyph\":{\"id\":\"8f512944-8aef-419a-ab90-e40ce72b26c5\",\"type\":\"Patch\"},\"hover_glyph\":null,\"nonselection_glyph\":{\"id\":\"dd495813-15c8-48ce-8d9c-2b56826174e9\",\"type\":\"Patch\"},\"selection_glyph\":null},\"id\":\"70126743-7c22-4e61-8c55-a9b3875c16df\",\"type\":\"GlyphRenderer\"},{\"attributes\":{},\"id\":\"145f152d-16d3-42e1-96c5-d8aab9ffa162\",\"type\":\"ToolEvents\"},{\"attributes\":{\"active_drag\":\"auto\",\"active_scroll\":\"auto\",\"active_tap\":\"auto\",\"tools\":[{\"id\":\"86da8960-ca85-474d-bb00-4e7ed21f0e9a\",\"type\":\"PanTool\"},{\"id\":\"4bc672dc-189d-4b13-95a5-81d45f80017d\",\"type\":\"WheelZoomTool\"},{\"id\":\"d2c46e04-b1a0-4f46-8494-0a2595fcd472\",\"type\":\"BoxZoomTool\"},{\"id\":\"7e90d462-3754-49b5-b3cc-882c2aaa0abb\",\"type\":\"SaveTool\"},{\"id\":\"b6445051-fa56-492a-8d58-784af16eee27\",\"type\":\"ResetTool\"},{\"id\":\"cfd62bc3-61ed-4ef1-aa1b-ba2e6fd204ec\",\"type\":\"HelpTool\"}]},\"id\":\"60048b03-fcf6-41fc-844f-27c4b68b592f\",\"type\":\"Toolbar\"},{\"attributes\":{\"line_alpha\":{\"value\":0.1},\"line_color\":{\"value\":\"#1f77b4\"},\"line_width\":{\"value\":2},\"x\":{\"field\":\"x\"},\"y\":{\"field\":\"y\"}},\"id\":\"4f7b9e57-63ca-42dc-8ab7-04adf07a24b1\",\"type\":\"Line\"},{\"attributes\":{\"plot\":{\"id\":\"e953c853-ea47-491c-916a-a205dfdf970c\",\"subtype\":\"Figure\",\"type\":\"Plot\"}},\"id\":\"7e90d462-3754-49b5-b3cc-882c2aaa0abb\",\"type\":\"SaveTool\"},{\"attributes\":{\"label\":{\"value\":\"Uniform\"},\"renderers\":[{\"id\":\"68505bed-8da8-42b1-8cac-276d5b547cc0\",\"type\":\"GlyphRenderer\"}]},\"id\":\"eeb4900c-2fa7-4f45-896f-6114cbcbba65\",\"type\":\"LegendItem\"},{\"attributes\":{\"data_source\":{\"id\":\"66b06a5d-4044-4f05-8cfc-0351b29cb00e\",\"type\":\"ColumnDataSource\"},\"glyph\":{\"id\":\"4e7541b5-e104-4656-813e-82956eed705e\",\"type\":\"Line\"},\"hover_glyph\":null,\"nonselection_glyph\":{\"id\":\"4f7b9e57-63ca-42dc-8ab7-04adf07a24b1\",\"type\":\"Line\"},\"selection_glyph\":null},\"id\":\"a3f52fc5-3fc6-4c7d-84d6-504d9353c5f9\",\"type\":\"GlyphRenderer\"},{\"attributes\":{\"items\":[{\"id\":\"eeb4900c-2fa7-4f45-896f-6114cbcbba65\",\"type\":\"LegendItem\"},{\"id\":\"724d4ef7-f6de-46ad-a16e-35e0cd36b64d\",\"type\":\"LegendItem\"},{\"id\":\"f65e0213-ad19-4001-b055-ddbb83f819b7\",\"type\":\"LegendItem\"}],\"location\":[0,-30],\"plot\":{\"id\":\"e953c853-ea47-491c-916a-a205dfdf970c\",\"subtype\":\"Figure\",\"type\":\"Plot\"}},\"id\":\"dfee1be1-fb48-41e0-8a79-848f69d0260f\",\"type\":\"Legend\"},{\"attributes\":{\"fill_alpha\":{\"value\":0.1},\"fill_color\":{\"value\":\"#377eb8\"},\"line_alpha\":{\"value\":0.1},\"line_color\":{\"value\":\"#377eb8\"},\"x\":{\"field\":\"x\"},\"y\":{\"field\":\"y\"}},\"id\":\"767cc739-9e85-4fe1-9ba0-33a1aeecc1b8\",\"type\":\"Patch\"},{\"attributes\":{\"label\":{\"value\":\"Prioritised minus pseudo rewards IS\"},\"renderers\":[{\"id\":\"5abf5e84-b46a-4fee-8fb5-3991bf5b1178\",\"type\":\"GlyphRenderer\"}]},\"id\":\"724d4ef7-f6de-46ad-a16e-35e0cd36b64d\",\"type\":\"LegendItem\"},{\"attributes\":{\"bottom_units\":\"screen\",\"fill_alpha\":{\"value\":0.5},\"fill_color\":{\"value\":\"lightgrey\"},\"left_units\":\"screen\",\"level\":\"overlay\",\"line_alpha\":{\"value\":1.0},\"line_color\":{\"value\":\"black\"},\"line_dash\":[4,4],\"line_width\":{\"value\":2},\"plot\":null,\"render_mode\":\"css\",\"right_units\":\"screen\",\"top_units\":\"screen\"},\"id\":\"50dd2a92-30b9-41be-a9d8-f908cf49a261\",\"type\":\"BoxAnnotation\"},{\"attributes\":{\"plot\":null,\"text\":\"Med Maze 10 Prioritized Minus PseudoReward\"},\"id\":\"ca77cbd8-38c1-4b97-8d0e-061a8a917977\",\"type\":\"Title\"},{\"attributes\":{\"label\":{\"value\":\"Prioritized minus pseudo rewards\"},\"renderers\":[{\"id\":\"a3f52fc5-3fc6-4c7d-84d6-504d9353c5f9\",\"type\":\"GlyphRenderer\"}]},\"id\":\"f65e0213-ad19-4001-b055-ddbb83f819b7\",\"type\":\"LegendItem\"},{\"attributes\":{\"callback\":null},\"id\":\"e78e8c2e-a9a5-427c-9ea3-265bbcc9576c\",\"type\":\"DataRange1d\"},{\"attributes\":{\"below\":[{\"id\":\"dc687422-7c81-4287-97a6-3af39d76fc9a\",\"type\":\"LinearAxis\"}],\"left\":[{\"id\":\"16597204-58aa-4fcd-87bf-933c232e0c9c\",\"type\":\"LinearAxis\"}],\"plot_height\":800,\"plot_width\":1200,\"renderers\":[{\"id\":\"dc687422-7c81-4287-97a6-3af39d76fc9a\",\"type\":\"LinearAxis\"},{\"id\":\"29e0bd5b-f6a6-4c6e-8888-a584dd496519\",\"type\":\"Grid\"},{\"id\":\"16597204-58aa-4fcd-87bf-933c232e0c9c\",\"type\":\"LinearAxis\"},{\"id\":\"12ddd260-0a1e-4609-9b85-b7e523f6a311\",\"type\":\"Grid\"},{\"id\":\"50dd2a92-30b9-41be-a9d8-f908cf49a261\",\"type\":\"BoxAnnotation\"},{\"id\":\"dea00249-01c1-49a9-ba1c-ac8d9449bbaf\",\"type\":\"GlyphRenderer\"},{\"id\":\"68505bed-8da8-42b1-8cac-276d5b547cc0\",\"type\":\"GlyphRenderer\"},{\"id\":\"6328926f-8189-449a-ab55-6d6dfa0be929\",\"type\":\"GlyphRenderer\"},{\"id\":\"5abf5e84-b46a-4fee-8fb5-3991bf5b1178\",\"type\":\"GlyphRenderer\"},{\"id\":\"70126743-7c22-4e61-8c55-a9b3875c16df\",\"type\":\"GlyphRenderer\"},{\"id\":\"a3f52fc5-3fc6-4c7d-84d6-504d9353c5f9\",\"type\":\"GlyphRenderer\"},{\"id\":\"dfee1be1-fb48-41e0-8a79-848f69d0260f\",\"type\":\"Legend\"}],\"right\":[{\"id\":\"dfee1be1-fb48-41e0-8a79-848f69d0260f\",\"type\":\"Legend\"}],\"title\":{\"id\":\"ca77cbd8-38c1-4b97-8d0e-061a8a917977\",\"type\":\"Title\"},\"tool_events\":{\"id\":\"145f152d-16d3-42e1-96c5-d8aab9ffa162\",\"type\":\"ToolEvents\"},\"toolbar\":{\"id\":\"60048b03-fcf6-41fc-844f-27c4b68b592f\",\"type\":\"Toolbar\"},\"toolbar_location\":\"above\",\"x_range\":{\"id\":\"e78e8c2e-a9a5-427c-9ea3-265bbcc9576c\",\"type\":\"DataRange1d\"},\"y_range\":{\"id\":\"36f6c75a-c5fd-41dc-bfdb-5085c78974e9\",\"type\":\"DataRange1d\"}},\"id\":\"e953c853-ea47-491c-916a-a205dfdf970c\",\"subtype\":\"Figure\",\"type\":\"Plot\"},{\"attributes\":{\"fill_alpha\":{\"value\":0.1},\"fill_color\":{\"value\":\"#e41a1c\"},\"line_alpha\":{\"value\":0.1},\"line_color\":{\"value\":\"#e41a1c\"},\"x\":{\"field\":\"x\"},\"y\":{\"field\":\"y\"}},\"id\":\"51676487-592e-4a5c-8564-c8e8a2e69ad8\",\"type\":\"Patch\"},{\"attributes\":{},\"id\":\"6a3695ab-3d6f-4686-9911-c33af8ab183a\",\"type\":\"BasicTicker\"},{\"attributes\":{\"fill_alpha\":{\"value\":0.1},\"fill_color\":{\"value\":\"#1f77b4\"},\"line_alpha\":{\"value\":0.1},\"line_color\":{\"value\":\"#1f77b4\"},\"x\":{\"field\":\"x\"},\"y\":{\"field\":\"y\"}},\"id\":\"d765a8f5-7c22-4fe7-8938-9f24fbd5ecdc\",\"type\":\"Patch\"},{\"attributes\":{\"callback\":null},\"id\":\"36f6c75a-c5fd-41dc-bfdb-5085c78974e9\",\"type\":\"DataRange1d\"},{\"attributes\":{\"overlay\":{\"id\":\"50dd2a92-30b9-41be-a9d8-f908cf49a261\",\"type\":\"BoxAnnotation\"},\"plot\":{\"id\":\"e953c853-ea47-491c-916a-a205dfdf970c\",\"subtype\":\"Figure\",\"type\":\"Plot\"}},\"id\":\"d2c46e04-b1a0-4f46-8494-0a2595fcd472\",\"type\":\"BoxZoomTool\"},{\"attributes\":{\"plot\":{\"id\":\"e953c853-ea47-491c-916a-a205dfdf970c\",\"subtype\":\"Figure\",\"type\":\"Plot\"}},\"id\":\"cfd62bc3-61ed-4ef1-aa1b-ba2e6fd204ec\",\"type\":\"HelpTool\"},{\"attributes\":{\"plot\":{\"id\":\"e953c853-ea47-491c-916a-a205dfdf970c\",\"subtype\":\"Figure\",\"type\":\"Plot\"},\"ticker\":{\"id\":\"cd1439da-34af-44fb-854a-3fe58cc87743\",\"type\":\"BasicTicker\"}},\"id\":\"29e0bd5b-f6a6-4c6e-8888-a584dd496519\",\"type\":\"Grid\"},{\"attributes\":{\"axis_label\":\"T\",\"formatter\":{\"id\":\"0ef60986-f62d-49df-82c0-5746caa3d6bc\",\"type\":\"BasicTickFormatter\"},\"plot\":{\"id\":\"e953c853-ea47-491c-916a-a205dfdf970c\",\"subtype\":\"Figure\",\"type\":\"Plot\"},\"ticker\":{\"id\":\"cd1439da-34af-44fb-854a-3fe58cc87743\",\"type\":\"BasicTicker\"}},\"id\":\"dc687422-7c81-4287-97a6-3af39d76fc9a\",\"type\":\"LinearAxis\"}],\"root_ids\":[\"e953c853-ea47-491c-916a-a205dfdf970c\"]},\"title\":\"Bokeh Application\",\"version\":\"0.12.4\"}};\n",
       "            var render_items = [{\"docid\":\"a691c0c9-b7ce-46fc-acc9-c7a92fe6bca7\",\"elementid\":\"ca97246e-6b43-4a46-ba2c-1a32415ecde9\",\"modelid\":\"e953c853-ea47-491c-916a-a205dfdf970c\"}];\n",
       "            \n",
       "            Bokeh.embed.embed_items(docs_json, render_items);\n",
       "          };\n",
       "          if (document.readyState != \"loading\") fn();\n",
       "          else document.addEventListener(\"DOMContentLoaded\", fn);\n",
       "        })();\n",
       "      },\n",
       "      function(Bokeh) {\n",
       "      }\n",
       "    ];\n",
       "  \n",
       "    function run_inline_js() {\n",
       "      \n",
       "      if ((window.Bokeh !== undefined) || (force === true)) {\n",
       "        for (var i = 0; i < inline_js.length; i++) {\n",
       "          inline_js[i](window.Bokeh);\n",
       "        }if (force === true) {\n",
       "          display_loaded();\n",
       "        }} else if (Date.now() < window._bokeh_timeout) {\n",
       "        setTimeout(run_inline_js, 100);\n",
       "      } else if (!window._bokeh_failed_load) {\n",
       "        console.log(\"Bokeh: BokehJS failed to load within specified timeout.\");\n",
       "        window._bokeh_failed_load = true;\n",
       "      } else if (force !== true) {\n",
       "        var cell = $(document.getElementById(\"ca97246e-6b43-4a46-ba2c-1a32415ecde9\")).parents('.cell').data().cell;\n",
       "        cell.output_area.append_execute_result(NB_LOAD_WARNING)\n",
       "      }\n",
       "  \n",
       "    }\n",
       "  \n",
       "    if (window._bokeh_is_loading === 0) {\n",
       "      console.log(\"Bokeh: BokehJS loaded, going straight to plotting\");\n",
       "      run_inline_js();\n",
       "    } else {\n",
       "      load_libs(js_urls, function() {\n",
       "        console.log(\"Bokeh: BokehJS plotting callback run at\", now());\n",
       "        run_inline_js();\n",
       "      });\n",
       "    }\n",
       "  }(this));\n",
       "</script>"
      ]
     },
     "metadata": {},
     "output_type": "display_data"
    }
   ],
   "source": [
    "plot_averages_b(names, t_maxs, colours, legends, directories, step=1000, title=env)\n",
    "plot_states(names, t_maxs, colours, legends, directories, step=1000, title=env)"
   ]
  },
  {
   "cell_type": "code",
   "execution_count": null,
   "metadata": {
    "collapsed": true,
    "deletable": true,
    "editable": true
   },
   "outputs": [],
   "source": []
  },
  {
   "cell_type": "code",
   "execution_count": null,
   "metadata": {
    "collapsed": true,
    "deletable": true,
    "editable": true
   },
   "outputs": [],
   "source": []
  },
  {
   "cell_type": "code",
   "execution_count": null,
   "metadata": {
    "collapsed": true,
    "deletable": true,
    "editable": true
   },
   "outputs": [],
   "source": [
    "DQN_Smoothed = []\n",
    "for times, rewards in zip(DQN_Lengths_C, DQN_Rewards):\n",
    "    linear = interp1d(times, rewards, kind=\"linear\")\n",
    "    linear_rewards = linear([i for i in range(500000)])\n",
    "    DQN_Smoothed.append(linear_rewards)"
   ]
  },
  {
   "cell_type": "code",
   "execution_count": null,
   "metadata": {
    "collapsed": true,
    "deletable": true,
    "editable": true
   },
   "outputs": [],
   "source": [
    "DQN_Means = np.mean(DQN_Smoothed, axis=0)"
   ]
  },
  {
   "cell_type": "code",
   "execution_count": null,
   "metadata": {
    "collapsed": true,
    "deletable": true,
    "editable": true
   },
   "outputs": [],
   "source": [
    "DQN_Stds = np.std(DQN_Smoothed, axis=0)"
   ]
  },
  {
   "cell_type": "code",
   "execution_count": null,
   "metadata": {
    "collapsed": false,
    "deletable": true,
    "editable": true
   },
   "outputs": [],
   "source": [
    "plt.fill_between([i for i in range(500000)], DQN_Means - DQN_Stds, DQN_Means + DQN_Stds, color=\"red\", alpha=0.3, edgecolor=\"white\")\n",
    "\n",
    "plt.plot([i for i in range(500000)], DQN_Means, color=\"red\")"
   ]
  },
  {
   "cell_type": "code",
   "execution_count": null,
   "metadata": {
    "collapsed": false,
    "deletable": true,
    "editable": true
   },
   "outputs": [],
   "source": [
    "len(DQN_Repeat)"
   ]
  },
  {
   "cell_type": "code",
   "execution_count": null,
   "metadata": {
    "collapsed": true,
    "deletable": true,
    "editable": true
   },
   "outputs": [],
   "source": [
    "plt.plot(DQN)"
   ]
  },
  {
   "cell_type": "code",
   "execution_count": null,
   "metadata": {
    "collapsed": true,
    "deletable": true,
    "editable": true
   },
   "outputs": [],
   "source": [
    "directories = [\"Logs/\"]"
   ]
  },
  {
   "cell_type": "code",
   "execution_count": null,
   "metadata": {
    "collapsed": false,
    "deletable": true,
    "editable": true
   },
   "outputs": [],
   "source": [
    "for i in range(0, 10, 2):\n",
    "    print(i)"
   ]
  },
  {
   "cell_type": "code",
   "execution_count": null,
   "metadata": {
    "collapsed": true,
    "deletable": true,
    "editable": true
   },
   "outputs": [],
   "source": []
  }
 ],
 "metadata": {
  "kernelspec": {
   "display_name": "Python 3",
   "language": "python",
   "name": "python3"
  },
  "language_info": {
   "codemirror_mode": {
    "name": "ipython",
    "version": 3
   },
   "file_extension": ".py",
   "mimetype": "text/x-python",
   "name": "python",
   "nbconvert_exporter": "python",
   "pygments_lexer": "ipython3",
   "version": "3.6.0"
  }
 },
 "nbformat": 4,
 "nbformat_minor": 2
}
