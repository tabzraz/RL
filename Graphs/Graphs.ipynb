{
 "cells": [
  {
   "cell_type": "code",
   "execution_count": 1,
   "metadata": {
    "collapsed": false,
    "deletable": true,
    "editable": true
   },
   "outputs": [
    {
     "data": {
      "text/html": [
       "\n",
       "    <div class=\"bk-root\">\n",
       "        <a href=\"http://bokeh.pydata.org\" target=\"_blank\" class=\"bk-logo bk-logo-small bk-logo-notebook\"></a>\n",
       "        <span id=\"c32b7a97-cce7-4be5-8105-4bcb705eff55\">Loading BokehJS ...</span>\n",
       "    </div>"
      ]
     },
     "metadata": {},
     "output_type": "display_data"
    },
    {
     "data": {
      "application/javascript": [
       "\n",
       "(function(global) {\n",
       "  function now() {\n",
       "    return new Date();\n",
       "  }\n",
       "\n",
       "  var force = true;\n",
       "\n",
       "  if (typeof (window._bokeh_onload_callbacks) === \"undefined\" || force === true) {\n",
       "    window._bokeh_onload_callbacks = [];\n",
       "    window._bokeh_is_loading = undefined;\n",
       "  }\n",
       "\n",
       "\n",
       "  \n",
       "  if (typeof (window._bokeh_timeout) === \"undefined\" || force === true) {\n",
       "    window._bokeh_timeout = Date.now() + 5000;\n",
       "    window._bokeh_failed_load = false;\n",
       "  }\n",
       "\n",
       "  var NB_LOAD_WARNING = {'data': {'text/html':\n",
       "     \"<div style='background-color: #fdd'>\\n\"+\n",
       "     \"<p>\\n\"+\n",
       "     \"BokehJS does not appear to have successfully loaded. If loading BokehJS from CDN, this \\n\"+\n",
       "     \"may be due to a slow or bad network connection. Possible fixes:\\n\"+\n",
       "     \"</p>\\n\"+\n",
       "     \"<ul>\\n\"+\n",
       "     \"<li>re-rerun `output_notebook()` to attempt to load from CDN again, or</li>\\n\"+\n",
       "     \"<li>use INLINE resources instead, as so:</li>\\n\"+\n",
       "     \"</ul>\\n\"+\n",
       "     \"<code>\\n\"+\n",
       "     \"from bokeh.resources import INLINE\\n\"+\n",
       "     \"output_notebook(resources=INLINE)\\n\"+\n",
       "     \"</code>\\n\"+\n",
       "     \"</div>\"}};\n",
       "\n",
       "  function display_loaded() {\n",
       "    if (window.Bokeh !== undefined) {\n",
       "      document.getElementById(\"c32b7a97-cce7-4be5-8105-4bcb705eff55\").textContent = \"BokehJS successfully loaded.\";\n",
       "    } else if (Date.now() < window._bokeh_timeout) {\n",
       "      setTimeout(display_loaded, 100)\n",
       "    }\n",
       "  }\n",
       "\n",
       "  function run_callbacks() {\n",
       "    window._bokeh_onload_callbacks.forEach(function(callback) { callback() });\n",
       "    delete window._bokeh_onload_callbacks\n",
       "    console.info(\"Bokeh: all callbacks have finished\");\n",
       "  }\n",
       "\n",
       "  function load_libs(js_urls, callback) {\n",
       "    window._bokeh_onload_callbacks.push(callback);\n",
       "    if (window._bokeh_is_loading > 0) {\n",
       "      console.log(\"Bokeh: BokehJS is being loaded, scheduling callback at\", now());\n",
       "      return null;\n",
       "    }\n",
       "    if (js_urls == null || js_urls.length === 0) {\n",
       "      run_callbacks();\n",
       "      return null;\n",
       "    }\n",
       "    console.log(\"Bokeh: BokehJS not loaded, scheduling load and callback at\", now());\n",
       "    window._bokeh_is_loading = js_urls.length;\n",
       "    for (var i = 0; i < js_urls.length; i++) {\n",
       "      var url = js_urls[i];\n",
       "      var s = document.createElement('script');\n",
       "      s.src = url;\n",
       "      s.async = false;\n",
       "      s.onreadystatechange = s.onload = function() {\n",
       "        window._bokeh_is_loading--;\n",
       "        if (window._bokeh_is_loading === 0) {\n",
       "          console.log(\"Bokeh: all BokehJS libraries loaded\");\n",
       "          run_callbacks()\n",
       "        }\n",
       "      };\n",
       "      s.onerror = function() {\n",
       "        console.warn(\"failed to load library \" + url);\n",
       "      };\n",
       "      console.log(\"Bokeh: injecting script tag for BokehJS library: \", url);\n",
       "      document.getElementsByTagName(\"head\")[0].appendChild(s);\n",
       "    }\n",
       "  };var element = document.getElementById(\"c32b7a97-cce7-4be5-8105-4bcb705eff55\");\n",
       "  if (element == null) {\n",
       "    console.log(\"Bokeh: ERROR: autoload.js configured with elementid 'c32b7a97-cce7-4be5-8105-4bcb705eff55' but no matching script tag was found. \")\n",
       "    return false;\n",
       "  }\n",
       "\n",
       "  var js_urls = [\"https://cdn.pydata.org/bokeh/release/bokeh-0.12.4.min.js\", \"https://cdn.pydata.org/bokeh/release/bokeh-widgets-0.12.4.min.js\"];\n",
       "\n",
       "  var inline_js = [\n",
       "    function(Bokeh) {\n",
       "      Bokeh.set_log_level(\"info\");\n",
       "    },\n",
       "    \n",
       "    function(Bokeh) {\n",
       "      \n",
       "      document.getElementById(\"c32b7a97-cce7-4be5-8105-4bcb705eff55\").textContent = \"BokehJS is loading...\";\n",
       "    },\n",
       "    function(Bokeh) {\n",
       "      console.log(\"Bokeh: injecting CSS: https://cdn.pydata.org/bokeh/release/bokeh-0.12.4.min.css\");\n",
       "      Bokeh.embed.inject_css(\"https://cdn.pydata.org/bokeh/release/bokeh-0.12.4.min.css\");\n",
       "      console.log(\"Bokeh: injecting CSS: https://cdn.pydata.org/bokeh/release/bokeh-widgets-0.12.4.min.css\");\n",
       "      Bokeh.embed.inject_css(\"https://cdn.pydata.org/bokeh/release/bokeh-widgets-0.12.4.min.css\");\n",
       "    }\n",
       "  ];\n",
       "\n",
       "  function run_inline_js() {\n",
       "    \n",
       "    if ((window.Bokeh !== undefined) || (force === true)) {\n",
       "      for (var i = 0; i < inline_js.length; i++) {\n",
       "        inline_js[i](window.Bokeh);\n",
       "      }if (force === true) {\n",
       "        display_loaded();\n",
       "      }} else if (Date.now() < window._bokeh_timeout) {\n",
       "      setTimeout(run_inline_js, 100);\n",
       "    } else if (!window._bokeh_failed_load) {\n",
       "      console.log(\"Bokeh: BokehJS failed to load within specified timeout.\");\n",
       "      window._bokeh_failed_load = true;\n",
       "    } else if (force !== true) {\n",
       "      var cell = $(document.getElementById(\"c32b7a97-cce7-4be5-8105-4bcb705eff55\")).parents('.cell').data().cell;\n",
       "      cell.output_area.append_execute_result(NB_LOAD_WARNING)\n",
       "    }\n",
       "\n",
       "  }\n",
       "\n",
       "  if (window._bokeh_is_loading === 0) {\n",
       "    console.log(\"Bokeh: BokehJS loaded, going straight to plotting\");\n",
       "    run_inline_js();\n",
       "  } else {\n",
       "    load_libs(js_urls, function() {\n",
       "      console.log(\"Bokeh: BokehJS plotting callback run at\", now());\n",
       "      run_inline_js();\n",
       "    });\n",
       "  }\n",
       "}(this));"
      ]
     },
     "metadata": {},
     "output_type": "display_data"
    }
   ],
   "source": [
    "from bokeh.plotting import figure, output_notebook, show\n",
    "output_notebook()"
   ]
  },
  {
   "cell_type": "code",
   "execution_count": 2,
   "metadata": {
    "collapsed": true,
    "deletable": true,
    "editable": true
   },
   "outputs": [],
   "source": [
    "import glob"
   ]
  },
  {
   "cell_type": "code",
   "execution_count": 3,
   "metadata": {
    "collapsed": true,
    "deletable": true,
    "editable": true
   },
   "outputs": [],
   "source": [
    "import numpy as np"
   ]
  },
  {
   "cell_type": "code",
   "execution_count": 4,
   "metadata": {
    "collapsed": true,
    "deletable": true,
    "editable": true
   },
   "outputs": [],
   "source": [
    "from scipy.interpolate import interp1d\n",
    "from scipy.interpolate import spline"
   ]
  },
  {
   "cell_type": "code",
   "execution_count": 5,
   "metadata": {
    "collapsed": true,
    "deletable": true,
    "editable": true
   },
   "outputs": [],
   "source": [
    "from tqdm import tqdm"
   ]
  },
  {
   "cell_type": "code",
   "execution_count": 6,
   "metadata": {
    "collapsed": true,
    "deletable": true,
    "editable": true
   },
   "outputs": [],
   "source": [
    "DQN_Rewards_Path = \"/home/tabz/Dropbox/RL/Log_Files/March 2017/Maze_5_Batch_Sizes_Logs/*DQN*/logs/Episode_Rewards.txt\"\n",
    "DQN_Lengths_Path = \"/home/tabz/Dropbox/RL/Log_Files/March 2017/Maze_5_Batch_Sizes_Logs/*DQN*/logs/Episode_Lengths.txt\"\n",
    "DQN_Rewards = []\n",
    "DQN_Lengths = []\n",
    "DQN_Lengths_C = []"
   ]
  },
  {
   "cell_type": "code",
   "execution_count": 7,
   "metadata": {
    "collapsed": true,
    "deletable": true,
    "editable": true
   },
   "outputs": [],
   "source": [
    "for filename in glob.glob(DQN_Rewards_Path):\n",
    "    run_logs = [0]\n",
    "#     print(filename)\n",
    "    with open(filename, \"r\") as f:\n",
    "        for line in f:\n",
    "            try:\n",
    "                ep_r = float(line)\n",
    "            except:\n",
    "                continue\n",
    "            run_logs.append(ep_r)\n",
    "    DQN_Rewards.append(run_logs)"
   ]
  },
  {
   "cell_type": "code",
   "execution_count": 8,
   "metadata": {
    "collapsed": true,
    "deletable": true,
    "editable": true
   },
   "outputs": [],
   "source": [
    "for filename in glob.glob(DQN_Lengths_Path):\n",
    "    run_logs = [0]\n",
    "#     print(filename)\n",
    "    with open(filename, \"r\") as f:\n",
    "        for line in f:\n",
    "            try:\n",
    "                ep_r = float(line)\n",
    "            except:\n",
    "                continue\n",
    "            run_logs.append(ep_r)\n",
    "    DQN_Lengths.append(run_logs)\n",
    "    run_logs_c = np.cumsum(run_logs).astype(np.int32)\n",
    "    DQN_Lengths_C.append(run_logs_c)"
   ]
  },
  {
   "cell_type": "markdown",
   "metadata": {
    "collapsed": false,
    "deletable": true,
    "editable": true
   },
   "source": [
    "for lens, runs in zip(DQN_Lengths_C, DQN_Rewards):\n",
    "    plt.plot(lens, runs)\n",
    "plt.show()"
   ]
  },
  {
   "cell_type": "markdown",
   "metadata": {
    "collapsed": false,
    "deletable": true,
    "editable": true
   },
   "source": [
    "p = figure(width=500, height=500, y_range=(-1,3))\n",
    "for lens, runs in zip(DQN_Lengths_C, DQN_Rewards):\n",
    "    p.line(lens, runs)\n",
    "show(p)"
   ]
  },
  {
   "cell_type": "code",
   "execution_count": null,
   "metadata": {
    "collapsed": true,
    "deletable": true,
    "editable": true
   },
   "outputs": [],
   "source": []
  },
  {
   "cell_type": "markdown",
   "metadata": {
    "collapsed": true,
    "deletable": true,
    "editable": true
   },
   "source": [
    "def plot_averages(names, t_maxs, colors, legends=None, directory=\"Logs/\", step=10):\n",
    "    plt.figure(figsize=(10,10))\n",
    "    plt.ylim(-1, 3)\n",
    "    for name, color, t_max in tqdm(zip(names, colors, t_maxs)):\n",
    "        # TODO: Remove DQN from names\n",
    "        DQN_Rewards_Path = directory + \"*\" + name + \"*/logs/Episode_Rewards.txt\"\n",
    "        DQN_Lengths_Path = directory + \"*\" + name + \"*/logs/Episode_Lengths.txt\"\n",
    "        DQN_Rewards = []\n",
    "        DQN_Lengths = []\n",
    "        DQN_Lengths_C = []\n",
    "        for filename in glob.glob(DQN_Rewards_Path):\n",
    "            run_logs = [0]\n",
    "            with open(filename, \"r\") as f:\n",
    "                for line in f:\n",
    "                    try:\n",
    "                        ep_r = float(line)\n",
    "                    except:\n",
    "                        continue\n",
    "                    run_logs.append(ep_r)\n",
    "            DQN_Rewards.append(run_logs)\n",
    "        for filename in glob.glob(DQN_Lengths_Path):\n",
    "            run_logs = [0]\n",
    "        #     print(filename)\n",
    "            with open(filename, \"r\") as f:\n",
    "                for line in f:\n",
    "                    try:\n",
    "                        ep_r = float(line)\n",
    "                    except:\n",
    "                        continue\n",
    "                    run_logs.append(ep_r)\n",
    "            DQN_Lengths.append(run_logs)\n",
    "            run_logs_c = np.cumsum(run_logs).astype(np.int32)\n",
    "            DQN_Lengths_C.append(run_logs_c)\n",
    "        DQN_Smoothed = []\n",
    "        for times, rewards in zip(DQN_Lengths_C, DQN_Rewards):\n",
    "#             linear = interp1d(times, rewards, kind=\"linear\")\n",
    "#             linear_rewards = linear([i for i in range(500000)])\n",
    "#             DQN_Smoothed.append(linear_rewards)\n",
    "            spline_rewards = spline(times, rewards, [i for i in range(0, t_max, step)])\n",
    "            DQN_Smoothed.append(spline_rewards)\n",
    "        DQN_Means = np.mean(DQN_Smoothed, axis=0)\n",
    "        DQN_Stds = np.std(DQN_Smoothed, axis=0)\n",
    "        plt.fill_between([i for i in range(0, t_max, step)], DQN_Means - DQN_Stds, DQN_Means + DQN_Stds, color=color, alpha=0.2, edgecolor=\"white\")\n",
    "\n",
    "        plt.plot([i for i in range(0, t_max, step)], DQN_Means, color=color)\n",
    "\n",
    "    plt.title(\"Episode_Reward\")\n",
    "    plt.xlabel(\"T\")\n",
    "    plt.ylabel(\"Reward\")\n",
    "    if legends is not None:\n",
    "        plt.legend(legends, bbox_to_anchor=(1.05, 1), loc=2)\n",
    "    plt.show()"
   ]
  },
  {
   "cell_type": "code",
   "execution_count": 9,
   "metadata": {
    "collapsed": true,
    "deletable": true,
    "editable": true
   },
   "outputs": [],
   "source": [
    "from bokeh.models import Legend\n",
    "from bokeh.models.formatters import BasicTickFormatter\n",
    "from bokeh.models import HoverTool, TapTool"
   ]
  },
  {
   "cell_type": "code",
   "execution_count": 10,
   "metadata": {
    "collapsed": false,
    "deletable": true,
    "editable": true
   },
   "outputs": [],
   "source": [
    "def plot_averages_b(names, t_maxs, colors, legends, directories=\"Logs/\", step=10, title=\"\", min_max=True):\n",
    "#     plt.figure(figsize=(10,10))\n",
    "    p = figure(width=1200, height=800, y_range=(-0.1, 1.1), title=title)\n",
    "    p.toolbar_location = \"above\"\n",
    "    p.yaxis.axis_label = \"Episode Reward\"\n",
    "    p.xaxis.axis_label = \"T\"\n",
    "    p.xaxis.formatter = BasicTickFormatter(use_scientific=False)\n",
    "#     p = figure(width=800, height=500)\n",
    "    lines = []\n",
    "    alpha_lines = []\n",
    "    if isinstance(directories, str):\n",
    "        dd = directories\n",
    "        directories = [dd for _ in names]\n",
    "    for name, color, t_max, legend, directory in zip(names, colors, t_maxs, legends, directories):\n",
    "#         print(directory)\n",
    "        DQN_Rewards_Path = directory + \"*\" + name + \"*/logs/Episode_Rewards.txt\"\n",
    "        DQN_Lengths_Path = directory + \"*\" + name + \"*/logs/Episode_Lengths.txt\"\n",
    "        DQN_Rewards = []\n",
    "        DQN_Lengths = []\n",
    "        DQN_Lengths_C = []\n",
    "        for filename in glob.glob(DQN_Rewards_Path):\n",
    "            run_logs = [0]\n",
    "            with open(filename, \"r\") as f:\n",
    "#                 print(f)\n",
    "                for line in f:\n",
    "                    try:\n",
    "                        ep_r = float(line)\n",
    "                    except:\n",
    "                        print(\"Nothing here for:\", filename)\n",
    "                        continue\n",
    "                    run_logs.append(ep_r)\n",
    "            DQN_Rewards.append(run_logs)\n",
    "        for filename in glob.glob(DQN_Lengths_Path):\n",
    "            run_logs = [0]\n",
    "        #     print(filename)\n",
    "            with open(filename, \"r\") as f:\n",
    "                for line in f:\n",
    "                    try:\n",
    "                        ep_r = float(line)\n",
    "                    except:\n",
    "                        continue\n",
    "                    run_logs.append(ep_r)\n",
    "            DQN_Lengths.append(run_logs)\n",
    "            run_logs_c = np.cumsum(run_logs).astype(np.int32)\n",
    "            DQN_Lengths_C.append(run_logs_c)\n",
    "        DQN_Smoothed = []\n",
    "        for times, rewards in zip(DQN_Lengths_C, DQN_Rewards):\n",
    "#             linear = interp1d(times, rewards, kind=\"linear\")\n",
    "#             linear_rewards = linear([i for i in range(500000)])\n",
    "#             DQN_Smoothed.append(linear_rewards)\n",
    "            spline_rewards = spline(times, rewards, [i for i in range(0, t_max, step)], order=1)\n",
    "            DQN_Smoothed.append(spline_rewards)\n",
    "        DQN_Means = np.mean(DQN_Smoothed, axis=0)\n",
    "        DQN_Stds = np.std(DQN_Smoothed, axis=0)\n",
    "        \n",
    "        if min_max:\n",
    "    #         plt.fill_between([i for i in range(0, t_max, step)], DQN_Means - DQN_Stds, DQN_Means + DQN_Stds, color=color, alpha=0.2, edgecolor=\"white\")\n",
    "            # Error bars\n",
    "            xs = [i for i in range(0, t_max, step)]\n",
    "            xs = xs + list(reversed(xs))\n",
    "    #         ys = np.concatenate([DQN_Means - DQN_Stds, np.flip(DQN_Means + DQN_Stds, axis=0)])\n",
    "            ys = np.concatenate([np.min(DQN_Smoothed, axis=0), np.flip(np.max(DQN_Smoothed, axis=0), axis=0)])\n",
    "            lls = p.patch(xs, ys, color=color, alpha=0.1)\n",
    "\n",
    "\n",
    "    #         for x, y, yerr in zip(range(0, t_max, step), DQN_Means, DQN_Stds):\n",
    "    #             lls = p.line([x, x], [y - yerr, y + yerr], color=color, alpha=0.1, hover_alpha=0.8)\n",
    "    #             alpha_lines.append(lls)\n",
    "\n",
    "\n",
    "    #         plt.plot([i for i in range(0, t_max, step)], DQN_Means, color=color)\n",
    "        l = p.line([i for i in range(0, t_max, step)], DQN_Means, color=color, line_width=2)\n",
    "        lines.append(l)\n",
    "    #         alpha_lines.append(lls)\n",
    "\n",
    "#     plt.title(\"Episode_Reward\")\n",
    "#     plt.xlabel(\"T\")\n",
    "#     plt.ylabel(\"Reward\")\n",
    "#     if legends is not None:\n",
    "#         plt.legend(legends)\n",
    "#     plt.show()\n",
    "#     p.line([0,1], [-1,3])\n",
    "    new_leg = Legend(items=[(name, [line]) for name, line in zip(legends, lines)], location=(0,-30))\n",
    "    p.add_layout(new_leg, \"right\")\n",
    "#     p.add_tools(HoverTool(renderers=alpha_lines))\n",
    "#     p.add_tools(TapTool(renderers=alpha_lines))\n",
    "    show(p)"
   ]
  },
  {
   "cell_type": "code",
   "execution_count": 11,
   "metadata": {
    "collapsed": false,
    "deletable": true,
    "editable": true
   },
   "outputs": [],
   "source": [
    "def plot_states(names, t_maxs, colors, legends, directories=\"Logs/\", step=10, title=\"\"):\n",
    "#     plt.figure(figsize=(10,10))\n",
    "    p = figure(width=1200, height=800, title=title)\n",
    "    p.toolbar_location = \"above\"\n",
    "    p.yaxis.axis_label = \"States visited\"\n",
    "    p.xaxis.axis_label = \"T\"\n",
    "    p.xaxis.formatter = BasicTickFormatter(use_scientific=False)\n",
    "#     p = figure(width=800, height=500)\n",
    "    lines = []\n",
    "    alpha_lines = []\n",
    "    if isinstance(directories, str):\n",
    "        dd = directories\n",
    "        directories = [dd for _ in names]\n",
    "    for name, color, t_max, legend, directory in zip(names, colors, t_maxs, legends, directories):\n",
    "#         print(directory)\n",
    "        States_Path = directory + \"*\" + name + \"*/logs/Player_Positions.txt\"\n",
    "        States = []\n",
    "        for filename in glob.glob(States_Path):\n",
    "            run_logs = []\n",
    "            with open(filename, \"r\") as f:\n",
    "#                 print(f)\n",
    "                for line in f:\n",
    "                    try:\n",
    "                        ep_r = str(line)\n",
    "#                         print(ep_r)\n",
    "                    except:\n",
    "                        print(\"Nothing here for:\", filename)\n",
    "                        continue\n",
    "                    run_logs.append(ep_r)\n",
    "            States.append(run_logs)\n",
    "        States_Visited = []\n",
    "        for run in States:\n",
    "            Visited = []\n",
    "            States_Sets = set()\n",
    "#             print(len(run))\n",
    "            for ii, s in enumerate(run):\n",
    "                if ii >= t_max - 1:\n",
    "                    break\n",
    "#                 print(s)\n",
    "                States_Sets.add(s)\n",
    "                if ii % step == 0:\n",
    "                    Visited.append(len(States_Sets))\n",
    "#             print(len(States_Sets))\n",
    "#             print(len(Visited))\n",
    "            States_Visited.append(Visited)\n",
    "#         print(np.array(States_Visited).shape)\n",
    "        Means = np.mean(States_Visited, axis=0)\n",
    "        Stds = np.std(States_Visited, axis=0)\n",
    "#         print(Means.shape)\n",
    "        \n",
    "#         plt.fill_between([i for i in range(0, t_max, step)], DQN_Means - DQN_Stds, DQN_Means + DQN_Stds, color=color, alpha=0.2, edgecolor=\"white\")\n",
    "        # Error bars\n",
    "        xs = [i for i in range(0, t_max, step)]\n",
    "        xs = xs + list(reversed(xs))\n",
    "#         ys = np.concatenate([Means - Stds, np.flip(Means + Stds, axis=0)])\n",
    "        ys = np.concatenate([np.min(States_Visited, axis=0), np.flip(np.max(States_Visited, axis=0), axis=0)])\n",
    "        lls = p.patch(xs, ys, color=color, alpha=0.1)\n",
    "\n",
    "        \n",
    "#         for x, y, yerr in zip(range(0, t_max, step), DQN_Means, DQN_Stds):\n",
    "#             lls = p.line([x, x], [y - yerr, y + yerr], color=color, alpha=0.1, hover_alpha=0.8)\n",
    "#             alpha_lines.append(lls)\n",
    "            \n",
    "\n",
    "#         plt.plot([i for i in range(0, t_max, step)], DQN_Means, color=color)\n",
    "        l = p.line([i for i in range(0, t_max, step)], Means, color=color, line_width=2)\n",
    "        lines.append(l)\n",
    "#         alpha_lines.append(lls)\n",
    "\n",
    "#     plt.title(\"Episode_Reward\")\n",
    "#     plt.xlabel(\"T\")\n",
    "#     plt.ylabel(\"Reward\")\n",
    "#     if legends is not None:\n",
    "#         plt.legend(legends)\n",
    "#     plt.show()\n",
    "#     p.line([0,1], [-1,3])\n",
    "    new_leg = Legend(items=[(name, [line]) for name, line in zip(legends, lines)], location=(0,-30))\n",
    "    p.add_layout(new_leg, \"right\")\n",
    "#     p.add_tools(HoverTool(renderers=alpha_lines))\n",
    "#     p.add_tools(TapTool(renderers=alpha_lines))\n",
    "    show(p)"
   ]
  },
  {
   "cell_type": "code",
   "execution_count": null,
   "metadata": {
    "collapsed": true,
    "deletable": true,
    "editable": true
   },
   "outputs": [],
   "source": []
  },
  {
   "cell_type": "code",
   "execution_count": 12,
   "metadata": {
    "collapsed": false,
    "deletable": true,
    "editable": true
   },
   "outputs": [
    {
     "name": "stdout",
     "output_type": "stream",
     "text": [
      "['_10_Step_*DQN_', '_10_Step_*k_Count_', '_10_Step_*_CountEps_']\n",
      "[300001, 300001, 300001]\n"
     ]
    }
   ],
   "source": [
    "names = []\n",
    "legends = []\n",
    "t_maxs = []\n",
    "directories = []\n",
    "\n",
    "            \n",
    "# Frontier stuff\n",
    "for step in [10]:\n",
    "    # DQN\n",
    "    names += [\"_{}_Step_*DQN_\".format(step)]\n",
    "    legends += [\"{}_Step_DQN\".format(step)]\n",
    "    t_maxs += [300001]\n",
    "#     continue\n",
    "    # PseudoCount\n",
    "    names += [\"_{}_Step_*k_Count_\".format(step)]\n",
    "    legends += [\"{}_Step_Count\".format(step)]\n",
    "    t_maxs += [300001]\n",
    "#     continue\n",
    "    # EpsilonScaling\n",
    "    names += [\"_{}_Step_*_CountEps_\".format(step)]\n",
    "    legends += [\"{}_Step_Epsilon_Scaling\".format(step)]\n",
    "    t_maxs += [300001]\n",
    "            \n",
    "    \n",
    "direc = \"/home/tabz/tmp/logfiles/MedMaze10/MedMaze10\"\n",
    "# directories =  [\"{}/{}\".format(dropbox_direc, \"Maze_5_Logs/\")] + 3 * [\"{}/{}\".format(dropbox_direc, \"Maze_5_Batch_Sizes_Logs/\")] \n",
    "directories += [direc + \"/EpsilonLogs/\"] * 3\n",
    "    \n",
    "print(names)\n",
    "print(t_maxs)\n",
    "# colours = [\"red\", \"#3366ff\", \"#66ff33\", \"yellow\"]\n",
    "# colours = rainbow(np.linspace(0, 1, len(names)))"
   ]
  },
  {
   "cell_type": "code",
   "execution_count": 13,
   "metadata": {
    "collapsed": false,
    "deletable": true,
    "editable": true
   },
   "outputs": [
    {
     "name": "stdout",
     "output_type": "stream",
     "text": [
      "['_100_Step*k_Count_', '_100_Step*OptimisticAction', '_100_Step*_CountEps_']\n",
      "[300001, 300001, 300001]\n",
      "/home/scratch/tabhid/Log_Files/Gamma_Logs//\n"
     ]
    }
   ],
   "source": [
    "names = []\n",
    "legends = []\n",
    "t_maxs = []\n",
    "\n",
    "            \n",
    "# Frontier bandit stuff\n",
    "\n",
    "for n in [100]:\n",
    "    \n",
    "    # Count\n",
    "    names += [\"_{}_Step*k_Count_\".format(n)]\n",
    "    legends += [\"{}_Step_Count\".format(n)]\n",
    "    t_maxs += [300001]\n",
    "#     continue\n",
    "    # Optimistic\n",
    "    names += [\"_{}_Step*OptimisticAction\".format(n)]\n",
    "    legends += [\"{}_Step_OptimisticAction\".format(n)]\n",
    "    t_maxs += [300001]\n",
    "#     continue\n",
    "    # Epsilon Scaling\n",
    "    names += [\"_{}_Step*_CountEps_\".format(n)]\n",
    "    legends += [\"{}_Step_EpsilonScaling\".format(n)]\n",
    "    t_maxs += [300001]\n",
    "            \n",
    "    \n",
    "direc = \"/home/scratch/tabhid/Log_Files/Gamma_Logs//\"\n",
    "# directories =  [\"{}/{}\".format(dropbox_direc, \"Maze_5_Logs/\")] + 3 * [\"{}/{}\".format(dropbox_direc, \"Maze_5_Batch_Sizes_Logs/\")] \n",
    "# directories += [direc + \"/BanditLogs/\"] * 3\n",
    "directories = direc\n",
    "    \n",
    "print(names)\n",
    "print(t_maxs)\n",
    "print(directories)\n",
    "# colours = [\"red\", \"#3366ff\", \"#66ff33\", \"yellow\"]\n",
    "# colours = rainbow(np.linspace(0, 1, len(names)))"
   ]
  },
  {
   "cell_type": "code",
   "execution_count": 14,
   "metadata": {
    "collapsed": false,
    "deletable": true,
    "editable": true
   },
   "outputs": [
    {
     "name": "stdout",
     "output_type": "stream",
     "text": [
      "['_0.9_Decay*_Eps_0.1_', '_0.99_Decay*_Eps_0.1_', '_0.9999_Decay*_Eps_0.1_', '_0.9_Decay*_Eps_1_', '_0.99_Decay*_Eps_1_', '_0.9999_Decay*_Eps_1_']\n",
      "[300001, 300001, 300001, 300001, 300001, 300001]\n",
      "/home/tabz/tmp/Epsilon_Decay_Logs/\n"
     ]
    }
   ],
   "source": [
    "names = []\n",
    "legends = []\n",
    "t_maxs = []\n",
    "\n",
    "            \n",
    "# Epsilon Decay Scaling\n",
    "for eps in [0.1, 1]:\n",
    "    for decay in [0.9, 0.99, 0.9999]:\n",
    "    \n",
    "        names += [\"_{}_Decay*_Eps_{}_\".format(decay, eps)]\n",
    "        legends += [\"{}_Decay_EpsilonScaling_{}_Start\".format(decay, eps)]\n",
    "        t_maxs += [300001]\n",
    "            \n",
    "    \n",
    "# direc = \"/home/scratch/tabhid/Log_Files/Epsilon_Decay_Logs/\"\n",
    "direc = \"/home/tabz/tmp/Epsilon_Decay_Logs/\"\n",
    "# directories =  [\"{}/{}\".format(dropbox_direc, \"Maze_5_Logs/\")] + 3 * [\"{}/{}\".format(dropbox_direc, \"Maze_5_Batch_Sizes_Logs/\")] \n",
    "# directories += [direc + \"/BanditLogs/\"] * 3\n",
    "directories = direc\n",
    "    \n",
    "print(names)\n",
    "print(t_maxs)\n",
    "print(directories)"
   ]
  },
  {
   "cell_type": "code",
   "execution_count": 15,
   "metadata": {
    "collapsed": false,
    "deletable": true,
    "editable": true
   },
   "outputs": [
    {
     "name": "stdout",
     "output_type": "stream",
     "text": [
      "['_NegativeReward_0.5_', '_NegativeReward_0.7_', '_NegativeReward_0.9_']\n",
      "[300001, 300001, 300001]\n",
      "/home/tabz/tmp/Big_Negative_Reward_Logs/\n"
     ]
    }
   ],
   "source": [
    "names = []\n",
    "legends = []\n",
    "t_maxs = []\n",
    "\n",
    "            \n",
    "# Negative reward threshold\n",
    "for ns in [0.5, 0.7,  0.9]:\n",
    "    names += [\"_NegativeReward_{}_\".format(ns)]\n",
    "    legends += [\"NegativeReward_{}_Threshold\".format(ns)]\n",
    "    t_maxs += [300001]\n",
    "            \n",
    "    \n",
    "# direc = \"/home/scratch/tabhid/Log_Files/Epsilon_Decay_Logs/\"\n",
    "direc = \"/home/tabz/tmp/Big_Negative_Reward_Logs/\"\n",
    "# directories =  [\"{}/{}\".format(dropbox_direc, \"Maze_5_Logs/\")] + 3 * [\"{}/{}\".format(dropbox_direc, \"Maze_5_Batch_Sizes_Logs/\")] \n",
    "# directories += [direc + \"/BanditLogs/\"] * 3\n",
    "directories = direc\n",
    "    \n",
    "print(names)\n",
    "print(t_maxs)\n",
    "print(directories)"
   ]
  },
  {
   "cell_type": "code",
   "execution_count": 16,
   "metadata": {
    "collapsed": false,
    "deletable": true,
    "editable": true
   },
   "outputs": [
    {
     "name": "stdout",
     "output_type": "stream",
     "text": [
      "['k_OptimisticAction_0.0001_Scaler', 'k_OptimisticAction_0.0005_Scaler', 'k_OptimisticAction_0.001_Scaler', 'k_OptimisticAction_0.005_Scaler']\n",
      "[300001, 300001, 300001, 300001]\n",
      "/home/scratch/tabhid/Log_Files/Bandit_Small_Tau_Logs/\n"
     ]
    }
   ],
   "source": [
    "names = []\n",
    "legends = []\n",
    "t_maxs = []\n",
    "\n",
    "            \n",
    "# Bandit Tau\n",
    "for tau in [0.0001, 0.0005, 0.001, 0.005]:\n",
    "    for negative_reward in [False]:\n",
    "        if negative_reward:\n",
    "            names += [\"NegativeReward_*_OptimisticAction_{}_Scaler\".format(tau)]\n",
    "            legends += [\"Optim Bandit {} Tau Neg Reward\".format(tau)]\n",
    "        else:\n",
    "            names += [\"k_OptimisticAction_{}_Scaler\".format(tau)]\n",
    "            legends += [\"Optim Bandit {} Tau\".format(tau)]\n",
    "        t_maxs += [300001]\n",
    "            \n",
    "    \n",
    "direc = \"/home/scratch/tabhid/Log_Files/Bandit_Small_Tau_Logs/\"\n",
    "# direc = \"/home/tabz/tmp/Bandit_Tau_Logs/\"\n",
    "# directories =  [\"{}/{}\".format(dropbox_direc, \"Maze_5_Logs/\")] + 3 * [\"{}/{}\".format(dropbox_direc, \"Maze_5_Batch_Sizes_Logs/\")] \n",
    "# directories += [direc + \"/BanditLogs/\"] * 3\n",
    "directories = direc\n",
    "    \n",
    "print(names)\n",
    "print(t_maxs)\n",
    "print(directories)"
   ]
  },
  {
   "cell_type": "code",
   "execution_count": 17,
   "metadata": {
    "collapsed": false,
    "deletable": true,
    "editable": true
   },
   "outputs": [
    {
     "name": "stdout",
     "output_type": "stream",
     "text": [
      "['Batch_64_XpSize_600k', 'Batch_128_XpSize_600k', 'Batch_256_XpSize_600k']\n",
      "[600001, 600001, 600001]\n",
      "/home/tabz/tmp/logfiles/MedMaze10/Batch_Size_Logs/\n"
     ]
    }
   ],
   "source": [
    "names = []\n",
    "legends = []\n",
    "t_maxs = []\n",
    "\n",
    "            \n",
    "# Batch Size\n",
    "for xp in [600]:\n",
    "    for bs in [64, 128, 256]:\n",
    "        names += [\"Batch_{}_XpSize_{}k\".format(bs, xp)]\n",
    "        legends += [\"Batch {} Xp {}k\".format(bs, xp)]\n",
    "        t_maxs += [600001]\n",
    "            \n",
    "    \n",
    "# direc = \"/home/scratch/tabhid/Log_Files/Xp_Logs/\"\n",
    "direc = \"/home/tabz/tmp/logfiles/MedMaze10/Batch_Size_Logs/\"\n",
    "# directories =  [\"{}/{}\".format(dropbox_direc, \"Maze_5_Logs/\")] + 3 * [\"{}/{}\".format(dropbox_direc, \"Maze_5_Batch_Sizes_Logs/\")] \n",
    "# directories += [direc + \"/BanditLogs/\"] * 3\n",
    "directories = direc\n",
    "    \n",
    "print(names)\n",
    "print(t_maxs)\n",
    "print(directories)"
   ]
  },
  {
   "cell_type": "code",
   "execution_count": 18,
   "metadata": {
    "collapsed": false,
    "deletable": true,
    "editable": true
   },
   "outputs": [
    {
     "name": "stdout",
     "output_type": "stream",
     "text": [
      "['ETrace_0.7_6_States', 'ETrace_0.9_6_States', 'ETrace_1_6_States']\n",
      "[600001, 600001, 600001]\n",
      "/home/tabz/tmp/logfiles/MedMaze10/Elig_3_Logs/\n"
     ]
    }
   ],
   "source": [
    "names = []\n",
    "legends = []\n",
    "t_maxs = []\n",
    "\n",
    "            \n",
    "# Elig States\n",
    "for lamb in [0.7, 0.9, 1]:\n",
    "    for states in [6]:\n",
    "        names += [\"ETrace_{}_{}_States\".format(lamb, states)]\n",
    "        legends += [\"Traces {} Lambda {} States 3 Gap\".format(lamb, states)]\n",
    "        t_maxs += [600001]\n",
    "            \n",
    "    \n",
    "# direc = \"/home/scratch/tabhid/Log_Files/Xp_Logs/\"\n",
    "direc = \"/home/tabz/tmp/logfiles/MedMaze10/Elig_3_Logs/\"\n",
    "# directories =  [\"{}/{}\".format(dropbox_direc, \"Maze_5_Logs/\")] + 3 * [\"{}/{}\".format(dropbox_direc, \"Maze_5_Batch_Sizes_Logs/\")] \n",
    "# directories += [direc + \"/BanditLogs/\"] * 3\n",
    "directories = direc\n",
    "    \n",
    "print(names)\n",
    "print(t_maxs)\n",
    "print(directories)"
   ]
  },
  {
   "cell_type": "code",
   "execution_count": 19,
   "metadata": {
    "collapsed": false,
    "deletable": true,
    "editable": true
   },
   "outputs": [
    {
     "name": "stdout",
     "output_type": "stream",
     "text": [
      "['Iters_1_', 'Iters_2_', 'Iters_4_', 'Iters_8_', 'Iters_16_']\n",
      "[600001, 600001, 600001, 600001, 600001]\n",
      "/home/tabz/tmp/logfiles/MedMaze10/Iters_Logs/\n"
     ]
    }
   ],
   "source": [
    "names = []\n",
    "legends = []\n",
    "t_maxs = []\n",
    "\n",
    "            \n",
    "# Iterations\n",
    "for i in [1, 2, 4, 8, 16]:\n",
    "    names += [\"Iters_{}_\".format(i)]\n",
    "    legends += [\"{} Iterations\".format(i)]\n",
    "    t_maxs += [600001]\n",
    "            \n",
    "    \n",
    "# direc = \"/home/scratch/tabhid/Log_Files/Xp_Logs/\"\n",
    "direc = \"/home/tabz/tmp/logfiles/MedMaze10/Iters_Logs/\"\n",
    "# directories =  [\"{}/{}\".format(dropbox_direc, \"Maze_5_Logs/\")] + 3 * [\"{}/{}\".format(dropbox_direc, \"Maze_5_Batch_Sizes_Logs/\")] \n",
    "# directories += [direc + \"/BanditLogs/\"] * 3\n",
    "directories = direc\n",
    "    \n",
    "print(names)\n",
    "print(t_maxs)\n",
    "print(directories)"
   ]
  },
  {
   "cell_type": "code",
   "execution_count": 20,
   "metadata": {
    "collapsed": false,
    "deletable": true,
    "editable": true
   },
   "outputs": [
    {
     "name": "stdout",
     "output_type": "stream",
     "text": [
      "['k_CountEps_', 'Trajectory_0.2_', 'Trajectory_0.5_', 'Trajectory_0.75_', 'Trajectory_0.8_', 'Trajectory_0.9_']\n",
      "[600001, 600001, 600001, 600001, 600001, 600001]\n",
      "/home/tabz/tmp/logfiles/MedMaze10/Trajectory_Logs/\n"
     ]
    }
   ],
   "source": [
    "names = []\n",
    "legends = []\n",
    "t_maxs = []\n",
    "\n",
    "names += [\"k_CountEps_\"]\n",
    "legends += [\"No Trajectory\"]\n",
    "t_maxs += [600001]\n",
    "            \n",
    "# Trajectory\n",
    "for t in [0.2, 0.5, 0.75, 0.8, 0.9]:\n",
    "    names += [\"Trajectory_{}_\".format(t)]\n",
    "    legends += [\"Trajectory {} Save\".format(t)]\n",
    "    t_maxs += [600001]\n",
    "            \n",
    "    \n",
    "# direc = \"/home/scratch/tabhid/Log_Files/Xp_Logs/\"\n",
    "direc = \"/home/tabz/tmp/logfiles/MedMaze10/Trajectory_Logs/\"\n",
    "# directories =  [\"{}/{}\".format(dropbox_direc, \"Maze_5_Logs/\")] + 3 * [\"{}/{}\".format(dropbox_direc, \"Maze_5_Batch_Sizes_Logs/\")] \n",
    "# directories += [direc + \"/BanditLogs/\"] * 3\n",
    "directories = direc\n",
    "    \n",
    "print(names)\n",
    "print(t_maxs)\n",
    "print(directories)"
   ]
  },
  {
   "cell_type": "code",
   "execution_count": 21,
   "metadata": {
    "collapsed": false,
    "deletable": true,
    "editable": true
   },
   "outputs": [
    {
     "name": "stdout",
     "output_type": "stream",
     "text": [
      "['XpSize_30k*CountDecay_0.9999', 'XpSize_30k*CountDecay_0.999999', 'XpSize_30k*CountDecay_1', 'XpSize_60k*CountDecay_0.9999', 'XpSize_60k*CountDecay_0.999999', 'XpSize_60k*CountDecay_1', 'XpSize_100k*CountDecay_0.9999', 'XpSize_100k*CountDecay_0.999999', 'XpSize_100k*CountDecay_1']\n",
      "[600001, 600001, 600001, 600001, 600001, 600001, 600001, 600001, 600001]\n",
      "/home/tabz/tmp/logfiles/CountXpSort/\n"
     ]
    }
   ],
   "source": [
    "names = []\n",
    "legends = []\n",
    "t_maxs = []\n",
    "          \n",
    "# Count Xp Sort\n",
    "for xp in [30, 60, 100]:\n",
    "    for decay in [0.9999, 0.999999, 1]:\n",
    "        names += [\"XpSize_{}k*CountDecay_{}\".format(xp, decay)]\n",
    "        legends += [\"CountXp Sort {}k Xp {} CountDecay\".format(xp, decay)]\n",
    "        t_maxs += [600001]\n",
    "            \n",
    "    \n",
    "# direc = \"/home/scratch/tabhid/Log_Files/Xp_Logs/\"\n",
    "direc = \"/home/tabz/tmp/logfiles/CountXpSort/\"\n",
    "# directories =  [\"{}/{}\".format(dropbox_direc, \"Maze_5_Logs/\")] + 3 * [\"{}/{}\".format(dropbox_direc, \"Maze_5_Batch_Sizes_Logs/\")] \n",
    "# directories += [direc + \"/BanditLogs/\"] * 3\n",
    "directories = direc\n",
    "    \n",
    "print(names)\n",
    "print(t_maxs)\n",
    "print(directories)"
   ]
  },
  {
   "cell_type": "code",
   "execution_count": 22,
   "metadata": {
    "collapsed": false,
    "deletable": true,
    "editable": true
   },
   "outputs": [
    {
     "name": "stdout",
     "output_type": "stream",
     "text": [
      "['OptimisticAction_0.1', 'OptimisticAction_1', 'OptimisticAction_10', 'k_CountEps']\n",
      "[600001, 600001, 600001, 600001]\n",
      "/home/tabz/tmp/logfiles/MedMaze12/\n"
     ]
    }
   ],
   "source": [
    "names = []\n",
    "legends = []\n",
    "t_maxs = []\n",
    "          \n",
    "# MedMaze12\n",
    "\n",
    "#Bandits\n",
    "for os in [0.1, 1, 10]:\n",
    "    names += [\"OptimisticAction_{}\".format(os)]\n",
    "    legends += [\"Bandit {} Scaler\".format(os)]\n",
    "    t_maxs += [600001]\n",
    "    \n",
    "# #-ve reward\n",
    "# for nr in [0.5, 0.7]:\n",
    "#     names += [\"NegativeReward_{}\".format(nr)]\n",
    "#     legends += [\"Negative Reward {}\".format(nr)]\n",
    "#     t_maxs += [600001]\n",
    "    \n",
    "#CountXp\n",
    "names += [\"k_CountEps\"]\n",
    "legends += [\"Counts\"]\n",
    "t_maxs += [600001]\n",
    "            \n",
    "    \n",
    "# direc = \"/home/scratch/tabhid/Log_Files/Xp_Logs/\"\n",
    "direc = \"/home/tabz/tmp/logfiles/MedMaze12/\"\n",
    "# directories =  [\"{}/{}\".format(dropbox_direc, \"Maze_5_Logs/\")] + 3 * [\"{}/{}\".format(dropbox_direc, \"Maze_5_Batch_Sizes_Logs/\")] \n",
    "# directories += [direc + \"/BanditLogs/\"] * 3\n",
    "directories = direc\n",
    "    \n",
    "print(names)\n",
    "print(t_maxs)\n",
    "print(directories)"
   ]
  },
  {
   "cell_type": "code",
   "execution_count": 23,
   "metadata": {
    "collapsed": false,
    "deletable": true,
    "editable": true
   },
   "outputs": [
    {
     "name": "stdout",
     "output_type": "stream",
     "text": [
      "['k_CountEps*Stale_50k', 'Prioritized*Stale_50k', 'Prioritized_IS*Stale_50k', 'k_CountEps*Stale_300k', 'Prioritized*Stale_300k', 'Prioritized_IS*Stale_300k']\n",
      "[600001, 600001, 600001, 600001, 600001, 600001]\n",
      "/home/tabz/tmp/logfiles/Prioritized_Logs/\n"
     ]
    }
   ],
   "source": [
    "names = []\n",
    "legends = []\n",
    "t_maxs = []\n",
    "          \n",
    "# Prioritized replay stuff\n",
    "for fresh in [50, 300]:\n",
    "    for p in [None, \"P\", \"P_IS\"]:\n",
    "        if p is \"P\":\n",
    "            names += [\"Prioritized*Stale_{}k\".format(fresh)]\n",
    "            legends += [\"Prioritized {}k Fresh Counts\".format(fresh)]\n",
    "        elif p is \"P_IS\":\n",
    "            names += [\"Prioritized_IS*Stale_{}k\".format(fresh)]\n",
    "            legends += [\"Prioritized IS {}k Fresh Counts\".format(fresh)]\n",
    "        else:\n",
    "            names += [\"k_CountEps*Stale_{}k\".format(fresh)]\n",
    "            legends += [\"{}k Fresh Counts\".format(fresh)]\n",
    "        t_maxs += [600001]\n",
    "    \n",
    "direc = \"/home/tabz/tmp/logfiles/Prioritized_Logs/\"\n",
    "env = \"Med Maze 10\"\n",
    "directories = direc\n",
    "    \n",
    "print(names)\n",
    "print(t_maxs)\n",
    "print(directories)"
   ]
  },
  {
   "cell_type": "code",
   "execution_count": 24,
   "metadata": {
    "collapsed": false,
    "deletable": true,
    "editable": true
   },
   "outputs": [
    {
     "name": "stdout",
     "output_type": "stream",
     "text": [
      "['_0.1_Mix', '_0.3_Mix', '_0.5_Mix', '_0.7_Mix', '_0.9_Mix']\n",
      "[600001, 600001, 600001, 600001, 600001]\n",
      "/home/tabz/tmp/logfiles/Mixing_Logs/\n"
     ]
    }
   ],
   "source": [
    "names = []\n",
    "legends = []\n",
    "t_maxs = []\n",
    "          \n",
    "# Mixing\n",
    "for mix in [0.1, 0.3, 0.5, 0.7, 0.9]:\n",
    "    names += [\"_{}_Mix\".format(mix)]\n",
    "    legends += [\"{} Mixing\".format(mix)]\n",
    "    t_maxs += [600001]\n",
    "    \n",
    "direc = \"/home/tabz/tmp/logfiles/Mixing_Logs/\"\n",
    "directories = direc\n",
    "\n",
    "env =\"Med Maze 10\"\n",
    "    \n",
    "print(names)\n",
    "print(t_maxs)\n",
    "print(directories)"
   ]
  },
  {
   "cell_type": "code",
   "execution_count": 25,
   "metadata": {
    "collapsed": false,
    "deletable": true,
    "editable": true
   },
   "outputs": [
    {
     "name": "stdout",
     "output_type": "stream",
     "text": [
      "['OptimisticAction_0.1', 'OptimisticAction_0.01', 'OptimisticAction_0.001', 'CountEps_0.9999_', 'CountEps_0.999_', 'CountEps_0.99_', 'CountEps_0.9_']\n",
      "[600001, 600001, 600001, 600001, 600001, 600001, 600001]\n",
      "/home/tabz/tmp/logfiles/Frontier_Logs/\n"
     ]
    }
   ],
   "source": [
    "names = []\n",
    "legends = []\n",
    "t_maxs = []\n",
    "          \n",
    "# MedMaze12\n",
    "\n",
    "#Bandits\n",
    "for os in [0.1, 0.01, 0.001]:\n",
    "    names += [\"OptimisticAction_{}\".format(os)]\n",
    "    legends += [\"Bandit {} Scaler\".format(os)]\n",
    "    t_maxs += [600001]\n",
    "    \n",
    "#Epsilon decay\n",
    "for decay in [0.9999, 0.999, 0.99, 0.9]:\n",
    "    names += [\"CountEps_{}_\".format(decay)]\n",
    "    legends += [\"Epsilon Scaling {} Decay\".format(decay)]\n",
    "    t_maxs += [600001]\n",
    "            \n",
    "    \n",
    "direc = \"/home/tabz/tmp/logfiles/Frontier_Logs/\"\n",
    "directories = direc\n",
    "env = \"Med Maze 12\"\n",
    "    \n",
    "print(names)\n",
    "print(t_maxs)\n",
    "print(directories)"
   ]
  },
  {
   "cell_type": "code",
   "execution_count": 26,
   "metadata": {
    "collapsed": false,
    "deletable": true,
    "editable": true
   },
   "outputs": [
    {
     "name": "stdout",
     "output_type": "stream",
     "text": [
      "['NegativeReward_0.1', 'NegativeReward_0.2']\n",
      "[600001, 600001]\n",
      "/home/tabz/tmp/Neg/\n"
     ]
    }
   ],
   "source": [
    "names = []\n",
    "legends = []\n",
    "t_maxs = []\n",
    "          \n",
    "# MedMaze10 Set replay negative reward\n",
    "\n",
    "for neg_reward in [0.1, 0.2]:\n",
    "    names += [\"NegativeReward_{}\".format(neg_reward)]\n",
    "    legends += [\"Negative Reward {} Set Replay\".format(neg_reward)]\n",
    "    t_maxs += [600001]            \n",
    "    \n",
    "direc = \"/home/tabz/tmp/Neg/\"\n",
    "directories = direc\n",
    "env = \"Med Maze 10 Set Replay Negative Reward\"\n",
    "    \n",
    "print(names)\n",
    "print(t_maxs)\n",
    "print(directories)"
   ]
  },
  {
   "cell_type": "code",
   "execution_count": 27,
   "metadata": {
    "collapsed": false,
    "deletable": true,
    "editable": true
   },
   "outputs": [
    {
     "name": "stdout",
     "output_type": "stream",
     "text": [
      "['_10_Step*_SetReplay_5_', '_10_Step*_SetReplay_10_', '_10_Step*_SetReplay_100_', '_100_Step*_SetReplay_5_', '_100_Step*_SetReplay_10_', '_100_Step*_SetReplay_100_']\n",
      "[600001, 600001, 600001, 600001, 600001, 600001]\n",
      "/home/tabz/tmp/logfiles/SetReplayNum/\n"
     ]
    }
   ],
   "source": [
    "names = []\n",
    "legends = []\n",
    "t_maxs = []\n",
    "          \n",
    "# MedMaze10 Set replay \n",
    "\n",
    "for step in [10, 100]:\n",
    "    for replay_num in [5, 10, 100]:\n",
    "        names += [\"_{}_Step*_SetReplay_{}_\".format(step, replay_num)]\n",
    "        legends += [\"{} Step {} SetReplay\".format(step, replay_num)]\n",
    "        t_maxs += [600001]\n",
    "    \n",
    "direc = \"/home/tabz/tmp/logfiles/SetReplayNum/\"\n",
    "directories = direc\n",
    "env = \"Med Maze 10 Set Replay Num\"\n",
    "    \n",
    "print(names)\n",
    "print(t_maxs)\n",
    "print(directories)"
   ]
  },
  {
   "cell_type": "code",
   "execution_count": 28,
   "metadata": {
    "collapsed": false,
    "deletable": true,
    "editable": true
   },
   "outputs": [
    {
     "name": "stdout",
     "output_type": "stream",
     "text": [
      "['k_BonusClip*Stale_50k', 'Prioritized*Stale_50k', 'Prioritized_OnBonus_IS*Stale_50k', 'k_BonusClip*Stale_300k', 'Prioritized*Stale_300k', 'Prioritized_OnBonus_IS*Stale_300k']\n",
      "[800001, 800001, 800001, 800001, 800001, 800001]\n",
      "/home/tabz/tmp/logfiles/Density/\n"
     ]
    }
   ],
   "source": [
    "names = []\n",
    "legends = []\n",
    "t_maxs = []\n",
    "          \n",
    "# Prioritized replay stuff\n",
    "for fresh in [50, 300]:\n",
    "        names += [\"k_BonusClip*Stale_{}k\".format(fresh)]\n",
    "        legends += [\"Uniform {}k Fresh Counts\".format(fresh)]\n",
    "        t_maxs += [800001]\n",
    "        \n",
    "        names += [\"Prioritized*Stale_{}k\".format(fresh)]\n",
    "        legends += [\"Prioritized {}k Fresh Counts\".format(fresh)]\n",
    "        t_maxs += [800001]\n",
    "\n",
    "        names += [\"Prioritized_OnBonus_IS*Stale_{}k\".format(fresh)]\n",
    "        legends += [\"Prioritized IS {}k Fresh Counts\".format(fresh)]\n",
    "        t_maxs += [800001]\n",
    "    \n",
    "direc = \"/home/tabz/tmp/logfiles/Density/\"\n",
    "env = \"Med Maze 10 Prioritized On Density\"\n",
    "directories = direc\n",
    "    \n",
    "print(names)\n",
    "print(t_maxs)\n",
    "print(directories)"
   ]
  },
  {
   "cell_type": "code",
   "execution_count": 29,
   "metadata": {
    "collapsed": false,
    "deletable": true,
    "editable": true
   },
   "outputs": [
    {
     "name": "stdout",
     "output_type": "stream",
     "text": [
      "['k_BonusClip', 'Prioritized_IS', 'Prioritized_MinusPseudo']\n",
      "[800001, 800001, 800001]\n",
      "/home/tabz/tmp/logfiles/MinusPseudo/\n"
     ]
    }
   ],
   "source": [
    "names = []\n",
    "legends = []\n",
    "t_maxs = []\n",
    "          \n",
    "# Prioritized replay stuff musing pseudo rewards\n",
    "\n",
    "names += [\"k_BonusClip\"]\n",
    "legends += [\"Uniform\"]\n",
    "\n",
    "names += [\"Prioritized_IS\"]\n",
    "legends += [\"Prioritised minus pseudo rewards IS\"]\n",
    "\n",
    "names += [\"Prioritized_MinusPseudo\"]\n",
    "legends += [\"Prioritized minus pseudo rewards\"]\n",
    "\n",
    "t_maxs += [800001 for _ in range(3)]\n",
    "    \n",
    "direc = \"/home/tabz/tmp/logfiles/MinusPseudo/\"\n",
    "env = \"Med Maze 10 Prioritized Minus PseudoReward\"\n",
    "directories = direc\n",
    "    \n",
    "print(names)\n",
    "print(t_maxs)\n",
    "print(directories)"
   ]
  },
  {
   "cell_type": "code",
   "execution_count": 30,
   "metadata": {
    "collapsed": false,
    "deletable": true,
    "editable": true
   },
   "outputs": [
    {
     "name": "stdout",
     "output_type": "stream",
     "text": [
      "['Prioritized_-1_MinusPseudo_*Stale_50k', 'Prioritized_1_MinusPseudo_*Stale_50k', 'Prioritized_-1_MinusPseudo_*Stale_300k', 'Prioritized_1_MinusPseudo_*Stale_300k']\n",
      "[800001, 800001, 800001, 800001]\n",
      "/home/tabz/tmp/FixedP/\n"
     ]
    }
   ],
   "source": [
    "names = []\n",
    "legends = []\n",
    "t_maxs = []\n",
    "          \n",
    "# Prioritized replay stuff\n",
    "for fresh in [50, 300]:\n",
    "    for scaler in [-1, 1]:\n",
    "        \n",
    "        names += [\"Prioritized_{}_MinusPseudo_*Stale_{}k\".format(scaler, fresh)]\n",
    "        legends += [\"{} Prioritized {}k Fresh Counts\".format(scaler, fresh)]\n",
    "        t_maxs += [800001]\n",
    "\n",
    "#         names += [\"Prioritized_IS_{}_MinusPseudo_*Stale_{}k\".format(scaler, fresh)]\n",
    "#         legends += [\"{} Prioritized IS {}k Fresh Counts\".format(scaler, fresh)]\n",
    "#         t_maxs += [800001]\n",
    "    \n",
    "direc = \"/home/tabz/tmp/FixedP/\"\n",
    "env = \"Med Maze 10 Prioritized On TD Error Minus Scaled PseudoReward\"\n",
    "directories = direc\n",
    "    \n",
    "print(names)\n",
    "print(t_maxs)\n",
    "print(directories)"
   ]
  },
  {
   "cell_type": "code",
   "execution_count": 31,
   "metadata": {
    "collapsed": false,
    "deletable": true,
    "editable": true
   },
   "outputs": [
    {
     "name": "stdout",
     "output_type": "stream",
     "text": [
      "['XpSize_100k_BonusClip', 'XpSize_100k_Prioritized_Bonus', 'XpSize_100k_Prioritized_IS', 'XpSize_500k_BonusClip', 'XpSize_500k_Prioritized_Bonus', 'XpSize_500k_Prioritized_IS']\n",
      "[1000001, 1000001, 1000001, 1000001, 1000001, 1000001]\n",
      "/home/tabz/tmp/Maze12Baselines/\n"
     ]
    }
   ],
   "source": [
    "names = []\n",
    "legends = []\n",
    "t_maxs = []\n",
    "          \n",
    "# Prioritized replay stuff\n",
    "for xp in [100, 500]:\n",
    "        names += [\"XpSize_{}k_BonusClip\".format(xp)]\n",
    "        legends += [\"Uniform {}k XP\".format(xp)]\n",
    "        t_maxs += [1000001]\n",
    "        \n",
    "        names += [\"XpSize_{}k_Prioritized_Bonus\".format(xp)]\n",
    "        legends += [\"Prioritized {}k XP\".format(xp)]\n",
    "        t_maxs += [1000001]\n",
    "\n",
    "        names += [\"XpSize_{}k_Prioritized_IS\".format(xp)]\n",
    "        legends += [\"Prioritized IS {}k XP\".format(xp)]\n",
    "        t_maxs += [1000001]\n",
    "    \n",
    "direc = \"/home/tabz/tmp/Maze12Baselines/\"\n",
    "env = \"Med Maze 12\"\n",
    "directories = direc\n",
    "    \n",
    "print(names)\n",
    "print(t_maxs)\n",
    "print(directories)"
   ]
  },
  {
   "cell_type": "code",
   "execution_count": 32,
   "metadata": {
    "collapsed": false,
    "deletable": true,
    "editable": true
   },
   "outputs": [
    {
     "name": "stdout",
     "output_type": "stream",
     "text": [
      "['XpSize_100k_Prioritized_0_NScaler_', 'XpSize_100k_Prioritized_1.5_NScaler_', 'XpSize_100k_Prioritized_-1.5_NScaler_', 'XpSize_500k_Prioritized_0_NScaler_', 'XpSize_500k_Prioritized_1.5_NScaler_', 'XpSize_500k_Prioritized_-1.5_NScaler_']\n",
      "[1000001, 1000001, 1000001, 1000001, 1000001, 1000001]\n",
      "/home/tabz/tmp/Maze12Prioritized/\n"
     ]
    }
   ],
   "source": [
    "names = []\n",
    "legends = []\n",
    "t_maxs = []\n",
    "          \n",
    "# Prioritized replay stuff\n",
    "for xp in [100, 500]:\n",
    "    for nscaler in [0, 1.5, -1.5]:\n",
    "        names += [\"XpSize_{}k_Prioritized_{}_NScaler_\".format(xp, nscaler)]\n",
    "        legends += [\"Prioritized {}k XP {} NScaler\".format(xp, nscaler)]\n",
    "        t_maxs += [1000001]\n",
    "    \n",
    "direc = \"/home/tabz/tmp/Maze12Prioritized/\"\n",
    "env = \"Med Maze 12 50k Fresh Counts Negative TD Error Scaling\"\n",
    "directories = direc\n",
    "    \n",
    "print(names)\n",
    "print(t_maxs)\n",
    "print(directories)"
   ]
  },
  {
   "cell_type": "code",
   "execution_count": 33,
   "metadata": {
    "collapsed": false
   },
   "outputs": [
    {
     "name": "stdout",
     "output_type": "stream",
     "text": [
      "['DensityP_BonusClip', 'DensityP_IS_BonusClip']\n",
      "[800001, 800001]\n",
      "/home/scratch/tabhid/Log_Files/DensityP/\n"
     ]
    }
   ],
   "source": [
    "names = []\n",
    "legends = []\n",
    "t_maxs = []\n",
    "          \n",
    "# Density Prioritization\n",
    "names += [\"DensityP_BonusClip\"]\n",
    "legends += [\"DensityP\"]\n",
    "t_maxs += [800001]\n",
    "\n",
    "names += [\"DensityP_IS_BonusClip\"]\n",
    "legends += [\"DensityP IS\"]\n",
    "t_maxs += [800001]\n",
    "    \n",
    "direc = \"/home/scratch/tabhid/Log_Files/DensityP/\"\n",
    "env = \"Med Maze 10 50k Fresh Counts Density Prioritization\"\n",
    "directories = direc\n",
    "    \n",
    "print(names)\n",
    "print(t_maxs)\n",
    "print(directories)"
   ]
  },
  {
   "cell_type": "code",
   "execution_count": 34,
   "metadata": {
    "collapsed": false
   },
   "outputs": [
    {
     "name": "stdout",
     "output_type": "stream",
     "text": [
      "['_0.1_Alpha', '_0.3_Alpha', '_0.5_Alpha', '_0.7_Alpha', '_0.9_Alpha']\n",
      "[800001, 800001, 800001, 800001, 800001]\n",
      "/home/scratch/tabhid/Log_Files/Alpha/\n"
     ]
    }
   ],
   "source": [
    "names = []\n",
    "legends = []\n",
    "t_maxs = []\n",
    "          \n",
    "# Prioritized replay alpha\n",
    "for alpha in [0.1, 0.3, 0.5, 0.7, 0.9]:\n",
    "    names += [\"_{}_Alpha\".format(alpha)]\n",
    "    legends += [\"{} Alpha\".format(alpha)]\n",
    "    t_maxs += [800001]\n",
    "    \n",
    "direc = \"/home/scratch/tabhid/Log_Files/Alpha/\"\n",
    "env = \"Med Maze 10 50k Fresh Counts 1.5 NScaler Alpha\"\n",
    "directories = direc\n",
    "    \n",
    "print(names)\n",
    "print(t_maxs)\n",
    "print(directories)"
   ]
  },
  {
   "cell_type": "code",
   "execution_count": 37,
   "metadata": {
    "collapsed": false
   },
   "outputs": [
    {
     "name": "stdout",
     "output_type": "stream",
     "text": [
      "['XpSize_100k_*_0.5_NScaler_*Stale_50k_', 'XpSize_100k_*_0.5_NScaler_*Stale_500k_', 'XpSize_100k_*_2_NScaler_*Stale_50k_', 'XpSize_100k_*_2_NScaler_*Stale_500k_', 'XpSize_500k_*_0.5_NScaler_*Stale_50k_', 'XpSize_500k_*_0.5_NScaler_*Stale_500k_', 'XpSize_500k_*_2_NScaler_*Stale_50k_', 'XpSize_500k_*_2_NScaler_*Stale_500k_']\n",
      "[1000001, 1000001, 1000001, 1000001, 1000001, 1000001, 1000001, 1000001]\n",
      "/home/tabz/tmp/Maze12Alpha/\n",
      "\n",
      " 8 Lines\n"
     ]
    }
   ],
   "source": [
    "names = []\n",
    "legends = []\n",
    "t_maxs = []\n",
    "          \n",
    "# Prioritized replay stuff\n",
    "for xp in [100, 500]:\n",
    "    for nscaler in [0.5, 2]:\n",
    "        for fresh in [50, 500]:\n",
    "            names += [\"XpSize_{}k_*_{}_NScaler_*Stale_{}k_\".format(xp, nscaler, fresh)]\n",
    "            legends += [\"Prioritized {}k XP {} NScaler {}k Fresh\".format(xp, nscaler, fresh)]\n",
    "            t_maxs += [1000001]\n",
    "    \n",
    "direc = \"/home/tabz/tmp/Maze12Alpha/\"\n",
    "env = \"Med Maze 12 50k Negative TD Error Scaling Alpha 0.5\"\n",
    "directories = direc\n",
    "    \n",
    "print(names)\n",
    "print(t_maxs)\n",
    "print(directories)\n",
    "print(\"\\n\", \"{} Lines\".format(len(names)))"
   ]
  },
  {
   "cell_type": "code",
   "execution_count": 42,
   "metadata": {
    "collapsed": false
   },
   "outputs": [
    {
     "name": "stdout",
     "output_type": "stream",
     "text": [
      "['_0.3_Alpha*Stale_50k_', '_0.3_Alpha*Stale_500k_', '_0.5_Alpha*Stale_50k_', '_0.5_Alpha*Stale_500k_']\n",
      "[1000001, 1000001, 1000001, 1000001]\n",
      "/home/tabz/tmp/Maze12_Prioritized_Alpha//\n",
      "\n",
      " 4 Lines\n"
     ]
    }
   ],
   "source": [
    "names = []\n",
    "legends = []\n",
    "t_maxs = []\n",
    "          \n",
    "# Prioritized replay stuff\n",
    "for alpha in [0.3, 0.5]:\n",
    "    for fresh in [50, 500]:\n",
    "        names += [\"_{}_Alpha*Stale_{}k_\".format(alpha, fresh)]\n",
    "        legends += [\"Prioritized {} Alpha {}k Fresh\".format(alpha, fresh)]\n",
    "        t_maxs += [1000001]\n",
    "    \n",
    "direc = \"/home/tabz/tmp/Maze12_Prioritized_Alpha//\"\n",
    "env = \"Med Maze 12 Alpha 500k Replay\"\n",
    "directories = direc\n",
    "    \n",
    "print(names)\n",
    "print(t_maxs)\n",
    "print(directories)\n",
    "print(\"\\n\", \"{} Lines\".format(len(names)))"
   ]
  },
  {
   "cell_type": "code",
   "execution_count": 57,
   "metadata": {
    "collapsed": false
   },
   "outputs": [
    {
     "name": "stdout",
     "output_type": "stream",
     "text": [
      "['_100_Step*_1_NScaler', '_100_Step*_2_NScaler', '_100_Step*_4_NScaler', '_100_Step*_8_NScaler']\n",
      "[600001, 600001, 600001, 600001]\n",
      "/home/tabz/tmp/Maze14_Nscaling/\n",
      "\n",
      " 4 Lines\n"
     ]
    }
   ],
   "source": [
    "names = []\n",
    "legends = []\n",
    "t_maxs = []\n",
    "          \n",
    "# Prioritized replay stuff\n",
    "for step in [100]:\n",
    "    for nscaler in [1, 2, 4, 8]:\n",
    "        names += [\"_{}_Step*_{}_NScaler\".format(step, nscaler)]\n",
    "        legends += [\"{} Step {} Nscaling\".format(step, nscaler)]\n",
    "        t_maxs += [600001]\n",
    "    \n",
    "direc = \"/home/tabz/tmp/Maze14_Nscaling/\"\n",
    "env = \"Med Maze 14 Prioritized 300k XP Replay Stale\"\n",
    "directories = direc\n",
    "    \n",
    "print(names)\n",
    "print(t_maxs)\n",
    "print(directories)\n",
    "print(\"\\n\", \"{} Lines\".format(len(names)))"
   ]
  },
  {
   "cell_type": "code",
   "execution_count": 72,
   "metadata": {
    "collapsed": false
   },
   "outputs": [
    {
     "name": "stdout",
     "output_type": "stream",
     "text": [
      "['_OptimisticAction_']\n",
      "[600001]\n",
      "/home/tabz/tmp/Maze14_Frontier/\n",
      "\n",
      " 1 Lines\n"
     ]
    }
   ],
   "source": [
    "names = []\n",
    "legends = []\n",
    "t_maxs = []\n",
    "          \n",
    "# Prioritized replay stuff\n",
    "# for eps_decay in [0.9, 0.99, 0.999]:\n",
    "#     names += [\"_CountEps_{}_Decay\".format(eps_decay)]\n",
    "#     legends += [\"{} Eps Decay\".format(eps_decay)]\n",
    "#     t_maxs += [600001]\n",
    "    \n",
    "names += [\"_OptimisticAction_\"]\n",
    "legends += [\"0.1 Bandit\"]\n",
    "t_maxs += [600001]\n",
    "    \n",
    "direc = \"/home/tabz/tmp/Maze14_Frontier/\"\n",
    "env = \"Med Maze 14 Prioritized 300k XP Replay Stale Frontier\"\n",
    "directories = direc\n",
    "    \n",
    "print(names)\n",
    "print(t_maxs)\n",
    "print(directories)\n",
    "print(\"\\n\", \"{} Lines\".format(len(names)))"
   ]
  },
  {
   "cell_type": "code",
   "execution_count": 73,
   "metadata": {
    "collapsed": true,
    "deletable": true,
    "editable": true
   },
   "outputs": [],
   "source": [
    "import itertools"
   ]
  },
  {
   "cell_type": "code",
   "execution_count": 74,
   "metadata": {
    "collapsed": false,
    "deletable": true,
    "editable": true
   },
   "outputs": [],
   "source": [
    "from bokeh.palettes import magma, inferno, Set1, Set3, Paired, Dark2"
   ]
  },
  {
   "cell_type": "code",
   "execution_count": 75,
   "metadata": {
    "collapsed": false,
    "deletable": true,
    "editable": true
   },
   "outputs": [],
   "source": [
    "if len(names) <= 2:\n",
    "    colours = [\"red\", \"green\"]\n",
    "elif len(names) > 10:\n",
    "    colours = Paired[len(names)]\n",
    "else:\n",
    "    colours = Set1[len(names)]"
   ]
  },
  {
   "cell_type": "code",
   "execution_count": 76,
   "metadata": {
    "collapsed": false,
    "deletable": true,
    "editable": true
   },
   "outputs": [
    {
     "data": {
      "text/html": [
       "\n",
       "\n",
       "    <div class=\"bk-root\">\n",
       "        <div class=\"bk-plotdiv\" id=\"844707c6-6118-41ec-bf43-c6a2b368e67b\"></div>\n",
       "    </div>\n",
       "<script type=\"text/javascript\">\n",
       "  \n",
       "  (function(global) {\n",
       "    function now() {\n",
       "      return new Date();\n",
       "    }\n",
       "  \n",
       "    var force = false;\n",
       "  \n",
       "    if (typeof (window._bokeh_onload_callbacks) === \"undefined\" || force === true) {\n",
       "      window._bokeh_onload_callbacks = [];\n",
       "      window._bokeh_is_loading = undefined;\n",
       "    }\n",
       "  \n",
       "  \n",
       "    \n",
       "    if (typeof (window._bokeh_timeout) === \"undefined\" || force === true) {\n",
       "      window._bokeh_timeout = Date.now() + 0;\n",
       "      window._bokeh_failed_load = false;\n",
       "    }\n",
       "  \n",
       "    var NB_LOAD_WARNING = {'data': {'text/html':\n",
       "       \"<div style='background-color: #fdd'>\\n\"+\n",
       "       \"<p>\\n\"+\n",
       "       \"BokehJS does not appear to have successfully loaded. If loading BokehJS from CDN, this \\n\"+\n",
       "       \"may be due to a slow or bad network connection. Possible fixes:\\n\"+\n",
       "       \"</p>\\n\"+\n",
       "       \"<ul>\\n\"+\n",
       "       \"<li>re-rerun `output_notebook()` to attempt to load from CDN again, or</li>\\n\"+\n",
       "       \"<li>use INLINE resources instead, as so:</li>\\n\"+\n",
       "       \"</ul>\\n\"+\n",
       "       \"<code>\\n\"+\n",
       "       \"from bokeh.resources import INLINE\\n\"+\n",
       "       \"output_notebook(resources=INLINE)\\n\"+\n",
       "       \"</code>\\n\"+\n",
       "       \"</div>\"}};\n",
       "  \n",
       "    function display_loaded() {\n",
       "      if (window.Bokeh !== undefined) {\n",
       "        document.getElementById(\"844707c6-6118-41ec-bf43-c6a2b368e67b\").textContent = \"BokehJS successfully loaded.\";\n",
       "      } else if (Date.now() < window._bokeh_timeout) {\n",
       "        setTimeout(display_loaded, 100)\n",
       "      }\n",
       "    }\n",
       "  \n",
       "    function run_callbacks() {\n",
       "      window._bokeh_onload_callbacks.forEach(function(callback) { callback() });\n",
       "      delete window._bokeh_onload_callbacks\n",
       "      console.info(\"Bokeh: all callbacks have finished\");\n",
       "    }\n",
       "  \n",
       "    function load_libs(js_urls, callback) {\n",
       "      window._bokeh_onload_callbacks.push(callback);\n",
       "      if (window._bokeh_is_loading > 0) {\n",
       "        console.log(\"Bokeh: BokehJS is being loaded, scheduling callback at\", now());\n",
       "        return null;\n",
       "      }\n",
       "      if (js_urls == null || js_urls.length === 0) {\n",
       "        run_callbacks();\n",
       "        return null;\n",
       "      }\n",
       "      console.log(\"Bokeh: BokehJS not loaded, scheduling load and callback at\", now());\n",
       "      window._bokeh_is_loading = js_urls.length;\n",
       "      for (var i = 0; i < js_urls.length; i++) {\n",
       "        var url = js_urls[i];\n",
       "        var s = document.createElement('script');\n",
       "        s.src = url;\n",
       "        s.async = false;\n",
       "        s.onreadystatechange = s.onload = function() {\n",
       "          window._bokeh_is_loading--;\n",
       "          if (window._bokeh_is_loading === 0) {\n",
       "            console.log(\"Bokeh: all BokehJS libraries loaded\");\n",
       "            run_callbacks()\n",
       "          }\n",
       "        };\n",
       "        s.onerror = function() {\n",
       "          console.warn(\"failed to load library \" + url);\n",
       "        };\n",
       "        console.log(\"Bokeh: injecting script tag for BokehJS library: \", url);\n",
       "        document.getElementsByTagName(\"head\")[0].appendChild(s);\n",
       "      }\n",
       "    };var element = document.getElementById(\"844707c6-6118-41ec-bf43-c6a2b368e67b\");\n",
       "    if (element == null) {\n",
       "      console.log(\"Bokeh: ERROR: autoload.js configured with elementid '844707c6-6118-41ec-bf43-c6a2b368e67b' but no matching script tag was found. \")\n",
       "      return false;\n",
       "    }\n",
       "  \n",
       "    var js_urls = [];\n",
       "  \n",
       "    var inline_js = [\n",
       "      function(Bokeh) {\n",
       "        (function() {\n",
       "          var fn = function() {\n",
       "            var docs_json = {\"bacb2aff-e6db-4a19-b220-06f6b718efee\":{\"roots\":{\"references\":[{\"attributes\":{\"data_source\":{\"id\":\"41fef4fc-a112-47d0-a9af-3a5dff0046b8\",\"type\":\"ColumnDataSource\"},\"glyph\":{\"id\":\"baa7e475-f8dd-48c2-9de8-77b2d7c91731\",\"type\":\"Line\"},\"hover_glyph\":null,\"nonselection_glyph\":{\"id\":\"373f0ebb-36ad-43ed-8c9a-cf2288490643\",\"type\":\"Line\"},\"selection_glyph\":null},\"id\":\"ec2b4bd5-4701-442a-83ae-1a1b4f5db4d8\",\"type\":\"GlyphRenderer\"},{\"attributes\":{\"bottom_units\":\"screen\",\"fill_alpha\":{\"value\":0.5},\"fill_color\":{\"value\":\"lightgrey\"},\"left_units\":\"screen\",\"level\":\"overlay\",\"line_alpha\":{\"value\":1.0},\"line_color\":{\"value\":\"black\"},\"line_dash\":[4,4],\"line_width\":{\"value\":2},\"plot\":null,\"render_mode\":\"css\",\"right_units\":\"screen\",\"top_units\":\"screen\"},\"id\":\"e8ef1532-6b98-4d07-afa2-00befb6c68fb\",\"type\":\"BoxAnnotation\"},{\"attributes\":{},\"id\":\"3aad374d-01c9-40e7-993c-fd4e46f1a6db\",\"type\":\"BasicTickFormatter\"},{\"attributes\":{\"plot\":{\"id\":\"b8778565-cbe5-4126-beff-2a72ea79c54a\",\"subtype\":\"Figure\",\"type\":\"Plot\"}},\"id\":\"c03601ff-64ee-4874-9946-5a43326f8760\",\"type\":\"ResetTool\"},{\"attributes\":{\"overlay\":{\"id\":\"e8ef1532-6b98-4d07-afa2-00befb6c68fb\",\"type\":\"BoxAnnotation\"},\"plot\":{\"id\":\"b8778565-cbe5-4126-beff-2a72ea79c54a\",\"subtype\":\"Figure\",\"type\":\"Plot\"}},\"id\":\"146e406f-3947-4e29-9027-14697a4a4f9b\",\"type\":\"BoxZoomTool\"},{\"attributes\":{\"below\":[{\"id\":\"d4cae2d7-0562-4169-ab80-48438db2a2c0\",\"type\":\"LinearAxis\"}],\"left\":[{\"id\":\"7fe94b26-0e61-4d7a-807f-83631b56bf94\",\"type\":\"LinearAxis\"}],\"plot_height\":800,\"plot_width\":1200,\"renderers\":[{\"id\":\"d4cae2d7-0562-4169-ab80-48438db2a2c0\",\"type\":\"LinearAxis\"},{\"id\":\"e5e6c0bf-0e0d-4a81-9ac1-a6e9191a5b33\",\"type\":\"Grid\"},{\"id\":\"7fe94b26-0e61-4d7a-807f-83631b56bf94\",\"type\":\"LinearAxis\"},{\"id\":\"2f52b5ff-2d33-4f4a-b671-f49c7fae9e3b\",\"type\":\"Grid\"},{\"id\":\"e8ef1532-6b98-4d07-afa2-00befb6c68fb\",\"type\":\"BoxAnnotation\"},{\"id\":\"ec2b4bd5-4701-442a-83ae-1a1b4f5db4d8\",\"type\":\"GlyphRenderer\"},{\"id\":\"c4330a5f-bef2-48b7-bddd-3d1ad9bced1e\",\"type\":\"Legend\"}],\"right\":[{\"id\":\"c4330a5f-bef2-48b7-bddd-3d1ad9bced1e\",\"type\":\"Legend\"}],\"title\":{\"id\":\"421c2c06-45b4-45ad-bd14-7d2ddf53d3ba\",\"type\":\"Title\"},\"tool_events\":{\"id\":\"74fe5a55-2f9f-4eac-8d7b-d99ea2af3893\",\"type\":\"ToolEvents\"},\"toolbar\":{\"id\":\"dcb82986-b249-475f-96d9-ad947a51ff10\",\"type\":\"Toolbar\"},\"toolbar_location\":\"above\",\"x_range\":{\"id\":\"706a0b3d-b1e6-4ce5-99f5-9f34e8b503e8\",\"type\":\"DataRange1d\"},\"y_range\":{\"id\":\"939a30a5-44a5-431e-98ac-cb0f3f4ca189\",\"type\":\"Range1d\"}},\"id\":\"b8778565-cbe5-4126-beff-2a72ea79c54a\",\"subtype\":\"Figure\",\"type\":\"Plot\"},{\"attributes\":{\"callback\":null},\"id\":\"706a0b3d-b1e6-4ce5-99f5-9f34e8b503e8\",\"type\":\"DataRange1d\"},{\"attributes\":{},\"id\":\"74fe5a55-2f9f-4eac-8d7b-d99ea2af3893\",\"type\":\"ToolEvents\"},{\"attributes\":{},\"id\":\"b7fcbda5-baaa-494c-837f-98dcc4c7e17d\",\"type\":\"BasicTicker\"},{\"attributes\":{\"items\":[{\"id\":\"ce9ae10a-9231-46d6-8650-4f2d4d468a9a\",\"type\":\"LegendItem\"}],\"location\":[0,-30],\"plot\":{\"id\":\"b8778565-cbe5-4126-beff-2a72ea79c54a\",\"subtype\":\"Figure\",\"type\":\"Plot\"}},\"id\":\"c4330a5f-bef2-48b7-bddd-3d1ad9bced1e\",\"type\":\"Legend\"},{\"attributes\":{\"active_drag\":\"auto\",\"active_scroll\":\"auto\",\"active_tap\":\"auto\",\"tools\":[{\"id\":\"0d30e9af-2dde-449c-8f39-763e473c5d7f\",\"type\":\"PanTool\"},{\"id\":\"0269b90a-7e1a-4307-a15d-5151848ee825\",\"type\":\"WheelZoomTool\"},{\"id\":\"146e406f-3947-4e29-9027-14697a4a4f9b\",\"type\":\"BoxZoomTool\"},{\"id\":\"0cf1d6a2-010e-4e3f-8c5a-3bebd270cc79\",\"type\":\"SaveTool\"},{\"id\":\"c03601ff-64ee-4874-9946-5a43326f8760\",\"type\":\"ResetTool\"},{\"id\":\"2f2b9246-2788-4b4b-9ab9-ef9a00293aed\",\"type\":\"HelpTool\"}]},\"id\":\"dcb82986-b249-475f-96d9-ad947a51ff10\",\"type\":\"Toolbar\"},{\"attributes\":{\"line_alpha\":{\"value\":0.1},\"line_color\":{\"value\":\"#1f77b4\"},\"line_width\":{\"value\":2},\"x\":{\"field\":\"x\"},\"y\":{\"field\":\"y\"}},\"id\":\"373f0ebb-36ad-43ed-8c9a-cf2288490643\",\"type\":\"Line\"},{\"attributes\":{\"plot\":null,\"text\":\"Med Maze 14 Prioritized 300k XP Replay Stale Frontier\"},\"id\":\"421c2c06-45b4-45ad-bd14-7d2ddf53d3ba\",\"type\":\"Title\"},{\"attributes\":{\"plot\":{\"id\":\"b8778565-cbe5-4126-beff-2a72ea79c54a\",\"subtype\":\"Figure\",\"type\":\"Plot\"}},\"id\":\"2f2b9246-2788-4b4b-9ab9-ef9a00293aed\",\"type\":\"HelpTool\"},{\"attributes\":{\"callback\":null,\"column_names\":[\"x\",\"y\"],\"data\":{\"x\":[0,1000,2000,3000,4000,5000,6000,7000,8000,9000,10000,11000,12000,13000,14000,15000,16000,17000,18000,19000,20000,21000,22000,23000,24000,25000,26000,27000,28000,29000,30000,31000,32000,33000,34000,35000,36000,37000,38000,39000,40000,41000,42000,43000,44000,45000,46000,47000,48000,49000,50000,51000,52000,53000,54000,55000,56000,57000,58000,59000,60000,61000,62000,63000,64000,65000,66000,67000,68000,69000,70000,71000,72000,73000,74000,75000,76000,77000,78000,79000,80000,81000,82000,83000,84000,85000,86000,87000,88000,89000,90000,91000,92000,93000,94000,95000,96000,97000,98000,99000,100000,101000,102000,103000,104000,105000,106000,107000,108000,109000,110000,111000,112000,113000,114000,115000,116000,117000,118000,119000,120000,121000,122000,123000,124000,125000,126000,127000,128000,129000,130000,131000,132000,133000,134000,135000,136000,137000,138000,139000,140000,141000,142000,143000,144000,145000,146000,147000,148000,149000,150000,151000,152000,153000,154000,155000,156000,157000,158000,159000,160000,161000,162000,163000,164000,165000,166000,167000,168000,169000,170000,171000,172000,173000,174000,175000,176000,177000,178000,179000,180000,181000,182000,183000,184000,185000,186000,187000,188000,189000,190000,191000,192000,193000,194000,195000,196000,197000,198000,199000,200000,201000,202000,203000,204000,205000,206000,207000,208000,209000,210000,211000,212000,213000,214000,215000,216000,217000,218000,219000,220000,221000,222000,223000,224000,225000,226000,227000,228000,229000,230000,231000,232000,233000,234000,235000,236000,237000,238000,239000,240000,241000,242000,243000,244000,245000,246000,247000,248000,249000,250000,251000,252000,253000,254000,255000,256000,257000,258000,259000,260000,261000,262000,263000,264000,265000,266000,267000,268000,269000,270000,271000,272000,273000,274000,275000,276000,277000,278000,279000,280000,281000,282000,283000,284000,285000,286000,287000,288000,289000,290000,291000,292000,293000,294000,295000,296000,297000,298000,299000,300000,301000,302000,303000,304000,305000,306000,307000,308000,309000,310000,311000,312000,313000,314000,315000,316000,317000,318000,319000,320000,321000,322000,323000,324000,325000,326000,327000,328000,329000,330000,331000,332000,333000,334000,335000,336000,337000,338000,339000,340000,341000,342000,343000,344000,345000,346000,347000,348000,349000,350000,351000,352000,353000,354000,355000,356000,357000,358000,359000,360000,361000,362000,363000,364000,365000,366000,367000,368000,369000,370000,371000,372000,373000,374000,375000,376000,377000,378000,379000,380000,381000,382000,383000,384000,385000,386000,387000,388000,389000,390000,391000,392000,393000,394000,395000,396000,397000,398000,399000,400000,401000,402000,403000,404000,405000,406000,407000,408000,409000,410000,411000,412000,413000,414000,415000,416000,417000,418000,419000,420000,421000,422000,423000,424000,425000,426000,427000,428000,429000,430000,431000,432000,433000,434000,435000,436000,437000,438000,439000,440000,441000,442000,443000,444000,445000,446000,447000,448000,449000,450000,451000,452000,453000,454000,455000,456000,457000,458000,459000,460000,461000,462000,463000,464000,465000,466000,467000,468000,469000,470000,471000,472000,473000,474000,475000,476000,477000,478000,479000,480000,481000,482000,483000,484000,485000,486000,487000,488000,489000,490000,491000,492000,493000,494000,495000,496000,497000,498000,499000,500000,501000,502000,503000,504000,505000,506000,507000,508000,509000,510000,511000,512000,513000,514000,515000,516000,517000,518000,519000,520000,521000,522000,523000,524000,525000,526000,527000,528000,529000,530000,531000,532000,533000,534000,535000,536000,537000,538000,539000,540000,541000,542000,543000,544000,545000,546000,547000,548000,549000,550000,551000,552000,553000,554000,555000,556000,557000,558000,559000,560000,561000,562000,563000,564000,565000,566000,567000,568000,569000,570000,571000,572000,573000,574000,575000,576000,577000,578000,579000,580000,581000,582000,583000,584000,585000,586000,587000,588000,589000,590000,591000,592000,593000,594000,595000,596000,597000,598000,599000,600000],\"y\":{\"__ndarray__\":\"AAAAAAAAAAAAAAAAAAAAAAAAAAAAAAAAAAAAAAAAAAAAAAAAAAAAAAAAAAAAAAAAAAAAAAAAAAAAAAAAAAAAAAAAAAAAAAAAAAAAAAAAAAAAAAAAAAAAAAAAAAAAAAAAAAAAAAAAAAAAAAAAAAAAAAAAAAAAAAAAAAAAAAAAAAAAAAAAAAAAAAAAAAAAAAAAAAAAAAAAAAAAAAAAAAAAAAAAAAAAAAAAAAAAAAAAAAAAAAAAAAAAAAAAAAAAAAAAAAAAAAAAAAAAAAAAAAAAAAAAAAAAAAAAAAAAAAAAAAAAAAAAAAAAAAAAAAAAAAAAAAAAAAAAAAAAAAAAAAAAAAAAAAAAAAAAAAAAAAAAAAAAAAAAAAAAAAAAAAAAAAAAAAAAAAAAAAAAAAAAAAAAAAAAAAAAAAAAAAAAAAAAAAAAAAAAAAAAAAAAAAAAAAAAAAAAAAAAAAAAAAAAAAAAAAAAAAAAAAAAAAAAAAAAAAAAAAAAAAAAAAAAAAAAAAAAAAAAAAAAAAAAAAAAAAAAAAAAAAAAAAAAAAAAAAAAAAAAAAAAAAAAAAAAAAAAAAAAAAAAAAAAAAAAAAAAAAAAAAAAAAAAAAAAAAAAAAAAAAAAAAAAAAAAAAAAAAAAAAAAAAAAAAAAAAAAAAAAAAAAAAAAAAAAAAAAAAAAAAAAAAAAAAAAAAAAAAAAAAAAAAAAAAAAAAAAAAAAAAAAAAAAAAAAAAAAAAAAAAAAAAAAAAAAAAAAAAAAAAAAAAAAAAAAAAAAAAAAAAAAAAAAAAAAAAAAAAAAAAAAAAAAAAAAAAAAAAAAAAAAAAAAAAAAAAAAAAAAAAAAAAAAAAAAAAAAAAAAAAAAAAAAAAAAAAAAAAAAAAAAAAAAAAAAAAAAAAAAAAAAAAAAAAAAAAAAAAAAAAAAAAAAAAAAAAAAAAAAAAAAAAAAAAAAAAAAAAAAAAAAAAAAAAAAAAAAAAAAAAAAAAAAAAAAAAAAAAAAAAAAAAAAAAAAAAAAAAAAAAAAAAAAAAAAAAAAAAAAAAAAAAAAAAAAAAAAAAAAAAAAAAAAAAAAAAAAAAAAAAAAAAAAAAAAAAAAAAAAAAAAAAAAAAAAAAAAAAAAAAAAAAAAAAAAAAAAAAAAAAAAAAAAAAAAAAAAAAAAAAAAAAAAAAAAAAAAAAAAAAAAAAAAAAAAAAAAAAAAAAAAAAAAAAAAAAAAAAAAAAAAAAAAAAAAAAAAAAAAAAAAAAAAAAAAAAAAAAAAAAAAAAAAAAAAAAAAAAAAAAAAAAAAAAAAAAAAAAAAAAAAAAAAAAAAAAAAMAvBLASzgD/JkCFDhgyZP/xN8TfF36Q/ldNRTkc5rT+WLFmyZMmyP2Nvib0l9rY/L7K5yOYiuz/79OnTp0+/P+MbjW80vsE/ST0l9ZTUwz+wXr169erFPxaAVQBWAcg/fKHthbYXyj/iwoULFy7MP0jkHZF3RM4/AAAAAAAA0D8AAAAAAADQPwAAAAAAANA/AAAAAAAA0D8AAAAAAADQPwAAAAAAANA/AAAAAAAA0D8AAAAAAADQPwAAAAAAANA/AAAAAAAA0D8AAAAAAADQPwAAAAAAANA/AAAAAAAA0D8AAAAAAADQPwAAAAAAANA/AAAAAAAA0D8AAAAAAADQPwAAAAAAANA/AAAAAAAA0D8AAAAAAADQPwAAAAAAANA/AAAAAAAA0D8AAAAAAADQPwAAAAAAANA/AAAAAAAA0D8AAAAAAADQPwAAAAAAANA/AAAAAAAA0D8AAAAAAADQP////////88/AAAAAAAA0D8AAAAAAADQP////////88/AAAAAAAA0D+PYqkCfF7RP6wn/Ad0G9Q/yexODWzY1j/msaESZJXZPwJ39BdcUtw/IDxHHVQP3z+fAE0RJubgPy5j9hOiROI/vMWfFh6j4z9KKEkZmgHlP8jQ2YUMneU/kl7iJOkl5j9c7OrDxa7mPyZ682KiN+c/8Af8AX/A5z8AAAAAAADoPwAAAAAAAOg/AAAAAAAA6D8AAAAAAADoPwAAAAAAAOg/AAAAAAAA6D8AAAAAAADoPwAAAAAAAOg/AAAAAAAA6D8AAAAAAADoPwAAAAAAAOg/AAAAAAAA6D8AAAAAAADoPwAAAAAAAOg/AAAAAAAA6D8AAAAAAADoPwAAAAAAAOg/AAAAAAAA6D8AAAAAAADoPwAAAAAAAOg/AAAAAAAA6D8AAAAAAADoPwAAAAAAAOg/AAAAAAAA6D8AAAAAAADoPwAAAAAAAOg/AAAAAAAA6D8AAAAAAADoPwAAAAAAAOg/AAAAAAAA6D8AAAAAAADoPwAAAAAAAOg/AAAAAAAA6D8AAAAAAADoPwAAAAAAAOg/AAAAAAAA6D8AAAAAAADoPwAAAAAAAOg/AAAAAAAA6D8AAAAAAADoPwAAAAAAAOg/AAAAAAAA6D8AAAAAAADoPwAAAAAAAOg/AAAAAAAA6D8AAAAAAADoPwAAAAAAAOg/AAAAAAAA6D8AAAAAAADoPwAAAAAAAOg/AAAAAAAA6D8AAAAAAADoPwAAAAAAAOg/AAAAAAAA6D8AAAAAAADoPwAAAAAAAOg/AAAAAAAA6D8AAAAAAADoPwAAAAAAAOg/AAAAAAAA6D8AAAAAAADoPwAAAAAAAOg/AAAAAAAA6D8AAAAAAADoPwAAAAAAAOg/AAAAAAAA6D8AAAAAAADoPwAAAAAAAOg/AAAAAAAA6D8AAAAAAADoPwAAAAAAAOg/AAAAAAAA6D8AAAAAAADoPwAAAAAAAOg/AAAAAAAA6D8AAAAAAADoPwAAAAAAAOg/AAAAAAAA6D8AAAAAAADoPwAAAAAAAOg/AAAAAAAA6D8AAAAAAADoPwAAAAAAAOg/AAAAAAAA6D8AAAAAAADoPwAAAAAAAOg/AAAAAAAA6D8AAAAAAADoPwAAAAAAAOg/AAAAAAAA6D8AAAAAAADoPwAAAAAAAOg/AAAAAAAA6D8AAAAAAADoPwAAAAAAAOg/AAAAAAAA6D8AAAAAAADoPwAAAAAAAOg/AAAAAAAA6D8AAAAAAADoPwAAAAAAAOg/AAAAAAAA6D8AAAAAAADoPwAAAAAAAOg/AAAAAAAA6D8AAAAAAADoPwAAAAAAAOg/AAAAAAAA6D8AAAAAAADoPwAAAAAAAOg/AAAAAAAA6D8AAAAAAADoPwAAAAAAAOg/AAAAAAAA6D8AAAAAAADoPwAAAAAAAOg/AAAAAAAA6D8AAAAAAADoPwAAAAAAAOg/AAAAAAAA6D8AAAAAAADoPwAAAAAAAOg/AAAAAAAA6D8AAAAAAADoPwAAAAAAAOg/AAAAAAAA6D8AAAAAAADoPwAAAAAAAOg/AAAAAAAA6D8AAAAAAADoPwAAAAAAAOg/AAAAAAAA6D8AAAAAAADoPwAAAAAAAOg/AAAAAAAA6D8AAAAAAADoPwAAAAAAAOg/AAAAAAAA6D8AAAAAAADoPwAAAAAAAOg/AAAAAAAA6D8AAAAAAADoPwAAAAAAAOg/AAAAAAAA6D8AAAAAAADoPwAAAAAAAOg/AAAAAAAA6D8AAAAAAADoPwAAAAAAAOg/AAAAAAAA6D8AAAAAAADoPwAAAAAAAOg/AAAAAAAA6D8AAAAAAADoPwAAAAAAAOg/AAAAAAAA6D8AAAAAAADoPwAAAAAAAOg/AAAAAAAA6D8AAAAAAADoPwAAAAAAAOg/AAAAAAAA6D8AAAAAAADoPwAAAAAAAOg/AAAAAAAA6D8AAAAAAADoPwAAAAAAAOg/AAAAAAAA6D8AAAAAAADoPwAAAAAAAOg/AAAAAAAA6D/////////nPwAAAAAAAOg/AAAAAAAA6D8AAAAAAADoPwAAAAAAAOg/AAAAAAAA6D8AAAAAAADoPwAAAAAAAOg/AAAAAAAA6D8AAAAAAADoP+yCsAvCLug/xIgRI0aM6D+djnI6yunoP3WU01FOR+k/TZo0adKk6T8loJWAVgLqP/6l9pfaX+o/1qtXr1696j+usbjG4hrrP4a3Gd5meOs/X7169erV6z83w9sMbzPsPw/JPCTzkOw/6M6dO3fu7D/A1P5S+0vtP5jaX2p/qe0/cODAgQMH7j9I5iGZh2TuPyHsgrALwu4/+fHjx48f7z/R90TfE33vP6r9pfaX2u8/AAAAAAAA8D8AAAAAAADwPwAAAAAAAPA/AAAAAAAA8D8AAAAAAADwPwAAAAAAAPA/AAAAAAAA8D8AAAAAAADwPwAAAAAAAPA/AAAAAAAA8D8AAAAAAADwPwAAAAAAAPA/AAAAAAAA8D8AAAAAAADwPwAAAAAAAPA/AAAAAAAA8D8AAAAAAADwPwAAAAAAAPA/AAAAAAAA8D8AAAAAAADwPwAAAAAAAPA/AAAAAAAA8D8AAAAAAADwPwAAAAAAAPA/AAAAAAAA8D8AAAAAAADwPwAAAAAAAPA/AAAAAAAA8D8AAAAAAADwPwAAAAAAAPA/AAAAAAAA8D8AAAAAAADwPwAAAAAAAPA/AAAAAAAA8D8AAAAAAADwPwAAAAAAAPA/AAAAAAAA8D8AAAAAAADwPyx70Zy42+8/F780GiGI7z8CA5iXiTTvP+5G+xTy4O4/2IpeklqN7j/EzsEPwznuP68SJY0r5u0/mlaICpSS7T+FmuuH/D7tP3DeTgVl6+w/WyKygs2X7D9GZhUANkTsPzGqeH2e8Os/HO7b+gad6z8IMj94b0nrP/N1ovXX9eo/3rkFc0Ci6j/J/WjwqE7qP7RBzG0R++k/n4Uv63mn6T+KyZJo4lPpP3UN9uVKAOk/YFFZY7Os6D9MlbzgG1noPzfZH16EBeg/ub5dC2Vh6D8WtYNo7nvoP0mecM6dkOg/e4ddNE2l6D+ucEqa/LnoP+BZNwCszug/E0MkZlvj6D9FLBHMCvjoP3gV/jG6DOk/qv7ql2kh6T/d59f9GDbpPw/RxGPISuk/QrqxyXdf6T91o54vJ3TpP6eMi5XWiOk/2nV4+4Wd6T8MX2VhNbLpPz5IUsfkxuk/cTE/LZTb6T+dF5dFm9HpP4hb+sIDfuk/dJ9dQGwq6T9f48C91NboP0onJDs9g+g/NWuHuKUv6D8AAAAAAADoPwAAAAAAAOg/AAAAAAAA6D8AAAAAAADoPwAAAAAAAOg/AAAAAAAA6D8AAAAAAADoPwAAAAAAAOg/AAAAAAAA6D8AAAAAAADoPwAAAAAAAOg/AAAAAAAA6D8AAAAAAADoPwAAAAAAAOg/AAAAAAAA6D8AAAAAAADoPwAAAAAAAOg/AAAAAAAA6D8AAAAAAADoPwAAAAAAAOg/AAAAAAAA6D8AAAAAAADoPwAAAAAAAOg/AAAAAAAA6D8AAAAAAADoPwAAAAAAAOg/bPNA5gfv5z9WN6RjcJvnP0J7B+HYR+c/Lb9qXkH05j8YA87bqaDmPwNHMVkSTeY/7oqU1nr55T/ZzvdT46XlP8QSW9FLUuU/r1a+TrT+5D+amiHMHKvkP4behEmFV+Q/cCLoxu0D5D9cZktEVrDjP0eqrsG+XOM/Mu4RPycJ4z8dMnW8j7XiPwh22Dn4YeI/87k7t2AO4j/e/Z40ybrhP8lBArIxZ+E/tIVlL5oT4T+gycisAsDgP4wg7IiFsOA/kpxJEk/74D/sMEGl0r/hP6bUnGfDt+I/X3j4KbSv4z8ZHFTspKfkP9K/r66Vn+U/jGMLcYaX5j9FB2czd4/nP/+qwvVnh+g/uE4euFh/6T9y8nl6SXfqPyuW1Tw6b+s/djy0qWzu6z8A7HjdZPTrP4qbPRFd+us/E0sCRVUA7D+d+sZ4TQbsPyaqi6xFDOw/sFlQ4D0S7D86CRUUNhjsP8O42UcuHuw/TGieeyYk7D/XF2OvHirsP2DHJ+MWMOw/77MLiE2l6z/FO9KCHv7qP5vDmH3vVuo/cUtfeMCv6T9H0yVzkQjpPx1b7G1iYeg/8+KyaDO65z/KanljBBPnP6DyP17Va+Y/d3oGWabE5T9MAs1Tdx3lPyOKk05IduQ/+RFaSRnP4z/r9FY8FkPkP58m2b9bt+Q/VFhbQ6Er5T8Iit3G5p/lP767X0osFOY/c+3hzXGI5j8nH2RRt/zmP9xQ5tT8cOc/kIJoWELl5z9FtOrbh1noPxawV0aBN+g/rMnnBSRC6D/V3ujy/AbpP/7z6d/Vy+k/JwnrzK6Q6j9QHuy5h1XrP3oz7aZgGuw/o0jukznf7D/MXe+AEqTtP/Zy8G3raO4/H4jxWsQt7z9InfJHnfLvPwAAAAAAAPA/AAAAAAAA8D8AAAAAAADwPwAAAAAAAPA/AAAAAAAA8D8AAAAAAADwPwAAAAAAAPA/AAAAAAAA8D8AAAAAAADwPwAAAAAAAPA/AAAAAAAA8D8AAAAAAADwPwAAAAAAAPA/AAAAAAAA8D8=\",\"dtype\":\"float64\",\"shape\":[601]}}},\"id\":\"41fef4fc-a112-47d0-a9af-3a5dff0046b8\",\"type\":\"ColumnDataSource\"},{\"attributes\":{\"label\":{\"value\":\"0.1 Bandit\"},\"renderers\":[{\"id\":\"ec2b4bd5-4701-442a-83ae-1a1b4f5db4d8\",\"type\":\"GlyphRenderer\"}]},\"id\":\"ce9ae10a-9231-46d6-8650-4f2d4d468a9a\",\"type\":\"LegendItem\"},{\"attributes\":{\"line_color\":{\"value\":\"red\"},\"line_width\":{\"value\":2},\"x\":{\"field\":\"x\"},\"y\":{\"field\":\"y\"}},\"id\":\"baa7e475-f8dd-48c2-9de8-77b2d7c91731\",\"type\":\"Line\"},{\"attributes\":{\"use_scientific\":false},\"id\":\"3fc32539-374a-4566-8225-26a15f4bc95a\",\"type\":\"BasicTickFormatter\"},{\"attributes\":{\"plot\":{\"id\":\"b8778565-cbe5-4126-beff-2a72ea79c54a\",\"subtype\":\"Figure\",\"type\":\"Plot\"}},\"id\":\"0cf1d6a2-010e-4e3f-8c5a-3bebd270cc79\",\"type\":\"SaveTool\"},{\"attributes\":{\"plot\":{\"id\":\"b8778565-cbe5-4126-beff-2a72ea79c54a\",\"subtype\":\"Figure\",\"type\":\"Plot\"}},\"id\":\"0d30e9af-2dde-449c-8f39-763e473c5d7f\",\"type\":\"PanTool\"},{\"attributes\":{\"callback\":null,\"end\":1.1,\"start\":-0.1},\"id\":\"939a30a5-44a5-431e-98ac-cb0f3f4ca189\",\"type\":\"Range1d\"},{\"attributes\":{\"axis_label\":\"T\",\"formatter\":{\"id\":\"3fc32539-374a-4566-8225-26a15f4bc95a\",\"type\":\"BasicTickFormatter\"},\"plot\":{\"id\":\"b8778565-cbe5-4126-beff-2a72ea79c54a\",\"subtype\":\"Figure\",\"type\":\"Plot\"},\"ticker\":{\"id\":\"b7fcbda5-baaa-494c-837f-98dcc4c7e17d\",\"type\":\"BasicTicker\"}},\"id\":\"d4cae2d7-0562-4169-ab80-48438db2a2c0\",\"type\":\"LinearAxis\"},{\"attributes\":{\"plot\":{\"id\":\"b8778565-cbe5-4126-beff-2a72ea79c54a\",\"subtype\":\"Figure\",\"type\":\"Plot\"},\"ticker\":{\"id\":\"b7fcbda5-baaa-494c-837f-98dcc4c7e17d\",\"type\":\"BasicTicker\"}},\"id\":\"e5e6c0bf-0e0d-4a81-9ac1-a6e9191a5b33\",\"type\":\"Grid\"},{\"attributes\":{},\"id\":\"5ec2e6da-137e-4f93-91c7-8f457fec30b0\",\"type\":\"BasicTicker\"},{\"attributes\":{\"axis_label\":\"Episode Reward\",\"formatter\":{\"id\":\"3aad374d-01c9-40e7-993c-fd4e46f1a6db\",\"type\":\"BasicTickFormatter\"},\"plot\":{\"id\":\"b8778565-cbe5-4126-beff-2a72ea79c54a\",\"subtype\":\"Figure\",\"type\":\"Plot\"},\"ticker\":{\"id\":\"5ec2e6da-137e-4f93-91c7-8f457fec30b0\",\"type\":\"BasicTicker\"}},\"id\":\"7fe94b26-0e61-4d7a-807f-83631b56bf94\",\"type\":\"LinearAxis\"},{\"attributes\":{\"dimension\":1,\"plot\":{\"id\":\"b8778565-cbe5-4126-beff-2a72ea79c54a\",\"subtype\":\"Figure\",\"type\":\"Plot\"},\"ticker\":{\"id\":\"5ec2e6da-137e-4f93-91c7-8f457fec30b0\",\"type\":\"BasicTicker\"}},\"id\":\"2f52b5ff-2d33-4f4a-b671-f49c7fae9e3b\",\"type\":\"Grid\"},{\"attributes\":{\"plot\":{\"id\":\"b8778565-cbe5-4126-beff-2a72ea79c54a\",\"subtype\":\"Figure\",\"type\":\"Plot\"}},\"id\":\"0269b90a-7e1a-4307-a15d-5151848ee825\",\"type\":\"WheelZoomTool\"}],\"root_ids\":[\"b8778565-cbe5-4126-beff-2a72ea79c54a\"]},\"title\":\"Bokeh Application\",\"version\":\"0.12.4\"}};\n",
       "            var render_items = [{\"docid\":\"bacb2aff-e6db-4a19-b220-06f6b718efee\",\"elementid\":\"844707c6-6118-41ec-bf43-c6a2b368e67b\",\"modelid\":\"b8778565-cbe5-4126-beff-2a72ea79c54a\"}];\n",
       "            \n",
       "            Bokeh.embed.embed_items(docs_json, render_items);\n",
       "          };\n",
       "          if (document.readyState != \"loading\") fn();\n",
       "          else document.addEventListener(\"DOMContentLoaded\", fn);\n",
       "        })();\n",
       "      },\n",
       "      function(Bokeh) {\n",
       "      }\n",
       "    ];\n",
       "  \n",
       "    function run_inline_js() {\n",
       "      \n",
       "      if ((window.Bokeh !== undefined) || (force === true)) {\n",
       "        for (var i = 0; i < inline_js.length; i++) {\n",
       "          inline_js[i](window.Bokeh);\n",
       "        }if (force === true) {\n",
       "          display_loaded();\n",
       "        }} else if (Date.now() < window._bokeh_timeout) {\n",
       "        setTimeout(run_inline_js, 100);\n",
       "      } else if (!window._bokeh_failed_load) {\n",
       "        console.log(\"Bokeh: BokehJS failed to load within specified timeout.\");\n",
       "        window._bokeh_failed_load = true;\n",
       "      } else if (force !== true) {\n",
       "        var cell = $(document.getElementById(\"844707c6-6118-41ec-bf43-c6a2b368e67b\")).parents('.cell').data().cell;\n",
       "        cell.output_area.append_execute_result(NB_LOAD_WARNING)\n",
       "      }\n",
       "  \n",
       "    }\n",
       "  \n",
       "    if (window._bokeh_is_loading === 0) {\n",
       "      console.log(\"Bokeh: BokehJS loaded, going straight to plotting\");\n",
       "      run_inline_js();\n",
       "    } else {\n",
       "      load_libs(js_urls, function() {\n",
       "        console.log(\"Bokeh: BokehJS plotting callback run at\", now());\n",
       "        run_inline_js();\n",
       "      });\n",
       "    }\n",
       "  }(this));\n",
       "</script>"
      ]
     },
     "metadata": {},
     "output_type": "display_data"
    },
    {
     "name": "stderr",
     "output_type": "stream",
     "text": [
      "/usr/lib/python3.6/site-packages/bokeh/models/sources.py:81: BokehUserWarning: ColumnDataSource's columns must be of the same length\n",
      "  lambda: warnings.warn(\"ColumnDataSource's columns must be of the same length\", BokehUserWarning))\n",
      "/usr/lib/python3.6/site-packages/bokeh/models/sources.py:81: BokehUserWarning: ColumnDataSource's columns must be of the same length\n",
      "  lambda: warnings.warn(\"ColumnDataSource's columns must be of the same length\", BokehUserWarning))\n"
     ]
    },
    {
     "data": {
      "text/html": [
       "\n",
       "\n",
       "    <div class=\"bk-root\">\n",
       "        <div class=\"bk-plotdiv\" id=\"b761ebe5-3128-4dde-9b0e-c82f5fb778d0\"></div>\n",
       "    </div>\n",
       "<script type=\"text/javascript\">\n",
       "  \n",
       "  (function(global) {\n",
       "    function now() {\n",
       "      return new Date();\n",
       "    }\n",
       "  \n",
       "    var force = false;\n",
       "  \n",
       "    if (typeof (window._bokeh_onload_callbacks) === \"undefined\" || force === true) {\n",
       "      window._bokeh_onload_callbacks = [];\n",
       "      window._bokeh_is_loading = undefined;\n",
       "    }\n",
       "  \n",
       "  \n",
       "    \n",
       "    if (typeof (window._bokeh_timeout) === \"undefined\" || force === true) {\n",
       "      window._bokeh_timeout = Date.now() + 0;\n",
       "      window._bokeh_failed_load = false;\n",
       "    }\n",
       "  \n",
       "    var NB_LOAD_WARNING = {'data': {'text/html':\n",
       "       \"<div style='background-color: #fdd'>\\n\"+\n",
       "       \"<p>\\n\"+\n",
       "       \"BokehJS does not appear to have successfully loaded. If loading BokehJS from CDN, this \\n\"+\n",
       "       \"may be due to a slow or bad network connection. Possible fixes:\\n\"+\n",
       "       \"</p>\\n\"+\n",
       "       \"<ul>\\n\"+\n",
       "       \"<li>re-rerun `output_notebook()` to attempt to load from CDN again, or</li>\\n\"+\n",
       "       \"<li>use INLINE resources instead, as so:</li>\\n\"+\n",
       "       \"</ul>\\n\"+\n",
       "       \"<code>\\n\"+\n",
       "       \"from bokeh.resources import INLINE\\n\"+\n",
       "       \"output_notebook(resources=INLINE)\\n\"+\n",
       "       \"</code>\\n\"+\n",
       "       \"</div>\"}};\n",
       "  \n",
       "    function display_loaded() {\n",
       "      if (window.Bokeh !== undefined) {\n",
       "        document.getElementById(\"b761ebe5-3128-4dde-9b0e-c82f5fb778d0\").textContent = \"BokehJS successfully loaded.\";\n",
       "      } else if (Date.now() < window._bokeh_timeout) {\n",
       "        setTimeout(display_loaded, 100)\n",
       "      }\n",
       "    }\n",
       "  \n",
       "    function run_callbacks() {\n",
       "      window._bokeh_onload_callbacks.forEach(function(callback) { callback() });\n",
       "      delete window._bokeh_onload_callbacks\n",
       "      console.info(\"Bokeh: all callbacks have finished\");\n",
       "    }\n",
       "  \n",
       "    function load_libs(js_urls, callback) {\n",
       "      window._bokeh_onload_callbacks.push(callback);\n",
       "      if (window._bokeh_is_loading > 0) {\n",
       "        console.log(\"Bokeh: BokehJS is being loaded, scheduling callback at\", now());\n",
       "        return null;\n",
       "      }\n",
       "      if (js_urls == null || js_urls.length === 0) {\n",
       "        run_callbacks();\n",
       "        return null;\n",
       "      }\n",
       "      console.log(\"Bokeh: BokehJS not loaded, scheduling load and callback at\", now());\n",
       "      window._bokeh_is_loading = js_urls.length;\n",
       "      for (var i = 0; i < js_urls.length; i++) {\n",
       "        var url = js_urls[i];\n",
       "        var s = document.createElement('script');\n",
       "        s.src = url;\n",
       "        s.async = false;\n",
       "        s.onreadystatechange = s.onload = function() {\n",
       "          window._bokeh_is_loading--;\n",
       "          if (window._bokeh_is_loading === 0) {\n",
       "            console.log(\"Bokeh: all BokehJS libraries loaded\");\n",
       "            run_callbacks()\n",
       "          }\n",
       "        };\n",
       "        s.onerror = function() {\n",
       "          console.warn(\"failed to load library \" + url);\n",
       "        };\n",
       "        console.log(\"Bokeh: injecting script tag for BokehJS library: \", url);\n",
       "        document.getElementsByTagName(\"head\")[0].appendChild(s);\n",
       "      }\n",
       "    };var element = document.getElementById(\"b761ebe5-3128-4dde-9b0e-c82f5fb778d0\");\n",
       "    if (element == null) {\n",
       "      console.log(\"Bokeh: ERROR: autoload.js configured with elementid 'b761ebe5-3128-4dde-9b0e-c82f5fb778d0' but no matching script tag was found. \")\n",
       "      return false;\n",
       "    }\n",
       "  \n",
       "    var js_urls = [];\n",
       "  \n",
       "    var inline_js = [\n",
       "      function(Bokeh) {\n",
       "        (function() {\n",
       "          var fn = function() {\n",
       "            var docs_json = {\"ce2824fe-4714-4257-a413-e2ce2a4cdb62\":{\"roots\":{\"references\":[{\"attributes\":{\"fill_alpha\":{\"value\":0.1},\"fill_color\":{\"value\":\"red\"},\"line_alpha\":{\"value\":0.1},\"line_color\":{\"value\":\"red\"},\"x\":{\"field\":\"x\"},\"y\":{\"field\":\"y\"}},\"id\":\"82b64384-1675-4784-94f4-96c967521b3b\",\"type\":\"Patch\"},{\"attributes\":{\"plot\":{\"id\":\"05e250e0-333b-48db-b93f-8d200f244055\",\"subtype\":\"Figure\",\"type\":\"Plot\"}},\"id\":\"070bb84d-1eb2-47dd-9a20-168782fe46ae\",\"type\":\"WheelZoomTool\"},{\"attributes\":{\"plot\":{\"id\":\"05e250e0-333b-48db-b93f-8d200f244055\",\"subtype\":\"Figure\",\"type\":\"Plot\"}},\"id\":\"dc2580bc-c8db-4c71-b544-01144fd1e0c4\",\"type\":\"ResetTool\"},{\"attributes\":{},\"id\":\"4584449d-4c27-4181-a56d-f2f1cb466db4\",\"type\":\"BasicTicker\"},{\"attributes\":{\"callback\":null,\"column_names\":[\"x\",\"y\"],\"data\":{\"x\":[0,1000,2000,3000,4000,5000,6000,7000,8000,9000,10000,11000,12000,13000,14000,15000,16000,17000,18000,19000,20000,21000,22000,23000,24000,25000,26000,27000,28000,29000,30000,31000,32000,33000,34000,35000,36000,37000,38000,39000,40000,41000,42000,43000,44000,45000,46000,47000,48000,49000,50000,51000,52000,53000,54000,55000,56000,57000,58000,59000,60000,61000,62000,63000,64000,65000,66000,67000,68000,69000,70000,71000,72000,73000,74000,75000,76000,77000,78000,79000,80000,81000,82000,83000,84000,85000,86000,87000,88000,89000,90000,91000,92000,93000,94000,95000,96000,97000,98000,99000,100000,101000,102000,103000,104000,105000,106000,107000,108000,109000,110000,111000,112000,113000,114000,115000,116000,117000,118000,119000,120000,121000,122000,123000,124000,125000,126000,127000,128000,129000,130000,131000,132000,133000,134000,135000,136000,137000,138000,139000,140000,141000,142000,143000,144000,145000,146000,147000,148000,149000,150000,151000,152000,153000,154000,155000,156000,157000,158000,159000,160000,161000,162000,163000,164000,165000,166000,167000,168000,169000,170000,171000,172000,173000,174000,175000,176000,177000,178000,179000,180000,181000,182000,183000,184000,185000,186000,187000,188000,189000,190000,191000,192000,193000,194000,195000,196000,197000,198000,199000,200000,201000,202000,203000,204000,205000,206000,207000,208000,209000,210000,211000,212000,213000,214000,215000,216000,217000,218000,219000,220000,221000,222000,223000,224000,225000,226000,227000,228000,229000,230000,231000,232000,233000,234000,235000,236000,237000,238000,239000,240000,241000,242000,243000,244000,245000,246000,247000,248000,249000,250000,251000,252000,253000,254000,255000,256000,257000,258000,259000,260000,261000,262000,263000,264000,265000,266000,267000,268000,269000,270000,271000,272000,273000,274000,275000,276000,277000,278000,279000,280000,281000,282000,283000,284000,285000,286000,287000,288000,289000,290000,291000,292000,293000,294000,295000,296000,297000,298000,299000,300000,301000,302000,303000,304000,305000,306000,307000,308000,309000,310000,311000,312000,313000,314000,315000,316000,317000,318000,319000,320000,321000,322000,323000,324000,325000,326000,327000,328000,329000,330000,331000,332000,333000,334000,335000,336000,337000,338000,339000,340000,341000,342000,343000,344000,345000,346000,347000,348000,349000,350000,351000,352000,353000,354000,355000,356000,357000,358000,359000,360000,361000,362000,363000,364000,365000,366000,367000,368000,369000,370000,371000,372000,373000,374000,375000,376000,377000,378000,379000,380000,381000,382000,383000,384000,385000,386000,387000,388000,389000,390000,391000,392000,393000,394000,395000,396000,397000,398000,399000,400000,401000,402000,403000,404000,405000,406000,407000,408000,409000,410000,411000,412000,413000,414000,415000,416000,417000,418000,419000,420000,421000,422000,423000,424000,425000,426000,427000,428000,429000,430000,431000,432000,433000,434000,435000,436000,437000,438000,439000,440000,441000,442000,443000,444000,445000,446000,447000,448000,449000,450000,451000,452000,453000,454000,455000,456000,457000,458000,459000,460000,461000,462000,463000,464000,465000,466000,467000,468000,469000,470000,471000,472000,473000,474000,475000,476000,477000,478000,479000,480000,481000,482000,483000,484000,485000,486000,487000,488000,489000,490000,491000,492000,493000,494000,495000,496000,497000,498000,499000,500000,501000,502000,503000,504000,505000,506000,507000,508000,509000,510000,511000,512000,513000,514000,515000,516000,517000,518000,519000,520000,521000,522000,523000,524000,525000,526000,527000,528000,529000,530000,531000,532000,533000,534000,535000,536000,537000,538000,539000,540000,541000,542000,543000,544000,545000,546000,547000,548000,549000,550000,551000,552000,553000,554000,555000,556000,557000,558000,559000,560000,561000,562000,563000,564000,565000,566000,567000,568000,569000,570000,571000,572000,573000,574000,575000,576000,577000,578000,579000,580000,581000,582000,583000,584000,585000,586000,587000,588000,589000,590000,591000,592000,593000,594000,595000,596000,597000,598000,599000,600000],\"y\":{\"__ndarray__\":\"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\",\"dtype\":\"float64\",\"shape\":[600]}}},\"id\":\"c6707250-2a2a-4241-a122-9a82d5bbe3d0\",\"type\":\"ColumnDataSource\"},{\"attributes\":{\"plot\":{\"id\":\"05e250e0-333b-48db-b93f-8d200f244055\",\"subtype\":\"Figure\",\"type\":\"Plot\"}},\"id\":\"5efa185a-b4c0-45f3-9b75-20a7d8d3ce54\",\"type\":\"PanTool\"},{\"attributes\":{\"fill_alpha\":{\"value\":0.1},\"fill_color\":{\"value\":\"#1f77b4\"},\"line_alpha\":{\"value\":0.1},\"line_color\":{\"value\":\"#1f77b4\"},\"x\":{\"field\":\"x\"},\"y\":{\"field\":\"y\"}},\"id\":\"08e1f24e-5355-41cd-984f-45d5390b02b8\",\"type\":\"Patch\"},{\"attributes\":{\"dimension\":1,\"plot\":{\"id\":\"05e250e0-333b-48db-b93f-8d200f244055\",\"subtype\":\"Figure\",\"type\":\"Plot\"},\"ticker\":{\"id\":\"66794e69-c449-4c3b-8353-0e345afe2580\",\"type\":\"BasicTicker\"}},\"id\":\"ef08b8ef-61f6-4257-a5e1-444a59987354\",\"type\":\"Grid\"},{\"attributes\":{\"plot\":null,\"text\":\"Med Maze 14 Prioritized 300k XP Replay Stale Frontier\"},\"id\":\"fce4b112-ceb9-49ff-886f-c7e9f88d46bc\",\"type\":\"Title\"},{\"attributes\":{\"line_color\":{\"value\":\"red\"},\"line_width\":{\"value\":2},\"x\":{\"field\":\"x\"},\"y\":{\"field\":\"y\"}},\"id\":\"a15f410a-3e88-496c-8c05-acf43eb22e09\",\"type\":\"Line\"},{\"attributes\":{\"items\":[{\"id\":\"3a4559fc-3d3b-48ae-b291-125b3e82e5e2\",\"type\":\"LegendItem\"}],\"location\":[0,-30],\"plot\":{\"id\":\"05e250e0-333b-48db-b93f-8d200f244055\",\"subtype\":\"Figure\",\"type\":\"Plot\"}},\"id\":\"06c1ab4a-9796-4525-8ce8-c7392cfe03ef\",\"type\":\"Legend\"},{\"attributes\":{\"below\":[{\"id\":\"18e79fee-c612-443e-8e64-1f252eecf9a3\",\"type\":\"LinearAxis\"}],\"left\":[{\"id\":\"b64c8136-5ead-4169-9d96-bcffe1b50e09\",\"type\":\"LinearAxis\"}],\"plot_height\":800,\"plot_width\":1200,\"renderers\":[{\"id\":\"18e79fee-c612-443e-8e64-1f252eecf9a3\",\"type\":\"LinearAxis\"},{\"id\":\"8abad9a7-34ec-4ab5-8258-d3dc60ccb0a8\",\"type\":\"Grid\"},{\"id\":\"b64c8136-5ead-4169-9d96-bcffe1b50e09\",\"type\":\"LinearAxis\"},{\"id\":\"ef08b8ef-61f6-4257-a5e1-444a59987354\",\"type\":\"Grid\"},{\"id\":\"c22c6756-4fee-44c8-9dce-a182eaae5a53\",\"type\":\"BoxAnnotation\"},{\"id\":\"f752a72e-ce79-4aef-b7f5-3ed6308a4b10\",\"type\":\"GlyphRenderer\"},{\"id\":\"e9649a9d-3096-4a6d-8bad-1011cb90acc1\",\"type\":\"GlyphRenderer\"},{\"id\":\"06c1ab4a-9796-4525-8ce8-c7392cfe03ef\",\"type\":\"Legend\"}],\"right\":[{\"id\":\"06c1ab4a-9796-4525-8ce8-c7392cfe03ef\",\"type\":\"Legend\"}],\"title\":{\"id\":\"fce4b112-ceb9-49ff-886f-c7e9f88d46bc\",\"type\":\"Title\"},\"tool_events\":{\"id\":\"fd27ee28-ff70-4347-baa7-307664dea130\",\"type\":\"ToolEvents\"},\"toolbar\":{\"id\":\"07697cc3-95c3-429e-817e-7480422f2356\",\"type\":\"Toolbar\"},\"toolbar_location\":\"above\",\"x_range\":{\"id\":\"b01c7edc-d50e-4b4a-acfa-60ee87895f27\",\"type\":\"DataRange1d\"},\"y_range\":{\"id\":\"d2820914-e1fa-4c78-9023-59bf6e0d83f7\",\"type\":\"DataRange1d\"}},\"id\":\"05e250e0-333b-48db-b93f-8d200f244055\",\"subtype\":\"Figure\",\"type\":\"Plot\"},{\"attributes\":{\"data_source\":{\"id\":\"c6707250-2a2a-4241-a122-9a82d5bbe3d0\",\"type\":\"ColumnDataSource\"},\"glyph\":{\"id\":\"a15f410a-3e88-496c-8c05-acf43eb22e09\",\"type\":\"Line\"},\"hover_glyph\":null,\"nonselection_glyph\":{\"id\":\"74678ae0-b793-44ca-83fb-2525674ab396\",\"type\":\"Line\"},\"selection_glyph\":null},\"id\":\"e9649a9d-3096-4a6d-8bad-1011cb90acc1\",\"type\":\"GlyphRenderer\"},{\"attributes\":{\"use_scientific\":false},\"id\":\"82ad0b63-06b0-4b76-8f81-c84eec4e686f\",\"type\":\"BasicTickFormatter\"},{\"attributes\":{},\"id\":\"bfc3d93c-8ea8-4ecf-a3ee-a7e6fe705ae1\",\"type\":\"BasicTickFormatter\"},{\"attributes\":{},\"id\":\"fd27ee28-ff70-4347-baa7-307664dea130\",\"type\":\"ToolEvents\"},{\"attributes\":{\"callback\":null},\"id\":\"d2820914-e1fa-4c78-9023-59bf6e0d83f7\",\"type\":\"DataRange1d\"},{\"attributes\":{\"data_source\":{\"id\":\"144d74cb-73fc-49d4-9dd5-a586b79193e8\",\"type\":\"ColumnDataSource\"},\"glyph\":{\"id\":\"82b64384-1675-4784-94f4-96c967521b3b\",\"type\":\"Patch\"},\"hover_glyph\":null,\"nonselection_glyph\":{\"id\":\"08e1f24e-5355-41cd-984f-45d5390b02b8\",\"type\":\"Patch\"},\"selection_glyph\":null},\"id\":\"f752a72e-ce79-4aef-b7f5-3ed6308a4b10\",\"type\":\"GlyphRenderer\"},{\"attributes\":{\"bottom_units\":\"screen\",\"fill_alpha\":{\"value\":0.5},\"fill_color\":{\"value\":\"lightgrey\"},\"left_units\":\"screen\",\"level\":\"overlay\",\"line_alpha\":{\"value\":1.0},\"line_color\":{\"value\":\"black\"},\"line_dash\":[4,4],\"line_width\":{\"value\":2},\"plot\":null,\"render_mode\":\"css\",\"right_units\":\"screen\",\"top_units\":\"screen\"},\"id\":\"c22c6756-4fee-44c8-9dce-a182eaae5a53\",\"type\":\"BoxAnnotation\"},{\"attributes\":{\"plot\":{\"id\":\"05e250e0-333b-48db-b93f-8d200f244055\",\"subtype\":\"Figure\",\"type\":\"Plot\"}},\"id\":\"4c364b5d-d20a-48ab-a49d-0c87d25e2706\",\"type\":\"HelpTool\"},{\"attributes\":{\"overlay\":{\"id\":\"c22c6756-4fee-44c8-9dce-a182eaae5a53\",\"type\":\"BoxAnnotation\"},\"plot\":{\"id\":\"05e250e0-333b-48db-b93f-8d200f244055\",\"subtype\":\"Figure\",\"type\":\"Plot\"}},\"id\":\"da160415-c1e2-488d-88d6-cd27d3625799\",\"type\":\"BoxZoomTool\"},{\"attributes\":{\"axis_label\":\"T\",\"formatter\":{\"id\":\"82ad0b63-06b0-4b76-8f81-c84eec4e686f\",\"type\":\"BasicTickFormatter\"},\"plot\":{\"id\":\"05e250e0-333b-48db-b93f-8d200f244055\",\"subtype\":\"Figure\",\"type\":\"Plot\"},\"ticker\":{\"id\":\"4584449d-4c27-4181-a56d-f2f1cb466db4\",\"type\":\"BasicTicker\"}},\"id\":\"18e79fee-c612-443e-8e64-1f252eecf9a3\",\"type\":\"LinearAxis\"},{\"attributes\":{\"label\":{\"value\":\"0.1 Bandit\"},\"renderers\":[{\"id\":\"e9649a9d-3096-4a6d-8bad-1011cb90acc1\",\"type\":\"GlyphRenderer\"}]},\"id\":\"3a4559fc-3d3b-48ae-b291-125b3e82e5e2\",\"type\":\"LegendItem\"},{\"attributes\":{\"plot\":{\"id\":\"05e250e0-333b-48db-b93f-8d200f244055\",\"subtype\":\"Figure\",\"type\":\"Plot\"},\"ticker\":{\"id\":\"4584449d-4c27-4181-a56d-f2f1cb466db4\",\"type\":\"BasicTicker\"}},\"id\":\"8abad9a7-34ec-4ab5-8258-d3dc60ccb0a8\",\"type\":\"Grid\"},{\"attributes\":{\"callback\":null,\"column_names\":[\"x\",\"y\"],\"data\":{\"x\":[0,1000,2000,3000,4000,5000,6000,7000,8000,9000,10000,11000,12000,13000,14000,15000,16000,17000,18000,19000,20000,21000,22000,23000,24000,25000,26000,27000,28000,29000,30000,31000,32000,33000,34000,35000,36000,37000,38000,39000,40000,41000,42000,43000,44000,45000,46000,47000,48000,49000,50000,51000,52000,53000,54000,55000,56000,57000,58000,59000,60000,61000,62000,63000,64000,65000,66000,67000,68000,69000,70000,71000,72000,73000,74000,75000,76000,77000,78000,79000,80000,81000,82000,83000,84000,85000,86000,87000,88000,89000,90000,91000,92000,93000,94000,95000,96000,97000,98000,99000,100000,101000,102000,103000,104000,105000,106000,107000,108000,109000,110000,111000,112000,113000,114000,115000,116000,117000,118000,119000,120000,121000,122000,123000,124000,125000,126000,127000,128000,129000,130000,131000,132000,133000,134000,135000,136000,137000,138000,139000,140000,141000,142000,143000,144000,145000,146000,147000,148000,149000,150000,151000,152000,153000,154000,155000,156000,157000,158000,159000,160000,161000,162000,163000,164000,165000,166000,167000,168000,169000,170000,171000,172000,173000,174000,175000,176000,177000,178000,179000,180000,181000,182000,183000,184000,185000,186000,187000,188000,189000,190000,191000,192000,193000,194000,195000,196000,197000,198000,199000,200000,201000,202000,203000,204000,205000,206000,207000,208000,209000,210000,211000,212000,213000,214000,215000,216000,217000,218000,219000,220000,221000,222000,223000,224000,225000,226000,227000,228000,229000,230000,231000,232000,233000,234000,235000,236000,237000,238000,239000,240000,241000,242000,243000,244000,245000,246000,247000,248000,249000,250000,251000,252000,253000,254000,255000,256000,257000,258000,259000,260000,261000,262000,263000,264000,265000,266000,267000,268000,269000,270000,271000,272000,273000,274000,275000,276000,277000,278000,279000,280000,281000,282000,283000,284000,285000,286000,287000,288000,289000,290000,291000,292000,293000,294000,295000,296000,297000,298000,299000,300000,301000,302000,303000,304000,305000,306000,307000,308000,309000,310000,311000,312000,313000,314000,315000,316000,317000,318000,319000,320000,321000,322000,323000,324000,325000,326000,327000,328000,329000,330000,331000,332000,333000,334000,335000,336000,337000,338000,339000,340000,341000,342000,343000,344000,345000,346000,347000,348000,349000,350000,351000,352000,353000,354000,355000,356000,357000,358000,359000,360000,361000,362000,363000,364000,365000,366000,367000,368000,369000,370000,371000,372000,373000,374000,375000,376000,377000,378000,379000,380000,381000,382000,383000,384000,385000,386000,387000,388000,389000,390000,391000,392000,393000,394000,395000,396000,397000,398000,399000,400000,401000,402000,403000,404000,405000,406000,407000,408000,409000,410000,411000,412000,413000,414000,415000,416000,417000,418000,419000,420000,421000,422000,423000,424000,425000,426000,427000,428000,429000,430000,431000,432000,433000,434000,435000,436000,437000,438000,439000,440000,441000,442000,443000,444000,445000,446000,447000,448000,449000,450000,451000,452000,453000,454000,455000,456000,457000,458000,459000,460000,461000,462000,463000,464000,465000,466000,467000,468000,469000,470000,471000,472000,473000,474000,475000,476000,477000,478000,479000,480000,481000,482000,483000,484000,485000,486000,487000,488000,489000,490000,491000,492000,493000,494000,495000,496000,497000,498000,499000,500000,501000,502000,503000,504000,505000,506000,507000,508000,509000,510000,511000,512000,513000,514000,515000,516000,517000,518000,519000,520000,521000,522000,523000,524000,525000,526000,527000,528000,529000,530000,531000,532000,533000,534000,535000,536000,537000,538000,539000,540000,541000,542000,543000,544000,545000,546000,547000,548000,549000,550000,551000,552000,553000,554000,555000,556000,557000,558000,559000,560000,561000,562000,563000,564000,565000,566000,567000,568000,569000,570000,571000,572000,573000,574000,575000,576000,577000,578000,579000,580000,581000,582000,583000,584000,585000,586000,587000,588000,589000,590000,591000,592000,593000,594000,595000,596000,597000,598000,599000,600000,600000,599000,598000,597000,596000,595000,594000,593000,592000,591000,590000,589000,588000,587000,586000,585000,584000,583000,582000,581000,580000,579000,578000,577000,576000,575000,574000,573000,572000,571000,570000,569000,568000,567000,566000,565000,564000,563000,562000,561000,560000,559000,558000,557000,556000,555000,554000,553000,552000,551000,550000,549000,548000,547000,546000,545000,544000,543000,542000,541000,540000,539000,538000,537000,536000,535000,534000,533000,532000,531000,530000,529000,528000,527000,526000,525000,524000,523000,522000,521000,520000,519000,518000,517000,516000,515000,514000,513000,512000,511000,510000,509000,508000,507000,506000,505000,504000,503000,502000,501000,500000,499000,498000,497000,496000,495000,494000,493000,492000,491000,490000,489000,488000,487000,486000,485000,484000,483000,482000,481000,480000,479000,478000,477000,476000,475000,474000,473000,472000,471000,470000,469000,468000,467000,466000,465000,464000,463000,462000,461000,460000,459000,458000,457000,456000,455000,454000,453000,452000,451000,450000,449000,448000,447000,446000,445000,444000,443000,442000,441000,440000,439000,438000,437000,436000,435000,434000,433000,432000,431000,430000,429000,428000,427000,426000,425000,424000,423000,422000,421000,420000,419000,418000,417000,416000,415000,414000,413000,412000,411000,410000,409000,408000,407000,406000,405000,404000,403000,402000,401000,400000,399000,398000,397000,396000,395000,394000,393000,392000,391000,390000,389000,388000,387000,386000,385000,384000,383000,382000,381000,380000,379000,378000,377000,376000,375000,374000,373000,372000,371000,370000,369000,368000,367000,366000,365000,364000,363000,362000,361000,360000,359000,358000,357000,356000,355000,354000,353000,352000,351000,350000,349000,348000,347000,346000,345000,344000,343000,342000,341000,340000,339000,338000,337000,336000,335000,334000,333000,332000,331000,330000,329000,328000,327000,326000,325000,324000,323000,322000,321000,320000,319000,318000,317000,316000,315000,314000,313000,312000,311000,310000,309000,308000,307000,306000,305000,304000,303000,302000,301000,300000,299000,298000,297000,296000,295000,294000,293000,292000,291000,290000,289000,288000,287000,286000,285000,284000,283000,282000,281000,280000,279000,278000,277000,276000,275000,274000,273000,272000,271000,270000,269000,268000,267000,266000,265000,264000,263000,262000,261000,260000,259000,258000,257000,256000,255000,254000,253000,252000,251000,250000,249000,248000,247000,246000,245000,244000,243000,242000,241000,240000,239000,238000,237000,236000,235000,234000,233000,232000,231000,230000,229000,228000,227000,226000,225000,224000,223000,222000,221000,220000,219000,218000,217000,216000,215000,214000,213000,212000,211000,210000,209000,208000,207000,206000,205000,204000,203000,202000,201000,200000,199000,198000,197000,196000,195000,194000,193000,192000,191000,190000,189000,188000,187000,186000,185000,184000,183000,182000,181000,180000,179000,178000,177000,176000,175000,174000,173000,172000,171000,170000,169000,168000,167000,166000,165000,164000,163000,162000,161000,160000,159000,158000,157000,156000,155000,154000,153000,152000,151000,150000,149000,148000,147000,146000,145000,144000,143000,142000,141000,140000,139000,138000,137000,136000,135000,134000,133000,132000,131000,130000,129000,128000,127000,126000,125000,124000,123000,122000,121000,120000,119000,118000,117000,116000,115000,114000,113000,112000,111000,110000,109000,108000,107000,106000,105000,104000,103000,102000,101000,100000,99000,98000,97000,96000,95000,94000,93000,92000,91000,90000,89000,88000,87000,86000,85000,84000,83000,82000,81000,80000,79000,78000,77000,76000,75000,74000,73000,72000,71000,70000,69000,68000,67000,66000,65000,64000,63000,62000,61000,60000,59000,58000,57000,56000,55000,54000,53000,52000,51000,50000,49000,48000,47000,46000,45000,44000,43000,42000,41000,40000,39000,38000,37000,36000,35000,34000,33000,32000,31000,30000,29000,28000,27000,26000,25000,24000,23000,22000,21000,20000,19000,18000,17000,16000,15000,14000,13000,12000,11000,10000,9000,8000,7000,6000,5000,4000,3000,2000,1000,0],\"y\":[1,46,94,140,140,204,207,319,413,494,509,555,555,555,555,555,593,595,631,670,670,755,775,775,775,775,775,775,776,776,776,779,877,930,930,931,931,982,984,1037,1037,1040,1079,1127,1140,1182,1182,1183,1184,1258,1258,1258,1258,1258,1258,1258,1258,1258,1269,1269,1269,1269,1269,1274,1324,1365,1368,1396,1400,1400,1416,1434,1480,1482,1492,1492,1492,1492,1492,1505,1520,1560,1563,1589,1600,1616,1626,1639,1740,1740,1740,1740,1740,1740,1741,1749,1750,1750,1762,1762,1762,1762,1762,1775,1775,1775,1801,1852,1852,1902,1904,1931,1931,1992,2000,2002,2052,2052,2052,2052,2052,2052,2052,2052,2052,2075,2076,2076,2076,2076,2076,2076,2076,2076,2076,2076,2076,2076,2076,2076,2076,2076,2076,2076,2076,2076,2076,2076,2076,2076,2076,2076,2076,2097,2097,2101,2177,2179,2179,2179,2234,2369,2431,2449,2555,2555,2569,2575,2591,2686,2695,2704,2715,2715,2715,2715,2715,2720,2727,2729,2768,2770,2770,2770,2790,2828,2829,2829,2829,2829,2829,2829,2829,2829,2829,2829,2829,2829,2829,2829,2829,2829,2829,2829,2829,2829,2829,2829,2829,2829,2829,2829,2829,2829,2829,2829,2829,2829,2829,2829,2829,2829,2829,2829,2829,2829,2829,2829,2829,2829,2829,2829,2829,2829,2829,2829,2829,2829,2829,2829,2829,2829,2829,2829,2829,2829,2831,2831,2831,2831,2831,2832,2832,2832,2832,2832,2832,2832,2832,2832,2832,2832,2832,2832,2832,2832,2832,2832,2832,2832,2832,2832,2832,2832,2832,2832,2832,2832,2832,2832,2832,2832,2832,2832,2832,2832,2832,2832,2832,2832,2832,2832,2832,2832,2832,2832,2832,2832,2832,2832,2832,2849,2849,2878,2893,2893,2893,2893,2893,2893,2893,2893,2893,2893,2893,2893,2893,2893,2893,2893,2893,2893,2893,2893,2893,2893,2893,2893,2893,2893,2893,2893,2893,2893,2893,2893,2893,2893,2893,2893,2893,2893,2893,2893,2893,2893,2893,2893,2893,2893,2893,2893,2893,2893,2893,2893,2893,2893,2893,2893,2893,2893,2893,2893,2893,2893,2893,2893,2893,2893,2893,2893,2893,2893,2893,2893,2893,2893,2893,2893,2893,2893,2893,2893,2893,2893,2893,2893,2893,2893,2893,2893,2893,2893,2893,2893,2893,2893,2893,2893,2893,2893,2893,2893,2893,2893,2893,2893,2893,2893,2893,2893,2893,2893,2893,2893,2893,2893,2901,2901,2901,2901,2901,2901,2901,2901,2901,2901,2901,2901,2901,2901,2901,2901,2901,2901,2901,2901,2901,2901,2901,2901,2901,2901,2901,2901,2901,2901,2901,2901,2901,2901,2901,2901,2901,2901,2901,2901,2901,2901,2901,2901,2901,2901,2901,2901,2901,2901,2901,2901,2901,2901,2902,2902,2902,2902,2902,2902,2902,2902,2902,2902,2902,2902,2902,2902,2902,2902,2902,2902,2902,2902,2902,2902,2902,2902,2902,2902,2902,2902,2902,2902,2902,2902,2902,2902,2902,2902,2902,2902,2902,2902,2902,2902,2902,2902,2902,2902,2902,2902,2902,2902,2902,2902,2902,2902,2902,2902,2902,2902,2902,2902,2902,2902,2902,2902,2902,2902,2902,2902,2902,2902,2902,2902,2902,2902,2902,2902,2902,2902,2902,2902,2902,2902,2902,2902,2902,2902,2902,2902,2902,2902,2902,2902,2902,2902,2902,2902,2902,2902,2902,2902,2902,2902,2902,2902,2902,2902,2902,2902,2902,2902,2902,2902,2902,2902,2902,2902,2902,2902,2902,2902,2902,2902,2902,2902,2902,2902,2902,2902,3772,3772,3772,3772,3772,3772,3772,3772,3772,3772,3772,3772,3772,3772,3772,3772,3772,3772,3772,3772,3772,3772,3772,3772,3772,3772,3772,3772,3772,3772,3772,3772,3772,3772,3772,3772,3772,3772,3772,3772,3772,3772,3772,3772,3772,3772,3772,3772,3772,3772,3772,3772,3772,3772,3772,3772,3772,3772,3772,3772,3772,3772,3772,3772,3772,3772,3772,3772,3772,3772,3772,3772,3772,3772,3772,3772,3772,3772,3772,3772,3772,3772,3772,3772,3772,3772,3772,3772,3772,3772,3772,3772,3772,3772,3772,3772,3772,3772,3772,3772,3772,3772,3772,3772,3772,3772,3772,3772,3772,3772,3772,3772,3772,3772,3772,3772,3772,3772,3772,3772,3772,3772,3772,3772,3772,3772,3772,3772,3771,3771,3771,3771,3771,3771,3771,3771,3771,3771,3771,3771,3771,3771,3771,3771,3771,3771,3771,3771,3771,3771,3771,3771,3771,3771,3771,3771,3771,3771,3771,3771,3771,3771,3771,3771,3771,3771,3771,3771,3771,3771,3771,3771,3769,3769,3769,3769,3769,3769,3769,3769,3769,3769,3769,3769,3769,3769,3769,3769,3769,3769,3769,3769,3760,3756,3751,3751,3751,3751,3751,3751,3751,3751,3751,3751,3738,3738,3737,3736,3736,3736,3713,3689,3676,3675,3675,3674,3674,3672,3671,3671,3652,3579,3553,3553,3553,3553,3553,3553,3553,3553,3553,3553,3551,3551,3551,3551,3546,3512,3512,3498,3396,3340,3295,3295,3295,3295,3295,3295,3295,3295,3295,3295,3295,3295,3295,3295,3295,3253,3253,3253,3253,3226,3213,3213,3213,3213,3213,3213,3213,3213,3213,3213,3213,3213,3213,3213,3213,3213,3213,3213,3213,3213,3213,3213,3213,3213,3213,3213,3213,3174,3086,3086,3086,3086,3086,3086,3086,3086,3086,3086,3086,3086,3086,3086,3086,3086,3086,3086,3086,3086,3086,3086,3086,3086,3086,3086,3086,3086,3086,3086,3086,3086,3086,3086,3086,3086,3086,3086,3086,3086,3086,3086,3086,3086,3086,3085,3085,3085,3085,3085,3084,3084,3084,3079,3079,3073,3068,3059,3059,3059,3059,3059,3059,3059,3059,3059,3059,3059,3059,3059,3059,3059,3059,3056,3056,3055,3055,3055,3055,3055,3055,3055,3055,3055,3055,3055,3055,3055,3055,3054,3054,3054,3054,3052,3044,3023,2969,2969,2969,2969,2969,2961,2961,2961,2961,2961,2961,2961,2961,2961,2961,2961,2961,2961,2961,2961,2961,2961,2961,2961,2961,2961,2961,2961,2961,2961,2961,2961,2961,2961,2961,2961,2961,2961,2961,2961,2961,2961,2961,2960,2955,2953,2953,2953,2953,2953,2953,2953,2953,2953,2953,2953,2953,2953,2953,2953,2952,2952,2950,2941,2936,2936,2936,2936,2936,2936,2936,2936,2936,2936,2936,2936,2936,2936,2936,2933,2927,2927,2927,2927,2926,2911,2910,2910,2892,2891,2891,2888,2887,2887,2887,2884,2884,2858,2839,2744,2671,2671,2660,2602,2526,2517,2517,2517,2513,2490,2467,2309,2251,2221,2221,2221,2221,2202,2184,2143,2143,2143,2143,2143,2143,2143,2143,2143,2143,2141,2109,2109,2106,2106,2078,2078,2078,2078,2078,2078,2078,2078,2078,2076,2076,2062,2001,1906,1829,1808,1756,1721,1721,1721,1721,1721,1721,1721,1721,1721,1721,1721,1721,1721,1721,1721,1721,1712,1675,1625,1585,1550,1507,1350,1348,1348,1348,1348,1348,1347,1347,1347,1347,1347,1347,1347,1347,1347,1347,1347,1294,1171,1153,1153,1151,1149,1149,1131,1117,1044,995,922,883,799,766,661,542,494,409,296,216,186,95,1]}},\"id\":\"144d74cb-73fc-49d4-9dd5-a586b79193e8\",\"type\":\"ColumnDataSource\"},{\"attributes\":{\"callback\":null},\"id\":\"b01c7edc-d50e-4b4a-acfa-60ee87895f27\",\"type\":\"DataRange1d\"},{\"attributes\":{\"active_drag\":\"auto\",\"active_scroll\":\"auto\",\"active_tap\":\"auto\",\"tools\":[{\"id\":\"5efa185a-b4c0-45f3-9b75-20a7d8d3ce54\",\"type\":\"PanTool\"},{\"id\":\"070bb84d-1eb2-47dd-9a20-168782fe46ae\",\"type\":\"WheelZoomTool\"},{\"id\":\"da160415-c1e2-488d-88d6-cd27d3625799\",\"type\":\"BoxZoomTool\"},{\"id\":\"b1e90dfa-b275-432c-9966-15d152d7e52b\",\"type\":\"SaveTool\"},{\"id\":\"dc2580bc-c8db-4c71-b544-01144fd1e0c4\",\"type\":\"ResetTool\"},{\"id\":\"4c364b5d-d20a-48ab-a49d-0c87d25e2706\",\"type\":\"HelpTool\"}]},\"id\":\"07697cc3-95c3-429e-817e-7480422f2356\",\"type\":\"Toolbar\"},{\"attributes\":{},\"id\":\"66794e69-c449-4c3b-8353-0e345afe2580\",\"type\":\"BasicTicker\"},{\"attributes\":{\"line_alpha\":{\"value\":0.1},\"line_color\":{\"value\":\"#1f77b4\"},\"line_width\":{\"value\":2},\"x\":{\"field\":\"x\"},\"y\":{\"field\":\"y\"}},\"id\":\"74678ae0-b793-44ca-83fb-2525674ab396\",\"type\":\"Line\"},{\"attributes\":{\"plot\":{\"id\":\"05e250e0-333b-48db-b93f-8d200f244055\",\"subtype\":\"Figure\",\"type\":\"Plot\"}},\"id\":\"b1e90dfa-b275-432c-9966-15d152d7e52b\",\"type\":\"SaveTool\"},{\"attributes\":{\"axis_label\":\"States visited\",\"formatter\":{\"id\":\"bfc3d93c-8ea8-4ecf-a3ee-a7e6fe705ae1\",\"type\":\"BasicTickFormatter\"},\"plot\":{\"id\":\"05e250e0-333b-48db-b93f-8d200f244055\",\"subtype\":\"Figure\",\"type\":\"Plot\"},\"ticker\":{\"id\":\"66794e69-c449-4c3b-8353-0e345afe2580\",\"type\":\"BasicTicker\"}},\"id\":\"b64c8136-5ead-4169-9d96-bcffe1b50e09\",\"type\":\"LinearAxis\"}],\"root_ids\":[\"05e250e0-333b-48db-b93f-8d200f244055\"]},\"title\":\"Bokeh Application\",\"version\":\"0.12.4\"}};\n",
       "            var render_items = [{\"docid\":\"ce2824fe-4714-4257-a413-e2ce2a4cdb62\",\"elementid\":\"b761ebe5-3128-4dde-9b0e-c82f5fb778d0\",\"modelid\":\"05e250e0-333b-48db-b93f-8d200f244055\"}];\n",
       "            \n",
       "            Bokeh.embed.embed_items(docs_json, render_items);\n",
       "          };\n",
       "          if (document.readyState != \"loading\") fn();\n",
       "          else document.addEventListener(\"DOMContentLoaded\", fn);\n",
       "        })();\n",
       "      },\n",
       "      function(Bokeh) {\n",
       "      }\n",
       "    ];\n",
       "  \n",
       "    function run_inline_js() {\n",
       "      \n",
       "      if ((window.Bokeh !== undefined) || (force === true)) {\n",
       "        for (var i = 0; i < inline_js.length; i++) {\n",
       "          inline_js[i](window.Bokeh);\n",
       "        }if (force === true) {\n",
       "          display_loaded();\n",
       "        }} else if (Date.now() < window._bokeh_timeout) {\n",
       "        setTimeout(run_inline_js, 100);\n",
       "      } else if (!window._bokeh_failed_load) {\n",
       "        console.log(\"Bokeh: BokehJS failed to load within specified timeout.\");\n",
       "        window._bokeh_failed_load = true;\n",
       "      } else if (force !== true) {\n",
       "        var cell = $(document.getElementById(\"b761ebe5-3128-4dde-9b0e-c82f5fb778d0\")).parents('.cell').data().cell;\n",
       "        cell.output_area.append_execute_result(NB_LOAD_WARNING)\n",
       "      }\n",
       "  \n",
       "    }\n",
       "  \n",
       "    if (window._bokeh_is_loading === 0) {\n",
       "      console.log(\"Bokeh: BokehJS loaded, going straight to plotting\");\n",
       "      run_inline_js();\n",
       "    } else {\n",
       "      load_libs(js_urls, function() {\n",
       "        console.log(\"Bokeh: BokehJS plotting callback run at\", now());\n",
       "        run_inline_js();\n",
       "      });\n",
       "    }\n",
       "  }(this));\n",
       "</script>"
      ]
     },
     "metadata": {},
     "output_type": "display_data"
    }
   ],
   "source": [
    "plot_averages_b(names, t_maxs, colours, legends, directories, step=1000, title=env, min_max=False)\n",
    "plot_states(names, t_maxs, colours, legends, directories, step=1000, title=env)"
   ]
  },
  {
   "cell_type": "code",
   "execution_count": null,
   "metadata": {
    "collapsed": true,
    "deletable": true,
    "editable": true
   },
   "outputs": [],
   "source": []
  },
  {
   "cell_type": "code",
   "execution_count": null,
   "metadata": {
    "collapsed": true,
    "deletable": true,
    "editable": true
   },
   "outputs": [],
   "source": []
  },
  {
   "cell_type": "code",
   "execution_count": null,
   "metadata": {
    "collapsed": true,
    "deletable": true,
    "editable": true
   },
   "outputs": [],
   "source": [
    "DQN_Smoothed = []\n",
    "for times, rewards in zip(DQN_Lengths_C, DQN_Rewards):\n",
    "    linear = interp1d(times, rewards, kind=\"linear\")\n",
    "    linear_rewards = linear([i for i in range(500000)])\n",
    "    DQN_Smoothed.append(linear_rewards)"
   ]
  },
  {
   "cell_type": "code",
   "execution_count": null,
   "metadata": {
    "collapsed": true,
    "deletable": true,
    "editable": true
   },
   "outputs": [],
   "source": [
    "DQN_Means = np.mean(DQN_Smoothed, axis=0)"
   ]
  },
  {
   "cell_type": "code",
   "execution_count": null,
   "metadata": {
    "collapsed": true,
    "deletable": true,
    "editable": true
   },
   "outputs": [],
   "source": [
    "DQN_Stds = np.std(DQN_Smoothed, axis=0)"
   ]
  },
  {
   "cell_type": "code",
   "execution_count": null,
   "metadata": {
    "collapsed": false,
    "deletable": true,
    "editable": true
   },
   "outputs": [],
   "source": [
    "plt.fill_between([i for i in range(500000)], DQN_Means - DQN_Stds, DQN_Means + DQN_Stds, color=\"red\", alpha=0.3, edgecolor=\"white\")\n",
    "\n",
    "plt.plot([i for i in range(500000)], DQN_Means, color=\"red\")"
   ]
  },
  {
   "cell_type": "code",
   "execution_count": null,
   "metadata": {
    "collapsed": false,
    "deletable": true,
    "editable": true
   },
   "outputs": [],
   "source": [
    "len(DQN_Repeat)"
   ]
  },
  {
   "cell_type": "code",
   "execution_count": null,
   "metadata": {
    "collapsed": true,
    "deletable": true,
    "editable": true
   },
   "outputs": [],
   "source": [
    "plt.plot(DQN)"
   ]
  },
  {
   "cell_type": "code",
   "execution_count": null,
   "metadata": {
    "collapsed": true,
    "deletable": true,
    "editable": true
   },
   "outputs": [],
   "source": [
    "directories = [\"Logs/\"]"
   ]
  },
  {
   "cell_type": "code",
   "execution_count": null,
   "metadata": {
    "collapsed": false,
    "deletable": true,
    "editable": true
   },
   "outputs": [],
   "source": [
    "for i in range(0, 10, 2):\n",
    "    print(i)"
   ]
  },
  {
   "cell_type": "code",
   "execution_count": null,
   "metadata": {
    "collapsed": true,
    "deletable": true,
    "editable": true
   },
   "outputs": [],
   "source": []
  }
 ],
 "metadata": {
  "kernelspec": {
   "display_name": "Python 3",
   "language": "python",
   "name": "python3"
  },
  "language_info": {
   "codemirror_mode": {
    "name": "ipython",
    "version": 3
   },
   "file_extension": ".py",
   "mimetype": "text/x-python",
   "name": "python",
   "nbconvert_exporter": "python",
   "pygments_lexer": "ipython3",
   "version": "3.6.0"
  }
 },
 "nbformat": 4,
 "nbformat_minor": 2
}
