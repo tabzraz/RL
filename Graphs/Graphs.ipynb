{
 "cells": [
  {
   "cell_type": "code",
   "execution_count": 1,
   "metadata": {
    "collapsed": false,
    "deletable": true,
    "editable": true
   },
   "outputs": [
    {
     "data": {
      "text/html": [
       "\n",
       "    <div class=\"bk-root\">\n",
       "        <a href=\"http://bokeh.pydata.org\" target=\"_blank\" class=\"bk-logo bk-logo-small bk-logo-notebook\"></a>\n",
       "        <span id=\"c32b7a97-cce7-4be5-8105-4bcb705eff55\">Loading BokehJS ...</span>\n",
       "    </div>"
      ]
     },
     "metadata": {},
     "output_type": "display_data"
    },
    {
     "data": {
      "application/javascript": [
       "\n",
       "(function(global) {\n",
       "  function now() {\n",
       "    return new Date();\n",
       "  }\n",
       "\n",
       "  var force = true;\n",
       "\n",
       "  if (typeof (window._bokeh_onload_callbacks) === \"undefined\" || force === true) {\n",
       "    window._bokeh_onload_callbacks = [];\n",
       "    window._bokeh_is_loading = undefined;\n",
       "  }\n",
       "\n",
       "\n",
       "  \n",
       "  if (typeof (window._bokeh_timeout) === \"undefined\" || force === true) {\n",
       "    window._bokeh_timeout = Date.now() + 5000;\n",
       "    window._bokeh_failed_load = false;\n",
       "  }\n",
       "\n",
       "  var NB_LOAD_WARNING = {'data': {'text/html':\n",
       "     \"<div style='background-color: #fdd'>\\n\"+\n",
       "     \"<p>\\n\"+\n",
       "     \"BokehJS does not appear to have successfully loaded. If loading BokehJS from CDN, this \\n\"+\n",
       "     \"may be due to a slow or bad network connection. Possible fixes:\\n\"+\n",
       "     \"</p>\\n\"+\n",
       "     \"<ul>\\n\"+\n",
       "     \"<li>re-rerun `output_notebook()` to attempt to load from CDN again, or</li>\\n\"+\n",
       "     \"<li>use INLINE resources instead, as so:</li>\\n\"+\n",
       "     \"</ul>\\n\"+\n",
       "     \"<code>\\n\"+\n",
       "     \"from bokeh.resources import INLINE\\n\"+\n",
       "     \"output_notebook(resources=INLINE)\\n\"+\n",
       "     \"</code>\\n\"+\n",
       "     \"</div>\"}};\n",
       "\n",
       "  function display_loaded() {\n",
       "    if (window.Bokeh !== undefined) {\n",
       "      document.getElementById(\"c32b7a97-cce7-4be5-8105-4bcb705eff55\").textContent = \"BokehJS successfully loaded.\";\n",
       "    } else if (Date.now() < window._bokeh_timeout) {\n",
       "      setTimeout(display_loaded, 100)\n",
       "    }\n",
       "  }\n",
       "\n",
       "  function run_callbacks() {\n",
       "    window._bokeh_onload_callbacks.forEach(function(callback) { callback() });\n",
       "    delete window._bokeh_onload_callbacks\n",
       "    console.info(\"Bokeh: all callbacks have finished\");\n",
       "  }\n",
       "\n",
       "  function load_libs(js_urls, callback) {\n",
       "    window._bokeh_onload_callbacks.push(callback);\n",
       "    if (window._bokeh_is_loading > 0) {\n",
       "      console.log(\"Bokeh: BokehJS is being loaded, scheduling callback at\", now());\n",
       "      return null;\n",
       "    }\n",
       "    if (js_urls == null || js_urls.length === 0) {\n",
       "      run_callbacks();\n",
       "      return null;\n",
       "    }\n",
       "    console.log(\"Bokeh: BokehJS not loaded, scheduling load and callback at\", now());\n",
       "    window._bokeh_is_loading = js_urls.length;\n",
       "    for (var i = 0; i < js_urls.length; i++) {\n",
       "      var url = js_urls[i];\n",
       "      var s = document.createElement('script');\n",
       "      s.src = url;\n",
       "      s.async = false;\n",
       "      s.onreadystatechange = s.onload = function() {\n",
       "        window._bokeh_is_loading--;\n",
       "        if (window._bokeh_is_loading === 0) {\n",
       "          console.log(\"Bokeh: all BokehJS libraries loaded\");\n",
       "          run_callbacks()\n",
       "        }\n",
       "      };\n",
       "      s.onerror = function() {\n",
       "        console.warn(\"failed to load library \" + url);\n",
       "      };\n",
       "      console.log(\"Bokeh: injecting script tag for BokehJS library: \", url);\n",
       "      document.getElementsByTagName(\"head\")[0].appendChild(s);\n",
       "    }\n",
       "  };var element = document.getElementById(\"c32b7a97-cce7-4be5-8105-4bcb705eff55\");\n",
       "  if (element == null) {\n",
       "    console.log(\"Bokeh: ERROR: autoload.js configured with elementid 'c32b7a97-cce7-4be5-8105-4bcb705eff55' but no matching script tag was found. \")\n",
       "    return false;\n",
       "  }\n",
       "\n",
       "  var js_urls = [\"https://cdn.pydata.org/bokeh/release/bokeh-0.12.4.min.js\", \"https://cdn.pydata.org/bokeh/release/bokeh-widgets-0.12.4.min.js\"];\n",
       "\n",
       "  var inline_js = [\n",
       "    function(Bokeh) {\n",
       "      Bokeh.set_log_level(\"info\");\n",
       "    },\n",
       "    \n",
       "    function(Bokeh) {\n",
       "      \n",
       "      document.getElementById(\"c32b7a97-cce7-4be5-8105-4bcb705eff55\").textContent = \"BokehJS is loading...\";\n",
       "    },\n",
       "    function(Bokeh) {\n",
       "      console.log(\"Bokeh: injecting CSS: https://cdn.pydata.org/bokeh/release/bokeh-0.12.4.min.css\");\n",
       "      Bokeh.embed.inject_css(\"https://cdn.pydata.org/bokeh/release/bokeh-0.12.4.min.css\");\n",
       "      console.log(\"Bokeh: injecting CSS: https://cdn.pydata.org/bokeh/release/bokeh-widgets-0.12.4.min.css\");\n",
       "      Bokeh.embed.inject_css(\"https://cdn.pydata.org/bokeh/release/bokeh-widgets-0.12.4.min.css\");\n",
       "    }\n",
       "  ];\n",
       "\n",
       "  function run_inline_js() {\n",
       "    \n",
       "    if ((window.Bokeh !== undefined) || (force === true)) {\n",
       "      for (var i = 0; i < inline_js.length; i++) {\n",
       "        inline_js[i](window.Bokeh);\n",
       "      }if (force === true) {\n",
       "        display_loaded();\n",
       "      }} else if (Date.now() < window._bokeh_timeout) {\n",
       "      setTimeout(run_inline_js, 100);\n",
       "    } else if (!window._bokeh_failed_load) {\n",
       "      console.log(\"Bokeh: BokehJS failed to load within specified timeout.\");\n",
       "      window._bokeh_failed_load = true;\n",
       "    } else if (force !== true) {\n",
       "      var cell = $(document.getElementById(\"c32b7a97-cce7-4be5-8105-4bcb705eff55\")).parents('.cell').data().cell;\n",
       "      cell.output_area.append_execute_result(NB_LOAD_WARNING)\n",
       "    }\n",
       "\n",
       "  }\n",
       "\n",
       "  if (window._bokeh_is_loading === 0) {\n",
       "    console.log(\"Bokeh: BokehJS loaded, going straight to plotting\");\n",
       "    run_inline_js();\n",
       "  } else {\n",
       "    load_libs(js_urls, function() {\n",
       "      console.log(\"Bokeh: BokehJS plotting callback run at\", now());\n",
       "      run_inline_js();\n",
       "    });\n",
       "  }\n",
       "}(this));"
      ]
     },
     "metadata": {},
     "output_type": "display_data"
    }
   ],
   "source": [
    "from bokeh.plotting import figure, output_notebook, show\n",
    "output_notebook()"
   ]
  },
  {
   "cell_type": "code",
   "execution_count": 2,
   "metadata": {
    "collapsed": true,
    "deletable": true,
    "editable": true
   },
   "outputs": [],
   "source": [
    "import glob"
   ]
  },
  {
   "cell_type": "code",
   "execution_count": 3,
   "metadata": {
    "collapsed": true,
    "deletable": true,
    "editable": true
   },
   "outputs": [],
   "source": [
    "import numpy as np"
   ]
  },
  {
   "cell_type": "code",
   "execution_count": 4,
   "metadata": {
    "collapsed": true,
    "deletable": true,
    "editable": true
   },
   "outputs": [],
   "source": [
    "from scipy.interpolate import interp1d\n",
    "from scipy.interpolate import spline"
   ]
  },
  {
   "cell_type": "code",
   "execution_count": 5,
   "metadata": {
    "collapsed": true,
    "deletable": true,
    "editable": true
   },
   "outputs": [],
   "source": [
    "from tqdm import tqdm"
   ]
  },
  {
   "cell_type": "code",
   "execution_count": 6,
   "metadata": {
    "collapsed": true,
    "deletable": true,
    "editable": true
   },
   "outputs": [],
   "source": [
    "DQN_Rewards_Path = \"/home/tabz/Dropbox/RL/Log_Files/March 2017/Maze_5_Batch_Sizes_Logs/*DQN*/logs/Episode_Rewards.txt\"\n",
    "DQN_Lengths_Path = \"/home/tabz/Dropbox/RL/Log_Files/March 2017/Maze_5_Batch_Sizes_Logs/*DQN*/logs/Episode_Lengths.txt\"\n",
    "DQN_Rewards = []\n",
    "DQN_Lengths = []\n",
    "DQN_Lengths_C = []"
   ]
  },
  {
   "cell_type": "code",
   "execution_count": 7,
   "metadata": {
    "collapsed": true,
    "deletable": true,
    "editable": true
   },
   "outputs": [],
   "source": [
    "for filename in glob.glob(DQN_Rewards_Path):\n",
    "    run_logs = [0]\n",
    "#     print(filename)\n",
    "    with open(filename, \"r\") as f:\n",
    "        for line in f:\n",
    "            try:\n",
    "                ep_r = float(line)\n",
    "            except:\n",
    "                continue\n",
    "            run_logs.append(ep_r)\n",
    "    DQN_Rewards.append(run_logs)"
   ]
  },
  {
   "cell_type": "code",
   "execution_count": 8,
   "metadata": {
    "collapsed": true,
    "deletable": true,
    "editable": true
   },
   "outputs": [],
   "source": [
    "for filename in glob.glob(DQN_Lengths_Path):\n",
    "    run_logs = [0]\n",
    "#     print(filename)\n",
    "    with open(filename, \"r\") as f:\n",
    "        for line in f:\n",
    "            try:\n",
    "                ep_r = float(line)\n",
    "            except:\n",
    "                continue\n",
    "            run_logs.append(ep_r)\n",
    "    DQN_Lengths.append(run_logs)\n",
    "    run_logs_c = np.cumsum(run_logs).astype(np.int32)\n",
    "    DQN_Lengths_C.append(run_logs_c)"
   ]
  },
  {
   "cell_type": "markdown",
   "metadata": {
    "collapsed": false,
    "deletable": true,
    "editable": true
   },
   "source": [
    "for lens, runs in zip(DQN_Lengths_C, DQN_Rewards):\n",
    "    plt.plot(lens, runs)\n",
    "plt.show()"
   ]
  },
  {
   "cell_type": "markdown",
   "metadata": {
    "collapsed": false,
    "deletable": true,
    "editable": true
   },
   "source": [
    "p = figure(width=500, height=500, y_range=(-1,3))\n",
    "for lens, runs in zip(DQN_Lengths_C, DQN_Rewards):\n",
    "    p.line(lens, runs)\n",
    "show(p)"
   ]
  },
  {
   "cell_type": "code",
   "execution_count": null,
   "metadata": {
    "collapsed": true,
    "deletable": true,
    "editable": true
   },
   "outputs": [],
   "source": []
  },
  {
   "cell_type": "markdown",
   "metadata": {
    "collapsed": true,
    "deletable": true,
    "editable": true
   },
   "source": [
    "def plot_averages(names, t_maxs, colors, legends=None, directory=\"Logs/\", step=10):\n",
    "    plt.figure(figsize=(10,10))\n",
    "    plt.ylim(-1, 3)\n",
    "    for name, color, t_max in tqdm(zip(names, colors, t_maxs)):\n",
    "        # TODO: Remove DQN from names\n",
    "        DQN_Rewards_Path = directory + \"*\" + name + \"*/logs/Episode_Rewards.txt\"\n",
    "        DQN_Lengths_Path = directory + \"*\" + name + \"*/logs/Episode_Lengths.txt\"\n",
    "        DQN_Rewards = []\n",
    "        DQN_Lengths = []\n",
    "        DQN_Lengths_C = []\n",
    "        for filename in glob.glob(DQN_Rewards_Path):\n",
    "            run_logs = [0]\n",
    "            with open(filename, \"r\") as f:\n",
    "                for line in f:\n",
    "                    try:\n",
    "                        ep_r = float(line)\n",
    "                    except:\n",
    "                        continue\n",
    "                    run_logs.append(ep_r)\n",
    "            DQN_Rewards.append(run_logs)\n",
    "        for filename in glob.glob(DQN_Lengths_Path):\n",
    "            run_logs = [0]\n",
    "        #     print(filename)\n",
    "            with open(filename, \"r\") as f:\n",
    "                for line in f:\n",
    "                    try:\n",
    "                        ep_r = float(line)\n",
    "                    except:\n",
    "                        continue\n",
    "                    run_logs.append(ep_r)\n",
    "            DQN_Lengths.append(run_logs)\n",
    "            run_logs_c = np.cumsum(run_logs).astype(np.int32)\n",
    "            DQN_Lengths_C.append(run_logs_c)\n",
    "        DQN_Smoothed = []\n",
    "        for times, rewards in zip(DQN_Lengths_C, DQN_Rewards):\n",
    "#             linear = interp1d(times, rewards, kind=\"linear\")\n",
    "#             linear_rewards = linear([i for i in range(500000)])\n",
    "#             DQN_Smoothed.append(linear_rewards)\n",
    "            spline_rewards = spline(times, rewards, [i for i in range(0, t_max, step)])\n",
    "            DQN_Smoothed.append(spline_rewards)\n",
    "        DQN_Means = np.mean(DQN_Smoothed, axis=0)\n",
    "        DQN_Stds = np.std(DQN_Smoothed, axis=0)\n",
    "        plt.fill_between([i for i in range(0, t_max, step)], DQN_Means - DQN_Stds, DQN_Means + DQN_Stds, color=color, alpha=0.2, edgecolor=\"white\")\n",
    "\n",
    "        plt.plot([i for i in range(0, t_max, step)], DQN_Means, color=color)\n",
    "\n",
    "    plt.title(\"Episode_Reward\")\n",
    "    plt.xlabel(\"T\")\n",
    "    plt.ylabel(\"Reward\")\n",
    "    if legends is not None:\n",
    "        plt.legend(legends, bbox_to_anchor=(1.05, 1), loc=2)\n",
    "    plt.show()"
   ]
  },
  {
   "cell_type": "code",
   "execution_count": 9,
   "metadata": {
    "collapsed": true,
    "deletable": true,
    "editable": true
   },
   "outputs": [],
   "source": [
    "from bokeh.models import Legend\n",
    "from bokeh.models.formatters import BasicTickFormatter\n",
    "from bokeh.models import HoverTool, TapTool"
   ]
  },
  {
   "cell_type": "code",
   "execution_count": 10,
   "metadata": {
    "collapsed": false,
    "deletable": true,
    "editable": true
   },
   "outputs": [],
   "source": [
    "def plot_averages_b(names, t_maxs, colors, legends, directories=\"Logs/\", step=10, title=\"\", min_max=True):\n",
    "#     plt.figure(figsize=(10,10))\n",
    "    p = figure(width=1200, height=800, y_range=(-0.1, 1.1), title=title)\n",
    "    p.toolbar_location = \"above\"\n",
    "    p.yaxis.axis_label = \"Episode Reward\"\n",
    "    p.xaxis.axis_label = \"T\"\n",
    "    p.xaxis.formatter = BasicTickFormatter(use_scientific=False)\n",
    "#     p = figure(width=800, height=500)\n",
    "    lines = []\n",
    "    alpha_lines = []\n",
    "    if isinstance(directories, str):\n",
    "        dd = directories\n",
    "        directories = [dd for _ in names]\n",
    "    for name, color, t_max, legend, directory in zip(names, colors, t_maxs, legends, directories):\n",
    "#         print(directory)\n",
    "        DQN_Rewards_Path = directory + \"*\" + name + \"*/logs/Episode_Rewards.txt\"\n",
    "        DQN_Lengths_Path = directory + \"*\" + name + \"*/logs/Episode_Lengths.txt\"\n",
    "        DQN_Rewards = []\n",
    "        DQN_Lengths = []\n",
    "        DQN_Lengths_C = []\n",
    "        for filename in glob.glob(DQN_Rewards_Path):\n",
    "            run_logs = [0]\n",
    "            with open(filename, \"r\") as f:\n",
    "#                 print(f)\n",
    "                for line in f:\n",
    "                    try:\n",
    "                        ep_r = float(line)\n",
    "                    except:\n",
    "                        print(\"Nothing here for:\", filename)\n",
    "                        continue\n",
    "                    run_logs.append(ep_r)\n",
    "            DQN_Rewards.append(run_logs)\n",
    "        for filename in glob.glob(DQN_Lengths_Path):\n",
    "            run_logs = [0]\n",
    "        #     print(filename)\n",
    "            with open(filename, \"r\") as f:\n",
    "                for line in f:\n",
    "                    try:\n",
    "                        ep_r = float(line)\n",
    "                    except:\n",
    "                        continue\n",
    "                    run_logs.append(ep_r)\n",
    "            DQN_Lengths.append(run_logs)\n",
    "            run_logs_c = np.cumsum(run_logs).astype(np.int32)\n",
    "            DQN_Lengths_C.append(run_logs_c)\n",
    "        DQN_Smoothed = []\n",
    "        for times, rewards in zip(DQN_Lengths_C, DQN_Rewards):\n",
    "#             linear = interp1d(times, rewards, kind=\"linear\")\n",
    "#             linear_rewards = linear([i for i in range(500000)])\n",
    "#             DQN_Smoothed.append(linear_rewards)\n",
    "            spline_rewards = spline(times, rewards, [i for i in range(0, t_max, step)], order=1)\n",
    "            DQN_Smoothed.append(spline_rewards)\n",
    "        DQN_Means = np.mean(DQN_Smoothed, axis=0)\n",
    "        DQN_Stds = np.std(DQN_Smoothed, axis=0)\n",
    "        \n",
    "        if min_max:\n",
    "    #         plt.fill_between([i for i in range(0, t_max, step)], DQN_Means - DQN_Stds, DQN_Means + DQN_Stds, color=color, alpha=0.2, edgecolor=\"white\")\n",
    "            # Error bars\n",
    "            xs = [i for i in range(0, t_max, step)]\n",
    "            xs = xs + list(reversed(xs))\n",
    "    #         ys = np.concatenate([DQN_Means - DQN_Stds, np.flip(DQN_Means + DQN_Stds, axis=0)])\n",
    "            ys = np.concatenate([np.min(DQN_Smoothed, axis=0), np.flip(np.max(DQN_Smoothed, axis=0), axis=0)])\n",
    "            lls = p.patch(xs, ys, color=color, alpha=0.1)\n",
    "\n",
    "\n",
    "    #         for x, y, yerr in zip(range(0, t_max, step), DQN_Means, DQN_Stds):\n",
    "    #             lls = p.line([x, x], [y - yerr, y + yerr], color=color, alpha=0.1, hover_alpha=0.8)\n",
    "    #             alpha_lines.append(lls)\n",
    "\n",
    "\n",
    "    #         plt.plot([i for i in range(0, t_max, step)], DQN_Means, color=color)\n",
    "        l = p.line([i for i in range(0, t_max, step)], DQN_Means, color=color, line_width=2)\n",
    "        lines.append(l)\n",
    "    #         alpha_lines.append(lls)\n",
    "\n",
    "#     plt.title(\"Episode_Reward\")\n",
    "#     plt.xlabel(\"T\")\n",
    "#     plt.ylabel(\"Reward\")\n",
    "#     if legends is not None:\n",
    "#         plt.legend(legends)\n",
    "#     plt.show()\n",
    "#     p.line([0,1], [-1,3])\n",
    "    new_leg = Legend(items=[(name, [line]) for name, line in zip(legends, lines)], location=(0,-30))\n",
    "    p.add_layout(new_leg, \"right\")\n",
    "#     p.add_tools(HoverTool(renderers=alpha_lines))\n",
    "#     p.add_tools(TapTool(renderers=alpha_lines))\n",
    "    show(p)"
   ]
  },
  {
   "cell_type": "code",
   "execution_count": 11,
   "metadata": {
    "collapsed": false,
    "deletable": true,
    "editable": true
   },
   "outputs": [],
   "source": [
    "def plot_states(names, t_maxs, colors, legends, directories=\"Logs/\", step=10, title=\"\"):\n",
    "#     plt.figure(figsize=(10,10))\n",
    "    p = figure(width=1200, height=800, title=title)\n",
    "    p.toolbar_location = \"above\"\n",
    "    p.yaxis.axis_label = \"States visited\"\n",
    "    p.xaxis.axis_label = \"T\"\n",
    "    p.xaxis.formatter = BasicTickFormatter(use_scientific=False)\n",
    "#     p = figure(width=800, height=500)\n",
    "    lines = []\n",
    "    alpha_lines = []\n",
    "    if isinstance(directories, str):\n",
    "        dd = directories\n",
    "        directories = [dd for _ in names]\n",
    "    for name, color, t_max, legend, directory in zip(names, colors, t_maxs, legends, directories):\n",
    "#         print(directory)\n",
    "        States_Path = directory + \"*\" + name + \"*/logs/Player_Positions.txt\"\n",
    "        States = []\n",
    "        for filename in glob.glob(States_Path):\n",
    "            run_logs = []\n",
    "            with open(filename, \"r\") as f:\n",
    "#                 print(f)\n",
    "                for line in f:\n",
    "                    try:\n",
    "                        ep_r = str(line)\n",
    "#                         print(ep_r)\n",
    "                    except:\n",
    "                        print(\"Nothing here for:\", filename)\n",
    "                        continue\n",
    "                    run_logs.append(ep_r)\n",
    "            States.append(run_logs)\n",
    "        States_Visited = []\n",
    "        for run in States:\n",
    "            Visited = []\n",
    "            States_Sets = set()\n",
    "#             print(len(run))\n",
    "            for ii, s in enumerate(run):\n",
    "                if ii >= t_max - 1:\n",
    "                    break\n",
    "#                 print(s)\n",
    "                States_Sets.add(s)\n",
    "                if ii % step == 0:\n",
    "                    Visited.append(len(States_Sets))\n",
    "#             print(len(States_Sets))\n",
    "#             print(len(Visited))\n",
    "            States_Visited.append(Visited)\n",
    "#         print(np.array(States_Visited).shape)\n",
    "        Means = np.mean(States_Visited, axis=0)\n",
    "        Stds = np.std(States_Visited, axis=0)\n",
    "#         print(Means.shape)\n",
    "        \n",
    "#         plt.fill_between([i for i in range(0, t_max, step)], DQN_Means - DQN_Stds, DQN_Means + DQN_Stds, color=color, alpha=0.2, edgecolor=\"white\")\n",
    "        # Error bars\n",
    "        xs = [i for i in range(0, t_max, step)]\n",
    "        xs = xs + list(reversed(xs))\n",
    "#         ys = np.concatenate([Means - Stds, np.flip(Means + Stds, axis=0)])\n",
    "        ys = np.concatenate([np.min(States_Visited, axis=0), np.flip(np.max(States_Visited, axis=0), axis=0)])\n",
    "        lls = p.patch(xs, ys, color=color, alpha=0.1)\n",
    "\n",
    "        \n",
    "#         for x, y, yerr in zip(range(0, t_max, step), DQN_Means, DQN_Stds):\n",
    "#             lls = p.line([x, x], [y - yerr, y + yerr], color=color, alpha=0.1, hover_alpha=0.8)\n",
    "#             alpha_lines.append(lls)\n",
    "            \n",
    "\n",
    "#         plt.plot([i for i in range(0, t_max, step)], DQN_Means, color=color)\n",
    "        l = p.line([i for i in range(0, t_max, step)], Means, color=color, line_width=2)\n",
    "        lines.append(l)\n",
    "#         alpha_lines.append(lls)\n",
    "\n",
    "#     plt.title(\"Episode_Reward\")\n",
    "#     plt.xlabel(\"T\")\n",
    "#     plt.ylabel(\"Reward\")\n",
    "#     if legends is not None:\n",
    "#         plt.legend(legends)\n",
    "#     plt.show()\n",
    "#     p.line([0,1], [-1,3])\n",
    "    new_leg = Legend(items=[(name, [line]) for name, line in zip(legends, lines)], location=(0,-30))\n",
    "    p.add_layout(new_leg, \"right\")\n",
    "#     p.add_tools(HoverTool(renderers=alpha_lines))\n",
    "#     p.add_tools(TapTool(renderers=alpha_lines))\n",
    "    show(p)"
   ]
  },
  {
   "cell_type": "code",
   "execution_count": null,
   "metadata": {
    "collapsed": true,
    "deletable": true,
    "editable": true
   },
   "outputs": [],
   "source": []
  },
  {
   "cell_type": "code",
   "execution_count": 12,
   "metadata": {
    "collapsed": false,
    "deletable": true,
    "editable": true
   },
   "outputs": [
    {
     "name": "stdout",
     "output_type": "stream",
     "text": [
      "['_10_Step_*DQN_', '_10_Step_*k_Count_', '_10_Step_*_CountEps_']\n",
      "[300001, 300001, 300001]\n"
     ]
    }
   ],
   "source": [
    "names = []\n",
    "legends = []\n",
    "t_maxs = []\n",
    "directories = []\n",
    "\n",
    "            \n",
    "# Frontier stuff\n",
    "for step in [10]:\n",
    "    # DQN\n",
    "    names += [\"_{}_Step_*DQN_\".format(step)]\n",
    "    legends += [\"{}_Step_DQN\".format(step)]\n",
    "    t_maxs += [300001]\n",
    "#     continue\n",
    "    # PseudoCount\n",
    "    names += [\"_{}_Step_*k_Count_\".format(step)]\n",
    "    legends += [\"{}_Step_Count\".format(step)]\n",
    "    t_maxs += [300001]\n",
    "#     continue\n",
    "    # EpsilonScaling\n",
    "    names += [\"_{}_Step_*_CountEps_\".format(step)]\n",
    "    legends += [\"{}_Step_Epsilon_Scaling\".format(step)]\n",
    "    t_maxs += [300001]\n",
    "            \n",
    "    \n",
    "direc = \"/home/tabz/tmp/logfiles/MedMaze10/MedMaze10\"\n",
    "# directories =  [\"{}/{}\".format(dropbox_direc, \"Maze_5_Logs/\")] + 3 * [\"{}/{}\".format(dropbox_direc, \"Maze_5_Batch_Sizes_Logs/\")] \n",
    "directories += [direc + \"/EpsilonLogs/\"] * 3\n",
    "    \n",
    "print(names)\n",
    "print(t_maxs)\n",
    "# colours = [\"red\", \"#3366ff\", \"#66ff33\", \"yellow\"]\n",
    "# colours = rainbow(np.linspace(0, 1, len(names)))"
   ]
  },
  {
   "cell_type": "code",
   "execution_count": 13,
   "metadata": {
    "collapsed": false,
    "deletable": true,
    "editable": true
   },
   "outputs": [
    {
     "name": "stdout",
     "output_type": "stream",
     "text": [
      "['_100_Step*k_Count_', '_100_Step*OptimisticAction', '_100_Step*_CountEps_']\n",
      "[300001, 300001, 300001]\n",
      "/home/scratch/tabhid/Log_Files/Gamma_Logs//\n"
     ]
    }
   ],
   "source": [
    "names = []\n",
    "legends = []\n",
    "t_maxs = []\n",
    "\n",
    "            \n",
    "# Frontier bandit stuff\n",
    "\n",
    "for n in [100]:\n",
    "    \n",
    "    # Count\n",
    "    names += [\"_{}_Step*k_Count_\".format(n)]\n",
    "    legends += [\"{}_Step_Count\".format(n)]\n",
    "    t_maxs += [300001]\n",
    "#     continue\n",
    "    # Optimistic\n",
    "    names += [\"_{}_Step*OptimisticAction\".format(n)]\n",
    "    legends += [\"{}_Step_OptimisticAction\".format(n)]\n",
    "    t_maxs += [300001]\n",
    "#     continue\n",
    "    # Epsilon Scaling\n",
    "    names += [\"_{}_Step*_CountEps_\".format(n)]\n",
    "    legends += [\"{}_Step_EpsilonScaling\".format(n)]\n",
    "    t_maxs += [300001]\n",
    "            \n",
    "    \n",
    "direc = \"/home/scratch/tabhid/Log_Files/Gamma_Logs//\"\n",
    "# directories =  [\"{}/{}\".format(dropbox_direc, \"Maze_5_Logs/\")] + 3 * [\"{}/{}\".format(dropbox_direc, \"Maze_5_Batch_Sizes_Logs/\")] \n",
    "# directories += [direc + \"/BanditLogs/\"] * 3\n",
    "directories = direc\n",
    "    \n",
    "print(names)\n",
    "print(t_maxs)\n",
    "print(directories)\n",
    "# colours = [\"red\", \"#3366ff\", \"#66ff33\", \"yellow\"]\n",
    "# colours = rainbow(np.linspace(0, 1, len(names)))"
   ]
  },
  {
   "cell_type": "code",
   "execution_count": 14,
   "metadata": {
    "collapsed": false,
    "deletable": true,
    "editable": true
   },
   "outputs": [
    {
     "name": "stdout",
     "output_type": "stream",
     "text": [
      "['_0.9_Decay*_Eps_0.1_', '_0.99_Decay*_Eps_0.1_', '_0.9999_Decay*_Eps_0.1_', '_0.9_Decay*_Eps_1_', '_0.99_Decay*_Eps_1_', '_0.9999_Decay*_Eps_1_']\n",
      "[300001, 300001, 300001, 300001, 300001, 300001]\n",
      "/home/tabz/tmp/Epsilon_Decay_Logs/\n"
     ]
    }
   ],
   "source": [
    "names = []\n",
    "legends = []\n",
    "t_maxs = []\n",
    "\n",
    "            \n",
    "# Epsilon Decay Scaling\n",
    "for eps in [0.1, 1]:\n",
    "    for decay in [0.9, 0.99, 0.9999]:\n",
    "    \n",
    "        names += [\"_{}_Decay*_Eps_{}_\".format(decay, eps)]\n",
    "        legends += [\"{}_Decay_EpsilonScaling_{}_Start\".format(decay, eps)]\n",
    "        t_maxs += [300001]\n",
    "            \n",
    "    \n",
    "# direc = \"/home/scratch/tabhid/Log_Files/Epsilon_Decay_Logs/\"\n",
    "direc = \"/home/tabz/tmp/Epsilon_Decay_Logs/\"\n",
    "# directories =  [\"{}/{}\".format(dropbox_direc, \"Maze_5_Logs/\")] + 3 * [\"{}/{}\".format(dropbox_direc, \"Maze_5_Batch_Sizes_Logs/\")] \n",
    "# directories += [direc + \"/BanditLogs/\"] * 3\n",
    "directories = direc\n",
    "    \n",
    "print(names)\n",
    "print(t_maxs)\n",
    "print(directories)"
   ]
  },
  {
   "cell_type": "code",
   "execution_count": 15,
   "metadata": {
    "collapsed": false,
    "deletable": true,
    "editable": true
   },
   "outputs": [
    {
     "name": "stdout",
     "output_type": "stream",
     "text": [
      "['_NegativeReward_0.5_', '_NegativeReward_0.7_', '_NegativeReward_0.9_']\n",
      "[300001, 300001, 300001]\n",
      "/home/tabz/tmp/Big_Negative_Reward_Logs/\n"
     ]
    }
   ],
   "source": [
    "names = []\n",
    "legends = []\n",
    "t_maxs = []\n",
    "\n",
    "            \n",
    "# Negative reward threshold\n",
    "for ns in [0.5, 0.7,  0.9]:\n",
    "    names += [\"_NegativeReward_{}_\".format(ns)]\n",
    "    legends += [\"NegativeReward_{}_Threshold\".format(ns)]\n",
    "    t_maxs += [300001]\n",
    "            \n",
    "    \n",
    "# direc = \"/home/scratch/tabhid/Log_Files/Epsilon_Decay_Logs/\"\n",
    "direc = \"/home/tabz/tmp/Big_Negative_Reward_Logs/\"\n",
    "# directories =  [\"{}/{}\".format(dropbox_direc, \"Maze_5_Logs/\")] + 3 * [\"{}/{}\".format(dropbox_direc, \"Maze_5_Batch_Sizes_Logs/\")] \n",
    "# directories += [direc + \"/BanditLogs/\"] * 3\n",
    "directories = direc\n",
    "    \n",
    "print(names)\n",
    "print(t_maxs)\n",
    "print(directories)"
   ]
  },
  {
   "cell_type": "code",
   "execution_count": 16,
   "metadata": {
    "collapsed": false,
    "deletable": true,
    "editable": true
   },
   "outputs": [
    {
     "name": "stdout",
     "output_type": "stream",
     "text": [
      "['k_OptimisticAction_0.0001_Scaler', 'k_OptimisticAction_0.0005_Scaler', 'k_OptimisticAction_0.001_Scaler', 'k_OptimisticAction_0.005_Scaler']\n",
      "[300001, 300001, 300001, 300001]\n",
      "/home/scratch/tabhid/Log_Files/Bandit_Small_Tau_Logs/\n"
     ]
    }
   ],
   "source": [
    "names = []\n",
    "legends = []\n",
    "t_maxs = []\n",
    "\n",
    "            \n",
    "# Bandit Tau\n",
    "for tau in [0.0001, 0.0005, 0.001, 0.005]:\n",
    "    for negative_reward in [False]:\n",
    "        if negative_reward:\n",
    "            names += [\"NegativeReward_*_OptimisticAction_{}_Scaler\".format(tau)]\n",
    "            legends += [\"Optim Bandit {} Tau Neg Reward\".format(tau)]\n",
    "        else:\n",
    "            names += [\"k_OptimisticAction_{}_Scaler\".format(tau)]\n",
    "            legends += [\"Optim Bandit {} Tau\".format(tau)]\n",
    "        t_maxs += [300001]\n",
    "            \n",
    "    \n",
    "direc = \"/home/scratch/tabhid/Log_Files/Bandit_Small_Tau_Logs/\"\n",
    "# direc = \"/home/tabz/tmp/Bandit_Tau_Logs/\"\n",
    "# directories =  [\"{}/{}\".format(dropbox_direc, \"Maze_5_Logs/\")] + 3 * [\"{}/{}\".format(dropbox_direc, \"Maze_5_Batch_Sizes_Logs/\")] \n",
    "# directories += [direc + \"/BanditLogs/\"] * 3\n",
    "directories = direc\n",
    "    \n",
    "print(names)\n",
    "print(t_maxs)\n",
    "print(directories)"
   ]
  },
  {
   "cell_type": "code",
   "execution_count": 17,
   "metadata": {
    "collapsed": false,
    "deletable": true,
    "editable": true
   },
   "outputs": [
    {
     "name": "stdout",
     "output_type": "stream",
     "text": [
      "['Batch_64_XpSize_600k', 'Batch_128_XpSize_600k', 'Batch_256_XpSize_600k']\n",
      "[600001, 600001, 600001]\n",
      "/home/tabz/tmp/logfiles/MedMaze10/Batch_Size_Logs/\n"
     ]
    }
   ],
   "source": [
    "names = []\n",
    "legends = []\n",
    "t_maxs = []\n",
    "\n",
    "            \n",
    "# Batch Size\n",
    "for xp in [600]:\n",
    "    for bs in [64, 128, 256]:\n",
    "        names += [\"Batch_{}_XpSize_{}k\".format(bs, xp)]\n",
    "        legends += [\"Batch {} Xp {}k\".format(bs, xp)]\n",
    "        t_maxs += [600001]\n",
    "            \n",
    "    \n",
    "# direc = \"/home/scratch/tabhid/Log_Files/Xp_Logs/\"\n",
    "direc = \"/home/tabz/tmp/logfiles/MedMaze10/Batch_Size_Logs/\"\n",
    "# directories =  [\"{}/{}\".format(dropbox_direc, \"Maze_5_Logs/\")] + 3 * [\"{}/{}\".format(dropbox_direc, \"Maze_5_Batch_Sizes_Logs/\")] \n",
    "# directories += [direc + \"/BanditLogs/\"] * 3\n",
    "directories = direc\n",
    "    \n",
    "print(names)\n",
    "print(t_maxs)\n",
    "print(directories)"
   ]
  },
  {
   "cell_type": "code",
   "execution_count": 18,
   "metadata": {
    "collapsed": false,
    "deletable": true,
    "editable": true
   },
   "outputs": [
    {
     "name": "stdout",
     "output_type": "stream",
     "text": [
      "['ETrace_0.7_6_States', 'ETrace_0.9_6_States', 'ETrace_1_6_States']\n",
      "[600001, 600001, 600001]\n",
      "/home/tabz/tmp/logfiles/MedMaze10/Elig_3_Logs/\n"
     ]
    }
   ],
   "source": [
    "names = []\n",
    "legends = []\n",
    "t_maxs = []\n",
    "\n",
    "            \n",
    "# Elig States\n",
    "for lamb in [0.7, 0.9, 1]:\n",
    "    for states in [6]:\n",
    "        names += [\"ETrace_{}_{}_States\".format(lamb, states)]\n",
    "        legends += [\"Traces {} Lambda {} States 3 Gap\".format(lamb, states)]\n",
    "        t_maxs += [600001]\n",
    "            \n",
    "    \n",
    "# direc = \"/home/scratch/tabhid/Log_Files/Xp_Logs/\"\n",
    "direc = \"/home/tabz/tmp/logfiles/MedMaze10/Elig_3_Logs/\"\n",
    "# directories =  [\"{}/{}\".format(dropbox_direc, \"Maze_5_Logs/\")] + 3 * [\"{}/{}\".format(dropbox_direc, \"Maze_5_Batch_Sizes_Logs/\")] \n",
    "# directories += [direc + \"/BanditLogs/\"] * 3\n",
    "directories = direc\n",
    "    \n",
    "print(names)\n",
    "print(t_maxs)\n",
    "print(directories)"
   ]
  },
  {
   "cell_type": "code",
   "execution_count": 19,
   "metadata": {
    "collapsed": false,
    "deletable": true,
    "editable": true
   },
   "outputs": [
    {
     "name": "stdout",
     "output_type": "stream",
     "text": [
      "['Iters_1_', 'Iters_2_', 'Iters_4_', 'Iters_8_', 'Iters_16_']\n",
      "[600001, 600001, 600001, 600001, 600001]\n",
      "/home/tabz/tmp/logfiles/MedMaze10/Iters_Logs/\n"
     ]
    }
   ],
   "source": [
    "names = []\n",
    "legends = []\n",
    "t_maxs = []\n",
    "\n",
    "            \n",
    "# Iterations\n",
    "for i in [1, 2, 4, 8, 16]:\n",
    "    names += [\"Iters_{}_\".format(i)]\n",
    "    legends += [\"{} Iterations\".format(i)]\n",
    "    t_maxs += [600001]\n",
    "            \n",
    "    \n",
    "# direc = \"/home/scratch/tabhid/Log_Files/Xp_Logs/\"\n",
    "direc = \"/home/tabz/tmp/logfiles/MedMaze10/Iters_Logs/\"\n",
    "# directories =  [\"{}/{}\".format(dropbox_direc, \"Maze_5_Logs/\")] + 3 * [\"{}/{}\".format(dropbox_direc, \"Maze_5_Batch_Sizes_Logs/\")] \n",
    "# directories += [direc + \"/BanditLogs/\"] * 3\n",
    "directories = direc\n",
    "    \n",
    "print(names)\n",
    "print(t_maxs)\n",
    "print(directories)"
   ]
  },
  {
   "cell_type": "code",
   "execution_count": 20,
   "metadata": {
    "collapsed": false,
    "deletable": true,
    "editable": true
   },
   "outputs": [
    {
     "name": "stdout",
     "output_type": "stream",
     "text": [
      "['k_CountEps_', 'Trajectory_0.2_', 'Trajectory_0.5_', 'Trajectory_0.75_', 'Trajectory_0.8_', 'Trajectory_0.9_']\n",
      "[600001, 600001, 600001, 600001, 600001, 600001]\n",
      "/home/tabz/tmp/logfiles/MedMaze10/Trajectory_Logs/\n"
     ]
    }
   ],
   "source": [
    "names = []\n",
    "legends = []\n",
    "t_maxs = []\n",
    "\n",
    "names += [\"k_CountEps_\"]\n",
    "legends += [\"No Trajectory\"]\n",
    "t_maxs += [600001]\n",
    "            \n",
    "# Trajectory\n",
    "for t in [0.2, 0.5, 0.75, 0.8, 0.9]:\n",
    "    names += [\"Trajectory_{}_\".format(t)]\n",
    "    legends += [\"Trajectory {} Save\".format(t)]\n",
    "    t_maxs += [600001]\n",
    "            \n",
    "    \n",
    "# direc = \"/home/scratch/tabhid/Log_Files/Xp_Logs/\"\n",
    "direc = \"/home/tabz/tmp/logfiles/MedMaze10/Trajectory_Logs/\"\n",
    "# directories =  [\"{}/{}\".format(dropbox_direc, \"Maze_5_Logs/\")] + 3 * [\"{}/{}\".format(dropbox_direc, \"Maze_5_Batch_Sizes_Logs/\")] \n",
    "# directories += [direc + \"/BanditLogs/\"] * 3\n",
    "directories = direc\n",
    "    \n",
    "print(names)\n",
    "print(t_maxs)\n",
    "print(directories)"
   ]
  },
  {
   "cell_type": "code",
   "execution_count": 21,
   "metadata": {
    "collapsed": false,
    "deletable": true,
    "editable": true
   },
   "outputs": [
    {
     "name": "stdout",
     "output_type": "stream",
     "text": [
      "['XpSize_30k*CountDecay_0.9999', 'XpSize_30k*CountDecay_0.999999', 'XpSize_30k*CountDecay_1', 'XpSize_60k*CountDecay_0.9999', 'XpSize_60k*CountDecay_0.999999', 'XpSize_60k*CountDecay_1', 'XpSize_100k*CountDecay_0.9999', 'XpSize_100k*CountDecay_0.999999', 'XpSize_100k*CountDecay_1']\n",
      "[600001, 600001, 600001, 600001, 600001, 600001, 600001, 600001, 600001]\n",
      "/home/tabz/tmp/logfiles/CountXpSort/\n"
     ]
    }
   ],
   "source": [
    "names = []\n",
    "legends = []\n",
    "t_maxs = []\n",
    "          \n",
    "# Count Xp Sort\n",
    "for xp in [30, 60, 100]:\n",
    "    for decay in [0.9999, 0.999999, 1]:\n",
    "        names += [\"XpSize_{}k*CountDecay_{}\".format(xp, decay)]\n",
    "        legends += [\"CountXp Sort {}k Xp {} CountDecay\".format(xp, decay)]\n",
    "        t_maxs += [600001]\n",
    "            \n",
    "    \n",
    "# direc = \"/home/scratch/tabhid/Log_Files/Xp_Logs/\"\n",
    "direc = \"/home/tabz/tmp/logfiles/CountXpSort/\"\n",
    "# directories =  [\"{}/{}\".format(dropbox_direc, \"Maze_5_Logs/\")] + 3 * [\"{}/{}\".format(dropbox_direc, \"Maze_5_Batch_Sizes_Logs/\")] \n",
    "# directories += [direc + \"/BanditLogs/\"] * 3\n",
    "directories = direc\n",
    "    \n",
    "print(names)\n",
    "print(t_maxs)\n",
    "print(directories)"
   ]
  },
  {
   "cell_type": "code",
   "execution_count": 22,
   "metadata": {
    "collapsed": false,
    "deletable": true,
    "editable": true
   },
   "outputs": [
    {
     "name": "stdout",
     "output_type": "stream",
     "text": [
      "['OptimisticAction_0.1', 'OptimisticAction_1', 'OptimisticAction_10', 'k_CountEps']\n",
      "[600001, 600001, 600001, 600001]\n",
      "/home/tabz/tmp/logfiles/MedMaze12/\n"
     ]
    }
   ],
   "source": [
    "names = []\n",
    "legends = []\n",
    "t_maxs = []\n",
    "          \n",
    "# MedMaze12\n",
    "\n",
    "#Bandits\n",
    "for os in [0.1, 1, 10]:\n",
    "    names += [\"OptimisticAction_{}\".format(os)]\n",
    "    legends += [\"Bandit {} Scaler\".format(os)]\n",
    "    t_maxs += [600001]\n",
    "    \n",
    "# #-ve reward\n",
    "# for nr in [0.5, 0.7]:\n",
    "#     names += [\"NegativeReward_{}\".format(nr)]\n",
    "#     legends += [\"Negative Reward {}\".format(nr)]\n",
    "#     t_maxs += [600001]\n",
    "    \n",
    "#CountXp\n",
    "names += [\"k_CountEps\"]\n",
    "legends += [\"Counts\"]\n",
    "t_maxs += [600001]\n",
    "            \n",
    "    \n",
    "# direc = \"/home/scratch/tabhid/Log_Files/Xp_Logs/\"\n",
    "direc = \"/home/tabz/tmp/logfiles/MedMaze12/\"\n",
    "# directories =  [\"{}/{}\".format(dropbox_direc, \"Maze_5_Logs/\")] + 3 * [\"{}/{}\".format(dropbox_direc, \"Maze_5_Batch_Sizes_Logs/\")] \n",
    "# directories += [direc + \"/BanditLogs/\"] * 3\n",
    "directories = direc\n",
    "    \n",
    "print(names)\n",
    "print(t_maxs)\n",
    "print(directories)"
   ]
  },
  {
   "cell_type": "code",
   "execution_count": 23,
   "metadata": {
    "collapsed": false,
    "deletable": true,
    "editable": true
   },
   "outputs": [
    {
     "name": "stdout",
     "output_type": "stream",
     "text": [
      "['k_CountEps*Stale_50k', 'Prioritized*Stale_50k', 'Prioritized_IS*Stale_50k', 'k_CountEps*Stale_300k', 'Prioritized*Stale_300k', 'Prioritized_IS*Stale_300k']\n",
      "[600001, 600001, 600001, 600001, 600001, 600001]\n",
      "/home/tabz/tmp/logfiles/Prioritized_Logs/\n"
     ]
    }
   ],
   "source": [
    "names = []\n",
    "legends = []\n",
    "t_maxs = []\n",
    "          \n",
    "# Prioritized replay stuff\n",
    "for fresh in [50, 300]:\n",
    "    for p in [None, \"P\", \"P_IS\"]:\n",
    "        if p is \"P\":\n",
    "            names += [\"Prioritized*Stale_{}k\".format(fresh)]\n",
    "            legends += [\"Prioritized {}k Fresh Counts\".format(fresh)]\n",
    "        elif p is \"P_IS\":\n",
    "            names += [\"Prioritized_IS*Stale_{}k\".format(fresh)]\n",
    "            legends += [\"Prioritized IS {}k Fresh Counts\".format(fresh)]\n",
    "        else:\n",
    "            names += [\"k_CountEps*Stale_{}k\".format(fresh)]\n",
    "            legends += [\"{}k Fresh Counts\".format(fresh)]\n",
    "        t_maxs += [600001]\n",
    "    \n",
    "direc = \"/home/tabz/tmp/logfiles/Prioritized_Logs/\"\n",
    "env = \"Med Maze 10\"\n",
    "directories = direc\n",
    "    \n",
    "print(names)\n",
    "print(t_maxs)\n",
    "print(directories)"
   ]
  },
  {
   "cell_type": "code",
   "execution_count": 24,
   "metadata": {
    "collapsed": false,
    "deletable": true,
    "editable": true
   },
   "outputs": [
    {
     "name": "stdout",
     "output_type": "stream",
     "text": [
      "['_0.1_Mix', '_0.3_Mix', '_0.5_Mix', '_0.7_Mix', '_0.9_Mix']\n",
      "[600001, 600001, 600001, 600001, 600001]\n",
      "/home/tabz/tmp/logfiles/Mixing_Logs/\n"
     ]
    }
   ],
   "source": [
    "names = []\n",
    "legends = []\n",
    "t_maxs = []\n",
    "          \n",
    "# Mixing\n",
    "for mix in [0.1, 0.3, 0.5, 0.7, 0.9]:\n",
    "    names += [\"_{}_Mix\".format(mix)]\n",
    "    legends += [\"{} Mixing\".format(mix)]\n",
    "    t_maxs += [600001]\n",
    "    \n",
    "direc = \"/home/tabz/tmp/logfiles/Mixing_Logs/\"\n",
    "directories = direc\n",
    "\n",
    "env =\"Med Maze 10\"\n",
    "    \n",
    "print(names)\n",
    "print(t_maxs)\n",
    "print(directories)"
   ]
  },
  {
   "cell_type": "code",
   "execution_count": 25,
   "metadata": {
    "collapsed": false,
    "deletable": true,
    "editable": true
   },
   "outputs": [
    {
     "name": "stdout",
     "output_type": "stream",
     "text": [
      "['OptimisticAction_0.1', 'OptimisticAction_0.01', 'OptimisticAction_0.001', 'CountEps_0.9999_', 'CountEps_0.999_', 'CountEps_0.99_', 'CountEps_0.9_']\n",
      "[600001, 600001, 600001, 600001, 600001, 600001, 600001]\n",
      "/home/tabz/tmp/logfiles/Frontier_Logs/\n"
     ]
    }
   ],
   "source": [
    "names = []\n",
    "legends = []\n",
    "t_maxs = []\n",
    "          \n",
    "# MedMaze12\n",
    "\n",
    "#Bandits\n",
    "for os in [0.1, 0.01, 0.001]:\n",
    "    names += [\"OptimisticAction_{}\".format(os)]\n",
    "    legends += [\"Bandit {} Scaler\".format(os)]\n",
    "    t_maxs += [600001]\n",
    "    \n",
    "#Epsilon decay\n",
    "for decay in [0.9999, 0.999, 0.99, 0.9]:\n",
    "    names += [\"CountEps_{}_\".format(decay)]\n",
    "    legends += [\"Epsilon Scaling {} Decay\".format(decay)]\n",
    "    t_maxs += [600001]\n",
    "            \n",
    "    \n",
    "direc = \"/home/tabz/tmp/logfiles/Frontier_Logs/\"\n",
    "directories = direc\n",
    "env = \"Med Maze 12\"\n",
    "    \n",
    "print(names)\n",
    "print(t_maxs)\n",
    "print(directories)"
   ]
  },
  {
   "cell_type": "code",
   "execution_count": 26,
   "metadata": {
    "collapsed": false,
    "deletable": true,
    "editable": true
   },
   "outputs": [
    {
     "name": "stdout",
     "output_type": "stream",
     "text": [
      "['NegativeReward_0.1', 'NegativeReward_0.2']\n",
      "[600001, 600001]\n",
      "/home/tabz/tmp/Neg/\n"
     ]
    }
   ],
   "source": [
    "names = []\n",
    "legends = []\n",
    "t_maxs = []\n",
    "          \n",
    "# MedMaze10 Set replay negative reward\n",
    "\n",
    "for neg_reward in [0.1, 0.2]:\n",
    "    names += [\"NegativeReward_{}\".format(neg_reward)]\n",
    "    legends += [\"Negative Reward {} Set Replay\".format(neg_reward)]\n",
    "    t_maxs += [600001]            \n",
    "    \n",
    "direc = \"/home/tabz/tmp/Neg/\"\n",
    "directories = direc\n",
    "env = \"Med Maze 10 Set Replay Negative Reward\"\n",
    "    \n",
    "print(names)\n",
    "print(t_maxs)\n",
    "print(directories)"
   ]
  },
  {
   "cell_type": "code",
   "execution_count": 27,
   "metadata": {
    "collapsed": false,
    "deletable": true,
    "editable": true
   },
   "outputs": [
    {
     "name": "stdout",
     "output_type": "stream",
     "text": [
      "['_10_Step*_SetReplay_5_', '_10_Step*_SetReplay_10_', '_10_Step*_SetReplay_100_', '_100_Step*_SetReplay_5_', '_100_Step*_SetReplay_10_', '_100_Step*_SetReplay_100_']\n",
      "[600001, 600001, 600001, 600001, 600001, 600001]\n",
      "/home/tabz/tmp/logfiles/SetReplayNum/\n"
     ]
    }
   ],
   "source": [
    "names = []\n",
    "legends = []\n",
    "t_maxs = []\n",
    "          \n",
    "# MedMaze10 Set replay \n",
    "\n",
    "for step in [10, 100]:\n",
    "    for replay_num in [5, 10, 100]:\n",
    "        names += [\"_{}_Step*_SetReplay_{}_\".format(step, replay_num)]\n",
    "        legends += [\"{} Step {} SetReplay\".format(step, replay_num)]\n",
    "        t_maxs += [600001]\n",
    "    \n",
    "direc = \"/home/tabz/tmp/logfiles/SetReplayNum/\"\n",
    "directories = direc\n",
    "env = \"Med Maze 10 Set Replay Num\"\n",
    "    \n",
    "print(names)\n",
    "print(t_maxs)\n",
    "print(directories)"
   ]
  },
  {
   "cell_type": "code",
   "execution_count": 28,
   "metadata": {
    "collapsed": false,
    "deletable": true,
    "editable": true
   },
   "outputs": [
    {
     "name": "stdout",
     "output_type": "stream",
     "text": [
      "['k_BonusClip*Stale_50k', 'Prioritized*Stale_50k', 'Prioritized_OnBonus_IS*Stale_50k', 'k_BonusClip*Stale_300k', 'Prioritized*Stale_300k', 'Prioritized_OnBonus_IS*Stale_300k']\n",
      "[800001, 800001, 800001, 800001, 800001, 800001]\n",
      "/home/tabz/tmp/logfiles/Density/\n"
     ]
    }
   ],
   "source": [
    "names = []\n",
    "legends = []\n",
    "t_maxs = []\n",
    "          \n",
    "# Prioritized replay stuff\n",
    "for fresh in [50, 300]:\n",
    "        names += [\"k_BonusClip*Stale_{}k\".format(fresh)]\n",
    "        legends += [\"Uniform {}k Fresh Counts\".format(fresh)]\n",
    "        t_maxs += [800001]\n",
    "        \n",
    "        names += [\"Prioritized*Stale_{}k\".format(fresh)]\n",
    "        legends += [\"Prioritized {}k Fresh Counts\".format(fresh)]\n",
    "        t_maxs += [800001]\n",
    "\n",
    "        names += [\"Prioritized_OnBonus_IS*Stale_{}k\".format(fresh)]\n",
    "        legends += [\"Prioritized IS {}k Fresh Counts\".format(fresh)]\n",
    "        t_maxs += [800001]\n",
    "    \n",
    "direc = \"/home/tabz/tmp/logfiles/Density/\"\n",
    "env = \"Med Maze 10 Prioritized On Density\"\n",
    "directories = direc\n",
    "    \n",
    "print(names)\n",
    "print(t_maxs)\n",
    "print(directories)"
   ]
  },
  {
   "cell_type": "code",
   "execution_count": 29,
   "metadata": {
    "collapsed": false,
    "deletable": true,
    "editable": true
   },
   "outputs": [
    {
     "name": "stdout",
     "output_type": "stream",
     "text": [
      "['k_BonusClip', 'Prioritized_IS', 'Prioritized_MinusPseudo']\n",
      "[800001, 800001, 800001]\n",
      "/home/tabz/tmp/logfiles/MinusPseudo/\n"
     ]
    }
   ],
   "source": [
    "names = []\n",
    "legends = []\n",
    "t_maxs = []\n",
    "          \n",
    "# Prioritized replay stuff musing pseudo rewards\n",
    "\n",
    "names += [\"k_BonusClip\"]\n",
    "legends += [\"Uniform\"]\n",
    "\n",
    "names += [\"Prioritized_IS\"]\n",
    "legends += [\"Prioritised minus pseudo rewards IS\"]\n",
    "\n",
    "names += [\"Prioritized_MinusPseudo\"]\n",
    "legends += [\"Prioritized minus pseudo rewards\"]\n",
    "\n",
    "t_maxs += [800001 for _ in range(3)]\n",
    "    \n",
    "direc = \"/home/tabz/tmp/logfiles/MinusPseudo/\"\n",
    "env = \"Med Maze 10 Prioritized Minus PseudoReward\"\n",
    "directories = direc\n",
    "    \n",
    "print(names)\n",
    "print(t_maxs)\n",
    "print(directories)"
   ]
  },
  {
   "cell_type": "code",
   "execution_count": 30,
   "metadata": {
    "collapsed": false,
    "deletable": true,
    "editable": true
   },
   "outputs": [
    {
     "name": "stdout",
     "output_type": "stream",
     "text": [
      "['Prioritized_-1_MinusPseudo_*Stale_50k', 'Prioritized_1_MinusPseudo_*Stale_50k', 'Prioritized_-1_MinusPseudo_*Stale_300k', 'Prioritized_1_MinusPseudo_*Stale_300k']\n",
      "[800001, 800001, 800001, 800001]\n",
      "/home/tabz/tmp/FixedP/\n"
     ]
    }
   ],
   "source": [
    "names = []\n",
    "legends = []\n",
    "t_maxs = []\n",
    "          \n",
    "# Prioritized replay stuff\n",
    "for fresh in [50, 300]:\n",
    "    for scaler in [-1, 1]:\n",
    "        \n",
    "        names += [\"Prioritized_{}_MinusPseudo_*Stale_{}k\".format(scaler, fresh)]\n",
    "        legends += [\"{} Prioritized {}k Fresh Counts\".format(scaler, fresh)]\n",
    "        t_maxs += [800001]\n",
    "\n",
    "#         names += [\"Prioritized_IS_{}_MinusPseudo_*Stale_{}k\".format(scaler, fresh)]\n",
    "#         legends += [\"{} Prioritized IS {}k Fresh Counts\".format(scaler, fresh)]\n",
    "#         t_maxs += [800001]\n",
    "    \n",
    "direc = \"/home/tabz/tmp/FixedP/\"\n",
    "env = \"Med Maze 10 Prioritized On TD Error Minus Scaled PseudoReward\"\n",
    "directories = direc\n",
    "    \n",
    "print(names)\n",
    "print(t_maxs)\n",
    "print(directories)"
   ]
  },
  {
   "cell_type": "code",
   "execution_count": 31,
   "metadata": {
    "collapsed": false,
    "deletable": true,
    "editable": true
   },
   "outputs": [
    {
     "name": "stdout",
     "output_type": "stream",
     "text": [
      "['XpSize_100k_BonusClip', 'XpSize_100k_Prioritized_Bonus', 'XpSize_100k_Prioritized_IS', 'XpSize_500k_BonusClip', 'XpSize_500k_Prioritized_Bonus', 'XpSize_500k_Prioritized_IS']\n",
      "[1000001, 1000001, 1000001, 1000001, 1000001, 1000001]\n",
      "/home/tabz/tmp/Maze12Baselines/\n"
     ]
    }
   ],
   "source": [
    "names = []\n",
    "legends = []\n",
    "t_maxs = []\n",
    "          \n",
    "# Prioritized replay stuff\n",
    "for xp in [100, 500]:\n",
    "        names += [\"XpSize_{}k_BonusClip\".format(xp)]\n",
    "        legends += [\"Uniform {}k XP\".format(xp)]\n",
    "        t_maxs += [1000001]\n",
    "        \n",
    "        names += [\"XpSize_{}k_Prioritized_Bonus\".format(xp)]\n",
    "        legends += [\"Prioritized {}k XP\".format(xp)]\n",
    "        t_maxs += [1000001]\n",
    "\n",
    "        names += [\"XpSize_{}k_Prioritized_IS\".format(xp)]\n",
    "        legends += [\"Prioritized IS {}k XP\".format(xp)]\n",
    "        t_maxs += [1000001]\n",
    "    \n",
    "direc = \"/home/tabz/tmp/Maze12Baselines/\"\n",
    "env = \"Med Maze 12\"\n",
    "directories = direc\n",
    "    \n",
    "print(names)\n",
    "print(t_maxs)\n",
    "print(directories)"
   ]
  },
  {
   "cell_type": "code",
   "execution_count": 32,
   "metadata": {
    "collapsed": false,
    "deletable": true,
    "editable": true
   },
   "outputs": [
    {
     "name": "stdout",
     "output_type": "stream",
     "text": [
      "['XpSize_100k_Prioritized_0_NScaler_', 'XpSize_100k_Prioritized_1.5_NScaler_', 'XpSize_100k_Prioritized_-1.5_NScaler_', 'XpSize_500k_Prioritized_0_NScaler_', 'XpSize_500k_Prioritized_1.5_NScaler_', 'XpSize_500k_Prioritized_-1.5_NScaler_']\n",
      "[1000001, 1000001, 1000001, 1000001, 1000001, 1000001]\n",
      "/home/tabz/tmp/Maze12Prioritized/\n"
     ]
    }
   ],
   "source": [
    "names = []\n",
    "legends = []\n",
    "t_maxs = []\n",
    "          \n",
    "# Prioritized replay stuff\n",
    "for xp in [100, 500]:\n",
    "    for nscaler in [0, 1.5, -1.5]:\n",
    "        names += [\"XpSize_{}k_Prioritized_{}_NScaler_\".format(xp, nscaler)]\n",
    "        legends += [\"Prioritized {}k XP {} NScaler\".format(xp, nscaler)]\n",
    "        t_maxs += [1000001]\n",
    "    \n",
    "direc = \"/home/tabz/tmp/Maze12Prioritized/\"\n",
    "env = \"Med Maze 12 50k Fresh Counts Negative TD Error Scaling\"\n",
    "directories = direc\n",
    "    \n",
    "print(names)\n",
    "print(t_maxs)\n",
    "print(directories)"
   ]
  },
  {
   "cell_type": "code",
   "execution_count": 33,
   "metadata": {
    "collapsed": false
   },
   "outputs": [
    {
     "name": "stdout",
     "output_type": "stream",
     "text": [
      "['DensityP_BonusClip', 'DensityP_IS_BonusClip']\n",
      "[800001, 800001]\n",
      "/home/scratch/tabhid/Log_Files/DensityP/\n"
     ]
    }
   ],
   "source": [
    "names = []\n",
    "legends = []\n",
    "t_maxs = []\n",
    "          \n",
    "# Density Prioritization\n",
    "names += [\"DensityP_BonusClip\"]\n",
    "legends += [\"DensityP\"]\n",
    "t_maxs += [800001]\n",
    "\n",
    "names += [\"DensityP_IS_BonusClip\"]\n",
    "legends += [\"DensityP IS\"]\n",
    "t_maxs += [800001]\n",
    "    \n",
    "direc = \"/home/scratch/tabhid/Log_Files/DensityP/\"\n",
    "env = \"Med Maze 10 50k Fresh Counts Density Prioritization\"\n",
    "directories = direc\n",
    "    \n",
    "print(names)\n",
    "print(t_maxs)\n",
    "print(directories)"
   ]
  },
  {
   "cell_type": "code",
   "execution_count": 34,
   "metadata": {
    "collapsed": false
   },
   "outputs": [
    {
     "name": "stdout",
     "output_type": "stream",
     "text": [
      "['_0.1_Alpha', '_0.3_Alpha', '_0.5_Alpha', '_0.7_Alpha', '_0.9_Alpha']\n",
      "[800001, 800001, 800001, 800001, 800001]\n",
      "/home/scratch/tabhid/Log_Files/Alpha/\n"
     ]
    }
   ],
   "source": [
    "names = []\n",
    "legends = []\n",
    "t_maxs = []\n",
    "          \n",
    "# Prioritized replay alpha\n",
    "for alpha in [0.1, 0.3, 0.5, 0.7, 0.9]:\n",
    "    names += [\"_{}_Alpha\".format(alpha)]\n",
    "    legends += [\"{} Alpha\".format(alpha)]\n",
    "    t_maxs += [800001]\n",
    "    \n",
    "direc = \"/home/scratch/tabhid/Log_Files/Alpha/\"\n",
    "env = \"Med Maze 10 50k Fresh Counts 1.5 NScaler Alpha\"\n",
    "directories = direc\n",
    "    \n",
    "print(names)\n",
    "print(t_maxs)\n",
    "print(directories)"
   ]
  },
  {
   "cell_type": "code",
   "execution_count": 37,
   "metadata": {
    "collapsed": false
   },
   "outputs": [
    {
     "name": "stdout",
     "output_type": "stream",
     "text": [
      "['XpSize_100k_*_0.5_NScaler_*Stale_50k_', 'XpSize_100k_*_0.5_NScaler_*Stale_500k_', 'XpSize_100k_*_2_NScaler_*Stale_50k_', 'XpSize_100k_*_2_NScaler_*Stale_500k_', 'XpSize_500k_*_0.5_NScaler_*Stale_50k_', 'XpSize_500k_*_0.5_NScaler_*Stale_500k_', 'XpSize_500k_*_2_NScaler_*Stale_50k_', 'XpSize_500k_*_2_NScaler_*Stale_500k_']\n",
      "[1000001, 1000001, 1000001, 1000001, 1000001, 1000001, 1000001, 1000001]\n",
      "/home/tabz/tmp/Maze12Alpha/\n",
      "\n",
      " 8 Lines\n"
     ]
    }
   ],
   "source": [
    "names = []\n",
    "legends = []\n",
    "t_maxs = []\n",
    "          \n",
    "# Prioritized replay stuff\n",
    "for xp in [100, 500]:\n",
    "    for nscaler in [0.5, 2]:\n",
    "        for fresh in [50, 500]:\n",
    "            names += [\"XpSize_{}k_*_{}_NScaler_*Stale_{}k_\".format(xp, nscaler, fresh)]\n",
    "            legends += [\"Prioritized {}k XP {} NScaler {}k Fresh\".format(xp, nscaler, fresh)]\n",
    "            t_maxs += [1000001]\n",
    "    \n",
    "direc = \"/home/tabz/tmp/Maze12Alpha/\"\n",
    "env = \"Med Maze 12 50k Negative TD Error Scaling Alpha 0.5\"\n",
    "directories = direc\n",
    "    \n",
    "print(names)\n",
    "print(t_maxs)\n",
    "print(directories)\n",
    "print(\"\\n\", \"{} Lines\".format(len(names)))"
   ]
  },
  {
   "cell_type": "code",
   "execution_count": 42,
   "metadata": {
    "collapsed": false
   },
   "outputs": [
    {
     "name": "stdout",
     "output_type": "stream",
     "text": [
      "['_0.3_Alpha*Stale_50k_', '_0.3_Alpha*Stale_500k_', '_0.5_Alpha*Stale_50k_', '_0.5_Alpha*Stale_500k_']\n",
      "[1000001, 1000001, 1000001, 1000001]\n",
      "/home/tabz/tmp/Maze12_Prioritized_Alpha//\n",
      "\n",
      " 4 Lines\n"
     ]
    }
   ],
   "source": [
    "names = []\n",
    "legends = []\n",
    "t_maxs = []\n",
    "          \n",
    "# Prioritized replay stuff\n",
    "for alpha in [0.3, 0.5]:\n",
    "    for fresh in [50, 500]:\n",
    "        names += [\"_{}_Alpha*Stale_{}k_\".format(alpha, fresh)]\n",
    "        legends += [\"Prioritized {} Alpha {}k Fresh\".format(alpha, fresh)]\n",
    "        t_maxs += [1000001]\n",
    "    \n",
    "direc = \"/home/tabz/tmp/Maze12_Prioritized_Alpha//\"\n",
    "env = \"Med Maze 12 Alpha 500k Replay\"\n",
    "directories = direc\n",
    "    \n",
    "print(names)\n",
    "print(t_maxs)\n",
    "print(directories)\n",
    "print(\"\\n\", \"{} Lines\".format(len(names)))"
   ]
  },
  {
   "cell_type": "code",
   "execution_count": 52,
   "metadata": {
    "collapsed": false
   },
   "outputs": [
    {
     "name": "stdout",
     "output_type": "stream",
     "text": [
      "['_1_Step*_1_NScaler', '_1_Step*_2_NScaler', '_1_Step*_4_NScaler', '_1_Step*_8_NScaler', '_10_Step*_1_NScaler', '_10_Step*_2_NScaler', '_10_Step*_4_NScaler', '_10_Step*_8_NScaler']\n",
      "[600001, 600001, 600001, 600001, 600001, 600001, 600001, 600001]\n",
      "/home/tabz/tmp/Maze14_Prioritized/\n",
      "\n",
      " 8 Lines\n"
     ]
    }
   ],
   "source": [
    "names = []\n",
    "legends = []\n",
    "t_maxs = []\n",
    "          \n",
    "# Prioritized replay stuff\n",
    "for step in [1, 10]:\n",
    "    for nscaler in [1, 2, 4, 8]:\n",
    "        names += [\"_{}_Step*_{}_NScaler\".format(step, nscaler)]\n",
    "        legends += [\"{} Step {} Nscaling\".format(step, nscaler)]\n",
    "        t_maxs += [600001]\n",
    "    \n",
    "direc = \"/home/tabz/tmp/Maze14_Prioritized/\"\n",
    "env = \"Med Maze 14 Prioritized 300k XP Replay Stale\"\n",
    "directories = direc\n",
    "    \n",
    "print(names)\n",
    "print(t_maxs)\n",
    "print(directories)\n",
    "print(\"\\n\", \"{} Lines\".format(len(names)))"
   ]
  },
  {
   "cell_type": "code",
   "execution_count": 53,
   "metadata": {
    "collapsed": true,
    "deletable": true,
    "editable": true
   },
   "outputs": [],
   "source": [
    "import itertools"
   ]
  },
  {
   "cell_type": "code",
   "execution_count": 54,
   "metadata": {
    "collapsed": false,
    "deletable": true,
    "editable": true
   },
   "outputs": [],
   "source": [
    "from bokeh.palettes import magma, inferno, Set1, Set3, Paired, Dark2"
   ]
  },
  {
   "cell_type": "code",
   "execution_count": 55,
   "metadata": {
    "collapsed": false,
    "deletable": true,
    "editable": true
   },
   "outputs": [],
   "source": [
    "if len(names) <= 2:\n",
    "    colours = [\"red\", \"green\"]\n",
    "elif len(names) > 10:\n",
    "    colours = Paired[len(names)]\n",
    "else:\n",
    "    colours = Set1[len(names)]"
   ]
  },
  {
   "cell_type": "code",
   "execution_count": 56,
   "metadata": {
    "collapsed": false,
    "deletable": true,
    "editable": true
   },
   "outputs": [
    {
     "data": {
      "text/html": [
       "\n",
       "\n",
       "    <div class=\"bk-root\">\n",
       "        <div class=\"bk-plotdiv\" id=\"0396d6af-a5a9-4c9f-bfa2-8351f8ec18ef\"></div>\n",
       "    </div>\n",
       "<script type=\"text/javascript\">\n",
       "  \n",
       "  (function(global) {\n",
       "    function now() {\n",
       "      return new Date();\n",
       "    }\n",
       "  \n",
       "    var force = false;\n",
       "  \n",
       "    if (typeof (window._bokeh_onload_callbacks) === \"undefined\" || force === true) {\n",
       "      window._bokeh_onload_callbacks = [];\n",
       "      window._bokeh_is_loading = undefined;\n",
       "    }\n",
       "  \n",
       "  \n",
       "    \n",
       "    if (typeof (window._bokeh_timeout) === \"undefined\" || force === true) {\n",
       "      window._bokeh_timeout = Date.now() + 0;\n",
       "      window._bokeh_failed_load = false;\n",
       "    }\n",
       "  \n",
       "    var NB_LOAD_WARNING = {'data': {'text/html':\n",
       "       \"<div style='background-color: #fdd'>\\n\"+\n",
       "       \"<p>\\n\"+\n",
       "       \"BokehJS does not appear to have successfully loaded. If loading BokehJS from CDN, this \\n\"+\n",
       "       \"may be due to a slow or bad network connection. Possible fixes:\\n\"+\n",
       "       \"</p>\\n\"+\n",
       "       \"<ul>\\n\"+\n",
       "       \"<li>re-rerun `output_notebook()` to attempt to load from CDN again, or</li>\\n\"+\n",
       "       \"<li>use INLINE resources instead, as so:</li>\\n\"+\n",
       "       \"</ul>\\n\"+\n",
       "       \"<code>\\n\"+\n",
       "       \"from bokeh.resources import INLINE\\n\"+\n",
       "       \"output_notebook(resources=INLINE)\\n\"+\n",
       "       \"</code>\\n\"+\n",
       "       \"</div>\"}};\n",
       "  \n",
       "    function display_loaded() {\n",
       "      if (window.Bokeh !== undefined) {\n",
       "        document.getElementById(\"0396d6af-a5a9-4c9f-bfa2-8351f8ec18ef\").textContent = \"BokehJS successfully loaded.\";\n",
       "      } else if (Date.now() < window._bokeh_timeout) {\n",
       "        setTimeout(display_loaded, 100)\n",
       "      }\n",
       "    }\n",
       "  \n",
       "    function run_callbacks() {\n",
       "      window._bokeh_onload_callbacks.forEach(function(callback) { callback() });\n",
       "      delete window._bokeh_onload_callbacks\n",
       "      console.info(\"Bokeh: all callbacks have finished\");\n",
       "    }\n",
       "  \n",
       "    function load_libs(js_urls, callback) {\n",
       "      window._bokeh_onload_callbacks.push(callback);\n",
       "      if (window._bokeh_is_loading > 0) {\n",
       "        console.log(\"Bokeh: BokehJS is being loaded, scheduling callback at\", now());\n",
       "        return null;\n",
       "      }\n",
       "      if (js_urls == null || js_urls.length === 0) {\n",
       "        run_callbacks();\n",
       "        return null;\n",
       "      }\n",
       "      console.log(\"Bokeh: BokehJS not loaded, scheduling load and callback at\", now());\n",
       "      window._bokeh_is_loading = js_urls.length;\n",
       "      for (var i = 0; i < js_urls.length; i++) {\n",
       "        var url = js_urls[i];\n",
       "        var s = document.createElement('script');\n",
       "        s.src = url;\n",
       "        s.async = false;\n",
       "        s.onreadystatechange = s.onload = function() {\n",
       "          window._bokeh_is_loading--;\n",
       "          if (window._bokeh_is_loading === 0) {\n",
       "            console.log(\"Bokeh: all BokehJS libraries loaded\");\n",
       "            run_callbacks()\n",
       "          }\n",
       "        };\n",
       "        s.onerror = function() {\n",
       "          console.warn(\"failed to load library \" + url);\n",
       "        };\n",
       "        console.log(\"Bokeh: injecting script tag for BokehJS library: \", url);\n",
       "        document.getElementsByTagName(\"head\")[0].appendChild(s);\n",
       "      }\n",
       "    };var element = document.getElementById(\"0396d6af-a5a9-4c9f-bfa2-8351f8ec18ef\");\n",
       "    if (element == null) {\n",
       "      console.log(\"Bokeh: ERROR: autoload.js configured with elementid '0396d6af-a5a9-4c9f-bfa2-8351f8ec18ef' but no matching script tag was found. \")\n",
       "      return false;\n",
       "    }\n",
       "  \n",
       "    var js_urls = [];\n",
       "  \n",
       "    var inline_js = [\n",
       "      function(Bokeh) {\n",
       "        (function() {\n",
       "          var fn = function() {\n",
       "            var docs_json = {\"60ef6343-1889-401b-8a56-ec81300b7d9c\":{\"roots\":{\"references\":[{\"attributes\":{\"data_source\":{\"id\":\"f35f4920-354f-4bb8-82eb-f57ed98f03d4\",\"type\":\"ColumnDataSource\"},\"glyph\":{\"id\":\"f7ffe6b4-6129-44fb-a160-9d9629951d8a\",\"type\":\"Line\"},\"hover_glyph\":null,\"nonselection_glyph\":{\"id\":\"995cd061-1f17-43ee-b56a-f6ca6a30731a\",\"type\":\"Line\"},\"selection_glyph\":null},\"id\":\"5391550a-e14c-4d32-b296-b27e7a8ed8af\",\"type\":\"GlyphRenderer\"},{\"attributes\":{\"line_color\":{\"value\":\"#ff7f00\"},\"line_width\":{\"value\":2},\"x\":{\"field\":\"x\"},\"y\":{\"field\":\"y\"}},\"id\":\"5fd019a1-144c-4228-a122-74c2340733ef\",\"type\":\"Line\"},{\"attributes\":{\"label\":{\"value\":\"10 Step 8 Nscaling\"},\"renderers\":[{\"id\":\"c69272ae-c34d-4a4e-b328-1b88e6a154bf\",\"type\":\"GlyphRenderer\"}]},\"id\":\"e15a09b0-cc3e-4a49-afde-cc18d1d0f171\",\"type\":\"LegendItem\"},{\"attributes\":{\"callback\":null,\"column_names\":[\"x\",\"y\"],\"data\":{\"x\":[0,1000,2000,3000,4000,5000,6000,7000,8000,9000,10000,11000,12000,13000,14000,15000,16000,17000,18000,19000,20000,21000,22000,23000,24000,25000,26000,27000,28000,29000,30000,31000,32000,33000,34000,35000,36000,37000,38000,39000,40000,41000,42000,43000,44000,45000,46000,47000,48000,49000,50000,51000,52000,53000,54000,55000,56000,57000,58000,59000,60000,61000,62000,63000,64000,65000,66000,67000,68000,69000,70000,71000,72000,73000,74000,75000,76000,77000,78000,79000,80000,81000,82000,83000,84000,85000,86000,87000,88000,89000,90000,91000,92000,93000,94000,95000,96000,97000,98000,99000,100000,101000,102000,103000,104000,105000,106000,107000,108000,109000,110000,111000,112000,113000,114000,115000,116000,117000,118000,119000,120000,121000,122000,123000,124000,125000,126000,127000,128000,129000,130000,131000,132000,133000,134000,135000,136000,137000,138000,139000,140000,141000,142000,143000,144000,145000,146000,147000,148000,149000,150000,151000,152000,153000,154000,155000,156000,157000,158000,159000,160000,161000,162000,163000,164000,165000,166000,167000,168000,169000,170000,171000,172000,173000,174000,175000,176000,177000,178000,179000,180000,181000,182000,183000,184000,185000,186000,187000,188000,189000,190000,191000,192000,193000,194000,195000,196000,197000,198000,199000,200000,201000,202000,203000,204000,205000,206000,207000,208000,209000,210000,211000,212000,213000,214000,215000,216000,217000,218000,219000,220000,221000,222000,223000,224000,225000,226000,227000,228000,229000,230000,231000,232000,233000,234000,235000,236000,237000,238000,239000,240000,241000,242000,243000,244000,245000,246000,247000,248000,249000,250000,251000,252000,253000,254000,255000,256000,257000,258000,259000,260000,261000,262000,263000,264000,265000,266000,267000,268000,269000,270000,271000,272000,273000,274000,275000,276000,277000,278000,279000,280000,281000,282000,283000,284000,285000,286000,287000,288000,289000,290000,291000,292000,293000,294000,295000,296000,297000,298000,299000,300000,301000,302000,303000,304000,305000,306000,307000,308000,309000,310000,311000,312000,313000,314000,315000,316000,317000,318000,319000,320000,321000,322000,323000,324000,325000,326000,327000,328000,329000,330000,331000,332000,333000,334000,335000,336000,337000,338000,339000,340000,341000,342000,343000,344000,345000,346000,347000,348000,349000,350000,351000,352000,353000,354000,355000,356000,357000,358000,359000,360000,361000,362000,363000,364000,365000,366000,367000,368000,369000,370000,371000,372000,373000,374000,375000,376000,377000,378000,379000,380000,381000,382000,383000,384000,385000,386000,387000,388000,389000,390000,391000,392000,393000,394000,395000,396000,397000,398000,399000,400000,401000,402000,403000,404000,405000,406000,407000,408000,409000,410000,411000,412000,413000,414000,415000,416000,417000,418000,419000,420000,421000,422000,423000,424000,425000,426000,427000,428000,429000,430000,431000,432000,433000,434000,435000,436000,437000,438000,439000,440000,441000,442000,443000,444000,445000,446000,447000,448000,449000,450000,451000,452000,453000,454000,455000,456000,457000,458000,459000,460000,461000,462000,463000,464000,465000,466000,467000,468000,469000,470000,471000,472000,473000,474000,475000,476000,477000,478000,479000,480000,481000,482000,483000,484000,485000,486000,487000,488000,489000,490000,491000,492000,493000,494000,495000,496000,497000,498000,499000,500000,501000,502000,503000,504000,505000,506000,507000,508000,509000,510000,511000,512000,513000,514000,515000,516000,517000,518000,519000,520000,521000,522000,523000,524000,525000,526000,527000,528000,529000,530000,531000,532000,533000,534000,535000,536000,537000,538000,539000,540000,541000,542000,543000,544000,545000,546000,547000,548000,549000,550000,551000,552000,553000,554000,555000,556000,557000,558000,559000,560000,561000,562000,563000,564000,565000,566000,567000,568000,569000,570000,571000,572000,573000,574000,575000,576000,577000,578000,579000,580000,581000,582000,583000,584000,585000,586000,587000,588000,589000,590000,591000,592000,593000,594000,595000,596000,597000,598000,599000,600000],\"y\":{\"__ndarray__\":\"AAAAAAAAAAAAAAAAAAAAAAAAAAAAAAAAAAAAAAAAAAAAAAAAAAAAAAAAAAAAAAAAAAAAAAAAAAAAAAAAAAAAAAAAAAAAAAAAAAAAAAAAAAAAAAAAAAAAAAAAAAAAAAAAAAAAAAAAAAAAAAAAAAAAAAAAAAAAAAAAAAAAAAAAAAAAAAAAAAAAAAAAAAAAAAAAAAAAAAAAAAAAAAAAAAAAAAAAAAAAAAAAAAAAAAAAAAAAAAAAAAAAAAAAAAAAAAAAAAAAAAAAAAAAAAAAAAAAAAAAAAAAAAAAAAAAAAAAAAAAAAAAAAAAAAAAAAAAAAAAAAAAAAAAAAAAAAAAAAAAAAAAAAAAAAAAAAAAAAAAAAAAAAAAAAAAAAAAAAAAAAAAAAAAAAAAAAAAAAAAAAAAAAAAAAAAAAAAAAAAAAAAAAAAAAAAAAAAAAAAAAAAAAAAAAAAAAAAAAAAAAAAAAAAAAAAAAAAAAAAAAAAAAAAAAAAAAAAAAAAAAAAAAAAAAAAAAAAAAAAAAAAAAAAAAAAAAAAAAAAAAAAAAAAAAAAAAAAAAAAAAAAAAAAAAAAAAAAAAAAAAAAAAAAAAAAAAAAAAAAAAAAAAAAAAAAAAAAAAAAAAAAAAAAAAAAAAAAAAAAAAAAAAAAAAAAAAAAAAAAAAAAAAAAAAAAAAAAAAAAAAAAAAAAAAAAAAAAAAAAAAAAAAAAAAAAAAAAAAAAAAAAAAAAAAAAAAAAAAAAAAAAAAAAAAAAAAAAAAAAAAAAAAAAAAAAAAAAAAAAAAAAAAAAAAAAAAAAAAAAAAAAAAAAAAAAAAAAAAAAAAAAAAAAAAAAAAAAAAAAAAAAAAAAAAAAAAAAAAAAAAAAAAAAAAAAAAAAAAAAAAAAAAAAAAAAAAAAAAAAAAAAAAAAAAAAAAAAAAAAAAAAAAAAAAAAAAAAAAAAAAAAAAAAAAAAAAAAAAAAAAAAAAAAAAAAAAAAAAAAAAAAAAAAAAAAAAAAAAAAAAAAAAAAAAAAAAAAAAAAAAAAAAAAAAAAAAAAAAAAAAAAAAAAAAAAAAAAAAAAAAAAAAAAAAAAAAAAAAAAAAAAAAAAAAAAAAAAAAAAAAAAAAAAAAAAAAAAAAAAAAAAAAAAAAAAAAAAAAAAAAAAAAAAAAAAAAAAAAAAAAAAAAAAAAAAAAAAAAAAAAAAAAAAAAAAAAAAAAAAAAAAAAAAAAAAAAAAAAAAAAAAAAAAAAAAAAAAAAAAAAAAAAAAAAAAAAAAAAAAAAAAAAAAAAAAAAAAAAAAAAAAAAAAAAAAAAAAAAAAAAAAAAAAAAAAAAAAAAAAAAAAAAAAAAAAAAAAAAAAAAAAAAAAAAAAAAAAAAAAAAAAAAAAAAAAAAAAAAAAAAAAAAAAAAAAAAAAAAAAAAAAAAAAAAAAAAAAAAAAAAAAAAAAAAAAAAAAAAAAAAAAAAAAAAAAAAAAAAAAAAAAAAAAAAAAAAAAAAAAAAAAAAAAAAAAAAAAAAAAAAAAAAAAAAAAAAAAAAAAAAAAAAAAAAAAAAAAAAAAAAAAAAAAAAAAAAAAAAAAAAAAAAAAAAAAAAAAAAAAAAAAAAAAAAAAAAAAAAAAAAAAAAAAAAAAAAAAAAAAAAAAAAAAAAAAAAAAAAAAAAAAAAAAAAAAAAAAAAAAAAAAAAAAAAAAAAAAAAAAAAAAAAAAAAAAAAAAAAAAAAAAAAAAAAAAAAAAAAAAAAAAAAAAAAAAAAAAAAAAAAAAAAAAAAAAAAAAAAAAAAAAAAAAAAAAAAAAAAAAAAAAAAAAAAAAAAAAAAAAAAAAAAAAAAAAAAAAAAAAAAAAAAAAAAAAAAAAAAAAAAAAAAAAAAAAAAAAAAAAAAAAAAAAAAAAAAAAAAAAAAAAAAAAAAAAAAAAAAAAAAAAAAAAAAAAAAAAAAAAAAAAAAAAAAAAAAAAAAAAAAAAAAAAAAAAAAAAAAAAAAAAAAAAAAAAAAAAAAAAAAAAAAAAAAAAAAAAAAAAAAAAAAAAAAAAAAAAAAAAAAAAAAAAAAAAAAAAAAAAAAAAAAAAAAAAAAAAAAAAAAAAAAAAAAAAAAAAAAAAAAAAAAAAAAAAAAAAAAAAAAAAAAAAAAAAAAAAAAAAAAAAAAAAAAAAAAAAAAAAAAAAAAAAAAAAAAAAAAAAAAAAAAAAAAAAAAAAAAAAAAAAAAAAAAAAAAAAAAAAAAAAAAAAAAAAAAAAAAAAAAAAAAAAAAAAAAAAAAAAAAAAAAAAAAAAAAAAAAAAAAAAAAAAAAAAAAAAAAAAAAAAAAAAAAAAAAAAAAAAAAAAAAAAAAAAAAAAAAAAAAAAAAAAAAAAAAAAAAAAAAAAAAAAAAAAAAAAAAAAAAAAAAAAAAAAAAAAAAAAAAAAAAAAAAAAAAAAAAAAAAAAAAAAAAAAAAAAAAAAAAAAAAAAAAAAAAAAAAAAAAAAAAAAAAAAAAAAAAAAAAAAAAAAAAAAAAAAAAAAAAAAAAAAAAAAAAAAAAAAAAAAAAAAAAAAAAAAAAAAAAAAAAAAAAAAAAAAAAAAAAAAAAAAAAAAAAAAAAAAAAAAAAAAAAAAAAAAAAAAAAAAAAAAAAAAAAAAAAAAAAAAAAAAAAAAAAAAAAAAAAAAAAAAAAAAAAAAAAAAAAAAAAAAAAAAAAAAAAAAAAAAAAAAAAAAAAAAAAAAAAAAAAAAAAAAAAAAAAAAAAAAAAAAAAAAAAAAAAAAAAAAAAAAAAAAAAAAAAAAAAAAAAAAAAAAAAAAAAAAAAAAAAAAAAAAAAAAAAAAAAAAAAAAAAAAAAAAAAAAAAAAAAAAAAAAAAAAAAAAAAAAAAAAAAAAAAAAAAAAAAAAAAAAAAAAAAAAAAAAAAAAAAAAAAAAAAAAAAAAAAAAAAAAAAAAAAAAAAAAAAAAAAAAAAAAAAAAAAAAAAAAAAAAAAAAAAAAAAAAAAAAAAAAAAAAAAAAAAAAAAAAAAAAAAAAAAAAAAAAAAAAAAAAAAAAAAAAAAAAAAAAAAAAAAAAAAAAAAAAAAAAAAAAAAAAAAAAAAAAAAAAAAAAAAAAAAAAAAAAAAAAAAAAAAAAAAAAAAAAAAAAAAAAAAAAAAAAAAAAAAAAAAAAAAAAAAAAAAAAAAAAAAAAAAAAAAAAAAAAAAAAAAAAAAAAAAAAAAAAAAAAAAAAAAAAAAAAAAAAAAAAAAAAAAAAAAAAAAAAAAAAAAAAAAAAAAAAAAAAAAAAAAAAAAAAAAAAAAAAAAAAAAAAAAAAAAAAAAAAAAAAAAAAAAAAAAAAAAAAAAAAAAAAAAAAAAAAAAAAAAAAAAAAAAAAAAAAAAAAAAAAAAAAAAAAAAAAAAAAAAAAAAAAAAAAAAAAAAAAAAAAAAAAAAAAAAAAAAAAAAAAAAAAAAAAAAAAAAAAAAAAAAAAAAAAAAAAAAAAAAAAAAAAAAAAAAAAAAAAAAAAAAAAAAAAAAAAAAAAAAAAAAAAAAAAAAAAAAAAAAAAAAAAAAAAAAAAAAAAAAAAAAAAAAAAAAAAAAAAAAAAAAAAAAAAAAAAAAAAAAAAAAAAAAAAAAAAAAAAAAAAAAAAAAAAAAAAAAAAAAAAAAAAAAAAAAAAAAAAAAAAAAAAAAAAAAAAAAAAAAAAAAAAAAAAAAAAAAAAAAAAAAAAAAAAAAAAAAAAAAAAAAAAAAAAAAAAAAAAAAAAAAAAAAAAAAAAAAAAAAAAAAAAAAAAAAAAAAAAAAAAAAAAAAAAAAAAAAAAAAAAAAAAAAAAAAAAAAAAAAAAAAAAAAAAAAAAAAAAAAAAAAAAAAAAAAAAAAAAAAAAAAAAAAAAAAAAAAAAAAAAAAAAAAAAAAAAAAAAAAAAAAAAAAAAAAAAAAAAAAAAAAAAAAAAAAAAAAAAAAAAAAAAAAAAAAAAAAAAAAAAAAAAAAAAAAAAAAAAAAAAAAAAAAAAAAAAAAAAAAAAAAAAAAAAAAAAAAAAAAAAAAAAAAAAAAAAAAAAAAAAAAAAAAAAAAAAAAAAAAAAAAAAAAAAAAAAAAAAAAAAAAAAAAAAAAAAAAAAAAAAAAAAAAAAAAAAAAAAAAAAAAAAAAAAAAAAAAAAAAAAAAAAAAAAAAAAAAAAAAAAAAAAAAAAAAAAAAAAAAAAAAAAAAAAAAAAAAAAAAAAAAAAAAAAAAAAAAAAAAAAAAAAAAAAAAAAAAAAAAAAAAAAAAAAAAAAAAAAAAAAAAAAAAAAAAAAAAAAAAAAAAAAAAAAAAAAAAAAAAAAAAAAAAAAAAAAAAAAAAAAAAAAAAAAAAAAAAAAAAAAAAAAAAAAAAAAAAAAAAAAAAAAAAAAAAAAAAAAAAAAAAAAAAAAAAAAAAAAAAAAAAAAAAAAAAAAAAAAAAAAAAAAAAAAAAAAAAAAAAAAAAAAAAAAAAAAAAAAAAAAAAAAAAAAAAAAAAAAAAAAAAAAAAAAAAAAAAAAAAAAAAAAAAAAAAAAAAAAAAAAAAAAAAAAAAAAAAAAAAAAAAAAAAAAAAAAAAAAAAAAAAAAAAAAAAAAAAAAAAAAAAAAAAAAAAAAAAAAAAAAAAAAAAAAAAAAAAAAAAAAAAAAAAAAAAAAAAAAAAAAAAAAAAAAAAAAAAAAAAAAAAAAAAAAAAAAAAAAAAAAAAAAAAAAAAAAAAAAAAAAAAAAAAAAAAAAAAAAAAAAAAAAAAAAAAAAAAAAAAAAAAAAAAAAAAAAAAAAAAAAAAAAAAAAAAAAAAAAAAAAAAAAAAAAAAAAAAAAAAAAAAAAAAAAAAAAAAAAAAAAAAAAAAAAAAAAAAAAAAAAAAAAAAAAAAAAAAAAAAAAAAAAAAAAAAAAAAAAAAAAAAAAAAAAAAAAAAAAAAAAAAAAAAAAAAAAAAAAAAAAAAAAAAAAAAAAAAAAAAAAAAAAAAAAAAAAAAAAAAAAAAAAAAAAAAAAAAAAAAAAAAAAAAAAAAAAAAAAAAAAAAAAAAAAAAAAAAAAAAAAAAAAAAAAAAAAAAAAAAAAAAAAAAAAAAAAAAAAAAAAAAAAAAAAAAAAAAAAAAAAAAAAAAAAAAAAAAAAAAAAAAAAAAAAAAAAAAAAAAAAAAAAAAAAAAAAAAAAAAAAAAAAAAAAAAAAAAAAAAAAAAAAAAAAAAAAAAAAAAAAAAAAAAAAAAAAAAAAAAAAAAAAAAAAAAAAAAAAAAAAAAAAAAAAAAAAAAAAAAAAAAAAAAAAAAAAAAAAAAAAAAAAAAAAAAAAAAAAAAAAAAAAAAAAAAAAAAAAAAAAAAAAAAAAAAAAAAAAAAAAAAAAAAAAAAAAAAAAAAAAAAAAAAAAAAAAAAAAAAAAAAAAAAAAAAAAAAAAAAAAAAAAAAAAAAAAAAAAAAAAAAAAAAAAAAAAAAAAAAAAAAAAAAAAAAAAAAAAAAAAAAAAAAAAAAAAAAAAAAAAAAAAAAAAAAAAAAAAAAAAAAAAAAAAAAAAAAAAAAAAAAAAAAAAAAAAAAAAAAAAAAAAAAAAAAAAAAAAAAAAAAAAAAAAAAAAAAAAAAAAAAAAAAAAAAAAAAAAAAAAAAAAAAAAAAAAAAAAAAAAAAAAAAAAAAAAAAAAAAAAAAAAAAAAAAAAAAAAAAAAAAAAAAAAAAAAAAAAAAAAAAAAAAAAAAAAAAAAAAAAAAAAAAAAAAAAAAAAAAAAAAAAAAAAAAAAAAAAAAAAAAAAAAAAAAAAAAAAAAAAAAAAAAAAAAAAAAAAAAAAAAAAAAAAAAAAAAAAAAAAAAAAAAAAAAAAAAAAAAAAAAAAAAAAAAAAAAAAAAAAAAAAAAAAAAAAAAAAAAAAAAAAAAAAAAAAAAAAAAAAAAAAAAAAAAAAAAAAAAAAAAAAAAAAAAAAAAAAAAAAAAAAAAAAAAAAAAAAAAAAAAAAAAAAAAAAAAAAAAAAAAAAAAAAAAAAAAAAAAAAAAAAAAAAAAAAAAAAAAAAAAAAAAAAAAAAAAAAAAAAAAAAAAAAAAAAAAAAAAAAAAAAAAAAAAAAAAAAAAAAAAAAAAAAAAAAAAAAAAAAAAAAAAAAAAAAAAAAAAAAAAAAAAAAAAAAAAAAAAAAAAAAAAAAAAAAAAAAAAAAAAAAAAAAAAAAAAAAAAAAAAAAAAAAAAAAAAAAAAAAAAAAAAAAAAAAAAAAAAAAAAAAAAAAAAAAAAAAAAAAAAAAAAAAAAAAAAAAAAAAAAAAAAAAAAAAAAAAAAAAAAAAAAAAAAAAAAAAAAAAAAAAAAAAAAAAAAAAAAAAAAAAAAAAAAAAAAAAAAAAAAAAAAAAAAAAAAAAAAAAAAAAAAAAAAAAAAAAAAAAAAAAAAAAAAAAAAAAAAAAAAAAAAAAAAAAAAAAAAAAAAAAAAAAAAAAAAAAAAAAAAAAAAAAAAAAAAAAAAAAAAAAAAAAAAAAAAAAAAAAAAAAAAAAAAAAAAAAAAAAAAAAAAA=\",\"dtype\":\"float64\",\"shape\":[601]}}},\"id\":\"e2216d12-73f6-4319-8ade-c22e36053804\",\"type\":\"ColumnDataSource\"},{\"attributes\":{\"data_source\":{\"id\":\"457d692c-8926-42b8-b342-f331ac3c9515\",\"type\":\"ColumnDataSource\"},\"glyph\":{\"id\":\"99750bb9-fab6-4d2f-8818-eb36c6dce8c8\",\"type\":\"Line\"},\"hover_glyph\":null,\"nonselection_glyph\":{\"id\":\"a94aa23e-79de-4d3f-b130-76308a1377e3\",\"type\":\"Line\"},\"selection_glyph\":null},\"id\":\"f26431be-6747-4786-902c-1f7111236fdc\",\"type\":\"GlyphRenderer\"},{\"attributes\":{\"label\":{\"value\":\"1 Step 2 Nscaling\"},\"renderers\":[{\"id\":\"0ed312d0-c51a-4a98-9f37-4de9bcb5c65f\",\"type\":\"GlyphRenderer\"}]},\"id\":\"cd49fca7-5094-4f06-955d-e06072d1d9ee\",\"type\":\"LegendItem\"},{\"attributes\":{\"data_source\":{\"id\":\"d651f9b3-4820-4ab1-b85a-bc7b501c2348\",\"type\":\"ColumnDataSource\"},\"glyph\":{\"id\":\"27b1cb27-9c8e-42bd-8f3a-ebde43591e63\",\"type\":\"Line\"},\"hover_glyph\":null,\"nonselection_glyph\":{\"id\":\"03a560e4-9866-4040-9899-7b3e0668b33a\",\"type\":\"Line\"},\"selection_glyph\":null},\"id\":\"c69272ae-c34d-4a4e-b328-1b88e6a154bf\",\"type\":\"GlyphRenderer\"},{\"attributes\":{\"below\":[{\"id\":\"a61f0eb2-529b-46ca-a92b-f106e0764754\",\"type\":\"LinearAxis\"}],\"left\":[{\"id\":\"e55eab29-ec87-438d-b122-e15500f9165b\",\"type\":\"LinearAxis\"}],\"plot_height\":800,\"plot_width\":1200,\"renderers\":[{\"id\":\"a61f0eb2-529b-46ca-a92b-f106e0764754\",\"type\":\"LinearAxis\"},{\"id\":\"75940df2-69b0-4a99-b49c-022913838a40\",\"type\":\"Grid\"},{\"id\":\"e55eab29-ec87-438d-b122-e15500f9165b\",\"type\":\"LinearAxis\"},{\"id\":\"25a81a02-a2b5-4b85-9f8d-f86007496f32\",\"type\":\"Grid\"},{\"id\":\"394aaa4c-1f31-4ec0-bb05-2c149e64c447\",\"type\":\"BoxAnnotation\"},{\"id\":\"19208732-0840-4ebd-908b-038cf656ce95\",\"type\":\"GlyphRenderer\"},{\"id\":\"0ed312d0-c51a-4a98-9f37-4de9bcb5c65f\",\"type\":\"GlyphRenderer\"},{\"id\":\"43260d1d-9234-441b-b4fa-1148f13d05cb\",\"type\":\"GlyphRenderer\"},{\"id\":\"5391550a-e14c-4d32-b296-b27e7a8ed8af\",\"type\":\"GlyphRenderer\"},{\"id\":\"9137928f-505d-414a-8a14-43c0ea16f5eb\",\"type\":\"GlyphRenderer\"},{\"id\":\"ca53fa57-61d8-4752-baa1-1b768aa5dedf\",\"type\":\"GlyphRenderer\"},{\"id\":\"f26431be-6747-4786-902c-1f7111236fdc\",\"type\":\"GlyphRenderer\"},{\"id\":\"c69272ae-c34d-4a4e-b328-1b88e6a154bf\",\"type\":\"GlyphRenderer\"},{\"id\":\"b609dec0-0af2-4b32-be9b-5ed4a6586c7f\",\"type\":\"Legend\"}],\"right\":[{\"id\":\"b609dec0-0af2-4b32-be9b-5ed4a6586c7f\",\"type\":\"Legend\"}],\"title\":{\"id\":\"3d946ffb-68eb-45e9-8079-242c0994df61\",\"type\":\"Title\"},\"tool_events\":{\"id\":\"eafbd9b2-3d46-4b21-bec6-354ed674aeba\",\"type\":\"ToolEvents\"},\"toolbar\":{\"id\":\"91dec1c4-95e0-4c48-92bc-2749267cd3b4\",\"type\":\"Toolbar\"},\"toolbar_location\":\"above\",\"x_range\":{\"id\":\"8e1bf102-1067-4a07-9663-26df682ab3a4\",\"type\":\"DataRange1d\"},\"y_range\":{\"id\":\"4361fb4c-3625-408b-a240-4279dfa8fb44\",\"type\":\"Range1d\"}},\"id\":\"814d2804-e4b6-4b8e-8387-a7dc05294a05\",\"subtype\":\"Figure\",\"type\":\"Plot\"},{\"attributes\":{\"callback\":null,\"column_names\":[\"x\",\"y\"],\"data\":{\"x\":[0,1000,2000,3000,4000,5000,6000,7000,8000,9000,10000,11000,12000,13000,14000,15000,16000,17000,18000,19000,20000,21000,22000,23000,24000,25000,26000,27000,28000,29000,30000,31000,32000,33000,34000,35000,36000,37000,38000,39000,40000,41000,42000,43000,44000,45000,46000,47000,48000,49000,50000,51000,52000,53000,54000,55000,56000,57000,58000,59000,60000,61000,62000,63000,64000,65000,66000,67000,68000,69000,70000,71000,72000,73000,74000,75000,76000,77000,78000,79000,80000,81000,82000,83000,84000,85000,86000,87000,88000,89000,90000,91000,92000,93000,94000,95000,96000,97000,98000,99000,100000,101000,102000,103000,104000,105000,106000,107000,108000,109000,110000,111000,112000,113000,114000,115000,116000,117000,118000,119000,120000,121000,122000,123000,124000,125000,126000,127000,128000,129000,130000,131000,132000,133000,134000,135000,136000,137000,138000,139000,140000,141000,142000,143000,144000,145000,146000,147000,148000,149000,150000,151000,152000,153000,154000,155000,156000,157000,158000,159000,160000,161000,162000,163000,164000,165000,166000,167000,168000,169000,170000,171000,172000,173000,174000,175000,176000,177000,178000,179000,180000,181000,182000,183000,184000,185000,186000,187000,188000,189000,190000,191000,192000,193000,194000,195000,196000,197000,198000,199000,200000,201000,202000,203000,204000,205000,206000,207000,208000,209000,210000,211000,212000,213000,214000,215000,216000,217000,218000,219000,220000,221000,222000,223000,224000,225000,226000,227000,228000,229000,230000,231000,232000,233000,234000,235000,236000,237000,238000,239000,240000,241000,242000,243000,244000,245000,246000,247000,248000,249000,250000,251000,252000,253000,254000,255000,256000,257000,258000,259000,260000,261000,262000,263000,264000,265000,266000,267000,268000,269000,270000,271000,272000,273000,274000,275000,276000,277000,278000,279000,280000,281000,282000,283000,284000,285000,286000,287000,288000,289000,290000,291000,292000,293000,294000,295000,296000,297000,298000,299000,300000,301000,302000,303000,304000,305000,306000,307000,308000,309000,310000,311000,312000,313000,314000,315000,316000,317000,318000,319000,320000,321000,322000,323000,324000,325000,326000,327000,328000,329000,330000,331000,332000,333000,334000,335000,336000,337000,338000,339000,340000,341000,342000,343000,344000,345000,346000,347000,348000,349000,350000,351000,352000,353000,354000,355000,356000,357000,358000,359000,360000,361000,362000,363000,364000,365000,366000,367000,368000,369000,370000,371000,372000,373000,374000,375000,376000,377000,378000,379000,380000,381000,382000,383000,384000,385000,386000,387000,388000,389000,390000,391000,392000,393000,394000,395000,396000,397000,398000,399000,400000,401000,402000,403000,404000,405000,406000,407000,408000,409000,410000,411000,412000,413000,414000,415000,416000,417000,418000,419000,420000,421000,422000,423000,424000,425000,426000,427000,428000,429000,430000,431000,432000,433000,434000,435000,436000,437000,438000,439000,440000,441000,442000,443000,444000,445000,446000,447000,448000,449000,450000,451000,452000,453000,454000,455000,456000,457000,458000,459000,460000,461000,462000,463000,464000,465000,466000,467000,468000,469000,470000,471000,472000,473000,474000,475000,476000,477000,478000,479000,480000,481000,482000,483000,484000,485000,486000,487000,488000,489000,490000,491000,492000,493000,494000,495000,496000,497000,498000,499000,500000,501000,502000,503000,504000,505000,506000,507000,508000,509000,510000,511000,512000,513000,514000,515000,516000,517000,518000,519000,520000,521000,522000,523000,524000,525000,526000,527000,528000,529000,530000,531000,532000,533000,534000,535000,536000,537000,538000,539000,540000,541000,542000,543000,544000,545000,546000,547000,548000,549000,550000,551000,552000,553000,554000,555000,556000,557000,558000,559000,560000,561000,562000,563000,564000,565000,566000,567000,568000,569000,570000,571000,572000,573000,574000,575000,576000,577000,578000,579000,580000,581000,582000,583000,584000,585000,586000,587000,588000,589000,590000,591000,592000,593000,594000,595000,596000,597000,598000,599000,600000],\"y\":{\"__ndarray__\":\"AAAAAAAAAAAAAAAAAAAAAAAAAAAAAAAAAAAAAAAAAAAAAAAAAAAAAAAAAAAAAAAAAAAAAAAAAAAAAAAAAAAAAAAAAAAAAAAAAAAAAAAAAAAAAAAAAAAAAAAAAAAAAAAAAAAAAAAAAAAAAAAAAAAAAAAAAAAAAAAAAAAAAAAAAAAAAAAAAAAAAAAAAAAAAAAAAAAAAAAAAAAAAAAAAAAAAAAAAAAAAAAAAAAAAAAAAAAAAAAAAAAAAAAAAAAAAAAAAAAAAAAAAAAAAAAAAAAAAAAAAAAAAAAAAAAAAAAAAAAAAAAAAAAAAAAAAAAAAAAAAAAAAAAAAAAAAAAAAAAAAAAAAAAAAAAAAAAAAAAAAAAAAAAAAAAAAAAAAAAAAAAAAAAAAAAAAAAAAAAAAAAAAAAAAAAAAAAAAAAAAAAAAAAAAAAAAAAAAAAAAAAAAAAAAAAAAAAAAAAAAAAAAAAAAAAAAAAAAAAAAAAAAAAAAAAAAAAAAAAAAAAAAAAAAAAAAAAAAAAAAAAAAAAAAAAAAAAAAAAAAAAAAAAAAAAAAAAAAAAAAAAAAAAAAAAAAAAAAAAAAAAAAAAAAAAAAAAAAAAAAAAAAAAAAAAAAAAAAAAAAAAAAAAAAAAAAAAAAAAAAAAAAAAAAAAAAAAAAAAAAAAAAAAAAAAAAAAAAAAAAAAAAAAAAAAAAAAAAAAAAAAAAAAAAAAAAAAAAAAAAAAAAAAAAAAAAAAAAAAAAAAAAAAAAAAAAAAAAAAAAAAAAAAAAAAAAAAAAAAAAAAAAAAAAAAAAAAAAAAAAAAAAAAAAAAAAAAAAAAAAAAAAAAAAAAAAAAAAAAAAAAAAAAAAAAAAAAAAAAAAAAAAAAAAAAAAAAAAAAAAAAAAAAAAAAAAAAAAAAAAAAAAAAAAAAAAAAAAAAAAAAAAAAAAAAAAAAAAAAAAAAAAAAAAAAAAAAAAAAAAAAAAAAAAAAAAAAAAAAAAAAAAAAAAAAAAAAAAAAAAAAAAAAAAAAAAAAAAAAAAAAAAAAAAAAAAAAAAAAAAAAAAAAAAAAAAAAAAAAAAAAAAAAAAAAAAAAAAAAAAAAAAAAAAAAAAAAAAAAAAAAAAAAAAAAAAAAAAAAAAAAAAAAAAAAAAAAAAAAAAAAAAAAAAAAAAAAAAAAAAAAAAAAAAAAAAAAAAAAAAAAAAAAAAAAAAAAAAAAAAAAAAAAAAAAAAAAAAAAAAAAAAAAAAAAAAAAAAAAAAAAAAAAAAAAAAAAAAAAAAAAAAAAAAAAAAAAAAAAAAAAAAAAAAAAAAAAAAAAAAAAAAAAAAAAAAAAAAAAAAAAAAAAAAAAAAAAAAAAAAAAAAAAAAAAAAAAAAAAAAAAAAAAAAAAAAAAAAAAAAAAAAAAAAAAAAAAAAAAAAAAAAAAAAAAAAAAAAAAAAAAAAAAAAAAAAAAAAAAAAAAAAAAAAAAAAAAAAAAAAAAAAAAAAAAAAAAAAAAAAAAAAAAAAAAAAAAAAAAAAAAAAAAAAAAAAAAAAAAAAAAAAAAAAAAAAAAAAAAAAAAAAAAAAAAAAAAAAAAAAAAAAAAAAAAAAAAAAAAAAAAAAAAAAAAAAAAAAAAAAAAAAAAAAAAAAAAAAAAAAAAAAAAAAAAAAAAAAAAAAAAAAAAAAAAAAAAAAAAAAAAAAAAAAAAAAAAAAAAAAAAAAAAAAAAAAAAAAAAAAAAAAAAAAAAAAAAAAAAAAAAAAAAAAAAAAAAAAAAAAAAAAAAAAAAAAAAAAAAAAAAAAAAAAAAAAAAAAAAAAAAAAAAAAAAAAAAAAAAAAAAAAAAAAAAAAAAAAAAAAAAAAAAAAAAAAAAAAAAAAAAAAAAAAAAAAAAAAAAAAAAAAAAAAAAAAAAAAAAAAAAAAAAAAAAAAAAAAAAAAAAAAAAAAAAAAAAAAAAAAAAAAAAAAAAAAAAAAAAAAAAAAAAAAAAAAAAAAAAAAAAAAAAAAAAAAAAAAAAAAAAAAAAAAAAAAAAAAAAAAAAAAAAAAAAAAAAAAAAAAAAAAAAAAAAAAAAAAAAAAAAAAAAAAAAAAAAAAAAAAAAAAAAAAAAAAAAAAAAAAAAAAAAAAAAAAAAAAAAAAAAAAAAAAAAAAAAAAAAAAAAAAAAAAAAAAAAAAAAAAAAAAAAAAAAAAAAAAAAAAAAAAAAAAAAAAAAAAAAAAAAAAAAAAAAAAAAAAAAAAAAAAAAAAAAAAAAAAAAAAAAAAAAAAAAAAAAAAAAAAAAAAAAAAAAAAAAAAAAAAAAAAAAAAAAAAAAAAAAAAAAAAAAAAAAAAAAAAAAAAAAAAAAAAAAAAAAAAAAAAAAAAAAAAAAAAAAAAAAAAAAAAAAAAAAAAAAAAAAAAAAAAAAAAAAAAAAAAAAAAAAAAAAAAAAAAAAAAAAAAAAAAAAAAAAAAAAAAAAAAAAAAAAAAAAAAAAAAAAAAAAAAAAAAAAAAAAAAAAAAAAAAAAAAAAAAAAAAAAAAAAAAAAAAAAAAAAAAAAAAAAAAAAAAAAAAAAAAAAAAAAAAAAAAAAAAAAAAAAAAAAAAAAAAAAAAAAAAAAAAAAAAAAAAAAAAAAAAAAAAAAAAAAAAAAAAAAAAAAAAAAAAAAAAAAAAAAAAAAAAAAAAAAAAAAAAAAAAAAAAAAAAAAAAAAAAAAAAAAAAAAAAAAAAAAAAAAAAAAAAAAAAAAAAAAAAAAAAAAAAAAAAAAAAAAAAAAAAAAAAAAAAAAAAAAAAAAAAAAAAAAAAAAAAAAAAAAAAAAAAAAAAAAAAAAAAAAAAAAAAAAAAAAAAAAAAAAAAAAAAAAAAAAAAAAAAAAAAAAAAAAAAAAAAAAAAAAAAAAAAAAAAAAAAAAAAAAAAAAAAAAAAAAAAAAAAAAAAAAAAAAAAAAAAAAAAAAAAAAAAAAAAAAAAAAAAAAAAAAAAAAAAAAAAAAAAAAAAAAAAAAAAAAAAAAAAAAAAAAAAAAAAAAAAAAAAAAAAAAAAAAAAAAAAAAAAAAAAAAAAAAAAAAAAAAAAAAAAAAAAAAAAAAAAAAAAAAAAAAAAAAAAAAAAAAAAAAAAAAAAAAAAAAAAAAAAAAAAAAAAAAAAAAAAAAAAAAAAAAAAAAAAAAAAAAAAAAAAAAAAAAAAAAAAAAAAAAAAAAAAAAAAAAAAAAAAAAAAAAAAAAAAAAAAAAAAAAAAAAAAAAAAAAAAAAAAAAAAAAAAAAAAAAAAAAAAAAAAAAAAAAAAAAAAAAAAAAAAAAAAAAAAAAAAAAAAAAAAAAAAAAAAAAAAAAAAAAAAAAAAAAAAAAAAAAAAAAAAAAAAAAAAAAAAAAAAAAAAAAAAAAAAAAAAAAAAAAAAAAAAAAAAAAAAAAAAAAAAAAAAAAAAAAAAAAAAAAAAAAAAAAAAAAAAAAAAAAAAAAAAAAAAAAAAAAAAAAAAAAAAAAAAAAAAAAAAAAAAAAAAAAAAAAAAAAAAAAAAAAAAAAAAAAAAAAAAAAAAAAAAAAAAAAAAAAAAAAAAAAAAAAAAAAAAAAAAAAAAAAAAAAAAAAAAAAAAAAAAAAAAAAAAAAAAAAAAAAAAAAAAAAAAAAAAAAAAAAAAAAAAAAAAAAAAAAAAAAAAAAAAAAAAAAAAAAAAAAAAAAAAAAAAAAAAAAAAAAAAAAAAAAAAAAAAAAAAAAAAAAAAAAAAAAAAAAAAAAAAAAAAAAAAAAAAAAAAAAAAAAAAAAAAAAAAAAAAAAAAAAAAAAAAAAAAAAAAAAAAAAAAAAAAAAAAAAAAAAAAAAAAAAAAAAAAAAAAAAAAAAAAAAAAAAAAAAAAAAAAAAAAAAAAAAAAAAAAAAAAAAAAAAAAAAAAAAAAAAAAAAAAAAAAAAAAAAAAAAAAAAAAAAAAAAAAAAAAAAAAAAAAAAAAAAAAAAAAAAAAAAAAAAAAAAAAAAAAAAAAAAAAAAAAAAAAAAAAAAAAAAAAAAAAAAAAAAAAAAAAAAAAAAAAAAAAAAAAAAAAAAAAAAAAAAAAAAAAAAAAAAAAAAAAAAAAAAAAAAAAAAAAAAAAAAAAAAAAAAAAAAAAAAAAAAAAAAAAAAAAAAAAAAAAAAAAAAAAAAAAAAAAAAAAAAAAAAAAAAAAAAAAAAAAAAAAAAAAAAAAAAAAAAAAAAAAAAAAAAAAAAAAAAAAAAAAAAAAAAAAAAAAAAAAAAAAAAAAAAAAAAAAAAAAAAAAAAAAAAAAAAAAAAAAAAAAAAAAAAAAAAAAAAAAAAAAAAAAAAAAAAAAAAAAAAAAAAAAAAAAAAAAAAAAAAAAAAAAAAAAAAAAAAAAAAAAAAAAAAAAAAAAAAAAAAAAAAAAAAAAAAAAAAAAAAAAAAAAAAAAAAAAAAAAAAAAAAAAAAAAAAAAAAAAAAAAAAAAAAAAAAAAAAAAAAAAAAAAAAAAAAAAAAAAAAAAAAAAAAAAAAAAAAAAAAAAAAAAAAAAAAAAAAAAAAAAAAAAAAAAAAAAAAAAAAAAAAAAAAAAAAAAAAAAAAAAAAAAAAAAAAAAAAAAAAAAAAAAAAAAAAAAAAAAAAAAAAAAAAAAAAAAAAAAAAAAAAAAAAAAAAAAAAAAAAAAAAAAAAAAAAAAAAAAAAAAAAAAAAAAAAAAAAAAAAAAAAAAAAAAAAAAAAAAAAAAAAAAAAAAAAAAAAAAAAAAAAAAAAAAAAAAAAAAAAAAAAAAAAAAAAAAAAAAAAAAAAAAAAAAAAAAAAAAAAAAAAAAAAAAAAAAAAAAAAAAAAAAAAAAAAAAAAAAAAAAAAAAAAAAAAAAAAAAAAAAAAAAAAAAAAAAAAAAAAAAAAAAAAAAAAAAAAAAAAAAAAAAAAAAAAAAAAAAAAAAAAAAAAAAAAAAAAAAAAAAAAAAAAAAAAAAAAAAAAAAAAAAAAAAAAAAAAAAAAAAAAAAAAAAAAAAAAAAAAAAAAAAAAAAAAAAAAAAAAAAAAAAAAAAAAAAAAAAAAAAAAAAAAAAAAAAAAAAAAAAAAAAAAAAAAAAAAAAAAAAAAAAAAAAAAAAAAAAAAAAAAAAAAAAAAAAAAAAAAAAAAAAAAAAAAAAAAAAAAAAAAAAAAAAAAAAAAAAAAAAAAAAAAAAAAAAAAAAAAAAAAAAAAAAAAAAAAAAAAAAAAAAAAAAAAAAAAAAAAAAAAAAAAAAAAAAAAAAAAAAAAAAAAAAAAAAAAAAAAAAAAAAAAAAAAAAAAAAAAAAAAAAAAAAAAAAAAAAAAAAAAAAAAAAAAAAAAAAAAAAAAAAAAAAAAAAAAAAAAAAAAAAAAAAAAAAAAAAAAAAAAAAAAAAAAAAAAAAAAAAAAAAAAAAAAAAAAAAAAAAAAAAAAAAAAAAAAAAAAAAAAAAAAAAAAAAAAAAAAAAAAAAAAAAAAAAAAAAAAAAAAAAAAAAAAAAAAAAAAAAAAAAAAAAAAAAAAAAAAAAAAAAAAAAAAAAAAAAAAAAAAAAAAAAAAAAAAAAAAAAAAAAAAAAAAAAAAAAAAAAAAAAAAAAAAAAAAAAAAAAAAAAAAAAAAAAAAAAAAAAAAAAAAAAAAAAAAAAAAAAAAAAAAAAAAAAAAAAAAAAAAAAAAAAAAAAAAAAAAAAAAAAAAAAAAAAAAAAAAAAAAAAAAAAAAAAAAAAAAAAAAAAAAAAAAAAAAAAAAAAAAAAAAAAAAAAAAAAAAAAAAAAAAAAAAAAAAAAAAAAAAAAAAAAAAAAAAAAAAAAAAAAAAAAAAAAAAAAAAAAAAAAAAAAAAAAAAAAAAAAAAAAAAAAAAAAAAAAAAAAAAAAAAAAAAAAAAAAAAAAAAAAAAAAAAAAAAAAAAAAAAAAAAAAAAAAAAAAAAAAAAAAAAAAAAAAAAAAAAAAAAAAAAAAAAAAAAAAAAAAAAAAAAAAAAAAAAAAAAAAAAAAAAAAAAAAAAAAAAAAAAAAAAAAAAAAAAAAAAAAAAAAAAAAAAAAAAAAAAAAAAAAAAAAAAAAAAAAAAAAAAAAAAAAAAAAAAAAAAAAAAAAAAAAAAAAAAAAAAAAAAAAAAAAAAAAAAAAAAAAAAAAAAAAAAAAAAAAAAAAAAAAAAAAAAAAAAAAAAAAAAAAAAAAAAAAAAAAAAAAAAAAAAAAAAAAAAAAAAAAAAAAAAAAAAAAAAAAAAAAAAAAAAAAAAAAAAAAAAAAAAAAAAAAAAAAAAAAAAAAAAAAAAAAAAAAAAAAAAAAAAAAAAAAAAAAAAAAAAAAAAAAAAAAAAAAAAAAAAAAAAAAAAAAAAAAAAAAAAAAAAAAAAAAAAAAAAAAAAAAAAAAAAAAAAAAAAAAAAAAAAAAAAAAAAAAAAAAAAAAAAAAAAAAAAAAAAAAAAAAAAAAAAAAAAAAAAAAAAAAAAAAAAAAAAAAAAAAAAAAAAAAAAAAAAAAAAAAAAAAAAAAAAAAAAAAAAAAAAAAAAAAAAAAAAAAAAAAAAAAAA=\",\"dtype\":\"float64\",\"shape\":[601]}}},\"id\":\"0f46e95d-4de9-48ad-8e51-a3a609fc58d1\",\"type\":\"ColumnDataSource\"},{\"attributes\":{\"plot\":null,\"text\":\"Med Maze 14 Prioritized 300k XP Replay Stale\"},\"id\":\"3d946ffb-68eb-45e9-8079-242c0994df61\",\"type\":\"Title\"},{\"attributes\":{\"callback\":null},\"id\":\"8e1bf102-1067-4a07-9663-26df682ab3a4\",\"type\":\"DataRange1d\"},{\"attributes\":{},\"id\":\"eafbd9b2-3d46-4b21-bec6-354ed674aeba\",\"type\":\"ToolEvents\"},{\"attributes\":{\"active_drag\":\"auto\",\"active_scroll\":\"auto\",\"active_tap\":\"auto\",\"tools\":[{\"id\":\"048d2a80-aa96-4696-aa1f-c0c7f6b40319\",\"type\":\"PanTool\"},{\"id\":\"ac30d997-f0b4-43b1-9246-ef63c0e6c2b5\",\"type\":\"WheelZoomTool\"},{\"id\":\"68aac941-ccf1-4fde-a2ac-0d765e4aaf81\",\"type\":\"BoxZoomTool\"},{\"id\":\"2a8dc2c7-81a3-4cda-88ec-9a3e31806e13\",\"type\":\"SaveTool\"},{\"id\":\"5e4ed873-feec-4bf7-a339-8e9731539747\",\"type\":\"ResetTool\"},{\"id\":\"d827632d-6d58-4794-af41-a33cfcf32919\",\"type\":\"HelpTool\"}]},\"id\":\"91dec1c4-95e0-4c48-92bc-2749267cd3b4\",\"type\":\"Toolbar\"},{\"attributes\":{\"axis_label\":\"T\",\"formatter\":{\"id\":\"8a4ccb66-4ab3-419d-871a-8130c693e7e7\",\"type\":\"BasicTickFormatter\"},\"plot\":{\"id\":\"814d2804-e4b6-4b8e-8387-a7dc05294a05\",\"subtype\":\"Figure\",\"type\":\"Plot\"},\"ticker\":{\"id\":\"6ba9657a-bafc-465c-8979-4efd5cfcc055\",\"type\":\"BasicTicker\"}},\"id\":\"a61f0eb2-529b-46ca-a92b-f106e0764754\",\"type\":\"LinearAxis\"},{\"attributes\":{\"callback\":null,\"end\":1.1,\"start\":-0.1},\"id\":\"4361fb4c-3625-408b-a240-4279dfa8fb44\",\"type\":\"Range1d\"},{\"attributes\":{},\"id\":\"6ba9657a-bafc-465c-8979-4efd5cfcc055\",\"type\":\"BasicTicker\"},{\"attributes\":{\"line_color\":{\"value\":\"#f781bf\"},\"line_width\":{\"value\":2},\"x\":{\"field\":\"x\"},\"y\":{\"field\":\"y\"}},\"id\":\"27b1cb27-9c8e-42bd-8f3a-ebde43591e63\",\"type\":\"Line\"},{\"attributes\":{\"plot\":{\"id\":\"814d2804-e4b6-4b8e-8387-a7dc05294a05\",\"subtype\":\"Figure\",\"type\":\"Plot\"},\"ticker\":{\"id\":\"6ba9657a-bafc-465c-8979-4efd5cfcc055\",\"type\":\"BasicTicker\"}},\"id\":\"75940df2-69b0-4a99-b49c-022913838a40\",\"type\":\"Grid\"},{\"attributes\":{\"items\":[{\"id\":\"b57f8f52-4dd0-4cfb-93c7-51dc690d6122\",\"type\":\"LegendItem\"},{\"id\":\"cd49fca7-5094-4f06-955d-e06072d1d9ee\",\"type\":\"LegendItem\"},{\"id\":\"9dd4388a-8f25-4531-8ba7-b92768e0d925\",\"type\":\"LegendItem\"},{\"id\":\"1b126ad0-665b-4355-921f-c47a105a5f77\",\"type\":\"LegendItem\"},{\"id\":\"46c70f5b-0b10-480e-bdbf-f0141fc82568\",\"type\":\"LegendItem\"},{\"id\":\"7ce197af-80af-4ac8-a4fb-18d0540cedec\",\"type\":\"LegendItem\"},{\"id\":\"c2822df4-6a08-4039-ad54-c91b89bc32e8\",\"type\":\"LegendItem\"},{\"id\":\"e15a09b0-cc3e-4a49-afde-cc18d1d0f171\",\"type\":\"LegendItem\"}],\"location\":[0,-30],\"plot\":{\"id\":\"814d2804-e4b6-4b8e-8387-a7dc05294a05\",\"subtype\":\"Figure\",\"type\":\"Plot\"}},\"id\":\"b609dec0-0af2-4b32-be9b-5ed4a6586c7f\",\"type\":\"Legend\"},{\"attributes\":{\"axis_label\":\"Episode Reward\",\"formatter\":{\"id\":\"80c37a97-1b29-4ece-84cc-d045c7f4d0f7\",\"type\":\"BasicTickFormatter\"},\"plot\":{\"id\":\"814d2804-e4b6-4b8e-8387-a7dc05294a05\",\"subtype\":\"Figure\",\"type\":\"Plot\"},\"ticker\":{\"id\":\"27dcc0a4-4f0a-4f69-96e5-116bf0aec153\",\"type\":\"BasicTicker\"}},\"id\":\"e55eab29-ec87-438d-b122-e15500f9165b\",\"type\":\"LinearAxis\"},{\"attributes\":{},\"id\":\"27dcc0a4-4f0a-4f69-96e5-116bf0aec153\",\"type\":\"BasicTicker\"},{\"attributes\":{\"dimension\":1,\"plot\":{\"id\":\"814d2804-e4b6-4b8e-8387-a7dc05294a05\",\"subtype\":\"Figure\",\"type\":\"Plot\"},\"ticker\":{\"id\":\"27dcc0a4-4f0a-4f69-96e5-116bf0aec153\",\"type\":\"BasicTicker\"}},\"id\":\"25a81a02-a2b5-4b85-9f8d-f86007496f32\",\"type\":\"Grid\"},{\"attributes\":{\"use_scientific\":false},\"id\":\"8a4ccb66-4ab3-419d-871a-8130c693e7e7\",\"type\":\"BasicTickFormatter\"},{\"attributes\":{\"line_alpha\":{\"value\":0.1},\"line_color\":{\"value\":\"#1f77b4\"},\"line_width\":{\"value\":2},\"x\":{\"field\":\"x\"},\"y\":{\"field\":\"y\"}},\"id\":\"a94aa23e-79de-4d3f-b130-76308a1377e3\",\"type\":\"Line\"},{\"attributes\":{\"bottom_units\":\"screen\",\"fill_alpha\":{\"value\":0.5},\"fill_color\":{\"value\":\"lightgrey\"},\"left_units\":\"screen\",\"level\":\"overlay\",\"line_alpha\":{\"value\":1.0},\"line_color\":{\"value\":\"black\"},\"line_dash\":[4,4],\"line_width\":{\"value\":2},\"plot\":null,\"render_mode\":\"css\",\"right_units\":\"screen\",\"top_units\":\"screen\"},\"id\":\"394aaa4c-1f31-4ec0-bb05-2c149e64c447\",\"type\":\"BoxAnnotation\"},{\"attributes\":{\"plot\":{\"id\":\"814d2804-e4b6-4b8e-8387-a7dc05294a05\",\"subtype\":\"Figure\",\"type\":\"Plot\"}},\"id\":\"048d2a80-aa96-4696-aa1f-c0c7f6b40319\",\"type\":\"PanTool\"},{\"attributes\":{\"line_alpha\":{\"value\":0.1},\"line_color\":{\"value\":\"#1f77b4\"},\"line_width\":{\"value\":2},\"x\":{\"field\":\"x\"},\"y\":{\"field\":\"y\"}},\"id\":\"505fbcaa-ce15-4aa4-82ee-3ce845c5aa54\",\"type\":\"Line\"},{\"attributes\":{\"plot\":{\"id\":\"814d2804-e4b6-4b8e-8387-a7dc05294a05\",\"subtype\":\"Figure\",\"type\":\"Plot\"}},\"id\":\"ac30d997-f0b4-43b1-9246-ef63c0e6c2b5\",\"type\":\"WheelZoomTool\"},{\"attributes\":{\"overlay\":{\"id\":\"394aaa4c-1f31-4ec0-bb05-2c149e64c447\",\"type\":\"BoxAnnotation\"},\"plot\":{\"id\":\"814d2804-e4b6-4b8e-8387-a7dc05294a05\",\"subtype\":\"Figure\",\"type\":\"Plot\"}},\"id\":\"68aac941-ccf1-4fde-a2ac-0d765e4aaf81\",\"type\":\"BoxZoomTool\"},{\"attributes\":{\"plot\":{\"id\":\"814d2804-e4b6-4b8e-8387-a7dc05294a05\",\"subtype\":\"Figure\",\"type\":\"Plot\"}},\"id\":\"2a8dc2c7-81a3-4cda-88ec-9a3e31806e13\",\"type\":\"SaveTool\"},{\"attributes\":{\"plot\":{\"id\":\"814d2804-e4b6-4b8e-8387-a7dc05294a05\",\"subtype\":\"Figure\",\"type\":\"Plot\"}},\"id\":\"5e4ed873-feec-4bf7-a339-8e9731539747\",\"type\":\"ResetTool\"},{\"attributes\":{\"label\":{\"value\":\"10 Step 2 Nscaling\"},\"renderers\":[{\"id\":\"ca53fa57-61d8-4752-baa1-1b768aa5dedf\",\"type\":\"GlyphRenderer\"}]},\"id\":\"7ce197af-80af-4ac8-a4fb-18d0540cedec\",\"type\":\"LegendItem\"},{\"attributes\":{\"plot\":{\"id\":\"814d2804-e4b6-4b8e-8387-a7dc05294a05\",\"subtype\":\"Figure\",\"type\":\"Plot\"}},\"id\":\"d827632d-6d58-4794-af41-a33cfcf32919\",\"type\":\"HelpTool\"},{\"attributes\":{\"line_color\":{\"value\":\"#a65628\"},\"line_width\":{\"value\":2},\"x\":{\"field\":\"x\"},\"y\":{\"field\":\"y\"}},\"id\":\"99750bb9-fab6-4d2f-8818-eb36c6dce8c8\",\"type\":\"Line\"},{\"attributes\":{\"data_source\":{\"id\":\"e2216d12-73f6-4319-8ade-c22e36053804\",\"type\":\"ColumnDataSource\"},\"glyph\":{\"id\":\"8b9975c9-34d5-4f97-86f3-e4cf5911038e\",\"type\":\"Line\"},\"hover_glyph\":null,\"nonselection_glyph\":{\"id\":\"87c449b8-d6d1-4312-8054-9af69ecafb1b\",\"type\":\"Line\"},\"selection_glyph\":null},\"id\":\"ca53fa57-61d8-4752-baa1-1b768aa5dedf\",\"type\":\"GlyphRenderer\"},{\"attributes\":{\"line_alpha\":{\"value\":0.1},\"line_color\":{\"value\":\"#1f77b4\"},\"line_width\":{\"value\":2},\"x\":{\"field\":\"x\"},\"y\":{\"field\":\"y\"}},\"id\":\"32e6d20f-b663-42d3-b208-dab366a4edcd\",\"type\":\"Line\"},{\"attributes\":{\"callback\":null,\"column_names\":[\"x\",\"y\"],\"data\":{\"x\":[0,1000,2000,3000,4000,5000,6000,7000,8000,9000,10000,11000,12000,13000,14000,15000,16000,17000,18000,19000,20000,21000,22000,23000,24000,25000,26000,27000,28000,29000,30000,31000,32000,33000,34000,35000,36000,37000,38000,39000,40000,41000,42000,43000,44000,45000,46000,47000,48000,49000,50000,51000,52000,53000,54000,55000,56000,57000,58000,59000,60000,61000,62000,63000,64000,65000,66000,67000,68000,69000,70000,71000,72000,73000,74000,75000,76000,77000,78000,79000,80000,81000,82000,83000,84000,85000,86000,87000,88000,89000,90000,91000,92000,93000,94000,95000,96000,97000,98000,99000,100000,101000,102000,103000,104000,105000,106000,107000,108000,109000,110000,111000,112000,113000,114000,115000,116000,117000,118000,119000,120000,121000,122000,123000,124000,125000,126000,127000,128000,129000,130000,131000,132000,133000,134000,135000,136000,137000,138000,139000,140000,141000,142000,143000,144000,145000,146000,147000,148000,149000,150000,151000,152000,153000,154000,155000,156000,157000,158000,159000,160000,161000,162000,163000,164000,165000,166000,167000,168000,169000,170000,171000,172000,173000,174000,175000,176000,177000,178000,179000,180000,181000,182000,183000,184000,185000,186000,187000,188000,189000,190000,191000,192000,193000,194000,195000,196000,197000,198000,199000,200000,201000,202000,203000,204000,205000,206000,207000,208000,209000,210000,211000,212000,213000,214000,215000,216000,217000,218000,219000,220000,221000,222000,223000,224000,225000,226000,227000,228000,229000,230000,231000,232000,233000,234000,235000,236000,237000,238000,239000,240000,241000,242000,243000,244000,245000,246000,247000,248000,249000,250000,251000,252000,253000,254000,255000,256000,257000,258000,259000,260000,261000,262000,263000,264000,265000,266000,267000,268000,269000,270000,271000,272000,273000,274000,275000,276000,277000,278000,279000,280000,281000,282000,283000,284000,285000,286000,287000,288000,289000,290000,291000,292000,293000,294000,295000,296000,297000,298000,299000,300000,301000,302000,303000,304000,305000,306000,307000,308000,309000,310000,311000,312000,313000,314000,315000,316000,317000,318000,319000,320000,321000,322000,323000,324000,325000,326000,327000,328000,329000,330000,331000,332000,333000,334000,335000,336000,337000,338000,339000,340000,341000,342000,343000,344000,345000,346000,347000,348000,349000,350000,351000,352000,353000,354000,355000,356000,357000,358000,359000,360000,361000,362000,363000,364000,365000,366000,367000,368000,369000,370000,371000,372000,373000,374000,375000,376000,377000,378000,379000,380000,381000,382000,383000,384000,385000,386000,387000,388000,389000,390000,391000,392000,393000,394000,395000,396000,397000,398000,399000,400000,401000,402000,403000,404000,405000,406000,407000,408000,409000,410000,411000,412000,413000,414000,415000,416000,417000,418000,419000,420000,421000,422000,423000,424000,425000,426000,427000,428000,429000,430000,431000,432000,433000,434000,435000,436000,437000,438000,439000,440000,441000,442000,443000,444000,445000,446000,447000,448000,449000,450000,451000,452000,453000,454000,455000,456000,457000,458000,459000,460000,461000,462000,463000,464000,465000,466000,467000,468000,469000,470000,471000,472000,473000,474000,475000,476000,477000,478000,479000,480000,481000,482000,483000,484000,485000,486000,487000,488000,489000,490000,491000,492000,493000,494000,495000,496000,497000,498000,499000,500000,501000,502000,503000,504000,505000,506000,507000,508000,509000,510000,511000,512000,513000,514000,515000,516000,517000,518000,519000,520000,521000,522000,523000,524000,525000,526000,527000,528000,529000,530000,531000,532000,533000,534000,535000,536000,537000,538000,539000,540000,541000,542000,543000,544000,545000,546000,547000,548000,549000,550000,551000,552000,553000,554000,555000,556000,557000,558000,559000,560000,561000,562000,563000,564000,565000,566000,567000,568000,569000,570000,571000,572000,573000,574000,575000,576000,577000,578000,579000,580000,581000,582000,583000,584000,585000,586000,587000,588000,589000,590000,591000,592000,593000,594000,595000,596000,597000,598000,599000,600000],\"y\":{\"__ndarray__\":\"AAAAAAAAAAAAAAAAAAAAAAAAAAAAAAAAAAAAAAAAAAAAAAAAAAAAAAAAAAAAAAAAAAAAAAAAAAAAAAAAAAAAAAAAAAAAAAAAAAAAAAAAAAAAAAAAAAAAAAAAAAAAAAAAAAAAAAAAAAAAAAAAAAAAAAAAAAAAAAAAAAAAAAAAAAAAAAAAAAAAAAAAAAAAAAAAAAAAAAAAAAAAAAAAAAAAAAAAAAAAAAAAAAAAAAAAAAAAAAAAAAAAAAAAAAAAAAAAAAAAAAAAAAAAAAAAAAAAAAAAAAAAAAAAAAAAAAAAAAAAAAAAAAAAAAAAAAAAAAAAAAAAAAAAAAAAAAAAAAAAAAAAAAAAAAAAAAAAAAAAAAAAAAAAAAAAAAAAAAAAAAAAAAAAAAAAAAAAAAAAAAAAAAAAAAAAAAAAAAAAAAAAAAAAAAAAAAAAAAAAAAAAAAAAAAAAAAAAAAAAAAAAAAAAAAAAAAAAAAAAAAAAAAAAAAAAAAAAAAAAAAAAAAAAAAAAAAAAAAAAAAAAAAAAAAAAAAAAAAAAAAAAAAAAAAAAAAAAAAAAAAAAAAAAAAAAAAAAAAAAAAAAAAAAAAAAAAAAAAAAAAAAAAAAAAAAAAAAAAAAAAAAAAAAAAAAAAAAAAAAAAAAAAAAAAAAAAAAAAAAAAAAAAAAAAAAAAAAAAAAAAAAAAAAAAAAAAAAAAAAAAAAAAAAAAAAAAAAAAAAAAAAAAAAAAAAAAAAAAAAAAAAAAAAAAAAAAAAAAAAAAAAAAAAAAAAAAAAAAAAAAAAAAAAAAAAAAAAAAAAAAAAAAAAAAAAAAAAAAAAAAAAAAAAAAAAAAAAAAAAAAAAAAAAAAAAAAAAAAAAAAAAAAAAAAAAAAAAAAAAAAAAAAAAAAAAAAAAAAAAAAAAAAAAAAAAAAAAAAAAAAAAAAAAAAAAAAAAAAAAAAAAAAAAAAAAAAAAAAAAAAAAAAAAAAAAAAAAAAAAAAAAAAAAAAAAAAAAAAAAAAAAAAAAAAAAAAAAAAAAAAAAAAAAAAAAAAAAAAAAAAAAAAAAAAAAAAAAAAAAAAAAAAAAAAAAAAAAAAAAAAAAAAAAAAAAAAAAAAAAAAAAAAAAAAAAAAAAAAAAAAAAAAAAAAAAAAAAAAAAAAAAAAAAAAAAAAAAAAAAAAAAAAAAAAAAAAAAAAAAAAAAAAAAAAAAAAAAAAAAAAAAAAAAAAAAAAAAAAAAAAAAAAAAAAAAAAAAAAAAAAAAAAAAAAAAAAAAAAAAAAAAAAAAAAAAAAAAAAAAAAAAAAAAAAAAAAAAAAAAAAAAAAAAAAAAAAAAAAAAAAAAAAAAAAAAAAAAAAAAAAAAAAAAAAAAAAAAAAAAAAAAAAAAAAAAAAAAAAAAAAAAAAAAAAAAAAAAAAAAAAAAAAAAAAAAAAAAAAAAAAAAAAAAAAAAAAAAAAAAAAAAAAAAAAAAAAAAAAAAAAAAAAAAAAAAAAAAAAAAAAAAAAAAAAAAAAAAAAAAAAAAAAAAAAAAAAAAAAAAAAAAAAAAAAAAAAAAAAAAAAAAAAAAAAAAAAAAAAAAAAAAAAAAAAAAAAAAAAAAAAAAAAAAAAAAAAAAAAAAAAAAAAAAAAAAAAAAAAAAAAAAAAAAAAAAAAAAAAAAAAAAAAAAAAAAAAAAAAAAAAAAAAAAAAAAAAAAAAAAAAAAAAAAAAAAAAAAAAAAAAAAAAAAAAAAAAAAAAAAAAAAAAAAAAAAAAAAAAAAAAAAAAAAAAAAAAAAAAAAAAAAAAAAAAAAAAAAAAAAAAAAAAAAAAAAAAAAAAAAAAAAAAAAAAAAAAAAAAAAAAAAAAAAAAAAAAAAAAAAAAAAAAAAAAAAAAAAAAAAAAAAAAAAAAAAAAAAAAAAAAAAAAAAAAAAAAAAAAAAAAAAAAAAAAAAAAAAAAAAAAAAAAAAAAAAAAAAAAAAAAAAAAAAAAAAAAAAAAAAAAAAAAAAAAAAAAAAAAAAAAAAAAAAAAAAAAAAAAAAAAAAAAAAAAAAAAAAAAAAAAAAAAAAAAAAAAAAAAAAAAAAAAAAAAAAAAAAAAAAAAAAAAAAAAAAAAAAAAAAAAAAAAAAAAAAAAAAAAAAAAAAAAAAAAAAAAAAAAAAAAAAAAAAAAAAAAAAAAAAAAAAAAAAAAAAAAAAAAAAAAAAAAAAAAAAAAAAAAAAAAAAAAAAAAAAAAAAAAAAAAAAAAAAAAAAAAAAAAAAAAAAAAAAAAAAAAAAAAAAAAAAAAAAAAAAAAAAAAAAAAAAAAAAAAAAAAAAAAAAAAAAAAAAAAAAAAAAAAAAAAAAAAAAAAAAAAAAAAAAAAAAAAAAAAAAAAAAAAAAAAAAAAAAAAAAAAAAAAAAAAAAAAAAAAAAAAAAAAAAAAAAAAAAAAAAAAAAAAAAAAAAAAAAAAAAAAAAAAAAAAAAAAAAAAAAAAAAAAAAAAAAAAAAAAAAAAAAAAAAAAAAAAAAAAAAAAAAAAAAAAAAAAAAAAAAAAAAAAAAAAAAAAAAAAAAAAAAAAAAAAAAAAAAAAAAAAAAAAAAAAAAAAAAAAAAAAAAAAAAAAAAAAAAAAAAAAAAAAAAAAAAAAAAAAAAAAAAAAAAAAAAAAAAAAAAAAAAAAAAAAAAAAAAAAAAAAAAAAAAAAAAAAAAAAAAAAAAAAAAAAAAAAAAAAAAAAAAAAAAAAAAAAAAAAAAAAAAAAAAAAAAAAAAAAAAAAAAAAAAAAAAAAAAAAAAAAAAAAAAAAAAAAAAAAAAAAAAAAAAAAAAAAAAAAAAAAAAAAAAAAAAAAAAAAAAAAAAAAAAAAAAAAAAAAAAAAAAAAAAAAAAAAAAAAAAAAAAAAAAAAAAAAAAAAAAAAAAAAAAAAAAAAAAAAAAAAAAAAAAAAAAAAAAAAAAAAAAAAAAAAAAAAAAAAAAAAAAAAAAAAAAAAAAAAAAAAAAAAAAAAAAAAAAAAAAAAAAAAAAAAAAAAAAAAAAAAAAAAAAAAAAAAAAAAAAAAAAAAAAAAAAAAAAAAAAAAAAAAAAAAAAAAAAAAAAAAAAAAAAAAAAAAAAAAAAAAAAAAAAAAAAAAAAAAAAAAAAAAAAAAAAAAAAAAAAAAAAAAAAAAAAAAAAAAAAAAAAAAAAAAAAAAAAAAAAAAAAAAAAAAAAAAAAAAAAAAAAAAAAAAAAAAAAAAAAAAAAAAAAAAAAAAAAAAAAAAAAAAAAAAAAAAAAAAAAAAAAAAAAAAAAAAAAAAAAAAAAAAAAAAAAAAAAAAAAAAAAAAAAAAAAAAAAAAAAAAAAAAAAAAAAAAAAAAAAAAAAAAAAAAAAAAAAAAAAAAAAAAAAAAAAAAAAAAAAAAAAAAAAAAAAAAAAAAAAAAAAAAAAAAAAAAAAAAAAAAAAAAAAAAAAAAAAAAAAAAAAAAAAAAAAAAAAAAAAAAAAAAAAAAAAAAAAAAAAAAAAAAAAAAAAAAAAAAAAAAAAAAAAAAAAAAAAAAAAAAAAAAAAAAAAAAAAAAAAAAAAAAAAAAAAAAAAAAAAAAAAAAAAAAAAAAAAAAAAAAAAAAAAAAAAAAAAAAAAAAAAAAAAAAAAAAAAAAAAAAAAAAAAAAAAAAAAAAAAAAAAAAAAAAAAAAAAAAAAAAAAAAAAAAAAAAAAAAAAAAAAAAAAAAAAAAAAAAAAAAAAAAAAAAAAAAAAAAAAAAAAAAAAAAAAAAAAAAAAAAAAAAAAAAAAAAAAAAAAAAAAAAAAAAAAAAAAAAAAAAAAAAAAAAAAAAAAAAAAAAAAAAAAAAAAAAAAAAAAAAAAAAAAAAAAAAAAAAAAAAAAAAAAAAAAAAAAAAAAAAAAAAAAAAAAAAAAAAAAAAAAAAAAAAAAAAAAAAAAAAAAAAAAAAAAAAAAAAAAAAAAAAAAAAAAAAAAAAAAAAAAAAAAAAAAAAAAAAAAAAAAAAAAAAAAAAAAAAAAAAAAAAAAAAAAAAAAAAAAAAAAAAAAAAAAAAAAAAAAAAAAAAAAAAAAAAAAAAAAAAAAAAAAAAAAAAAAAAAAAAAAAAAAAAAAAAAAAAAAAAAAAAAAAAAAAAAAAAAAAAAAAAAAAAAAAAAAAAAAAAAAAAAAAAAAAAAAAAAAAAAAAAAAAAAAAAAAAAAAAAAAAAAAAAAAAAAAAAAAAAAAAAAAAAAAAAAAAAAAAAAAAAAAAAAAAAAAAAAAAAAAAAAAAAAAAAAAAAAAAAAAAAAAAAAAAAAAAAAAAAAAAAAAAAAAAAAAAAAAAAAAAAAAAAAAAAAAAAAAAAAAAAAAAAAAAAAAAAAAAAAAAAAAAAAAAAAAAAAAAAAAAAAAAAAAAAAAAAAAAAAAAAAAAAAAAAAAAAAAAAAAAAAAAAAAAAAAAAAAAAAAAAAAAAAAAAAAAAAAAAAAAAAAAAAAAAAAAAAAAAAAAAAAAAAAAAAAAAAAAAAAAAAAAAAAAAAAAAAAAAAAAAAAAAAAAAAAAAAAAAAAAAAAAAAAAAAAAAAAAAAAAAAAAAAAAAAAAAAAAAAAAAAAAAAAAAAAAAAAAAAAAAAAAAAAAAAAAAAAAAAAAAAAAAAAAAAAAAAAAAAAAAAAAAAAAAAAAAAAAAAAAAAAAAAAAAAAAAAAAAAAAAAAAAAAAAAAAAAAAAAAAAAAAAAAAAAAAAAAAAAAAAAAAAAAAAAAAAAAAAAAAAAAAAAAAAAAAAAAAAAAAAAAAAAAAAAAAAAAAAAAAAAAAAAAAAAAAAAAAAAAAAAAAAAAAAAAAAAAAAAAAAAAAAAAAAAAAAAAAAAAAAAAAAAAAAAAAAAAAAAAAAAAAAAAAAAAAAAAAAAAAAAAAAAAAAAAAAAAAAAAAAAAAAAAAAAAAAAAAAAAAAAAAAAAAAAAAAAAAAAAAAAAAAAAAAAAAAAAAAAAAAAAAAAAAAAAAAAAAAAAAAAAAAAAAAAAAAAAAAAAAAAAAAAAAAAAAAAAAAAAAAAAAAAAAAAAAAAAAAAAAAAAAAAAAAAAAAAAAAAAAAAAAAAAAAAAAAAAAAAAAAAAAAAAAAAAAAAAAAAAAAAAAAAAAAAAAAAAAAAAAAAAAAAAAAAAAAAAAAAAAAAAAAAAAAAAAAAAAAAAAAAAAAAAAAAAAAAAAAAAAAAAAAAAAAAAAAAAAAAAAAAAAAAAAAAAAAAAAAAAAAAAAAAAAAAAAAAAAAAAAAAAAAAAAAAAAAAAAAAAAAAAAAAAAAAAAAAAAAAAAAAAAAAAAAAAAAAAAAAAAAAAAAAAAAAAAAAAAAAAAAAAAAAAAAAAAAAAAAAAAAAAAAAAAAAAAAAAAAAAAAAAAAAAAAAAAAAAAAAAAAAAAAAAAAAAAAAAAAAAAAAAAAAAAAAAAAAAAAAAAAAAAAAAAAAAAAAAAAAAAAAAAAAAAAAAAAAAAAAAAAAAAAAAAAAAAAAAAAAAAAAAAAAAAAAAAAAAAAAAAAAAAAAAAAAAAAAAAAAAAAAAAAAAAAAAAAAAAAAAAAAAAAAAAAAAAAAAAAAAAAAAAAAAAAAAAAAAAAAAAAAAAAAAAAAAAAAAAAAAAAAAAAAAAAAAAAAAAAAAAAAAAAAAAAAAAAAAAAAAAAAAAAAAAAAAAAAAAAAAAAAAAAAAAAAAAAAAAAAAAAAAAAAAAAAAAAAAAAAAAAAAAAAAAAAAAAAAAAAAAAAAAAAAAAAAAAAAAAAAAAAAAAAAAAAAAAAAAAAAAAAAAAAAAAAAAAAAAAAAAAAAAAAAAAAAAAAAAAAAAAAAAAAAAAAAAAAAAAAAAAAAAAAAAAAAAAAAAAAAAAAAAAAAAAAAAAAAAAAAAAAAAAAAAAAAAAAAAAAAAAAAAAAAAAAAAAAAAAAAAAAAAAAAAAAAAAAAAAAAAAAAAAAAAAAAAAAAAAAAAAAAAAAAAAAAAAAAAAAAAAAAAAAAAAAAAAAAAAAAAAAAAAAAAAAAAAAAAAAAAAAAAAAAAAAAAAAAAAAAAAAAAAAAAAAAAAAAAAAAAAAAAAAAAAAAAAAAAAAAAAAAAAAAAAAAAAAAAAAAAAAAAAAAAAAAAAAAAAAAAAAAAAAAAAAAAAAAAAAAAAAAAAAAAAAAAAAAAAAAAAAAAAAAAAAAAAAAAAAAAAAAAAAAAAAAAAAAAAAAAAAAAAAAAAAAAAAAAAAAAAAAAAAAAAAAAAAAAAAAAAAAAAAAAAAAAAAAAAAAAAAAAAAAAAAAAAAAAAAAAAAAAAAAAAAAAAAAAAAAAAAAAAAAAAAAAAAAAAAAAAAAAAAAAAAAAAAAAAAAAAAAAAAAAAAAAAAAAAAAAAAAAAAAAAAAAAAAAAAAAAAAAAAAAAAAAAAAAAAAAAAAAAAAAAAAAAAAAAAAAAAAAAAAAAAAAAAAAAAAAAAAAAAAAAAAAAAAAAAAAAAAAAAAAAAAAAAAAAAAAAAAAAAAAAAAAAAAAAAAAAAAAAAAAAAAAAA=\",\"dtype\":\"float64\",\"shape\":[601]}}},\"id\":\"512e4875-892c-4052-8e5d-ca7d1a9ccc51\",\"type\":\"ColumnDataSource\"},{\"attributes\":{\"line_alpha\":{\"value\":0.1},\"line_color\":{\"value\":\"#1f77b4\"},\"line_width\":{\"value\":2},\"x\":{\"field\":\"x\"},\"y\":{\"field\":\"y\"}},\"id\":\"03a560e4-9866-4040-9899-7b3e0668b33a\",\"type\":\"Line\"},{\"attributes\":{},\"id\":\"80c37a97-1b29-4ece-84cc-d045c7f4d0f7\",\"type\":\"BasicTickFormatter\"},{\"attributes\":{\"label\":{\"value\":\"10 Step 1 Nscaling\"},\"renderers\":[{\"id\":\"9137928f-505d-414a-8a14-43c0ea16f5eb\",\"type\":\"GlyphRenderer\"}]},\"id\":\"46c70f5b-0b10-480e-bdbf-f0141fc82568\",\"type\":\"LegendItem\"},{\"attributes\":{\"label\":{\"value\":\"1 Step 4 Nscaling\"},\"renderers\":[{\"id\":\"43260d1d-9234-441b-b4fa-1148f13d05cb\",\"type\":\"GlyphRenderer\"}]},\"id\":\"9dd4388a-8f25-4531-8ba7-b92768e0d925\",\"type\":\"LegendItem\"},{\"attributes\":{\"data_source\":{\"id\":\"881493d9-cd51-45bb-955f-ddc005a9888f\",\"type\":\"ColumnDataSource\"},\"glyph\":{\"id\":\"953afeba-c292-4d7c-aa9a-22958ea4d5dd\",\"type\":\"Line\"},\"hover_glyph\":null,\"nonselection_glyph\":{\"id\":\"32e6d20f-b663-42d3-b208-dab366a4edcd\",\"type\":\"Line\"},\"selection_glyph\":null},\"id\":\"19208732-0840-4ebd-908b-038cf656ce95\",\"type\":\"GlyphRenderer\"},{\"attributes\":{\"data_source\":{\"id\":\"0f46e95d-4de9-48ad-8e51-a3a609fc58d1\",\"type\":\"ColumnDataSource\"},\"glyph\":{\"id\":\"5fd019a1-144c-4228-a122-74c2340733ef\",\"type\":\"Line\"},\"hover_glyph\":null,\"nonselection_glyph\":{\"id\":\"505fbcaa-ce15-4aa4-82ee-3ce845c5aa54\",\"type\":\"Line\"},\"selection_glyph\":null},\"id\":\"9137928f-505d-414a-8a14-43c0ea16f5eb\",\"type\":\"GlyphRenderer\"},{\"attributes\":{\"line_color\":{\"value\":\"#377eb8\"},\"line_width\":{\"value\":2},\"x\":{\"field\":\"x\"},\"y\":{\"field\":\"y\"}},\"id\":\"9f4abbac-a8be-4370-b58d-5d902e2dace4\",\"type\":\"Line\"},{\"attributes\":{\"line_color\":{\"value\":\"#4daf4a\"},\"line_width\":{\"value\":2},\"x\":{\"field\":\"x\"},\"y\":{\"field\":\"y\"}},\"id\":\"89bf8e96-b003-4399-83ad-fad6f7c2d41c\",\"type\":\"Line\"},{\"attributes\":{\"line_color\":{\"value\":\"#ffff33\"},\"line_width\":{\"value\":2},\"x\":{\"field\":\"x\"},\"y\":{\"field\":\"y\"}},\"id\":\"8b9975c9-34d5-4f97-86f3-e4cf5911038e\",\"type\":\"Line\"},{\"attributes\":{\"data_source\":{\"id\":\"512e4875-892c-4052-8e5d-ca7d1a9ccc51\",\"type\":\"ColumnDataSource\"},\"glyph\":{\"id\":\"89bf8e96-b003-4399-83ad-fad6f7c2d41c\",\"type\":\"Line\"},\"hover_glyph\":null,\"nonselection_glyph\":{\"id\":\"1ee734d2-b943-405d-9541-943bcf33ed5a\",\"type\":\"Line\"},\"selection_glyph\":null},\"id\":\"43260d1d-9234-441b-b4fa-1148f13d05cb\",\"type\":\"GlyphRenderer\"},{\"attributes\":{\"line_alpha\":{\"value\":0.1},\"line_color\":{\"value\":\"#1f77b4\"},\"line_width\":{\"value\":2},\"x\":{\"field\":\"x\"},\"y\":{\"field\":\"y\"}},\"id\":\"995cd061-1f17-43ee-b56a-f6ca6a30731a\",\"type\":\"Line\"},{\"attributes\":{\"line_alpha\":{\"value\":0.1},\"line_color\":{\"value\":\"#1f77b4\"},\"line_width\":{\"value\":2},\"x\":{\"field\":\"x\"},\"y\":{\"field\":\"y\"}},\"id\":\"87c449b8-d6d1-4312-8054-9af69ecafb1b\",\"type\":\"Line\"},{\"attributes\":{\"callback\":null,\"column_names\":[\"x\",\"y\"],\"data\":{\"x\":[0,1000,2000,3000,4000,5000,6000,7000,8000,9000,10000,11000,12000,13000,14000,15000,16000,17000,18000,19000,20000,21000,22000,23000,24000,25000,26000,27000,28000,29000,30000,31000,32000,33000,34000,35000,36000,37000,38000,39000,40000,41000,42000,43000,44000,45000,46000,47000,48000,49000,50000,51000,52000,53000,54000,55000,56000,57000,58000,59000,60000,61000,62000,63000,64000,65000,66000,67000,68000,69000,70000,71000,72000,73000,74000,75000,76000,77000,78000,79000,80000,81000,82000,83000,84000,85000,86000,87000,88000,89000,90000,91000,92000,93000,94000,95000,96000,97000,98000,99000,100000,101000,102000,103000,104000,105000,106000,107000,108000,109000,110000,111000,112000,113000,114000,115000,116000,117000,118000,119000,120000,121000,122000,123000,124000,125000,126000,127000,128000,129000,130000,131000,132000,133000,134000,135000,136000,137000,138000,139000,140000,141000,142000,143000,144000,145000,146000,147000,148000,149000,150000,151000,152000,153000,154000,155000,156000,157000,158000,159000,160000,161000,162000,163000,164000,165000,166000,167000,168000,169000,170000,171000,172000,173000,174000,175000,176000,177000,178000,179000,180000,181000,182000,183000,184000,185000,186000,187000,188000,189000,190000,191000,192000,193000,194000,195000,196000,197000,198000,199000,200000,201000,202000,203000,204000,205000,206000,207000,208000,209000,210000,211000,212000,213000,214000,215000,216000,217000,218000,219000,220000,221000,222000,223000,224000,225000,226000,227000,228000,229000,230000,231000,232000,233000,234000,235000,236000,237000,238000,239000,240000,241000,242000,243000,244000,245000,246000,247000,248000,249000,250000,251000,252000,253000,254000,255000,256000,257000,258000,259000,260000,261000,262000,263000,264000,265000,266000,267000,268000,269000,270000,271000,272000,273000,274000,275000,276000,277000,278000,279000,280000,281000,282000,283000,284000,285000,286000,287000,288000,289000,290000,291000,292000,293000,294000,295000,296000,297000,298000,299000,300000,301000,302000,303000,304000,305000,306000,307000,308000,309000,310000,311000,312000,313000,314000,315000,316000,317000,318000,319000,320000,321000,322000,323000,324000,325000,326000,327000,328000,329000,330000,331000,332000,333000,334000,335000,336000,337000,338000,339000,340000,341000,342000,343000,344000,345000,346000,347000,348000,349000,350000,351000,352000,353000,354000,355000,356000,357000,358000,359000,360000,361000,362000,363000,364000,365000,366000,367000,368000,369000,370000,371000,372000,373000,374000,375000,376000,377000,378000,379000,380000,381000,382000,383000,384000,385000,386000,387000,388000,389000,390000,391000,392000,393000,394000,395000,396000,397000,398000,399000,400000,401000,402000,403000,404000,405000,406000,407000,408000,409000,410000,411000,412000,413000,414000,415000,416000,417000,418000,419000,420000,421000,422000,423000,424000,425000,426000,427000,428000,429000,430000,431000,432000,433000,434000,435000,436000,437000,438000,439000,440000,441000,442000,443000,444000,445000,446000,447000,448000,449000,450000,451000,452000,453000,454000,455000,456000,457000,458000,459000,460000,461000,462000,463000,464000,465000,466000,467000,468000,469000,470000,471000,472000,473000,474000,475000,476000,477000,478000,479000,480000,481000,482000,483000,484000,485000,486000,487000,488000,489000,490000,491000,492000,493000,494000,495000,496000,497000,498000,499000,500000,501000,502000,503000,504000,505000,506000,507000,508000,509000,510000,511000,512000,513000,514000,515000,516000,517000,518000,519000,520000,521000,522000,523000,524000,525000,526000,527000,528000,529000,530000,531000,532000,533000,534000,535000,536000,537000,538000,539000,540000,541000,542000,543000,544000,545000,546000,547000,548000,549000,550000,551000,552000,553000,554000,555000,556000,557000,558000,559000,560000,561000,562000,563000,564000,565000,566000,567000,568000,569000,570000,571000,572000,573000,574000,575000,576000,577000,578000,579000,580000,581000,582000,583000,584000,585000,586000,587000,588000,589000,590000,591000,592000,593000,594000,595000,596000,597000,598000,599000,600000],\"y\":{\"__ndarray__\":\"AAAAAAAAAAAAAAAAAAAAAAAAAAAAAAAAAAAAAAAAAAAAAAAAAAAAAAAAAAAAAAAAAAAAAAAAAAAAAAAAAAAAAAAAAAAAAAAAAAAAAAAAAAAAAAAAAAAAAAAAAAAAAAAAAAAAAAAAAAAAAAAAAAAAAAAAAAAAAAAAAAAAAAAAAAAAAAAAAAAAAAAAAAAAAAAAAAAAAAAAAAAAAAAAAAAAAAAAAAAAAAAAAAAAAAAAAAAAAAAAAAAAAAAAAAAAAAAAAAAAAAAAAAAAAAAAAAAAAAAAAAAAAAAAAAAAAAAAAAAAAAAAAAAAAAAAAAAAAAAAAAAAAAAAAAAAAAAAAAAAAAAAAAAAAAAAAAAAAAAAAAAAAAAAAAAAAAAAAAAAAAAAAAAAAAAAAAAAAAAAAAAAAAAAAAAAAAAAAAAAAAAAAAAAAAAAAAAAAAAAAAAAAAAAAAAAAAAAAAAAAAAAAAAAAAAAAAAAAAAAAAAAAAAAAAAAAAAAAAAAAAAAAAAAAAAAAAAAAAAAAAAAAAAAAAAAAAAAAAAAAAAAAAAAAAAAAAAAAAAAAAAAAAAAAAAAAAAAAAAAAAAAAAAAAAAAAAAAAAAAAAAAAAAAAAAAAAAAAAAAAAAAAAAAAAAAAAAAAAAAAAAAAAAAAAAAAAAAAAAAAAAAAAAAAAAAAAAAAAAAAAAAAAAAAAAAAAAAAAAAAAAAAAAAAAAAAAAAAAAAAAAAAAAAAAAAAAAAAAAAAAAAAAAAAAAAAAAAAAAAAAAAAAAAAAAAAAAAAAAAAAAAAAAAAAAAAAAAAAAAAAAAAAAAAAAAAAAAAAAAAAAAAAAAAAAAAAAAAAAAAAAAAAAAAAAAAAAAAAAAAAAAAAAAAAAAAAAAAAAAAAAAAAAAAAAAAAAAAAAAAAAAAAAAAAAAAAAAAAAAAAAAAAAAAAAAAAAAAAAAAAAAAAAAAAAAAAAAAAAAAAAAAAAAAAAAAAAAAAAAAAAAAAAAAAAAAAAAAAAAAAAAAAAAAAAAAAAAAAAAAAAAAAAAAAAAAAAAAAAAAAAAAAAAAAAAAAAAAAAAAAAAAAAAAAAAAAAAAAAAAAAAAAAAAAAAAAAAAAAAAAAAAAAAAAAAAAAAAAAAAAAAAAAAAAAAAAAAAAAAAAAAAAAAAAAAAAAAAAAAAAAAAAAAAAAAAAAAAAAAAAAAAAAAAAAAAAAAAAAAAAAAAAAAAAAAAAAAAAAAAAAAAAAAAAAAAAAAAAAAAAAAAAAAAAAAAAAAAAAAAAAAAAAAAAAAAAAAAAAAAAAAAAAAAAAAAAAAAAAAAAAAAAAAAAAAAAAAAAAAAAAAAAAAAAAAAAAAAAAAAAAAAAAAAAAAAAAAAAAAAAAAAAAAAAAAAAAAAAAAAAAAAAAAAAAAAAAAAAAAAAAAAAAAAAAAAAAAAAAAAAAAAAAAAAAAAAAAAAAAAAAAAAAAAAAAAAAAAAAAAAAAAAAAAAAAAAAAAAAAAAAAAAAAAAAAAAAAAAAAAAAAAAAAAAAAAAAAAAAAAAAAAAAAAAAAAAAAAAAAAAAAAAAAAAAAAAAAAAAAAAAAAAAAAAAAAAAAAAAAAAAAAAAAAAAAAAAAAAAAAAAAAAAAAAAAAAAAAAAAAAAAAAAAAAAAAAAAAAAAAAAAAAAAAAAAAAAAAAAAAAAAAAAAAAAAAAAAAAAAAAAAAAAAAAAAAAAAAAAAAAAAAAAAAAAAAAAAAAAAAAAAAAAAAAAAAAAAAAAAAAAAAAAAAAAAAAAAAAAAAAAAAAAAAAAAAAAAAAAAAAAAAAAAAAAAAAAAAAAAAAAAAAAAAAAAAAAAAAAAAAAAAAAAAAAAAAAAAAAAAAAAAAAAAAAAAAAAAAAAAAAAAAAAAAAAAAAAAAAAAAAAAAAAAAAAAAAAAAAAAAAAAAAAAAAAAAAAAAAAAAAAAAAAAAAAAAAAAAAAAAAAAAAAAAAAAAAAAAAAAAAAAAAAAAAAAAAAAAAAAAAAAAAAAAAAAAAAAAAAAAAAAAAAAAAAAAAAAAAAAAAAAAAAAAAAAAAAAAAAAAAAAAAAAAAAAAAAAAAAAAAAAAAAAAAAAAAAAAAAAAAAAAAAAAAAAAAAAAAAAAAAAAAAAAAAAAAAAAAAAAAAAAAAAAAAAAAAAAAAAAAAAAAAAAAAAAAAAAAAAAAAAAAAAAAAAAAAAAAAAAAAAAAAAAAAAAAAAAAAAAAAAAAAAAAAAAAAAAAAAAAAAAAAAAAAAAAAAAAAAAAAAAAAAAAAAAAAAAAAAAAAAAAAAAAAAAAAAAAAAAAAAAAAAAAAAAAAAAAAAAAAAAAAAAAAAAAAAAAAAAAAAAAAAAAAAAAAAAAAAAAAAAAAAAAAAAAAAAAAAAAAAAAAAAAAAAAAAAAAAAAAAAAAAAAAAAAAAAAAAAAAAAAAAAAAAAAAAAAAAAAAAAAAAAAAAAAAAAAAAAAAAAAAAAAAAAAAAAAAAAAAAAAAAAAAAAAAAAAAAAAAAAAAAAAAAAAAAAAAAAAAAAAAAAAAAAAAAAAAAAAAAAAAAAAAAAAAAAAAAAAAAAAAAAAAAAAAAAAAAAAAAAAAAAAAAAAAAAAAAAAAAAAAAAAAAAAAAAAAAAAAAAAAAAAAAAAAAAAAAAAAAAAAAAAAAAAAAAAAAAAAAAAAAAAAAAAAAAAAAAAAAAAAAAAAAAAAAAAAAAAAAAAAAAAAAAAAAAAAAAAAAAAAAAAAAAAAAAAAAAAAAAAAAAAAAAAAAAAAAAAAAAAAAAAAAAAAAAAAAAAAAAAAAAAAAAAAAAAAAAAAAAAAAAAAAAAAAAAAAAAAAAAAAAAAAAAAAAAAAAAAAAAAAAAAAAAAAAAAAAAAAAAAAAAAAAAAAAAAAAAAAAAAAAAAAAAAAAAAAAAAAAAAAAAAAAAAAAAAAAAAAAAAAAAAAAAAAAAAAAAAAAAAAAAAAAAAAAAAAAAAAAAAAAAAAAAAAAAAAAAAAAAAAAAAAAAAAAAAAAAAAAAAAAAAAAAAAAAAAAAAAAAAAAAAAAAAAAAAAAAAAAAAAAAAAAAAAAAAAAAAAAAAAAAAAAAAAAAAAAAAAAAAAAAAAAAAAAAAAAAAAAAAAAAAAAAAAAAAAAAAAAAAAAAAAAAAAAAAAAAAAAAAAAAAAAAAAAAAAAAAAAAAAAAAAAAAAAAAAAAAAAAAAAAAAAAAAAAAAAAAAAAAAAAAAAAAAAAAAAAAAAAAAAAAAAAAAAAAAAAAAAAAAAAAAAAAAAAAAAAAAAAAAAAAAAAAAAAAAAAAAAAAAAAAAAAAAAAAAAAAAAAAAAAAAAAAAAAAAAAAAAAAAAAAAAAAAAAAAAAAAAAAAAAAAAAAAAAAAAAAAAAAAAAAAAAAAAAAAAAAAAAAAAAAAAAAAAAAAAAAAAAAAAAAAAAAAAAAAAAAAAAAAAAAAAAAAAAAAAAAAAAAAAAAAAAAAAAAAAAAAAAAAAAAAAAAAAAAAAAAAAAAAAAAAAAAAAAAAAAAAAAAAAAAAAAAAAAAAAAAAAAAAAAAAAAAAAAAAAAAAAAAAAAAAAAAAAAAAAAAAAAAAAAAAAAAAAAAAAAAAAAAAAAAAAAAAAAAAAAAAAAAAAAAAAAAAAAAAAAAAAAAAAAAAAAAAAAAAAAAAAAAAAAAAAAAAAAAAAAAAAAAAAAAAAAAAAAAAAAAAAAAAAAAAAAAAAAAAAAAAAAAAAAAAAAAAAAAAAAAAAAAAAAAAAAAAAAAAAAAAAAAAAAAAAAAAAAAAAAAAAAAAAAAAAAAAAAAAAAAAAAAAAAAAAAAAAAAAAAAAAAAAAAAAAAAAAAAAAAAAAAAAAAAAAAAAAAAAAAAAAAAAAAAAAAAAAAAAAAAAAAAAAAAAAAAAAAAAAAAAAAAAAAAAAAAAAAAAAAAAAAAAAAAAAAAAAAAAAAAAAAAAAAAAAAAAAAAAAAAAAAAAAAAAAAAAAAAAAAAAAAAAAAAAAAAAAAAAAAAAAAAAAAAAAAAAAAAAAAAAAAAAAAAAAAAAAAAAAAAAAAAAAAAAAAAAAAAAAAAAAAAAAAAAAAAAAAAAAAAAAAAAAAAAAAAAAAAAAAAAAAAAAAAAAAAAAAAAAAAAAAAAAAAAAAAAAAAAAAAAAAAAAAAAAAAAAAAAAAAAAAAAAAAAAAAAAAAAAAAAAAAAAAAAAAAAAAAAAAAAAAAAAAAAAAAAAAAAAAAAAAAAAAAAAAAAAAAAAAAAAAAAAAAAAAAAAAAAAAAAAAAAAAAAAAAAAAAAAAAAAAAAAAAAAAAAAAAAAAAAAAAAAAAAAAAAAAAAAAAAAAAAAAAAAAAAAAAAAAAAAAAAAAAAAAAAAAAAAAAAAAAAAAAAAAAAAAAAAAAAAAAAAAAAAAAAAAAAAAAAAAAAAAAAAAAAAAAAAAAAAAAAAAAAAAAAAAAAAAAAAAAAAAAAAAAAAAAAAAAAAAAAAAAAAAAAAAAAAAAAAAAAAAAAAAAAAAAAAAAAAAAAAAAAAAAAAAAAAAAAAAAAAAAAAAAAAAAAAAAAAAAAAAAAAAAAAAAAAAAAAAAAAAAAAAAAAAAAAAAAAAAAAAAAAAAAAAAAAAAAAAAAAAAAAAAAAAAAAAAAAAAAAAAAAAAAAAAAAAAAAAAAAAAAAAAAAAAAAAAAAAAAAAAAAAAAAAAAAAAAAAAAAAAAAAAAAAAAAAAAAAAAAAAAAAAAAAAAAAAAAAAAAAAAAAAAAAAAAAAAAAAAAAAAAAAAAAAAAAAAAAAAAAAAAAAAAAAAAAAAAAAAAAAAAAAAAAAAAAAAAAAAAAAAAAAAAAAAAAAAAAAAAAAAAAAAAAAAAAAAAAAAAAAAAAAAAAAAAAAAAAAAAAAAAAAAAAAAAAAAAAAAAAAAAAAAAAAAAAAAAAAAAAAAAAAAAAAAAAAAAAAAAAAAAAAAAAAAAAAAAAAAAAAAAAAAAAAAAAAAAAAAAAAAAAAAAAAAAAAAAAAAAAAAAAAAAAAAAAAAAAAAAAAAAAAAAAAAAAAAAAAAAAAAAAAAAAAAAAAAAAAAAAAAAAAAAAAAAAAAAAAAAAAAAAAAAAAAAAAAAAAAAAAAAAAAAAAAAAAAAAAAAAAAAAAAAAAAAAAAAAAAAAAAAAAAAAAAAAAAAAAAAAAAAAAAAAAAAAAAAAAAAAAAAAAAAAAAAAAAAAAAAAAAAAAAAAAAAAAAAAAAAAAAAAAAAAAAAAAAAAAAAAAAAAAAAAAAAAAAAAAAAAAAAAAAAAAAAAAAAAAAAAAAAAAAAAAAAAAAAAAAAAAAAAAAAAAAAAAAAAAAAAAAAAAAAAAAAAAAAAAAAAAAAAAAAAAAAAAAAAAAAAAAAAAAAAAAAAAAAAAAAAAAAAAAAAAAAAAAAAAAAAAAAAAAAAAAAAAAAAAAAAAAAAAAAAAAAAAAAAAAAAAAAAAAAAAAAAAAAAAAAAAAAAAAAAAAAAAAAAAAAAAAAAAAAAAAAAAAAAAAAAAAAAAAAAAAAAAAAAAAAAAAAAAAAAAAAAAAAAAAAAAAAAAAAAAAAAAAAAAAAAAAAAAAAAAAAAAAAAAAAAAAAAAAAAAAAAAAAAAAAAAAAAAAAAAAAAAAAAAAAAAAAAAAAAAAAAAAAAAAAAAAAAAAAAAAAAAAAAAAAAAAAAAAAAAAAAAAAAAAAAAAAAAAAAAAAAAAAAAAAAAAAAAAAAAAAAAAAAAAAAAAAAAAAAAAAAAAAAAAAAAAAAAAAAAAAAAAAAAAAAAAAAAAAAAAAAAAAAAAAAAAAAAAAAAAAAAAAAAAAAAAAAAAAAAAAAAAAAAAAAAAAAAAAAAAAAAAAAAAAAAAAAAAAAAAAAAAAAAAAAAAAAAAAAAAAAAAAAAAAAAAAAAAAAAAAAAAAAAAAAAAAAAAAAAAAAAAAAAAAAAAAAAAAAAAAAAAAAAAAAAAAAAAAAAAAAAAAAAAAAAAAAAAAAAAAAAAAAAAAAAAAAAAAAAAAAAAAAAAAAAAAAAAAAAAAAAAAAAAAAAAAAAAAAAAAAAAAAAAAAAAAAAAAAAAAAAAAAAAAAAAAAAAAAAAAAAAAAAAAAAAAAAAAAAAAAAAAAAAAAAAAAAAAAAAAAAAAAAAAAAAAAAAAAAAAAAAAAAAAAAAAAAAAAAAAAAAAAAAAAAAAAAAAAAAAAAAAAAAAAAAAAAAAAAAAAAAAAAAAAAAAAAAAAAAAAAAAAAAAAAAAAAAAAAAAAAAAAAAAAAAAAAAAAAAAAAAAAAAAAAAAAAAAAAAAAAAAAAAAAAAAAAAAAAAAAAAAAAAAAAAAAAAAAAAAAAAAAAAAAAAAAAAAAAAAAAAAAAAAAAAAAAAAAAAAAAAAAAAAAAAAAAAAAAAAAAAAAAAAAAAAAAAAAAAAAAAAAAAAAAAAAAAAAAAAAAAAAAAAAAAAAAAAAAAAAAAAAAAAAAAAAAAAAAAAAAAAAAAAA=\",\"dtype\":\"float64\",\"shape\":[601]}}},\"id\":\"363a731c-eaaf-4a14-a254-8b5a644654e6\",\"type\":\"ColumnDataSource\"},{\"attributes\":{\"callback\":null,\"column_names\":[\"x\",\"y\"],\"data\":{\"x\":[0,1000,2000,3000,4000,5000,6000,7000,8000,9000,10000,11000,12000,13000,14000,15000,16000,17000,18000,19000,20000,21000,22000,23000,24000,25000,26000,27000,28000,29000,30000,31000,32000,33000,34000,35000,36000,37000,38000,39000,40000,41000,42000,43000,44000,45000,46000,47000,48000,49000,50000,51000,52000,53000,54000,55000,56000,57000,58000,59000,60000,61000,62000,63000,64000,65000,66000,67000,68000,69000,70000,71000,72000,73000,74000,75000,76000,77000,78000,79000,80000,81000,82000,83000,84000,85000,86000,87000,88000,89000,90000,91000,92000,93000,94000,95000,96000,97000,98000,99000,100000,101000,102000,103000,104000,105000,106000,107000,108000,109000,110000,111000,112000,113000,114000,115000,116000,117000,118000,119000,120000,121000,122000,123000,124000,125000,126000,127000,128000,129000,130000,131000,132000,133000,134000,135000,136000,137000,138000,139000,140000,141000,142000,143000,144000,145000,146000,147000,148000,149000,150000,151000,152000,153000,154000,155000,156000,157000,158000,159000,160000,161000,162000,163000,164000,165000,166000,167000,168000,169000,170000,171000,172000,173000,174000,175000,176000,177000,178000,179000,180000,181000,182000,183000,184000,185000,186000,187000,188000,189000,190000,191000,192000,193000,194000,195000,196000,197000,198000,199000,200000,201000,202000,203000,204000,205000,206000,207000,208000,209000,210000,211000,212000,213000,214000,215000,216000,217000,218000,219000,220000,221000,222000,223000,224000,225000,226000,227000,228000,229000,230000,231000,232000,233000,234000,235000,236000,237000,238000,239000,240000,241000,242000,243000,244000,245000,246000,247000,248000,249000,250000,251000,252000,253000,254000,255000,256000,257000,258000,259000,260000,261000,262000,263000,264000,265000,266000,267000,268000,269000,270000,271000,272000,273000,274000,275000,276000,277000,278000,279000,280000,281000,282000,283000,284000,285000,286000,287000,288000,289000,290000,291000,292000,293000,294000,295000,296000,297000,298000,299000,300000,301000,302000,303000,304000,305000,306000,307000,308000,309000,310000,311000,312000,313000,314000,315000,316000,317000,318000,319000,320000,321000,322000,323000,324000,325000,326000,327000,328000,329000,330000,331000,332000,333000,334000,335000,336000,337000,338000,339000,340000,341000,342000,343000,344000,345000,346000,347000,348000,349000,350000,351000,352000,353000,354000,355000,356000,357000,358000,359000,360000,361000,362000,363000,364000,365000,366000,367000,368000,369000,370000,371000,372000,373000,374000,375000,376000,377000,378000,379000,380000,381000,382000,383000,384000,385000,386000,387000,388000,389000,390000,391000,392000,393000,394000,395000,396000,397000,398000,399000,400000,401000,402000,403000,404000,405000,406000,407000,408000,409000,410000,411000,412000,413000,414000,415000,416000,417000,418000,419000,420000,421000,422000,423000,424000,425000,426000,427000,428000,429000,430000,431000,432000,433000,434000,435000,436000,437000,438000,439000,440000,441000,442000,443000,444000,445000,446000,447000,448000,449000,450000,451000,452000,453000,454000,455000,456000,457000,458000,459000,460000,461000,462000,463000,464000,465000,466000,467000,468000,469000,470000,471000,472000,473000,474000,475000,476000,477000,478000,479000,480000,481000,482000,483000,484000,485000,486000,487000,488000,489000,490000,491000,492000,493000,494000,495000,496000,497000,498000,499000,500000,501000,502000,503000,504000,505000,506000,507000,508000,509000,510000,511000,512000,513000,514000,515000,516000,517000,518000,519000,520000,521000,522000,523000,524000,525000,526000,527000,528000,529000,530000,531000,532000,533000,534000,535000,536000,537000,538000,539000,540000,541000,542000,543000,544000,545000,546000,547000,548000,549000,550000,551000,552000,553000,554000,555000,556000,557000,558000,559000,560000,561000,562000,563000,564000,565000,566000,567000,568000,569000,570000,571000,572000,573000,574000,575000,576000,577000,578000,579000,580000,581000,582000,583000,584000,585000,586000,587000,588000,589000,590000,591000,592000,593000,594000,595000,596000,597000,598000,599000,600000],\"y\":{\"__ndarray__\":\"AAAAAAAAAAAAAAAAAAAAAAAAAAAAAAAAAAAAAAAAAAAAAAAAAAAAAAAAAAAAAAAAAAAAAAAAAAAAAAAAAAAAAAAAAAAAAAAAAAAAAAAAAAAAAAAAAAAAAAAAAAAAAAAAAAAAAAAAAAAAAAAAAAAAAAAAAAAAAAAAAAAAAAAAAAAAAAAAAAAAAAAAAAAAAAAAAAAAAAAAAAAAAAAAAAAAAAAAAAAAAAAAAAAAAAAAAAAAAAAAAAAAAAAAAAAAAAAAAAAAAAAAAAAAAAAAAAAAAAAAAAAAAAAAAAAAAAAAAAAAAAAAAAAAAAAAAAAAAAAAAAAAAAAAAAAAAAAAAAAAAAAAAAAAAAAAAAAAAAAAAAAAAAAAAAAAAAAAAAAAAAAAAAAAAAAAAAAAAAAAAAAAAAAAAAAAAAAAAAAAAAAAAAAAAAAAAAAAAAAAAAAAAAAAAAAAAAAAAAAAAAAAAAAAAAAAAAAAAAAAAAAAAAAAAAAAAAAAAAAAAAAAAAAAAAAAAAAAAAAAAAAAAAAAAAAAAAAAAAAAAAAAAAAAAAAAAAAAAAAAAAAAAAAAAAAAAAAAAAAAAAAAAAAAAAAAAAAAAAAAAAAAAAAAAAAAAAAAAAAAAAAAAAAAAAAAAAAAAAAAAAAAAAAAAAAAAAAAAAAAAAAAAAAAAAAAAAAAAAAAAAAAAAAAAAAAAAAAAAAAAAAAAAAAAAAAAAAAAAAAAAAAAAAAAAAAAAAAAAAAAAAAAAAAAAAAAAAAAAAAAAAAAAAAAAAAAAAAAAAAAAAAAAAAAAAAAAAAAAAAAAAAAAAAAAAAAAAAAAAAAAAAAAAAAAAAAAAAAAAAAAAAAAAAAAAAAAAAAAAAAAAAAAAAAAAAAAAAAAAAAAAAAAAAAAAAAAAAAAAAAAAAAAAAAAAAAAAAAAAAAAAAAAAAAAAAAAAAAAAAAAAAAAAAAAAAAAAAAAAAAAAAAAAAAAAAAAAAAAAAAAAAAAAAAAAAAAAAAAAAAAAAAAAAAAAAAAAAAAAAAAAAAAAAAAAAAAAAAAAAAAAAAAAAAAAAAAAAAAAAAAAAAAAAAAAAAAAAAAAAAAAAAAAAAAAAAAAAAAAAAAAAAAAAAAAAAAAAAAAAAAAAAAAAAAAAAAAAAAAAAAAAAAAAAAAAAAAAAAAAAAAAAAAAAAAAAAAAAAAAAAAAAAAAAAAAAAAAAAAAAAAAAAAAAAAAAAAAAAAAAAAAAAAAAAAAAAAAAAAAAAAAAAAAAAAAAAAAAAAAAAAAAAAAAAAAAAAAAAAAAAAAAAAAAAAAAAAAAAAAAAAAAAAAAAAAAAAAAAAAAAAAAAAAAAAAAAAAAAAAAAAAAAAAAAAAAAAAAAAAAAAAAAAAAAAAAAAAAAAAAAAAAAAAAAAAAAAAAAAAAAAAAAAAAAAAAAAAAAAAAAAAAAAAAAAAAAAAAAAAAAAAAAAAAAAAAAAAAAAAAAAAAAAAAAAAAAAAAAAAAAAAAAAAAAAAAAAAAAAAAAAAAAAAAAAAAAAAAAAAAAAAAAAAAAAAAAAAAAAAAAAAAAAAAAAAAAAAAAAAAAAAAAAAAAAAAAAAAAAAAAAAAAAAAAAAAAAAAAAAAAAAAAAAAAAAAAAAAAAAAAAAAAAAAAAAAAAAAAAAAAAAAAAAAAAAAAAAAAAAAAAAAAAAAAAAAAAAAAAAAAAAAAAAAAAAAAAAAAAAAAAAAAAAAAAAAAAAAAAAAAAAAAAAAAAAAAAAAAAAAAAAAAAAAAAAAAAAAAAAAAAAAAAAAAAAAAAAAAAAAAAAAAAAAAAAAAAAAAAAAAAAAAAAAAAAAAAAAAAAAAAAAAAAAAAAAAAAAAAAAAAAAAAAAAAAAAAAAAAAAAAAAAAAAAAAAAAAAAAAAAAAAAAAAAAAAAAAAAAAAAAAAAAAAAAAAAAAAAAAAAAAAAAAAAAAAAAAAAAAAAAAAAAAAAAAAAAAAAAAAAAAAAAAAAAAAAAAAAAAAAAAAAAAAAAAAAAAAAAAAAAAAAAAAAAAAAAAAAAAAAAAAAAAAAAAAAAAAAAAAAAAAAAAAAAAAAAAAAAAAAAAAAAAAAAAAAAAAAAAAAAAAAAAAAAAAAAAAAAAAAAAAAAAAAAAAAAAAAAAAAAAAAAAAAAAAAAAAAAAAAAAAAAAAAAAAAAAAAAAAAAAAAAAAAAAAAAAAAAAAAAAAAAAAAAAAAAAAAAAAAAAAAAAAAAAAAAAAAAAAAAAAAAAAAAAAAAAAAAAAAAAAAAAAAAAAAAAAAAAAAAAAAAAAAAAAAAAAAAAAAAAAAAAAAAAAAAAAAAAAAAAAAAAAAAAAAAAAAAAAAAAAAAAAAAAAAAAAAAAAAAAAAAAAAAAAAAAAAAAAAAAAAAAAAAAAAAAAAAAAAAAAAAAAAAAAAAAAAAAAAAAAAAAAAAAAAAAAAAAAAAAAAAAAAAAAAAAAAAAAAAAAAAAAAAAAAAAAAAAAAAAAAAAAAAAAAAAAAAAAAAAAAAAAAAAAAAAAAAAAAAAAAAAAAAAAAAAAAAAAAAAAAAAAAAAAAAAAAAAAAAAAAAAAAAAAAAAAAAAAAAAAAAAAAAAAAAAAAAAAAAAAAAAAAAAAAAAAAAAAAAAAAAAAAAAAAAAAAAAAAAAAAAAAAAAAAAAAAAAAAAAAAAAAAAAAAAAAAAAAAAAAAAAAAAAAAAAAAAAAAAAAAAAAAAAAAAAAAAAAAAAAAAAAAAAAAAAAAAAAAAAAAAAAAAAAAAAAAAAAAAAAAAAAAAAAAAAAAAAAAAAAAAAAAAAAAAAAAAAAAAAAAAAAAAAAAAAAAAAAAAAAAAAAAAAAAAAAAAAAAAAAAAAAAAAAAAAAAAAAAAAAAAAAAAAAAAAAAAAAAAAAAAAAAAAAAAAAAAAAAAAAAAAAAAAAAAAAAAAAAAAAAAAAAAAAAAAAAAAAAAAAAAAAAAAAAAAAAAAAAAAAAAAAAAAAAAAAAAAAAAAAAAAAAAAAAAAAAAAAAAAAAAAAAAAAAAAAAAAAAAAAAAAAAAAAAAAAAAAAAAAAAAAAAAAAAAAAAAAAAAAAAAAAAAAAAAAAAAAAAAAAAAAAAAAAAAAAAAAAAAAAAAAAAAAAAAAAAAAAAAAAAAAAAAAAAAAAAAAAAAAAAAAAAAAAAAAAAAAAAAAAAAAAAAAAAAAAAAAAAAAAAAAAAAAAAAAAAAAAAAAAAAAAAAAAAAAAAAAAAAAAAAAAAAAAAAAAAAAAAAAAAAAAAAAAAAAAAAAAAAAAAAAAAAAAAAAAAAAAAAAAAAAAAAAAAAAAAAAAAAAAAAAAAAAAAAAAAAAAAAAAAAAAAAAAAAAAAAAAAAAAAAAAAAAAAAAAAAAAAAAAAAAAAAAAAAAAAAAAAAAAAAAAAAAAAAAAAAAAAAAAAAAAAAAAAAAAAAAAAAAAAAAAAAAAAAAAAAAAAAAAAAAAAAAAAAAAAAAAAAAAAAAAAAAAAAAAAAAAAAAAAAAAAAAAAAAAAAAAAAAAAAAAAAAAAAAAAAAAAAAAAAAAAAAAAAAAAAAAAAAAAAAAAAAAAAAAAAAAAAAAAAAAAAAAAAAAAAAAAAAAAAAAAAAAAAAAAAAAAAAAAAAAAAAAAAAAAAAAAAAAAAAAAAAAAAAAAAAAAAAAAAAAAAAAAAAAAAAAAAAAAAAAAAAAAAAAAAAAAAAAAAAAAAAAAAAAAAAAAAAAAAAAAAAAAAAAAAAAAAAAAAAAAAAAAAAAAAAAAAAAAAAAAAAAAAAAAAAAAAAAAAAAAAAAAAAAAAAAAAAAAAAAAAAAAAAAAAAAAAAAAAAAAAAAAAAAAAAAAAAAAAAAAAAAAAAAAAAAAAAAAAAAAAAAAAAAAAAAAAAAAAAAAAAAAAAAAAAAAAAAAAAAAAAAAAAAAAAAAAAAAAAAAAAAAAAAAAAAAAAAAAAAAAAAAAAAAAAAAAAAAAAAAAAAAAAAAAAAAAAAAAAAAAAAAAAAAAAAAAAAAAAAAAAAAAAAAAAAAAAAAAAAAAAAAAAAAAAAAAAAAAAAAAAAAAAAAAAAAAAAAAAAAAAAAAAAAAAAAAAAAAAAAAAAAAAAAAAAAAAAAAAAAAAAAAAAAAAAAAAAAAAAAAAAAAAAAAAAAAAAAAAAAAAAAAAAAAAAAAAAAAAAAAAAAAAAAAAAAAAAAAAAAAAAAAAAAAAAAAAAAAAAAAAAAAAAAAAAAAAAAAAAAAAAAAAAAAAAAAAAAAAAAAAAAAAAAAAAAAAAAAAAAAAAAAAAAAAAAAAAAAAAAAAAAAAAAAAAAAAAAAAAAAAAAAAAAAAAAAAAAAAAAAAAAAAAAAAAAAAAAAAAAAAAAAAAAAAAAAAAAAAAAAAAAAAAAAAAAAAAAAAAAAAAAAAAAAAAAAAAAAAAAAAAAAAAAAAAAAAAAAAAAAAAAAAAAAAAAAAAAAAAAAAAAAAAAAAAAAAAAAAAAAAAAAAAAAAAAAAAAAAAAAAAAAAAAAAAAAAAAAAAAAAAAAAAAAAAAAAAAAAAAAAAAAAAAAAAAAAAAAAAAAAAAAAAAAAAAAAAAAAAAAAAAAAAAAAAAAAAAAAAAAAAAAAAAAAAAAAAAAAAAAAAAAAAAAAAAAAAAAAAAAAAAAAAAAAAAAAAAAAAAAAAAAAAAAAAAAAAAAAAAAAAAAAAAAAAAAAAAAAAAAAAAAAAAAAAAAAAAAAAAAAAAAAAAAAAAAAAAAAAAAAAAAAAAAAAAAAAAAAAAAAAAAAAAAAAAAAAAAAAAAAAAAAAAAAAAAAAAAAAAAAAAAAAAAAAAAAAAAAAAAAAAAAAAAAAAAAAAAAAAAAAAAAAAAAAAAAAAAAAAAAAAAAAAAAAAAAAAAAAAAAAAAAAAAAAAAAAAAAAAAAAAAAAAAAAAAAAAAAAAAAAAAAAAAAAAAAAAAAAAAAAAAAAAAAAAAAAAAAAAAAAAAAAAAAAAAAAAAAAAAAAAAAAAAAAAAAAAAAAAAAAAAAAAAAAAAAAAAAAAAAAAAAAAAAAAAAAAAAAAAAAAAAAAAAAAAAAAAAAAAAAAAAAAAAAAAAAAAAAAAAAAAAAAAAAAAAAAAAAAAAAAAAAAAAAAAAAAAAAAAAAAAAAAAAAAAAAAAAAAAAAAAAAAAAAAAAAAAAAAAAAAAAAAAAAAAAAAAAAAAAAAAAAAAAAAAAAAAAAAAAAAAAAAAAAAAAAAAAAAAAAAAAAAAAAAAAAAAAAAAAAAAAAAAAAAAAAAAAAAAAAAAAAAAAAAAAAAAAAAAAAAAAAAAAAAAAAAAAAAAAAAAAAAAAAAAAAAAAAAAAAAAAAAAAAAAAAAAAAAAAAAAAAAAAAAAAAAAAAAAAAAAAAAAAAAAAAAAAAAAAAAAAAAAAAAAAAAAAAAAAAAAAAAAAAAAAAAAAAAAAAAAAAAAAAAAAAAAAAAAAAAAAAAAAAAAAAAAAAAAAAAAAAAAAAAAAAAAAAAAAAAAAAAAAAAAAAAAAAAAAAAAAAAAAAAAAAAAAAAAAAAAAAAAAAAAAAAAAAAAAAAAAAAAAAAAAAAAAAAAAAAAAAAAAAAAAAAAAAAAAAAAAAAAAAAAAAAAAAAAAAAAAAAAAAAAAAAAAAAAAAAAAAAAAAAAAAAAAAAAAAAAAAAAAAAAAAAAAAAAAAAAAAAAAAAAAAAAAAAAAAAAAAAAAAAAAAAAAAAAAAAAAAAAAAAAAAAAAAAAAAAAAAAAAAAAAAAAAAAAAAAAAAAAAAAAAAAAAAAAAAAAAAAAAAAAAAAAAAAAAAAAAAAAAAAAAAAAAAAAAAAAAAAAAAAAAAAAAAAAAAAAAAAAAAAAAAAAAAAAAAAAAAAAAAAAAAAAAAAAAAAAAAAAAAAAAAAAAAAAAAAAAAAAAAAAAAAAAAAAAAAAAAAAAAAAAAAAAAAAAAAAAAAAAAAAAAAAAAAAAAAAAAAAAAAAAAAAAAAAAAAAAAAAAAAAAAAAAAAAAAAAAAAAAAAAAAAAAAAAAAAAAAAAAAAAAAAAAAAAAAAAAAAAAAAAAAAAAAAAAAAAAAAAAAAAAAAAAAAAAAAAAAAAAAAAAAAAAAAAAAAAAAAAAAAAAAAAAAAAAAAAAAAAAAAAAAAAAAAAAAAAAAAAAAAAAAAAAAAAAAAAAAAAAAAAAAAAAAAAAAAAAAAAAAAAAAAAAAAAAAAAAAAAAAAAAAAAAAAAAAAAAAAAAAAAAAAAAAAAAAAAAAAAAAAAAAAAAAAAAAAAAAAAAAAAAAAAAAAAAAAAAAAAAAAAAAAAAAAAAAAAAAAAAAAAAAAAAAAAAAAAAAAAAAAAAAAAAAAAAAAAAAAAAAAAAAAAAAAAAAAAAAAAAAAAAAAAAAAAAAAAAAAAAAAAAAAAAAAAAAAAAAAAAAAAAAAAAAAAAAAAAAAAAAAAAAAAAAAAAAAAAAAAAAAAAAAAAAAAAAAAAAAAAAAAAAAAAAAA=\",\"dtype\":\"float64\",\"shape\":[601]}}},\"id\":\"457d692c-8926-42b8-b342-f331ac3c9515\",\"type\":\"ColumnDataSource\"},{\"attributes\":{\"line_alpha\":{\"value\":0.1},\"line_color\":{\"value\":\"#1f77b4\"},\"line_width\":{\"value\":2},\"x\":{\"field\":\"x\"},\"y\":{\"field\":\"y\"}},\"id\":\"1ee734d2-b943-405d-9541-943bcf33ed5a\",\"type\":\"Line\"},{\"attributes\":{\"line_color\":{\"value\":\"#984ea3\"},\"line_width\":{\"value\":2},\"x\":{\"field\":\"x\"},\"y\":{\"field\":\"y\"}},\"id\":\"f7ffe6b4-6129-44fb-a160-9d9629951d8a\",\"type\":\"Line\"},{\"attributes\":{\"label\":{\"value\":\"1 Step 8 Nscaling\"},\"renderers\":[{\"id\":\"5391550a-e14c-4d32-b296-b27e7a8ed8af\",\"type\":\"GlyphRenderer\"}]},\"id\":\"1b126ad0-665b-4355-921f-c47a105a5f77\",\"type\":\"LegendItem\"},{\"attributes\":{\"data_source\":{\"id\":\"363a731c-eaaf-4a14-a254-8b5a644654e6\",\"type\":\"ColumnDataSource\"},\"glyph\":{\"id\":\"9f4abbac-a8be-4370-b58d-5d902e2dace4\",\"type\":\"Line\"},\"hover_glyph\":null,\"nonselection_glyph\":{\"id\":\"96ba5fca-f270-47a6-a771-bbfa83a263f4\",\"type\":\"Line\"},\"selection_glyph\":null},\"id\":\"0ed312d0-c51a-4a98-9f37-4de9bcb5c65f\",\"type\":\"GlyphRenderer\"},{\"attributes\":{\"callback\":null,\"column_names\":[\"x\",\"y\"],\"data\":{\"x\":[0,1000,2000,3000,4000,5000,6000,7000,8000,9000,10000,11000,12000,13000,14000,15000,16000,17000,18000,19000,20000,21000,22000,23000,24000,25000,26000,27000,28000,29000,30000,31000,32000,33000,34000,35000,36000,37000,38000,39000,40000,41000,42000,43000,44000,45000,46000,47000,48000,49000,50000,51000,52000,53000,54000,55000,56000,57000,58000,59000,60000,61000,62000,63000,64000,65000,66000,67000,68000,69000,70000,71000,72000,73000,74000,75000,76000,77000,78000,79000,80000,81000,82000,83000,84000,85000,86000,87000,88000,89000,90000,91000,92000,93000,94000,95000,96000,97000,98000,99000,100000,101000,102000,103000,104000,105000,106000,107000,108000,109000,110000,111000,112000,113000,114000,115000,116000,117000,118000,119000,120000,121000,122000,123000,124000,125000,126000,127000,128000,129000,130000,131000,132000,133000,134000,135000,136000,137000,138000,139000,140000,141000,142000,143000,144000,145000,146000,147000,148000,149000,150000,151000,152000,153000,154000,155000,156000,157000,158000,159000,160000,161000,162000,163000,164000,165000,166000,167000,168000,169000,170000,171000,172000,173000,174000,175000,176000,177000,178000,179000,180000,181000,182000,183000,184000,185000,186000,187000,188000,189000,190000,191000,192000,193000,194000,195000,196000,197000,198000,199000,200000,201000,202000,203000,204000,205000,206000,207000,208000,209000,210000,211000,212000,213000,214000,215000,216000,217000,218000,219000,220000,221000,222000,223000,224000,225000,226000,227000,228000,229000,230000,231000,232000,233000,234000,235000,236000,237000,238000,239000,240000,241000,242000,243000,244000,245000,246000,247000,248000,249000,250000,251000,252000,253000,254000,255000,256000,257000,258000,259000,260000,261000,262000,263000,264000,265000,266000,267000,268000,269000,270000,271000,272000,273000,274000,275000,276000,277000,278000,279000,280000,281000,282000,283000,284000,285000,286000,287000,288000,289000,290000,291000,292000,293000,294000,295000,296000,297000,298000,299000,300000,301000,302000,303000,304000,305000,306000,307000,308000,309000,310000,311000,312000,313000,314000,315000,316000,317000,318000,319000,320000,321000,322000,323000,324000,325000,326000,327000,328000,329000,330000,331000,332000,333000,334000,335000,336000,337000,338000,339000,340000,341000,342000,343000,344000,345000,346000,347000,348000,349000,350000,351000,352000,353000,354000,355000,356000,357000,358000,359000,360000,361000,362000,363000,364000,365000,366000,367000,368000,369000,370000,371000,372000,373000,374000,375000,376000,377000,378000,379000,380000,381000,382000,383000,384000,385000,386000,387000,388000,389000,390000,391000,392000,393000,394000,395000,396000,397000,398000,399000,400000,401000,402000,403000,404000,405000,406000,407000,408000,409000,410000,411000,412000,413000,414000,415000,416000,417000,418000,419000,420000,421000,422000,423000,424000,425000,426000,427000,428000,429000,430000,431000,432000,433000,434000,435000,436000,437000,438000,439000,440000,441000,442000,443000,444000,445000,446000,447000,448000,449000,450000,451000,452000,453000,454000,455000,456000,457000,458000,459000,460000,461000,462000,463000,464000,465000,466000,467000,468000,469000,470000,471000,472000,473000,474000,475000,476000,477000,478000,479000,480000,481000,482000,483000,484000,485000,486000,487000,488000,489000,490000,491000,492000,493000,494000,495000,496000,497000,498000,499000,500000,501000,502000,503000,504000,505000,506000,507000,508000,509000,510000,511000,512000,513000,514000,515000,516000,517000,518000,519000,520000,521000,522000,523000,524000,525000,526000,527000,528000,529000,530000,531000,532000,533000,534000,535000,536000,537000,538000,539000,540000,541000,542000,543000,544000,545000,546000,547000,548000,549000,550000,551000,552000,553000,554000,555000,556000,557000,558000,559000,560000,561000,562000,563000,564000,565000,566000,567000,568000,569000,570000,571000,572000,573000,574000,575000,576000,577000,578000,579000,580000,581000,582000,583000,584000,585000,586000,587000,588000,589000,590000,591000,592000,593000,594000,595000,596000,597000,598000,599000,600000],\"y\":{\"__ndarray__\":\"AAAAAAAAAAAAAAAAAAAAAAAAAAAAAAAAAAAAAAAAAAAAAAAAAAAAAAAAAAAAAAAAAAAAAAAAAAAAAAAAAAAAAAAAAAAAAAAAAAAAAAAAAAAAAAAAAAAAAAAAAAAAAAAAAAAAAAAAAAAAAAAAAAAAAAAAAAAAAAAAAAAAAAAAAAAAAAAAAAAAAAAAAAAAAAAAAAAAAAAAAAAAAAAAAAAAAAAAAAAAAAAAAAAAAAAAAAAAAAAAAAAAAAAAAAAAAAAAAAAAAAAAAAAAAAAAAAAAAAAAAAAAAAAAAAAAAAAAAAAAAAAAAAAAAAAAAAAAAAAAAAAAAAAAAAAAAAAAAAAAAAAAAAAAAAAAAAAAAAAAAAAAAAAAAAAAAAAAAAAAAAAAAAAAAAAAAAAAAAAAAAAAAAAAAAAAAAAAAAAAAAAAAAAAAAAAAAAAAAAAAAAAAAAAAAAAAAAAAAAAAAAAAAAAAAAAAAAAAAAAAAAAAAAAAAAAAAAAAAAAAAAAAAAAAAAAAAAAAAAAAAAAAAAAAAAAAAAAAAAAAAAAAAAAAAAAAAAAAAAAAAAAAAAAAAAAAAAAAAAAAAAAAAAAAAAAAAAAAAAAAAAAAAAAAAAAAAAAAAAAAAAAAAAAAAAAAAAAAAAAAAAAAAAAAAAAAAAAAAAAAAAAAAAAAAAAAAAAAAAAAAAAAAAAAAAAAAAAAAAAAAAAAAAAAAAAAAAAAAAAAAAAAAAAAAAAAAAAAAAAAAAAAAAAAAAAAAAAAAAAAAAAAAAAAAAAAAAAAAAAAAAAAAAAAAAAAAAAAAAAAAAAAAAAAAAAAAAAAAAAAAAAAAAAAAAAAAAAAAAAAAAAAAAAAAAAAAAAAAAAAAAAAAAAAAAAAAAAAAAAAAAAAAAAAAAAAAAAAAAAAAAAAAAAAAAAAAAAAAAAAAAAAAAAAAAAAAAAAAAAAAAAAAAAAAAAAAAAAAAAAAAAAAAAAAAAAAAAAAAAAAAAAAAAAAAAAAAAAAAAAAAAAAAAAAAAAAAAAAAAAAAAAAAAAAAAAAAAAAAAAAAAAAAAAAAAAAAAAAAAAAAAAAAAAAAAAAAAAAAAAAAAAAAAAAAAAAAAAAAAAAAAAAAAAAAAAAAAAAAAAAAAAAAAAAAAAAAAAAAAAAAAAAAAAAAAAAAAAAAAAAAAAAAAAAAAAAAAAAAAAAAAAAAAAAAAAAAAAAAAAAAAAAAAAAAAAAAAAAAAAAAAAAAAAAAAAAAAAAAAAAAAAAAAAAAAAAAAAAAAAAAAAAAAAAAAAAAAAAAAAAAAAAAAAAAAAAAAAAAAAAAAAAAAAAAAAAAAAAAAAAAAAAAAAAAAAAAAAAAAAAAAAAAAAAAAAAAAAAAAAAAAAAAAAAAAAAAAAAAAAAAAAAAAAAAAAAAAAAAAAAAAAAAAAAAAAAAAAAAAAAAAAAAAAAAAAAAAAAAAAAAAAAAAAAAAAAAAAAAAAAAAAAAAAAAAAAAAAAAAAAAAAAAAAAAAAAAAAAAAAAAAAAAAAAAAAAAAAAAAAAAAAAAAAAAAAAAAAAAAAAAAAAAAAAAAAAAAAAAAAAAAAAAAAAAAAAAAAAAAAAAAAAAAAAAAAAAAAAAAAAAAAAAAAAAAAAAAAAAAAAAAAAAAAAAAAAAAAAAAAAAAAAAAAAAAAAAAAAAAAAAAAAAAAAAAAAAAAAAAAAAAAAAAAAAAAAAAAAAAAAAAAAAAAAAAAAAAAAAAAAAAAAAAAAAAAAAAAAAAAAAAAAAAAAAAAAAAAAAAAAAAAAAAAAAAAAAAAAAAAAAAAAAAAAAAAAAAAAAAAAAAAAAAAAAAAAAAAAAAAAAAAAAAAAAAAAAAAAAAAAAAAAAAAAAAAAAAAAAAAAAAAAAAAAAAAAAAAAAAAAAAAAAAAAAAAAAAAAAAAAAAAAAAAAAAAAAAAAAAAAAAAAAAAAAAAAAAAAAAAAAAAAAAAAAAAAAAAAAAAAAAAAAAAAAAAAAAAAAAAAAAAAAAAAAAAAAAAAAAAAAAAAAAAAAAAAAAAAAAAAAAAAAAAAAAAAAAAAAAAAAAAAAAAAAAAAAAAAAAAAAAAAAAAAAAAAAAAAAAAAAAAAAAAAAAAAAAAAAAAAAAAAAAAAAAAAAAAAAAAAAAAAAAAAAAAAAAAAAAAAAAAAAAAAAAAAAAAAAAAAAAAAAAAAAAAAAAAAAAAAAAAAAAAAAAAAAAAAAAAAAAAAAAAAAAAAAAAAAAAAAAAAAAAAAAAAAAAAAAAAAAAAAAAAAAAAAAAAAAAAAAAAAAAAAAAAAAAAAAAAAAAAAAAAAAAAAAAAAAAAAAAAAAAAAAAAAAAAAAAAAAAAAAAAAAAAAAAAAAAAAAAAAAAAAAAAAAAAAAAAAAAAAAAAAAAAAAAAAAAAAAAAAAAAAAAAAAAAAAAAAAAAAAAAAAAAAAAAAAAAAAAAAAAAAAAAAAAAAAAAAAAAAAAAAAAAAAAAAAAAAAAAAAAAAAAAAAAAAAAAAAAAAAAAAAAAAAAAAAAAAAAAAAAAAAAAAAAAAAAAAAAAAAAAAAAAAAAAAAAAAAAAAAAAAAAAAAAAAAAAAAAAAAAAAAAAAAAAAAAAAAAAAAAAAAAAAAAAAAAAAAAAAAAAAAAAAAAAAAAAAAAAAAAAAAAAAAAAAAAAAAAAAAAAAAAAAAAAAAAAAAAAAAAAAAAAAAAAAAAAAAAAAAAAAAAAAAAAAAAAAAAAAAAAAAAAAAAAAAAAAAAAAAAAAAAAAAAAAAAAAAAAAAAAAAAAAAAAAAAAAAAAAAAAAAAAAAAAAAAAAAAAAAAAAAAAAAAAAAAAAAAAAAAAAAAAAAAAAAAAAAAAAAAAAAAAAAAAAAAAAAAAAAAAAAAAAAAAAAAAAAAAAAAAAAAAAAAAAAAAAAAAAAAAAAAAAAAAAAAAAAAAAAAAAAAAAAAAAAAAAAAAAAAAAAAAAAAAAAAAAAAAAAAAAAAAAAAAAAAAAAAAAAAAAAAAAAAAAAAAAAAAAAAAAAAAAAAAAAAAAAAAAAAAAAAAAAAAAAAAAAAAAAAAAAAAAAAAAAAAAAAAAAAAAAAAAAAAAAAAAAAAAAAAAAAAAAAAAAAAAAAAAAAAAAAAAAAAAAAAAAAAAAAAAAAAAAAAAAAAAAAAAAAAAAAAAAAAAAAAAAAAAAAAAAAAAAAAAAAAAAAAAAAAAAAAAAAAAAAAAAAAAAAAAAAAAAAAAAAAAAAAAAAAAAAAAAAAAAAAAAAAAAAAAAAAAAAAAAAAAAAAAAAAAAAAAAAAAAAAAAAAAAAAAAAAAAAAAAAAAAAAAAAAAAAAAAAAAAAAAAAAAAAAAAAAAAAAAAAAAAAAAAAAAAAAAAAAAAAAAAAAAAAAAAAAAAAAAAAAAAAAAAAAAAAAAAAAAAAAAAAAAAAAAAAAAAAAAAAAAAAAAAAAAAAAAAAAAAAAAAAAAAAAAAAAAAAAAAAAAAAAAAAAAAAAAAAAAAAAAAAAAAAAAAAAAAAAAAAAAAAAAAAAAAAAAAAAAAAAAAAAAAAAAAAAAAAAAAAAAAAAAAAAAAAAAAAAAAAAAAAAAAAAAAAAAAAAAAAAAAAAAAAAAAAAAAAAAAAAAAAAAAAAAAAAAAAAAAAAAAAAAAAAAAAAAAAAAAAAAAAAAAAAAAAAAAAAAAAAAAAAAAAAAAAAAAAAAAAAAAAAAAAAAAAAAAAAAAAAAAAAAAAAAAAAAAAAAAAAAAAAAAAAAAAAAAAAAAAAAAAAAAAAAAAAAAAAAAAAAAAAAAAAAAAAAAAAAAAAAAAAAAAAAAAAAAAAAAAAAAAAAAAAAAAAAAAAAAAAAAAAAAAAAAAAAAAAAAAAAAAAAAAAAAAAAAAAAAAAAAAAAAAAAAAAAAAAAAAAAAAAAAAAAAAAAAAAAAAAAAAAAAAAAAAAAAAAAAAAAAAAAAAAAAAAAAAAAAAAAAAAAAAAAAAAAAAAAAAAAAAAAAAAAAAAAAAAAAAAAAAAAAAAAAAAAAAAAAAAAAAAAAAAAAAAAAAAAAAAAAAAAAAAAAAAAAAAAAAAAAAAAAAAAAAAAAAAAAAAAAAAAAAAAAAAAAAAAAAAAAAAAAAAAAAAAAAAAAAAAAAAAAAAAAAAAAAAAAAAAAAAAAAAAAAAAAAAAAAAAAAAAAAAAAAAAAAAAAAAAAAAAAAAAAAAAAAAAAAAAAAAAAAAAAAAAAAAAAAAAAAAAAAAAAAAAAAAAAAAAAAAAAAAAAAAAAAAAAAAAAAAAAAAAAAAAAAAAAAAAAAAAAAAAAAAAAAAAAAAAAAAAAAAAAAAAAAAAAAAAAAAAAAAAAAAAAAAAAAAAAAAAAAAAAAAAAAAAAAAAAAAAAAAAAAAAAAAAAAAAAAAAAAAAAAAAAAAAAAAAAAAAAAAAAAAAAAAAAAAAAAAAAAAAAAAAAAAAAAAAAAAAAAAAAAAAAAAAAAAAAAAAAAAAAAAAAAAAAAAAAAAAAAAAAAAAAAAAAAAAAAAAAAAAAAAAAAAAAAAAAAAAAAAAAAAAAAAAAAAAAAAAAAAAAAAAAAAAAAAAAAAAAAAAAAAAAAAAAAAAAAAAAAAAAAAAAAAAAAAAAAAAAAAAAAAAAAAAAAAAAAAAAAAAAAAAAAAAAAAAAAAAAAAAAAAAAAAAAAAAAAAAAAAAAAAAAAAAAAAAAAAAAAAAAAAAAAAAAAAAAAAAAAAAAAAAAAAAAAAAAAAAAAAAAAAAAAAAAAAAAAAAAAAAAAAAAAAAAAAAAAAAAAAAAAAAAAAAAAAAAAAAAAAAAAAAAAAAAAAAAAAAAAAAAAAAAAAAAAAAAAAAAAAAAAAAAAAAAAAAAAAAAAAAAAAAAAAAAAAAAAAAAAAAAAAAAAAAAAAAAAAAAAAAAAAAAAAAAAAAAAAAAAAAAAAAAAAAAAAAAAAAAAAAAAAAAAAAAAAAAAAAAAAAAAAAAAAAAAAAAAAAAAAAAAAAAAAAAAAAAAAAAAAAAAAAAAAAAAAAAAAAAAAAAAAAAAAAAAAAAAAAAAAAAAAAAAAAAAAAAAAAAAAAAAAAAAAAAAAAAAAAAAAAAAAAAAAAAAAAAAAAAAAAAAAAAAAAAAAAAAAAAAAAAAAAAAAAAAAAAAAAAAAAAAAAAAAAAAAAAAAAAAAAAAAAAAAAAAAAAAAAAAAAAAAAAAAAAAAAAAAAAAAAAAAAAAAAAAAAAAAAAAAAAAAAAAAAAAAAAAAAAAAAAAAAAAAAAAAAAAAAAAAAAAAAAAAAAAAAAAAAAAAAAAAAAAAAAAAAAAAAAAAAAAAAAAAAAAAAAAAAAAAAAAAAAAAAAAAAAAAAAAAAAAAAAAAAAAAAAAAAAAAAAAAAAAAAAAAAAAAAAAAAAAAAAAAAAAAAAAAAAAAAAAAAAAAAAAAAAAAAAAAAAAAAAAAAAAAAAAAAAAAAAAAAAAAAAAAAAAAAAAAAAAAAAAAAAAAAAAAAAAAAAAAAAAAAAAAAAAAAAAAAAAAAAAAAAAAAAAAAAAAAAAAAAAAAAAAAAAAAAAAAAAAAAAAAAAAAAAAAAAAAAAAAAAAAAAAAAAAAAAAAAAAAAAAAAAAAAAAAAAAAAAAAAAAAAAAAAAAAAAAAAAAAAAAAAAAAAAAAAAAAAAAAAAAAAAAAAAAAAAAAAAAAAAAAAAAAAAAAAAAAAAAAAAAAAAAAAAAAAAAAAAAAAAAAAAAAAAAAAAAAAAAAAAAAAAAAAAAAAAAAAAAAAAAAAAAAAAAAAAAAAAAAAAAAAAAAAAAAAAAAAAAAAAAAAAAAAAAAAAAAAAAAAAAAAAAAAAAAAAAAAAAAAAAAAAAAAAAAAAAAAAAAAAAAAAAAAAAAAAAAAAAAAAAAAAAAAAAAAAAAAAAAAAAAAAAAAAAAAAAAAAAAAAAAAAAAAAAAAAAAAAAAAAAAAAAAAAAAAAAAAAAAAAAAAAAAAAAAAAAAAAAAAAAAAAAAAAAAAAAAAAAAAAAAAAAAAAAAAAAAAAAAAAAAAAAAAAAAAAAAAAAAAAAAAAAAAAAAAAAAAAAAAAAAAAAAAAAAAAAAAAAAAAAAAAAAAAAAAAAAAAAAAAAAAAAAAAAAAAAAAAAAAAAAAAAAAAAAAAAAAAAAAAAAAAAAAAAAAAAAAAAAAAAAAAAAAAAAAAAAAAAAAAAAAAAAAAAAAAAAAAAAAAAAAAAAAAAAAAAAAAAAAAAAAAAAAAAAAAAAAAAAAAAAAAAAAAAAAAAAAAAAAAAAAAAAAAAAAAAAAAAAAAAAAAAAAAAAAAAAAAAAAAAAAAAAAAAAAAAAAAAAAAAAAAAAAAAAAAAAAAAAAAAAAAAAAAAAAAAAAAAAAAAAAAAAAAAAAAAAAAAAAAAAAAAAAAAAAAAAAAAAAAAAAAAAAAAAAAAAAAAAAAAAAAAAAAAAAAAAAAAAAAAAAAAAAAAAAAAAAAAAAAAAAAAAAAAAAAAA=\",\"dtype\":\"float64\",\"shape\":[601]}}},\"id\":\"881493d9-cd51-45bb-955f-ddc005a9888f\",\"type\":\"ColumnDataSource\"},{\"attributes\":{\"callback\":null,\"column_names\":[\"x\",\"y\"],\"data\":{\"x\":[0,1000,2000,3000,4000,5000,6000,7000,8000,9000,10000,11000,12000,13000,14000,15000,16000,17000,18000,19000,20000,21000,22000,23000,24000,25000,26000,27000,28000,29000,30000,31000,32000,33000,34000,35000,36000,37000,38000,39000,40000,41000,42000,43000,44000,45000,46000,47000,48000,49000,50000,51000,52000,53000,54000,55000,56000,57000,58000,59000,60000,61000,62000,63000,64000,65000,66000,67000,68000,69000,70000,71000,72000,73000,74000,75000,76000,77000,78000,79000,80000,81000,82000,83000,84000,85000,86000,87000,88000,89000,90000,91000,92000,93000,94000,95000,96000,97000,98000,99000,100000,101000,102000,103000,104000,105000,106000,107000,108000,109000,110000,111000,112000,113000,114000,115000,116000,117000,118000,119000,120000,121000,122000,123000,124000,125000,126000,127000,128000,129000,130000,131000,132000,133000,134000,135000,136000,137000,138000,139000,140000,141000,142000,143000,144000,145000,146000,147000,148000,149000,150000,151000,152000,153000,154000,155000,156000,157000,158000,159000,160000,161000,162000,163000,164000,165000,166000,167000,168000,169000,170000,171000,172000,173000,174000,175000,176000,177000,178000,179000,180000,181000,182000,183000,184000,185000,186000,187000,188000,189000,190000,191000,192000,193000,194000,195000,196000,197000,198000,199000,200000,201000,202000,203000,204000,205000,206000,207000,208000,209000,210000,211000,212000,213000,214000,215000,216000,217000,218000,219000,220000,221000,222000,223000,224000,225000,226000,227000,228000,229000,230000,231000,232000,233000,234000,235000,236000,237000,238000,239000,240000,241000,242000,243000,244000,245000,246000,247000,248000,249000,250000,251000,252000,253000,254000,255000,256000,257000,258000,259000,260000,261000,262000,263000,264000,265000,266000,267000,268000,269000,270000,271000,272000,273000,274000,275000,276000,277000,278000,279000,280000,281000,282000,283000,284000,285000,286000,287000,288000,289000,290000,291000,292000,293000,294000,295000,296000,297000,298000,299000,300000,301000,302000,303000,304000,305000,306000,307000,308000,309000,310000,311000,312000,313000,314000,315000,316000,317000,318000,319000,320000,321000,322000,323000,324000,325000,326000,327000,328000,329000,330000,331000,332000,333000,334000,335000,336000,337000,338000,339000,340000,341000,342000,343000,344000,345000,346000,347000,348000,349000,350000,351000,352000,353000,354000,355000,356000,357000,358000,359000,360000,361000,362000,363000,364000,365000,366000,367000,368000,369000,370000,371000,372000,373000,374000,375000,376000,377000,378000,379000,380000,381000,382000,383000,384000,385000,386000,387000,388000,389000,390000,391000,392000,393000,394000,395000,396000,397000,398000,399000,400000,401000,402000,403000,404000,405000,406000,407000,408000,409000,410000,411000,412000,413000,414000,415000,416000,417000,418000,419000,420000,421000,422000,423000,424000,425000,426000,427000,428000,429000,430000,431000,432000,433000,434000,435000,436000,437000,438000,439000,440000,441000,442000,443000,444000,445000,446000,447000,448000,449000,450000,451000,452000,453000,454000,455000,456000,457000,458000,459000,460000,461000,462000,463000,464000,465000,466000,467000,468000,469000,470000,471000,472000,473000,474000,475000,476000,477000,478000,479000,480000,481000,482000,483000,484000,485000,486000,487000,488000,489000,490000,491000,492000,493000,494000,495000,496000,497000,498000,499000,500000,501000,502000,503000,504000,505000,506000,507000,508000,509000,510000,511000,512000,513000,514000,515000,516000,517000,518000,519000,520000,521000,522000,523000,524000,525000,526000,527000,528000,529000,530000,531000,532000,533000,534000,535000,536000,537000,538000,539000,540000,541000,542000,543000,544000,545000,546000,547000,548000,549000,550000,551000,552000,553000,554000,555000,556000,557000,558000,559000,560000,561000,562000,563000,564000,565000,566000,567000,568000,569000,570000,571000,572000,573000,574000,575000,576000,577000,578000,579000,580000,581000,582000,583000,584000,585000,586000,587000,588000,589000,590000,591000,592000,593000,594000,595000,596000,597000,598000,599000,600000],\"y\":{\"__ndarray__\":\"AAAAAAAAAAAAAAAAAAAAAAAAAAAAAAAAAAAAAAAAAAAAAAAAAAAAAAAAAAAAAAAAAAAAAAAAAAAAAAAAAAAAAAAAAAAAAAAAAAAAAAAAAAAAAAAAAAAAAAAAAAAAAAAAAAAAAAAAAAAAAAAAAAAAAAAAAAAAAAAAAAAAAAAAAAAAAAAAAAAAAAAAAAAAAAAAAAAAAAAAAAAAAAAAAAAAAAAAAAAAAAAAAAAAAAAAAAAAAAAAAAAAAAAAAAAAAAAAAAAAAAAAAAAAAAAAAAAAAAAAAAAAAAAAAAAAAAAAAAAAAAAAAAAAAAAAAAAAAAAAAAAAAAAAAAAAAAAAAAAAAAAAAAAAAAAAAAAAAAAAAAAAAAAAAAAAAAAAAAAAAAAAAAAAAAAAAAAAAAAAAAAAAAAAAAAAAAAAAAAAAAAAAAAAAAAAAAAAAAAAAAAAAAAAAAAAAAAAAAAAAAAAAAAAAAAAAAAAAAAAAAAAAAAAAAAAAAAAAAAAAAAAAAAAAAAAAAAAAAAAAAAAAAAAAAAAAAAAAAAAAAAAAAAAAAAAAAAAAAAAAAAAAAAAAAAAAAAAAAAAAAAAAAAAAAAAAAAAAAAAAAAAAAAAAAAAAAAAAAAAAAAAAAAAAAAAAAAAAAAAAAAAAAAAAAAAAAAAAAAAAAAAAAAAAAAAAAAAAAAAAAAAAAAAAAAAAAAAAAAAAAAAAAAAAAAAAAAAAAAAAAAAAAAAAAAAAAAAAAAAAAAAAAAAAAAAAAAAAAAAAAAAAAAAAAAAAAAAAAAAAAAAAAAAAAAAAAAAAAAAAAAAAAAAAAAAAAAAAAAAAAAAAAAAAAAAAAAAAAAAAAAAAAAAAAAAAAAAAAAAAAAAAAAAAAAAAAAAAAAAAAAAAAAAAAAAAAAAAAAAAAAAAAAAAAAAAAAAAAAAAAAAAAAAAAAAAAAAAAAAAAAAAAAAAAAAAAAAAAAAAAAAAAAAAAAAAAAAAAAAAAAAAAAAAAAAAAAAAAAAAAAAAAAAAAAAAAAAAAAAAAAAAAAAAAAAAAAAAAAAAAAAAAAAAAAAAAAAAAAAAAAAAAAAAAAAAAAAAAAAAAAAAAAAAAAAAAAAAAAAAAAAAAAAAAAAAAAAAAAAAAAAAAAAAAAAAAAAAAAAAAAAAAAAAAAAAAAAAAAAAAAAAAAAAAAAAAAAAAAAAAAAAAAAAAAAAAAAAAAAAAAAAAAAAAAAAAAAAAAAAAAAAAAAAAAAAAAAAAAAAAAAAAAAAAAAAAAAAAAAAAAAAAAAAAAAAAAAAAAAAAAAAAAAAAAAAAAAAAAAAAAAAAAAAAAAAAAAAAAAAAAAAAAAAAAAAAAAAAAAAAAAAAAAAAAAAAAAAAAAAAAAAAAAAAAAAAAAAAAAAAAAAAAAAAAAAAAAAAAAAAAAAAAAAAAAAAAAAAAAAAAAAAAAAAAAAAAAAAAAAAAAAAAAAAAAAAAAAAAAAAAAAAAAAAAAAAAAAAAAAAAAAAAAAAAAAAAAAAAAAAAAAAAAAAAAAAAAAAAAAAAAAAAAAAAAAAAAAAAAAAAAAAAAAAAAAAAAAAAAAAAAAAAAAAAAAAAAAAAAAAAAAAAAAAAAAAAAAAAAAAAAAAAAAAAAAAAAAAAAAAAAAAAAAAAAAAAAAAAAAAAAAAAAAAAAAAAAAAAAAAAAAAAAAAAAAAAAAAAAAAAAAAAAAAAAAAAAAAAAAAAAAAAAAAAAAAAAAAAAAAAAAAAAAAAAAAAAAAAAAAAAAAAAAAAAAAAAAAAAAAAAAAAAAAAAAAAAAAAAAAAAAAAAAAAAAAAAAAAAAAAAAAAAAAAAAAAAAAAAAAAAAAAAAAAAAAAAAAAAAAAAAAAAAAAAAAAAAAAAAAAAAAAAAAAAAAAAAAAAAAAAAAAAAAAAAAAAAAAAAAAAAAAAAAAAAAAAAAAAAAAAAAAAAAAAAAAAAAAAAAAAAAAAAAAAAAAAAAAAAAAAAAAAAAAAAAAAAAAAAAAAAAAAAAAAAAAAAAAAAAAAAAAAAAAAAAAAAAAAAAAAAAAAAAAAAAAAAAAAAAAAAAAAAAAAAAAAAAAAAAAAAAAAAAAAAAAAAAAAAAAAAAAAAAAAAAAAAAAAAAAAAAAAAAAAAAAAAAAAAAAAAAAAAAAAAAAAAAAAAAAAAAAAAAAAAAAAAAAAAAAAAAAAAAAAAAAAAAAAAAAAAAAAAAAAAAAAAAAAAAAAAAAAAAAAAAAAAAAAAAAAAAAAAAAAAAAAAAAAAAAAAAAAAAAAAAAAAAAAAAAAAAAAAAAAAAAAAAAAAAAAAAAAAAAAAAAAAAAAAAAAAAAAAAAAAAAAAAAAAAAAAAAAAAAAAAAAAAAAAAAAAAAAAAAAAAAAAAAAAAAAAAAAAAAAAAAAAAAAAAAAAAAAAAAAAAAAAAAAAAAAAAAAAAAAAAAAAAAAAAAAAAAAAAAAAAAAAAAAAAAAAAAAAAAAAAAAAAAAAAAAAAAAAAAAAAAAAAAAAAAAAAAAAAAAAAAAAAAAAAAAAAAAAAAAAAAAAAAAAAAAAAAAAAAAAAAAAAAAAAAAAAAAAAAAAAAAAAAAAAAAAAAAAAAAAAAAAAAAAAAAAAAAAAAAAAAAAAAAAAAAAAAAAAAAAAAAAAAAAAAAAAAAAAAAAAAAAAAAAAAAAAAAAAAAAAAAAAAAAAAAAAAAAAAAAAAAAAAAAAAAAAAAAAAAAAAAAAAAAAAAAAAAAAAAAAAAAAAAAAAAAAAAAAAAAAAAAAAAAAAAAAAAAAAAAAAAAAAAAAAAAAAAAAAAAAAAAAAAAAAAAAAAAAAAAAAAAAAAAAAAAAAAAAAAAAAAAAAAAAAAAAAAAAAAAAAAAAAAAAAAAAAAAAAAAAAAAAAAAAAAAAAAAAAAAAAAAAAAAAAAAAAAAAAAAAAAAAAAAAAAAAAAAAAAAAAAAAAAAAAAAAAAAAAAAAAAAAAAAAAAAAAAAAAAAAAAAAAAAAAAAAAAAAAAAAAAAAAAAAAAAAAAAAAAAAAAAAAAAAAAAAAAAAAAAAAAAAAAAAAAAAAAAAAAAAAAAAAAAAAAAAAAAAAAAAAAAAAAAAAAAAAAAAAAAAAAAAAAAAAAAAAAAAAAAAAAAAAAAAAAAAAAAAAAAAAAAAAAAAAAAAAAAAAAAAAAAAAAAAAAAAAAAAAAAAAAAAAAAAAAAAAAAAAAAAAAAAAAAAAAAAAAAAAAAAAAAAAAAAAAAAAAAAAAAAAAAAAAAAAAAAAAAAAAAAAAAAAAAAAAAAAAAAAAAAAAAAAAAAAAAAAAAAAAAAAAAAAAAAAAAAAAAAAAAAAAAAAAAAAAAAAAAAAAAAAAAAAAAAAAAAAAAAAAAAAAAAAAAAAAAAAAAAAAAAAAAAAAAAAAAAAAAAAAAAAAAAAAAAAAAAAAAAAAAAAAAAAAAAAAAAAAAAAAAAAAAAAAAAAAAAAAAAAAAAAAAAAAAAAAAAAAAAAAAAAAAAAAAAAAAAAAAAAAAAAAAAAAAAAAAAAAAAAAAAAAAAAAAAAAAAAAAAAAAAAAAAAAAAAAAAAAAAAAAAAAAAAAAAAAAAAAAAAAAAAAAAAAAAAAAAAAAAAAAAAAAAAAAAAAAAAAAAAAAAAAAAAAAAAAAAAAAAAAAAAAAAAAAAAAAAAAAAAAAAAAAAAAAAAAAAAAAAAAAAAAAAAAAAAAAAAAAAAAAAAAAAAAAAAAAAAAAAAAAAAAAAAAAAAAAAAAAAAAAAAAAAAAAAAAAAAAAAAAAAAAAAAAAAAAAAAAAAAAAAAAAAAAAAAAAAAAAAAAAAAAAAAAAAAAAAAAAAAAAAAAAAAAAAAAAAAAAAAAAAAAAAAAAAAAAAAAAAAAAAAAAAAAAAAAAAAAAAAAAAAAAAAAAAAAAAAAAAAAAAAAAAAAAAAAAAAAAAAAAAAAAAAAAAAAAAAAAAAAAAAAAAAAAAAAAAAAAAAAAAAAAAAAAAAAAAAAAAAAAAAAAAAAAAAAAAAAAAAAAAAAAAAAAAAAAAAAAAAAAAAAAAAAAAAAAAAAAAAAAAAAAAAAAAAAAAAAAAAAAAAAAAAAAAAAAAAAAAAAAAAAAAAAAAAAAAAAAAAAAAAAAAAAAAAAAAAAAAAAAAAAAAAAAAAAAAAAAAAAAAAAAAAAAAAAAAAAAAAAAAAAAAAAAAAAAAAAAAAAAAAAAAAAAAAAAAAAAAAAAAAAAAAAAAAAAAAAAAAAAAAAAAAAAAAAAAAAAAAAAAAAAAAAAAAAAAAAAAAAAAAAAAAAAAAAAAAAAAAAAAAAAAAAAAAAAAAAAAAAAAAAAAAAAAAAAAAAAAAAAAAAAAAAAAAAAAAAAAAAAAAAAAAAAAAAAAAAAAAAAAAAAAAAAAAAAAAAAAAAAAAAAAAAAAAAAAAAAAAAAAAAAAAAAAAAAAAAAAAAAAAAAAAAAAAAAAAAAAAAAAAAAAAAAAAAAAAAAAAAAAAAAAAAAAAAAAAAAAAAAAAAAAAAAAAAAAAAAAAAAAAAAAAAAAAAAAAAAAAAAAAAAAAAAAAAAAAAAAAAAAAAAAAAAAAAAAAAAAAAAAAAAAAAAAAAAAAAAAAAAAAAAAAAAAAAAAAAAAAAAAAAAAAAAAAAAAAAAAAAAAAAAAAAAAAAAAAAAAAAAAAAAAAAAAAAAAAAAAAAAAAAAAAAAAAAAAAAAAAAAAAAAAAAAAAAAAAAAAAAAAAAAAAAAAAAAAAAAAAAAAAAAAAAAAAAAAAAAAAAAAAAAAAAAAAAAAAAAAAAAAAAAAAAAAAAAAAAAAAAAAAAAAAAAAAAAAAAAAAAAAAAAAAAAAAAAAAAAAAAAAAAAAAAAAAAAAAAAAAAAAAAAAAAAAAAAAAAAAAAAAAAAAAAAAAAAAAAAAAAAAAAAAAAAAAAAAAAAAAAAAAAAAAAAAAAAAAAAAAAAAAAAAAAAAAAAAAAAAAAAAAAAAAAAAAAAAAAAAAAAAAAAAAAAAAAAAAAAAAAAAAAAAAAAAAAAAAAAAAAAAAAAAAAAAAAAAAAAAAAAAAAAAAAAAAAAAAAAAAAAAAAAAAAAAAAAAAAAAAAAAAAAAAAAAAAAAAAAAAAAAAAAAAAAAAAAAAAAAAAAAAAAAAAAAAAAAAAAAAAAAAAAAAAAAAAAAAAAAAAAAAAAAAAAAAAAAAAAAAAAAAAAAAAAAAAAAAAAAAAAAAAAAAAAAAAAAAAAAAAAAAAAAAAAAAAAAAAAAAAAAAAAAAAAAAAAAAAAAAAAAAAAAAAAAAAAAAAAAAAAAAAAAAAAAAAAAAAAAAAAAAAAAAAAAAAAAAAAAAAAAAAAAAAAAAAAAAAAAAAAAAAAAAAAAAAAAAAAAAAAAAAAAAAAAAAAAAAAAAAAAAAAAAAAAAAAAAAAAAAAAAAAAAAAAAAAAAAAAAAAAAAAAAAAAAAAAAAAAAAAAAAAAAAAAAAAAAAAAAAAAAAAAAAAAAAAAAAAAAAAAAAAAAAAAAAAAAAAAAAAAAAAAAAAAAAAAAAAAAAAAAAAAAAAAAAAAAAAAAAAAAAAAAAAAAAAAAAAAAAAAAAAAAAAAAAAAAAAAAAAAAAAAAAAAAAAAAAAAAAAAAAAAAAAAAAAAAAAAAAAAAAAAAAAAAAAAAAAAAAAAAAAAAAAAAAAAAAAAAAAAAAAAAAAAAAAAAAAAAAAAAAAAAAAAAAAAAAAAAAAAAAAAAAAAAAAAAAAAAAAAAAAAAAAAAAAAAAAAAAAAAAAAAAAAAAAAAAAAAAAAAAAAAAAAAAAAAAAAAAAAAAAAAAAAAAAAAAAAAAAAAAAAAAAAAAAAAAAAAAAAAAAAAAAAAAAAAAAAAAAAAAAAAAAAAAAAAAAAAAAAAAAAAAAAAAAAAAAAAAAAAAAAAAAAAAAAAAAAAAAAAAAAAAAAAAAAAAAAAAAAAAAAAAAAAAAAAAAAAAAAAAAAAAAAAAAAAAAAAAAAAAAAAAAAAAAAAAAAAAAAAAAAAAAAAAAAAAAAAAAAAAAAAAAAAAAAAAAAAAAAAAAAAAAAAAAAAAAAAAAAAAAAAAAAAAAAAAAAAAAAAAAAAAAAAAAAAAAAAAAAAAAAAAAAAAAAAAAAAAAAAAAAAAAAAAAAAAAAAAAAAAAAAAAAAAAAAAAAAAAAAAAAAAAAAAAAAAAAAAAAAAAAAAAAAAAAAAAAAAAAAAAAAAAAAAAAAAAAAAAAAAAAAAAAAAAAAAAAAAAAAAAAAAAAAAAAAAAAAAAAAAAAAAAAAAAAAAAAAAAAAAAAAAAAAAAAAAAAAAAAAAAAAAAAAAAAAAAAAAAAAAAAAAAAAAAAAAAAAAAAAAAAAAAAAAAAAAAAAAAAAAAAAAAAAAAAAAAAAAAAAAAAAAAAAAAAAAAAAAAAAAAAAAAAAAAAAAAAAAAAAAAAAAAAAAAAAAAAAAAAAAAAAAAAAAAAAAAAAAAAAAAAAAAAAAAAAAAAA=\",\"dtype\":\"float64\",\"shape\":[601]}}},\"id\":\"d651f9b3-4820-4ab1-b85a-bc7b501c2348\",\"type\":\"ColumnDataSource\"},{\"attributes\":{\"line_alpha\":{\"value\":0.1},\"line_color\":{\"value\":\"#1f77b4\"},\"line_width\":{\"value\":2},\"x\":{\"field\":\"x\"},\"y\":{\"field\":\"y\"}},\"id\":\"96ba5fca-f270-47a6-a771-bbfa83a263f4\",\"type\":\"Line\"},{\"attributes\":{\"line_color\":{\"value\":\"#e41a1c\"},\"line_width\":{\"value\":2},\"x\":{\"field\":\"x\"},\"y\":{\"field\":\"y\"}},\"id\":\"953afeba-c292-4d7c-aa9a-22958ea4d5dd\",\"type\":\"Line\"},{\"attributes\":{\"label\":{\"value\":\"10 Step 4 Nscaling\"},\"renderers\":[{\"id\":\"f26431be-6747-4786-902c-1f7111236fdc\",\"type\":\"GlyphRenderer\"}]},\"id\":\"c2822df4-6a08-4039-ad54-c91b89bc32e8\",\"type\":\"LegendItem\"},{\"attributes\":{\"callback\":null,\"column_names\":[\"x\",\"y\"],\"data\":{\"x\":[0,1000,2000,3000,4000,5000,6000,7000,8000,9000,10000,11000,12000,13000,14000,15000,16000,17000,18000,19000,20000,21000,22000,23000,24000,25000,26000,27000,28000,29000,30000,31000,32000,33000,34000,35000,36000,37000,38000,39000,40000,41000,42000,43000,44000,45000,46000,47000,48000,49000,50000,51000,52000,53000,54000,55000,56000,57000,58000,59000,60000,61000,62000,63000,64000,65000,66000,67000,68000,69000,70000,71000,72000,73000,74000,75000,76000,77000,78000,79000,80000,81000,82000,83000,84000,85000,86000,87000,88000,89000,90000,91000,92000,93000,94000,95000,96000,97000,98000,99000,100000,101000,102000,103000,104000,105000,106000,107000,108000,109000,110000,111000,112000,113000,114000,115000,116000,117000,118000,119000,120000,121000,122000,123000,124000,125000,126000,127000,128000,129000,130000,131000,132000,133000,134000,135000,136000,137000,138000,139000,140000,141000,142000,143000,144000,145000,146000,147000,148000,149000,150000,151000,152000,153000,154000,155000,156000,157000,158000,159000,160000,161000,162000,163000,164000,165000,166000,167000,168000,169000,170000,171000,172000,173000,174000,175000,176000,177000,178000,179000,180000,181000,182000,183000,184000,185000,186000,187000,188000,189000,190000,191000,192000,193000,194000,195000,196000,197000,198000,199000,200000,201000,202000,203000,204000,205000,206000,207000,208000,209000,210000,211000,212000,213000,214000,215000,216000,217000,218000,219000,220000,221000,222000,223000,224000,225000,226000,227000,228000,229000,230000,231000,232000,233000,234000,235000,236000,237000,238000,239000,240000,241000,242000,243000,244000,245000,246000,247000,248000,249000,250000,251000,252000,253000,254000,255000,256000,257000,258000,259000,260000,261000,262000,263000,264000,265000,266000,267000,268000,269000,270000,271000,272000,273000,274000,275000,276000,277000,278000,279000,280000,281000,282000,283000,284000,285000,286000,287000,288000,289000,290000,291000,292000,293000,294000,295000,296000,297000,298000,299000,300000,301000,302000,303000,304000,305000,306000,307000,308000,309000,310000,311000,312000,313000,314000,315000,316000,317000,318000,319000,320000,321000,322000,323000,324000,325000,326000,327000,328000,329000,330000,331000,332000,333000,334000,335000,336000,337000,338000,339000,340000,341000,342000,343000,344000,345000,346000,347000,348000,349000,350000,351000,352000,353000,354000,355000,356000,357000,358000,359000,360000,361000,362000,363000,364000,365000,366000,367000,368000,369000,370000,371000,372000,373000,374000,375000,376000,377000,378000,379000,380000,381000,382000,383000,384000,385000,386000,387000,388000,389000,390000,391000,392000,393000,394000,395000,396000,397000,398000,399000,400000,401000,402000,403000,404000,405000,406000,407000,408000,409000,410000,411000,412000,413000,414000,415000,416000,417000,418000,419000,420000,421000,422000,423000,424000,425000,426000,427000,428000,429000,430000,431000,432000,433000,434000,435000,436000,437000,438000,439000,440000,441000,442000,443000,444000,445000,446000,447000,448000,449000,450000,451000,452000,453000,454000,455000,456000,457000,458000,459000,460000,461000,462000,463000,464000,465000,466000,467000,468000,469000,470000,471000,472000,473000,474000,475000,476000,477000,478000,479000,480000,481000,482000,483000,484000,485000,486000,487000,488000,489000,490000,491000,492000,493000,494000,495000,496000,497000,498000,499000,500000,501000,502000,503000,504000,505000,506000,507000,508000,509000,510000,511000,512000,513000,514000,515000,516000,517000,518000,519000,520000,521000,522000,523000,524000,525000,526000,527000,528000,529000,530000,531000,532000,533000,534000,535000,536000,537000,538000,539000,540000,541000,542000,543000,544000,545000,546000,547000,548000,549000,550000,551000,552000,553000,554000,555000,556000,557000,558000,559000,560000,561000,562000,563000,564000,565000,566000,567000,568000,569000,570000,571000,572000,573000,574000,575000,576000,577000,578000,579000,580000,581000,582000,583000,584000,585000,586000,587000,588000,589000,590000,591000,592000,593000,594000,595000,596000,597000,598000,599000,600000],\"y\":{\"__ndarray__\":\"AAAAAAAAAAAAAAAAAAAAAAAAAAAAAAAAAAAAAAAAAAAAAAAAAAAAAAAAAAAAAAAAAAAAAAAAAAAAAAAAAAAAAAAAAAAAAAAAAAAAAAAAAAAAAAAAAAAAAAAAAAAAAAAAAAAAAAAAAAAAAAAAAAAAAAAAAAAAAAAAAAAAAAAAAAAAAAAAAAAAAAAAAAAAAAAAAAAAAAAAAAAAAAAAAAAAAAAAAAAAAAAAAAAAAAAAAAAAAAAAAAAAAAAAAAAAAAAAAAAAAAAAAAAAAAAAAAAAAAAAAAAAAAAAAAAAAAAAAAAAAAAAAAAAAAAAAAAAAAAAAAAAAAAAAAAAAAAAAAAAAAAAAAAAAAAAAAAAAAAAAAAAAAAAAAAAAAAAAAAAAAAAAAAAAAAAAAAAAAAAAAAAAAAAAAAAAAAAAAAAAAAAAAAAAAAAAAAAAAAAAAAAAAAAAAAAAAAAAAAAAAAAAAAAAAAAAAAAAAAAAAAAAAAAAAAAAAAAAAAAAAAAAAAAAAAAAAAAAAAAAAAAAAAAAAAAAAAAAAAAAAAAAAAAAAAAAAAAAAAAAAAAAAAAAAAAAAAAAAAAAAAAAAAAAAAAAAAAAAAAAAAAAAAAAAAAAAAAAAAAAAAAAAAAAAAAAAAAAAAAAAAAAAAAAAAAAAAAAAAAAAAAAAAAAAAAAAAAAAAAAAAAAAAAAAAAAAAAAAAAAAAAAAAAAAAAAAAAAAAAAAAAAAAAAAAAAAAAAAAAAAAAAAAAAAAAAAAAAAAAAAAAAAAAAAAAAAAAAAAAAAAAAAAAAAAAAAAAAAAAAAAAAAAAAAAAAAAAAAAAAAAAAAAAAAAAAAAAAAAAAAAAAAAAAAAAAAAAAAAAAAAAAAAAAAAAAAAAAAAAAAAAAAAAAAAAAAAAAAAAAAAAAAAAAAAAAAAAAAAAAAAAAAAAAAAAAAAAAAAAAAAAAAAAAAAAAAAAAAAAAAAAAAAAAAAAAAAAAAAAAAAAAAAAAAAAAAAAAAAAAAAAAAAAAAAAAAAAAAAAAAAAAAAAAAAAAAAAAAAAAAAAAAAAAAAAAAAAAAAAAAAAAAAAAAAAAAAAAAAAAAAAAAAAAAAAAAAAAAAAAAAAAAAAAAAAAAAAAAAAAAAAAAAAAAAAAAAAAAAAAAAAAAAAAAAAAAAAAAAAAAAAAAAAAAAAAAAAAAAAAAAAAAAAAAAAAAAAAAAAAAAAAAAAAAAAAAAAAAAAAAAAAAAAAAAAAAAAAAAAAAAAAAAAAAAAAAAAAAAAAAAAAAAAAAAAAAAAAAAAAAAAAAAAAAAAAAAAAAAAAAAAAAAAAAAAAAAAAAAAAAAAAAAAAAAAAAAAAAAAAAAAAAAAAAAAAAAAAAAAAAAAAAAAAAAAAAAAAAAAAAAAAAAAAAAAAAAAAAAAAAAAAAAAAAAAAAAAAAAAAAAAAAAAAAAAAAAAAAAAAAAAAAAAAAAAAAAAAAAAAAAAAAAAAAAAAAAAAAAAAAAAAAAAAAAAAAAAAAAAAAAAAAAAAAAAAAAAAAAAAAAAAAAAAAAAAAAAAAAAAAAAAAAAAAAAAAAAAAAAAAAAAAAAAAAAAAAAAAAAAAAAAAAAAAAAAAAAAAAAAAAAAAAAAAAAAAAAAAAAAAAAAAAAAAAAAAAAAAAAAAAAAAAAAAAAAAAAAAAAAAAAAAAAAAAAAAAAAAAAAAAAAAAAAAAAAAAAAAAAAAAAAAAAAAAAAAAAAAAAAAAAAAAAAAAAAAAAAAAAAAAAAAAAAAAAAAAAAAAAAAAAAAAAAAAAAAAAAAAAAAAAAAAAAAAAAAAAAAAAAAAAAAAAAAAAAAAAAAAAAAAAAAAAAAAAAAAAAAAAAAAAAAAAAAAAAAAAAAAAAAAAAAAAAAAAAAAAAAAAAAAAAAAAAAAAAAAAAAAAAAAAAAAAAAAAAAAAAAAAAAAAAAAAAAAAAAAAAAAAAAAAAAAAAAAAAAAAAAAAAAAAAAAAAAAAAAAAAAAAAAAAAAAAAAAAAAAAAAAAAAAAAAAAAAAAAAAAAAAAAAAAAAAAAAAAAAAAAAAAAAAAAAAAAAAAAAAAAAAAAAAAAAAAAAAAAAAAAAAAAAAAAAAAAAAAAAAAAAAAAAAAAAAAAAAAAAAAAAAAAAAAAAAAAAAAAAAAAAAAAAAAAAAAAAAAAAAAAAAAAAAAAAAAAAAAAAAAAAAAAAAAAAAAAAAAAAAAAAAAAAAAAAAAAAAAAAAAAAAAAAAAAAAAAAAAAAAAAAAAAAAAAAAAAAAAAAAAAAAAAAAAAAAAAAAAAAAAAAAAAAAAAAAAAAAAAAAAAAAAAAAAAAAAAAAAAAAAAAAAAAAAAAAAAAAAAAAAAAAAAAAAAAAAAAAAAAAAAAAAAAAAAAAAAAAAAAAAAAAAAAAAAAAAAAAAAAAAAAAAAAAAAAAAAAAAAAAAAAAAAAAAAAAAAAAAAAAAAAAAAAAAAAAAAAAAAAAAAAAAAAAAAAAAAAAAAAAAAAAAAAAAAAAAAAAAAAAAAAAAAAAAAAAAAAAAAAAAAAAAAAAAAAAAAAAAAAAAAAAAAAAAAAAAAAAAAAAAAAAAAAAAAAAAAAAAAAAAAAAAAAAAAAAAAAAAAAAAAAAAAAAAAAAAAAAAAAAAAAAAAAAAAAAAAAAAAAAAAAAAAAAAAAAAAAAAAAAAAAAAAAAAAAAAAAAAAAAAAAAAAAAAAAAAAAAAAAAAAAAAAAAAAAAAAAAAAAAAAAAAAAAAAAAAAAAAAAAAAAAAAAAAAAAAAAAAAAAAAAAAAAAAAAAAAAAAAAAAAAAAAAAAAAAAAAAAAAAAAAAAAAAAAAAAAAAAAAAAAAAAAAAAAAAAAAAAAAAAAAAAAAAAAAAAAAAAAAAAAAAAAAAAAAAAAAAAAAAAAAAAAAAAAAAAAAAAAAAAAAAAAAAAAAAAAAAAAAAAAAAAAAAAAAAAAAAAAAAAAAAAAAAAAAAAAAAAAAAAAAAAAAAAAAAAAAAAAAAAAAAAAAAAAAAAAAAAAAAAAAAAAAAAAAAAAAAAAAAAAAAAAAAAAAAAAAAAAAAAAAAAAAAAAAAAAAAAAAAAAAAAAAAAAAAAAAAAAAAAAAAAAAAAAAAAAAAAAAAAAAAAAAAAAAAAAAAAAAAAAAAAAAAAAAAAAAAAAAAAAAAAAAAAAAAAAAAAAAAAAAAAAAAAAAAAAAAAAAAAAAAAAAAAAAAAAAAAAAAAAAAAAAAAAAAAAAAAAAAAAAAAAAAAAAAAAAAAAAAAAAAAAAAAAAAAAAAAAAAAAAAAAAAAAAAAAAAAAAAAAAAAAAAAAAAAAAAAAAAAAAAAAAAAAAAAAAAAAAAAAAAAAAAAAAAAAAAAAAAAAAAAAAAAAAAAAAAAAAAAAAAAAAAAAAAAAAAAAAAAAAAAAAAAAAAAAAAAAAAAAAAAAAAAAAAAAAAAAAAAAAAAAAAAAAAAAAAAAAAAAAAAAAAAAAAAAAAAAAAAAAAAAAAAAAAAAAAAAAAAAAAAAAAAAAAAAAAAAAAAAAAAAAAAAAAAAAAAAAAAAAAAAAAAAAAAAAAAAAAAAAAAAAAAAAAAAAAAAAAAAAAAAAAAAAAAAAAAAAAAAAAAAAAAAAAAAAAAAAAAAAAAAAAAAAAAAAAAAAAAAAAAAAAAAAAAAAAAAAAAAAAAAAAAAAAAAAAAAAAAAAAAAAAAAAAAAAAAAAAAAAAAAAAAAAAAAAAAAAAAAAAAAAAAAAAAAAAAAAAAAAAAAAAAAAAAAAAAAAAAAAAAAAAAAAAAAAAAAAAAAAAAAAAAAAAAAAAAAAAAAAAAAAAAAAAAAAAAAAAAAAAAAAAAAAAAAAAAAAAAAAAAAAAAAAAAAAAAAAAAAAAAAAAAAAAAAAAAAAAAAAAAAAAAAAAAAAAAAAAAAAAAAAAAAAAAAAAAAAAAAAAAAAAAAAAAAAAAAAAAAAAAAAAAAAAAAAAAAAAAAAAAAAAAAAAAAAAAAAAAAAAAAAAAAAAAAAAAAAAAAAAAAAAAAAAAAAAAAAAAAAAAAAAAAAAAAAAAAAAAAAAAAAAAAAAAAAAAAAAAAAAAAAAAAAAAAAAAAAAAAAAAAAAAAAAAAAAAAAAAAAAAAAAAAAAAAAAAAAAAAAAAAAAAAAAAAAAAAAAAAAAAAAAAAAAAAAAAAAAAAAAAAAAAAAAAAAAAAAAAAAAAAAAAAAAAAAAAAAAAAAAAAAAAAAAAAAAAAAAAAAAAAAAAAAAAAAAAAAAAAAAAAAAAAAAAAAAAAAAAAAAAAAAAAAAAAAAAAAAAAAAAAAAAAAAAAAAAAAAAAAAAAAAAAAAAAAAAAAAAAAAAAAAAAAAAAAAAAAAAAAAAAAAAAAAAAAAAAAAAAAAAAAAAAAAAAAAAAAAAAAAAAAAAAAAAAAAAAAAAAAAAAAAAAAAAAAAAAAAAAAAAAAAAAAAAAAAAAAAAAAAAAAAAAAAAAAAAAAAAAAAAAAAAAAAAAAAAAAAAAAAAAAAAAAAAAAAAAAAAAAAAAAAAAAAAAAAAAAAAAAAAAAAAAAAAAAAAAAAAAAAAAAAAAAAAAAAAAAAAAAAAAAAAAAAAAAAAAAAAAAAAAAAAAAAAAAAAAAAAAAAAAAAAAAAAAAAAAAAAAAAAAAAAAAAAAAAAAAAAAAAAAAAAAAAAAAAAAAAAAAAAAAAAAAAAAAAAAAAAAAAAAAAAAAAAAAAAAAAAAAAAAAAAAAAAAAAAAAAAAAAAAAAAAAAAAAAAAAAAAAAAAAAAAAAAAAAAAAAAAAAAAAAAAAAAAAAAAAAAAAAAAAAAAAAAAAAAAAAAAAAAAAAAAAAAAAAAAAAAAAAAAAAAAAAAAAAAAAAAAAAAAAAAAAAAAAAAAAAAAAAAAAAAAAAAAAAAAAAAAAAAAAAAAAAAAAAAAAAAAAAAAAAAAAAAAAAAAAAAAAAAAAAAAAAAAAAAAAAAAAAAAAAAAAAAAAAAAAAAAAAAAAAAAAAAAAAAAAAAAAAAAAAAAAAAAAAAAAAAAAAAAAAAAAAAAAAAAAAAAAAAAAAAAAAAAAAAAAAAAAAAAAAAAAAAAAAAAAAAAAAAAAAAAAAAAAAAAAAAAAAAAAAAAAAAAAAAAAAAAAAAAAAAAAAAAAAAAAAAAAAAAAAAAAAAAAAAAAAAAAAAAAAAAAAAAAAAAAAAAAAAAAAAAAAAAAAAAAAAAAAAAAAAAAAAAAAAAAAAAAAAAAAAAAAAAAAAAAAAAAAAAAAAAAAAAAAAAAAAAAAAAAAAAAAAAAAAAAAAAAAAAAAAAAAAAAAAAAAAAAAAAAAAAAAAAAAAAAAAAAAAAAAAAAAAAAAAAAAAAAAAAAAAAAAAAAAAAAAAAAAAAAAAAAAAAAAAAAAAAAAAAAAAAAAAAAAAAAAAAAAAAAAAAAAAAAAAAAAAAAAAAAAAAAAAAAAAAAAAAAAAAAAAAAAAAAAAAAAAAAAAAAAAAAAAAAAAAAAAAAAAAAAAAAAAAAAAAAAAAAAAAAAAAAAAAAAAAAAAAAAAAAAAAAAAAAAAAAAAAAAAAAAAAAAAAAAAAAAAAAAAAAAAAAAAAAAAAAAAAAAAAAAAAAAAAAAAAAAAAAAAAAAAAAAAAAAAAAAAAAAAAAAAAAAAAAAAAAAAAAAAAAAAAAAAAAAAAAAAAAAAAAAAAAAAAAAAAAAAAAAAAAAAAAAAAAAAAAAAAAAAAAAAAAAAAAAAAAAAAAAAAAAAAAAAAAAAAAAAAAAAAAAAAAAAAAAAAAAAAAAAAAAAAAAAAAAAAAAAAAAAAAAAAAAAAAAAAAAAAAAAAAAAAAAAAAAAAAAAAAAAAAAAAAAAAAAAAAAAAAAAAAAAAAAAAAAAAAAAAAAAAAAAAAAAAAAAAAAAAAAAAAAAAAAAAAAAAAAAAAAAAAAAAAAAAAAAAAAAAAAAAAAAAAAAAAAAAAAAAAAAAAAAAAAAAAAAAAAAAAAAAAAAAAAAAAAAAAAAAAAAAAAAAAAAAAAAAAAAAAAAAAAAAAAAAAAAAAAAAAAAAAAAAAAAAAAAAAAAAAAAAAAAAAAAAAAAAAAAAAAAAAAAAAAAAAAAAAAAAAAAAAAAAAAAAAAAAAAAAAAAAAAAAAAAAAAAAAAAAAAAAAAAAAAAAAAAAAAAAAAAAAAAAAAAAAAAAAAAAAAAAAAAAAAAAAAAAAAAAAAAAAAAAAAAAAAAAAAAAAAAAAAAAAAAAAAAAAAAAAAAAAAAAAAAAAAAAAAAAAAAAAAAAAAAAAAAAAAAAAAAAAAAAAAAAAAAAAAAAAAAAAAAAAAAAAAAAAAAAAAAAAAAAAAAAAAAAAAAAAAAAAAAAAAAAAAAAAAAAAAAAAAAAAAAAAAAAAAAAAAAAAAAAAAAAAAAAAAAAAAAAAAAAAAAAAAAAAAAAAAAAAAAAAAAAAAAAAAAAAAAAAAAAAAAAAAAAAAAAAAAAAAAAAAAAAA=\",\"dtype\":\"float64\",\"shape\":[601]}}},\"id\":\"f35f4920-354f-4bb8-82eb-f57ed98f03d4\",\"type\":\"ColumnDataSource\"},{\"attributes\":{\"label\":{\"value\":\"1 Step 1 Nscaling\"},\"renderers\":[{\"id\":\"19208732-0840-4ebd-908b-038cf656ce95\",\"type\":\"GlyphRenderer\"}]},\"id\":\"b57f8f52-4dd0-4cfb-93c7-51dc690d6122\",\"type\":\"LegendItem\"}],\"root_ids\":[\"814d2804-e4b6-4b8e-8387-a7dc05294a05\"]},\"title\":\"Bokeh Application\",\"version\":\"0.12.4\"}};\n",
       "            var render_items = [{\"docid\":\"60ef6343-1889-401b-8a56-ec81300b7d9c\",\"elementid\":\"0396d6af-a5a9-4c9f-bfa2-8351f8ec18ef\",\"modelid\":\"814d2804-e4b6-4b8e-8387-a7dc05294a05\"}];\n",
       "            \n",
       "            Bokeh.embed.embed_items(docs_json, render_items);\n",
       "          };\n",
       "          if (document.readyState != \"loading\") fn();\n",
       "          else document.addEventListener(\"DOMContentLoaded\", fn);\n",
       "        })();\n",
       "      },\n",
       "      function(Bokeh) {\n",
       "      }\n",
       "    ];\n",
       "  \n",
       "    function run_inline_js() {\n",
       "      \n",
       "      if ((window.Bokeh !== undefined) || (force === true)) {\n",
       "        for (var i = 0; i < inline_js.length; i++) {\n",
       "          inline_js[i](window.Bokeh);\n",
       "        }if (force === true) {\n",
       "          display_loaded();\n",
       "        }} else if (Date.now() < window._bokeh_timeout) {\n",
       "        setTimeout(run_inline_js, 100);\n",
       "      } else if (!window._bokeh_failed_load) {\n",
       "        console.log(\"Bokeh: BokehJS failed to load within specified timeout.\");\n",
       "        window._bokeh_failed_load = true;\n",
       "      } else if (force !== true) {\n",
       "        var cell = $(document.getElementById(\"0396d6af-a5a9-4c9f-bfa2-8351f8ec18ef\")).parents('.cell').data().cell;\n",
       "        cell.output_area.append_execute_result(NB_LOAD_WARNING)\n",
       "      }\n",
       "  \n",
       "    }\n",
       "  \n",
       "    if (window._bokeh_is_loading === 0) {\n",
       "      console.log(\"Bokeh: BokehJS loaded, going straight to plotting\");\n",
       "      run_inline_js();\n",
       "    } else {\n",
       "      load_libs(js_urls, function() {\n",
       "        console.log(\"Bokeh: BokehJS plotting callback run at\", now());\n",
       "        run_inline_js();\n",
       "      });\n",
       "    }\n",
       "  }(this));\n",
       "</script>"
      ]
     },
     "metadata": {},
     "output_type": "display_data"
    },
    {
     "name": "stderr",
     "output_type": "stream",
     "text": [
      "/usr/lib/python3.6/site-packages/bokeh/models/sources.py:81: BokehUserWarning: ColumnDataSource's columns must be of the same length\n",
      "  lambda: warnings.warn(\"ColumnDataSource's columns must be of the same length\", BokehUserWarning))\n",
      "/usr/lib/python3.6/site-packages/bokeh/models/sources.py:81: BokehUserWarning: ColumnDataSource's columns must be of the same length\n",
      "  lambda: warnings.warn(\"ColumnDataSource's columns must be of the same length\", BokehUserWarning))\n",
      "/usr/lib/python3.6/site-packages/bokeh/models/sources.py:81: BokehUserWarning: ColumnDataSource's columns must be of the same length\n",
      "  lambda: warnings.warn(\"ColumnDataSource's columns must be of the same length\", BokehUserWarning))\n",
      "/usr/lib/python3.6/site-packages/bokeh/models/sources.py:81: BokehUserWarning: ColumnDataSource's columns must be of the same length\n",
      "  lambda: warnings.warn(\"ColumnDataSource's columns must be of the same length\", BokehUserWarning))\n",
      "/usr/lib/python3.6/site-packages/bokeh/models/sources.py:81: BokehUserWarning: ColumnDataSource's columns must be of the same length\n",
      "  lambda: warnings.warn(\"ColumnDataSource's columns must be of the same length\", BokehUserWarning))\n",
      "/usr/lib/python3.6/site-packages/bokeh/models/sources.py:81: BokehUserWarning: ColumnDataSource's columns must be of the same length\n",
      "  lambda: warnings.warn(\"ColumnDataSource's columns must be of the same length\", BokehUserWarning))\n",
      "/usr/lib/python3.6/site-packages/bokeh/models/sources.py:81: BokehUserWarning: ColumnDataSource's columns must be of the same length\n",
      "  lambda: warnings.warn(\"ColumnDataSource's columns must be of the same length\", BokehUserWarning))\n",
      "/usr/lib/python3.6/site-packages/bokeh/models/sources.py:81: BokehUserWarning: ColumnDataSource's columns must be of the same length\n",
      "  lambda: warnings.warn(\"ColumnDataSource's columns must be of the same length\", BokehUserWarning))\n",
      "/usr/lib/python3.6/site-packages/bokeh/models/sources.py:81: BokehUserWarning: ColumnDataSource's columns must be of the same length\n",
      "  lambda: warnings.warn(\"ColumnDataSource's columns must be of the same length\", BokehUserWarning))\n",
      "/usr/lib/python3.6/site-packages/bokeh/models/sources.py:81: BokehUserWarning: ColumnDataSource's columns must be of the same length\n",
      "  lambda: warnings.warn(\"ColumnDataSource's columns must be of the same length\", BokehUserWarning))\n",
      "/usr/lib/python3.6/site-packages/bokeh/models/sources.py:81: BokehUserWarning: ColumnDataSource's columns must be of the same length\n",
      "  lambda: warnings.warn(\"ColumnDataSource's columns must be of the same length\", BokehUserWarning))\n",
      "/usr/lib/python3.6/site-packages/bokeh/models/sources.py:81: BokehUserWarning: ColumnDataSource's columns must be of the same length\n",
      "  lambda: warnings.warn(\"ColumnDataSource's columns must be of the same length\", BokehUserWarning))\n",
      "/usr/lib/python3.6/site-packages/bokeh/models/sources.py:81: BokehUserWarning: ColumnDataSource's columns must be of the same length\n",
      "  lambda: warnings.warn(\"ColumnDataSource's columns must be of the same length\", BokehUserWarning))\n",
      "/usr/lib/python3.6/site-packages/bokeh/models/sources.py:81: BokehUserWarning: ColumnDataSource's columns must be of the same length\n",
      "  lambda: warnings.warn(\"ColumnDataSource's columns must be of the same length\", BokehUserWarning))\n",
      "/usr/lib/python3.6/site-packages/bokeh/models/sources.py:81: BokehUserWarning: ColumnDataSource's columns must be of the same length\n",
      "  lambda: warnings.warn(\"ColumnDataSource's columns must be of the same length\", BokehUserWarning))\n",
      "/usr/lib/python3.6/site-packages/bokeh/models/sources.py:81: BokehUserWarning: ColumnDataSource's columns must be of the same length\n",
      "  lambda: warnings.warn(\"ColumnDataSource's columns must be of the same length\", BokehUserWarning))\n"
     ]
    },
    {
     "data": {
      "text/html": [
       "\n",
       "\n",
       "    <div class=\"bk-root\">\n",
       "        <div class=\"bk-plotdiv\" id=\"e77cdb63-7bbf-495d-8154-4ade39bffc9f\"></div>\n",
       "    </div>\n",
       "<script type=\"text/javascript\">\n",
       "  \n",
       "  (function(global) {\n",
       "    function now() {\n",
       "      return new Date();\n",
       "    }\n",
       "  \n",
       "    var force = false;\n",
       "  \n",
       "    if (typeof (window._bokeh_onload_callbacks) === \"undefined\" || force === true) {\n",
       "      window._bokeh_onload_callbacks = [];\n",
       "      window._bokeh_is_loading = undefined;\n",
       "    }\n",
       "  \n",
       "  \n",
       "    \n",
       "    if (typeof (window._bokeh_timeout) === \"undefined\" || force === true) {\n",
       "      window._bokeh_timeout = Date.now() + 0;\n",
       "      window._bokeh_failed_load = false;\n",
       "    }\n",
       "  \n",
       "    var NB_LOAD_WARNING = {'data': {'text/html':\n",
       "       \"<div style='background-color: #fdd'>\\n\"+\n",
       "       \"<p>\\n\"+\n",
       "       \"BokehJS does not appear to have successfully loaded. If loading BokehJS from CDN, this \\n\"+\n",
       "       \"may be due to a slow or bad network connection. Possible fixes:\\n\"+\n",
       "       \"</p>\\n\"+\n",
       "       \"<ul>\\n\"+\n",
       "       \"<li>re-rerun `output_notebook()` to attempt to load from CDN again, or</li>\\n\"+\n",
       "       \"<li>use INLINE resources instead, as so:</li>\\n\"+\n",
       "       \"</ul>\\n\"+\n",
       "       \"<code>\\n\"+\n",
       "       \"from bokeh.resources import INLINE\\n\"+\n",
       "       \"output_notebook(resources=INLINE)\\n\"+\n",
       "       \"</code>\\n\"+\n",
       "       \"</div>\"}};\n",
       "  \n",
       "    function display_loaded() {\n",
       "      if (window.Bokeh !== undefined) {\n",
       "        document.getElementById(\"e77cdb63-7bbf-495d-8154-4ade39bffc9f\").textContent = \"BokehJS successfully loaded.\";\n",
       "      } else if (Date.now() < window._bokeh_timeout) {\n",
       "        setTimeout(display_loaded, 100)\n",
       "      }\n",
       "    }\n",
       "  \n",
       "    function run_callbacks() {\n",
       "      window._bokeh_onload_callbacks.forEach(function(callback) { callback() });\n",
       "      delete window._bokeh_onload_callbacks\n",
       "      console.info(\"Bokeh: all callbacks have finished\");\n",
       "    }\n",
       "  \n",
       "    function load_libs(js_urls, callback) {\n",
       "      window._bokeh_onload_callbacks.push(callback);\n",
       "      if (window._bokeh_is_loading > 0) {\n",
       "        console.log(\"Bokeh: BokehJS is being loaded, scheduling callback at\", now());\n",
       "        return null;\n",
       "      }\n",
       "      if (js_urls == null || js_urls.length === 0) {\n",
       "        run_callbacks();\n",
       "        return null;\n",
       "      }\n",
       "      console.log(\"Bokeh: BokehJS not loaded, scheduling load and callback at\", now());\n",
       "      window._bokeh_is_loading = js_urls.length;\n",
       "      for (var i = 0; i < js_urls.length; i++) {\n",
       "        var url = js_urls[i];\n",
       "        var s = document.createElement('script');\n",
       "        s.src = url;\n",
       "        s.async = false;\n",
       "        s.onreadystatechange = s.onload = function() {\n",
       "          window._bokeh_is_loading--;\n",
       "          if (window._bokeh_is_loading === 0) {\n",
       "            console.log(\"Bokeh: all BokehJS libraries loaded\");\n",
       "            run_callbacks()\n",
       "          }\n",
       "        };\n",
       "        s.onerror = function() {\n",
       "          console.warn(\"failed to load library \" + url);\n",
       "        };\n",
       "        console.log(\"Bokeh: injecting script tag for BokehJS library: \", url);\n",
       "        document.getElementsByTagName(\"head\")[0].appendChild(s);\n",
       "      }\n",
       "    };var element = document.getElementById(\"e77cdb63-7bbf-495d-8154-4ade39bffc9f\");\n",
       "    if (element == null) {\n",
       "      console.log(\"Bokeh: ERROR: autoload.js configured with elementid 'e77cdb63-7bbf-495d-8154-4ade39bffc9f' but no matching script tag was found. \")\n",
       "      return false;\n",
       "    }\n",
       "  \n",
       "    var js_urls = [];\n",
       "  \n",
       "    var inline_js = [\n",
       "      function(Bokeh) {\n",
       "        (function() {\n",
       "          var fn = function() {\n",
       "            var docs_json = {\"e422dd86-6fe2-4853-a5b6-0b213405dfad\":{\"roots\":{\"references\":[{\"attributes\":{\"plot\":null,\"text\":\"Med Maze 14 Prioritized 300k XP Replay Stale\"},\"id\":\"77f96e2c-251e-4ef8-a6de-99fde0dd767c\",\"type\":\"Title\"},{\"attributes\":{\"callback\":null,\"column_names\":[\"x\",\"y\"],\"data\":{\"x\":[0,1000,2000,3000,4000,5000,6000,7000,8000,9000,10000,11000,12000,13000,14000,15000,16000,17000,18000,19000,20000,21000,22000,23000,24000,25000,26000,27000,28000,29000,30000,31000,32000,33000,34000,35000,36000,37000,38000,39000,40000,41000,42000,43000,44000,45000,46000,47000,48000,49000,50000,51000,52000,53000,54000,55000,56000,57000,58000,59000,60000,61000,62000,63000,64000,65000,66000,67000,68000,69000,70000,71000,72000,73000,74000,75000,76000,77000,78000,79000,80000,81000,82000,83000,84000,85000,86000,87000,88000,89000,90000,91000,92000,93000,94000,95000,96000,97000,98000,99000,100000,101000,102000,103000,104000,105000,106000,107000,108000,109000,110000,111000,112000,113000,114000,115000,116000,117000,118000,119000,120000,121000,122000,123000,124000,125000,126000,127000,128000,129000,130000,131000,132000,133000,134000,135000,136000,137000,138000,139000,140000,141000,142000,143000,144000,145000,146000,147000,148000,149000,150000,151000,152000,153000,154000,155000,156000,157000,158000,159000,160000,161000,162000,163000,164000,165000,166000,167000,168000,169000,170000,171000,172000,173000,174000,175000,176000,177000,178000,179000,180000,181000,182000,183000,184000,185000,186000,187000,188000,189000,190000,191000,192000,193000,194000,195000,196000,197000,198000,199000,200000,201000,202000,203000,204000,205000,206000,207000,208000,209000,210000,211000,212000,213000,214000,215000,216000,217000,218000,219000,220000,221000,222000,223000,224000,225000,226000,227000,228000,229000,230000,231000,232000,233000,234000,235000,236000,237000,238000,239000,240000,241000,242000,243000,244000,245000,246000,247000,248000,249000,250000,251000,252000,253000,254000,255000,256000,257000,258000,259000,260000,261000,262000,263000,264000,265000,266000,267000,268000,269000,270000,271000,272000,273000,274000,275000,276000,277000,278000,279000,280000,281000,282000,283000,284000,285000,286000,287000,288000,289000,290000,291000,292000,293000,294000,295000,296000,297000,298000,299000,300000,301000,302000,303000,304000,305000,306000,307000,308000,309000,310000,311000,312000,313000,314000,315000,316000,317000,318000,319000,320000,321000,322000,323000,324000,325000,326000,327000,328000,329000,330000,331000,332000,333000,334000,335000,336000,337000,338000,339000,340000,341000,342000,343000,344000,345000,346000,347000,348000,349000,350000,351000,352000,353000,354000,355000,356000,357000,358000,359000,360000,361000,362000,363000,364000,365000,366000,367000,368000,369000,370000,371000,372000,373000,374000,375000,376000,377000,378000,379000,380000,381000,382000,383000,384000,385000,386000,387000,388000,389000,390000,391000,392000,393000,394000,395000,396000,397000,398000,399000,400000,401000,402000,403000,404000,405000,406000,407000,408000,409000,410000,411000,412000,413000,414000,415000,416000,417000,418000,419000,420000,421000,422000,423000,424000,425000,426000,427000,428000,429000,430000,431000,432000,433000,434000,435000,436000,437000,438000,439000,440000,441000,442000,443000,444000,445000,446000,447000,448000,449000,450000,451000,452000,453000,454000,455000,456000,457000,458000,459000,460000,461000,462000,463000,464000,465000,466000,467000,468000,469000,470000,471000,472000,473000,474000,475000,476000,477000,478000,479000,480000,481000,482000,483000,484000,485000,486000,487000,488000,489000,490000,491000,492000,493000,494000,495000,496000,497000,498000,499000,500000,501000,502000,503000,504000,505000,506000,507000,508000,509000,510000,511000,512000,513000,514000,515000,516000,517000,518000,519000,520000,521000,522000,523000,524000,525000,526000,527000,528000,529000,530000,531000,532000,533000,534000,535000,536000,537000,538000,539000,540000,541000,542000,543000,544000,545000,546000,547000,548000,549000,550000,551000,552000,553000,554000,555000,556000,557000,558000,559000,560000,561000,562000,563000,564000,565000,566000,567000,568000,569000,570000,571000,572000,573000,574000,575000,576000,577000,578000,579000,580000,581000,582000,583000,584000,585000,586000,587000,588000,589000,590000,591000,592000,593000,594000,595000,596000,597000,598000,599000,600000],\"y\":{\"__ndarray__\":\"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\",\"dtype\":\"float64\",\"shape\":[600]}}},\"id\":\"015b1151-3acc-446f-aadc-b008c141769f\",\"type\":\"ColumnDataSource\"},{\"attributes\":{},\"id\":\"9c0017b9-8dc2-428c-8376-74854f55e0de\",\"type\":\"ToolEvents\"},{\"attributes\":{\"data_source\":{\"id\":\"f76b7b90-e829-416a-86d7-46bb03278a24\",\"type\":\"ColumnDataSource\"},\"glyph\":{\"id\":\"905e0f00-c7fb-4daf-a15a-f669ab4b4045\",\"type\":\"Patch\"},\"hover_glyph\":null,\"nonselection_glyph\":{\"id\":\"69ece65d-5519-4ac6-b8b0-c764278393b9\",\"type\":\"Patch\"},\"selection_glyph\":null},\"id\":\"7a6e225c-0618-4a85-987a-eced80f98367\",\"type\":\"GlyphRenderer\"},{\"attributes\":{\"data_source\":{\"id\":\"015b1151-3acc-446f-aadc-b008c141769f\",\"type\":\"ColumnDataSource\"},\"glyph\":{\"id\":\"d510433a-a47e-47ba-af64-1c128f72474a\",\"type\":\"Line\"},\"hover_glyph\":null,\"nonselection_glyph\":{\"id\":\"72638a84-f0ff-4c67-9eee-6def597f8cd9\",\"type\":\"Line\"},\"selection_glyph\":null},\"id\":\"0d5bae7c-3d8d-41c7-bb7b-739062fe1335\",\"type\":\"GlyphRenderer\"},{\"attributes\":{\"fill_alpha\":{\"value\":0.1},\"fill_color\":{\"value\":\"#1f77b4\"},\"line_alpha\":{\"value\":0.1},\"line_color\":{\"value\":\"#1f77b4\"},\"x\":{\"field\":\"x\"},\"y\":{\"field\":\"y\"}},\"id\":\"ae8f2432-bbae-419f-b4a6-8931edfa9f64\",\"type\":\"Patch\"},{\"attributes\":{\"items\":[{\"id\":\"a54d6b9a-ff0a-4054-9a72-3f2407e3fa5f\",\"type\":\"LegendItem\"},{\"id\":\"1b05c3d0-6edd-4c19-ae68-62faa02afd53\",\"type\":\"LegendItem\"},{\"id\":\"e8cdc5da-7625-414b-9fb5-0fbf4fac3bf0\",\"type\":\"LegendItem\"},{\"id\":\"1c5558ab-eef2-4a65-b9a2-b4c419f49b8c\",\"type\":\"LegendItem\"},{\"id\":\"75cc1bbc-08c8-4c7a-8330-b23a61fa3be1\",\"type\":\"LegendItem\"},{\"id\":\"7bd12a9b-bfdf-4dee-aecb-3265e3e44990\",\"type\":\"LegendItem\"},{\"id\":\"7fe5dad6-c4da-48bc-b982-30f5abb8b1d5\",\"type\":\"LegendItem\"},{\"id\":\"e4f6ff7f-ca7c-4d74-b746-8d93806ca6aa\",\"type\":\"LegendItem\"}],\"location\":[0,-30],\"plot\":{\"id\":\"484d598c-4852-4803-9524-9b441b9125e7\",\"subtype\":\"Figure\",\"type\":\"Plot\"}},\"id\":\"8d7cd63f-d01d-4913-9d14-f036008a8122\",\"type\":\"Legend\"},{\"attributes\":{\"fill_alpha\":{\"value\":0.1},\"fill_color\":{\"value\":\"#a65628\"},\"line_alpha\":{\"value\":0.1},\"line_color\":{\"value\":\"#a65628\"},\"x\":{\"field\":\"x\"},\"y\":{\"field\":\"y\"}},\"id\":\"9101aa67-26a8-4289-9a32-76d4d5f55b75\",\"type\":\"Patch\"},{\"attributes\":{\"below\":[{\"id\":\"6517c2b7-3242-43f2-97a0-08e633a76409\",\"type\":\"LinearAxis\"}],\"left\":[{\"id\":\"1d85ecfb-283f-44fa-a967-7013e7c9cd54\",\"type\":\"LinearAxis\"}],\"plot_height\":800,\"plot_width\":1200,\"renderers\":[{\"id\":\"6517c2b7-3242-43f2-97a0-08e633a76409\",\"type\":\"LinearAxis\"},{\"id\":\"4371a35c-73fb-45e5-8c4f-38c141ed4680\",\"type\":\"Grid\"},{\"id\":\"1d85ecfb-283f-44fa-a967-7013e7c9cd54\",\"type\":\"LinearAxis\"},{\"id\":\"2f5a69d0-53e8-4eb4-8243-020c9a2876e5\",\"type\":\"Grid\"},{\"id\":\"f3fbd3bc-dc17-4d14-adec-b5663cd540e3\",\"type\":\"BoxAnnotation\"},{\"id\":\"aaf50199-e2fc-4867-bb28-d08384998c5c\",\"type\":\"GlyphRenderer\"},{\"id\":\"aff9d6c6-8593-4ee2-99cb-ca9e8eecb2c0\",\"type\":\"GlyphRenderer\"},{\"id\":\"4a6db4c6-7e03-4e6d-8116-c7c698871aa4\",\"type\":\"GlyphRenderer\"},{\"id\":\"52f20059-43ba-4e4a-9234-1c50d78cad1b\",\"type\":\"GlyphRenderer\"},{\"id\":\"ff183b53-4050-4174-8dea-6c77177cfaa6\",\"type\":\"GlyphRenderer\"},{\"id\":\"0d5bae7c-3d8d-41c7-bb7b-739062fe1335\",\"type\":\"GlyphRenderer\"},{\"id\":\"7a6e225c-0618-4a85-987a-eced80f98367\",\"type\":\"GlyphRenderer\"},{\"id\":\"94e61cec-7791-4e5a-ae0a-fc007ad1ca5d\",\"type\":\"GlyphRenderer\"},{\"id\":\"82bcbd76-5fdf-439d-81b0-ebb2371aaebe\",\"type\":\"GlyphRenderer\"},{\"id\":\"64156e84-05c0-4206-a006-da58923e3cff\",\"type\":\"GlyphRenderer\"},{\"id\":\"545e2874-7d83-4bb8-b533-ce20095594ea\",\"type\":\"GlyphRenderer\"},{\"id\":\"02667301-d5e0-46bc-b038-d19e1282a730\",\"type\":\"GlyphRenderer\"},{\"id\":\"bd9abf4f-aa9e-4d86-ace9-074a4b17b4f9\",\"type\":\"GlyphRenderer\"},{\"id\":\"839c2c97-fafc-4ab8-9034-f98b47708c47\",\"type\":\"GlyphRenderer\"},{\"id\":\"faf0dd2c-5a90-4ace-9f31-cd2871c3e890\",\"type\":\"GlyphRenderer\"},{\"id\":\"4101d576-0a21-4ad4-a566-e004a4826dd2\",\"type\":\"GlyphRenderer\"},{\"id\":\"8d7cd63f-d01d-4913-9d14-f036008a8122\",\"type\":\"Legend\"}],\"right\":[{\"id\":\"8d7cd63f-d01d-4913-9d14-f036008a8122\",\"type\":\"Legend\"}],\"title\":{\"id\":\"77f96e2c-251e-4ef8-a6de-99fde0dd767c\",\"type\":\"Title\"},\"tool_events\":{\"id\":\"9c0017b9-8dc2-428c-8376-74854f55e0de\",\"type\":\"ToolEvents\"},\"toolbar\":{\"id\":\"b31a9a79-ddaa-4e69-b787-3e0ceea50afb\",\"type\":\"Toolbar\"},\"toolbar_location\":\"above\",\"x_range\":{\"id\":\"e8959111-2723-4ea0-abb0-7028efa20461\",\"type\":\"DataRange1d\"},\"y_range\":{\"id\":\"67dbf8e8-0abb-41d9-bda7-63434b32c75d\",\"type\":\"DataRange1d\"}},\"id\":\"484d598c-4852-4803-9524-9b441b9125e7\",\"subtype\":\"Figure\",\"type\":\"Plot\"},{\"attributes\":{\"data_source\":{\"id\":\"277ecfff-15c8-44fe-96c7-5ebe5906a8e3\",\"type\":\"ColumnDataSource\"},\"glyph\":{\"id\":\"c8f7d921-a5da-4b16-9219-a0e0786f0030\",\"type\":\"Patch\"},\"hover_glyph\":null,\"nonselection_glyph\":{\"id\":\"890b9723-46cc-458a-8b46-4a66f39a99d6\",\"type\":\"Patch\"},\"selection_glyph\":null},\"id\":\"82bcbd76-5fdf-439d-81b0-ebb2371aaebe\",\"type\":\"GlyphRenderer\"},{\"attributes\":{\"callback\":null,\"column_names\":[\"x\",\"y\"],\"data\":{\"x\":[0,1000,2000,3000,4000,5000,6000,7000,8000,9000,10000,11000,12000,13000,14000,15000,16000,17000,18000,19000,20000,21000,22000,23000,24000,25000,26000,27000,28000,29000,30000,31000,32000,33000,34000,35000,36000,37000,38000,39000,40000,41000,42000,43000,44000,45000,46000,47000,48000,49000,50000,51000,52000,53000,54000,55000,56000,57000,58000,59000,60000,61000,62000,63000,64000,65000,66000,67000,68000,69000,70000,71000,72000,73000,74000,75000,76000,77000,78000,79000,80000,81000,82000,83000,84000,85000,86000,87000,88000,89000,90000,91000,92000,93000,94000,95000,96000,97000,98000,99000,100000,101000,102000,103000,104000,105000,106000,107000,108000,109000,110000,111000,112000,113000,114000,115000,116000,117000,118000,119000,120000,121000,122000,123000,124000,125000,126000,127000,128000,129000,130000,131000,132000,133000,134000,135000,136000,137000,138000,139000,140000,141000,142000,143000,144000,145000,146000,147000,148000,149000,150000,151000,152000,153000,154000,155000,156000,157000,158000,159000,160000,161000,162000,163000,164000,165000,166000,167000,168000,169000,170000,171000,172000,173000,174000,175000,176000,177000,178000,179000,180000,181000,182000,183000,184000,185000,186000,187000,188000,189000,190000,191000,192000,193000,194000,195000,196000,197000,198000,199000,200000,201000,202000,203000,204000,205000,206000,207000,208000,209000,210000,211000,212000,213000,214000,215000,216000,217000,218000,219000,220000,221000,222000,223000,224000,225000,226000,227000,228000,229000,230000,231000,232000,233000,234000,235000,236000,237000,238000,239000,240000,241000,242000,243000,244000,245000,246000,247000,248000,249000,250000,251000,252000,253000,254000,255000,256000,257000,258000,259000,260000,261000,262000,263000,264000,265000,266000,267000,268000,269000,270000,271000,272000,273000,274000,275000,276000,277000,278000,279000,280000,281000,282000,283000,284000,285000,286000,287000,288000,289000,290000,291000,292000,293000,294000,295000,296000,297000,298000,299000,300000,301000,302000,303000,304000,305000,306000,307000,308000,309000,310000,311000,312000,313000,314000,315000,316000,317000,318000,319000,320000,321000,322000,323000,324000,325000,326000,327000,328000,329000,330000,331000,332000,333000,334000,335000,336000,337000,338000,339000,340000,341000,342000,343000,344000,345000,346000,347000,348000,349000,350000,351000,352000,353000,354000,355000,356000,357000,358000,359000,360000,361000,362000,363000,364000,365000,366000,367000,368000,369000,370000,371000,372000,373000,374000,375000,376000,377000,378000,379000,380000,381000,382000,383000,384000,385000,386000,387000,388000,389000,390000,391000,392000,393000,394000,395000,396000,397000,398000,399000,400000,401000,402000,403000,404000,405000,406000,407000,408000,409000,410000,411000,412000,413000,414000,415000,416000,417000,418000,419000,420000,421000,422000,423000,424000,425000,426000,427000,428000,429000,430000,431000,432000,433000,434000,435000,436000,437000,438000,439000,440000,441000,442000,443000,444000,445000,446000,447000,448000,449000,450000,451000,452000,453000,454000,455000,456000,457000,458000,459000,460000,461000,462000,463000,464000,465000,466000,467000,468000,469000,470000,471000,472000,473000,474000,475000,476000,477000,478000,479000,480000,481000,482000,483000,484000,485000,486000,487000,488000,489000,490000,491000,492000,493000,494000,495000,496000,497000,498000,499000,500000,501000,502000,503000,504000,505000,506000,507000,508000,509000,510000,511000,512000,513000,514000,515000,516000,517000,518000,519000,520000,521000,522000,523000,524000,525000,526000,527000,528000,529000,530000,531000,532000,533000,534000,535000,536000,537000,538000,539000,540000,541000,542000,543000,544000,545000,546000,547000,548000,549000,550000,551000,552000,553000,554000,555000,556000,557000,558000,559000,560000,561000,562000,563000,564000,565000,566000,567000,568000,569000,570000,571000,572000,573000,574000,575000,576000,577000,578000,579000,580000,581000,582000,583000,584000,585000,586000,587000,588000,589000,590000,591000,592000,593000,594000,595000,596000,597000,598000,599000,600000,600000,599000,598000,597000,596000,595000,594000,593000,592000,591000,590000,589000,588000,587000,586000,585000,584000,583000,582000,581000,580000,579000,578000,577000,576000,575000,574000,573000,572000,571000,570000,569000,568000,567000,566000,565000,564000,563000,562000,561000,560000,559000,558000,557000,556000,555000,554000,553000,552000,551000,550000,549000,548000,547000,546000,545000,544000,543000,542000,541000,540000,539000,538000,537000,536000,535000,534000,533000,532000,531000,530000,529000,528000,527000,526000,525000,524000,523000,522000,521000,520000,519000,518000,517000,516000,515000,514000,513000,512000,511000,510000,509000,508000,507000,506000,505000,504000,503000,502000,501000,500000,499000,498000,497000,496000,495000,494000,493000,492000,491000,490000,489000,488000,487000,486000,485000,484000,483000,482000,481000,480000,479000,478000,477000,476000,475000,474000,473000,472000,471000,470000,469000,468000,467000,466000,465000,464000,463000,462000,461000,460000,459000,458000,457000,456000,455000,454000,453000,452000,451000,450000,449000,448000,447000,446000,445000,444000,443000,442000,441000,440000,439000,438000,437000,436000,435000,434000,433000,432000,431000,430000,429000,428000,427000,426000,425000,424000,423000,422000,421000,420000,419000,418000,417000,416000,415000,414000,413000,412000,411000,410000,409000,408000,407000,406000,405000,404000,403000,402000,401000,400000,399000,398000,397000,396000,395000,394000,393000,392000,391000,390000,389000,388000,387000,386000,385000,384000,383000,382000,381000,380000,379000,378000,377000,376000,375000,374000,373000,372000,371000,370000,369000,368000,367000,366000,365000,364000,363000,362000,361000,360000,359000,358000,357000,356000,355000,354000,353000,352000,351000,350000,349000,348000,347000,346000,345000,344000,343000,342000,341000,340000,339000,338000,337000,336000,335000,334000,333000,332000,331000,330000,329000,328000,327000,326000,325000,324000,323000,322000,321000,320000,319000,318000,317000,316000,315000,314000,313000,312000,311000,310000,309000,308000,307000,306000,305000,304000,303000,302000,301000,300000,299000,298000,297000,296000,295000,294000,293000,292000,291000,290000,289000,288000,287000,286000,285000,284000,283000,282000,281000,280000,279000,278000,277000,276000,275000,274000,273000,272000,271000,270000,269000,268000,267000,266000,265000,264000,263000,262000,261000,260000,259000,258000,257000,256000,255000,254000,253000,252000,251000,250000,249000,248000,247000,246000,245000,244000,243000,242000,241000,240000,239000,238000,237000,236000,235000,234000,233000,232000,231000,230000,229000,228000,227000,226000,225000,224000,223000,222000,221000,220000,219000,218000,217000,216000,215000,214000,213000,212000,211000,210000,209000,208000,207000,206000,205000,204000,203000,202000,201000,200000,199000,198000,197000,196000,195000,194000,193000,192000,191000,190000,189000,188000,187000,186000,185000,184000,183000,182000,181000,180000,179000,178000,177000,176000,175000,174000,173000,172000,171000,170000,169000,168000,167000,166000,165000,164000,163000,162000,161000,160000,159000,158000,157000,156000,155000,154000,153000,152000,151000,150000,149000,148000,147000,146000,145000,144000,143000,142000,141000,140000,139000,138000,137000,136000,135000,134000,133000,132000,131000,130000,129000,128000,127000,126000,125000,124000,123000,122000,121000,120000,119000,118000,117000,116000,115000,114000,113000,112000,111000,110000,109000,108000,107000,106000,105000,104000,103000,102000,101000,100000,99000,98000,97000,96000,95000,94000,93000,92000,91000,90000,89000,88000,87000,86000,85000,84000,83000,82000,81000,80000,79000,78000,77000,76000,75000,74000,73000,72000,71000,70000,69000,68000,67000,66000,65000,64000,63000,62000,61000,60000,59000,58000,57000,56000,55000,54000,53000,52000,51000,50000,49000,48000,47000,46000,45000,44000,43000,42000,41000,40000,39000,38000,37000,36000,35000,34000,33000,32000,31000,30000,29000,28000,27000,26000,25000,24000,23000,22000,21000,20000,19000,18000,17000,16000,15000,14000,13000,12000,11000,10000,9000,8000,7000,6000,5000,4000,3000,2000,1000,0],\"y\":[1,67,96,156,161,192,199,199,219,255,258,258,258,258,258,258,284,284,284,284,284,284,284,284,284,284,284,284,284,284,284,284,284,284,284,284,284,284,284,284,284,284,284,284,284,284,284,284,284,284,284,284,284,284,284,284,284,284,284,284,284,284,284,284,284,284,284,284,284,284,284,284,284,284,284,284,284,284,284,284,284,284,284,284,284,284,284,284,284,284,284,284,284,284,284,284,284,284,284,284,284,284,284,284,284,284,284,284,284,284,284,284,284,284,284,284,284,284,284,284,284,284,284,284,284,284,284,284,284,284,284,284,284,284,284,284,284,284,284,284,284,284,284,284,284,284,284,284,284,284,284,284,284,284,284,284,284,284,284,284,284,284,284,284,284,284,284,284,284,284,284,284,284,284,284,284,284,284,284,284,284,284,284,284,284,284,284,284,284,284,284,284,284,284,284,284,284,284,284,284,284,284,284,284,284,284,284,284,284,284,284,284,284,284,284,284,284,284,284,284,284,284,284,284,284,284,284,284,284,284,284,284,284,284,284,284,284,284,284,284,284,284,284,284,284,284,284,284,284,284,284,284,284,284,284,284,284,284,284,284,284,284,284,284,284,284,284,284,284,284,284,284,284,284,284,284,284,284,284,284,284,284,284,284,284,284,284,284,284,284,284,284,284,284,284,284,284,284,284,284,284,284,284,284,284,284,284,284,284,284,284,284,284,284,284,284,284,284,284,284,284,284,284,284,284,284,284,284,284,284,284,284,284,284,284,284,284,284,284,284,284,284,284,284,284,284,284,284,284,284,284,284,284,284,284,284,284,284,284,284,284,284,284,284,284,284,284,284,284,284,284,284,284,284,284,284,284,284,284,284,284,284,284,284,284,284,284,284,284,284,284,284,284,284,284,284,284,284,284,284,284,284,284,284,284,284,284,284,284,284,284,284,284,284,284,284,284,284,284,284,284,284,284,284,284,284,284,284,284,284,284,284,284,284,284,284,284,284,284,284,284,284,284,284,284,284,284,284,284,284,284,284,284,284,284,284,284,284,284,284,284,284,284,284,284,284,284,284,284,284,284,284,284,284,284,284,284,284,284,284,284,284,284,284,284,284,284,284,284,284,284,284,284,284,284,284,284,284,284,284,284,284,284,284,284,284,284,284,284,284,284,284,284,284,284,284,284,284,284,284,284,284,284,284,284,284,284,284,284,284,284,284,284,284,284,284,284,284,284,284,284,284,284,284,284,284,284,284,284,284,284,284,284,284,284,284,284,284,284,284,284,284,284,284,284,284,284,284,284,284,284,284,284,284,284,284,284,284,284,284,284,284,284,284,284,284,284,284,284,284,284,284,284,284,284,284,284,284,284,284,1082,1082,1082,1082,1082,1082,1082,1082,1082,1082,1082,1082,1082,1082,1082,1082,1082,1082,1082,1082,1082,1082,1082,1082,1082,1082,1082,1082,1082,1082,1082,1082,1082,1082,1082,1082,1082,1082,1082,1082,1082,1082,1082,1082,1082,1082,1082,1082,1082,1082,1082,1082,1082,1082,1082,1082,1082,1082,1082,1082,1082,1082,1082,1082,1082,1082,1082,1082,1082,1082,1082,1082,1082,1082,1082,1082,1082,1082,1082,1082,1082,1082,1082,1082,1082,1082,1082,1082,1082,1082,1082,1082,1082,1082,1082,1082,1082,1082,1082,1082,1082,1082,1082,1082,1082,1082,1082,1082,1082,1082,1082,1082,1082,1082,1082,1082,1082,1082,1082,1082,1082,1082,1082,1082,1082,1082,1082,1082,1082,1082,1082,1082,1082,1082,1082,1082,1082,1082,1082,1082,1082,1082,1082,1082,1082,1082,1082,1082,1082,1082,1082,1082,1082,1082,1082,1082,1082,1082,1082,1082,1082,1082,1082,1082,1082,1082,1082,1082,1082,1082,1082,1082,1082,1082,1082,1082,1082,1082,1082,1082,1082,1082,1082,1082,1082,1082,1082,1082,1082,1082,1082,1082,1082,1082,1082,1082,1082,1082,1082,1082,1082,1082,1082,1082,1082,1082,1082,1082,1082,1082,1082,1082,1082,1082,1082,1082,1082,1082,1082,1082,1082,1082,1082,1082,1082,1082,1082,1082,1082,1082,1082,1082,1082,1082,1082,1082,1082,1082,1082,1082,1082,1082,1082,1082,1082,1082,1082,1082,1082,1082,1082,1082,1082,1082,1082,1082,1082,1082,1082,1082,1082,1082,1082,1082,1082,1082,1082,1082,1082,1082,1082,1082,1082,1082,1082,1082,1082,1082,1082,1082,1082,1082,1082,1082,1082,1082,1082,1082,1082,1082,1082,1082,1082,1082,1082,1082,1082,1082,1082,1082,1082,1082,1082,1082,1082,1082,1082,1082,1082,1082,1082,1082,1082,1082,1082,1082,1082,1082,1082,1082,1082,1082,1082,1082,1082,1082,1082,1082,1082,1082,1082,1082,1082,1082,1082,1082,1082,1082,1082,1082,1082,1082,1082,1082,1082,1082,1082,1082,1082,1082,1082,1082,1082,1082,1082,1082,1082,1082,1082,1082,1082,1082,1082,1082,1082,1082,1082,1082,1082,1082,1082,1082,1082,1082,1082,1082,1082,1082,1082,1082,1082,1082,1082,1082,1082,1082,1082,1082,1082,1082,1082,1082,1082,1082,1082,1082,1082,1082,1082,1082,1082,1082,1082,1082,1082,1082,1082,1082,1082,1082,1082,1082,1082,1082,1082,1082,1082,1082,1082,1082,1082,1082,1082,1082,1082,1082,1082,1082,1082,1082,1082,1082,1082,1082,1082,1082,1082,1082,1082,1082,1082,1082,1082,1082,1082,1082,1082,1082,1082,1082,1082,1082,1082,1082,1082,1082,1082,1082,1082,1082,1081,1076,1076,1076,1076,1076,1076,1076,1076,1076,1076,1076,1076,1076,1076,1076,1076,1076,1076,1076,1076,1076,1076,1076,1076,1076,1076,1076,1076,1076,1076,1076,1076,1076,1076,1076,1076,1076,1076,1076,1076,1076,1076,1076,1076,1076,1076,1076,1076,1076,1076,1076,1076,1076,1076,1076,1076,1076,1076,1076,1076,1076,1076,1076,1076,1076,1076,1076,1076,1076,1076,1076,1076,1076,1076,1076,1076,1076,1076,1076,1076,1076,1076,1076,1076,1076,1076,1076,1076,1076,1076,1076,1076,1076,1076,1076,1076,1076,1076,1076,1076,1076,1076,1076,1076,1076,1076,1076,1076,1076,1076,1076,1076,1076,1070,1070,1070,1069,1057,1057,1047,944,916,913,913,909,880,872,864,855,842,840,829,794,633,574,465,297,198,1]}},\"id\":\"c936e098-1a8a-48b7-af16-19b58ab4dc5c\",\"type\":\"ColumnDataSource\"},{\"attributes\":{\"callback\":null,\"column_names\":[\"x\",\"y\"],\"data\":{\"x\":[0,1000,2000,3000,4000,5000,6000,7000,8000,9000,10000,11000,12000,13000,14000,15000,16000,17000,18000,19000,20000,21000,22000,23000,24000,25000,26000,27000,28000,29000,30000,31000,32000,33000,34000,35000,36000,37000,38000,39000,40000,41000,42000,43000,44000,45000,46000,47000,48000,49000,50000,51000,52000,53000,54000,55000,56000,57000,58000,59000,60000,61000,62000,63000,64000,65000,66000,67000,68000,69000,70000,71000,72000,73000,74000,75000,76000,77000,78000,79000,80000,81000,82000,83000,84000,85000,86000,87000,88000,89000,90000,91000,92000,93000,94000,95000,96000,97000,98000,99000,100000,101000,102000,103000,104000,105000,106000,107000,108000,109000,110000,111000,112000,113000,114000,115000,116000,117000,118000,119000,120000,121000,122000,123000,124000,125000,126000,127000,128000,129000,130000,131000,132000,133000,134000,135000,136000,137000,138000,139000,140000,141000,142000,143000,144000,145000,146000,147000,148000,149000,150000,151000,152000,153000,154000,155000,156000,157000,158000,159000,160000,161000,162000,163000,164000,165000,166000,167000,168000,169000,170000,171000,172000,173000,174000,175000,176000,177000,178000,179000,180000,181000,182000,183000,184000,185000,186000,187000,188000,189000,190000,191000,192000,193000,194000,195000,196000,197000,198000,199000,200000,201000,202000,203000,204000,205000,206000,207000,208000,209000,210000,211000,212000,213000,214000,215000,216000,217000,218000,219000,220000,221000,222000,223000,224000,225000,226000,227000,228000,229000,230000,231000,232000,233000,234000,235000,236000,237000,238000,239000,240000,241000,242000,243000,244000,245000,246000,247000,248000,249000,250000,251000,252000,253000,254000,255000,256000,257000,258000,259000,260000,261000,262000,263000,264000,265000,266000,267000,268000,269000,270000,271000,272000,273000,274000,275000,276000,277000,278000,279000,280000,281000,282000,283000,284000,285000,286000,287000,288000,289000,290000,291000,292000,293000,294000,295000,296000,297000,298000,299000,300000,301000,302000,303000,304000,305000,306000,307000,308000,309000,310000,311000,312000,313000,314000,315000,316000,317000,318000,319000,320000,321000,322000,323000,324000,325000,326000,327000,328000,329000,330000,331000,332000,333000,334000,335000,336000,337000,338000,339000,340000,341000,342000,343000,344000,345000,346000,347000,348000,349000,350000,351000,352000,353000,354000,355000,356000,357000,358000,359000,360000,361000,362000,363000,364000,365000,366000,367000,368000,369000,370000,371000,372000,373000,374000,375000,376000,377000,378000,379000,380000,381000,382000,383000,384000,385000,386000,387000,388000,389000,390000,391000,392000,393000,394000,395000,396000,397000,398000,399000,400000,401000,402000,403000,404000,405000,406000,407000,408000,409000,410000,411000,412000,413000,414000,415000,416000,417000,418000,419000,420000,421000,422000,423000,424000,425000,426000,427000,428000,429000,430000,431000,432000,433000,434000,435000,436000,437000,438000,439000,440000,441000,442000,443000,444000,445000,446000,447000,448000,449000,450000,451000,452000,453000,454000,455000,456000,457000,458000,459000,460000,461000,462000,463000,464000,465000,466000,467000,468000,469000,470000,471000,472000,473000,474000,475000,476000,477000,478000,479000,480000,481000,482000,483000,484000,485000,486000,487000,488000,489000,490000,491000,492000,493000,494000,495000,496000,497000,498000,499000,500000,501000,502000,503000,504000,505000,506000,507000,508000,509000,510000,511000,512000,513000,514000,515000,516000,517000,518000,519000,520000,521000,522000,523000,524000,525000,526000,527000,528000,529000,530000,531000,532000,533000,534000,535000,536000,537000,538000,539000,540000,541000,542000,543000,544000,545000,546000,547000,548000,549000,550000,551000,552000,553000,554000,555000,556000,557000,558000,559000,560000,561000,562000,563000,564000,565000,566000,567000,568000,569000,570000,571000,572000,573000,574000,575000,576000,577000,578000,579000,580000,581000,582000,583000,584000,585000,586000,587000,588000,589000,590000,591000,592000,593000,594000,595000,596000,597000,598000,599000,600000,600000,599000,598000,597000,596000,595000,594000,593000,592000,591000,590000,589000,588000,587000,586000,585000,584000,583000,582000,581000,580000,579000,578000,577000,576000,575000,574000,573000,572000,571000,570000,569000,568000,567000,566000,565000,564000,563000,562000,561000,560000,559000,558000,557000,556000,555000,554000,553000,552000,551000,550000,549000,548000,547000,546000,545000,544000,543000,542000,541000,540000,539000,538000,537000,536000,535000,534000,533000,532000,531000,530000,529000,528000,527000,526000,525000,524000,523000,522000,521000,520000,519000,518000,517000,516000,515000,514000,513000,512000,511000,510000,509000,508000,507000,506000,505000,504000,503000,502000,501000,500000,499000,498000,497000,496000,495000,494000,493000,492000,491000,490000,489000,488000,487000,486000,485000,484000,483000,482000,481000,480000,479000,478000,477000,476000,475000,474000,473000,472000,471000,470000,469000,468000,467000,466000,465000,464000,463000,462000,461000,460000,459000,458000,457000,456000,455000,454000,453000,452000,451000,450000,449000,448000,447000,446000,445000,444000,443000,442000,441000,440000,439000,438000,437000,436000,435000,434000,433000,432000,431000,430000,429000,428000,427000,426000,425000,424000,423000,422000,421000,420000,419000,418000,417000,416000,415000,414000,413000,412000,411000,410000,409000,408000,407000,406000,405000,404000,403000,402000,401000,400000,399000,398000,397000,396000,395000,394000,393000,392000,391000,390000,389000,388000,387000,386000,385000,384000,383000,382000,381000,380000,379000,378000,377000,376000,375000,374000,373000,372000,371000,370000,369000,368000,367000,366000,365000,364000,363000,362000,361000,360000,359000,358000,357000,356000,355000,354000,353000,352000,351000,350000,349000,348000,347000,346000,345000,344000,343000,342000,341000,340000,339000,338000,337000,336000,335000,334000,333000,332000,331000,330000,329000,328000,327000,326000,325000,324000,323000,322000,321000,320000,319000,318000,317000,316000,315000,314000,313000,312000,311000,310000,309000,308000,307000,306000,305000,304000,303000,302000,301000,300000,299000,298000,297000,296000,295000,294000,293000,292000,291000,290000,289000,288000,287000,286000,285000,284000,283000,282000,281000,280000,279000,278000,277000,276000,275000,274000,273000,272000,271000,270000,269000,268000,267000,266000,265000,264000,263000,262000,261000,260000,259000,258000,257000,256000,255000,254000,253000,252000,251000,250000,249000,248000,247000,246000,245000,244000,243000,242000,241000,240000,239000,238000,237000,236000,235000,234000,233000,232000,231000,230000,229000,228000,227000,226000,225000,224000,223000,222000,221000,220000,219000,218000,217000,216000,215000,214000,213000,212000,211000,210000,209000,208000,207000,206000,205000,204000,203000,202000,201000,200000,199000,198000,197000,196000,195000,194000,193000,192000,191000,190000,189000,188000,187000,186000,185000,184000,183000,182000,181000,180000,179000,178000,177000,176000,175000,174000,173000,172000,171000,170000,169000,168000,167000,166000,165000,164000,163000,162000,161000,160000,159000,158000,157000,156000,155000,154000,153000,152000,151000,150000,149000,148000,147000,146000,145000,144000,143000,142000,141000,140000,139000,138000,137000,136000,135000,134000,133000,132000,131000,130000,129000,128000,127000,126000,125000,124000,123000,122000,121000,120000,119000,118000,117000,116000,115000,114000,113000,112000,111000,110000,109000,108000,107000,106000,105000,104000,103000,102000,101000,100000,99000,98000,97000,96000,95000,94000,93000,92000,91000,90000,89000,88000,87000,86000,85000,84000,83000,82000,81000,80000,79000,78000,77000,76000,75000,74000,73000,72000,71000,70000,69000,68000,67000,66000,65000,64000,63000,62000,61000,60000,59000,58000,57000,56000,55000,54000,53000,52000,51000,50000,49000,48000,47000,46000,45000,44000,43000,42000,41000,40000,39000,38000,37000,36000,35000,34000,33000,32000,31000,30000,29000,28000,27000,26000,25000,24000,23000,22000,21000,20000,19000,18000,17000,16000,15000,14000,13000,12000,11000,10000,9000,8000,7000,6000,5000,4000,3000,2000,1000,0],\"y\":[1,61,92,100,207,207,212,223,223,223,223,230,230,230,233,233,233,306,314,316,316,317,317,317,317,317,317,317,317,317,317,317,317,317,317,317,317,317,317,317,317,317,317,317,317,317,317,317,317,317,317,317,317,317,317,317,317,317,317,317,317,317,317,317,317,317,317,317,317,317,317,317,317,317,317,317,317,317,317,317,317,317,317,317,317,317,317,317,317,317,317,317,317,317,317,317,317,317,317,317,317,317,317,317,317,317,317,317,317,317,317,317,317,317,317,317,317,317,317,317,317,317,317,317,317,317,317,317,317,317,317,317,317,317,317,317,317,317,317,317,317,317,317,317,317,317,317,317,317,317,317,317,317,317,317,317,317,317,317,317,317,317,317,317,317,317,317,317,317,317,317,317,317,317,317,317,317,317,317,317,317,317,317,317,317,317,317,317,317,317,317,317,317,317,317,317,317,317,317,317,317,317,317,317,317,317,317,317,317,317,317,317,317,317,317,317,317,317,317,317,317,317,317,317,317,317,317,317,317,317,317,317,317,317,317,317,317,317,317,317,317,317,317,317,317,317,317,317,317,317,317,317,317,317,317,317,317,317,317,317,317,317,317,317,317,317,317,317,317,317,317,317,317,317,317,317,317,317,317,317,317,317,317,317,317,317,317,317,317,317,317,317,317,317,317,317,317,317,317,317,317,317,317,317,317,317,317,317,317,317,317,317,317,317,317,317,317,317,317,317,317,317,317,317,317,317,317,317,317,317,317,317,317,317,317,317,317,317,317,317,317,317,317,317,317,317,317,317,317,317,317,317,317,317,317,317,317,317,317,317,317,317,317,317,317,317,317,317,317,317,317,317,317,317,317,317,317,317,317,317,317,317,317,317,317,317,317,317,317,317,317,317,317,317,317,317,317,317,317,317,317,317,317,317,317,317,317,317,317,317,317,317,317,317,317,317,317,317,317,317,317,317,317,317,317,317,317,317,317,317,317,317,317,317,317,317,317,317,317,317,317,317,317,317,317,317,317,317,317,317,317,317,317,317,317,317,317,317,317,317,317,317,317,317,317,317,317,317,317,317,317,317,317,317,317,317,317,317,317,317,317,317,317,317,317,317,317,317,317,317,317,317,317,317,317,317,317,317,317,317,317,317,317,317,317,317,317,317,317,317,317,317,317,317,317,317,317,317,317,317,317,317,317,317,317,317,317,317,317,317,317,317,317,317,317,317,317,317,317,317,317,317,317,317,317,317,317,317,317,317,317,317,317,317,317,317,317,317,317,317,317,317,317,317,317,317,317,317,317,317,317,317,317,317,317,317,317,317,317,317,317,317,317,317,317,317,317,317,317,317,317,317,317,317,317,317,317,317,317,317,1074,1074,1074,1074,1074,1074,1074,1074,1074,1074,1074,1074,1074,1074,1074,1074,1074,1074,1074,1074,1074,1074,1074,1074,1074,1074,1074,1074,1074,1074,1074,1074,1074,1074,1074,1074,1074,1074,1074,1074,1074,1074,1074,1074,1074,1074,1074,1074,1074,1074,1074,1074,1074,1074,1074,1074,1074,1074,1074,1074,1074,1074,1074,1074,1074,1074,1074,1074,1074,1074,1074,1074,1074,1074,1074,1074,1074,1074,1074,1074,1074,1074,1074,1074,1074,1074,1074,1074,1074,1074,1074,1074,1074,1074,1074,1074,1074,1074,1074,1074,1074,1074,1074,1074,1074,1074,1074,1074,1074,1074,1074,1074,1074,1074,1074,1074,1074,1074,1074,1074,1074,1074,1074,1074,1074,1074,1074,1074,1074,1074,1074,1074,1074,1074,1074,1074,1074,1074,1074,1074,1074,1074,1074,1074,1074,1074,1074,1074,1074,1074,1074,1074,1074,1074,1074,1074,1074,1074,1074,1074,1074,1074,1074,1074,1074,1074,1074,1074,1074,1074,1074,1074,1074,1074,1074,1074,1074,1074,1074,1074,1074,1074,1074,1074,1074,1074,1074,1074,1074,1074,1074,1074,1074,1074,1074,1074,1074,1074,1074,1074,1074,1074,1074,1074,1074,1074,1074,1074,1074,1074,1074,1074,1074,1074,1074,1074,1074,1074,1074,1074,1074,1074,1074,1074,1074,1074,1074,1074,1074,1074,1074,1074,1074,1074,1074,1074,1074,1074,1074,1074,1074,1074,1074,1074,1074,1074,1074,1074,1074,1074,1074,1074,1074,1074,1074,1074,1074,1074,1074,1074,1074,1074,1074,1074,1074,1074,1074,1074,1074,1074,1074,1074,1074,1074,1074,1074,1074,1074,1074,1074,1074,1074,1074,1074,1074,1074,1074,1074,1074,1074,1074,1074,1074,1074,1074,1074,1074,1074,1074,1074,1074,1074,1074,1074,1074,1074,1074,1074,1074,1074,1074,1074,1074,1074,1074,1074,1074,1074,1074,1074,1074,1074,1074,1074,1074,1074,1074,1074,1074,1074,1074,1074,1074,1074,1074,1074,1074,1074,1074,1074,1074,1074,1074,1074,1074,1074,1074,1074,1074,1074,1074,1074,1074,1074,1074,1074,1074,1074,1074,1074,1074,1074,1074,1073,1073,1073,1073,1073,1073,1073,1073,1073,1073,1073,1073,1073,1073,1073,1073,1073,1073,1073,1073,1073,1073,1073,1073,1073,1073,1073,1073,1073,1073,1073,1073,1073,1073,1073,1073,1073,1073,1073,1073,1073,1073,1073,1073,1073,1073,1073,1073,1073,1073,1073,1073,1073,1073,1073,1073,1073,1073,1073,1073,1073,1073,1073,1073,1073,1073,1073,1073,1073,1073,1073,1073,1073,1073,1073,1073,1073,1073,1073,1073,1073,1073,1073,1073,1073,1073,1073,1073,1073,1073,1073,1073,1073,1073,1073,1073,1073,1073,1073,1073,1073,1073,1073,1073,1073,1073,1073,1073,1073,1073,1073,1073,1073,1073,1073,1073,1073,1073,1073,1073,1073,1073,1073,1073,1073,1073,1073,1073,1073,1073,1073,1073,1073,1073,1073,1073,1073,1073,1073,1073,1073,1073,1073,1073,1073,1073,1073,1073,1073,1073,1073,1073,1073,1073,1073,1073,1073,1073,1073,1073,1073,1073,1073,1073,1073,1073,1073,1073,1073,1073,1073,1073,1073,1073,1073,1073,1073,1073,1073,1073,1073,1073,1073,1073,1073,1073,1073,1066,1066,1066,1066,1065,1065,1065,1062,1062,1062,1062,1062,1062,1062,1062,1062,1062,1062,1062,1062,1062,1062,1062,1061,1061,1061,1056,1045,1037,1031,995,954,954,945,937,930,930,929,927,916,914,889,887,809,702,563,402,353,208,1]}},\"id\":\"f76b7b90-e829-416a-86d7-46bb03278a24\",\"type\":\"ColumnDataSource\"},{\"attributes\":{\"line_color\":{\"value\":\"#984ea3\"},\"line_width\":{\"value\":2},\"x\":{\"field\":\"x\"},\"y\":{\"field\":\"y\"}},\"id\":\"6215b9e0-31c7-45d2-b061-09ebd9750aeb\",\"type\":\"Line\"},{\"attributes\":{\"callback\":null,\"column_names\":[\"x\",\"y\"],\"data\":{\"x\":[0,1000,2000,3000,4000,5000,6000,7000,8000,9000,10000,11000,12000,13000,14000,15000,16000,17000,18000,19000,20000,21000,22000,23000,24000,25000,26000,27000,28000,29000,30000,31000,32000,33000,34000,35000,36000,37000,38000,39000,40000,41000,42000,43000,44000,45000,46000,47000,48000,49000,50000,51000,52000,53000,54000,55000,56000,57000,58000,59000,60000,61000,62000,63000,64000,65000,66000,67000,68000,69000,70000,71000,72000,73000,74000,75000,76000,77000,78000,79000,80000,81000,82000,83000,84000,85000,86000,87000,88000,89000,90000,91000,92000,93000,94000,95000,96000,97000,98000,99000,100000,101000,102000,103000,104000,105000,106000,107000,108000,109000,110000,111000,112000,113000,114000,115000,116000,117000,118000,119000,120000,121000,122000,123000,124000,125000,126000,127000,128000,129000,130000,131000,132000,133000,134000,135000,136000,137000,138000,139000,140000,141000,142000,143000,144000,145000,146000,147000,148000,149000,150000,151000,152000,153000,154000,155000,156000,157000,158000,159000,160000,161000,162000,163000,164000,165000,166000,167000,168000,169000,170000,171000,172000,173000,174000,175000,176000,177000,178000,179000,180000,181000,182000,183000,184000,185000,186000,187000,188000,189000,190000,191000,192000,193000,194000,195000,196000,197000,198000,199000,200000,201000,202000,203000,204000,205000,206000,207000,208000,209000,210000,211000,212000,213000,214000,215000,216000,217000,218000,219000,220000,221000,222000,223000,224000,225000,226000,227000,228000,229000,230000,231000,232000,233000,234000,235000,236000,237000,238000,239000,240000,241000,242000,243000,244000,245000,246000,247000,248000,249000,250000,251000,252000,253000,254000,255000,256000,257000,258000,259000,260000,261000,262000,263000,264000,265000,266000,267000,268000,269000,270000,271000,272000,273000,274000,275000,276000,277000,278000,279000,280000,281000,282000,283000,284000,285000,286000,287000,288000,289000,290000,291000,292000,293000,294000,295000,296000,297000,298000,299000,300000,301000,302000,303000,304000,305000,306000,307000,308000,309000,310000,311000,312000,313000,314000,315000,316000,317000,318000,319000,320000,321000,322000,323000,324000,325000,326000,327000,328000,329000,330000,331000,332000,333000,334000,335000,336000,337000,338000,339000,340000,341000,342000,343000,344000,345000,346000,347000,348000,349000,350000,351000,352000,353000,354000,355000,356000,357000,358000,359000,360000,361000,362000,363000,364000,365000,366000,367000,368000,369000,370000,371000,372000,373000,374000,375000,376000,377000,378000,379000,380000,381000,382000,383000,384000,385000,386000,387000,388000,389000,390000,391000,392000,393000,394000,395000,396000,397000,398000,399000,400000,401000,402000,403000,404000,405000,406000,407000,408000,409000,410000,411000,412000,413000,414000,415000,416000,417000,418000,419000,420000,421000,422000,423000,424000,425000,426000,427000,428000,429000,430000,431000,432000,433000,434000,435000,436000,437000,438000,439000,440000,441000,442000,443000,444000,445000,446000,447000,448000,449000,450000,451000,452000,453000,454000,455000,456000,457000,458000,459000,460000,461000,462000,463000,464000,465000,466000,467000,468000,469000,470000,471000,472000,473000,474000,475000,476000,477000,478000,479000,480000,481000,482000,483000,484000,485000,486000,487000,488000,489000,490000,491000,492000,493000,494000,495000,496000,497000,498000,499000,500000,501000,502000,503000,504000,505000,506000,507000,508000,509000,510000,511000,512000,513000,514000,515000,516000,517000,518000,519000,520000,521000,522000,523000,524000,525000,526000,527000,528000,529000,530000,531000,532000,533000,534000,535000,536000,537000,538000,539000,540000,541000,542000,543000,544000,545000,546000,547000,548000,549000,550000,551000,552000,553000,554000,555000,556000,557000,558000,559000,560000,561000,562000,563000,564000,565000,566000,567000,568000,569000,570000,571000,572000,573000,574000,575000,576000,577000,578000,579000,580000,581000,582000,583000,584000,585000,586000,587000,588000,589000,590000,591000,592000,593000,594000,595000,596000,597000,598000,599000,600000],\"y\":{\"__ndarray__\":\"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\",\"dtype\":\"float64\",\"shape\":[600]}}},\"id\":\"e1c2b85c-4f3f-482e-b293-325e9cbc04b6\",\"type\":\"ColumnDataSource\"},{\"attributes\":{\"fill_alpha\":{\"value\":0.1},\"fill_color\":{\"value\":\"#ff7f00\"},\"line_alpha\":{\"value\":0.1},\"line_color\":{\"value\":\"#ff7f00\"},\"x\":{\"field\":\"x\"},\"y\":{\"field\":\"y\"}},\"id\":\"c8f7d921-a5da-4b16-9219-a0e0786f0030\",\"type\":\"Patch\"},{\"attributes\":{\"fill_alpha\":{\"value\":0.1},\"fill_color\":{\"value\":\"#1f77b4\"},\"line_alpha\":{\"value\":0.1},\"line_color\":{\"value\":\"#1f77b4\"},\"x\":{\"field\":\"x\"},\"y\":{\"field\":\"y\"}},\"id\":\"890b9723-46cc-458a-8b46-4a66f39a99d6\",\"type\":\"Patch\"},{\"attributes\":{\"callback\":null,\"column_names\":[\"x\",\"y\"],\"data\":{\"x\":[0,1000,2000,3000,4000,5000,6000,7000,8000,9000,10000,11000,12000,13000,14000,15000,16000,17000,18000,19000,20000,21000,22000,23000,24000,25000,26000,27000,28000,29000,30000,31000,32000,33000,34000,35000,36000,37000,38000,39000,40000,41000,42000,43000,44000,45000,46000,47000,48000,49000,50000,51000,52000,53000,54000,55000,56000,57000,58000,59000,60000,61000,62000,63000,64000,65000,66000,67000,68000,69000,70000,71000,72000,73000,74000,75000,76000,77000,78000,79000,80000,81000,82000,83000,84000,85000,86000,87000,88000,89000,90000,91000,92000,93000,94000,95000,96000,97000,98000,99000,100000,101000,102000,103000,104000,105000,106000,107000,108000,109000,110000,111000,112000,113000,114000,115000,116000,117000,118000,119000,120000,121000,122000,123000,124000,125000,126000,127000,128000,129000,130000,131000,132000,133000,134000,135000,136000,137000,138000,139000,140000,141000,142000,143000,144000,145000,146000,147000,148000,149000,150000,151000,152000,153000,154000,155000,156000,157000,158000,159000,160000,161000,162000,163000,164000,165000,166000,167000,168000,169000,170000,171000,172000,173000,174000,175000,176000,177000,178000,179000,180000,181000,182000,183000,184000,185000,186000,187000,188000,189000,190000,191000,192000,193000,194000,195000,196000,197000,198000,199000,200000,201000,202000,203000,204000,205000,206000,207000,208000,209000,210000,211000,212000,213000,214000,215000,216000,217000,218000,219000,220000,221000,222000,223000,224000,225000,226000,227000,228000,229000,230000,231000,232000,233000,234000,235000,236000,237000,238000,239000,240000,241000,242000,243000,244000,245000,246000,247000,248000,249000,250000,251000,252000,253000,254000,255000,256000,257000,258000,259000,260000,261000,262000,263000,264000,265000,266000,267000,268000,269000,270000,271000,272000,273000,274000,275000,276000,277000,278000,279000,280000,281000,282000,283000,284000,285000,286000,287000,288000,289000,290000,291000,292000,293000,294000,295000,296000,297000,298000,299000,300000,301000,302000,303000,304000,305000,306000,307000,308000,309000,310000,311000,312000,313000,314000,315000,316000,317000,318000,319000,320000,321000,322000,323000,324000,325000,326000,327000,328000,329000,330000,331000,332000,333000,334000,335000,336000,337000,338000,339000,340000,341000,342000,343000,344000,345000,346000,347000,348000,349000,350000,351000,352000,353000,354000,355000,356000,357000,358000,359000,360000,361000,362000,363000,364000,365000,366000,367000,368000,369000,370000,371000,372000,373000,374000,375000,376000,377000,378000,379000,380000,381000,382000,383000,384000,385000,386000,387000,388000,389000,390000,391000,392000,393000,394000,395000,396000,397000,398000,399000,400000,401000,402000,403000,404000,405000,406000,407000,408000,409000,410000,411000,412000,413000,414000,415000,416000,417000,418000,419000,420000,421000,422000,423000,424000,425000,426000,427000,428000,429000,430000,431000,432000,433000,434000,435000,436000,437000,438000,439000,440000,441000,442000,443000,444000,445000,446000,447000,448000,449000,450000,451000,452000,453000,454000,455000,456000,457000,458000,459000,460000,461000,462000,463000,464000,465000,466000,467000,468000,469000,470000,471000,472000,473000,474000,475000,476000,477000,478000,479000,480000,481000,482000,483000,484000,485000,486000,487000,488000,489000,490000,491000,492000,493000,494000,495000,496000,497000,498000,499000,500000,501000,502000,503000,504000,505000,506000,507000,508000,509000,510000,511000,512000,513000,514000,515000,516000,517000,518000,519000,520000,521000,522000,523000,524000,525000,526000,527000,528000,529000,530000,531000,532000,533000,534000,535000,536000,537000,538000,539000,540000,541000,542000,543000,544000,545000,546000,547000,548000,549000,550000,551000,552000,553000,554000,555000,556000,557000,558000,559000,560000,561000,562000,563000,564000,565000,566000,567000,568000,569000,570000,571000,572000,573000,574000,575000,576000,577000,578000,579000,580000,581000,582000,583000,584000,585000,586000,587000,588000,589000,590000,591000,592000,593000,594000,595000,596000,597000,598000,599000,600000],\"y\":{\"__ndarray__\":\"AAAAAAAA8D8AAAAAAOBYQAAAAAAACGZAAAAAAAAobkAAAAAAABhwQAAAAAAArHBAAAAAAAAgc0AAAAAAAKhzQAAAAAAA9HRAAAAAAAAAeUAAAAAAACR7QAAAAAAApHxAAAAAAABkfkAAAAAAAIx+QAAAAAAAjH5AAAAAAACMfkAAAAAAANR+QAAAAAAAyH9AAAAAAAAsgEAAAAAAANyAQAAAAAAAmIJAAAAAAAA4hUAAAAAAAB6GQAAAAAAAmIdAAAAAAADQiEAAAAAAAD6JQAAAAAAARolAAAAAAAB8ikAAAAAAAKSKQAAAAAAAHotAAAAAAAB8i0AAAAAAAH6LQAAAAAAAYoxAAAAAAAD6jEAAAAAAANSNQAAAAAAAfI5AAAAAAACUjkAAAAAAAJSOQAAAAAAAlI5AAAAAAACgjkAAAAAAANKOQAAAAAAA1o5AAAAAAADajkAAAAAAANqOQAAAAAAAKo9AAAAAAAByj0AAAAAAAISPQAAAAAAAxI9AAAAAAADuj0AAAAAAAAOQQAAAAAAAA5BAAAAAAAADkEAAAAAAAAOQQAAAAAAABJBAAAAAAAAEkEAAAAAAAGiQQAAAAAAAfpBAAAAAAAB+kEAAAAAAAH6QQAAAAAAAfpBAAAAAAAB+kEAAAAAAAICQQAAAAAAAgZBAAAAAAACBkEAAAAAAAJyQQAAAAAAAnJBAAAAAAACckEAAAAAAAKaQQAAAAAAAN5FAAAAAAADtkUAAAAAAAPqRQAAAAAAAVJJAAAAAAABXkkAAAAAAAFeSQAAAAAAAV5JAAAAAAABXkkAAAAAAAFeSQAAAAAAAV5JAAAAAAABXkkAAAAAAAFySQAAAAAAAjZJAAAAAAACNkkAAAAAAAI2SQAAAAAAAxZJAAAAAAADxkkAAAAAAAPGSQAAAAAAA8ZJAAAAAAADxkkAAAAAAAPGSQAAAAAAABJNAAAAAAAB7k0AAAAAAAK2TQAAAAAAAB5RAAAAAAAATlEAAAAAAACKUQAAAAAAASZRAAAAAAABNlEAAAAAAAGqUQAAAAAAArpRAAAAAAACulEAAAAAAAK6UQAAAAAAArpRAAAAAAACulEAAAAAAAK6UQAAAAAAAr5RAAAAAAACvlEAAAAAAAK+UQAAAAAAAr5RAAAAAAAC8lEAAAAAAAMKUQAAAAAAAwpRAAAAAAADClEAAAAAAAMKUQAAAAAAAwpRAAAAAAADClEAAAAAAAMKUQAAAAAAAwpRAAAAAAADClEAAAAAAAMKUQAAAAAAAwpRAAAAAAADFlEAAAAAAAMyUQAAAAAAAzJRAAAAAAADMlEAAAAAAAMyUQAAAAAAAzJRAAAAAAADMlEAAAAAAAMyUQAAAAAAAC5VAAAAAAABhlUAAAAAAAMuVQAAAAAAA2ZVAAAAAAAB4lkAAAAAAAHaXQAAAAAAAO5hAAAAAAACHmEAAAAAAANiYQAAAAAAAM5lAAAAAAAAzmUAAAAAAAD+ZQAAAAAAAeZpAAAAAAABKm0AAAAAAAIacQAAAAAAA/pxAAAAAAAA7nUAAAAAAAGadQAAAAAAAg51AAAAAAAA1nkAAAAAAADWeQAAAAAAANZ5AAAAAAAA1nkAAAAAAADWeQAAAAAAAQ55AAAAAAABLnkAAAAAAAKaeQAAAAAAA+Z5AAAAAAAADn0AAAAAAAAOfQAAAAAAAA59AAAAAAAADn0AAAAAAAAOfQAAAAAAAA59AAAAAAAADn0AAAAAAAAOfQAAAAAAAA59AAAAAAAADn0AAAAAAAAafQAAAAAAACZ9AAAAAAAAJn0AAAAAAAAmfQAAAAAAAEp9AAAAAAAASn0AAAAAAABKfQAAAAAAAEp9AAAAAAAASn0AAAAAAABKfQAAAAAAAEp9AAAAAAAASn0AAAAAAABKfQAAAAAAAEp9AAAAAAAASn0AAAAAAACKfQAAAAAAALp9AAAAAAAAxn0AAAAAAAE+fQAAAAAAAbJ9AAAAAAADan0AAAAAAAN2fQAAAAAAA459AAAAAAADjn0AAAAAAAAKgQAAAAACATqBAAAAAAICLoEAAAAAAAJOgQAAAAAAAvaBAAAAAAIDCoEAAAAAAgMKgQAAAAACAwqBAAAAAAIDCoEAAAAAAgMKgQAAAAACAwqBAAAAAAIDCoEAAAAAAgMKgQAAAAACAwqBAAAAAAIDCoEAAAAAAgMKgQAAAAACAwqBAAAAAAIDCoEAAAAAAgMKgQAAAAACAwqBAAAAAAIDCoEAAAAAAgMKgQAAAAACAwqBAAAAAAIDCoEAAAAAAgMKgQAAAAACAw6BAAAAAAIDDoEAAAAAAAOGgQAAAAACA86BAAAAAAIDzoEAAAAAAgPOgQAAAAACA86BAAAAAAIDzoEAAAAAAgPOgQAAAAACA86BAAAAAAIDzoEAAAAAAgPOgQAAAAACA86BAAAAAAIDzoEAAAAAAgPOgQAAAAACA86BAAAAAAIDzoEAAAAAAgPOgQAAAAACA86BAAAAAAIDzoEAAAAAAgPOgQAAAAACA86BAAAAAAIDzoEAAAAAAgPOgQAAAAACA86BAAAAAAAD0oEAAAAAAAPSgQAAAAAAA9KBAAAAAAAD0oEAAAAAAAPSgQAAAAAAA9KBAAAAAAAD0oEAAAAAAAPSgQAAAAAAA9KBAAAAAAAD0oEAAAAAAAPSgQAAAAAAA9KBAAAAAAAD0oEAAAAAAAPSgQAAAAACAH6FAAAAAAIBOoUAAAAAAgJqhQAAAAACAu6FAAAAAAAC/oUAAAAAAAMuhQAAAAAAAz6FAAAAAAADaoUAAAAAAgOOhQAAAAAAA5qFAAAAAAAAiokAAAAAAACKiQAAAAAAAIqJAAAAAAIBNokAAAAAAAHSiQAAAAAAAf6JAAAAAAACAokAAAAAAAICiQAAAAAAAgKJAAAAAAACAokAAAAAAAICiQAAAAAAAgKJAAAAAAICAokAAAAAAgICiQAAAAACAgKJAAAAAAICAokAAAAAAgICiQAAAAACAgKJAAAAAAICAokAAAAAAgICiQAAAAACAgKJAAAAAAICAokAAAAAAgICiQAAAAACAgKJAAAAAAICAokAAAAAAgICiQAAAAACAgKJAAAAAAICAokAAAAAAgICiQAAAAACAgKJAAAAAAICAokAAAAAAgICiQAAAAACAgKJAAAAAAICAokAAAAAAgICiQAAAAACAgKJAAAAAAICAokAAAAAAgICiQAAAAACAhKJAAAAAAICEokAAAAAAgISiQAAAAACAhaJAAAAAAICFokAAAAAAgIWiQAAAAAAAkaJAAAAAAICjokAAAAAAAKSiQAAAAAAApKJAAAAAAACkokAAAAAAAKSiQAAAAAAApKJAAAAAAIClokAAAAAAgNmiQAAAAAAAE6NAAAAAAAA3o0AAAAAAADujQAAAAAAAO6NAAAAAAAA7o0AAAAAAADujQAAAAAAAO6NAAAAAAAA7o0AAAAAAADujQAAAAAAAO6NAAAAAAAA7o0AAAAAAADujQAAAAAAAO6NAAAAAAAA7o0AAAAAAADujQAAAAAAAO6NAAAAAAAA7o0AAAAAAADujQAAAAAAAO6NAAAAAAIBUo0AAAAAAAIyjQAAAAAAAs6NAAAAAAIAGpEAAAAAAgGukQAAAAACAiaRAAAAAAICNpEAAAAAAgLekQAAAAACAt6RAAAAAAIC3pEAAAAAAgLekQAAAAACAt6RAAAAAAIC3pEAAAAAAgLekQAAAAACAt6RAAAAAAIC3pEAAAAAAgLekQAAAAACAt6RAAAAAAIC3pEAAAAAAgLekQAAAAACAt6RAAAAAAIC3pEAAAAAAgLekQAAAAACAt6RAAAAAAIC3pEAAAAAAgLekQAAAAACAt6RAAAAAAIC3pEAAAAAAgLekQAAAAACAt6RAAAAAAIC3pEAAAAAAgLekQAAAAACAt6RAAAAAAIC3pEAAAAAAgLekQAAAAACAt6RAAAAAAIC3pEAAAAAAgLekQAAAAACAt6RAAAAAAIC3pEAAAAAAgLekQAAAAACAt6RAAAAAAIC3pEAAAAAAgLekQAAAAACAt6RAAAAAAIC3pEAAAAAAgLekQAAAAACAt6RAAAAAAIC3pEAAAAAAgLekQAAAAACAt6RAAAAAAIC3pEAAAAAAgLekQAAAAACAt6RAAAAAAIC3pEAAAAAAgLekQAAAAACAt6RAAAAAAIC3pEAAAAAAgLekQAAAAACAt6RAAAAAAIC3pEAAAAAAgLekQAAAAACAt6RAAAAAAIC3pEAAAAAAgLekQAAAAACAt6RAAAAAAIC3pEAAAAAAgLekQAAAAACAt6RAAAAAAIC3pEAAAAAAgLekQAAAAACAt6RAAAAAAIC3pEAAAAAAgLekQAAAAACAt6RAAAAAAIC3pEAAAAAAgLekQAAAAACAt6RAAAAAAIC3pEAAAAAAgLekQAAAAACAt6RAAAAAAIC3pEAAAAAAgLekQAAAAACAt6RAAAAAAIC3pEAAAAAAgLekQAAAAACAt6RAAAAAAIC3pEAAAAAAgLekQAAAAACAt6RAAAAAAIC3pEAAAAAAgLekQAAAAACAt6RAAAAAAIC3pEAAAAAAgLekQAAAAACAt6RAAAAAAIC3pEAAAAAAgLekQAAAAACAt6RAAAAAAIC3pEAAAAAAgLekQAAAAACAt6RAAAAAAIC3pEAAAAAAgLekQAAAAACAt6RAAAAAAIDDpEAAAAAAgMOkQAAAAACAw6RAAAAAAIDDpEAAAAAAgMOkQAAAAACAw6RAAAAAAIDDpEAAAAAAgMOkQAAAAACAw6RAAAAAAIDDpEAAAAAAgMOkQAAAAACAw6RAAAAAAADKpEAAAAAAAMqkQAAAAACAz6RAAAAAAIDUpEAAAAAAgNWkQAAAAACA1aRAAAAAAIALpUAAAAAAgCWlQAAAAAAAKqVAAAAAAAAspUAAAAAAACylQAAAAAAALKVAAAAAAIAspUAAAAAAAC6lQAAAAAAALqVAAAAAAAAupUAAAAAAAC6lQAAAAAAALqVAAAAAAAAupUAAAAAAAC6lQAAAAAAALqVAAAAAAAAupUAAAAAAAC6lQAAAAAAALqVAAAAAAAAupUAAAAAAAC6lQAAAAAAALqVAAAAAAAAupUAAAAAAAC6lQAAAAAAALqVAAAAAAAAupUAAAAAAAC6lQAAAAAAALqVAAAAAAAAupUAAAAAAAC6lQAAAAAAALqVAAAAAAAAupUAAAAAAAC6lQAAAAAAALqVAAAAAAAAupUAAAAAAAC6lQAAAAAAALqVAAAAAAAAupUAAAAAAAC6lQAAAAAAALqVAAAAAAAAupUAAAAAAAC6lQAAAAAAALqVAAAAAAAAupUAAAAAAAC6lQAAAAAAALqVAAAAAAAAupUAAAAAAAC6lQAAAAAAALqVAAAAAAAAupUAAAAAAAC6lQAAAAAAALqVAAAAAAAAupUAAAAAAAC6lQAAAAAAALqVAAAAAAAAupUAAAAAAAC6lQAAAAAAALqVAAAAAAAAupUAAAAAAAC6lQAAAAAAALqVAAAAAAAAupUAAAAAAAC6lQAAAAAAALqVAAAAAAAAupUAAAAAAAC6lQAAAAAAALqVAAAAAAAAupUAAAAAAAC6lQAAAAAAALqVAAAAAAAAupUAAAAAAAC6lQAAAAAAALqVAAAAAAAAupUAAAAAAAC6lQAAAAAAALqVAAAAAAIAupUAAAAAAgC+lQAAAAACAL6VAAAAAAIA7pUAAAAAAgDulQAAAAAAAcqVAAAAAAABypUAAAAAAAHKlQAAAAAAAcqVAAAAAAABypUAAAAAAAHKlQAAAAAAAcqVAAAAAAABypUAAAAAAAHKlQAAAAAAAcqVAAAAAAABypUAAAAAAAHKlQAAAAAAAcqVAAAAAAABypUAAAAAAAIWlQAAAAACAhaVAAAAAAICFpUAAAAAAgIWlQAAAAACAhaVAAAAAAICFpUAAAAAAgIWlQAAAAACAhaVAAAAAAICFpUAAAAAAgIWlQAAAAACAhaVAAAAAAICFpUAAAAAAgIWlQAAAAACAhaVAAAAAAICFpUAAAAAAgIWlQAAAAACAhaVAAAAAAICFpUAAAAAAgIWlQAAAAAAAjaVAAAAAAACNpUAAAAAAAI2lQAAAAAAAjaVAAAAAAACNpUAAAAAAAI2lQAAAAAAAjaVAAAAAAACNpUAAAAAAAI2lQAAAAAAAjaVAAAAAAIDBpUAAAAAAgMqlQAAAAACAy6VAAAAAAIDLpUAAAAAAgMulQAAAAACAzKVAAAAAAIDRpUAAAAAAgNGlQAAAAACA0aVAAAAAAIDRpUAAAAAAgNGlQAAAAACA0aVAAAAAAIDRpUAAAAAAgNGlQAAAAACA0aVAAAAAAIDRpUAAAAAAgNGlQAAAAACA0aVA\",\"dtype\":\"float64\",\"shape\":[600]}}},\"id\":\"1a7e93ec-257c-416d-a0cd-186716a5600f\",\"type\":\"ColumnDataSource\"},{\"attributes\":{\"fill_alpha\":{\"value\":0.1},\"fill_color\":{\"value\":\"#ffff33\"},\"line_alpha\":{\"value\":0.1},\"line_color\":{\"value\":\"#ffff33\"},\"x\":{\"field\":\"x\"},\"y\":{\"field\":\"y\"}},\"id\":\"9b56dd55-d4c7-4170-9d79-1aa61d79f158\",\"type\":\"Patch\"},{\"attributes\":{\"callback\":null,\"column_names\":[\"x\",\"y\"],\"data\":{\"x\":[0,1000,2000,3000,4000,5000,6000,7000,8000,9000,10000,11000,12000,13000,14000,15000,16000,17000,18000,19000,20000,21000,22000,23000,24000,25000,26000,27000,28000,29000,30000,31000,32000,33000,34000,35000,36000,37000,38000,39000,40000,41000,42000,43000,44000,45000,46000,47000,48000,49000,50000,51000,52000,53000,54000,55000,56000,57000,58000,59000,60000,61000,62000,63000,64000,65000,66000,67000,68000,69000,70000,71000,72000,73000,74000,75000,76000,77000,78000,79000,80000,81000,82000,83000,84000,85000,86000,87000,88000,89000,90000,91000,92000,93000,94000,95000,96000,97000,98000,99000,100000,101000,102000,103000,104000,105000,106000,107000,108000,109000,110000,111000,112000,113000,114000,115000,116000,117000,118000,119000,120000,121000,122000,123000,124000,125000,126000,127000,128000,129000,130000,131000,132000,133000,134000,135000,136000,137000,138000,139000,140000,141000,142000,143000,144000,145000,146000,147000,148000,149000,150000,151000,152000,153000,154000,155000,156000,157000,158000,159000,160000,161000,162000,163000,164000,165000,166000,167000,168000,169000,170000,171000,172000,173000,174000,175000,176000,177000,178000,179000,180000,181000,182000,183000,184000,185000,186000,187000,188000,189000,190000,191000,192000,193000,194000,195000,196000,197000,198000,199000,200000,201000,202000,203000,204000,205000,206000,207000,208000,209000,210000,211000,212000,213000,214000,215000,216000,217000,218000,219000,220000,221000,222000,223000,224000,225000,226000,227000,228000,229000,230000,231000,232000,233000,234000,235000,236000,237000,238000,239000,240000,241000,242000,243000,244000,245000,246000,247000,248000,249000,250000,251000,252000,253000,254000,255000,256000,257000,258000,259000,260000,261000,262000,263000,264000,265000,266000,267000,268000,269000,270000,271000,272000,273000,274000,275000,276000,277000,278000,279000,280000,281000,282000,283000,284000,285000,286000,287000,288000,289000,290000,291000,292000,293000,294000,295000,296000,297000,298000,299000,300000,301000,302000,303000,304000,305000,306000,307000,308000,309000,310000,311000,312000,313000,314000,315000,316000,317000,318000,319000,320000,321000,322000,323000,324000,325000,326000,327000,328000,329000,330000,331000,332000,333000,334000,335000,336000,337000,338000,339000,340000,341000,342000,343000,344000,345000,346000,347000,348000,349000,350000,351000,352000,353000,354000,355000,356000,357000,358000,359000,360000,361000,362000,363000,364000,365000,366000,367000,368000,369000,370000,371000,372000,373000,374000,375000,376000,377000,378000,379000,380000,381000,382000,383000,384000,385000,386000,387000,388000,389000,390000,391000,392000,393000,394000,395000,396000,397000,398000,399000,400000,401000,402000,403000,404000,405000,406000,407000,408000,409000,410000,411000,412000,413000,414000,415000,416000,417000,418000,419000,420000,421000,422000,423000,424000,425000,426000,427000,428000,429000,430000,431000,432000,433000,434000,435000,436000,437000,438000,439000,440000,441000,442000,443000,444000,445000,446000,447000,448000,449000,450000,451000,452000,453000,454000,455000,456000,457000,458000,459000,460000,461000,462000,463000,464000,465000,466000,467000,468000,469000,470000,471000,472000,473000,474000,475000,476000,477000,478000,479000,480000,481000,482000,483000,484000,485000,486000,487000,488000,489000,490000,491000,492000,493000,494000,495000,496000,497000,498000,499000,500000,501000,502000,503000,504000,505000,506000,507000,508000,509000,510000,511000,512000,513000,514000,515000,516000,517000,518000,519000,520000,521000,522000,523000,524000,525000,526000,527000,528000,529000,530000,531000,532000,533000,534000,535000,536000,537000,538000,539000,540000,541000,542000,543000,544000,545000,546000,547000,548000,549000,550000,551000,552000,553000,554000,555000,556000,557000,558000,559000,560000,561000,562000,563000,564000,565000,566000,567000,568000,569000,570000,571000,572000,573000,574000,575000,576000,577000,578000,579000,580000,581000,582000,583000,584000,585000,586000,587000,588000,589000,590000,591000,592000,593000,594000,595000,596000,597000,598000,599000,600000,600000,599000,598000,597000,596000,595000,594000,593000,592000,591000,590000,589000,588000,587000,586000,585000,584000,583000,582000,581000,580000,579000,578000,577000,576000,575000,574000,573000,572000,571000,570000,569000,568000,567000,566000,565000,564000,563000,562000,561000,560000,559000,558000,557000,556000,555000,554000,553000,552000,551000,550000,549000,548000,547000,546000,545000,544000,543000,542000,541000,540000,539000,538000,537000,536000,535000,534000,533000,532000,531000,530000,529000,528000,527000,526000,525000,524000,523000,522000,521000,520000,519000,518000,517000,516000,515000,514000,513000,512000,511000,510000,509000,508000,507000,506000,505000,504000,503000,502000,501000,500000,499000,498000,497000,496000,495000,494000,493000,492000,491000,490000,489000,488000,487000,486000,485000,484000,483000,482000,481000,480000,479000,478000,477000,476000,475000,474000,473000,472000,471000,470000,469000,468000,467000,466000,465000,464000,463000,462000,461000,460000,459000,458000,457000,456000,455000,454000,453000,452000,451000,450000,449000,448000,447000,446000,445000,444000,443000,442000,441000,440000,439000,438000,437000,436000,435000,434000,433000,432000,431000,430000,429000,428000,427000,426000,425000,424000,423000,422000,421000,420000,419000,418000,417000,416000,415000,414000,413000,412000,411000,410000,409000,408000,407000,406000,405000,404000,403000,402000,401000,400000,399000,398000,397000,396000,395000,394000,393000,392000,391000,390000,389000,388000,387000,386000,385000,384000,383000,382000,381000,380000,379000,378000,377000,376000,375000,374000,373000,372000,371000,370000,369000,368000,367000,366000,365000,364000,363000,362000,361000,360000,359000,358000,357000,356000,355000,354000,353000,352000,351000,350000,349000,348000,347000,346000,345000,344000,343000,342000,341000,340000,339000,338000,337000,336000,335000,334000,333000,332000,331000,330000,329000,328000,327000,326000,325000,324000,323000,322000,321000,320000,319000,318000,317000,316000,315000,314000,313000,312000,311000,310000,309000,308000,307000,306000,305000,304000,303000,302000,301000,300000,299000,298000,297000,296000,295000,294000,293000,292000,291000,290000,289000,288000,287000,286000,285000,284000,283000,282000,281000,280000,279000,278000,277000,276000,275000,274000,273000,272000,271000,270000,269000,268000,267000,266000,265000,264000,263000,262000,261000,260000,259000,258000,257000,256000,255000,254000,253000,252000,251000,250000,249000,248000,247000,246000,245000,244000,243000,242000,241000,240000,239000,238000,237000,236000,235000,234000,233000,232000,231000,230000,229000,228000,227000,226000,225000,224000,223000,222000,221000,220000,219000,218000,217000,216000,215000,214000,213000,212000,211000,210000,209000,208000,207000,206000,205000,204000,203000,202000,201000,200000,199000,198000,197000,196000,195000,194000,193000,192000,191000,190000,189000,188000,187000,186000,185000,184000,183000,182000,181000,180000,179000,178000,177000,176000,175000,174000,173000,172000,171000,170000,169000,168000,167000,166000,165000,164000,163000,162000,161000,160000,159000,158000,157000,156000,155000,154000,153000,152000,151000,150000,149000,148000,147000,146000,145000,144000,143000,142000,141000,140000,139000,138000,137000,136000,135000,134000,133000,132000,131000,130000,129000,128000,127000,126000,125000,124000,123000,122000,121000,120000,119000,118000,117000,116000,115000,114000,113000,112000,111000,110000,109000,108000,107000,106000,105000,104000,103000,102000,101000,100000,99000,98000,97000,96000,95000,94000,93000,92000,91000,90000,89000,88000,87000,86000,85000,84000,83000,82000,81000,80000,79000,78000,77000,76000,75000,74000,73000,72000,71000,70000,69000,68000,67000,66000,65000,64000,63000,62000,61000,60000,59000,58000,57000,56000,55000,54000,53000,52000,51000,50000,49000,48000,47000,46000,45000,44000,43000,42000,41000,40000,39000,38000,37000,36000,35000,34000,33000,32000,31000,30000,29000,28000,27000,26000,25000,24000,23000,22000,21000,20000,19000,18000,17000,16000,15000,14000,13000,12000,11000,10000,9000,8000,7000,6000,5000,4000,3000,2000,1000,0],\"y\":[1,53,107,110,110,144,144,144,144,144,144,146,146,210,210,210,244,252,333,396,396,396,396,396,438,438,438,462,462,462,462,462,462,462,462,462,462,462,462,527,527,527,527,527,527,527,527,527,527,527,527,527,527,528,528,528,529,529,529,529,529,529,529,616,743,791,791,791,791,791,791,791,791,791,791,791,791,791,791,791,791,791,791,791,791,791,791,791,791,791,791,791,791,791,791,791,791,791,791,791,791,791,791,791,791,791,791,791,797,822,884,884,884,884,884,884,884,884,884,884,884,884,884,884,884,884,884,884,884,884,884,884,884,884,884,884,884,884,884,884,884,884,884,884,884,884,884,884,884,884,884,884,884,884,884,884,884,884,884,884,884,884,884,884,884,884,884,884,884,884,884,884,884,884,884,884,884,884,884,884,884,884,884,884,884,884,884,884,884,884,884,884,884,884,884,884,884,884,884,884,884,884,884,884,884,884,884,884,884,884,884,884,884,884,884,884,884,884,884,884,884,884,884,884,884,884,884,884,884,884,884,884,884,884,884,884,884,884,884,884,884,884,884,884,884,931,931,931,931,931,931,931,931,931,931,931,931,931,931,931,931,931,931,931,931,931,931,931,931,943,1036,1036,1036,1036,1036,1036,1036,1036,1036,1086,1088,1088,1088,1088,1088,1088,1088,1088,1088,1088,1088,1088,1088,1088,1088,1088,1088,1088,1088,1088,1088,1088,1088,1088,1088,1088,1088,1088,1088,1088,1088,1088,1088,1088,1088,1088,1088,1088,1088,1088,1088,1088,1088,1088,1088,1088,1088,1088,1088,1088,1088,1088,1088,1088,1088,1088,1088,1088,1088,1088,1088,1088,1088,1088,1088,1088,1088,1088,1088,1088,1088,1088,1088,1088,1088,1088,1088,1088,1088,1088,1088,1088,1089,1182,1183,1184,1184,1246,1267,1267,1267,1267,1267,1267,1267,1395,1470,1484,1535,1645,1697,1733,1733,1735,1735,1735,1735,1735,1735,1876,1891,1891,1891,1891,1891,1891,1891,1891,1891,1891,1891,1891,1891,1891,1891,1891,1891,1891,1891,1891,1891,1891,1891,1891,1891,1891,1891,1891,1891,1891,1891,1891,1891,1891,1891,1891,1891,1891,1891,1891,1891,1891,1891,1891,1891,1891,1891,1891,1891,1891,1891,1891,1891,1891,1891,1891,1891,1891,1891,1891,1891,1891,1891,1891,1894,1894,1894,1894,1894,1894,1894,1894,1894,1894,1894,1894,1894,1894,1894,1894,1894,1894,1894,1894,1894,1894,1894,1894,1894,1894,1894,1894,1894,1894,1894,1894,1894,1894,1894,1894,1894,1894,1894,1894,1894,1894,1894,1894,1894,1894,1894,1894,1894,1894,1894,1894,1894,1894,1894,1894,1894,1894,1894,1894,1894,1894,1894,1894,1894,1894,1894,1894,1894,1894,1894,1894,1894,1894,1894,1894,1894,1894,1894,1894,1894,1894,1894,1894,1894,1894,1894,1894,1894,1894,1894,1894,1894,1894,1894,1894,1894,1894,1894,1894,1894,1894,1894,1894,1894,1894,1894,1894,1894,1894,1894,1894,1894,1894,1894,1894,1894,1894,1894,1894,1894,1894,1894,1894,1894,1894,1894,1894,1894,1894,1894,1894,1894,1894,1894,1894,1894,1894,1894,1894,1894,1894,1894,1894,1894,1894,2923,2923,2923,2923,2923,2923,2923,2923,2923,2923,2923,2923,2923,2923,2923,2923,2923,2923,2923,2923,2923,2923,2923,2923,2923,2923,2923,2923,2923,2923,2923,2923,2923,2923,2923,2923,2923,2923,2923,2923,2923,2923,2923,2923,2923,2923,2923,2923,2923,2923,2923,2923,2923,2923,2923,2923,2923,2923,2923,2923,2923,2923,2923,2923,2923,2923,2923,2923,2923,2923,2923,2923,2923,2923,2923,2923,2923,2923,2923,2923,2923,2923,2923,2923,2923,2923,2923,2923,2923,2923,2923,2923,2923,2923,2923,2923,2923,2923,2923,2923,2923,2923,2923,2923,2923,2923,2923,2923,2923,2923,2923,2923,2923,2923,2923,2923,2923,2923,2923,2923,2923,2923,2923,2923,2923,2923,2923,2923,2923,2923,2923,2923,2923,2923,2923,2923,2920,2919,2894,2868,2727,2639,2585,2584,2584,2584,2584,2584,2584,2584,2584,2584,2584,2584,2584,2584,2584,2584,2584,2584,2584,2584,2584,2584,2584,2584,2584,2584,2584,2584,2584,2584,2584,2584,2584,2584,2584,2584,2584,2584,2584,2584,2584,2584,2584,2584,2584,2584,2584,2584,2584,2584,2584,2584,2584,2584,2584,2584,2584,2584,2584,2584,2584,2584,2584,2584,2584,2584,2584,2584,2584,2584,2584,2584,2584,2584,2584,2584,2584,2584,2584,2584,2584,2584,2584,2584,2584,2584,2584,2584,2584,2584,2584,2584,2584,2584,2584,2584,2584,2584,2584,2584,2584,2584,2584,2584,2584,2584,2584,2584,2584,2584,2584,2584,2584,2584,2584,2584,2583,2583,2583,2583,2583,2583,2583,2583,2583,2583,2583,2583,2583,2583,2583,2583,2583,2583,2583,2583,2583,2583,2583,2583,2583,2583,2583,2583,2583,2583,2583,2583,2583,2583,2583,2583,2583,2583,2583,2583,2583,2583,2583,2583,2583,2583,2583,2583,2583,2583,2583,2583,2583,2583,2583,2583,2583,2583,2583,2583,2583,2583,2583,2583,2583,2583,2583,2583,2583,2583,2583,2583,2583,2583,2583,2583,2583,2583,2583,2583,2583,2583,2583,2583,2583,2583,2583,2583,2583,2583,2583,2583,2583,2583,2583,2583,2583,2583,2583,2583,2583,2583,2583,2583,2583,2583,2583,2583,2583,2583,2583,2583,2583,2583,2583,2583,2583,2583,2583,2583,2583,2583,2583,2583,2583,2583,2583,2583,2583,2583,2583,2583,2583,2583,2583,2583,2583,2583,2583,2583,2583,2583,2583,2583,2583,2583,2581,2520,2434,2417,2310,2141,2137,2137,2132,2130,2130,2130,2130,2130,2130,2130,2130,2130,2130,2130,2130,2130,2130,2130,2130,2130,2130,2130,2130,2130,2130,2130,2130,2130,2130,2130,2125,2121,2121,2121,2121,2121,2121,2120,2120,2120,2120,2120,2120,2120,2119,2119,2119,2092,2092,2092,2092,2088,2080,2079,2079,2079,2079,2079,2079,2079,2079,2079,2079,2079,2078,2078,2078,2043,2016,2014,2014,2009,1957,1957,1940,1813,1766,1688,1531,1505,1505,1505,1505,1505,1505,1505,1505,1505,1504,1504,1504,1504,1504,1504,1504,1504,1504,1504,1497,1497,1497,1497,1497,1495,1491,1490,1482,1482,1482,1482,1482,1482,1482,1482,1482,1482,1480,1422,1352,1352,1352,1352,1343,1269,1219,1088,1036,1036,1036,1033,1033,1033,1033,1033,1033,1033,1033,1030,1009,1005,1005,988,988,987,987,986,985,985,985,985,985,985,985,985,985,985,985,985,985,985,984,984,984,984,984,945,749,749,749,749,749,683,683,673,673,644,484,396,394,391,385,385,372,285,251,210,160,154,134,1]}},\"id\":\"8df35d53-3673-4455-8c53-ac1bc09f6dda\",\"type\":\"ColumnDataSource\"},{\"attributes\":{\"line_color\":{\"value\":\"#a65628\"},\"line_width\":{\"value\":2},\"x\":{\"field\":\"x\"},\"y\":{\"field\":\"y\"}},\"id\":\"e144d009-9bb0-41e7-ba6c-ceffee4496c2\",\"type\":\"Line\"},{\"attributes\":{\"callback\":null,\"column_names\":[\"x\",\"y\"],\"data\":{\"x\":[0,1000,2000,3000,4000,5000,6000,7000,8000,9000,10000,11000,12000,13000,14000,15000,16000,17000,18000,19000,20000,21000,22000,23000,24000,25000,26000,27000,28000,29000,30000,31000,32000,33000,34000,35000,36000,37000,38000,39000,40000,41000,42000,43000,44000,45000,46000,47000,48000,49000,50000,51000,52000,53000,54000,55000,56000,57000,58000,59000,60000,61000,62000,63000,64000,65000,66000,67000,68000,69000,70000,71000,72000,73000,74000,75000,76000,77000,78000,79000,80000,81000,82000,83000,84000,85000,86000,87000,88000,89000,90000,91000,92000,93000,94000,95000,96000,97000,98000,99000,100000,101000,102000,103000,104000,105000,106000,107000,108000,109000,110000,111000,112000,113000,114000,115000,116000,117000,118000,119000,120000,121000,122000,123000,124000,125000,126000,127000,128000,129000,130000,131000,132000,133000,134000,135000,136000,137000,138000,139000,140000,141000,142000,143000,144000,145000,146000,147000,148000,149000,150000,151000,152000,153000,154000,155000,156000,157000,158000,159000,160000,161000,162000,163000,164000,165000,166000,167000,168000,169000,170000,171000,172000,173000,174000,175000,176000,177000,178000,179000,180000,181000,182000,183000,184000,185000,186000,187000,188000,189000,190000,191000,192000,193000,194000,195000,196000,197000,198000,199000,200000,201000,202000,203000,204000,205000,206000,207000,208000,209000,210000,211000,212000,213000,214000,215000,216000,217000,218000,219000,220000,221000,222000,223000,224000,225000,226000,227000,228000,229000,230000,231000,232000,233000,234000,235000,236000,237000,238000,239000,240000,241000,242000,243000,244000,245000,246000,247000,248000,249000,250000,251000,252000,253000,254000,255000,256000,257000,258000,259000,260000,261000,262000,263000,264000,265000,266000,267000,268000,269000,270000,271000,272000,273000,274000,275000,276000,277000,278000,279000,280000,281000,282000,283000,284000,285000,286000,287000,288000,289000,290000,291000,292000,293000,294000,295000,296000,297000,298000,299000,300000,301000,302000,303000,304000,305000,306000,307000,308000,309000,310000,311000,312000,313000,314000,315000,316000,317000,318000,319000,320000,321000,322000,323000,324000,325000,326000,327000,328000,329000,330000,331000,332000,333000,334000,335000,336000,337000,338000,339000,340000,341000,342000,343000,344000,345000,346000,347000,348000,349000,350000,351000,352000,353000,354000,355000,356000,357000,358000,359000,360000,361000,362000,363000,364000,365000,366000,367000,368000,369000,370000,371000,372000,373000,374000,375000,376000,377000,378000,379000,380000,381000,382000,383000,384000,385000,386000,387000,388000,389000,390000,391000,392000,393000,394000,395000,396000,397000,398000,399000,400000,401000,402000,403000,404000,405000,406000,407000,408000,409000,410000,411000,412000,413000,414000,415000,416000,417000,418000,419000,420000,421000,422000,423000,424000,425000,426000,427000,428000,429000,430000,431000,432000,433000,434000,435000,436000,437000,438000,439000,440000,441000,442000,443000,444000,445000,446000,447000,448000,449000,450000,451000,452000,453000,454000,455000,456000,457000,458000,459000,460000,461000,462000,463000,464000,465000,466000,467000,468000,469000,470000,471000,472000,473000,474000,475000,476000,477000,478000,479000,480000,481000,482000,483000,484000,485000,486000,487000,488000,489000,490000,491000,492000,493000,494000,495000,496000,497000,498000,499000,500000,501000,502000,503000,504000,505000,506000,507000,508000,509000,510000,511000,512000,513000,514000,515000,516000,517000,518000,519000,520000,521000,522000,523000,524000,525000,526000,527000,528000,529000,530000,531000,532000,533000,534000,535000,536000,537000,538000,539000,540000,541000,542000,543000,544000,545000,546000,547000,548000,549000,550000,551000,552000,553000,554000,555000,556000,557000,558000,559000,560000,561000,562000,563000,564000,565000,566000,567000,568000,569000,570000,571000,572000,573000,574000,575000,576000,577000,578000,579000,580000,581000,582000,583000,584000,585000,586000,587000,588000,589000,590000,591000,592000,593000,594000,595000,596000,597000,598000,599000,600000,600000,599000,598000,597000,596000,595000,594000,593000,592000,591000,590000,589000,588000,587000,586000,585000,584000,583000,582000,581000,580000,579000,578000,577000,576000,575000,574000,573000,572000,571000,570000,569000,568000,567000,566000,565000,564000,563000,562000,561000,560000,559000,558000,557000,556000,555000,554000,553000,552000,551000,550000,549000,548000,547000,546000,545000,544000,543000,542000,541000,540000,539000,538000,537000,536000,535000,534000,533000,532000,531000,530000,529000,528000,527000,526000,525000,524000,523000,522000,521000,520000,519000,518000,517000,516000,515000,514000,513000,512000,511000,510000,509000,508000,507000,506000,505000,504000,503000,502000,501000,500000,499000,498000,497000,496000,495000,494000,493000,492000,491000,490000,489000,488000,487000,486000,485000,484000,483000,482000,481000,480000,479000,478000,477000,476000,475000,474000,473000,472000,471000,470000,469000,468000,467000,466000,465000,464000,463000,462000,461000,460000,459000,458000,457000,456000,455000,454000,453000,452000,451000,450000,449000,448000,447000,446000,445000,444000,443000,442000,441000,440000,439000,438000,437000,436000,435000,434000,433000,432000,431000,430000,429000,428000,427000,426000,425000,424000,423000,422000,421000,420000,419000,418000,417000,416000,415000,414000,413000,412000,411000,410000,409000,408000,407000,406000,405000,404000,403000,402000,401000,400000,399000,398000,397000,396000,395000,394000,393000,392000,391000,390000,389000,388000,387000,386000,385000,384000,383000,382000,381000,380000,379000,378000,377000,376000,375000,374000,373000,372000,371000,370000,369000,368000,367000,366000,365000,364000,363000,362000,361000,360000,359000,358000,357000,356000,355000,354000,353000,352000,351000,350000,349000,348000,347000,346000,345000,344000,343000,342000,341000,340000,339000,338000,337000,336000,335000,334000,333000,332000,331000,330000,329000,328000,327000,326000,325000,324000,323000,322000,321000,320000,319000,318000,317000,316000,315000,314000,313000,312000,311000,310000,309000,308000,307000,306000,305000,304000,303000,302000,301000,300000,299000,298000,297000,296000,295000,294000,293000,292000,291000,290000,289000,288000,287000,286000,285000,284000,283000,282000,281000,280000,279000,278000,277000,276000,275000,274000,273000,272000,271000,270000,269000,268000,267000,266000,265000,264000,263000,262000,261000,260000,259000,258000,257000,256000,255000,254000,253000,252000,251000,250000,249000,248000,247000,246000,245000,244000,243000,242000,241000,240000,239000,238000,237000,236000,235000,234000,233000,232000,231000,230000,229000,228000,227000,226000,225000,224000,223000,222000,221000,220000,219000,218000,217000,216000,215000,214000,213000,212000,211000,210000,209000,208000,207000,206000,205000,204000,203000,202000,201000,200000,199000,198000,197000,196000,195000,194000,193000,192000,191000,190000,189000,188000,187000,186000,185000,184000,183000,182000,181000,180000,179000,178000,177000,176000,175000,174000,173000,172000,171000,170000,169000,168000,167000,166000,165000,164000,163000,162000,161000,160000,159000,158000,157000,156000,155000,154000,153000,152000,151000,150000,149000,148000,147000,146000,145000,144000,143000,142000,141000,140000,139000,138000,137000,136000,135000,134000,133000,132000,131000,130000,129000,128000,127000,126000,125000,124000,123000,122000,121000,120000,119000,118000,117000,116000,115000,114000,113000,112000,111000,110000,109000,108000,107000,106000,105000,104000,103000,102000,101000,100000,99000,98000,97000,96000,95000,94000,93000,92000,91000,90000,89000,88000,87000,86000,85000,84000,83000,82000,81000,80000,79000,78000,77000,76000,75000,74000,73000,72000,71000,70000,69000,68000,67000,66000,65000,64000,63000,62000,61000,60000,59000,58000,57000,56000,55000,54000,53000,52000,51000,50000,49000,48000,47000,46000,45000,44000,43000,42000,41000,40000,39000,38000,37000,36000,35000,34000,33000,32000,31000,30000,29000,28000,27000,26000,25000,24000,23000,22000,21000,20000,19000,18000,17000,16000,15000,14000,13000,12000,11000,10000,9000,8000,7000,6000,5000,4000,3000,2000,1000,0],\"y\":[1,83,138,154,156,156,184,199,211,320,321,341,376,383,383,383,383,383,383,388,388,518,518,519,540,540,540,540,540,540,540,540,540,540,540,540,540,540,540,540,540,540,540,540,580,584,593,593,594,595,595,595,595,595,595,695,717,717,717,717,717,717,717,717,717,717,717,717,717,782,784,864,867,867,867,867,867,867,867,867,867,867,867,867,867,867,867,867,867,867,867,867,867,867,867,867,867,867,867,867,867,867,867,867,867,867,867,867,867,867,867,867,867,867,867,867,867,867,867,867,867,867,867,867,867,867,867,867,930,1016,1059,1059,1170,1246,1329,1333,1333,1333,1333,1340,1441,1492,1555,1555,1555,1555,1555,1555,1555,1555,1555,1555,1555,1555,1555,1555,1555,1555,1555,1555,1555,1555,1555,1555,1555,1555,1555,1555,1555,1555,1555,1555,1555,1555,1555,1555,1555,1555,1555,1555,1555,1555,1555,1555,1555,1555,1555,1555,1559,1559,1559,1559,1559,1559,1559,1559,1559,1559,1559,1559,1559,1559,1559,1559,1559,1559,1559,1559,1559,1559,1559,1559,1559,1559,1559,1561,1561,1620,1657,1657,1657,1657,1657,1657,1657,1657,1657,1657,1657,1657,1657,1657,1657,1657,1657,1657,1657,1657,1657,1657,1657,1657,1657,1657,1657,1657,1657,1657,1657,1657,1657,1657,1657,1657,1744,1838,1990,2037,2037,2037,2037,2037,2037,2037,2037,2037,2037,2124,2201,2223,2225,2225,2225,2225,2225,2225,2225,2225,2225,2225,2225,2225,2225,2225,2225,2225,2225,2225,2225,2225,2225,2225,2225,2225,2225,2225,2225,2225,2225,2225,2225,2225,2225,2225,2225,2225,2225,2225,2225,2225,2225,2225,2225,2225,2225,2225,2225,2225,2225,2225,2225,2225,2225,2225,2225,2225,2225,2225,2225,2225,2225,2225,2225,2225,2225,2225,2276,2324,2324,2324,2324,2324,2324,2324,2324,2324,2324,2324,2324,2324,2324,2324,2324,2324,2324,2324,2324,2324,2324,2324,2324,2324,2324,2324,2324,2324,2324,2324,2324,2324,2324,2324,2324,2324,2324,2324,2324,2324,2324,2324,2324,2324,2324,2324,2324,2324,2324,2324,2324,2324,2324,2324,2324,2324,2324,2324,2324,2324,2324,2324,2324,2324,2324,2324,2324,2324,2324,2324,2324,2324,2324,2324,2324,2324,2324,2324,2324,2324,2324,2324,2324,2324,2324,2324,2324,2324,2324,2324,2324,2324,2324,2324,2324,2324,2324,2324,2324,2324,2324,2324,2324,2324,2324,2324,2324,2324,2324,2324,2324,2324,2324,2324,2324,2324,2324,2324,2324,2324,2324,2324,2324,2324,2324,2324,2324,2324,2324,2324,2324,2324,2324,2324,2324,2324,2324,2324,2324,2324,2324,2324,2324,2324,2324,2324,2324,2324,2324,2324,2324,2324,2324,2324,2324,2324,2324,2324,2324,2324,2324,2324,2324,2324,2324,2324,2324,2324,2324,2324,2324,2324,2324,2324,2324,2324,2324,2324,2324,2324,2324,2324,2324,2324,2324,2324,2324,2324,2324,2324,2324,2324,2324,2324,2324,2324,2324,2324,2324,2324,2324,2324,2324,2324,2324,2324,2324,2324,2324,2324,2324,2324,2324,2324,2324,2324,2324,2324,2324,2324,2324,2324,2324,2324,2324,2324,2324,2324,2324,2324,2324,2324,2324,2324,2324,2324,2324,2324,2324,2324,2324,2324,2324,2324,2324,2324,2324,2324,2324,2324,2324,2324,2324,2324,2324,2324,2324,2324,2324,2324,2324,2324,3251,3251,3251,3251,3251,3251,3251,3251,3251,3251,3251,3251,3241,3239,3239,3239,3237,3219,3132,3132,3132,3132,3132,3132,3132,3132,3132,3132,3132,3132,3132,3132,3132,3132,3132,3132,3132,3132,3132,3132,3132,3132,3132,3132,3132,3132,3132,3132,3132,3132,3132,3132,3132,3132,3132,3132,3132,3132,3132,3132,3132,3099,3099,3099,3099,3099,3099,3099,3099,3099,3099,3099,3099,3099,3099,3099,3099,3099,3099,3099,3099,3099,3099,3099,3099,3099,3099,3099,3099,3099,3099,3099,3099,3099,3099,3099,3099,3099,3099,3099,3099,3099,3099,3099,3099,3099,3099,3099,3099,3099,3099,3099,3099,3099,3099,3099,3099,3099,3099,3099,3099,3099,3099,3099,3099,3099,3099,3099,3099,3099,3099,3099,3099,3099,3096,3095,3095,3095,3091,3082,3030,2996,2996,2996,2996,2996,2996,2996,2996,2996,2996,2996,2996,2996,2996,2996,2996,2996,2996,2986,2986,2986,2986,2986,2986,2986,2986,2986,2986,2986,2986,2986,2986,2986,2986,2986,2986,2986,2986,2986,2986,2986,2986,2986,2986,2986,2986,2986,2986,2986,2986,2986,2986,2986,2986,2986,2986,2986,2986,2986,2986,2986,2986,2986,2986,2986,2986,2986,2986,2986,2986,2986,2986,2986,2986,2986,2986,2986,2986,2986,2986,2986,2986,2986,2986,2986,2986,2986,2986,2986,2986,2986,2986,2986,2986,2986,2986,2986,2986,2986,2986,2986,2986,2986,2986,2986,2986,2986,2986,2986,2986,2986,2986,2986,2986,2986,2986,2902,2894,2872,2872,2872,2872,2872,2872,2872,2872,2872,2872,2872,2872,2872,2872,2872,2872,2872,2872,2872,2872,2872,2872,2864,2792,2677,2573,2570,2570,2570,2570,2570,2570,2570,2570,2570,2570,2570,2570,2570,2562,2562,2562,2562,2562,2562,2562,2562,2562,2562,2562,2562,2562,2562,2562,2562,2562,2562,2562,2562,2562,2562,2562,2562,2562,2562,2562,2562,2562,2562,2562,2562,2562,2562,2562,2562,2562,2562,2562,2562,2562,2562,2562,2562,2562,2562,2562,2562,2562,2562,2562,2562,2562,2562,2562,2562,2562,2562,2562,2562,2562,2562,2562,2562,2562,2562,2562,2562,2562,2562,2562,2562,2562,2562,2562,2562,2562,2562,2562,2562,2562,2562,2562,2562,2562,2562,2562,2562,2562,2562,2562,2562,2562,2562,2562,2562,2562,2562,2562,2562,2562,2562,2562,2562,2562,2562,2562,2551,2467,2452,2423,2423,2423,2423,2423,2423,2423,2423,2423,2423,2423,2423,2423,2423,2423,2423,2423,2423,2423,2423,2423,2423,2423,2423,2423,2423,2423,2423,2423,2423,2423,2423,2423,2423,2423,2423,2423,2423,2423,2423,2423,2423,2423,2423,2423,2423,2422,2406,2405,2405,2369,2360,2273,2272,2272,2203,2154,2131,2017,1842,1842,1842,1842,1842,1842,1842,1842,1842,1842,1842,1842,1835,1832,1832,1832,1832,1832,1832,1832,1832,1832,1832,1832,1832,1832,1832,1832,1832,1832,1832,1832,1832,1832,1832,1764,1735,1735,1733,1733,1733,1733,1733,1733,1733,1733,1733,1733,1733,1689,1633,1633,1633,1584,1579,1579,1579,1579,1579,1579,1579,1579,1569,1558,1441,1313,1313,1313,1313,1313,1313,1313,1311,1311,1311,1311,1311,1311,1311,1311,1311,1311,1311,1311,1311,1311,1311,1311,1311,1311,1311,1311,1311,1311,1311,1311,1311,1311,1311,1311,1311,1311,1311,1303,1298,1298,1298,1298,1297,1293,1178,1098,936,803,724,688,688,688,688,688,688,688,664,548,411,411,405,371,351,295,244,133,1]}},\"id\":\"277ecfff-15c8-44fe-96c7-5ebe5906a8e3\",\"type\":\"ColumnDataSource\"},{\"attributes\":{\"line_alpha\":{\"value\":0.1},\"line_color\":{\"value\":\"#1f77b4\"},\"line_width\":{\"value\":2},\"x\":{\"field\":\"x\"},\"y\":{\"field\":\"y\"}},\"id\":\"1e931dcc-d5a1-40b9-b39c-75f254719d96\",\"type\":\"Line\"},{\"attributes\":{\"data_source\":{\"id\":\"1a7e93ec-257c-416d-a0cd-186716a5600f\",\"type\":\"ColumnDataSource\"},\"glyph\":{\"id\":\"2aa52cf5-88a7-4311-a417-98ab236430e4\",\"type\":\"Line\"},\"hover_glyph\":null,\"nonselection_glyph\":{\"id\":\"0ba39823-c0f9-4eb3-a6c0-e9ef108124f9\",\"type\":\"Line\"},\"selection_glyph\":null},\"id\":\"64156e84-05c0-4206-a006-da58923e3cff\",\"type\":\"GlyphRenderer\"},{\"attributes\":{\"line_color\":{\"value\":\"#ff7f00\"},\"line_width\":{\"value\":2},\"x\":{\"field\":\"x\"},\"y\":{\"field\":\"y\"}},\"id\":\"2aa52cf5-88a7-4311-a417-98ab236430e4\",\"type\":\"Line\"},{\"attributes\":{\"callback\":null,\"column_names\":[\"x\",\"y\"],\"data\":{\"x\":[0,1000,2000,3000,4000,5000,6000,7000,8000,9000,10000,11000,12000,13000,14000,15000,16000,17000,18000,19000,20000,21000,22000,23000,24000,25000,26000,27000,28000,29000,30000,31000,32000,33000,34000,35000,36000,37000,38000,39000,40000,41000,42000,43000,44000,45000,46000,47000,48000,49000,50000,51000,52000,53000,54000,55000,56000,57000,58000,59000,60000,61000,62000,63000,64000,65000,66000,67000,68000,69000,70000,71000,72000,73000,74000,75000,76000,77000,78000,79000,80000,81000,82000,83000,84000,85000,86000,87000,88000,89000,90000,91000,92000,93000,94000,95000,96000,97000,98000,99000,100000,101000,102000,103000,104000,105000,106000,107000,108000,109000,110000,111000,112000,113000,114000,115000,116000,117000,118000,119000,120000,121000,122000,123000,124000,125000,126000,127000,128000,129000,130000,131000,132000,133000,134000,135000,136000,137000,138000,139000,140000,141000,142000,143000,144000,145000,146000,147000,148000,149000,150000,151000,152000,153000,154000,155000,156000,157000,158000,159000,160000,161000,162000,163000,164000,165000,166000,167000,168000,169000,170000,171000,172000,173000,174000,175000,176000,177000,178000,179000,180000,181000,182000,183000,184000,185000,186000,187000,188000,189000,190000,191000,192000,193000,194000,195000,196000,197000,198000,199000,200000,201000,202000,203000,204000,205000,206000,207000,208000,209000,210000,211000,212000,213000,214000,215000,216000,217000,218000,219000,220000,221000,222000,223000,224000,225000,226000,227000,228000,229000,230000,231000,232000,233000,234000,235000,236000,237000,238000,239000,240000,241000,242000,243000,244000,245000,246000,247000,248000,249000,250000,251000,252000,253000,254000,255000,256000,257000,258000,259000,260000,261000,262000,263000,264000,265000,266000,267000,268000,269000,270000,271000,272000,273000,274000,275000,276000,277000,278000,279000,280000,281000,282000,283000,284000,285000,286000,287000,288000,289000,290000,291000,292000,293000,294000,295000,296000,297000,298000,299000,300000,301000,302000,303000,304000,305000,306000,307000,308000,309000,310000,311000,312000,313000,314000,315000,316000,317000,318000,319000,320000,321000,322000,323000,324000,325000,326000,327000,328000,329000,330000,331000,332000,333000,334000,335000,336000,337000,338000,339000,340000,341000,342000,343000,344000,345000,346000,347000,348000,349000,350000,351000,352000,353000,354000,355000,356000,357000,358000,359000,360000,361000,362000,363000,364000,365000,366000,367000,368000,369000,370000,371000,372000,373000,374000,375000,376000,377000,378000,379000,380000,381000,382000,383000,384000,385000,386000,387000,388000,389000,390000,391000,392000,393000,394000,395000,396000,397000,398000,399000,400000,401000,402000,403000,404000,405000,406000,407000,408000,409000,410000,411000,412000,413000,414000,415000,416000,417000,418000,419000,420000,421000,422000,423000,424000,425000,426000,427000,428000,429000,430000,431000,432000,433000,434000,435000,436000,437000,438000,439000,440000,441000,442000,443000,444000,445000,446000,447000,448000,449000,450000,451000,452000,453000,454000,455000,456000,457000,458000,459000,460000,461000,462000,463000,464000,465000,466000,467000,468000,469000,470000,471000,472000,473000,474000,475000,476000,477000,478000,479000,480000,481000,482000,483000,484000,485000,486000,487000,488000,489000,490000,491000,492000,493000,494000,495000,496000,497000,498000,499000,500000,501000,502000,503000,504000,505000,506000,507000,508000,509000,510000,511000,512000,513000,514000,515000,516000,517000,518000,519000,520000,521000,522000,523000,524000,525000,526000,527000,528000,529000,530000,531000,532000,533000,534000,535000,536000,537000,538000,539000,540000,541000,542000,543000,544000,545000,546000,547000,548000,549000,550000,551000,552000,553000,554000,555000,556000,557000,558000,559000,560000,561000,562000,563000,564000,565000,566000,567000,568000,569000,570000,571000,572000,573000,574000,575000,576000,577000,578000,579000,580000,581000,582000,583000,584000,585000,586000,587000,588000,589000,590000,591000,592000,593000,594000,595000,596000,597000,598000,599000,600000,600000,599000,598000,597000,596000,595000,594000,593000,592000,591000,590000,589000,588000,587000,586000,585000,584000,583000,582000,581000,580000,579000,578000,577000,576000,575000,574000,573000,572000,571000,570000,569000,568000,567000,566000,565000,564000,563000,562000,561000,560000,559000,558000,557000,556000,555000,554000,553000,552000,551000,550000,549000,548000,547000,546000,545000,544000,543000,542000,541000,540000,539000,538000,537000,536000,535000,534000,533000,532000,531000,530000,529000,528000,527000,526000,525000,524000,523000,522000,521000,520000,519000,518000,517000,516000,515000,514000,513000,512000,511000,510000,509000,508000,507000,506000,505000,504000,503000,502000,501000,500000,499000,498000,497000,496000,495000,494000,493000,492000,491000,490000,489000,488000,487000,486000,485000,484000,483000,482000,481000,480000,479000,478000,477000,476000,475000,474000,473000,472000,471000,470000,469000,468000,467000,466000,465000,464000,463000,462000,461000,460000,459000,458000,457000,456000,455000,454000,453000,452000,451000,450000,449000,448000,447000,446000,445000,444000,443000,442000,441000,440000,439000,438000,437000,436000,435000,434000,433000,432000,431000,430000,429000,428000,427000,426000,425000,424000,423000,422000,421000,420000,419000,418000,417000,416000,415000,414000,413000,412000,411000,410000,409000,408000,407000,406000,405000,404000,403000,402000,401000,400000,399000,398000,397000,396000,395000,394000,393000,392000,391000,390000,389000,388000,387000,386000,385000,384000,383000,382000,381000,380000,379000,378000,377000,376000,375000,374000,373000,372000,371000,370000,369000,368000,367000,366000,365000,364000,363000,362000,361000,360000,359000,358000,357000,356000,355000,354000,353000,352000,351000,350000,349000,348000,347000,346000,345000,344000,343000,342000,341000,340000,339000,338000,337000,336000,335000,334000,333000,332000,331000,330000,329000,328000,327000,326000,325000,324000,323000,322000,321000,320000,319000,318000,317000,316000,315000,314000,313000,312000,311000,310000,309000,308000,307000,306000,305000,304000,303000,302000,301000,300000,299000,298000,297000,296000,295000,294000,293000,292000,291000,290000,289000,288000,287000,286000,285000,284000,283000,282000,281000,280000,279000,278000,277000,276000,275000,274000,273000,272000,271000,270000,269000,268000,267000,266000,265000,264000,263000,262000,261000,260000,259000,258000,257000,256000,255000,254000,253000,252000,251000,250000,249000,248000,247000,246000,245000,244000,243000,242000,241000,240000,239000,238000,237000,236000,235000,234000,233000,232000,231000,230000,229000,228000,227000,226000,225000,224000,223000,222000,221000,220000,219000,218000,217000,216000,215000,214000,213000,212000,211000,210000,209000,208000,207000,206000,205000,204000,203000,202000,201000,200000,199000,198000,197000,196000,195000,194000,193000,192000,191000,190000,189000,188000,187000,186000,185000,184000,183000,182000,181000,180000,179000,178000,177000,176000,175000,174000,173000,172000,171000,170000,169000,168000,167000,166000,165000,164000,163000,162000,161000,160000,159000,158000,157000,156000,155000,154000,153000,152000,151000,150000,149000,148000,147000,146000,145000,144000,143000,142000,141000,140000,139000,138000,137000,136000,135000,134000,133000,132000,131000,130000,129000,128000,127000,126000,125000,124000,123000,122000,121000,120000,119000,118000,117000,116000,115000,114000,113000,112000,111000,110000,109000,108000,107000,106000,105000,104000,103000,102000,101000,100000,99000,98000,97000,96000,95000,94000,93000,92000,91000,90000,89000,88000,87000,86000,85000,84000,83000,82000,81000,80000,79000,78000,77000,76000,75000,74000,73000,72000,71000,70000,69000,68000,67000,66000,65000,64000,63000,62000,61000,60000,59000,58000,57000,56000,55000,54000,53000,52000,51000,50000,49000,48000,47000,46000,45000,44000,43000,42000,41000,40000,39000,38000,37000,36000,35000,34000,33000,32000,31000,30000,29000,28000,27000,26000,25000,24000,23000,22000,21000,20000,19000,18000,17000,16000,15000,14000,13000,12000,11000,10000,9000,8000,7000,6000,5000,4000,3000,2000,1000,0],\"y\":[1,70,82,83,108,128,128,128,130,217,217,217,217,217,241,241,268,268,293,313,313,313,374,383,383,414,414,461,466,516,622,625,690,695,707,709,722,722,722,722,722,722,722,722,743,829,846,856,856,881,881,881,881,881,881,881,881,881,881,881,881,881,881,881,882,882,882,882,882,882,882,882,882,882,882,882,882,882,882,882,882,882,882,882,882,882,882,1023,1099,1256,1297,1297,1297,1297,1297,1297,1297,1297,1297,1297,1297,1297,1297,1297,1297,1297,1297,1297,1297,1297,1297,1297,1297,1297,1297,1297,1300,1300,1301,1301,1301,1301,1301,1301,1301,1301,1301,1301,1301,1301,1301,1301,1301,1301,1301,1301,1301,1301,1301,1301,1301,1301,1301,1301,1301,1301,1301,1301,1301,1301,1301,1301,1301,1301,1301,1301,1301,1301,1301,1301,1301,1301,1301,1301,1301,1301,1301,1301,1301,1301,1301,1301,1301,1301,1301,1301,1301,1301,1301,1301,1301,1301,1301,1301,1301,1301,1301,1301,1301,1301,1301,1301,1301,1301,1301,1301,1301,1301,1301,1301,1301,1301,1301,1301,1301,1301,1301,1301,1301,1301,1301,1301,1301,1301,1301,1301,1301,1301,1301,1301,1301,1301,1301,1301,1301,1301,1301,1301,1301,1301,1301,1301,1301,1301,1301,1301,1301,1301,1301,1301,1301,1301,1301,1301,1301,1301,1301,1301,1301,1301,1301,1301,1301,1301,1301,1301,1301,1301,1301,1301,1301,1301,1330,1434,1440,1440,1440,1440,1440,1440,1440,1440,1440,1440,1440,1440,1440,1440,1440,1440,1440,1440,1440,1440,1440,1440,1440,1440,1440,1440,1440,1440,1440,1440,1440,1440,1440,1440,1440,1440,1440,1440,1440,1440,1440,1440,1440,1440,1440,1440,1440,1440,1440,1440,1440,1440,1440,1440,1440,1440,1440,1440,1440,1440,1440,1440,1440,1440,1440,1440,1440,1440,1440,1440,1440,1440,1440,1440,1440,1440,1440,1440,1440,1440,1440,1440,1440,1440,1440,1440,1440,1440,1440,1440,1440,1440,1440,1440,1440,1440,1440,1440,1440,1440,1440,1440,1440,1440,1440,1440,1440,1440,1440,1440,1440,1440,1440,1440,1440,1440,1440,1440,1440,1440,1440,1440,1440,1440,1440,1440,1440,1440,1440,1440,1440,1440,1440,1440,1440,1440,1440,1440,1440,1440,1440,1440,1440,1440,1458,1483,1484,1535,1552,1552,1552,1552,1552,1552,1552,1552,1552,1552,1552,1552,1552,1552,1552,1552,1552,1552,1552,1552,1552,1552,1552,1552,1552,1552,1552,1552,1552,1552,1552,1552,1552,1552,1552,1552,1552,1552,1552,1552,1552,1552,1552,1552,1552,1552,1552,1552,1552,1552,1552,1552,1552,1552,1552,1552,1552,1552,1552,1552,1552,1552,1552,1552,1552,1552,1552,1552,1552,1552,1552,1552,1552,1552,1552,1552,1552,1552,1552,1552,1552,1552,1552,1552,1552,1552,1552,1552,1552,1552,1552,1552,1552,1552,1552,1552,1552,1552,1552,1552,1553,1586,1586,1586,1586,1586,1586,1586,1586,1586,1586,1586,1586,1586,1586,1586,1586,1586,1586,1586,1586,1586,1586,1586,1586,1586,1586,1586,1586,1586,1586,1586,1586,1586,1586,1586,1586,1586,1586,1586,1586,1586,1586,1586,1586,1586,1586,1586,1586,1586,1586,1586,1586,1586,1586,1586,1586,1586,1586,1586,1586,1586,1586,1586,1586,1586,1586,1586,1586,1586,1586,1586,1586,1586,1586,1586,1586,1586,1586,1586,1586,1586,1586,1586,1586,1586,1586,1586,2513,2513,2513,2513,2513,2513,2513,2513,2513,2513,2513,2513,2513,2513,2513,2513,2513,2513,2513,2513,2513,2513,2513,2513,2513,2513,2513,2513,2513,2513,2513,2513,2513,2513,2513,2513,2513,2513,2513,2513,2513,2513,2513,2513,2513,2513,2513,2513,2513,2513,2513,2513,2513,2513,2513,2513,2513,2513,2513,2513,2513,2507,2475,2474,2474,2474,2474,2474,2474,2474,2474,2474,2474,2474,2474,2474,2474,2474,2474,2474,2474,2474,2474,2474,2474,2474,2474,2474,2474,2474,2474,2474,2474,2474,2474,2474,2474,2474,2474,2474,2474,2474,2474,2474,2474,2474,2474,2474,2474,2474,2474,2474,2474,2474,2474,2474,2474,2474,2474,2474,2474,2474,2474,2474,2474,2474,2474,2474,2474,2474,2474,2474,2474,2474,2474,2474,2474,2474,2474,2474,2474,2474,2474,2474,2474,2474,2474,2474,2474,2474,2474,2474,2474,2474,2474,2474,2474,2474,2474,2474,2474,2474,2474,2474,2474,2474,2474,2474,2474,2474,2474,2474,2474,2474,2474,2474,2474,2474,2474,2474,2474,2474,2474,2474,2474,2474,2474,2474,2474,2474,2474,2474,2474,2474,2474,2474,2474,2474,2474,2474,2474,2474,2474,2474,2474,2474,2474,2474,2472,2471,2378,2307,2293,2249,2089,2023,2023,1997,1997,1996,1996,1996,1996,1996,1996,1996,1996,1996,1996,1996,1996,1996,1996,1996,1996,1996,1996,1996,1996,1996,1996,1996,1996,1996,1996,1996,1996,1996,1996,1996,1996,1996,1996,1996,1996,1996,1996,1996,1996,1996,1996,1996,1996,1996,1996,1996,1996,1996,1996,1996,1996,1996,1996,1996,1996,1996,1996,1996,1996,1996,1996,1996,1996,1996,1996,1996,1996,1996,1996,1996,1996,1996,1996,1996,1996,1996,1996,1996,1996,1996,1996,1996,1996,1996,1996,1996,1996,1996,1996,1996,1996,1996,1996,1996,1996,1996,1996,1996,1996,1996,1996,1996,1996,1996,1996,1996,1996,1996,1996,1996,1996,1996,1996,1996,1996,1996,1996,1996,1996,1996,1996,1996,1996,1996,1996,1996,1996,1996,1996,1996,1996,1996,1996,1996,1996,1996,1996,1996,1996,1996,1996,1996,1996,1996,1996,1996,1996,1996,1996,1996,1996,1996,1996,1996,1996,1996,1996,1996,1996,1996,1996,1996,1996,1996,1996,1996,1996,1996,1996,1996,1996,1996,1996,1996,1996,1996,1996,1996,1996,1996,1996,1996,1996,1996,1996,1996,1996,1996,1996,1996,1996,1996,1996,1996,1996,1996,1996,1996,1995,1995,1995,1995,1995,1995,1995,1995,1995,1995,1995,1995,1995,1995,1995,1995,1995,1994,1994,1994,1994,1994,1994,1994,1994,1984,1984,1984,1984,1984,1984,1984,1984,1984,1984,1984,1984,1984,1984,1984,1984,1984,1984,1984,1984,1984,1984,1984,1984,1984,1984,1984,1984,1984,1984,1984,1984,1984,1984,1984,1984,1984,1984,1984,1984,1972,1971,1937,1802,1714,1714,1714,1714,1714,1714,1714,1714,1714,1714,1714,1714,1714,1714,1714,1714,1714,1714,1714,1714,1714,1714,1714,1714,1714,1714,1714,1714,1714,1714,1714,1714,1714,1714,1714,1714,1714,1714,1714,1695,1690,1690,1510,1466,1466,1466,1451,1437,1437,1437,1437,1437,1437,1437,1437,1437,1437,1437,1437,1437,1437,1437,1437,1437,1328,1327,1327,1327,1320,1317,1316,1300,1292,1292,1292,1283,1283,1278,1278,1278,1278,1277,1277,1277,1277,1277,1277,1270,1270,1264,1229,1170,1016,1012,1012,1012,979,951,815,705,637,562,562,537,536,513,364,207,183,177,141,134,1]}},\"id\":\"e1a4aa66-c624-4968-a1e1-260ae395cfdb\",\"type\":\"ColumnDataSource\"},{\"attributes\":{\"data_source\":{\"id\":\"e1c2b85c-4f3f-482e-b293-325e9cbc04b6\",\"type\":\"ColumnDataSource\"},\"glyph\":{\"id\":\"6215b9e0-31c7-45d2-b061-09ebd9750aeb\",\"type\":\"Line\"},\"hover_glyph\":null,\"nonselection_glyph\":{\"id\":\"1e931dcc-d5a1-40b9-b39c-75f254719d96\",\"type\":\"Line\"},\"selection_glyph\":null},\"id\":\"94e61cec-7791-4e5a-ae0a-fc007ad1ca5d\",\"type\":\"GlyphRenderer\"},{\"attributes\":{\"line_color\":{\"value\":\"#ffff33\"},\"line_width\":{\"value\":2},\"x\":{\"field\":\"x\"},\"y\":{\"field\":\"y\"}},\"id\":\"c423a173-8ea3-49ac-9c0c-4491d6335c8d\",\"type\":\"Line\"},{\"attributes\":{\"line_color\":{\"value\":\"#4daf4a\"},\"line_width\":{\"value\":2},\"x\":{\"field\":\"x\"},\"y\":{\"field\":\"y\"}},\"id\":\"d510433a-a47e-47ba-af64-1c128f72474a\",\"type\":\"Line\"},{\"attributes\":{\"fill_alpha\":{\"value\":0.1},\"fill_color\":{\"value\":\"#4daf4a\"},\"line_alpha\":{\"value\":0.1},\"line_color\":{\"value\":\"#4daf4a\"},\"x\":{\"field\":\"x\"},\"y\":{\"field\":\"y\"}},\"id\":\"802133a6-ead0-4810-a53a-1eeae8d57225\",\"type\":\"Patch\"},{\"attributes\":{\"line_alpha\":{\"value\":0.1},\"line_color\":{\"value\":\"#1f77b4\"},\"line_width\":{\"value\":2},\"x\":{\"field\":\"x\"},\"y\":{\"field\":\"y\"}},\"id\":\"8839fd3d-d8b6-4911-abe1-f2d4275f69f0\",\"type\":\"Line\"},{\"attributes\":{\"line_color\":{\"value\":\"#e41a1c\"},\"line_width\":{\"value\":2},\"x\":{\"field\":\"x\"},\"y\":{\"field\":\"y\"}},\"id\":\"22343564-57be-4d9e-95a4-0576aa321dd2\",\"type\":\"Line\"},{\"attributes\":{\"callback\":null,\"column_names\":[\"x\",\"y\"],\"data\":{\"x\":[0,1000,2000,3000,4000,5000,6000,7000,8000,9000,10000,11000,12000,13000,14000,15000,16000,17000,18000,19000,20000,21000,22000,23000,24000,25000,26000,27000,28000,29000,30000,31000,32000,33000,34000,35000,36000,37000,38000,39000,40000,41000,42000,43000,44000,45000,46000,47000,48000,49000,50000,51000,52000,53000,54000,55000,56000,57000,58000,59000,60000,61000,62000,63000,64000,65000,66000,67000,68000,69000,70000,71000,72000,73000,74000,75000,76000,77000,78000,79000,80000,81000,82000,83000,84000,85000,86000,87000,88000,89000,90000,91000,92000,93000,94000,95000,96000,97000,98000,99000,100000,101000,102000,103000,104000,105000,106000,107000,108000,109000,110000,111000,112000,113000,114000,115000,116000,117000,118000,119000,120000,121000,122000,123000,124000,125000,126000,127000,128000,129000,130000,131000,132000,133000,134000,135000,136000,137000,138000,139000,140000,141000,142000,143000,144000,145000,146000,147000,148000,149000,150000,151000,152000,153000,154000,155000,156000,157000,158000,159000,160000,161000,162000,163000,164000,165000,166000,167000,168000,169000,170000,171000,172000,173000,174000,175000,176000,177000,178000,179000,180000,181000,182000,183000,184000,185000,186000,187000,188000,189000,190000,191000,192000,193000,194000,195000,196000,197000,198000,199000,200000,201000,202000,203000,204000,205000,206000,207000,208000,209000,210000,211000,212000,213000,214000,215000,216000,217000,218000,219000,220000,221000,222000,223000,224000,225000,226000,227000,228000,229000,230000,231000,232000,233000,234000,235000,236000,237000,238000,239000,240000,241000,242000,243000,244000,245000,246000,247000,248000,249000,250000,251000,252000,253000,254000,255000,256000,257000,258000,259000,260000,261000,262000,263000,264000,265000,266000,267000,268000,269000,270000,271000,272000,273000,274000,275000,276000,277000,278000,279000,280000,281000,282000,283000,284000,285000,286000,287000,288000,289000,290000,291000,292000,293000,294000,295000,296000,297000,298000,299000,300000,301000,302000,303000,304000,305000,306000,307000,308000,309000,310000,311000,312000,313000,314000,315000,316000,317000,318000,319000,320000,321000,322000,323000,324000,325000,326000,327000,328000,329000,330000,331000,332000,333000,334000,335000,336000,337000,338000,339000,340000,341000,342000,343000,344000,345000,346000,347000,348000,349000,350000,351000,352000,353000,354000,355000,356000,357000,358000,359000,360000,361000,362000,363000,364000,365000,366000,367000,368000,369000,370000,371000,372000,373000,374000,375000,376000,377000,378000,379000,380000,381000,382000,383000,384000,385000,386000,387000,388000,389000,390000,391000,392000,393000,394000,395000,396000,397000,398000,399000,400000,401000,402000,403000,404000,405000,406000,407000,408000,409000,410000,411000,412000,413000,414000,415000,416000,417000,418000,419000,420000,421000,422000,423000,424000,425000,426000,427000,428000,429000,430000,431000,432000,433000,434000,435000,436000,437000,438000,439000,440000,441000,442000,443000,444000,445000,446000,447000,448000,449000,450000,451000,452000,453000,454000,455000,456000,457000,458000,459000,460000,461000,462000,463000,464000,465000,466000,467000,468000,469000,470000,471000,472000,473000,474000,475000,476000,477000,478000,479000,480000,481000,482000,483000,484000,485000,486000,487000,488000,489000,490000,491000,492000,493000,494000,495000,496000,497000,498000,499000,500000,501000,502000,503000,504000,505000,506000,507000,508000,509000,510000,511000,512000,513000,514000,515000,516000,517000,518000,519000,520000,521000,522000,523000,524000,525000,526000,527000,528000,529000,530000,531000,532000,533000,534000,535000,536000,537000,538000,539000,540000,541000,542000,543000,544000,545000,546000,547000,548000,549000,550000,551000,552000,553000,554000,555000,556000,557000,558000,559000,560000,561000,562000,563000,564000,565000,566000,567000,568000,569000,570000,571000,572000,573000,574000,575000,576000,577000,578000,579000,580000,581000,582000,583000,584000,585000,586000,587000,588000,589000,590000,591000,592000,593000,594000,595000,596000,597000,598000,599000,600000],\"y\":{\"__ndarray__\":\"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\",\"dtype\":\"float64\",\"shape\":[600]}}},\"id\":\"830e511d-d7c8-4bfd-b41f-38a5b4a6f624\",\"type\":\"ColumnDataSource\"},{\"attributes\":{\"fill_alpha\":{\"value\":0.1},\"fill_color\":{\"value\":\"#1f77b4\"},\"line_alpha\":{\"value\":0.1},\"line_color\":{\"value\":\"#1f77b4\"},\"x\":{\"field\":\"x\"},\"y\":{\"field\":\"y\"}},\"id\":\"11e9a5cf-0bbf-4879-9e6d-735e265f4140\",\"type\":\"Patch\"},{\"attributes\":{\"data_source\":{\"id\":\"8df35d53-3673-4455-8c53-ac1bc09f6dda\",\"type\":\"ColumnDataSource\"},\"glyph\":{\"id\":\"9b56dd55-d4c7-4170-9d79-1aa61d79f158\",\"type\":\"Patch\"},\"hover_glyph\":null,\"nonselection_glyph\":{\"id\":\"88599f10-5eec-469f-9bb1-18495ab404c1\",\"type\":\"Patch\"},\"selection_glyph\":null},\"id\":\"545e2874-7d83-4bb8-b533-ce20095594ea\",\"type\":\"GlyphRenderer\"},{\"attributes\":{\"active_drag\":\"auto\",\"active_scroll\":\"auto\",\"active_tap\":\"auto\",\"tools\":[{\"id\":\"ae6ffc00-eb6f-41a0-9569-23343c7ae48b\",\"type\":\"PanTool\"},{\"id\":\"dcd8a127-701f-40b3-bd67-123a302cb812\",\"type\":\"WheelZoomTool\"},{\"id\":\"4d60df76-bd21-4231-bf1e-f9d1b9fde165\",\"type\":\"BoxZoomTool\"},{\"id\":\"130e5123-268f-4ff5-a5d7-1597bd6e3d98\",\"type\":\"SaveTool\"},{\"id\":\"5bca387a-a645-4c49-bb96-008023465ade\",\"type\":\"ResetTool\"},{\"id\":\"ee913ae7-8c6c-44cf-a8fc-dce505bc97e2\",\"type\":\"HelpTool\"}]},\"id\":\"b31a9a79-ddaa-4e69-b787-3e0ceea50afb\",\"type\":\"Toolbar\"},{\"attributes\":{\"fill_alpha\":{\"value\":0.1},\"fill_color\":{\"value\":\"#377eb8\"},\"line_alpha\":{\"value\":0.1},\"line_color\":{\"value\":\"#377eb8\"},\"x\":{\"field\":\"x\"},\"y\":{\"field\":\"y\"}},\"id\":\"a70a907c-e3e2-4904-a584-238f1cfbb32b\",\"type\":\"Patch\"},{\"attributes\":{\"callback\":null},\"id\":\"e8959111-2723-4ea0-abb0-7028efa20461\",\"type\":\"DataRange1d\"},{\"attributes\":{\"axis_label\":\"States visited\",\"formatter\":{\"id\":\"2ccf95b0-7293-488f-ac8f-b6a7e8fe4369\",\"type\":\"BasicTickFormatter\"},\"plot\":{\"id\":\"484d598c-4852-4803-9524-9b441b9125e7\",\"subtype\":\"Figure\",\"type\":\"Plot\"},\"ticker\":{\"id\":\"43a690b2-5c23-4354-bfa3-dedd42b70fce\",\"type\":\"BasicTicker\"}},\"id\":\"1d85ecfb-283f-44fa-a967-7013e7c9cd54\",\"type\":\"LinearAxis\"},{\"attributes\":{\"fill_alpha\":{\"value\":0.1},\"fill_color\":{\"value\":\"#1f77b4\"},\"line_alpha\":{\"value\":0.1},\"line_color\":{\"value\":\"#1f77b4\"},\"x\":{\"field\":\"x\"},\"y\":{\"field\":\"y\"}},\"id\":\"69ece65d-5519-4ac6-b8b0-c764278393b9\",\"type\":\"Patch\"},{\"attributes\":{\"fill_alpha\":{\"value\":0.1},\"fill_color\":{\"value\":\"#1f77b4\"},\"line_alpha\":{\"value\":0.1},\"line_color\":{\"value\":\"#1f77b4\"},\"x\":{\"field\":\"x\"},\"y\":{\"field\":\"y\"}},\"id\":\"14da5b4a-2288-46bf-94c7-e11ffc0ea4b5\",\"type\":\"Patch\"},{\"attributes\":{\"fill_alpha\":{\"value\":0.1},\"fill_color\":{\"value\":\"#e41a1c\"},\"line_alpha\":{\"value\":0.1},\"line_color\":{\"value\":\"#e41a1c\"},\"x\":{\"field\":\"x\"},\"y\":{\"field\":\"y\"}},\"id\":\"43feca9e-4696-4eb7-8103-8fd392fe44f1\",\"type\":\"Patch\"},{\"attributes\":{\"line_alpha\":{\"value\":0.1},\"line_color\":{\"value\":\"#1f77b4\"},\"line_width\":{\"value\":2},\"x\":{\"field\":\"x\"},\"y\":{\"field\":\"y\"}},\"id\":\"72638a84-f0ff-4c67-9eee-6def597f8cd9\",\"type\":\"Line\"},{\"attributes\":{\"callback\":null,\"column_names\":[\"x\",\"y\"],\"data\":{\"x\":[0,1000,2000,3000,4000,5000,6000,7000,8000,9000,10000,11000,12000,13000,14000,15000,16000,17000,18000,19000,20000,21000,22000,23000,24000,25000,26000,27000,28000,29000,30000,31000,32000,33000,34000,35000,36000,37000,38000,39000,40000,41000,42000,43000,44000,45000,46000,47000,48000,49000,50000,51000,52000,53000,54000,55000,56000,57000,58000,59000,60000,61000,62000,63000,64000,65000,66000,67000,68000,69000,70000,71000,72000,73000,74000,75000,76000,77000,78000,79000,80000,81000,82000,83000,84000,85000,86000,87000,88000,89000,90000,91000,92000,93000,94000,95000,96000,97000,98000,99000,100000,101000,102000,103000,104000,105000,106000,107000,108000,109000,110000,111000,112000,113000,114000,115000,116000,117000,118000,119000,120000,121000,122000,123000,124000,125000,126000,127000,128000,129000,130000,131000,132000,133000,134000,135000,136000,137000,138000,139000,140000,141000,142000,143000,144000,145000,146000,147000,148000,149000,150000,151000,152000,153000,154000,155000,156000,157000,158000,159000,160000,161000,162000,163000,164000,165000,166000,167000,168000,169000,170000,171000,172000,173000,174000,175000,176000,177000,178000,179000,180000,181000,182000,183000,184000,185000,186000,187000,188000,189000,190000,191000,192000,193000,194000,195000,196000,197000,198000,199000,200000,201000,202000,203000,204000,205000,206000,207000,208000,209000,210000,211000,212000,213000,214000,215000,216000,217000,218000,219000,220000,221000,222000,223000,224000,225000,226000,227000,228000,229000,230000,231000,232000,233000,234000,235000,236000,237000,238000,239000,240000,241000,242000,243000,244000,245000,246000,247000,248000,249000,250000,251000,252000,253000,254000,255000,256000,257000,258000,259000,260000,261000,262000,263000,264000,265000,266000,267000,268000,269000,270000,271000,272000,273000,274000,275000,276000,277000,278000,279000,280000,281000,282000,283000,284000,285000,286000,287000,288000,289000,290000,291000,292000,293000,294000,295000,296000,297000,298000,299000,300000,301000,302000,303000,304000,305000,306000,307000,308000,309000,310000,311000,312000,313000,314000,315000,316000,317000,318000,319000,320000,321000,322000,323000,324000,325000,326000,327000,328000,329000,330000,331000,332000,333000,334000,335000,336000,337000,338000,339000,340000,341000,342000,343000,344000,345000,346000,347000,348000,349000,350000,351000,352000,353000,354000,355000,356000,357000,358000,359000,360000,361000,362000,363000,364000,365000,366000,367000,368000,369000,370000,371000,372000,373000,374000,375000,376000,377000,378000,379000,380000,381000,382000,383000,384000,385000,386000,387000,388000,389000,390000,391000,392000,393000,394000,395000,396000,397000,398000,399000,400000,401000,402000,403000,404000,405000,406000,407000,408000,409000,410000,411000,412000,413000,414000,415000,416000,417000,418000,419000,420000,421000,422000,423000,424000,425000,426000,427000,428000,429000,430000,431000,432000,433000,434000,435000,436000,437000,438000,439000,440000,441000,442000,443000,444000,445000,446000,447000,448000,449000,450000,451000,452000,453000,454000,455000,456000,457000,458000,459000,460000,461000,462000,463000,464000,465000,466000,467000,468000,469000,470000,471000,472000,473000,474000,475000,476000,477000,478000,479000,480000,481000,482000,483000,484000,485000,486000,487000,488000,489000,490000,491000,492000,493000,494000,495000,496000,497000,498000,499000,500000,501000,502000,503000,504000,505000,506000,507000,508000,509000,510000,511000,512000,513000,514000,515000,516000,517000,518000,519000,520000,521000,522000,523000,524000,525000,526000,527000,528000,529000,530000,531000,532000,533000,534000,535000,536000,537000,538000,539000,540000,541000,542000,543000,544000,545000,546000,547000,548000,549000,550000,551000,552000,553000,554000,555000,556000,557000,558000,559000,560000,561000,562000,563000,564000,565000,566000,567000,568000,569000,570000,571000,572000,573000,574000,575000,576000,577000,578000,579000,580000,581000,582000,583000,584000,585000,586000,587000,588000,589000,590000,591000,592000,593000,594000,595000,596000,597000,598000,599000,600000,600000,599000,598000,597000,596000,595000,594000,593000,592000,591000,590000,589000,588000,587000,586000,585000,584000,583000,582000,581000,580000,579000,578000,577000,576000,575000,574000,573000,572000,571000,570000,569000,568000,567000,566000,565000,564000,563000,562000,561000,560000,559000,558000,557000,556000,555000,554000,553000,552000,551000,550000,549000,548000,547000,546000,545000,544000,543000,542000,541000,540000,539000,538000,537000,536000,535000,534000,533000,532000,531000,530000,529000,528000,527000,526000,525000,524000,523000,522000,521000,520000,519000,518000,517000,516000,515000,514000,513000,512000,511000,510000,509000,508000,507000,506000,505000,504000,503000,502000,501000,500000,499000,498000,497000,496000,495000,494000,493000,492000,491000,490000,489000,488000,487000,486000,485000,484000,483000,482000,481000,480000,479000,478000,477000,476000,475000,474000,473000,472000,471000,470000,469000,468000,467000,466000,465000,464000,463000,462000,461000,460000,459000,458000,457000,456000,455000,454000,453000,452000,451000,450000,449000,448000,447000,446000,445000,444000,443000,442000,441000,440000,439000,438000,437000,436000,435000,434000,433000,432000,431000,430000,429000,428000,427000,426000,425000,424000,423000,422000,421000,420000,419000,418000,417000,416000,415000,414000,413000,412000,411000,410000,409000,408000,407000,406000,405000,404000,403000,402000,401000,400000,399000,398000,397000,396000,395000,394000,393000,392000,391000,390000,389000,388000,387000,386000,385000,384000,383000,382000,381000,380000,379000,378000,377000,376000,375000,374000,373000,372000,371000,370000,369000,368000,367000,366000,365000,364000,363000,362000,361000,360000,359000,358000,357000,356000,355000,354000,353000,352000,351000,350000,349000,348000,347000,346000,345000,344000,343000,342000,341000,340000,339000,338000,337000,336000,335000,334000,333000,332000,331000,330000,329000,328000,327000,326000,325000,324000,323000,322000,321000,320000,319000,318000,317000,316000,315000,314000,313000,312000,311000,310000,309000,308000,307000,306000,305000,304000,303000,302000,301000,300000,299000,298000,297000,296000,295000,294000,293000,292000,291000,290000,289000,288000,287000,286000,285000,284000,283000,282000,281000,280000,279000,278000,277000,276000,275000,274000,273000,272000,271000,270000,269000,268000,267000,266000,265000,264000,263000,262000,261000,260000,259000,258000,257000,256000,255000,254000,253000,252000,251000,250000,249000,248000,247000,246000,245000,244000,243000,242000,241000,240000,239000,238000,237000,236000,235000,234000,233000,232000,231000,230000,229000,228000,227000,226000,225000,224000,223000,222000,221000,220000,219000,218000,217000,216000,215000,214000,213000,212000,211000,210000,209000,208000,207000,206000,205000,204000,203000,202000,201000,200000,199000,198000,197000,196000,195000,194000,193000,192000,191000,190000,189000,188000,187000,186000,185000,184000,183000,182000,181000,180000,179000,178000,177000,176000,175000,174000,173000,172000,171000,170000,169000,168000,167000,166000,165000,164000,163000,162000,161000,160000,159000,158000,157000,156000,155000,154000,153000,152000,151000,150000,149000,148000,147000,146000,145000,144000,143000,142000,141000,140000,139000,138000,137000,136000,135000,134000,133000,132000,131000,130000,129000,128000,127000,126000,125000,124000,123000,122000,121000,120000,119000,118000,117000,116000,115000,114000,113000,112000,111000,110000,109000,108000,107000,106000,105000,104000,103000,102000,101000,100000,99000,98000,97000,96000,95000,94000,93000,92000,91000,90000,89000,88000,87000,86000,85000,84000,83000,82000,81000,80000,79000,78000,77000,76000,75000,74000,73000,72000,71000,70000,69000,68000,67000,66000,65000,64000,63000,62000,61000,60000,59000,58000,57000,56000,55000,54000,53000,52000,51000,50000,49000,48000,47000,46000,45000,44000,43000,42000,41000,40000,39000,38000,37000,36000,35000,34000,33000,32000,31000,30000,29000,28000,27000,26000,25000,24000,23000,22000,21000,20000,19000,18000,17000,16000,15000,14000,13000,12000,11000,10000,9000,8000,7000,6000,5000,4000,3000,2000,1000,0],\"y\":[1,81,100,125,172,215,215,215,215,215,246,246,265,265,266,266,266,266,266,266,266,266,266,266,266,271,271,271,271,271,271,271,271,271,271,271,271,271,271,271,271,271,271,271,271,271,271,271,271,271,271,271,271,271,271,271,271,271,271,271,271,271,271,271,271,271,271,271,271,271,271,271,271,271,271,271,271,271,271,271,271,271,271,271,271,271,271,271,271,271,271,271,271,271,271,271,271,271,271,271,271,271,271,271,271,271,271,271,271,271,271,271,271,271,271,271,271,271,271,271,271,271,271,271,271,271,271,271,271,271,271,271,271,271,271,271,271,271,271,271,271,271,271,271,271,271,271,271,271,271,271,271,271,271,271,271,271,271,271,271,271,271,271,271,271,271,271,271,271,271,271,271,271,271,271,271,271,271,271,271,271,271,271,271,271,271,271,271,271,271,271,271,271,271,271,271,271,271,271,271,271,271,271,271,271,271,271,271,271,271,271,271,271,271,271,271,271,271,271,271,271,271,271,271,271,271,271,271,271,271,271,271,271,271,271,271,271,271,271,271,271,271,271,271,271,271,271,271,271,271,271,271,271,271,271,271,271,271,271,271,271,271,271,271,271,271,271,271,271,271,271,271,271,271,271,271,271,271,271,271,271,271,271,271,271,271,271,271,271,271,271,271,271,271,271,271,271,271,271,271,271,271,271,271,271,271,271,271,271,271,271,271,271,271,271,271,271,271,271,271,271,271,271,271,271,271,271,271,271,271,271,271,271,271,271,271,271,271,271,271,271,271,271,271,271,271,271,271,271,271,271,271,271,271,271,271,271,271,271,271,271,271,271,271,271,271,271,271,271,271,271,271,271,271,271,271,271,271,271,271,271,271,271,271,271,271,271,271,271,271,271,271,271,271,271,271,271,271,271,271,271,271,271,271,271,271,271,271,271,271,271,271,271,271,271,271,271,271,271,271,271,271,271,271,271,271,271,271,271,271,271,271,271,271,271,271,271,271,271,271,271,271,271,271,271,271,271,271,271,271,271,271,271,271,271,271,271,271,271,271,271,271,271,271,271,271,271,271,271,271,271,271,271,271,271,271,271,271,271,271,271,271,271,271,271,271,271,271,271,271,271,271,271,271,271,271,271,271,271,271,271,271,271,271,271,271,271,271,271,271,271,271,271,271,271,271,271,271,271,271,271,271,271,271,271,271,271,271,271,271,271,271,271,271,271,271,271,271,271,271,271,271,271,271,271,271,271,271,271,271,271,271,271,271,271,271,271,271,271,271,271,271,271,271,271,271,271,271,271,271,271,271,271,271,271,271,271,271,271,271,271,271,271,271,271,271,271,271,271,271,271,271,271,271,271,271,271,271,271,271,1071,1071,1071,1071,1071,1071,1071,1071,1071,1071,1071,1071,1071,1071,1071,1071,1071,1071,1071,1071,1071,1071,1071,1071,1071,1071,1071,1071,1071,1071,1071,1071,1071,1071,1071,1071,1071,1071,1071,1071,1071,1071,1071,1071,1071,1071,1071,1071,1071,1071,1071,1071,1071,1071,1071,1071,1071,1071,1071,1071,1071,1071,1071,1071,1071,1071,1071,1071,1071,1071,1071,1071,1071,1071,1071,1071,1071,1071,1071,1071,1071,1071,1071,1071,1071,1071,1071,1071,1071,1071,1071,1071,1071,1071,1071,1071,1071,1071,1071,1071,1071,1071,1071,1071,1071,1071,1071,1071,1071,1071,1071,1071,1071,1071,1071,1071,1071,1071,1071,1071,1071,1071,1071,1071,1071,1071,1071,1071,1071,1071,1071,1071,1071,1071,1071,1071,1071,1071,1071,1071,1071,1071,1071,1071,1071,1071,1071,1071,1071,1071,1071,1071,1071,1071,1071,1071,1071,1071,1071,1071,1071,1071,1071,1071,1071,1071,1071,1071,1071,1071,1071,1071,1071,1071,1071,1071,1071,1071,1071,1071,1071,1071,1071,1071,1071,1071,1071,1071,1071,1071,1071,1071,1071,1071,1071,1071,1071,1071,1071,1071,1071,1071,1071,1071,1071,1071,1071,1071,1071,1071,1071,1071,1071,1071,1071,1071,1071,1071,1071,1071,1071,1071,1071,1071,1071,1071,1071,1071,1071,1071,1071,1071,1071,1071,1071,1071,1071,1071,1071,1071,1071,1071,1071,1071,1071,1071,1071,1071,1071,1071,1071,1071,1071,1071,1071,1071,1071,1071,1071,1071,1071,1071,1071,1071,1071,1071,1071,1071,1071,1071,1071,1071,1071,1071,1071,1071,1071,1071,1071,1071,1071,1071,1071,1071,1071,1071,1071,1071,1071,1071,1071,1071,1071,1071,1071,1071,1071,1071,1071,1071,1071,1071,1071,1071,1071,1071,1071,1071,1071,1071,1071,1071,1071,1071,1071,1071,1071,1071,1071,1071,1071,1071,1071,1071,1071,1071,1071,1071,1071,1071,1071,1071,1071,1071,1071,1071,1071,1071,1071,1071,1071,1071,1071,1071,1071,1071,1071,1071,1071,1071,1071,1071,1071,1071,1071,1071,1071,1071,1071,1071,1071,1071,1071,1071,1071,1071,1071,1071,1071,1071,1071,1071,1071,1071,1071,1071,1071,1071,1071,1071,1071,1071,1071,1071,1071,1071,1071,1071,1071,1071,1071,1071,1071,1071,1071,1071,1071,1071,1071,1071,1071,1071,1071,1071,1071,1071,1071,1071,1071,1071,1071,1071,1071,1071,1071,1071,1071,1071,1071,1071,1071,1071,1071,1071,1071,1071,1071,1071,1071,1071,1071,1071,1071,1071,1071,1071,1071,1071,1071,1071,1071,1071,1071,1071,1071,1071,1071,1071,1071,1071,1071,1071,1071,1071,1071,1071,1071,1071,1071,1071,1071,1071,1071,1071,1071,1071,1071,1071,1071,1071,1071,1071,1071,1071,1071,1071,1071,1071,1071,1071,1071,1071,1071,1071,1071,1071,1071,1071,1071,1071,1071,1071,1070,1068,1058,1053,1053,1053,1053,1053,1053,1053,1053,1053,1053,1053,1053,1053,1053,1053,1053,1053,1053,1053,1053,1053,1053,1053,1053,1053,1053,1053,1053,1053,1053,1053,1053,1053,1053,1053,1053,1053,1053,1053,1053,1053,1053,1053,1053,1053,1053,1053,1053,1053,1053,1053,1053,1053,1053,1053,1053,1053,1053,1053,1053,1053,1053,1053,1053,1053,1053,1053,1053,1053,1053,1053,1053,1053,1053,1053,1053,1053,1053,1053,1053,1053,1053,1051,1051,1051,1051,1051,1051,1050,1030,973,958,958,922,883,749,705,686,618,404,253,246,246,195,1]}},\"id\":\"12dcaa1c-4190-4121-8b9d-c114f5d38816\",\"type\":\"ColumnDataSource\"},{\"attributes\":{\"axis_label\":\"T\",\"formatter\":{\"id\":\"8f05a2d9-ac49-41cf-a516-04aa852d98f7\",\"type\":\"BasicTickFormatter\"},\"plot\":{\"id\":\"484d598c-4852-4803-9524-9b441b9125e7\",\"subtype\":\"Figure\",\"type\":\"Plot\"},\"ticker\":{\"id\":\"12a24b29-f271-4f63-b9c1-760330aef2d9\",\"type\":\"BasicTicker\"}},\"id\":\"6517c2b7-3242-43f2-97a0-08e633a76409\",\"type\":\"LinearAxis\"},{\"attributes\":{\"data_source\":{\"id\":\"830e511d-d7c8-4bfd-b41f-38a5b4a6f624\",\"type\":\"ColumnDataSource\"},\"glyph\":{\"id\":\"f93e4449-39a0-4a84-8e46-4777b48a4d14\",\"type\":\"Line\"},\"hover_glyph\":null,\"nonselection_glyph\":{\"id\":\"8839fd3d-d8b6-4911-abe1-f2d4275f69f0\",\"type\":\"Line\"},\"selection_glyph\":null},\"id\":\"52f20059-43ba-4e4a-9234-1c50d78cad1b\",\"type\":\"GlyphRenderer\"},{\"attributes\":{\"callback\":null,\"column_names\":[\"x\",\"y\"],\"data\":{\"x\":[0,1000,2000,3000,4000,5000,6000,7000,8000,9000,10000,11000,12000,13000,14000,15000,16000,17000,18000,19000,20000,21000,22000,23000,24000,25000,26000,27000,28000,29000,30000,31000,32000,33000,34000,35000,36000,37000,38000,39000,40000,41000,42000,43000,44000,45000,46000,47000,48000,49000,50000,51000,52000,53000,54000,55000,56000,57000,58000,59000,60000,61000,62000,63000,64000,65000,66000,67000,68000,69000,70000,71000,72000,73000,74000,75000,76000,77000,78000,79000,80000,81000,82000,83000,84000,85000,86000,87000,88000,89000,90000,91000,92000,93000,94000,95000,96000,97000,98000,99000,100000,101000,102000,103000,104000,105000,106000,107000,108000,109000,110000,111000,112000,113000,114000,115000,116000,117000,118000,119000,120000,121000,122000,123000,124000,125000,126000,127000,128000,129000,130000,131000,132000,133000,134000,135000,136000,137000,138000,139000,140000,141000,142000,143000,144000,145000,146000,147000,148000,149000,150000,151000,152000,153000,154000,155000,156000,157000,158000,159000,160000,161000,162000,163000,164000,165000,166000,167000,168000,169000,170000,171000,172000,173000,174000,175000,176000,177000,178000,179000,180000,181000,182000,183000,184000,185000,186000,187000,188000,189000,190000,191000,192000,193000,194000,195000,196000,197000,198000,199000,200000,201000,202000,203000,204000,205000,206000,207000,208000,209000,210000,211000,212000,213000,214000,215000,216000,217000,218000,219000,220000,221000,222000,223000,224000,225000,226000,227000,228000,229000,230000,231000,232000,233000,234000,235000,236000,237000,238000,239000,240000,241000,242000,243000,244000,245000,246000,247000,248000,249000,250000,251000,252000,253000,254000,255000,256000,257000,258000,259000,260000,261000,262000,263000,264000,265000,266000,267000,268000,269000,270000,271000,272000,273000,274000,275000,276000,277000,278000,279000,280000,281000,282000,283000,284000,285000,286000,287000,288000,289000,290000,291000,292000,293000,294000,295000,296000,297000,298000,299000,300000,301000,302000,303000,304000,305000,306000,307000,308000,309000,310000,311000,312000,313000,314000,315000,316000,317000,318000,319000,320000,321000,322000,323000,324000,325000,326000,327000,328000,329000,330000,331000,332000,333000,334000,335000,336000,337000,338000,339000,340000,341000,342000,343000,344000,345000,346000,347000,348000,349000,350000,351000,352000,353000,354000,355000,356000,357000,358000,359000,360000,361000,362000,363000,364000,365000,366000,367000,368000,369000,370000,371000,372000,373000,374000,375000,376000,377000,378000,379000,380000,381000,382000,383000,384000,385000,386000,387000,388000,389000,390000,391000,392000,393000,394000,395000,396000,397000,398000,399000,400000,401000,402000,403000,404000,405000,406000,407000,408000,409000,410000,411000,412000,413000,414000,415000,416000,417000,418000,419000,420000,421000,422000,423000,424000,425000,426000,427000,428000,429000,430000,431000,432000,433000,434000,435000,436000,437000,438000,439000,440000,441000,442000,443000,444000,445000,446000,447000,448000,449000,450000,451000,452000,453000,454000,455000,456000,457000,458000,459000,460000,461000,462000,463000,464000,465000,466000,467000,468000,469000,470000,471000,472000,473000,474000,475000,476000,477000,478000,479000,480000,481000,482000,483000,484000,485000,486000,487000,488000,489000,490000,491000,492000,493000,494000,495000,496000,497000,498000,499000,500000,501000,502000,503000,504000,505000,506000,507000,508000,509000,510000,511000,512000,513000,514000,515000,516000,517000,518000,519000,520000,521000,522000,523000,524000,525000,526000,527000,528000,529000,530000,531000,532000,533000,534000,535000,536000,537000,538000,539000,540000,541000,542000,543000,544000,545000,546000,547000,548000,549000,550000,551000,552000,553000,554000,555000,556000,557000,558000,559000,560000,561000,562000,563000,564000,565000,566000,567000,568000,569000,570000,571000,572000,573000,574000,575000,576000,577000,578000,579000,580000,581000,582000,583000,584000,585000,586000,587000,588000,589000,590000,591000,592000,593000,594000,595000,596000,597000,598000,599000,600000,600000,599000,598000,597000,596000,595000,594000,593000,592000,591000,590000,589000,588000,587000,586000,585000,584000,583000,582000,581000,580000,579000,578000,577000,576000,575000,574000,573000,572000,571000,570000,569000,568000,567000,566000,565000,564000,563000,562000,561000,560000,559000,558000,557000,556000,555000,554000,553000,552000,551000,550000,549000,548000,547000,546000,545000,544000,543000,542000,541000,540000,539000,538000,537000,536000,535000,534000,533000,532000,531000,530000,529000,528000,527000,526000,525000,524000,523000,522000,521000,520000,519000,518000,517000,516000,515000,514000,513000,512000,511000,510000,509000,508000,507000,506000,505000,504000,503000,502000,501000,500000,499000,498000,497000,496000,495000,494000,493000,492000,491000,490000,489000,488000,487000,486000,485000,484000,483000,482000,481000,480000,479000,478000,477000,476000,475000,474000,473000,472000,471000,470000,469000,468000,467000,466000,465000,464000,463000,462000,461000,460000,459000,458000,457000,456000,455000,454000,453000,452000,451000,450000,449000,448000,447000,446000,445000,444000,443000,442000,441000,440000,439000,438000,437000,436000,435000,434000,433000,432000,431000,430000,429000,428000,427000,426000,425000,424000,423000,422000,421000,420000,419000,418000,417000,416000,415000,414000,413000,412000,411000,410000,409000,408000,407000,406000,405000,404000,403000,402000,401000,400000,399000,398000,397000,396000,395000,394000,393000,392000,391000,390000,389000,388000,387000,386000,385000,384000,383000,382000,381000,380000,379000,378000,377000,376000,375000,374000,373000,372000,371000,370000,369000,368000,367000,366000,365000,364000,363000,362000,361000,360000,359000,358000,357000,356000,355000,354000,353000,352000,351000,350000,349000,348000,347000,346000,345000,344000,343000,342000,341000,340000,339000,338000,337000,336000,335000,334000,333000,332000,331000,330000,329000,328000,327000,326000,325000,324000,323000,322000,321000,320000,319000,318000,317000,316000,315000,314000,313000,312000,311000,310000,309000,308000,307000,306000,305000,304000,303000,302000,301000,300000,299000,298000,297000,296000,295000,294000,293000,292000,291000,290000,289000,288000,287000,286000,285000,284000,283000,282000,281000,280000,279000,278000,277000,276000,275000,274000,273000,272000,271000,270000,269000,268000,267000,266000,265000,264000,263000,262000,261000,260000,259000,258000,257000,256000,255000,254000,253000,252000,251000,250000,249000,248000,247000,246000,245000,244000,243000,242000,241000,240000,239000,238000,237000,236000,235000,234000,233000,232000,231000,230000,229000,228000,227000,226000,225000,224000,223000,222000,221000,220000,219000,218000,217000,216000,215000,214000,213000,212000,211000,210000,209000,208000,207000,206000,205000,204000,203000,202000,201000,200000,199000,198000,197000,196000,195000,194000,193000,192000,191000,190000,189000,188000,187000,186000,185000,184000,183000,182000,181000,180000,179000,178000,177000,176000,175000,174000,173000,172000,171000,170000,169000,168000,167000,166000,165000,164000,163000,162000,161000,160000,159000,158000,157000,156000,155000,154000,153000,152000,151000,150000,149000,148000,147000,146000,145000,144000,143000,142000,141000,140000,139000,138000,137000,136000,135000,134000,133000,132000,131000,130000,129000,128000,127000,126000,125000,124000,123000,122000,121000,120000,119000,118000,117000,116000,115000,114000,113000,112000,111000,110000,109000,108000,107000,106000,105000,104000,103000,102000,101000,100000,99000,98000,97000,96000,95000,94000,93000,92000,91000,90000,89000,88000,87000,86000,85000,84000,83000,82000,81000,80000,79000,78000,77000,76000,75000,74000,73000,72000,71000,70000,69000,68000,67000,66000,65000,64000,63000,62000,61000,60000,59000,58000,57000,56000,55000,54000,53000,52000,51000,50000,49000,48000,47000,46000,45000,44000,43000,42000,41000,40000,39000,38000,37000,36000,35000,34000,33000,32000,31000,30000,29000,28000,27000,26000,25000,24000,23000,22000,21000,20000,19000,18000,17000,16000,15000,14000,13000,12000,11000,10000,9000,8000,7000,6000,5000,4000,3000,2000,1000,0],\"y\":[1,65,98,188,192,192,192,192,230,254,254,279,279,279,295,352,352,352,352,352,352,352,352,352,352,352,352,352,352,352,352,352,352,352,352,352,352,352,352,352,352,352,352,352,352,352,352,352,352,352,352,352,352,352,352,352,352,352,352,352,352,352,352,352,352,352,352,352,352,352,352,352,352,352,352,352,352,352,352,352,352,352,352,352,352,352,352,352,352,352,352,352,352,352,352,352,352,352,352,352,352,352,352,352,352,352,352,352,352,352,352,352,352,352,352,352,352,352,352,352,352,352,352,352,352,352,352,352,352,352,352,352,352,352,352,352,352,352,352,352,352,352,352,352,352,352,352,352,352,352,352,352,352,352,352,352,352,352,352,352,352,352,352,352,352,352,352,352,352,352,352,352,352,352,352,352,352,352,352,352,352,352,352,352,352,352,352,352,352,352,352,352,352,352,352,352,352,352,352,352,352,352,352,352,352,352,352,352,352,352,352,352,352,352,352,352,352,352,352,352,352,352,352,352,352,352,352,352,352,352,352,352,352,352,352,352,352,352,352,352,352,352,352,352,352,352,352,352,352,352,352,352,352,352,352,352,352,352,352,352,352,352,352,352,352,352,352,352,352,352,352,352,352,352,352,352,352,352,352,352,352,352,352,352,352,352,352,352,352,352,352,352,352,352,352,352,352,352,352,352,352,352,352,352,352,352,352,352,352,352,352,352,352,352,352,352,352,352,352,352,352,352,352,352,352,352,352,352,352,352,352,352,352,352,352,352,352,352,352,352,352,352,352,352,352,352,352,352,352,352,352,352,352,352,352,352,352,352,352,352,352,352,352,352,352,352,352,352,352,352,352,352,352,352,352,352,352,352,352,352,352,352,352,352,352,352,352,352,352,352,352,352,352,352,352,352,352,352,352,352,352,352,352,352,352,352,352,352,352,352,352,352,352,352,352,352,352,352,352,352,352,352,352,352,352,352,352,352,352,352,352,352,352,352,352,352,352,352,352,352,352,352,352,352,352,352,352,352,352,352,352,352,352,352,352,352,352,352,352,352,352,352,352,352,352,352,352,352,352,352,352,352,352,352,352,352,352,352,352,352,352,352,352,352,352,352,352,352,352,352,352,352,352,352,352,352,352,352,352,352,352,352,352,352,352,352,352,352,352,352,352,352,352,352,352,352,352,352,352,352,352,352,352,352,352,352,352,352,352,352,352,352,352,352,352,352,352,352,352,352,352,352,352,352,352,352,352,352,352,352,352,352,352,352,352,352,352,352,352,352,352,352,352,352,352,352,352,352,352,352,352,352,352,352,352,352,352,352,352,352,352,352,352,352,352,352,352,352,352,352,352,352,352,352,352,352,352,352,352,352,749,749,749,749,749,749,749,749,749,749,749,749,749,749,749,749,749,749,749,749,749,749,749,749,749,749,749,749,749,749,749,749,749,749,749,749,749,749,749,749,749,749,749,749,749,749,749,749,749,749,749,749,749,749,749,749,749,749,749,749,749,749,749,749,749,749,749,749,749,749,749,749,749,749,749,749,749,749,749,749,749,749,749,749,749,749,749,749,749,749,749,749,749,749,749,749,749,749,749,749,749,749,749,749,749,749,749,749,749,749,749,749,749,749,749,749,749,749,749,749,749,749,749,749,749,749,749,749,749,749,749,749,749,749,749,749,749,749,749,749,749,749,749,749,749,749,749,749,749,749,749,749,749,749,749,749,749,749,749,749,749,749,749,749,749,749,749,749,749,749,749,749,749,749,749,749,749,749,749,749,749,749,749,749,749,749,749,749,749,749,749,749,749,749,749,749,749,749,749,749,749,749,749,749,749,749,749,749,749,749,749,749,749,749,749,749,749,749,749,749,749,749,749,749,749,749,749,749,749,749,749,749,749,749,749,749,749,749,749,749,749,749,749,749,749,749,749,749,749,749,749,749,749,749,749,749,749,749,749,749,749,749,749,749,749,749,749,749,749,749,749,749,749,749,749,749,749,749,749,749,749,749,749,749,749,749,749,749,749,749,749,749,749,749,749,749,749,749,749,749,749,749,749,749,749,749,749,749,749,749,749,749,749,749,749,749,749,749,749,749,749,749,749,749,749,749,749,749,749,749,749,749,749,749,749,749,749,749,749,749,749,749,749,749,749,749,749,749,749,749,749,749,749,749,749,749,749,749,749,749,749,749,749,749,749,749,749,749,749,749,749,749,749,749,749,749,749,749,749,749,749,749,749,749,749,749,749,749,749,749,749,749,749,749,749,749,749,749,749,749,749,749,749,749,749,749,749,749,749,749,749,749,749,749,749,749,749,749,749,749,749,749,749,749,749,749,749,749,749,749,749,744,744,744,744,744,744,744,744,744,744,744,744,744,744,744,744,744,744,744,744,744,744,744,744,744,744,744,744,744,744,744,744,744,744,744,744,744,744,744,744,744,744,744,744,744,744,744,744,744,744,744,744,744,744,744,744,744,744,744,744,744,744,744,744,744,744,744,744,744,744,744,744,744,744,744,744,744,744,744,744,744,744,744,744,744,744,744,744,744,744,744,744,744,744,744,744,744,744,744,744,744,744,744,744,744,744,744,744,744,744,744,744,744,744,744,744,744,744,744,744,744,744,744,744,744,744,744,744,744,744,744,744,744,744,744,744,744,744,744,744,744,744,744,743,743,743,743,743,743,743,742,567,485,457,457,457,457,450,450,431,431,431,425,424,379,371,312,211,1]}},\"id\":\"a01ce1a1-f708-43ac-b2ad-96e6058df61c\",\"type\":\"ColumnDataSource\"},{\"attributes\":{\"fill_alpha\":{\"value\":0.1},\"fill_color\":{\"value\":\"#984ea3\"},\"line_alpha\":{\"value\":0.1},\"line_color\":{\"value\":\"#984ea3\"},\"x\":{\"field\":\"x\"},\"y\":{\"field\":\"y\"}},\"id\":\"905e0f00-c7fb-4daf-a15a-f669ab4b4045\",\"type\":\"Patch\"},{\"attributes\":{\"line_color\":{\"value\":\"#377eb8\"},\"line_width\":{\"value\":2},\"x\":{\"field\":\"x\"},\"y\":{\"field\":\"y\"}},\"id\":\"f93e4449-39a0-4a84-8e46-4777b48a4d14\",\"type\":\"Line\"},{\"attributes\":{\"data_source\":{\"id\":\"a0de2abc-a60c-45b2-b2a3-4f4d28a76aac\",\"type\":\"ColumnDataSource\"},\"glyph\":{\"id\":\"22343564-57be-4d9e-95a4-0576aa321dd2\",\"type\":\"Line\"},\"hover_glyph\":null,\"nonselection_glyph\":{\"id\":\"9d11c601-28d5-4844-a66c-4d912176e266\",\"type\":\"Line\"},\"selection_glyph\":null},\"id\":\"aff9d6c6-8593-4ee2-99cb-ca9e8eecb2c0\",\"type\":\"GlyphRenderer\"},{\"attributes\":{\"data_source\":{\"id\":\"a01ce1a1-f708-43ac-b2ad-96e6058df61c\",\"type\":\"ColumnDataSource\"},\"glyph\":{\"id\":\"a70a907c-e3e2-4904-a584-238f1cfbb32b\",\"type\":\"Patch\"},\"hover_glyph\":null,\"nonselection_glyph\":{\"id\":\"14da5b4a-2288-46bf-94c7-e11ffc0ea4b5\",\"type\":\"Patch\"},\"selection_glyph\":null},\"id\":\"4a6db4c6-7e03-4e6d-8116-c7c698871aa4\",\"type\":\"GlyphRenderer\"},{\"attributes\":{\"label\":{\"value\":\"1 Step 1 Nscaling\"},\"renderers\":[{\"id\":\"aff9d6c6-8593-4ee2-99cb-ca9e8eecb2c0\",\"type\":\"GlyphRenderer\"}]},\"id\":\"a54d6b9a-ff0a-4054-9a72-3f2407e3fa5f\",\"type\":\"LegendItem\"},{\"attributes\":{},\"id\":\"12a24b29-f271-4f63-b9c1-760330aef2d9\",\"type\":\"BasicTicker\"},{\"attributes\":{\"line_alpha\":{\"value\":0.1},\"line_color\":{\"value\":\"#1f77b4\"},\"line_width\":{\"value\":2},\"x\":{\"field\":\"x\"},\"y\":{\"field\":\"y\"}},\"id\":\"9d11c601-28d5-4844-a66c-4d912176e266\",\"type\":\"Line\"},{\"attributes\":{\"use_scientific\":false},\"id\":\"8f05a2d9-ac49-41cf-a516-04aa852d98f7\",\"type\":\"BasicTickFormatter\"},{\"attributes\":{\"callback\":null,\"column_names\":[\"x\",\"y\"],\"data\":{\"x\":[0,1000,2000,3000,4000,5000,6000,7000,8000,9000,10000,11000,12000,13000,14000,15000,16000,17000,18000,19000,20000,21000,22000,23000,24000,25000,26000,27000,28000,29000,30000,31000,32000,33000,34000,35000,36000,37000,38000,39000,40000,41000,42000,43000,44000,45000,46000,47000,48000,49000,50000,51000,52000,53000,54000,55000,56000,57000,58000,59000,60000,61000,62000,63000,64000,65000,66000,67000,68000,69000,70000,71000,72000,73000,74000,75000,76000,77000,78000,79000,80000,81000,82000,83000,84000,85000,86000,87000,88000,89000,90000,91000,92000,93000,94000,95000,96000,97000,98000,99000,100000,101000,102000,103000,104000,105000,106000,107000,108000,109000,110000,111000,112000,113000,114000,115000,116000,117000,118000,119000,120000,121000,122000,123000,124000,125000,126000,127000,128000,129000,130000,131000,132000,133000,134000,135000,136000,137000,138000,139000,140000,141000,142000,143000,144000,145000,146000,147000,148000,149000,150000,151000,152000,153000,154000,155000,156000,157000,158000,159000,160000,161000,162000,163000,164000,165000,166000,167000,168000,169000,170000,171000,172000,173000,174000,175000,176000,177000,178000,179000,180000,181000,182000,183000,184000,185000,186000,187000,188000,189000,190000,191000,192000,193000,194000,195000,196000,197000,198000,199000,200000,201000,202000,203000,204000,205000,206000,207000,208000,209000,210000,211000,212000,213000,214000,215000,216000,217000,218000,219000,220000,221000,222000,223000,224000,225000,226000,227000,228000,229000,230000,231000,232000,233000,234000,235000,236000,237000,238000,239000,240000,241000,242000,243000,244000,245000,246000,247000,248000,249000,250000,251000,252000,253000,254000,255000,256000,257000,258000,259000,260000,261000,262000,263000,264000,265000,266000,267000,268000,269000,270000,271000,272000,273000,274000,275000,276000,277000,278000,279000,280000,281000,282000,283000,284000,285000,286000,287000,288000,289000,290000,291000,292000,293000,294000,295000,296000,297000,298000,299000,300000,301000,302000,303000,304000,305000,306000,307000,308000,309000,310000,311000,312000,313000,314000,315000,316000,317000,318000,319000,320000,321000,322000,323000,324000,325000,326000,327000,328000,329000,330000,331000,332000,333000,334000,335000,336000,337000,338000,339000,340000,341000,342000,343000,344000,345000,346000,347000,348000,349000,350000,351000,352000,353000,354000,355000,356000,357000,358000,359000,360000,361000,362000,363000,364000,365000,366000,367000,368000,369000,370000,371000,372000,373000,374000,375000,376000,377000,378000,379000,380000,381000,382000,383000,384000,385000,386000,387000,388000,389000,390000,391000,392000,393000,394000,395000,396000,397000,398000,399000,400000,401000,402000,403000,404000,405000,406000,407000,408000,409000,410000,411000,412000,413000,414000,415000,416000,417000,418000,419000,420000,421000,422000,423000,424000,425000,426000,427000,428000,429000,430000,431000,432000,433000,434000,435000,436000,437000,438000,439000,440000,441000,442000,443000,444000,445000,446000,447000,448000,449000,450000,451000,452000,453000,454000,455000,456000,457000,458000,459000,460000,461000,462000,463000,464000,465000,466000,467000,468000,469000,470000,471000,472000,473000,474000,475000,476000,477000,478000,479000,480000,481000,482000,483000,484000,485000,486000,487000,488000,489000,490000,491000,492000,493000,494000,495000,496000,497000,498000,499000,500000,501000,502000,503000,504000,505000,506000,507000,508000,509000,510000,511000,512000,513000,514000,515000,516000,517000,518000,519000,520000,521000,522000,523000,524000,525000,526000,527000,528000,529000,530000,531000,532000,533000,534000,535000,536000,537000,538000,539000,540000,541000,542000,543000,544000,545000,546000,547000,548000,549000,550000,551000,552000,553000,554000,555000,556000,557000,558000,559000,560000,561000,562000,563000,564000,565000,566000,567000,568000,569000,570000,571000,572000,573000,574000,575000,576000,577000,578000,579000,580000,581000,582000,583000,584000,585000,586000,587000,588000,589000,590000,591000,592000,593000,594000,595000,596000,597000,598000,599000,600000],\"y\":{\"__ndarray__\":\"AAAAAAAA8D8AAAAAAEBbQAAAAAAAmGdAAAAAAADAb0AAAAAAAOByQAAAAAAAtHRAAAAAAABUd0AAAAAAABR4QAAAAAAAtHhAAAAAAAAkekAAAAAAAHR6QAAAAAAAtHtAAAAAAAAgfUAAAAAAAER9QAAAAAAAyH1AAAAAAADYfUAAAAAAAHR/QAAAAAAAzH9AAAAAAAAegEAAAAAAACiBQAAAAAAAXIFAAAAAAABegUAAAAAAAHaBQAAAAAAAfoFAAAAAAACCgUAAAAAAAIKBQAAAAAAAjoFAAAAAAACOgUAAAAAAAI6BQAAAAAAAjoFAAAAAAACOgUAAAAAAAI6BQAAAAAAAjoFAAAAAAACOgUAAAAAAAI6BQAAAAAAAjoFAAAAAAACOgUAAAAAAAI6BQAAAAAAAjoFAAAAAAACOgUAAAAAAAI6BQAAAAAAAjoFAAAAAAACOgUAAAAAAAI6BQAAAAAAAjoFAAAAAAACOgUAAAAAAAI6BQAAAAAAAjoFAAAAAAACOgUAAAAAAAI6BQAAAAAAAjoFAAAAAAACOgUAAAAAAAI6BQAAAAAAAjoFAAAAAAACOgUAAAAAAAI6BQAAAAAAAjoFAAAAAAACOgUAAAAAAAI6BQAAAAAAAjoFAAAAAAACOgUAAAAAAAI6BQAAAAAAAjoFAAAAAAACOgUAAAAAAAI6BQAAAAAAAjoFAAAAAAACOgUAAAAAAAI6BQAAAAAAAjoFAAAAAAACOgUAAAAAAAI6BQAAAAAAAjoFAAAAAAACOgUAAAAAAAI6BQAAAAAAAjoFAAAAAAACOgUAAAAAAAI6BQAAAAAAAjoFAAAAAAACOgUAAAAAAAI6BQAAAAAAAjoFAAAAAAACOgUAAAAAAAI6BQAAAAAAAjoFAAAAAAACOgUAAAAAAAI6BQAAAAAAAjoFAAAAAAACOgUAAAAAAAI6BQAAAAAAAjoFAAAAAAACOgUAAAAAAAI6BQAAAAAAAjoFAAAAAAACOgUAAAAAAAI6BQAAAAAAAjoFAAAAAAACOgUAAAAAAAI6BQAAAAAAAjoFAAAAAAACOgUAAAAAAAI6BQAAAAAAAjoFAAAAAAACOgUAAAAAAAI6BQAAAAAAAjoFAAAAAAACOgUAAAAAAAI6BQAAAAAAAjoFAAAAAAACOgUAAAAAAAI6BQAAAAAAAjoFAAAAAAACOgUAAAAAAAI6BQAAAAAAAjoFAAAAAAACOgUAAAAAAAI6BQAAAAAAAjoFAAAAAAACOgUAAAAAAAI6BQAAAAAAAjoFAAAAAAACOgUAAAAAAAI6BQAAAAAAAjoFAAAAAAACOgUAAAAAAAI6BQAAAAAAAjoFAAAAAAACOgUAAAAAAAI6BQAAAAAAAjoFAAAAAAACOgUAAAAAAAI6BQAAAAAAAjoFAAAAAAACOgUAAAAAAAI6BQAAAAAAAjoFAAAAAAACOgUAAAAAAAI6BQAAAAAAAjoFAAAAAAACOgUAAAAAAAJiBQAAAAAAAmoFAAAAAAACagUAAAAAAAJqBQAAAAAAAmoFAAAAAAACagUAAAAAAAJqBQAAAAAAAmoFAAAAAAACagUAAAAAAAJqBQAAAAAAAmoFAAAAAAACagUAAAAAAAJqBQAAAAAAAmoFAAAAAAACagUAAAAAAAJqBQAAAAAAAmoFAAAAAAACagUAAAAAAAJqBQAAAAAAAmoFAAAAAAACagUAAAAAAAJqBQAAAAAAAmoFAAAAAAACagUAAAAAAAJqBQAAAAAAAmoFAAAAAAACagUAAAAAAAJqBQAAAAAAAmoFAAAAAAACagUAAAAAAAJqBQAAAAAAAmoFAAAAAAACagUAAAAAAAJqBQAAAAAAAmoFAAAAAAACagUAAAAAAAJqBQAAAAAAAmoFAAAAAAACagUAAAAAAAJqBQAAAAAAAmoFAAAAAAACagUAAAAAAAJqBQAAAAAAAmoFAAAAAAACagUAAAAAAAJqBQAAAAAAAmoFAAAAAAACagUAAAAAAAJqBQAAAAAAAmoFAAAAAAACagUAAAAAAAJqBQAAAAAAAmoFAAAAAAACagUAAAAAAAJqBQAAAAAAAmoFAAAAAAACagUAAAAAAAJqBQAAAAAAAmoFAAAAAAACagUAAAAAAAJqBQAAAAAAAmoFAAAAAAACagUAAAAAAAJqBQAAAAAAAmoFAAAAAAACagUAAAAAAAJqBQAAAAAAAmoFAAAAAAACagUAAAAAAAJqBQAAAAAAAmoFAAAAAAACagUAAAAAAAJqBQAAAAAAAmoFAAAAAAACagUAAAAAAAJqBQAAAAAAAmoFAAAAAAACagUAAAAAAAJqBQAAAAAAAmoFAAAAAAACagUAAAAAAAJqBQAAAAAAAmoFAAAAAAACagUAAAAAAAJqBQAAAAAAAmoFAAAAAAACagUAAAAAAAJqBQAAAAAAAmoFAAAAAAACagUAAAAAAAJqBQAAAAAAAmoFAAAAAAACagUAAAAAAAJqBQAAAAAAAmoFAAAAAAACagUAAAAAAAJqBQAAAAAAAmoFAAAAAAACagUAAAAAAAJqBQAAAAAAAmoFAAAAAAACagUAAAAAAAJqBQAAAAAAAmoFAAAAAAACagUAAAAAAAJqBQAAAAAAAmoFAAAAAAACagUAAAAAAAJqBQAAAAAAAmoFAAAAAAACagUAAAAAAAJqBQAAAAAAAmoFAAAAAAACagUAAAAAAAJqBQAAAAAAAmoFAAAAAAACagUAAAAAAAJqBQAAAAAAAmoFAAAAAAACagUAAAAAAAJqBQAAAAAAAmoFAAAAAAACagUAAAAAAAJqBQAAAAAAAmoFAAAAAAACcgUAAAAAAAJyBQAAAAAAAnIFAAAAAAACogUAAAAAAAKyBQAAAAAAArIFAAAAAAACsgUAAAAAAAKyBQAAAAAAArIFAAAAAAACsgUAAAAAAAKyBQAAAAAAArIFAAAAAAACsgUAAAAAAAKyBQAAAAAAArIFAAAAAAACsgUAAAAAAAKyBQAAAAAAArIFAAAAAAACsgUAAAAAAAKyBQAAAAAAArIFAAAAAAACsgUAAAAAAAKyBQAAAAAAArIFAAAAAAACsgUAAAAAAAKyBQAAAAAAArIFAAAAAAACsgUAAAAAAAKyBQAAAAAAArIFAAAAAAACsgUAAAAAAAKyBQAAAAAAArIFAAAAAAACsgUAAAAAAAKyBQAAAAAAArIFAAAAAAACsgUAAAAAAAKyBQAAAAAAArIFAAAAAAACsgUAAAAAAAKyBQAAAAAAArIFAAAAAAACsgUAAAAAAAKyBQAAAAAAArIFAAAAAAACsgUAAAAAAAKyBQAAAAAAArIFAAAAAAACsgUAAAAAAAKyBQAAAAAAArIFAAAAAAACsgUAAAAAAAKyBQAAAAAAArIFAAAAAAACsgUAAAAAAAKyBQAAAAAAArIFAAAAAAACsgUAAAAAAAKyBQAAAAAAArIFAAAAAAACsgUAAAAAAAKyBQAAAAAAArIFAAAAAAACsgUAAAAAAAKyBQAAAAAAArIFAAAAAAACsgUAAAAAAAKyBQAAAAAAArIFAAAAAAACsgUAAAAAAAKyBQAAAAAAArIFAAAAAAACsgUAAAAAAAKyBQAAAAAAArIFAAAAAAACsgUAAAAAAAKyBQAAAAAAArIFAAAAAAACsgUAAAAAAAKyBQAAAAAAArIFAAAAAAACsgUAAAAAAAKyBQAAAAAAArIFAAAAAAACsgUAAAAAAAKyBQAAAAAAArIFAAAAAAACsgUAAAAAAAKyBQAAAAAAArIFAAAAAAACsgUAAAAAAAKyBQAAAAAAArIFAAAAAAACsgUAAAAAAAKyBQAAAAAAArIFAAAAAAACsgUAAAAAAAKyBQAAAAAAArIFAAAAAAACsgUAAAAAAAKyBQAAAAAAArIFAAAAAAACsgUAAAAAAAKyBQAAAAAAArIFAAAAAAACsgUAAAAAAAKyBQAAAAAAArIFAAAAAAACsgUAAAAAAAKyBQAAAAAAArIFAAAAAAACsgUAAAAAAAKyBQAAAAAAArIFAAAAAAACsgUAAAAAAAKyBQAAAAAAArIFAAAAAAACsgUAAAAAAAKyBQAAAAAAArIFAAAAAAACsgUAAAAAAAKyBQAAAAAAArIFAAAAAAACsgUAAAAAAAKyBQAAAAAAArIFAAAAAAACsgUAAAAAAAKyBQAAAAAAArIFAAAAAAACsgUAAAAAAAKyBQAAAAAAArIFAAAAAAACsgUAAAAAAAKyBQAAAAAAArIFAAAAAAACsgUAAAAAAAKyBQAAAAAAArIFAAAAAAACsgUAAAAAAAKyBQAAAAAAArIFAAAAAAACsgUAAAAAAAKyBQAAAAAAArIFAAAAAAACsgUAAAAAAAKyBQAAAAAAArIFAAAAAAACsgUAAAAAAAKyBQAAAAAAArIFAAAAAAACsgUAAAAAAAKyBQAAAAAAArIFAAAAAAACsgUAAAAAAAKyBQAAAAAAArIFAAAAAAACsgUAAAAAAAKyBQAAAAAAArIFAAAAAAACsgUAAAAAAAKyBQAAAAAAArIFAAAAAAACsgUAAAAAAAKyBQAAAAAAArIFAAAAAAACsgUAAAAAAAKyBQAAAAAAArIFAAAAAAACsgUAAAAAAAKyBQAAAAAAArIFAAAAAAACsgUAAAAAAAKyBQAAAAAAArIFAAAAAAACsgUAAAAAAAKyBQAAAAAAArIFAAAAAAACsgUAAAAAAAKyBQAAAAAAArIFAAAAAAACsgUAAAAAAAKyBQAAAAAAArIFAAAAAAACsgUAAAAAAAKyBQAAAAAAArIFAAAAAAACsgUAAAAAAAKyBQAAAAAAArIFAAAAAAACsgUAAAAAAAKyBQAAAAAAArIFAAAAAAACsgUAAAAAAAKyBQAAAAAAArIFAAAAAAACsgUAAAAAAAKyBQAAAAAAArIFAAAAAAACsgUAAAAAAAKyBQAAAAAAArIFAAAAAAACsgUAAAAAAAKyBQAAAAAAArIFAAAAAAACsgUAAAAAAAKyBQAAAAAAArIFAAAAAAACsgUAAAAAAAKyBQAAAAAAArIFAAAAAAACsgUAAAAAAAKyBQAAAAAAArIFAAAAAAACsgUAAAAAAAKyBQAAAAAAArIFAAAAAAACsgUAAAAAAAKyBQAAAAAAArIFAAAAAAACsgUAAAAAAAKyBQAAAAAAArIFAAAAAAACsgUAAAAAAAKyBQAAAAAAArIFAAAAAAACsgUAAAAAAAKyBQAAAAAAArIFAAAAAAACsgUAAAAAAAKyBQAAAAAAArIFAAAAAAACsgUAAAAAAAKyBQAAAAAAArIFAAAAAAACsgUAAAAAAAKyBQAAAAAAArIFAAAAAAACsgUAAAAAAAKyBQAAAAAAArIFAAAAAAACsgUAAAAAAAKyBQAAAAAAArIFAAAAAAACsgUAAAAAAAKyBQAAAAAAArIFAAAAAAACsgUAAAAAAAKyBQAAAAAAArIFAAAAAAACsgUAAAAAAAKyBQAAAAAAArIFAAAAAAACsgUAAAAAAAKyBQAAAAAAArIFAAAAAAACsgUAAAAAAAKyBQAAAAAAArIFAAAAAAACsgUAAAAAAAKyBQAAAAAAArIFAAAAAAACsgUAAAAAAAKyBQAAAAAAArIFAAAAAAACsgUAAAAAAAKyBQAAAAAAArIFAAAAAAACsgUAAAAAAAKyBQAAAAAAArIFAAAAAAACsgUAAAAAAAKyBQAAAAAAArIFAAAAAAACsgUAAAAAAAKyBQAAAAAAArIFAAAAAAACsgUAAAAAAAKyBQAAAAAAArIFAAAAAAACsgUAAAAAAAKyBQAAAAAAArIFAAAAAAACsgUAAAAAAAKyBQAAAAAAArIFAAAAAAACsgUAAAAAAAKyBQAAAAAAArIFAAAAAAACsgUAAAAAAAKyBQAAAAAAArIFAAAAAAACsgUAAAAAAAKyBQAAAAAAArIFAAAAAAACsgUAAAAAAAKyBQAAAAAAArIFAAAAAAACsgUAAAAAAAKyBQAAAAAAArIFAAAAAAACsgUAAAAAAAKyBQAAAAAAArIFAAAAAAACsgUAAAAAAAKyBQAAAAAAArIFAAAAAAACsgUAAAAAAAKyBQAAAAAAArIFAAAAAAACsgUAAAAAAAKyBQAAAAAAArIFAAAAAAACsgUAAAAAAAKyBQAAAAAAArIFAAAAAAACsgUAAAAAAAKyBQAAAAAAArIFAAAAAAACsgUAAAAAAAKyBQAAAAAAArIFAAAAAAACsgUAAAAAAAKyBQAAAAAAArIFAAAAAAACsgUAAAAAAAKyBQAAAAAAArIFAAAAAAACsgUAAAAAAAKyBQAAAAAAArIFAAAAAAACsgUAAAAAAAKyBQAAAAAAArIFAAAAAAACsgUAAAAAAAKyBQAAAAAAArIFA\",\"dtype\":\"float64\",\"shape\":[600]}}},\"id\":\"a0de2abc-a60c-45b2-b2a3-4f4d28a76aac\",\"type\":\"ColumnDataSource\"},{\"attributes\":{\"data_source\":{\"id\":\"c936e098-1a8a-48b7-af16-19b58ab4dc5c\",\"type\":\"ColumnDataSource\"},\"glyph\":{\"id\":\"43feca9e-4696-4eb7-8103-8fd392fe44f1\",\"type\":\"Patch\"},\"hover_glyph\":null,\"nonselection_glyph\":{\"id\":\"11e9a5cf-0bbf-4879-9e6d-735e265f4140\",\"type\":\"Patch\"},\"selection_glyph\":null},\"id\":\"aaf50199-e2fc-4867-bb28-d08384998c5c\",\"type\":\"GlyphRenderer\"},{\"attributes\":{},\"id\":\"2ccf95b0-7293-488f-ac8f-b6a7e8fe4369\",\"type\":\"BasicTickFormatter\"},{\"attributes\":{\"data_source\":{\"id\":\"12dcaa1c-4190-4121-8b9d-c114f5d38816\",\"type\":\"ColumnDataSource\"},\"glyph\":{\"id\":\"802133a6-ead0-4810-a53a-1eeae8d57225\",\"type\":\"Patch\"},\"hover_glyph\":null,\"nonselection_glyph\":{\"id\":\"b11a4af9-90ee-4439-af4c-5ac62ebc0fdf\",\"type\":\"Patch\"},\"selection_glyph\":null},\"id\":\"ff183b53-4050-4174-8dea-6c77177cfaa6\",\"type\":\"GlyphRenderer\"},{\"attributes\":{\"callback\":null},\"id\":\"67dbf8e8-0abb-41d9-bda7-63434b32c75d\",\"type\":\"DataRange1d\"},{\"attributes\":{\"plot\":{\"id\":\"484d598c-4852-4803-9524-9b441b9125e7\",\"subtype\":\"Figure\",\"type\":\"Plot\"}},\"id\":\"ae6ffc00-eb6f-41a0-9569-23343c7ae48b\",\"type\":\"PanTool\"},{\"attributes\":{\"fill_alpha\":{\"value\":0.1},\"fill_color\":{\"value\":\"#1f77b4\"},\"line_alpha\":{\"value\":0.1},\"line_color\":{\"value\":\"#1f77b4\"},\"x\":{\"field\":\"x\"},\"y\":{\"field\":\"y\"}},\"id\":\"b11a4af9-90ee-4439-af4c-5ac62ebc0fdf\",\"type\":\"Patch\"},{\"attributes\":{\"bottom_units\":\"screen\",\"fill_alpha\":{\"value\":0.5},\"fill_color\":{\"value\":\"lightgrey\"},\"left_units\":\"screen\",\"level\":\"overlay\",\"line_alpha\":{\"value\":1.0},\"line_color\":{\"value\":\"black\"},\"line_dash\":[4,4],\"line_width\":{\"value\":2},\"plot\":null,\"render_mode\":\"css\",\"right_units\":\"screen\",\"top_units\":\"screen\"},\"id\":\"f3fbd3bc-dc17-4d14-adec-b5663cd540e3\",\"type\":\"BoxAnnotation\"},{\"attributes\":{\"data_source\":{\"id\":\"86755346-0cdb-492b-adb7-698a9b4c3127\",\"type\":\"ColumnDataSource\"},\"glyph\":{\"id\":\"c423a173-8ea3-49ac-9c0c-4491d6335c8d\",\"type\":\"Line\"},\"hover_glyph\":null,\"nonselection_glyph\":{\"id\":\"5e7641ba-669f-4304-a665-103689b3bd70\",\"type\":\"Line\"},\"selection_glyph\":null},\"id\":\"02667301-d5e0-46bc-b038-d19e1282a730\",\"type\":\"GlyphRenderer\"},{\"attributes\":{\"fill_alpha\":{\"value\":0.1},\"fill_color\":{\"value\":\"#1f77b4\"},\"line_alpha\":{\"value\":0.1},\"line_color\":{\"value\":\"#1f77b4\"},\"x\":{\"field\":\"x\"},\"y\":{\"field\":\"y\"}},\"id\":\"88599f10-5eec-469f-9bb1-18495ab404c1\",\"type\":\"Patch\"},{\"attributes\":{\"line_alpha\":{\"value\":0.1},\"line_color\":{\"value\":\"#1f77b4\"},\"line_width\":{\"value\":2},\"x\":{\"field\":\"x\"},\"y\":{\"field\":\"y\"}},\"id\":\"0ba39823-c0f9-4eb3-a6c0-e9ef108124f9\",\"type\":\"Line\"},{\"attributes\":{\"plot\":{\"id\":\"484d598c-4852-4803-9524-9b441b9125e7\",\"subtype\":\"Figure\",\"type\":\"Plot\"}},\"id\":\"130e5123-268f-4ff5-a5d7-1597bd6e3d98\",\"type\":\"SaveTool\"},{\"attributes\":{\"plot\":{\"id\":\"484d598c-4852-4803-9524-9b441b9125e7\",\"subtype\":\"Figure\",\"type\":\"Plot\"}},\"id\":\"ee913ae7-8c6c-44cf-a8fc-dce505bc97e2\",\"type\":\"HelpTool\"},{\"attributes\":{\"dimension\":1,\"plot\":{\"id\":\"484d598c-4852-4803-9524-9b441b9125e7\",\"subtype\":\"Figure\",\"type\":\"Plot\"},\"ticker\":{\"id\":\"43a690b2-5c23-4354-bfa3-dedd42b70fce\",\"type\":\"BasicTicker\"}},\"id\":\"2f5a69d0-53e8-4eb4-8243-020c9a2876e5\",\"type\":\"Grid\"},{\"attributes\":{\"plot\":{\"id\":\"484d598c-4852-4803-9524-9b441b9125e7\",\"subtype\":\"Figure\",\"type\":\"Plot\"}},\"id\":\"5bca387a-a645-4c49-bb96-008023465ade\",\"type\":\"ResetTool\"},{\"attributes\":{\"overlay\":{\"id\":\"f3fbd3bc-dc17-4d14-adec-b5663cd540e3\",\"type\":\"BoxAnnotation\"},\"plot\":{\"id\":\"484d598c-4852-4803-9524-9b441b9125e7\",\"subtype\":\"Figure\",\"type\":\"Plot\"}},\"id\":\"4d60df76-bd21-4231-bf1e-f9d1b9fde165\",\"type\":\"BoxZoomTool\"},{\"attributes\":{\"plot\":{\"id\":\"484d598c-4852-4803-9524-9b441b9125e7\",\"subtype\":\"Figure\",\"type\":\"Plot\"}},\"id\":\"dcd8a127-701f-40b3-bd67-123a302cb812\",\"type\":\"WheelZoomTool\"},{\"attributes\":{\"callback\":null,\"column_names\":[\"x\",\"y\"],\"data\":{\"x\":[0,1000,2000,3000,4000,5000,6000,7000,8000,9000,10000,11000,12000,13000,14000,15000,16000,17000,18000,19000,20000,21000,22000,23000,24000,25000,26000,27000,28000,29000,30000,31000,32000,33000,34000,35000,36000,37000,38000,39000,40000,41000,42000,43000,44000,45000,46000,47000,48000,49000,50000,51000,52000,53000,54000,55000,56000,57000,58000,59000,60000,61000,62000,63000,64000,65000,66000,67000,68000,69000,70000,71000,72000,73000,74000,75000,76000,77000,78000,79000,80000,81000,82000,83000,84000,85000,86000,87000,88000,89000,90000,91000,92000,93000,94000,95000,96000,97000,98000,99000,100000,101000,102000,103000,104000,105000,106000,107000,108000,109000,110000,111000,112000,113000,114000,115000,116000,117000,118000,119000,120000,121000,122000,123000,124000,125000,126000,127000,128000,129000,130000,131000,132000,133000,134000,135000,136000,137000,138000,139000,140000,141000,142000,143000,144000,145000,146000,147000,148000,149000,150000,151000,152000,153000,154000,155000,156000,157000,158000,159000,160000,161000,162000,163000,164000,165000,166000,167000,168000,169000,170000,171000,172000,173000,174000,175000,176000,177000,178000,179000,180000,181000,182000,183000,184000,185000,186000,187000,188000,189000,190000,191000,192000,193000,194000,195000,196000,197000,198000,199000,200000,201000,202000,203000,204000,205000,206000,207000,208000,209000,210000,211000,212000,213000,214000,215000,216000,217000,218000,219000,220000,221000,222000,223000,224000,225000,226000,227000,228000,229000,230000,231000,232000,233000,234000,235000,236000,237000,238000,239000,240000,241000,242000,243000,244000,245000,246000,247000,248000,249000,250000,251000,252000,253000,254000,255000,256000,257000,258000,259000,260000,261000,262000,263000,264000,265000,266000,267000,268000,269000,270000,271000,272000,273000,274000,275000,276000,277000,278000,279000,280000,281000,282000,283000,284000,285000,286000,287000,288000,289000,290000,291000,292000,293000,294000,295000,296000,297000,298000,299000,300000,301000,302000,303000,304000,305000,306000,307000,308000,309000,310000,311000,312000,313000,314000,315000,316000,317000,318000,319000,320000,321000,322000,323000,324000,325000,326000,327000,328000,329000,330000,331000,332000,333000,334000,335000,336000,337000,338000,339000,340000,341000,342000,343000,344000,345000,346000,347000,348000,349000,350000,351000,352000,353000,354000,355000,356000,357000,358000,359000,360000,361000,362000,363000,364000,365000,366000,367000,368000,369000,370000,371000,372000,373000,374000,375000,376000,377000,378000,379000,380000,381000,382000,383000,384000,385000,386000,387000,388000,389000,390000,391000,392000,393000,394000,395000,396000,397000,398000,399000,400000,401000,402000,403000,404000,405000,406000,407000,408000,409000,410000,411000,412000,413000,414000,415000,416000,417000,418000,419000,420000,421000,422000,423000,424000,425000,426000,427000,428000,429000,430000,431000,432000,433000,434000,435000,436000,437000,438000,439000,440000,441000,442000,443000,444000,445000,446000,447000,448000,449000,450000,451000,452000,453000,454000,455000,456000,457000,458000,459000,460000,461000,462000,463000,464000,465000,466000,467000,468000,469000,470000,471000,472000,473000,474000,475000,476000,477000,478000,479000,480000,481000,482000,483000,484000,485000,486000,487000,488000,489000,490000,491000,492000,493000,494000,495000,496000,497000,498000,499000,500000,501000,502000,503000,504000,505000,506000,507000,508000,509000,510000,511000,512000,513000,514000,515000,516000,517000,518000,519000,520000,521000,522000,523000,524000,525000,526000,527000,528000,529000,530000,531000,532000,533000,534000,535000,536000,537000,538000,539000,540000,541000,542000,543000,544000,545000,546000,547000,548000,549000,550000,551000,552000,553000,554000,555000,556000,557000,558000,559000,560000,561000,562000,563000,564000,565000,566000,567000,568000,569000,570000,571000,572000,573000,574000,575000,576000,577000,578000,579000,580000,581000,582000,583000,584000,585000,586000,587000,588000,589000,590000,591000,592000,593000,594000,595000,596000,597000,598000,599000,600000],\"y\":{\"__ndarray__\":\"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\",\"dtype\":\"float64\",\"shape\":[600]}}},\"id\":\"86755346-0cdb-492b-adb7-698a9b4c3127\",\"type\":\"ColumnDataSource\"},{\"attributes\":{\"plot\":{\"id\":\"484d598c-4852-4803-9524-9b441b9125e7\",\"subtype\":\"Figure\",\"type\":\"Plot\"},\"ticker\":{\"id\":\"12a24b29-f271-4f63-b9c1-760330aef2d9\",\"type\":\"BasicTicker\"}},\"id\":\"4371a35c-73fb-45e5-8c4f-38c141ed4680\",\"type\":\"Grid\"},{\"attributes\":{\"line_alpha\":{\"value\":0.1},\"line_color\":{\"value\":\"#1f77b4\"},\"line_width\":{\"value\":2},\"x\":{\"field\":\"x\"},\"y\":{\"field\":\"y\"}},\"id\":\"5e7641ba-669f-4304-a665-103689b3bd70\",\"type\":\"Line\"},{\"attributes\":{},\"id\":\"43a690b2-5c23-4354-bfa3-dedd42b70fce\",\"type\":\"BasicTicker\"},{\"attributes\":{\"data_source\":{\"id\":\"e1a4aa66-c624-4968-a1e1-260ae395cfdb\",\"type\":\"ColumnDataSource\"},\"glyph\":{\"id\":\"9101aa67-26a8-4289-9a32-76d4d5f55b75\",\"type\":\"Patch\"},\"hover_glyph\":null,\"nonselection_glyph\":{\"id\":\"ae8f2432-bbae-419f-b4a6-8931edfa9f64\",\"type\":\"Patch\"},\"selection_glyph\":null},\"id\":\"bd9abf4f-aa9e-4d86-ace9-074a4b17b4f9\",\"type\":\"GlyphRenderer\"},{\"attributes\":{\"label\":{\"value\":\"10 Step 4 Nscaling\"},\"renderers\":[{\"id\":\"839c2c97-fafc-4ab8-9034-f98b47708c47\",\"type\":\"GlyphRenderer\"}]},\"id\":\"7fe5dad6-c4da-48bc-b982-30f5abb8b1d5\",\"type\":\"LegendItem\"},{\"attributes\":{\"label\":{\"value\":\"1 Step 2 Nscaling\"},\"renderers\":[{\"id\":\"52f20059-43ba-4e4a-9234-1c50d78cad1b\",\"type\":\"GlyphRenderer\"}]},\"id\":\"1b05c3d0-6edd-4c19-ae68-62faa02afd53\",\"type\":\"LegendItem\"},{\"attributes\":{\"label\":{\"value\":\"1 Step 4 Nscaling\"},\"renderers\":[{\"id\":\"0d5bae7c-3d8d-41c7-bb7b-739062fe1335\",\"type\":\"GlyphRenderer\"}]},\"id\":\"e8cdc5da-7625-414b-9fb5-0fbf4fac3bf0\",\"type\":\"LegendItem\"},{\"attributes\":{\"line_color\":{\"value\":\"#f781bf\"},\"line_width\":{\"value\":2},\"x\":{\"field\":\"x\"},\"y\":{\"field\":\"y\"}},\"id\":\"390583cf-e3da-47a6-8182-834fe1548869\",\"type\":\"Line\"},{\"attributes\":{\"fill_alpha\":{\"value\":0.1},\"fill_color\":{\"value\":\"#1f77b4\"},\"line_alpha\":{\"value\":0.1},\"line_color\":{\"value\":\"#1f77b4\"},\"x\":{\"field\":\"x\"},\"y\":{\"field\":\"y\"}},\"id\":\"e13f4694-49a0-45c8-9a29-de0b5d8e6359\",\"type\":\"Patch\"},{\"attributes\":{\"label\":{\"value\":\"1 Step 8 Nscaling\"},\"renderers\":[{\"id\":\"94e61cec-7791-4e5a-ae0a-fc007ad1ca5d\",\"type\":\"GlyphRenderer\"}]},\"id\":\"1c5558ab-eef2-4a65-b9a2-b4c419f49b8c\",\"type\":\"LegendItem\"},{\"attributes\":{\"callback\":null,\"column_names\":[\"x\",\"y\"],\"data\":{\"x\":[0,1000,2000,3000,4000,5000,6000,7000,8000,9000,10000,11000,12000,13000,14000,15000,16000,17000,18000,19000,20000,21000,22000,23000,24000,25000,26000,27000,28000,29000,30000,31000,32000,33000,34000,35000,36000,37000,38000,39000,40000,41000,42000,43000,44000,45000,46000,47000,48000,49000,50000,51000,52000,53000,54000,55000,56000,57000,58000,59000,60000,61000,62000,63000,64000,65000,66000,67000,68000,69000,70000,71000,72000,73000,74000,75000,76000,77000,78000,79000,80000,81000,82000,83000,84000,85000,86000,87000,88000,89000,90000,91000,92000,93000,94000,95000,96000,97000,98000,99000,100000,101000,102000,103000,104000,105000,106000,107000,108000,109000,110000,111000,112000,113000,114000,115000,116000,117000,118000,119000,120000,121000,122000,123000,124000,125000,126000,127000,128000,129000,130000,131000,132000,133000,134000,135000,136000,137000,138000,139000,140000,141000,142000,143000,144000,145000,146000,147000,148000,149000,150000,151000,152000,153000,154000,155000,156000,157000,158000,159000,160000,161000,162000,163000,164000,165000,166000,167000,168000,169000,170000,171000,172000,173000,174000,175000,176000,177000,178000,179000,180000,181000,182000,183000,184000,185000,186000,187000,188000,189000,190000,191000,192000,193000,194000,195000,196000,197000,198000,199000,200000,201000,202000,203000,204000,205000,206000,207000,208000,209000,210000,211000,212000,213000,214000,215000,216000,217000,218000,219000,220000,221000,222000,223000,224000,225000,226000,227000,228000,229000,230000,231000,232000,233000,234000,235000,236000,237000,238000,239000,240000,241000,242000,243000,244000,245000,246000,247000,248000,249000,250000,251000,252000,253000,254000,255000,256000,257000,258000,259000,260000,261000,262000,263000,264000,265000,266000,267000,268000,269000,270000,271000,272000,273000,274000,275000,276000,277000,278000,279000,280000,281000,282000,283000,284000,285000,286000,287000,288000,289000,290000,291000,292000,293000,294000,295000,296000,297000,298000,299000,300000,301000,302000,303000,304000,305000,306000,307000,308000,309000,310000,311000,312000,313000,314000,315000,316000,317000,318000,319000,320000,321000,322000,323000,324000,325000,326000,327000,328000,329000,330000,331000,332000,333000,334000,335000,336000,337000,338000,339000,340000,341000,342000,343000,344000,345000,346000,347000,348000,349000,350000,351000,352000,353000,354000,355000,356000,357000,358000,359000,360000,361000,362000,363000,364000,365000,366000,367000,368000,369000,370000,371000,372000,373000,374000,375000,376000,377000,378000,379000,380000,381000,382000,383000,384000,385000,386000,387000,388000,389000,390000,391000,392000,393000,394000,395000,396000,397000,398000,399000,400000,401000,402000,403000,404000,405000,406000,407000,408000,409000,410000,411000,412000,413000,414000,415000,416000,417000,418000,419000,420000,421000,422000,423000,424000,425000,426000,427000,428000,429000,430000,431000,432000,433000,434000,435000,436000,437000,438000,439000,440000,441000,442000,443000,444000,445000,446000,447000,448000,449000,450000,451000,452000,453000,454000,455000,456000,457000,458000,459000,460000,461000,462000,463000,464000,465000,466000,467000,468000,469000,470000,471000,472000,473000,474000,475000,476000,477000,478000,479000,480000,481000,482000,483000,484000,485000,486000,487000,488000,489000,490000,491000,492000,493000,494000,495000,496000,497000,498000,499000,500000,501000,502000,503000,504000,505000,506000,507000,508000,509000,510000,511000,512000,513000,514000,515000,516000,517000,518000,519000,520000,521000,522000,523000,524000,525000,526000,527000,528000,529000,530000,531000,532000,533000,534000,535000,536000,537000,538000,539000,540000,541000,542000,543000,544000,545000,546000,547000,548000,549000,550000,551000,552000,553000,554000,555000,556000,557000,558000,559000,560000,561000,562000,563000,564000,565000,566000,567000,568000,569000,570000,571000,572000,573000,574000,575000,576000,577000,578000,579000,580000,581000,582000,583000,584000,585000,586000,587000,588000,589000,590000,591000,592000,593000,594000,595000,596000,597000,598000,599000,600000],\"y\":{\"__ndarray__\":\"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\",\"dtype\":\"float64\",\"shape\":[600]}}},\"id\":\"f19a793d-e4b9-47c0-94fb-8d342a41b857\",\"type\":\"ColumnDataSource\"},{\"attributes\":{\"callback\":null,\"column_names\":[\"x\",\"y\"],\"data\":{\"x\":[0,1000,2000,3000,4000,5000,6000,7000,8000,9000,10000,11000,12000,13000,14000,15000,16000,17000,18000,19000,20000,21000,22000,23000,24000,25000,26000,27000,28000,29000,30000,31000,32000,33000,34000,35000,36000,37000,38000,39000,40000,41000,42000,43000,44000,45000,46000,47000,48000,49000,50000,51000,52000,53000,54000,55000,56000,57000,58000,59000,60000,61000,62000,63000,64000,65000,66000,67000,68000,69000,70000,71000,72000,73000,74000,75000,76000,77000,78000,79000,80000,81000,82000,83000,84000,85000,86000,87000,88000,89000,90000,91000,92000,93000,94000,95000,96000,97000,98000,99000,100000,101000,102000,103000,104000,105000,106000,107000,108000,109000,110000,111000,112000,113000,114000,115000,116000,117000,118000,119000,120000,121000,122000,123000,124000,125000,126000,127000,128000,129000,130000,131000,132000,133000,134000,135000,136000,137000,138000,139000,140000,141000,142000,143000,144000,145000,146000,147000,148000,149000,150000,151000,152000,153000,154000,155000,156000,157000,158000,159000,160000,161000,162000,163000,164000,165000,166000,167000,168000,169000,170000,171000,172000,173000,174000,175000,176000,177000,178000,179000,180000,181000,182000,183000,184000,185000,186000,187000,188000,189000,190000,191000,192000,193000,194000,195000,196000,197000,198000,199000,200000,201000,202000,203000,204000,205000,206000,207000,208000,209000,210000,211000,212000,213000,214000,215000,216000,217000,218000,219000,220000,221000,222000,223000,224000,225000,226000,227000,228000,229000,230000,231000,232000,233000,234000,235000,236000,237000,238000,239000,240000,241000,242000,243000,244000,245000,246000,247000,248000,249000,250000,251000,252000,253000,254000,255000,256000,257000,258000,259000,260000,261000,262000,263000,264000,265000,266000,267000,268000,269000,270000,271000,272000,273000,274000,275000,276000,277000,278000,279000,280000,281000,282000,283000,284000,285000,286000,287000,288000,289000,290000,291000,292000,293000,294000,295000,296000,297000,298000,299000,300000,301000,302000,303000,304000,305000,306000,307000,308000,309000,310000,311000,312000,313000,314000,315000,316000,317000,318000,319000,320000,321000,322000,323000,324000,325000,326000,327000,328000,329000,330000,331000,332000,333000,334000,335000,336000,337000,338000,339000,340000,341000,342000,343000,344000,345000,346000,347000,348000,349000,350000,351000,352000,353000,354000,355000,356000,357000,358000,359000,360000,361000,362000,363000,364000,365000,366000,367000,368000,369000,370000,371000,372000,373000,374000,375000,376000,377000,378000,379000,380000,381000,382000,383000,384000,385000,386000,387000,388000,389000,390000,391000,392000,393000,394000,395000,396000,397000,398000,399000,400000,401000,402000,403000,404000,405000,406000,407000,408000,409000,410000,411000,412000,413000,414000,415000,416000,417000,418000,419000,420000,421000,422000,423000,424000,425000,426000,427000,428000,429000,430000,431000,432000,433000,434000,435000,436000,437000,438000,439000,440000,441000,442000,443000,444000,445000,446000,447000,448000,449000,450000,451000,452000,453000,454000,455000,456000,457000,458000,459000,460000,461000,462000,463000,464000,465000,466000,467000,468000,469000,470000,471000,472000,473000,474000,475000,476000,477000,478000,479000,480000,481000,482000,483000,484000,485000,486000,487000,488000,489000,490000,491000,492000,493000,494000,495000,496000,497000,498000,499000,500000,501000,502000,503000,504000,505000,506000,507000,508000,509000,510000,511000,512000,513000,514000,515000,516000,517000,518000,519000,520000,521000,522000,523000,524000,525000,526000,527000,528000,529000,530000,531000,532000,533000,534000,535000,536000,537000,538000,539000,540000,541000,542000,543000,544000,545000,546000,547000,548000,549000,550000,551000,552000,553000,554000,555000,556000,557000,558000,559000,560000,561000,562000,563000,564000,565000,566000,567000,568000,569000,570000,571000,572000,573000,574000,575000,576000,577000,578000,579000,580000,581000,582000,583000,584000,585000,586000,587000,588000,589000,590000,591000,592000,593000,594000,595000,596000,597000,598000,599000,600000,600000,599000,598000,597000,596000,595000,594000,593000,592000,591000,590000,589000,588000,587000,586000,585000,584000,583000,582000,581000,580000,579000,578000,577000,576000,575000,574000,573000,572000,571000,570000,569000,568000,567000,566000,565000,564000,563000,562000,561000,560000,559000,558000,557000,556000,555000,554000,553000,552000,551000,550000,549000,548000,547000,546000,545000,544000,543000,542000,541000,540000,539000,538000,537000,536000,535000,534000,533000,532000,531000,530000,529000,528000,527000,526000,525000,524000,523000,522000,521000,520000,519000,518000,517000,516000,515000,514000,513000,512000,511000,510000,509000,508000,507000,506000,505000,504000,503000,502000,501000,500000,499000,498000,497000,496000,495000,494000,493000,492000,491000,490000,489000,488000,487000,486000,485000,484000,483000,482000,481000,480000,479000,478000,477000,476000,475000,474000,473000,472000,471000,470000,469000,468000,467000,466000,465000,464000,463000,462000,461000,460000,459000,458000,457000,456000,455000,454000,453000,452000,451000,450000,449000,448000,447000,446000,445000,444000,443000,442000,441000,440000,439000,438000,437000,436000,435000,434000,433000,432000,431000,430000,429000,428000,427000,426000,425000,424000,423000,422000,421000,420000,419000,418000,417000,416000,415000,414000,413000,412000,411000,410000,409000,408000,407000,406000,405000,404000,403000,402000,401000,400000,399000,398000,397000,396000,395000,394000,393000,392000,391000,390000,389000,388000,387000,386000,385000,384000,383000,382000,381000,380000,379000,378000,377000,376000,375000,374000,373000,372000,371000,370000,369000,368000,367000,366000,365000,364000,363000,362000,361000,360000,359000,358000,357000,356000,355000,354000,353000,352000,351000,350000,349000,348000,347000,346000,345000,344000,343000,342000,341000,340000,339000,338000,337000,336000,335000,334000,333000,332000,331000,330000,329000,328000,327000,326000,325000,324000,323000,322000,321000,320000,319000,318000,317000,316000,315000,314000,313000,312000,311000,310000,309000,308000,307000,306000,305000,304000,303000,302000,301000,300000,299000,298000,297000,296000,295000,294000,293000,292000,291000,290000,289000,288000,287000,286000,285000,284000,283000,282000,281000,280000,279000,278000,277000,276000,275000,274000,273000,272000,271000,270000,269000,268000,267000,266000,265000,264000,263000,262000,261000,260000,259000,258000,257000,256000,255000,254000,253000,252000,251000,250000,249000,248000,247000,246000,245000,244000,243000,242000,241000,240000,239000,238000,237000,236000,235000,234000,233000,232000,231000,230000,229000,228000,227000,226000,225000,224000,223000,222000,221000,220000,219000,218000,217000,216000,215000,214000,213000,212000,211000,210000,209000,208000,207000,206000,205000,204000,203000,202000,201000,200000,199000,198000,197000,196000,195000,194000,193000,192000,191000,190000,189000,188000,187000,186000,185000,184000,183000,182000,181000,180000,179000,178000,177000,176000,175000,174000,173000,172000,171000,170000,169000,168000,167000,166000,165000,164000,163000,162000,161000,160000,159000,158000,157000,156000,155000,154000,153000,152000,151000,150000,149000,148000,147000,146000,145000,144000,143000,142000,141000,140000,139000,138000,137000,136000,135000,134000,133000,132000,131000,130000,129000,128000,127000,126000,125000,124000,123000,122000,121000,120000,119000,118000,117000,116000,115000,114000,113000,112000,111000,110000,109000,108000,107000,106000,105000,104000,103000,102000,101000,100000,99000,98000,97000,96000,95000,94000,93000,92000,91000,90000,89000,88000,87000,86000,85000,84000,83000,82000,81000,80000,79000,78000,77000,76000,75000,74000,73000,72000,71000,70000,69000,68000,67000,66000,65000,64000,63000,62000,61000,60000,59000,58000,57000,56000,55000,54000,53000,52000,51000,50000,49000,48000,47000,46000,45000,44000,43000,42000,41000,40000,39000,38000,37000,36000,35000,34000,33000,32000,31000,30000,29000,28000,27000,26000,25000,24000,23000,22000,21000,20000,19000,18000,17000,16000,15000,14000,13000,12000,11000,10000,9000,8000,7000,6000,5000,4000,3000,2000,1000,0],\"y\":[1,69,137,143,151,151,158,203,203,269,276,276,276,276,276,276,311,372,397,454,468,468,468,468,471,471,471,471,471,471,471,471,472,517,548,548,548,548,548,548,548,548,548,548,548,548,548,548,548,548,548,548,548,548,548,548,548,548,548,548,548,548,548,548,548,548,548,548,548,548,548,548,652,657,657,657,657,657,657,657,657,657,657,657,657,657,657,657,657,657,657,657,657,657,657,659,660,660,660,660,660,660,660,660,660,660,660,660,660,660,660,660,660,660,660,660,660,660,660,660,660,660,660,660,660,660,660,676,695,769,806,855,857,857,857,857,857,906,1063,1102,1107,1137,1137,1142,1142,1142,1142,1142,1142,1142,1142,1142,1142,1142,1142,1142,1142,1142,1142,1142,1142,1142,1142,1142,1142,1142,1142,1142,1142,1142,1142,1142,1142,1142,1142,1142,1142,1142,1142,1142,1142,1142,1142,1142,1142,1142,1142,1142,1142,1142,1142,1142,1142,1142,1142,1142,1142,1142,1142,1142,1142,1142,1142,1142,1142,1142,1142,1142,1142,1142,1176,1176,1176,1176,1176,1176,1233,1233,1233,1246,1246,1246,1246,1246,1246,1246,1246,1246,1246,1246,1246,1246,1246,1246,1246,1246,1246,1246,1250,1325,1372,1372,1372,1372,1389,1389,1389,1389,1389,1389,1389,1389,1389,1389,1389,1389,1389,1389,1436,1462,1462,1462,1462,1468,1468,1468,1469,1469,1469,1469,1469,1469,1469,1469,1469,1469,1469,1469,1469,1469,1469,1469,1469,1469,1469,1469,1469,1469,1469,1469,1469,1469,1469,1469,1469,1469,1469,1469,1469,1469,1469,1469,1469,1469,1469,1469,1469,1469,1469,1469,1469,1469,1469,1469,1469,1469,1469,1469,1469,1469,1469,1469,1469,1469,1469,1469,1469,1469,1469,1469,1469,1469,1469,1469,1469,1469,1469,1469,1529,1533,1533,1538,1538,1538,1538,1538,1538,1538,1538,1538,1538,1538,1538,1538,1538,1538,1538,1539,1539,1688,1694,1695,1708,1708,1708,1708,1708,1708,1708,1708,1708,1708,1708,1708,1708,1708,1708,1708,1708,1708,1713,1809,1872,1909,2019,2087,2087,2087,2087,2087,2087,2087,2087,2087,2087,2087,2087,2087,2087,2087,2087,2087,2087,2087,2087,2087,2087,2087,2087,2087,2087,2087,2087,2087,2087,2087,2087,2087,2087,2087,2087,2087,2087,2087,2087,2087,2087,2087,2087,2087,2087,2087,2087,2087,2087,2087,2087,2087,2087,2087,2087,2087,2087,2087,2087,2087,2087,2087,2087,2087,2087,2087,2087,2087,2087,2087,2087,2087,2087,2158,2158,2158,2158,2158,2158,2158,2158,2158,2158,2158,2158,2158,2158,2158,2158,2158,2158,2158,2158,2158,2158,2158,2158,2158,2158,2158,2158,2158,2158,2158,2158,2158,2158,2158,2158,2158,2158,2158,2158,2158,2158,2158,2158,2158,2158,2158,2158,2158,2158,2158,2158,2158,2158,2158,2158,2158,2158,2158,2158,2158,2158,2158,2158,2158,2158,2158,2158,2158,2158,2158,2158,2158,2158,2158,2158,2158,2158,2158,2158,2158,2158,2158,2158,2158,2158,2158,2158,2158,2158,2158,2158,2158,2158,2158,2158,2158,2158,2158,2158,2158,2158,2158,2158,2158,2158,2158,2158,2158,2158,2158,2158,2158,2158,2158,2158,2158,2158,2158,2158,2158,2158,2158,2158,2158,2158,2158,2158,2158,2158,2158,2158,2158,2158,2158,2158,2158,2158,2158,2158,2158,2690,2690,2690,2690,2690,2690,2690,2690,2690,2690,2690,2690,2690,2690,2690,2690,2690,2690,2690,2690,2690,2690,2690,2690,2690,2690,2690,2690,2690,2690,2690,2690,2690,2690,2690,2690,2690,2690,2690,2690,2690,2690,2690,2690,2690,2690,2690,2690,2690,2690,2690,2690,2690,2690,2690,2690,2690,2690,2690,2690,2690,2690,2690,2690,2690,2690,2690,2690,2690,2690,2690,2690,2690,2690,2690,2690,2690,2690,2690,2690,2690,2690,2690,2690,2690,2690,2690,2690,2690,2690,2690,2690,2690,2690,2690,2690,2690,2690,2690,2690,2690,2690,2690,2690,2690,2690,2690,2690,2690,2690,2690,2690,2690,2690,2690,2690,2690,2690,2690,2690,2690,2690,2690,2690,2690,2690,2690,2690,2690,2690,2690,2690,2690,2690,2689,2608,2580,2580,2580,2580,2580,2580,2580,2580,2580,2580,2580,2580,2580,2580,2580,2580,2580,2580,2580,2580,2580,2580,2580,2580,2580,2580,2580,2580,2580,2580,2580,2580,2580,2580,2580,2580,2580,2580,2580,2580,2580,2580,2580,2580,2580,2580,2580,2580,2580,2580,2580,2580,2580,2580,2580,2580,2580,2580,2580,2580,2580,2580,2580,2580,2580,2580,2580,2580,2580,2580,2580,2580,2580,2580,2580,2580,2580,2580,2580,2580,2580,2580,2580,2580,2580,2580,2580,2580,2580,2580,2580,2580,2580,2580,2580,2580,2580,2580,2580,2580,2580,2580,2580,2580,2575,2575,2575,2575,2575,2575,2575,2575,2575,2575,2575,2575,2575,2575,2575,2575,2575,2575,2575,2575,2575,2575,2575,2575,2575,2575,2575,2575,2575,2575,2575,2575,2575,2575,2575,2575,2575,2575,2575,2575,2575,2575,2573,2544,2544,2544,2544,2544,2544,2544,2544,2544,2544,2544,2544,2544,2544,2544,2544,2544,2544,2544,2544,2544,2544,2544,2497,2375,2255,2211,2209,2209,2209,2209,2209,2209,2209,2209,2209,2209,2209,2209,2209,2209,2209,2209,2209,2209,2209,2209,2209,2209,2209,2209,2209,2209,2209,2209,2209,2209,2209,2209,2209,2209,2209,2209,2209,2209,2209,2209,2209,2209,2209,2209,2209,2209,2209,2209,2209,2209,2209,2209,2209,2209,2209,2209,2209,2209,2209,2209,2209,2209,2209,2209,2209,2209,2209,2209,2209,2209,2209,2209,2209,2209,2209,2209,2209,2209,2209,2209,2209,2209,2209,2209,2209,2209,2209,2209,2209,2209,2209,2209,2209,2209,2209,2209,2209,2209,2209,2207,2207,2207,2207,2207,2207,2207,2207,2207,2207,2207,2207,2207,2207,2207,2207,2207,2207,2207,2147,2049,2049,2049,2049,2049,2049,2049,2049,2049,2049,2049,2049,2049,2049,2049,2049,2049,2049,2049,2049,2049,2049,2049,2049,2049,2049,2049,2049,2049,2049,2049,2049,2049,2049,2049,2049,2049,2049,2049,2049,2049,2049,2049,2035,2031,2031,2031,2031,2031,2008,2005,1987,1987,1987,1987,1987,1984,1984,1982,1889,1692,1690,1677,1603,1603,1598,1545,1413,1413,1413,1413,1413,1413,1413,1413,1413,1412,1412,1412,1412,1412,1412,1412,1412,1412,1412,1412,1412,1412,1412,1412,1412,1412,1412,1412,1412,1412,1410,1374,1371,1371,1371,1367,1367,1341,1337,1322,1322,1322,1322,1322,1322,1322,1322,1322,1322,1322,1322,1322,1322,1322,1322,1322,1316,1306,1246,1246,1242,1225,1225,1224,1224,1221,1210,1145,1145,1145,1145,1144,1144,1144,1080,1075,1075,1075,1075,1058,1048,1046,1043,1043,1043,1039,1039,1033,972,952,950,833,742,637,604,538,393,371,334,237,214,144,135,1]}},\"id\":\"87b53450-ae62-4986-8499-55ae4946a2ca\",\"type\":\"ColumnDataSource\"},{\"attributes\":{\"line_alpha\":{\"value\":0.1},\"line_color\":{\"value\":\"#1f77b4\"},\"line_width\":{\"value\":2},\"x\":{\"field\":\"x\"},\"y\":{\"field\":\"y\"}},\"id\":\"6c8997f9-72c3-4896-8836-697a348b003d\",\"type\":\"Line\"},{\"attributes\":{\"label\":{\"value\":\"10 Step 1 Nscaling\"},\"renderers\":[{\"id\":\"64156e84-05c0-4206-a006-da58923e3cff\",\"type\":\"GlyphRenderer\"}]},\"id\":\"75cc1bbc-08c8-4c7a-8330-b23a61fa3be1\",\"type\":\"LegendItem\"},{\"attributes\":{\"data_source\":{\"id\":\"87b53450-ae62-4986-8499-55ae4946a2ca\",\"type\":\"ColumnDataSource\"},\"glyph\":{\"id\":\"357f8636-7267-40c7-8d9e-192cbc89f302\",\"type\":\"Patch\"},\"hover_glyph\":null,\"nonselection_glyph\":{\"id\":\"e13f4694-49a0-45c8-9a29-de0b5d8e6359\",\"type\":\"Patch\"},\"selection_glyph\":null},\"id\":\"faf0dd2c-5a90-4ace-9f31-cd2871c3e890\",\"type\":\"GlyphRenderer\"},{\"attributes\":{\"data_source\":{\"id\":\"f19a793d-e4b9-47c0-94fb-8d342a41b857\",\"type\":\"ColumnDataSource\"},\"glyph\":{\"id\":\"390583cf-e3da-47a6-8182-834fe1548869\",\"type\":\"Line\"},\"hover_glyph\":null,\"nonselection_glyph\":{\"id\":\"9a4f6acd-1f6a-496b-b1c8-404d2c3db8d0\",\"type\":\"Line\"},\"selection_glyph\":null},\"id\":\"4101d576-0a21-4ad4-a566-e004a4826dd2\",\"type\":\"GlyphRenderer\"},{\"attributes\":{\"label\":{\"value\":\"10 Step 2 Nscaling\"},\"renderers\":[{\"id\":\"02667301-d5e0-46bc-b038-d19e1282a730\",\"type\":\"GlyphRenderer\"}]},\"id\":\"7bd12a9b-bfdf-4dee-aecb-3265e3e44990\",\"type\":\"LegendItem\"},{\"attributes\":{\"label\":{\"value\":\"10 Step 8 Nscaling\"},\"renderers\":[{\"id\":\"4101d576-0a21-4ad4-a566-e004a4826dd2\",\"type\":\"GlyphRenderer\"}]},\"id\":\"e4f6ff7f-ca7c-4d74-b746-8d93806ca6aa\",\"type\":\"LegendItem\"},{\"attributes\":{\"callback\":null,\"column_names\":[\"x\",\"y\"],\"data\":{\"x\":[0,1000,2000,3000,4000,5000,6000,7000,8000,9000,10000,11000,12000,13000,14000,15000,16000,17000,18000,19000,20000,21000,22000,23000,24000,25000,26000,27000,28000,29000,30000,31000,32000,33000,34000,35000,36000,37000,38000,39000,40000,41000,42000,43000,44000,45000,46000,47000,48000,49000,50000,51000,52000,53000,54000,55000,56000,57000,58000,59000,60000,61000,62000,63000,64000,65000,66000,67000,68000,69000,70000,71000,72000,73000,74000,75000,76000,77000,78000,79000,80000,81000,82000,83000,84000,85000,86000,87000,88000,89000,90000,91000,92000,93000,94000,95000,96000,97000,98000,99000,100000,101000,102000,103000,104000,105000,106000,107000,108000,109000,110000,111000,112000,113000,114000,115000,116000,117000,118000,119000,120000,121000,122000,123000,124000,125000,126000,127000,128000,129000,130000,131000,132000,133000,134000,135000,136000,137000,138000,139000,140000,141000,142000,143000,144000,145000,146000,147000,148000,149000,150000,151000,152000,153000,154000,155000,156000,157000,158000,159000,160000,161000,162000,163000,164000,165000,166000,167000,168000,169000,170000,171000,172000,173000,174000,175000,176000,177000,178000,179000,180000,181000,182000,183000,184000,185000,186000,187000,188000,189000,190000,191000,192000,193000,194000,195000,196000,197000,198000,199000,200000,201000,202000,203000,204000,205000,206000,207000,208000,209000,210000,211000,212000,213000,214000,215000,216000,217000,218000,219000,220000,221000,222000,223000,224000,225000,226000,227000,228000,229000,230000,231000,232000,233000,234000,235000,236000,237000,238000,239000,240000,241000,242000,243000,244000,245000,246000,247000,248000,249000,250000,251000,252000,253000,254000,255000,256000,257000,258000,259000,260000,261000,262000,263000,264000,265000,266000,267000,268000,269000,270000,271000,272000,273000,274000,275000,276000,277000,278000,279000,280000,281000,282000,283000,284000,285000,286000,287000,288000,289000,290000,291000,292000,293000,294000,295000,296000,297000,298000,299000,300000,301000,302000,303000,304000,305000,306000,307000,308000,309000,310000,311000,312000,313000,314000,315000,316000,317000,318000,319000,320000,321000,322000,323000,324000,325000,326000,327000,328000,329000,330000,331000,332000,333000,334000,335000,336000,337000,338000,339000,340000,341000,342000,343000,344000,345000,346000,347000,348000,349000,350000,351000,352000,353000,354000,355000,356000,357000,358000,359000,360000,361000,362000,363000,364000,365000,366000,367000,368000,369000,370000,371000,372000,373000,374000,375000,376000,377000,378000,379000,380000,381000,382000,383000,384000,385000,386000,387000,388000,389000,390000,391000,392000,393000,394000,395000,396000,397000,398000,399000,400000,401000,402000,403000,404000,405000,406000,407000,408000,409000,410000,411000,412000,413000,414000,415000,416000,417000,418000,419000,420000,421000,422000,423000,424000,425000,426000,427000,428000,429000,430000,431000,432000,433000,434000,435000,436000,437000,438000,439000,440000,441000,442000,443000,444000,445000,446000,447000,448000,449000,450000,451000,452000,453000,454000,455000,456000,457000,458000,459000,460000,461000,462000,463000,464000,465000,466000,467000,468000,469000,470000,471000,472000,473000,474000,475000,476000,477000,478000,479000,480000,481000,482000,483000,484000,485000,486000,487000,488000,489000,490000,491000,492000,493000,494000,495000,496000,497000,498000,499000,500000,501000,502000,503000,504000,505000,506000,507000,508000,509000,510000,511000,512000,513000,514000,515000,516000,517000,518000,519000,520000,521000,522000,523000,524000,525000,526000,527000,528000,529000,530000,531000,532000,533000,534000,535000,536000,537000,538000,539000,540000,541000,542000,543000,544000,545000,546000,547000,548000,549000,550000,551000,552000,553000,554000,555000,556000,557000,558000,559000,560000,561000,562000,563000,564000,565000,566000,567000,568000,569000,570000,571000,572000,573000,574000,575000,576000,577000,578000,579000,580000,581000,582000,583000,584000,585000,586000,587000,588000,589000,590000,591000,592000,593000,594000,595000,596000,597000,598000,599000,600000],\"y\":{\"__ndarray__\":\"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\",\"dtype\":\"float64\",\"shape\":[600]}}},\"id\":\"40644039-119e-4767-9129-6dea89ce16f4\",\"type\":\"ColumnDataSource\"},{\"attributes\":{\"line_alpha\":{\"value\":0.1},\"line_color\":{\"value\":\"#1f77b4\"},\"line_width\":{\"value\":2},\"x\":{\"field\":\"x\"},\"y\":{\"field\":\"y\"}},\"id\":\"9a4f6acd-1f6a-496b-b1c8-404d2c3db8d0\",\"type\":\"Line\"},{\"attributes\":{\"data_source\":{\"id\":\"40644039-119e-4767-9129-6dea89ce16f4\",\"type\":\"ColumnDataSource\"},\"glyph\":{\"id\":\"e144d009-9bb0-41e7-ba6c-ceffee4496c2\",\"type\":\"Line\"},\"hover_glyph\":null,\"nonselection_glyph\":{\"id\":\"6c8997f9-72c3-4896-8836-697a348b003d\",\"type\":\"Line\"},\"selection_glyph\":null},\"id\":\"839c2c97-fafc-4ab8-9034-f98b47708c47\",\"type\":\"GlyphRenderer\"},{\"attributes\":{\"fill_alpha\":{\"value\":0.1},\"fill_color\":{\"value\":\"#f781bf\"},\"line_alpha\":{\"value\":0.1},\"line_color\":{\"value\":\"#f781bf\"},\"x\":{\"field\":\"x\"},\"y\":{\"field\":\"y\"}},\"id\":\"357f8636-7267-40c7-8d9e-192cbc89f302\",\"type\":\"Patch\"}],\"root_ids\":[\"484d598c-4852-4803-9524-9b441b9125e7\"]},\"title\":\"Bokeh Application\",\"version\":\"0.12.4\"}};\n",
       "            var render_items = [{\"docid\":\"e422dd86-6fe2-4853-a5b6-0b213405dfad\",\"elementid\":\"e77cdb63-7bbf-495d-8154-4ade39bffc9f\",\"modelid\":\"484d598c-4852-4803-9524-9b441b9125e7\"}];\n",
       "            \n",
       "            Bokeh.embed.embed_items(docs_json, render_items);\n",
       "          };\n",
       "          if (document.readyState != \"loading\") fn();\n",
       "          else document.addEventListener(\"DOMContentLoaded\", fn);\n",
       "        })();\n",
       "      },\n",
       "      function(Bokeh) {\n",
       "      }\n",
       "    ];\n",
       "  \n",
       "    function run_inline_js() {\n",
       "      \n",
       "      if ((window.Bokeh !== undefined) || (force === true)) {\n",
       "        for (var i = 0; i < inline_js.length; i++) {\n",
       "          inline_js[i](window.Bokeh);\n",
       "        }if (force === true) {\n",
       "          display_loaded();\n",
       "        }} else if (Date.now() < window._bokeh_timeout) {\n",
       "        setTimeout(run_inline_js, 100);\n",
       "      } else if (!window._bokeh_failed_load) {\n",
       "        console.log(\"Bokeh: BokehJS failed to load within specified timeout.\");\n",
       "        window._bokeh_failed_load = true;\n",
       "      } else if (force !== true) {\n",
       "        var cell = $(document.getElementById(\"e77cdb63-7bbf-495d-8154-4ade39bffc9f\")).parents('.cell').data().cell;\n",
       "        cell.output_area.append_execute_result(NB_LOAD_WARNING)\n",
       "      }\n",
       "  \n",
       "    }\n",
       "  \n",
       "    if (window._bokeh_is_loading === 0) {\n",
       "      console.log(\"Bokeh: BokehJS loaded, going straight to plotting\");\n",
       "      run_inline_js();\n",
       "    } else {\n",
       "      load_libs(js_urls, function() {\n",
       "        console.log(\"Bokeh: BokehJS plotting callback run at\", now());\n",
       "        run_inline_js();\n",
       "      });\n",
       "    }\n",
       "  }(this));\n",
       "</script>"
      ]
     },
     "metadata": {},
     "output_type": "display_data"
    }
   ],
   "source": [
    "plot_averages_b(names, t_maxs, colours, legends, directories, step=1000, title=env, min_max=False)\n",
    "plot_states(names, t_maxs, colours, legends, directories, step=1000, title=env)"
   ]
  },
  {
   "cell_type": "code",
   "execution_count": null,
   "metadata": {
    "collapsed": true,
    "deletable": true,
    "editable": true
   },
   "outputs": [],
   "source": []
  },
  {
   "cell_type": "code",
   "execution_count": null,
   "metadata": {
    "collapsed": true,
    "deletable": true,
    "editable": true
   },
   "outputs": [],
   "source": []
  },
  {
   "cell_type": "code",
   "execution_count": null,
   "metadata": {
    "collapsed": true,
    "deletable": true,
    "editable": true
   },
   "outputs": [],
   "source": [
    "DQN_Smoothed = []\n",
    "for times, rewards in zip(DQN_Lengths_C, DQN_Rewards):\n",
    "    linear = interp1d(times, rewards, kind=\"linear\")\n",
    "    linear_rewards = linear([i for i in range(500000)])\n",
    "    DQN_Smoothed.append(linear_rewards)"
   ]
  },
  {
   "cell_type": "code",
   "execution_count": null,
   "metadata": {
    "collapsed": true,
    "deletable": true,
    "editable": true
   },
   "outputs": [],
   "source": [
    "DQN_Means = np.mean(DQN_Smoothed, axis=0)"
   ]
  },
  {
   "cell_type": "code",
   "execution_count": null,
   "metadata": {
    "collapsed": true,
    "deletable": true,
    "editable": true
   },
   "outputs": [],
   "source": [
    "DQN_Stds = np.std(DQN_Smoothed, axis=0)"
   ]
  },
  {
   "cell_type": "code",
   "execution_count": null,
   "metadata": {
    "collapsed": false,
    "deletable": true,
    "editable": true
   },
   "outputs": [],
   "source": [
    "plt.fill_between([i for i in range(500000)], DQN_Means - DQN_Stds, DQN_Means + DQN_Stds, color=\"red\", alpha=0.3, edgecolor=\"white\")\n",
    "\n",
    "plt.plot([i for i in range(500000)], DQN_Means, color=\"red\")"
   ]
  },
  {
   "cell_type": "code",
   "execution_count": null,
   "metadata": {
    "collapsed": false,
    "deletable": true,
    "editable": true
   },
   "outputs": [],
   "source": [
    "len(DQN_Repeat)"
   ]
  },
  {
   "cell_type": "code",
   "execution_count": null,
   "metadata": {
    "collapsed": true,
    "deletable": true,
    "editable": true
   },
   "outputs": [],
   "source": [
    "plt.plot(DQN)"
   ]
  },
  {
   "cell_type": "code",
   "execution_count": null,
   "metadata": {
    "collapsed": true,
    "deletable": true,
    "editable": true
   },
   "outputs": [],
   "source": [
    "directories = [\"Logs/\"]"
   ]
  },
  {
   "cell_type": "code",
   "execution_count": null,
   "metadata": {
    "collapsed": false,
    "deletable": true,
    "editable": true
   },
   "outputs": [],
   "source": [
    "for i in range(0, 10, 2):\n",
    "    print(i)"
   ]
  },
  {
   "cell_type": "code",
   "execution_count": null,
   "metadata": {
    "collapsed": true,
    "deletable": true,
    "editable": true
   },
   "outputs": [],
   "source": []
  }
 ],
 "metadata": {
  "kernelspec": {
   "display_name": "Python 3",
   "language": "python",
   "name": "python3"
  },
  "language_info": {
   "codemirror_mode": {
    "name": "ipython",
    "version": 3
   },
   "file_extension": ".py",
   "mimetype": "text/x-python",
   "name": "python",
   "nbconvert_exporter": "python",
   "pygments_lexer": "ipython3",
   "version": "3.6.0"
  }
 },
 "nbformat": 4,
 "nbformat_minor": 2
}
