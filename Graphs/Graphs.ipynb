{
 "cells": [
  {
   "cell_type": "code",
   "execution_count": 1,
   "metadata": {
    "collapsed": false,
    "deletable": true,
    "editable": true
   },
   "outputs": [
    {
     "data": {
      "text/html": [
       "\n",
       "    <div class=\"bk-root\">\n",
       "        <a href=\"http://bokeh.pydata.org\" target=\"_blank\" class=\"bk-logo bk-logo-small bk-logo-notebook\"></a>\n",
       "        <span id=\"6310fd66-722f-460e-9d2e-5db0f7eb4c12\">Loading BokehJS ...</span>\n",
       "    </div>"
      ]
     },
     "metadata": {},
     "output_type": "display_data"
    },
    {
     "data": {
      "application/javascript": [
       "\n",
       "(function(global) {\n",
       "  function now() {\n",
       "    return new Date();\n",
       "  }\n",
       "\n",
       "  var force = true;\n",
       "\n",
       "  if (typeof (window._bokeh_onload_callbacks) === \"undefined\" || force === true) {\n",
       "    window._bokeh_onload_callbacks = [];\n",
       "    window._bokeh_is_loading = undefined;\n",
       "  }\n",
       "\n",
       "\n",
       "  \n",
       "  if (typeof (window._bokeh_timeout) === \"undefined\" || force === true) {\n",
       "    window._bokeh_timeout = Date.now() + 5000;\n",
       "    window._bokeh_failed_load = false;\n",
       "  }\n",
       "\n",
       "  var NB_LOAD_WARNING = {'data': {'text/html':\n",
       "     \"<div style='background-color: #fdd'>\\n\"+\n",
       "     \"<p>\\n\"+\n",
       "     \"BokehJS does not appear to have successfully loaded. If loading BokehJS from CDN, this \\n\"+\n",
       "     \"may be due to a slow or bad network connection. Possible fixes:\\n\"+\n",
       "     \"</p>\\n\"+\n",
       "     \"<ul>\\n\"+\n",
       "     \"<li>re-rerun `output_notebook()` to attempt to load from CDN again, or</li>\\n\"+\n",
       "     \"<li>use INLINE resources instead, as so:</li>\\n\"+\n",
       "     \"</ul>\\n\"+\n",
       "     \"<code>\\n\"+\n",
       "     \"from bokeh.resources import INLINE\\n\"+\n",
       "     \"output_notebook(resources=INLINE)\\n\"+\n",
       "     \"</code>\\n\"+\n",
       "     \"</div>\"}};\n",
       "\n",
       "  function display_loaded() {\n",
       "    if (window.Bokeh !== undefined) {\n",
       "      document.getElementById(\"6310fd66-722f-460e-9d2e-5db0f7eb4c12\").textContent = \"BokehJS successfully loaded.\";\n",
       "    } else if (Date.now() < window._bokeh_timeout) {\n",
       "      setTimeout(display_loaded, 100)\n",
       "    }\n",
       "  }\n",
       "\n",
       "  function run_callbacks() {\n",
       "    window._bokeh_onload_callbacks.forEach(function(callback) { callback() });\n",
       "    delete window._bokeh_onload_callbacks\n",
       "    console.info(\"Bokeh: all callbacks have finished\");\n",
       "  }\n",
       "\n",
       "  function load_libs(js_urls, callback) {\n",
       "    window._bokeh_onload_callbacks.push(callback);\n",
       "    if (window._bokeh_is_loading > 0) {\n",
       "      console.log(\"Bokeh: BokehJS is being loaded, scheduling callback at\", now());\n",
       "      return null;\n",
       "    }\n",
       "    if (js_urls == null || js_urls.length === 0) {\n",
       "      run_callbacks();\n",
       "      return null;\n",
       "    }\n",
       "    console.log(\"Bokeh: BokehJS not loaded, scheduling load and callback at\", now());\n",
       "    window._bokeh_is_loading = js_urls.length;\n",
       "    for (var i = 0; i < js_urls.length; i++) {\n",
       "      var url = js_urls[i];\n",
       "      var s = document.createElement('script');\n",
       "      s.src = url;\n",
       "      s.async = false;\n",
       "      s.onreadystatechange = s.onload = function() {\n",
       "        window._bokeh_is_loading--;\n",
       "        if (window._bokeh_is_loading === 0) {\n",
       "          console.log(\"Bokeh: all BokehJS libraries loaded\");\n",
       "          run_callbacks()\n",
       "        }\n",
       "      };\n",
       "      s.onerror = function() {\n",
       "        console.warn(\"failed to load library \" + url);\n",
       "      };\n",
       "      console.log(\"Bokeh: injecting script tag for BokehJS library: \", url);\n",
       "      document.getElementsByTagName(\"head\")[0].appendChild(s);\n",
       "    }\n",
       "  };var element = document.getElementById(\"6310fd66-722f-460e-9d2e-5db0f7eb4c12\");\n",
       "  if (element == null) {\n",
       "    console.log(\"Bokeh: ERROR: autoload.js configured with elementid '6310fd66-722f-460e-9d2e-5db0f7eb4c12' but no matching script tag was found. \")\n",
       "    return false;\n",
       "  }\n",
       "\n",
       "  var js_urls = [\"https://cdn.pydata.org/bokeh/release/bokeh-0.12.4.min.js\", \"https://cdn.pydata.org/bokeh/release/bokeh-widgets-0.12.4.min.js\"];\n",
       "\n",
       "  var inline_js = [\n",
       "    function(Bokeh) {\n",
       "      Bokeh.set_log_level(\"info\");\n",
       "    },\n",
       "    \n",
       "    function(Bokeh) {\n",
       "      \n",
       "      document.getElementById(\"6310fd66-722f-460e-9d2e-5db0f7eb4c12\").textContent = \"BokehJS is loading...\";\n",
       "    },\n",
       "    function(Bokeh) {\n",
       "      console.log(\"Bokeh: injecting CSS: https://cdn.pydata.org/bokeh/release/bokeh-0.12.4.min.css\");\n",
       "      Bokeh.embed.inject_css(\"https://cdn.pydata.org/bokeh/release/bokeh-0.12.4.min.css\");\n",
       "      console.log(\"Bokeh: injecting CSS: https://cdn.pydata.org/bokeh/release/bokeh-widgets-0.12.4.min.css\");\n",
       "      Bokeh.embed.inject_css(\"https://cdn.pydata.org/bokeh/release/bokeh-widgets-0.12.4.min.css\");\n",
       "    }\n",
       "  ];\n",
       "\n",
       "  function run_inline_js() {\n",
       "    \n",
       "    if ((window.Bokeh !== undefined) || (force === true)) {\n",
       "      for (var i = 0; i < inline_js.length; i++) {\n",
       "        inline_js[i](window.Bokeh);\n",
       "      }if (force === true) {\n",
       "        display_loaded();\n",
       "      }} else if (Date.now() < window._bokeh_timeout) {\n",
       "      setTimeout(run_inline_js, 100);\n",
       "    } else if (!window._bokeh_failed_load) {\n",
       "      console.log(\"Bokeh: BokehJS failed to load within specified timeout.\");\n",
       "      window._bokeh_failed_load = true;\n",
       "    } else if (force !== true) {\n",
       "      var cell = $(document.getElementById(\"6310fd66-722f-460e-9d2e-5db0f7eb4c12\")).parents('.cell').data().cell;\n",
       "      cell.output_area.append_execute_result(NB_LOAD_WARNING)\n",
       "    }\n",
       "\n",
       "  }\n",
       "\n",
       "  if (window._bokeh_is_loading === 0) {\n",
       "    console.log(\"Bokeh: BokehJS loaded, going straight to plotting\");\n",
       "    run_inline_js();\n",
       "  } else {\n",
       "    load_libs(js_urls, function() {\n",
       "      console.log(\"Bokeh: BokehJS plotting callback run at\", now());\n",
       "      run_inline_js();\n",
       "    });\n",
       "  }\n",
       "}(this));"
      ]
     },
     "metadata": {},
     "output_type": "display_data"
    }
   ],
   "source": [
    "from bokeh.plotting import figure, output_notebook, show\n",
    "output_notebook()"
   ]
  },
  {
   "cell_type": "code",
   "execution_count": 2,
   "metadata": {
    "collapsed": true,
    "deletable": true,
    "editable": true
   },
   "outputs": [],
   "source": [
    "import glob"
   ]
  },
  {
   "cell_type": "code",
   "execution_count": 3,
   "metadata": {
    "collapsed": true,
    "deletable": true,
    "editable": true
   },
   "outputs": [],
   "source": [
    "import numpy as np"
   ]
  },
  {
   "cell_type": "code",
   "execution_count": 4,
   "metadata": {
    "collapsed": true,
    "deletable": true,
    "editable": true
   },
   "outputs": [],
   "source": [
    "from scipy.interpolate import interp1d\n",
    "from scipy.interpolate import spline"
   ]
  },
  {
   "cell_type": "code",
   "execution_count": 5,
   "metadata": {
    "collapsed": true,
    "deletable": true,
    "editable": true
   },
   "outputs": [],
   "source": [
    "from tqdm import tqdm"
   ]
  },
  {
   "cell_type": "code",
   "execution_count": 6,
   "metadata": {
    "collapsed": true,
    "deletable": true,
    "editable": true
   },
   "outputs": [],
   "source": [
    "DQN_Rewards_Path = \"/home/tabz/Dropbox/RL/Log_Files/March 2017/Maze_5_Batch_Sizes_Logs/*DQN*/logs/Episode_Rewards.txt\"\n",
    "DQN_Lengths_Path = \"/home/tabz/Dropbox/RL/Log_Files/March 2017/Maze_5_Batch_Sizes_Logs/*DQN*/logs/Episode_Lengths.txt\"\n",
    "DQN_Rewards = []\n",
    "DQN_Lengths = []\n",
    "DQN_Lengths_C = []"
   ]
  },
  {
   "cell_type": "code",
   "execution_count": 7,
   "metadata": {
    "collapsed": true,
    "deletable": true,
    "editable": true
   },
   "outputs": [],
   "source": [
    "for filename in glob.glob(DQN_Rewards_Path):\n",
    "    run_logs = [0]\n",
    "#     print(filename)\n",
    "    with open(filename, \"r\") as f:\n",
    "        for line in f:\n",
    "            try:\n",
    "                ep_r = float(line)\n",
    "            except:\n",
    "                continue\n",
    "            run_logs.append(ep_r)\n",
    "    DQN_Rewards.append(run_logs)"
   ]
  },
  {
   "cell_type": "code",
   "execution_count": 8,
   "metadata": {
    "collapsed": true,
    "deletable": true,
    "editable": true
   },
   "outputs": [],
   "source": [
    "for filename in glob.glob(DQN_Lengths_Path):\n",
    "    run_logs = [0]\n",
    "#     print(filename)\n",
    "    with open(filename, \"r\") as f:\n",
    "        for line in f:\n",
    "            try:\n",
    "                ep_r = float(line)\n",
    "            except:\n",
    "                continue\n",
    "            run_logs.append(ep_r)\n",
    "    DQN_Lengths.append(run_logs)\n",
    "    run_logs_c = np.cumsum(run_logs).astype(np.int32)\n",
    "    DQN_Lengths_C.append(run_logs_c)"
   ]
  },
  {
   "cell_type": "markdown",
   "metadata": {
    "collapsed": false,
    "deletable": true,
    "editable": true
   },
   "source": [
    "for lens, runs in zip(DQN_Lengths_C, DQN_Rewards):\n",
    "    plt.plot(lens, runs)\n",
    "plt.show()"
   ]
  },
  {
   "cell_type": "markdown",
   "metadata": {
    "collapsed": false,
    "deletable": true,
    "editable": true
   },
   "source": [
    "p = figure(width=500, height=500, y_range=(-1,3))\n",
    "for lens, runs in zip(DQN_Lengths_C, DQN_Rewards):\n",
    "    p.line(lens, runs)\n",
    "show(p)"
   ]
  },
  {
   "cell_type": "code",
   "execution_count": null,
   "metadata": {
    "collapsed": true,
    "deletable": true,
    "editable": true
   },
   "outputs": [],
   "source": []
  },
  {
   "cell_type": "markdown",
   "metadata": {
    "collapsed": true,
    "deletable": true,
    "editable": true
   },
   "source": [
    "def plot_averages(names, t_maxs, colors, legends=None, directory=\"Logs/\", step=10):\n",
    "    plt.figure(figsize=(10,10))\n",
    "    plt.ylim(-1, 3)\n",
    "    for name, color, t_max in tqdm(zip(names, colors, t_maxs)):\n",
    "        # TODO: Remove DQN from names\n",
    "        DQN_Rewards_Path = directory + \"*\" + name + \"*/logs/Episode_Rewards.txt\"\n",
    "        DQN_Lengths_Path = directory + \"*\" + name + \"*/logs/Episode_Lengths.txt\"\n",
    "        DQN_Rewards = []\n",
    "        DQN_Lengths = []\n",
    "        DQN_Lengths_C = []\n",
    "        for filename in glob.glob(DQN_Rewards_Path):\n",
    "            run_logs = [0]\n",
    "            with open(filename, \"r\") as f:\n",
    "                for line in f:\n",
    "                    try:\n",
    "                        ep_r = float(line)\n",
    "                    except:\n",
    "                        continue\n",
    "                    run_logs.append(ep_r)\n",
    "            DQN_Rewards.append(run_logs)\n",
    "        for filename in glob.glob(DQN_Lengths_Path):\n",
    "            run_logs = [0]\n",
    "        #     print(filename)\n",
    "            with open(filename, \"r\") as f:\n",
    "                for line in f:\n",
    "                    try:\n",
    "                        ep_r = float(line)\n",
    "                    except:\n",
    "                        continue\n",
    "                    run_logs.append(ep_r)\n",
    "            DQN_Lengths.append(run_logs)\n",
    "            run_logs_c = np.cumsum(run_logs).astype(np.int32)\n",
    "            DQN_Lengths_C.append(run_logs_c)\n",
    "        DQN_Smoothed = []\n",
    "        for times, rewards in zip(DQN_Lengths_C, DQN_Rewards):\n",
    "#             linear = interp1d(times, rewards, kind=\"linear\")\n",
    "#             linear_rewards = linear([i for i in range(500000)])\n",
    "#             DQN_Smoothed.append(linear_rewards)\n",
    "            spline_rewards = spline(times, rewards, [i for i in range(0, t_max, step)])\n",
    "            DQN_Smoothed.append(spline_rewards)\n",
    "        DQN_Means = np.mean(DQN_Smoothed, axis=0)\n",
    "        DQN_Stds = np.std(DQN_Smoothed, axis=0)\n",
    "        plt.fill_between([i for i in range(0, t_max, step)], DQN_Means - DQN_Stds, DQN_Means + DQN_Stds, color=color, alpha=0.2, edgecolor=\"white\")\n",
    "\n",
    "        plt.plot([i for i in range(0, t_max, step)], DQN_Means, color=color)\n",
    "\n",
    "    plt.title(\"Episode_Reward\")\n",
    "    plt.xlabel(\"T\")\n",
    "    plt.ylabel(\"Reward\")\n",
    "    if legends is not None:\n",
    "        plt.legend(legends, bbox_to_anchor=(1.05, 1), loc=2)\n",
    "    plt.show()"
   ]
  },
  {
   "cell_type": "code",
   "execution_count": 9,
   "metadata": {
    "collapsed": true,
    "deletable": true,
    "editable": true
   },
   "outputs": [],
   "source": [
    "from bokeh.models import Legend\n",
    "from bokeh.models.formatters import BasicTickFormatter\n",
    "from bokeh.models import HoverTool, TapTool"
   ]
  },
  {
   "cell_type": "code",
   "execution_count": 10,
   "metadata": {
    "collapsed": false,
    "deletable": true,
    "editable": true
   },
   "outputs": [],
   "source": [
    "def plot_averages_b(names, t_maxs, colors, legends, directories=\"Logs/\", step=10, title=\"\"):\n",
    "#     plt.figure(figsize=(10,10))\n",
    "    p = figure(width=1200, height=800, y_range=(-0.1, 1.1), title=title)\n",
    "    p.toolbar_location = \"above\"\n",
    "    p.yaxis.axis_label = \"Episode Reward\"\n",
    "    p.xaxis.axis_label = \"T\"\n",
    "    p.xaxis.formatter = BasicTickFormatter(use_scientific=False)\n",
    "#     p = figure(width=800, height=500)\n",
    "    lines = []\n",
    "    alpha_lines = []\n",
    "    if isinstance(directories, str):\n",
    "        dd = directories\n",
    "        directories = [dd for _ in names]\n",
    "    for name, color, t_max, legend, directory in zip(names, colors, t_maxs, legends, directories):\n",
    "#         print(directory)\n",
    "        DQN_Rewards_Path = directory + \"*\" + name + \"*/logs/Episode_Rewards.txt\"\n",
    "        DQN_Lengths_Path = directory + \"*\" + name + \"*/logs/Episode_Lengths.txt\"\n",
    "        DQN_Rewards = []\n",
    "        DQN_Lengths = []\n",
    "        DQN_Lengths_C = []\n",
    "        for filename in glob.glob(DQN_Rewards_Path):\n",
    "            run_logs = [0]\n",
    "            with open(filename, \"r\") as f:\n",
    "#                 print(f)\n",
    "                for line in f:\n",
    "                    try:\n",
    "                        ep_r = float(line)\n",
    "                    except:\n",
    "                        print(\"Nothing here for:\", filename)\n",
    "                        continue\n",
    "                    run_logs.append(ep_r)\n",
    "            DQN_Rewards.append(run_logs)\n",
    "        for filename in glob.glob(DQN_Lengths_Path):\n",
    "            run_logs = [0]\n",
    "        #     print(filename)\n",
    "            with open(filename, \"r\") as f:\n",
    "                for line in f:\n",
    "                    try:\n",
    "                        ep_r = float(line)\n",
    "                    except:\n",
    "                        continue\n",
    "                    run_logs.append(ep_r)\n",
    "            DQN_Lengths.append(run_logs)\n",
    "            run_logs_c = np.cumsum(run_logs).astype(np.int32)\n",
    "            DQN_Lengths_C.append(run_logs_c)\n",
    "        DQN_Smoothed = []\n",
    "        for times, rewards in zip(DQN_Lengths_C, DQN_Rewards):\n",
    "#             linear = interp1d(times, rewards, kind=\"linear\")\n",
    "#             linear_rewards = linear([i for i in range(500000)])\n",
    "#             DQN_Smoothed.append(linear_rewards)\n",
    "            spline_rewards = spline(times, rewards, [i for i in range(0, t_max, step)], order=1)\n",
    "            DQN_Smoothed.append(spline_rewards)\n",
    "        DQN_Means = np.mean(DQN_Smoothed, axis=0)\n",
    "        DQN_Stds = np.std(DQN_Smoothed, axis=0)\n",
    "        \n",
    "#         plt.fill_between([i for i in range(0, t_max, step)], DQN_Means - DQN_Stds, DQN_Means + DQN_Stds, color=color, alpha=0.2, edgecolor=\"white\")\n",
    "        # Error bars\n",
    "        xs = [i for i in range(0, t_max, step)]\n",
    "        xs = xs + list(reversed(xs))\n",
    "        ys = np.concatenate([DQN_Means - DQN_Stds, np.flip(DQN_Means + DQN_Stds, axis=0)])\n",
    "        lls = p.patch(xs, ys, color=color, alpha=0.1)\n",
    "\n",
    "        \n",
    "#         for x, y, yerr in zip(range(0, t_max, step), DQN_Means, DQN_Stds):\n",
    "#             lls = p.line([x, x], [y - yerr, y + yerr], color=color, alpha=0.1, hover_alpha=0.8)\n",
    "#             alpha_lines.append(lls)\n",
    "            \n",
    "\n",
    "#         plt.plot([i for i in range(0, t_max, step)], DQN_Means, color=color)\n",
    "        l = p.line([i for i in range(0, t_max, step)], DQN_Means, color=color, line_width=2)\n",
    "        lines.append(l)\n",
    "#         alpha_lines.append(lls)\n",
    "\n",
    "#     plt.title(\"Episode_Reward\")\n",
    "#     plt.xlabel(\"T\")\n",
    "#     plt.ylabel(\"Reward\")\n",
    "#     if legends is not None:\n",
    "#         plt.legend(legends)\n",
    "#     plt.show()\n",
    "#     p.line([0,1], [-1,3])\n",
    "    new_leg = Legend(items=[(name, [line]) for name, line in zip(legends, lines)], location=(0,-30))\n",
    "    p.add_layout(new_leg, \"right\")\n",
    "#     p.add_tools(HoverTool(renderers=alpha_lines))\n",
    "#     p.add_tools(TapTool(renderers=alpha_lines))\n",
    "    show(p)"
   ]
  },
  {
   "cell_type": "code",
   "execution_count": 11,
   "metadata": {
    "collapsed": false,
    "deletable": true,
    "editable": true
   },
   "outputs": [],
   "source": [
    "def plot_states(names, t_maxs, colors, legends, directories=\"Logs/\", step=10, title=\"\"):\n",
    "#     plt.figure(figsize=(10,10))\n",
    "    p = figure(width=1200, height=800, title=title)\n",
    "    p.toolbar_location = \"above\"\n",
    "    p.yaxis.axis_label = \"States visited\"\n",
    "    p.xaxis.axis_label = \"T\"\n",
    "    p.xaxis.formatter = BasicTickFormatter(use_scientific=False)\n",
    "#     p = figure(width=800, height=500)\n",
    "    lines = []\n",
    "    alpha_lines = []\n",
    "    if isinstance(directories, str):\n",
    "        dd = directories\n",
    "        directories = [dd for _ in names]\n",
    "    for name, color, t_max, legend, directory in zip(names, colors, t_maxs, legends, directories):\n",
    "#         print(directory)\n",
    "        States_Path = directory + \"*\" + name + \"*/logs/Player_Positions.txt\"\n",
    "        States = []\n",
    "        for filename in glob.glob(States_Path):\n",
    "            run_logs = []\n",
    "            with open(filename, \"r\") as f:\n",
    "#                 print(f)\n",
    "                for line in f:\n",
    "                    try:\n",
    "                        ep_r = str(line)\n",
    "#                         print(ep_r)\n",
    "                    except:\n",
    "                        print(\"Nothing here for:\", filename)\n",
    "                        continue\n",
    "                    run_logs.append(ep_r)\n",
    "            States.append(run_logs)\n",
    "        States_Visited = []\n",
    "        for run in States:\n",
    "            Visited = []\n",
    "            States_Sets = set()\n",
    "#             print(len(run))\n",
    "            for ii, s in enumerate(run):\n",
    "                if ii >= t_max - 1:\n",
    "                    break\n",
    "#                 print(s)\n",
    "                States_Sets.add(s)\n",
    "                if ii % step == 0:\n",
    "                    Visited.append(len(States_Sets))\n",
    "#             print(len(States_Sets))\n",
    "#             print(len(Visited))\n",
    "            States_Visited.append(Visited)\n",
    "#         print(np.array(States_Visited).shape)\n",
    "        Means = np.mean(States_Visited, axis=0)\n",
    "        Stds = np.std(States_Visited, axis=0)\n",
    "#         print(Means.shape)\n",
    "        \n",
    "#         plt.fill_between([i for i in range(0, t_max, step)], DQN_Means - DQN_Stds, DQN_Means + DQN_Stds, color=color, alpha=0.2, edgecolor=\"white\")\n",
    "        # Error bars\n",
    "        xs = [i for i in range(0, t_max, step)]\n",
    "        xs = xs + list(reversed(xs))\n",
    "        ys = np.concatenate([Means - Stds, np.flip(Means + Stds, axis=0)])\n",
    "        lls = p.patch(xs, ys, color=color, alpha=0.1)\n",
    "\n",
    "        \n",
    "#         for x, y, yerr in zip(range(0, t_max, step), DQN_Means, DQN_Stds):\n",
    "#             lls = p.line([x, x], [y - yerr, y + yerr], color=color, alpha=0.1, hover_alpha=0.8)\n",
    "#             alpha_lines.append(lls)\n",
    "            \n",
    "\n",
    "#         plt.plot([i for i in range(0, t_max, step)], DQN_Means, color=color)\n",
    "        l = p.line([i for i in range(0, t_max, step)], Means, color=color, line_width=2)\n",
    "        lines.append(l)\n",
    "#         alpha_lines.append(lls)\n",
    "\n",
    "#     plt.title(\"Episode_Reward\")\n",
    "#     plt.xlabel(\"T\")\n",
    "#     plt.ylabel(\"Reward\")\n",
    "#     if legends is not None:\n",
    "#         plt.legend(legends)\n",
    "#     plt.show()\n",
    "#     p.line([0,1], [-1,3])\n",
    "    new_leg = Legend(items=[(name, [line]) for name, line in zip(legends, lines)], location=(0,-30))\n",
    "    p.add_layout(new_leg, \"right\")\n",
    "#     p.add_tools(HoverTool(renderers=alpha_lines))\n",
    "#     p.add_tools(TapTool(renderers=alpha_lines))\n",
    "    show(p)"
   ]
  },
  {
   "cell_type": "code",
   "execution_count": null,
   "metadata": {
    "collapsed": true,
    "deletable": true,
    "editable": true
   },
   "outputs": [],
   "source": []
  },
  {
   "cell_type": "code",
   "execution_count": 12,
   "metadata": {
    "collapsed": false,
    "deletable": true,
    "editable": true
   },
   "outputs": [
    {
     "name": "stdout",
     "output_type": "stream",
     "text": [
      "['_10_Step_*DQN_', '_10_Step_*k_Count_', '_10_Step_*_CountEps_']\n",
      "[300001, 300001, 300001]\n"
     ]
    }
   ],
   "source": [
    "names = []\n",
    "legends = []\n",
    "t_maxs = []\n",
    "directories = []\n",
    "\n",
    "            \n",
    "# Frontier stuff\n",
    "for step in [10]:\n",
    "    # DQN\n",
    "    names += [\"_{}_Step_*DQN_\".format(step)]\n",
    "    legends += [\"{}_Step_DQN\".format(step)]\n",
    "    t_maxs += [300001]\n",
    "#     continue\n",
    "    # PseudoCount\n",
    "    names += [\"_{}_Step_*k_Count_\".format(step)]\n",
    "    legends += [\"{}_Step_Count\".format(step)]\n",
    "    t_maxs += [300001]\n",
    "#     continue\n",
    "    # EpsilonScaling\n",
    "    names += [\"_{}_Step_*_CountEps_\".format(step)]\n",
    "    legends += [\"{}_Step_Epsilon_Scaling\".format(step)]\n",
    "    t_maxs += [300001]\n",
    "            \n",
    "    \n",
    "direc = \"/home/tabz/tmp/logfiles/MedMaze10/MedMaze10\"\n",
    "# directories =  [\"{}/{}\".format(dropbox_direc, \"Maze_5_Logs/\")] + 3 * [\"{}/{}\".format(dropbox_direc, \"Maze_5_Batch_Sizes_Logs/\")] \n",
    "directories += [direc + \"/EpsilonLogs/\"] * 3\n",
    "    \n",
    "print(names)\n",
    "print(t_maxs)\n",
    "# colours = [\"red\", \"#3366ff\", \"#66ff33\", \"yellow\"]\n",
    "# colours = rainbow(np.linspace(0, 1, len(names)))"
   ]
  },
  {
   "cell_type": "code",
   "execution_count": 13,
   "metadata": {
    "collapsed": false,
    "deletable": true,
    "editable": true
   },
   "outputs": [
    {
     "name": "stdout",
     "output_type": "stream",
     "text": [
      "['_100_Step*k_Count_', '_100_Step*OptimisticAction', '_100_Step*_CountEps_']\n",
      "[300001, 300001, 300001]\n",
      "/home/scratch/tabhid/Log_Files/Gamma_Logs//\n"
     ]
    }
   ],
   "source": [
    "names = []\n",
    "legends = []\n",
    "t_maxs = []\n",
    "\n",
    "            \n",
    "# Frontier bandit stuff\n",
    "\n",
    "for n in [100]:\n",
    "    \n",
    "    # Count\n",
    "    names += [\"_{}_Step*k_Count_\".format(n)]\n",
    "    legends += [\"{}_Step_Count\".format(n)]\n",
    "    t_maxs += [300001]\n",
    "#     continue\n",
    "    # Optimistic\n",
    "    names += [\"_{}_Step*OptimisticAction\".format(n)]\n",
    "    legends += [\"{}_Step_OptimisticAction\".format(n)]\n",
    "    t_maxs += [300001]\n",
    "#     continue\n",
    "    # Epsilon Scaling\n",
    "    names += [\"_{}_Step*_CountEps_\".format(n)]\n",
    "    legends += [\"{}_Step_EpsilonScaling\".format(n)]\n",
    "    t_maxs += [300001]\n",
    "            \n",
    "    \n",
    "direc = \"/home/scratch/tabhid/Log_Files/Gamma_Logs//\"\n",
    "# directories =  [\"{}/{}\".format(dropbox_direc, \"Maze_5_Logs/\")] + 3 * [\"{}/{}\".format(dropbox_direc, \"Maze_5_Batch_Sizes_Logs/\")] \n",
    "# directories += [direc + \"/BanditLogs/\"] * 3\n",
    "directories = direc\n",
    "    \n",
    "print(names)\n",
    "print(t_maxs)\n",
    "print(directories)\n",
    "# colours = [\"red\", \"#3366ff\", \"#66ff33\", \"yellow\"]\n",
    "# colours = rainbow(np.linspace(0, 1, len(names)))"
   ]
  },
  {
   "cell_type": "code",
   "execution_count": 14,
   "metadata": {
    "collapsed": false,
    "deletable": true,
    "editable": true
   },
   "outputs": [
    {
     "name": "stdout",
     "output_type": "stream",
     "text": [
      "['_0.9_Decay*_Eps_0.1_', '_0.99_Decay*_Eps_0.1_', '_0.9999_Decay*_Eps_0.1_', '_0.9_Decay*_Eps_1_', '_0.99_Decay*_Eps_1_', '_0.9999_Decay*_Eps_1_']\n",
      "[300001, 300001, 300001, 300001, 300001, 300001]\n",
      "/home/tabz/tmp/Epsilon_Decay_Logs/\n"
     ]
    }
   ],
   "source": [
    "names = []\n",
    "legends = []\n",
    "t_maxs = []\n",
    "\n",
    "            \n",
    "# Epsilon Decay Scaling\n",
    "for eps in [0.1, 1]:\n",
    "    for decay in [0.9, 0.99, 0.9999]:\n",
    "    \n",
    "        names += [\"_{}_Decay*_Eps_{}_\".format(decay, eps)]\n",
    "        legends += [\"{}_Decay_EpsilonScaling_{}_Start\".format(decay, eps)]\n",
    "        t_maxs += [300001]\n",
    "            \n",
    "    \n",
    "# direc = \"/home/scratch/tabhid/Log_Files/Epsilon_Decay_Logs/\"\n",
    "direc = \"/home/tabz/tmp/Epsilon_Decay_Logs/\"\n",
    "# directories =  [\"{}/{}\".format(dropbox_direc, \"Maze_5_Logs/\")] + 3 * [\"{}/{}\".format(dropbox_direc, \"Maze_5_Batch_Sizes_Logs/\")] \n",
    "# directories += [direc + \"/BanditLogs/\"] * 3\n",
    "directories = direc\n",
    "    \n",
    "print(names)\n",
    "print(t_maxs)\n",
    "print(directories)"
   ]
  },
  {
   "cell_type": "code",
   "execution_count": 15,
   "metadata": {
    "collapsed": false,
    "deletable": true,
    "editable": true
   },
   "outputs": [
    {
     "name": "stdout",
     "output_type": "stream",
     "text": [
      "['_NegativeReward_0.5_', '_NegativeReward_0.7_', '_NegativeReward_0.9_']\n",
      "[300001, 300001, 300001]\n",
      "/home/tabz/tmp/Big_Negative_Reward_Logs/\n"
     ]
    }
   ],
   "source": [
    "names = []\n",
    "legends = []\n",
    "t_maxs = []\n",
    "\n",
    "            \n",
    "# Negative reward threshold\n",
    "for ns in [0.5, 0.7,  0.9]:\n",
    "    names += [\"_NegativeReward_{}_\".format(ns)]\n",
    "    legends += [\"NegativeReward_{}_Threshold\".format(ns)]\n",
    "    t_maxs += [300001]\n",
    "            \n",
    "    \n",
    "# direc = \"/home/scratch/tabhid/Log_Files/Epsilon_Decay_Logs/\"\n",
    "direc = \"/home/tabz/tmp/Big_Negative_Reward_Logs/\"\n",
    "# directories =  [\"{}/{}\".format(dropbox_direc, \"Maze_5_Logs/\")] + 3 * [\"{}/{}\".format(dropbox_direc, \"Maze_5_Batch_Sizes_Logs/\")] \n",
    "# directories += [direc + \"/BanditLogs/\"] * 3\n",
    "directories = direc\n",
    "    \n",
    "print(names)\n",
    "print(t_maxs)\n",
    "print(directories)"
   ]
  },
  {
   "cell_type": "code",
   "execution_count": 16,
   "metadata": {
    "collapsed": false,
    "deletable": true,
    "editable": true
   },
   "outputs": [
    {
     "name": "stdout",
     "output_type": "stream",
     "text": [
      "['k_OptimisticAction_0.0001_Scaler', 'k_OptimisticAction_0.0005_Scaler', 'k_OptimisticAction_0.001_Scaler', 'k_OptimisticAction_0.005_Scaler']\n",
      "[300001, 300001, 300001, 300001]\n",
      "/home/scratch/tabhid/Log_Files/Bandit_Small_Tau_Logs/\n"
     ]
    }
   ],
   "source": [
    "names = []\n",
    "legends = []\n",
    "t_maxs = []\n",
    "\n",
    "            \n",
    "# Bandit Tau\n",
    "for tau in [0.0001, 0.0005, 0.001, 0.005]:\n",
    "    for negative_reward in [False]:\n",
    "        if negative_reward:\n",
    "            names += [\"NegativeReward_*_OptimisticAction_{}_Scaler\".format(tau)]\n",
    "            legends += [\"Optim Bandit {} Tau Neg Reward\".format(tau)]\n",
    "        else:\n",
    "            names += [\"k_OptimisticAction_{}_Scaler\".format(tau)]\n",
    "            legends += [\"Optim Bandit {} Tau\".format(tau)]\n",
    "        t_maxs += [300001]\n",
    "            \n",
    "    \n",
    "direc = \"/home/scratch/tabhid/Log_Files/Bandit_Small_Tau_Logs/\"\n",
    "# direc = \"/home/tabz/tmp/Bandit_Tau_Logs/\"\n",
    "# directories =  [\"{}/{}\".format(dropbox_direc, \"Maze_5_Logs/\")] + 3 * [\"{}/{}\".format(dropbox_direc, \"Maze_5_Batch_Sizes_Logs/\")] \n",
    "# directories += [direc + \"/BanditLogs/\"] * 3\n",
    "directories = direc\n",
    "    \n",
    "print(names)\n",
    "print(t_maxs)\n",
    "print(directories)"
   ]
  },
  {
   "cell_type": "code",
   "execution_count": 17,
   "metadata": {
    "collapsed": false,
    "deletable": true,
    "editable": true
   },
   "outputs": [
    {
     "name": "stdout",
     "output_type": "stream",
     "text": [
      "['Batch_64_XpSize_600k', 'Batch_128_XpSize_600k', 'Batch_256_XpSize_600k']\n",
      "[600001, 600001, 600001]\n",
      "/home/tabz/tmp/logfiles/MedMaze10/Batch_Size_Logs/\n"
     ]
    }
   ],
   "source": [
    "names = []\n",
    "legends = []\n",
    "t_maxs = []\n",
    "\n",
    "            \n",
    "# Batch Size\n",
    "for xp in [600]:\n",
    "    for bs in [64, 128, 256]:\n",
    "        names += [\"Batch_{}_XpSize_{}k\".format(bs, xp)]\n",
    "        legends += [\"Batch {} Xp {}k\".format(bs, xp)]\n",
    "        t_maxs += [600001]\n",
    "            \n",
    "    \n",
    "# direc = \"/home/scratch/tabhid/Log_Files/Xp_Logs/\"\n",
    "direc = \"/home/tabz/tmp/logfiles/MedMaze10/Batch_Size_Logs/\"\n",
    "# directories =  [\"{}/{}\".format(dropbox_direc, \"Maze_5_Logs/\")] + 3 * [\"{}/{}\".format(dropbox_direc, \"Maze_5_Batch_Sizes_Logs/\")] \n",
    "# directories += [direc + \"/BanditLogs/\"] * 3\n",
    "directories = direc\n",
    "    \n",
    "print(names)\n",
    "print(t_maxs)\n",
    "print(directories)"
   ]
  },
  {
   "cell_type": "code",
   "execution_count": 18,
   "metadata": {
    "collapsed": false,
    "deletable": true,
    "editable": true
   },
   "outputs": [
    {
     "name": "stdout",
     "output_type": "stream",
     "text": [
      "['ETrace_0.7_6_States', 'ETrace_0.9_6_States', 'ETrace_1_6_States']\n",
      "[600001, 600001, 600001]\n",
      "/home/tabz/tmp/logfiles/MedMaze10/Elig_3_Logs/\n"
     ]
    }
   ],
   "source": [
    "names = []\n",
    "legends = []\n",
    "t_maxs = []\n",
    "\n",
    "            \n",
    "# Elig States\n",
    "for lamb in [0.7, 0.9, 1]:\n",
    "    for states in [6]:\n",
    "        names += [\"ETrace_{}_{}_States\".format(lamb, states)]\n",
    "        legends += [\"Traces {} Lambda {} States 3 Gap\".format(lamb, states)]\n",
    "        t_maxs += [600001]\n",
    "            \n",
    "    \n",
    "# direc = \"/home/scratch/tabhid/Log_Files/Xp_Logs/\"\n",
    "direc = \"/home/tabz/tmp/logfiles/MedMaze10/Elig_3_Logs/\"\n",
    "# directories =  [\"{}/{}\".format(dropbox_direc, \"Maze_5_Logs/\")] + 3 * [\"{}/{}\".format(dropbox_direc, \"Maze_5_Batch_Sizes_Logs/\")] \n",
    "# directories += [direc + \"/BanditLogs/\"] * 3\n",
    "directories = direc\n",
    "    \n",
    "print(names)\n",
    "print(t_maxs)\n",
    "print(directories)"
   ]
  },
  {
   "cell_type": "code",
   "execution_count": 19,
   "metadata": {
    "collapsed": false,
    "deletable": true,
    "editable": true
   },
   "outputs": [
    {
     "name": "stdout",
     "output_type": "stream",
     "text": [
      "['Iters_1_', 'Iters_2_', 'Iters_4_', 'Iters_8_', 'Iters_16_']\n",
      "[600001, 600001, 600001, 600001, 600001]\n",
      "/home/tabz/tmp/logfiles/MedMaze10/Iters_Logs/\n"
     ]
    }
   ],
   "source": [
    "names = []\n",
    "legends = []\n",
    "t_maxs = []\n",
    "\n",
    "            \n",
    "# Iterations\n",
    "for i in [1, 2, 4, 8, 16]:\n",
    "    names += [\"Iters_{}_\".format(i)]\n",
    "    legends += [\"{} Iterations\".format(i)]\n",
    "    t_maxs += [600001]\n",
    "            \n",
    "    \n",
    "# direc = \"/home/scratch/tabhid/Log_Files/Xp_Logs/\"\n",
    "direc = \"/home/tabz/tmp/logfiles/MedMaze10/Iters_Logs/\"\n",
    "# directories =  [\"{}/{}\".format(dropbox_direc, \"Maze_5_Logs/\")] + 3 * [\"{}/{}\".format(dropbox_direc, \"Maze_5_Batch_Sizes_Logs/\")] \n",
    "# directories += [direc + \"/BanditLogs/\"] * 3\n",
    "directories = direc\n",
    "    \n",
    "print(names)\n",
    "print(t_maxs)\n",
    "print(directories)"
   ]
  },
  {
   "cell_type": "code",
   "execution_count": 20,
   "metadata": {
    "collapsed": false,
    "deletable": true,
    "editable": true
   },
   "outputs": [
    {
     "name": "stdout",
     "output_type": "stream",
     "text": [
      "['k_CountEps_', 'Trajectory_0.2_', 'Trajectory_0.5_', 'Trajectory_0.75_', 'Trajectory_0.8_', 'Trajectory_0.9_']\n",
      "[600001, 600001, 600001, 600001, 600001, 600001]\n",
      "/home/tabz/tmp/logfiles/MedMaze10/Trajectory_Logs/\n"
     ]
    }
   ],
   "source": [
    "names = []\n",
    "legends = []\n",
    "t_maxs = []\n",
    "\n",
    "names += [\"k_CountEps_\"]\n",
    "legends += [\"No Trajectory\"]\n",
    "t_maxs += [600001]\n",
    "            \n",
    "# Trajectory\n",
    "for t in [0.2, 0.5, 0.75, 0.8, 0.9]:\n",
    "    names += [\"Trajectory_{}_\".format(t)]\n",
    "    legends += [\"Trajectory {} Save\".format(t)]\n",
    "    t_maxs += [600001]\n",
    "            \n",
    "    \n",
    "# direc = \"/home/scratch/tabhid/Log_Files/Xp_Logs/\"\n",
    "direc = \"/home/tabz/tmp/logfiles/MedMaze10/Trajectory_Logs/\"\n",
    "# directories =  [\"{}/{}\".format(dropbox_direc, \"Maze_5_Logs/\")] + 3 * [\"{}/{}\".format(dropbox_direc, \"Maze_5_Batch_Sizes_Logs/\")] \n",
    "# directories += [direc + \"/BanditLogs/\"] * 3\n",
    "directories = direc\n",
    "    \n",
    "print(names)\n",
    "print(t_maxs)\n",
    "print(directories)"
   ]
  },
  {
   "cell_type": "code",
   "execution_count": 21,
   "metadata": {
    "collapsed": false,
    "deletable": true,
    "editable": true
   },
   "outputs": [
    {
     "name": "stdout",
     "output_type": "stream",
     "text": [
      "['XpSize_30k*CountDecay_0.9999', 'XpSize_30k*CountDecay_0.999999', 'XpSize_30k*CountDecay_1', 'XpSize_60k*CountDecay_0.9999', 'XpSize_60k*CountDecay_0.999999', 'XpSize_60k*CountDecay_1', 'XpSize_100k*CountDecay_0.9999', 'XpSize_100k*CountDecay_0.999999', 'XpSize_100k*CountDecay_1']\n",
      "[600001, 600001, 600001, 600001, 600001, 600001, 600001, 600001, 600001]\n",
      "/home/tabz/tmp/logfiles/CountXpSort/\n"
     ]
    }
   ],
   "source": [
    "names = []\n",
    "legends = []\n",
    "t_maxs = []\n",
    "          \n",
    "# Count Xp Sort\n",
    "for xp in [30, 60, 100]:\n",
    "    for decay in [0.9999, 0.999999, 1]:\n",
    "        names += [\"XpSize_{}k*CountDecay_{}\".format(xp, decay)]\n",
    "        legends += [\"CountXp Sort {}k Xp {} CountDecay\".format(xp, decay)]\n",
    "        t_maxs += [600001]\n",
    "            \n",
    "    \n",
    "# direc = \"/home/scratch/tabhid/Log_Files/Xp_Logs/\"\n",
    "direc = \"/home/tabz/tmp/logfiles/CountXpSort/\"\n",
    "# directories =  [\"{}/{}\".format(dropbox_direc, \"Maze_5_Logs/\")] + 3 * [\"{}/{}\".format(dropbox_direc, \"Maze_5_Batch_Sizes_Logs/\")] \n",
    "# directories += [direc + \"/BanditLogs/\"] * 3\n",
    "directories = direc\n",
    "    \n",
    "print(names)\n",
    "print(t_maxs)\n",
    "print(directories)"
   ]
  },
  {
   "cell_type": "code",
   "execution_count": 22,
   "metadata": {
    "collapsed": false,
    "deletable": true,
    "editable": true
   },
   "outputs": [
    {
     "name": "stdout",
     "output_type": "stream",
     "text": [
      "['OptimisticAction_0.1', 'OptimisticAction_1', 'OptimisticAction_10', 'k_CountEps']\n",
      "[600001, 600001, 600001, 600001]\n",
      "/home/tabz/tmp/logfiles/MedMaze12/\n"
     ]
    }
   ],
   "source": [
    "names = []\n",
    "legends = []\n",
    "t_maxs = []\n",
    "          \n",
    "# MedMaze12\n",
    "\n",
    "#Bandits\n",
    "for os in [0.1, 1, 10]:\n",
    "    names += [\"OptimisticAction_{}\".format(os)]\n",
    "    legends += [\"Bandit {} Scaler\".format(os)]\n",
    "    t_maxs += [600001]\n",
    "    \n",
    "# #-ve reward\n",
    "# for nr in [0.5, 0.7]:\n",
    "#     names += [\"NegativeReward_{}\".format(nr)]\n",
    "#     legends += [\"Negative Reward {}\".format(nr)]\n",
    "#     t_maxs += [600001]\n",
    "    \n",
    "#CountXp\n",
    "names += [\"k_CountEps\"]\n",
    "legends += [\"Counts\"]\n",
    "t_maxs += [600001]\n",
    "            \n",
    "    \n",
    "# direc = \"/home/scratch/tabhid/Log_Files/Xp_Logs/\"\n",
    "direc = \"/home/tabz/tmp/logfiles/MedMaze12/\"\n",
    "# directories =  [\"{}/{}\".format(dropbox_direc, \"Maze_5_Logs/\")] + 3 * [\"{}/{}\".format(dropbox_direc, \"Maze_5_Batch_Sizes_Logs/\")] \n",
    "# directories += [direc + \"/BanditLogs/\"] * 3\n",
    "directories = direc\n",
    "    \n",
    "print(names)\n",
    "print(t_maxs)\n",
    "print(directories)"
   ]
  },
  {
   "cell_type": "code",
   "execution_count": 23,
   "metadata": {
    "collapsed": false,
    "deletable": true,
    "editable": true
   },
   "outputs": [
    {
     "name": "stdout",
     "output_type": "stream",
     "text": [
      "['k_CountEps*Stale_50k', 'Prioritized*Stale_50k', 'Prioritized_IS*Stale_50k', 'k_CountEps*Stale_300k', 'Prioritized*Stale_300k', 'Prioritized_IS*Stale_300k']\n",
      "[600001, 600001, 600001, 600001, 600001, 600001]\n",
      "/home/tabz/tmp/logfiles/Prioritized_Logs/\n"
     ]
    }
   ],
   "source": [
    "names = []\n",
    "legends = []\n",
    "t_maxs = []\n",
    "          \n",
    "# Prioritized replay stuff\n",
    "for fresh in [50, 300]:\n",
    "    for p in [None, \"P\", \"P_IS\"]:\n",
    "        if p is \"P\":\n",
    "            names += [\"Prioritized*Stale_{}k\".format(fresh)]\n",
    "            legends += [\"Prioritized {}k Fresh Counts\".format(fresh)]\n",
    "        elif p is \"P_IS\":\n",
    "            names += [\"Prioritized_IS*Stale_{}k\".format(fresh)]\n",
    "            legends += [\"Prioritized IS {}k Fresh Counts\".format(fresh)]\n",
    "        else:\n",
    "            names += [\"k_CountEps*Stale_{}k\".format(fresh)]\n",
    "            legends += [\"{}k Fresh Counts\".format(fresh)]\n",
    "        t_maxs += [600001]\n",
    "    \n",
    "direc = \"/home/tabz/tmp/logfiles/Prioritized_Logs/\"\n",
    "env = \"Med Maze 10\"\n",
    "directories = direc\n",
    "    \n",
    "print(names)\n",
    "print(t_maxs)\n",
    "print(directories)"
   ]
  },
  {
   "cell_type": "code",
   "execution_count": 24,
   "metadata": {
    "collapsed": false,
    "deletable": true,
    "editable": true
   },
   "outputs": [
    {
     "name": "stdout",
     "output_type": "stream",
     "text": [
      "['_0.1_Mix', '_0.3_Mix', '_0.5_Mix', '_0.7_Mix', '_0.9_Mix']\n",
      "[600001, 600001, 600001, 600001, 600001]\n",
      "/home/tabz/tmp/logfiles/Mixing_Logs/\n"
     ]
    }
   ],
   "source": [
    "names = []\n",
    "legends = []\n",
    "t_maxs = []\n",
    "          \n",
    "# Mixing\n",
    "for mix in [0.1, 0.3, 0.5, 0.7, 0.9]:\n",
    "    names += [\"_{}_Mix\".format(mix)]\n",
    "    legends += [\"{} Mixing\".format(mix)]\n",
    "    t_maxs += [600001]\n",
    "    \n",
    "direc = \"/home/tabz/tmp/logfiles/Mixing_Logs/\"\n",
    "directories = direc\n",
    "\n",
    "env =\"Med Maze 10\"\n",
    "    \n",
    "print(names)\n",
    "print(t_maxs)\n",
    "print(directories)"
   ]
  },
  {
   "cell_type": "code",
   "execution_count": 25,
   "metadata": {
    "collapsed": false,
    "deletable": true,
    "editable": true
   },
   "outputs": [
    {
     "name": "stdout",
     "output_type": "stream",
     "text": [
      "['OptimisticAction_0.1', 'OptimisticAction_0.01', 'OptimisticAction_0.001', 'CountEps_0.9999_', 'CountEps_0.999_', 'CountEps_0.99_', 'CountEps_0.9_']\n",
      "[600001, 600001, 600001, 600001, 600001, 600001, 600001]\n",
      "/home/tabz/tmp/logfiles/Frontier_Logs/\n"
     ]
    }
   ],
   "source": [
    "names = []\n",
    "legends = []\n",
    "t_maxs = []\n",
    "          \n",
    "# MedMaze12\n",
    "\n",
    "#Bandits\n",
    "for os in [0.1, 0.01, 0.001]:\n",
    "    names += [\"OptimisticAction_{}\".format(os)]\n",
    "    legends += [\"Bandit {} Scaler\".format(os)]\n",
    "    t_maxs += [600001]\n",
    "    \n",
    "#Epsilon decay\n",
    "for decay in [0.9999, 0.999, 0.99, 0.9]:\n",
    "    names += [\"CountEps_{}_\".format(decay)]\n",
    "    legends += [\"Epsilon Scaling {} Decay\".format(decay)]\n",
    "    t_maxs += [600001]\n",
    "            \n",
    "    \n",
    "direc = \"/home/tabz/tmp/logfiles/Frontier_Logs/\"\n",
    "directories = direc\n",
    "env = \"Med Maze 12\"\n",
    "    \n",
    "print(names)\n",
    "print(t_maxs)\n",
    "print(directories)"
   ]
  },
  {
   "cell_type": "code",
   "execution_count": 47,
   "metadata": {
    "collapsed": false,
    "deletable": true,
    "editable": true
   },
   "outputs": [
    {
     "name": "stdout",
     "output_type": "stream",
     "text": [
      "['k_Double_*Beta_0.001_', 'k_CountEps*Beta_0.001_', 'k_Double_*Beta_0.0001_', 'k_CountEps*Beta_0.0001_']\n",
      "[600001, 600001, 600001, 600001]\n",
      "/home/scratch/tabhid/Log_Files/SetReplayLogs/\n"
     ]
    }
   ],
   "source": [
    "names = []\n",
    "legends = []\n",
    "t_maxs = []\n",
    "          \n",
    "# MedMaze10 Set replay\n",
    "\n",
    "for setreplay in [False]:\n",
    "    for beta in [0.001, 0.0001]:\n",
    "        for double in [True, False]:\n",
    "            name = \"\"\n",
    "            legend = \"\"\n",
    "            if setreplay:\n",
    "                legend += \"SetReplay \" \n",
    "            if double:\n",
    "                legend += \"Double \"\n",
    "                \n",
    "            if setreplay and double:\n",
    "                name += \"_SetReplay_Double_\"\n",
    "            elif setreplay:\n",
    "                name += \"_SetReplay_CountEps\"\n",
    "            elif double:\n",
    "                name += \"k_Double_\"\n",
    "            else:\n",
    "                name += \"k_CountEps\"\n",
    "            name += \"*Beta_{}_\".format(beta)\n",
    "            legend += \"Beta {}\".format(beta)\n",
    "            \n",
    "            names += [name]\n",
    "            legends += [legend]\n",
    "            t_maxs += [600001]            \n",
    "    \n",
    "direc = \"/home/scratch/tabhid/Log_Files/SetReplayLogs/\"\n",
    "directories = direc\n",
    "env = \"Med Maze 10 Set Replay\"\n",
    "    \n",
    "print(names)\n",
    "print(t_maxs)\n",
    "print(directories)"
   ]
  },
  {
   "cell_type": "code",
   "execution_count": 48,
   "metadata": {
    "collapsed": true,
    "deletable": true,
    "editable": true
   },
   "outputs": [],
   "source": [
    "import itertools"
   ]
  },
  {
   "cell_type": "code",
   "execution_count": 49,
   "metadata": {
    "collapsed": false,
    "deletable": true,
    "editable": true
   },
   "outputs": [],
   "source": [
    "from bokeh.palettes import magma, inferno, Set1, Set3, Paired, Dark2"
   ]
  },
  {
   "cell_type": "code",
   "execution_count": 50,
   "metadata": {
    "collapsed": true,
    "deletable": true,
    "editable": true
   },
   "outputs": [],
   "source": [
    "colours = Set1[len(names)]"
   ]
  },
  {
   "cell_type": "code",
   "execution_count": 51,
   "metadata": {
    "collapsed": false,
    "deletable": true,
    "editable": true
   },
   "outputs": [
    {
     "data": {
      "text/html": [
       "\n",
       "\n",
       "    <div class=\"bk-root\">\n",
       "        <div class=\"bk-plotdiv\" id=\"93196d11-143c-4470-b49a-52b8c1f0821a\"></div>\n",
       "    </div>\n",
       "<script type=\"text/javascript\">\n",
       "  \n",
       "  (function(global) {\n",
       "    function now() {\n",
       "      return new Date();\n",
       "    }\n",
       "  \n",
       "    var force = false;\n",
       "  \n",
       "    if (typeof (window._bokeh_onload_callbacks) === \"undefined\" || force === true) {\n",
       "      window._bokeh_onload_callbacks = [];\n",
       "      window._bokeh_is_loading = undefined;\n",
       "    }\n",
       "  \n",
       "  \n",
       "    \n",
       "    if (typeof (window._bokeh_timeout) === \"undefined\" || force === true) {\n",
       "      window._bokeh_timeout = Date.now() + 0;\n",
       "      window._bokeh_failed_load = false;\n",
       "    }\n",
       "  \n",
       "    var NB_LOAD_WARNING = {'data': {'text/html':\n",
       "       \"<div style='background-color: #fdd'>\\n\"+\n",
       "       \"<p>\\n\"+\n",
       "       \"BokehJS does not appear to have successfully loaded. If loading BokehJS from CDN, this \\n\"+\n",
       "       \"may be due to a slow or bad network connection. Possible fixes:\\n\"+\n",
       "       \"</p>\\n\"+\n",
       "       \"<ul>\\n\"+\n",
       "       \"<li>re-rerun `output_notebook()` to attempt to load from CDN again, or</li>\\n\"+\n",
       "       \"<li>use INLINE resources instead, as so:</li>\\n\"+\n",
       "       \"</ul>\\n\"+\n",
       "       \"<code>\\n\"+\n",
       "       \"from bokeh.resources import INLINE\\n\"+\n",
       "       \"output_notebook(resources=INLINE)\\n\"+\n",
       "       \"</code>\\n\"+\n",
       "       \"</div>\"}};\n",
       "  \n",
       "    function display_loaded() {\n",
       "      if (window.Bokeh !== undefined) {\n",
       "        document.getElementById(\"93196d11-143c-4470-b49a-52b8c1f0821a\").textContent = \"BokehJS successfully loaded.\";\n",
       "      } else if (Date.now() < window._bokeh_timeout) {\n",
       "        setTimeout(display_loaded, 100)\n",
       "      }\n",
       "    }\n",
       "  \n",
       "    function run_callbacks() {\n",
       "      window._bokeh_onload_callbacks.forEach(function(callback) { callback() });\n",
       "      delete window._bokeh_onload_callbacks\n",
       "      console.info(\"Bokeh: all callbacks have finished\");\n",
       "    }\n",
       "  \n",
       "    function load_libs(js_urls, callback) {\n",
       "      window._bokeh_onload_callbacks.push(callback);\n",
       "      if (window._bokeh_is_loading > 0) {\n",
       "        console.log(\"Bokeh: BokehJS is being loaded, scheduling callback at\", now());\n",
       "        return null;\n",
       "      }\n",
       "      if (js_urls == null || js_urls.length === 0) {\n",
       "        run_callbacks();\n",
       "        return null;\n",
       "      }\n",
       "      console.log(\"Bokeh: BokehJS not loaded, scheduling load and callback at\", now());\n",
       "      window._bokeh_is_loading = js_urls.length;\n",
       "      for (var i = 0; i < js_urls.length; i++) {\n",
       "        var url = js_urls[i];\n",
       "        var s = document.createElement('script');\n",
       "        s.src = url;\n",
       "        s.async = false;\n",
       "        s.onreadystatechange = s.onload = function() {\n",
       "          window._bokeh_is_loading--;\n",
       "          if (window._bokeh_is_loading === 0) {\n",
       "            console.log(\"Bokeh: all BokehJS libraries loaded\");\n",
       "            run_callbacks()\n",
       "          }\n",
       "        };\n",
       "        s.onerror = function() {\n",
       "          console.warn(\"failed to load library \" + url);\n",
       "        };\n",
       "        console.log(\"Bokeh: injecting script tag for BokehJS library: \", url);\n",
       "        document.getElementsByTagName(\"head\")[0].appendChild(s);\n",
       "      }\n",
       "    };var element = document.getElementById(\"93196d11-143c-4470-b49a-52b8c1f0821a\");\n",
       "    if (element == null) {\n",
       "      console.log(\"Bokeh: ERROR: autoload.js configured with elementid '93196d11-143c-4470-b49a-52b8c1f0821a' but no matching script tag was found. \")\n",
       "      return false;\n",
       "    }\n",
       "  \n",
       "    var js_urls = [];\n",
       "  \n",
       "    var inline_js = [\n",
       "      function(Bokeh) {\n",
       "        (function() {\n",
       "          var fn = function() {\n",
       "            var docs_json = {\"754f8a3e-9029-4cbf-b7fe-a656bbbdd68a\":{\"roots\":{\"references\":[{\"attributes\":{\"line_alpha\":{\"value\":0.1},\"line_color\":{\"value\":\"#1f77b4\"},\"line_width\":{\"value\":2},\"x\":{\"field\":\"x\"},\"y\":{\"field\":\"y\"}},\"id\":\"e9bd871d-05de-48ad-80c2-5064ab1da3e4\",\"type\":\"Line\"},{\"attributes\":{\"fill_alpha\":{\"value\":0.1},\"fill_color\":{\"value\":\"#1f77b4\"},\"line_alpha\":{\"value\":0.1},\"line_color\":{\"value\":\"#1f77b4\"},\"x\":{\"field\":\"x\"},\"y\":{\"field\":\"y\"}},\"id\":\"e0d3f5f4-055a-47a6-a1d0-e1e596a58328\",\"type\":\"Patch\"},{\"attributes\":{\"callback\":null,\"column_names\":[\"x\",\"y\"],\"data\":{\"x\":[0,1000,2000,3000,4000,5000,6000,7000,8000,9000,10000,11000,12000,13000,14000,15000,16000,17000,18000,19000,20000,21000,22000,23000,24000,25000,26000,27000,28000,29000,30000,31000,32000,33000,34000,35000,36000,37000,38000,39000,40000,41000,42000,43000,44000,45000,46000,47000,48000,49000,50000,51000,52000,53000,54000,55000,56000,57000,58000,59000,60000,61000,62000,63000,64000,65000,66000,67000,68000,69000,70000,71000,72000,73000,74000,75000,76000,77000,78000,79000,80000,81000,82000,83000,84000,85000,86000,87000,88000,89000,90000,91000,92000,93000,94000,95000,96000,97000,98000,99000,100000,101000,102000,103000,104000,105000,106000,107000,108000,109000,110000,111000,112000,113000,114000,115000,116000,117000,118000,119000,120000,121000,122000,123000,124000,125000,126000,127000,128000,129000,130000,131000,132000,133000,134000,135000,136000,137000,138000,139000,140000,141000,142000,143000,144000,145000,146000,147000,148000,149000,150000,151000,152000,153000,154000,155000,156000,157000,158000,159000,160000,161000,162000,163000,164000,165000,166000,167000,168000,169000,170000,171000,172000,173000,174000,175000,176000,177000,178000,179000,180000,181000,182000,183000,184000,185000,186000,187000,188000,189000,190000,191000,192000,193000,194000,195000,196000,197000,198000,199000,200000,201000,202000,203000,204000,205000,206000,207000,208000,209000,210000,211000,212000,213000,214000,215000,216000,217000,218000,219000,220000,221000,222000,223000,224000,225000,226000,227000,228000,229000,230000,231000,232000,233000,234000,235000,236000,237000,238000,239000,240000,241000,242000,243000,244000,245000,246000,247000,248000,249000,250000,251000,252000,253000,254000,255000,256000,257000,258000,259000,260000,261000,262000,263000,264000,265000,266000,267000,268000,269000,270000,271000,272000,273000,274000,275000,276000,277000,278000,279000,280000,281000,282000,283000,284000,285000,286000,287000,288000,289000,290000,291000,292000,293000,294000,295000,296000,297000,298000,299000,300000,301000,302000,303000,304000,305000,306000,307000,308000,309000,310000,311000,312000,313000,314000,315000,316000,317000,318000,319000,320000,321000,322000,323000,324000,325000,326000,327000,328000,329000,330000,331000,332000,333000,334000,335000,336000,337000,338000,339000,340000,341000,342000,343000,344000,345000,346000,347000,348000,349000,350000,351000,352000,353000,354000,355000,356000,357000,358000,359000,360000,361000,362000,363000,364000,365000,366000,367000,368000,369000,370000,371000,372000,373000,374000,375000,376000,377000,378000,379000,380000,381000,382000,383000,384000,385000,386000,387000,388000,389000,390000,391000,392000,393000,394000,395000,396000,397000,398000,399000,400000,401000,402000,403000,404000,405000,406000,407000,408000,409000,410000,411000,412000,413000,414000,415000,416000,417000,418000,419000,420000,421000,422000,423000,424000,425000,426000,427000,428000,429000,430000,431000,432000,433000,434000,435000,436000,437000,438000,439000,440000,441000,442000,443000,444000,445000,446000,447000,448000,449000,450000,451000,452000,453000,454000,455000,456000,457000,458000,459000,460000,461000,462000,463000,464000,465000,466000,467000,468000,469000,470000,471000,472000,473000,474000,475000,476000,477000,478000,479000,480000,481000,482000,483000,484000,485000,486000,487000,488000,489000,490000,491000,492000,493000,494000,495000,496000,497000,498000,499000,500000,501000,502000,503000,504000,505000,506000,507000,508000,509000,510000,511000,512000,513000,514000,515000,516000,517000,518000,519000,520000,521000,522000,523000,524000,525000,526000,527000,528000,529000,530000,531000,532000,533000,534000,535000,536000,537000,538000,539000,540000,541000,542000,543000,544000,545000,546000,547000,548000,549000,550000,551000,552000,553000,554000,555000,556000,557000,558000,559000,560000,561000,562000,563000,564000,565000,566000,567000,568000,569000,570000,571000,572000,573000,574000,575000,576000,577000,578000,579000,580000,581000,582000,583000,584000,585000,586000,587000,588000,589000,590000,591000,592000,593000,594000,595000,596000,597000,598000,599000,600000,600000,599000,598000,597000,596000,595000,594000,593000,592000,591000,590000,589000,588000,587000,586000,585000,584000,583000,582000,581000,580000,579000,578000,577000,576000,575000,574000,573000,572000,571000,570000,569000,568000,567000,566000,565000,564000,563000,562000,561000,560000,559000,558000,557000,556000,555000,554000,553000,552000,551000,550000,549000,548000,547000,546000,545000,544000,543000,542000,541000,540000,539000,538000,537000,536000,535000,534000,533000,532000,531000,530000,529000,528000,527000,526000,525000,524000,523000,522000,521000,520000,519000,518000,517000,516000,515000,514000,513000,512000,511000,510000,509000,508000,507000,506000,505000,504000,503000,502000,501000,500000,499000,498000,497000,496000,495000,494000,493000,492000,491000,490000,489000,488000,487000,486000,485000,484000,483000,482000,481000,480000,479000,478000,477000,476000,475000,474000,473000,472000,471000,470000,469000,468000,467000,466000,465000,464000,463000,462000,461000,460000,459000,458000,457000,456000,455000,454000,453000,452000,451000,450000,449000,448000,447000,446000,445000,444000,443000,442000,441000,440000,439000,438000,437000,436000,435000,434000,433000,432000,431000,430000,429000,428000,427000,426000,425000,424000,423000,422000,421000,420000,419000,418000,417000,416000,415000,414000,413000,412000,411000,410000,409000,408000,407000,406000,405000,404000,403000,402000,401000,400000,399000,398000,397000,396000,395000,394000,393000,392000,391000,390000,389000,388000,387000,386000,385000,384000,383000,382000,381000,380000,379000,378000,377000,376000,375000,374000,373000,372000,371000,370000,369000,368000,367000,366000,365000,364000,363000,362000,361000,360000,359000,358000,357000,356000,355000,354000,353000,352000,351000,350000,349000,348000,347000,346000,345000,344000,343000,342000,341000,340000,339000,338000,337000,336000,335000,334000,333000,332000,331000,330000,329000,328000,327000,326000,325000,324000,323000,322000,321000,320000,319000,318000,317000,316000,315000,314000,313000,312000,311000,310000,309000,308000,307000,306000,305000,304000,303000,302000,301000,300000,299000,298000,297000,296000,295000,294000,293000,292000,291000,290000,289000,288000,287000,286000,285000,284000,283000,282000,281000,280000,279000,278000,277000,276000,275000,274000,273000,272000,271000,270000,269000,268000,267000,266000,265000,264000,263000,262000,261000,260000,259000,258000,257000,256000,255000,254000,253000,252000,251000,250000,249000,248000,247000,246000,245000,244000,243000,242000,241000,240000,239000,238000,237000,236000,235000,234000,233000,232000,231000,230000,229000,228000,227000,226000,225000,224000,223000,222000,221000,220000,219000,218000,217000,216000,215000,214000,213000,212000,211000,210000,209000,208000,207000,206000,205000,204000,203000,202000,201000,200000,199000,198000,197000,196000,195000,194000,193000,192000,191000,190000,189000,188000,187000,186000,185000,184000,183000,182000,181000,180000,179000,178000,177000,176000,175000,174000,173000,172000,171000,170000,169000,168000,167000,166000,165000,164000,163000,162000,161000,160000,159000,158000,157000,156000,155000,154000,153000,152000,151000,150000,149000,148000,147000,146000,145000,144000,143000,142000,141000,140000,139000,138000,137000,136000,135000,134000,133000,132000,131000,130000,129000,128000,127000,126000,125000,124000,123000,122000,121000,120000,119000,118000,117000,116000,115000,114000,113000,112000,111000,110000,109000,108000,107000,106000,105000,104000,103000,102000,101000,100000,99000,98000,97000,96000,95000,94000,93000,92000,91000,90000,89000,88000,87000,86000,85000,84000,83000,82000,81000,80000,79000,78000,77000,76000,75000,74000,73000,72000,71000,70000,69000,68000,67000,66000,65000,64000,63000,62000,61000,60000,59000,58000,57000,56000,55000,54000,53000,52000,51000,50000,49000,48000,47000,46000,45000,44000,43000,42000,41000,40000,39000,38000,37000,36000,35000,34000,33000,32000,31000,30000,29000,28000,27000,26000,25000,24000,23000,22000,21000,20000,19000,18000,17000,16000,15000,14000,13000,12000,11000,10000,9000,8000,7000,6000,5000,4000,3000,2000,1000,0],\"y\":{\"__ndarray__\":\"AAAAAAAAAAAAAAAAAAAAAAAAAAAAAAAAAAAAAAAAAAAAAAAAAAAAAAAAAAAAAAAAAAAAAAAAAAAAAAAAAAAAAAAAAAAAAAAAAAAAAAAAAAAAAAAAAAAAAAAAAAAAAAAAAAAAAAAAAAAAAAAAAAAAAAAAAAAAAAAAAAAAAAAAAAAAAAAAAAAAAAAAAAAAAAAAAAAAAAAAAAAAAAAAAAAAAAAAAAAAAAAAAAAAAAAAAAAAAAAAAAAAAAAAAAAAAAAAAAAAAAAAAAAAAAAAAAAAAAAAAAAAAAAAAAAAAAAAAAAAAAAAAAAAAAAAAAAAAAAAAAAAAAAAAAAAAAAAAAAAAAAAAAAAAAAAAAAAAAAAAAAAAAAAAAAAAAAAAAAAAAAAAAAAAAAAAAAAAAAAAAAAAAAAAAAAAAAAAAAAAAAAAAAAAAAAAAAAAAAAAAAAAAAAAAAAAAAAAAAAAAAAAAAAAAAAAAAAAAAAAAAAAAAAAAAAAAAAAAAAAAAAAAAAAAAAAAAAAAAAAAAAAAAAAAAAAAAAAAAAAAAAAAAAAAAAAAAAAAAAAAAAAAAAAAAAAAAAAAAAAAAAAAAAAAAAAAAAAAAAAAAAAAAAAAAAAAAAAAAAAAAAAAAAAAAAAAAAAAAAAAAAAAAAAAAAAAAAAAAAAAAAAAAAAAAAAAAAAAAAAAAAAAAAAAAAAAAAAAAAAAAAAAAAAAAAAAAAAAAAAAAAAAAAAAAAAAAAAAAAAAAAAAAAAAAAAAAAAAAAAAAAAAAAAAAAAAAAAAAAAAAAAAAAAAAAAAAAAAAAAAAAAAAAAAAAAAAAAAAAAAAAAAAAAAAAAAAAAAAAAAAAAAAAAAAAAAAAAAAAAAAAAAAAAAAAAAAAAAAAAAAAAAAAAAAAAAAAAAAAAAAAAAAAAAAAAAAAAAAAAAAAAAAAAAAAAAAAAAAAAAAAAAAAAAAAAAAAAAAAAAAAAAAAAAAAAAAAAAAAAAAAAAAAAAAAAAAAAAAAAAAAAAAAAAAAAAAAAAAAAAAAAAAAAAAAAAAAAAAAAAAAAAAAAAAAAAAAAAAAAAAAAAAAAAAAAAAAAAAAAAAAAAAAAAAAAAAAAAAAAAAAAAAAAAAAAAAAAAAAAAAAAAAAAAAAAAAAAAAAAAAAAAAAAAAAAAAAAAAAAAAAAAAAAAAAAAAAAAAAAAAAAAAAAAAAAAAAAAAAAAAAAAAAAAAAAAAAAAAAAAAAAAAAAAAAAAAAAAAAAAAAAAAAAAAAAAAAAAAAAAAAAAAAAAAAAAAAAAAAAAAAAAAAAAAAAAAAAAAAAAAAAAAAAAAAAAAAAAAAAAAAAAAAAAAAAAAAAAAAAAAAAAAAAAAAAAAAAAAAAAAAAAAAAAAAAAAAAAAAAAAAAAAAAAAAAAAAAAAAAAAAAAAAAAAAAAAAAAAAAAAAAAAAAAAAAAAAAAAAAAAAAAAAAAAAAAAAAAAAAAAAAAAAAAAAAAAAAAAAAAAAAAAAAAAAAAAAAAAAAAAAAAAAAAAAAAAAAAAAAAAAAAAAAAAAAAAAAAAAAAAAAAAAAAAAAAAAAAAAAAAAAAAAAAAAAAAAAAAAAAAAAAAAAAAAAAAAAAAAAAAAAAAAAAAAAAAAAAAAAAAAAAAAAAAAAAAAAAAAAAAAAAAAAAAAAAAAAAAAAAAAAAAAAAAAAAAAAAAAAAAAAAAAAAAAAAAAAAAAAAAAAAAAAAAAAAAAAAAAAAAAAAAAAAAAAAAAAAAAAAAAAAAAAAAAAAAAAAAAAAAAAAAAAAAAAAAAAAAAAAAAAAAAAAAAAAAAAAAAAAAAAAAAAAAAAAAAAAAAAAAAAAAAAAAAAAAAAAAAAAAAAAAAAAAAAAAAAAAAAAAAAAAAAAAAAAAAAAAAAAAAAAAAAAAAAAAAAAAAAAAAAAAAAAAAAAAAAAAAAAAAAAAAAAAAAAAAAAAAAAAAAAAAAAAAAAAAAAAAAAAAAAAAAAAAAAAAAAAAAAAAAAAAAAAAAAAAAAAAAAAAAAAAAAAAAAAAAAAAAAAAAAAAAAAAAAAAAAAAAAAAAAAAAAAAAAAAAAAAAAAAAAAAAAAAAAAAAAAAAAAAAAAAAAAAAAAAAAAAAAAAAAAAAAAAAAAAAAAAAAAAAAAAAAAAAAAAAAAAAAAAEz0PYI2Mlr8TPQ9gjYymv85tCwhq6bC/Ez0PYI2Mtr9WDBO4sC+8v85tCwhq6cC/b1UNtPu6w78TPQ9gjYzGv1SZsND1bMe/VJmw0PVsx79UmbDQ9WzHv1SZsND1bMe/VJmw0PVsx79UmbDQ9WzHv1SZsND1bMe/2XeZCN/gxr8wBdNJHQHFv4SSDItbIcO/2x9GzJlBwb9eWv8asMO+vwp1cp0sBLu/s4/lH6lEt79eqliiJYWzvxSKl0lEi6+/aL99Tj0MqL+89GNTNo2gvyRUlLBeHJK/cvYF04XyaL+Yu5psWeOTvyV3rAvpf6a/PsiFsBKHsb/oVDXbMM63v5Th5AVPFb6/ITdKmDYuwr93/aGtxVHFv1SZsND1bMe/VJmw0PVsx79UmbDQ9WzHv1SZsND1bMe/VJmw0PVsx79UmbDQ9WzHv1SZsND1bMe/VJmw0PVsx79UmbDQ9WzHv1SZsND1bMe/VJmw0PVsx79UmbDQ9WzHv1SZsND1bMe/VJmw0PVsx79UmbDQ9WzHv1SZsND1bMe/VJmw0PVsx79UmbDQ9WzHv1SZsND1bMe/VJmw0PVsx79UmbDQ9WzHv1SZsND1bMe/VJmw0PVsx79UmbDQ9WzHv1iZsND1bMe/WJmw0PVsx79UmbDQ9WzHv1SZsND1bMe/VJmw0PVsx79UmbDQ9WzHv1SZsND1bMe/VJmw0PVsx79UmbDQ9WzHv1SZsND1bMe/VJmw0PVsx79UmbDQ9WzHv1SZsND1bMe/VJmw0PVsx79UmbDQ9WzHv1SZsND1bMe/VJmw0PVsx79UmbDQ9WzHv1SZsND1bMe/VJmw0PVsx79VmbDQ9WzHv1WZsND1bMe/VZmw0PVsx79VmbDQ9WzHv1SZsND1bMe/VJmw0PVsx79UmbDQ9WzHv1SZsND1bMe/VJmw0PVsx79UmbDQ9WzHv1SZsND1bMe/VJmw0PVsx79UmbDQ9WzHv1SZsND1bMe/VJmw0PVsx79UmbDQ9WzHv1SZsND1bMe/VJmw0PVsx79UmbDQ9WzHv1WZsND1bMe/VJmw0PVsx79UmbDQ9WzHv1SZsND1bMe/VJmw0PVsx79UmbDQ9WzHv1SZsND1bMe/VJmw0PVsx79UmbDQ9WzHv1WZsND1bMe/VJmw0PVsx79UmbDQ9WzHv1SZsND1bMe/VJmw0PVsx79UmbDQ9WzHv1SZsND1bMe/VJmw0PVsx79UmbDQ9WzHv1SZsND1bMe/VJmw0PVsx79UmbDQ9WzHv1WZsND1bMe/VJmw0PVsx79UmbDQ9WzHv1SZsND1bMe/VJmw0PVsx79UmbDQ9WzHv3oAVCMjXMK/cEaMKd7Mu7/0YuIhtCq0v8BgUSuCs6u/KG1tbiKrob8we93TNTiUv6ACltAqUYO/ANrPF/tsab8AmFFoJYExvwBw9nFyXTG/gCfTF+EsYb9AB9JeZvJ3v+B5g5TqQ4Q/EHtmilOepT+UXp4JY0KxP+RGnYEEibU/OLbvHDxftz+kLoCEXKu2P/SIQdcLh7M/oAj/0C5srD/A4FVWiUacPwC9GKHHoFE/ZHWyVg+VsD+oF04x2xu/P2CjkJerpsU/rD1+Yi9Nyj+wZHB0KDfNP8IoSTUkPc4/epw+/z5tzT8ybBpWXvPKP64HHQ6bccc/hh7uLLSYwz9oF8fHJt2+P/DolnC987U/YMfzoiwGqT+AuVg+L8iEPwAAAAAAAJA8AAAAAAAAkDwAAAAAAAAAAAAAAAAAAAAAAAAAAAAAAAAAAAAAAAAAAAAAAAAAAAAAAAAAAAAAAAAAAAAAAAAAAAAAAAAAAAAAAAAAAAAAkDwAAAAAAAAAAABZmWNBhJA/oOZK3F41tD/uaOVkL27BP8g/Tiew68c/DGAP78l3zT8eObcYPgDRP0L/zDDLwNI/6XLjcOsC1D/il2PvUtzTPzDL/hiDHtM/TPfUo5Iz0j/A+vNPoRnRP/oZxApxn88/WCY14cirzD9kCDh9ZVrJP/ByQ4gur8U/UE2FeXmvwT8E5X5DLcO6P6Rpwyu7mLE/gAsjPEC2nz9AKREJcWOOP2TyXr6cybQ/8GBQQtMVwj8Y3Mc1a9TIP4Y4Mo5Ogc4/pWhNk/eE0T+V6vkE0DbTP1azpxeFSdQ/VrOnF4VJ1D9Ws6cXhUnUP1azpxeFSdQ/VrOnF4VJ1D9Ws6cXhUnUP1azpxeFSdQ/VrOnF4VJ1D9Ws6cXhUnUP1azpxeFSdQ/VrOnF4VJ1D9Ws6cXhUnUP1azpxeFSdQ/VrOnF4VJ1D9Ws6cXhUnUP1azpxeFSdQ/VrOnF4VJ1D9Ws6cXhUnUP1azpxeFSdQ/VrOnF4VJ1D9Ws6cXhUnUP1azpxeFSdQ/VrOnF4VJ1D9Ws6cXhUnUP1azpxeFSdQ/VrOnF4VJ1D9Ws6cXhUnUP1azpxeFSdQ/VrOnF4VJ1D9Ws6cXhUnUP1azpxeFSdQ/VrOnF4VJ1D9Ws6cXhUnUP1azpxeFSdQ/VrOnF4VJ1D9Ws6cXhUnUP1azpxeFSdQ/VrOnF4VJ1D9Ws6cXhUnUP1azpxeFSdQ/VrOnF4VJ1D9Ws6cXhUnUP1azpxeFSdQ/VrOnF4VJ1D9Ws6cXhUnUP1azpxeFSdQ/VrOnF4VJ1D9Ws6cXhUnUP1azpxeFSdQ/VrOnF4VJ1D+vN1j/u+vXPwq8COfyjds/ZEC5zikw3z9e4jRbMGnhP4wkDc9LOuM/uWblQmcL5T/mqL22gtzmPxPrlSqereg/QC1unrl+6j9tb0YS1U/sP5qxHobwIO4/xvP2+Qvy7z+Ezf0yz03uP5FP0a4wjuw/ntGkKpLO6j+sU3im8w7pP7rVSyJVT+c/yFcfnraP5T/W2fIZGNDjP+NbxpV5EOI/8N2ZEdtQ4D/8v9oaeSLdPxfEgRI8o9k/McgoCv8j1j9Ws6cXhUnUP1azpxeFSdQ/VrOnF4VJ1D9Ws6cXhUnUP1azpxeFSdQ/VrOnF4VJ1D9Ws6cXhUnUP1azpxeFSdQ/VrOnF4VJ1D9Ws6cXhUnUP1azpxeFSdQ/VrOnF4VJ1D9Ws6cXhUnUP1azpxeFSdQ/VrOnF4VJ1D9Ws6cXhUnUP1azpxeFSdQ/VrOnF4VJ1D9Ws6cXhUnUP1azpxeFSdQ/VrOnF4VJ1D9Ws6cXhUnUP1azpxeFSdQ/VrOnF4VJ1D9Ws6cXhUnUP1azpxeFSdQ/VrOnF4VJ1D9Ws6cXhUnUP1azpxeFSdQ/VrOnF4VJ1D9Ws6cXhUnUP1azpxeFSdQ/VrOnF4VJ1D9Ws6cXhUnUP1azpxeFSdQ/VrOnF4VJ1D9Ws6cXhUnUP1azpxeFSdQ/VrOnF4VJ1D9Ws6cXhUnUP1azpxeFSdQ/VrOnF4VJ1D9Ws6cXhUnUP1azpxeFSdQ/VrOnF4VJ1D9Ws6cXhUnUP1azpxeFSdQ/VrOnF4VJ1D9Ws6cXhUnUP1azpxeFSdQ/VrOnF4VJ1D9Ws6cXhUnUP1azpxeFSdQ/VrOnF4VJ1D9Ws6cXhUnUP1azpxeFSdQ/VrOnF4VJ1D9Ws6cXhUnUP1azpxeFSdQ/VrOnF4VJ1D9Ws6cXhUnUP1azpxeFSdQ/VrOnF4VJ1D9Ws6cXhUnUP1azpxeFSdQ/VrOnF4VJ1D9Ws6cXhUnUP1azpxeFSdQ/VrOnF4VJ1D9Ws6cXhUnUP1azpxeFSdQ/VrOnF4VJ1D9Ws6cXhUnUP1azpxeFSdQ/VrOnF4VJ1D/wD6m+32zWPzYhNAx1+do/fjK/WQqG3z/iIaXTTwniP4WqanqaT+Q/KDMwIeWV5j/Mu/XHL9zoP3BEu256Ius/E82AFcVo7T+3VUa8D6/vPwAAAAAAAPA/AAAAAAAA8D8AAAAAAADwPwAAAAAAAPA/AAAAAAAA8D8AAAAAAADwPwAAAAAAAPA/AAAAAAAA8D/////////vP////////+8/AAAAAAAA8D8AAAAAAADwPwAAAAAAAPA/////////7z8AAAAAAADwP////////+8/AAAAAAAA8D8AAAAAAADwP////////+8/AAAAAAAA8D/XG66PmU/uP+WdgQv7j+w/8h9Vh1zQ6j8BoigDvhDpPw4k/H4fUec/HKbP+oCR5T8pKKN24tHjPzeqdvJDEuI/RixKbqVS4D+lXDvUDSbdP8Bg4svQptk/22SJw5Mn1j+RGldCpzDWPxBRGw8BRto/loff21pb3j8M31FUWjjhP076szoHQ+M/kBUWIbRN5T/QMHgHYVjnPxJM2u0NY+k/VGc81Lpt6z/e3ZRWyZzwPwmur8vP4vA/NH7KQNYo8T9fTuW13G7xP4seACvjtPE/tu4aoOn68T/gvjUV8EDyPwyPUIr2hvI/N19r//zM8j+Du3SkmM3yPy7tm2ygkfI/2R7DNKhV8j+DUOr8rxnyPy6CEcW33fE/2LM4jb+h8T+D5V9Vx2XxPy4Xhx3PKfE/2Uiu5dbt8D+DetWt3rHwPy6s/HXmdfA/2N0jPu458D8AAAAAAADwPwAAAAAAAPA/AAAAAAAA8D8AAAAAAADwPwAAAAAAAPA/AAAAAAAA8D8AAAAAAADwPwAAAAAAAPA/AAAAAAAA8D8AAAAAAADwPwAAAAAAAPA/AAAAAAAA8D8AAAAAAADwPwAAAAAAAPA/AAAAAAAA8D8AAAAAAADwPwAAAAAAAPA/AAAAAAAA8D8AAAAAAADwPwAAAAAAAPA/LiM0/dcK8D9E/S0i21jwP1nXJ0fepvA/b7EhbOH08D+FixuR5ELxP5plFbbnkPE/sT8P2+re8T/GGQkA7izyP9zzAiXxevI/8s38SfTI8j8qExa6nu3yPyoTFrqe7fI/KhMWup7t8j8qExa6nu3yPyoTFrqe7fI/KhMWup7t8j8qExa6nu3yPyoTFrqe7fI/KhMWup7t8j8qExa6nu3yPyoTFrqe7fI/KhMWup7t8j8qExa6nu3yPyoTFrqe7fI/KhMWup7t8j8qExa6nu3yPyoTFrqe7fI/KhMWup7t8j8qExa6nu3yPyoTFrqe7fI/KhMWup7t8j8qExa6nu3yPyoTFrqe7fI/KhMWup7t8j8qExa6nu3yPyoTFrqe7fI/KhMWup7t8j8qExa6nu3yPyoTFrqe7fI/KhMWup7t8j8qExa6nu3yPyoTFrqe7fI/KhMWup7t8j8qExa6nu3yPyoTFrqe7fI/KhMWup7t8j8qExa6nu3yPyoTFrqe7fI/KhMWup7t8j8qExa6nu3yPyoTFrqe7fI/KhMWup7t8j8qExa6nu3yPyoTFrqe7fI/KhMWup7t8j8qExa6nu3yPyoTFrqe7fI/KhMWup7t8j8qExa6nu3yPyoTFrqe7fI/KhMWup7t8j8qExa6nu3yPyoTFrqe7fI/KhMWup7t8j8qExa6nu3yPyoTFrqe7fI/KhMWup7t8j8qExa6nu3yPyoTFrqe7fI/KhMWup7t8j8qExa6nu3yPyoTFrqe7fI/KhMWup7t8j8qExa6nu3yPyoTFrqe7fI/KhMWup7t8j8qExa6nu3yPyoTFrqe7fI/KhMWup7t8j8qExa6nu3yPyoTFrqe7fI/KhMWup7t8j8qExa6nu3yPyoTFrqe7fI/KhMWup7t8j+SmyAN1s3yPzzNR9XdkfI/5/5uneVV8j+SMJZl7RnyPzxivS313fE/55Pk9fyh8T+SxQu+BGbxPzz3MoYMKvE/5yhaThTu8D+SWoEWHLLwPz2MqN4jdvA/573Ppis68D/Fb3eP3gHwPw2oBJMuQPA/VuCRln5+8D+eGB+azrzwP+ZQrJ0e+/A/L4k5oW458T94wcakvnfxP8D5U6gOtvE/CTLhq1708T9Ram6vrjLyP5qi+7L+cPI/4tqItk6v8j8qExa6nu3yPyoTFrqe7fI/KhMWup7t8j8qExa6nu3yPyoTFrqe7fI/KhMWup7t8j8qExa6nu3yPyoTFrqe7fI/KhMWup7t8j8qExa6nu3yPyoTFrqe7fI/KhMWup7t8j8qExa6nu3yPyoTFrqe7fI/KhMWup7t8j8qExa6nu3yPyoTFrqe7fI/KhMWup7t8j8qExa6nu3yPyoTFrqe7fI/KhMWup7t8j8qExa6nu3yPyoTFrqe7fI/KhMWup7t8j8qExa6nu3yPyoTFrqe7fI/KhMWup7t8j8qExa6nu3yPyoTFrqe7fI/KhMWup7t8j8qExa6nu3yPyoTFrqe7fI/KhMWup7t8j8qExa6nu3yPyoTFrqe7fI/KhMWup7t8j8qExa6nu3yPyoTFrqe7fI/KhMWup7t8j8qExa6nu3yPyoTFrqe7fI/KhMWup7t8j8qExa6nu3yPyoTFrqe7fI/KhMWup7t8j8qExa6nu3yPyoTFrqe7fI/KhMWup7t8j8qExa6nu3yPyoTFrqe7fI/jlWHf6cs8j+rt9yqmHnxP2MM1Mwn6/A/kZnLRj+B8D+WyiRUjTnwPy8pc/8oEPA/ojcx+HYA8D8JGjcrGALwP0HgqIM8C/A/L5lqbGwc8D95Tq8bhzbwP2n6FIRnWvA/Xtizr9eI8D9DpXFNgsLwP3M3fVLkB/E/piwWKkFZ8T8nXlvfm7bxP9JZTsy2H/I/Spfy4BmU8j+Gz36fO7HyPx4TB53b8fE/VCuP0BZS8T9ItF0GRdPwP/9+2CzgdPA/h0CoMqg08D/p5QIfMA/wP53Vu/SMAPA/AAAAAAAA8D8AAAAAAADwPwAAAAAAAPA/AAAAAAAA8D8AAAAAAADwPwAAAAAAAPA/AAAAAAAA8D8AAAAAAADwPwAAAAAAAPA/AAAAAAAA8D8AAAAAAADwPwAAAAAAAPA/mAMqGzcA8D90h8webQXwP8QnGLc5EvA/gJXiK3on8D/Js/4cDUbwP0hHFkvHbvA/XAtU7GWi8D/0Z0/NuifwP+rzY5NgWu8/AuzhycPa7j/VPKZUJtTuP35qqY2rPO8/usvVqd8A8D8MhyFBUwfvP0CPraBtnO0/POzoHD9k7D8Z7L81cVvrP+bsG2MTjeo/klmoCEoE6j8Bqs7QjsnpP0w5bX8W4Ok/tlehaatE6j85/WJN0+7qP2SY65Zp0+s/rtvSdRXm7D8O7KeeCw/uP/44WYC4R+8/1JRo2v9G7z9M2RO57KvtP07gfnF0Lew/8PIbfaHP6j+6XKT9QZbpP8UaswF4hOg/6s96a0ac5z8ri7C0O97mP0yBlMBYSeY/VSYsdD3b5T9VJix0PdvlP1UmLHQ92+U/VSYsdD3b5T9VJix0PdvlP1UmLHQ92+U/VSYsdD3b5T9VJix0PdvlP1UmLHQ92+U/VSYsdD3b5T9VJix0PdvlP1UmLHQ92+U/VSYsdD3b5T9VJix0PdvlP1UmLHQ92+U/VSYsdD3b5T9VJix0PdvlP1UmLHQ92+U/VSYsdD3b5T9VJix0PdvlP1UmLHQ92+U/VSYsdD3b5T9VJix0PdvlP1UmLHQ92+U/VSYsdD3b5T9VJix0PdvlP1UmLHQ92+U/VSYsdD3b5T9VJix0PdvlP1UmLHQ92+U/VSYsdD3b5T9VJix0PdvlP1UmLHQ92+U/VSYsdD3b5T9VJix0PdvlP1UmLHQ92+U/VSYsdD3b5T9VJix0PdvlP1UmLHQ92+U/VSYsdD3b5T9VJix0PdvlP1UmLHQ92+U/VSYsdD3b5T9VJix0PdvlP1UmLHQ92+U/VSYsdD3b5T9VJix0PdvlP1UmLHQ92+U/VSYsdD3b5T9VJix0PdvlP1UmLHQ92+U/VSYsdD3b5T9VJix0PdvlP1UmLHQ92+U/VSYsdD3b5T9VJix0PdvlP1UmLHQ92+U/VSYsdD3b5T9VJix0PdvlP1UmLHQ92+U/VSYsdD3b5T9VJix0PdvlP1UmLHQ92+U/VSYsdD3b5T9XJix0PdvlP1cmLHQ92+U/VSYsdD3b5T9VJix0PdvlP1UmLHQ92+U/VSYsdD3b5T9VJix0PdvlP1UmLHQ92+U/VSYsdD3b5T9VJix0PdvlP1UmLHQ92+U/VSYsdD3b5T9VJix0PdvlP1UmLHQ92+U/VSYsdD3b5T9VJix0PdvlP1UmLHQ92+U/VSYsdD3b5T9VJix0PdvlP1UmLHQ92+U/VSYsdD3b5T9VJix0PdvlP1UmLHQ92+U/VSYsdD3b5T9VJix0PdvlP1UmLHQ92+U/3sN9tyvk4z9nK76pcPbgP98l/TdrEdw/8PR9HPU11j8CxP4Af1rQPygm/8oR/sQ/lYgBKEuOsj/gQvrztEaHP+8347/K5bA/gidH4b7ivj+Li1WB2W/GP1WDB5JTbs0/jr1c0WY20j9zubXZo7XVP1i1DuLgNNk/PLFn6h203D+RVmB5rRngP4PUjP1L2eE/dlK5geqY4z9o0OUFiVjlP1UmLHQ92+U/VSYsdD3b5T9VJix0PdvlP1UmLHQ92+U/VSYsdD3b5T9VJix0PdvlP1UmLHQ92+U/gVNhVN0J5T8QKdWpoWjiP0H9kf7Ljt8/YKh5qVRM2j+BU2FU3QnVP0H9kf7Ljs8/gVNhVN0JxT+BU2FU3Qm1PwAAAAAAAAAAAAAAAAAAAAAAAAAAAAAAAAAAAAAAAAAAAAAAAAAAAAAAAAAAAAAAAAAAAAAAAAAAAAAAAAAAAAAAAAAAAAAAAAAAAAAAAAAAAAAAAAAAAAAAAAAAAAAAAAAAAAAAAAAAAAAAAAAAAAAAAAAAAAAAAAAAAAAAAAAAAAAAAAAAAAAAAAAAAAAAAAAAAAAAAAAAAAAAAAAAAAAAAAAAAAAAAAAAAAAAAAAAAAAAAAAAAAAAAAAAAAAAAAAAAAAAAAAAAAAAAAAAAAAAAAAAAAAAAAAAAAAAAAAAAAAAAAAAAAAAAAAAAAAAAAAAAAAAAAAAAAAAAAAAAAAAAAAAAAAAAAAAAAAAAAAAAAAAAAAAAAAAAAAAAAAAAAAAAAAAAAAAAAAAAAAAAAAAAAAAAAAAAAAAAAAAAAAAAAAAAAAAAAAAAAAAAAAAAAAAAAAAAAAAAAAAAAAAAAAAAAAAAAAAAAAAAAAAAAAAAAAAAAAAAAAAAAAAAAAAAAAAAAAAAAAAAAAAAAAAAAAAAAAAAAAAAAAAAAAAAAAAAAAAAAAAAAAAAAAAAAAAAAAAAAAAAAAAAAAAAAAAAAAAAAAAAAAAAAAAAAAAAAAAAAAAAAAAAAAAAAAAAAAAAAAAAAAAAAAAAAAAAAAAAAAAAAAAAAAAAAAAAAAAAAAAAAAAAAAAAAAAAAAAAAAAAAAAAAAAAAAAAAAAAAAAAAAAAAAAAAAAAAAAAAAAAAAAAAAAAAAAAAAAAAAAAAAAAAAAAAAAAAAAAAAAAAAAAAAAAAAAAAAAAAAAAAAAAAAAAAAAAAAAAAAAAAAAAAAAAAAAAAAAAAAAAAAAAAAAAAAAAAAAAAAAAAAAAAAAAAAAAAAAAAAAAAAAAAAAAAAAAAAAAAAAAAAAAAAAAAAAAAAAAAAAAAAAAAAAAAAAAAAAAAAAAAAAAAAAAAAAAAAAAAAAAAAAAAAAAAAAAAAAAAAAAAAAAAAAAAAAAAAAAAAAAAAAAAAAAAAAAAAAAAAAAAAAAAAAAAAAAAAAAAAAAAAAAAAAAAAAAAAAAAAAAAAAAAAAAAAAAAAAAAAAAAAAAAAAAAAAAAAAAAAAAAAAAAAAAAAAAAAAAAAAAAAAAAAAAAAAAAAAAAAAAAAAAAAAAAAAAAAAAAAAAAAAAAAAAAAAAAAAAAAAAAAAAAAAAAAAAAAAAAAAAAAAAAAAAAAAAAAAAAAAAAAAAAAAAAAAAAAAAAAAAAAAAAAAAAAAAAAAAAAAAAAAAAAAAAAAAAAAAAAAAAAAAAAAAAAAAAAAAAAAAAAAAAAAAAAAAAAAAAAAAAAAAAAAAAAAAAAAAAAAAAAAAAAAAAAAAAAAAAAAAAAAAAAAAAAAAAAAAAAAAAAAAAAAAAAAAAAAAAAAAAAAAAAAAAAAAAAAAAAAAAAAAAAAAAAAAAAAAAAAAAAAAAAAAAAAAAAAAAAAAAAAAAAAAAAAAAAAAAAAAAAAAAAAAAAAAAAAAAAAAAAAAAAAAAAAAAAAAAAAAAAAAAAAAAAAAAAAAAAAAAAAAAAAAAAAAAAAAAAAAAAAAAAAAAAAAAAAAAAAAAAAAAAAAAAAAAAAAAAAAAAAAAAAAAAAAAAAAAAAAAAAAAAAAAAAAAAAAAAAAAAAAAAAAAAAAAAAAAAAAAAAAAAAAAAAAAAAAAAAAAAAAAAAAAAAAAAAAAAAAAAAAAAAAAAAAAAAAAAAAAAAAAAAAAAAAAAAAAAAAAAAAAAAAAAAAAAAAAAAAAAAAAAAAAAAAAAAAAAAAAAAAAAAAAAAAAAAAAAAAAAAAAAAAAAAAAAAAAAAAAAAAAAAAAAAAAAAAAAAAAAAAAAAAAAAAAAAAAAAAAAAAAAAAAAAAAAAAAAAAAAAAAAAAAAAAAAAAAAAAAAAAAAAAAAAAAAAAAAAAAAAAAAAAAAAAAAAAAAAAAAAAAAAAAAAAAAAAAAAAAAAAAAAAAAAAAAAAAAAAAAAAAAAAAAAAAAAAAAAAAAAAAAAAAAAAAAAAAAAAAAAAAAAAAAAAAAAAAAAAAAAAAAAAAAAAAAAAAAAAAAAAAAAAAAAAAAAAAAAAAAAAAAAAAAAAAAAAAAAAAAAAAAAAAAAAAAAAAAAAAAAAAAAAAAAAAAAAAAAAA==\",\"dtype\":\"float64\",\"shape\":[1202]}}},\"id\":\"cd56d8f4-ebf4-48ab-815b-7e2354bf8fce\",\"type\":\"ColumnDataSource\"},{\"attributes\":{\"data_source\":{\"id\":\"cd56d8f4-ebf4-48ab-815b-7e2354bf8fce\",\"type\":\"ColumnDataSource\"},\"glyph\":{\"id\":\"c58b36b2-65dc-4551-95f1-34b9b32c5bc7\",\"type\":\"Patch\"},\"hover_glyph\":null,\"nonselection_glyph\":{\"id\":\"e0d3f5f4-055a-47a6-a1d0-e1e596a58328\",\"type\":\"Patch\"},\"selection_glyph\":null},\"id\":\"925d6131-03a2-4a4c-82db-b945f24cf4ee\",\"type\":\"GlyphRenderer\"},{\"attributes\":{\"items\":[{\"id\":\"3797a542-af05-43ab-b33a-43e82af521ec\",\"type\":\"LegendItem\"},{\"id\":\"868cfd82-a90e-4d05-8ea6-558f6aa18887\",\"type\":\"LegendItem\"},{\"id\":\"40e80467-a1d9-4686-95b9-e7be04dbf70f\",\"type\":\"LegendItem\"},{\"id\":\"1312da83-6d62-4ab7-9f08-6cce60f12ffb\",\"type\":\"LegendItem\"}],\"location\":[0,-30],\"plot\":{\"id\":\"b06289b8-b774-4a8b-b282-5e69357b878a\",\"subtype\":\"Figure\",\"type\":\"Plot\"}},\"id\":\"46f1dbc8-4fb6-4f25-bf75-d15d4e639aaf\",\"type\":\"Legend\"},{\"attributes\":{\"fill_alpha\":{\"value\":0.1},\"fill_color\":{\"value\":\"#e41a1c\"},\"line_alpha\":{\"value\":0.1},\"line_color\":{\"value\":\"#e41a1c\"},\"x\":{\"field\":\"x\"},\"y\":{\"field\":\"y\"}},\"id\":\"c47843f7-f7b0-40af-ac38-0632ace9fe09\",\"type\":\"Patch\"},{\"attributes\":{\"fill_alpha\":{\"value\":0.1},\"fill_color\":{\"value\":\"#377eb8\"},\"line_alpha\":{\"value\":0.1},\"line_color\":{\"value\":\"#377eb8\"},\"x\":{\"field\":\"x\"},\"y\":{\"field\":\"y\"}},\"id\":\"513e544d-2033-40ed-bfdf-2fb8e866250b\",\"type\":\"Patch\"},{\"attributes\":{\"callback\":null,\"column_names\":[\"x\",\"y\"],\"data\":{\"x\":[0,1000,2000,3000,4000,5000,6000,7000,8000,9000,10000,11000,12000,13000,14000,15000,16000,17000,18000,19000,20000,21000,22000,23000,24000,25000,26000,27000,28000,29000,30000,31000,32000,33000,34000,35000,36000,37000,38000,39000,40000,41000,42000,43000,44000,45000,46000,47000,48000,49000,50000,51000,52000,53000,54000,55000,56000,57000,58000,59000,60000,61000,62000,63000,64000,65000,66000,67000,68000,69000,70000,71000,72000,73000,74000,75000,76000,77000,78000,79000,80000,81000,82000,83000,84000,85000,86000,87000,88000,89000,90000,91000,92000,93000,94000,95000,96000,97000,98000,99000,100000,101000,102000,103000,104000,105000,106000,107000,108000,109000,110000,111000,112000,113000,114000,115000,116000,117000,118000,119000,120000,121000,122000,123000,124000,125000,126000,127000,128000,129000,130000,131000,132000,133000,134000,135000,136000,137000,138000,139000,140000,141000,142000,143000,144000,145000,146000,147000,148000,149000,150000,151000,152000,153000,154000,155000,156000,157000,158000,159000,160000,161000,162000,163000,164000,165000,166000,167000,168000,169000,170000,171000,172000,173000,174000,175000,176000,177000,178000,179000,180000,181000,182000,183000,184000,185000,186000,187000,188000,189000,190000,191000,192000,193000,194000,195000,196000,197000,198000,199000,200000,201000,202000,203000,204000,205000,206000,207000,208000,209000,210000,211000,212000,213000,214000,215000,216000,217000,218000,219000,220000,221000,222000,223000,224000,225000,226000,227000,228000,229000,230000,231000,232000,233000,234000,235000,236000,237000,238000,239000,240000,241000,242000,243000,244000,245000,246000,247000,248000,249000,250000,251000,252000,253000,254000,255000,256000,257000,258000,259000,260000,261000,262000,263000,264000,265000,266000,267000,268000,269000,270000,271000,272000,273000,274000,275000,276000,277000,278000,279000,280000,281000,282000,283000,284000,285000,286000,287000,288000,289000,290000,291000,292000,293000,294000,295000,296000,297000,298000,299000,300000,301000,302000,303000,304000,305000,306000,307000,308000,309000,310000,311000,312000,313000,314000,315000,316000,317000,318000,319000,320000,321000,322000,323000,324000,325000,326000,327000,328000,329000,330000,331000,332000,333000,334000,335000,336000,337000,338000,339000,340000,341000,342000,343000,344000,345000,346000,347000,348000,349000,350000,351000,352000,353000,354000,355000,356000,357000,358000,359000,360000,361000,362000,363000,364000,365000,366000,367000,368000,369000,370000,371000,372000,373000,374000,375000,376000,377000,378000,379000,380000,381000,382000,383000,384000,385000,386000,387000,388000,389000,390000,391000,392000,393000,394000,395000,396000,397000,398000,399000,400000,401000,402000,403000,404000,405000,406000,407000,408000,409000,410000,411000,412000,413000,414000,415000,416000,417000,418000,419000,420000,421000,422000,423000,424000,425000,426000,427000,428000,429000,430000,431000,432000,433000,434000,435000,436000,437000,438000,439000,440000,441000,442000,443000,444000,445000,446000,447000,448000,449000,450000,451000,452000,453000,454000,455000,456000,457000,458000,459000,460000,461000,462000,463000,464000,465000,466000,467000,468000,469000,470000,471000,472000,473000,474000,475000,476000,477000,478000,479000,480000,481000,482000,483000,484000,485000,486000,487000,488000,489000,490000,491000,492000,493000,494000,495000,496000,497000,498000,499000,500000,501000,502000,503000,504000,505000,506000,507000,508000,509000,510000,511000,512000,513000,514000,515000,516000,517000,518000,519000,520000,521000,522000,523000,524000,525000,526000,527000,528000,529000,530000,531000,532000,533000,534000,535000,536000,537000,538000,539000,540000,541000,542000,543000,544000,545000,546000,547000,548000,549000,550000,551000,552000,553000,554000,555000,556000,557000,558000,559000,560000,561000,562000,563000,564000,565000,566000,567000,568000,569000,570000,571000,572000,573000,574000,575000,576000,577000,578000,579000,580000,581000,582000,583000,584000,585000,586000,587000,588000,589000,590000,591000,592000,593000,594000,595000,596000,597000,598000,599000,600000],\"y\":{\"__ndarray__\":\"AAAAAAAAAAAAAAAAAAAAAAAAAAAAAAAAAAAAAAAAAAAAAAAAAAAAAAAAAAAAAAAAAAAAAAAAAAAAAAAAAAAAAAAAAAAAAAAAAAAAAAAAAAAAAAAAAAAAAAAAAAAAAAAAAAAAAAAAAAAAAAAAAAAAAAAAAAAAAAAAAAAAAAAAAAAAAAAAAAAAAAAAAAAAAAAAAAAAAAAAAAAAAAAAAAAAAAAAAAAAAAAAAAAAAAAAAAAAAAAAAAAAAAAAAAAAAAAAAAAAAAAAAAAAAAAAAAAAAAAAAAAAAAAAAAAAAAAAAAAAAAAAAAAAAAAAAAAAAAAAAAAAAAAAAAAAAAAAAAAAAAAAAAAAAAAAAAAAAAAAAAAAAAAAAAAAAAAAAAAAAAAAAAAAAAAAAAAAAAAAAAAAAAAAAAAAAAAAAAAAAAAAAAAAAAAAAAAAAAAAAAAAAAAAAAAAAAAAAAAAAAAAAAAAAAAAAAAAAAAAAAAAAAAAAAAAAAAAAAAAAAAAAAAAAAAAAAAAAAAAAAAAAAAAAAAAAAAAAAAAAAAAAAAAAAAAAAAAAAAAAAAAAAAAAAAAAAAAAAAAAAAAAAAAAAAAAAAAAAAAAAAAAAAAAAAAAAAAAAAAAAAAAAAAAAAAAAAAAAAAAAAAAAAAAAAAAAAAAAAAAAAAAAAAAAAAAAAAAAAAAAAAAAAAAAAAAAAAAAAAAAAAAAAAAAAAAAAAAAAAAAAAAAAAAAAAAAAAAAAAAAAAAAAAAAAAAAAAAAAAAAAAAAAAAAAAAAAAAAAAAAAAAAAAAAAAAAAAAAAAAAAAAAAAAAAAAAAAAAAAAAAAAAAAAAAAAAAAAAAAAAAAAAAAAAAAAAAAAAAAAAAAAAAAAAAAAAAAAAAAAAAAAAAAAAAAAAAAAAAAAAAAAAAAAAAAAAAAAAAAAAAAAAAAAAAAAAAAAAAAAAAAAAAAAAAAAAAAAAAAAAAAAAAAAAAAAAAAAAAAAAAAAAAAAAAAAAAAAAAAAAAAAAAAAAAAAAAAAAAAAAAAAAAAAAAAAAAAAAAAAAAAAAAAAAAAAAAAAAAAAAAAAAAAAAAAAAAAAAAAAAAAAAAAAAAAAAAAAAAAAAAAAAAAAAAAAAAAAAAAAAAAAAAAAAAAAAAAAAAAAAAAAAAAAAAAAAAAAAAAAAAAAAAAAAAAAAAAAAAAAAAAAAAAAAAAAAAAAAAAAAAAAAAAAAAAAAAAAAAAAAAAAAAAAAAAAAAAAAAAAAAAAAAAAAAAAAAAAAAAAAAAAAAAAAAAAAAAAAAAAAAAAAAAAAAAAAAAAAAAAAAAAAAAAAAAAAAAAAAAAAAAAAAAAAAAAAAAAAAAAAAAAAAAAAAAAAAAAAAAAAAAAAAAAAAAAAAAAAAAAAAAAAAAAAAAAAAAAAAAAAAAAAAAAAAAAAAAAAAAAAAAAAAAAAAAAAAAAAAAAAAAAAAAAAAAAAAAAAAAAAAAAAAAAAAAAAAAAAAAAAAAAAAAAAAAAAAAAAAAAAAAAAAAAAAAAAAAAAAAAAAAAAAAAAAAAAAAAAAAAAAAAAAAAAAAAAAAAAAAAAAAAAAAAAAAAAAAAAAAAAAAAAAAAAAAAAAAAAAAAAAAAAAAAAAAAAAAAAAAAAAAAAAAAAAAAAAAAAAAAAAAAAAAAAAAAAAAAAAAAAAAAAAAAAAAAAAAAAAAAAAAAAAAAAAAAAAAAAAAAAAAAAAAAAAAAAAAAAAAAAAAAAAAAAAAAAAAAAAAAAAAAAAAAAAAAAAAAAAAAAAAAAAAAAAAAAAAAAAAAAAAAAAAAAAAAAAAAAAAAAAAAAAAAAAAAAAAAAAAAAAAAAAAAAAAAAAAAAAAAAAAAAAAAAAAAAAAAAAAAAAAAAAAAAAAAAAAAAAAAAAAAAAAAAAAAAAAAAAAAAAAAAAAAAAAAAAAAAAAAAAAAAAAAAAAAAAAAAAAAAAAAAAAAAAAAAAAAAAAAAAAAAAAAAAAAAAAAAAAAAAAAAAAAAAAAAAAAAAAAAAAAAAAAAAAAAAAAAAAAAAAAAAAAAAAAAAAAAAAAAAAAAAAAAAAAAAAAAAAAAAAAAAAAAAAAAAAAAAAAAAAAAAAAAAAAAAAAAAAAAAAAAAAAAAAAAAAAAAAAAAAAAAAAAAAAAAAAAAAAAAAeQi7+HPNnj95CLv4c82uP1pGjPoWGrc/eQi7+HPNvj9L5XR7aEDDP1pGjPoWGsc/aaejecXzyj95CLv4c83OPwAAAAAAANA/AAAAAAAA0D8AAAAAAADQPwAAAAAAANA/AAAAAAAA0D8AAAAAAADQPwAAAAAAANA/4+R+h6JAzz9UIoleRrHMP8RfkzXqIco/NZ2dDI6Sxz+l2qfjMQPFPxYYsrrVc8I/Dat4I/PIvz/uJY3ROqq6P9CgoX+Ci7U/sRu2LcpssD8kLZW3I5ymP8xFfCdmvZg/RMU4fxMKcT9es7WZ6SqbP70QKBAvvK4/5qO6qXTxtz+2n7DlaELAP3rtg3YXjMQ/PTtXB8bVyD8BiSqYdB/NPwAAAAAAANA/AAAAAAAA0D8AAAAAAADQPwAAAAAAANA/AAAAAAAA0D8AAAAAAADQPwAAAAAAANA/AAAAAAAA0D8AAAAAAADQPwAAAAAAANA/AAAAAAAA0D8AAAAAAADQPwAAAAAAANA/AAAAAAAA0D8AAAAAAADQPwAAAAAAANA/AAAAAAAA0D8AAAAAAADQPwAAAAAAANA/AAAAAAAA0D8AAAAAAADQPwAAAAAAANA/AAAAAAAA0D8AAAAAAADQPwEAAAAAANA/AQAAAAAA0D8AAAAAAADQPwAAAAAAANA/AAAAAAAA0D8AAAAAAADQPwAAAAAAANA/AAAAAAAA0D8AAAAAAADQPwAAAAAAANA/AAAAAAAA0D8AAAAAAADQPwAAAAAAANA/AAAAAAAA0D8AAAAAAADQPwAAAAAAANA/AAAAAAAA0D8AAAAAAADQPwAAAAAAANA/AAAAAAAA0D/////////PP////////88/////////zz/////////PPwAAAAAAANA/AAAAAAAA0D8AAAAAAADQPwAAAAAAANA/AAAAAAAA0D8AAAAAAADQPwAAAAAAANA/AAAAAAAA0D8AAAAAAADQPwAAAAAAANA/AAAAAAAA0D8AAAAAAADQPwAAAAAAANA/AAAAAAAA0D8AAAAAAADQP////////88/AAAAAAAA0D8AAAAAAADQPwAAAAAAANA/AAAAAAAA0D8AAAAAAADQPwAAAAAAANA/AAAAAAAA0D8AAAAAAADQP////////88/AAAAAAAA0D8AAAAAAADQPwAAAAAAANA/AAAAAAAA0D8AAAAAAADQPwAAAAAAANA/AAAAAAAA0D8AAAAAAADQPwAAAAAAANA/AAAAAAAA0D8AAAAAAADQP////////88/AAAAAAAA0D8AAAAAAADQPwAAAAAAANA/AAAAAAAA0D8AAAAAAADQPy6Bv/dPstE/XQJ/759k0z+Lgz7n7xbVP7kE/t4/ydY/6IW91o972D8WB33O3y3aP0SIPMYv4Ns/cgn8vX+S3T+hiru1z0TfPzD6CtKMRd8/5xiQvd793T+gNxWpMLbcP0umPUF5JNw/6mQJhrhI3D+JI9XK92zcPyjioA83kdw/yKBsVHa13D9mXziZtdncPwQeBN70/dw/o9zPIjQi3T9Cm5tnc0bdP54bfgQ+pd0/3Or7lfqM4D81repcnfLhP6vJxjkrU+I/IOaiFrmz4j+XAn/zRhTjPw0fW9DUdOM/gzs3rWLV4z/iWBe30QDkPz7o2az6XOM/mnecoiO54j/3Bl+YTBXiP1OWIY51ceE/ryXkg57N4D8LtaZ5xyngPwAAAAAAAOA/AAAAAAAA4D8AAAAAAADgPwAAAAAAAOA/AAAAAAAA4D8AAAAAAADgPwAAAAAAAOA/AAAAAAAA4D8AAAAAAADgPwAAAAAAAOA/AAAAAAAA4D8AAAAAAADgPwE7SvqdQuA/U5THDIZS4T+l7UQfbmLiP/hGwjFWcuM/SqA/RD6C5D+c+bxWJpLlP+5SOmkOouY/QKy3e/ax5z9CfcucLovnP54MjpJX5+Y/+ptQiIBD5j9WKxN+qZ/lP7K61XPS++Q/DkqYaftX5D9q2VpfJLTjP8doHVVNEOM/I/jfSnZs4j9/h6JAn8jhP9sWZTbIJOE/N6YnLPGA4D/1WUPaPT3gP1UYWcvCXOE/tNZuvEd84j8UlYStzJvjP3RTmp5Ru+Q/1BGwj9ba5T8z0MWAW/rmPwAAAAAAAOg/AAAAAAAA6D8AAAAAAADoPwAAAAAAAOg/AAAAAAAA6D8AAAAAAADoPwAAAAAAAOg/AAAAAAAA6D8AAAAAAADoPwAAAAAAAOg/AAAAAAAA6D8AAAAAAADoPwAAAAAAAOg/AAAAAAAA6D8AAAAAAADoPwAAAAAAAOg/AAAAAAAA6D8AAAAAAADoPwAAAAAAAOg/AAAAAAAA6D8AAAAAAADoPwAAAAAAAOg/AAAAAAAA6D8AAAAAAADoPwAAAAAAAOg/AAAAAAAA6D8AAAAAAADoPwAAAAAAAOg/AAAAAAAA6D8AAAAAAADoPwAAAAAAAOg/AAAAAAAA6D8AAAAAAADoPwAAAAAAAOg/AAAAAAAA6D8AAAAAAADoPwAAAAAAAOg/AAAAAAAA6D8AAAAAAADoPwAAAAAAAOg/AAAAAAAA6D8AAAAAAADoPwAAAAAAAOg/AAAAAAAA6D8AAAAAAADoPwAAAAAAAOg/AAAAAAAA6D8AAAAAAADoPwAAAAAAAOg/AAAAAAAA6D/O6F62ParoP5zRvWx7VOk/arocI7n+6T84o3vZ9qjqPwaM2o80U+s/1HQ5RnL96z+iXZj8r6fsP3BG97LtUe0/Pi9WaSv87T8MGLUfaabuP9oAFNamUO8/qOlyjOT67z+ppE5AE2HvPwU0ETY8ve4/YcPTK2UZ7j+9UpYhjnXtPxniWBe30ew/dnEbDeAt7D/SAN4CCYrrPy6QoPgx5uo/ih9j7lpC6j/mriXkg57pP0I+6Nms+ug/ns2qz9VW6D8AAAAAAADoPwAAAAAAAOg/AAAAAAAA6D8AAAAAAADoPwAAAAAAAOg/AAAAAAAA6D8AAAAAAADoPwAAAAAAAOg/AAAAAAAA6D8AAAAAAADoPwAAAAAAAOg/AAAAAAAA6D8AAAAAAADoPwAAAAAAAOg/AAAAAAAA6D8AAAAAAADoPwAAAAAAAOg/AAAAAAAA6D8AAAAAAADoPwAAAAAAAOg/AAAAAAAA6D8AAAAAAADoPwAAAAAAAOg/AAAAAAAA6D8AAAAAAADoPwAAAAAAAOg/AAAAAAAA6D8AAAAAAADoPwAAAAAAAOg/AAAAAAAA6D8AAAAAAADoPwAAAAAAAOg/AAAAAAAA6D8AAAAAAADoPwAAAAAAAOg/AAAAAAAA6D8AAAAAAADoPwAAAAAAAOg/AAAAAAAA6D8AAAAAAADoPwAAAAAAAOg/AAAAAAAA6D8AAAAAAADoPwAAAAAAAOg/AAAAAAAA6D8AAAAAAADoPwAAAAAAAOg/AAAAAAAA6D8AAAAAAADoPwAAAAAAAOg/AAAAAAAA6D8AAAAAAADoPwAAAAAAAOg/AAAAAAAA6D8AAAAAAADoPwAAAAAAAOg/AAAAAAAA6D8AAAAAAADoPwAAAAAAAOg/AAAAAAAA6D8AAAAAAADoPwAAAAAAAOg/AAAAAAAA6D8AAAAAAADoPwAAAAAAAOg/AAAAAAAA6D8AAAAAAADoPwAAAAAAAOg/AAAAAAAA6D8AAAAAAADoPwAAAAAAAOg/AAAAAAAA6D8AAAAAAADoPwAAAAAAAOg/AAAAAAAA6D/uEac5LGToPyr8D2hOOek/ZuZ4lnAO6j+i0OHEkuPqP926SvO0uOs/GaWzIdeN7D9VjxxQ+WLtP5F5hX4bOO4/zWPurD0N7z8JTlfbX+LvPwAAAAAAAPA/AAAAAAAA8D8AAAAAAADwPwAAAAAAAPA/AAAAAAAA8D8AAAAAAADwPwAAAAAAAPA/AAAAAAAA8D8AAAAAAADwPwAAAAAAAPA/AAAAAAAA8D8AAAAAAADwPwAAAAAAAPA/AAAAAAAA8D8AAAAAAADwPwAAAAAAAPA/AAAAAAAA8D8AAAAAAADwPwAAAAAAAPA/AAAAAAAA8D/E6/oFu2HvPyB7vfvjve4/fAqA8Qwa7j/ZmULnNXbtPzUpBd1e0uw/kbjH0ocu7D/tR4rIsIrrP0nXTL7Z5uo/pmYPtAJD6j8C9tGpK5/pP16FlJ9U++g/uhRXlX1X6D/bJQHQJlnoP1BjF852GOk/xqAtzMbX6T883kPKFpfqP7IbWshmVus/J1lwxrYV7D+clobEBtXsPxLUnMJWlO0/iBGzwKZT7j8=\",\"dtype\":\"float64\",\"shape\":[601]}}},\"id\":\"9cc9251b-2307-456e-b809-d8fa0ce0da8b\",\"type\":\"ColumnDataSource\"},{\"attributes\":{\"data_source\":{\"id\":\"1c6ef0c5-0626-4563-be7f-928544cfdfd3\",\"type\":\"ColumnDataSource\"},\"glyph\":{\"id\":\"f63d2a57-e531-4fd0-80fd-24eb567e019f\",\"type\":\"Line\"},\"hover_glyph\":null,\"nonselection_glyph\":{\"id\":\"e2b814a9-bdb6-499d-8645-ae1155b51852\",\"type\":\"Line\"},\"selection_glyph\":null},\"id\":\"0bea91cc-e725-4754-8a98-beb70ffacdad\",\"type\":\"GlyphRenderer\"},{\"attributes\":{\"line_alpha\":{\"value\":0.1},\"line_color\":{\"value\":\"#1f77b4\"},\"line_width\":{\"value\":2},\"x\":{\"field\":\"x\"},\"y\":{\"field\":\"y\"}},\"id\":\"45cc71de-8580-4ea7-b00c-7fcc9a100c4d\",\"type\":\"Line\"},{\"attributes\":{\"callback\":null,\"end\":1.1,\"start\":-0.1},\"id\":\"cf7757ba-2655-4a90-9ff6-0cafc8a866a2\",\"type\":\"Range1d\"},{\"attributes\":{\"data_source\":{\"id\":\"d3e0ba95-ebb9-4a83-8df6-f1e09e63baf7\",\"type\":\"ColumnDataSource\"},\"glyph\":{\"id\":\"85d313a7-2a50-4177-b855-d63fcb8b06a1\",\"type\":\"Patch\"},\"hover_glyph\":null,\"nonselection_glyph\":{\"id\":\"437e5985-de33-4574-920b-bef1d925e6bf\",\"type\":\"Patch\"},\"selection_glyph\":null},\"id\":\"1a5672ba-7db0-44c2-a809-5ff07468b55f\",\"type\":\"GlyphRenderer\"},{\"attributes\":{\"dimension\":1,\"plot\":{\"id\":\"b06289b8-b774-4a8b-b282-5e69357b878a\",\"subtype\":\"Figure\",\"type\":\"Plot\"},\"ticker\":{\"id\":\"942375d1-5af6-48d1-8fab-bc03b97feb87\",\"type\":\"BasicTicker\"}},\"id\":\"0bbc58f2-2b4e-4282-aa6c-fd8acee9c67c\",\"type\":\"Grid\"},{\"attributes\":{\"callback\":null,\"column_names\":[\"x\",\"y\"],\"data\":{\"x\":[0,1000,2000,3000,4000,5000,6000,7000,8000,9000,10000,11000,12000,13000,14000,15000,16000,17000,18000,19000,20000,21000,22000,23000,24000,25000,26000,27000,28000,29000,30000,31000,32000,33000,34000,35000,36000,37000,38000,39000,40000,41000,42000,43000,44000,45000,46000,47000,48000,49000,50000,51000,52000,53000,54000,55000,56000,57000,58000,59000,60000,61000,62000,63000,64000,65000,66000,67000,68000,69000,70000,71000,72000,73000,74000,75000,76000,77000,78000,79000,80000,81000,82000,83000,84000,85000,86000,87000,88000,89000,90000,91000,92000,93000,94000,95000,96000,97000,98000,99000,100000,101000,102000,103000,104000,105000,106000,107000,108000,109000,110000,111000,112000,113000,114000,115000,116000,117000,118000,119000,120000,121000,122000,123000,124000,125000,126000,127000,128000,129000,130000,131000,132000,133000,134000,135000,136000,137000,138000,139000,140000,141000,142000,143000,144000,145000,146000,147000,148000,149000,150000,151000,152000,153000,154000,155000,156000,157000,158000,159000,160000,161000,162000,163000,164000,165000,166000,167000,168000,169000,170000,171000,172000,173000,174000,175000,176000,177000,178000,179000,180000,181000,182000,183000,184000,185000,186000,187000,188000,189000,190000,191000,192000,193000,194000,195000,196000,197000,198000,199000,200000,201000,202000,203000,204000,205000,206000,207000,208000,209000,210000,211000,212000,213000,214000,215000,216000,217000,218000,219000,220000,221000,222000,223000,224000,225000,226000,227000,228000,229000,230000,231000,232000,233000,234000,235000,236000,237000,238000,239000,240000,241000,242000,243000,244000,245000,246000,247000,248000,249000,250000,251000,252000,253000,254000,255000,256000,257000,258000,259000,260000,261000,262000,263000,264000,265000,266000,267000,268000,269000,270000,271000,272000,273000,274000,275000,276000,277000,278000,279000,280000,281000,282000,283000,284000,285000,286000,287000,288000,289000,290000,291000,292000,293000,294000,295000,296000,297000,298000,299000,300000,301000,302000,303000,304000,305000,306000,307000,308000,309000,310000,311000,312000,313000,314000,315000,316000,317000,318000,319000,320000,321000,322000,323000,324000,325000,326000,327000,328000,329000,330000,331000,332000,333000,334000,335000,336000,337000,338000,339000,340000,341000,342000,343000,344000,345000,346000,347000,348000,349000,350000,351000,352000,353000,354000,355000,356000,357000,358000,359000,360000,361000,362000,363000,364000,365000,366000,367000,368000,369000,370000,371000,372000,373000,374000,375000,376000,377000,378000,379000,380000,381000,382000,383000,384000,385000,386000,387000,388000,389000,390000,391000,392000,393000,394000,395000,396000,397000,398000,399000,400000,401000,402000,403000,404000,405000,406000,407000,408000,409000,410000,411000,412000,413000,414000,415000,416000,417000,418000,419000,420000,421000,422000,423000,424000,425000,426000,427000,428000,429000,430000,431000,432000,433000,434000,435000,436000,437000,438000,439000,440000,441000,442000,443000,444000,445000,446000,447000,448000,449000,450000,451000,452000,453000,454000,455000,456000,457000,458000,459000,460000,461000,462000,463000,464000,465000,466000,467000,468000,469000,470000,471000,472000,473000,474000,475000,476000,477000,478000,479000,480000,481000,482000,483000,484000,485000,486000,487000,488000,489000,490000,491000,492000,493000,494000,495000,496000,497000,498000,499000,500000,501000,502000,503000,504000,505000,506000,507000,508000,509000,510000,511000,512000,513000,514000,515000,516000,517000,518000,519000,520000,521000,522000,523000,524000,525000,526000,527000,528000,529000,530000,531000,532000,533000,534000,535000,536000,537000,538000,539000,540000,541000,542000,543000,544000,545000,546000,547000,548000,549000,550000,551000,552000,553000,554000,555000,556000,557000,558000,559000,560000,561000,562000,563000,564000,565000,566000,567000,568000,569000,570000,571000,572000,573000,574000,575000,576000,577000,578000,579000,580000,581000,582000,583000,584000,585000,586000,587000,588000,589000,590000,591000,592000,593000,594000,595000,596000,597000,598000,599000,600000],\"y\":{\"__ndarray__\":\"AAAAAAAAAAAAAAAAAAAAAAAAAAAAAAAAAAAAAAAAAAAAAAAAAAAAAAAAAAAAAAAAAAAAAAAAAAAAAAAAAAAAAAAAAAAAAAAAAAAAAAAAAAAAAAAAAAAAAAAAAAAAAAAAAAAAAAAAAAAAAAAAAAAAAAAAAAAAAAAAAAAAAAAAAAAAAAAAAAAAAAAAAAAAAAAAAAAAAAAAAAAAAAAAAAAAAAAAAAAAAAAAAAAAAAAAAAAAAAAAAAAAAAAAAAAAAAAAAAAAAAAAAAAAAAAAAAAAAAAAAAAAAAAAAAAAAAAAAAAAAAAAAAAAAAAAAAAAAAAAAAAAAAAAAAAAAAAAAAAAAAAAAAAAAAAAAAAAAAAAAAAAAAAAAAAAAAAAAAAAAAAAAAAAAAAAAAAAAAAAAAAAAAAAAAAAAAAAAAAAAAAAAAAAAAAAAAAAAAAAAAAAAAAAAAAAAAAAAAAAAAAAAAAAAAAAAAAAAAAAAAAAAAAAAAAAAAAAAAAAAAAAAAAAAAAAAAAAAAAAAAAAAAAAAAAAAAAAAAAAAAAAAAAAAAAAAAAAAAAAAAAAAAAAAAAAAAAAAAAAAAAAAAAAAAAAAAAAAAAAAAAAAAAAAAAAAAAAAAAAAAAAAAAAAAAAAAAAAAAAAAAAAAAAAAAAAAAAAAAAAAAAAAAAAAAAAAAAAAAAAAAAAAAAAAAAAAAAAAAAAAAAAAAAAAAAAAAAAAAAAAAAAAAAAAAAAAAAAAAAAAAAAAAAAAAAAAAAAAAAAAAAAAAAAAAAAAAAAAAAAAAAAAAAAAAAAAAAAAAAAAAAAAAAAAAAAAAAAAAAAAAAAAAAAAAAAAAAAAAAAAAAAAAAAAAAAAAAAAAAAAAAAAAAAAAAAAAAAAAAAAAAAAAAAAAAAAAAAAAAAAAAAAAAAAAAAAAAAAAAAAAAAAAAAAAAAAAAAAAAAAAAAAAAAAAAAAAAAAAAAAAAAAAAAAAAAAAAAAAAAAAAAAAAAAAAAAAAAAAAAAAAAAAAAAAAAAAAAAAAAAAAAAAAAAAAAAAAAAAAAAAAAAAAAAAAAAAAAAAAAAAAAAAAAAAAAAAAAAAAAAAAAAAAAAAAAAAAAAAAAAAAAAAAAAAAAAAAAAAAAAAAAAAAAAAAAAAAAAAAAAAAAAAAAAAAAAAAAAAAAAAAAAAAAAAAAAAAAAAAAAAAAAAAAAAAAAAAAAAAAAAAAAAAAAAAAAAAAAAAAAAAAAAAAAAAAAAAAAAAAAAAAAAAAAAAAAAAAAAAAAAAAAAAAAAAAAAAAAAAAAAAAAAAAAAAAAAAAAAAAAAAAAAAAAAAAAAAAAAAAAAAAAAAAAAAAAAAAAAAAAAAAAAAAAAAAAAAAAAAAAAAAAAAAAAAAAAAAAAAAAAAAAAAAAAAAAAAAAAAAAAAAAAAAAAAAAAAAAAAAAAAAAAAAAAAAAAAAAAAAAAAAAAAAAAAAAAAAAAAAAAAAAAAAAAAAAAAAAAAAAAAAAAAAAAAAAAAAAAAAAAAAAAAAAAAAAAAAAAAAAAAAAAAAAAAAAAAAAAAAAAAAAAAAAAAAAAAAAAAAAAAAAAAAAAAAAAAAAAAAAAAAAAAAAAAAAAAAAAAAAAAAAAAAAAAAAAAAAAAAAAAAAAAAAAAAAAAAAAAAAAAAAAAAAAAAAAAAAAAAAAAAAAAAAAAAAAAAAAAAAAAAAAAAAAAAAAAAAAAAAAAAAAAAAAAAAAAAAAAAAAAAAAAAAAAAAAAAAAAAAAAAAAAAAAAAAAAAAAAAAAAAAAAAAAAAAAAAAAAAAAAAAAAAAAAAAAAAAAAAAAAAAAAAAAAAAAAAAAAAAAAAAAAAAAAAAAAAAAAAAAAAAAAAAAAAAAAAAAAAAAAAAAAAAAAAAAAAAAAAAAAAAAAAAAAAAAAAAAAAAAAAAAAAAAAAAAAAAAAAAAAAAAAAAAAAAAAAAAAAAAAAAAAAAAAAAAAAAAAAAAAAAAAAAAAAAAAAAAAAAAAAAAAAAAAAAAAAAAAAAAAAAAAAAAAAAAAAAAAAAAAAAAAAAAAAAAAAAAAAAAAAAAAAAAAAAAAAAAAAAAAAAAAAAAAAAAAAAAAAAAAAAAAAAAAAAAAAAAAAAAAAAAAAAAAAAAAAAAAAAAAAAAAAAAAAAAAAAAAAAAAfq8daXgslz9+rx1peCynP59D1k5aYbE/fq8daXgstz9eG2WDlve8P59D1k5aYcE/j/n5W+lGxD9+rx1peCzHP25lQXYHEso/Xhtlg5b3zD9O0YiQJd3PP3NLqyFxj80/Gnq2edBHzD/3mcJS60fMP9O5zisGSMw/sNnaBCFIzD+M+ebdO0jMP2kZ87ZWSMw/Rjn/j3FIzD8iWQtpjEjMP/94F0KnSMw/25gjG8JIzD+4uC/03EjMP9qrFZfYcc0/////////zz8AAAAAAADQPwAAAAAAANA/AAAAAAAA0D8AAAAAAADQPwAAAAAAANA/AAAAAAAA0D8AAAAAAADQPwAAAAAAANA/AAAAAAAA0D8AAAAAAADQPwAAAAAAANA/4jygfuuS0T9BpPUCtjnTP6ILS4eA4NQ/AHOgC0uH1j9f2vWPFS7YP75BSxTg1Nk/HqmgmKp72z9+EPYcdSLdP9x3S6E/yd4/AAAAAAAA4D8AAAAAAADgPwAAAAAAAOA/AAAAAAAA4D8AAAAAAADgPwAAAAAAAOA/AAAAAAAA4D8AAAAAAADgPwAAAAAAAOA/AAAAAAAA4D8AAAAAAADgPwAAAAAAAOA/AAAAAAAA4D8AAAAAAADgPwAAAAAAAOA/AAAAAAAA4D8AAAAAAADgPwAAAAAAAOA/AAAAAAAA4D8AAAAAAADgPwAAAAAAAOA/AAAAAAAA4D8AAAAAAADgPwAAAAAAAOA/AAAAAAAA4D8AAAAAAADgPwAAAAAAAOA/AAAAAAAA4D8AAAAAAADgPwAAAAAAAOA/AAAAAAAA4D8AAAAAAADgPwAAAAAAAOA/AAAAAAAA4D8AAAAAAADgPwAAAAAAAOA/AAAAAAAA4D8AAAAAAADgPwAAAAAAAOA/AAAAAAAA4D8AAAAAAADgPwAAAAAAAOA/AAAAAAAA4D8AAAAAAADgPwAAAAAAAOA/AAAAAAAA4D8AAAAAAADgPwAAAAAAAOA/AAAAAAAA4D8AAAAAAADgPwAAAAAAAOA/AAAAAAAA4D8AAAAAAADgPwAAAAAAAOA/AAAAAAAA4D8AAAAAAADgPwAAAAAAAOA/AAAAAAAA4D8AAAAAAADgPwAAAAAAAOA/AAAAAAAA4D8AAAAAAADgPwAAAAAAAOA/AAAAAAAA4D8AAAAAAADgPwAAAAAAAOA/AAAAAAAA4D8AAAAAAADgPwAAAAAAAOA/AAAAAAAA4D8AAAAAAADgPwAAAAAAAOA/AAAAAAAA4D8AAAAAAADgPwAAAAAAAOA/AAAAAAAA4D8AAAAAAADgPwAAAAAAAOA/AAAAAAAA4D8AAAAAAADgP0l7pUh7peA/kfZKkfZK4T/acfDZcfDhPyPtlSLtleI/a2g7a2g74z+04+Cz4+DjP/xehvxehuQ/RdorRdor5T+OVdGNVdHlP9bQdtbQduY/H0wcH0wc5z9ox8Fnx8HnP2CrBIvDmec/vTrHgOz15j8Zyol2FVLmP3VZTGw+ruU/0egOYmcK5T8teNFXkGbkP4oHlE25wuM/5pZWQ+Ie4z9CJhk5C3viP5612y401+E/+kSeJF0z4T9W1GAaho/gPwAAAAAAAOA/AAAAAAAA4D8AAAAAAADgPwAAAAAAAOA/AAAAAAAA4D8AAAAAAADgPwAAAAAAAOA/AAAAAAAA4D8AAAAAAADgPwAAAAAAAOA/AAAAAAAA4D8AAAAAAADgPwAAAAAAAOA/AAAAAAAA4D8AAAAAAADgPwAAAAAAAOA/AAAAAAAA4D8AAAAAAADgPwAAAAAAAOA/AAAAAAAA4D8AAAAAAADgPwAAAAAAAOA/AAAAAAAA4D8AAAAAAADgPwAAAAAAAOA/gWqBhEgV4D+/MPgs7MDgP/32btWPbOE/PL3lfTMY4j96g1wm18PiP7hJ0856b+M/9g9Kdx4b5D811sAfwsbkP3OcN8hlcuU/smKucAke5j/wKCUZrcnmPy7vm8FQdec/AAAAAAAA6D8AAAAAAADoPwAAAAAAAOg/AAAAAAAA6D8AAAAAAADoPwAAAAAAAOg/AAAAAAAA6D8AAAAAAADoPwAAAAAAAOg/AAAAAAAA6D8AAAAAAADoPwAAAAAAAOg/AAAAAAAA6D8AAAAAAADoPwAAAAAAAOg/AAAAAAAA6D8AAAAAAADoPwAAAAAAAOg/AAAAAAAA6D8AAAAAAADoPwAAAAAAAOg/AAAAAAAA6D8AAAAAAADoPwAAAAAAAOg/AAAAAAAA6D8AAAAAAADoPwAAAAAAAOg/AAAAAAAA6D8AAAAAAADoPwAAAAAAAOg/AAAAAAAA6D8AAAAAAADoPwAAAAAAAOg/AAAAAAAA6D8AAAAAAADoPwAAAAAAAOg/AAAAAAAA6D8AAAAAAADoPwAAAAAAAOg/AAAAAAAA6D8AAAAAAADoPwAAAAAAAOg/AAAAAAAA6D8AAAAAAADoPwAAAAAAAOg/AAAAAAAA6D8AAAAAAADoPwAAAAAAAOg/AAAAAAAA6D8AAAAAAADoPwAAAAAAAOg/AAAAAAAA6D8AAAAAAADoPwAAAAAAAOg/AAAAAAAA6D8AAAAAAADoPwAAAAAAAOg/AAAAAAAA6D8AAAAAAADoPwAAAAAAAOg/AAAAAAAA6D8AAAAAAADoPwAAAAAAAOg/AAAAAAAA6D8AAAAAAADoPwAAAAAAAOg/AAAAAAAA6D8AAAAAAADoPwAAAAAAAOg/AAAAAAAA6D8AAAAAAADoPwAAAAAAAOg/AAAAAAAA6D8AAAAAAADoPwAAAAAAAOg/AAAAAAAA6D8AAAAAAADoPwAAAAAAAOg/AAAAAAAA6D8AAAAAAADoPwAAAAAAAOg/AAAAAAAA6D8AAAAAAADoPwAAAAAAAOg/AAAAAAAA6D8AAAAAAADoPwAAAAAAAOg/AAAAAAAA6D8AAAAAAADoPwAAAAAAAOg/AAAAAAAA6D8AAAAAAADoPwAAAAAAAOg/AAAAAAAA6D8AAAAAAADoPwAAAAAAAOg/AAAAAAAA6D8AAAAAAADoPwAAAAAAAOg/AAAAAAAA6D8AAAAAAADoPwAAAAAAAOg/AAAAAAAA6D8AAAAAAADoPwAAAAAAAOg/AAAAAAAA6D8AAAAAAADoPwAAAAAAAOg/AAAAAAAA6D8AAAAAAADoPwAAAAAAAOg/AAAAAAAA6D8AAAAAAADoPwAAAAAAAOg/AAAAAAAA6D8AAAAAAADoPwAAAAAAAOg/AAAAAAAA6D8AAAAAAADoPwAAAAAAAOg/AAAAAAAA6D8AAAAAAADoPwAAAAAAAOg/AAAAAAAA6D8AAAAAAADoPwAAAAAAAOg/AAAAAAAA6D8AAAAAAADoPwAAAAAAAOg/AAAAAAAA6D8AAAAAAADoPwAAAAAAAOg/AAAAAAAA6D8AAAAAAADoPwAAAAAAAOg/AAAAAAAA6D8AAAAAAADoPwAAAAAAAOg/AAAAAAAA6D8AAAAAAADoPwAAAAAAAOg/AAAAAAAA6D8AAAAAAADoPwAAAAAAAOg/AAAAAAAA6D8AAAAAAADoPwAAAAAAAOg/AAAAAAAA6D8AAAAAAADoPwAAAAAAAOg/AAAAAAAA6D8AAAAAAADoPwAAAAAAAOg/AAAAAAAA6D8AAAAAAADoPwAAAAAAAOg/AAAAAAAA6D8AAAAAAADoPwAAAAAAAOg/AAAAAAAA6D8AAAAAAADoPwAAAAAAAOg/AAAAAAAA6D8AAAAAAADoPwAAAAAAAOg/AAAAAAAA6D8AAAAAAADoPwAAAAAAAOg/AAAAAAAA6D8AAAAAAADoPwAAAAAAAOg/AAAAAAAA6D8AAAAAAADoPwAAAAAAAOg/AAAAAAAA6D8AAAAAAADoPwAAAAAAAOg/AAAAAAAA6D8AAAAAAADoPwAAAAAAAOg/AAAAAAAA6D8AAAAAAADoPwAAAAAAAOg/AAAAAAAA6D8AAAAAAADoPwAAAAAAAOg/AAAAAAAA6D8AAAAAAADoPwAAAAAAAOg/AAAAAAAA6D8AAAAAAADoPwAAAAAAAOg/AAAAAAAA6D8AAAAAAADoPwAAAAAAAOg/AAAAAAAA6D8AAAAAAADoPwAAAAAAAOg/AAAAAAAA6D8AAAAAAADoPwAAAAAAAOg/rOR4bYF96D8ErmpIhHjpP1t3XCOHc+o/s0BO/olu6z8KCkDZjGnsP2LTMbSPZO0/upwjj5Jf7j8SZhVqlVrvPypSYWwhyO8/h+EjYkok7z/jcOZXc4DuPz8AqU2c3O0/m49rQ8U47T8=\",\"dtype\":\"float64\",\"shape\":[601]}}},\"id\":\"08aa9456-1212-4b03-ac86-2eaa2e76ee97\",\"type\":\"ColumnDataSource\"},{\"attributes\":{\"callback\":null,\"column_names\":[\"x\",\"y\"],\"data\":{\"x\":[0,1000,2000,3000,4000,5000,6000,7000,8000,9000,10000,11000,12000,13000,14000,15000,16000,17000,18000,19000,20000,21000,22000,23000,24000,25000,26000,27000,28000,29000,30000,31000,32000,33000,34000,35000,36000,37000,38000,39000,40000,41000,42000,43000,44000,45000,46000,47000,48000,49000,50000,51000,52000,53000,54000,55000,56000,57000,58000,59000,60000,61000,62000,63000,64000,65000,66000,67000,68000,69000,70000,71000,72000,73000,74000,75000,76000,77000,78000,79000,80000,81000,82000,83000,84000,85000,86000,87000,88000,89000,90000,91000,92000,93000,94000,95000,96000,97000,98000,99000,100000,101000,102000,103000,104000,105000,106000,107000,108000,109000,110000,111000,112000,113000,114000,115000,116000,117000,118000,119000,120000,121000,122000,123000,124000,125000,126000,127000,128000,129000,130000,131000,132000,133000,134000,135000,136000,137000,138000,139000,140000,141000,142000,143000,144000,145000,146000,147000,148000,149000,150000,151000,152000,153000,154000,155000,156000,157000,158000,159000,160000,161000,162000,163000,164000,165000,166000,167000,168000,169000,170000,171000,172000,173000,174000,175000,176000,177000,178000,179000,180000,181000,182000,183000,184000,185000,186000,187000,188000,189000,190000,191000,192000,193000,194000,195000,196000,197000,198000,199000,200000,201000,202000,203000,204000,205000,206000,207000,208000,209000,210000,211000,212000,213000,214000,215000,216000,217000,218000,219000,220000,221000,222000,223000,224000,225000,226000,227000,228000,229000,230000,231000,232000,233000,234000,235000,236000,237000,238000,239000,240000,241000,242000,243000,244000,245000,246000,247000,248000,249000,250000,251000,252000,253000,254000,255000,256000,257000,258000,259000,260000,261000,262000,263000,264000,265000,266000,267000,268000,269000,270000,271000,272000,273000,274000,275000,276000,277000,278000,279000,280000,281000,282000,283000,284000,285000,286000,287000,288000,289000,290000,291000,292000,293000,294000,295000,296000,297000,298000,299000,300000,301000,302000,303000,304000,305000,306000,307000,308000,309000,310000,311000,312000,313000,314000,315000,316000,317000,318000,319000,320000,321000,322000,323000,324000,325000,326000,327000,328000,329000,330000,331000,332000,333000,334000,335000,336000,337000,338000,339000,340000,341000,342000,343000,344000,345000,346000,347000,348000,349000,350000,351000,352000,353000,354000,355000,356000,357000,358000,359000,360000,361000,362000,363000,364000,365000,366000,367000,368000,369000,370000,371000,372000,373000,374000,375000,376000,377000,378000,379000,380000,381000,382000,383000,384000,385000,386000,387000,388000,389000,390000,391000,392000,393000,394000,395000,396000,397000,398000,399000,400000,401000,402000,403000,404000,405000,406000,407000,408000,409000,410000,411000,412000,413000,414000,415000,416000,417000,418000,419000,420000,421000,422000,423000,424000,425000,426000,427000,428000,429000,430000,431000,432000,433000,434000,435000,436000,437000,438000,439000,440000,441000,442000,443000,444000,445000,446000,447000,448000,449000,450000,451000,452000,453000,454000,455000,456000,457000,458000,459000,460000,461000,462000,463000,464000,465000,466000,467000,468000,469000,470000,471000,472000,473000,474000,475000,476000,477000,478000,479000,480000,481000,482000,483000,484000,485000,486000,487000,488000,489000,490000,491000,492000,493000,494000,495000,496000,497000,498000,499000,500000,501000,502000,503000,504000,505000,506000,507000,508000,509000,510000,511000,512000,513000,514000,515000,516000,517000,518000,519000,520000,521000,522000,523000,524000,525000,526000,527000,528000,529000,530000,531000,532000,533000,534000,535000,536000,537000,538000,539000,540000,541000,542000,543000,544000,545000,546000,547000,548000,549000,550000,551000,552000,553000,554000,555000,556000,557000,558000,559000,560000,561000,562000,563000,564000,565000,566000,567000,568000,569000,570000,571000,572000,573000,574000,575000,576000,577000,578000,579000,580000,581000,582000,583000,584000,585000,586000,587000,588000,589000,590000,591000,592000,593000,594000,595000,596000,597000,598000,599000,600000,600000,599000,598000,597000,596000,595000,594000,593000,592000,591000,590000,589000,588000,587000,586000,585000,584000,583000,582000,581000,580000,579000,578000,577000,576000,575000,574000,573000,572000,571000,570000,569000,568000,567000,566000,565000,564000,563000,562000,561000,560000,559000,558000,557000,556000,555000,554000,553000,552000,551000,550000,549000,548000,547000,546000,545000,544000,543000,542000,541000,540000,539000,538000,537000,536000,535000,534000,533000,532000,531000,530000,529000,528000,527000,526000,525000,524000,523000,522000,521000,520000,519000,518000,517000,516000,515000,514000,513000,512000,511000,510000,509000,508000,507000,506000,505000,504000,503000,502000,501000,500000,499000,498000,497000,496000,495000,494000,493000,492000,491000,490000,489000,488000,487000,486000,485000,484000,483000,482000,481000,480000,479000,478000,477000,476000,475000,474000,473000,472000,471000,470000,469000,468000,467000,466000,465000,464000,463000,462000,461000,460000,459000,458000,457000,456000,455000,454000,453000,452000,451000,450000,449000,448000,447000,446000,445000,444000,443000,442000,441000,440000,439000,438000,437000,436000,435000,434000,433000,432000,431000,430000,429000,428000,427000,426000,425000,424000,423000,422000,421000,420000,419000,418000,417000,416000,415000,414000,413000,412000,411000,410000,409000,408000,407000,406000,405000,404000,403000,402000,401000,400000,399000,398000,397000,396000,395000,394000,393000,392000,391000,390000,389000,388000,387000,386000,385000,384000,383000,382000,381000,380000,379000,378000,377000,376000,375000,374000,373000,372000,371000,370000,369000,368000,367000,366000,365000,364000,363000,362000,361000,360000,359000,358000,357000,356000,355000,354000,353000,352000,351000,350000,349000,348000,347000,346000,345000,344000,343000,342000,341000,340000,339000,338000,337000,336000,335000,334000,333000,332000,331000,330000,329000,328000,327000,326000,325000,324000,323000,322000,321000,320000,319000,318000,317000,316000,315000,314000,313000,312000,311000,310000,309000,308000,307000,306000,305000,304000,303000,302000,301000,300000,299000,298000,297000,296000,295000,294000,293000,292000,291000,290000,289000,288000,287000,286000,285000,284000,283000,282000,281000,280000,279000,278000,277000,276000,275000,274000,273000,272000,271000,270000,269000,268000,267000,266000,265000,264000,263000,262000,261000,260000,259000,258000,257000,256000,255000,254000,253000,252000,251000,250000,249000,248000,247000,246000,245000,244000,243000,242000,241000,240000,239000,238000,237000,236000,235000,234000,233000,232000,231000,230000,229000,228000,227000,226000,225000,224000,223000,222000,221000,220000,219000,218000,217000,216000,215000,214000,213000,212000,211000,210000,209000,208000,207000,206000,205000,204000,203000,202000,201000,200000,199000,198000,197000,196000,195000,194000,193000,192000,191000,190000,189000,188000,187000,186000,185000,184000,183000,182000,181000,180000,179000,178000,177000,176000,175000,174000,173000,172000,171000,170000,169000,168000,167000,166000,165000,164000,163000,162000,161000,160000,159000,158000,157000,156000,155000,154000,153000,152000,151000,150000,149000,148000,147000,146000,145000,144000,143000,142000,141000,140000,139000,138000,137000,136000,135000,134000,133000,132000,131000,130000,129000,128000,127000,126000,125000,124000,123000,122000,121000,120000,119000,118000,117000,116000,115000,114000,113000,112000,111000,110000,109000,108000,107000,106000,105000,104000,103000,102000,101000,100000,99000,98000,97000,96000,95000,94000,93000,92000,91000,90000,89000,88000,87000,86000,85000,84000,83000,82000,81000,80000,79000,78000,77000,76000,75000,74000,73000,72000,71000,70000,69000,68000,67000,66000,65000,64000,63000,62000,61000,60000,59000,58000,57000,56000,55000,54000,53000,52000,51000,50000,49000,48000,47000,46000,45000,44000,43000,42000,41000,40000,39000,38000,37000,36000,35000,34000,33000,32000,31000,30000,29000,28000,27000,26000,25000,24000,23000,22000,21000,20000,19000,18000,17000,16000,15000,14000,13000,12000,11000,10000,9000,8000,7000,6000,5000,4000,3000,2000,1000,0],\"y\":{\"__ndarray__\":\"AAAAAAAAAAAAAAAAAAAAAAAAAAAAAAAAAAAAAAAAAAAAAAAAAAAAAAAAAAAAAAAAAAAAAAAAAAAAAAAAAAAAAAAAAAAAAAAAAAAAAAAAAAAAAAAAAAAAAAAAAAAAAAAAAAAAAAAAAAAAAAAAAAAAAAAAAAAAAAAAAAAAAAAAAAAAAAAAAAAAAAAAAAAAAAAAAAAAAAAAAAAAAAAAAAAAAAAAAAAAAAAAAAAAAAAAAAAAAAAAAAAAAAAAAAAAAAAAAAAAAAAAAAAAAAAAAAAAAAAAAAAAAAAAAAAAAAAAAAAAAAAAAAAAAAAAAAAAAAAAAAAAAAAAAAAAAAAAAAAAAAAAAAAAAAAAAAAAAAAAAAAAAAAAAAAAAAAAAAAAAAAAAAAAAAAAAAAAAAAAAAAAAAAAAAAAAAAAAAAAAAAAAAAAAAAAAAAAAAAAAAAAAAAAAAAAAAAAAAAAAAAAAAAAAAAAAAAAAAAAAAAAAAAAAAAAAAAAAAAAAAAAAAAAAAAAAAAAAAAAAAAAAAAAAAAAAAAAAAAAAAAAAAAAAAAAAAAAAAAAAAAAAAAAAAAAAAAAAAAAAAAAAAAAAAAAAAAAAAAAAAAAAAAAAAAAAAAAAAAAAAAAAAAAAAAAAAAAAAAAAAAAAAAAAAAAAAAAAAAAAAAAAAAAAAAAAAAAAAAAAAAAAAAAAAAAAAAAAAAAAAAAAAAAAAAAAAAAAAAAAAAAAAAAAAAAAAAAAAAAAAAAAAAAAAAAAAAAAAAAAAAAAAAAAAAAAAAAAAAAAAAAAAAAAAAAAAAAAAAAAAAAAAAAAAAAAAAAAAAAAAAAAAAAAAAAAAAAAAAAAAAAAAAAAAAAAAAAAAAAAAAAAAAAAAAAAAAAAAAAAAAAAAAAAAAAAAAAAAAAAAAAAAAAAAAAAAAAAAAAAAAAAAAAAAAAAAAAAABi5J46OhyCv5BW7ldXKpu/eJ1GyUijpr+oD5bmZbGvv+7A8oHBX7S/BnqaENDmuL8cM0Kf3m29vxz29JZ2+sC/qNJI3v09w78yr5wlhYHFv+aHloQJJMe/OxXQxUdExb+RogkHhmTDv+YvQ0jEhMG/enr5EgVKv78mlWyVgYq7v86v3xf+yre/e8pSmnoLtL8i5cUc90uwv57/cT7nGKm/9DRYQ+CZob+R1HyQsjWUv+78JGmS3nS/AAAAAAAAAAAAAAAAAAAAAAAAAAAAAAAAAAAAAAAAAAAAAAAAAAAAAAAAAAAAAAAAAAAAAAAAAAAAAAAAAAAAAAAAAAAAAAAAAAAAAAAAAAAAAAAAAAAAAAAAAAAAAAAAAAAAAAAAAAAAAAAAAAAAAAAAAAAAAAAAAAAAAAAAAAAAAAAAAAAAAAAAAAAAAAAAAAAAAAAAAAAAAAAAAAAAAAAAAAAAAAAAAAAAAAAAAAAAAAAAAAAAAAAAAAAAAAAAAAAAAAAAAAAAAAAAAAAAAAAAAAAAAAAAAAAAAAAAAAAAAAAAAAAAAAAAAAAAAAAAAAAAAAAAAAAAAAAAAAAAAAAAAAAAAAAAAAAAAAAAAAAAAAAAAAAAAAAAAAAAAAAAAAAAAAAAAAAAAAAAAAAAAAAAAAAAAAAAAAAAAAAAAAAAAAAAAAAAAAAAAAAAAAAAAAAAAAAAAAAAAAAAAAAAAAAAAAAAAAAAAAAAAAAAAAAAAAAAAAAAAAAAAAAAAAAAAAAAAAAAAAAAAAAAAAAAAAAAAAAAAAAAAAAAAAAAAAAAAAAAAAAAAAAAAAAAAAAAAAAAAAAAAAAAAAAAAAAAAAAAAAAAAAAAAAAAAAAAAAAAAAAAAAAAAAAAAAAAAAAAAAAAAAAAAAAAAAAAAAAAAAAAAAAAAAAAAAAAAAAAAAAAAAAAAAAAAAAAAAAAAAAAAAAAAAAAAAAAAAAAAAAAAAAAAAAAAAAAAAAAAAAAAAAAAAAAAAAAAAAAAAAAAAAAAAAAAAAAAAAAAAAAAAAAAAAAAAAAAAAAAAAAAAAAAAAAAAAAAAAAAAAAAAAAAAAAAAAAAAAAAAAAAAAAAAAAAAAAAAAAAAAAAAAAAAAAAAAAAAAAAAAAAAAAAAAAAAAAAAAAAAAAAAAAAAAAAAAAAAAAAAAAAAAAAAAAAAAAAAAAAAAAAAAAAAAAAAAAAAAAAAAAAAAAAAAAAAAAAAAAAAAAAAAAAAAAAAAAAAAAAAAAAAAAAAAAAAAAAAAAAAAAAAAAAAAAAAAAAAAAAAAAAAAAAAAAAAAAAAAAAAAAAAAAAAAAAAAAAAAAAAAAAAAAwgI9URDtkL8mhNt5mGOpv3ZDjGVUKLW/2MQqjtyevb8do2RbsgrDv83js2/2Rce/VJmw0PVsx79UmbDQ9WzHv1SZsND1bMe/VJmw0PVsx79UmbDQ9WzHv1SZsND1bMe/VJmw0PVsx78kK/VlePW7v+jAsGLDIqy/IJPk7oP1lL8AbEQLBjZQvwDNdjlTC2W/gGnvfM8NZ78AIPXIfXxpvwDTh+9PfWy/AA9LmBYlcL8ALLTs9Z9yv+AWZF56/nW/gFeHiCLTer9gUCJl2iWBv/jwa5+qnIe/5H55toB2kr/DhOppyeeSv2R7t53bTW+/AAAAAAAAAAAAAAAAAAAAAAAAAAAAAAAAAAAAAAAAAAAAAAAAAAAAAAAAAAAAAAAAAAAAAAAAAAAAAAAAAAAAAAAAAAAAAAAAAAAAAAAAAAAAAAAAAAAAAAAAAAAAAAAAAAAAAAAAAAAAAAAAAAAAAAAAAAAAAAAAAAAAAAAAAAAAAAAAAAAAAAAAAAAAAAAAAAAAAAAAAAAAAAAAAAAAAFFGn5iLiIW/vXR3smgmoL/mF8d+ruqqv4pdiyV617K/HC+zC505uL+uANvxv5u9vyFpAWzxfsG/7FEV3wIwxL+3OilSFOHGv/F9fxKY7sW/SAu5U9YOxL+cmPKUFC/Cv/MlLNZST8C/jmbLLiLfvL84gT6xnh+5v+ObsTMbYLW/jrYktpegsb9uoi9xKMKrv8fXFXYhQ6S/Nhr49TSImb/DCYn/TRSFv/jS1qTVOnW/ssF4NXwtl79R592AIYakv85t/+aEda2/JHqQJnQys79iPaHZJaq3v5wAsozXIby/7mHhn8RMwL+Lw2l5nYjCvysl8lJ2xMS/x4Z6LE8Ax790vApxW+jFv8lJRLKZCMS/INd989cowr90ZLc0FknAv5Lj4euo0ry/PP5UbiUTub/oGMjwoVO1v5UzO3MelLG/fJxc6zWpq7/P0ULwLiqkv0wOUupPVpm/7fE86IOwhL8AAAAAAAAAAAAAAAAAAAAAAAAAAAAAAAAAAAAAAAAAAAAAAAAAAAAAAAAAAAAAAAAAAAAAAAAAAAAAAAAAAAAAAAAAAAAAAAAAAAAAAAAAAAAAAAAAAAAAAAAAAAAAAAAAAAAAAAAAAAAAAAAAAAAAAAAAAAAAAAAAAAAAAAAAAAAAAAAAAAAAAAAAAAAAAAAAAAAAAAAAAAAAAAAAAAAAAAAAAAAAAAAAAAAAAAAAAAAAAAAAAAAAAAAAAAAAAAAAAAAAAAAAAAAAAAAAAAAAAAAAAAAAAAAAAAAAAAAAAAAAAAAAAAAAAAAAAAAAAAAAAAAAAAAAAAAAAAAAAAAAAAAAAAAAAAAAAAAAAAAAAAAAAAAAAAAAAAAAAAAAAAAAAAAAAAAAAAAAAAAAAAAAAAAAAAAAAAAAAAAAAAAAAAAAAAAAAAAAAAAAAAAAAAAAAAAAAAAAAAAAAAAAAAAAAAAAAAAAAAAAAAAAAAAAAAAAAAAAAAAAAAAAAAAAAAAAAAAAAAAAAAAAAAAAAAAAAAAAAAAAAAAAAAAAAAAAAAAAAAAAAAAAAAAAAAAAAAAAAAAAAAAAAAAAAAAAAAAAAAAAAAAAAAAAAAAAAAAAAAAAAAAAAAAAAAAAAAAAAAAAAAAAAAAAAAAAAAAAAAAAAAAAAAAAAAAAAAAAAAAAAAAAAAAAAAAAAAAAAAAAAAAAAAAAAAAAAAAAAAAAAAAAAAAAAAAAAAAAAAAAAAAAAAAAAAAAAAAAAAAAAAAAAAAAAAAAAAAAAAAAAAAAAAAAAAAAAAAAAAAAAAAAAAAAAAAAAAAAAAAAAAAAAAAAAAAAAAAAAAAAAAAAAAAAAAAAAAAAAAAAAAAAAAAAAAAAAAAAAAAAAAAAAAAAAAAAAAAAAAAAAAAAAAAAAAAAAAAAAAAAAAAAAAAAAAAAAAAAAAAAAAAAAAAAAAAAAAAAAAAAAAAAAAAAAAAAAAAAAAAAAAAAAAAAAAAAAAAAAAAAAAAAAAAAAAAAAAAAAAAAAAAAAAAAAAAAAAAAAAAAAAAAAAAAAAAAAAAAAAAAAAAAAAAAAAAAAAAAAAAAAAAAAAAAAAAAAAAAAAAAAAAAAAAAAAAAAAAAAAAAAAAAAAAAAAAAAAAAAAAAAAAAAAAAAAAAAAAAAAAAAAAAAAAAAAAAAAAAAAAAAAAAAAAAAAAAAAAAAAAAAAAAAAAAAAAAAAAAAAAAAAAAAAAAAAAAAAAAAAAAAAAAAAAAAAAAAAAAAAAAAAAAAAAAAAAAAAAAAAAAAAAAAAAAAAAAAAAAAAAAAAAAAAAAAAAAAAAAAAAAAAAAAAAAAAAAAAAAAAAAAAAAAAAAAAAAAAAAAAAAAAAAAAAAAAAAAAAAAAAAAAAAAAAAAAAAAAAAAAAAAAAAAAAAAAAAAAAAAAAAAAAAAAAAAAAAAAAAAAAAAAAAAAAAAAAAAAAAAAAAAAAAAAAAAAAAAAAAAAAAAAAAAAAAAAAAAAAAAAAAAAAAAAAAAAAAAAAAAAAAAAAAAAAAAAAAAAAAAAAAAAAAAAAAAAAAAAAAAAAAAAAAAAAAAAAAAAAAAAAAAAAAAAAAAAAAAAAAAAAAAAAAAAAAAAAAAAAAAAAAAAAAAAAAAAAAAAAAAAAAAAAAAAAAAAAAAAAAAAAAAAAAAAAAAAAAAAAAAAAAAAAAAAAAAAAAAAAAAAAAAAAAAAAAAAAAAAAAAAAAAAAAAAAAAAAAAAAAAAAAAAAAAAAAAAAAAAAAAAAAAAAAAAAAAAAAAAAAAAAAAAAAAAAAAAAAAAAAAAAAAAAAAAAAAAAAAAAAAAAAAAAAAAAAAAAAAAAAAAAAAAAAAAAAAAAAAAAAAAAAAAAAAAAAAAAAAAAAAAAAAAAAAAAAAAAAAAAAAAAAAAAAAAAAAAAAAAAAAAAAAAAAAAAAAAAAAAAAAAAAAAAAAAAAAAAAAAAAAAAAAAAAAAAAAAAAAAAAAAAAAAAAAAAAAAAAAAAAAAAAAAAAAAAAAAAAAAAAAAAAAAAAAAAAAAAAAAAAAAAAAAAAAAAAAAAAAAAAAAAAAAAAAAAAAAAAAAAAAAAAAAAAAAAAAAAAAAAAAAAAAAAAAAAAAAAAAAAAAAAAAAAAAAAAAAAAAAAAAAAAAAAAAAAAAAAAAAAAAAAAAAAAAAAAAAAAAAAAAAAAAAAAAAAAAAAAAAAAAAAAAAAAAAAAAAAAAAAAAAAAAAAAAAAAAAAAAAAAAAAAAAAAAAAAAAAAAAAAAAAAAAAAAAAAAAAAAAAAAAAAAAAAAAAAAAAAAAAAAAAAAAAAAAAAAAAAAAAAAAAAAAAAAAAAAAAAAAAAAAAAAAAAAAAAAAAAAAAAAAAAAAAAAAAAAAAAAAAAAAAAAAAAAAAAAAAAAAAAAAAAAAAAAAAAAAAAAAAAAAAAAAAAAAAAAAAAAAAAAAAAAAAAAAAAAAAAAAAAAAAAAAAAAAAAAAAAAAAAAAAAAAAAAAAAAAAAAAAAAAAAAAAAAAAAAAAAAAAAAAAAAAAAAAAAAAAAAAAAAAAAAAAAAAAAAAAAAAAAAAAAAAAAAAAAAAAAAAAAAAAAAAAAAAAAAAAAAAAAAAAAAAAAAAAAAAAAAAAAAAAAAAAAAAAAAAAAAAAAAAAAAAAAAAAAAAAAAAAAAAAAAAAAAAAAAAAAAAAAAAAAAAAAAAAAAAAAAAAAAAAAAAAAAAAAAAAAAAAAAAAAAAAAAAAAAAAAAAAAAAAAAAAAAAAAAAAAAAAAAAAAAAAAAAAAAAAAAAAAAAAAAAAAAAAAAAAAAAAAAAAAAAAAAAAAAAAAAAAAAAAAAAAAAAAAAAAAAAAAAAAAAAAAAAAAAAAAAAAAAAAAAAAAAAAAAAAAAAAAAAAAAAAAAAAAAAAAAAAAAAAAAAAAAAAAAAAAAAAAAAAAAAAAAAAAAAAAAAAAAAAAAAAAAAAAAAAAAAAAAAAAAAAAAAAAAAAAAADdTnRVDTeFv/QLLntx4Jq/PPjQJa6Spb9+6gqOI7Wtv2BuInvM67K/hGc/Lwf9tr+mYFzjQQ67v8hZeZd8H7+/cynLpVuYwb8Cptn/+KDDv5Ui6FmWqcW/GcoZDictx79pV1NPZU3Fv8DkjJCjbcO/FHLG0eGNwb8YgMBd2WDgPwv+7OF3IOI//XsZZhbg4z/x+UXqtJ/lP47rXHgaNuQ/LHsRAl1Q4j/KCsaLn2rgP9I09SrECd0/DlRePkk+2T9Lc8dRznLVP4eSMGVTp9E/hmMz8bC3yz8AogUYuyDEP/PAr32KE7k/y3uolj3Loz8AAAAAAAAAAAAAAAAAAAAAAAAAAAAAAAAAAAAAAAAAAAAAAAAAAAAAAAAAAAAAAAAAAAAAAAAAAAAAAAAAAAAAAAAAAAAAAAAAAAAAAAAAAAAAAAAAAAAAAAAAAAAAAAAAAAAAAAAAAAAAAAAAAAAAAAAAAAAAAAAAAAAAAAAAAAAAAAAAAAAAAAAAAAAAAAAAAAAAAAAAAAAAAAAAAAAAAAAAAAAAAAAAAAAAAAAAAAAAAAAAAAAAAAAAAAAAAAAAAAAAAAAAAAAAAAAAAAAAAAAAAAAAAAAAAAAAAAAAAAAAAAAAAAAAAAAAAAAAAAAAAAAAAAAAAAAAAAAAAAAAAAAAAAAAAAAAAAAAAAAAAAAAAAAAAAAAAAAAAAAAAAAAAAAAAAAAAAAAAAAAAAAAAAAAAAAAAAAAAAAAAAAAAAAAAAAAAAAAAAAAAAAAAAAAAAAAAAAAAAAAAAAAAAAAAAAAAAAAAAAAAAAAAAAAAAAAAAAAAAAAAAAAAAAAAAAAAAAAAAAAAAAAAAAAAAAAAAAAAAAAAAAAAAAAAAAAAAAAAAAAAAAAAAAAAAAAAAAAAAAAAAAAAAAAAAAAAAAAAAAAAAAAAAAAAAAAAAAAAAAAAAAAAAAAAAAAAAAAAAAAAAAAAAAAAAAAAAAAAAAAAAAAAAAAAAAAAAAAAAAAAAAAAAAAAAAAAAAAAAAAAAAAAAAAAAAAAAAAAAAAAAAAAAAAAAAAAAAAAAAAAAAAAAAAAAAAAAAAAAAAAAAAAAAAAAAAAAAAAAAAAAAAAAAAAAAAAAAAAAAAAAAAAAAAAAAAAAAAAAAAAAAAAAAAAAAAAAAAAAAAAAAAAAAAAAAAAAAAAAAAAAAAAAAAAAAAAAAAAAAAAAAAAAAAAAAAAAAAAAAAAAAAAAAAAAAAAAAAAAAAAAAAAAAAAAAAAAAAAAAAAAAAAAAAAAAAAAAAAAAAAAAAAAAAAAAAAAAAAAAAAAAAAAAAAAAAAAAAAAAAAAAAAAAAAAAAAAAAAAAAAAAAAAAAAAAAAAAAAAAAAAAAAAAAAAAAAAAAAAAAAAAAAAAAAAAAAAAAAAAAAAAAAAAAAAAAAAAAAAAAAAAAAAAAAAAAAAAAAAAAAAAAAAAAAAAAAAAAAAAAAAAAAAAAAAAAAAAAAAAAAAAAAAAAAAAAAAAAAAAAAAAAAAAAAAAAAAAAAAAAAAAAAAAAAAAAAAAAAAAAAAAAAAAAAAAAAAAAAAAAAAAAAAAAAAAAAAAAAAAAAAAAAAAAAAAAAAAAAAAAAAAAAAAAAAAAAAAAAAAAAAAAAAAAAAAAAAAAAAAAAAAAAAAAAAAAAAAAAAAAAAAAAAAAAAAAAAAAAAAAAAAAAAAAAAAAAAAAAAAAAAAAAAAAAAAAAAAAAAAAAAAAAAAAAAAAAAAAAAAAAAAAAAAAAAAAAAAAAAAAAAAAAAAAAAAAAAAAAAAAAAAAAAAAAAAAAAAAAAAAAAAAAAAAAAAAAAAAAAAAAAAAAAAAAAAAAAAAAAAAAAAAAAAAAAAAAAAAAAAAAAAAAAAAAAAAAAAAAAAAAAAAAAAAAAAAAAAAAAAAAAAAAAAAAAAAAAAAAAAAAAAAAAAAAAAAAAAAAAAAAAAAAAAAAAAAAAAAAAAAAAAAAAAAAAAAAAAAAAAAAAAAAAAAAAAAAAAAAAAAAAAAAAAAAAAAAAAAAAAAAAAAAAAAAAAAAAAAAAAAAAAAAAAAAAAAAAAAAAAAAAAAAAAAAAAAAAAAAAAAAAAAAAAAAAAAAAAAAAAAAAAAAAAAAAAAAAAAAAAAAAAAAAAAAAAAAAAAAAAAAAAAAAAAAAAAAAAAAAAAAAAAAAAAAAAAAAAAAAAAAAAAAAAAAAAAAAAAAAAAAAAAAAAAAAAAAAAAAAAAAAAAAAAAAAAAAAAAAAAAAAAAAAAAAAAAAAAAAAAAAAAAAAAAAAAAAAAAAAAAAAAAAAAAAAAAAAAAAAAAAAAAAAAAAAAAAAAAAAAAAAAAAAAAAAAAAAAAAAAAAAAAAAAAAAAAAAAAAAAAAAAAAAAAAAAAAAAAAAAAAAAAAAAAAAAAAAAAAAAAAAAAAAAAAAAAAAAAAAAAAAAAAAAAAAAAAAAAAAAAAAAAAAAAAAAAAAAAAAAAAAAAAAAAAAAAAAAAAAAAAAAAAAAAAAAAAAAAAAAAAAAAAAAAAAAAAAAAAAAAAAAAAAAAAAAAAAAAAAAAAAAAAAAAAAAAAAAAAAAAAAAAAAAAAAAAAAAAAAAAAAAAAAAAAAAAAAAAAAAAAAAAAAAAAAAAAAAAAAAAAAAAAAAAAAAAAAAAAAAAAAAAAAAAAAAAAAAAAAAAAAAAAAAAAAAAAAAAAAAAAAAAAAAAAAAAAAAAAAAAAAAAAAAAAAAAAAAAAAAAAAAAAAAAAAAAAAAAAAAAAAAAAAAAAAAAAAAAAAAAAAAAAAAAAAAAAAAAAAAAAAAAAAAAAAAAAAAAAAAAAAAAAAAAAAAAAAAAAAAAAAAAAAAAAAAAAAAAAAAAAAAAAAAAAAAAAAAAAAAAAAAAAAAAAAAAAAAAAAAAAAAAAAAAAAAAAAAAAAAAAAAAAAAAAAAAAAAAAAAAAAAAAAAAAAAAAAAAAAAAAAAAAAAAAAAAAAAAAAAAAAAAAAAAAAAAAAAAAAAAAAAAAAAAAAAAAAAAAAAAAAAAAAAAAAAAAAAAAAAAAAAAAAAAAAAAAAAAAAAAAAAAAAAAAAAAAAAAAAAAAAAAAAAAAAAAAAAAAAAAAAAAAAAAAAAAAAAAAAAAAAAAAAAAAAAAAAAAAAAAAAAAAAAAAAAAAAAAAAAAAAAAAAAAAAAAAAAAAAAAAAAAAAAAAAAAAAAAAAAAAAAAAAAAAAAAAAAAAAAAAAAAAAAAAAAAAAAAAAAAAAAAAAAAAAAAAAAAAAAAAAAAAAAAAAAAAAAAAAAAAAAAAAAAAAAAAAAAAAAAAAAAAAAAAAAAAACyeMxMt02jP+wrysfPo7c/vw2X9GHQwj+JBUkF3M7JP6p+/QqrZtA/jnpWE+jl0z9ydq8bJWXXP1hyCCRi5No/PG5hLJ9j3j8RNV0abvHgPwOziZ4MseI/9TC2Iqtw5D91OD8K3nXlP+p82aZTYOM/XsFzQ8lK4T+nCxzAfWreP4+UUPloP9o/eh2FMlQU1j9iprlrP+nRP5Ze3ElVfMs/aHBFvCsmwz92BF1dBKC1P2igvAjFzpM/vGGcINKqoz9wILIxXdK3PwIIi6mo58I/yv88uiLmyT/Ke3dlTnLQP6930G2L8dM/lHMpdshw1z94b4J+BfDaP15r24ZCb94/oTOaxz/34D+UscZL3rbiP4Yv8898duQ/jN6lvbpY5T8DaqHy0dXiP3r1nCfpUuA/4gExuQCg2z/RGCgjL5rWP8AvH41dlNE/Wo0s7hcdyT9sdjWE6SK+P0ikI1hGF6Q/AAAAAAAAAAAAAAAAAAAAAAAAAAAAAAAAAAAAAAAAAAAAAAAAAAAAAAAAAAAAAAAAAAAAAAAAAAAAAAAAAAAAAAAAAAAAAAAAAAAAAAAAAAAAAAAAAAAAAAAAAAAAAAAAAAAAAAAAAAAAAAAAAAAAAAAAAAAAAAAAAAAAAAAAAAAAAAAAAAAAAAAAAAAAAAAAAAAAAAAAAAAAAAAAAAAAANe4/fsHNY0/rqbjIJWjsT9OFieKUK/AP76vJcG7F8o/+Q+ssN/20T/zn5C5tffWPxCY02obA9w/wi581SyK4D8WH8k/kxTjP1vTfYsioOU/OANN4n0s6D8SwPZca7nqPwMKqQnFRu0/5EBWzR5B7D9RX5OKpLzqP4iI6NLReug/omMd2wHb5j9VJix0PdvlP1UmLHQ92+U/VSYsdD3b5T9VJix0PdvlP1UmLHQ92+U/VSYsdD3b5T9VJix0PdvlP+n7otXatuU/1rb5aCfE4T+G46D456LbP2BZTh+BvdM/cp73izSwxz+XKEplm5WvPwAAAAAAAAAAAAAAAAAAAAAAAAAAAAAAAAAAAAAAAAAAAAAAAAAAAAAAAAAAAAAAAAAAAAAAAAAAAAAAAAAAAAAAAAAAAAAAAAAAAAAAAAAAAAAAAAAAAAAAAAAAAAAAAAAAAAAAAAAAAAAAAAAAAAAAAAAAAAAAAAAAAAAAAAAAAAAAAAAAAAAAAAAAAAAAAAAAAAAAAAAAAAAAAAAAAAAAAAAAAAAAAAAAAAAAAAAAAAAAAAAAAAAAAAAAAAAAAAAAAAAAAAAAAAAAAAAAAAAAAAAAAAAAAAAAAAAAAAAAAAAAAAAAAAAAAAAAAAAAAAAAAAAAAAAAAAAAAAAAAAAAAAAAAAAAAAAAAAAAAAAAAAAAAAAAAAAAAAAAAAAAAAAAAAAAAAAAAAAAAAAAAAAAAAAAAAAAAAAAAAAAAAAAAAAAAAAAAAAAAAAAAAAAAAAAAAAAAAAAAAAAAAAAAAAAAAAAAAAAAAAAAAAAAAAAAAAAAAAAAAAAAAAAAAAAAAAAAAAAAAAAAAAAAAAAAAAAAAAAAAAAAAAAAAAAAAAAAAAAAAAAAAAAAAAAAAAAAAAAAAAAAAAAAAAAAAAAAAAAAAAAAAAAAAAAAAAAAAAAAAAAAAAAAAAAAAAAAAAAAAAAAAAAAAAAAAAAAAAAAAAAAAAAAAAAAAAAAAAAAAAAAAAAAAAAAAAAAAAAAAAAAAAAAAAAAAAAAAAAAAAAAAAAAAAAAAAAAAAAAAAAAAAAAAAAAAAAAAAAAAAAAAAAAAAAAAAAAAAAAAAAAAAAAAAAAAAAAAAAAAAAAAAAAAAAAAAAAAAAAAAAAAAAAAAAAAAAAAAAAAAAAAAAAAAAAAAAAAAAAAAAAAAAAAAAAAAAAAAAAAAAAAAAAAAAAAAAAAAAAAAAAAAAAAAAAAAAAAAAAAAAAAAAAAAAAAAAAAAAAAAAAAAAAAAAAAAAAAAAAAAAAAAAAAAAAAAAAAAAAAAAAAAAAAAAAAAAAAAAAAAAAAAAAAAAAAAAAAAAAAAAAAAAAAAAAAAAAAAAAAAAAAAAAAAAAAAAAAAAAAAAAAAAAAAAAAAAAAAAAAAAAAAAAJDQU/2veJM/t+O4ICDbsj+laQ4hCmzAP25hwDGEasc/N1lyQv5ozj+BKJIpvLPSP2Yk6zH5MtY/SiBEOjay2T8wHJ1CczHdPwoMeyVYWOA//ImnqfYX4j/uB9QtldfjP+CFALIzl+U/SmVIXrgQ5D+UdeJGA/ThP7oL+V6crt8/SywtMDJ12z/eTGEByDvXP3BtldJdAtM/AhyTR+eRzT8mXfvpEh/FP5Q8xxh9WLk/uH0vu6jloD8AAAAAAAAAAAAAAAAAAAAAAAAAAAAAAAAAAAAAAAAAAAAAAAAAAAAAAAAAAAAAAAAAAAAAAAAAAAAAAAAAAAAAAAAAAAAAAAAAAAAAAAAAAAAAAAAAAAAAAAAAAAAAAAAAAAAAAAAAAAAAAAAAAAAAAAAAAAAAAAAAAAAAAAAAAAAAAAAAAAAAAAAAAAAAAAAAAAAAAAAAAAAAAAAAAAAAAAAAAAAAAAAAAAAAAAAAAAAAAAAAAAAAAAAAAAAAAAAAAAAAAAAAAAAAAAAAAAAAAAAAAAAAAAAAAAAAAAAAAAAAAAAAAAAAAAAAAAAAAAAAAAAAAAAAAAAAAAAAAAAAAAAAAAAAAAAAAAAAAAAAAAAAAAAAAAAAAAAAAAAAAAAAAAAAAAAAAAAAAAAAAAAAAAAAAAAAAAAAAAAAAAAAAAAAAAAAAAAAAAAAAAAAAAAAAAAAAAAAAAAAAAAAAAAAAAAAAAAAAAAAAAAAAAAAAAAAAAAAAAAAAAAAAAAAAAAAAAAAAAAAAAAAAAAAAAAAAAAAAAAAAAAAAAAAAAAAAAAAAAAAAAAAAAAAAAAAAAAAAAAAAAAAAAAAAAAAAAAAAAAAAAAAAAAAAAAAAAAAAAAAAAAAAAAAAAAAAAAAAAAAAAAAAAAAAAAAAAAAAAAAAAAAAAAAAAAAAAAAAAAAAAAAAAAAAAAAAAAAAAAAAAAAAAAAAAAAAAAAAAAAAAAAAAAAAAAAAAAAAAAAAAAAAAAAAAAAAAAAAAAAAAAAAAAAAAAAAAAAAAAAAAAAAAAAAAAAAAAAAAAAAAAAAAAAAAAAAAAAAAAAAAAAAAAAAAAAAAAAAAAAAAAAAAAAAAAAAAAAAAAAAAAAAAAAAAAAAAAAAAAAAAAAAAAAAAAAAAAAAAAAAAAAAAAAAAAAAAAAAAAAAAAAAAAAAAAAAAAAAA==\",\"dtype\":\"float64\",\"shape\":[1202]}}},\"id\":\"b0e8f357-d590-4a2b-b8ed-d5d7eed215c9\",\"type\":\"ColumnDataSource\"},{\"attributes\":{\"axis_label\":\"T\",\"formatter\":{\"id\":\"e657a8c6-5f52-4c2a-8710-66b4b017ab54\",\"type\":\"BasicTickFormatter\"},\"plot\":{\"id\":\"b06289b8-b774-4a8b-b282-5e69357b878a\",\"subtype\":\"Figure\",\"type\":\"Plot\"},\"ticker\":{\"id\":\"0b7ebbf1-c9dc-4788-ad7a-cb1379c8244b\",\"type\":\"BasicTicker\"}},\"id\":\"04df0541-3a0d-41a1-85b7-eb953a05a2f2\",\"type\":\"LinearAxis\"},{\"attributes\":{\"fill_alpha\":{\"value\":0.1},\"fill_color\":{\"value\":\"#1f77b4\"},\"line_alpha\":{\"value\":0.1},\"line_color\":{\"value\":\"#1f77b4\"},\"x\":{\"field\":\"x\"},\"y\":{\"field\":\"y\"}},\"id\":\"e7260f56-8deb-4f8b-a22f-1e929db18670\",\"type\":\"Patch\"},{\"attributes\":{\"use_scientific\":false},\"id\":\"e657a8c6-5f52-4c2a-8710-66b4b017ab54\",\"type\":\"BasicTickFormatter\"},{\"attributes\":{\"label\":{\"value\":\"Beta 0.001\"},\"renderers\":[{\"id\":\"819e8ed9-147d-4549-afc0-937a514e3094\",\"type\":\"GlyphRenderer\"}]},\"id\":\"868cfd82-a90e-4d05-8ea6-558f6aa18887\",\"type\":\"LegendItem\"},{\"attributes\":{},\"id\":\"942375d1-5af6-48d1-8fab-bc03b97feb87\",\"type\":\"BasicTicker\"},{\"attributes\":{\"line_color\":{\"value\":\"#4daf4a\"},\"line_width\":{\"value\":2},\"x\":{\"field\":\"x\"},\"y\":{\"field\":\"y\"}},\"id\":\"a9c109cc-a2c3-4053-ae00-826bad751cc8\",\"type\":\"Line\"},{\"attributes\":{\"plot\":{\"id\":\"b06289b8-b774-4a8b-b282-5e69357b878a\",\"subtype\":\"Figure\",\"type\":\"Plot\"}},\"id\":\"d33bc557-e8ff-472f-941b-d44123edb7b9\",\"type\":\"PanTool\"},{\"attributes\":{\"fill_alpha\":{\"value\":0.1},\"fill_color\":{\"value\":\"#4daf4a\"},\"line_alpha\":{\"value\":0.1},\"line_color\":{\"value\":\"#4daf4a\"},\"x\":{\"field\":\"x\"},\"y\":{\"field\":\"y\"}},\"id\":\"85d313a7-2a50-4177-b855-d63fcb8b06a1\",\"type\":\"Patch\"},{\"attributes\":{},\"id\":\"0b7ebbf1-c9dc-4788-ad7a-cb1379c8244b\",\"type\":\"BasicTicker\"},{\"attributes\":{\"plot\":{\"id\":\"b06289b8-b774-4a8b-b282-5e69357b878a\",\"subtype\":\"Figure\",\"type\":\"Plot\"}},\"id\":\"9a6f7427-ef41-4f60-8d12-373291b2a85b\",\"type\":\"HelpTool\"},{\"attributes\":{\"callback\":null,\"column_names\":[\"x\",\"y\"],\"data\":{\"x\":[0,1000,2000,3000,4000,5000,6000,7000,8000,9000,10000,11000,12000,13000,14000,15000,16000,17000,18000,19000,20000,21000,22000,23000,24000,25000,26000,27000,28000,29000,30000,31000,32000,33000,34000,35000,36000,37000,38000,39000,40000,41000,42000,43000,44000,45000,46000,47000,48000,49000,50000,51000,52000,53000,54000,55000,56000,57000,58000,59000,60000,61000,62000,63000,64000,65000,66000,67000,68000,69000,70000,71000,72000,73000,74000,75000,76000,77000,78000,79000,80000,81000,82000,83000,84000,85000,86000,87000,88000,89000,90000,91000,92000,93000,94000,95000,96000,97000,98000,99000,100000,101000,102000,103000,104000,105000,106000,107000,108000,109000,110000,111000,112000,113000,114000,115000,116000,117000,118000,119000,120000,121000,122000,123000,124000,125000,126000,127000,128000,129000,130000,131000,132000,133000,134000,135000,136000,137000,138000,139000,140000,141000,142000,143000,144000,145000,146000,147000,148000,149000,150000,151000,152000,153000,154000,155000,156000,157000,158000,159000,160000,161000,162000,163000,164000,165000,166000,167000,168000,169000,170000,171000,172000,173000,174000,175000,176000,177000,178000,179000,180000,181000,182000,183000,184000,185000,186000,187000,188000,189000,190000,191000,192000,193000,194000,195000,196000,197000,198000,199000,200000,201000,202000,203000,204000,205000,206000,207000,208000,209000,210000,211000,212000,213000,214000,215000,216000,217000,218000,219000,220000,221000,222000,223000,224000,225000,226000,227000,228000,229000,230000,231000,232000,233000,234000,235000,236000,237000,238000,239000,240000,241000,242000,243000,244000,245000,246000,247000,248000,249000,250000,251000,252000,253000,254000,255000,256000,257000,258000,259000,260000,261000,262000,263000,264000,265000,266000,267000,268000,269000,270000,271000,272000,273000,274000,275000,276000,277000,278000,279000,280000,281000,282000,283000,284000,285000,286000,287000,288000,289000,290000,291000,292000,293000,294000,295000,296000,297000,298000,299000,300000,301000,302000,303000,304000,305000,306000,307000,308000,309000,310000,311000,312000,313000,314000,315000,316000,317000,318000,319000,320000,321000,322000,323000,324000,325000,326000,327000,328000,329000,330000,331000,332000,333000,334000,335000,336000,337000,338000,339000,340000,341000,342000,343000,344000,345000,346000,347000,348000,349000,350000,351000,352000,353000,354000,355000,356000,357000,358000,359000,360000,361000,362000,363000,364000,365000,366000,367000,368000,369000,370000,371000,372000,373000,374000,375000,376000,377000,378000,379000,380000,381000,382000,383000,384000,385000,386000,387000,388000,389000,390000,391000,392000,393000,394000,395000,396000,397000,398000,399000,400000,401000,402000,403000,404000,405000,406000,407000,408000,409000,410000,411000,412000,413000,414000,415000,416000,417000,418000,419000,420000,421000,422000,423000,424000,425000,426000,427000,428000,429000,430000,431000,432000,433000,434000,435000,436000,437000,438000,439000,440000,441000,442000,443000,444000,445000,446000,447000,448000,449000,450000,451000,452000,453000,454000,455000,456000,457000,458000,459000,460000,461000,462000,463000,464000,465000,466000,467000,468000,469000,470000,471000,472000,473000,474000,475000,476000,477000,478000,479000,480000,481000,482000,483000,484000,485000,486000,487000,488000,489000,490000,491000,492000,493000,494000,495000,496000,497000,498000,499000,500000,501000,502000,503000,504000,505000,506000,507000,508000,509000,510000,511000,512000,513000,514000,515000,516000,517000,518000,519000,520000,521000,522000,523000,524000,525000,526000,527000,528000,529000,530000,531000,532000,533000,534000,535000,536000,537000,538000,539000,540000,541000,542000,543000,544000,545000,546000,547000,548000,549000,550000,551000,552000,553000,554000,555000,556000,557000,558000,559000,560000,561000,562000,563000,564000,565000,566000,567000,568000,569000,570000,571000,572000,573000,574000,575000,576000,577000,578000,579000,580000,581000,582000,583000,584000,585000,586000,587000,588000,589000,590000,591000,592000,593000,594000,595000,596000,597000,598000,599000,600000,600000,599000,598000,597000,596000,595000,594000,593000,592000,591000,590000,589000,588000,587000,586000,585000,584000,583000,582000,581000,580000,579000,578000,577000,576000,575000,574000,573000,572000,571000,570000,569000,568000,567000,566000,565000,564000,563000,562000,561000,560000,559000,558000,557000,556000,555000,554000,553000,552000,551000,550000,549000,548000,547000,546000,545000,544000,543000,542000,541000,540000,539000,538000,537000,536000,535000,534000,533000,532000,531000,530000,529000,528000,527000,526000,525000,524000,523000,522000,521000,520000,519000,518000,517000,516000,515000,514000,513000,512000,511000,510000,509000,508000,507000,506000,505000,504000,503000,502000,501000,500000,499000,498000,497000,496000,495000,494000,493000,492000,491000,490000,489000,488000,487000,486000,485000,484000,483000,482000,481000,480000,479000,478000,477000,476000,475000,474000,473000,472000,471000,470000,469000,468000,467000,466000,465000,464000,463000,462000,461000,460000,459000,458000,457000,456000,455000,454000,453000,452000,451000,450000,449000,448000,447000,446000,445000,444000,443000,442000,441000,440000,439000,438000,437000,436000,435000,434000,433000,432000,431000,430000,429000,428000,427000,426000,425000,424000,423000,422000,421000,420000,419000,418000,417000,416000,415000,414000,413000,412000,411000,410000,409000,408000,407000,406000,405000,404000,403000,402000,401000,400000,399000,398000,397000,396000,395000,394000,393000,392000,391000,390000,389000,388000,387000,386000,385000,384000,383000,382000,381000,380000,379000,378000,377000,376000,375000,374000,373000,372000,371000,370000,369000,368000,367000,366000,365000,364000,363000,362000,361000,360000,359000,358000,357000,356000,355000,354000,353000,352000,351000,350000,349000,348000,347000,346000,345000,344000,343000,342000,341000,340000,339000,338000,337000,336000,335000,334000,333000,332000,331000,330000,329000,328000,327000,326000,325000,324000,323000,322000,321000,320000,319000,318000,317000,316000,315000,314000,313000,312000,311000,310000,309000,308000,307000,306000,305000,304000,303000,302000,301000,300000,299000,298000,297000,296000,295000,294000,293000,292000,291000,290000,289000,288000,287000,286000,285000,284000,283000,282000,281000,280000,279000,278000,277000,276000,275000,274000,273000,272000,271000,270000,269000,268000,267000,266000,265000,264000,263000,262000,261000,260000,259000,258000,257000,256000,255000,254000,253000,252000,251000,250000,249000,248000,247000,246000,245000,244000,243000,242000,241000,240000,239000,238000,237000,236000,235000,234000,233000,232000,231000,230000,229000,228000,227000,226000,225000,224000,223000,222000,221000,220000,219000,218000,217000,216000,215000,214000,213000,212000,211000,210000,209000,208000,207000,206000,205000,204000,203000,202000,201000,200000,199000,198000,197000,196000,195000,194000,193000,192000,191000,190000,189000,188000,187000,186000,185000,184000,183000,182000,181000,180000,179000,178000,177000,176000,175000,174000,173000,172000,171000,170000,169000,168000,167000,166000,165000,164000,163000,162000,161000,160000,159000,158000,157000,156000,155000,154000,153000,152000,151000,150000,149000,148000,147000,146000,145000,144000,143000,142000,141000,140000,139000,138000,137000,136000,135000,134000,133000,132000,131000,130000,129000,128000,127000,126000,125000,124000,123000,122000,121000,120000,119000,118000,117000,116000,115000,114000,113000,112000,111000,110000,109000,108000,107000,106000,105000,104000,103000,102000,101000,100000,99000,98000,97000,96000,95000,94000,93000,92000,91000,90000,89000,88000,87000,86000,85000,84000,83000,82000,81000,80000,79000,78000,77000,76000,75000,74000,73000,72000,71000,70000,69000,68000,67000,66000,65000,64000,63000,62000,61000,60000,59000,58000,57000,56000,55000,54000,53000,52000,51000,50000,49000,48000,47000,46000,45000,44000,43000,42000,41000,40000,39000,38000,37000,36000,35000,34000,33000,32000,31000,30000,29000,28000,27000,26000,25000,24000,23000,22000,21000,20000,19000,18000,17000,16000,15000,14000,13000,12000,11000,10000,9000,8000,7000,6000,5000,4000,3000,2000,1000,0],\"y\":{\"__ndarray__\":\"AAAAAAAAAAAAAAAAAAAAAAAAAAAAAAAAAAAAAAAAAAAAAAAAAAAAAAAAAAAAAAAAAAAAAAAAAAAAAAAAAAAAAAAAAAAAAAAAAAAAAAAAAAAAAAAAAAAAAAAAAAAAAAAAAAAAAAAAAAAAAAAAAAAAAAAAAAAAAAAAAAAAAAAAAAAAAAAAAAAAAAAAAAAAAAAAAAAAAAAAAAAAAAAAAAAAAAAAAAAAAAAAAAAAAAAAAAAAAAAAAAAAAAAAAAAAAAAAAAAAAAAAAAAAAAAAAAAAAAAAAAAAAAAAAAAAAAAAAAAAAAAAAAAAAAAAAAAAAAAAAAAAAAAAAAAAAAAAAAAAAAAAAAAAAAAAAAAAAAAAAAAAAAAAAAAAAAAAAAAAAAAAAAAAAAAAAAAAAAAAAAAAAAAAAAAAAAAAAAAAAAAAAAAAAAAAAAAAAAAAAAAAAAAAAAAAAAAAAAAAAAAAAAAAAAAAAAAAAAAAAAAAAAAAAAAAAAAAAAAAAAAAAAAAAAAAAAAAAAAAAAAAAAAAAAAAAAAAAAAAAAAAAAAAAAAAAAAAAAAAAAAAAAAAAAAAAAAAAAAAAAAAAAAAAAAAAAAAAAAAAAAAAAAAAAAAAAAAAAAAAAAAAAAAAAAAAAAAAAAAAAAAAAAAAAAAAAAAAAAAAAAAAAAAAAAAAAAAAAAAAAAAAAAAAAAAAAAAAAAAAAAAAAAAAAAAAAAAAAAAAAAAAAAAAAAAAAAAAAAAAAAAAAAAAAAAAAAAAAAAAAAAAAAAAAAAAAAAAAAAAAAAAAAAAAAAAAAAAAAAAAAAAAAAAAAAAAAAAAAAAAAAAAAAAAAAAAAAAAAAAAAAAAAAAAAAAAAAAAAAAAAAAAAAAAAAAAAAAAAAAAAAAAAAAAAAAAAAAAAAAAAAAAAAAAAAAAAAAAAAAAAAAAAAAAAAAAAAAAAAAAAAAAAAAAAAAAAAAAAAAAAAAAAAAAAAAAAAAAAAAAAAAAAAAAAAAAAAAAAAAAAAAAAAAAAAAAAAAAAAAAAAAAAAAAAAAAAAAAAAAAAAAAAAAAAAAAAAAAAAAAAAAAAAAAAAAAAAAAAAAAAAAAAAAAAAAAAAAAAAAAAAAAAAAAAAAAAAAAAAAAAAAAAAAAAAAAAAAAAAAAAAAAAAAAAAAAAAAAAAAAAAAAAAAAAAAAAAAAAAAAAAAAAAAAAAAAAAAAAAAAAAAAAAAAAAAAAAAAAAAAAAAAAAAAAAAAAAAAAAAAAAAAAAAAAAAAAAAAAAAAAAAAAAAAAAAAAAAAAAAAAAAAAAAAAAAAAAAAAAAAAAAAAAAAAAAAAAAAAAAAAAAAAAAAAAAAAAAAAAAAAAAAAAAAAAAAAAAAAAAAAAAAAAAAAAAAAAAAAAAAAAAAAAAAAAAAAAAAAAAAAAAAAAAAAAAAAAAAAAAAAAAAAAAAAAAAAAAAAAAAAAAAAAAAAAAAAAAAAAAAAAAAAAAAAAAAAAAAAAAAAAAAAAAAAAAAAAAAAAAAAAAAAAAAAAAAAAAAAAAAAAAAAAAAAAAAAAAAAAAAAAAAAAAAAAAAAAAAAAAAAAAAAAAAAAAAAAAAAAAAAAAAAAAAAAAAAAAAAAAAAAAAAAAAAAAAAAAAAAAAAAAAAAAAAAAAAAAAAAAAAAAAAAAAAAAAAAAAAAAAAAAAAAAAAAAAAAAAAAAAAAAAAAAAAAAAAAAAAAAAAAAAAAAAAAAAAAAAAAAAAAAAAAAAAAAAAAAAAAAAAAAAAAAAAAAAAAAAAAAAAAAAAAAAAAAAAAAAAAAAAAAAAAAAAAAAAAAAAAAAAAAAAAAAAAAAAAAAAAAAAAAAAAAAAAAAAAAAAAAAAAAAAAAAAAAAAAAAAAAAAAAAAAAAAAAAAAAAAAAAAAAAAAAAAAAAAAAAAAAAAAAAAAAAAAAAAAAAAAAAAAAAAAAAAAAAAAAAAAAAAAAAAAAAAAAAAAAAAAAAAAAAAAAAAAAAAAAAAAAAAAAAAAAAAAAAAAAAAAAAAAAAAAAAAAAAAAAAAAAAAAAAAAAAAAAAAAAAAAAAAAAAAAAAAAAAAAAAAAAAAAAAAAAAAAAAAAAAAAAAAAAAAAAAAAAAAAAAAAAAAAAAAAAAAAAAAAAAAAAAAAAAAAAAAAAAAAAAAAAAAAavGKpd72kL9q8Yql3vagvyBqUPhNcqm/avGKpd72sL/Ere1OljS1vyBqUPhNcrm/eiazoQWwvb9q8Yql3vbAv5ZPPHq6FcO/xK3tTpY0xb/yC58jclPHvw9sBoHAo8W/bOqpujHLwb9y5x/RSaS4v/ReXxkR7q2/gJ/G51CNnL9gh0rvrYh+vwAApi+AJtC+YOfNe/Dhe78485OsOlWbv2z2I0U+Ha2/Kvg2CHMpuL+SDfp8a4fBv3pAPhcWjsW/VZmw0PVsx79UmbDQ9WzHv1SZsND1bMe/VJmw0PVsx79UmbDQ9WzHv1SZsND1bMe/VJmw0PVsx79UmbDQ9WzHv1SZsND1bMe/VJmw0PVsx79UmbDQ9WzHv1SZsND1bMe/4AD1mNC0wr+wF4S6D6C8v0xEm2UxDbW/OJLlqUFzrb8wVhpiskWjvwClqGOL7pa/wGC7sINxh79AXFTyHPNxvwAqpo+BfEi/AAAAAAAAAAAAAAAAAAAAAAAAAAAAAAAAAAAAAAAAAAAAAAAAAAAAAAAAAAAAAAAAAAAAAAAAAAAAAAAAAAAAAAAAAAAAAAAAAAAAAAAAAAAAAAAAAAAAAAAAAAAAAAAAAAAAAAAAAAAAAAAAAAAAAAAAAAAAAAAAAAAAAAAAAAAAAAAAAAAAAAAAAAAAAAAAAAAAAAAAAAAAAAAAAAAAAAAAAAAAAAAAAAAAAAAAAAAAAAAAAAAAAAAAAAAAAJA8AAAAAAAAAAAAAAAAAACQPAAAAAAAAAAAAAAAAAAAkDwAAAAAAAAAAAAAAAAAAAAAAAAAAAAAAAAAAAAAAACQPAAAAAAAAAAAAAAAAAAAAAAAAAAAAAAAAAAAAAAAAJA8AAAAAAAAkDwAAAAAAACQPAAAAAAAAAAAAAAAAAAAkDwAAAAAAAAAAAAAAAAAAJA8AAAAAAAAAAAAAAAAAAAAAAAAAAAAAAAAAAAAAAAAAAAAAAAAAACQPAAAAAAAAJA8AAAAAAAAkDwAAAAAAAAAAAAAAAAAAAAAAAAAAAAAAAAAAAAAAAAAAAAAAAAAAAAAAAAAAAAAAAAAAAAAAAAAAAAAAAAAAAAAAAAAAAAAAAAAAAAAAAAAAAAAAAAAAAAAAAAAAAAAAAAAAAAAAAAAAAAAAAAAAAAAAAAAAAAAAAAAAAAAAAAAAAAAAAAAAJA8AAAAAAAAAAAAAAAAAACQPAAAAAAAAAAAAAAAAAAAAAAAAAAAAAAAAAAAAAAAAAAAAAAAAAAAAAAAAAAAAAAAAAAAAAAAAAAAAAAAAAAAAAAAAAAAAAAAAAAAAAAAAAAAAAAAAAAAAAAAAAAAAAAAAGDHbEEJQKQ/bNgk2I7Hsz+UNAdLeui8P2TC4uAzusI/9q1dNreuxj+Yp4UTfUvKP4rSusJgi80/o1rUBGw10D/OgptQJnTRP7ftJFojgtI/RMCeO69g0z8D7bIh/BHUP308myAd69M/gcqCcDMx0z9VGLbEXUrSPz/d1QypNNE/aFEiCRHezz9mQxLs4fLMP8qmQsizqck/IN45rkgGxj+U704I2g3CP6yEIkJNjbs/NMRUz/xusj9wgAdCbp2hPwAAAAAAAAAAAAAAAAAAAAAAAAAAAAAAAAAAAAAAAAAAAAAAAAAAAAAAAAAAAAAAAAAAAAAAAJA8AAAAAAAAAAAAAAAAAAAAAAAAAAAAAAAAAAAAAAAAAAAAAAAAAACQPAAAAAAAAJA8AAAAAAAAAAAAAAAAAAAAAAAAAAAAAJA8AAAAAAAAAAAAAAAAAAAAAAAAAAAAAAAAAAAAAAAAAAAAAAAAAAAAAAAAAAAAAAAAAAAAAAAAAAAAAAAAAAAAAAAAAAAAAAAAALFIzkk6dT/4IetsIoWnP8gXBBhlrbU/ZMxul0EEvz9SnV/ElNvDP7JpTotx28c/pL5NVgZ7yz8E5SY/IrXOPwyCXydMw9A/ka9U+Ev30T+NXSNMYvfSP8a5ukyDxdM/VrOnF4VJ1D9Ws6cXhUnUP1azpxeFSdQ/VrOnF4VJ1D9Ws6cXhUnUP1azpxeFSdQ/VrOnF4VJ1D9Ws6cXhUnUP1azpxeFSdQ/VrOnF4VJ1D9Ws6cXhUnUP1azpxeFSdQ/VrOnF4VJ1D9Ws6cXhUnUP1azpxeFSdQ/VbOnF4VJ1D9Ws6cXhUnUP1azpxeFSdQ/VrOnF4VJ1D9Ws6cXhUnUP1azpxeFSdQ/VrOnF4VJ1D9Ws6cXhUnUP1azpxeFSdQ/VrOnF4VJ1D9Ws6cXhUnUP1azpxeFSdQ/VrOnF4VJ1D9Ws6cXhUnUP1azpxeFSdQ/VrOnF4VJ1D9Ws6cXhUnUP1azpxeFSdQ/VrOnF4VJ1D9Ws6cXhUnUP1azpxeFSdQ/VrOnF4VJ1D9Ws6cXhUnUP1azpxeFSdQ/VrOnF4VJ1D9Ws6cXhUnUP1azpxeFSdQ/VrOnF4VJ1D9Ws6cXhUnUP1azpxeFSdQ/VrOnF4VJ1D9Ws6cXhUnUP1azpxeFSdQ/VrOnF4VJ1D9Ws6cXhUnUP1azpxeFSdQ/VrOnF4VJ1D9Ws6cXhUnUP1azpxeFSdQ/VrOnF4VJ1D9Ws6cXhUnUP1azpxeFSdQ/VrOnF4VJ1D9Ws6cXhUnUP1azpxeFSdQ/VrOnF4VJ1D9Ws6cXhUnUP1azpxeFSdQ/VrOnF4VJ1D9Ws6cXhUnUP1azpxeFSdQ/VrOnF4VJ1D9Ws6cXhUnUP1azpxeFSdQ/VrOnF4VJ1D9Ws6cXhUnUP1azpxeFSdQ/VrOnF4VJ1D9Ws6cXhUnUP1azpxeFSdQ/VrOnF4VJ1D9Ws6cXhUnUP1azpxeFSdQ/VrOnF4VJ1D9Ws6cXhUnUP1azpxeFSdQ/VrOnF4VJ1D9Ws6cXhUnUP1azpxeFSdQ/VrOnF4VJ1D9Ws6cXhUnUP1azpxeFSdQ/VrOnF4VJ1D9Ws6cXhUnUP1azpxeFSdQ/VrOnF4VJ1D9Ws6cXhUnUP1azpxeFSdQ/VrOnF4VJ1D9Ws6cXhUnUP1azpxeFSdQ/VrOnF4VJ1D9Ws6cXhUnUP1azpxeFSdQ/VrOnF4VJ1D9Ws6cXhUnUP1azpxeFSdQ/VrOnF4VJ1D9Ws6cXhUnUP1azpxeFSdQ/VrOnF4VJ1D9Ws6cXhUnUP1azpxeFSdQ/VrOnF4VJ1D9Ws6cXhUnUP1azpxeFSdQ/VrOnF4VJ1D9Ws6cXhUnUP1azpxeFSdQ/VrOnF4VJ1D9Ws6cXhUnUP1azpxeFSdQ/VrOnF4VJ1D9Ws6cXhUnUP1azpxeFSdQ/VrOnF4VJ1D9Ws6cXhUnUP1azpxeFSdQ/VrOnF4VJ1D9Ws6cXhUnUP1azpxeFSdQ/VrOnF4VJ1D9Ws6cXhUnUP1azpxeFSdQ/VrOnF4VJ1D9Ws6cXhUnUP1azpxeFSdQ/VrOnF4VJ1D9Ws6cXhUnUP1azpxeFSdQ/VrOnF4VJ1D9Ws6cXhUnUP1azpxeFSdQ/VrOnF4VJ1D9Ws6cXhUnUP1azpxeFSdQ/VrOnF4VJ1D9Ws6cXhUnUP1azpxeFSdQ/VrOnF4VJ1D9Ws6cXhUnUP1azpxeFSdQ/VrOnF4VJ1D9Ws6cXhUnUP1azpxeFSdQ/VrOnF4VJ1D9Ws6cXhUnUP1azpxeFSdQ/VrOnF4VJ1D9Ws6cXhUnUP1azpxeFSdQ/VrOnF4VJ1D9Ws6cXhUnUP1azpxeFSdQ/VrOnF4VJ1D9Ws6cXhUnUP1azpxeFSdQ/VrOnF4VJ1D9Ws6cXhUnUP1azpxeFSdQ/VrOnF4VJ1D9Ws6cXhUnUP1azpxeFSdQ/VrOnF4VJ1D9Ws6cXhUnUP1azpxeFSdQ/VrOnF4VJ1D9Ws6cXhUnUP1azpxeFSdQ/VrOnF4VJ1D9Ws6cXhUnUP1azpxeFSdQ/VrOnF4VJ1D9Ws6cXhUnUP1azpxeFSdQ/VrOnF4VJ1D9Ws6cXhUnUP1azpxeFSdQ/VrOnF4VJ1D9Ws6cXhUnUP1azpxeFSdQ/VrOnF4VJ1D9Ws6cXhUnUP1azpxeFSdQ/VrOnF4VJ1D9Ws6cXhUnUP1azpxeFSdQ/VrOnF4VJ1D9Ws6cXhUnUP1azpxeFSdQ/VrOnF4VJ1D9Ws6cXhUnUP1azpxeFSdQ/VrOnF4VJ1D9Ws6cXhUnUP1azpxeFSdQ/4Na+jEv31j/3He122FLcP4ayjbAy1+A/ENakJfmE4z+a+buavzLmPyUd0w+G4Og/sEDqhEyO6z87ZAH6EjzuP47qSaJcZ+8/nWwdHr6n7T+q7vCZH+jrP7hwxBWBKOo/xvKXkeJo6D84lp/6UwTxP+PHxsJbyPA/jvntimOM8D85KxVTa1DwP+NcPBtzFPA/9LMU7Ys88D9ifK5MbJjwP89ESKxM9PA/PQ3iCy1Q8T+r1XtrDazxPxieFcvtB/I/hmavKs5j8j/0LkmKrr/yPyoTFrqe7fI/KhMWup7t8j8qExa6nu3yPyoTFrqe7fI/KhMWup7t8j8qExa6nu3yPyoTFrqe7fI/KhMWup7t8j8qExa6nu3yPyoTFrqe7fI/KhMWup7t8j8qExa6nu3yPyoTFrqe7fI/KhMWup7t8j8qExa6nu3yPyoTFrqe7fI/KhMWup7t8j8qExa6nu3yPyoTFrqe7fI/KhMWup7t8j8qExa6nu3yPyoTFrqe7fI/KhMWup7t8j8qExa6nu3yPyoTFrqe7fI/KhMWup7t8j8qExa6nu3yPyoTFrqe7fI/KhMWup7t8j8qExa6nu3yPyoTFrqe7fI/KhMWup7t8j8qExa6nu3yPyoTFrqe7fI/KhMWup7t8j8qExa6nu3yPyoTFrqe7fI/KhMWup7t8j8qExa6nu3yPyoTFrqe7fI/KhMWup7t8j8qExa6nu3yPyoTFrqe7fI/KhMWup7t8j8qExa6nu3yPyoTFrqe7fI/KhMWup7t8j8qExa6nu3yPyoTFrqe7fI/KhMWup7t8j8qExa6nu3yPyoTFrqe7fI/KhMWup7t8j8qExa6nu3yPyoTFrqe7fI/KhMWup7t8j8qExa6nu3yPyoTFrqe7fI/KhMWup7t8j8qExa6nu3yPyoTFrqe7fI/KhMWup7t8j8qExa6nu3yPyoTFrqe7fI/KhMWup7t8j8qExa6nu3yPyoTFrqe7fI/KhMWup7t8j8qExa6nu3yPyoTFrqe7fI/KhMWup7t8j8qExa6nu3yPyoTFrqe7fI/KhMWup7t8j8qExa6nu3yPyoTFrqe7fI/KhMWup7t8j8qExa6nu3yPyoTFrqe7fI/KhMWup7t8j8qExa6nu3yPyoTFrqe7fI/KhMWup7t8j8qExa6nu3yPyoTFrqe7fI/KhMWup7t8j8qExa6nu3yPyoTFrqe7fI/KhMWup7t8j8qExa6nu3yPyoTFrqe7fI/KhMWup7t8j8qExa6nu3yPyoTFrqe7fI/KhMWup7t8j8qExa6nu3yPyoTFrqe7fI/KhMWup7t8j8qExa6nu3yPyoTFrqe7fI/KhMWup7t8j8qExa6nu3yPyoTFrqe7fI/KhMWup7t8j8qExa6nu3yPyoTFrqe7fI/KhMWup7t8j8qExa6nu3yPyoTFrqe7fI/KhMWup7t8j8qExa6nu3yPyoTFrqe7fI/KhMWup7t8j8qExa6nu3yPyoTFrqe7fI/KhMWup7t8j8qExa6nu3yPyoTFrqe7fI/KhMWup7t8j8qExa6nu3yPyoTFrqe7fI/KhMWup7t8j8qExa6nu3yPyoTFrqe7fI/KhMWup7t8j8qExa6nu3yPyoTFrqe7fI/KhMWup7t8j8qExa6nu3yPyoTFrqe7fI/KhMWup7t8j8qExa6nu3yPyoTFrqe7fI/KhMWup7t8j8qExa6nu3yPyoTFrqe7fI/KhMWup7t8j8qExa6nu3yPyoTFrqe7fI/KhMWup7t8j8qExa6nu3yPyoTFrqe7fI/KhMWup7t8j8qExa6nu3yPyoTFrqe7fI/KhMWup7t8j8qExa6nu3yPyoTFrqe7fI/KhMWup7t8j8qExa6nu3yPyoTFrqe7fI/KhMWup7t8j8qExa6nu3yPyoTFrqe7fI/KhMWup7t8j8qExa6nu3yPyoTFrqe7fI/KhMWup7t8j8qExa6nu3yPyoTFrqe7fI/KhMWup7t8j8qExa6nu3yPyoTFrqe7fI/KhMWup7t8j8qExa6nu3yPyoTFrqe7fI/KhMWup7t8j8qExa6nu3yPyoTFrqe7fI/KhMWup7t8j8qExa6nu3yPyoTFrqe7fI/KhMWup7t8j8qExa6nu3yPyoTFrqe7fI/KhMWup7t8j8qExa6nu3yPyoTFrqe7fI/KhMWup7t8j8qExa6nu3yPyoTFrqe7fI/KhMWup7t8j8qExa6nu3yPyoTFrqe7fI/KhMWup7t8j8rExa6nu3yPyoTFrqe7fI/KhMWup7t8j8qExa6nu3yPyoTFrqe7fI/KhMWup7t8j8qExa6nu3yPyoTFrqe7fI/KhMWup7t8j8qExa6nu3yPyoTFrqe7fI/KhMWup7t8j8qExa6nu3yPyoTFrqe7fI/KhMWup7t8j8qExa6nu3yP7xAbe7vg/I/jVEchtQL8j/ONplyNqDxP/C7X76SQfE/lPnb1x3w8D8iWICsvavwP4J8aZ0MdPA/0I/QjWRI8D920G5k7yfwP4C17oO5EfA/r9eQGcME8D/QIbM6DgDwPwAAAAAAAPA/AAAAAAAA8D8AAAAAAADwPwAAAAAAAPA/AAAAAAAA8D8AAAAAAADwPwAAAAAAAPA/AAAAAAAA8D8AAAAAAADwPwAAAAAAAPA/AAAAAAAA8D8AAAAAAADwPwAAAAAAAPA/AAAAAAAA8D8AAAAAAADwPwAAAAAAAPA/AAAAAAAA8D8AAAAAAADwPwAAAAAAAPA/AAAAAAAA8D8AAAAAAADwPwAAAAAAAPA/AAAAAAAA8D8AAAAAAADwPwAAAAAAAPA/UphQqJoC8D+3+KhXbQzwP1ONuVpfHvA/UEgP+E858D8iW48tGV7wP7Gyi9SCjfA/wC9PGjTI8D+knupApQ7xPyXiFikUYfE/BERcBX6/8T8diKaknynyP0Hc3UL8nvI/JwxVX0i98j8OnDRQIETyP2iV7f9H1vE/2nSq+Ut08T+cw/ZDfx7xP6sEL+Ty1PA/wS5wEXSX8D+ssm+EkWXwP9aUeaamPvA/kf4/Neoh8D8KqcijfQ7wPw4Vmv56A/A/AAAAAAAA8D8AAAAAAADwPwAAAAAAAPA/AAAAAAAA8D8AAAAAAADwPwAAAAAAAPA/AAAAAAAA8D8AAAAAAADwPwAAAAAAAPA/AAAAAAAA8D8AAAAAAADwPwAAAAAAAPA/AAAAAAAA8D8AAAAAAADwPwAAAAAAAPA/AAAAAAAA8D8AAAAAAADwPwAAAAAAAPA/AAAAAAAA8D8AAAAAAADwPwAAAAAAAPA/AAAAAAAA8D8AAAAAAADwPwAAAAAAAPA/AAAAAAAA8D8AAAAAAADwPwAAAAAAAPA/AAAAAAAA8D8AAAAAAADwPwAAAAAAAPA/AAAAAAAA8D8AAAAAAADwPwAAAAAAAPA/AAAAAAAA8D8AAAAAAADwPwAAAAAAAPA/AAAAAAAA8D8AAAAAAADwPwAAAAAAAPA/AAAAAAAA8D8AAAAAAADwPwAAAAAAAPA/AAAAAAAA8D8AAAAAAADwPwAAAAAAAPA/AAAAAAAA8D8AAAAAAADwPwAAAAAAAPA/AAAAAAAA8D8AAAAAAADwPwAAAAAAAPA/AAAAAAAA8D8AAAAAAADwPwAAAAAAAPA/AAAAAAAA8D8AAAAAAADwPwAAAAAAAPA/AAAAAAAA8D8AAAAAAADwPwAAAAAAAPA/AAAAAAAA8D8AAAAAAADwPwAAAAAAAPA/AAAAAAAA8D8AAAAAAADwPwAAAAAAAPA/AAAAAAAA8D8AAAAAAADwPwAAAAAAAPA/AAAAAAAA8D8AAAAAAADwPwAAAAAAAPA/AAAAAAAA8D8AAAAAAADwPwAAAAAAAPA/AAAAAAAA8D8AAAAAAADwPwAAAAAAAPA/AAAAAAAA8D8AAAAAAADwP2Zhr8Fez+4/NrnaVltG7T+hlmOncNnrP+aGaG9UjOo/wn8XtnBi6T8kzD4mf17oPyx0/rMmguc/NydG+rfN5j8afd2kH0DmP1UmLHQ92+U/VSYsdD3b5T9VJix0PdvlP1UmLHQ92+U/VSYsdD3b5T9VJix0PdvlP1UmLHQ92+U/VSYsdD3b5T9VJix0PdvlP1UmLHQ92+U/VSYsdD3b5T9VJix0PdvlPwxmWtFxHOQ/wF9WWUmG4j9zq5hujynhP8z3uwpP7N8/VpjUE+D93T/kcO5R+bfcPw9Jc91mSNw/qiOklV7C3D+oQ1cT9hDeP9lSfSfkAuA/6kmF43444T+ot4WrtJbiP71AF7GoMOQ/pCssUW/D5T8g+W3V8MjjP5zGr1lyzuE/Myjju+en3z8uw2bE6rLbPyde6sztvdc/IPlt1fDI0z8zKOO756fPPyde6sztvcc/Myjju+envz8zKOO756evPwAAAAAAAAAAAAAAAAAAAAAAAAAAAAAAAAAAAAAAAAAAAAAAAAAAAAAAAAAAAAAAAAAAAAAAAAAAAAAAAAAAAAAAAAAAAAAAAAAAAAAAAAAAAAAAAAAAAAAAAAAAAAAAAAAAAAAAAAAAAAAAAAAAAAAAAAAAAAAAAAAAAAAAAAAAAAAAAAAAAAAAAAAAAAAAAAAAAAAAAAAAAAAAAAAAAAAAAAAAAAAAAAAAAAAAAAAAAAAAAAAAAAAAAAAAAAAAAAAAAAAAAAAAAAAAAAAAAAAAAAAAAAAAAAAAAAAAAAAAAAAAAAAAAAAAAAAAAAAAAAAAAAAAAAAAAAAAAAAAAAAAAAAAAAAAAAAAAAAAAAAAAAAAAAAAAAAAAAAAAAAAAAAAAAAAAAAAAAAAAAAAAAAAAAAAAAAAAAAAAAAAAAAAAAAAAAAAAAAAAAAAAAAAAAAAAAAAAAAAAAAAAAAAAAAAAAAAAAAAAAAAAAAAAAAAAAAAAAAAAAAAAAAAAAAAAAAAAAAAAAAAAAAAAAAAAAAAAAAAAAAAAAAAAAAAAAAAAAAAAAAAAAAAAAAAAAAAAAAAAAAAAAAAAAAAAAAAAAAAAAAAAAAAAAAAAAAAAAAAAAAAAAAAAAAAAAAAAAAAAAAAAAAAAAAAAAAAAAAAAAAAAAAAAAAAAAAAAAAAAAAAAAAAAAAAAAAAAAAAAAAAAAAAAAAAAAAAAAAAAAAAAAAAAAAAAAAAAAAAAAAAAAAAAAAAAAAAAAAAAAAAAAAAAAAAAAAAAAAAAAAAAAAAAAAAAAAAAAAAAAAAAAAAAAAAAAAAAAAAAAAAAAAAAAAAAAAAAAAAAAAAAAAAAAAAAAAAAAAAAAAAAAAAAAAAAAAAAAAAAAAAAAAAAAAAAAAAAAAAAAAAAAAAAAAAAAAAAAAAAAAAAAAAAAAAAAAAAAAAAAAAAAAAAAAAAAAAAAAAAAAAAAAAAAAAAAAAAAAAAAAAAAAAAAAAAAAAAAAAAAAAAAAAAAAAAAAAAAAAAAAAAAAAAAAAAAAAAAAAAAAAAAAAAAAAAAAAAAAAAAAAAAAAAAAAAAAAAAAAAAAAAAAAAAAAAAAAAAAAAAAAAAAAAAAAAAAAAAAAAAAAAAAAAAAAAAAAAAAAAAAAAAAAAAAAAAAAAAAAAAAAAAAAAAAAAAAAAAAAAAAAAAAAAAAAAAAAAAAAAAAAAAAAAAAAAAAAAAAAAAAAAAAAAAAAAAAAAAAAAAAAAAAAAAAAAAAAAAAAAAAAAAAAAAAAAAAAAAAAAAAAAAAAAAAAAAAAAAAAAAAAAAAAAAAAAAAAAAAAAAAAAAAAAAAAAAAAAAAAAAAAAAAAAAAAAAAAAAAAAAAAAAAAAAAAAAAAAAAAAAAAAAAAAAAAAAAAAAAAAAAAAAAAAAAAAAAAAAAAAAAAAAAAAAAAAAAAAAAAAAAAAAAAAAAAAAAAAAAAAAAAAAAAAAAAAAAAAAAAAAAAAAAAAAAAAAAAAAAAAAAAAAAAAAAAAAAAAAAAAAAAAAAAAAAAAAAAAAAAAAAAAAAAAAAAAAAAAAAAAAAAAAAAAAAAAAAAAAAAAAAAAAAAAAAAAAAAAAAAAAAAAAAAAAAAAAAAAAAAAAAAAAAAAAAAAAAAAAAAAAAAAAAAAAAAAAAAAAAAAAAAAAAAAAAAAAAAAAAAAAAAAAAAAAAAAAAAAAAAAAAAAAAAAAAAAAAAAAAAAAAAAAAAAAAAAAAAAAAAAAAAAAAAAAAAAAAAAAAAAAAAAAAAAAAAAAAAAAAAAAAAAAAAAAAAAAAAAAAAAAAAAAAAAAAAAAAAAAAAAAAAAAAAAAAAAAAAAAAAAAAAAAAAAAAAAAAAAAAAAAAAAAAAAAAAAAAAAAAAAAAAAAAAAAAAAAAAAAAAAAAAAAAAAAAAAAAAAAAAAAAAAAAAAAAAAAAAAAAAAAAAAAAAAAAAAAAAAAAAAAAAAAAAAAAAAAAAAAAAAAAAAAAAAAAAAAAAAAAAAAAAAAAAAAAAAAAAAAAAAAAAAAAAAAAAAAAAAAAAAAAAAAAAAAAAAAAAAAAAAAAAAAAAAAAAAAAAAAAAAAAAAAAAAAAAAAAAAAAAAAAAAAAAAAAAAAAAAAAAAAAAAAAAAAAAAAAAAAAAAAAAAA==\",\"dtype\":\"float64\",\"shape\":[1202]}}},\"id\":\"d3e0ba95-ebb9-4a83-8df6-f1e09e63baf7\",\"type\":\"ColumnDataSource\"},{\"attributes\":{\"below\":[{\"id\":\"04df0541-3a0d-41a1-85b7-eb953a05a2f2\",\"type\":\"LinearAxis\"}],\"left\":[{\"id\":\"acd65a24-6ff4-4f17-a19b-19e751f03a1c\",\"type\":\"LinearAxis\"}],\"plot_height\":800,\"plot_width\":1200,\"renderers\":[{\"id\":\"04df0541-3a0d-41a1-85b7-eb953a05a2f2\",\"type\":\"LinearAxis\"},{\"id\":\"62658d80-6357-459a-a949-f21ad0179c40\",\"type\":\"Grid\"},{\"id\":\"acd65a24-6ff4-4f17-a19b-19e751f03a1c\",\"type\":\"LinearAxis\"},{\"id\":\"0bbc58f2-2b4e-4282-aa6c-fd8acee9c67c\",\"type\":\"Grid\"},{\"id\":\"f51f98db-507a-4431-90e9-27e484318b5e\",\"type\":\"BoxAnnotation\"},{\"id\":\"d1a60090-8a02-4b31-a0cc-00aee54725c6\",\"type\":\"GlyphRenderer\"},{\"id\":\"0bea91cc-e725-4754-8a98-beb70ffacdad\",\"type\":\"GlyphRenderer\"},{\"id\":\"ce4a4e90-1723-4943-be9b-300fe30feb1b\",\"type\":\"GlyphRenderer\"},{\"id\":\"819e8ed9-147d-4549-afc0-937a514e3094\",\"type\":\"GlyphRenderer\"},{\"id\":\"1a5672ba-7db0-44c2-a809-5ff07468b55f\",\"type\":\"GlyphRenderer\"},{\"id\":\"2acb2cd9-d6f0-4375-9f96-b54e4bd04fcd\",\"type\":\"GlyphRenderer\"},{\"id\":\"925d6131-03a2-4a4c-82db-b945f24cf4ee\",\"type\":\"GlyphRenderer\"},{\"id\":\"b0d88555-9f52-497a-9d40-eab783a9607d\",\"type\":\"GlyphRenderer\"},{\"id\":\"46f1dbc8-4fb6-4f25-bf75-d15d4e639aaf\",\"type\":\"Legend\"}],\"right\":[{\"id\":\"46f1dbc8-4fb6-4f25-bf75-d15d4e639aaf\",\"type\":\"Legend\"}],\"title\":{\"id\":\"ee9839b9-41e8-40e8-a9ce-c89d517be96a\",\"type\":\"Title\"},\"tool_events\":{\"id\":\"a07dca9d-b0fe-412f-9c52-125cb6d4de11\",\"type\":\"ToolEvents\"},\"toolbar\":{\"id\":\"a9abc30d-3b4a-437c-a61d-0868093b2414\",\"type\":\"Toolbar\"},\"toolbar_location\":\"above\",\"x_range\":{\"id\":\"918db5c5-feea-4e54-bb21-6f38e9e3fb6f\",\"type\":\"DataRange1d\"},\"y_range\":{\"id\":\"cf7757ba-2655-4a90-9ff6-0cafc8a866a2\",\"type\":\"Range1d\"}},\"id\":\"b06289b8-b774-4a8b-b282-5e69357b878a\",\"subtype\":\"Figure\",\"type\":\"Plot\"},{\"attributes\":{},\"id\":\"b63542e5-b1ee-447f-afb5-a07a43d8e551\",\"type\":\"BasicTickFormatter\"},{\"attributes\":{\"data_source\":{\"id\":\"9cc9251b-2307-456e-b809-d8fa0ce0da8b\",\"type\":\"ColumnDataSource\"},\"glyph\":{\"id\":\"60d414bb-6775-434f-bb6e-d267522543e4\",\"type\":\"Line\"},\"hover_glyph\":null,\"nonselection_glyph\":{\"id\":\"e9bd871d-05de-48ad-80c2-5064ab1da3e4\",\"type\":\"Line\"},\"selection_glyph\":null},\"id\":\"b0d88555-9f52-497a-9d40-eab783a9607d\",\"type\":\"GlyphRenderer\"},{\"attributes\":{\"fill_alpha\":{\"value\":0.1},\"fill_color\":{\"value\":\"#1f77b4\"},\"line_alpha\":{\"value\":0.1},\"line_color\":{\"value\":\"#1f77b4\"},\"x\":{\"field\":\"x\"},\"y\":{\"field\":\"y\"}},\"id\":\"437e5985-de33-4574-920b-bef1d925e6bf\",\"type\":\"Patch\"},{\"attributes\":{\"fill_alpha\":{\"value\":0.1},\"fill_color\":{\"value\":\"#984ea3\"},\"line_alpha\":{\"value\":0.1},\"line_color\":{\"value\":\"#984ea3\"},\"x\":{\"field\":\"x\"},\"y\":{\"field\":\"y\"}},\"id\":\"c58b36b2-65dc-4551-95f1-34b9b32c5bc7\",\"type\":\"Patch\"},{\"attributes\":{\"bottom_units\":\"screen\",\"fill_alpha\":{\"value\":0.5},\"fill_color\":{\"value\":\"lightgrey\"},\"left_units\":\"screen\",\"level\":\"overlay\",\"line_alpha\":{\"value\":1.0},\"line_color\":{\"value\":\"black\"},\"line_dash\":[4,4],\"line_width\":{\"value\":2},\"plot\":null,\"render_mode\":\"css\",\"right_units\":\"screen\",\"top_units\":\"screen\"},\"id\":\"f51f98db-507a-4431-90e9-27e484318b5e\",\"type\":\"BoxAnnotation\"},{\"attributes\":{\"line_color\":{\"value\":\"#984ea3\"},\"line_width\":{\"value\":2},\"x\":{\"field\":\"x\"},\"y\":{\"field\":\"y\"}},\"id\":\"60d414bb-6775-434f-bb6e-d267522543e4\",\"type\":\"Line\"},{\"attributes\":{\"callback\":null,\"column_names\":[\"x\",\"y\"],\"data\":{\"x\":[0,1000,2000,3000,4000,5000,6000,7000,8000,9000,10000,11000,12000,13000,14000,15000,16000,17000,18000,19000,20000,21000,22000,23000,24000,25000,26000,27000,28000,29000,30000,31000,32000,33000,34000,35000,36000,37000,38000,39000,40000,41000,42000,43000,44000,45000,46000,47000,48000,49000,50000,51000,52000,53000,54000,55000,56000,57000,58000,59000,60000,61000,62000,63000,64000,65000,66000,67000,68000,69000,70000,71000,72000,73000,74000,75000,76000,77000,78000,79000,80000,81000,82000,83000,84000,85000,86000,87000,88000,89000,90000,91000,92000,93000,94000,95000,96000,97000,98000,99000,100000,101000,102000,103000,104000,105000,106000,107000,108000,109000,110000,111000,112000,113000,114000,115000,116000,117000,118000,119000,120000,121000,122000,123000,124000,125000,126000,127000,128000,129000,130000,131000,132000,133000,134000,135000,136000,137000,138000,139000,140000,141000,142000,143000,144000,145000,146000,147000,148000,149000,150000,151000,152000,153000,154000,155000,156000,157000,158000,159000,160000,161000,162000,163000,164000,165000,166000,167000,168000,169000,170000,171000,172000,173000,174000,175000,176000,177000,178000,179000,180000,181000,182000,183000,184000,185000,186000,187000,188000,189000,190000,191000,192000,193000,194000,195000,196000,197000,198000,199000,200000,201000,202000,203000,204000,205000,206000,207000,208000,209000,210000,211000,212000,213000,214000,215000,216000,217000,218000,219000,220000,221000,222000,223000,224000,225000,226000,227000,228000,229000,230000,231000,232000,233000,234000,235000,236000,237000,238000,239000,240000,241000,242000,243000,244000,245000,246000,247000,248000,249000,250000,251000,252000,253000,254000,255000,256000,257000,258000,259000,260000,261000,262000,263000,264000,265000,266000,267000,268000,269000,270000,271000,272000,273000,274000,275000,276000,277000,278000,279000,280000,281000,282000,283000,284000,285000,286000,287000,288000,289000,290000,291000,292000,293000,294000,295000,296000,297000,298000,299000,300000,301000,302000,303000,304000,305000,306000,307000,308000,309000,310000,311000,312000,313000,314000,315000,316000,317000,318000,319000,320000,321000,322000,323000,324000,325000,326000,327000,328000,329000,330000,331000,332000,333000,334000,335000,336000,337000,338000,339000,340000,341000,342000,343000,344000,345000,346000,347000,348000,349000,350000,351000,352000,353000,354000,355000,356000,357000,358000,359000,360000,361000,362000,363000,364000,365000,366000,367000,368000,369000,370000,371000,372000,373000,374000,375000,376000,377000,378000,379000,380000,381000,382000,383000,384000,385000,386000,387000,388000,389000,390000,391000,392000,393000,394000,395000,396000,397000,398000,399000,400000,401000,402000,403000,404000,405000,406000,407000,408000,409000,410000,411000,412000,413000,414000,415000,416000,417000,418000,419000,420000,421000,422000,423000,424000,425000,426000,427000,428000,429000,430000,431000,432000,433000,434000,435000,436000,437000,438000,439000,440000,441000,442000,443000,444000,445000,446000,447000,448000,449000,450000,451000,452000,453000,454000,455000,456000,457000,458000,459000,460000,461000,462000,463000,464000,465000,466000,467000,468000,469000,470000,471000,472000,473000,474000,475000,476000,477000,478000,479000,480000,481000,482000,483000,484000,485000,486000,487000,488000,489000,490000,491000,492000,493000,494000,495000,496000,497000,498000,499000,500000,501000,502000,503000,504000,505000,506000,507000,508000,509000,510000,511000,512000,513000,514000,515000,516000,517000,518000,519000,520000,521000,522000,523000,524000,525000,526000,527000,528000,529000,530000,531000,532000,533000,534000,535000,536000,537000,538000,539000,540000,541000,542000,543000,544000,545000,546000,547000,548000,549000,550000,551000,552000,553000,554000,555000,556000,557000,558000,559000,560000,561000,562000,563000,564000,565000,566000,567000,568000,569000,570000,571000,572000,573000,574000,575000,576000,577000,578000,579000,580000,581000,582000,583000,584000,585000,586000,587000,588000,589000,590000,591000,592000,593000,594000,595000,596000,597000,598000,599000,600000,600000,599000,598000,597000,596000,595000,594000,593000,592000,591000,590000,589000,588000,587000,586000,585000,584000,583000,582000,581000,580000,579000,578000,577000,576000,575000,574000,573000,572000,571000,570000,569000,568000,567000,566000,565000,564000,563000,562000,561000,560000,559000,558000,557000,556000,555000,554000,553000,552000,551000,550000,549000,548000,547000,546000,545000,544000,543000,542000,541000,540000,539000,538000,537000,536000,535000,534000,533000,532000,531000,530000,529000,528000,527000,526000,525000,524000,523000,522000,521000,520000,519000,518000,517000,516000,515000,514000,513000,512000,511000,510000,509000,508000,507000,506000,505000,504000,503000,502000,501000,500000,499000,498000,497000,496000,495000,494000,493000,492000,491000,490000,489000,488000,487000,486000,485000,484000,483000,482000,481000,480000,479000,478000,477000,476000,475000,474000,473000,472000,471000,470000,469000,468000,467000,466000,465000,464000,463000,462000,461000,460000,459000,458000,457000,456000,455000,454000,453000,452000,451000,450000,449000,448000,447000,446000,445000,444000,443000,442000,441000,440000,439000,438000,437000,436000,435000,434000,433000,432000,431000,430000,429000,428000,427000,426000,425000,424000,423000,422000,421000,420000,419000,418000,417000,416000,415000,414000,413000,412000,411000,410000,409000,408000,407000,406000,405000,404000,403000,402000,401000,400000,399000,398000,397000,396000,395000,394000,393000,392000,391000,390000,389000,388000,387000,386000,385000,384000,383000,382000,381000,380000,379000,378000,377000,376000,375000,374000,373000,372000,371000,370000,369000,368000,367000,366000,365000,364000,363000,362000,361000,360000,359000,358000,357000,356000,355000,354000,353000,352000,351000,350000,349000,348000,347000,346000,345000,344000,343000,342000,341000,340000,339000,338000,337000,336000,335000,334000,333000,332000,331000,330000,329000,328000,327000,326000,325000,324000,323000,322000,321000,320000,319000,318000,317000,316000,315000,314000,313000,312000,311000,310000,309000,308000,307000,306000,305000,304000,303000,302000,301000,300000,299000,298000,297000,296000,295000,294000,293000,292000,291000,290000,289000,288000,287000,286000,285000,284000,283000,282000,281000,280000,279000,278000,277000,276000,275000,274000,273000,272000,271000,270000,269000,268000,267000,266000,265000,264000,263000,262000,261000,260000,259000,258000,257000,256000,255000,254000,253000,252000,251000,250000,249000,248000,247000,246000,245000,244000,243000,242000,241000,240000,239000,238000,237000,236000,235000,234000,233000,232000,231000,230000,229000,228000,227000,226000,225000,224000,223000,222000,221000,220000,219000,218000,217000,216000,215000,214000,213000,212000,211000,210000,209000,208000,207000,206000,205000,204000,203000,202000,201000,200000,199000,198000,197000,196000,195000,194000,193000,192000,191000,190000,189000,188000,187000,186000,185000,184000,183000,182000,181000,180000,179000,178000,177000,176000,175000,174000,173000,172000,171000,170000,169000,168000,167000,166000,165000,164000,163000,162000,161000,160000,159000,158000,157000,156000,155000,154000,153000,152000,151000,150000,149000,148000,147000,146000,145000,144000,143000,142000,141000,140000,139000,138000,137000,136000,135000,134000,133000,132000,131000,130000,129000,128000,127000,126000,125000,124000,123000,122000,121000,120000,119000,118000,117000,116000,115000,114000,113000,112000,111000,110000,109000,108000,107000,106000,105000,104000,103000,102000,101000,100000,99000,98000,97000,96000,95000,94000,93000,92000,91000,90000,89000,88000,87000,86000,85000,84000,83000,82000,81000,80000,79000,78000,77000,76000,75000,74000,73000,72000,71000,70000,69000,68000,67000,66000,65000,64000,63000,62000,61000,60000,59000,58000,57000,56000,55000,54000,53000,52000,51000,50000,49000,48000,47000,46000,45000,44000,43000,42000,41000,40000,39000,38000,37000,36000,35000,34000,33000,32000,31000,30000,29000,28000,27000,26000,25000,24000,23000,22000,21000,20000,19000,18000,17000,16000,15000,14000,13000,12000,11000,10000,9000,8000,7000,6000,5000,4000,3000,2000,1000,0],\"y\":{\"__ndarray__\":\"AAAAAAAAAAAAAAAAAAAAAAAAAAAAAAAAAAAAAAAAAAAAAAAAAAAAAAAAAAAAAAAAAAAAAAAAAAAAAAAAAAAAAAAAAAAAAAAAAAAAAAAAAAAAAAAAAAAAAAAAAAAAAAAAAAAAAAAAAAAAAAAAAAAAAAAAAAAAAAAAAAAAAAAAAAAAAAAAAAAAAAAAAAAAAAAAAAAAAAAAAAAAAAAAAAAAAAAAAAAAAAAAAAAAAAAAAAAAAAAAAAAAAAAAAAAAAAAAAAAAAAAAAAAAAAAAAAAAAAAAAAAAAAAAAAAAAAAAAAAAAAAAAAAAAAAAAAAAAAAAAAAAAAAAAAAAAAAAAAAAAAAAAAAAAAAAAAAAAAAAAAAAAAAAAAAAAAAAAAAAAAAAAAAAAAAAAAAAAAAAAAAAAAAAAAAAAAAAAAAAAAAAAAAAAAAAAAAAAAAAAAAAAAAAAAAAAAAAAAAAAAAAAAAAAAAAAAAAAAAAAAAAAAAAAAAAAAAAAAAAAAAAAAAAAAAAAAAAAAAAAAAAAAAAAAAAAAAAAAAAAAAAAAAAAAAAAAAAAAAAAAAAAAAAAAAAAAAAAAAAAAAAAAAAAAAAAAAAAAAAAAAAAAAAAAAAAAAAAAAAAAAAAAAAAAAAAAAAAAAAAAAAAAAAAAAAAAAAAAAAAAAAAAAAAAAAAAAAAAAAAAAAAAAAAAAAAAAAAAAAAAAAAAAAAAAAAAAAAAAAAAAAAAAAAAAAAAAAAAAAAAAAAAAAAAAAAAAAAAAAAAAAAAAAAAAAAAAAAAAAAAAAAAAAAAAAAAAAAAAAAAAAAAAAAAAAAAAAAAAAAAAAAAAAAAAAAAAAAAAAAAAAAAAAAAAAAAAAAAAAAAAAAAAAAAAAAAAAAAAAAAAAAAAAAAAAAAAAAAAAAAAAAAAAAAAAAAAAAAAAAAAAAAAAAAAAAAAAAAAAAAAAAAAAAAAAAAAAAAAAAAAAAAAAAAAAAAAAAAAAAAAAAAAAAAAAAAAAAAAAAAAAAAAAAAAAAAAAAAAAAAAAAAAAAAAAAAAAAAAAAAAAAAAAAAAAAAAAAAAAAAAAAAAAAAAAAAAAAAAAAAAAAAAAAAAAAAAAAAAAAAAAAAAAAAAAAAAAAAAAAAAAAAAAAAAAAAAAAAAAAAAAAAAAAAAAAAAAAAAAAAAAAAAAAAAAAAAAAAAAAAAAAAAAAAAAAAAAAAAAAAAAAAAAAAAAAAAAAAAAAAAAAAAAAAAAAAAAAAAAAAAAAAAAAAAAAAAAAAAAAAAAAAAAAAAAAAAAAAAAAAAAAAAAAAAAAAAAAAAAAAAAAAAAAAAAAAAAAAAAAAAAAAAAAAAAAAAAAAAAAAAAAAAAAAAAAAAAAAAAAAAAAAAAAAAAAAAAAAAAAAAAAAAAAAAAAAAAAAAAAAAAAAAAAAAAAAAAAAAAAAAAAAAAAAAAAAAAAAAAAAAAAAAAAAAAAAAAAAAAAAAAAAAAAAAAAAAAAAAAAAAAAAAAAAAAAAAAAAAAAAAAAAAAAAAAAAAAAAAAAAAAAAAAAAAAAAAAAAAAAAAAAAAAAAAAAAAAAAAAAAAAAAAAAAAAAAAAAAAAAAAAAAAAAAAAAAAAAAAAAAAAAAAAAABWwLa2zJuXv1bAtrbMm6e/PxAJidm0sb9WwLa2zJu3v2pwZOS/gr2/PxAJidm0wb9J6N8fU6jEvzkScB03T8e/jp+pXnVvxb/lLOOfs4/Dvzm6HOHxr8G/HI+sRGCgv7/IqR/H3OC7v3TEkklZIbi/Hd8FzNVhtL/I+XhOUqKwv+Yo2KGdxam/O16+ppZGor8gJ0lXH4+VvyxHVoRFRHq/AAAAAAAAAAAAAAAAAAAAAAAAAAAAAAAAAAAAAAAAAAAAAAAAAAAAAAAAAAAAAAAAAAAAAAAAAAAAAAAAAAAAAAAAAAAAAAAAAAAAAAAAAAAAAAAAAAAAAAAAAAAAAAAAAAAAAAAAAAAAAAAAAAAAAAAAAAAAAAAAAAAAAAAAAAAAAAAAAAAAAAAAAAAAAAAAAAAAAAAAAAAAAAAAAAAAAAAAAAAAAAAAAAAAAAAAAAAAAAAAAAAAAAAAAAAAAAAAAAAAAAAAAAAAAAAAAAAAAAAAAAAAAAAAAAAAAAAAAAAAAAAAAAAAAAAAAAAAAAAAAAAAAAAAAAAAAAAAAAAAAAAAAAAAAAAAAAAAAAAAAAAAAAAAAAAAAAAAAAAAAAAAAAAAAAAAAAAAAAAAAAAAAAAAAAAAAAAAAAAAAAAAAAAAAAAAAAAAAAAAAAAAAAAAAAAAAAAAAAAAAAAAAAAAAAAAAAAAAAAAAAAAAAAAAAAAAAAAAAAAAAAAAAAAAAAAAAAAAAAAAAAAAAAAAAAAAAAAAAAAAAAAAAAAAAAAAAAAAAAAAAAAAAAAAAAAAAAAAAAAAAAAAAAAAAAAAAAAAAAAAAAAAAAAAAAAAAAAAAAAAAAAAAAAAAAAAAAAAAAAAAAAAAAAAAAAAAAAAAAAAAAAAAAAAAAAAAAAAAAAAAAAAAAAAAAAAAAAAAAAAAAAAAAAAAAAAAAAAAAAAAAAAAAAAAAAAAAAAAAAAAAAAAAAAAAAAAAAAAAAAAAAAAAAAAAAAAAAAAAAAAAAAAAAAAAAAAAAAAAAAAAAAAAAAAAAAAAAAAAAAAAAAAAAAAAAAAAAAAAAAAAAAAAAAAAAAAAAAAAAAAAAAAAAAAAAAAAAAAAAAAAAAAAAAAAAAAAAAAAAAAAAAAAAAAAAAAAAAAAAAAAAAAAAAAAAAAAAAAAAAAAAAAAAAAAAAAAAAAAAAAAAAAAAAAAAAAAAAAAAAP3r5CIGboG//GFXNAklmr/8Jp6rh8mlv/qcEL2KgK6/folB58abs798xPpvSPe3v3z/s/jJUry/Pp22wCVXwL+9OhOF5oTCvz3Yb0mnssS/vHXMDWjgxr9UmbDQ9WzHv1WZsND1bMe/VJmw0PVsx79UmbDQ9WzHv1WZsND1bMe/VJmw0PVsx79UmbDQ9WzHv5/36WXp38a/9YQjpycAxb9KEl3oZSDDv56flimkQMG/6lmg1cTBvr+SdBNYQQK7vz6Phtq9Qre/YEkbYxSzrr9AkL6loVSVvwA445Kn9Em/KFML2MLqgL+KjYiaDr6jv0lRYSqNzLS/4nQ5dW+Dur9Armn9p5e+v9HzzELwVcG/fxDlhgxgw78uLf3KKGrFv7sX5F0+Zse/DaUdn3yGxb9kMlfguqbDv7u/kCH5xsG/IpqUxW7Ov7/MtAdI6w68v3bPespnT7i/HurtTOSPtL/JBGHPYNCwv+o+qKO6Iaq/P3SOqLOior8oU+laWUeWv0731pItJX2/AAAAAAAAAAAAAAAAAAAAAAAAAAAAAAAAAAAAAAAAAAAAAAAAAAAAAAAAAAAAAAAAAAAAAAAAAAAAAAAAAAAAAAAAAAAAAAAAAAAAAAAAAAAAAAAAAAAAAAAAAAAAAAAAAAAAAAAAAAAAAAAAAAAAAP2EYX7HmZa//YRhfseZpr+/I8meVfOwv/2EYX7Hmba/Pub5XTlAvL+/I8meVfPAv15UlY6OxsO//YRhfseZxr9UmbDQ9WzHv1SZsND1bMe/VJmw0PVsx79UmbDQ9WzHv1SZsND1bMe/8ohnk6Ycxr9GFqHU5DzEv52j2hUjXcK/9DAUV2F9wL+QfJswPzu9vzyXDrO7e7m/57GBNTi8tb+SzPS3tPyxv3rOz3Rieqy/zAO2eVv7pL9Icjj9qPiav+i5CQ429Ye/AAAAAAAAAAAAAAAAAAAAAAAAAAAAAAAAAAAAAAAAAAAAAAAAAAAAAAAAAAAAAAAAAAAAAAAAAAAAAAAAAAAAAAAAAAAAAAAAAAAAAAAAAAAAAAAAAAAAAAAAAAAAAAAAAAAAAAAAAAAAAAAAAAAAAAAAAAAAAAAAAAAAAAAAAAAAAAAAAAAAAAAAAAAAAAAAAAAAAAAAAAAAAAAAAAAAAAAAAAAAAAAAAAAAAAAAAAAAAAAAAAAAAAAAAAAAAAAAAAAAAAAAAAAAAAAAAAAAAAAAAAAAAAAAAAAAAAAAAAAAAAAAAAAAAAAAAAAAAAAAAAAAAAAAAAAAAAAAAAAAAAAAAAAAAAAAAAAAAAAAAAAAAAAAAAAAAAAAAAAAAAAAAAAAAAAAAAAAAAAAAAAAAAAAAAAAAAAAAAAAAAAAAAAAAAAAAAAAAAAAAAAAAAAAAAAAAAAAAAAAAAAAAAAAAAAAAAAAAAAAAAAAAAAAAAAAAAAAAAAAAAAAAAAAAAAAAAAAAAAAAAAAAAAAAAAAAAAAAAAAAAAAAAAAAAAAAAAAAAAAAAAAAAAAAAAAAAAAAAAAAAAAAAAAAAAAAAAAAAAAAAAAAAAAAAAAAAAAAAAAAAAAAAAAAAAAAAAAAAAAAAAAAAAAAAAAAAAAAAAAAAAAAAAAAAAAAAAAAAAAAAAAAAAAAAAAAAAAAAAAAAAAAAAAAAAAAAAAAAAAAAAAAAAAAAAAAAAAAAAAAAAAAAAAAAAAAAAAAAAAAAAAAAAAAAAAAAAAAAAAAAAAAAAAAAAAAAAAAAAAAAAAAAAAAAAAAAAAAAAAAAAAAAAAAAAAAAAAAAAAAAAAAAAAAAAAAAAAAAAAAAAAAAAAAAAAAAAAAAAAAAAAAAAAAAAAAAAAAAAAAAAAAAAAAAAAAAAAAAAAAAAAAAAAAAAAAAAAAAAAAAAAAAAAAAAAAAAAAAAAAAAAAAAAAAAAAAAAAAAAAAAAAAAAAAAAAAAAAAAAAAAAAAAAAAAAAAAAAAAAAAAAAAAAAAAAAAAAAAAAAAAAAAAAAAAAAAAAAAAAAAAAAAAAAAAAAAAAAAAAAAAAAAAAAAAAAAAAAAAAAAAAAAAAAAAAAAAAAAAAAAAAAAAAAAAAAAAAAAAAAAAAAAAAAAAAAAAAAAAAAAAAAAAAAAAAAAAAAAAAAAAAAAAAAAAAAAAAAAAAAAAAAAAAAAAAAAAAAAAAAAAAAAAAAAAAAAAAAAAAAAAAAAAAAAAAAAAAAAAAAAAAAAAAAAAAAAAAAAAAAAAAAAAAAAAAAAAAAAAAAAAAAAAAAAAAAAAAAAAAAAAAAAAAAAAAAAAAAAAAAAAAAAAAAAAAAAAAAAAAAAAAAAAAAAAAAAAAAAAAAAAAAAAAAAAAAAAAAAAAAAAAAAAAAAAAAAAAAAAAAAAAAAAAAAAAAAAAAAAAAAAAAAAAAAAAAAAAAAAAAAAAAAAAAAAAAAAAAAAAAAAAAAAAAAAAAAAAAAAAAAAAAAAAAAAAAAAAAAAAAAAAAAAAAAAAAAAAAAAAAAAAAAAAAAAAAAAAAAAAAAAAAAAAAAAAAAAAAAAAAAAAAAAAAAAAAAAAAAAAAAAAAAAAAAAAAAAAAAAAAAAAAAAAAAAAAAAAAAAAAAAAAAAAAAAAAAAAAAAAAAAAAAAAAAAAAAAAAAAAAAAAAAAAAAAAAAAAAAAAAAAAAAAAAAAAAAAAAAAAAAAAAAAAAAAAAAAAAAAAAAAAAAAAAAAAAAAAAAAAAAAAAAAAAAAAAAAAAAAAAAAAAAAAAAAAAAAAAAAAAAAAAAAAAAAAAAAAAAAAAAAAAAAAAAAAAAAAAAAAAAAAAAAAAAAAAAAAAAAAAAAAAAAAAAAAAAAAAAAAAAAAAAAAAAAAAAAAAAAAAAAAAAAAAAAAAAAAAAAAAAAAAAAAAAAAAAAAAAAAAAAAAAAAAAAAAAAAAAAAAAAAAAAAAAAAAAAAAAAAAAAAAAAAAAAAAAAAAAAAAAAAAAAAAAAAAAAAAAAAAAAAAAAAAAAAAAAAAAAAAAAAAAAAAAAAAAAAAAAAAAAAAAAAAAAAAAAAAAAAAAAAAAAAAAAAAAAAAAAAAAAAAAAAAAAAAAAAAAAAAAAAAAAAAAAAAAAAAAAAAAAAAAAAAAAAAAAAAAAAAAAAAAAAAAAAAAAAAAAAAAAAAAAAAAAAAAAAAAAAAAAAAAAAAAAAAAAAAAAAAAAAAAAAAAAAAAAAAAAAAAAAAAAAAAAAAAAAAAAAAAAAAAAAAAAAAAAAAAAAAAAAAAAAAAAAAAAAAAAAAAAAAAAAAAAAAAAAAAAAAAAAAAAAAAAAAAAAAAAAAAAAAAAAAAAAAAAAAAAAAAAAAAAAAAAAAAAAAAAAAAAAAAAAAAAAAAAAAAAAAAAAAAAAAAAAAAAAAAAAAAAAAAAAAAAAAAAAAAAAAAAAAAAAAAAAAAAAAAAAAAAAAAAAAAAAAAAAAAAAAAAAAAAAAAAAAAAAAAAAAAAAAAAAAAAAAAAAAAAAAAAAAAAAAAAAAAAAAAAAAAAAAAAAAAAAAAAAAAAAAAAAAAAAAAAAAAAAAAAAAAAAAAAAAAAAAAAAAAAAAAAAAAAAAAAAAAAAAAAAAAAAAAAAAAAAAAAAAAAAAAAAAAAAAAAAAAAAAAAAAAAAAAAAAAAAAAAAAAAAAAAAAAAAAAAAAAAAAAAAAAAAAAAAAAAAAAAAAAAAAAAAAAAAAAAAAAAAAAAAAAAAAAAAAAAAAAAAAAAAAAAAAAAAAAAAAAAAAAAAAAAAAAAAAAAAAAAAAAAAAAAAAAAAAAAAAAAAAAAAAAAAAAAAAAAAAAAAAAAAAAAAAAAAAAAAAAAAAAAAAAAAAAAAAAAAAAAAAAAAAAAAAAAAAAAAAAAAAAAAAAAAAAAAAAAAAAAAAAAAAAAAAAAAAAAAAAAAAAAAAAAAAAAAAAAAAAAAAAAAAAAAAAAAAAAAAAAAAAAAAAAAAAAAAAAAAAAAAAAAAAAAAAAAAAAAAAAAAAAAAAAAAAAAAAAAAAAAAAAAAAAAAAAAAAAAAAAAAAAAAAAAAAAAAAAAAAAAAAAAAAAAAAAAAAAAAAAAAAAAAAAAAAAAAAAAAAAAAAAAAAAAAAAAAAAAAAAAAAAAAAAAAAAAAAAAAAAAAAAAAAAAAAAAAAAAAAAAAAAAAAAAAAAAAAAAAAAAAAAAAAAAAAAAAAAAAAAAAAAAAAAAAAAAAAAAAAAAAAAAAAAAAAAAAAAAAAAAAAAAAAAAAAAAAAAAAAAAAAAAAAAAAAAAAAAAAAAAAAAAAAAAAAAAAAAAAAAAAAAAAAAAAAAAAAAAAAAAAAAAAAAAAAAAAAAAAAAAAAAAAAAAAAAAAAAAAAAAAAAAAAAAAAAAAAAAAAAAAAAAAAAAAAAAAAAAAAAAAAAAAAAAAAAAAAAAAAAAAAAAAAAAAAAAAAAAAAAAAAAAAAAAAAAAAAAAAAAAAAAAAAAAAAAAAAAAAAAAAAAAAAAAAAAAAAAAAAAAAAAAAAAAAAAAAAAAAAAAAAAAAAAAAAAAAAAAAAAAAAAAAAAAAAAAAAAAAAAAAAAAAAAAAAAAAAAAAAAAAAAAAAAAAAAAAAAAAAAAAAAAAAAAAAAAAAAAAAAAAAAAAAAAAAAAAAAAAAAAAAAAAAAAAAAAAAAAAAAAAAAAAAAAAAAAAAAAAAAAAAAAAAAAAAAAAAAAAAAAAAAAAAAAAAAAAAAAAAAAAAAAAAAAAAAAAAAAAAAAAAAAAAAAAAAAAAAAAAAAAAAAAAAAAAAAAAAAAAAAAAAAAAAAAAAAAAAAAAAAAAAAAAAAAAAAAAAAAAAAAAAAAAAAAAAAAAAAAAAAAAAAAAAAAAAAAAAAAAAAAAAAAAAAAAAAAAAAAAAAAAAAAAAAAAAAAAAAAAAAAAAAAAAAAAAAAAAAAAAAAAAAAAAAAAAAAAAAAAAAAAAAAAAAAAAAAAAAAAAAAAAAAAAAAAAAAAAAAAAAAAAAAAAAAAAAAAAAAAAAAAAAAAAAAAAAAAAAAAAAAAAAAAAAAAAAAAAAAAAAAAAAAAAAAAAAAAAAAAAAAAAAAAAAAAAAAAAAAAAAAAAAAAAAAAAAAAAAAAAAAAAAAAAAAAAAAAAAAAAAAAAAAAAAAAAAAAAAAAAAAAAAAAAAAAAAAAAAAAAAAAAAAAAAAAAAAAAAAAAAAAAAAAAAAAAAAAAAAAAAAAAAAAAAAAAAAAAAAAAAAAAAAAAAAAAAAAAAAAAAAAAAAAAAAAAAAAAAAAAAAAAAAAAAAAAAAAAAAAAAAAAAAAAAAAAAAAAAAAAAAAAAAAAAAAAAAAAAAAAAAAAAAAAAAAAAAAAAAAAAAAAAAAAAAAAAAAAAAAAAAAAAAAAAAAAAAAAAAAAAAAAAAAAAAAAAAAAAAAAAAAAAAAAAAAAAAAAAAAAAAAAAAAAAAAAAAAAAAAAAAAAAAAAAAAAAAAAAAAAAAAAAAAAAAAAAAAAAAAAAAAAAAAAAAAAAAAAAAAAAAAAAAAAAAAAAAAAAAAAAAAAAAAAAAAAAAAAAAAAAAAAAAAAAAAAAAAAAAAAAAAAAAAAAAAAAAAAAAAAAAAAAAAAAAAAAAAAAAAAAAAAAAAAAAAAAAAAAAAAAAAAAAAAAAAAAAAAAAAAAAAAAAAAAAAAAAAAAAAAAAAAAAAAAAAAAAAAAAAAAAAAAAAAAAAAAAAAAAAAAAAAAAAAAAAAAAAAAAAAAAAAAAAAAAAAAAAAAAAAAAAAAAAAAAAAAAAAAAAAAAAAAAAAAAAAAAAAAAAAAAAAAAAAAAAAAAAAAAAAAAAAAAAAAAAAAAAAAAAAAAAAAAAAAAAAAAAAAAAAAAAAAAAAAAAAAAAAAAAAAAAAAAAAAAAAAAAAAAAAAAAAAAAAAAAAAAAAAAAAAAAAAAAAAAAAAAAAAAAAAAAAAAAAAAAAAAAAAAAAAAAAAAAAAAAAAAAAAAAAAAAAAAAAAAAAAAAAAAAAAAAAAAAAAAAAAAAAAAAAAAAAAAAAAAAAAAAAAAAAAAAAAAAAAAAAAAAAAAAAAAAAAAAAAAAAAAAAAAAAAAAAAAAAAAAAAAAAAAAAAAAAAAAAAAAAAAAAAAAAAAAAAAAAAAAAAAAAAAAAAAAAAAAAAAAAAAAAAAAAAAAAAAAAAAAAAAAAAAAAAAAAAAAAAAAAAAAAAAAAAAAAAAAAAAAAAAAAAAAAAAAAAAAAAAAAAAAAAAAAAAAAAAAAAAAAAAAAAAAAAAAAAAAAAAAAAAAAAAAAAAAAAAAAAAAAAAAAAAAAAAAAAAAAAAAAAAAAAAAAAAAAAAAAAAAAAAAAAAJzfESldWqY/Yd/stSIquT95Z6hri5PDP0RfWnwFkso/hiuGxj/I0D9rJ9/OfEfUP1AjONe5xtc/NB+R3/ZF2z8aG+rnM8XeP3+LIXg4IuE/cAlO/Nbh4j9kh3qAdaHkP1UmLHQ92+U/VSYsdD3b5T9VJix0PdvlP1UmLHQ92+U/VSYsdD3b5T+FNgKfNBblP7TvIQtuc+I/yFGD7k6h3z8mxMLGwVvaP4U2Ap80FtU/yFGD7k6hzz+FNgKfNBbFP4U2Ap80FrU/AAAAAAAAAAAAAAAAAAAAAAAAAAAAAAAAAAAAAAAAAAAAAAAAAAAAAAAAAAAAAAAAAAAAAAAAAAAAAAAAAAAAAAAAAAAAAAAAAAAAAAAAAAAAAAAAAAAAAAAAAAAAAAAAAAAAAAAAAAAAAAAAAAAAAHCapbVfMZs/L1bNDkzJtD/hohgYIGPBP6qayiiaYcg/dJJ8ORRgzz8eRRclRy/TPwRBcC2ErtY/6TzJNcEt2j/OOCI+/qzdP1maPaMdluA/SxhqJ7xV4j89lparWhXkPzAUwy/51OU/EMg+n+z64z9wkGnlyRPiP9FYlCunLOA/YEJ+4wiL3D8g09Nvw7zYP0WhIJzUDNU/S8Aw/JcX0j+01e4totrPPwbHr1Y0cs4/krxByY5H0D9hnqASzI7SPyBrBX3Zs9U/BGdehRYz2T/qYreNU7LcP2YvCEvIGOA/Wq00z2bY4T9MK2FTBZjjPz6pjdejV+U/VSYsdD3b5T9VJix0PdvlP1UmLHQ92+U/VSYsdD3b5T9VJix0PdvlP1UmLHQ92+U/VSYsdD3b5T9vHXMDGljlP0ACHwO2T+M/EefKAlJH4T/Dl+0E3H3eP2VhRQQUbdo/BiudA0xc1j+o9PQChEvSP5R8mQR4dcw/1w9JA+hTxD82RvEDsGS4P3nZoAIgQ6A/AAAAAAAAAAAAAAAAAAAAAAAAAAAAAAAAAAAAAAAAAAAAAAAAAAAAAAAAAAAAAAAAAAAAAAAAAAAAAAAAAAAAAAAAAAAAAAAAAAAAAAAAAAAAAAAAAAAAAAAAAAAAAAAAAAAAAAAAAAAAAAAAAAAAAAAAAAAAAAAAAAAAAAAAAAAAAAAAAAAAAAAAAAAAAAAAAAAAAAAAAAAAAAAAAAAAAAAAAAAAAAAAAAAAAAAAAAAAAAAAAAAAAAAAAAAAAAAAAAAAAAAAAAAAAAAAAAAAAAAAAAAAAAAAAAAAAAAAAAAAAAAAAAAAAAAAAAAAAAAAAAAAAAAAAAAAAAAAAAAAAAAAAAAAAAAAAAAAAAAAAAAAAAAAAAAAAAAAAAAAAAAAAAAAAAAAAAAAAAAAAAAAAAAAAAAAAAAAAAAAAAAAAAAAAAAAAAAAAAAAAAAAAAAAAAAAAAAAAAAAAAAAAAAAAAAAAAAAAAAAAAAAAAAAAAAAAAAAAAAAAAAAAAAAAAAAAAAAAAAAAAAAAAAAAAAAAAAAAAAAAAAAAAAAAAAAAAAAAAAAAAAAAAAAAAAAAAAAAAAAAAAAAAAAAAAAAAAAAAAAAAAAAAAAAAAAAAAAAAAAAAAAAAAAAAAAAAAAAAAAAAAAAAAAAAAAAAAAAAAAAAAAAAAAAAAAAAAAAAAAAAAAAAAAAAAAAAAAAAAAAAAAAAAAAAAAAAAAAAAAAAAAAAAAAAAAAAAAAAAAAAAAAAAAAAAAAAAAAAAAAAAAAAAAAAAAAAAAAAAAAAAAAAAAAAAAAAAAAAAAAAAAAAAAAAAAAAAAAAAAAAAAAAAAAAAAAAAAAAAAAAAAAAAAAAAAAAAAAAAAAAAAAAAAAAAAAAAAAAAAAAAAAAAAAAAAAAAAAAAAAAAAAAAAAAAAAAAAAAAAAAAAAAAAAAAAAAAAAAAAAAAAAAAAAAAAAAAAAAAAAAAAAAAAAAAAAAAAAAAAAJEcMK3UgZg/t/avTGkdtD8l8wm3Lg3BP+7qu8eoC8g/uOJt2CIKzz9B7Y90TgTTPybp6HyLg9Y/CuVBhcgC2j/v4JqNBYLdP2ru+UqhgOA/XWwmzz9A4j9O6lJT3v/jP0Fof9d8v+U/KDGi+RJG4z9rvPjVNIXgP16PnmStiNs/5qVLHfEG1j9rvPjVNIXQP+alSx3xBsY/5qVLHfEGtj8AAAAAAAAAAAAAAAAAAAAAAAAAAAAAAAAAAAAAAAAAAAAAAAAAAAAAAAAAAAAAAAAAAAAAAAAAAAAAAAAAAAAAAAAAAAAAAAAAAAAAAAAAAAAAAAAAAAAAAAAAAAAAAAAAAAAAAAAAAAAAAAAAAAAAAAAAAAAAAAAAAAAAAAAAAAAAAAAAAAAAAAAAAAAAAAAAAAAAAAAAAAAAAAAAAAAAAAAAAAAAAAAAAAAAAAAAAAAAAAAAAAAAAAAAAAAAAAAAAAAAAAAAAAAAAAAAAAAAAAAAAAAAAAAAAAAAAAAAAAAAAAAAAAAAAAAAAAAAAAAAAAAAAAAAAAAAAAAAAAAAAAAAAAAAAAAAAAAAAAAAAAAAAAAAAAAAAAAAAAAAAAAAAAAAAAAAAAAAAAAAAAAAAAAAAAAAAAAAAAAAAAAAAAAAAAAAAAAAAAAAAAAAAAAAAAAAAAAAAAAAAAAAAAAAAAAAAAAAAAAAAAAAAAAAAAAAAAAAAAAAAAAAAAAAAAAAAAAAAAAAAAAAAAAAAAAAAAAAAAAAAAAAAAAAAAAAAAAAAAAAAAAAAAAAAAAAAAAAAAAAAAAAAAAAAAAAAAAAAAAAAAAAAAAAAAAAAAAAAAAAAAAAAAAAAAAAAAAAAAAAAAAAAAAAAAAAAAAAAAAAAAAAAAAAAAAAAAAAAAAAAAAAAAAAAAAAAAAAAAAAAAAAAAAAAAAAAAAAAAAAAAAAAAAAAAAAAAAAAAAAAAAAAAAAAAAAAAAAAAAAAAAAAAAAAAAAAAAAAAAAAAAAAAAAAAAAAAAAAAAAAAAAAAAAAAAAAAAAAAAAAAAAAAAAAAAAAAAAAAAAAAAAAAAAAAAAAAAAAAAAAAAAAAAAAAAAAAAAAAAAAAAAAAAAAAAAAAAAAAAAAAAAAAAAAAAAAAAAAAAAAAAAAAAAAAAAAAAAAAAAAAAAAAAAAAAAAAAAAAAAAAAAAAAAAAAAAAAAAAAAAAAAAAAAAAAAAAAAAAAAAAAAAAAAAAAAAAAAAAAAAAAAAAAAAAAAAAAAAAAAAAAAAAAAAAAAAAAAAAAAAAAAAAAAAAAAAAAAAAAAAAAAAAAAAAAAAAAAAAAAAAAAAAAAAAAAAAAAAAAAAAAAAAAAAAAAAAAAAAAAAAAAAAAAAAAAAAAAAAAAAAAAAAAAAAAAAAAAAAAAAAAAAAAAAAAAAAAAAAAAAAAAAAAAAAAAAAAAAAAAAAAAAAAAAAAAAAAAAAAAAAAAAAAAAAAAAAAAAAAAAAAAAAAAAAAAAAAAAAAAAAAAAAAAAAAAAAAAAAAAAAAAAAAAAAAAAAAAAAAAAAAAAAAAAAAAAAAAAAAAAAAAAAAAAAAAAAAAAAAAAAAAAAAAAAAAAAAAAAAAAAAAAAAAAAAAAAAAAAAAAAAAAAAAAAAAAAAAAAAAAAAAAAAAAAAAAAAAAAAAAAAAAAAAAAAAAAAAAAAAAAAAAAAAAAAAAAAAAAAAAAAAAAAAAAAAAAAAAAAAAAAAAAAAAAAAAAAAAAAAAAAAAAAAAAAAAAAAAAAAAAAAAAAAAAAAAAAAAAAAAAAAAAAAAAAAAAAAAAAAAAAAAAAAAAAAAAAAAAAAAAAAAAAAAA==\",\"dtype\":\"float64\",\"shape\":[1202]}}},\"id\":\"850dab6b-f3a3-4fbe-8679-94ffd2e2f4f5\",\"type\":\"ColumnDataSource\"},{\"attributes\":{\"plot\":{\"id\":\"b06289b8-b774-4a8b-b282-5e69357b878a\",\"subtype\":\"Figure\",\"type\":\"Plot\"}},\"id\":\"ba082ded-eccc-4882-9cd0-88e0b82b7954\",\"type\":\"WheelZoomTool\"},{\"attributes\":{\"axis_label\":\"Episode Reward\",\"formatter\":{\"id\":\"b63542e5-b1ee-447f-afb5-a07a43d8e551\",\"type\":\"BasicTickFormatter\"},\"plot\":{\"id\":\"b06289b8-b774-4a8b-b282-5e69357b878a\",\"subtype\":\"Figure\",\"type\":\"Plot\"},\"ticker\":{\"id\":\"942375d1-5af6-48d1-8fab-bc03b97feb87\",\"type\":\"BasicTicker\"}},\"id\":\"acd65a24-6ff4-4f17-a19b-19e751f03a1c\",\"type\":\"LinearAxis\"},{\"attributes\":{\"data_source\":{\"id\":\"850dab6b-f3a3-4fbe-8679-94ffd2e2f4f5\",\"type\":\"ColumnDataSource\"},\"glyph\":{\"id\":\"513e544d-2033-40ed-bfdf-2fb8e866250b\",\"type\":\"Patch\"},\"hover_glyph\":null,\"nonselection_glyph\":{\"id\":\"e7260f56-8deb-4f8b-a22f-1e929db18670\",\"type\":\"Patch\"},\"selection_glyph\":null},\"id\":\"ce4a4e90-1723-4943-be9b-300fe30feb1b\",\"type\":\"GlyphRenderer\"},{\"attributes\":{\"label\":{\"value\":\"Double Beta 0.0001\"},\"renderers\":[{\"id\":\"2acb2cd9-d6f0-4375-9f96-b54e4bd04fcd\",\"type\":\"GlyphRenderer\"}]},\"id\":\"40e80467-a1d9-4686-95b9-e7be04dbf70f\",\"type\":\"LegendItem\"},{\"attributes\":{\"plot\":{\"id\":\"b06289b8-b774-4a8b-b282-5e69357b878a\",\"subtype\":\"Figure\",\"type\":\"Plot\"}},\"id\":\"e392799c-e9f6-4619-8f0a-c8155f308baf\",\"type\":\"SaveTool\"},{\"attributes\":{\"label\":{\"value\":\"Double Beta 0.001\"},\"renderers\":[{\"id\":\"0bea91cc-e725-4754-8a98-beb70ffacdad\",\"type\":\"GlyphRenderer\"}]},\"id\":\"3797a542-af05-43ab-b33a-43e82af521ec\",\"type\":\"LegendItem\"},{\"attributes\":{\"line_alpha\":{\"value\":0.1},\"line_color\":{\"value\":\"#1f77b4\"},\"line_width\":{\"value\":2},\"x\":{\"field\":\"x\"},\"y\":{\"field\":\"y\"}},\"id\":\"17ba4c5d-aab7-4d30-811a-519ec342a225\",\"type\":\"Line\"},{\"attributes\":{},\"id\":\"a07dca9d-b0fe-412f-9c52-125cb6d4de11\",\"type\":\"ToolEvents\"},{\"attributes\":{\"overlay\":{\"id\":\"f51f98db-507a-4431-90e9-27e484318b5e\",\"type\":\"BoxAnnotation\"},\"plot\":{\"id\":\"b06289b8-b774-4a8b-b282-5e69357b878a\",\"subtype\":\"Figure\",\"type\":\"Plot\"}},\"id\":\"81ebae36-acdd-4e5e-a048-b29444f8d6fb\",\"type\":\"BoxZoomTool\"},{\"attributes\":{\"plot\":{\"id\":\"b06289b8-b774-4a8b-b282-5e69357b878a\",\"subtype\":\"Figure\",\"type\":\"Plot\"},\"ticker\":{\"id\":\"0b7ebbf1-c9dc-4788-ad7a-cb1379c8244b\",\"type\":\"BasicTicker\"}},\"id\":\"62658d80-6357-459a-a949-f21ad0179c40\",\"type\":\"Grid\"},{\"attributes\":{\"fill_alpha\":{\"value\":0.1},\"fill_color\":{\"value\":\"#1f77b4\"},\"line_alpha\":{\"value\":0.1},\"line_color\":{\"value\":\"#1f77b4\"},\"x\":{\"field\":\"x\"},\"y\":{\"field\":\"y\"}},\"id\":\"439892fe-679b-4293-98ab-b75f2ca1aca5\",\"type\":\"Patch\"},{\"attributes\":{\"callback\":null},\"id\":\"918db5c5-feea-4e54-bb21-6f38e9e3fb6f\",\"type\":\"DataRange1d\"},{\"attributes\":{\"plot\":{\"id\":\"b06289b8-b774-4a8b-b282-5e69357b878a\",\"subtype\":\"Figure\",\"type\":\"Plot\"}},\"id\":\"d5fb30ae-195c-4e16-83f1-0d066e22587f\",\"type\":\"ResetTool\"},{\"attributes\":{\"data_source\":{\"id\":\"b0e8f357-d590-4a2b-b8ed-d5d7eed215c9\",\"type\":\"ColumnDataSource\"},\"glyph\":{\"id\":\"c47843f7-f7b0-40af-ac38-0632ace9fe09\",\"type\":\"Patch\"},\"hover_glyph\":null,\"nonselection_glyph\":{\"id\":\"439892fe-679b-4293-98ab-b75f2ca1aca5\",\"type\":\"Patch\"},\"selection_glyph\":null},\"id\":\"d1a60090-8a02-4b31-a0cc-00aee54725c6\",\"type\":\"GlyphRenderer\"},{\"attributes\":{\"callback\":null,\"column_names\":[\"x\",\"y\"],\"data\":{\"x\":[0,1000,2000,3000,4000,5000,6000,7000,8000,9000,10000,11000,12000,13000,14000,15000,16000,17000,18000,19000,20000,21000,22000,23000,24000,25000,26000,27000,28000,29000,30000,31000,32000,33000,34000,35000,36000,37000,38000,39000,40000,41000,42000,43000,44000,45000,46000,47000,48000,49000,50000,51000,52000,53000,54000,55000,56000,57000,58000,59000,60000,61000,62000,63000,64000,65000,66000,67000,68000,69000,70000,71000,72000,73000,74000,75000,76000,77000,78000,79000,80000,81000,82000,83000,84000,85000,86000,87000,88000,89000,90000,91000,92000,93000,94000,95000,96000,97000,98000,99000,100000,101000,102000,103000,104000,105000,106000,107000,108000,109000,110000,111000,112000,113000,114000,115000,116000,117000,118000,119000,120000,121000,122000,123000,124000,125000,126000,127000,128000,129000,130000,131000,132000,133000,134000,135000,136000,137000,138000,139000,140000,141000,142000,143000,144000,145000,146000,147000,148000,149000,150000,151000,152000,153000,154000,155000,156000,157000,158000,159000,160000,161000,162000,163000,164000,165000,166000,167000,168000,169000,170000,171000,172000,173000,174000,175000,176000,177000,178000,179000,180000,181000,182000,183000,184000,185000,186000,187000,188000,189000,190000,191000,192000,193000,194000,195000,196000,197000,198000,199000,200000,201000,202000,203000,204000,205000,206000,207000,208000,209000,210000,211000,212000,213000,214000,215000,216000,217000,218000,219000,220000,221000,222000,223000,224000,225000,226000,227000,228000,229000,230000,231000,232000,233000,234000,235000,236000,237000,238000,239000,240000,241000,242000,243000,244000,245000,246000,247000,248000,249000,250000,251000,252000,253000,254000,255000,256000,257000,258000,259000,260000,261000,262000,263000,264000,265000,266000,267000,268000,269000,270000,271000,272000,273000,274000,275000,276000,277000,278000,279000,280000,281000,282000,283000,284000,285000,286000,287000,288000,289000,290000,291000,292000,293000,294000,295000,296000,297000,298000,299000,300000,301000,302000,303000,304000,305000,306000,307000,308000,309000,310000,311000,312000,313000,314000,315000,316000,317000,318000,319000,320000,321000,322000,323000,324000,325000,326000,327000,328000,329000,330000,331000,332000,333000,334000,335000,336000,337000,338000,339000,340000,341000,342000,343000,344000,345000,346000,347000,348000,349000,350000,351000,352000,353000,354000,355000,356000,357000,358000,359000,360000,361000,362000,363000,364000,365000,366000,367000,368000,369000,370000,371000,372000,373000,374000,375000,376000,377000,378000,379000,380000,381000,382000,383000,384000,385000,386000,387000,388000,389000,390000,391000,392000,393000,394000,395000,396000,397000,398000,399000,400000,401000,402000,403000,404000,405000,406000,407000,408000,409000,410000,411000,412000,413000,414000,415000,416000,417000,418000,419000,420000,421000,422000,423000,424000,425000,426000,427000,428000,429000,430000,431000,432000,433000,434000,435000,436000,437000,438000,439000,440000,441000,442000,443000,444000,445000,446000,447000,448000,449000,450000,451000,452000,453000,454000,455000,456000,457000,458000,459000,460000,461000,462000,463000,464000,465000,466000,467000,468000,469000,470000,471000,472000,473000,474000,475000,476000,477000,478000,479000,480000,481000,482000,483000,484000,485000,486000,487000,488000,489000,490000,491000,492000,493000,494000,495000,496000,497000,498000,499000,500000,501000,502000,503000,504000,505000,506000,507000,508000,509000,510000,511000,512000,513000,514000,515000,516000,517000,518000,519000,520000,521000,522000,523000,524000,525000,526000,527000,528000,529000,530000,531000,532000,533000,534000,535000,536000,537000,538000,539000,540000,541000,542000,543000,544000,545000,546000,547000,548000,549000,550000,551000,552000,553000,554000,555000,556000,557000,558000,559000,560000,561000,562000,563000,564000,565000,566000,567000,568000,569000,570000,571000,572000,573000,574000,575000,576000,577000,578000,579000,580000,581000,582000,583000,584000,585000,586000,587000,588000,589000,590000,591000,592000,593000,594000,595000,596000,597000,598000,599000,600000],\"y\":{\"__ndarray__\":\"AAAAAAAAAAAAAAAAAAAAAAAAAAAAAAAAAAAAAAAAAAAAAAAAAAAAAAAAAAAAAAAAAAAAAAAAAAAAAAAAAAAAAAAAAAAAAAAAAAAAAAAAAAAAAAAAAAAAAAAAAAAAAAAAAAAAAAAAAAAAAAAAAAAAAAAAAAAAAAAAAAAAAAAAAAAAAAAAAAAAAAAAAAAAAAAAAAAAAAAAAAAAAAAAAAAAAAAAAAAAAAAAAAAAAAAAAAAAAAAAAAAAAAAAAAAAAAAAAAAAAAAAAAAAAAAAAAAAAAAAAAAAAAAAAAAAAAAAAAAAAAAAAAAAAAAAAAAAAAAAAAAAAAAAAAAAAAAAAAAAAAAAAAAAAAAAAAAAAAAAAAAAAAAAAAAAAAAAAAAAAAAAAAAAAAAAAAAAAAAAAAAAAAAAAAAAAAAAAAAAAAAAAAAAAAAAAAAAAAAAAAAAAAAAAAAAAAAAAAAAAAAAAAAAAAAAAAAAAAAAAAAAAAAAAAAAAAAAAAAAAAAAAAAAAAAAAAAAAAAAAAAAAAAAAAAAAAAAAAAAAAAAAAAAAAAAAAAAAAAAAAAAAAAAAAAAAAAAAAAAAAAAAAAAAAAAAAAAAAAAAAAAAAAAAAAAAAAAAAAAAAAAAAAAAAAAAAAAAAAAAAAAAAAAAAAAAAAAAAAAAAAAAAAAAAAAAAAAAAAAAAAAAAAAAAAAAAAAAAAAAAAAAAAAAAAAAAAAAAAAAAAAAAAAAAAAAAAAAAAAAAAAAAAAAAAAAAAAAAAAAAAAAAAAAAAAAAAAAAAAAAAAAAAAAAAAAAAAAAAAAAAAAAAAAAAAAAAAAAAAAAAAAAAAAAAAAAAAAAAAAAAAAAAAAAAAAAAAAAAAAAAAAAAAAAAAAAAAAAAAAAAAAAAAAAAAAAAAAAAAAAAAAAAAAAAAAAAAAAAAAAAAAAAAAAAAAAAAAABAiQ9ZNL2IP/Cmy0LnjaI/kGtTb4Hsrj8YmO3NjaW1P2h6MeTa1Ls/XK46/RMCwT+En1yIuhnEP6yQfhNhMcc/1IGgngdJyj/8csIprmDNP87HtaFinM8/PwXAeAYNzT+vQspPqn3KPyCA1CZO7sc/kb3e/fFexT8B++jUlc/CP3I486s5QMA/xev6Bbthuz+mZg+0AkO2P4fhI2JKJLE/0LhwICQLqD8lXTP5ZpubP6giFcYWgnw/AAAAAAAAAAAAAAAAAAAAAAAAAAAAAAAAAAAAAAAAAAAAAAAAAAAAAAAAAAAAAAAAAAAAAAAAAAAAAAAAAAAAAAAAAAAAAAAAAAAAAAAAAAAAAAAAAAAAAAAAAAAAAAAAAAAAAAAAAAAAAAAAAAAAAAAAAAAAAAAAAAAAAAAAAAAAAAAAAAAAAAAAAAAAAAAAAAAAAAAAAAAAAAAAAAAAAAAAAAAAAAAAAAAAAAAAAAAAAAAAAAAAAAAAAAAAAAAAAAAAAAAAAAAAAAAAAAAAAAAAAAAAAAAAAAAAAAAAAAAAAAAAAAAAAAAAAAAAAAAAAAAAAAAAAAAAAAAAAAAAAAAAAAAAAAAAAAAAAAAAAAAAAAAAAAAAAAAAAAAAAAAAAAAAAAAAAAAAAAAAAAAAAAAAAAAAAAAAAAAAAAAAAAAAAAAAAAAAAAAAAAAAAAAAAAAAAAAAAAAAAAAAAAAAAAAAAAAAAAAAAAAAAAAAAAAAAAAAAAAAAAAAAAAAAAAAAAAAAAAAAAAAAAAAAAAAAAAAAAAAAAAAAAAAAAAAAAAAAAAAAAAAAAAAAAAAAAAAAAAAAAAAAAAAAAAAAAAAAAAAAAAAAAAAAAAAAAAAAAAAAAAAAAAAAAAAAAAAAAAAAAAAAAAAAAAAAAAAAAAAAAAAAAAAAAAAAAAAAAAAAAAAAAAAAAAAAAAAAAAAAAAAAAAAAAAAAAAAAAAAAAAAAAAAAAAAAAAAAAAAAAAAAAAAAAAAAAAAAAAAAAAAAAAAAAAAAAAAAAAAAAAAAAAAAAAAAAAAAAAAAAAAAAAAAAAAAAAAAAAAAAAAAAAAAAAAAAAAAAAAAAAAAAAAAAAAAAAAAAAAAAAAAAAAAAAAAAAAAAAAAAAAAAAAAAAAAAAAAAAAAAAAAAAAAAAAAAAAAAAAAAAAAAAAAAAAAAAAAAAAAAAAAAAAAAAAAAAAAAAAAAAAAAAAAAAAAAAAAAAAAAAAAAAAAAAAAAAAAAAAAAAAAAAAAAAAAAAAAAAAAAAAAAAAAAAAAAAAAAAAAAAAAAAAAAAAAAAAAAAAAAAAAAAAAAAAAAAAAAAAAAAAAAAANqerPBMflz9pvYBtTlexPwSR1gvY5rw/UDIW1TA7xD8dHEGk9QLKP+sFbHO6ys8/AAAAAAAA0D8AAAAAAADQPwAAAAAAANA/AAAAAAAA0D8AAAAAAADQPwAAAAAAANA/AAAAAAAA0D89vl7OUlzTP3p8vZyluNY/uDoca/gU2j+unlDKAzncPzaTb7a5Md0/qNB5jV2i2j8YDoRkARPYP4hLjjulg9U/+IiYEkn00j9qxqLp7GTQP7QHWoEhq8s/lYJuL2mMxj92/YLdsG3BP67wLhfxnbg/4syv5gDBrD/7CtKMRdOZP/7ZjxSRYXU/AAAAAAAAAAAAAAAAAAAAAAAAAAAAAAAAAAAAAAAAAAAAAAAAAAAAAAAAAAAAAAAAAAAAAAAAAAAAAAAAAAAAAAAAAAAAAAAAAAAAAAAAAAAAAAAAAAAAAAAAAAAAAAAAAAAAAAAAAAAAAAAAAAAAAAAAAAAAAAAAAAAAAAAAAAAAAAAAAAAAAAAAAAAAAAAAAAAAAAAAAAAAAAAAAAAAAGel9+NGao0/Dbz5KrUPpj9gx3pObGKyP7qweAf+vLk/Ck074MeLwD+3Qbq8EDnEP2M2OZlZ5sc/ECu4daKTyz+9HzdS60DPPxOgppat9c0/hN2wbVFmyz/0GrtE9dbIP2VYxRuZR8Y/1ZXP8jy4wz9G09nJ4CjBP20hyEEJM70/Tpzc71AUuD8vF/GdmPWyPyEkC5jAras/4xk09E9woT+XPnRBfcuMP1TXDT8fAH0/Eqj9n0qpnz8n7Ru4RgmsPyODHBD0HrQ/sg8rxEQ5uj8hzhy8yinAP2gUJBbzNsM/sForcBtExj/3oDLKQ1HJPz/nOSRsXsw/hy1BfpRrzz+wA+eMKO3NPyFB8WPMXcs/kn77OnDOyD8CvAUSFD/GP3P5D+m3r8M/4zYawFsgwT+o6Egu/yG9P4ljXdxGA7g/at5xio7ksj+XsgxxrIurP1moNc07TqE/bXh6pSxDjD8AAAAAAAAAAAAAAAAAAAAAAAAAAAAAAAAAAAAAAAAAAAAAAAAAAAAAAAAAAAAAAAAAAAAAAAAAAAAAAAAAAAAAAAAAAAAAAAAAAAAAAAAAAAAAAAAAAAAAAAAAAAAAAAAAAAAAAAAAAAAAAAAAAAAAAAAAAAAAAAAAAAAAAAAAAAAAAAAAAAAAAAAAAAAAAAAAAAAAAAAAAAAAAAAAAAAAAAAAAAAAAAAAAAAAAAAAAAAAAAAAAAAAAAAAAAAAAAAAAAAAAAAAAAAAAAAAAAAAAAAAAAAAAAAAAAAAAAAAAAAAAAAAAAAAAAAAAAAAAAAAAAAAAAAAAAAAAAAAAAAAAAAAAAAAAAAAAAAAAAAAAAAAAAAAAAAAAAAAAAAAAAAAAAAAAAAAAAAAAAAAAAAAAAAAAAAAAAAAAAAAAAAAAAAAAAAAAAAAAAAAAAAAAAAAAAAAAAAAAAAAAAAAAAAAAAAAAAAAAAAAAAAAAAAAAAAAAAAAAAAAAAAAAAAAAAAAAAAAAAAAAAAAAAAAAAAAAAAAAAAAAAAAAAAAAAAAAAAAAAAAAAAAAAAAAAAAAAAAAAAAAAAAAAAAAAAAAAAAAAAAAAAAAAAAAAAAAAAAAAAAAAAAAAAAAAAAAAAAAAAAAAAAAAAAAAAAAAAAAAAAAAAAAAAAAAAAAAAAAAAAAAAAAAAAAAAAAAAAAAAAAAAAAAAAAAAAAAAAAAAAAAAAAAAAAAAAAAAAAAAAAAAAAAAAAAAAAAAAAAAAAAAAAAAAAAAAAAAAAAAAAAAAAAAAAAAAAAAAAAAAAAAAAAAAAAAAAAAAAAAAAAAAAAAAAAAAAAAAAAAAAAAAAAAAAAAAAAAAAAAAAAAAAAAAAAAAAAAAAAAAAAAAAAAAAAAAAAAAAAAAAAAAAAAAAAAAAAAAAAAAAAAAAAAAAAAAAAAAAAAAAAAAAAAAAAAAAAAAAAAAAAAAAAAAAAAAAAAAAAAAAAAAAAAAAAAAAAAAAAAAAAAAAAAAAAAAAAAAAAAAAAAAAAAAAAAAAAAAAAAAAAAAAAAAAAAAAAAAAAAAAAAAAAAAAAAAAAAAAAAAAAAAAAAAAAAAAAAAAAAAAAAAAAAAAAAAAAAAAAAAAAAAAAAAAAAAAAAAAAAAAAAAAAAAAAAAAAAAAAAAAAAAAAAAAAAAAAAAAAAAAAAAAAAAAAAAAAAAAAAAAAAAAAAAAAAAAAAAAAAAAAAAAAAAAAAAAAAAAAAAAAAAAAAAAAAAAAAAAAAAAAAAAAAAAAAAAAAAAAAAAAAAAAAAAAAAAAAAAAAAAAAAAAAAAAAAAAAAAAAAAAAAAAAAAAAAAAAAAAAAAAAAAAAAAAAAAAAAAAAAAAAAAAAAAAAAAAAAAAAAAAAAAAAAAAAAAAAAAAAAAAAAAAAAAAAAAAAAAAAAAAAAAAAAAAAAAAAAAAAAAAAAAAAAAAAAAAAAAAAAAAAAAAAAAAAAAAAAAAAAAAAAAAAAAAAAAAAAAAAAAAAAAAAAAAAAAAAAAAAAAAAAAAAAAAAAAAAAAAAAAAAAAAAAAAAAAAAAAAAAAAAAAAAAAAAAAAAAAAAAAAAAAAAAAAAAAAAAAAAAAAAAAAAAAAAAAAAAAAAAAAAAAAAAAAAAAAAAAAAAAAAAAAAAAAAAAAAAAAAAAAAAAAAAAAAAAAAAAAAAAAAAAAAAAAAAAAAAAAAAAAAAAAAAAAAAAAAAAAAAAAAAAAAAAAAAAAAAAAAAAAAAAAAAAAAAAAAAAAAAAAAAAAAAAAAAAAAAAAAAAAAAAAAAAAAAAAAAAAAAAAAAAAAAAAAAAAAAAAAAAAAAAAAAAAAAAAAAAAAAAAAAAAAAAAAAAAAAAAAAAAAAAAAAAAAAAAAAAAAAAAAAAAAAAAAAAAAAAAAAAAAAAAAAAAAAAAAAAAAAAAAAAAAAAAAAAAAAAAAAAAAAAAAAAAAAAAAAAAAAAAAAAAAAAAAAAAAAAAAAAAAAAAAAAAAAAAAAAAAAAAAAAAAAAAAAAAAAAAAAAAAAAAAAAAAAAAAAAAAAAAAAAAAAAAAAAAAAAAAAAAAAAAAAAAAAAAAAAAAAAAAAAAAAAAAAAAAAAAAAAAAAAAAAAAAAAAAAAAAAAAAAAAAAAAAAAAAAAAAAAAAAAAAAAAAAAAAAAAAAAAAAAAAAAAAAAAAAAAAAAAAAAAAAAAAAAAAAAAAAAAAAAAAAAAAAAAAAAAAAAAAAAAAAAAAAAAAAAAAAAAAAAAAAAAAAAAAAAAAAAAAAAAAAAAAAAAAAAAAAAAAAAAAAAAAAAAAAAAAAAAAAAAAAAAAAAAAAAAAAAAAAAAAAAAAAAAAAAAAAAAAAAAAAAAAAAAAAAAAAAAAAAAAAAAAAAAAAAAAAAAAAAAAAAAAAAAAAAAAAAAAAAAAAAAAAAAAAAAAAAAAAAAAAAAAAAAAAAAAAAAAAAAAAAAAAAAAAAAAAAAAAAAAAAAAAAAAAAAAAAAAAAAAAAAAAAAAAAAAAAAAAAAAAAAAAAAAAAAAAAAAAAAAAAAAAAAAAAAAAAAAAAAAAAAAAAAAAAAAAAAAAAAAAAAAAAAAAAAAAAAAAAAAAAAAAAAAAAAAAAAAAAAAAAAAAAAAAAAAAAAAAAAAAAAAAAAAAAAAAAAAAAAAAAAAAAAAAAAAAAAAAAAAAAAAAAAAAAAAAAAAAAAAAAAAAAAAAAAAAAAAAAAAAAAAAAAAAAAAAAAAAAAAAAAAAAAAAAAAAAAAAAAAAAAAAAAAAAAAAAAAAAAAAAAAAAAAAAAAAAAAAAAAAAAAAAAAAAAAAAAAAAAAAAAAAAAAAAAAAAAAAAAAAAAAAAAAAAAAAAAAAAAAAAAAAAAAAAAAAAAAAAAAAAAAAAAAAAAAAAAAAAAAAAAAAAAAAAAAAAAAAAAAAAAAAAAAAAAAAAAAAAAAAAAAAAAAAAAAAAAAAAAAAAAAAAAAAAAAAAAAAAAAAAAAAAAAn0JaC9PqMP/Y95B5uW6I/4sciHR94rT/nqLANaEq0P97tz4zA2Lk/1DLvCxlnvz/lO4fFuHrCP2DeFgXlQcU/24CmRBEJyD9WIzaEPdDKP9HFxcNpl80/1Q5/Tdaozz9FTIkkehnNP7aJk/sdiso/Jsed0sH6xz8=\",\"dtype\":\"float64\",\"shape\":[601]}}},\"id\":\"1c6ef0c5-0626-4563-be7f-928544cfdfd3\",\"type\":\"ColumnDataSource\"},{\"attributes\":{\"line_alpha\":{\"value\":0.1},\"line_color\":{\"value\":\"#1f77b4\"},\"line_width\":{\"value\":2},\"x\":{\"field\":\"x\"},\"y\":{\"field\":\"y\"}},\"id\":\"e2b814a9-bdb6-499d-8645-ae1155b51852\",\"type\":\"Line\"},{\"attributes\":{\"plot\":null,\"text\":\"Med Maze 10 Set Replay\"},\"id\":\"ee9839b9-41e8-40e8-a9ce-c89d517be96a\",\"type\":\"Title\"},{\"attributes\":{\"callback\":null,\"column_names\":[\"x\",\"y\"],\"data\":{\"x\":[0,1000,2000,3000,4000,5000,6000,7000,8000,9000,10000,11000,12000,13000,14000,15000,16000,17000,18000,19000,20000,21000,22000,23000,24000,25000,26000,27000,28000,29000,30000,31000,32000,33000,34000,35000,36000,37000,38000,39000,40000,41000,42000,43000,44000,45000,46000,47000,48000,49000,50000,51000,52000,53000,54000,55000,56000,57000,58000,59000,60000,61000,62000,63000,64000,65000,66000,67000,68000,69000,70000,71000,72000,73000,74000,75000,76000,77000,78000,79000,80000,81000,82000,83000,84000,85000,86000,87000,88000,89000,90000,91000,92000,93000,94000,95000,96000,97000,98000,99000,100000,101000,102000,103000,104000,105000,106000,107000,108000,109000,110000,111000,112000,113000,114000,115000,116000,117000,118000,119000,120000,121000,122000,123000,124000,125000,126000,127000,128000,129000,130000,131000,132000,133000,134000,135000,136000,137000,138000,139000,140000,141000,142000,143000,144000,145000,146000,147000,148000,149000,150000,151000,152000,153000,154000,155000,156000,157000,158000,159000,160000,161000,162000,163000,164000,165000,166000,167000,168000,169000,170000,171000,172000,173000,174000,175000,176000,177000,178000,179000,180000,181000,182000,183000,184000,185000,186000,187000,188000,189000,190000,191000,192000,193000,194000,195000,196000,197000,198000,199000,200000,201000,202000,203000,204000,205000,206000,207000,208000,209000,210000,211000,212000,213000,214000,215000,216000,217000,218000,219000,220000,221000,222000,223000,224000,225000,226000,227000,228000,229000,230000,231000,232000,233000,234000,235000,236000,237000,238000,239000,240000,241000,242000,243000,244000,245000,246000,247000,248000,249000,250000,251000,252000,253000,254000,255000,256000,257000,258000,259000,260000,261000,262000,263000,264000,265000,266000,267000,268000,269000,270000,271000,272000,273000,274000,275000,276000,277000,278000,279000,280000,281000,282000,283000,284000,285000,286000,287000,288000,289000,290000,291000,292000,293000,294000,295000,296000,297000,298000,299000,300000,301000,302000,303000,304000,305000,306000,307000,308000,309000,310000,311000,312000,313000,314000,315000,316000,317000,318000,319000,320000,321000,322000,323000,324000,325000,326000,327000,328000,329000,330000,331000,332000,333000,334000,335000,336000,337000,338000,339000,340000,341000,342000,343000,344000,345000,346000,347000,348000,349000,350000,351000,352000,353000,354000,355000,356000,357000,358000,359000,360000,361000,362000,363000,364000,365000,366000,367000,368000,369000,370000,371000,372000,373000,374000,375000,376000,377000,378000,379000,380000,381000,382000,383000,384000,385000,386000,387000,388000,389000,390000,391000,392000,393000,394000,395000,396000,397000,398000,399000,400000,401000,402000,403000,404000,405000,406000,407000,408000,409000,410000,411000,412000,413000,414000,415000,416000,417000,418000,419000,420000,421000,422000,423000,424000,425000,426000,427000,428000,429000,430000,431000,432000,433000,434000,435000,436000,437000,438000,439000,440000,441000,442000,443000,444000,445000,446000,447000,448000,449000,450000,451000,452000,453000,454000,455000,456000,457000,458000,459000,460000,461000,462000,463000,464000,465000,466000,467000,468000,469000,470000,471000,472000,473000,474000,475000,476000,477000,478000,479000,480000,481000,482000,483000,484000,485000,486000,487000,488000,489000,490000,491000,492000,493000,494000,495000,496000,497000,498000,499000,500000,501000,502000,503000,504000,505000,506000,507000,508000,509000,510000,511000,512000,513000,514000,515000,516000,517000,518000,519000,520000,521000,522000,523000,524000,525000,526000,527000,528000,529000,530000,531000,532000,533000,534000,535000,536000,537000,538000,539000,540000,541000,542000,543000,544000,545000,546000,547000,548000,549000,550000,551000,552000,553000,554000,555000,556000,557000,558000,559000,560000,561000,562000,563000,564000,565000,566000,567000,568000,569000,570000,571000,572000,573000,574000,575000,576000,577000,578000,579000,580000,581000,582000,583000,584000,585000,586000,587000,588000,589000,590000,591000,592000,593000,594000,595000,596000,597000,598000,599000,600000],\"y\":{\"__ndarray__\":\"AAAAAAAAAAAAAAAAAAAAAAAAAAAAAAAAAAAAAAAAAAAAAAAAAAAAAAAAAAAAAAAAAAAAAAAAAAAAAAAAAAAAAAAAAAAAAAAAAAAAAAAAAAAAAAAAAAAAAAAAAAAAAAAAAAAAAAAAAAAAAAAAAAAAAAAAAAAAAAAAAAAAAAAAAAAAAAAAAAAAAAAAAAAAAAAAAAAAAAAAAAAAAAAAAAAAAAAAAAAAAAAAAAAAAAAAAAAAAAAAAAAAAAAAAAAAAAAAAAAAAAAAAAAAAAAAAAAAAAAAAAAAAAAAAAAAAAAAAAAAAAAAAAAAAAAAAAAAAAAAAAAAAAAAAAAAAAAAAAAAAAAAAAAAAAAAAAAAAAAAAAAAAAAAAAAAAAAAAAAAAAAAAAAAAAAAAAAAAAAAAAAAAAAAAAAAAAAAAAAAAAAAAAAAAAAAAAAAAAAAAAAAAAAAAAAAAAAAAAAAAAAAAAAAAAAAAAAAAAAAAAAAAAAAAAAAAAAAAAAAAAAAAAAAAAAAAAAAAAAAAAAAAAAAAAAAAAAAAAAAAAAAAAAAAAAAAAAAAAAAAAAAAAAAAAAAAAAAAAAAAAAAAAAAAAAAAAAAAAAAAAAAAAAAAAAAAAAAAAAAAAAAAAAAAAAAAAAAAAAAAAAAAAAAAAAAAAAAAAAAAAAAAAAAAAAAAAAAAAAAAAAAAAAAAAAAAAAAAAAAAAAAAAAAAAAAAAAAAAAAAAAAAAAAAAAAAAAAAAAAAAAAAAAAAAAAAAAAAAAAAAAAAAAAAAAAAAAAAAAAAAAAAAAAAAAAAAAAAAAAAAAAAAAAAAAAAAAAAAAAAAAAAAAAAAAAAAAAAAAAAAAAAAAAAAAAAAAAAAAAAAAAAAAAAAAAAAAAAAAAAAAAAAAAAAAAAAAAAAAAAAAAAAAAAAAAAAAAAAAAAAAAAAAAAAAAAAAAAAAAAAAAAAAAAAAAAAAAAAAAAAAAAAAAAAAAAAAAAAAAAAAAAAAAAAAAAAAAAAAAAAAAAAAAAAAAAAAAAAAAAAAAAAAAAAAAAAAAAAAAAAAAAAAAAAAAAAAAAAAAAAAAAAAAAAAAAAAAAAAAAAAAAAAAAAAAAAAAAAAAAAAAAAAAAAAAAAAAAAAAAAAAAAAAAAAAAAAAAAAAAAAAAAAAAAAAAAAAAAAAAAAAAAAAAAAAAAAAAAAAAAAAAAAAAAAAAAAAAAAAAAAAAAAAAAAAAAAAAAAAAAAAAAAAAAAAAAAAAAAAAAAAAAAAAAAAAAAAAAAAAAAAAAAAAAAAAAAAAAAAAAAAAAAAAAAAAAAAAAAAAAAAAAAAAAAAAAAAAAAAAAAAAAAAAAAAAAAAAAAAAAAAAAAAAAAAAAAAAAAAAAAAAAAAAAAAAAAAAAAAAAAAAAAAAAAAAAAAAAAAAAAAAAAAAAAAAAAAAAAAAAAAAAAAAAAAAAAAAAAAAAAAAAAAAAAAAAAAAAAAAAAAAAAAAAAAAAAAAAAAAAAAAAAAAAAAAAAAAAAAAAAAAAAAAAAAAAAAAAAAAAAAAAAAAAAAAAAAAAAAAAAAAAAAAAAAAAAAAAAAAAAAAAAAAAAAAAAAAAAAAAAAAAAAAAAAAAAAAAAAAAAAAAAAAADQ9Z3v/R+gP9D1ne/9H7A/t/Bs5/wvuD/Q9Z3v/R/AP0NzhWv9J8Q/t/Bs5/wvyD8rblRj/DfMP2XHRiBe188/1gRR9wFIzT9HQlvOpbjKP7d/ZaVJKcg/KL1vfO2ZxT+Y+nlTkQrDPwk4hCo1e8A/8+ocA7LXuz/UZTGx+bi2P7XgRV9BmrE/Lbe0GhL3qD/eWbvtQnOdP8aKGkzD8IE/AAAAAAAAAAAAAAAAAAAAAAAAAAAAAAAAAAAAAAAAAAAAAAAAAAAAAAAAAAAAAAAAAAAAAAAAAAAAAAAAAAAAAAAAAAAAAAAAAAAAAAAAAAAAAAAAAAAAAAAAAAAAAAAAAAAAAAAAAAAAAAAAAAAAAAAAAAAAAAAAAAAAAAAAAAAAAAAAAAAAAAAAAAAAAAAAAAAAAAAAAAAAAAAAAAAAAAAAAAAAAAAAAAAAAAAAAAAAAAAAAAAAAAAAAAAAAAAAAAAAAAAAAAAAAAAAAAAAAAAAAAAAAAAAAAAAAAAAAAAAAAAAAAAAAAAAAAAAAAAAAAAAAAAAAAAAAAAAAAAAAAAAAAAAAAAAAAAAAAAAAAAAAAAAAAAAAAAAAAAAAAAAAAAAAAAAAAAAAAAAAAAAAAAAAAAAAAAAAAAAAAAAAAAAAAAAAAAAAAAAAAAAAAAAAAAAAAAAAAAAAAAAAAAAAAAAAAAAAAAAAAAAAAAAAAAAAAAAAAAAAAAAAAAAAAAAAAAAAAAAAAAAAAAAAAAAAAAAAAAAAAAAAAAAAAAAAAAAAAAAAAAAAAAAAAAAAAAAAAAAAAAAAAAAAAAAAAAAAAAAAAAAAAAAAAAAAAAAAAAAAAAAAAAAAAAAAAAAAAAAAAAAAAAAAAAAAAAAAAAAAAAAAAAAAAAAAAAAAAAAAAAAAAAAAAAAAAAAAAAAAAAAAAAAAAAAAAAAAAAAAAAAAAAAAAAAAAAAAAAAAAAAAAAAAAAAAAAAAAAAAAAAAAAAAAAAAAAAAAAAAAAAAAAAAAAAAAAAAAAAAAAAAAAAAAAAAAAAAAAAAAAAAAAAAAAAAAAAAAAAAAAAAAAAAAAAAAAAAAAAAAAAAAAAAAAAAAAAAAAAAAAAAAAAAAAAAAAAAAAAAAAAAAAAAAAAAAAAAAAAAAAAAAAAAAAAAAAAAAAAAAAAAAAAAAAAAAAAAAAAAAAAAAAAAAAAAAAAAAAAAPM8z/M8z4c/t23btm3boT8wDMMwDMOtP1VVVVVV1bQ/kiRJkiTJuj/neZ7neV7AP4ZhGIZhWMM/JEmSJElSxj/DMAzDMEzJP2EYhmEYRsw/AAAAAABAzz8AAAAAAADQP////////88/AAAAAAAA0D8AAAAAAADQP////////88/AAAAAAAA0D8AAAAAAADQP61WJvxSP88/HZQw0/avzD+O0TqqmiDKP/4ORYE+kcc/b0xPWOIBxT/fiVkvhnLCP6COxwxUxr8/amp6DNNwvT8cp8tdieS9P87jHK8/WL4/gSBuAPbLvj8zXb9RrD+/P+WZEKNis78/6HWFkucbwj/Q1iPkHuXEP7k3wjVWrsc/oZhgh413yj+K+f7YxEDNP4MclDDT9s8/81meB3dnzT9kl6jeGtjKP9XUsrW+SMg/RRK9jGK5xT+2T8djBirDPyaN0TqqmsA/LpW3I5wWvD8PEMzR4/e2P/CK4H8r2bE/owvqW+Z0qT/KAiZw626eP53c71AU6IM/AAAAAAAAAAAAAAAAAAAAAAAAAAAAAAAAAAAAAAAAAAAAAAAAAAAAAAAAAAAAAAAAAAAAAAAAAAAAAAAAAAAAAAAAAAAAAAAAAAAAAAAAAAAAAAAAAAAAAAAAAAAAAAAAAAAAAAAAAAAAAAAAAAAAAIuq036F354/i6rTfoXfrj/pvx4fpCe3P4uq036F374/l0pEb7NLwz/pvx4fpCfHPzo1+c6UA8s/i6rTfoXfzj8AAAAAAADQPwAAAAAAANA/AAAAAAAA0D8AAAAAAADQPwAAAAAAANA/TkpBt5c0zj++h0uOO6XLPy/FVWXfFck/oAJgPIOGxj8QQGoTJ/fDP4F9dOrKZ8E/43X9gt2wvT/E8BExJZK4P6VrJt9sc7M/DM11GmmprD/Pwp52+GuiPyJxj6UPXZA/AAAAAAAAAAAAAAAAAAAAAAAAAAAAAAAAAAAAAAAAAAAAAAAAAAAAAAAAAAAAAAAAAAAAAAAAAAAAAAAAAAAAAAAAAAAAAAAAAAAAAAAAAAAAAAAAAAAAAAAAAAAAAAAAAAAAAAAAAAAAAAAAAAAAAAAAAAAAAAAAAAAAAAAAAAAAAAAAAAAAAAAAAAAAAAAAAAAAAAAAAAAAAAAAAAAAAAAAAAAAAAAAAAAAAAAAAAAAAAAAAAAAAAAAAAAAAAAAAAAAAAAAAAAAAAAAAAAAAAAAAAAAAAAAAAAAAAAAAAAAAAAAAAAAAAAAAAAAAAAAAAAAAAAAAAAAAAAAAAAAAAAAAAAAAAAAAAAAAAAAAAAAAAAAAAAAAAAAAAAAAAAAAAAAAAAAAAAAAAAAAAAAAAAAAAAAAAAAAAAAAAAAAAAAAAAAAAAAAAAAAAAAAAAAAAAAAAAAAAAAAAAAAAAAAAAAAAAAAAAAAAAAAAAAAAAAAAAAAAAAAAAAAAAAAAAAAAAAAAAAAAAAAAAAAAAAAAAAAAAAAAAAAAAAAAAAAAAAAAAAAAAAAAAAAAAAAAAAAAAAAAAAAAAAAAAAAAAAAAAAAAAAAAAAAAAAAAAAAAAAAAAAAAAAAAAAAAAAAAAAAAAAAAAAAAAAAAAAAAAAAAAAAAAAAAAAAAAAAAAAAAAAAAAAAAAAAAAAAAAAAAAAAAAAAAAAAAAAAAAAAAAAAAAAAAAAAAAAAAAAAAAAAAAAAAAAAAAAAAAAAAAAAAAAAAAAAAAAAAAAAAAAAAAAAAAAAAAAAAAAAAAAAAAAAAAAAAAAAAAAAAAAAAAAAAAAAAAAAAAAAAAAAAAAAAAAAAAAAAAAAAAAAAAAAAAAAAAAAAAAAAAAAAAAAAAAAAAAAAAAAAAAAAAAAAAAAAAAAAAAAAAAAAAAAAAAAAAAAAAAAAAAAAAAAAAAAAAAAAAAAAAAAAAAAAAAAAAAAAAAAAAAAAAAAAAAAAAAAAAAAAAAAAAAAAAAAAAAAAAAAAAAAAAAAAAAAAAAAAAAAAAAAAAAAAAAAAAAAAAAAAAAAAAAAAAAAAAAAAAAAAAAAAAAAAAAAAAAAAAAAAAAAAAAAAAAAAAAAAAAAAAAAAAAAAAAAAAAAAAAAAAAAAAAAAAAAAAAAAAAAAAAAAAAAAAAAAAAAAAAAAAAAAAAAAAAAAAAAAAAAAAAAAAAAAAAAAAAAAAAAAAAAAAAAAAAAAAAAAAAAAAAAAAAAAAAAAAAAAAAAAAAAAAAAAAAAAAAAAAAAAAAAAAAAAAAAAAAAAAAAAAAAAAAAAAAAAAAAAAAAAAAAAAAAAAAAAAAAAAAAAAAAAAAAAAAAAAAAAAAAAAAAAAAAAAAAAAAAAAAAAAAAAAAAAAAAAAAAAAAAAAAAAAAAAAAAAAAAAAAAAAAAAAAAAAAAAAAAAAAAAAAAAAAAAAAAAAAAAAAAAAAAAAAAAAAAAAAAAAAAAAAAAAAAAAAAAAAAAAAAAAAAAAAAAAAAAAAAAAAAAAAAAAAAAAAAAAAAAAAAAAAAAAAAAAAAAAAAAAAAAAAAAAAAAAAAAAAAAAAAAAAAAAAAAAAAAAAAAAAAAAAAAAAAAAAAAAAAAAAAAAAAAAAAAAAAAAAAAAAAAAAAAAAAAAAAAAAAAAAAAAAAAAAAAAAAAAAAAAAAAAAAAAAAAAAAAAAAAAAAAAAAAAAAAAAAAAAAAAAAAAAAAAAAAAAAAAAAAAAAAAAAAAAAAAAAAAAAAAAAAAAAAAAAAAAAAAAAAAAAAAAAAAAAAAAAAAAAAAAAAAAAAAAAAAAAAAAAAAAAAAAAAAAAAAAAAAAAAAAAAAAAAAAAAAAAAAAAAAAAAAAAAAAAAAAAAAAAAAAAAAAAAAAAAAAAAAAAAAAAAAAAAAAAAAAAAAAAAAAAAAAAAAAAAAAAAAAAAAAAAAAAAAAAAAAAAAAAAAAAAAAAAAAAAAAAAAAAAAAAAAAAAAAAAAAAAAAAAAAAAAAAAAAAAAAAAAAAAAAAAAAAAAAAAAAAAAAAAAAAAAAAAAAAAAAAAAAAAAAAAAAAAAAAAAAAAAAAAAAAAAAAAAAAAAAAAAAAAAAAAAAAAAAAAAAAAAAAAAAAAAAAAAAAAAAAAAAAAAAAAAAAAAAAAAAAAAAAAAAAAAAAAAAAAAAAAAAAAAAAAAAAAAAAAAAAAAAAAAAAAAAAAAAAAAAAAAAAAAAAAAAAAAAAAAAAAAAAAAAAAAAAAAAAAAAAAAAAAAAAAAAAAAAAAAAAAAAAAAAAAAAAAAAAAAAAAAAAAAAAAAAAAAAAAAAAAAAAAAAAAAAAAAAAAAAAAAAAAAAAAAAAAAAAAAAAAAAAAAAAAAAAAAAAAAAAAAAAAAAAAAAAAAAAAAAAAAAAAAAAAAAAAAAAAAAAAAAAAAAAAAAAAAAAAAAAAAAAAAAAAAAAAAAAAAAAAAAAAAAAAAAAAAAAAAAAAAAAAAAAAAAAAAAAAAAAAAAAAAAAAAAAAAAAAAAAAAAAAAAAAAAAAAAAAAAAAAAAAAAAAAAAAAAAAAAAAAAAAAAAAAAAAAAAAAAAAAAAAAAAAAAAAAAAAAAAAAAAAAAAAAAAAAAAAAAAAAAAAAAAAAAAAAAAAAAAAAAAAAAAAAAAAAAAAAAAAAAAAAAAAAAAAA=\",\"dtype\":\"float64\",\"shape\":[601]}}},\"id\":\"e8add2dc-1375-4b65-99a4-cb6c17d738e2\",\"type\":\"ColumnDataSource\"},{\"attributes\":{\"data_source\":{\"id\":\"08aa9456-1212-4b03-ac86-2eaa2e76ee97\",\"type\":\"ColumnDataSource\"},\"glyph\":{\"id\":\"a9c109cc-a2c3-4053-ae00-826bad751cc8\",\"type\":\"Line\"},\"hover_glyph\":null,\"nonselection_glyph\":{\"id\":\"17ba4c5d-aab7-4d30-811a-519ec342a225\",\"type\":\"Line\"},\"selection_glyph\":null},\"id\":\"2acb2cd9-d6f0-4375-9f96-b54e4bd04fcd\",\"type\":\"GlyphRenderer\"},{\"attributes\":{\"line_color\":{\"value\":\"#e41a1c\"},\"line_width\":{\"value\":2},\"x\":{\"field\":\"x\"},\"y\":{\"field\":\"y\"}},\"id\":\"f63d2a57-e531-4fd0-80fd-24eb567e019f\",\"type\":\"Line\"},{\"attributes\":{\"label\":{\"value\":\"Beta 0.0001\"},\"renderers\":[{\"id\":\"b0d88555-9f52-497a-9d40-eab783a9607d\",\"type\":\"GlyphRenderer\"}]},\"id\":\"1312da83-6d62-4ab7-9f08-6cce60f12ffb\",\"type\":\"LegendItem\"},{\"attributes\":{\"line_color\":{\"value\":\"#377eb8\"},\"line_width\":{\"value\":2},\"x\":{\"field\":\"x\"},\"y\":{\"field\":\"y\"}},\"id\":\"a4e9b8b3-b2f0-4026-99f8-b1087ead82f8\",\"type\":\"Line\"},{\"attributes\":{\"active_drag\":\"auto\",\"active_scroll\":\"auto\",\"active_tap\":\"auto\",\"tools\":[{\"id\":\"d33bc557-e8ff-472f-941b-d44123edb7b9\",\"type\":\"PanTool\"},{\"id\":\"ba082ded-eccc-4882-9cd0-88e0b82b7954\",\"type\":\"WheelZoomTool\"},{\"id\":\"81ebae36-acdd-4e5e-a048-b29444f8d6fb\",\"type\":\"BoxZoomTool\"},{\"id\":\"e392799c-e9f6-4619-8f0a-c8155f308baf\",\"type\":\"SaveTool\"},{\"id\":\"d5fb30ae-195c-4e16-83f1-0d066e22587f\",\"type\":\"ResetTool\"},{\"id\":\"9a6f7427-ef41-4f60-8d12-373291b2a85b\",\"type\":\"HelpTool\"}]},\"id\":\"a9abc30d-3b4a-437c-a61d-0868093b2414\",\"type\":\"Toolbar\"},{\"attributes\":{\"data_source\":{\"id\":\"e8add2dc-1375-4b65-99a4-cb6c17d738e2\",\"type\":\"ColumnDataSource\"},\"glyph\":{\"id\":\"a4e9b8b3-b2f0-4026-99f8-b1087ead82f8\",\"type\":\"Line\"},\"hover_glyph\":null,\"nonselection_glyph\":{\"id\":\"45cc71de-8580-4ea7-b00c-7fcc9a100c4d\",\"type\":\"Line\"},\"selection_glyph\":null},\"id\":\"819e8ed9-147d-4549-afc0-937a514e3094\",\"type\":\"GlyphRenderer\"}],\"root_ids\":[\"b06289b8-b774-4a8b-b282-5e69357b878a\"]},\"title\":\"Bokeh Application\",\"version\":\"0.12.4\"}};\n",
       "            var render_items = [{\"docid\":\"754f8a3e-9029-4cbf-b7fe-a656bbbdd68a\",\"elementid\":\"93196d11-143c-4470-b49a-52b8c1f0821a\",\"modelid\":\"b06289b8-b774-4a8b-b282-5e69357b878a\"}];\n",
       "            \n",
       "            Bokeh.embed.embed_items(docs_json, render_items);\n",
       "          };\n",
       "          if (document.readyState != \"loading\") fn();\n",
       "          else document.addEventListener(\"DOMContentLoaded\", fn);\n",
       "        })();\n",
       "      },\n",
       "      function(Bokeh) {\n",
       "      }\n",
       "    ];\n",
       "  \n",
       "    function run_inline_js() {\n",
       "      \n",
       "      if ((window.Bokeh !== undefined) || (force === true)) {\n",
       "        for (var i = 0; i < inline_js.length; i++) {\n",
       "          inline_js[i](window.Bokeh);\n",
       "        }if (force === true) {\n",
       "          display_loaded();\n",
       "        }} else if (Date.now() < window._bokeh_timeout) {\n",
       "        setTimeout(run_inline_js, 100);\n",
       "      } else if (!window._bokeh_failed_load) {\n",
       "        console.log(\"Bokeh: BokehJS failed to load within specified timeout.\");\n",
       "        window._bokeh_failed_load = true;\n",
       "      } else if (force !== true) {\n",
       "        var cell = $(document.getElementById(\"93196d11-143c-4470-b49a-52b8c1f0821a\")).parents('.cell').data().cell;\n",
       "        cell.output_area.append_execute_result(NB_LOAD_WARNING)\n",
       "      }\n",
       "  \n",
       "    }\n",
       "  \n",
       "    if (window._bokeh_is_loading === 0) {\n",
       "      console.log(\"Bokeh: BokehJS loaded, going straight to plotting\");\n",
       "      run_inline_js();\n",
       "    } else {\n",
       "      load_libs(js_urls, function() {\n",
       "        console.log(\"Bokeh: BokehJS plotting callback run at\", now());\n",
       "        run_inline_js();\n",
       "      });\n",
       "    }\n",
       "  }(this));\n",
       "</script>"
      ]
     },
     "metadata": {},
     "output_type": "display_data"
    },
    {
     "name": "stderr",
     "output_type": "stream",
     "text": [
      "/users/tabhid/.local/lib/python3.5/site-packages/bokeh/models/sources.py:81: BokehUserWarning: ColumnDataSource's columns must be of the same length\n",
      "  lambda: warnings.warn(\"ColumnDataSource's columns must be of the same length\", BokehUserWarning))\n",
      "/users/tabhid/.local/lib/python3.5/site-packages/bokeh/models/sources.py:81: BokehUserWarning: ColumnDataSource's columns must be of the same length\n",
      "  lambda: warnings.warn(\"ColumnDataSource's columns must be of the same length\", BokehUserWarning))\n",
      "/users/tabhid/.local/lib/python3.5/site-packages/bokeh/models/sources.py:81: BokehUserWarning: ColumnDataSource's columns must be of the same length\n",
      "  lambda: warnings.warn(\"ColumnDataSource's columns must be of the same length\", BokehUserWarning))\n",
      "/users/tabhid/.local/lib/python3.5/site-packages/bokeh/models/sources.py:81: BokehUserWarning: ColumnDataSource's columns must be of the same length\n",
      "  lambda: warnings.warn(\"ColumnDataSource's columns must be of the same length\", BokehUserWarning))\n",
      "/users/tabhid/.local/lib/python3.5/site-packages/bokeh/models/sources.py:81: BokehUserWarning: ColumnDataSource's columns must be of the same length\n",
      "  lambda: warnings.warn(\"ColumnDataSource's columns must be of the same length\", BokehUserWarning))\n",
      "/users/tabhid/.local/lib/python3.5/site-packages/bokeh/models/sources.py:81: BokehUserWarning: ColumnDataSource's columns must be of the same length\n",
      "  lambda: warnings.warn(\"ColumnDataSource's columns must be of the same length\", BokehUserWarning))\n",
      "/users/tabhid/.local/lib/python3.5/site-packages/bokeh/models/sources.py:81: BokehUserWarning: ColumnDataSource's columns must be of the same length\n",
      "  lambda: warnings.warn(\"ColumnDataSource's columns must be of the same length\", BokehUserWarning))\n",
      "/users/tabhid/.local/lib/python3.5/site-packages/bokeh/models/sources.py:81: BokehUserWarning: ColumnDataSource's columns must be of the same length\n",
      "  lambda: warnings.warn(\"ColumnDataSource's columns must be of the same length\", BokehUserWarning))\n"
     ]
    },
    {
     "data": {
      "text/html": [
       "\n",
       "\n",
       "    <div class=\"bk-root\">\n",
       "        <div class=\"bk-plotdiv\" id=\"e1daf651-6025-4013-a057-12d6616c900f\"></div>\n",
       "    </div>\n",
       "<script type=\"text/javascript\">\n",
       "  \n",
       "  (function(global) {\n",
       "    function now() {\n",
       "      return new Date();\n",
       "    }\n",
       "  \n",
       "    var force = false;\n",
       "  \n",
       "    if (typeof (window._bokeh_onload_callbacks) === \"undefined\" || force === true) {\n",
       "      window._bokeh_onload_callbacks = [];\n",
       "      window._bokeh_is_loading = undefined;\n",
       "    }\n",
       "  \n",
       "  \n",
       "    \n",
       "    if (typeof (window._bokeh_timeout) === \"undefined\" || force === true) {\n",
       "      window._bokeh_timeout = Date.now() + 0;\n",
       "      window._bokeh_failed_load = false;\n",
       "    }\n",
       "  \n",
       "    var NB_LOAD_WARNING = {'data': {'text/html':\n",
       "       \"<div style='background-color: #fdd'>\\n\"+\n",
       "       \"<p>\\n\"+\n",
       "       \"BokehJS does not appear to have successfully loaded. If loading BokehJS from CDN, this \\n\"+\n",
       "       \"may be due to a slow or bad network connection. Possible fixes:\\n\"+\n",
       "       \"</p>\\n\"+\n",
       "       \"<ul>\\n\"+\n",
       "       \"<li>re-rerun `output_notebook()` to attempt to load from CDN again, or</li>\\n\"+\n",
       "       \"<li>use INLINE resources instead, as so:</li>\\n\"+\n",
       "       \"</ul>\\n\"+\n",
       "       \"<code>\\n\"+\n",
       "       \"from bokeh.resources import INLINE\\n\"+\n",
       "       \"output_notebook(resources=INLINE)\\n\"+\n",
       "       \"</code>\\n\"+\n",
       "       \"</div>\"}};\n",
       "  \n",
       "    function display_loaded() {\n",
       "      if (window.Bokeh !== undefined) {\n",
       "        document.getElementById(\"e1daf651-6025-4013-a057-12d6616c900f\").textContent = \"BokehJS successfully loaded.\";\n",
       "      } else if (Date.now() < window._bokeh_timeout) {\n",
       "        setTimeout(display_loaded, 100)\n",
       "      }\n",
       "    }\n",
       "  \n",
       "    function run_callbacks() {\n",
       "      window._bokeh_onload_callbacks.forEach(function(callback) { callback() });\n",
       "      delete window._bokeh_onload_callbacks\n",
       "      console.info(\"Bokeh: all callbacks have finished\");\n",
       "    }\n",
       "  \n",
       "    function load_libs(js_urls, callback) {\n",
       "      window._bokeh_onload_callbacks.push(callback);\n",
       "      if (window._bokeh_is_loading > 0) {\n",
       "        console.log(\"Bokeh: BokehJS is being loaded, scheduling callback at\", now());\n",
       "        return null;\n",
       "      }\n",
       "      if (js_urls == null || js_urls.length === 0) {\n",
       "        run_callbacks();\n",
       "        return null;\n",
       "      }\n",
       "      console.log(\"Bokeh: BokehJS not loaded, scheduling load and callback at\", now());\n",
       "      window._bokeh_is_loading = js_urls.length;\n",
       "      for (var i = 0; i < js_urls.length; i++) {\n",
       "        var url = js_urls[i];\n",
       "        var s = document.createElement('script');\n",
       "        s.src = url;\n",
       "        s.async = false;\n",
       "        s.onreadystatechange = s.onload = function() {\n",
       "          window._bokeh_is_loading--;\n",
       "          if (window._bokeh_is_loading === 0) {\n",
       "            console.log(\"Bokeh: all BokehJS libraries loaded\");\n",
       "            run_callbacks()\n",
       "          }\n",
       "        };\n",
       "        s.onerror = function() {\n",
       "          console.warn(\"failed to load library \" + url);\n",
       "        };\n",
       "        console.log(\"Bokeh: injecting script tag for BokehJS library: \", url);\n",
       "        document.getElementsByTagName(\"head\")[0].appendChild(s);\n",
       "      }\n",
       "    };var element = document.getElementById(\"e1daf651-6025-4013-a057-12d6616c900f\");\n",
       "    if (element == null) {\n",
       "      console.log(\"Bokeh: ERROR: autoload.js configured with elementid 'e1daf651-6025-4013-a057-12d6616c900f' but no matching script tag was found. \")\n",
       "      return false;\n",
       "    }\n",
       "  \n",
       "    var js_urls = [];\n",
       "  \n",
       "    var inline_js = [\n",
       "      function(Bokeh) {\n",
       "        (function() {\n",
       "          var fn = function() {\n",
       "            var docs_json = {\"1428e4aa-9b57-4bdd-b79c-ce31cb5e0743\":{\"roots\":{\"references\":[{\"attributes\":{\"label\":{\"value\":\"Beta 0.0001\"},\"renderers\":[{\"id\":\"d9fec2cf-0416-42fc-9da5-b2973be58aef\",\"type\":\"GlyphRenderer\"}]},\"id\":\"91767fdc-1fa1-4d06-b1a3-a6ad1daadc28\",\"type\":\"LegendItem\"},{\"attributes\":{\"fill_alpha\":{\"value\":0.1},\"fill_color\":{\"value\":\"#4daf4a\"},\"line_alpha\":{\"value\":0.1},\"line_color\":{\"value\":\"#4daf4a\"},\"x\":{\"field\":\"x\"},\"y\":{\"field\":\"y\"}},\"id\":\"dd554ac8-9a26-4124-bf0c-ee79555d2dc0\",\"type\":\"Patch\"},{\"attributes\":{\"fill_alpha\":{\"value\":0.1},\"fill_color\":{\"value\":\"#1f77b4\"},\"line_alpha\":{\"value\":0.1},\"line_color\":{\"value\":\"#1f77b4\"},\"x\":{\"field\":\"x\"},\"y\":{\"field\":\"y\"}},\"id\":\"1233e5ea-7365-415c-b8e6-4a02e16fdc91\",\"type\":\"Patch\"},{\"attributes\":{},\"id\":\"4f4b2ec3-9139-4db9-bf6e-c3cda3d19936\",\"type\":\"BasicTicker\"},{\"attributes\":{\"label\":{\"value\":\"Double Beta 0.0001\"},\"renderers\":[{\"id\":\"93da76b1-31b7-49a6-bb91-dde27467d71e\",\"type\":\"GlyphRenderer\"}]},\"id\":\"e9c8dbf9-e5aa-4597-bdd0-ed96017894ef\",\"type\":\"LegendItem\"},{\"attributes\":{\"fill_alpha\":{\"value\":0.1},\"fill_color\":{\"value\":\"#1f77b4\"},\"line_alpha\":{\"value\":0.1},\"line_color\":{\"value\":\"#1f77b4\"},\"x\":{\"field\":\"x\"},\"y\":{\"field\":\"y\"}},\"id\":\"77c09296-774b-4bc5-b70f-640af8953035\",\"type\":\"Patch\"},{\"attributes\":{\"callback\":null},\"id\":\"f69085a2-1bd3-4031-a7f7-2e94b9622a0e\",\"type\":\"DataRange1d\"},{\"attributes\":{\"data_source\":{\"id\":\"03eae59a-dd77-47e9-9a8d-3a4bef53b946\",\"type\":\"ColumnDataSource\"},\"glyph\":{\"id\":\"00ba3395-c017-4a8f-969e-e8ea98bf0a9a\",\"type\":\"Patch\"},\"hover_glyph\":null,\"nonselection_glyph\":{\"id\":\"77c09296-774b-4bc5-b70f-640af8953035\",\"type\":\"Patch\"},\"selection_glyph\":null},\"id\":\"673be7b1-b685-45b3-80ff-249c0e1f7d38\",\"type\":\"GlyphRenderer\"},{\"attributes\":{\"plot\":{\"id\":\"794af2d6-3b01-492f-b67f-ee07339e18db\",\"subtype\":\"Figure\",\"type\":\"Plot\"}},\"id\":\"161b4431-b4dc-4f3f-9fa3-d6e159c49a69\",\"type\":\"PanTool\"},{\"attributes\":{\"use_scientific\":false},\"id\":\"9b6cc6b6-dee6-42a8-8c3e-8e1964c8ad0a\",\"type\":\"BasicTickFormatter\"},{\"attributes\":{\"axis_label\":\"T\",\"formatter\":{\"id\":\"9b6cc6b6-dee6-42a8-8c3e-8e1964c8ad0a\",\"type\":\"BasicTickFormatter\"},\"plot\":{\"id\":\"794af2d6-3b01-492f-b67f-ee07339e18db\",\"subtype\":\"Figure\",\"type\":\"Plot\"},\"ticker\":{\"id\":\"d73c6702-0c0a-4c26-81d1-60ca5dbe00d1\",\"type\":\"BasicTicker\"}},\"id\":\"7095f1a7-60f1-45d9-a323-9a97334a7dce\",\"type\":\"LinearAxis\"},{\"attributes\":{\"dimension\":1,\"plot\":{\"id\":\"794af2d6-3b01-492f-b67f-ee07339e18db\",\"subtype\":\"Figure\",\"type\":\"Plot\"},\"ticker\":{\"id\":\"4f4b2ec3-9139-4db9-bf6e-c3cda3d19936\",\"type\":\"BasicTicker\"}},\"id\":\"e3aae444-2da7-4631-a402-e9ad59da9219\",\"type\":\"Grid\"},{\"attributes\":{},\"id\":\"d73c6702-0c0a-4c26-81d1-60ca5dbe00d1\",\"type\":\"BasicTicker\"},{\"attributes\":{\"fill_alpha\":{\"value\":0.1},\"fill_color\":{\"value\":\"#984ea3\"},\"line_alpha\":{\"value\":0.1},\"line_color\":{\"value\":\"#984ea3\"},\"x\":{\"field\":\"x\"},\"y\":{\"field\":\"y\"}},\"id\":\"00ba3395-c017-4a8f-969e-e8ea98bf0a9a\",\"type\":\"Patch\"},{\"attributes\":{\"data_source\":{\"id\":\"369594b3-b9b6-47dc-8be1-3b9f8fff70d3\",\"type\":\"ColumnDataSource\"},\"glyph\":{\"id\":\"3bfc1093-885e-4bd9-9e70-f49a04c1950b\",\"type\":\"Patch\"},\"hover_glyph\":null,\"nonselection_glyph\":{\"id\":\"1233e5ea-7365-415c-b8e6-4a02e16fdc91\",\"type\":\"Patch\"},\"selection_glyph\":null},\"id\":\"4b69592d-337d-4f95-8edd-02af102464c4\",\"type\":\"GlyphRenderer\"},{\"attributes\":{\"callback\":null,\"column_names\":[\"x\",\"y\"],\"data\":{\"x\":[0,1000,2000,3000,4000,5000,6000,7000,8000,9000,10000,11000,12000,13000,14000,15000,16000,17000,18000,19000,20000,21000,22000,23000,24000,25000,26000,27000,28000,29000,30000,31000,32000,33000,34000,35000,36000,37000,38000,39000,40000,41000,42000,43000,44000,45000,46000,47000,48000,49000,50000,51000,52000,53000,54000,55000,56000,57000,58000,59000,60000,61000,62000,63000,64000,65000,66000,67000,68000,69000,70000,71000,72000,73000,74000,75000,76000,77000,78000,79000,80000,81000,82000,83000,84000,85000,86000,87000,88000,89000,90000,91000,92000,93000,94000,95000,96000,97000,98000,99000,100000,101000,102000,103000,104000,105000,106000,107000,108000,109000,110000,111000,112000,113000,114000,115000,116000,117000,118000,119000,120000,121000,122000,123000,124000,125000,126000,127000,128000,129000,130000,131000,132000,133000,134000,135000,136000,137000,138000,139000,140000,141000,142000,143000,144000,145000,146000,147000,148000,149000,150000,151000,152000,153000,154000,155000,156000,157000,158000,159000,160000,161000,162000,163000,164000,165000,166000,167000,168000,169000,170000,171000,172000,173000,174000,175000,176000,177000,178000,179000,180000,181000,182000,183000,184000,185000,186000,187000,188000,189000,190000,191000,192000,193000,194000,195000,196000,197000,198000,199000,200000,201000,202000,203000,204000,205000,206000,207000,208000,209000,210000,211000,212000,213000,214000,215000,216000,217000,218000,219000,220000,221000,222000,223000,224000,225000,226000,227000,228000,229000,230000,231000,232000,233000,234000,235000,236000,237000,238000,239000,240000,241000,242000,243000,244000,245000,246000,247000,248000,249000,250000,251000,252000,253000,254000,255000,256000,257000,258000,259000,260000,261000,262000,263000,264000,265000,266000,267000,268000,269000,270000,271000,272000,273000,274000,275000,276000,277000,278000,279000,280000,281000,282000,283000,284000,285000,286000,287000,288000,289000,290000,291000,292000,293000,294000,295000,296000,297000,298000,299000,300000,301000,302000,303000,304000,305000,306000,307000,308000,309000,310000,311000,312000,313000,314000,315000,316000,317000,318000,319000,320000,321000,322000,323000,324000,325000,326000,327000,328000,329000,330000,331000,332000,333000,334000,335000,336000,337000,338000,339000,340000,341000,342000,343000,344000,345000,346000,347000,348000,349000,350000,351000,352000,353000,354000,355000,356000,357000,358000,359000,360000,361000,362000,363000,364000,365000,366000,367000,368000,369000,370000,371000,372000,373000,374000,375000,376000,377000,378000,379000,380000,381000,382000,383000,384000,385000,386000,387000,388000,389000,390000,391000,392000,393000,394000,395000,396000,397000,398000,399000,400000,401000,402000,403000,404000,405000,406000,407000,408000,409000,410000,411000,412000,413000,414000,415000,416000,417000,418000,419000,420000,421000,422000,423000,424000,425000,426000,427000,428000,429000,430000,431000,432000,433000,434000,435000,436000,437000,438000,439000,440000,441000,442000,443000,444000,445000,446000,447000,448000,449000,450000,451000,452000,453000,454000,455000,456000,457000,458000,459000,460000,461000,462000,463000,464000,465000,466000,467000,468000,469000,470000,471000,472000,473000,474000,475000,476000,477000,478000,479000,480000,481000,482000,483000,484000,485000,486000,487000,488000,489000,490000,491000,492000,493000,494000,495000,496000,497000,498000,499000,500000,501000,502000,503000,504000,505000,506000,507000,508000,509000,510000,511000,512000,513000,514000,515000,516000,517000,518000,519000,520000,521000,522000,523000,524000,525000,526000,527000,528000,529000,530000,531000,532000,533000,534000,535000,536000,537000,538000,539000,540000,541000,542000,543000,544000,545000,546000,547000,548000,549000,550000,551000,552000,553000,554000,555000,556000,557000,558000,559000,560000,561000,562000,563000,564000,565000,566000,567000,568000,569000,570000,571000,572000,573000,574000,575000,576000,577000,578000,579000,580000,581000,582000,583000,584000,585000,586000,587000,588000,589000,590000,591000,592000,593000,594000,595000,596000,597000,598000,599000,600000,600000,599000,598000,597000,596000,595000,594000,593000,592000,591000,590000,589000,588000,587000,586000,585000,584000,583000,582000,581000,580000,579000,578000,577000,576000,575000,574000,573000,572000,571000,570000,569000,568000,567000,566000,565000,564000,563000,562000,561000,560000,559000,558000,557000,556000,555000,554000,553000,552000,551000,550000,549000,548000,547000,546000,545000,544000,543000,542000,541000,540000,539000,538000,537000,536000,535000,534000,533000,532000,531000,530000,529000,528000,527000,526000,525000,524000,523000,522000,521000,520000,519000,518000,517000,516000,515000,514000,513000,512000,511000,510000,509000,508000,507000,506000,505000,504000,503000,502000,501000,500000,499000,498000,497000,496000,495000,494000,493000,492000,491000,490000,489000,488000,487000,486000,485000,484000,483000,482000,481000,480000,479000,478000,477000,476000,475000,474000,473000,472000,471000,470000,469000,468000,467000,466000,465000,464000,463000,462000,461000,460000,459000,458000,457000,456000,455000,454000,453000,452000,451000,450000,449000,448000,447000,446000,445000,444000,443000,442000,441000,440000,439000,438000,437000,436000,435000,434000,433000,432000,431000,430000,429000,428000,427000,426000,425000,424000,423000,422000,421000,420000,419000,418000,417000,416000,415000,414000,413000,412000,411000,410000,409000,408000,407000,406000,405000,404000,403000,402000,401000,400000,399000,398000,397000,396000,395000,394000,393000,392000,391000,390000,389000,388000,387000,386000,385000,384000,383000,382000,381000,380000,379000,378000,377000,376000,375000,374000,373000,372000,371000,370000,369000,368000,367000,366000,365000,364000,363000,362000,361000,360000,359000,358000,357000,356000,355000,354000,353000,352000,351000,350000,349000,348000,347000,346000,345000,344000,343000,342000,341000,340000,339000,338000,337000,336000,335000,334000,333000,332000,331000,330000,329000,328000,327000,326000,325000,324000,323000,322000,321000,320000,319000,318000,317000,316000,315000,314000,313000,312000,311000,310000,309000,308000,307000,306000,305000,304000,303000,302000,301000,300000,299000,298000,297000,296000,295000,294000,293000,292000,291000,290000,289000,288000,287000,286000,285000,284000,283000,282000,281000,280000,279000,278000,277000,276000,275000,274000,273000,272000,271000,270000,269000,268000,267000,266000,265000,264000,263000,262000,261000,260000,259000,258000,257000,256000,255000,254000,253000,252000,251000,250000,249000,248000,247000,246000,245000,244000,243000,242000,241000,240000,239000,238000,237000,236000,235000,234000,233000,232000,231000,230000,229000,228000,227000,226000,225000,224000,223000,222000,221000,220000,219000,218000,217000,216000,215000,214000,213000,212000,211000,210000,209000,208000,207000,206000,205000,204000,203000,202000,201000,200000,199000,198000,197000,196000,195000,194000,193000,192000,191000,190000,189000,188000,187000,186000,185000,184000,183000,182000,181000,180000,179000,178000,177000,176000,175000,174000,173000,172000,171000,170000,169000,168000,167000,166000,165000,164000,163000,162000,161000,160000,159000,158000,157000,156000,155000,154000,153000,152000,151000,150000,149000,148000,147000,146000,145000,144000,143000,142000,141000,140000,139000,138000,137000,136000,135000,134000,133000,132000,131000,130000,129000,128000,127000,126000,125000,124000,123000,122000,121000,120000,119000,118000,117000,116000,115000,114000,113000,112000,111000,110000,109000,108000,107000,106000,105000,104000,103000,102000,101000,100000,99000,98000,97000,96000,95000,94000,93000,92000,91000,90000,89000,88000,87000,86000,85000,84000,83000,82000,81000,80000,79000,78000,77000,76000,75000,74000,73000,72000,71000,70000,69000,68000,67000,66000,65000,64000,63000,62000,61000,60000,59000,58000,57000,56000,55000,54000,53000,52000,51000,50000,49000,48000,47000,46000,45000,44000,43000,42000,41000,40000,39000,38000,37000,36000,35000,34000,33000,32000,31000,30000,29000,28000,27000,26000,25000,24000,23000,22000,21000,20000,19000,18000,17000,16000,15000,14000,13000,12000,11000,10000,9000,8000,7000,6000,5000,4000,3000,2000,1000,0],\"y\":{\"__ndarray__\":\"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\",\"dtype\":\"float64\",\"shape\":[1200]}}},\"id\":\"d829ad5e-708c-4317-9db7-0fb7f7acbd89\",\"type\":\"ColumnDataSource\"},{\"attributes\":{\"line_alpha\":{\"value\":0.1},\"line_color\":{\"value\":\"#1f77b4\"},\"line_width\":{\"value\":2},\"x\":{\"field\":\"x\"},\"y\":{\"field\":\"y\"}},\"id\":\"760fd58c-980e-42ff-b7f5-5ff9d96b8c7d\",\"type\":\"Line\"},{\"attributes\":{\"data_source\":{\"id\":\"748b0e03-a748-4af0-b3a3-f72123a39146\",\"type\":\"ColumnDataSource\"},\"glyph\":{\"id\":\"a234f10e-a7d0-4778-8867-5dcfec00cdf4\",\"type\":\"Line\"},\"hover_glyph\":null,\"nonselection_glyph\":{\"id\":\"e8003eb8-4b01-4d7e-9211-8448d5d84eec\",\"type\":\"Line\"},\"selection_glyph\":null},\"id\":\"93da76b1-31b7-49a6-bb91-dde27467d71e\",\"type\":\"GlyphRenderer\"},{\"attributes\":{\"data_source\":{\"id\":\"d829ad5e-708c-4317-9db7-0fb7f7acbd89\",\"type\":\"ColumnDataSource\"},\"glyph\":{\"id\":\"dd554ac8-9a26-4124-bf0c-ee79555d2dc0\",\"type\":\"Patch\"},\"hover_glyph\":null,\"nonselection_glyph\":{\"id\":\"683136f0-6e87-4c9e-ae86-3d0d6267ae8e\",\"type\":\"Patch\"},\"selection_glyph\":null},\"id\":\"b524f9b8-13d2-423f-99f1-4e2ac29b4242\",\"type\":\"GlyphRenderer\"},{\"attributes\":{\"data_source\":{\"id\":\"582cf493-7e45-4034-8f11-09866d14c66b\",\"type\":\"ColumnDataSource\"},\"glyph\":{\"id\":\"6ac00285-b4c8-4635-9782-8de518f635bd\",\"type\":\"Line\"},\"hover_glyph\":null,\"nonselection_glyph\":{\"id\":\"760fd58c-980e-42ff-b7f5-5ff9d96b8c7d\",\"type\":\"Line\"},\"selection_glyph\":null},\"id\":\"42203d84-079e-441a-8ba3-bbe36bb45047\",\"type\":\"GlyphRenderer\"},{\"attributes\":{\"callback\":null,\"column_names\":[\"x\",\"y\"],\"data\":{\"x\":[0,1000,2000,3000,4000,5000,6000,7000,8000,9000,10000,11000,12000,13000,14000,15000,16000,17000,18000,19000,20000,21000,22000,23000,24000,25000,26000,27000,28000,29000,30000,31000,32000,33000,34000,35000,36000,37000,38000,39000,40000,41000,42000,43000,44000,45000,46000,47000,48000,49000,50000,51000,52000,53000,54000,55000,56000,57000,58000,59000,60000,61000,62000,63000,64000,65000,66000,67000,68000,69000,70000,71000,72000,73000,74000,75000,76000,77000,78000,79000,80000,81000,82000,83000,84000,85000,86000,87000,88000,89000,90000,91000,92000,93000,94000,95000,96000,97000,98000,99000,100000,101000,102000,103000,104000,105000,106000,107000,108000,109000,110000,111000,112000,113000,114000,115000,116000,117000,118000,119000,120000,121000,122000,123000,124000,125000,126000,127000,128000,129000,130000,131000,132000,133000,134000,135000,136000,137000,138000,139000,140000,141000,142000,143000,144000,145000,146000,147000,148000,149000,150000,151000,152000,153000,154000,155000,156000,157000,158000,159000,160000,161000,162000,163000,164000,165000,166000,167000,168000,169000,170000,171000,172000,173000,174000,175000,176000,177000,178000,179000,180000,181000,182000,183000,184000,185000,186000,187000,188000,189000,190000,191000,192000,193000,194000,195000,196000,197000,198000,199000,200000,201000,202000,203000,204000,205000,206000,207000,208000,209000,210000,211000,212000,213000,214000,215000,216000,217000,218000,219000,220000,221000,222000,223000,224000,225000,226000,227000,228000,229000,230000,231000,232000,233000,234000,235000,236000,237000,238000,239000,240000,241000,242000,243000,244000,245000,246000,247000,248000,249000,250000,251000,252000,253000,254000,255000,256000,257000,258000,259000,260000,261000,262000,263000,264000,265000,266000,267000,268000,269000,270000,271000,272000,273000,274000,275000,276000,277000,278000,279000,280000,281000,282000,283000,284000,285000,286000,287000,288000,289000,290000,291000,292000,293000,294000,295000,296000,297000,298000,299000,300000,301000,302000,303000,304000,305000,306000,307000,308000,309000,310000,311000,312000,313000,314000,315000,316000,317000,318000,319000,320000,321000,322000,323000,324000,325000,326000,327000,328000,329000,330000,331000,332000,333000,334000,335000,336000,337000,338000,339000,340000,341000,342000,343000,344000,345000,346000,347000,348000,349000,350000,351000,352000,353000,354000,355000,356000,357000,358000,359000,360000,361000,362000,363000,364000,365000,366000,367000,368000,369000,370000,371000,372000,373000,374000,375000,376000,377000,378000,379000,380000,381000,382000,383000,384000,385000,386000,387000,388000,389000,390000,391000,392000,393000,394000,395000,396000,397000,398000,399000,400000,401000,402000,403000,404000,405000,406000,407000,408000,409000,410000,411000,412000,413000,414000,415000,416000,417000,418000,419000,420000,421000,422000,423000,424000,425000,426000,427000,428000,429000,430000,431000,432000,433000,434000,435000,436000,437000,438000,439000,440000,441000,442000,443000,444000,445000,446000,447000,448000,449000,450000,451000,452000,453000,454000,455000,456000,457000,458000,459000,460000,461000,462000,463000,464000,465000,466000,467000,468000,469000,470000,471000,472000,473000,474000,475000,476000,477000,478000,479000,480000,481000,482000,483000,484000,485000,486000,487000,488000,489000,490000,491000,492000,493000,494000,495000,496000,497000,498000,499000,500000,501000,502000,503000,504000,505000,506000,507000,508000,509000,510000,511000,512000,513000,514000,515000,516000,517000,518000,519000,520000,521000,522000,523000,524000,525000,526000,527000,528000,529000,530000,531000,532000,533000,534000,535000,536000,537000,538000,539000,540000,541000,542000,543000,544000,545000,546000,547000,548000,549000,550000,551000,552000,553000,554000,555000,556000,557000,558000,559000,560000,561000,562000,563000,564000,565000,566000,567000,568000,569000,570000,571000,572000,573000,574000,575000,576000,577000,578000,579000,580000,581000,582000,583000,584000,585000,586000,587000,588000,589000,590000,591000,592000,593000,594000,595000,596000,597000,598000,599000,600000,600000,599000,598000,597000,596000,595000,594000,593000,592000,591000,590000,589000,588000,587000,586000,585000,584000,583000,582000,581000,580000,579000,578000,577000,576000,575000,574000,573000,572000,571000,570000,569000,568000,567000,566000,565000,564000,563000,562000,561000,560000,559000,558000,557000,556000,555000,554000,553000,552000,551000,550000,549000,548000,547000,546000,545000,544000,543000,542000,541000,540000,539000,538000,537000,536000,535000,534000,533000,532000,531000,530000,529000,528000,527000,526000,525000,524000,523000,522000,521000,520000,519000,518000,517000,516000,515000,514000,513000,512000,511000,510000,509000,508000,507000,506000,505000,504000,503000,502000,501000,500000,499000,498000,497000,496000,495000,494000,493000,492000,491000,490000,489000,488000,487000,486000,485000,484000,483000,482000,481000,480000,479000,478000,477000,476000,475000,474000,473000,472000,471000,470000,469000,468000,467000,466000,465000,464000,463000,462000,461000,460000,459000,458000,457000,456000,455000,454000,453000,452000,451000,450000,449000,448000,447000,446000,445000,444000,443000,442000,441000,440000,439000,438000,437000,436000,435000,434000,433000,432000,431000,430000,429000,428000,427000,426000,425000,424000,423000,422000,421000,420000,419000,418000,417000,416000,415000,414000,413000,412000,411000,410000,409000,408000,407000,406000,405000,404000,403000,402000,401000,400000,399000,398000,397000,396000,395000,394000,393000,392000,391000,390000,389000,388000,387000,386000,385000,384000,383000,382000,381000,380000,379000,378000,377000,376000,375000,374000,373000,372000,371000,370000,369000,368000,367000,366000,365000,364000,363000,362000,361000,360000,359000,358000,357000,356000,355000,354000,353000,352000,351000,350000,349000,348000,347000,346000,345000,344000,343000,342000,341000,340000,339000,338000,337000,336000,335000,334000,333000,332000,331000,330000,329000,328000,327000,326000,325000,324000,323000,322000,321000,320000,319000,318000,317000,316000,315000,314000,313000,312000,311000,310000,309000,308000,307000,306000,305000,304000,303000,302000,301000,300000,299000,298000,297000,296000,295000,294000,293000,292000,291000,290000,289000,288000,287000,286000,285000,284000,283000,282000,281000,280000,279000,278000,277000,276000,275000,274000,273000,272000,271000,270000,269000,268000,267000,266000,265000,264000,263000,262000,261000,260000,259000,258000,257000,256000,255000,254000,253000,252000,251000,250000,249000,248000,247000,246000,245000,244000,243000,242000,241000,240000,239000,238000,237000,236000,235000,234000,233000,232000,231000,230000,229000,228000,227000,226000,225000,224000,223000,222000,221000,220000,219000,218000,217000,216000,215000,214000,213000,212000,211000,210000,209000,208000,207000,206000,205000,204000,203000,202000,201000,200000,199000,198000,197000,196000,195000,194000,193000,192000,191000,190000,189000,188000,187000,186000,185000,184000,183000,182000,181000,180000,179000,178000,177000,176000,175000,174000,173000,172000,171000,170000,169000,168000,167000,166000,165000,164000,163000,162000,161000,160000,159000,158000,157000,156000,155000,154000,153000,152000,151000,150000,149000,148000,147000,146000,145000,144000,143000,142000,141000,140000,139000,138000,137000,136000,135000,134000,133000,132000,131000,130000,129000,128000,127000,126000,125000,124000,123000,122000,121000,120000,119000,118000,117000,116000,115000,114000,113000,112000,111000,110000,109000,108000,107000,106000,105000,104000,103000,102000,101000,100000,99000,98000,97000,96000,95000,94000,93000,92000,91000,90000,89000,88000,87000,86000,85000,84000,83000,82000,81000,80000,79000,78000,77000,76000,75000,74000,73000,72000,71000,70000,69000,68000,67000,66000,65000,64000,63000,62000,61000,60000,59000,58000,57000,56000,55000,54000,53000,52000,51000,50000,49000,48000,47000,46000,45000,44000,43000,42000,41000,40000,39000,38000,37000,36000,35000,34000,33000,32000,31000,30000,29000,28000,27000,26000,25000,24000,23000,22000,21000,20000,19000,18000,17000,16000,15000,14000,13000,12000,11000,10000,9000,8000,7000,6000,5000,4000,3000,2000,1000,0],\"y\":{\"__ndarray__\":\"AAAAAAAA8D9S2CCQEptXQDmk63zI02NAhmzcHbpVaECqy1uryGRnQCz/TE18bWpAyqlokRUqbkD+Wq2w3ztyQKZwo5+3BnRAOodXaWNwd0AaJJ9PI8h3QE64xbu72nhA5Y2ud4EHekAuHcZvvnZ6QNxF3h/TP3xAwAVjX+yzfkBKowlqfJR/QCK3ABy/noBAGP3D2762gECBWw5WNcKAQLQNFIjQ5oBAZGnSzwsWgUAv9xPSMiKBQFbBrBaTJoFAXqSS+Fs+gUAmn6YtwEOBQCafpi3AQ4FAaK2SUlpHgUB+KcFwDXGBQCrrf6xOl4FAKut/rE6XgUAirnCr5JeBQMztyH9WnYFAQMqh7iAhgkBAyqHuICGCQNR4WHQSJYJAyJ9XA+UogkDIn1cD5SiCQMifVwPlKIJAyJ9XA+UogkDIn1cD5SiCQMifVwPlKIJA5HkRWEdHgkBlmHdRfmuCQILJJUm1bYJAwEpKjF6+g0DsB8B+hEGGQGPUpdGxioZAgHVR4CWKhkD+xlr96ouGQF5L0Lu7yoZAXkvQu7vKhkAmn7T1JDOHQCaftPUkM4dAJp+09SQzh0Amn7T1JDOHQCaftPUkM4dAJp+09SQzh0Amn7T1JDOHQCaftPUkM4dAJp+09SQzh0Amn7T1JDOHQCaftPUkM4dAJp+09SQzh0Amn7T1JDOHQCaftPUkM4dAJp+09SQzh0Amn7T1JDOHQM/20fJkOodAl7AB4nzDh0A60+U5lieIQMxa7ybmP4hATlM/Ras0iEA2riDnQXuIQNUi0rDno4hAbAfI3HrkiEBsB8jceuSIQEjDSRenV4pA0l8NkBL1jEBAFg46mjyOQHAXM+0YP45ASM5t4P6cjkATKlD6cdWOQD5M8FUQ1I5APkzwVRDUjkAON4dLbuyOQA43h0tu7I5ADjeHS27sjkAON4dLbuyOQA43h0tu7I5ADjeHS27sjkAON4dLbuyOQIRJPl3XM5BAQS3Sb7/rkUADBHOZejOSQDcnSQxOQJJAfUMOhrRwkkAEo1zxtAOTQEZmos/w55NANX4utaQhlEC6pPeRIySUQLqk95EjJJRAuqT3kSMklEAhZjAioiaUQMfMWc7MC5RA5SOYEMoHlEAvnEKpGQqUQC+cQqkZCpRA0FYvHUgJlEB5BuOp2hmUQPSEt09sIJRA7+kyrCwflEAp+tUgVh6UQNHSumzqHZRA+WOpmT0glED5Y6mZPSCUQPljqZk9IJRA+WOpmT0glEAfyHVa0R+UQJEut2j+IJRAkS63aP4glECRLrdo/iCUQJEut2j+IJRAqB4yn/UnlECoHjKf9SeUQPR4wL+BJZRA9HjAv4EllED0eMC/gSWUQPR4wL+BJZRA9HjAv4EllED0eMC/gSWUQAh0uV1+RZRAXMx5QGaklECOf2kRVxyVQBGLpqdaNJVAu3TtNvM1lUC7dO028zWVQD/NNpN1RJVAQvG/rDFflUBC8b+sMV+VQELxv6wxX5VAQvG/rDFflUANACDGXPyVQA0AIMZc/JVAMOwHg4b9lUBk4+mUcgOWQFdX8MK0BJZAczCMXY0ElkASkGm2ZgSWQBKQabZmBJZAEpBptmYElkASkGm2ZgSWQBKQabZmBJZAEpBptmYElkASkGm2ZgSWQJTgcoZjw5ZABtmTNYDIlkAG2ZM1gMiWQFShHmRaCJdAb1Ix7Cw4l0B+gEFBATyXQNGzML2lP5dA0bMwvaU/l0DRszC9pT+XQNGzML2lP5dA0bMwvaU/l0DRszC9pT+XQNGzML2lP5dALqSVS7k/l0AupJVLuT+XQC6klUu5P5dALqSVS7k/l0ArDoBs3j+XQATHXxKFVZhACG6rucfQmEAIbqu5x9CYQAhuq7nH0JhACUXmQnDkmEBzW+ncUyqZQGmLtox5LJlAaYu2jHksmUAm2LRiSDSZQCbYtGJINJlAJti0Ykg0mUAm2LRiSDSZQCbYtGJINJlAvb7GReI2mUBY7qzfSTqZQJRCBiHjPJlAF3wtHmZFmUDWVIsTj0uZQNZUixOPS5lA1lSLE49LmUDWVIsTj0uZQNZUixOPS5lA1lSLE49LmUAc2fT+ME2ZQBebFC8ghJlAF5sULyCEmUA4zpTQlviZQHC8b62XDppAcLxvrZcOmkBwvG+tlw6aQHC8b62XDppAcLxvrZcOmkBwvG+tlw6aQHC8b62XDppAcLxvrZcOmkBwvG+tlw6aQHC8b62XDppAcLxvrZcOmkBwvG+tlw6aQHC8b62XDppAcLxvrZcOmkBwvG+tlw6aQLvsULUuEppAu+xQtS4SmkDXz0IUunibQFUlFvfo8ZtAq30AQdr2m0CrfQBB2vabQGyisk8k95tAbKKyTyT3m0B21EEza/ebQALVEHot+ptASrucO1MJnEBWravDOyecQFatq8M7J5xAVq2rwzsnnEBWravDOyecQNpIk3zcKJxA2kiTfNwonEDaSJN83CicQCXhjENSLZxAJeGMQ1ItnEAl4YxDUi2cQCXhjENSLZxAJeGMQ1ItnEAl4YxDUi2cQCXhjENSLZxAJeGMQ1ItnEAl4YxDUi2cQCXhjENSLZxAJeGMQ1ItnEAl4YxDUi2cQCXhjENSLZxAJeGMQ1ItnEAl4YxDUi2cQCXhjENSLZxA7O/UGq0unEDs79QarS6cQOzv1BqtLpxAqQM2zxovnECpAzbPGi+cQKkDNs8aL5xAqQM2zxovnECpAzbPGi+cQKkDNs8aL5xAqQM2zxovnECpAzbPGi+cQKkDNs8aL5xAqQM2zxovnECpAzbPGi+cQKkDNs8aL5xAqQM2zxovnECpAzbPGi+cQKkDNs8aL5xAqQM2zxovnECpAzbPGi+cQKkDNs8aL5xAqQM2zxovnECpAzbPGi+cQJMB4m44MJxAkwHibjgwnECTAeJuODCcQJMB4m44MJxAkwHibjgwnECTAeJuODCcQJMB4m44MJxAkwHibjgwnECTAeJuODCcQJMB4m44MJxAkwHibjgwnECTAeJuODCcQJMB4m44MJxAkwHibjgwnECTAeJuODCcQJMB4m44MJxAkwHibjgwnECTAeJuODCcQJMB4m44MJxAkwHibjgwnECTAeJuODCcQJMB4m44MJxAkwHibjgwnECTAeJuODCcQJMB4m44MJxAkwHibjgwnECTAeJuODCcQJMB4m44MJxAkwHibjgwnECTAeJuODCcQJMB4m44MJxAkwHibjgwnECTAeJuODCcQEpEjWvzMpxASkSNa/MynEBCCLF0SGycQEIIsXRIbJxAQgixdEhsnEDxtnsQvnGcQPG2exC+cZxA8bZ7EL5xnEDxtnsQvnGcQPG2exC+cZxA8bZ7EL5xnEDxtnsQvnGcQPG2exC+cZxA8bZ7EL5xnEDxtnsQvnGcQPG2exC+cZxA8bZ7EL5xnEDxtnsQvnGcQPG2exC+cZxA8bZ7EL5xnEDxtnsQvnGcQPG2exC+cZxA8bZ7EL5xnEDxtnsQvnGcQPG2exC+cZxA8bZ7EL5xnEDxtnsQvnGcQPG2exC+cZxA8bZ7EL5xnEDxtnsQvnGcQPG2exC+cZxA8bZ7EL5xnEDxtnsQvnGcQPG2exC+cZxA8bZ7EL5xnEDxtnsQvnGcQPG2exC+cZxA8bZ7EL5xnEDxtnsQvnGcQPG2exC+cZxA8bZ7EL5xnEDxtnsQvnGcQPG2exC+cZxA8bZ7EL5xnEDxtnsQvnGcQPG2exC+cZxA8bZ7EL5xnEDxtnsQvnGcQPG2exC+cZxA8bZ7EL5xnEDxtnsQvnGcQPG2exC+cZxA8bZ7EL5xnEDxtnsQvnGcQPG2exC+cZxA8bZ7EL5xnEDxtnsQvnGcQPG2exC+cZxA8bZ7EL5xnEDxtnsQvnGcQFRTSvgtcpxAVFNK+C1ynEBUU0r4LXKcQFRTSvgtcpxAVFNK+C1ynEBUU0r4LXKcQFRTSvgtcpxAVFNK+C1ynEBUU0r4LXKcQFRTSvgtcpxAVFNK+C1ynEBUU0r4LXKcQFRTSvgtcpxAVFNK+C1ynEBUU0r4LXKcQFRTSvgtcpxAVFNK+C1ynEBUU0r4LXKcQFRTSvgtcpxAVFNK+C1ynEBUU0r4LXKcQFRTSvgtcpxAVFNK+C1ynEBUU0r4LXKcQFRTSvgtcpxAVFNK+C1ynEDqBgPL6HScQOoGA8vodJxA6gYDy+h0nEDqBgPL6HScQKPdCZujd5xAwfZLaF56nEDB9ktoXnqcQMH2S2heepxAwfZLaF56nEDB9ktoXnqcQMH2S2heepxAwfZLaF56nEDB9ktoXnqcQMH2S2heepxAwfZLaF56nEDB9ktoXnqcQMH2S2heepxAwfZLaF56nEDB9ktoXnqcQMH2S2heepxAwfZLaF56nEDB9ktoXnqcQMH2S2heepxAwfZLaF56nEDB9ktoXnqcQMH2S2heepxAwfZLaF56nEDB9ktoXnqcQMH2S2heepxAwfZLaF56nEDB9ktoXnqcQMH2S2heepxAwfZLaF56nEDB9ktoXnqcQMH2S2heepxAwfZLaF56nEDB9ktoXnqcQMH2S2heepxAwfZLaF56nEDB9ktoXnqcQMH2S2heepxAwfZLaF56nEDB9ktoXnqcQMH2S2heepxAwfZLaF56nEDB9ktoXnqcQMH2S2heepxAGBg4+b6KnECHhWsV75KcQMIc5P8mOZ1Awhzk/yY5nUDCHOT/JjmdQMIc5P8mOZ1Awhzk/yY5nUDCHOT/JjmdQMIc5P8mOZ1A9BriCpQ+nUD0GuIKlD6dQPQa4gqUPp1A9BriCpQ+nUD0GuIKlD6dQNiKZjU7VJ1Aj9CvF+5WnUCP0K8X7ladQI/QrxfuVp1Aj9CvF+5WnUCP0K8X7ladQI/QrxfuVp1Aj9CvF+5WnUCP0K8X7ladQI/QrxfuVp1Aj9CvF+5WnUAodAMyXVedQNfpSOi+V51A1+lI6L5XnUDX6UjovledQNfpSOi+V51A1+lI6L5XnUDX6UjovledQNfpSOi+V51A1+lI6L5XnUDX6UjovledQNfpSOi+V51A1+lI6L5XnUDX6UjovledQNfpSOi+V51A1+lI6L5XnUDX6UjovledQNfpSOi+V51A1+lI6L5XnUDX6UjovledQNfpSOi+V51A1+lI6L5XnUDX6UjovledQNfpSOi+V51A1+lI6L5XnUDX6UjovledQNfpSOi+V51A1+lI6L5XnUDX6UjovledQNfpSOi+V51A1+lI6L5XnUDX6UjovledQNfpSOi+V51A1+lI6L5XnUDX6UjovledQNfpSOi+V51A1+lI6L5XnUDX6UjovledQNfpSOi+V51A1+lI6L5XnUDX6UjovledQNfpSOi+V51A1+lI6L5XnUDX6UjovledQNfpSOi+V51A1+lI6L5XnUDX6UjovledQNfpSOi+V51A1+lI6L5XnUDX6UjovledQNfpSOi+V51A1+lI6L5XnUDWSQkWXFidQNZJCRZcWJ1A1kkJFlxYnUDWSQkWXFidQNZJCRZcWJ1A1kkJFlxYnUDWSQkWXFidQNZJCRZcWJ1A1kkJFlxYnUDWSQkWXFidQNZJCRZcWJ1A1kkJFlxYnUDWSQkWXFidQNZJCRZcWJ1A1kkJFlxYnUDWSQkWXFidQNZJCRZcWJ1A1kkJFlxYnUDWSQkWXFidQNZJCRZcWJ1A1kkJFlxYnUDWSQkWXFidQNZJCRZcWJ1A1kkJFlxYnUDWSQkWXFidQNZJCRZcWJ1A1kkJFlxYnUDWSQkWXFidQNZJCRZcWJ1A1kkJFlxYnUDWSQkWXFidQNZJCRZcWJ1A1kkJFlxYnUDWSQkWXFidQNZJCRZcWJ1A1kkJFlxYnUDWSQkWXFidQNZJCRZcWJ1A1kkJFlxYnUDWSQkWXFidQNZJCRZcWJ1A1kkJFlxYnUDWSQkWXFidQNZJCRZcWJ1A1kkJFlxYnUDWSQkWXFidQNZJCRZcWJ1A1kkJFlxYnUDWSQkWXFidQNZJCRZcWJ1A1kkJFlxYnUDWSQkWXFidQNZJCRZcWJ1A1kkJFlxYnUDWSQkWXFidQNZJCRZcWJ1A1kkJFlxYnUDWSQkWXFidQNZJCRZcWJ1A1kkJFlxYnUDWSQkWXFidQNZJCRZcWJ1A1kkJFlxYnUDWSQkWXFidQNZJCRZcWJ1AyBu3Q7xdnUDIG7dDvF2dQMgbt0O8XZ1AyBu3Q7xdnUDIG7dDvF2dQMgbt0O8XZ1AyBu3Q7xdnUDIG7dDvF2dQMgbt0O8XZ1AyBu3Q7xdnUDIG7dDvF2dQFEeyhjFbZ1AWMxfn/N6nUAc+OXoQoWdQD+CvpvIh51AVq2iQUaKnUCaPNQTuoydQJo81BO6jJ1AfYTt0aubnUB9hO3Rq5udQH2E7dGrm51Ag3sSLlS0nUCDexIuVLSdQIN7Ei5UtJ1AZsMr7EW1nUBmwyvsRbWdQKpSXb65tZ1AwX1BZDe2nUDkBxoXvbadQKgzoGAMuZ1Ar+E15zq8nUA45Ei8Q8CdQDjkSLxDwJ1AOORIvEPAnUA45Ei8Q8CdQDjkSLxDwJ1AOORIvEPAnUA45Ei8Q8CdQDjkSLxDwJ1AOORIvEPAnUA45Ei8Q8CdQDjkSLxDwJ1AKrb26aPBnUAqtvbpo8GdQCq29umjwZ1AKrb26aPBnUAqtvbpo8GdQCq29umjwZ1AKrb26aPBnUAqtvbpo8GdQCq29umjwZ1AKrb26aPBnUAqtvbpo8GdQCq29umjwZ1AKrb26aPBnUAqtvbpo8GdQCq29umjwZ1AKrb26aPBnUAqtvbpo8GdQCq29umjwZ1AKrb26aPBnUAqtvbpo8GdQCq29umjwZ1AKrb26aPBnUAqtvbpo8GdQCq29umjwZ1AKrb26aPBnUAqtvbpo8GdQCq29umjwZ1AKrb26aPBnUAqtvbpo8GdQCq29umjwZ1AKrb26aPBnUAqtvbpo8GdQCq29umjwZ1AKrb26aPBnUAqtvbpo8GdQCq29umjwZ1AKrb26aPBnUAqtvbpo8GdQCq29umjwZ1AKrb26aPBnUAqtvbpo8GdQCq29umjwZ1AKrb26aPBnUAqtvbpo8GdQCq29umjwZ1AKrb26aPBnUAqtvbpo8GdQCq29umjwZ1AKrb26aPBnUAqtvbpo8GdQCq29umjwZ1AKrb26aPBnUAqtvbpo8GdQCq29umjwZ1AKrb26aPBnUAqtvbpo8GdQCq29umjwZ1AKrb26aPBnUAqtvbpo8GdQCq29umjwZ1AKrb26aPBnUAqtvbpo8GdQCq29umjwZ1AKrb26aPBnUAqtvbpo8GdQCkWtxdBvp1AKRa3F0G+nUApFrcXQb6dQCkWtxdBvp1AKRa3F0G+nUApFrcXQb6dQCkWtxdBvp1AKRa3F0G+nUApFrcXQb6dQCkWtxdBvp1AKRa3F0G+nUApFrcXQb6dQCkWtxdBvp1AKRa3F0G+nUApFrcXQb6dQCkWtxdBvp1AKRa3F0G+nUApFrcXQb6dQCkWtxdBvp1AKRa3F0G+nUApFrcXQb6dQCkWtxdBvp1AKRa3F0G+nUApFrcXQb6dQCkWtxdBvp1AKRa3F0G+nUApFrcXQb6dQCkWtxdBvp1AKRa3F0G+nUApFrcXQb6dQCkWtxdBvp1AKRa3F0G+nUApFrcXQb6dQCkWtxdBvp1AKRa3F0G+nUApFrcXQb6dQCkWtxdBvp1AKRa3F0G+nUApFrcXQb6dQCkWtxdBvp1AKRa3F0G+nUApFrcXQb6dQCkWtxdBvp1AKRa3F0G+nUApFrcXQb6dQCkWtxdBvp1AKRa3F0G+nUApFrcXQb6dQCkWtxdBvp1AKRa3F0G+nUDYi/zNorydQHEvUOgRu51AcS9Q6BG7nUBxL1DoEbudQHEvUOgRu51AcS9Q6BG7nUBxL1DoEbudQHEvUOgRu51AcS9Q6BG7nUBxL1DoEbudQHEvUOgRu51AKHWZysS7nUAM5R31a8GdQAzlHfVrwZ1ADOUd9WvBnUAM5R31a8GdQAzlHfVrwZ1APuMbANnCnUA+4xsA2cKdQD7jGwDZwp1APuMbANnCnUA+4xsA2cKdQD7jGwDZwp1APuMbANnCnUB5epTqEO+dQOjnxwZB8Z1APwm0l6H1nUA/CbSXofWdQD8JtJeh9Z1APwm0l6H1nUA/CbSXofWdQD8JtJeh9Z1APwm0l6H1nUA/CbSXofWdQD8JtJeh9Z1APwm0l6H1nUA/CbSXofWdQD8JtJeh9Z1APwm0l6H1nUA/CbSXofWdQD8JtJeh9Z1APwm0l6H1nUA/CbSXofWdQD8JtJeh9Z1APwm0l6H1nUA/CbSXofWdQD8JtJeh9Z1APwm0l6H1nUA/CbSXofWdQD8JtJeh9Z1APwm0l6H1nUA/CbSXofWdQD8JtJeh9Z1APwm0l6H1nUA/CbSXofWdQD8JtJeh9Z1APwm0l6H1nUA/CbSXofWdQD8JtJeh9Z1APwm0l6H1nUA/CbSXofWdQD8JtJeh9Z1APwm0l6H1nUA/CbSXofWdQD8JtJeh9Z1APwm0l6H1nUA/CbSXofWdQD8JtJeh9Z1AXSL2ZFz2nUAW+fw0F/edQBb5/DQX951AFvn8NBf3nUAW+fw0F/edQKystQfS951ArKy1B9L3nUCsrLUH0vedQKystQfS951ArKy1B9L3nUCsrLUH0vedQKystQfS951ArKy1B9L3nUCsrLUH0vedQKystQfS951ArKy1B9L3nUCsrLUH0vedQKystQfS951ArKy1B9L3nUCsrLUH0vedQKystQfS951ArKy1B9L3nUCsrLUH0vedQKystQfS951ArKy1B9L3nUCsrLUH0vedQKystQfS951ArKy1B9L3nUCsrLUH0vedQKystQfS951ArKy1B9L3nUAPSYTvQfadQA9JhO9B9p1AD0mE70H2nUAPSYTvQfadQA9JhO9B9p1AD0mE70H2nUAPSYTvQfadQA9JhO9B9p1AD0mE70H2nUAPSYTvQfadQA9JhO9B9p1AD0mE70H2nUAPSYTvQfadQA9JhO9B9p1AD0mE70H2nUAPSYTvQfadQA9JhO9B9p1AD0mE70H2nUAPSYTvQfadQA9JhO9B9p1AD0mE70H2nUAPSYTvQfadQA9JhO9B9p1AD0mE70H2nUAPSYTvQfadQA9JhO9B9p1AD0mE70H2nUAPSYTvQfadQA9JhO9B9p1AD0mE70H2nUAPSYTvQfadQA9JhO9B9p1AD0mE70H2nUAPSYTvQfadQA9JhO9B9p1AD0mE70H2nUAPSYTvQfadQA9JhO9B9p1AD0mE70H2nUAPSYTvQfadQA9JhO9B9p1AD0mE70H2nUAPSYTvQfadQA9JhO9B9p1AD0mE70H2nUAPSYTvQfadQA9JhO9B9p1AD0mE70H2nUAPSYTvQfadQA9JhO9B9p1AD0mE70H2nUAPSYTvQfadQA9JhO9B9p1AD0mE70H2nUAPSYTvQfadQL73Tou3951AvvdOi7f3nUC+906Lt/edQLa7cpQMB55AtrtylAwHnkBt/h2RxweeQG3+HZHHB55Abf4dkccHnkBt/h2RxweeQG3+HZHHB55Abf4dkccHnkBt/h2RxweeQG3+HZHHB55Abf4dkccHnkBt/h2RxweeQG3+HZHHB55Abf4dkccHnkBt/h2RxweeQG3+HZHHB55Abf4dkccHnkBt/h2RxweeQG3+HZHHB55Abf4dkccHnkBt/h2RxweeQG3+HZHHB55Abf4dkccHnkBt/h2RxweeQG3+HZHHB55Abf4dkccHnkBt/h2RxweeQG3+HZHHB55Abf4dkccHnkBt/h2RxweeQG3+HZHHB55Abf4dkccHnkBt/h2RxweeQG3+HZHHB55Abf4dkccHnkBX/Mkw5QKeQFf8yTDlAp5AV/zJMOUCnkBX/Mkw5QKeQFf8yTDlAp5AV/zJMOUCnkBX/Mkw5QKeQFf8yTDlAp5AV/zJMOUCnkBX/Mkw5QKeQFf8yTDlAp5AV/zJMOUCnkBX/Mkw5QKeQFf8yTDlAp5AV/zJMOUCnkBX/Mkw5QKeQFf8yTDlAp5AV/zJMOUCnkBX/Mkw5QKeQFf8yTDlAp5AFBAr5VIBnkAUECvlUgGeQBQQK+VSAZ5A2x5zvK38nUDbHnO8rfydQNsec7yt/J1A2x5zvK38nUDbHnO8rfydQNsec7yt/J1A2x5zvK38nUDbHnO8rfydQNsec7yt/J1A2x5zvK38nUDbHnO8rfydQNsec7yt/J1A2x5zvK38nUDbHnO8rfydQNsec7yt/J1A2x5zvK38nUAmt2yDI++dQCa3bIMj751AJrdsgyPvnUCqUlQ8xOidQKpSVDzE6J1AqlJUPMTonUCqUlQ8xOidQLZEY8Ssup1A/irvhdKlnUCKK77MlIqdQJRdTbDbiJ1AlF1NsNuInUBVgv++JYedQFWC/74lh51Aq9rpCBeCnUApML3rRWedQEUTr0rRn51ARROvStGfnUCQQ5BSaJ2dQJBDkFJonZ1AkEOQUmidnUCQQ5BSaJ2dQJBDkFJonZ1AkEOQUmidnUCQQ5BSaJ2dQJBDkFJonZ1AkEOQUmidnUCQQ5BSaJ2dQJBDkFJonZ1AkEOQUmidnUCQQ5BSaJ2dQJBDkFJonZ1AkEOQUmidnUDIMWsvaZOdQOlk69DfrZ1A6WTr0N+tnUDkJgsBz7qdQCqrdOxwsJ1AKqt07HCwnUAqq3TscLCdQCqrdOxwsJ1AKqt07HCwnUAqq3TscLCdQOmD0uGZqp1AbL353hyjnUCoEVMgtqOdQENBObodn51A2idLnbefnUDaJ0udt5+dQNonS523n51A2idLnbefnUDaJ0udt5+dQJd0SXOGoZ1Al3RJc4ahnUCNpBYjrJ+dQPe6Gb2Pc51A+JFURjhrnUD4kVRGOGudQPiRVEY4a51A/Dig7XqCnUDV8X+TIb6dQNJbarRGup1A0ltqtEa6nUDSW2q0RrqdQNJbarRGup1AL0zPQlq4nUAvTM9CWridQC9Mz0JauJ1AL0zPQlq4nUAvTM9CWridQC9Mz0JauJ1AL0zPQlq4nUCCf76+/pudQJGtzhPTlZ1ArF7hm6VhnUD6JmzKf8GcQPombMp/wZxAbB+NeZzCnEDub5ZJme2cQO5vlkmZ7ZxA7m+WSZntnEDub5ZJme2cQO5vlkmZ7ZxA7m+WSZntnEDub5ZJme2cQI3Pc6Jy65xAqagPPUvdnECcHBZrjXqcQNAT+Hx5epxA8//fOaNznEDz/985o3OcQL4OQFPOjpxAvg5AU86OnEC+DkBTzo6cQL4OQFPOjpxAwTLJbIpXnEBFixLJDECcQEWLEskMQJxA73RZWKU9nEBygJbuqBecQKQzhr+ZqZtA+ItGooF2m0AMhz9AfiabQAyHP0B+JptADIc/QH4mm0AMhz9AfiabQAyHP0B+JptADIc/QH4mm0BY4c1gChibQFjhzWAKGJtAb9FIlwELm0Bv0UiXAQubQG/RSJcBC5tAb9FIlwELm0DhN4qlLvyaQAecVmbC+ZpAB5xWZsL5mkAHnFZmwvmaQAecVmbC+ZpALy1FkxX6mkDXBSrfqfeaQBEWzVPT8ppADHtIsJPrmkCH+RxWJcyaQDCp0OK3wppA0WO9Vua9mkDRY71W5r2aQBvcZ+81vppAOTOmMTOmmkDfmc/dXUGZQEZbCG7cQZlARlsIbtxBmUBGWwhu3EGZQMuB0UpbQplAupldMA9OmUD8XKMOS1iYQIO88XlLGZhAydi287EXmED9+4xmhRSYQL/SLZBABphAfLbBoijul0B5ZDzayPuXQHlkPNrI+5dAeWQ82sj7l0B5ZDzayPuXQHlkPNrI+5dAeWQ82sj7l0B5ZDzayPuXQOHZB9X3+5dA4dkH1ff7l0D26tcCR/eXQNwYyY+Aw5dASHRmiXO6l0Dg9PjisrOXQBdQ+bd2xZdAXB5bdCz4l0BK/JuRwhmYQEr8m5HCGZhAlu6WJwwEl0DlqG8MXxyWQFlWYF2qTZVAmlKI7AwslEBjFg3jNKSTQLQn/45B5pJAmASXhs1ykkBtsCWFbW6SQG2wJYVtbpJAbbAlhW1ukkBtsCWFbW6SQG2wJYVtbpJAbbAlhW1ukkBtsCWFbW6SQG2wJYVtbpJAbbAlhW1ukkBtsCWFbW6SQG2wJYVtbpJAbbAlhW1ukkBtsCWFbW6SQG2wJYVtbpJAbbAlhW1ukkBtsCWFbW6SQFHaFyKiepJAUdoXIqJ6kkCBnFKBCoKSQEBF1w/tgJJAzxUtF6d6kkAK/J/APX+SQKDa2rnQxpJAPxttWyXTkkDOM0TXQKaSQA5D91Nc5JFAHDBUfo2VkUAcMFR+jZWRQBwwVH6NlZFAHDBUfo2VkUAcMFR+jZWRQBwwVH6NlZFAlsPTxXaNkUDgGq+Ib4WRQOAar4hvhZFAGokbwFSTkUDvqEeqDZSRQGsKwKlYkpFAawrAqViSkUBBa59HeWORQEypttZSPJFAbbAs6R84kUBtsCzpHziRQNGttgPSKpFAVZ+pdLb2kEBoBPaW5vKQQE7LFhj61pBAJvn1u5dckEBA0vhU5RCQQOgCPCRB/Y9A3kj/40C1j0BbLvvKwUGOQCB9TtAJno1AEt0QcBbQjUBp8RzIoACOQA65KEQ/dI1A2SMdIqICi0DzbTBY7u+JQGM8VEvOE4lArUcuMKTIhECBUqknEMaCQBurSzf1An5AaoBZ2UFZeUArGlKqm011QL3JEfEiLXFAx1sUgzeca0DXk++3doJiQAAAAAAAAPA/\",\"dtype\":\"float64\",\"shape\":[1200]}}},\"id\":\"369594b3-b9b6-47dc-8be1-3b9f8fff70d3\",\"type\":\"ColumnDataSource\"},{\"attributes\":{\"fill_alpha\":{\"value\":0.1},\"fill_color\":{\"value\":\"#e41a1c\"},\"line_alpha\":{\"value\":0.1},\"line_color\":{\"value\":\"#e41a1c\"},\"x\":{\"field\":\"x\"},\"y\":{\"field\":\"y\"}},\"id\":\"3bfc1093-885e-4bd9-9e70-f49a04c1950b\",\"type\":\"Patch\"},{\"attributes\":{\"axis_label\":\"States visited\",\"formatter\":{\"id\":\"79098f8c-7c93-4d20-ab64-7cae21488b6a\",\"type\":\"BasicTickFormatter\"},\"plot\":{\"id\":\"794af2d6-3b01-492f-b67f-ee07339e18db\",\"subtype\":\"Figure\",\"type\":\"Plot\"},\"ticker\":{\"id\":\"4f4b2ec3-9139-4db9-bf6e-c3cda3d19936\",\"type\":\"BasicTicker\"}},\"id\":\"226ebb23-40b3-4d5b-bb9b-e55b4e46fc85\",\"type\":\"LinearAxis\"},{\"attributes\":{\"label\":{\"value\":\"Double Beta 0.001\"},\"renderers\":[{\"id\":\"b14dba24-9102-4b62-b214-ffc46e1d1c2b\",\"type\":\"GlyphRenderer\"}]},\"id\":\"3ff158ca-9127-4cd6-a908-fd3c7a8f042a\",\"type\":\"LegendItem\"},{\"attributes\":{\"data_source\":{\"id\":\"f2e7c25e-3c33-4e6f-8acf-de8bc2ea8a9f\",\"type\":\"ColumnDataSource\"},\"glyph\":{\"id\":\"4075afdd-a2fb-4eba-9bba-3e4c79b3882b\",\"type\":\"Line\"},\"hover_glyph\":null,\"nonselection_glyph\":{\"id\":\"737d9617-f1ad-4ee9-9149-1e8745998e95\",\"type\":\"Line\"},\"selection_glyph\":null},\"id\":\"d9fec2cf-0416-42fc-9da5-b2973be58aef\",\"type\":\"GlyphRenderer\"},{\"attributes\":{},\"id\":\"ef82dd2e-2312-4e16-b5ed-80eee40f0633\",\"type\":\"ToolEvents\"},{\"attributes\":{\"data_source\":{\"id\":\"922ccf03-5ee2-4a8d-a1e7-4327caf51459\",\"type\":\"ColumnDataSource\"},\"glyph\":{\"id\":\"1f251ba4-7696-46be-9f20-b3251aac12b9\",\"type\":\"Line\"},\"hover_glyph\":null,\"nonselection_glyph\":{\"id\":\"3959e855-779d-499d-b929-1b52aa512b53\",\"type\":\"Line\"},\"selection_glyph\":null},\"id\":\"b14dba24-9102-4b62-b214-ffc46e1d1c2b\",\"type\":\"GlyphRenderer\"},{\"attributes\":{\"callback\":null},\"id\":\"b1441e75-3d19-4174-90e4-292e96f0f699\",\"type\":\"DataRange1d\"},{\"attributes\":{\"fill_alpha\":{\"value\":0.1},\"fill_color\":{\"value\":\"#1f77b4\"},\"line_alpha\":{\"value\":0.1},\"line_color\":{\"value\":\"#1f77b4\"},\"x\":{\"field\":\"x\"},\"y\":{\"field\":\"y\"}},\"id\":\"683136f0-6e87-4c9e-ae86-3d0d6267ae8e\",\"type\":\"Patch\"},{\"attributes\":{\"fill_alpha\":{\"value\":0.1},\"fill_color\":{\"value\":\"#1f77b4\"},\"line_alpha\":{\"value\":0.1},\"line_color\":{\"value\":\"#1f77b4\"},\"x\":{\"field\":\"x\"},\"y\":{\"field\":\"y\"}},\"id\":\"5f58bce2-4f4b-4540-ba3e-0c27c96afbe9\",\"type\":\"Patch\"},{\"attributes\":{\"plot\":{\"id\":\"794af2d6-3b01-492f-b67f-ee07339e18db\",\"subtype\":\"Figure\",\"type\":\"Plot\"},\"ticker\":{\"id\":\"d73c6702-0c0a-4c26-81d1-60ca5dbe00d1\",\"type\":\"BasicTicker\"}},\"id\":\"3a6689e3-5a7b-49cb-a44a-18a955149844\",\"type\":\"Grid\"},{\"attributes\":{\"fill_alpha\":{\"value\":0.1},\"fill_color\":{\"value\":\"#377eb8\"},\"line_alpha\":{\"value\":0.1},\"line_color\":{\"value\":\"#377eb8\"},\"x\":{\"field\":\"x\"},\"y\":{\"field\":\"y\"}},\"id\":\"d7d44461-6906-4a64-b608-e8b51d496e30\",\"type\":\"Patch\"},{\"attributes\":{\"bottom_units\":\"screen\",\"fill_alpha\":{\"value\":0.5},\"fill_color\":{\"value\":\"lightgrey\"},\"left_units\":\"screen\",\"level\":\"overlay\",\"line_alpha\":{\"value\":1.0},\"line_color\":{\"value\":\"black\"},\"line_dash\":[4,4],\"line_width\":{\"value\":2},\"plot\":null,\"render_mode\":\"css\",\"right_units\":\"screen\",\"top_units\":\"screen\"},\"id\":\"7f9e1fe1-73e6-47e3-8af1-e3d71e89bd1a\",\"type\":\"BoxAnnotation\"},{\"attributes\":{\"label\":{\"value\":\"Beta 0.001\"},\"renderers\":[{\"id\":\"42203d84-079e-441a-8ba3-bbe36bb45047\",\"type\":\"GlyphRenderer\"}]},\"id\":\"ad8eff1e-90d5-47f8-ac37-809523198e62\",\"type\":\"LegendItem\"},{\"attributes\":{\"line_alpha\":{\"value\":0.1},\"line_color\":{\"value\":\"#1f77b4\"},\"line_width\":{\"value\":2},\"x\":{\"field\":\"x\"},\"y\":{\"field\":\"y\"}},\"id\":\"737d9617-f1ad-4ee9-9149-1e8745998e95\",\"type\":\"Line\"},{\"attributes\":{\"plot\":null,\"text\":\"Med Maze 10 Set Replay\"},\"id\":\"0bb4108f-46bb-47be-810e-0182092a1e79\",\"type\":\"Title\"},{\"attributes\":{\"callback\":null,\"column_names\":[\"x\",\"y\"],\"data\":{\"x\":[0,1000,2000,3000,4000,5000,6000,7000,8000,9000,10000,11000,12000,13000,14000,15000,16000,17000,18000,19000,20000,21000,22000,23000,24000,25000,26000,27000,28000,29000,30000,31000,32000,33000,34000,35000,36000,37000,38000,39000,40000,41000,42000,43000,44000,45000,46000,47000,48000,49000,50000,51000,52000,53000,54000,55000,56000,57000,58000,59000,60000,61000,62000,63000,64000,65000,66000,67000,68000,69000,70000,71000,72000,73000,74000,75000,76000,77000,78000,79000,80000,81000,82000,83000,84000,85000,86000,87000,88000,89000,90000,91000,92000,93000,94000,95000,96000,97000,98000,99000,100000,101000,102000,103000,104000,105000,106000,107000,108000,109000,110000,111000,112000,113000,114000,115000,116000,117000,118000,119000,120000,121000,122000,123000,124000,125000,126000,127000,128000,129000,130000,131000,132000,133000,134000,135000,136000,137000,138000,139000,140000,141000,142000,143000,144000,145000,146000,147000,148000,149000,150000,151000,152000,153000,154000,155000,156000,157000,158000,159000,160000,161000,162000,163000,164000,165000,166000,167000,168000,169000,170000,171000,172000,173000,174000,175000,176000,177000,178000,179000,180000,181000,182000,183000,184000,185000,186000,187000,188000,189000,190000,191000,192000,193000,194000,195000,196000,197000,198000,199000,200000,201000,202000,203000,204000,205000,206000,207000,208000,209000,210000,211000,212000,213000,214000,215000,216000,217000,218000,219000,220000,221000,222000,223000,224000,225000,226000,227000,228000,229000,230000,231000,232000,233000,234000,235000,236000,237000,238000,239000,240000,241000,242000,243000,244000,245000,246000,247000,248000,249000,250000,251000,252000,253000,254000,255000,256000,257000,258000,259000,260000,261000,262000,263000,264000,265000,266000,267000,268000,269000,270000,271000,272000,273000,274000,275000,276000,277000,278000,279000,280000,281000,282000,283000,284000,285000,286000,287000,288000,289000,290000,291000,292000,293000,294000,295000,296000,297000,298000,299000,300000,301000,302000,303000,304000,305000,306000,307000,308000,309000,310000,311000,312000,313000,314000,315000,316000,317000,318000,319000,320000,321000,322000,323000,324000,325000,326000,327000,328000,329000,330000,331000,332000,333000,334000,335000,336000,337000,338000,339000,340000,341000,342000,343000,344000,345000,346000,347000,348000,349000,350000,351000,352000,353000,354000,355000,356000,357000,358000,359000,360000,361000,362000,363000,364000,365000,366000,367000,368000,369000,370000,371000,372000,373000,374000,375000,376000,377000,378000,379000,380000,381000,382000,383000,384000,385000,386000,387000,388000,389000,390000,391000,392000,393000,394000,395000,396000,397000,398000,399000,400000,401000,402000,403000,404000,405000,406000,407000,408000,409000,410000,411000,412000,413000,414000,415000,416000,417000,418000,419000,420000,421000,422000,423000,424000,425000,426000,427000,428000,429000,430000,431000,432000,433000,434000,435000,436000,437000,438000,439000,440000,441000,442000,443000,444000,445000,446000,447000,448000,449000,450000,451000,452000,453000,454000,455000,456000,457000,458000,459000,460000,461000,462000,463000,464000,465000,466000,467000,468000,469000,470000,471000,472000,473000,474000,475000,476000,477000,478000,479000,480000,481000,482000,483000,484000,485000,486000,487000,488000,489000,490000,491000,492000,493000,494000,495000,496000,497000,498000,499000,500000,501000,502000,503000,504000,505000,506000,507000,508000,509000,510000,511000,512000,513000,514000,515000,516000,517000,518000,519000,520000,521000,522000,523000,524000,525000,526000,527000,528000,529000,530000,531000,532000,533000,534000,535000,536000,537000,538000,539000,540000,541000,542000,543000,544000,545000,546000,547000,548000,549000,550000,551000,552000,553000,554000,555000,556000,557000,558000,559000,560000,561000,562000,563000,564000,565000,566000,567000,568000,569000,570000,571000,572000,573000,574000,575000,576000,577000,578000,579000,580000,581000,582000,583000,584000,585000,586000,587000,588000,589000,590000,591000,592000,593000,594000,595000,596000,597000,598000,599000,600000],\"y\":{\"__ndarray__\":\"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\",\"dtype\":\"float64\",\"shape\":[600]}}},\"id\":\"922ccf03-5ee2-4a8d-a1e7-4327caf51459\",\"type\":\"ColumnDataSource\"},{\"attributes\":{\"line_alpha\":{\"value\":0.1},\"line_color\":{\"value\":\"#1f77b4\"},\"line_width\":{\"value\":2},\"x\":{\"field\":\"x\"},\"y\":{\"field\":\"y\"}},\"id\":\"3959e855-779d-499d-b929-1b52aa512b53\",\"type\":\"Line\"},{\"attributes\":{\"line_color\":{\"value\":\"#4daf4a\"},\"line_width\":{\"value\":2},\"x\":{\"field\":\"x\"},\"y\":{\"field\":\"y\"}},\"id\":\"a234f10e-a7d0-4778-8867-5dcfec00cdf4\",\"type\":\"Line\"},{\"attributes\":{\"plot\":{\"id\":\"794af2d6-3b01-492f-b67f-ee07339e18db\",\"subtype\":\"Figure\",\"type\":\"Plot\"}},\"id\":\"5416f2dd-95f2-423e-b84c-cf25a70ebe82\",\"type\":\"HelpTool\"},{\"attributes\":{},\"id\":\"79098f8c-7c93-4d20-ab64-7cae21488b6a\",\"type\":\"BasicTickFormatter\"},{\"attributes\":{\"line_alpha\":{\"value\":0.1},\"line_color\":{\"value\":\"#1f77b4\"},\"line_width\":{\"value\":2},\"x\":{\"field\":\"x\"},\"y\":{\"field\":\"y\"}},\"id\":\"e8003eb8-4b01-4d7e-9211-8448d5d84eec\",\"type\":\"Line\"},{\"attributes\":{\"plot\":{\"id\":\"794af2d6-3b01-492f-b67f-ee07339e18db\",\"subtype\":\"Figure\",\"type\":\"Plot\"}},\"id\":\"3cb992d2-1f95-4c65-8e67-0567ebc4418c\",\"type\":\"WheelZoomTool\"},{\"attributes\":{\"callback\":null,\"column_names\":[\"x\",\"y\"],\"data\":{\"x\":[0,1000,2000,3000,4000,5000,6000,7000,8000,9000,10000,11000,12000,13000,14000,15000,16000,17000,18000,19000,20000,21000,22000,23000,24000,25000,26000,27000,28000,29000,30000,31000,32000,33000,34000,35000,36000,37000,38000,39000,40000,41000,42000,43000,44000,45000,46000,47000,48000,49000,50000,51000,52000,53000,54000,55000,56000,57000,58000,59000,60000,61000,62000,63000,64000,65000,66000,67000,68000,69000,70000,71000,72000,73000,74000,75000,76000,77000,78000,79000,80000,81000,82000,83000,84000,85000,86000,87000,88000,89000,90000,91000,92000,93000,94000,95000,96000,97000,98000,99000,100000,101000,102000,103000,104000,105000,106000,107000,108000,109000,110000,111000,112000,113000,114000,115000,116000,117000,118000,119000,120000,121000,122000,123000,124000,125000,126000,127000,128000,129000,130000,131000,132000,133000,134000,135000,136000,137000,138000,139000,140000,141000,142000,143000,144000,145000,146000,147000,148000,149000,150000,151000,152000,153000,154000,155000,156000,157000,158000,159000,160000,161000,162000,163000,164000,165000,166000,167000,168000,169000,170000,171000,172000,173000,174000,175000,176000,177000,178000,179000,180000,181000,182000,183000,184000,185000,186000,187000,188000,189000,190000,191000,192000,193000,194000,195000,196000,197000,198000,199000,200000,201000,202000,203000,204000,205000,206000,207000,208000,209000,210000,211000,212000,213000,214000,215000,216000,217000,218000,219000,220000,221000,222000,223000,224000,225000,226000,227000,228000,229000,230000,231000,232000,233000,234000,235000,236000,237000,238000,239000,240000,241000,242000,243000,244000,245000,246000,247000,248000,249000,250000,251000,252000,253000,254000,255000,256000,257000,258000,259000,260000,261000,262000,263000,264000,265000,266000,267000,268000,269000,270000,271000,272000,273000,274000,275000,276000,277000,278000,279000,280000,281000,282000,283000,284000,285000,286000,287000,288000,289000,290000,291000,292000,293000,294000,295000,296000,297000,298000,299000,300000,301000,302000,303000,304000,305000,306000,307000,308000,309000,310000,311000,312000,313000,314000,315000,316000,317000,318000,319000,320000,321000,322000,323000,324000,325000,326000,327000,328000,329000,330000,331000,332000,333000,334000,335000,336000,337000,338000,339000,340000,341000,342000,343000,344000,345000,346000,347000,348000,349000,350000,351000,352000,353000,354000,355000,356000,357000,358000,359000,360000,361000,362000,363000,364000,365000,366000,367000,368000,369000,370000,371000,372000,373000,374000,375000,376000,377000,378000,379000,380000,381000,382000,383000,384000,385000,386000,387000,388000,389000,390000,391000,392000,393000,394000,395000,396000,397000,398000,399000,400000,401000,402000,403000,404000,405000,406000,407000,408000,409000,410000,411000,412000,413000,414000,415000,416000,417000,418000,419000,420000,421000,422000,423000,424000,425000,426000,427000,428000,429000,430000,431000,432000,433000,434000,435000,436000,437000,438000,439000,440000,441000,442000,443000,444000,445000,446000,447000,448000,449000,450000,451000,452000,453000,454000,455000,456000,457000,458000,459000,460000,461000,462000,463000,464000,465000,466000,467000,468000,469000,470000,471000,472000,473000,474000,475000,476000,477000,478000,479000,480000,481000,482000,483000,484000,485000,486000,487000,488000,489000,490000,491000,492000,493000,494000,495000,496000,497000,498000,499000,500000,501000,502000,503000,504000,505000,506000,507000,508000,509000,510000,511000,512000,513000,514000,515000,516000,517000,518000,519000,520000,521000,522000,523000,524000,525000,526000,527000,528000,529000,530000,531000,532000,533000,534000,535000,536000,537000,538000,539000,540000,541000,542000,543000,544000,545000,546000,547000,548000,549000,550000,551000,552000,553000,554000,555000,556000,557000,558000,559000,560000,561000,562000,563000,564000,565000,566000,567000,568000,569000,570000,571000,572000,573000,574000,575000,576000,577000,578000,579000,580000,581000,582000,583000,584000,585000,586000,587000,588000,589000,590000,591000,592000,593000,594000,595000,596000,597000,598000,599000,600000,600000,599000,598000,597000,596000,595000,594000,593000,592000,591000,590000,589000,588000,587000,586000,585000,584000,583000,582000,581000,580000,579000,578000,577000,576000,575000,574000,573000,572000,571000,570000,569000,568000,567000,566000,565000,564000,563000,562000,561000,560000,559000,558000,557000,556000,555000,554000,553000,552000,551000,550000,549000,548000,547000,546000,545000,544000,543000,542000,541000,540000,539000,538000,537000,536000,535000,534000,533000,532000,531000,530000,529000,528000,527000,526000,525000,524000,523000,522000,521000,520000,519000,518000,517000,516000,515000,514000,513000,512000,511000,510000,509000,508000,507000,506000,505000,504000,503000,502000,501000,500000,499000,498000,497000,496000,495000,494000,493000,492000,491000,490000,489000,488000,487000,486000,485000,484000,483000,482000,481000,480000,479000,478000,477000,476000,475000,474000,473000,472000,471000,470000,469000,468000,467000,466000,465000,464000,463000,462000,461000,460000,459000,458000,457000,456000,455000,454000,453000,452000,451000,450000,449000,448000,447000,446000,445000,444000,443000,442000,441000,440000,439000,438000,437000,436000,435000,434000,433000,432000,431000,430000,429000,428000,427000,426000,425000,424000,423000,422000,421000,420000,419000,418000,417000,416000,415000,414000,413000,412000,411000,410000,409000,408000,407000,406000,405000,404000,403000,402000,401000,400000,399000,398000,397000,396000,395000,394000,393000,392000,391000,390000,389000,388000,387000,386000,385000,384000,383000,382000,381000,380000,379000,378000,377000,376000,375000,374000,373000,372000,371000,370000,369000,368000,367000,366000,365000,364000,363000,362000,361000,360000,359000,358000,357000,356000,355000,354000,353000,352000,351000,350000,349000,348000,347000,346000,345000,344000,343000,342000,341000,340000,339000,338000,337000,336000,335000,334000,333000,332000,331000,330000,329000,328000,327000,326000,325000,324000,323000,322000,321000,320000,319000,318000,317000,316000,315000,314000,313000,312000,311000,310000,309000,308000,307000,306000,305000,304000,303000,302000,301000,300000,299000,298000,297000,296000,295000,294000,293000,292000,291000,290000,289000,288000,287000,286000,285000,284000,283000,282000,281000,280000,279000,278000,277000,276000,275000,274000,273000,272000,271000,270000,269000,268000,267000,266000,265000,264000,263000,262000,261000,260000,259000,258000,257000,256000,255000,254000,253000,252000,251000,250000,249000,248000,247000,246000,245000,244000,243000,242000,241000,240000,239000,238000,237000,236000,235000,234000,233000,232000,231000,230000,229000,228000,227000,226000,225000,224000,223000,222000,221000,220000,219000,218000,217000,216000,215000,214000,213000,212000,211000,210000,209000,208000,207000,206000,205000,204000,203000,202000,201000,200000,199000,198000,197000,196000,195000,194000,193000,192000,191000,190000,189000,188000,187000,186000,185000,184000,183000,182000,181000,180000,179000,178000,177000,176000,175000,174000,173000,172000,171000,170000,169000,168000,167000,166000,165000,164000,163000,162000,161000,160000,159000,158000,157000,156000,155000,154000,153000,152000,151000,150000,149000,148000,147000,146000,145000,144000,143000,142000,141000,140000,139000,138000,137000,136000,135000,134000,133000,132000,131000,130000,129000,128000,127000,126000,125000,124000,123000,122000,121000,120000,119000,118000,117000,116000,115000,114000,113000,112000,111000,110000,109000,108000,107000,106000,105000,104000,103000,102000,101000,100000,99000,98000,97000,96000,95000,94000,93000,92000,91000,90000,89000,88000,87000,86000,85000,84000,83000,82000,81000,80000,79000,78000,77000,76000,75000,74000,73000,72000,71000,70000,69000,68000,67000,66000,65000,64000,63000,62000,61000,60000,59000,58000,57000,56000,55000,54000,53000,52000,51000,50000,49000,48000,47000,46000,45000,44000,43000,42000,41000,40000,39000,38000,37000,36000,35000,34000,33000,32000,31000,30000,29000,28000,27000,26000,25000,24000,23000,22000,21000,20000,19000,18000,17000,16000,15000,14000,13000,12000,11000,10000,9000,8000,7000,6000,5000,4000,3000,2000,1000,0],\"y\":{\"__ndarray__\":\"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\",\"dtype\":\"float64\",\"shape\":[1200]}}},\"id\":\"03eae59a-dd77-47e9-9a8d-3a4bef53b946\",\"type\":\"ColumnDataSource\"},{\"attributes\":{\"data_source\":{\"id\":\"06e974f1-7698-4857-8438-2d3e4d504416\",\"type\":\"ColumnDataSource\"},\"glyph\":{\"id\":\"d7d44461-6906-4a64-b608-e8b51d496e30\",\"type\":\"Patch\"},\"hover_glyph\":null,\"nonselection_glyph\":{\"id\":\"5f58bce2-4f4b-4540-ba3e-0c27c96afbe9\",\"type\":\"Patch\"},\"selection_glyph\":null},\"id\":\"937e0cfb-712c-4265-bb81-fb7f0e425236\",\"type\":\"GlyphRenderer\"},{\"attributes\":{\"active_drag\":\"auto\",\"active_scroll\":\"auto\",\"active_tap\":\"auto\",\"tools\":[{\"id\":\"161b4431-b4dc-4f3f-9fa3-d6e159c49a69\",\"type\":\"PanTool\"},{\"id\":\"3cb992d2-1f95-4c65-8e67-0567ebc4418c\",\"type\":\"WheelZoomTool\"},{\"id\":\"4352ab51-b40d-4c69-b040-06979925ebb2\",\"type\":\"BoxZoomTool\"},{\"id\":\"4a8af3c0-03bd-4495-9364-77a82bfc89e4\",\"type\":\"SaveTool\"},{\"id\":\"5f2ef312-67e2-4f29-a25e-076ab1f15e31\",\"type\":\"ResetTool\"},{\"id\":\"5416f2dd-95f2-423e-b84c-cf25a70ebe82\",\"type\":\"HelpTool\"}]},\"id\":\"7e8068d4-d2f3-4a5d-8b44-9d8b65bddeef\",\"type\":\"Toolbar\"},{\"attributes\":{\"callback\":null,\"column_names\":[\"x\",\"y\"],\"data\":{\"x\":[0,1000,2000,3000,4000,5000,6000,7000,8000,9000,10000,11000,12000,13000,14000,15000,16000,17000,18000,19000,20000,21000,22000,23000,24000,25000,26000,27000,28000,29000,30000,31000,32000,33000,34000,35000,36000,37000,38000,39000,40000,41000,42000,43000,44000,45000,46000,47000,48000,49000,50000,51000,52000,53000,54000,55000,56000,57000,58000,59000,60000,61000,62000,63000,64000,65000,66000,67000,68000,69000,70000,71000,72000,73000,74000,75000,76000,77000,78000,79000,80000,81000,82000,83000,84000,85000,86000,87000,88000,89000,90000,91000,92000,93000,94000,95000,96000,97000,98000,99000,100000,101000,102000,103000,104000,105000,106000,107000,108000,109000,110000,111000,112000,113000,114000,115000,116000,117000,118000,119000,120000,121000,122000,123000,124000,125000,126000,127000,128000,129000,130000,131000,132000,133000,134000,135000,136000,137000,138000,139000,140000,141000,142000,143000,144000,145000,146000,147000,148000,149000,150000,151000,152000,153000,154000,155000,156000,157000,158000,159000,160000,161000,162000,163000,164000,165000,166000,167000,168000,169000,170000,171000,172000,173000,174000,175000,176000,177000,178000,179000,180000,181000,182000,183000,184000,185000,186000,187000,188000,189000,190000,191000,192000,193000,194000,195000,196000,197000,198000,199000,200000,201000,202000,203000,204000,205000,206000,207000,208000,209000,210000,211000,212000,213000,214000,215000,216000,217000,218000,219000,220000,221000,222000,223000,224000,225000,226000,227000,228000,229000,230000,231000,232000,233000,234000,235000,236000,237000,238000,239000,240000,241000,242000,243000,244000,245000,246000,247000,248000,249000,250000,251000,252000,253000,254000,255000,256000,257000,258000,259000,260000,261000,262000,263000,264000,265000,266000,267000,268000,269000,270000,271000,272000,273000,274000,275000,276000,277000,278000,279000,280000,281000,282000,283000,284000,285000,286000,287000,288000,289000,290000,291000,292000,293000,294000,295000,296000,297000,298000,299000,300000,301000,302000,303000,304000,305000,306000,307000,308000,309000,310000,311000,312000,313000,314000,315000,316000,317000,318000,319000,320000,321000,322000,323000,324000,325000,326000,327000,328000,329000,330000,331000,332000,333000,334000,335000,336000,337000,338000,339000,340000,341000,342000,343000,344000,345000,346000,347000,348000,349000,350000,351000,352000,353000,354000,355000,356000,357000,358000,359000,360000,361000,362000,363000,364000,365000,366000,367000,368000,369000,370000,371000,372000,373000,374000,375000,376000,377000,378000,379000,380000,381000,382000,383000,384000,385000,386000,387000,388000,389000,390000,391000,392000,393000,394000,395000,396000,397000,398000,399000,400000,401000,402000,403000,404000,405000,406000,407000,408000,409000,410000,411000,412000,413000,414000,415000,416000,417000,418000,419000,420000,421000,422000,423000,424000,425000,426000,427000,428000,429000,430000,431000,432000,433000,434000,435000,436000,437000,438000,439000,440000,441000,442000,443000,444000,445000,446000,447000,448000,449000,450000,451000,452000,453000,454000,455000,456000,457000,458000,459000,460000,461000,462000,463000,464000,465000,466000,467000,468000,469000,470000,471000,472000,473000,474000,475000,476000,477000,478000,479000,480000,481000,482000,483000,484000,485000,486000,487000,488000,489000,490000,491000,492000,493000,494000,495000,496000,497000,498000,499000,500000,501000,502000,503000,504000,505000,506000,507000,508000,509000,510000,511000,512000,513000,514000,515000,516000,517000,518000,519000,520000,521000,522000,523000,524000,525000,526000,527000,528000,529000,530000,531000,532000,533000,534000,535000,536000,537000,538000,539000,540000,541000,542000,543000,544000,545000,546000,547000,548000,549000,550000,551000,552000,553000,554000,555000,556000,557000,558000,559000,560000,561000,562000,563000,564000,565000,566000,567000,568000,569000,570000,571000,572000,573000,574000,575000,576000,577000,578000,579000,580000,581000,582000,583000,584000,585000,586000,587000,588000,589000,590000,591000,592000,593000,594000,595000,596000,597000,598000,599000,600000,600000,599000,598000,597000,596000,595000,594000,593000,592000,591000,590000,589000,588000,587000,586000,585000,584000,583000,582000,581000,580000,579000,578000,577000,576000,575000,574000,573000,572000,571000,570000,569000,568000,567000,566000,565000,564000,563000,562000,561000,560000,559000,558000,557000,556000,555000,554000,553000,552000,551000,550000,549000,548000,547000,546000,545000,544000,543000,542000,541000,540000,539000,538000,537000,536000,535000,534000,533000,532000,531000,530000,529000,528000,527000,526000,525000,524000,523000,522000,521000,520000,519000,518000,517000,516000,515000,514000,513000,512000,511000,510000,509000,508000,507000,506000,505000,504000,503000,502000,501000,500000,499000,498000,497000,496000,495000,494000,493000,492000,491000,490000,489000,488000,487000,486000,485000,484000,483000,482000,481000,480000,479000,478000,477000,476000,475000,474000,473000,472000,471000,470000,469000,468000,467000,466000,465000,464000,463000,462000,461000,460000,459000,458000,457000,456000,455000,454000,453000,452000,451000,450000,449000,448000,447000,446000,445000,444000,443000,442000,441000,440000,439000,438000,437000,436000,435000,434000,433000,432000,431000,430000,429000,428000,427000,426000,425000,424000,423000,422000,421000,420000,419000,418000,417000,416000,415000,414000,413000,412000,411000,410000,409000,408000,407000,406000,405000,404000,403000,402000,401000,400000,399000,398000,397000,396000,395000,394000,393000,392000,391000,390000,389000,388000,387000,386000,385000,384000,383000,382000,381000,380000,379000,378000,377000,376000,375000,374000,373000,372000,371000,370000,369000,368000,367000,366000,365000,364000,363000,362000,361000,360000,359000,358000,357000,356000,355000,354000,353000,352000,351000,350000,349000,348000,347000,346000,345000,344000,343000,342000,341000,340000,339000,338000,337000,336000,335000,334000,333000,332000,331000,330000,329000,328000,327000,326000,325000,324000,323000,322000,321000,320000,319000,318000,317000,316000,315000,314000,313000,312000,311000,310000,309000,308000,307000,306000,305000,304000,303000,302000,301000,300000,299000,298000,297000,296000,295000,294000,293000,292000,291000,290000,289000,288000,287000,286000,285000,284000,283000,282000,281000,280000,279000,278000,277000,276000,275000,274000,273000,272000,271000,270000,269000,268000,267000,266000,265000,264000,263000,262000,261000,260000,259000,258000,257000,256000,255000,254000,253000,252000,251000,250000,249000,248000,247000,246000,245000,244000,243000,242000,241000,240000,239000,238000,237000,236000,235000,234000,233000,232000,231000,230000,229000,228000,227000,226000,225000,224000,223000,222000,221000,220000,219000,218000,217000,216000,215000,214000,213000,212000,211000,210000,209000,208000,207000,206000,205000,204000,203000,202000,201000,200000,199000,198000,197000,196000,195000,194000,193000,192000,191000,190000,189000,188000,187000,186000,185000,184000,183000,182000,181000,180000,179000,178000,177000,176000,175000,174000,173000,172000,171000,170000,169000,168000,167000,166000,165000,164000,163000,162000,161000,160000,159000,158000,157000,156000,155000,154000,153000,152000,151000,150000,149000,148000,147000,146000,145000,144000,143000,142000,141000,140000,139000,138000,137000,136000,135000,134000,133000,132000,131000,130000,129000,128000,127000,126000,125000,124000,123000,122000,121000,120000,119000,118000,117000,116000,115000,114000,113000,112000,111000,110000,109000,108000,107000,106000,105000,104000,103000,102000,101000,100000,99000,98000,97000,96000,95000,94000,93000,92000,91000,90000,89000,88000,87000,86000,85000,84000,83000,82000,81000,80000,79000,78000,77000,76000,75000,74000,73000,72000,71000,70000,69000,68000,67000,66000,65000,64000,63000,62000,61000,60000,59000,58000,57000,56000,55000,54000,53000,52000,51000,50000,49000,48000,47000,46000,45000,44000,43000,42000,41000,40000,39000,38000,37000,36000,35000,34000,33000,32000,31000,30000,29000,28000,27000,26000,25000,24000,23000,22000,21000,20000,19000,18000,17000,16000,15000,14000,13000,12000,11000,10000,9000,8000,7000,6000,5000,4000,3000,2000,1000,0],\"y\":{\"__ndarray__\":\"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\",\"dtype\":\"float64\",\"shape\":[1200]}}},\"id\":\"06e974f1-7698-4857-8438-2d3e4d504416\",\"type\":\"ColumnDataSource\"},{\"attributes\":{\"line_color\":{\"value\":\"#e41a1c\"},\"line_width\":{\"value\":2},\"x\":{\"field\":\"x\"},\"y\":{\"field\":\"y\"}},\"id\":\"1f251ba4-7696-46be-9f20-b3251aac12b9\",\"type\":\"Line\"},{\"attributes\":{\"overlay\":{\"id\":\"7f9e1fe1-73e6-47e3-8af1-e3d71e89bd1a\",\"type\":\"BoxAnnotation\"},\"plot\":{\"id\":\"794af2d6-3b01-492f-b67f-ee07339e18db\",\"subtype\":\"Figure\",\"type\":\"Plot\"}},\"id\":\"4352ab51-b40d-4c69-b040-06979925ebb2\",\"type\":\"BoxZoomTool\"},{\"attributes\":{\"items\":[{\"id\":\"3ff158ca-9127-4cd6-a908-fd3c7a8f042a\",\"type\":\"LegendItem\"},{\"id\":\"ad8eff1e-90d5-47f8-ac37-809523198e62\",\"type\":\"LegendItem\"},{\"id\":\"e9c8dbf9-e5aa-4597-bdd0-ed96017894ef\",\"type\":\"LegendItem\"},{\"id\":\"91767fdc-1fa1-4d06-b1a3-a6ad1daadc28\",\"type\":\"LegendItem\"}],\"location\":[0,-30],\"plot\":{\"id\":\"794af2d6-3b01-492f-b67f-ee07339e18db\",\"subtype\":\"Figure\",\"type\":\"Plot\"}},\"id\":\"358d1f33-ceb9-4fdb-bd95-8421cfc81e56\",\"type\":\"Legend\"},{\"attributes\":{\"callback\":null,\"column_names\":[\"x\",\"y\"],\"data\":{\"x\":[0,1000,2000,3000,4000,5000,6000,7000,8000,9000,10000,11000,12000,13000,14000,15000,16000,17000,18000,19000,20000,21000,22000,23000,24000,25000,26000,27000,28000,29000,30000,31000,32000,33000,34000,35000,36000,37000,38000,39000,40000,41000,42000,43000,44000,45000,46000,47000,48000,49000,50000,51000,52000,53000,54000,55000,56000,57000,58000,59000,60000,61000,62000,63000,64000,65000,66000,67000,68000,69000,70000,71000,72000,73000,74000,75000,76000,77000,78000,79000,80000,81000,82000,83000,84000,85000,86000,87000,88000,89000,90000,91000,92000,93000,94000,95000,96000,97000,98000,99000,100000,101000,102000,103000,104000,105000,106000,107000,108000,109000,110000,111000,112000,113000,114000,115000,116000,117000,118000,119000,120000,121000,122000,123000,124000,125000,126000,127000,128000,129000,130000,131000,132000,133000,134000,135000,136000,137000,138000,139000,140000,141000,142000,143000,144000,145000,146000,147000,148000,149000,150000,151000,152000,153000,154000,155000,156000,157000,158000,159000,160000,161000,162000,163000,164000,165000,166000,167000,168000,169000,170000,171000,172000,173000,174000,175000,176000,177000,178000,179000,180000,181000,182000,183000,184000,185000,186000,187000,188000,189000,190000,191000,192000,193000,194000,195000,196000,197000,198000,199000,200000,201000,202000,203000,204000,205000,206000,207000,208000,209000,210000,211000,212000,213000,214000,215000,216000,217000,218000,219000,220000,221000,222000,223000,224000,225000,226000,227000,228000,229000,230000,231000,232000,233000,234000,235000,236000,237000,238000,239000,240000,241000,242000,243000,244000,245000,246000,247000,248000,249000,250000,251000,252000,253000,254000,255000,256000,257000,258000,259000,260000,261000,262000,263000,264000,265000,266000,267000,268000,269000,270000,271000,272000,273000,274000,275000,276000,277000,278000,279000,280000,281000,282000,283000,284000,285000,286000,287000,288000,289000,290000,291000,292000,293000,294000,295000,296000,297000,298000,299000,300000,301000,302000,303000,304000,305000,306000,307000,308000,309000,310000,311000,312000,313000,314000,315000,316000,317000,318000,319000,320000,321000,322000,323000,324000,325000,326000,327000,328000,329000,330000,331000,332000,333000,334000,335000,336000,337000,338000,339000,340000,341000,342000,343000,344000,345000,346000,347000,348000,349000,350000,351000,352000,353000,354000,355000,356000,357000,358000,359000,360000,361000,362000,363000,364000,365000,366000,367000,368000,369000,370000,371000,372000,373000,374000,375000,376000,377000,378000,379000,380000,381000,382000,383000,384000,385000,386000,387000,388000,389000,390000,391000,392000,393000,394000,395000,396000,397000,398000,399000,400000,401000,402000,403000,404000,405000,406000,407000,408000,409000,410000,411000,412000,413000,414000,415000,416000,417000,418000,419000,420000,421000,422000,423000,424000,425000,426000,427000,428000,429000,430000,431000,432000,433000,434000,435000,436000,437000,438000,439000,440000,441000,442000,443000,444000,445000,446000,447000,448000,449000,450000,451000,452000,453000,454000,455000,456000,457000,458000,459000,460000,461000,462000,463000,464000,465000,466000,467000,468000,469000,470000,471000,472000,473000,474000,475000,476000,477000,478000,479000,480000,481000,482000,483000,484000,485000,486000,487000,488000,489000,490000,491000,492000,493000,494000,495000,496000,497000,498000,499000,500000,501000,502000,503000,504000,505000,506000,507000,508000,509000,510000,511000,512000,513000,514000,515000,516000,517000,518000,519000,520000,521000,522000,523000,524000,525000,526000,527000,528000,529000,530000,531000,532000,533000,534000,535000,536000,537000,538000,539000,540000,541000,542000,543000,544000,545000,546000,547000,548000,549000,550000,551000,552000,553000,554000,555000,556000,557000,558000,559000,560000,561000,562000,563000,564000,565000,566000,567000,568000,569000,570000,571000,572000,573000,574000,575000,576000,577000,578000,579000,580000,581000,582000,583000,584000,585000,586000,587000,588000,589000,590000,591000,592000,593000,594000,595000,596000,597000,598000,599000,600000],\"y\":{\"__ndarray__\":\"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\",\"dtype\":\"float64\",\"shape\":[600]}}},\"id\":\"f2e7c25e-3c33-4e6f-8acf-de8bc2ea8a9f\",\"type\":\"ColumnDataSource\"},{\"attributes\":{\"plot\":{\"id\":\"794af2d6-3b01-492f-b67f-ee07339e18db\",\"subtype\":\"Figure\",\"type\":\"Plot\"}},\"id\":\"4a8af3c0-03bd-4495-9364-77a82bfc89e4\",\"type\":\"SaveTool\"},{\"attributes\":{\"callback\":null,\"column_names\":[\"x\",\"y\"],\"data\":{\"x\":[0,1000,2000,3000,4000,5000,6000,7000,8000,9000,10000,11000,12000,13000,14000,15000,16000,17000,18000,19000,20000,21000,22000,23000,24000,25000,26000,27000,28000,29000,30000,31000,32000,33000,34000,35000,36000,37000,38000,39000,40000,41000,42000,43000,44000,45000,46000,47000,48000,49000,50000,51000,52000,53000,54000,55000,56000,57000,58000,59000,60000,61000,62000,63000,64000,65000,66000,67000,68000,69000,70000,71000,72000,73000,74000,75000,76000,77000,78000,79000,80000,81000,82000,83000,84000,85000,86000,87000,88000,89000,90000,91000,92000,93000,94000,95000,96000,97000,98000,99000,100000,101000,102000,103000,104000,105000,106000,107000,108000,109000,110000,111000,112000,113000,114000,115000,116000,117000,118000,119000,120000,121000,122000,123000,124000,125000,126000,127000,128000,129000,130000,131000,132000,133000,134000,135000,136000,137000,138000,139000,140000,141000,142000,143000,144000,145000,146000,147000,148000,149000,150000,151000,152000,153000,154000,155000,156000,157000,158000,159000,160000,161000,162000,163000,164000,165000,166000,167000,168000,169000,170000,171000,172000,173000,174000,175000,176000,177000,178000,179000,180000,181000,182000,183000,184000,185000,186000,187000,188000,189000,190000,191000,192000,193000,194000,195000,196000,197000,198000,199000,200000,201000,202000,203000,204000,205000,206000,207000,208000,209000,210000,211000,212000,213000,214000,215000,216000,217000,218000,219000,220000,221000,222000,223000,224000,225000,226000,227000,228000,229000,230000,231000,232000,233000,234000,235000,236000,237000,238000,239000,240000,241000,242000,243000,244000,245000,246000,247000,248000,249000,250000,251000,252000,253000,254000,255000,256000,257000,258000,259000,260000,261000,262000,263000,264000,265000,266000,267000,268000,269000,270000,271000,272000,273000,274000,275000,276000,277000,278000,279000,280000,281000,282000,283000,284000,285000,286000,287000,288000,289000,290000,291000,292000,293000,294000,295000,296000,297000,298000,299000,300000,301000,302000,303000,304000,305000,306000,307000,308000,309000,310000,311000,312000,313000,314000,315000,316000,317000,318000,319000,320000,321000,322000,323000,324000,325000,326000,327000,328000,329000,330000,331000,332000,333000,334000,335000,336000,337000,338000,339000,340000,341000,342000,343000,344000,345000,346000,347000,348000,349000,350000,351000,352000,353000,354000,355000,356000,357000,358000,359000,360000,361000,362000,363000,364000,365000,366000,367000,368000,369000,370000,371000,372000,373000,374000,375000,376000,377000,378000,379000,380000,381000,382000,383000,384000,385000,386000,387000,388000,389000,390000,391000,392000,393000,394000,395000,396000,397000,398000,399000,400000,401000,402000,403000,404000,405000,406000,407000,408000,409000,410000,411000,412000,413000,414000,415000,416000,417000,418000,419000,420000,421000,422000,423000,424000,425000,426000,427000,428000,429000,430000,431000,432000,433000,434000,435000,436000,437000,438000,439000,440000,441000,442000,443000,444000,445000,446000,447000,448000,449000,450000,451000,452000,453000,454000,455000,456000,457000,458000,459000,460000,461000,462000,463000,464000,465000,466000,467000,468000,469000,470000,471000,472000,473000,474000,475000,476000,477000,478000,479000,480000,481000,482000,483000,484000,485000,486000,487000,488000,489000,490000,491000,492000,493000,494000,495000,496000,497000,498000,499000,500000,501000,502000,503000,504000,505000,506000,507000,508000,509000,510000,511000,512000,513000,514000,515000,516000,517000,518000,519000,520000,521000,522000,523000,524000,525000,526000,527000,528000,529000,530000,531000,532000,533000,534000,535000,536000,537000,538000,539000,540000,541000,542000,543000,544000,545000,546000,547000,548000,549000,550000,551000,552000,553000,554000,555000,556000,557000,558000,559000,560000,561000,562000,563000,564000,565000,566000,567000,568000,569000,570000,571000,572000,573000,574000,575000,576000,577000,578000,579000,580000,581000,582000,583000,584000,585000,586000,587000,588000,589000,590000,591000,592000,593000,594000,595000,596000,597000,598000,599000,600000],\"y\":{\"__ndarray__\":\"AAAAAAAA8D8AAAAAAFBeQAAAAAAAuGdAAAAAAABwb0AAAAAAAExwQAAAAAAANHRAAAAAAABAd0AAAAAAAHx8QAAAAAAAfH5AAAAAAACagUAAAAAAAIaCQAAAAAAAdIRAAAAAAAD0hUAAAAAAAGyGQAAAAAAAwoZAAAAAAABsh0AAAAAAAHSHQAAAAAAAlIdAAAAAAACeh0AAAAAAAJ6HQAAAAAAAnodAAAAAAABMiEAAAAAAAGyJQAAAAAAAoIlAAAAAAAAOikAAAAAAABSKQAAAAAAAHIpAAAAAAAAgikAAAAAAACCKQAAAAAAAIIpAAAAAAAAiikAAAAAAAG6KQAAAAAAAmIpAAAAAAACYikAAAAAAAKKKQAAAAAAAsopAAAAAAADiikAAAAAAAO6KQAAAAAAA7opAAAAAAADuikAAAAAAAO6KQAAAAAAA7opAAAAAAADuikAAAAAAAO6KQAAAAAAA8opAAAAAAADajEAAAAAAAFqNQAAAAAAA9I1AAAAAAAA+j0AAAAAAAASQQAAAAAAAUJBAAAAAAABQkEAAAAAAAFCQQAAAAAAAUJBAAAAAAABQkEAAAAAAAFCQQAAAAAAAdpBAAAAAAAB2kEAAAAAAAHaQQAAAAAAAdpBAAAAAAAB2kEAAAAAAAAeRQAAAAAAAKpFAAAAAAAA1kUAAAAAAADWRQAAAAAAANZFAAAAAAAA5kUAAAAAAADmRQAAAAAAAO5FAAAAAAAA8kUAAAAAAAFKRQAAAAAAAUpFAAAAAAABSkUAAAAAAAFKRQAAAAAAAWZFAAAAAAADCkUAAAAAAAMKRQAAAAAAAwpFAAAAAAADukUAAAAAAAHGSQAAAAAAAxJJAAAAAAADnkkAAAAAAAJCTQAAAAAAApZNAAAAAAACnk0AAAAAAAKeTQAAAAAAAqpNAAAAAAADMk0AAAAAAAMyTQAAAAAAAzJNAAAAAAADMk0AAAAAAAMyTQAAAAAAA9pNAAAAAAAD5k0AAAAAAAPuTQAAAAAAAAJRAAAAAAAAAlEAAAAAAAAOUQAAAAAAABJRAAAAAAABJlEAAAAAAAFSUQAAAAAAAVJRAAAAAAABUlEAAAAAAAFSUQAAAAAAAWZRAAAAAAABalEAAAAAAAFqUQAAAAAAAWpRAAAAAAABalEAAAAAAAFqUQAAAAAAAWpRAAAAAAABalEAAAAAAAF2UQAAAAAAAXZRAAAAAAABdlEAAAAAAAF6UQAAAAAAArZRAAAAAAACtlEAAAAAAAK2UQAAAAAAAr5RAAAAAAACwlEAAAAAAALOUQAAAAAAA85RAAAAAAACilUAAAAAAALKVQAAAAAAAAZZAAAAAAAABlkAAAAAAAAGWQAAAAAAAAZZAAAAAAAABlkAAAAAAAAGWQAAAAAAAAZZAAAAAAAABlkAAAAAAADyWQAAAAAAAXJZAAAAAAADNlkAAAAAAAOmWQAAAAAAA6pZAAAAAAADylkAAAAAAAPKWQAAAAAAA8pZAAAAAAADylkAAAAAAAPKWQAAAAAAA8pZAAAAAAADylkAAAAAAAPKWQAAAAAAA8pZAAAAAAADylkAAAAAAAPKWQAAAAAAAOpdAAAAAAABAl0AAAAAAAECXQAAAAAAAQJdAAAAAAABAl0AAAAAAAECXQAAAAAAAQJdAAAAAAABAl0AAAAAAAFKXQAAAAAAAZJdAAAAAAABkl0AAAAAAAI+XQAAAAAAAkpdAAAAAAACSl0AAAAAAAJKXQAAAAAAAkpdAAAAAAACSl0AAAAAAAJKXQAAAAAAAkpdAAAAAAACSl0AAAAAAAJKXQAAAAAAAyJdAAAAAAABbmEAAAAAAAHKYQAAAAAAAgphAAAAAAACTmEAAAAAAAJ2YQAAAAAAAnZhAAAAAAACdmEAAAAAAAJ2YQAAAAAAAp5hAAAAAAACwmEAAAAAAALCYQAAAAAAAuZhAAAAAAAC5mEAAAAAAAMiYQAAAAAAAIJlAAAAAAAAxmUAAAAAAAIGZQAAAAAAAzJlAAAAAAADMmUAAAAAAAMyZQAAAAAAAzplAAAAAAADOmUAAAAAAAM6ZQAAAAAAA0JlAAAAAAADQmUAAAAAAANCZQAAAAAAA25lAAAAAAAARmkAAAAAAABGaQAAAAAAAEZpAAAAAAAARmkAAAAAAABGaQAAAAAAAEZpAAAAAAAARmkAAAAAAABGaQAAAAAAAEZpAAAAAAAARmkAAAAAAABGaQAAAAAAAEZpAAAAAAAARmkAAAAAAABGaQAAAAAAAEppAAAAAAAASmkAAAAAAABKaQAAAAAAAEppAAAAAAAASmkAAAAAAABKaQAAAAAAAIJpAAAAAAAA3mkAAAAAAAJiaQAAAAAAAuZpAAAAAAAC/mkAAAAAAAMGaQAAAAAAAxZpAAAAAAADImkAAAAAAANCaQAAAAAAA0ZpAAAAAAADRmkAAAAAAANSaQAAAAAAA1JpAAAAAAADVmkAAAAAAANuaQAAAAAAA3ZpAAAAAAADjmkAAAAAAAOOaQAAAAAAA45pAAAAAAADlmkAAAAAAAPiaQAAAAAAA+JpAAAAAAAD4mkAAAAAAAPiaQAAAAAAA+JpAAAAAAAD4mkAAAAAAAPiaQAAAAAAA/JpAAAAAAAD8mkAAAAAAAPyaQAAAAAAA/JpAAAAAAAD8mkAAAAAAAPyaQAAAAAAA/JpAAAAAAAD8mkAAAAAAAPyaQAAAAAAA/JpAAAAAAAD8mkAAAAAAAPyaQAAAAAAA/JpAAAAAAAD8mkAAAAAAAPyaQAAAAAAAIJtAAAAAAABCm0AAAAAAAEKbQAAAAAAAQptAAAAAAABCm0AAAAAAAEKbQAAAAAAAQptAAAAAAABCm0AAAAAAAEKbQAAAAAAAQptAAAAAAABCm0AAAAAAAF+bQAAAAAAA5JtAAAAAAADxm0AAAAAAAPObQAAAAAAA9JtAAAAAAAD0m0AAAAAAAPSbQAAAAAAA+ZtAAAAAAAAEnEAAAAAAAAScQAAAAAAACZxAAAAAAAAJnEAAAAAAAAqcQAAAAAAAGZxAAAAAAAC/nEAAAAAAAOicQAAAAAAA7JxAAAAAAADsnEAAAAAAAOycQAAAAAAA7JxAAAAAAADsnEAAAAAAAOycQAAAAAAA7JxAAAAAAADtnEAAAAAAAO2cQAAAAAAA7ZxAAAAAAADvnEAAAAAAAO+cQAAAAAAAVp1AAAAAAABWnUAAAAAAAFadQAAAAAAAVp1AAAAAAABWnUAAAAAAAFadQAAAAAAAVp1AAAAAAABWnUAAAAAAAFadQAAAAAAAVp1AAAAAAABWnUAAAAAAAFadQAAAAAAAVp1AAAAAAABWnUAAAAAAAFadQAAAAAAAVp1AAAAAAABWnUAAAAAAAFadQAAAAAAAVp1AAAAAAABWnUAAAAAAAFadQAAAAAAAVp1AAAAAAABWnUAAAAAAAFadQAAAAAAAVp1AAAAAAABWnUAAAAAAAFadQAAAAAAAVp1AAAAAAABWnUAAAAAAAFadQAAAAAAAVp1AAAAAAABWnUAAAAAAAFadQAAAAAAAZZ1AAAAAAABunUAAAAAAAG+dQAAAAAAAb51AAAAAAABvnUAAAAAAAG+dQAAAAAAAb51AAAAAAABwnUAAAAAAAHCdQAAAAAAAcJ1AAAAAAABwnUAAAAAAAHCdQAAAAAAAcJ1AAAAAAABwnUAAAAAAAHCdQAAAAAAAcJ1AAAAAAABwnUAAAAAAAHCdQAAAAAAAcJ1AAAAAAABwnUAAAAAAAHCdQAAAAAAAcJ1AAAAAAABwnUAAAAAAAHCdQAAAAAAAcJ1AAAAAAABwnUAAAAAAAHCdQAAAAAAAcJ1AAAAAAABwnUAAAAAAAHCdQAAAAAAAcJ1AAAAAAABwnUAAAAAAAHCdQAAAAAAAcJ1AAAAAAABwnUAAAAAAAHCdQAAAAAAAcJ1AAAAAAABwnUAAAAAAAHCdQAAAAAAAcJ1AAAAAAABwnUAAAAAAAHCdQAAAAAAAcJ1AAAAAAABwnUAAAAAAAHCdQAAAAAAAcJ1AAAAAAABwnUAAAAAAAHCdQAAAAAAAcJ1AAAAAAABwnUAAAAAAAHCdQAAAAAAAcJ1AAAAAAABwnUAAAAAAAHCdQAAAAAAAcJ1AAAAAAABwnUAAAAAAAHCdQAAAAAAAcJ1AAAAAAABwnUAAAAAAAHCdQAAAAAAAcJ1AAAAAAABwnUAAAAAAAHCdQAAAAAAAcJ1AAAAAAABwnUAAAAAAAHKdQAAAAAAAcp1AAAAAAABynUAAAAAAAHKdQAAAAAAAcp1AAAAAAABynUAAAAAAAHKdQAAAAAAAcp1AAAAAAABynUAAAAAAAHKdQAAAAAAAcp1AAAAAAABynUAAAAAAAHKdQAAAAAAAcp1AAAAAAABynUAAAAAAAHKdQAAAAAAAcp1AAAAAAABynUAAAAAAAHKdQAAAAAAAcp1AAAAAAABynUAAAAAAAHKdQAAAAAAAcp1AAAAAAABynUAAAAAAAHKdQAAAAAAAcp1AAAAAAABynUAAAAAAAHKdQAAAAAAAcp1AAAAAAABynUAAAAAAAHKdQAAAAAAAcp1AAAAAAABynUAAAAAAAHKdQAAAAAAAcp1AAAAAAABynUAAAAAAAHKdQAAAAAAAcp1AAAAAAABynUAAAAAAAHKdQAAAAAAAcp1AAAAAAABynUAAAAAAAHKdQAAAAAAAcp1AAAAAAABynUAAAAAAAHKdQAAAAAAAcp1AAAAAAABynUAAAAAAAHKdQAAAAAAAcp1AAAAAAABynUAAAAAAAHKdQAAAAAAAcp1AAAAAAABynUAAAAAAAHKdQAAAAAAAcp1AAAAAAABynUAAAAAAAHKdQAAAAAAAcp1AAAAAAABynUAAAAAAAHKdQAAAAAAAcp1AAAAAAABynUAAAAAAAHKdQAAAAAAAcp1AAAAAAABynUAAAAAAAHKdQAAAAAAAcp1AAAAAAABynUAAAAAAAHKdQAAAAAAAcp1AAAAAAABynUAAAAAAAHKdQAAAAAAAcp1AAAAAAABynUAAAAAAAHKdQAAAAAAAcp1AAAAAAABynUAAAAAAAHKdQAAAAAAAcp1AAAAAAABynUAAAAAAAHKdQAAAAAAAcp1AAAAAAABynUAAAAAAAHKdQAAAAAAAcp1AAAAAAABynUAAAAAAAHKdQAAAAAAAcp1AAAAAAABynUAAAAAAAHKdQAAAAAAAcp1AAAAAAABynUAAAAAAAHKdQAAAAAAAcp1AAAAAAABynUAAAAAAAHKdQAAAAAAAcp1AAAAAAABynUAAAAAAAHKdQAAAAAAAcp1AAAAAAABynUAAAAAAAHKdQAAAAAAAcp1AAAAAAABynUAAAAAAAHKdQAAAAAAAcp1AAAAAAABynUAAAAAAAHKdQAAAAAAAcp1AAAAAAABynUAAAAAAAHKdQAAAAAAAcp1AAAAAAABynUAAAAAAAHKdQAAAAAAAcp1AAAAAAABynUAAAAAAAHKdQAAAAAAAcp1AAAAAAABynUAAAAAAAHKdQAAAAAAAcp1AAAAAAABynUAAAAAAAHKdQAAAAAAAcp1AAAAAAABynUAAAAAAAHKdQAAAAAAAcp1AAAAAAABynUAAAAAAAHKdQAAAAAAAcp1AAAAAAABynUAAAAAAAHKdQAAAAAAAcp1AAAAAAABynUAAAAAAAHKdQAAAAAAAcp1AAAAAAABynUAAAAAAAHKdQAAAAAAAcp1AAAAAAABynUAAAAAAAHKdQAAAAAAAcp1AAAAAAABynUAAAAAAAHKdQAAAAAAAcp1AAAAAAABynUAAAAAAAHKdQAAAAAAAcp1AAAAAAABynUAAAAAAAHKdQAAAAAAAcp1AAAAAAABynUAAAAAAAHKdQAAAAAAAcp1AAAAAAABynUAAAAAAAHKdQAAAAAAAcp1AAAAAAABynUAAAAAAAHKdQAAAAAAAcp1AAAAAAABynUAAAAAAAHKdQAAAAAAAcp1AAAAAAABynUAAAAAAAHKdQAAAAAAAcp1AAAAAAABynUAAAAAAAHKdQAAAAAAAcp1AAAAAAABynUAAAAAAAHKdQAAAAAAAcp1AAAAAAABynUAAAAAAAHKdQAAAAAAAcp1AAAAAAABynUAAAAAAAHKdQAAAAAAAcp1AAAAAAABynUAAAAAAAHKdQAAAAAAAcp1AAAAAAABynUAAAAAAAHKdQAAAAAAAcp1AAAAAAABynUAAAAAAAHKdQAAAAAAAcp1AAAAAAABynUAAAAAAAHKdQAAAAAAAcp1AAAAAAABynUAAAAAAAHKdQAAAAAAAcp1AAAAAAABynUAAAAAAAHKdQAAAAAAAcp1AAAAAAABynUAAAAAAAHKdQAAAAAAAcp1AAAAAAABynUAAAAAAAHKdQAAAAAAAcp1A\",\"dtype\":\"float64\",\"shape\":[600]}}},\"id\":\"582cf493-7e45-4034-8f11-09866d14c66b\",\"type\":\"ColumnDataSource\"},{\"attributes\":{\"below\":[{\"id\":\"7095f1a7-60f1-45d9-a323-9a97334a7dce\",\"type\":\"LinearAxis\"}],\"left\":[{\"id\":\"226ebb23-40b3-4d5b-bb9b-e55b4e46fc85\",\"type\":\"LinearAxis\"}],\"plot_height\":800,\"plot_width\":1200,\"renderers\":[{\"id\":\"7095f1a7-60f1-45d9-a323-9a97334a7dce\",\"type\":\"LinearAxis\"},{\"id\":\"3a6689e3-5a7b-49cb-a44a-18a955149844\",\"type\":\"Grid\"},{\"id\":\"226ebb23-40b3-4d5b-bb9b-e55b4e46fc85\",\"type\":\"LinearAxis\"},{\"id\":\"e3aae444-2da7-4631-a402-e9ad59da9219\",\"type\":\"Grid\"},{\"id\":\"7f9e1fe1-73e6-47e3-8af1-e3d71e89bd1a\",\"type\":\"BoxAnnotation\"},{\"id\":\"4b69592d-337d-4f95-8edd-02af102464c4\",\"type\":\"GlyphRenderer\"},{\"id\":\"b14dba24-9102-4b62-b214-ffc46e1d1c2b\",\"type\":\"GlyphRenderer\"},{\"id\":\"937e0cfb-712c-4265-bb81-fb7f0e425236\",\"type\":\"GlyphRenderer\"},{\"id\":\"42203d84-079e-441a-8ba3-bbe36bb45047\",\"type\":\"GlyphRenderer\"},{\"id\":\"b524f9b8-13d2-423f-99f1-4e2ac29b4242\",\"type\":\"GlyphRenderer\"},{\"id\":\"93da76b1-31b7-49a6-bb91-dde27467d71e\",\"type\":\"GlyphRenderer\"},{\"id\":\"673be7b1-b685-45b3-80ff-249c0e1f7d38\",\"type\":\"GlyphRenderer\"},{\"id\":\"d9fec2cf-0416-42fc-9da5-b2973be58aef\",\"type\":\"GlyphRenderer\"},{\"id\":\"358d1f33-ceb9-4fdb-bd95-8421cfc81e56\",\"type\":\"Legend\"}],\"right\":[{\"id\":\"358d1f33-ceb9-4fdb-bd95-8421cfc81e56\",\"type\":\"Legend\"}],\"title\":{\"id\":\"0bb4108f-46bb-47be-810e-0182092a1e79\",\"type\":\"Title\"},\"tool_events\":{\"id\":\"ef82dd2e-2312-4e16-b5ed-80eee40f0633\",\"type\":\"ToolEvents\"},\"toolbar\":{\"id\":\"7e8068d4-d2f3-4a5d-8b44-9d8b65bddeef\",\"type\":\"Toolbar\"},\"toolbar_location\":\"above\",\"x_range\":{\"id\":\"f69085a2-1bd3-4031-a7f7-2e94b9622a0e\",\"type\":\"DataRange1d\"},\"y_range\":{\"id\":\"b1441e75-3d19-4174-90e4-292e96f0f699\",\"type\":\"DataRange1d\"}},\"id\":\"794af2d6-3b01-492f-b67f-ee07339e18db\",\"subtype\":\"Figure\",\"type\":\"Plot\"},{\"attributes\":{\"line_color\":{\"value\":\"#377eb8\"},\"line_width\":{\"value\":2},\"x\":{\"field\":\"x\"},\"y\":{\"field\":\"y\"}},\"id\":\"6ac00285-b4c8-4635-9782-8de518f635bd\",\"type\":\"Line\"},{\"attributes\":{\"plot\":{\"id\":\"794af2d6-3b01-492f-b67f-ee07339e18db\",\"subtype\":\"Figure\",\"type\":\"Plot\"}},\"id\":\"5f2ef312-67e2-4f29-a25e-076ab1f15e31\",\"type\":\"ResetTool\"},{\"attributes\":{\"callback\":null,\"column_names\":[\"x\",\"y\"],\"data\":{\"x\":[0,1000,2000,3000,4000,5000,6000,7000,8000,9000,10000,11000,12000,13000,14000,15000,16000,17000,18000,19000,20000,21000,22000,23000,24000,25000,26000,27000,28000,29000,30000,31000,32000,33000,34000,35000,36000,37000,38000,39000,40000,41000,42000,43000,44000,45000,46000,47000,48000,49000,50000,51000,52000,53000,54000,55000,56000,57000,58000,59000,60000,61000,62000,63000,64000,65000,66000,67000,68000,69000,70000,71000,72000,73000,74000,75000,76000,77000,78000,79000,80000,81000,82000,83000,84000,85000,86000,87000,88000,89000,90000,91000,92000,93000,94000,95000,96000,97000,98000,99000,100000,101000,102000,103000,104000,105000,106000,107000,108000,109000,110000,111000,112000,113000,114000,115000,116000,117000,118000,119000,120000,121000,122000,123000,124000,125000,126000,127000,128000,129000,130000,131000,132000,133000,134000,135000,136000,137000,138000,139000,140000,141000,142000,143000,144000,145000,146000,147000,148000,149000,150000,151000,152000,153000,154000,155000,156000,157000,158000,159000,160000,161000,162000,163000,164000,165000,166000,167000,168000,169000,170000,171000,172000,173000,174000,175000,176000,177000,178000,179000,180000,181000,182000,183000,184000,185000,186000,187000,188000,189000,190000,191000,192000,193000,194000,195000,196000,197000,198000,199000,200000,201000,202000,203000,204000,205000,206000,207000,208000,209000,210000,211000,212000,213000,214000,215000,216000,217000,218000,219000,220000,221000,222000,223000,224000,225000,226000,227000,228000,229000,230000,231000,232000,233000,234000,235000,236000,237000,238000,239000,240000,241000,242000,243000,244000,245000,246000,247000,248000,249000,250000,251000,252000,253000,254000,255000,256000,257000,258000,259000,260000,261000,262000,263000,264000,265000,266000,267000,268000,269000,270000,271000,272000,273000,274000,275000,276000,277000,278000,279000,280000,281000,282000,283000,284000,285000,286000,287000,288000,289000,290000,291000,292000,293000,294000,295000,296000,297000,298000,299000,300000,301000,302000,303000,304000,305000,306000,307000,308000,309000,310000,311000,312000,313000,314000,315000,316000,317000,318000,319000,320000,321000,322000,323000,324000,325000,326000,327000,328000,329000,330000,331000,332000,333000,334000,335000,336000,337000,338000,339000,340000,341000,342000,343000,344000,345000,346000,347000,348000,349000,350000,351000,352000,353000,354000,355000,356000,357000,358000,359000,360000,361000,362000,363000,364000,365000,366000,367000,368000,369000,370000,371000,372000,373000,374000,375000,376000,377000,378000,379000,380000,381000,382000,383000,384000,385000,386000,387000,388000,389000,390000,391000,392000,393000,394000,395000,396000,397000,398000,399000,400000,401000,402000,403000,404000,405000,406000,407000,408000,409000,410000,411000,412000,413000,414000,415000,416000,417000,418000,419000,420000,421000,422000,423000,424000,425000,426000,427000,428000,429000,430000,431000,432000,433000,434000,435000,436000,437000,438000,439000,440000,441000,442000,443000,444000,445000,446000,447000,448000,449000,450000,451000,452000,453000,454000,455000,456000,457000,458000,459000,460000,461000,462000,463000,464000,465000,466000,467000,468000,469000,470000,471000,472000,473000,474000,475000,476000,477000,478000,479000,480000,481000,482000,483000,484000,485000,486000,487000,488000,489000,490000,491000,492000,493000,494000,495000,496000,497000,498000,499000,500000,501000,502000,503000,504000,505000,506000,507000,508000,509000,510000,511000,512000,513000,514000,515000,516000,517000,518000,519000,520000,521000,522000,523000,524000,525000,526000,527000,528000,529000,530000,531000,532000,533000,534000,535000,536000,537000,538000,539000,540000,541000,542000,543000,544000,545000,546000,547000,548000,549000,550000,551000,552000,553000,554000,555000,556000,557000,558000,559000,560000,561000,562000,563000,564000,565000,566000,567000,568000,569000,570000,571000,572000,573000,574000,575000,576000,577000,578000,579000,580000,581000,582000,583000,584000,585000,586000,587000,588000,589000,590000,591000,592000,593000,594000,595000,596000,597000,598000,599000,600000],\"y\":{\"__ndarray__\":\"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\",\"dtype\":\"float64\",\"shape\":[600]}}},\"id\":\"748b0e03-a748-4af0-b3a3-f72123a39146\",\"type\":\"ColumnDataSource\"},{\"attributes\":{\"line_color\":{\"value\":\"#984ea3\"},\"line_width\":{\"value\":2},\"x\":{\"field\":\"x\"},\"y\":{\"field\":\"y\"}},\"id\":\"4075afdd-a2fb-4eba-9bba-3e4c79b3882b\",\"type\":\"Line\"}],\"root_ids\":[\"794af2d6-3b01-492f-b67f-ee07339e18db\"]},\"title\":\"Bokeh Application\",\"version\":\"0.12.4\"}};\n",
       "            var render_items = [{\"docid\":\"1428e4aa-9b57-4bdd-b79c-ce31cb5e0743\",\"elementid\":\"e1daf651-6025-4013-a057-12d6616c900f\",\"modelid\":\"794af2d6-3b01-492f-b67f-ee07339e18db\"}];\n",
       "            \n",
       "            Bokeh.embed.embed_items(docs_json, render_items);\n",
       "          };\n",
       "          if (document.readyState != \"loading\") fn();\n",
       "          else document.addEventListener(\"DOMContentLoaded\", fn);\n",
       "        })();\n",
       "      },\n",
       "      function(Bokeh) {\n",
       "      }\n",
       "    ];\n",
       "  \n",
       "    function run_inline_js() {\n",
       "      \n",
       "      if ((window.Bokeh !== undefined) || (force === true)) {\n",
       "        for (var i = 0; i < inline_js.length; i++) {\n",
       "          inline_js[i](window.Bokeh);\n",
       "        }if (force === true) {\n",
       "          display_loaded();\n",
       "        }} else if (Date.now() < window._bokeh_timeout) {\n",
       "        setTimeout(run_inline_js, 100);\n",
       "      } else if (!window._bokeh_failed_load) {\n",
       "        console.log(\"Bokeh: BokehJS failed to load within specified timeout.\");\n",
       "        window._bokeh_failed_load = true;\n",
       "      } else if (force !== true) {\n",
       "        var cell = $(document.getElementById(\"e1daf651-6025-4013-a057-12d6616c900f\")).parents('.cell').data().cell;\n",
       "        cell.output_area.append_execute_result(NB_LOAD_WARNING)\n",
       "      }\n",
       "  \n",
       "    }\n",
       "  \n",
       "    if (window._bokeh_is_loading === 0) {\n",
       "      console.log(\"Bokeh: BokehJS loaded, going straight to plotting\");\n",
       "      run_inline_js();\n",
       "    } else {\n",
       "      load_libs(js_urls, function() {\n",
       "        console.log(\"Bokeh: BokehJS plotting callback run at\", now());\n",
       "        run_inline_js();\n",
       "      });\n",
       "    }\n",
       "  }(this));\n",
       "</script>"
      ]
     },
     "metadata": {},
     "output_type": "display_data"
    }
   ],
   "source": [
    "plot_averages_b(names, t_maxs, colours, legends, directories, step=1000, title=env)\n",
    "plot_states(names, t_maxs, colours, legends, directories, step=1000, title=env)"
   ]
  },
  {
   "cell_type": "code",
   "execution_count": null,
   "metadata": {
    "collapsed": true,
    "deletable": true,
    "editable": true
   },
   "outputs": [],
   "source": []
  },
  {
   "cell_type": "code",
   "execution_count": null,
   "metadata": {
    "collapsed": true,
    "deletable": true,
    "editable": true
   },
   "outputs": [],
   "source": []
  },
  {
   "cell_type": "code",
   "execution_count": null,
   "metadata": {
    "collapsed": true,
    "deletable": true,
    "editable": true
   },
   "outputs": [],
   "source": [
    "DQN_Smoothed = []\n",
    "for times, rewards in zip(DQN_Lengths_C, DQN_Rewards):\n",
    "    linear = interp1d(times, rewards, kind=\"linear\")\n",
    "    linear_rewards = linear([i for i in range(500000)])\n",
    "    DQN_Smoothed.append(linear_rewards)"
   ]
  },
  {
   "cell_type": "code",
   "execution_count": null,
   "metadata": {
    "collapsed": true,
    "deletable": true,
    "editable": true
   },
   "outputs": [],
   "source": [
    "DQN_Means = np.mean(DQN_Smoothed, axis=0)"
   ]
  },
  {
   "cell_type": "code",
   "execution_count": null,
   "metadata": {
    "collapsed": true,
    "deletable": true,
    "editable": true
   },
   "outputs": [],
   "source": [
    "DQN_Stds = np.std(DQN_Smoothed, axis=0)"
   ]
  },
  {
   "cell_type": "code",
   "execution_count": null,
   "metadata": {
    "collapsed": false,
    "deletable": true,
    "editable": true
   },
   "outputs": [],
   "source": [
    "plt.fill_between([i for i in range(500000)], DQN_Means - DQN_Stds, DQN_Means + DQN_Stds, color=\"red\", alpha=0.3, edgecolor=\"white\")\n",
    "\n",
    "plt.plot([i for i in range(500000)], DQN_Means, color=\"red\")"
   ]
  },
  {
   "cell_type": "code",
   "execution_count": null,
   "metadata": {
    "collapsed": false,
    "deletable": true,
    "editable": true
   },
   "outputs": [],
   "source": [
    "len(DQN_Repeat)"
   ]
  },
  {
   "cell_type": "code",
   "execution_count": null,
   "metadata": {
    "collapsed": true,
    "deletable": true,
    "editable": true
   },
   "outputs": [],
   "source": [
    "plt.plot(DQN)"
   ]
  },
  {
   "cell_type": "code",
   "execution_count": null,
   "metadata": {
    "collapsed": true,
    "deletable": true,
    "editable": true
   },
   "outputs": [],
   "source": [
    "directories = [\"Logs/\"]"
   ]
  },
  {
   "cell_type": "code",
   "execution_count": null,
   "metadata": {
    "collapsed": false,
    "deletable": true,
    "editable": true
   },
   "outputs": [],
   "source": [
    "for i in range(0, 10, 2):\n",
    "    print(i)"
   ]
  },
  {
   "cell_type": "code",
   "execution_count": null,
   "metadata": {
    "collapsed": true,
    "deletable": true,
    "editable": true
   },
   "outputs": [],
   "source": []
  }
 ],
 "metadata": {
  "kernelspec": {
   "display_name": "Python 3",
   "language": "python",
   "name": "python3"
  },
  "language_info": {
   "codemirror_mode": {
    "name": "ipython",
    "version": 3
   },
   "file_extension": ".py",
   "mimetype": "text/x-python",
   "name": "python",
   "nbconvert_exporter": "python",
   "pygments_lexer": "ipython3",
   "version": "3.5.3"
  }
 },
 "nbformat": 4,
 "nbformat_minor": 2
}
