{
 "cells": [
  {
   "cell_type": "code",
   "execution_count": 1,
   "metadata": {
    "collapsed": false
   },
   "outputs": [
    {
     "name": "stderr",
     "output_type": "stream",
     "text": [
      "[2017-02-14 19:05:11,322] Making new env: Maze-2-v1\n"
     ]
    },
    {
     "name": "stdout",
     "output_type": "stream",
     "text": [
      "\n",
      "--------Info--------\n",
      "Logdir: Logs/CTS_Location_2017-02-14_19-05\n",
      "T: 200,000\n",
      "Actions: 4\n",
      "Gamma 0.99\n",
      "Learning Rate: 0.0001\n",
      "Batch Size: 64\n",
      "VIME bonuses: False\n",
      "--------------------\n",
      "\n",
      "\n",
      "-------Models-------\n",
      "Model: DQN\n",
      "Input: 14x14x1\n",
      "Conv: 7x7x8\n",
      "Conv: 7x7x4\n",
      "FC: 196 -> 98\n",
      "FC: 98 -> 4\n",
      "\n",
      "INFO:tensorflow:Summary name Action 0 QValue is illegal; using Action_0_QValue instead.\n"
     ]
    },
    {
     "name": "stderr",
     "output_type": "stream",
     "text": [
      "[2017-02-14 19:05:11,513] Summary name Action 0 QValue is illegal; using Action_0_QValue instead.\n"
     ]
    },
    {
     "name": "stdout",
     "output_type": "stream",
     "text": [
      "INFO:tensorflow:Summary name Action 1 QValue is illegal; using Action_1_QValue instead.\n"
     ]
    },
    {
     "name": "stderr",
     "output_type": "stream",
     "text": [
      "[2017-02-14 19:05:11,519] Summary name Action 1 QValue is illegal; using Action_1_QValue instead.\n"
     ]
    },
    {
     "name": "stdout",
     "output_type": "stream",
     "text": [
      "INFO:tensorflow:Summary name Action 2 QValue is illegal; using Action_2_QValue instead.\n"
     ]
    },
    {
     "name": "stderr",
     "output_type": "stream",
     "text": [
      "[2017-02-14 19:05:11,526] Summary name Action 2 QValue is illegal; using Action_2_QValue instead.\n"
     ]
    },
    {
     "name": "stdout",
     "output_type": "stream",
     "text": [
      "INFO:tensorflow:Summary name Action 3 QValue is illegal; using Action_3_QValue instead.\n"
     ]
    },
    {
     "name": "stderr",
     "output_type": "stream",
     "text": [
      "[2017-02-14 19:05:11,531] Summary name Action 3 QValue is illegal; using Action_3_QValue instead.\n"
     ]
    },
    {
     "name": "stdout",
     "output_type": "stream",
     "text": [
      "INFO:tensorflow:Summary name Average QValue is illegal; using Average_QValue instead.\n"
     ]
    },
    {
     "name": "stderr",
     "output_type": "stream",
     "text": [
      "[2017-02-14 19:05:11,534] Summary name Average QValue is illegal; using Average_QValue instead.\n"
     ]
    },
    {
     "name": "stdout",
     "output_type": "stream",
     "text": [
      "INFO:tensorflow:Summary name Q Values is illegal; using Q_Values instead.\n"
     ]
    },
    {
     "name": "stderr",
     "output_type": "stream",
     "text": [
      "[2017-02-14 19:05:11,536] Summary name Q Values is illegal; using Q_Values instead.\n"
     ]
    },
    {
     "name": "stdout",
     "output_type": "stream",
     "text": [
      "Model: Target_Network\n",
      "Input: 14x14x1\n",
      "Conv: 7x7x8\n",
      "Conv: 7x7x4\n",
      "FC: 196 -> 98\n",
      "FC: 98 -> 4\n",
      "\n",
      "INFO:tensorflow:Summary name Action 0 QValue is illegal; using Action_0_QValue instead.\n"
     ]
    },
    {
     "name": "stderr",
     "output_type": "stream",
     "text": [
      "[2017-02-14 19:05:11,594] Summary name Action 0 QValue is illegal; using Action_0_QValue instead.\n"
     ]
    },
    {
     "name": "stdout",
     "output_type": "stream",
     "text": [
      "INFO:tensorflow:Summary name Action 1 QValue is illegal; using Action_1_QValue instead.\n"
     ]
    },
    {
     "name": "stderr",
     "output_type": "stream",
     "text": [
      "[2017-02-14 19:05:11,600] Summary name Action 1 QValue is illegal; using Action_1_QValue instead.\n"
     ]
    },
    {
     "name": "stdout",
     "output_type": "stream",
     "text": [
      "INFO:tensorflow:Summary name Action 2 QValue is illegal; using Action_2_QValue instead.\n"
     ]
    },
    {
     "name": "stderr",
     "output_type": "stream",
     "text": [
      "[2017-02-14 19:05:11,606] Summary name Action 2 QValue is illegal; using Action_2_QValue instead.\n"
     ]
    },
    {
     "name": "stdout",
     "output_type": "stream",
     "text": [
      "INFO:tensorflow:Summary name Action 3 QValue is illegal; using Action_3_QValue instead.\n"
     ]
    },
    {
     "name": "stderr",
     "output_type": "stream",
     "text": [
      "[2017-02-14 19:05:11,612] Summary name Action 3 QValue is illegal; using Action_3_QValue instead.\n"
     ]
    },
    {
     "name": "stdout",
     "output_type": "stream",
     "text": [
      "INFO:tensorflow:Summary name Average QValue is illegal; using Average_QValue instead.\n"
     ]
    },
    {
     "name": "stderr",
     "output_type": "stream",
     "text": [
      "[2017-02-14 19:05:11,615] Summary name Average QValue is illegal; using Average_QValue instead.\n"
     ]
    },
    {
     "name": "stdout",
     "output_type": "stream",
     "text": [
      "INFO:tensorflow:Summary name Q Values is illegal; using Q_Values instead.\n"
     ]
    },
    {
     "name": "stderr",
     "output_type": "stream",
     "text": [
      "[2017-02-14 19:05:11,617] Summary name Q Values is illegal; using Q_Values instead.\n"
     ]
    },
    {
     "name": "stdout",
     "output_type": "stream",
     "text": [
      "INFO:tensorflow:Summary name Start State Action 0 QValue is illegal; using Start_State_Action_0_QValue instead.\n"
     ]
    },
    {
     "name": "stderr",
     "output_type": "stream",
     "text": [
      "[2017-02-14 19:05:11,624] Summary name Start State Action 0 QValue is illegal; using Start_State_Action_0_QValue instead.\n"
     ]
    },
    {
     "name": "stdout",
     "output_type": "stream",
     "text": [
      "INFO:tensorflow:Summary name Start State Action 1 QValue is illegal; using Start_State_Action_1_QValue instead.\n"
     ]
    },
    {
     "name": "stderr",
     "output_type": "stream",
     "text": [
      "[2017-02-14 19:05:11,629] Summary name Start State Action 1 QValue is illegal; using Start_State_Action_1_QValue instead.\n"
     ]
    },
    {
     "name": "stdout",
     "output_type": "stream",
     "text": [
      "INFO:tensorflow:Summary name Start State Action 2 QValue is illegal; using Start_State_Action_2_QValue instead.\n"
     ]
    },
    {
     "name": "stderr",
     "output_type": "stream",
     "text": [
      "[2017-02-14 19:05:11,635] Summary name Start State Action 2 QValue is illegal; using Start_State_Action_2_QValue instead.\n"
     ]
    },
    {
     "name": "stdout",
     "output_type": "stream",
     "text": [
      "INFO:tensorflow:Summary name Start State Action 3 QValue is illegal; using Start_State_Action_3_QValue instead.\n"
     ]
    },
    {
     "name": "stderr",
     "output_type": "stream",
     "text": [
      "[2017-02-14 19:05:11,640] Summary name Start State Action 3 QValue is illegal; using Start_State_Action_3_QValue instead.\n"
     ]
    },
    {
     "name": "stdout",
     "output_type": "stream",
     "text": [
      "INFO:tensorflow:Summary name Count Episode Reward is illegal; using Count_Episode_Reward instead.\n"
     ]
    },
    {
     "name": "stderr",
     "output_type": "stream",
     "text": [
      "[2017-02-14 19:05:11,651] Summary name Count Episode Reward is illegal; using Count_Episode_Reward instead.\n"
     ]
    },
    {
     "name": "stdout",
     "output_type": "stream",
     "text": [
      "INFO:tensorflow:Summary name DQN Gradients Norm is illegal; using DQN_Gradients_Norm instead.\n"
     ]
    },
    {
     "name": "stderr",
     "output_type": "stream",
     "text": [
      "[2017-02-14 19:05:11,722] Summary name DQN Gradients Norm is illegal; using DQN_Gradients_Norm instead.\n"
     ]
    },
    {
     "name": "stdout",
     "output_type": "stream",
     "text": [
      "INFO:tensorflow:Summary name Episode Reward is illegal; using Episode_Reward instead.\n"
     ]
    },
    {
     "name": "stderr",
     "output_type": "stream",
     "text": [
      "[2017-02-14 19:05:11,807] Summary name Episode Reward is illegal; using Episode_Reward instead.\n"
     ]
    },
    {
     "name": "stdout",
     "output_type": "stream",
     "text": [
      "INFO:tensorflow:Summary name Per Episode Reward is illegal; using Per_Episode_Reward instead.\n"
     ]
    },
    {
     "name": "stderr",
     "output_type": "stream",
     "text": [
      "[2017-02-14 19:05:11,809] Summary name Per Episode Reward is illegal; using Per_Episode_Reward instead.\n"
     ]
    },
    {
     "name": "stdout",
     "output_type": "stream",
     "text": [
      "INFO:tensorflow:Summary name Episode Length is illegal; using Episode_Length instead.\n"
     ]
    },
    {
     "name": "stderr",
     "output_type": "stream",
     "text": [
      "[2017-02-14 19:05:11,814] Summary name Episode Length is illegal; using Episode_Length instead.\n"
     ]
    },
    {
     "name": "stdout",
     "output_type": "stream",
     "text": [
      "Exploratory phase for 10000 steps\n",
      "Exploratory phase finished, starting learning\n",
      "INFO:tensorflow:Logs/CTS_Location_2017-02-14_19-05/ckpts/vars-50000.ckpt is not in all_model_checkpoint_paths. Manually adding it.\n"
     ]
    },
    {
     "name": "stderr",
     "output_type": "stream",
     "text": [
      "[2017-02-14 19:14:14,113] Logs/CTS_Location_2017-02-14_19-05/ckpts/vars-50000.ckpt is not in all_model_checkpoint_paths. Manually adding it.\n"
     ]
    },
    {
     "name": "stdout",
     "output_type": "stream",
     "text": [
      "INFO:tensorflow:Logs/CTS_Location_2017-02-14_19-05/ckpts/vars-100000.ckpt is not in all_model_checkpoint_paths. Manually adding it.\n"
     ]
    },
    {
     "name": "stderr",
     "output_type": "stream",
     "text": [
      "[2017-02-14 19:22:17,652] Logs/CTS_Location_2017-02-14_19-05/ckpts/vars-100000.ckpt is not in all_model_checkpoint_paths. Manually adding it.\n"
     ]
    },
    {
     "name": "stdout",
     "output_type": "stream",
     "text": [
      "INFO:tensorflow:Logs/CTS_Location_2017-02-14_19-05/ckpts/vars-150000.ckpt is not in all_model_checkpoint_paths. Manually adding it.\n"
     ]
    },
    {
     "name": "stderr",
     "output_type": "stream",
     "text": [
      "[2017-02-14 19:30:23,357] Logs/CTS_Location_2017-02-14_19-05/ckpts/vars-150000.ckpt is not in all_model_checkpoint_paths. Manually adding it.\n"
     ]
    },
    {
     "name": "stdout",
     "output_type": "stream",
     "text": [
      "INFO:tensorflow:Logs/CTS_Location_2017-02-14_19-05/ckpts/vars-200000.ckpt is not in all_model_checkpoint_paths. Manually adding it.\n"
     ]
    },
    {
     "name": "stderr",
     "output_type": "stream",
     "text": [
      "[2017-02-14 19:38:21,445] Logs/CTS_Location_2017-02-14_19-05/ckpts/vars-200000.ckpt is not in all_model_checkpoint_paths. Manually adding it.\n"
     ]
    },
    {
     "name": "stdout",
     "output_type": "stream",
     "text": [
      "\n",
      "Running final episode evaluation\n",
      "INFO:tensorflow:Summary name Reward Over Episode is illegal; using Reward_Over_Episode instead.\n"
     ]
    },
    {
     "name": "stderr",
     "output_type": "stream",
     "text": [
      "[2017-02-14 19:38:22,546] Summary name Reward Over Episode is illegal; using Reward_Over_Episode instead.\n"
     ]
    },
    {
     "name": "stdout",
     "output_type": "stream",
     "text": [
      "INFO:tensorflow:Logs/CTS_Location_2017-02-14_19-05/ckpts/vars-200040-FINAL.ckpt is not in all_model_checkpoint_paths. Manually adding it.\n"
     ]
    },
    {
     "name": "stderr",
     "output_type": "stream",
     "text": [
      "[2017-02-14 19:38:22,645] Logs/CTS_Location_2017-02-14_19-05/ckpts/vars-200040-FINAL.ckpt is not in all_model_checkpoint_paths. Manually adding it.\n"
     ]
    },
    {
     "name": "stdout",
     "output_type": "stream",
     "text": [
      "\n",
      "Finished\n"
     ]
    }
   ],
   "source": [
    "%run XpRL.py --name CTS_Location --pseudo True --t_max 200000 --beta 0.05"
   ]
  },
  {
   "cell_type": "code",
   "execution_count": 2,
   "metadata": {
    "collapsed": true
   },
   "outputs": [],
   "source": [
    "from matplotlib import pyplot as plt"
   ]
  },
  {
   "cell_type": "code",
   "execution_count": 3,
   "metadata": {
    "collapsed": true
   },
   "outputs": [],
   "source": [
    "def show_array(a):\n",
    "    plt.gray()\n",
    "    plt.imshow(np.squeeze(a)*255, interpolation=\"nearest\")\n",
    "    plt.show()"
   ]
  },
  {
   "cell_type": "code",
   "execution_count": 4,
   "metadata": {
    "collapsed": false
   },
   "outputs": [
    {
     "data": {
      "image/png": "[encoded data removed]",
      "text/plain": [
       "<matplotlib.figure.Figure at 0x7fa9fd68f7f0>"
      ]
     },
     "metadata": {},
     "output_type": "display_data"
    }
   ],
   "source": [
    "state = env.reset()\n",
    "show_array(state)"
   ]
  },
  {
   "cell_type": "code",
   "execution_count": 5,
   "metadata": {
    "collapsed": false
   },
   "outputs": [
    {
     "data": {
      "text/plain": [
       "-6.580912923132171"
      ]
     },
     "execution_count": 5,
     "metadata": {},
     "output_type": "execute_result"
    }
   ],
   "source": [
    "cts_model.log_prob(state)"
   ]
  },
  {
   "cell_type": "code",
   "execution_count": 6,
   "metadata": {
    "collapsed": false
   },
   "outputs": [
    {
     "name": "stdout",
     "output_type": "stream",
     "text": [
      "(14, 14, 1)\n"
     ]
    },
    {
     "data": {
      "text/plain": [
       "array([[[ 0.33333334],\n",
       "        [ 0.33333334],\n",
       "        [ 0.33333334],\n",
       "        [ 0.        ],\n",
       "        [ 0.33333334],\n",
       "        [ 0.33333334],\n",
       "        [ 0.33333334],\n",
       "        [ 0.33333334],\n",
       "        [ 0.33333334],\n",
       "        [ 0.33333334],\n",
       "        [ 0.        ],\n",
       "        [ 0.33333334],\n",
       "        [ 0.33333334],\n",
       "        [ 0.33333334]],\n",
       "\n",
       "       [[ 0.33333334],\n",
       "        [ 0.        ],\n",
       "        [ 0.        ],\n",
       "        [ 0.        ],\n",
       "        [ 0.        ],\n",
       "        [ 0.        ],\n",
       "        [ 0.33333334],\n",
       "        [ 0.33333334],\n",
       "        [ 0.        ],\n",
       "        [ 1.        ],\n",
       "        [ 0.        ],\n",
       "        [ 0.        ],\n",
       "        [ 0.        ],\n",
       "        [ 0.33333334]],\n",
       "\n",
       "       [[ 0.33333334],\n",
       "        [ 0.        ],\n",
       "        [ 0.33333334],\n",
       "        [ 0.33333334],\n",
       "        [ 0.        ],\n",
       "        [ 0.33333334],\n",
       "        [ 0.33333334],\n",
       "        [ 0.33333334],\n",
       "        [ 0.        ],\n",
       "        [ 0.33333334],\n",
       "        [ 0.33333334],\n",
       "        [ 0.        ],\n",
       "        [ 0.33333334],\n",
       "        [ 0.33333334]],\n",
       "\n",
       "       [[ 0.        ],\n",
       "        [ 0.        ],\n",
       "        [ 0.        ],\n",
       "        [ 0.33333334],\n",
       "        [ 0.        ],\n",
       "        [ 0.        ],\n",
       "        [ 0.        ],\n",
       "        [ 0.        ],\n",
       "        [ 0.        ],\n",
       "        [ 0.        ],\n",
       "        [ 0.33333334],\n",
       "        [ 0.        ],\n",
       "        [ 0.        ],\n",
       "        [ 0.66666669]],\n",
       "\n",
       "       [[ 0.33333334],\n",
       "        [ 0.33333334],\n",
       "        [ 0.        ],\n",
       "        [ 0.33333334],\n",
       "        [ 0.33333334],\n",
       "        [ 0.        ],\n",
       "        [ 0.33333334],\n",
       "        [ 0.33333334],\n",
       "        [ 0.33333334],\n",
       "        [ 0.        ],\n",
       "        [ 0.33333334],\n",
       "        [ 0.33333334],\n",
       "        [ 0.        ],\n",
       "        [ 0.33333334]],\n",
       "\n",
       "       [[ 0.33333334],\n",
       "        [ 0.        ],\n",
       "        [ 0.        ],\n",
       "        [ 0.        ],\n",
       "        [ 0.        ],\n",
       "        [ 0.        ],\n",
       "        [ 0.33333334],\n",
       "        [ 0.33333334],\n",
       "        [ 0.        ],\n",
       "        [ 0.        ],\n",
       "        [ 0.        ],\n",
       "        [ 0.        ],\n",
       "        [ 0.        ],\n",
       "        [ 0.33333334]],\n",
       "\n",
       "       [[ 0.33333334],\n",
       "        [ 0.33333334],\n",
       "        [ 0.33333334],\n",
       "        [ 0.        ],\n",
       "        [ 0.33333334],\n",
       "        [ 0.33333334],\n",
       "        [ 0.33333334],\n",
       "        [ 0.33333334],\n",
       "        [ 0.33333334],\n",
       "        [ 0.33333334],\n",
       "        [ 0.        ],\n",
       "        [ 0.33333334],\n",
       "        [ 0.33333334],\n",
       "        [ 0.33333334]],\n",
       "\n",
       "       [[ 0.33333334],\n",
       "        [ 0.33333334],\n",
       "        [ 0.33333334],\n",
       "        [ 0.        ],\n",
       "        [ 0.33333334],\n",
       "        [ 0.33333334],\n",
       "        [ 0.33333334],\n",
       "        [ 0.33333334],\n",
       "        [ 0.33333334],\n",
       "        [ 0.33333334],\n",
       "        [ 0.        ],\n",
       "        [ 0.33333334],\n",
       "        [ 0.33333334],\n",
       "        [ 0.33333334]],\n",
       "\n",
       "       [[ 0.33333334],\n",
       "        [ 0.        ],\n",
       "        [ 0.        ],\n",
       "        [ 0.        ],\n",
       "        [ 0.        ],\n",
       "        [ 0.        ],\n",
       "        [ 0.33333334],\n",
       "        [ 0.33333334],\n",
       "        [ 0.        ],\n",
       "        [ 0.        ],\n",
       "        [ 0.        ],\n",
       "        [ 0.        ],\n",
       "        [ 0.        ],\n",
       "        [ 0.33333334]],\n",
       "\n",
       "       [[ 0.33333334],\n",
       "        [ 0.        ],\n",
       "        [ 0.33333334],\n",
       "        [ 0.33333334],\n",
       "        [ 0.        ],\n",
       "        [ 0.33333334],\n",
       "        [ 0.33333334],\n",
       "        [ 0.33333334],\n",
       "        [ 0.        ],\n",
       "        [ 0.33333334],\n",
       "        [ 0.33333334],\n",
       "        [ 0.        ],\n",
       "        [ 0.33333334],\n",
       "        [ 0.33333334]],\n",
       "\n",
       "       [[ 0.66666669],\n",
       "        [ 0.        ],\n",
       "        [ 0.        ],\n",
       "        [ 0.33333334],\n",
       "        [ 0.        ],\n",
       "        [ 0.        ],\n",
       "        [ 0.        ],\n",
       "        [ 0.        ],\n",
       "        [ 0.        ],\n",
       "        [ 0.        ],\n",
       "        [ 0.33333334],\n",
       "        [ 0.        ],\n",
       "        [ 0.        ],\n",
       "        [ 0.        ]],\n",
       "\n",
       "       [[ 0.33333334],\n",
       "        [ 0.33333334],\n",
       "        [ 0.        ],\n",
       "        [ 0.33333334],\n",
       "        [ 0.33333334],\n",
       "        [ 0.        ],\n",
       "        [ 0.33333334],\n",
       "        [ 0.33333334],\n",
       "        [ 0.33333334],\n",
       "        [ 0.        ],\n",
       "        [ 0.33333334],\n",
       "        [ 0.33333334],\n",
       "        [ 0.        ],\n",
       "        [ 0.33333334]],\n",
       "\n",
       "       [[ 0.33333334],\n",
       "        [ 0.        ],\n",
       "        [ 0.        ],\n",
       "        [ 0.        ],\n",
       "        [ 0.        ],\n",
       "        [ 0.        ],\n",
       "        [ 0.33333334],\n",
       "        [ 0.33333334],\n",
       "        [ 0.        ],\n",
       "        [ 0.        ],\n",
       "        [ 0.        ],\n",
       "        [ 0.        ],\n",
       "        [ 0.        ],\n",
       "        [ 0.33333334]],\n",
       "\n",
       "       [[ 0.33333334],\n",
       "        [ 0.33333334],\n",
       "        [ 0.33333334],\n",
       "        [ 0.        ],\n",
       "        [ 0.33333334],\n",
       "        [ 0.33333334],\n",
       "        [ 0.33333334],\n",
       "        [ 0.33333334],\n",
       "        [ 0.33333334],\n",
       "        [ 0.33333334],\n",
       "        [ 0.66666669],\n",
       "        [ 0.33333334],\n",
       "        [ 0.33333334],\n",
       "        [ 0.33333334]]], dtype=float32)"
      ]
     },
     "execution_count": 6,
     "metadata": {},
     "output_type": "execute_result"
    }
   ],
   "source": [
    "cts_model.sample()"
   ]
  },
  {
   "cell_type": "code",
   "execution_count": 19,
   "metadata": {
    "collapsed": false
   },
   "outputs": [
    {
     "name": "stdout",
     "output_type": "stream",
     "text": [
      "(14, 14, 1)\n"
     ]
    },
    {
     "data": {
      "image/png": "[encoded data removed]",
      "text/plain": [
       "<matplotlib.figure.Figure at 0x7fa935745978>"
      ]
     },
     "metadata": {},
     "output_type": "display_data"
    }
   ],
   "source": [
    "show_array(cts_model.sample())"
   ]
  },
  {
   "cell_type": "code",
   "execution_count": null,
   "metadata": {
    "collapsed": true
   },
   "outputs": [],
   "source": []
  },
  {
   "cell_type": "code",
   "execution_count": null,
   "metadata": {
    "collapsed": true
   },
   "outputs": [],
   "source": []
  }
 ],
 "metadata": {
  "kernelspec": {
   "display_name": "Python 3",
   "language": "python",
   "name": "python3"
  },
  "language_info": {
   "codemirror_mode": {
    "name": "ipython",
    "version": 3
   },
   "file_extension": ".py",
   "mimetype": "text/x-python",
   "name": "python",
   "nbconvert_exporter": "python",
   "pygments_lexer": "ipython3",
   "version": "3.6.0"
  }
 },
 "nbformat": 4,
 "nbformat_minor": 2
}
