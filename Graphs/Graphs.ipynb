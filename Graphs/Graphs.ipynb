{
 "cells": [
  {
   "cell_type": "code",
   "execution_count": 1,
   "metadata": {
    "collapsed": false,
    "deletable": true,
    "editable": true
   },
   "outputs": [
    {
     "data": {
      "text/html": [
       "\n",
       "    <div class=\"bk-root\">\n",
       "        <a href=\"http://bokeh.pydata.org\" target=\"_blank\" class=\"bk-logo bk-logo-small bk-logo-notebook\"></a>\n",
       "        <span id=\"c32b7a97-cce7-4be5-8105-4bcb705eff55\">Loading BokehJS ...</span>\n",
       "    </div>"
      ]
     },
     "metadata": {},
     "output_type": "display_data"
    },
    {
     "data": {
      "application/javascript": [
       "\n",
       "(function(global) {\n",
       "  function now() {\n",
       "    return new Date();\n",
       "  }\n",
       "\n",
       "  var force = true;\n",
       "\n",
       "  if (typeof (window._bokeh_onload_callbacks) === \"undefined\" || force === true) {\n",
       "    window._bokeh_onload_callbacks = [];\n",
       "    window._bokeh_is_loading = undefined;\n",
       "  }\n",
       "\n",
       "\n",
       "  \n",
       "  if (typeof (window._bokeh_timeout) === \"undefined\" || force === true) {\n",
       "    window._bokeh_timeout = Date.now() + 5000;\n",
       "    window._bokeh_failed_load = false;\n",
       "  }\n",
       "\n",
       "  var NB_LOAD_WARNING = {'data': {'text/html':\n",
       "     \"<div style='background-color: #fdd'>\\n\"+\n",
       "     \"<p>\\n\"+\n",
       "     \"BokehJS does not appear to have successfully loaded. If loading BokehJS from CDN, this \\n\"+\n",
       "     \"may be due to a slow or bad network connection. Possible fixes:\\n\"+\n",
       "     \"</p>\\n\"+\n",
       "     \"<ul>\\n\"+\n",
       "     \"<li>re-rerun `output_notebook()` to attempt to load from CDN again, or</li>\\n\"+\n",
       "     \"<li>use INLINE resources instead, as so:</li>\\n\"+\n",
       "     \"</ul>\\n\"+\n",
       "     \"<code>\\n\"+\n",
       "     \"from bokeh.resources import INLINE\\n\"+\n",
       "     \"output_notebook(resources=INLINE)\\n\"+\n",
       "     \"</code>\\n\"+\n",
       "     \"</div>\"}};\n",
       "\n",
       "  function display_loaded() {\n",
       "    if (window.Bokeh !== undefined) {\n",
       "      document.getElementById(\"c32b7a97-cce7-4be5-8105-4bcb705eff55\").textContent = \"BokehJS successfully loaded.\";\n",
       "    } else if (Date.now() < window._bokeh_timeout) {\n",
       "      setTimeout(display_loaded, 100)\n",
       "    }\n",
       "  }\n",
       "\n",
       "  function run_callbacks() {\n",
       "    window._bokeh_onload_callbacks.forEach(function(callback) { callback() });\n",
       "    delete window._bokeh_onload_callbacks\n",
       "    console.info(\"Bokeh: all callbacks have finished\");\n",
       "  }\n",
       "\n",
       "  function load_libs(js_urls, callback) {\n",
       "    window._bokeh_onload_callbacks.push(callback);\n",
       "    if (window._bokeh_is_loading > 0) {\n",
       "      console.log(\"Bokeh: BokehJS is being loaded, scheduling callback at\", now());\n",
       "      return null;\n",
       "    }\n",
       "    if (js_urls == null || js_urls.length === 0) {\n",
       "      run_callbacks();\n",
       "      return null;\n",
       "    }\n",
       "    console.log(\"Bokeh: BokehJS not loaded, scheduling load and callback at\", now());\n",
       "    window._bokeh_is_loading = js_urls.length;\n",
       "    for (var i = 0; i < js_urls.length; i++) {\n",
       "      var url = js_urls[i];\n",
       "      var s = document.createElement('script');\n",
       "      s.src = url;\n",
       "      s.async = false;\n",
       "      s.onreadystatechange = s.onload = function() {\n",
       "        window._bokeh_is_loading--;\n",
       "        if (window._bokeh_is_loading === 0) {\n",
       "          console.log(\"Bokeh: all BokehJS libraries loaded\");\n",
       "          run_callbacks()\n",
       "        }\n",
       "      };\n",
       "      s.onerror = function() {\n",
       "        console.warn(\"failed to load library \" + url);\n",
       "      };\n",
       "      console.log(\"Bokeh: injecting script tag for BokehJS library: \", url);\n",
       "      document.getElementsByTagName(\"head\")[0].appendChild(s);\n",
       "    }\n",
       "  };var element = document.getElementById(\"c32b7a97-cce7-4be5-8105-4bcb705eff55\");\n",
       "  if (element == null) {\n",
       "    console.log(\"Bokeh: ERROR: autoload.js configured with elementid 'c32b7a97-cce7-4be5-8105-4bcb705eff55' but no matching script tag was found. \")\n",
       "    return false;\n",
       "  }\n",
       "\n",
       "  var js_urls = [\"https://cdn.pydata.org/bokeh/release/bokeh-0.12.4.min.js\", \"https://cdn.pydata.org/bokeh/release/bokeh-widgets-0.12.4.min.js\"];\n",
       "\n",
       "  var inline_js = [\n",
       "    function(Bokeh) {\n",
       "      Bokeh.set_log_level(\"info\");\n",
       "    },\n",
       "    \n",
       "    function(Bokeh) {\n",
       "      \n",
       "      document.getElementById(\"c32b7a97-cce7-4be5-8105-4bcb705eff55\").textContent = \"BokehJS is loading...\";\n",
       "    },\n",
       "    function(Bokeh) {\n",
       "      console.log(\"Bokeh: injecting CSS: https://cdn.pydata.org/bokeh/release/bokeh-0.12.4.min.css\");\n",
       "      Bokeh.embed.inject_css(\"https://cdn.pydata.org/bokeh/release/bokeh-0.12.4.min.css\");\n",
       "      console.log(\"Bokeh: injecting CSS: https://cdn.pydata.org/bokeh/release/bokeh-widgets-0.12.4.min.css\");\n",
       "      Bokeh.embed.inject_css(\"https://cdn.pydata.org/bokeh/release/bokeh-widgets-0.12.4.min.css\");\n",
       "    }\n",
       "  ];\n",
       "\n",
       "  function run_inline_js() {\n",
       "    \n",
       "    if ((window.Bokeh !== undefined) || (force === true)) {\n",
       "      for (var i = 0; i < inline_js.length; i++) {\n",
       "        inline_js[i](window.Bokeh);\n",
       "      }if (force === true) {\n",
       "        display_loaded();\n",
       "      }} else if (Date.now() < window._bokeh_timeout) {\n",
       "      setTimeout(run_inline_js, 100);\n",
       "    } else if (!window._bokeh_failed_load) {\n",
       "      console.log(\"Bokeh: BokehJS failed to load within specified timeout.\");\n",
       "      window._bokeh_failed_load = true;\n",
       "    } else if (force !== true) {\n",
       "      var cell = $(document.getElementById(\"c32b7a97-cce7-4be5-8105-4bcb705eff55\")).parents('.cell').data().cell;\n",
       "      cell.output_area.append_execute_result(NB_LOAD_WARNING)\n",
       "    }\n",
       "\n",
       "  }\n",
       "\n",
       "  if (window._bokeh_is_loading === 0) {\n",
       "    console.log(\"Bokeh: BokehJS loaded, going straight to plotting\");\n",
       "    run_inline_js();\n",
       "  } else {\n",
       "    load_libs(js_urls, function() {\n",
       "      console.log(\"Bokeh: BokehJS plotting callback run at\", now());\n",
       "      run_inline_js();\n",
       "    });\n",
       "  }\n",
       "}(this));"
      ]
     },
     "metadata": {},
     "output_type": "display_data"
    }
   ],
   "source": [
    "from bokeh.plotting import figure, output_notebook, show\n",
    "output_notebook()"
   ]
  },
  {
   "cell_type": "code",
   "execution_count": 2,
   "metadata": {
    "collapsed": true,
    "deletable": true,
    "editable": true
   },
   "outputs": [],
   "source": [
    "import glob"
   ]
  },
  {
   "cell_type": "code",
   "execution_count": 3,
   "metadata": {
    "collapsed": true,
    "deletable": true,
    "editable": true
   },
   "outputs": [],
   "source": [
    "import numpy as np"
   ]
  },
  {
   "cell_type": "code",
   "execution_count": 4,
   "metadata": {
    "collapsed": true,
    "deletable": true,
    "editable": true
   },
   "outputs": [],
   "source": [
    "from scipy.interpolate import interp1d\n",
    "from scipy.interpolate import spline"
   ]
  },
  {
   "cell_type": "code",
   "execution_count": 5,
   "metadata": {
    "collapsed": true,
    "deletable": true,
    "editable": true
   },
   "outputs": [],
   "source": [
    "from tqdm import tqdm"
   ]
  },
  {
   "cell_type": "code",
   "execution_count": 6,
   "metadata": {
    "collapsed": true,
    "deletable": true,
    "editable": true
   },
   "outputs": [],
   "source": [
    "DQN_Rewards_Path = \"/home/tabz/Dropbox/RL/Log_Files/March 2017/Maze_5_Batch_Sizes_Logs/*DQN*/logs/Episode_Rewards.txt\"\n",
    "DQN_Lengths_Path = \"/home/tabz/Dropbox/RL/Log_Files/March 2017/Maze_5_Batch_Sizes_Logs/*DQN*/logs/Episode_Lengths.txt\"\n",
    "DQN_Rewards = []\n",
    "DQN_Lengths = []\n",
    "DQN_Lengths_C = []"
   ]
  },
  {
   "cell_type": "code",
   "execution_count": 7,
   "metadata": {
    "collapsed": true,
    "deletable": true,
    "editable": true
   },
   "outputs": [],
   "source": [
    "for filename in glob.glob(DQN_Rewards_Path):\n",
    "    run_logs = [0]\n",
    "#     print(filename)\n",
    "    with open(filename, \"r\") as f:\n",
    "        for line in f:\n",
    "            try:\n",
    "                ep_r = float(line)\n",
    "            except:\n",
    "                continue\n",
    "            run_logs.append(ep_r)\n",
    "    DQN_Rewards.append(run_logs)"
   ]
  },
  {
   "cell_type": "code",
   "execution_count": 8,
   "metadata": {
    "collapsed": true,
    "deletable": true,
    "editable": true
   },
   "outputs": [],
   "source": [
    "for filename in glob.glob(DQN_Lengths_Path):\n",
    "    run_logs = [0]\n",
    "#     print(filename)\n",
    "    with open(filename, \"r\") as f:\n",
    "        for line in f:\n",
    "            try:\n",
    "                ep_r = float(line)\n",
    "            except:\n",
    "                continue\n",
    "            run_logs.append(ep_r)\n",
    "    DQN_Lengths.append(run_logs)\n",
    "    run_logs_c = np.cumsum(run_logs).astype(np.int32)\n",
    "    DQN_Lengths_C.append(run_logs_c)"
   ]
  },
  {
   "cell_type": "markdown",
   "metadata": {
    "collapsed": false,
    "deletable": true,
    "editable": true
   },
   "source": [
    "for lens, runs in zip(DQN_Lengths_C, DQN_Rewards):\n",
    "    plt.plot(lens, runs)\n",
    "plt.show()"
   ]
  },
  {
   "cell_type": "markdown",
   "metadata": {
    "collapsed": false,
    "deletable": true,
    "editable": true
   },
   "source": [
    "p = figure(width=500, height=500, y_range=(-1,3))\n",
    "for lens, runs in zip(DQN_Lengths_C, DQN_Rewards):\n",
    "    p.line(lens, runs)\n",
    "show(p)"
   ]
  },
  {
   "cell_type": "code",
   "execution_count": null,
   "metadata": {
    "collapsed": true,
    "deletable": true,
    "editable": true
   },
   "outputs": [],
   "source": []
  },
  {
   "cell_type": "markdown",
   "metadata": {
    "collapsed": true,
    "deletable": true,
    "editable": true
   },
   "source": [
    "def plot_averages(names, t_maxs, colors, legends=None, directory=\"Logs/\", step=10):\n",
    "    plt.figure(figsize=(10,10))\n",
    "    plt.ylim(-1, 3)\n",
    "    for name, color, t_max in tqdm(zip(names, colors, t_maxs)):\n",
    "        # TODO: Remove DQN from names\n",
    "        DQN_Rewards_Path = directory + \"*\" + name + \"*/logs/Episode_Rewards.txt\"\n",
    "        DQN_Lengths_Path = directory + \"*\" + name + \"*/logs/Episode_Lengths.txt\"\n",
    "        DQN_Rewards = []\n",
    "        DQN_Lengths = []\n",
    "        DQN_Lengths_C = []\n",
    "        for filename in glob.glob(DQN_Rewards_Path):\n",
    "            run_logs = [0]\n",
    "            with open(filename, \"r\") as f:\n",
    "                for line in f:\n",
    "                    try:\n",
    "                        ep_r = float(line)\n",
    "                    except:\n",
    "                        continue\n",
    "                    run_logs.append(ep_r)\n",
    "            DQN_Rewards.append(run_logs)\n",
    "        for filename in glob.glob(DQN_Lengths_Path):\n",
    "            run_logs = [0]\n",
    "        #     print(filename)\n",
    "            with open(filename, \"r\") as f:\n",
    "                for line in f:\n",
    "                    try:\n",
    "                        ep_r = float(line)\n",
    "                    except:\n",
    "                        continue\n",
    "                    run_logs.append(ep_r)\n",
    "            DQN_Lengths.append(run_logs)\n",
    "            run_logs_c = np.cumsum(run_logs).astype(np.int32)\n",
    "            DQN_Lengths_C.append(run_logs_c)\n",
    "        DQN_Smoothed = []\n",
    "        for times, rewards in zip(DQN_Lengths_C, DQN_Rewards):\n",
    "#             linear = interp1d(times, rewards, kind=\"linear\")\n",
    "#             linear_rewards = linear([i for i in range(500000)])\n",
    "#             DQN_Smoothed.append(linear_rewards)\n",
    "            spline_rewards = spline(times, rewards, [i for i in range(0, t_max, step)])\n",
    "            DQN_Smoothed.append(spline_rewards)\n",
    "        DQN_Means = np.mean(DQN_Smoothed, axis=0)\n",
    "        DQN_Stds = np.std(DQN_Smoothed, axis=0)\n",
    "        plt.fill_between([i for i in range(0, t_max, step)], DQN_Means - DQN_Stds, DQN_Means + DQN_Stds, color=color, alpha=0.2, edgecolor=\"white\")\n",
    "\n",
    "        plt.plot([i for i in range(0, t_max, step)], DQN_Means, color=color)\n",
    "\n",
    "    plt.title(\"Episode_Reward\")\n",
    "    plt.xlabel(\"T\")\n",
    "    plt.ylabel(\"Reward\")\n",
    "    if legends is not None:\n",
    "        plt.legend(legends, bbox_to_anchor=(1.05, 1), loc=2)\n",
    "    plt.show()"
   ]
  },
  {
   "cell_type": "code",
   "execution_count": 9,
   "metadata": {
    "collapsed": true,
    "deletable": true,
    "editable": true
   },
   "outputs": [],
   "source": [
    "from bokeh.models import Legend\n",
    "from bokeh.models.formatters import BasicTickFormatter\n",
    "from bokeh.models import HoverTool, TapTool"
   ]
  },
  {
   "cell_type": "code",
   "execution_count": 10,
   "metadata": {
    "collapsed": false,
    "deletable": true,
    "editable": true
   },
   "outputs": [],
   "source": [
    "def plot_averages_b(names, t_maxs, colors, legends, directories=\"Logs/\", step=10, title=\"\", min_max=True):\n",
    "#     plt.figure(figsize=(10,10))\n",
    "    p = figure(width=1200, height=800, y_range=(-0.1, 1.1), title=title)\n",
    "    p.toolbar_location = \"above\"\n",
    "    p.yaxis.axis_label = \"Episode Reward\"\n",
    "    p.xaxis.axis_label = \"T\"\n",
    "    p.xaxis.formatter = BasicTickFormatter(use_scientific=False)\n",
    "#     p = figure(width=800, height=500)\n",
    "    lines = []\n",
    "    alpha_lines = []\n",
    "    if isinstance(directories, str):\n",
    "        dd = directories\n",
    "        directories = [dd for _ in names]\n",
    "    for name, color, t_max, legend, directory in zip(names, colors, t_maxs, legends, directories):\n",
    "#         print(directory)\n",
    "        DQN_Rewards_Path = directory + \"*\" + name + \"*/logs/Episode_Rewards.txt\"\n",
    "        DQN_Lengths_Path = directory + \"*\" + name + \"*/logs/Episode_Lengths.txt\"\n",
    "        DQN_Rewards = []\n",
    "        DQN_Lengths = []\n",
    "        DQN_Lengths_C = []\n",
    "        for filename in glob.glob(DQN_Rewards_Path):\n",
    "            run_logs = [0]\n",
    "            with open(filename, \"r\") as f:\n",
    "#                 print(f)\n",
    "                for line in f:\n",
    "                    try:\n",
    "                        ep_r = float(line)\n",
    "                    except:\n",
    "                        print(\"Nothing here for:\", filename)\n",
    "                        continue\n",
    "                    run_logs.append(ep_r)\n",
    "            DQN_Rewards.append(run_logs)\n",
    "        for filename in glob.glob(DQN_Lengths_Path):\n",
    "            run_logs = [0]\n",
    "        #     print(filename)\n",
    "            with open(filename, \"r\") as f:\n",
    "                for line in f:\n",
    "                    try:\n",
    "                        ep_r = float(line)\n",
    "                    except:\n",
    "                        continue\n",
    "                    run_logs.append(ep_r)\n",
    "            DQN_Lengths.append(run_logs)\n",
    "            run_logs_c = np.cumsum(run_logs).astype(np.int32)\n",
    "            DQN_Lengths_C.append(run_logs_c)\n",
    "        DQN_Smoothed = []\n",
    "        for times, rewards in zip(DQN_Lengths_C, DQN_Rewards):\n",
    "#             linear = interp1d(times, rewards, kind=\"linear\")\n",
    "#             linear_rewards = linear([i for i in range(500000)])\n",
    "#             DQN_Smoothed.append(linear_rewards)\n",
    "            spline_rewards = spline(times, rewards, [i for i in range(0, t_max, step)], order=1)\n",
    "            DQN_Smoothed.append(spline_rewards)\n",
    "        DQN_Means = np.mean(DQN_Smoothed, axis=0)\n",
    "        DQN_Stds = np.std(DQN_Smoothed, axis=0)\n",
    "        \n",
    "        if min_max:\n",
    "    #         plt.fill_between([i for i in range(0, t_max, step)], DQN_Means - DQN_Stds, DQN_Means + DQN_Stds, color=color, alpha=0.2, edgecolor=\"white\")\n",
    "            # Error bars\n",
    "            xs = [i for i in range(0, t_max, step)]\n",
    "            xs = xs + list(reversed(xs))\n",
    "    #         ys = np.concatenate([DQN_Means - DQN_Stds, np.flip(DQN_Means + DQN_Stds, axis=0)])\n",
    "            ys = np.concatenate([np.min(DQN_Smoothed, axis=0), np.flip(np.max(DQN_Smoothed, axis=0), axis=0)])\n",
    "            lls = p.patch(xs, ys, color=color, alpha=0.1)\n",
    "\n",
    "\n",
    "    #         for x, y, yerr in zip(range(0, t_max, step), DQN_Means, DQN_Stds):\n",
    "    #             lls = p.line([x, x], [y - yerr, y + yerr], color=color, alpha=0.1, hover_alpha=0.8)\n",
    "    #             alpha_lines.append(lls)\n",
    "\n",
    "\n",
    "    #         plt.plot([i for i in range(0, t_max, step)], DQN_Means, color=color)\n",
    "        l = p.line([i for i in range(0, t_max, step)], DQN_Means, color=color, line_width=2)\n",
    "        lines.append(l)\n",
    "    #         alpha_lines.append(lls)\n",
    "\n",
    "#     plt.title(\"Episode_Reward\")\n",
    "#     plt.xlabel(\"T\")\n",
    "#     plt.ylabel(\"Reward\")\n",
    "#     if legends is not None:\n",
    "#         plt.legend(legends)\n",
    "#     plt.show()\n",
    "#     p.line([0,1], [-1,3])\n",
    "    new_leg = Legend(items=[(name, [line]) for name, line in zip(legends, lines)], location=(0,-30))\n",
    "    p.add_layout(new_leg, \"right\")\n",
    "#     p.add_tools(HoverTool(renderers=alpha_lines))\n",
    "#     p.add_tools(TapTool(renderers=alpha_lines))\n",
    "    show(p)"
   ]
  },
  {
   "cell_type": "code",
   "execution_count": 11,
   "metadata": {
    "collapsed": false,
    "deletable": true,
    "editable": true
   },
   "outputs": [],
   "source": [
    "def plot_states(names, t_maxs, colors, legends, directories=\"Logs/\", step=10, title=\"\"):\n",
    "#     plt.figure(figsize=(10,10))\n",
    "    p = figure(width=1200, height=800, title=title)\n",
    "    p.toolbar_location = \"above\"\n",
    "    p.yaxis.axis_label = \"States visited\"\n",
    "    p.xaxis.axis_label = \"T\"\n",
    "    p.xaxis.formatter = BasicTickFormatter(use_scientific=False)\n",
    "#     p = figure(width=800, height=500)\n",
    "    lines = []\n",
    "    alpha_lines = []\n",
    "    if isinstance(directories, str):\n",
    "        dd = directories\n",
    "        directories = [dd for _ in names]\n",
    "    for name, color, t_max, legend, directory in zip(names, colors, t_maxs, legends, directories):\n",
    "#         print(directory)\n",
    "        States_Path = directory + \"*\" + name + \"*/logs/Player_Positions.txt\"\n",
    "        States = []\n",
    "        for filename in glob.glob(States_Path):\n",
    "            run_logs = []\n",
    "            with open(filename, \"r\") as f:\n",
    "#                 print(f)\n",
    "                for line in f:\n",
    "                    try:\n",
    "                        ep_r = str(line)\n",
    "#                         print(ep_r)\n",
    "                    except:\n",
    "                        print(\"Nothing here for:\", filename)\n",
    "                        continue\n",
    "                    run_logs.append(ep_r)\n",
    "            States.append(run_logs)\n",
    "        States_Visited = []\n",
    "        for run in States:\n",
    "            Visited = []\n",
    "            States_Sets = set()\n",
    "#             print(len(run))\n",
    "            for ii, s in enumerate(run):\n",
    "                if ii >= t_max - 1:\n",
    "                    break\n",
    "#                 print(s)\n",
    "                States_Sets.add(s)\n",
    "                if ii % step == 0:\n",
    "                    Visited.append(len(States_Sets))\n",
    "#             print(len(States_Sets))\n",
    "#             print(len(Visited))\n",
    "            States_Visited.append(Visited)\n",
    "#         print(np.array(States_Visited).shape)\n",
    "        Means = np.mean(States_Visited, axis=0)\n",
    "        Stds = np.std(States_Visited, axis=0)\n",
    "#         print(Means.shape)\n",
    "        \n",
    "#         plt.fill_between([i for i in range(0, t_max, step)], DQN_Means - DQN_Stds, DQN_Means + DQN_Stds, color=color, alpha=0.2, edgecolor=\"white\")\n",
    "        # Error bars\n",
    "        xs = [i for i in range(0, t_max, step)]\n",
    "        xs = xs + list(reversed(xs))\n",
    "#         ys = np.concatenate([Means - Stds, np.flip(Means + Stds, axis=0)])\n",
    "        ys = np.concatenate([np.min(States_Visited, axis=0), np.flip(np.max(States_Visited, axis=0), axis=0)])\n",
    "        lls = p.patch(xs, ys, color=color, alpha=0.1)\n",
    "\n",
    "        \n",
    "#         for x, y, yerr in zip(range(0, t_max, step), DQN_Means, DQN_Stds):\n",
    "#             lls = p.line([x, x], [y - yerr, y + yerr], color=color, alpha=0.1, hover_alpha=0.8)\n",
    "#             alpha_lines.append(lls)\n",
    "            \n",
    "\n",
    "#         plt.plot([i for i in range(0, t_max, step)], DQN_Means, color=color)\n",
    "        l = p.line([i for i in range(0, t_max, step)], Means, color=color, line_width=2)\n",
    "        lines.append(l)\n",
    "#         alpha_lines.append(lls)\n",
    "\n",
    "#     plt.title(\"Episode_Reward\")\n",
    "#     plt.xlabel(\"T\")\n",
    "#     plt.ylabel(\"Reward\")\n",
    "#     if legends is not None:\n",
    "#         plt.legend(legends)\n",
    "#     plt.show()\n",
    "#     p.line([0,1], [-1,3])\n",
    "    new_leg = Legend(items=[(name, [line]) for name, line in zip(legends, lines)], location=(0,-30))\n",
    "    p.add_layout(new_leg, \"right\")\n",
    "#     p.add_tools(HoverTool(renderers=alpha_lines))\n",
    "#     p.add_tools(TapTool(renderers=alpha_lines))\n",
    "    show(p)"
   ]
  },
  {
   "cell_type": "code",
   "execution_count": null,
   "metadata": {
    "collapsed": true,
    "deletable": true,
    "editable": true
   },
   "outputs": [],
   "source": []
  },
  {
   "cell_type": "code",
   "execution_count": 12,
   "metadata": {
    "collapsed": false,
    "deletable": true,
    "editable": true
   },
   "outputs": [
    {
     "name": "stdout",
     "output_type": "stream",
     "text": [
      "['_10_Step_*DQN_', '_10_Step_*k_Count_', '_10_Step_*_CountEps_']\n",
      "[300001, 300001, 300001]\n"
     ]
    }
   ],
   "source": [
    "names = []\n",
    "legends = []\n",
    "t_maxs = []\n",
    "directories = []\n",
    "\n",
    "            \n",
    "# Frontier stuff\n",
    "for step in [10]:\n",
    "    # DQN\n",
    "    names += [\"_{}_Step_*DQN_\".format(step)]\n",
    "    legends += [\"{}_Step_DQN\".format(step)]\n",
    "    t_maxs += [300001]\n",
    "#     continue\n",
    "    # PseudoCount\n",
    "    names += [\"_{}_Step_*k_Count_\".format(step)]\n",
    "    legends += [\"{}_Step_Count\".format(step)]\n",
    "    t_maxs += [300001]\n",
    "#     continue\n",
    "    # EpsilonScaling\n",
    "    names += [\"_{}_Step_*_CountEps_\".format(step)]\n",
    "    legends += [\"{}_Step_Epsilon_Scaling\".format(step)]\n",
    "    t_maxs += [300001]\n",
    "            \n",
    "    \n",
    "direc = \"/home/tabz/tmp/logfiles/MedMaze10/MedMaze10\"\n",
    "# directories =  [\"{}/{}\".format(dropbox_direc, \"Maze_5_Logs/\")] + 3 * [\"{}/{}\".format(dropbox_direc, \"Maze_5_Batch_Sizes_Logs/\")] \n",
    "directories += [direc + \"/EpsilonLogs/\"] * 3\n",
    "    \n",
    "print(names)\n",
    "print(t_maxs)\n",
    "# colours = [\"red\", \"#3366ff\", \"#66ff33\", \"yellow\"]\n",
    "# colours = rainbow(np.linspace(0, 1, len(names)))"
   ]
  },
  {
   "cell_type": "code",
   "execution_count": 13,
   "metadata": {
    "collapsed": false,
    "deletable": true,
    "editable": true
   },
   "outputs": [
    {
     "name": "stdout",
     "output_type": "stream",
     "text": [
      "['_100_Step*k_Count_', '_100_Step*OptimisticAction', '_100_Step*_CountEps_']\n",
      "[300001, 300001, 300001]\n",
      "/home/scratch/tabhid/Log_Files/Gamma_Logs//\n"
     ]
    }
   ],
   "source": [
    "names = []\n",
    "legends = []\n",
    "t_maxs = []\n",
    "\n",
    "            \n",
    "# Frontier bandit stuff\n",
    "\n",
    "for n in [100]:\n",
    "    \n",
    "    # Count\n",
    "    names += [\"_{}_Step*k_Count_\".format(n)]\n",
    "    legends += [\"{}_Step_Count\".format(n)]\n",
    "    t_maxs += [300001]\n",
    "#     continue\n",
    "    # Optimistic\n",
    "    names += [\"_{}_Step*OptimisticAction\".format(n)]\n",
    "    legends += [\"{}_Step_OptimisticAction\".format(n)]\n",
    "    t_maxs += [300001]\n",
    "#     continue\n",
    "    # Epsilon Scaling\n",
    "    names += [\"_{}_Step*_CountEps_\".format(n)]\n",
    "    legends += [\"{}_Step_EpsilonScaling\".format(n)]\n",
    "    t_maxs += [300001]\n",
    "            \n",
    "    \n",
    "direc = \"/home/scratch/tabhid/Log_Files/Gamma_Logs//\"\n",
    "# directories =  [\"{}/{}\".format(dropbox_direc, \"Maze_5_Logs/\")] + 3 * [\"{}/{}\".format(dropbox_direc, \"Maze_5_Batch_Sizes_Logs/\")] \n",
    "# directories += [direc + \"/BanditLogs/\"] * 3\n",
    "directories = direc\n",
    "    \n",
    "print(names)\n",
    "print(t_maxs)\n",
    "print(directories)\n",
    "# colours = [\"red\", \"#3366ff\", \"#66ff33\", \"yellow\"]\n",
    "# colours = rainbow(np.linspace(0, 1, len(names)))"
   ]
  },
  {
   "cell_type": "code",
   "execution_count": 14,
   "metadata": {
    "collapsed": false,
    "deletable": true,
    "editable": true
   },
   "outputs": [
    {
     "name": "stdout",
     "output_type": "stream",
     "text": [
      "['_0.9_Decay*_Eps_0.1_', '_0.99_Decay*_Eps_0.1_', '_0.9999_Decay*_Eps_0.1_', '_0.9_Decay*_Eps_1_', '_0.99_Decay*_Eps_1_', '_0.9999_Decay*_Eps_1_']\n",
      "[300001, 300001, 300001, 300001, 300001, 300001]\n",
      "/home/tabz/tmp/Epsilon_Decay_Logs/\n"
     ]
    }
   ],
   "source": [
    "names = []\n",
    "legends = []\n",
    "t_maxs = []\n",
    "\n",
    "            \n",
    "# Epsilon Decay Scaling\n",
    "for eps in [0.1, 1]:\n",
    "    for decay in [0.9, 0.99, 0.9999]:\n",
    "    \n",
    "        names += [\"_{}_Decay*_Eps_{}_\".format(decay, eps)]\n",
    "        legends += [\"{}_Decay_EpsilonScaling_{}_Start\".format(decay, eps)]\n",
    "        t_maxs += [300001]\n",
    "            \n",
    "    \n",
    "# direc = \"/home/scratch/tabhid/Log_Files/Epsilon_Decay_Logs/\"\n",
    "direc = \"/home/tabz/tmp/Epsilon_Decay_Logs/\"\n",
    "# directories =  [\"{}/{}\".format(dropbox_direc, \"Maze_5_Logs/\")] + 3 * [\"{}/{}\".format(dropbox_direc, \"Maze_5_Batch_Sizes_Logs/\")] \n",
    "# directories += [direc + \"/BanditLogs/\"] * 3\n",
    "directories = direc\n",
    "    \n",
    "print(names)\n",
    "print(t_maxs)\n",
    "print(directories)"
   ]
  },
  {
   "cell_type": "code",
   "execution_count": 15,
   "metadata": {
    "collapsed": false,
    "deletable": true,
    "editable": true
   },
   "outputs": [
    {
     "name": "stdout",
     "output_type": "stream",
     "text": [
      "['_NegativeReward_0.5_', '_NegativeReward_0.7_', '_NegativeReward_0.9_']\n",
      "[300001, 300001, 300001]\n",
      "/home/tabz/tmp/Big_Negative_Reward_Logs/\n"
     ]
    }
   ],
   "source": [
    "names = []\n",
    "legends = []\n",
    "t_maxs = []\n",
    "\n",
    "            \n",
    "# Negative reward threshold\n",
    "for ns in [0.5, 0.7,  0.9]:\n",
    "    names += [\"_NegativeReward_{}_\".format(ns)]\n",
    "    legends += [\"NegativeReward_{}_Threshold\".format(ns)]\n",
    "    t_maxs += [300001]\n",
    "            \n",
    "    \n",
    "# direc = \"/home/scratch/tabhid/Log_Files/Epsilon_Decay_Logs/\"\n",
    "direc = \"/home/tabz/tmp/Big_Negative_Reward_Logs/\"\n",
    "# directories =  [\"{}/{}\".format(dropbox_direc, \"Maze_5_Logs/\")] + 3 * [\"{}/{}\".format(dropbox_direc, \"Maze_5_Batch_Sizes_Logs/\")] \n",
    "# directories += [direc + \"/BanditLogs/\"] * 3\n",
    "directories = direc\n",
    "    \n",
    "print(names)\n",
    "print(t_maxs)\n",
    "print(directories)"
   ]
  },
  {
   "cell_type": "code",
   "execution_count": 16,
   "metadata": {
    "collapsed": false,
    "deletable": true,
    "editable": true
   },
   "outputs": [
    {
     "name": "stdout",
     "output_type": "stream",
     "text": [
      "['k_OptimisticAction_0.0001_Scaler', 'k_OptimisticAction_0.0005_Scaler', 'k_OptimisticAction_0.001_Scaler', 'k_OptimisticAction_0.005_Scaler']\n",
      "[300001, 300001, 300001, 300001]\n",
      "/home/scratch/tabhid/Log_Files/Bandit_Small_Tau_Logs/\n"
     ]
    }
   ],
   "source": [
    "names = []\n",
    "legends = []\n",
    "t_maxs = []\n",
    "\n",
    "            \n",
    "# Bandit Tau\n",
    "for tau in [0.0001, 0.0005, 0.001, 0.005]:\n",
    "    for negative_reward in [False]:\n",
    "        if negative_reward:\n",
    "            names += [\"NegativeReward_*_OptimisticAction_{}_Scaler\".format(tau)]\n",
    "            legends += [\"Optim Bandit {} Tau Neg Reward\".format(tau)]\n",
    "        else:\n",
    "            names += [\"k_OptimisticAction_{}_Scaler\".format(tau)]\n",
    "            legends += [\"Optim Bandit {} Tau\".format(tau)]\n",
    "        t_maxs += [300001]\n",
    "            \n",
    "    \n",
    "direc = \"/home/scratch/tabhid/Log_Files/Bandit_Small_Tau_Logs/\"\n",
    "# direc = \"/home/tabz/tmp/Bandit_Tau_Logs/\"\n",
    "# directories =  [\"{}/{}\".format(dropbox_direc, \"Maze_5_Logs/\")] + 3 * [\"{}/{}\".format(dropbox_direc, \"Maze_5_Batch_Sizes_Logs/\")] \n",
    "# directories += [direc + \"/BanditLogs/\"] * 3\n",
    "directories = direc\n",
    "    \n",
    "print(names)\n",
    "print(t_maxs)\n",
    "print(directories)"
   ]
  },
  {
   "cell_type": "code",
   "execution_count": 17,
   "metadata": {
    "collapsed": false,
    "deletable": true,
    "editable": true
   },
   "outputs": [
    {
     "name": "stdout",
     "output_type": "stream",
     "text": [
      "['Batch_64_XpSize_600k', 'Batch_128_XpSize_600k', 'Batch_256_XpSize_600k']\n",
      "[600001, 600001, 600001]\n",
      "/home/tabz/tmp/logfiles/MedMaze10/Batch_Size_Logs/\n"
     ]
    }
   ],
   "source": [
    "names = []\n",
    "legends = []\n",
    "t_maxs = []\n",
    "\n",
    "            \n",
    "# Batch Size\n",
    "for xp in [600]:\n",
    "    for bs in [64, 128, 256]:\n",
    "        names += [\"Batch_{}_XpSize_{}k\".format(bs, xp)]\n",
    "        legends += [\"Batch {} Xp {}k\".format(bs, xp)]\n",
    "        t_maxs += [600001]\n",
    "            \n",
    "    \n",
    "# direc = \"/home/scratch/tabhid/Log_Files/Xp_Logs/\"\n",
    "direc = \"/home/tabz/tmp/logfiles/MedMaze10/Batch_Size_Logs/\"\n",
    "# directories =  [\"{}/{}\".format(dropbox_direc, \"Maze_5_Logs/\")] + 3 * [\"{}/{}\".format(dropbox_direc, \"Maze_5_Batch_Sizes_Logs/\")] \n",
    "# directories += [direc + \"/BanditLogs/\"] * 3\n",
    "directories = direc\n",
    "    \n",
    "print(names)\n",
    "print(t_maxs)\n",
    "print(directories)"
   ]
  },
  {
   "cell_type": "code",
   "execution_count": 18,
   "metadata": {
    "collapsed": false,
    "deletable": true,
    "editable": true
   },
   "outputs": [
    {
     "name": "stdout",
     "output_type": "stream",
     "text": [
      "['ETrace_0.7_6_States', 'ETrace_0.9_6_States', 'ETrace_1_6_States']\n",
      "[600001, 600001, 600001]\n",
      "/home/tabz/tmp/logfiles/MedMaze10/Elig_3_Logs/\n"
     ]
    }
   ],
   "source": [
    "names = []\n",
    "legends = []\n",
    "t_maxs = []\n",
    "\n",
    "            \n",
    "# Elig States\n",
    "for lamb in [0.7, 0.9, 1]:\n",
    "    for states in [6]:\n",
    "        names += [\"ETrace_{}_{}_States\".format(lamb, states)]\n",
    "        legends += [\"Traces {} Lambda {} States 3 Gap\".format(lamb, states)]\n",
    "        t_maxs += [600001]\n",
    "            \n",
    "    \n",
    "# direc = \"/home/scratch/tabhid/Log_Files/Xp_Logs/\"\n",
    "direc = \"/home/tabz/tmp/logfiles/MedMaze10/Elig_3_Logs/\"\n",
    "# directories =  [\"{}/{}\".format(dropbox_direc, \"Maze_5_Logs/\")] + 3 * [\"{}/{}\".format(dropbox_direc, \"Maze_5_Batch_Sizes_Logs/\")] \n",
    "# directories += [direc + \"/BanditLogs/\"] * 3\n",
    "directories = direc\n",
    "    \n",
    "print(names)\n",
    "print(t_maxs)\n",
    "print(directories)"
   ]
  },
  {
   "cell_type": "code",
   "execution_count": 19,
   "metadata": {
    "collapsed": false,
    "deletable": true,
    "editable": true
   },
   "outputs": [
    {
     "name": "stdout",
     "output_type": "stream",
     "text": [
      "['Iters_1_', 'Iters_2_', 'Iters_4_', 'Iters_8_', 'Iters_16_']\n",
      "[600001, 600001, 600001, 600001, 600001]\n",
      "/home/tabz/tmp/logfiles/MedMaze10/Iters_Logs/\n"
     ]
    }
   ],
   "source": [
    "names = []\n",
    "legends = []\n",
    "t_maxs = []\n",
    "\n",
    "            \n",
    "# Iterations\n",
    "for i in [1, 2, 4, 8, 16]:\n",
    "    names += [\"Iters_{}_\".format(i)]\n",
    "    legends += [\"{} Iterations\".format(i)]\n",
    "    t_maxs += [600001]\n",
    "            \n",
    "    \n",
    "# direc = \"/home/scratch/tabhid/Log_Files/Xp_Logs/\"\n",
    "direc = \"/home/tabz/tmp/logfiles/MedMaze10/Iters_Logs/\"\n",
    "# directories =  [\"{}/{}\".format(dropbox_direc, \"Maze_5_Logs/\")] + 3 * [\"{}/{}\".format(dropbox_direc, \"Maze_5_Batch_Sizes_Logs/\")] \n",
    "# directories += [direc + \"/BanditLogs/\"] * 3\n",
    "directories = direc\n",
    "    \n",
    "print(names)\n",
    "print(t_maxs)\n",
    "print(directories)"
   ]
  },
  {
   "cell_type": "code",
   "execution_count": 20,
   "metadata": {
    "collapsed": false,
    "deletable": true,
    "editable": true
   },
   "outputs": [
    {
     "name": "stdout",
     "output_type": "stream",
     "text": [
      "['k_CountEps_', 'Trajectory_0.2_', 'Trajectory_0.5_', 'Trajectory_0.75_', 'Trajectory_0.8_', 'Trajectory_0.9_']\n",
      "[600001, 600001, 600001, 600001, 600001, 600001]\n",
      "/home/tabz/tmp/logfiles/MedMaze10/Trajectory_Logs/\n"
     ]
    }
   ],
   "source": [
    "names = []\n",
    "legends = []\n",
    "t_maxs = []\n",
    "\n",
    "names += [\"k_CountEps_\"]\n",
    "legends += [\"No Trajectory\"]\n",
    "t_maxs += [600001]\n",
    "            \n",
    "# Trajectory\n",
    "for t in [0.2, 0.5, 0.75, 0.8, 0.9]:\n",
    "    names += [\"Trajectory_{}_\".format(t)]\n",
    "    legends += [\"Trajectory {} Save\".format(t)]\n",
    "    t_maxs += [600001]\n",
    "            \n",
    "    \n",
    "# direc = \"/home/scratch/tabhid/Log_Files/Xp_Logs/\"\n",
    "direc = \"/home/tabz/tmp/logfiles/MedMaze10/Trajectory_Logs/\"\n",
    "# directories =  [\"{}/{}\".format(dropbox_direc, \"Maze_5_Logs/\")] + 3 * [\"{}/{}\".format(dropbox_direc, \"Maze_5_Batch_Sizes_Logs/\")] \n",
    "# directories += [direc + \"/BanditLogs/\"] * 3\n",
    "directories = direc\n",
    "    \n",
    "print(names)\n",
    "print(t_maxs)\n",
    "print(directories)"
   ]
  },
  {
   "cell_type": "code",
   "execution_count": 21,
   "metadata": {
    "collapsed": false,
    "deletable": true,
    "editable": true
   },
   "outputs": [
    {
     "name": "stdout",
     "output_type": "stream",
     "text": [
      "['XpSize_30k*CountDecay_0.9999', 'XpSize_30k*CountDecay_0.999999', 'XpSize_30k*CountDecay_1', 'XpSize_60k*CountDecay_0.9999', 'XpSize_60k*CountDecay_0.999999', 'XpSize_60k*CountDecay_1', 'XpSize_100k*CountDecay_0.9999', 'XpSize_100k*CountDecay_0.999999', 'XpSize_100k*CountDecay_1']\n",
      "[600001, 600001, 600001, 600001, 600001, 600001, 600001, 600001, 600001]\n",
      "/home/tabz/tmp/logfiles/CountXpSort/\n"
     ]
    }
   ],
   "source": [
    "names = []\n",
    "legends = []\n",
    "t_maxs = []\n",
    "          \n",
    "# Count Xp Sort\n",
    "for xp in [30, 60, 100]:\n",
    "    for decay in [0.9999, 0.999999, 1]:\n",
    "        names += [\"XpSize_{}k*CountDecay_{}\".format(xp, decay)]\n",
    "        legends += [\"CountXp Sort {}k Xp {} CountDecay\".format(xp, decay)]\n",
    "        t_maxs += [600001]\n",
    "            \n",
    "    \n",
    "# direc = \"/home/scratch/tabhid/Log_Files/Xp_Logs/\"\n",
    "direc = \"/home/tabz/tmp/logfiles/CountXpSort/\"\n",
    "# directories =  [\"{}/{}\".format(dropbox_direc, \"Maze_5_Logs/\")] + 3 * [\"{}/{}\".format(dropbox_direc, \"Maze_5_Batch_Sizes_Logs/\")] \n",
    "# directories += [direc + \"/BanditLogs/\"] * 3\n",
    "directories = direc\n",
    "    \n",
    "print(names)\n",
    "print(t_maxs)\n",
    "print(directories)"
   ]
  },
  {
   "cell_type": "code",
   "execution_count": 22,
   "metadata": {
    "collapsed": false,
    "deletable": true,
    "editable": true
   },
   "outputs": [
    {
     "name": "stdout",
     "output_type": "stream",
     "text": [
      "['OptimisticAction_0.1', 'OptimisticAction_1', 'OptimisticAction_10', 'k_CountEps']\n",
      "[600001, 600001, 600001, 600001]\n",
      "/home/tabz/tmp/logfiles/MedMaze12/\n"
     ]
    }
   ],
   "source": [
    "names = []\n",
    "legends = []\n",
    "t_maxs = []\n",
    "          \n",
    "# MedMaze12\n",
    "\n",
    "#Bandits\n",
    "for os in [0.1, 1, 10]:\n",
    "    names += [\"OptimisticAction_{}\".format(os)]\n",
    "    legends += [\"Bandit {} Scaler\".format(os)]\n",
    "    t_maxs += [600001]\n",
    "    \n",
    "# #-ve reward\n",
    "# for nr in [0.5, 0.7]:\n",
    "#     names += [\"NegativeReward_{}\".format(nr)]\n",
    "#     legends += [\"Negative Reward {}\".format(nr)]\n",
    "#     t_maxs += [600001]\n",
    "    \n",
    "#CountXp\n",
    "names += [\"k_CountEps\"]\n",
    "legends += [\"Counts\"]\n",
    "t_maxs += [600001]\n",
    "            \n",
    "    \n",
    "# direc = \"/home/scratch/tabhid/Log_Files/Xp_Logs/\"\n",
    "direc = \"/home/tabz/tmp/logfiles/MedMaze12/\"\n",
    "# directories =  [\"{}/{}\".format(dropbox_direc, \"Maze_5_Logs/\")] + 3 * [\"{}/{}\".format(dropbox_direc, \"Maze_5_Batch_Sizes_Logs/\")] \n",
    "# directories += [direc + \"/BanditLogs/\"] * 3\n",
    "directories = direc\n",
    "    \n",
    "print(names)\n",
    "print(t_maxs)\n",
    "print(directories)"
   ]
  },
  {
   "cell_type": "code",
   "execution_count": 23,
   "metadata": {
    "collapsed": false,
    "deletable": true,
    "editable": true
   },
   "outputs": [
    {
     "name": "stdout",
     "output_type": "stream",
     "text": [
      "['k_CountEps*Stale_50k', 'Prioritized*Stale_50k', 'Prioritized_IS*Stale_50k', 'k_CountEps*Stale_300k', 'Prioritized*Stale_300k', 'Prioritized_IS*Stale_300k']\n",
      "[600001, 600001, 600001, 600001, 600001, 600001]\n",
      "/home/tabz/tmp/logfiles/Prioritized_Logs/\n"
     ]
    }
   ],
   "source": [
    "names = []\n",
    "legends = []\n",
    "t_maxs = []\n",
    "          \n",
    "# Prioritized replay stuff\n",
    "for fresh in [50, 300]:\n",
    "    for p in [None, \"P\", \"P_IS\"]:\n",
    "        if p is \"P\":\n",
    "            names += [\"Prioritized*Stale_{}k\".format(fresh)]\n",
    "            legends += [\"Prioritized {}k Fresh Counts\".format(fresh)]\n",
    "        elif p is \"P_IS\":\n",
    "            names += [\"Prioritized_IS*Stale_{}k\".format(fresh)]\n",
    "            legends += [\"Prioritized IS {}k Fresh Counts\".format(fresh)]\n",
    "        else:\n",
    "            names += [\"k_CountEps*Stale_{}k\".format(fresh)]\n",
    "            legends += [\"{}k Fresh Counts\".format(fresh)]\n",
    "        t_maxs += [600001]\n",
    "    \n",
    "direc = \"/home/tabz/tmp/logfiles/Prioritized_Logs/\"\n",
    "env = \"Med Maze 10\"\n",
    "directories = direc\n",
    "    \n",
    "print(names)\n",
    "print(t_maxs)\n",
    "print(directories)"
   ]
  },
  {
   "cell_type": "code",
   "execution_count": 24,
   "metadata": {
    "collapsed": false,
    "deletable": true,
    "editable": true
   },
   "outputs": [
    {
     "name": "stdout",
     "output_type": "stream",
     "text": [
      "['_0.1_Mix', '_0.3_Mix', '_0.5_Mix', '_0.7_Mix', '_0.9_Mix']\n",
      "[600001, 600001, 600001, 600001, 600001]\n",
      "/home/tabz/tmp/logfiles/Mixing_Logs/\n"
     ]
    }
   ],
   "source": [
    "names = []\n",
    "legends = []\n",
    "t_maxs = []\n",
    "          \n",
    "# Mixing\n",
    "for mix in [0.1, 0.3, 0.5, 0.7, 0.9]:\n",
    "    names += [\"_{}_Mix\".format(mix)]\n",
    "    legends += [\"{} Mixing\".format(mix)]\n",
    "    t_maxs += [600001]\n",
    "    \n",
    "direc = \"/home/tabz/tmp/logfiles/Mixing_Logs/\"\n",
    "directories = direc\n",
    "\n",
    "env =\"Med Maze 10\"\n",
    "    \n",
    "print(names)\n",
    "print(t_maxs)\n",
    "print(directories)"
   ]
  },
  {
   "cell_type": "code",
   "execution_count": 25,
   "metadata": {
    "collapsed": false,
    "deletable": true,
    "editable": true
   },
   "outputs": [
    {
     "name": "stdout",
     "output_type": "stream",
     "text": [
      "['OptimisticAction_0.1', 'OptimisticAction_0.01', 'OptimisticAction_0.001', 'CountEps_0.9999_', 'CountEps_0.999_', 'CountEps_0.99_', 'CountEps_0.9_']\n",
      "[600001, 600001, 600001, 600001, 600001, 600001, 600001]\n",
      "/home/tabz/tmp/logfiles/Frontier_Logs/\n"
     ]
    }
   ],
   "source": [
    "names = []\n",
    "legends = []\n",
    "t_maxs = []\n",
    "          \n",
    "# MedMaze12\n",
    "\n",
    "#Bandits\n",
    "for os in [0.1, 0.01, 0.001]:\n",
    "    names += [\"OptimisticAction_{}\".format(os)]\n",
    "    legends += [\"Bandit {} Scaler\".format(os)]\n",
    "    t_maxs += [600001]\n",
    "    \n",
    "#Epsilon decay\n",
    "for decay in [0.9999, 0.999, 0.99, 0.9]:\n",
    "    names += [\"CountEps_{}_\".format(decay)]\n",
    "    legends += [\"Epsilon Scaling {} Decay\".format(decay)]\n",
    "    t_maxs += [600001]\n",
    "            \n",
    "    \n",
    "direc = \"/home/tabz/tmp/logfiles/Frontier_Logs/\"\n",
    "directories = direc\n",
    "env = \"Med Maze 12\"\n",
    "    \n",
    "print(names)\n",
    "print(t_maxs)\n",
    "print(directories)"
   ]
  },
  {
   "cell_type": "code",
   "execution_count": 26,
   "metadata": {
    "collapsed": false,
    "deletable": true,
    "editable": true
   },
   "outputs": [
    {
     "name": "stdout",
     "output_type": "stream",
     "text": [
      "['NegativeReward_0.1', 'NegativeReward_0.2']\n",
      "[600001, 600001]\n",
      "/home/tabz/tmp/Neg/\n"
     ]
    }
   ],
   "source": [
    "names = []\n",
    "legends = []\n",
    "t_maxs = []\n",
    "          \n",
    "# MedMaze10 Set replay negative reward\n",
    "\n",
    "for neg_reward in [0.1, 0.2]:\n",
    "    names += [\"NegativeReward_{}\".format(neg_reward)]\n",
    "    legends += [\"Negative Reward {} Set Replay\".format(neg_reward)]\n",
    "    t_maxs += [600001]            \n",
    "    \n",
    "direc = \"/home/tabz/tmp/Neg/\"\n",
    "directories = direc\n",
    "env = \"Med Maze 10 Set Replay Negative Reward\"\n",
    "    \n",
    "print(names)\n",
    "print(t_maxs)\n",
    "print(directories)"
   ]
  },
  {
   "cell_type": "code",
   "execution_count": 27,
   "metadata": {
    "collapsed": false,
    "deletable": true,
    "editable": true
   },
   "outputs": [
    {
     "name": "stdout",
     "output_type": "stream",
     "text": [
      "['_10_Step*_SetReplay_5_', '_10_Step*_SetReplay_10_', '_10_Step*_SetReplay_100_', '_100_Step*_SetReplay_5_', '_100_Step*_SetReplay_10_', '_100_Step*_SetReplay_100_']\n",
      "[600001, 600001, 600001, 600001, 600001, 600001]\n",
      "/home/tabz/tmp/logfiles/SetReplayNum/\n"
     ]
    }
   ],
   "source": [
    "names = []\n",
    "legends = []\n",
    "t_maxs = []\n",
    "          \n",
    "# MedMaze10 Set replay \n",
    "\n",
    "for step in [10, 100]:\n",
    "    for replay_num in [5, 10, 100]:\n",
    "        names += [\"_{}_Step*_SetReplay_{}_\".format(step, replay_num)]\n",
    "        legends += [\"{} Step {} SetReplay\".format(step, replay_num)]\n",
    "        t_maxs += [600001]\n",
    "    \n",
    "direc = \"/home/tabz/tmp/logfiles/SetReplayNum/\"\n",
    "directories = direc\n",
    "env = \"Med Maze 10 Set Replay Num\"\n",
    "    \n",
    "print(names)\n",
    "print(t_maxs)\n",
    "print(directories)"
   ]
  },
  {
   "cell_type": "code",
   "execution_count": 28,
   "metadata": {
    "collapsed": false,
    "deletable": true,
    "editable": true
   },
   "outputs": [
    {
     "name": "stdout",
     "output_type": "stream",
     "text": [
      "['k_BonusClip*Stale_50k', 'Prioritized*Stale_50k', 'Prioritized_OnBonus_IS*Stale_50k', 'k_BonusClip*Stale_300k', 'Prioritized*Stale_300k', 'Prioritized_OnBonus_IS*Stale_300k']\n",
      "[800001, 800001, 800001, 800001, 800001, 800001]\n",
      "/home/tabz/tmp/logfiles/Density/\n"
     ]
    }
   ],
   "source": [
    "names = []\n",
    "legends = []\n",
    "t_maxs = []\n",
    "          \n",
    "# Prioritized replay stuff\n",
    "for fresh in [50, 300]:\n",
    "        names += [\"k_BonusClip*Stale_{}k\".format(fresh)]\n",
    "        legends += [\"Uniform {}k Fresh Counts\".format(fresh)]\n",
    "        t_maxs += [800001]\n",
    "        \n",
    "        names += [\"Prioritized*Stale_{}k\".format(fresh)]\n",
    "        legends += [\"Prioritized {}k Fresh Counts\".format(fresh)]\n",
    "        t_maxs += [800001]\n",
    "\n",
    "        names += [\"Prioritized_OnBonus_IS*Stale_{}k\".format(fresh)]\n",
    "        legends += [\"Prioritized IS {}k Fresh Counts\".format(fresh)]\n",
    "        t_maxs += [800001]\n",
    "    \n",
    "direc = \"/home/tabz/tmp/logfiles/Density/\"\n",
    "env = \"Med Maze 10 Prioritized On Density\"\n",
    "directories = direc\n",
    "    \n",
    "print(names)\n",
    "print(t_maxs)\n",
    "print(directories)"
   ]
  },
  {
   "cell_type": "code",
   "execution_count": 29,
   "metadata": {
    "collapsed": false,
    "deletable": true,
    "editable": true
   },
   "outputs": [
    {
     "name": "stdout",
     "output_type": "stream",
     "text": [
      "['k_BonusClip', 'Prioritized_IS', 'Prioritized_MinusPseudo']\n",
      "[800001, 800001, 800001]\n",
      "/home/tabz/tmp/logfiles/MinusPseudo/\n"
     ]
    }
   ],
   "source": [
    "names = []\n",
    "legends = []\n",
    "t_maxs = []\n",
    "          \n",
    "# Prioritized replay stuff musing pseudo rewards\n",
    "\n",
    "names += [\"k_BonusClip\"]\n",
    "legends += [\"Uniform\"]\n",
    "\n",
    "names += [\"Prioritized_IS\"]\n",
    "legends += [\"Prioritised minus pseudo rewards IS\"]\n",
    "\n",
    "names += [\"Prioritized_MinusPseudo\"]\n",
    "legends += [\"Prioritized minus pseudo rewards\"]\n",
    "\n",
    "t_maxs += [800001 for _ in range(3)]\n",
    "    \n",
    "direc = \"/home/tabz/tmp/logfiles/MinusPseudo/\"\n",
    "env = \"Med Maze 10 Prioritized Minus PseudoReward\"\n",
    "directories = direc\n",
    "    \n",
    "print(names)\n",
    "print(t_maxs)\n",
    "print(directories)"
   ]
  },
  {
   "cell_type": "code",
   "execution_count": 30,
   "metadata": {
    "collapsed": false,
    "deletable": true,
    "editable": true
   },
   "outputs": [
    {
     "name": "stdout",
     "output_type": "stream",
     "text": [
      "['Prioritized_-1_MinusPseudo_*Stale_50k', 'Prioritized_1_MinusPseudo_*Stale_50k', 'Prioritized_-1_MinusPseudo_*Stale_300k', 'Prioritized_1_MinusPseudo_*Stale_300k']\n",
      "[800001, 800001, 800001, 800001]\n",
      "/home/tabz/tmp/FixedP/\n"
     ]
    }
   ],
   "source": [
    "names = []\n",
    "legends = []\n",
    "t_maxs = []\n",
    "          \n",
    "# Prioritized replay stuff\n",
    "for fresh in [50, 300]:\n",
    "    for scaler in [-1, 1]:\n",
    "        \n",
    "        names += [\"Prioritized_{}_MinusPseudo_*Stale_{}k\".format(scaler, fresh)]\n",
    "        legends += [\"{} Prioritized {}k Fresh Counts\".format(scaler, fresh)]\n",
    "        t_maxs += [800001]\n",
    "\n",
    "#         names += [\"Prioritized_IS_{}_MinusPseudo_*Stale_{}k\".format(scaler, fresh)]\n",
    "#         legends += [\"{} Prioritized IS {}k Fresh Counts\".format(scaler, fresh)]\n",
    "#         t_maxs += [800001]\n",
    "    \n",
    "direc = \"/home/tabz/tmp/FixedP/\"\n",
    "env = \"Med Maze 10 Prioritized On TD Error Minus Scaled PseudoReward\"\n",
    "directories = direc\n",
    "    \n",
    "print(names)\n",
    "print(t_maxs)\n",
    "print(directories)"
   ]
  },
  {
   "cell_type": "code",
   "execution_count": 31,
   "metadata": {
    "collapsed": false,
    "deletable": true,
    "editable": true
   },
   "outputs": [
    {
     "name": "stdout",
     "output_type": "stream",
     "text": [
      "['XpSize_100k_BonusClip', 'XpSize_100k_Prioritized_Bonus', 'XpSize_100k_Prioritized_IS', 'XpSize_500k_BonusClip', 'XpSize_500k_Prioritized_Bonus', 'XpSize_500k_Prioritized_IS']\n",
      "[1000001, 1000001, 1000001, 1000001, 1000001, 1000001]\n",
      "/home/tabz/tmp/Maze12Baselines/\n"
     ]
    }
   ],
   "source": [
    "names = []\n",
    "legends = []\n",
    "t_maxs = []\n",
    "          \n",
    "# Prioritized replay stuff\n",
    "for xp in [100, 500]:\n",
    "        names += [\"XpSize_{}k_BonusClip\".format(xp)]\n",
    "        legends += [\"Uniform {}k XP\".format(xp)]\n",
    "        t_maxs += [1000001]\n",
    "        \n",
    "        names += [\"XpSize_{}k_Prioritized_Bonus\".format(xp)]\n",
    "        legends += [\"Prioritized {}k XP\".format(xp)]\n",
    "        t_maxs += [1000001]\n",
    "\n",
    "        names += [\"XpSize_{}k_Prioritized_IS\".format(xp)]\n",
    "        legends += [\"Prioritized IS {}k XP\".format(xp)]\n",
    "        t_maxs += [1000001]\n",
    "    \n",
    "direc = \"/home/tabz/tmp/Maze12Baselines/\"\n",
    "env = \"Med Maze 12\"\n",
    "directories = direc\n",
    "    \n",
    "print(names)\n",
    "print(t_maxs)\n",
    "print(directories)"
   ]
  },
  {
   "cell_type": "code",
   "execution_count": 32,
   "metadata": {
    "collapsed": false,
    "deletable": true,
    "editable": true
   },
   "outputs": [
    {
     "name": "stdout",
     "output_type": "stream",
     "text": [
      "['XpSize_100k_Prioritized_0_NScaler_', 'XpSize_100k_Prioritized_1.5_NScaler_', 'XpSize_100k_Prioritized_-1.5_NScaler_', 'XpSize_500k_Prioritized_0_NScaler_', 'XpSize_500k_Prioritized_1.5_NScaler_', 'XpSize_500k_Prioritized_-1.5_NScaler_']\n",
      "[1000001, 1000001, 1000001, 1000001, 1000001, 1000001]\n",
      "/home/tabz/tmp/Maze12Prioritized/\n"
     ]
    }
   ],
   "source": [
    "names = []\n",
    "legends = []\n",
    "t_maxs = []\n",
    "          \n",
    "# Prioritized replay stuff\n",
    "for xp in [100, 500]:\n",
    "    for nscaler in [0, 1.5, -1.5]:\n",
    "        names += [\"XpSize_{}k_Prioritized_{}_NScaler_\".format(xp, nscaler)]\n",
    "        legends += [\"Prioritized {}k XP {} NScaler\".format(xp, nscaler)]\n",
    "        t_maxs += [1000001]\n",
    "    \n",
    "direc = \"/home/tabz/tmp/Maze12Prioritized/\"\n",
    "env = \"Med Maze 12 50k Fresh Counts Negative TD Error Scaling\"\n",
    "directories = direc\n",
    "    \n",
    "print(names)\n",
    "print(t_maxs)\n",
    "print(directories)"
   ]
  },
  {
   "cell_type": "code",
   "execution_count": 33,
   "metadata": {
    "collapsed": false
   },
   "outputs": [
    {
     "name": "stdout",
     "output_type": "stream",
     "text": [
      "['DensityP_BonusClip', 'DensityP_IS_BonusClip']\n",
      "[800001, 800001]\n",
      "/home/scratch/tabhid/Log_Files/DensityP/\n"
     ]
    }
   ],
   "source": [
    "names = []\n",
    "legends = []\n",
    "t_maxs = []\n",
    "          \n",
    "# Density Prioritization\n",
    "names += [\"DensityP_BonusClip\"]\n",
    "legends += [\"DensityP\"]\n",
    "t_maxs += [800001]\n",
    "\n",
    "names += [\"DensityP_IS_BonusClip\"]\n",
    "legends += [\"DensityP IS\"]\n",
    "t_maxs += [800001]\n",
    "    \n",
    "direc = \"/home/scratch/tabhid/Log_Files/DensityP/\"\n",
    "env = \"Med Maze 10 50k Fresh Counts Density Prioritization\"\n",
    "directories = direc\n",
    "    \n",
    "print(names)\n",
    "print(t_maxs)\n",
    "print(directories)"
   ]
  },
  {
   "cell_type": "code",
   "execution_count": 34,
   "metadata": {
    "collapsed": false
   },
   "outputs": [
    {
     "name": "stdout",
     "output_type": "stream",
     "text": [
      "['_0.1_Alpha', '_0.3_Alpha', '_0.5_Alpha', '_0.7_Alpha', '_0.9_Alpha']\n",
      "[800001, 800001, 800001, 800001, 800001]\n",
      "/home/scratch/tabhid/Log_Files/Alpha/\n"
     ]
    }
   ],
   "source": [
    "names = []\n",
    "legends = []\n",
    "t_maxs = []\n",
    "          \n",
    "# Prioritized replay alpha\n",
    "for alpha in [0.1, 0.3, 0.5, 0.7, 0.9]:\n",
    "    names += [\"_{}_Alpha\".format(alpha)]\n",
    "    legends += [\"{} Alpha\".format(alpha)]\n",
    "    t_maxs += [800001]\n",
    "    \n",
    "direc = \"/home/scratch/tabhid/Log_Files/Alpha/\"\n",
    "env = \"Med Maze 10 50k Fresh Counts 1.5 NScaler Alpha\"\n",
    "directories = direc\n",
    "    \n",
    "print(names)\n",
    "print(t_maxs)\n",
    "print(directories)"
   ]
  },
  {
   "cell_type": "code",
   "execution_count": 37,
   "metadata": {
    "collapsed": false
   },
   "outputs": [
    {
     "name": "stdout",
     "output_type": "stream",
     "text": [
      "['XpSize_100k_*_0.5_NScaler_*Stale_50k_', 'XpSize_100k_*_0.5_NScaler_*Stale_500k_', 'XpSize_100k_*_2_NScaler_*Stale_50k_', 'XpSize_100k_*_2_NScaler_*Stale_500k_', 'XpSize_500k_*_0.5_NScaler_*Stale_50k_', 'XpSize_500k_*_0.5_NScaler_*Stale_500k_', 'XpSize_500k_*_2_NScaler_*Stale_50k_', 'XpSize_500k_*_2_NScaler_*Stale_500k_']\n",
      "[1000001, 1000001, 1000001, 1000001, 1000001, 1000001, 1000001, 1000001]\n",
      "/home/tabz/tmp/Maze12Alpha/\n",
      "\n",
      " 8 Lines\n"
     ]
    }
   ],
   "source": [
    "names = []\n",
    "legends = []\n",
    "t_maxs = []\n",
    "          \n",
    "# Prioritized replay stuff\n",
    "for xp in [100, 500]:\n",
    "    for nscaler in [0.5, 2]:\n",
    "        for fresh in [50, 500]:\n",
    "            names += [\"XpSize_{}k_*_{}_NScaler_*Stale_{}k_\".format(xp, nscaler, fresh)]\n",
    "            legends += [\"Prioritized {}k XP {} NScaler {}k Fresh\".format(xp, nscaler, fresh)]\n",
    "            t_maxs += [1000001]\n",
    "    \n",
    "direc = \"/home/tabz/tmp/Maze12Alpha/\"\n",
    "env = \"Med Maze 12 50k Negative TD Error Scaling Alpha 0.5\"\n",
    "directories = direc\n",
    "    \n",
    "print(names)\n",
    "print(t_maxs)\n",
    "print(directories)\n",
    "print(\"\\n\", \"{} Lines\".format(len(names)))"
   ]
  },
  {
   "cell_type": "code",
   "execution_count": 42,
   "metadata": {
    "collapsed": false
   },
   "outputs": [
    {
     "name": "stdout",
     "output_type": "stream",
     "text": [
      "['_0.3_Alpha*Stale_50k_', '_0.3_Alpha*Stale_500k_', '_0.5_Alpha*Stale_50k_', '_0.5_Alpha*Stale_500k_']\n",
      "[1000001, 1000001, 1000001, 1000001]\n",
      "/home/tabz/tmp/Maze12_Prioritized_Alpha//\n",
      "\n",
      " 4 Lines\n"
     ]
    }
   ],
   "source": [
    "names = []\n",
    "legends = []\n",
    "t_maxs = []\n",
    "          \n",
    "# Prioritized replay stuff\n",
    "for alpha in [0.3, 0.5]:\n",
    "    for fresh in [50, 500]:\n",
    "        names += [\"_{}_Alpha*Stale_{}k_\".format(alpha, fresh)]\n",
    "        legends += [\"Prioritized {} Alpha {}k Fresh\".format(alpha, fresh)]\n",
    "        t_maxs += [1000001]\n",
    "    \n",
    "direc = \"/home/tabz/tmp/Maze12_Prioritized_Alpha//\"\n",
    "env = \"Med Maze 12 Alpha 500k Replay\"\n",
    "directories = direc\n",
    "    \n",
    "print(names)\n",
    "print(t_maxs)\n",
    "print(directories)\n",
    "print(\"\\n\", \"{} Lines\".format(len(names)))"
   ]
  },
  {
   "cell_type": "code",
   "execution_count": 97,
   "metadata": {
    "collapsed": false
   },
   "outputs": [
    {
     "name": "stdout",
     "output_type": "stream",
     "text": [
      "['_100_Step*_1_NScaler', '_100_Step*_2_NScaler', '_100_Step*_4_NScaler', '_100_Step*_8_NScaler']\n",
      "[600001, 600001, 600001, 600001]\n",
      "/home/tabz/tmp/Maze14_Nscaling/\n",
      "\n",
      " 4 Lines\n"
     ]
    }
   ],
   "source": [
    "names = []\n",
    "legends = []\n",
    "t_maxs = []\n",
    "          \n",
    "# Prioritized replay stuff\n",
    "for step in [100]:\n",
    "    for nscaler in [1, 2, 4, 8]:\n",
    "        names += [\"_{}_Step*_{}_NScaler\".format(step, nscaler)]\n",
    "        legends += [\"{} Step {} Nscaling\".format(step, nscaler)]\n",
    "        t_maxs += [600001]\n",
    "    \n",
    "direc = \"/home/tabz/tmp/Maze14_Nscaling/\"\n",
    "env = \"Med Maze 14 Prioritized 300k XP Replay Stale\"\n",
    "directories = direc\n",
    "    \n",
    "print(names)\n",
    "print(t_maxs)\n",
    "print(directories)\n",
    "print(\"\\n\", \"{} Lines\".format(len(names)))"
   ]
  },
  {
   "cell_type": "code",
   "execution_count": 72,
   "metadata": {
    "collapsed": false
   },
   "outputs": [
    {
     "name": "stdout",
     "output_type": "stream",
     "text": [
      "['_OptimisticAction_']\n",
      "[600001]\n",
      "/home/tabz/tmp/Maze14_Frontier/\n",
      "\n",
      " 1 Lines\n"
     ]
    }
   ],
   "source": [
    "names = []\n",
    "legends = []\n",
    "t_maxs = []\n",
    "          \n",
    "# Prioritized replay stuff\n",
    "for eps_decay in [0.9, 0.99, 0.999]:\n",
    "    names += [\"_CountEps_{}_Decay\".format(eps_decay)]\n",
    "    legends += [\"{} Eps Decay\".format(eps_decay)]\n",
    "    t_maxs += [600001]\n",
    "    \n",
    "names += [\"_OptimisticAction_\"]\n",
    "legends += [\"0.1 Bandit\"]\n",
    "t_maxs += [600001]\n",
    "    \n",
    "direc = \"/home/tabz/tmp/Maze14_Frontier/\"\n",
    "env = \"Med Maze 14 Prioritized 300k XP Replay Stale Frontier\"\n",
    "directories = direc\n",
    "    \n",
    "print(names)\n",
    "print(t_maxs)\n",
    "print(directories)\n",
    "print(\"\\n\", \"{} Lines\".format(len(names)))"
   ]
  },
  {
   "cell_type": "code",
   "execution_count": 128,
   "metadata": {
    "collapsed": false
   },
   "outputs": [
    {
     "name": "stdout",
     "output_type": "stream",
     "text": [
      "['_0.1_Alpha_16_NScaler*_OptimisticAction_', '_0.1_Alpha_16_NScaler*_CountEps_', '_0.3_Alpha_16_NScaler*_OptimisticAction_', '_0.3_Alpha_16_NScaler*_CountEps_', '_0.5_Alpha_16_NScaler*_OptimisticAction_', '_0.5_Alpha_16_NScaler*_CountEps_']\n",
      "[600001, 600001, 600001, 600001, 600001, 600001]\n",
      "/home/tabz/tmp/Maze14_Bandit/\n",
      "\n",
      " 6 Lines\n"
     ]
    }
   ],
   "source": [
    "names = []\n",
    "legends = []\n",
    "t_maxs = []\n",
    "          \n",
    "# Prioritized replay stuff\n",
    "for alpha in [0.1, 0.3, 0.5]:\n",
    "    for nscaler in [16]:\n",
    "        for bandit in [True, False]:\n",
    "            \n",
    "            if not bandit:\n",
    "                names += [\"_{}_Alpha_{}_NScaler*_CountEps_\".format(alpha, nscaler)]\n",
    "                legends += [\"{} Alpha {} NScaler Epsilon\".format(alpha, nscaler)]\n",
    "                t_maxs += [600001]\n",
    "            elif bandit:\n",
    "                names += [\"_{}_Alpha_{}_NScaler*_OptimisticAction_\".format(alpha, nscaler)]\n",
    "                legends += [\"{} Alpha {} NScaler 0.1 Bandit\".format(alpha, nscaler)]\n",
    "                t_maxs += [600001]\n",
    "    \n",
    "direc = \"/home/tabz/tmp/Maze14_Bandit/\"\n",
    "env = \"Med Maze 14 Prioritized 300k XP Replay Stale Frontier\"\n",
    "directories = direc\n",
    "    \n",
    "print(names)\n",
    "print(t_maxs)\n",
    "print(directories)\n",
    "print(\"\\n\", \"{} Lines\".format(len(names)))"
   ]
  },
  {
   "cell_type": "code",
   "execution_count": 133,
   "metadata": {
    "collapsed": false
   },
   "outputs": [
    {
     "name": "stdout",
     "output_type": "stream",
     "text": [
      "['XpSize_250k', 'XpSize_500k']\n",
      "[1000001, 1000001]\n",
      "/home/tabz/tmp/Maze14_Uniform/\n",
      "\n",
      " 2 Lines\n"
     ]
    }
   ],
   "source": [
    "names = []\n",
    "legends = []\n",
    "t_maxs = []\n",
    "          \n",
    "# Maze14 Uniform Baseline\n",
    "for xp in [250, 500]:\n",
    "    names += [\"XpSize_{}k\".format(xp)]\n",
    "    legends += [\"Uniform {}k XP\".format(xp)]\n",
    "    t_maxs += [1000001]\n",
    "    \n",
    "direc = \"/home/tabz/tmp/Maze14_Uniform/\"\n",
    "env = \"Med Maze 14 Uniform Replay\"\n",
    "directories = direc\n",
    "    \n",
    "print(names)\n",
    "print(t_maxs)\n",
    "print(directories)\n",
    "print(\"\\n\", \"{} Lines\".format(len(names)))"
   ]
  },
  {
   "cell_type": "code",
   "execution_count": 138,
   "metadata": {
    "collapsed": false
   },
   "outputs": [
    {
     "name": "stdout",
     "output_type": "stream",
     "text": [
      "['OptimisticAction_0.01_Scaler', 'OptimisticAction_0.1_Scaler', 'OptimisticAction_1_Scaler', 'OptimisticAction_10_Scaler']\n",
      "[600001, 600001, 600001, 600001]\n",
      "/home/tabz/tmp/Maze14_Bandit_Hyperparams/\n",
      "\n",
      " 4 Lines\n"
     ]
    }
   ],
   "source": [
    "names = []\n",
    "legends = []\n",
    "t_maxs = []\n",
    "          \n",
    "# Prioritized replay stuff\n",
    "for optim in [0.01, 0.1, 1, 10]:\n",
    "    names += [\"OptimisticAction_{}_Scaler\".format(optim)]\n",
    "    legends += [\"0.5 Alpha 8 NScaler {} Bandit\".format(optim)]\n",
    "    t_maxs += [600001]\n",
    "    \n",
    "direc = \"/home/tabz/tmp/Maze14_Bandit_Hyperparams/\"\n",
    "env = \"Med Maze 14 Prioritized Bandit Scaling\"\n",
    "directories = direc\n",
    "    \n",
    "print(names)\n",
    "print(t_maxs)\n",
    "print(directories)\n",
    "print(\"\\n\", \"{} Lines\".format(len(names)))"
   ]
  },
  {
   "cell_type": "code",
   "execution_count": 139,
   "metadata": {
    "collapsed": true,
    "deletable": true,
    "editable": true
   },
   "outputs": [],
   "source": [
    "import itertools"
   ]
  },
  {
   "cell_type": "code",
   "execution_count": 140,
   "metadata": {
    "collapsed": false,
    "deletable": true,
    "editable": true
   },
   "outputs": [],
   "source": [
    "from bokeh.palettes import magma, inferno, Set1, Set3, Paired, Dark2"
   ]
  },
  {
   "cell_type": "code",
   "execution_count": 141,
   "metadata": {
    "collapsed": false,
    "deletable": true,
    "editable": true
   },
   "outputs": [],
   "source": [
    "if len(names) <= 2:\n",
    "    colours = [\"red\", \"green\"]\n",
    "elif len(names) > 10:\n",
    "    colours = Paired[len(names)]\n",
    "else:\n",
    "    colours = Set1[len(names)]"
   ]
  },
  {
   "cell_type": "code",
   "execution_count": 142,
   "metadata": {
    "collapsed": false,
    "deletable": true,
    "editable": true
   },
   "outputs": [
    {
     "data": {
      "text/html": [
       "\n",
       "\n",
       "    <div class=\"bk-root\">\n",
       "        <div class=\"bk-plotdiv\" id=\"2a7c5a88-1d21-43f9-b631-e3d2934ca783\"></div>\n",
       "    </div>\n",
       "<script type=\"text/javascript\">\n",
       "  \n",
       "  (function(global) {\n",
       "    function now() {\n",
       "      return new Date();\n",
       "    }\n",
       "  \n",
       "    var force = false;\n",
       "  \n",
       "    if (typeof (window._bokeh_onload_callbacks) === \"undefined\" || force === true) {\n",
       "      window._bokeh_onload_callbacks = [];\n",
       "      window._bokeh_is_loading = undefined;\n",
       "    }\n",
       "  \n",
       "  \n",
       "    \n",
       "    if (typeof (window._bokeh_timeout) === \"undefined\" || force === true) {\n",
       "      window._bokeh_timeout = Date.now() + 0;\n",
       "      window._bokeh_failed_load = false;\n",
       "    }\n",
       "  \n",
       "    var NB_LOAD_WARNING = {'data': {'text/html':\n",
       "       \"<div style='background-color: #fdd'>\\n\"+\n",
       "       \"<p>\\n\"+\n",
       "       \"BokehJS does not appear to have successfully loaded. If loading BokehJS from CDN, this \\n\"+\n",
       "       \"may be due to a slow or bad network connection. Possible fixes:\\n\"+\n",
       "       \"</p>\\n\"+\n",
       "       \"<ul>\\n\"+\n",
       "       \"<li>re-rerun `output_notebook()` to attempt to load from CDN again, or</li>\\n\"+\n",
       "       \"<li>use INLINE resources instead, as so:</li>\\n\"+\n",
       "       \"</ul>\\n\"+\n",
       "       \"<code>\\n\"+\n",
       "       \"from bokeh.resources import INLINE\\n\"+\n",
       "       \"output_notebook(resources=INLINE)\\n\"+\n",
       "       \"</code>\\n\"+\n",
       "       \"</div>\"}};\n",
       "  \n",
       "    function display_loaded() {\n",
       "      if (window.Bokeh !== undefined) {\n",
       "        document.getElementById(\"2a7c5a88-1d21-43f9-b631-e3d2934ca783\").textContent = \"BokehJS successfully loaded.\";\n",
       "      } else if (Date.now() < window._bokeh_timeout) {\n",
       "        setTimeout(display_loaded, 100)\n",
       "      }\n",
       "    }\n",
       "  \n",
       "    function run_callbacks() {\n",
       "      window._bokeh_onload_callbacks.forEach(function(callback) { callback() });\n",
       "      delete window._bokeh_onload_callbacks\n",
       "      console.info(\"Bokeh: all callbacks have finished\");\n",
       "    }\n",
       "  \n",
       "    function load_libs(js_urls, callback) {\n",
       "      window._bokeh_onload_callbacks.push(callback);\n",
       "      if (window._bokeh_is_loading > 0) {\n",
       "        console.log(\"Bokeh: BokehJS is being loaded, scheduling callback at\", now());\n",
       "        return null;\n",
       "      }\n",
       "      if (js_urls == null || js_urls.length === 0) {\n",
       "        run_callbacks();\n",
       "        return null;\n",
       "      }\n",
       "      console.log(\"Bokeh: BokehJS not loaded, scheduling load and callback at\", now());\n",
       "      window._bokeh_is_loading = js_urls.length;\n",
       "      for (var i = 0; i < js_urls.length; i++) {\n",
       "        var url = js_urls[i];\n",
       "        var s = document.createElement('script');\n",
       "        s.src = url;\n",
       "        s.async = false;\n",
       "        s.onreadystatechange = s.onload = function() {\n",
       "          window._bokeh_is_loading--;\n",
       "          if (window._bokeh_is_loading === 0) {\n",
       "            console.log(\"Bokeh: all BokehJS libraries loaded\");\n",
       "            run_callbacks()\n",
       "          }\n",
       "        };\n",
       "        s.onerror = function() {\n",
       "          console.warn(\"failed to load library \" + url);\n",
       "        };\n",
       "        console.log(\"Bokeh: injecting script tag for BokehJS library: \", url);\n",
       "        document.getElementsByTagName(\"head\")[0].appendChild(s);\n",
       "      }\n",
       "    };var element = document.getElementById(\"2a7c5a88-1d21-43f9-b631-e3d2934ca783\");\n",
       "    if (element == null) {\n",
       "      console.log(\"Bokeh: ERROR: autoload.js configured with elementid '2a7c5a88-1d21-43f9-b631-e3d2934ca783' but no matching script tag was found. \")\n",
       "      return false;\n",
       "    }\n",
       "  \n",
       "    var js_urls = [];\n",
       "  \n",
       "    var inline_js = [\n",
       "      function(Bokeh) {\n",
       "        (function() {\n",
       "          var fn = function() {\n",
       "            var docs_json = {\"a58866f8-59af-48e7-9309-fbc25fd2599f\":{\"roots\":{\"references\":[{\"attributes\":{\"label\":{\"value\":\"0.5 Alpha 8 NScaler 0.01 Bandit\"},\"renderers\":[{\"id\":\"00b53452-51a0-4470-a3ee-d75cf7ec75ac\",\"type\":\"GlyphRenderer\"}]},\"id\":\"d8e5f977-c531-4a4b-bf0d-439ee198595f\",\"type\":\"LegendItem\"},{\"attributes\":{\"callback\":null,\"column_names\":[\"x\",\"y\"],\"data\":{\"x\":[0,1000,2000,3000,4000,5000,6000,7000,8000,9000,10000,11000,12000,13000,14000,15000,16000,17000,18000,19000,20000,21000,22000,23000,24000,25000,26000,27000,28000,29000,30000,31000,32000,33000,34000,35000,36000,37000,38000,39000,40000,41000,42000,43000,44000,45000,46000,47000,48000,49000,50000,51000,52000,53000,54000,55000,56000,57000,58000,59000,60000,61000,62000,63000,64000,65000,66000,67000,68000,69000,70000,71000,72000,73000,74000,75000,76000,77000,78000,79000,80000,81000,82000,83000,84000,85000,86000,87000,88000,89000,90000,91000,92000,93000,94000,95000,96000,97000,98000,99000,100000,101000,102000,103000,104000,105000,106000,107000,108000,109000,110000,111000,112000,113000,114000,115000,116000,117000,118000,119000,120000,121000,122000,123000,124000,125000,126000,127000,128000,129000,130000,131000,132000,133000,134000,135000,136000,137000,138000,139000,140000,141000,142000,143000,144000,145000,146000,147000,148000,149000,150000,151000,152000,153000,154000,155000,156000,157000,158000,159000,160000,161000,162000,163000,164000,165000,166000,167000,168000,169000,170000,171000,172000,173000,174000,175000,176000,177000,178000,179000,180000,181000,182000,183000,184000,185000,186000,187000,188000,189000,190000,191000,192000,193000,194000,195000,196000,197000,198000,199000,200000,201000,202000,203000,204000,205000,206000,207000,208000,209000,210000,211000,212000,213000,214000,215000,216000,217000,218000,219000,220000,221000,222000,223000,224000,225000,226000,227000,228000,229000,230000,231000,232000,233000,234000,235000,236000,237000,238000,239000,240000,241000,242000,243000,244000,245000,246000,247000,248000,249000,250000,251000,252000,253000,254000,255000,256000,257000,258000,259000,260000,261000,262000,263000,264000,265000,266000,267000,268000,269000,270000,271000,272000,273000,274000,275000,276000,277000,278000,279000,280000,281000,282000,283000,284000,285000,286000,287000,288000,289000,290000,291000,292000,293000,294000,295000,296000,297000,298000,299000,300000,301000,302000,303000,304000,305000,306000,307000,308000,309000,310000,311000,312000,313000,314000,315000,316000,317000,318000,319000,320000,321000,322000,323000,324000,325000,326000,327000,328000,329000,330000,331000,332000,333000,334000,335000,336000,337000,338000,339000,340000,341000,342000,343000,344000,345000,346000,347000,348000,349000,350000,351000,352000,353000,354000,355000,356000,357000,358000,359000,360000,361000,362000,363000,364000,365000,366000,367000,368000,369000,370000,371000,372000,373000,374000,375000,376000,377000,378000,379000,380000,381000,382000,383000,384000,385000,386000,387000,388000,389000,390000,391000,392000,393000,394000,395000,396000,397000,398000,399000,400000,401000,402000,403000,404000,405000,406000,407000,408000,409000,410000,411000,412000,413000,414000,415000,416000,417000,418000,419000,420000,421000,422000,423000,424000,425000,426000,427000,428000,429000,430000,431000,432000,433000,434000,435000,436000,437000,438000,439000,440000,441000,442000,443000,444000,445000,446000,447000,448000,449000,450000,451000,452000,453000,454000,455000,456000,457000,458000,459000,460000,461000,462000,463000,464000,465000,466000,467000,468000,469000,470000,471000,472000,473000,474000,475000,476000,477000,478000,479000,480000,481000,482000,483000,484000,485000,486000,487000,488000,489000,490000,491000,492000,493000,494000,495000,496000,497000,498000,499000,500000,501000,502000,503000,504000,505000,506000,507000,508000,509000,510000,511000,512000,513000,514000,515000,516000,517000,518000,519000,520000,521000,522000,523000,524000,525000,526000,527000,528000,529000,530000,531000,532000,533000,534000,535000,536000,537000,538000,539000,540000,541000,542000,543000,544000,545000,546000,547000,548000,549000,550000,551000,552000,553000,554000,555000,556000,557000,558000,559000,560000,561000,562000,563000,564000,565000,566000,567000,568000,569000,570000,571000,572000,573000,574000,575000,576000,577000,578000,579000,580000,581000,582000,583000,584000,585000,586000,587000,588000,589000,590000,591000,592000,593000,594000,595000,596000,597000,598000,599000,600000],\"y\":{\"__ndarray__\":\"AAAAAAAAAAAAAAAAAAAAAAAAAAAAAAAAAAAAAAAAAAAAAAAAAAAAAAAAAAAAAAAAAAAAAAAAAAAAAAAAAAAAAAAAAAAAAAAAAAAAAAAAAAAAAAAAAAAAAAAAAAAAAAAAAAAAAAAAAAAAAAAAAAAAAAAAAAAAAAAAAAAAAAAAAAAAAAAAAAAAAAAAAAAAAAAAAAAAAAAAAAAAAAAAAAAAAAAAAAAAAAAAAAAAAAAAAAAAAAAAAAAAAAAAAAAAAAAAAAAAAAAAAAAAAAAAAAAAAAAAAAAAAAAAAAAAAAAAAAAAAAAAAAAAAAAAAAAAAAAAAAAAAAAAAAAAAAAAAAAAAAAAAAAAAAAAAAAAAAAAAAAAAAAAAAAAAAAAAAAAAAAAAAAAAAAAAAAAAAAAAAAAAAAAAAAAAAAAAAAAAAAAAAAAAAAAAAAAAAAAAAAAAAAAAAAAAAAAAAAAAAAAAAAAAAAAAAAAAAAAAAAAAAAAAAAAAAAAAAAAAAAAAAAAAAAAAAAAAAAAAAAAAAAAAAAAAAAAAAAAAAAAAAAAAAAAAAAAAAAAAAAAAAAAAAAAAAAAAAAAAAAAAAAAAAAAAAAAAAAAAAAAAAAAAAAAAAAAAAAAAAAAAAAAAAAAAAAAAAAAAAAAAAAAAAAAAAAAAAAAAAAAAAAAAAAAAAAAAAAAAAAAAAAAAAAAAAAAAAAAAAAAAAAAAAAAAAAAAAAAAAAAAAAAAAAAAAAAAAAAAAAAAAAAAAAAAAAAAAAAAAAAAAAAAAAAAAAAAAAAAAAAAAAAAAAAAAAAAAAAAAAAAAAAAAAAAAAAAAAAAAAAAAAAAAAAAAAAAAAAAAAAAAAAAAAAAAAAAAAAAAAAAAAAAAAAAAAAAAAAAAAAAAAAAAAAAAAAAAAAAAAAAAAAAAAAAAAAAAAAAAAAAAAAAAAAAAAAAAAAAAAAAAAAAAAAAAAAAAAAAAAAAAAAAAAAAAAAAAAAAAAAAAAAAAAAAAAAAAAAAAAAAAAAAAAAAAAAAAAAAAAAAAAAAAAAAAAAAAAAAAAAAAAAAAAAAAAAAAAAAAAAAAAAAAAAAAAAAAAAAAAAAAAAAAAAAAAAAAAAAAAAAAAAAAAAAAAAAAAAAAAAAAAAAAAAAAAAAAAAAAAAAAAAAAAAAAAAAAAAAAAAAAAAAAAAAAAAAAAAAAAAAAAAAAAAAAAAAAAAAAAAAAAAAAAAAAAAAAAAAAAAAAAAAAAAAAAAAAAAAAAAAAAAAAAAAAAAAAAAAAAAAAAAAAAAAAAAAAAAAAAAAAAAAAAAAAAAAAAAAAAAAAAAAAAAAAAAAAAAAAAAAAAAAAAAAAAAAAAAAAAAAAAAAAAAAAAAAAAAAAAAAAAAAAAAAAAAAAAAAAAAAAAAAAAAAAAAAAAAAAAAAAAAAAAAAAAAAAAAAAAAAAAAAAAAAAAAAAAAAAAAAAAAAAAAAAAAAAAAAAAAAAAAAAAAAAAAAAAAAAAAAAAAAAAAAAAAAAAAAAAAAAAAAAAAAAAAAAAAAAAAAAAAAAAAAAAAAAAAAAAAAAAAAAAAAAAAAAAAAAAAAAAAAAAAAAAAAAAAAAAAAAAAAAAAAAAAAAAAAAAAAAAAAAAAAAAAAAAAAAAAAAAAAAAAAAAAAAAAAAAAAAAAAAAAAAAAAAAAAAAAAAAAAAAAAAAAAAAAAAAAAAAAAAAAAAAAAAAAAAAAAAAAAAAAAAAAAAAAAAAAAAAAAAAAAAAAAAAAAAAAAAAAAAAAAAAAAAAAAAAAAAAAAAAAAAAAAAAAAAAAAAAAAAAAAAAAAAAAAAAAAAAAAAAAAAAAAAAAAAAAAAAAAAAAAAAAAAAAAAAAAAAAAAAAAAAAAAAAAAAAAAAAAAAAAAAAAAAAAAAAAAAAAAAAAAAAAAAAAAAAAAAAAAAAAAAAAAAAAAAAAAAAAAAAAAAAAAAAAAAAAAAAAAAAAAAAAAAAAAAAAAAAAAAAAAAAAAAAAAAAAAAAAAAAAAAAAAAAAAAAAAAAAAAAAAAAAAAAAAAAAAAAAAAAAAAAAAAAAAAAAAAAAAAAAAAAAAAAAAAAAAAAAAAAAAAAAAAAAAAAAAAAAAAAAAAAAAAAAAAAAAAAAAAAAAAAAAAAAAAAAAAAAAAAAAAAAAAAAAAAAAAAAAAAAAAAAAAAAAAAAAAAAAAAAAAAAAAAAAAAAAAAAAAAAAAAAAAAAAAAAAAAAAAAAAAAAAAAAAAAAAAAAAAAAAAAAAAAAAAAAAAAAAAAAAAAAAAAAAAAAAAAAAAAAAAAAAAAAAAAAAAAAAAAAAAAAAAAAAAAAAAAAAAAAAAAAAAAAAAAAAAAAAAAAAAAAAAAAAAAAAAAAAAAAAAAAAAAAAAAAAAAAAAAAAAAAAAAAAAAAAAAAAAAAAAAAAAAAAAAAAAAAAAAAAAAAAAAAAAAAAAAAAAAAAAAAAAAAAAAAAAAAAAAAAAAAAAAAAAAAAAAAAAAAAAAAAAAAAAAAAAAAAAAAAAAAAAAAAAAAAAAAAAAAAAAAAAAAAAAAAAAAAAAAAAAAAAAAAAAAAAAAAAAAAAAAAAAAAAAAAAAAAAAAAAAAAAAAAAAAAAAAAAAAAAAAAAAAAAAAAAAAAAAAAAAAAAAAAAAAAAAAAAAAAAAAAAAAAAAAAAAAAAAAAAAAAAAAAAAAAAAAAAAAAAAAAAAAAAAAAAAAAAAAAAAAAAAAAAAAAAAAAAAAAAAAAAAAAAAAAAAAAAAAAAAAAAAAAAAAAAAAAAAAAAAAAAAAAAAAAAAAAAAAAAAAAAAAAAAAAAAAAAAAAAAAAAAAAAAAAAAAAAAAAAAAAAAAAAAAAAAAAAAAAAAAAAAAAAAAAAAAAAAAAAAAAAAAAAAAAAAAAAAAAAAAAAAAAAAAAAAAAAAAAAAAAAAAAAAAAAAAAAAAAAAAAAAAAAAAAAAAAAAAAAAAAAAAAAAAAAAAAAAAAAAAAAAAAAAAAAAAAAAAAAAAAAAAAAAAAAAAAAAAAAAAAAAAAAAAAAAAAAAAAAAAAAAAAAAAAAAAAAAAAAAAAAAAAAAAAAAAAAAAAAAAAAAAAAAAAAAAAAAAAAAAAAAAAAAAAAAAAAAAAAAAAAAAAAAAAAAAAAAAAAAAAAAAAAAAAAAAAAAAAAAAAAAAAAAAAAAAAAAAAAAAAAAAAAAAAAAAAAAAAAAAAAAAAAAAAAAAAAAAAAAAAAAAAAAAAAAAAAAAAAAAAAAAAAAAAAAAAAAAAAAAAAAAAAAAAAAAAAAAAAAAAAAAAAAAAAAAAAAAAAAAAAAAAAAAAAAAAAAAAAAAAAAAAAAAAAAAAAAAAAAAAAAAAAAAAAAAAAAAAAAAAAAAAAAAAAAAAAAAAAAAAAAAAAAAAAAAAAAAAAAAAAAAAAAAAAAAAAAAAAAAAAAAAAAAAAAAAAAAAAAAAAAAAAAAAAAAAAAAAAAAAAAAAAAAAAAAAAAAAAAAAAAAAAAAAAAAAAAAAAAAAAAAAAAAAAAAAAAAAAAAAAAAAAAAAAAAAAAAAAAAAAAAAAAAAAAAAAAAAAAAAAAAAAAAAAAAAAAAAAAAAAAAAAAAAAAAAAAAAAAAAAAAAAAAAAAAAAAAAAAAAAAAAAAAAAAAAAAAAAAAAAAAAAAAAAAAAAAAAAAAAAAAAAAAAAAAAAAAAAAAAAAAAAAAAAAAAAAAAAAAAAAAAAAAAAAAAAAAAAAAAAAAAAAAAAAAAAAAAAAAAAAAAAAAAAAAAAAAAAAAAAAAAAAAAAAAAAAAAAAAAAAAAAAAAAAAAAAAAAAAAAAAAAAAAAAAAAAAAAAAAAAAAAAAAAAAAAAAAAAAAAAAAAAAAAAAAAAAAAAAAAAAAAAAAAAAAAAAAAAAAAAAAAAAAAAAAAAAAAAAAAAAAAAAAAAAAAAAAAAAAAAAAAAAAAAAAAAAAAAAAAAAAAAAAAAAAAAAAAAAAAAAAAAAAAAAAAAAAAAAAAAAAAAAAAAAAAAAAAAAAAAAAAAAAAAAAAAAAAAAAAAAAAAAAAAAAAAAAAAAAAAAAAAAAAAAAAAAAAAAAAAAAAAAAAAAAAAAAAAAAAAAAAAAAAAAAAAAAAAAAAAAAAAAAAAAAAAAAAAAAAAAAAAAAAAAAAAAAAAAAAAAAAAAAAAAAAAAAAAAAAAAAAAAAAAAAAAAAAAAAAAAAAAAAAAAAAAAAAAAAAAAAAAAAAAAAAAAAAAAAAAAAAAAAAAAAAAAAAAAAAAAAAAAAAAAAAAAAAAAAAAAAAAAAAAAAAAAAAAAAAAAAAAAAAAAAAAAAAAAAAAAAAAAAAAAAAAAAAAAAAAAAAAAAAAAAAAAAAAAAAAAAAAAAAAAAAAAAAAAAAAAAAAAAAAAAAAAAAAAAAAAAAAAAAAAAAAAAAAAAAAAAAAAAAAAAAAAAAAAAAAAAAAAAAAAAAAAAAAAAAAAAAAAAAAAAAAAAAAAAAAAAAAAAAAAAAAAAAAAAAAAAAAAAAAAAAAAAAAAAAAAAAAAAAAAAAAAAAAAAAAAAAAAAAAAAAAAAAAAAAAAAAAAAAAAAAAAAAAAAAAAAAAAAAAAAAAAAAAAAAAAAAAAAAAAAAAAAAAAAAAAAAAAAAAAAAAAAAAAAAAAAAAAAAAAAAAAAAAAAAAAAAAAAAAAAAAAAAAAAAAAAAAAAAAAAAAAAAAAAAAAAAAAAAAAAAAAAAAAAAAAAAAAAAAAAAAAAAAAAAAAAAAAAAAAAAAAAAAAAAAAAAAAAAAAAAAAAAAAAAAAAAAAAAAAAAAAAAAAAAAAAAAAAAAAAAAAAAAAAAAAAAAAAAAAAAAAAAAAAAAAAAAAAAAAAAAAAAAAAAAAAAAAAAAAAAAAAAAAAAAAAAAAAAAAAAAAAAAAAAAAAAAAAAAAAAAAAAAAAAAAAAAAAAAAAAAAAAAAAAAAAAAAAAAAAAAAAAAAAAAAAAAAAAAAAAAAAAAAAAAAAAAAAAAAAAAAAAAAAAAAAAAAAAAAAAAAAAAAAAAAAAAAAAAAAAAAAAAAAAAAAAAAAAAAAAAAAAAAAAAAAAAAAAAAAAAAAAAAAAAAAAAAAAAAAAAAAAAAAAAAAAAAAAAAAAAAAAAAAAAAAAAAAAAAAAAAAAAAAAAAAAAAAAAAAAAAAAAAAAAAAAAAAAAAAAAAAAAAAAAAAAAAAAAAAAAAAAAAAAAAAAAAAAAAAAAAAAAAAAAAAAAAAAAAAAAAAAAAAAAAAAAAAAAAAAAAAAAAAAAAAAAAAAAAAAAAAAAAAAAAAAAAAAAAAAAAAAAAAAAAAAAAAAAAAAAAAAAAAAAAAAAAAAAAAAAAAAAAAAAAAAAAAAAAAAAAAAAAAAAAAAAAAAAAAAAAAAAAAAAAAAAAAAAAAAAAAAAAAAAAAAAAAAAAAAAAAAAAAAAAAAAAAAAAAAAAAAAAAAAAAAAAAAAAAAAAAAAAAAAAAAAAAAAAAAAAAAAAAAAAAAAAAAAAAAAAAAAAAAAAAAAAAAAAAAAAAAAAAAAAAAAAAAAAAAAALkZsZrZXng/StMENCNHkj8nYF0BkHaeP4L2Wmf+UqU/8DwHzrRqqz+vwVmaNcGwP+bkr80QzbM/HQgGAezYtj9UK1w0x+S5P4tOsmei8Lw/wnEIm338vz99Si9nLITBPxhc2gAaCsM/tG2FmgeQxD9PfzA09RXGP+uQ283im8c/hqKGZ9AhyT8itDEBvqfKP73F3JqrLcw/WdeHNJmzzT/16DLOhjnPP2hbqVzTW88/FWs2UnUNzj/BesNHF7/MP26KUD25cMs/GprdMlsiyj/GqWoo/dPIP3O59x2fhcc/H8mEE0E3xj/M2BEJ4+jEP3jonv6EmsM/JPgr9CZMwj/RB7npyP3AP/sujL7VXr8/U06mqRnCvD+sbcCUXSW6PwWN2n+hiLc/Xqz0auXrtD+3yw5WKU+yPx/WUYLaZK8/0RSGWGIrqj+CU7ou6vGkP2gk3QnkcJ8/y6FFtvP9lD9cPlzFBhaFP0iRnBYPExg/AAAAAAAAAAAAAAAAAAAAAAAAAAAAAAAAAAAAAAAAAAAAAAAAAAAAAAAAAAAAAAAAAAAAAAAAAAAAAAAAAAAAAAAAAAAAAAAAAAAAAAAAAAAAAAAAAAAAAAAAAAAAAAAAAAAAAAAAAAAAAAAAAAAAAAAAAAAAAAAAAAAAAAAAAAAAAAAAAAAAAAAAAAAAAAAAAAAAAAAAAAAAAAAAAAAAAAAAAAAAAAAAAAAAAAAAAAAAAAAAAAAAAAAAAAAAAAAAAAAAAAAAAAAAAAAAAAAAAAAAAAAAAAAAAAAAAAAAAAAAAAAAAAAAAAAAAAAAAAAAAAAAAAAAAAAAAAAAAAAAAAAAAAAAAAAAAAAAAAAAAAAAAAAAAAAAAAAAAAAAAAAAAAAAAAAAAAAAAAAAAAAAAAAAAAAAAAAAAAAAAAAAAAA=\",\"dtype\":\"float64\",\"shape\":[601]}}},\"id\":\"820550c5-d533-4baa-a8ed-8139ba25e61b\",\"type\":\"ColumnDataSource\"},{\"attributes\":{\"below\":[{\"id\":\"3e393c85-519b-434b-92bc-f94d2b7072d0\",\"type\":\"LinearAxis\"}],\"left\":[{\"id\":\"cbb844cc-14ad-47ef-ba42-00f7577c98b8\",\"type\":\"LinearAxis\"}],\"plot_height\":800,\"plot_width\":1200,\"renderers\":[{\"id\":\"3e393c85-519b-434b-92bc-f94d2b7072d0\",\"type\":\"LinearAxis\"},{\"id\":\"916020a1-087c-4791-a9c8-5bc9dda5f7aa\",\"type\":\"Grid\"},{\"id\":\"cbb844cc-14ad-47ef-ba42-00f7577c98b8\",\"type\":\"LinearAxis\"},{\"id\":\"0f23e19a-9473-4366-a3a4-a9d7402d7b75\",\"type\":\"Grid\"},{\"id\":\"d5a78a89-aabc-4e32-9084-5a0bb4ada9e7\",\"type\":\"BoxAnnotation\"},{\"id\":\"00b53452-51a0-4470-a3ee-d75cf7ec75ac\",\"type\":\"GlyphRenderer\"},{\"id\":\"e8866ab8-eede-402b-badb-ba99f3f744ac\",\"type\":\"GlyphRenderer\"},{\"id\":\"c60e7625-eb23-4e80-bf34-de79d9dc3f00\",\"type\":\"GlyphRenderer\"},{\"id\":\"f603cdc1-7a25-4524-ac73-82a39af97ea6\",\"type\":\"GlyphRenderer\"},{\"id\":\"2b4ed117-16ea-44ae-8979-d314483308b9\",\"type\":\"Legend\"}],\"right\":[{\"id\":\"2b4ed117-16ea-44ae-8979-d314483308b9\",\"type\":\"Legend\"}],\"title\":{\"id\":\"b4bfb34b-07ae-44f5-a625-d7c50a81e841\",\"type\":\"Title\"},\"tool_events\":{\"id\":\"1011e130-46d4-4308-9bff-f4761c4465b3\",\"type\":\"ToolEvents\"},\"toolbar\":{\"id\":\"2b6401cf-0b63-446a-99a8-fe28911aaefd\",\"type\":\"Toolbar\"},\"toolbar_location\":\"above\",\"x_range\":{\"id\":\"48e7e1b6-8aa4-4003-879f-52398bec8460\",\"type\":\"DataRange1d\"},\"y_range\":{\"id\":\"5f10e093-2174-47e3-b060-631cb57f3efd\",\"type\":\"Range1d\"}},\"id\":\"57e7b9eb-caca-4e13-b5fd-36804c275f89\",\"subtype\":\"Figure\",\"type\":\"Plot\"},{\"attributes\":{\"plot\":null,\"text\":\"Med Maze 14 Prioritized Bandit Scaling\"},\"id\":\"b4bfb34b-07ae-44f5-a625-d7c50a81e841\",\"type\":\"Title\"},{\"attributes\":{\"callback\":null},\"id\":\"48e7e1b6-8aa4-4003-879f-52398bec8460\",\"type\":\"DataRange1d\"},{\"attributes\":{},\"id\":\"1011e130-46d4-4308-9bff-f4761c4465b3\",\"type\":\"ToolEvents\"},{\"attributes\":{\"label\":{\"value\":\"0.5 Alpha 8 NScaler 10 Bandit\"},\"renderers\":[{\"id\":\"f603cdc1-7a25-4524-ac73-82a39af97ea6\",\"type\":\"GlyphRenderer\"}]},\"id\":\"64fea650-28e1-49ec-a276-78cd43f0e675\",\"type\":\"LegendItem\"},{\"attributes\":{\"active_drag\":\"auto\",\"active_scroll\":\"auto\",\"active_tap\":\"auto\",\"tools\":[{\"id\":\"b4108db6-af43-4e9d-8ed4-fd80ae8f7337\",\"type\":\"PanTool\"},{\"id\":\"ff5a38eb-586a-41e8-a97c-d5e7251d8748\",\"type\":\"WheelZoomTool\"},{\"id\":\"48cd32a6-87f1-4c0e-9333-f8c1363e9241\",\"type\":\"BoxZoomTool\"},{\"id\":\"bc61dec7-8f6b-4d21-92e9-961fd8fb3a6f\",\"type\":\"SaveTool\"},{\"id\":\"550f94fd-1803-4a38-a321-33940975a811\",\"type\":\"ResetTool\"},{\"id\":\"29ab437c-103c-49f5-8938-fa88a67def4b\",\"type\":\"HelpTool\"}]},\"id\":\"2b6401cf-0b63-446a-99a8-fe28911aaefd\",\"type\":\"Toolbar\"},{\"attributes\":{\"axis_label\":\"T\",\"formatter\":{\"id\":\"32298c55-f80c-4837-8bf5-6cde393fc0d2\",\"type\":\"BasicTickFormatter\"},\"plot\":{\"id\":\"57e7b9eb-caca-4e13-b5fd-36804c275f89\",\"subtype\":\"Figure\",\"type\":\"Plot\"},\"ticker\":{\"id\":\"cadedf50-ae01-4aec-b8f5-53cbfc35356e\",\"type\":\"BasicTicker\"}},\"id\":\"3e393c85-519b-434b-92bc-f94d2b7072d0\",\"type\":\"LinearAxis\"},{\"attributes\":{\"line_color\":{\"value\":\"#4daf4a\"},\"line_width\":{\"value\":2},\"x\":{\"field\":\"x\"},\"y\":{\"field\":\"y\"}},\"id\":\"7f2a97cf-c03b-4cb3-af9d-ad7d7fb5d3e4\",\"type\":\"Line\"},{\"attributes\":{\"callback\":null,\"end\":1.1,\"start\":-0.1},\"id\":\"5f10e093-2174-47e3-b060-631cb57f3efd\",\"type\":\"Range1d\"},{\"attributes\":{},\"id\":\"3f71f700-674a-4ef6-939c-b34a5280cfdb\",\"type\":\"BasicTickFormatter\"},{\"attributes\":{\"data_source\":{\"id\":\"ee8e0281-23d7-4938-99dd-69fd3dfbe226\",\"type\":\"ColumnDataSource\"},\"glyph\":{\"id\":\"7f2a97cf-c03b-4cb3-af9d-ad7d7fb5d3e4\",\"type\":\"Line\"},\"hover_glyph\":null,\"nonselection_glyph\":{\"id\":\"ee2068a3-7a9b-43a0-8809-5a3236c6f50f\",\"type\":\"Line\"},\"selection_glyph\":null},\"id\":\"c60e7625-eb23-4e80-bf34-de79d9dc3f00\",\"type\":\"GlyphRenderer\"},{\"attributes\":{},\"id\":\"cadedf50-ae01-4aec-b8f5-53cbfc35356e\",\"type\":\"BasicTicker\"},{\"attributes\":{\"plot\":{\"id\":\"57e7b9eb-caca-4e13-b5fd-36804c275f89\",\"subtype\":\"Figure\",\"type\":\"Plot\"},\"ticker\":{\"id\":\"cadedf50-ae01-4aec-b8f5-53cbfc35356e\",\"type\":\"BasicTicker\"}},\"id\":\"916020a1-087c-4791-a9c8-5bc9dda5f7aa\",\"type\":\"Grid\"},{\"attributes\":{\"axis_label\":\"Episode Reward\",\"formatter\":{\"id\":\"3f71f700-674a-4ef6-939c-b34a5280cfdb\",\"type\":\"BasicTickFormatter\"},\"plot\":{\"id\":\"57e7b9eb-caca-4e13-b5fd-36804c275f89\",\"subtype\":\"Figure\",\"type\":\"Plot\"},\"ticker\":{\"id\":\"92306ee7-a35d-46a5-9260-ec73eb155318\",\"type\":\"BasicTicker\"}},\"id\":\"cbb844cc-14ad-47ef-ba42-00f7577c98b8\",\"type\":\"LinearAxis\"},{\"attributes\":{},\"id\":\"92306ee7-a35d-46a5-9260-ec73eb155318\",\"type\":\"BasicTicker\"},{\"attributes\":{\"label\":{\"value\":\"0.5 Alpha 8 NScaler 1 Bandit\"},\"renderers\":[{\"id\":\"c60e7625-eb23-4e80-bf34-de79d9dc3f00\",\"type\":\"GlyphRenderer\"}]},\"id\":\"bafea302-d3b6-4546-9493-30698582e3ba\",\"type\":\"LegendItem\"},{\"attributes\":{\"dimension\":1,\"plot\":{\"id\":\"57e7b9eb-caca-4e13-b5fd-36804c275f89\",\"subtype\":\"Figure\",\"type\":\"Plot\"},\"ticker\":{\"id\":\"92306ee7-a35d-46a5-9260-ec73eb155318\",\"type\":\"BasicTicker\"}},\"id\":\"0f23e19a-9473-4366-a3a4-a9d7402d7b75\",\"type\":\"Grid\"},{\"attributes\":{\"callback\":null,\"column_names\":[\"x\",\"y\"],\"data\":{\"x\":[0,1000,2000,3000,4000,5000,6000,7000,8000,9000,10000,11000,12000,13000,14000,15000,16000,17000,18000,19000,20000,21000,22000,23000,24000,25000,26000,27000,28000,29000,30000,31000,32000,33000,34000,35000,36000,37000,38000,39000,40000,41000,42000,43000,44000,45000,46000,47000,48000,49000,50000,51000,52000,53000,54000,55000,56000,57000,58000,59000,60000,61000,62000,63000,64000,65000,66000,67000,68000,69000,70000,71000,72000,73000,74000,75000,76000,77000,78000,79000,80000,81000,82000,83000,84000,85000,86000,87000,88000,89000,90000,91000,92000,93000,94000,95000,96000,97000,98000,99000,100000,101000,102000,103000,104000,105000,106000,107000,108000,109000,110000,111000,112000,113000,114000,115000,116000,117000,118000,119000,120000,121000,122000,123000,124000,125000,126000,127000,128000,129000,130000,131000,132000,133000,134000,135000,136000,137000,138000,139000,140000,141000,142000,143000,144000,145000,146000,147000,148000,149000,150000,151000,152000,153000,154000,155000,156000,157000,158000,159000,160000,161000,162000,163000,164000,165000,166000,167000,168000,169000,170000,171000,172000,173000,174000,175000,176000,177000,178000,179000,180000,181000,182000,183000,184000,185000,186000,187000,188000,189000,190000,191000,192000,193000,194000,195000,196000,197000,198000,199000,200000,201000,202000,203000,204000,205000,206000,207000,208000,209000,210000,211000,212000,213000,214000,215000,216000,217000,218000,219000,220000,221000,222000,223000,224000,225000,226000,227000,228000,229000,230000,231000,232000,233000,234000,235000,236000,237000,238000,239000,240000,241000,242000,243000,244000,245000,246000,247000,248000,249000,250000,251000,252000,253000,254000,255000,256000,257000,258000,259000,260000,261000,262000,263000,264000,265000,266000,267000,268000,269000,270000,271000,272000,273000,274000,275000,276000,277000,278000,279000,280000,281000,282000,283000,284000,285000,286000,287000,288000,289000,290000,291000,292000,293000,294000,295000,296000,297000,298000,299000,300000,301000,302000,303000,304000,305000,306000,307000,308000,309000,310000,311000,312000,313000,314000,315000,316000,317000,318000,319000,320000,321000,322000,323000,324000,325000,326000,327000,328000,329000,330000,331000,332000,333000,334000,335000,336000,337000,338000,339000,340000,341000,342000,343000,344000,345000,346000,347000,348000,349000,350000,351000,352000,353000,354000,355000,356000,357000,358000,359000,360000,361000,362000,363000,364000,365000,366000,367000,368000,369000,370000,371000,372000,373000,374000,375000,376000,377000,378000,379000,380000,381000,382000,383000,384000,385000,386000,387000,388000,389000,390000,391000,392000,393000,394000,395000,396000,397000,398000,399000,400000,401000,402000,403000,404000,405000,406000,407000,408000,409000,410000,411000,412000,413000,414000,415000,416000,417000,418000,419000,420000,421000,422000,423000,424000,425000,426000,427000,428000,429000,430000,431000,432000,433000,434000,435000,436000,437000,438000,439000,440000,441000,442000,443000,444000,445000,446000,447000,448000,449000,450000,451000,452000,453000,454000,455000,456000,457000,458000,459000,460000,461000,462000,463000,464000,465000,466000,467000,468000,469000,470000,471000,472000,473000,474000,475000,476000,477000,478000,479000,480000,481000,482000,483000,484000,485000,486000,487000,488000,489000,490000,491000,492000,493000,494000,495000,496000,497000,498000,499000,500000,501000,502000,503000,504000,505000,506000,507000,508000,509000,510000,511000,512000,513000,514000,515000,516000,517000,518000,519000,520000,521000,522000,523000,524000,525000,526000,527000,528000,529000,530000,531000,532000,533000,534000,535000,536000,537000,538000,539000,540000,541000,542000,543000,544000,545000,546000,547000,548000,549000,550000,551000,552000,553000,554000,555000,556000,557000,558000,559000,560000,561000,562000,563000,564000,565000,566000,567000,568000,569000,570000,571000,572000,573000,574000,575000,576000,577000,578000,579000,580000,581000,582000,583000,584000,585000,586000,587000,588000,589000,590000,591000,592000,593000,594000,595000,596000,597000,598000,599000,600000],\"y\":{\"__ndarray__\":\"AAAAAAAAAAAAAAAAAAAAAAAAAAAAAAAAAAAAAAAAAAAAAAAAAAAAAAAAAAAAAAAAAAAAAAAAAAAAAAAAAAAAAAAAAAAAAAAAAAAAAAAAAAAAAAAAAAAAAAAAAAAAAAAAAAAAAAAAAAAAAAAAAAAAAAAAAAAAAAAAAAAAAAAAAAAAAAAAAAAAAAAAAAAAAAAAAAAAAAAAAAAAAAAAAAAAAAAAAAAAAAAAAAAAAAAAAAAAAAAAAAAAAAAAAAAAAAAAAAAAAAAAAAAAAAAAAAAAAAAAAAAAAAAAAAAAAAAAAAAAAAAAAAAAAAAAAAAAAAAAAAAAAAAAAAAAAAAAAAAAAAAAAAAAAAAAAAAAAAAAAAAAAAAAAAAAAAAAAAAAAAAAAAAAAAAAAAAAAAAAAAAAAAAAAAAAAAAAAAAAAAAAAAAAAAAAAAAAAAAAAAAAAAAAAAAAAAAAAAAAAAAAAAAAAAAAAAAAAAAAAAAAAAAAAAAAAAAAAAAAAAAAAAAAAAAAAAAAAAAAAAAAAAAAAAAAAAAAAAAAAAAAAAAAAAAAAAAAAAAAAAAAAAAAAAAAAAAAAAAAAAAAAAAAAAAAAAAAAAAAAAAAAAAAAAAAAAAAAAAAAAAAAAAAAAAAAAAAAAAAAAAAAAAAAAAAAAAAAAAAAAAAAAAAAAAAAAAAAAAAAAAAAAAAAAAAAAAAAAAAAAAAAAAAAAAAAAAAAAAAAAAAAAAAAAAAAAAAAAAAAAAAAAAAAAAAAAAAAAAAAAAAAAAAAAAAAAAAAAAAAAAAAAAAAAAAAAAAAAAAAAAAAAAAAAAAAAAAAAAAAAAAAAAAAAAAAAAAAAAAAAAAAAAAAAAAAAAAAAAAAAAAAAAAAAAAAAAAAAAAAAAAAAAAAAAAAAAAAAAAAAAAAAAAAAAAAAAAAAAAAAAAAAAAAAAAAAAAAAAAAAAAAAAAAAAAAAAAAAAAAAAAAAAAAAAAAAAAAAAAAAAAAAAAAAAAAAAAAAAAAAAAAAAAAAAAAAAAAAAAAAAAAAAAAAAAAAAAAAAAAAAAAAAAAAAAAAAAAAAAAAAAAAAAAAAAAAAAAAAAAAAAAAAAAAAAAAAAAAAAAAAAAAAAAAAAAAAAAAAAAAAAAAAAAAAAAAAAAAAAAAAAAAAAAAAAAAAAAAAAAAAAAAAAAAAAAAAAAAAAAAAAAAAAAAAAAAAAAAAAAAAAAAAAAAAAAAAAAAAAAAAAAAAAAAAAAAAAAAAAAAAAAAAAAAAAAAAAAAAAAAAAAAAAAAAAAAAAAAAAAAAAAAAAAAAAAAAAAAAAAAAAAAAAAAAAHphWRu5Cfz8X8sC0MnKXPxMf9uvUiaM/GsWLfZBaqz+RtZAHppWxP5WIW9ADfrU/mVsmmWFmuT+cLvFhv069P9AAXpWOm8A/UmrDeb2Pwj/U0yhe7IPEP1Y9jkIbeMY/2KbzJkpsyD9ZEFkLeWDKP9t5vu+nVMw/XeMj1NZIzj8AAAAAAADQPwAAAAAAANA/AAAAAAAA0D8AAAAAAADQPwAAAAAAANA/AAAAAAAA0D8AAAAAAADQPwAAAAAAANA/AAAAAAAA0D8AAAAAAADQPwAAAAAAANA/AAAAAAAA0D8BAAAAAADQP////////88/AAAAAAAA0D8AAAAAAADQPwAAAAAAANA/AAAAAAAA0D8AAAAAAADQPwAAAAAAANA/AAAAAAAA0D8AAAAAAADQPwAAAAAAANA/AAAAAAAA0D8AAAAAAADQPwAAAAAAANA/AAAAAAAA0D8AAAAAAADQPwAAAAAAANA/AAAAAAAA0D8AAAAAAADQPwAAAAAAANA/AAAAAAAA0D8AAAAAAADQPwAAAAAAANA/AAAAAAAA0D8AAAAAAADQPwAAAAAAANA/AAAAAAAA0D8AAAAAAADQPwAAAAAAANA/AAAAAAAA0D8AAAAAAADQPwAAAAAAANA/AAAAAAAA0D8AAAAAAADQPwAAAAAAANA/AQAAAAAA0D8AAAAAAADQPwAAAAAAANA/AAAAAAAA0D8AAAAAAADQPwAAAAAAANA/AAAAAAAA0D8AAAAAAADQPwAAAAAAANA/AAAAAAAA0D/////////PPwAAAAAAANA/AAAAAAAA0D8AAAAAAADQPwAAAAAAANA/AAAAAAAA0D8AAAAAAADQPwAAAAAAANA/AAAAAAAA0D8AAAAAAADQPwAAAAAAANA/AAAAAAAA0D8AAAAAAADQPwAAAAAAANA/AAAAAAAA0D8AAAAAAADQPwAAAAAAANA/////////zz/////////PP/7//////88/////////zz8AAAAAAADQPwAAAAAAANA/AAAAAAAA0D/////////PPwAAAAAAANA/AAAAAAAA0D8AAAAAAADQPwAAAAAAANA/AAAAAAAA0D8AAAAAAADQPwAAAAAAANA/AAAAAAAA0D8AAAAAAADQPwAAAAAAANA/////////zz8AAAAAAADQPwAAAAAAANA/AAAAAAAA0D8AAAAAAADQPwAAAAAAANA/AAAAAAAA0D/////////PPwAAAAAAANA/AAAAAAAA0D8AAAAAAADQPwAAAAAAANA/AAAAAAAA0D8AAAAAAADQPwAAAAAAANA/gNI27v650D8ApW3c/XPRP4F3pMr8LdI/AUrbuPvn0j+BHBKn+qHTPwHvSJX5W9Q/gcF/g/gV1T8ClLZx98/VP4Fm7V/2idY/AjkkTvVD1z+CC1s89P3XPwLekSrzt9g/grDIGPJx2T8Cg/8G8SvaP4NVNvXv5do/Ayht4+6f2z+E+qPR7VncPwTN2r/sE90/hJ8RruvN3T8Eckic6ofeP4REf4rpQd8/BBe2eOj73z8AAAAAAADgPwAAAAAAAOA/AAAAAAAA4D8AAAAAAADgPwAAAAAAAOA/AAAAAAAA4D8AAAAAAADgPwAAAAAAAOA/AAAAAAAA4D8AAAAAAADgPwAAAAAAAOA/AAAAAAAA4D8AAAAAAADgPwAAAAAAAOA/AAAAAAAA4D8AAAAAAADgPwAAAAAAAOA/AAAAAAAA4D8AAAAAAADgPwAAAAAAAOA/AAAAAAAA4D8AAAAAAADgPwAAAAAAAOA/AAAAAAAA4D8AAAAAAADgPwAAAAAAAOA/AAAAAAAA4D8AAAAAAADgPwAAAAAAAOA/AAAAAAAA4D8AAAAAAADgPwAAAAAAAOA/AAAAAAAA4D8AAAAAAADgPwAAAAAAAOA/AAAAAAAA4D8AAAAAAADgPwAAAAAAAOA/AAAAAAAA4D8AAAAAAADgPwAAAAAAAOA/AAAAAAAA4D8AAAAAAADgPwAAAAAAAOA/AAAAAAAA4D8AAAAAAADgPwAAAAAAAOA/AAAAAAAA4D8AAAAAAADgPwAAAAAAAOA/AAAAAAAA4D9iUNTJ5UXgPybxfF2x0eA/6pEl8Xxd4T+tMs6ESOnhP3HTdhgUdeI/NHQfrN8A4z/4FMg/q4zjP7y1cNN2GOQ/gFYZZ0Kk5D9D98H6DTDlPweYao7Zu+U/yzgTIqVH5j+O2bu1cNPmP1J6ZEk8X+c/FhsN3Qfr5z8AAAAAAADoPwAAAAAAAOg/AAAAAAAA6D8AAAAAAADoPwAAAAAAAOg/AAAAAAAA6D8AAAAAAADoPwAAAAAAAOg/AAAAAAAA6D8AAAAAAADoPwAAAAAAAOg/AAAAAAAA6D8AAAAAAADoPwAAAAAAAOg/AAAAAAAA6D8AAAAAAADoPwAAAAAAAOg/AAAAAAAA6D8AAAAAAADoPwAAAAAAAOg/AAAAAAAA6D8AAAAAAADoPwAAAAAAAOg/AAAAAAAA6D8AAAAAAADoPwAAAAAAAOg/AAAAAAAA6D8AAAAAAADoPwAAAAAAAOg/AAAAAAAA6D8AAAAAAADoPwAAAAAAAOg/AAAAAAAA6D8AAAAAAADoPwAAAAAAAOg/AAAAAAAA6D8AAAAAAADoPwAAAAAAAOg/AAAAAAAA6D8AAAAAAADoPwAAAAAAAOg/AAAAAAAA6D8AAAAAAADoPwAAAAAAAOg/AAAAAAAA6D8AAAAAAADoPwAAAAAAAOg/AAAAAAAA6D8AAAAAAADoPwAAAAAAAOg/AAAAAAAA6D8AAAAAAADoPwAAAAAAAOg/AAAAAAAA6D8AAAAAAADoPwAAAAAAAOg/AAAAAAAA6D8AAAAAAADoPwAAAAAAAOg/AAAAAAAA6D8AAAAAAADoPwAAAAAAAOg/AAAAAAAA6D8AAAAAAADoPwAAAAAAAOg/AAAAAAAA6D8AAAAAAADoPwAAAAAAAOg/AAAAAAAA6D8AAAAAAADoPwAAAAAAAOg/AAAAAAAA6D8AAAAAAADoPwAAAAAAAOg/AAAAAAAA6D8AAAAAAADoPwAAAAAAAOg/AAAAAAAA6D8AAAAAAADoPwAAAAAAAOg/AAAAAAAA6D8AAAAAAADoPwAAAAAAAOg/AAAAAAAA6D8AAAAAAADoPwAAAAAAAOg/AAAAAAAA6D8AAAAAAADoPwAAAAAAAOg/AAAAAAAA6D8AAAAAAADoPwAAAAAAAOg/AAAAAAAA6D8AAAAAAADoPwAAAAAAAOg/AAAAAAAA6D8AAAAAAADoPwAAAAAAAOg/AAAAAAAA6D8AAAAAAADoPwAAAAAAAOg/AAAAAAAA6D8AAAAAAADoPwAAAAAAAOg/AAAAAAAA6D8AAAAAAADoPwAAAAAAAOg/AAAAAAAA6D/////////nPwAAAAAAAOg/AAAAAAAA6D8AAAAAAADoPwAAAAAAAOg/AAAAAAAA6D8AAAAAAADoPwAAAAAAAOg/AAAAAAAA6D8AAAAAAADoPwAAAAAAAOg/AAAAAAAA6D8AAAAAAADoPwAAAAAAAOg/AAAAAAAA6D8AAAAAAADoPwAAAAAAAOg/AAAAAAAA6D8AAAAAAADoPwAAAAAAAOg/AAAAAAAA6D8AAAAAAADoPwAAAAAAAOg/AAAAAAAA6D8AAAAAAADoPwAAAAAAAOg/AAAAAAAA6D8AAAAAAADoPwAAAAAAAOg/AAAAAAAA6D8AAAAAAADoPwAAAAAAAOg/AAAAAAAA6D8AAAAAAADoPwAAAAAAAOg/AAAAAAAA6D8AAAAAAADoPwAAAAAAAOg/AAAAAAAA6D8AAAAAAADoPwAAAAAAAOg/AAAAAAAA6D8AAAAAAADoPwAAAAAAAOg/AAAAAAAA6D8AAAAAAADoPwAAAAAAAOg/AAAAAAAA6D8AAAAAAADoP8lpB2grhuk/kdMO0FYM6z9bPRY4gpLsPySnHaCtGO4/7BAlCNme7z8AAAAAAADwPwAAAAAAAPA/AAAAAAAA8D8AAAAAAADwPwAAAAAAAPA/AAAAAAAA8D8AAAAAAADwPwAAAAAAAPA/AAAAAAAA8D8AAAAAAADwPwAAAAAAAPA/AAAAAAAA8D8AAAAAAADwPwAAAAAAAPA/AAAAAAAA8D8AAAAAAADwPwAAAAAAAPA/AAAAAAAA8D8AAAAAAADwPwAAAAAAAPA/AAAAAAAA8D8AAAAAAADwPwAAAAAAAPA/AAAAAAAA8D8AAAAAAADwPwAAAAAAAPA/AAAAAAAA8D8AAAAAAADwPwAAAAAAAPA/AAAAAAAA8D8AAAAAAADwPwAAAAAAAPA/AAAAAAAA8D8AAAAAAADwPwAAAAAAAPA/AAAAAAAA8D8AAAAAAADwPwAAAAAAAPA/AAAAAAAA8D8AAAAAAADwPwAAAAAAAPA/AAAAAAAA8D8AAAAAAADwPwAAAAAAAPA/AAAAAAAA8D8AAAAAAADwPwAAAAAAAPA/AAAAAAAA8D8AAAAAAADwPwAAAAAAAPA/AAAAAAAA8D8AAAAAAADwPwAAAAAAAPA/AAAAAAAA8D8AAAAAAADwPwAAAAAAAPA/AAAAAAAA8D8AAAAAAADwPwAAAAAAAPA/AAAAAAAA8D8AAAAAAADwPwAAAAAAAPA/AAAAAAAA8D8AAAAAAADwPwAAAAAAAPA/AAAAAAAA8D8AAAAAAADwPwAAAAAAAPA/AAAAAAAA8D8AAAAAAADwPwAAAAAAAPA/AAAAAAAA8D8AAAAAAADwPwAAAAAAAPA/AAAAAAAA8D8AAAAAAADwPwAAAAAAAPA/AAAAAAAA8D8AAAAAAADwPwAAAAAAAPA/AAAAAAAA8D8AAAAAAADwPwAAAAAAAPA/AAAAAAAA8D8AAAAAAADwPwAAAAAAAPA/AAAAAAAA8D8AAAAAAADwPwAAAAAAAPA/AAAAAAAA8D8AAAAAAADwPwAAAAAAAPA/kNHS/Pvf7z/+4UVYwF7vP9RpDFORt+4/qvHSTWIQ7j+AeZlIM2ntP1YBYEMEwuw/LokmPtUa7D8DEe04pnPrP9mYszN3zOo/sCB6Lkgl6j+GqEApGX7pP1wwByTq1ug/MrjNHrsv6D8=\",\"dtype\":\"float64\",\"shape\":[601]}}},\"id\":\"6e09f703-ff15-46f0-9340-805f25e13345\",\"type\":\"ColumnDataSource\"},{\"attributes\":{\"use_scientific\":false},\"id\":\"32298c55-f80c-4837-8bf5-6cde393fc0d2\",\"type\":\"BasicTickFormatter\"},{\"attributes\":{\"bottom_units\":\"screen\",\"fill_alpha\":{\"value\":0.5},\"fill_color\":{\"value\":\"lightgrey\"},\"left_units\":\"screen\",\"level\":\"overlay\",\"line_alpha\":{\"value\":1.0},\"line_color\":{\"value\":\"black\"},\"line_dash\":[4,4],\"line_width\":{\"value\":2},\"plot\":null,\"render_mode\":\"css\",\"right_units\":\"screen\",\"top_units\":\"screen\"},\"id\":\"d5a78a89-aabc-4e32-9084-5a0bb4ada9e7\",\"type\":\"BoxAnnotation\"},{\"attributes\":{\"callback\":null,\"column_names\":[\"x\",\"y\"],\"data\":{\"x\":[0,1000,2000,3000,4000,5000,6000,7000,8000,9000,10000,11000,12000,13000,14000,15000,16000,17000,18000,19000,20000,21000,22000,23000,24000,25000,26000,27000,28000,29000,30000,31000,32000,33000,34000,35000,36000,37000,38000,39000,40000,41000,42000,43000,44000,45000,46000,47000,48000,49000,50000,51000,52000,53000,54000,55000,56000,57000,58000,59000,60000,61000,62000,63000,64000,65000,66000,67000,68000,69000,70000,71000,72000,73000,74000,75000,76000,77000,78000,79000,80000,81000,82000,83000,84000,85000,86000,87000,88000,89000,90000,91000,92000,93000,94000,95000,96000,97000,98000,99000,100000,101000,102000,103000,104000,105000,106000,107000,108000,109000,110000,111000,112000,113000,114000,115000,116000,117000,118000,119000,120000,121000,122000,123000,124000,125000,126000,127000,128000,129000,130000,131000,132000,133000,134000,135000,136000,137000,138000,139000,140000,141000,142000,143000,144000,145000,146000,147000,148000,149000,150000,151000,152000,153000,154000,155000,156000,157000,158000,159000,160000,161000,162000,163000,164000,165000,166000,167000,168000,169000,170000,171000,172000,173000,174000,175000,176000,177000,178000,179000,180000,181000,182000,183000,184000,185000,186000,187000,188000,189000,190000,191000,192000,193000,194000,195000,196000,197000,198000,199000,200000,201000,202000,203000,204000,205000,206000,207000,208000,209000,210000,211000,212000,213000,214000,215000,216000,217000,218000,219000,220000,221000,222000,223000,224000,225000,226000,227000,228000,229000,230000,231000,232000,233000,234000,235000,236000,237000,238000,239000,240000,241000,242000,243000,244000,245000,246000,247000,248000,249000,250000,251000,252000,253000,254000,255000,256000,257000,258000,259000,260000,261000,262000,263000,264000,265000,266000,267000,268000,269000,270000,271000,272000,273000,274000,275000,276000,277000,278000,279000,280000,281000,282000,283000,284000,285000,286000,287000,288000,289000,290000,291000,292000,293000,294000,295000,296000,297000,298000,299000,300000,301000,302000,303000,304000,305000,306000,307000,308000,309000,310000,311000,312000,313000,314000,315000,316000,317000,318000,319000,320000,321000,322000,323000,324000,325000,326000,327000,328000,329000,330000,331000,332000,333000,334000,335000,336000,337000,338000,339000,340000,341000,342000,343000,344000,345000,346000,347000,348000,349000,350000,351000,352000,353000,354000,355000,356000,357000,358000,359000,360000,361000,362000,363000,364000,365000,366000,367000,368000,369000,370000,371000,372000,373000,374000,375000,376000,377000,378000,379000,380000,381000,382000,383000,384000,385000,386000,387000,388000,389000,390000,391000,392000,393000,394000,395000,396000,397000,398000,399000,400000,401000,402000,403000,404000,405000,406000,407000,408000,409000,410000,411000,412000,413000,414000,415000,416000,417000,418000,419000,420000,421000,422000,423000,424000,425000,426000,427000,428000,429000,430000,431000,432000,433000,434000,435000,436000,437000,438000,439000,440000,441000,442000,443000,444000,445000,446000,447000,448000,449000,450000,451000,452000,453000,454000,455000,456000,457000,458000,459000,460000,461000,462000,463000,464000,465000,466000,467000,468000,469000,470000,471000,472000,473000,474000,475000,476000,477000,478000,479000,480000,481000,482000,483000,484000,485000,486000,487000,488000,489000,490000,491000,492000,493000,494000,495000,496000,497000,498000,499000,500000,501000,502000,503000,504000,505000,506000,507000,508000,509000,510000,511000,512000,513000,514000,515000,516000,517000,518000,519000,520000,521000,522000,523000,524000,525000,526000,527000,528000,529000,530000,531000,532000,533000,534000,535000,536000,537000,538000,539000,540000,541000,542000,543000,544000,545000,546000,547000,548000,549000,550000,551000,552000,553000,554000,555000,556000,557000,558000,559000,560000,561000,562000,563000,564000,565000,566000,567000,568000,569000,570000,571000,572000,573000,574000,575000,576000,577000,578000,579000,580000,581000,582000,583000,584000,585000,586000,587000,588000,589000,590000,591000,592000,593000,594000,595000,596000,597000,598000,599000,600000],\"y\":{\"__ndarray__\":\"AAAAAAAAAAAAAAAAAAAAAAAAAAAAAAAAAAAAAAAAAAAAAAAAAAAAAAAAAAAAAAAAAAAAAAAAAAAAAAAAAAAAAAAAAAAAAAAAAAAAAAAAAAAAAAAAAAAAAAAAAAAAAAAAAAAAAAAAAAAAAAAAAAAAAAAAAAAAAAAAAAAAAAAAAAAAAAAAAAAAAAAAAAAAAAAAAAAAAAAAAAAAAAAAAAAAAAAAAAAAAAAAAAAAAAAAAAAAAAAAAAAAAAAAAAAAAAAAAAAAAAAAAAAAAAAAAAAAAAAAAAAAAAAAAAAAAAAAAAAAAAAAAAAAAAAAAAAAAAAAAAAAAAAAAAAAAAAAAAAAAAAAAAAAAAAAAAAAAAAAAAAAAAAAAAAAAAAAAAAAAAAAAAAAAAAAAAAAAAAAAAAAAAAAAAAAAAAAAAAAAAAAAAAAAAAAAAAAAAAAAAAAAAAAAAAAAAAAAAAAAAAAAAAAAAAAAAAAAAAAAAAAAAAAAAAAAAAAAAAAAAAAAAAAAAAAAAAAAAAAAAAAAAAAAAAAAAAAAAAAAAAAAAAAAAAAAAAAAAAAAAAAAAAAAAAAAAAAAAAAAAAAAAAAAAAAAAAAAAAAAAAAAAAAAAAAAAAAAAAAAAAAAAAAAAAAAAAAAAAAAAAAAAAAAAAAAAAAAAAAAAAAAAAAAAAAAAAAAAAAAAAAAAAAAAAAAAAAAAAAAAAAAAAAAAAAAAAAAAAAAAAAAAAAAAAAAAAAAAAAAAAAAAAAAAAAAAAAAAAAAAAAAAAAAAAAAAAAAAAAAAAAAAAAAAAAAAAAAAAAAAAAAAAAAAAAAAAAAAAAAAAAAAAAAAAAAAAAAAAAAAAAAAAAAAAAAAAAAAAAAAAAAAAAAAAAAAAAAAAAAAAAAAAAAAAAAAAAAAAAAAAAAAAAAAAAAAAAAAAAAAAAAAAAAAAAAAAAAAAAAAAAAAAAAAAAAAAAAAAAAAAAAAAAAAAAAAAAAAAAAAAAAAAAAAAAAAAAAAAAAAAAAAAAAAAAAAAAAAAAAAAAAAAAAAAAAAAAAAAAAAAAAAAAAAAAAAAAAAAAAAAAAAAAAAAAAAAAAAAAAAAAAAAAAAAAAAAAAAAAAAAAAAAAAAAAAAAAAAAAAAAAAAAAAAAAAAAAAAAAAAAAAAAAAAAAAAAAAAAAAAAAAAAAAAAAAAAAAAAAAAAAAAAAAAAAAAAAAAAAAAAAAAAAAAAAAAAAAAAAAAAAAAAAAAAAAAAAAAAAAAAAAAAAAAAAAAAAAAAAAAAAAAAAAAAAAAAAAAAAAAAAAAAAAAAAAAAAAAAAAAAAAAAAAAAAAAAAAAAAAAAAAAAAAAAAAAAAAAAAAAAAAAAAAAAAAAAAAAAAAAAAAAAAAAAAAAAAAAAAAAAAAAAAAAAAAAAAAAAAAAAAAAAAAAAAAAAAAAAAAAAAAAAAAAAAAAAAAAAAAAAAAAAAAAAAAAAAAAAAAAAAAAAAAAAAAAAAAAAAAAAAAAAAAAAAAAAAAAAAAAAAAAAAAAAAAAAAAAAAAAAAAAAAAAAAAAAAAAAAAAAAAAAAAAAAAAAAAAAAAAAAAAAAAAAAAAAAAABW0MniNGuGP1bQyeI0a5Y/QVwXqmfQoD9W0MniNGumP2xEfBsCBqw/QVwXqmfQsD9LlnBGzp2zP1bQyeI0a7Y/YQojf5s4uT9sRHwbAga8P3d+1bdo074/QVwXqmfQwD9G+UP4GjfCP0uWcEbOncM/UTOdlIEExT9W0MniNGvGP1xt9jDo0cc/YQojf5s4yT9mp0/NTp/KP2xEfBsCBsw/ceGoabVszT93ftW3aNPOPwAAAAAAANA/AAAAAAAA0D8AAAAAAADQPwAAAAAAANA/AAAAAAAA0D8AAAAAAADQPwAAAAAAANA/AAAAAAAA0D8AAAAAAADQPwAAAAAAANA/AAAAAAAA0D/////////PPwAAAAAAANA/////////zz8AAAAAAADQPwAAAAAAANA/AAAAAAAA0D8AAAAAAADQPwAAAAAAANA/AAAAAAAA0D8AAAAAAADQPwAAAAAAANA/AAAAAAAA0D/////////PPwAAAAAAANA/AAAAAAAA0D8AAAAAAADQPwAAAAAAANA/////////zz8AAAAAAADQPwAAAAAAANA/AAAAAAAA0D8AAAAAAADQPwAAAAAAANA/AAAAAAAA0D8AAAAAAADQPwAAAAAAANA/AAAAAAAA0D8AAAAAAADQPwAAAAAAANA/AAAAAAAA0D8AAAAAAADQPwAAAAAAANA/AAAAAAAA0D8AAAAAAADQPwAAAAAAANA/AAAAAAAA0D8AAAAAAADQPwAAAAAAANA/AAAAAAAA0D8AAAAAAADQPwAAAAAAANA/AAAAAAAA0D8AAAAAAADQPwAAAAAAANA/AAAAAAAA0D8AAAAAAADQP////////88/////////zz8AAAAAAADQPwAAAAAAANA/AAAAAAAA0D8AAAAAAADQP////////88/////////zz8AAAAAAADQPwAAAAAAANA/AAAAAAAA0D8AAAAAAADQPwAAAAAAANA/AAAAAAAA0D8AAAAAAADQPwAAAAAAANA/AAAAAAAA0D8AAAAAAADQPwAAAAAAANA/////////zz/////////PP////////88/AAAAAAAA0D8AAAAAAADQPwAAAAAAANA/AAAAAAAA0D8AAAAAAADQPwAAAAAAANA/AAAAAAAA0D8AAAAAAADQPwAAAAAAANA/AAAAAAAA0D8AAAAAAADQPwAAAAAAANA/AAAAAAAA0D8AAAAAAADQPwAAAAAAANA/AAAAAAAA0D8AAAAAAADQPwAAAAAAANA/AAAAAAAA0D8AAAAAAADQPwAAAAAAANA/AAAAAAAA0D8AAAAAAADQP////////88/AAAAAAAA0D8AAAAAAADQPwAAAAAAANA/AAAAAAAA0D8AAAAAAADQPwAAAAAAANA/AAAAAAAA0D8AAAAAAADQPwAAAAAAANA/AAAAAAAA0D8AAAAAAADQPwAAAAAAANA/AAAAAAAA0D8AAAAAAADQPwAAAAAAANA/AAAAAAAA0D8AAAAAAADQPwAAAAAAANA/AAAAAAAA0D8AAAAAAADQPwAAAAAAANA/AAAAAAAA0D+IsIs/1+zRPw9hF3+u2dM/lhGjvoXG1T8ewi7+XLPXP6Zyuj00oNk/LSNGfQuN2z+009G84nndPzyEXfy5Zt8/bJaVec+M3z9CHlx0oOXePxmmIm9xPt4/7y3paUKX3T/Fta9kE/DcP5w9dl/kSNw/csU8WrWh2z9ITQNVhvraPx7VyU9XU9o/9FyQSiis2T/K5FZF+QTZP6BsHUDKXdg/d/TjOpu21z9NfKo1bA/XPyMEcTA9aNY/+os3Kw7B1T/QE/4l3xnVP6abxCCwctQ/fCOLG4HL0z9Sq1EWUiTTPygzGBEjfdI//7reC/TV0T/VQqUGxS7RP6vKawGWh9A/AAAAAAAA0D8AAAAAAADQPwAAAAAAANA/AAAAAAAA0D8AAAAAAADQPwAAAAAAANA/AAAAAAAA0D8AAAAAAADQPwAAAAAAANA/AAAAAAAA0D8AAAAAAADQPwAAAAAAANA/AAAAAAAA0D8AAAAAAADQPwAAAAAAANA/AAAAAAAA0D8AAAAAAADQPwAAAAAAANA/AAAAAAAA0D8AAAAAAADQPwAAAAAAANA/AAAAAAAA0D8AAAAAAADQPwAAAAAAANA/AAAAAAAA0D9pUW0uznvQP65qz3F+L9E/84MxtS7j0T83nZP43pbSP3y29TuPStM/wc9Xfz/+0z8G6bnC77HUP0oCHAagZdU/jxt+SVAZ1j/UNOCMAM3WPxlOQtCwgNc/XWekE2E02D+igAZXEejYP+eZaJrBm9k/LLPK3XFP2j9wzCwhIgPbP7bljmTStts/+v7wp4Jq3D8/GFPrMh7dP4QxtS7j0d0/yEoXcpOF3j8OZHm1QznfP1J92/jz7N8/AAAAAAAA4D8AAAAAAADgPwAAAAAAAOA/AAAAAAAA4D8AAAAAAADgPwAAAAAAAOA/AAAAAAAA4D8AAAAAAADgPwAAAAAAAOA/AAAAAAAA4D8AAAAAAADgPwAAAAAAAOA/AAAAAAAA4D8AAAAAAADgPwAAAAAAAOA/AAAAAAAA4D8AAAAAAADgPwAAAAAAAOA/AAAAAAAA4D8AAAAAAADgPwAAAAAAAOA/AAAAAAAA4D8AAAAAAADgPwAAAAAAAOA/AAAAAAAA4D8AAAAAAADgPwAAAAAAAOA/AAAAAAAA4D8AAAAAAADgPwAAAAAAAOA/AAAAAAAA4D8AAAAAAADgPwAAAAAAAOA/AAAAAAAA4D8AAAAAAADgPwAAAAAAAOA/AAAAAAAA4D8AAAAAAADgPwAAAAAAAOA/AAAAAAAA4D8AAAAAAADgPwAAAAAAAOA/Q7CONu9T4D/JEKyjzfvgP1BxyRCso+E/1tHmfYpL4j9cMgTraPPiP+OSIVhHm+M/afM+xSVD5D/vU1wyBOvkP3a0eZ/ikuU//BSXDME65j+CdbR5n+LmPwjW0eZ9iuc/AAAAAAAA6D8AAAAAAADoPwAAAAAAAOg/AAAAAAAA6D8AAAAAAADoPwAAAAAAAOg/AAAAAAAA6D8AAAAAAADoPwAAAAAAAOg/AAAAAAAA6D8AAAAAAADoPwAAAAAAAOg/AAAAAAAA6D8AAAAAAADoPwAAAAAAAOg/AAAAAAAA6D8AAAAAAADoPwAAAAAAAOg/AAAAAAAA6D8AAAAAAADoPwAAAAAAAOg/AAAAAAAA6D9w0YGWy73nP1wV5RM0auc/R1lIkZwW5z8ynasOBcPmPx3hDoxtb+Y/CCVyCdYb5j/zaNWGPsjlP96sOASndOU/yfCbgQ8h5T+0NP/+d83kP6B4YnzgeeQ/irzF+Ugm5D92ACl3sdLjP2FEjPQZf+M/TIjvcYIr4z83zFLv6tfiPyIQtmxThOI/DVQZ6rsw4j/4l3xnJN3hP+Tb3+SMieE/zh9DYvU14T+6Y6bfXeLgP6SnCV3GjuA/kOts2i474D8AAAAAAADgPwAAAAAAAOA/AAAAAAAA4D8AAAAAAADgPwAAAAAAAOA/AAAAAAAA4D8AAAAAAADgPwAAAAAAAOA/AAAAAAAA4D8AAAAAAADgPwAAAAAAAOA/AAAAAAAA4D8AAAAAAADgPwAAAAAAAOA/AAAAAAAA4D8AAAAAAADgP8gxwCfgXOA/kGOAT8C54D9YlUB3oBbhPyDHAJ+Ac+E/6PjAxmDQ4T+wKoHuQC3iP3hcQRYhiuI/QI4BPgHn4j8IwMFl4UPjP9DxgY3BoOM/mCNCtaH94z9gVQLdgVrkPyiHwgRit+Q/8LiCLEIU5T+46kJUInHlP4AcA3wCzuU/SE7Do+Iq5j8QgIPLwofmP9ixQ/Oi5OY/oOMDG4NB5z9oFcRCY57nPzBHhGpD++c/AAAAAAAA6D8AAAAAAADoPwAAAAAAAOg/AAAAAAAA6D8AAAAAAADoPwAAAAAAAOg/AAAAAAAA6D8AAAAAAADoPwAAAAAAAOg/AAAAAAAA6D8AAAAAAADoPyAOePzhgOg/MaTzFkM66j9DOm8xpPPrP1XQ6ksFre0/ZmZmZmZm7z8AAAAAAADwPwAAAAAAAPA/AAAAAAAA8D8AAAAAAADwPwAAAAAAAPA/AAAAAAAA8D8AAAAAAADwPwAAAAAAAPA/AAAAAAAA8D8AAAAAAADwPwAAAAAAAPA/AAAAAAAA8D8AAAAAAADwPwAAAAAAAPA/AAAAAAAA8D8AAAAAAADwPwAAAAAAAPA/AAAAAAAA8D8AAAAAAADwPwAAAAAAAPA/AAAAAAAA8D8AAAAAAADwP6pdW446w+8/laG+C6Nv7z+A5SGJCxzvP2sphQZ0yO4/Vm3og9x07j9CsUsBRSHuPy31rn6tze0/GDkS/BV67T8DfXV5fibtP+7A2Pbm0uw/2QQ8dE9/7D/ESJ/xtyvsP7CMAm8g2Os/mtBl7IiE6z+GFMlp8TDrP3BYLOdZ3eo/XJyPZMKJ6j9H4PLhKjbqPzIkVl+T4uk/HWi53PuO6T8IrBxaZDvpP/Tvf9fM5+g/3jPjVDWU6D/Kd0bSnUDoPwAAAAAAAOg/AAAAAAAA6D8AAAAAAADoPwAAAAAAAOg/AAAAAAAA6D8AAAAAAADoPwAAAAAAAOg/AAAAAAAA6D8AAAAAAADoPwAAAAAAAOg/AAAAAAAA6D8AAAAAAADoPwAAAAAAAOg/AAAAAAAA6D8AAAAAAADoPwAAAAAAAOg/AAAAAAAA6D8AAAAAAADoPwAAAAAAAOg/AAAAAAAA6D8AAAAAAADoPwAAAAAAAOg/AAAAAAAA6D8AAAAAAADoPwAAAAAAAOg/u0D9r6X56D8=\",\"dtype\":\"float64\",\"shape\":[601]}}},\"id\":\"d99f9236-df5d-4574-b1cf-389354fa4aea\",\"type\":\"ColumnDataSource\"},{\"attributes\":{\"plot\":{\"id\":\"57e7b9eb-caca-4e13-b5fd-36804c275f89\",\"subtype\":\"Figure\",\"type\":\"Plot\"}},\"id\":\"b4108db6-af43-4e9d-8ed4-fd80ae8f7337\",\"type\":\"PanTool\"},{\"attributes\":{\"plot\":{\"id\":\"57e7b9eb-caca-4e13-b5fd-36804c275f89\",\"subtype\":\"Figure\",\"type\":\"Plot\"}},\"id\":\"ff5a38eb-586a-41e8-a97c-d5e7251d8748\",\"type\":\"WheelZoomTool\"},{\"attributes\":{\"overlay\":{\"id\":\"d5a78a89-aabc-4e32-9084-5a0bb4ada9e7\",\"type\":\"BoxAnnotation\"},\"plot\":{\"id\":\"57e7b9eb-caca-4e13-b5fd-36804c275f89\",\"subtype\":\"Figure\",\"type\":\"Plot\"}},\"id\":\"48cd32a6-87f1-4c0e-9333-f8c1363e9241\",\"type\":\"BoxZoomTool\"},{\"attributes\":{\"plot\":{\"id\":\"57e7b9eb-caca-4e13-b5fd-36804c275f89\",\"subtype\":\"Figure\",\"type\":\"Plot\"}},\"id\":\"bc61dec7-8f6b-4d21-92e9-961fd8fb3a6f\",\"type\":\"SaveTool\"},{\"attributes\":{\"plot\":{\"id\":\"57e7b9eb-caca-4e13-b5fd-36804c275f89\",\"subtype\":\"Figure\",\"type\":\"Plot\"}},\"id\":\"550f94fd-1803-4a38-a321-33940975a811\",\"type\":\"ResetTool\"},{\"attributes\":{\"line_color\":{\"value\":\"#984ea3\"},\"line_width\":{\"value\":2},\"x\":{\"field\":\"x\"},\"y\":{\"field\":\"y\"}},\"id\":\"6f11acaf-c1d1-47c3-a5e4-2966e509dc64\",\"type\":\"Line\"},{\"attributes\":{\"plot\":{\"id\":\"57e7b9eb-caca-4e13-b5fd-36804c275f89\",\"subtype\":\"Figure\",\"type\":\"Plot\"}},\"id\":\"29ab437c-103c-49f5-8938-fa88a67def4b\",\"type\":\"HelpTool\"},{\"attributes\":{\"line_alpha\":{\"value\":0.1},\"line_color\":{\"value\":\"#1f77b4\"},\"line_width\":{\"value\":2},\"x\":{\"field\":\"x\"},\"y\":{\"field\":\"y\"}},\"id\":\"08c4963b-f396-4191-a610-a1e3904eb2de\",\"type\":\"Line\"},{\"attributes\":{\"items\":[{\"id\":\"d8e5f977-c531-4a4b-bf0d-439ee198595f\",\"type\":\"LegendItem\"},{\"id\":\"ad3ab1b7-706f-448d-be25-62d11b5d9b5d\",\"type\":\"LegendItem\"},{\"id\":\"bafea302-d3b6-4546-9493-30698582e3ba\",\"type\":\"LegendItem\"},{\"id\":\"64fea650-28e1-49ec-a276-78cd43f0e675\",\"type\":\"LegendItem\"}],\"location\":[0,-30],\"plot\":{\"id\":\"57e7b9eb-caca-4e13-b5fd-36804c275f89\",\"subtype\":\"Figure\",\"type\":\"Plot\"}},\"id\":\"2b4ed117-16ea-44ae-8979-d314483308b9\",\"type\":\"Legend\"},{\"attributes\":{\"data_source\":{\"id\":\"d99f9236-df5d-4574-b1cf-389354fa4aea\",\"type\":\"ColumnDataSource\"},\"glyph\":{\"id\":\"7cb83a50-2629-4a02-a717-78cc887b8d1c\",\"type\":\"Line\"},\"hover_glyph\":null,\"nonselection_glyph\":{\"id\":\"28eb1eee-943a-40c7-b087-a5775297ea97\",\"type\":\"Line\"},\"selection_glyph\":null},\"id\":\"e8866ab8-eede-402b-badb-ba99f3f744ac\",\"type\":\"GlyphRenderer\"},{\"attributes\":{\"line_alpha\":{\"value\":0.1},\"line_color\":{\"value\":\"#1f77b4\"},\"line_width\":{\"value\":2},\"x\":{\"field\":\"x\"},\"y\":{\"field\":\"y\"}},\"id\":\"28eb1eee-943a-40c7-b087-a5775297ea97\",\"type\":\"Line\"},{\"attributes\":{\"line_alpha\":{\"value\":0.1},\"line_color\":{\"value\":\"#1f77b4\"},\"line_width\":{\"value\":2},\"x\":{\"field\":\"x\"},\"y\":{\"field\":\"y\"}},\"id\":\"1b081404-c1a9-4654-8c30-5b97b9383f10\",\"type\":\"Line\"},{\"attributes\":{\"line_alpha\":{\"value\":0.1},\"line_color\":{\"value\":\"#1f77b4\"},\"line_width\":{\"value\":2},\"x\":{\"field\":\"x\"},\"y\":{\"field\":\"y\"}},\"id\":\"ee2068a3-7a9b-43a0-8809-5a3236c6f50f\",\"type\":\"Line\"},{\"attributes\":{\"data_source\":{\"id\":\"6e09f703-ff15-46f0-9340-805f25e13345\",\"type\":\"ColumnDataSource\"},\"glyph\":{\"id\":\"8e44e6d5-ff52-41c6-91a6-55e10cc888cd\",\"type\":\"Line\"},\"hover_glyph\":null,\"nonselection_glyph\":{\"id\":\"1b081404-c1a9-4654-8c30-5b97b9383f10\",\"type\":\"Line\"},\"selection_glyph\":null},\"id\":\"00b53452-51a0-4470-a3ee-d75cf7ec75ac\",\"type\":\"GlyphRenderer\"},{\"attributes\":{\"label\":{\"value\":\"0.5 Alpha 8 NScaler 0.1 Bandit\"},\"renderers\":[{\"id\":\"e8866ab8-eede-402b-badb-ba99f3f744ac\",\"type\":\"GlyphRenderer\"}]},\"id\":\"ad3ab1b7-706f-448d-be25-62d11b5d9b5d\",\"type\":\"LegendItem\"},{\"attributes\":{\"line_color\":{\"value\":\"#e41a1c\"},\"line_width\":{\"value\":2},\"x\":{\"field\":\"x\"},\"y\":{\"field\":\"y\"}},\"id\":\"8e44e6d5-ff52-41c6-91a6-55e10cc888cd\",\"type\":\"Line\"},{\"attributes\":{\"line_color\":{\"value\":\"#377eb8\"},\"line_width\":{\"value\":2},\"x\":{\"field\":\"x\"},\"y\":{\"field\":\"y\"}},\"id\":\"7cb83a50-2629-4a02-a717-78cc887b8d1c\",\"type\":\"Line\"},{\"attributes\":{\"data_source\":{\"id\":\"820550c5-d533-4baa-a8ed-8139ba25e61b\",\"type\":\"ColumnDataSource\"},\"glyph\":{\"id\":\"6f11acaf-c1d1-47c3-a5e4-2966e509dc64\",\"type\":\"Line\"},\"hover_glyph\":null,\"nonselection_glyph\":{\"id\":\"08c4963b-f396-4191-a610-a1e3904eb2de\",\"type\":\"Line\"},\"selection_glyph\":null},\"id\":\"f603cdc1-7a25-4524-ac73-82a39af97ea6\",\"type\":\"GlyphRenderer\"},{\"attributes\":{\"callback\":null,\"column_names\":[\"x\",\"y\"],\"data\":{\"x\":[0,1000,2000,3000,4000,5000,6000,7000,8000,9000,10000,11000,12000,13000,14000,15000,16000,17000,18000,19000,20000,21000,22000,23000,24000,25000,26000,27000,28000,29000,30000,31000,32000,33000,34000,35000,36000,37000,38000,39000,40000,41000,42000,43000,44000,45000,46000,47000,48000,49000,50000,51000,52000,53000,54000,55000,56000,57000,58000,59000,60000,61000,62000,63000,64000,65000,66000,67000,68000,69000,70000,71000,72000,73000,74000,75000,76000,77000,78000,79000,80000,81000,82000,83000,84000,85000,86000,87000,88000,89000,90000,91000,92000,93000,94000,95000,96000,97000,98000,99000,100000,101000,102000,103000,104000,105000,106000,107000,108000,109000,110000,111000,112000,113000,114000,115000,116000,117000,118000,119000,120000,121000,122000,123000,124000,125000,126000,127000,128000,129000,130000,131000,132000,133000,134000,135000,136000,137000,138000,139000,140000,141000,142000,143000,144000,145000,146000,147000,148000,149000,150000,151000,152000,153000,154000,155000,156000,157000,158000,159000,160000,161000,162000,163000,164000,165000,166000,167000,168000,169000,170000,171000,172000,173000,174000,175000,176000,177000,178000,179000,180000,181000,182000,183000,184000,185000,186000,187000,188000,189000,190000,191000,192000,193000,194000,195000,196000,197000,198000,199000,200000,201000,202000,203000,204000,205000,206000,207000,208000,209000,210000,211000,212000,213000,214000,215000,216000,217000,218000,219000,220000,221000,222000,223000,224000,225000,226000,227000,228000,229000,230000,231000,232000,233000,234000,235000,236000,237000,238000,239000,240000,241000,242000,243000,244000,245000,246000,247000,248000,249000,250000,251000,252000,253000,254000,255000,256000,257000,258000,259000,260000,261000,262000,263000,264000,265000,266000,267000,268000,269000,270000,271000,272000,273000,274000,275000,276000,277000,278000,279000,280000,281000,282000,283000,284000,285000,286000,287000,288000,289000,290000,291000,292000,293000,294000,295000,296000,297000,298000,299000,300000,301000,302000,303000,304000,305000,306000,307000,308000,309000,310000,311000,312000,313000,314000,315000,316000,317000,318000,319000,320000,321000,322000,323000,324000,325000,326000,327000,328000,329000,330000,331000,332000,333000,334000,335000,336000,337000,338000,339000,340000,341000,342000,343000,344000,345000,346000,347000,348000,349000,350000,351000,352000,353000,354000,355000,356000,357000,358000,359000,360000,361000,362000,363000,364000,365000,366000,367000,368000,369000,370000,371000,372000,373000,374000,375000,376000,377000,378000,379000,380000,381000,382000,383000,384000,385000,386000,387000,388000,389000,390000,391000,392000,393000,394000,395000,396000,397000,398000,399000,400000,401000,402000,403000,404000,405000,406000,407000,408000,409000,410000,411000,412000,413000,414000,415000,416000,417000,418000,419000,420000,421000,422000,423000,424000,425000,426000,427000,428000,429000,430000,431000,432000,433000,434000,435000,436000,437000,438000,439000,440000,441000,442000,443000,444000,445000,446000,447000,448000,449000,450000,451000,452000,453000,454000,455000,456000,457000,458000,459000,460000,461000,462000,463000,464000,465000,466000,467000,468000,469000,470000,471000,472000,473000,474000,475000,476000,477000,478000,479000,480000,481000,482000,483000,484000,485000,486000,487000,488000,489000,490000,491000,492000,493000,494000,495000,496000,497000,498000,499000,500000,501000,502000,503000,504000,505000,506000,507000,508000,509000,510000,511000,512000,513000,514000,515000,516000,517000,518000,519000,520000,521000,522000,523000,524000,525000,526000,527000,528000,529000,530000,531000,532000,533000,534000,535000,536000,537000,538000,539000,540000,541000,542000,543000,544000,545000,546000,547000,548000,549000,550000,551000,552000,553000,554000,555000,556000,557000,558000,559000,560000,561000,562000,563000,564000,565000,566000,567000,568000,569000,570000,571000,572000,573000,574000,575000,576000,577000,578000,579000,580000,581000,582000,583000,584000,585000,586000,587000,588000,589000,590000,591000,592000,593000,594000,595000,596000,597000,598000,599000,600000],\"y\":{\"__ndarray__\":\"AAAAAAAAAAAAAAAAAAAAAAAAAAAAAAAAAAAAAAAAAAAAAAAAAAAAAAAAAAAAAAAAAAAAAAAAAAAAAAAAAAAAAAAAAAAAAAAAAAAAAAAAAAAAAAAAAAAAAAAAAAAAAAAAAAAAAAAAAAAAAAAAAAAAAAAAAAAAAAAAAAAAAAAAAAAAAAAAAAAAAAAAAAAAAAAAAAAAAAAAAAAAAAAAAAAAAAAAAAAAAAAAAAAAAAAAAAAAAAAAAAAAAAAAAAAAAAAAAAAAAAAAAAAAAAAAAAAAAAAAAAAAAAAAAAAAAAAAAAAAAAAAAAAAAAAAAAAAAAAAAAAAAAAAAAAAAAAAAAAAAAAAAAAAAAAAAAAAAAAAAAAAAAAAAAAAAAAAAAAAAAAAAAAAAAAAAAAAAAAAAAAAAAAAAAAAAAAAAAAAAAAAAAAAAAAAAAAAAAAAAAAAAAAAAAAAAAAAAAAAAAAAAAAAAAAAAAAAAAAAAAAAAAAAAAAAAAAAAAAAAAAAAAAAAAAAAAAAAAAAAAAAAAAAAAAAAAAAAAAAAAAAAAAAAAAAAAAAAAAAAAAAAAAAAAAAAAAAAAAAAAAAAAAAAAAAAAAAAAAAAAAAAAAAAAAAAAAAAAAAAAAAAAAAAAAAAAAAAAAAAAAAAAAAAAAAAAAAAAAAAAAAAAAAAAAAAAAAAAAAAAAAAAAAAAAAAAAAAAAAAAAAAAAAAAAAAAAAAAAAAAAAAAAAAAAAAAAAAAAAAAAAAAAAAAAAAAAAAAAAAAAAAAAAAAAAAAAAAAAAAAAAAAAAAAAAAAAAAAAAAAAAAAAAAAAAAAAAAAAAAAAAAAAAAAAAAAAAAAAAAAAAAAAAAAAAAAAAAAAAAAAAAAAAAAAAAAAAAAAAAAAAAAAAAAAAAAAAAAAAAAAAAAAAAAAAAAAAAAAAAAAAAAAAAAAAAAAAAAAAAAAAAAAAAAAAAAAAAAAAAAAAAAAAAAAAAAAAAAAAAAAAAAAAAAAAAAAAAAAAAAAAAAAAAAAAAAAAAAAAAAAAAAAAAAAAAAAAAAAAAAAAAAAAAAAAAAAAAAAAAAAAAAAAAAAAAAAAAAAAAAAAAAAAAAAAAAAAAAAAAAAAAAAAAAAAAAAAAAAAAAAAAAAAAAAAAAAAAAAAAAAAAAAAAAAAAAAAAAAAAAAAAAAAAAAAAAAAAAAAAAAAAAAAAAAAAAAAAAAAAAAAAAAAAAAAAAAAAAAAAAAAAAAAAAAAAAAAAAAAAAAAAAAAAAAAAAAAAAAAAAAAAAAAAAAAAAAAAAAAAAAAAAAAAAAAAAAAAAAAAAAAAAAAAAAAAAAAAAAAAAAAAAAAAAAAAAAAAAAAAAAAAAAAAAAAAAAAAAAAAAAAAAAAAAAAAAAAAAAAAAAAAAAAAAAAAAAAAAAAAAAAAAAAAAAAAAAAAAAAAAAAAAAAAAAAAAAAAAAAAAAAAAAAAAAAAAAAAAAAAAAAAAAAAAAAAAAAAAAAAAAAAAAAAAAAAAAAAAAAAAAAAAAAAAAAAAAAAAAAAAAAAAAAAAAAAAAAAAAAAAAAAAAAAAAAAAAAAAAAAAAAAAAAAAAAAAAAAAAAAAAAAAAAAAAAAAAAAAAAAAAAAAAAAAAAAAAAAAAAAAAAAAAAAAAAAAAAAAAAAAAAAAAAAAAAAAAAAAAAAAAAAAAAAAAAAAAAAAAAAAAAAAAAAAAAAAAAAAAAAAAAAAAAAAAAAAAAAAAAAAAAAAAAAAAAAAAAAAAAAAAAAAAAAAAAAAAAAAAAAAAAAAAAAAAAAAAAAAAAAAAAAAAAAAAAAAAAAAAAAAAAAAAAAAAAAAAAAAAAAAAAAAAAAAAAAABxXZ6uPat2PxXG9kJuAJE/zfRFGg1WnD/Dkcr41dWjPx8pcmSlgKk/e8AZ0HQrrz/sq+AdImuyP5p3tNOJQLU/SEOIifEVuD/2Dlw/Weu6P6TaL/XAwL0/KdOBVRRLwD8AuWswyLXBP9eeVQt8IMM/roQ/5i+LxD+FainB4/XFP1xQE5yXYMc/NDb9dkvLyD8LHOdR/zXKP+IB0SyzoMs/uee6B2cLzT+QzaTiGnbOP2ezjr3O4M8/AAAAAAAA0D8AAAAAAADQPwAAAAAAANA/AAAAAAAA0D8AAAAAAADQPwAAAAAAANA/AAAAAAAA0D8AAAAAAADQPwAAAAAAANA/////////zz8AAAAAAADQPwAAAAAAANA/////////zz8AAAAAAADQPwAAAAAAANA/AAAAAAAA0D8AAAAAAADQPwAAAAAAANA/AAAAAAAA0D8AAAAAAADQPwAAAAAAANA/////////zz8AAAAAAADQPwAAAAAAANA/////////zz8AAAAAAADQPwAAAAAAANA/////////zz8AAAAAAADQPwAAAAAAANA/////////zz8AAAAAAADQP////////88/AAAAAAAA0D8AAAAAAADQP////////88/AAAAAAAA0D8AAAAAAADQPwAAAAAAANA/AAAAAAAA0D8AAAAAAADQPwAAAAAAANA/AAAAAAAA0D8AAAAAAADQPwAAAAAAANA/AAAAAAAA0D8AAAAAAADQPwAAAAAAANA/////////zz8AAAAAAADQPwAAAAAAANA/AAAAAAAA0D8AAAAAAADQPwAAAAAAANA/AAAAAAAA0D8AAAAAAADQPwAAAAAAANA/AAAAAAAA0D8AAAAAAADQPwAAAAAAANA/AAAAAAAA0D8AAAAAAADQPwAAAAAAANA/AAAAAAAA0D8AAAAAAADQPwAAAAAAANA/AAAAAAAA0D8AAAAAAADQPwAAAAAAANA/AAAAAAAA0D8AAAAAAADQPwAAAAAAANA/AAAAAAAA0D8AAAAAAADQPwAAAAAAANA/akCbBrRp0D89wdETHD3RPxBCCCGEENI/5MI+Luzj0j+3Q3U7VLfTP4vEq0i8itQ/XkXiVSRe1T8yxhhjjDHWPwVHT3D0BNc/2MeFfVzY1z+sSLyKxKvYP3/J8pcsf9k/UkoppZRS2j8my1+y/CXbP/pLlr9k+ds/zczMzMzM3D+gTQPaNKDdP3TOOeecc94/R09w9ARH3z8AAAAAAADgPwAAAAAAAOA/AAAAAAAA4D8AAAAAAADgPwAAAAAAAOA/AAAAAAAA4D8AAAAAAADgPwAAAAAAAOA/AAAAAAAA4D8AAAAAAADgPwAAAAAAAOA/AAAAAAAA4D8AAAAAAADgPwAAAAAAAOA/AAAAAAAA4D8AAAAAAADgPwAAAAAAAOA/AAAAAAAA4D8AAAAAAADgPwAAAAAAAOA/AAAAAAAA4D8AAAAAAADgPwAAAAAAAOA/AAAAAAAA4D8AAAAAAADgPwAAAAAAAOA/AAAAAAAA4D8AAAAAAADgPwAAAAAAAOA/AAAAAAAA4D8AAAAAAADgPwAAAAAAAOA/AAAAAAAA4D8AAAAAAADgPwAAAAAAAOA/AAAAAAAA4D8AAAAAAADgPwAAAAAAAOA/AAAAAAAA4D8AAAAAAADgPwAAAAAAAOA/AAAAAAAA4D8AAAAAAADgPwAAAAAAAOA/AAAAAAAA4D8AAAAAAADgPwAAAAAAAOA/AAAAAAAA4D8AAAAAAADgPwAAAAAAAOA/AAAAAAAA4D8AAAAAAADgPwAAAAAAAOA/AAAAAAAA4D8AAAAAAADgPwAAAAAAAOA/AAAAAAAA4D8AAAAAAADgPwAAAAAAAOA/AAAAAAAA4D8AAAAAAADgPwAAAAAAAOA/AAAAAAAA4D8AAAAAAADgPwAAAAAAAOA/AAAAAAAA4D8AAAAAAADgPwAAAAAAAOA/AAAAAAAA4D8AAAAAAADgPwAAAAAAAOA/AAAAAAAA4D8AAAAAAADgPwAAAAAAAOA/AAAAAAAA4D8AAAAAAADgPwAAAAAAAOA/AAAAAAAA4D8AAAAAAADgPwAAAAAAAOA/AAAAAAAA4D8AAAAAAADgPwAAAAAAAOA/bKLateWo3z9CKqGwtgHfPxiyZ6uHWt4/7jkupliz3T/EwfSgKQzdP5pJu5v6ZNw/cNGBlsu92z9GWUiRnBbbPx3hDoxtb9o/Q859dgGx2T/w3Qpso2LYP5ztl2FFFNc/Sf0kV+fF1T/1DLJMiXfUP6EcP0IrKdM/TizMN83a0T/6O1ktb4zQP06XzEUifM4/prbmMGbfyz//1QAcqkLJP1j1GgfupcY/A0HVeiWcxT+wjI/uXJLEP1vYSWKUiMM/rJyrCWuawj9NlkNi9rPGP++P27qBzco/kIlzEw3nzj+ZwQU2TIDRP2m+UeIRjdM/OrudjteZ1T8KuOk6nabXP9u0Nedis9k/ekVbEoYH2j8Uwixfdu3ZPxRgQx7BD9o/FP5Z3Qsy2j8UnHCcVlTaPxQ6h1uhdto/E9idGuyY2j8TdrTZNrvaP6pCOX6EVto/gMr/eFWv2T9WUsZzJgjZPyzajG73YNg/A2JTaci51z/Z6RlkmRLXP69x4F5qa9Y/hvmmWTvE1T9cgW1UDB3VPzIJNE/dddQ/CJH6Sa7O0z/eGMFEfyfTP7Sghz9QgNI/iihOOiHZ0T9gsBQ18jHRPzc42y/DitA/vhAeJZsk0D8cV9y62ELRPzjiPrFTGNQ/VG2hp87t1j9w+AOeScPZP42DZpTEmNw/qA7Jij9u3z/izJVA3SHhP3ASx7uajOI/8yz2Sknb4z8EMeV780bkPxQ11KydsuQ/JDnD3Uce5T95xqnGxHvmP85TkK9B2ec/IuF2mL426T92bl2BO5TqP8r7Q2q48es/HokqUzVP7T+ePiDnY5DuP80LexyfLu8/mgUi2nFM7z+FSYVX2vjuP3CN6NRCpe4/W9FLUqtR7j9GFa/PE/7tPzFZEk18qu0/HJ11yuRW7T8I4dhHTQPtP/IkPMW1r+w/3mifQh5c7D/JrALAhgjsP7TwZT3vtOs/nzTJuldh6z+KeCw4wA3rP3W8j7Uouuo/YADzMpFm6j9LRFaw+RLqPzaIuS1iv+k/Iswcq8pr6T8NEIAoMxjpP/hT46WbxOg/45dGIwRx6D/O26mgbB3oP0yoGwvppug/p7jX7Hyo6T8CyZPOEKrqP13ZT7Ckq+s/uOkLkjit7D8U+sdzzK7tP28KhFVgsO4/yhpAN/Sx7z8AAAAAAADwPwAAAAAAAPA/AAAAAAAA8D8AAAAAAADwPwAAAAAAAPA/AAAAAAAA8D8AAAAAAADwPwAAAAAAAPA/AAAAAAAA8D8AAAAAAADwPwAAAAAAAPA/AAAAAAAA8D8AAAAAAADwPwAAAAAAAPA/AAAAAAAA8D8AAAAAAADwPwAAAAAAAPA/AAAAAAAA8D8AAAAAAADwPwAAAAAAAPA/AAAAAAAA8D8AAAAAAADwP58Zp6qh9O8/il0KKAqh7z91oW2lck3vP2Dl0CLb+e4/Syk0oEOm7j82bZcdrFLuPyKx+poU/+0/hS5jRySM7T9btilC9eTsPzE+8DzGPew/CMa2N5eW6z/dTX0yaO/qP7TVQy05SOo/il0KKAqh6T9g5dAi2/noPzZtlx2sUug/DfVdGH2r5z/jfCQTTgTnP7kE6w0fXeY/j4yxCPC15T9lFHgDwQ7lPzycPv6RZ+Q/EiQF+WLA4z/oq8vzMxnjP74zku4EcuI/3IzDnzZD4j/KI+ONTVniP7m6Anxkb+I/qFEianuF4j+V6EFYkpviP4R/YUapseI/chaBNMDH4j+PEQkoNXHjP0WtDYq3L+Q//EgS7Dnu5D+x5BZOvKzlP2aAG7A+a+Y/HBwgEsEp5z/TtyR0Q+jnP+FXIbFTneg/gjeJkD4I6T8iF/FvKXPpP8T2WE8U3uk/ZdbALv9I6j/r/2oQwZjqP4mMFn/9meo/JhnC7Tmb6j/EpW1cdpzqP2IyGcuyneo/AL/EOe+e6j+dS3CoK6DqPzvYGxdooeo/2GTHhaSi6j928XL04KPqPxR+HmMdpeo/sgrK0Vmm6j/1ho8ufmnqP+DK8qvmFeo/zA5WKU/C6T+3Urmmt27pP6KWHCQgG+k/jdp/oYjH6D94HuMe8XPoP2NiRpxZIOg/J6JgcLJb6D82cP3KSPHoP0Q+miXfhuk/Ugw3gHUc6j9h2tPaC7LqP3CocDWiR+s/fnYNkDjd6z+MRKrqznLsP5sSR0VlCO0/qeDjn/ud7T+4roD6kTPuP8Z8HVUoye4/1Uq6r75e7z/jGFcKVfTvP/24zqbtsu8/6PwxJFZf7z/vBfrq8vzuP8aNwOXDVe4/nBWH4JSu7T9ynU3bZQftP0glFNY2YOw/Hq3a0Ae56z/1NKHL2BHrP8u8Z8apauo/oUQuwXrD6T93zPS7SxzpP01Uu7Ycdeg/JNyBse3N5z/6Y0isvibnP9DrDqePf+Y/pnPVoWDY5T98+5ucMTHlP1KDYpcCiuQ/KQspktPi4z8=\",\"dtype\":\"float64\",\"shape\":[601]}}},\"id\":\"ee8e0281-23d7-4938-99dd-69fd3dfbe226\",\"type\":\"ColumnDataSource\"}],\"root_ids\":[\"57e7b9eb-caca-4e13-b5fd-36804c275f89\"]},\"title\":\"Bokeh Application\",\"version\":\"0.12.4\"}};\n",
       "            var render_items = [{\"docid\":\"a58866f8-59af-48e7-9309-fbc25fd2599f\",\"elementid\":\"2a7c5a88-1d21-43f9-b631-e3d2934ca783\",\"modelid\":\"57e7b9eb-caca-4e13-b5fd-36804c275f89\"}];\n",
       "            \n",
       "            Bokeh.embed.embed_items(docs_json, render_items);\n",
       "          };\n",
       "          if (document.readyState != \"loading\") fn();\n",
       "          else document.addEventListener(\"DOMContentLoaded\", fn);\n",
       "        })();\n",
       "      },\n",
       "      function(Bokeh) {\n",
       "      }\n",
       "    ];\n",
       "  \n",
       "    function run_inline_js() {\n",
       "      \n",
       "      if ((window.Bokeh !== undefined) || (force === true)) {\n",
       "        for (var i = 0; i < inline_js.length; i++) {\n",
       "          inline_js[i](window.Bokeh);\n",
       "        }if (force === true) {\n",
       "          display_loaded();\n",
       "        }} else if (Date.now() < window._bokeh_timeout) {\n",
       "        setTimeout(run_inline_js, 100);\n",
       "      } else if (!window._bokeh_failed_load) {\n",
       "        console.log(\"Bokeh: BokehJS failed to load within specified timeout.\");\n",
       "        window._bokeh_failed_load = true;\n",
       "      } else if (force !== true) {\n",
       "        var cell = $(document.getElementById(\"2a7c5a88-1d21-43f9-b631-e3d2934ca783\")).parents('.cell').data().cell;\n",
       "        cell.output_area.append_execute_result(NB_LOAD_WARNING)\n",
       "      }\n",
       "  \n",
       "    }\n",
       "  \n",
       "    if (window._bokeh_is_loading === 0) {\n",
       "      console.log(\"Bokeh: BokehJS loaded, going straight to plotting\");\n",
       "      run_inline_js();\n",
       "    } else {\n",
       "      load_libs(js_urls, function() {\n",
       "        console.log(\"Bokeh: BokehJS plotting callback run at\", now());\n",
       "        run_inline_js();\n",
       "      });\n",
       "    }\n",
       "  }(this));\n",
       "</script>"
      ]
     },
     "metadata": {},
     "output_type": "display_data"
    },
    {
     "name": "stderr",
     "output_type": "stream",
     "text": [
      "/usr/lib/python3.6/site-packages/bokeh/models/sources.py:81: BokehUserWarning: ColumnDataSource's columns must be of the same length\n",
      "  lambda: warnings.warn(\"ColumnDataSource's columns must be of the same length\", BokehUserWarning))\n",
      "/usr/lib/python3.6/site-packages/bokeh/models/sources.py:81: BokehUserWarning: ColumnDataSource's columns must be of the same length\n",
      "  lambda: warnings.warn(\"ColumnDataSource's columns must be of the same length\", BokehUserWarning))\n",
      "/usr/lib/python3.6/site-packages/bokeh/models/sources.py:81: BokehUserWarning: ColumnDataSource's columns must be of the same length\n",
      "  lambda: warnings.warn(\"ColumnDataSource's columns must be of the same length\", BokehUserWarning))\n",
      "/usr/lib/python3.6/site-packages/bokeh/models/sources.py:81: BokehUserWarning: ColumnDataSource's columns must be of the same length\n",
      "  lambda: warnings.warn(\"ColumnDataSource's columns must be of the same length\", BokehUserWarning))\n",
      "/usr/lib/python3.6/site-packages/bokeh/models/sources.py:81: BokehUserWarning: ColumnDataSource's columns must be of the same length\n",
      "  lambda: warnings.warn(\"ColumnDataSource's columns must be of the same length\", BokehUserWarning))\n",
      "/usr/lib/python3.6/site-packages/bokeh/models/sources.py:81: BokehUserWarning: ColumnDataSource's columns must be of the same length\n",
      "  lambda: warnings.warn(\"ColumnDataSource's columns must be of the same length\", BokehUserWarning))\n",
      "/usr/lib/python3.6/site-packages/bokeh/models/sources.py:81: BokehUserWarning: ColumnDataSource's columns must be of the same length\n",
      "  lambda: warnings.warn(\"ColumnDataSource's columns must be of the same length\", BokehUserWarning))\n",
      "/usr/lib/python3.6/site-packages/bokeh/models/sources.py:81: BokehUserWarning: ColumnDataSource's columns must be of the same length\n",
      "  lambda: warnings.warn(\"ColumnDataSource's columns must be of the same length\", BokehUserWarning))\n"
     ]
    },
    {
     "data": {
      "text/html": [
       "\n",
       "\n",
       "    <div class=\"bk-root\">\n",
       "        <div class=\"bk-plotdiv\" id=\"f8b962cb-6649-409f-a8cd-3a29116ea3b2\"></div>\n",
       "    </div>\n",
       "<script type=\"text/javascript\">\n",
       "  \n",
       "  (function(global) {\n",
       "    function now() {\n",
       "      return new Date();\n",
       "    }\n",
       "  \n",
       "    var force = false;\n",
       "  \n",
       "    if (typeof (window._bokeh_onload_callbacks) === \"undefined\" || force === true) {\n",
       "      window._bokeh_onload_callbacks = [];\n",
       "      window._bokeh_is_loading = undefined;\n",
       "    }\n",
       "  \n",
       "  \n",
       "    \n",
       "    if (typeof (window._bokeh_timeout) === \"undefined\" || force === true) {\n",
       "      window._bokeh_timeout = Date.now() + 0;\n",
       "      window._bokeh_failed_load = false;\n",
       "    }\n",
       "  \n",
       "    var NB_LOAD_WARNING = {'data': {'text/html':\n",
       "       \"<div style='background-color: #fdd'>\\n\"+\n",
       "       \"<p>\\n\"+\n",
       "       \"BokehJS does not appear to have successfully loaded. If loading BokehJS from CDN, this \\n\"+\n",
       "       \"may be due to a slow or bad network connection. Possible fixes:\\n\"+\n",
       "       \"</p>\\n\"+\n",
       "       \"<ul>\\n\"+\n",
       "       \"<li>re-rerun `output_notebook()` to attempt to load from CDN again, or</li>\\n\"+\n",
       "       \"<li>use INLINE resources instead, as so:</li>\\n\"+\n",
       "       \"</ul>\\n\"+\n",
       "       \"<code>\\n\"+\n",
       "       \"from bokeh.resources import INLINE\\n\"+\n",
       "       \"output_notebook(resources=INLINE)\\n\"+\n",
       "       \"</code>\\n\"+\n",
       "       \"</div>\"}};\n",
       "  \n",
       "    function display_loaded() {\n",
       "      if (window.Bokeh !== undefined) {\n",
       "        document.getElementById(\"f8b962cb-6649-409f-a8cd-3a29116ea3b2\").textContent = \"BokehJS successfully loaded.\";\n",
       "      } else if (Date.now() < window._bokeh_timeout) {\n",
       "        setTimeout(display_loaded, 100)\n",
       "      }\n",
       "    }\n",
       "  \n",
       "    function run_callbacks() {\n",
       "      window._bokeh_onload_callbacks.forEach(function(callback) { callback() });\n",
       "      delete window._bokeh_onload_callbacks\n",
       "      console.info(\"Bokeh: all callbacks have finished\");\n",
       "    }\n",
       "  \n",
       "    function load_libs(js_urls, callback) {\n",
       "      window._bokeh_onload_callbacks.push(callback);\n",
       "      if (window._bokeh_is_loading > 0) {\n",
       "        console.log(\"Bokeh: BokehJS is being loaded, scheduling callback at\", now());\n",
       "        return null;\n",
       "      }\n",
       "      if (js_urls == null || js_urls.length === 0) {\n",
       "        run_callbacks();\n",
       "        return null;\n",
       "      }\n",
       "      console.log(\"Bokeh: BokehJS not loaded, scheduling load and callback at\", now());\n",
       "      window._bokeh_is_loading = js_urls.length;\n",
       "      for (var i = 0; i < js_urls.length; i++) {\n",
       "        var url = js_urls[i];\n",
       "        var s = document.createElement('script');\n",
       "        s.src = url;\n",
       "        s.async = false;\n",
       "        s.onreadystatechange = s.onload = function() {\n",
       "          window._bokeh_is_loading--;\n",
       "          if (window._bokeh_is_loading === 0) {\n",
       "            console.log(\"Bokeh: all BokehJS libraries loaded\");\n",
       "            run_callbacks()\n",
       "          }\n",
       "        };\n",
       "        s.onerror = function() {\n",
       "          console.warn(\"failed to load library \" + url);\n",
       "        };\n",
       "        console.log(\"Bokeh: injecting script tag for BokehJS library: \", url);\n",
       "        document.getElementsByTagName(\"head\")[0].appendChild(s);\n",
       "      }\n",
       "    };var element = document.getElementById(\"f8b962cb-6649-409f-a8cd-3a29116ea3b2\");\n",
       "    if (element == null) {\n",
       "      console.log(\"Bokeh: ERROR: autoload.js configured with elementid 'f8b962cb-6649-409f-a8cd-3a29116ea3b2' but no matching script tag was found. \")\n",
       "      return false;\n",
       "    }\n",
       "  \n",
       "    var js_urls = [];\n",
       "  \n",
       "    var inline_js = [\n",
       "      function(Bokeh) {\n",
       "        (function() {\n",
       "          var fn = function() {\n",
       "            var docs_json = {\"25bebbb0-0f81-41f0-9ba0-3217b2dcffdd\":{\"roots\":{\"references\":[{\"attributes\":{\"line_alpha\":{\"value\":0.1},\"line_color\":{\"value\":\"#1f77b4\"},\"line_width\":{\"value\":2},\"x\":{\"field\":\"x\"},\"y\":{\"field\":\"y\"}},\"id\":\"595899fd-b826-42a2-a0b3-b523d02abff8\",\"type\":\"Line\"},{\"attributes\":{\"plot\":{\"id\":\"84f1b12a-8a36-4631-8497-d31f36a5010c\",\"subtype\":\"Figure\",\"type\":\"Plot\"}},\"id\":\"8c31dac8-7d5c-4db4-b9e9-ad663cc8bfbe\",\"type\":\"SaveTool\"},{\"attributes\":{},\"id\":\"1b243fe8-d939-4392-8767-f17f0cc744f8\",\"type\":\"BasicTicker\"},{\"attributes\":{\"axis_label\":\"T\",\"formatter\":{\"id\":\"7835ae08-5569-4cc9-bc11-6098e37fa38b\",\"type\":\"BasicTickFormatter\"},\"plot\":{\"id\":\"84f1b12a-8a36-4631-8497-d31f36a5010c\",\"subtype\":\"Figure\",\"type\":\"Plot\"},\"ticker\":{\"id\":\"e7bf811e-6d60-41e0-b06f-a5ab88c3002c\",\"type\":\"BasicTicker\"}},\"id\":\"f5fbdfa7-02dc-4bd3-a17e-e5f81807d3dc\",\"type\":\"LinearAxis\"},{\"attributes\":{\"line_color\":{\"value\":\"#984ea3\"},\"line_width\":{\"value\":2},\"x\":{\"field\":\"x\"},\"y\":{\"field\":\"y\"}},\"id\":\"fd0f15b8-caa2-471c-a358-be70adc66fd7\",\"type\":\"Line\"},{\"attributes\":{\"callback\":null},\"id\":\"826daeea-0788-42a9-86b4-f929ed5fbb5f\",\"type\":\"DataRange1d\"},{\"attributes\":{\"data_source\":{\"id\":\"3d65d7f7-ebd7-4f1e-8382-41a5c4ecbd25\",\"type\":\"ColumnDataSource\"},\"glyph\":{\"id\":\"51422485-207e-4f87-9ce2-70c268a8e070\",\"type\":\"Patch\"},\"hover_glyph\":null,\"nonselection_glyph\":{\"id\":\"ebf8bb3d-ff3e-4608-bb74-19a49f041fa0\",\"type\":\"Patch\"},\"selection_glyph\":null},\"id\":\"feb7baa9-53db-47b7-b708-c8f705a0cfad\",\"type\":\"GlyphRenderer\"},{\"attributes\":{\"fill_alpha\":{\"value\":0.1},\"fill_color\":{\"value\":\"#1f77b4\"},\"line_alpha\":{\"value\":0.1},\"line_color\":{\"value\":\"#1f77b4\"},\"x\":{\"field\":\"x\"},\"y\":{\"field\":\"y\"}},\"id\":\"86a643a6-3556-4dc1-ae0c-d31d063a965d\",\"type\":\"Patch\"},{\"attributes\":{\"data_source\":{\"id\":\"6daca378-5c16-4357-ab99-01ccba349454\",\"type\":\"ColumnDataSource\"},\"glyph\":{\"id\":\"fd0f15b8-caa2-471c-a358-be70adc66fd7\",\"type\":\"Line\"},\"hover_glyph\":null,\"nonselection_glyph\":{\"id\":\"8363cb7a-27f6-400d-9a9c-f92416bc130e\",\"type\":\"Line\"},\"selection_glyph\":null},\"id\":\"0c63b02d-94cb-4429-8252-586923332be0\",\"type\":\"GlyphRenderer\"},{\"attributes\":{\"items\":[{\"id\":\"f5e78862-b294-4432-868c-6699843872e8\",\"type\":\"LegendItem\"},{\"id\":\"a68fbf39-ec2e-449b-a1be-1567f1bf3528\",\"type\":\"LegendItem\"},{\"id\":\"d22632ae-bb63-401f-9311-35cc858ddd3f\",\"type\":\"LegendItem\"},{\"id\":\"1413673f-2bc2-491d-be20-be0f0c9d1f88\",\"type\":\"LegendItem\"}],\"location\":[0,-30],\"plot\":{\"id\":\"84f1b12a-8a36-4631-8497-d31f36a5010c\",\"subtype\":\"Figure\",\"type\":\"Plot\"}},\"id\":\"8c707e17-413f-44fa-bd8b-5b2c65e626e3\",\"type\":\"Legend\"},{\"attributes\":{\"fill_alpha\":{\"value\":0.1},\"fill_color\":{\"value\":\"#1f77b4\"},\"line_alpha\":{\"value\":0.1},\"line_color\":{\"value\":\"#1f77b4\"},\"x\":{\"field\":\"x\"},\"y\":{\"field\":\"y\"}},\"id\":\"bc6a5046-9782-45d4-8e39-8b3d41248734\",\"type\":\"Patch\"},{\"attributes\":{\"line_alpha\":{\"value\":0.1},\"line_color\":{\"value\":\"#1f77b4\"},\"line_width\":{\"value\":2},\"x\":{\"field\":\"x\"},\"y\":{\"field\":\"y\"}},\"id\":\"8363cb7a-27f6-400d-9a9c-f92416bc130e\",\"type\":\"Line\"},{\"attributes\":{\"line_alpha\":{\"value\":0.1},\"line_color\":{\"value\":\"#1f77b4\"},\"line_width\":{\"value\":2},\"x\":{\"field\":\"x\"},\"y\":{\"field\":\"y\"}},\"id\":\"3b16c22e-6583-4f14-9ef5-1d5309c50d8a\",\"type\":\"Line\"},{\"attributes\":{\"callback\":null,\"column_names\":[\"x\",\"y\"],\"data\":{\"x\":[0,1000,2000,3000,4000,5000,6000,7000,8000,9000,10000,11000,12000,13000,14000,15000,16000,17000,18000,19000,20000,21000,22000,23000,24000,25000,26000,27000,28000,29000,30000,31000,32000,33000,34000,35000,36000,37000,38000,39000,40000,41000,42000,43000,44000,45000,46000,47000,48000,49000,50000,51000,52000,53000,54000,55000,56000,57000,58000,59000,60000,61000,62000,63000,64000,65000,66000,67000,68000,69000,70000,71000,72000,73000,74000,75000,76000,77000,78000,79000,80000,81000,82000,83000,84000,85000,86000,87000,88000,89000,90000,91000,92000,93000,94000,95000,96000,97000,98000,99000,100000,101000,102000,103000,104000,105000,106000,107000,108000,109000,110000,111000,112000,113000,114000,115000,116000,117000,118000,119000,120000,121000,122000,123000,124000,125000,126000,127000,128000,129000,130000,131000,132000,133000,134000,135000,136000,137000,138000,139000,140000,141000,142000,143000,144000,145000,146000,147000,148000,149000,150000,151000,152000,153000,154000,155000,156000,157000,158000,159000,160000,161000,162000,163000,164000,165000,166000,167000,168000,169000,170000,171000,172000,173000,174000,175000,176000,177000,178000,179000,180000,181000,182000,183000,184000,185000,186000,187000,188000,189000,190000,191000,192000,193000,194000,195000,196000,197000,198000,199000,200000,201000,202000,203000,204000,205000,206000,207000,208000,209000,210000,211000,212000,213000,214000,215000,216000,217000,218000,219000,220000,221000,222000,223000,224000,225000,226000,227000,228000,229000,230000,231000,232000,233000,234000,235000,236000,237000,238000,239000,240000,241000,242000,243000,244000,245000,246000,247000,248000,249000,250000,251000,252000,253000,254000,255000,256000,257000,258000,259000,260000,261000,262000,263000,264000,265000,266000,267000,268000,269000,270000,271000,272000,273000,274000,275000,276000,277000,278000,279000,280000,281000,282000,283000,284000,285000,286000,287000,288000,289000,290000,291000,292000,293000,294000,295000,296000,297000,298000,299000,300000,301000,302000,303000,304000,305000,306000,307000,308000,309000,310000,311000,312000,313000,314000,315000,316000,317000,318000,319000,320000,321000,322000,323000,324000,325000,326000,327000,328000,329000,330000,331000,332000,333000,334000,335000,336000,337000,338000,339000,340000,341000,342000,343000,344000,345000,346000,347000,348000,349000,350000,351000,352000,353000,354000,355000,356000,357000,358000,359000,360000,361000,362000,363000,364000,365000,366000,367000,368000,369000,370000,371000,372000,373000,374000,375000,376000,377000,378000,379000,380000,381000,382000,383000,384000,385000,386000,387000,388000,389000,390000,391000,392000,393000,394000,395000,396000,397000,398000,399000,400000,401000,402000,403000,404000,405000,406000,407000,408000,409000,410000,411000,412000,413000,414000,415000,416000,417000,418000,419000,420000,421000,422000,423000,424000,425000,426000,427000,428000,429000,430000,431000,432000,433000,434000,435000,436000,437000,438000,439000,440000,441000,442000,443000,444000,445000,446000,447000,448000,449000,450000,451000,452000,453000,454000,455000,456000,457000,458000,459000,460000,461000,462000,463000,464000,465000,466000,467000,468000,469000,470000,471000,472000,473000,474000,475000,476000,477000,478000,479000,480000,481000,482000,483000,484000,485000,486000,487000,488000,489000,490000,491000,492000,493000,494000,495000,496000,497000,498000,499000,500000,501000,502000,503000,504000,505000,506000,507000,508000,509000,510000,511000,512000,513000,514000,515000,516000,517000,518000,519000,520000,521000,522000,523000,524000,525000,526000,527000,528000,529000,530000,531000,532000,533000,534000,535000,536000,537000,538000,539000,540000,541000,542000,543000,544000,545000,546000,547000,548000,549000,550000,551000,552000,553000,554000,555000,556000,557000,558000,559000,560000,561000,562000,563000,564000,565000,566000,567000,568000,569000,570000,571000,572000,573000,574000,575000,576000,577000,578000,579000,580000,581000,582000,583000,584000,585000,586000,587000,588000,589000,590000,591000,592000,593000,594000,595000,596000,597000,598000,599000,600000],\"y\":{\"__ndarray__\":\"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\",\"dtype\":\"float64\",\"shape\":[600]}}},\"id\":\"feb423b3-470b-42cc-867e-33fb1f2d2f43\",\"type\":\"ColumnDataSource\"},{\"attributes\":{\"label\":{\"value\":\"0.5 Alpha 8 NScaler 0.01 Bandit\"},\"renderers\":[{\"id\":\"5b38af25-9da6-4020-a703-3b822aa0b937\",\"type\":\"GlyphRenderer\"}]},\"id\":\"f5e78862-b294-4432-868c-6699843872e8\",\"type\":\"LegendItem\"},{\"attributes\":{\"label\":{\"value\":\"0.5 Alpha 8 NScaler 0.1 Bandit\"},\"renderers\":[{\"id\":\"a03a15ce-11c0-44f9-8a96-0d3b08d43cd4\",\"type\":\"GlyphRenderer\"}]},\"id\":\"a68fbf39-ec2e-449b-a1be-1567f1bf3528\",\"type\":\"LegendItem\"},{\"attributes\":{\"callback\":null,\"column_names\":[\"x\",\"y\"],\"data\":{\"x\":[0,1000,2000,3000,4000,5000,6000,7000,8000,9000,10000,11000,12000,13000,14000,15000,16000,17000,18000,19000,20000,21000,22000,23000,24000,25000,26000,27000,28000,29000,30000,31000,32000,33000,34000,35000,36000,37000,38000,39000,40000,41000,42000,43000,44000,45000,46000,47000,48000,49000,50000,51000,52000,53000,54000,55000,56000,57000,58000,59000,60000,61000,62000,63000,64000,65000,66000,67000,68000,69000,70000,71000,72000,73000,74000,75000,76000,77000,78000,79000,80000,81000,82000,83000,84000,85000,86000,87000,88000,89000,90000,91000,92000,93000,94000,95000,96000,97000,98000,99000,100000,101000,102000,103000,104000,105000,106000,107000,108000,109000,110000,111000,112000,113000,114000,115000,116000,117000,118000,119000,120000,121000,122000,123000,124000,125000,126000,127000,128000,129000,130000,131000,132000,133000,134000,135000,136000,137000,138000,139000,140000,141000,142000,143000,144000,145000,146000,147000,148000,149000,150000,151000,152000,153000,154000,155000,156000,157000,158000,159000,160000,161000,162000,163000,164000,165000,166000,167000,168000,169000,170000,171000,172000,173000,174000,175000,176000,177000,178000,179000,180000,181000,182000,183000,184000,185000,186000,187000,188000,189000,190000,191000,192000,193000,194000,195000,196000,197000,198000,199000,200000,201000,202000,203000,204000,205000,206000,207000,208000,209000,210000,211000,212000,213000,214000,215000,216000,217000,218000,219000,220000,221000,222000,223000,224000,225000,226000,227000,228000,229000,230000,231000,232000,233000,234000,235000,236000,237000,238000,239000,240000,241000,242000,243000,244000,245000,246000,247000,248000,249000,250000,251000,252000,253000,254000,255000,256000,257000,258000,259000,260000,261000,262000,263000,264000,265000,266000,267000,268000,269000,270000,271000,272000,273000,274000,275000,276000,277000,278000,279000,280000,281000,282000,283000,284000,285000,286000,287000,288000,289000,290000,291000,292000,293000,294000,295000,296000,297000,298000,299000,300000,301000,302000,303000,304000,305000,306000,307000,308000,309000,310000,311000,312000,313000,314000,315000,316000,317000,318000,319000,320000,321000,322000,323000,324000,325000,326000,327000,328000,329000,330000,331000,332000,333000,334000,335000,336000,337000,338000,339000,340000,341000,342000,343000,344000,345000,346000,347000,348000,349000,350000,351000,352000,353000,354000,355000,356000,357000,358000,359000,360000,361000,362000,363000,364000,365000,366000,367000,368000,369000,370000,371000,372000,373000,374000,375000,376000,377000,378000,379000,380000,381000,382000,383000,384000,385000,386000,387000,388000,389000,390000,391000,392000,393000,394000,395000,396000,397000,398000,399000,400000,401000,402000,403000,404000,405000,406000,407000,408000,409000,410000,411000,412000,413000,414000,415000,416000,417000,418000,419000,420000,421000,422000,423000,424000,425000,426000,427000,428000,429000,430000,431000,432000,433000,434000,435000,436000,437000,438000,439000,440000,441000,442000,443000,444000,445000,446000,447000,448000,449000,450000,451000,452000,453000,454000,455000,456000,457000,458000,459000,460000,461000,462000,463000,464000,465000,466000,467000,468000,469000,470000,471000,472000,473000,474000,475000,476000,477000,478000,479000,480000,481000,482000,483000,484000,485000,486000,487000,488000,489000,490000,491000,492000,493000,494000,495000,496000,497000,498000,499000,500000,501000,502000,503000,504000,505000,506000,507000,508000,509000,510000,511000,512000,513000,514000,515000,516000,517000,518000,519000,520000,521000,522000,523000,524000,525000,526000,527000,528000,529000,530000,531000,532000,533000,534000,535000,536000,537000,538000,539000,540000,541000,542000,543000,544000,545000,546000,547000,548000,549000,550000,551000,552000,553000,554000,555000,556000,557000,558000,559000,560000,561000,562000,563000,564000,565000,566000,567000,568000,569000,570000,571000,572000,573000,574000,575000,576000,577000,578000,579000,580000,581000,582000,583000,584000,585000,586000,587000,588000,589000,590000,591000,592000,593000,594000,595000,596000,597000,598000,599000,600000,600000,599000,598000,597000,596000,595000,594000,593000,592000,591000,590000,589000,588000,587000,586000,585000,584000,583000,582000,581000,580000,579000,578000,577000,576000,575000,574000,573000,572000,571000,570000,569000,568000,567000,566000,565000,564000,563000,562000,561000,560000,559000,558000,557000,556000,555000,554000,553000,552000,551000,550000,549000,548000,547000,546000,545000,544000,543000,542000,541000,540000,539000,538000,537000,536000,535000,534000,533000,532000,531000,530000,529000,528000,527000,526000,525000,524000,523000,522000,521000,520000,519000,518000,517000,516000,515000,514000,513000,512000,511000,510000,509000,508000,507000,506000,505000,504000,503000,502000,501000,500000,499000,498000,497000,496000,495000,494000,493000,492000,491000,490000,489000,488000,487000,486000,485000,484000,483000,482000,481000,480000,479000,478000,477000,476000,475000,474000,473000,472000,471000,470000,469000,468000,467000,466000,465000,464000,463000,462000,461000,460000,459000,458000,457000,456000,455000,454000,453000,452000,451000,450000,449000,448000,447000,446000,445000,444000,443000,442000,441000,440000,439000,438000,437000,436000,435000,434000,433000,432000,431000,430000,429000,428000,427000,426000,425000,424000,423000,422000,421000,420000,419000,418000,417000,416000,415000,414000,413000,412000,411000,410000,409000,408000,407000,406000,405000,404000,403000,402000,401000,400000,399000,398000,397000,396000,395000,394000,393000,392000,391000,390000,389000,388000,387000,386000,385000,384000,383000,382000,381000,380000,379000,378000,377000,376000,375000,374000,373000,372000,371000,370000,369000,368000,367000,366000,365000,364000,363000,362000,361000,360000,359000,358000,357000,356000,355000,354000,353000,352000,351000,350000,349000,348000,347000,346000,345000,344000,343000,342000,341000,340000,339000,338000,337000,336000,335000,334000,333000,332000,331000,330000,329000,328000,327000,326000,325000,324000,323000,322000,321000,320000,319000,318000,317000,316000,315000,314000,313000,312000,311000,310000,309000,308000,307000,306000,305000,304000,303000,302000,301000,300000,299000,298000,297000,296000,295000,294000,293000,292000,291000,290000,289000,288000,287000,286000,285000,284000,283000,282000,281000,280000,279000,278000,277000,276000,275000,274000,273000,272000,271000,270000,269000,268000,267000,266000,265000,264000,263000,262000,261000,260000,259000,258000,257000,256000,255000,254000,253000,252000,251000,250000,249000,248000,247000,246000,245000,244000,243000,242000,241000,240000,239000,238000,237000,236000,235000,234000,233000,232000,231000,230000,229000,228000,227000,226000,225000,224000,223000,222000,221000,220000,219000,218000,217000,216000,215000,214000,213000,212000,211000,210000,209000,208000,207000,206000,205000,204000,203000,202000,201000,200000,199000,198000,197000,196000,195000,194000,193000,192000,191000,190000,189000,188000,187000,186000,185000,184000,183000,182000,181000,180000,179000,178000,177000,176000,175000,174000,173000,172000,171000,170000,169000,168000,167000,166000,165000,164000,163000,162000,161000,160000,159000,158000,157000,156000,155000,154000,153000,152000,151000,150000,149000,148000,147000,146000,145000,144000,143000,142000,141000,140000,139000,138000,137000,136000,135000,134000,133000,132000,131000,130000,129000,128000,127000,126000,125000,124000,123000,122000,121000,120000,119000,118000,117000,116000,115000,114000,113000,112000,111000,110000,109000,108000,107000,106000,105000,104000,103000,102000,101000,100000,99000,98000,97000,96000,95000,94000,93000,92000,91000,90000,89000,88000,87000,86000,85000,84000,83000,82000,81000,80000,79000,78000,77000,76000,75000,74000,73000,72000,71000,70000,69000,68000,67000,66000,65000,64000,63000,62000,61000,60000,59000,58000,57000,56000,55000,54000,53000,52000,51000,50000,49000,48000,47000,46000,45000,44000,43000,42000,41000,40000,39000,38000,37000,36000,35000,34000,33000,32000,31000,30000,29000,28000,27000,26000,25000,24000,23000,22000,21000,20000,19000,18000,17000,16000,15000,14000,13000,12000,11000,10000,9000,8000,7000,6000,5000,4000,3000,2000,1000,0],\"y\":[1,39,92,137,150,197,280,280,341,355,355,394,395,395,395,395,395,395,395,395,395,395,395,395,427,427,427,427,427,427,427,427,434,434,434,434,434,434,434,434,434,435,435,435,435,435,435,435,435,435,435,435,435,435,435,435,435,435,435,435,435,435,435,435,435,436,436,436,436,436,436,436,436,436,436,436,436,436,436,436,436,439,439,439,439,439,439,439,439,439,439,439,439,439,439,439,439,439,439,439,439,439,439,439,439,439,439,439,439,439,439,439,439,439,439,443,443,443,443,443,443,443,443,443,443,443,454,454,454,454,454,456,483,483,483,483,483,483,498,521,521,521,521,521,522,522,522,522,522,522,522,523,546,546,546,546,546,546,546,546,546,546,549,567,567,567,567,567,567,567,567,567,567,567,567,567,567,567,567,567,567,567,567,572,581,581,581,581,581,581,581,590,599,601,601,601,601,601,601,601,601,601,601,601,601,601,601,601,601,601,601,601,601,601,601,601,601,601,601,601,601,601,601,601,601,601,601,601,601,601,601,601,601,601,601,601,601,611,611,611,611,611,619,650,669,669,669,669,669,669,669,669,669,669,669,669,669,669,669,670,673,679,691,694,699,712,723,727,751,768,768,769,793,857,880,881,882,978,1042,1082,1082,1082,1101,1110,1116,1158,1173,1188,1224,1224,1241,1241,1241,1241,1242,1242,1242,1242,1270,1270,1284,1287,1288,1289,1292,1292,1292,1292,1292,1306,1306,1306,1306,1306,1306,1306,1306,1306,1306,1306,1306,1306,1331,1376,1431,1431,1431,1432,1542,1553,1553,1553,1553,1553,1553,1588,1707,1787,1826,1831,1915,1949,1952,1952,1952,1952,1952,1952,1952,1952,1952,1953,1953,1953,2043,2069,2071,2071,2085,2109,2172,2172,2172,2195,2195,2195,2195,2195,2195,2195,2195,2195,2195,2195,2195,2217,2222,2224,2228,2228,2228,2228,2228,2228,2228,2253,2350,2356,2372,2372,2372,2372,2372,2372,2372,2372,2372,2372,2372,2405,2439,2439,2439,2439,2439,2440,2440,2440,2448,2469,2469,2469,2469,2469,2469,2469,2469,2469,2469,2469,2469,2469,2469,2469,2469,2569,2634,2755,2798,2842,2842,2842,2842,2843,2843,2843,2843,2858,2875,2877,2937,2942,2942,2942,2942,2942,2942,2942,2945,2950,2950,2988,2991,2999,3000,3000,3000,3000,3000,3000,3003,3003,3003,3009,3014,3014,3014,3014,3014,3014,3014,3014,3014,3014,3014,3014,3014,3014,3014,3014,3016,3016,3016,3016,3016,3016,3016,3016,3016,3016,3016,3016,3016,3016,3016,3016,3016,3016,3016,3016,3016,3016,3016,3016,3016,3016,3016,3016,3016,3016,3016,3016,3016,3016,3016,3016,3016,3016,3016,3016,3016,3016,3016,3016,3016,3016,3016,3016,3016,3016,3016,3016,3016,3016,3016,3016,3016,3016,3016,3016,3016,3016,3016,3016,3016,3016,3016,3016,3016,3016,3016,3016,3016,3016,3016,3016,3016,3016,3016,3016,3016,3016,3016,3016,3016,3016,3016,3016,3016,3016,3016,3016,3016,3016,3016,3016,3016,3016,3016,3016,3016,3016,3016,3016,3016,3016,3016,3016,3016,3016,3016,3016,3016,3016,3016,3016,3016,3016,3016,3016,3781,3781,3781,3781,3781,3781,3781,3781,3781,3781,3781,3781,3781,3781,3781,3781,3781,3781,3781,3781,3781,3781,3781,3781,3781,3781,3781,3781,3781,3781,3781,3781,3781,3781,3781,3781,3781,3781,3781,3781,3781,3781,3781,3781,3781,3781,3781,3781,3781,3781,3781,3781,3781,3781,3781,3781,3781,3781,3781,3781,3781,3781,3781,3781,3781,3781,3781,3781,3781,3781,3781,3781,3781,3781,3781,3781,3781,3781,3781,3781,3781,3781,3781,3781,3781,3781,3781,3781,3781,3781,3781,3781,3781,3781,3781,3781,3781,3781,3781,3781,3781,3781,3781,3781,3781,3781,3781,3781,3781,3781,3781,3781,3781,3781,3781,3781,3781,3781,3781,3781,3781,3781,3781,3781,3781,3781,3781,3781,3781,3781,3781,3781,3781,3781,3781,3781,3781,3781,3781,3781,3781,3781,3781,3781,3781,3781,3781,3781,3781,3781,3780,3778,3778,3778,3778,3778,3778,3778,3778,3778,3778,3778,3778,3778,3778,3778,3778,3778,3778,3778,3778,3778,3778,3778,3778,3778,3778,3778,3778,3778,3778,3778,3778,3778,3778,3778,3778,3778,3778,3778,3778,3778,3778,3778,3777,3777,3777,3777,3777,3777,3777,3777,3777,3777,3777,3777,3777,3777,3777,3777,3777,3777,3777,3776,3764,3732,3732,3732,3732,3732,3732,3732,3732,3732,3732,3728,3718,3716,3716,3716,3716,3716,3716,3716,3716,3716,3716,3716,3716,3716,3716,3716,3716,3716,3716,3716,3716,3716,3716,3716,3716,3716,3716,3716,3716,3716,3716,3716,3716,3716,3716,3716,3716,3716,3716,3716,3716,3716,3716,3716,3716,3716,3716,3716,3716,3716,3716,3716,3716,3716,3716,3716,3716,3716,3716,3716,3716,3716,3716,3716,3716,3716,3716,3716,3716,3716,3716,3680,3582,3582,3582,3582,3582,3582,3582,3582,3582,3582,3582,3582,3582,3582,3582,3582,3582,3582,3582,3582,3582,3582,3582,3582,3572,3571,3571,3571,3571,3571,3571,3571,3571,3566,3566,3566,3566,3566,3566,3566,3566,3566,3566,3566,3562,3547,3547,3547,3546,3546,3546,3546,3546,3546,3546,3546,3546,3546,3534,3490,3355,3285,3285,3285,3285,3285,3285,3262,3255,3236,3236,3205,3205,3205,3205,3205,3205,3205,3205,3205,3205,3198,3159,3122,3121,3121,3121,3121,3121,3121,3121,3121,3121,3121,3119,3119,3118,3118,3118,3118,3118,3118,3118,3118,3118,3118,3084,3010,3007,3007,3007,3007,3007,3007,3007,3007,3007,3007,2996,2996,2996,2986,2985,2985,2985,2985,2985,2985,2985,2985,2985,2972,2949,2895,2845,2820,2820,2817,2806,2806,2806,2747,2649,2633,2612,2612,2604,2520,2520,2520,2520,2520,2520,2520,2520,2520,2520,2520,2520,2520,2520,2520,2520,2520,2520,2520,2520,2520,2520,2520,2520,2519,2519,2519,2519,2516,2516,2516,2516,2516,2516,2516,2516,2516,2516,2512,2512,2505,2446,2387,2330,2330,2322,2322,2322,2322,2322,2322,2322,2322,2322,2322,2322,2322,2301,2205,2148,2148,2127,2094,2092,2092,2092,2071,1997,1992,1992,1992,1992,1992,1992,1992,1992,1992,1992,1992,1992,1992,1961,1952,1910,1884,1793,1793,1741,1670,1580,1580,1580,1580,1577,1576,1567,1443,1356,1350,1348,1256,1204,1199,1199,1199,1199,1199,1199,1193,1193,1145,1122,1099,1031,1022,1022,1022,1022,1022,1022,1022,1022,1022,1022,1022,1022,1022,1022,1022,1022,992,921,871,868,868,806,797,747,714,695,672,651,605,591,576,488,375,352,305,305,263,243,181,85,1]}},\"id\":\"d4017a57-6ff2-40c9-939f-34b00f1f095f\",\"type\":\"ColumnDataSource\"},{\"attributes\":{\"fill_alpha\":{\"value\":0.1},\"fill_color\":{\"value\":\"#e41a1c\"},\"line_alpha\":{\"value\":0.1},\"line_color\":{\"value\":\"#e41a1c\"},\"x\":{\"field\":\"x\"},\"y\":{\"field\":\"y\"}},\"id\":\"1650c800-3817-4263-a2f2-13fa725bafea\",\"type\":\"Patch\"},{\"attributes\":{\"line_color\":{\"value\":\"#e41a1c\"},\"line_width\":{\"value\":2},\"x\":{\"field\":\"x\"},\"y\":{\"field\":\"y\"}},\"id\":\"83d3fae9-570a-4904-83af-753207e87f03\",\"type\":\"Line\"},{\"attributes\":{\"line_color\":{\"value\":\"#4daf4a\"},\"line_width\":{\"value\":2},\"x\":{\"field\":\"x\"},\"y\":{\"field\":\"y\"}},\"id\":\"f39812f2-95a6-45d8-92a0-b92b67285457\",\"type\":\"Line\"},{\"attributes\":{\"use_scientific\":false},\"id\":\"7835ae08-5569-4cc9-bc11-6098e37fa38b\",\"type\":\"BasicTickFormatter\"},{\"attributes\":{\"label\":{\"value\":\"0.5 Alpha 8 NScaler 10 Bandit\"},\"renderers\":[{\"id\":\"0c63b02d-94cb-4429-8252-586923332be0\",\"type\":\"GlyphRenderer\"}]},\"id\":\"1413673f-2bc2-491d-be20-be0f0c9d1f88\",\"type\":\"LegendItem\"},{\"attributes\":{\"callback\":null,\"column_names\":[\"x\",\"y\"],\"data\":{\"x\":[0,1000,2000,3000,4000,5000,6000,7000,8000,9000,10000,11000,12000,13000,14000,15000,16000,17000,18000,19000,20000,21000,22000,23000,24000,25000,26000,27000,28000,29000,30000,31000,32000,33000,34000,35000,36000,37000,38000,39000,40000,41000,42000,43000,44000,45000,46000,47000,48000,49000,50000,51000,52000,53000,54000,55000,56000,57000,58000,59000,60000,61000,62000,63000,64000,65000,66000,67000,68000,69000,70000,71000,72000,73000,74000,75000,76000,77000,78000,79000,80000,81000,82000,83000,84000,85000,86000,87000,88000,89000,90000,91000,92000,93000,94000,95000,96000,97000,98000,99000,100000,101000,102000,103000,104000,105000,106000,107000,108000,109000,110000,111000,112000,113000,114000,115000,116000,117000,118000,119000,120000,121000,122000,123000,124000,125000,126000,127000,128000,129000,130000,131000,132000,133000,134000,135000,136000,137000,138000,139000,140000,141000,142000,143000,144000,145000,146000,147000,148000,149000,150000,151000,152000,153000,154000,155000,156000,157000,158000,159000,160000,161000,162000,163000,164000,165000,166000,167000,168000,169000,170000,171000,172000,173000,174000,175000,176000,177000,178000,179000,180000,181000,182000,183000,184000,185000,186000,187000,188000,189000,190000,191000,192000,193000,194000,195000,196000,197000,198000,199000,200000,201000,202000,203000,204000,205000,206000,207000,208000,209000,210000,211000,212000,213000,214000,215000,216000,217000,218000,219000,220000,221000,222000,223000,224000,225000,226000,227000,228000,229000,230000,231000,232000,233000,234000,235000,236000,237000,238000,239000,240000,241000,242000,243000,244000,245000,246000,247000,248000,249000,250000,251000,252000,253000,254000,255000,256000,257000,258000,259000,260000,261000,262000,263000,264000,265000,266000,267000,268000,269000,270000,271000,272000,273000,274000,275000,276000,277000,278000,279000,280000,281000,282000,283000,284000,285000,286000,287000,288000,289000,290000,291000,292000,293000,294000,295000,296000,297000,298000,299000,300000,301000,302000,303000,304000,305000,306000,307000,308000,309000,310000,311000,312000,313000,314000,315000,316000,317000,318000,319000,320000,321000,322000,323000,324000,325000,326000,327000,328000,329000,330000,331000,332000,333000,334000,335000,336000,337000,338000,339000,340000,341000,342000,343000,344000,345000,346000,347000,348000,349000,350000,351000,352000,353000,354000,355000,356000,357000,358000,359000,360000,361000,362000,363000,364000,365000,366000,367000,368000,369000,370000,371000,372000,373000,374000,375000,376000,377000,378000,379000,380000,381000,382000,383000,384000,385000,386000,387000,388000,389000,390000,391000,392000,393000,394000,395000,396000,397000,398000,399000,400000,401000,402000,403000,404000,405000,406000,407000,408000,409000,410000,411000,412000,413000,414000,415000,416000,417000,418000,419000,420000,421000,422000,423000,424000,425000,426000,427000,428000,429000,430000,431000,432000,433000,434000,435000,436000,437000,438000,439000,440000,441000,442000,443000,444000,445000,446000,447000,448000,449000,450000,451000,452000,453000,454000,455000,456000,457000,458000,459000,460000,461000,462000,463000,464000,465000,466000,467000,468000,469000,470000,471000,472000,473000,474000,475000,476000,477000,478000,479000,480000,481000,482000,483000,484000,485000,486000,487000,488000,489000,490000,491000,492000,493000,494000,495000,496000,497000,498000,499000,500000,501000,502000,503000,504000,505000,506000,507000,508000,509000,510000,511000,512000,513000,514000,515000,516000,517000,518000,519000,520000,521000,522000,523000,524000,525000,526000,527000,528000,529000,530000,531000,532000,533000,534000,535000,536000,537000,538000,539000,540000,541000,542000,543000,544000,545000,546000,547000,548000,549000,550000,551000,552000,553000,554000,555000,556000,557000,558000,559000,560000,561000,562000,563000,564000,565000,566000,567000,568000,569000,570000,571000,572000,573000,574000,575000,576000,577000,578000,579000,580000,581000,582000,583000,584000,585000,586000,587000,588000,589000,590000,591000,592000,593000,594000,595000,596000,597000,598000,599000,600000,600000,599000,598000,597000,596000,595000,594000,593000,592000,591000,590000,589000,588000,587000,586000,585000,584000,583000,582000,581000,580000,579000,578000,577000,576000,575000,574000,573000,572000,571000,570000,569000,568000,567000,566000,565000,564000,563000,562000,561000,560000,559000,558000,557000,556000,555000,554000,553000,552000,551000,550000,549000,548000,547000,546000,545000,544000,543000,542000,541000,540000,539000,538000,537000,536000,535000,534000,533000,532000,531000,530000,529000,528000,527000,526000,525000,524000,523000,522000,521000,520000,519000,518000,517000,516000,515000,514000,513000,512000,511000,510000,509000,508000,507000,506000,505000,504000,503000,502000,501000,500000,499000,498000,497000,496000,495000,494000,493000,492000,491000,490000,489000,488000,487000,486000,485000,484000,483000,482000,481000,480000,479000,478000,477000,476000,475000,474000,473000,472000,471000,470000,469000,468000,467000,466000,465000,464000,463000,462000,461000,460000,459000,458000,457000,456000,455000,454000,453000,452000,451000,450000,449000,448000,447000,446000,445000,444000,443000,442000,441000,440000,439000,438000,437000,436000,435000,434000,433000,432000,431000,430000,429000,428000,427000,426000,425000,424000,423000,422000,421000,420000,419000,418000,417000,416000,415000,414000,413000,412000,411000,410000,409000,408000,407000,406000,405000,404000,403000,402000,401000,400000,399000,398000,397000,396000,395000,394000,393000,392000,391000,390000,389000,388000,387000,386000,385000,384000,383000,382000,381000,380000,379000,378000,377000,376000,375000,374000,373000,372000,371000,370000,369000,368000,367000,366000,365000,364000,363000,362000,361000,360000,359000,358000,357000,356000,355000,354000,353000,352000,351000,350000,349000,348000,347000,346000,345000,344000,343000,342000,341000,340000,339000,338000,337000,336000,335000,334000,333000,332000,331000,330000,329000,328000,327000,326000,325000,324000,323000,322000,321000,320000,319000,318000,317000,316000,315000,314000,313000,312000,311000,310000,309000,308000,307000,306000,305000,304000,303000,302000,301000,300000,299000,298000,297000,296000,295000,294000,293000,292000,291000,290000,289000,288000,287000,286000,285000,284000,283000,282000,281000,280000,279000,278000,277000,276000,275000,274000,273000,272000,271000,270000,269000,268000,267000,266000,265000,264000,263000,262000,261000,260000,259000,258000,257000,256000,255000,254000,253000,252000,251000,250000,249000,248000,247000,246000,245000,244000,243000,242000,241000,240000,239000,238000,237000,236000,235000,234000,233000,232000,231000,230000,229000,228000,227000,226000,225000,224000,223000,222000,221000,220000,219000,218000,217000,216000,215000,214000,213000,212000,211000,210000,209000,208000,207000,206000,205000,204000,203000,202000,201000,200000,199000,198000,197000,196000,195000,194000,193000,192000,191000,190000,189000,188000,187000,186000,185000,184000,183000,182000,181000,180000,179000,178000,177000,176000,175000,174000,173000,172000,171000,170000,169000,168000,167000,166000,165000,164000,163000,162000,161000,160000,159000,158000,157000,156000,155000,154000,153000,152000,151000,150000,149000,148000,147000,146000,145000,144000,143000,142000,141000,140000,139000,138000,137000,136000,135000,134000,133000,132000,131000,130000,129000,128000,127000,126000,125000,124000,123000,122000,121000,120000,119000,118000,117000,116000,115000,114000,113000,112000,111000,110000,109000,108000,107000,106000,105000,104000,103000,102000,101000,100000,99000,98000,97000,96000,95000,94000,93000,92000,91000,90000,89000,88000,87000,86000,85000,84000,83000,82000,81000,80000,79000,78000,77000,76000,75000,74000,73000,72000,71000,70000,69000,68000,67000,66000,65000,64000,63000,62000,61000,60000,59000,58000,57000,56000,55000,54000,53000,52000,51000,50000,49000,48000,47000,46000,45000,44000,43000,42000,41000,40000,39000,38000,37000,36000,35000,34000,33000,32000,31000,30000,29000,28000,27000,26000,25000,24000,23000,22000,21000,20000,19000,18000,17000,16000,15000,14000,13000,12000,11000,10000,9000,8000,7000,6000,5000,4000,3000,2000,1000,0],\"y\":[1,92,149,216,216,228,228,228,328,388,417,418,418,418,418,418,418,418,419,419,419,419,419,426,527,566,566,566,566,566,566,566,566,566,566,571,575,575,575,575,576,579,579,579,579,580,603,630,631,631,631,631,631,631,631,631,631,631,631,631,631,631,633,633,633,633,633,633,633,633,633,633,633,633,633,633,633,633,633,633,642,642,642,642,642,642,642,642,642,642,642,642,642,642,642,642,642,642,642,642,642,642,642,642,642,642,642,642,642,642,642,642,642,642,642,642,642,642,642,642,645,645,649,649,649,649,649,649,649,649,649,649,649,649,649,649,649,649,649,649,666,666,669,681,690,690,690,690,690,690,690,690,690,690,690,690,690,690,693,715,715,715,726,726,731,732,732,732,740,740,742,742,742,742,742,742,742,742,742,742,742,742,742,742,742,742,742,742,742,742,749,749,749,749,758,774,776,776,776,776,776,776,776,778,779,779,779,779,780,780,780,780,780,781,781,781,781,781,781,781,781,781,781,781,781,781,781,781,781,781,781,781,781,781,781,781,781,781,781,781,781,781,781,781,781,781,781,781,781,781,781,781,790,790,790,790,790,790,790,821,822,822,822,822,830,847,851,851,851,852,853,853,853,853,856,862,888,888,927,959,959,974,1010,1014,1058,1072,1100,1109,1136,1141,1141,1141,1141,1141,1141,1141,1152,1152,1152,1152,1153,1153,1155,1209,1209,1209,1209,1209,1209,1209,1209,1212,1212,1212,1212,1228,1241,1241,1241,1241,1241,1241,1252,1321,1343,1351,1351,1351,1358,1358,1358,1402,1410,1417,1420,1420,1420,1424,1424,1424,1424,1424,1424,1424,1424,1424,1426,1426,1470,1470,1483,1520,1521,1521,1522,1522,1522,1549,1648,1690,1701,1710,1710,1714,1714,1718,1718,1750,1762,1762,1762,1762,1762,1762,1788,1808,1808,1808,1811,1811,1811,1813,1813,1817,1936,1940,1948,1949,1949,1950,1951,1951,1951,1951,1951,1953,1956,1965,1970,1977,1978,1989,1990,1990,1991,1991,1995,1995,1995,1999,2012,2042,2072,2220,2236,2241,2241,2241,2241,2243,2263,2268,2273,2278,2278,2297,2297,2297,2299,2299,2299,2299,2299,2299,2299,2300,2300,2300,2300,2304,2304,2304,2304,2304,2304,2304,2304,2304,2304,2304,2309,2309,2309,2309,2309,2309,2329,2333,2333,2333,2333,2333,2333,2333,2333,2333,2333,2333,2333,2432,2450,2450,2450,2450,2450,2450,2450,2450,2450,2450,2450,2454,2454,2454,2454,2454,2460,2460,2460,2494,2577,2577,2577,2577,2583,2764,2784,2784,2784,2784,2822,2828,2838,2838,2841,2852,2852,2852,2852,2858,2858,2858,2858,2897,2922,2924,2924,2933,2933,2933,2933,2933,2933,2933,2934,2934,2934,2934,2934,2934,2934,2934,2934,2934,2934,2934,2934,2934,2934,2934,2950,2950,2950,2950,2950,2950,2950,2950,2950,2950,2950,2950,2950,2950,2950,2950,2950,2950,2950,2950,2950,2950,2950,2950,2950,2950,2950,2950,2950,2950,2950,2950,2950,2950,2950,2950,2950,2950,2950,2950,2950,2950,2950,2950,2950,2951,2951,2951,2951,2951,2951,2951,2951,2951,2951,2951,2951,2951,2951,2951,3778,3778,3778,3778,3778,3778,3778,3778,3778,3778,3778,3778,3778,3778,3778,3778,3778,3778,3778,3778,3778,3778,3778,3778,3778,3778,3778,3778,3778,3778,3778,3778,3778,3778,3778,3778,3778,3778,3778,3778,3778,3778,3778,3778,3778,3778,3778,3778,3778,3778,3778,3778,3778,3778,3778,3778,3778,3778,3778,3778,3778,3778,3778,3778,3778,3778,3778,3778,3778,3778,3778,3778,3778,3778,3778,3778,3778,3778,3778,3778,3778,3778,3778,3778,3778,3778,3778,3778,3778,3778,3778,3778,3778,3778,3778,3778,3778,3778,3778,3778,3778,3778,3778,3778,3778,3778,3778,3778,3778,3778,3778,3778,3778,3778,3778,3778,3778,3778,3778,3778,3778,3778,3778,3778,3778,3778,3778,3778,3778,3778,3778,3778,3778,3778,3778,3778,3778,3778,3778,3778,3778,3778,3778,3778,3778,3778,3778,3778,3778,3778,3778,3778,3778,3778,3778,3778,3778,3778,3778,3778,3778,3778,3778,3778,3778,3778,3778,3778,3778,3778,3778,3778,3778,3778,3778,3778,3778,3778,3778,3778,3778,3778,3778,3778,3778,3778,3778,3778,3778,3778,3778,3778,3778,3778,3778,3778,3778,3778,3778,3778,3778,3778,3778,3778,3778,3778,3778,3774,3765,3765,3765,3765,3765,3765,3765,3765,3765,3765,3765,3765,3765,3765,3763,3763,3763,3763,3762,3762,3762,3762,3762,3762,3762,3762,3762,3758,3757,3756,3756,3756,3756,3756,3756,3756,3756,3756,3754,3754,3754,3754,3754,3754,3754,3754,3749,3746,3745,3741,3708,3705,3705,3705,3705,3705,3705,3705,3694,3658,3557,3524,3386,3376,3376,3376,3376,3376,3376,3376,3376,3376,3376,3376,3376,3376,3376,3376,3376,3376,3376,3376,3376,3376,3376,3376,3376,3376,3376,3376,3376,3376,3376,3376,3376,3376,3376,3376,3376,3376,3376,3376,3376,3376,3376,3376,3376,3376,3376,3376,3376,3376,3376,3376,3376,3376,3376,3376,3374,3374,3374,3374,3374,3374,3370,3370,3369,3359,3359,3339,3332,3291,3263,3174,3154,3154,3154,3154,3154,3154,3154,3114,3069,3069,3069,3069,3069,3069,3069,3069,3069,3069,3069,3069,3069,3069,3067,3067,3067,3067,3067,3066,3062,3051,3030,2972,2972,2972,2972,2972,2972,2972,2972,2972,2972,2972,2972,2972,2972,2972,2969,2969,2969,2969,2969,2969,2969,2969,2969,2969,2969,2969,2969,2969,2969,2969,2969,2969,2969,2966,2958,2958,2958,2958,2958,2958,2958,2958,2958,2958,2958,2958,2958,2958,2958,2958,2958,2958,2958,2958,2958,2958,2958,2958,2958,2958,2958,2958,2958,2958,2958,2958,2958,2957,2957,2957,2957,2957,2957,2957,2957,2952,2952,2949,2944,2944,2944,2944,2943,2943,2943,2943,2943,2935,2927,2921,2921,2918,2918,2900,2877,2875,2868,2858,2739,2687,2687,2687,2687,2687,2687,2687,2687,2687,2687,2687,2687,2682,2633,2627,2622,2606,2605,2605,2605,2602,2602,2601,2601,2599,2529,2380,2323,2323,2224,2224,2196,2173,2145,2145,2136,2124,2011,2011,1962,1931,1918,1918,1918,1918,1918,1918,1918,1918,1918,1918,1918,1918,1916,1905,1905,1898,1896,1894,1825,1746,1721,1721,1721,1721,1721,1721,1721,1721,1721,1721,1721,1721,1721,1721,1721,1721,1721,1710,1699,1694,1694,1686,1610,1501,1369,1247,1237,1237,1232,1215,1078,930,865,865,865,865,865,865,865,865,865,854,809,740,723,722,720,634,634,629,629,596,569,569,491,462,462,458,441,373,279,249,234,211,127,1]}},\"id\":\"d10fa7d3-f641-4c03-aa08-90a7db0e4fa3\",\"type\":\"ColumnDataSource\"},{\"attributes\":{\"axis_label\":\"States visited\",\"formatter\":{\"id\":\"f3f761e3-4442-4009-b926-221f49b36f02\",\"type\":\"BasicTickFormatter\"},\"plot\":{\"id\":\"84f1b12a-8a36-4631-8497-d31f36a5010c\",\"subtype\":\"Figure\",\"type\":\"Plot\"},\"ticker\":{\"id\":\"1b243fe8-d939-4392-8767-f17f0cc744f8\",\"type\":\"BasicTicker\"}},\"id\":\"44ae3537-e387-42f5-9be1-4280eba8305d\",\"type\":\"LinearAxis\"},{\"attributes\":{\"label\":{\"value\":\"0.5 Alpha 8 NScaler 1 Bandit\"},\"renderers\":[{\"id\":\"0e1fbdb7-e2da-4522-92e4-20a4cd582532\",\"type\":\"GlyphRenderer\"}]},\"id\":\"d22632ae-bb63-401f-9311-35cc858ddd3f\",\"type\":\"LegendItem\"},{\"attributes\":{},\"id\":\"e7bf811e-6d60-41e0-b06f-a5ab88c3002c\",\"type\":\"BasicTicker\"},{\"attributes\":{\"callback\":null,\"column_names\":[\"x\",\"y\"],\"data\":{\"x\":[0,1000,2000,3000,4000,5000,6000,7000,8000,9000,10000,11000,12000,13000,14000,15000,16000,17000,18000,19000,20000,21000,22000,23000,24000,25000,26000,27000,28000,29000,30000,31000,32000,33000,34000,35000,36000,37000,38000,39000,40000,41000,42000,43000,44000,45000,46000,47000,48000,49000,50000,51000,52000,53000,54000,55000,56000,57000,58000,59000,60000,61000,62000,63000,64000,65000,66000,67000,68000,69000,70000,71000,72000,73000,74000,75000,76000,77000,78000,79000,80000,81000,82000,83000,84000,85000,86000,87000,88000,89000,90000,91000,92000,93000,94000,95000,96000,97000,98000,99000,100000,101000,102000,103000,104000,105000,106000,107000,108000,109000,110000,111000,112000,113000,114000,115000,116000,117000,118000,119000,120000,121000,122000,123000,124000,125000,126000,127000,128000,129000,130000,131000,132000,133000,134000,135000,136000,137000,138000,139000,140000,141000,142000,143000,144000,145000,146000,147000,148000,149000,150000,151000,152000,153000,154000,155000,156000,157000,158000,159000,160000,161000,162000,163000,164000,165000,166000,167000,168000,169000,170000,171000,172000,173000,174000,175000,176000,177000,178000,179000,180000,181000,182000,183000,184000,185000,186000,187000,188000,189000,190000,191000,192000,193000,194000,195000,196000,197000,198000,199000,200000,201000,202000,203000,204000,205000,206000,207000,208000,209000,210000,211000,212000,213000,214000,215000,216000,217000,218000,219000,220000,221000,222000,223000,224000,225000,226000,227000,228000,229000,230000,231000,232000,233000,234000,235000,236000,237000,238000,239000,240000,241000,242000,243000,244000,245000,246000,247000,248000,249000,250000,251000,252000,253000,254000,255000,256000,257000,258000,259000,260000,261000,262000,263000,264000,265000,266000,267000,268000,269000,270000,271000,272000,273000,274000,275000,276000,277000,278000,279000,280000,281000,282000,283000,284000,285000,286000,287000,288000,289000,290000,291000,292000,293000,294000,295000,296000,297000,298000,299000,300000,301000,302000,303000,304000,305000,306000,307000,308000,309000,310000,311000,312000,313000,314000,315000,316000,317000,318000,319000,320000,321000,322000,323000,324000,325000,326000,327000,328000,329000,330000,331000,332000,333000,334000,335000,336000,337000,338000,339000,340000,341000,342000,343000,344000,345000,346000,347000,348000,349000,350000,351000,352000,353000,354000,355000,356000,357000,358000,359000,360000,361000,362000,363000,364000,365000,366000,367000,368000,369000,370000,371000,372000,373000,374000,375000,376000,377000,378000,379000,380000,381000,382000,383000,384000,385000,386000,387000,388000,389000,390000,391000,392000,393000,394000,395000,396000,397000,398000,399000,400000,401000,402000,403000,404000,405000,406000,407000,408000,409000,410000,411000,412000,413000,414000,415000,416000,417000,418000,419000,420000,421000,422000,423000,424000,425000,426000,427000,428000,429000,430000,431000,432000,433000,434000,435000,436000,437000,438000,439000,440000,441000,442000,443000,444000,445000,446000,447000,448000,449000,450000,451000,452000,453000,454000,455000,456000,457000,458000,459000,460000,461000,462000,463000,464000,465000,466000,467000,468000,469000,470000,471000,472000,473000,474000,475000,476000,477000,478000,479000,480000,481000,482000,483000,484000,485000,486000,487000,488000,489000,490000,491000,492000,493000,494000,495000,496000,497000,498000,499000,500000,501000,502000,503000,504000,505000,506000,507000,508000,509000,510000,511000,512000,513000,514000,515000,516000,517000,518000,519000,520000,521000,522000,523000,524000,525000,526000,527000,528000,529000,530000,531000,532000,533000,534000,535000,536000,537000,538000,539000,540000,541000,542000,543000,544000,545000,546000,547000,548000,549000,550000,551000,552000,553000,554000,555000,556000,557000,558000,559000,560000,561000,562000,563000,564000,565000,566000,567000,568000,569000,570000,571000,572000,573000,574000,575000,576000,577000,578000,579000,580000,581000,582000,583000,584000,585000,586000,587000,588000,589000,590000,591000,592000,593000,594000,595000,596000,597000,598000,599000,600000],\"y\":{\"__ndarray__\":\"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\",\"dtype\":\"float64\",\"shape\":[600]}}},\"id\":\"ea97ed44-32fe-44a1-879f-d363e2984a96\",\"type\":\"ColumnDataSource\"},{\"attributes\":{},\"id\":\"f3f761e3-4442-4009-b926-221f49b36f02\",\"type\":\"BasicTickFormatter\"},{\"attributes\":{\"data_source\":{\"id\":\"d4017a57-6ff2-40c9-939f-34b00f1f095f\",\"type\":\"ColumnDataSource\"},\"glyph\":{\"id\":\"a48c592d-82c3-430e-bb7e-020deaa4664e\",\"type\":\"Patch\"},\"hover_glyph\":null,\"nonselection_glyph\":{\"id\":\"7df23a68-baac-4f36-91c5-c7b7b374a7f3\",\"type\":\"Patch\"},\"selection_glyph\":null},\"id\":\"081bb2c7-0306-4e14-8c74-8abece1c5852\",\"type\":\"GlyphRenderer\"},{\"attributes\":{},\"id\":\"a2c62f84-fd54-4fba-a206-d92e20e781af\",\"type\":\"ToolEvents\"},{\"attributes\":{\"callback\":null,\"column_names\":[\"x\",\"y\"],\"data\":{\"x\":[0,1000,2000,3000,4000,5000,6000,7000,8000,9000,10000,11000,12000,13000,14000,15000,16000,17000,18000,19000,20000,21000,22000,23000,24000,25000,26000,27000,28000,29000,30000,31000,32000,33000,34000,35000,36000,37000,38000,39000,40000,41000,42000,43000,44000,45000,46000,47000,48000,49000,50000,51000,52000,53000,54000,55000,56000,57000,58000,59000,60000,61000,62000,63000,64000,65000,66000,67000,68000,69000,70000,71000,72000,73000,74000,75000,76000,77000,78000,79000,80000,81000,82000,83000,84000,85000,86000,87000,88000,89000,90000,91000,92000,93000,94000,95000,96000,97000,98000,99000,100000,101000,102000,103000,104000,105000,106000,107000,108000,109000,110000,111000,112000,113000,114000,115000,116000,117000,118000,119000,120000,121000,122000,123000,124000,125000,126000,127000,128000,129000,130000,131000,132000,133000,134000,135000,136000,137000,138000,139000,140000,141000,142000,143000,144000,145000,146000,147000,148000,149000,150000,151000,152000,153000,154000,155000,156000,157000,158000,159000,160000,161000,162000,163000,164000,165000,166000,167000,168000,169000,170000,171000,172000,173000,174000,175000,176000,177000,178000,179000,180000,181000,182000,183000,184000,185000,186000,187000,188000,189000,190000,191000,192000,193000,194000,195000,196000,197000,198000,199000,200000,201000,202000,203000,204000,205000,206000,207000,208000,209000,210000,211000,212000,213000,214000,215000,216000,217000,218000,219000,220000,221000,222000,223000,224000,225000,226000,227000,228000,229000,230000,231000,232000,233000,234000,235000,236000,237000,238000,239000,240000,241000,242000,243000,244000,245000,246000,247000,248000,249000,250000,251000,252000,253000,254000,255000,256000,257000,258000,259000,260000,261000,262000,263000,264000,265000,266000,267000,268000,269000,270000,271000,272000,273000,274000,275000,276000,277000,278000,279000,280000,281000,282000,283000,284000,285000,286000,287000,288000,289000,290000,291000,292000,293000,294000,295000,296000,297000,298000,299000,300000,301000,302000,303000,304000,305000,306000,307000,308000,309000,310000,311000,312000,313000,314000,315000,316000,317000,318000,319000,320000,321000,322000,323000,324000,325000,326000,327000,328000,329000,330000,331000,332000,333000,334000,335000,336000,337000,338000,339000,340000,341000,342000,343000,344000,345000,346000,347000,348000,349000,350000,351000,352000,353000,354000,355000,356000,357000,358000,359000,360000,361000,362000,363000,364000,365000,366000,367000,368000,369000,370000,371000,372000,373000,374000,375000,376000,377000,378000,379000,380000,381000,382000,383000,384000,385000,386000,387000,388000,389000,390000,391000,392000,393000,394000,395000,396000,397000,398000,399000,400000,401000,402000,403000,404000,405000,406000,407000,408000,409000,410000,411000,412000,413000,414000,415000,416000,417000,418000,419000,420000,421000,422000,423000,424000,425000,426000,427000,428000,429000,430000,431000,432000,433000,434000,435000,436000,437000,438000,439000,440000,441000,442000,443000,444000,445000,446000,447000,448000,449000,450000,451000,452000,453000,454000,455000,456000,457000,458000,459000,460000,461000,462000,463000,464000,465000,466000,467000,468000,469000,470000,471000,472000,473000,474000,475000,476000,477000,478000,479000,480000,481000,482000,483000,484000,485000,486000,487000,488000,489000,490000,491000,492000,493000,494000,495000,496000,497000,498000,499000,500000,501000,502000,503000,504000,505000,506000,507000,508000,509000,510000,511000,512000,513000,514000,515000,516000,517000,518000,519000,520000,521000,522000,523000,524000,525000,526000,527000,528000,529000,530000,531000,532000,533000,534000,535000,536000,537000,538000,539000,540000,541000,542000,543000,544000,545000,546000,547000,548000,549000,550000,551000,552000,553000,554000,555000,556000,557000,558000,559000,560000,561000,562000,563000,564000,565000,566000,567000,568000,569000,570000,571000,572000,573000,574000,575000,576000,577000,578000,579000,580000,581000,582000,583000,584000,585000,586000,587000,588000,589000,590000,591000,592000,593000,594000,595000,596000,597000,598000,599000,600000],\"y\":{\"__ndarray__\":\"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\",\"dtype\":\"float64\",\"shape\":[600]}}},\"id\":\"7f23792b-66f0-4d27-9ffb-d23208a6c378\",\"type\":\"ColumnDataSource\"},{\"attributes\":{\"overlay\":{\"id\":\"e8831a3b-034e-4ffa-a4a7-98ed1103a742\",\"type\":\"BoxAnnotation\"},\"plot\":{\"id\":\"84f1b12a-8a36-4631-8497-d31f36a5010c\",\"subtype\":\"Figure\",\"type\":\"Plot\"}},\"id\":\"d03fa92c-a950-41aa-a722-aa026207853b\",\"type\":\"BoxZoomTool\"},{\"attributes\":{\"fill_alpha\":{\"value\":0.1},\"fill_color\":{\"value\":\"#1f77b4\"},\"line_alpha\":{\"value\":0.1},\"line_color\":{\"value\":\"#1f77b4\"},\"x\":{\"field\":\"x\"},\"y\":{\"field\":\"y\"}},\"id\":\"ebf8bb3d-ff3e-4608-bb74-19a49f041fa0\",\"type\":\"Patch\"},{\"attributes\":{\"data_source\":{\"id\":\"d10fa7d3-f641-4c03-aa08-90a7db0e4fa3\",\"type\":\"ColumnDataSource\"},\"glyph\":{\"id\":\"1650c800-3817-4263-a2f2-13fa725bafea\",\"type\":\"Patch\"},\"hover_glyph\":null,\"nonselection_glyph\":{\"id\":\"86a643a6-3556-4dc1-ae0c-d31d063a965d\",\"type\":\"Patch\"},\"selection_glyph\":null},\"id\":\"8284ae21-46cc-41cf-8c40-20544abdb2fd\",\"type\":\"GlyphRenderer\"},{\"attributes\":{\"below\":[{\"id\":\"f5fbdfa7-02dc-4bd3-a17e-e5f81807d3dc\",\"type\":\"LinearAxis\"}],\"left\":[{\"id\":\"44ae3537-e387-42f5-9be1-4280eba8305d\",\"type\":\"LinearAxis\"}],\"plot_height\":800,\"plot_width\":1200,\"renderers\":[{\"id\":\"f5fbdfa7-02dc-4bd3-a17e-e5f81807d3dc\",\"type\":\"LinearAxis\"},{\"id\":\"4b38254c-32d8-4c9b-aec1-045bb11e08d8\",\"type\":\"Grid\"},{\"id\":\"44ae3537-e387-42f5-9be1-4280eba8305d\",\"type\":\"LinearAxis\"},{\"id\":\"836562f2-bb43-42f7-a82c-d9b0536a914c\",\"type\":\"Grid\"},{\"id\":\"e8831a3b-034e-4ffa-a4a7-98ed1103a742\",\"type\":\"BoxAnnotation\"},{\"id\":\"8284ae21-46cc-41cf-8c40-20544abdb2fd\",\"type\":\"GlyphRenderer\"},{\"id\":\"5b38af25-9da6-4020-a703-3b822aa0b937\",\"type\":\"GlyphRenderer\"},{\"id\":\"081bb2c7-0306-4e14-8c74-8abece1c5852\",\"type\":\"GlyphRenderer\"},{\"id\":\"a03a15ce-11c0-44f9-8a96-0d3b08d43cd4\",\"type\":\"GlyphRenderer\"},{\"id\":\"18139bfb-74b9-4011-a82e-56122aeeb3a5\",\"type\":\"GlyphRenderer\"},{\"id\":\"0e1fbdb7-e2da-4522-92e4-20a4cd582532\",\"type\":\"GlyphRenderer\"},{\"id\":\"feb7baa9-53db-47b7-b708-c8f705a0cfad\",\"type\":\"GlyphRenderer\"},{\"id\":\"0c63b02d-94cb-4429-8252-586923332be0\",\"type\":\"GlyphRenderer\"},{\"id\":\"8c707e17-413f-44fa-bd8b-5b2c65e626e3\",\"type\":\"Legend\"}],\"right\":[{\"id\":\"8c707e17-413f-44fa-bd8b-5b2c65e626e3\",\"type\":\"Legend\"}],\"title\":{\"id\":\"d16fc755-80b0-4fd4-9b58-d1cab024e4de\",\"type\":\"Title\"},\"tool_events\":{\"id\":\"a2c62f84-fd54-4fba-a206-d92e20e781af\",\"type\":\"ToolEvents\"},\"toolbar\":{\"id\":\"4d5685f2-ce60-4a91-bb67-992034c73fb2\",\"type\":\"Toolbar\"},\"toolbar_location\":\"above\",\"x_range\":{\"id\":\"826daeea-0788-42a9-86b4-f929ed5fbb5f\",\"type\":\"DataRange1d\"},\"y_range\":{\"id\":\"24bea785-a372-4346-ab54-857b4d11931c\",\"type\":\"DataRange1d\"}},\"id\":\"84f1b12a-8a36-4631-8497-d31f36a5010c\",\"subtype\":\"Figure\",\"type\":\"Plot\"},{\"attributes\":{\"plot\":null,\"text\":\"Med Maze 14 Prioritized Bandit Scaling\"},\"id\":\"d16fc755-80b0-4fd4-9b58-d1cab024e4de\",\"type\":\"Title\"},{\"attributes\":{\"data_source\":{\"id\":\"7f23792b-66f0-4d27-9ffb-d23208a6c378\",\"type\":\"ColumnDataSource\"},\"glyph\":{\"id\":\"474ed920-3a96-45b1-bb42-d08662e2b8eb\",\"type\":\"Line\"},\"hover_glyph\":null,\"nonselection_glyph\":{\"id\":\"3b16c22e-6583-4f14-9ef5-1d5309c50d8a\",\"type\":\"Line\"},\"selection_glyph\":null},\"id\":\"a03a15ce-11c0-44f9-8a96-0d3b08d43cd4\",\"type\":\"GlyphRenderer\"},{\"attributes\":{\"plot\":{\"id\":\"84f1b12a-8a36-4631-8497-d31f36a5010c\",\"subtype\":\"Figure\",\"type\":\"Plot\"}},\"id\":\"591fee2b-d4f8-4a5b-8b5e-58343446ac8d\",\"type\":\"WheelZoomTool\"},{\"attributes\":{\"active_drag\":\"auto\",\"active_scroll\":\"auto\",\"active_tap\":\"auto\",\"tools\":[{\"id\":\"d23169a4-62a5-49e0-a48a-ef91d2768fca\",\"type\":\"PanTool\"},{\"id\":\"591fee2b-d4f8-4a5b-8b5e-58343446ac8d\",\"type\":\"WheelZoomTool\"},{\"id\":\"d03fa92c-a950-41aa-a722-aa026207853b\",\"type\":\"BoxZoomTool\"},{\"id\":\"8c31dac8-7d5c-4db4-b9e9-ad663cc8bfbe\",\"type\":\"SaveTool\"},{\"id\":\"f1898ac5-d4b2-41c4-9054-f09fbe5b9b11\",\"type\":\"ResetTool\"},{\"id\":\"f778e2e0-690d-488e-a7e3-d2212efa6fec\",\"type\":\"HelpTool\"}]},\"id\":\"4d5685f2-ce60-4a91-bb67-992034c73fb2\",\"type\":\"Toolbar\"},{\"attributes\":{\"fill_alpha\":{\"value\":0.1},\"fill_color\":{\"value\":\"#1f77b4\"},\"line_alpha\":{\"value\":0.1},\"line_color\":{\"value\":\"#1f77b4\"},\"x\":{\"field\":\"x\"},\"y\":{\"field\":\"y\"}},\"id\":\"7df23a68-baac-4f36-91c5-c7b7b374a7f3\",\"type\":\"Patch\"},{\"attributes\":{\"callback\":null,\"column_names\":[\"x\",\"y\"],\"data\":{\"x\":[0,1000,2000,3000,4000,5000,6000,7000,8000,9000,10000,11000,12000,13000,14000,15000,16000,17000,18000,19000,20000,21000,22000,23000,24000,25000,26000,27000,28000,29000,30000,31000,32000,33000,34000,35000,36000,37000,38000,39000,40000,41000,42000,43000,44000,45000,46000,47000,48000,49000,50000,51000,52000,53000,54000,55000,56000,57000,58000,59000,60000,61000,62000,63000,64000,65000,66000,67000,68000,69000,70000,71000,72000,73000,74000,75000,76000,77000,78000,79000,80000,81000,82000,83000,84000,85000,86000,87000,88000,89000,90000,91000,92000,93000,94000,95000,96000,97000,98000,99000,100000,101000,102000,103000,104000,105000,106000,107000,108000,109000,110000,111000,112000,113000,114000,115000,116000,117000,118000,119000,120000,121000,122000,123000,124000,125000,126000,127000,128000,129000,130000,131000,132000,133000,134000,135000,136000,137000,138000,139000,140000,141000,142000,143000,144000,145000,146000,147000,148000,149000,150000,151000,152000,153000,154000,155000,156000,157000,158000,159000,160000,161000,162000,163000,164000,165000,166000,167000,168000,169000,170000,171000,172000,173000,174000,175000,176000,177000,178000,179000,180000,181000,182000,183000,184000,185000,186000,187000,188000,189000,190000,191000,192000,193000,194000,195000,196000,197000,198000,199000,200000,201000,202000,203000,204000,205000,206000,207000,208000,209000,210000,211000,212000,213000,214000,215000,216000,217000,218000,219000,220000,221000,222000,223000,224000,225000,226000,227000,228000,229000,230000,231000,232000,233000,234000,235000,236000,237000,238000,239000,240000,241000,242000,243000,244000,245000,246000,247000,248000,249000,250000,251000,252000,253000,254000,255000,256000,257000,258000,259000,260000,261000,262000,263000,264000,265000,266000,267000,268000,269000,270000,271000,272000,273000,274000,275000,276000,277000,278000,279000,280000,281000,282000,283000,284000,285000,286000,287000,288000,289000,290000,291000,292000,293000,294000,295000,296000,297000,298000,299000,300000,301000,302000,303000,304000,305000,306000,307000,308000,309000,310000,311000,312000,313000,314000,315000,316000,317000,318000,319000,320000,321000,322000,323000,324000,325000,326000,327000,328000,329000,330000,331000,332000,333000,334000,335000,336000,337000,338000,339000,340000,341000,342000,343000,344000,345000,346000,347000,348000,349000,350000,351000,352000,353000,354000,355000,356000,357000,358000,359000,360000,361000,362000,363000,364000,365000,366000,367000,368000,369000,370000,371000,372000,373000,374000,375000,376000,377000,378000,379000,380000,381000,382000,383000,384000,385000,386000,387000,388000,389000,390000,391000,392000,393000,394000,395000,396000,397000,398000,399000,400000,401000,402000,403000,404000,405000,406000,407000,408000,409000,410000,411000,412000,413000,414000,415000,416000,417000,418000,419000,420000,421000,422000,423000,424000,425000,426000,427000,428000,429000,430000,431000,432000,433000,434000,435000,436000,437000,438000,439000,440000,441000,442000,443000,444000,445000,446000,447000,448000,449000,450000,451000,452000,453000,454000,455000,456000,457000,458000,459000,460000,461000,462000,463000,464000,465000,466000,467000,468000,469000,470000,471000,472000,473000,474000,475000,476000,477000,478000,479000,480000,481000,482000,483000,484000,485000,486000,487000,488000,489000,490000,491000,492000,493000,494000,495000,496000,497000,498000,499000,500000,501000,502000,503000,504000,505000,506000,507000,508000,509000,510000,511000,512000,513000,514000,515000,516000,517000,518000,519000,520000,521000,522000,523000,524000,525000,526000,527000,528000,529000,530000,531000,532000,533000,534000,535000,536000,537000,538000,539000,540000,541000,542000,543000,544000,545000,546000,547000,548000,549000,550000,551000,552000,553000,554000,555000,556000,557000,558000,559000,560000,561000,562000,563000,564000,565000,566000,567000,568000,569000,570000,571000,572000,573000,574000,575000,576000,577000,578000,579000,580000,581000,582000,583000,584000,585000,586000,587000,588000,589000,590000,591000,592000,593000,594000,595000,596000,597000,598000,599000,600000,600000,599000,598000,597000,596000,595000,594000,593000,592000,591000,590000,589000,588000,587000,586000,585000,584000,583000,582000,581000,580000,579000,578000,577000,576000,575000,574000,573000,572000,571000,570000,569000,568000,567000,566000,565000,564000,563000,562000,561000,560000,559000,558000,557000,556000,555000,554000,553000,552000,551000,550000,549000,548000,547000,546000,545000,544000,543000,542000,541000,540000,539000,538000,537000,536000,535000,534000,533000,532000,531000,530000,529000,528000,527000,526000,525000,524000,523000,522000,521000,520000,519000,518000,517000,516000,515000,514000,513000,512000,511000,510000,509000,508000,507000,506000,505000,504000,503000,502000,501000,500000,499000,498000,497000,496000,495000,494000,493000,492000,491000,490000,489000,488000,487000,486000,485000,484000,483000,482000,481000,480000,479000,478000,477000,476000,475000,474000,473000,472000,471000,470000,469000,468000,467000,466000,465000,464000,463000,462000,461000,460000,459000,458000,457000,456000,455000,454000,453000,452000,451000,450000,449000,448000,447000,446000,445000,444000,443000,442000,441000,440000,439000,438000,437000,436000,435000,434000,433000,432000,431000,430000,429000,428000,427000,426000,425000,424000,423000,422000,421000,420000,419000,418000,417000,416000,415000,414000,413000,412000,411000,410000,409000,408000,407000,406000,405000,404000,403000,402000,401000,400000,399000,398000,397000,396000,395000,394000,393000,392000,391000,390000,389000,388000,387000,386000,385000,384000,383000,382000,381000,380000,379000,378000,377000,376000,375000,374000,373000,372000,371000,370000,369000,368000,367000,366000,365000,364000,363000,362000,361000,360000,359000,358000,357000,356000,355000,354000,353000,352000,351000,350000,349000,348000,347000,346000,345000,344000,343000,342000,341000,340000,339000,338000,337000,336000,335000,334000,333000,332000,331000,330000,329000,328000,327000,326000,325000,324000,323000,322000,321000,320000,319000,318000,317000,316000,315000,314000,313000,312000,311000,310000,309000,308000,307000,306000,305000,304000,303000,302000,301000,300000,299000,298000,297000,296000,295000,294000,293000,292000,291000,290000,289000,288000,287000,286000,285000,284000,283000,282000,281000,280000,279000,278000,277000,276000,275000,274000,273000,272000,271000,270000,269000,268000,267000,266000,265000,264000,263000,262000,261000,260000,259000,258000,257000,256000,255000,254000,253000,252000,251000,250000,249000,248000,247000,246000,245000,244000,243000,242000,241000,240000,239000,238000,237000,236000,235000,234000,233000,232000,231000,230000,229000,228000,227000,226000,225000,224000,223000,222000,221000,220000,219000,218000,217000,216000,215000,214000,213000,212000,211000,210000,209000,208000,207000,206000,205000,204000,203000,202000,201000,200000,199000,198000,197000,196000,195000,194000,193000,192000,191000,190000,189000,188000,187000,186000,185000,184000,183000,182000,181000,180000,179000,178000,177000,176000,175000,174000,173000,172000,171000,170000,169000,168000,167000,166000,165000,164000,163000,162000,161000,160000,159000,158000,157000,156000,155000,154000,153000,152000,151000,150000,149000,148000,147000,146000,145000,144000,143000,142000,141000,140000,139000,138000,137000,136000,135000,134000,133000,132000,131000,130000,129000,128000,127000,126000,125000,124000,123000,122000,121000,120000,119000,118000,117000,116000,115000,114000,113000,112000,111000,110000,109000,108000,107000,106000,105000,104000,103000,102000,101000,100000,99000,98000,97000,96000,95000,94000,93000,92000,91000,90000,89000,88000,87000,86000,85000,84000,83000,82000,81000,80000,79000,78000,77000,76000,75000,74000,73000,72000,71000,70000,69000,68000,67000,66000,65000,64000,63000,62000,61000,60000,59000,58000,57000,56000,55000,54000,53000,52000,51000,50000,49000,48000,47000,46000,45000,44000,43000,42000,41000,40000,39000,38000,37000,36000,35000,34000,33000,32000,31000,30000,29000,28000,27000,26000,25000,24000,23000,22000,21000,20000,19000,18000,17000,16000,15000,14000,13000,12000,11000,10000,9000,8000,7000,6000,5000,4000,3000,2000,1000,0],\"y\":[1,30,80,93,103,152,193,226,256,260,260,274,364,394,394,408,408,408,416,416,416,418,418,467,543,557,557,557,557,557,557,557,557,558,588,589,596,603,603,603,603,603,603,603,603,603,603,603,603,603,603,603,603,603,603,603,603,605,605,605,605,605,605,605,605,615,615,615,615,615,630,649,649,649,649,649,649,649,649,649,649,653,677,677,677,677,677,677,677,677,701,701,705,715,732,733,740,740,748,748,748,748,748,748,754,754,754,754,754,755,763,763,763,763,771,771,771,771,771,781,781,781,781,782,782,782,782,782,782,782,782,782,782,782,782,782,782,827,827,827,827,827,827,827,827,827,827,827,827,827,827,827,827,827,827,827,827,827,827,827,827,827,834,836,836,860,860,861,862,862,862,862,862,862,862,862,862,862,862,862,862,862,862,863,871,882,882,882,898,906,911,911,911,944,965,977,977,977,977,977,977,977,977,977,977,978,978,978,988,988,994,994,1024,1024,1051,1073,1074,1074,1074,1074,1074,1074,1074,1074,1074,1132,1156,1164,1172,1179,1196,1196,1196,1196,1196,1196,1196,1215,1225,1225,1225,1225,1225,1235,1236,1236,1236,1236,1236,1236,1236,1236,1236,1236,1236,1240,1240,1240,1240,1240,1240,1291,1293,1313,1313,1313,1315,1315,1315,1321,1327,1327,1327,1348,1365,1399,1461,1513,1569,1599,1622,1657,1663,1745,1762,1830,1845,1845,1904,1910,1938,1940,1940,1940,1941,1941,1941,1941,1941,1941,1944,2007,2019,2019,2019,2019,2019,2019,2019,2021,2095,2134,2177,2191,2228,2241,2244,2247,2247,2247,2247,2247,2247,2247,2247,2247,2247,2252,2258,2258,2258,2258,2258,2258,2258,2258,2258,2288,2288,2314,2344,2351,2351,2407,2407,2407,2407,2407,2407,2407,2407,2407,2407,2407,2407,2408,2431,2433,2433,2433,2433,2433,2433,2433,2433,2433,2439,2439,2439,2439,2439,2439,2439,2439,2439,2439,2439,2439,2439,2439,2439,2439,2439,2439,2439,2439,2439,2439,2439,2439,2439,2439,2439,2439,2439,2439,2439,2439,2439,2439,2439,2439,2439,2439,2439,2439,2439,2439,2439,2439,2439,2439,2439,2439,2439,2439,2439,2439,2439,2439,2439,2439,2439,2439,2439,2439,2439,2439,2439,2439,2439,2439,2439,2439,2439,2439,2439,2439,2439,2439,2439,2439,2439,2439,2439,2439,2439,2439,2439,2439,2439,2439,2439,2439,2439,2439,2439,2439,2439,2439,2439,2439,2439,2439,2439,2439,2439,2439,2439,2439,2439,2439,2439,2439,2439,2439,2439,2439,2439,2439,2439,2439,2439,2439,2439,2439,2439,2439,2439,2439,2439,2439,2439,2439,2439,2439,2439,2439,2439,2439,2439,2439,2439,2439,2439,2439,2439,2439,2439,2439,2439,2439,2439,2439,2439,2439,2439,2439,2439,2439,2439,2439,2439,2439,2439,2439,2439,2439,2439,2439,2439,2439,2439,2439,2439,2439,2439,2439,2439,2439,2439,2439,2439,2439,2439,2447,2523,2542,2543,2546,2554,2555,2556,2558,2566,2596,2609,2609,2609,2642,2684,2766,2833,2859,2879,2883,2883,2883,2883,2883,2883,2883,2883,2883,2883,2883,2883,2883,2883,2883,2883,2883,2883,2883,2883,2883,2883,2883,2886,2914,2914,2918,2928,2943,2943,2943,2943,2943,2943,2943,3778,3778,3778,3778,3778,3778,3778,3778,3778,3778,3778,3778,3778,3778,3778,3778,3778,3778,3778,3778,3778,3778,3778,3778,3778,3778,3778,3778,3778,3778,3778,3778,3778,3778,3778,3778,3778,3778,3778,3778,3778,3778,3778,3778,3778,3778,3778,3778,3778,3778,3778,3778,3778,3778,3778,3778,3778,3778,3778,3778,3778,3778,3778,3778,3778,3778,3778,3778,3778,3778,3778,3778,3778,3778,3778,3778,3778,3778,3778,3778,3778,3778,3778,3778,3778,3778,3778,3778,3778,3778,3778,3778,3778,3778,3778,3778,3778,3778,3778,3778,3778,3778,3778,3778,3778,3778,3778,3778,3778,3778,3778,3778,3774,3774,3774,3774,3774,3774,3774,3774,3774,3774,3774,3771,3766,3763,3763,3763,3763,3763,3763,3763,3763,3763,3763,3763,3763,3763,3763,3763,3757,3752,3751,3751,3751,3751,3751,3751,3751,3751,3746,3746,3746,3746,3746,3746,3746,3746,3746,3679,3631,3590,3590,3572,3572,3572,3572,3572,3572,3572,3572,3572,3572,3572,3572,3572,3572,3572,3572,3572,3572,3572,3572,3572,3572,3572,3572,3572,3572,3572,3572,3572,3571,3571,3571,3571,3571,3571,3571,3571,3571,3571,3571,3571,3571,3571,3571,3571,3570,3570,3556,3555,3554,3553,3524,3484,3472,3472,3472,3472,3472,3472,3472,3472,3472,3472,3472,3472,3472,3472,3472,3472,3472,3472,3470,3469,3463,3448,3427,3410,3344,3344,3311,3299,3299,3299,3299,3299,3299,3299,3299,3299,3299,3299,3299,3299,3299,3295,3295,3295,3295,3291,3291,3253,3253,3253,3253,3252,3244,3243,3242,3242,3242,3242,3242,3242,3242,3242,3242,3242,3242,3242,3242,3242,3242,3242,3242,3242,3242,3242,3242,3242,3242,3242,3242,3242,3242,3242,3242,3242,3242,3242,3242,3242,3242,3242,3242,3242,3242,3242,3242,3242,3242,3242,3242,3241,3238,3208,3180,3180,3180,3180,3180,3180,3180,3180,3180,3180,3180,3180,3180,3180,3180,3179,3179,3179,3152,3141,3105,3061,3035,3020,3019,3019,3019,3019,3019,3019,3019,3019,3019,3019,3019,3019,3019,3011,3011,2981,2936,2890,2890,2890,2859,2822,2820,2819,2819,2819,2819,2819,2819,2819,2819,2819,2819,2819,2819,2819,2819,2819,2819,2809,2791,2791,2791,2752,2731,2731,2731,2731,2731,2731,2731,2731,2731,2731,2731,2731,2731,2731,2731,2731,2731,2731,2731,2731,2731,2731,2731,2726,2716,2669,2623,2592,2549,2549,2549,2549,2549,2549,2549,2549,2549,2549,2520,2508,2508,2508,2508,2468,2465,2412,2397,2371,2347,2324,2213,2134,2134,2134,2134,2125,2053,2053,2034,2015,2015,2015,2015,2015,2015,2015,2015,2011,2011,1989,1989,1979,1978,1938,1924,1917,1878,1850,1848,1848,1847,1841,1834,1823,1823,1823,1823,1823,1823,1823,1823,1823,1823,1823,1823,1823,1823,1823,1823,1823,1823,1823,1823,1823,1823,1823,1823,1823,1823,1823,1823,1823,1823,1823,1823,1823,1807,1806,1797,1730,1639,1618,1618,1618,1618,1618,1576,1482,1469,1419,1400,1338,1336,1336,1336,1336,1336,1336,1336,1336,1335,1321,1321,1321,1318,1316,1307,1282,1282,1282,1278,1278,1271,1271,1271,1271,1271,1271,1271,1271,1271,1271,1271,1271,1271,1262,1243,1228,1180,1167,1108,1098,1068,982,936,936,936,935,934,934,928,928,928,928,926,926,926,926,926,888,806,732,702,702,701,701,700,664,633,620,588,546,453,368,366,356,351,294,240,219,153,134,70,1]}},\"id\":\"89303bc6-cd4f-4eba-8d51-12d0773402fb\",\"type\":\"ColumnDataSource\"},{\"attributes\":{\"callback\":null,\"column_names\":[\"x\",\"y\"],\"data\":{\"x\":[0,1000,2000,3000,4000,5000,6000,7000,8000,9000,10000,11000,12000,13000,14000,15000,16000,17000,18000,19000,20000,21000,22000,23000,24000,25000,26000,27000,28000,29000,30000,31000,32000,33000,34000,35000,36000,37000,38000,39000,40000,41000,42000,43000,44000,45000,46000,47000,48000,49000,50000,51000,52000,53000,54000,55000,56000,57000,58000,59000,60000,61000,62000,63000,64000,65000,66000,67000,68000,69000,70000,71000,72000,73000,74000,75000,76000,77000,78000,79000,80000,81000,82000,83000,84000,85000,86000,87000,88000,89000,90000,91000,92000,93000,94000,95000,96000,97000,98000,99000,100000,101000,102000,103000,104000,105000,106000,107000,108000,109000,110000,111000,112000,113000,114000,115000,116000,117000,118000,119000,120000,121000,122000,123000,124000,125000,126000,127000,128000,129000,130000,131000,132000,133000,134000,135000,136000,137000,138000,139000,140000,141000,142000,143000,144000,145000,146000,147000,148000,149000,150000,151000,152000,153000,154000,155000,156000,157000,158000,159000,160000,161000,162000,163000,164000,165000,166000,167000,168000,169000,170000,171000,172000,173000,174000,175000,176000,177000,178000,179000,180000,181000,182000,183000,184000,185000,186000,187000,188000,189000,190000,191000,192000,193000,194000,195000,196000,197000,198000,199000,200000,201000,202000,203000,204000,205000,206000,207000,208000,209000,210000,211000,212000,213000,214000,215000,216000,217000,218000,219000,220000,221000,222000,223000,224000,225000,226000,227000,228000,229000,230000,231000,232000,233000,234000,235000,236000,237000,238000,239000,240000,241000,242000,243000,244000,245000,246000,247000,248000,249000,250000,251000,252000,253000,254000,255000,256000,257000,258000,259000,260000,261000,262000,263000,264000,265000,266000,267000,268000,269000,270000,271000,272000,273000,274000,275000,276000,277000,278000,279000,280000,281000,282000,283000,284000,285000,286000,287000,288000,289000,290000,291000,292000,293000,294000,295000,296000,297000,298000,299000,300000,301000,302000,303000,304000,305000,306000,307000,308000,309000,310000,311000,312000,313000,314000,315000,316000,317000,318000,319000,320000,321000,322000,323000,324000,325000,326000,327000,328000,329000,330000,331000,332000,333000,334000,335000,336000,337000,338000,339000,340000,341000,342000,343000,344000,345000,346000,347000,348000,349000,350000,351000,352000,353000,354000,355000,356000,357000,358000,359000,360000,361000,362000,363000,364000,365000,366000,367000,368000,369000,370000,371000,372000,373000,374000,375000,376000,377000,378000,379000,380000,381000,382000,383000,384000,385000,386000,387000,388000,389000,390000,391000,392000,393000,394000,395000,396000,397000,398000,399000,400000,401000,402000,403000,404000,405000,406000,407000,408000,409000,410000,411000,412000,413000,414000,415000,416000,417000,418000,419000,420000,421000,422000,423000,424000,425000,426000,427000,428000,429000,430000,431000,432000,433000,434000,435000,436000,437000,438000,439000,440000,441000,442000,443000,444000,445000,446000,447000,448000,449000,450000,451000,452000,453000,454000,455000,456000,457000,458000,459000,460000,461000,462000,463000,464000,465000,466000,467000,468000,469000,470000,471000,472000,473000,474000,475000,476000,477000,478000,479000,480000,481000,482000,483000,484000,485000,486000,487000,488000,489000,490000,491000,492000,493000,494000,495000,496000,497000,498000,499000,500000,501000,502000,503000,504000,505000,506000,507000,508000,509000,510000,511000,512000,513000,514000,515000,516000,517000,518000,519000,520000,521000,522000,523000,524000,525000,526000,527000,528000,529000,530000,531000,532000,533000,534000,535000,536000,537000,538000,539000,540000,541000,542000,543000,544000,545000,546000,547000,548000,549000,550000,551000,552000,553000,554000,555000,556000,557000,558000,559000,560000,561000,562000,563000,564000,565000,566000,567000,568000,569000,570000,571000,572000,573000,574000,575000,576000,577000,578000,579000,580000,581000,582000,583000,584000,585000,586000,587000,588000,589000,590000,591000,592000,593000,594000,595000,596000,597000,598000,599000,600000,600000,599000,598000,597000,596000,595000,594000,593000,592000,591000,590000,589000,588000,587000,586000,585000,584000,583000,582000,581000,580000,579000,578000,577000,576000,575000,574000,573000,572000,571000,570000,569000,568000,567000,566000,565000,564000,563000,562000,561000,560000,559000,558000,557000,556000,555000,554000,553000,552000,551000,550000,549000,548000,547000,546000,545000,544000,543000,542000,541000,540000,539000,538000,537000,536000,535000,534000,533000,532000,531000,530000,529000,528000,527000,526000,525000,524000,523000,522000,521000,520000,519000,518000,517000,516000,515000,514000,513000,512000,511000,510000,509000,508000,507000,506000,505000,504000,503000,502000,501000,500000,499000,498000,497000,496000,495000,494000,493000,492000,491000,490000,489000,488000,487000,486000,485000,484000,483000,482000,481000,480000,479000,478000,477000,476000,475000,474000,473000,472000,471000,470000,469000,468000,467000,466000,465000,464000,463000,462000,461000,460000,459000,458000,457000,456000,455000,454000,453000,452000,451000,450000,449000,448000,447000,446000,445000,444000,443000,442000,441000,440000,439000,438000,437000,436000,435000,434000,433000,432000,431000,430000,429000,428000,427000,426000,425000,424000,423000,422000,421000,420000,419000,418000,417000,416000,415000,414000,413000,412000,411000,410000,409000,408000,407000,406000,405000,404000,403000,402000,401000,400000,399000,398000,397000,396000,395000,394000,393000,392000,391000,390000,389000,388000,387000,386000,385000,384000,383000,382000,381000,380000,379000,378000,377000,376000,375000,374000,373000,372000,371000,370000,369000,368000,367000,366000,365000,364000,363000,362000,361000,360000,359000,358000,357000,356000,355000,354000,353000,352000,351000,350000,349000,348000,347000,346000,345000,344000,343000,342000,341000,340000,339000,338000,337000,336000,335000,334000,333000,332000,331000,330000,329000,328000,327000,326000,325000,324000,323000,322000,321000,320000,319000,318000,317000,316000,315000,314000,313000,312000,311000,310000,309000,308000,307000,306000,305000,304000,303000,302000,301000,300000,299000,298000,297000,296000,295000,294000,293000,292000,291000,290000,289000,288000,287000,286000,285000,284000,283000,282000,281000,280000,279000,278000,277000,276000,275000,274000,273000,272000,271000,270000,269000,268000,267000,266000,265000,264000,263000,262000,261000,260000,259000,258000,257000,256000,255000,254000,253000,252000,251000,250000,249000,248000,247000,246000,245000,244000,243000,242000,241000,240000,239000,238000,237000,236000,235000,234000,233000,232000,231000,230000,229000,228000,227000,226000,225000,224000,223000,222000,221000,220000,219000,218000,217000,216000,215000,214000,213000,212000,211000,210000,209000,208000,207000,206000,205000,204000,203000,202000,201000,200000,199000,198000,197000,196000,195000,194000,193000,192000,191000,190000,189000,188000,187000,186000,185000,184000,183000,182000,181000,180000,179000,178000,177000,176000,175000,174000,173000,172000,171000,170000,169000,168000,167000,166000,165000,164000,163000,162000,161000,160000,159000,158000,157000,156000,155000,154000,153000,152000,151000,150000,149000,148000,147000,146000,145000,144000,143000,142000,141000,140000,139000,138000,137000,136000,135000,134000,133000,132000,131000,130000,129000,128000,127000,126000,125000,124000,123000,122000,121000,120000,119000,118000,117000,116000,115000,114000,113000,112000,111000,110000,109000,108000,107000,106000,105000,104000,103000,102000,101000,100000,99000,98000,97000,96000,95000,94000,93000,92000,91000,90000,89000,88000,87000,86000,85000,84000,83000,82000,81000,80000,79000,78000,77000,76000,75000,74000,73000,72000,71000,70000,69000,68000,67000,66000,65000,64000,63000,62000,61000,60000,59000,58000,57000,56000,55000,54000,53000,52000,51000,50000,49000,48000,47000,46000,45000,44000,43000,42000,41000,40000,39000,38000,37000,36000,35000,34000,33000,32000,31000,30000,29000,28000,27000,26000,25000,24000,23000,22000,21000,20000,19000,18000,17000,16000,15000,14000,13000,12000,11000,10000,9000,8000,7000,6000,5000,4000,3000,2000,1000,0],\"y\":[1,33,60,81,128,137,137,141,155,155,155,190,226,269,276,285,285,350,350,352,352,352,352,352,352,352,352,352,352,352,352,352,360,388,388,388,388,388,388,388,388,388,388,389,389,389,389,389,389,389,389,389,389,389,389,389,389,389,389,389,389,389,389,389,389,389,389,389,389,389,389,389,389,389,389,389,389,389,389,389,389,389,389,389,389,389,389,389,389,389,389,389,389,389,389,389,389,389,389,389,389,389,389,389,389,389,389,389,389,389,389,389,389,389,389,389,389,389,389,389,389,389,389,389,389,389,389,389,389,389,389,389,389,389,389,389,389,389,389,389,389,389,389,389,389,389,389,389,389,389,389,389,389,389,389,389,389,389,389,389,389,389,389,389,389,389,389,389,389,389,389,389,389,389,389,389,389,389,389,389,389,389,389,389,389,389,389,389,389,389,389,389,389,389,389,389,389,389,389,389,389,389,389,389,389,389,389,389,389,389,389,389,389,389,389,389,389,389,389,389,389,389,389,389,389,389,389,389,389,389,389,389,389,389,389,389,389,389,389,389,389,389,389,389,389,389,389,389,389,389,389,389,389,389,389,389,389,389,389,389,389,389,389,389,389,390,390,390,390,390,390,390,390,390,390,390,390,390,390,390,390,390,390,390,390,390,396,420,420,433,450,468,479,480,480,480,480,480,481,481,492,519,541,570,583,599,603,614,618,637,648,654,669,678,678,679,679,680,680,680,680,680,680,680,680,681,682,682,690,692,693,702,724,736,741,744,744,744,745,760,764,769,769,771,771,771,778,824,844,844,844,846,847,847,848,848,848,848,848,848,848,848,848,848,848,855,856,856,856,856,856,856,856,856,856,856,856,861,870,890,890,890,890,890,890,890,903,913,929,943,965,975,992,992,992,992,992,992,992,1024,1028,1028,1028,1028,1028,1028,1028,1028,1028,1028,1066,1114,1115,1116,1118,1139,1145,1145,1145,1145,1145,1145,1145,1145,1145,1145,1145,1145,1145,1147,1147,1147,1147,1148,1148,1148,1148,1148,1148,1148,1148,1149,1149,1149,1149,1149,1156,1158,1165,1216,1218,1218,1218,1218,1218,1224,1224,1224,1224,1224,1224,1224,1228,1241,1253,1256,1274,1274,1274,1274,1274,1274,1274,1274,1274,1275,1275,1275,1275,1300,1336,1336,1336,1336,1336,1336,1338,1338,1356,1363,1366,1366,1366,1366,1366,1366,1366,1366,1366,1366,1366,1366,1370,1385,1393,1394,1422,1433,1456,1479,1504,1529,1545,1594,1599,1606,1606,1606,1606,1606,1606,1606,1606,1606,1606,1606,1611,1611,1622,1633,1655,1679,1691,1730,1738,1752,1777,1784,1839,1850,1850,1850,1850,1850,1850,1850,1850,1850,1852,1855,1863,1867,1884,1885,1902,1906,1909,1909,1909,1909,1919,1919,1930,1931,1931,1931,1931,1931,1931,1931,1931,1931,1931,1931,1931,1931,1931,1931,1931,1931,1931,1931,1931,1931,1931,1931,1931,1931,1931,1931,1931,1931,1931,1931,1931,1931,1931,1931,1931,1931,2900,2900,2898,2898,2898,2898,2898,2898,2898,2898,2898,2898,2898,2898,2898,2898,2898,2898,2898,2873,2868,2858,2841,2838,2818,2815,2813,2813,2813,2813,2813,2813,2813,2813,2813,2813,2801,2801,2801,2801,2801,2801,2801,2801,2801,2801,2801,2801,2801,2801,2801,2801,2801,2801,2801,2801,2801,2801,2801,2801,2801,2801,2801,2801,2773,2761,2745,2745,2745,2745,2745,2745,2745,2745,2745,2745,2745,2745,2745,2745,2745,2745,2745,2745,2745,2745,2745,2745,2745,2745,2745,2745,2745,2745,2745,2745,2745,2745,2745,2745,2745,2745,2745,2745,2745,2745,2745,2745,2745,2745,2745,2740,2738,2737,2734,2734,2734,2734,2734,2734,2734,2733,2733,2733,2733,2733,2733,2733,2733,2733,2733,2733,2733,2733,2725,2711,2657,2641,2624,2605,2601,2601,2595,2567,2546,2534,2534,2516,2514,2514,2513,2513,2513,2513,2513,2513,2513,2513,2513,2513,2513,2513,2513,2513,2507,2499,2499,2499,2499,2499,2499,2499,2499,2499,2499,2499,2499,2499,2499,2499,2499,2499,2499,2498,2496,2492,2486,2481,2472,2467,2418,2404,2392,2389,2388,2386,2386,2386,2384,2384,2384,2384,2384,2384,2384,2384,2384,2384,2349,2347,2347,2347,2346,2346,2346,2344,2342,2337,2324,2324,2324,2324,2324,2324,2324,2324,2324,2324,2324,2324,2324,2324,2305,2286,2271,2257,2246,2216,2201,2180,2167,2111,2106,2099,2085,2055,2030,2030,2030,2030,2030,2030,2030,2030,2030,2030,2030,2027,2027,2027,2027,2027,2027,2027,2027,2027,2027,2026,2026,2022,2018,2009,2009,2009,2009,2009,2009,2009,2009,2009,2009,2009,2001,1998,1984,1983,1981,1978,1977,1976,1967,1967,1967,1967,1967,1967,1967,1967,1967,1967,1967,1967,1967,1967,1967,1967,1955,1955,1946,1943,1943,1943,1943,1943,1943,1943,1943,1943,1943,1943,1943,1943,1943,1943,1943,1943,1943,1943,1943,1943,1943,1943,1941,1939,1882,1853,1835,1833,1833,1833,1833,1824,1814,1808,1806,1791,1791,1791,1791,1791,1791,1791,1791,1791,1791,1781,1734,1730,1715,1715,1712,1712,1708,1689,1689,1689,1624,1624,1624,1624,1624,1624,1624,1624,1624,1624,1624,1624,1624,1609,1584,1570,1551,1537,1464,1446,1434,1412,1412,1412,1412,1412,1388,1388,1388,1388,1388,1388,1388,1388,1388,1388,1388,1388,1386,1386,1379,1377,1373,1372,1372,1353,1338,1319,1300,1272,1272,1272,1272,1272,1272,1272,1272,1272,1272,1272,1272,1272,1272,1272,1272,1272,1272,1272,1272,1272,1272,1272,1272,1272,1272,1272,1272,1272,1272,1272,1271,1271,1271,1271,1271,1271,1271,1267,1267,1267,1264,1264,1264,1262,1261,1259,1259,1259,1259,1259,1259,1259,1259,1259,1259,1259,1259,1259,1259,1259,1259,1254,1175,1147,1137,1122,1122,1122,1122,1122,1116,1085,1072,1069,1065,1050,1050,1050,1050,1050,1050,1050,1050,1050,1050,1050,1000,991,976,976,976,976,970,970,970,956,955,955,955,955,955,955,955,955,955,955,955,955,955,955,954,919,897,871,866,847,845,845,845,845,845,845,845,845,845,845,845,845,843,843,843,843,843,843,843,843,843,843,843,843,839,771,768,753,753,746,739,709,688,671,671,671,671,671,668,668,668,662,662,662,662,657,652,626,556,550,549,517,489,470,407,352,332,275,271,261,249,194,183,135,134,119,71,1]}},\"id\":\"3d65d7f7-ebd7-4f1e-8382-41a5c4ecbd25\",\"type\":\"ColumnDataSource\"},{\"attributes\":{\"fill_alpha\":{\"value\":0.1},\"fill_color\":{\"value\":\"#984ea3\"},\"line_alpha\":{\"value\":0.1},\"line_color\":{\"value\":\"#984ea3\"},\"x\":{\"field\":\"x\"},\"y\":{\"field\":\"y\"}},\"id\":\"51422485-207e-4f87-9ce2-70c268a8e070\",\"type\":\"Patch\"},{\"attributes\":{\"plot\":{\"id\":\"84f1b12a-8a36-4631-8497-d31f36a5010c\",\"subtype\":\"Figure\",\"type\":\"Plot\"}},\"id\":\"f1898ac5-d4b2-41c4-9054-f09fbe5b9b11\",\"type\":\"ResetTool\"},{\"attributes\":{\"plot\":{\"id\":\"84f1b12a-8a36-4631-8497-d31f36a5010c\",\"subtype\":\"Figure\",\"type\":\"Plot\"}},\"id\":\"f778e2e0-690d-488e-a7e3-d2212efa6fec\",\"type\":\"HelpTool\"},{\"attributes\":{\"fill_alpha\":{\"value\":0.1},\"fill_color\":{\"value\":\"#4daf4a\"},\"line_alpha\":{\"value\":0.1},\"line_color\":{\"value\":\"#4daf4a\"},\"x\":{\"field\":\"x\"},\"y\":{\"field\":\"y\"}},\"id\":\"3653d327-2f15-4fed-8117-2d657dbbd761\",\"type\":\"Patch\"},{\"attributes\":{\"data_source\":{\"id\":\"89303bc6-cd4f-4eba-8d51-12d0773402fb\",\"type\":\"ColumnDataSource\"},\"glyph\":{\"id\":\"3653d327-2f15-4fed-8117-2d657dbbd761\",\"type\":\"Patch\"},\"hover_glyph\":null,\"nonselection_glyph\":{\"id\":\"bc6a5046-9782-45d4-8e39-8b3d41248734\",\"type\":\"Patch\"},\"selection_glyph\":null},\"id\":\"18139bfb-74b9-4011-a82e-56122aeeb3a5\",\"type\":\"GlyphRenderer\"},{\"attributes\":{\"plot\":{\"id\":\"84f1b12a-8a36-4631-8497-d31f36a5010c\",\"subtype\":\"Figure\",\"type\":\"Plot\"},\"ticker\":{\"id\":\"e7bf811e-6d60-41e0-b06f-a5ab88c3002c\",\"type\":\"BasicTicker\"}},\"id\":\"4b38254c-32d8-4c9b-aec1-045bb11e08d8\",\"type\":\"Grid\"},{\"attributes\":{\"data_source\":{\"id\":\"ea97ed44-32fe-44a1-879f-d363e2984a96\",\"type\":\"ColumnDataSource\"},\"glyph\":{\"id\":\"f39812f2-95a6-45d8-92a0-b92b67285457\",\"type\":\"Line\"},\"hover_glyph\":null,\"nonselection_glyph\":{\"id\":\"595899fd-b826-42a2-a0b3-b523d02abff8\",\"type\":\"Line\"},\"selection_glyph\":null},\"id\":\"0e1fbdb7-e2da-4522-92e4-20a4cd582532\",\"type\":\"GlyphRenderer\"},{\"attributes\":{\"callback\":null},\"id\":\"24bea785-a372-4346-ab54-857b4d11931c\",\"type\":\"DataRange1d\"},{\"attributes\":{\"line_alpha\":{\"value\":0.1},\"line_color\":{\"value\":\"#1f77b4\"},\"line_width\":{\"value\":2},\"x\":{\"field\":\"x\"},\"y\":{\"field\":\"y\"}},\"id\":\"ec74ae06-a84c-48a5-b40b-4cfa3ba9765a\",\"type\":\"Line\"},{\"attributes\":{\"bottom_units\":\"screen\",\"fill_alpha\":{\"value\":0.5},\"fill_color\":{\"value\":\"lightgrey\"},\"left_units\":\"screen\",\"level\":\"overlay\",\"line_alpha\":{\"value\":1.0},\"line_color\":{\"value\":\"black\"},\"line_dash\":[4,4],\"line_width\":{\"value\":2},\"plot\":null,\"render_mode\":\"css\",\"right_units\":\"screen\",\"top_units\":\"screen\"},\"id\":\"e8831a3b-034e-4ffa-a4a7-98ed1103a742\",\"type\":\"BoxAnnotation\"},{\"attributes\":{\"dimension\":1,\"plot\":{\"id\":\"84f1b12a-8a36-4631-8497-d31f36a5010c\",\"subtype\":\"Figure\",\"type\":\"Plot\"},\"ticker\":{\"id\":\"1b243fe8-d939-4392-8767-f17f0cc744f8\",\"type\":\"BasicTicker\"}},\"id\":\"836562f2-bb43-42f7-a82c-d9b0536a914c\",\"type\":\"Grid\"},{\"attributes\":{\"callback\":null,\"column_names\":[\"x\",\"y\"],\"data\":{\"x\":[0,1000,2000,3000,4000,5000,6000,7000,8000,9000,10000,11000,12000,13000,14000,15000,16000,17000,18000,19000,20000,21000,22000,23000,24000,25000,26000,27000,28000,29000,30000,31000,32000,33000,34000,35000,36000,37000,38000,39000,40000,41000,42000,43000,44000,45000,46000,47000,48000,49000,50000,51000,52000,53000,54000,55000,56000,57000,58000,59000,60000,61000,62000,63000,64000,65000,66000,67000,68000,69000,70000,71000,72000,73000,74000,75000,76000,77000,78000,79000,80000,81000,82000,83000,84000,85000,86000,87000,88000,89000,90000,91000,92000,93000,94000,95000,96000,97000,98000,99000,100000,101000,102000,103000,104000,105000,106000,107000,108000,109000,110000,111000,112000,113000,114000,115000,116000,117000,118000,119000,120000,121000,122000,123000,124000,125000,126000,127000,128000,129000,130000,131000,132000,133000,134000,135000,136000,137000,138000,139000,140000,141000,142000,143000,144000,145000,146000,147000,148000,149000,150000,151000,152000,153000,154000,155000,156000,157000,158000,159000,160000,161000,162000,163000,164000,165000,166000,167000,168000,169000,170000,171000,172000,173000,174000,175000,176000,177000,178000,179000,180000,181000,182000,183000,184000,185000,186000,187000,188000,189000,190000,191000,192000,193000,194000,195000,196000,197000,198000,199000,200000,201000,202000,203000,204000,205000,206000,207000,208000,209000,210000,211000,212000,213000,214000,215000,216000,217000,218000,219000,220000,221000,222000,223000,224000,225000,226000,227000,228000,229000,230000,231000,232000,233000,234000,235000,236000,237000,238000,239000,240000,241000,242000,243000,244000,245000,246000,247000,248000,249000,250000,251000,252000,253000,254000,255000,256000,257000,258000,259000,260000,261000,262000,263000,264000,265000,266000,267000,268000,269000,270000,271000,272000,273000,274000,275000,276000,277000,278000,279000,280000,281000,282000,283000,284000,285000,286000,287000,288000,289000,290000,291000,292000,293000,294000,295000,296000,297000,298000,299000,300000,301000,302000,303000,304000,305000,306000,307000,308000,309000,310000,311000,312000,313000,314000,315000,316000,317000,318000,319000,320000,321000,322000,323000,324000,325000,326000,327000,328000,329000,330000,331000,332000,333000,334000,335000,336000,337000,338000,339000,340000,341000,342000,343000,344000,345000,346000,347000,348000,349000,350000,351000,352000,353000,354000,355000,356000,357000,358000,359000,360000,361000,362000,363000,364000,365000,366000,367000,368000,369000,370000,371000,372000,373000,374000,375000,376000,377000,378000,379000,380000,381000,382000,383000,384000,385000,386000,387000,388000,389000,390000,391000,392000,393000,394000,395000,396000,397000,398000,399000,400000,401000,402000,403000,404000,405000,406000,407000,408000,409000,410000,411000,412000,413000,414000,415000,416000,417000,418000,419000,420000,421000,422000,423000,424000,425000,426000,427000,428000,429000,430000,431000,432000,433000,434000,435000,436000,437000,438000,439000,440000,441000,442000,443000,444000,445000,446000,447000,448000,449000,450000,451000,452000,453000,454000,455000,456000,457000,458000,459000,460000,461000,462000,463000,464000,465000,466000,467000,468000,469000,470000,471000,472000,473000,474000,475000,476000,477000,478000,479000,480000,481000,482000,483000,484000,485000,486000,487000,488000,489000,490000,491000,492000,493000,494000,495000,496000,497000,498000,499000,500000,501000,502000,503000,504000,505000,506000,507000,508000,509000,510000,511000,512000,513000,514000,515000,516000,517000,518000,519000,520000,521000,522000,523000,524000,525000,526000,527000,528000,529000,530000,531000,532000,533000,534000,535000,536000,537000,538000,539000,540000,541000,542000,543000,544000,545000,546000,547000,548000,549000,550000,551000,552000,553000,554000,555000,556000,557000,558000,559000,560000,561000,562000,563000,564000,565000,566000,567000,568000,569000,570000,571000,572000,573000,574000,575000,576000,577000,578000,579000,580000,581000,582000,583000,584000,585000,586000,587000,588000,589000,590000,591000,592000,593000,594000,595000,596000,597000,598000,599000,600000],\"y\":{\"__ndarray__\":\"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\",\"dtype\":\"float64\",\"shape\":[600]}}},\"id\":\"6daca378-5c16-4357-ab99-01ccba349454\",\"type\":\"ColumnDataSource\"},{\"attributes\":{\"data_source\":{\"id\":\"feb423b3-470b-42cc-867e-33fb1f2d2f43\",\"type\":\"ColumnDataSource\"},\"glyph\":{\"id\":\"83d3fae9-570a-4904-83af-753207e87f03\",\"type\":\"Line\"},\"hover_glyph\":null,\"nonselection_glyph\":{\"id\":\"ec74ae06-a84c-48a5-b40b-4cfa3ba9765a\",\"type\":\"Line\"},\"selection_glyph\":null},\"id\":\"5b38af25-9da6-4020-a703-3b822aa0b937\",\"type\":\"GlyphRenderer\"},{\"attributes\":{\"plot\":{\"id\":\"84f1b12a-8a36-4631-8497-d31f36a5010c\",\"subtype\":\"Figure\",\"type\":\"Plot\"}},\"id\":\"d23169a4-62a5-49e0-a48a-ef91d2768fca\",\"type\":\"PanTool\"},{\"attributes\":{\"fill_alpha\":{\"value\":0.1},\"fill_color\":{\"value\":\"#377eb8\"},\"line_alpha\":{\"value\":0.1},\"line_color\":{\"value\":\"#377eb8\"},\"x\":{\"field\":\"x\"},\"y\":{\"field\":\"y\"}},\"id\":\"a48c592d-82c3-430e-bb7e-020deaa4664e\",\"type\":\"Patch\"},{\"attributes\":{\"line_color\":{\"value\":\"#377eb8\"},\"line_width\":{\"value\":2},\"x\":{\"field\":\"x\"},\"y\":{\"field\":\"y\"}},\"id\":\"474ed920-3a96-45b1-bb42-d08662e2b8eb\",\"type\":\"Line\"}],\"root_ids\":[\"84f1b12a-8a36-4631-8497-d31f36a5010c\"]},\"title\":\"Bokeh Application\",\"version\":\"0.12.4\"}};\n",
       "            var render_items = [{\"docid\":\"25bebbb0-0f81-41f0-9ba0-3217b2dcffdd\",\"elementid\":\"f8b962cb-6649-409f-a8cd-3a29116ea3b2\",\"modelid\":\"84f1b12a-8a36-4631-8497-d31f36a5010c\"}];\n",
       "            \n",
       "            Bokeh.embed.embed_items(docs_json, render_items);\n",
       "          };\n",
       "          if (document.readyState != \"loading\") fn();\n",
       "          else document.addEventListener(\"DOMContentLoaded\", fn);\n",
       "        })();\n",
       "      },\n",
       "      function(Bokeh) {\n",
       "      }\n",
       "    ];\n",
       "  \n",
       "    function run_inline_js() {\n",
       "      \n",
       "      if ((window.Bokeh !== undefined) || (force === true)) {\n",
       "        for (var i = 0; i < inline_js.length; i++) {\n",
       "          inline_js[i](window.Bokeh);\n",
       "        }if (force === true) {\n",
       "          display_loaded();\n",
       "        }} else if (Date.now() < window._bokeh_timeout) {\n",
       "        setTimeout(run_inline_js, 100);\n",
       "      } else if (!window._bokeh_failed_load) {\n",
       "        console.log(\"Bokeh: BokehJS failed to load within specified timeout.\");\n",
       "        window._bokeh_failed_load = true;\n",
       "      } else if (force !== true) {\n",
       "        var cell = $(document.getElementById(\"f8b962cb-6649-409f-a8cd-3a29116ea3b2\")).parents('.cell').data().cell;\n",
       "        cell.output_area.append_execute_result(NB_LOAD_WARNING)\n",
       "      }\n",
       "  \n",
       "    }\n",
       "  \n",
       "    if (window._bokeh_is_loading === 0) {\n",
       "      console.log(\"Bokeh: BokehJS loaded, going straight to plotting\");\n",
       "      run_inline_js();\n",
       "    } else {\n",
       "      load_libs(js_urls, function() {\n",
       "        console.log(\"Bokeh: BokehJS plotting callback run at\", now());\n",
       "        run_inline_js();\n",
       "      });\n",
       "    }\n",
       "  }(this));\n",
       "</script>"
      ]
     },
     "metadata": {},
     "output_type": "display_data"
    }
   ],
   "source": [
    "plot_averages_b(names, t_maxs, colours, legends, directories, step=1000, title=env, min_max=False)\n",
    "plot_states(names, t_maxs, colours, legends, directories, step=1000, title=env)"
   ]
  },
  {
   "cell_type": "code",
   "execution_count": null,
   "metadata": {
    "collapsed": true,
    "deletable": true,
    "editable": true
   },
   "outputs": [],
   "source": []
  },
  {
   "cell_type": "code",
   "execution_count": null,
   "metadata": {
    "collapsed": true,
    "deletable": true,
    "editable": true
   },
   "outputs": [],
   "source": []
  },
  {
   "cell_type": "code",
   "execution_count": null,
   "metadata": {
    "collapsed": true,
    "deletable": true,
    "editable": true
   },
   "outputs": [],
   "source": [
    "DQN_Smoothed = []\n",
    "for times, rewards in zip(DQN_Lengths_C, DQN_Rewards):\n",
    "    linear = interp1d(times, rewards, kind=\"linear\")\n",
    "    linear_rewards = linear([i for i in range(500000)])\n",
    "    DQN_Smoothed.append(linear_rewards)"
   ]
  },
  {
   "cell_type": "code",
   "execution_count": null,
   "metadata": {
    "collapsed": true,
    "deletable": true,
    "editable": true
   },
   "outputs": [],
   "source": [
    "DQN_Means = np.mean(DQN_Smoothed, axis=0)"
   ]
  },
  {
   "cell_type": "code",
   "execution_count": null,
   "metadata": {
    "collapsed": true,
    "deletable": true,
    "editable": true
   },
   "outputs": [],
   "source": [
    "DQN_Stds = np.std(DQN_Smoothed, axis=0)"
   ]
  },
  {
   "cell_type": "code",
   "execution_count": null,
   "metadata": {
    "collapsed": false,
    "deletable": true,
    "editable": true
   },
   "outputs": [],
   "source": [
    "plt.fill_between([i for i in range(500000)], DQN_Means - DQN_Stds, DQN_Means + DQN_Stds, color=\"red\", alpha=0.3, edgecolor=\"white\")\n",
    "\n",
    "plt.plot([i for i in range(500000)], DQN_Means, color=\"red\")"
   ]
  },
  {
   "cell_type": "code",
   "execution_count": null,
   "metadata": {
    "collapsed": false,
    "deletable": true,
    "editable": true
   },
   "outputs": [],
   "source": [
    "len(DQN_Repeat)"
   ]
  },
  {
   "cell_type": "code",
   "execution_count": null,
   "metadata": {
    "collapsed": true,
    "deletable": true,
    "editable": true
   },
   "outputs": [],
   "source": [
    "plt.plot(DQN)"
   ]
  },
  {
   "cell_type": "code",
   "execution_count": null,
   "metadata": {
    "collapsed": true,
    "deletable": true,
    "editable": true
   },
   "outputs": [],
   "source": [
    "directories = [\"Logs/\"]"
   ]
  },
  {
   "cell_type": "code",
   "execution_count": null,
   "metadata": {
    "collapsed": false,
    "deletable": true,
    "editable": true
   },
   "outputs": [],
   "source": [
    "for i in range(0, 10, 2):\n",
    "    print(i)"
   ]
  },
  {
   "cell_type": "code",
   "execution_count": null,
   "metadata": {
    "collapsed": true,
    "deletable": true,
    "editable": true
   },
   "outputs": [],
   "source": []
  }
 ],
 "metadata": {
  "kernelspec": {
   "display_name": "Python 3",
   "language": "python",
   "name": "python3"
  },
  "language_info": {
   "codemirror_mode": {
    "name": "ipython",
    "version": 3
   },
   "file_extension": ".py",
   "mimetype": "text/x-python",
   "name": "python",
   "nbconvert_exporter": "python",
   "pygments_lexer": "ipython3",
   "version": "3.6.0"
  }
 },
 "nbformat": 4,
 "nbformat_minor": 2
}
