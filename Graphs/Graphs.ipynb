{
 "cells": [
  {
   "cell_type": "code",
   "execution_count": 1,
   "metadata": {
    "collapsed": false,
    "deletable": true,
    "editable": true
   },
   "outputs": [
    {
     "data": {
      "text/html": [
       "\n",
       "    <div class=\"bk-root\">\n",
       "        <a href=\"http://bokeh.pydata.org\" target=\"_blank\" class=\"bk-logo bk-logo-small bk-logo-notebook\"></a>\n",
       "        <span id=\"5bee9b55-f9e1-4793-91fd-60caa5afc53c\">Loading BokehJS ...</span>\n",
       "    </div>"
      ]
     },
     "metadata": {},
     "output_type": "display_data"
    },
    {
     "data": {
      "application/javascript": [
       "\n",
       "(function(global) {\n",
       "  function now() {\n",
       "    return new Date();\n",
       "  }\n",
       "\n",
       "  var force = true;\n",
       "\n",
       "  if (typeof (window._bokeh_onload_callbacks) === \"undefined\" || force === true) {\n",
       "    window._bokeh_onload_callbacks = [];\n",
       "    window._bokeh_is_loading = undefined;\n",
       "  }\n",
       "\n",
       "\n",
       "  \n",
       "  if (typeof (window._bokeh_timeout) === \"undefined\" || force === true) {\n",
       "    window._bokeh_timeout = Date.now() + 5000;\n",
       "    window._bokeh_failed_load = false;\n",
       "  }\n",
       "\n",
       "  var NB_LOAD_WARNING = {'data': {'text/html':\n",
       "     \"<div style='background-color: #fdd'>\\n\"+\n",
       "     \"<p>\\n\"+\n",
       "     \"BokehJS does not appear to have successfully loaded. If loading BokehJS from CDN, this \\n\"+\n",
       "     \"may be due to a slow or bad network connection. Possible fixes:\\n\"+\n",
       "     \"</p>\\n\"+\n",
       "     \"<ul>\\n\"+\n",
       "     \"<li>re-rerun `output_notebook()` to attempt to load from CDN again, or</li>\\n\"+\n",
       "     \"<li>use INLINE resources instead, as so:</li>\\n\"+\n",
       "     \"</ul>\\n\"+\n",
       "     \"<code>\\n\"+\n",
       "     \"from bokeh.resources import INLINE\\n\"+\n",
       "     \"output_notebook(resources=INLINE)\\n\"+\n",
       "     \"</code>\\n\"+\n",
       "     \"</div>\"}};\n",
       "\n",
       "  function display_loaded() {\n",
       "    if (window.Bokeh !== undefined) {\n",
       "      document.getElementById(\"5bee9b55-f9e1-4793-91fd-60caa5afc53c\").textContent = \"BokehJS successfully loaded.\";\n",
       "    } else if (Date.now() < window._bokeh_timeout) {\n",
       "      setTimeout(display_loaded, 100)\n",
       "    }\n",
       "  }\n",
       "\n",
       "  function run_callbacks() {\n",
       "    window._bokeh_onload_callbacks.forEach(function(callback) { callback() });\n",
       "    delete window._bokeh_onload_callbacks\n",
       "    console.info(\"Bokeh: all callbacks have finished\");\n",
       "  }\n",
       "\n",
       "  function load_libs(js_urls, callback) {\n",
       "    window._bokeh_onload_callbacks.push(callback);\n",
       "    if (window._bokeh_is_loading > 0) {\n",
       "      console.log(\"Bokeh: BokehJS is being loaded, scheduling callback at\", now());\n",
       "      return null;\n",
       "    }\n",
       "    if (js_urls == null || js_urls.length === 0) {\n",
       "      run_callbacks();\n",
       "      return null;\n",
       "    }\n",
       "    console.log(\"Bokeh: BokehJS not loaded, scheduling load and callback at\", now());\n",
       "    window._bokeh_is_loading = js_urls.length;\n",
       "    for (var i = 0; i < js_urls.length; i++) {\n",
       "      var url = js_urls[i];\n",
       "      var s = document.createElement('script');\n",
       "      s.src = url;\n",
       "      s.async = false;\n",
       "      s.onreadystatechange = s.onload = function() {\n",
       "        window._bokeh_is_loading--;\n",
       "        if (window._bokeh_is_loading === 0) {\n",
       "          console.log(\"Bokeh: all BokehJS libraries loaded\");\n",
       "          run_callbacks()\n",
       "        }\n",
       "      };\n",
       "      s.onerror = function() {\n",
       "        console.warn(\"failed to load library \" + url);\n",
       "      };\n",
       "      console.log(\"Bokeh: injecting script tag for BokehJS library: \", url);\n",
       "      document.getElementsByTagName(\"head\")[0].appendChild(s);\n",
       "    }\n",
       "  };var element = document.getElementById(\"5bee9b55-f9e1-4793-91fd-60caa5afc53c\");\n",
       "  if (element == null) {\n",
       "    console.log(\"Bokeh: ERROR: autoload.js configured with elementid '5bee9b55-f9e1-4793-91fd-60caa5afc53c' but no matching script tag was found. \")\n",
       "    return false;\n",
       "  }\n",
       "\n",
       "  var js_urls = [\"https://cdn.pydata.org/bokeh/release/bokeh-0.12.4.min.js\", \"https://cdn.pydata.org/bokeh/release/bokeh-widgets-0.12.4.min.js\"];\n",
       "\n",
       "  var inline_js = [\n",
       "    function(Bokeh) {\n",
       "      Bokeh.set_log_level(\"info\");\n",
       "    },\n",
       "    \n",
       "    function(Bokeh) {\n",
       "      \n",
       "      document.getElementById(\"5bee9b55-f9e1-4793-91fd-60caa5afc53c\").textContent = \"BokehJS is loading...\";\n",
       "    },\n",
       "    function(Bokeh) {\n",
       "      console.log(\"Bokeh: injecting CSS: https://cdn.pydata.org/bokeh/release/bokeh-0.12.4.min.css\");\n",
       "      Bokeh.embed.inject_css(\"https://cdn.pydata.org/bokeh/release/bokeh-0.12.4.min.css\");\n",
       "      console.log(\"Bokeh: injecting CSS: https://cdn.pydata.org/bokeh/release/bokeh-widgets-0.12.4.min.css\");\n",
       "      Bokeh.embed.inject_css(\"https://cdn.pydata.org/bokeh/release/bokeh-widgets-0.12.4.min.css\");\n",
       "    }\n",
       "  ];\n",
       "\n",
       "  function run_inline_js() {\n",
       "    \n",
       "    if ((window.Bokeh !== undefined) || (force === true)) {\n",
       "      for (var i = 0; i < inline_js.length; i++) {\n",
       "        inline_js[i](window.Bokeh);\n",
       "      }if (force === true) {\n",
       "        display_loaded();\n",
       "      }} else if (Date.now() < window._bokeh_timeout) {\n",
       "      setTimeout(run_inline_js, 100);\n",
       "    } else if (!window._bokeh_failed_load) {\n",
       "      console.log(\"Bokeh: BokehJS failed to load within specified timeout.\");\n",
       "      window._bokeh_failed_load = true;\n",
       "    } else if (force !== true) {\n",
       "      var cell = $(document.getElementById(\"5bee9b55-f9e1-4793-91fd-60caa5afc53c\")).parents('.cell').data().cell;\n",
       "      cell.output_area.append_execute_result(NB_LOAD_WARNING)\n",
       "    }\n",
       "\n",
       "  }\n",
       "\n",
       "  if (window._bokeh_is_loading === 0) {\n",
       "    console.log(\"Bokeh: BokehJS loaded, going straight to plotting\");\n",
       "    run_inline_js();\n",
       "  } else {\n",
       "    load_libs(js_urls, function() {\n",
       "      console.log(\"Bokeh: BokehJS plotting callback run at\", now());\n",
       "      run_inline_js();\n",
       "    });\n",
       "  }\n",
       "}(this));"
      ]
     },
     "metadata": {},
     "output_type": "display_data"
    }
   ],
   "source": [
    "from bokeh.plotting import figure, output_notebook, show\n",
    "output_notebook()"
   ]
  },
  {
   "cell_type": "code",
   "execution_count": 2,
   "metadata": {
    "collapsed": true,
    "deletable": true,
    "editable": true
   },
   "outputs": [],
   "source": [
    "import glob"
   ]
  },
  {
   "cell_type": "code",
   "execution_count": 3,
   "metadata": {
    "collapsed": true,
    "deletable": true,
    "editable": true
   },
   "outputs": [],
   "source": [
    "import numpy as np"
   ]
  },
  {
   "cell_type": "code",
   "execution_count": 4,
   "metadata": {
    "collapsed": true,
    "deletable": true,
    "editable": true
   },
   "outputs": [],
   "source": [
    "from scipy.interpolate import interp1d\n",
    "from scipy.interpolate import spline"
   ]
  },
  {
   "cell_type": "code",
   "execution_count": 5,
   "metadata": {
    "collapsed": true,
    "deletable": true,
    "editable": true
   },
   "outputs": [],
   "source": [
    "from tqdm import tqdm"
   ]
  },
  {
   "cell_type": "code",
   "execution_count": 6,
   "metadata": {
    "collapsed": true,
    "deletable": true,
    "editable": true
   },
   "outputs": [],
   "source": [
    "DQN_Rewards_Path = \"/home/tabz/Dropbox/RL/Log_Files/March 2017/Maze_5_Batch_Sizes_Logs/*DQN*/logs/Episode_Rewards.txt\"\n",
    "DQN_Lengths_Path = \"/home/tabz/Dropbox/RL/Log_Files/March 2017/Maze_5_Batch_Sizes_Logs/*DQN*/logs/Episode_Lengths.txt\"\n",
    "DQN_Rewards = []\n",
    "DQN_Lengths = []\n",
    "DQN_Lengths_C = []"
   ]
  },
  {
   "cell_type": "code",
   "execution_count": 7,
   "metadata": {
    "collapsed": true,
    "deletable": true,
    "editable": true
   },
   "outputs": [],
   "source": [
    "for filename in glob.glob(DQN_Rewards_Path):\n",
    "    run_logs = [0]\n",
    "#     print(filename)\n",
    "    with open(filename, \"r\") as f:\n",
    "        for line in f:\n",
    "            try:\n",
    "                ep_r = float(line)\n",
    "            except:\n",
    "                continue\n",
    "            run_logs.append(ep_r)\n",
    "    DQN_Rewards.append(run_logs)"
   ]
  },
  {
   "cell_type": "code",
   "execution_count": 8,
   "metadata": {
    "collapsed": true,
    "deletable": true,
    "editable": true
   },
   "outputs": [],
   "source": [
    "for filename in glob.glob(DQN_Lengths_Path):\n",
    "    run_logs = [0]\n",
    "#     print(filename)\n",
    "    with open(filename, \"r\") as f:\n",
    "        for line in f:\n",
    "            try:\n",
    "                ep_r = float(line)\n",
    "            except:\n",
    "                continue\n",
    "            run_logs.append(ep_r)\n",
    "    DQN_Lengths.append(run_logs)\n",
    "    run_logs_c = np.cumsum(run_logs).astype(np.int32)\n",
    "    DQN_Lengths_C.append(run_logs_c)"
   ]
  },
  {
   "cell_type": "markdown",
   "metadata": {
    "collapsed": false,
    "deletable": true,
    "editable": true
   },
   "source": [
    "for lens, runs in zip(DQN_Lengths_C, DQN_Rewards):\n",
    "    plt.plot(lens, runs)\n",
    "plt.show()"
   ]
  },
  {
   "cell_type": "markdown",
   "metadata": {
    "collapsed": false,
    "deletable": true,
    "editable": true
   },
   "source": [
    "p = figure(width=500, height=500, y_range=(-1,3))\n",
    "for lens, runs in zip(DQN_Lengths_C, DQN_Rewards):\n",
    "    p.line(lens, runs)\n",
    "show(p)"
   ]
  },
  {
   "cell_type": "code",
   "execution_count": null,
   "metadata": {
    "collapsed": true,
    "deletable": true,
    "editable": true
   },
   "outputs": [],
   "source": []
  },
  {
   "cell_type": "markdown",
   "metadata": {
    "collapsed": true,
    "deletable": true,
    "editable": true
   },
   "source": [
    "def plot_averages(names, t_maxs, colors, legends=None, directory=\"Logs/\", step=10):\n",
    "    plt.figure(figsize=(10,10))\n",
    "    plt.ylim(-1, 3)\n",
    "    for name, color, t_max in tqdm(zip(names, colors, t_maxs)):\n",
    "        # TODO: Remove DQN from names\n",
    "        DQN_Rewards_Path = directory + \"*\" + name + \"*/logs/Episode_Rewards.txt\"\n",
    "        DQN_Lengths_Path = directory + \"*\" + name + \"*/logs/Episode_Lengths.txt\"\n",
    "        DQN_Rewards = []\n",
    "        DQN_Lengths = []\n",
    "        DQN_Lengths_C = []\n",
    "        for filename in glob.glob(DQN_Rewards_Path):\n",
    "            run_logs = [0]\n",
    "            with open(filename, \"r\") as f:\n",
    "                for line in f:\n",
    "                    try:\n",
    "                        ep_r = float(line)\n",
    "                    except:\n",
    "                        continue\n",
    "                    run_logs.append(ep_r)\n",
    "            DQN_Rewards.append(run_logs)\n",
    "        for filename in glob.glob(DQN_Lengths_Path):\n",
    "            run_logs = [0]\n",
    "        #     print(filename)\n",
    "            with open(filename, \"r\") as f:\n",
    "                for line in f:\n",
    "                    try:\n",
    "                        ep_r = float(line)\n",
    "                    except:\n",
    "                        continue\n",
    "                    run_logs.append(ep_r)\n",
    "            DQN_Lengths.append(run_logs)\n",
    "            run_logs_c = np.cumsum(run_logs).astype(np.int32)\n",
    "            DQN_Lengths_C.append(run_logs_c)\n",
    "        DQN_Smoothed = []\n",
    "        for times, rewards in zip(DQN_Lengths_C, DQN_Rewards):\n",
    "#             linear = interp1d(times, rewards, kind=\"linear\")\n",
    "#             linear_rewards = linear([i for i in range(500000)])\n",
    "#             DQN_Smoothed.append(linear_rewards)\n",
    "            spline_rewards = spline(times, rewards, [i for i in range(0, t_max, step)])\n",
    "            DQN_Smoothed.append(spline_rewards)\n",
    "        DQN_Means = np.mean(DQN_Smoothed, axis=0)\n",
    "        DQN_Stds = np.std(DQN_Smoothed, axis=0)\n",
    "        plt.fill_between([i for i in range(0, t_max, step)], DQN_Means - DQN_Stds, DQN_Means + DQN_Stds, color=color, alpha=0.2, edgecolor=\"white\")\n",
    "\n",
    "        plt.plot([i for i in range(0, t_max, step)], DQN_Means, color=color)\n",
    "\n",
    "    plt.title(\"Episode_Reward\")\n",
    "    plt.xlabel(\"T\")\n",
    "    plt.ylabel(\"Reward\")\n",
    "    if legends is not None:\n",
    "        plt.legend(legends, bbox_to_anchor=(1.05, 1), loc=2)\n",
    "    plt.show()"
   ]
  },
  {
   "cell_type": "code",
   "execution_count": 9,
   "metadata": {
    "collapsed": true,
    "deletable": true,
    "editable": true
   },
   "outputs": [],
   "source": [
    "from bokeh.models import Legend\n",
    "from bokeh.models.formatters import BasicTickFormatter\n",
    "from bokeh.models import HoverTool, TapTool"
   ]
  },
  {
   "cell_type": "code",
   "execution_count": 10,
   "metadata": {
    "collapsed": false,
    "deletable": true,
    "editable": true
   },
   "outputs": [],
   "source": [
    "def plot_averages_b(names, t_maxs, colors, legends, directories=\"Logs/\", step=10, title=\"\", min_max=True):\n",
    "#     plt.figure(figsize=(10,10))\n",
    "    p = figure(width=1200, height=800, y_range=(-0.1, 1.1), title=title)\n",
    "    p.toolbar_location = \"above\"\n",
    "    p.yaxis.axis_label = \"Episode Reward\"\n",
    "    p.xaxis.axis_label = \"T\"\n",
    "    p.xaxis.formatter = BasicTickFormatter(use_scientific=False)\n",
    "#     p = figure(width=800, height=500)\n",
    "    lines = []\n",
    "    alpha_lines = []\n",
    "    if isinstance(directories, str):\n",
    "        dd = directories\n",
    "        directories = [dd for _ in names]\n",
    "    for name, color, t_max, legend, directory in zip(names, colors, t_maxs, legends, directories):\n",
    "#         print(directory)\n",
    "        DQN_Rewards_Path = directory + \"*\" + name + \"*/logs/Episode_Rewards.txt\"\n",
    "        DQN_Lengths_Path = directory + \"*\" + name + \"*/logs/Episode_Lengths.txt\"\n",
    "        DQN_Rewards = []\n",
    "        DQN_Lengths = []\n",
    "        DQN_Lengths_C = []\n",
    "        for filename in glob.glob(DQN_Rewards_Path):\n",
    "            run_logs = [0]\n",
    "            with open(filename, \"r\") as f:\n",
    "#                 print(f)\n",
    "                for line in f:\n",
    "                    try:\n",
    "                        ep_r = float(line)\n",
    "                    except:\n",
    "                        print(\"Nothing here for:\", filename)\n",
    "                        continue\n",
    "                    run_logs.append(ep_r)\n",
    "            DQN_Rewards.append(run_logs)\n",
    "        for filename in glob.glob(DQN_Lengths_Path):\n",
    "            run_logs = [0]\n",
    "        #     print(filename)\n",
    "            with open(filename, \"r\") as f:\n",
    "                for line in f:\n",
    "                    try:\n",
    "                        ep_r = float(line)\n",
    "                    except:\n",
    "                        continue\n",
    "                    run_logs.append(ep_r)\n",
    "            DQN_Lengths.append(run_logs)\n",
    "            run_logs_c = np.cumsum(run_logs).astype(np.int32)\n",
    "            DQN_Lengths_C.append(run_logs_c)\n",
    "        DQN_Smoothed = []\n",
    "        for times, rewards in zip(DQN_Lengths_C, DQN_Rewards):\n",
    "#             linear = interp1d(times, rewards, kind=\"linear\")\n",
    "#             linear_rewards = linear([i for i in range(500000)])\n",
    "#             DQN_Smoothed.append(linear_rewards)\n",
    "            spline_rewards = spline(times, rewards, [i for i in range(0, t_max, step)], order=1)\n",
    "            DQN_Smoothed.append(spline_rewards)\n",
    "        DQN_Means = np.mean(DQN_Smoothed, axis=0)\n",
    "        DQN_Stds = np.std(DQN_Smoothed, axis=0)\n",
    "        \n",
    "        if min_max:\n",
    "    #         plt.fill_between([i for i in range(0, t_max, step)], DQN_Means - DQN_Stds, DQN_Means + DQN_Stds, color=color, alpha=0.2, edgecolor=\"white\")\n",
    "            # Error bars\n",
    "            xs = [i for i in range(0, t_max, step)]\n",
    "            xs = xs + list(reversed(xs))\n",
    "    #         ys = np.concatenate([DQN_Means - DQN_Stds, np.flip(DQN_Means + DQN_Stds, axis=0)])\n",
    "            ys = np.concatenate([np.min(DQN_Smoothed, axis=0), np.flip(np.max(DQN_Smoothed, axis=0), axis=0)])\n",
    "            lls = p.patch(xs, ys, color=color, alpha=0.1)\n",
    "\n",
    "\n",
    "    #         for x, y, yerr in zip(range(0, t_max, step), DQN_Means, DQN_Stds):\n",
    "    #             lls = p.line([x, x], [y - yerr, y + yerr], color=color, alpha=0.1, hover_alpha=0.8)\n",
    "    #             alpha_lines.append(lls)\n",
    "\n",
    "\n",
    "    #         plt.plot([i for i in range(0, t_max, step)], DQN_Means, color=color)\n",
    "        l = p.line([i for i in range(0, t_max, step)], DQN_Means, color=color, line_width=2)\n",
    "        lines.append(l)\n",
    "    #         alpha_lines.append(lls)\n",
    "\n",
    "#     plt.title(\"Episode_Reward\")\n",
    "#     plt.xlabel(\"T\")\n",
    "#     plt.ylabel(\"Reward\")\n",
    "#     if legends is not None:\n",
    "#         plt.legend(legends)\n",
    "#     plt.show()\n",
    "#     p.line([0,1], [-1,3])\n",
    "    new_leg = Legend(items=[(name, [line]) for name, line in zip(legends, lines)], location=(0,-30))\n",
    "    p.add_layout(new_leg, \"right\")\n",
    "#     p.add_tools(HoverTool(renderers=alpha_lines))\n",
    "#     p.add_tools(TapTool(renderers=alpha_lines))\n",
    "    show(p)"
   ]
  },
  {
   "cell_type": "code",
   "execution_count": 11,
   "metadata": {
    "collapsed": false,
    "deletable": true,
    "editable": true
   },
   "outputs": [],
   "source": [
    "def plot_states(names, t_maxs, colors, legends, directories=\"Logs/\", step=10, title=\"\"):\n",
    "#     plt.figure(figsize=(10,10))\n",
    "    p = figure(width=1200, height=800, title=title)\n",
    "    p.toolbar_location = \"above\"\n",
    "    p.yaxis.axis_label = \"States visited\"\n",
    "    p.xaxis.axis_label = \"T\"\n",
    "    p.xaxis.formatter = BasicTickFormatter(use_scientific=False)\n",
    "#     p = figure(width=800, height=500)\n",
    "    lines = []\n",
    "    alpha_lines = []\n",
    "    if isinstance(directories, str):\n",
    "        dd = directories\n",
    "        directories = [dd for _ in names]\n",
    "    for name, color, t_max, legend, directory in zip(names, colors, t_maxs, legends, directories):\n",
    "#         print(directory)\n",
    "        States_Path = directory + \"*\" + name + \"*/logs/Player_Positions.txt\"\n",
    "        States = []\n",
    "        for filename in glob.glob(States_Path):\n",
    "            run_logs = []\n",
    "            with open(filename, \"r\") as f:\n",
    "#                 print(f)\n",
    "                for line in f:\n",
    "                    try:\n",
    "                        ep_r = str(line)\n",
    "#                         print(ep_r)\n",
    "                    except:\n",
    "                        print(\"Nothing here for:\", filename)\n",
    "                        continue\n",
    "                    run_logs.append(ep_r)\n",
    "            States.append(run_logs)\n",
    "        States_Visited = []\n",
    "        for run in States:\n",
    "            Visited = []\n",
    "            States_Sets = set()\n",
    "#             print(len(run))\n",
    "            for ii, s in enumerate(run):\n",
    "                if ii >= t_max - 1:\n",
    "                    break\n",
    "#                 print(s)\n",
    "                States_Sets.add(s)\n",
    "                if ii % step == 0:\n",
    "                    Visited.append(len(States_Sets))\n",
    "#             print(len(States_Sets))\n",
    "#             print(len(Visited))\n",
    "            States_Visited.append(Visited)\n",
    "#         print(np.array(States_Visited).shape)\n",
    "        Means = np.mean(States_Visited, axis=0)\n",
    "        Stds = np.std(States_Visited, axis=0)\n",
    "#         print(Means.shape)\n",
    "        \n",
    "#         plt.fill_between([i for i in range(0, t_max, step)], DQN_Means - DQN_Stds, DQN_Means + DQN_Stds, color=color, alpha=0.2, edgecolor=\"white\")\n",
    "        # Error bars\n",
    "        xs = [i for i in range(0, t_max, step)]\n",
    "        xs = xs + list(reversed(xs))\n",
    "#         ys = np.concatenate([Means - Stds, np.flip(Means + Stds, axis=0)])\n",
    "        ys = np.concatenate([np.min(States_Visited, axis=0), np.flip(np.max(States_Visited, axis=0), axis=0)])\n",
    "        lls = p.patch(xs, ys, color=color, alpha=0.1)\n",
    "\n",
    "        \n",
    "#         for x, y, yerr in zip(range(0, t_max, step), DQN_Means, DQN_Stds):\n",
    "#             lls = p.line([x, x], [y - yerr, y + yerr], color=color, alpha=0.1, hover_alpha=0.8)\n",
    "#             alpha_lines.append(lls)\n",
    "            \n",
    "\n",
    "#         plt.plot([i for i in range(0, t_max, step)], DQN_Means, color=color)\n",
    "        l = p.line([i for i in range(0, t_max, step)], Means, color=color, line_width=2)\n",
    "        lines.append(l)\n",
    "#         alpha_lines.append(lls)\n",
    "\n",
    "#     plt.title(\"Episode_Reward\")\n",
    "#     plt.xlabel(\"T\")\n",
    "#     plt.ylabel(\"Reward\")\n",
    "#     if legends is not None:\n",
    "#         plt.legend(legends)\n",
    "#     plt.show()\n",
    "#     p.line([0,1], [-1,3])\n",
    "    new_leg = Legend(items=[(name, [line]) for name, line in zip(legends, lines)], location=(0,-30))\n",
    "    p.add_layout(new_leg, \"right\")\n",
    "#     p.add_tools(HoverTool(renderers=alpha_lines))\n",
    "#     p.add_tools(TapTool(renderers=alpha_lines))\n",
    "    show(p)"
   ]
  },
  {
   "cell_type": "code",
   "execution_count": null,
   "metadata": {
    "collapsed": true,
    "deletable": true,
    "editable": true
   },
   "outputs": [],
   "source": []
  },
  {
   "cell_type": "code",
   "execution_count": 12,
   "metadata": {
    "collapsed": false,
    "deletable": true,
    "editable": true
   },
   "outputs": [
    {
     "name": "stdout",
     "output_type": "stream",
     "text": [
      "['_10_Step_*DQN_', '_10_Step_*k_Count_', '_10_Step_*_CountEps_']\n",
      "[300001, 300001, 300001]\n"
     ]
    }
   ],
   "source": [
    "names = []\n",
    "legends = []\n",
    "t_maxs = []\n",
    "directories = []\n",
    "\n",
    "            \n",
    "# Frontier stuff\n",
    "for step in [10]:\n",
    "    # DQN\n",
    "    names += [\"_{}_Step_*DQN_\".format(step)]\n",
    "    legends += [\"{}_Step_DQN\".format(step)]\n",
    "    t_maxs += [300001]\n",
    "#     continue\n",
    "    # PseudoCount\n",
    "    names += [\"_{}_Step_*k_Count_\".format(step)]\n",
    "    legends += [\"{}_Step_Count\".format(step)]\n",
    "    t_maxs += [300001]\n",
    "#     continue\n",
    "    # EpsilonScaling\n",
    "    names += [\"_{}_Step_*_CountEps_\".format(step)]\n",
    "    legends += [\"{}_Step_Epsilon_Scaling\".format(step)]\n",
    "    t_maxs += [300001]\n",
    "            \n",
    "    \n",
    "direc = \"/home/tabz/tmp/logfiles/MedMaze10/MedMaze10\"\n",
    "# directories =  [\"{}/{}\".format(dropbox_direc, \"Maze_5_Logs/\")] + 3 * [\"{}/{}\".format(dropbox_direc, \"Maze_5_Batch_Sizes_Logs/\")] \n",
    "directories += [direc + \"/EpsilonLogs/\"] * 3\n",
    "    \n",
    "print(names)\n",
    "print(t_maxs)\n",
    "# colours = [\"red\", \"#3366ff\", \"#66ff33\", \"yellow\"]\n",
    "# colours = rainbow(np.linspace(0, 1, len(names)))"
   ]
  },
  {
   "cell_type": "code",
   "execution_count": 13,
   "metadata": {
    "collapsed": false,
    "deletable": true,
    "editable": true
   },
   "outputs": [
    {
     "name": "stdout",
     "output_type": "stream",
     "text": [
      "['_100_Step*k_Count_', '_100_Step*OptimisticAction', '_100_Step*_CountEps_']\n",
      "[300001, 300001, 300001]\n",
      "/home/scratch/tabhid/Log_Files/Gamma_Logs//\n"
     ]
    }
   ],
   "source": [
    "names = []\n",
    "legends = []\n",
    "t_maxs = []\n",
    "\n",
    "            \n",
    "# Frontier bandit stuff\n",
    "\n",
    "for n in [100]:\n",
    "    \n",
    "    # Count\n",
    "    names += [\"_{}_Step*k_Count_\".format(n)]\n",
    "    legends += [\"{}_Step_Count\".format(n)]\n",
    "    t_maxs += [300001]\n",
    "#     continue\n",
    "    # Optimistic\n",
    "    names += [\"_{}_Step*OptimisticAction\".format(n)]\n",
    "    legends += [\"{}_Step_OptimisticAction\".format(n)]\n",
    "    t_maxs += [300001]\n",
    "#     continue\n",
    "    # Epsilon Scaling\n",
    "    names += [\"_{}_Step*_CountEps_\".format(n)]\n",
    "    legends += [\"{}_Step_EpsilonScaling\".format(n)]\n",
    "    t_maxs += [300001]\n",
    "            \n",
    "    \n",
    "direc = \"/home/scratch/tabhid/Log_Files/Gamma_Logs//\"\n",
    "# directories =  [\"{}/{}\".format(dropbox_direc, \"Maze_5_Logs/\")] + 3 * [\"{}/{}\".format(dropbox_direc, \"Maze_5_Batch_Sizes_Logs/\")] \n",
    "# directories += [direc + \"/BanditLogs/\"] * 3\n",
    "directories = direc\n",
    "    \n",
    "print(names)\n",
    "print(t_maxs)\n",
    "print(directories)\n",
    "# colours = [\"red\", \"#3366ff\", \"#66ff33\", \"yellow\"]\n",
    "# colours = rainbow(np.linspace(0, 1, len(names)))"
   ]
  },
  {
   "cell_type": "code",
   "execution_count": 14,
   "metadata": {
    "collapsed": false,
    "deletable": true,
    "editable": true
   },
   "outputs": [
    {
     "name": "stdout",
     "output_type": "stream",
     "text": [
      "['_0.9_Decay*_Eps_0.1_', '_0.99_Decay*_Eps_0.1_', '_0.9999_Decay*_Eps_0.1_', '_0.9_Decay*_Eps_1_', '_0.99_Decay*_Eps_1_', '_0.9999_Decay*_Eps_1_']\n",
      "[300001, 300001, 300001, 300001, 300001, 300001]\n",
      "/home/tabz/tmp/Epsilon_Decay_Logs/\n"
     ]
    }
   ],
   "source": [
    "names = []\n",
    "legends = []\n",
    "t_maxs = []\n",
    "\n",
    "            \n",
    "# Epsilon Decay Scaling\n",
    "for eps in [0.1, 1]:\n",
    "    for decay in [0.9, 0.99, 0.9999]:\n",
    "    \n",
    "        names += [\"_{}_Decay*_Eps_{}_\".format(decay, eps)]\n",
    "        legends += [\"{}_Decay_EpsilonScaling_{}_Start\".format(decay, eps)]\n",
    "        t_maxs += [300001]\n",
    "            \n",
    "    \n",
    "# direc = \"/home/scratch/tabhid/Log_Files/Epsilon_Decay_Logs/\"\n",
    "direc = \"/home/tabz/tmp/Epsilon_Decay_Logs/\"\n",
    "# directories =  [\"{}/{}\".format(dropbox_direc, \"Maze_5_Logs/\")] + 3 * [\"{}/{}\".format(dropbox_direc, \"Maze_5_Batch_Sizes_Logs/\")] \n",
    "# directories += [direc + \"/BanditLogs/\"] * 3\n",
    "directories = direc\n",
    "    \n",
    "print(names)\n",
    "print(t_maxs)\n",
    "print(directories)"
   ]
  },
  {
   "cell_type": "code",
   "execution_count": 15,
   "metadata": {
    "collapsed": false,
    "deletable": true,
    "editable": true
   },
   "outputs": [
    {
     "name": "stdout",
     "output_type": "stream",
     "text": [
      "['_NegativeReward_0.5_', '_NegativeReward_0.7_', '_NegativeReward_0.9_']\n",
      "[300001, 300001, 300001]\n",
      "/home/tabz/tmp/Big_Negative_Reward_Logs/\n"
     ]
    }
   ],
   "source": [
    "names = []\n",
    "legends = []\n",
    "t_maxs = []\n",
    "\n",
    "            \n",
    "# Negative reward threshold\n",
    "for ns in [0.5, 0.7,  0.9]:\n",
    "    names += [\"_NegativeReward_{}_\".format(ns)]\n",
    "    legends += [\"NegativeReward_{}_Threshold\".format(ns)]\n",
    "    t_maxs += [300001]\n",
    "            \n",
    "    \n",
    "# direc = \"/home/scratch/tabhid/Log_Files/Epsilon_Decay_Logs/\"\n",
    "direc = \"/home/tabz/tmp/Big_Negative_Reward_Logs/\"\n",
    "# directories =  [\"{}/{}\".format(dropbox_direc, \"Maze_5_Logs/\")] + 3 * [\"{}/{}\".format(dropbox_direc, \"Maze_5_Batch_Sizes_Logs/\")] \n",
    "# directories += [direc + \"/BanditLogs/\"] * 3\n",
    "directories = direc\n",
    "    \n",
    "print(names)\n",
    "print(t_maxs)\n",
    "print(directories)"
   ]
  },
  {
   "cell_type": "code",
   "execution_count": 16,
   "metadata": {
    "collapsed": false,
    "deletable": true,
    "editable": true
   },
   "outputs": [
    {
     "name": "stdout",
     "output_type": "stream",
     "text": [
      "['k_OptimisticAction_0.0001_Scaler', 'k_OptimisticAction_0.0005_Scaler', 'k_OptimisticAction_0.001_Scaler', 'k_OptimisticAction_0.005_Scaler']\n",
      "[300001, 300001, 300001, 300001]\n",
      "/home/scratch/tabhid/Log_Files/Bandit_Small_Tau_Logs/\n"
     ]
    }
   ],
   "source": [
    "names = []\n",
    "legends = []\n",
    "t_maxs = []\n",
    "\n",
    "            \n",
    "# Bandit Tau\n",
    "for tau in [0.0001, 0.0005, 0.001, 0.005]:\n",
    "    for negative_reward in [False]:\n",
    "        if negative_reward:\n",
    "            names += [\"NegativeReward_*_OptimisticAction_{}_Scaler\".format(tau)]\n",
    "            legends += [\"Optim Bandit {} Tau Neg Reward\".format(tau)]\n",
    "        else:\n",
    "            names += [\"k_OptimisticAction_{}_Scaler\".format(tau)]\n",
    "            legends += [\"Optim Bandit {} Tau\".format(tau)]\n",
    "        t_maxs += [300001]\n",
    "            \n",
    "    \n",
    "direc = \"/home/scratch/tabhid/Log_Files/Bandit_Small_Tau_Logs/\"\n",
    "# direc = \"/home/tabz/tmp/Bandit_Tau_Logs/\"\n",
    "# directories =  [\"{}/{}\".format(dropbox_direc, \"Maze_5_Logs/\")] + 3 * [\"{}/{}\".format(dropbox_direc, \"Maze_5_Batch_Sizes_Logs/\")] \n",
    "# directories += [direc + \"/BanditLogs/\"] * 3\n",
    "directories = direc\n",
    "    \n",
    "print(names)\n",
    "print(t_maxs)\n",
    "print(directories)"
   ]
  },
  {
   "cell_type": "code",
   "execution_count": 17,
   "metadata": {
    "collapsed": false,
    "deletable": true,
    "editable": true
   },
   "outputs": [
    {
     "name": "stdout",
     "output_type": "stream",
     "text": [
      "['Batch_64_XpSize_600k', 'Batch_128_XpSize_600k', 'Batch_256_XpSize_600k']\n",
      "[600001, 600001, 600001]\n",
      "/home/tabz/tmp/logfiles/MedMaze10/Batch_Size_Logs/\n"
     ]
    }
   ],
   "source": [
    "names = []\n",
    "legends = []\n",
    "t_maxs = []\n",
    "\n",
    "            \n",
    "# Batch Size\n",
    "for xp in [600]:\n",
    "    for bs in [64, 128, 256]:\n",
    "        names += [\"Batch_{}_XpSize_{}k\".format(bs, xp)]\n",
    "        legends += [\"Batch {} Xp {}k\".format(bs, xp)]\n",
    "        t_maxs += [600001]\n",
    "            \n",
    "    \n",
    "# direc = \"/home/scratch/tabhid/Log_Files/Xp_Logs/\"\n",
    "direc = \"/home/tabz/tmp/logfiles/MedMaze10/Batch_Size_Logs/\"\n",
    "# directories =  [\"{}/{}\".format(dropbox_direc, \"Maze_5_Logs/\")] + 3 * [\"{}/{}\".format(dropbox_direc, \"Maze_5_Batch_Sizes_Logs/\")] \n",
    "# directories += [direc + \"/BanditLogs/\"] * 3\n",
    "directories = direc\n",
    "    \n",
    "print(names)\n",
    "print(t_maxs)\n",
    "print(directories)"
   ]
  },
  {
   "cell_type": "code",
   "execution_count": 18,
   "metadata": {
    "collapsed": false,
    "deletable": true,
    "editable": true
   },
   "outputs": [
    {
     "name": "stdout",
     "output_type": "stream",
     "text": [
      "['ETrace_0.7_6_States', 'ETrace_0.9_6_States', 'ETrace_1_6_States']\n",
      "[600001, 600001, 600001]\n",
      "/home/tabz/tmp/logfiles/MedMaze10/Elig_3_Logs/\n"
     ]
    }
   ],
   "source": [
    "names = []\n",
    "legends = []\n",
    "t_maxs = []\n",
    "\n",
    "            \n",
    "# Elig States\n",
    "for lamb in [0.7, 0.9, 1]:\n",
    "    for states in [6]:\n",
    "        names += [\"ETrace_{}_{}_States\".format(lamb, states)]\n",
    "        legends += [\"Traces {} Lambda {} States 3 Gap\".format(lamb, states)]\n",
    "        t_maxs += [600001]\n",
    "            \n",
    "    \n",
    "# direc = \"/home/scratch/tabhid/Log_Files/Xp_Logs/\"\n",
    "direc = \"/home/tabz/tmp/logfiles/MedMaze10/Elig_3_Logs/\"\n",
    "# directories =  [\"{}/{}\".format(dropbox_direc, \"Maze_5_Logs/\")] + 3 * [\"{}/{}\".format(dropbox_direc, \"Maze_5_Batch_Sizes_Logs/\")] \n",
    "# directories += [direc + \"/BanditLogs/\"] * 3\n",
    "directories = direc\n",
    "    \n",
    "print(names)\n",
    "print(t_maxs)\n",
    "print(directories)"
   ]
  },
  {
   "cell_type": "code",
   "execution_count": 19,
   "metadata": {
    "collapsed": false,
    "deletable": true,
    "editable": true
   },
   "outputs": [
    {
     "name": "stdout",
     "output_type": "stream",
     "text": [
      "['Iters_1_', 'Iters_2_', 'Iters_4_', 'Iters_8_', 'Iters_16_']\n",
      "[600001, 600001, 600001, 600001, 600001]\n",
      "/home/tabz/tmp/logfiles/MedMaze10/Iters_Logs/\n"
     ]
    }
   ],
   "source": [
    "names = []\n",
    "legends = []\n",
    "t_maxs = []\n",
    "\n",
    "            \n",
    "# Iterations\n",
    "for i in [1, 2, 4, 8, 16]:\n",
    "    names += [\"Iters_{}_\".format(i)]\n",
    "    legends += [\"{} Iterations\".format(i)]\n",
    "    t_maxs += [600001]\n",
    "            \n",
    "    \n",
    "# direc = \"/home/scratch/tabhid/Log_Files/Xp_Logs/\"\n",
    "direc = \"/home/tabz/tmp/logfiles/MedMaze10/Iters_Logs/\"\n",
    "# directories =  [\"{}/{}\".format(dropbox_direc, \"Maze_5_Logs/\")] + 3 * [\"{}/{}\".format(dropbox_direc, \"Maze_5_Batch_Sizes_Logs/\")] \n",
    "# directories += [direc + \"/BanditLogs/\"] * 3\n",
    "directories = direc\n",
    "    \n",
    "print(names)\n",
    "print(t_maxs)\n",
    "print(directories)"
   ]
  },
  {
   "cell_type": "code",
   "execution_count": 20,
   "metadata": {
    "collapsed": false,
    "deletable": true,
    "editable": true
   },
   "outputs": [
    {
     "name": "stdout",
     "output_type": "stream",
     "text": [
      "['k_CountEps_', 'Trajectory_0.2_', 'Trajectory_0.5_', 'Trajectory_0.75_', 'Trajectory_0.8_', 'Trajectory_0.9_']\n",
      "[600001, 600001, 600001, 600001, 600001, 600001]\n",
      "/home/tabz/tmp/logfiles/MedMaze10/Trajectory_Logs/\n"
     ]
    }
   ],
   "source": [
    "names = []\n",
    "legends = []\n",
    "t_maxs = []\n",
    "\n",
    "names += [\"k_CountEps_\"]\n",
    "legends += [\"No Trajectory\"]\n",
    "t_maxs += [600001]\n",
    "            \n",
    "# Trajectory\n",
    "for t in [0.2, 0.5, 0.75, 0.8, 0.9]:\n",
    "    names += [\"Trajectory_{}_\".format(t)]\n",
    "    legends += [\"Trajectory {} Save\".format(t)]\n",
    "    t_maxs += [600001]\n",
    "            \n",
    "    \n",
    "# direc = \"/home/scratch/tabhid/Log_Files/Xp_Logs/\"\n",
    "direc = \"/home/tabz/tmp/logfiles/MedMaze10/Trajectory_Logs/\"\n",
    "# directories =  [\"{}/{}\".format(dropbox_direc, \"Maze_5_Logs/\")] + 3 * [\"{}/{}\".format(dropbox_direc, \"Maze_5_Batch_Sizes_Logs/\")] \n",
    "# directories += [direc + \"/BanditLogs/\"] * 3\n",
    "directories = direc\n",
    "    \n",
    "print(names)\n",
    "print(t_maxs)\n",
    "print(directories)"
   ]
  },
  {
   "cell_type": "code",
   "execution_count": 21,
   "metadata": {
    "collapsed": false,
    "deletable": true,
    "editable": true
   },
   "outputs": [
    {
     "name": "stdout",
     "output_type": "stream",
     "text": [
      "['XpSize_30k*CountDecay_0.9999', 'XpSize_30k*CountDecay_0.999999', 'XpSize_30k*CountDecay_1', 'XpSize_60k*CountDecay_0.9999', 'XpSize_60k*CountDecay_0.999999', 'XpSize_60k*CountDecay_1', 'XpSize_100k*CountDecay_0.9999', 'XpSize_100k*CountDecay_0.999999', 'XpSize_100k*CountDecay_1']\n",
      "[600001, 600001, 600001, 600001, 600001, 600001, 600001, 600001, 600001]\n",
      "/home/tabz/tmp/logfiles/CountXpSort/\n"
     ]
    }
   ],
   "source": [
    "names = []\n",
    "legends = []\n",
    "t_maxs = []\n",
    "          \n",
    "# Count Xp Sort\n",
    "for xp in [30, 60, 100]:\n",
    "    for decay in [0.9999, 0.999999, 1]:\n",
    "        names += [\"XpSize_{}k*CountDecay_{}\".format(xp, decay)]\n",
    "        legends += [\"CountXp Sort {}k Xp {} CountDecay\".format(xp, decay)]\n",
    "        t_maxs += [600001]\n",
    "            \n",
    "    \n",
    "# direc = \"/home/scratch/tabhid/Log_Files/Xp_Logs/\"\n",
    "direc = \"/home/tabz/tmp/logfiles/CountXpSort/\"\n",
    "# directories =  [\"{}/{}\".format(dropbox_direc, \"Maze_5_Logs/\")] + 3 * [\"{}/{}\".format(dropbox_direc, \"Maze_5_Batch_Sizes_Logs/\")] \n",
    "# directories += [direc + \"/BanditLogs/\"] * 3\n",
    "directories = direc\n",
    "    \n",
    "print(names)\n",
    "print(t_maxs)\n",
    "print(directories)"
   ]
  },
  {
   "cell_type": "code",
   "execution_count": 22,
   "metadata": {
    "collapsed": false,
    "deletable": true,
    "editable": true
   },
   "outputs": [
    {
     "name": "stdout",
     "output_type": "stream",
     "text": [
      "['OptimisticAction_0.1', 'OptimisticAction_1', 'OptimisticAction_10', 'k_CountEps']\n",
      "[600001, 600001, 600001, 600001]\n",
      "/home/tabz/tmp/logfiles/MedMaze12/\n"
     ]
    }
   ],
   "source": [
    "names = []\n",
    "legends = []\n",
    "t_maxs = []\n",
    "          \n",
    "# MedMaze12\n",
    "\n",
    "#Bandits\n",
    "for os in [0.1, 1, 10]:\n",
    "    names += [\"OptimisticAction_{}\".format(os)]\n",
    "    legends += [\"Bandit {} Scaler\".format(os)]\n",
    "    t_maxs += [600001]\n",
    "    \n",
    "# #-ve reward\n",
    "# for nr in [0.5, 0.7]:\n",
    "#     names += [\"NegativeReward_{}\".format(nr)]\n",
    "#     legends += [\"Negative Reward {}\".format(nr)]\n",
    "#     t_maxs += [600001]\n",
    "    \n",
    "#CountXp\n",
    "names += [\"k_CountEps\"]\n",
    "legends += [\"Counts\"]\n",
    "t_maxs += [600001]\n",
    "            \n",
    "    \n",
    "# direc = \"/home/scratch/tabhid/Log_Files/Xp_Logs/\"\n",
    "direc = \"/home/tabz/tmp/logfiles/MedMaze12/\"\n",
    "# directories =  [\"{}/{}\".format(dropbox_direc, \"Maze_5_Logs/\")] + 3 * [\"{}/{}\".format(dropbox_direc, \"Maze_5_Batch_Sizes_Logs/\")] \n",
    "# directories += [direc + \"/BanditLogs/\"] * 3\n",
    "directories = direc\n",
    "    \n",
    "print(names)\n",
    "print(t_maxs)\n",
    "print(directories)"
   ]
  },
  {
   "cell_type": "code",
   "execution_count": 23,
   "metadata": {
    "collapsed": false,
    "deletable": true,
    "editable": true
   },
   "outputs": [
    {
     "name": "stdout",
     "output_type": "stream",
     "text": [
      "['k_CountEps*Stale_50k', 'Prioritized*Stale_50k', 'Prioritized_IS*Stale_50k', 'k_CountEps*Stale_300k', 'Prioritized*Stale_300k', 'Prioritized_IS*Stale_300k']\n",
      "[600001, 600001, 600001, 600001, 600001, 600001]\n",
      "/home/tabz/tmp/logfiles/Prioritized_Logs/\n"
     ]
    }
   ],
   "source": [
    "names = []\n",
    "legends = []\n",
    "t_maxs = []\n",
    "          \n",
    "# Prioritized replay stuff\n",
    "for fresh in [50, 300]:\n",
    "    for p in [None, \"P\", \"P_IS\"]:\n",
    "        if p is \"P\":\n",
    "            names += [\"Prioritized*Stale_{}k\".format(fresh)]\n",
    "            legends += [\"Prioritized {}k Fresh Counts\".format(fresh)]\n",
    "        elif p is \"P_IS\":\n",
    "            names += [\"Prioritized_IS*Stale_{}k\".format(fresh)]\n",
    "            legends += [\"Prioritized IS {}k Fresh Counts\".format(fresh)]\n",
    "        else:\n",
    "            names += [\"k_CountEps*Stale_{}k\".format(fresh)]\n",
    "            legends += [\"{}k Fresh Counts\".format(fresh)]\n",
    "        t_maxs += [600001]\n",
    "    \n",
    "direc = \"/home/tabz/tmp/logfiles/Prioritized_Logs/\"\n",
    "env = \"Med Maze 10\"\n",
    "directories = direc\n",
    "    \n",
    "print(names)\n",
    "print(t_maxs)\n",
    "print(directories)"
   ]
  },
  {
   "cell_type": "code",
   "execution_count": 24,
   "metadata": {
    "collapsed": false,
    "deletable": true,
    "editable": true
   },
   "outputs": [
    {
     "name": "stdout",
     "output_type": "stream",
     "text": [
      "['_0.1_Mix', '_0.3_Mix', '_0.5_Mix', '_0.7_Mix', '_0.9_Mix']\n",
      "[600001, 600001, 600001, 600001, 600001]\n",
      "/home/tabz/tmp/logfiles/Mixing_Logs/\n"
     ]
    }
   ],
   "source": [
    "names = []\n",
    "legends = []\n",
    "t_maxs = []\n",
    "          \n",
    "# Mixing\n",
    "for mix in [0.1, 0.3, 0.5, 0.7, 0.9]:\n",
    "    names += [\"_{}_Mix\".format(mix)]\n",
    "    legends += [\"{} Mixing\".format(mix)]\n",
    "    t_maxs += [600001]\n",
    "    \n",
    "direc = \"/home/tabz/tmp/logfiles/Mixing_Logs/\"\n",
    "directories = direc\n",
    "\n",
    "env =\"Med Maze 10\"\n",
    "    \n",
    "print(names)\n",
    "print(t_maxs)\n",
    "print(directories)"
   ]
  },
  {
   "cell_type": "code",
   "execution_count": 25,
   "metadata": {
    "collapsed": false,
    "deletable": true,
    "editable": true
   },
   "outputs": [
    {
     "name": "stdout",
     "output_type": "stream",
     "text": [
      "['OptimisticAction_0.1', 'OptimisticAction_0.01', 'OptimisticAction_0.001', 'CountEps_0.9999_', 'CountEps_0.999_', 'CountEps_0.99_', 'CountEps_0.9_']\n",
      "[600001, 600001, 600001, 600001, 600001, 600001, 600001]\n",
      "/home/tabz/tmp/logfiles/Frontier_Logs/\n"
     ]
    }
   ],
   "source": [
    "names = []\n",
    "legends = []\n",
    "t_maxs = []\n",
    "          \n",
    "# MedMaze12\n",
    "\n",
    "#Bandits\n",
    "for os in [0.1, 0.01, 0.001]:\n",
    "    names += [\"OptimisticAction_{}\".format(os)]\n",
    "    legends += [\"Bandit {} Scaler\".format(os)]\n",
    "    t_maxs += [600001]\n",
    "    \n",
    "#Epsilon decay\n",
    "for decay in [0.9999, 0.999, 0.99, 0.9]:\n",
    "    names += [\"CountEps_{}_\".format(decay)]\n",
    "    legends += [\"Epsilon Scaling {} Decay\".format(decay)]\n",
    "    t_maxs += [600001]\n",
    "            \n",
    "    \n",
    "direc = \"/home/tabz/tmp/logfiles/Frontier_Logs/\"\n",
    "directories = direc\n",
    "env = \"Med Maze 12\"\n",
    "    \n",
    "print(names)\n",
    "print(t_maxs)\n",
    "print(directories)"
   ]
  },
  {
   "cell_type": "code",
   "execution_count": 26,
   "metadata": {
    "collapsed": false,
    "deletable": true,
    "editable": true
   },
   "outputs": [
    {
     "name": "stdout",
     "output_type": "stream",
     "text": [
      "['NegativeReward_0.1', 'NegativeReward_0.2']\n",
      "[600001, 600001]\n",
      "/home/tabz/tmp/Neg/\n"
     ]
    }
   ],
   "source": [
    "names = []\n",
    "legends = []\n",
    "t_maxs = []\n",
    "          \n",
    "# MedMaze10 Set replay negative reward\n",
    "\n",
    "for neg_reward in [0.1, 0.2]:\n",
    "    names += [\"NegativeReward_{}\".format(neg_reward)]\n",
    "    legends += [\"Negative Reward {} Set Replay\".format(neg_reward)]\n",
    "    t_maxs += [600001]            \n",
    "    \n",
    "direc = \"/home/tabz/tmp/Neg/\"\n",
    "directories = direc\n",
    "env = \"Med Maze 10 Set Replay Negative Reward\"\n",
    "    \n",
    "print(names)\n",
    "print(t_maxs)\n",
    "print(directories)"
   ]
  },
  {
   "cell_type": "code",
   "execution_count": 27,
   "metadata": {
    "collapsed": false,
    "deletable": true,
    "editable": true
   },
   "outputs": [
    {
     "name": "stdout",
     "output_type": "stream",
     "text": [
      "['_10_Step*_SetReplay_5_', '_10_Step*_SetReplay_10_', '_10_Step*_SetReplay_100_', '_100_Step*_SetReplay_5_', '_100_Step*_SetReplay_10_', '_100_Step*_SetReplay_100_']\n",
      "[600001, 600001, 600001, 600001, 600001, 600001]\n",
      "/home/tabz/tmp/logfiles/SetReplayNum/\n"
     ]
    }
   ],
   "source": [
    "names = []\n",
    "legends = []\n",
    "t_maxs = []\n",
    "          \n",
    "# MedMaze10 Set replay \n",
    "\n",
    "for step in [10, 100]:\n",
    "    for replay_num in [5, 10, 100]:\n",
    "        names += [\"_{}_Step*_SetReplay_{}_\".format(step, replay_num)]\n",
    "        legends += [\"{} Step {} SetReplay\".format(step, replay_num)]\n",
    "        t_maxs += [600001]\n",
    "    \n",
    "direc = \"/home/tabz/tmp/logfiles/SetReplayNum/\"\n",
    "directories = direc\n",
    "env = \"Med Maze 10 Set Replay Num\"\n",
    "    \n",
    "print(names)\n",
    "print(t_maxs)\n",
    "print(directories)"
   ]
  },
  {
   "cell_type": "code",
   "execution_count": 28,
   "metadata": {
    "collapsed": false,
    "deletable": true,
    "editable": true
   },
   "outputs": [
    {
     "name": "stdout",
     "output_type": "stream",
     "text": [
      "['k_BonusClip*Stale_50k', 'Prioritized*Stale_50k', 'Prioritized_OnBonus_IS*Stale_50k', 'k_BonusClip*Stale_300k', 'Prioritized*Stale_300k', 'Prioritized_OnBonus_IS*Stale_300k']\n",
      "[800001, 800001, 800001, 800001, 800001, 800001]\n",
      "/home/tabz/tmp/logfiles/Density/\n"
     ]
    }
   ],
   "source": [
    "names = []\n",
    "legends = []\n",
    "t_maxs = []\n",
    "          \n",
    "# Prioritized replay stuff\n",
    "for fresh in [50, 300]:\n",
    "        names += [\"k_BonusClip*Stale_{}k\".format(fresh)]\n",
    "        legends += [\"Uniform {}k Fresh Counts\".format(fresh)]\n",
    "        t_maxs += [800001]\n",
    "        \n",
    "        names += [\"Prioritized*Stale_{}k\".format(fresh)]\n",
    "        legends += [\"Prioritized {}k Fresh Counts\".format(fresh)]\n",
    "        t_maxs += [800001]\n",
    "\n",
    "        names += [\"Prioritized_OnBonus_IS*Stale_{}k\".format(fresh)]\n",
    "        legends += [\"Prioritized IS {}k Fresh Counts\".format(fresh)]\n",
    "        t_maxs += [800001]\n",
    "    \n",
    "direc = \"/home/tabz/tmp/logfiles/Density/\"\n",
    "env = \"Med Maze 10 Prioritized On Density\"\n",
    "directories = direc\n",
    "    \n",
    "print(names)\n",
    "print(t_maxs)\n",
    "print(directories)"
   ]
  },
  {
   "cell_type": "code",
   "execution_count": 29,
   "metadata": {
    "collapsed": false,
    "deletable": true,
    "editable": true
   },
   "outputs": [
    {
     "name": "stdout",
     "output_type": "stream",
     "text": [
      "['k_BonusClip', 'Prioritized_IS', 'Prioritized_MinusPseudo']\n",
      "[800001, 800001, 800001]\n",
      "/home/tabz/tmp/logfiles/MinusPseudo/\n"
     ]
    }
   ],
   "source": [
    "names = []\n",
    "legends = []\n",
    "t_maxs = []\n",
    "          \n",
    "# Prioritized replay stuff musing pseudo rewards\n",
    "\n",
    "names += [\"k_BonusClip\"]\n",
    "legends += [\"Uniform\"]\n",
    "\n",
    "names += [\"Prioritized_IS\"]\n",
    "legends += [\"Prioritised minus pseudo rewards IS\"]\n",
    "\n",
    "names += [\"Prioritized_MinusPseudo\"]\n",
    "legends += [\"Prioritized minus pseudo rewards\"]\n",
    "\n",
    "t_maxs += [800001 for _ in range(3)]\n",
    "    \n",
    "direc = \"/home/tabz/tmp/logfiles/MinusPseudo/\"\n",
    "env = \"Med Maze 10 Prioritized Minus PseudoReward\"\n",
    "directories = direc\n",
    "    \n",
    "print(names)\n",
    "print(t_maxs)\n",
    "print(directories)"
   ]
  },
  {
   "cell_type": "code",
   "execution_count": 30,
   "metadata": {
    "collapsed": false,
    "deletable": true,
    "editable": true
   },
   "outputs": [
    {
     "name": "stdout",
     "output_type": "stream",
     "text": [
      "['Prioritized_-1_MinusPseudo_*Stale_50k', 'Prioritized_1_MinusPseudo_*Stale_50k', 'Prioritized_-1_MinusPseudo_*Stale_300k', 'Prioritized_1_MinusPseudo_*Stale_300k']\n",
      "[800001, 800001, 800001, 800001]\n",
      "/home/tabz/tmp/FixedP/\n"
     ]
    }
   ],
   "source": [
    "names = []\n",
    "legends = []\n",
    "t_maxs = []\n",
    "          \n",
    "# Prioritized replay stuff\n",
    "for fresh in [50, 300]:\n",
    "    for scaler in [-1, 1]:\n",
    "        \n",
    "        names += [\"Prioritized_{}_MinusPseudo_*Stale_{}k\".format(scaler, fresh)]\n",
    "        legends += [\"{} Prioritized {}k Fresh Counts\".format(scaler, fresh)]\n",
    "        t_maxs += [800001]\n",
    "\n",
    "#         names += [\"Prioritized_IS_{}_MinusPseudo_*Stale_{}k\".format(scaler, fresh)]\n",
    "#         legends += [\"{} Prioritized IS {}k Fresh Counts\".format(scaler, fresh)]\n",
    "#         t_maxs += [800001]\n",
    "    \n",
    "direc = \"/home/tabz/tmp/FixedP/\"\n",
    "env = \"Med Maze 10 Prioritized On TD Error Minus Scaled PseudoReward\"\n",
    "directories = direc\n",
    "    \n",
    "print(names)\n",
    "print(t_maxs)\n",
    "print(directories)"
   ]
  },
  {
   "cell_type": "code",
   "execution_count": 31,
   "metadata": {
    "collapsed": false,
    "deletable": true,
    "editable": true
   },
   "outputs": [
    {
     "name": "stdout",
     "output_type": "stream",
     "text": [
      "['XpSize_100k_BonusClip', 'XpSize_100k_Prioritized_Bonus', 'XpSize_100k_Prioritized_IS', 'XpSize_500k_BonusClip', 'XpSize_500k_Prioritized_Bonus', 'XpSize_500k_Prioritized_IS']\n",
      "[1000001, 1000001, 1000001, 1000001, 1000001, 1000001]\n",
      "/home/tabz/tmp/Maze12Baselines/\n"
     ]
    }
   ],
   "source": [
    "names = []\n",
    "legends = []\n",
    "t_maxs = []\n",
    "          \n",
    "# Prioritized replay stuff\n",
    "for xp in [100, 500]:\n",
    "        names += [\"XpSize_{}k_BonusClip\".format(xp)]\n",
    "        legends += [\"Uniform {}k XP\".format(xp)]\n",
    "        t_maxs += [1000001]\n",
    "        \n",
    "        names += [\"XpSize_{}k_Prioritized_Bonus\".format(xp)]\n",
    "        legends += [\"Prioritized {}k XP\".format(xp)]\n",
    "        t_maxs += [1000001]\n",
    "\n",
    "        names += [\"XpSize_{}k_Prioritized_IS\".format(xp)]\n",
    "        legends += [\"Prioritized IS {}k XP\".format(xp)]\n",
    "        t_maxs += [1000001]\n",
    "    \n",
    "direc = \"/home/tabz/tmp/Maze12Baselines/\"\n",
    "env = \"Med Maze 12\"\n",
    "directories = direc\n",
    "    \n",
    "print(names)\n",
    "print(t_maxs)\n",
    "print(directories)"
   ]
  },
  {
   "cell_type": "code",
   "execution_count": 32,
   "metadata": {
    "collapsed": false,
    "deletable": true,
    "editable": true
   },
   "outputs": [
    {
     "name": "stdout",
     "output_type": "stream",
     "text": [
      "['XpSize_100k_Prioritized_0_NScaler_', 'XpSize_100k_Prioritized_1.5_NScaler_', 'XpSize_100k_Prioritized_-1.5_NScaler_', 'XpSize_500k_Prioritized_0_NScaler_', 'XpSize_500k_Prioritized_1.5_NScaler_', 'XpSize_500k_Prioritized_-1.5_NScaler_']\n",
      "[1000001, 1000001, 1000001, 1000001, 1000001, 1000001]\n",
      "/home/tabz/tmp/Maze12Prioritized/\n"
     ]
    }
   ],
   "source": [
    "names = []\n",
    "legends = []\n",
    "t_maxs = []\n",
    "          \n",
    "# Prioritized replay stuff\n",
    "for xp in [100, 500]:\n",
    "    for nscaler in [0, 1.5, -1.5]:\n",
    "        names += [\"XpSize_{}k_Prioritized_{}_NScaler_\".format(xp, nscaler)]\n",
    "        legends += [\"Prioritized {}k XP {} NScaler\".format(xp, nscaler)]\n",
    "        t_maxs += [1000001]\n",
    "    \n",
    "direc = \"/home/tabz/tmp/Maze12Prioritized/\"\n",
    "env = \"Med Maze 12 50k Fresh Counts Negative TD Error Scaling\"\n",
    "directories = direc\n",
    "    \n",
    "print(names)\n",
    "print(t_maxs)\n",
    "print(directories)"
   ]
  },
  {
   "cell_type": "code",
   "execution_count": 33,
   "metadata": {
    "collapsed": false
   },
   "outputs": [
    {
     "name": "stdout",
     "output_type": "stream",
     "text": [
      "['DensityP_BonusClip', 'DensityP_IS_BonusClip']\n",
      "[800001, 800001]\n",
      "/home/scratch/tabhid/Log_Files/DensityP/\n"
     ]
    }
   ],
   "source": [
    "names = []\n",
    "legends = []\n",
    "t_maxs = []\n",
    "          \n",
    "# Density Prioritization\n",
    "names += [\"DensityP_BonusClip\"]\n",
    "legends += [\"DensityP\"]\n",
    "t_maxs += [800001]\n",
    "\n",
    "names += [\"DensityP_IS_BonusClip\"]\n",
    "legends += [\"DensityP IS\"]\n",
    "t_maxs += [800001]\n",
    "    \n",
    "direc = \"/home/scratch/tabhid/Log_Files/DensityP/\"\n",
    "env = \"Med Maze 10 50k Fresh Counts Density Prioritization\"\n",
    "directories = direc\n",
    "    \n",
    "print(names)\n",
    "print(t_maxs)\n",
    "print(directories)"
   ]
  },
  {
   "cell_type": "code",
   "execution_count": 34,
   "metadata": {
    "collapsed": false
   },
   "outputs": [
    {
     "name": "stdout",
     "output_type": "stream",
     "text": [
      "['_0.1_Alpha', '_0.3_Alpha', '_0.5_Alpha', '_0.7_Alpha', '_0.9_Alpha']\n",
      "[800001, 800001, 800001, 800001, 800001]\n",
      "/home/scratch/tabhid/Log_Files/Alpha/\n"
     ]
    }
   ],
   "source": [
    "names = []\n",
    "legends = []\n",
    "t_maxs = []\n",
    "          \n",
    "# Prioritized replay alpha\n",
    "for alpha in [0.1, 0.3, 0.5, 0.7, 0.9]:\n",
    "    names += [\"_{}_Alpha\".format(alpha)]\n",
    "    legends += [\"{} Alpha\".format(alpha)]\n",
    "    t_maxs += [800001]\n",
    "    \n",
    "direc = \"/home/scratch/tabhid/Log_Files/Alpha/\"\n",
    "env = \"Med Maze 10 50k Fresh Counts 1.5 NScaler Alpha\"\n",
    "directories = direc\n",
    "    \n",
    "print(names)\n",
    "print(t_maxs)\n",
    "print(directories)"
   ]
  },
  {
   "cell_type": "code",
   "execution_count": 35,
   "metadata": {
    "collapsed": false
   },
   "outputs": [
    {
     "name": "stdout",
     "output_type": "stream",
     "text": [
      "['XpSize_100k_*_0.5_NScaler_*Stale_50k_', 'XpSize_100k_*_0.5_NScaler_*Stale_500k_', 'XpSize_100k_*_2_NScaler_*Stale_50k_', 'XpSize_100k_*_2_NScaler_*Stale_500k_', 'XpSize_500k_*_0.5_NScaler_*Stale_50k_', 'XpSize_500k_*_0.5_NScaler_*Stale_500k_', 'XpSize_500k_*_2_NScaler_*Stale_50k_', 'XpSize_500k_*_2_NScaler_*Stale_500k_']\n",
      "[1000001, 1000001, 1000001, 1000001, 1000001, 1000001, 1000001, 1000001]\n",
      "/home/tabz/tmp/Maze12Alpha/\n",
      "\n",
      " 8 Lines\n"
     ]
    }
   ],
   "source": [
    "names = []\n",
    "legends = []\n",
    "t_maxs = []\n",
    "          \n",
    "# Prioritized replay stuff\n",
    "for xp in [100, 500]:\n",
    "    for nscaler in [0.5, 2]:\n",
    "        for fresh in [50, 500]:\n",
    "            names += [\"XpSize_{}k_*_{}_NScaler_*Stale_{}k_\".format(xp, nscaler, fresh)]\n",
    "            legends += [\"Prioritized {}k XP {} NScaler {}k Fresh\".format(xp, nscaler, fresh)]\n",
    "            t_maxs += [1000001]\n",
    "    \n",
    "direc = \"/home/tabz/tmp/Maze12Alpha/\"\n",
    "env = \"Med Maze 12 50k Negative TD Error Scaling Alpha 0.5\"\n",
    "directories = direc\n",
    "    \n",
    "print(names)\n",
    "print(t_maxs)\n",
    "print(directories)\n",
    "print(\"\\n\", \"{} Lines\".format(len(names)))"
   ]
  },
  {
   "cell_type": "code",
   "execution_count": 36,
   "metadata": {
    "collapsed": false
   },
   "outputs": [
    {
     "name": "stdout",
     "output_type": "stream",
     "text": [
      "['_0.3_Alpha*Stale_50k_', '_0.3_Alpha*Stale_500k_', '_0.5_Alpha*Stale_50k_', '_0.5_Alpha*Stale_500k_']\n",
      "[1000001, 1000001, 1000001, 1000001]\n",
      "/home/tabz/tmp/Maze12_Prioritized_Alpha//\n",
      "\n",
      " 4 Lines\n"
     ]
    }
   ],
   "source": [
    "names = []\n",
    "legends = []\n",
    "t_maxs = []\n",
    "          \n",
    "# Prioritized replay stuff\n",
    "for alpha in [0.3, 0.5]:\n",
    "    for fresh in [50, 500]:\n",
    "        names += [\"_{}_Alpha*Stale_{}k_\".format(alpha, fresh)]\n",
    "        legends += [\"Prioritized {} Alpha {}k Fresh\".format(alpha, fresh)]\n",
    "        t_maxs += [1000001]\n",
    "    \n",
    "direc = \"/home/tabz/tmp/Maze12_Prioritized_Alpha//\"\n",
    "env = \"Med Maze 12 Alpha 500k Replay\"\n",
    "directories = direc\n",
    "    \n",
    "print(names)\n",
    "print(t_maxs)\n",
    "print(directories)\n",
    "print(\"\\n\", \"{} Lines\".format(len(names)))"
   ]
  },
  {
   "cell_type": "code",
   "execution_count": 37,
   "metadata": {
    "collapsed": false
   },
   "outputs": [
    {
     "name": "stdout",
     "output_type": "stream",
     "text": [
      "['_100_Step*_1_NScaler', '_100_Step*_2_NScaler', '_100_Step*_4_NScaler', '_100_Step*_8_NScaler']\n",
      "[600001, 600001, 600001, 600001]\n",
      "/home/tabz/tmp/Maze14_Nscaling/\n",
      "\n",
      " 4 Lines\n"
     ]
    }
   ],
   "source": [
    "names = []\n",
    "legends = []\n",
    "t_maxs = []\n",
    "          \n",
    "# Prioritized replay stuff\n",
    "for step in [100]:\n",
    "    for nscaler in [1, 2, 4, 8]:\n",
    "        names += [\"_{}_Step*_{}_NScaler\".format(step, nscaler)]\n",
    "        legends += [\"{} Step {} Nscaling\".format(step, nscaler)]\n",
    "        t_maxs += [600001]\n",
    "    \n",
    "direc = \"/home/tabz/tmp/Maze14_Nscaling/\"\n",
    "env = \"Med Maze 14 Prioritized 300k XP Replay Stale\"\n",
    "directories = direc\n",
    "    \n",
    "print(names)\n",
    "print(t_maxs)\n",
    "print(directories)\n",
    "print(\"\\n\", \"{} Lines\".format(len(names)))"
   ]
  },
  {
   "cell_type": "code",
   "execution_count": 38,
   "metadata": {
    "collapsed": false
   },
   "outputs": [
    {
     "name": "stdout",
     "output_type": "stream",
     "text": [
      "['_CountEps_0.9_Decay', '_CountEps_0.99_Decay', '_CountEps_0.999_Decay', '_OptimisticAction_']\n",
      "[600001, 600001, 600001, 600001]\n",
      "/home/tabz/tmp/Maze14_Frontier/\n",
      "\n",
      " 4 Lines\n"
     ]
    }
   ],
   "source": [
    "names = []\n",
    "legends = []\n",
    "t_maxs = []\n",
    "          \n",
    "# Prioritized replay stuff\n",
    "for eps_decay in [0.9, 0.99, 0.999]:\n",
    "    names += [\"_CountEps_{}_Decay\".format(eps_decay)]\n",
    "    legends += [\"{} Eps Decay\".format(eps_decay)]\n",
    "    t_maxs += [600001]\n",
    "    \n",
    "names += [\"_OptimisticAction_\"]\n",
    "legends += [\"0.1 Bandit\"]\n",
    "t_maxs += [600001]\n",
    "    \n",
    "direc = \"/home/tabz/tmp/Maze14_Frontier/\"\n",
    "env = \"Med Maze 14 Prioritized 300k XP Replay Stale Frontier\"\n",
    "directories = direc\n",
    "    \n",
    "print(names)\n",
    "print(t_maxs)\n",
    "print(directories)\n",
    "print(\"\\n\", \"{} Lines\".format(len(names)))"
   ]
  },
  {
   "cell_type": "code",
   "execution_count": 39,
   "metadata": {
    "collapsed": false
   },
   "outputs": [
    {
     "name": "stdout",
     "output_type": "stream",
     "text": [
      "['_0.1_Alpha_16_NScaler*_OptimisticAction_', '_0.1_Alpha_16_NScaler*_CountEps_', '_0.3_Alpha_16_NScaler*_OptimisticAction_', '_0.3_Alpha_16_NScaler*_CountEps_', '_0.5_Alpha_16_NScaler*_OptimisticAction_', '_0.5_Alpha_16_NScaler*_CountEps_']\n",
      "[600001, 600001, 600001, 600001, 600001, 600001]\n",
      "/home/tabz/tmp/Maze14_Bandit/\n",
      "\n",
      " 6 Lines\n"
     ]
    }
   ],
   "source": [
    "names = []\n",
    "legends = []\n",
    "t_maxs = []\n",
    "          \n",
    "# Prioritized replay stuff\n",
    "for alpha in [0.1, 0.3, 0.5]:\n",
    "    for nscaler in [16]:\n",
    "        for bandit in [True, False]:\n",
    "            \n",
    "            if not bandit:\n",
    "                names += [\"_{}_Alpha_{}_NScaler*_CountEps_\".format(alpha, nscaler)]\n",
    "                legends += [\"{} Alpha {} NScaler Epsilon\".format(alpha, nscaler)]\n",
    "                t_maxs += [600001]\n",
    "            elif bandit:\n",
    "                names += [\"_{}_Alpha_{}_NScaler*_OptimisticAction_\".format(alpha, nscaler)]\n",
    "                legends += [\"{} Alpha {} NScaler 0.1 Bandit\".format(alpha, nscaler)]\n",
    "                t_maxs += [600001]\n",
    "    \n",
    "direc = \"/home/tabz/tmp/Maze14_Bandit/\"\n",
    "env = \"Med Maze 14 Prioritized 300k XP Replay Stale Frontier\"\n",
    "directories = direc\n",
    "    \n",
    "print(names)\n",
    "print(t_maxs)\n",
    "print(directories)\n",
    "print(\"\\n\", \"{} Lines\".format(len(names)))"
   ]
  },
  {
   "cell_type": "code",
   "execution_count": 40,
   "metadata": {
    "collapsed": false
   },
   "outputs": [
    {
     "name": "stdout",
     "output_type": "stream",
     "text": [
      "['XpSize_250k', 'XpSize_500k']\n",
      "[1000001, 1000001]\n",
      "/home/tabz/tmp/Maze14_Uniform/\n",
      "\n",
      " 2 Lines\n"
     ]
    }
   ],
   "source": [
    "names = []\n",
    "legends = []\n",
    "t_maxs = []\n",
    "          \n",
    "# Maze14 Uniform Baseline\n",
    "for xp in [250, 500]:\n",
    "    names += [\"XpSize_{}k\".format(xp)]\n",
    "    legends += [\"Uniform {}k XP\".format(xp)]\n",
    "    t_maxs += [1000001]\n",
    "    \n",
    "direc = \"/home/tabz/tmp/Maze14_Uniform/\"\n",
    "env = \"Med Maze 14 Uniform Replay\"\n",
    "directories = direc\n",
    "    \n",
    "print(names)\n",
    "print(t_maxs)\n",
    "print(directories)\n",
    "print(\"\\n\", \"{} Lines\".format(len(names)))"
   ]
  },
  {
   "cell_type": "code",
   "execution_count": 41,
   "metadata": {
    "collapsed": false
   },
   "outputs": [
    {
     "name": "stdout",
     "output_type": "stream",
     "text": [
      "['OptimisticAction_0.01_Scaler', 'OptimisticAction_0.1_Scaler', 'OptimisticAction_1_Scaler', 'OptimisticAction_10_Scaler']\n",
      "[600001, 600001, 600001, 600001]\n",
      "/home/tabz/tmp/Maze14_Bandit_Hyperparams/\n",
      "\n",
      " 4 Lines\n"
     ]
    }
   ],
   "source": [
    "names = []\n",
    "legends = []\n",
    "t_maxs = []\n",
    "          \n",
    "# Prioritized replay stuff\n",
    "for optim in [0.01, 0.1, 1, 10]:\n",
    "    names += [\"OptimisticAction_{}_Scaler\".format(optim)]\n",
    "    legends += [\"0.5 Alpha 8 NScaler {} Bandit\".format(optim)]\n",
    "    t_maxs += [600001]\n",
    "    \n",
    "direc = \"/home/tabz/tmp/Maze14_Bandit_Hyperparams/\"\n",
    "env = \"Med Maze 14 Prioritized Bandit Scaling\"\n",
    "directories = direc\n",
    "    \n",
    "print(names)\n",
    "print(t_maxs)\n",
    "print(directories)\n",
    "print(\"\\n\", \"{} Lines\".format(len(names)))"
   ]
  },
  {
   "cell_type": "code",
   "execution_count": 42,
   "metadata": {
    "collapsed": false
   },
   "outputs": [
    {
     "name": "stdout",
     "output_type": "stream",
     "text": [
      "['OptimisticAction_0.0001_Scaler', 'OptimisticAction_0.001_Scaler']\n",
      "[600001, 600001]\n",
      "/home/tabz/tmp/Maze14_Bandit_MoreHyperparams/\n",
      "\n",
      " 2 Lines\n"
     ]
    }
   ],
   "source": [
    "names = []\n",
    "legends = []\n",
    "t_maxs = []\n",
    "          \n",
    "# Prioritized replay stuff\n",
    "for optim in [0.0001, 0.001]:\n",
    "    names += [\"OptimisticAction_{}_Scaler\".format(optim)]\n",
    "    legends += [\"Uniform {} Bandit\".format(optim)]\n",
    "    t_maxs += [600001]\n",
    "    \n",
    "direc = \"/home/tabz/tmp/Maze14_Bandit_MoreHyperparams/\"\n",
    "env = \"Med Maze 14 Uniform Bandit Scaling\"\n",
    "directories = direc\n",
    "    \n",
    "print(names)\n",
    "print(t_maxs)\n",
    "print(directories)\n",
    "print(\"\\n\", \"{} Lines\".format(len(names)))"
   ]
  },
  {
   "cell_type": "code",
   "execution_count": 43,
   "metadata": {
    "collapsed": false
   },
   "outputs": [
    {
     "name": "stdout",
     "output_type": "stream",
     "text": [
      "['BonusClip_-1_Count', 'BonusClip_-1_NegativeReward', 'BonusClip_0.25_Count', 'BonusClip_0.25_NegativeReward', 'BonusClip_0.5_Count', 'BonusClip_0.5_NegativeReward']\n",
      "[600001, 600001, 600001, 600001, 600001, 600001]\n",
      "/home/tabz/tmp/logfiles/Maze14_RewardClip/\n",
      "\n",
      " 6 Lines\n"
     ]
    }
   ],
   "source": [
    "names = []\n",
    "legends = []\n",
    "t_maxs = []\n",
    "          \n",
    "# Pseudo reward clipping + scaling\n",
    "for bonus_clip in [-1, 0.25, 0.5]:\n",
    "    names += [\"BonusClip_{}_Count\".format(bonus_clip)]\n",
    "    legends += [\"BonusClip {}\".format(bonus_clip)]\n",
    "    t_maxs += [600001]\n",
    "    \n",
    "    names += [\"BonusClip_{}_NegativeReward\".format(bonus_clip)]\n",
    "    legends += [\"BonusClip {} NegativeReward 0.8\".format(bonus_clip)]\n",
    "    t_maxs += [600001]\n",
    "    \n",
    "direc = \"/home/tabz/tmp/logfiles/Maze14_RewardClip/\"\n",
    "env = \"Med Maze 14 Pseudo Reward Clipping\"\n",
    "directories = direc\n",
    "    \n",
    "print(names)\n",
    "print(t_maxs)\n",
    "print(directories)\n",
    "print(\"\\n\", \"{} Lines\".format(len(names)))"
   ]
  },
  {
   "cell_type": "code",
   "execution_count": 50,
   "metadata": {
    "collapsed": false
   },
   "outputs": [
    {
     "name": "stdout",
     "output_type": "stream",
     "text": [
      "['_XpSize_300k*_1_NScaler', '_XpSize_300k*_4_NScaler']\n",
      "[600001, 600001]\n",
      "/home/tabz/tmp/Maze14_NScaler/\n",
      "\n",
      " 2 Lines\n"
     ]
    }
   ],
   "source": [
    "names = []\n",
    "legends = []\n",
    "t_maxs = []\n",
    "          \n",
    "# Prioritized replay stuff\n",
    "for xp in [300]:\n",
    "    for nscaler in [1, 4]:\n",
    "            names += [\"_XpSize_{}k*_{}_NScaler\".format(xp, nscaler)]\n",
    "            legends += [\"{}k Xp {} NScaler\".format(xp, nscaler)]\n",
    "            t_maxs += [600001]\n",
    "    \n",
    "direc = \"/home/tabz/tmp/Maze14_NScaler/\"\n",
    "env = \"Med Maze 14 0.5 Prioritized XP Replay Stale\"\n",
    "directories = direc\n",
    "    \n",
    "print(names)\n",
    "print(t_maxs)\n",
    "print(directories)\n",
    "print(\"\\n\", \"{} Lines\".format(len(names)))"
   ]
  },
  {
   "cell_type": "code",
   "execution_count": 65,
   "metadata": {
    "collapsed": false
   },
   "outputs": [
    {
     "name": "stdout",
     "output_type": "stream",
     "text": [
      "['_0.01_MinusPseudo_', '_0.1_MinusPseudo_', '_1_MinusPseudo_', '_10_MinusPseudo_', '_NScaler_BonusClip']\n",
      "[600001, 600001, 600001, 600001, 600001]\n",
      "/home/tabz/tmp/Maze14_MinusPseudo/\n",
      "\n",
      " 5 Lines\n"
     ]
    }
   ],
   "source": [
    "names = []\n",
    "legends = []\n",
    "t_maxs = []\n",
    "          \n",
    "# Prioritized replay stuff\n",
    "for mp in [0.01, 0.1, 1, 10]:\n",
    "        names += [\"_{}_MinusPseudo_\".format(mp)]\n",
    "        legends += [\"{} MinusPseudo\".format(mp)]\n",
    "        t_maxs += [600001]\n",
    "        \n",
    "names += [\"_NScaler_BonusClip\"]\n",
    "legends += [\"0 MinusPseudo\"]\n",
    "t_maxs += [600001]\n",
    "    \n",
    "direc = \"/home/tabz/tmp/Maze14_MinusPseudo/\"\n",
    "env = \"Med Maze 14 0.5 Prioritized MinusPseudoRewards\"\n",
    "directories = direc\n",
    "    \n",
    "print(names)\n",
    "print(t_maxs)\n",
    "print(directories)\n",
    "print(\"\\n\", \"{} Lines\".format(len(names)))"
   ]
  },
  {
   "cell_type": "code",
   "execution_count": 66,
   "metadata": {
    "collapsed": true,
    "deletable": true,
    "editable": true
   },
   "outputs": [],
   "source": [
    "import itertools"
   ]
  },
  {
   "cell_type": "code",
   "execution_count": 67,
   "metadata": {
    "collapsed": false,
    "deletable": true,
    "editable": true
   },
   "outputs": [],
   "source": [
    "from bokeh.palettes import magma, inferno, Set1, Set3, Paired, Dark2"
   ]
  },
  {
   "cell_type": "code",
   "execution_count": 68,
   "metadata": {
    "collapsed": false,
    "deletable": true,
    "editable": true
   },
   "outputs": [],
   "source": [
    "if len(names) <= 2:\n",
    "    colours = [\"red\", \"green\"]\n",
    "elif len(names) > 10:\n",
    "    colours = Paired[len(names)]\n",
    "else:\n",
    "    colours = Set1[len(names)]"
   ]
  },
  {
   "cell_type": "code",
   "execution_count": 69,
   "metadata": {
    "collapsed": false,
    "deletable": true,
    "editable": true
   },
   "outputs": [
    {
     "data": {
      "text/html": [
       "\n",
       "\n",
       "    <div class=\"bk-root\">\n",
       "        <div class=\"bk-plotdiv\" id=\"4e411967-9204-4700-a9c5-357c56a3261f\"></div>\n",
       "    </div>\n",
       "<script type=\"text/javascript\">\n",
       "  \n",
       "  (function(global) {\n",
       "    function now() {\n",
       "      return new Date();\n",
       "    }\n",
       "  \n",
       "    var force = false;\n",
       "  \n",
       "    if (typeof (window._bokeh_onload_callbacks) === \"undefined\" || force === true) {\n",
       "      window._bokeh_onload_callbacks = [];\n",
       "      window._bokeh_is_loading = undefined;\n",
       "    }\n",
       "  \n",
       "  \n",
       "    \n",
       "    if (typeof (window._bokeh_timeout) === \"undefined\" || force === true) {\n",
       "      window._bokeh_timeout = Date.now() + 0;\n",
       "      window._bokeh_failed_load = false;\n",
       "    }\n",
       "  \n",
       "    var NB_LOAD_WARNING = {'data': {'text/html':\n",
       "       \"<div style='background-color: #fdd'>\\n\"+\n",
       "       \"<p>\\n\"+\n",
       "       \"BokehJS does not appear to have successfully loaded. If loading BokehJS from CDN, this \\n\"+\n",
       "       \"may be due to a slow or bad network connection. Possible fixes:\\n\"+\n",
       "       \"</p>\\n\"+\n",
       "       \"<ul>\\n\"+\n",
       "       \"<li>re-rerun `output_notebook()` to attempt to load from CDN again, or</li>\\n\"+\n",
       "       \"<li>use INLINE resources instead, as so:</li>\\n\"+\n",
       "       \"</ul>\\n\"+\n",
       "       \"<code>\\n\"+\n",
       "       \"from bokeh.resources import INLINE\\n\"+\n",
       "       \"output_notebook(resources=INLINE)\\n\"+\n",
       "       \"</code>\\n\"+\n",
       "       \"</div>\"}};\n",
       "  \n",
       "    function display_loaded() {\n",
       "      if (window.Bokeh !== undefined) {\n",
       "        document.getElementById(\"4e411967-9204-4700-a9c5-357c56a3261f\").textContent = \"BokehJS successfully loaded.\";\n",
       "      } else if (Date.now() < window._bokeh_timeout) {\n",
       "        setTimeout(display_loaded, 100)\n",
       "      }\n",
       "    }\n",
       "  \n",
       "    function run_callbacks() {\n",
       "      window._bokeh_onload_callbacks.forEach(function(callback) { callback() });\n",
       "      delete window._bokeh_onload_callbacks\n",
       "      console.info(\"Bokeh: all callbacks have finished\");\n",
       "    }\n",
       "  \n",
       "    function load_libs(js_urls, callback) {\n",
       "      window._bokeh_onload_callbacks.push(callback);\n",
       "      if (window._bokeh_is_loading > 0) {\n",
       "        console.log(\"Bokeh: BokehJS is being loaded, scheduling callback at\", now());\n",
       "        return null;\n",
       "      }\n",
       "      if (js_urls == null || js_urls.length === 0) {\n",
       "        run_callbacks();\n",
       "        return null;\n",
       "      }\n",
       "      console.log(\"Bokeh: BokehJS not loaded, scheduling load and callback at\", now());\n",
       "      window._bokeh_is_loading = js_urls.length;\n",
       "      for (var i = 0; i < js_urls.length; i++) {\n",
       "        var url = js_urls[i];\n",
       "        var s = document.createElement('script');\n",
       "        s.src = url;\n",
       "        s.async = false;\n",
       "        s.onreadystatechange = s.onload = function() {\n",
       "          window._bokeh_is_loading--;\n",
       "          if (window._bokeh_is_loading === 0) {\n",
       "            console.log(\"Bokeh: all BokehJS libraries loaded\");\n",
       "            run_callbacks()\n",
       "          }\n",
       "        };\n",
       "        s.onerror = function() {\n",
       "          console.warn(\"failed to load library \" + url);\n",
       "        };\n",
       "        console.log(\"Bokeh: injecting script tag for BokehJS library: \", url);\n",
       "        document.getElementsByTagName(\"head\")[0].appendChild(s);\n",
       "      }\n",
       "    };var element = document.getElementById(\"4e411967-9204-4700-a9c5-357c56a3261f\");\n",
       "    if (element == null) {\n",
       "      console.log(\"Bokeh: ERROR: autoload.js configured with elementid '4e411967-9204-4700-a9c5-357c56a3261f' but no matching script tag was found. \")\n",
       "      return false;\n",
       "    }\n",
       "  \n",
       "    var js_urls = [];\n",
       "  \n",
       "    var inline_js = [\n",
       "      function(Bokeh) {\n",
       "        (function() {\n",
       "          var fn = function() {\n",
       "            var docs_json = {\"110ce433-0ccf-42f5-a046-8ac2346e8cde\":{\"roots\":{\"references\":[{\"attributes\":{\"line_alpha\":{\"value\":0.1},\"line_color\":{\"value\":\"#1f77b4\"},\"line_width\":{\"value\":2},\"x\":{\"field\":\"x\"},\"y\":{\"field\":\"y\"}},\"id\":\"a046e018-ea99-45d8-93da-8830f13b7294\",\"type\":\"Line\"},{\"attributes\":{\"data_source\":{\"id\":\"67fa1f72-6f86-4684-bd19-a8a58f1e47f1\",\"type\":\"ColumnDataSource\"},\"glyph\":{\"id\":\"e20e5535-56f9-4f8c-825c-57795e1aec2f\",\"type\":\"Line\"},\"hover_glyph\":null,\"nonselection_glyph\":{\"id\":\"a046e018-ea99-45d8-93da-8830f13b7294\",\"type\":\"Line\"},\"selection_glyph\":null},\"id\":\"74971ded-638e-4c20-a0e7-b22a8c982d93\",\"type\":\"GlyphRenderer\"},{\"attributes\":{\"callback\":null,\"end\":1.1,\"start\":-0.1},\"id\":\"821899e9-7960-4668-9833-9326e2626ec5\",\"type\":\"Range1d\"},{\"attributes\":{\"line_color\":{\"value\":\"#ff7f00\"},\"line_width\":{\"value\":2},\"x\":{\"field\":\"x\"},\"y\":{\"field\":\"y\"}},\"id\":\"87977cb4-41b1-4a78-abbd-c17b9cdfec62\",\"type\":\"Line\"},{\"attributes\":{\"line_alpha\":{\"value\":0.1},\"line_color\":{\"value\":\"#1f77b4\"},\"line_width\":{\"value\":2},\"x\":{\"field\":\"x\"},\"y\":{\"field\":\"y\"}},\"id\":\"f63e2724-74c4-4e27-a684-3fc843a5e955\",\"type\":\"Line\"},{\"attributes\":{\"plot\":{\"id\":\"d806e1d7-a07c-4b26-9ca0-a1cb4bd01381\",\"subtype\":\"Figure\",\"type\":\"Plot\"}},\"id\":\"49652aad-dcc2-4d85-8391-a11a896d3b54\",\"type\":\"PanTool\"},{\"attributes\":{\"data_source\":{\"id\":\"ac5293df-a57e-4e18-85d0-c74f030d9f20\",\"type\":\"ColumnDataSource\"},\"glyph\":{\"id\":\"40045e77-f9af-4bc6-b433-5038f87e4f75\",\"type\":\"Line\"},\"hover_glyph\":null,\"nonselection_glyph\":{\"id\":\"f63e2724-74c4-4e27-a684-3fc843a5e955\",\"type\":\"Line\"},\"selection_glyph\":null},\"id\":\"d546ccac-5bb3-447c-abfc-946b26d76b64\",\"type\":\"GlyphRenderer\"},{\"attributes\":{\"callback\":null},\"id\":\"7528a5d4-0193-4620-be36-97b3ac1baf2b\",\"type\":\"DataRange1d\"},{\"attributes\":{\"line_alpha\":{\"value\":0.1},\"line_color\":{\"value\":\"#1f77b4\"},\"line_width\":{\"value\":2},\"x\":{\"field\":\"x\"},\"y\":{\"field\":\"y\"}},\"id\":\"e0c20238-c2d3-4589-91f3-8ebbcb8591c7\",\"type\":\"Line\"},{\"attributes\":{\"plot\":{\"id\":\"d806e1d7-a07c-4b26-9ca0-a1cb4bd01381\",\"subtype\":\"Figure\",\"type\":\"Plot\"}},\"id\":\"fb1c38d4-b5eb-4c76-8aba-b1b33a76249c\",\"type\":\"SaveTool\"},{\"attributes\":{\"data_source\":{\"id\":\"fd0b8f48-8607-4a92-bb12-68f5601e8289\",\"type\":\"ColumnDataSource\"},\"glyph\":{\"id\":\"87977cb4-41b1-4a78-abbd-c17b9cdfec62\",\"type\":\"Line\"},\"hover_glyph\":null,\"nonselection_glyph\":{\"id\":\"e0c20238-c2d3-4589-91f3-8ebbcb8591c7\",\"type\":\"Line\"},\"selection_glyph\":null},\"id\":\"78ac6498-6a92-4424-ac0d-25def8b25b91\",\"type\":\"GlyphRenderer\"},{\"attributes\":{},\"id\":\"7333d7d0-3168-4217-bb38-e7d9f98d47a2\",\"type\":\"BasicTicker\"},{\"attributes\":{\"overlay\":{\"id\":\"a056133c-8c15-427c-bf45-fe7024d7d844\",\"type\":\"BoxAnnotation\"},\"plot\":{\"id\":\"d806e1d7-a07c-4b26-9ca0-a1cb4bd01381\",\"subtype\":\"Figure\",\"type\":\"Plot\"}},\"id\":\"5ee4732b-ce3d-46eb-843f-f93729799776\",\"type\":\"BoxZoomTool\"},{\"attributes\":{\"label\":{\"value\":\"1 MinusPseudo\"},\"renderers\":[{\"id\":\"74971ded-638e-4c20-a0e7-b22a8c982d93\",\"type\":\"GlyphRenderer\"}]},\"id\":\"1ed11f62-74f9-412e-89d8-b06b2c932ca5\",\"type\":\"LegendItem\"},{\"attributes\":{\"callback\":null,\"column_names\":[\"x\",\"y\"],\"data\":{\"x\":[0,1000,2000,3000,4000,5000,6000,7000,8000,9000,10000,11000,12000,13000,14000,15000,16000,17000,18000,19000,20000,21000,22000,23000,24000,25000,26000,27000,28000,29000,30000,31000,32000,33000,34000,35000,36000,37000,38000,39000,40000,41000,42000,43000,44000,45000,46000,47000,48000,49000,50000,51000,52000,53000,54000,55000,56000,57000,58000,59000,60000,61000,62000,63000,64000,65000,66000,67000,68000,69000,70000,71000,72000,73000,74000,75000,76000,77000,78000,79000,80000,81000,82000,83000,84000,85000,86000,87000,88000,89000,90000,91000,92000,93000,94000,95000,96000,97000,98000,99000,100000,101000,102000,103000,104000,105000,106000,107000,108000,109000,110000,111000,112000,113000,114000,115000,116000,117000,118000,119000,120000,121000,122000,123000,124000,125000,126000,127000,128000,129000,130000,131000,132000,133000,134000,135000,136000,137000,138000,139000,140000,141000,142000,143000,144000,145000,146000,147000,148000,149000,150000,151000,152000,153000,154000,155000,156000,157000,158000,159000,160000,161000,162000,163000,164000,165000,166000,167000,168000,169000,170000,171000,172000,173000,174000,175000,176000,177000,178000,179000,180000,181000,182000,183000,184000,185000,186000,187000,188000,189000,190000,191000,192000,193000,194000,195000,196000,197000,198000,199000,200000,201000,202000,203000,204000,205000,206000,207000,208000,209000,210000,211000,212000,213000,214000,215000,216000,217000,218000,219000,220000,221000,222000,223000,224000,225000,226000,227000,228000,229000,230000,231000,232000,233000,234000,235000,236000,237000,238000,239000,240000,241000,242000,243000,244000,245000,246000,247000,248000,249000,250000,251000,252000,253000,254000,255000,256000,257000,258000,259000,260000,261000,262000,263000,264000,265000,266000,267000,268000,269000,270000,271000,272000,273000,274000,275000,276000,277000,278000,279000,280000,281000,282000,283000,284000,285000,286000,287000,288000,289000,290000,291000,292000,293000,294000,295000,296000,297000,298000,299000,300000,301000,302000,303000,304000,305000,306000,307000,308000,309000,310000,311000,312000,313000,314000,315000,316000,317000,318000,319000,320000,321000,322000,323000,324000,325000,326000,327000,328000,329000,330000,331000,332000,333000,334000,335000,336000,337000,338000,339000,340000,341000,342000,343000,344000,345000,346000,347000,348000,349000,350000,351000,352000,353000,354000,355000,356000,357000,358000,359000,360000,361000,362000,363000,364000,365000,366000,367000,368000,369000,370000,371000,372000,373000,374000,375000,376000,377000,378000,379000,380000,381000,382000,383000,384000,385000,386000,387000,388000,389000,390000,391000,392000,393000,394000,395000,396000,397000,398000,399000,400000,401000,402000,403000,404000,405000,406000,407000,408000,409000,410000,411000,412000,413000,414000,415000,416000,417000,418000,419000,420000,421000,422000,423000,424000,425000,426000,427000,428000,429000,430000,431000,432000,433000,434000,435000,436000,437000,438000,439000,440000,441000,442000,443000,444000,445000,446000,447000,448000,449000,450000,451000,452000,453000,454000,455000,456000,457000,458000,459000,460000,461000,462000,463000,464000,465000,466000,467000,468000,469000,470000,471000,472000,473000,474000,475000,476000,477000,478000,479000,480000,481000,482000,483000,484000,485000,486000,487000,488000,489000,490000,491000,492000,493000,494000,495000,496000,497000,498000,499000,500000,501000,502000,503000,504000,505000,506000,507000,508000,509000,510000,511000,512000,513000,514000,515000,516000,517000,518000,519000,520000,521000,522000,523000,524000,525000,526000,527000,528000,529000,530000,531000,532000,533000,534000,535000,536000,537000,538000,539000,540000,541000,542000,543000,544000,545000,546000,547000,548000,549000,550000,551000,552000,553000,554000,555000,556000,557000,558000,559000,560000,561000,562000,563000,564000,565000,566000,567000,568000,569000,570000,571000,572000,573000,574000,575000,576000,577000,578000,579000,580000,581000,582000,583000,584000,585000,586000,587000,588000,589000,590000,591000,592000,593000,594000,595000,596000,597000,598000,599000,600000],\"y\":{\"__ndarray__\":\"AAAAAAAAAAAAAAAAAAAAAAAAAAAAAAAAAAAAAAAAAAAAAAAAAAAAAAAAAAAAAAAAAAAAAAAAAAAAAAAAAAAAAAAAAAAAAAAAAAAAAAAAAAAAAAAAAAAAAAAAAAAAAAAAAAAAAAAAAAAAAAAAAAAAAAAAAAAAAAAAAAAAAAAAAAAAAAAAAAAAAAAAAAAAAAAAAAAAAAAAAAAAAAAAAAAAAAAAAAAAAAAAAAAAAAAAAAAAAAAAAAAAAAAAAAAAAAAAAAAAAAAAAAAAAAAAAAAAAAAAAAAAAAAAAAAAAAAAAAAAAAAAAAAAAAAAAAAAAAAAAAAAAAAAAAAAAAAAAAAAAAAAAAAAAAAAAAAAAAAAAAAAAAAAAAAAAAAAAAAAAAAAAAAAAAAAAAAAAAAAAAAAAAAAAAAAAAAAAAAAAAAAAAAAAAAAAAAAAAAAAAAAAAAAAAAAAAAAAAAAAAAAAAAAAAAAAAAAAAAAAAAAAAAAAAAAAAAAAAAAAAAAAAAAAAAAAAAAAAAAAAAAAAAAAAAAAAAAAAAAAAAAAAAAAAAAAAAAAAAAAAAAAAAAAAAAAAAAAAAAAAAAAAAAAAAAAAAAAAAAAAAAAAAAAAAAAAAAAAAAAAAAAAAAAAAAAAAAAAAAAAAAAAAAAAAAAAAAAAAAAAAAAAAAAAAAAAAAAAAAAAAAAAAAAAAAAAAAAAAAAAAAAAAAAAAAAAAAAAAAAAAAAAAAAAAAAAAAAAAAAAAAAAAAAAAAAAAAAAAAAAAAAAAAAAAAAAAAAAAAAAAAAAAAAAAAAAAAAAAAAAAAAAAAAAAAAAAAAAAAAAAAAAAAAAAAAAAAAAAAAAAAAAAAAAAAAAAAAAAAAAAAAAAAAAAAAAAAAAAAAAAAAAAAAAAAAAAAAAAAAAAAAAAAAAAAAAAAAAAAAAAAAAAAAAAAAAAAAAAAAAAAAAAAAAAAAAAAAAAAAAAAAAAAAAAAAAAAAAAAAAAAAAAAAAAAAAAAAAAAAAAAAAAAAAAAAAAAAAAAAAAAAAAAAAAAAAAAAAAAAAAAAAAAAAAAAAAAAAAAAAAAAAAAAAAAAAAAAAAAAAAAAAAAAAAAAAAAAAAAAAAAAAAAAAAAAAAAAAAAAAAAAAAAAAAAAAAAAAAAAAAAAAAAAAAAAAAAAAAAAAAAAAAAAAAAAAAAAAAAAAAAAAAAAAAAAAAAAAAAAAAAAAAAAAAAAAAAAAAAAAAAAAAAAAAAAAAAAAAAAAAAAAAAAAAAAAAAAAAAAAAAAAAAAAAAAAAAAAAAAAAAAAAAAAAAAAAAAAAAAAAAAAAAAAAAnEfPdseqlz+2dRuZFcCxP4QZg1R5lb0/qV71h261xD+QMKllIKDKPzyBriFpRdA/L2qIEMI60z8jU2L/GjDWPxY8PO5zJdk/CyUW3cwa3D/+DfDLJRDfP3j7ZF2/AuE/8u/R1Gt94j9s5D5MGPjjP+bYq8PEcuU/qi0WWSzo5T8zGcGtl/nlP7wEbAIDC+Y/RPAWV24c5j/N28Gr2S3mPzjbL8OKKOY/Ix+TQPPU5T8OY/a9W4HlP/qmWTvELeU/5eq8uCza5D/QLiA2lYbkP7tyg7P9MuQ/prbmMGbf4z+R+kmuzovjP3w+rSs3OOM/Z4IQqZ/k4j9SxnMmCJHiPz4K16NwPeI/KE46Idnp4T8Ukp2eQZbhP//VAByqQuE/6hlkmRLv4D/VXccWe5vgP8ChKpTjR+A/aHr8bVMN4D8uwL7IgmzgP/MFgSOyy+A/uEtDfuEq4T9+kQXZEIrhP0PXxzNA6eE/CB2Kjm9I4j/NYkzpnqfiP5KoDkTOBuM/WO7Qnv1l4z8dNJP5LMXjP+J5VVRcJOQ/p78Xr4uD5D9tBdoJu+LkPzJLnGTqQeU/95Bevxmh5T+81iAaSQDmP4Ic43R4X+Y/R2Klz6e+5j8MqGcq1x3nP9HtKYUGfec/lzPs3zXc5z8AAAAAAADoPwAAAAAAAOg/AAAAAAAA6D8AAAAAAADoPwAAAAAAAOg/AAAAAAAA6D8AAAAAAADoPwAAAAAAAOg/AAAAAAAA6D8AAAAAAADoPwAAAAAAAOg/AAAAAAAA6D8AAAAAAADoPwAAAAAAAOg/AAAAAAAA6D8AAAAAAADoPwAAAAAAAOg/AAAAAAAA6D8AAAAAAADoPwAAAAAAAOg/AAAAAAAA6D8AAAAAAADoPwAAAAAAAOg/AAAAAAAA6D8AAAAAAADoPwAAAAAAAOg/AAAAAAAA6D8AAAAAAADoPwAAAAAAAOg/AAAAAAAA6D8AAAAAAADoPwAAAAAAAOg/AAAAAAAA6D8AAAAAAADoPwAAAAAAAOg/AAAAAAAA6D8AAAAAAADoPwAAAAAAAOg/AAAAAAAA6D8AAAAAAADoPwAAAAAAAOg/AAAAAAAA6D8AAAAAAADoPwAAAAAAAOg/AAAAAAAA6D8AAAAAAADoPwAAAAAAAOg/AAAAAAAA6D8AAAAAAADoPwAAAAAAAOg/AAAAAAAA6D8AAAAAAADoPwAAAAAAAOg/AAAAAAAA6D8AAAAAAADoPwAAAAAAAOg/AAAAAAAA6D8AAAAAAADoPwAAAAAAAOg/AAAAAAAA6D8AAAAAAADoPwAAAAAAAOg/AAAAAAAA6D8AAAAAAADoPwAAAAAAAOg/AAAAAAAA6D8AAAAAAADoPwAAAAAAAOg/AAAAAAAA6D8AAAAAAADoPwAAAAAAAOg/AAAAAAAA6D8AAAAAAADoPwAAAAAAAOg/AAAAAAAA6D8AAAAAAADoPwAAAAAAAOg/AAAAAAAA6D8AAAAAAADoPwAAAAAAAOg/AAAAAAAA6D8AAAAAAADoPwAAAAAAAOg/AAAAAAAA6D8AAAAAAADoPwAAAAAAAOg/AAAAAAAA6D8AAAAAAADoPwAAAAAAAOg/AAAAAAAA6D8AAAAAAADoPwAAAAAAAOg/AAAAAAAA6D8AAAAAAADoPwAAAAAAAOg/AAAAAAAA6D8AAAAAAADoPwAAAAAAAOg/AAAAAAAA6D8AAAAAAADoPwAAAAAAAOg/AAAAAAAA6D8AAAAAAADoPwAAAAAAAOg/AAAAAAAA6D8AAAAAAADoPwAAAAAAAOg/AAAAAAAA6D8AAAAAAADoPwAAAAAAAOg/AAAAAAAA6D8AAAAAAADoPwAAAAAAAOg/AAAAAAAA6D8AAAAAAADoPwAAAAAAAOg/AAAAAAAA6D8AAAAAAADoPwAAAAAAAOg/AAAAAAAA6D8AAAAAAADoPwAAAAAAAOg/AAAAAAAA6D8AAAAAAADoPwAAAAAAAOg/AAAAAAAA6D8AAAAAAADoPwAAAAAAAOg/AAAAAAAA6D8AAAAAAADoPwAAAAAAAOg/AAAAAAAA6D8AAAAAAADoPwAAAAAAAOg/AAAAAAAA6D8AAAAAAADoPwAAAAAAAOg/AAAAAAAA6D8AAAAAAADoPwAAAAAAAOg/AAAAAAAA6D8AAAAAAADoPwAAAAAAAOg/AAAAAAAA6D8AAAAAAADoPwAAAAAAAOg/AAAAAAAA6D8AAAAAAADoPwAAAAAAAOg/AAAAAAAA6D8AAAAAAADoPwAAAAAAAOg/AAAAAAAA6D8AAAAAAADoPwAAAAAAAOg/AAAAAAAA6D8AAAAAAADoPwAAAAAAAOg/AAAAAAAA6D8AAAAAAADoPwAAAAAAAOg/AAAAAAAA6D8AAAAAAADoPwAAAAAAAOg/AAAAAAAA6D8AAAAAAADoPwAAAAAAAOg/AAAAAAAA6D8AAAAAAADoPwAAAAAAAOg/AAAAAAAA6D8AAAAAAADoPwAAAAAAAOg/AAAAAAAA6D8AAAAAAADoPwAAAAAAAOg/AAAAAAAA6D8AAAAAAADoPwAAAAAAAOg/AAAAAAAA6D8AAAAAAADoPwAAAAAAAOg/AAAAAAAA6D8AAAAAAADoPwAAAAAAAOg/AAAAAAAA6D8AAAAAAADoPwAAAAAAAOg/AAAAAAAA6D8AAAAAAADoPwAAAAAAAOg/AAAAAAAA6D8AAAAAAADoPwAAAAAAAOg/AAAAAAAA6D8AAAAAAADoPwAAAAAAAOg/AAAAAAAA6D8AAAAAAADoPwAAAAAAAOg/AAAAAAAA6D8AAAAAAADoPwAAAAAAAOg/AAAAAAAA6D8AAAAAAADoPwAAAAAAAOg/AAAAAAAA6D8AAAAAAADoPwAAAAAAAOg/AAAAAAAA6D8AAAAAAADoPwAAAAAAAOg/AAAAAAAA6D8AAAAAAADoPwAAAAAAAOg/AAAAAAAA6D8AAAAAAADoPwAAAAAAAOg/AAAAAAAA6D8AAAAAAADoPwAAAAAAAOg/AAAAAAAA6D8AAAAAAADoPwAAAAAAAOg/AAAAAAAA6D8AAAAAAADoPwAAAAAAAOg/AAAAAAAA6D8AAAAAAADoPwAAAAAAAOg/AAAAAAAA6D8AAAAAAADoPwAAAAAAAOg/AAAAAAAA6D8AAAAAAADoPwAAAAAAAOg/AAAAAAAA6D8AAAAAAADoPwAAAAAAAOg/AAAAAAAA6D8AAAAAAADoPwAAAAAAAOg/AAAAAAAA6D8AAAAAAADoPwAAAAAAAOg/AAAAAAAA6D8AAAAAAADoPwAAAAAAAOg/AAAAAAAA6D8AAAAAAADoPwAAAAAAAOg/AAAAAAAA6D8AAAAAAADoPwAAAAAAAOg/AAAAAAAA6D8AAAAAAADoPwAAAAAAAOg/AAAAAAAA6D8AAAAAAADoPwAAAAAAAOg/AAAAAAAA6D8AAAAAAADoPwAAAAAAAOg/AAAAAAAA6D8AAAAAAADoPwAAAAAAAOg/AAAAAAAA6D8AAAAAAADoPwAAAAAAAOg/AAAAAAAA6D8AAAAAAADoPwAAAAAAAOg/E6w3fHTx5z/+75r53J3nP+kz/nZFSuc/1Hdh9K325j+/u8RxFqPmP6r/J+9+T+Y/lkOLbOf75T+Ah+7pT6jlP2zLUWe4VOU/Vw+15CAB5T9CUxhiia3kPy2Xe9/xWeQ/GNveXFoG5D8DH0LawrLjP+5ipVcrX+M/2aYI1ZML4z/E6mtS/LfiP7Auz89kZOI/m3IyTc0Q4j+GtpXKNb3hP3H6+EeeaeE/XD5cxQYW4T9Hgr9Cb8LgPzLGIsDXbuA/HQqGPUAb4D8rWclKVvLgP/KMZzzjWeI/uMAFLnDB4z9+9KMf/SjlP0UoQhGKkOY/DFzgAhf45z8AAAAAAADoPwAAAAAAAOg/AAAAAAAA6D8AAAAAAADoPwAAAAAAAOg/AAAAAAAA6D8AAAAAAADoPwAAAAAAAOg/AAAAAAAA6D8AAAAAAADoPwAAAAAAAOg/AAAAAAAA6D8AAAAAAADoPwAAAAAAAOg/AAAAAAAA6D8AAAAAAADoPwAAAAAAAOg/AAAAAAAA6D8AAAAAAADoPwAAAAAAAOg/AAAAAAAA6D8AAAAAAADoPwAAAAAAAOg/AAAAAAAA6D8AAAAAAADoPwAAAAAAAOg/AAAAAAAA6D8AAAAAAADoPwAAAAAAAOg/AAAAAAAA6D8AAAAAAADoPwAAAAAAAOg/AAAAAAAA6D8AAAAAAADoPwAAAAAAAOg/AAAAAAAA6D8AAAAAAADoPwAAAAAAAOg/AAAAAAAA6D8AAAAAAADoPwAAAAAAAOg/AAAAAAAA6D8AAAAAAADoPwAAAAAAAOg/AAAAAAAA6D8AAAAAAADoPwAAAAAAAOg/AAAAAAAA6D8AAAAAAADoPwAAAAAAAOg/AAAAAAAA6D8AAAAAAADoPwAAAAAAAOg/AAAAAAAA6D8AAAAAAADoPwAAAAAAAOg/AAAAAAAA6D8AAAAAAADoPwAAAAAAAOg/AAAAAAAA6D8AAAAAAADoPwAAAAAAAOg/AAAAAAAA6D8AAAAAAADoPwAAAAAAAOg/AAAAAAAA6D8AAAAAAADoPwAAAAAAAOg/AAAAAAAA6D8AAAAAAADoPwAAAAAAAOg/AAAAAAAA6D8AAAAAAADoPwAAAAAAAOg/////////5z8AAAAAAADoPwAAAAAAAOg/AAAAAAAA6D8AAAAAAADoPwAAAAAAAOg/AAAAAAAA6D8AAAAAAADoPwAAAAAAAOg/AAAAAAAA6D8AAAAAAADoPwAAAAAAAOg/AAAAAAAA6D8AAAAAAADoPwAAAAAAAOg/AAAAAAAA6D8AAAAAAADoPwAAAAAAAOg/AAAAAAAA6D8AAAAAAADoPwAAAAAAAOg/AAAAAAAA6D8AAAAAAADoPwAAAAAAAOg/AAAAAAAA6D8AAAAAAADoPwAAAAAAAOg/AAAAAAAA6D8AAAAAAADoPwAAAAAAAOg/AAAAAAAA6D8AAAAAAADoPwAAAAAAAOg/AAAAAAAA6D8AAAAAAADoPwAAAAAAAOg/AAAAAAAA6D8AAAAAAADoPwAAAAAAAOg/AAAAAAAA6D8=\",\"dtype\":\"float64\",\"shape\":[601]}}},\"id\":\"5b343535-8394-477f-9bee-b4603b900d95\",\"type\":\"ColumnDataSource\"},{\"attributes\":{\"label\":{\"value\":\"0.1 MinusPseudo\"},\"renderers\":[{\"id\":\"baa6f26f-6f56-49ca-ac36-a3dd54855d97\",\"type\":\"GlyphRenderer\"}]},\"id\":\"fc0913bc-7e48-4607-a7b8-1b6dfad1a9f5\",\"type\":\"LegendItem\"},{\"attributes\":{\"label\":{\"value\":\"10 MinusPseudo\"},\"renderers\":[{\"id\":\"d546ccac-5bb3-447c-abfc-946b26d76b64\",\"type\":\"GlyphRenderer\"}]},\"id\":\"9903ad82-65c1-4780-b7a6-894982cca024\",\"type\":\"LegendItem\"},{\"attributes\":{\"label\":{\"value\":\"0 MinusPseudo\"},\"renderers\":[{\"id\":\"78ac6498-6a92-4424-ac0d-25def8b25b91\",\"type\":\"GlyphRenderer\"}]},\"id\":\"7807afb9-47a7-4de5-a443-fdc93c433f04\",\"type\":\"LegendItem\"},{\"attributes\":{\"plot\":{\"id\":\"d806e1d7-a07c-4b26-9ca0-a1cb4bd01381\",\"subtype\":\"Figure\",\"type\":\"Plot\"}},\"id\":\"97721507-ccd0-43f5-a1fe-0b36f0a206da\",\"type\":\"ResetTool\"},{\"attributes\":{\"items\":[{\"id\":\"1b4d1494-a1ed-40d2-9918-ae5fd41eca05\",\"type\":\"LegendItem\"},{\"id\":\"fc0913bc-7e48-4607-a7b8-1b6dfad1a9f5\",\"type\":\"LegendItem\"},{\"id\":\"1ed11f62-74f9-412e-89d8-b06b2c932ca5\",\"type\":\"LegendItem\"},{\"id\":\"9903ad82-65c1-4780-b7a6-894982cca024\",\"type\":\"LegendItem\"},{\"id\":\"7807afb9-47a7-4de5-a443-fdc93c433f04\",\"type\":\"LegendItem\"}],\"location\":[0,-30],\"plot\":{\"id\":\"d806e1d7-a07c-4b26-9ca0-a1cb4bd01381\",\"subtype\":\"Figure\",\"type\":\"Plot\"}},\"id\":\"2ac67254-73c8-4458-90c8-455190852bfa\",\"type\":\"Legend\"},{\"attributes\":{\"axis_label\":\"Episode Reward\",\"formatter\":{\"id\":\"f22adc66-de42-45ed-b3d0-162342929ba8\",\"type\":\"BasicTickFormatter\"},\"plot\":{\"id\":\"d806e1d7-a07c-4b26-9ca0-a1cb4bd01381\",\"subtype\":\"Figure\",\"type\":\"Plot\"},\"ticker\":{\"id\":\"7333d7d0-3168-4217-bb38-e7d9f98d47a2\",\"type\":\"BasicTicker\"}},\"id\":\"e56ed1b2-7b50-4568-a692-fb06362ce8fd\",\"type\":\"LinearAxis\"},{\"attributes\":{},\"id\":\"cf668f24-4326-49ff-9805-c225abfd9f44\",\"type\":\"ToolEvents\"},{\"attributes\":{\"line_color\":{\"value\":\"#e41a1c\"},\"line_width\":{\"value\":2},\"x\":{\"field\":\"x\"},\"y\":{\"field\":\"y\"}},\"id\":\"fcc51d08-9f0b-41b0-a64b-a046b3dec4e5\",\"type\":\"Line\"},{\"attributes\":{\"plot\":{\"id\":\"d806e1d7-a07c-4b26-9ca0-a1cb4bd01381\",\"subtype\":\"Figure\",\"type\":\"Plot\"}},\"id\":\"73894c44-cd3f-4970-8d03-052b1a23c754\",\"type\":\"HelpTool\"},{\"attributes\":{\"plot\":{\"id\":\"d806e1d7-a07c-4b26-9ca0-a1cb4bd01381\",\"subtype\":\"Figure\",\"type\":\"Plot\"},\"ticker\":{\"id\":\"8ae3cc5f-0d62-4337-afd3-6225b4641b78\",\"type\":\"BasicTicker\"}},\"id\":\"1f906f42-ffea-4b2e-855b-6a89dc54ad7c\",\"type\":\"Grid\"},{\"attributes\":{\"line_alpha\":{\"value\":0.1},\"line_color\":{\"value\":\"#1f77b4\"},\"line_width\":{\"value\":2},\"x\":{\"field\":\"x\"},\"y\":{\"field\":\"y\"}},\"id\":\"07bcaa00-9963-4eec-94ca-199946bf634c\",\"type\":\"Line\"},{\"attributes\":{},\"id\":\"f22adc66-de42-45ed-b3d0-162342929ba8\",\"type\":\"BasicTickFormatter\"},{\"attributes\":{\"callback\":null,\"column_names\":[\"x\",\"y\"],\"data\":{\"x\":[0,1000,2000,3000,4000,5000,6000,7000,8000,9000,10000,11000,12000,13000,14000,15000,16000,17000,18000,19000,20000,21000,22000,23000,24000,25000,26000,27000,28000,29000,30000,31000,32000,33000,34000,35000,36000,37000,38000,39000,40000,41000,42000,43000,44000,45000,46000,47000,48000,49000,50000,51000,52000,53000,54000,55000,56000,57000,58000,59000,60000,61000,62000,63000,64000,65000,66000,67000,68000,69000,70000,71000,72000,73000,74000,75000,76000,77000,78000,79000,80000,81000,82000,83000,84000,85000,86000,87000,88000,89000,90000,91000,92000,93000,94000,95000,96000,97000,98000,99000,100000,101000,102000,103000,104000,105000,106000,107000,108000,109000,110000,111000,112000,113000,114000,115000,116000,117000,118000,119000,120000,121000,122000,123000,124000,125000,126000,127000,128000,129000,130000,131000,132000,133000,134000,135000,136000,137000,138000,139000,140000,141000,142000,143000,144000,145000,146000,147000,148000,149000,150000,151000,152000,153000,154000,155000,156000,157000,158000,159000,160000,161000,162000,163000,164000,165000,166000,167000,168000,169000,170000,171000,172000,173000,174000,175000,176000,177000,178000,179000,180000,181000,182000,183000,184000,185000,186000,187000,188000,189000,190000,191000,192000,193000,194000,195000,196000,197000,198000,199000,200000,201000,202000,203000,204000,205000,206000,207000,208000,209000,210000,211000,212000,213000,214000,215000,216000,217000,218000,219000,220000,221000,222000,223000,224000,225000,226000,227000,228000,229000,230000,231000,232000,233000,234000,235000,236000,237000,238000,239000,240000,241000,242000,243000,244000,245000,246000,247000,248000,249000,250000,251000,252000,253000,254000,255000,256000,257000,258000,259000,260000,261000,262000,263000,264000,265000,266000,267000,268000,269000,270000,271000,272000,273000,274000,275000,276000,277000,278000,279000,280000,281000,282000,283000,284000,285000,286000,287000,288000,289000,290000,291000,292000,293000,294000,295000,296000,297000,298000,299000,300000,301000,302000,303000,304000,305000,306000,307000,308000,309000,310000,311000,312000,313000,314000,315000,316000,317000,318000,319000,320000,321000,322000,323000,324000,325000,326000,327000,328000,329000,330000,331000,332000,333000,334000,335000,336000,337000,338000,339000,340000,341000,342000,343000,344000,345000,346000,347000,348000,349000,350000,351000,352000,353000,354000,355000,356000,357000,358000,359000,360000,361000,362000,363000,364000,365000,366000,367000,368000,369000,370000,371000,372000,373000,374000,375000,376000,377000,378000,379000,380000,381000,382000,383000,384000,385000,386000,387000,388000,389000,390000,391000,392000,393000,394000,395000,396000,397000,398000,399000,400000,401000,402000,403000,404000,405000,406000,407000,408000,409000,410000,411000,412000,413000,414000,415000,416000,417000,418000,419000,420000,421000,422000,423000,424000,425000,426000,427000,428000,429000,430000,431000,432000,433000,434000,435000,436000,437000,438000,439000,440000,441000,442000,443000,444000,445000,446000,447000,448000,449000,450000,451000,452000,453000,454000,455000,456000,457000,458000,459000,460000,461000,462000,463000,464000,465000,466000,467000,468000,469000,470000,471000,472000,473000,474000,475000,476000,477000,478000,479000,480000,481000,482000,483000,484000,485000,486000,487000,488000,489000,490000,491000,492000,493000,494000,495000,496000,497000,498000,499000,500000,501000,502000,503000,504000,505000,506000,507000,508000,509000,510000,511000,512000,513000,514000,515000,516000,517000,518000,519000,520000,521000,522000,523000,524000,525000,526000,527000,528000,529000,530000,531000,532000,533000,534000,535000,536000,537000,538000,539000,540000,541000,542000,543000,544000,545000,546000,547000,548000,549000,550000,551000,552000,553000,554000,555000,556000,557000,558000,559000,560000,561000,562000,563000,564000,565000,566000,567000,568000,569000,570000,571000,572000,573000,574000,575000,576000,577000,578000,579000,580000,581000,582000,583000,584000,585000,586000,587000,588000,589000,590000,591000,592000,593000,594000,595000,596000,597000,598000,599000,600000],\"y\":{\"__ndarray__\":\"AAAAAAAAAAAAAAAAAAAAAAAAAAAAAAAAAAAAAAAAAAAAAAAAAAAAAAAAAAAAAAAAAAAAAAAAAAAAAAAAAAAAAAAAAAAAAAAAAAAAAAAAAAAAAAAAAAAAAAAAAAAAAAAAAAAAAAAAAAAAAAAAAAAAAAAAAAAAAAAAAAAAAAAAAAAAAAAAAAAAAAAAAAAAAAAAAAAAAAAAAAAAAAAAAAAAAAAAAAAAAAAAAAAAAAAAAAAAAAAAAAAAAAAAAAAAAAAAAAAAAAAAAAAAAAAAAAAAAAAAAAAAAAAAAAAAAAAAAAAAAAAAAAAAAAAAAAAAAAAAAAAAAAAAAAAAAAAAAAAAAAAAAAAAAAAAAAAAAAAAAAAAAAAAAAAAAAAAAAAAAAAAAAAAAAAAAAAAAAAAAAAAAAAAAAAAAAAAAAAAAAAAAAAAAAAAAAAAAAAAAAAAAAAAAAAAAAAAAAAAAAAAAAAAAAAAAAAAAAAAAAAAAAAAAAAAAAAAAAAAAAAAAAAAAAAAAAAAAAAAAAAAAAAAAAAAAAAAAAAAAAAAAAAAAAAAAAAAAAAAAAAAAAAAAAAAAAAAAAAAAAAAAAAAAAAAAAAAAAAAAAAAAAAAAAAAAAAAAAAAAAAAAAAAAAAAAAAAAAAAAAAAAAAAAAAAAAAAAAAAAAAAAAAAAAAAAAAAAAAAAAAAAAAAAAAAAAAAAAAAAAAAAAAAAAAAAAAAAAAAAAAAAAAAAAAAAAAAAAAAAAAAAAAAAAAAAAAAAAAAAAAAAAAAAAAAAAAAAAAAAAAAAAAAAAAAAAAAAAAAAAAAAAAAAAAAAAAAAAAAAAAAAAAAAAAAAAAAAAAAAAAAAAAAAAAAAAAAAAAAAAAAAAAAAAAAAAAAAAAAAAAAAAAAAAAAAAAAAAAAAAAAAAAAAAAAAAAAAAAAAAAAAAAAAAAAAAAAAAAAAAAAAAAAAAAAAAAAAAAAAAAAAAAAAAAAAAAAAAAAAAAAAAAAAAAAAAAAAAAAAAAAAAAAAAAAAAAAAAAAAAAAAAAAAAAAAAAAAAAAAAAAAAAAAAAAAAAAQ3sFoZZglD9DewWhlmCkP+U4iPHhkK4/Q3sFoZZgtD8U2kZJvHi5P+U4iPHhkL4/28vkzIPUwT9DewWhlmDEP6wqJnWp7MY/FNpGSbx4yT99iWcdzwTMP+U4iPHhkM4/1VD6p+Ftzz+CYIedgx/OPy5wFJMl0cw/23+hiMeCyz+Hjy5+aTTKPzOfu3ML5sg/4K5Iaa2Xxz+MvtVeT0nGPznOYlTx+sQ/5d3vSZOswz+R7Xw/NV7CPz79CTXXD8E/1BkuVfKCvz8tOUhANua8P4ZYYit6Sbo/33d8Fr6stz84l5YBAhC1P5G2sOxFc7I/06uVrxOtrz+E6smFm3OqPzYp/lsjOqU/6GcyMqsAoD8yTc0QZo6VPyuVa3rrNoY/H//IM60QRT8AAAAAAAAAAAAAAAAAAAAAAAAAAAAAAAAAAAAAAAAAAAAAAAAAAAAAAAAAAAAAAAAAAAAAAAAAAAAAAAAAAAAAAAAAAAAAAAAAAAAAAAAAAAAAAAAAAAAAAAAAAAAAAAAAAAAAAAAAAAAAAAAAAAAAAAAAAAAAAAAAAAAAAAAAAAAAAAAAAAAAAAAAAAAAAAAAAAAAAAAAAAAAAAAAAAAAAAAAAAAAAAAAAAAAAAAAAAAAAAAAAAAAAAAAAAAAAAAAAAAAAAAAAAAAAAAAAAAAAAAAAAAAAAAAAAAAAAAAAAAAAAAAAAAAAAAAAAAAAAAAAAAAAAAAAAAAAAAAAAAAAAAAAAAAAAAAAAAAAAAAAAAAAAAAAAAAAAAAAAAAAAAAAAAAAAAAAAAAAAAAAAAAAAAAAAAAAAAAAAAAAAAAAAAAAAAAAAAAAAAAAAAAAAAAAAAAAAAAAAAAAAAAAAAAAAAAAAAAAAAAAAAAAAAAAAAAAAAAAAAAAAAAAAAAAAAAAAAAAAAAAAAAAAAAAAAAAAAAAAAAAAAAAAAAAAAAAAAAAAAAAAAAAAAAAAAAAAAAAAAAAAAAAAAAAAAAAAAAAAAAAAAAAAAAAAAAAAAAAAAAAAAAAAAAAAAAAAAAAAAAAAAAAAAAAAAAAAAAAAAAAAAAAAAAAAAAAAAAAAAAAAAAAAAAAAAAAAAAAAAAAAAAAAAAAAAAAAAAAAAAAAAAAAAAAAAAAAAAAAAAAAAAAAAAAAAAAAAAAAAAAAAAAAAAAAAAAAAAACTDcbfDcIE/HcaY+M6snD9UVbwKnlCoP80jlkxqJbE/8BzOk4Uitj8TFgbboB+7P5sHHxFeDsA/LAS7tOuMwj++AFdYeQvFP0/98vsGisc/4PmOn5QIyj9y9ipDIofMPwPzxuavBc8/////////zz/////////PP/7//////88/AAAAAAAA0D/+///////PP////////88/////////zz/////////PP2Br80DmB88/DHuANoi5zT+5ig0sKmvMP2WamiHMHMs/EaonF27OyT++ubQMEIDIP2rJQQKyMcc/F9nO91PjxT/D6Fvt9ZTEP2/46OKXRsM/HAh22Dn4wT/IFwPO26nAP+lOIIf7tr4/Qm46cj8avD+bjVRdg325P/SsbkjH4LY/TMyIMwtEtD+l66IeT6exP/wVehMmFa4/rlSu6a3bqD9fk+K/NaKjPyKkLSx70Zw/hSGW2Ipekj+ie/oTaq5/Pxto0tWtjHs/EtFaY3+soT8gVfsLaeevP5fsTVopEbc/ni6eLp4uvj9TOHeBCabCP1ZZn+vDNMY/WnrHVX7DyT9dm++/OFLNPwAAAAAAANA/AAAAAAAA0D8AAAAAAADQPwAAAAAAANA/AAAAAAAA0D8AAAAAAADQPwAAAAAAANA/AAAAAAAA0D8AAAAAAADQPwAAAAAAANA/AAAAAAAA0D8AAAAAAADQPwAAAAAAANA/AAAAAAAA0D8AAAAAAADQPwAAAAAAANA/AAAAAAAA0D8AAAAAAADQPwAAAAAAANA/AAAAAAAA0D8AAAAAAADQPwAAAAAAANA/AAAAAAAA0D8AAAAAAADQPwAAAAAAANA/AAAAAAAA0D8AAAAAAADQPwAAAAAAANA/AAAAAAAA0D8AAAAAAADQPwAAAAAAANA/AAAAAAAA0D8AAAAAAADQPwAAAAAAANA/AQAAAAAA0D8AAAAAAADQPwAAAAAAANA/AAAAAAAA0D8AAAAAAADQP////////88/AAAAAAAA0D8AAAAAAADQP////////88/////////zz8AAAAAAADQPwAAAAAAANA/AAAAAAAA0D8AAAAAAADQPwAAAAAAANA/AAAAAAAA0D8AAAAAAADQPwAAAAAAANA/AAAAAAAA0D8AAAAAAADQPwAAAAAAANA/AAAAAAAA0D8AAAAAAADQPwAAAAAAANA/AAAAAAAA0D8AAAAAAADQPwAAAAAAANA/AAAAAAAA0D8AAAAAAADQPwAAAAAAANA/AAAAAAAA0D8BAAAAAADQPwAAAAAAANA/AAAAAAAA0D8AAAAAAADQPwAAAAAAANA/AAAAAAAA0D8AAAAAAADQPwAAAAAAANA/AAAAAAAA0D8AAAAAAADQPwAAAAAAANA/2Swr854Zzz+FPLjoQMvNPzJMRd7ifMw/3lvS04Quyz+Ka1/JJuDJPy5JaA6ywM0/aJO4qZ7Q0D87Aj1M5MDSPwxxwe4psdQ/3t9FkW+h1j+vTsoztZHYP4C9Ttb6gdo/UizTeEBy3D8km1cbhmLeP/sE7t5lKeA/ZDwwsIgh4T/Nc3KBqxniPznBleVXzeE/+oy/XZHS4D94sdKrla/fP/pIJpwIut0/fOB5jHvE2z//d8187s7ZP4IPIW1h2dc/BK6koGs11j+eA7Quke/VPzpZw7y2qdU/1K7SStxj1T9wBOLYAR7VPwpa8WYn2NQ/pa8A9UyS1D8/BRCDckzUP9paHxGYBtQ/dLAun73A0z8QBj4t43rTP6tbTbsINdM/RbFcSS7v0j/gBmzXU6nSP3pce2V5Y9I/FrKK854d0j9KTxO6jB3RP7YAy0MSF9A/AAAAAAAA0D8AAAAAAADQPwAAAAAAANA/////////zz8AAAAAAADQPwAAAAAAANA/AAAAAAAA0D8AAAAAAADQPwAAAAAAANA/////////zz8AAAAAAADQP////////88/////////zz/////////PPwAAAAAAANA/AAAAAAAA0D8AAAAAAADQPwAAAAAAANA/AAAAAAAA0D8AAAAAAADQPwAAAAAAANA/AAAAAAAA0D8AAAAAAADQPwAAAAAAANA/AAAAAAAA0D8AAAAAAADQPwAAAAAAANA/AAAAAAAA0D8AAAAAAADQPwAAAAAAANA/AAAAAAAA0D8AAAAAAADQPwAAAAAAANA/AAAAAAAA0D8AAAAAAADQPwAAAAAAANA/AAAAAAAA0D8AAAAAAADQPwAAAAAAANA/AAAAAAAA0D8AAAAAAADQPwAAAAAAANA/AAAAAAAA0D8AAAAAAADQP////////88/AAAAAAAA0D8AAAAAAADQPwAAAAAAANA/AAAAAAAA0D8AAAAAAADQPwAAAAAAANA/AAAAAAAA0D8AAAAAAADQPwAAAAAAANA/AAAAAAAA0D8AAAAAAADQPwAAAAAAANA/AAAAAAAA0D8AAAAAAADQPwAAAAAAANA/AAAAAAAA0D8AAAAAAADQP////////88/////////zz8AAAAAAADQPwAAAAAAANA/////////zz8AAAAAAADQPwAAAAAAANA/AAAAAAAA0D8AAAAAAADQPwAAAAAAANA/AAAAAAAA0D8AAAAAAADQPwAAAAAAANA/AAAAAAAA0D8AAAAAAADQPwAAAAAAANA/AAAAAAAA0D8AAAAAAADQPwAAAAAAANA/AAAAAAAA0D8AAAAAAADQPwAAAAAAANA/AAAAAAAA0D8AAAAAAADQPwAAAAAAANA/AAAAAAAA0D8AAAAAAADQPwAAAAAAANA/AAAAAAAA0D/////////PPwAAAAAAANA/////////zz/////////PPwAAAAAAANA/AAAAAAAA0D8AAAAAAADQPwAAAAAAANA/AAAAAAAA0D8AAAAAAADQPwAAAAAAANA/AAAAAAAA0D8AAAAAAADQPwAAAAAAANA/AAAAAAAA0D8AAAAAAADQPwAAAAAAANA/AAAAAAAA0D8AAAAAAADQPwAAAAAAANA/AAAAAAAA0D8AAAAAAADQPwAAAAAAANA/AAAAAAAA0D8AAAAAAADQPwAAAAAAANA/AAAAAAAA0D8AAAAAAADQPwAAAAAAANA/AAAAAAAA0D8AAAAAAADQPxfNZDBGX9A/XK3fZnZm0T+hjVqdpm3SP+Zt1dPWdNM/K05QCgd81D9wLstAN4PVP7UORndnitY/+u7ArZeR1z+DJezd2nrYP56NLQ/c2tg/ufVuQN062T/UXbBx3prZP/DF8aLf+tk/Cy4z1OBa2j8mlnQF4rraP0D+tTbjGts/9pTkz5qo2j/MHKvKawHaP6KkccU8Wtk/eCw4wA2z2D9PtP663gvYPyU8xbWvZNc/+8OLsIC91j/RS1KrURbWP6jTGKYib9U/fVvfoPPH1D9U46WbxCDUP1QZ6rsw+tI/ACl3sdKr0T+tOASndF3QP7OQIjktHs4/C7A8JHGByz9kz1YPteTIPwvktNacHcs/rPm+DZ6fzz+mh2SizxDSP3aS6T3QUdQ/Rp1u2dCS1j9ehAXslVHYPzQMzOZmqtc/CpSS4TcD1z/hG1ncCFzWP7ejH9fZtNU/jSvm0aoN1T9js6zMe2bUPzo7c8dMv9M/EMM5wh0Y0z/mSgC97nDSP7zSxre/ydE/C/myrg/w0T+gi/9P1yXSP/azMUlsh9I/tL6372Jk0z9zyT2WWUHUPzLUwzxQHtU/8N5J40b71T+u6c+JPdjWP230VTA0tdc/LP/b1iqS2D/qCWJ9IW/ZP6kU6CMYTNo/0Nw+CwOR2z9cYmYz4j3dP+rnjVvB6t4/vLbaQdBL4D+Cee7VPyLhP0o8Amqv+OE/Ic9MpbOj4j+IjB3mpwvjP/BJ7iacc+M/WAe/Z5Db4z+/xI+ohEPkPyaCYOl4q+Q/jj8xKm0T5T/2/AFrYXvlP1260qtV4+U/VMB0QT5K5z96yap8yADpP6DS4LdSt+o/xdsW89xt7D/r5EwuZyTuP8x5YQMYRe8/cfr4R55p7z9cPlzFBhbvP0eCv0Jvwu4/MsYiwNdu7j8dCoY9QBvuPwhO6bqox+0/9JFMOBF07T/f1a+1eSDtP8oZEzPizOw/tV12sEp57D+godktsyXsP4vlPKsb0us/dimgKIR+6z9hbQOm7CrrP0yxZiNV1+o/OPXJoL2D6j8=\",\"dtype\":\"float64\",\"shape\":[601]}}},\"id\":\"ac5293df-a57e-4e18-85d0-c74f030d9f20\",\"type\":\"ColumnDataSource\"},{\"attributes\":{\"active_drag\":\"auto\",\"active_scroll\":\"auto\",\"active_tap\":\"auto\",\"tools\":[{\"id\":\"49652aad-dcc2-4d85-8391-a11a896d3b54\",\"type\":\"PanTool\"},{\"id\":\"ee42b023-fc21-42f7-8d26-e5f02d8fa6a1\",\"type\":\"WheelZoomTool\"},{\"id\":\"5ee4732b-ce3d-46eb-843f-f93729799776\",\"type\":\"BoxZoomTool\"},{\"id\":\"fb1c38d4-b5eb-4c76-8aba-b1b33a76249c\",\"type\":\"SaveTool\"},{\"id\":\"97721507-ccd0-43f5-a1fe-0b36f0a206da\",\"type\":\"ResetTool\"},{\"id\":\"73894c44-cd3f-4970-8d03-052b1a23c754\",\"type\":\"HelpTool\"}]},\"id\":\"104e941d-981b-49ca-b733-65236a61ae31\",\"type\":\"Toolbar\"},{\"attributes\":{\"line_alpha\":{\"value\":0.1},\"line_color\":{\"value\":\"#1f77b4\"},\"line_width\":{\"value\":2},\"x\":{\"field\":\"x\"},\"y\":{\"field\":\"y\"}},\"id\":\"f33fe4fc-31c6-40a8-b33b-a9e5a98a2804\",\"type\":\"Line\"},{\"attributes\":{\"line_color\":{\"value\":\"#4daf4a\"},\"line_width\":{\"value\":2},\"x\":{\"field\":\"x\"},\"y\":{\"field\":\"y\"}},\"id\":\"e20e5535-56f9-4f8c-825c-57795e1aec2f\",\"type\":\"Line\"},{\"attributes\":{\"callback\":null,\"column_names\":[\"x\",\"y\"],\"data\":{\"x\":[0,1000,2000,3000,4000,5000,6000,7000,8000,9000,10000,11000,12000,13000,14000,15000,16000,17000,18000,19000,20000,21000,22000,23000,24000,25000,26000,27000,28000,29000,30000,31000,32000,33000,34000,35000,36000,37000,38000,39000,40000,41000,42000,43000,44000,45000,46000,47000,48000,49000,50000,51000,52000,53000,54000,55000,56000,57000,58000,59000,60000,61000,62000,63000,64000,65000,66000,67000,68000,69000,70000,71000,72000,73000,74000,75000,76000,77000,78000,79000,80000,81000,82000,83000,84000,85000,86000,87000,88000,89000,90000,91000,92000,93000,94000,95000,96000,97000,98000,99000,100000,101000,102000,103000,104000,105000,106000,107000,108000,109000,110000,111000,112000,113000,114000,115000,116000,117000,118000,119000,120000,121000,122000,123000,124000,125000,126000,127000,128000,129000,130000,131000,132000,133000,134000,135000,136000,137000,138000,139000,140000,141000,142000,143000,144000,145000,146000,147000,148000,149000,150000,151000,152000,153000,154000,155000,156000,157000,158000,159000,160000,161000,162000,163000,164000,165000,166000,167000,168000,169000,170000,171000,172000,173000,174000,175000,176000,177000,178000,179000,180000,181000,182000,183000,184000,185000,186000,187000,188000,189000,190000,191000,192000,193000,194000,195000,196000,197000,198000,199000,200000,201000,202000,203000,204000,205000,206000,207000,208000,209000,210000,211000,212000,213000,214000,215000,216000,217000,218000,219000,220000,221000,222000,223000,224000,225000,226000,227000,228000,229000,230000,231000,232000,233000,234000,235000,236000,237000,238000,239000,240000,241000,242000,243000,244000,245000,246000,247000,248000,249000,250000,251000,252000,253000,254000,255000,256000,257000,258000,259000,260000,261000,262000,263000,264000,265000,266000,267000,268000,269000,270000,271000,272000,273000,274000,275000,276000,277000,278000,279000,280000,281000,282000,283000,284000,285000,286000,287000,288000,289000,290000,291000,292000,293000,294000,295000,296000,297000,298000,299000,300000,301000,302000,303000,304000,305000,306000,307000,308000,309000,310000,311000,312000,313000,314000,315000,316000,317000,318000,319000,320000,321000,322000,323000,324000,325000,326000,327000,328000,329000,330000,331000,332000,333000,334000,335000,336000,337000,338000,339000,340000,341000,342000,343000,344000,345000,346000,347000,348000,349000,350000,351000,352000,353000,354000,355000,356000,357000,358000,359000,360000,361000,362000,363000,364000,365000,366000,367000,368000,369000,370000,371000,372000,373000,374000,375000,376000,377000,378000,379000,380000,381000,382000,383000,384000,385000,386000,387000,388000,389000,390000,391000,392000,393000,394000,395000,396000,397000,398000,399000,400000,401000,402000,403000,404000,405000,406000,407000,408000,409000,410000,411000,412000,413000,414000,415000,416000,417000,418000,419000,420000,421000,422000,423000,424000,425000,426000,427000,428000,429000,430000,431000,432000,433000,434000,435000,436000,437000,438000,439000,440000,441000,442000,443000,444000,445000,446000,447000,448000,449000,450000,451000,452000,453000,454000,455000,456000,457000,458000,459000,460000,461000,462000,463000,464000,465000,466000,467000,468000,469000,470000,471000,472000,473000,474000,475000,476000,477000,478000,479000,480000,481000,482000,483000,484000,485000,486000,487000,488000,489000,490000,491000,492000,493000,494000,495000,496000,497000,498000,499000,500000,501000,502000,503000,504000,505000,506000,507000,508000,509000,510000,511000,512000,513000,514000,515000,516000,517000,518000,519000,520000,521000,522000,523000,524000,525000,526000,527000,528000,529000,530000,531000,532000,533000,534000,535000,536000,537000,538000,539000,540000,541000,542000,543000,544000,545000,546000,547000,548000,549000,550000,551000,552000,553000,554000,555000,556000,557000,558000,559000,560000,561000,562000,563000,564000,565000,566000,567000,568000,569000,570000,571000,572000,573000,574000,575000,576000,577000,578000,579000,580000,581000,582000,583000,584000,585000,586000,587000,588000,589000,590000,591000,592000,593000,594000,595000,596000,597000,598000,599000,600000],\"y\":{\"__ndarray__\":\"AAAAAAAAAAAAAAAAAAAAAAAAAAAAAAAAAAAAAAAAAAAAAAAAAAAAAAAAAAAAAAAAAAAAAAAAAAAAAAAAAAAAAAAAAAAAAAAAAAAAAAAAAAAAAAAAAAAAAAAAAAAAAAAAAAAAAAAAAAAAAAAAAAAAAAAAAAAAAAAAAAAAAAAAAAAAAAAAAAAAAAAAAAAAAAAAAAAAAAAAAAAAAAAAAAAAAAAAAAAAAAAAAAAAAAAAAAAAAAAAAAAAAAAAAAAAAAAAAAAAAAAAAAAAAAAAAAAAAAAAAAAAAAAAAAAAAAAAAAAAAAAAAAAAAAAAAAAAAAAAAAAAAAAAAAAAAAAAAAAAAAAAAAAAAAAAAAAAAAAAAAAAAAAAAAAAAAAAAAAAAAAAAAAAAAAAAAAAAAAAAAAAAAAAAAAAAAAAAAAAAAAAAAAAAAAAAAAAAAAAAAAAAAAAAAAAAAAAAAAAAAAAAAAAAAAAAAAAAAAAAAAAAAAAAAAAAAAAAAAAAAAAAAAAAAAAAAAAAAAAAAAAAAAAAAAAAAAAAAAAAAAAAAAAAAAAAAAAAAAAAAAAAAAAAAAAAAAAAAAAAAAAAAAAAAAAAAAAAAAAAAAAAAAAAAAAAAAAAAAAAAAAAAAAAAAAAAAAAAAAAAAAAAAAAAAAAAAAAAAAAAAAAAAAAAAAAAAAAAAAAAAAAAAAAAAAAAAAAAAAAAAAAAAAAAAAAAAAAAAAAAAAAAAAAAAAAAAAAAAAAAAAAAAAAAAAAAAAAAAAAAAAAAAAAAAAAAAAAAAAAAAAAAAAAAAAAAAAAAAAAAAAAAAAAAAAAAAAAAAAAAAAAAAAAAAAAAAAAAAAAAAAAAAAAAAAAAAAAAAAAAAAAAAAAAAAAAAAAAAAAAAAAAAAAAAAAAAAAAAAAAAAAAAAAAAAAAAAAAAAAAAAAAAAAAAAAAAAAAAAAAAAAAAAAAAAAAAAAAAAAAAAAAAAAAAAAAAAAAAAAAAAAAAAAAAAAAAAAAAAAAAAAAAAAAAAAAAAAAAAAAAAAAAAAAAAAAAAAAAAAAAAAAAAAAAAAAAAAAAAAAAAAAAAAAAAAAAAAAAAAAAAAAAAAAAAAAAAAAAAAAAAAAAAAAAAAAAAAAAAAAAAAAAAAAAAAAAAAAAAAAAAAAAAAAAAAAAAAAAAAAAAAAAAAAAAAAAAAAAAAAAAAAAAAAAAAAAAAAAAAAAAAAAAAAAAAAAAAAAAAAAAAAAAAAAAAAAAAAAAAAAAAAAAAAAAAAAAAAAAAAAAAAAAAAAAAAAAAAAAAAAAAAAAAAAAAAAAAAAAAAAAAAAAAAAAAAAAAAAAAAAAAAAAAAAAAAAAAAAAAAAAAAAAAAAAAAAAAAAAAAAAAAAAAAAAAAAAAAAAAAAAAAAAAAAAAAAAAAAAAAAAAAAAAAAAAAAAAAAAAAAAAAAAAAAAAAAAAAAAAAAAAAAAAAAAAAAAAAAAAAAAAAAAAAAAAAAAAAAAAAAAAAAAAAAAAAAAAAAAAAAAAAAAAAAAAAAAAAAAAAAAAAAAAAAAAAAAAAAAAAAAAAAAAAAAAAAAAAAAAAAAAAAAAAAAAAAAAAASQOjpr52bPxJA6Omvnas/DTBu70O2tD8SQOjpr527PwsoMfKNQsE/DTBu70O2xD8QOKvs+SnIPxJA6Omvncs/FEgl52URzz8AAAAAAADQPwAAAAAAANA/AAAAAAAA0D8AAAAAAADQPwAAAAAAANA/AAAAAAAA0D8AAAAAAADQPwAAAAAAANA/////////zz/////////PP////////88/AAAAAAAA0D8AAAAAAADQPwAAAAAAANA/AAAAAAAA0D8AAAAAAADQPwAAAAAAANA/AAAAAAAA0D8AAAAAAADQPwAAAAAAANA/AAAAAAAA0D8AAAAAAADQPwAAAAAAANA/AAAAAAAA0D8AAAAAAADQPwAAAAAAANA/AAAAAAAA0D8AAAAAAADQPwAAAAAAANA/AAAAAAAA0D8AAAAAAADQPwAAAAAAANA/AAAAAAAA0D8AAAAAAADQPwAAAAAAANA/AAAAAAAA0D8AAAAAAADQPwAAAAAAANA/AAAAAAAA0D8AAAAAAADQPyYWHyjb/9A/TCw+ULb/0T9xQl14kf/SP5dYfKBs/9M/vW6byEf/1D/ihLrwIv/VPwib2Rj+/tY/LrH4QNn+1z9UxxdptP7YP3rdNpGP/tk/oPNVuWr+2j/FCXXhRf7bP+sflAkh/tw/EDazMfz93T82TNJZ1/3eP1xi8YGy/d8/AAAAAAAA4D8AAAAAAADgPwAAAAAAAOA/AAAAAAAA4D8AAAAAAADgPwAAAAAAAOA/AAAAAAAA4D8AAAAAAADgPwAAAAAAAOA/AAAAAAAA4D8AAAAAAADgPwAAAAAAAOA/AAAAAAAA4D8AAAAAAADgPwAAAAAAAOA/AAAAAAAA4D8AAAAAAADgPwAAAAAAAOA/AAAAAAAA4D8AAAAAAADgPwAAAAAAAOA/AAAAAAAA4D8AAAAAAADgPwAAAAAAAOA/AAAAAAAA4D8AAAAAAADgPwAAAAAAAOA/AAAAAAAA4D8AAAAAAADgPwAAAAAAAOA/AAAAAAAA4D8AAAAAAADgPwAAAAAAAOA/AAAAAAAA4D8AAAAAAADgPwAAAAAAAOA/AAAAAAAA4D8AAAAAAADgPwAAAAAAAOA/AAAAAAAA4D8AAAAAAADgPwAAAAAAAOA/AAAAAAAA4D8AAAAAAADgPwAAAAAAAOA/AAAAAAAA4D8AAAAAAADgPwAAAAAAAOA/////////3z8AAAAAAADgPwAAAAAAAOA/AAAAAAAA4D8AAAAAAADgPwAAAAAAAOA/AAAAAAAA4D8AAAAAAADgPwAAAAAAAOA/AAAAAAAA4D8AAAAAAADgPwAAAAAAAOA/AAAAAAAA4D8AAAAAAADgPwAAAAAAAOA/AAAAAAAA4D8AAAAAAADgPwAAAAAAAOA/AAAAAAAA4D8AAAAAAADgPwAAAAAAAOA/AAAAAAAA4D8AAAAAAADgPwAAAAAAAOA/AAAAAAAA4D8AAAAAAADgPwAAAAAAAOA/AAAAAAAA4D8AAAAAAADgPwAAAAAAAOA/AAAAAAAA4D8AAAAAAADgPwAAAAAAAOA/AAAAAAAA4D8AAAAAAADgPwAAAAAAAOA/AAAAAAAA4D8AAAAAAADgPwAAAAAAAOA/AAAAAAAA4D8AAAAAAADgPwAAAAAAAOA/AAAAAAAA4D8AAAAAAADgPwAAAAAAAOA/AAAAAAAA4D8AAAAAAADgPwAAAAAAAOA/AAAAAAAA4D8AAAAAAADgPwAAAAAAAOA/AAAAAAAA4D8AAAAAAADgPwAAAAAAAOA/AAAAAAAA4D8AAAAAAADgPwAAAAAAAOA/AAAAAAAA4D8AAAAAAADgPwAAAAAAAOA/AAAAAAAA4D8AAAAAAADgPwAAAAAAAOA/AAAAAAAA4D8AAAAAAADgPwAAAAAAAOA/AAAAAAAA4D8AAAAAAADgPwAAAAAAAOA/AAAAAAAA4D8AAAAAAADgPwAAAAAAAOA/AAAAAAAA4D8AAAAAAADgPwAAAAAAAOA/AAAAAAAA4D8AAAAAAADgPwAAAAAAAOA/AAAAAAAA4D8AAAAAAADgPwAAAAAAAOA/AAAAAAAA4D8AAAAAAADgPwAAAAAAAOA/AAAAAAAA4D8AAAAAAADgPwAAAAAAAOA/AAAAAAAA4D8AAAAAAADgPwAAAAAAAOA/AAAAAAAA4D8AAAAAAADgPwAAAAAAAOA/AAAAAAAA4D8AAAAAAADgPwAAAAAAAOA/AAAAAAAA4D8AAAAAAADgPwAAAAAAAOA/AAAAAAAA4D8AAAAAAADgPwAAAAAAAOA/AAAAAAAA4D8AAAAAAADgPwAAAAAAAOA/AAAAAAAA4D8AAAAAAADgPwAAAAAAAOA/AAAAAAAA4D8AAAAAAADgPwAAAAAAAOA/AAAAAAAA4D8AAAAAAADgPwAAAAAAAOA/AAAAAAAA4D8AAAAAAADgPwAAAAAAAOA/AAAAAAAA4D8AAAAAAADgPwAAAAAAAOA/AAAAAAAA4D8AAAAAAADgPwAAAAAAAOA/AAAAAAAA4D8AAAAAAADgPwAAAAAAAOA/AAAAAAAA4D8AAAAAAADgPwAAAAAAAOA/AAAAAAAA4D8AAAAAAADgPwAAAAAAAOA/+FqEaSte4D/wtQjTVrzgP+cQjTyCGuE/32sRpq144T/XxpUP2dbhP84hGnkENeI/xnye4i+T4j++1yJMW/HiP0x2MiJuS+M/LhUaCQJW4z8RtAHwlWDjP/RS6dYpa+M/1/HQvb114z+6kLikUYDjP5wvoIvliuM/f86HcnmV4z9ibW9ZDaDjP0UMV0ChquM/KKs+JzW14z8LSiYOyb/jP+7oDfVcyuM/h+1hHSWo4z9ddSgY9gDjPzP97hLHWeI/CYW1DZiy4T/fDHwIaQvhP7aUQgM6ZOA/GDkS/BV63z/DSJ/xtyveP3FYLOdZ3dw/Hmi53PuO2z/Kd0bSnUDaP3aH08c/8tg/yxqbZWXe1z93KihbB5DWPyQ6tVCpQdU/0ElCRkvz0z98Wc877aTSPylpXDGPVtE/1XjpJjEI0D8DEe04pnPNP1wwByTq1so/tE8hDy46yD8Obzv6cZ3FP2aOVeW1AMM/v61v0PljwD/YhDQOmKm/P4A3NSXh5b8/FPUaHhURwD9nTpupOS/AP7unGzVeTcA/DwGcwIJrwD9jWhxMp4nAP7aznNfLp8A/Cg0dY/DFwD9eZp3uFOTAP7K/HXo5AsE/BgcG58FSwT9Q5SvvM//HP3OGYtiEw88/y5PM4OrD0z9c5GdVE6bXP+40A8o7iNs/f4WePmRq3z8I65xZRqbhP6HZkN8DguM/JIpeYgBy5D+nOizl/GHlPxZFhvpmIeY/Gmc6Vati5j8eie6v76PmPyKrogo05eY//HQ15WSa5j/ouJhizUbmP9P8+9818+U/vkBfXZ6f5T+phMLaBkzlP5TIJVhv+OQ/fwyJ1dek5D9qUOxSQFHkP1aUT9Co/eM/QNiyTRGq4z8sHBbLeVbjPxdgeUjiAuM/AqTcxUqv4j/t5z9Ds1viP9gro8AbCOI/w28GPoS04T+us2m77GDhP5r3zDhVDeE/hDswtr254D9wf5MzJmbgP1rD9rCOEuA/AAAAAAAA4D8AAAAAAADgPwAAAAAAAOA/AAAAAAAA4D8AAAAAAADgPwAAAAAAAOA/AAAAAAAA4D8AAAAAAADgPwAAAAAAAOA/AAAAAAAA4D8AAAAAAADgPwAAAAAAAOA/AAAAAAAA4D8AAAAAAADgPwAAAAAAAOA/AAAAAAAA4D8AAAAAAADgPwAAAAAAAOA/AAAAAAAA4D8AAAAAAADgPwAAAAAAAOA/AAAAAAAA4D8AAAAAAADgPwAAAAAAAOA/AAAAAAAA4D8AAAAAAADgPwAAAAAAAOA/AAAAAAAA4D8AAAAAAADgP4TwG/pSQ+A/jNFT7vjJ4D+UsovinlDhP5yTw9ZE1+E/pHT7yupd4j+sVTO/kOTiP7Q2a7M2a+M/uxejp9zx4z/D+NqbgnjkP8vZEpAo/+Q/07pKhM6F5T/bm4J4dAzmP+N8umwak+Y/613yYMAZ5z/zPipVZqDnPwAAAAAAAOg/AAAAAAAA6D8AAAAAAADoPwAAAAAAAOg/AAAAAAAA6D8AAAAAAADoPwAAAAAAAOg/AAAAAAAA6D8AAAAAAADoPwAAAAAAAOg/////////5z8AAAAAAADoPwAAAAAAAOg/AAAAAAAA6D8AAAAAAADoPwAAAAAAAOg/AAAAAAAA6D8AAAAAAADoPwAAAAAAAOg/AAAAAAAA6D8AAAAAAADoPwAAAAAAAOg/AAAAAAAA6D8AAAAAAADoPwAAAAAAAOg/AAAAAAAA6D8AAAAAAADoPwAAAAAAAOg/AAAAAAAA6D9eAR/CoyToPwB+YOVvqOg/ofqhCDws6T9Dd+MrCLDpP+TzJE/UM+o/hnBmcqC36j8n7aeVbDvrP8pp6bg4v+s/auYq3ARD7D8MY2z/0MbsP63frSKdSu0/T1zvRWnO7T/w2DBpNVLuP5JVcowB1u4/M9Kzr81Z7z/VTvXSmd3vP8/BD8M5wu8/ugVzQKJu7z+lSda9ChvvP5CNOTtzx+4/e9GcuNtz7j9mFQA2RCDuP1JZY7OszO0/PJ3GMBV57T8o4SmufSXtPxMljSvm0ew//mjwqE5+7D/prFMmtyrsP9TwtqMf1+s/vzQaIYiD6z+qeH2e8C/rP5W84BtZ3Oo/gABEmcGI6j9sRKcWKjXqP1eICpSS4ek/QsxtEfuN6T8tENGOYzrpPxhUNAzM5ug/A5iXiTST6D/u2/oGnT/oPy6ymmLp2+c/weSb354T6D8=\",\"dtype\":\"float64\",\"shape\":[601]}}},\"id\":\"bcdb3032-aee0-4473-8eb5-83e0f6bee0f1\",\"type\":\"ColumnDataSource\"},{\"attributes\":{\"line_color\":{\"value\":\"#984ea3\"},\"line_width\":{\"value\":2},\"x\":{\"field\":\"x\"},\"y\":{\"field\":\"y\"}},\"id\":\"40045e77-f9af-4bc6-b433-5038f87e4f75\",\"type\":\"Line\"},{\"attributes\":{\"below\":[{\"id\":\"f2f8b04a-905b-497c-b52a-ba18d182a594\",\"type\":\"LinearAxis\"}],\"left\":[{\"id\":\"e56ed1b2-7b50-4568-a692-fb06362ce8fd\",\"type\":\"LinearAxis\"}],\"plot_height\":800,\"plot_width\":1200,\"renderers\":[{\"id\":\"f2f8b04a-905b-497c-b52a-ba18d182a594\",\"type\":\"LinearAxis\"},{\"id\":\"1f906f42-ffea-4b2e-855b-6a89dc54ad7c\",\"type\":\"Grid\"},{\"id\":\"e56ed1b2-7b50-4568-a692-fb06362ce8fd\",\"type\":\"LinearAxis\"},{\"id\":\"1a74ec35-74dd-4a2d-9d07-ed4e64cc5d8e\",\"type\":\"Grid\"},{\"id\":\"a056133c-8c15-427c-bf45-fe7024d7d844\",\"type\":\"BoxAnnotation\"},{\"id\":\"55898283-988c-4b9c-a5af-b3263a8a492f\",\"type\":\"GlyphRenderer\"},{\"id\":\"baa6f26f-6f56-49ca-ac36-a3dd54855d97\",\"type\":\"GlyphRenderer\"},{\"id\":\"74971ded-638e-4c20-a0e7-b22a8c982d93\",\"type\":\"GlyphRenderer\"},{\"id\":\"d546ccac-5bb3-447c-abfc-946b26d76b64\",\"type\":\"GlyphRenderer\"},{\"id\":\"78ac6498-6a92-4424-ac0d-25def8b25b91\",\"type\":\"GlyphRenderer\"},{\"id\":\"2ac67254-73c8-4458-90c8-455190852bfa\",\"type\":\"Legend\"}],\"right\":[{\"id\":\"2ac67254-73c8-4458-90c8-455190852bfa\",\"type\":\"Legend\"}],\"title\":{\"id\":\"22f0dd14-43e2-4014-9766-1d0eda4f3a39\",\"type\":\"Title\"},\"tool_events\":{\"id\":\"cf668f24-4326-49ff-9805-c225abfd9f44\",\"type\":\"ToolEvents\"},\"toolbar\":{\"id\":\"104e941d-981b-49ca-b733-65236a61ae31\",\"type\":\"Toolbar\"},\"toolbar_location\":\"above\",\"x_range\":{\"id\":\"7528a5d4-0193-4620-be36-97b3ac1baf2b\",\"type\":\"DataRange1d\"},\"y_range\":{\"id\":\"821899e9-7960-4668-9833-9326e2626ec5\",\"type\":\"Range1d\"}},\"id\":\"d806e1d7-a07c-4b26-9ca0-a1cb4bd01381\",\"subtype\":\"Figure\",\"type\":\"Plot\"},{\"attributes\":{\"plot\":{\"id\":\"d806e1d7-a07c-4b26-9ca0-a1cb4bd01381\",\"subtype\":\"Figure\",\"type\":\"Plot\"}},\"id\":\"ee42b023-fc21-42f7-8d26-e5f02d8fa6a1\",\"type\":\"WheelZoomTool\"},{\"attributes\":{\"dimension\":1,\"plot\":{\"id\":\"d806e1d7-a07c-4b26-9ca0-a1cb4bd01381\",\"subtype\":\"Figure\",\"type\":\"Plot\"},\"ticker\":{\"id\":\"7333d7d0-3168-4217-bb38-e7d9f98d47a2\",\"type\":\"BasicTicker\"}},\"id\":\"1a74ec35-74dd-4a2d-9d07-ed4e64cc5d8e\",\"type\":\"Grid\"},{\"attributes\":{\"callback\":null,\"column_names\":[\"x\",\"y\"],\"data\":{\"x\":[0,1000,2000,3000,4000,5000,6000,7000,8000,9000,10000,11000,12000,13000,14000,15000,16000,17000,18000,19000,20000,21000,22000,23000,24000,25000,26000,27000,28000,29000,30000,31000,32000,33000,34000,35000,36000,37000,38000,39000,40000,41000,42000,43000,44000,45000,46000,47000,48000,49000,50000,51000,52000,53000,54000,55000,56000,57000,58000,59000,60000,61000,62000,63000,64000,65000,66000,67000,68000,69000,70000,71000,72000,73000,74000,75000,76000,77000,78000,79000,80000,81000,82000,83000,84000,85000,86000,87000,88000,89000,90000,91000,92000,93000,94000,95000,96000,97000,98000,99000,100000,101000,102000,103000,104000,105000,106000,107000,108000,109000,110000,111000,112000,113000,114000,115000,116000,117000,118000,119000,120000,121000,122000,123000,124000,125000,126000,127000,128000,129000,130000,131000,132000,133000,134000,135000,136000,137000,138000,139000,140000,141000,142000,143000,144000,145000,146000,147000,148000,149000,150000,151000,152000,153000,154000,155000,156000,157000,158000,159000,160000,161000,162000,163000,164000,165000,166000,167000,168000,169000,170000,171000,172000,173000,174000,175000,176000,177000,178000,179000,180000,181000,182000,183000,184000,185000,186000,187000,188000,189000,190000,191000,192000,193000,194000,195000,196000,197000,198000,199000,200000,201000,202000,203000,204000,205000,206000,207000,208000,209000,210000,211000,212000,213000,214000,215000,216000,217000,218000,219000,220000,221000,222000,223000,224000,225000,226000,227000,228000,229000,230000,231000,232000,233000,234000,235000,236000,237000,238000,239000,240000,241000,242000,243000,244000,245000,246000,247000,248000,249000,250000,251000,252000,253000,254000,255000,256000,257000,258000,259000,260000,261000,262000,263000,264000,265000,266000,267000,268000,269000,270000,271000,272000,273000,274000,275000,276000,277000,278000,279000,280000,281000,282000,283000,284000,285000,286000,287000,288000,289000,290000,291000,292000,293000,294000,295000,296000,297000,298000,299000,300000,301000,302000,303000,304000,305000,306000,307000,308000,309000,310000,311000,312000,313000,314000,315000,316000,317000,318000,319000,320000,321000,322000,323000,324000,325000,326000,327000,328000,329000,330000,331000,332000,333000,334000,335000,336000,337000,338000,339000,340000,341000,342000,343000,344000,345000,346000,347000,348000,349000,350000,351000,352000,353000,354000,355000,356000,357000,358000,359000,360000,361000,362000,363000,364000,365000,366000,367000,368000,369000,370000,371000,372000,373000,374000,375000,376000,377000,378000,379000,380000,381000,382000,383000,384000,385000,386000,387000,388000,389000,390000,391000,392000,393000,394000,395000,396000,397000,398000,399000,400000,401000,402000,403000,404000,405000,406000,407000,408000,409000,410000,411000,412000,413000,414000,415000,416000,417000,418000,419000,420000,421000,422000,423000,424000,425000,426000,427000,428000,429000,430000,431000,432000,433000,434000,435000,436000,437000,438000,439000,440000,441000,442000,443000,444000,445000,446000,447000,448000,449000,450000,451000,452000,453000,454000,455000,456000,457000,458000,459000,460000,461000,462000,463000,464000,465000,466000,467000,468000,469000,470000,471000,472000,473000,474000,475000,476000,477000,478000,479000,480000,481000,482000,483000,484000,485000,486000,487000,488000,489000,490000,491000,492000,493000,494000,495000,496000,497000,498000,499000,500000,501000,502000,503000,504000,505000,506000,507000,508000,509000,510000,511000,512000,513000,514000,515000,516000,517000,518000,519000,520000,521000,522000,523000,524000,525000,526000,527000,528000,529000,530000,531000,532000,533000,534000,535000,536000,537000,538000,539000,540000,541000,542000,543000,544000,545000,546000,547000,548000,549000,550000,551000,552000,553000,554000,555000,556000,557000,558000,559000,560000,561000,562000,563000,564000,565000,566000,567000,568000,569000,570000,571000,572000,573000,574000,575000,576000,577000,578000,579000,580000,581000,582000,583000,584000,585000,586000,587000,588000,589000,590000,591000,592000,593000,594000,595000,596000,597000,598000,599000,600000],\"y\":{\"__ndarray__\":\"AAAAAAAAAAAAAAAAAAAAAAAAAAAAAAAAAAAAAAAAAAAAAAAAAAAAAAAAAAAAAAAAAAAAAAAAAAAAAAAAAAAAAAAAAAAAAAAAAAAAAAAAAAAAAAAAAAAAAAAAAAAAAAAAAAAAAAAAAAAAAAAAAAAAAAAAAAAAAAAAAAAAAAAAAAAAAAAAAAAAAAAAAAAAAAAAAAAAAAAAAAAAAAAAAAAAAAAAAAAAAAAAAAAAAAAAAAAAAAAAAAAAAAAAAAAAAAAAAAAAAAAAAAAAAAAAAAAAAAAAAAAAAAAAAAAAAAAAAAAAAAAAAAAAAAAAAAAAAAAAAAAAAAAAAAAAAAAAAAAAAAAAAAAAAAAAAAAAAAAAAAAAAAAAAAAAAAAAAAAAAAAAAAAAAAAAAAAAAAAAAAAAAAAAAAAAAAAAAAAAAAAAAAAAAAAAAAAAAAAAAAAAAAAAAAAAAAAAAAAAAAAAAAAAAAAAAAAAAAAAAAAAAAAAAAAAAAAAAAAAAAAAAAAAAAAAAAAAAAAAAAAAAAAAAAAAAAAAAAAAAAAAAAAAAAAAAAAAAAAAAAAAAAAAAAAAAAAAAAAAAAAAAAAAAAAAAAAAAAAAAAAAAAAAAAAAAAAAAAAAAAAAAAAAAAAAAAAAAAAAAAAAAAAAAAAAAAAAAAAAAAAAAAAAAAAAAAAAAAAAAAAAAAAAAAAAAAAAAAAAAAAAAAAAAAAAAAAAAAAAAAAAAAAAAAAAAAAAAAAAAAAAAAAAAAAAAAAAAAAAAAAAAAAAAAAAAAAAAAAAAAAAAAAAAAAAAAAAAAAAAAAAAAAAAAAAAAAAAAAAAAAAAAAAAAAAAAAAAAAAAAAAAAAAAAAAAAAAAAAAAAAAAAAAAAAAAAAAAAAAAAAAAAAAAAAAAAAAAAAAAAAAAAAAAAAAAAAAAAAAAAAAAAAAAAAAAAAAAAAAAAAAAAAAAAAAAAAAAAAAAAAAAAAAAAAAAAAAAAAAAAAAAAAAAAAAAAAAAAAAAAAAAAAAAAAAAAAAAAAAAAAAAAAAAAAAAAAAAAAAAAAAAAAAAAAAAAAAAAAAAAAAAAAAAAAAAAAAAAAAAAAAAAAAAAAAAAAAAAAAAAAAAAAAAAAAAAAAAAAAAAAAAAAAAAAAAAAAAAAAAAAAAAAAAAAAAAAAAAAAAAAAAAAAAAAAAAAAAAAAAAAAAAAAAAAAAAAAAAAAAAAAAAAAAAAAAAAAAAAAAAAAAAAAAAAAAAAAAAAAAAAAAAAAAAAAAAAAAAAAAAAAAAAAAAAAAAAAAAAAAAAAAAAAAAAAAAAAAAAAAAAAAAAAAAAAAAAAAAAAAAAAAAAAAAAAAAAAAAAAAAAAAAAAAAAAAAAAAAAAAAAAAAAAAAAAAAAAAAAAAAAAAAAAAAAAAAAAAAAAAAAAAAAAAAAAAAAAAAAAAAAAAAAAAAAAAAAAAAAAAAAAAAAAAAAAAAAAAAAAAAAAAAAAAAAAAAAAAAAAAAAAAAAAAAAAAAAAAAAAAAAAAAAAAAAAAAAAAAAAAAAAAAAAAAAAAAAAAAAAAAAAAAAAAAAAAAAAAAAAAAAAAAAAAAAAAAAAAAAAAAAAAAAAAAAAAAAAAAAAAAAAAAAAAAAAAAAAAAAAAAAAAAAAAAAAAAAAAAAAAAAAAAAAAAAAAAAAAAAAAAAAAAAAAAAAAAAAAAAAAAAAAAAAAAAAAAAAAAAAAAAAAAAAAAAAAAAAAAAAAAAAAAAAAAAAAAAAAAAAAAAAAAAAAAAAAAAAAAAAAAAAAAAAAAAAAAAAAAAAAAAAAAAAAAAAAAAAAAAAAAAAAAAAAAAAAAAAAAAAAAAAAAAAAAAAAAAAAAAAAAAAAAAAAAAAAAAAAAAAAAAAAAAAAAAAAAAAAAAAAAAAAAAAAAAAAAAAAAAAAAAAAAAAAAAAAAAAAAAAAAAAAAAAAAAAAAAAAAAAAAAAAAAAAAAAAAAAAAAAAAAAAAAAAAAAAAAAAAAAAAAAAAAAAAAAAAAAAAAAAAAAAAAAAAAAAAAAAAAAAAAAAAAAAAAAAAAAAAAAAAAAAAAAAAAAAAAAAAAAAAAAAAAAAAAAAAAAAAAAAAAAAAAAAAAAAAAAAAAAAAAAAAAAAAAAAAAAAAAAAAAAAAAAAAAAAAAAAAAAAAAAAAAAAAAAAAAAAAAAAAAAAAAAAAAAAAAAAAAAAAAAAAAAAAAAAAAAAAAAAAAAAAAAAAAAAAAAAAAAAAAAAAAAAAAAAAAAAAAAAAAAAAAAAAAAAAAAAAAAAAAAAAAAAAAAAAAAAAAAAAAAAAAAAAAAAAAAAAAAAAAAAAAAAAAAAAAAAAAAAAAAAAAAAAAAAAAAAAAAAAAAAAAAAAAAAAAAAGLkBtbuqY4/SiuFIHP/pj++TsRFNSqzP9YHRvuw1Lo/d+BjWJY/wT8EvSQz1BTFP5CZ5Q0S6sg/HHam6E+/zD9UqbPhRkrQP5oXFM/lNNI/4IV0vIQf1D8m9NSpIwrWP2xiNZfC9Nc/s9CVhGHf2T/5PvZxAMrbPz+tVl+ftN0/aa7AA1xb3z9dJUoaV8zfPzStEBUoJd8/CjXXD/l93j/gvJ0KytbdP7ZEZAWbL90/jMwqAGyI3D9jVPH6POHbPznct/UNOts/D2R+8N6S2j/m60Trr+vZP7xzC+aARNk/kvvR4FGd2D9og5jbIvbXPz4LX9bzTtc/FJMl0cSn1j/rGuzLlQDWP8GissZmWdU/lip5wTey1D9tsj+8CAvUP0Q6BrfZY9M/GsLMsaq80j/wSZOsexXSP8bRWadMbtE/nFkgoh3H0D9y4eac7h/QP5UVHcw7vNA/zGoUceik0T8EwAsWlY3SPzsVA7tBdtM/c2r6X+5e1D+qv/EEm0fVP+IU6alHMNY/GmrgTvQY1z9Sv9fzoAHYP4gUz5hN6tg/wGnGPfrS2T/4vr3iprvaPzAUtYdTpNs/Z2msLACN3D+evqPRrHXdP9YTm3ZZXt4/DmmSGwZH3z8AAAAAAADgPwAAAAAAAOA/AAAAAAAA4D8AAAAAAADgPwAAAAAAAOA/AAAAAAAA4D8AAAAAAADgPwAAAAAAAOA/AAAAAAAA4D8AAAAAAADgPwAAAAAAAOA/AAAAAAAA4D8AAAAAAADgPwAAAAAAAOA/AAAAAAAA4D8AAAAAAADgPwAAAAAAAOA/AAAAAAAA4D8AAAAAAADgPwAAAAAAAOA/AAAAAAAA4D8AAAAAAADgPwAAAAAAAOA/AAAAAAAA4D8AAAAAAADgPwAAAAAAAOA/AAAAAAAA4D8AAAAAAADgPwAAAAAAAOA/AAAAAAAA4D8AAAAAAADgPwAAAAAAAOA/AAAAAAAA4D8AAAAAAADgPwAAAAAAAOA/AAAAAAAA4D8AAAAAAADgPwAAAAAAAOA/AAAAAAAA4D8AAAAAAADgPwAAAAAAAOA/AAAAAAAA4D8AAAAAAADgPwAAAAAAAOA/AAAAAAAA4D8AAAAAAADgPwAAAAAAAOA/AAAAAAAA4D8AAAAAAADgPwAAAAAAAOA/AAAAAAAA4D8AAAAAAADgPwAAAAAAAOA/AAAAAAAA4D8AAAAAAADgPwAAAAAAAOA/AAAAAAAA4D8AAAAAAADgPwAAAAAAAOA/AAAAAAAA4D8AAAAAAADgPwAAAAAAAOA/AAAAAAAA4D8AAAAAAADgPwAAAAAAAOA/AAAAAAAA4D8AAAAAAADgPwAAAAAAAOA/AAAAAAAA4D8AAAAAAADgPwAAAAAAAOA/AAAAAAAA4D8AAAAAAADgPwAAAAAAAOA/AAAAAAAA4D8AAAAAAADgPwAAAAAAAOA/AAAAAAAA4D8AAAAAAADgPwAAAAAAAOA/AAAAAAAA4D8AAAAAAADgPwAAAAAAAOA/AAAAAAAA4D8AAAAAAADgPwAAAAAAAOA/AAAAAAAA4D8AAAAAAADgPwAAAAAAAOA/AAAAAAAA4D8AAAAAAADgPwAAAAAAAOA/AAAAAAAA4D8AAAAAAADgPwAAAAAAAOA/AAAAAAAA4D8AAAAAAADgPwAAAAAAAOA/AAAAAAAA4D8AAAAAAADgPwAAAAAAAOA/AAAAAAAA4D8AAAAAAADgPwAAAAAAAOA/AAAAAAAA4D8AAAAAAADgPwAAAAAAAOA/AAAAAAAA4D8AAAAAAADgPwAAAAAAAOA/AAAAAAAA4D8AAAAAAADgPwAAAAAAAOA/AAAAAAAA4D8AAAAAAADgPwAAAAAAAOA/AAAAAAAA4D8AAAAAAADgPwAAAAAAAOA/AAAAAAAA4D8AAAAAAADgPwAAAAAAAOA/AAAAAAAA4D8AAAAAAADgPxNpJu1u6t8/6vDs5z9D3z/AeLPiEJzeP5YAet3h9N0/bIhA2LJN3T9CEAfTg6bcPxiYzc1U/9s/7h+UyCVY2z/Fp1rD9rDaP5svIb7HCdo/cLfnuJhi2T9IP66zabvYPx7HdK46FNg/JKG5E/IM2D9bzXzjj6XYP5H5P7MtPtk/yCUDg8vW2T8AUsZSaW/aPzZ+iSIHCNs/bKpM8qSg2z+j1g/CQjncP9oC05Hg0dw/Ei+WYX5q3T9IW1kxHAPeP36HHAG6m94/AbyK8O9V4D8dWWP+G17hP5T5Zj8INeI/DJpqgPQL4z+DOm7B4OLjP/vacQLNueQ/cnt1Q7mQ5T/qG3mEpWfmP2G8fMWRPuc/AAAAAAAA6D8AAAAAAADoPwAAAAAAAOg/AAAAAAAA6D8AAAAAAADoPwAAAAAAAOg/AAAAAAAA6D8AAAAAAADoPwAAAAAAAOg/AAAAAAAA6D8AAAAAAADoPwAAAAAAAOg/AAAAAAAA6D8AAAAAAADoPwAAAAAAAOg/AAAAAAAA6D8AAAAAAADoPwAAAAAAAOg/AAAAAAAA6D8AAAAAAADoPwAAAAAAAOg/AAAAAAAA6D8AAAAAAADoPwAAAAAAAOg/AAAAAAAA6D8AAAAAAADoPwAAAAAAAOg/aXdTnwza5z9Uu7YcdYbnP0D/GZrdMuc/KkN9F0bf5j8Wh+CUrovmPwHLQxIXOOY/7A6nj3/k5T/XUgoN6JDlPy/4RhY3AuU/BYANEQhb5D/bB9QL2bPjP7KPmgaqDOM/iBdhAXtl4j9enyf8S77hPzUn7vYcF+E/C6+08e1v4D/CbfbYfZHfP259g84fQ94/Go0QxMH03D/GnJ25Y6bbP3SsKq8FWNo/H7y3pKcJ2T/My0SaSbvXP3jb0Y/rbNY/JetehY0e1T+eojDTwczVPx13+9d7k9Y/m0vG3DVa1z8aIJHh7yDYP5n0W+ap59g/GMkm62Ou2T+WnfHvHXXaPybzbFpzXts/zj9xZFzM3D92jHVuRTreP3aYUF+wdN8/Lked4VIl3z8Ez2PcI37eP9pWKtf01t0/sN7w0cUv3T+GZrfMlojcP1zufcdn4ds/M3ZEwjg62z8J/gq9CZPaP+CF0bfa69k/tg2YsqtE2T+MlV6tfJ3YP2IdJahN9tc/OKXroh5P1z8OLbKd76fWP+S0eJjAANY/uzw/k5FZ1T+RxAWOYrLUP2dMzIgzC9Q/PdSSgwRk0z8UXFl+1bzSP+rjH3mmFdI/wGvmc3du0T+W86xuSMfQP2x7c2kZINA/KUV4Ab6s0D92YPs1iILRP8J7fmpSWNI/DpcBnxwu0z9bsoTT5gPUP6fNBwix2dQ/8+iKPHuv1T9ABA5xRYXWP4wfkaUPW9c/2DoU2tkw2D8kVpcOpAbZP3FxGkNu3Nk/voyddziy2j8KqCCsAojbP1bDo+DMXdw/ot4mFZcz3T/v+alJYQnePzwVLX4r394/iDCwsvW03z/////////fPwAAAAAAAOA/1vjCNyBA4D/mUS+e6XXhP/aqmwSzq+I/BwQIa3zh4z8XXXTRRRflPyi24DcPTeY/OA9NntiC5z8AAAAAAADoPwAAAAAAAOg/AAAAAAAA6D8AAAAAAADoPwAAAAAAAOg/AAAAAAAA6D8AAAAAAADoPwAAAAAAAOg/AAAAAAAA6D8AAAAAAADoPwAAAAAAAOg/AAAAAAAA6D8AAAAAAADoPwAAAAAAAOg/AAAAAAAA6D8AAAAAAADoPwAAAAAAAOg/VpRP0Kj95z9A2LJNEarnPywcFst5Vuc/F2B5SOIC5z/B5kuI73HmP5huEoPAyuU/bvbYfZEj5T9Efp94YnzkPxoGZnMz1eM/8I0sbgQu4z/HFfNo1YbiP52duWOm3+E/cyWAXnc44T9JrUZZSJHgPz9qGqgy1N8/7HmnndSF3j+YiTSTdjfdP0SZwYgY6ds/8KhOfrqa2j/CsY+aBqrYP0VJ44p5tNY/x+A2e+y+1D9KeIprX8nSP8wP3lvS09A/n05jmIq8zT9U1ekf7O/LPy8y8hFACMw/C4/6A5QgzD9UKbPkihDNP5s9MmcyYdA/jOYKXB860j8=\",\"dtype\":\"float64\",\"shape\":[601]}}},\"id\":\"fd0b8f48-8607-4a92-bb12-68f5601e8289\",\"type\":\"ColumnDataSource\"},{\"attributes\":{\"bottom_units\":\"screen\",\"fill_alpha\":{\"value\":0.5},\"fill_color\":{\"value\":\"lightgrey\"},\"left_units\":\"screen\",\"level\":\"overlay\",\"line_alpha\":{\"value\":1.0},\"line_color\":{\"value\":\"black\"},\"line_dash\":[4,4],\"line_width\":{\"value\":2},\"plot\":null,\"render_mode\":\"css\",\"right_units\":\"screen\",\"top_units\":\"screen\"},\"id\":\"a056133c-8c15-427c-bf45-fe7024d7d844\",\"type\":\"BoxAnnotation\"},{\"attributes\":{\"data_source\":{\"id\":\"5b343535-8394-477f-9bee-b4603b900d95\",\"type\":\"ColumnDataSource\"},\"glyph\":{\"id\":\"fcc51d08-9f0b-41b0-a64b-a046b3dec4e5\",\"type\":\"Line\"},\"hover_glyph\":null,\"nonselection_glyph\":{\"id\":\"f33fe4fc-31c6-40a8-b33b-a9e5a98a2804\",\"type\":\"Line\"},\"selection_glyph\":null},\"id\":\"55898283-988c-4b9c-a5af-b3263a8a492f\",\"type\":\"GlyphRenderer\"},{\"attributes\":{\"plot\":null,\"text\":\"Med Maze 14 0.5 Prioritized MinusPseudoRewards\"},\"id\":\"22f0dd14-43e2-4014-9766-1d0eda4f3a39\",\"type\":\"Title\"},{\"attributes\":{\"data_source\":{\"id\":\"bcdb3032-aee0-4473-8eb5-83e0f6bee0f1\",\"type\":\"ColumnDataSource\"},\"glyph\":{\"id\":\"e54d90d7-82e6-4453-bf35-59213af2158e\",\"type\":\"Line\"},\"hover_glyph\":null,\"nonselection_glyph\":{\"id\":\"07bcaa00-9963-4eec-94ca-199946bf634c\",\"type\":\"Line\"},\"selection_glyph\":null},\"id\":\"baa6f26f-6f56-49ca-ac36-a3dd54855d97\",\"type\":\"GlyphRenderer\"},{\"attributes\":{\"label\":{\"value\":\"0.01 MinusPseudo\"},\"renderers\":[{\"id\":\"55898283-988c-4b9c-a5af-b3263a8a492f\",\"type\":\"GlyphRenderer\"}]},\"id\":\"1b4d1494-a1ed-40d2-9918-ae5fd41eca05\",\"type\":\"LegendItem\"},{\"attributes\":{},\"id\":\"8ae3cc5f-0d62-4337-afd3-6225b4641b78\",\"type\":\"BasicTicker\"},{\"attributes\":{\"line_color\":{\"value\":\"#377eb8\"},\"line_width\":{\"value\":2},\"x\":{\"field\":\"x\"},\"y\":{\"field\":\"y\"}},\"id\":\"e54d90d7-82e6-4453-bf35-59213af2158e\",\"type\":\"Line\"},{\"attributes\":{\"use_scientific\":false},\"id\":\"3c69a17f-bf26-4171-be31-e234c496d02d\",\"type\":\"BasicTickFormatter\"},{\"attributes\":{\"callback\":null,\"column_names\":[\"x\",\"y\"],\"data\":{\"x\":[0,1000,2000,3000,4000,5000,6000,7000,8000,9000,10000,11000,12000,13000,14000,15000,16000,17000,18000,19000,20000,21000,22000,23000,24000,25000,26000,27000,28000,29000,30000,31000,32000,33000,34000,35000,36000,37000,38000,39000,40000,41000,42000,43000,44000,45000,46000,47000,48000,49000,50000,51000,52000,53000,54000,55000,56000,57000,58000,59000,60000,61000,62000,63000,64000,65000,66000,67000,68000,69000,70000,71000,72000,73000,74000,75000,76000,77000,78000,79000,80000,81000,82000,83000,84000,85000,86000,87000,88000,89000,90000,91000,92000,93000,94000,95000,96000,97000,98000,99000,100000,101000,102000,103000,104000,105000,106000,107000,108000,109000,110000,111000,112000,113000,114000,115000,116000,117000,118000,119000,120000,121000,122000,123000,124000,125000,126000,127000,128000,129000,130000,131000,132000,133000,134000,135000,136000,137000,138000,139000,140000,141000,142000,143000,144000,145000,146000,147000,148000,149000,150000,151000,152000,153000,154000,155000,156000,157000,158000,159000,160000,161000,162000,163000,164000,165000,166000,167000,168000,169000,170000,171000,172000,173000,174000,175000,176000,177000,178000,179000,180000,181000,182000,183000,184000,185000,186000,187000,188000,189000,190000,191000,192000,193000,194000,195000,196000,197000,198000,199000,200000,201000,202000,203000,204000,205000,206000,207000,208000,209000,210000,211000,212000,213000,214000,215000,216000,217000,218000,219000,220000,221000,222000,223000,224000,225000,226000,227000,228000,229000,230000,231000,232000,233000,234000,235000,236000,237000,238000,239000,240000,241000,242000,243000,244000,245000,246000,247000,248000,249000,250000,251000,252000,253000,254000,255000,256000,257000,258000,259000,260000,261000,262000,263000,264000,265000,266000,267000,268000,269000,270000,271000,272000,273000,274000,275000,276000,277000,278000,279000,280000,281000,282000,283000,284000,285000,286000,287000,288000,289000,290000,291000,292000,293000,294000,295000,296000,297000,298000,299000,300000,301000,302000,303000,304000,305000,306000,307000,308000,309000,310000,311000,312000,313000,314000,315000,316000,317000,318000,319000,320000,321000,322000,323000,324000,325000,326000,327000,328000,329000,330000,331000,332000,333000,334000,335000,336000,337000,338000,339000,340000,341000,342000,343000,344000,345000,346000,347000,348000,349000,350000,351000,352000,353000,354000,355000,356000,357000,358000,359000,360000,361000,362000,363000,364000,365000,366000,367000,368000,369000,370000,371000,372000,373000,374000,375000,376000,377000,378000,379000,380000,381000,382000,383000,384000,385000,386000,387000,388000,389000,390000,391000,392000,393000,394000,395000,396000,397000,398000,399000,400000,401000,402000,403000,404000,405000,406000,407000,408000,409000,410000,411000,412000,413000,414000,415000,416000,417000,418000,419000,420000,421000,422000,423000,424000,425000,426000,427000,428000,429000,430000,431000,432000,433000,434000,435000,436000,437000,438000,439000,440000,441000,442000,443000,444000,445000,446000,447000,448000,449000,450000,451000,452000,453000,454000,455000,456000,457000,458000,459000,460000,461000,462000,463000,464000,465000,466000,467000,468000,469000,470000,471000,472000,473000,474000,475000,476000,477000,478000,479000,480000,481000,482000,483000,484000,485000,486000,487000,488000,489000,490000,491000,492000,493000,494000,495000,496000,497000,498000,499000,500000,501000,502000,503000,504000,505000,506000,507000,508000,509000,510000,511000,512000,513000,514000,515000,516000,517000,518000,519000,520000,521000,522000,523000,524000,525000,526000,527000,528000,529000,530000,531000,532000,533000,534000,535000,536000,537000,538000,539000,540000,541000,542000,543000,544000,545000,546000,547000,548000,549000,550000,551000,552000,553000,554000,555000,556000,557000,558000,559000,560000,561000,562000,563000,564000,565000,566000,567000,568000,569000,570000,571000,572000,573000,574000,575000,576000,577000,578000,579000,580000,581000,582000,583000,584000,585000,586000,587000,588000,589000,590000,591000,592000,593000,594000,595000,596000,597000,598000,599000,600000],\"y\":{\"__ndarray__\":\"AAAAAAAAAAAAAAAAAAAAAAAAAAAAAAAAAAAAAAAAAAAAAAAAAAAAAAAAAAAAAAAAAAAAAAAAAAAAAAAAAAAAAAAAAAAAAAAAAAAAAAAAAAAAAAAAAAAAAAAAAAAAAAAAAAAAAAAAAAAAAAAAAAAAAAAAAAAAAAAAAAAAAAAAAAAAAAAAAAAAAAAAAAAAAAAAAAAAAAAAAAAAAAAAAAAAAAAAAAAAAAAAAAAAAAAAAAAAAAAAAAAAAAAAAAAAAAAAAAAAAAAAAAAAAAAAAAAAAAAAAAAAAAAAAAAAAAAAAAAAAAAAAAAAAAAAAAAAAAAAAAAAAAAAAAAAAAAAAAAAAAAAAAAAAAAAAAAAAAAAAAAAAAAAAAAAAAAAAAAAAAAAAAAAAAAAAAAAAAAAAAAAAAAAAAAAAAAAAAAAAAAAAAAAAAAAAAAAAAAAAAAAAAAAAAAAAAAAAAAAAAAAAAAAAAAAAAAAAAAAAAAAAAAAAAAAAAAAAAAAAAAAAAAAAAAAAAAAAAAAAAAAAAAAAAAAAAAAAAAAAAAAAAAAAAAAAAAAAAAAAAAAAAAAAAAAAAAAAAAAAAAAAAAAAAAAAAAAAAAAAAAAAAAAAAAAAAAAAAAAAAAAAAAAAAAAAAAAAAAAAAAAAAAAAAAAAAAAAAAAAAAAAAAAAAAAAAAAAAAAAAAAAAAAAAAAAAAAAAAAAAAAAAAAAAAAAAAAAAAAAAAAAAAAAAAAAAAAAAAAAAAAAAAAAAAAAAAAAAAAAAAAAAAAAAAAAAAAAAAAAAAAAAAAAAAAAAAAAAAAAAAAAAAAAAAAAAAAAAAAAAAAAAAAAAAAAAAAAAAAAAAAAAAAAAAAAAAAAAAAAAAAAAAAAAAAAAAAAAAAAAAAAAAAAAAAAAAAAAAAAAAAAAAAAAAAAAAAAAAAAAAAAAAAAAAAAAAAAAAAAAAAAAAAAAAAAAAAAAAAAAAAAAAAAAAAAAAAAAAAAAAAAAAAAAAAAAAAAAAAAAAAAAAAAAAAAAAAAAAAAAAAAAAAAAAAAAAAAAAAAAAAAAAAAAAAAAAAAAAAAAAAAAAAAAAAAAAAAAAAAAAAAAAAAAAAAAAAAAAAAAAAAAAAAAAAAAAAAAAAAAAAAAAAAAAAAAAAAAAAAAAAAAAAAAAAAAAAAAAAAAAAAAAAAAAAAAAAAAAAAAAAAAAAAAAAAAAAAAAAAAAAAAAAAAAAAAAAAAAAAAAAAAAAAAAAAAAAAAAAAAAAAAAAAAAAAAAAAAAAAAAAAAAAAAAAAAAAAAAAAAAAAAAAAAAAAAAAAAAAAAAAAAAAAAAAAAAAAAAAAAAAAAAAAAAAAAAAAAAAAAAAAAAAAAAAAAAAAAAAAAAAAAAAAAAAAAAAAAAAAAAAAAAAAAAAAAAAAAAAAAAAAAAAAAAAAAAAAAAAAAAAAAAAAAAAAAAAAAAAAAAAAAAAAAAAAAAAAAAAAAAAAAAAAAAAAAAAAAAAAAAAAAAAAAAAAAAAAAAAAAAAAAAAAAAAAAAAAAAAAAAAAAAAAAAAAAAAAAAAAAAAAAAAAAAAAAAAAAAAAAAAAAAAAAAAAAAAAAAAAAAAAAAAAAAAAAAAAAAAAAAAAAAAAAAAAAAAAAAAAAAAAAAAAAAAAAAAAAAAAAAAAAAAAAAAAAAAAAAAAAAAAAAAAAAAAAAAAAAAAAAAAAAAAAAAAAAAAAAAAAAAAAAAAAAAAAAAAAAAAAAAAAAAAAAAAAAAAAAAAAAAAAAAAAAAAAAAAAAAAAAAAAAAAAAAAAAAAAAAAAAAAAAAAAAAAAAAAAAAAAAAAAAAAAAAAAAAAAAAAAAAAAAAAAAAAAAAAAAAAAAAAAAAAAAAAAAAAAAAAAAAAAAAAAAAAAAAAAAAAAAAAAAAAAAAAAAAAAAAAAAAAAAAAAAAAAAAAAAAAAAAAAAAAAAAAAAAAAAAAAAAAAAAAAAAAAAAAAAAAAAAAAAAAAAAAAAAAAAAAAAAAAAAAAAAAAAAAAAAAAAAAAAAAAAAAAAAAAAAAAAAAAAAAAAAAAAAAAAAAAAAAAAAAAAAAAAAAAAAAAAAAAAAAAAAAAAAAAAAAAAAAAAAAAAAAAAAAAAAAAAAAAAAAAAAAAAAAAAAAAAAAAAAAAAAAAAAAAAAAAAAAAAAAAAAAAAAAAAAAAAAAAAAAAAAAAAAAAAAAAAAAAAAAAAAAAAAAAAAAAAAAAAAAAAAAAAAAAAAAAAAAAAAAAAAAAAAAAAAAAAAAAAAAAAAAAAAAAAAAAAAAAAAAAAAAAAAAAAAAAAAAAAAAAAAAAAAAAAAAAAAAAAAAAAAAAAAAAAAAAAAAAAAAAAAAAAAAAAAAAAAAAAAAAAAAAAAAAAAAAAAAAAAAAAAAAAAAAAAAAAAAAAAAAAAAAAAAAAAAAAAAAAAAAAAAAAAAAAAAAAAAAAAAAAAAAAAAAAAAAAAAAAAAAAAAAAAAAAAAAAAAAAAAAAAAAAAAAAAAAAAAAAAAAAAAAAAAAAAAAAAAAAAAAAAAAAAAAAAAAAAAAAAAAAAAAAAAAAAAAAAAAAAAAAAAAAAAAAAAAAAAAAAAAAAAAAAAAAAAAAAAAAAAAAAAAAAAAAAAAAAAAAAAAAAAAAAAAAAAAAAAAAAAAAAAAAAAAAAAAAAAAAAAAAAAAAAAAAAAAAAAAAAAAAAAAAAAAAAAAAAAAAAAAAAAAAAAAAAAAAAAAAAAAAAAAAAAAAAAAAAAAAAAAAAAAAAAAAAAAAAAAAAAAAAAAAAAAAAAAAAAAAAAAAAAAAAAAAAAAAAAAAAAAAAAAAAAAAAAAAAAAAAAAAAAAAAAAAAAAAAAAAAAAAAAAAAAAAAAAAAAAAAAAAAAAAAAAAAAAAAAAAAAAAAAAAAAAAAz6MgdVjZfT/bethXAmOWP2JmNEnXp6I/VY98Zi0eqj8lXOLBQcqwP55whtBshbQ/GIUq35dAuD+Smc7twvu7Pwyucvzttr8/Q2GLhQy5wT+Aa90MopbDP711L5Q3dMU/+n+BG81Rxz83itOiYi/JP3SUJSr4DMs/sZ53sY3qzD/uqMk4I8jOP4uU1nr5i88/N6RjcJs9zj/ks/BlPe/MP5DDfVvfoMs/PdMKUYFSyj/p4pdGIwTJP5XyJDzFtcc/QgKyMWdnxj/uET8nCRnFP5shzByrysM/RzFZEk18wj/zQOYH7y3BP0Ch5vohv78/mcAA5mUivT/x3xrRqYW6P0r/NLzt6Lc/ox5PpzFMtT/8PWmSda+yP1Vdg325ErA/W/k60frrqj8MOG+ngrKlP752o30KeaA/32qvpyR/lj+F0C+oaBiIP11aBghAlFk/4lm4T0m2lj9ZCrrybMOoP+Hzy57aFbM/leI6xP7JuT+l6NR0ET/AP/9fjIcjmcM/WddDmjXzxj+zTvusR03KPw3Gsr9Zp80/TR53lrCbzz/6LQSMUk3OP6Y9kYH0/sw/U00ed5awyz//XKtsOGLKP6tsOGLaE8k/WHzFV3zFxz8EjFJNHnfGP7Gb30LAKMU/XatsOGLawz8Ju/ktBIzCP7bKhiOmPcE/xLQnMpDevz8d1EEd1EG9P3bzWwgYpbo/zxJ281sIuD8oMpDen2u1P4FRqsnjzrI/2XDEtCcysD9kIL0/1yqrPxZf8RVf8aU/yJ0l7Oa3oD/yuLOE3fyWP6tsOGLaE4k/yJ0l7Oa3YD+jU5c0AveQPxc+KnviFaM/XdII3EOwrT9Ss3OeUiW0P3X94k6Dcrk/mEdS/7O/vj/dyOBXcgbCP+9tGLAKrcQ/ABNQCKNTxz8SuIdgO/rJPyNdv7jToMw/NQL3EGxHzz8AAAAAAADQPwAAAAAAANA/AAAAAAAA0D8AAAAAAADQPwAAAAAAANA/AAAAAAAA0D8AAAAAAADQPwAAAAAAANA/AAAAAAAA0D8AAAAAAADQP8ofrDpO9tA/Xl8EsOri0j/ynlwlh8/UP4fetJojvNY/Gh4NEMCo2D+vXWWFXJXaP0Kdvfr4gdw/19wVcJVu3j82DrfymC3gPwAuYy3nI+E/yk0PaDUa4j+UbbuigxDjP16NZ93RBuQ/KK0TGCD95D/yzL9SbvPlP25yKrxTH+Y/tqLWebo15j//0oI3IUzmP0cDL/WHYuY/kqprsC9X5j9oMjKrALDlPz66+KXRCOU/FEK/oKJh5D/qyYWbc7rjP8BRTJZEE+M/l9kSkRVs4j9tYdmL5sThP0Tpn4a3HeE/GnFmgYh24D/f8Vn4sp7fP4wB5+1UUN4/OBF04/YB3T/lIAHZmLPbP5Ewjs46Zdo/PUAbxNwW2T/qT6i5fsjXP5dfNa8getY/Q2/CpMIr1T/vfk+aZN3TP/qMv12R0tI/0BSGWGIr0j+nnExTM4TRP30kE04E3dA/U6zZSNU10D+AcYPgpaXQPxl+Fmv3mdE/soqp9UiO0j9LlzyAmoLTP+SjzwrsdtQ/frBilT1r1T8WvfUfj1/WP7DJiKrgU9c/SNYbNTJI2D/i4q6/gzzZP3rvQUrVMNo/FPzU1CYl2z+sCGhfeBncP0YV++nJDd0/3iGOdBsC3j94LiH/bPbePxA7tIm+6t8/AAAAAAAA4D8AAAAAAADgPwAAAAAAAOA/AAAAAAAA4D8AAAAAAADgPwAAAAAAAOA/AAAAAAAA4D8AAAAAAADgPwAAAAAAAOA/AAAAAAAA4D8AAAAAAADgPwAAAAAAAOA/AAAAAAAA4D8AAAAAAADgPwAAAAAAAOA/AAAAAAAA4D8AAAAAAADgPwAAAAAAAOA/AAAAAAAA4D8AAAAAAADgPwAAAAAAAOA/AAAAAAAA4D8AAAAAAADgP4BCzfVDft8/VsqT8BTX3j8sUlrr5S/ePwLaIOa2iN0/2GHn4Ifh3D+u6a3bWDrcP4RxdNYpk9s/W/k60frr2j8xgQHMy0TaPwcJyMacndk/3ZCOwW322D+0GFW8Pk/YP4qgG7cPqNc/YCjiseAA1z82sKissVnWPww4b6eCstU/4r81olML1T+5R/ycJGTUP4/Pwpf1vNM/ZVeJksYV0z8730+Nl27SPxJnFohox9E/6O7cgjkg0T++dqN9CnnQPwAAAAAAANA/AAAAAAAA0D8AAAAAAADQPwAAAAAAANA/AAAAAAAA0D8AAAAAAADQPwAAAAAAANA/////////zz8AAAAAAADQP////////88/AAAAAAAA0D8AAAAAAADQPwAAAAAAANA/AAAAAAAA0D8AAAAAAADQPwAAAAAAANA/AAAAAAAA0D8AAAAAAADQPwAAAAAAANA/AAAAAAAA0D8AAAAAAADQPwAAAAAAANA/AAAAAAAA0D8AAAAAAADQPwAAAAAAANA/Zx+1Q/TR0D/6Qof8+mnRP3xfhjFb0dE//nuFZrs40j+AmISbG6DSPwO1g9B7B9M/hdGCBdxu0z8I7oE6PNbTP4oKgW+cPdQ/DCeApPyk1D+PQ3/ZXAzVPxFgfg69c9U/k3x9Qx3b1T8WmXx4fULWP5i1e63dqdY/nfx0NeVk1j90hDswtr3VP0oMAiuHFtU/IJTIJVhv1D/2G48gKcjTP8yjVRv6INM/oiscFst50j95s+IQnNLRP087qQttK9E/JcNvBj6E0D9O4HdUKS7QP5AcG5QHC9E/0Vi+0+Xn0T8SlWETxMTSP1TRBFOiodM/lQ2okoB+1D/XSUvSXlvVP/muFF3fwdU/EHN+l4731T8oN+jRPS3WP0D7UQztYtY/V7+7RpyY1j9vgyWBS87WP4ZHj7v6A9c/ngv59ak51z+2z2IwWW/XP82TzGoIpdc/5Vc2pbfa1z/8G6DfZhDYP+uGdAxus9c/wQ47Bz8M1z+XlgECEGXWP20eyPzgvdU/RKaO97EW1T8aLlXygm/UP/C1G+1TyNM/xj3i5yQh0z+cxaji9XnSP3NNb93G0tE/SdU12Jcr0T8fXfzSaITQP9Jyjp2ON9A//hAKk6hC0T8rr4WIwk3SP1hNAX7cWNM/hOt8c/Zj1D+xifhoEG/VP90ndF4qetY/CsbvU0SF1z82ZGtJXpDYP2MC5z54m9k/kKBiNJKm2j+8Pt4prLHbP+jcWR/GvNw/FXvVFODH3T9CGVEK+tLeP263zP8T3t8/AAAAAAAA4D8AAAAAAADgPwAAAAAAAOA/AAAAAAAA4D8AAAAAAADgPwAAAAAAAOA/AAAAAAAA4D8AAAAAAADgPwAAAAAAAOA/AAAAAAAA4D8AAAAAAADgPwAAAAAAAOA/AAAAAAAA4D8AAAAAAADgPwAAAAAAAOA/AAAAAAAA4D8AAAAAAADgPwAAAAAAAOA/AAAAAAAA4D/5wPMY94jfP89IuhPI4d4/pdCADpk63j98WEcJapPdP1LgDQQ77Nw/KGjU/gtF3D/+75r53J3bP9R3YfSt9to/qv8n735P2j8=\",\"dtype\":\"float64\",\"shape\":[601]}}},\"id\":\"67fa1f72-6f86-4684-bd19-a8a58f1e47f1\",\"type\":\"ColumnDataSource\"},{\"attributes\":{\"axis_label\":\"T\",\"formatter\":{\"id\":\"3c69a17f-bf26-4171-be31-e234c496d02d\",\"type\":\"BasicTickFormatter\"},\"plot\":{\"id\":\"d806e1d7-a07c-4b26-9ca0-a1cb4bd01381\",\"subtype\":\"Figure\",\"type\":\"Plot\"},\"ticker\":{\"id\":\"8ae3cc5f-0d62-4337-afd3-6225b4641b78\",\"type\":\"BasicTicker\"}},\"id\":\"f2f8b04a-905b-497c-b52a-ba18d182a594\",\"type\":\"LinearAxis\"}],\"root_ids\":[\"d806e1d7-a07c-4b26-9ca0-a1cb4bd01381\"]},\"title\":\"Bokeh Application\",\"version\":\"0.12.4\"}};\n",
       "            var render_items = [{\"docid\":\"110ce433-0ccf-42f5-a046-8ac2346e8cde\",\"elementid\":\"4e411967-9204-4700-a9c5-357c56a3261f\",\"modelid\":\"d806e1d7-a07c-4b26-9ca0-a1cb4bd01381\"}];\n",
       "            \n",
       "            Bokeh.embed.embed_items(docs_json, render_items);\n",
       "          };\n",
       "          if (document.readyState != \"loading\") fn();\n",
       "          else document.addEventListener(\"DOMContentLoaded\", fn);\n",
       "        })();\n",
       "      },\n",
       "      function(Bokeh) {\n",
       "      }\n",
       "    ];\n",
       "  \n",
       "    function run_inline_js() {\n",
       "      \n",
       "      if ((window.Bokeh !== undefined) || (force === true)) {\n",
       "        for (var i = 0; i < inline_js.length; i++) {\n",
       "          inline_js[i](window.Bokeh);\n",
       "        }if (force === true) {\n",
       "          display_loaded();\n",
       "        }} else if (Date.now() < window._bokeh_timeout) {\n",
       "        setTimeout(run_inline_js, 100);\n",
       "      } else if (!window._bokeh_failed_load) {\n",
       "        console.log(\"Bokeh: BokehJS failed to load within specified timeout.\");\n",
       "        window._bokeh_failed_load = true;\n",
       "      } else if (force !== true) {\n",
       "        var cell = $(document.getElementById(\"4e411967-9204-4700-a9c5-357c56a3261f\")).parents('.cell').data().cell;\n",
       "        cell.output_area.append_execute_result(NB_LOAD_WARNING)\n",
       "      }\n",
       "  \n",
       "    }\n",
       "  \n",
       "    if (window._bokeh_is_loading === 0) {\n",
       "      console.log(\"Bokeh: BokehJS loaded, going straight to plotting\");\n",
       "      run_inline_js();\n",
       "    } else {\n",
       "      load_libs(js_urls, function() {\n",
       "        console.log(\"Bokeh: BokehJS plotting callback run at\", now());\n",
       "        run_inline_js();\n",
       "      });\n",
       "    }\n",
       "  }(this));\n",
       "</script>"
      ]
     },
     "metadata": {},
     "output_type": "display_data"
    },
    {
     "name": "stderr",
     "output_type": "stream",
     "text": [
      "/usr/lib/python3.6/site-packages/bokeh/models/sources.py:81: BokehUserWarning: ColumnDataSource's columns must be of the same length\n",
      "  lambda: warnings.warn(\"ColumnDataSource's columns must be of the same length\", BokehUserWarning))\n",
      "/usr/lib/python3.6/site-packages/bokeh/models/sources.py:81: BokehUserWarning: ColumnDataSource's columns must be of the same length\n",
      "  lambda: warnings.warn(\"ColumnDataSource's columns must be of the same length\", BokehUserWarning))\n",
      "/usr/lib/python3.6/site-packages/bokeh/models/sources.py:81: BokehUserWarning: ColumnDataSource's columns must be of the same length\n",
      "  lambda: warnings.warn(\"ColumnDataSource's columns must be of the same length\", BokehUserWarning))\n",
      "/usr/lib/python3.6/site-packages/bokeh/models/sources.py:81: BokehUserWarning: ColumnDataSource's columns must be of the same length\n",
      "  lambda: warnings.warn(\"ColumnDataSource's columns must be of the same length\", BokehUserWarning))\n",
      "/usr/lib/python3.6/site-packages/bokeh/models/sources.py:81: BokehUserWarning: ColumnDataSource's columns must be of the same length\n",
      "  lambda: warnings.warn(\"ColumnDataSource's columns must be of the same length\", BokehUserWarning))\n",
      "/usr/lib/python3.6/site-packages/bokeh/models/sources.py:81: BokehUserWarning: ColumnDataSource's columns must be of the same length\n",
      "  lambda: warnings.warn(\"ColumnDataSource's columns must be of the same length\", BokehUserWarning))\n",
      "/usr/lib/python3.6/site-packages/bokeh/models/sources.py:81: BokehUserWarning: ColumnDataSource's columns must be of the same length\n",
      "  lambda: warnings.warn(\"ColumnDataSource's columns must be of the same length\", BokehUserWarning))\n",
      "/usr/lib/python3.6/site-packages/bokeh/models/sources.py:81: BokehUserWarning: ColumnDataSource's columns must be of the same length\n",
      "  lambda: warnings.warn(\"ColumnDataSource's columns must be of the same length\", BokehUserWarning))\n",
      "/usr/lib/python3.6/site-packages/bokeh/models/sources.py:81: BokehUserWarning: ColumnDataSource's columns must be of the same length\n",
      "  lambda: warnings.warn(\"ColumnDataSource's columns must be of the same length\", BokehUserWarning))\n",
      "/usr/lib/python3.6/site-packages/bokeh/models/sources.py:81: BokehUserWarning: ColumnDataSource's columns must be of the same length\n",
      "  lambda: warnings.warn(\"ColumnDataSource's columns must be of the same length\", BokehUserWarning))\n"
     ]
    },
    {
     "data": {
      "text/html": [
       "\n",
       "\n",
       "    <div class=\"bk-root\">\n",
       "        <div class=\"bk-plotdiv\" id=\"b3fcd3ee-bbc4-4099-a459-166dcde93791\"></div>\n",
       "    </div>\n",
       "<script type=\"text/javascript\">\n",
       "  \n",
       "  (function(global) {\n",
       "    function now() {\n",
       "      return new Date();\n",
       "    }\n",
       "  \n",
       "    var force = false;\n",
       "  \n",
       "    if (typeof (window._bokeh_onload_callbacks) === \"undefined\" || force === true) {\n",
       "      window._bokeh_onload_callbacks = [];\n",
       "      window._bokeh_is_loading = undefined;\n",
       "    }\n",
       "  \n",
       "  \n",
       "    \n",
       "    if (typeof (window._bokeh_timeout) === \"undefined\" || force === true) {\n",
       "      window._bokeh_timeout = Date.now() + 0;\n",
       "      window._bokeh_failed_load = false;\n",
       "    }\n",
       "  \n",
       "    var NB_LOAD_WARNING = {'data': {'text/html':\n",
       "       \"<div style='background-color: #fdd'>\\n\"+\n",
       "       \"<p>\\n\"+\n",
       "       \"BokehJS does not appear to have successfully loaded. If loading BokehJS from CDN, this \\n\"+\n",
       "       \"may be due to a slow or bad network connection. Possible fixes:\\n\"+\n",
       "       \"</p>\\n\"+\n",
       "       \"<ul>\\n\"+\n",
       "       \"<li>re-rerun `output_notebook()` to attempt to load from CDN again, or</li>\\n\"+\n",
       "       \"<li>use INLINE resources instead, as so:</li>\\n\"+\n",
       "       \"</ul>\\n\"+\n",
       "       \"<code>\\n\"+\n",
       "       \"from bokeh.resources import INLINE\\n\"+\n",
       "       \"output_notebook(resources=INLINE)\\n\"+\n",
       "       \"</code>\\n\"+\n",
       "       \"</div>\"}};\n",
       "  \n",
       "    function display_loaded() {\n",
       "      if (window.Bokeh !== undefined) {\n",
       "        document.getElementById(\"b3fcd3ee-bbc4-4099-a459-166dcde93791\").textContent = \"BokehJS successfully loaded.\";\n",
       "      } else if (Date.now() < window._bokeh_timeout) {\n",
       "        setTimeout(display_loaded, 100)\n",
       "      }\n",
       "    }\n",
       "  \n",
       "    function run_callbacks() {\n",
       "      window._bokeh_onload_callbacks.forEach(function(callback) { callback() });\n",
       "      delete window._bokeh_onload_callbacks\n",
       "      console.info(\"Bokeh: all callbacks have finished\");\n",
       "    }\n",
       "  \n",
       "    function load_libs(js_urls, callback) {\n",
       "      window._bokeh_onload_callbacks.push(callback);\n",
       "      if (window._bokeh_is_loading > 0) {\n",
       "        console.log(\"Bokeh: BokehJS is being loaded, scheduling callback at\", now());\n",
       "        return null;\n",
       "      }\n",
       "      if (js_urls == null || js_urls.length === 0) {\n",
       "        run_callbacks();\n",
       "        return null;\n",
       "      }\n",
       "      console.log(\"Bokeh: BokehJS not loaded, scheduling load and callback at\", now());\n",
       "      window._bokeh_is_loading = js_urls.length;\n",
       "      for (var i = 0; i < js_urls.length; i++) {\n",
       "        var url = js_urls[i];\n",
       "        var s = document.createElement('script');\n",
       "        s.src = url;\n",
       "        s.async = false;\n",
       "        s.onreadystatechange = s.onload = function() {\n",
       "          window._bokeh_is_loading--;\n",
       "          if (window._bokeh_is_loading === 0) {\n",
       "            console.log(\"Bokeh: all BokehJS libraries loaded\");\n",
       "            run_callbacks()\n",
       "          }\n",
       "        };\n",
       "        s.onerror = function() {\n",
       "          console.warn(\"failed to load library \" + url);\n",
       "        };\n",
       "        console.log(\"Bokeh: injecting script tag for BokehJS library: \", url);\n",
       "        document.getElementsByTagName(\"head\")[0].appendChild(s);\n",
       "      }\n",
       "    };var element = document.getElementById(\"b3fcd3ee-bbc4-4099-a459-166dcde93791\");\n",
       "    if (element == null) {\n",
       "      console.log(\"Bokeh: ERROR: autoload.js configured with elementid 'b3fcd3ee-bbc4-4099-a459-166dcde93791' but no matching script tag was found. \")\n",
       "      return false;\n",
       "    }\n",
       "  \n",
       "    var js_urls = [];\n",
       "  \n",
       "    var inline_js = [\n",
       "      function(Bokeh) {\n",
       "        (function() {\n",
       "          var fn = function() {\n",
       "            var docs_json = {\"d6094696-2836-4aaf-aa84-025a5f4f6d03\":{\"roots\":{\"references\":[{\"attributes\":{\"fill_alpha\":{\"value\":0.1},\"fill_color\":{\"value\":\"#1f77b4\"},\"line_alpha\":{\"value\":0.1},\"line_color\":{\"value\":\"#1f77b4\"},\"x\":{\"field\":\"x\"},\"y\":{\"field\":\"y\"}},\"id\":\"9f2e0f0e-8473-49ec-ba5f-5aad2b8c5b5e\",\"type\":\"Patch\"},{\"attributes\":{\"line_alpha\":{\"value\":0.1},\"line_color\":{\"value\":\"#1f77b4\"},\"line_width\":{\"value\":2},\"x\":{\"field\":\"x\"},\"y\":{\"field\":\"y\"}},\"id\":\"8d4a1ab4-d0bd-4a78-b0d7-334a776d7a02\",\"type\":\"Line\"},{\"attributes\":{\"data_source\":{\"id\":\"737fb367-c732-4b4c-b208-5011c42de99e\",\"type\":\"ColumnDataSource\"},\"glyph\":{\"id\":\"6fb2b293-3c0b-427e-b512-2ecf6993a7ad\",\"type\":\"Patch\"},\"hover_glyph\":null,\"nonselection_glyph\":{\"id\":\"9f2e0f0e-8473-49ec-ba5f-5aad2b8c5b5e\",\"type\":\"Patch\"},\"selection_glyph\":null},\"id\":\"66c26b86-a36c-45b8-a3c5-e06e6b06e7e4\",\"type\":\"GlyphRenderer\"},{\"attributes\":{\"line_color\":{\"value\":\"#984ea3\"},\"line_width\":{\"value\":2},\"x\":{\"field\":\"x\"},\"y\":{\"field\":\"y\"}},\"id\":\"d2785030-bb59-4240-a042-d959a55973e6\",\"type\":\"Line\"},{\"attributes\":{\"line_color\":{\"value\":\"#ff7f00\"},\"line_width\":{\"value\":2},\"x\":{\"field\":\"x\"},\"y\":{\"field\":\"y\"}},\"id\":\"6b714cd2-2ae1-49e8-bce7-8759510437d1\",\"type\":\"Line\"},{\"attributes\":{\"fill_alpha\":{\"value\":0.1},\"fill_color\":{\"value\":\"#ff7f00\"},\"line_alpha\":{\"value\":0.1},\"line_color\":{\"value\":\"#ff7f00\"},\"x\":{\"field\":\"x\"},\"y\":{\"field\":\"y\"}},\"id\":\"5c2570d9-114b-4cf9-9509-2cfa6d4bba8c\",\"type\":\"Patch\"},{\"attributes\":{\"callback\":null,\"column_names\":[\"x\",\"y\"],\"data\":{\"x\":[0,1000,2000,3000,4000,5000,6000,7000,8000,9000,10000,11000,12000,13000,14000,15000,16000,17000,18000,19000,20000,21000,22000,23000,24000,25000,26000,27000,28000,29000,30000,31000,32000,33000,34000,35000,36000,37000,38000,39000,40000,41000,42000,43000,44000,45000,46000,47000,48000,49000,50000,51000,52000,53000,54000,55000,56000,57000,58000,59000,60000,61000,62000,63000,64000,65000,66000,67000,68000,69000,70000,71000,72000,73000,74000,75000,76000,77000,78000,79000,80000,81000,82000,83000,84000,85000,86000,87000,88000,89000,90000,91000,92000,93000,94000,95000,96000,97000,98000,99000,100000,101000,102000,103000,104000,105000,106000,107000,108000,109000,110000,111000,112000,113000,114000,115000,116000,117000,118000,119000,120000,121000,122000,123000,124000,125000,126000,127000,128000,129000,130000,131000,132000,133000,134000,135000,136000,137000,138000,139000,140000,141000,142000,143000,144000,145000,146000,147000,148000,149000,150000,151000,152000,153000,154000,155000,156000,157000,158000,159000,160000,161000,162000,163000,164000,165000,166000,167000,168000,169000,170000,171000,172000,173000,174000,175000,176000,177000,178000,179000,180000,181000,182000,183000,184000,185000,186000,187000,188000,189000,190000,191000,192000,193000,194000,195000,196000,197000,198000,199000,200000,201000,202000,203000,204000,205000,206000,207000,208000,209000,210000,211000,212000,213000,214000,215000,216000,217000,218000,219000,220000,221000,222000,223000,224000,225000,226000,227000,228000,229000,230000,231000,232000,233000,234000,235000,236000,237000,238000,239000,240000,241000,242000,243000,244000,245000,246000,247000,248000,249000,250000,251000,252000,253000,254000,255000,256000,257000,258000,259000,260000,261000,262000,263000,264000,265000,266000,267000,268000,269000,270000,271000,272000,273000,274000,275000,276000,277000,278000,279000,280000,281000,282000,283000,284000,285000,286000,287000,288000,289000,290000,291000,292000,293000,294000,295000,296000,297000,298000,299000,300000,301000,302000,303000,304000,305000,306000,307000,308000,309000,310000,311000,312000,313000,314000,315000,316000,317000,318000,319000,320000,321000,322000,323000,324000,325000,326000,327000,328000,329000,330000,331000,332000,333000,334000,335000,336000,337000,338000,339000,340000,341000,342000,343000,344000,345000,346000,347000,348000,349000,350000,351000,352000,353000,354000,355000,356000,357000,358000,359000,360000,361000,362000,363000,364000,365000,366000,367000,368000,369000,370000,371000,372000,373000,374000,375000,376000,377000,378000,379000,380000,381000,382000,383000,384000,385000,386000,387000,388000,389000,390000,391000,392000,393000,394000,395000,396000,397000,398000,399000,400000,401000,402000,403000,404000,405000,406000,407000,408000,409000,410000,411000,412000,413000,414000,415000,416000,417000,418000,419000,420000,421000,422000,423000,424000,425000,426000,427000,428000,429000,430000,431000,432000,433000,434000,435000,436000,437000,438000,439000,440000,441000,442000,443000,444000,445000,446000,447000,448000,449000,450000,451000,452000,453000,454000,455000,456000,457000,458000,459000,460000,461000,462000,463000,464000,465000,466000,467000,468000,469000,470000,471000,472000,473000,474000,475000,476000,477000,478000,479000,480000,481000,482000,483000,484000,485000,486000,487000,488000,489000,490000,491000,492000,493000,494000,495000,496000,497000,498000,499000,500000,501000,502000,503000,504000,505000,506000,507000,508000,509000,510000,511000,512000,513000,514000,515000,516000,517000,518000,519000,520000,521000,522000,523000,524000,525000,526000,527000,528000,529000,530000,531000,532000,533000,534000,535000,536000,537000,538000,539000,540000,541000,542000,543000,544000,545000,546000,547000,548000,549000,550000,551000,552000,553000,554000,555000,556000,557000,558000,559000,560000,561000,562000,563000,564000,565000,566000,567000,568000,569000,570000,571000,572000,573000,574000,575000,576000,577000,578000,579000,580000,581000,582000,583000,584000,585000,586000,587000,588000,589000,590000,591000,592000,593000,594000,595000,596000,597000,598000,599000,600000,600000,599000,598000,597000,596000,595000,594000,593000,592000,591000,590000,589000,588000,587000,586000,585000,584000,583000,582000,581000,580000,579000,578000,577000,576000,575000,574000,573000,572000,571000,570000,569000,568000,567000,566000,565000,564000,563000,562000,561000,560000,559000,558000,557000,556000,555000,554000,553000,552000,551000,550000,549000,548000,547000,546000,545000,544000,543000,542000,541000,540000,539000,538000,537000,536000,535000,534000,533000,532000,531000,530000,529000,528000,527000,526000,525000,524000,523000,522000,521000,520000,519000,518000,517000,516000,515000,514000,513000,512000,511000,510000,509000,508000,507000,506000,505000,504000,503000,502000,501000,500000,499000,498000,497000,496000,495000,494000,493000,492000,491000,490000,489000,488000,487000,486000,485000,484000,483000,482000,481000,480000,479000,478000,477000,476000,475000,474000,473000,472000,471000,470000,469000,468000,467000,466000,465000,464000,463000,462000,461000,460000,459000,458000,457000,456000,455000,454000,453000,452000,451000,450000,449000,448000,447000,446000,445000,444000,443000,442000,441000,440000,439000,438000,437000,436000,435000,434000,433000,432000,431000,430000,429000,428000,427000,426000,425000,424000,423000,422000,421000,420000,419000,418000,417000,416000,415000,414000,413000,412000,411000,410000,409000,408000,407000,406000,405000,404000,403000,402000,401000,400000,399000,398000,397000,396000,395000,394000,393000,392000,391000,390000,389000,388000,387000,386000,385000,384000,383000,382000,381000,380000,379000,378000,377000,376000,375000,374000,373000,372000,371000,370000,369000,368000,367000,366000,365000,364000,363000,362000,361000,360000,359000,358000,357000,356000,355000,354000,353000,352000,351000,350000,349000,348000,347000,346000,345000,344000,343000,342000,341000,340000,339000,338000,337000,336000,335000,334000,333000,332000,331000,330000,329000,328000,327000,326000,325000,324000,323000,322000,321000,320000,319000,318000,317000,316000,315000,314000,313000,312000,311000,310000,309000,308000,307000,306000,305000,304000,303000,302000,301000,300000,299000,298000,297000,296000,295000,294000,293000,292000,291000,290000,289000,288000,287000,286000,285000,284000,283000,282000,281000,280000,279000,278000,277000,276000,275000,274000,273000,272000,271000,270000,269000,268000,267000,266000,265000,264000,263000,262000,261000,260000,259000,258000,257000,256000,255000,254000,253000,252000,251000,250000,249000,248000,247000,246000,245000,244000,243000,242000,241000,240000,239000,238000,237000,236000,235000,234000,233000,232000,231000,230000,229000,228000,227000,226000,225000,224000,223000,222000,221000,220000,219000,218000,217000,216000,215000,214000,213000,212000,211000,210000,209000,208000,207000,206000,205000,204000,203000,202000,201000,200000,199000,198000,197000,196000,195000,194000,193000,192000,191000,190000,189000,188000,187000,186000,185000,184000,183000,182000,181000,180000,179000,178000,177000,176000,175000,174000,173000,172000,171000,170000,169000,168000,167000,166000,165000,164000,163000,162000,161000,160000,159000,158000,157000,156000,155000,154000,153000,152000,151000,150000,149000,148000,147000,146000,145000,144000,143000,142000,141000,140000,139000,138000,137000,136000,135000,134000,133000,132000,131000,130000,129000,128000,127000,126000,125000,124000,123000,122000,121000,120000,119000,118000,117000,116000,115000,114000,113000,112000,111000,110000,109000,108000,107000,106000,105000,104000,103000,102000,101000,100000,99000,98000,97000,96000,95000,94000,93000,92000,91000,90000,89000,88000,87000,86000,85000,84000,83000,82000,81000,80000,79000,78000,77000,76000,75000,74000,73000,72000,71000,70000,69000,68000,67000,66000,65000,64000,63000,62000,61000,60000,59000,58000,57000,56000,55000,54000,53000,52000,51000,50000,49000,48000,47000,46000,45000,44000,43000,42000,41000,40000,39000,38000,37000,36000,35000,34000,33000,32000,31000,30000,29000,28000,27000,26000,25000,24000,23000,22000,21000,20000,19000,18000,17000,16000,15000,14000,13000,12000,11000,10000,9000,8000,7000,6000,5000,4000,3000,2000,1000,0],\"y\":[1,86,86,86,194,194,194,212,250,441,441,441,441,441,441,450,469,469,469,469,469,469,469,469,493,499,499,499,499,499,499,514,514,514,514,514,514,514,514,633,731,731,731,731,743,751,751,751,751,751,751,757,757,757,757,757,757,757,757,757,757,757,757,758,758,758,758,758,758,758,758,758,759,762,762,762,762,762,762,762,762,762,786,840,842,842,842,842,842,842,842,843,843,843,843,843,843,843,843,843,843,843,843,843,843,843,843,843,843,843,843,843,843,843,843,845,845,845,845,845,845,845,845,845,845,845,845,845,845,845,845,845,845,845,845,845,845,845,845,845,845,845,845,845,845,845,845,845,845,845,845,845,845,845,845,845,845,845,845,845,845,845,845,845,845,845,845,845,845,845,845,845,845,845,845,845,845,845,845,845,845,845,845,845,845,845,845,845,845,845,845,845,845,845,845,845,845,845,845,845,845,845,845,845,845,845,845,845,845,845,845,845,845,845,845,845,845,845,845,845,845,845,845,845,845,845,845,845,845,845,845,845,845,845,845,845,845,845,845,845,845,845,845,845,845,845,845,845,845,845,845,845,845,845,845,845,845,845,845,845,845,845,845,845,845,845,845,845,878,987,1038,1038,1038,1038,1038,1038,1038,1038,1038,1038,1038,1038,1038,1038,1038,1038,1038,1038,1038,1038,1039,1049,1055,1060,1082,1082,1082,1082,1087,1138,1138,1224,1291,1404,1527,1708,1766,1801,1805,1811,1817,1817,1817,1817,1817,1821,1963,2015,2024,2034,2034,2034,2034,2034,2034,2068,2070,2070,2070,2072,2074,2096,2096,2096,2096,2096,2096,2096,2096,2097,2108,2131,2133,2134,2134,2134,2134,2134,2134,2134,2134,2134,2134,2135,2136,2265,2320,2350,2505,2605,2605,2605,2617,2647,2650,2650,2655,2655,2655,2655,2655,2655,2655,2655,2656,2656,2656,2656,2656,2656,2656,2656,2656,2656,2656,2656,2656,2663,2663,2707,2710,2715,2729,2729,2729,2729,2729,2729,2729,2729,2729,2729,2729,2729,2729,2729,2729,2729,2729,2729,2729,2729,2729,2729,2729,2730,2766,2772,2772,2772,2772,2772,2772,2778,2780,2781,2781,2781,2781,2877,2930,2930,2930,2930,2930,2930,2930,2930,2930,2930,2930,2930,2930,2933,2937,2938,2939,2972,2972,2972,2972,2972,2972,2972,2972,2972,2972,2972,2972,2972,2972,2972,2972,2972,2973,2974,2974,2974,2974,2974,2974,2974,2974,2974,2974,2974,2974,2974,2974,2974,2974,2974,2974,2974,2974,2974,2974,2974,2974,2974,2974,2974,2974,2974,2974,2974,2975,2977,2977,2977,2977,2978,2978,2978,2978,2978,2978,2981,2981,2981,2981,2981,2981,2981,2981,2981,2981,2981,2981,2981,2981,2981,2981,2981,2981,2981,2981,2981,2981,2981,2981,2981,2984,2998,3002,3002,3002,3002,3002,3002,3002,3002,3002,3002,3002,3002,3002,3002,3002,3002,3002,3002,3002,3002,3002,3002,3002,3002,3002,3002,3002,3002,3002,3002,3002,3003,3003,3003,3003,3003,3003,3003,3003,3003,3003,3003,3003,3003,3003,3003,3003,3003,3003,3004,3004,3004,3004,3004,3004,3004,3004,3004,3004,3004,3004,3004,3004,3004,3004,3004,3781,3781,3781,3781,3781,3781,3781,3781,3781,3781,3781,3781,3781,3781,3781,3781,3781,3781,3781,3781,3781,3781,3781,3781,3781,3781,3781,3781,3781,3781,3781,3781,3781,3781,3781,3781,3781,3781,3781,3781,3781,3781,3781,3781,3781,3781,3781,3781,3781,3781,3781,3781,3781,3781,3781,3781,3781,3781,3781,3781,3781,3781,3781,3781,3781,3781,3781,3781,3781,3781,3781,3781,3781,3781,3781,3781,3781,3781,3781,3781,3781,3781,3781,3781,3781,3781,3781,3781,3781,3781,3781,3781,3781,3781,3781,3781,3781,3781,3781,3781,3781,3781,3781,3781,3781,3781,3781,3781,3781,3781,3781,3781,3781,3781,3781,3781,3781,3781,3781,3781,3781,3775,3775,3775,3775,3775,3775,3775,3775,3775,3775,3775,3775,3775,3775,3775,3775,3775,3775,3775,3775,3775,3775,3775,3775,3775,3775,3775,3775,3775,3775,3775,3775,3775,3775,3775,3775,3775,3775,3775,3775,3775,3775,3775,3775,3775,3775,3775,3775,3775,3775,3775,3775,3775,3775,3775,3775,3775,3775,3775,3775,3775,3775,3775,3775,3775,3775,3775,3775,3775,3775,3775,3775,3775,3775,3775,3775,3775,3775,3775,3775,3775,3775,3775,3775,3775,3775,3775,3775,3775,3775,3775,3775,3775,3762,3762,3762,3762,3762,3762,3762,3762,3762,3762,3760,3760,3760,3760,3760,3760,3760,3760,3760,3760,3760,3760,3760,3760,3760,3760,3760,3760,3760,3760,3760,3760,3760,3760,3760,3760,3760,3760,3760,3760,3760,3760,3760,3760,3760,3760,3760,3760,3760,3760,3760,3760,3760,3760,3760,3760,3760,3760,3760,3760,3760,3760,3760,3760,3760,3760,3760,3760,3760,3760,3760,3757,3757,3757,3757,3757,3757,3757,3757,3757,3757,3757,3757,3757,3756,3756,3756,3756,3756,3756,3756,3756,3756,3755,3755,3755,3755,3755,3755,3755,3752,3724,3723,3723,3723,3723,3723,3723,3723,3723,3723,3723,3723,3701,3701,3701,3701,3701,3701,3701,3701,3701,3701,3701,3701,3701,3701,3701,3701,3695,3667,3667,3667,3667,3667,3667,3667,3667,3667,3667,3667,3667,3667,3667,3667,3667,3667,3667,3667,3566,3566,3561,3505,3412,3410,3409,3408,3408,3408,3408,3408,3408,3408,3408,3408,3408,3407,3407,3407,3393,3363,3334,3296,3249,3215,3212,3119,3119,3115,3068,3068,3068,3068,3068,3068,3068,3068,3068,3068,3068,3068,3068,3068,3068,3068,3068,3068,3068,3068,3068,3068,3068,3068,3068,3068,3068,3068,3068,3064,3064,3064,3064,3064,3064,3064,3058,3058,3058,3058,3058,3058,3058,3058,3058,3058,3058,3058,3058,3058,3058,3058,3058,3058,3058,3050,3050,3050,3050,3047,3047,3047,3047,3047,3047,3047,3047,3047,3047,3044,3044,3044,3044,3044,3044,3044,3044,3044,3044,3044,3034,3034,3033,3033,3033,3030,3028,3025,2994,2926,2911,2911,2907,2907,2907,2907,2902,2901,2901,2892,2890,2890,2890,2890,2887,2881,2855,2853,2853,2853,2843,2814,2773,2721,2721,2719,2692,2692,2692,2691,2680,2667,2611,2583,2565,2561,2554,2538,2538,2535,2535,2535,2535,2535,2535,2535,2535,2535,2535,2535,2522,2515,2469,2375,2277,2261,2219,2056,1980,1935,1929,1928,1928,1927,1925,1825,1825,1825,1814,1804,1797,1623,1402,1384,1384,1378,1288,1238,1231,1159,1125,1120,1054,1047,1046,1043,1043,1043,1043,1043,1043,1041,971,878,837,837,819,819,819,814,766,711,710,701,688,550,550,547,547,534,523,521,485,381,226,167,1]}},\"id\":\"4c3e4f32-8989-4804-939f-4d275faa3dda\",\"type\":\"ColumnDataSource\"},{\"attributes\":{\"data_source\":{\"id\":\"c6fbafe3-81d1-4cd5-9c6e-489fca059790\",\"type\":\"ColumnDataSource\"},\"glyph\":{\"id\":\"d2785030-bb59-4240-a042-d959a55973e6\",\"type\":\"Line\"},\"hover_glyph\":null,\"nonselection_glyph\":{\"id\":\"127157d0-1c0a-4e94-905c-1c5a8a7c6e1a\",\"type\":\"Line\"},\"selection_glyph\":null},\"id\":\"3de85832-1aac-4228-8ff5-e2f848c7ea3f\",\"type\":\"GlyphRenderer\"},{\"attributes\":{\"fill_alpha\":{\"value\":0.1},\"fill_color\":{\"value\":\"#1f77b4\"},\"line_alpha\":{\"value\":0.1},\"line_color\":{\"value\":\"#1f77b4\"},\"x\":{\"field\":\"x\"},\"y\":{\"field\":\"y\"}},\"id\":\"49b98b3b-3dbf-4589-bf50-9675506576bb\",\"type\":\"Patch\"},{\"attributes\":{\"line_alpha\":{\"value\":0.1},\"line_color\":{\"value\":\"#1f77b4\"},\"line_width\":{\"value\":2},\"x\":{\"field\":\"x\"},\"y\":{\"field\":\"y\"}},\"id\":\"96459577-4db1-4600-8a40-37438dffa39e\",\"type\":\"Line\"},{\"attributes\":{\"line_alpha\":{\"value\":0.1},\"line_color\":{\"value\":\"#1f77b4\"},\"line_width\":{\"value\":2},\"x\":{\"field\":\"x\"},\"y\":{\"field\":\"y\"}},\"id\":\"127157d0-1c0a-4e94-905c-1c5a8a7c6e1a\",\"type\":\"Line\"},{\"attributes\":{\"callback\":null,\"column_names\":[\"x\",\"y\"],\"data\":{\"x\":[0,1000,2000,3000,4000,5000,6000,7000,8000,9000,10000,11000,12000,13000,14000,15000,16000,17000,18000,19000,20000,21000,22000,23000,24000,25000,26000,27000,28000,29000,30000,31000,32000,33000,34000,35000,36000,37000,38000,39000,40000,41000,42000,43000,44000,45000,46000,47000,48000,49000,50000,51000,52000,53000,54000,55000,56000,57000,58000,59000,60000,61000,62000,63000,64000,65000,66000,67000,68000,69000,70000,71000,72000,73000,74000,75000,76000,77000,78000,79000,80000,81000,82000,83000,84000,85000,86000,87000,88000,89000,90000,91000,92000,93000,94000,95000,96000,97000,98000,99000,100000,101000,102000,103000,104000,105000,106000,107000,108000,109000,110000,111000,112000,113000,114000,115000,116000,117000,118000,119000,120000,121000,122000,123000,124000,125000,126000,127000,128000,129000,130000,131000,132000,133000,134000,135000,136000,137000,138000,139000,140000,141000,142000,143000,144000,145000,146000,147000,148000,149000,150000,151000,152000,153000,154000,155000,156000,157000,158000,159000,160000,161000,162000,163000,164000,165000,166000,167000,168000,169000,170000,171000,172000,173000,174000,175000,176000,177000,178000,179000,180000,181000,182000,183000,184000,185000,186000,187000,188000,189000,190000,191000,192000,193000,194000,195000,196000,197000,198000,199000,200000,201000,202000,203000,204000,205000,206000,207000,208000,209000,210000,211000,212000,213000,214000,215000,216000,217000,218000,219000,220000,221000,222000,223000,224000,225000,226000,227000,228000,229000,230000,231000,232000,233000,234000,235000,236000,237000,238000,239000,240000,241000,242000,243000,244000,245000,246000,247000,248000,249000,250000,251000,252000,253000,254000,255000,256000,257000,258000,259000,260000,261000,262000,263000,264000,265000,266000,267000,268000,269000,270000,271000,272000,273000,274000,275000,276000,277000,278000,279000,280000,281000,282000,283000,284000,285000,286000,287000,288000,289000,290000,291000,292000,293000,294000,295000,296000,297000,298000,299000,300000,301000,302000,303000,304000,305000,306000,307000,308000,309000,310000,311000,312000,313000,314000,315000,316000,317000,318000,319000,320000,321000,322000,323000,324000,325000,326000,327000,328000,329000,330000,331000,332000,333000,334000,335000,336000,337000,338000,339000,340000,341000,342000,343000,344000,345000,346000,347000,348000,349000,350000,351000,352000,353000,354000,355000,356000,357000,358000,359000,360000,361000,362000,363000,364000,365000,366000,367000,368000,369000,370000,371000,372000,373000,374000,375000,376000,377000,378000,379000,380000,381000,382000,383000,384000,385000,386000,387000,388000,389000,390000,391000,392000,393000,394000,395000,396000,397000,398000,399000,400000,401000,402000,403000,404000,405000,406000,407000,408000,409000,410000,411000,412000,413000,414000,415000,416000,417000,418000,419000,420000,421000,422000,423000,424000,425000,426000,427000,428000,429000,430000,431000,432000,433000,434000,435000,436000,437000,438000,439000,440000,441000,442000,443000,444000,445000,446000,447000,448000,449000,450000,451000,452000,453000,454000,455000,456000,457000,458000,459000,460000,461000,462000,463000,464000,465000,466000,467000,468000,469000,470000,471000,472000,473000,474000,475000,476000,477000,478000,479000,480000,481000,482000,483000,484000,485000,486000,487000,488000,489000,490000,491000,492000,493000,494000,495000,496000,497000,498000,499000,500000,501000,502000,503000,504000,505000,506000,507000,508000,509000,510000,511000,512000,513000,514000,515000,516000,517000,518000,519000,520000,521000,522000,523000,524000,525000,526000,527000,528000,529000,530000,531000,532000,533000,534000,535000,536000,537000,538000,539000,540000,541000,542000,543000,544000,545000,546000,547000,548000,549000,550000,551000,552000,553000,554000,555000,556000,557000,558000,559000,560000,561000,562000,563000,564000,565000,566000,567000,568000,569000,570000,571000,572000,573000,574000,575000,576000,577000,578000,579000,580000,581000,582000,583000,584000,585000,586000,587000,588000,589000,590000,591000,592000,593000,594000,595000,596000,597000,598000,599000,600000],\"y\":{\"__ndarray__\":\"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\",\"dtype\":\"float64\",\"shape\":[600]}}},\"id\":\"1adb8a7a-d26c-438f-9f10-5557b38a4534\",\"type\":\"ColumnDataSource\"},{\"attributes\":{\"data_source\":{\"id\":\"1adb8a7a-d26c-438f-9f10-5557b38a4534\",\"type\":\"ColumnDataSource\"},\"glyph\":{\"id\":\"6b714cd2-2ae1-49e8-bce7-8759510437d1\",\"type\":\"Line\"},\"hover_glyph\":null,\"nonselection_glyph\":{\"id\":\"96459577-4db1-4600-8a40-37438dffa39e\",\"type\":\"Line\"},\"selection_glyph\":null},\"id\":\"c6683e68-5bda-4fa4-b496-8ea459453f60\",\"type\":\"GlyphRenderer\"},{\"attributes\":{\"label\":{\"value\":\"0.1 MinusPseudo\"},\"renderers\":[{\"id\":\"2f1751fe-03c8-4016-98cb-f2a9ac940aca\",\"type\":\"GlyphRenderer\"}]},\"id\":\"835d7cb0-a874-4cbb-ae94-48e6ec7306e1\",\"type\":\"LegendItem\"},{\"attributes\":{\"label\":{\"value\":\"10 MinusPseudo\"},\"renderers\":[{\"id\":\"3de85832-1aac-4228-8ff5-e2f848c7ea3f\",\"type\":\"GlyphRenderer\"}]},\"id\":\"2b519024-dcf0-46d8-bbcf-fe7f874daf89\",\"type\":\"LegendItem\"},{\"attributes\":{\"data_source\":{\"id\":\"4c3e4f32-8989-4804-939f-4d275faa3dda\",\"type\":\"ColumnDataSource\"},\"glyph\":{\"id\":\"5c2570d9-114b-4cf9-9509-2cfa6d4bba8c\",\"type\":\"Patch\"},\"hover_glyph\":null,\"nonselection_glyph\":{\"id\":\"49b98b3b-3dbf-4589-bf50-9675506576bb\",\"type\":\"Patch\"},\"selection_glyph\":null},\"id\":\"2fc71897-572f-4fd5-b2b9-22e0c2fa84b9\",\"type\":\"GlyphRenderer\"},{\"attributes\":{\"label\":{\"value\":\"0 MinusPseudo\"},\"renderers\":[{\"id\":\"c6683e68-5bda-4fa4-b496-8ea459453f60\",\"type\":\"GlyphRenderer\"}]},\"id\":\"0f630ae9-90e4-4cbc-a105-ffbfbbdf77ea\",\"type\":\"LegendItem\"},{\"attributes\":{\"label\":{\"value\":\"1 MinusPseudo\"},\"renderers\":[{\"id\":\"ce550086-865c-4ab5-b2cf-4624a15dfe45\",\"type\":\"GlyphRenderer\"}]},\"id\":\"17381bfd-0de3-4d9e-a0d0-54bd31e091fd\",\"type\":\"LegendItem\"},{\"attributes\":{\"data_source\":{\"id\":\"6de1e9aa-81bd-42ad-ac01-6dd2b96d37af\",\"type\":\"ColumnDataSource\"},\"glyph\":{\"id\":\"af334239-cf1b-42fe-8081-7e331152f105\",\"type\":\"Line\"},\"hover_glyph\":null,\"nonselection_glyph\":{\"id\":\"8d4a1ab4-d0bd-4a78-b0d7-334a776d7a02\",\"type\":\"Line\"},\"selection_glyph\":null},\"id\":\"ce550086-865c-4ab5-b2cf-4624a15dfe45\",\"type\":\"GlyphRenderer\"},{\"attributes\":{\"callback\":null,\"column_names\":[\"x\",\"y\"],\"data\":{\"x\":[0,1000,2000,3000,4000,5000,6000,7000,8000,9000,10000,11000,12000,13000,14000,15000,16000,17000,18000,19000,20000,21000,22000,23000,24000,25000,26000,27000,28000,29000,30000,31000,32000,33000,34000,35000,36000,37000,38000,39000,40000,41000,42000,43000,44000,45000,46000,47000,48000,49000,50000,51000,52000,53000,54000,55000,56000,57000,58000,59000,60000,61000,62000,63000,64000,65000,66000,67000,68000,69000,70000,71000,72000,73000,74000,75000,76000,77000,78000,79000,80000,81000,82000,83000,84000,85000,86000,87000,88000,89000,90000,91000,92000,93000,94000,95000,96000,97000,98000,99000,100000,101000,102000,103000,104000,105000,106000,107000,108000,109000,110000,111000,112000,113000,114000,115000,116000,117000,118000,119000,120000,121000,122000,123000,124000,125000,126000,127000,128000,129000,130000,131000,132000,133000,134000,135000,136000,137000,138000,139000,140000,141000,142000,143000,144000,145000,146000,147000,148000,149000,150000,151000,152000,153000,154000,155000,156000,157000,158000,159000,160000,161000,162000,163000,164000,165000,166000,167000,168000,169000,170000,171000,172000,173000,174000,175000,176000,177000,178000,179000,180000,181000,182000,183000,184000,185000,186000,187000,188000,189000,190000,191000,192000,193000,194000,195000,196000,197000,198000,199000,200000,201000,202000,203000,204000,205000,206000,207000,208000,209000,210000,211000,212000,213000,214000,215000,216000,217000,218000,219000,220000,221000,222000,223000,224000,225000,226000,227000,228000,229000,230000,231000,232000,233000,234000,235000,236000,237000,238000,239000,240000,241000,242000,243000,244000,245000,246000,247000,248000,249000,250000,251000,252000,253000,254000,255000,256000,257000,258000,259000,260000,261000,262000,263000,264000,265000,266000,267000,268000,269000,270000,271000,272000,273000,274000,275000,276000,277000,278000,279000,280000,281000,282000,283000,284000,285000,286000,287000,288000,289000,290000,291000,292000,293000,294000,295000,296000,297000,298000,299000,300000,301000,302000,303000,304000,305000,306000,307000,308000,309000,310000,311000,312000,313000,314000,315000,316000,317000,318000,319000,320000,321000,322000,323000,324000,325000,326000,327000,328000,329000,330000,331000,332000,333000,334000,335000,336000,337000,338000,339000,340000,341000,342000,343000,344000,345000,346000,347000,348000,349000,350000,351000,352000,353000,354000,355000,356000,357000,358000,359000,360000,361000,362000,363000,364000,365000,366000,367000,368000,369000,370000,371000,372000,373000,374000,375000,376000,377000,378000,379000,380000,381000,382000,383000,384000,385000,386000,387000,388000,389000,390000,391000,392000,393000,394000,395000,396000,397000,398000,399000,400000,401000,402000,403000,404000,405000,406000,407000,408000,409000,410000,411000,412000,413000,414000,415000,416000,417000,418000,419000,420000,421000,422000,423000,424000,425000,426000,427000,428000,429000,430000,431000,432000,433000,434000,435000,436000,437000,438000,439000,440000,441000,442000,443000,444000,445000,446000,447000,448000,449000,450000,451000,452000,453000,454000,455000,456000,457000,458000,459000,460000,461000,462000,463000,464000,465000,466000,467000,468000,469000,470000,471000,472000,473000,474000,475000,476000,477000,478000,479000,480000,481000,482000,483000,484000,485000,486000,487000,488000,489000,490000,491000,492000,493000,494000,495000,496000,497000,498000,499000,500000,501000,502000,503000,504000,505000,506000,507000,508000,509000,510000,511000,512000,513000,514000,515000,516000,517000,518000,519000,520000,521000,522000,523000,524000,525000,526000,527000,528000,529000,530000,531000,532000,533000,534000,535000,536000,537000,538000,539000,540000,541000,542000,543000,544000,545000,546000,547000,548000,549000,550000,551000,552000,553000,554000,555000,556000,557000,558000,559000,560000,561000,562000,563000,564000,565000,566000,567000,568000,569000,570000,571000,572000,573000,574000,575000,576000,577000,578000,579000,580000,581000,582000,583000,584000,585000,586000,587000,588000,589000,590000,591000,592000,593000,594000,595000,596000,597000,598000,599000,600000,600000,599000,598000,597000,596000,595000,594000,593000,592000,591000,590000,589000,588000,587000,586000,585000,584000,583000,582000,581000,580000,579000,578000,577000,576000,575000,574000,573000,572000,571000,570000,569000,568000,567000,566000,565000,564000,563000,562000,561000,560000,559000,558000,557000,556000,555000,554000,553000,552000,551000,550000,549000,548000,547000,546000,545000,544000,543000,542000,541000,540000,539000,538000,537000,536000,535000,534000,533000,532000,531000,530000,529000,528000,527000,526000,525000,524000,523000,522000,521000,520000,519000,518000,517000,516000,515000,514000,513000,512000,511000,510000,509000,508000,507000,506000,505000,504000,503000,502000,501000,500000,499000,498000,497000,496000,495000,494000,493000,492000,491000,490000,489000,488000,487000,486000,485000,484000,483000,482000,481000,480000,479000,478000,477000,476000,475000,474000,473000,472000,471000,470000,469000,468000,467000,466000,465000,464000,463000,462000,461000,460000,459000,458000,457000,456000,455000,454000,453000,452000,451000,450000,449000,448000,447000,446000,445000,444000,443000,442000,441000,440000,439000,438000,437000,436000,435000,434000,433000,432000,431000,430000,429000,428000,427000,426000,425000,424000,423000,422000,421000,420000,419000,418000,417000,416000,415000,414000,413000,412000,411000,410000,409000,408000,407000,406000,405000,404000,403000,402000,401000,400000,399000,398000,397000,396000,395000,394000,393000,392000,391000,390000,389000,388000,387000,386000,385000,384000,383000,382000,381000,380000,379000,378000,377000,376000,375000,374000,373000,372000,371000,370000,369000,368000,367000,366000,365000,364000,363000,362000,361000,360000,359000,358000,357000,356000,355000,354000,353000,352000,351000,350000,349000,348000,347000,346000,345000,344000,343000,342000,341000,340000,339000,338000,337000,336000,335000,334000,333000,332000,331000,330000,329000,328000,327000,326000,325000,324000,323000,322000,321000,320000,319000,318000,317000,316000,315000,314000,313000,312000,311000,310000,309000,308000,307000,306000,305000,304000,303000,302000,301000,300000,299000,298000,297000,296000,295000,294000,293000,292000,291000,290000,289000,288000,287000,286000,285000,284000,283000,282000,281000,280000,279000,278000,277000,276000,275000,274000,273000,272000,271000,270000,269000,268000,267000,266000,265000,264000,263000,262000,261000,260000,259000,258000,257000,256000,255000,254000,253000,252000,251000,250000,249000,248000,247000,246000,245000,244000,243000,242000,241000,240000,239000,238000,237000,236000,235000,234000,233000,232000,231000,230000,229000,228000,227000,226000,225000,224000,223000,222000,221000,220000,219000,218000,217000,216000,215000,214000,213000,212000,211000,210000,209000,208000,207000,206000,205000,204000,203000,202000,201000,200000,199000,198000,197000,196000,195000,194000,193000,192000,191000,190000,189000,188000,187000,186000,185000,184000,183000,182000,181000,180000,179000,178000,177000,176000,175000,174000,173000,172000,171000,170000,169000,168000,167000,166000,165000,164000,163000,162000,161000,160000,159000,158000,157000,156000,155000,154000,153000,152000,151000,150000,149000,148000,147000,146000,145000,144000,143000,142000,141000,140000,139000,138000,137000,136000,135000,134000,133000,132000,131000,130000,129000,128000,127000,126000,125000,124000,123000,122000,121000,120000,119000,118000,117000,116000,115000,114000,113000,112000,111000,110000,109000,108000,107000,106000,105000,104000,103000,102000,101000,100000,99000,98000,97000,96000,95000,94000,93000,92000,91000,90000,89000,88000,87000,86000,85000,84000,83000,82000,81000,80000,79000,78000,77000,76000,75000,74000,73000,72000,71000,70000,69000,68000,67000,66000,65000,64000,63000,62000,61000,60000,59000,58000,57000,56000,55000,54000,53000,52000,51000,50000,49000,48000,47000,46000,45000,44000,43000,42000,41000,40000,39000,38000,37000,36000,35000,34000,33000,32000,31000,30000,29000,28000,27000,26000,25000,24000,23000,22000,21000,20000,19000,18000,17000,16000,15000,14000,13000,12000,11000,10000,9000,8000,7000,6000,5000,4000,3000,2000,1000,0],\"y\":[1,56,105,119,182,189,190,190,190,190,190,190,190,190,190,190,190,246,247,247,247,247,247,247,247,247,247,247,247,247,247,247,276,276,276,276,277,277,277,277,277,277,277,277,277,277,277,277,277,277,277,277,277,277,277,277,277,277,277,277,278,278,278,278,278,278,278,278,278,278,278,278,278,278,278,278,278,278,278,278,278,278,278,278,278,278,278,278,278,278,279,279,279,279,279,279,279,279,279,279,279,279,279,279,279,279,279,279,279,279,279,279,279,279,279,279,279,279,279,279,279,279,279,279,279,279,280,280,280,280,280,280,280,280,280,280,280,280,280,280,280,280,280,280,280,280,280,280,280,280,280,280,280,280,280,280,280,280,280,280,280,280,280,280,280,280,280,280,281,281,281,281,281,281,281,281,281,281,281,281,281,281,281,281,281,281,281,281,281,281,281,281,281,281,281,281,281,281,281,281,281,281,281,281,281,281,281,281,281,281,281,281,281,281,281,281,282,282,282,282,282,282,282,282,282,282,282,282,282,282,282,282,282,282,282,282,282,282,282,282,282,282,282,282,282,282,282,282,282,282,282,282,282,282,282,282,282,282,282,282,282,282,282,282,282,282,282,282,282,282,283,283,283,283,283,283,283,283,283,283,283,283,283,283,283,283,283,283,283,283,283,283,283,283,283,283,283,283,283,283,283,283,283,283,283,283,283,283,283,283,283,283,283,283,283,283,283,283,283,283,283,283,283,283,283,283,283,283,283,283,284,284,284,284,284,284,284,284,284,284,284,284,284,284,284,284,284,284,284,284,284,284,284,284,284,284,284,284,284,284,284,284,284,284,284,284,284,284,284,284,284,284,284,284,284,284,284,284,284,284,284,284,284,284,284,284,284,284,284,284,284,284,284,284,284,284,285,285,285,285,285,285,285,285,285,285,285,285,285,285,285,285,285,285,285,285,285,285,285,285,285,285,285,285,285,285,285,285,285,285,285,285,285,285,285,285,285,285,285,285,285,285,285,285,285,285,285,285,285,285,285,285,285,285,285,285,285,285,285,285,285,285,285,285,285,285,285,285,286,286,286,286,286,286,286,286,286,286,286,286,286,286,286,286,286,286,286,286,286,286,286,286,286,286,286,286,286,286,286,286,286,286,286,286,286,286,286,286,286,286,286,286,286,286,286,286,286,286,286,286,286,286,286,286,286,286,286,286,286,286,286,286,286,286,286,286,286,286,286,286,286,286,286,286,286,286,287,287,287,287,287,287,287,287,287,287,287,287,287,287,287,287,287,287,287,287,287,287,287,287,287,287,287,287,287,287,287,287,287,287,287,287,287,287,287,287,287,287,287,287,287,287,287,287,287,287,287,287,287,287,1888,1888,1888,1888,1888,1888,1888,1888,1888,1888,1888,1888,1888,1888,1888,1888,1888,1888,1888,1888,1888,1888,1888,1888,1888,1888,1888,1888,1888,1888,1888,1888,1888,1888,1888,1888,1888,1888,1888,1888,1888,1888,1888,1888,1888,1888,1888,1888,1888,1888,1888,1888,1888,1888,1887,1887,1887,1887,1795,1642,1640,1640,1640,1640,1640,1640,1640,1640,1640,1640,1640,1640,1640,1640,1640,1640,1640,1640,1640,1640,1640,1640,1640,1640,1640,1640,1640,1640,1640,1640,1640,1640,1640,1640,1640,1640,1640,1640,1640,1640,1640,1640,1640,1640,1640,1640,1640,1640,1640,1640,1640,1640,1640,1640,1640,1640,1640,1640,1640,1640,1640,1640,1640,1640,1640,1640,1640,1640,1640,1640,1640,1640,1591,1526,1497,1456,1456,1456,1456,1456,1456,1456,1456,1456,1456,1456,1456,1456,1456,1456,1456,1456,1456,1456,1456,1456,1456,1456,1456,1456,1456,1456,1456,1456,1456,1456,1456,1456,1456,1456,1456,1456,1456,1456,1456,1456,1456,1456,1456,1456,1456,1456,1456,1456,1456,1456,1456,1456,1456,1456,1456,1456,1456,1456,1456,1456,1456,1456,1456,1456,1456,1456,1456,1456,1455,1455,1455,1455,1455,1455,1455,1455,1455,1455,1455,1455,1455,1455,1455,1455,1455,1455,1455,1455,1455,1455,1455,1455,1455,1455,1455,1455,1455,1455,1455,1455,1455,1455,1455,1455,1455,1455,1455,1455,1455,1455,1455,1455,1455,1455,1455,1455,1455,1455,1455,1455,1455,1455,1455,1455,1455,1455,1455,1455,1455,1455,1455,1455,1455,1455,1454,1454,1454,1454,1454,1454,1454,1454,1454,1454,1454,1454,1454,1454,1454,1454,1454,1454,1454,1454,1454,1454,1454,1454,1454,1454,1454,1454,1454,1454,1454,1454,1454,1454,1454,1454,1454,1454,1454,1454,1454,1454,1454,1454,1454,1454,1454,1454,1454,1454,1454,1454,1454,1454,1454,1454,1454,1454,1454,1454,1453,1453,1453,1453,1453,1453,1453,1453,1453,1453,1453,1453,1453,1453,1453,1453,1453,1453,1453,1453,1453,1453,1453,1453,1453,1453,1453,1453,1453,1453,1453,1453,1453,1453,1453,1453,1453,1453,1453,1453,1453,1453,1453,1453,1453,1453,1453,1453,1453,1453,1453,1453,1453,1453,1451,1451,1450,1450,1450,1450,1450,1450,1450,1450,1450,1450,1450,1450,1450,1450,1450,1450,1450,1450,1450,1450,1450,1450,1450,1450,1450,1450,1450,1450,1450,1450,1450,1450,1450,1450,1450,1450,1450,1450,1450,1450,1450,1450,1450,1450,1450,1450,1449,1449,1449,1449,1449,1449,1449,1449,1449,1449,1449,1449,1449,1449,1449,1449,1449,1449,1449,1449,1449,1449,1449,1449,1449,1449,1449,1449,1449,1449,1449,1449,1449,1449,1449,1449,1449,1449,1449,1449,1449,1449,1448,1448,1448,1448,1448,1448,1448,1448,1448,1448,1448,1448,1448,1448,1448,1448,1448,1448,1448,1448,1448,1448,1448,1448,1448,1448,1448,1448,1448,1448,1448,1448,1448,1448,1448,1448,1447,1447,1447,1440,1372,1370,1370,1370,1370,1370,1370,1370,1370,1370,1370,1370,1370,1370,1370,1370,1370,1370,1370,1370,1370,1370,1370,1370,1370,1370,1223,1163,1092,1013,1005,1004,1004,1004,1004,1004,1004,1004,1004,1004,1004,1004,1004,1004,1004,1004,1004,1004,1004,1004,939,911,817,715,609,600,600,600,600,600,600,600,600,600,600,600,600,600,530,457,454,450,424,366,366,366,366,366,366,366,277,277,277,258,158,1]}},\"id\":\"9c6d0f3e-1011-453b-a763-12a8f2047c10\",\"type\":\"ColumnDataSource\"},{\"attributes\":{\"callback\":null,\"column_names\":[\"x\",\"y\"],\"data\":{\"x\":[0,1000,2000,3000,4000,5000,6000,7000,8000,9000,10000,11000,12000,13000,14000,15000,16000,17000,18000,19000,20000,21000,22000,23000,24000,25000,26000,27000,28000,29000,30000,31000,32000,33000,34000,35000,36000,37000,38000,39000,40000,41000,42000,43000,44000,45000,46000,47000,48000,49000,50000,51000,52000,53000,54000,55000,56000,57000,58000,59000,60000,61000,62000,63000,64000,65000,66000,67000,68000,69000,70000,71000,72000,73000,74000,75000,76000,77000,78000,79000,80000,81000,82000,83000,84000,85000,86000,87000,88000,89000,90000,91000,92000,93000,94000,95000,96000,97000,98000,99000,100000,101000,102000,103000,104000,105000,106000,107000,108000,109000,110000,111000,112000,113000,114000,115000,116000,117000,118000,119000,120000,121000,122000,123000,124000,125000,126000,127000,128000,129000,130000,131000,132000,133000,134000,135000,136000,137000,138000,139000,140000,141000,142000,143000,144000,145000,146000,147000,148000,149000,150000,151000,152000,153000,154000,155000,156000,157000,158000,159000,160000,161000,162000,163000,164000,165000,166000,167000,168000,169000,170000,171000,172000,173000,174000,175000,176000,177000,178000,179000,180000,181000,182000,183000,184000,185000,186000,187000,188000,189000,190000,191000,192000,193000,194000,195000,196000,197000,198000,199000,200000,201000,202000,203000,204000,205000,206000,207000,208000,209000,210000,211000,212000,213000,214000,215000,216000,217000,218000,219000,220000,221000,222000,223000,224000,225000,226000,227000,228000,229000,230000,231000,232000,233000,234000,235000,236000,237000,238000,239000,240000,241000,242000,243000,244000,245000,246000,247000,248000,249000,250000,251000,252000,253000,254000,255000,256000,257000,258000,259000,260000,261000,262000,263000,264000,265000,266000,267000,268000,269000,270000,271000,272000,273000,274000,275000,276000,277000,278000,279000,280000,281000,282000,283000,284000,285000,286000,287000,288000,289000,290000,291000,292000,293000,294000,295000,296000,297000,298000,299000,300000,301000,302000,303000,304000,305000,306000,307000,308000,309000,310000,311000,312000,313000,314000,315000,316000,317000,318000,319000,320000,321000,322000,323000,324000,325000,326000,327000,328000,329000,330000,331000,332000,333000,334000,335000,336000,337000,338000,339000,340000,341000,342000,343000,344000,345000,346000,347000,348000,349000,350000,351000,352000,353000,354000,355000,356000,357000,358000,359000,360000,361000,362000,363000,364000,365000,366000,367000,368000,369000,370000,371000,372000,373000,374000,375000,376000,377000,378000,379000,380000,381000,382000,383000,384000,385000,386000,387000,388000,389000,390000,391000,392000,393000,394000,395000,396000,397000,398000,399000,400000,401000,402000,403000,404000,405000,406000,407000,408000,409000,410000,411000,412000,413000,414000,415000,416000,417000,418000,419000,420000,421000,422000,423000,424000,425000,426000,427000,428000,429000,430000,431000,432000,433000,434000,435000,436000,437000,438000,439000,440000,441000,442000,443000,444000,445000,446000,447000,448000,449000,450000,451000,452000,453000,454000,455000,456000,457000,458000,459000,460000,461000,462000,463000,464000,465000,466000,467000,468000,469000,470000,471000,472000,473000,474000,475000,476000,477000,478000,479000,480000,481000,482000,483000,484000,485000,486000,487000,488000,489000,490000,491000,492000,493000,494000,495000,496000,497000,498000,499000,500000,501000,502000,503000,504000,505000,506000,507000,508000,509000,510000,511000,512000,513000,514000,515000,516000,517000,518000,519000,520000,521000,522000,523000,524000,525000,526000,527000,528000,529000,530000,531000,532000,533000,534000,535000,536000,537000,538000,539000,540000,541000,542000,543000,544000,545000,546000,547000,548000,549000,550000,551000,552000,553000,554000,555000,556000,557000,558000,559000,560000,561000,562000,563000,564000,565000,566000,567000,568000,569000,570000,571000,572000,573000,574000,575000,576000,577000,578000,579000,580000,581000,582000,583000,584000,585000,586000,587000,588000,589000,590000,591000,592000,593000,594000,595000,596000,597000,598000,599000,600000],\"y\":{\"__ndarray__\":\"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\",\"dtype\":\"float64\",\"shape\":[600]}}},\"id\":\"c6fbafe3-81d1-4cd5-9c6e-489fca059790\",\"type\":\"ColumnDataSource\"},{\"attributes\":{\"below\":[{\"id\":\"99da8022-ba50-4ed5-b58f-ed19c4996bfa\",\"type\":\"LinearAxis\"}],\"left\":[{\"id\":\"3f55ec2a-1173-4258-9e44-766057f2eb38\",\"type\":\"LinearAxis\"}],\"plot_height\":800,\"plot_width\":1200,\"renderers\":[{\"id\":\"99da8022-ba50-4ed5-b58f-ed19c4996bfa\",\"type\":\"LinearAxis\"},{\"id\":\"d61bed4c-fd48-4f0a-a73e-f15b8e431534\",\"type\":\"Grid\"},{\"id\":\"3f55ec2a-1173-4258-9e44-766057f2eb38\",\"type\":\"LinearAxis\"},{\"id\":\"e2fa68f4-eeb6-480f-8ed4-7a9d2334e004\",\"type\":\"Grid\"},{\"id\":\"2fb0e5bc-0da4-499a-8130-4b668d8a43d0\",\"type\":\"BoxAnnotation\"},{\"id\":\"b3854154-430d-4af7-bc54-baa739f51915\",\"type\":\"GlyphRenderer\"},{\"id\":\"fb0f9ccc-0785-452a-b26f-dbf125fdab82\",\"type\":\"GlyphRenderer\"},{\"id\":\"7534b9a9-5bdc-4997-8695-0f4da4e03c16\",\"type\":\"GlyphRenderer\"},{\"id\":\"2f1751fe-03c8-4016-98cb-f2a9ac940aca\",\"type\":\"GlyphRenderer\"},{\"id\":\"8374d7bb-36d2-4053-a3bd-ffdbfbb75a8b\",\"type\":\"GlyphRenderer\"},{\"id\":\"ce550086-865c-4ab5-b2cf-4624a15dfe45\",\"type\":\"GlyphRenderer\"},{\"id\":\"66c26b86-a36c-45b8-a3c5-e06e6b06e7e4\",\"type\":\"GlyphRenderer\"},{\"id\":\"3de85832-1aac-4228-8ff5-e2f848c7ea3f\",\"type\":\"GlyphRenderer\"},{\"id\":\"2fc71897-572f-4fd5-b2b9-22e0c2fa84b9\",\"type\":\"GlyphRenderer\"},{\"id\":\"c6683e68-5bda-4fa4-b496-8ea459453f60\",\"type\":\"GlyphRenderer\"},{\"id\":\"64ed3af2-b5e9-4b4e-b451-496b706e7953\",\"type\":\"Legend\"}],\"right\":[{\"id\":\"64ed3af2-b5e9-4b4e-b451-496b706e7953\",\"type\":\"Legend\"}],\"title\":{\"id\":\"be59c799-b820-4df4-ae5d-77eaf644a8de\",\"type\":\"Title\"},\"tool_events\":{\"id\":\"255686ba-7da5-43aa-ba33-f7af2f94cdff\",\"type\":\"ToolEvents\"},\"toolbar\":{\"id\":\"58004770-60e1-4db3-bc38-dc315fd228c3\",\"type\":\"Toolbar\"},\"toolbar_location\":\"above\",\"x_range\":{\"id\":\"18327b1b-4346-4a86-a6b5-16b68ee42199\",\"type\":\"DataRange1d\"},\"y_range\":{\"id\":\"78fb7701-ed35-4849-b5f7-1cf51d8f064d\",\"type\":\"DataRange1d\"}},\"id\":\"6df2ed87-9057-4743-bad0-1d190d41183e\",\"subtype\":\"Figure\",\"type\":\"Plot\"},{\"attributes\":{\"callback\":null,\"column_names\":[\"x\",\"y\"],\"data\":{\"x\":[0,1000,2000,3000,4000,5000,6000,7000,8000,9000,10000,11000,12000,13000,14000,15000,16000,17000,18000,19000,20000,21000,22000,23000,24000,25000,26000,27000,28000,29000,30000,31000,32000,33000,34000,35000,36000,37000,38000,39000,40000,41000,42000,43000,44000,45000,46000,47000,48000,49000,50000,51000,52000,53000,54000,55000,56000,57000,58000,59000,60000,61000,62000,63000,64000,65000,66000,67000,68000,69000,70000,71000,72000,73000,74000,75000,76000,77000,78000,79000,80000,81000,82000,83000,84000,85000,86000,87000,88000,89000,90000,91000,92000,93000,94000,95000,96000,97000,98000,99000,100000,101000,102000,103000,104000,105000,106000,107000,108000,109000,110000,111000,112000,113000,114000,115000,116000,117000,118000,119000,120000,121000,122000,123000,124000,125000,126000,127000,128000,129000,130000,131000,132000,133000,134000,135000,136000,137000,138000,139000,140000,141000,142000,143000,144000,145000,146000,147000,148000,149000,150000,151000,152000,153000,154000,155000,156000,157000,158000,159000,160000,161000,162000,163000,164000,165000,166000,167000,168000,169000,170000,171000,172000,173000,174000,175000,176000,177000,178000,179000,180000,181000,182000,183000,184000,185000,186000,187000,188000,189000,190000,191000,192000,193000,194000,195000,196000,197000,198000,199000,200000,201000,202000,203000,204000,205000,206000,207000,208000,209000,210000,211000,212000,213000,214000,215000,216000,217000,218000,219000,220000,221000,222000,223000,224000,225000,226000,227000,228000,229000,230000,231000,232000,233000,234000,235000,236000,237000,238000,239000,240000,241000,242000,243000,244000,245000,246000,247000,248000,249000,250000,251000,252000,253000,254000,255000,256000,257000,258000,259000,260000,261000,262000,263000,264000,265000,266000,267000,268000,269000,270000,271000,272000,273000,274000,275000,276000,277000,278000,279000,280000,281000,282000,283000,284000,285000,286000,287000,288000,289000,290000,291000,292000,293000,294000,295000,296000,297000,298000,299000,300000,301000,302000,303000,304000,305000,306000,307000,308000,309000,310000,311000,312000,313000,314000,315000,316000,317000,318000,319000,320000,321000,322000,323000,324000,325000,326000,327000,328000,329000,330000,331000,332000,333000,334000,335000,336000,337000,338000,339000,340000,341000,342000,343000,344000,345000,346000,347000,348000,349000,350000,351000,352000,353000,354000,355000,356000,357000,358000,359000,360000,361000,362000,363000,364000,365000,366000,367000,368000,369000,370000,371000,372000,373000,374000,375000,376000,377000,378000,379000,380000,381000,382000,383000,384000,385000,386000,387000,388000,389000,390000,391000,392000,393000,394000,395000,396000,397000,398000,399000,400000,401000,402000,403000,404000,405000,406000,407000,408000,409000,410000,411000,412000,413000,414000,415000,416000,417000,418000,419000,420000,421000,422000,423000,424000,425000,426000,427000,428000,429000,430000,431000,432000,433000,434000,435000,436000,437000,438000,439000,440000,441000,442000,443000,444000,445000,446000,447000,448000,449000,450000,451000,452000,453000,454000,455000,456000,457000,458000,459000,460000,461000,462000,463000,464000,465000,466000,467000,468000,469000,470000,471000,472000,473000,474000,475000,476000,477000,478000,479000,480000,481000,482000,483000,484000,485000,486000,487000,488000,489000,490000,491000,492000,493000,494000,495000,496000,497000,498000,499000,500000,501000,502000,503000,504000,505000,506000,507000,508000,509000,510000,511000,512000,513000,514000,515000,516000,517000,518000,519000,520000,521000,522000,523000,524000,525000,526000,527000,528000,529000,530000,531000,532000,533000,534000,535000,536000,537000,538000,539000,540000,541000,542000,543000,544000,545000,546000,547000,548000,549000,550000,551000,552000,553000,554000,555000,556000,557000,558000,559000,560000,561000,562000,563000,564000,565000,566000,567000,568000,569000,570000,571000,572000,573000,574000,575000,576000,577000,578000,579000,580000,581000,582000,583000,584000,585000,586000,587000,588000,589000,590000,591000,592000,593000,594000,595000,596000,597000,598000,599000,600000],\"y\":{\"__ndarray__\":\"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\",\"dtype\":\"float64\",\"shape\":[600]}}},\"id\":\"6de1e9aa-81bd-42ad-ac01-6dd2b96d37af\",\"type\":\"ColumnDataSource\"},{\"attributes\":{\"line_color\":{\"value\":\"#4daf4a\"},\"line_width\":{\"value\":2},\"x\":{\"field\":\"x\"},\"y\":{\"field\":\"y\"}},\"id\":\"af334239-cf1b-42fe-8081-7e331152f105\",\"type\":\"Line\"},{\"attributes\":{\"callback\":null,\"column_names\":[\"x\",\"y\"],\"data\":{\"x\":[0,1000,2000,3000,4000,5000,6000,7000,8000,9000,10000,11000,12000,13000,14000,15000,16000,17000,18000,19000,20000,21000,22000,23000,24000,25000,26000,27000,28000,29000,30000,31000,32000,33000,34000,35000,36000,37000,38000,39000,40000,41000,42000,43000,44000,45000,46000,47000,48000,49000,50000,51000,52000,53000,54000,55000,56000,57000,58000,59000,60000,61000,62000,63000,64000,65000,66000,67000,68000,69000,70000,71000,72000,73000,74000,75000,76000,77000,78000,79000,80000,81000,82000,83000,84000,85000,86000,87000,88000,89000,90000,91000,92000,93000,94000,95000,96000,97000,98000,99000,100000,101000,102000,103000,104000,105000,106000,107000,108000,109000,110000,111000,112000,113000,114000,115000,116000,117000,118000,119000,120000,121000,122000,123000,124000,125000,126000,127000,128000,129000,130000,131000,132000,133000,134000,135000,136000,137000,138000,139000,140000,141000,142000,143000,144000,145000,146000,147000,148000,149000,150000,151000,152000,153000,154000,155000,156000,157000,158000,159000,160000,161000,162000,163000,164000,165000,166000,167000,168000,169000,170000,171000,172000,173000,174000,175000,176000,177000,178000,179000,180000,181000,182000,183000,184000,185000,186000,187000,188000,189000,190000,191000,192000,193000,194000,195000,196000,197000,198000,199000,200000,201000,202000,203000,204000,205000,206000,207000,208000,209000,210000,211000,212000,213000,214000,215000,216000,217000,218000,219000,220000,221000,222000,223000,224000,225000,226000,227000,228000,229000,230000,231000,232000,233000,234000,235000,236000,237000,238000,239000,240000,241000,242000,243000,244000,245000,246000,247000,248000,249000,250000,251000,252000,253000,254000,255000,256000,257000,258000,259000,260000,261000,262000,263000,264000,265000,266000,267000,268000,269000,270000,271000,272000,273000,274000,275000,276000,277000,278000,279000,280000,281000,282000,283000,284000,285000,286000,287000,288000,289000,290000,291000,292000,293000,294000,295000,296000,297000,298000,299000,300000,301000,302000,303000,304000,305000,306000,307000,308000,309000,310000,311000,312000,313000,314000,315000,316000,317000,318000,319000,320000,321000,322000,323000,324000,325000,326000,327000,328000,329000,330000,331000,332000,333000,334000,335000,336000,337000,338000,339000,340000,341000,342000,343000,344000,345000,346000,347000,348000,349000,350000,351000,352000,353000,354000,355000,356000,357000,358000,359000,360000,361000,362000,363000,364000,365000,366000,367000,368000,369000,370000,371000,372000,373000,374000,375000,376000,377000,378000,379000,380000,381000,382000,383000,384000,385000,386000,387000,388000,389000,390000,391000,392000,393000,394000,395000,396000,397000,398000,399000,400000,401000,402000,403000,404000,405000,406000,407000,408000,409000,410000,411000,412000,413000,414000,415000,416000,417000,418000,419000,420000,421000,422000,423000,424000,425000,426000,427000,428000,429000,430000,431000,432000,433000,434000,435000,436000,437000,438000,439000,440000,441000,442000,443000,444000,445000,446000,447000,448000,449000,450000,451000,452000,453000,454000,455000,456000,457000,458000,459000,460000,461000,462000,463000,464000,465000,466000,467000,468000,469000,470000,471000,472000,473000,474000,475000,476000,477000,478000,479000,480000,481000,482000,483000,484000,485000,486000,487000,488000,489000,490000,491000,492000,493000,494000,495000,496000,497000,498000,499000,500000,501000,502000,503000,504000,505000,506000,507000,508000,509000,510000,511000,512000,513000,514000,515000,516000,517000,518000,519000,520000,521000,522000,523000,524000,525000,526000,527000,528000,529000,530000,531000,532000,533000,534000,535000,536000,537000,538000,539000,540000,541000,542000,543000,544000,545000,546000,547000,548000,549000,550000,551000,552000,553000,554000,555000,556000,557000,558000,559000,560000,561000,562000,563000,564000,565000,566000,567000,568000,569000,570000,571000,572000,573000,574000,575000,576000,577000,578000,579000,580000,581000,582000,583000,584000,585000,586000,587000,588000,589000,590000,591000,592000,593000,594000,595000,596000,597000,598000,599000,600000,600000,599000,598000,597000,596000,595000,594000,593000,592000,591000,590000,589000,588000,587000,586000,585000,584000,583000,582000,581000,580000,579000,578000,577000,576000,575000,574000,573000,572000,571000,570000,569000,568000,567000,566000,565000,564000,563000,562000,561000,560000,559000,558000,557000,556000,555000,554000,553000,552000,551000,550000,549000,548000,547000,546000,545000,544000,543000,542000,541000,540000,539000,538000,537000,536000,535000,534000,533000,532000,531000,530000,529000,528000,527000,526000,525000,524000,523000,522000,521000,520000,519000,518000,517000,516000,515000,514000,513000,512000,511000,510000,509000,508000,507000,506000,505000,504000,503000,502000,501000,500000,499000,498000,497000,496000,495000,494000,493000,492000,491000,490000,489000,488000,487000,486000,485000,484000,483000,482000,481000,480000,479000,478000,477000,476000,475000,474000,473000,472000,471000,470000,469000,468000,467000,466000,465000,464000,463000,462000,461000,460000,459000,458000,457000,456000,455000,454000,453000,452000,451000,450000,449000,448000,447000,446000,445000,444000,443000,442000,441000,440000,439000,438000,437000,436000,435000,434000,433000,432000,431000,430000,429000,428000,427000,426000,425000,424000,423000,422000,421000,420000,419000,418000,417000,416000,415000,414000,413000,412000,411000,410000,409000,408000,407000,406000,405000,404000,403000,402000,401000,400000,399000,398000,397000,396000,395000,394000,393000,392000,391000,390000,389000,388000,387000,386000,385000,384000,383000,382000,381000,380000,379000,378000,377000,376000,375000,374000,373000,372000,371000,370000,369000,368000,367000,366000,365000,364000,363000,362000,361000,360000,359000,358000,357000,356000,355000,354000,353000,352000,351000,350000,349000,348000,347000,346000,345000,344000,343000,342000,341000,340000,339000,338000,337000,336000,335000,334000,333000,332000,331000,330000,329000,328000,327000,326000,325000,324000,323000,322000,321000,320000,319000,318000,317000,316000,315000,314000,313000,312000,311000,310000,309000,308000,307000,306000,305000,304000,303000,302000,301000,300000,299000,298000,297000,296000,295000,294000,293000,292000,291000,290000,289000,288000,287000,286000,285000,284000,283000,282000,281000,280000,279000,278000,277000,276000,275000,274000,273000,272000,271000,270000,269000,268000,267000,266000,265000,264000,263000,262000,261000,260000,259000,258000,257000,256000,255000,254000,253000,252000,251000,250000,249000,248000,247000,246000,245000,244000,243000,242000,241000,240000,239000,238000,237000,236000,235000,234000,233000,232000,231000,230000,229000,228000,227000,226000,225000,224000,223000,222000,221000,220000,219000,218000,217000,216000,215000,214000,213000,212000,211000,210000,209000,208000,207000,206000,205000,204000,203000,202000,201000,200000,199000,198000,197000,196000,195000,194000,193000,192000,191000,190000,189000,188000,187000,186000,185000,184000,183000,182000,181000,180000,179000,178000,177000,176000,175000,174000,173000,172000,171000,170000,169000,168000,167000,166000,165000,164000,163000,162000,161000,160000,159000,158000,157000,156000,155000,154000,153000,152000,151000,150000,149000,148000,147000,146000,145000,144000,143000,142000,141000,140000,139000,138000,137000,136000,135000,134000,133000,132000,131000,130000,129000,128000,127000,126000,125000,124000,123000,122000,121000,120000,119000,118000,117000,116000,115000,114000,113000,112000,111000,110000,109000,108000,107000,106000,105000,104000,103000,102000,101000,100000,99000,98000,97000,96000,95000,94000,93000,92000,91000,90000,89000,88000,87000,86000,85000,84000,83000,82000,81000,80000,79000,78000,77000,76000,75000,74000,73000,72000,71000,70000,69000,68000,67000,66000,65000,64000,63000,62000,61000,60000,59000,58000,57000,56000,55000,54000,53000,52000,51000,50000,49000,48000,47000,46000,45000,44000,43000,42000,41000,40000,39000,38000,37000,36000,35000,34000,33000,32000,31000,30000,29000,28000,27000,26000,25000,24000,23000,22000,21000,20000,19000,18000,17000,16000,15000,14000,13000,12000,11000,10000,9000,8000,7000,6000,5000,4000,3000,2000,1000,0],\"y\":[1,83,102,129,160,214,215,215,215,215,215,215,216,258,258,313,314,314,315,315,315,315,315,315,315,315,315,315,315,315,315,315,316,316,316,316,317,317,317,317,317,317,317,317,317,317,317,317,317,317,317,317,317,317,317,317,317,317,317,317,318,318,318,318,318,318,318,318,318,318,318,318,318,318,318,318,318,318,318,318,318,318,318,318,318,318,318,340,395,395,396,396,396,396,396,396,396,396,396,396,396,396,396,396,396,396,396,396,396,396,396,396,396,396,396,396,396,396,396,396,396,396,396,396,396,396,397,397,397,397,397,397,397,397,397,397,397,397,397,397,397,397,397,397,397,397,397,397,397,397,397,397,397,397,397,397,397,397,397,397,397,397,397,397,397,423,443,443,444,444,444,444,444,444,444,444,444,444,444,444,444,444,444,444,444,444,444,444,444,444,444,444,444,444,444,444,444,444,444,444,444,444,444,444,444,444,444,444,444,444,444,444,444,444,444,444,445,445,445,445,445,445,445,445,445,445,445,445,445,445,445,445,445,445,445,445,445,445,445,445,445,445,445,445,445,445,445,445,445,445,445,445,445,445,445,445,445,445,445,445,445,445,445,445,445,445,445,445,445,445,446,446,446,446,446,446,446,446,446,446,446,446,446,446,446,446,446,446,446,446,446,446,446,446,446,446,446,446,446,446,446,446,446,446,446,446,446,446,446,446,446,446,446,446,446,446,446,446,446,446,446,446,446,446,446,446,446,446,446,446,447,447,447,447,447,447,447,447,447,447,447,447,447,447,447,447,447,447,447,447,447,447,447,447,447,447,447,447,447,447,447,447,447,447,447,447,447,447,447,447,447,447,447,447,447,447,447,447,447,447,447,447,447,447,447,447,447,447,447,447,447,447,447,447,447,447,448,448,448,448,448,448,448,448,448,448,448,448,448,448,448,448,448,448,448,448,448,448,448,448,448,448,448,448,448,448,448,448,448,448,448,448,448,448,448,448,448,448,448,448,448,448,448,448,448,448,448,448,448,448,448,448,448,448,448,448,448,448,448,448,448,448,448,448,448,448,448,448,449,449,449,449,449,449,449,449,449,449,449,449,449,449,449,449,449,449,449,449,449,449,449,449,449,449,449,449,449,449,449,449,449,449,449,449,449,449,449,449,449,449,449,449,449,449,449,449,449,449,449,449,449,449,449,449,449,449,449,449,449,449,449,449,449,449,449,449,449,449,449,449,449,449,449,449,449,449,450,450,450,450,450,450,450,450,450,450,450,450,450,450,450,450,450,450,450,450,450,450,450,450,450,450,450,450,450,450,450,450,450,450,450,450,450,450,450,450,450,450,450,450,450,450,450,450,450,450,450,450,450,450,2042,2042,2042,2042,2042,2042,2042,2042,2042,2042,2042,2042,2042,2042,2042,2042,2042,2042,2042,2042,2042,2042,2042,2042,2042,2042,2042,2042,2042,2042,2042,2042,2042,2042,2042,2042,2042,2042,2042,2042,2042,2042,2042,2042,2042,2042,2042,2042,2042,2042,2042,2042,2042,2042,1970,1940,1939,1934,1891,1887,1887,1887,1887,1887,1887,1887,1887,1887,1887,1887,1887,1887,1887,1887,1887,1887,1887,1887,1887,1887,1887,1887,1887,1887,1887,1887,1887,1887,1887,1887,1887,1887,1887,1887,1887,1887,1887,1887,1887,1887,1887,1887,1887,1887,1887,1887,1887,1887,1887,1887,1887,1887,1887,1887,1887,1887,1887,1887,1887,1887,1887,1887,1887,1887,1887,1887,1887,1887,1887,1887,1887,1887,1872,1837,1829,1829,1816,1795,1795,1795,1795,1795,1795,1795,1795,1795,1795,1795,1795,1795,1795,1795,1795,1795,1795,1795,1795,1795,1795,1795,1795,1795,1795,1795,1795,1795,1795,1795,1795,1795,1795,1795,1795,1795,1795,1795,1795,1795,1795,1795,1795,1795,1795,1795,1795,1795,1795,1795,1795,1795,1795,1795,1795,1795,1795,1795,1795,1795,1795,1795,1795,1795,1795,1795,1793,1777,1776,1744,1597,1573,1573,1573,1573,1573,1573,1573,1573,1573,1573,1573,1573,1573,1573,1573,1573,1573,1573,1573,1573,1573,1573,1573,1573,1573,1573,1573,1573,1573,1573,1573,1573,1573,1573,1573,1573,1573,1573,1573,1573,1573,1573,1573,1573,1573,1573,1573,1573,1573,1573,1573,1573,1573,1573,1573,1573,1573,1573,1573,1573,1573,1549,1545,1545,1545,1542,1542,1542,1542,1542,1542,1542,1542,1542,1542,1542,1542,1542,1542,1542,1542,1542,1542,1542,1542,1542,1542,1542,1542,1542,1542,1542,1542,1542,1542,1542,1542,1542,1542,1542,1542,1542,1542,1542,1542,1542,1542,1542,1542,1542,1542,1542,1542,1542,1542,1542,1542,1542,1542,1542,1542,1541,1528,1528,1473,1473,1386,1386,1386,1386,1386,1386,1386,1386,1386,1386,1386,1386,1386,1386,1386,1386,1386,1386,1386,1386,1386,1386,1386,1386,1386,1386,1386,1386,1386,1386,1386,1386,1386,1386,1386,1386,1386,1386,1386,1386,1386,1386,1386,1386,1386,1386,1386,1386,1386,1383,1383,1354,1335,1300,1292,1292,1292,1292,1292,1292,1292,1292,1292,1292,1292,1292,1292,1292,1292,1292,1292,1292,1292,1292,1292,1292,1292,1292,1292,1292,1292,1292,1292,1292,1292,1292,1292,1292,1292,1292,1292,1292,1292,1292,1292,1292,1292,1284,1284,1283,1216,1207,1196,1196,1196,1196,1196,1196,1196,1196,1196,1196,1196,1196,1196,1196,1196,1196,1196,1196,1196,1196,1196,1196,1196,1196,1196,1196,1196,1196,1196,1196,1196,1196,1196,1196,1196,1196,1196,1193,1191,1188,1185,1184,1181,1181,1181,1181,1181,1181,1181,1181,1181,1181,1181,1181,1181,1181,1181,1181,1181,1181,1181,1181,1181,1181,1181,1181,1181,1181,1181,1181,1181,1181,1181,1171,1171,1163,1161,1144,1089,1088,1088,1088,1088,1088,1088,1088,1088,1088,1088,1088,1088,1088,1088,1088,1088,1088,1088,1088,1088,1088,1088,1088,1088,1070,1068,1055,1050,1006,964,964,964,964,964,964,964,964,964,964,964,964,964,964,964,964,964,964,964,885,844,822,756,687,608,604,604,604,604,604,604,604,604,604,604,604,604,549,549,508,467,466,377,377,377,377,377,377,377,351,292,269,226,156,1]}},\"id\":\"913f5cf4-2573-43b3-b5b9-3fe7605185a3\",\"type\":\"ColumnDataSource\"},{\"attributes\":{\"data_source\":{\"id\":\"d2002a51-fe7d-4f82-8cfb-94664a4775fd\",\"type\":\"ColumnDataSource\"},\"glyph\":{\"id\":\"a7450bb2-244d-4d12-83ad-605065f5a86d\",\"type\":\"Line\"},\"hover_glyph\":null,\"nonselection_glyph\":{\"id\":\"f563a45a-5d2b-4e16-9c52-09349f188834\",\"type\":\"Line\"},\"selection_glyph\":null},\"id\":\"2f1751fe-03c8-4016-98cb-f2a9ac940aca\",\"type\":\"GlyphRenderer\"},{\"attributes\":{\"callback\":null,\"column_names\":[\"x\",\"y\"],\"data\":{\"x\":[0,1000,2000,3000,4000,5000,6000,7000,8000,9000,10000,11000,12000,13000,14000,15000,16000,17000,18000,19000,20000,21000,22000,23000,24000,25000,26000,27000,28000,29000,30000,31000,32000,33000,34000,35000,36000,37000,38000,39000,40000,41000,42000,43000,44000,45000,46000,47000,48000,49000,50000,51000,52000,53000,54000,55000,56000,57000,58000,59000,60000,61000,62000,63000,64000,65000,66000,67000,68000,69000,70000,71000,72000,73000,74000,75000,76000,77000,78000,79000,80000,81000,82000,83000,84000,85000,86000,87000,88000,89000,90000,91000,92000,93000,94000,95000,96000,97000,98000,99000,100000,101000,102000,103000,104000,105000,106000,107000,108000,109000,110000,111000,112000,113000,114000,115000,116000,117000,118000,119000,120000,121000,122000,123000,124000,125000,126000,127000,128000,129000,130000,131000,132000,133000,134000,135000,136000,137000,138000,139000,140000,141000,142000,143000,144000,145000,146000,147000,148000,149000,150000,151000,152000,153000,154000,155000,156000,157000,158000,159000,160000,161000,162000,163000,164000,165000,166000,167000,168000,169000,170000,171000,172000,173000,174000,175000,176000,177000,178000,179000,180000,181000,182000,183000,184000,185000,186000,187000,188000,189000,190000,191000,192000,193000,194000,195000,196000,197000,198000,199000,200000,201000,202000,203000,204000,205000,206000,207000,208000,209000,210000,211000,212000,213000,214000,215000,216000,217000,218000,219000,220000,221000,222000,223000,224000,225000,226000,227000,228000,229000,230000,231000,232000,233000,234000,235000,236000,237000,238000,239000,240000,241000,242000,243000,244000,245000,246000,247000,248000,249000,250000,251000,252000,253000,254000,255000,256000,257000,258000,259000,260000,261000,262000,263000,264000,265000,266000,267000,268000,269000,270000,271000,272000,273000,274000,275000,276000,277000,278000,279000,280000,281000,282000,283000,284000,285000,286000,287000,288000,289000,290000,291000,292000,293000,294000,295000,296000,297000,298000,299000,300000,301000,302000,303000,304000,305000,306000,307000,308000,309000,310000,311000,312000,313000,314000,315000,316000,317000,318000,319000,320000,321000,322000,323000,324000,325000,326000,327000,328000,329000,330000,331000,332000,333000,334000,335000,336000,337000,338000,339000,340000,341000,342000,343000,344000,345000,346000,347000,348000,349000,350000,351000,352000,353000,354000,355000,356000,357000,358000,359000,360000,361000,362000,363000,364000,365000,366000,367000,368000,369000,370000,371000,372000,373000,374000,375000,376000,377000,378000,379000,380000,381000,382000,383000,384000,385000,386000,387000,388000,389000,390000,391000,392000,393000,394000,395000,396000,397000,398000,399000,400000,401000,402000,403000,404000,405000,406000,407000,408000,409000,410000,411000,412000,413000,414000,415000,416000,417000,418000,419000,420000,421000,422000,423000,424000,425000,426000,427000,428000,429000,430000,431000,432000,433000,434000,435000,436000,437000,438000,439000,440000,441000,442000,443000,444000,445000,446000,447000,448000,449000,450000,451000,452000,453000,454000,455000,456000,457000,458000,459000,460000,461000,462000,463000,464000,465000,466000,467000,468000,469000,470000,471000,472000,473000,474000,475000,476000,477000,478000,479000,480000,481000,482000,483000,484000,485000,486000,487000,488000,489000,490000,491000,492000,493000,494000,495000,496000,497000,498000,499000,500000,501000,502000,503000,504000,505000,506000,507000,508000,509000,510000,511000,512000,513000,514000,515000,516000,517000,518000,519000,520000,521000,522000,523000,524000,525000,526000,527000,528000,529000,530000,531000,532000,533000,534000,535000,536000,537000,538000,539000,540000,541000,542000,543000,544000,545000,546000,547000,548000,549000,550000,551000,552000,553000,554000,555000,556000,557000,558000,559000,560000,561000,562000,563000,564000,565000,566000,567000,568000,569000,570000,571000,572000,573000,574000,575000,576000,577000,578000,579000,580000,581000,582000,583000,584000,585000,586000,587000,588000,589000,590000,591000,592000,593000,594000,595000,596000,597000,598000,599000,600000,600000,599000,598000,597000,596000,595000,594000,593000,592000,591000,590000,589000,588000,587000,586000,585000,584000,583000,582000,581000,580000,579000,578000,577000,576000,575000,574000,573000,572000,571000,570000,569000,568000,567000,566000,565000,564000,563000,562000,561000,560000,559000,558000,557000,556000,555000,554000,553000,552000,551000,550000,549000,548000,547000,546000,545000,544000,543000,542000,541000,540000,539000,538000,537000,536000,535000,534000,533000,532000,531000,530000,529000,528000,527000,526000,525000,524000,523000,522000,521000,520000,519000,518000,517000,516000,515000,514000,513000,512000,511000,510000,509000,508000,507000,506000,505000,504000,503000,502000,501000,500000,499000,498000,497000,496000,495000,494000,493000,492000,491000,490000,489000,488000,487000,486000,485000,484000,483000,482000,481000,480000,479000,478000,477000,476000,475000,474000,473000,472000,471000,470000,469000,468000,467000,466000,465000,464000,463000,462000,461000,460000,459000,458000,457000,456000,455000,454000,453000,452000,451000,450000,449000,448000,447000,446000,445000,444000,443000,442000,441000,440000,439000,438000,437000,436000,435000,434000,433000,432000,431000,430000,429000,428000,427000,426000,425000,424000,423000,422000,421000,420000,419000,418000,417000,416000,415000,414000,413000,412000,411000,410000,409000,408000,407000,406000,405000,404000,403000,402000,401000,400000,399000,398000,397000,396000,395000,394000,393000,392000,391000,390000,389000,388000,387000,386000,385000,384000,383000,382000,381000,380000,379000,378000,377000,376000,375000,374000,373000,372000,371000,370000,369000,368000,367000,366000,365000,364000,363000,362000,361000,360000,359000,358000,357000,356000,355000,354000,353000,352000,351000,350000,349000,348000,347000,346000,345000,344000,343000,342000,341000,340000,339000,338000,337000,336000,335000,334000,333000,332000,331000,330000,329000,328000,327000,326000,325000,324000,323000,322000,321000,320000,319000,318000,317000,316000,315000,314000,313000,312000,311000,310000,309000,308000,307000,306000,305000,304000,303000,302000,301000,300000,299000,298000,297000,296000,295000,294000,293000,292000,291000,290000,289000,288000,287000,286000,285000,284000,283000,282000,281000,280000,279000,278000,277000,276000,275000,274000,273000,272000,271000,270000,269000,268000,267000,266000,265000,264000,263000,262000,261000,260000,259000,258000,257000,256000,255000,254000,253000,252000,251000,250000,249000,248000,247000,246000,245000,244000,243000,242000,241000,240000,239000,238000,237000,236000,235000,234000,233000,232000,231000,230000,229000,228000,227000,226000,225000,224000,223000,222000,221000,220000,219000,218000,217000,216000,215000,214000,213000,212000,211000,210000,209000,208000,207000,206000,205000,204000,203000,202000,201000,200000,199000,198000,197000,196000,195000,194000,193000,192000,191000,190000,189000,188000,187000,186000,185000,184000,183000,182000,181000,180000,179000,178000,177000,176000,175000,174000,173000,172000,171000,170000,169000,168000,167000,166000,165000,164000,163000,162000,161000,160000,159000,158000,157000,156000,155000,154000,153000,152000,151000,150000,149000,148000,147000,146000,145000,144000,143000,142000,141000,140000,139000,138000,137000,136000,135000,134000,133000,132000,131000,130000,129000,128000,127000,126000,125000,124000,123000,122000,121000,120000,119000,118000,117000,116000,115000,114000,113000,112000,111000,110000,109000,108000,107000,106000,105000,104000,103000,102000,101000,100000,99000,98000,97000,96000,95000,94000,93000,92000,91000,90000,89000,88000,87000,86000,85000,84000,83000,82000,81000,80000,79000,78000,77000,76000,75000,74000,73000,72000,71000,70000,69000,68000,67000,66000,65000,64000,63000,62000,61000,60000,59000,58000,57000,56000,55000,54000,53000,52000,51000,50000,49000,48000,47000,46000,45000,44000,43000,42000,41000,40000,39000,38000,37000,36000,35000,34000,33000,32000,31000,30000,29000,28000,27000,26000,25000,24000,23000,22000,21000,20000,19000,18000,17000,16000,15000,14000,13000,12000,11000,10000,9000,8000,7000,6000,5000,4000,3000,2000,1000,0],\"y\":[1,67,90,111,147,147,148,148,148,148,148,148,148,188,188,188,188,188,189,189,189,189,189,189,189,189,189,189,189,189,189,192,192,192,197,197,198,198,198,198,198,198,198,198,198,198,198,198,198,198,198,198,198,198,198,199,199,199,199,199,200,200,200,200,200,200,200,200,200,200,200,200,200,200,200,200,200,200,200,200,200,200,200,200,200,200,200,200,200,200,201,201,201,201,201,201,201,201,201,201,201,201,201,201,201,201,201,201,201,201,201,201,201,201,201,201,201,201,201,201,201,201,201,201,201,201,202,202,202,202,202,202,202,202,202,202,202,202,202,202,202,202,202,202,202,202,202,202,202,202,202,202,202,202,202,202,202,202,202,202,202,202,202,202,202,202,202,202,203,203,203,203,203,203,203,203,203,203,203,203,203,203,203,203,203,203,203,203,203,203,203,203,203,203,203,203,203,203,203,203,203,203,203,203,203,203,203,203,203,203,203,203,203,203,203,203,204,204,204,204,204,204,204,204,204,204,204,204,204,204,204,204,204,204,204,204,204,204,204,204,204,204,204,204,204,204,204,204,204,204,204,204,204,204,204,204,204,204,204,204,204,204,204,204,204,204,204,204,204,204,205,205,205,205,205,205,205,205,205,205,205,205,205,205,205,205,205,205,205,205,205,205,205,205,205,205,205,205,205,205,205,205,205,205,205,205,205,205,205,205,205,205,205,205,205,205,205,205,205,205,205,205,205,205,205,241,241,241,241,241,242,242,242,242,242,242,242,242,242,242,242,242,242,242,242,242,242,242,242,242,242,242,242,242,242,242,242,242,242,242,242,242,242,242,242,242,242,242,242,242,242,242,242,242,242,242,242,242,242,242,242,242,242,242,242,242,242,242,242,242,242,242,242,242,242,242,243,243,243,243,243,243,243,243,243,243,243,243,243,243,243,243,243,243,243,243,243,243,243,243,243,243,243,243,243,243,243,243,243,243,243,243,243,243,243,243,243,243,243,243,243,243,243,243,243,243,243,243,243,243,243,243,243,243,243,243,243,243,243,243,243,243,243,243,243,243,243,243,244,244,244,244,244,244,244,244,244,244,244,244,244,244,244,244,244,244,244,244,244,244,244,244,244,244,244,244,244,244,244,244,244,244,244,244,244,244,244,244,244,244,244,244,244,244,244,244,244,244,244,244,244,244,244,244,244,244,244,244,244,244,244,244,244,244,244,244,244,244,244,244,244,244,244,244,244,244,245,245,245,245,245,245,245,245,245,245,245,245,245,245,245,245,245,245,245,245,245,245,245,245,245,245,245,245,245,245,245,245,245,245,245,245,245,245,245,245,245,245,245,245,245,245,245,245,245,245,245,245,245,245,1503,1503,1503,1503,1503,1503,1503,1503,1503,1503,1503,1503,1503,1503,1503,1503,1503,1503,1503,1503,1503,1503,1503,1503,1503,1503,1503,1503,1503,1503,1503,1503,1503,1503,1503,1503,1503,1503,1503,1503,1503,1503,1503,1503,1503,1503,1503,1503,1503,1503,1503,1503,1503,1503,1502,1502,1502,1502,1502,1502,1502,1502,1502,1502,1502,1502,1502,1502,1502,1502,1502,1502,1502,1502,1502,1502,1502,1502,1502,1502,1502,1502,1502,1502,1502,1502,1502,1502,1502,1502,1502,1502,1502,1502,1502,1502,1502,1502,1502,1502,1502,1502,1502,1502,1502,1502,1502,1502,1502,1502,1502,1502,1502,1502,1502,1502,1502,1502,1502,1502,1502,1502,1502,1502,1502,1502,1502,1502,1502,1502,1502,1502,1501,1494,1469,1462,1423,1423,1423,1423,1423,1423,1423,1423,1423,1423,1423,1423,1423,1423,1423,1423,1423,1423,1423,1423,1423,1423,1423,1423,1423,1423,1423,1423,1423,1423,1423,1423,1423,1423,1423,1423,1423,1423,1423,1423,1423,1423,1423,1423,1423,1423,1423,1423,1423,1423,1423,1423,1423,1423,1423,1423,1423,1423,1423,1423,1423,1423,1423,1423,1423,1423,1423,1423,1381,1369,1369,1363,1354,1353,1353,1353,1353,1353,1353,1353,1353,1353,1353,1353,1353,1353,1353,1353,1353,1353,1353,1353,1353,1353,1353,1353,1353,1353,1353,1353,1353,1353,1353,1353,1353,1353,1353,1353,1353,1353,1353,1353,1353,1353,1353,1353,1353,1353,1353,1353,1353,1353,1353,1353,1353,1353,1353,1353,1353,1353,1353,1353,1353,1353,1351,1351,1351,1351,1351,1351,1351,1351,1351,1351,1351,1351,1351,1351,1351,1351,1351,1351,1351,1351,1351,1351,1351,1351,1351,1351,1351,1351,1351,1351,1351,1351,1351,1351,1351,1351,1351,1351,1351,1351,1351,1351,1351,1351,1351,1351,1351,1351,1351,1351,1351,1351,1351,1351,1351,1351,1351,1351,1351,1351,1350,1349,1348,1348,1348,1345,1345,1345,1345,1345,1345,1345,1345,1345,1345,1345,1345,1345,1345,1345,1345,1345,1345,1345,1345,1345,1345,1345,1345,1345,1345,1345,1345,1345,1345,1345,1345,1345,1345,1345,1345,1345,1345,1345,1345,1345,1345,1345,1345,1345,1345,1345,1345,1345,1320,1300,1228,1206,1143,980,978,978,978,978,978,978,978,978,978,978,978,978,978,978,978,978,978,978,978,978,978,978,978,978,978,978,978,978,978,978,978,978,978,978,978,978,978,978,978,978,978,978,977,977,977,977,977,977,977,977,977,977,977,977,977,977,977,977,977,977,977,977,977,977,977,977,977,977,977,977,977,977,977,977,977,977,977,977,977,977,977,977,977,977,976,976,976,976,976,976,976,976,976,976,976,976,976,976,976,976,976,976,976,976,976,976,976,976,976,976,976,976,976,976,976,976,976,976,976,976,975,975,975,975,975,972,972,972,972,972,972,972,972,972,972,972,972,972,972,972,972,972,972,972,972,972,972,972,972,972,956,828,794,790,788,788,788,788,788,788,788,788,788,788,788,788,788,788,788,788,788,788,788,788,787,787,777,776,770,664,662,662,662,662,662,662,662,662,662,662,662,662,627,616,585,518,499,479,479,479,479,479,479,479,418,304,239,217,164,1]}},\"id\":\"737fb367-c732-4b4c-b208-5011c42de99e\",\"type\":\"ColumnDataSource\"},{\"attributes\":{\"fill_alpha\":{\"value\":0.1},\"fill_color\":{\"value\":\"#e41a1c\"},\"line_alpha\":{\"value\":0.1},\"line_color\":{\"value\":\"#e41a1c\"},\"x\":{\"field\":\"x\"},\"y\":{\"field\":\"y\"}},\"id\":\"4fecbd98-409d-4c86-b502-74b0320bb12c\",\"type\":\"Patch\"},{\"attributes\":{\"data_source\":{\"id\":\"9c6d0f3e-1011-453b-a763-12a8f2047c10\",\"type\":\"ColumnDataSource\"},\"glyph\":{\"id\":\"654a1165-9438-4e38-b802-422f275bfa0d\",\"type\":\"Patch\"},\"hover_glyph\":null,\"nonselection_glyph\":{\"id\":\"0c4eebe1-da05-4432-ab13-c600af1fc10d\",\"type\":\"Patch\"},\"selection_glyph\":null},\"id\":\"8374d7bb-36d2-4053-a3bd-ffdbfbb75a8b\",\"type\":\"GlyphRenderer\"},{\"attributes\":{},\"id\":\"308f1223-473c-4133-bcfc-a5b488a97860\",\"type\":\"BasicTicker\"},{\"attributes\":{\"fill_alpha\":{\"value\":0.1},\"fill_color\":{\"value\":\"#1f77b4\"},\"line_alpha\":{\"value\":0.1},\"line_color\":{\"value\":\"#1f77b4\"},\"x\":{\"field\":\"x\"},\"y\":{\"field\":\"y\"}},\"id\":\"0c4eebe1-da05-4432-ab13-c600af1fc10d\",\"type\":\"Patch\"},{\"attributes\":{\"fill_alpha\":{\"value\":0.1},\"fill_color\":{\"value\":\"#4daf4a\"},\"line_alpha\":{\"value\":0.1},\"line_color\":{\"value\":\"#4daf4a\"},\"x\":{\"field\":\"x\"},\"y\":{\"field\":\"y\"}},\"id\":\"654a1165-9438-4e38-b802-422f275bfa0d\",\"type\":\"Patch\"},{\"attributes\":{\"line_alpha\":{\"value\":0.1},\"line_color\":{\"value\":\"#1f77b4\"},\"line_width\":{\"value\":2},\"x\":{\"field\":\"x\"},\"y\":{\"field\":\"y\"}},\"id\":\"b2649531-c17e-46c7-bb68-27c6554fade5\",\"type\":\"Line\"},{\"attributes\":{\"axis_label\":\"T\",\"formatter\":{\"id\":\"74b3cd2c-6124-42f8-8efd-6a55f69dde2d\",\"type\":\"BasicTickFormatter\"},\"plot\":{\"id\":\"6df2ed87-9057-4743-bad0-1d190d41183e\",\"subtype\":\"Figure\",\"type\":\"Plot\"},\"ticker\":{\"id\":\"486b8933-1d7a-4fac-8fb9-61d66aae2635\",\"type\":\"BasicTicker\"}},\"id\":\"99da8022-ba50-4ed5-b58f-ed19c4996bfa\",\"type\":\"LinearAxis\"},{\"attributes\":{\"data_source\":{\"id\":\"8323ff51-efb0-4af1-b023-089f4646e066\",\"type\":\"ColumnDataSource\"},\"glyph\":{\"id\":\"b65bcdf2-ed57-4717-bfe4-15ad006a51a6\",\"type\":\"Line\"},\"hover_glyph\":null,\"nonselection_glyph\":{\"id\":\"b2649531-c17e-46c7-bb68-27c6554fade5\",\"type\":\"Line\"},\"selection_glyph\":null},\"id\":\"fb0f9ccc-0785-452a-b26f-dbf125fdab82\",\"type\":\"GlyphRenderer\"},{\"attributes\":{\"callback\":null},\"id\":\"78fb7701-ed35-4849-b5f7-1cf51d8f064d\",\"type\":\"DataRange1d\"},{\"attributes\":{\"callback\":null,\"column_names\":[\"x\",\"y\"],\"data\":{\"x\":[0,1000,2000,3000,4000,5000,6000,7000,8000,9000,10000,11000,12000,13000,14000,15000,16000,17000,18000,19000,20000,21000,22000,23000,24000,25000,26000,27000,28000,29000,30000,31000,32000,33000,34000,35000,36000,37000,38000,39000,40000,41000,42000,43000,44000,45000,46000,47000,48000,49000,50000,51000,52000,53000,54000,55000,56000,57000,58000,59000,60000,61000,62000,63000,64000,65000,66000,67000,68000,69000,70000,71000,72000,73000,74000,75000,76000,77000,78000,79000,80000,81000,82000,83000,84000,85000,86000,87000,88000,89000,90000,91000,92000,93000,94000,95000,96000,97000,98000,99000,100000,101000,102000,103000,104000,105000,106000,107000,108000,109000,110000,111000,112000,113000,114000,115000,116000,117000,118000,119000,120000,121000,122000,123000,124000,125000,126000,127000,128000,129000,130000,131000,132000,133000,134000,135000,136000,137000,138000,139000,140000,141000,142000,143000,144000,145000,146000,147000,148000,149000,150000,151000,152000,153000,154000,155000,156000,157000,158000,159000,160000,161000,162000,163000,164000,165000,166000,167000,168000,169000,170000,171000,172000,173000,174000,175000,176000,177000,178000,179000,180000,181000,182000,183000,184000,185000,186000,187000,188000,189000,190000,191000,192000,193000,194000,195000,196000,197000,198000,199000,200000,201000,202000,203000,204000,205000,206000,207000,208000,209000,210000,211000,212000,213000,214000,215000,216000,217000,218000,219000,220000,221000,222000,223000,224000,225000,226000,227000,228000,229000,230000,231000,232000,233000,234000,235000,236000,237000,238000,239000,240000,241000,242000,243000,244000,245000,246000,247000,248000,249000,250000,251000,252000,253000,254000,255000,256000,257000,258000,259000,260000,261000,262000,263000,264000,265000,266000,267000,268000,269000,270000,271000,272000,273000,274000,275000,276000,277000,278000,279000,280000,281000,282000,283000,284000,285000,286000,287000,288000,289000,290000,291000,292000,293000,294000,295000,296000,297000,298000,299000,300000,301000,302000,303000,304000,305000,306000,307000,308000,309000,310000,311000,312000,313000,314000,315000,316000,317000,318000,319000,320000,321000,322000,323000,324000,325000,326000,327000,328000,329000,330000,331000,332000,333000,334000,335000,336000,337000,338000,339000,340000,341000,342000,343000,344000,345000,346000,347000,348000,349000,350000,351000,352000,353000,354000,355000,356000,357000,358000,359000,360000,361000,362000,363000,364000,365000,366000,367000,368000,369000,370000,371000,372000,373000,374000,375000,376000,377000,378000,379000,380000,381000,382000,383000,384000,385000,386000,387000,388000,389000,390000,391000,392000,393000,394000,395000,396000,397000,398000,399000,400000,401000,402000,403000,404000,405000,406000,407000,408000,409000,410000,411000,412000,413000,414000,415000,416000,417000,418000,419000,420000,421000,422000,423000,424000,425000,426000,427000,428000,429000,430000,431000,432000,433000,434000,435000,436000,437000,438000,439000,440000,441000,442000,443000,444000,445000,446000,447000,448000,449000,450000,451000,452000,453000,454000,455000,456000,457000,458000,459000,460000,461000,462000,463000,464000,465000,466000,467000,468000,469000,470000,471000,472000,473000,474000,475000,476000,477000,478000,479000,480000,481000,482000,483000,484000,485000,486000,487000,488000,489000,490000,491000,492000,493000,494000,495000,496000,497000,498000,499000,500000,501000,502000,503000,504000,505000,506000,507000,508000,509000,510000,511000,512000,513000,514000,515000,516000,517000,518000,519000,520000,521000,522000,523000,524000,525000,526000,527000,528000,529000,530000,531000,532000,533000,534000,535000,536000,537000,538000,539000,540000,541000,542000,543000,544000,545000,546000,547000,548000,549000,550000,551000,552000,553000,554000,555000,556000,557000,558000,559000,560000,561000,562000,563000,564000,565000,566000,567000,568000,569000,570000,571000,572000,573000,574000,575000,576000,577000,578000,579000,580000,581000,582000,583000,584000,585000,586000,587000,588000,589000,590000,591000,592000,593000,594000,595000,596000,597000,598000,599000,600000],\"y\":{\"__ndarray__\":\"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\",\"dtype\":\"float64\",\"shape\":[600]}}},\"id\":\"d2002a51-fe7d-4f82-8cfb-94664a4775fd\",\"type\":\"ColumnDataSource\"},{\"attributes\":{\"use_scientific\":false},\"id\":\"74b3cd2c-6124-42f8-8efd-6a55f69dde2d\",\"type\":\"BasicTickFormatter\"},{\"attributes\":{\"callback\":null,\"column_names\":[\"x\",\"y\"],\"data\":{\"x\":[0,1000,2000,3000,4000,5000,6000,7000,8000,9000,10000,11000,12000,13000,14000,15000,16000,17000,18000,19000,20000,21000,22000,23000,24000,25000,26000,27000,28000,29000,30000,31000,32000,33000,34000,35000,36000,37000,38000,39000,40000,41000,42000,43000,44000,45000,46000,47000,48000,49000,50000,51000,52000,53000,54000,55000,56000,57000,58000,59000,60000,61000,62000,63000,64000,65000,66000,67000,68000,69000,70000,71000,72000,73000,74000,75000,76000,77000,78000,79000,80000,81000,82000,83000,84000,85000,86000,87000,88000,89000,90000,91000,92000,93000,94000,95000,96000,97000,98000,99000,100000,101000,102000,103000,104000,105000,106000,107000,108000,109000,110000,111000,112000,113000,114000,115000,116000,117000,118000,119000,120000,121000,122000,123000,124000,125000,126000,127000,128000,129000,130000,131000,132000,133000,134000,135000,136000,137000,138000,139000,140000,141000,142000,143000,144000,145000,146000,147000,148000,149000,150000,151000,152000,153000,154000,155000,156000,157000,158000,159000,160000,161000,162000,163000,164000,165000,166000,167000,168000,169000,170000,171000,172000,173000,174000,175000,176000,177000,178000,179000,180000,181000,182000,183000,184000,185000,186000,187000,188000,189000,190000,191000,192000,193000,194000,195000,196000,197000,198000,199000,200000,201000,202000,203000,204000,205000,206000,207000,208000,209000,210000,211000,212000,213000,214000,215000,216000,217000,218000,219000,220000,221000,222000,223000,224000,225000,226000,227000,228000,229000,230000,231000,232000,233000,234000,235000,236000,237000,238000,239000,240000,241000,242000,243000,244000,245000,246000,247000,248000,249000,250000,251000,252000,253000,254000,255000,256000,257000,258000,259000,260000,261000,262000,263000,264000,265000,266000,267000,268000,269000,270000,271000,272000,273000,274000,275000,276000,277000,278000,279000,280000,281000,282000,283000,284000,285000,286000,287000,288000,289000,290000,291000,292000,293000,294000,295000,296000,297000,298000,299000,300000,301000,302000,303000,304000,305000,306000,307000,308000,309000,310000,311000,312000,313000,314000,315000,316000,317000,318000,319000,320000,321000,322000,323000,324000,325000,326000,327000,328000,329000,330000,331000,332000,333000,334000,335000,336000,337000,338000,339000,340000,341000,342000,343000,344000,345000,346000,347000,348000,349000,350000,351000,352000,353000,354000,355000,356000,357000,358000,359000,360000,361000,362000,363000,364000,365000,366000,367000,368000,369000,370000,371000,372000,373000,374000,375000,376000,377000,378000,379000,380000,381000,382000,383000,384000,385000,386000,387000,388000,389000,390000,391000,392000,393000,394000,395000,396000,397000,398000,399000,400000,401000,402000,403000,404000,405000,406000,407000,408000,409000,410000,411000,412000,413000,414000,415000,416000,417000,418000,419000,420000,421000,422000,423000,424000,425000,426000,427000,428000,429000,430000,431000,432000,433000,434000,435000,436000,437000,438000,439000,440000,441000,442000,443000,444000,445000,446000,447000,448000,449000,450000,451000,452000,453000,454000,455000,456000,457000,458000,459000,460000,461000,462000,463000,464000,465000,466000,467000,468000,469000,470000,471000,472000,473000,474000,475000,476000,477000,478000,479000,480000,481000,482000,483000,484000,485000,486000,487000,488000,489000,490000,491000,492000,493000,494000,495000,496000,497000,498000,499000,500000,501000,502000,503000,504000,505000,506000,507000,508000,509000,510000,511000,512000,513000,514000,515000,516000,517000,518000,519000,520000,521000,522000,523000,524000,525000,526000,527000,528000,529000,530000,531000,532000,533000,534000,535000,536000,537000,538000,539000,540000,541000,542000,543000,544000,545000,546000,547000,548000,549000,550000,551000,552000,553000,554000,555000,556000,557000,558000,559000,560000,561000,562000,563000,564000,565000,566000,567000,568000,569000,570000,571000,572000,573000,574000,575000,576000,577000,578000,579000,580000,581000,582000,583000,584000,585000,586000,587000,588000,589000,590000,591000,592000,593000,594000,595000,596000,597000,598000,599000,600000],\"y\":{\"__ndarray__\":\"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\",\"dtype\":\"float64\",\"shape\":[600]}}},\"id\":\"8323ff51-efb0-4af1-b023-089f4646e066\",\"type\":\"ColumnDataSource\"},{\"attributes\":{\"axis_label\":\"States visited\",\"formatter\":{\"id\":\"8b58fb12-8c32-4c64-b7ac-8f5954ad056e\",\"type\":\"BasicTickFormatter\"},\"plot\":{\"id\":\"6df2ed87-9057-4743-bad0-1d190d41183e\",\"subtype\":\"Figure\",\"type\":\"Plot\"},\"ticker\":{\"id\":\"308f1223-473c-4133-bcfc-a5b488a97860\",\"type\":\"BasicTicker\"}},\"id\":\"3f55ec2a-1173-4258-9e44-766057f2eb38\",\"type\":\"LinearAxis\"},{\"attributes\":{\"fill_alpha\":{\"value\":0.1},\"fill_color\":{\"value\":\"#377eb8\"},\"line_alpha\":{\"value\":0.1},\"line_color\":{\"value\":\"#377eb8\"},\"x\":{\"field\":\"x\"},\"y\":{\"field\":\"y\"}},\"id\":\"45f1108d-acd7-4847-a078-e78e5554e070\",\"type\":\"Patch\"},{\"attributes\":{},\"id\":\"8b58fb12-8c32-4c64-b7ac-8f5954ad056e\",\"type\":\"BasicTickFormatter\"},{\"attributes\":{\"data_source\":{\"id\":\"62ba8066-aa8d-43ab-9134-db3cedc6e037\",\"type\":\"ColumnDataSource\"},\"glyph\":{\"id\":\"4fecbd98-409d-4c86-b502-74b0320bb12c\",\"type\":\"Patch\"},\"hover_glyph\":null,\"nonselection_glyph\":{\"id\":\"20945eab-4748-4901-a389-dbdf9fb5b402\",\"type\":\"Patch\"},\"selection_glyph\":null},\"id\":\"b3854154-430d-4af7-bc54-baa739f51915\",\"type\":\"GlyphRenderer\"},{\"attributes\":{\"active_drag\":\"auto\",\"active_scroll\":\"auto\",\"active_tap\":\"auto\",\"tools\":[{\"id\":\"fddb44c2-36ee-4674-822f-6137195184f2\",\"type\":\"PanTool\"},{\"id\":\"0c123755-5918-4c93-8e4c-0afe880c1bdf\",\"type\":\"WheelZoomTool\"},{\"id\":\"ad74254c-778e-44a9-8338-f173ac6662c5\",\"type\":\"BoxZoomTool\"},{\"id\":\"b2570e0d-0cfd-45e1-991a-4018656bb5a4\",\"type\":\"SaveTool\"},{\"id\":\"588c160f-133f-4d5d-8d5f-33aba193ff77\",\"type\":\"ResetTool\"},{\"id\":\"e846d4aa-60bc-4622-9170-cb4f4eb73e8c\",\"type\":\"HelpTool\"}]},\"id\":\"58004770-60e1-4db3-bc38-dc315fd228c3\",\"type\":\"Toolbar\"},{\"attributes\":{\"plot\":{\"id\":\"6df2ed87-9057-4743-bad0-1d190d41183e\",\"subtype\":\"Figure\",\"type\":\"Plot\"},\"ticker\":{\"id\":\"486b8933-1d7a-4fac-8fb9-61d66aae2635\",\"type\":\"BasicTicker\"}},\"id\":\"d61bed4c-fd48-4f0a-a73e-f15b8e431534\",\"type\":\"Grid\"},{\"attributes\":{\"line_color\":{\"value\":\"#377eb8\"},\"line_width\":{\"value\":2},\"x\":{\"field\":\"x\"},\"y\":{\"field\":\"y\"}},\"id\":\"a7450bb2-244d-4d12-83ad-605065f5a86d\",\"type\":\"Line\"},{\"attributes\":{\"line_alpha\":{\"value\":0.1},\"line_color\":{\"value\":\"#1f77b4\"},\"line_width\":{\"value\":2},\"x\":{\"field\":\"x\"},\"y\":{\"field\":\"y\"}},\"id\":\"f563a45a-5d2b-4e16-9c52-09349f188834\",\"type\":\"Line\"},{\"attributes\":{},\"id\":\"255686ba-7da5-43aa-ba33-f7af2f94cdff\",\"type\":\"ToolEvents\"},{\"attributes\":{\"plot\":{\"id\":\"6df2ed87-9057-4743-bad0-1d190d41183e\",\"subtype\":\"Figure\",\"type\":\"Plot\"}},\"id\":\"588c160f-133f-4d5d-8d5f-33aba193ff77\",\"type\":\"ResetTool\"},{\"attributes\":{\"callback\":null,\"column_names\":[\"x\",\"y\"],\"data\":{\"x\":[0,1000,2000,3000,4000,5000,6000,7000,8000,9000,10000,11000,12000,13000,14000,15000,16000,17000,18000,19000,20000,21000,22000,23000,24000,25000,26000,27000,28000,29000,30000,31000,32000,33000,34000,35000,36000,37000,38000,39000,40000,41000,42000,43000,44000,45000,46000,47000,48000,49000,50000,51000,52000,53000,54000,55000,56000,57000,58000,59000,60000,61000,62000,63000,64000,65000,66000,67000,68000,69000,70000,71000,72000,73000,74000,75000,76000,77000,78000,79000,80000,81000,82000,83000,84000,85000,86000,87000,88000,89000,90000,91000,92000,93000,94000,95000,96000,97000,98000,99000,100000,101000,102000,103000,104000,105000,106000,107000,108000,109000,110000,111000,112000,113000,114000,115000,116000,117000,118000,119000,120000,121000,122000,123000,124000,125000,126000,127000,128000,129000,130000,131000,132000,133000,134000,135000,136000,137000,138000,139000,140000,141000,142000,143000,144000,145000,146000,147000,148000,149000,150000,151000,152000,153000,154000,155000,156000,157000,158000,159000,160000,161000,162000,163000,164000,165000,166000,167000,168000,169000,170000,171000,172000,173000,174000,175000,176000,177000,178000,179000,180000,181000,182000,183000,184000,185000,186000,187000,188000,189000,190000,191000,192000,193000,194000,195000,196000,197000,198000,199000,200000,201000,202000,203000,204000,205000,206000,207000,208000,209000,210000,211000,212000,213000,214000,215000,216000,217000,218000,219000,220000,221000,222000,223000,224000,225000,226000,227000,228000,229000,230000,231000,232000,233000,234000,235000,236000,237000,238000,239000,240000,241000,242000,243000,244000,245000,246000,247000,248000,249000,250000,251000,252000,253000,254000,255000,256000,257000,258000,259000,260000,261000,262000,263000,264000,265000,266000,267000,268000,269000,270000,271000,272000,273000,274000,275000,276000,277000,278000,279000,280000,281000,282000,283000,284000,285000,286000,287000,288000,289000,290000,291000,292000,293000,294000,295000,296000,297000,298000,299000,300000,301000,302000,303000,304000,305000,306000,307000,308000,309000,310000,311000,312000,313000,314000,315000,316000,317000,318000,319000,320000,321000,322000,323000,324000,325000,326000,327000,328000,329000,330000,331000,332000,333000,334000,335000,336000,337000,338000,339000,340000,341000,342000,343000,344000,345000,346000,347000,348000,349000,350000,351000,352000,353000,354000,355000,356000,357000,358000,359000,360000,361000,362000,363000,364000,365000,366000,367000,368000,369000,370000,371000,372000,373000,374000,375000,376000,377000,378000,379000,380000,381000,382000,383000,384000,385000,386000,387000,388000,389000,390000,391000,392000,393000,394000,395000,396000,397000,398000,399000,400000,401000,402000,403000,404000,405000,406000,407000,408000,409000,410000,411000,412000,413000,414000,415000,416000,417000,418000,419000,420000,421000,422000,423000,424000,425000,426000,427000,428000,429000,430000,431000,432000,433000,434000,435000,436000,437000,438000,439000,440000,441000,442000,443000,444000,445000,446000,447000,448000,449000,450000,451000,452000,453000,454000,455000,456000,457000,458000,459000,460000,461000,462000,463000,464000,465000,466000,467000,468000,469000,470000,471000,472000,473000,474000,475000,476000,477000,478000,479000,480000,481000,482000,483000,484000,485000,486000,487000,488000,489000,490000,491000,492000,493000,494000,495000,496000,497000,498000,499000,500000,501000,502000,503000,504000,505000,506000,507000,508000,509000,510000,511000,512000,513000,514000,515000,516000,517000,518000,519000,520000,521000,522000,523000,524000,525000,526000,527000,528000,529000,530000,531000,532000,533000,534000,535000,536000,537000,538000,539000,540000,541000,542000,543000,544000,545000,546000,547000,548000,549000,550000,551000,552000,553000,554000,555000,556000,557000,558000,559000,560000,561000,562000,563000,564000,565000,566000,567000,568000,569000,570000,571000,572000,573000,574000,575000,576000,577000,578000,579000,580000,581000,582000,583000,584000,585000,586000,587000,588000,589000,590000,591000,592000,593000,594000,595000,596000,597000,598000,599000,600000,600000,599000,598000,597000,596000,595000,594000,593000,592000,591000,590000,589000,588000,587000,586000,585000,584000,583000,582000,581000,580000,579000,578000,577000,576000,575000,574000,573000,572000,571000,570000,569000,568000,567000,566000,565000,564000,563000,562000,561000,560000,559000,558000,557000,556000,555000,554000,553000,552000,551000,550000,549000,548000,547000,546000,545000,544000,543000,542000,541000,540000,539000,538000,537000,536000,535000,534000,533000,532000,531000,530000,529000,528000,527000,526000,525000,524000,523000,522000,521000,520000,519000,518000,517000,516000,515000,514000,513000,512000,511000,510000,509000,508000,507000,506000,505000,504000,503000,502000,501000,500000,499000,498000,497000,496000,495000,494000,493000,492000,491000,490000,489000,488000,487000,486000,485000,484000,483000,482000,481000,480000,479000,478000,477000,476000,475000,474000,473000,472000,471000,470000,469000,468000,467000,466000,465000,464000,463000,462000,461000,460000,459000,458000,457000,456000,455000,454000,453000,452000,451000,450000,449000,448000,447000,446000,445000,444000,443000,442000,441000,440000,439000,438000,437000,436000,435000,434000,433000,432000,431000,430000,429000,428000,427000,426000,425000,424000,423000,422000,421000,420000,419000,418000,417000,416000,415000,414000,413000,412000,411000,410000,409000,408000,407000,406000,405000,404000,403000,402000,401000,400000,399000,398000,397000,396000,395000,394000,393000,392000,391000,390000,389000,388000,387000,386000,385000,384000,383000,382000,381000,380000,379000,378000,377000,376000,375000,374000,373000,372000,371000,370000,369000,368000,367000,366000,365000,364000,363000,362000,361000,360000,359000,358000,357000,356000,355000,354000,353000,352000,351000,350000,349000,348000,347000,346000,345000,344000,343000,342000,341000,340000,339000,338000,337000,336000,335000,334000,333000,332000,331000,330000,329000,328000,327000,326000,325000,324000,323000,322000,321000,320000,319000,318000,317000,316000,315000,314000,313000,312000,311000,310000,309000,308000,307000,306000,305000,304000,303000,302000,301000,300000,299000,298000,297000,296000,295000,294000,293000,292000,291000,290000,289000,288000,287000,286000,285000,284000,283000,282000,281000,280000,279000,278000,277000,276000,275000,274000,273000,272000,271000,270000,269000,268000,267000,266000,265000,264000,263000,262000,261000,260000,259000,258000,257000,256000,255000,254000,253000,252000,251000,250000,249000,248000,247000,246000,245000,244000,243000,242000,241000,240000,239000,238000,237000,236000,235000,234000,233000,232000,231000,230000,229000,228000,227000,226000,225000,224000,223000,222000,221000,220000,219000,218000,217000,216000,215000,214000,213000,212000,211000,210000,209000,208000,207000,206000,205000,204000,203000,202000,201000,200000,199000,198000,197000,196000,195000,194000,193000,192000,191000,190000,189000,188000,187000,186000,185000,184000,183000,182000,181000,180000,179000,178000,177000,176000,175000,174000,173000,172000,171000,170000,169000,168000,167000,166000,165000,164000,163000,162000,161000,160000,159000,158000,157000,156000,155000,154000,153000,152000,151000,150000,149000,148000,147000,146000,145000,144000,143000,142000,141000,140000,139000,138000,137000,136000,135000,134000,133000,132000,131000,130000,129000,128000,127000,126000,125000,124000,123000,122000,121000,120000,119000,118000,117000,116000,115000,114000,113000,112000,111000,110000,109000,108000,107000,106000,105000,104000,103000,102000,101000,100000,99000,98000,97000,96000,95000,94000,93000,92000,91000,90000,89000,88000,87000,86000,85000,84000,83000,82000,81000,80000,79000,78000,77000,76000,75000,74000,73000,72000,71000,70000,69000,68000,67000,66000,65000,64000,63000,62000,61000,60000,59000,58000,57000,56000,55000,54000,53000,52000,51000,50000,49000,48000,47000,46000,45000,44000,43000,42000,41000,40000,39000,38000,37000,36000,35000,34000,33000,32000,31000,30000,29000,28000,27000,26000,25000,24000,23000,22000,21000,20000,19000,18000,17000,16000,15000,14000,13000,12000,11000,10000,9000,8000,7000,6000,5000,4000,3000,2000,1000,0],\"y\":[1,96,143,143,151,151,152,152,152,152,152,152,152,218,275,291,321,330,331,331,331,331,331,331,331,331,331,331,331,331,331,419,518,541,567,600,601,601,601,601,601,601,601,601,601,601,601,601,601,601,601,601,601,601,601,601,601,602,606,606,608,608,608,608,608,608,608,608,608,608,608,608,608,608,608,608,608,608,608,608,608,608,608,608,608,608,608,608,608,608,609,609,609,609,609,609,609,609,609,609,609,609,609,609,609,609,609,609,609,609,609,609,609,609,609,609,609,609,609,609,609,609,609,609,609,609,610,610,610,610,610,610,610,610,610,610,610,610,610,610,610,610,610,610,610,610,610,610,610,610,610,610,610,610,610,610,610,610,610,610,610,610,610,610,610,610,610,610,611,611,611,611,611,611,611,611,611,611,611,611,611,611,611,611,611,611,611,611,611,611,611,611,611,611,611,611,611,611,611,611,611,611,611,611,611,611,611,611,611,611,611,611,611,611,611,611,612,612,612,612,612,612,612,612,612,612,612,612,612,612,612,612,612,612,612,612,612,612,612,612,612,612,612,612,612,612,612,612,612,612,612,612,612,612,612,612,612,612,612,612,612,612,612,612,612,612,612,612,612,612,613,613,613,613,613,613,613,613,613,613,613,613,613,613,613,613,613,613,613,613,613,613,613,613,613,613,613,613,613,613,613,613,613,613,613,613,613,613,613,613,613,613,613,613,613,613,613,613,613,613,613,613,613,613,613,613,613,613,642,642,643,643,643,643,643,643,643,643,643,643,643,643,643,643,643,643,643,643,643,643,643,643,643,643,643,643,643,643,643,643,643,643,643,643,643,643,643,643,643,643,643,643,643,643,643,643,643,643,643,643,643,643,643,643,643,643,643,643,643,643,643,643,643,643,643,643,644,644,644,644,644,644,644,644,644,644,644,644,644,644,644,644,644,644,644,644,644,644,644,644,644,644,644,644,644,644,644,644,644,644,644,644,644,644,644,644,644,644,644,644,644,644,644,644,644,644,644,644,644,644,644,644,644,644,644,644,644,644,644,644,644,644,644,644,644,644,651,651,652,652,652,652,652,652,652,652,652,652,652,652,652,652,652,652,652,652,652,652,652,652,652,652,652,652,652,652,652,652,652,652,652,652,652,652,652,652,652,652,652,652,652,652,652,652,652,652,652,652,652,652,652,652,652,652,652,652,652,652,652,652,652,652,652,652,652,652,652,652,652,652,652,653,653,653,653,653,654,654,654,654,654,654,654,654,654,654,654,654,654,654,654,654,654,654,654,654,654,654,654,654,654,654,654,654,654,654,654,654,654,654,654,654,654,654,654,654,654,654,654,654,654,654,654,654,654,654,654,654,654,654,2396,2396,2396,2396,2396,2396,2396,2396,2396,2396,2396,2396,2396,2396,2396,2396,2396,2396,2396,2396,2396,2396,2396,2396,2396,2396,2396,2396,2396,2396,2396,2396,2396,2396,2396,2396,2396,2396,2396,2396,2396,2396,2396,2396,2396,2396,2396,2396,2396,2396,2396,2396,2396,2396,2395,2395,2395,2394,2394,2377,2377,2377,2377,2377,2377,2377,2377,2377,2377,2377,2377,2377,2377,2377,2377,2377,2377,2377,2377,2377,2377,2377,2377,2377,2377,2377,2377,2377,2377,2377,2377,2377,2377,2377,2377,2377,2377,2377,2377,2377,2377,2377,2377,2377,2377,2377,2377,2377,2377,2377,2377,2377,2377,2377,2377,2377,2377,2377,2377,2377,2377,2377,2377,2377,2377,2377,2377,2377,2377,2377,2377,2377,2289,2286,2286,2286,2286,2284,2284,2284,2284,2284,2284,2284,2284,2284,2284,2284,2284,2284,2284,2284,2284,2284,2284,2284,2284,2284,2284,2284,2284,2284,2284,2284,2284,2284,2284,2284,2284,2284,2284,2284,2284,2284,2284,2284,2284,2284,2284,2284,2284,2284,2284,2284,2284,2284,2284,2284,2284,2284,2284,2284,2284,2284,2284,2284,2284,2284,2284,2284,2284,2284,2284,2284,2272,2272,2231,2181,2107,1946,1946,1946,1946,1946,1946,1946,1946,1946,1946,1946,1946,1946,1946,1946,1946,1946,1946,1946,1946,1946,1946,1946,1946,1946,1946,1946,1946,1946,1946,1946,1946,1946,1946,1946,1946,1946,1946,1946,1946,1946,1946,1946,1946,1946,1946,1946,1946,1946,1946,1946,1946,1946,1946,1946,1946,1946,1946,1946,1946,1946,1945,1944,1937,1931,1917,1914,1914,1914,1914,1914,1914,1914,1914,1914,1914,1914,1914,1914,1914,1914,1914,1914,1914,1914,1914,1914,1914,1914,1914,1914,1914,1914,1914,1914,1914,1914,1914,1914,1914,1914,1914,1914,1914,1914,1914,1914,1914,1914,1914,1914,1914,1914,1914,1914,1914,1914,1914,1914,1914,1914,1913,1909,1909,1909,1909,1903,1903,1903,1903,1903,1903,1903,1903,1903,1903,1903,1903,1903,1903,1903,1903,1903,1903,1903,1903,1903,1903,1903,1903,1903,1903,1903,1903,1903,1903,1903,1903,1903,1903,1903,1903,1903,1903,1903,1903,1903,1903,1903,1903,1903,1903,1903,1903,1903,1880,1789,1770,1770,1770,1769,1769,1769,1769,1769,1769,1769,1769,1769,1769,1769,1769,1769,1769,1769,1769,1769,1769,1769,1769,1769,1769,1769,1769,1769,1769,1769,1769,1769,1769,1769,1769,1769,1769,1769,1769,1769,1769,1769,1769,1769,1769,1769,1735,1671,1604,1540,1441,1319,1319,1319,1319,1319,1319,1319,1319,1319,1319,1319,1319,1319,1319,1319,1319,1319,1319,1319,1319,1319,1319,1319,1319,1319,1319,1319,1319,1319,1319,1319,1319,1319,1319,1319,1319,1319,1318,1318,1318,1318,1318,1316,1316,1316,1316,1316,1316,1316,1316,1316,1316,1316,1316,1316,1316,1316,1316,1316,1316,1316,1316,1316,1316,1316,1316,1316,1316,1316,1316,1316,1316,1316,1301,1285,1285,1279,1261,1249,1249,1249,1249,1249,1249,1249,1249,1249,1249,1249,1249,1249,1249,1249,1249,1249,1249,1249,1249,1249,1249,1249,1249,1249,1178,1176,1176,1176,1176,1176,1176,1176,1176,1176,1176,1176,1176,1176,1176,1176,1176,1176,1176,1176,1176,1176,1176,1176,1175,1157,1143,1080,995,897,897,897,897,897,897,897,897,897,897,897,897,897,847,823,656,628,611,583,583,583,583,583,583,583,486,366,222,217,161,1]}},\"id\":\"62ba8066-aa8d-43ab-9134-db3cedc6e037\",\"type\":\"ColumnDataSource\"},{\"attributes\":{\"fill_alpha\":{\"value\":0.1},\"fill_color\":{\"value\":\"#1f77b4\"},\"line_alpha\":{\"value\":0.1},\"line_color\":{\"value\":\"#1f77b4\"},\"x\":{\"field\":\"x\"},\"y\":{\"field\":\"y\"}},\"id\":\"6dd34204-3e7d-4b65-b0a4-a63cc18c91b2\",\"type\":\"Patch\"},{\"attributes\":{\"plot\":{\"id\":\"6df2ed87-9057-4743-bad0-1d190d41183e\",\"subtype\":\"Figure\",\"type\":\"Plot\"}},\"id\":\"b2570e0d-0cfd-45e1-991a-4018656bb5a4\",\"type\":\"SaveTool\"},{\"attributes\":{\"plot\":{\"id\":\"6df2ed87-9057-4743-bad0-1d190d41183e\",\"subtype\":\"Figure\",\"type\":\"Plot\"}},\"id\":\"e846d4aa-60bc-4622-9170-cb4f4eb73e8c\",\"type\":\"HelpTool\"},{\"attributes\":{\"fill_alpha\":{\"value\":0.1},\"fill_color\":{\"value\":\"#1f77b4\"},\"line_alpha\":{\"value\":0.1},\"line_color\":{\"value\":\"#1f77b4\"},\"x\":{\"field\":\"x\"},\"y\":{\"field\":\"y\"}},\"id\":\"20945eab-4748-4901-a389-dbdf9fb5b402\",\"type\":\"Patch\"},{\"attributes\":{\"callback\":null},\"id\":\"18327b1b-4346-4a86-a6b5-16b68ee42199\",\"type\":\"DataRange1d\"},{\"attributes\":{\"data_source\":{\"id\":\"913f5cf4-2573-43b3-b5b9-3fe7605185a3\",\"type\":\"ColumnDataSource\"},\"glyph\":{\"id\":\"45f1108d-acd7-4847-a078-e78e5554e070\",\"type\":\"Patch\"},\"hover_glyph\":null,\"nonselection_glyph\":{\"id\":\"6dd34204-3e7d-4b65-b0a4-a63cc18c91b2\",\"type\":\"Patch\"},\"selection_glyph\":null},\"id\":\"7534b9a9-5bdc-4997-8695-0f4da4e03c16\",\"type\":\"GlyphRenderer\"},{\"attributes\":{},\"id\":\"486b8933-1d7a-4fac-8fb9-61d66aae2635\",\"type\":\"BasicTicker\"},{\"attributes\":{\"plot\":{\"id\":\"6df2ed87-9057-4743-bad0-1d190d41183e\",\"subtype\":\"Figure\",\"type\":\"Plot\"}},\"id\":\"0c123755-5918-4c93-8e4c-0afe880c1bdf\",\"type\":\"WheelZoomTool\"},{\"attributes\":{\"label\":{\"value\":\"0.01 MinusPseudo\"},\"renderers\":[{\"id\":\"fb0f9ccc-0785-452a-b26f-dbf125fdab82\",\"type\":\"GlyphRenderer\"}]},\"id\":\"01595aea-6e53-4855-b695-868a24375b1f\",\"type\":\"LegendItem\"},{\"attributes\":{\"plot\":null,\"text\":\"Med Maze 14 0.5 Prioritized MinusPseudoRewards\"},\"id\":\"be59c799-b820-4df4-ae5d-77eaf644a8de\",\"type\":\"Title\"},{\"attributes\":{\"dimension\":1,\"plot\":{\"id\":\"6df2ed87-9057-4743-bad0-1d190d41183e\",\"subtype\":\"Figure\",\"type\":\"Plot\"},\"ticker\":{\"id\":\"308f1223-473c-4133-bcfc-a5b488a97860\",\"type\":\"BasicTicker\"}},\"id\":\"e2fa68f4-eeb6-480f-8ed4-7a9d2334e004\",\"type\":\"Grid\"},{\"attributes\":{\"plot\":{\"id\":\"6df2ed87-9057-4743-bad0-1d190d41183e\",\"subtype\":\"Figure\",\"type\":\"Plot\"}},\"id\":\"fddb44c2-36ee-4674-822f-6137195184f2\",\"type\":\"PanTool\"},{\"attributes\":{\"bottom_units\":\"screen\",\"fill_alpha\":{\"value\":0.5},\"fill_color\":{\"value\":\"lightgrey\"},\"left_units\":\"screen\",\"level\":\"overlay\",\"line_alpha\":{\"value\":1.0},\"line_color\":{\"value\":\"black\"},\"line_dash\":[4,4],\"line_width\":{\"value\":2},\"plot\":null,\"render_mode\":\"css\",\"right_units\":\"screen\",\"top_units\":\"screen\"},\"id\":\"2fb0e5bc-0da4-499a-8130-4b668d8a43d0\",\"type\":\"BoxAnnotation\"},{\"attributes\":{\"items\":[{\"id\":\"01595aea-6e53-4855-b695-868a24375b1f\",\"type\":\"LegendItem\"},{\"id\":\"835d7cb0-a874-4cbb-ae94-48e6ec7306e1\",\"type\":\"LegendItem\"},{\"id\":\"17381bfd-0de3-4d9e-a0d0-54bd31e091fd\",\"type\":\"LegendItem\"},{\"id\":\"2b519024-dcf0-46d8-bbcf-fe7f874daf89\",\"type\":\"LegendItem\"},{\"id\":\"0f630ae9-90e4-4cbc-a105-ffbfbbdf77ea\",\"type\":\"LegendItem\"}],\"location\":[0,-30],\"plot\":{\"id\":\"6df2ed87-9057-4743-bad0-1d190d41183e\",\"subtype\":\"Figure\",\"type\":\"Plot\"}},\"id\":\"64ed3af2-b5e9-4b4e-b451-496b706e7953\",\"type\":\"Legend\"},{\"attributes\":{\"overlay\":{\"id\":\"2fb0e5bc-0da4-499a-8130-4b668d8a43d0\",\"type\":\"BoxAnnotation\"},\"plot\":{\"id\":\"6df2ed87-9057-4743-bad0-1d190d41183e\",\"subtype\":\"Figure\",\"type\":\"Plot\"}},\"id\":\"ad74254c-778e-44a9-8338-f173ac6662c5\",\"type\":\"BoxZoomTool\"},{\"attributes\":{\"line_color\":{\"value\":\"#e41a1c\"},\"line_width\":{\"value\":2},\"x\":{\"field\":\"x\"},\"y\":{\"field\":\"y\"}},\"id\":\"b65bcdf2-ed57-4717-bfe4-15ad006a51a6\",\"type\":\"Line\"},{\"attributes\":{\"fill_alpha\":{\"value\":0.1},\"fill_color\":{\"value\":\"#984ea3\"},\"line_alpha\":{\"value\":0.1},\"line_color\":{\"value\":\"#984ea3\"},\"x\":{\"field\":\"x\"},\"y\":{\"field\":\"y\"}},\"id\":\"6fb2b293-3c0b-427e-b512-2ecf6993a7ad\",\"type\":\"Patch\"}],\"root_ids\":[\"6df2ed87-9057-4743-bad0-1d190d41183e\"]},\"title\":\"Bokeh Application\",\"version\":\"0.12.4\"}};\n",
       "            var render_items = [{\"docid\":\"d6094696-2836-4aaf-aa84-025a5f4f6d03\",\"elementid\":\"b3fcd3ee-bbc4-4099-a459-166dcde93791\",\"modelid\":\"6df2ed87-9057-4743-bad0-1d190d41183e\"}];\n",
       "            \n",
       "            Bokeh.embed.embed_items(docs_json, render_items);\n",
       "          };\n",
       "          if (document.readyState != \"loading\") fn();\n",
       "          else document.addEventListener(\"DOMContentLoaded\", fn);\n",
       "        })();\n",
       "      },\n",
       "      function(Bokeh) {\n",
       "      }\n",
       "    ];\n",
       "  \n",
       "    function run_inline_js() {\n",
       "      \n",
       "      if ((window.Bokeh !== undefined) || (force === true)) {\n",
       "        for (var i = 0; i < inline_js.length; i++) {\n",
       "          inline_js[i](window.Bokeh);\n",
       "        }if (force === true) {\n",
       "          display_loaded();\n",
       "        }} else if (Date.now() < window._bokeh_timeout) {\n",
       "        setTimeout(run_inline_js, 100);\n",
       "      } else if (!window._bokeh_failed_load) {\n",
       "        console.log(\"Bokeh: BokehJS failed to load within specified timeout.\");\n",
       "        window._bokeh_failed_load = true;\n",
       "      } else if (force !== true) {\n",
       "        var cell = $(document.getElementById(\"b3fcd3ee-bbc4-4099-a459-166dcde93791\")).parents('.cell').data().cell;\n",
       "        cell.output_area.append_execute_result(NB_LOAD_WARNING)\n",
       "      }\n",
       "  \n",
       "    }\n",
       "  \n",
       "    if (window._bokeh_is_loading === 0) {\n",
       "      console.log(\"Bokeh: BokehJS loaded, going straight to plotting\");\n",
       "      run_inline_js();\n",
       "    } else {\n",
       "      load_libs(js_urls, function() {\n",
       "        console.log(\"Bokeh: BokehJS plotting callback run at\", now());\n",
       "        run_inline_js();\n",
       "      });\n",
       "    }\n",
       "  }(this));\n",
       "</script>"
      ]
     },
     "metadata": {},
     "output_type": "display_data"
    }
   ],
   "source": [
    "plot_averages_b(names, t_maxs, colours, legends, directories, step=1000, title=env, min_max=False)\n",
    "plot_states(names, t_maxs, colours, legends, directories, step=1000, title=env)"
   ]
  },
  {
   "cell_type": "code",
   "execution_count": null,
   "metadata": {
    "collapsed": true,
    "deletable": true,
    "editable": true
   },
   "outputs": [],
   "source": []
  },
  {
   "cell_type": "code",
   "execution_count": null,
   "metadata": {
    "collapsed": true,
    "deletable": true,
    "editable": true
   },
   "outputs": [],
   "source": []
  },
  {
   "cell_type": "code",
   "execution_count": null,
   "metadata": {
    "collapsed": true,
    "deletable": true,
    "editable": true
   },
   "outputs": [],
   "source": [
    "DQN_Smoothed = []\n",
    "for times, rewards in zip(DQN_Lengths_C, DQN_Rewards):\n",
    "    linear = interp1d(times, rewards, kind=\"linear\")\n",
    "    linear_rewards = linear([i for i in range(500000)])\n",
    "    DQN_Smoothed.append(linear_rewards)"
   ]
  },
  {
   "cell_type": "code",
   "execution_count": null,
   "metadata": {
    "collapsed": true,
    "deletable": true,
    "editable": true
   },
   "outputs": [],
   "source": [
    "DQN_Means = np.mean(DQN_Smoothed, axis=0)"
   ]
  },
  {
   "cell_type": "code",
   "execution_count": null,
   "metadata": {
    "collapsed": true,
    "deletable": true,
    "editable": true
   },
   "outputs": [],
   "source": [
    "DQN_Stds = np.std(DQN_Smoothed, axis=0)"
   ]
  },
  {
   "cell_type": "code",
   "execution_count": null,
   "metadata": {
    "collapsed": false,
    "deletable": true,
    "editable": true
   },
   "outputs": [],
   "source": [
    "plt.fill_between([i for i in range(500000)], DQN_Means - DQN_Stds, DQN_Means + DQN_Stds, color=\"red\", alpha=0.3, edgecolor=\"white\")\n",
    "\n",
    "plt.plot([i for i in range(500000)], DQN_Means, color=\"red\")"
   ]
  },
  {
   "cell_type": "code",
   "execution_count": null,
   "metadata": {
    "collapsed": false,
    "deletable": true,
    "editable": true
   },
   "outputs": [],
   "source": [
    "len(DQN_Repeat)"
   ]
  },
  {
   "cell_type": "code",
   "execution_count": null,
   "metadata": {
    "collapsed": true,
    "deletable": true,
    "editable": true
   },
   "outputs": [],
   "source": [
    "plt.plot(DQN)"
   ]
  },
  {
   "cell_type": "code",
   "execution_count": null,
   "metadata": {
    "collapsed": true,
    "deletable": true,
    "editable": true
   },
   "outputs": [],
   "source": [
    "directories = [\"Logs/\"]"
   ]
  },
  {
   "cell_type": "code",
   "execution_count": null,
   "metadata": {
    "collapsed": false,
    "deletable": true,
    "editable": true
   },
   "outputs": [],
   "source": [
    "for i in range(0, 10, 2):\n",
    "    print(i)"
   ]
  },
  {
   "cell_type": "code",
   "execution_count": null,
   "metadata": {
    "collapsed": true,
    "deletable": true,
    "editable": true
   },
   "outputs": [],
   "source": []
  }
 ],
 "metadata": {
  "kernelspec": {
   "display_name": "Python 3",
   "language": "python",
   "name": "python3"
  },
  "language_info": {
   "codemirror_mode": {
    "name": "ipython",
    "version": 3
   },
   "file_extension": ".py",
   "mimetype": "text/x-python",
   "name": "python",
   "nbconvert_exporter": "python",
   "pygments_lexer": "ipython3",
   "version": "3.6.0"
  }
 },
 "nbformat": 4,
 "nbformat_minor": 2
}
