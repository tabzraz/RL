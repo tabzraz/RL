{
 "cells": [
  {
   "cell_type": "code",
   "execution_count": 1,
   "metadata": {
    "collapsed": false,
    "deletable": true,
    "editable": true
   },
   "outputs": [
    {
     "data": {
      "text/html": [
       "\n",
       "    <div class=\"bk-root\">\n",
       "        <a href=\"http://bokeh.pydata.org\" target=\"_blank\" class=\"bk-logo bk-logo-small bk-logo-notebook\"></a>\n",
       "        <span id=\"5bee9b55-f9e1-4793-91fd-60caa5afc53c\">Loading BokehJS ...</span>\n",
       "    </div>"
      ]
     },
     "metadata": {},
     "output_type": "display_data"
    },
    {
     "data": {
      "application/javascript": [
       "\n",
       "(function(global) {\n",
       "  function now() {\n",
       "    return new Date();\n",
       "  }\n",
       "\n",
       "  var force = true;\n",
       "\n",
       "  if (typeof (window._bokeh_onload_callbacks) === \"undefined\" || force === true) {\n",
       "    window._bokeh_onload_callbacks = [];\n",
       "    window._bokeh_is_loading = undefined;\n",
       "  }\n",
       "\n",
       "\n",
       "  \n",
       "  if (typeof (window._bokeh_timeout) === \"undefined\" || force === true) {\n",
       "    window._bokeh_timeout = Date.now() + 5000;\n",
       "    window._bokeh_failed_load = false;\n",
       "  }\n",
       "\n",
       "  var NB_LOAD_WARNING = {'data': {'text/html':\n",
       "     \"<div style='background-color: #fdd'>\\n\"+\n",
       "     \"<p>\\n\"+\n",
       "     \"BokehJS does not appear to have successfully loaded. If loading BokehJS from CDN, this \\n\"+\n",
       "     \"may be due to a slow or bad network connection. Possible fixes:\\n\"+\n",
       "     \"</p>\\n\"+\n",
       "     \"<ul>\\n\"+\n",
       "     \"<li>re-rerun `output_notebook()` to attempt to load from CDN again, or</li>\\n\"+\n",
       "     \"<li>use INLINE resources instead, as so:</li>\\n\"+\n",
       "     \"</ul>\\n\"+\n",
       "     \"<code>\\n\"+\n",
       "     \"from bokeh.resources import INLINE\\n\"+\n",
       "     \"output_notebook(resources=INLINE)\\n\"+\n",
       "     \"</code>\\n\"+\n",
       "     \"</div>\"}};\n",
       "\n",
       "  function display_loaded() {\n",
       "    if (window.Bokeh !== undefined) {\n",
       "      document.getElementById(\"5bee9b55-f9e1-4793-91fd-60caa5afc53c\").textContent = \"BokehJS successfully loaded.\";\n",
       "    } else if (Date.now() < window._bokeh_timeout) {\n",
       "      setTimeout(display_loaded, 100)\n",
       "    }\n",
       "  }\n",
       "\n",
       "  function run_callbacks() {\n",
       "    window._bokeh_onload_callbacks.forEach(function(callback) { callback() });\n",
       "    delete window._bokeh_onload_callbacks\n",
       "    console.info(\"Bokeh: all callbacks have finished\");\n",
       "  }\n",
       "\n",
       "  function load_libs(js_urls, callback) {\n",
       "    window._bokeh_onload_callbacks.push(callback);\n",
       "    if (window._bokeh_is_loading > 0) {\n",
       "      console.log(\"Bokeh: BokehJS is being loaded, scheduling callback at\", now());\n",
       "      return null;\n",
       "    }\n",
       "    if (js_urls == null || js_urls.length === 0) {\n",
       "      run_callbacks();\n",
       "      return null;\n",
       "    }\n",
       "    console.log(\"Bokeh: BokehJS not loaded, scheduling load and callback at\", now());\n",
       "    window._bokeh_is_loading = js_urls.length;\n",
       "    for (var i = 0; i < js_urls.length; i++) {\n",
       "      var url = js_urls[i];\n",
       "      var s = document.createElement('script');\n",
       "      s.src = url;\n",
       "      s.async = false;\n",
       "      s.onreadystatechange = s.onload = function() {\n",
       "        window._bokeh_is_loading--;\n",
       "        if (window._bokeh_is_loading === 0) {\n",
       "          console.log(\"Bokeh: all BokehJS libraries loaded\");\n",
       "          run_callbacks()\n",
       "        }\n",
       "      };\n",
       "      s.onerror = function() {\n",
       "        console.warn(\"failed to load library \" + url);\n",
       "      };\n",
       "      console.log(\"Bokeh: injecting script tag for BokehJS library: \", url);\n",
       "      document.getElementsByTagName(\"head\")[0].appendChild(s);\n",
       "    }\n",
       "  };var element = document.getElementById(\"5bee9b55-f9e1-4793-91fd-60caa5afc53c\");\n",
       "  if (element == null) {\n",
       "    console.log(\"Bokeh: ERROR: autoload.js configured with elementid '5bee9b55-f9e1-4793-91fd-60caa5afc53c' but no matching script tag was found. \")\n",
       "    return false;\n",
       "  }\n",
       "\n",
       "  var js_urls = [\"https://cdn.pydata.org/bokeh/release/bokeh-0.12.4.min.js\", \"https://cdn.pydata.org/bokeh/release/bokeh-widgets-0.12.4.min.js\"];\n",
       "\n",
       "  var inline_js = [\n",
       "    function(Bokeh) {\n",
       "      Bokeh.set_log_level(\"info\");\n",
       "    },\n",
       "    \n",
       "    function(Bokeh) {\n",
       "      \n",
       "      document.getElementById(\"5bee9b55-f9e1-4793-91fd-60caa5afc53c\").textContent = \"BokehJS is loading...\";\n",
       "    },\n",
       "    function(Bokeh) {\n",
       "      console.log(\"Bokeh: injecting CSS: https://cdn.pydata.org/bokeh/release/bokeh-0.12.4.min.css\");\n",
       "      Bokeh.embed.inject_css(\"https://cdn.pydata.org/bokeh/release/bokeh-0.12.4.min.css\");\n",
       "      console.log(\"Bokeh: injecting CSS: https://cdn.pydata.org/bokeh/release/bokeh-widgets-0.12.4.min.css\");\n",
       "      Bokeh.embed.inject_css(\"https://cdn.pydata.org/bokeh/release/bokeh-widgets-0.12.4.min.css\");\n",
       "    }\n",
       "  ];\n",
       "\n",
       "  function run_inline_js() {\n",
       "    \n",
       "    if ((window.Bokeh !== undefined) || (force === true)) {\n",
       "      for (var i = 0; i < inline_js.length; i++) {\n",
       "        inline_js[i](window.Bokeh);\n",
       "      }if (force === true) {\n",
       "        display_loaded();\n",
       "      }} else if (Date.now() < window._bokeh_timeout) {\n",
       "      setTimeout(run_inline_js, 100);\n",
       "    } else if (!window._bokeh_failed_load) {\n",
       "      console.log(\"Bokeh: BokehJS failed to load within specified timeout.\");\n",
       "      window._bokeh_failed_load = true;\n",
       "    } else if (force !== true) {\n",
       "      var cell = $(document.getElementById(\"5bee9b55-f9e1-4793-91fd-60caa5afc53c\")).parents('.cell').data().cell;\n",
       "      cell.output_area.append_execute_result(NB_LOAD_WARNING)\n",
       "    }\n",
       "\n",
       "  }\n",
       "\n",
       "  if (window._bokeh_is_loading === 0) {\n",
       "    console.log(\"Bokeh: BokehJS loaded, going straight to plotting\");\n",
       "    run_inline_js();\n",
       "  } else {\n",
       "    load_libs(js_urls, function() {\n",
       "      console.log(\"Bokeh: BokehJS plotting callback run at\", now());\n",
       "      run_inline_js();\n",
       "    });\n",
       "  }\n",
       "}(this));"
      ]
     },
     "metadata": {},
     "output_type": "display_data"
    }
   ],
   "source": [
    "from bokeh.plotting import figure, output_notebook, show\n",
    "output_notebook()"
   ]
  },
  {
   "cell_type": "code",
   "execution_count": 2,
   "metadata": {
    "collapsed": true,
    "deletable": true,
    "editable": true
   },
   "outputs": [],
   "source": [
    "import glob"
   ]
  },
  {
   "cell_type": "code",
   "execution_count": 3,
   "metadata": {
    "collapsed": true,
    "deletable": true,
    "editable": true
   },
   "outputs": [],
   "source": [
    "import numpy as np"
   ]
  },
  {
   "cell_type": "code",
   "execution_count": 4,
   "metadata": {
    "collapsed": true,
    "deletable": true,
    "editable": true
   },
   "outputs": [],
   "source": [
    "from scipy.interpolate import interp1d\n",
    "from scipy.interpolate import spline"
   ]
  },
  {
   "cell_type": "code",
   "execution_count": 5,
   "metadata": {
    "collapsed": true,
    "deletable": true,
    "editable": true
   },
   "outputs": [],
   "source": [
    "from tqdm import tqdm"
   ]
  },
  {
   "cell_type": "code",
   "execution_count": 6,
   "metadata": {
    "collapsed": true,
    "deletable": true,
    "editable": true
   },
   "outputs": [],
   "source": [
    "DQN_Rewards_Path = \"/home/tabz/Dropbox/RL/Log_Files/March 2017/Maze_5_Batch_Sizes_Logs/*DQN*/logs/Episode_Rewards.txt\"\n",
    "DQN_Lengths_Path = \"/home/tabz/Dropbox/RL/Log_Files/March 2017/Maze_5_Batch_Sizes_Logs/*DQN*/logs/Episode_Lengths.txt\"\n",
    "DQN_Rewards = []\n",
    "DQN_Lengths = []\n",
    "DQN_Lengths_C = []"
   ]
  },
  {
   "cell_type": "code",
   "execution_count": 7,
   "metadata": {
    "collapsed": true,
    "deletable": true,
    "editable": true
   },
   "outputs": [],
   "source": [
    "for filename in glob.glob(DQN_Rewards_Path):\n",
    "    run_logs = [0]\n",
    "#     print(filename)\n",
    "    with open(filename, \"r\") as f:\n",
    "        for line in f:\n",
    "            try:\n",
    "                ep_r = float(line)\n",
    "            except:\n",
    "                continue\n",
    "            run_logs.append(ep_r)\n",
    "    DQN_Rewards.append(run_logs)"
   ]
  },
  {
   "cell_type": "code",
   "execution_count": 8,
   "metadata": {
    "collapsed": true,
    "deletable": true,
    "editable": true
   },
   "outputs": [],
   "source": [
    "for filename in glob.glob(DQN_Lengths_Path):\n",
    "    run_logs = [0]\n",
    "#     print(filename)\n",
    "    with open(filename, \"r\") as f:\n",
    "        for line in f:\n",
    "            try:\n",
    "                ep_r = float(line)\n",
    "            except:\n",
    "                continue\n",
    "            run_logs.append(ep_r)\n",
    "    DQN_Lengths.append(run_logs)\n",
    "    run_logs_c = np.cumsum(run_logs).astype(np.int32)\n",
    "    DQN_Lengths_C.append(run_logs_c)"
   ]
  },
  {
   "cell_type": "markdown",
   "metadata": {
    "collapsed": false,
    "deletable": true,
    "editable": true
   },
   "source": [
    "for lens, runs in zip(DQN_Lengths_C, DQN_Rewards):\n",
    "    plt.plot(lens, runs)\n",
    "plt.show()"
   ]
  },
  {
   "cell_type": "markdown",
   "metadata": {
    "collapsed": false,
    "deletable": true,
    "editable": true
   },
   "source": [
    "p = figure(width=500, height=500, y_range=(-1,3))\n",
    "for lens, runs in zip(DQN_Lengths_C, DQN_Rewards):\n",
    "    p.line(lens, runs)\n",
    "show(p)"
   ]
  },
  {
   "cell_type": "code",
   "execution_count": null,
   "metadata": {
    "collapsed": true,
    "deletable": true,
    "editable": true
   },
   "outputs": [],
   "source": []
  },
  {
   "cell_type": "markdown",
   "metadata": {
    "collapsed": true,
    "deletable": true,
    "editable": true
   },
   "source": [
    "def plot_averages(names, t_maxs, colors, legends=None, directory=\"Logs/\", step=10):\n",
    "    plt.figure(figsize=(10,10))\n",
    "    plt.ylim(-1, 3)\n",
    "    for name, color, t_max in tqdm(zip(names, colors, t_maxs)):\n",
    "        # TODO: Remove DQN from names\n",
    "        DQN_Rewards_Path = directory + \"*\" + name + \"*/logs/Episode_Rewards.txt\"\n",
    "        DQN_Lengths_Path = directory + \"*\" + name + \"*/logs/Episode_Lengths.txt\"\n",
    "        DQN_Rewards = []\n",
    "        DQN_Lengths = []\n",
    "        DQN_Lengths_C = []\n",
    "        for filename in glob.glob(DQN_Rewards_Path):\n",
    "            run_logs = [0]\n",
    "            with open(filename, \"r\") as f:\n",
    "                for line in f:\n",
    "                    try:\n",
    "                        ep_r = float(line)\n",
    "                    except:\n",
    "                        continue\n",
    "                    run_logs.append(ep_r)\n",
    "            DQN_Rewards.append(run_logs)\n",
    "        for filename in glob.glob(DQN_Lengths_Path):\n",
    "            run_logs = [0]\n",
    "        #     print(filename)\n",
    "            with open(filename, \"r\") as f:\n",
    "                for line in f:\n",
    "                    try:\n",
    "                        ep_r = float(line)\n",
    "                    except:\n",
    "                        continue\n",
    "                    run_logs.append(ep_r)\n",
    "            DQN_Lengths.append(run_logs)\n",
    "            run_logs_c = np.cumsum(run_logs).astype(np.int32)\n",
    "            DQN_Lengths_C.append(run_logs_c)\n",
    "        DQN_Smoothed = []\n",
    "        for times, rewards in zip(DQN_Lengths_C, DQN_Rewards):\n",
    "#             linear = interp1d(times, rewards, kind=\"linear\")\n",
    "#             linear_rewards = linear([i for i in range(500000)])\n",
    "#             DQN_Smoothed.append(linear_rewards)\n",
    "            spline_rewards = spline(times, rewards, [i for i in range(0, t_max, step)])\n",
    "            DQN_Smoothed.append(spline_rewards)\n",
    "        DQN_Means = np.mean(DQN_Smoothed, axis=0)\n",
    "        DQN_Stds = np.std(DQN_Smoothed, axis=0)\n",
    "        plt.fill_between([i for i in range(0, t_max, step)], DQN_Means - DQN_Stds, DQN_Means + DQN_Stds, color=color, alpha=0.2, edgecolor=\"white\")\n",
    "\n",
    "        plt.plot([i for i in range(0, t_max, step)], DQN_Means, color=color)\n",
    "\n",
    "    plt.title(\"Episode_Reward\")\n",
    "    plt.xlabel(\"T\")\n",
    "    plt.ylabel(\"Reward\")\n",
    "    if legends is not None:\n",
    "        plt.legend(legends, bbox_to_anchor=(1.05, 1), loc=2)\n",
    "    plt.show()"
   ]
  },
  {
   "cell_type": "code",
   "execution_count": 9,
   "metadata": {
    "collapsed": true,
    "deletable": true,
    "editable": true
   },
   "outputs": [],
   "source": [
    "from bokeh.models import Legend\n",
    "from bokeh.models.formatters import BasicTickFormatter\n",
    "from bokeh.models import HoverTool, TapTool"
   ]
  },
  {
   "cell_type": "code",
   "execution_count": 10,
   "metadata": {
    "collapsed": false,
    "deletable": true,
    "editable": true
   },
   "outputs": [],
   "source": [
    "def plot_averages_b(names, t_maxs, colors, legends, directories=\"Logs/\", step=10, title=\"\", min_max=True):\n",
    "#     plt.figure(figsize=(10,10))\n",
    "    p = figure(width=1200, height=800, y_range=(-0.1, 1.1), title=title)\n",
    "    p.toolbar_location = \"above\"\n",
    "    p.yaxis.axis_label = \"Episode Reward\"\n",
    "    p.xaxis.axis_label = \"T\"\n",
    "    p.xaxis.formatter = BasicTickFormatter(use_scientific=False)\n",
    "#     p = figure(width=800, height=500)\n",
    "    lines = []\n",
    "    alpha_lines = []\n",
    "    if isinstance(directories, str):\n",
    "        dd = directories\n",
    "        directories = [dd for _ in names]\n",
    "    for name, color, t_max, legend, directory in zip(names, colors, t_maxs, legends, directories):\n",
    "#         print(directory)\n",
    "        DQN_Rewards_Path = directory + \"*\" + name + \"*/logs/Episode_Rewards.txt\"\n",
    "        DQN_Lengths_Path = directory + \"*\" + name + \"*/logs/Episode_Lengths.txt\"\n",
    "        DQN_Rewards = []\n",
    "        DQN_Lengths = []\n",
    "        DQN_Lengths_C = []\n",
    "        for filename in glob.glob(DQN_Rewards_Path):\n",
    "            run_logs = [0]\n",
    "            with open(filename, \"r\") as f:\n",
    "#                 print(f)\n",
    "                for line in f:\n",
    "                    try:\n",
    "                        ep_r = float(line)\n",
    "                    except:\n",
    "                        print(\"Nothing here for:\", filename)\n",
    "                        continue\n",
    "                    run_logs.append(ep_r)\n",
    "            DQN_Rewards.append(run_logs)\n",
    "        for filename in glob.glob(DQN_Lengths_Path):\n",
    "            run_logs = [0]\n",
    "        #     print(filename)\n",
    "            with open(filename, \"r\") as f:\n",
    "                for line in f:\n",
    "                    try:\n",
    "                        ep_r = float(line)\n",
    "                    except:\n",
    "                        continue\n",
    "                    run_logs.append(ep_r)\n",
    "            DQN_Lengths.append(run_logs)\n",
    "            run_logs_c = np.cumsum(run_logs).astype(np.int32)\n",
    "            DQN_Lengths_C.append(run_logs_c)\n",
    "        DQN_Smoothed = []\n",
    "        for times, rewards in zip(DQN_Lengths_C, DQN_Rewards):\n",
    "#             linear = interp1d(times, rewards, kind=\"linear\")\n",
    "#             linear_rewards = linear([i for i in range(500000)])\n",
    "#             DQN_Smoothed.append(linear_rewards)\n",
    "            spline_rewards = spline(times, rewards, [i for i in range(0, t_max, step)], order=1)\n",
    "            DQN_Smoothed.append(spline_rewards)\n",
    "        DQN_Means = np.mean(DQN_Smoothed, axis=0)\n",
    "        DQN_Stds = np.std(DQN_Smoothed, axis=0)\n",
    "        \n",
    "        if min_max:\n",
    "    #         plt.fill_between([i for i in range(0, t_max, step)], DQN_Means - DQN_Stds, DQN_Means + DQN_Stds, color=color, alpha=0.2, edgecolor=\"white\")\n",
    "            # Error bars\n",
    "            xs = [i for i in range(0, t_max, step)]\n",
    "            xs = xs + list(reversed(xs))\n",
    "    #         ys = np.concatenate([DQN_Means - DQN_Stds, np.flip(DQN_Means + DQN_Stds, axis=0)])\n",
    "            ys = np.concatenate([np.min(DQN_Smoothed, axis=0), np.flip(np.max(DQN_Smoothed, axis=0), axis=0)])\n",
    "            lls = p.patch(xs, ys, color=color, alpha=0.1)\n",
    "\n",
    "\n",
    "    #         for x, y, yerr in zip(range(0, t_max, step), DQN_Means, DQN_Stds):\n",
    "    #             lls = p.line([x, x], [y - yerr, y + yerr], color=color, alpha=0.1, hover_alpha=0.8)\n",
    "    #             alpha_lines.append(lls)\n",
    "\n",
    "\n",
    "    #         plt.plot([i for i in range(0, t_max, step)], DQN_Means, color=color)\n",
    "        l = p.line([i for i in range(0, t_max, step)], DQN_Means, color=color, line_width=2)\n",
    "        lines.append(l)\n",
    "    #         alpha_lines.append(lls)\n",
    "\n",
    "#     plt.title(\"Episode_Reward\")\n",
    "#     plt.xlabel(\"T\")\n",
    "#     plt.ylabel(\"Reward\")\n",
    "#     if legends is not None:\n",
    "#         plt.legend(legends)\n",
    "#     plt.show()\n",
    "#     p.line([0,1], [-1,3])\n",
    "    new_leg = Legend(items=[(name, [line]) for name, line in zip(legends, lines)], location=(0,-30))\n",
    "    p.add_layout(new_leg, \"right\")\n",
    "#     p.add_tools(HoverTool(renderers=alpha_lines))\n",
    "#     p.add_tools(TapTool(renderers=alpha_lines))\n",
    "    show(p)"
   ]
  },
  {
   "cell_type": "code",
   "execution_count": 11,
   "metadata": {
    "collapsed": false,
    "deletable": true,
    "editable": true
   },
   "outputs": [],
   "source": [
    "def plot_states(names, t_maxs, colors, legends, directories=\"Logs/\", step=10, title=\"\"):\n",
    "#     plt.figure(figsize=(10,10))\n",
    "    p = figure(width=1200, height=800, title=title)\n",
    "    p.toolbar_location = \"above\"\n",
    "    p.yaxis.axis_label = \"States visited\"\n",
    "    p.xaxis.axis_label = \"T\"\n",
    "    p.xaxis.formatter = BasicTickFormatter(use_scientific=False)\n",
    "#     p = figure(width=800, height=500)\n",
    "    lines = []\n",
    "    alpha_lines = []\n",
    "    if isinstance(directories, str):\n",
    "        dd = directories\n",
    "        directories = [dd for _ in names]\n",
    "    for name, color, t_max, legend, directory in zip(names, colors, t_maxs, legends, directories):\n",
    "#         print(directory)\n",
    "        States_Path = directory + \"*\" + name + \"*/logs/Player_Positions.txt\"\n",
    "        States = []\n",
    "        for filename in glob.glob(States_Path):\n",
    "            run_logs = []\n",
    "            with open(filename, \"r\") as f:\n",
    "#                 print(f)\n",
    "                for line in f:\n",
    "                    try:\n",
    "                        ep_r = str(line)\n",
    "#                         print(ep_r)\n",
    "                    except:\n",
    "                        print(\"Nothing here for:\", filename)\n",
    "                        continue\n",
    "                    run_logs.append(ep_r)\n",
    "            States.append(run_logs)\n",
    "        States_Visited = []\n",
    "        for run in States:\n",
    "            Visited = []\n",
    "            States_Sets = set()\n",
    "#             print(len(run))\n",
    "            for ii, s in enumerate(run):\n",
    "                if ii >= t_max - 1:\n",
    "                    break\n",
    "#                 print(s)\n",
    "                States_Sets.add(s)\n",
    "                if ii % step == 0:\n",
    "                    Visited.append(len(States_Sets))\n",
    "#             print(len(States_Sets))\n",
    "#             print(len(Visited))\n",
    "            States_Visited.append(Visited)\n",
    "#         print(np.array(States_Visited).shape)\n",
    "        Means = np.mean(States_Visited, axis=0)\n",
    "        Stds = np.std(States_Visited, axis=0)\n",
    "#         print(Means.shape)\n",
    "        \n",
    "#         plt.fill_between([i for i in range(0, t_max, step)], DQN_Means - DQN_Stds, DQN_Means + DQN_Stds, color=color, alpha=0.2, edgecolor=\"white\")\n",
    "        # Error bars\n",
    "        xs = [i for i in range(0, t_max, step)]\n",
    "        xs = xs + list(reversed(xs))\n",
    "#         ys = np.concatenate([Means - Stds, np.flip(Means + Stds, axis=0)])\n",
    "        ys = np.concatenate([np.min(States_Visited, axis=0), np.flip(np.max(States_Visited, axis=0), axis=0)])\n",
    "        lls = p.patch(xs, ys, color=color, alpha=0.1)\n",
    "\n",
    "        \n",
    "#         for x, y, yerr in zip(range(0, t_max, step), DQN_Means, DQN_Stds):\n",
    "#             lls = p.line([x, x], [y - yerr, y + yerr], color=color, alpha=0.1, hover_alpha=0.8)\n",
    "#             alpha_lines.append(lls)\n",
    "            \n",
    "\n",
    "#         plt.plot([i for i in range(0, t_max, step)], DQN_Means, color=color)\n",
    "        l = p.line([i for i in range(0, t_max, step)], Means, color=color, line_width=2)\n",
    "        lines.append(l)\n",
    "#         alpha_lines.append(lls)\n",
    "\n",
    "#     plt.title(\"Episode_Reward\")\n",
    "#     plt.xlabel(\"T\")\n",
    "#     plt.ylabel(\"Reward\")\n",
    "#     if legends is not None:\n",
    "#         plt.legend(legends)\n",
    "#     plt.show()\n",
    "#     p.line([0,1], [-1,3])\n",
    "    new_leg = Legend(items=[(name, [line]) for name, line in zip(legends, lines)], location=(0,-30))\n",
    "    p.add_layout(new_leg, \"right\")\n",
    "#     p.add_tools(HoverTool(renderers=alpha_lines))\n",
    "#     p.add_tools(TapTool(renderers=alpha_lines))\n",
    "    show(p)"
   ]
  },
  {
   "cell_type": "code",
   "execution_count": null,
   "metadata": {
    "collapsed": true,
    "deletable": true,
    "editable": true
   },
   "outputs": [],
   "source": []
  },
  {
   "cell_type": "code",
   "execution_count": 12,
   "metadata": {
    "collapsed": false,
    "deletable": true,
    "editable": true
   },
   "outputs": [
    {
     "name": "stdout",
     "output_type": "stream",
     "text": [
      "['_10_Step_*DQN_', '_10_Step_*k_Count_', '_10_Step_*_CountEps_']\n",
      "[300001, 300001, 300001]\n"
     ]
    }
   ],
   "source": [
    "names = []\n",
    "legends = []\n",
    "t_maxs = []\n",
    "directories = []\n",
    "\n",
    "            \n",
    "# Frontier stuff\n",
    "for step in [10]:\n",
    "    # DQN\n",
    "    names += [\"_{}_Step_*DQN_\".format(step)]\n",
    "    legends += [\"{}_Step_DQN\".format(step)]\n",
    "    t_maxs += [300001]\n",
    "#     continue\n",
    "    # PseudoCount\n",
    "    names += [\"_{}_Step_*k_Count_\".format(step)]\n",
    "    legends += [\"{}_Step_Count\".format(step)]\n",
    "    t_maxs += [300001]\n",
    "#     continue\n",
    "    # EpsilonScaling\n",
    "    names += [\"_{}_Step_*_CountEps_\".format(step)]\n",
    "    legends += [\"{}_Step_Epsilon_Scaling\".format(step)]\n",
    "    t_maxs += [300001]\n",
    "            \n",
    "    \n",
    "direc = \"/home/tabz/tmp/logfiles/MedMaze10/MedMaze10\"\n",
    "# directories =  [\"{}/{}\".format(dropbox_direc, \"Maze_5_Logs/\")] + 3 * [\"{}/{}\".format(dropbox_direc, \"Maze_5_Batch_Sizes_Logs/\")] \n",
    "directories += [direc + \"/EpsilonLogs/\"] * 3\n",
    "    \n",
    "print(names)\n",
    "print(t_maxs)\n",
    "# colours = [\"red\", \"#3366ff\", \"#66ff33\", \"yellow\"]\n",
    "# colours = rainbow(np.linspace(0, 1, len(names)))"
   ]
  },
  {
   "cell_type": "code",
   "execution_count": 13,
   "metadata": {
    "collapsed": false,
    "deletable": true,
    "editable": true
   },
   "outputs": [
    {
     "name": "stdout",
     "output_type": "stream",
     "text": [
      "['_100_Step*k_Count_', '_100_Step*OptimisticAction', '_100_Step*_CountEps_']\n",
      "[300001, 300001, 300001]\n",
      "/home/scratch/tabhid/Log_Files/Gamma_Logs//\n"
     ]
    }
   ],
   "source": [
    "names = []\n",
    "legends = []\n",
    "t_maxs = []\n",
    "\n",
    "            \n",
    "# Frontier bandit stuff\n",
    "\n",
    "for n in [100]:\n",
    "    \n",
    "    # Count\n",
    "    names += [\"_{}_Step*k_Count_\".format(n)]\n",
    "    legends += [\"{}_Step_Count\".format(n)]\n",
    "    t_maxs += [300001]\n",
    "#     continue\n",
    "    # Optimistic\n",
    "    names += [\"_{}_Step*OptimisticAction\".format(n)]\n",
    "    legends += [\"{}_Step_OptimisticAction\".format(n)]\n",
    "    t_maxs += [300001]\n",
    "#     continue\n",
    "    # Epsilon Scaling\n",
    "    names += [\"_{}_Step*_CountEps_\".format(n)]\n",
    "    legends += [\"{}_Step_EpsilonScaling\".format(n)]\n",
    "    t_maxs += [300001]\n",
    "            \n",
    "    \n",
    "direc = \"/home/scratch/tabhid/Log_Files/Gamma_Logs//\"\n",
    "# directories =  [\"{}/{}\".format(dropbox_direc, \"Maze_5_Logs/\")] + 3 * [\"{}/{}\".format(dropbox_direc, \"Maze_5_Batch_Sizes_Logs/\")] \n",
    "# directories += [direc + \"/BanditLogs/\"] * 3\n",
    "directories = direc\n",
    "    \n",
    "print(names)\n",
    "print(t_maxs)\n",
    "print(directories)\n",
    "# colours = [\"red\", \"#3366ff\", \"#66ff33\", \"yellow\"]\n",
    "# colours = rainbow(np.linspace(0, 1, len(names)))"
   ]
  },
  {
   "cell_type": "code",
   "execution_count": 14,
   "metadata": {
    "collapsed": false,
    "deletable": true,
    "editable": true
   },
   "outputs": [
    {
     "name": "stdout",
     "output_type": "stream",
     "text": [
      "['_0.9_Decay*_Eps_0.1_', '_0.99_Decay*_Eps_0.1_', '_0.9999_Decay*_Eps_0.1_', '_0.9_Decay*_Eps_1_', '_0.99_Decay*_Eps_1_', '_0.9999_Decay*_Eps_1_']\n",
      "[300001, 300001, 300001, 300001, 300001, 300001]\n",
      "/home/tabz/tmp/Epsilon_Decay_Logs/\n"
     ]
    }
   ],
   "source": [
    "names = []\n",
    "legends = []\n",
    "t_maxs = []\n",
    "\n",
    "            \n",
    "# Epsilon Decay Scaling\n",
    "for eps in [0.1, 1]:\n",
    "    for decay in [0.9, 0.99, 0.9999]:\n",
    "    \n",
    "        names += [\"_{}_Decay*_Eps_{}_\".format(decay, eps)]\n",
    "        legends += [\"{}_Decay_EpsilonScaling_{}_Start\".format(decay, eps)]\n",
    "        t_maxs += [300001]\n",
    "            \n",
    "    \n",
    "# direc = \"/home/scratch/tabhid/Log_Files/Epsilon_Decay_Logs/\"\n",
    "direc = \"/home/tabz/tmp/Epsilon_Decay_Logs/\"\n",
    "# directories =  [\"{}/{}\".format(dropbox_direc, \"Maze_5_Logs/\")] + 3 * [\"{}/{}\".format(dropbox_direc, \"Maze_5_Batch_Sizes_Logs/\")] \n",
    "# directories += [direc + \"/BanditLogs/\"] * 3\n",
    "directories = direc\n",
    "    \n",
    "print(names)\n",
    "print(t_maxs)\n",
    "print(directories)"
   ]
  },
  {
   "cell_type": "code",
   "execution_count": 15,
   "metadata": {
    "collapsed": false,
    "deletable": true,
    "editable": true
   },
   "outputs": [
    {
     "name": "stdout",
     "output_type": "stream",
     "text": [
      "['_NegativeReward_0.5_', '_NegativeReward_0.7_', '_NegativeReward_0.9_']\n",
      "[300001, 300001, 300001]\n",
      "/home/tabz/tmp/Big_Negative_Reward_Logs/\n"
     ]
    }
   ],
   "source": [
    "names = []\n",
    "legends = []\n",
    "t_maxs = []\n",
    "\n",
    "            \n",
    "# Negative reward threshold\n",
    "for ns in [0.5, 0.7,  0.9]:\n",
    "    names += [\"_NegativeReward_{}_\".format(ns)]\n",
    "    legends += [\"NegativeReward_{}_Threshold\".format(ns)]\n",
    "    t_maxs += [300001]\n",
    "            \n",
    "    \n",
    "# direc = \"/home/scratch/tabhid/Log_Files/Epsilon_Decay_Logs/\"\n",
    "direc = \"/home/tabz/tmp/Big_Negative_Reward_Logs/\"\n",
    "# directories =  [\"{}/{}\".format(dropbox_direc, \"Maze_5_Logs/\")] + 3 * [\"{}/{}\".format(dropbox_direc, \"Maze_5_Batch_Sizes_Logs/\")] \n",
    "# directories += [direc + \"/BanditLogs/\"] * 3\n",
    "directories = direc\n",
    "    \n",
    "print(names)\n",
    "print(t_maxs)\n",
    "print(directories)"
   ]
  },
  {
   "cell_type": "code",
   "execution_count": 16,
   "metadata": {
    "collapsed": false,
    "deletable": true,
    "editable": true
   },
   "outputs": [
    {
     "name": "stdout",
     "output_type": "stream",
     "text": [
      "['k_OptimisticAction_0.0001_Scaler', 'k_OptimisticAction_0.0005_Scaler', 'k_OptimisticAction_0.001_Scaler', 'k_OptimisticAction_0.005_Scaler']\n",
      "[300001, 300001, 300001, 300001]\n",
      "/home/scratch/tabhid/Log_Files/Bandit_Small_Tau_Logs/\n"
     ]
    }
   ],
   "source": [
    "names = []\n",
    "legends = []\n",
    "t_maxs = []\n",
    "\n",
    "            \n",
    "# Bandit Tau\n",
    "for tau in [0.0001, 0.0005, 0.001, 0.005]:\n",
    "    for negative_reward in [False]:\n",
    "        if negative_reward:\n",
    "            names += [\"NegativeReward_*_OptimisticAction_{}_Scaler\".format(tau)]\n",
    "            legends += [\"Optim Bandit {} Tau Neg Reward\".format(tau)]\n",
    "        else:\n",
    "            names += [\"k_OptimisticAction_{}_Scaler\".format(tau)]\n",
    "            legends += [\"Optim Bandit {} Tau\".format(tau)]\n",
    "        t_maxs += [300001]\n",
    "            \n",
    "    \n",
    "direc = \"/home/scratch/tabhid/Log_Files/Bandit_Small_Tau_Logs/\"\n",
    "# direc = \"/home/tabz/tmp/Bandit_Tau_Logs/\"\n",
    "# directories =  [\"{}/{}\".format(dropbox_direc, \"Maze_5_Logs/\")] + 3 * [\"{}/{}\".format(dropbox_direc, \"Maze_5_Batch_Sizes_Logs/\")] \n",
    "# directories += [direc + \"/BanditLogs/\"] * 3\n",
    "directories = direc\n",
    "    \n",
    "print(names)\n",
    "print(t_maxs)\n",
    "print(directories)"
   ]
  },
  {
   "cell_type": "code",
   "execution_count": 17,
   "metadata": {
    "collapsed": false,
    "deletable": true,
    "editable": true
   },
   "outputs": [
    {
     "name": "stdout",
     "output_type": "stream",
     "text": [
      "['Batch_64_XpSize_600k', 'Batch_128_XpSize_600k', 'Batch_256_XpSize_600k']\n",
      "[600001, 600001, 600001]\n",
      "/home/tabz/tmp/logfiles/MedMaze10/Batch_Size_Logs/\n"
     ]
    }
   ],
   "source": [
    "names = []\n",
    "legends = []\n",
    "t_maxs = []\n",
    "\n",
    "            \n",
    "# Batch Size\n",
    "for xp in [600]:\n",
    "    for bs in [64, 128, 256]:\n",
    "        names += [\"Batch_{}_XpSize_{}k\".format(bs, xp)]\n",
    "        legends += [\"Batch {} Xp {}k\".format(bs, xp)]\n",
    "        t_maxs += [600001]\n",
    "            \n",
    "    \n",
    "# direc = \"/home/scratch/tabhid/Log_Files/Xp_Logs/\"\n",
    "direc = \"/home/tabz/tmp/logfiles/MedMaze10/Batch_Size_Logs/\"\n",
    "# directories =  [\"{}/{}\".format(dropbox_direc, \"Maze_5_Logs/\")] + 3 * [\"{}/{}\".format(dropbox_direc, \"Maze_5_Batch_Sizes_Logs/\")] \n",
    "# directories += [direc + \"/BanditLogs/\"] * 3\n",
    "directories = direc\n",
    "    \n",
    "print(names)\n",
    "print(t_maxs)\n",
    "print(directories)"
   ]
  },
  {
   "cell_type": "code",
   "execution_count": 18,
   "metadata": {
    "collapsed": false,
    "deletable": true,
    "editable": true
   },
   "outputs": [
    {
     "name": "stdout",
     "output_type": "stream",
     "text": [
      "['ETrace_0.7_6_States', 'ETrace_0.9_6_States', 'ETrace_1_6_States']\n",
      "[600001, 600001, 600001]\n",
      "/home/tabz/tmp/logfiles/MedMaze10/Elig_3_Logs/\n"
     ]
    }
   ],
   "source": [
    "names = []\n",
    "legends = []\n",
    "t_maxs = []\n",
    "\n",
    "            \n",
    "# Elig States\n",
    "for lamb in [0.7, 0.9, 1]:\n",
    "    for states in [6]:\n",
    "        names += [\"ETrace_{}_{}_States\".format(lamb, states)]\n",
    "        legends += [\"Traces {} Lambda {} States 3 Gap\".format(lamb, states)]\n",
    "        t_maxs += [600001]\n",
    "            \n",
    "    \n",
    "# direc = \"/home/scratch/tabhid/Log_Files/Xp_Logs/\"\n",
    "direc = \"/home/tabz/tmp/logfiles/MedMaze10/Elig_3_Logs/\"\n",
    "# directories =  [\"{}/{}\".format(dropbox_direc, \"Maze_5_Logs/\")] + 3 * [\"{}/{}\".format(dropbox_direc, \"Maze_5_Batch_Sizes_Logs/\")] \n",
    "# directories += [direc + \"/BanditLogs/\"] * 3\n",
    "directories = direc\n",
    "    \n",
    "print(names)\n",
    "print(t_maxs)\n",
    "print(directories)"
   ]
  },
  {
   "cell_type": "code",
   "execution_count": 19,
   "metadata": {
    "collapsed": false,
    "deletable": true,
    "editable": true
   },
   "outputs": [
    {
     "name": "stdout",
     "output_type": "stream",
     "text": [
      "['Iters_1_', 'Iters_2_', 'Iters_4_', 'Iters_8_', 'Iters_16_']\n",
      "[600001, 600001, 600001, 600001, 600001]\n",
      "/home/tabz/tmp/logfiles/MedMaze10/Iters_Logs/\n"
     ]
    }
   ],
   "source": [
    "names = []\n",
    "legends = []\n",
    "t_maxs = []\n",
    "\n",
    "            \n",
    "# Iterations\n",
    "for i in [1, 2, 4, 8, 16]:\n",
    "    names += [\"Iters_{}_\".format(i)]\n",
    "    legends += [\"{} Iterations\".format(i)]\n",
    "    t_maxs += [600001]\n",
    "            \n",
    "    \n",
    "# direc = \"/home/scratch/tabhid/Log_Files/Xp_Logs/\"\n",
    "direc = \"/home/tabz/tmp/logfiles/MedMaze10/Iters_Logs/\"\n",
    "# directories =  [\"{}/{}\".format(dropbox_direc, \"Maze_5_Logs/\")] + 3 * [\"{}/{}\".format(dropbox_direc, \"Maze_5_Batch_Sizes_Logs/\")] \n",
    "# directories += [direc + \"/BanditLogs/\"] * 3\n",
    "directories = direc\n",
    "    \n",
    "print(names)\n",
    "print(t_maxs)\n",
    "print(directories)"
   ]
  },
  {
   "cell_type": "code",
   "execution_count": 20,
   "metadata": {
    "collapsed": false,
    "deletable": true,
    "editable": true
   },
   "outputs": [
    {
     "name": "stdout",
     "output_type": "stream",
     "text": [
      "['k_CountEps_', 'Trajectory_0.2_', 'Trajectory_0.5_', 'Trajectory_0.75_', 'Trajectory_0.8_', 'Trajectory_0.9_']\n",
      "[600001, 600001, 600001, 600001, 600001, 600001]\n",
      "/home/tabz/tmp/logfiles/MedMaze10/Trajectory_Logs/\n"
     ]
    }
   ],
   "source": [
    "names = []\n",
    "legends = []\n",
    "t_maxs = []\n",
    "\n",
    "names += [\"k_CountEps_\"]\n",
    "legends += [\"No Trajectory\"]\n",
    "t_maxs += [600001]\n",
    "            \n",
    "# Trajectory\n",
    "for t in [0.2, 0.5, 0.75, 0.8, 0.9]:\n",
    "    names += [\"Trajectory_{}_\".format(t)]\n",
    "    legends += [\"Trajectory {} Save\".format(t)]\n",
    "    t_maxs += [600001]\n",
    "            \n",
    "    \n",
    "# direc = \"/home/scratch/tabhid/Log_Files/Xp_Logs/\"\n",
    "direc = \"/home/tabz/tmp/logfiles/MedMaze10/Trajectory_Logs/\"\n",
    "# directories =  [\"{}/{}\".format(dropbox_direc, \"Maze_5_Logs/\")] + 3 * [\"{}/{}\".format(dropbox_direc, \"Maze_5_Batch_Sizes_Logs/\")] \n",
    "# directories += [direc + \"/BanditLogs/\"] * 3\n",
    "directories = direc\n",
    "    \n",
    "print(names)\n",
    "print(t_maxs)\n",
    "print(directories)"
   ]
  },
  {
   "cell_type": "code",
   "execution_count": 21,
   "metadata": {
    "collapsed": false,
    "deletable": true,
    "editable": true
   },
   "outputs": [
    {
     "name": "stdout",
     "output_type": "stream",
     "text": [
      "['XpSize_30k*CountDecay_0.9999', 'XpSize_30k*CountDecay_0.999999', 'XpSize_30k*CountDecay_1', 'XpSize_60k*CountDecay_0.9999', 'XpSize_60k*CountDecay_0.999999', 'XpSize_60k*CountDecay_1', 'XpSize_100k*CountDecay_0.9999', 'XpSize_100k*CountDecay_0.999999', 'XpSize_100k*CountDecay_1']\n",
      "[600001, 600001, 600001, 600001, 600001, 600001, 600001, 600001, 600001]\n",
      "/home/tabz/tmp/logfiles/CountXpSort/\n"
     ]
    }
   ],
   "source": [
    "names = []\n",
    "legends = []\n",
    "t_maxs = []\n",
    "          \n",
    "# Count Xp Sort\n",
    "for xp in [30, 60, 100]:\n",
    "    for decay in [0.9999, 0.999999, 1]:\n",
    "        names += [\"XpSize_{}k*CountDecay_{}\".format(xp, decay)]\n",
    "        legends += [\"CountXp Sort {}k Xp {} CountDecay\".format(xp, decay)]\n",
    "        t_maxs += [600001]\n",
    "            \n",
    "    \n",
    "# direc = \"/home/scratch/tabhid/Log_Files/Xp_Logs/\"\n",
    "direc = \"/home/tabz/tmp/logfiles/CountXpSort/\"\n",
    "# directories =  [\"{}/{}\".format(dropbox_direc, \"Maze_5_Logs/\")] + 3 * [\"{}/{}\".format(dropbox_direc, \"Maze_5_Batch_Sizes_Logs/\")] \n",
    "# directories += [direc + \"/BanditLogs/\"] * 3\n",
    "directories = direc\n",
    "    \n",
    "print(names)\n",
    "print(t_maxs)\n",
    "print(directories)"
   ]
  },
  {
   "cell_type": "code",
   "execution_count": 22,
   "metadata": {
    "collapsed": false,
    "deletable": true,
    "editable": true
   },
   "outputs": [
    {
     "name": "stdout",
     "output_type": "stream",
     "text": [
      "['OptimisticAction_0.1', 'OptimisticAction_1', 'OptimisticAction_10', 'k_CountEps']\n",
      "[600001, 600001, 600001, 600001]\n",
      "/home/tabz/tmp/logfiles/MedMaze12/\n"
     ]
    }
   ],
   "source": [
    "names = []\n",
    "legends = []\n",
    "t_maxs = []\n",
    "          \n",
    "# MedMaze12\n",
    "\n",
    "#Bandits\n",
    "for os in [0.1, 1, 10]:\n",
    "    names += [\"OptimisticAction_{}\".format(os)]\n",
    "    legends += [\"Bandit {} Scaler\".format(os)]\n",
    "    t_maxs += [600001]\n",
    "    \n",
    "# #-ve reward\n",
    "# for nr in [0.5, 0.7]:\n",
    "#     names += [\"NegativeReward_{}\".format(nr)]\n",
    "#     legends += [\"Negative Reward {}\".format(nr)]\n",
    "#     t_maxs += [600001]\n",
    "    \n",
    "#CountXp\n",
    "names += [\"k_CountEps\"]\n",
    "legends += [\"Counts\"]\n",
    "t_maxs += [600001]\n",
    "            \n",
    "    \n",
    "# direc = \"/home/scratch/tabhid/Log_Files/Xp_Logs/\"\n",
    "direc = \"/home/tabz/tmp/logfiles/MedMaze12/\"\n",
    "# directories =  [\"{}/{}\".format(dropbox_direc, \"Maze_5_Logs/\")] + 3 * [\"{}/{}\".format(dropbox_direc, \"Maze_5_Batch_Sizes_Logs/\")] \n",
    "# directories += [direc + \"/BanditLogs/\"] * 3\n",
    "directories = direc\n",
    "    \n",
    "print(names)\n",
    "print(t_maxs)\n",
    "print(directories)"
   ]
  },
  {
   "cell_type": "code",
   "execution_count": 23,
   "metadata": {
    "collapsed": false,
    "deletable": true,
    "editable": true
   },
   "outputs": [
    {
     "name": "stdout",
     "output_type": "stream",
     "text": [
      "['k_CountEps*Stale_50k', 'Prioritized*Stale_50k', 'Prioritized_IS*Stale_50k', 'k_CountEps*Stale_300k', 'Prioritized*Stale_300k', 'Prioritized_IS*Stale_300k']\n",
      "[600001, 600001, 600001, 600001, 600001, 600001]\n",
      "/home/tabz/tmp/logfiles/Prioritized_Logs/\n"
     ]
    }
   ],
   "source": [
    "names = []\n",
    "legends = []\n",
    "t_maxs = []\n",
    "          \n",
    "# Prioritized replay stuff\n",
    "for fresh in [50, 300]:\n",
    "    for p in [None, \"P\", \"P_IS\"]:\n",
    "        if p is \"P\":\n",
    "            names += [\"Prioritized*Stale_{}k\".format(fresh)]\n",
    "            legends += [\"Prioritized {}k Fresh Counts\".format(fresh)]\n",
    "        elif p is \"P_IS\":\n",
    "            names += [\"Prioritized_IS*Stale_{}k\".format(fresh)]\n",
    "            legends += [\"Prioritized IS {}k Fresh Counts\".format(fresh)]\n",
    "        else:\n",
    "            names += [\"k_CountEps*Stale_{}k\".format(fresh)]\n",
    "            legends += [\"{}k Fresh Counts\".format(fresh)]\n",
    "        t_maxs += [600001]\n",
    "    \n",
    "direc = \"/home/tabz/tmp/logfiles/Prioritized_Logs/\"\n",
    "env = \"Med Maze 10\"\n",
    "directories = direc\n",
    "    \n",
    "print(names)\n",
    "print(t_maxs)\n",
    "print(directories)"
   ]
  },
  {
   "cell_type": "code",
   "execution_count": 24,
   "metadata": {
    "collapsed": false,
    "deletable": true,
    "editable": true
   },
   "outputs": [
    {
     "name": "stdout",
     "output_type": "stream",
     "text": [
      "['_0.1_Mix', '_0.3_Mix', '_0.5_Mix', '_0.7_Mix', '_0.9_Mix']\n",
      "[600001, 600001, 600001, 600001, 600001]\n",
      "/home/tabz/tmp/logfiles/Mixing_Logs/\n"
     ]
    }
   ],
   "source": [
    "names = []\n",
    "legends = []\n",
    "t_maxs = []\n",
    "          \n",
    "# Mixing\n",
    "for mix in [0.1, 0.3, 0.5, 0.7, 0.9]:\n",
    "    names += [\"_{}_Mix\".format(mix)]\n",
    "    legends += [\"{} Mixing\".format(mix)]\n",
    "    t_maxs += [600001]\n",
    "    \n",
    "direc = \"/home/tabz/tmp/logfiles/Mixing_Logs/\"\n",
    "directories = direc\n",
    "\n",
    "env =\"Med Maze 10\"\n",
    "    \n",
    "print(names)\n",
    "print(t_maxs)\n",
    "print(directories)"
   ]
  },
  {
   "cell_type": "code",
   "execution_count": 25,
   "metadata": {
    "collapsed": false,
    "deletable": true,
    "editable": true
   },
   "outputs": [
    {
     "name": "stdout",
     "output_type": "stream",
     "text": [
      "['OptimisticAction_0.1', 'OptimisticAction_0.01', 'OptimisticAction_0.001', 'CountEps_0.9999_', 'CountEps_0.999_', 'CountEps_0.99_', 'CountEps_0.9_']\n",
      "[600001, 600001, 600001, 600001, 600001, 600001, 600001]\n",
      "/home/tabz/tmp/logfiles/Frontier_Logs/\n"
     ]
    }
   ],
   "source": [
    "names = []\n",
    "legends = []\n",
    "t_maxs = []\n",
    "          \n",
    "# MedMaze12\n",
    "\n",
    "#Bandits\n",
    "for os in [0.1, 0.01, 0.001]:\n",
    "    names += [\"OptimisticAction_{}\".format(os)]\n",
    "    legends += [\"Bandit {} Scaler\".format(os)]\n",
    "    t_maxs += [600001]\n",
    "    \n",
    "#Epsilon decay\n",
    "for decay in [0.9999, 0.999, 0.99, 0.9]:\n",
    "    names += [\"CountEps_{}_\".format(decay)]\n",
    "    legends += [\"Epsilon Scaling {} Decay\".format(decay)]\n",
    "    t_maxs += [600001]\n",
    "            \n",
    "    \n",
    "direc = \"/home/tabz/tmp/logfiles/Frontier_Logs/\"\n",
    "directories = direc\n",
    "env = \"Med Maze 12\"\n",
    "    \n",
    "print(names)\n",
    "print(t_maxs)\n",
    "print(directories)"
   ]
  },
  {
   "cell_type": "code",
   "execution_count": 26,
   "metadata": {
    "collapsed": false,
    "deletable": true,
    "editable": true
   },
   "outputs": [
    {
     "name": "stdout",
     "output_type": "stream",
     "text": [
      "['NegativeReward_0.1', 'NegativeReward_0.2']\n",
      "[600001, 600001]\n",
      "/home/tabz/tmp/Neg/\n"
     ]
    }
   ],
   "source": [
    "names = []\n",
    "legends = []\n",
    "t_maxs = []\n",
    "          \n",
    "# MedMaze10 Set replay negative reward\n",
    "\n",
    "for neg_reward in [0.1, 0.2]:\n",
    "    names += [\"NegativeReward_{}\".format(neg_reward)]\n",
    "    legends += [\"Negative Reward {} Set Replay\".format(neg_reward)]\n",
    "    t_maxs += [600001]            \n",
    "    \n",
    "direc = \"/home/tabz/tmp/Neg/\"\n",
    "directories = direc\n",
    "env = \"Med Maze 10 Set Replay Negative Reward\"\n",
    "    \n",
    "print(names)\n",
    "print(t_maxs)\n",
    "print(directories)"
   ]
  },
  {
   "cell_type": "code",
   "execution_count": 27,
   "metadata": {
    "collapsed": false,
    "deletable": true,
    "editable": true
   },
   "outputs": [
    {
     "name": "stdout",
     "output_type": "stream",
     "text": [
      "['_10_Step*_SetReplay_5_', '_10_Step*_SetReplay_10_', '_10_Step*_SetReplay_100_', '_100_Step*_SetReplay_5_', '_100_Step*_SetReplay_10_', '_100_Step*_SetReplay_100_']\n",
      "[600001, 600001, 600001, 600001, 600001, 600001]\n",
      "/home/tabz/tmp/logfiles/SetReplayNum/\n"
     ]
    }
   ],
   "source": [
    "names = []\n",
    "legends = []\n",
    "t_maxs = []\n",
    "          \n",
    "# MedMaze10 Set replay \n",
    "\n",
    "for step in [10, 100]:\n",
    "    for replay_num in [5, 10, 100]:\n",
    "        names += [\"_{}_Step*_SetReplay_{}_\".format(step, replay_num)]\n",
    "        legends += [\"{} Step {} SetReplay\".format(step, replay_num)]\n",
    "        t_maxs += [600001]\n",
    "    \n",
    "direc = \"/home/tabz/tmp/logfiles/SetReplayNum/\"\n",
    "directories = direc\n",
    "env = \"Med Maze 10 Set Replay Num\"\n",
    "    \n",
    "print(names)\n",
    "print(t_maxs)\n",
    "print(directories)"
   ]
  },
  {
   "cell_type": "code",
   "execution_count": 28,
   "metadata": {
    "collapsed": false,
    "deletable": true,
    "editable": true
   },
   "outputs": [
    {
     "name": "stdout",
     "output_type": "stream",
     "text": [
      "['k_BonusClip*Stale_50k', 'Prioritized*Stale_50k', 'Prioritized_OnBonus_IS*Stale_50k', 'k_BonusClip*Stale_300k', 'Prioritized*Stale_300k', 'Prioritized_OnBonus_IS*Stale_300k']\n",
      "[800001, 800001, 800001, 800001, 800001, 800001]\n",
      "/home/tabz/tmp/logfiles/Density/\n"
     ]
    }
   ],
   "source": [
    "names = []\n",
    "legends = []\n",
    "t_maxs = []\n",
    "          \n",
    "# Prioritized replay stuff\n",
    "for fresh in [50, 300]:\n",
    "        names += [\"k_BonusClip*Stale_{}k\".format(fresh)]\n",
    "        legends += [\"Uniform {}k Fresh Counts\".format(fresh)]\n",
    "        t_maxs += [800001]\n",
    "        \n",
    "        names += [\"Prioritized*Stale_{}k\".format(fresh)]\n",
    "        legends += [\"Prioritized {}k Fresh Counts\".format(fresh)]\n",
    "        t_maxs += [800001]\n",
    "\n",
    "        names += [\"Prioritized_OnBonus_IS*Stale_{}k\".format(fresh)]\n",
    "        legends += [\"Prioritized IS {}k Fresh Counts\".format(fresh)]\n",
    "        t_maxs += [800001]\n",
    "    \n",
    "direc = \"/home/tabz/tmp/logfiles/Density/\"\n",
    "env = \"Med Maze 10 Prioritized On Density\"\n",
    "directories = direc\n",
    "    \n",
    "print(names)\n",
    "print(t_maxs)\n",
    "print(directories)"
   ]
  },
  {
   "cell_type": "code",
   "execution_count": 29,
   "metadata": {
    "collapsed": false,
    "deletable": true,
    "editable": true
   },
   "outputs": [
    {
     "name": "stdout",
     "output_type": "stream",
     "text": [
      "['k_BonusClip', 'Prioritized_IS', 'Prioritized_MinusPseudo']\n",
      "[800001, 800001, 800001]\n",
      "/home/tabz/tmp/logfiles/MinusPseudo/\n"
     ]
    }
   ],
   "source": [
    "names = []\n",
    "legends = []\n",
    "t_maxs = []\n",
    "          \n",
    "# Prioritized replay stuff musing pseudo rewards\n",
    "\n",
    "names += [\"k_BonusClip\"]\n",
    "legends += [\"Uniform\"]\n",
    "\n",
    "names += [\"Prioritized_IS\"]\n",
    "legends += [\"Prioritised minus pseudo rewards IS\"]\n",
    "\n",
    "names += [\"Prioritized_MinusPseudo\"]\n",
    "legends += [\"Prioritized minus pseudo rewards\"]\n",
    "\n",
    "t_maxs += [800001 for _ in range(3)]\n",
    "    \n",
    "direc = \"/home/tabz/tmp/logfiles/MinusPseudo/\"\n",
    "env = \"Med Maze 10 Prioritized Minus PseudoReward\"\n",
    "directories = direc\n",
    "    \n",
    "print(names)\n",
    "print(t_maxs)\n",
    "print(directories)"
   ]
  },
  {
   "cell_type": "code",
   "execution_count": 30,
   "metadata": {
    "collapsed": false,
    "deletable": true,
    "editable": true
   },
   "outputs": [
    {
     "name": "stdout",
     "output_type": "stream",
     "text": [
      "['Prioritized_-1_MinusPseudo_*Stale_50k', 'Prioritized_1_MinusPseudo_*Stale_50k', 'Prioritized_-1_MinusPseudo_*Stale_300k', 'Prioritized_1_MinusPseudo_*Stale_300k']\n",
      "[800001, 800001, 800001, 800001]\n",
      "/home/tabz/tmp/FixedP/\n"
     ]
    }
   ],
   "source": [
    "names = []\n",
    "legends = []\n",
    "t_maxs = []\n",
    "          \n",
    "# Prioritized replay stuff\n",
    "for fresh in [50, 300]:\n",
    "    for scaler in [-1, 1]:\n",
    "        \n",
    "        names += [\"Prioritized_{}_MinusPseudo_*Stale_{}k\".format(scaler, fresh)]\n",
    "        legends += [\"{} Prioritized {}k Fresh Counts\".format(scaler, fresh)]\n",
    "        t_maxs += [800001]\n",
    "\n",
    "#         names += [\"Prioritized_IS_{}_MinusPseudo_*Stale_{}k\".format(scaler, fresh)]\n",
    "#         legends += [\"{} Prioritized IS {}k Fresh Counts\".format(scaler, fresh)]\n",
    "#         t_maxs += [800001]\n",
    "    \n",
    "direc = \"/home/tabz/tmp/FixedP/\"\n",
    "env = \"Med Maze 10 Prioritized On TD Error Minus Scaled PseudoReward\"\n",
    "directories = direc\n",
    "    \n",
    "print(names)\n",
    "print(t_maxs)\n",
    "print(directories)"
   ]
  },
  {
   "cell_type": "code",
   "execution_count": 31,
   "metadata": {
    "collapsed": false,
    "deletable": true,
    "editable": true
   },
   "outputs": [
    {
     "name": "stdout",
     "output_type": "stream",
     "text": [
      "['XpSize_100k_BonusClip', 'XpSize_100k_Prioritized_Bonus', 'XpSize_100k_Prioritized_IS', 'XpSize_500k_BonusClip', 'XpSize_500k_Prioritized_Bonus', 'XpSize_500k_Prioritized_IS']\n",
      "[1000001, 1000001, 1000001, 1000001, 1000001, 1000001]\n",
      "/home/tabz/tmp/Maze12Baselines/\n"
     ]
    }
   ],
   "source": [
    "names = []\n",
    "legends = []\n",
    "t_maxs = []\n",
    "          \n",
    "# Prioritized replay stuff\n",
    "for xp in [100, 500]:\n",
    "        names += [\"XpSize_{}k_BonusClip\".format(xp)]\n",
    "        legends += [\"Uniform {}k XP\".format(xp)]\n",
    "        t_maxs += [1000001]\n",
    "        \n",
    "        names += [\"XpSize_{}k_Prioritized_Bonus\".format(xp)]\n",
    "        legends += [\"Prioritized {}k XP\".format(xp)]\n",
    "        t_maxs += [1000001]\n",
    "\n",
    "        names += [\"XpSize_{}k_Prioritized_IS\".format(xp)]\n",
    "        legends += [\"Prioritized IS {}k XP\".format(xp)]\n",
    "        t_maxs += [1000001]\n",
    "    \n",
    "direc = \"/home/tabz/tmp/Maze12Baselines/\"\n",
    "env = \"Med Maze 12\"\n",
    "directories = direc\n",
    "    \n",
    "print(names)\n",
    "print(t_maxs)\n",
    "print(directories)"
   ]
  },
  {
   "cell_type": "code",
   "execution_count": 32,
   "metadata": {
    "collapsed": false,
    "deletable": true,
    "editable": true
   },
   "outputs": [
    {
     "name": "stdout",
     "output_type": "stream",
     "text": [
      "['XpSize_100k_Prioritized_0_NScaler_', 'XpSize_100k_Prioritized_1.5_NScaler_', 'XpSize_100k_Prioritized_-1.5_NScaler_', 'XpSize_500k_Prioritized_0_NScaler_', 'XpSize_500k_Prioritized_1.5_NScaler_', 'XpSize_500k_Prioritized_-1.5_NScaler_']\n",
      "[1000001, 1000001, 1000001, 1000001, 1000001, 1000001]\n",
      "/home/tabz/tmp/Maze12Prioritized/\n"
     ]
    }
   ],
   "source": [
    "names = []\n",
    "legends = []\n",
    "t_maxs = []\n",
    "          \n",
    "# Prioritized replay stuff\n",
    "for xp in [100, 500]:\n",
    "    for nscaler in [0, 1.5, -1.5]:\n",
    "        names += [\"XpSize_{}k_Prioritized_{}_NScaler_\".format(xp, nscaler)]\n",
    "        legends += [\"Prioritized {}k XP {} NScaler\".format(xp, nscaler)]\n",
    "        t_maxs += [1000001]\n",
    "    \n",
    "direc = \"/home/tabz/tmp/Maze12Prioritized/\"\n",
    "env = \"Med Maze 12 50k Fresh Counts Negative TD Error Scaling\"\n",
    "directories = direc\n",
    "    \n",
    "print(names)\n",
    "print(t_maxs)\n",
    "print(directories)"
   ]
  },
  {
   "cell_type": "code",
   "execution_count": 33,
   "metadata": {
    "collapsed": false
   },
   "outputs": [
    {
     "name": "stdout",
     "output_type": "stream",
     "text": [
      "['DensityP_BonusClip', 'DensityP_IS_BonusClip']\n",
      "[800001, 800001]\n",
      "/home/scratch/tabhid/Log_Files/DensityP/\n"
     ]
    }
   ],
   "source": [
    "names = []\n",
    "legends = []\n",
    "t_maxs = []\n",
    "          \n",
    "# Density Prioritization\n",
    "names += [\"DensityP_BonusClip\"]\n",
    "legends += [\"DensityP\"]\n",
    "t_maxs += [800001]\n",
    "\n",
    "names += [\"DensityP_IS_BonusClip\"]\n",
    "legends += [\"DensityP IS\"]\n",
    "t_maxs += [800001]\n",
    "    \n",
    "direc = \"/home/scratch/tabhid/Log_Files/DensityP/\"\n",
    "env = \"Med Maze 10 50k Fresh Counts Density Prioritization\"\n",
    "directories = direc\n",
    "    \n",
    "print(names)\n",
    "print(t_maxs)\n",
    "print(directories)"
   ]
  },
  {
   "cell_type": "code",
   "execution_count": 34,
   "metadata": {
    "collapsed": false
   },
   "outputs": [
    {
     "name": "stdout",
     "output_type": "stream",
     "text": [
      "['_0.1_Alpha', '_0.3_Alpha', '_0.5_Alpha', '_0.7_Alpha', '_0.9_Alpha']\n",
      "[800001, 800001, 800001, 800001, 800001]\n",
      "/home/scratch/tabhid/Log_Files/Alpha/\n"
     ]
    }
   ],
   "source": [
    "names = []\n",
    "legends = []\n",
    "t_maxs = []\n",
    "          \n",
    "# Prioritized replay alpha\n",
    "for alpha in [0.1, 0.3, 0.5, 0.7, 0.9]:\n",
    "    names += [\"_{}_Alpha\".format(alpha)]\n",
    "    legends += [\"{} Alpha\".format(alpha)]\n",
    "    t_maxs += [800001]\n",
    "    \n",
    "direc = \"/home/scratch/tabhid/Log_Files/Alpha/\"\n",
    "env = \"Med Maze 10 50k Fresh Counts 1.5 NScaler Alpha\"\n",
    "directories = direc\n",
    "    \n",
    "print(names)\n",
    "print(t_maxs)\n",
    "print(directories)"
   ]
  },
  {
   "cell_type": "code",
   "execution_count": 35,
   "metadata": {
    "collapsed": false
   },
   "outputs": [
    {
     "name": "stdout",
     "output_type": "stream",
     "text": [
      "['XpSize_100k_*_0.5_NScaler_*Stale_50k_', 'XpSize_100k_*_0.5_NScaler_*Stale_500k_', 'XpSize_100k_*_2_NScaler_*Stale_50k_', 'XpSize_100k_*_2_NScaler_*Stale_500k_', 'XpSize_500k_*_0.5_NScaler_*Stale_50k_', 'XpSize_500k_*_0.5_NScaler_*Stale_500k_', 'XpSize_500k_*_2_NScaler_*Stale_50k_', 'XpSize_500k_*_2_NScaler_*Stale_500k_']\n",
      "[1000001, 1000001, 1000001, 1000001, 1000001, 1000001, 1000001, 1000001]\n",
      "/home/tabz/tmp/Maze12Alpha/\n",
      "\n",
      " 8 Lines\n"
     ]
    }
   ],
   "source": [
    "names = []\n",
    "legends = []\n",
    "t_maxs = []\n",
    "          \n",
    "# Prioritized replay stuff\n",
    "for xp in [100, 500]:\n",
    "    for nscaler in [0.5, 2]:\n",
    "        for fresh in [50, 500]:\n",
    "            names += [\"XpSize_{}k_*_{}_NScaler_*Stale_{}k_\".format(xp, nscaler, fresh)]\n",
    "            legends += [\"Prioritized {}k XP {} NScaler {}k Fresh\".format(xp, nscaler, fresh)]\n",
    "            t_maxs += [1000001]\n",
    "    \n",
    "direc = \"/home/tabz/tmp/Maze12Alpha/\"\n",
    "env = \"Med Maze 12 50k Negative TD Error Scaling Alpha 0.5\"\n",
    "directories = direc\n",
    "    \n",
    "print(names)\n",
    "print(t_maxs)\n",
    "print(directories)\n",
    "print(\"\\n\", \"{} Lines\".format(len(names)))"
   ]
  },
  {
   "cell_type": "code",
   "execution_count": 36,
   "metadata": {
    "collapsed": false
   },
   "outputs": [
    {
     "name": "stdout",
     "output_type": "stream",
     "text": [
      "['_0.3_Alpha*Stale_50k_', '_0.3_Alpha*Stale_500k_', '_0.5_Alpha*Stale_50k_', '_0.5_Alpha*Stale_500k_']\n",
      "[1000001, 1000001, 1000001, 1000001]\n",
      "/home/tabz/tmp/Maze12_Prioritized_Alpha//\n",
      "\n",
      " 4 Lines\n"
     ]
    }
   ],
   "source": [
    "names = []\n",
    "legends = []\n",
    "t_maxs = []\n",
    "          \n",
    "# Prioritized replay stuff\n",
    "for alpha in [0.3, 0.5]:\n",
    "    for fresh in [50, 500]:\n",
    "        names += [\"_{}_Alpha*Stale_{}k_\".format(alpha, fresh)]\n",
    "        legends += [\"Prioritized {} Alpha {}k Fresh\".format(alpha, fresh)]\n",
    "        t_maxs += [1000001]\n",
    "    \n",
    "direc = \"/home/tabz/tmp/Maze12_Prioritized_Alpha//\"\n",
    "env = \"Med Maze 12 Alpha 500k Replay\"\n",
    "directories = direc\n",
    "    \n",
    "print(names)\n",
    "print(t_maxs)\n",
    "print(directories)\n",
    "print(\"\\n\", \"{} Lines\".format(len(names)))"
   ]
  },
  {
   "cell_type": "code",
   "execution_count": 37,
   "metadata": {
    "collapsed": false
   },
   "outputs": [
    {
     "name": "stdout",
     "output_type": "stream",
     "text": [
      "['_100_Step*_1_NScaler', '_100_Step*_2_NScaler', '_100_Step*_4_NScaler', '_100_Step*_8_NScaler']\n",
      "[600001, 600001, 600001, 600001]\n",
      "/home/tabz/tmp/Maze14_Nscaling/\n",
      "\n",
      " 4 Lines\n"
     ]
    }
   ],
   "source": [
    "names = []\n",
    "legends = []\n",
    "t_maxs = []\n",
    "          \n",
    "# Prioritized replay stuff\n",
    "for step in [100]:\n",
    "    for nscaler in [1, 2, 4, 8]:\n",
    "        names += [\"_{}_Step*_{}_NScaler\".format(step, nscaler)]\n",
    "        legends += [\"{} Step {} Nscaling\".format(step, nscaler)]\n",
    "        t_maxs += [600001]\n",
    "    \n",
    "direc = \"/home/tabz/tmp/Maze14_Nscaling/\"\n",
    "env = \"Med Maze 14 Prioritized 300k XP Replay Stale\"\n",
    "directories = direc\n",
    "    \n",
    "print(names)\n",
    "print(t_maxs)\n",
    "print(directories)\n",
    "print(\"\\n\", \"{} Lines\".format(len(names)))"
   ]
  },
  {
   "cell_type": "code",
   "execution_count": 38,
   "metadata": {
    "collapsed": false
   },
   "outputs": [
    {
     "name": "stdout",
     "output_type": "stream",
     "text": [
      "['_CountEps_0.9_Decay', '_CountEps_0.99_Decay', '_CountEps_0.999_Decay', '_OptimisticAction_']\n",
      "[600001, 600001, 600001, 600001]\n",
      "/home/tabz/tmp/Maze14_Frontier/\n",
      "\n",
      " 4 Lines\n"
     ]
    }
   ],
   "source": [
    "names = []\n",
    "legends = []\n",
    "t_maxs = []\n",
    "          \n",
    "# Prioritized replay stuff\n",
    "for eps_decay in [0.9, 0.99, 0.999]:\n",
    "    names += [\"_CountEps_{}_Decay\".format(eps_decay)]\n",
    "    legends += [\"{} Eps Decay\".format(eps_decay)]\n",
    "    t_maxs += [600001]\n",
    "    \n",
    "names += [\"_OptimisticAction_\"]\n",
    "legends += [\"0.1 Bandit\"]\n",
    "t_maxs += [600001]\n",
    "    \n",
    "direc = \"/home/tabz/tmp/Maze14_Frontier/\"\n",
    "env = \"Med Maze 14 Prioritized 300k XP Replay Stale Frontier\"\n",
    "directories = direc\n",
    "    \n",
    "print(names)\n",
    "print(t_maxs)\n",
    "print(directories)\n",
    "print(\"\\n\", \"{} Lines\".format(len(names)))"
   ]
  },
  {
   "cell_type": "code",
   "execution_count": 39,
   "metadata": {
    "collapsed": false
   },
   "outputs": [
    {
     "name": "stdout",
     "output_type": "stream",
     "text": [
      "['_0.1_Alpha_16_NScaler*_OptimisticAction_', '_0.1_Alpha_16_NScaler*_CountEps_', '_0.3_Alpha_16_NScaler*_OptimisticAction_', '_0.3_Alpha_16_NScaler*_CountEps_', '_0.5_Alpha_16_NScaler*_OptimisticAction_', '_0.5_Alpha_16_NScaler*_CountEps_']\n",
      "[600001, 600001, 600001, 600001, 600001, 600001]\n",
      "/home/tabz/tmp/Maze14_Bandit/\n",
      "\n",
      " 6 Lines\n"
     ]
    }
   ],
   "source": [
    "names = []\n",
    "legends = []\n",
    "t_maxs = []\n",
    "          \n",
    "# Prioritized replay stuff\n",
    "for alpha in [0.1, 0.3, 0.5]:\n",
    "    for nscaler in [16]:\n",
    "        for bandit in [True, False]:\n",
    "            \n",
    "            if not bandit:\n",
    "                names += [\"_{}_Alpha_{}_NScaler*_CountEps_\".format(alpha, nscaler)]\n",
    "                legends += [\"{} Alpha {} NScaler Epsilon\".format(alpha, nscaler)]\n",
    "                t_maxs += [600001]\n",
    "            elif bandit:\n",
    "                names += [\"_{}_Alpha_{}_NScaler*_OptimisticAction_\".format(alpha, nscaler)]\n",
    "                legends += [\"{} Alpha {} NScaler 0.1 Bandit\".format(alpha, nscaler)]\n",
    "                t_maxs += [600001]\n",
    "    \n",
    "direc = \"/home/tabz/tmp/Maze14_Bandit/\"\n",
    "env = \"Med Maze 14 Prioritized 300k XP Replay Stale Frontier\"\n",
    "directories = direc\n",
    "    \n",
    "print(names)\n",
    "print(t_maxs)\n",
    "print(directories)\n",
    "print(\"\\n\", \"{} Lines\".format(len(names)))"
   ]
  },
  {
   "cell_type": "code",
   "execution_count": 40,
   "metadata": {
    "collapsed": false
   },
   "outputs": [
    {
     "name": "stdout",
     "output_type": "stream",
     "text": [
      "['XpSize_250k', 'XpSize_500k']\n",
      "[1000001, 1000001]\n",
      "/home/tabz/tmp/Maze14_Uniform/\n",
      "\n",
      " 2 Lines\n"
     ]
    }
   ],
   "source": [
    "names = []\n",
    "legends = []\n",
    "t_maxs = []\n",
    "          \n",
    "# Maze14 Uniform Baseline\n",
    "for xp in [250, 500]:\n",
    "    names += [\"XpSize_{}k\".format(xp)]\n",
    "    legends += [\"Uniform {}k XP\".format(xp)]\n",
    "    t_maxs += [1000001]\n",
    "    \n",
    "direc = \"/home/tabz/tmp/Maze14_Uniform/\"\n",
    "env = \"Med Maze 14 Uniform Replay\"\n",
    "directories = direc\n",
    "    \n",
    "print(names)\n",
    "print(t_maxs)\n",
    "print(directories)\n",
    "print(\"\\n\", \"{} Lines\".format(len(names)))"
   ]
  },
  {
   "cell_type": "code",
   "execution_count": 41,
   "metadata": {
    "collapsed": false
   },
   "outputs": [
    {
     "name": "stdout",
     "output_type": "stream",
     "text": [
      "['OptimisticAction_0.01_Scaler', 'OptimisticAction_0.1_Scaler', 'OptimisticAction_1_Scaler', 'OptimisticAction_10_Scaler']\n",
      "[600001, 600001, 600001, 600001]\n",
      "/home/tabz/tmp/Maze14_Bandit_Hyperparams/\n",
      "\n",
      " 4 Lines\n"
     ]
    }
   ],
   "source": [
    "names = []\n",
    "legends = []\n",
    "t_maxs = []\n",
    "          \n",
    "# Prioritized replay stuff\n",
    "for optim in [0.01, 0.1, 1, 10]:\n",
    "    names += [\"OptimisticAction_{}_Scaler\".format(optim)]\n",
    "    legends += [\"0.5 Alpha 8 NScaler {} Bandit\".format(optim)]\n",
    "    t_maxs += [600001]\n",
    "    \n",
    "direc = \"/home/tabz/tmp/Maze14_Bandit_Hyperparams/\"\n",
    "env = \"Med Maze 14 Prioritized Bandit Scaling\"\n",
    "directories = direc\n",
    "    \n",
    "print(names)\n",
    "print(t_maxs)\n",
    "print(directories)\n",
    "print(\"\\n\", \"{} Lines\".format(len(names)))"
   ]
  },
  {
   "cell_type": "code",
   "execution_count": 42,
   "metadata": {
    "collapsed": false
   },
   "outputs": [
    {
     "name": "stdout",
     "output_type": "stream",
     "text": [
      "['OptimisticAction_0.0001_Scaler', 'OptimisticAction_0.001_Scaler']\n",
      "[600001, 600001]\n",
      "/home/tabz/tmp/Maze14_Bandit_MoreHyperparams/\n",
      "\n",
      " 2 Lines\n"
     ]
    }
   ],
   "source": [
    "names = []\n",
    "legends = []\n",
    "t_maxs = []\n",
    "          \n",
    "# Prioritized replay stuff\n",
    "for optim in [0.0001, 0.001]:\n",
    "    names += [\"OptimisticAction_{}_Scaler\".format(optim)]\n",
    "    legends += [\"Uniform {} Bandit\".format(optim)]\n",
    "    t_maxs += [600001]\n",
    "    \n",
    "direc = \"/home/tabz/tmp/Maze14_Bandit_MoreHyperparams/\"\n",
    "env = \"Med Maze 14 Uniform Bandit Scaling\"\n",
    "directories = direc\n",
    "    \n",
    "print(names)\n",
    "print(t_maxs)\n",
    "print(directories)\n",
    "print(\"\\n\", \"{} Lines\".format(len(names)))"
   ]
  },
  {
   "cell_type": "code",
   "execution_count": 43,
   "metadata": {
    "collapsed": false
   },
   "outputs": [
    {
     "name": "stdout",
     "output_type": "stream",
     "text": [
      "['BonusClip_-1_Count', 'BonusClip_-1_NegativeReward', 'BonusClip_0.25_Count', 'BonusClip_0.25_NegativeReward', 'BonusClip_0.5_Count', 'BonusClip_0.5_NegativeReward']\n",
      "[600001, 600001, 600001, 600001, 600001, 600001]\n",
      "/home/tabz/tmp/logfiles/Maze14_RewardClip/\n",
      "\n",
      " 6 Lines\n"
     ]
    }
   ],
   "source": [
    "names = []\n",
    "legends = []\n",
    "t_maxs = []\n",
    "          \n",
    "# Pseudo reward clipping + scaling\n",
    "for bonus_clip in [-1, 0.25, 0.5]:\n",
    "    names += [\"BonusClip_{}_Count\".format(bonus_clip)]\n",
    "    legends += [\"BonusClip {}\".format(bonus_clip)]\n",
    "    t_maxs += [600001]\n",
    "    \n",
    "    names += [\"BonusClip_{}_NegativeReward\".format(bonus_clip)]\n",
    "    legends += [\"BonusClip {} NegativeReward 0.8\".format(bonus_clip)]\n",
    "    t_maxs += [600001]\n",
    "    \n",
    "direc = \"/home/tabz/tmp/logfiles/Maze14_RewardClip/\"\n",
    "env = \"Med Maze 14 Pseudo Reward Clipping\"\n",
    "directories = direc\n",
    "    \n",
    "print(names)\n",
    "print(t_maxs)\n",
    "print(directories)\n",
    "print(\"\\n\", \"{} Lines\".format(len(names)))"
   ]
  },
  {
   "cell_type": "code",
   "execution_count": 45,
   "metadata": {
    "collapsed": false
   },
   "outputs": [
    {
     "name": "stdout",
     "output_type": "stream",
     "text": [
      "['_XpSize_100k*_1_NScaler', '_XpSize_100k*_4_NScaler', '_XpSize_300k*_1_NScaler', '_XpSize_300k*_4_NScaler']\n",
      "[600001, 600001, 600001, 600001]\n",
      "/home/tabz/tmp/Maze14_NScaler/\n",
      "\n",
      " 4 Lines\n"
     ]
    }
   ],
   "source": [
    "names = []\n",
    "legends = []\n",
    "t_maxs = []\n",
    "          \n",
    "# Prioritized replay stuff\n",
    "for xp in [100, 300]:\n",
    "    for nscaler in [1, 4]:\n",
    "            names += [\"_XpSize_{}k*_{}_NScaler\".format(xp, nscaler)]\n",
    "            legends += [\"{}k Xp {} NScaler\".format(xp, nscaler)]\n",
    "            t_maxs += [600001]\n",
    "    \n",
    "direc = \"/home/tabz/tmp/Maze14_NScaler/\"\n",
    "env = \"Med Maze 14 0.5 Prioritized XP Replay Stale\"\n",
    "directories = direc\n",
    "    \n",
    "print(names)\n",
    "print(t_maxs)\n",
    "print(directories)\n",
    "print(\"\\n\", \"{} Lines\".format(len(names)))"
   ]
  },
  {
   "cell_type": "code",
   "execution_count": 46,
   "metadata": {
    "collapsed": true,
    "deletable": true,
    "editable": true
   },
   "outputs": [],
   "source": [
    "import itertools"
   ]
  },
  {
   "cell_type": "code",
   "execution_count": 47,
   "metadata": {
    "collapsed": false,
    "deletable": true,
    "editable": true
   },
   "outputs": [],
   "source": [
    "from bokeh.palettes import magma, inferno, Set1, Set3, Paired, Dark2"
   ]
  },
  {
   "cell_type": "code",
   "execution_count": 48,
   "metadata": {
    "collapsed": false,
    "deletable": true,
    "editable": true
   },
   "outputs": [],
   "source": [
    "if len(names) <= 2:\n",
    "    colours = [\"red\", \"green\"]\n",
    "elif len(names) > 10:\n",
    "    colours = Paired[len(names)]\n",
    "else:\n",
    "    colours = Set1[len(names)]"
   ]
  },
  {
   "cell_type": "code",
   "execution_count": 49,
   "metadata": {
    "collapsed": false,
    "deletable": true,
    "editable": true
   },
   "outputs": [
    {
     "data": {
      "text/html": [
       "\n",
       "\n",
       "    <div class=\"bk-root\">\n",
       "        <div class=\"bk-plotdiv\" id=\"00eb789f-58a6-4e70-a9a9-1da3b350f61f\"></div>\n",
       "    </div>\n",
       "<script type=\"text/javascript\">\n",
       "  \n",
       "  (function(global) {\n",
       "    function now() {\n",
       "      return new Date();\n",
       "    }\n",
       "  \n",
       "    var force = false;\n",
       "  \n",
       "    if (typeof (window._bokeh_onload_callbacks) === \"undefined\" || force === true) {\n",
       "      window._bokeh_onload_callbacks = [];\n",
       "      window._bokeh_is_loading = undefined;\n",
       "    }\n",
       "  \n",
       "  \n",
       "    \n",
       "    if (typeof (window._bokeh_timeout) === \"undefined\" || force === true) {\n",
       "      window._bokeh_timeout = Date.now() + 0;\n",
       "      window._bokeh_failed_load = false;\n",
       "    }\n",
       "  \n",
       "    var NB_LOAD_WARNING = {'data': {'text/html':\n",
       "       \"<div style='background-color: #fdd'>\\n\"+\n",
       "       \"<p>\\n\"+\n",
       "       \"BokehJS does not appear to have successfully loaded. If loading BokehJS from CDN, this \\n\"+\n",
       "       \"may be due to a slow or bad network connection. Possible fixes:\\n\"+\n",
       "       \"</p>\\n\"+\n",
       "       \"<ul>\\n\"+\n",
       "       \"<li>re-rerun `output_notebook()` to attempt to load from CDN again, or</li>\\n\"+\n",
       "       \"<li>use INLINE resources instead, as so:</li>\\n\"+\n",
       "       \"</ul>\\n\"+\n",
       "       \"<code>\\n\"+\n",
       "       \"from bokeh.resources import INLINE\\n\"+\n",
       "       \"output_notebook(resources=INLINE)\\n\"+\n",
       "       \"</code>\\n\"+\n",
       "       \"</div>\"}};\n",
       "  \n",
       "    function display_loaded() {\n",
       "      if (window.Bokeh !== undefined) {\n",
       "        document.getElementById(\"00eb789f-58a6-4e70-a9a9-1da3b350f61f\").textContent = \"BokehJS successfully loaded.\";\n",
       "      } else if (Date.now() < window._bokeh_timeout) {\n",
       "        setTimeout(display_loaded, 100)\n",
       "      }\n",
       "    }\n",
       "  \n",
       "    function run_callbacks() {\n",
       "      window._bokeh_onload_callbacks.forEach(function(callback) { callback() });\n",
       "      delete window._bokeh_onload_callbacks\n",
       "      console.info(\"Bokeh: all callbacks have finished\");\n",
       "    }\n",
       "  \n",
       "    function load_libs(js_urls, callback) {\n",
       "      window._bokeh_onload_callbacks.push(callback);\n",
       "      if (window._bokeh_is_loading > 0) {\n",
       "        console.log(\"Bokeh: BokehJS is being loaded, scheduling callback at\", now());\n",
       "        return null;\n",
       "      }\n",
       "      if (js_urls == null || js_urls.length === 0) {\n",
       "        run_callbacks();\n",
       "        return null;\n",
       "      }\n",
       "      console.log(\"Bokeh: BokehJS not loaded, scheduling load and callback at\", now());\n",
       "      window._bokeh_is_loading = js_urls.length;\n",
       "      for (var i = 0; i < js_urls.length; i++) {\n",
       "        var url = js_urls[i];\n",
       "        var s = document.createElement('script');\n",
       "        s.src = url;\n",
       "        s.async = false;\n",
       "        s.onreadystatechange = s.onload = function() {\n",
       "          window._bokeh_is_loading--;\n",
       "          if (window._bokeh_is_loading === 0) {\n",
       "            console.log(\"Bokeh: all BokehJS libraries loaded\");\n",
       "            run_callbacks()\n",
       "          }\n",
       "        };\n",
       "        s.onerror = function() {\n",
       "          console.warn(\"failed to load library \" + url);\n",
       "        };\n",
       "        console.log(\"Bokeh: injecting script tag for BokehJS library: \", url);\n",
       "        document.getElementsByTagName(\"head\")[0].appendChild(s);\n",
       "      }\n",
       "    };var element = document.getElementById(\"00eb789f-58a6-4e70-a9a9-1da3b350f61f\");\n",
       "    if (element == null) {\n",
       "      console.log(\"Bokeh: ERROR: autoload.js configured with elementid '00eb789f-58a6-4e70-a9a9-1da3b350f61f' but no matching script tag was found. \")\n",
       "      return false;\n",
       "    }\n",
       "  \n",
       "    var js_urls = [];\n",
       "  \n",
       "    var inline_js = [\n",
       "      function(Bokeh) {\n",
       "        (function() {\n",
       "          var fn = function() {\n",
       "            var docs_json = {\"0b439cf1-9804-417a-91a3-98f5d752e488\":{\"roots\":{\"references\":[{\"attributes\":{\"items\":[{\"id\":\"74f3d974-f9e1-4095-8854-dd983324f369\",\"type\":\"LegendItem\"},{\"id\":\"f5913a05-64f4-4915-bbf0-37e06380b3fd\",\"type\":\"LegendItem\"},{\"id\":\"4acc6c0e-76c1-4828-80b8-741212b0934d\",\"type\":\"LegendItem\"},{\"id\":\"16abe809-2e24-4541-ac53-d438faca93e4\",\"type\":\"LegendItem\"}],\"location\":[0,-30],\"plot\":{\"id\":\"ac03c1e9-d242-420c-8298-f6c9b17472d3\",\"subtype\":\"Figure\",\"type\":\"Plot\"}},\"id\":\"c0119c8c-2d4e-4baf-ba4e-c4e4aff3b2f6\",\"type\":\"Legend\"},{\"attributes\":{\"line_alpha\":{\"value\":0.1},\"line_color\":{\"value\":\"#1f77b4\"},\"line_width\":{\"value\":2},\"x\":{\"field\":\"x\"},\"y\":{\"field\":\"y\"}},\"id\":\"24af4f5a-7a84-4631-9705-441f741cc93c\",\"type\":\"Line\"},{\"attributes\":{\"axis_label\":\"T\",\"formatter\":{\"id\":\"b07a0a1f-5dab-4f2e-afa5-37c3df9fc526\",\"type\":\"BasicTickFormatter\"},\"plot\":{\"id\":\"ac03c1e9-d242-420c-8298-f6c9b17472d3\",\"subtype\":\"Figure\",\"type\":\"Plot\"},\"ticker\":{\"id\":\"9d574f8b-f4a9-4f10-95bc-82f0f69b2f53\",\"type\":\"BasicTicker\"}},\"id\":\"3b0a0ac4-4f91-4c39-9737-2ce988acddd7\",\"type\":\"LinearAxis\"},{\"attributes\":{\"below\":[{\"id\":\"3b0a0ac4-4f91-4c39-9737-2ce988acddd7\",\"type\":\"LinearAxis\"}],\"left\":[{\"id\":\"8157a016-3354-498b-b5d0-3ccc8f6fd616\",\"type\":\"LinearAxis\"}],\"plot_height\":800,\"plot_width\":1200,\"renderers\":[{\"id\":\"3b0a0ac4-4f91-4c39-9737-2ce988acddd7\",\"type\":\"LinearAxis\"},{\"id\":\"2b9fadf3-547f-4345-8973-ce0dc4b8fe9c\",\"type\":\"Grid\"},{\"id\":\"8157a016-3354-498b-b5d0-3ccc8f6fd616\",\"type\":\"LinearAxis\"},{\"id\":\"b4c90ae5-eaaa-457a-bc3d-836aa67bccb6\",\"type\":\"Grid\"},{\"id\":\"70fdcebe-f0bd-41c3-b588-4856bf4f08df\",\"type\":\"BoxAnnotation\"},{\"id\":\"7ca44e16-d5f5-482e-bec1-0aabab7a9826\",\"type\":\"GlyphRenderer\"},{\"id\":\"0801d587-1969-477c-b8a6-18391e0ba59d\",\"type\":\"GlyphRenderer\"},{\"id\":\"eee2dcfb-d188-47d9-967e-7b26676ee23c\",\"type\":\"GlyphRenderer\"},{\"id\":\"7c050f09-90c2-4dc3-b388-4ae422e612ab\",\"type\":\"GlyphRenderer\"},{\"id\":\"c0119c8c-2d4e-4baf-ba4e-c4e4aff3b2f6\",\"type\":\"Legend\"}],\"right\":[{\"id\":\"c0119c8c-2d4e-4baf-ba4e-c4e4aff3b2f6\",\"type\":\"Legend\"}],\"title\":{\"id\":\"79913be8-eaa8-4a53-929c-713e1c4731a4\",\"type\":\"Title\"},\"tool_events\":{\"id\":\"b6684ea1-d231-4967-988b-5f917896f561\",\"type\":\"ToolEvents\"},\"toolbar\":{\"id\":\"58577251-d148-40cb-a8d6-aa6935337822\",\"type\":\"Toolbar\"},\"toolbar_location\":\"above\",\"x_range\":{\"id\":\"73781ab3-c817-4366-b6b9-a94128b51c12\",\"type\":\"DataRange1d\"},\"y_range\":{\"id\":\"b399f3fc-e1ac-4acb-9219-c47bc8909d88\",\"type\":\"Range1d\"}},\"id\":\"ac03c1e9-d242-420c-8298-f6c9b17472d3\",\"subtype\":\"Figure\",\"type\":\"Plot\"},{\"attributes\":{\"line_color\":{\"value\":\"#e41a1c\"},\"line_width\":{\"value\":2},\"x\":{\"field\":\"x\"},\"y\":{\"field\":\"y\"}},\"id\":\"3a6dede0-d805-4e26-98b1-1c5e4a00ca13\",\"type\":\"Line\"},{\"attributes\":{\"data_source\":{\"id\":\"224ff722-fc0e-4a60-83ed-11fd83303afc\",\"type\":\"ColumnDataSource\"},\"glyph\":{\"id\":\"5b1e2da6-3b72-4626-900e-57129a8d5e4b\",\"type\":\"Line\"},\"hover_glyph\":null,\"nonselection_glyph\":{\"id\":\"0c2924c8-3126-416a-a3cc-7fb2b28490c7\",\"type\":\"Line\"},\"selection_glyph\":null},\"id\":\"eee2dcfb-d188-47d9-967e-7b26676ee23c\",\"type\":\"GlyphRenderer\"},{\"attributes\":{\"axis_label\":\"Episode Reward\",\"formatter\":{\"id\":\"b88c17f2-fe06-4e9c-bc19-1c61b57937cc\",\"type\":\"BasicTickFormatter\"},\"plot\":{\"id\":\"ac03c1e9-d242-420c-8298-f6c9b17472d3\",\"subtype\":\"Figure\",\"type\":\"Plot\"},\"ticker\":{\"id\":\"85110586-511c-4ce4-a542-351d8cb887fc\",\"type\":\"BasicTicker\"}},\"id\":\"8157a016-3354-498b-b5d0-3ccc8f6fd616\",\"type\":\"LinearAxis\"},{\"attributes\":{\"data_source\":{\"id\":\"d577d804-ad62-4bcf-ad63-7032067a0636\",\"type\":\"ColumnDataSource\"},\"glyph\":{\"id\":\"8ba0e2f9-ba11-487e-b4d1-f1fcb78e88b3\",\"type\":\"Line\"},\"hover_glyph\":null,\"nonselection_glyph\":{\"id\":\"24af4f5a-7a84-4631-9705-441f741cc93c\",\"type\":\"Line\"},\"selection_glyph\":null},\"id\":\"7c050f09-90c2-4dc3-b388-4ae422e612ab\",\"type\":\"GlyphRenderer\"},{\"attributes\":{\"plot\":{\"id\":\"ac03c1e9-d242-420c-8298-f6c9b17472d3\",\"subtype\":\"Figure\",\"type\":\"Plot\"}},\"id\":\"34240d55-957a-417f-8988-f0274bec0ddc\",\"type\":\"SaveTool\"},{\"attributes\":{\"callback\":null,\"column_names\":[\"x\",\"y\"],\"data\":{\"x\":[0,1000,2000,3000,4000,5000,6000,7000,8000,9000,10000,11000,12000,13000,14000,15000,16000,17000,18000,19000,20000,21000,22000,23000,24000,25000,26000,27000,28000,29000,30000,31000,32000,33000,34000,35000,36000,37000,38000,39000,40000,41000,42000,43000,44000,45000,46000,47000,48000,49000,50000,51000,52000,53000,54000,55000,56000,57000,58000,59000,60000,61000,62000,63000,64000,65000,66000,67000,68000,69000,70000,71000,72000,73000,74000,75000,76000,77000,78000,79000,80000,81000,82000,83000,84000,85000,86000,87000,88000,89000,90000,91000,92000,93000,94000,95000,96000,97000,98000,99000,100000,101000,102000,103000,104000,105000,106000,107000,108000,109000,110000,111000,112000,113000,114000,115000,116000,117000,118000,119000,120000,121000,122000,123000,124000,125000,126000,127000,128000,129000,130000,131000,132000,133000,134000,135000,136000,137000,138000,139000,140000,141000,142000,143000,144000,145000,146000,147000,148000,149000,150000,151000,152000,153000,154000,155000,156000,157000,158000,159000,160000,161000,162000,163000,164000,165000,166000,167000,168000,169000,170000,171000,172000,173000,174000,175000,176000,177000,178000,179000,180000,181000,182000,183000,184000,185000,186000,187000,188000,189000,190000,191000,192000,193000,194000,195000,196000,197000,198000,199000,200000,201000,202000,203000,204000,205000,206000,207000,208000,209000,210000,211000,212000,213000,214000,215000,216000,217000,218000,219000,220000,221000,222000,223000,224000,225000,226000,227000,228000,229000,230000,231000,232000,233000,234000,235000,236000,237000,238000,239000,240000,241000,242000,243000,244000,245000,246000,247000,248000,249000,250000,251000,252000,253000,254000,255000,256000,257000,258000,259000,260000,261000,262000,263000,264000,265000,266000,267000,268000,269000,270000,271000,272000,273000,274000,275000,276000,277000,278000,279000,280000,281000,282000,283000,284000,285000,286000,287000,288000,289000,290000,291000,292000,293000,294000,295000,296000,297000,298000,299000,300000,301000,302000,303000,304000,305000,306000,307000,308000,309000,310000,311000,312000,313000,314000,315000,316000,317000,318000,319000,320000,321000,322000,323000,324000,325000,326000,327000,328000,329000,330000,331000,332000,333000,334000,335000,336000,337000,338000,339000,340000,341000,342000,343000,344000,345000,346000,347000,348000,349000,350000,351000,352000,353000,354000,355000,356000,357000,358000,359000,360000,361000,362000,363000,364000,365000,366000,367000,368000,369000,370000,371000,372000,373000,374000,375000,376000,377000,378000,379000,380000,381000,382000,383000,384000,385000,386000,387000,388000,389000,390000,391000,392000,393000,394000,395000,396000,397000,398000,399000,400000,401000,402000,403000,404000,405000,406000,407000,408000,409000,410000,411000,412000,413000,414000,415000,416000,417000,418000,419000,420000,421000,422000,423000,424000,425000,426000,427000,428000,429000,430000,431000,432000,433000,434000,435000,436000,437000,438000,439000,440000,441000,442000,443000,444000,445000,446000,447000,448000,449000,450000,451000,452000,453000,454000,455000,456000,457000,458000,459000,460000,461000,462000,463000,464000,465000,466000,467000,468000,469000,470000,471000,472000,473000,474000,475000,476000,477000,478000,479000,480000,481000,482000,483000,484000,485000,486000,487000,488000,489000,490000,491000,492000,493000,494000,495000,496000,497000,498000,499000,500000,501000,502000,503000,504000,505000,506000,507000,508000,509000,510000,511000,512000,513000,514000,515000,516000,517000,518000,519000,520000,521000,522000,523000,524000,525000,526000,527000,528000,529000,530000,531000,532000,533000,534000,535000,536000,537000,538000,539000,540000,541000,542000,543000,544000,545000,546000,547000,548000,549000,550000,551000,552000,553000,554000,555000,556000,557000,558000,559000,560000,561000,562000,563000,564000,565000,566000,567000,568000,569000,570000,571000,572000,573000,574000,575000,576000,577000,578000,579000,580000,581000,582000,583000,584000,585000,586000,587000,588000,589000,590000,591000,592000,593000,594000,595000,596000,597000,598000,599000,600000],\"y\":{\"__ndarray__\":\"AAAAAAAAAAAAAAAAAAAAAAAAAAAAAAAAAAAAAAAAAAAAAAAAAAAAAAAAAAAAAAAAAAAAAAAAAAAAAAAAAAAAAAAAAAAAAAAAAAAAAAAAAAAAAAAAAAAAAAAAAAAAAAAAAAAAAAAAAAAAAAAAAAAAAAAAAAAAAAAAAAAAAAAAAAAAAAAAAAAAAAAAAAAAAAAAAAAAAAAAAAAAAAAAAAAAAAAAAAAAAAAAAAAAAAAAAAAAAAAAAAAAAAAAAAAAAAAAAAAAAAAAAAAAAAAAAAAAAAAAAAAAAAAAAAAAAAAAAAAAAAAAAAAAAAAAAAAAAAAAAAAAAAAAAAAAAAAAAAAAAAAAAAAAAAAAAAAAAAAAAAAAAAAAAAAAAAAAAAAAAAAAAAAAAAAAAAAAAAAAAAAAAAAAAAAAAAAAAAAAAAAAAAAAAAAAAAAAAAAAAAAAAAAAAAAAAAAAAAAAAAAAAAAAAAAAAAAAAAAAAAAAAAAAAAAAAAAAAAAAAAAAAAAAAAAAAAAAAAAAAAAAAAAAAAAAABfeIwIJl4A/F94jAgmXkD8izTWDjeKYPxfeIwIJl6A/ndWsQsu8pD8izTWDjeKoP6jEvsNPCK0/F94jAgmXsD/aWWgi6qmyP53VrELLvLQ/X1HxYqzPtj8izTWDjeK4P+VIeqNu9bo/qMS+w08IvT9rQAPkMBu/PyCH+7a+Qb8/zZaIrGDzvT95phWiAqW8Pya2opekVrs/0sUvjUYIuj9+1byC6Lm4PyvlSXiKa7c/1/TWbSwdtj+EBGRjzs60PzAU8VhwgLM/3CN+ThIysj+JMwtEtOOwP2qGMHOsKq8/w6VKXvCNrD8cxWRJNPGpP3XkfjR4VKc/zgOZH7y3pD8nI7MKABuiP/+EmuuH/J4/sMPOwQ/DmT9iAgOYl4mUPyeCbtw+oI4/iv/WiE4thD/b+X5qvHRzP8xBEEX/NkU/gvWcnNGKhD90c3SiGeGTPydsmnbKfJ0/bTJgpT2Moz/GLnMPFlqoPyArhnnuJ60/vJPMceP6sD/pEdamz2GzPxaQ39u7yLU/9U8wfJGIuT/TD4EcZ0i9P9nnaF4ehMA/yEeRLglkwj89JDKMR17DPxbF1UG8CsQ/7mV59zC3xD/HBh2tpWPFP6CnwGIaEMY/eUhkGI+8xj9S6QfOA2nHPyyKq4N4Fcg/BCtPOe3ByD/dy/LuYW7JP7ZslqTWGso/jw06WkvHyj9ort0PwHPLP0FPgcU0IMw/GvAke6nMzD/zkMgwHnnNPwoG/2mXic0/uC5pGt2OzT9oV9PKIpTNP7CnJH/WRM0/XLexdHj2yz8Ixz5qGqjKP7TWy1+8Wck/YuZYVV4LyD8O9uVKAL3GP7oFc0CibsU/ZhUANkQgxD8SJY0r5tHCP780GiGIg8E/bESnFio1wD8wqGgYmM29P4nHggPcMLs/4uac7h+UuD86BrfZY/e1P5Ml0cSnWrM/7ETrr+u9sD+KyAo2X0KsPzwHPwznCKc/7UVz4m7PoT88CU9x7SuZPw4EO+wc/JA/f4XehEmFhz/FBY5isiR6PywCfO1G+1Q/AAAAAAAAAAAAAAAAAAAAAAAAAAAAAAAAAAAAAAAAAAAAAAAAAAAAAAAAAAAAAAAAAAAAAAAAAAAAAAAAAAAAAAAAAAAAAAAAAAAAAAAAAAAAAAAAAAAAAAAAAAAAAAAAAAAAAAAAAAAAAAAAAAAAAAAAAAAAAAAAAAAAAAAAAAAAAAAAAAAAAAAAAAAAAAAAAAAAAAAAAAAAAAAAAAAAAAAAAAAAAAAA6Ft3yP98dj+p/bRHtUuHP68ml1V1rJE/is5TBxCzlz9/w6S3R6GgPwYovMZ5Lac/jIzT1au5rT+JeHXy7iKyP80qAfoHabU/EN2MASGvuD9UjxgJOvW7P5dBpBBTO78/7fkXDLZAwT8O092PwuPCPzCsoxPPhsQ/UoVpl9spxj90Xi8b6MzHP5Y39Z70b8k/uBC7IgETyz/Y6YCmDbbMP/rCRioaWc4/n6g5neh2zz9kBZsvIb7PPzqNYSryFs8/EBUoJcNvzj/nnO4flMjNP70ktRplIc0/lKx7FTZ6zD9qNEIQB9PLP/l1yrm+xsw/irdSY3a6zT8Z+doMLq7OP6o6Y7bloc8/HL71r85K0D/k3rmEqsTQP6z/fVmGPtE/dCBCLmK40T88QQYDPjLSPwRiytcZrNI/zIKOrPUl0z9j3z8mAFTTPxZEZ3hEetM/yaiOyoig0z98DbYczcbTPy9y3W4R7dM/4tYEwVUT1D+VOywTmjnUPzY4BljVydQ/UdGQBiTq1D9rahu1cgrVP77xkpWT7tQ/rJW/ug6v1D+ZOezfiW/UP4jdGAUFMNQ/doFFKoDw0z9kJXJP+7DTP1LJnnR2cdM/QG3LmfEx0z8uEfi+bPLSPxy1JOTnstI/CllRCWNz0j/4/H0u3jPSP2T7AcLJqtE/POORZK0X0T88MeaglqbQPyrVEsYRZ9A/ZtLupj4Z0D96tGpDH+TOPybE9zjBlc0/0tOELmNHzD9+4xEkBfnKPyvznhmnqsk/WANwqArlyD8uizaj2z3IPwQT/Z2slsc/2prDmH3vxj+xIoqTTkjGP4eqUI4focU/EPqmKSunxT+aSf3ENq3FPySZU2BCs8U/reip+025xT83OACXWb/FP8CHVjJlxcU/SteszXDLxT/UJgNpfNHFP04FDqUPF8Y/As2dRUrExj+1lC3mhHHHP2hcvYa/Hsg/0rkXXbdByD9cCW74wkfIP+VYxJPOTcg/bqgaL9pTyD/493DK5VnIP4JHx2XxX8g/DJcdAf1lyD+V5nOcCGzIPx42yjcUcsg/qIUg0x94yD8y1XZuK37IP+trUvy3Rsg/wPMY94ifxz+Xe9/xWfjGP24DpuwqUcY/RIts5/upxT8aEzPizALFP/Ca+dydW8Q/xiLA1260wz+cqobSPw3DP3MyTc0QZsI/SboTyOG+wT8fQtrCshfBP/XJoL2DcMA/AAAAAAAAwD8AAAAAAADAP////////78/AAAAAAAAwD////////+/PwAAAAAAAMA/////////vz9XiAqUkuG/PwOYl4k0k74/r6ckf9ZEvT9ct7F0ePa7PwjHPmoaqLo/tdbLX7xZuT9h5lhVXgu4Pw325UoAvbY/ugVzQKJutT9mFQA2RCC0PxMljSvm0bI/vzQaIYiDsT9sRKcWKjWwPzCoaBiYza0/CvcwgqyCrD/6ajCt7F6tP+veL9gsO64/3FIvA20Xrz8Vc7Gtw/SyP7ZmOodp/bY/VlrDYA8Guz/3TUw6tQ6/P8yg6omti8E/nBqvdgCQwz/QvMVZ9NTFP/06JZm2vck/vCNkWxNpzj+WQBbQz6/QP4tmM8DcHtI/gYxQsOmN0z92sm2g9vzUP2rYipADbNY/YP6ngBDb1z/OAk3AIpHYPxzC0KV4Pdk/aYFUi87p2T+2QNhwJJbaPwQAXFZ6Qts/ED+JO+yi2z9qBrxNW2HbP8PN7l/KH9s/G5Uhcjne2j92XFSEqJzaP84jh5YXW9o/sY4S1Cb72T9yWjxMYADZPzMmZsSZBdg/9fGPPNMK1z+2vbm0DBDWP3iJ4yxGFdU/OVUNpX8a1D/6IDcduR/TP7zsYJXyJNI/fbiKDSwq0T8+hLSFZS/QP/+fvPs9ac4/gTcQ7LBzzD/NTaq2YRjLP9Vw0/2Weco/3ZP8RMzayT/ktiWMATzJP+zZTtM2ncg/9Px3Gmz+xz92unHHjejHP6hV1BPy8Mc/2vA2YFb5xz8LjJmsugHIPzwn/PgeCsg/b8JeRYMSyD+fd5mvji3JP8wzWjiV08o/+e8awZt5zD8mrNtJoh/OP1NonNKoxc8/QJKurde10D9W8A7y2ojRP2xObzbeW9I/g6zPeuEu0z+aCjC/5AHUP7BokAPo1NQ/av3d90ud1T/SUXCThRjWPzumAi+/k9Y/pPqUyvgO1z8MTydmMorXPwAAAAAAANg/AAAAAAAA2D8AAAAAAADYPwAAAAAAANg/AAAAAAAA2D/98IMMdzrYP5ii8R8dytg/MlRfM8NZ2T/NBc1GaenZP2e3OloPedo/AmmobbUI2z+cGhaBW5jbPzfMg5QBKNw/0n3xp6e33D9sL1+7TUfdPwbhzM7z1t0/oZI64plm3j88RKj1P/beP9b1FQnmhd8/AAAAAAAA4D8AAAAAAADgPwAAAAAAAOA/AAAAAAAA4D8AAAAAAADgPwAAAAAAAOA/AAAAAAAA4D8AAAAAAADgP+VxZwm7+d8/0LXKhiOm3z+7+S0EjFLfP6Y9kYH0/t4/kYH0/lyr3j98xVd8xVfeP2gJu/ktBN4/Uk0ed5aw3T8+kYH0/lzdPynV5HFnCd0/FBlI78+13D//XKtsOGLcP7LF3iYW5ts/iE2lIec+2z9e1WscuJfaPzRdMheJ8Nk/C+X4EVpJ2T/hbL8MK6LYP7f0hQf8+tc/jnxMAs1T1z9kBBP9nazWPzqM2fduBdY/EBSg8j9e1T/mm2btELfUP7wjLejhD9Q/WuSaDJ3d0z+suFd8wgHUPwCNFOznJdQ/UmHRWw1K1D+kNY7LMm7UP/YJSztYktQ/Sd4Hq3221D+cssQao9rUP+6GgYrI/tQ/QVs++u0i1T+UL/tpE0fVP+YDuNk4a9U/exHzzbTh1T/joUzAcVnWPx8XGBo4jNY/cuvUiV2w1j/Ev5H5gtTWP5awm99CwNY/gvT+XKts1j9tOGLaExnWP1h8xVd8xdU/Q8Ao1eRx1T8uBIxSTR7VPxLUJvvDi9Q/6Vvt9ZTk0z+/47PwZT3TP5Vreus2ltI/bPNA5gfv0T9Cewfh2EfRPxgDztupoNA/3BUprfXyzz+IJbail6TOPzU1Q5g5Vs0/4UTQjdsHzD+NVF2DfbnKPztk6ngfa8k/53N3bsEcyD+TgwRkY87GP4ANEQhbtsU/VpXXAiwPxT8sHZ79/GfEPwOlZPjNwMM/2Swr854Zwz+vtPHtb3LCP4U8uOhAy8E/W8R+4xEkwT8yTEXe4nzAPwAAAAAAAMA/AAAAAAAAwD8AAAAAAADAPwAAAAAAAMA/AAAAAAAAwD8AAAAAAADAPz+tKzc4278/67y4LNqMvj+XzEUifD69P0Tc0hce8Ls/8OtfDcChuj+d++wCYlO5P0kLevgDBbg/9RoH7qW2tj+iKpTjR2i1P046IdnpGbQ//LgBgk42tj9qKOxQQQy5P9mX1h804rs/SAfB7ia4vj9cu9XeDMfAPxPzSkYGMsI/yirArf+cwz81UGWo78LEP+Jf8p2RdMM/jm9/kzMmwj86fwyJ1dfAP80dM/3uEr8/Jj1N6DJ2vD9/XGfTdtm5P9d7gb66PLc/Dh6ZvCgQuD+4JMQaURa7P2Mr73h5HL4/BxmN61CRwD9cnKIaZRTCP7IfuEl5l8M/B6PNeI0axT/paUKXsSPGP8DxCJKCfMU/lnnPjFPVxD9sAZaHJC7EP0KJXIL1hsM/GBEjfcbfwj/umOl3lzjCP8UgsHJokcE/m6h2bTnqwD9xMD1oCkPAP2OoTWaS58A/eAsngtehwj+Std4bfQDFP6xflrUiX8c/xglOT8i9yT/hswXpbRzMP/pdvYITe84/CoQ6jtxs0D8YWRZbL5zRPyUu8ieCy9I/Rxy0BA/60z90b0RYFWjUP6LC1Ksb1tQ/0BVl/yFE1T/+aPVSKLLVPyy8haYuINY/WQ8W+jSO1j+HYqZNO/zWP7W1NqFBatc/4gjH9EfY1z+e1IW2lcrXP4kY6TP+dtc/dFxMsWYj1z9foK8uz8/WP0rkEqw3fNY/NSh2KaAo1j8gbNmmCNXVPwuwPCRxgdU/9vOfodkt1T/iNwMfQtrUP817ZpyqhtQ/jCpenyf80z9jsiSa+FTTPzk665TJrdI/D8Kxj5oG0j/lSXiKa1/RP7vRPoU8uNA/klkFgA0R0D/Qwpf1vNPOP3zSJOtehc0/KOKx4AA3zD/V8T7WoujKP+Ra55NYxsk/xiPe7f4oyT8uuAzbg8PIPwmBPG4auMk/5UlsAbGsyj/AEpyUR6HLP5zbyyfelcw/eKT7unSKzT9UbStOC3/OPy82W+Ghc88/hX9FOhw00D/zY92DZ67QP2FIdc2yKNE/LdyCZHzW0T8a+Alkw5jTPwgUkWMKW9U/9i8YY1Ed1z/jS59imN/YP9FnJmLfodo/v4OtYSZk3D8CwcjLUdXdPwkZUDE4It8/D6KYNDqx3z8AAAAAAADgPwAAAAAAAOA/AAAAAAAA4D8AAAAAAADgPwAAAAAAAOA/AAAAAAAA4D8AAAAAAADgPwAAAAAAAOA/AAAAAAAA4D8AAAAAAADgPwAAAAAAAOA/t6Mf19m03z+i54JUQmHfP40r5tGqDd8/eG9JTxO63j8=\",\"dtype\":\"float64\",\"shape\":[601]}}},\"id\":\"df655cd6-d2c6-4d7b-bc71-c74f424f736b\",\"type\":\"ColumnDataSource\"},{\"attributes\":{\"line_color\":{\"value\":\"#377eb8\"},\"line_width\":{\"value\":2},\"x\":{\"field\":\"x\"},\"y\":{\"field\":\"y\"}},\"id\":\"abb790c9-0605-402d-bfde-84a6a35b64a7\",\"type\":\"Line\"},{\"attributes\":{\"plot\":{\"id\":\"ac03c1e9-d242-420c-8298-f6c9b17472d3\",\"subtype\":\"Figure\",\"type\":\"Plot\"}},\"id\":\"0477a008-3525-4506-a483-2f54dfe9102e\",\"type\":\"ResetTool\"},{\"attributes\":{\"dimension\":1,\"plot\":{\"id\":\"ac03c1e9-d242-420c-8298-f6c9b17472d3\",\"subtype\":\"Figure\",\"type\":\"Plot\"},\"ticker\":{\"id\":\"85110586-511c-4ce4-a542-351d8cb887fc\",\"type\":\"BasicTicker\"}},\"id\":\"b4c90ae5-eaaa-457a-bc3d-836aa67bccb6\",\"type\":\"Grid\"},{\"attributes\":{\"data_source\":{\"id\":\"3b2a2ae0-8bb8-4057-abb0-116a4fd8bc06\",\"type\":\"ColumnDataSource\"},\"glyph\":{\"id\":\"3a6dede0-d805-4e26-98b1-1c5e4a00ca13\",\"type\":\"Line\"},\"hover_glyph\":null,\"nonselection_glyph\":{\"id\":\"895002b2-ad89-4089-9821-4570aa189517\",\"type\":\"Line\"},\"selection_glyph\":null},\"id\":\"7ca44e16-d5f5-482e-bec1-0aabab7a9826\",\"type\":\"GlyphRenderer\"},{\"attributes\":{\"label\":{\"value\":\"100k Xp 1 NScaler\"},\"renderers\":[{\"id\":\"7ca44e16-d5f5-482e-bec1-0aabab7a9826\",\"type\":\"GlyphRenderer\"}]},\"id\":\"74f3d974-f9e1-4095-8854-dd983324f369\",\"type\":\"LegendItem\"},{\"attributes\":{},\"id\":\"85110586-511c-4ce4-a542-351d8cb887fc\",\"type\":\"BasicTicker\"},{\"attributes\":{\"callback\":null,\"column_names\":[\"x\",\"y\"],\"data\":{\"x\":[0,1000,2000,3000,4000,5000,6000,7000,8000,9000,10000,11000,12000,13000,14000,15000,16000,17000,18000,19000,20000,21000,22000,23000,24000,25000,26000,27000,28000,29000,30000,31000,32000,33000,34000,35000,36000,37000,38000,39000,40000,41000,42000,43000,44000,45000,46000,47000,48000,49000,50000,51000,52000,53000,54000,55000,56000,57000,58000,59000,60000,61000,62000,63000,64000,65000,66000,67000,68000,69000,70000,71000,72000,73000,74000,75000,76000,77000,78000,79000,80000,81000,82000,83000,84000,85000,86000,87000,88000,89000,90000,91000,92000,93000,94000,95000,96000,97000,98000,99000,100000,101000,102000,103000,104000,105000,106000,107000,108000,109000,110000,111000,112000,113000,114000,115000,116000,117000,118000,119000,120000,121000,122000,123000,124000,125000,126000,127000,128000,129000,130000,131000,132000,133000,134000,135000,136000,137000,138000,139000,140000,141000,142000,143000,144000,145000,146000,147000,148000,149000,150000,151000,152000,153000,154000,155000,156000,157000,158000,159000,160000,161000,162000,163000,164000,165000,166000,167000,168000,169000,170000,171000,172000,173000,174000,175000,176000,177000,178000,179000,180000,181000,182000,183000,184000,185000,186000,187000,188000,189000,190000,191000,192000,193000,194000,195000,196000,197000,198000,199000,200000,201000,202000,203000,204000,205000,206000,207000,208000,209000,210000,211000,212000,213000,214000,215000,216000,217000,218000,219000,220000,221000,222000,223000,224000,225000,226000,227000,228000,229000,230000,231000,232000,233000,234000,235000,236000,237000,238000,239000,240000,241000,242000,243000,244000,245000,246000,247000,248000,249000,250000,251000,252000,253000,254000,255000,256000,257000,258000,259000,260000,261000,262000,263000,264000,265000,266000,267000,268000,269000,270000,271000,272000,273000,274000,275000,276000,277000,278000,279000,280000,281000,282000,283000,284000,285000,286000,287000,288000,289000,290000,291000,292000,293000,294000,295000,296000,297000,298000,299000,300000,301000,302000,303000,304000,305000,306000,307000,308000,309000,310000,311000,312000,313000,314000,315000,316000,317000,318000,319000,320000,321000,322000,323000,324000,325000,326000,327000,328000,329000,330000,331000,332000,333000,334000,335000,336000,337000,338000,339000,340000,341000,342000,343000,344000,345000,346000,347000,348000,349000,350000,351000,352000,353000,354000,355000,356000,357000,358000,359000,360000,361000,362000,363000,364000,365000,366000,367000,368000,369000,370000,371000,372000,373000,374000,375000,376000,377000,378000,379000,380000,381000,382000,383000,384000,385000,386000,387000,388000,389000,390000,391000,392000,393000,394000,395000,396000,397000,398000,399000,400000,401000,402000,403000,404000,405000,406000,407000,408000,409000,410000,411000,412000,413000,414000,415000,416000,417000,418000,419000,420000,421000,422000,423000,424000,425000,426000,427000,428000,429000,430000,431000,432000,433000,434000,435000,436000,437000,438000,439000,440000,441000,442000,443000,444000,445000,446000,447000,448000,449000,450000,451000,452000,453000,454000,455000,456000,457000,458000,459000,460000,461000,462000,463000,464000,465000,466000,467000,468000,469000,470000,471000,472000,473000,474000,475000,476000,477000,478000,479000,480000,481000,482000,483000,484000,485000,486000,487000,488000,489000,490000,491000,492000,493000,494000,495000,496000,497000,498000,499000,500000,501000,502000,503000,504000,505000,506000,507000,508000,509000,510000,511000,512000,513000,514000,515000,516000,517000,518000,519000,520000,521000,522000,523000,524000,525000,526000,527000,528000,529000,530000,531000,532000,533000,534000,535000,536000,537000,538000,539000,540000,541000,542000,543000,544000,545000,546000,547000,548000,549000,550000,551000,552000,553000,554000,555000,556000,557000,558000,559000,560000,561000,562000,563000,564000,565000,566000,567000,568000,569000,570000,571000,572000,573000,574000,575000,576000,577000,578000,579000,580000,581000,582000,583000,584000,585000,586000,587000,588000,589000,590000,591000,592000,593000,594000,595000,596000,597000,598000,599000,600000],\"y\":{\"__ndarray__\":\"AAAAAAAAAAAAAAAAAAAAAAAAAAAAAAAAAAAAAAAAAAAAAAAAAAAAAAAAAAAAAAAAAAAAAAAAAAAAAAAAAAAAAAAAAAAAAAAAAAAAAAAAAAAAAAAAAAAAAAAAAAAAAAAAAAAAAAAAAAAAAAAAAAAAAAAAAAAAAAAAAAAAAAAAAAAAAAAAAAAAAAAAAAAAAAAAAAAAAAAAAAAAAAAAAAAAAAAAAAAAAAAAAAAAAAAAAAAAAAAAAAAAAAAAAAAAAAAAAAAAAAAAAAAAAAAAAAAAAAAAAAAAAAAAAAAAAAAAAAAAAAAAAAAAAAAAAAAAAAAAAAAAAAAAAAAAAAAAAAAAAAAAAAAAAAAAAAAAAAAAAAAAAAAAAAAAAAAAAAAAAAAAAAAAAAAAAAAAAAAAAAAAAAAAAAAAAAAAAAAAAAAAAAAAAAAAAAAAAAAAAAAAAAAAAAAAAAAAAAAAAAAAAAAAAAAAAAAAAAAAAAAAAAAAAAAAAAAAAAAAAAAAAAAAAAAAAAAAAAAAAAAAAAAAAAAAAAAAAAAAAAAAAAAAAAAAAAAAAAAAAAAAAAAAAAAAAAAAAAAAAAAAAAAAAAAAAAAAAAAAAAAAAAAAAAAAAAAAAAAAAAAAAAAAAAAAAAAAAAAAAAAAAAAAAAAAAAAAAAAAAAAAAAAAAAAAAAAAAAAAAAAAAAAAAAAAAAAAAAAAAAAAAAAAAAAAAAAAAAAAAAAAAAAAAAAAAAAAAAAAAAAAAAAAAAAAAAAAAAAAAAAAAAAAAAAAAAAAAAAAAAAAAAAAABFb0rLsnGs/TcQdhrG1hD/reMPvE0KRP68PeBxPKZg/c6YsSYoQnz+cnvC64vuiP/7pSlGAb6Y/YDWl5x3jqT/CgP99u1atPxLmLIosZbA/wwtaVfsesj90MYcgytizPyZXtOuYkrU/13zhtmdMtz+Iog6CNga5PznIO00FwLo/6u1oGNR5vD+bE5bjojO+P0w5w65x7b8/////////vz8AAAAAAADAPwAAAAAAAMA/AAAAAAAAwD////////+/PwAAAAAAAMA/rhezhsXRwD9bL2YNi6PBPwhHGZRQdcI/tl7MGhZHwz9jdn+h2xjEPxGOMiih6sQ/v6Xlrma8xT9svZg1LI7GPxrVS7zxX8c/yOz+QrcxyD91BLLJfAPJPyIcZVBC1ck/0DMY1wenyj9+S8tdzXjLPyxjfuSSSsw/2Hoxa1gczT+GkuTxHe7NPzSql3jjv84/4sFK/6iRzz8AAAAAAADQPwAAAAAAANA/AAAAAAAA0D8AAAAAAADQPwAAAAAAANA/AAAAAAAA0D8AAAAAAADQPwAAAAAAANA/AAAAAAAA0D8AAAAAAADQPwAAAAAAANA/AAAAAAAA0D8AAAAAAADQPwAAAAAAANA/AAAAAAAA0D8AAAAAAADQPwAAAAAAANA/AAAAAAAA0D8AAAAAAADQPwAAAAAAANA/AAAAAAAA0D8AAAAAAADQPwAAAAAAANA/AAAAAAAA0D8AAAAAAADQPwAAAAAAANA/AAAAAAAA0D8AAAAAAADQPwAAAAAAANA/AAAAAAAA0D+yaDlUk+HQP2TRcqgmw9E/Fjqs/Lmk0j/IouVQTYbTP3oLH6XgZ9Q/LHRY+XNJ1T/e3JFNByvWP5BFy6GaDNc/Qq4E9i3u1z/6BRUNA7PXP+VJeIprX9c/0I3bB9QL1z+70T6FPLjWP6YVogKlZNY/kVkFgA0R1j99nWj9db3VP2jhy3readU/UyUv+EYW1T8+aZJ1r8LUPymt9fIXb9Q/FPFYcIAb1D//NLzt6MfTP+p4H2tRdNM/1byC6Lkg0z/AAOZlIs3SP6xESeOKedI/l4isYPMl0j+CzA/eW9LRP20Qc1vEftE/WFTW2Cwr0T9DmDlWldfQPy7cnNP9g9A/GiAAUWYw0D/2B7Vlny/QP3l17JW9oNA//OIjxtsR0T+AUFv2+YLRPwK+kiYY9NE/hivKVjZl0j8JmQGHVNbSP4wGObdyR9M/D3Rw55C40z+S4acXrynUPxVP30fNmtQ/mLwWeOsL1T8cKk6oCX3VP6CXhdgn7tU/IgW9CEZf1j+lcvQ4ZNDWPyjgK2mCQdc/q01jmaCy1z8AAAAAAADYPwAAAAAAANg/AAAAAAAA2D8AAAAAAADYPwAAAAAAANg/AAAAAAAA2D8AAAAAAADYPwAAAAAAANg/AAAAAAAA2D8AAAAAAADYPwAAAAAAANg/AAAAAAAA2D8AAAAAAADYPwAAAAAAANg/AAAAAAAA2D8AAAAAAADYPwAAAAAAANg/AAAAAAAA2D8AAAAAAADYPwAAAAAAANg/AAAAAAAA2D8AAAAAAADYPwAAAAAAANg/AAAAAAAA2D8AAAAAAADYPwAAAAAAANg/AAAAAAAA2D8AAAAAAADYPwAAAAAAANg/AAAAAAAA2D8AAAAAAADYPwAAAAAAANg/AAAAAAAA2D8AAAAAAADYPwAAAAAAANg/AAAAAAAA2D8AAAAAAADYPwAAAAAAANg/AAAAAAAA2D8AAAAAAADYPwAAAAAAANg/AAAAAAAA2D8AAAAAAADYPwAAAAAAANg/AAAAAAAA2D8AAAAAAADYPwAAAAAAANg/AAAAAAAA2D8AAAAAAADYPwAAAAAAANg/AAAAAAAA2D8AAAAAAADYPwAAAAAAANg/AAAAAAAA2D8AAAAAAADYPwAAAAAAANg/AAAAAAAA2D8AAAAAAADYPwAAAAAAANg/AAAAAAAA2D8AAAAAAADYPwAAAAAAANg/AAAAAAAA2D8AAAAAAADYPwAAAAAAANg/AAAAAAAA2D8AAAAAAADYPwAAAAAAANg/AAAAAAAA2D8AAAAAAADYPwAAAAAAANg/AAAAAAAA2D8AAAAAAADYPwAAAAAAANg/AAAAAAAA2D8AAAAAAADYPwAAAAAAANg/AAAAAAAA2D8AAAAAAADYPwAAAAAAANg/AAAAAAAA2D8AAAAAAADYPwAAAAAAANg/AAAAAAAA2D8AAAAAAADYPwAAAAAAANg/AAAAAAAA2D8AAAAAAADYPwAAAAAAANg/AAAAAAAA2D8AAAAAAADYPwAAAAAAANg/AAAAAAAA2D8AAAAAAADYPwAAAAAAANg/AAAAAAAA2D8AAAAAAADYPwAAAAAAANg/AAAAAAAA2D8AAAAAAADYPwAAAAAAANg/AAAAAAAA2D8AAAAAAADYPwAAAAAAANg/AAAAAAAA2D8AAAAAAADYPwAAAAAAANg/AAAAAAAA2D8AAAAAAADYPwAAAAAAANg/AAAAAAAA2D8AAAAAAADYPwAAAAAAANg/AAAAAAAA2D8AAAAAAADYPwAAAAAAANg/AAAAAAAA2D8AAAAAAADYPwAAAAAAANg/AAAAAAAA2D8AAAAAAADYPwAAAAAAANg/AAAAAAAA2D8AAAAAAADYPwAAAAAAANg/AAAAAAAA2D8AAAAAAADYPwAAAAAAANg/AAAAAAAA2D8AAAAAAADYPwAAAAAAANg/AAAAAAAA2D8AAAAAAADYPwAAAAAAANg/AAAAAAAA2D8AAAAAAADYPwAAAAAAANg/AAAAAAAA2D8AAAAAAADYPwAAAAAAANg/AAAAAAAA2D8AAAAAAADYPwAAAAAAANg/AAAAAAAA2D8AAAAAAADYP0oMu//HWdg/lBh2/4+z2D/eJDH/Vw3ZPygx7P4fZ9k/cj2n/ufA2T+8SWL+rxraPwVWHf53dNo/UGLY/T/O2j+abpP9ByjbP+R6Tv3Pgds/LYcJ/Zfb2z93k8T8XzXcP8Gff/wnj9w/C6w6/O/o3D9WuPX7t0LdP5/EsPt/nN0/6dBr+0f23T8z3Sb7D1DeP33p4frXqd4/x/Wc+p8D3z8QAlj6Z13fP1oOE/ovt98/QSkZfjPw3z8sbXz7m5zfPxex33gESd8/AvVC9mz13j/tOKZz1aHeP9h8CfE9Tt4/w8Bsbqb63T+uBNDrDqfdP5pIM2l3U90/hIyW5t//3D9w0PljSKzcP1sUXeGwWNw/RljAXhkF3D8xnCPcgbHbPxzghlnqXds/ByTq1lIK2z/yZ01Uu7baP92rsNEjY9o/yO8TT4wP2j+0M3fM9LvZP5532kldaNk/irs9x8UU2T91/6BELsHYP2BDBMKWbdg/S4dnP/8Z2D8c7vlxID/YP3L3el+/mtg/xwD8TF722D8dCn06/VHZP3IT/iecrdk/yBx/FTsJ2j8dJgAD2mTaP3MvgfB4wNo/yDgC3hcc2z8eQoPLtnfbP3NLBLlV09s/yFSFpvQu3D8eXgaUk4rcP3Rnh4Ey5tw/yXAIb9FB3T8eeolccJ3dP3SDCkoP+d0/yYyLN65U3j8flgwlTbDeP3SfjRLsC98/yqgOAItn3z8fso/tKcPfPwAAAAAAAOA/AAAAAAAA4D8AAAAAAADgPwAAAAAAAOA/1ruTxFk/4D+BM7tNDb7gPyyr4tbAPOE/2CIKYHS74T+DmjHpJzriPy4SWXLbuOI/2omA+4434z+FAaiEQrbjP34lm4CH7uM/c8dMv7vE4z9paf7975rjP14LsDwkceM/IUTqJ7k64z8MiE2lIefiP/fLsCKKk+I/4g8UoPI/4j/NU3cdW+zhP7iX2prDmOE/o9s9GCxF4T+OH6GVlPHgP3pjBBP9neA/ZKdnkGVK4D+g1pUbnO3fP3ZeXBZtRt8/S+YiET6f3j8ibukLD/jdP/j1rwbgUN0/zn12AbGp3D+kBT38gQLcP3qNA/dSW9s/URXK8SO02j8nnZDs9AzaP/4kV+fFZdk/iIadi5u82T+OIvfYISraP5a+UCaol9o/nVqqcy4F2z9ZTJp9njfcP5Qtd9Ormt0/zg5UKbn93j8EeJg/YzDgP6Lohurp4eA/Pll1lXCT4T/+LeA7vibiP4xy0/61d+I/HLfGwa3I4j+r+7mEpRnjPzpArUedauM/yoSgCpW74z8AAAAAAADkPwAAAAAAAOQ/AAAAAAAA5D8AAAAAAADkPwAAAAAAAOQ/AAAAAAAA5D8AAAAAAADkPwAAAAAAAOQ/AAAAAAAA5D8AAAAAAADkPwAAAAAAAOQ/AAAAAAAA5D8AAAAAAADkPwAAAAAAAOQ/AAAAAAAA5D8AAAAAAADkPwAAAAAAAOQ/AAAAAAAA5D8AAAAAAADkPwAAAAAAAOQ/AAAAAAAA5D8AAAAAAADkPwAAAAAAAOQ/AAAAAAAA5D8AAAAAAADkPwAAAAAAAOQ/AAAAAAAA5D8AAAAAAADkPwAAAAAAAOQ/AAAAAAAA5D8AAAAAAADkPwAAAAAAAOQ/AAAAAAAA5D8AAAAAAADkPwAAAAAAAOQ/AAAAAAAA5D8AAAAAAADkPwAAAAAAAOQ/AAAAAAAA5D8AAAAAAADkPwAAAAAAAOQ/AAAAAAAA5D8AAAAAAADkPwAAAAAAAOQ/AAAAAAAA5D8AAAAAAADkPwAAAAAAAOQ/AAAAAAAA5D8AAAAAAADkPwAAAAAAAOQ/AAAAAAAA5D8AAAAAAADkPwAAAAAAAOQ/AAAAAAAA5D8AAAAAAADkPwAAAAAAAOQ/AAAAAAAA5D8AAAAAAADkPwAAAAAAAOQ/AAAAAAAA5D8AAAAAAADkPwAAAAAAAOQ/AAAAAAAA5D8AAAAAAADkPwAAAAAAAOQ/AAAAAAAA5D8AAAAAAADkPwAAAAAAAOQ/AAAAAAAA5D8AAAAAAADkPwAAAAAAAOQ/zNmZO2b64z/Ce0t6mtDjP7gd/bjOpuM/rb+u9wJ94z+iYWA2N1PjP5gDEnVrKeM/jqXDs5//4j+DR3Xy09XiP3npJjEIrOI/bovYbzyC4j9kLYqucFjiP1rPO+2kLuI/T3HtK9kE4j9EE59qDdvhPzq1UKlBseE/L1cC6HWH4T8l+bMmql3hPw6KXQooCuE/+M3Ah5C24D/jESQF+WLgP85Vh4JhD+A/dDPV/5N33z9Ku5v6ZNDePyBDYvU1Kd4/9soo8AaC3T+IxCmNzUXePxHMGFAc298/zumDiTW44D+Tbfvq3ILhP3WGS5W84OE/ayj90/C24T9gyq4SJY3hP1ZsYFFZY+E/Sw4SkI054T9BsMPOwQ/hPzZSdQ325eA/LPQmTCq84D8iltiKXpLgPxc4ismSaOA/DNo7CMc+4D8CfO1G+xTgP8pzAVf/BuE/1G8rzRoX4z8AAAAAAADkPwAAAAAAAOQ/AAAAAAAA5D8AAAAAAADkPwAAAAAAAOQ/AAAAAAAA5D8AAAAAAADkPwAAAAAAAOQ/AAAAAAAA5D8AAAAAAADkPwAAAAAAAOQ/AAAAAAAA5D8AAAAAAADkPwAAAAAAAOQ/AAAAAAAA5D8AAAAAAADkPwAAAAAAAOQ/AAAAAAAA5D8AAAAAAADkPwAAAAAAAOQ/AAAAAAAA5D8=\",\"dtype\":\"float64\",\"shape\":[601]}}},\"id\":\"d577d804-ad62-4bcf-ad63-7032067a0636\",\"type\":\"ColumnDataSource\"},{\"attributes\":{\"plot\":{\"id\":\"ac03c1e9-d242-420c-8298-f6c9b17472d3\",\"subtype\":\"Figure\",\"type\":\"Plot\"}},\"id\":\"ff3b222b-1fe7-47af-8d2c-04bab5fdc725\",\"type\":\"PanTool\"},{\"attributes\":{\"line_alpha\":{\"value\":0.1},\"line_color\":{\"value\":\"#1f77b4\"},\"line_width\":{\"value\":2},\"x\":{\"field\":\"x\"},\"y\":{\"field\":\"y\"}},\"id\":\"895002b2-ad89-4089-9821-4570aa189517\",\"type\":\"Line\"},{\"attributes\":{\"use_scientific\":false},\"id\":\"b07a0a1f-5dab-4f2e-afa5-37c3df9fc526\",\"type\":\"BasicTickFormatter\"},{\"attributes\":{},\"id\":\"b6684ea1-d231-4967-988b-5f917896f561\",\"type\":\"ToolEvents\"},{\"attributes\":{\"plot\":{\"id\":\"ac03c1e9-d242-420c-8298-f6c9b17472d3\",\"subtype\":\"Figure\",\"type\":\"Plot\"}},\"id\":\"fb609580-a636-421b-8a44-b4c701f4fecc\",\"type\":\"WheelZoomTool\"},{\"attributes\":{\"bottom_units\":\"screen\",\"fill_alpha\":{\"value\":0.5},\"fill_color\":{\"value\":\"lightgrey\"},\"left_units\":\"screen\",\"level\":\"overlay\",\"line_alpha\":{\"value\":1.0},\"line_color\":{\"value\":\"black\"},\"line_dash\":[4,4],\"line_width\":{\"value\":2},\"plot\":null,\"render_mode\":\"css\",\"right_units\":\"screen\",\"top_units\":\"screen\"},\"id\":\"70fdcebe-f0bd-41c3-b588-4856bf4f08df\",\"type\":\"BoxAnnotation\"},{\"attributes\":{\"data_source\":{\"id\":\"df655cd6-d2c6-4d7b-bc71-c74f424f736b\",\"type\":\"ColumnDataSource\"},\"glyph\":{\"id\":\"abb790c9-0605-402d-bfde-84a6a35b64a7\",\"type\":\"Line\"},\"hover_glyph\":null,\"nonselection_glyph\":{\"id\":\"01f2bfbe-29f2-4613-a132-ed6f300b3e60\",\"type\":\"Line\"},\"selection_glyph\":null},\"id\":\"0801d587-1969-477c-b8a6-18391e0ba59d\",\"type\":\"GlyphRenderer\"},{\"attributes\":{\"plot\":{\"id\":\"ac03c1e9-d242-420c-8298-f6c9b17472d3\",\"subtype\":\"Figure\",\"type\":\"Plot\"},\"ticker\":{\"id\":\"9d574f8b-f4a9-4f10-95bc-82f0f69b2f53\",\"type\":\"BasicTicker\"}},\"id\":\"2b9fadf3-547f-4345-8973-ce0dc4b8fe9c\",\"type\":\"Grid\"},{\"attributes\":{},\"id\":\"b88c17f2-fe06-4e9c-bc19-1c61b57937cc\",\"type\":\"BasicTickFormatter\"},{\"attributes\":{\"plot\":null,\"text\":\"Med Maze 14 0.5 Prioritized XP Replay Stale\"},\"id\":\"79913be8-eaa8-4a53-929c-713e1c4731a4\",\"type\":\"Title\"},{\"attributes\":{\"line_color\":{\"value\":\"#984ea3\"},\"line_width\":{\"value\":2},\"x\":{\"field\":\"x\"},\"y\":{\"field\":\"y\"}},\"id\":\"8ba0e2f9-ba11-487e-b4d1-f1fcb78e88b3\",\"type\":\"Line\"},{\"attributes\":{\"line_color\":{\"value\":\"#4daf4a\"},\"line_width\":{\"value\":2},\"x\":{\"field\":\"x\"},\"y\":{\"field\":\"y\"}},\"id\":\"5b1e2da6-3b72-4626-900e-57129a8d5e4b\",\"type\":\"Line\"},{\"attributes\":{\"label\":{\"value\":\"300k Xp 4 NScaler\"},\"renderers\":[{\"id\":\"7c050f09-90c2-4dc3-b388-4ae422e612ab\",\"type\":\"GlyphRenderer\"}]},\"id\":\"16abe809-2e24-4541-ac53-d438faca93e4\",\"type\":\"LegendItem\"},{\"attributes\":{\"callback\":null,\"end\":1.1,\"start\":-0.1},\"id\":\"b399f3fc-e1ac-4acb-9219-c47bc8909d88\",\"type\":\"Range1d\"},{\"attributes\":{\"line_alpha\":{\"value\":0.1},\"line_color\":{\"value\":\"#1f77b4\"},\"line_width\":{\"value\":2},\"x\":{\"field\":\"x\"},\"y\":{\"field\":\"y\"}},\"id\":\"0c2924c8-3126-416a-a3cc-7fb2b28490c7\",\"type\":\"Line\"},{\"attributes\":{\"plot\":{\"id\":\"ac03c1e9-d242-420c-8298-f6c9b17472d3\",\"subtype\":\"Figure\",\"type\":\"Plot\"}},\"id\":\"a3293ba3-530b-49b1-bd1c-d5321b3e83d5\",\"type\":\"HelpTool\"},{\"attributes\":{},\"id\":\"9d574f8b-f4a9-4f10-95bc-82f0f69b2f53\",\"type\":\"BasicTicker\"},{\"attributes\":{\"callback\":null,\"column_names\":[\"x\",\"y\"],\"data\":{\"x\":[0,1000,2000,3000,4000,5000,6000,7000,8000,9000,10000,11000,12000,13000,14000,15000,16000,17000,18000,19000,20000,21000,22000,23000,24000,25000,26000,27000,28000,29000,30000,31000,32000,33000,34000,35000,36000,37000,38000,39000,40000,41000,42000,43000,44000,45000,46000,47000,48000,49000,50000,51000,52000,53000,54000,55000,56000,57000,58000,59000,60000,61000,62000,63000,64000,65000,66000,67000,68000,69000,70000,71000,72000,73000,74000,75000,76000,77000,78000,79000,80000,81000,82000,83000,84000,85000,86000,87000,88000,89000,90000,91000,92000,93000,94000,95000,96000,97000,98000,99000,100000,101000,102000,103000,104000,105000,106000,107000,108000,109000,110000,111000,112000,113000,114000,115000,116000,117000,118000,119000,120000,121000,122000,123000,124000,125000,126000,127000,128000,129000,130000,131000,132000,133000,134000,135000,136000,137000,138000,139000,140000,141000,142000,143000,144000,145000,146000,147000,148000,149000,150000,151000,152000,153000,154000,155000,156000,157000,158000,159000,160000,161000,162000,163000,164000,165000,166000,167000,168000,169000,170000,171000,172000,173000,174000,175000,176000,177000,178000,179000,180000,181000,182000,183000,184000,185000,186000,187000,188000,189000,190000,191000,192000,193000,194000,195000,196000,197000,198000,199000,200000,201000,202000,203000,204000,205000,206000,207000,208000,209000,210000,211000,212000,213000,214000,215000,216000,217000,218000,219000,220000,221000,222000,223000,224000,225000,226000,227000,228000,229000,230000,231000,232000,233000,234000,235000,236000,237000,238000,239000,240000,241000,242000,243000,244000,245000,246000,247000,248000,249000,250000,251000,252000,253000,254000,255000,256000,257000,258000,259000,260000,261000,262000,263000,264000,265000,266000,267000,268000,269000,270000,271000,272000,273000,274000,275000,276000,277000,278000,279000,280000,281000,282000,283000,284000,285000,286000,287000,288000,289000,290000,291000,292000,293000,294000,295000,296000,297000,298000,299000,300000,301000,302000,303000,304000,305000,306000,307000,308000,309000,310000,311000,312000,313000,314000,315000,316000,317000,318000,319000,320000,321000,322000,323000,324000,325000,326000,327000,328000,329000,330000,331000,332000,333000,334000,335000,336000,337000,338000,339000,340000,341000,342000,343000,344000,345000,346000,347000,348000,349000,350000,351000,352000,353000,354000,355000,356000,357000,358000,359000,360000,361000,362000,363000,364000,365000,366000,367000,368000,369000,370000,371000,372000,373000,374000,375000,376000,377000,378000,379000,380000,381000,382000,383000,384000,385000,386000,387000,388000,389000,390000,391000,392000,393000,394000,395000,396000,397000,398000,399000,400000,401000,402000,403000,404000,405000,406000,407000,408000,409000,410000,411000,412000,413000,414000,415000,416000,417000,418000,419000,420000,421000,422000,423000,424000,425000,426000,427000,428000,429000,430000,431000,432000,433000,434000,435000,436000,437000,438000,439000,440000,441000,442000,443000,444000,445000,446000,447000,448000,449000,450000,451000,452000,453000,454000,455000,456000,457000,458000,459000,460000,461000,462000,463000,464000,465000,466000,467000,468000,469000,470000,471000,472000,473000,474000,475000,476000,477000,478000,479000,480000,481000,482000,483000,484000,485000,486000,487000,488000,489000,490000,491000,492000,493000,494000,495000,496000,497000,498000,499000,500000,501000,502000,503000,504000,505000,506000,507000,508000,509000,510000,511000,512000,513000,514000,515000,516000,517000,518000,519000,520000,521000,522000,523000,524000,525000,526000,527000,528000,529000,530000,531000,532000,533000,534000,535000,536000,537000,538000,539000,540000,541000,542000,543000,544000,545000,546000,547000,548000,549000,550000,551000,552000,553000,554000,555000,556000,557000,558000,559000,560000,561000,562000,563000,564000,565000,566000,567000,568000,569000,570000,571000,572000,573000,574000,575000,576000,577000,578000,579000,580000,581000,582000,583000,584000,585000,586000,587000,588000,589000,590000,591000,592000,593000,594000,595000,596000,597000,598000,599000,600000],\"y\":{\"__ndarray__\":\"AAAAAAAAAAAAAAAAAAAAAAAAAAAAAAAAAAAAAAAAAAAAAAAAAAAAAAAAAAAAAAAAAAAAAAAAAAAAAAAAAAAAAAAAAAAAAAAAAAAAAAAAAAAAAAAAAAAAAAAAAAAAAAAAAAAAAAAAAAAAAAAAAAAAAAAAAAAAAAAAAAAAAAAAAAAAAAAAAAAAAAAAAAAAAAAAAAAAAAAAAAAAAAAAAAAAAAAAAAAAAAAAAAAAAAAAAAAAAAAAAAAAAAAAAAAAAAAAAAAAAAAAAAAAAAAAAAAAAAAAAAAAAAAAAAAAAAAAAAAAAAAAAAAAAAAAAAAAAAAAAAAAAAAAAAAAAAAAAAAAAAAAAAAAAAAAAAAAAAAAAAAAAAAAAAAAAAAAAAAAAAAAAAAAAAAAAAAAAAAAAAAAAAAAAAAAAAAAAAAAAAAAAAAAAAAAAAAAAAAAAAAAAAAAAAAAAAAAAAAAAAAAAAAAAAAAAAAAAAAAAAAAAAAAAAAAAAAAAAAAAAAAAAAAAAAAAAAAAAAAAAAAAAAAAAAAAAAAAAAAAAAAAAAAAAAAAAAAAAAAAAAAAAAAAAAAAAAAAAAAAAAAAAAAAAAAAAAAAAAAAAAAAAAAAAAAAAAAAAAAAAAAAAAAAAAAAAAAAAAAAAAAAAAAAAAAAAAAAAAAAAAAAAAAAAAAAAAAAAAAAAAAAAAAAAAAAAAAAAAAAAAAAAAAAAAAAAAAAAAAAAAAAAAAAAAAAAAAAAAAAAAAAAAAAAAAAAAAAAAAAAAAAAAAAAAAAAAAAAAAAAAAAAAAAAAAAAAAAAAAAAAAAAAAAAAAAAAAAAAAAAAAAAAAAAAAAAAAAAAAAAAAAAAAAAAAAAAAAAAAAAAAAAAAAAAAAAAAAAAAAAAAAAAAAAAAAAAAAAAAAAAAAAAAAAAAAAAAAAAAAAAAAAAAAAAAAAAAAAAAAAAAAAAAAAAAAAAAAAAAAAAAAAAAAAAAAAAAAAAAAAAAAAAAAAAAAAAAAAAAAAAAAAAAAAAAAAAAAAAAAAAAAAAAAAAAAAAAAAAAAAAAAAAAAAAAAAAAVO+1BF5oeD9U77UEXmiIP39ziINGTpI/VO+1BF5omD8pa+OFdYKeP39ziINGTqI/aTEfRFJbpT9U77UEXmioPz6tTMVpdas/KWvjhXWCrj+KFD2jwMewP39ziINGTrI/dNLTY8zUsz9pMR9EUlu1P1+QaiTY4bY/VO+1BF5ouD9JTgHl4+65Pz6tTMVpdbs/NAyYpe/7vD8pa+OFdYK+PwAAAAAAAMA/AAAAAAAAwD////////+/P////////78/AAAAAAAAwD8AAAAAAADAPwAAAAAAAMA/////////vz////////+/PwAAAAAAAMA/AAAAAAAAwD8AAAAAAADAPwAAAAAAAMA/////////vz////////+/PwAAAAAAAMA/AAAAAAAAwD8AAAAAAADAP////////78/AAAAAAAAwD8AAAAAAADAPwAAAAAAAMA/AAAAAAAAwD8AAAAAAADAPwAAAAAAAMA/AAAAAAAAwD8AAAAAAADAPwAAAAAAAMA/AAAAAAAAwD8AAAAAAADAPwAAAAAAAMA/AAAAAAAAwD8AAAAAAADAPwAAAAAAAMA/AAAAAAAAwD////////+/PwAAAAAAAMA/////////vz8AAAAAAADAPwAAAAAAAMA/AAAAAAAAwD8AAAAAAADAPwAAAAAAAMA/AAAAAAAAwD8AAAAAAADAPwAAAAAAAMA/AAAAAAAAwD////////+/PwAAAAAAAMA/////////vz8AAAAAAADAPwAAAAAAAMA/AAAAAAAAwD8AAAAAAADAPwAAAAAAAMA/AAAAAAAAwD8AAAAAAADAPwAAAAAAAMA/AAAAAAAAwD8AAAAAAADAPwAAAAAAAMA/AAAAAAAAwD8AAAAAAADAPwAAAAAAAMA/AQAAAAAAwD8BAAAAAADAPwAAAAAAAMA/AAAAAAAAwD////////+/P////////78/AAAAAAAAwD8AAAAAAADAPwAAAAAAAMA/AAAAAAAAwD8AAAAAAADAPwAAAAAAAMA/AAAAAAAAwD8AAAAAAADAP9iYYrek+8A/rzHFbkn3wT+Hyicm7vLCP15jit2S7sM/NvzslDfqxD8NlU9M3OXFP+UtsgOB4cY/vMYUuyXdxz+UX3dyytjIP2z42Slv1Mk/Q5E84RPQyj8aKp+YuMvLP/LCAVBdx8w/yVtkBwLDzT+g9Ma+pr7OP3iNKXZLus8/PCPpTiCHzz8Sq69J8d/OP+gydkTCOM4/vro8P5ORzT+UQgM6ZOrMP2vKyTQ1Q8w/QVKQLwacyz8Y2lYq1/TKPxCZzZv3Qss/LI/0g2eGzD9KhRts18nNP2V7QlRHDc8/wbg0nlso0D/PM0iSE8rQP96uW4bLa9E/7ClveoMN0j/6pIJuO6/SPwgglmLzUNM/FpupVqvy0z8kFr1KY5TUPzKR0D4bNtU/QAzkMtPX1T9Ph/cmi3nWP10CCxtDG9c/VzyoCqXk1z9HMehknRPZP6iuRrGAttk/CSyl/WNZ2j9qqQNKR/zaP8smYpYqn9s/LKTA4g1C3D+NIR8v8eTcP+6efXvUh90/CDI/eG9J3T/zdaL11/XcP965BXNAotw/yf1o8KhO3D+0QcxtEfvbP5+FL+t5p9s/ismSaOJT2z92DfblSgDbP2BRWWOzrNo/S5W84BtZ2j822R9ehAXaPyIdg9vssdk/DWHmWFVe2T/4pEnWvQrZP+PorFMmt9g/ziwQ0Y5j2D+5cHNO9w/YP8qKDuYdXtg/ZjWKOHTS2D8C4AWLykbZP56Kgd0gu9k/OjX9L3cv2j/V33iCzaPaP3GK9NQjGNs/DTVwJ3qM2z+p3+t50ADcP0SKZ8wmddw/4DTjHn3p3D98315x013dPxiK2sMp0t0/tDRWFoBG3j9P39Fo1rreP+uJTbssL98/hzTJDYOj3z8AAAAAAADgPwAAAAAAAOA/AAAAAAAA4D8AAAAAAADgPwAAAAAAAOA/AAAAAAAA4D8AAAAAAADgPwAAAAAAAOA/AAAAAAAA4D8AAAAAAADgPwAAAAAAAOA/AAAAAAAA4D8AAAAAAADgPwAAAAAAAOA/AAAAAAAA4D8AAAAAAADgPwAAAAAAAOA/AAAAAAAA4D8AAAAAAADgPwAAAAAAAOA/AAAAAAAA4D8AAAAAAADgPwAAAAAAAOA/AAAAAAAA4D8AAAAAAADgPwAAAAAAAOA/AAAAAAAA4D8AAAAAAADgPwAAAAAAAOA/AAAAAAAA4D8AAAAAAADgPwAAAAAAAOA/AAAAAAAA4D8AAAAAAADgPwAAAAAAAOA/AAAAAAAA4D8AAAAAAADgPwAAAAAAAOA/AAAAAAAA4D8AAAAAAADgPwAAAAAAAOA/AAAAAAAA4D8AAAAAAADgPwAAAAAAAOA/AAAAAAAA4D8AAAAAAADgPwAAAAAAAOA/AAAAAAAA4D8AAAAAAADgPwAAAAAAAOA/AAAAAAAA4D8AAAAAAADgP+bf/66Zz98/0iNjLAJ83z+9Z8apaijfP6irKSfT1N4/k++MpDuB3j9+M/AhpC3eP2l3U58M2t0/VLu2HHWG3T8//xma3TLdPypDfRdG39w/FofglK6L3D8By0MSFzjcP+wOp49/5Ns/11IKDeiQ2z/Clm2KUD3bP63a0Ae56do/mB40hSGW2j+EYpcCikLaP26m+n/y7tk/Wupd/Vqb2T9ELsF6w0fZPy9yJPgr9Ng/G7aHdZSg2D8G+ury/EzYP7/vzPx6Ddg/tImkXx642D+qI3zCwWLZP5+9UyVlDdo/lFcriAi42j+K8QLrq2LbP3+L2k1PDdw/dCWysPK33D9qv4kTlmLdP19ZYXY5Dd4/VfM42dy33j9KjRA8gGLfPwAAAAAAAOA/AAAAAAAA4D8AAAAAAADgPwAAAAAAAOA/AAAAAAAA4D8AAAAAAADgPwAAAAAAAOA/AAAAAAAA4D8AAAAAAADgPwAAAAAAAOA/AAAAAAAA4D8AAAAAAADgPwAAAAAAAOA/AAAAAAAA4D8AAAAAAADgPwAAAAAAAOA/AAAAAAAA4D8AAAAAAADgPwAAAAAAAOA/AAAAAAAA4D8AAAAAAADgPwAAAAAAAOA/AAAAAAAA4D8AAAAAAADgPwAAAAAAAOA/AAAAAAAA4D8AAAAAAADgPwAAAAAAAOA/AAAAAAAA4D8AAAAAAADgPwAAAAAAAOA/AAAAAAAA4D8AAAAAAADgPwAAAAAAAOA/AAAAAAAA4D8AAAAAAADgP4o0k3Y39d8/dXj285+h3z9gvFlxCE7fP0sAve5w+t4/NkQgbNmm3j8hiIPpQVPePwzM5maq/90/9w9K5BKs3T/iU61he1jdP86XEN/jBN0/uNtzXEyx3D+kH9fZtF3cP49jOlcdCtw/ktDcCXkG3D+tZr7xx1LcP8n8n9kWn9w/5JKBwWXr3D//KGOptDfdPxq/RJEDhN0/N1UmeVLQ3T9S6wdhoRzeP22B6UjwaN4/iRfLMD+13j+krawYjgHfP79DjgDdTd8/AF5F+Pcq4D+OrDH/Da/gP8p8sx+EGuE/Bk01QPqF4T9CHbdgcPHhP37tOIHmXOI/ub26oVzI4j/1jTzC0jPjPzBevuJIn+M/AAAAAAAA5D8AAAAAAADkPwAAAAAAAOQ/AAAAAAAA5D9EEsP2qUzkP4gkhu1TmeQ/zDZJ5P3l5D8QSQzbpzLlP1Nbz9FRf+U/l22SyPvL5T/bf1W/pRjmPx+SGLZPZeY/Y6TbrPmx5j+ntp6jo/7mP+vIYZpNS+c/LtskkfeX5z9T7h5U9NPnPyvznhmnquc/FjcClw9X5z8Ce2UUeAPnP+2+yJHgr+Y/2AIsD0lc5j/DRo+MsQjmP66K8gkateU/mc5Vh4Jh5T+EErkE6w3lP29WHIJTuuQ/D1YpT8JT5D/vOz4LX9bjP9AhU8f7WOM/sQdog5jb4j+R7Xw/NV7iP3LTkfvR4OE/U7mmt25j4T80n7tzC+bgP8s1vXUbS+A/QnsH4dhH3z/uipTWevndP5qaIcwcq9w/Rqquwb5c2z/yuTu3YA7aPzUn7vYcF9k/C6+08e1v2D/hNnvsvsjXP7e+QeePIdc/jUYI4mB61j9jzs7cMdPVPzlWldcCLNU/D95b0tOE1D/lZSLNpN3TP73t6Md1NtM/k3WvwkaP0j9PUZjpYObSP467/eu9SdM/ziVj7hqt0z8NkMjwdxDUP0z6LfPUc9Q/jGST9THX1D/Kzvj3jjrVP5N5Nq05r9U/5584Mi5m1j87xjq3Ih3XPzxMqC9Yutc/l6POcKmS1z+C5zHuET/XP07m7b7VEdc/M+/6EmAe1z8Y+Adn6irXP/wAFbt0N9c/4QkiD/9D1z/GEi9jiVDXP6obPLcTXdc/jyRJC55p1z90LVZfKHbXP1g2Y7Oygtc/PT9wBz2P1z8iSH1bx5vXPwZRiq9RqNc/61mXA9y01z/QYqRXZsHXP7Rrsavwzdc/mXS+/3ra1z9+fctTBefXP2KG2KeP89c/R4/l+xkA2D8smPJPpAzYP9gro8AbCNg/otQIitb61z8zpq0hJBLYP8R3UrlxKdg/BF0gdI9O2D/lOndHdcbYP8gYzhpbPtk/qvYk7kC22T+M1HvBJi7aP2+y0pQMpto/UJApaPId2z8yboA72JXbPxRM1w6+Ddw/9yku4qOF3D/ZB4W1if3cP7zl24hvdd0/nsMyXFXt3T+AoYkvO2XeP2J/4AIh3d4/Q1031gZV3z88lfS1jIffP3jlCW+NlN8/ii7iX67h3z/r67E/PJLgP5HAck+hM+E/gYyI2LFs4j8qXUuIjN/jP/s4cLyNT+U/zBSV8I6/5j94PF0iP9PnPwAAAAAAAOg/AAAAAAAA6D8AAAAAAADoPwAAAAAAAOg/AAAAAAAA6D8AAAAAAADoPwAAAAAAAOg/AAAAAAAA6D8AAAAAAADoPwAAAAAAAOg/AAAAAAAA6D8AAAAAAADoPwAAAAAAAOg/AAAAAAAA6D8AAAAAAADoPwAAAAAAAOg/K8onaNT+5z8gbNmmCNXnPxYOi+U8q+c/DLA8JHGB5z9g8yXE9zjnP0w3iUFg5eY/N3vsvsiR5j9Rc/2Q3yfmPzFZEk18quU/Ej8nCRkt5T/yJDzFta/kP9MKUYFSMuQ/tPBlPe+04z+U1nr5izfjP3a8j7UouuI/VqKkccU84j82iLktYr/hPxduzun+QeE/+FPjpZvE4D8hOKXroh7gP/B/18zn7t4/nI9kwomg3T9Jn/G3K1LcP/aufq3NA9s/or4Lo2+12T86pFCCsO7YP1z/Nfwtodg/flobdqtT2D/6xKyrETzYP2BdfKPw1Ng/w/VLm89t2T8=\",\"dtype\":\"float64\",\"shape\":[601]}}},\"id\":\"224ff722-fc0e-4a60-83ed-11fd83303afc\",\"type\":\"ColumnDataSource\"},{\"attributes\":{\"callback\":null},\"id\":\"73781ab3-c817-4366-b6b9-a94128b51c12\",\"type\":\"DataRange1d\"},{\"attributes\":{\"label\":{\"value\":\"100k Xp 4 NScaler\"},\"renderers\":[{\"id\":\"0801d587-1969-477c-b8a6-18391e0ba59d\",\"type\":\"GlyphRenderer\"}]},\"id\":\"f5913a05-64f4-4915-bbf0-37e06380b3fd\",\"type\":\"LegendItem\"},{\"attributes\":{\"overlay\":{\"id\":\"70fdcebe-f0bd-41c3-b588-4856bf4f08df\",\"type\":\"BoxAnnotation\"},\"plot\":{\"id\":\"ac03c1e9-d242-420c-8298-f6c9b17472d3\",\"subtype\":\"Figure\",\"type\":\"Plot\"}},\"id\":\"78c39f33-5b2f-4c52-a056-3a54a2e9cb9c\",\"type\":\"BoxZoomTool\"},{\"attributes\":{\"line_alpha\":{\"value\":0.1},\"line_color\":{\"value\":\"#1f77b4\"},\"line_width\":{\"value\":2},\"x\":{\"field\":\"x\"},\"y\":{\"field\":\"y\"}},\"id\":\"01f2bfbe-29f2-4613-a132-ed6f300b3e60\",\"type\":\"Line\"},{\"attributes\":{\"label\":{\"value\":\"300k Xp 1 NScaler\"},\"renderers\":[{\"id\":\"eee2dcfb-d188-47d9-967e-7b26676ee23c\",\"type\":\"GlyphRenderer\"}]},\"id\":\"4acc6c0e-76c1-4828-80b8-741212b0934d\",\"type\":\"LegendItem\"},{\"attributes\":{\"active_drag\":\"auto\",\"active_scroll\":\"auto\",\"active_tap\":\"auto\",\"tools\":[{\"id\":\"ff3b222b-1fe7-47af-8d2c-04bab5fdc725\",\"type\":\"PanTool\"},{\"id\":\"fb609580-a636-421b-8a44-b4c701f4fecc\",\"type\":\"WheelZoomTool\"},{\"id\":\"78c39f33-5b2f-4c52-a056-3a54a2e9cb9c\",\"type\":\"BoxZoomTool\"},{\"id\":\"34240d55-957a-417f-8988-f0274bec0ddc\",\"type\":\"SaveTool\"},{\"id\":\"0477a008-3525-4506-a483-2f54dfe9102e\",\"type\":\"ResetTool\"},{\"id\":\"a3293ba3-530b-49b1-bd1c-d5321b3e83d5\",\"type\":\"HelpTool\"}]},\"id\":\"58577251-d148-40cb-a8d6-aa6935337822\",\"type\":\"Toolbar\"},{\"attributes\":{\"callback\":null,\"column_names\":[\"x\",\"y\"],\"data\":{\"x\":[0,1000,2000,3000,4000,5000,6000,7000,8000,9000,10000,11000,12000,13000,14000,15000,16000,17000,18000,19000,20000,21000,22000,23000,24000,25000,26000,27000,28000,29000,30000,31000,32000,33000,34000,35000,36000,37000,38000,39000,40000,41000,42000,43000,44000,45000,46000,47000,48000,49000,50000,51000,52000,53000,54000,55000,56000,57000,58000,59000,60000,61000,62000,63000,64000,65000,66000,67000,68000,69000,70000,71000,72000,73000,74000,75000,76000,77000,78000,79000,80000,81000,82000,83000,84000,85000,86000,87000,88000,89000,90000,91000,92000,93000,94000,95000,96000,97000,98000,99000,100000,101000,102000,103000,104000,105000,106000,107000,108000,109000,110000,111000,112000,113000,114000,115000,116000,117000,118000,119000,120000,121000,122000,123000,124000,125000,126000,127000,128000,129000,130000,131000,132000,133000,134000,135000,136000,137000,138000,139000,140000,141000,142000,143000,144000,145000,146000,147000,148000,149000,150000,151000,152000,153000,154000,155000,156000,157000,158000,159000,160000,161000,162000,163000,164000,165000,166000,167000,168000,169000,170000,171000,172000,173000,174000,175000,176000,177000,178000,179000,180000,181000,182000,183000,184000,185000,186000,187000,188000,189000,190000,191000,192000,193000,194000,195000,196000,197000,198000,199000,200000,201000,202000,203000,204000,205000,206000,207000,208000,209000,210000,211000,212000,213000,214000,215000,216000,217000,218000,219000,220000,221000,222000,223000,224000,225000,226000,227000,228000,229000,230000,231000,232000,233000,234000,235000,236000,237000,238000,239000,240000,241000,242000,243000,244000,245000,246000,247000,248000,249000,250000,251000,252000,253000,254000,255000,256000,257000,258000,259000,260000,261000,262000,263000,264000,265000,266000,267000,268000,269000,270000,271000,272000,273000,274000,275000,276000,277000,278000,279000,280000,281000,282000,283000,284000,285000,286000,287000,288000,289000,290000,291000,292000,293000,294000,295000,296000,297000,298000,299000,300000,301000,302000,303000,304000,305000,306000,307000,308000,309000,310000,311000,312000,313000,314000,315000,316000,317000,318000,319000,320000,321000,322000,323000,324000,325000,326000,327000,328000,329000,330000,331000,332000,333000,334000,335000,336000,337000,338000,339000,340000,341000,342000,343000,344000,345000,346000,347000,348000,349000,350000,351000,352000,353000,354000,355000,356000,357000,358000,359000,360000,361000,362000,363000,364000,365000,366000,367000,368000,369000,370000,371000,372000,373000,374000,375000,376000,377000,378000,379000,380000,381000,382000,383000,384000,385000,386000,387000,388000,389000,390000,391000,392000,393000,394000,395000,396000,397000,398000,399000,400000,401000,402000,403000,404000,405000,406000,407000,408000,409000,410000,411000,412000,413000,414000,415000,416000,417000,418000,419000,420000,421000,422000,423000,424000,425000,426000,427000,428000,429000,430000,431000,432000,433000,434000,435000,436000,437000,438000,439000,440000,441000,442000,443000,444000,445000,446000,447000,448000,449000,450000,451000,452000,453000,454000,455000,456000,457000,458000,459000,460000,461000,462000,463000,464000,465000,466000,467000,468000,469000,470000,471000,472000,473000,474000,475000,476000,477000,478000,479000,480000,481000,482000,483000,484000,485000,486000,487000,488000,489000,490000,491000,492000,493000,494000,495000,496000,497000,498000,499000,500000,501000,502000,503000,504000,505000,506000,507000,508000,509000,510000,511000,512000,513000,514000,515000,516000,517000,518000,519000,520000,521000,522000,523000,524000,525000,526000,527000,528000,529000,530000,531000,532000,533000,534000,535000,536000,537000,538000,539000,540000,541000,542000,543000,544000,545000,546000,547000,548000,549000,550000,551000,552000,553000,554000,555000,556000,557000,558000,559000,560000,561000,562000,563000,564000,565000,566000,567000,568000,569000,570000,571000,572000,573000,574000,575000,576000,577000,578000,579000,580000,581000,582000,583000,584000,585000,586000,587000,588000,589000,590000,591000,592000,593000,594000,595000,596000,597000,598000,599000,600000],\"y\":{\"__ndarray__\":\"AAAAAAAAAAAAAAAAAAAAAAAAAAAAAAAAAAAAAAAAAAAAAAAAAAAAAAAAAAAAAAAAAAAAAAAAAAAAAAAAAAAAAAAAAAAAAAAAAAAAAAAAAAAAAAAAAAAAAAAAAAAAAAAAAAAAAAAAAAAAAAAAAAAAAAAAAAAAAAAAAAAAAAAAAAAAAAAAAAAAAAAAAAAAAAAAAAAAAAAAAAAAAAAAAAAAAAAAAAAAAAAAAAAAAAAAAAAAAAAAAAAAAAAAAAAAAAAAAAAAAAAAAAAAAAAAAAAAAAAAAAAAAAAAAAAAAAAAAAAAAAAAAAAAAAAAAAAAAAAAAAAAAAAAAAAAAAAAAAAAAAAAAAAAAAAAAAAAAAAAAAAAAAAAAAAAAAAAAAAAAAAAAAAAAAAAAAAAAAAAAAAAAAAAAAAAAAAAAAAAAAAAAAAAAAAAAAAAAAAAAAAAAAAAAAAAAAAAAAAAAAAAAAAAAAAAAAAAAAAAAAAAAAAAAAAAAAAAAAAAAAAAAAAAAAAAAAAAAAAAAAAAAAAAAAAAAAAAAAAAAAAAAAAAAAAAAAAAAAAAAAAAAAAAAAAAAAAAAAAAAAAAAAAAAAAAAAAAAAAAAAAAAAAAAAAAAAAAAAAAAAAAAAAAAAAAAAAAAAAAAAAAAAAAAAAAAAAAAAAAAAAAAAAAAAAAAAAAAAAAAAAAAAAAAAAAAAAAAAAAAAAAAAAAAAAAAAAAAAAAAAAAAAAAAAAAAAAAAAAAAAAAAAAAAAAAAAAAAAAAAAAAAAAAAAAAAAAAAAAAAAAAAAAAAHmPYSrke4E/NVeSP9Y5mj9X8/k03dqlPxS7KkrPmK4/aMGtr2Crsz9GJUa6WQq4PySJ3sRSabw/AAAAAAAAwD8AAAAAAADAPwAAAAAAAMA/AAAAAAAAwD8AAAAAAADAPwAAAAAAAMA/AAAAAAAAwD8AAAAAAADAPwAAAAAAAMA/AAAAAAAAwD8AAAAAAADAPwAAAAAAAMA/AAAAAAAAwD8AAAAAAADAP////////78/////////vz8AAAAAAADAP////////78/AAAAAAAAwD8AAAAAAADAPwAAAAAAAMA/AAAAAAAAwD////////+/P////////78/////////vz8AAAAAAADAPwAAAAAAAMA/AAAAAAAAwD8AAAAAAADAPwAAAAAAAMA/AAAAAAAAwD8AAAAAAADAP4oa+ZgEmr8/NyqGjqZLvj/jOROESP28P5BJoHnqrrs/PFktb4xguj/oaLpkLhK5P5V4R1rQw7c/QYjUT3J1tj/ul2FFFCe1P5qn7jq22LM/Rrd7MFiKsj/zxggm+juxPz+tKzc4268/l8xFInw+rT/w618NwKGqP0kLevgDBag/oiqU40dopT/7Sa7Oi8uiP1NpyLnPLqA/WBHFSSckmz8KUPkfr+qVP7yOLfY2sZA/25rDmH3vhj98MFiKGvl4PwmtpIznTFA/AAAAAAAAAAAAAAAAAAAAAAAAAAAAAAAAAAAAAAAAAAAAAAAAAAAAAAAAAAAAAAAAAAAAAAAAAAAAAAAAAAAAAAAAAAAAAAAAAAAAAAAAAAAAAAAAAAAAAAAAAAAAAAAAAAAAAAAAAAAAAAAAAAAAAAAAAAAAAAAAAAAAAAAAAAAAAAAAAAAAAAAAAAAAAAAAAAAAAAAAAAAAAAAAAAAAAAAAAAAAAAAAAAAAAAAAAAAAAAAAAAAAAAAAAAAAAAAAAAAAAAAAAAAAAAAAAAAAAAAAAAAAAAAAAAAAAAAAAAAAAAAAAAAAAAAAAAAAAAAAAAAAAAAAAAAAAAAAAAAAAAAAAAAAAAAAAAAAAAAAAABrot2JUT1lP6BzzE76238/BgtV7KWMij8d7qFYp5WSP7hWGbv75Jc/U7+QHVA0nT/3EwRA0kGhP0TIP3F86aM/knx7oiaRpj/fMLfT0DipPyzl8gR74Ks/epkuNiWIrj/jJrWz55ewPwoBU8y867E/Mdvw5JE/sz9YtY79ZpO0P36PLBY857U/pWnKLhE7tz/MQ2hH5o64P/IdBmC74rk/GfijeJA2uz9A0kGRZYq8P2as36k63r0/jYZ9wg8yvz/JCjZfQny/P0w108Ra278/6C84lTkdwD8qxQbIxUzAP2xa1fpRfMA/ru+jLd6rwD/whHJgatvAPzEaQZP2CsE/dK8PxoI6wT+1RN74DmrBP/jZrCubmcE/OW97XifJwT97BEqRs/jBP72ZGMQ/KMI//y7n9stXwj9BxLUpWIfCP4JZhFzktsI/xO5Sj3Dmwj8GhCHC/BXDP0gZ8PSIRcM/LUYVr88Twj/aVaKkccXAPwzLXjQn7r4/ZOp4H2tRvD+9CZMKr7S5P9KDie5ixbk/Wj1QOVwnuj/h9haEVYm6P2iw3c5O67o/8GmkGUhNuz94I2tkQa+7PwDdMa86Ebw/h5b4+TNzvD8OUL9ELdW8P5YJho8mN70/HcNM2h+ZvT+mfBMlGfu9Py022m8SXb4/tO+gugu/vj88qWcFBSG/P8NiLlD+gr8/Sxz1mvfkvz/q6t1yeCPAP61HQRh1VMA/GQXeQLDDvj/GFGs2UnW9P3Ik+Cv0Jrw/HzSFIZbYuj/LQxIXOIq5P3dTnwzaO7g/JGMsAnzttj/Qcrn3HZ+1P32CRu2/ULQ/KZLT4mECsz/VoWDYA7SxP4Kx7c2lZbA/XYL1ho8urj+1oQ9y05GrPw7BKV0X9ag/Z+BDSFtYpj/A/10zn7ujPxkfeB7jHqE/43wkE04EnT+Vu1jp1cqXP0b6jL9dkZI/8HGCK8uvij9T7+rX2jyAP9iyTRGqJ2c/AAAAAAAAAAAAAAAAAAAAAAAAAAAAAAAAAAAAAAAAAAAAAAAAAAAAAAAAAAAAAAAAAAAAAAAAAAAAAAAAAAAAAAAAAAAAAAAAAAAAAAAAAAAAAAAAAAAAAAAAAAAAAAAAAAAAAAAAAAAAAAAAAAAAAAAAAAAAAAAAAAAAAAAAAAAAAAAAAAAAAAAAAAAAAAAAAAAAAAAAAAAAAAAAAAAAAAAAAAAAAAAAAAAAAAAAAAAAAAAAAAAAAAAAAAAAAAAAAAAAAAAAAAAAAAAAAAAAAAAAAAAAAAAAAAAAAAAAAAAAAAAAAAAAAAAAAAAAAAAAAAAAAAAAAAAAAAAAAAAAAAAAAAAAAAAAAAAAAAAAAAAAAAAAAAAAAAAAAAAAAAAAAAAAAAAAAAAAAAAAAAAAAAAAAAAAAAAAAAAAAAAAAAAAAAAAAAAAAAAAAAAAAAAAAAAAAAAAAAAAAAAAAAAAAAAAAAAAAAAAAAAAAAAAAAAAAAAAAAAAAAAAAAAAAAAAAAAAAAAAAAAAAAAAAAAAAAAAAAAAAAAAAAAAAAAAAAAAAAAAAAAAAAAAAAAAAAAAAAAAAAAAAAAAAAAAAAAAAAAAAAAAAAAAAAAAAAAAAAAAAAAAAAAAAAAAAAAAAAAAAAAAAAAAAAAAAAAAAAAAAAAAAAAAAAAAAAAAAAAAAAAAAAAAAAAAAAAAAAAAAAAAAAAAAAAAAAAAAAAAAAAAAAAAAAAAAAAAAAAAAAAAAAAAAAAAAAAAAAAAAAAAAAAAAAAAAAAAAAAAAAAAAAAAAAAAAAAAAAAAAAAAAAAAAAAAAAAAAAAAAAAAAAAAAAAAAAAAAAAAAAAAAAAAAAAAAAAAAAAAAAAAAAAAAAAAAAAAAAAAAAAAAAAAAAAAAAAAAAAAAAAAAAAAAAAAAAAAAAAAAAAAAAAAAAAAAAAAAAAAAAAAAAAAAAAAAAAAAAAAAAAAAAAAAAAAAAAAAAAAAAAAAAAAAAAAAAAAAAAAAAAAAAAAAAAAAAAAAAAAAAAAAAAAAAAAAAAAAAAAAAAAAAAAAAAAAAAAAAAAAAAAAAAAAAAAAAAAAAAAAAAAAAAAAAAAAAAAAAAAAAAAAAAAAAAAAAAAAAAAAAAAAAAAAAAAAAAAAAAAAAAAAAAAAAAAAAAAAAAAAAAAAAAAAAAAAAAAAAAAAAAAAAAAAAAAAAAAAAAAAAAAAAAAAAAAAAAAAAAAAAAAAAAAAAAAAAAAAAAAAAAAAAAAAAAAAAAAAAAAAAAAAAAAAAAAAAAAAAAAAAAAAAAAAAAAAAAAAAAAAAAAAAAAAAAAAAAAAAAAAAAAAAAAAAAAAAAAAAAAAAAAAAAAAAAAAAAAAAAAAAAAAAAAAAAAAAAAAAAAAAAAAAAAAAAAAAAAAAAAAAAAAAAAAAAAAAAAAAAAAAAAAAAAAAAAAAAAAAAAAAAAAAAAAAAAAAAAAAAAAAAAAAAAAAAAAAAAAAAAAAAAAAAAAAAAAAAAAAAAAAAAAAAAAAAAAAAAAAAAAAAAAAAAAAAAAAAAAAAAAAAAAAAAAAAAAAAAAAAAAAAAAAAAAAAAAAAAAAAAAAAAAAAAAAAAAAAAAAAAAAAAAAAAAAAAAAAAAAAAAAAAAAAAAAAAAAAAAAAAAAAAAAAAAAAAAAAAAAAAAAAAAAAAAAAAAAAAAAAAAAAAAAAAAAAAAAAAAAAAAAAAAAAAAAAAAAAAAAAAAAAAAAAAAAAAAAAAAAAAAAAAAAAAAAAAAAAAAAAAAAAAAAAAAAAAAAAAAAAAAAAAAAAAAAAAAAAAAAAAAAAAAAAAAAAAAAAAAAAAAAAAAAAAAAAAAAAAAAAAAAAAAAAAAAAAAAAAAAAAAAAAAAAAAAAAAAAAAAAAAAAAAAAAAAAAAAAAAAAAAAAAAAAAAAAAAAAAAAAAAAAAAAAAAAAAAAAAAAAAAAAAAAAAAAAAAAAAAAAAAAAAAAAAAAAAAAAAAAAAAAAAAAAAAAAAAAAAAAAAAAAAAAAAAAAAAAAAAAAAAAAAAAAAAAAAAAAAAAAAAAAAAAAAAAAAAAAAAAAAAAAAAAAAAAAAAAAAAAAAAAAAAAAAAAAAAAAAAAAAAAAAAAAAAAAAAAAAAAAAAAAAAAAAAAAAAAAAAAAAAAAAAAAAAAAAAAAAAAAAAAAAAAAAAAAAAAAAAAAAAAAAAAAAAAAAAAAAAAAAAAAAAAAAAAAAAAAAAAAAAAAAAAAAAAAAAAAAAAAAAAAAAAAAAAAAAAAAAAAAAAAAAAAAAAAAAAAAAAAAAAAAAAAAAAAAAAAAAAAAAAAAAAAAAAAAAAAAAAAAAAAAAAAAAAAAAAAAAAAAAAAAAAAAAAAAAAAAAAAAAAAAAAAAAAAAAAAAAAAAAAAAAAAAAAAAAAAAAAAAAAAAAAAAAAAAAAAAAAAAAAAAAAAAAAAAAAAAAAAAAAAAAAAAAAAAAAAAAAAAAAAAAAAAAAAAAAAAAAAAAAAAAAAAAAAAAAAAAAAAAAAAAAAAAAAAAAAAAAAAAAAAAAAAAAAAAAAAAAAAAAAAAAAAAAAAAAAAAAAAAAAAAAAAAAAAAAAAAAAAAAAAAAAAAAAAAAAAAAAAAAAAAAAAAAAAAAAAAAAAAAAAAAAAAAAAAAAAAAAAAAAAAAAAAAAAAAAAAAAAAAAAAAAAAAAAAAAAAAAAAAAAAAAAAAAAAAAAAAAAAAAAAAAAAAAAAAAAAAAAAAAAAAAAAAAAAAAAAAAAAAAAAAAAAAAAAAAAAAAAAAAAAAAAAAAAAAAAAAAAAAAAAAAAAAAAAAAAAAAAAAAAAAAAAAAAAAAAAAAAAAAAAAAAAAAAAAAAAAAAAAAAAAAAAAAAAAAAAAAAAAAAAAAAAAAAAAAAAAAAAAAAAAAAAAAAAAAAAAAAAAAAAAAAAAAAAAAAAAAAAAAAAAAAAAAAAAAAAAAAAAAAAAAAAAAAAAAAAAAAAAAAAAAAAAAAAAAAAAAAAAAAAAAAAAAAAAAAAAAAAAAAAAAAAAAAAAAAAAAAAAAAAAAAAAAAAAAAAAAAAAAAAAAAAAAAAAAAAAAAAAAAAAAAAAAAAAAAAAAAAAAAAAAAAAAAAAAAAAAAAAAAAAAAAAAAAAAAAAAAAAAAAAAAAAAAAAAAAAAAAAAAAAAAAAAAAAAAAAAAAAAAAAAAAAAAAAAAAAAAAAAAAAAAAAAAAAAAAAAAWy0TuaBwbj8EYs6KeNSGP1n8q3NkBpM/sMfwoYyimj+DyRpoWh+hPy8vPX9u7aQ/2pRfloK7qD+F+oGtlomsPxgwUmLVK7A/7mLjbd8Ssj/ElXR56fmzP5nIBYXz4LU/b/uWkP3Htz9FLiicB6+5PxphuacRlrs/8JNKsxt9vT/Gxtu+JWS/P2sADlWhHL8/FxCbSkPOvT/EHyhA5X+8P3AvtTWHMbs/HT9CKynjuT/JTs8gy5S4P3VeXBZtRrc/Im7pCw/4tT/OfXYBsam0P3uNA/dSW7M/J52Q7PQMsj/UrB3ilr6wPwB5Va9x4K4/WZhvmrVDrD+xt4mF+aapPwrXo3A9Cqc/Y/a9W4FtpD+8FdhGxdChPylq5GMSaJ4/26gYOpoumT8=\",\"dtype\":\"float64\",\"shape\":[601]}}},\"id\":\"3b2a2ae0-8bb8-4057-abb0-116a4fd8bc06\",\"type\":\"ColumnDataSource\"}],\"root_ids\":[\"ac03c1e9-d242-420c-8298-f6c9b17472d3\"]},\"title\":\"Bokeh Application\",\"version\":\"0.12.4\"}};\n",
       "            var render_items = [{\"docid\":\"0b439cf1-9804-417a-91a3-98f5d752e488\",\"elementid\":\"00eb789f-58a6-4e70-a9a9-1da3b350f61f\",\"modelid\":\"ac03c1e9-d242-420c-8298-f6c9b17472d3\"}];\n",
       "            \n",
       "            Bokeh.embed.embed_items(docs_json, render_items);\n",
       "          };\n",
       "          if (document.readyState != \"loading\") fn();\n",
       "          else document.addEventListener(\"DOMContentLoaded\", fn);\n",
       "        })();\n",
       "      },\n",
       "      function(Bokeh) {\n",
       "      }\n",
       "    ];\n",
       "  \n",
       "    function run_inline_js() {\n",
       "      \n",
       "      if ((window.Bokeh !== undefined) || (force === true)) {\n",
       "        for (var i = 0; i < inline_js.length; i++) {\n",
       "          inline_js[i](window.Bokeh);\n",
       "        }if (force === true) {\n",
       "          display_loaded();\n",
       "        }} else if (Date.now() < window._bokeh_timeout) {\n",
       "        setTimeout(run_inline_js, 100);\n",
       "      } else if (!window._bokeh_failed_load) {\n",
       "        console.log(\"Bokeh: BokehJS failed to load within specified timeout.\");\n",
       "        window._bokeh_failed_load = true;\n",
       "      } else if (force !== true) {\n",
       "        var cell = $(document.getElementById(\"00eb789f-58a6-4e70-a9a9-1da3b350f61f\")).parents('.cell').data().cell;\n",
       "        cell.output_area.append_execute_result(NB_LOAD_WARNING)\n",
       "      }\n",
       "  \n",
       "    }\n",
       "  \n",
       "    if (window._bokeh_is_loading === 0) {\n",
       "      console.log(\"Bokeh: BokehJS loaded, going straight to plotting\");\n",
       "      run_inline_js();\n",
       "    } else {\n",
       "      load_libs(js_urls, function() {\n",
       "        console.log(\"Bokeh: BokehJS plotting callback run at\", now());\n",
       "        run_inline_js();\n",
       "      });\n",
       "    }\n",
       "  }(this));\n",
       "</script>"
      ]
     },
     "metadata": {},
     "output_type": "display_data"
    },
    {
     "name": "stderr",
     "output_type": "stream",
     "text": [
      "/usr/lib/python3.6/site-packages/bokeh/models/sources.py:81: BokehUserWarning: ColumnDataSource's columns must be of the same length\n",
      "  lambda: warnings.warn(\"ColumnDataSource's columns must be of the same length\", BokehUserWarning))\n",
      "/usr/lib/python3.6/site-packages/bokeh/models/sources.py:81: BokehUserWarning: ColumnDataSource's columns must be of the same length\n",
      "  lambda: warnings.warn(\"ColumnDataSource's columns must be of the same length\", BokehUserWarning))\n",
      "/usr/lib/python3.6/site-packages/bokeh/models/sources.py:81: BokehUserWarning: ColumnDataSource's columns must be of the same length\n",
      "  lambda: warnings.warn(\"ColumnDataSource's columns must be of the same length\", BokehUserWarning))\n",
      "/usr/lib/python3.6/site-packages/bokeh/models/sources.py:81: BokehUserWarning: ColumnDataSource's columns must be of the same length\n",
      "  lambda: warnings.warn(\"ColumnDataSource's columns must be of the same length\", BokehUserWarning))\n",
      "/usr/lib/python3.6/site-packages/bokeh/models/sources.py:81: BokehUserWarning: ColumnDataSource's columns must be of the same length\n",
      "  lambda: warnings.warn(\"ColumnDataSource's columns must be of the same length\", BokehUserWarning))\n",
      "/usr/lib/python3.6/site-packages/bokeh/models/sources.py:81: BokehUserWarning: ColumnDataSource's columns must be of the same length\n",
      "  lambda: warnings.warn(\"ColumnDataSource's columns must be of the same length\", BokehUserWarning))\n",
      "/usr/lib/python3.6/site-packages/bokeh/models/sources.py:81: BokehUserWarning: ColumnDataSource's columns must be of the same length\n",
      "  lambda: warnings.warn(\"ColumnDataSource's columns must be of the same length\", BokehUserWarning))\n",
      "/usr/lib/python3.6/site-packages/bokeh/models/sources.py:81: BokehUserWarning: ColumnDataSource's columns must be of the same length\n",
      "  lambda: warnings.warn(\"ColumnDataSource's columns must be of the same length\", BokehUserWarning))\n"
     ]
    },
    {
     "data": {
      "text/html": [
       "\n",
       "\n",
       "    <div class=\"bk-root\">\n",
       "        <div class=\"bk-plotdiv\" id=\"0597f93c-809c-4bd2-8607-2e5daf96cde0\"></div>\n",
       "    </div>\n",
       "<script type=\"text/javascript\">\n",
       "  \n",
       "  (function(global) {\n",
       "    function now() {\n",
       "      return new Date();\n",
       "    }\n",
       "  \n",
       "    var force = false;\n",
       "  \n",
       "    if (typeof (window._bokeh_onload_callbacks) === \"undefined\" || force === true) {\n",
       "      window._bokeh_onload_callbacks = [];\n",
       "      window._bokeh_is_loading = undefined;\n",
       "    }\n",
       "  \n",
       "  \n",
       "    \n",
       "    if (typeof (window._bokeh_timeout) === \"undefined\" || force === true) {\n",
       "      window._bokeh_timeout = Date.now() + 0;\n",
       "      window._bokeh_failed_load = false;\n",
       "    }\n",
       "  \n",
       "    var NB_LOAD_WARNING = {'data': {'text/html':\n",
       "       \"<div style='background-color: #fdd'>\\n\"+\n",
       "       \"<p>\\n\"+\n",
       "       \"BokehJS does not appear to have successfully loaded. If loading BokehJS from CDN, this \\n\"+\n",
       "       \"may be due to a slow or bad network connection. Possible fixes:\\n\"+\n",
       "       \"</p>\\n\"+\n",
       "       \"<ul>\\n\"+\n",
       "       \"<li>re-rerun `output_notebook()` to attempt to load from CDN again, or</li>\\n\"+\n",
       "       \"<li>use INLINE resources instead, as so:</li>\\n\"+\n",
       "       \"</ul>\\n\"+\n",
       "       \"<code>\\n\"+\n",
       "       \"from bokeh.resources import INLINE\\n\"+\n",
       "       \"output_notebook(resources=INLINE)\\n\"+\n",
       "       \"</code>\\n\"+\n",
       "       \"</div>\"}};\n",
       "  \n",
       "    function display_loaded() {\n",
       "      if (window.Bokeh !== undefined) {\n",
       "        document.getElementById(\"0597f93c-809c-4bd2-8607-2e5daf96cde0\").textContent = \"BokehJS successfully loaded.\";\n",
       "      } else if (Date.now() < window._bokeh_timeout) {\n",
       "        setTimeout(display_loaded, 100)\n",
       "      }\n",
       "    }\n",
       "  \n",
       "    function run_callbacks() {\n",
       "      window._bokeh_onload_callbacks.forEach(function(callback) { callback() });\n",
       "      delete window._bokeh_onload_callbacks\n",
       "      console.info(\"Bokeh: all callbacks have finished\");\n",
       "    }\n",
       "  \n",
       "    function load_libs(js_urls, callback) {\n",
       "      window._bokeh_onload_callbacks.push(callback);\n",
       "      if (window._bokeh_is_loading > 0) {\n",
       "        console.log(\"Bokeh: BokehJS is being loaded, scheduling callback at\", now());\n",
       "        return null;\n",
       "      }\n",
       "      if (js_urls == null || js_urls.length === 0) {\n",
       "        run_callbacks();\n",
       "        return null;\n",
       "      }\n",
       "      console.log(\"Bokeh: BokehJS not loaded, scheduling load and callback at\", now());\n",
       "      window._bokeh_is_loading = js_urls.length;\n",
       "      for (var i = 0; i < js_urls.length; i++) {\n",
       "        var url = js_urls[i];\n",
       "        var s = document.createElement('script');\n",
       "        s.src = url;\n",
       "        s.async = false;\n",
       "        s.onreadystatechange = s.onload = function() {\n",
       "          window._bokeh_is_loading--;\n",
       "          if (window._bokeh_is_loading === 0) {\n",
       "            console.log(\"Bokeh: all BokehJS libraries loaded\");\n",
       "            run_callbacks()\n",
       "          }\n",
       "        };\n",
       "        s.onerror = function() {\n",
       "          console.warn(\"failed to load library \" + url);\n",
       "        };\n",
       "        console.log(\"Bokeh: injecting script tag for BokehJS library: \", url);\n",
       "        document.getElementsByTagName(\"head\")[0].appendChild(s);\n",
       "      }\n",
       "    };var element = document.getElementById(\"0597f93c-809c-4bd2-8607-2e5daf96cde0\");\n",
       "    if (element == null) {\n",
       "      console.log(\"Bokeh: ERROR: autoload.js configured with elementid '0597f93c-809c-4bd2-8607-2e5daf96cde0' but no matching script tag was found. \")\n",
       "      return false;\n",
       "    }\n",
       "  \n",
       "    var js_urls = [];\n",
       "  \n",
       "    var inline_js = [\n",
       "      function(Bokeh) {\n",
       "        (function() {\n",
       "          var fn = function() {\n",
       "            var docs_json = {\"02bd1036-7c5a-445b-be4a-4017e0451350\":{\"roots\":{\"references\":[{\"attributes\":{\"line_color\":{\"value\":\"#e41a1c\"},\"line_width\":{\"value\":2},\"x\":{\"field\":\"x\"},\"y\":{\"field\":\"y\"}},\"id\":\"d92c898f-2b68-468a-bd2a-3d731badb412\",\"type\":\"Line\"},{\"attributes\":{\"use_scientific\":false},\"id\":\"52a34d2c-67b3-47b2-ad02-df686b5c2a9a\",\"type\":\"BasicTickFormatter\"},{\"attributes\":{\"plot\":{\"id\":\"fbde4cb3-3efd-40cd-9a65-11446d70b497\",\"subtype\":\"Figure\",\"type\":\"Plot\"}},\"id\":\"788bceb6-0d4e-4859-b173-a7fb5030cd8f\",\"type\":\"HelpTool\"},{\"attributes\":{\"active_drag\":\"auto\",\"active_scroll\":\"auto\",\"active_tap\":\"auto\",\"tools\":[{\"id\":\"c5218fcf-7072-4410-b67d-0f713cb5e43b\",\"type\":\"PanTool\"},{\"id\":\"ba502f24-2edb-4e71-af7e-4266a01b9462\",\"type\":\"WheelZoomTool\"},{\"id\":\"8db21373-c8ea-4b29-a058-4fb213197764\",\"type\":\"BoxZoomTool\"},{\"id\":\"252077c4-938a-4d67-ab02-c1f7ae0cb32b\",\"type\":\"SaveTool\"},{\"id\":\"769fecf7-4981-49f9-a9c8-b1bd921fe32b\",\"type\":\"ResetTool\"},{\"id\":\"788bceb6-0d4e-4859-b173-a7fb5030cd8f\",\"type\":\"HelpTool\"}]},\"id\":\"2276e429-dbd5-490f-a384-fe85fbaaa843\",\"type\":\"Toolbar\"},{\"attributes\":{\"fill_alpha\":{\"value\":0.1},\"fill_color\":{\"value\":\"#4daf4a\"},\"line_alpha\":{\"value\":0.1},\"line_color\":{\"value\":\"#4daf4a\"},\"x\":{\"field\":\"x\"},\"y\":{\"field\":\"y\"}},\"id\":\"503ca29c-e1d2-4900-8e0f-a1619644e1ea\",\"type\":\"Patch\"},{\"attributes\":{\"fill_alpha\":{\"value\":0.1},\"fill_color\":{\"value\":\"#377eb8\"},\"line_alpha\":{\"value\":0.1},\"line_color\":{\"value\":\"#377eb8\"},\"x\":{\"field\":\"x\"},\"y\":{\"field\":\"y\"}},\"id\":\"f2d2f75c-c081-4625-a03e-3a88bd4dd9ff\",\"type\":\"Patch\"},{\"attributes\":{\"callback\":null,\"column_names\":[\"x\",\"y\"],\"data\":{\"x\":[0,1000,2000,3000,4000,5000,6000,7000,8000,9000,10000,11000,12000,13000,14000,15000,16000,17000,18000,19000,20000,21000,22000,23000,24000,25000,26000,27000,28000,29000,30000,31000,32000,33000,34000,35000,36000,37000,38000,39000,40000,41000,42000,43000,44000,45000,46000,47000,48000,49000,50000,51000,52000,53000,54000,55000,56000,57000,58000,59000,60000,61000,62000,63000,64000,65000,66000,67000,68000,69000,70000,71000,72000,73000,74000,75000,76000,77000,78000,79000,80000,81000,82000,83000,84000,85000,86000,87000,88000,89000,90000,91000,92000,93000,94000,95000,96000,97000,98000,99000,100000,101000,102000,103000,104000,105000,106000,107000,108000,109000,110000,111000,112000,113000,114000,115000,116000,117000,118000,119000,120000,121000,122000,123000,124000,125000,126000,127000,128000,129000,130000,131000,132000,133000,134000,135000,136000,137000,138000,139000,140000,141000,142000,143000,144000,145000,146000,147000,148000,149000,150000,151000,152000,153000,154000,155000,156000,157000,158000,159000,160000,161000,162000,163000,164000,165000,166000,167000,168000,169000,170000,171000,172000,173000,174000,175000,176000,177000,178000,179000,180000,181000,182000,183000,184000,185000,186000,187000,188000,189000,190000,191000,192000,193000,194000,195000,196000,197000,198000,199000,200000,201000,202000,203000,204000,205000,206000,207000,208000,209000,210000,211000,212000,213000,214000,215000,216000,217000,218000,219000,220000,221000,222000,223000,224000,225000,226000,227000,228000,229000,230000,231000,232000,233000,234000,235000,236000,237000,238000,239000,240000,241000,242000,243000,244000,245000,246000,247000,248000,249000,250000,251000,252000,253000,254000,255000,256000,257000,258000,259000,260000,261000,262000,263000,264000,265000,266000,267000,268000,269000,270000,271000,272000,273000,274000,275000,276000,277000,278000,279000,280000,281000,282000,283000,284000,285000,286000,287000,288000,289000,290000,291000,292000,293000,294000,295000,296000,297000,298000,299000,300000,301000,302000,303000,304000,305000,306000,307000,308000,309000,310000,311000,312000,313000,314000,315000,316000,317000,318000,319000,320000,321000,322000,323000,324000,325000,326000,327000,328000,329000,330000,331000,332000,333000,334000,335000,336000,337000,338000,339000,340000,341000,342000,343000,344000,345000,346000,347000,348000,349000,350000,351000,352000,353000,354000,355000,356000,357000,358000,359000,360000,361000,362000,363000,364000,365000,366000,367000,368000,369000,370000,371000,372000,373000,374000,375000,376000,377000,378000,379000,380000,381000,382000,383000,384000,385000,386000,387000,388000,389000,390000,391000,392000,393000,394000,395000,396000,397000,398000,399000,400000,401000,402000,403000,404000,405000,406000,407000,408000,409000,410000,411000,412000,413000,414000,415000,416000,417000,418000,419000,420000,421000,422000,423000,424000,425000,426000,427000,428000,429000,430000,431000,432000,433000,434000,435000,436000,437000,438000,439000,440000,441000,442000,443000,444000,445000,446000,447000,448000,449000,450000,451000,452000,453000,454000,455000,456000,457000,458000,459000,460000,461000,462000,463000,464000,465000,466000,467000,468000,469000,470000,471000,472000,473000,474000,475000,476000,477000,478000,479000,480000,481000,482000,483000,484000,485000,486000,487000,488000,489000,490000,491000,492000,493000,494000,495000,496000,497000,498000,499000,500000,501000,502000,503000,504000,505000,506000,507000,508000,509000,510000,511000,512000,513000,514000,515000,516000,517000,518000,519000,520000,521000,522000,523000,524000,525000,526000,527000,528000,529000,530000,531000,532000,533000,534000,535000,536000,537000,538000,539000,540000,541000,542000,543000,544000,545000,546000,547000,548000,549000,550000,551000,552000,553000,554000,555000,556000,557000,558000,559000,560000,561000,562000,563000,564000,565000,566000,567000,568000,569000,570000,571000,572000,573000,574000,575000,576000,577000,578000,579000,580000,581000,582000,583000,584000,585000,586000,587000,588000,589000,590000,591000,592000,593000,594000,595000,596000,597000,598000,599000,600000,600000,599000,598000,597000,596000,595000,594000,593000,592000,591000,590000,589000,588000,587000,586000,585000,584000,583000,582000,581000,580000,579000,578000,577000,576000,575000,574000,573000,572000,571000,570000,569000,568000,567000,566000,565000,564000,563000,562000,561000,560000,559000,558000,557000,556000,555000,554000,553000,552000,551000,550000,549000,548000,547000,546000,545000,544000,543000,542000,541000,540000,539000,538000,537000,536000,535000,534000,533000,532000,531000,530000,529000,528000,527000,526000,525000,524000,523000,522000,521000,520000,519000,518000,517000,516000,515000,514000,513000,512000,511000,510000,509000,508000,507000,506000,505000,504000,503000,502000,501000,500000,499000,498000,497000,496000,495000,494000,493000,492000,491000,490000,489000,488000,487000,486000,485000,484000,483000,482000,481000,480000,479000,478000,477000,476000,475000,474000,473000,472000,471000,470000,469000,468000,467000,466000,465000,464000,463000,462000,461000,460000,459000,458000,457000,456000,455000,454000,453000,452000,451000,450000,449000,448000,447000,446000,445000,444000,443000,442000,441000,440000,439000,438000,437000,436000,435000,434000,433000,432000,431000,430000,429000,428000,427000,426000,425000,424000,423000,422000,421000,420000,419000,418000,417000,416000,415000,414000,413000,412000,411000,410000,409000,408000,407000,406000,405000,404000,403000,402000,401000,400000,399000,398000,397000,396000,395000,394000,393000,392000,391000,390000,389000,388000,387000,386000,385000,384000,383000,382000,381000,380000,379000,378000,377000,376000,375000,374000,373000,372000,371000,370000,369000,368000,367000,366000,365000,364000,363000,362000,361000,360000,359000,358000,357000,356000,355000,354000,353000,352000,351000,350000,349000,348000,347000,346000,345000,344000,343000,342000,341000,340000,339000,338000,337000,336000,335000,334000,333000,332000,331000,330000,329000,328000,327000,326000,325000,324000,323000,322000,321000,320000,319000,318000,317000,316000,315000,314000,313000,312000,311000,310000,309000,308000,307000,306000,305000,304000,303000,302000,301000,300000,299000,298000,297000,296000,295000,294000,293000,292000,291000,290000,289000,288000,287000,286000,285000,284000,283000,282000,281000,280000,279000,278000,277000,276000,275000,274000,273000,272000,271000,270000,269000,268000,267000,266000,265000,264000,263000,262000,261000,260000,259000,258000,257000,256000,255000,254000,253000,252000,251000,250000,249000,248000,247000,246000,245000,244000,243000,242000,241000,240000,239000,238000,237000,236000,235000,234000,233000,232000,231000,230000,229000,228000,227000,226000,225000,224000,223000,222000,221000,220000,219000,218000,217000,216000,215000,214000,213000,212000,211000,210000,209000,208000,207000,206000,205000,204000,203000,202000,201000,200000,199000,198000,197000,196000,195000,194000,193000,192000,191000,190000,189000,188000,187000,186000,185000,184000,183000,182000,181000,180000,179000,178000,177000,176000,175000,174000,173000,172000,171000,170000,169000,168000,167000,166000,165000,164000,163000,162000,161000,160000,159000,158000,157000,156000,155000,154000,153000,152000,151000,150000,149000,148000,147000,146000,145000,144000,143000,142000,141000,140000,139000,138000,137000,136000,135000,134000,133000,132000,131000,130000,129000,128000,127000,126000,125000,124000,123000,122000,121000,120000,119000,118000,117000,116000,115000,114000,113000,112000,111000,110000,109000,108000,107000,106000,105000,104000,103000,102000,101000,100000,99000,98000,97000,96000,95000,94000,93000,92000,91000,90000,89000,88000,87000,86000,85000,84000,83000,82000,81000,80000,79000,78000,77000,76000,75000,74000,73000,72000,71000,70000,69000,68000,67000,66000,65000,64000,63000,62000,61000,60000,59000,58000,57000,56000,55000,54000,53000,52000,51000,50000,49000,48000,47000,46000,45000,44000,43000,42000,41000,40000,39000,38000,37000,36000,35000,34000,33000,32000,31000,30000,29000,28000,27000,26000,25000,24000,23000,22000,21000,20000,19000,18000,17000,16000,15000,14000,13000,12000,11000,10000,9000,8000,7000,6000,5000,4000,3000,2000,1000,0],\"y\":[1,77,77,77,82,83,220,230,230,230,230,230,230,233,242,242,242,242,242,242,242,242,242,242,242,242,244,244,244,244,244,244,244,244,244,247,247,247,247,247,247,247,247,247,247,247,247,247,247,250,250,250,250,250,250,250,250,250,250,250,250,250,250,250,250,250,250,250,250,250,250,250,250,250,250,250,250,250,250,250,250,250,250,250,250,250,250,250,250,250,250,250,250,250,250,250,250,250,250,250,250,250,250,250,250,250,250,252,252,252,252,252,252,303,319,397,430,436,487,533,675,694,707,723,723,725,726,726,736,792,792,792,812,816,816,816,823,873,884,888,889,889,889,889,889,889,889,907,907,907,907,956,1003,1015,1069,1071,1079,1094,1094,1094,1247,1265,1265,1284,1286,1292,1292,1292,1298,1410,1517,1562,1612,1612,1627,1639,1640,1640,1641,1642,1647,1652,1652,1652,1652,1652,1652,1701,1896,1925,1969,2029,2029,2029,2029,2032,2032,2032,2032,2032,2032,2032,2047,2063,2063,2063,2077,2078,2078,2078,2078,2078,2078,2078,2078,2078,2078,2078,2078,2078,2078,2078,2078,2078,2078,2078,2078,2078,2078,2078,2078,2078,2078,2078,2078,2078,2078,2078,2078,2078,2078,2078,2078,2078,2078,2078,2078,2078,2078,2078,2078,2078,2078,2078,2078,2078,2078,2078,2078,2078,2078,2078,2078,2078,2078,2078,2078,2078,2078,2078,2078,2078,2078,2078,2078,2078,2078,2078,2078,2078,2078,2078,2078,2078,2078,2078,2078,2078,2078,2078,2078,2078,2078,2078,2078,2078,2078,2078,2078,2078,2078,2078,2078,2078,2078,2078,2078,2078,2078,2078,2078,2078,2078,2078,2078,2078,2078,2078,2078,2078,2078,2078,2078,2078,2078,2078,2078,2078,2078,2078,2078,2078,2078,2078,2078,2078,2078,2078,2078,2078,2078,2078,2078,2078,2078,2078,2078,2078,2078,2078,2078,2078,2078,2078,2078,2078,2078,2078,2078,2078,2078,2078,2167,2262,2275,2290,2290,2290,2290,2290,2290,2290,2290,2290,2290,2290,2290,2290,2290,2290,2290,2290,2290,2290,2290,2290,2290,2290,2290,2290,2290,2290,2290,2290,2290,2290,2290,2290,2290,2290,2290,2290,2290,2290,2290,2290,2290,2290,2290,2290,2290,2290,2290,2290,2291,2291,2291,2291,2291,2291,2291,2291,2291,2291,2291,2291,2291,2291,2291,2291,2291,2291,2291,2303,2303,2303,2303,2303,2303,2303,2303,2303,2303,2303,2303,2303,2303,2303,2303,2303,2303,2303,2303,2303,2303,2303,2303,2303,2303,2303,2303,2303,2303,2303,2303,2303,2303,2303,2303,2303,2303,2303,2303,2303,2303,2303,2303,2303,2303,2303,2303,2303,2303,2303,2303,2303,2303,2303,2303,2303,2303,2303,2303,2303,2303,2303,2303,2303,2303,2303,2303,2303,2317,2317,2367,2367,2367,2367,2367,2367,2367,2367,2367,2367,2367,2367,2367,2367,2367,2367,2367,2367,2367,2367,2367,2367,2367,2367,2367,2367,2367,2367,2367,2367,2367,2367,2367,2370,2401,2404,2404,2404,2404,2404,2404,2404,2404,2404,2404,2404,2404,2404,2404,2404,2404,2404,2404,2404,2404,2404,2404,2404,2404,2406,2406,2406,2406,2406,2406,2406,2406,2406,2406,2406,2406,2406,2412,2430,2459,2517,2518,2615,2615,2615,2615,2615,2615,2615,2615,2615,2615,2615,2615,2615,2615,2615,2615,2615,2615,2615,3661,3661,3661,3661,3661,3661,3661,3661,3661,3661,3661,3661,3661,3661,3661,3661,3661,3661,3661,3661,3661,3661,3661,3661,3661,3661,3661,3661,3661,3661,3661,3661,3661,3661,3661,3661,3661,3661,3661,3661,3661,3661,3661,3661,3661,3661,3661,3661,3661,3661,3661,3661,3661,3661,3661,3661,3661,3661,3661,3661,3661,3661,3661,3661,3661,3661,3661,3661,3661,3661,3661,3661,3661,3661,3661,3661,3661,3661,3661,3661,3661,3661,3661,3661,3661,3661,3661,3661,3661,3661,3661,3661,3661,3661,3660,3658,3658,3658,3650,3650,3650,3650,3650,3650,3650,3650,3650,3650,3650,3650,3650,3650,3650,3650,3650,3648,3644,3589,3495,3493,3492,3492,3492,3492,3491,3490,3489,3489,3478,3474,3463,3463,3463,3463,3463,3463,3463,3463,3463,3463,3463,3463,3463,3463,3463,3463,3463,3463,3463,3463,3463,3463,3463,3463,3463,3463,3463,3463,3463,3463,3463,3463,3463,3463,3463,3463,3463,3463,3463,3463,3463,3463,3463,3463,3463,3463,3463,3463,3463,3463,3463,3463,3463,3463,3463,3463,3463,3463,3463,3463,3463,3463,3463,3463,3463,3463,3463,3463,3463,3463,3463,3463,3463,3463,3463,3463,3463,3463,3463,3463,3463,3463,3463,3463,3463,3463,3463,3463,3463,3463,3463,3463,3463,3463,3463,3463,3463,3463,3463,3463,3463,3463,3455,3416,3354,3262,3262,3262,3249,3247,3240,3240,3240,3240,3240,3240,3240,3240,3240,3240,3240,3240,3240,3240,3240,3240,3240,3215,3215,3215,3215,3215,3215,3215,3215,3215,3215,3215,3215,3215,3215,3215,3215,3215,3215,3215,3215,3215,3215,3215,3215,3214,3212,3212,3212,3211,3205,3201,3201,3201,3201,3175,3127,3096,3091,3079,3075,3075,3075,3075,3075,3075,3075,3075,3075,3075,3075,3075,3075,3075,3075,3075,3075,3075,3075,3075,3075,3075,3075,3075,3075,3075,3075,3075,3075,3075,3075,3075,3075,3075,3075,3075,3075,3075,3075,3075,3075,3075,3075,3075,3075,3075,3075,3075,3075,3075,3075,3075,3075,3075,3075,3075,3075,3075,3075,3075,3075,3075,3075,3075,3056,3032,3032,3031,3031,3031,3031,3031,3031,3031,3031,3031,3031,3031,3031,3031,3031,3031,3031,3031,3031,3031,3031,3031,3031,3031,3031,3031,3031,3031,3031,3031,3031,3031,3031,3031,3031,3031,3031,3031,3031,3031,3031,3031,2924,2923,2901,2901,2901,2901,2901,2901,2901,2901,2901,2901,2901,2901,2901,2901,2901,2901,2901,2901,2901,2901,2901,2901,2901,2901,2901,2901,2901,2901,2901,2901,2901,2901,2901,2901,2901,2901,2901,2901,2901,2901,2901,2901,2901,2901,2901,2901,2901,2888,2736,2722,2721,2721,2711,2689,2668,2653,2652,2652,2651,2651,2636,2631,2609,2538,2500,2479,2479,2479,2479,2479,2479,2455,2455,2449,2433,2349,2324,2324,2324,2324,2324,2318,2315,2311,2306,2231,2224,2224,2224,2224,2218,2218,2218,2144,2143,2143,2141,2137,2131,2100,2100,2100,2100,2100,2100,2100,2100,2100,2100,2082,2082,2082,2082,2082,2082,2082,2082,2082,2078,2078,2078,2078,2078,2078,2078,2078,2071,2071,2066,1970,1967,1967,1967,1958,1954,1891,1872,1756,1752,1750,1749,1745,1745,1745,1745,1745,1744,1736,1668,1572,1533,1457,1455,1454,1444,1337,1318,1318,1318,1318,1318,1318,1317,1317,1310,1307,1307,1301,1301,1301,1297,1211,1210,1209,1201,1183,1067,1054,929,893,892,852,759,657,635,438,438,437,433,422,356,257,167,1]}},\"id\":\"6b0befe0-3986-4a1f-b8f2-b1fe3a974634\",\"type\":\"ColumnDataSource\"},{\"attributes\":{\"label\":{\"value\":\"100k Xp 1 NScaler\"},\"renderers\":[{\"id\":\"60c886c0-9059-4a74-8000-a1fae7ee93e2\",\"type\":\"GlyphRenderer\"}]},\"id\":\"4d2247d6-5e96-413c-9593-9c4a88c00513\",\"type\":\"LegendItem\"},{\"attributes\":{\"fill_alpha\":{\"value\":0.1},\"fill_color\":{\"value\":\"#e41a1c\"},\"line_alpha\":{\"value\":0.1},\"line_color\":{\"value\":\"#e41a1c\"},\"x\":{\"field\":\"x\"},\"y\":{\"field\":\"y\"}},\"id\":\"3b7ae2b4-88f9-400e-b4f7-a222369199ea\",\"type\":\"Patch\"},{\"attributes\":{\"overlay\":{\"id\":\"6aec6540-b946-419a-bd56-628ff38fa403\",\"type\":\"BoxAnnotation\"},\"plot\":{\"id\":\"fbde4cb3-3efd-40cd-9a65-11446d70b497\",\"subtype\":\"Figure\",\"type\":\"Plot\"}},\"id\":\"8db21373-c8ea-4b29-a058-4fb213197764\",\"type\":\"BoxZoomTool\"},{\"attributes\":{\"callback\":null,\"column_names\":[\"x\",\"y\"],\"data\":{\"x\":[0,1000,2000,3000,4000,5000,6000,7000,8000,9000,10000,11000,12000,13000,14000,15000,16000,17000,18000,19000,20000,21000,22000,23000,24000,25000,26000,27000,28000,29000,30000,31000,32000,33000,34000,35000,36000,37000,38000,39000,40000,41000,42000,43000,44000,45000,46000,47000,48000,49000,50000,51000,52000,53000,54000,55000,56000,57000,58000,59000,60000,61000,62000,63000,64000,65000,66000,67000,68000,69000,70000,71000,72000,73000,74000,75000,76000,77000,78000,79000,80000,81000,82000,83000,84000,85000,86000,87000,88000,89000,90000,91000,92000,93000,94000,95000,96000,97000,98000,99000,100000,101000,102000,103000,104000,105000,106000,107000,108000,109000,110000,111000,112000,113000,114000,115000,116000,117000,118000,119000,120000,121000,122000,123000,124000,125000,126000,127000,128000,129000,130000,131000,132000,133000,134000,135000,136000,137000,138000,139000,140000,141000,142000,143000,144000,145000,146000,147000,148000,149000,150000,151000,152000,153000,154000,155000,156000,157000,158000,159000,160000,161000,162000,163000,164000,165000,166000,167000,168000,169000,170000,171000,172000,173000,174000,175000,176000,177000,178000,179000,180000,181000,182000,183000,184000,185000,186000,187000,188000,189000,190000,191000,192000,193000,194000,195000,196000,197000,198000,199000,200000,201000,202000,203000,204000,205000,206000,207000,208000,209000,210000,211000,212000,213000,214000,215000,216000,217000,218000,219000,220000,221000,222000,223000,224000,225000,226000,227000,228000,229000,230000,231000,232000,233000,234000,235000,236000,237000,238000,239000,240000,241000,242000,243000,244000,245000,246000,247000,248000,249000,250000,251000,252000,253000,254000,255000,256000,257000,258000,259000,260000,261000,262000,263000,264000,265000,266000,267000,268000,269000,270000,271000,272000,273000,274000,275000,276000,277000,278000,279000,280000,281000,282000,283000,284000,285000,286000,287000,288000,289000,290000,291000,292000,293000,294000,295000,296000,297000,298000,299000,300000,301000,302000,303000,304000,305000,306000,307000,308000,309000,310000,311000,312000,313000,314000,315000,316000,317000,318000,319000,320000,321000,322000,323000,324000,325000,326000,327000,328000,329000,330000,331000,332000,333000,334000,335000,336000,337000,338000,339000,340000,341000,342000,343000,344000,345000,346000,347000,348000,349000,350000,351000,352000,353000,354000,355000,356000,357000,358000,359000,360000,361000,362000,363000,364000,365000,366000,367000,368000,369000,370000,371000,372000,373000,374000,375000,376000,377000,378000,379000,380000,381000,382000,383000,384000,385000,386000,387000,388000,389000,390000,391000,392000,393000,394000,395000,396000,397000,398000,399000,400000,401000,402000,403000,404000,405000,406000,407000,408000,409000,410000,411000,412000,413000,414000,415000,416000,417000,418000,419000,420000,421000,422000,423000,424000,425000,426000,427000,428000,429000,430000,431000,432000,433000,434000,435000,436000,437000,438000,439000,440000,441000,442000,443000,444000,445000,446000,447000,448000,449000,450000,451000,452000,453000,454000,455000,456000,457000,458000,459000,460000,461000,462000,463000,464000,465000,466000,467000,468000,469000,470000,471000,472000,473000,474000,475000,476000,477000,478000,479000,480000,481000,482000,483000,484000,485000,486000,487000,488000,489000,490000,491000,492000,493000,494000,495000,496000,497000,498000,499000,500000,501000,502000,503000,504000,505000,506000,507000,508000,509000,510000,511000,512000,513000,514000,515000,516000,517000,518000,519000,520000,521000,522000,523000,524000,525000,526000,527000,528000,529000,530000,531000,532000,533000,534000,535000,536000,537000,538000,539000,540000,541000,542000,543000,544000,545000,546000,547000,548000,549000,550000,551000,552000,553000,554000,555000,556000,557000,558000,559000,560000,561000,562000,563000,564000,565000,566000,567000,568000,569000,570000,571000,572000,573000,574000,575000,576000,577000,578000,579000,580000,581000,582000,583000,584000,585000,586000,587000,588000,589000,590000,591000,592000,593000,594000,595000,596000,597000,598000,599000,600000,600000,599000,598000,597000,596000,595000,594000,593000,592000,591000,590000,589000,588000,587000,586000,585000,584000,583000,582000,581000,580000,579000,578000,577000,576000,575000,574000,573000,572000,571000,570000,569000,568000,567000,566000,565000,564000,563000,562000,561000,560000,559000,558000,557000,556000,555000,554000,553000,552000,551000,550000,549000,548000,547000,546000,545000,544000,543000,542000,541000,540000,539000,538000,537000,536000,535000,534000,533000,532000,531000,530000,529000,528000,527000,526000,525000,524000,523000,522000,521000,520000,519000,518000,517000,516000,515000,514000,513000,512000,511000,510000,509000,508000,507000,506000,505000,504000,503000,502000,501000,500000,499000,498000,497000,496000,495000,494000,493000,492000,491000,490000,489000,488000,487000,486000,485000,484000,483000,482000,481000,480000,479000,478000,477000,476000,475000,474000,473000,472000,471000,470000,469000,468000,467000,466000,465000,464000,463000,462000,461000,460000,459000,458000,457000,456000,455000,454000,453000,452000,451000,450000,449000,448000,447000,446000,445000,444000,443000,442000,441000,440000,439000,438000,437000,436000,435000,434000,433000,432000,431000,430000,429000,428000,427000,426000,425000,424000,423000,422000,421000,420000,419000,418000,417000,416000,415000,414000,413000,412000,411000,410000,409000,408000,407000,406000,405000,404000,403000,402000,401000,400000,399000,398000,397000,396000,395000,394000,393000,392000,391000,390000,389000,388000,387000,386000,385000,384000,383000,382000,381000,380000,379000,378000,377000,376000,375000,374000,373000,372000,371000,370000,369000,368000,367000,366000,365000,364000,363000,362000,361000,360000,359000,358000,357000,356000,355000,354000,353000,352000,351000,350000,349000,348000,347000,346000,345000,344000,343000,342000,341000,340000,339000,338000,337000,336000,335000,334000,333000,332000,331000,330000,329000,328000,327000,326000,325000,324000,323000,322000,321000,320000,319000,318000,317000,316000,315000,314000,313000,312000,311000,310000,309000,308000,307000,306000,305000,304000,303000,302000,301000,300000,299000,298000,297000,296000,295000,294000,293000,292000,291000,290000,289000,288000,287000,286000,285000,284000,283000,282000,281000,280000,279000,278000,277000,276000,275000,274000,273000,272000,271000,270000,269000,268000,267000,266000,265000,264000,263000,262000,261000,260000,259000,258000,257000,256000,255000,254000,253000,252000,251000,250000,249000,248000,247000,246000,245000,244000,243000,242000,241000,240000,239000,238000,237000,236000,235000,234000,233000,232000,231000,230000,229000,228000,227000,226000,225000,224000,223000,222000,221000,220000,219000,218000,217000,216000,215000,214000,213000,212000,211000,210000,209000,208000,207000,206000,205000,204000,203000,202000,201000,200000,199000,198000,197000,196000,195000,194000,193000,192000,191000,190000,189000,188000,187000,186000,185000,184000,183000,182000,181000,180000,179000,178000,177000,176000,175000,174000,173000,172000,171000,170000,169000,168000,167000,166000,165000,164000,163000,162000,161000,160000,159000,158000,157000,156000,155000,154000,153000,152000,151000,150000,149000,148000,147000,146000,145000,144000,143000,142000,141000,140000,139000,138000,137000,136000,135000,134000,133000,132000,131000,130000,129000,128000,127000,126000,125000,124000,123000,122000,121000,120000,119000,118000,117000,116000,115000,114000,113000,112000,111000,110000,109000,108000,107000,106000,105000,104000,103000,102000,101000,100000,99000,98000,97000,96000,95000,94000,93000,92000,91000,90000,89000,88000,87000,86000,85000,84000,83000,82000,81000,80000,79000,78000,77000,76000,75000,74000,73000,72000,71000,70000,69000,68000,67000,66000,65000,64000,63000,62000,61000,60000,59000,58000,57000,56000,55000,54000,53000,52000,51000,50000,49000,48000,47000,46000,45000,44000,43000,42000,41000,40000,39000,38000,37000,36000,35000,34000,33000,32000,31000,30000,29000,28000,27000,26000,25000,24000,23000,22000,21000,20000,19000,18000,17000,16000,15000,14000,13000,12000,11000,10000,9000,8000,7000,6000,5000,4000,3000,2000,1000,0],\"y\":[1,59,81,83,139,140,176,180,199,218,218,218,218,218,218,218,241,362,379,404,404,404,404,404,404,404,404,404,404,404,404,404,404,404,404,404,404,404,404,404,404,404,404,404,404,404,404,404,404,404,404,404,404,404,404,404,404,404,404,404,404,404,404,404,404,404,404,404,404,404,404,404,404,404,404,404,404,404,404,404,404,404,404,404,404,404,404,404,404,404,404,404,404,404,404,404,404,404,404,404,404,404,404,433,447,447,448,448,449,462,462,463,463,464,471,503,520,520,521,521,521,558,564,572,572,573,575,581,605,615,647,696,696,696,696,698,698,705,705,707,783,879,890,909,920,954,985,1014,1022,1034,1083,1083,1084,1116,1120,1121,1121,1131,1171,1175,1189,1189,1189,1189,1189,1189,1189,1265,1362,1362,1366,1377,1377,1377,1377,1377,1377,1377,1377,1377,1377,1377,1377,1377,1377,1377,1377,1379,1379,1379,1379,1379,1382,1382,1458,1458,1604,1604,1604,1604,1604,1604,1615,1616,1616,1666,1728,1782,1834,1944,2008,2033,2033,2033,2033,2033,2033,2033,2033,2033,2033,2033,2033,2033,2033,2033,2033,2033,2033,2033,2033,2033,2033,2033,2033,2033,2033,2033,2033,2033,2033,2033,2033,2033,2033,2033,2033,2033,2033,2033,2033,2033,2033,2033,2033,2033,2033,2033,2033,2033,2033,2033,2033,2033,2033,2033,2033,2033,2033,2033,2033,2033,2033,2033,2033,2033,2033,2033,2033,2033,2033,2033,2033,2033,2033,2033,2033,2033,2033,2033,2033,2033,2033,2033,2033,2033,2033,2033,2033,2033,2033,2033,2033,2033,2033,2033,2033,2033,2033,2033,2033,2033,2033,2033,2033,2033,2033,2033,2033,2033,2033,2033,2033,2033,2033,2033,2033,2033,2033,2033,2033,2033,2033,2033,2033,2033,2033,2033,2033,2033,2033,2033,2033,2033,2033,2033,2033,2033,2033,2033,2033,2061,2225,2298,2319,2319,2319,2319,2319,2319,2319,2319,2319,2319,2319,2319,2319,2319,2319,2319,2319,2319,2319,2319,2319,2319,2319,2319,2319,2319,2319,2319,2319,2319,2319,2319,2319,2319,2319,2319,2319,2319,2319,2319,2319,2319,2319,2319,2319,2319,2319,2319,2319,2319,2319,2319,2319,2319,2319,2319,2319,2319,2319,2319,2319,2319,2319,2319,2319,2319,2319,2319,2319,2319,2319,2319,2319,2319,2319,2319,2319,2319,2319,2319,2319,2319,2319,2319,2319,2319,2319,2319,2319,2319,2319,2319,2319,2319,2319,2392,2409,2409,2411,2411,2423,2456,2457,2460,2531,2535,2554,2595,2595,2595,2595,2595,2595,2595,2595,2595,2595,2595,2595,2595,2595,2595,2595,2595,2595,2595,2595,2595,2595,2595,2595,2595,2595,2595,2595,2595,2595,2595,2595,2595,2595,2595,2595,2595,2595,2595,2595,2595,2595,2595,2595,2595,2595,2595,2595,2595,2595,2595,2595,2595,2595,2595,2595,2595,2595,2595,2595,2595,2595,2595,2595,2595,2595,2595,2595,2595,2595,2595,2595,2595,2595,2595,2595,2595,2595,2595,2595,2595,2595,2595,2595,2595,2595,2595,2595,2595,2595,2595,2595,2595,2595,2595,2595,2595,2595,2595,2595,2595,2595,2595,2595,2595,2595,2595,2595,2595,2595,2595,2595,2595,2595,2595,2595,2595,2595,2595,2595,2595,2595,2595,2595,2595,2595,2595,2595,2595,2595,2595,2595,2595,2595,2595,2595,2595,2595,2595,3774,3774,3774,3768,3718,3718,3718,3718,3718,3718,3718,3718,3718,3718,3718,3718,3718,3718,3718,3718,3715,3714,3704,3703,3702,3702,3702,3702,3698,3550,3550,3550,3549,3548,3541,3536,3533,3532,3531,3516,3516,3516,3516,3516,3516,3516,3516,3516,3516,3516,3516,3516,3509,3487,3485,3472,3437,3303,3258,3175,3110,3110,3110,3110,3109,3109,3109,3109,3109,3109,3109,3109,3109,3109,3109,3109,3109,3109,3109,3109,3109,3109,3109,3109,3109,3109,3109,3109,3109,3109,3109,3109,3109,3109,3109,3109,3109,3109,3109,3109,3109,3109,3109,3109,3109,3109,3109,3109,3109,3109,3109,3109,3109,3109,3109,3109,3109,3109,3109,3109,3109,3109,3109,3109,3109,3109,3109,3109,3109,3109,3109,3109,3109,3109,3105,3095,3095,3095,3095,3095,3095,3095,3095,3095,3095,3095,3095,3095,3095,3095,3095,3095,3095,3095,3095,3095,3095,3095,3095,3095,3095,3095,3095,3095,3095,3095,3095,3095,3095,3095,3095,3095,3095,3095,3095,3095,3095,3095,3095,3095,3095,3095,3095,3095,3095,3088,3087,3063,3044,3044,2983,2983,2983,2983,2983,2983,2983,2983,2983,2983,2983,2983,2983,2983,2983,2983,2983,2983,2983,2983,2983,2983,2983,2983,2983,2983,2983,2983,2983,2983,2983,2983,2983,2983,2983,2983,2983,2983,2983,2983,2983,2983,2983,2983,2983,2983,2983,2983,2983,2983,2983,2983,2983,2983,2983,2983,2983,2983,2983,2983,2983,2983,2983,2983,2983,2983,2983,2983,2983,2983,2983,2983,2983,2983,2983,2983,2983,2983,2983,2983,2983,2983,2983,2980,2946,2946,2946,2946,2946,2946,2946,2946,2946,2946,2946,2946,2946,2946,2946,2946,2946,2946,2946,2946,2946,2946,2946,2946,2946,2946,2946,2946,2946,2946,2946,2946,2946,2946,2946,2946,2946,2936,2936,2936,2936,2936,2936,2936,2936,2936,2936,2936,2936,2936,2936,2936,2936,2936,2936,2936,2936,2936,2936,2936,2936,2936,2936,2936,2936,2936,2936,2936,2936,2933,2933,2933,2933,2933,2933,2933,2933,2933,2933,2933,2933,2933,2933,2933,2933,2933,2933,2933,2933,2933,2933,2933,2918,2918,2917,2900,2899,2899,2899,2899,2899,2899,2899,2899,2899,2899,2899,2899,2899,2899,2899,2899,2899,2899,2899,2899,2899,2899,2899,2899,2899,2899,2899,2899,2899,2899,2899,2899,2899,2899,2899,2899,2899,2899,2899,2899,2860,2771,2736,2726,2717,2717,2717,2717,2717,2716,2714,2714,2714,2714,2714,2714,2714,2714,2706,2703,2703,2703,2703,2703,2703,2703,2703,2703,2703,2703,2703,2703,2703,2703,2703,2703,2703,2703,2703,2703,2703,2703,2703,2703,2703,2703,2703,2703,2703,2703,2703,2703,2703,2703,2703,2703,2703,2703,2703,2703,2703,2703,2703,2703,2703,2703,2703,2703,2703,2703,2703,2701,2699,2699,2699,2699,2699,2699,2699,2699,2696,2695,2691,2644,2634,2634,2634,2612,2529,2506,2483,2480,2478,2466,2455,2455,2455,2455,2455,2455,2455,2449,2438,2438,2438,2438,2438,2437,2437,2437,2430,2429,2411,2405,2401,2401,2401,2401,2360,2252,2149,2143,2130,2130,2130,2052,2025,2023,1970,1830,1830,1830,1830,1830,1830,1830,1830,1830,1830,1825,1824,1693,1676,1676,1676,1676,1676,1675,1675,1658,1658,1653,1648,1648,1648,1639,1639,1625,1618,1597,1590,1590,1588,1586,1534,1520,1513,1509,1509,1480,1353,1219,1134,1074,1030,1030,1019,1019,1019,1006,996,966,856,815,730,638,469,317,153,1]}},\"id\":\"09679096-0b1e-4550-acbf-91d4b332114c\",\"type\":\"ColumnDataSource\"},{\"attributes\":{\"line_color\":{\"value\":\"#4daf4a\"},\"line_width\":{\"value\":2},\"x\":{\"field\":\"x\"},\"y\":{\"field\":\"y\"}},\"id\":\"06cfab10-dcdf-494a-a87e-df81b7ccca10\",\"type\":\"Line\"},{\"attributes\":{\"data_source\":{\"id\":\"6ebfe6e4-8054-401f-8ff9-87f663beead1\",\"type\":\"ColumnDataSource\"},\"glyph\":{\"id\":\"d92c898f-2b68-468a-bd2a-3d731badb412\",\"type\":\"Line\"},\"hover_glyph\":null,\"nonselection_glyph\":{\"id\":\"de13bb9a-ee53-47f1-bbaa-c64189184483\",\"type\":\"Line\"},\"selection_glyph\":null},\"id\":\"60c886c0-9059-4a74-8000-a1fae7ee93e2\",\"type\":\"GlyphRenderer\"},{\"attributes\":{\"items\":[{\"id\":\"4d2247d6-5e96-413c-9593-9c4a88c00513\",\"type\":\"LegendItem\"},{\"id\":\"21a9384f-8be4-492f-a33b-aa39426889e8\",\"type\":\"LegendItem\"},{\"id\":\"3ae38558-c6a5-4666-9ae9-be9b74355ecf\",\"type\":\"LegendItem\"},{\"id\":\"61b69561-8444-4fce-a90a-0972c588b6d0\",\"type\":\"LegendItem\"}],\"location\":[0,-30],\"plot\":{\"id\":\"fbde4cb3-3efd-40cd-9a65-11446d70b497\",\"subtype\":\"Figure\",\"type\":\"Plot\"}},\"id\":\"78beac7f-28de-4a85-8489-16cf79d31d03\",\"type\":\"Legend\"},{\"attributes\":{\"data_source\":{\"id\":\"6b0befe0-3986-4a1f-b8f2-b1fe3a974634\",\"type\":\"ColumnDataSource\"},\"glyph\":{\"id\":\"3b7ae2b4-88f9-400e-b4f7-a222369199ea\",\"type\":\"Patch\"},\"hover_glyph\":null,\"nonselection_glyph\":{\"id\":\"f10b6ddf-1dd3-4837-8a05-13197b3e1bd5\",\"type\":\"Patch\"},\"selection_glyph\":null},\"id\":\"1ad17e5d-2f61-4e6e-afc9-222815e0b3f8\",\"type\":\"GlyphRenderer\"},{\"attributes\":{\"line_color\":{\"value\":\"#377eb8\"},\"line_width\":{\"value\":2},\"x\":{\"field\":\"x\"},\"y\":{\"field\":\"y\"}},\"id\":\"395cfddb-23ed-4765-9ccb-6a15a14a4360\",\"type\":\"Line\"},{\"attributes\":{\"data_source\":{\"id\":\"09679096-0b1e-4550-acbf-91d4b332114c\",\"type\":\"ColumnDataSource\"},\"glyph\":{\"id\":\"f2d2f75c-c081-4625-a03e-3a88bd4dd9ff\",\"type\":\"Patch\"},\"hover_glyph\":null,\"nonselection_glyph\":{\"id\":\"50b606f9-c40e-492f-ba1f-639f96fb839e\",\"type\":\"Patch\"},\"selection_glyph\":null},\"id\":\"34934a07-2dd2-4bf5-a1f5-16ad3bd43c87\",\"type\":\"GlyphRenderer\"},{\"attributes\":{\"label\":{\"value\":\"100k Xp 4 NScaler\"},\"renderers\":[{\"id\":\"6a847a05-5469-4824-a806-937d2dd28e9a\",\"type\":\"GlyphRenderer\"}]},\"id\":\"21a9384f-8be4-492f-a33b-aa39426889e8\",\"type\":\"LegendItem\"},{\"attributes\":{\"data_source\":{\"id\":\"c8f2b31f-07a7-4884-8e9e-6eb504816186\",\"type\":\"ColumnDataSource\"},\"glyph\":{\"id\":\"395cfddb-23ed-4765-9ccb-6a15a14a4360\",\"type\":\"Line\"},\"hover_glyph\":null,\"nonselection_glyph\":{\"id\":\"9a9a0ed4-ca66-40fe-bc57-49373edca8a4\",\"type\":\"Line\"},\"selection_glyph\":null},\"id\":\"6a847a05-5469-4824-a806-937d2dd28e9a\",\"type\":\"GlyphRenderer\"},{\"attributes\":{\"data_source\":{\"id\":\"853bf9bc-d1e0-4c77-94f1-6e439360ad8d\",\"type\":\"ColumnDataSource\"},\"glyph\":{\"id\":\"503ca29c-e1d2-4900-8e0f-a1619644e1ea\",\"type\":\"Patch\"},\"hover_glyph\":null,\"nonselection_glyph\":{\"id\":\"47edc222-6400-4fd1-9a5d-cbd2d0ff545f\",\"type\":\"Patch\"},\"selection_glyph\":null},\"id\":\"1a34281b-ecda-41de-a16d-e899233609ba\",\"type\":\"GlyphRenderer\"},{\"attributes\":{\"plot\":{\"id\":\"fbde4cb3-3efd-40cd-9a65-11446d70b497\",\"subtype\":\"Figure\",\"type\":\"Plot\"}},\"id\":\"ba502f24-2edb-4e71-af7e-4266a01b9462\",\"type\":\"WheelZoomTool\"},{\"attributes\":{\"callback\":null,\"column_names\":[\"x\",\"y\"],\"data\":{\"x\":[0,1000,2000,3000,4000,5000,6000,7000,8000,9000,10000,11000,12000,13000,14000,15000,16000,17000,18000,19000,20000,21000,22000,23000,24000,25000,26000,27000,28000,29000,30000,31000,32000,33000,34000,35000,36000,37000,38000,39000,40000,41000,42000,43000,44000,45000,46000,47000,48000,49000,50000,51000,52000,53000,54000,55000,56000,57000,58000,59000,60000,61000,62000,63000,64000,65000,66000,67000,68000,69000,70000,71000,72000,73000,74000,75000,76000,77000,78000,79000,80000,81000,82000,83000,84000,85000,86000,87000,88000,89000,90000,91000,92000,93000,94000,95000,96000,97000,98000,99000,100000,101000,102000,103000,104000,105000,106000,107000,108000,109000,110000,111000,112000,113000,114000,115000,116000,117000,118000,119000,120000,121000,122000,123000,124000,125000,126000,127000,128000,129000,130000,131000,132000,133000,134000,135000,136000,137000,138000,139000,140000,141000,142000,143000,144000,145000,146000,147000,148000,149000,150000,151000,152000,153000,154000,155000,156000,157000,158000,159000,160000,161000,162000,163000,164000,165000,166000,167000,168000,169000,170000,171000,172000,173000,174000,175000,176000,177000,178000,179000,180000,181000,182000,183000,184000,185000,186000,187000,188000,189000,190000,191000,192000,193000,194000,195000,196000,197000,198000,199000,200000,201000,202000,203000,204000,205000,206000,207000,208000,209000,210000,211000,212000,213000,214000,215000,216000,217000,218000,219000,220000,221000,222000,223000,224000,225000,226000,227000,228000,229000,230000,231000,232000,233000,234000,235000,236000,237000,238000,239000,240000,241000,242000,243000,244000,245000,246000,247000,248000,249000,250000,251000,252000,253000,254000,255000,256000,257000,258000,259000,260000,261000,262000,263000,264000,265000,266000,267000,268000,269000,270000,271000,272000,273000,274000,275000,276000,277000,278000,279000,280000,281000,282000,283000,284000,285000,286000,287000,288000,289000,290000,291000,292000,293000,294000,295000,296000,297000,298000,299000,300000,301000,302000,303000,304000,305000,306000,307000,308000,309000,310000,311000,312000,313000,314000,315000,316000,317000,318000,319000,320000,321000,322000,323000,324000,325000,326000,327000,328000,329000,330000,331000,332000,333000,334000,335000,336000,337000,338000,339000,340000,341000,342000,343000,344000,345000,346000,347000,348000,349000,350000,351000,352000,353000,354000,355000,356000,357000,358000,359000,360000,361000,362000,363000,364000,365000,366000,367000,368000,369000,370000,371000,372000,373000,374000,375000,376000,377000,378000,379000,380000,381000,382000,383000,384000,385000,386000,387000,388000,389000,390000,391000,392000,393000,394000,395000,396000,397000,398000,399000,400000,401000,402000,403000,404000,405000,406000,407000,408000,409000,410000,411000,412000,413000,414000,415000,416000,417000,418000,419000,420000,421000,422000,423000,424000,425000,426000,427000,428000,429000,430000,431000,432000,433000,434000,435000,436000,437000,438000,439000,440000,441000,442000,443000,444000,445000,446000,447000,448000,449000,450000,451000,452000,453000,454000,455000,456000,457000,458000,459000,460000,461000,462000,463000,464000,465000,466000,467000,468000,469000,470000,471000,472000,473000,474000,475000,476000,477000,478000,479000,480000,481000,482000,483000,484000,485000,486000,487000,488000,489000,490000,491000,492000,493000,494000,495000,496000,497000,498000,499000,500000,501000,502000,503000,504000,505000,506000,507000,508000,509000,510000,511000,512000,513000,514000,515000,516000,517000,518000,519000,520000,521000,522000,523000,524000,525000,526000,527000,528000,529000,530000,531000,532000,533000,534000,535000,536000,537000,538000,539000,540000,541000,542000,543000,544000,545000,546000,547000,548000,549000,550000,551000,552000,553000,554000,555000,556000,557000,558000,559000,560000,561000,562000,563000,564000,565000,566000,567000,568000,569000,570000,571000,572000,573000,574000,575000,576000,577000,578000,579000,580000,581000,582000,583000,584000,585000,586000,587000,588000,589000,590000,591000,592000,593000,594000,595000,596000,597000,598000,599000,600000,600000,599000,598000,597000,596000,595000,594000,593000,592000,591000,590000,589000,588000,587000,586000,585000,584000,583000,582000,581000,580000,579000,578000,577000,576000,575000,574000,573000,572000,571000,570000,569000,568000,567000,566000,565000,564000,563000,562000,561000,560000,559000,558000,557000,556000,555000,554000,553000,552000,551000,550000,549000,548000,547000,546000,545000,544000,543000,542000,541000,540000,539000,538000,537000,536000,535000,534000,533000,532000,531000,530000,529000,528000,527000,526000,525000,524000,523000,522000,521000,520000,519000,518000,517000,516000,515000,514000,513000,512000,511000,510000,509000,508000,507000,506000,505000,504000,503000,502000,501000,500000,499000,498000,497000,496000,495000,494000,493000,492000,491000,490000,489000,488000,487000,486000,485000,484000,483000,482000,481000,480000,479000,478000,477000,476000,475000,474000,473000,472000,471000,470000,469000,468000,467000,466000,465000,464000,463000,462000,461000,460000,459000,458000,457000,456000,455000,454000,453000,452000,451000,450000,449000,448000,447000,446000,445000,444000,443000,442000,441000,440000,439000,438000,437000,436000,435000,434000,433000,432000,431000,430000,429000,428000,427000,426000,425000,424000,423000,422000,421000,420000,419000,418000,417000,416000,415000,414000,413000,412000,411000,410000,409000,408000,407000,406000,405000,404000,403000,402000,401000,400000,399000,398000,397000,396000,395000,394000,393000,392000,391000,390000,389000,388000,387000,386000,385000,384000,383000,382000,381000,380000,379000,378000,377000,376000,375000,374000,373000,372000,371000,370000,369000,368000,367000,366000,365000,364000,363000,362000,361000,360000,359000,358000,357000,356000,355000,354000,353000,352000,351000,350000,349000,348000,347000,346000,345000,344000,343000,342000,341000,340000,339000,338000,337000,336000,335000,334000,333000,332000,331000,330000,329000,328000,327000,326000,325000,324000,323000,322000,321000,320000,319000,318000,317000,316000,315000,314000,313000,312000,311000,310000,309000,308000,307000,306000,305000,304000,303000,302000,301000,300000,299000,298000,297000,296000,295000,294000,293000,292000,291000,290000,289000,288000,287000,286000,285000,284000,283000,282000,281000,280000,279000,278000,277000,276000,275000,274000,273000,272000,271000,270000,269000,268000,267000,266000,265000,264000,263000,262000,261000,260000,259000,258000,257000,256000,255000,254000,253000,252000,251000,250000,249000,248000,247000,246000,245000,244000,243000,242000,241000,240000,239000,238000,237000,236000,235000,234000,233000,232000,231000,230000,229000,228000,227000,226000,225000,224000,223000,222000,221000,220000,219000,218000,217000,216000,215000,214000,213000,212000,211000,210000,209000,208000,207000,206000,205000,204000,203000,202000,201000,200000,199000,198000,197000,196000,195000,194000,193000,192000,191000,190000,189000,188000,187000,186000,185000,184000,183000,182000,181000,180000,179000,178000,177000,176000,175000,174000,173000,172000,171000,170000,169000,168000,167000,166000,165000,164000,163000,162000,161000,160000,159000,158000,157000,156000,155000,154000,153000,152000,151000,150000,149000,148000,147000,146000,145000,144000,143000,142000,141000,140000,139000,138000,137000,136000,135000,134000,133000,132000,131000,130000,129000,128000,127000,126000,125000,124000,123000,122000,121000,120000,119000,118000,117000,116000,115000,114000,113000,112000,111000,110000,109000,108000,107000,106000,105000,104000,103000,102000,101000,100000,99000,98000,97000,96000,95000,94000,93000,92000,91000,90000,89000,88000,87000,86000,85000,84000,83000,82000,81000,80000,79000,78000,77000,76000,75000,74000,73000,72000,71000,70000,69000,68000,67000,66000,65000,64000,63000,62000,61000,60000,59000,58000,57000,56000,55000,54000,53000,52000,51000,50000,49000,48000,47000,46000,45000,44000,43000,42000,41000,40000,39000,38000,37000,36000,35000,34000,33000,32000,31000,30000,29000,28000,27000,26000,25000,24000,23000,22000,21000,20000,19000,18000,17000,16000,15000,14000,13000,12000,11000,10000,9000,8000,7000,6000,5000,4000,3000,2000,1000,0],\"y\":[1,77,77,134,138,138,154,191,195,195,203,203,203,203,203,203,203,203,203,203,203,207,207,207,207,207,207,207,207,211,211,211,211,211,211,211,211,211,211,211,350,366,368,368,368,368,368,368,368,397,397,397,397,397,397,397,397,457,496,523,523,523,523,524,575,575,619,642,642,642,642,642,642,642,642,642,642,642,642,642,642,642,642,642,642,642,642,642,642,642,642,642,642,642,642,642,642,642,642,642,642,642,642,642,642,642,642,642,642,642,642,642,642,642,642,642,642,642,642,642,642,642,642,642,642,642,642,642,642,642,642,642,642,642,642,642,642,642,642,642,642,642,642,642,642,642,642,642,642,642,642,642,642,642,642,642,642,642,642,642,642,642,642,642,642,642,642,642,642,642,642,642,642,642,642,642,642,642,642,642,642,642,642,642,642,642,642,642,702,702,702,702,702,702,702,702,702,702,708,708,710,710,710,712,712,712,712,712,712,712,712,712,712,712,712,712,712,712,712,712,712,712,712,712,712,712,712,712,712,712,712,712,712,712,712,712,712,712,712,712,712,712,712,712,712,712,712,712,712,712,712,712,712,712,712,712,712,712,712,712,712,712,712,712,712,712,712,712,712,712,712,712,712,712,712,712,712,712,712,713,713,713,713,713,724,724,724,724,730,783,783,783,783,783,783,783,783,783,785,785,785,836,838,839,839,847,888,1035,1133,1199,1324,1435,1436,1471,1479,1484,1484,1590,1697,1698,1698,1725,1729,1733,1737,1759,1765,1767,1769,1769,1769,1781,1784,1784,1810,1858,1858,1863,1863,1863,1863,1872,1872,1872,1872,1872,1872,1872,1872,1872,1872,1874,1874,1874,1874,1874,1875,1915,1915,1933,1937,1937,1941,1947,1947,1949,1949,1949,1949,1949,1949,1954,1962,1974,1974,1974,1974,1974,1974,1975,1980,2050,2079,2083,2151,2152,2152,2158,2163,2163,2163,2264,2291,2291,2291,2291,2291,2291,2293,2299,2299,2299,2307,2310,2310,2310,2310,2310,2310,2310,2310,2310,2310,2371,2413,2413,2427,2427,2427,2427,2427,2427,2427,2427,2427,2427,2427,2427,2427,2427,2427,2427,2427,2427,2427,2427,2427,2427,2427,2427,2427,2427,2427,2427,2427,2427,2427,2427,2427,2427,2427,2427,2427,2427,2427,2427,2427,2427,2427,2427,2427,2427,2427,2427,2427,2427,2427,2427,2427,2427,2427,2427,2427,2427,2427,2427,2427,2427,2427,2427,2427,2427,2427,2427,2427,2427,2427,2427,2427,2427,2427,2427,2427,2427,2427,2427,2427,2427,2427,2427,2427,2427,2427,2427,2427,2427,2427,2427,2427,2427,2427,2427,2427,2427,2427,2427,2427,2427,2427,2427,2427,2427,2427,2427,2427,2427,2427,2427,2427,2427,2427,2427,2427,2427,2427,2427,2427,2427,2427,2427,2427,2427,2427,2427,2427,2427,2427,2427,2427,2427,2427,2427,2427,2427,2427,2427,2427,2427,2427,2427,2427,2427,2427,2427,2427,2427,2427,2427,2427,2427,2427,2427,2427,2427,2427,2427,2427,2427,2427,2427,2427,2427,2427,2427,2427,2427,2427,2427,2427,2427,2427,2427,2427,2427,2427,2427,2427,2427,2427,2427,3779,3779,3779,3779,3779,3779,3779,3779,3779,3779,3779,3779,3779,3779,3779,3779,3779,3779,3779,3779,3779,3779,3779,3779,3779,3779,3779,3779,3779,3779,3779,3779,3779,3779,3779,3779,3779,3779,3779,3779,3779,3779,3779,3779,3779,3779,3779,3779,3779,3779,3779,3779,3779,3779,3779,3779,3779,3779,3779,3779,3779,3779,3779,3779,3779,3779,3779,3779,3779,3779,3779,3779,3779,3779,3779,3779,3779,3779,3779,3779,3779,3779,3779,3779,3779,3779,3779,3779,3779,3779,3779,3779,3779,3779,3779,3779,3779,3779,3779,3779,3779,3773,3773,3773,3773,3773,3773,3773,3773,3767,3767,3767,3767,3767,3767,3767,3767,3767,3767,3767,3767,3767,3767,3767,3767,3767,3767,3767,3767,3767,3767,3767,3767,3767,3767,3767,3767,3766,3766,3766,3766,3766,3766,3766,3766,3766,3766,3760,3756,3729,3689,3679,3679,3679,3679,3679,3679,3679,3679,3679,3679,3679,3679,3679,3679,3679,3679,3679,3679,3679,3679,3678,3664,3656,3621,3621,3621,3621,3621,3621,3621,3621,3621,3621,3621,3621,3621,3602,3563,3563,3563,3563,3559,3522,3518,3518,3518,3518,3518,3518,3518,3518,3518,3518,3518,3518,3518,3518,3518,3518,3518,3518,3518,3518,3518,3518,3518,3518,3518,3518,3518,3518,3518,3518,3518,3518,3518,3518,3518,3518,3518,3518,3518,3518,3497,3494,3478,3366,3288,3288,3288,3282,3263,3190,3190,3190,3188,3106,3099,3099,3099,3099,3099,3099,3099,3099,3099,3099,3099,3099,3099,3099,3099,3099,3099,3099,3099,3099,3099,3099,3099,3099,3099,3099,3099,3099,3099,3099,3099,3099,3099,3099,3099,3099,3099,3099,3099,3099,3099,3099,3099,3099,3099,3099,3099,3099,3099,3099,3099,3099,3099,3099,3099,3099,3099,3099,3099,3099,3099,3099,3099,3099,3099,3099,3099,3099,3099,3099,3099,3099,3099,3097,3097,3097,3097,3097,3097,3097,3097,3097,3097,3097,3097,3097,3097,3097,3097,3097,3097,3097,3097,3097,3097,3097,3096,3096,3096,3093,3093,3093,3093,3093,3093,3093,3093,3093,3091,3091,3091,3091,3091,3091,3091,3091,3083,3050,3050,3050,3047,3047,3047,3047,3047,3047,3047,3045,3038,3038,3038,3038,3038,3038,3038,3037,3037,3037,3035,3035,3035,3035,3035,3034,3034,3034,3031,3031,3026,3026,3017,3015,3000,3000,3000,3000,2993,2934,2912,2905,2905,2905,2904,2903,2902,2902,2902,2902,2902,2899,2835,2830,2807,2807,2805,2805,2805,2805,2805,2805,2805,2805,2805,2805,2805,2805,2805,2805,2805,2805,2805,2805,2805,2805,2805,2789,2710,2710,2710,2710,2710,2710,2710,2710,2710,2710,2709,2620,2620,2620,2620,2620,2620,2620,2620,2620,2620,2620,2620,2620,2620,2620,2620,2620,2619,2619,2619,2618,2618,2618,2618,2617,2617,2617,2616,2616,2616,2616,2616,2616,2616,2616,2614,2610,2610,2608,2608,2608,2608,2604,2604,2604,2604,2604,2604,2604,2604,2604,2604,2604,2554,2482,2482,2460,2412,2410,2399,2391,2326,2282,2274,2262,2259,2175,2175,2173,2173,2173,2158,2098,2098,2096,2096,2095,2055,2037,2037,2037,2031,2028,2028,2028,2028,2028,2028,2028,2028,2028,2028,2022,2022,2022,2019,2019,1907,1834,1740,1740,1734,1732,1691,1630,1612,1489,1466,1466,1400,1328,1314,1282,1282,1279,1279,1279,1274,1274,1274,1256,1256,1256,1211,1179,1150,1094,1052,1004,1004,1001,960,960,849,829,613,590,563,548,402,359,255,195,164,1]}},\"id\":\"4d0d53de-d461-4f53-87dc-b6e1d52e5f7d\",\"type\":\"ColumnDataSource\"},{\"attributes\":{\"plot\":null,\"text\":\"Med Maze 14 0.5 Prioritized XP Replay Stale\"},\"id\":\"84b48fbe-9b5a-4ad5-964c-de1f2a5855e7\",\"type\":\"Title\"},{\"attributes\":{\"label\":{\"value\":\"300k Xp 4 NScaler\"},\"renderers\":[{\"id\":\"dacc21a8-395b-49b8-8601-f35ad81d6fa6\",\"type\":\"GlyphRenderer\"}]},\"id\":\"61b69561-8444-4fce-a90a-0972c588b6d0\",\"type\":\"LegendItem\"},{\"attributes\":{\"fill_alpha\":{\"value\":0.1},\"fill_color\":{\"value\":\"#1f77b4\"},\"line_alpha\":{\"value\":0.1},\"line_color\":{\"value\":\"#1f77b4\"},\"x\":{\"field\":\"x\"},\"y\":{\"field\":\"y\"}},\"id\":\"f10b6ddf-1dd3-4837-8a05-13197b3e1bd5\",\"type\":\"Patch\"},{\"attributes\":{\"callback\":null,\"column_names\":[\"x\",\"y\"],\"data\":{\"x\":[0,1000,2000,3000,4000,5000,6000,7000,8000,9000,10000,11000,12000,13000,14000,15000,16000,17000,18000,19000,20000,21000,22000,23000,24000,25000,26000,27000,28000,29000,30000,31000,32000,33000,34000,35000,36000,37000,38000,39000,40000,41000,42000,43000,44000,45000,46000,47000,48000,49000,50000,51000,52000,53000,54000,55000,56000,57000,58000,59000,60000,61000,62000,63000,64000,65000,66000,67000,68000,69000,70000,71000,72000,73000,74000,75000,76000,77000,78000,79000,80000,81000,82000,83000,84000,85000,86000,87000,88000,89000,90000,91000,92000,93000,94000,95000,96000,97000,98000,99000,100000,101000,102000,103000,104000,105000,106000,107000,108000,109000,110000,111000,112000,113000,114000,115000,116000,117000,118000,119000,120000,121000,122000,123000,124000,125000,126000,127000,128000,129000,130000,131000,132000,133000,134000,135000,136000,137000,138000,139000,140000,141000,142000,143000,144000,145000,146000,147000,148000,149000,150000,151000,152000,153000,154000,155000,156000,157000,158000,159000,160000,161000,162000,163000,164000,165000,166000,167000,168000,169000,170000,171000,172000,173000,174000,175000,176000,177000,178000,179000,180000,181000,182000,183000,184000,185000,186000,187000,188000,189000,190000,191000,192000,193000,194000,195000,196000,197000,198000,199000,200000,201000,202000,203000,204000,205000,206000,207000,208000,209000,210000,211000,212000,213000,214000,215000,216000,217000,218000,219000,220000,221000,222000,223000,224000,225000,226000,227000,228000,229000,230000,231000,232000,233000,234000,235000,236000,237000,238000,239000,240000,241000,242000,243000,244000,245000,246000,247000,248000,249000,250000,251000,252000,253000,254000,255000,256000,257000,258000,259000,260000,261000,262000,263000,264000,265000,266000,267000,268000,269000,270000,271000,272000,273000,274000,275000,276000,277000,278000,279000,280000,281000,282000,283000,284000,285000,286000,287000,288000,289000,290000,291000,292000,293000,294000,295000,296000,297000,298000,299000,300000,301000,302000,303000,304000,305000,306000,307000,308000,309000,310000,311000,312000,313000,314000,315000,316000,317000,318000,319000,320000,321000,322000,323000,324000,325000,326000,327000,328000,329000,330000,331000,332000,333000,334000,335000,336000,337000,338000,339000,340000,341000,342000,343000,344000,345000,346000,347000,348000,349000,350000,351000,352000,353000,354000,355000,356000,357000,358000,359000,360000,361000,362000,363000,364000,365000,366000,367000,368000,369000,370000,371000,372000,373000,374000,375000,376000,377000,378000,379000,380000,381000,382000,383000,384000,385000,386000,387000,388000,389000,390000,391000,392000,393000,394000,395000,396000,397000,398000,399000,400000,401000,402000,403000,404000,405000,406000,407000,408000,409000,410000,411000,412000,413000,414000,415000,416000,417000,418000,419000,420000,421000,422000,423000,424000,425000,426000,427000,428000,429000,430000,431000,432000,433000,434000,435000,436000,437000,438000,439000,440000,441000,442000,443000,444000,445000,446000,447000,448000,449000,450000,451000,452000,453000,454000,455000,456000,457000,458000,459000,460000,461000,462000,463000,464000,465000,466000,467000,468000,469000,470000,471000,472000,473000,474000,475000,476000,477000,478000,479000,480000,481000,482000,483000,484000,485000,486000,487000,488000,489000,490000,491000,492000,493000,494000,495000,496000,497000,498000,499000,500000,501000,502000,503000,504000,505000,506000,507000,508000,509000,510000,511000,512000,513000,514000,515000,516000,517000,518000,519000,520000,521000,522000,523000,524000,525000,526000,527000,528000,529000,530000,531000,532000,533000,534000,535000,536000,537000,538000,539000,540000,541000,542000,543000,544000,545000,546000,547000,548000,549000,550000,551000,552000,553000,554000,555000,556000,557000,558000,559000,560000,561000,562000,563000,564000,565000,566000,567000,568000,569000,570000,571000,572000,573000,574000,575000,576000,577000,578000,579000,580000,581000,582000,583000,584000,585000,586000,587000,588000,589000,590000,591000,592000,593000,594000,595000,596000,597000,598000,599000,600000,600000,599000,598000,597000,596000,595000,594000,593000,592000,591000,590000,589000,588000,587000,586000,585000,584000,583000,582000,581000,580000,579000,578000,577000,576000,575000,574000,573000,572000,571000,570000,569000,568000,567000,566000,565000,564000,563000,562000,561000,560000,559000,558000,557000,556000,555000,554000,553000,552000,551000,550000,549000,548000,547000,546000,545000,544000,543000,542000,541000,540000,539000,538000,537000,536000,535000,534000,533000,532000,531000,530000,529000,528000,527000,526000,525000,524000,523000,522000,521000,520000,519000,518000,517000,516000,515000,514000,513000,512000,511000,510000,509000,508000,507000,506000,505000,504000,503000,502000,501000,500000,499000,498000,497000,496000,495000,494000,493000,492000,491000,490000,489000,488000,487000,486000,485000,484000,483000,482000,481000,480000,479000,478000,477000,476000,475000,474000,473000,472000,471000,470000,469000,468000,467000,466000,465000,464000,463000,462000,461000,460000,459000,458000,457000,456000,455000,454000,453000,452000,451000,450000,449000,448000,447000,446000,445000,444000,443000,442000,441000,440000,439000,438000,437000,436000,435000,434000,433000,432000,431000,430000,429000,428000,427000,426000,425000,424000,423000,422000,421000,420000,419000,418000,417000,416000,415000,414000,413000,412000,411000,410000,409000,408000,407000,406000,405000,404000,403000,402000,401000,400000,399000,398000,397000,396000,395000,394000,393000,392000,391000,390000,389000,388000,387000,386000,385000,384000,383000,382000,381000,380000,379000,378000,377000,376000,375000,374000,373000,372000,371000,370000,369000,368000,367000,366000,365000,364000,363000,362000,361000,360000,359000,358000,357000,356000,355000,354000,353000,352000,351000,350000,349000,348000,347000,346000,345000,344000,343000,342000,341000,340000,339000,338000,337000,336000,335000,334000,333000,332000,331000,330000,329000,328000,327000,326000,325000,324000,323000,322000,321000,320000,319000,318000,317000,316000,315000,314000,313000,312000,311000,310000,309000,308000,307000,306000,305000,304000,303000,302000,301000,300000,299000,298000,297000,296000,295000,294000,293000,292000,291000,290000,289000,288000,287000,286000,285000,284000,283000,282000,281000,280000,279000,278000,277000,276000,275000,274000,273000,272000,271000,270000,269000,268000,267000,266000,265000,264000,263000,262000,261000,260000,259000,258000,257000,256000,255000,254000,253000,252000,251000,250000,249000,248000,247000,246000,245000,244000,243000,242000,241000,240000,239000,238000,237000,236000,235000,234000,233000,232000,231000,230000,229000,228000,227000,226000,225000,224000,223000,222000,221000,220000,219000,218000,217000,216000,215000,214000,213000,212000,211000,210000,209000,208000,207000,206000,205000,204000,203000,202000,201000,200000,199000,198000,197000,196000,195000,194000,193000,192000,191000,190000,189000,188000,187000,186000,185000,184000,183000,182000,181000,180000,179000,178000,177000,176000,175000,174000,173000,172000,171000,170000,169000,168000,167000,166000,165000,164000,163000,162000,161000,160000,159000,158000,157000,156000,155000,154000,153000,152000,151000,150000,149000,148000,147000,146000,145000,144000,143000,142000,141000,140000,139000,138000,137000,136000,135000,134000,133000,132000,131000,130000,129000,128000,127000,126000,125000,124000,123000,122000,121000,120000,119000,118000,117000,116000,115000,114000,113000,112000,111000,110000,109000,108000,107000,106000,105000,104000,103000,102000,101000,100000,99000,98000,97000,96000,95000,94000,93000,92000,91000,90000,89000,88000,87000,86000,85000,84000,83000,82000,81000,80000,79000,78000,77000,76000,75000,74000,73000,72000,71000,70000,69000,68000,67000,66000,65000,64000,63000,62000,61000,60000,59000,58000,57000,56000,55000,54000,53000,52000,51000,50000,49000,48000,47000,46000,45000,44000,43000,42000,41000,40000,39000,38000,37000,36000,35000,34000,33000,32000,31000,30000,29000,28000,27000,26000,25000,24000,23000,22000,21000,20000,19000,18000,17000,16000,15000,14000,13000,12000,11000,10000,9000,8000,7000,6000,5000,4000,3000,2000,1000,0],\"y\":[1,77,77,78,88,152,168,183,187,203,203,207,207,207,207,207,207,207,207,225,225,225,225,225,225,225,225,225,225,225,225,225,225,225,225,225,225,225,225,225,225,225,225,225,225,225,225,225,225,225,225,225,225,225,225,225,225,225,225,225,225,225,225,225,225,225,225,225,225,225,225,225,225,225,225,225,225,225,225,225,225,225,225,225,225,225,225,225,225,225,225,225,225,225,225,225,225,225,225,225,225,225,225,225,225,225,225,225,225,225,225,225,225,225,225,225,225,225,225,225,225,225,225,225,225,225,225,225,225,225,225,225,225,225,225,225,225,225,225,225,225,225,225,225,225,225,225,225,225,225,225,225,225,225,225,225,225,225,225,225,225,225,225,225,225,225,225,225,225,225,225,225,226,226,226,226,226,226,226,226,226,226,226,226,226,226,226,226,241,358,359,414,422,569,598,598,607,607,607,607,607,607,608,608,608,608,608,608,608,608,608,608,608,608,608,608,608,608,608,608,608,608,608,608,608,608,608,608,608,608,608,608,608,608,608,608,608,608,608,608,608,608,608,608,608,608,608,608,608,608,608,608,608,608,608,608,608,608,608,608,608,608,608,608,608,608,608,608,608,608,608,608,608,608,608,608,608,608,608,608,608,608,608,608,608,608,608,608,608,608,608,608,608,608,608,608,608,609,725,769,831,837,837,841,841,845,853,858,878,878,878,878,878,900,900,900,900,900,900,900,900,900,900,900,923,1120,1151,1157,1157,1157,1161,1161,1163,1163,1174,1198,1340,1379,1411,1421,1461,1463,1471,1480,1480,1480,1480,1480,1480,1480,1492,1492,1492,1492,1492,1521,1532,1542,1635,1636,1636,1636,1636,1640,1646,1646,1685,1685,1696,1696,1697,1697,1697,1743,1767,1767,1767,1767,1785,1785,1786,1786,1786,1786,1786,1790,1790,1872,1907,1908,1908,1916,1916,1916,1916,1933,1954,1974,1974,1974,1974,1974,1978,1984,1984,1984,1984,1984,1984,1984,1984,1984,1984,1984,1984,1984,1984,1984,1984,1984,1984,2012,2012,2012,2012,2012,2012,2012,2012,2012,2012,2012,2012,2012,2012,2012,2012,2012,2012,2012,2013,2013,2013,2013,2013,2013,2037,2038,2039,2039,2039,2042,2042,2042,2042,2042,2042,2042,2042,2042,2042,2042,2042,2042,2042,2042,2042,2042,2042,2042,2042,2042,2042,2042,2042,2042,2042,2042,2042,2042,2042,2042,2042,2044,2044,2044,2044,2044,2044,2044,2044,2044,2044,2044,2044,2048,2048,2048,2048,2048,2048,2048,2048,2048,2048,2048,2048,2048,2048,2048,2048,2048,2048,2048,2048,2048,2048,2048,2048,2048,2048,2063,2063,2063,2063,2063,2063,2063,2063,2063,2063,2063,2063,2063,2063,2063,2063,2063,2063,2063,2063,2063,2063,2063,2063,2063,2133,2211,2321,2327,2343,2343,2345,2345,2375,2445,2451,2461,2461,2461,2461,2462,2462,2462,2462,2462,2462,2466,2466,2472,2472,2489,2489,2489,2492,2520,2648,2689,2689,2690,2690,2690,2690,2690,2690,2690,2690,2690,2690,2690,2690,2690,2690,2690,2690,2690,2690,2690,2690,2690,3781,3781,3781,3781,3781,3781,3781,3781,3781,3781,3781,3781,3781,3781,3781,3781,3781,3781,3781,3781,3781,3781,3781,3781,3781,3781,3781,3781,3781,3781,3781,3781,3781,3781,3781,3781,3781,3781,3781,3781,3781,3781,3781,3781,3781,3781,3781,3781,3781,3781,3781,3781,3781,3781,3781,3781,3781,3781,3781,3781,3781,3781,3781,3781,3781,3781,3781,3781,3781,3781,3781,3781,3781,3781,3781,3781,3781,3781,3781,3781,3781,3781,3781,3781,3781,3781,3781,3781,3781,3781,3781,3781,3781,3781,3781,3781,3781,3781,3781,3781,3781,3781,3781,3781,3781,3781,3781,3781,3781,3781,3781,3781,3781,3781,3781,3781,3781,3781,3781,3781,3781,3775,3775,3775,3775,3775,3775,3775,3775,3775,3775,3775,3775,3775,3775,3775,3775,3775,3775,3775,3775,3775,3775,3775,3775,3775,3775,3775,3775,3775,3775,3775,3775,3775,3775,3775,3775,3775,3775,3775,3775,3775,3775,3775,3775,3775,3775,3775,3775,3775,3775,3775,3775,3775,3775,3775,3775,3775,3775,3775,3775,3775,3775,3775,3775,3775,3775,3775,3775,3775,3775,3775,3775,3775,3775,3775,3775,3775,3775,3775,3775,3775,3775,3775,3775,3775,3775,3775,3775,3775,3775,3775,3775,3775,3762,3762,3762,3762,3762,3762,3762,3762,3762,3762,3760,3760,3760,3760,3760,3760,3760,3760,3760,3760,3760,3760,3760,3760,3760,3760,3760,3760,3760,3760,3760,3760,3760,3760,3760,3760,3760,3760,3760,3760,3760,3760,3760,3760,3760,3760,3760,3760,3760,3760,3760,3760,3760,3760,3760,3760,3760,3760,3760,3760,3760,3760,3760,3760,3760,3760,3760,3760,3760,3760,3760,3757,3757,3757,3757,3757,3757,3757,3757,3757,3757,3757,3757,3757,3756,3756,3756,3756,3756,3756,3756,3756,3756,3755,3755,3755,3755,3755,3755,3755,3752,3724,3723,3723,3723,3723,3723,3723,3723,3723,3723,3723,3723,3701,3701,3701,3701,3701,3701,3701,3701,3701,3701,3701,3701,3701,3701,3701,3701,3695,3667,3667,3667,3667,3667,3667,3667,3667,3667,3667,3667,3667,3667,3667,3667,3667,3667,3667,3667,3566,3566,3561,3505,3412,3410,3409,3408,3408,3408,3408,3408,3408,3408,3408,3408,3408,3407,3407,3407,3393,3363,3334,3296,3249,3215,3212,3119,3119,3115,3068,3068,3068,3068,3068,3068,3068,3068,3068,3068,3068,3068,3068,3068,3068,3068,3068,3068,3068,3068,3068,3068,3068,3068,3068,3068,3068,3068,3068,3064,3064,3064,3064,3064,3064,3064,3058,3058,3058,3058,3058,3058,3058,3058,3058,3058,3058,3058,3058,3058,3058,3058,3058,3058,3058,3050,3050,3050,3050,3047,3047,3047,3047,3047,3047,3047,3047,3047,3047,3044,3044,3044,3044,3044,3044,3044,3044,3044,3044,3044,3034,3034,3033,3033,3033,3030,3028,3025,2994,2926,2911,2911,2907,2907,2907,2907,2902,2901,2901,2892,2890,2890,2890,2890,2887,2881,2855,2853,2853,2853,2843,2814,2773,2721,2721,2719,2692,2692,2692,2691,2680,2667,2611,2583,2565,2561,2554,2538,2538,2535,2535,2535,2535,2535,2535,2535,2535,2535,2535,2535,2522,2515,2469,2375,2277,2261,2219,2056,1980,1935,1929,1928,1928,1927,1925,1825,1825,1825,1814,1804,1797,1623,1421,1421,1421,1421,1421,1421,1421,1416,1364,1245,1233,1232,1224,1224,1224,1222,1209,1208,1208,1208,1204,1096,1032,976,968,819,819,814,766,711,710,701,688,642,620,603,547,534,523,521,485,381,226,167,1]}},\"id\":\"853bf9bc-d1e0-4c77-94f1-6e439360ad8d\",\"type\":\"ColumnDataSource\"},{\"attributes\":{\"callback\":null,\"column_names\":[\"x\",\"y\"],\"data\":{\"x\":[0,1000,2000,3000,4000,5000,6000,7000,8000,9000,10000,11000,12000,13000,14000,15000,16000,17000,18000,19000,20000,21000,22000,23000,24000,25000,26000,27000,28000,29000,30000,31000,32000,33000,34000,35000,36000,37000,38000,39000,40000,41000,42000,43000,44000,45000,46000,47000,48000,49000,50000,51000,52000,53000,54000,55000,56000,57000,58000,59000,60000,61000,62000,63000,64000,65000,66000,67000,68000,69000,70000,71000,72000,73000,74000,75000,76000,77000,78000,79000,80000,81000,82000,83000,84000,85000,86000,87000,88000,89000,90000,91000,92000,93000,94000,95000,96000,97000,98000,99000,100000,101000,102000,103000,104000,105000,106000,107000,108000,109000,110000,111000,112000,113000,114000,115000,116000,117000,118000,119000,120000,121000,122000,123000,124000,125000,126000,127000,128000,129000,130000,131000,132000,133000,134000,135000,136000,137000,138000,139000,140000,141000,142000,143000,144000,145000,146000,147000,148000,149000,150000,151000,152000,153000,154000,155000,156000,157000,158000,159000,160000,161000,162000,163000,164000,165000,166000,167000,168000,169000,170000,171000,172000,173000,174000,175000,176000,177000,178000,179000,180000,181000,182000,183000,184000,185000,186000,187000,188000,189000,190000,191000,192000,193000,194000,195000,196000,197000,198000,199000,200000,201000,202000,203000,204000,205000,206000,207000,208000,209000,210000,211000,212000,213000,214000,215000,216000,217000,218000,219000,220000,221000,222000,223000,224000,225000,226000,227000,228000,229000,230000,231000,232000,233000,234000,235000,236000,237000,238000,239000,240000,241000,242000,243000,244000,245000,246000,247000,248000,249000,250000,251000,252000,253000,254000,255000,256000,257000,258000,259000,260000,261000,262000,263000,264000,265000,266000,267000,268000,269000,270000,271000,272000,273000,274000,275000,276000,277000,278000,279000,280000,281000,282000,283000,284000,285000,286000,287000,288000,289000,290000,291000,292000,293000,294000,295000,296000,297000,298000,299000,300000,301000,302000,303000,304000,305000,306000,307000,308000,309000,310000,311000,312000,313000,314000,315000,316000,317000,318000,319000,320000,321000,322000,323000,324000,325000,326000,327000,328000,329000,330000,331000,332000,333000,334000,335000,336000,337000,338000,339000,340000,341000,342000,343000,344000,345000,346000,347000,348000,349000,350000,351000,352000,353000,354000,355000,356000,357000,358000,359000,360000,361000,362000,363000,364000,365000,366000,367000,368000,369000,370000,371000,372000,373000,374000,375000,376000,377000,378000,379000,380000,381000,382000,383000,384000,385000,386000,387000,388000,389000,390000,391000,392000,393000,394000,395000,396000,397000,398000,399000,400000,401000,402000,403000,404000,405000,406000,407000,408000,409000,410000,411000,412000,413000,414000,415000,416000,417000,418000,419000,420000,421000,422000,423000,424000,425000,426000,427000,428000,429000,430000,431000,432000,433000,434000,435000,436000,437000,438000,439000,440000,441000,442000,443000,444000,445000,446000,447000,448000,449000,450000,451000,452000,453000,454000,455000,456000,457000,458000,459000,460000,461000,462000,463000,464000,465000,466000,467000,468000,469000,470000,471000,472000,473000,474000,475000,476000,477000,478000,479000,480000,481000,482000,483000,484000,485000,486000,487000,488000,489000,490000,491000,492000,493000,494000,495000,496000,497000,498000,499000,500000,501000,502000,503000,504000,505000,506000,507000,508000,509000,510000,511000,512000,513000,514000,515000,516000,517000,518000,519000,520000,521000,522000,523000,524000,525000,526000,527000,528000,529000,530000,531000,532000,533000,534000,535000,536000,537000,538000,539000,540000,541000,542000,543000,544000,545000,546000,547000,548000,549000,550000,551000,552000,553000,554000,555000,556000,557000,558000,559000,560000,561000,562000,563000,564000,565000,566000,567000,568000,569000,570000,571000,572000,573000,574000,575000,576000,577000,578000,579000,580000,581000,582000,583000,584000,585000,586000,587000,588000,589000,590000,591000,592000,593000,594000,595000,596000,597000,598000,599000,600000],\"y\":{\"__ndarray__\":\"AAAAAAAA8D8AAAAAABhbQAAAAAAAQGNAAAAAAAA4akAAAAAAANRvQAAAAAAAxnFAAAAAAACGdEAAAAAAAPJ0QAAAAAAAeHVAAAAAAAA2eEAAAAAAAPp5QAAAAAAAUHtAAAAAAADSfEAAAAAAAE5+QAAAAAAANH9AAAAAAAAKgEAAAAAAAOCAQAAAAAAAYoFAAAAAAAAMgkAAAAAAADqCQAAAAAAAJoNAAAAAAADJg0AAAAAAAOWDQAAAAAAAQYRAAAAAAADqhEAAAAAAAA6FQAAAAAAAJoVAAAAAAAAvhUAAAAAAAGqFQAAAAAAADIZAAAAAAABChkAAAAAAAEyGQAAAAAAA1YZAAAAAAAAHh0AAAAAAAAuHQAAAAAAAEodAAAAAAAATh0AAAAAAAGCHQAAAAAAAM4hAAAAAAAAeiUAAAAAAAKWJQAAAAAAAvYlAAAAAAADoiUAAAAAAAE+LQAAAAAAAU4xAAAAAAAAjjUAAAAAAADiOQAAAAAAAVY5AAAAAAACmjkAAAAAAAPeOQAAAAAAA/o5AAAAAAAAGj0AAAAAAAAaPQAAAAAAACo9AAAAAAAALj0AAAAAAAA+PQAAAAAAAE49AAAAAAACej0AAAAAAAPKPQAAAAACAIpBAAAAAAABokEAAAAAAAIyQQAAAAACAoZBAAAAAAADQkEAAAAAAgNGQQAAAAACACpFAAAAAAIAfkUAAAAAAAFORQAAAAACAXJFAAAAAAABdkUAAAAAAgG6RQAAAAAAA45FAAAAAAAACkkAAAAAAADWSQAAAAAAAO5JAAAAAAAA+kkAAAAAAAEKSQAAAAACASpJAAAAAAIBYkkAAAAAAAJuSQAAAAAAAvZJAAAAAAID+kkAAAAAAgACTQAAAAAAAApNAAAAAAAAPk0AAAAAAACOTQAAAAACAI5NAAAAAAAA8k0AAAAAAADyTQAAAAAAAf5NAAAAAAACKk0AAAAAAgI2TQAAAAACAkJNAAAAAAICUk0AAAAAAAJWTQAAAAAAAtZNAAAAAAADuk0AAAAAAAAaUQAAAAACAIJRAAAAAAIAglEAAAAAAACGUQAAAAAAAYZRAAAAAAAB6lEAAAAAAAHqUQAAAAAAAgJRAAAAAAICvlEAAAAAAABKVQAAAAACAYpVAAAAAAIDYlUAAAAAAgE6WQAAAAAAAipZAAAAAAIC4lkAAAAAAABSXQAAAAAAAj5dAAAAAAID4l0AAAAAAgEmYQAAAAACAgphAAAAAAAC7mEAAAAAAAEKZQAAAAACA3ZlAAAAAAABnmkAAAAAAgHiaQAAAAAAA05pAAAAAAAA2m0AAAAAAgEKbQAAAAACAQ5tAAAAAAABqm0AAAAAAAJabQAAAAAAA45tAAAAAAABFnEAAAAAAgGmcQAAAAACAjpxAAAAAAACnnEAAAAAAgNGcQAAAAACA55xAAAAAAAD+nEAAAAAAAImdQAAAAACAuZ1AAAAAAIATnkAAAAAAgF+eQAAAAACAn55AAAAAAACsnkAAAAAAAMeeQAAAAAAABZ9AAAAAAIAVn0AAAAAAgIKfQAAAAACA4Z9AAAAAAID/n0AAAAAAgACgQAAAAACAAaBAAAAAAEACoEAAAAAAgA6gQAAAAACAGqBAAAAAAMAdoEAAAAAAQC2gQAAAAAAANKBAAAAAAEA2oEAAAAAAwD+gQAAAAABAT6BAAAAAAMBzoEAAAAAAgKegQAAAAACAu6BAAAAAAAC9oEAAAAAAwMWgQAAAAABAyKBAAAAAAMDdoEAAAAAAQOigQAAAAAAAG6FAAAAAAEAloUAAAAAAwFahQAAAAACAg6FAAAAAAACZoUAAAAAAgKWhQAAAAACApaFAAAAAAMCpoUAAAAAAQK6hQAAAAADArqFAAAAAAADFoUAAAAAAQM+hQAAAAACA46FAAAAAAAAYokAAAAAAgEyiQAAAAADAV6JAAAAAAAB7okAAAAAAAJiiQAAAAADAn6JAAAAAAECpokAAAAAAwLyiQAAAAACA+qJAAAAAAEAFo0AAAAAAQESjQAAAAAAAb6NAAAAAAIB0o0AAAAAAwHujQAAAAABAg6NAAAAAAACHo0AAAAAAwKGjQAAAAADAoaNAAAAAAMCho0AAAAAAwKGjQAAAAADAoaNAAAAAAMCho0AAAAAAgKyjQAAAAACAvKNAAAAAAIC8o0AAAAAAgLyjQAAAAAAAwKNAAAAAAEDAo0AAAAAAQMCjQAAAAADAxKNAAAAAAIDOo0AAAAAAgNejQAAAAACA16NAAAAAAEDlo0AAAAAAgO2jQAAAAAAA8KNAAAAAAEDxo0AAAAAAwPejQAAAAAAA/KNAAAAAAAD9o0AAAAAAgP2jQAAAAACA/aNAAAAAAID9o0AAAAAAgP2jQAAAAACA/aNAAAAAAID9o0AAAAAAgP2jQAAAAACA/aNAAAAAAID9o0AAAAAAgP2jQAAAAACA/aNAAAAAAID9o0AAAAAAgP2jQAAAAACA/aNAAAAAAMD9o0AAAAAAwP2jQAAAAADA/aNAAAAAAAD+o0AAAAAAAP6jQAAAAAAABKRAAAAAAMAIpEAAAAAAwAikQAAAAADACKRAAAAAAMAIpEAAAAAAwAikQAAAAADACKRAAAAAAMAIpEAAAAAAwAikQAAAAADACKRAAAAAAMAIpEAAAAAAwAikQAAAAADACKRAAAAAAMAIpEAAAAAAAAqkQAAAAABACqRAAAAAAEAKpEAAAAAAQAqkQAAAAABACqRAAAAAAEAKpEAAAAAAQAqkQAAAAAAAIaRAAAAAAAAhpEAAAAAAACGkQAAAAAAAIaRAAAAAAAAhpEAAAAAAACGkQAAAAAAAIaRAAAAAAAAhpEAAAAAAACGkQAAAAAAAIaRAAAAAAEAjpEAAAAAAgCmkQAAAAAAAKqRAAAAAAAAqpEAAAAAAACqkQAAAAACAPaRAAAAAAAA/pEAAAAAAQEekQAAAAABAZ6RAAAAAAMB6pEAAAAAAAIekQAAAAABAiKRAAAAAAECIpEAAAAAAQIikQAAAAABAiKRAAAAAAECIpEAAAAAAQIikQAAAAABAiKRAAAAAAECIpEAAAAAAQIikQAAAAABAiKRAAAAAAECIpEAAAAAAAJGkQAAAAAAAoKRAAAAAAACkpEAAAAAAQKWkQAAAAACApaRAAAAAAIClpEAAAAAAQLWkQAAAAAAAt6RAAAAAAAC3pEAAAAAAALekQAAAAAAAt6RAAAAAAAC3pEAAAAAAQMakQAAAAABAyaRAAAAAAIDKpEAAAAAAQNKkQAAAAABA3qRAAAAAAMDkpEAAAAAAwOSkQAAAAADA5KRAAAAAAMDkpEAAAAAAwOWkQAAAAABA56RAAAAAAIDnpEAAAAAAgOekQAAAAACA56RAAAAAAADopEAAAAAAQOikQAAAAABA6KRAAAAAAEDopEAAAAAAQOikQAAAAABA6KRAAAAAAEDopEAAAAAAQOikQAAAAABA6KRAAAAAAEDopEAAAAAAQOikQAAAAABA6KRAAAAAAEDopEAAAAAAQOikQAAAAADA6KRAAAAAAMDopEAAAAAAwOikQAAAAADA6KRAAAAAAEDupEAAAAAAQPOkQAAAAABA86RAAAAAAED5pEAAAAAAQPmkQAAAAACAF6VAAAAAAAA0pUAAAAAAAD2lQAAAAAAAPaVAAAAAAAA9pUAAAAAAAD2lQAAAAAAAPaVAAAAAAAA9pUAAAAAAAD2lQAAAAAAAPaVAAAAAAAA9pUAAAAAAAD2lQAAAAAAAPaVAAAAAAAA9pUAAAAAAAD2lQAAAAAAAPaVAAAAAAAA9pUAAAAAAAD2lQAAAAAAAPaVAAAAAAMA+pUAAAAAAQD+lQAAAAADAWKVAAAAAAIBwpUAAAAAAwHOlQAAAAACAk6VAAAAAAECjpUAAAAAAgMalQAAAAADAyKVAAAAAAMDIpUAAAAAAwMilQAAAAADAyKVAAAAAAMDIpUAAAAAAwMilQAAAAADAyKVAAAAAAADJpUAAAAAAAMmlQAAAAAAAyaVAAAAAAADJpUAAAAAAAMmlQAAAAAAAyaVAAAAAAADKpUAAAAAAQMqlQAAAAABAyqVAAAAAAEDZpUAAAAAAQOqlQAAAAACA7qVAAAAAAIDupUAAAAAAQPSlQAAAAABA/qVAAAAAAID+pUAAAAAAwASmQAAAAADABaZAAAAAAMAFpkAAAAAAwAWmQAAAAADABaZAAAAAAMAFpkAAAAAAwAWmQAAAAADABaZAAAAAAMAFpkAAAAAAwAWmQAAAAADABaZAAAAAAMAFpkAAAAAAwAWmQAAAAADABaZAAAAAAMAFpkAAAAAAwAWmQAAAAABAC6ZAAAAAAEAMpkAAAAAAwCumQAAAAAAAQ6ZAAAAAAIBGpkAAAAAAAEemQAAAAADAW6ZAAAAAAMB2pkAAAAAAgHmmQAAAAAAAeqZAAAAAAAB9pkAAAAAAAH2mQAAAAAAAfaZAAAAAAAB9pkAAAAAAAH2mQAAAAAAAfaZAAAAAAAB9pkAAAAAAAH2mQAAAAAAAfaZAAAAAAMB9pkAAAAAAAIKmQAAAAADAg6ZAAAAAAMCDpkAAAAAAwIOmQAAAAABAhKZAAAAAAMCEpkAAAAAAAImmQAAAAABAiaZAAAAAAECJpkAAAAAAAIumQAAAAAAAnKZAAAAAAICepkAAAAAAgJ+mQAAAAACAo6ZAAAAAAMCmpkAAAAAAwKamQAAAAADApqZAAAAAAMCmpkAAAAAAwKamQAAAAADApqZAAAAAAMCmpkAAAAAAwKamQAAAAADApqZAAAAAAMCmpkAAAAAAAKqmQAAAAABAuaZAAAAAAMC5pkAAAAAAALqmQAAAAAAAuqZAAAAAAAC6pkAAAAAAwLumQAAAAACA2KZAAAAAAMDjpkAAAAAAQACnQAAAAACAAqdAAAAAAIACp0AAAAAAgAKnQAAAAACAAqdAAAAAAAAHp0AAAAAAQAenQAAAAADAD6dAAAAAAAAfp0AAAAAAQCKnQAAAAACANadAAAAAAIA2p0AAAAAAQDmnQAAAAABAOadAAAAAAIA5p0AAAAAAwDmnQAAAAAAAOqdAAAAAAABGp0AAAAAAgEynQAAAAACATKdAAAAAAMBbp0AAAAAAQF2nQAAAAADAdKdAAAAAAICCp0AAAAAAgIOnQAAAAACAiadAAAAAAECMp0AAAAAAQIynQAAAAADAjadAAAAAAMCNp0AAAAAAQJGnQAAAAABAkadAAAAAAECRp0AAAAAAQJGnQAAAAABAkadAAAAAAECRp0AAAAAAQJGnQAAAAABAkadAAAAAAECRp0AAAAAAQJGnQAAAAABAkadAAAAAAECRp0AAAAAAwJanQAAAAADAlqdAAAAAAECjp0AAAAAAwKOnQAAAAAAApKdAAAAAAACkp0AAAAAAAKSnQAAAAAAApKdAAAAAAACkp0AAAAAAAKSnQAAAAAAApKdAAAAAAACkp0AAAAAAAKSnQAAAAAAApKdAAAAAAACkp0AAAAAAAKSnQAAAAAAApKdAAAAAAACkp0AAAAAAAKSnQAAAAAAApKdAAAAAAACkp0AAAAAAAKSnQAAAAAAApKdAAAAAAACkp0AAAAAAQLSnQAAAAAAAt6dAAAAAAEC7p0AAAAAAwMSnQAAAAACAx6dAAAAAAADIp0AAAAAAgMinQAAAAACAyKdAAAAAAMDJp0AAAAAAwMmnQAAAAACAzKdAAAAAAEDNp0AAAAAAANWnQAAAAADA1adAAAAAAMDVp0AAAAAAwNWnQAAAAADA1adAAAAAAMDVp0AAAAAAwNWnQAAAAADA1adAAAAAAMDVp0AAAAAAwNWnQAAAAADA1adAAAAAAMDVp0AAAAAAwNWnQAAAAAAA1qdAAAAAAEDzp0AAAAAAwP2nQAAAAAAA/qdAAAAAAAD+p0AAAAAAAP6nQAAAAAAA/qdAAAAAAAD+p0AAAAAAAP6nQAAAAAAA/qdAAAAAAAD+p0AAAAAAAP6nQAAAAACA/qdAAAAAAID+p0AAAAAAgP6nQAAAAACA/qdAAAAAAID+p0AAAAAAgP6nQAAAAACA/qdAAAAAAID+p0AAAAAAgP6nQAAAAACA/qdAAAAAAID+p0AAAAAAgP6nQAAAAACA/qdAAAAAAAAAqEAAAAAAgASoQAAAAADAC6hAAAAAAEAaqEAAAAAAADWoQAAAAABAZKhAAAAAAMBuqEAAAAAAwHOoQAAAAABAfahAAAAAAMB9qEAAAAAAgH6oQAAAAACAf6hAAAAAAECBqEAAAAAAQIGoQAAAAABAgahAAAAAAECBqEAAAAAAQIGoQAAAAABAgahAAAAAAECBqEAAAAAAQIGoQAAAAABAgahAAAAAAECBqEAAAAAAQIGoQAAAAAAAg6hA\",\"dtype\":\"float64\",\"shape\":[600]}}},\"id\":\"6ebfe6e4-8054-401f-8ff9-87f663beead1\",\"type\":\"ColumnDataSource\"},{\"attributes\":{\"callback\":null,\"column_names\":[\"x\",\"y\"],\"data\":{\"x\":[0,1000,2000,3000,4000,5000,6000,7000,8000,9000,10000,11000,12000,13000,14000,15000,16000,17000,18000,19000,20000,21000,22000,23000,24000,25000,26000,27000,28000,29000,30000,31000,32000,33000,34000,35000,36000,37000,38000,39000,40000,41000,42000,43000,44000,45000,46000,47000,48000,49000,50000,51000,52000,53000,54000,55000,56000,57000,58000,59000,60000,61000,62000,63000,64000,65000,66000,67000,68000,69000,70000,71000,72000,73000,74000,75000,76000,77000,78000,79000,80000,81000,82000,83000,84000,85000,86000,87000,88000,89000,90000,91000,92000,93000,94000,95000,96000,97000,98000,99000,100000,101000,102000,103000,104000,105000,106000,107000,108000,109000,110000,111000,112000,113000,114000,115000,116000,117000,118000,119000,120000,121000,122000,123000,124000,125000,126000,127000,128000,129000,130000,131000,132000,133000,134000,135000,136000,137000,138000,139000,140000,141000,142000,143000,144000,145000,146000,147000,148000,149000,150000,151000,152000,153000,154000,155000,156000,157000,158000,159000,160000,161000,162000,163000,164000,165000,166000,167000,168000,169000,170000,171000,172000,173000,174000,175000,176000,177000,178000,179000,180000,181000,182000,183000,184000,185000,186000,187000,188000,189000,190000,191000,192000,193000,194000,195000,196000,197000,198000,199000,200000,201000,202000,203000,204000,205000,206000,207000,208000,209000,210000,211000,212000,213000,214000,215000,216000,217000,218000,219000,220000,221000,222000,223000,224000,225000,226000,227000,228000,229000,230000,231000,232000,233000,234000,235000,236000,237000,238000,239000,240000,241000,242000,243000,244000,245000,246000,247000,248000,249000,250000,251000,252000,253000,254000,255000,256000,257000,258000,259000,260000,261000,262000,263000,264000,265000,266000,267000,268000,269000,270000,271000,272000,273000,274000,275000,276000,277000,278000,279000,280000,281000,282000,283000,284000,285000,286000,287000,288000,289000,290000,291000,292000,293000,294000,295000,296000,297000,298000,299000,300000,301000,302000,303000,304000,305000,306000,307000,308000,309000,310000,311000,312000,313000,314000,315000,316000,317000,318000,319000,320000,321000,322000,323000,324000,325000,326000,327000,328000,329000,330000,331000,332000,333000,334000,335000,336000,337000,338000,339000,340000,341000,342000,343000,344000,345000,346000,347000,348000,349000,350000,351000,352000,353000,354000,355000,356000,357000,358000,359000,360000,361000,362000,363000,364000,365000,366000,367000,368000,369000,370000,371000,372000,373000,374000,375000,376000,377000,378000,379000,380000,381000,382000,383000,384000,385000,386000,387000,388000,389000,390000,391000,392000,393000,394000,395000,396000,397000,398000,399000,400000,401000,402000,403000,404000,405000,406000,407000,408000,409000,410000,411000,412000,413000,414000,415000,416000,417000,418000,419000,420000,421000,422000,423000,424000,425000,426000,427000,428000,429000,430000,431000,432000,433000,434000,435000,436000,437000,438000,439000,440000,441000,442000,443000,444000,445000,446000,447000,448000,449000,450000,451000,452000,453000,454000,455000,456000,457000,458000,459000,460000,461000,462000,463000,464000,465000,466000,467000,468000,469000,470000,471000,472000,473000,474000,475000,476000,477000,478000,479000,480000,481000,482000,483000,484000,485000,486000,487000,488000,489000,490000,491000,492000,493000,494000,495000,496000,497000,498000,499000,500000,501000,502000,503000,504000,505000,506000,507000,508000,509000,510000,511000,512000,513000,514000,515000,516000,517000,518000,519000,520000,521000,522000,523000,524000,525000,526000,527000,528000,529000,530000,531000,532000,533000,534000,535000,536000,537000,538000,539000,540000,541000,542000,543000,544000,545000,546000,547000,548000,549000,550000,551000,552000,553000,554000,555000,556000,557000,558000,559000,560000,561000,562000,563000,564000,565000,566000,567000,568000,569000,570000,571000,572000,573000,574000,575000,576000,577000,578000,579000,580000,581000,582000,583000,584000,585000,586000,587000,588000,589000,590000,591000,592000,593000,594000,595000,596000,597000,598000,599000,600000],\"y\":{\"__ndarray__\":\"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\",\"dtype\":\"float64\",\"shape\":[600]}}},\"id\":\"c8f2b31f-07a7-4884-8e9e-6eb504816186\",\"type\":\"ColumnDataSource\"},{\"attributes\":{\"fill_alpha\":{\"value\":0.1},\"fill_color\":{\"value\":\"#1f77b4\"},\"line_alpha\":{\"value\":0.1},\"line_color\":{\"value\":\"#1f77b4\"},\"x\":{\"field\":\"x\"},\"y\":{\"field\":\"y\"}},\"id\":\"50b606f9-c40e-492f-ba1f-639f96fb839e\",\"type\":\"Patch\"},{\"attributes\":{\"axis_label\":\"States visited\",\"formatter\":{\"id\":\"b53828ed-252f-47ca-b55d-d4f996185b59\",\"type\":\"BasicTickFormatter\"},\"plot\":{\"id\":\"fbde4cb3-3efd-40cd-9a65-11446d70b497\",\"subtype\":\"Figure\",\"type\":\"Plot\"},\"ticker\":{\"id\":\"2a85a5c0-953b-4a92-8a89-df2a7b3291a7\",\"type\":\"BasicTicker\"}},\"id\":\"9c2eb3f0-9653-4667-8482-cc43c944041e\",\"type\":\"LinearAxis\"},{\"attributes\":{},\"id\":\"cac18e7d-86c6-4708-8632-42a0a84c37ca\",\"type\":\"ToolEvents\"},{\"attributes\":{\"fill_alpha\":{\"value\":0.1},\"fill_color\":{\"value\":\"#1f77b4\"},\"line_alpha\":{\"value\":0.1},\"line_color\":{\"value\":\"#1f77b4\"},\"x\":{\"field\":\"x\"},\"y\":{\"field\":\"y\"}},\"id\":\"47edc222-6400-4fd1-9a5d-cbd2d0ff545f\",\"type\":\"Patch\"},{\"attributes\":{\"callback\":null},\"id\":\"197ac923-ec61-4f08-92c4-f6c091e2e812\",\"type\":\"DataRange1d\"},{\"attributes\":{},\"id\":\"2a85a5c0-953b-4a92-8a89-df2a7b3291a7\",\"type\":\"BasicTicker\"},{\"attributes\":{\"below\":[{\"id\":\"7f48f26f-34db-49a3-8829-75b15c7c85b5\",\"type\":\"LinearAxis\"}],\"left\":[{\"id\":\"9c2eb3f0-9653-4667-8482-cc43c944041e\",\"type\":\"LinearAxis\"}],\"plot_height\":800,\"plot_width\":1200,\"renderers\":[{\"id\":\"7f48f26f-34db-49a3-8829-75b15c7c85b5\",\"type\":\"LinearAxis\"},{\"id\":\"29a83724-ea12-49da-b3ee-0af4a8472de2\",\"type\":\"Grid\"},{\"id\":\"9c2eb3f0-9653-4667-8482-cc43c944041e\",\"type\":\"LinearAxis\"},{\"id\":\"889f3e07-465a-4d29-b4ea-260dd0af501f\",\"type\":\"Grid\"},{\"id\":\"6aec6540-b946-419a-bd56-628ff38fa403\",\"type\":\"BoxAnnotation\"},{\"id\":\"1ad17e5d-2f61-4e6e-afc9-222815e0b3f8\",\"type\":\"GlyphRenderer\"},{\"id\":\"60c886c0-9059-4a74-8000-a1fae7ee93e2\",\"type\":\"GlyphRenderer\"},{\"id\":\"34934a07-2dd2-4bf5-a1f5-16ad3bd43c87\",\"type\":\"GlyphRenderer\"},{\"id\":\"6a847a05-5469-4824-a806-937d2dd28e9a\",\"type\":\"GlyphRenderer\"},{\"id\":\"1a34281b-ecda-41de-a16d-e899233609ba\",\"type\":\"GlyphRenderer\"},{\"id\":\"cee15e11-fc0b-4965-be8f-61b6aee48b97\",\"type\":\"GlyphRenderer\"},{\"id\":\"4afd9738-300d-4e6b-8840-30de87007199\",\"type\":\"GlyphRenderer\"},{\"id\":\"dacc21a8-395b-49b8-8601-f35ad81d6fa6\",\"type\":\"GlyphRenderer\"},{\"id\":\"78beac7f-28de-4a85-8489-16cf79d31d03\",\"type\":\"Legend\"}],\"right\":[{\"id\":\"78beac7f-28de-4a85-8489-16cf79d31d03\",\"type\":\"Legend\"}],\"title\":{\"id\":\"84b48fbe-9b5a-4ad5-964c-de1f2a5855e7\",\"type\":\"Title\"},\"tool_events\":{\"id\":\"cac18e7d-86c6-4708-8632-42a0a84c37ca\",\"type\":\"ToolEvents\"},\"toolbar\":{\"id\":\"2276e429-dbd5-490f-a384-fe85fbaaa843\",\"type\":\"Toolbar\"},\"toolbar_location\":\"above\",\"x_range\":{\"id\":\"1d3b1fb2-1254-4a58-9bd4-accc0ea742cf\",\"type\":\"DataRange1d\"},\"y_range\":{\"id\":\"197ac923-ec61-4f08-92c4-f6c091e2e812\",\"type\":\"DataRange1d\"}},\"id\":\"fbde4cb3-3efd-40cd-9a65-11446d70b497\",\"subtype\":\"Figure\",\"type\":\"Plot\"},{\"attributes\":{\"line_alpha\":{\"value\":0.1},\"line_color\":{\"value\":\"#1f77b4\"},\"line_width\":{\"value\":2},\"x\":{\"field\":\"x\"},\"y\":{\"field\":\"y\"}},\"id\":\"9a9a0ed4-ca66-40fe-bc57-49373edca8a4\",\"type\":\"Line\"},{\"attributes\":{\"label\":{\"value\":\"300k Xp 1 NScaler\"},\"renderers\":[{\"id\":\"cee15e11-fc0b-4965-be8f-61b6aee48b97\",\"type\":\"GlyphRenderer\"}]},\"id\":\"3ae38558-c6a5-4666-9ae9-be9b74355ecf\",\"type\":\"LegendItem\"},{\"attributes\":{\"plot\":{\"id\":\"fbde4cb3-3efd-40cd-9a65-11446d70b497\",\"subtype\":\"Figure\",\"type\":\"Plot\"},\"ticker\":{\"id\":\"4eeb9cac-97cd-41c6-95fa-8dfab0a6e8c2\",\"type\":\"BasicTicker\"}},\"id\":\"29a83724-ea12-49da-b3ee-0af4a8472de2\",\"type\":\"Grid\"},{\"attributes\":{\"data_source\":{\"id\":\"4d0d53de-d461-4f53-87dc-b6e1d52e5f7d\",\"type\":\"ColumnDataSource\"},\"glyph\":{\"id\":\"0be9e55b-6af0-4bd3-add1-7e2a68202287\",\"type\":\"Patch\"},\"hover_glyph\":null,\"nonselection_glyph\":{\"id\":\"037e95d5-cc23-48e2-924e-840f4750ed0d\",\"type\":\"Patch\"},\"selection_glyph\":null},\"id\":\"4afd9738-300d-4e6b-8840-30de87007199\",\"type\":\"GlyphRenderer\"},{\"attributes\":{\"callback\":null},\"id\":\"1d3b1fb2-1254-4a58-9bd4-accc0ea742cf\",\"type\":\"DataRange1d\"},{\"attributes\":{\"data_source\":{\"id\":\"66a7209c-4079-41d8-9e34-41863a9bafb7\",\"type\":\"ColumnDataSource\"},\"glyph\":{\"id\":\"db08eef6-c87a-43a7-a34c-751be96ddb88\",\"type\":\"Line\"},\"hover_glyph\":null,\"nonselection_glyph\":{\"id\":\"9cc9189d-b6c9-4ffd-bb2b-27ab7fcb2d45\",\"type\":\"Line\"},\"selection_glyph\":null},\"id\":\"dacc21a8-395b-49b8-8601-f35ad81d6fa6\",\"type\":\"GlyphRenderer\"},{\"attributes\":{\"callback\":null,\"column_names\":[\"x\",\"y\"],\"data\":{\"x\":[0,1000,2000,3000,4000,5000,6000,7000,8000,9000,10000,11000,12000,13000,14000,15000,16000,17000,18000,19000,20000,21000,22000,23000,24000,25000,26000,27000,28000,29000,30000,31000,32000,33000,34000,35000,36000,37000,38000,39000,40000,41000,42000,43000,44000,45000,46000,47000,48000,49000,50000,51000,52000,53000,54000,55000,56000,57000,58000,59000,60000,61000,62000,63000,64000,65000,66000,67000,68000,69000,70000,71000,72000,73000,74000,75000,76000,77000,78000,79000,80000,81000,82000,83000,84000,85000,86000,87000,88000,89000,90000,91000,92000,93000,94000,95000,96000,97000,98000,99000,100000,101000,102000,103000,104000,105000,106000,107000,108000,109000,110000,111000,112000,113000,114000,115000,116000,117000,118000,119000,120000,121000,122000,123000,124000,125000,126000,127000,128000,129000,130000,131000,132000,133000,134000,135000,136000,137000,138000,139000,140000,141000,142000,143000,144000,145000,146000,147000,148000,149000,150000,151000,152000,153000,154000,155000,156000,157000,158000,159000,160000,161000,162000,163000,164000,165000,166000,167000,168000,169000,170000,171000,172000,173000,174000,175000,176000,177000,178000,179000,180000,181000,182000,183000,184000,185000,186000,187000,188000,189000,190000,191000,192000,193000,194000,195000,196000,197000,198000,199000,200000,201000,202000,203000,204000,205000,206000,207000,208000,209000,210000,211000,212000,213000,214000,215000,216000,217000,218000,219000,220000,221000,222000,223000,224000,225000,226000,227000,228000,229000,230000,231000,232000,233000,234000,235000,236000,237000,238000,239000,240000,241000,242000,243000,244000,245000,246000,247000,248000,249000,250000,251000,252000,253000,254000,255000,256000,257000,258000,259000,260000,261000,262000,263000,264000,265000,266000,267000,268000,269000,270000,271000,272000,273000,274000,275000,276000,277000,278000,279000,280000,281000,282000,283000,284000,285000,286000,287000,288000,289000,290000,291000,292000,293000,294000,295000,296000,297000,298000,299000,300000,301000,302000,303000,304000,305000,306000,307000,308000,309000,310000,311000,312000,313000,314000,315000,316000,317000,318000,319000,320000,321000,322000,323000,324000,325000,326000,327000,328000,329000,330000,331000,332000,333000,334000,335000,336000,337000,338000,339000,340000,341000,342000,343000,344000,345000,346000,347000,348000,349000,350000,351000,352000,353000,354000,355000,356000,357000,358000,359000,360000,361000,362000,363000,364000,365000,366000,367000,368000,369000,370000,371000,372000,373000,374000,375000,376000,377000,378000,379000,380000,381000,382000,383000,384000,385000,386000,387000,388000,389000,390000,391000,392000,393000,394000,395000,396000,397000,398000,399000,400000,401000,402000,403000,404000,405000,406000,407000,408000,409000,410000,411000,412000,413000,414000,415000,416000,417000,418000,419000,420000,421000,422000,423000,424000,425000,426000,427000,428000,429000,430000,431000,432000,433000,434000,435000,436000,437000,438000,439000,440000,441000,442000,443000,444000,445000,446000,447000,448000,449000,450000,451000,452000,453000,454000,455000,456000,457000,458000,459000,460000,461000,462000,463000,464000,465000,466000,467000,468000,469000,470000,471000,472000,473000,474000,475000,476000,477000,478000,479000,480000,481000,482000,483000,484000,485000,486000,487000,488000,489000,490000,491000,492000,493000,494000,495000,496000,497000,498000,499000,500000,501000,502000,503000,504000,505000,506000,507000,508000,509000,510000,511000,512000,513000,514000,515000,516000,517000,518000,519000,520000,521000,522000,523000,524000,525000,526000,527000,528000,529000,530000,531000,532000,533000,534000,535000,536000,537000,538000,539000,540000,541000,542000,543000,544000,545000,546000,547000,548000,549000,550000,551000,552000,553000,554000,555000,556000,557000,558000,559000,560000,561000,562000,563000,564000,565000,566000,567000,568000,569000,570000,571000,572000,573000,574000,575000,576000,577000,578000,579000,580000,581000,582000,583000,584000,585000,586000,587000,588000,589000,590000,591000,592000,593000,594000,595000,596000,597000,598000,599000,600000],\"y\":{\"__ndarray__\":\"AAAAAAAA8D8AAAAAAPhaQAAAAAAAJGJAAAAAAAAgaEAAAAAAACRtQAAAAAAAsHFAAAAAAAA4c0AAAAAAANZ0QAAAAAAAIHdAAAAAAAD0eUAAAAAAAMR6QAAAAAAAEHxAAAAAAABuf0AAAAAAAAKAQAAAAAAAUYBAAAAAAAC1gEAAAAAAABuBQAAAAAAAhoFAAAAAAAAHgkAAAAAAAMOCQAAAAAAAoINAAAAAAAAIhEAAAAAAAJGEQAAAAAAAY4VAAAAAAABUhkAAAAAAAKWGQAAAAAAAp4ZAAAAAAACnhkAAAAAAAKiGQAAAAAAAtoZAAAAAAADAhkAAAAAAAAmHQAAAAAAAdodAAAAAAADLh0AAAAAAAE+IQAAAAAAArYhAAAAAAACHiUAAAAAAACuKQAAAAAAApYpAAAAAAABbi0AAAAAAAJWMQAAAAAAAT41AAAAAAADOjUAAAAAAADWOQAAAAAAAw45AAAAAAADhj0AAAAAAgFiQQAAAAAAAbpBAAAAAAAB2kEAAAAAAgKWQQAAAAACApZBAAAAAAAC9kEAAAAAAADmRQAAAAAAAT5FAAAAAAABlkUAAAAAAAGeRQAAAAACAlpFAAAAAAADNkUAAAAAAAOyRQAAAAAAAG5JAAAAAAACLkkAAAAAAAKOSQAAAAACAx5JAAAAAAIAdk0AAAAAAgLWTQAAAAAAAKJRAAAAAAABAlEAAAAAAANGUQAAAAAAA75RAAAAAAIBSlUAAAAAAgJGVQAAAAAAA2JVAAAAAAIAIlkAAAAAAABuWQAAAAAAAHZZAAAAAAAAelkAAAAAAAB6WQAAAAAAAHpZAAAAAAIAflkAAAAAAgCCWQAAAAAAAKZZAAAAAAIAtlkAAAAAAgDuWQAAAAAAAYZZAAAAAAIB2lkAAAAAAgJeWQAAAAAAAnpZAAAAAAICjlkAAAAAAAKqWQAAAAACAyZZAAAAAAAD8lkAAAAAAAEaXQAAAAAAAjJdAAAAAAIB7mEAAAAAAAB2ZQAAAAACAd5lAAAAAAADAmUAAAAAAAOuZQAAAAAAAJZpAAAAAAAAlmkAAAAAAACaaQAAAAAAAO5pAAAAAAIA/mkAAAAAAAEKaQAAAAAAARppAAAAAAIBwmkAAAAAAgHiaQAAAAACAeppAAAAAAACBmkAAAAAAgJKaQAAAAAAAvZpAAAAAAAAcm0AAAAAAALabQAAAAACA1ptAAAAAAIDWm0AAAAAAgNqbQAAAAACA3JtAAAAAAIBdnEAAAAAAAMucQAAAAAAAEJ1AAAAAAIAUnUAAAAAAABmdQAAAAACAkp1AAAAAAICqnUAAAAAAgKqdQAAAAAAArJ1AAAAAAACsnUAAAAAAANmdQAAAAACA2p1AAAAAAIDanUAAAAAAgACeQAAAAACABJ5AAAAAAAAFnkAAAAAAAAueQAAAAAAAEZ5AAAAAAIAknkAAAAAAgC+eQAAAAAAAOJ5AAAAAAIBdnkAAAAAAgF2eQAAAAACAaZ5AAAAAAIBvnkAAAAAAgHmeQAAAAACAeZ5AAAAAAIB5nkAAAAAAgHyeQAAAAAAAfp5AAAAAAACAnkAAAAAAgIGeQAAAAACAkJ5AAAAAAACpnkAAAAAAgMSeQAAAAAAAyp5AAAAAAADNnkAAAAAAAPGeQAAAAACA9J5AAAAAAIBpn0AAAAAAgHCfQAAAAACAe59AAAAAAICQn0AAAAAAALyfQAAAAACA4Z9AAAAAAEAeoEAAAAAAgD+gQAAAAABAS6BAAAAAAEBNoEAAAAAAgFOgQAAAAADAU6BAAAAAAMBVoEAAAAAAwGGgQAAAAACAbKBAAAAAAIBzoEAAAAAAQHegQAAAAABAd6BAAAAAAEB3oEAAAAAAQH+gQAAAAAAAjqBAAAAAAECZoEAAAAAAwJ+gQAAAAABArqBAAAAAAECvoEAAAAAAgK+gQAAAAABAsaBAAAAAAECxoEAAAAAAgLWgQAAAAACAtaBAAAAAAIC2oEAAAAAAgL6gQAAAAACAwqBAAAAAAMDfoEAAAAAAAOSgQAAAAABABKFAAAAAAAAMoUAAAAAAgEOhQAAAAAAAdqFAAAAAAECToUAAAAAAAJ2hQAAAAAAAnaFAAAAAAECeoUAAAAAAQJ+hQAAAAACAn6FAAAAAAECnoUAAAAAAwKuhQAAAAADAq6FAAAAAAICsoUAAAAAAANKhQAAAAACA2KFAAAAAAMDnoUAAAAAAgPOhQAAAAACAAaJAAAAAAAAeokAAAAAAwDuiQAAAAABAY6JAAAAAAMByokAAAAAAgIKiQAAAAABAjaJAAAAAAMCWokAAAAAAwJqiQAAAAADAoqJAAAAAAECwokAAAAAAwLmiQAAAAADAuqJAAAAAAMC6okAAAAAAwLqiQAAAAADAuqJAAAAAAMC9okAAAAAAAMGiQAAAAACAyqJAAAAAAIDKokAAAAAAgMyiQAAAAAAA4aJAAAAAAIADo0AAAAAAwA6jQAAAAABAMaNAAAAAAABBo0AAAAAAQEmjQAAAAACAT6NAAAAAAMBuo0AAAAAAAHWjQAAAAAAAdaNAAAAAAAB1o0AAAAAAAHWjQAAAAABAgKNAAAAAAECJo0AAAAAAQImjQAAAAAAAjaNAAAAAAICNo0AAAAAAgI2jQAAAAACAjaNAAAAAAICNo0AAAAAAgI2jQAAAAAAAlKNAAAAAAACYo0AAAAAAAJijQAAAAACAm6NAAAAAAICbo0AAAAAAQKOjQAAAAACAp6NAAAAAAICpo0AAAAAAQLujQAAAAACAyKNAAAAAAADco0AAAAAAgNyjQAAAAACA3KNAAAAAAIDco0AAAAAAwN2jQAAAAADA3aNAAAAAAIDgo0AAAAAAAOqjQAAAAABABaRAAAAAAAASpEAAAAAAABKkQAAAAAAAEqRAAAAAAIAXpEAAAAAAgBekQAAAAADAF6RAAAAAAMAXpEAAAAAAwBekQAAAAADAGaRAAAAAAMAZpEAAAAAAQCOkQAAAAAAALaRAAAAAAEAtpEAAAAAAQC2kQAAAAACANaRAAAAAAMA9pEAAAAAAgFWkQAAAAABAWKRAAAAAAIBgpEAAAAAAQGSkQAAAAADAaqRAAAAAAIBtpEAAAAAAQG+kQAAAAADAcKRAAAAAAACGpEAAAAAAAIakQAAAAAAAhqRAAAAAAECGpEAAAAAAwKWkQAAAAACAvaRAAAAAAEDNpEAAAAAAQOSkQAAAAABA9aRAAAAAAIAUpUAAAAAAQDmlQAAAAACAcaVAAAAAAECCpUAAAAAAQIylQAAAAABAkqVAAAAAAMCTpUAAAAAAwJalQAAAAADAlqVAAAAAAMCWpUAAAAAAQJylQAAAAABAnKVAAAAAAECepUAAAAAAgN+lQAAAAABACKZAAAAAAAARpkAAAAAAgBOmQAAAAACAE6ZAAAAAAIATpkAAAAAAgBOmQAAAAACAE6ZAAAAAAMAipkAAAAAAwF2mQAAAAAAAZqZAAAAAAIBnpkAAAAAAgGemQAAAAAAAaKZAAAAAAIBppkAAAAAAAG+mQAAAAAAAd6ZAAAAAAEB6pkAAAAAAAH2mQAAAAAAAg6ZAAAAAAACqpkAAAAAAALWmQAAAAABAvaZAAAAAAADApkAAAAAAwMymQAAAAABA06ZAAAAAAEDWpkAAAAAAwNimQAAAAADA2KZAAAAAAMDYpkAAAAAAwNimQAAAAADA2aZAAAAAAMDZpkAAAAAAwN6mQAAAAADA7aZAAAAAAMDwpkAAAAAAAPGmQAAAAABA8aZAAAAAAIDxpkAAAAAAABmnQAAAAACAKadAAAAAAIAzp0AAAAAAgHGnQAAAAADAiqdAAAAAAMCKp0AAAAAAwIqnQAAAAADAjadAAAAAAECWp0AAAAAAwJinQAAAAADAmKdAAAAAAMCjp0AAAAAAwKOnQAAAAADApqdAAAAAAMCmp0AAAAAAAKenQAAAAAAAp6dAAAAAAACnp0AAAAAAgLKnQAAAAADAuKdAAAAAAMC4p0AAAAAAgLmnQAAAAACAuadAAAAAAAC+p0AAAAAAAL6nQAAAAABAvqdAAAAAAEC+p0AAAAAAQL6nQAAAAABAvqdAAAAAAEC+p0AAAAAAwL+nQAAAAAAAw6dAAAAAAEDZp0AAAAAAAOKnQAAAAABA7adAAAAAAADup0AAAAAAQPGnQAAAAADA9KdAAAAAAMD0p0AAAAAAwPSnQAAAAAAA+adAAAAAAED+p0AAAAAAQAOoQAAAAABAA6hAAAAAAEADqEAAAAAAQAOoQAAAAABAA6hAAAAAAEAEqEAAAAAAwAWoQAAAAADABahAAAAAAMAFqEAAAAAAwAWoQAAAAADABahAAAAAAMAFqEAAAAAAwAWoQAAAAADABahAAAAAAMAFqEAAAAAAwAWoQAAAAADABahAAAAAAMAFqEAAAAAAAAaoQAAAAAAAD6hAAAAAAIAQqEAAAAAAgBCoQAAAAACAEKhAAAAAAIAQqEAAAAAAgBeoQAAAAACAF6hAAAAAAAAZqEAAAAAAgBmoQAAAAAAAGqhAAAAAAEAaqEAAAAAAgCaoQAAAAADAM6hAAAAAAEBXqEAAAAAAwGaoQAAAAADAZqhAAAAAAMBmqEAAAAAAQH+oQAAAAAAAhahAAAAAAICGqEAAAAAAwIaoQAAAAAAAiahAAAAAAICKqEAAAAAAAIuoQAAAAABAi6hAAAAAAICLqEAAAAAAgIuoQAAAAABAjKhAAAAAAECNqEAAAAAAgI2oQAAAAADAk6hAAAAAAECcqEAAAAAAgJyoQAAAAABAnqhAAAAAAECeqEAAAAAAAJ+oQAAAAAAArahAAAAAAAC5qEAAAAAAQLqoQAAAAACAxahAAAAAAIDFqEAAAAAAgMWoQAAAAACAxahAAAAAAIDFqEAAAAAAgMWoQAAAAACAxahAAAAAAIDFqEAAAAAAgMWoQAAAAADAxahAAAAAAADGqEAAAAAAAMaoQAAAAAAAxqhAAAAAAADGqEAAAAAAQMeoQAAAAABAx6hAAAAAAEDHqEAAAAAAQMeoQAAAAABAx6hAAAAAAEDHqEAAAAAAQMeoQAAAAACAx6hAAAAAAIDHqEAAAAAAgMeoQAAAAAAAyahAAAAAAADJqEAAAAAAAMmoQAAAAAAAyahAAAAAAIDJqEAAAAAAgMmoQAAAAACAyahAAAAAAIDJqEAAAAAAgMmoQAAAAACAyahAAAAAAIDJqEAAAAAAgMmoQAAAAADAyahAAAAAAMDJqEAAAAAAwMmoQAAAAADAyahAAAAAAMDKqEAAAAAAAMuoQAAAAACAy6hAAAAAAIDLqEAAAAAAgMuoQAAAAACAy6hAAAAAAMDLqEAAAAAAwMuoQAAAAADAy6hAAAAAAMDLqEAAAAAAwMuoQAAAAADAy6hAAAAAAIDMqEAAAAAAgMyoQAAAAACAzKhAAAAAAIDMqEAAAAAAgMyoQAAAAACAzKhAAAAAAIDMqEAAAAAAgMyoQAAAAACAzKhAAAAAAIDMqEAAAAAAgMyoQAAAAACAzKhAAAAAAIDMqEAAAAAAgMyoQAAAAABA0KhAAAAAAEDQqEAAAAAAQNCoQAAAAABA0KhAAAAAAEDQqEAAAAAAQNCoQAAAAABA0KhAAAAAAEDQqEAAAAAAQNCoQAAAAABA0KhAAAAAAEDQqEAAAAAAANGoQAAAAACA1KhAAAAAAIDVqEAAAAAAgNWoQAAAAACA1ahAAAAAAIDVqEAAAAAAgNWoQAAAAACA1ahAAAAAAIDVqEAAAAAAgNWoQAAAAACA1ahAAAAAAIDVqEAAAAAAgNqoQAAAAAAA3ahAAAAAAADwqEAAAAAAgAOpQAAAAAAAH6lAAAAAAEAhqUAAAAAAwCWpQAAAAADAJalAAAAAAEAmqUAAAAAAQCapQAAAAADALalAAAAAAEA/qUAAAAAAwECpQAAAAABAQ6lAAAAAAEBDqUAAAAAAQEOpQAAAAACARKlAAAAAAMBEqUAAAAAAwESpQAAAAADARKlAAAAAAMBEqUAAAAAAQEWpQAAAAACASKlAAAAAAEBKqUAAAAAAQEqpQAAAAADAS6lAAAAAAMBLqUAAAAAAAFCpQAAAAAAAUKlAAAAAAABQqUAAAAAAwFCpQAAAAADAV6lAAAAAAIB6qUAAAAAAwISpQAAAAADAhKlAAAAAAECFqUAAAAAAQIWpQAAAAABAhalAAAAAAECFqUAAAAAAwIipQAAAAADAiKlAAAAAAACJqUAAAAAAwIupQAAAAADAi6lAAAAAAMCLqUAAAAAAwIupQAAAAADAi6lAAAAAAMCLqUAAAAAAwIupQAAAAADAi6lAAAAAAMCLqUAAAAAAwIupQAAAAADAi6lAAAAAAMCLqUAAAAAAQIypQAAAAABAjKlA\",\"dtype\":\"float64\",\"shape\":[600]}}},\"id\":\"2e6729a6-2dd8-485f-ae5b-94d6919e8a26\",\"type\":\"ColumnDataSource\"},{\"attributes\":{\"callback\":null,\"column_names\":[\"x\",\"y\"],\"data\":{\"x\":[0,1000,2000,3000,4000,5000,6000,7000,8000,9000,10000,11000,12000,13000,14000,15000,16000,17000,18000,19000,20000,21000,22000,23000,24000,25000,26000,27000,28000,29000,30000,31000,32000,33000,34000,35000,36000,37000,38000,39000,40000,41000,42000,43000,44000,45000,46000,47000,48000,49000,50000,51000,52000,53000,54000,55000,56000,57000,58000,59000,60000,61000,62000,63000,64000,65000,66000,67000,68000,69000,70000,71000,72000,73000,74000,75000,76000,77000,78000,79000,80000,81000,82000,83000,84000,85000,86000,87000,88000,89000,90000,91000,92000,93000,94000,95000,96000,97000,98000,99000,100000,101000,102000,103000,104000,105000,106000,107000,108000,109000,110000,111000,112000,113000,114000,115000,116000,117000,118000,119000,120000,121000,122000,123000,124000,125000,126000,127000,128000,129000,130000,131000,132000,133000,134000,135000,136000,137000,138000,139000,140000,141000,142000,143000,144000,145000,146000,147000,148000,149000,150000,151000,152000,153000,154000,155000,156000,157000,158000,159000,160000,161000,162000,163000,164000,165000,166000,167000,168000,169000,170000,171000,172000,173000,174000,175000,176000,177000,178000,179000,180000,181000,182000,183000,184000,185000,186000,187000,188000,189000,190000,191000,192000,193000,194000,195000,196000,197000,198000,199000,200000,201000,202000,203000,204000,205000,206000,207000,208000,209000,210000,211000,212000,213000,214000,215000,216000,217000,218000,219000,220000,221000,222000,223000,224000,225000,226000,227000,228000,229000,230000,231000,232000,233000,234000,235000,236000,237000,238000,239000,240000,241000,242000,243000,244000,245000,246000,247000,248000,249000,250000,251000,252000,253000,254000,255000,256000,257000,258000,259000,260000,261000,262000,263000,264000,265000,266000,267000,268000,269000,270000,271000,272000,273000,274000,275000,276000,277000,278000,279000,280000,281000,282000,283000,284000,285000,286000,287000,288000,289000,290000,291000,292000,293000,294000,295000,296000,297000,298000,299000,300000,301000,302000,303000,304000,305000,306000,307000,308000,309000,310000,311000,312000,313000,314000,315000,316000,317000,318000,319000,320000,321000,322000,323000,324000,325000,326000,327000,328000,329000,330000,331000,332000,333000,334000,335000,336000,337000,338000,339000,340000,341000,342000,343000,344000,345000,346000,347000,348000,349000,350000,351000,352000,353000,354000,355000,356000,357000,358000,359000,360000,361000,362000,363000,364000,365000,366000,367000,368000,369000,370000,371000,372000,373000,374000,375000,376000,377000,378000,379000,380000,381000,382000,383000,384000,385000,386000,387000,388000,389000,390000,391000,392000,393000,394000,395000,396000,397000,398000,399000,400000,401000,402000,403000,404000,405000,406000,407000,408000,409000,410000,411000,412000,413000,414000,415000,416000,417000,418000,419000,420000,421000,422000,423000,424000,425000,426000,427000,428000,429000,430000,431000,432000,433000,434000,435000,436000,437000,438000,439000,440000,441000,442000,443000,444000,445000,446000,447000,448000,449000,450000,451000,452000,453000,454000,455000,456000,457000,458000,459000,460000,461000,462000,463000,464000,465000,466000,467000,468000,469000,470000,471000,472000,473000,474000,475000,476000,477000,478000,479000,480000,481000,482000,483000,484000,485000,486000,487000,488000,489000,490000,491000,492000,493000,494000,495000,496000,497000,498000,499000,500000,501000,502000,503000,504000,505000,506000,507000,508000,509000,510000,511000,512000,513000,514000,515000,516000,517000,518000,519000,520000,521000,522000,523000,524000,525000,526000,527000,528000,529000,530000,531000,532000,533000,534000,535000,536000,537000,538000,539000,540000,541000,542000,543000,544000,545000,546000,547000,548000,549000,550000,551000,552000,553000,554000,555000,556000,557000,558000,559000,560000,561000,562000,563000,564000,565000,566000,567000,568000,569000,570000,571000,572000,573000,574000,575000,576000,577000,578000,579000,580000,581000,582000,583000,584000,585000,586000,587000,588000,589000,590000,591000,592000,593000,594000,595000,596000,597000,598000,599000,600000],\"y\":{\"__ndarray__\":\"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\",\"dtype\":\"float64\",\"shape\":[600]}}},\"id\":\"66a7209c-4079-41d8-9e34-41863a9bafb7\",\"type\":\"ColumnDataSource\"},{\"attributes\":{},\"id\":\"4eeb9cac-97cd-41c6-95fa-8dfab0a6e8c2\",\"type\":\"BasicTicker\"},{\"attributes\":{\"line_alpha\":{\"value\":0.1},\"line_color\":{\"value\":\"#1f77b4\"},\"line_width\":{\"value\":2},\"x\":{\"field\":\"x\"},\"y\":{\"field\":\"y\"}},\"id\":\"de13bb9a-ee53-47f1-bbaa-c64189184483\",\"type\":\"Line\"},{\"attributes\":{},\"id\":\"b53828ed-252f-47ca-b55d-d4f996185b59\",\"type\":\"BasicTickFormatter\"},{\"attributes\":{\"line_alpha\":{\"value\":0.1},\"line_color\":{\"value\":\"#1f77b4\"},\"line_width\":{\"value\":2},\"x\":{\"field\":\"x\"},\"y\":{\"field\":\"y\"}},\"id\":\"980dea89-88c2-4451-a9a7-4fb07ea21bf7\",\"type\":\"Line\"},{\"attributes\":{\"axis_label\":\"T\",\"formatter\":{\"id\":\"52a34d2c-67b3-47b2-ad02-df686b5c2a9a\",\"type\":\"BasicTickFormatter\"},\"plot\":{\"id\":\"fbde4cb3-3efd-40cd-9a65-11446d70b497\",\"subtype\":\"Figure\",\"type\":\"Plot\"},\"ticker\":{\"id\":\"4eeb9cac-97cd-41c6-95fa-8dfab0a6e8c2\",\"type\":\"BasicTicker\"}},\"id\":\"7f48f26f-34db-49a3-8829-75b15c7c85b5\",\"type\":\"LinearAxis\"},{\"attributes\":{\"dimension\":1,\"plot\":{\"id\":\"fbde4cb3-3efd-40cd-9a65-11446d70b497\",\"subtype\":\"Figure\",\"type\":\"Plot\"},\"ticker\":{\"id\":\"2a85a5c0-953b-4a92-8a89-df2a7b3291a7\",\"type\":\"BasicTicker\"}},\"id\":\"889f3e07-465a-4d29-b4ea-260dd0af501f\",\"type\":\"Grid\"},{\"attributes\":{\"plot\":{\"id\":\"fbde4cb3-3efd-40cd-9a65-11446d70b497\",\"subtype\":\"Figure\",\"type\":\"Plot\"}},\"id\":\"252077c4-938a-4d67-ab02-c1f7ae0cb32b\",\"type\":\"SaveTool\"},{\"attributes\":{\"fill_alpha\":{\"value\":0.1},\"fill_color\":{\"value\":\"#984ea3\"},\"line_alpha\":{\"value\":0.1},\"line_color\":{\"value\":\"#984ea3\"},\"x\":{\"field\":\"x\"},\"y\":{\"field\":\"y\"}},\"id\":\"0be9e55b-6af0-4bd3-add1-7e2a68202287\",\"type\":\"Patch\"},{\"attributes\":{\"data_source\":{\"id\":\"2e6729a6-2dd8-485f-ae5b-94d6919e8a26\",\"type\":\"ColumnDataSource\"},\"glyph\":{\"id\":\"06cfab10-dcdf-494a-a87e-df81b7ccca10\",\"type\":\"Line\"},\"hover_glyph\":null,\"nonselection_glyph\":{\"id\":\"980dea89-88c2-4451-a9a7-4fb07ea21bf7\",\"type\":\"Line\"},\"selection_glyph\":null},\"id\":\"cee15e11-fc0b-4965-be8f-61b6aee48b97\",\"type\":\"GlyphRenderer\"},{\"attributes\":{\"line_alpha\":{\"value\":0.1},\"line_color\":{\"value\":\"#1f77b4\"},\"line_width\":{\"value\":2},\"x\":{\"field\":\"x\"},\"y\":{\"field\":\"y\"}},\"id\":\"9cc9189d-b6c9-4ffd-bb2b-27ab7fcb2d45\",\"type\":\"Line\"},{\"attributes\":{\"plot\":{\"id\":\"fbde4cb3-3efd-40cd-9a65-11446d70b497\",\"subtype\":\"Figure\",\"type\":\"Plot\"}},\"id\":\"c5218fcf-7072-4410-b67d-0f713cb5e43b\",\"type\":\"PanTool\"},{\"attributes\":{\"line_color\":{\"value\":\"#984ea3\"},\"line_width\":{\"value\":2},\"x\":{\"field\":\"x\"},\"y\":{\"field\":\"y\"}},\"id\":\"db08eef6-c87a-43a7-a34c-751be96ddb88\",\"type\":\"Line\"},{\"attributes\":{\"plot\":{\"id\":\"fbde4cb3-3efd-40cd-9a65-11446d70b497\",\"subtype\":\"Figure\",\"type\":\"Plot\"}},\"id\":\"769fecf7-4981-49f9-a9c8-b1bd921fe32b\",\"type\":\"ResetTool\"},{\"attributes\":{\"bottom_units\":\"screen\",\"fill_alpha\":{\"value\":0.5},\"fill_color\":{\"value\":\"lightgrey\"},\"left_units\":\"screen\",\"level\":\"overlay\",\"line_alpha\":{\"value\":1.0},\"line_color\":{\"value\":\"black\"},\"line_dash\":[4,4],\"line_width\":{\"value\":2},\"plot\":null,\"render_mode\":\"css\",\"right_units\":\"screen\",\"top_units\":\"screen\"},\"id\":\"6aec6540-b946-419a-bd56-628ff38fa403\",\"type\":\"BoxAnnotation\"},{\"attributes\":{\"fill_alpha\":{\"value\":0.1},\"fill_color\":{\"value\":\"#1f77b4\"},\"line_alpha\":{\"value\":0.1},\"line_color\":{\"value\":\"#1f77b4\"},\"x\":{\"field\":\"x\"},\"y\":{\"field\":\"y\"}},\"id\":\"037e95d5-cc23-48e2-924e-840f4750ed0d\",\"type\":\"Patch\"}],\"root_ids\":[\"fbde4cb3-3efd-40cd-9a65-11446d70b497\"]},\"title\":\"Bokeh Application\",\"version\":\"0.12.4\"}};\n",
       "            var render_items = [{\"docid\":\"02bd1036-7c5a-445b-be4a-4017e0451350\",\"elementid\":\"0597f93c-809c-4bd2-8607-2e5daf96cde0\",\"modelid\":\"fbde4cb3-3efd-40cd-9a65-11446d70b497\"}];\n",
       "            \n",
       "            Bokeh.embed.embed_items(docs_json, render_items);\n",
       "          };\n",
       "          if (document.readyState != \"loading\") fn();\n",
       "          else document.addEventListener(\"DOMContentLoaded\", fn);\n",
       "        })();\n",
       "      },\n",
       "      function(Bokeh) {\n",
       "      }\n",
       "    ];\n",
       "  \n",
       "    function run_inline_js() {\n",
       "      \n",
       "      if ((window.Bokeh !== undefined) || (force === true)) {\n",
       "        for (var i = 0; i < inline_js.length; i++) {\n",
       "          inline_js[i](window.Bokeh);\n",
       "        }if (force === true) {\n",
       "          display_loaded();\n",
       "        }} else if (Date.now() < window._bokeh_timeout) {\n",
       "        setTimeout(run_inline_js, 100);\n",
       "      } else if (!window._bokeh_failed_load) {\n",
       "        console.log(\"Bokeh: BokehJS failed to load within specified timeout.\");\n",
       "        window._bokeh_failed_load = true;\n",
       "      } else if (force !== true) {\n",
       "        var cell = $(document.getElementById(\"0597f93c-809c-4bd2-8607-2e5daf96cde0\")).parents('.cell').data().cell;\n",
       "        cell.output_area.append_execute_result(NB_LOAD_WARNING)\n",
       "      }\n",
       "  \n",
       "    }\n",
       "  \n",
       "    if (window._bokeh_is_loading === 0) {\n",
       "      console.log(\"Bokeh: BokehJS loaded, going straight to plotting\");\n",
       "      run_inline_js();\n",
       "    } else {\n",
       "      load_libs(js_urls, function() {\n",
       "        console.log(\"Bokeh: BokehJS plotting callback run at\", now());\n",
       "        run_inline_js();\n",
       "      });\n",
       "    }\n",
       "  }(this));\n",
       "</script>"
      ]
     },
     "metadata": {},
     "output_type": "display_data"
    }
   ],
   "source": [
    "plot_averages_b(names, t_maxs, colours, legends, directories, step=1000, title=env, min_max=False)\n",
    "plot_states(names, t_maxs, colours, legends, directories, step=1000, title=env)"
   ]
  },
  {
   "cell_type": "code",
   "execution_count": null,
   "metadata": {
    "collapsed": true,
    "deletable": true,
    "editable": true
   },
   "outputs": [],
   "source": []
  },
  {
   "cell_type": "code",
   "execution_count": null,
   "metadata": {
    "collapsed": true,
    "deletable": true,
    "editable": true
   },
   "outputs": [],
   "source": []
  },
  {
   "cell_type": "code",
   "execution_count": null,
   "metadata": {
    "collapsed": true,
    "deletable": true,
    "editable": true
   },
   "outputs": [],
   "source": [
    "DQN_Smoothed = []\n",
    "for times, rewards in zip(DQN_Lengths_C, DQN_Rewards):\n",
    "    linear = interp1d(times, rewards, kind=\"linear\")\n",
    "    linear_rewards = linear([i for i in range(500000)])\n",
    "    DQN_Smoothed.append(linear_rewards)"
   ]
  },
  {
   "cell_type": "code",
   "execution_count": null,
   "metadata": {
    "collapsed": true,
    "deletable": true,
    "editable": true
   },
   "outputs": [],
   "source": [
    "DQN_Means = np.mean(DQN_Smoothed, axis=0)"
   ]
  },
  {
   "cell_type": "code",
   "execution_count": null,
   "metadata": {
    "collapsed": true,
    "deletable": true,
    "editable": true
   },
   "outputs": [],
   "source": [
    "DQN_Stds = np.std(DQN_Smoothed, axis=0)"
   ]
  },
  {
   "cell_type": "code",
   "execution_count": null,
   "metadata": {
    "collapsed": false,
    "deletable": true,
    "editable": true
   },
   "outputs": [],
   "source": [
    "plt.fill_between([i for i in range(500000)], DQN_Means - DQN_Stds, DQN_Means + DQN_Stds, color=\"red\", alpha=0.3, edgecolor=\"white\")\n",
    "\n",
    "plt.plot([i for i in range(500000)], DQN_Means, color=\"red\")"
   ]
  },
  {
   "cell_type": "code",
   "execution_count": null,
   "metadata": {
    "collapsed": false,
    "deletable": true,
    "editable": true
   },
   "outputs": [],
   "source": [
    "len(DQN_Repeat)"
   ]
  },
  {
   "cell_type": "code",
   "execution_count": null,
   "metadata": {
    "collapsed": true,
    "deletable": true,
    "editable": true
   },
   "outputs": [],
   "source": [
    "plt.plot(DQN)"
   ]
  },
  {
   "cell_type": "code",
   "execution_count": null,
   "metadata": {
    "collapsed": true,
    "deletable": true,
    "editable": true
   },
   "outputs": [],
   "source": [
    "directories = [\"Logs/\"]"
   ]
  },
  {
   "cell_type": "code",
   "execution_count": null,
   "metadata": {
    "collapsed": false,
    "deletable": true,
    "editable": true
   },
   "outputs": [],
   "source": [
    "for i in range(0, 10, 2):\n",
    "    print(i)"
   ]
  },
  {
   "cell_type": "code",
   "execution_count": null,
   "metadata": {
    "collapsed": true,
    "deletable": true,
    "editable": true
   },
   "outputs": [],
   "source": []
  }
 ],
 "metadata": {
  "kernelspec": {
   "display_name": "Python 3",
   "language": "python",
   "name": "python3"
  },
  "language_info": {
   "codemirror_mode": {
    "name": "ipython",
    "version": 3
   },
   "file_extension": ".py",
   "mimetype": "text/x-python",
   "name": "python",
   "nbconvert_exporter": "python",
   "pygments_lexer": "ipython3",
   "version": "3.6.0"
  }
 },
 "nbformat": 4,
 "nbformat_minor": 2
}
