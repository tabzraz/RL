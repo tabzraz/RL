{
 "cells": [
  {
   "cell_type": "code",
   "execution_count": 1,
   "metadata": {
    "collapsed": true
   },
   "outputs": [],
   "source": [
    "from matplotlib import pyplot as plt\n",
    "%matplotlib inline"
   ]
  },
  {
   "cell_type": "code",
   "execution_count": 2,
   "metadata": {
    "collapsed": false
   },
   "outputs": [
    {
     "data": {
      "text/html": [
       "\n",
       "    <div class=\"bk-root\">\n",
       "        <a href=\"http://bokeh.pydata.org\" target=\"_blank\" class=\"bk-logo bk-logo-small bk-logo-notebook\"></a>\n",
       "        <span id=\"b281f61c-1ddf-4b15-97b8-03ca8e16e3e9\">Loading BokehJS ...</span>\n",
       "    </div>"
      ]
     },
     "metadata": {},
     "output_type": "display_data"
    },
    {
     "data": {
      "application/javascript": [
       "\n",
       "(function(global) {\n",
       "  function now() {\n",
       "    return new Date();\n",
       "  }\n",
       "\n",
       "  var force = true;\n",
       "\n",
       "  if (typeof (window._bokeh_onload_callbacks) === \"undefined\" || force === true) {\n",
       "    window._bokeh_onload_callbacks = [];\n",
       "    window._bokeh_is_loading = undefined;\n",
       "  }\n",
       "\n",
       "\n",
       "  \n",
       "  if (typeof (window._bokeh_timeout) === \"undefined\" || force === true) {\n",
       "    window._bokeh_timeout = Date.now() + 5000;\n",
       "    window._bokeh_failed_load = false;\n",
       "  }\n",
       "\n",
       "  var NB_LOAD_WARNING = {'data': {'text/html':\n",
       "     \"<div style='background-color: #fdd'>\\n\"+\n",
       "     \"<p>\\n\"+\n",
       "     \"BokehJS does not appear to have successfully loaded. If loading BokehJS from CDN, this \\n\"+\n",
       "     \"may be due to a slow or bad network connection. Possible fixes:\\n\"+\n",
       "     \"</p>\\n\"+\n",
       "     \"<ul>\\n\"+\n",
       "     \"<li>re-rerun `output_notebook()` to attempt to load from CDN again, or</li>\\n\"+\n",
       "     \"<li>use INLINE resources instead, as so:</li>\\n\"+\n",
       "     \"</ul>\\n\"+\n",
       "     \"<code>\\n\"+\n",
       "     \"from bokeh.resources import INLINE\\n\"+\n",
       "     \"output_notebook(resources=INLINE)\\n\"+\n",
       "     \"</code>\\n\"+\n",
       "     \"</div>\"}};\n",
       "\n",
       "  function display_loaded() {\n",
       "    if (window.Bokeh !== undefined) {\n",
       "      document.getElementById(\"b281f61c-1ddf-4b15-97b8-03ca8e16e3e9\").textContent = \"BokehJS successfully loaded.\";\n",
       "    } else if (Date.now() < window._bokeh_timeout) {\n",
       "      setTimeout(display_loaded, 100)\n",
       "    }\n",
       "  }\n",
       "\n",
       "  function run_callbacks() {\n",
       "    window._bokeh_onload_callbacks.forEach(function(callback) { callback() });\n",
       "    delete window._bokeh_onload_callbacks\n",
       "    console.info(\"Bokeh: all callbacks have finished\");\n",
       "  }\n",
       "\n",
       "  function load_libs(js_urls, callback) {\n",
       "    window._bokeh_onload_callbacks.push(callback);\n",
       "    if (window._bokeh_is_loading > 0) {\n",
       "      console.log(\"Bokeh: BokehJS is being loaded, scheduling callback at\", now());\n",
       "      return null;\n",
       "    }\n",
       "    if (js_urls == null || js_urls.length === 0) {\n",
       "      run_callbacks();\n",
       "      return null;\n",
       "    }\n",
       "    console.log(\"Bokeh: BokehJS not loaded, scheduling load and callback at\", now());\n",
       "    window._bokeh_is_loading = js_urls.length;\n",
       "    for (var i = 0; i < js_urls.length; i++) {\n",
       "      var url = js_urls[i];\n",
       "      var s = document.createElement('script');\n",
       "      s.src = url;\n",
       "      s.async = false;\n",
       "      s.onreadystatechange = s.onload = function() {\n",
       "        window._bokeh_is_loading--;\n",
       "        if (window._bokeh_is_loading === 0) {\n",
       "          console.log(\"Bokeh: all BokehJS libraries loaded\");\n",
       "          run_callbacks()\n",
       "        }\n",
       "      };\n",
       "      s.onerror = function() {\n",
       "        console.warn(\"failed to load library \" + url);\n",
       "      };\n",
       "      console.log(\"Bokeh: injecting script tag for BokehJS library: \", url);\n",
       "      document.getElementsByTagName(\"head\")[0].appendChild(s);\n",
       "    }\n",
       "  };var element = document.getElementById(\"b281f61c-1ddf-4b15-97b8-03ca8e16e3e9\");\n",
       "  if (element == null) {\n",
       "    console.log(\"Bokeh: ERROR: autoload.js configured with elementid 'b281f61c-1ddf-4b15-97b8-03ca8e16e3e9' but no matching script tag was found. \")\n",
       "    return false;\n",
       "  }\n",
       "\n",
       "  var js_urls = [\"https://cdn.pydata.org/bokeh/release/bokeh-0.12.4.min.js\", \"https://cdn.pydata.org/bokeh/release/bokeh-widgets-0.12.4.min.js\"];\n",
       "\n",
       "  var inline_js = [\n",
       "    function(Bokeh) {\n",
       "      Bokeh.set_log_level(\"info\");\n",
       "    },\n",
       "    \n",
       "    function(Bokeh) {\n",
       "      \n",
       "      document.getElementById(\"b281f61c-1ddf-4b15-97b8-03ca8e16e3e9\").textContent = \"BokehJS is loading...\";\n",
       "    },\n",
       "    function(Bokeh) {\n",
       "      console.log(\"Bokeh: injecting CSS: https://cdn.pydata.org/bokeh/release/bokeh-0.12.4.min.css\");\n",
       "      Bokeh.embed.inject_css(\"https://cdn.pydata.org/bokeh/release/bokeh-0.12.4.min.css\");\n",
       "      console.log(\"Bokeh: injecting CSS: https://cdn.pydata.org/bokeh/release/bokeh-widgets-0.12.4.min.css\");\n",
       "      Bokeh.embed.inject_css(\"https://cdn.pydata.org/bokeh/release/bokeh-widgets-0.12.4.min.css\");\n",
       "    }\n",
       "  ];\n",
       "\n",
       "  function run_inline_js() {\n",
       "    \n",
       "    if ((window.Bokeh !== undefined) || (force === true)) {\n",
       "      for (var i = 0; i < inline_js.length; i++) {\n",
       "        inline_js[i](window.Bokeh);\n",
       "      }if (force === true) {\n",
       "        display_loaded();\n",
       "      }} else if (Date.now() < window._bokeh_timeout) {\n",
       "      setTimeout(run_inline_js, 100);\n",
       "    } else if (!window._bokeh_failed_load) {\n",
       "      console.log(\"Bokeh: BokehJS failed to load within specified timeout.\");\n",
       "      window._bokeh_failed_load = true;\n",
       "    } else if (force !== true) {\n",
       "      var cell = $(document.getElementById(\"b281f61c-1ddf-4b15-97b8-03ca8e16e3e9\")).parents('.cell').data().cell;\n",
       "      cell.output_area.append_execute_result(NB_LOAD_WARNING)\n",
       "    }\n",
       "\n",
       "  }\n",
       "\n",
       "  if (window._bokeh_is_loading === 0) {\n",
       "    console.log(\"Bokeh: BokehJS loaded, going straight to plotting\");\n",
       "    run_inline_js();\n",
       "  } else {\n",
       "    load_libs(js_urls, function() {\n",
       "      console.log(\"Bokeh: BokehJS plotting callback run at\", now());\n",
       "      run_inline_js();\n",
       "    });\n",
       "  }\n",
       "}(this));"
      ]
     },
     "metadata": {},
     "output_type": "display_data"
    }
   ],
   "source": [
    "from bokeh.plotting import figure, output_notebook, show\n",
    "output_notebook()"
   ]
  },
  {
   "cell_type": "code",
   "execution_count": 3,
   "metadata": {
    "collapsed": true
   },
   "outputs": [],
   "source": [
    "import glob"
   ]
  },
  {
   "cell_type": "code",
   "execution_count": 4,
   "metadata": {
    "collapsed": true
   },
   "outputs": [],
   "source": [
    "import numpy as np"
   ]
  },
  {
   "cell_type": "code",
   "execution_count": 5,
   "metadata": {
    "collapsed": true
   },
   "outputs": [],
   "source": [
    "from scipy.interpolate import interp1d\n",
    "from scipy.interpolate import spline"
   ]
  },
  {
   "cell_type": "code",
   "execution_count": 6,
   "metadata": {
    "collapsed": true
   },
   "outputs": [],
   "source": [
    "from tqdm import tqdm"
   ]
  },
  {
   "cell_type": "code",
   "execution_count": 7,
   "metadata": {
    "collapsed": true
   },
   "outputs": [],
   "source": [
    "DQN_Rewards_Path = \"/home/tabz/Dropbox/RL/Log_Files/March 2017/Maze_5_Batch_Sizes_Logs/*DQN*/logs/Episode_Rewards.txt\"\n",
    "DQN_Lengths_Path = \"/home/tabz/Dropbox/RL/Log_Files/March 2017/Maze_5_Batch_Sizes_Logs/*DQN*/logs/Episode_Lengths.txt\"\n",
    "DQN_Rewards = []\n",
    "DQN_Lengths = []\n",
    "DQN_Lengths_C = []"
   ]
  },
  {
   "cell_type": "code",
   "execution_count": 8,
   "metadata": {
    "collapsed": true
   },
   "outputs": [],
   "source": [
    "for filename in glob.glob(DQN_Rewards_Path):\n",
    "    run_logs = [0]\n",
    "#     print(filename)\n",
    "    with open(filename, \"r\") as f:\n",
    "        for line in f:\n",
    "            try:\n",
    "                ep_r = float(line)\n",
    "            except:\n",
    "                continue\n",
    "            run_logs.append(ep_r)\n",
    "    DQN_Rewards.append(run_logs)"
   ]
  },
  {
   "cell_type": "code",
   "execution_count": 9,
   "metadata": {
    "collapsed": true
   },
   "outputs": [],
   "source": [
    "for filename in glob.glob(DQN_Lengths_Path):\n",
    "    run_logs = [0]\n",
    "#     print(filename)\n",
    "    with open(filename, \"r\") as f:\n",
    "        for line in f:\n",
    "            try:\n",
    "                ep_r = float(line)\n",
    "            except:\n",
    "                continue\n",
    "            run_logs.append(ep_r)\n",
    "    DQN_Lengths.append(run_logs)\n",
    "    run_logs_c = np.cumsum(run_logs).astype(np.int32)\n",
    "    DQN_Lengths_C.append(run_logs_c)"
   ]
  },
  {
   "cell_type": "markdown",
   "metadata": {
    "collapsed": false
   },
   "source": [
    "for lens, runs in zip(DQN_Lengths_C, DQN_Rewards):\n",
    "    plt.plot(lens, runs)\n",
    "plt.show()"
   ]
  },
  {
   "cell_type": "markdown",
   "metadata": {
    "collapsed": false
   },
   "source": [
    "p = figure(width=500, height=500, y_range=(-1,3))\n",
    "for lens, runs in zip(DQN_Lengths_C, DQN_Rewards):\n",
    "    p.line(lens, runs)\n",
    "show(p)"
   ]
  },
  {
   "cell_type": "code",
   "execution_count": null,
   "metadata": {
    "collapsed": true
   },
   "outputs": [],
   "source": []
  },
  {
   "cell_type": "markdown",
   "metadata": {
    "collapsed": true
   },
   "source": [
    "def plot_averages(names, t_maxs, colors, legends=None, directory=\"Logs/\", step=10):\n",
    "    plt.figure(figsize=(10,10))\n",
    "    plt.ylim(-1, 3)\n",
    "    for name, color, t_max in tqdm(zip(names, colors, t_maxs)):\n",
    "        # TODO: Remove DQN from names\n",
    "        DQN_Rewards_Path = directory + \"*\" + name + \"*/logs/Episode_Rewards.txt\"\n",
    "        DQN_Lengths_Path = directory + \"*\" + name + \"*/logs/Episode_Lengths.txt\"\n",
    "        DQN_Rewards = []\n",
    "        DQN_Lengths = []\n",
    "        DQN_Lengths_C = []\n",
    "        for filename in glob.glob(DQN_Rewards_Path):\n",
    "            run_logs = [0]\n",
    "            with open(filename, \"r\") as f:\n",
    "                for line in f:\n",
    "                    try:\n",
    "                        ep_r = float(line)\n",
    "                    except:\n",
    "                        continue\n",
    "                    run_logs.append(ep_r)\n",
    "            DQN_Rewards.append(run_logs)\n",
    "        for filename in glob.glob(DQN_Lengths_Path):\n",
    "            run_logs = [0]\n",
    "        #     print(filename)\n",
    "            with open(filename, \"r\") as f:\n",
    "                for line in f:\n",
    "                    try:\n",
    "                        ep_r = float(line)\n",
    "                    except:\n",
    "                        continue\n",
    "                    run_logs.append(ep_r)\n",
    "            DQN_Lengths.append(run_logs)\n",
    "            run_logs_c = np.cumsum(run_logs).astype(np.int32)\n",
    "            DQN_Lengths_C.append(run_logs_c)\n",
    "        DQN_Smoothed = []\n",
    "        for times, rewards in zip(DQN_Lengths_C, DQN_Rewards):\n",
    "#             linear = interp1d(times, rewards, kind=\"linear\")\n",
    "#             linear_rewards = linear([i for i in range(500000)])\n",
    "#             DQN_Smoothed.append(linear_rewards)\n",
    "            spline_rewards = spline(times, rewards, [i for i in range(0, t_max, step)])\n",
    "            DQN_Smoothed.append(spline_rewards)\n",
    "        DQN_Means = np.mean(DQN_Smoothed, axis=0)\n",
    "        DQN_Stds = np.std(DQN_Smoothed, axis=0)\n",
    "        plt.fill_between([i for i in range(0, t_max, step)], DQN_Means - DQN_Stds, DQN_Means + DQN_Stds, color=color, alpha=0.2, edgecolor=\"white\")\n",
    "\n",
    "        plt.plot([i for i in range(0, t_max, step)], DQN_Means, color=color)\n",
    "\n",
    "    plt.title(\"Episode_Reward\")\n",
    "    plt.xlabel(\"T\")\n",
    "    plt.ylabel(\"Reward\")\n",
    "    if legends is not None:\n",
    "        plt.legend(legends, bbox_to_anchor=(1.05, 1), loc=2)\n",
    "    plt.show()"
   ]
  },
  {
   "cell_type": "code",
   "execution_count": 10,
   "metadata": {
    "collapsed": true
   },
   "outputs": [],
   "source": [
    "from bokeh.models import Legend\n",
    "from bokeh.models.formatters import BasicTickFormatter\n",
    "from bokeh.models import HoverTool, TapTool"
   ]
  },
  {
   "cell_type": "code",
   "execution_count": 59,
   "metadata": {
    "collapsed": false
   },
   "outputs": [],
   "source": [
    "def plot_averages_b(names, t_maxs, colors, legends, directories=\"Logs/\", step=10, title=\"\"):\n",
    "#     plt.figure(figsize=(10,10))\n",
    "    p = figure(width=1200, height=800, y_range=(-1.2, 3.2), title=title)\n",
    "    p.toolbar_location = \"above\"\n",
    "    p.yaxis.axis_label = \"Episode Reward\"\n",
    "    p.xaxis.axis_label = \"T\"\n",
    "    p.xaxis.formatter = BasicTickFormatter(use_scientific=False)\n",
    "#     p = figure(width=800, height=500)\n",
    "    lines = []\n",
    "    alpha_lines = []\n",
    "    if isinstance(directories, str):\n",
    "        dd = directories\n",
    "        directories = [dd for _ in names]\n",
    "    for name, color, t_max, legend, directory in zip(names, colors, t_maxs, legends, directories):\n",
    "#         print(directory)\n",
    "        DQN_Rewards_Path = directory + \"*\" + name + \"*/logs/Episode_Rewards.txt\"\n",
    "        DQN_Lengths_Path = directory + \"*\" + name + \"*/logs/Episode_Lengths.txt\"\n",
    "        DQN_Rewards = []\n",
    "        DQN_Lengths = []\n",
    "        DQN_Lengths_C = []\n",
    "        for filename in glob.glob(DQN_Rewards_Path):\n",
    "            run_logs = [0]\n",
    "            with open(filename, \"r\") as f:\n",
    "#                 print(f)\n",
    "                for line in f:\n",
    "                    try:\n",
    "                        ep_r = float(line)\n",
    "                    except:\n",
    "                        print(\"Nothing here for:\", filename)\n",
    "                        continue\n",
    "                    run_logs.append(ep_r)\n",
    "            DQN_Rewards.append(run_logs)\n",
    "        for filename in glob.glob(DQN_Lengths_Path):\n",
    "            run_logs = [0]\n",
    "        #     print(filename)\n",
    "            with open(filename, \"r\") as f:\n",
    "                for line in f:\n",
    "                    try:\n",
    "                        ep_r = float(line)\n",
    "                    except:\n",
    "                        continue\n",
    "                    run_logs.append(ep_r)\n",
    "            DQN_Lengths.append(run_logs)\n",
    "            run_logs_c = np.cumsum(run_logs).astype(np.int32)\n",
    "            DQN_Lengths_C.append(run_logs_c)\n",
    "        DQN_Smoothed = []\n",
    "        for times, rewards in zip(DQN_Lengths_C, DQN_Rewards):\n",
    "#             linear = interp1d(times, rewards, kind=\"linear\")\n",
    "#             linear_rewards = linear([i for i in range(500000)])\n",
    "#             DQN_Smoothed.append(linear_rewards)\n",
    "            spline_rewards = spline(times, rewards, [i for i in range(0, t_max, step)], order=1)\n",
    "            DQN_Smoothed.append(spline_rewards)\n",
    "        DQN_Means = np.mean(DQN_Smoothed, axis=0)\n",
    "        DQN_Stds = np.std(DQN_Smoothed, axis=0)\n",
    "        \n",
    "#         plt.fill_between([i for i in range(0, t_max, step)], DQN_Means - DQN_Stds, DQN_Means + DQN_Stds, color=color, alpha=0.2, edgecolor=\"white\")\n",
    "        # Error bars\n",
    "        xs = [i for i in range(0, t_max, step)]\n",
    "        xs = xs + list(reversed(xs))\n",
    "        ys = np.concatenate([DQN_Means - DQN_Stds, np.flip(DQN_Means + DQN_Stds, axis=0)])\n",
    "        lls = p.patch(xs, ys, color=color, alpha=0.1)\n",
    "\n",
    "        \n",
    "#         for x, y, yerr in zip(range(0, t_max, step), DQN_Means, DQN_Stds):\n",
    "#             lls = p.line([x, x], [y - yerr, y + yerr], color=color, alpha=0.1, hover_alpha=0.8)\n",
    "#             alpha_lines.append(lls)\n",
    "            \n",
    "\n",
    "#         plt.plot([i for i in range(0, t_max, step)], DQN_Means, color=color)\n",
    "        l = p.line([i for i in range(0, t_max, step)], DQN_Means, color=color, line_width=2)\n",
    "        lines.append(l)\n",
    "#         alpha_lines.append(lls)\n",
    "\n",
    "#     plt.title(\"Episode_Reward\")\n",
    "#     plt.xlabel(\"T\")\n",
    "#     plt.ylabel(\"Reward\")\n",
    "#     if legends is not None:\n",
    "#         plt.legend(legends)\n",
    "#     plt.show()\n",
    "#     p.line([0,1], [-1,3])\n",
    "    new_leg = Legend(items=[(name, [line]) for name, line in zip(legends, lines)], location=(0,-30))\n",
    "    p.add_layout(new_leg, \"right\")\n",
    "#     p.add_tools(HoverTool(renderers=alpha_lines))\n",
    "#     p.add_tools(TapTool(renderers=alpha_lines))\n",
    "    show(p)"
   ]
  },
  {
   "cell_type": "code",
   "execution_count": null,
   "metadata": {
    "collapsed": true
   },
   "outputs": [],
   "source": []
  },
  {
   "cell_type": "code",
   "execution_count": 33,
   "metadata": {
    "collapsed": false
   },
   "outputs": [
    {
     "name": "stdout",
     "output_type": "stream",
     "text": [
      "['DQN', 'Count*_Conv_True*_Eps_1', 'Count*_Conv_True*_Eps_0.1', 'Count*_Conv_False*_Eps_1', 'Count*_Conv_False*_Eps_0.1']\n",
      "[1000000, 1000000, 1000000, 1000000, 1000000]\n"
     ]
    }
   ],
   "source": [
    "names = []\n",
    "legends = []\n",
    "t_maxs = []\n",
    "\n",
    "# DQN\n",
    "names += [\"DQN\"]\n",
    "legends += [\"DQN\"]\n",
    "t_maxs += [1000000]\n",
    "\n",
    "for conv in [True, False]:\n",
    "#     break\n",
    "    names.append(\"Count*_Conv_{}*_Eps_1\".format(conv))\n",
    "    legends.append(\"Count_Conv_{}\".format(conv))\n",
    "    t_maxs.append(1000000)\n",
    "#     break\n",
    "    names.append(\"Count*_Conv_{}*_Eps_0.1\".format(conv))\n",
    "    legends.append(\"Count_Conv_{}_Epsilon\".format(conv))\n",
    "    t_maxs.append(1000000)\n",
    "    \n",
    "# Batch size names\n",
    "# names = names + [\"*Batch_{}_{}\".format(b, name) for b in [64, 128, 256] for name in names]\n",
    "# legends = legends + [\"{}_Batch_{}\".format(leg, b) for b in [64, 128, 256] for leg in legends]\n",
    "# t_maxs = t_maxs + [t_max for b in [64, 128, 256] for t_max in t_maxs]\n",
    "    \n",
    "dropbox_direc = \"/home/tabz/Dropbox/RL/Log_Files/March 2017\"\n",
    "# directories =  [\"{}/{}\".format(dropbox_direc, \"Maze_5_Logs/\")] + 3 * [\"{}/{}\".format(dropbox_direc, \"Maze_5_Batch_Sizes_Logs/\")] \n",
    "directories = dropbox_direc + \"/Options_Logs/\"\n",
    "    \n",
    "print(names)\n",
    "print(t_maxs)\n",
    "# colours = [\"red\", \"#3366ff\", \"#66ff33\", \"yellow\"]\n",
    "# colours = rainbow(np.linspace(0, 1, len(names)))"
   ]
  },
  {
   "cell_type": "code",
   "execution_count": 57,
   "metadata": {
    "collapsed": false
   },
   "outputs": [
    {
     "name": "stdout",
     "output_type": "stream",
     "text": [
      "['Maze_5_*Count*', 'Maze_5_*DQN*', 'Maze_6_*Count*', 'Maze_6_*DQN*', 'Maze_7_*Count*', 'Maze_7_*DQN*', 'Maze_8_*Count*', 'Maze_8_*DQN*', 'Maze_9_*Count*', 'Maze_9_*DQN*']\n",
      "[200000, 200000, 200000, 200000, 200000, 200000, 200000, 200000, 200000, 200000]\n"
     ]
    }
   ],
   "source": [
    "names = []\n",
    "legends = []\n",
    "t_maxs = []\n",
    "\n",
    "for s in [5,6,7,8,9]:\n",
    "    names.append(\"Maze_{}_*Count*\".format(s))\n",
    "    legends.append(\"Maze_{}_Count\".format(s))\n",
    "    t_maxs.append(200000)\n",
    "\n",
    "    names.append(\"Maze_{}_*DQN*\".format(s))\n",
    "    legends.append(\"Maze_{}_DQN\".format(s))\n",
    "    t_maxs.append(200000)\n",
    "    \n",
    "dropbox_direc = \"/home/tabz/Dropbox/RL/Log_Files/March 2017\"\n",
    "directories = dropbox_direc + \"/Options_Logs/\"\n",
    "    \n",
    "print(names)\n",
    "print(t_maxs)"
   ]
  },
  {
   "cell_type": "code",
   "execution_count": 61,
   "metadata": {
    "collapsed": true
   },
   "outputs": [],
   "source": [
    "from bokeh.palettes import magma, inferno, Purples, Oranges, Greens, Reds, Set1, Set3, Paired"
   ]
  },
  {
   "cell_type": "code",
   "execution_count": 36,
   "metadata": {
    "collapsed": true
   },
   "outputs": [],
   "source": [
    "magma_colours = inferno(len(names))"
   ]
  },
  {
   "cell_type": "code",
   "execution_count": 37,
   "metadata": {
    "collapsed": false
   },
   "outputs": [],
   "source": [
    "c_nums = 1\n",
    "triple_colours = Purples[9][:c_nums] + Oranges[9][:c_nums] + Greens[9][:c_nums] + Reds[9][:c_nums]"
   ]
  },
  {
   "cell_type": "code",
   "execution_count": 38,
   "metadata": {
    "collapsed": false
   },
   "outputs": [
    {
     "data": {
      "text/plain": [
       "['#3f007d', '#7f2704', '#00441b', '#67000d']"
      ]
     },
     "execution_count": 38,
     "metadata": {},
     "output_type": "execute_result"
    }
   ],
   "source": [
    "triple_colours"
   ]
  },
  {
   "cell_type": "code",
   "execution_count": 65,
   "metadata": {
    "collapsed": false
   },
   "outputs": [
    {
     "data": {
      "text/html": [
       "\n",
       "\n",
       "    <div class=\"bk-root\">\n",
       "        <div class=\"bk-plotdiv\" id=\"e1b4793b-0409-44ed-82cd-fe9c449846d0\"></div>\n",
       "    </div>\n",
       "<script type=\"text/javascript\">\n",
       "  \n",
       "  (function(global) {\n",
       "    function now() {\n",
       "      return new Date();\n",
       "    }\n",
       "  \n",
       "    var force = false;\n",
       "  \n",
       "    if (typeof (window._bokeh_onload_callbacks) === \"undefined\" || force === true) {\n",
       "      window._bokeh_onload_callbacks = [];\n",
       "      window._bokeh_is_loading = undefined;\n",
       "    }\n",
       "  \n",
       "  \n",
       "    \n",
       "    if (typeof (window._bokeh_timeout) === \"undefined\" || force === true) {\n",
       "      window._bokeh_timeout = Date.now() + 0;\n",
       "      window._bokeh_failed_load = false;\n",
       "    }\n",
       "  \n",
       "    var NB_LOAD_WARNING = {'data': {'text/html':\n",
       "       \"<div style='background-color: #fdd'>\\n\"+\n",
       "       \"<p>\\n\"+\n",
       "       \"BokehJS does not appear to have successfully loaded. If loading BokehJS from CDN, this \\n\"+\n",
       "       \"may be due to a slow or bad network connection. Possible fixes:\\n\"+\n",
       "       \"</p>\\n\"+\n",
       "       \"<ul>\\n\"+\n",
       "       \"<li>re-rerun `output_notebook()` to attempt to load from CDN again, or</li>\\n\"+\n",
       "       \"<li>use INLINE resources instead, as so:</li>\\n\"+\n",
       "       \"</ul>\\n\"+\n",
       "       \"<code>\\n\"+\n",
       "       \"from bokeh.resources import INLINE\\n\"+\n",
       "       \"output_notebook(resources=INLINE)\\n\"+\n",
       "       \"</code>\\n\"+\n",
       "       \"</div>\"}};\n",
       "  \n",
       "    function display_loaded() {\n",
       "      if (window.Bokeh !== undefined) {\n",
       "        document.getElementById(\"e1b4793b-0409-44ed-82cd-fe9c449846d0\").textContent = \"BokehJS successfully loaded.\";\n",
       "      } else if (Date.now() < window._bokeh_timeout) {\n",
       "        setTimeout(display_loaded, 100)\n",
       "      }\n",
       "    }\n",
       "  \n",
       "    function run_callbacks() {\n",
       "      window._bokeh_onload_callbacks.forEach(function(callback) { callback() });\n",
       "      delete window._bokeh_onload_callbacks\n",
       "      console.info(\"Bokeh: all callbacks have finished\");\n",
       "    }\n",
       "  \n",
       "    function load_libs(js_urls, callback) {\n",
       "      window._bokeh_onload_callbacks.push(callback);\n",
       "      if (window._bokeh_is_loading > 0) {\n",
       "        console.log(\"Bokeh: BokehJS is being loaded, scheduling callback at\", now());\n",
       "        return null;\n",
       "      }\n",
       "      if (js_urls == null || js_urls.length === 0) {\n",
       "        run_callbacks();\n",
       "        return null;\n",
       "      }\n",
       "      console.log(\"Bokeh: BokehJS not loaded, scheduling load and callback at\", now());\n",
       "      window._bokeh_is_loading = js_urls.length;\n",
       "      for (var i = 0; i < js_urls.length; i++) {\n",
       "        var url = js_urls[i];\n",
       "        var s = document.createElement('script');\n",
       "        s.src = url;\n",
       "        s.async = false;\n",
       "        s.onreadystatechange = s.onload = function() {\n",
       "          window._bokeh_is_loading--;\n",
       "          if (window._bokeh_is_loading === 0) {\n",
       "            console.log(\"Bokeh: all BokehJS libraries loaded\");\n",
       "            run_callbacks()\n",
       "          }\n",
       "        };\n",
       "        s.onerror = function() {\n",
       "          console.warn(\"failed to load library \" + url);\n",
       "        };\n",
       "        console.log(\"Bokeh: injecting script tag for BokehJS library: \", url);\n",
       "        document.getElementsByTagName(\"head\")[0].appendChild(s);\n",
       "      }\n",
       "    };var element = document.getElementById(\"e1b4793b-0409-44ed-82cd-fe9c449846d0\");\n",
       "    if (element == null) {\n",
       "      console.log(\"Bokeh: ERROR: autoload.js configured with elementid 'e1b4793b-0409-44ed-82cd-fe9c449846d0' but no matching script tag was found. \")\n",
       "      return false;\n",
       "    }\n",
       "  \n",
       "    var js_urls = [];\n",
       "  \n",
       "    var inline_js = [\n",
       "      function(Bokeh) {\n",
       "        (function() {\n",
       "          var fn = function() {\n",
       "            var docs_json = {\"c1dc71e6-62ac-4347-8ff5-147601f966ab\":{\"roots\":{\"references\":[{\"attributes\":{\"fill_alpha\":{\"value\":0.1},\"fill_color\":{\"value\":\"#1f77b4\"},\"line_alpha\":{\"value\":0.1},\"line_color\":{\"value\":\"#1f77b4\"},\"x\":{\"field\":\"x\"},\"y\":{\"field\":\"y\"}},\"id\":\"f2cc5e40-81d4-42de-9cd5-0cc62ff7bc8f\",\"type\":\"Patch\"},{\"attributes\":{\"fill_alpha\":{\"value\":0.1},\"fill_color\":{\"value\":\"#1f77b4\"},\"line_alpha\":{\"value\":0.1},\"line_color\":{\"value\":\"#1f77b4\"},\"x\":{\"field\":\"x\"},\"y\":{\"field\":\"y\"}},\"id\":\"2ad1ddae-0c1f-4d07-a778-5348a4660872\",\"type\":\"Patch\"},{\"attributes\":{\"callback\":null,\"column_names\":[\"x\",\"y\"],\"data\":{\"x\":[0,1000,2000,3000,4000,5000,6000,7000,8000,9000,10000,11000,12000,13000,14000,15000,16000,17000,18000,19000,20000,21000,22000,23000,24000,25000,26000,27000,28000,29000,30000,31000,32000,33000,34000,35000,36000,37000,38000,39000,40000,41000,42000,43000,44000,45000,46000,47000,48000,49000,50000,51000,52000,53000,54000,55000,56000,57000,58000,59000,60000,61000,62000,63000,64000,65000,66000,67000,68000,69000,70000,71000,72000,73000,74000,75000,76000,77000,78000,79000,80000,81000,82000,83000,84000,85000,86000,87000,88000,89000,90000,91000,92000,93000,94000,95000,96000,97000,98000,99000,100000,101000,102000,103000,104000,105000,106000,107000,108000,109000,110000,111000,112000,113000,114000,115000,116000,117000,118000,119000,120000,121000,122000,123000,124000,125000,126000,127000,128000,129000,130000,131000,132000,133000,134000,135000,136000,137000,138000,139000,140000,141000,142000,143000,144000,145000,146000,147000,148000,149000,150000,151000,152000,153000,154000,155000,156000,157000,158000,159000,160000,161000,162000,163000,164000,165000,166000,167000,168000,169000,170000,171000,172000,173000,174000,175000,176000,177000,178000,179000,180000,181000,182000,183000,184000,185000,186000,187000,188000,189000,190000,191000,192000,193000,194000,195000,196000,197000,198000,199000],\"y\":{\"__ndarray__\":\"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\",\"dtype\":\"float64\",\"shape\":[200]}}},\"id\":\"db297819-e1fc-48cd-8102-2d0623077466\",\"type\":\"ColumnDataSource\"},{\"attributes\":{\"data_source\":{\"id\":\"ddc0f4f2-9c2c-4a79-a5c1-bd51574f2a31\",\"type\":\"ColumnDataSource\"},\"glyph\":{\"id\":\"4428bac7-403c-48b1-9367-c0ee39a49eaa\",\"type\":\"Patch\"},\"hover_glyph\":null,\"nonselection_glyph\":{\"id\":\"2ad1ddae-0c1f-4d07-a778-5348a4660872\",\"type\":\"Patch\"},\"selection_glyph\":null},\"id\":\"cd407a78-3f37-4efe-b8eb-bcceb7b472c0\",\"type\":\"GlyphRenderer\"},{\"attributes\":{\"data_source\":{\"id\":\"c63c0fa7-72ed-4dc5-b202-6738fea1462c\",\"type\":\"ColumnDataSource\"},\"glyph\":{\"id\":\"dc47015c-c47f-4228-8f53-74ffeb9dc2f3\",\"type\":\"Patch\"},\"hover_glyph\":null,\"nonselection_glyph\":{\"id\":\"f2cc5e40-81d4-42de-9cd5-0cc62ff7bc8f\",\"type\":\"Patch\"},\"selection_glyph\":null},\"id\":\"8e86fb0f-e9ee-4639-8d7a-663e2ecb1e8a\",\"type\":\"GlyphRenderer\"},{\"attributes\":{\"line_color\":{\"value\":\"#e31a1c\"},\"line_width\":{\"value\":2},\"x\":{\"field\":\"x\"},\"y\":{\"field\":\"y\"}},\"id\":\"76af2175-5f6b-4cd4-9cd1-675f61a0a5a9\",\"type\":\"Line\"},{\"attributes\":{\"data_source\":{\"id\":\"db297819-e1fc-48cd-8102-2d0623077466\",\"type\":\"ColumnDataSource\"},\"glyph\":{\"id\":\"76af2175-5f6b-4cd4-9cd1-675f61a0a5a9\",\"type\":\"Line\"},\"hover_glyph\":null,\"nonselection_glyph\":{\"id\":\"34ff14c6-bb91-443e-98dc-b565ad5056bc\",\"type\":\"Line\"},\"selection_glyph\":null},\"id\":\"64c13002-2140-4dda-8fd1-6d58f48089a8\",\"type\":\"GlyphRenderer\"},{\"attributes\":{\"callback\":null,\"column_names\":[\"x\",\"y\"],\"data\":{\"x\":[0,1000,2000,3000,4000,5000,6000,7000,8000,9000,10000,11000,12000,13000,14000,15000,16000,17000,18000,19000,20000,21000,22000,23000,24000,25000,26000,27000,28000,29000,30000,31000,32000,33000,34000,35000,36000,37000,38000,39000,40000,41000,42000,43000,44000,45000,46000,47000,48000,49000,50000,51000,52000,53000,54000,55000,56000,57000,58000,59000,60000,61000,62000,63000,64000,65000,66000,67000,68000,69000,70000,71000,72000,73000,74000,75000,76000,77000,78000,79000,80000,81000,82000,83000,84000,85000,86000,87000,88000,89000,90000,91000,92000,93000,94000,95000,96000,97000,98000,99000,100000,101000,102000,103000,104000,105000,106000,107000,108000,109000,110000,111000,112000,113000,114000,115000,116000,117000,118000,119000,120000,121000,122000,123000,124000,125000,126000,127000,128000,129000,130000,131000,132000,133000,134000,135000,136000,137000,138000,139000,140000,141000,142000,143000,144000,145000,146000,147000,148000,149000,150000,151000,152000,153000,154000,155000,156000,157000,158000,159000,160000,161000,162000,163000,164000,165000,166000,167000,168000,169000,170000,171000,172000,173000,174000,175000,176000,177000,178000,179000,180000,181000,182000,183000,184000,185000,186000,187000,188000,189000,190000,191000,192000,193000,194000,195000,196000,197000,198000,199000,199000,198000,197000,196000,195000,194000,193000,192000,191000,190000,189000,188000,187000,186000,185000,184000,183000,182000,181000,180000,179000,178000,177000,176000,175000,174000,173000,172000,171000,170000,169000,168000,167000,166000,165000,164000,163000,162000,161000,160000,159000,158000,157000,156000,155000,154000,153000,152000,151000,150000,149000,148000,147000,146000,145000,144000,143000,142000,141000,140000,139000,138000,137000,136000,135000,134000,133000,132000,131000,130000,129000,128000,127000,126000,125000,124000,123000,122000,121000,120000,119000,118000,117000,116000,115000,114000,113000,112000,111000,110000,109000,108000,107000,106000,105000,104000,103000,102000,101000,100000,99000,98000,97000,96000,95000,94000,93000,92000,91000,90000,89000,88000,87000,86000,85000,84000,83000,82000,81000,80000,79000,78000,77000,76000,75000,74000,73000,72000,71000,70000,69000,68000,67000,66000,65000,64000,63000,62000,61000,60000,59000,58000,57000,56000,55000,54000,53000,52000,51000,50000,49000,48000,47000,46000,45000,44000,43000,42000,41000,40000,39000,38000,37000,36000,35000,34000,33000,32000,31000,30000,29000,28000,27000,26000,25000,24000,23000,22000,21000,20000,19000,18000,17000,16000,15000,14000,13000,12000,11000,10000,9000,8000,7000,6000,5000,4000,3000,2000,1000,0],\"y\":{\"__ndarray__\":\"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\",\"dtype\":\"float64\",\"shape\":[400]}}},\"id\":\"ddc0f4f2-9c2c-4a79-a5c1-bd51574f2a31\",\"type\":\"ColumnDataSource\"},{\"attributes\":{\"line_alpha\":{\"value\":0.1},\"line_color\":{\"value\":\"#1f77b4\"},\"line_width\":{\"value\":2},\"x\":{\"field\":\"x\"},\"y\":{\"field\":\"y\"}},\"id\":\"34ff14c6-bb91-443e-98dc-b565ad5056bc\",\"type\":\"Line\"},{\"attributes\":{\"fill_alpha\":{\"value\":0.1},\"fill_color\":{\"value\":\"#1f77b4\"},\"line_alpha\":{\"value\":0.1},\"line_color\":{\"value\":\"#1f77b4\"},\"x\":{\"field\":\"x\"},\"y\":{\"field\":\"y\"}},\"id\":\"d48effa5-408e-4e03-aca4-5e33b8640116\",\"type\":\"Patch\"},{\"attributes\":{\"line_color\":{\"value\":\"#fdbf6f\"},\"line_width\":{\"value\":2},\"x\":{\"field\":\"x\"},\"y\":{\"field\":\"y\"}},\"id\":\"2456271d-0762-4e97-b13f-168522909376\",\"type\":\"Line\"},{\"attributes\":{\"callback\":null,\"column_names\":[\"x\",\"y\"],\"data\":{\"x\":[0,1000,2000,3000,4000,5000,6000,7000,8000,9000,10000,11000,12000,13000,14000,15000,16000,17000,18000,19000,20000,21000,22000,23000,24000,25000,26000,27000,28000,29000,30000,31000,32000,33000,34000,35000,36000,37000,38000,39000,40000,41000,42000,43000,44000,45000,46000,47000,48000,49000,50000,51000,52000,53000,54000,55000,56000,57000,58000,59000,60000,61000,62000,63000,64000,65000,66000,67000,68000,69000,70000,71000,72000,73000,74000,75000,76000,77000,78000,79000,80000,81000,82000,83000,84000,85000,86000,87000,88000,89000,90000,91000,92000,93000,94000,95000,96000,97000,98000,99000,100000,101000,102000,103000,104000,105000,106000,107000,108000,109000,110000,111000,112000,113000,114000,115000,116000,117000,118000,119000,120000,121000,122000,123000,124000,125000,126000,127000,128000,129000,130000,131000,132000,133000,134000,135000,136000,137000,138000,139000,140000,141000,142000,143000,144000,145000,146000,147000,148000,149000,150000,151000,152000,153000,154000,155000,156000,157000,158000,159000,160000,161000,162000,163000,164000,165000,166000,167000,168000,169000,170000,171000,172000,173000,174000,175000,176000,177000,178000,179000,180000,181000,182000,183000,184000,185000,186000,187000,188000,189000,190000,191000,192000,193000,194000,195000,196000,197000,198000,199000],\"y\":{\"__ndarray__\":\"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\",\"dtype\":\"float64\",\"shape\":[200]}}},\"id\":\"a7dcd9ba-f0b7-4912-ab56-bb0ffef86af9\",\"type\":\"ColumnDataSource\"},{\"attributes\":{\"line_color\":{\"value\":\"#ff7f00\"},\"line_width\":{\"value\":2},\"x\":{\"field\":\"x\"},\"y\":{\"field\":\"y\"}},\"id\":\"80c264d5-36a8-426b-b38f-fd9bf5f8c5a3\",\"type\":\"Line\"},{\"attributes\":{\"fill_alpha\":{\"value\":0.1},\"fill_color\":{\"value\":\"#1f77b4\"},\"line_alpha\":{\"value\":0.1},\"line_color\":{\"value\":\"#1f77b4\"},\"x\":{\"field\":\"x\"},\"y\":{\"field\":\"y\"}},\"id\":\"8f488d49-6105-4697-96c7-efe15562cbe7\",\"type\":\"Patch\"},{\"attributes\":{\"data_source\":{\"id\":\"a7dcd9ba-f0b7-4912-ab56-bb0ffef86af9\",\"type\":\"ColumnDataSource\"},\"glyph\":{\"id\":\"2456271d-0762-4e97-b13f-168522909376\",\"type\":\"Line\"},\"hover_glyph\":null,\"nonselection_glyph\":{\"id\":\"e2ff9b8d-a208-4e07-8af2-419375075fb5\",\"type\":\"Line\"},\"selection_glyph\":null},\"id\":\"0f82a3d0-c02d-40c0-921f-4c3cde706f89\",\"type\":\"GlyphRenderer\"},{\"attributes\":{\"line_alpha\":{\"value\":0.1},\"line_color\":{\"value\":\"#1f77b4\"},\"line_width\":{\"value\":2},\"x\":{\"field\":\"x\"},\"y\":{\"field\":\"y\"}},\"id\":\"e2ff9b8d-a208-4e07-8af2-419375075fb5\",\"type\":\"Line\"},{\"attributes\":{\"data_source\":{\"id\":\"a6ca63aa-8e7b-41f5-b8b2-48181c678d23\",\"type\":\"ColumnDataSource\"},\"glyph\":{\"id\":\"74b50b71-dbb0-4c6c-9c25-3eeb187958f0\",\"type\":\"Patch\"},\"hover_glyph\":null,\"nonselection_glyph\":{\"id\":\"d48effa5-408e-4e03-aca4-5e33b8640116\",\"type\":\"Patch\"},\"selection_glyph\":null},\"id\":\"e15108f4-b9c6-4adf-bb87-4afb0cf3fe57\",\"type\":\"GlyphRenderer\"},{\"attributes\":{\"fill_alpha\":{\"value\":0.1},\"fill_color\":{\"value\":\"#ff7f00\"},\"line_alpha\":{\"value\":0.1},\"line_color\":{\"value\":\"#ff7f00\"},\"x\":{\"field\":\"x\"},\"y\":{\"field\":\"y\"}},\"id\":\"74b50b71-dbb0-4c6c-9c25-3eeb187958f0\",\"type\":\"Patch\"},{\"attributes\":{\"callback\":null,\"column_names\":[\"x\",\"y\"],\"data\":{\"x\":[0,1000,2000,3000,4000,5000,6000,7000,8000,9000,10000,11000,12000,13000,14000,15000,16000,17000,18000,19000,20000,21000,22000,23000,24000,25000,26000,27000,28000,29000,30000,31000,32000,33000,34000,35000,36000,37000,38000,39000,40000,41000,42000,43000,44000,45000,46000,47000,48000,49000,50000,51000,52000,53000,54000,55000,56000,57000,58000,59000,60000,61000,62000,63000,64000,65000,66000,67000,68000,69000,70000,71000,72000,73000,74000,75000,76000,77000,78000,79000,80000,81000,82000,83000,84000,85000,86000,87000,88000,89000,90000,91000,92000,93000,94000,95000,96000,97000,98000,99000,100000,101000,102000,103000,104000,105000,106000,107000,108000,109000,110000,111000,112000,113000,114000,115000,116000,117000,118000,119000,120000,121000,122000,123000,124000,125000,126000,127000,128000,129000,130000,131000,132000,133000,134000,135000,136000,137000,138000,139000,140000,141000,142000,143000,144000,145000,146000,147000,148000,149000,150000,151000,152000,153000,154000,155000,156000,157000,158000,159000,160000,161000,162000,163000,164000,165000,166000,167000,168000,169000,170000,171000,172000,173000,174000,175000,176000,177000,178000,179000,180000,181000,182000,183000,184000,185000,186000,187000,188000,189000,190000,191000,192000,193000,194000,195000,196000,197000,198000,199000],\"y\":{\"__ndarray__\":\"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\",\"dtype\":\"float64\",\"shape\":[200]}}},\"id\":\"7612a937-daa1-4090-af98-ca26ef933f20\",\"type\":\"ColumnDataSource\"},{\"attributes\":{\"fill_alpha\":{\"value\":0.1},\"fill_color\":{\"value\":\"#1f77b4\"},\"line_alpha\":{\"value\":0.1},\"line_color\":{\"value\":\"#1f77b4\"},\"x\":{\"field\":\"x\"},\"y\":{\"field\":\"y\"}},\"id\":\"3a3757db-45ac-443a-b33a-32d479b55c91\",\"type\":\"Patch\"},{\"attributes\":{\"data_source\":{\"id\":\"7612a937-daa1-4090-af98-ca26ef933f20\",\"type\":\"ColumnDataSource\"},\"glyph\":{\"id\":\"80c264d5-36a8-426b-b38f-fd9bf5f8c5a3\",\"type\":\"Line\"},\"hover_glyph\":null,\"nonselection_glyph\":{\"id\":\"01389077-7a44-4e78-a700-065bbc7b871c\",\"type\":\"Line\"},\"selection_glyph\":null},\"id\":\"a8aa52b4-e63f-4c80-aed1-a12463074365\",\"type\":\"GlyphRenderer\"},{\"attributes\":{\"line_alpha\":{\"value\":0.1},\"line_color\":{\"value\":\"#1f77b4\"},\"line_width\":{\"value\":2},\"x\":{\"field\":\"x\"},\"y\":{\"field\":\"y\"}},\"id\":\"01389077-7a44-4e78-a700-065bbc7b871c\",\"type\":\"Line\"},{\"attributes\":{\"data_source\":{\"id\":\"df6a398a-fbf5-4158-ac71-a4ee9ba97fc8\",\"type\":\"ColumnDataSource\"},\"glyph\":{\"id\":\"c7901137-72c4-42e9-9c8d-f0e596fac5e5\",\"type\":\"Patch\"},\"hover_glyph\":null,\"nonselection_glyph\":{\"id\":\"8f488d49-6105-4697-96c7-efe15562cbe7\",\"type\":\"Patch\"},\"selection_glyph\":null},\"id\":\"0059c143-521b-4bac-96cd-42eed84e8d49\",\"type\":\"GlyphRenderer\"},{\"attributes\":{\"fill_alpha\":{\"value\":0.1},\"fill_color\":{\"value\":\"#1f77b4\"},\"line_alpha\":{\"value\":0.1},\"line_color\":{\"value\":\"#1f77b4\"},\"x\":{\"field\":\"x\"},\"y\":{\"field\":\"y\"}},\"id\":\"b893d9cf-5bc0-4b18-a7b6-f003d8229c2c\",\"type\":\"Patch\"},{\"attributes\":{\"fill_alpha\":{\"value\":0.1},\"fill_color\":{\"value\":\"#cab2d6\"},\"line_alpha\":{\"value\":0.1},\"line_color\":{\"value\":\"#cab2d6\"},\"x\":{\"field\":\"x\"},\"y\":{\"field\":\"y\"}},\"id\":\"c7901137-72c4-42e9-9c8d-f0e596fac5e5\",\"type\":\"Patch\"},{\"attributes\":{\"callback\":null,\"column_names\":[\"x\",\"y\"],\"data\":{\"x\":[0,1000,2000,3000,4000,5000,6000,7000,8000,9000,10000,11000,12000,13000,14000,15000,16000,17000,18000,19000,20000,21000,22000,23000,24000,25000,26000,27000,28000,29000,30000,31000,32000,33000,34000,35000,36000,37000,38000,39000,40000,41000,42000,43000,44000,45000,46000,47000,48000,49000,50000,51000,52000,53000,54000,55000,56000,57000,58000,59000,60000,61000,62000,63000,64000,65000,66000,67000,68000,69000,70000,71000,72000,73000,74000,75000,76000,77000,78000,79000,80000,81000,82000,83000,84000,85000,86000,87000,88000,89000,90000,91000,92000,93000,94000,95000,96000,97000,98000,99000,100000,101000,102000,103000,104000,105000,106000,107000,108000,109000,110000,111000,112000,113000,114000,115000,116000,117000,118000,119000,120000,121000,122000,123000,124000,125000,126000,127000,128000,129000,130000,131000,132000,133000,134000,135000,136000,137000,138000,139000,140000,141000,142000,143000,144000,145000,146000,147000,148000,149000,150000,151000,152000,153000,154000,155000,156000,157000,158000,159000,160000,161000,162000,163000,164000,165000,166000,167000,168000,169000,170000,171000,172000,173000,174000,175000,176000,177000,178000,179000,180000,181000,182000,183000,184000,185000,186000,187000,188000,189000,190000,191000,192000,193000,194000,195000,196000,197000,198000,199000],\"y\":{\"__ndarray__\":\"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\",\"dtype\":\"float64\",\"shape\":[200]}}},\"id\":\"d00420ba-4330-4b2d-821a-30a430a6d6fe\",\"type\":\"ColumnDataSource\"},{\"attributes\":{\"data_source\":{\"id\":\"685da759-65e2-4189-9ee7-fa4441656d20\",\"type\":\"ColumnDataSource\"},\"glyph\":{\"id\":\"16fdf517-96ec-454c-a397-a7b998cee7d6\",\"type\":\"Patch\"},\"hover_glyph\":null,\"nonselection_glyph\":{\"id\":\"3a3757db-45ac-443a-b33a-32d479b55c91\",\"type\":\"Patch\"},\"selection_glyph\":null},\"id\":\"135d1693-0082-4990-a0e1-2dcf87f0a057\",\"type\":\"GlyphRenderer\"},{\"attributes\":{\"line_color\":{\"value\":\"#cab2d6\"},\"line_width\":{\"value\":2},\"x\":{\"field\":\"x\"},\"y\":{\"field\":\"y\"}},\"id\":\"283bee5f-d6a7-4c91-a07f-6284991bb3ea\",\"type\":\"Line\"},{\"attributes\":{\"data_source\":{\"id\":\"d00420ba-4330-4b2d-821a-30a430a6d6fe\",\"type\":\"ColumnDataSource\"},\"glyph\":{\"id\":\"283bee5f-d6a7-4c91-a07f-6284991bb3ea\",\"type\":\"Line\"},\"hover_glyph\":null,\"nonselection_glyph\":{\"id\":\"51b01391-cb35-4daa-8887-081b05799ee8\",\"type\":\"Line\"},\"selection_glyph\":null},\"id\":\"40142722-4536-42c3-a3ef-d8c81b1eccad\",\"type\":\"GlyphRenderer\"},{\"attributes\":{\"line_alpha\":{\"value\":0.1},\"line_color\":{\"value\":\"#1f77b4\"},\"line_width\":{\"value\":2},\"x\":{\"field\":\"x\"},\"y\":{\"field\":\"y\"}},\"id\":\"51b01391-cb35-4daa-8887-081b05799ee8\",\"type\":\"Line\"},{\"attributes\":{\"callback\":null,\"column_names\":[\"x\",\"y\"],\"data\":{\"x\":[0,1000,2000,3000,4000,5000,6000,7000,8000,9000,10000,11000,12000,13000,14000,15000,16000,17000,18000,19000,20000,21000,22000,23000,24000,25000,26000,27000,28000,29000,30000,31000,32000,33000,34000,35000,36000,37000,38000,39000,40000,41000,42000,43000,44000,45000,46000,47000,48000,49000,50000,51000,52000,53000,54000,55000,56000,57000,58000,59000,60000,61000,62000,63000,64000,65000,66000,67000,68000,69000,70000,71000,72000,73000,74000,75000,76000,77000,78000,79000,80000,81000,82000,83000,84000,85000,86000,87000,88000,89000,90000,91000,92000,93000,94000,95000,96000,97000,98000,99000,100000,101000,102000,103000,104000,105000,106000,107000,108000,109000,110000,111000,112000,113000,114000,115000,116000,117000,118000,119000,120000,121000,122000,123000,124000,125000,126000,127000,128000,129000,130000,131000,132000,133000,134000,135000,136000,137000,138000,139000,140000,141000,142000,143000,144000,145000,146000,147000,148000,149000,150000,151000,152000,153000,154000,155000,156000,157000,158000,159000,160000,161000,162000,163000,164000,165000,166000,167000,168000,169000,170000,171000,172000,173000,174000,175000,176000,177000,178000,179000,180000,181000,182000,183000,184000,185000,186000,187000,188000,189000,190000,191000,192000,193000,194000,195000,196000,197000,198000,199000,199000,198000,197000,196000,195000,194000,193000,192000,191000,190000,189000,188000,187000,186000,185000,184000,183000,182000,181000,180000,179000,178000,177000,176000,175000,174000,173000,172000,171000,170000,169000,168000,167000,166000,165000,164000,163000,162000,161000,160000,159000,158000,157000,156000,155000,154000,153000,152000,151000,150000,149000,148000,147000,146000,145000,144000,143000,142000,141000,140000,139000,138000,137000,136000,135000,134000,133000,132000,131000,130000,129000,128000,127000,126000,125000,124000,123000,122000,121000,120000,119000,118000,117000,116000,115000,114000,113000,112000,111000,110000,109000,108000,107000,106000,105000,104000,103000,102000,101000,100000,99000,98000,97000,96000,95000,94000,93000,92000,91000,90000,89000,88000,87000,86000,85000,84000,83000,82000,81000,80000,79000,78000,77000,76000,75000,74000,73000,72000,71000,70000,69000,68000,67000,66000,65000,64000,63000,62000,61000,60000,59000,58000,57000,56000,55000,54000,53000,52000,51000,50000,49000,48000,47000,46000,45000,44000,43000,42000,41000,40000,39000,38000,37000,36000,35000,34000,33000,32000,31000,30000,29000,28000,27000,26000,25000,24000,23000,22000,21000,20000,19000,18000,17000,16000,15000,14000,13000,12000,11000,10000,9000,8000,7000,6000,5000,4000,3000,2000,1000,0],\"y\":{\"__ndarray__\":\"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\",\"dtype\":\"float64\",\"shape\":[400]}}},\"id\":\"685da759-65e2-4189-9ee7-fa4441656d20\",\"type\":\"ColumnDataSource\"},{\"attributes\":{\"fill_alpha\":{\"value\":0.1},\"fill_color\":{\"value\":\"#6a3d9a\"},\"line_alpha\":{\"value\":0.1},\"line_color\":{\"value\":\"#6a3d9a\"},\"x\":{\"field\":\"x\"},\"y\":{\"field\":\"y\"}},\"id\":\"16fdf517-96ec-454c-a397-a7b998cee7d6\",\"type\":\"Patch\"},{\"attributes\":{\"callback\":null,\"column_names\":[\"x\",\"y\"],\"data\":{\"x\":[0,1000,2000,3000,4000,5000,6000,7000,8000,9000,10000,11000,12000,13000,14000,15000,16000,17000,18000,19000,20000,21000,22000,23000,24000,25000,26000,27000,28000,29000,30000,31000,32000,33000,34000,35000,36000,37000,38000,39000,40000,41000,42000,43000,44000,45000,46000,47000,48000,49000,50000,51000,52000,53000,54000,55000,56000,57000,58000,59000,60000,61000,62000,63000,64000,65000,66000,67000,68000,69000,70000,71000,72000,73000,74000,75000,76000,77000,78000,79000,80000,81000,82000,83000,84000,85000,86000,87000,88000,89000,90000,91000,92000,93000,94000,95000,96000,97000,98000,99000,100000,101000,102000,103000,104000,105000,106000,107000,108000,109000,110000,111000,112000,113000,114000,115000,116000,117000,118000,119000,120000,121000,122000,123000,124000,125000,126000,127000,128000,129000,130000,131000,132000,133000,134000,135000,136000,137000,138000,139000,140000,141000,142000,143000,144000,145000,146000,147000,148000,149000,150000,151000,152000,153000,154000,155000,156000,157000,158000,159000,160000,161000,162000,163000,164000,165000,166000,167000,168000,169000,170000,171000,172000,173000,174000,175000,176000,177000,178000,179000,180000,181000,182000,183000,184000,185000,186000,187000,188000,189000,190000,191000,192000,193000,194000,195000,196000,197000,198000,199000],\"y\":{\"__ndarray__\":\"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\",\"dtype\":\"float64\",\"shape\":[200]}}},\"id\":\"9a9b02ff-4d4d-4f89-98a4-5c5d66dd7f4f\",\"type\":\"ColumnDataSource\"},{\"attributes\":{\"line_color\":{\"value\":\"#6a3d9a\"},\"line_width\":{\"value\":2},\"x\":{\"field\":\"x\"},\"y\":{\"field\":\"y\"}},\"id\":\"53492919-8ff4-4be9-83bd-10986a9b2435\",\"type\":\"Line\"},{\"attributes\":{\"data_source\":{\"id\":\"9a9b02ff-4d4d-4f89-98a4-5c5d66dd7f4f\",\"type\":\"ColumnDataSource\"},\"glyph\":{\"id\":\"53492919-8ff4-4be9-83bd-10986a9b2435\",\"type\":\"Line\"},\"hover_glyph\":null,\"nonselection_glyph\":{\"id\":\"7d34d98c-a3e0-44e0-a4b9-b53dccdb3ee7\",\"type\":\"Line\"},\"selection_glyph\":null},\"id\":\"50b09c29-9f9a-49ed-a938-c748cdbb7b20\",\"type\":\"GlyphRenderer\"},{\"attributes\":{\"line_alpha\":{\"value\":0.1},\"line_color\":{\"value\":\"#1f77b4\"},\"line_width\":{\"value\":2},\"x\":{\"field\":\"x\"},\"y\":{\"field\":\"y\"}},\"id\":\"7d34d98c-a3e0-44e0-a4b9-b53dccdb3ee7\",\"type\":\"Line\"},{\"attributes\":{\"label\":{\"value\":\"Maze_5_DQN\"},\"renderers\":[{\"id\":\"69a72de9-a471-4685-a5fb-c97a7b910b70\",\"type\":\"GlyphRenderer\"}]},\"id\":\"3e15354d-9fae-410a-b827-8591bc3bdcb5\",\"type\":\"LegendItem\"},{\"attributes\":{\"label\":{\"value\":\"Maze_6_Count\"},\"renderers\":[{\"id\":\"adb46f8d-f8c0-48cf-98aa-9156e33c7e9e\",\"type\":\"GlyphRenderer\"}]},\"id\":\"91da739b-ed69-44b3-b7a8-458874446996\",\"type\":\"LegendItem\"},{\"attributes\":{\"callback\":null,\"column_names\":[\"x\",\"y\"],\"data\":{\"x\":[0,1000,2000,3000,4000,5000,6000,7000,8000,9000,10000,11000,12000,13000,14000,15000,16000,17000,18000,19000,20000,21000,22000,23000,24000,25000,26000,27000,28000,29000,30000,31000,32000,33000,34000,35000,36000,37000,38000,39000,40000,41000,42000,43000,44000,45000,46000,47000,48000,49000,50000,51000,52000,53000,54000,55000,56000,57000,58000,59000,60000,61000,62000,63000,64000,65000,66000,67000,68000,69000,70000,71000,72000,73000,74000,75000,76000,77000,78000,79000,80000,81000,82000,83000,84000,85000,86000,87000,88000,89000,90000,91000,92000,93000,94000,95000,96000,97000,98000,99000,100000,101000,102000,103000,104000,105000,106000,107000,108000,109000,110000,111000,112000,113000,114000,115000,116000,117000,118000,119000,120000,121000,122000,123000,124000,125000,126000,127000,128000,129000,130000,131000,132000,133000,134000,135000,136000,137000,138000,139000,140000,141000,142000,143000,144000,145000,146000,147000,148000,149000,150000,151000,152000,153000,154000,155000,156000,157000,158000,159000,160000,161000,162000,163000,164000,165000,166000,167000,168000,169000,170000,171000,172000,173000,174000,175000,176000,177000,178000,179000,180000,181000,182000,183000,184000,185000,186000,187000,188000,189000,190000,191000,192000,193000,194000,195000,196000,197000,198000,199000,199000,198000,197000,196000,195000,194000,193000,192000,191000,190000,189000,188000,187000,186000,185000,184000,183000,182000,181000,180000,179000,178000,177000,176000,175000,174000,173000,172000,171000,170000,169000,168000,167000,166000,165000,164000,163000,162000,161000,160000,159000,158000,157000,156000,155000,154000,153000,152000,151000,150000,149000,148000,147000,146000,145000,144000,143000,142000,141000,140000,139000,138000,137000,136000,135000,134000,133000,132000,131000,130000,129000,128000,127000,126000,125000,124000,123000,122000,121000,120000,119000,118000,117000,116000,115000,114000,113000,112000,111000,110000,109000,108000,107000,106000,105000,104000,103000,102000,101000,100000,99000,98000,97000,96000,95000,94000,93000,92000,91000,90000,89000,88000,87000,86000,85000,84000,83000,82000,81000,80000,79000,78000,77000,76000,75000,74000,73000,72000,71000,70000,69000,68000,67000,66000,65000,64000,63000,62000,61000,60000,59000,58000,57000,56000,55000,54000,53000,52000,51000,50000,49000,48000,47000,46000,45000,44000,43000,42000,41000,40000,39000,38000,37000,36000,35000,34000,33000,32000,31000,30000,29000,28000,27000,26000,25000,24000,23000,22000,21000,20000,19000,18000,17000,16000,15000,14000,13000,12000,11000,10000,9000,8000,7000,6000,5000,4000,3000,2000,1000,0],\"y\":{\"__ndarray__\":\"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\",\"dtype\":\"float64\",\"shape\":[400]}}},\"id\":\"feb23ac7-07a3-47fa-b0de-75077669d287\",\"type\":\"ColumnDataSource\"},{\"attributes\":{\"label\":{\"value\":\"Maze_6_DQN\"},\"renderers\":[{\"id\":\"e84a9c57-4533-485c-82a2-60f449827a2a\",\"type\":\"GlyphRenderer\"}]},\"id\":\"2631475a-2b3a-4b9c-b94f-5529d0d597d5\",\"type\":\"LegendItem\"},{\"attributes\":{\"label\":{\"value\":\"Maze_7_Count\"},\"renderers\":[{\"id\":\"f19bfca9-a28e-45ad-a648-6b4cd70bfac7\",\"type\":\"GlyphRenderer\"}]},\"id\":\"400183a0-4875-473e-95bb-5c93b47df561\",\"type\":\"LegendItem\"},{\"attributes\":{\"label\":{\"value\":\"Maze_7_DQN\"},\"renderers\":[{\"id\":\"64c13002-2140-4dda-8fd1-6d58f48089a8\",\"type\":\"GlyphRenderer\"}]},\"id\":\"fe0b28d2-4dd8-4e0f-8f2b-f44f88959903\",\"type\":\"LegendItem\"},{\"attributes\":{\"label\":{\"value\":\"Maze_8_Count\"},\"renderers\":[{\"id\":\"0f82a3d0-c02d-40c0-921f-4c3cde706f89\",\"type\":\"GlyphRenderer\"}]},\"id\":\"06a58bb1-2fb7-4022-b917-18e56f67689d\",\"type\":\"LegendItem\"},{\"attributes\":{\"label\":{\"value\":\"Maze_8_DQN\"},\"renderers\":[{\"id\":\"a8aa52b4-e63f-4c80-aed1-a12463074365\",\"type\":\"GlyphRenderer\"}]},\"id\":\"8e7719ee-feb3-4702-b6f6-40a547f9a8a9\",\"type\":\"LegendItem\"},{\"attributes\":{\"label\":{\"value\":\"Maze_9_Count\"},\"renderers\":[{\"id\":\"40142722-4536-42c3-a3ef-d8c81b1eccad\",\"type\":\"GlyphRenderer\"}]},\"id\":\"9fd68c54-3c44-43ad-85be-35eeacbd7d0a\",\"type\":\"LegendItem\"},{\"attributes\":{\"label\":{\"value\":\"Maze_9_DQN\"},\"renderers\":[{\"id\":\"50b09c29-9f9a-49ed-a938-c748cdbb7b20\",\"type\":\"GlyphRenderer\"}]},\"id\":\"2edd1182-b000-4c53-9fbe-773586656e3c\",\"type\":\"LegendItem\"},{\"attributes\":{\"callback\":null,\"column_names\":[\"x\",\"y\"],\"data\":{\"x\":[0,1000,2000,3000,4000,5000,6000,7000,8000,9000,10000,11000,12000,13000,14000,15000,16000,17000,18000,19000,20000,21000,22000,23000,24000,25000,26000,27000,28000,29000,30000,31000,32000,33000,34000,35000,36000,37000,38000,39000,40000,41000,42000,43000,44000,45000,46000,47000,48000,49000,50000,51000,52000,53000,54000,55000,56000,57000,58000,59000,60000,61000,62000,63000,64000,65000,66000,67000,68000,69000,70000,71000,72000,73000,74000,75000,76000,77000,78000,79000,80000,81000,82000,83000,84000,85000,86000,87000,88000,89000,90000,91000,92000,93000,94000,95000,96000,97000,98000,99000,100000,101000,102000,103000,104000,105000,106000,107000,108000,109000,110000,111000,112000,113000,114000,115000,116000,117000,118000,119000,120000,121000,122000,123000,124000,125000,126000,127000,128000,129000,130000,131000,132000,133000,134000,135000,136000,137000,138000,139000,140000,141000,142000,143000,144000,145000,146000,147000,148000,149000,150000,151000,152000,153000,154000,155000,156000,157000,158000,159000,160000,161000,162000,163000,164000,165000,166000,167000,168000,169000,170000,171000,172000,173000,174000,175000,176000,177000,178000,179000,180000,181000,182000,183000,184000,185000,186000,187000,188000,189000,190000,191000,192000,193000,194000,195000,196000,197000,198000,199000,199000,198000,197000,196000,195000,194000,193000,192000,191000,190000,189000,188000,187000,186000,185000,184000,183000,182000,181000,180000,179000,178000,177000,176000,175000,174000,173000,172000,171000,170000,169000,168000,167000,166000,165000,164000,163000,162000,161000,160000,159000,158000,157000,156000,155000,154000,153000,152000,151000,150000,149000,148000,147000,146000,145000,144000,143000,142000,141000,140000,139000,138000,137000,136000,135000,134000,133000,132000,131000,130000,129000,128000,127000,126000,125000,124000,123000,122000,121000,120000,119000,118000,117000,116000,115000,114000,113000,112000,111000,110000,109000,108000,107000,106000,105000,104000,103000,102000,101000,100000,99000,98000,97000,96000,95000,94000,93000,92000,91000,90000,89000,88000,87000,86000,85000,84000,83000,82000,81000,80000,79000,78000,77000,76000,75000,74000,73000,72000,71000,70000,69000,68000,67000,66000,65000,64000,63000,62000,61000,60000,59000,58000,57000,56000,55000,54000,53000,52000,51000,50000,49000,48000,47000,46000,45000,44000,43000,42000,41000,40000,39000,38000,37000,36000,35000,34000,33000,32000,31000,30000,29000,28000,27000,26000,25000,24000,23000,22000,21000,20000,19000,18000,17000,16000,15000,14000,13000,12000,11000,10000,9000,8000,7000,6000,5000,4000,3000,2000,1000,0],\"y\":{\"__ndarray__\":\"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\",\"dtype\":\"float64\",\"shape\":[400]}}},\"id\":\"49c455e0-78d1-4692-b993-745e76d901bc\",\"type\":\"ColumnDataSource\"},{\"attributes\":{\"data_source\":{\"id\":\"fb4f03f1-1f7b-4b12-9f5f-97dc8dd4e7f3\",\"type\":\"ColumnDataSource\"},\"glyph\":{\"id\":\"196493c3-96f0-4229-9a85-9b3509ca3a8d\",\"type\":\"Line\"},\"hover_glyph\":null,\"nonselection_glyph\":{\"id\":\"40c991bf-9599-48ae-a5ed-3855208fed8a\",\"type\":\"Line\"},\"selection_glyph\":null},\"id\":\"f19bfca9-a28e-45ad-a648-6b4cd70bfac7\",\"type\":\"GlyphRenderer\"},{\"attributes\":{\"callback\":null},\"id\":\"bc1c0b6d-b6e0-4c8b-bcb1-3235823b4dc6\",\"type\":\"DataRange1d\"},{\"attributes\":{\"label\":{\"value\":\"Maze_5_Count\"},\"renderers\":[{\"id\":\"3a0d7d8e-d86d-4982-9a79-93a6b845209c\",\"type\":\"GlyphRenderer\"}]},\"id\":\"44a36663-66fc-4565-a6e8-0c5e6321a6c7\",\"type\":\"LegendItem\"},{\"attributes\":{},\"id\":\"27fba800-2a70-4882-8280-a7e1c3a6826b\",\"type\":\"BasicTicker\"},{\"attributes\":{\"fill_alpha\":{\"value\":0.1},\"fill_color\":{\"value\":\"#a6cee3\"},\"line_alpha\":{\"value\":0.1},\"line_color\":{\"value\":\"#a6cee3\"},\"x\":{\"field\":\"x\"},\"y\":{\"field\":\"y\"}},\"id\":\"2d4b50b9-d309-4971-8fda-15d476cc6151\",\"type\":\"Patch\"},{\"attributes\":{\"line_alpha\":{\"value\":0.1},\"line_color\":{\"value\":\"#1f77b4\"},\"line_width\":{\"value\":2},\"x\":{\"field\":\"x\"},\"y\":{\"field\":\"y\"}},\"id\":\"40c991bf-9599-48ae-a5ed-3855208fed8a\",\"type\":\"Line\"},{\"attributes\":{\"plot\":null,\"text\":\"Options\"},\"id\":\"28a0068f-62e1-4f41-973a-3b19b0a7381e\",\"type\":\"Title\"},{\"attributes\":{},\"id\":\"25bc4bb0-ebee-437b-9331-a1af4dae9d4b\",\"type\":\"ToolEvents\"},{\"attributes\":{},\"id\":\"e9d5a41b-9a15-4eba-97cf-9f1117f498b4\",\"type\":\"BasicTicker\"},{\"attributes\":{\"axis_label\":\"Episode Reward\",\"formatter\":{\"id\":\"f1f22d47-a8aa-476d-947c-f51e07975c1b\",\"type\":\"BasicTickFormatter\"},\"plot\":{\"id\":\"3cc04f36-5d0b-4ea7-ba89-ebdaba25cf86\",\"subtype\":\"Figure\",\"type\":\"Plot\"},\"ticker\":{\"id\":\"27fba800-2a70-4882-8280-a7e1c3a6826b\",\"type\":\"BasicTicker\"}},\"id\":\"ce2ca408-bf77-4c5f-9098-a2cb630bce1c\",\"type\":\"LinearAxis\"},{\"attributes\":{\"plot\":{\"id\":\"3cc04f36-5d0b-4ea7-ba89-ebdaba25cf86\",\"subtype\":\"Figure\",\"type\":\"Plot\"},\"ticker\":{\"id\":\"e9d5a41b-9a15-4eba-97cf-9f1117f498b4\",\"type\":\"BasicTicker\"}},\"id\":\"5221c865-fffe-4c14-a41d-69ba419876f4\",\"type\":\"Grid\"},{\"attributes\":{\"axis_label\":\"T\",\"formatter\":{\"id\":\"dcb552fe-1f5b-4533-b56d-d8bdad603413\",\"type\":\"BasicTickFormatter\"},\"plot\":{\"id\":\"3cc04f36-5d0b-4ea7-ba89-ebdaba25cf86\",\"subtype\":\"Figure\",\"type\":\"Plot\"},\"ticker\":{\"id\":\"e9d5a41b-9a15-4eba-97cf-9f1117f498b4\",\"type\":\"BasicTicker\"}},\"id\":\"517d4838-1b57-4393-aa01-91698f402db2\",\"type\":\"LinearAxis\"},{\"attributes\":{\"callback\":null,\"end\":3.2,\"start\":-1.2},\"id\":\"222ae7de-713b-4c3f-a6d2-62cd2d11277a\",\"type\":\"Range1d\"},{\"attributes\":{\"items\":[{\"id\":\"44a36663-66fc-4565-a6e8-0c5e6321a6c7\",\"type\":\"LegendItem\"},{\"id\":\"3e15354d-9fae-410a-b827-8591bc3bdcb5\",\"type\":\"LegendItem\"},{\"id\":\"91da739b-ed69-44b3-b7a8-458874446996\",\"type\":\"LegendItem\"},{\"id\":\"2631475a-2b3a-4b9c-b94f-5529d0d597d5\",\"type\":\"LegendItem\"},{\"id\":\"400183a0-4875-473e-95bb-5c93b47df561\",\"type\":\"LegendItem\"},{\"id\":\"fe0b28d2-4dd8-4e0f-8f2b-f44f88959903\",\"type\":\"LegendItem\"},{\"id\":\"06a58bb1-2fb7-4022-b917-18e56f67689d\",\"type\":\"LegendItem\"},{\"id\":\"8e7719ee-feb3-4702-b6f6-40a547f9a8a9\",\"type\":\"LegendItem\"},{\"id\":\"9fd68c54-3c44-43ad-85be-35eeacbd7d0a\",\"type\":\"LegendItem\"},{\"id\":\"2edd1182-b000-4c53-9fbe-773586656e3c\",\"type\":\"LegendItem\"}],\"location\":[0,-30],\"plot\":{\"id\":\"3cc04f36-5d0b-4ea7-ba89-ebdaba25cf86\",\"subtype\":\"Figure\",\"type\":\"Plot\"}},\"id\":\"a212250e-caf2-4a4d-8fee-772ae30c19b7\",\"type\":\"Legend\"},{\"attributes\":{\"below\":[{\"id\":\"517d4838-1b57-4393-aa01-91698f402db2\",\"type\":\"LinearAxis\"}],\"left\":[{\"id\":\"ce2ca408-bf77-4c5f-9098-a2cb630bce1c\",\"type\":\"LinearAxis\"}],\"plot_height\":800,\"plot_width\":1200,\"renderers\":[{\"id\":\"517d4838-1b57-4393-aa01-91698f402db2\",\"type\":\"LinearAxis\"},{\"id\":\"5221c865-fffe-4c14-a41d-69ba419876f4\",\"type\":\"Grid\"},{\"id\":\"ce2ca408-bf77-4c5f-9098-a2cb630bce1c\",\"type\":\"LinearAxis\"},{\"id\":\"1c196887-52d8-4b7e-b1c8-8022a978f17e\",\"type\":\"Grid\"},{\"id\":\"cc9fa62f-e1c4-427a-bfde-77bc3f4350c1\",\"type\":\"BoxAnnotation\"},{\"id\":\"3b388fcd-ef72-45ba-bd8d-dbcd912d8604\",\"type\":\"GlyphRenderer\"},{\"id\":\"3a0d7d8e-d86d-4982-9a79-93a6b845209c\",\"type\":\"GlyphRenderer\"},{\"id\":\"c523fdfe-22c0-4598-81f9-5f51b116abc1\",\"type\":\"GlyphRenderer\"},{\"id\":\"69a72de9-a471-4685-a5fb-c97a7b910b70\",\"type\":\"GlyphRenderer\"},{\"id\":\"40efe34a-2622-4094-aaa1-4f8c5020d564\",\"type\":\"GlyphRenderer\"},{\"id\":\"adb46f8d-f8c0-48cf-98aa-9156e33c7e9e\",\"type\":\"GlyphRenderer\"},{\"id\":\"c2f600b0-863c-47b2-804a-ccad371591bf\",\"type\":\"GlyphRenderer\"},{\"id\":\"e84a9c57-4533-485c-82a2-60f449827a2a\",\"type\":\"GlyphRenderer\"},{\"id\":\"6959616e-2fb3-40cc-8e42-4b1fbb1143cd\",\"type\":\"GlyphRenderer\"},{\"id\":\"f19bfca9-a28e-45ad-a648-6b4cd70bfac7\",\"type\":\"GlyphRenderer\"},{\"id\":\"cd407a78-3f37-4efe-b8eb-bcceb7b472c0\",\"type\":\"GlyphRenderer\"},{\"id\":\"64c13002-2140-4dda-8fd1-6d58f48089a8\",\"type\":\"GlyphRenderer\"},{\"id\":\"8e86fb0f-e9ee-4639-8d7a-663e2ecb1e8a\",\"type\":\"GlyphRenderer\"},{\"id\":\"0f82a3d0-c02d-40c0-921f-4c3cde706f89\",\"type\":\"GlyphRenderer\"},{\"id\":\"e15108f4-b9c6-4adf-bb87-4afb0cf3fe57\",\"type\":\"GlyphRenderer\"},{\"id\":\"a8aa52b4-e63f-4c80-aed1-a12463074365\",\"type\":\"GlyphRenderer\"},{\"id\":\"0059c143-521b-4bac-96cd-42eed84e8d49\",\"type\":\"GlyphRenderer\"},{\"id\":\"40142722-4536-42c3-a3ef-d8c81b1eccad\",\"type\":\"GlyphRenderer\"},{\"id\":\"135d1693-0082-4990-a0e1-2dcf87f0a057\",\"type\":\"GlyphRenderer\"},{\"id\":\"50b09c29-9f9a-49ed-a938-c748cdbb7b20\",\"type\":\"GlyphRenderer\"},{\"id\":\"a212250e-caf2-4a4d-8fee-772ae30c19b7\",\"type\":\"Legend\"}],\"right\":[{\"id\":\"a212250e-caf2-4a4d-8fee-772ae30c19b7\",\"type\":\"Legend\"}],\"title\":{\"id\":\"28a0068f-62e1-4f41-973a-3b19b0a7381e\",\"type\":\"Title\"},\"tool_events\":{\"id\":\"25bc4bb0-ebee-437b-9331-a1af4dae9d4b\",\"type\":\"ToolEvents\"},\"toolbar\":{\"id\":\"44d12d08-f8b5-4a7e-ba55-7a8ece9dab93\",\"type\":\"Toolbar\"},\"toolbar_location\":\"above\",\"x_range\":{\"id\":\"bc1c0b6d-b6e0-4c8b-bcb1-3235823b4dc6\",\"type\":\"DataRange1d\"},\"y_range\":{\"id\":\"222ae7de-713b-4c3f-a6d2-62cd2d11277a\",\"type\":\"Range1d\"}},\"id\":\"3cc04f36-5d0b-4ea7-ba89-ebdaba25cf86\",\"subtype\":\"Figure\",\"type\":\"Plot\"},{\"attributes\":{\"active_drag\":\"auto\",\"active_scroll\":\"auto\",\"active_tap\":\"auto\",\"tools\":[{\"id\":\"9747e3a4-d9b1-4f1b-a796-3bff472789a4\",\"type\":\"PanTool\"},{\"id\":\"a3a60e37-3c58-4906-9a3a-0c09cfc96726\",\"type\":\"WheelZoomTool\"},{\"id\":\"2cd25e30-6cf1-42b9-84bd-4f6754e85ba1\",\"type\":\"BoxZoomTool\"},{\"id\":\"70e5360e-6e77-4022-b54c-7dd43d4988d9\",\"type\":\"SaveTool\"},{\"id\":\"62d69cad-760b-4369-9c4d-76e3d3ad3fe7\",\"type\":\"ResetTool\"},{\"id\":\"bc21c384-dc3b-4771-a86a-a31e04d0a056\",\"type\":\"HelpTool\"}]},\"id\":\"44d12d08-f8b5-4a7e-ba55-7a8ece9dab93\",\"type\":\"Toolbar\"},{\"attributes\":{\"use_scientific\":false},\"id\":\"dcb552fe-1f5b-4533-b56d-d8bdad603413\",\"type\":\"BasicTickFormatter\"},{\"attributes\":{\"dimension\":1,\"plot\":{\"id\":\"3cc04f36-5d0b-4ea7-ba89-ebdaba25cf86\",\"subtype\":\"Figure\",\"type\":\"Plot\"},\"ticker\":{\"id\":\"27fba800-2a70-4882-8280-a7e1c3a6826b\",\"type\":\"BasicTicker\"}},\"id\":\"1c196887-52d8-4b7e-b1c8-8022a978f17e\",\"type\":\"Grid\"},{\"attributes\":{\"plot\":{\"id\":\"3cc04f36-5d0b-4ea7-ba89-ebdaba25cf86\",\"subtype\":\"Figure\",\"type\":\"Plot\"}},\"id\":\"a3a60e37-3c58-4906-9a3a-0c09cfc96726\",\"type\":\"WheelZoomTool\"},{\"attributes\":{\"plot\":{\"id\":\"3cc04f36-5d0b-4ea7-ba89-ebdaba25cf86\",\"subtype\":\"Figure\",\"type\":\"Plot\"}},\"id\":\"9747e3a4-d9b1-4f1b-a796-3bff472789a4\",\"type\":\"PanTool\"},{\"attributes\":{\"fill_alpha\":{\"value\":0.1},\"fill_color\":{\"value\":\"#fb9a99\"},\"line_alpha\":{\"value\":0.1},\"line_color\":{\"value\":\"#fb9a99\"},\"x\":{\"field\":\"x\"},\"y\":{\"field\":\"y\"}},\"id\":\"c53648f2-f6db-4573-b9f2-238dcd793a53\",\"type\":\"Patch\"},{\"attributes\":{\"bottom_units\":\"screen\",\"fill_alpha\":{\"value\":0.5},\"fill_color\":{\"value\":\"lightgrey\"},\"left_units\":\"screen\",\"level\":\"overlay\",\"line_alpha\":{\"value\":1.0},\"line_color\":{\"value\":\"black\"},\"line_dash\":[4,4],\"line_width\":{\"value\":2},\"plot\":null,\"render_mode\":\"css\",\"right_units\":\"screen\",\"top_units\":\"screen\"},\"id\":\"cc9fa62f-e1c4-427a-bfde-77bc3f4350c1\",\"type\":\"BoxAnnotation\"},{\"attributes\":{\"callback\":null,\"column_names\":[\"x\",\"y\"],\"data\":{\"x\":[0,1000,2000,3000,4000,5000,6000,7000,8000,9000,10000,11000,12000,13000,14000,15000,16000,17000,18000,19000,20000,21000,22000,23000,24000,25000,26000,27000,28000,29000,30000,31000,32000,33000,34000,35000,36000,37000,38000,39000,40000,41000,42000,43000,44000,45000,46000,47000,48000,49000,50000,51000,52000,53000,54000,55000,56000,57000,58000,59000,60000,61000,62000,63000,64000,65000,66000,67000,68000,69000,70000,71000,72000,73000,74000,75000,76000,77000,78000,79000,80000,81000,82000,83000,84000,85000,86000,87000,88000,89000,90000,91000,92000,93000,94000,95000,96000,97000,98000,99000,100000,101000,102000,103000,104000,105000,106000,107000,108000,109000,110000,111000,112000,113000,114000,115000,116000,117000,118000,119000,120000,121000,122000,123000,124000,125000,126000,127000,128000,129000,130000,131000,132000,133000,134000,135000,136000,137000,138000,139000,140000,141000,142000,143000,144000,145000,146000,147000,148000,149000,150000,151000,152000,153000,154000,155000,156000,157000,158000,159000,160000,161000,162000,163000,164000,165000,166000,167000,168000,169000,170000,171000,172000,173000,174000,175000,176000,177000,178000,179000,180000,181000,182000,183000,184000,185000,186000,187000,188000,189000,190000,191000,192000,193000,194000,195000,196000,197000,198000,199000,199000,198000,197000,196000,195000,194000,193000,192000,191000,190000,189000,188000,187000,186000,185000,184000,183000,182000,181000,180000,179000,178000,177000,176000,175000,174000,173000,172000,171000,170000,169000,168000,167000,166000,165000,164000,163000,162000,161000,160000,159000,158000,157000,156000,155000,154000,153000,152000,151000,150000,149000,148000,147000,146000,145000,144000,143000,142000,141000,140000,139000,138000,137000,136000,135000,134000,133000,132000,131000,130000,129000,128000,127000,126000,125000,124000,123000,122000,121000,120000,119000,118000,117000,116000,115000,114000,113000,112000,111000,110000,109000,108000,107000,106000,105000,104000,103000,102000,101000,100000,99000,98000,97000,96000,95000,94000,93000,92000,91000,90000,89000,88000,87000,86000,85000,84000,83000,82000,81000,80000,79000,78000,77000,76000,75000,74000,73000,72000,71000,70000,69000,68000,67000,66000,65000,64000,63000,62000,61000,60000,59000,58000,57000,56000,55000,54000,53000,52000,51000,50000,49000,48000,47000,46000,45000,44000,43000,42000,41000,40000,39000,38000,37000,36000,35000,34000,33000,32000,31000,30000,29000,28000,27000,26000,25000,24000,23000,22000,21000,20000,19000,18000,17000,16000,15000,14000,13000,12000,11000,10000,9000,8000,7000,6000,5000,4000,3000,2000,1000,0],\"y\":{\"__ndarray__\":\"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\",\"dtype\":\"float64\",\"shape\":[400]}}},\"id\":\"aa56a079-a33e-49bb-b2c7-85a16688c0fa\",\"type\":\"ColumnDataSource\"},{\"attributes\":{\"line_alpha\":{\"value\":0.1},\"line_color\":{\"value\":\"#1f77b4\"},\"line_width\":{\"value\":2},\"x\":{\"field\":\"x\"},\"y\":{\"field\":\"y\"}},\"id\":\"db96faf6-3b03-4c58-8130-c00772760bcf\",\"type\":\"Line\"},{\"attributes\":{\"callback\":null,\"column_names\":[\"x\",\"y\"],\"data\":{\"x\":[0,1000,2000,3000,4000,5000,6000,7000,8000,9000,10000,11000,12000,13000,14000,15000,16000,17000,18000,19000,20000,21000,22000,23000,24000,25000,26000,27000,28000,29000,30000,31000,32000,33000,34000,35000,36000,37000,38000,39000,40000,41000,42000,43000,44000,45000,46000,47000,48000,49000,50000,51000,52000,53000,54000,55000,56000,57000,58000,59000,60000,61000,62000,63000,64000,65000,66000,67000,68000,69000,70000,71000,72000,73000,74000,75000,76000,77000,78000,79000,80000,81000,82000,83000,84000,85000,86000,87000,88000,89000,90000,91000,92000,93000,94000,95000,96000,97000,98000,99000,100000,101000,102000,103000,104000,105000,106000,107000,108000,109000,110000,111000,112000,113000,114000,115000,116000,117000,118000,119000,120000,121000,122000,123000,124000,125000,126000,127000,128000,129000,130000,131000,132000,133000,134000,135000,136000,137000,138000,139000,140000,141000,142000,143000,144000,145000,146000,147000,148000,149000,150000,151000,152000,153000,154000,155000,156000,157000,158000,159000,160000,161000,162000,163000,164000,165000,166000,167000,168000,169000,170000,171000,172000,173000,174000,175000,176000,177000,178000,179000,180000,181000,182000,183000,184000,185000,186000,187000,188000,189000,190000,191000,192000,193000,194000,195000,196000,197000,198000,199000,199000,198000,197000,196000,195000,194000,193000,192000,191000,190000,189000,188000,187000,186000,185000,184000,183000,182000,181000,180000,179000,178000,177000,176000,175000,174000,173000,172000,171000,170000,169000,168000,167000,166000,165000,164000,163000,162000,161000,160000,159000,158000,157000,156000,155000,154000,153000,152000,151000,150000,149000,148000,147000,146000,145000,144000,143000,142000,141000,140000,139000,138000,137000,136000,135000,134000,133000,132000,131000,130000,129000,128000,127000,126000,125000,124000,123000,122000,121000,120000,119000,118000,117000,116000,115000,114000,113000,112000,111000,110000,109000,108000,107000,106000,105000,104000,103000,102000,101000,100000,99000,98000,97000,96000,95000,94000,93000,92000,91000,90000,89000,88000,87000,86000,85000,84000,83000,82000,81000,80000,79000,78000,77000,76000,75000,74000,73000,72000,71000,70000,69000,68000,67000,66000,65000,64000,63000,62000,61000,60000,59000,58000,57000,56000,55000,54000,53000,52000,51000,50000,49000,48000,47000,46000,45000,44000,43000,42000,41000,40000,39000,38000,37000,36000,35000,34000,33000,32000,31000,30000,29000,28000,27000,26000,25000,24000,23000,22000,21000,20000,19000,18000,17000,16000,15000,14000,13000,12000,11000,10000,9000,8000,7000,6000,5000,4000,3000,2000,1000,0],\"y\":{\"__ndarray__\":\"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\",\"dtype\":\"float64\",\"shape\":[400]}}},\"id\":\"c63c0fa7-72ed-4dc5-b202-6738fea1462c\",\"type\":\"ColumnDataSource\"},{\"attributes\":{\"callback\":null,\"column_names\":[\"x\",\"y\"],\"data\":{\"x\":[0,1000,2000,3000,4000,5000,6000,7000,8000,9000,10000,11000,12000,13000,14000,15000,16000,17000,18000,19000,20000,21000,22000,23000,24000,25000,26000,27000,28000,29000,30000,31000,32000,33000,34000,35000,36000,37000,38000,39000,40000,41000,42000,43000,44000,45000,46000,47000,48000,49000,50000,51000,52000,53000,54000,55000,56000,57000,58000,59000,60000,61000,62000,63000,64000,65000,66000,67000,68000,69000,70000,71000,72000,73000,74000,75000,76000,77000,78000,79000,80000,81000,82000,83000,84000,85000,86000,87000,88000,89000,90000,91000,92000,93000,94000,95000,96000,97000,98000,99000,100000,101000,102000,103000,104000,105000,106000,107000,108000,109000,110000,111000,112000,113000,114000,115000,116000,117000,118000,119000,120000,121000,122000,123000,124000,125000,126000,127000,128000,129000,130000,131000,132000,133000,134000,135000,136000,137000,138000,139000,140000,141000,142000,143000,144000,145000,146000,147000,148000,149000,150000,151000,152000,153000,154000,155000,156000,157000,158000,159000,160000,161000,162000,163000,164000,165000,166000,167000,168000,169000,170000,171000,172000,173000,174000,175000,176000,177000,178000,179000,180000,181000,182000,183000,184000,185000,186000,187000,188000,189000,190000,191000,192000,193000,194000,195000,196000,197000,198000,199000,199000,198000,197000,196000,195000,194000,193000,192000,191000,190000,189000,188000,187000,186000,185000,184000,183000,182000,181000,180000,179000,178000,177000,176000,175000,174000,173000,172000,171000,170000,169000,168000,167000,166000,165000,164000,163000,162000,161000,160000,159000,158000,157000,156000,155000,154000,153000,152000,151000,150000,149000,148000,147000,146000,145000,144000,143000,142000,141000,140000,139000,138000,137000,136000,135000,134000,133000,132000,131000,130000,129000,128000,127000,126000,125000,124000,123000,122000,121000,120000,119000,118000,117000,116000,115000,114000,113000,112000,111000,110000,109000,108000,107000,106000,105000,104000,103000,102000,101000,100000,99000,98000,97000,96000,95000,94000,93000,92000,91000,90000,89000,88000,87000,86000,85000,84000,83000,82000,81000,80000,79000,78000,77000,76000,75000,74000,73000,72000,71000,70000,69000,68000,67000,66000,65000,64000,63000,62000,61000,60000,59000,58000,57000,56000,55000,54000,53000,52000,51000,50000,49000,48000,47000,46000,45000,44000,43000,42000,41000,40000,39000,38000,37000,36000,35000,34000,33000,32000,31000,30000,29000,28000,27000,26000,25000,24000,23000,22000,21000,20000,19000,18000,17000,16000,15000,14000,13000,12000,11000,10000,9000,8000,7000,6000,5000,4000,3000,2000,1000,0],\"y\":{\"__ndarray__\":\"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\",\"dtype\":\"float64\",\"shape\":[400]}}},\"id\":\"df6a398a-fbf5-4158-ac71-a4ee9ba97fc8\",\"type\":\"ColumnDataSource\"},{\"attributes\":{\"plot\":{\"id\":\"3cc04f36-5d0b-4ea7-ba89-ebdaba25cf86\",\"subtype\":\"Figure\",\"type\":\"Plot\"}},\"id\":\"bc21c384-dc3b-4771-a86a-a31e04d0a056\",\"type\":\"HelpTool\"},{\"attributes\":{\"data_source\":{\"id\":\"aa56a079-a33e-49bb-b2c7-85a16688c0fa\",\"type\":\"ColumnDataSource\"},\"glyph\":{\"id\":\"2d4b50b9-d309-4971-8fda-15d476cc6151\",\"type\":\"Patch\"},\"hover_glyph\":null,\"nonselection_glyph\":{\"id\":\"b893d9cf-5bc0-4b18-a7b6-f003d8229c2c\",\"type\":\"Patch\"},\"selection_glyph\":null},\"id\":\"3b388fcd-ef72-45ba-bd8d-dbcd912d8604\",\"type\":\"GlyphRenderer\"},{\"attributes\":{\"plot\":{\"id\":\"3cc04f36-5d0b-4ea7-ba89-ebdaba25cf86\",\"subtype\":\"Figure\",\"type\":\"Plot\"}},\"id\":\"62d69cad-760b-4369-9c4d-76e3d3ad3fe7\",\"type\":\"ResetTool\"},{\"attributes\":{\"plot\":{\"id\":\"3cc04f36-5d0b-4ea7-ba89-ebdaba25cf86\",\"subtype\":\"Figure\",\"type\":\"Plot\"}},\"id\":\"70e5360e-6e77-4022-b54c-7dd43d4988d9\",\"type\":\"SaveTool\"},{\"attributes\":{\"overlay\":{\"id\":\"cc9fa62f-e1c4-427a-bfde-77bc3f4350c1\",\"type\":\"BoxAnnotation\"},\"plot\":{\"id\":\"3cc04f36-5d0b-4ea7-ba89-ebdaba25cf86\",\"subtype\":\"Figure\",\"type\":\"Plot\"}},\"id\":\"2cd25e30-6cf1-42b9-84bd-4f6754e85ba1\",\"type\":\"BoxZoomTool\"},{\"attributes\":{\"fill_alpha\":{\"value\":0.1},\"fill_color\":{\"value\":\"#1f77b4\"},\"line_alpha\":{\"value\":0.1},\"line_color\":{\"value\":\"#1f77b4\"},\"x\":{\"field\":\"x\"},\"y\":{\"field\":\"y\"}},\"id\":\"99922868-972d-4cdb-9a4e-defc2ccbbb41\",\"type\":\"Patch\"},{\"attributes\":{\"callback\":null,\"column_names\":[\"x\",\"y\"],\"data\":{\"x\":[0,1000,2000,3000,4000,5000,6000,7000,8000,9000,10000,11000,12000,13000,14000,15000,16000,17000,18000,19000,20000,21000,22000,23000,24000,25000,26000,27000,28000,29000,30000,31000,32000,33000,34000,35000,36000,37000,38000,39000,40000,41000,42000,43000,44000,45000,46000,47000,48000,49000,50000,51000,52000,53000,54000,55000,56000,57000,58000,59000,60000,61000,62000,63000,64000,65000,66000,67000,68000,69000,70000,71000,72000,73000,74000,75000,76000,77000,78000,79000,80000,81000,82000,83000,84000,85000,86000,87000,88000,89000,90000,91000,92000,93000,94000,95000,96000,97000,98000,99000,100000,101000,102000,103000,104000,105000,106000,107000,108000,109000,110000,111000,112000,113000,114000,115000,116000,117000,118000,119000,120000,121000,122000,123000,124000,125000,126000,127000,128000,129000,130000,131000,132000,133000,134000,135000,136000,137000,138000,139000,140000,141000,142000,143000,144000,145000,146000,147000,148000,149000,150000,151000,152000,153000,154000,155000,156000,157000,158000,159000,160000,161000,162000,163000,164000,165000,166000,167000,168000,169000,170000,171000,172000,173000,174000,175000,176000,177000,178000,179000,180000,181000,182000,183000,184000,185000,186000,187000,188000,189000,190000,191000,192000,193000,194000,195000,196000,197000,198000,199000,199000,198000,197000,196000,195000,194000,193000,192000,191000,190000,189000,188000,187000,186000,185000,184000,183000,182000,181000,180000,179000,178000,177000,176000,175000,174000,173000,172000,171000,170000,169000,168000,167000,166000,165000,164000,163000,162000,161000,160000,159000,158000,157000,156000,155000,154000,153000,152000,151000,150000,149000,148000,147000,146000,145000,144000,143000,142000,141000,140000,139000,138000,137000,136000,135000,134000,133000,132000,131000,130000,129000,128000,127000,126000,125000,124000,123000,122000,121000,120000,119000,118000,117000,116000,115000,114000,113000,112000,111000,110000,109000,108000,107000,106000,105000,104000,103000,102000,101000,100000,99000,98000,97000,96000,95000,94000,93000,92000,91000,90000,89000,88000,87000,86000,85000,84000,83000,82000,81000,80000,79000,78000,77000,76000,75000,74000,73000,72000,71000,70000,69000,68000,67000,66000,65000,64000,63000,62000,61000,60000,59000,58000,57000,56000,55000,54000,53000,52000,51000,50000,49000,48000,47000,46000,45000,44000,43000,42000,41000,40000,39000,38000,37000,36000,35000,34000,33000,32000,31000,30000,29000,28000,27000,26000,25000,24000,23000,22000,21000,20000,19000,18000,17000,16000,15000,14000,13000,12000,11000,10000,9000,8000,7000,6000,5000,4000,3000,2000,1000,0],\"y\":{\"__ndarray__\":\"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\",\"dtype\":\"float64\",\"shape\":[400]}}},\"id\":\"a6ca63aa-8e7b-41f5-b8b2-48181c678d23\",\"type\":\"ColumnDataSource\"},{\"attributes\":{\"fill_alpha\":{\"value\":0.1},\"fill_color\":{\"value\":\"#1f77b4\"},\"line_alpha\":{\"value\":0.1},\"line_color\":{\"value\":\"#1f77b4\"},\"x\":{\"field\":\"x\"},\"y\":{\"field\":\"y\"}},\"id\":\"4d07460c-5e0a-49a8-83a5-7ff0a8c7c16e\",\"type\":\"Patch\"},{\"attributes\":{\"callback\":null,\"column_names\":[\"x\",\"y\"],\"data\":{\"x\":[0,1000,2000,3000,4000,5000,6000,7000,8000,9000,10000,11000,12000,13000,14000,15000,16000,17000,18000,19000,20000,21000,22000,23000,24000,25000,26000,27000,28000,29000,30000,31000,32000,33000,34000,35000,36000,37000,38000,39000,40000,41000,42000,43000,44000,45000,46000,47000,48000,49000,50000,51000,52000,53000,54000,55000,56000,57000,58000,59000,60000,61000,62000,63000,64000,65000,66000,67000,68000,69000,70000,71000,72000,73000,74000,75000,76000,77000,78000,79000,80000,81000,82000,83000,84000,85000,86000,87000,88000,89000,90000,91000,92000,93000,94000,95000,96000,97000,98000,99000,100000,101000,102000,103000,104000,105000,106000,107000,108000,109000,110000,111000,112000,113000,114000,115000,116000,117000,118000,119000,120000,121000,122000,123000,124000,125000,126000,127000,128000,129000,130000,131000,132000,133000,134000,135000,136000,137000,138000,139000,140000,141000,142000,143000,144000,145000,146000,147000,148000,149000,150000,151000,152000,153000,154000,155000,156000,157000,158000,159000,160000,161000,162000,163000,164000,165000,166000,167000,168000,169000,170000,171000,172000,173000,174000,175000,176000,177000,178000,179000,180000,181000,182000,183000,184000,185000,186000,187000,188000,189000,190000,191000,192000,193000,194000,195000,196000,197000,198000,199000],\"y\":{\"__ndarray__\":\"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\",\"dtype\":\"float64\",\"shape\":[200]}}},\"id\":\"f3e2ef5a-2397-42ef-b81a-812ba2b5be32\",\"type\":\"ColumnDataSource\"},{\"attributes\":{\"line_color\":{\"value\":\"#b2df8a\"},\"line_width\":{\"value\":2},\"x\":{\"field\":\"x\"},\"y\":{\"field\":\"y\"}},\"id\":\"4529339f-fb11-421d-a39f-0c0e6451b08f\",\"type\":\"Line\"},{\"attributes\":{\"line_alpha\":{\"value\":0.1},\"line_color\":{\"value\":\"#1f77b4\"},\"line_width\":{\"value\":2},\"x\":{\"field\":\"x\"},\"y\":{\"field\":\"y\"}},\"id\":\"8cedaa3b-fa63-4fd3-a4e6-8036b32118c3\",\"type\":\"Line\"},{\"attributes\":{\"fill_alpha\":{\"value\":0.1},\"fill_color\":{\"value\":\"#1f77b4\"},\"line_alpha\":{\"value\":0.1},\"line_color\":{\"value\":\"#1f77b4\"},\"x\":{\"field\":\"x\"},\"y\":{\"field\":\"y\"}},\"id\":\"fa90651c-4509-4342-891a-e97c8e60e14b\",\"type\":\"Patch\"},{\"attributes\":{},\"id\":\"f1f22d47-a8aa-476d-947c-f51e07975c1b\",\"type\":\"BasicTickFormatter\"},{\"attributes\":{\"data_source\":{\"id\":\"f3e2ef5a-2397-42ef-b81a-812ba2b5be32\",\"type\":\"ColumnDataSource\"},\"glyph\":{\"id\":\"a0391a8e-c810-4c93-96c7-14650e030533\",\"type\":\"Line\"},\"hover_glyph\":null,\"nonselection_glyph\":{\"id\":\"8cedaa3b-fa63-4fd3-a4e6-8036b32118c3\",\"type\":\"Line\"},\"selection_glyph\":null},\"id\":\"3a0d7d8e-d86d-4982-9a79-93a6b845209c\",\"type\":\"GlyphRenderer\"},{\"attributes\":{\"line_color\":{\"value\":\"#a6cee3\"},\"line_width\":{\"value\":2},\"x\":{\"field\":\"x\"},\"y\":{\"field\":\"y\"}},\"id\":\"a0391a8e-c810-4c93-96c7-14650e030533\",\"type\":\"Line\"},{\"attributes\":{\"data_source\":{\"id\":\"49c455e0-78d1-4692-b993-745e76d901bc\",\"type\":\"ColumnDataSource\"},\"glyph\":{\"id\":\"3368136e-baa3-4705-a5b0-7d4fc21dcafc\",\"type\":\"Patch\"},\"hover_glyph\":null,\"nonselection_glyph\":{\"id\":\"4d07460c-5e0a-49a8-83a5-7ff0a8c7c16e\",\"type\":\"Patch\"},\"selection_glyph\":null},\"id\":\"c523fdfe-22c0-4598-81f9-5f51b116abc1\",\"type\":\"GlyphRenderer\"},{\"attributes\":{\"fill_alpha\":{\"value\":0.1},\"fill_color\":{\"value\":\"#1f78b4\"},\"line_alpha\":{\"value\":0.1},\"line_color\":{\"value\":\"#1f78b4\"},\"x\":{\"field\":\"x\"},\"y\":{\"field\":\"y\"}},\"id\":\"3368136e-baa3-4705-a5b0-7d4fc21dcafc\",\"type\":\"Patch\"},{\"attributes\":{\"fill_alpha\":{\"value\":0.1},\"fill_color\":{\"value\":\"#fdbf6f\"},\"line_alpha\":{\"value\":0.1},\"line_color\":{\"value\":\"#fdbf6f\"},\"x\":{\"field\":\"x\"},\"y\":{\"field\":\"y\"}},\"id\":\"dc47015c-c47f-4228-8f53-74ffeb9dc2f3\",\"type\":\"Patch\"},{\"attributes\":{\"callback\":null,\"column_names\":[\"x\",\"y\"],\"data\":{\"x\":[0,1000,2000,3000,4000,5000,6000,7000,8000,9000,10000,11000,12000,13000,14000,15000,16000,17000,18000,19000,20000,21000,22000,23000,24000,25000,26000,27000,28000,29000,30000,31000,32000,33000,34000,35000,36000,37000,38000,39000,40000,41000,42000,43000,44000,45000,46000,47000,48000,49000,50000,51000,52000,53000,54000,55000,56000,57000,58000,59000,60000,61000,62000,63000,64000,65000,66000,67000,68000,69000,70000,71000,72000,73000,74000,75000,76000,77000,78000,79000,80000,81000,82000,83000,84000,85000,86000,87000,88000,89000,90000,91000,92000,93000,94000,95000,96000,97000,98000,99000,100000,101000,102000,103000,104000,105000,106000,107000,108000,109000,110000,111000,112000,113000,114000,115000,116000,117000,118000,119000,120000,121000,122000,123000,124000,125000,126000,127000,128000,129000,130000,131000,132000,133000,134000,135000,136000,137000,138000,139000,140000,141000,142000,143000,144000,145000,146000,147000,148000,149000,150000,151000,152000,153000,154000,155000,156000,157000,158000,159000,160000,161000,162000,163000,164000,165000,166000,167000,168000,169000,170000,171000,172000,173000,174000,175000,176000,177000,178000,179000,180000,181000,182000,183000,184000,185000,186000,187000,188000,189000,190000,191000,192000,193000,194000,195000,196000,197000,198000,199000],\"y\":{\"__ndarray__\":\"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\",\"dtype\":\"float64\",\"shape\":[200]}}},\"id\":\"8248a190-f89a-43c1-a956-e13dfdb967e9\",\"type\":\"ColumnDataSource\"},{\"attributes\":{\"line_color\":{\"value\":\"#1f78b4\"},\"line_width\":{\"value\":2},\"x\":{\"field\":\"x\"},\"y\":{\"field\":\"y\"}},\"id\":\"ce60df1c-2c22-4bd7-885a-d0d650b6f163\",\"type\":\"Line\"},{\"attributes\":{\"callback\":null,\"column_names\":[\"x\",\"y\"],\"data\":{\"x\":[0,1000,2000,3000,4000,5000,6000,7000,8000,9000,10000,11000,12000,13000,14000,15000,16000,17000,18000,19000,20000,21000,22000,23000,24000,25000,26000,27000,28000,29000,30000,31000,32000,33000,34000,35000,36000,37000,38000,39000,40000,41000,42000,43000,44000,45000,46000,47000,48000,49000,50000,51000,52000,53000,54000,55000,56000,57000,58000,59000,60000,61000,62000,63000,64000,65000,66000,67000,68000,69000,70000,71000,72000,73000,74000,75000,76000,77000,78000,79000,80000,81000,82000,83000,84000,85000,86000,87000,88000,89000,90000,91000,92000,93000,94000,95000,96000,97000,98000,99000,100000,101000,102000,103000,104000,105000,106000,107000,108000,109000,110000,111000,112000,113000,114000,115000,116000,117000,118000,119000,120000,121000,122000,123000,124000,125000,126000,127000,128000,129000,130000,131000,132000,133000,134000,135000,136000,137000,138000,139000,140000,141000,142000,143000,144000,145000,146000,147000,148000,149000,150000,151000,152000,153000,154000,155000,156000,157000,158000,159000,160000,161000,162000,163000,164000,165000,166000,167000,168000,169000,170000,171000,172000,173000,174000,175000,176000,177000,178000,179000,180000,181000,182000,183000,184000,185000,186000,187000,188000,189000,190000,191000,192000,193000,194000,195000,196000,197000,198000,199000,199000,198000,197000,196000,195000,194000,193000,192000,191000,190000,189000,188000,187000,186000,185000,184000,183000,182000,181000,180000,179000,178000,177000,176000,175000,174000,173000,172000,171000,170000,169000,168000,167000,166000,165000,164000,163000,162000,161000,160000,159000,158000,157000,156000,155000,154000,153000,152000,151000,150000,149000,148000,147000,146000,145000,144000,143000,142000,141000,140000,139000,138000,137000,136000,135000,134000,133000,132000,131000,130000,129000,128000,127000,126000,125000,124000,123000,122000,121000,120000,119000,118000,117000,116000,115000,114000,113000,112000,111000,110000,109000,108000,107000,106000,105000,104000,103000,102000,101000,100000,99000,98000,97000,96000,95000,94000,93000,92000,91000,90000,89000,88000,87000,86000,85000,84000,83000,82000,81000,80000,79000,78000,77000,76000,75000,74000,73000,72000,71000,70000,69000,68000,67000,66000,65000,64000,63000,62000,61000,60000,59000,58000,57000,56000,55000,54000,53000,52000,51000,50000,49000,48000,47000,46000,45000,44000,43000,42000,41000,40000,39000,38000,37000,36000,35000,34000,33000,32000,31000,30000,29000,28000,27000,26000,25000,24000,23000,22000,21000,20000,19000,18000,17000,16000,15000,14000,13000,12000,11000,10000,9000,8000,7000,6000,5000,4000,3000,2000,1000,0],\"y\":{\"__ndarray__\":\"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\",\"dtype\":\"float64\",\"shape\":[400]}}},\"id\":\"1cb2d605-0d9f-4589-a138-2dac965f7b0e\",\"type\":\"ColumnDataSource\"},{\"attributes\":{\"fill_alpha\":{\"value\":0.1},\"fill_color\":{\"value\":\"#b2df8a\"},\"line_alpha\":{\"value\":0.1},\"line_color\":{\"value\":\"#b2df8a\"},\"x\":{\"field\":\"x\"},\"y\":{\"field\":\"y\"}},\"id\":\"ea17ce70-1066-4bc6-af0d-bd448796cef1\",\"type\":\"Patch\"},{\"attributes\":{\"line_alpha\":{\"value\":0.1},\"line_color\":{\"value\":\"#1f77b4\"},\"line_width\":{\"value\":2},\"x\":{\"field\":\"x\"},\"y\":{\"field\":\"y\"}},\"id\":\"c1c1a262-8343-497e-bd9f-6d7a1515b413\",\"type\":\"Line\"},{\"attributes\":{\"data_source\":{\"id\":\"c6a322ea-f40a-4c48-9151-8fb0dbe0305f\",\"type\":\"ColumnDataSource\"},\"glyph\":{\"id\":\"4529339f-fb11-421d-a39f-0c0e6451b08f\",\"type\":\"Line\"},\"hover_glyph\":null,\"nonselection_glyph\":{\"id\":\"6b0d98d1-4dfa-481a-b521-76755c4fa1da\",\"type\":\"Line\"},\"selection_glyph\":null},\"id\":\"adb46f8d-f8c0-48cf-98aa-9156e33c7e9e\",\"type\":\"GlyphRenderer\"},{\"attributes\":{\"data_source\":{\"id\":\"8248a190-f89a-43c1-a956-e13dfdb967e9\",\"type\":\"ColumnDataSource\"},\"glyph\":{\"id\":\"ce60df1c-2c22-4bd7-885a-d0d650b6f163\",\"type\":\"Line\"},\"hover_glyph\":null,\"nonselection_glyph\":{\"id\":\"c1c1a262-8343-497e-bd9f-6d7a1515b413\",\"type\":\"Line\"},\"selection_glyph\":null},\"id\":\"69a72de9-a471-4685-a5fb-c97a7b910b70\",\"type\":\"GlyphRenderer\"},{\"attributes\":{\"data_source\":{\"id\":\"1cb2d605-0d9f-4589-a138-2dac965f7b0e\",\"type\":\"ColumnDataSource\"},\"glyph\":{\"id\":\"ea17ce70-1066-4bc6-af0d-bd448796cef1\",\"type\":\"Patch\"},\"hover_glyph\":null,\"nonselection_glyph\":{\"id\":\"fa90651c-4509-4342-891a-e97c8e60e14b\",\"type\":\"Patch\"},\"selection_glyph\":null},\"id\":\"40efe34a-2622-4094-aaa1-4f8c5020d564\",\"type\":\"GlyphRenderer\"},{\"attributes\":{\"callback\":null,\"column_names\":[\"x\",\"y\"],\"data\":{\"x\":[0,1000,2000,3000,4000,5000,6000,7000,8000,9000,10000,11000,12000,13000,14000,15000,16000,17000,18000,19000,20000,21000,22000,23000,24000,25000,26000,27000,28000,29000,30000,31000,32000,33000,34000,35000,36000,37000,38000,39000,40000,41000,42000,43000,44000,45000,46000,47000,48000,49000,50000,51000,52000,53000,54000,55000,56000,57000,58000,59000,60000,61000,62000,63000,64000,65000,66000,67000,68000,69000,70000,71000,72000,73000,74000,75000,76000,77000,78000,79000,80000,81000,82000,83000,84000,85000,86000,87000,88000,89000,90000,91000,92000,93000,94000,95000,96000,97000,98000,99000,100000,101000,102000,103000,104000,105000,106000,107000,108000,109000,110000,111000,112000,113000,114000,115000,116000,117000,118000,119000,120000,121000,122000,123000,124000,125000,126000,127000,128000,129000,130000,131000,132000,133000,134000,135000,136000,137000,138000,139000,140000,141000,142000,143000,144000,145000,146000,147000,148000,149000,150000,151000,152000,153000,154000,155000,156000,157000,158000,159000,160000,161000,162000,163000,164000,165000,166000,167000,168000,169000,170000,171000,172000,173000,174000,175000,176000,177000,178000,179000,180000,181000,182000,183000,184000,185000,186000,187000,188000,189000,190000,191000,192000,193000,194000,195000,196000,197000,198000,199000],\"y\":{\"__ndarray__\":\"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\",\"dtype\":\"float64\",\"shape\":[200]}}},\"id\":\"c6a322ea-f40a-4c48-9151-8fb0dbe0305f\",\"type\":\"ColumnDataSource\"},{\"attributes\":{\"data_source\":{\"id\":\"feb23ac7-07a3-47fa-b0de-75077669d287\",\"type\":\"ColumnDataSource\"},\"glyph\":{\"id\":\"c53648f2-f6db-4573-b9f2-238dcd793a53\",\"type\":\"Patch\"},\"hover_glyph\":null,\"nonselection_glyph\":{\"id\":\"69ccfcce-709a-4785-8ced-79217a56740d\",\"type\":\"Patch\"},\"selection_glyph\":null},\"id\":\"6959616e-2fb3-40cc-8e42-4b1fbb1143cd\",\"type\":\"GlyphRenderer\"},{\"attributes\":{\"callback\":null,\"column_names\":[\"x\",\"y\"],\"data\":{\"x\":[0,1000,2000,3000,4000,5000,6000,7000,8000,9000,10000,11000,12000,13000,14000,15000,16000,17000,18000,19000,20000,21000,22000,23000,24000,25000,26000,27000,28000,29000,30000,31000,32000,33000,34000,35000,36000,37000,38000,39000,40000,41000,42000,43000,44000,45000,46000,47000,48000,49000,50000,51000,52000,53000,54000,55000,56000,57000,58000,59000,60000,61000,62000,63000,64000,65000,66000,67000,68000,69000,70000,71000,72000,73000,74000,75000,76000,77000,78000,79000,80000,81000,82000,83000,84000,85000,86000,87000,88000,89000,90000,91000,92000,93000,94000,95000,96000,97000,98000,99000,100000,101000,102000,103000,104000,105000,106000,107000,108000,109000,110000,111000,112000,113000,114000,115000,116000,117000,118000,119000,120000,121000,122000,123000,124000,125000,126000,127000,128000,129000,130000,131000,132000,133000,134000,135000,136000,137000,138000,139000,140000,141000,142000,143000,144000,145000,146000,147000,148000,149000,150000,151000,152000,153000,154000,155000,156000,157000,158000,159000,160000,161000,162000,163000,164000,165000,166000,167000,168000,169000,170000,171000,172000,173000,174000,175000,176000,177000,178000,179000,180000,181000,182000,183000,184000,185000,186000,187000,188000,189000,190000,191000,192000,193000,194000,195000,196000,197000,198000,199000],\"y\":{\"__ndarray__\":\"AAAAAAAAAABxhG3WmlzsP3GEbdaaXPw/n6uMJO3HA0AncenrR8YDQK82RrOixANADIKxQVHuA0CyaGfOG1cEQFUMVHWaOgRAYVuIRCDUBEBbOatS7MgEQNAI6NMmbgRA18I9Lv5cBEBRCHIQk0AEQC3IA971KQRAKZusmw1QBEDk6WLswa0EQKvo25P0sARAUUU9VFMjBEA5pJp+JKYCQFDkHRjNvQBAtcL7S0sS/T/NvLtn/Kj4P+S2e4OtP/Q/uHbcwVhH8z81TqTlxK/3P0XOwBniTgBA/6Mjkde3A0BthsTVB10DQJGDuD3MQQJA38LMPfMmAUALGt5WOfX/P+i7TG5pYfw/kXIADhlh+T9YsN7do6n2PxzuvK0u8vM/4Subfbk68T9z8AFW4jbwPzlCoEe3PPE/8JsAzWVC8j+p9WBSFEjzP2BPwdfCTfQ/aKj9xh1T9T84yZbBfKD0P5dklbq1o/Q/9f+Ts+6m9D9Vm5KsJ6r0PxZdvum/aPQ/Mc+rpfAS9D8cUUUSBSzxP1uKqPH4Ruw/f3LGvuc15j+jWuSL1iTgP08EYG4aBNw/k2KcNwoD4D9ZGq5CTgzkPx3Sv02SFeg/44nRWNYe7D8YgV8avMfuP0VA2SltBfA/Uy6RTAkF8D9iHElvpQTwP3AKAZJBBPA/r7DgfsAD8D+9R2THcAPwP3hOXzqWA/A/MlVarbsD8D/sW1Ug4QPwP9CN1j4KBPA/czHzCjEE8D9XJJFm2APwPycQoA1oA/A/9/uutPcC8D/I571bhwLwP6UMdIv2ou8/lSda96Sf7T81muzZt5zrP9MMf7zKmek/c38Rn92W5z8zbo8EMJPlP+hKw/w/Lec/v+UmAHgw6T+VgIoDsDPrP2sb7gboNu0/LekMd1c67z/5lrfmTQPwP73dJ165A/A/r+9vOx0E8D+hAbgYgQTwP5MTAPbkBPA/R7dLQDqg+T/Yum96BVb4PwD2RIdPqvY/KTEalJn+9D9RbO+g41LzP7Z6immB3PI/O8qjK1/X+D8QDIIqgNz4P1mg8pIpm/g/EB2WSf/a9z/VdXqqXjoAQOEy+CTMVABAUxcJD2bq/T9ggB1Gib37P8B3jH2eevw/4/ke7aMx+j8EYgxUFiT4PwUH6qwrevc/4etAQhxA9z+1Uc3leaD4P5tc96x3Qvk/EeDZNvww+T9TzqimoS8BQJW/9olMnABAkOTFB+M8AECb0zDx4vH/P+xR92KHff8/4wb/7qUF/j8bUShSlRD9P8Sd0zqY7Ps/kQvsunQ8+z+M0K0VKkP5PwvXBFiG+vc/b5G3aAQn9z/TS2p5glP2P3lG69iFyfk/yNNFOP8A+T9/WfS7WTj4P1sJFAcVlvs/Ux8YaharAUBRRgZMvsUBQHXoFCnVjQFA1XgjBnmQAUCvF5iVFmQFQDyrzhh6LAVAjf70XrX0A0AL85ez7t8CQARv4qe9mgBAMBBE3Yoe/z8jgTl4h+//P48f1EYiNQBA26RM4lJJAUDAvL4SKfIDQFecbWGaUAVAwIOMDzx0BEBX9N9FwqYFQGnsz+03QwVAgcIeQgApBUDpfnE3bJIFQOCBHXRjxgRAFLgNfcGnBEAn+oWLtRkHQHR+3ZWNbgZA60svDLWJBkApAUvDGBIGQBtqEw9e2gVAxAk8daA1BUDVBWxXQNkFQIjEwobi+QZAiaKuqEKXBkA5TXPu30QGQDBctWhpKgZAOytwh2eBBkCg6Q59kQAGQLfizJ+rOgdA6NPX6rJpBkBpkRhLpVMGQCNTPGDfagdAQBlcanjDBkBgpxdXpqEGQHVo3+q25gVA4biM3lqSBkA8O5//a78GQOR3CdEAuwVAV086TJuMBUAz3OuRRzEEQDM8XmfxpQNA3kEVEMHuAkBkc2bW7rMCQJz6X//0FAVA6eqOa1CBBkDPma/qlJ8GQCX4wuG9hAVABjMgd0ZuBEAcC7i7piEEQBb7JPo4XgNAg8aPBrxiAkDNAtkY1owBQMBYwYXySwFAoDweGcLrAUC8VWRIFfQBQBOJkSFurAFAPOZ1nbKTAUDwkKlrVdUAQDhOeRAHIwFAHKdxMSs1AEAzwMwokMj+P9UssTwGjP0/ZeV7WJvq/D/BZkGsDmr8Pw==\",\"dtype\":\"float64\",\"shape\":[200]}}},\"id\":\"e2111281-7898-4d0a-9502-5adbf99bbe09\",\"type\":\"ColumnDataSource\"},{\"attributes\":{\"fill_alpha\":{\"value\":0.1},\"fill_color\":{\"value\":\"#1f77b4\"},\"line_alpha\":{\"value\":0.1},\"line_color\":{\"value\":\"#1f77b4\"},\"x\":{\"field\":\"x\"},\"y\":{\"field\":\"y\"}},\"id\":\"69ccfcce-709a-4785-8ced-79217a56740d\",\"type\":\"Patch\"},{\"attributes\":{\"fill_alpha\":{\"value\":0.1},\"fill_color\":{\"value\":\"#e31a1c\"},\"line_alpha\":{\"value\":0.1},\"line_color\":{\"value\":\"#e31a1c\"},\"x\":{\"field\":\"x\"},\"y\":{\"field\":\"y\"}},\"id\":\"4428bac7-403c-48b1-9367-c0ee39a49eaa\",\"type\":\"Patch\"},{\"attributes\":{\"line_alpha\":{\"value\":0.1},\"line_color\":{\"value\":\"#1f77b4\"},\"line_width\":{\"value\":2},\"x\":{\"field\":\"x\"},\"y\":{\"field\":\"y\"}},\"id\":\"6b0d98d1-4dfa-481a-b521-76755c4fa1da\",\"type\":\"Line\"},{\"attributes\":{\"data_source\":{\"id\":\"0f394d6b-9ed1-4513-996b-af498159a87b\",\"type\":\"ColumnDataSource\"},\"glyph\":{\"id\":\"a2e15134-943c-4063-bed5-37e68363407f\",\"type\":\"Patch\"},\"hover_glyph\":null,\"nonselection_glyph\":{\"id\":\"99922868-972d-4cdb-9a4e-defc2ccbbb41\",\"type\":\"Patch\"},\"selection_glyph\":null},\"id\":\"c2f600b0-863c-47b2-804a-ccad371591bf\",\"type\":\"GlyphRenderer\"},{\"attributes\":{\"callback\":null,\"column_names\":[\"x\",\"y\"],\"data\":{\"x\":[0,1000,2000,3000,4000,5000,6000,7000,8000,9000,10000,11000,12000,13000,14000,15000,16000,17000,18000,19000,20000,21000,22000,23000,24000,25000,26000,27000,28000,29000,30000,31000,32000,33000,34000,35000,36000,37000,38000,39000,40000,41000,42000,43000,44000,45000,46000,47000,48000,49000,50000,51000,52000,53000,54000,55000,56000,57000,58000,59000,60000,61000,62000,63000,64000,65000,66000,67000,68000,69000,70000,71000,72000,73000,74000,75000,76000,77000,78000,79000,80000,81000,82000,83000,84000,85000,86000,87000,88000,89000,90000,91000,92000,93000,94000,95000,96000,97000,98000,99000,100000,101000,102000,103000,104000,105000,106000,107000,108000,109000,110000,111000,112000,113000,114000,115000,116000,117000,118000,119000,120000,121000,122000,123000,124000,125000,126000,127000,128000,129000,130000,131000,132000,133000,134000,135000,136000,137000,138000,139000,140000,141000,142000,143000,144000,145000,146000,147000,148000,149000,150000,151000,152000,153000,154000,155000,156000,157000,158000,159000,160000,161000,162000,163000,164000,165000,166000,167000,168000,169000,170000,171000,172000,173000,174000,175000,176000,177000,178000,179000,180000,181000,182000,183000,184000,185000,186000,187000,188000,189000,190000,191000,192000,193000,194000,195000,196000,197000,198000,199000,199000,198000,197000,196000,195000,194000,193000,192000,191000,190000,189000,188000,187000,186000,185000,184000,183000,182000,181000,180000,179000,178000,177000,176000,175000,174000,173000,172000,171000,170000,169000,168000,167000,166000,165000,164000,163000,162000,161000,160000,159000,158000,157000,156000,155000,154000,153000,152000,151000,150000,149000,148000,147000,146000,145000,144000,143000,142000,141000,140000,139000,138000,137000,136000,135000,134000,133000,132000,131000,130000,129000,128000,127000,126000,125000,124000,123000,122000,121000,120000,119000,118000,117000,116000,115000,114000,113000,112000,111000,110000,109000,108000,107000,106000,105000,104000,103000,102000,101000,100000,99000,98000,97000,96000,95000,94000,93000,92000,91000,90000,89000,88000,87000,86000,85000,84000,83000,82000,81000,80000,79000,78000,77000,76000,75000,74000,73000,72000,71000,70000,69000,68000,67000,66000,65000,64000,63000,62000,61000,60000,59000,58000,57000,56000,55000,54000,53000,52000,51000,50000,49000,48000,47000,46000,45000,44000,43000,42000,41000,40000,39000,38000,37000,36000,35000,34000,33000,32000,31000,30000,29000,28000,27000,26000,25000,24000,23000,22000,21000,20000,19000,18000,17000,16000,15000,14000,13000,12000,11000,10000,9000,8000,7000,6000,5000,4000,3000,2000,1000,0],\"y\":{\"__ndarray__\":\"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\",\"dtype\":\"float64\",\"shape\":[400]}}},\"id\":\"0f394d6b-9ed1-4513-996b-af498159a87b\",\"type\":\"ColumnDataSource\"},{\"attributes\":{\"fill_alpha\":{\"value\":0.1},\"fill_color\":{\"value\":\"#33a02c\"},\"line_alpha\":{\"value\":0.1},\"line_color\":{\"value\":\"#33a02c\"},\"x\":{\"field\":\"x\"},\"y\":{\"field\":\"y\"}},\"id\":\"a2e15134-943c-4063-bed5-37e68363407f\",\"type\":\"Patch\"},{\"attributes\":{\"line_color\":{\"value\":\"#33a02c\"},\"line_width\":{\"value\":2},\"x\":{\"field\":\"x\"},\"y\":{\"field\":\"y\"}},\"id\":\"3df46b77-0a88-49f4-a168-6cb5ac1b10cb\",\"type\":\"Line\"},{\"attributes\":{\"callback\":null,\"column_names\":[\"x\",\"y\"],\"data\":{\"x\":[0,1000,2000,3000,4000,5000,6000,7000,8000,9000,10000,11000,12000,13000,14000,15000,16000,17000,18000,19000,20000,21000,22000,23000,24000,25000,26000,27000,28000,29000,30000,31000,32000,33000,34000,35000,36000,37000,38000,39000,40000,41000,42000,43000,44000,45000,46000,47000,48000,49000,50000,51000,52000,53000,54000,55000,56000,57000,58000,59000,60000,61000,62000,63000,64000,65000,66000,67000,68000,69000,70000,71000,72000,73000,74000,75000,76000,77000,78000,79000,80000,81000,82000,83000,84000,85000,86000,87000,88000,89000,90000,91000,92000,93000,94000,95000,96000,97000,98000,99000,100000,101000,102000,103000,104000,105000,106000,107000,108000,109000,110000,111000,112000,113000,114000,115000,116000,117000,118000,119000,120000,121000,122000,123000,124000,125000,126000,127000,128000,129000,130000,131000,132000,133000,134000,135000,136000,137000,138000,139000,140000,141000,142000,143000,144000,145000,146000,147000,148000,149000,150000,151000,152000,153000,154000,155000,156000,157000,158000,159000,160000,161000,162000,163000,164000,165000,166000,167000,168000,169000,170000,171000,172000,173000,174000,175000,176000,177000,178000,179000,180000,181000,182000,183000,184000,185000,186000,187000,188000,189000,190000,191000,192000,193000,194000,195000,196000,197000,198000,199000],\"y\":{\"__ndarray__\":\"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\",\"dtype\":\"float64\",\"shape\":[200]}}},\"id\":\"fb4f03f1-1f7b-4b12-9f5f-97dc8dd4e7f3\",\"type\":\"ColumnDataSource\"},{\"attributes\":{\"data_source\":{\"id\":\"e2111281-7898-4d0a-9502-5adbf99bbe09\",\"type\":\"ColumnDataSource\"},\"glyph\":{\"id\":\"3df46b77-0a88-49f4-a168-6cb5ac1b10cb\",\"type\":\"Line\"},\"hover_glyph\":null,\"nonselection_glyph\":{\"id\":\"db96faf6-3b03-4c58-8130-c00772760bcf\",\"type\":\"Line\"},\"selection_glyph\":null},\"id\":\"e84a9c57-4533-485c-82a2-60f449827a2a\",\"type\":\"GlyphRenderer\"},{\"attributes\":{\"line_color\":{\"value\":\"#fb9a99\"},\"line_width\":{\"value\":2},\"x\":{\"field\":\"x\"},\"y\":{\"field\":\"y\"}},\"id\":\"196493c3-96f0-4229-9a85-9b3509ca3a8d\",\"type\":\"Line\"}],\"root_ids\":[\"3cc04f36-5d0b-4ea7-ba89-ebdaba25cf86\"]},\"title\":\"Bokeh Application\",\"version\":\"0.12.4\"}};\n",
       "            var render_items = [{\"docid\":\"c1dc71e6-62ac-4347-8ff5-147601f966ab\",\"elementid\":\"e1b4793b-0409-44ed-82cd-fe9c449846d0\",\"modelid\":\"3cc04f36-5d0b-4ea7-ba89-ebdaba25cf86\"}];\n",
       "            \n",
       "            Bokeh.embed.embed_items(docs_json, render_items);\n",
       "          };\n",
       "          if (document.readyState != \"loading\") fn();\n",
       "          else document.addEventListener(\"DOMContentLoaded\", fn);\n",
       "        })();\n",
       "      },\n",
       "      function(Bokeh) {\n",
       "      }\n",
       "    ];\n",
       "  \n",
       "    function run_inline_js() {\n",
       "      \n",
       "      if ((window.Bokeh !== undefined) || (force === true)) {\n",
       "        for (var i = 0; i < inline_js.length; i++) {\n",
       "          inline_js[i](window.Bokeh);\n",
       "        }if (force === true) {\n",
       "          display_loaded();\n",
       "        }} else if (Date.now() < window._bokeh_timeout) {\n",
       "        setTimeout(run_inline_js, 100);\n",
       "      } else if (!window._bokeh_failed_load) {\n",
       "        console.log(\"Bokeh: BokehJS failed to load within specified timeout.\");\n",
       "        window._bokeh_failed_load = true;\n",
       "      } else if (force !== true) {\n",
       "        var cell = $(document.getElementById(\"e1b4793b-0409-44ed-82cd-fe9c449846d0\")).parents('.cell').data().cell;\n",
       "        cell.output_area.append_execute_result(NB_LOAD_WARNING)\n",
       "      }\n",
       "  \n",
       "    }\n",
       "  \n",
       "    if (window._bokeh_is_loading === 0) {\n",
       "      console.log(\"Bokeh: BokehJS loaded, going straight to plotting\");\n",
       "      run_inline_js();\n",
       "    } else {\n",
       "      load_libs(js_urls, function() {\n",
       "        console.log(\"Bokeh: BokehJS plotting callback run at\", now());\n",
       "        run_inline_js();\n",
       "      });\n",
       "    }\n",
       "  }(this));\n",
       "</script>"
      ]
     },
     "metadata": {},
     "output_type": "display_data"
    }
   ],
   "source": [
    "plot_averages_b(names, t_maxs, Paired[10], legends, directories, step=1000, title=\"Options\")"
   ]
  },
  {
   "cell_type": "code",
   "execution_count": null,
   "metadata": {
    "collapsed": true
   },
   "outputs": [],
   "source": []
  },
  {
   "cell_type": "code",
   "execution_count": 56,
   "metadata": {
    "collapsed": false
   },
   "outputs": [
    {
     "ename": "IsADirectoryError",
     "evalue": "[Errno 21] Is a directory: '/home/tabz/Dropbox/RL/Log_Files/March 2017/Options_Logs/Maze_10_Batch_32_Options_Count_Cts_7_Conv_True_Beta_0.01_Eps_1_uid_33_2017-03-20_23-57'",
     "output_type": "error",
     "traceback": [
      "\u001b[0;31m---------------------------------------------------------------------------\u001b[0m",
      "\u001b[0;31mIsADirectoryError\u001b[0m                         Traceback (most recent call last)",
      "\u001b[0;32m<ipython-input-56-e3851f8becb5>\u001b[0m in \u001b[0;36m<module>\u001b[0;34m()\u001b[0m\n\u001b[0;32m----> 1\u001b[0;31m \u001b[0;32mwith\u001b[0m \u001b[0mopen\u001b[0m\u001b[0;34m(\u001b[0m\u001b[0;34m\"/home/tabz/Dropbox/RL/Log_Files/March 2017/Options_Logs/Maze_10_Batch_32_Options_Count_Cts_7_Conv_True_Beta_0.01_Eps_1_uid_33_2017-03-20_23-57\"\u001b[0m\u001b[0;34m,\u001b[0m \u001b[0;34m\"r\"\u001b[0m\u001b[0;34m)\u001b[0m \u001b[0;32mas\u001b[0m \u001b[0mf\u001b[0m\u001b[0;34m:\u001b[0m\u001b[0;34m\u001b[0m\u001b[0m\n\u001b[0m\u001b[1;32m      2\u001b[0m     \u001b[0mprint\u001b[0m\u001b[0;34m(\u001b[0m\u001b[0mf\u001b[0m\u001b[0;34m)\u001b[0m\u001b[0;34m\u001b[0m\u001b[0m\n",
      "\u001b[0;31mIsADirectoryError\u001b[0m: [Errno 21] Is a directory: '/home/tabz/Dropbox/RL/Log_Files/March 2017/Options_Logs/Maze_10_Batch_32_Options_Count_Cts_7_Conv_True_Beta_0.01_Eps_1_uid_33_2017-03-20_23-57'"
     ]
    }
   ],
   "source": [
    "with open(\"/home/tabz/Dropbox/RL/Log_Files/March 2017/Options_Logs/Maze_10_Batch_32_Options_Count_Cts_7_Conv_True_Beta_0.01_Eps_1_uid_33_2017-03-20_23-57/logs/\", \"r\") as f:\n",
    "    print(f)"
   ]
  },
  {
   "cell_type": "code",
   "execution_count": null,
   "metadata": {
    "collapsed": true
   },
   "outputs": [],
   "source": []
  },
  {
   "cell_type": "code",
   "execution_count": null,
   "metadata": {
    "collapsed": true
   },
   "outputs": [],
   "source": [
    "DQN_Smoothed = []\n",
    "for times, rewards in zip(DQN_Lengths_C, DQN_Rewards):\n",
    "    linear = interp1d(times, rewards, kind=\"linear\")\n",
    "    linear_rewards = linear([i for i in range(500000)])\n",
    "    DQN_Smoothed.append(linear_rewards)"
   ]
  },
  {
   "cell_type": "code",
   "execution_count": null,
   "metadata": {
    "collapsed": true
   },
   "outputs": [],
   "source": [
    "DQN_Means = np.mean(DQN_Smoothed, axis=0)"
   ]
  },
  {
   "cell_type": "code",
   "execution_count": null,
   "metadata": {
    "collapsed": true
   },
   "outputs": [],
   "source": [
    "DQN_Stds = np.std(DQN_Smoothed, axis=0)"
   ]
  },
  {
   "cell_type": "code",
   "execution_count": null,
   "metadata": {
    "collapsed": false
   },
   "outputs": [],
   "source": [
    "plt.fill_between([i for i in range(500000)], DQN_Means - DQN_Stds, DQN_Means + DQN_Stds, color=\"red\", alpha=0.3, edgecolor=\"white\")\n",
    "\n",
    "plt.plot([i for i in range(500000)], DQN_Means, color=\"red\")"
   ]
  },
  {
   "cell_type": "code",
   "execution_count": null,
   "metadata": {
    "collapsed": false
   },
   "outputs": [],
   "source": [
    "len(DQN_Repeat)"
   ]
  },
  {
   "cell_type": "code",
   "execution_count": null,
   "metadata": {
    "collapsed": true
   },
   "outputs": [],
   "source": [
    "plt.plot(DQN)"
   ]
  },
  {
   "cell_type": "code",
   "execution_count": null,
   "metadata": {
    "collapsed": true
   },
   "outputs": [],
   "source": [
    "directories = [\"Logs/\"]"
   ]
  },
  {
   "cell_type": "code",
   "execution_count": null,
   "metadata": {
    "collapsed": false
   },
   "outputs": [],
   "source": [
    "for i in range(0, 10, 2):\n",
    "    print(i)"
   ]
  },
  {
   "cell_type": "code",
   "execution_count": null,
   "metadata": {
    "collapsed": true
   },
   "outputs": [],
   "source": []
  }
 ],
 "metadata": {
  "kernelspec": {
   "display_name": "Python 3",
   "language": "python",
   "name": "python3"
  },
  "language_info": {
   "codemirror_mode": {
    "name": "ipython",
    "version": 3
   },
   "file_extension": ".py",
   "mimetype": "text/x-python",
   "name": "python",
   "nbconvert_exporter": "python",
   "pygments_lexer": "ipython3",
   "version": "3.6.0"
  }
 },
 "nbformat": 4,
 "nbformat_minor": 2
}
