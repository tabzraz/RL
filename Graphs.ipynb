{
 "cells": [
  {
   "cell_type": "code",
   "execution_count": 1,
   "metadata": {
    "collapsed": false,
    "deletable": true,
    "editable": true
   },
   "outputs": [
    {
     "data": {
      "text/html": [
       "\n",
       "    <div class=\"bk-root\">\n",
       "        <a href=\"http://bokeh.pydata.org\" target=\"_blank\" class=\"bk-logo bk-logo-small bk-logo-notebook\"></a>\n",
       "        <span id=\"36100ed1-f592-4310-8028-22339d8a4070\">Loading BokehJS ...</span>\n",
       "    </div>"
      ]
     },
     "metadata": {},
     "output_type": "display_data"
    },
    {
     "data": {
      "application/javascript": [
       "\n",
       "(function(global) {\n",
       "  function now() {\n",
       "    return new Date();\n",
       "  }\n",
       "\n",
       "  var force = true;\n",
       "\n",
       "  if (typeof (window._bokeh_onload_callbacks) === \"undefined\" || force === true) {\n",
       "    window._bokeh_onload_callbacks = [];\n",
       "    window._bokeh_is_loading = undefined;\n",
       "  }\n",
       "\n",
       "\n",
       "  \n",
       "  if (typeof (window._bokeh_timeout) === \"undefined\" || force === true) {\n",
       "    window._bokeh_timeout = Date.now() + 5000;\n",
       "    window._bokeh_failed_load = false;\n",
       "  }\n",
       "\n",
       "  var NB_LOAD_WARNING = {'data': {'text/html':\n",
       "     \"<div style='background-color: #fdd'>\\n\"+\n",
       "     \"<p>\\n\"+\n",
       "     \"BokehJS does not appear to have successfully loaded. If loading BokehJS from CDN, this \\n\"+\n",
       "     \"may be due to a slow or bad network connection. Possible fixes:\\n\"+\n",
       "     \"</p>\\n\"+\n",
       "     \"<ul>\\n\"+\n",
       "     \"<li>re-rerun `output_notebook()` to attempt to load from CDN again, or</li>\\n\"+\n",
       "     \"<li>use INLINE resources instead, as so:</li>\\n\"+\n",
       "     \"</ul>\\n\"+\n",
       "     \"<code>\\n\"+\n",
       "     \"from bokeh.resources import INLINE\\n\"+\n",
       "     \"output_notebook(resources=INLINE)\\n\"+\n",
       "     \"</code>\\n\"+\n",
       "     \"</div>\"}};\n",
       "\n",
       "  function display_loaded() {\n",
       "    if (window.Bokeh !== undefined) {\n",
       "      document.getElementById(\"36100ed1-f592-4310-8028-22339d8a4070\").textContent = \"BokehJS successfully loaded.\";\n",
       "    } else if (Date.now() < window._bokeh_timeout) {\n",
       "      setTimeout(display_loaded, 100)\n",
       "    }\n",
       "  }\n",
       "\n",
       "  function run_callbacks() {\n",
       "    window._bokeh_onload_callbacks.forEach(function(callback) { callback() });\n",
       "    delete window._bokeh_onload_callbacks\n",
       "    console.info(\"Bokeh: all callbacks have finished\");\n",
       "  }\n",
       "\n",
       "  function load_libs(js_urls, callback) {\n",
       "    window._bokeh_onload_callbacks.push(callback);\n",
       "    if (window._bokeh_is_loading > 0) {\n",
       "      console.log(\"Bokeh: BokehJS is being loaded, scheduling callback at\", now());\n",
       "      return null;\n",
       "    }\n",
       "    if (js_urls == null || js_urls.length === 0) {\n",
       "      run_callbacks();\n",
       "      return null;\n",
       "    }\n",
       "    console.log(\"Bokeh: BokehJS not loaded, scheduling load and callback at\", now());\n",
       "    window._bokeh_is_loading = js_urls.length;\n",
       "    for (var i = 0; i < js_urls.length; i++) {\n",
       "      var url = js_urls[i];\n",
       "      var s = document.createElement('script');\n",
       "      s.src = url;\n",
       "      s.async = false;\n",
       "      s.onreadystatechange = s.onload = function() {\n",
       "        window._bokeh_is_loading--;\n",
       "        if (window._bokeh_is_loading === 0) {\n",
       "          console.log(\"Bokeh: all BokehJS libraries loaded\");\n",
       "          run_callbacks()\n",
       "        }\n",
       "      };\n",
       "      s.onerror = function() {\n",
       "        console.warn(\"failed to load library \" + url);\n",
       "      };\n",
       "      console.log(\"Bokeh: injecting script tag for BokehJS library: \", url);\n",
       "      document.getElementsByTagName(\"head\")[0].appendChild(s);\n",
       "    }\n",
       "  };var element = document.getElementById(\"36100ed1-f592-4310-8028-22339d8a4070\");\n",
       "  if (element == null) {\n",
       "    console.log(\"Bokeh: ERROR: autoload.js configured with elementid '36100ed1-f592-4310-8028-22339d8a4070' but no matching script tag was found. \")\n",
       "    return false;\n",
       "  }\n",
       "\n",
       "  var js_urls = [\"https://cdn.pydata.org/bokeh/release/bokeh-0.12.4.min.js\", \"https://cdn.pydata.org/bokeh/release/bokeh-widgets-0.12.4.min.js\"];\n",
       "\n",
       "  var inline_js = [\n",
       "    function(Bokeh) {\n",
       "      Bokeh.set_log_level(\"info\");\n",
       "    },\n",
       "    \n",
       "    function(Bokeh) {\n",
       "      \n",
       "      document.getElementById(\"36100ed1-f592-4310-8028-22339d8a4070\").textContent = \"BokehJS is loading...\";\n",
       "    },\n",
       "    function(Bokeh) {\n",
       "      console.log(\"Bokeh: injecting CSS: https://cdn.pydata.org/bokeh/release/bokeh-0.12.4.min.css\");\n",
       "      Bokeh.embed.inject_css(\"https://cdn.pydata.org/bokeh/release/bokeh-0.12.4.min.css\");\n",
       "      console.log(\"Bokeh: injecting CSS: https://cdn.pydata.org/bokeh/release/bokeh-widgets-0.12.4.min.css\");\n",
       "      Bokeh.embed.inject_css(\"https://cdn.pydata.org/bokeh/release/bokeh-widgets-0.12.4.min.css\");\n",
       "    }\n",
       "  ];\n",
       "\n",
       "  function run_inline_js() {\n",
       "    \n",
       "    if ((window.Bokeh !== undefined) || (force === true)) {\n",
       "      for (var i = 0; i < inline_js.length; i++) {\n",
       "        inline_js[i](window.Bokeh);\n",
       "      }if (force === true) {\n",
       "        display_loaded();\n",
       "      }} else if (Date.now() < window._bokeh_timeout) {\n",
       "      setTimeout(run_inline_js, 100);\n",
       "    } else if (!window._bokeh_failed_load) {\n",
       "      console.log(\"Bokeh: BokehJS failed to load within specified timeout.\");\n",
       "      window._bokeh_failed_load = true;\n",
       "    } else if (force !== true) {\n",
       "      var cell = $(document.getElementById(\"36100ed1-f592-4310-8028-22339d8a4070\")).parents('.cell').data().cell;\n",
       "      cell.output_area.append_execute_result(NB_LOAD_WARNING)\n",
       "    }\n",
       "\n",
       "  }\n",
       "\n",
       "  if (window._bokeh_is_loading === 0) {\n",
       "    console.log(\"Bokeh: BokehJS loaded, going straight to plotting\");\n",
       "    run_inline_js();\n",
       "  } else {\n",
       "    load_libs(js_urls, function() {\n",
       "      console.log(\"Bokeh: BokehJS plotting callback run at\", now());\n",
       "      run_inline_js();\n",
       "    });\n",
       "  }\n",
       "}(this));"
      ]
     },
     "metadata": {},
     "output_type": "display_data"
    }
   ],
   "source": [
    "from bokeh.plotting import figure, output_notebook, show\n",
    "output_notebook()"
   ]
  },
  {
   "cell_type": "code",
   "execution_count": 2,
   "metadata": {
    "collapsed": true,
    "deletable": true,
    "editable": true
   },
   "outputs": [],
   "source": [
    "import glob"
   ]
  },
  {
   "cell_type": "code",
   "execution_count": 3,
   "metadata": {
    "collapsed": true,
    "deletable": true,
    "editable": true
   },
   "outputs": [],
   "source": [
    "import numpy as np"
   ]
  },
  {
   "cell_type": "code",
   "execution_count": 4,
   "metadata": {
    "collapsed": true,
    "deletable": true,
    "editable": true
   },
   "outputs": [],
   "source": [
    "from scipy.interpolate import interp1d\n",
    "from scipy.interpolate import spline"
   ]
  },
  {
   "cell_type": "code",
   "execution_count": 5,
   "metadata": {
    "collapsed": true,
    "deletable": true,
    "editable": true
   },
   "outputs": [],
   "source": [
    "from tqdm import tqdm"
   ]
  },
  {
   "cell_type": "code",
   "execution_count": 6,
   "metadata": {
    "collapsed": true,
    "deletable": true,
    "editable": true
   },
   "outputs": [],
   "source": [
    "DQN_Rewards_Path = \"/home/tabz/Dropbox/RL/Log_Files/March 2017/Maze_5_Batch_Sizes_Logs/*DQN*/logs/Episode_Rewards.txt\"\n",
    "DQN_Lengths_Path = \"/home/tabz/Dropbox/RL/Log_Files/March 2017/Maze_5_Batch_Sizes_Logs/*DQN*/logs/Episode_Lengths.txt\"\n",
    "DQN_Rewards = []\n",
    "DQN_Lengths = []\n",
    "DQN_Lengths_C = []"
   ]
  },
  {
   "cell_type": "code",
   "execution_count": 7,
   "metadata": {
    "collapsed": true,
    "deletable": true,
    "editable": true
   },
   "outputs": [],
   "source": [
    "for filename in glob.glob(DQN_Rewards_Path):\n",
    "    run_logs = [0]\n",
    "#     print(filename)\n",
    "    with open(filename, \"r\") as f:\n",
    "        for line in f:\n",
    "            try:\n",
    "                ep_r = float(line)\n",
    "            except:\n",
    "                continue\n",
    "            run_logs.append(ep_r)\n",
    "    DQN_Rewards.append(run_logs)"
   ]
  },
  {
   "cell_type": "code",
   "execution_count": 8,
   "metadata": {
    "collapsed": true,
    "deletable": true,
    "editable": true
   },
   "outputs": [],
   "source": [
    "for filename in glob.glob(DQN_Lengths_Path):\n",
    "    run_logs = [0]\n",
    "#     print(filename)\n",
    "    with open(filename, \"r\") as f:\n",
    "        for line in f:\n",
    "            try:\n",
    "                ep_r = float(line)\n",
    "            except:\n",
    "                continue\n",
    "            run_logs.append(ep_r)\n",
    "    DQN_Lengths.append(run_logs)\n",
    "    run_logs_c = np.cumsum(run_logs).astype(np.int32)\n",
    "    DQN_Lengths_C.append(run_logs_c)"
   ]
  },
  {
   "cell_type": "markdown",
   "metadata": {
    "collapsed": false,
    "deletable": true,
    "editable": true
   },
   "source": [
    "for lens, runs in zip(DQN_Lengths_C, DQN_Rewards):\n",
    "    plt.plot(lens, runs)\n",
    "plt.show()"
   ]
  },
  {
   "cell_type": "markdown",
   "metadata": {
    "collapsed": false,
    "deletable": true,
    "editable": true
   },
   "source": [
    "p = figure(width=500, height=500, y_range=(-1,3))\n",
    "for lens, runs in zip(DQN_Lengths_C, DQN_Rewards):\n",
    "    p.line(lens, runs)\n",
    "show(p)"
   ]
  },
  {
   "cell_type": "code",
   "execution_count": null,
   "metadata": {
    "collapsed": true,
    "deletable": true,
    "editable": true
   },
   "outputs": [],
   "source": []
  },
  {
   "cell_type": "markdown",
   "metadata": {
    "collapsed": true,
    "deletable": true,
    "editable": true
   },
   "source": [
    "def plot_averages(names, t_maxs, colors, legends=None, directory=\"Logs/\", step=10):\n",
    "    plt.figure(figsize=(10,10))\n",
    "    plt.ylim(-1, 3)\n",
    "    for name, color, t_max in tqdm(zip(names, colors, t_maxs)):\n",
    "        # TODO: Remove DQN from names\n",
    "        DQN_Rewards_Path = directory + \"*\" + name + \"*/logs/Episode_Rewards.txt\"\n",
    "        DQN_Lengths_Path = directory + \"*\" + name + \"*/logs/Episode_Lengths.txt\"\n",
    "        DQN_Rewards = []\n",
    "        DQN_Lengths = []\n",
    "        DQN_Lengths_C = []\n",
    "        for filename in glob.glob(DQN_Rewards_Path):\n",
    "            run_logs = [0]\n",
    "            with open(filename, \"r\") as f:\n",
    "                for line in f:\n",
    "                    try:\n",
    "                        ep_r = float(line)\n",
    "                    except:\n",
    "                        continue\n",
    "                    run_logs.append(ep_r)\n",
    "            DQN_Rewards.append(run_logs)\n",
    "        for filename in glob.glob(DQN_Lengths_Path):\n",
    "            run_logs = [0]\n",
    "        #     print(filename)\n",
    "            with open(filename, \"r\") as f:\n",
    "                for line in f:\n",
    "                    try:\n",
    "                        ep_r = float(line)\n",
    "                    except:\n",
    "                        continue\n",
    "                    run_logs.append(ep_r)\n",
    "            DQN_Lengths.append(run_logs)\n",
    "            run_logs_c = np.cumsum(run_logs).astype(np.int32)\n",
    "            DQN_Lengths_C.append(run_logs_c)\n",
    "        DQN_Smoothed = []\n",
    "        for times, rewards in zip(DQN_Lengths_C, DQN_Rewards):\n",
    "#             linear = interp1d(times, rewards, kind=\"linear\")\n",
    "#             linear_rewards = linear([i for i in range(500000)])\n",
    "#             DQN_Smoothed.append(linear_rewards)\n",
    "            spline_rewards = spline(times, rewards, [i for i in range(0, t_max, step)])\n",
    "            DQN_Smoothed.append(spline_rewards)\n",
    "        DQN_Means = np.mean(DQN_Smoothed, axis=0)\n",
    "        DQN_Stds = np.std(DQN_Smoothed, axis=0)\n",
    "        plt.fill_between([i for i in range(0, t_max, step)], DQN_Means - DQN_Stds, DQN_Means + DQN_Stds, color=color, alpha=0.2, edgecolor=\"white\")\n",
    "\n",
    "        plt.plot([i for i in range(0, t_max, step)], DQN_Means, color=color)\n",
    "\n",
    "    plt.title(\"Episode_Reward\")\n",
    "    plt.xlabel(\"T\")\n",
    "    plt.ylabel(\"Reward\")\n",
    "    if legends is not None:\n",
    "        plt.legend(legends, bbox_to_anchor=(1.05, 1), loc=2)\n",
    "    plt.show()"
   ]
  },
  {
   "cell_type": "code",
   "execution_count": 9,
   "metadata": {
    "collapsed": true,
    "deletable": true,
    "editable": true
   },
   "outputs": [],
   "source": [
    "from bokeh.models import Legend\n",
    "from bokeh.models.formatters import BasicTickFormatter\n",
    "from bokeh.models import HoverTool, TapTool"
   ]
  },
  {
   "cell_type": "code",
   "execution_count": 10,
   "metadata": {
    "collapsed": false,
    "deletable": true,
    "editable": true
   },
   "outputs": [],
   "source": [
    "def plot_averages_b(names, t_maxs, colors, legends, directories=\"Logs/\", step=10, title=\"\"):\n",
    "#     plt.figure(figsize=(10,10))\n",
    "    p = figure(width=800, height=800, y_range=(-1.2, 3.2), title=title)\n",
    "    p.toolbar_location = \"above\"\n",
    "    p.yaxis.axis_label = \"Episode Reward\"\n",
    "    p.xaxis.axis_label = \"T\"\n",
    "    p.xaxis.formatter = BasicTickFormatter(use_scientific=False)\n",
    "#     p = figure(width=800, height=500)\n",
    "    lines = []\n",
    "    alpha_lines = []\n",
    "    if isinstance(directories, str):\n",
    "        dd = directories\n",
    "        directories = [dd for _ in names]\n",
    "    for name, color, t_max, legend, directory in zip(names, colors, t_maxs, legends, directories):\n",
    "#         print(directory)\n",
    "        DQN_Rewards_Path = directory + \"*\" + name + \"*/logs/Episode_Rewards.txt\"\n",
    "        DQN_Lengths_Path = directory + \"*\" + name + \"*/logs/Episode_Lengths.txt\"\n",
    "        DQN_Rewards = []\n",
    "        DQN_Lengths = []\n",
    "        DQN_Lengths_C = []\n",
    "        for filename in glob.glob(DQN_Rewards_Path):\n",
    "            run_logs = [0]\n",
    "            with open(filename, \"r\") as f:\n",
    "#                 print(f)\n",
    "                for line in f:\n",
    "                    try:\n",
    "                        ep_r = float(line)\n",
    "                    except:\n",
    "                        print(\"Nothing here for:\", filename)\n",
    "                        continue\n",
    "                    run_logs.append(ep_r)\n",
    "            DQN_Rewards.append(run_logs)\n",
    "        for filename in glob.glob(DQN_Lengths_Path):\n",
    "            run_logs = [0]\n",
    "        #     print(filename)\n",
    "            with open(filename, \"r\") as f:\n",
    "                for line in f:\n",
    "                    try:\n",
    "                        ep_r = float(line)\n",
    "                    except:\n",
    "                        continue\n",
    "                    run_logs.append(ep_r)\n",
    "            DQN_Lengths.append(run_logs)\n",
    "            run_logs_c = np.cumsum(run_logs).astype(np.int32)\n",
    "            DQN_Lengths_C.append(run_logs_c)\n",
    "        DQN_Smoothed = []\n",
    "        for times, rewards in zip(DQN_Lengths_C, DQN_Rewards):\n",
    "#             linear = interp1d(times, rewards, kind=\"linear\")\n",
    "#             linear_rewards = linear([i for i in range(500000)])\n",
    "#             DQN_Smoothed.append(linear_rewards)\n",
    "            spline_rewards = spline(times, rewards, [i for i in range(0, t_max, step)], order=1)\n",
    "            DQN_Smoothed.append(spline_rewards)\n",
    "        DQN_Means = np.mean(DQN_Smoothed, axis=0)\n",
    "        DQN_Stds = np.std(DQN_Smoothed, axis=0)\n",
    "        \n",
    "#         plt.fill_between([i for i in range(0, t_max, step)], DQN_Means - DQN_Stds, DQN_Means + DQN_Stds, color=color, alpha=0.2, edgecolor=\"white\")\n",
    "        # Error bars\n",
    "        xs = [i for i in range(0, t_max, step)]\n",
    "        xs = xs + list(reversed(xs))\n",
    "        ys = np.concatenate([DQN_Means - DQN_Stds, np.flip(DQN_Means + DQN_Stds, axis=0)])\n",
    "        lls = p.patch(xs, ys, color=color, alpha=0.1)\n",
    "\n",
    "        \n",
    "#         for x, y, yerr in zip(range(0, t_max, step), DQN_Means, DQN_Stds):\n",
    "#             lls = p.line([x, x], [y - yerr, y + yerr], color=color, alpha=0.1, hover_alpha=0.8)\n",
    "#             alpha_lines.append(lls)\n",
    "            \n",
    "\n",
    "#         plt.plot([i for i in range(0, t_max, step)], DQN_Means, color=color)\n",
    "        l = p.line([i for i in range(0, t_max, step)], DQN_Means, color=color, line_width=2)\n",
    "        lines.append(l)\n",
    "#         alpha_lines.append(lls)\n",
    "\n",
    "#     plt.title(\"Episode_Reward\")\n",
    "#     plt.xlabel(\"T\")\n",
    "#     plt.ylabel(\"Reward\")\n",
    "#     if legends is not None:\n",
    "#         plt.legend(legends)\n",
    "#     plt.show()\n",
    "#     p.line([0,1], [-1,3])\n",
    "    new_leg = Legend(items=[(name, [line]) for name, line in zip(legends, lines)], location=(0,-30))\n",
    "    p.add_layout(new_leg, \"right\")\n",
    "#     p.add_tools(HoverTool(renderers=alpha_lines))\n",
    "#     p.add_tools(TapTool(renderers=alpha_lines))\n",
    "    show(p)"
   ]
  },
  {
   "cell_type": "code",
   "execution_count": 41,
   "metadata": {
    "collapsed": false
   },
   "outputs": [],
   "source": [
    "def plot_states(names, t_maxs, colors, legends, directories=\"Logs/\", step=10, title=\"\"):\n",
    "#     plt.figure(figsize=(10,10))\n",
    "    p = figure(width=1200, height=800, title=title)\n",
    "    p.toolbar_location = \"above\"\n",
    "    p.yaxis.axis_label = \"States visited\"\n",
    "    p.xaxis.axis_label = \"T\"\n",
    "    p.xaxis.formatter = BasicTickFormatter(use_scientific=False)\n",
    "#     p = figure(width=800, height=500)\n",
    "    lines = []\n",
    "    alpha_lines = []\n",
    "    if isinstance(directories, str):\n",
    "        dd = directories\n",
    "        directories = [dd for _ in names]\n",
    "    for name, color, t_max, legend, directory in zip(names, colors, t_maxs, legends, directories):\n",
    "#         print(directory)\n",
    "        States_Path = directory + \"*\" + name + \"*/logs/Player_Positions.txt\"\n",
    "        States = []\n",
    "        for filename in glob.glob(States_Path):\n",
    "            run_logs = []\n",
    "            with open(filename, \"r\") as f:\n",
    "#                 print(f)\n",
    "                for line in f:\n",
    "                    try:\n",
    "                        ep_r = str(line)\n",
    "#                         print(ep_r)\n",
    "                    except:\n",
    "                        print(\"Nothing here for:\", filename)\n",
    "                        continue\n",
    "                    run_logs.append(ep_r)\n",
    "            States.append(run_logs)\n",
    "        States_Visited = []\n",
    "        for run in States:\n",
    "            Visited = []\n",
    "            States_Sets = set()\n",
    "#             print(len(run))\n",
    "            for ii, s in enumerate(run):\n",
    "                if ii >= t_max - 1:\n",
    "                    break\n",
    "#                 print(s)\n",
    "                States_Sets.add(s)\n",
    "                if ii % step == 0:\n",
    "                    Visited.append(len(States_Sets))\n",
    "#             print(len(States_Sets))\n",
    "#             print(len(Visited))\n",
    "            States_Visited.append(Visited)\n",
    "#         print(np.array(States_Visited).shape)\n",
    "        Means = np.mean(States_Visited, axis=0)\n",
    "        Stds = np.std(States_Visited, axis=0)\n",
    "#         print(Means.shape)\n",
    "        \n",
    "#         plt.fill_between([i for i in range(0, t_max, step)], DQN_Means - DQN_Stds, DQN_Means + DQN_Stds, color=color, alpha=0.2, edgecolor=\"white\")\n",
    "        # Error bars\n",
    "        xs = [i for i in range(0, t_max, step)]\n",
    "        xs = xs + list(reversed(xs))\n",
    "        ys = np.concatenate([Means - Stds, np.flip(Means + Stds, axis=0)])\n",
    "        lls = p.patch(xs, ys, color=color, alpha=0.1)\n",
    "\n",
    "        \n",
    "#         for x, y, yerr in zip(range(0, t_max, step), DQN_Means, DQN_Stds):\n",
    "#             lls = p.line([x, x], [y - yerr, y + yerr], color=color, alpha=0.1, hover_alpha=0.8)\n",
    "#             alpha_lines.append(lls)\n",
    "            \n",
    "\n",
    "#         plt.plot([i for i in range(0, t_max, step)], DQN_Means, color=color)\n",
    "        l = p.line([i for i in range(0, t_max, step)], Means, color=color, line_width=2)\n",
    "        lines.append(l)\n",
    "#         alpha_lines.append(lls)\n",
    "\n",
    "#     plt.title(\"Episode_Reward\")\n",
    "#     plt.xlabel(\"T\")\n",
    "#     plt.ylabel(\"Reward\")\n",
    "#     if legends is not None:\n",
    "#         plt.legend(legends)\n",
    "#     plt.show()\n",
    "#     p.line([0,1], [-1,3])\n",
    "    new_leg = Legend(items=[(name, [line]) for name, line in zip(legends, lines)], location=(0,-30))\n",
    "    p.add_layout(new_leg, \"right\")\n",
    "#     p.add_tools(HoverTool(renderers=alpha_lines))\n",
    "#     p.add_tools(TapTool(renderers=alpha_lines))\n",
    "    show(p)"
   ]
  },
  {
   "cell_type": "code",
   "execution_count": null,
   "metadata": {
    "collapsed": true,
    "deletable": true,
    "editable": true
   },
   "outputs": [],
   "source": []
  },
  {
   "cell_type": "code",
   "execution_count": 127,
   "metadata": {
    "collapsed": false,
    "deletable": true,
    "editable": true
   },
   "outputs": [
    {
     "name": "stdout",
     "output_type": "stream",
     "text": [
      "['_10_Step_*DQN_', '_10_Step_*k_Count_', '_10_Step_*_CountEps_']\n",
      "[300001, 300001, 300001]\n"
     ]
    }
   ],
   "source": [
    "names = []\n",
    "legends = []\n",
    "t_maxs = []\n",
    "directories = []\n",
    "\n",
    "            \n",
    "# Frontier stuff\n",
    "for step in [10]:\n",
    "    # DQN\n",
    "    names += [\"_{}_Step_*DQN_\".format(step)]\n",
    "    legends += [\"{}_Step_DQN\".format(step)]\n",
    "    t_maxs += [300001]\n",
    "#     continue\n",
    "    # PseudoCount\n",
    "    names += [\"_{}_Step_*k_Count_\".format(step)]\n",
    "    legends += [\"{}_Step_Count\".format(step)]\n",
    "    t_maxs += [300001]\n",
    "#     continue\n",
    "    # EpsilonScaling\n",
    "    names += [\"_{}_Step_*_CountEps_\".format(step)]\n",
    "    legends += [\"{}_Step_Epsilon_Scaling\".format(step)]\n",
    "    t_maxs += [300001]\n",
    "            \n",
    "    \n",
    "direc = \"/home/tabz/tmp/logfiles/MedMaze10/MedMaze10\"\n",
    "# directories =  [\"{}/{}\".format(dropbox_direc, \"Maze_5_Logs/\")] + 3 * [\"{}/{}\".format(dropbox_direc, \"Maze_5_Batch_Sizes_Logs/\")] \n",
    "directories += [direc + \"/EpsilonLogs/\"] * 3\n",
    "    \n",
    "print(names)\n",
    "print(t_maxs)\n",
    "# colours = [\"red\", \"#3366ff\", \"#66ff33\", \"yellow\"]\n",
    "# colours = rainbow(np.linspace(0, 1, len(names)))"
   ]
  },
  {
   "cell_type": "code",
   "execution_count": 128,
   "metadata": {
    "collapsed": false
   },
   "outputs": [
    {
     "name": "stdout",
     "output_type": "stream",
     "text": [
      "['_10_Step_*DQN_', '_10_Step_*k_Count_', '_10_Step_*_CountEps_', 'ForceAction', 'OptimisticAction', 'StateAction']\n",
      "[300001, 300001, 300001, 300001, 300001, 300001]\n",
      "['/home/tabz/tmp/logfiles/MedMaze10/MedMaze10/EpsilonLogs/', '/home/tabz/tmp/logfiles/MedMaze10/MedMaze10/EpsilonLogs/', '/home/tabz/tmp/logfiles/MedMaze10/MedMaze10/EpsilonLogs/', '/home/tabz/tmp/logfiles/MedMaze10/MedMaze10/BanditLogs/', '/home/tabz/tmp/logfiles/MedMaze10/MedMaze10/BanditLogs/', '/home/tabz/tmp/logfiles/MedMaze10/MedMaze10/BanditLogs/']\n"
     ]
    }
   ],
   "source": [
    "# names = []\n",
    "# legends = []\n",
    "# t_maxs = []\n",
    "\n",
    "            \n",
    "# Frontier bandit stuff\n",
    "\n",
    "# ForceAction\n",
    "names += [\"ForceAction\"]\n",
    "legends += [\"1_Step_ForceAction\"]\n",
    "t_maxs += [300001]\n",
    "\n",
    "# Optimistic\n",
    "names += [\"OptimisticAction\"]\n",
    "legends += [\"1_Step_OptimisticAction\"]\n",
    "t_maxs += [300001]\n",
    "\n",
    "# State action pseudo counts\n",
    "names += [\"StateAction\"]\n",
    "legends += [\"1_Step_Action_Count\"]\n",
    "t_maxs += [300001]\n",
    "            \n",
    "    \n",
    "direc = \"/home/tabz/tmp/logfiles/MedMaze10/MedMaze10\"\n",
    "# directories =  [\"{}/{}\".format(dropbox_direc, \"Maze_5_Logs/\")] + 3 * [\"{}/{}\".format(dropbox_direc, \"Maze_5_Batch_Sizes_Logs/\")] \n",
    "directories += [direc + \"/BanditLogs/\"] * 3\n",
    "    \n",
    "print(names)\n",
    "print(t_maxs)\n",
    "print(directories)\n",
    "# colours = [\"red\", \"#3366ff\", \"#66ff33\", \"yellow\"]\n",
    "# colours = rainbow(np.linspace(0, 1, len(names)))"
   ]
  },
  {
   "cell_type": "code",
   "execution_count": 155,
   "metadata": {
    "collapsed": false
   },
   "outputs": [
    {
     "name": "stdout",
     "output_type": "stream",
     "text": [
      "['XpSize_30k*Stale_k', 'XpSize_30k*Stale_30k', 'XpSize_100k*Stale_k', 'XpSize_100k*Stale_100k', 'XpSize_200k*Stale_k', 'XpSize_200k*Stale_200k', 'XpSize_300k*Stale_k', 'XpSize_300k*Stale_300k']\n",
      "[300001, 300001, 300001, 300001, 300001, 300001, 300001, 300001]\n",
      "/home/tabz/tmp/logfiles/MedMaze10/MedMaze10_Xp/PXpSize/\n"
     ]
    }
   ],
   "source": [
    "names = []\n",
    "legends = []\n",
    "t_maxs = []\n",
    "directories = []\n",
    "\n",
    "            \n",
    "# XpSize\n",
    "\n",
    "for xp in [30, 100, 200, 300]:\n",
    "    \n",
    "    #Fresh \n",
    "    names += [\"XpSize_{}k*Stale_k\".format(xp)]\n",
    "    legends += [\"Fresh {}k Xp\".format(xp)]\n",
    "    t_maxs += [300001]\n",
    "    \n",
    "    #Stale\n",
    "    names += [\"XpSize_{}k*Stale_{}k\".format(xp, xp)]\n",
    "    legends += [\"Stale {}k Prioritized Xp\".format(xp)]\n",
    "    t_maxs += [300001]\n",
    "    \n",
    "direc = \"/home/tabz/tmp/logfiles/MedMaze10/MedMaze10_Xp\"\n",
    "# directories =  [\"{}/{}\".format(dropbox_direc, \"Maze_5_Logs/\")] + 3 * [\"{}/{}\".format(dropbox_direc, \"Maze_5_Batch_Sizes_Logs/\")] \n",
    "# directories = direc + \"/XpSize/\"\n",
    "directories = direc + \"/PXpSize/\"\n",
    "    \n",
    "print(names)\n",
    "print(t_maxs)\n",
    "print(directories)"
   ]
  },
  {
   "cell_type": "code",
   "execution_count": 156,
   "metadata": {
    "collapsed": true,
    "deletable": true,
    "editable": true
   },
   "outputs": [],
   "source": [
    "import itertools"
   ]
  },
  {
   "cell_type": "code",
   "execution_count": 157,
   "metadata": {
    "collapsed": false,
    "deletable": true,
    "editable": true
   },
   "outputs": [],
   "source": [
    "from bokeh.palettes import magma, inferno, Purples, Oranges, Greens, Reds, Set1, Set3, Paired, Dark2"
   ]
  },
  {
   "cell_type": "code",
   "execution_count": 158,
   "metadata": {
    "collapsed": false,
    "deletable": true,
    "editable": true
   },
   "outputs": [
    {
     "name": "stderr",
     "output_type": "stream",
     "text": [
      "/home/tabz/.local/lib/python3.6/site-packages/bokeh/models/sources.py:81: BokehUserWarning: ColumnDataSource's columns must be of the same length\n",
      "  lambda: warnings.warn(\"ColumnDataSource's columns must be of the same length\", BokehUserWarning))\n",
      "/home/tabz/.local/lib/python3.6/site-packages/bokeh/models/sources.py:81: BokehUserWarning: ColumnDataSource's columns must be of the same length\n",
      "  lambda: warnings.warn(\"ColumnDataSource's columns must be of the same length\", BokehUserWarning))\n",
      "/home/tabz/.local/lib/python3.6/site-packages/bokeh/models/sources.py:81: BokehUserWarning: ColumnDataSource's columns must be of the same length\n",
      "  lambda: warnings.warn(\"ColumnDataSource's columns must be of the same length\", BokehUserWarning))\n",
      "/home/tabz/.local/lib/python3.6/site-packages/bokeh/models/sources.py:81: BokehUserWarning: ColumnDataSource's columns must be of the same length\n",
      "  lambda: warnings.warn(\"ColumnDataSource's columns must be of the same length\", BokehUserWarning))\n",
      "/home/tabz/.local/lib/python3.6/site-packages/bokeh/models/sources.py:81: BokehUserWarning: ColumnDataSource's columns must be of the same length\n",
      "  lambda: warnings.warn(\"ColumnDataSource's columns must be of the same length\", BokehUserWarning))\n",
      "/home/tabz/.local/lib/python3.6/site-packages/bokeh/models/sources.py:81: BokehUserWarning: ColumnDataSource's columns must be of the same length\n",
      "  lambda: warnings.warn(\"ColumnDataSource's columns must be of the same length\", BokehUserWarning))\n",
      "/home/tabz/.local/lib/python3.6/site-packages/bokeh/models/sources.py:81: BokehUserWarning: ColumnDataSource's columns must be of the same length\n",
      "  lambda: warnings.warn(\"ColumnDataSource's columns must be of the same length\", BokehUserWarning))\n",
      "/home/tabz/.local/lib/python3.6/site-packages/bokeh/models/sources.py:81: BokehUserWarning: ColumnDataSource's columns must be of the same length\n",
      "  lambda: warnings.warn(\"ColumnDataSource's columns must be of the same length\", BokehUserWarning))\n",
      "/home/tabz/.local/lib/python3.6/site-packages/bokeh/models/sources.py:81: BokehUserWarning: ColumnDataSource's columns must be of the same length\n",
      "  lambda: warnings.warn(\"ColumnDataSource's columns must be of the same length\", BokehUserWarning))\n",
      "/home/tabz/.local/lib/python3.6/site-packages/bokeh/models/sources.py:81: BokehUserWarning: ColumnDataSource's columns must be of the same length\n",
      "  lambda: warnings.warn(\"ColumnDataSource's columns must be of the same length\", BokehUserWarning))\n",
      "/home/tabz/.local/lib/python3.6/site-packages/bokeh/models/sources.py:81: BokehUserWarning: ColumnDataSource's columns must be of the same length\n",
      "  lambda: warnings.warn(\"ColumnDataSource's columns must be of the same length\", BokehUserWarning))\n",
      "/home/tabz/.local/lib/python3.6/site-packages/bokeh/models/sources.py:81: BokehUserWarning: ColumnDataSource's columns must be of the same length\n",
      "  lambda: warnings.warn(\"ColumnDataSource's columns must be of the same length\", BokehUserWarning))\n",
      "/home/tabz/.local/lib/python3.6/site-packages/bokeh/models/sources.py:81: BokehUserWarning: ColumnDataSource's columns must be of the same length\n",
      "  lambda: warnings.warn(\"ColumnDataSource's columns must be of the same length\", BokehUserWarning))\n",
      "/home/tabz/.local/lib/python3.6/site-packages/bokeh/models/sources.py:81: BokehUserWarning: ColumnDataSource's columns must be of the same length\n",
      "  lambda: warnings.warn(\"ColumnDataSource's columns must be of the same length\", BokehUserWarning))\n",
      "/home/tabz/.local/lib/python3.6/site-packages/bokeh/models/sources.py:81: BokehUserWarning: ColumnDataSource's columns must be of the same length\n",
      "  lambda: warnings.warn(\"ColumnDataSource's columns must be of the same length\", BokehUserWarning))\n",
      "/home/tabz/.local/lib/python3.6/site-packages/bokeh/models/sources.py:81: BokehUserWarning: ColumnDataSource's columns must be of the same length\n",
      "  lambda: warnings.warn(\"ColumnDataSource's columns must be of the same length\", BokehUserWarning))\n"
     ]
    },
    {
     "data": {
      "text/html": [
       "\n",
       "\n",
       "    <div class=\"bk-root\">\n",
       "        <div class=\"bk-plotdiv\" id=\"3f786f37-a024-4a57-825f-fae635c99448\"></div>\n",
       "    </div>\n",
       "<script type=\"text/javascript\">\n",
       "  \n",
       "  (function(global) {\n",
       "    function now() {\n",
       "      return new Date();\n",
       "    }\n",
       "  \n",
       "    var force = false;\n",
       "  \n",
       "    if (typeof (window._bokeh_onload_callbacks) === \"undefined\" || force === true) {\n",
       "      window._bokeh_onload_callbacks = [];\n",
       "      window._bokeh_is_loading = undefined;\n",
       "    }\n",
       "  \n",
       "  \n",
       "    \n",
       "    if (typeof (window._bokeh_timeout) === \"undefined\" || force === true) {\n",
       "      window._bokeh_timeout = Date.now() + 0;\n",
       "      window._bokeh_failed_load = false;\n",
       "    }\n",
       "  \n",
       "    var NB_LOAD_WARNING = {'data': {'text/html':\n",
       "       \"<div style='background-color: #fdd'>\\n\"+\n",
       "       \"<p>\\n\"+\n",
       "       \"BokehJS does not appear to have successfully loaded. If loading BokehJS from CDN, this \\n\"+\n",
       "       \"may be due to a slow or bad network connection. Possible fixes:\\n\"+\n",
       "       \"</p>\\n\"+\n",
       "       \"<ul>\\n\"+\n",
       "       \"<li>re-rerun `output_notebook()` to attempt to load from CDN again, or</li>\\n\"+\n",
       "       \"<li>use INLINE resources instead, as so:</li>\\n\"+\n",
       "       \"</ul>\\n\"+\n",
       "       \"<code>\\n\"+\n",
       "       \"from bokeh.resources import INLINE\\n\"+\n",
       "       \"output_notebook(resources=INLINE)\\n\"+\n",
       "       \"</code>\\n\"+\n",
       "       \"</div>\"}};\n",
       "  \n",
       "    function display_loaded() {\n",
       "      if (window.Bokeh !== undefined) {\n",
       "        document.getElementById(\"3f786f37-a024-4a57-825f-fae635c99448\").textContent = \"BokehJS successfully loaded.\";\n",
       "      } else if (Date.now() < window._bokeh_timeout) {\n",
       "        setTimeout(display_loaded, 100)\n",
       "      }\n",
       "    }\n",
       "  \n",
       "    function run_callbacks() {\n",
       "      window._bokeh_onload_callbacks.forEach(function(callback) { callback() });\n",
       "      delete window._bokeh_onload_callbacks\n",
       "      console.info(\"Bokeh: all callbacks have finished\");\n",
       "    }\n",
       "  \n",
       "    function load_libs(js_urls, callback) {\n",
       "      window._bokeh_onload_callbacks.push(callback);\n",
       "      if (window._bokeh_is_loading > 0) {\n",
       "        console.log(\"Bokeh: BokehJS is being loaded, scheduling callback at\", now());\n",
       "        return null;\n",
       "      }\n",
       "      if (js_urls == null || js_urls.length === 0) {\n",
       "        run_callbacks();\n",
       "        return null;\n",
       "      }\n",
       "      console.log(\"Bokeh: BokehJS not loaded, scheduling load and callback at\", now());\n",
       "      window._bokeh_is_loading = js_urls.length;\n",
       "      for (var i = 0; i < js_urls.length; i++) {\n",
       "        var url = js_urls[i];\n",
       "        var s = document.createElement('script');\n",
       "        s.src = url;\n",
       "        s.async = false;\n",
       "        s.onreadystatechange = s.onload = function() {\n",
       "          window._bokeh_is_loading--;\n",
       "          if (window._bokeh_is_loading === 0) {\n",
       "            console.log(\"Bokeh: all BokehJS libraries loaded\");\n",
       "            run_callbacks()\n",
       "          }\n",
       "        };\n",
       "        s.onerror = function() {\n",
       "          console.warn(\"failed to load library \" + url);\n",
       "        };\n",
       "        console.log(\"Bokeh: injecting script tag for BokehJS library: \", url);\n",
       "        document.getElementsByTagName(\"head\")[0].appendChild(s);\n",
       "      }\n",
       "    };var element = document.getElementById(\"3f786f37-a024-4a57-825f-fae635c99448\");\n",
       "    if (element == null) {\n",
       "      console.log(\"Bokeh: ERROR: autoload.js configured with elementid '3f786f37-a024-4a57-825f-fae635c99448' but no matching script tag was found. \")\n",
       "      return false;\n",
       "    }\n",
       "  \n",
       "    var js_urls = [];\n",
       "  \n",
       "    var inline_js = [\n",
       "      function(Bokeh) {\n",
       "        (function() {\n",
       "          var fn = function() {\n",
       "            var docs_json = {\"a8b84a16-a76c-420d-9f95-2b184d9850f1\":{\"roots\":{\"references\":[{\"attributes\":{\"plot\":{\"id\":\"c86ab986-1448-47a1-801c-46cb378129d6\",\"subtype\":\"Figure\",\"type\":\"Plot\"}},\"id\":\"2f1f51ce-fd2f-4b17-9060-1e02accfff63\",\"type\":\"PanTool\"},{\"attributes\":{\"bottom_units\":\"screen\",\"fill_alpha\":{\"value\":0.5},\"fill_color\":{\"value\":\"lightgrey\"},\"left_units\":\"screen\",\"level\":\"overlay\",\"line_alpha\":{\"value\":1.0},\"line_color\":{\"value\":\"black\"},\"line_dash\":[4,4],\"line_width\":{\"value\":2},\"plot\":null,\"render_mode\":\"css\",\"right_units\":\"screen\",\"top_units\":\"screen\"},\"id\":\"8e60101f-6c9d-450e-8a55-9cdfbbad93e5\",\"type\":\"BoxAnnotation\"},{\"attributes\":{\"plot\":{\"id\":\"c86ab986-1448-47a1-801c-46cb378129d6\",\"subtype\":\"Figure\",\"type\":\"Plot\"}},\"id\":\"cb527e36-8743-41c1-b33b-e574b36ed8ae\",\"type\":\"WheelZoomTool\"},{\"attributes\":{\"overlay\":{\"id\":\"8e60101f-6c9d-450e-8a55-9cdfbbad93e5\",\"type\":\"BoxAnnotation\"},\"plot\":{\"id\":\"c86ab986-1448-47a1-801c-46cb378129d6\",\"subtype\":\"Figure\",\"type\":\"Plot\"}},\"id\":\"20173be2-e8a6-405e-9355-baa58c0b68a1\",\"type\":\"BoxZoomTool\"},{\"attributes\":{\"plot\":{\"id\":\"c86ab986-1448-47a1-801c-46cb378129d6\",\"subtype\":\"Figure\",\"type\":\"Plot\"}},\"id\":\"48836091-fad0-4103-9321-1fb953f5d676\",\"type\":\"SaveTool\"},{\"attributes\":{\"plot\":{\"id\":\"c86ab986-1448-47a1-801c-46cb378129d6\",\"subtype\":\"Figure\",\"type\":\"Plot\"}},\"id\":\"c9bbd3f5-f18d-425c-a00f-a203a6afff40\",\"type\":\"ResetTool\"},{\"attributes\":{\"plot\":{\"id\":\"c86ab986-1448-47a1-801c-46cb378129d6\",\"subtype\":\"Figure\",\"type\":\"Plot\"}},\"id\":\"e4f3e3ba-a398-4558-b195-bef29881a156\",\"type\":\"HelpTool\"},{\"attributes\":{\"fill_alpha\":{\"value\":0.1},\"fill_color\":{\"value\":\"#4daf4a\"},\"line_alpha\":{\"value\":0.1},\"line_color\":{\"value\":\"#4daf4a\"},\"x\":{\"field\":\"x\"},\"y\":{\"field\":\"y\"}},\"id\":\"12750cee-66b4-4d2c-86d5-4c101134cdec\",\"type\":\"Patch\"},{\"attributes\":{\"data_source\":{\"id\":\"c9cff607-5e03-4436-9807-027b38e43389\",\"type\":\"ColumnDataSource\"},\"glyph\":{\"id\":\"4cd2202d-9612-4fc6-8235-c646e51e6be8\",\"type\":\"Patch\"},\"hover_glyph\":null,\"nonselection_glyph\":{\"id\":\"c9a19b82-d80f-4291-a355-7b50c275a19e\",\"type\":\"Patch\"},\"selection_glyph\":null},\"id\":\"98f50ca2-939d-4534-941f-283f19f92675\",\"type\":\"GlyphRenderer\"},{\"attributes\":{\"line_color\":{\"value\":\"#377eb8\"},\"line_width\":{\"value\":2},\"x\":{\"field\":\"x\"},\"y\":{\"field\":\"y\"}},\"id\":\"c51519be-9f4c-4f29-b6ff-bc93b0b40595\",\"type\":\"Line\"},{\"attributes\":{\"fill_alpha\":{\"value\":0.1},\"fill_color\":{\"value\":\"#e41a1c\"},\"line_alpha\":{\"value\":0.1},\"line_color\":{\"value\":\"#e41a1c\"},\"x\":{\"field\":\"x\"},\"y\":{\"field\":\"y\"}},\"id\":\"4c607e3e-4483-44a2-a897-abb05f2e9f08\",\"type\":\"Patch\"},{\"attributes\":{\"line_color\":{\"value\":\"#e41a1c\"},\"line_width\":{\"value\":2},\"x\":{\"field\":\"x\"},\"y\":{\"field\":\"y\"}},\"id\":\"e285544d-6d42-4e36-81a9-b00030cba7bb\",\"type\":\"Line\"},{\"attributes\":{\"fill_alpha\":{\"value\":0.1},\"fill_color\":{\"value\":\"#1f77b4\"},\"line_alpha\":{\"value\":0.1},\"line_color\":{\"value\":\"#1f77b4\"},\"x\":{\"field\":\"x\"},\"y\":{\"field\":\"y\"}},\"id\":\"1a94a236-7d17-4c14-aac7-87a56a6c1567\",\"type\":\"Patch\"},{\"attributes\":{\"data_source\":{\"id\":\"d9813529-e142-4e0d-854d-3bd246b8a344\",\"type\":\"ColumnDataSource\"},\"glyph\":{\"id\":\"4c607e3e-4483-44a2-a897-abb05f2e9f08\",\"type\":\"Patch\"},\"hover_glyph\":null,\"nonselection_glyph\":{\"id\":\"1a94a236-7d17-4c14-aac7-87a56a6c1567\",\"type\":\"Patch\"},\"selection_glyph\":null},\"id\":\"a0061f4b-365e-4691-a83d-2016cf046edc\",\"type\":\"GlyphRenderer\"},{\"attributes\":{},\"id\":\"bac94a4e-634d-494f-aba7-135445c8987e\",\"type\":\"BasicTickFormatter\"},{\"attributes\":{\"callback\":null,\"column_names\":[\"x\",\"y\"],\"data\":{\"x\":[0,1000,2000,3000,4000,5000,6000,7000,8000,9000,10000,11000,12000,13000,14000,15000,16000,17000,18000,19000,20000,21000,22000,23000,24000,25000,26000,27000,28000,29000,30000,31000,32000,33000,34000,35000,36000,37000,38000,39000,40000,41000,42000,43000,44000,45000,46000,47000,48000,49000,50000,51000,52000,53000,54000,55000,56000,57000,58000,59000,60000,61000,62000,63000,64000,65000,66000,67000,68000,69000,70000,71000,72000,73000,74000,75000,76000,77000,78000,79000,80000,81000,82000,83000,84000,85000,86000,87000,88000,89000,90000,91000,92000,93000,94000,95000,96000,97000,98000,99000,100000,101000,102000,103000,104000,105000,106000,107000,108000,109000,110000,111000,112000,113000,114000,115000,116000,117000,118000,119000,120000,121000,122000,123000,124000,125000,126000,127000,128000,129000,130000,131000,132000,133000,134000,135000,136000,137000,138000,139000,140000,141000,142000,143000,144000,145000,146000,147000,148000,149000,150000,151000,152000,153000,154000,155000,156000,157000,158000,159000,160000,161000,162000,163000,164000,165000,166000,167000,168000,169000,170000,171000,172000,173000,174000,175000,176000,177000,178000,179000,180000,181000,182000,183000,184000,185000,186000,187000,188000,189000,190000,191000,192000,193000,194000,195000,196000,197000,198000,199000,200000,201000,202000,203000,204000,205000,206000,207000,208000,209000,210000,211000,212000,213000,214000,215000,216000,217000,218000,219000,220000,221000,222000,223000,224000,225000,226000,227000,228000,229000,230000,231000,232000,233000,234000,235000,236000,237000,238000,239000,240000,241000,242000,243000,244000,245000,246000,247000,248000,249000,250000,251000,252000,253000,254000,255000,256000,257000,258000,259000,260000,261000,262000,263000,264000,265000,266000,267000,268000,269000,270000,271000,272000,273000,274000,275000,276000,277000,278000,279000,280000,281000,282000,283000,284000,285000,286000,287000,288000,289000,290000,291000,292000,293000,294000,295000,296000,297000,298000,299000,300000],\"y\":{\"__ndarray__\":\"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\",\"dtype\":\"float64\",\"shape\":[300]}}},\"id\":\"13e7d370-c6b7-4edf-8775-45f9803c70ce\",\"type\":\"ColumnDataSource\"},{\"attributes\":{\"line_color\":{\"value\":\"#4daf4a\"},\"line_width\":{\"value\":2},\"x\":{\"field\":\"x\"},\"y\":{\"field\":\"y\"}},\"id\":\"bf90e0a0-c685-4a19-abc8-16291e4491f4\",\"type\":\"Line\"},{\"attributes\":{\"line_alpha\":{\"value\":0.1},\"line_color\":{\"value\":\"#1f77b4\"},\"line_width\":{\"value\":2},\"x\":{\"field\":\"x\"},\"y\":{\"field\":\"y\"}},\"id\":\"472d0c75-ab1a-4316-8ca7-cc19ca0cfbac\",\"type\":\"Line\"},{\"attributes\":{\"callback\":null,\"column_names\":[\"x\",\"y\"],\"data\":{\"x\":[0,1000,2000,3000,4000,5000,6000,7000,8000,9000,10000,11000,12000,13000,14000,15000,16000,17000,18000,19000,20000,21000,22000,23000,24000,25000,26000,27000,28000,29000,30000,31000,32000,33000,34000,35000,36000,37000,38000,39000,40000,41000,42000,43000,44000,45000,46000,47000,48000,49000,50000,51000,52000,53000,54000,55000,56000,57000,58000,59000,60000,61000,62000,63000,64000,65000,66000,67000,68000,69000,70000,71000,72000,73000,74000,75000,76000,77000,78000,79000,80000,81000,82000,83000,84000,85000,86000,87000,88000,89000,90000,91000,92000,93000,94000,95000,96000,97000,98000,99000,100000,101000,102000,103000,104000,105000,106000,107000,108000,109000,110000,111000,112000,113000,114000,115000,116000,117000,118000,119000,120000,121000,122000,123000,124000,125000,126000,127000,128000,129000,130000,131000,132000,133000,134000,135000,136000,137000,138000,139000,140000,141000,142000,143000,144000,145000,146000,147000,148000,149000,150000,151000,152000,153000,154000,155000,156000,157000,158000,159000,160000,161000,162000,163000,164000,165000,166000,167000,168000,169000,170000,171000,172000,173000,174000,175000,176000,177000,178000,179000,180000,181000,182000,183000,184000,185000,186000,187000,188000,189000,190000,191000,192000,193000,194000,195000,196000,197000,198000,199000,200000,201000,202000,203000,204000,205000,206000,207000,208000,209000,210000,211000,212000,213000,214000,215000,216000,217000,218000,219000,220000,221000,222000,223000,224000,225000,226000,227000,228000,229000,230000,231000,232000,233000,234000,235000,236000,237000,238000,239000,240000,241000,242000,243000,244000,245000,246000,247000,248000,249000,250000,251000,252000,253000,254000,255000,256000,257000,258000,259000,260000,261000,262000,263000,264000,265000,266000,267000,268000,269000,270000,271000,272000,273000,274000,275000,276000,277000,278000,279000,280000,281000,282000,283000,284000,285000,286000,287000,288000,289000,290000,291000,292000,293000,294000,295000,296000,297000,298000,299000,300000],\"y\":{\"__ndarray__\":\"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\",\"dtype\":\"float64\",\"shape\":[300]}}},\"id\":\"b17a8235-9836-4347-86d7-74cfaf5c269e\",\"type\":\"ColumnDataSource\"},{\"attributes\":{\"data_source\":{\"id\":\"13e7d370-c6b7-4edf-8775-45f9803c70ce\",\"type\":\"ColumnDataSource\"},\"glyph\":{\"id\":\"e285544d-6d42-4e36-81a9-b00030cba7bb\",\"type\":\"Line\"},\"hover_glyph\":null,\"nonselection_glyph\":{\"id\":\"472d0c75-ab1a-4316-8ca7-cc19ca0cfbac\",\"type\":\"Line\"},\"selection_glyph\":null},\"id\":\"05c2035e-c461-4cef-afd2-6185c7502608\",\"type\":\"GlyphRenderer\"},{\"attributes\":{\"fill_alpha\":{\"value\":0.1},\"fill_color\":{\"value\":\"#1f77b4\"},\"line_alpha\":{\"value\":0.1},\"line_color\":{\"value\":\"#1f77b4\"},\"x\":{\"field\":\"x\"},\"y\":{\"field\":\"y\"}},\"id\":\"4f0b48ec-4310-44cc-b095-7d5d1da1e6bc\",\"type\":\"Patch\"},{\"attributes\":{\"callback\":null,\"column_names\":[\"x\",\"y\"],\"data\":{\"x\":[0,1000,2000,3000,4000,5000,6000,7000,8000,9000,10000,11000,12000,13000,14000,15000,16000,17000,18000,19000,20000,21000,22000,23000,24000,25000,26000,27000,28000,29000,30000,31000,32000,33000,34000,35000,36000,37000,38000,39000,40000,41000,42000,43000,44000,45000,46000,47000,48000,49000,50000,51000,52000,53000,54000,55000,56000,57000,58000,59000,60000,61000,62000,63000,64000,65000,66000,67000,68000,69000,70000,71000,72000,73000,74000,75000,76000,77000,78000,79000,80000,81000,82000,83000,84000,85000,86000,87000,88000,89000,90000,91000,92000,93000,94000,95000,96000,97000,98000,99000,100000,101000,102000,103000,104000,105000,106000,107000,108000,109000,110000,111000,112000,113000,114000,115000,116000,117000,118000,119000,120000,121000,122000,123000,124000,125000,126000,127000,128000,129000,130000,131000,132000,133000,134000,135000,136000,137000,138000,139000,140000,141000,142000,143000,144000,145000,146000,147000,148000,149000,150000,151000,152000,153000,154000,155000,156000,157000,158000,159000,160000,161000,162000,163000,164000,165000,166000,167000,168000,169000,170000,171000,172000,173000,174000,175000,176000,177000,178000,179000,180000,181000,182000,183000,184000,185000,186000,187000,188000,189000,190000,191000,192000,193000,194000,195000,196000,197000,198000,199000,200000,201000,202000,203000,204000,205000,206000,207000,208000,209000,210000,211000,212000,213000,214000,215000,216000,217000,218000,219000,220000,221000,222000,223000,224000,225000,226000,227000,228000,229000,230000,231000,232000,233000,234000,235000,236000,237000,238000,239000,240000,241000,242000,243000,244000,245000,246000,247000,248000,249000,250000,251000,252000,253000,254000,255000,256000,257000,258000,259000,260000,261000,262000,263000,264000,265000,266000,267000,268000,269000,270000,271000,272000,273000,274000,275000,276000,277000,278000,279000,280000,281000,282000,283000,284000,285000,286000,287000,288000,289000,290000,291000,292000,293000,294000,295000,296000,297000,298000,299000,300000],\"y\":{\"__ndarray__\":\"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\",\"dtype\":\"float64\",\"shape\":[300]}}},\"id\":\"40179940-38de-4f10-93e4-b82646b58316\",\"type\":\"ColumnDataSource\"},{\"attributes\":{\"data_source\":{\"id\":\"6dfa92b7-0957-46fe-97e7-42e5f7e3fb4e\",\"type\":\"ColumnDataSource\"},\"glyph\":{\"id\":\"12750cee-66b4-4d2c-86d5-4c101134cdec\",\"type\":\"Patch\"},\"hover_glyph\":null,\"nonselection_glyph\":{\"id\":\"4f0b48ec-4310-44cc-b095-7d5d1da1e6bc\",\"type\":\"Patch\"},\"selection_glyph\":null},\"id\":\"aead7b16-489f-4ae2-8353-6d79f3252a0d\",\"type\":\"GlyphRenderer\"},{\"attributes\":{\"fill_alpha\":{\"value\":0.1},\"fill_color\":{\"value\":\"#1f77b4\"},\"line_alpha\":{\"value\":0.1},\"line_color\":{\"value\":\"#1f77b4\"},\"x\":{\"field\":\"x\"},\"y\":{\"field\":\"y\"}},\"id\":\"f8e65b82-fb66-4afd-a3ff-53b0c206e89c\",\"type\":\"Patch\"},{\"attributes\":{\"line_alpha\":{\"value\":0.1},\"line_color\":{\"value\":\"#1f77b4\"},\"line_width\":{\"value\":2},\"x\":{\"field\":\"x\"},\"y\":{\"field\":\"y\"}},\"id\":\"c1b77e4c-e7c4-4da9-99a4-54d956098723\",\"type\":\"Line\"},{\"attributes\":{\"data_source\":{\"id\":\"b17a8235-9836-4347-86d7-74cfaf5c269e\",\"type\":\"ColumnDataSource\"},\"glyph\":{\"id\":\"c51519be-9f4c-4f29-b6ff-bc93b0b40595\",\"type\":\"Line\"},\"hover_glyph\":null,\"nonselection_glyph\":{\"id\":\"c1b77e4c-e7c4-4da9-99a4-54d956098723\",\"type\":\"Line\"},\"selection_glyph\":null},\"id\":\"1d143f29-682e-40a9-b0d3-a80aa2310cea\",\"type\":\"GlyphRenderer\"},{\"attributes\":{\"callback\":null,\"column_names\":[\"x\",\"y\"],\"data\":{\"x\":[0,1000,2000,3000,4000,5000,6000,7000,8000,9000,10000,11000,12000,13000,14000,15000,16000,17000,18000,19000,20000,21000,22000,23000,24000,25000,26000,27000,28000,29000,30000,31000,32000,33000,34000,35000,36000,37000,38000,39000,40000,41000,42000,43000,44000,45000,46000,47000,48000,49000,50000,51000,52000,53000,54000,55000,56000,57000,58000,59000,60000,61000,62000,63000,64000,65000,66000,67000,68000,69000,70000,71000,72000,73000,74000,75000,76000,77000,78000,79000,80000,81000,82000,83000,84000,85000,86000,87000,88000,89000,90000,91000,92000,93000,94000,95000,96000,97000,98000,99000,100000,101000,102000,103000,104000,105000,106000,107000,108000,109000,110000,111000,112000,113000,114000,115000,116000,117000,118000,119000,120000,121000,122000,123000,124000,125000,126000,127000,128000,129000,130000,131000,132000,133000,134000,135000,136000,137000,138000,139000,140000,141000,142000,143000,144000,145000,146000,147000,148000,149000,150000,151000,152000,153000,154000,155000,156000,157000,158000,159000,160000,161000,162000,163000,164000,165000,166000,167000,168000,169000,170000,171000,172000,173000,174000,175000,176000,177000,178000,179000,180000,181000,182000,183000,184000,185000,186000,187000,188000,189000,190000,191000,192000,193000,194000,195000,196000,197000,198000,199000,200000,201000,202000,203000,204000,205000,206000,207000,208000,209000,210000,211000,212000,213000,214000,215000,216000,217000,218000,219000,220000,221000,222000,223000,224000,225000,226000,227000,228000,229000,230000,231000,232000,233000,234000,235000,236000,237000,238000,239000,240000,241000,242000,243000,244000,245000,246000,247000,248000,249000,250000,251000,252000,253000,254000,255000,256000,257000,258000,259000,260000,261000,262000,263000,264000,265000,266000,267000,268000,269000,270000,271000,272000,273000,274000,275000,276000,277000,278000,279000,280000,281000,282000,283000,284000,285000,286000,287000,288000,289000,290000,291000,292000,293000,294000,295000,296000,297000,298000,299000,300000,300000,299000,298000,297000,296000,295000,294000,293000,292000,291000,290000,289000,288000,287000,286000,285000,284000,283000,282000,281000,280000,279000,278000,277000,276000,275000,274000,273000,272000,271000,270000,269000,268000,267000,266000,265000,264000,263000,262000,261000,260000,259000,258000,257000,256000,255000,254000,253000,252000,251000,250000,249000,248000,247000,246000,245000,244000,243000,242000,241000,240000,239000,238000,237000,236000,235000,234000,233000,232000,231000,230000,229000,228000,227000,226000,225000,224000,223000,222000,221000,220000,219000,218000,217000,216000,215000,214000,213000,212000,211000,210000,209000,208000,207000,206000,205000,204000,203000,202000,201000,200000,199000,198000,197000,196000,195000,194000,193000,192000,191000,190000,189000,188000,187000,186000,185000,184000,183000,182000,181000,180000,179000,178000,177000,176000,175000,174000,173000,172000,171000,170000,169000,168000,167000,166000,165000,164000,163000,162000,161000,160000,159000,158000,157000,156000,155000,154000,153000,152000,151000,150000,149000,148000,147000,146000,145000,144000,143000,142000,141000,140000,139000,138000,137000,136000,135000,134000,133000,132000,131000,130000,129000,128000,127000,126000,125000,124000,123000,122000,121000,120000,119000,118000,117000,116000,115000,114000,113000,112000,111000,110000,109000,108000,107000,106000,105000,104000,103000,102000,101000,100000,99000,98000,97000,96000,95000,94000,93000,92000,91000,90000,89000,88000,87000,86000,85000,84000,83000,82000,81000,80000,79000,78000,77000,76000,75000,74000,73000,72000,71000,70000,69000,68000,67000,66000,65000,64000,63000,62000,61000,60000,59000,58000,57000,56000,55000,54000,53000,52000,51000,50000,49000,48000,47000,46000,45000,44000,43000,42000,41000,40000,39000,38000,37000,36000,35000,34000,33000,32000,31000,30000,29000,28000,27000,26000,25000,24000,23000,22000,21000,20000,19000,18000,17000,16000,15000,14000,13000,12000,11000,10000,9000,8000,7000,6000,5000,4000,3000,2000,1000,0],\"y\":{\"__ndarray__\":\"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\",\"dtype\":\"float64\",\"shape\":[600]}}},\"id\":\"6dfa92b7-0957-46fe-97e7-42e5f7e3fb4e\",\"type\":\"ColumnDataSource\"},{\"attributes\":{\"fill_alpha\":{\"value\":0.1},\"fill_color\":{\"value\":\"#984ea3\"},\"line_alpha\":{\"value\":0.1},\"line_color\":{\"value\":\"#984ea3\"},\"x\":{\"field\":\"x\"},\"y\":{\"field\":\"y\"}},\"id\":\"5a9c3950-3a27-4f54-b1db-13727847aee5\",\"type\":\"Patch\"},{\"attributes\":{\"callback\":null,\"column_names\":[\"x\",\"y\"],\"data\":{\"x\":[0,1000,2000,3000,4000,5000,6000,7000,8000,9000,10000,11000,12000,13000,14000,15000,16000,17000,18000,19000,20000,21000,22000,23000,24000,25000,26000,27000,28000,29000,30000,31000,32000,33000,34000,35000,36000,37000,38000,39000,40000,41000,42000,43000,44000,45000,46000,47000,48000,49000,50000,51000,52000,53000,54000,55000,56000,57000,58000,59000,60000,61000,62000,63000,64000,65000,66000,67000,68000,69000,70000,71000,72000,73000,74000,75000,76000,77000,78000,79000,80000,81000,82000,83000,84000,85000,86000,87000,88000,89000,90000,91000,92000,93000,94000,95000,96000,97000,98000,99000,100000,101000,102000,103000,104000,105000,106000,107000,108000,109000,110000,111000,112000,113000,114000,115000,116000,117000,118000,119000,120000,121000,122000,123000,124000,125000,126000,127000,128000,129000,130000,131000,132000,133000,134000,135000,136000,137000,138000,139000,140000,141000,142000,143000,144000,145000,146000,147000,148000,149000,150000,151000,152000,153000,154000,155000,156000,157000,158000,159000,160000,161000,162000,163000,164000,165000,166000,167000,168000,169000,170000,171000,172000,173000,174000,175000,176000,177000,178000,179000,180000,181000,182000,183000,184000,185000,186000,187000,188000,189000,190000,191000,192000,193000,194000,195000,196000,197000,198000,199000,200000,201000,202000,203000,204000,205000,206000,207000,208000,209000,210000,211000,212000,213000,214000,215000,216000,217000,218000,219000,220000,221000,222000,223000,224000,225000,226000,227000,228000,229000,230000,231000,232000,233000,234000,235000,236000,237000,238000,239000,240000,241000,242000,243000,244000,245000,246000,247000,248000,249000,250000,251000,252000,253000,254000,255000,256000,257000,258000,259000,260000,261000,262000,263000,264000,265000,266000,267000,268000,269000,270000,271000,272000,273000,274000,275000,276000,277000,278000,279000,280000,281000,282000,283000,284000,285000,286000,287000,288000,289000,290000,291000,292000,293000,294000,295000,296000,297000,298000,299000,300000,300000,299000,298000,297000,296000,295000,294000,293000,292000,291000,290000,289000,288000,287000,286000,285000,284000,283000,282000,281000,280000,279000,278000,277000,276000,275000,274000,273000,272000,271000,270000,269000,268000,267000,266000,265000,264000,263000,262000,261000,260000,259000,258000,257000,256000,255000,254000,253000,252000,251000,250000,249000,248000,247000,246000,245000,244000,243000,242000,241000,240000,239000,238000,237000,236000,235000,234000,233000,232000,231000,230000,229000,228000,227000,226000,225000,224000,223000,222000,221000,220000,219000,218000,217000,216000,215000,214000,213000,212000,211000,210000,209000,208000,207000,206000,205000,204000,203000,202000,201000,200000,199000,198000,197000,196000,195000,194000,193000,192000,191000,190000,189000,188000,187000,186000,185000,184000,183000,182000,181000,180000,179000,178000,177000,176000,175000,174000,173000,172000,171000,170000,169000,168000,167000,166000,165000,164000,163000,162000,161000,160000,159000,158000,157000,156000,155000,154000,153000,152000,151000,150000,149000,148000,147000,146000,145000,144000,143000,142000,141000,140000,139000,138000,137000,136000,135000,134000,133000,132000,131000,130000,129000,128000,127000,126000,125000,124000,123000,122000,121000,120000,119000,118000,117000,116000,115000,114000,113000,112000,111000,110000,109000,108000,107000,106000,105000,104000,103000,102000,101000,100000,99000,98000,97000,96000,95000,94000,93000,92000,91000,90000,89000,88000,87000,86000,85000,84000,83000,82000,81000,80000,79000,78000,77000,76000,75000,74000,73000,72000,71000,70000,69000,68000,67000,66000,65000,64000,63000,62000,61000,60000,59000,58000,57000,56000,55000,54000,53000,52000,51000,50000,49000,48000,47000,46000,45000,44000,43000,42000,41000,40000,39000,38000,37000,36000,35000,34000,33000,32000,31000,30000,29000,28000,27000,26000,25000,24000,23000,22000,21000,20000,19000,18000,17000,16000,15000,14000,13000,12000,11000,10000,9000,8000,7000,6000,5000,4000,3000,2000,1000,0],\"y\":{\"__ndarray__\":\"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\",\"dtype\":\"float64\",\"shape\":[600]}}},\"id\":\"7cceab48-0fa3-4036-8b6c-ea984b3c722c\",\"type\":\"ColumnDataSource\"},{\"attributes\":{\"line_alpha\":{\"value\":0.1},\"line_color\":{\"value\":\"#1f77b4\"},\"line_width\":{\"value\":2},\"x\":{\"field\":\"x\"},\"y\":{\"field\":\"y\"}},\"id\":\"6458f431-b794-4914-b4ab-c2cbf878b6df\",\"type\":\"Line\"},{\"attributes\":{\"data_source\":{\"id\":\"40179940-38de-4f10-93e4-b82646b58316\",\"type\":\"ColumnDataSource\"},\"glyph\":{\"id\":\"bf90e0a0-c685-4a19-abc8-16291e4491f4\",\"type\":\"Line\"},\"hover_glyph\":null,\"nonselection_glyph\":{\"id\":\"6458f431-b794-4914-b4ab-c2cbf878b6df\",\"type\":\"Line\"},\"selection_glyph\":null},\"id\":\"bb8501bf-279b-48ce-8564-8c9ddf77f26c\",\"type\":\"GlyphRenderer\"},{\"attributes\":{\"data_source\":{\"id\":\"7cceab48-0fa3-4036-8b6c-ea984b3c722c\",\"type\":\"ColumnDataSource\"},\"glyph\":{\"id\":\"5a9c3950-3a27-4f54-b1db-13727847aee5\",\"type\":\"Patch\"},\"hover_glyph\":null,\"nonselection_glyph\":{\"id\":\"f8e65b82-fb66-4afd-a3ff-53b0c206e89c\",\"type\":\"Patch\"},\"selection_glyph\":null},\"id\":\"4bf03120-17a8-46d3-8399-02d1b47bd03e\",\"type\":\"GlyphRenderer\"},{\"attributes\":{\"line_color\":{\"value\":\"#984ea3\"},\"line_width\":{\"value\":2},\"x\":{\"field\":\"x\"},\"y\":{\"field\":\"y\"}},\"id\":\"fc946840-1af8-42cd-a71f-c534f8a43f48\",\"type\":\"Line\"},{\"attributes\":{\"axis_label\":\"States visited\",\"formatter\":{\"id\":\"bac94a4e-634d-494f-aba7-135445c8987e\",\"type\":\"BasicTickFormatter\"},\"plot\":{\"id\":\"c86ab986-1448-47a1-801c-46cb378129d6\",\"subtype\":\"Figure\",\"type\":\"Plot\"},\"ticker\":{\"id\":\"7eced147-8a62-434d-bc32-c62669495721\",\"type\":\"BasicTicker\"}},\"id\":\"037c5eb7-361b-4764-b05e-e772fa60d901\",\"type\":\"LinearAxis\"},{\"attributes\":{\"callback\":null,\"column_names\":[\"x\",\"y\"],\"data\":{\"x\":[0,1000,2000,3000,4000,5000,6000,7000,8000,9000,10000,11000,12000,13000,14000,15000,16000,17000,18000,19000,20000,21000,22000,23000,24000,25000,26000,27000,28000,29000,30000,31000,32000,33000,34000,35000,36000,37000,38000,39000,40000,41000,42000,43000,44000,45000,46000,47000,48000,49000,50000,51000,52000,53000,54000,55000,56000,57000,58000,59000,60000,61000,62000,63000,64000,65000,66000,67000,68000,69000,70000,71000,72000,73000,74000,75000,76000,77000,78000,79000,80000,81000,82000,83000,84000,85000,86000,87000,88000,89000,90000,91000,92000,93000,94000,95000,96000,97000,98000,99000,100000,101000,102000,103000,104000,105000,106000,107000,108000,109000,110000,111000,112000,113000,114000,115000,116000,117000,118000,119000,120000,121000,122000,123000,124000,125000,126000,127000,128000,129000,130000,131000,132000,133000,134000,135000,136000,137000,138000,139000,140000,141000,142000,143000,144000,145000,146000,147000,148000,149000,150000,151000,152000,153000,154000,155000,156000,157000,158000,159000,160000,161000,162000,163000,164000,165000,166000,167000,168000,169000,170000,171000,172000,173000,174000,175000,176000,177000,178000,179000,180000,181000,182000,183000,184000,185000,186000,187000,188000,189000,190000,191000,192000,193000,194000,195000,196000,197000,198000,199000,200000,201000,202000,203000,204000,205000,206000,207000,208000,209000,210000,211000,212000,213000,214000,215000,216000,217000,218000,219000,220000,221000,222000,223000,224000,225000,226000,227000,228000,229000,230000,231000,232000,233000,234000,235000,236000,237000,238000,239000,240000,241000,242000,243000,244000,245000,246000,247000,248000,249000,250000,251000,252000,253000,254000,255000,256000,257000,258000,259000,260000,261000,262000,263000,264000,265000,266000,267000,268000,269000,270000,271000,272000,273000,274000,275000,276000,277000,278000,279000,280000,281000,282000,283000,284000,285000,286000,287000,288000,289000,290000,291000,292000,293000,294000,295000,296000,297000,298000,299000,300000],\"y\":{\"__ndarray__\":\"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\",\"dtype\":\"float64\",\"shape\":[300]}}},\"id\":\"f4de72a7-1d2b-4b66-8ae8-a7ae78a9d760\",\"type\":\"ColumnDataSource\"},{\"attributes\":{\"dimension\":1,\"plot\":{\"id\":\"c86ab986-1448-47a1-801c-46cb378129d6\",\"subtype\":\"Figure\",\"type\":\"Plot\"},\"ticker\":{\"id\":\"7eced147-8a62-434d-bc32-c62669495721\",\"type\":\"BasicTicker\"}},\"id\":\"42653956-0b8f-4c09-9be4-a09477a6d4ce\",\"type\":\"Grid\"},{\"attributes\":{\"line_alpha\":{\"value\":0.1},\"line_color\":{\"value\":\"#1f77b4\"},\"line_width\":{\"value\":2},\"x\":{\"field\":\"x\"},\"y\":{\"field\":\"y\"}},\"id\":\"fbcb2c33-72e4-4f38-9153-bb708c8a787c\",\"type\":\"Line\"},{\"attributes\":{\"plot\":{\"id\":\"c86ab986-1448-47a1-801c-46cb378129d6\",\"subtype\":\"Figure\",\"type\":\"Plot\"},\"ticker\":{\"id\":\"01e311fd-1965-41d8-96df-55fc2eb72a24\",\"type\":\"BasicTicker\"}},\"id\":\"a3542bf1-cd90-48ec-a640-9ec9d7cf22cc\",\"type\":\"Grid\"},{\"attributes\":{\"active_drag\":\"auto\",\"active_scroll\":\"auto\",\"active_tap\":\"auto\",\"tools\":[{\"id\":\"2f1f51ce-fd2f-4b17-9060-1e02accfff63\",\"type\":\"PanTool\"},{\"id\":\"cb527e36-8743-41c1-b33b-e574b36ed8ae\",\"type\":\"WheelZoomTool\"},{\"id\":\"20173be2-e8a6-405e-9355-baa58c0b68a1\",\"type\":\"BoxZoomTool\"},{\"id\":\"48836091-fad0-4103-9321-1fb953f5d676\",\"type\":\"SaveTool\"},{\"id\":\"c9bbd3f5-f18d-425c-a00f-a203a6afff40\",\"type\":\"ResetTool\"},{\"id\":\"e4f3e3ba-a398-4558-b195-bef29881a156\",\"type\":\"HelpTool\"}]},\"id\":\"a4f839e4-c7fb-468b-8828-83f0d511a397\",\"type\":\"Toolbar\"},{\"attributes\":{},\"id\":\"7eced147-8a62-434d-bc32-c62669495721\",\"type\":\"BasicTicker\"},{\"attributes\":{\"callback\":null},\"id\":\"d9c5f682-f39a-44d6-bb26-00f3264828b4\",\"type\":\"DataRange1d\"},{\"attributes\":{\"items\":[{\"id\":\"7c17f980-61f1-4dd5-9b3d-d144091d7936\",\"type\":\"LegendItem\"},{\"id\":\"5f3f2082-824e-47c3-b267-58aff3216ff3\",\"type\":\"LegendItem\"},{\"id\":\"c02aac2a-26c9-4c58-ad60-3315eb0603db\",\"type\":\"LegendItem\"},{\"id\":\"5edeabbd-163f-452d-8225-25cd851d5d2d\",\"type\":\"LegendItem\"},{\"id\":\"f6f4737e-726a-49bb-8a87-360dc06d46d6\",\"type\":\"LegendItem\"},{\"id\":\"1fb36a12-1065-4970-8e13-ad059c76b06e\",\"type\":\"LegendItem\"},{\"id\":\"459fdbca-f935-485d-b975-cd7325b71aad\",\"type\":\"LegendItem\"},{\"id\":\"3e0b4513-218e-4a47-90e1-94046d8e8d93\",\"type\":\"LegendItem\"}],\"location\":[0,-30],\"plot\":{\"id\":\"c86ab986-1448-47a1-801c-46cb378129d6\",\"subtype\":\"Figure\",\"type\":\"Plot\"}},\"id\":\"e41bac2d-1158-495d-a749-cf8f1eb5dfa3\",\"type\":\"Legend\"},{\"attributes\":{\"axis_label\":\"T\",\"formatter\":{\"id\":\"0f636978-05d6-4676-9846-f2adab8a2a45\",\"type\":\"BasicTickFormatter\"},\"plot\":{\"id\":\"c86ab986-1448-47a1-801c-46cb378129d6\",\"subtype\":\"Figure\",\"type\":\"Plot\"},\"ticker\":{\"id\":\"01e311fd-1965-41d8-96df-55fc2eb72a24\",\"type\":\"BasicTicker\"}},\"id\":\"38e8d1b9-d078-45b1-bb08-dfddc707fa54\",\"type\":\"LinearAxis\"},{\"attributes\":{},\"id\":\"01e311fd-1965-41d8-96df-55fc2eb72a24\",\"type\":\"BasicTicker\"},{\"attributes\":{\"callback\":null},\"id\":\"c262b72f-5738-4ace-bb5f-10b6e4bfe29f\",\"type\":\"DataRange1d\"},{\"attributes\":{\"use_scientific\":false},\"id\":\"0f636978-05d6-4676-9846-f2adab8a2a45\",\"type\":\"BasicTickFormatter\"},{\"attributes\":{},\"id\":\"ff1a1a5b-6236-41de-b726-b3bee07e5ae7\",\"type\":\"ToolEvents\"},{\"attributes\":{\"label\":{\"value\":\"Fresh 30k Xp\"},\"renderers\":[{\"id\":\"05c2035e-c461-4cef-afd2-6185c7502608\",\"type\":\"GlyphRenderer\"}]},\"id\":\"7c17f980-61f1-4dd5-9b3d-d144091d7936\",\"type\":\"LegendItem\"},{\"attributes\":{\"plot\":null,\"text\":\"Med Maze 10\"},\"id\":\"56b95734-c682-43c5-9d67-07cd13a54ce0\",\"type\":\"Title\"},{\"attributes\":{\"label\":{\"value\":\"Fresh 300k Xp\"},\"renderers\":[{\"id\":\"c454f458-ecfa-4213-af6e-7ca20e8ff8ad\",\"type\":\"GlyphRenderer\"}]},\"id\":\"459fdbca-f935-485d-b975-cd7325b71aad\",\"type\":\"LegendItem\"},{\"attributes\":{\"fill_alpha\":{\"value\":0.1},\"fill_color\":{\"value\":\"#ffff33\"},\"line_alpha\":{\"value\":0.1},\"line_color\":{\"value\":\"#ffff33\"},\"x\":{\"field\":\"x\"},\"y\":{\"field\":\"y\"}},\"id\":\"8bee829c-2661-4775-af72-10a2c0254480\",\"type\":\"Patch\"},{\"attributes\":{\"callback\":null,\"column_names\":[\"x\",\"y\"],\"data\":{\"x\":[0,1000,2000,3000,4000,5000,6000,7000,8000,9000,10000,11000,12000,13000,14000,15000,16000,17000,18000,19000,20000,21000,22000,23000,24000,25000,26000,27000,28000,29000,30000,31000,32000,33000,34000,35000,36000,37000,38000,39000,40000,41000,42000,43000,44000,45000,46000,47000,48000,49000,50000,51000,52000,53000,54000,55000,56000,57000,58000,59000,60000,61000,62000,63000,64000,65000,66000,67000,68000,69000,70000,71000,72000,73000,74000,75000,76000,77000,78000,79000,80000,81000,82000,83000,84000,85000,86000,87000,88000,89000,90000,91000,92000,93000,94000,95000,96000,97000,98000,99000,100000,101000,102000,103000,104000,105000,106000,107000,108000,109000,110000,111000,112000,113000,114000,115000,116000,117000,118000,119000,120000,121000,122000,123000,124000,125000,126000,127000,128000,129000,130000,131000,132000,133000,134000,135000,136000,137000,138000,139000,140000,141000,142000,143000,144000,145000,146000,147000,148000,149000,150000,151000,152000,153000,154000,155000,156000,157000,158000,159000,160000,161000,162000,163000,164000,165000,166000,167000,168000,169000,170000,171000,172000,173000,174000,175000,176000,177000,178000,179000,180000,181000,182000,183000,184000,185000,186000,187000,188000,189000,190000,191000,192000,193000,194000,195000,196000,197000,198000,199000,200000,201000,202000,203000,204000,205000,206000,207000,208000,209000,210000,211000,212000,213000,214000,215000,216000,217000,218000,219000,220000,221000,222000,223000,224000,225000,226000,227000,228000,229000,230000,231000,232000,233000,234000,235000,236000,237000,238000,239000,240000,241000,242000,243000,244000,245000,246000,247000,248000,249000,250000,251000,252000,253000,254000,255000,256000,257000,258000,259000,260000,261000,262000,263000,264000,265000,266000,267000,268000,269000,270000,271000,272000,273000,274000,275000,276000,277000,278000,279000,280000,281000,282000,283000,284000,285000,286000,287000,288000,289000,290000,291000,292000,293000,294000,295000,296000,297000,298000,299000,300000,300000,299000,298000,297000,296000,295000,294000,293000,292000,291000,290000,289000,288000,287000,286000,285000,284000,283000,282000,281000,280000,279000,278000,277000,276000,275000,274000,273000,272000,271000,270000,269000,268000,267000,266000,265000,264000,263000,262000,261000,260000,259000,258000,257000,256000,255000,254000,253000,252000,251000,250000,249000,248000,247000,246000,245000,244000,243000,242000,241000,240000,239000,238000,237000,236000,235000,234000,233000,232000,231000,230000,229000,228000,227000,226000,225000,224000,223000,222000,221000,220000,219000,218000,217000,216000,215000,214000,213000,212000,211000,210000,209000,208000,207000,206000,205000,204000,203000,202000,201000,200000,199000,198000,197000,196000,195000,194000,193000,192000,191000,190000,189000,188000,187000,186000,185000,184000,183000,182000,181000,180000,179000,178000,177000,176000,175000,174000,173000,172000,171000,170000,169000,168000,167000,166000,165000,164000,163000,162000,161000,160000,159000,158000,157000,156000,155000,154000,153000,152000,151000,150000,149000,148000,147000,146000,145000,144000,143000,142000,141000,140000,139000,138000,137000,136000,135000,134000,133000,132000,131000,130000,129000,128000,127000,126000,125000,124000,123000,122000,121000,120000,119000,118000,117000,116000,115000,114000,113000,112000,111000,110000,109000,108000,107000,106000,105000,104000,103000,102000,101000,100000,99000,98000,97000,96000,95000,94000,93000,92000,91000,90000,89000,88000,87000,86000,85000,84000,83000,82000,81000,80000,79000,78000,77000,76000,75000,74000,73000,72000,71000,70000,69000,68000,67000,66000,65000,64000,63000,62000,61000,60000,59000,58000,57000,56000,55000,54000,53000,52000,51000,50000,49000,48000,47000,46000,45000,44000,43000,42000,41000,40000,39000,38000,37000,36000,35000,34000,33000,32000,31000,30000,29000,28000,27000,26000,25000,24000,23000,22000,21000,20000,19000,18000,17000,16000,15000,14000,13000,12000,11000,10000,9000,8000,7000,6000,5000,4000,3000,2000,1000,0],\"y\":{\"__ndarray__\":\"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\",\"dtype\":\"float64\",\"shape\":[600]}}},\"id\":\"7c77f725-f3ac-482f-ba63-16cefda53b5e\",\"type\":\"ColumnDataSource\"},{\"attributes\":{\"line_color\":{\"value\":\"#ffff33\"},\"line_width\":{\"value\":2},\"x\":{\"field\":\"x\"},\"y\":{\"field\":\"y\"}},\"id\":\"e2c1fb41-35c5-40a7-affb-4fdcff960f3d\",\"type\":\"Line\"},{\"attributes\":{\"below\":[{\"id\":\"38e8d1b9-d078-45b1-bb08-dfddc707fa54\",\"type\":\"LinearAxis\"}],\"left\":[{\"id\":\"037c5eb7-361b-4764-b05e-e772fa60d901\",\"type\":\"LinearAxis\"}],\"plot_height\":800,\"plot_width\":1200,\"renderers\":[{\"id\":\"38e8d1b9-d078-45b1-bb08-dfddc707fa54\",\"type\":\"LinearAxis\"},{\"id\":\"a3542bf1-cd90-48ec-a640-9ec9d7cf22cc\",\"type\":\"Grid\"},{\"id\":\"037c5eb7-361b-4764-b05e-e772fa60d901\",\"type\":\"LinearAxis\"},{\"id\":\"42653956-0b8f-4c09-9be4-a09477a6d4ce\",\"type\":\"Grid\"},{\"id\":\"8e60101f-6c9d-450e-8a55-9cdfbbad93e5\",\"type\":\"BoxAnnotation\"},{\"id\":\"a0061f4b-365e-4691-a83d-2016cf046edc\",\"type\":\"GlyphRenderer\"},{\"id\":\"05c2035e-c461-4cef-afd2-6185c7502608\",\"type\":\"GlyphRenderer\"},{\"id\":\"98f50ca2-939d-4534-941f-283f19f92675\",\"type\":\"GlyphRenderer\"},{\"id\":\"1d143f29-682e-40a9-b0d3-a80aa2310cea\",\"type\":\"GlyphRenderer\"},{\"id\":\"aead7b16-489f-4ae2-8353-6d79f3252a0d\",\"type\":\"GlyphRenderer\"},{\"id\":\"bb8501bf-279b-48ce-8564-8c9ddf77f26c\",\"type\":\"GlyphRenderer\"},{\"id\":\"4bf03120-17a8-46d3-8399-02d1b47bd03e\",\"type\":\"GlyphRenderer\"},{\"id\":\"a4c9754b-139e-4624-b6fc-ab9e123a425d\",\"type\":\"GlyphRenderer\"},{\"id\":\"39b683db-2d62-4cfc-8438-160a61e1ee97\",\"type\":\"GlyphRenderer\"},{\"id\":\"3c3516fc-4297-436a-969f-c22bc53d6323\",\"type\":\"GlyphRenderer\"},{\"id\":\"365cba5a-248b-4bcc-9153-7086da0de7da\",\"type\":\"GlyphRenderer\"},{\"id\":\"bd25cce6-75f8-4b1a-a001-0e28d1e6d5fe\",\"type\":\"GlyphRenderer\"},{\"id\":\"ae210440-a1e4-45ae-b5fc-c9e7275ac4c3\",\"type\":\"GlyphRenderer\"},{\"id\":\"c454f458-ecfa-4213-af6e-7ca20e8ff8ad\",\"type\":\"GlyphRenderer\"},{\"id\":\"d102e38a-43fe-4272-9930-18895737c61f\",\"type\":\"GlyphRenderer\"},{\"id\":\"e08a31db-bbcf-4340-b329-3dabf164f960\",\"type\":\"GlyphRenderer\"},{\"id\":\"e41bac2d-1158-495d-a749-cf8f1eb5dfa3\",\"type\":\"Legend\"}],\"right\":[{\"id\":\"e41bac2d-1158-495d-a749-cf8f1eb5dfa3\",\"type\":\"Legend\"}],\"title\":{\"id\":\"56b95734-c682-43c5-9d67-07cd13a54ce0\",\"type\":\"Title\"},\"tool_events\":{\"id\":\"ff1a1a5b-6236-41de-b726-b3bee07e5ae7\",\"type\":\"ToolEvents\"},\"toolbar\":{\"id\":\"a4f839e4-c7fb-468b-8828-83f0d511a397\",\"type\":\"Toolbar\"},\"toolbar_location\":\"above\",\"x_range\":{\"id\":\"d9c5f682-f39a-44d6-bb26-00f3264828b4\",\"type\":\"DataRange1d\"},\"y_range\":{\"id\":\"c262b72f-5738-4ace-bb5f-10b6e4bfe29f\",\"type\":\"DataRange1d\"}},\"id\":\"c86ab986-1448-47a1-801c-46cb378129d6\",\"subtype\":\"Figure\",\"type\":\"Plot\"},{\"attributes\":{\"data_source\":{\"id\":\"8026b2f1-a53c-4b2b-a258-0e49f123a74e\",\"type\":\"ColumnDataSource\"},\"glyph\":{\"id\":\"8bee829c-2661-4775-af72-10a2c0254480\",\"type\":\"Patch\"},\"hover_glyph\":null,\"nonselection_glyph\":{\"id\":\"7f2890a3-4602-46f4-8788-fc1915263a72\",\"type\":\"Patch\"},\"selection_glyph\":null},\"id\":\"365cba5a-248b-4bcc-9153-7086da0de7da\",\"type\":\"GlyphRenderer\"},{\"attributes\":{\"line_color\":{\"value\":\"#ff7f00\"},\"line_width\":{\"value\":2},\"x\":{\"field\":\"x\"},\"y\":{\"field\":\"y\"}},\"id\":\"cc9f58a9-2a5d-448f-9662-683311e10823\",\"type\":\"Line\"},{\"attributes\":{\"data_source\":{\"id\":\"f4de72a7-1d2b-4b66-8ae8-a7ae78a9d760\",\"type\":\"ColumnDataSource\"},\"glyph\":{\"id\":\"fc946840-1af8-42cd-a71f-c534f8a43f48\",\"type\":\"Line\"},\"hover_glyph\":null,\"nonselection_glyph\":{\"id\":\"fbcb2c33-72e4-4f38-9153-bb708c8a787c\",\"type\":\"Line\"},\"selection_glyph\":null},\"id\":\"a4c9754b-139e-4624-b6fc-ab9e123a425d\",\"type\":\"GlyphRenderer\"},{\"attributes\":{\"fill_alpha\":{\"value\":0.1},\"fill_color\":{\"value\":\"#1f77b4\"},\"line_alpha\":{\"value\":0.1},\"line_color\":{\"value\":\"#1f77b4\"},\"x\":{\"field\":\"x\"},\"y\":{\"field\":\"y\"}},\"id\":\"dfe73855-2c43-4909-a6f9-97fbf045c304\",\"type\":\"Patch\"},{\"attributes\":{\"callback\":null,\"column_names\":[\"x\",\"y\"],\"data\":{\"x\":[0,1000,2000,3000,4000,5000,6000,7000,8000,9000,10000,11000,12000,13000,14000,15000,16000,17000,18000,19000,20000,21000,22000,23000,24000,25000,26000,27000,28000,29000,30000,31000,32000,33000,34000,35000,36000,37000,38000,39000,40000,41000,42000,43000,44000,45000,46000,47000,48000,49000,50000,51000,52000,53000,54000,55000,56000,57000,58000,59000,60000,61000,62000,63000,64000,65000,66000,67000,68000,69000,70000,71000,72000,73000,74000,75000,76000,77000,78000,79000,80000,81000,82000,83000,84000,85000,86000,87000,88000,89000,90000,91000,92000,93000,94000,95000,96000,97000,98000,99000,100000,101000,102000,103000,104000,105000,106000,107000,108000,109000,110000,111000,112000,113000,114000,115000,116000,117000,118000,119000,120000,121000,122000,123000,124000,125000,126000,127000,128000,129000,130000,131000,132000,133000,134000,135000,136000,137000,138000,139000,140000,141000,142000,143000,144000,145000,146000,147000,148000,149000,150000,151000,152000,153000,154000,155000,156000,157000,158000,159000,160000,161000,162000,163000,164000,165000,166000,167000,168000,169000,170000,171000,172000,173000,174000,175000,176000,177000,178000,179000,180000,181000,182000,183000,184000,185000,186000,187000,188000,189000,190000,191000,192000,193000,194000,195000,196000,197000,198000,199000,200000,201000,202000,203000,204000,205000,206000,207000,208000,209000,210000,211000,212000,213000,214000,215000,216000,217000,218000,219000,220000,221000,222000,223000,224000,225000,226000,227000,228000,229000,230000,231000,232000,233000,234000,235000,236000,237000,238000,239000,240000,241000,242000,243000,244000,245000,246000,247000,248000,249000,250000,251000,252000,253000,254000,255000,256000,257000,258000,259000,260000,261000,262000,263000,264000,265000,266000,267000,268000,269000,270000,271000,272000,273000,274000,275000,276000,277000,278000,279000,280000,281000,282000,283000,284000,285000,286000,287000,288000,289000,290000,291000,292000,293000,294000,295000,296000,297000,298000,299000,300000,300000,299000,298000,297000,296000,295000,294000,293000,292000,291000,290000,289000,288000,287000,286000,285000,284000,283000,282000,281000,280000,279000,278000,277000,276000,275000,274000,273000,272000,271000,270000,269000,268000,267000,266000,265000,264000,263000,262000,261000,260000,259000,258000,257000,256000,255000,254000,253000,252000,251000,250000,249000,248000,247000,246000,245000,244000,243000,242000,241000,240000,239000,238000,237000,236000,235000,234000,233000,232000,231000,230000,229000,228000,227000,226000,225000,224000,223000,222000,221000,220000,219000,218000,217000,216000,215000,214000,213000,212000,211000,210000,209000,208000,207000,206000,205000,204000,203000,202000,201000,200000,199000,198000,197000,196000,195000,194000,193000,192000,191000,190000,189000,188000,187000,186000,185000,184000,183000,182000,181000,180000,179000,178000,177000,176000,175000,174000,173000,172000,171000,170000,169000,168000,167000,166000,165000,164000,163000,162000,161000,160000,159000,158000,157000,156000,155000,154000,153000,152000,151000,150000,149000,148000,147000,146000,145000,144000,143000,142000,141000,140000,139000,138000,137000,136000,135000,134000,133000,132000,131000,130000,129000,128000,127000,126000,125000,124000,123000,122000,121000,120000,119000,118000,117000,116000,115000,114000,113000,112000,111000,110000,109000,108000,107000,106000,105000,104000,103000,102000,101000,100000,99000,98000,97000,96000,95000,94000,93000,92000,91000,90000,89000,88000,87000,86000,85000,84000,83000,82000,81000,80000,79000,78000,77000,76000,75000,74000,73000,72000,71000,70000,69000,68000,67000,66000,65000,64000,63000,62000,61000,60000,59000,58000,57000,56000,55000,54000,53000,52000,51000,50000,49000,48000,47000,46000,45000,44000,43000,42000,41000,40000,39000,38000,37000,36000,35000,34000,33000,32000,31000,30000,29000,28000,27000,26000,25000,24000,23000,22000,21000,20000,19000,18000,17000,16000,15000,14000,13000,12000,11000,10000,9000,8000,7000,6000,5000,4000,3000,2000,1000,0],\"y\":{\"__ndarray__\":\"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\",\"dtype\":\"float64\",\"shape\":[600]}}},\"id\":\"da6377e4-5932-4061-8b29-1e62020cbd08\",\"type\":\"ColumnDataSource\"},{\"attributes\":{\"callback\":null,\"column_names\":[\"x\",\"y\"],\"data\":{\"x\":[0,1000,2000,3000,4000,5000,6000,7000,8000,9000,10000,11000,12000,13000,14000,15000,16000,17000,18000,19000,20000,21000,22000,23000,24000,25000,26000,27000,28000,29000,30000,31000,32000,33000,34000,35000,36000,37000,38000,39000,40000,41000,42000,43000,44000,45000,46000,47000,48000,49000,50000,51000,52000,53000,54000,55000,56000,57000,58000,59000,60000,61000,62000,63000,64000,65000,66000,67000,68000,69000,70000,71000,72000,73000,74000,75000,76000,77000,78000,79000,80000,81000,82000,83000,84000,85000,86000,87000,88000,89000,90000,91000,92000,93000,94000,95000,96000,97000,98000,99000,100000,101000,102000,103000,104000,105000,106000,107000,108000,109000,110000,111000,112000,113000,114000,115000,116000,117000,118000,119000,120000,121000,122000,123000,124000,125000,126000,127000,128000,129000,130000,131000,132000,133000,134000,135000,136000,137000,138000,139000,140000,141000,142000,143000,144000,145000,146000,147000,148000,149000,150000,151000,152000,153000,154000,155000,156000,157000,158000,159000,160000,161000,162000,163000,164000,165000,166000,167000,168000,169000,170000,171000,172000,173000,174000,175000,176000,177000,178000,179000,180000,181000,182000,183000,184000,185000,186000,187000,188000,189000,190000,191000,192000,193000,194000,195000,196000,197000,198000,199000,200000,201000,202000,203000,204000,205000,206000,207000,208000,209000,210000,211000,212000,213000,214000,215000,216000,217000,218000,219000,220000,221000,222000,223000,224000,225000,226000,227000,228000,229000,230000,231000,232000,233000,234000,235000,236000,237000,238000,239000,240000,241000,242000,243000,244000,245000,246000,247000,248000,249000,250000,251000,252000,253000,254000,255000,256000,257000,258000,259000,260000,261000,262000,263000,264000,265000,266000,267000,268000,269000,270000,271000,272000,273000,274000,275000,276000,277000,278000,279000,280000,281000,282000,283000,284000,285000,286000,287000,288000,289000,290000,291000,292000,293000,294000,295000,296000,297000,298000,299000,300000],\"y\":{\"__ndarray__\":\"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\",\"dtype\":\"float64\",\"shape\":[300]}}},\"id\":\"45c60498-39d7-457e-be8f-890cb036d0ee\",\"type\":\"ColumnDataSource\"},{\"attributes\":{\"fill_alpha\":{\"value\":0.1},\"fill_color\":{\"value\":\"#ff7f00\"},\"line_alpha\":{\"value\":0.1},\"line_color\":{\"value\":\"#ff7f00\"},\"x\":{\"field\":\"x\"},\"y\":{\"field\":\"y\"}},\"id\":\"db332e14-8a71-488e-b9ed-2db14c40eeb1\",\"type\":\"Patch\"},{\"attributes\":{\"callback\":null,\"column_names\":[\"x\",\"y\"],\"data\":{\"x\":[0,1000,2000,3000,4000,5000,6000,7000,8000,9000,10000,11000,12000,13000,14000,15000,16000,17000,18000,19000,20000,21000,22000,23000,24000,25000,26000,27000,28000,29000,30000,31000,32000,33000,34000,35000,36000,37000,38000,39000,40000,41000,42000,43000,44000,45000,46000,47000,48000,49000,50000,51000,52000,53000,54000,55000,56000,57000,58000,59000,60000,61000,62000,63000,64000,65000,66000,67000,68000,69000,70000,71000,72000,73000,74000,75000,76000,77000,78000,79000,80000,81000,82000,83000,84000,85000,86000,87000,88000,89000,90000,91000,92000,93000,94000,95000,96000,97000,98000,99000,100000,101000,102000,103000,104000,105000,106000,107000,108000,109000,110000,111000,112000,113000,114000,115000,116000,117000,118000,119000,120000,121000,122000,123000,124000,125000,126000,127000,128000,129000,130000,131000,132000,133000,134000,135000,136000,137000,138000,139000,140000,141000,142000,143000,144000,145000,146000,147000,148000,149000,150000,151000,152000,153000,154000,155000,156000,157000,158000,159000,160000,161000,162000,163000,164000,165000,166000,167000,168000,169000,170000,171000,172000,173000,174000,175000,176000,177000,178000,179000,180000,181000,182000,183000,184000,185000,186000,187000,188000,189000,190000,191000,192000,193000,194000,195000,196000,197000,198000,199000,200000,201000,202000,203000,204000,205000,206000,207000,208000,209000,210000,211000,212000,213000,214000,215000,216000,217000,218000,219000,220000,221000,222000,223000,224000,225000,226000,227000,228000,229000,230000,231000,232000,233000,234000,235000,236000,237000,238000,239000,240000,241000,242000,243000,244000,245000,246000,247000,248000,249000,250000,251000,252000,253000,254000,255000,256000,257000,258000,259000,260000,261000,262000,263000,264000,265000,266000,267000,268000,269000,270000,271000,272000,273000,274000,275000,276000,277000,278000,279000,280000,281000,282000,283000,284000,285000,286000,287000,288000,289000,290000,291000,292000,293000,294000,295000,296000,297000,298000,299000,300000,300000,299000,298000,297000,296000,295000,294000,293000,292000,291000,290000,289000,288000,287000,286000,285000,284000,283000,282000,281000,280000,279000,278000,277000,276000,275000,274000,273000,272000,271000,270000,269000,268000,267000,266000,265000,264000,263000,262000,261000,260000,259000,258000,257000,256000,255000,254000,253000,252000,251000,250000,249000,248000,247000,246000,245000,244000,243000,242000,241000,240000,239000,238000,237000,236000,235000,234000,233000,232000,231000,230000,229000,228000,227000,226000,225000,224000,223000,222000,221000,220000,219000,218000,217000,216000,215000,214000,213000,212000,211000,210000,209000,208000,207000,206000,205000,204000,203000,202000,201000,200000,199000,198000,197000,196000,195000,194000,193000,192000,191000,190000,189000,188000,187000,186000,185000,184000,183000,182000,181000,180000,179000,178000,177000,176000,175000,174000,173000,172000,171000,170000,169000,168000,167000,166000,165000,164000,163000,162000,161000,160000,159000,158000,157000,156000,155000,154000,153000,152000,151000,150000,149000,148000,147000,146000,145000,144000,143000,142000,141000,140000,139000,138000,137000,136000,135000,134000,133000,132000,131000,130000,129000,128000,127000,126000,125000,124000,123000,122000,121000,120000,119000,118000,117000,116000,115000,114000,113000,112000,111000,110000,109000,108000,107000,106000,105000,104000,103000,102000,101000,100000,99000,98000,97000,96000,95000,94000,93000,92000,91000,90000,89000,88000,87000,86000,85000,84000,83000,82000,81000,80000,79000,78000,77000,76000,75000,74000,73000,72000,71000,70000,69000,68000,67000,66000,65000,64000,63000,62000,61000,60000,59000,58000,57000,56000,55000,54000,53000,52000,51000,50000,49000,48000,47000,46000,45000,44000,43000,42000,41000,40000,39000,38000,37000,36000,35000,34000,33000,32000,31000,30000,29000,28000,27000,26000,25000,24000,23000,22000,21000,20000,19000,18000,17000,16000,15000,14000,13000,12000,11000,10000,9000,8000,7000,6000,5000,4000,3000,2000,1000,0],\"y\":{\"__ndarray__\":\"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\",\"dtype\":\"float64\",\"shape\":[600]}}},\"id\":\"8026b2f1-a53c-4b2b-a258-0e49f123a74e\",\"type\":\"ColumnDataSource\"},{\"attributes\":{\"callback\":null,\"column_names\":[\"x\",\"y\"],\"data\":{\"x\":[0,1000,2000,3000,4000,5000,6000,7000,8000,9000,10000,11000,12000,13000,14000,15000,16000,17000,18000,19000,20000,21000,22000,23000,24000,25000,26000,27000,28000,29000,30000,31000,32000,33000,34000,35000,36000,37000,38000,39000,40000,41000,42000,43000,44000,45000,46000,47000,48000,49000,50000,51000,52000,53000,54000,55000,56000,57000,58000,59000,60000,61000,62000,63000,64000,65000,66000,67000,68000,69000,70000,71000,72000,73000,74000,75000,76000,77000,78000,79000,80000,81000,82000,83000,84000,85000,86000,87000,88000,89000,90000,91000,92000,93000,94000,95000,96000,97000,98000,99000,100000,101000,102000,103000,104000,105000,106000,107000,108000,109000,110000,111000,112000,113000,114000,115000,116000,117000,118000,119000,120000,121000,122000,123000,124000,125000,126000,127000,128000,129000,130000,131000,132000,133000,134000,135000,136000,137000,138000,139000,140000,141000,142000,143000,144000,145000,146000,147000,148000,149000,150000,151000,152000,153000,154000,155000,156000,157000,158000,159000,160000,161000,162000,163000,164000,165000,166000,167000,168000,169000,170000,171000,172000,173000,174000,175000,176000,177000,178000,179000,180000,181000,182000,183000,184000,185000,186000,187000,188000,189000,190000,191000,192000,193000,194000,195000,196000,197000,198000,199000,200000,201000,202000,203000,204000,205000,206000,207000,208000,209000,210000,211000,212000,213000,214000,215000,216000,217000,218000,219000,220000,221000,222000,223000,224000,225000,226000,227000,228000,229000,230000,231000,232000,233000,234000,235000,236000,237000,238000,239000,240000,241000,242000,243000,244000,245000,246000,247000,248000,249000,250000,251000,252000,253000,254000,255000,256000,257000,258000,259000,260000,261000,262000,263000,264000,265000,266000,267000,268000,269000,270000,271000,272000,273000,274000,275000,276000,277000,278000,279000,280000,281000,282000,283000,284000,285000,286000,287000,288000,289000,290000,291000,292000,293000,294000,295000,296000,297000,298000,299000,300000],\"y\":{\"__ndarray__\":\"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\",\"dtype\":\"float64\",\"shape\":[300]}}},\"id\":\"82ede079-617d-443a-aa0d-67fb66ffbd7a\",\"type\":\"ColumnDataSource\"},{\"attributes\":{\"data_source\":{\"id\":\"da6377e4-5932-4061-8b29-1e62020cbd08\",\"type\":\"ColumnDataSource\"},\"glyph\":{\"id\":\"db332e14-8a71-488e-b9ed-2db14c40eeb1\",\"type\":\"Patch\"},\"hover_glyph\":null,\"nonselection_glyph\":{\"id\":\"dfe73855-2c43-4909-a6f9-97fbf045c304\",\"type\":\"Patch\"},\"selection_glyph\":null},\"id\":\"39b683db-2d62-4cfc-8438-160a61e1ee97\",\"type\":\"GlyphRenderer\"},{\"attributes\":{\"data_source\":{\"id\":\"45c60498-39d7-457e-be8f-890cb036d0ee\",\"type\":\"ColumnDataSource\"},\"glyph\":{\"id\":\"cc9f58a9-2a5d-448f-9662-683311e10823\",\"type\":\"Line\"},\"hover_glyph\":null,\"nonselection_glyph\":{\"id\":\"b4bb4027-b191-4b5f-b5a1-8575cbd7e48a\",\"type\":\"Line\"},\"selection_glyph\":null},\"id\":\"3c3516fc-4297-436a-969f-c22bc53d6323\",\"type\":\"GlyphRenderer\"},{\"attributes\":{\"data_source\":{\"id\":\"7c77f725-f3ac-482f-ba63-16cefda53b5e\",\"type\":\"ColumnDataSource\"},\"glyph\":{\"id\":\"3a485433-bcd9-4b3b-9311-0fc5b29fe35e\",\"type\":\"Patch\"},\"hover_glyph\":null,\"nonselection_glyph\":{\"id\":\"93d37268-d3a7-40e2-b3d1-1eac5a19cd11\",\"type\":\"Patch\"},\"selection_glyph\":null},\"id\":\"ae210440-a1e4-45ae-b5fc-c9e7275ac4c3\",\"type\":\"GlyphRenderer\"},{\"attributes\":{\"line_alpha\":{\"value\":0.1},\"line_color\":{\"value\":\"#1f77b4\"},\"line_width\":{\"value\":2},\"x\":{\"field\":\"x\"},\"y\":{\"field\":\"y\"}},\"id\":\"b4bb4027-b191-4b5f-b5a1-8575cbd7e48a\",\"type\":\"Line\"},{\"attributes\":{\"line_color\":{\"value\":\"#a65628\"},\"line_width\":{\"value\":2},\"x\":{\"field\":\"x\"},\"y\":{\"field\":\"y\"}},\"id\":\"1cb5c1de-4acb-4866-8bf7-f3d0a3a61037\",\"type\":\"Line\"},{\"attributes\":{\"fill_alpha\":{\"value\":0.1},\"fill_color\":{\"value\":\"#a65628\"},\"line_alpha\":{\"value\":0.1},\"line_color\":{\"value\":\"#a65628\"},\"x\":{\"field\":\"x\"},\"y\":{\"field\":\"y\"}},\"id\":\"3a485433-bcd9-4b3b-9311-0fc5b29fe35e\",\"type\":\"Patch\"},{\"attributes\":{\"fill_alpha\":{\"value\":0.1},\"fill_color\":{\"value\":\"#1f77b4\"},\"line_alpha\":{\"value\":0.1},\"line_color\":{\"value\":\"#1f77b4\"},\"x\":{\"field\":\"x\"},\"y\":{\"field\":\"y\"}},\"id\":\"7f2890a3-4602-46f4-8788-fc1915263a72\",\"type\":\"Patch\"},{\"attributes\":{\"data_source\":{\"id\":\"82ede079-617d-443a-aa0d-67fb66ffbd7a\",\"type\":\"ColumnDataSource\"},\"glyph\":{\"id\":\"e2c1fb41-35c5-40a7-affb-4fdcff960f3d\",\"type\":\"Line\"},\"hover_glyph\":null,\"nonselection_glyph\":{\"id\":\"e7205140-05aa-4653-9aff-8dd796b35d1f\",\"type\":\"Line\"},\"selection_glyph\":null},\"id\":\"bd25cce6-75f8-4b1a-a001-0e28d1e6d5fe\",\"type\":\"GlyphRenderer\"},{\"attributes\":{\"callback\":null,\"column_names\":[\"x\",\"y\"],\"data\":{\"x\":[0,1000,2000,3000,4000,5000,6000,7000,8000,9000,10000,11000,12000,13000,14000,15000,16000,17000,18000,19000,20000,21000,22000,23000,24000,25000,26000,27000,28000,29000,30000,31000,32000,33000,34000,35000,36000,37000,38000,39000,40000,41000,42000,43000,44000,45000,46000,47000,48000,49000,50000,51000,52000,53000,54000,55000,56000,57000,58000,59000,60000,61000,62000,63000,64000,65000,66000,67000,68000,69000,70000,71000,72000,73000,74000,75000,76000,77000,78000,79000,80000,81000,82000,83000,84000,85000,86000,87000,88000,89000,90000,91000,92000,93000,94000,95000,96000,97000,98000,99000,100000,101000,102000,103000,104000,105000,106000,107000,108000,109000,110000,111000,112000,113000,114000,115000,116000,117000,118000,119000,120000,121000,122000,123000,124000,125000,126000,127000,128000,129000,130000,131000,132000,133000,134000,135000,136000,137000,138000,139000,140000,141000,142000,143000,144000,145000,146000,147000,148000,149000,150000,151000,152000,153000,154000,155000,156000,157000,158000,159000,160000,161000,162000,163000,164000,165000,166000,167000,168000,169000,170000,171000,172000,173000,174000,175000,176000,177000,178000,179000,180000,181000,182000,183000,184000,185000,186000,187000,188000,189000,190000,191000,192000,193000,194000,195000,196000,197000,198000,199000,200000,201000,202000,203000,204000,205000,206000,207000,208000,209000,210000,211000,212000,213000,214000,215000,216000,217000,218000,219000,220000,221000,222000,223000,224000,225000,226000,227000,228000,229000,230000,231000,232000,233000,234000,235000,236000,237000,238000,239000,240000,241000,242000,243000,244000,245000,246000,247000,248000,249000,250000,251000,252000,253000,254000,255000,256000,257000,258000,259000,260000,261000,262000,263000,264000,265000,266000,267000,268000,269000,270000,271000,272000,273000,274000,275000,276000,277000,278000,279000,280000,281000,282000,283000,284000,285000,286000,287000,288000,289000,290000,291000,292000,293000,294000,295000,296000,297000,298000,299000,300000],\"y\":{\"__ndarray__\":\"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\",\"dtype\":\"float64\",\"shape\":[300]}}},\"id\":\"d83ee687-a256-4f5c-95a4-5253e6f54561\",\"type\":\"ColumnDataSource\"},{\"attributes\":{\"line_color\":{\"value\":\"#f781bf\"},\"line_width\":{\"value\":2},\"x\":{\"field\":\"x\"},\"y\":{\"field\":\"y\"}},\"id\":\"d2cc2e95-9e31-47d1-b17f-0168a3d6f9cc\",\"type\":\"Line\"},{\"attributes\":{\"line_alpha\":{\"value\":0.1},\"line_color\":{\"value\":\"#1f77b4\"},\"line_width\":{\"value\":2},\"x\":{\"field\":\"x\"},\"y\":{\"field\":\"y\"}},\"id\":\"e7205140-05aa-4653-9aff-8dd796b35d1f\",\"type\":\"Line\"},{\"attributes\":{\"callback\":null,\"column_names\":[\"x\",\"y\"],\"data\":{\"x\":[0,1000,2000,3000,4000,5000,6000,7000,8000,9000,10000,11000,12000,13000,14000,15000,16000,17000,18000,19000,20000,21000,22000,23000,24000,25000,26000,27000,28000,29000,30000,31000,32000,33000,34000,35000,36000,37000,38000,39000,40000,41000,42000,43000,44000,45000,46000,47000,48000,49000,50000,51000,52000,53000,54000,55000,56000,57000,58000,59000,60000,61000,62000,63000,64000,65000,66000,67000,68000,69000,70000,71000,72000,73000,74000,75000,76000,77000,78000,79000,80000,81000,82000,83000,84000,85000,86000,87000,88000,89000,90000,91000,92000,93000,94000,95000,96000,97000,98000,99000,100000,101000,102000,103000,104000,105000,106000,107000,108000,109000,110000,111000,112000,113000,114000,115000,116000,117000,118000,119000,120000,121000,122000,123000,124000,125000,126000,127000,128000,129000,130000,131000,132000,133000,134000,135000,136000,137000,138000,139000,140000,141000,142000,143000,144000,145000,146000,147000,148000,149000,150000,151000,152000,153000,154000,155000,156000,157000,158000,159000,160000,161000,162000,163000,164000,165000,166000,167000,168000,169000,170000,171000,172000,173000,174000,175000,176000,177000,178000,179000,180000,181000,182000,183000,184000,185000,186000,187000,188000,189000,190000,191000,192000,193000,194000,195000,196000,197000,198000,199000,200000,201000,202000,203000,204000,205000,206000,207000,208000,209000,210000,211000,212000,213000,214000,215000,216000,217000,218000,219000,220000,221000,222000,223000,224000,225000,226000,227000,228000,229000,230000,231000,232000,233000,234000,235000,236000,237000,238000,239000,240000,241000,242000,243000,244000,245000,246000,247000,248000,249000,250000,251000,252000,253000,254000,255000,256000,257000,258000,259000,260000,261000,262000,263000,264000,265000,266000,267000,268000,269000,270000,271000,272000,273000,274000,275000,276000,277000,278000,279000,280000,281000,282000,283000,284000,285000,286000,287000,288000,289000,290000,291000,292000,293000,294000,295000,296000,297000,298000,299000,300000],\"y\":{\"__ndarray__\":\"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\",\"dtype\":\"float64\",\"shape\":[300]}}},\"id\":\"707ca504-77f8-4781-b98b-ad6b7a94cd13\",\"type\":\"ColumnDataSource\"},{\"attributes\":{\"data_source\":{\"id\":\"28f8eda8-16e0-4425-a5a2-fb4f9035ae22\",\"type\":\"ColumnDataSource\"},\"glyph\":{\"id\":\"6cec4948-0002-4992-aa12-23e6b0ddaf3b\",\"type\":\"Patch\"},\"hover_glyph\":null,\"nonselection_glyph\":{\"id\":\"f3a872ee-d704-454c-9de7-364dc8717ea9\",\"type\":\"Patch\"},\"selection_glyph\":null},\"id\":\"d102e38a-43fe-4272-9930-18895737c61f\",\"type\":\"GlyphRenderer\"},{\"attributes\":{\"fill_alpha\":{\"value\":0.1},\"fill_color\":{\"value\":\"#1f77b4\"},\"line_alpha\":{\"value\":0.1},\"line_color\":{\"value\":\"#1f77b4\"},\"x\":{\"field\":\"x\"},\"y\":{\"field\":\"y\"}},\"id\":\"93d37268-d3a7-40e2-b3d1-1eac5a19cd11\",\"type\":\"Patch\"},{\"attributes\":{\"callback\":null,\"column_names\":[\"x\",\"y\"],\"data\":{\"x\":[0,1000,2000,3000,4000,5000,6000,7000,8000,9000,10000,11000,12000,13000,14000,15000,16000,17000,18000,19000,20000,21000,22000,23000,24000,25000,26000,27000,28000,29000,30000,31000,32000,33000,34000,35000,36000,37000,38000,39000,40000,41000,42000,43000,44000,45000,46000,47000,48000,49000,50000,51000,52000,53000,54000,55000,56000,57000,58000,59000,60000,61000,62000,63000,64000,65000,66000,67000,68000,69000,70000,71000,72000,73000,74000,75000,76000,77000,78000,79000,80000,81000,82000,83000,84000,85000,86000,87000,88000,89000,90000,91000,92000,93000,94000,95000,96000,97000,98000,99000,100000,101000,102000,103000,104000,105000,106000,107000,108000,109000,110000,111000,112000,113000,114000,115000,116000,117000,118000,119000,120000,121000,122000,123000,124000,125000,126000,127000,128000,129000,130000,131000,132000,133000,134000,135000,136000,137000,138000,139000,140000,141000,142000,143000,144000,145000,146000,147000,148000,149000,150000,151000,152000,153000,154000,155000,156000,157000,158000,159000,160000,161000,162000,163000,164000,165000,166000,167000,168000,169000,170000,171000,172000,173000,174000,175000,176000,177000,178000,179000,180000,181000,182000,183000,184000,185000,186000,187000,188000,189000,190000,191000,192000,193000,194000,195000,196000,197000,198000,199000,200000,201000,202000,203000,204000,205000,206000,207000,208000,209000,210000,211000,212000,213000,214000,215000,216000,217000,218000,219000,220000,221000,222000,223000,224000,225000,226000,227000,228000,229000,230000,231000,232000,233000,234000,235000,236000,237000,238000,239000,240000,241000,242000,243000,244000,245000,246000,247000,248000,249000,250000,251000,252000,253000,254000,255000,256000,257000,258000,259000,260000,261000,262000,263000,264000,265000,266000,267000,268000,269000,270000,271000,272000,273000,274000,275000,276000,277000,278000,279000,280000,281000,282000,283000,284000,285000,286000,287000,288000,289000,290000,291000,292000,293000,294000,295000,296000,297000,298000,299000,300000,300000,299000,298000,297000,296000,295000,294000,293000,292000,291000,290000,289000,288000,287000,286000,285000,284000,283000,282000,281000,280000,279000,278000,277000,276000,275000,274000,273000,272000,271000,270000,269000,268000,267000,266000,265000,264000,263000,262000,261000,260000,259000,258000,257000,256000,255000,254000,253000,252000,251000,250000,249000,248000,247000,246000,245000,244000,243000,242000,241000,240000,239000,238000,237000,236000,235000,234000,233000,232000,231000,230000,229000,228000,227000,226000,225000,224000,223000,222000,221000,220000,219000,218000,217000,216000,215000,214000,213000,212000,211000,210000,209000,208000,207000,206000,205000,204000,203000,202000,201000,200000,199000,198000,197000,196000,195000,194000,193000,192000,191000,190000,189000,188000,187000,186000,185000,184000,183000,182000,181000,180000,179000,178000,177000,176000,175000,174000,173000,172000,171000,170000,169000,168000,167000,166000,165000,164000,163000,162000,161000,160000,159000,158000,157000,156000,155000,154000,153000,152000,151000,150000,149000,148000,147000,146000,145000,144000,143000,142000,141000,140000,139000,138000,137000,136000,135000,134000,133000,132000,131000,130000,129000,128000,127000,126000,125000,124000,123000,122000,121000,120000,119000,118000,117000,116000,115000,114000,113000,112000,111000,110000,109000,108000,107000,106000,105000,104000,103000,102000,101000,100000,99000,98000,97000,96000,95000,94000,93000,92000,91000,90000,89000,88000,87000,86000,85000,84000,83000,82000,81000,80000,79000,78000,77000,76000,75000,74000,73000,72000,71000,70000,69000,68000,67000,66000,65000,64000,63000,62000,61000,60000,59000,58000,57000,56000,55000,54000,53000,52000,51000,50000,49000,48000,47000,46000,45000,44000,43000,42000,41000,40000,39000,38000,37000,36000,35000,34000,33000,32000,31000,30000,29000,28000,27000,26000,25000,24000,23000,22000,21000,20000,19000,18000,17000,16000,15000,14000,13000,12000,11000,10000,9000,8000,7000,6000,5000,4000,3000,2000,1000,0],\"y\":{\"__ndarray__\":\"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\",\"dtype\":\"float64\",\"shape\":[600]}}},\"id\":\"28f8eda8-16e0-4425-a5a2-fb4f9035ae22\",\"type\":\"ColumnDataSource\"},{\"attributes\":{\"line_alpha\":{\"value\":0.1},\"line_color\":{\"value\":\"#1f77b4\"},\"line_width\":{\"value\":2},\"x\":{\"field\":\"x\"},\"y\":{\"field\":\"y\"}},\"id\":\"09abceef-57f1-4f17-968c-4c0f4f0eb169\",\"type\":\"Line\"},{\"attributes\":{\"fill_alpha\":{\"value\":0.1},\"fill_color\":{\"value\":\"#f781bf\"},\"line_alpha\":{\"value\":0.1},\"line_color\":{\"value\":\"#f781bf\"},\"x\":{\"field\":\"x\"},\"y\":{\"field\":\"y\"}},\"id\":\"6cec4948-0002-4992-aa12-23e6b0ddaf3b\",\"type\":\"Patch\"},{\"attributes\":{\"data_source\":{\"id\":\"d83ee687-a256-4f5c-95a4-5253e6f54561\",\"type\":\"ColumnDataSource\"},\"glyph\":{\"id\":\"1cb5c1de-4acb-4866-8bf7-f3d0a3a61037\",\"type\":\"Line\"},\"hover_glyph\":null,\"nonselection_glyph\":{\"id\":\"09abceef-57f1-4f17-968c-4c0f4f0eb169\",\"type\":\"Line\"},\"selection_glyph\":null},\"id\":\"c454f458-ecfa-4213-af6e-7ca20e8ff8ad\",\"type\":\"GlyphRenderer\"},{\"attributes\":{\"fill_alpha\":{\"value\":0.1},\"fill_color\":{\"value\":\"#1f77b4\"},\"line_alpha\":{\"value\":0.1},\"line_color\":{\"value\":\"#1f77b4\"},\"x\":{\"field\":\"x\"},\"y\":{\"field\":\"y\"}},\"id\":\"f3a872ee-d704-454c-9de7-364dc8717ea9\",\"type\":\"Patch\"},{\"attributes\":{\"line_alpha\":{\"value\":0.1},\"line_color\":{\"value\":\"#1f77b4\"},\"line_width\":{\"value\":2},\"x\":{\"field\":\"x\"},\"y\":{\"field\":\"y\"}},\"id\":\"ab4693f2-8a92-4cd0-92b9-b30761a8d0d0\",\"type\":\"Line\"},{\"attributes\":{\"data_source\":{\"id\":\"707ca504-77f8-4781-b98b-ad6b7a94cd13\",\"type\":\"ColumnDataSource\"},\"glyph\":{\"id\":\"d2cc2e95-9e31-47d1-b17f-0168a3d6f9cc\",\"type\":\"Line\"},\"hover_glyph\":null,\"nonselection_glyph\":{\"id\":\"ab4693f2-8a92-4cd0-92b9-b30761a8d0d0\",\"type\":\"Line\"},\"selection_glyph\":null},\"id\":\"e08a31db-bbcf-4340-b329-3dabf164f960\",\"type\":\"GlyphRenderer\"},{\"attributes\":{\"label\":{\"value\":\"Fresh 100k Xp\"},\"renderers\":[{\"id\":\"bb8501bf-279b-48ce-8564-8c9ddf77f26c\",\"type\":\"GlyphRenderer\"}]},\"id\":\"c02aac2a-26c9-4c58-ad60-3315eb0603db\",\"type\":\"LegendItem\"},{\"attributes\":{\"label\":{\"value\":\"Fresh 200k Xp\"},\"renderers\":[{\"id\":\"3c3516fc-4297-436a-969f-c22bc53d6323\",\"type\":\"GlyphRenderer\"}]},\"id\":\"f6f4737e-726a-49bb-8a87-360dc06d46d6\",\"type\":\"LegendItem\"},{\"attributes\":{\"label\":{\"value\":\"Stale 100k Prioritized Xp\"},\"renderers\":[{\"id\":\"a4c9754b-139e-4624-b6fc-ab9e123a425d\",\"type\":\"GlyphRenderer\"}]},\"id\":\"5edeabbd-163f-452d-8225-25cd851d5d2d\",\"type\":\"LegendItem\"},{\"attributes\":{\"fill_alpha\":{\"value\":0.1},\"fill_color\":{\"value\":\"#377eb8\"},\"line_alpha\":{\"value\":0.1},\"line_color\":{\"value\":\"#377eb8\"},\"x\":{\"field\":\"x\"},\"y\":{\"field\":\"y\"}},\"id\":\"4cd2202d-9612-4fc6-8235-c646e51e6be8\",\"type\":\"Patch\"},{\"attributes\":{\"label\":{\"value\":\"Stale 30k Prioritized Xp\"},\"renderers\":[{\"id\":\"1d143f29-682e-40a9-b0d3-a80aa2310cea\",\"type\":\"GlyphRenderer\"}]},\"id\":\"5f3f2082-824e-47c3-b267-58aff3216ff3\",\"type\":\"LegendItem\"},{\"attributes\":{\"callback\":null,\"column_names\":[\"x\",\"y\"],\"data\":{\"x\":[0,1000,2000,3000,4000,5000,6000,7000,8000,9000,10000,11000,12000,13000,14000,15000,16000,17000,18000,19000,20000,21000,22000,23000,24000,25000,26000,27000,28000,29000,30000,31000,32000,33000,34000,35000,36000,37000,38000,39000,40000,41000,42000,43000,44000,45000,46000,47000,48000,49000,50000,51000,52000,53000,54000,55000,56000,57000,58000,59000,60000,61000,62000,63000,64000,65000,66000,67000,68000,69000,70000,71000,72000,73000,74000,75000,76000,77000,78000,79000,80000,81000,82000,83000,84000,85000,86000,87000,88000,89000,90000,91000,92000,93000,94000,95000,96000,97000,98000,99000,100000,101000,102000,103000,104000,105000,106000,107000,108000,109000,110000,111000,112000,113000,114000,115000,116000,117000,118000,119000,120000,121000,122000,123000,124000,125000,126000,127000,128000,129000,130000,131000,132000,133000,134000,135000,136000,137000,138000,139000,140000,141000,142000,143000,144000,145000,146000,147000,148000,149000,150000,151000,152000,153000,154000,155000,156000,157000,158000,159000,160000,161000,162000,163000,164000,165000,166000,167000,168000,169000,170000,171000,172000,173000,174000,175000,176000,177000,178000,179000,180000,181000,182000,183000,184000,185000,186000,187000,188000,189000,190000,191000,192000,193000,194000,195000,196000,197000,198000,199000,200000,201000,202000,203000,204000,205000,206000,207000,208000,209000,210000,211000,212000,213000,214000,215000,216000,217000,218000,219000,220000,221000,222000,223000,224000,225000,226000,227000,228000,229000,230000,231000,232000,233000,234000,235000,236000,237000,238000,239000,240000,241000,242000,243000,244000,245000,246000,247000,248000,249000,250000,251000,252000,253000,254000,255000,256000,257000,258000,259000,260000,261000,262000,263000,264000,265000,266000,267000,268000,269000,270000,271000,272000,273000,274000,275000,276000,277000,278000,279000,280000,281000,282000,283000,284000,285000,286000,287000,288000,289000,290000,291000,292000,293000,294000,295000,296000,297000,298000,299000,300000,300000,299000,298000,297000,296000,295000,294000,293000,292000,291000,290000,289000,288000,287000,286000,285000,284000,283000,282000,281000,280000,279000,278000,277000,276000,275000,274000,273000,272000,271000,270000,269000,268000,267000,266000,265000,264000,263000,262000,261000,260000,259000,258000,257000,256000,255000,254000,253000,252000,251000,250000,249000,248000,247000,246000,245000,244000,243000,242000,241000,240000,239000,238000,237000,236000,235000,234000,233000,232000,231000,230000,229000,228000,227000,226000,225000,224000,223000,222000,221000,220000,219000,218000,217000,216000,215000,214000,213000,212000,211000,210000,209000,208000,207000,206000,205000,204000,203000,202000,201000,200000,199000,198000,197000,196000,195000,194000,193000,192000,191000,190000,189000,188000,187000,186000,185000,184000,183000,182000,181000,180000,179000,178000,177000,176000,175000,174000,173000,172000,171000,170000,169000,168000,167000,166000,165000,164000,163000,162000,161000,160000,159000,158000,157000,156000,155000,154000,153000,152000,151000,150000,149000,148000,147000,146000,145000,144000,143000,142000,141000,140000,139000,138000,137000,136000,135000,134000,133000,132000,131000,130000,129000,128000,127000,126000,125000,124000,123000,122000,121000,120000,119000,118000,117000,116000,115000,114000,113000,112000,111000,110000,109000,108000,107000,106000,105000,104000,103000,102000,101000,100000,99000,98000,97000,96000,95000,94000,93000,92000,91000,90000,89000,88000,87000,86000,85000,84000,83000,82000,81000,80000,79000,78000,77000,76000,75000,74000,73000,72000,71000,70000,69000,68000,67000,66000,65000,64000,63000,62000,61000,60000,59000,58000,57000,56000,55000,54000,53000,52000,51000,50000,49000,48000,47000,46000,45000,44000,43000,42000,41000,40000,39000,38000,37000,36000,35000,34000,33000,32000,31000,30000,29000,28000,27000,26000,25000,24000,23000,22000,21000,20000,19000,18000,17000,16000,15000,14000,13000,12000,11000,10000,9000,8000,7000,6000,5000,4000,3000,2000,1000,0],\"y\":{\"__ndarray__\":\"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\",\"dtype\":\"float64\",\"shape\":[600]}}},\"id\":\"d9813529-e142-4e0d-854d-3bd246b8a344\",\"type\":\"ColumnDataSource\"},{\"attributes\":{\"label\":{\"value\":\"Stale 300k Prioritized Xp\"},\"renderers\":[{\"id\":\"e08a31db-bbcf-4340-b329-3dabf164f960\",\"type\":\"GlyphRenderer\"}]},\"id\":\"3e0b4513-218e-4a47-90e1-94046d8e8d93\",\"type\":\"LegendItem\"},{\"attributes\":{\"label\":{\"value\":\"Stale 200k Prioritized Xp\"},\"renderers\":[{\"id\":\"bd25cce6-75f8-4b1a-a001-0e28d1e6d5fe\",\"type\":\"GlyphRenderer\"}]},\"id\":\"1fb36a12-1065-4970-8e13-ad059c76b06e\",\"type\":\"LegendItem\"},{\"attributes\":{\"callback\":null,\"column_names\":[\"x\",\"y\"],\"data\":{\"x\":[0,1000,2000,3000,4000,5000,6000,7000,8000,9000,10000,11000,12000,13000,14000,15000,16000,17000,18000,19000,20000,21000,22000,23000,24000,25000,26000,27000,28000,29000,30000,31000,32000,33000,34000,35000,36000,37000,38000,39000,40000,41000,42000,43000,44000,45000,46000,47000,48000,49000,50000,51000,52000,53000,54000,55000,56000,57000,58000,59000,60000,61000,62000,63000,64000,65000,66000,67000,68000,69000,70000,71000,72000,73000,74000,75000,76000,77000,78000,79000,80000,81000,82000,83000,84000,85000,86000,87000,88000,89000,90000,91000,92000,93000,94000,95000,96000,97000,98000,99000,100000,101000,102000,103000,104000,105000,106000,107000,108000,109000,110000,111000,112000,113000,114000,115000,116000,117000,118000,119000,120000,121000,122000,123000,124000,125000,126000,127000,128000,129000,130000,131000,132000,133000,134000,135000,136000,137000,138000,139000,140000,141000,142000,143000,144000,145000,146000,147000,148000,149000,150000,151000,152000,153000,154000,155000,156000,157000,158000,159000,160000,161000,162000,163000,164000,165000,166000,167000,168000,169000,170000,171000,172000,173000,174000,175000,176000,177000,178000,179000,180000,181000,182000,183000,184000,185000,186000,187000,188000,189000,190000,191000,192000,193000,194000,195000,196000,197000,198000,199000,200000,201000,202000,203000,204000,205000,206000,207000,208000,209000,210000,211000,212000,213000,214000,215000,216000,217000,218000,219000,220000,221000,222000,223000,224000,225000,226000,227000,228000,229000,230000,231000,232000,233000,234000,235000,236000,237000,238000,239000,240000,241000,242000,243000,244000,245000,246000,247000,248000,249000,250000,251000,252000,253000,254000,255000,256000,257000,258000,259000,260000,261000,262000,263000,264000,265000,266000,267000,268000,269000,270000,271000,272000,273000,274000,275000,276000,277000,278000,279000,280000,281000,282000,283000,284000,285000,286000,287000,288000,289000,290000,291000,292000,293000,294000,295000,296000,297000,298000,299000,300000,300000,299000,298000,297000,296000,295000,294000,293000,292000,291000,290000,289000,288000,287000,286000,285000,284000,283000,282000,281000,280000,279000,278000,277000,276000,275000,274000,273000,272000,271000,270000,269000,268000,267000,266000,265000,264000,263000,262000,261000,260000,259000,258000,257000,256000,255000,254000,253000,252000,251000,250000,249000,248000,247000,246000,245000,244000,243000,242000,241000,240000,239000,238000,237000,236000,235000,234000,233000,232000,231000,230000,229000,228000,227000,226000,225000,224000,223000,222000,221000,220000,219000,218000,217000,216000,215000,214000,213000,212000,211000,210000,209000,208000,207000,206000,205000,204000,203000,202000,201000,200000,199000,198000,197000,196000,195000,194000,193000,192000,191000,190000,189000,188000,187000,186000,185000,184000,183000,182000,181000,180000,179000,178000,177000,176000,175000,174000,173000,172000,171000,170000,169000,168000,167000,166000,165000,164000,163000,162000,161000,160000,159000,158000,157000,156000,155000,154000,153000,152000,151000,150000,149000,148000,147000,146000,145000,144000,143000,142000,141000,140000,139000,138000,137000,136000,135000,134000,133000,132000,131000,130000,129000,128000,127000,126000,125000,124000,123000,122000,121000,120000,119000,118000,117000,116000,115000,114000,113000,112000,111000,110000,109000,108000,107000,106000,105000,104000,103000,102000,101000,100000,99000,98000,97000,96000,95000,94000,93000,92000,91000,90000,89000,88000,87000,86000,85000,84000,83000,82000,81000,80000,79000,78000,77000,76000,75000,74000,73000,72000,71000,70000,69000,68000,67000,66000,65000,64000,63000,62000,61000,60000,59000,58000,57000,56000,55000,54000,53000,52000,51000,50000,49000,48000,47000,46000,45000,44000,43000,42000,41000,40000,39000,38000,37000,36000,35000,34000,33000,32000,31000,30000,29000,28000,27000,26000,25000,24000,23000,22000,21000,20000,19000,18000,17000,16000,15000,14000,13000,12000,11000,10000,9000,8000,7000,6000,5000,4000,3000,2000,1000,0],\"y\":{\"__ndarray__\":\"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\",\"dtype\":\"float64\",\"shape\":[600]}}},\"id\":\"c9cff607-5e03-4436-9807-027b38e43389\",\"type\":\"ColumnDataSource\"},{\"attributes\":{\"fill_alpha\":{\"value\":0.1},\"fill_color\":{\"value\":\"#1f77b4\"},\"line_alpha\":{\"value\":0.1},\"line_color\":{\"value\":\"#1f77b4\"},\"x\":{\"field\":\"x\"},\"y\":{\"field\":\"y\"}},\"id\":\"c9a19b82-d80f-4291-a355-7b50c275a19e\",\"type\":\"Patch\"}],\"root_ids\":[\"c86ab986-1448-47a1-801c-46cb378129d6\"]},\"title\":\"Bokeh Application\",\"version\":\"0.12.4\"}};\n",
       "            var render_items = [{\"docid\":\"a8b84a16-a76c-420d-9f95-2b184d9850f1\",\"elementid\":\"3f786f37-a024-4a57-825f-fae635c99448\",\"modelid\":\"c86ab986-1448-47a1-801c-46cb378129d6\"}];\n",
       "            \n",
       "            Bokeh.embed.embed_items(docs_json, render_items);\n",
       "          };\n",
       "          if (document.readyState != \"loading\") fn();\n",
       "          else document.addEventListener(\"DOMContentLoaded\", fn);\n",
       "        })();\n",
       "      },\n",
       "      function(Bokeh) {\n",
       "      }\n",
       "    ];\n",
       "  \n",
       "    function run_inline_js() {\n",
       "      \n",
       "      if ((window.Bokeh !== undefined) || (force === true)) {\n",
       "        for (var i = 0; i < inline_js.length; i++) {\n",
       "          inline_js[i](window.Bokeh);\n",
       "        }if (force === true) {\n",
       "          display_loaded();\n",
       "        }} else if (Date.now() < window._bokeh_timeout) {\n",
       "        setTimeout(run_inline_js, 100);\n",
       "      } else if (!window._bokeh_failed_load) {\n",
       "        console.log(\"Bokeh: BokehJS failed to load within specified timeout.\");\n",
       "        window._bokeh_failed_load = true;\n",
       "      } else if (force !== true) {\n",
       "        var cell = $(document.getElementById(\"3f786f37-a024-4a57-825f-fae635c99448\")).parents('.cell').data().cell;\n",
       "        cell.output_area.append_execute_result(NB_LOAD_WARNING)\n",
       "      }\n",
       "  \n",
       "    }\n",
       "  \n",
       "    if (window._bokeh_is_loading === 0) {\n",
       "      console.log(\"Bokeh: BokehJS loaded, going straight to plotting\");\n",
       "      run_inline_js();\n",
       "    } else {\n",
       "      load_libs(js_urls, function() {\n",
       "        console.log(\"Bokeh: BokehJS plotting callback run at\", now());\n",
       "        run_inline_js();\n",
       "      });\n",
       "    }\n",
       "  }(this));\n",
       "</script>"
      ]
     },
     "metadata": {},
     "output_type": "display_data"
    }
   ],
   "source": [
    "plot_states(names, t_maxs, Set1[len(names)], legends, directories, step=1000, title=\"Med Maze 10\")"
   ]
  },
  {
   "cell_type": "code",
   "execution_count": null,
   "metadata": {
    "collapsed": true,
    "deletable": true,
    "editable": true
   },
   "outputs": [],
   "source": []
  },
  {
   "cell_type": "code",
   "execution_count": null,
   "metadata": {
    "collapsed": true,
    "deletable": true,
    "editable": true
   },
   "outputs": [],
   "source": []
  },
  {
   "cell_type": "code",
   "execution_count": null,
   "metadata": {
    "collapsed": true,
    "deletable": true,
    "editable": true
   },
   "outputs": [],
   "source": [
    "DQN_Smoothed = []\n",
    "for times, rewards in zip(DQN_Lengths_C, DQN_Rewards):\n",
    "    linear = interp1d(times, rewards, kind=\"linear\")\n",
    "    linear_rewards = linear([i for i in range(500000)])\n",
    "    DQN_Smoothed.append(linear_rewards)"
   ]
  },
  {
   "cell_type": "code",
   "execution_count": null,
   "metadata": {
    "collapsed": true,
    "deletable": true,
    "editable": true
   },
   "outputs": [],
   "source": [
    "DQN_Means = np.mean(DQN_Smoothed, axis=0)"
   ]
  },
  {
   "cell_type": "code",
   "execution_count": null,
   "metadata": {
    "collapsed": true,
    "deletable": true,
    "editable": true
   },
   "outputs": [],
   "source": [
    "DQN_Stds = np.std(DQN_Smoothed, axis=0)"
   ]
  },
  {
   "cell_type": "code",
   "execution_count": null,
   "metadata": {
    "collapsed": false,
    "deletable": true,
    "editable": true
   },
   "outputs": [],
   "source": [
    "plt.fill_between([i for i in range(500000)], DQN_Means - DQN_Stds, DQN_Means + DQN_Stds, color=\"red\", alpha=0.3, edgecolor=\"white\")\n",
    "\n",
    "plt.plot([i for i in range(500000)], DQN_Means, color=\"red\")"
   ]
  },
  {
   "cell_type": "code",
   "execution_count": null,
   "metadata": {
    "collapsed": false,
    "deletable": true,
    "editable": true
   },
   "outputs": [],
   "source": [
    "len(DQN_Repeat)"
   ]
  },
  {
   "cell_type": "code",
   "execution_count": null,
   "metadata": {
    "collapsed": true,
    "deletable": true,
    "editable": true
   },
   "outputs": [],
   "source": [
    "plt.plot(DQN)"
   ]
  },
  {
   "cell_type": "code",
   "execution_count": null,
   "metadata": {
    "collapsed": true,
    "deletable": true,
    "editable": true
   },
   "outputs": [],
   "source": [
    "directories = [\"Logs/\"]"
   ]
  },
  {
   "cell_type": "code",
   "execution_count": null,
   "metadata": {
    "collapsed": false,
    "deletable": true,
    "editable": true
   },
   "outputs": [],
   "source": [
    "for i in range(0, 10, 2):\n",
    "    print(i)"
   ]
  },
  {
   "cell_type": "code",
   "execution_count": null,
   "metadata": {
    "collapsed": true,
    "deletable": true,
    "editable": true
   },
   "outputs": [],
   "source": []
  }
 ],
 "metadata": {
  "kernelspec": {
   "display_name": "Python 3",
   "language": "python",
   "name": "python3"
  },
  "language_info": {
   "codemirror_mode": {
    "name": "ipython",
    "version": 3
   },
   "file_extension": ".py",
   "mimetype": "text/x-python",
   "name": "python",
   "nbconvert_exporter": "python",
   "pygments_lexer": "ipython3",
   "version": "3.6.0"
  }
 },
 "nbformat": 4,
 "nbformat_minor": 2
}
