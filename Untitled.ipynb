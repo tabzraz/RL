{
 "cells": [
  {
   "cell_type": "code",
   "execution_count": null,
   "metadata": {
    "collapsed": false
   },
   "outputs": [
    {
     "name": "stderr",
     "output_type": "stream",
     "text": [
      "[2017-02-14 18:22:55,966] Making new env: Maze-2-v1\n"
     ]
    },
    {
     "name": "stdout",
     "output_type": "stream",
     "text": [
      "\n",
      "--------Info--------\n",
      "Logdir: Logs/CTS_Location_2017-02-14_18-22\n",
      "T: 200,000\n",
      "Actions: 4\n",
      "Gamma 0.99\n",
      "Learning Rate: 0.0001\n",
      "Batch Size: 64\n",
      "VIME bonuses: False\n",
      "--------------------\n",
      "\n",
      "\n",
      "-------Models-------\n",
      "Model: DQN\n",
      "Input: 14x14x1\n",
      "Conv: 7x7x8\n",
      "Conv: 7x7x4\n",
      "FC: 196 -> 98\n",
      "FC: 98 -> 4\n",
      "\n",
      "INFO:tensorflow:Summary name Action 0 QValue is illegal; using Action_0_QValue instead.\n"
     ]
    },
    {
     "name": "stderr",
     "output_type": "stream",
     "text": [
      "[2017-02-14 18:22:56,151] Summary name Action 0 QValue is illegal; using Action_0_QValue instead.\n"
     ]
    },
    {
     "name": "stdout",
     "output_type": "stream",
     "text": [
      "INFO:tensorflow:Summary name Action 1 QValue is illegal; using Action_1_QValue instead.\n"
     ]
    },
    {
     "name": "stderr",
     "output_type": "stream",
     "text": [
      "[2017-02-14 18:22:56,156] Summary name Action 1 QValue is illegal; using Action_1_QValue instead.\n"
     ]
    },
    {
     "name": "stdout",
     "output_type": "stream",
     "text": [
      "INFO:tensorflow:Summary name Action 2 QValue is illegal; using Action_2_QValue instead.\n"
     ]
    },
    {
     "name": "stderr",
     "output_type": "stream",
     "text": [
      "[2017-02-14 18:22:56,163] Summary name Action 2 QValue is illegal; using Action_2_QValue instead.\n"
     ]
    },
    {
     "name": "stdout",
     "output_type": "stream",
     "text": [
      "INFO:tensorflow:Summary name Action 3 QValue is illegal; using Action_3_QValue instead.\n"
     ]
    },
    {
     "name": "stderr",
     "output_type": "stream",
     "text": [
      "[2017-02-14 18:22:56,171] Summary name Action 3 QValue is illegal; using Action_3_QValue instead.\n"
     ]
    },
    {
     "name": "stdout",
     "output_type": "stream",
     "text": [
      "INFO:tensorflow:Summary name Average QValue is illegal; using Average_QValue instead.\n"
     ]
    },
    {
     "name": "stderr",
     "output_type": "stream",
     "text": [
      "[2017-02-14 18:22:56,174] Summary name Average QValue is illegal; using Average_QValue instead.\n"
     ]
    },
    {
     "name": "stdout",
     "output_type": "stream",
     "text": [
      "INFO:tensorflow:Summary name Q Values is illegal; using Q_Values instead.\n"
     ]
    },
    {
     "name": "stderr",
     "output_type": "stream",
     "text": [
      "[2017-02-14 18:22:56,176] Summary name Q Values is illegal; using Q_Values instead.\n"
     ]
    },
    {
     "name": "stdout",
     "output_type": "stream",
     "text": [
      "Model: Target_Network\n",
      "Input: 14x14x1\n",
      "Conv: 7x7x8\n",
      "Conv: 7x7x4\n",
      "FC: 196 -> 98\n",
      "FC: 98 -> 4\n",
      "\n",
      "INFO:tensorflow:Summary name Action 0 QValue is illegal; using Action_0_QValue instead.\n"
     ]
    },
    {
     "name": "stderr",
     "output_type": "stream",
     "text": [
      "[2017-02-14 18:22:56,234] Summary name Action 0 QValue is illegal; using Action_0_QValue instead.\n"
     ]
    },
    {
     "name": "stdout",
     "output_type": "stream",
     "text": [
      "INFO:tensorflow:Summary name Action 1 QValue is illegal; using Action_1_QValue instead.\n"
     ]
    },
    {
     "name": "stderr",
     "output_type": "stream",
     "text": [
      "[2017-02-14 18:22:56,240] Summary name Action 1 QValue is illegal; using Action_1_QValue instead.\n"
     ]
    },
    {
     "name": "stdout",
     "output_type": "stream",
     "text": [
      "INFO:tensorflow:Summary name Action 2 QValue is illegal; using Action_2_QValue instead.\n"
     ]
    },
    {
     "name": "stderr",
     "output_type": "stream",
     "text": [
      "[2017-02-14 18:22:56,246] Summary name Action 2 QValue is illegal; using Action_2_QValue instead.\n"
     ]
    },
    {
     "name": "stdout",
     "output_type": "stream",
     "text": [
      "INFO:tensorflow:Summary name Action 3 QValue is illegal; using Action_3_QValue instead.\n"
     ]
    },
    {
     "name": "stderr",
     "output_type": "stream",
     "text": [
      "[2017-02-14 18:22:56,252] Summary name Action 3 QValue is illegal; using Action_3_QValue instead.\n"
     ]
    },
    {
     "name": "stdout",
     "output_type": "stream",
     "text": [
      "INFO:tensorflow:Summary name Average QValue is illegal; using Average_QValue instead.\n"
     ]
    },
    {
     "name": "stderr",
     "output_type": "stream",
     "text": [
      "[2017-02-14 18:22:56,256] Summary name Average QValue is illegal; using Average_QValue instead.\n"
     ]
    },
    {
     "name": "stdout",
     "output_type": "stream",
     "text": [
      "INFO:tensorflow:Summary name Q Values is illegal; using Q_Values instead.\n"
     ]
    },
    {
     "name": "stderr",
     "output_type": "stream",
     "text": [
      "[2017-02-14 18:22:56,258] Summary name Q Values is illegal; using Q_Values instead.\n"
     ]
    },
    {
     "name": "stdout",
     "output_type": "stream",
     "text": [
      "INFO:tensorflow:Summary name Start State Action 0 QValue is illegal; using Start_State_Action_0_QValue instead.\n"
     ]
    },
    {
     "name": "stderr",
     "output_type": "stream",
     "text": [
      "[2017-02-14 18:22:56,264] Summary name Start State Action 0 QValue is illegal; using Start_State_Action_0_QValue instead.\n"
     ]
    },
    {
     "name": "stdout",
     "output_type": "stream",
     "text": [
      "INFO:tensorflow:Summary name Start State Action 1 QValue is illegal; using Start_State_Action_1_QValue instead.\n"
     ]
    },
    {
     "name": "stderr",
     "output_type": "stream",
     "text": [
      "[2017-02-14 18:22:56,271] Summary name Start State Action 1 QValue is illegal; using Start_State_Action_1_QValue instead.\n"
     ]
    },
    {
     "name": "stdout",
     "output_type": "stream",
     "text": [
      "INFO:tensorflow:Summary name Start State Action 2 QValue is illegal; using Start_State_Action_2_QValue instead.\n"
     ]
    },
    {
     "name": "stderr",
     "output_type": "stream",
     "text": [
      "[2017-02-14 18:22:56,277] Summary name Start State Action 2 QValue is illegal; using Start_State_Action_2_QValue instead.\n"
     ]
    },
    {
     "name": "stdout",
     "output_type": "stream",
     "text": [
      "INFO:tensorflow:Summary name Start State Action 3 QValue is illegal; using Start_State_Action_3_QValue instead.\n"
     ]
    },
    {
     "name": "stderr",
     "output_type": "stream",
     "text": [
      "[2017-02-14 18:22:56,282] Summary name Start State Action 3 QValue is illegal; using Start_State_Action_3_QValue instead.\n"
     ]
    },
    {
     "name": "stdout",
     "output_type": "stream",
     "text": [
      "INFO:tensorflow:Summary name Count Episode Reward is illegal; using Count_Episode_Reward instead.\n"
     ]
    },
    {
     "name": "stderr",
     "output_type": "stream",
     "text": [
      "[2017-02-14 18:22:56,293] Summary name Count Episode Reward is illegal; using Count_Episode_Reward instead.\n"
     ]
    },
    {
     "name": "stdout",
     "output_type": "stream",
     "text": [
      "INFO:tensorflow:Summary name DQN Gradients Norm is illegal; using DQN_Gradients_Norm instead.\n"
     ]
    },
    {
     "name": "stderr",
     "output_type": "stream",
     "text": [
      "[2017-02-14 18:22:56,368] Summary name DQN Gradients Norm is illegal; using DQN_Gradients_Norm instead.\n"
     ]
    },
    {
     "name": "stdout",
     "output_type": "stream",
     "text": [
      "INFO:tensorflow:Summary name Episode Reward is illegal; using Episode_Reward instead.\n"
     ]
    },
    {
     "name": "stderr",
     "output_type": "stream",
     "text": [
      "[2017-02-14 18:22:56,464] Summary name Episode Reward is illegal; using Episode_Reward instead.\n"
     ]
    },
    {
     "name": "stdout",
     "output_type": "stream",
     "text": [
      "INFO:tensorflow:Summary name Per Episode Reward is illegal; using Per_Episode_Reward instead.\n"
     ]
    },
    {
     "name": "stderr",
     "output_type": "stream",
     "text": [
      "[2017-02-14 18:22:56,466] Summary name Per Episode Reward is illegal; using Per_Episode_Reward instead.\n"
     ]
    },
    {
     "name": "stdout",
     "output_type": "stream",
     "text": [
      "INFO:tensorflow:Summary name Episode Length is illegal; using Episode_Length instead.\n"
     ]
    },
    {
     "name": "stderr",
     "output_type": "stream",
     "text": [
      "[2017-02-14 18:22:56,470] Summary name Episode Length is illegal; using Episode_Length instead.\n"
     ]
    },
    {
     "name": "stdout",
     "output_type": "stream",
     "text": [
      "Exploratory phase for 10000 steps\n",
      "Exploratory phase finished, starting learning\n",
      "Ep: 7, T: 3,529/200,000, Epsilon: 0.97, Elapsed: 33 seconds, Left: 31 minutes, 29 seconds           \r"
     ]
    }
   ],
   "source": [
    "%run XpRL.py --name CTS_Location --pseudo True --t_max 200000 --beta 0.05"
   ]
  },
  {
   "cell_type": "code",
   "execution_count": null,
   "metadata": {
    "collapsed": true
   },
   "outputs": [],
   "source": [
    "from matplotlib import pyplot as plt"
   ]
  },
  {
   "cell_type": "code",
   "execution_count": null,
   "metadata": {
    "collapsed": true
   },
   "outputs": [],
   "source": [
    "def show_array(a):\n",
    "    plt.gray()\n",
    "    plt.imshow(np.squeeze(a)*255, interpolation=\"nearest\")\n",
    "    plt.show()"
   ]
  },
  {
   "cell_type": "code",
   "execution_count": null,
   "metadata": {
    "collapsed": false
   },
   "outputs": [],
   "source": [
    "state = env.reset()\n",
    "show_array(state)"
   ]
  },
  {
   "cell_type": "code",
   "execution_count": null,
   "metadata": {
    "collapsed": false
   },
   "outputs": [],
   "source": [
    "cts_model.log_prob(state)"
   ]
  },
  {
   "cell_type": "code",
   "execution_count": null,
   "metadata": {
    "collapsed": false
   },
   "outputs": [],
   "source": [
    "cts_model.sample()"
   ]
  },
  {
   "cell_type": "code",
   "execution_count": null,
   "metadata": {
    "collapsed": false
   },
   "outputs": [],
   "source": [
    "show_array(cts_model.sample())"
   ]
  },
  {
   "cell_type": "code",
   "execution_count": null,
   "metadata": {
    "collapsed": true
   },
   "outputs": [],
   "source": []
  },
  {
   "cell_type": "code",
   "execution_count": null,
   "metadata": {
    "collapsed": true
   },
   "outputs": [],
   "source": []
  }
 ],
 "metadata": {
  "kernelspec": {
   "display_name": "Python 3",
   "language": "python",
   "name": "python3"
  },
  "language_info": {
   "codemirror_mode": {
    "name": "ipython",
    "version": 3
   },
   "file_extension": ".py",
   "mimetype": "text/x-python",
   "name": "python",
   "nbconvert_exporter": "python",
   "pygments_lexer": "ipython3",
   "version": "3.6.0"
  }
 },
 "nbformat": 4,
 "nbformat_minor": 2
}
