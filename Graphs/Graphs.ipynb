{
 "cells": [
  {
   "cell_type": "code",
   "execution_count": 1,
   "metadata": {
    "collapsed": false,
    "deletable": true,
    "editable": true
   },
   "outputs": [
    {
     "data": {
      "text/html": [
       "\n",
       "    <div class=\"bk-root\">\n",
       "        <a href=\"http://bokeh.pydata.org\" target=\"_blank\" class=\"bk-logo bk-logo-small bk-logo-notebook\"></a>\n",
       "        <span id=\"5bee9b55-f9e1-4793-91fd-60caa5afc53c\">Loading BokehJS ...</span>\n",
       "    </div>"
      ]
     },
     "metadata": {},
     "output_type": "display_data"
    },
    {
     "data": {
      "application/javascript": [
       "\n",
       "(function(global) {\n",
       "  function now() {\n",
       "    return new Date();\n",
       "  }\n",
       "\n",
       "  var force = true;\n",
       "\n",
       "  if (typeof (window._bokeh_onload_callbacks) === \"undefined\" || force === true) {\n",
       "    window._bokeh_onload_callbacks = [];\n",
       "    window._bokeh_is_loading = undefined;\n",
       "  }\n",
       "\n",
       "\n",
       "  \n",
       "  if (typeof (window._bokeh_timeout) === \"undefined\" || force === true) {\n",
       "    window._bokeh_timeout = Date.now() + 5000;\n",
       "    window._bokeh_failed_load = false;\n",
       "  }\n",
       "\n",
       "  var NB_LOAD_WARNING = {'data': {'text/html':\n",
       "     \"<div style='background-color: #fdd'>\\n\"+\n",
       "     \"<p>\\n\"+\n",
       "     \"BokehJS does not appear to have successfully loaded. If loading BokehJS from CDN, this \\n\"+\n",
       "     \"may be due to a slow or bad network connection. Possible fixes:\\n\"+\n",
       "     \"</p>\\n\"+\n",
       "     \"<ul>\\n\"+\n",
       "     \"<li>re-rerun `output_notebook()` to attempt to load from CDN again, or</li>\\n\"+\n",
       "     \"<li>use INLINE resources instead, as so:</li>\\n\"+\n",
       "     \"</ul>\\n\"+\n",
       "     \"<code>\\n\"+\n",
       "     \"from bokeh.resources import INLINE\\n\"+\n",
       "     \"output_notebook(resources=INLINE)\\n\"+\n",
       "     \"</code>\\n\"+\n",
       "     \"</div>\"}};\n",
       "\n",
       "  function display_loaded() {\n",
       "    if (window.Bokeh !== undefined) {\n",
       "      document.getElementById(\"5bee9b55-f9e1-4793-91fd-60caa5afc53c\").textContent = \"BokehJS successfully loaded.\";\n",
       "    } else if (Date.now() < window._bokeh_timeout) {\n",
       "      setTimeout(display_loaded, 100)\n",
       "    }\n",
       "  }\n",
       "\n",
       "  function run_callbacks() {\n",
       "    window._bokeh_onload_callbacks.forEach(function(callback) { callback() });\n",
       "    delete window._bokeh_onload_callbacks\n",
       "    console.info(\"Bokeh: all callbacks have finished\");\n",
       "  }\n",
       "\n",
       "  function load_libs(js_urls, callback) {\n",
       "    window._bokeh_onload_callbacks.push(callback);\n",
       "    if (window._bokeh_is_loading > 0) {\n",
       "      console.log(\"Bokeh: BokehJS is being loaded, scheduling callback at\", now());\n",
       "      return null;\n",
       "    }\n",
       "    if (js_urls == null || js_urls.length === 0) {\n",
       "      run_callbacks();\n",
       "      return null;\n",
       "    }\n",
       "    console.log(\"Bokeh: BokehJS not loaded, scheduling load and callback at\", now());\n",
       "    window._bokeh_is_loading = js_urls.length;\n",
       "    for (var i = 0; i < js_urls.length; i++) {\n",
       "      var url = js_urls[i];\n",
       "      var s = document.createElement('script');\n",
       "      s.src = url;\n",
       "      s.async = false;\n",
       "      s.onreadystatechange = s.onload = function() {\n",
       "        window._bokeh_is_loading--;\n",
       "        if (window._bokeh_is_loading === 0) {\n",
       "          console.log(\"Bokeh: all BokehJS libraries loaded\");\n",
       "          run_callbacks()\n",
       "        }\n",
       "      };\n",
       "      s.onerror = function() {\n",
       "        console.warn(\"failed to load library \" + url);\n",
       "      };\n",
       "      console.log(\"Bokeh: injecting script tag for BokehJS library: \", url);\n",
       "      document.getElementsByTagName(\"head\")[0].appendChild(s);\n",
       "    }\n",
       "  };var element = document.getElementById(\"5bee9b55-f9e1-4793-91fd-60caa5afc53c\");\n",
       "  if (element == null) {\n",
       "    console.log(\"Bokeh: ERROR: autoload.js configured with elementid '5bee9b55-f9e1-4793-91fd-60caa5afc53c' but no matching script tag was found. \")\n",
       "    return false;\n",
       "  }\n",
       "\n",
       "  var js_urls = [\"https://cdn.pydata.org/bokeh/release/bokeh-0.12.4.min.js\", \"https://cdn.pydata.org/bokeh/release/bokeh-widgets-0.12.4.min.js\"];\n",
       "\n",
       "  var inline_js = [\n",
       "    function(Bokeh) {\n",
       "      Bokeh.set_log_level(\"info\");\n",
       "    },\n",
       "    \n",
       "    function(Bokeh) {\n",
       "      \n",
       "      document.getElementById(\"5bee9b55-f9e1-4793-91fd-60caa5afc53c\").textContent = \"BokehJS is loading...\";\n",
       "    },\n",
       "    function(Bokeh) {\n",
       "      console.log(\"Bokeh: injecting CSS: https://cdn.pydata.org/bokeh/release/bokeh-0.12.4.min.css\");\n",
       "      Bokeh.embed.inject_css(\"https://cdn.pydata.org/bokeh/release/bokeh-0.12.4.min.css\");\n",
       "      console.log(\"Bokeh: injecting CSS: https://cdn.pydata.org/bokeh/release/bokeh-widgets-0.12.4.min.css\");\n",
       "      Bokeh.embed.inject_css(\"https://cdn.pydata.org/bokeh/release/bokeh-widgets-0.12.4.min.css\");\n",
       "    }\n",
       "  ];\n",
       "\n",
       "  function run_inline_js() {\n",
       "    \n",
       "    if ((window.Bokeh !== undefined) || (force === true)) {\n",
       "      for (var i = 0; i < inline_js.length; i++) {\n",
       "        inline_js[i](window.Bokeh);\n",
       "      }if (force === true) {\n",
       "        display_loaded();\n",
       "      }} else if (Date.now() < window._bokeh_timeout) {\n",
       "      setTimeout(run_inline_js, 100);\n",
       "    } else if (!window._bokeh_failed_load) {\n",
       "      console.log(\"Bokeh: BokehJS failed to load within specified timeout.\");\n",
       "      window._bokeh_failed_load = true;\n",
       "    } else if (force !== true) {\n",
       "      var cell = $(document.getElementById(\"5bee9b55-f9e1-4793-91fd-60caa5afc53c\")).parents('.cell').data().cell;\n",
       "      cell.output_area.append_execute_result(NB_LOAD_WARNING)\n",
       "    }\n",
       "\n",
       "  }\n",
       "\n",
       "  if (window._bokeh_is_loading === 0) {\n",
       "    console.log(\"Bokeh: BokehJS loaded, going straight to plotting\");\n",
       "    run_inline_js();\n",
       "  } else {\n",
       "    load_libs(js_urls, function() {\n",
       "      console.log(\"Bokeh: BokehJS plotting callback run at\", now());\n",
       "      run_inline_js();\n",
       "    });\n",
       "  }\n",
       "}(this));"
      ]
     },
     "metadata": {},
     "output_type": "display_data"
    }
   ],
   "source": [
    "from bokeh.plotting import figure, output_notebook, show\n",
    "output_notebook()"
   ]
  },
  {
   "cell_type": "code",
   "execution_count": 2,
   "metadata": {
    "collapsed": true,
    "deletable": true,
    "editable": true
   },
   "outputs": [],
   "source": [
    "import glob"
   ]
  },
  {
   "cell_type": "code",
   "execution_count": 3,
   "metadata": {
    "collapsed": true,
    "deletable": true,
    "editable": true
   },
   "outputs": [],
   "source": [
    "import numpy as np"
   ]
  },
  {
   "cell_type": "code",
   "execution_count": 4,
   "metadata": {
    "collapsed": true,
    "deletable": true,
    "editable": true
   },
   "outputs": [],
   "source": [
    "from scipy.interpolate import interp1d\n",
    "from scipy.interpolate import spline"
   ]
  },
  {
   "cell_type": "code",
   "execution_count": 5,
   "metadata": {
    "collapsed": true,
    "deletable": true,
    "editable": true
   },
   "outputs": [],
   "source": [
    "from tqdm import tqdm"
   ]
  },
  {
   "cell_type": "code",
   "execution_count": 6,
   "metadata": {
    "collapsed": true,
    "deletable": true,
    "editable": true
   },
   "outputs": [],
   "source": [
    "DQN_Rewards_Path = \"/home/tabz/Dropbox/RL/Log_Files/March 2017/Maze_5_Batch_Sizes_Logs/*DQN*/logs/Episode_Rewards.txt\"\n",
    "DQN_Lengths_Path = \"/home/tabz/Dropbox/RL/Log_Files/March 2017/Maze_5_Batch_Sizes_Logs/*DQN*/logs/Episode_Lengths.txt\"\n",
    "DQN_Rewards = []\n",
    "DQN_Lengths = []\n",
    "DQN_Lengths_C = []"
   ]
  },
  {
   "cell_type": "code",
   "execution_count": 7,
   "metadata": {
    "collapsed": true,
    "deletable": true,
    "editable": true
   },
   "outputs": [],
   "source": [
    "for filename in glob.glob(DQN_Rewards_Path):\n",
    "    run_logs = [0]\n",
    "#     print(filename)\n",
    "    with open(filename, \"r\") as f:\n",
    "        for line in f:\n",
    "            try:\n",
    "                ep_r = float(line)\n",
    "            except:\n",
    "                continue\n",
    "            run_logs.append(ep_r)\n",
    "    DQN_Rewards.append(run_logs)"
   ]
  },
  {
   "cell_type": "code",
   "execution_count": 8,
   "metadata": {
    "collapsed": true,
    "deletable": true,
    "editable": true
   },
   "outputs": [],
   "source": [
    "for filename in glob.glob(DQN_Lengths_Path):\n",
    "    run_logs = [0]\n",
    "#     print(filename)\n",
    "    with open(filename, \"r\") as f:\n",
    "        for line in f:\n",
    "            try:\n",
    "                ep_r = float(line)\n",
    "            except:\n",
    "                continue\n",
    "            run_logs.append(ep_r)\n",
    "    DQN_Lengths.append(run_logs)\n",
    "    run_logs_c = np.cumsum(run_logs).astype(np.int32)\n",
    "    DQN_Lengths_C.append(run_logs_c)"
   ]
  },
  {
   "cell_type": "markdown",
   "metadata": {
    "collapsed": false,
    "deletable": true,
    "editable": true
   },
   "source": [
    "for lens, runs in zip(DQN_Lengths_C, DQN_Rewards):\n",
    "    plt.plot(lens, runs)\n",
    "plt.show()"
   ]
  },
  {
   "cell_type": "markdown",
   "metadata": {
    "collapsed": false,
    "deletable": true,
    "editable": true
   },
   "source": [
    "p = figure(width=500, height=500, y_range=(-1,3))\n",
    "for lens, runs in zip(DQN_Lengths_C, DQN_Rewards):\n",
    "    p.line(lens, runs)\n",
    "show(p)"
   ]
  },
  {
   "cell_type": "code",
   "execution_count": null,
   "metadata": {
    "collapsed": true,
    "deletable": true,
    "editable": true
   },
   "outputs": [],
   "source": []
  },
  {
   "cell_type": "markdown",
   "metadata": {
    "collapsed": true,
    "deletable": true,
    "editable": true
   },
   "source": [
    "def plot_averages(names, t_maxs, colors, legends=None, directory=\"Logs/\", step=10):\n",
    "    plt.figure(figsize=(10,10))\n",
    "    plt.ylim(-1, 3)\n",
    "    for name, color, t_max in tqdm(zip(names, colors, t_maxs)):\n",
    "        # TODO: Remove DQN from names\n",
    "        DQN_Rewards_Path = directory + \"*\" + name + \"*/logs/Episode_Rewards.txt\"\n",
    "        DQN_Lengths_Path = directory + \"*\" + name + \"*/logs/Episode_Lengths.txt\"\n",
    "        DQN_Rewards = []\n",
    "        DQN_Lengths = []\n",
    "        DQN_Lengths_C = []\n",
    "        for filename in glob.glob(DQN_Rewards_Path):\n",
    "            run_logs = [0]\n",
    "            with open(filename, \"r\") as f:\n",
    "                for line in f:\n",
    "                    try:\n",
    "                        ep_r = float(line)\n",
    "                    except:\n",
    "                        continue\n",
    "                    run_logs.append(ep_r)\n",
    "            DQN_Rewards.append(run_logs)\n",
    "        for filename in glob.glob(DQN_Lengths_Path):\n",
    "            run_logs = [0]\n",
    "        #     print(filename)\n",
    "            with open(filename, \"r\") as f:\n",
    "                for line in f:\n",
    "                    try:\n",
    "                        ep_r = float(line)\n",
    "                    except:\n",
    "                        continue\n",
    "                    run_logs.append(ep_r)\n",
    "            DQN_Lengths.append(run_logs)\n",
    "            run_logs_c = np.cumsum(run_logs).astype(np.int32)\n",
    "            DQN_Lengths_C.append(run_logs_c)\n",
    "        DQN_Smoothed = []\n",
    "        for times, rewards in zip(DQN_Lengths_C, DQN_Rewards):\n",
    "#             linear = interp1d(times, rewards, kind=\"linear\")\n",
    "#             linear_rewards = linear([i for i in range(500000)])\n",
    "#             DQN_Smoothed.append(linear_rewards)\n",
    "            spline_rewards = spline(times, rewards, [i for i in range(0, t_max, step)])\n",
    "            DQN_Smoothed.append(spline_rewards)\n",
    "        DQN_Means = np.mean(DQN_Smoothed, axis=0)\n",
    "        DQN_Stds = np.std(DQN_Smoothed, axis=0)\n",
    "        plt.fill_between([i for i in range(0, t_max, step)], DQN_Means - DQN_Stds, DQN_Means + DQN_Stds, color=color, alpha=0.2, edgecolor=\"white\")\n",
    "\n",
    "        plt.plot([i for i in range(0, t_max, step)], DQN_Means, color=color)\n",
    "\n",
    "    plt.title(\"Episode_Reward\")\n",
    "    plt.xlabel(\"T\")\n",
    "    plt.ylabel(\"Reward\")\n",
    "    if legends is not None:\n",
    "        plt.legend(legends, bbox_to_anchor=(1.05, 1), loc=2)\n",
    "    plt.show()"
   ]
  },
  {
   "cell_type": "code",
   "execution_count": 9,
   "metadata": {
    "collapsed": true,
    "deletable": true,
    "editable": true
   },
   "outputs": [],
   "source": [
    "from bokeh.models import Legend\n",
    "from bokeh.models.formatters import BasicTickFormatter\n",
    "from bokeh.models import HoverTool, TapTool"
   ]
  },
  {
   "cell_type": "code",
   "execution_count": 10,
   "metadata": {
    "collapsed": false,
    "deletable": true,
    "editable": true
   },
   "outputs": [],
   "source": [
    "def plot_averages_b(names, t_maxs, colors, legends, directories=\"Logs/\", step=10, title=\"\", min_max=True):\n",
    "#     plt.figure(figsize=(10,10))\n",
    "    p = figure(width=1200, height=800, y_range=(-0.1, 1.1), title=title)\n",
    "    p.toolbar_location = \"above\"\n",
    "    p.yaxis.axis_label = \"Episode Reward\"\n",
    "    p.xaxis.axis_label = \"T\"\n",
    "    p.xaxis.formatter = BasicTickFormatter(use_scientific=False)\n",
    "#     p = figure(width=800, height=500)\n",
    "    lines = []\n",
    "    alpha_lines = []\n",
    "    if isinstance(directories, str):\n",
    "        dd = directories\n",
    "        directories = [dd for _ in names]\n",
    "    for name, color, t_max, legend, directory in zip(names, colors, t_maxs, legends, directories):\n",
    "#         print(directory)\n",
    "        DQN_Rewards_Path = directory + \"*\" + name + \"*/logs/Episode_Rewards.txt\"\n",
    "        DQN_Lengths_Path = directory + \"*\" + name + \"*/logs/Episode_Lengths.txt\"\n",
    "        DQN_Rewards = []\n",
    "        DQN_Lengths = []\n",
    "        DQN_Lengths_C = []\n",
    "        for filename in glob.glob(DQN_Rewards_Path):\n",
    "            run_logs = [0]\n",
    "            with open(filename, \"r\") as f:\n",
    "#                 print(f)\n",
    "                for line in f:\n",
    "                    try:\n",
    "                        ep_r = float(line)\n",
    "                    except:\n",
    "                        print(\"Nothing here for:\", filename)\n",
    "                        continue\n",
    "                    run_logs.append(ep_r)\n",
    "            DQN_Rewards.append(run_logs)\n",
    "        for filename in glob.glob(DQN_Lengths_Path):\n",
    "            run_logs = [0]\n",
    "        #     print(filename)\n",
    "            with open(filename, \"r\") as f:\n",
    "                for line in f:\n",
    "                    try:\n",
    "                        ep_r = float(line)\n",
    "                    except:\n",
    "                        continue\n",
    "                    run_logs.append(ep_r)\n",
    "            DQN_Lengths.append(run_logs)\n",
    "            run_logs_c = np.cumsum(run_logs).astype(np.int32)\n",
    "            DQN_Lengths_C.append(run_logs_c)\n",
    "        DQN_Smoothed = []\n",
    "        for times, rewards in zip(DQN_Lengths_C, DQN_Rewards):\n",
    "#             linear = interp1d(times, rewards, kind=\"linear\")\n",
    "#             linear_rewards = linear([i for i in range(500000)])\n",
    "#             DQN_Smoothed.append(linear_rewards)\n",
    "            spline_rewards = spline(times, rewards, [i for i in range(0, t_max, step)], order=1)\n",
    "            DQN_Smoothed.append(spline_rewards)\n",
    "        DQN_Means = np.mean(DQN_Smoothed, axis=0)\n",
    "        DQN_Stds = np.std(DQN_Smoothed, axis=0)\n",
    "        \n",
    "        if min_max:\n",
    "    #         plt.fill_between([i for i in range(0, t_max, step)], DQN_Means - DQN_Stds, DQN_Means + DQN_Stds, color=color, alpha=0.2, edgecolor=\"white\")\n",
    "            # Error bars\n",
    "            xs = [i for i in range(0, t_max, step)]\n",
    "            xs = xs + list(reversed(xs))\n",
    "    #         ys = np.concatenate([DQN_Means - DQN_Stds, np.flip(DQN_Means + DQN_Stds, axis=0)])\n",
    "            ys = np.concatenate([np.min(DQN_Smoothed, axis=0), np.flip(np.max(DQN_Smoothed, axis=0), axis=0)])\n",
    "            lls = p.patch(xs, ys, color=color, alpha=0.1)\n",
    "\n",
    "\n",
    "    #         for x, y, yerr in zip(range(0, t_max, step), DQN_Means, DQN_Stds):\n",
    "    #             lls = p.line([x, x], [y - yerr, y + yerr], color=color, alpha=0.1, hover_alpha=0.8)\n",
    "    #             alpha_lines.append(lls)\n",
    "\n",
    "\n",
    "    #         plt.plot([i for i in range(0, t_max, step)], DQN_Means, color=color)\n",
    "        l = p.line([i for i in range(0, t_max, step)], DQN_Means, color=color, line_width=2)\n",
    "        lines.append(l)\n",
    "    #         alpha_lines.append(lls)\n",
    "\n",
    "#     plt.title(\"Episode_Reward\")\n",
    "#     plt.xlabel(\"T\")\n",
    "#     plt.ylabel(\"Reward\")\n",
    "#     if legends is not None:\n",
    "#         plt.legend(legends)\n",
    "#     plt.show()\n",
    "#     p.line([0,1], [-1,3])\n",
    "    new_leg = Legend(items=[(name, [line]) for name, line in zip(legends, lines)], location=(0,-30))\n",
    "    p.add_layout(new_leg, \"right\")\n",
    "#     p.add_tools(HoverTool(renderers=alpha_lines))\n",
    "#     p.add_tools(TapTool(renderers=alpha_lines))\n",
    "    show(p)"
   ]
  },
  {
   "cell_type": "code",
   "execution_count": 11,
   "metadata": {
    "collapsed": false,
    "deletable": true,
    "editable": true
   },
   "outputs": [],
   "source": [
    "def plot_states(names, t_maxs, colors, legends, directories=\"Logs/\", step=10, title=\"\"):\n",
    "#     plt.figure(figsize=(10,10))\n",
    "    p = figure(width=1200, height=800, title=title)\n",
    "    p.toolbar_location = \"above\"\n",
    "    p.yaxis.axis_label = \"States visited\"\n",
    "    p.xaxis.axis_label = \"T\"\n",
    "    p.xaxis.formatter = BasicTickFormatter(use_scientific=False)\n",
    "#     p = figure(width=800, height=500)\n",
    "    lines = []\n",
    "    alpha_lines = []\n",
    "    if isinstance(directories, str):\n",
    "        dd = directories\n",
    "        directories = [dd for _ in names]\n",
    "    for name, color, t_max, legend, directory in zip(names, colors, t_maxs, legends, directories):\n",
    "#         print(directory)\n",
    "        States_Path = directory + \"*\" + name + \"*/logs/Player_Positions.txt\"\n",
    "        States = []\n",
    "        for filename in glob.glob(States_Path):\n",
    "            run_logs = []\n",
    "            with open(filename, \"r\") as f:\n",
    "#                 print(f)\n",
    "                for line in f:\n",
    "                    try:\n",
    "                        ep_r = str(line)\n",
    "#                         print(ep_r)\n",
    "                    except:\n",
    "                        print(\"Nothing here for:\", filename)\n",
    "                        continue\n",
    "                    run_logs.append(ep_r)\n",
    "            States.append(run_logs)\n",
    "        States_Visited = []\n",
    "        for run in States:\n",
    "            Visited = []\n",
    "            States_Sets = set()\n",
    "#             print(len(run))\n",
    "            for ii, s in enumerate(run):\n",
    "                if ii >= t_max - 1:\n",
    "                    break\n",
    "#                 print(s)\n",
    "                States_Sets.add(s)\n",
    "                if ii % step == 0:\n",
    "                    Visited.append(len(States_Sets))\n",
    "#             print(len(States_Sets))\n",
    "#             print(len(Visited))\n",
    "            States_Visited.append(Visited)\n",
    "#         print(np.array(States_Visited).shape)\n",
    "        Means = np.mean(States_Visited, axis=0)\n",
    "        Stds = np.std(States_Visited, axis=0)\n",
    "#         print(Means.shape)\n",
    "        \n",
    "#         plt.fill_between([i for i in range(0, t_max, step)], DQN_Means - DQN_Stds, DQN_Means + DQN_Stds, color=color, alpha=0.2, edgecolor=\"white\")\n",
    "        # Error bars\n",
    "        xs = [i for i in range(0, t_max, step)]\n",
    "        xs = xs + list(reversed(xs))\n",
    "#         ys = np.concatenate([Means - Stds, np.flip(Means + Stds, axis=0)])\n",
    "        ys = np.concatenate([np.min(States_Visited, axis=0), np.flip(np.max(States_Visited, axis=0), axis=0)])\n",
    "        lls = p.patch(xs, ys, color=color, alpha=0.1)\n",
    "\n",
    "        \n",
    "#         for x, y, yerr in zip(range(0, t_max, step), DQN_Means, DQN_Stds):\n",
    "#             lls = p.line([x, x], [y - yerr, y + yerr], color=color, alpha=0.1, hover_alpha=0.8)\n",
    "#             alpha_lines.append(lls)\n",
    "            \n",
    "\n",
    "#         plt.plot([i for i in range(0, t_max, step)], DQN_Means, color=color)\n",
    "        l = p.line([i for i in range(0, t_max, step)], Means, color=color, line_width=2)\n",
    "        lines.append(l)\n",
    "#         alpha_lines.append(lls)\n",
    "\n",
    "#     plt.title(\"Episode_Reward\")\n",
    "#     plt.xlabel(\"T\")\n",
    "#     plt.ylabel(\"Reward\")\n",
    "#     if legends is not None:\n",
    "#         plt.legend(legends)\n",
    "#     plt.show()\n",
    "#     p.line([0,1], [-1,3])\n",
    "    new_leg = Legend(items=[(name, [line]) for name, line in zip(legends, lines)], location=(0,-30))\n",
    "    p.add_layout(new_leg, \"right\")\n",
    "#     p.add_tools(HoverTool(renderers=alpha_lines))\n",
    "#     p.add_tools(TapTool(renderers=alpha_lines))\n",
    "    show(p)"
   ]
  },
  {
   "cell_type": "code",
   "execution_count": null,
   "metadata": {
    "collapsed": true,
    "deletable": true,
    "editable": true
   },
   "outputs": [],
   "source": []
  },
  {
   "cell_type": "code",
   "execution_count": 12,
   "metadata": {
    "collapsed": false,
    "deletable": true,
    "editable": true
   },
   "outputs": [
    {
     "name": "stdout",
     "output_type": "stream",
     "text": [
      "['_10_Step_*DQN_', '_10_Step_*k_Count_', '_10_Step_*_CountEps_']\n",
      "[300001, 300001, 300001]\n"
     ]
    }
   ],
   "source": [
    "names = []\n",
    "legends = []\n",
    "t_maxs = []\n",
    "directories = []\n",
    "\n",
    "            \n",
    "# Frontier stuff\n",
    "for step in [10]:\n",
    "    # DQN\n",
    "    names += [\"_{}_Step_*DQN_\".format(step)]\n",
    "    legends += [\"{}_Step_DQN\".format(step)]\n",
    "    t_maxs += [300001]\n",
    "#     continue\n",
    "    # PseudoCount\n",
    "    names += [\"_{}_Step_*k_Count_\".format(step)]\n",
    "    legends += [\"{}_Step_Count\".format(step)]\n",
    "    t_maxs += [300001]\n",
    "#     continue\n",
    "    # EpsilonScaling\n",
    "    names += [\"_{}_Step_*_CountEps_\".format(step)]\n",
    "    legends += [\"{}_Step_Epsilon_Scaling\".format(step)]\n",
    "    t_maxs += [300001]\n",
    "            \n",
    "    \n",
    "direc = \"/home/tabz/tmp/logfiles/MedMaze10/MedMaze10\"\n",
    "# directories =  [\"{}/{}\".format(dropbox_direc, \"Maze_5_Logs/\")] + 3 * [\"{}/{}\".format(dropbox_direc, \"Maze_5_Batch_Sizes_Logs/\")] \n",
    "directories += [direc + \"/EpsilonLogs/\"] * 3\n",
    "    \n",
    "print(names)\n",
    "print(t_maxs)\n",
    "# colours = [\"red\", \"#3366ff\", \"#66ff33\", \"yellow\"]\n",
    "# colours = rainbow(np.linspace(0, 1, len(names)))"
   ]
  },
  {
   "cell_type": "code",
   "execution_count": 13,
   "metadata": {
    "collapsed": false,
    "deletable": true,
    "editable": true
   },
   "outputs": [
    {
     "name": "stdout",
     "output_type": "stream",
     "text": [
      "['_100_Step*k_Count_', '_100_Step*OptimisticAction', '_100_Step*_CountEps_']\n",
      "[300001, 300001, 300001]\n",
      "/home/scratch/tabhid/Log_Files/Gamma_Logs//\n"
     ]
    }
   ],
   "source": [
    "names = []\n",
    "legends = []\n",
    "t_maxs = []\n",
    "\n",
    "            \n",
    "# Frontier bandit stuff\n",
    "\n",
    "for n in [100]:\n",
    "    \n",
    "    # Count\n",
    "    names += [\"_{}_Step*k_Count_\".format(n)]\n",
    "    legends += [\"{}_Step_Count\".format(n)]\n",
    "    t_maxs += [300001]\n",
    "#     continue\n",
    "    # Optimistic\n",
    "    names += [\"_{}_Step*OptimisticAction\".format(n)]\n",
    "    legends += [\"{}_Step_OptimisticAction\".format(n)]\n",
    "    t_maxs += [300001]\n",
    "#     continue\n",
    "    # Epsilon Scaling\n",
    "    names += [\"_{}_Step*_CountEps_\".format(n)]\n",
    "    legends += [\"{}_Step_EpsilonScaling\".format(n)]\n",
    "    t_maxs += [300001]\n",
    "            \n",
    "    \n",
    "direc = \"/home/scratch/tabhid/Log_Files/Gamma_Logs//\"\n",
    "# directories =  [\"{}/{}\".format(dropbox_direc, \"Maze_5_Logs/\")] + 3 * [\"{}/{}\".format(dropbox_direc, \"Maze_5_Batch_Sizes_Logs/\")] \n",
    "# directories += [direc + \"/BanditLogs/\"] * 3\n",
    "directories = direc\n",
    "    \n",
    "print(names)\n",
    "print(t_maxs)\n",
    "print(directories)\n",
    "# colours = [\"red\", \"#3366ff\", \"#66ff33\", \"yellow\"]\n",
    "# colours = rainbow(np.linspace(0, 1, len(names)))"
   ]
  },
  {
   "cell_type": "code",
   "execution_count": 14,
   "metadata": {
    "collapsed": false,
    "deletable": true,
    "editable": true
   },
   "outputs": [
    {
     "name": "stdout",
     "output_type": "stream",
     "text": [
      "['_0.9_Decay*_Eps_0.1_', '_0.99_Decay*_Eps_0.1_', '_0.9999_Decay*_Eps_0.1_', '_0.9_Decay*_Eps_1_', '_0.99_Decay*_Eps_1_', '_0.9999_Decay*_Eps_1_']\n",
      "[300001, 300001, 300001, 300001, 300001, 300001]\n",
      "/home/tabz/tmp/Epsilon_Decay_Logs/\n"
     ]
    }
   ],
   "source": [
    "names = []\n",
    "legends = []\n",
    "t_maxs = []\n",
    "\n",
    "            \n",
    "# Epsilon Decay Scaling\n",
    "for eps in [0.1, 1]:\n",
    "    for decay in [0.9, 0.99, 0.9999]:\n",
    "    \n",
    "        names += [\"_{}_Decay*_Eps_{}_\".format(decay, eps)]\n",
    "        legends += [\"{}_Decay_EpsilonScaling_{}_Start\".format(decay, eps)]\n",
    "        t_maxs += [300001]\n",
    "            \n",
    "    \n",
    "# direc = \"/home/scratch/tabhid/Log_Files/Epsilon_Decay_Logs/\"\n",
    "direc = \"/home/tabz/tmp/Epsilon_Decay_Logs/\"\n",
    "# directories =  [\"{}/{}\".format(dropbox_direc, \"Maze_5_Logs/\")] + 3 * [\"{}/{}\".format(dropbox_direc, \"Maze_5_Batch_Sizes_Logs/\")] \n",
    "# directories += [direc + \"/BanditLogs/\"] * 3\n",
    "directories = direc\n",
    "    \n",
    "print(names)\n",
    "print(t_maxs)\n",
    "print(directories)"
   ]
  },
  {
   "cell_type": "code",
   "execution_count": 15,
   "metadata": {
    "collapsed": false,
    "deletable": true,
    "editable": true
   },
   "outputs": [
    {
     "name": "stdout",
     "output_type": "stream",
     "text": [
      "['_NegativeReward_0.5_', '_NegativeReward_0.7_', '_NegativeReward_0.9_']\n",
      "[300001, 300001, 300001]\n",
      "/home/tabz/tmp/Big_Negative_Reward_Logs/\n"
     ]
    }
   ],
   "source": [
    "names = []\n",
    "legends = []\n",
    "t_maxs = []\n",
    "\n",
    "            \n",
    "# Negative reward threshold\n",
    "for ns in [0.5, 0.7,  0.9]:\n",
    "    names += [\"_NegativeReward_{}_\".format(ns)]\n",
    "    legends += [\"NegativeReward_{}_Threshold\".format(ns)]\n",
    "    t_maxs += [300001]\n",
    "            \n",
    "    \n",
    "# direc = \"/home/scratch/tabhid/Log_Files/Epsilon_Decay_Logs/\"\n",
    "direc = \"/home/tabz/tmp/Big_Negative_Reward_Logs/\"\n",
    "# directories =  [\"{}/{}\".format(dropbox_direc, \"Maze_5_Logs/\")] + 3 * [\"{}/{}\".format(dropbox_direc, \"Maze_5_Batch_Sizes_Logs/\")] \n",
    "# directories += [direc + \"/BanditLogs/\"] * 3\n",
    "directories = direc\n",
    "    \n",
    "print(names)\n",
    "print(t_maxs)\n",
    "print(directories)"
   ]
  },
  {
   "cell_type": "code",
   "execution_count": 16,
   "metadata": {
    "collapsed": false,
    "deletable": true,
    "editable": true
   },
   "outputs": [
    {
     "name": "stdout",
     "output_type": "stream",
     "text": [
      "['k_OptimisticAction_0.0001_Scaler', 'k_OptimisticAction_0.0005_Scaler', 'k_OptimisticAction_0.001_Scaler', 'k_OptimisticAction_0.005_Scaler']\n",
      "[300001, 300001, 300001, 300001]\n",
      "/home/scratch/tabhid/Log_Files/Bandit_Small_Tau_Logs/\n"
     ]
    }
   ],
   "source": [
    "names = []\n",
    "legends = []\n",
    "t_maxs = []\n",
    "\n",
    "            \n",
    "# Bandit Tau\n",
    "for tau in [0.0001, 0.0005, 0.001, 0.005]:\n",
    "    for negative_reward in [False]:\n",
    "        if negative_reward:\n",
    "            names += [\"NegativeReward_*_OptimisticAction_{}_Scaler\".format(tau)]\n",
    "            legends += [\"Optim Bandit {} Tau Neg Reward\".format(tau)]\n",
    "        else:\n",
    "            names += [\"k_OptimisticAction_{}_Scaler\".format(tau)]\n",
    "            legends += [\"Optim Bandit {} Tau\".format(tau)]\n",
    "        t_maxs += [300001]\n",
    "            \n",
    "    \n",
    "direc = \"/home/scratch/tabhid/Log_Files/Bandit_Small_Tau_Logs/\"\n",
    "# direc = \"/home/tabz/tmp/Bandit_Tau_Logs/\"\n",
    "# directories =  [\"{}/{}\".format(dropbox_direc, \"Maze_5_Logs/\")] + 3 * [\"{}/{}\".format(dropbox_direc, \"Maze_5_Batch_Sizes_Logs/\")] \n",
    "# directories += [direc + \"/BanditLogs/\"] * 3\n",
    "directories = direc\n",
    "    \n",
    "print(names)\n",
    "print(t_maxs)\n",
    "print(directories)"
   ]
  },
  {
   "cell_type": "code",
   "execution_count": 17,
   "metadata": {
    "collapsed": false,
    "deletable": true,
    "editable": true
   },
   "outputs": [
    {
     "name": "stdout",
     "output_type": "stream",
     "text": [
      "['Batch_64_XpSize_600k', 'Batch_128_XpSize_600k', 'Batch_256_XpSize_600k']\n",
      "[600001, 600001, 600001]\n",
      "/home/tabz/tmp/logfiles/MedMaze10/Batch_Size_Logs/\n"
     ]
    }
   ],
   "source": [
    "names = []\n",
    "legends = []\n",
    "t_maxs = []\n",
    "\n",
    "            \n",
    "# Batch Size\n",
    "for xp in [600]:\n",
    "    for bs in [64, 128, 256]:\n",
    "        names += [\"Batch_{}_XpSize_{}k\".format(bs, xp)]\n",
    "        legends += [\"Batch {} Xp {}k\".format(bs, xp)]\n",
    "        t_maxs += [600001]\n",
    "            \n",
    "    \n",
    "# direc = \"/home/scratch/tabhid/Log_Files/Xp_Logs/\"\n",
    "direc = \"/home/tabz/tmp/logfiles/MedMaze10/Batch_Size_Logs/\"\n",
    "# directories =  [\"{}/{}\".format(dropbox_direc, \"Maze_5_Logs/\")] + 3 * [\"{}/{}\".format(dropbox_direc, \"Maze_5_Batch_Sizes_Logs/\")] \n",
    "# directories += [direc + \"/BanditLogs/\"] * 3\n",
    "directories = direc\n",
    "    \n",
    "print(names)\n",
    "print(t_maxs)\n",
    "print(directories)"
   ]
  },
  {
   "cell_type": "code",
   "execution_count": 18,
   "metadata": {
    "collapsed": false,
    "deletable": true,
    "editable": true
   },
   "outputs": [
    {
     "name": "stdout",
     "output_type": "stream",
     "text": [
      "['ETrace_0.7_6_States', 'ETrace_0.9_6_States', 'ETrace_1_6_States']\n",
      "[600001, 600001, 600001]\n",
      "/home/tabz/tmp/logfiles/MedMaze10/Elig_3_Logs/\n"
     ]
    }
   ],
   "source": [
    "names = []\n",
    "legends = []\n",
    "t_maxs = []\n",
    "\n",
    "            \n",
    "# Elig States\n",
    "for lamb in [0.7, 0.9, 1]:\n",
    "    for states in [6]:\n",
    "        names += [\"ETrace_{}_{}_States\".format(lamb, states)]\n",
    "        legends += [\"Traces {} Lambda {} States 3 Gap\".format(lamb, states)]\n",
    "        t_maxs += [600001]\n",
    "            \n",
    "    \n",
    "# direc = \"/home/scratch/tabhid/Log_Files/Xp_Logs/\"\n",
    "direc = \"/home/tabz/tmp/logfiles/MedMaze10/Elig_3_Logs/\"\n",
    "# directories =  [\"{}/{}\".format(dropbox_direc, \"Maze_5_Logs/\")] + 3 * [\"{}/{}\".format(dropbox_direc, \"Maze_5_Batch_Sizes_Logs/\")] \n",
    "# directories += [direc + \"/BanditLogs/\"] * 3\n",
    "directories = direc\n",
    "    \n",
    "print(names)\n",
    "print(t_maxs)\n",
    "print(directories)"
   ]
  },
  {
   "cell_type": "code",
   "execution_count": 19,
   "metadata": {
    "collapsed": false,
    "deletable": true,
    "editable": true
   },
   "outputs": [
    {
     "name": "stdout",
     "output_type": "stream",
     "text": [
      "['Iters_1_', 'Iters_2_', 'Iters_4_', 'Iters_8_', 'Iters_16_']\n",
      "[600001, 600001, 600001, 600001, 600001]\n",
      "/home/tabz/tmp/logfiles/MedMaze10/Iters_Logs/\n"
     ]
    }
   ],
   "source": [
    "names = []\n",
    "legends = []\n",
    "t_maxs = []\n",
    "\n",
    "            \n",
    "# Iterations\n",
    "for i in [1, 2, 4, 8, 16]:\n",
    "    names += [\"Iters_{}_\".format(i)]\n",
    "    legends += [\"{} Iterations\".format(i)]\n",
    "    t_maxs += [600001]\n",
    "            \n",
    "    \n",
    "# direc = \"/home/scratch/tabhid/Log_Files/Xp_Logs/\"\n",
    "direc = \"/home/tabz/tmp/logfiles/MedMaze10/Iters_Logs/\"\n",
    "# directories =  [\"{}/{}\".format(dropbox_direc, \"Maze_5_Logs/\")] + 3 * [\"{}/{}\".format(dropbox_direc, \"Maze_5_Batch_Sizes_Logs/\")] \n",
    "# directories += [direc + \"/BanditLogs/\"] * 3\n",
    "directories = direc\n",
    "    \n",
    "print(names)\n",
    "print(t_maxs)\n",
    "print(directories)"
   ]
  },
  {
   "cell_type": "code",
   "execution_count": 20,
   "metadata": {
    "collapsed": false,
    "deletable": true,
    "editable": true
   },
   "outputs": [
    {
     "name": "stdout",
     "output_type": "stream",
     "text": [
      "['k_CountEps_', 'Trajectory_0.2_', 'Trajectory_0.5_', 'Trajectory_0.75_', 'Trajectory_0.8_', 'Trajectory_0.9_']\n",
      "[600001, 600001, 600001, 600001, 600001, 600001]\n",
      "/home/tabz/tmp/logfiles/MedMaze10/Trajectory_Logs/\n"
     ]
    }
   ],
   "source": [
    "names = []\n",
    "legends = []\n",
    "t_maxs = []\n",
    "\n",
    "names += [\"k_CountEps_\"]\n",
    "legends += [\"No Trajectory\"]\n",
    "t_maxs += [600001]\n",
    "            \n",
    "# Trajectory\n",
    "for t in [0.2, 0.5, 0.75, 0.8, 0.9]:\n",
    "    names += [\"Trajectory_{}_\".format(t)]\n",
    "    legends += [\"Trajectory {} Save\".format(t)]\n",
    "    t_maxs += [600001]\n",
    "            \n",
    "    \n",
    "# direc = \"/home/scratch/tabhid/Log_Files/Xp_Logs/\"\n",
    "direc = \"/home/tabz/tmp/logfiles/MedMaze10/Trajectory_Logs/\"\n",
    "# directories =  [\"{}/{}\".format(dropbox_direc, \"Maze_5_Logs/\")] + 3 * [\"{}/{}\".format(dropbox_direc, \"Maze_5_Batch_Sizes_Logs/\")] \n",
    "# directories += [direc + \"/BanditLogs/\"] * 3\n",
    "directories = direc\n",
    "    \n",
    "print(names)\n",
    "print(t_maxs)\n",
    "print(directories)"
   ]
  },
  {
   "cell_type": "code",
   "execution_count": 21,
   "metadata": {
    "collapsed": false,
    "deletable": true,
    "editable": true
   },
   "outputs": [
    {
     "name": "stdout",
     "output_type": "stream",
     "text": [
      "['XpSize_30k*CountDecay_0.9999', 'XpSize_30k*CountDecay_0.999999', 'XpSize_30k*CountDecay_1', 'XpSize_60k*CountDecay_0.9999', 'XpSize_60k*CountDecay_0.999999', 'XpSize_60k*CountDecay_1', 'XpSize_100k*CountDecay_0.9999', 'XpSize_100k*CountDecay_0.999999', 'XpSize_100k*CountDecay_1']\n",
      "[600001, 600001, 600001, 600001, 600001, 600001, 600001, 600001, 600001]\n",
      "/home/tabz/tmp/logfiles/CountXpSort/\n"
     ]
    }
   ],
   "source": [
    "names = []\n",
    "legends = []\n",
    "t_maxs = []\n",
    "          \n",
    "# Count Xp Sort\n",
    "for xp in [30, 60, 100]:\n",
    "    for decay in [0.9999, 0.999999, 1]:\n",
    "        names += [\"XpSize_{}k*CountDecay_{}\".format(xp, decay)]\n",
    "        legends += [\"CountXp Sort {}k Xp {} CountDecay\".format(xp, decay)]\n",
    "        t_maxs += [600001]\n",
    "            \n",
    "    \n",
    "# direc = \"/home/scratch/tabhid/Log_Files/Xp_Logs/\"\n",
    "direc = \"/home/tabz/tmp/logfiles/CountXpSort/\"\n",
    "# directories =  [\"{}/{}\".format(dropbox_direc, \"Maze_5_Logs/\")] + 3 * [\"{}/{}\".format(dropbox_direc, \"Maze_5_Batch_Sizes_Logs/\")] \n",
    "# directories += [direc + \"/BanditLogs/\"] * 3\n",
    "directories = direc\n",
    "    \n",
    "print(names)\n",
    "print(t_maxs)\n",
    "print(directories)"
   ]
  },
  {
   "cell_type": "code",
   "execution_count": 22,
   "metadata": {
    "collapsed": false,
    "deletable": true,
    "editable": true
   },
   "outputs": [
    {
     "name": "stdout",
     "output_type": "stream",
     "text": [
      "['OptimisticAction_0.1', 'OptimisticAction_1', 'OptimisticAction_10', 'k_CountEps']\n",
      "[600001, 600001, 600001, 600001]\n",
      "/home/tabz/tmp/logfiles/MedMaze12/\n"
     ]
    }
   ],
   "source": [
    "names = []\n",
    "legends = []\n",
    "t_maxs = []\n",
    "          \n",
    "# MedMaze12\n",
    "\n",
    "#Bandits\n",
    "for os in [0.1, 1, 10]:\n",
    "    names += [\"OptimisticAction_{}\".format(os)]\n",
    "    legends += [\"Bandit {} Scaler\".format(os)]\n",
    "    t_maxs += [600001]\n",
    "    \n",
    "# #-ve reward\n",
    "# for nr in [0.5, 0.7]:\n",
    "#     names += [\"NegativeReward_{}\".format(nr)]\n",
    "#     legends += [\"Negative Reward {}\".format(nr)]\n",
    "#     t_maxs += [600001]\n",
    "    \n",
    "#CountXp\n",
    "names += [\"k_CountEps\"]\n",
    "legends += [\"Counts\"]\n",
    "t_maxs += [600001]\n",
    "            \n",
    "    \n",
    "# direc = \"/home/scratch/tabhid/Log_Files/Xp_Logs/\"\n",
    "direc = \"/home/tabz/tmp/logfiles/MedMaze12/\"\n",
    "# directories =  [\"{}/{}\".format(dropbox_direc, \"Maze_5_Logs/\")] + 3 * [\"{}/{}\".format(dropbox_direc, \"Maze_5_Batch_Sizes_Logs/\")] \n",
    "# directories += [direc + \"/BanditLogs/\"] * 3\n",
    "directories = direc\n",
    "    \n",
    "print(names)\n",
    "print(t_maxs)\n",
    "print(directories)"
   ]
  },
  {
   "cell_type": "code",
   "execution_count": 23,
   "metadata": {
    "collapsed": false,
    "deletable": true,
    "editable": true
   },
   "outputs": [
    {
     "name": "stdout",
     "output_type": "stream",
     "text": [
      "['k_CountEps*Stale_50k', 'Prioritized*Stale_50k', 'Prioritized_IS*Stale_50k', 'k_CountEps*Stale_300k', 'Prioritized*Stale_300k', 'Prioritized_IS*Stale_300k']\n",
      "[600001, 600001, 600001, 600001, 600001, 600001]\n",
      "/home/tabz/tmp/logfiles/Prioritized_Logs/\n"
     ]
    }
   ],
   "source": [
    "names = []\n",
    "legends = []\n",
    "t_maxs = []\n",
    "          \n",
    "# Prioritized replay stuff\n",
    "for fresh in [50, 300]:\n",
    "    for p in [None, \"P\", \"P_IS\"]:\n",
    "        if p is \"P\":\n",
    "            names += [\"Prioritized*Stale_{}k\".format(fresh)]\n",
    "            legends += [\"Prioritized {}k Fresh Counts\".format(fresh)]\n",
    "        elif p is \"P_IS\":\n",
    "            names += [\"Prioritized_IS*Stale_{}k\".format(fresh)]\n",
    "            legends += [\"Prioritized IS {}k Fresh Counts\".format(fresh)]\n",
    "        else:\n",
    "            names += [\"k_CountEps*Stale_{}k\".format(fresh)]\n",
    "            legends += [\"{}k Fresh Counts\".format(fresh)]\n",
    "        t_maxs += [600001]\n",
    "    \n",
    "direc = \"/home/tabz/tmp/logfiles/Prioritized_Logs/\"\n",
    "env = \"Med Maze 10\"\n",
    "directories = direc\n",
    "    \n",
    "print(names)\n",
    "print(t_maxs)\n",
    "print(directories)"
   ]
  },
  {
   "cell_type": "code",
   "execution_count": 24,
   "metadata": {
    "collapsed": false,
    "deletable": true,
    "editable": true
   },
   "outputs": [
    {
     "name": "stdout",
     "output_type": "stream",
     "text": [
      "['_0.1_Mix', '_0.3_Mix', '_0.5_Mix', '_0.7_Mix', '_0.9_Mix']\n",
      "[600001, 600001, 600001, 600001, 600001]\n",
      "/home/tabz/tmp/logfiles/Mixing_Logs/\n"
     ]
    }
   ],
   "source": [
    "names = []\n",
    "legends = []\n",
    "t_maxs = []\n",
    "          \n",
    "# Mixing\n",
    "for mix in [0.1, 0.3, 0.5, 0.7, 0.9]:\n",
    "    names += [\"_{}_Mix\".format(mix)]\n",
    "    legends += [\"{} Mixing\".format(mix)]\n",
    "    t_maxs += [600001]\n",
    "    \n",
    "direc = \"/home/tabz/tmp/logfiles/Mixing_Logs/\"\n",
    "directories = direc\n",
    "\n",
    "env =\"Med Maze 10\"\n",
    "    \n",
    "print(names)\n",
    "print(t_maxs)\n",
    "print(directories)"
   ]
  },
  {
   "cell_type": "code",
   "execution_count": 25,
   "metadata": {
    "collapsed": false,
    "deletable": true,
    "editable": true
   },
   "outputs": [
    {
     "name": "stdout",
     "output_type": "stream",
     "text": [
      "['OptimisticAction_0.1', 'OptimisticAction_0.01', 'OptimisticAction_0.001', 'CountEps_0.9999_', 'CountEps_0.999_', 'CountEps_0.99_', 'CountEps_0.9_']\n",
      "[600001, 600001, 600001, 600001, 600001, 600001, 600001]\n",
      "/home/tabz/tmp/logfiles/Frontier_Logs/\n"
     ]
    }
   ],
   "source": [
    "names = []\n",
    "legends = []\n",
    "t_maxs = []\n",
    "          \n",
    "# MedMaze12\n",
    "\n",
    "#Bandits\n",
    "for os in [0.1, 0.01, 0.001]:\n",
    "    names += [\"OptimisticAction_{}\".format(os)]\n",
    "    legends += [\"Bandit {} Scaler\".format(os)]\n",
    "    t_maxs += [600001]\n",
    "    \n",
    "#Epsilon decay\n",
    "for decay in [0.9999, 0.999, 0.99, 0.9]:\n",
    "    names += [\"CountEps_{}_\".format(decay)]\n",
    "    legends += [\"Epsilon Scaling {} Decay\".format(decay)]\n",
    "    t_maxs += [600001]\n",
    "            \n",
    "    \n",
    "direc = \"/home/tabz/tmp/logfiles/Frontier_Logs/\"\n",
    "directories = direc\n",
    "env = \"Med Maze 12\"\n",
    "    \n",
    "print(names)\n",
    "print(t_maxs)\n",
    "print(directories)"
   ]
  },
  {
   "cell_type": "code",
   "execution_count": 26,
   "metadata": {
    "collapsed": false,
    "deletable": true,
    "editable": true
   },
   "outputs": [
    {
     "name": "stdout",
     "output_type": "stream",
     "text": [
      "['NegativeReward_0.1', 'NegativeReward_0.2']\n",
      "[600001, 600001]\n",
      "/home/tabz/tmp/Neg/\n"
     ]
    }
   ],
   "source": [
    "names = []\n",
    "legends = []\n",
    "t_maxs = []\n",
    "          \n",
    "# MedMaze10 Set replay negative reward\n",
    "\n",
    "for neg_reward in [0.1, 0.2]:\n",
    "    names += [\"NegativeReward_{}\".format(neg_reward)]\n",
    "    legends += [\"Negative Reward {} Set Replay\".format(neg_reward)]\n",
    "    t_maxs += [600001]            \n",
    "    \n",
    "direc = \"/home/tabz/tmp/Neg/\"\n",
    "directories = direc\n",
    "env = \"Med Maze 10 Set Replay Negative Reward\"\n",
    "    \n",
    "print(names)\n",
    "print(t_maxs)\n",
    "print(directories)"
   ]
  },
  {
   "cell_type": "code",
   "execution_count": 27,
   "metadata": {
    "collapsed": false,
    "deletable": true,
    "editable": true
   },
   "outputs": [
    {
     "name": "stdout",
     "output_type": "stream",
     "text": [
      "['_10_Step*_SetReplay_5_', '_10_Step*_SetReplay_10_', '_10_Step*_SetReplay_100_', '_100_Step*_SetReplay_5_', '_100_Step*_SetReplay_10_', '_100_Step*_SetReplay_100_']\n",
      "[600001, 600001, 600001, 600001, 600001, 600001]\n",
      "/home/tabz/tmp/logfiles/SetReplayNum/\n"
     ]
    }
   ],
   "source": [
    "names = []\n",
    "legends = []\n",
    "t_maxs = []\n",
    "          \n",
    "# MedMaze10 Set replay \n",
    "\n",
    "for step in [10, 100]:\n",
    "    for replay_num in [5, 10, 100]:\n",
    "        names += [\"_{}_Step*_SetReplay_{}_\".format(step, replay_num)]\n",
    "        legends += [\"{} Step {} SetReplay\".format(step, replay_num)]\n",
    "        t_maxs += [600001]\n",
    "    \n",
    "direc = \"/home/tabz/tmp/logfiles/SetReplayNum/\"\n",
    "directories = direc\n",
    "env = \"Med Maze 10 Set Replay Num\"\n",
    "    \n",
    "print(names)\n",
    "print(t_maxs)\n",
    "print(directories)"
   ]
  },
  {
   "cell_type": "code",
   "execution_count": 28,
   "metadata": {
    "collapsed": false,
    "deletable": true,
    "editable": true
   },
   "outputs": [
    {
     "name": "stdout",
     "output_type": "stream",
     "text": [
      "['k_BonusClip*Stale_50k', 'Prioritized*Stale_50k', 'Prioritized_OnBonus_IS*Stale_50k', 'k_BonusClip*Stale_300k', 'Prioritized*Stale_300k', 'Prioritized_OnBonus_IS*Stale_300k']\n",
      "[800001, 800001, 800001, 800001, 800001, 800001]\n",
      "/home/tabz/tmp/logfiles/Density/\n"
     ]
    }
   ],
   "source": [
    "names = []\n",
    "legends = []\n",
    "t_maxs = []\n",
    "          \n",
    "# Prioritized replay stuff\n",
    "for fresh in [50, 300]:\n",
    "        names += [\"k_BonusClip*Stale_{}k\".format(fresh)]\n",
    "        legends += [\"Uniform {}k Fresh Counts\".format(fresh)]\n",
    "        t_maxs += [800001]\n",
    "        \n",
    "        names += [\"Prioritized*Stale_{}k\".format(fresh)]\n",
    "        legends += [\"Prioritized {}k Fresh Counts\".format(fresh)]\n",
    "        t_maxs += [800001]\n",
    "\n",
    "        names += [\"Prioritized_OnBonus_IS*Stale_{}k\".format(fresh)]\n",
    "        legends += [\"Prioritized IS {}k Fresh Counts\".format(fresh)]\n",
    "        t_maxs += [800001]\n",
    "    \n",
    "direc = \"/home/tabz/tmp/logfiles/Density/\"\n",
    "env = \"Med Maze 10 Prioritized On Density\"\n",
    "directories = direc\n",
    "    \n",
    "print(names)\n",
    "print(t_maxs)\n",
    "print(directories)"
   ]
  },
  {
   "cell_type": "code",
   "execution_count": 29,
   "metadata": {
    "collapsed": false,
    "deletable": true,
    "editable": true
   },
   "outputs": [
    {
     "name": "stdout",
     "output_type": "stream",
     "text": [
      "['k_BonusClip', 'Prioritized_IS', 'Prioritized_MinusPseudo']\n",
      "[800001, 800001, 800001]\n",
      "/home/tabz/tmp/logfiles/MinusPseudo/\n"
     ]
    }
   ],
   "source": [
    "names = []\n",
    "legends = []\n",
    "t_maxs = []\n",
    "          \n",
    "# Prioritized replay stuff musing pseudo rewards\n",
    "\n",
    "names += [\"k_BonusClip\"]\n",
    "legends += [\"Uniform\"]\n",
    "\n",
    "names += [\"Prioritized_IS\"]\n",
    "legends += [\"Prioritised minus pseudo rewards IS\"]\n",
    "\n",
    "names += [\"Prioritized_MinusPseudo\"]\n",
    "legends += [\"Prioritized minus pseudo rewards\"]\n",
    "\n",
    "t_maxs += [800001 for _ in range(3)]\n",
    "    \n",
    "direc = \"/home/tabz/tmp/logfiles/MinusPseudo/\"\n",
    "env = \"Med Maze 10 Prioritized Minus PseudoReward\"\n",
    "directories = direc\n",
    "    \n",
    "print(names)\n",
    "print(t_maxs)\n",
    "print(directories)"
   ]
  },
  {
   "cell_type": "code",
   "execution_count": 30,
   "metadata": {
    "collapsed": false,
    "deletable": true,
    "editable": true
   },
   "outputs": [
    {
     "name": "stdout",
     "output_type": "stream",
     "text": [
      "['Prioritized_-1_MinusPseudo_*Stale_50k', 'Prioritized_1_MinusPseudo_*Stale_50k', 'Prioritized_-1_MinusPseudo_*Stale_300k', 'Prioritized_1_MinusPseudo_*Stale_300k']\n",
      "[800001, 800001, 800001, 800001]\n",
      "/home/tabz/tmp/FixedP/\n"
     ]
    }
   ],
   "source": [
    "names = []\n",
    "legends = []\n",
    "t_maxs = []\n",
    "          \n",
    "# Prioritized replay stuff\n",
    "for fresh in [50, 300]:\n",
    "    for scaler in [-1, 1]:\n",
    "        \n",
    "        names += [\"Prioritized_{}_MinusPseudo_*Stale_{}k\".format(scaler, fresh)]\n",
    "        legends += [\"{} Prioritized {}k Fresh Counts\".format(scaler, fresh)]\n",
    "        t_maxs += [800001]\n",
    "\n",
    "#         names += [\"Prioritized_IS_{}_MinusPseudo_*Stale_{}k\".format(scaler, fresh)]\n",
    "#         legends += [\"{} Prioritized IS {}k Fresh Counts\".format(scaler, fresh)]\n",
    "#         t_maxs += [800001]\n",
    "    \n",
    "direc = \"/home/tabz/tmp/FixedP/\"\n",
    "env = \"Med Maze 10 Prioritized On TD Error Minus Scaled PseudoReward\"\n",
    "directories = direc\n",
    "    \n",
    "print(names)\n",
    "print(t_maxs)\n",
    "print(directories)"
   ]
  },
  {
   "cell_type": "code",
   "execution_count": 31,
   "metadata": {
    "collapsed": false,
    "deletable": true,
    "editable": true
   },
   "outputs": [
    {
     "name": "stdout",
     "output_type": "stream",
     "text": [
      "['XpSize_100k_BonusClip', 'XpSize_100k_Prioritized_Bonus', 'XpSize_100k_Prioritized_IS', 'XpSize_500k_BonusClip', 'XpSize_500k_Prioritized_Bonus', 'XpSize_500k_Prioritized_IS']\n",
      "[1000001, 1000001, 1000001, 1000001, 1000001, 1000001]\n",
      "/home/tabz/tmp/Maze12Baselines/\n"
     ]
    }
   ],
   "source": [
    "names = []\n",
    "legends = []\n",
    "t_maxs = []\n",
    "          \n",
    "# Prioritized replay stuff\n",
    "for xp in [100, 500]:\n",
    "        names += [\"XpSize_{}k_BonusClip\".format(xp)]\n",
    "        legends += [\"Uniform {}k XP\".format(xp)]\n",
    "        t_maxs += [1000001]\n",
    "        \n",
    "        names += [\"XpSize_{}k_Prioritized_Bonus\".format(xp)]\n",
    "        legends += [\"Prioritized {}k XP\".format(xp)]\n",
    "        t_maxs += [1000001]\n",
    "\n",
    "        names += [\"XpSize_{}k_Prioritized_IS\".format(xp)]\n",
    "        legends += [\"Prioritized IS {}k XP\".format(xp)]\n",
    "        t_maxs += [1000001]\n",
    "    \n",
    "direc = \"/home/tabz/tmp/Maze12Baselines/\"\n",
    "env = \"Med Maze 12\"\n",
    "directories = direc\n",
    "    \n",
    "print(names)\n",
    "print(t_maxs)\n",
    "print(directories)"
   ]
  },
  {
   "cell_type": "code",
   "execution_count": 32,
   "metadata": {
    "collapsed": false,
    "deletable": true,
    "editable": true
   },
   "outputs": [
    {
     "name": "stdout",
     "output_type": "stream",
     "text": [
      "['XpSize_100k_Prioritized_0_NScaler_', 'XpSize_100k_Prioritized_1.5_NScaler_', 'XpSize_100k_Prioritized_-1.5_NScaler_', 'XpSize_500k_Prioritized_0_NScaler_', 'XpSize_500k_Prioritized_1.5_NScaler_', 'XpSize_500k_Prioritized_-1.5_NScaler_']\n",
      "[1000001, 1000001, 1000001, 1000001, 1000001, 1000001]\n",
      "/home/tabz/tmp/Maze12Prioritized/\n"
     ]
    }
   ],
   "source": [
    "names = []\n",
    "legends = []\n",
    "t_maxs = []\n",
    "          \n",
    "# Prioritized replay stuff\n",
    "for xp in [100, 500]:\n",
    "    for nscaler in [0, 1.5, -1.5]:\n",
    "        names += [\"XpSize_{}k_Prioritized_{}_NScaler_\".format(xp, nscaler)]\n",
    "        legends += [\"Prioritized {}k XP {} NScaler\".format(xp, nscaler)]\n",
    "        t_maxs += [1000001]\n",
    "    \n",
    "direc = \"/home/tabz/tmp/Maze12Prioritized/\"\n",
    "env = \"Med Maze 12 50k Fresh Counts Negative TD Error Scaling\"\n",
    "directories = direc\n",
    "    \n",
    "print(names)\n",
    "print(t_maxs)\n",
    "print(directories)"
   ]
  },
  {
   "cell_type": "code",
   "execution_count": 33,
   "metadata": {
    "collapsed": false
   },
   "outputs": [
    {
     "name": "stdout",
     "output_type": "stream",
     "text": [
      "['DensityP_BonusClip', 'DensityP_IS_BonusClip']\n",
      "[800001, 800001]\n",
      "/home/scratch/tabhid/Log_Files/DensityP/\n"
     ]
    }
   ],
   "source": [
    "names = []\n",
    "legends = []\n",
    "t_maxs = []\n",
    "          \n",
    "# Density Prioritization\n",
    "names += [\"DensityP_BonusClip\"]\n",
    "legends += [\"DensityP\"]\n",
    "t_maxs += [800001]\n",
    "\n",
    "names += [\"DensityP_IS_BonusClip\"]\n",
    "legends += [\"DensityP IS\"]\n",
    "t_maxs += [800001]\n",
    "    \n",
    "direc = \"/home/scratch/tabhid/Log_Files/DensityP/\"\n",
    "env = \"Med Maze 10 50k Fresh Counts Density Prioritization\"\n",
    "directories = direc\n",
    "    \n",
    "print(names)\n",
    "print(t_maxs)\n",
    "print(directories)"
   ]
  },
  {
   "cell_type": "code",
   "execution_count": 34,
   "metadata": {
    "collapsed": false
   },
   "outputs": [
    {
     "name": "stdout",
     "output_type": "stream",
     "text": [
      "['_0.1_Alpha', '_0.3_Alpha', '_0.5_Alpha', '_0.7_Alpha', '_0.9_Alpha']\n",
      "[800001, 800001, 800001, 800001, 800001]\n",
      "/home/scratch/tabhid/Log_Files/Alpha/\n"
     ]
    }
   ],
   "source": [
    "names = []\n",
    "legends = []\n",
    "t_maxs = []\n",
    "          \n",
    "# Prioritized replay alpha\n",
    "for alpha in [0.1, 0.3, 0.5, 0.7, 0.9]:\n",
    "    names += [\"_{}_Alpha\".format(alpha)]\n",
    "    legends += [\"{} Alpha\".format(alpha)]\n",
    "    t_maxs += [800001]\n",
    "    \n",
    "direc = \"/home/scratch/tabhid/Log_Files/Alpha/\"\n",
    "env = \"Med Maze 10 50k Fresh Counts 1.5 NScaler Alpha\"\n",
    "directories = direc\n",
    "    \n",
    "print(names)\n",
    "print(t_maxs)\n",
    "print(directories)"
   ]
  },
  {
   "cell_type": "code",
   "execution_count": 35,
   "metadata": {
    "collapsed": false
   },
   "outputs": [
    {
     "name": "stdout",
     "output_type": "stream",
     "text": [
      "['XpSize_100k_*_0.5_NScaler_*Stale_50k_', 'XpSize_100k_*_0.5_NScaler_*Stale_500k_', 'XpSize_100k_*_2_NScaler_*Stale_50k_', 'XpSize_100k_*_2_NScaler_*Stale_500k_', 'XpSize_500k_*_0.5_NScaler_*Stale_50k_', 'XpSize_500k_*_0.5_NScaler_*Stale_500k_', 'XpSize_500k_*_2_NScaler_*Stale_50k_', 'XpSize_500k_*_2_NScaler_*Stale_500k_']\n",
      "[1000001, 1000001, 1000001, 1000001, 1000001, 1000001, 1000001, 1000001]\n",
      "/home/tabz/tmp/Maze12Alpha/\n",
      "\n",
      " 8 Lines\n"
     ]
    }
   ],
   "source": [
    "names = []\n",
    "legends = []\n",
    "t_maxs = []\n",
    "          \n",
    "# Prioritized replay stuff\n",
    "for xp in [100, 500]:\n",
    "    for nscaler in [0.5, 2]:\n",
    "        for fresh in [50, 500]:\n",
    "            names += [\"XpSize_{}k_*_{}_NScaler_*Stale_{}k_\".format(xp, nscaler, fresh)]\n",
    "            legends += [\"Prioritized {}k XP {} NScaler {}k Fresh\".format(xp, nscaler, fresh)]\n",
    "            t_maxs += [1000001]\n",
    "    \n",
    "direc = \"/home/tabz/tmp/Maze12Alpha/\"\n",
    "env = \"Med Maze 12 50k Negative TD Error Scaling Alpha 0.5\"\n",
    "directories = direc\n",
    "    \n",
    "print(names)\n",
    "print(t_maxs)\n",
    "print(directories)\n",
    "print(\"\\n\", \"{} Lines\".format(len(names)))"
   ]
  },
  {
   "cell_type": "code",
   "execution_count": 36,
   "metadata": {
    "collapsed": false
   },
   "outputs": [
    {
     "name": "stdout",
     "output_type": "stream",
     "text": [
      "['_0.3_Alpha*Stale_50k_', '_0.3_Alpha*Stale_500k_', '_0.5_Alpha*Stale_50k_', '_0.5_Alpha*Stale_500k_']\n",
      "[1000001, 1000001, 1000001, 1000001]\n",
      "/home/tabz/tmp/Maze12_Prioritized_Alpha//\n",
      "\n",
      " 4 Lines\n"
     ]
    }
   ],
   "source": [
    "names = []\n",
    "legends = []\n",
    "t_maxs = []\n",
    "          \n",
    "# Prioritized replay stuff\n",
    "for alpha in [0.3, 0.5]:\n",
    "    for fresh in [50, 500]:\n",
    "        names += [\"_{}_Alpha*Stale_{}k_\".format(alpha, fresh)]\n",
    "        legends += [\"Prioritized {} Alpha {}k Fresh\".format(alpha, fresh)]\n",
    "        t_maxs += [1000001]\n",
    "    \n",
    "direc = \"/home/tabz/tmp/Maze12_Prioritized_Alpha//\"\n",
    "env = \"Med Maze 12 Alpha 500k Replay\"\n",
    "directories = direc\n",
    "    \n",
    "print(names)\n",
    "print(t_maxs)\n",
    "print(directories)\n",
    "print(\"\\n\", \"{} Lines\".format(len(names)))"
   ]
  },
  {
   "cell_type": "code",
   "execution_count": 37,
   "metadata": {
    "collapsed": false
   },
   "outputs": [
    {
     "name": "stdout",
     "output_type": "stream",
     "text": [
      "['_100_Step*_1_NScaler', '_100_Step*_2_NScaler', '_100_Step*_4_NScaler', '_100_Step*_8_NScaler']\n",
      "[600001, 600001, 600001, 600001]\n",
      "/home/tabz/tmp/Maze14_Nscaling/\n",
      "\n",
      " 4 Lines\n"
     ]
    }
   ],
   "source": [
    "names = []\n",
    "legends = []\n",
    "t_maxs = []\n",
    "          \n",
    "# Prioritized replay stuff\n",
    "for step in [100]:\n",
    "    for nscaler in [1, 2, 4, 8]:\n",
    "        names += [\"_{}_Step*_{}_NScaler\".format(step, nscaler)]\n",
    "        legends += [\"{} Step {} Nscaling\".format(step, nscaler)]\n",
    "        t_maxs += [600001]\n",
    "    \n",
    "direc = \"/home/tabz/tmp/Maze14_Nscaling/\"\n",
    "env = \"Med Maze 14 Prioritized 300k XP Replay Stale\"\n",
    "directories = direc\n",
    "    \n",
    "print(names)\n",
    "print(t_maxs)\n",
    "print(directories)\n",
    "print(\"\\n\", \"{} Lines\".format(len(names)))"
   ]
  },
  {
   "cell_type": "code",
   "execution_count": 38,
   "metadata": {
    "collapsed": false
   },
   "outputs": [
    {
     "name": "stdout",
     "output_type": "stream",
     "text": [
      "['_CountEps_0.9_Decay', '_CountEps_0.99_Decay', '_CountEps_0.999_Decay', '_OptimisticAction_']\n",
      "[600001, 600001, 600001, 600001]\n",
      "/home/tabz/tmp/Maze14_Frontier/\n",
      "\n",
      " 4 Lines\n"
     ]
    }
   ],
   "source": [
    "names = []\n",
    "legends = []\n",
    "t_maxs = []\n",
    "          \n",
    "# Prioritized replay stuff\n",
    "for eps_decay in [0.9, 0.99, 0.999]:\n",
    "    names += [\"_CountEps_{}_Decay\".format(eps_decay)]\n",
    "    legends += [\"{} Eps Decay\".format(eps_decay)]\n",
    "    t_maxs += [600001]\n",
    "    \n",
    "names += [\"_OptimisticAction_\"]\n",
    "legends += [\"0.1 Bandit\"]\n",
    "t_maxs += [600001]\n",
    "    \n",
    "direc = \"/home/tabz/tmp/Maze14_Frontier/\"\n",
    "env = \"Med Maze 14 Prioritized 300k XP Replay Stale Frontier\"\n",
    "directories = direc\n",
    "    \n",
    "print(names)\n",
    "print(t_maxs)\n",
    "print(directories)\n",
    "print(\"\\n\", \"{} Lines\".format(len(names)))"
   ]
  },
  {
   "cell_type": "code",
   "execution_count": 39,
   "metadata": {
    "collapsed": false
   },
   "outputs": [
    {
     "name": "stdout",
     "output_type": "stream",
     "text": [
      "['_0.1_Alpha_16_NScaler*_OptimisticAction_', '_0.1_Alpha_16_NScaler*_CountEps_', '_0.3_Alpha_16_NScaler*_OptimisticAction_', '_0.3_Alpha_16_NScaler*_CountEps_', '_0.5_Alpha_16_NScaler*_OptimisticAction_', '_0.5_Alpha_16_NScaler*_CountEps_']\n",
      "[600001, 600001, 600001, 600001, 600001, 600001]\n",
      "/home/tabz/tmp/Maze14_Bandit/\n",
      "\n",
      " 6 Lines\n"
     ]
    }
   ],
   "source": [
    "names = []\n",
    "legends = []\n",
    "t_maxs = []\n",
    "          \n",
    "# Prioritized replay stuff\n",
    "for alpha in [0.1, 0.3, 0.5]:\n",
    "    for nscaler in [16]:\n",
    "        for bandit in [True, False]:\n",
    "            \n",
    "            if not bandit:\n",
    "                names += [\"_{}_Alpha_{}_NScaler*_CountEps_\".format(alpha, nscaler)]\n",
    "                legends += [\"{} Alpha {} NScaler Epsilon\".format(alpha, nscaler)]\n",
    "                t_maxs += [600001]\n",
    "            elif bandit:\n",
    "                names += [\"_{}_Alpha_{}_NScaler*_OptimisticAction_\".format(alpha, nscaler)]\n",
    "                legends += [\"{} Alpha {} NScaler 0.1 Bandit\".format(alpha, nscaler)]\n",
    "                t_maxs += [600001]\n",
    "    \n",
    "direc = \"/home/tabz/tmp/Maze14_Bandit/\"\n",
    "env = \"Med Maze 14 Prioritized 300k XP Replay Stale Frontier\"\n",
    "directories = direc\n",
    "    \n",
    "print(names)\n",
    "print(t_maxs)\n",
    "print(directories)\n",
    "print(\"\\n\", \"{} Lines\".format(len(names)))"
   ]
  },
  {
   "cell_type": "code",
   "execution_count": 40,
   "metadata": {
    "collapsed": false
   },
   "outputs": [
    {
     "name": "stdout",
     "output_type": "stream",
     "text": [
      "['XpSize_250k', 'XpSize_500k']\n",
      "[1000001, 1000001]\n",
      "/home/tabz/tmp/Maze14_Uniform/\n",
      "\n",
      " 2 Lines\n"
     ]
    }
   ],
   "source": [
    "names = []\n",
    "legends = []\n",
    "t_maxs = []\n",
    "          \n",
    "# Maze14 Uniform Baseline\n",
    "for xp in [250, 500]:\n",
    "    names += [\"XpSize_{}k\".format(xp)]\n",
    "    legends += [\"Uniform {}k XP\".format(xp)]\n",
    "    t_maxs += [1000001]\n",
    "    \n",
    "direc = \"/home/tabz/tmp/Maze14_Uniform/\"\n",
    "env = \"Med Maze 14 Uniform Replay\"\n",
    "directories = direc\n",
    "    \n",
    "print(names)\n",
    "print(t_maxs)\n",
    "print(directories)\n",
    "print(\"\\n\", \"{} Lines\".format(len(names)))"
   ]
  },
  {
   "cell_type": "code",
   "execution_count": 41,
   "metadata": {
    "collapsed": false
   },
   "outputs": [
    {
     "name": "stdout",
     "output_type": "stream",
     "text": [
      "['OptimisticAction_0.01_Scaler', 'OptimisticAction_0.1_Scaler', 'OptimisticAction_1_Scaler', 'OptimisticAction_10_Scaler']\n",
      "[600001, 600001, 600001, 600001]\n",
      "/home/tabz/tmp/Maze14_Bandit_Hyperparams/\n",
      "\n",
      " 4 Lines\n"
     ]
    }
   ],
   "source": [
    "names = []\n",
    "legends = []\n",
    "t_maxs = []\n",
    "          \n",
    "# Prioritized replay stuff\n",
    "for optim in [0.01, 0.1, 1, 10]:\n",
    "    names += [\"OptimisticAction_{}_Scaler\".format(optim)]\n",
    "    legends += [\"0.5 Alpha 8 NScaler {} Bandit\".format(optim)]\n",
    "    t_maxs += [600001]\n",
    "    \n",
    "direc = \"/home/tabz/tmp/Maze14_Bandit_Hyperparams/\"\n",
    "env = \"Med Maze 14 Prioritized Bandit Scaling\"\n",
    "directories = direc\n",
    "    \n",
    "print(names)\n",
    "print(t_maxs)\n",
    "print(directories)\n",
    "print(\"\\n\", \"{} Lines\".format(len(names)))"
   ]
  },
  {
   "cell_type": "code",
   "execution_count": 42,
   "metadata": {
    "collapsed": false
   },
   "outputs": [
    {
     "name": "stdout",
     "output_type": "stream",
     "text": [
      "['OptimisticAction_0.0001_Scaler', 'OptimisticAction_0.001_Scaler']\n",
      "[600001, 600001]\n",
      "/home/tabz/tmp/Maze14_Bandit_MoreHyperparams/\n",
      "\n",
      " 2 Lines\n"
     ]
    }
   ],
   "source": [
    "names = []\n",
    "legends = []\n",
    "t_maxs = []\n",
    "          \n",
    "# Prioritized replay stuff\n",
    "for optim in [0.0001, 0.001]:\n",
    "    names += [\"OptimisticAction_{}_Scaler\".format(optim)]\n",
    "    legends += [\"Uniform {} Bandit\".format(optim)]\n",
    "    t_maxs += [600001]\n",
    "    \n",
    "direc = \"/home/tabz/tmp/Maze14_Bandit_MoreHyperparams/\"\n",
    "env = \"Med Maze 14 Uniform Bandit Scaling\"\n",
    "directories = direc\n",
    "    \n",
    "print(names)\n",
    "print(t_maxs)\n",
    "print(directories)\n",
    "print(\"\\n\", \"{} Lines\".format(len(names)))"
   ]
  },
  {
   "cell_type": "code",
   "execution_count": 43,
   "metadata": {
    "collapsed": false
   },
   "outputs": [
    {
     "name": "stdout",
     "output_type": "stream",
     "text": [
      "['BonusClip_-1_Count', 'BonusClip_-1_NegativeReward', 'BonusClip_0.25_Count', 'BonusClip_0.25_NegativeReward', 'BonusClip_0.5_Count', 'BonusClip_0.5_NegativeReward']\n",
      "[600001, 600001, 600001, 600001, 600001, 600001]\n",
      "/home/tabz/tmp/logfiles/Maze14_RewardClip/\n",
      "\n",
      " 6 Lines\n"
     ]
    }
   ],
   "source": [
    "names = []\n",
    "legends = []\n",
    "t_maxs = []\n",
    "          \n",
    "# Pseudo reward clipping + scaling\n",
    "for bonus_clip in [-1, 0.25, 0.5]:\n",
    "    names += [\"BonusClip_{}_Count\".format(bonus_clip)]\n",
    "    legends += [\"BonusClip {}\".format(bonus_clip)]\n",
    "    t_maxs += [600001]\n",
    "    \n",
    "    names += [\"BonusClip_{}_NegativeReward\".format(bonus_clip)]\n",
    "    legends += [\"BonusClip {} NegativeReward 0.8\".format(bonus_clip)]\n",
    "    t_maxs += [600001]\n",
    "    \n",
    "direc = \"/home/tabz/tmp/logfiles/Maze14_RewardClip/\"\n",
    "env = \"Med Maze 14 Pseudo Reward Clipping\"\n",
    "directories = direc\n",
    "    \n",
    "print(names)\n",
    "print(t_maxs)\n",
    "print(directories)\n",
    "print(\"\\n\", \"{} Lines\".format(len(names)))"
   ]
  },
  {
   "cell_type": "code",
   "execution_count": 50,
   "metadata": {
    "collapsed": false
   },
   "outputs": [
    {
     "name": "stdout",
     "output_type": "stream",
     "text": [
      "['_XpSize_300k*_1_NScaler', '_XpSize_300k*_4_NScaler']\n",
      "[600001, 600001]\n",
      "/home/tabz/tmp/Maze14_NScaler/\n",
      "\n",
      " 2 Lines\n"
     ]
    }
   ],
   "source": [
    "names = []\n",
    "legends = []\n",
    "t_maxs = []\n",
    "          \n",
    "# Prioritized replay stuff\n",
    "for xp in [300]:\n",
    "    for nscaler in [1, 4]:\n",
    "            names += [\"_XpSize_{}k*_{}_NScaler\".format(xp, nscaler)]\n",
    "            legends += [\"{}k Xp {} NScaler\".format(xp, nscaler)]\n",
    "            t_maxs += [600001]\n",
    "    \n",
    "direc = \"/home/tabz/tmp/Maze14_NScaler/\"\n",
    "env = \"Med Maze 14 0.5 Prioritized XP Replay Stale\"\n",
    "directories = direc\n",
    "    \n",
    "print(names)\n",
    "print(t_maxs)\n",
    "print(directories)\n",
    "print(\"\\n\", \"{} Lines\".format(len(names)))"
   ]
  },
  {
   "cell_type": "code",
   "execution_count": 51,
   "metadata": {
    "collapsed": true,
    "deletable": true,
    "editable": true
   },
   "outputs": [],
   "source": [
    "import itertools"
   ]
  },
  {
   "cell_type": "code",
   "execution_count": 52,
   "metadata": {
    "collapsed": false,
    "deletable": true,
    "editable": true
   },
   "outputs": [],
   "source": [
    "from bokeh.palettes import magma, inferno, Set1, Set3, Paired, Dark2"
   ]
  },
  {
   "cell_type": "code",
   "execution_count": 53,
   "metadata": {
    "collapsed": false,
    "deletable": true,
    "editable": true
   },
   "outputs": [],
   "source": [
    "if len(names) <= 2:\n",
    "    colours = [\"red\", \"green\"]\n",
    "elif len(names) > 10:\n",
    "    colours = Paired[len(names)]\n",
    "else:\n",
    "    colours = Set1[len(names)]"
   ]
  },
  {
   "cell_type": "code",
   "execution_count": 54,
   "metadata": {
    "collapsed": false,
    "deletable": true,
    "editable": true
   },
   "outputs": [
    {
     "data": {
      "text/html": [
       "\n",
       "\n",
       "    <div class=\"bk-root\">\n",
       "        <div class=\"bk-plotdiv\" id=\"a822e940-a751-47d9-8c8f-0f082e30bf7e\"></div>\n",
       "    </div>\n",
       "<script type=\"text/javascript\">\n",
       "  \n",
       "  (function(global) {\n",
       "    function now() {\n",
       "      return new Date();\n",
       "    }\n",
       "  \n",
       "    var force = false;\n",
       "  \n",
       "    if (typeof (window._bokeh_onload_callbacks) === \"undefined\" || force === true) {\n",
       "      window._bokeh_onload_callbacks = [];\n",
       "      window._bokeh_is_loading = undefined;\n",
       "    }\n",
       "  \n",
       "  \n",
       "    \n",
       "    if (typeof (window._bokeh_timeout) === \"undefined\" || force === true) {\n",
       "      window._bokeh_timeout = Date.now() + 0;\n",
       "      window._bokeh_failed_load = false;\n",
       "    }\n",
       "  \n",
       "    var NB_LOAD_WARNING = {'data': {'text/html':\n",
       "       \"<div style='background-color: #fdd'>\\n\"+\n",
       "       \"<p>\\n\"+\n",
       "       \"BokehJS does not appear to have successfully loaded. If loading BokehJS from CDN, this \\n\"+\n",
       "       \"may be due to a slow or bad network connection. Possible fixes:\\n\"+\n",
       "       \"</p>\\n\"+\n",
       "       \"<ul>\\n\"+\n",
       "       \"<li>re-rerun `output_notebook()` to attempt to load from CDN again, or</li>\\n\"+\n",
       "       \"<li>use INLINE resources instead, as so:</li>\\n\"+\n",
       "       \"</ul>\\n\"+\n",
       "       \"<code>\\n\"+\n",
       "       \"from bokeh.resources import INLINE\\n\"+\n",
       "       \"output_notebook(resources=INLINE)\\n\"+\n",
       "       \"</code>\\n\"+\n",
       "       \"</div>\"}};\n",
       "  \n",
       "    function display_loaded() {\n",
       "      if (window.Bokeh !== undefined) {\n",
       "        document.getElementById(\"a822e940-a751-47d9-8c8f-0f082e30bf7e\").textContent = \"BokehJS successfully loaded.\";\n",
       "      } else if (Date.now() < window._bokeh_timeout) {\n",
       "        setTimeout(display_loaded, 100)\n",
       "      }\n",
       "    }\n",
       "  \n",
       "    function run_callbacks() {\n",
       "      window._bokeh_onload_callbacks.forEach(function(callback) { callback() });\n",
       "      delete window._bokeh_onload_callbacks\n",
       "      console.info(\"Bokeh: all callbacks have finished\");\n",
       "    }\n",
       "  \n",
       "    function load_libs(js_urls, callback) {\n",
       "      window._bokeh_onload_callbacks.push(callback);\n",
       "      if (window._bokeh_is_loading > 0) {\n",
       "        console.log(\"Bokeh: BokehJS is being loaded, scheduling callback at\", now());\n",
       "        return null;\n",
       "      }\n",
       "      if (js_urls == null || js_urls.length === 0) {\n",
       "        run_callbacks();\n",
       "        return null;\n",
       "      }\n",
       "      console.log(\"Bokeh: BokehJS not loaded, scheduling load and callback at\", now());\n",
       "      window._bokeh_is_loading = js_urls.length;\n",
       "      for (var i = 0; i < js_urls.length; i++) {\n",
       "        var url = js_urls[i];\n",
       "        var s = document.createElement('script');\n",
       "        s.src = url;\n",
       "        s.async = false;\n",
       "        s.onreadystatechange = s.onload = function() {\n",
       "          window._bokeh_is_loading--;\n",
       "          if (window._bokeh_is_loading === 0) {\n",
       "            console.log(\"Bokeh: all BokehJS libraries loaded\");\n",
       "            run_callbacks()\n",
       "          }\n",
       "        };\n",
       "        s.onerror = function() {\n",
       "          console.warn(\"failed to load library \" + url);\n",
       "        };\n",
       "        console.log(\"Bokeh: injecting script tag for BokehJS library: \", url);\n",
       "        document.getElementsByTagName(\"head\")[0].appendChild(s);\n",
       "      }\n",
       "    };var element = document.getElementById(\"a822e940-a751-47d9-8c8f-0f082e30bf7e\");\n",
       "    if (element == null) {\n",
       "      console.log(\"Bokeh: ERROR: autoload.js configured with elementid 'a822e940-a751-47d9-8c8f-0f082e30bf7e' but no matching script tag was found. \")\n",
       "      return false;\n",
       "    }\n",
       "  \n",
       "    var js_urls = [];\n",
       "  \n",
       "    var inline_js = [\n",
       "      function(Bokeh) {\n",
       "        (function() {\n",
       "          var fn = function() {\n",
       "            var docs_json = {\"c19c864b-fd18-498b-8379-31f6824eb0e3\":{\"roots\":{\"references\":[{\"attributes\":{\"callback\":null},\"id\":\"9f9f7201-ec13-48a3-a490-fe44fbb8bfbe\",\"type\":\"DataRange1d\"},{\"attributes\":{\"data_source\":{\"id\":\"e51b81b9-a2d4-447d-9b91-999a202a2754\",\"type\":\"ColumnDataSource\"},\"glyph\":{\"id\":\"2c17d219-c066-4a48-9745-112d748bd440\",\"type\":\"Line\"},\"hover_glyph\":null,\"nonselection_glyph\":{\"id\":\"39706982-8b4a-4b2c-9793-d8ab6a1b6cb7\",\"type\":\"Line\"},\"selection_glyph\":null},\"id\":\"d3619eb5-692f-47a0-9828-5b37ee5f8159\",\"type\":\"GlyphRenderer\"},{\"attributes\":{\"below\":[{\"id\":\"0f3b5554-9364-4a06-8719-0022d3300220\",\"type\":\"LinearAxis\"}],\"left\":[{\"id\":\"17c06b65-a7a5-4bee-a782-b7ab962bc3b8\",\"type\":\"LinearAxis\"}],\"plot_height\":800,\"plot_width\":1200,\"renderers\":[{\"id\":\"0f3b5554-9364-4a06-8719-0022d3300220\",\"type\":\"LinearAxis\"},{\"id\":\"58349379-53ef-403a-9928-b8d668bd4411\",\"type\":\"Grid\"},{\"id\":\"17c06b65-a7a5-4bee-a782-b7ab962bc3b8\",\"type\":\"LinearAxis\"},{\"id\":\"f6500574-5916-4bd0-bb31-a0aa8e8ee564\",\"type\":\"Grid\"},{\"id\":\"f1f1dc45-51d4-4b04-b600-6dca11a984f9\",\"type\":\"BoxAnnotation\"},{\"id\":\"d3619eb5-692f-47a0-9828-5b37ee5f8159\",\"type\":\"GlyphRenderer\"},{\"id\":\"084ff141-a1b1-4ae1-855c-3948a3e3cf44\",\"type\":\"GlyphRenderer\"},{\"id\":\"e7d866a8-0cf4-4f78-9b9e-74b31c38f059\",\"type\":\"Legend\"}],\"right\":[{\"id\":\"e7d866a8-0cf4-4f78-9b9e-74b31c38f059\",\"type\":\"Legend\"}],\"title\":{\"id\":\"7f116283-6780-4233-8529-47f56e9fadb8\",\"type\":\"Title\"},\"tool_events\":{\"id\":\"1fcefce5-21d9-46db-ac12-f38a0baa6026\",\"type\":\"ToolEvents\"},\"toolbar\":{\"id\":\"7aafb2d5-791c-411c-8944-59119bbfee6f\",\"type\":\"Toolbar\"},\"toolbar_location\":\"above\",\"x_range\":{\"id\":\"9f9f7201-ec13-48a3-a490-fe44fbb8bfbe\",\"type\":\"DataRange1d\"},\"y_range\":{\"id\":\"c233606e-fd11-4013-8a54-50b77c7d14fd\",\"type\":\"Range1d\"}},\"id\":\"f3289cec-2f5f-4e0e-a195-04e2a0c7cd95\",\"subtype\":\"Figure\",\"type\":\"Plot\"},{\"attributes\":{},\"id\":\"84c94a01-1a3a-478a-9620-da65031f7536\",\"type\":\"BasicTicker\"},{\"attributes\":{\"callback\":null,\"column_names\":[\"x\",\"y\"],\"data\":{\"x\":[0,1000,2000,3000,4000,5000,6000,7000,8000,9000,10000,11000,12000,13000,14000,15000,16000,17000,18000,19000,20000,21000,22000,23000,24000,25000,26000,27000,28000,29000,30000,31000,32000,33000,34000,35000,36000,37000,38000,39000,40000,41000,42000,43000,44000,45000,46000,47000,48000,49000,50000,51000,52000,53000,54000,55000,56000,57000,58000,59000,60000,61000,62000,63000,64000,65000,66000,67000,68000,69000,70000,71000,72000,73000,74000,75000,76000,77000,78000,79000,80000,81000,82000,83000,84000,85000,86000,87000,88000,89000,90000,91000,92000,93000,94000,95000,96000,97000,98000,99000,100000,101000,102000,103000,104000,105000,106000,107000,108000,109000,110000,111000,112000,113000,114000,115000,116000,117000,118000,119000,120000,121000,122000,123000,124000,125000,126000,127000,128000,129000,130000,131000,132000,133000,134000,135000,136000,137000,138000,139000,140000,141000,142000,143000,144000,145000,146000,147000,148000,149000,150000,151000,152000,153000,154000,155000,156000,157000,158000,159000,160000,161000,162000,163000,164000,165000,166000,167000,168000,169000,170000,171000,172000,173000,174000,175000,176000,177000,178000,179000,180000,181000,182000,183000,184000,185000,186000,187000,188000,189000,190000,191000,192000,193000,194000,195000,196000,197000,198000,199000,200000,201000,202000,203000,204000,205000,206000,207000,208000,209000,210000,211000,212000,213000,214000,215000,216000,217000,218000,219000,220000,221000,222000,223000,224000,225000,226000,227000,228000,229000,230000,231000,232000,233000,234000,235000,236000,237000,238000,239000,240000,241000,242000,243000,244000,245000,246000,247000,248000,249000,250000,251000,252000,253000,254000,255000,256000,257000,258000,259000,260000,261000,262000,263000,264000,265000,266000,267000,268000,269000,270000,271000,272000,273000,274000,275000,276000,277000,278000,279000,280000,281000,282000,283000,284000,285000,286000,287000,288000,289000,290000,291000,292000,293000,294000,295000,296000,297000,298000,299000,300000,301000,302000,303000,304000,305000,306000,307000,308000,309000,310000,311000,312000,313000,314000,315000,316000,317000,318000,319000,320000,321000,322000,323000,324000,325000,326000,327000,328000,329000,330000,331000,332000,333000,334000,335000,336000,337000,338000,339000,340000,341000,342000,343000,344000,345000,346000,347000,348000,349000,350000,351000,352000,353000,354000,355000,356000,357000,358000,359000,360000,361000,362000,363000,364000,365000,366000,367000,368000,369000,370000,371000,372000,373000,374000,375000,376000,377000,378000,379000,380000,381000,382000,383000,384000,385000,386000,387000,388000,389000,390000,391000,392000,393000,394000,395000,396000,397000,398000,399000,400000,401000,402000,403000,404000,405000,406000,407000,408000,409000,410000,411000,412000,413000,414000,415000,416000,417000,418000,419000,420000,421000,422000,423000,424000,425000,426000,427000,428000,429000,430000,431000,432000,433000,434000,435000,436000,437000,438000,439000,440000,441000,442000,443000,444000,445000,446000,447000,448000,449000,450000,451000,452000,453000,454000,455000,456000,457000,458000,459000,460000,461000,462000,463000,464000,465000,466000,467000,468000,469000,470000,471000,472000,473000,474000,475000,476000,477000,478000,479000,480000,481000,482000,483000,484000,485000,486000,487000,488000,489000,490000,491000,492000,493000,494000,495000,496000,497000,498000,499000,500000,501000,502000,503000,504000,505000,506000,507000,508000,509000,510000,511000,512000,513000,514000,515000,516000,517000,518000,519000,520000,521000,522000,523000,524000,525000,526000,527000,528000,529000,530000,531000,532000,533000,534000,535000,536000,537000,538000,539000,540000,541000,542000,543000,544000,545000,546000,547000,548000,549000,550000,551000,552000,553000,554000,555000,556000,557000,558000,559000,560000,561000,562000,563000,564000,565000,566000,567000,568000,569000,570000,571000,572000,573000,574000,575000,576000,577000,578000,579000,580000,581000,582000,583000,584000,585000,586000,587000,588000,589000,590000,591000,592000,593000,594000,595000,596000,597000,598000,599000,600000],\"y\":{\"__ndarray__\":\"AAAAAAAAAAAAAAAAAAAAAAAAAAAAAAAAAAAAAAAAAAAAAAAAAAAAAAAAAAAAAAAAAAAAAAAAAAAAAAAAAAAAAAAAAAAAAAAAAAAAAAAAAAAAAAAAAAAAAAAAAAAAAAAAAAAAAAAAAAAAAAAAAAAAAAAAAAAAAAAAAAAAAAAAAAAAAAAAAAAAAAAAAAAAAAAAAAAAAAAAAAAAAAAAAAAAAAAAAAAAAAAAAAAAAAAAAAAAAAAAAAAAAAAAAAAAAAAAAAAAAAAAAAAAAAAAAAAAAAAAAAAAAAAAAAAAAAAAAAAAAAAAAAAAAAAAAAAAAAAAAAAAAAAAAAAAAAAAAAAAAAAAAAAAAAAAAAAAAAAAAAAAAAAAAAAAAAAAAAAAAAAAAAAAAAAAAAAAAAAAAAAAAAAAAAAAAAAAAAAAAAAAAAAAAAAAAAAAAAAAAAAAAAAAAAAAAAAAAAAAAAAAAAAAAAAAAAAAAAAAAAAAAAAAAAAAAAAAAAAAAAAAAAAAAAAAAAAAAAAAAAAAAAAAAAAAAAAAAAAAAAAAAAAAAAAAAAAAAAAAAAAAAAAAAAAAAAAAAAAAAAAAAAAAAAAAAAAAAAAAAAAAAAAAAAAAAAAAAAAAAAAAAAAAAAAAAAAAAAAAAAAAAAAAAAAAAAAAAAAAAAAAAAAAAAAAAAAAAAAAAAAAAAAAAAAAAAAAAAAAAAAAAAAAAAAAAAAAAAAAAAAAAAAAAAAAAAAAAAAAAAAAAAAAAAAAAAAAAAAAAAAAAAAAAAAAAAAAAAAAAAAAAAAAAAAAAAAAAAAAAAAAAAAAAAAAAAAAAAAAAAAAAAAAAAAAAAAAAAAAAAAAAAAAAAAAAAAAAAAAAAAAAAAAAAAAAAAAAAAAAAAAAAAAAAAAAAAAAAAAAAAAAAAAAAAAAAAAAAAAAAAAAAAAAAAAAAAAAAAAAAAAAAAAAAAAAAAAAAAAAAAAAAAAAAAAAAAAAAAAAAAAAAAAAAAAAAAAAAAAAAAAAAAAAAAAAAAAAAAAAAAAAAAAAAAAAAAAAAAAAAAAAAAAAAAAAAAAVO+1BF5oeD9U77UEXmiIP39ziINGTpI/VO+1BF5omD8pa+OFdYKeP39ziINGTqI/aTEfRFJbpT9U77UEXmioPz6tTMVpdas/KWvjhXWCrj+KFD2jwMewP39ziINGTrI/dNLTY8zUsz9pMR9EUlu1P1+QaiTY4bY/VO+1BF5ouD9JTgHl4+65Pz6tTMVpdbs/NAyYpe/7vD8pa+OFdYK+PwAAAAAAAMA/AAAAAAAAwD////////+/P////////78/AAAAAAAAwD8AAAAAAADAPwAAAAAAAMA/////////vz////////+/PwAAAAAAAMA/AAAAAAAAwD8AAAAAAADAPwAAAAAAAMA/////////vz////////+/PwAAAAAAAMA/AAAAAAAAwD8AAAAAAADAP////////78/AAAAAAAAwD8AAAAAAADAPwAAAAAAAMA/AAAAAAAAwD8AAAAAAADAPwAAAAAAAMA/AAAAAAAAwD8AAAAAAADAPwAAAAAAAMA/AAAAAAAAwD8AAAAAAADAPwAAAAAAAMA/AAAAAAAAwD8AAAAAAADAPwAAAAAAAMA/AAAAAAAAwD////////+/PwAAAAAAAMA/////////vz8AAAAAAADAPwAAAAAAAMA/AAAAAAAAwD8AAAAAAADAPwAAAAAAAMA/AAAAAAAAwD8AAAAAAADAPwAAAAAAAMA/AAAAAAAAwD////////+/PwAAAAAAAMA/////////vz8AAAAAAADAPwAAAAAAAMA/AAAAAAAAwD8AAAAAAADAPwAAAAAAAMA/AAAAAAAAwD8AAAAAAADAPwAAAAAAAMA/AAAAAAAAwD8AAAAAAADAPwAAAAAAAMA/AAAAAAAAwD8AAAAAAADAPwAAAAAAAMA/AQAAAAAAwD8BAAAAAADAPwAAAAAAAMA/AAAAAAAAwD////////+/P////////78/AAAAAAAAwD8AAAAAAADAPwAAAAAAAMA/AAAAAAAAwD8AAAAAAADAPwAAAAAAAMA/AAAAAAAAwD8AAAAAAADAP9iYYrek+8A/rzHFbkn3wT+Hyicm7vLCP15jit2S7sM/NvzslDfqxD8NlU9M3OXFP+UtsgOB4cY/vMYUuyXdxz+UX3dyytjIP2z42Slv1Mk/Q5E84RPQyj8aKp+YuMvLP/LCAVBdx8w/yVtkBwLDzT+g9Ma+pr7OP3iNKXZLus8/PCPpTiCHzz8Sq69J8d/OP+gydkTCOM4/vro8P5ORzT+UQgM6ZOrMP2vKyTQ1Q8w/QVKQLwacyz8Y2lYq1/TKPxCZzZv3Qss/LI/0g2eGzD9KhRts18nNP2V7QlRHDc8/wbg0nlso0D/PM0iSE8rQP96uW4bLa9E/7ClveoMN0j/6pIJuO6/SPwgglmLzUNM/FpupVqvy0z8kFr1KY5TUPzKR0D4bNtU/QAzkMtPX1T9Ph/cmi3nWP10CCxtDG9c/VzyoCqXk1z9HMehknRPZP6iuRrGAttk/CSyl/WNZ2j9qqQNKR/zaP8smYpYqn9s/LKTA4g1C3D+NIR8v8eTcP+6efXvUh90/CDI/eG9J3T/zdaL11/XcP965BXNAotw/yf1o8KhO3D+0QcxtEfvbP5+FL+t5p9s/ismSaOJT2z92DfblSgDbP2BRWWOzrNo/S5W84BtZ2j822R9ehAXaPyIdg9vssdk/DWHmWFVe2T/4pEnWvQrZP+PorFMmt9g/ziwQ0Y5j2D+5cHNO9w/YP8qKDuYdXtg/ZjWKOHTS2D8C4AWLykbZP56Kgd0gu9k/OjX9L3cv2j/V33iCzaPaP3GK9NQjGNs/DTVwJ3qM2z+p3+t50ADcP0SKZ8wmddw/4DTjHn3p3D98315x013dPxiK2sMp0t0/tDRWFoBG3j9P39Fo1rreP+uJTbssL98/hzTJDYOj3z8AAAAAAADgPwAAAAAAAOA/AAAAAAAA4D8AAAAAAADgPwAAAAAAAOA/AAAAAAAA4D8AAAAAAADgPwAAAAAAAOA/AAAAAAAA4D8AAAAAAADgPwAAAAAAAOA/AAAAAAAA4D8AAAAAAADgPwAAAAAAAOA/AAAAAAAA4D8AAAAAAADgPwAAAAAAAOA/AAAAAAAA4D8AAAAAAADgPwAAAAAAAOA/AAAAAAAA4D8AAAAAAADgPwAAAAAAAOA/AAAAAAAA4D8AAAAAAADgPwAAAAAAAOA/AAAAAAAA4D8AAAAAAADgPwAAAAAAAOA/AAAAAAAA4D8AAAAAAADgPwAAAAAAAOA/AAAAAAAA4D8AAAAAAADgPwAAAAAAAOA/AAAAAAAA4D8AAAAAAADgPwAAAAAAAOA/AAAAAAAA4D8AAAAAAADgPwAAAAAAAOA/AAAAAAAA4D8AAAAAAADgPwAAAAAAAOA/AAAAAAAA4D8AAAAAAADgPwAAAAAAAOA/AAAAAAAA4D8AAAAAAADgPwAAAAAAAOA/AAAAAAAA4D8AAAAAAADgP+bf/66Zz98/0iNjLAJ83z+9Z8apaijfP6irKSfT1N4/k++MpDuB3j9+M/AhpC3eP2l3U58M2t0/VLu2HHWG3T8//xma3TLdPypDfRdG39w/FofglK6L3D8By0MSFzjcP+wOp49/5Ns/11IKDeiQ2z/Clm2KUD3bP63a0Ae56do/mB40hSGW2j+EYpcCikLaP26m+n/y7tk/Wupd/Vqb2T9ELsF6w0fZPy9yJPgr9Ng/G7aHdZSg2D8G+ury/EzYP7/vzPx6Ddg/tImkXx642D+qI3zCwWLZP5+9UyVlDdo/lFcriAi42j+K8QLrq2LbP3+L2k1PDdw/dCWysPK33D9qv4kTlmLdP19ZYXY5Dd4/VfM42dy33j9KjRA8gGLfPwAAAAAAAOA/AAAAAAAA4D8AAAAAAADgPwAAAAAAAOA/AAAAAAAA4D8AAAAAAADgPwAAAAAAAOA/AAAAAAAA4D8AAAAAAADgPwAAAAAAAOA/AAAAAAAA4D8AAAAAAADgPwAAAAAAAOA/AAAAAAAA4D8AAAAAAADgPwAAAAAAAOA/AAAAAAAA4D8AAAAAAADgPwAAAAAAAOA/AAAAAAAA4D8AAAAAAADgPwAAAAAAAOA/AAAAAAAA4D8AAAAAAADgPwAAAAAAAOA/AAAAAAAA4D8AAAAAAADgPwAAAAAAAOA/AAAAAAAA4D8AAAAAAADgPwAAAAAAAOA/AAAAAAAA4D8AAAAAAADgPwAAAAAAAOA/AAAAAAAA4D8AAAAAAADgP4o0k3Y39d8/dXj285+h3z9gvFlxCE7fP0sAve5w+t4/NkQgbNmm3j8hiIPpQVPePwzM5maq/90/9w9K5BKs3T/iU61he1jdP86XEN/jBN0/uNtzXEyx3D+kH9fZtF3cP49jOlcdCtw/ktDcCXkG3D+tZr7xx1LcP8n8n9kWn9w/5JKBwWXr3D//KGOptDfdPxq/RJEDhN0/N1UmeVLQ3T9S6wdhoRzeP22B6UjwaN4/iRfLMD+13j+krawYjgHfP79DjgDdTd8/AF5F+Pcq4D+OrDH/Da/gP8p8sx+EGuE/Bk01QPqF4T9CHbdgcPHhP37tOIHmXOI/ub26oVzI4j/1jTzC0jPjPzBevuJIn+M/AAAAAAAA5D8AAAAAAADkPwAAAAAAAOQ/AAAAAAAA5D9EEsP2qUzkP4gkhu1TmeQ/zDZJ5P3l5D8QSQzbpzLlP1Nbz9FRf+U/l22SyPvL5T/bf1W/pRjmPx+SGLZPZeY/Y6TbrPmx5j+ntp6jo/7mP+vIYZpNS+c/LtskkfeX5z9T7h5U9NPnPyvznhmnquc/FjcClw9X5z8Ce2UUeAPnP+2+yJHgr+Y/2AIsD0lc5j/DRo+MsQjmP66K8gkateU/mc5Vh4Jh5T+EErkE6w3lP29WHIJTuuQ/D1YpT8JT5D/vOz4LX9bjP9AhU8f7WOM/sQdog5jb4j+R7Xw/NV7iP3LTkfvR4OE/U7mmt25j4T80n7tzC+bgP8s1vXUbS+A/QnsH4dhH3z/uipTWevndP5qaIcwcq9w/Rqquwb5c2z/yuTu3YA7aPzUn7vYcF9k/C6+08e1v2D/hNnvsvsjXP7e+QeePIdc/jUYI4mB61j9jzs7cMdPVPzlWldcCLNU/D95b0tOE1D/lZSLNpN3TP73t6Md1NtM/k3WvwkaP0j9PUZjpYObSP467/eu9SdM/ziVj7hqt0z8NkMjwdxDUP0z6LfPUc9Q/jGST9THX1D/Kzvj3jjrVP5N5Nq05r9U/5584Mi5m1j87xjq3Ih3XPzxMqC9Yutc/l6POcKmS1z+C5zHuET/XP07m7b7VEdc/M+/6EmAe1z8Y+Adn6irXP/wAFbt0N9c/4QkiD/9D1z/GEi9jiVDXP6obPLcTXdc/jyRJC55p1z90LVZfKHbXP1g2Y7Oygtc/PT9wBz2P1z8iSH1bx5vXPwZRiq9RqNc/61mXA9y01z/QYqRXZsHXP7Rrsavwzdc/mXS+/3ra1z9+fctTBefXP2KG2KeP89c/R4/l+xkA2D8smPJPpAzYP9gro8AbCNg/otQIitb61z8zpq0hJBLYP8R3UrlxKdg/BF0gdI9O2D/lOndHdcbYP8gYzhpbPtk/qvYk7kC22T+M1HvBJi7aP2+y0pQMpto/UJApaPId2z8yboA72JXbPxRM1w6+Ddw/9yku4qOF3D/ZB4W1if3cP7zl24hvdd0/nsMyXFXt3T+AoYkvO2XeP2J/4AIh3d4/Q1031gZV3z88lfS1jIffP3jlCW+NlN8/ii7iX67h3z/r67E/PJLgP5HAck+hM+E/gYyI2LFs4j8qXUuIjN/jP/s4cLyNT+U/zBSV8I6/5j94PF0iP9PnPwAAAAAAAOg/AAAAAAAA6D8AAAAAAADoPwAAAAAAAOg/AAAAAAAA6D8AAAAAAADoPwAAAAAAAOg/AAAAAAAA6D8AAAAAAADoPwAAAAAAAOg/AAAAAAAA6D8AAAAAAADoPwAAAAAAAOg/AAAAAAAA6D8AAAAAAADoPwAAAAAAAOg/K8onaNT+5z8gbNmmCNXnPxYOi+U8q+c/DLA8JHGB5z9g8yXE9zjnP0w3iUFg5eY/N3vsvsiR5j9Rc/2Q3yfmPzFZEk18quU/Ej8nCRkt5T/yJDzFta/kP9MKUYFSMuQ/tPBlPe+04z+U1nr5izfjP3a8j7UouuI/VqKkccU84j82iLktYr/hPxduzun+QeE/+FPjpZvE4D8hOKXroh7gP/B/18zn7t4/nI9kwomg3T9Jn/G3K1LcP/aufq3NA9s/or4Lo2+12T86pFCCsO7YP1z/Nfwtodg/flobdqtT2D/6xKyrETzYP2BdfKPw1Ng/w/VLm89t2T8=\",\"dtype\":\"float64\",\"shape\":[601]}}},\"id\":\"e51b81b9-a2d4-447d-9b91-999a202a2754\",\"type\":\"ColumnDataSource\"},{\"attributes\":{\"plot\":{\"id\":\"f3289cec-2f5f-4e0e-a195-04e2a0c7cd95\",\"subtype\":\"Figure\",\"type\":\"Plot\"}},\"id\":\"387d5d9f-f4c9-468a-a48b-5fa92cc9f0ed\",\"type\":\"WheelZoomTool\"},{\"attributes\":{\"line_color\":{\"value\":\"red\"},\"line_width\":{\"value\":2},\"x\":{\"field\":\"x\"},\"y\":{\"field\":\"y\"}},\"id\":\"2c17d219-c066-4a48-9745-112d748bd440\",\"type\":\"Line\"},{\"attributes\":{\"plot\":{\"id\":\"f3289cec-2f5f-4e0e-a195-04e2a0c7cd95\",\"subtype\":\"Figure\",\"type\":\"Plot\"}},\"id\":\"d074808c-ad3d-4277-a53c-12aad13afd64\",\"type\":\"SaveTool\"},{\"attributes\":{\"plot\":{\"id\":\"f3289cec-2f5f-4e0e-a195-04e2a0c7cd95\",\"subtype\":\"Figure\",\"type\":\"Plot\"},\"ticker\":{\"id\":\"84c94a01-1a3a-478a-9620-da65031f7536\",\"type\":\"BasicTicker\"}},\"id\":\"58349379-53ef-403a-9928-b8d668bd4411\",\"type\":\"Grid\"},{\"attributes\":{\"items\":[{\"id\":\"bc3e837a-485f-4599-9b2f-59827b23d8c2\",\"type\":\"LegendItem\"},{\"id\":\"5434d905-a521-4d52-bf0c-f976432b305c\",\"type\":\"LegendItem\"}],\"location\":[0,-30],\"plot\":{\"id\":\"f3289cec-2f5f-4e0e-a195-04e2a0c7cd95\",\"subtype\":\"Figure\",\"type\":\"Plot\"}},\"id\":\"e7d866a8-0cf4-4f78-9b9e-74b31c38f059\",\"type\":\"Legend\"},{\"attributes\":{\"plot\":{\"id\":\"f3289cec-2f5f-4e0e-a195-04e2a0c7cd95\",\"subtype\":\"Figure\",\"type\":\"Plot\"}},\"id\":\"e2af7634-8394-4119-9150-b81f831cabf7\",\"type\":\"PanTool\"},{\"attributes\":{\"plot\":null,\"text\":\"Med Maze 14 0.5 Prioritized XP Replay Stale\"},\"id\":\"7f116283-6780-4233-8529-47f56e9fadb8\",\"type\":\"Title\"},{\"attributes\":{\"label\":{\"value\":\"300k Xp 1 NScaler\"},\"renderers\":[{\"id\":\"d3619eb5-692f-47a0-9828-5b37ee5f8159\",\"type\":\"GlyphRenderer\"}]},\"id\":\"bc3e837a-485f-4599-9b2f-59827b23d8c2\",\"type\":\"LegendItem\"},{\"attributes\":{\"axis_label\":\"T\",\"formatter\":{\"id\":\"4d5a4b85-4390-468d-bb5a-6d02dd2cce8c\",\"type\":\"BasicTickFormatter\"},\"plot\":{\"id\":\"f3289cec-2f5f-4e0e-a195-04e2a0c7cd95\",\"subtype\":\"Figure\",\"type\":\"Plot\"},\"ticker\":{\"id\":\"84c94a01-1a3a-478a-9620-da65031f7536\",\"type\":\"BasicTicker\"}},\"id\":\"0f3b5554-9364-4a06-8719-0022d3300220\",\"type\":\"LinearAxis\"},{\"attributes\":{\"overlay\":{\"id\":\"f1f1dc45-51d4-4b04-b600-6dca11a984f9\",\"type\":\"BoxAnnotation\"},\"plot\":{\"id\":\"f3289cec-2f5f-4e0e-a195-04e2a0c7cd95\",\"subtype\":\"Figure\",\"type\":\"Plot\"}},\"id\":\"e3ef01b8-494a-4a11-b44c-f348b8b7398f\",\"type\":\"BoxZoomTool\"},{\"attributes\":{\"dimension\":1,\"plot\":{\"id\":\"f3289cec-2f5f-4e0e-a195-04e2a0c7cd95\",\"subtype\":\"Figure\",\"type\":\"Plot\"},\"ticker\":{\"id\":\"c7cd79bc-4788-4604-89d0-f3ce20badfaf\",\"type\":\"BasicTicker\"}},\"id\":\"f6500574-5916-4bd0-bb31-a0aa8e8ee564\",\"type\":\"Grid\"},{\"attributes\":{\"plot\":{\"id\":\"f3289cec-2f5f-4e0e-a195-04e2a0c7cd95\",\"subtype\":\"Figure\",\"type\":\"Plot\"}},\"id\":\"831ab6b8-1bba-4262-924e-ac3cfacc0934\",\"type\":\"HelpTool\"},{\"attributes\":{\"use_scientific\":false},\"id\":\"4d5a4b85-4390-468d-bb5a-6d02dd2cce8c\",\"type\":\"BasicTickFormatter\"},{\"attributes\":{\"line_alpha\":{\"value\":0.1},\"line_color\":{\"value\":\"#1f77b4\"},\"line_width\":{\"value\":2},\"x\":{\"field\":\"x\"},\"y\":{\"field\":\"y\"}},\"id\":\"bd98134a-e8da-4189-b0e9-2a828f5f59af\",\"type\":\"Line\"},{\"attributes\":{},\"id\":\"fe1becd4-00a5-48b2-9f9f-ce59af3f2198\",\"type\":\"BasicTickFormatter\"},{\"attributes\":{},\"id\":\"1fcefce5-21d9-46db-ac12-f38a0baa6026\",\"type\":\"ToolEvents\"},{\"attributes\":{\"active_drag\":\"auto\",\"active_scroll\":\"auto\",\"active_tap\":\"auto\",\"tools\":[{\"id\":\"e2af7634-8394-4119-9150-b81f831cabf7\",\"type\":\"PanTool\"},{\"id\":\"387d5d9f-f4c9-468a-a48b-5fa92cc9f0ed\",\"type\":\"WheelZoomTool\"},{\"id\":\"e3ef01b8-494a-4a11-b44c-f348b8b7398f\",\"type\":\"BoxZoomTool\"},{\"id\":\"d074808c-ad3d-4277-a53c-12aad13afd64\",\"type\":\"SaveTool\"},{\"id\":\"c44da36d-c905-4b89-82f3-42dc5759ff33\",\"type\":\"ResetTool\"},{\"id\":\"831ab6b8-1bba-4262-924e-ac3cfacc0934\",\"type\":\"HelpTool\"}]},\"id\":\"7aafb2d5-791c-411c-8944-59119bbfee6f\",\"type\":\"Toolbar\"},{\"attributes\":{\"label\":{\"value\":\"300k Xp 4 NScaler\"},\"renderers\":[{\"id\":\"084ff141-a1b1-4ae1-855c-3948a3e3cf44\",\"type\":\"GlyphRenderer\"}]},\"id\":\"5434d905-a521-4d52-bf0c-f976432b305c\",\"type\":\"LegendItem\"},{\"attributes\":{\"bottom_units\":\"screen\",\"fill_alpha\":{\"value\":0.5},\"fill_color\":{\"value\":\"lightgrey\"},\"left_units\":\"screen\",\"level\":\"overlay\",\"line_alpha\":{\"value\":1.0},\"line_color\":{\"value\":\"black\"},\"line_dash\":[4,4],\"line_width\":{\"value\":2},\"plot\":null,\"render_mode\":\"css\",\"right_units\":\"screen\",\"top_units\":\"screen\"},\"id\":\"f1f1dc45-51d4-4b04-b600-6dca11a984f9\",\"type\":\"BoxAnnotation\"},{\"attributes\":{\"callback\":null,\"end\":1.1,\"start\":-0.1},\"id\":\"c233606e-fd11-4013-8a54-50b77c7d14fd\",\"type\":\"Range1d\"},{\"attributes\":{},\"id\":\"c7cd79bc-4788-4604-89d0-f3ce20badfaf\",\"type\":\"BasicTicker\"},{\"attributes\":{\"line_color\":{\"value\":\"green\"},\"line_width\":{\"value\":2},\"x\":{\"field\":\"x\"},\"y\":{\"field\":\"y\"}},\"id\":\"d973fc2b-b5eb-4ea2-8f48-5a9d93fc69ff\",\"type\":\"Line\"},{\"attributes\":{\"callback\":null,\"column_names\":[\"x\",\"y\"],\"data\":{\"x\":[0,1000,2000,3000,4000,5000,6000,7000,8000,9000,10000,11000,12000,13000,14000,15000,16000,17000,18000,19000,20000,21000,22000,23000,24000,25000,26000,27000,28000,29000,30000,31000,32000,33000,34000,35000,36000,37000,38000,39000,40000,41000,42000,43000,44000,45000,46000,47000,48000,49000,50000,51000,52000,53000,54000,55000,56000,57000,58000,59000,60000,61000,62000,63000,64000,65000,66000,67000,68000,69000,70000,71000,72000,73000,74000,75000,76000,77000,78000,79000,80000,81000,82000,83000,84000,85000,86000,87000,88000,89000,90000,91000,92000,93000,94000,95000,96000,97000,98000,99000,100000,101000,102000,103000,104000,105000,106000,107000,108000,109000,110000,111000,112000,113000,114000,115000,116000,117000,118000,119000,120000,121000,122000,123000,124000,125000,126000,127000,128000,129000,130000,131000,132000,133000,134000,135000,136000,137000,138000,139000,140000,141000,142000,143000,144000,145000,146000,147000,148000,149000,150000,151000,152000,153000,154000,155000,156000,157000,158000,159000,160000,161000,162000,163000,164000,165000,166000,167000,168000,169000,170000,171000,172000,173000,174000,175000,176000,177000,178000,179000,180000,181000,182000,183000,184000,185000,186000,187000,188000,189000,190000,191000,192000,193000,194000,195000,196000,197000,198000,199000,200000,201000,202000,203000,204000,205000,206000,207000,208000,209000,210000,211000,212000,213000,214000,215000,216000,217000,218000,219000,220000,221000,222000,223000,224000,225000,226000,227000,228000,229000,230000,231000,232000,233000,234000,235000,236000,237000,238000,239000,240000,241000,242000,243000,244000,245000,246000,247000,248000,249000,250000,251000,252000,253000,254000,255000,256000,257000,258000,259000,260000,261000,262000,263000,264000,265000,266000,267000,268000,269000,270000,271000,272000,273000,274000,275000,276000,277000,278000,279000,280000,281000,282000,283000,284000,285000,286000,287000,288000,289000,290000,291000,292000,293000,294000,295000,296000,297000,298000,299000,300000,301000,302000,303000,304000,305000,306000,307000,308000,309000,310000,311000,312000,313000,314000,315000,316000,317000,318000,319000,320000,321000,322000,323000,324000,325000,326000,327000,328000,329000,330000,331000,332000,333000,334000,335000,336000,337000,338000,339000,340000,341000,342000,343000,344000,345000,346000,347000,348000,349000,350000,351000,352000,353000,354000,355000,356000,357000,358000,359000,360000,361000,362000,363000,364000,365000,366000,367000,368000,369000,370000,371000,372000,373000,374000,375000,376000,377000,378000,379000,380000,381000,382000,383000,384000,385000,386000,387000,388000,389000,390000,391000,392000,393000,394000,395000,396000,397000,398000,399000,400000,401000,402000,403000,404000,405000,406000,407000,408000,409000,410000,411000,412000,413000,414000,415000,416000,417000,418000,419000,420000,421000,422000,423000,424000,425000,426000,427000,428000,429000,430000,431000,432000,433000,434000,435000,436000,437000,438000,439000,440000,441000,442000,443000,444000,445000,446000,447000,448000,449000,450000,451000,452000,453000,454000,455000,456000,457000,458000,459000,460000,461000,462000,463000,464000,465000,466000,467000,468000,469000,470000,471000,472000,473000,474000,475000,476000,477000,478000,479000,480000,481000,482000,483000,484000,485000,486000,487000,488000,489000,490000,491000,492000,493000,494000,495000,496000,497000,498000,499000,500000,501000,502000,503000,504000,505000,506000,507000,508000,509000,510000,511000,512000,513000,514000,515000,516000,517000,518000,519000,520000,521000,522000,523000,524000,525000,526000,527000,528000,529000,530000,531000,532000,533000,534000,535000,536000,537000,538000,539000,540000,541000,542000,543000,544000,545000,546000,547000,548000,549000,550000,551000,552000,553000,554000,555000,556000,557000,558000,559000,560000,561000,562000,563000,564000,565000,566000,567000,568000,569000,570000,571000,572000,573000,574000,575000,576000,577000,578000,579000,580000,581000,582000,583000,584000,585000,586000,587000,588000,589000,590000,591000,592000,593000,594000,595000,596000,597000,598000,599000,600000],\"y\":{\"__ndarray__\":\"AAAAAAAAAAAAAAAAAAAAAAAAAAAAAAAAAAAAAAAAAAAAAAAAAAAAAAAAAAAAAAAAAAAAAAAAAAAAAAAAAAAAAAAAAAAAAAAAAAAAAAAAAAAAAAAAAAAAAAAAAAAAAAAAAAAAAAAAAAAAAAAAAAAAAAAAAAAAAAAAAAAAAAAAAAAAAAAAAAAAAAAAAAAAAAAAAAAAAAAAAAAAAAAAAAAAAAAAAAAAAAAAAAAAAAAAAAAAAAAAAAAAAAAAAAAAAAAAAAAAAAAAAAAAAAAAAAAAAAAAAAAAAAAAAAAAAAAAAAAAAAAAAAAAAAAAAAAAAAAAAAAAAAAAAAAAAAAAAAAAAAAAAAAAAAAAAAAAAAAAAAAAAAAAAAAAAAAAAAAAAAAAAAAAAAAAAAAAAAAAAAAAAAAAAAAAAAAAAAAAAAAAAAAAAAAAAAAAAAAAAAAAAAAAAAAAAAAAAAAAAAAAAAAAAAAAAAAAAAAAAAAAAAAAAAAAAAAAAAAAAAAAAAAAAAAAAAAAAAAAAAAAAAAAAAAAAAAAAAAAAAAAAAAAAAAAAAAAAAAAAAAAAAAAAAAAAAAAAAAAAAAAAAAAAAAAAAAAAAAAAAAAAAAAAAAAAAAAAAAAAAAAAAAAAAAAAAAAAAAAAAAAAAAAAAAAAAAAAAAAAAAAAAAAAAAAAAAAAAAAAAAAAAAAAAAAAAAAAAAAAAAAAAAAAAAAAAAAAAAAAAAAAAAAAAAAAAAAAAAAAAAAAAAAAAAAAAAAAAAAAAAAAAAAAAAAAAAAAAAAAAAAAAAAABFb0rLsnGs/TcQdhrG1hD/reMPvE0KRP68PeBxPKZg/c6YsSYoQnz+cnvC64vuiP/7pSlGAb6Y/YDWl5x3jqT/CgP99u1atPxLmLIosZbA/wwtaVfsesj90MYcgytizPyZXtOuYkrU/13zhtmdMtz+Iog6CNga5PznIO00FwLo/6u1oGNR5vD+bE5bjojO+P0w5w65x7b8/////////vz8AAAAAAADAPwAAAAAAAMA/AAAAAAAAwD////////+/PwAAAAAAAMA/rhezhsXRwD9bL2YNi6PBPwhHGZRQdcI/tl7MGhZHwz9jdn+h2xjEPxGOMiih6sQ/v6Xlrma8xT9svZg1LI7GPxrVS7zxX8c/yOz+QrcxyD91BLLJfAPJPyIcZVBC1ck/0DMY1wenyj9+S8tdzXjLPyxjfuSSSsw/2Hoxa1gczT+GkuTxHe7NPzSql3jjv84/4sFK/6iRzz8AAAAAAADQPwAAAAAAANA/AAAAAAAA0D8AAAAAAADQPwAAAAAAANA/AAAAAAAA0D8AAAAAAADQPwAAAAAAANA/AAAAAAAA0D8AAAAAAADQPwAAAAAAANA/AAAAAAAA0D8AAAAAAADQPwAAAAAAANA/AAAAAAAA0D8AAAAAAADQPwAAAAAAANA/AAAAAAAA0D8AAAAAAADQPwAAAAAAANA/AAAAAAAA0D8AAAAAAADQPwAAAAAAANA/AAAAAAAA0D8AAAAAAADQPwAAAAAAANA/AAAAAAAA0D8AAAAAAADQPwAAAAAAANA/AAAAAAAA0D+yaDlUk+HQP2TRcqgmw9E/Fjqs/Lmk0j/IouVQTYbTP3oLH6XgZ9Q/LHRY+XNJ1T/e3JFNByvWP5BFy6GaDNc/Qq4E9i3u1z/6BRUNA7PXP+VJeIprX9c/0I3bB9QL1z+70T6FPLjWP6YVogKlZNY/kVkFgA0R1j99nWj9db3VP2jhy3readU/UyUv+EYW1T8+aZJ1r8LUPymt9fIXb9Q/FPFYcIAb1D//NLzt6MfTP+p4H2tRdNM/1byC6Lkg0z/AAOZlIs3SP6xESeOKedI/l4isYPMl0j+CzA/eW9LRP20Qc1vEftE/WFTW2Cwr0T9DmDlWldfQPy7cnNP9g9A/GiAAUWYw0D/2B7Vlny/QP3l17JW9oNA//OIjxtsR0T+AUFv2+YLRPwK+kiYY9NE/hivKVjZl0j8JmQGHVNbSP4wGObdyR9M/D3Rw55C40z+S4acXrynUPxVP30fNmtQ/mLwWeOsL1T8cKk6oCX3VP6CXhdgn7tU/IgW9CEZf1j+lcvQ4ZNDWPyjgK2mCQdc/q01jmaCy1z8AAAAAAADYPwAAAAAAANg/AAAAAAAA2D8AAAAAAADYPwAAAAAAANg/AAAAAAAA2D8AAAAAAADYPwAAAAAAANg/AAAAAAAA2D8AAAAAAADYPwAAAAAAANg/AAAAAAAA2D8AAAAAAADYPwAAAAAAANg/AAAAAAAA2D8AAAAAAADYPwAAAAAAANg/AAAAAAAA2D8AAAAAAADYPwAAAAAAANg/AAAAAAAA2D8AAAAAAADYPwAAAAAAANg/AAAAAAAA2D8AAAAAAADYPwAAAAAAANg/AAAAAAAA2D8AAAAAAADYPwAAAAAAANg/AAAAAAAA2D8AAAAAAADYPwAAAAAAANg/AAAAAAAA2D8AAAAAAADYPwAAAAAAANg/AAAAAAAA2D8AAAAAAADYPwAAAAAAANg/AAAAAAAA2D8AAAAAAADYPwAAAAAAANg/AAAAAAAA2D8AAAAAAADYPwAAAAAAANg/AAAAAAAA2D8AAAAAAADYPwAAAAAAANg/AAAAAAAA2D8AAAAAAADYPwAAAAAAANg/AAAAAAAA2D8AAAAAAADYPwAAAAAAANg/AAAAAAAA2D8AAAAAAADYPwAAAAAAANg/AAAAAAAA2D8AAAAAAADYPwAAAAAAANg/AAAAAAAA2D8AAAAAAADYPwAAAAAAANg/AAAAAAAA2D8AAAAAAADYPwAAAAAAANg/AAAAAAAA2D8AAAAAAADYPwAAAAAAANg/AAAAAAAA2D8AAAAAAADYPwAAAAAAANg/AAAAAAAA2D8AAAAAAADYPwAAAAAAANg/AAAAAAAA2D8AAAAAAADYPwAAAAAAANg/AAAAAAAA2D8AAAAAAADYPwAAAAAAANg/AAAAAAAA2D8AAAAAAADYPwAAAAAAANg/AAAAAAAA2D8AAAAAAADYPwAAAAAAANg/AAAAAAAA2D8AAAAAAADYPwAAAAAAANg/AAAAAAAA2D8AAAAAAADYPwAAAAAAANg/AAAAAAAA2D8AAAAAAADYPwAAAAAAANg/AAAAAAAA2D8AAAAAAADYPwAAAAAAANg/AAAAAAAA2D8AAAAAAADYPwAAAAAAANg/AAAAAAAA2D8AAAAAAADYPwAAAAAAANg/AAAAAAAA2D8AAAAAAADYPwAAAAAAANg/AAAAAAAA2D8AAAAAAADYPwAAAAAAANg/AAAAAAAA2D8AAAAAAADYPwAAAAAAANg/AAAAAAAA2D8AAAAAAADYPwAAAAAAANg/AAAAAAAA2D8AAAAAAADYPwAAAAAAANg/AAAAAAAA2D8AAAAAAADYPwAAAAAAANg/AAAAAAAA2D8AAAAAAADYPwAAAAAAANg/AAAAAAAA2D8AAAAAAADYPwAAAAAAANg/AAAAAAAA2D8AAAAAAADYPwAAAAAAANg/AAAAAAAA2D8AAAAAAADYPwAAAAAAANg/AAAAAAAA2D8AAAAAAADYPwAAAAAAANg/AAAAAAAA2D8AAAAAAADYPwAAAAAAANg/AAAAAAAA2D8AAAAAAADYPwAAAAAAANg/AAAAAAAA2D8AAAAAAADYP0oMu//HWdg/lBh2/4+z2D/eJDH/Vw3ZPygx7P4fZ9k/cj2n/ufA2T+8SWL+rxraPwVWHf53dNo/UGLY/T/O2j+abpP9ByjbP+R6Tv3Pgds/LYcJ/Zfb2z93k8T8XzXcP8Gff/wnj9w/C6w6/O/o3D9WuPX7t0LdP5/EsPt/nN0/6dBr+0f23T8z3Sb7D1DeP33p4frXqd4/x/Wc+p8D3z8QAlj6Z13fP1oOE/ovt98/QSkZfjPw3z8sbXz7m5zfPxex33gESd8/AvVC9mz13j/tOKZz1aHeP9h8CfE9Tt4/w8Bsbqb63T+uBNDrDqfdP5pIM2l3U90/hIyW5t//3D9w0PljSKzcP1sUXeGwWNw/RljAXhkF3D8xnCPcgbHbPxzghlnqXds/ByTq1lIK2z/yZ01Uu7baP92rsNEjY9o/yO8TT4wP2j+0M3fM9LvZP5532kldaNk/irs9x8UU2T91/6BELsHYP2BDBMKWbdg/S4dnP/8Z2D8c7vlxID/YP3L3el+/mtg/xwD8TF722D8dCn06/VHZP3IT/iecrdk/yBx/FTsJ2j8dJgAD2mTaP3MvgfB4wNo/yDgC3hcc2z8eQoPLtnfbP3NLBLlV09s/yFSFpvQu3D8eXgaUk4rcP3Rnh4Ey5tw/yXAIb9FB3T8eeolccJ3dP3SDCkoP+d0/yYyLN65U3j8flgwlTbDeP3SfjRLsC98/yqgOAItn3z8fso/tKcPfPwAAAAAAAOA/AAAAAAAA4D8AAAAAAADgPwAAAAAAAOA/1ruTxFk/4D+BM7tNDb7gPyyr4tbAPOE/2CIKYHS74T+DmjHpJzriPy4SWXLbuOI/2omA+4434z+FAaiEQrbjP34lm4CH7uM/c8dMv7vE4z9paf7975rjP14LsDwkceM/IUTqJ7k64z8MiE2lIefiP/fLsCKKk+I/4g8UoPI/4j/NU3cdW+zhP7iX2prDmOE/o9s9GCxF4T+OH6GVlPHgP3pjBBP9neA/ZKdnkGVK4D+g1pUbnO3fP3ZeXBZtRt8/S+YiET6f3j8ibukLD/jdP/j1rwbgUN0/zn12AbGp3D+kBT38gQLcP3qNA/dSW9s/URXK8SO02j8nnZDs9AzaP/4kV+fFZdk/iIadi5u82T+OIvfYISraP5a+UCaol9o/nVqqcy4F2z9ZTJp9njfcP5Qtd9Ormt0/zg5UKbn93j8EeJg/YzDgP6Lohurp4eA/Pll1lXCT4T/+LeA7vibiP4xy0/61d+I/HLfGwa3I4j+r+7mEpRnjPzpArUedauM/yoSgCpW74z8AAAAAAADkPwAAAAAAAOQ/AAAAAAAA5D8AAAAAAADkPwAAAAAAAOQ/AAAAAAAA5D8AAAAAAADkPwAAAAAAAOQ/AAAAAAAA5D8AAAAAAADkPwAAAAAAAOQ/AAAAAAAA5D8AAAAAAADkPwAAAAAAAOQ/AAAAAAAA5D8AAAAAAADkPwAAAAAAAOQ/AAAAAAAA5D8AAAAAAADkPwAAAAAAAOQ/AAAAAAAA5D8AAAAAAADkPwAAAAAAAOQ/AAAAAAAA5D8AAAAAAADkPwAAAAAAAOQ/AAAAAAAA5D8AAAAAAADkPwAAAAAAAOQ/AAAAAAAA5D8AAAAAAADkPwAAAAAAAOQ/AAAAAAAA5D8AAAAAAADkPwAAAAAAAOQ/AAAAAAAA5D8AAAAAAADkPwAAAAAAAOQ/AAAAAAAA5D8AAAAAAADkPwAAAAAAAOQ/AAAAAAAA5D8AAAAAAADkPwAAAAAAAOQ/AAAAAAAA5D8AAAAAAADkPwAAAAAAAOQ/AAAAAAAA5D8AAAAAAADkPwAAAAAAAOQ/AAAAAAAA5D8AAAAAAADkPwAAAAAAAOQ/AAAAAAAA5D8AAAAAAADkPwAAAAAAAOQ/AAAAAAAA5D8AAAAAAADkPwAAAAAAAOQ/AAAAAAAA5D8AAAAAAADkPwAAAAAAAOQ/AAAAAAAA5D8AAAAAAADkPwAAAAAAAOQ/AAAAAAAA5D8AAAAAAADkPwAAAAAAAOQ/AAAAAAAA5D8AAAAAAADkPwAAAAAAAOQ/zNmZO2b64z/Ce0t6mtDjP7gd/bjOpuM/rb+u9wJ94z+iYWA2N1PjP5gDEnVrKeM/jqXDs5//4j+DR3Xy09XiP3npJjEIrOI/bovYbzyC4j9kLYqucFjiP1rPO+2kLuI/T3HtK9kE4j9EE59qDdvhPzq1UKlBseE/L1cC6HWH4T8l+bMmql3hPw6KXQooCuE/+M3Ah5C24D/jESQF+WLgP85Vh4JhD+A/dDPV/5N33z9Ku5v6ZNDePyBDYvU1Kd4/9soo8AaC3T+IxCmNzUXePxHMGFAc298/zumDiTW44D+Tbfvq3ILhP3WGS5W84OE/ayj90/C24T9gyq4SJY3hP1ZsYFFZY+E/Sw4SkI054T9BsMPOwQ/hPzZSdQ325eA/LPQmTCq84D8iltiKXpLgPxc4ismSaOA/DNo7CMc+4D8CfO1G+xTgP8pzAVf/BuE/1G8rzRoX4z8AAAAAAADkPwAAAAAAAOQ/AAAAAAAA5D8AAAAAAADkPwAAAAAAAOQ/AAAAAAAA5D8AAAAAAADkPwAAAAAAAOQ/AAAAAAAA5D8AAAAAAADkPwAAAAAAAOQ/AAAAAAAA5D8AAAAAAADkPwAAAAAAAOQ/AAAAAAAA5D8AAAAAAADkPwAAAAAAAOQ/AAAAAAAA5D8AAAAAAADkPwAAAAAAAOQ/AAAAAAAA5D8=\",\"dtype\":\"float64\",\"shape\":[601]}}},\"id\":\"d5bf8bb4-f674-406b-831e-1dc16f1e1ef7\",\"type\":\"ColumnDataSource\"},{\"attributes\":{\"data_source\":{\"id\":\"d5bf8bb4-f674-406b-831e-1dc16f1e1ef7\",\"type\":\"ColumnDataSource\"},\"glyph\":{\"id\":\"d973fc2b-b5eb-4ea2-8f48-5a9d93fc69ff\",\"type\":\"Line\"},\"hover_glyph\":null,\"nonselection_glyph\":{\"id\":\"bd98134a-e8da-4189-b0e9-2a828f5f59af\",\"type\":\"Line\"},\"selection_glyph\":null},\"id\":\"084ff141-a1b1-4ae1-855c-3948a3e3cf44\",\"type\":\"GlyphRenderer\"},{\"attributes\":{\"plot\":{\"id\":\"f3289cec-2f5f-4e0e-a195-04e2a0c7cd95\",\"subtype\":\"Figure\",\"type\":\"Plot\"}},\"id\":\"c44da36d-c905-4b89-82f3-42dc5759ff33\",\"type\":\"ResetTool\"},{\"attributes\":{\"axis_label\":\"Episode Reward\",\"formatter\":{\"id\":\"fe1becd4-00a5-48b2-9f9f-ce59af3f2198\",\"type\":\"BasicTickFormatter\"},\"plot\":{\"id\":\"f3289cec-2f5f-4e0e-a195-04e2a0c7cd95\",\"subtype\":\"Figure\",\"type\":\"Plot\"},\"ticker\":{\"id\":\"c7cd79bc-4788-4604-89d0-f3ce20badfaf\",\"type\":\"BasicTicker\"}},\"id\":\"17c06b65-a7a5-4bee-a782-b7ab962bc3b8\",\"type\":\"LinearAxis\"},{\"attributes\":{\"line_alpha\":{\"value\":0.1},\"line_color\":{\"value\":\"#1f77b4\"},\"line_width\":{\"value\":2},\"x\":{\"field\":\"x\"},\"y\":{\"field\":\"y\"}},\"id\":\"39706982-8b4a-4b2c-9793-d8ab6a1b6cb7\",\"type\":\"Line\"}],\"root_ids\":[\"f3289cec-2f5f-4e0e-a195-04e2a0c7cd95\"]},\"title\":\"Bokeh Application\",\"version\":\"0.12.4\"}};\n",
       "            var render_items = [{\"docid\":\"c19c864b-fd18-498b-8379-31f6824eb0e3\",\"elementid\":\"a822e940-a751-47d9-8c8f-0f082e30bf7e\",\"modelid\":\"f3289cec-2f5f-4e0e-a195-04e2a0c7cd95\"}];\n",
       "            \n",
       "            Bokeh.embed.embed_items(docs_json, render_items);\n",
       "          };\n",
       "          if (document.readyState != \"loading\") fn();\n",
       "          else document.addEventListener(\"DOMContentLoaded\", fn);\n",
       "        })();\n",
       "      },\n",
       "      function(Bokeh) {\n",
       "      }\n",
       "    ];\n",
       "  \n",
       "    function run_inline_js() {\n",
       "      \n",
       "      if ((window.Bokeh !== undefined) || (force === true)) {\n",
       "        for (var i = 0; i < inline_js.length; i++) {\n",
       "          inline_js[i](window.Bokeh);\n",
       "        }if (force === true) {\n",
       "          display_loaded();\n",
       "        }} else if (Date.now() < window._bokeh_timeout) {\n",
       "        setTimeout(run_inline_js, 100);\n",
       "      } else if (!window._bokeh_failed_load) {\n",
       "        console.log(\"Bokeh: BokehJS failed to load within specified timeout.\");\n",
       "        window._bokeh_failed_load = true;\n",
       "      } else if (force !== true) {\n",
       "        var cell = $(document.getElementById(\"a822e940-a751-47d9-8c8f-0f082e30bf7e\")).parents('.cell').data().cell;\n",
       "        cell.output_area.append_execute_result(NB_LOAD_WARNING)\n",
       "      }\n",
       "  \n",
       "    }\n",
       "  \n",
       "    if (window._bokeh_is_loading === 0) {\n",
       "      console.log(\"Bokeh: BokehJS loaded, going straight to plotting\");\n",
       "      run_inline_js();\n",
       "    } else {\n",
       "      load_libs(js_urls, function() {\n",
       "        console.log(\"Bokeh: BokehJS plotting callback run at\", now());\n",
       "        run_inline_js();\n",
       "      });\n",
       "    }\n",
       "  }(this));\n",
       "</script>"
      ]
     },
     "metadata": {},
     "output_type": "display_data"
    },
    {
     "name": "stderr",
     "output_type": "stream",
     "text": [
      "/usr/lib/python3.6/site-packages/bokeh/models/sources.py:81: BokehUserWarning: ColumnDataSource's columns must be of the same length\n",
      "  lambda: warnings.warn(\"ColumnDataSource's columns must be of the same length\", BokehUserWarning))\n",
      "/usr/lib/python3.6/site-packages/bokeh/models/sources.py:81: BokehUserWarning: ColumnDataSource's columns must be of the same length\n",
      "  lambda: warnings.warn(\"ColumnDataSource's columns must be of the same length\", BokehUserWarning))\n",
      "/usr/lib/python3.6/site-packages/bokeh/models/sources.py:81: BokehUserWarning: ColumnDataSource's columns must be of the same length\n",
      "  lambda: warnings.warn(\"ColumnDataSource's columns must be of the same length\", BokehUserWarning))\n",
      "/usr/lib/python3.6/site-packages/bokeh/models/sources.py:81: BokehUserWarning: ColumnDataSource's columns must be of the same length\n",
      "  lambda: warnings.warn(\"ColumnDataSource's columns must be of the same length\", BokehUserWarning))\n"
     ]
    },
    {
     "data": {
      "text/html": [
       "\n",
       "\n",
       "    <div class=\"bk-root\">\n",
       "        <div class=\"bk-plotdiv\" id=\"d344cbe3-9c49-44c9-9739-1e71d45891ec\"></div>\n",
       "    </div>\n",
       "<script type=\"text/javascript\">\n",
       "  \n",
       "  (function(global) {\n",
       "    function now() {\n",
       "      return new Date();\n",
       "    }\n",
       "  \n",
       "    var force = false;\n",
       "  \n",
       "    if (typeof (window._bokeh_onload_callbacks) === \"undefined\" || force === true) {\n",
       "      window._bokeh_onload_callbacks = [];\n",
       "      window._bokeh_is_loading = undefined;\n",
       "    }\n",
       "  \n",
       "  \n",
       "    \n",
       "    if (typeof (window._bokeh_timeout) === \"undefined\" || force === true) {\n",
       "      window._bokeh_timeout = Date.now() + 0;\n",
       "      window._bokeh_failed_load = false;\n",
       "    }\n",
       "  \n",
       "    var NB_LOAD_WARNING = {'data': {'text/html':\n",
       "       \"<div style='background-color: #fdd'>\\n\"+\n",
       "       \"<p>\\n\"+\n",
       "       \"BokehJS does not appear to have successfully loaded. If loading BokehJS from CDN, this \\n\"+\n",
       "       \"may be due to a slow or bad network connection. Possible fixes:\\n\"+\n",
       "       \"</p>\\n\"+\n",
       "       \"<ul>\\n\"+\n",
       "       \"<li>re-rerun `output_notebook()` to attempt to load from CDN again, or</li>\\n\"+\n",
       "       \"<li>use INLINE resources instead, as so:</li>\\n\"+\n",
       "       \"</ul>\\n\"+\n",
       "       \"<code>\\n\"+\n",
       "       \"from bokeh.resources import INLINE\\n\"+\n",
       "       \"output_notebook(resources=INLINE)\\n\"+\n",
       "       \"</code>\\n\"+\n",
       "       \"</div>\"}};\n",
       "  \n",
       "    function display_loaded() {\n",
       "      if (window.Bokeh !== undefined) {\n",
       "        document.getElementById(\"d344cbe3-9c49-44c9-9739-1e71d45891ec\").textContent = \"BokehJS successfully loaded.\";\n",
       "      } else if (Date.now() < window._bokeh_timeout) {\n",
       "        setTimeout(display_loaded, 100)\n",
       "      }\n",
       "    }\n",
       "  \n",
       "    function run_callbacks() {\n",
       "      window._bokeh_onload_callbacks.forEach(function(callback) { callback() });\n",
       "      delete window._bokeh_onload_callbacks\n",
       "      console.info(\"Bokeh: all callbacks have finished\");\n",
       "    }\n",
       "  \n",
       "    function load_libs(js_urls, callback) {\n",
       "      window._bokeh_onload_callbacks.push(callback);\n",
       "      if (window._bokeh_is_loading > 0) {\n",
       "        console.log(\"Bokeh: BokehJS is being loaded, scheduling callback at\", now());\n",
       "        return null;\n",
       "      }\n",
       "      if (js_urls == null || js_urls.length === 0) {\n",
       "        run_callbacks();\n",
       "        return null;\n",
       "      }\n",
       "      console.log(\"Bokeh: BokehJS not loaded, scheduling load and callback at\", now());\n",
       "      window._bokeh_is_loading = js_urls.length;\n",
       "      for (var i = 0; i < js_urls.length; i++) {\n",
       "        var url = js_urls[i];\n",
       "        var s = document.createElement('script');\n",
       "        s.src = url;\n",
       "        s.async = false;\n",
       "        s.onreadystatechange = s.onload = function() {\n",
       "          window._bokeh_is_loading--;\n",
       "          if (window._bokeh_is_loading === 0) {\n",
       "            console.log(\"Bokeh: all BokehJS libraries loaded\");\n",
       "            run_callbacks()\n",
       "          }\n",
       "        };\n",
       "        s.onerror = function() {\n",
       "          console.warn(\"failed to load library \" + url);\n",
       "        };\n",
       "        console.log(\"Bokeh: injecting script tag for BokehJS library: \", url);\n",
       "        document.getElementsByTagName(\"head\")[0].appendChild(s);\n",
       "      }\n",
       "    };var element = document.getElementById(\"d344cbe3-9c49-44c9-9739-1e71d45891ec\");\n",
       "    if (element == null) {\n",
       "      console.log(\"Bokeh: ERROR: autoload.js configured with elementid 'd344cbe3-9c49-44c9-9739-1e71d45891ec' but no matching script tag was found. \")\n",
       "      return false;\n",
       "    }\n",
       "  \n",
       "    var js_urls = [];\n",
       "  \n",
       "    var inline_js = [\n",
       "      function(Bokeh) {\n",
       "        (function() {\n",
       "          var fn = function() {\n",
       "            var docs_json = {\"13cb9147-fd2c-49b4-b96e-7956cf2b6e9b\":{\"roots\":{\"references\":[{\"attributes\":{\"plot\":null,\"text\":\"Med Maze 14 0.5 Prioritized XP Replay Stale\"},\"id\":\"db491b1c-71e8-417d-bdae-71fd9cf26108\",\"type\":\"Title\"},{\"attributes\":{\"active_drag\":\"auto\",\"active_scroll\":\"auto\",\"active_tap\":\"auto\",\"tools\":[{\"id\":\"5081eec5-a26e-42c3-aafd-9f5d14454f59\",\"type\":\"PanTool\"},{\"id\":\"c81abd89-5984-4e8e-98e3-17c7ee6d5a2c\",\"type\":\"WheelZoomTool\"},{\"id\":\"b0743401-9860-441d-9ba8-af6ab30b086a\",\"type\":\"BoxZoomTool\"},{\"id\":\"220bee66-a1d2-48fb-acd0-8fecc7dcebfe\",\"type\":\"SaveTool\"},{\"id\":\"b8cdee05-d2a0-49f0-914c-701e42e6f0a3\",\"type\":\"ResetTool\"},{\"id\":\"2d27a512-e635-46b6-90d2-d81c7d6e973a\",\"type\":\"HelpTool\"}]},\"id\":\"3a234e07-c6a1-4d7c-af25-7b3a36d10581\",\"type\":\"Toolbar\"},{\"attributes\":{\"below\":[{\"id\":\"15dcdde3-ec5b-46ee-b72c-bb71dfca7d0e\",\"type\":\"LinearAxis\"}],\"left\":[{\"id\":\"1b82e317-e67a-4dd5-af0c-25f45bb99743\",\"type\":\"LinearAxis\"}],\"plot_height\":800,\"plot_width\":1200,\"renderers\":[{\"id\":\"15dcdde3-ec5b-46ee-b72c-bb71dfca7d0e\",\"type\":\"LinearAxis\"},{\"id\":\"9709fbed-d15b-46fa-9dff-97ac909b8ea7\",\"type\":\"Grid\"},{\"id\":\"1b82e317-e67a-4dd5-af0c-25f45bb99743\",\"type\":\"LinearAxis\"},{\"id\":\"58cf0ae2-9604-492c-9675-cc4f9e891068\",\"type\":\"Grid\"},{\"id\":\"57f176b4-90fc-4a15-9bd9-a4e6512894f0\",\"type\":\"BoxAnnotation\"},{\"id\":\"6a37281e-e5d5-49f2-8e69-d2c36367f8a7\",\"type\":\"GlyphRenderer\"},{\"id\":\"2232a7b8-fa44-4c27-bf68-5e3a6bbc7990\",\"type\":\"GlyphRenderer\"},{\"id\":\"ba0f2fc6-fe7a-4e68-b4db-e8a5cfe43862\",\"type\":\"GlyphRenderer\"},{\"id\":\"ce8381e2-6fe6-4f76-a27e-5ea8b27c661d\",\"type\":\"GlyphRenderer\"},{\"id\":\"b8761ca7-3283-46ca-b2b3-e338d712016e\",\"type\":\"Legend\"}],\"right\":[{\"id\":\"b8761ca7-3283-46ca-b2b3-e338d712016e\",\"type\":\"Legend\"}],\"title\":{\"id\":\"db491b1c-71e8-417d-bdae-71fd9cf26108\",\"type\":\"Title\"},\"tool_events\":{\"id\":\"a8692916-3700-4247-a722-aec9951dbdbb\",\"type\":\"ToolEvents\"},\"toolbar\":{\"id\":\"3a234e07-c6a1-4d7c-af25-7b3a36d10581\",\"type\":\"Toolbar\"},\"toolbar_location\":\"above\",\"x_range\":{\"id\":\"dc4d357f-8f9f-4b0f-bd7e-c7170b8121a4\",\"type\":\"DataRange1d\"},\"y_range\":{\"id\":\"7dbac524-d206-498c-ad28-49b1c0bdc928\",\"type\":\"DataRange1d\"}},\"id\":\"1dc38383-c446-4552-b9ac-cbb3974aa66f\",\"subtype\":\"Figure\",\"type\":\"Plot\"},{\"attributes\":{\"plot\":{\"id\":\"1dc38383-c446-4552-b9ac-cbb3974aa66f\",\"subtype\":\"Figure\",\"type\":\"Plot\"}},\"id\":\"5081eec5-a26e-42c3-aafd-9f5d14454f59\",\"type\":\"PanTool\"},{\"attributes\":{\"bottom_units\":\"screen\",\"fill_alpha\":{\"value\":0.5},\"fill_color\":{\"value\":\"lightgrey\"},\"left_units\":\"screen\",\"level\":\"overlay\",\"line_alpha\":{\"value\":1.0},\"line_color\":{\"value\":\"black\"},\"line_dash\":[4,4],\"line_width\":{\"value\":2},\"plot\":null,\"render_mode\":\"css\",\"right_units\":\"screen\",\"top_units\":\"screen\"},\"id\":\"57f176b4-90fc-4a15-9bd9-a4e6512894f0\",\"type\":\"BoxAnnotation\"},{\"attributes\":{\"callback\":null},\"id\":\"dc4d357f-8f9f-4b0f-bd7e-c7170b8121a4\",\"type\":\"DataRange1d\"},{\"attributes\":{\"items\":[{\"id\":\"76f42c72-e5ed-4ea9-9cb0-2d8b5c549a10\",\"type\":\"LegendItem\"},{\"id\":\"38d8b565-3cf4-4b75-971b-b62f5f3d72c6\",\"type\":\"LegendItem\"}],\"location\":[0,-30],\"plot\":{\"id\":\"1dc38383-c446-4552-b9ac-cbb3974aa66f\",\"subtype\":\"Figure\",\"type\":\"Plot\"}},\"id\":\"b8761ca7-3283-46ca-b2b3-e338d712016e\",\"type\":\"Legend\"},{\"attributes\":{\"label\":{\"value\":\"300k Xp 1 NScaler\"},\"renderers\":[{\"id\":\"2232a7b8-fa44-4c27-bf68-5e3a6bbc7990\",\"type\":\"GlyphRenderer\"}]},\"id\":\"76f42c72-e5ed-4ea9-9cb0-2d8b5c549a10\",\"type\":\"LegendItem\"},{\"attributes\":{\"dimension\":1,\"plot\":{\"id\":\"1dc38383-c446-4552-b9ac-cbb3974aa66f\",\"subtype\":\"Figure\",\"type\":\"Plot\"},\"ticker\":{\"id\":\"54899b75-10c7-4432-aca1-6adb98aec905\",\"type\":\"BasicTicker\"}},\"id\":\"58cf0ae2-9604-492c-9675-cc4f9e891068\",\"type\":\"Grid\"},{\"attributes\":{},\"id\":\"54899b75-10c7-4432-aca1-6adb98aec905\",\"type\":\"BasicTicker\"},{\"attributes\":{\"axis_label\":\"States visited\",\"formatter\":{\"id\":\"895d6e7b-a366-41ae-ac3f-1a52f2af2b9b\",\"type\":\"BasicTickFormatter\"},\"plot\":{\"id\":\"1dc38383-c446-4552-b9ac-cbb3974aa66f\",\"subtype\":\"Figure\",\"type\":\"Plot\"},\"ticker\":{\"id\":\"54899b75-10c7-4432-aca1-6adb98aec905\",\"type\":\"BasicTicker\"}},\"id\":\"1b82e317-e67a-4dd5-af0c-25f45bb99743\",\"type\":\"LinearAxis\"},{\"attributes\":{\"plot\":{\"id\":\"1dc38383-c446-4552-b9ac-cbb3974aa66f\",\"subtype\":\"Figure\",\"type\":\"Plot\"},\"ticker\":{\"id\":\"c0a5fc82-c295-4f1e-8e72-4c30d72f3666\",\"type\":\"BasicTicker\"}},\"id\":\"9709fbed-d15b-46fa-9dff-97ac909b8ea7\",\"type\":\"Grid\"},{\"attributes\":{},\"id\":\"c0a5fc82-c295-4f1e-8e72-4c30d72f3666\",\"type\":\"BasicTicker\"},{\"attributes\":{\"callback\":null},\"id\":\"7dbac524-d206-498c-ad28-49b1c0bdc928\",\"type\":\"DataRange1d\"},{\"attributes\":{\"axis_label\":\"T\",\"formatter\":{\"id\":\"069d8dd3-efe3-47fb-a414-8915f98b1085\",\"type\":\"BasicTickFormatter\"},\"plot\":{\"id\":\"1dc38383-c446-4552-b9ac-cbb3974aa66f\",\"subtype\":\"Figure\",\"type\":\"Plot\"},\"ticker\":{\"id\":\"c0a5fc82-c295-4f1e-8e72-4c30d72f3666\",\"type\":\"BasicTicker\"}},\"id\":\"15dcdde3-ec5b-46ee-b72c-bb71dfca7d0e\",\"type\":\"LinearAxis\"},{\"attributes\":{\"plot\":{\"id\":\"1dc38383-c446-4552-b9ac-cbb3974aa66f\",\"subtype\":\"Figure\",\"type\":\"Plot\"}},\"id\":\"b8cdee05-d2a0-49f0-914c-701e42e6f0a3\",\"type\":\"ResetTool\"},{\"attributes\":{\"plot\":{\"id\":\"1dc38383-c446-4552-b9ac-cbb3974aa66f\",\"subtype\":\"Figure\",\"type\":\"Plot\"}},\"id\":\"220bee66-a1d2-48fb-acd0-8fecc7dcebfe\",\"type\":\"SaveTool\"},{\"attributes\":{\"overlay\":{\"id\":\"57f176b4-90fc-4a15-9bd9-a4e6512894f0\",\"type\":\"BoxAnnotation\"},\"plot\":{\"id\":\"1dc38383-c446-4552-b9ac-cbb3974aa66f\",\"subtype\":\"Figure\",\"type\":\"Plot\"}},\"id\":\"b0743401-9860-441d-9ba8-af6ab30b086a\",\"type\":\"BoxZoomTool\"},{\"attributes\":{\"plot\":{\"id\":\"1dc38383-c446-4552-b9ac-cbb3974aa66f\",\"subtype\":\"Figure\",\"type\":\"Plot\"}},\"id\":\"c81abd89-5984-4e8e-98e3-17c7ee6d5a2c\",\"type\":\"WheelZoomTool\"},{\"attributes\":{\"line_color\":{\"value\":\"red\"},\"line_width\":{\"value\":2},\"x\":{\"field\":\"x\"},\"y\":{\"field\":\"y\"}},\"id\":\"79857de3-cdcc-490b-b910-0b9b7204c263\",\"type\":\"Line\"},{\"attributes\":{\"fill_alpha\":{\"value\":0.1},\"fill_color\":{\"value\":\"red\"},\"line_alpha\":{\"value\":0.1},\"line_color\":{\"value\":\"red\"},\"x\":{\"field\":\"x\"},\"y\":{\"field\":\"y\"}},\"id\":\"3e977708-e0d1-4090-9618-639d1d2d662c\",\"type\":\"Patch\"},{\"attributes\":{\"use_scientific\":false},\"id\":\"069d8dd3-efe3-47fb-a414-8915f98b1085\",\"type\":\"BasicTickFormatter\"},{\"attributes\":{\"plot\":{\"id\":\"1dc38383-c446-4552-b9ac-cbb3974aa66f\",\"subtype\":\"Figure\",\"type\":\"Plot\"}},\"id\":\"2d27a512-e635-46b6-90d2-d81c7d6e973a\",\"type\":\"HelpTool\"},{\"attributes\":{\"data_source\":{\"id\":\"b683cf1c-359c-4662-b14a-3358e14626de\",\"type\":\"ColumnDataSource\"},\"glyph\":{\"id\":\"e4b0720f-7c93-468b-ad8a-0b33039b7301\",\"type\":\"Patch\"},\"hover_glyph\":null,\"nonselection_glyph\":{\"id\":\"48564cc3-5e37-4815-8023-d333450b4db6\",\"type\":\"Patch\"},\"selection_glyph\":null},\"id\":\"ba0f2fc6-fe7a-4e68-b4db-e8a5cfe43862\",\"type\":\"GlyphRenderer\"},{\"attributes\":{\"fill_alpha\":{\"value\":0.1},\"fill_color\":{\"value\":\"green\"},\"line_alpha\":{\"value\":0.1},\"line_color\":{\"value\":\"green\"},\"x\":{\"field\":\"x\"},\"y\":{\"field\":\"y\"}},\"id\":\"e4b0720f-7c93-468b-ad8a-0b33039b7301\",\"type\":\"Patch\"},{\"attributes\":{\"callback\":null,\"column_names\":[\"x\",\"y\"],\"data\":{\"x\":[0,1000,2000,3000,4000,5000,6000,7000,8000,9000,10000,11000,12000,13000,14000,15000,16000,17000,18000,19000,20000,21000,22000,23000,24000,25000,26000,27000,28000,29000,30000,31000,32000,33000,34000,35000,36000,37000,38000,39000,40000,41000,42000,43000,44000,45000,46000,47000,48000,49000,50000,51000,52000,53000,54000,55000,56000,57000,58000,59000,60000,61000,62000,63000,64000,65000,66000,67000,68000,69000,70000,71000,72000,73000,74000,75000,76000,77000,78000,79000,80000,81000,82000,83000,84000,85000,86000,87000,88000,89000,90000,91000,92000,93000,94000,95000,96000,97000,98000,99000,100000,101000,102000,103000,104000,105000,106000,107000,108000,109000,110000,111000,112000,113000,114000,115000,116000,117000,118000,119000,120000,121000,122000,123000,124000,125000,126000,127000,128000,129000,130000,131000,132000,133000,134000,135000,136000,137000,138000,139000,140000,141000,142000,143000,144000,145000,146000,147000,148000,149000,150000,151000,152000,153000,154000,155000,156000,157000,158000,159000,160000,161000,162000,163000,164000,165000,166000,167000,168000,169000,170000,171000,172000,173000,174000,175000,176000,177000,178000,179000,180000,181000,182000,183000,184000,185000,186000,187000,188000,189000,190000,191000,192000,193000,194000,195000,196000,197000,198000,199000,200000,201000,202000,203000,204000,205000,206000,207000,208000,209000,210000,211000,212000,213000,214000,215000,216000,217000,218000,219000,220000,221000,222000,223000,224000,225000,226000,227000,228000,229000,230000,231000,232000,233000,234000,235000,236000,237000,238000,239000,240000,241000,242000,243000,244000,245000,246000,247000,248000,249000,250000,251000,252000,253000,254000,255000,256000,257000,258000,259000,260000,261000,262000,263000,264000,265000,266000,267000,268000,269000,270000,271000,272000,273000,274000,275000,276000,277000,278000,279000,280000,281000,282000,283000,284000,285000,286000,287000,288000,289000,290000,291000,292000,293000,294000,295000,296000,297000,298000,299000,300000,301000,302000,303000,304000,305000,306000,307000,308000,309000,310000,311000,312000,313000,314000,315000,316000,317000,318000,319000,320000,321000,322000,323000,324000,325000,326000,327000,328000,329000,330000,331000,332000,333000,334000,335000,336000,337000,338000,339000,340000,341000,342000,343000,344000,345000,346000,347000,348000,349000,350000,351000,352000,353000,354000,355000,356000,357000,358000,359000,360000,361000,362000,363000,364000,365000,366000,367000,368000,369000,370000,371000,372000,373000,374000,375000,376000,377000,378000,379000,380000,381000,382000,383000,384000,385000,386000,387000,388000,389000,390000,391000,392000,393000,394000,395000,396000,397000,398000,399000,400000,401000,402000,403000,404000,405000,406000,407000,408000,409000,410000,411000,412000,413000,414000,415000,416000,417000,418000,419000,420000,421000,422000,423000,424000,425000,426000,427000,428000,429000,430000,431000,432000,433000,434000,435000,436000,437000,438000,439000,440000,441000,442000,443000,444000,445000,446000,447000,448000,449000,450000,451000,452000,453000,454000,455000,456000,457000,458000,459000,460000,461000,462000,463000,464000,465000,466000,467000,468000,469000,470000,471000,472000,473000,474000,475000,476000,477000,478000,479000,480000,481000,482000,483000,484000,485000,486000,487000,488000,489000,490000,491000,492000,493000,494000,495000,496000,497000,498000,499000,500000,501000,502000,503000,504000,505000,506000,507000,508000,509000,510000,511000,512000,513000,514000,515000,516000,517000,518000,519000,520000,521000,522000,523000,524000,525000,526000,527000,528000,529000,530000,531000,532000,533000,534000,535000,536000,537000,538000,539000,540000,541000,542000,543000,544000,545000,546000,547000,548000,549000,550000,551000,552000,553000,554000,555000,556000,557000,558000,559000,560000,561000,562000,563000,564000,565000,566000,567000,568000,569000,570000,571000,572000,573000,574000,575000,576000,577000,578000,579000,580000,581000,582000,583000,584000,585000,586000,587000,588000,589000,590000,591000,592000,593000,594000,595000,596000,597000,598000,599000,600000],\"y\":{\"__ndarray__\":\"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\",\"dtype\":\"float64\",\"shape\":[600]}}},\"id\":\"609475a8-6f3d-4204-ade5-aed9c2c9cef8\",\"type\":\"ColumnDataSource\"},{\"attributes\":{},\"id\":\"895d6e7b-a366-41ae-ac3f-1a52f2af2b9b\",\"type\":\"BasicTickFormatter\"},{\"attributes\":{\"data_source\":{\"id\":\"9669381c-d1b3-4e1c-9421-db4c19ab4e3a\",\"type\":\"ColumnDataSource\"},\"glyph\":{\"id\":\"3e977708-e0d1-4090-9618-639d1d2d662c\",\"type\":\"Patch\"},\"hover_glyph\":null,\"nonselection_glyph\":{\"id\":\"b657988d-65bf-4cf8-8aed-9eb5348ae0a6\",\"type\":\"Patch\"},\"selection_glyph\":null},\"id\":\"6a37281e-e5d5-49f2-8e69-d2c36367f8a7\",\"type\":\"GlyphRenderer\"},{\"attributes\":{\"fill_alpha\":{\"value\":0.1},\"fill_color\":{\"value\":\"#1f77b4\"},\"line_alpha\":{\"value\":0.1},\"line_color\":{\"value\":\"#1f77b4\"},\"x\":{\"field\":\"x\"},\"y\":{\"field\":\"y\"}},\"id\":\"b657988d-65bf-4cf8-8aed-9eb5348ae0a6\",\"type\":\"Patch\"},{\"attributes\":{\"data_source\":{\"id\":\"609475a8-6f3d-4204-ade5-aed9c2c9cef8\",\"type\":\"ColumnDataSource\"},\"glyph\":{\"id\":\"79857de3-cdcc-490b-b910-0b9b7204c263\",\"type\":\"Line\"},\"hover_glyph\":null,\"nonselection_glyph\":{\"id\":\"0b900944-33df-46f5-b822-13781e44eed4\",\"type\":\"Line\"},\"selection_glyph\":null},\"id\":\"2232a7b8-fa44-4c27-bf68-5e3a6bbc7990\",\"type\":\"GlyphRenderer\"},{\"attributes\":{\"line_alpha\":{\"value\":0.1},\"line_color\":{\"value\":\"#1f77b4\"},\"line_width\":{\"value\":2},\"x\":{\"field\":\"x\"},\"y\":{\"field\":\"y\"}},\"id\":\"0b900944-33df-46f5-b822-13781e44eed4\",\"type\":\"Line\"},{\"attributes\":{\"callback\":null,\"column_names\":[\"x\",\"y\"],\"data\":{\"x\":[0,1000,2000,3000,4000,5000,6000,7000,8000,9000,10000,11000,12000,13000,14000,15000,16000,17000,18000,19000,20000,21000,22000,23000,24000,25000,26000,27000,28000,29000,30000,31000,32000,33000,34000,35000,36000,37000,38000,39000,40000,41000,42000,43000,44000,45000,46000,47000,48000,49000,50000,51000,52000,53000,54000,55000,56000,57000,58000,59000,60000,61000,62000,63000,64000,65000,66000,67000,68000,69000,70000,71000,72000,73000,74000,75000,76000,77000,78000,79000,80000,81000,82000,83000,84000,85000,86000,87000,88000,89000,90000,91000,92000,93000,94000,95000,96000,97000,98000,99000,100000,101000,102000,103000,104000,105000,106000,107000,108000,109000,110000,111000,112000,113000,114000,115000,116000,117000,118000,119000,120000,121000,122000,123000,124000,125000,126000,127000,128000,129000,130000,131000,132000,133000,134000,135000,136000,137000,138000,139000,140000,141000,142000,143000,144000,145000,146000,147000,148000,149000,150000,151000,152000,153000,154000,155000,156000,157000,158000,159000,160000,161000,162000,163000,164000,165000,166000,167000,168000,169000,170000,171000,172000,173000,174000,175000,176000,177000,178000,179000,180000,181000,182000,183000,184000,185000,186000,187000,188000,189000,190000,191000,192000,193000,194000,195000,196000,197000,198000,199000,200000,201000,202000,203000,204000,205000,206000,207000,208000,209000,210000,211000,212000,213000,214000,215000,216000,217000,218000,219000,220000,221000,222000,223000,224000,225000,226000,227000,228000,229000,230000,231000,232000,233000,234000,235000,236000,237000,238000,239000,240000,241000,242000,243000,244000,245000,246000,247000,248000,249000,250000,251000,252000,253000,254000,255000,256000,257000,258000,259000,260000,261000,262000,263000,264000,265000,266000,267000,268000,269000,270000,271000,272000,273000,274000,275000,276000,277000,278000,279000,280000,281000,282000,283000,284000,285000,286000,287000,288000,289000,290000,291000,292000,293000,294000,295000,296000,297000,298000,299000,300000,301000,302000,303000,304000,305000,306000,307000,308000,309000,310000,311000,312000,313000,314000,315000,316000,317000,318000,319000,320000,321000,322000,323000,324000,325000,326000,327000,328000,329000,330000,331000,332000,333000,334000,335000,336000,337000,338000,339000,340000,341000,342000,343000,344000,345000,346000,347000,348000,349000,350000,351000,352000,353000,354000,355000,356000,357000,358000,359000,360000,361000,362000,363000,364000,365000,366000,367000,368000,369000,370000,371000,372000,373000,374000,375000,376000,377000,378000,379000,380000,381000,382000,383000,384000,385000,386000,387000,388000,389000,390000,391000,392000,393000,394000,395000,396000,397000,398000,399000,400000,401000,402000,403000,404000,405000,406000,407000,408000,409000,410000,411000,412000,413000,414000,415000,416000,417000,418000,419000,420000,421000,422000,423000,424000,425000,426000,427000,428000,429000,430000,431000,432000,433000,434000,435000,436000,437000,438000,439000,440000,441000,442000,443000,444000,445000,446000,447000,448000,449000,450000,451000,452000,453000,454000,455000,456000,457000,458000,459000,460000,461000,462000,463000,464000,465000,466000,467000,468000,469000,470000,471000,472000,473000,474000,475000,476000,477000,478000,479000,480000,481000,482000,483000,484000,485000,486000,487000,488000,489000,490000,491000,492000,493000,494000,495000,496000,497000,498000,499000,500000,501000,502000,503000,504000,505000,506000,507000,508000,509000,510000,511000,512000,513000,514000,515000,516000,517000,518000,519000,520000,521000,522000,523000,524000,525000,526000,527000,528000,529000,530000,531000,532000,533000,534000,535000,536000,537000,538000,539000,540000,541000,542000,543000,544000,545000,546000,547000,548000,549000,550000,551000,552000,553000,554000,555000,556000,557000,558000,559000,560000,561000,562000,563000,564000,565000,566000,567000,568000,569000,570000,571000,572000,573000,574000,575000,576000,577000,578000,579000,580000,581000,582000,583000,584000,585000,586000,587000,588000,589000,590000,591000,592000,593000,594000,595000,596000,597000,598000,599000,600000],\"y\":{\"__ndarray__\":\"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\",\"dtype\":\"float64\",\"shape\":[600]}}},\"id\":\"6aebdc7c-473b-4bd4-a26b-d0656b0aba06\",\"type\":\"ColumnDataSource\"},{\"attributes\":{\"line_color\":{\"value\":\"green\"},\"line_width\":{\"value\":2},\"x\":{\"field\":\"x\"},\"y\":{\"field\":\"y\"}},\"id\":\"8fe4128f-ab46-48f1-89de-100991332750\",\"type\":\"Line\"},{\"attributes\":{\"callback\":null,\"column_names\":[\"x\",\"y\"],\"data\":{\"x\":[0,1000,2000,3000,4000,5000,6000,7000,8000,9000,10000,11000,12000,13000,14000,15000,16000,17000,18000,19000,20000,21000,22000,23000,24000,25000,26000,27000,28000,29000,30000,31000,32000,33000,34000,35000,36000,37000,38000,39000,40000,41000,42000,43000,44000,45000,46000,47000,48000,49000,50000,51000,52000,53000,54000,55000,56000,57000,58000,59000,60000,61000,62000,63000,64000,65000,66000,67000,68000,69000,70000,71000,72000,73000,74000,75000,76000,77000,78000,79000,80000,81000,82000,83000,84000,85000,86000,87000,88000,89000,90000,91000,92000,93000,94000,95000,96000,97000,98000,99000,100000,101000,102000,103000,104000,105000,106000,107000,108000,109000,110000,111000,112000,113000,114000,115000,116000,117000,118000,119000,120000,121000,122000,123000,124000,125000,126000,127000,128000,129000,130000,131000,132000,133000,134000,135000,136000,137000,138000,139000,140000,141000,142000,143000,144000,145000,146000,147000,148000,149000,150000,151000,152000,153000,154000,155000,156000,157000,158000,159000,160000,161000,162000,163000,164000,165000,166000,167000,168000,169000,170000,171000,172000,173000,174000,175000,176000,177000,178000,179000,180000,181000,182000,183000,184000,185000,186000,187000,188000,189000,190000,191000,192000,193000,194000,195000,196000,197000,198000,199000,200000,201000,202000,203000,204000,205000,206000,207000,208000,209000,210000,211000,212000,213000,214000,215000,216000,217000,218000,219000,220000,221000,222000,223000,224000,225000,226000,227000,228000,229000,230000,231000,232000,233000,234000,235000,236000,237000,238000,239000,240000,241000,242000,243000,244000,245000,246000,247000,248000,249000,250000,251000,252000,253000,254000,255000,256000,257000,258000,259000,260000,261000,262000,263000,264000,265000,266000,267000,268000,269000,270000,271000,272000,273000,274000,275000,276000,277000,278000,279000,280000,281000,282000,283000,284000,285000,286000,287000,288000,289000,290000,291000,292000,293000,294000,295000,296000,297000,298000,299000,300000,301000,302000,303000,304000,305000,306000,307000,308000,309000,310000,311000,312000,313000,314000,315000,316000,317000,318000,319000,320000,321000,322000,323000,324000,325000,326000,327000,328000,329000,330000,331000,332000,333000,334000,335000,336000,337000,338000,339000,340000,341000,342000,343000,344000,345000,346000,347000,348000,349000,350000,351000,352000,353000,354000,355000,356000,357000,358000,359000,360000,361000,362000,363000,364000,365000,366000,367000,368000,369000,370000,371000,372000,373000,374000,375000,376000,377000,378000,379000,380000,381000,382000,383000,384000,385000,386000,387000,388000,389000,390000,391000,392000,393000,394000,395000,396000,397000,398000,399000,400000,401000,402000,403000,404000,405000,406000,407000,408000,409000,410000,411000,412000,413000,414000,415000,416000,417000,418000,419000,420000,421000,422000,423000,424000,425000,426000,427000,428000,429000,430000,431000,432000,433000,434000,435000,436000,437000,438000,439000,440000,441000,442000,443000,444000,445000,446000,447000,448000,449000,450000,451000,452000,453000,454000,455000,456000,457000,458000,459000,460000,461000,462000,463000,464000,465000,466000,467000,468000,469000,470000,471000,472000,473000,474000,475000,476000,477000,478000,479000,480000,481000,482000,483000,484000,485000,486000,487000,488000,489000,490000,491000,492000,493000,494000,495000,496000,497000,498000,499000,500000,501000,502000,503000,504000,505000,506000,507000,508000,509000,510000,511000,512000,513000,514000,515000,516000,517000,518000,519000,520000,521000,522000,523000,524000,525000,526000,527000,528000,529000,530000,531000,532000,533000,534000,535000,536000,537000,538000,539000,540000,541000,542000,543000,544000,545000,546000,547000,548000,549000,550000,551000,552000,553000,554000,555000,556000,557000,558000,559000,560000,561000,562000,563000,564000,565000,566000,567000,568000,569000,570000,571000,572000,573000,574000,575000,576000,577000,578000,579000,580000,581000,582000,583000,584000,585000,586000,587000,588000,589000,590000,591000,592000,593000,594000,595000,596000,597000,598000,599000,600000,600000,599000,598000,597000,596000,595000,594000,593000,592000,591000,590000,589000,588000,587000,586000,585000,584000,583000,582000,581000,580000,579000,578000,577000,576000,575000,574000,573000,572000,571000,570000,569000,568000,567000,566000,565000,564000,563000,562000,561000,560000,559000,558000,557000,556000,555000,554000,553000,552000,551000,550000,549000,548000,547000,546000,545000,544000,543000,542000,541000,540000,539000,538000,537000,536000,535000,534000,533000,532000,531000,530000,529000,528000,527000,526000,525000,524000,523000,522000,521000,520000,519000,518000,517000,516000,515000,514000,513000,512000,511000,510000,509000,508000,507000,506000,505000,504000,503000,502000,501000,500000,499000,498000,497000,496000,495000,494000,493000,492000,491000,490000,489000,488000,487000,486000,485000,484000,483000,482000,481000,480000,479000,478000,477000,476000,475000,474000,473000,472000,471000,470000,469000,468000,467000,466000,465000,464000,463000,462000,461000,460000,459000,458000,457000,456000,455000,454000,453000,452000,451000,450000,449000,448000,447000,446000,445000,444000,443000,442000,441000,440000,439000,438000,437000,436000,435000,434000,433000,432000,431000,430000,429000,428000,427000,426000,425000,424000,423000,422000,421000,420000,419000,418000,417000,416000,415000,414000,413000,412000,411000,410000,409000,408000,407000,406000,405000,404000,403000,402000,401000,400000,399000,398000,397000,396000,395000,394000,393000,392000,391000,390000,389000,388000,387000,386000,385000,384000,383000,382000,381000,380000,379000,378000,377000,376000,375000,374000,373000,372000,371000,370000,369000,368000,367000,366000,365000,364000,363000,362000,361000,360000,359000,358000,357000,356000,355000,354000,353000,352000,351000,350000,349000,348000,347000,346000,345000,344000,343000,342000,341000,340000,339000,338000,337000,336000,335000,334000,333000,332000,331000,330000,329000,328000,327000,326000,325000,324000,323000,322000,321000,320000,319000,318000,317000,316000,315000,314000,313000,312000,311000,310000,309000,308000,307000,306000,305000,304000,303000,302000,301000,300000,299000,298000,297000,296000,295000,294000,293000,292000,291000,290000,289000,288000,287000,286000,285000,284000,283000,282000,281000,280000,279000,278000,277000,276000,275000,274000,273000,272000,271000,270000,269000,268000,267000,266000,265000,264000,263000,262000,261000,260000,259000,258000,257000,256000,255000,254000,253000,252000,251000,250000,249000,248000,247000,246000,245000,244000,243000,242000,241000,240000,239000,238000,237000,236000,235000,234000,233000,232000,231000,230000,229000,228000,227000,226000,225000,224000,223000,222000,221000,220000,219000,218000,217000,216000,215000,214000,213000,212000,211000,210000,209000,208000,207000,206000,205000,204000,203000,202000,201000,200000,199000,198000,197000,196000,195000,194000,193000,192000,191000,190000,189000,188000,187000,186000,185000,184000,183000,182000,181000,180000,179000,178000,177000,176000,175000,174000,173000,172000,171000,170000,169000,168000,167000,166000,165000,164000,163000,162000,161000,160000,159000,158000,157000,156000,155000,154000,153000,152000,151000,150000,149000,148000,147000,146000,145000,144000,143000,142000,141000,140000,139000,138000,137000,136000,135000,134000,133000,132000,131000,130000,129000,128000,127000,126000,125000,124000,123000,122000,121000,120000,119000,118000,117000,116000,115000,114000,113000,112000,111000,110000,109000,108000,107000,106000,105000,104000,103000,102000,101000,100000,99000,98000,97000,96000,95000,94000,93000,92000,91000,90000,89000,88000,87000,86000,85000,84000,83000,82000,81000,80000,79000,78000,77000,76000,75000,74000,73000,72000,71000,70000,69000,68000,67000,66000,65000,64000,63000,62000,61000,60000,59000,58000,57000,56000,55000,54000,53000,52000,51000,50000,49000,48000,47000,46000,45000,44000,43000,42000,41000,40000,39000,38000,37000,36000,35000,34000,33000,32000,31000,30000,29000,28000,27000,26000,25000,24000,23000,22000,21000,20000,19000,18000,17000,16000,15000,14000,13000,12000,11000,10000,9000,8000,7000,6000,5000,4000,3000,2000,1000,0],\"y\":[1,77,77,134,138,138,154,191,195,195,203,203,203,203,203,203,203,203,203,203,203,207,207,207,207,207,207,207,207,211,211,211,211,211,211,211,211,211,211,211,350,366,368,368,368,368,368,368,368,397,397,397,397,397,397,397,397,457,496,523,523,523,523,524,575,575,619,642,642,642,642,642,642,642,642,642,642,642,642,642,642,642,642,642,642,642,642,642,642,642,642,642,642,642,642,642,642,642,642,642,642,642,642,642,642,642,642,642,642,642,642,642,642,642,642,642,642,642,642,642,642,642,642,642,642,642,642,642,642,642,642,642,642,642,642,642,642,642,642,642,642,642,642,642,642,642,642,642,642,642,642,642,642,642,642,642,642,642,642,642,642,642,642,642,642,642,642,642,642,642,642,642,642,642,642,642,642,642,642,642,642,642,642,642,642,642,642,642,702,702,702,702,702,702,702,702,702,702,708,708,710,710,710,712,712,712,712,712,712,712,712,712,712,712,712,712,712,712,712,712,712,712,712,712,712,712,712,712,712,712,712,712,712,712,712,712,712,712,712,712,712,712,712,712,712,712,712,712,712,712,712,712,712,712,712,712,712,712,712,712,712,712,712,712,712,712,712,712,712,712,712,712,712,712,712,712,712,712,712,713,713,713,713,713,724,724,724,724,730,783,783,783,783,783,783,783,783,783,785,785,785,836,838,839,839,847,888,1035,1133,1199,1324,1435,1436,1471,1479,1484,1484,1590,1697,1698,1698,1725,1729,1733,1737,1759,1765,1767,1769,1769,1769,1781,1784,1784,1810,1858,1858,1863,1863,1863,1863,1872,1872,1872,1872,1872,1872,1872,1872,1872,1872,1874,1874,1874,1874,1874,1875,1915,1915,1933,1937,1937,1941,1947,1947,1949,1949,1949,1949,1949,1949,1954,1962,1974,1974,1974,1974,1974,1974,1975,1980,2050,2079,2083,2151,2152,2152,2158,2163,2163,2163,2264,2291,2291,2291,2291,2291,2291,2293,2299,2299,2299,2307,2310,2310,2310,2310,2310,2310,2310,2310,2310,2310,2371,2413,2413,2427,2427,2427,2427,2427,2427,2427,2427,2427,2427,2427,2427,2427,2427,2427,2427,2427,2427,2427,2427,2427,2427,2427,2427,2427,2427,2427,2427,2427,2427,2427,2427,2427,2427,2427,2427,2427,2427,2427,2427,2427,2427,2427,2427,2427,2427,2427,2427,2427,2427,2427,2427,2427,2427,2427,2427,2427,2427,2427,2427,2427,2427,2427,2427,2427,2427,2427,2427,2427,2427,2427,2427,2427,2427,2427,2427,2427,2427,2427,2427,2427,2427,2427,2427,2427,2427,2427,2427,2427,2427,2427,2427,2427,2427,2427,2427,2427,2427,2427,2427,2427,2427,2427,2427,2427,2427,2427,2427,2427,2427,2427,2427,2427,2427,2427,2427,2427,2427,2427,2427,2427,2427,2427,2427,2427,2427,2427,2427,2427,2427,2427,2427,2427,2427,2427,2427,2427,2427,2427,2427,2427,2427,2427,2427,2427,2427,2427,2427,2427,2427,2427,2427,2427,2427,2427,2427,2427,2427,2427,2427,2427,2427,2427,2427,2427,2427,2427,2427,2427,2427,2427,2427,2427,2427,2427,2427,2427,2427,2427,2427,2427,2427,2427,2427,3779,3779,3779,3779,3779,3779,3779,3779,3779,3779,3779,3779,3779,3779,3779,3779,3779,3779,3779,3779,3779,3779,3779,3779,3779,3779,3779,3779,3779,3779,3779,3779,3779,3779,3779,3779,3779,3779,3779,3779,3779,3779,3779,3779,3779,3779,3779,3779,3779,3779,3779,3779,3779,3779,3779,3779,3779,3779,3779,3779,3779,3779,3779,3779,3779,3779,3779,3779,3779,3779,3779,3779,3779,3779,3779,3779,3779,3779,3779,3779,3779,3779,3779,3779,3779,3779,3779,3779,3779,3779,3779,3779,3779,3779,3779,3779,3779,3779,3779,3779,3779,3773,3773,3773,3773,3773,3773,3773,3773,3767,3767,3767,3767,3767,3767,3767,3767,3767,3767,3767,3767,3767,3767,3767,3767,3767,3767,3767,3767,3767,3767,3767,3767,3767,3767,3767,3767,3766,3766,3766,3766,3766,3766,3766,3766,3766,3766,3760,3756,3729,3689,3679,3679,3679,3679,3679,3679,3679,3679,3679,3679,3679,3679,3679,3679,3679,3679,3679,3679,3679,3679,3678,3664,3656,3621,3621,3621,3621,3621,3621,3621,3621,3621,3621,3621,3621,3621,3602,3563,3563,3563,3563,3559,3522,3518,3518,3518,3518,3518,3518,3518,3518,3518,3518,3518,3518,3518,3518,3518,3518,3518,3518,3518,3518,3518,3518,3518,3518,3518,3518,3518,3518,3518,3518,3518,3518,3518,3518,3518,3518,3518,3518,3518,3518,3497,3494,3478,3366,3288,3288,3288,3282,3263,3190,3190,3190,3188,3106,3099,3099,3099,3099,3099,3099,3099,3099,3099,3099,3099,3099,3099,3099,3099,3099,3099,3099,3099,3099,3099,3099,3099,3099,3099,3099,3099,3099,3099,3099,3099,3099,3099,3099,3099,3099,3099,3099,3099,3099,3099,3099,3099,3099,3099,3099,3099,3099,3099,3099,3099,3099,3099,3099,3099,3099,3099,3099,3099,3099,3099,3099,3099,3099,3099,3099,3099,3099,3099,3099,3099,3099,3099,3097,3097,3097,3097,3097,3097,3097,3097,3097,3097,3097,3097,3097,3097,3097,3097,3097,3097,3097,3097,3097,3097,3097,3096,3096,3096,3093,3093,3093,3093,3093,3093,3093,3093,3093,3091,3091,3091,3091,3091,3091,3091,3091,3083,3050,3050,3050,3047,3047,3047,3047,3047,3047,3047,3045,3038,3038,3038,3038,3038,3038,3038,3037,3037,3037,3035,3035,3035,3035,3035,3034,3034,3034,3031,3031,3026,3026,3017,3015,3000,3000,3000,3000,2993,2934,2912,2905,2905,2905,2904,2903,2902,2902,2902,2902,2902,2899,2835,2830,2807,2807,2805,2805,2805,2805,2805,2805,2805,2805,2805,2805,2805,2805,2805,2805,2805,2805,2805,2805,2805,2805,2805,2789,2710,2710,2710,2710,2710,2710,2710,2710,2710,2710,2709,2620,2620,2620,2620,2620,2620,2620,2620,2620,2620,2620,2620,2620,2620,2620,2620,2620,2619,2619,2619,2618,2618,2618,2618,2617,2617,2617,2616,2616,2616,2616,2616,2616,2616,2616,2614,2610,2610,2608,2608,2608,2608,2604,2604,2604,2604,2604,2604,2604,2604,2604,2604,2604,2554,2482,2482,2460,2412,2410,2399,2391,2326,2282,2274,2262,2259,2175,2175,2173,2173,2173,2158,2098,2098,2096,2096,2095,2055,2037,2037,2037,2031,2028,2028,2028,2028,2028,2028,2028,2028,2028,2028,2022,2022,2022,2019,2019,1907,1834,1740,1740,1734,1732,1691,1630,1612,1489,1466,1466,1400,1328,1314,1282,1282,1279,1279,1279,1274,1274,1274,1256,1256,1256,1211,1179,1150,1094,1052,1004,1004,1001,960,960,849,829,613,590,563,548,402,359,255,195,164,1]}},\"id\":\"b683cf1c-359c-4662-b14a-3358e14626de\",\"type\":\"ColumnDataSource\"},{\"attributes\":{\"fill_alpha\":{\"value\":0.1},\"fill_color\":{\"value\":\"#1f77b4\"},\"line_alpha\":{\"value\":0.1},\"line_color\":{\"value\":\"#1f77b4\"},\"x\":{\"field\":\"x\"},\"y\":{\"field\":\"y\"}},\"id\":\"48564cc3-5e37-4815-8023-d333450b4db6\",\"type\":\"Patch\"},{\"attributes\":{\"line_alpha\":{\"value\":0.1},\"line_color\":{\"value\":\"#1f77b4\"},\"line_width\":{\"value\":2},\"x\":{\"field\":\"x\"},\"y\":{\"field\":\"y\"}},\"id\":\"606aa558-93f2-46cf-b764-4e28e7c21410\",\"type\":\"Line\"},{\"attributes\":{\"data_source\":{\"id\":\"6aebdc7c-473b-4bd4-a26b-d0656b0aba06\",\"type\":\"ColumnDataSource\"},\"glyph\":{\"id\":\"8fe4128f-ab46-48f1-89de-100991332750\",\"type\":\"Line\"},\"hover_glyph\":null,\"nonselection_glyph\":{\"id\":\"606aa558-93f2-46cf-b764-4e28e7c21410\",\"type\":\"Line\"},\"selection_glyph\":null},\"id\":\"ce8381e2-6fe6-4f76-a27e-5ea8b27c661d\",\"type\":\"GlyphRenderer\"},{\"attributes\":{\"label\":{\"value\":\"300k Xp 4 NScaler\"},\"renderers\":[{\"id\":\"ce8381e2-6fe6-4f76-a27e-5ea8b27c661d\",\"type\":\"GlyphRenderer\"}]},\"id\":\"38d8b565-3cf4-4b75-971b-b62f5f3d72c6\",\"type\":\"LegendItem\"},{\"attributes\":{},\"id\":\"a8692916-3700-4247-a722-aec9951dbdbb\",\"type\":\"ToolEvents\"},{\"attributes\":{\"callback\":null,\"column_names\":[\"x\",\"y\"],\"data\":{\"x\":[0,1000,2000,3000,4000,5000,6000,7000,8000,9000,10000,11000,12000,13000,14000,15000,16000,17000,18000,19000,20000,21000,22000,23000,24000,25000,26000,27000,28000,29000,30000,31000,32000,33000,34000,35000,36000,37000,38000,39000,40000,41000,42000,43000,44000,45000,46000,47000,48000,49000,50000,51000,52000,53000,54000,55000,56000,57000,58000,59000,60000,61000,62000,63000,64000,65000,66000,67000,68000,69000,70000,71000,72000,73000,74000,75000,76000,77000,78000,79000,80000,81000,82000,83000,84000,85000,86000,87000,88000,89000,90000,91000,92000,93000,94000,95000,96000,97000,98000,99000,100000,101000,102000,103000,104000,105000,106000,107000,108000,109000,110000,111000,112000,113000,114000,115000,116000,117000,118000,119000,120000,121000,122000,123000,124000,125000,126000,127000,128000,129000,130000,131000,132000,133000,134000,135000,136000,137000,138000,139000,140000,141000,142000,143000,144000,145000,146000,147000,148000,149000,150000,151000,152000,153000,154000,155000,156000,157000,158000,159000,160000,161000,162000,163000,164000,165000,166000,167000,168000,169000,170000,171000,172000,173000,174000,175000,176000,177000,178000,179000,180000,181000,182000,183000,184000,185000,186000,187000,188000,189000,190000,191000,192000,193000,194000,195000,196000,197000,198000,199000,200000,201000,202000,203000,204000,205000,206000,207000,208000,209000,210000,211000,212000,213000,214000,215000,216000,217000,218000,219000,220000,221000,222000,223000,224000,225000,226000,227000,228000,229000,230000,231000,232000,233000,234000,235000,236000,237000,238000,239000,240000,241000,242000,243000,244000,245000,246000,247000,248000,249000,250000,251000,252000,253000,254000,255000,256000,257000,258000,259000,260000,261000,262000,263000,264000,265000,266000,267000,268000,269000,270000,271000,272000,273000,274000,275000,276000,277000,278000,279000,280000,281000,282000,283000,284000,285000,286000,287000,288000,289000,290000,291000,292000,293000,294000,295000,296000,297000,298000,299000,300000,301000,302000,303000,304000,305000,306000,307000,308000,309000,310000,311000,312000,313000,314000,315000,316000,317000,318000,319000,320000,321000,322000,323000,324000,325000,326000,327000,328000,329000,330000,331000,332000,333000,334000,335000,336000,337000,338000,339000,340000,341000,342000,343000,344000,345000,346000,347000,348000,349000,350000,351000,352000,353000,354000,355000,356000,357000,358000,359000,360000,361000,362000,363000,364000,365000,366000,367000,368000,369000,370000,371000,372000,373000,374000,375000,376000,377000,378000,379000,380000,381000,382000,383000,384000,385000,386000,387000,388000,389000,390000,391000,392000,393000,394000,395000,396000,397000,398000,399000,400000,401000,402000,403000,404000,405000,406000,407000,408000,409000,410000,411000,412000,413000,414000,415000,416000,417000,418000,419000,420000,421000,422000,423000,424000,425000,426000,427000,428000,429000,430000,431000,432000,433000,434000,435000,436000,437000,438000,439000,440000,441000,442000,443000,444000,445000,446000,447000,448000,449000,450000,451000,452000,453000,454000,455000,456000,457000,458000,459000,460000,461000,462000,463000,464000,465000,466000,467000,468000,469000,470000,471000,472000,473000,474000,475000,476000,477000,478000,479000,480000,481000,482000,483000,484000,485000,486000,487000,488000,489000,490000,491000,492000,493000,494000,495000,496000,497000,498000,499000,500000,501000,502000,503000,504000,505000,506000,507000,508000,509000,510000,511000,512000,513000,514000,515000,516000,517000,518000,519000,520000,521000,522000,523000,524000,525000,526000,527000,528000,529000,530000,531000,532000,533000,534000,535000,536000,537000,538000,539000,540000,541000,542000,543000,544000,545000,546000,547000,548000,549000,550000,551000,552000,553000,554000,555000,556000,557000,558000,559000,560000,561000,562000,563000,564000,565000,566000,567000,568000,569000,570000,571000,572000,573000,574000,575000,576000,577000,578000,579000,580000,581000,582000,583000,584000,585000,586000,587000,588000,589000,590000,591000,592000,593000,594000,595000,596000,597000,598000,599000,600000,600000,599000,598000,597000,596000,595000,594000,593000,592000,591000,590000,589000,588000,587000,586000,585000,584000,583000,582000,581000,580000,579000,578000,577000,576000,575000,574000,573000,572000,571000,570000,569000,568000,567000,566000,565000,564000,563000,562000,561000,560000,559000,558000,557000,556000,555000,554000,553000,552000,551000,550000,549000,548000,547000,546000,545000,544000,543000,542000,541000,540000,539000,538000,537000,536000,535000,534000,533000,532000,531000,530000,529000,528000,527000,526000,525000,524000,523000,522000,521000,520000,519000,518000,517000,516000,515000,514000,513000,512000,511000,510000,509000,508000,507000,506000,505000,504000,503000,502000,501000,500000,499000,498000,497000,496000,495000,494000,493000,492000,491000,490000,489000,488000,487000,486000,485000,484000,483000,482000,481000,480000,479000,478000,477000,476000,475000,474000,473000,472000,471000,470000,469000,468000,467000,466000,465000,464000,463000,462000,461000,460000,459000,458000,457000,456000,455000,454000,453000,452000,451000,450000,449000,448000,447000,446000,445000,444000,443000,442000,441000,440000,439000,438000,437000,436000,435000,434000,433000,432000,431000,430000,429000,428000,427000,426000,425000,424000,423000,422000,421000,420000,419000,418000,417000,416000,415000,414000,413000,412000,411000,410000,409000,408000,407000,406000,405000,404000,403000,402000,401000,400000,399000,398000,397000,396000,395000,394000,393000,392000,391000,390000,389000,388000,387000,386000,385000,384000,383000,382000,381000,380000,379000,378000,377000,376000,375000,374000,373000,372000,371000,370000,369000,368000,367000,366000,365000,364000,363000,362000,361000,360000,359000,358000,357000,356000,355000,354000,353000,352000,351000,350000,349000,348000,347000,346000,345000,344000,343000,342000,341000,340000,339000,338000,337000,336000,335000,334000,333000,332000,331000,330000,329000,328000,327000,326000,325000,324000,323000,322000,321000,320000,319000,318000,317000,316000,315000,314000,313000,312000,311000,310000,309000,308000,307000,306000,305000,304000,303000,302000,301000,300000,299000,298000,297000,296000,295000,294000,293000,292000,291000,290000,289000,288000,287000,286000,285000,284000,283000,282000,281000,280000,279000,278000,277000,276000,275000,274000,273000,272000,271000,270000,269000,268000,267000,266000,265000,264000,263000,262000,261000,260000,259000,258000,257000,256000,255000,254000,253000,252000,251000,250000,249000,248000,247000,246000,245000,244000,243000,242000,241000,240000,239000,238000,237000,236000,235000,234000,233000,232000,231000,230000,229000,228000,227000,226000,225000,224000,223000,222000,221000,220000,219000,218000,217000,216000,215000,214000,213000,212000,211000,210000,209000,208000,207000,206000,205000,204000,203000,202000,201000,200000,199000,198000,197000,196000,195000,194000,193000,192000,191000,190000,189000,188000,187000,186000,185000,184000,183000,182000,181000,180000,179000,178000,177000,176000,175000,174000,173000,172000,171000,170000,169000,168000,167000,166000,165000,164000,163000,162000,161000,160000,159000,158000,157000,156000,155000,154000,153000,152000,151000,150000,149000,148000,147000,146000,145000,144000,143000,142000,141000,140000,139000,138000,137000,136000,135000,134000,133000,132000,131000,130000,129000,128000,127000,126000,125000,124000,123000,122000,121000,120000,119000,118000,117000,116000,115000,114000,113000,112000,111000,110000,109000,108000,107000,106000,105000,104000,103000,102000,101000,100000,99000,98000,97000,96000,95000,94000,93000,92000,91000,90000,89000,88000,87000,86000,85000,84000,83000,82000,81000,80000,79000,78000,77000,76000,75000,74000,73000,72000,71000,70000,69000,68000,67000,66000,65000,64000,63000,62000,61000,60000,59000,58000,57000,56000,55000,54000,53000,52000,51000,50000,49000,48000,47000,46000,45000,44000,43000,42000,41000,40000,39000,38000,37000,36000,35000,34000,33000,32000,31000,30000,29000,28000,27000,26000,25000,24000,23000,22000,21000,20000,19000,18000,17000,16000,15000,14000,13000,12000,11000,10000,9000,8000,7000,6000,5000,4000,3000,2000,1000,0],\"y\":[1,77,77,78,88,152,168,183,187,203,203,207,207,207,207,207,207,207,207,225,225,225,225,225,225,225,225,225,225,225,225,225,225,225,225,225,225,225,225,225,225,225,225,225,225,225,225,225,225,225,225,225,225,225,225,225,225,225,225,225,225,225,225,225,225,225,225,225,225,225,225,225,225,225,225,225,225,225,225,225,225,225,225,225,225,225,225,225,225,225,225,225,225,225,225,225,225,225,225,225,225,225,225,225,225,225,225,225,225,225,225,225,225,225,225,225,225,225,225,225,225,225,225,225,225,225,225,225,225,225,225,225,225,225,225,225,225,225,225,225,225,225,225,225,225,225,225,225,225,225,225,225,225,225,225,225,225,225,225,225,225,225,225,225,225,225,225,225,225,225,225,225,226,226,226,226,226,226,226,226,226,226,226,226,226,226,226,226,241,358,359,414,422,569,598,598,607,607,607,607,607,607,608,608,608,608,608,608,608,608,608,608,608,608,608,608,608,608,608,608,608,608,608,608,608,608,608,608,608,608,608,608,608,608,608,608,608,608,608,608,608,608,608,608,608,608,608,608,608,608,608,608,608,608,608,608,608,608,608,608,608,608,608,608,608,608,608,608,608,608,608,608,608,608,608,608,608,608,608,608,608,608,608,608,608,608,608,608,608,608,608,608,608,608,608,608,608,609,725,769,831,837,837,841,841,845,853,858,878,878,878,878,878,900,900,900,900,900,900,900,900,900,900,900,923,1120,1151,1157,1157,1157,1161,1161,1163,1163,1174,1198,1340,1379,1411,1421,1461,1463,1471,1480,1480,1480,1480,1480,1480,1480,1492,1492,1492,1492,1492,1521,1532,1542,1635,1636,1636,1636,1636,1640,1646,1646,1685,1685,1696,1696,1697,1697,1697,1743,1767,1767,1767,1767,1785,1785,1786,1786,1786,1786,1786,1790,1790,1872,1907,1908,1908,1916,1916,1916,1916,1933,1954,1974,1974,1974,1974,1974,1978,1984,1984,1984,1984,1984,1984,1984,1984,1984,1984,1984,1984,1984,1984,1984,1984,1984,1984,2012,2012,2012,2012,2012,2012,2012,2012,2012,2012,2012,2012,2012,2012,2012,2012,2012,2012,2012,2013,2013,2013,2013,2013,2013,2037,2038,2039,2039,2039,2042,2042,2042,2042,2042,2042,2042,2042,2042,2042,2042,2042,2042,2042,2042,2042,2042,2042,2042,2042,2042,2042,2042,2042,2042,2042,2042,2042,2042,2042,2042,2042,2044,2044,2044,2044,2044,2044,2044,2044,2044,2044,2044,2044,2048,2048,2048,2048,2048,2048,2048,2048,2048,2048,2048,2048,2048,2048,2048,2048,2048,2048,2048,2048,2048,2048,2048,2048,2048,2048,2063,2063,2063,2063,2063,2063,2063,2063,2063,2063,2063,2063,2063,2063,2063,2063,2063,2063,2063,2063,2063,2063,2063,2063,2063,2133,2211,2321,2327,2343,2343,2345,2345,2375,2445,2451,2461,2461,2461,2461,2462,2462,2462,2462,2462,2462,2466,2466,2472,2472,2489,2489,2489,2492,2520,2648,2689,2689,2690,2690,2690,2690,2690,2690,2690,2690,2690,2690,2690,2690,2690,2690,2690,2690,2690,2690,2690,2690,2690,3781,3781,3781,3781,3781,3781,3781,3781,3781,3781,3781,3781,3781,3781,3781,3781,3781,3781,3781,3781,3781,3781,3781,3781,3781,3781,3781,3781,3781,3781,3781,3781,3781,3781,3781,3781,3781,3781,3781,3781,3781,3781,3781,3781,3781,3781,3781,3781,3781,3781,3781,3781,3781,3781,3781,3781,3781,3781,3781,3781,3781,3781,3781,3781,3781,3781,3781,3781,3781,3781,3781,3781,3781,3781,3781,3781,3781,3781,3781,3781,3781,3781,3781,3781,3781,3781,3781,3781,3781,3781,3781,3781,3781,3781,3781,3781,3781,3781,3781,3781,3781,3781,3781,3781,3781,3781,3781,3781,3781,3781,3781,3781,3781,3781,3781,3781,3781,3781,3781,3781,3781,3775,3775,3775,3775,3775,3775,3775,3775,3775,3775,3775,3775,3775,3775,3775,3775,3775,3775,3775,3775,3775,3775,3775,3775,3775,3775,3775,3775,3775,3775,3775,3775,3775,3775,3775,3775,3775,3775,3775,3775,3775,3775,3775,3775,3775,3775,3775,3775,3775,3775,3775,3775,3775,3775,3775,3775,3775,3775,3775,3775,3775,3775,3775,3775,3775,3775,3775,3775,3775,3775,3775,3775,3775,3775,3775,3775,3775,3775,3775,3775,3775,3775,3775,3775,3775,3775,3775,3775,3775,3775,3775,3775,3775,3762,3762,3762,3762,3762,3762,3762,3762,3762,3762,3760,3760,3760,3760,3760,3760,3760,3760,3760,3760,3760,3760,3760,3760,3760,3760,3760,3760,3760,3760,3760,3760,3760,3760,3760,3760,3760,3760,3760,3760,3760,3760,3760,3760,3760,3760,3760,3760,3760,3760,3760,3760,3760,3760,3760,3760,3760,3760,3760,3760,3760,3760,3760,3760,3760,3760,3760,3760,3760,3760,3760,3757,3757,3757,3757,3757,3757,3757,3757,3757,3757,3757,3757,3757,3756,3756,3756,3756,3756,3756,3756,3756,3756,3755,3755,3755,3755,3755,3755,3755,3752,3724,3723,3723,3723,3723,3723,3723,3723,3723,3723,3723,3723,3701,3701,3701,3701,3701,3701,3701,3701,3701,3701,3701,3701,3701,3701,3701,3701,3695,3667,3667,3667,3667,3667,3667,3667,3667,3667,3667,3667,3667,3667,3667,3667,3667,3667,3667,3667,3566,3566,3561,3505,3412,3410,3409,3408,3408,3408,3408,3408,3408,3408,3408,3408,3408,3407,3407,3407,3393,3363,3334,3296,3249,3215,3212,3119,3119,3115,3068,3068,3068,3068,3068,3068,3068,3068,3068,3068,3068,3068,3068,3068,3068,3068,3068,3068,3068,3068,3068,3068,3068,3068,3068,3068,3068,3068,3068,3064,3064,3064,3064,3064,3064,3064,3058,3058,3058,3058,3058,3058,3058,3058,3058,3058,3058,3058,3058,3058,3058,3058,3058,3058,3058,3050,3050,3050,3050,3047,3047,3047,3047,3047,3047,3047,3047,3047,3047,3044,3044,3044,3044,3044,3044,3044,3044,3044,3044,3044,3034,3034,3033,3033,3033,3030,3028,3025,2994,2926,2911,2911,2907,2907,2907,2907,2902,2901,2901,2892,2890,2890,2890,2890,2887,2881,2855,2853,2853,2853,2843,2814,2773,2721,2721,2719,2692,2692,2692,2691,2680,2667,2611,2583,2565,2561,2554,2538,2538,2535,2535,2535,2535,2535,2535,2535,2535,2535,2535,2535,2522,2515,2469,2375,2277,2261,2219,2056,1980,1935,1929,1928,1928,1927,1925,1825,1825,1825,1814,1804,1797,1623,1421,1421,1421,1421,1421,1421,1421,1416,1364,1245,1233,1232,1224,1224,1224,1222,1209,1208,1208,1208,1204,1096,1032,976,968,819,819,814,766,711,710,701,688,642,620,603,547,534,523,521,485,381,226,167,1]}},\"id\":\"9669381c-d1b3-4e1c-9421-db4c19ab4e3a\",\"type\":\"ColumnDataSource\"}],\"root_ids\":[\"1dc38383-c446-4552-b9ac-cbb3974aa66f\"]},\"title\":\"Bokeh Application\",\"version\":\"0.12.4\"}};\n",
       "            var render_items = [{\"docid\":\"13cb9147-fd2c-49b4-b96e-7956cf2b6e9b\",\"elementid\":\"d344cbe3-9c49-44c9-9739-1e71d45891ec\",\"modelid\":\"1dc38383-c446-4552-b9ac-cbb3974aa66f\"}];\n",
       "            \n",
       "            Bokeh.embed.embed_items(docs_json, render_items);\n",
       "          };\n",
       "          if (document.readyState != \"loading\") fn();\n",
       "          else document.addEventListener(\"DOMContentLoaded\", fn);\n",
       "        })();\n",
       "      },\n",
       "      function(Bokeh) {\n",
       "      }\n",
       "    ];\n",
       "  \n",
       "    function run_inline_js() {\n",
       "      \n",
       "      if ((window.Bokeh !== undefined) || (force === true)) {\n",
       "        for (var i = 0; i < inline_js.length; i++) {\n",
       "          inline_js[i](window.Bokeh);\n",
       "        }if (force === true) {\n",
       "          display_loaded();\n",
       "        }} else if (Date.now() < window._bokeh_timeout) {\n",
       "        setTimeout(run_inline_js, 100);\n",
       "      } else if (!window._bokeh_failed_load) {\n",
       "        console.log(\"Bokeh: BokehJS failed to load within specified timeout.\");\n",
       "        window._bokeh_failed_load = true;\n",
       "      } else if (force !== true) {\n",
       "        var cell = $(document.getElementById(\"d344cbe3-9c49-44c9-9739-1e71d45891ec\")).parents('.cell').data().cell;\n",
       "        cell.output_area.append_execute_result(NB_LOAD_WARNING)\n",
       "      }\n",
       "  \n",
       "    }\n",
       "  \n",
       "    if (window._bokeh_is_loading === 0) {\n",
       "      console.log(\"Bokeh: BokehJS loaded, going straight to plotting\");\n",
       "      run_inline_js();\n",
       "    } else {\n",
       "      load_libs(js_urls, function() {\n",
       "        console.log(\"Bokeh: BokehJS plotting callback run at\", now());\n",
       "        run_inline_js();\n",
       "      });\n",
       "    }\n",
       "  }(this));\n",
       "</script>"
      ]
     },
     "metadata": {},
     "output_type": "display_data"
    }
   ],
   "source": [
    "plot_averages_b(names, t_maxs, colours, legends, directories, step=1000, title=env, min_max=False)\n",
    "plot_states(names, t_maxs, colours, legends, directories, step=1000, title=env)"
   ]
  },
  {
   "cell_type": "code",
   "execution_count": null,
   "metadata": {
    "collapsed": true,
    "deletable": true,
    "editable": true
   },
   "outputs": [],
   "source": []
  },
  {
   "cell_type": "code",
   "execution_count": null,
   "metadata": {
    "collapsed": true,
    "deletable": true,
    "editable": true
   },
   "outputs": [],
   "source": []
  },
  {
   "cell_type": "code",
   "execution_count": null,
   "metadata": {
    "collapsed": true,
    "deletable": true,
    "editable": true
   },
   "outputs": [],
   "source": [
    "DQN_Smoothed = []\n",
    "for times, rewards in zip(DQN_Lengths_C, DQN_Rewards):\n",
    "    linear = interp1d(times, rewards, kind=\"linear\")\n",
    "    linear_rewards = linear([i for i in range(500000)])\n",
    "    DQN_Smoothed.append(linear_rewards)"
   ]
  },
  {
   "cell_type": "code",
   "execution_count": null,
   "metadata": {
    "collapsed": true,
    "deletable": true,
    "editable": true
   },
   "outputs": [],
   "source": [
    "DQN_Means = np.mean(DQN_Smoothed, axis=0)"
   ]
  },
  {
   "cell_type": "code",
   "execution_count": null,
   "metadata": {
    "collapsed": true,
    "deletable": true,
    "editable": true
   },
   "outputs": [],
   "source": [
    "DQN_Stds = np.std(DQN_Smoothed, axis=0)"
   ]
  },
  {
   "cell_type": "code",
   "execution_count": null,
   "metadata": {
    "collapsed": false,
    "deletable": true,
    "editable": true
   },
   "outputs": [],
   "source": [
    "plt.fill_between([i for i in range(500000)], DQN_Means - DQN_Stds, DQN_Means + DQN_Stds, color=\"red\", alpha=0.3, edgecolor=\"white\")\n",
    "\n",
    "plt.plot([i for i in range(500000)], DQN_Means, color=\"red\")"
   ]
  },
  {
   "cell_type": "code",
   "execution_count": null,
   "metadata": {
    "collapsed": false,
    "deletable": true,
    "editable": true
   },
   "outputs": [],
   "source": [
    "len(DQN_Repeat)"
   ]
  },
  {
   "cell_type": "code",
   "execution_count": null,
   "metadata": {
    "collapsed": true,
    "deletable": true,
    "editable": true
   },
   "outputs": [],
   "source": [
    "plt.plot(DQN)"
   ]
  },
  {
   "cell_type": "code",
   "execution_count": null,
   "metadata": {
    "collapsed": true,
    "deletable": true,
    "editable": true
   },
   "outputs": [],
   "source": [
    "directories = [\"Logs/\"]"
   ]
  },
  {
   "cell_type": "code",
   "execution_count": null,
   "metadata": {
    "collapsed": false,
    "deletable": true,
    "editable": true
   },
   "outputs": [],
   "source": [
    "for i in range(0, 10, 2):\n",
    "    print(i)"
   ]
  },
  {
   "cell_type": "code",
   "execution_count": null,
   "metadata": {
    "collapsed": true,
    "deletable": true,
    "editable": true
   },
   "outputs": [],
   "source": []
  }
 ],
 "metadata": {
  "kernelspec": {
   "display_name": "Python 3",
   "language": "python",
   "name": "python3"
  },
  "language_info": {
   "codemirror_mode": {
    "name": "ipython",
    "version": 3
   },
   "file_extension": ".py",
   "mimetype": "text/x-python",
   "name": "python",
   "nbconvert_exporter": "python",
   "pygments_lexer": "ipython3",
   "version": "3.6.0"
  }
 },
 "nbformat": 4,
 "nbformat_minor": 2
}
