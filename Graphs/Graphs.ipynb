{
 "cells": [
  {
   "cell_type": "code",
   "execution_count": 2,
   "metadata": {
    "collapsed": false,
    "deletable": true,
    "editable": true
   },
   "outputs": [
    {
     "data": {
      "text/html": [
       "\n",
       "    <div class=\"bk-root\">\n",
       "        <a href=\"http://bokeh.pydata.org\" target=\"_blank\" class=\"bk-logo bk-logo-small bk-logo-notebook\"></a>\n",
       "        <span id=\"82ce5384-e119-4533-af6d-4b11077f0c63\">Loading BokehJS ...</span>\n",
       "    </div>"
      ]
     },
     "metadata": {},
     "output_type": "display_data"
    },
    {
     "data": {
      "application/javascript": [
       "\n",
       "(function(global) {\n",
       "  function now() {\n",
       "    return new Date();\n",
       "  }\n",
       "\n",
       "  var force = true;\n",
       "\n",
       "  if (typeof (window._bokeh_onload_callbacks) === \"undefined\" || force === true) {\n",
       "    window._bokeh_onload_callbacks = [];\n",
       "    window._bokeh_is_loading = undefined;\n",
       "  }\n",
       "\n",
       "\n",
       "  \n",
       "  if (typeof (window._bokeh_timeout) === \"undefined\" || force === true) {\n",
       "    window._bokeh_timeout = Date.now() + 5000;\n",
       "    window._bokeh_failed_load = false;\n",
       "  }\n",
       "\n",
       "  var NB_LOAD_WARNING = {'data': {'text/html':\n",
       "     \"<div style='background-color: #fdd'>\\n\"+\n",
       "     \"<p>\\n\"+\n",
       "     \"BokehJS does not appear to have successfully loaded. If loading BokehJS from CDN, this \\n\"+\n",
       "     \"may be due to a slow or bad network connection. Possible fixes:\\n\"+\n",
       "     \"</p>\\n\"+\n",
       "     \"<ul>\\n\"+\n",
       "     \"<li>re-rerun `output_notebook()` to attempt to load from CDN again, or</li>\\n\"+\n",
       "     \"<li>use INLINE resources instead, as so:</li>\\n\"+\n",
       "     \"</ul>\\n\"+\n",
       "     \"<code>\\n\"+\n",
       "     \"from bokeh.resources import INLINE\\n\"+\n",
       "     \"output_notebook(resources=INLINE)\\n\"+\n",
       "     \"</code>\\n\"+\n",
       "     \"</div>\"}};\n",
       "\n",
       "  function display_loaded() {\n",
       "    if (window.Bokeh !== undefined) {\n",
       "      document.getElementById(\"82ce5384-e119-4533-af6d-4b11077f0c63\").textContent = \"BokehJS successfully loaded.\";\n",
       "    } else if (Date.now() < window._bokeh_timeout) {\n",
       "      setTimeout(display_loaded, 100)\n",
       "    }\n",
       "  }\n",
       "\n",
       "  function run_callbacks() {\n",
       "    window._bokeh_onload_callbacks.forEach(function(callback) { callback() });\n",
       "    delete window._bokeh_onload_callbacks\n",
       "    console.info(\"Bokeh: all callbacks have finished\");\n",
       "  }\n",
       "\n",
       "  function load_libs(js_urls, callback) {\n",
       "    window._bokeh_onload_callbacks.push(callback);\n",
       "    if (window._bokeh_is_loading > 0) {\n",
       "      console.log(\"Bokeh: BokehJS is being loaded, scheduling callback at\", now());\n",
       "      return null;\n",
       "    }\n",
       "    if (js_urls == null || js_urls.length === 0) {\n",
       "      run_callbacks();\n",
       "      return null;\n",
       "    }\n",
       "    console.log(\"Bokeh: BokehJS not loaded, scheduling load and callback at\", now());\n",
       "    window._bokeh_is_loading = js_urls.length;\n",
       "    for (var i = 0; i < js_urls.length; i++) {\n",
       "      var url = js_urls[i];\n",
       "      var s = document.createElement('script');\n",
       "      s.src = url;\n",
       "      s.async = false;\n",
       "      s.onreadystatechange = s.onload = function() {\n",
       "        window._bokeh_is_loading--;\n",
       "        if (window._bokeh_is_loading === 0) {\n",
       "          console.log(\"Bokeh: all BokehJS libraries loaded\");\n",
       "          run_callbacks()\n",
       "        }\n",
       "      };\n",
       "      s.onerror = function() {\n",
       "        console.warn(\"failed to load library \" + url);\n",
       "      };\n",
       "      console.log(\"Bokeh: injecting script tag for BokehJS library: \", url);\n",
       "      document.getElementsByTagName(\"head\")[0].appendChild(s);\n",
       "    }\n",
       "  };var element = document.getElementById(\"82ce5384-e119-4533-af6d-4b11077f0c63\");\n",
       "  if (element == null) {\n",
       "    console.log(\"Bokeh: ERROR: autoload.js configured with elementid '82ce5384-e119-4533-af6d-4b11077f0c63' but no matching script tag was found. \")\n",
       "    return false;\n",
       "  }\n",
       "\n",
       "  var js_urls = [\"https://cdn.pydata.org/bokeh/release/bokeh-0.12.4.min.js\", \"https://cdn.pydata.org/bokeh/release/bokeh-widgets-0.12.4.min.js\"];\n",
       "\n",
       "  var inline_js = [\n",
       "    function(Bokeh) {\n",
       "      Bokeh.set_log_level(\"info\");\n",
       "    },\n",
       "    \n",
       "    function(Bokeh) {\n",
       "      \n",
       "      document.getElementById(\"82ce5384-e119-4533-af6d-4b11077f0c63\").textContent = \"BokehJS is loading...\";\n",
       "    },\n",
       "    function(Bokeh) {\n",
       "      console.log(\"Bokeh: injecting CSS: https://cdn.pydata.org/bokeh/release/bokeh-0.12.4.min.css\");\n",
       "      Bokeh.embed.inject_css(\"https://cdn.pydata.org/bokeh/release/bokeh-0.12.4.min.css\");\n",
       "      console.log(\"Bokeh: injecting CSS: https://cdn.pydata.org/bokeh/release/bokeh-widgets-0.12.4.min.css\");\n",
       "      Bokeh.embed.inject_css(\"https://cdn.pydata.org/bokeh/release/bokeh-widgets-0.12.4.min.css\");\n",
       "    }\n",
       "  ];\n",
       "\n",
       "  function run_inline_js() {\n",
       "    \n",
       "    if ((window.Bokeh !== undefined) || (force === true)) {\n",
       "      for (var i = 0; i < inline_js.length; i++) {\n",
       "        inline_js[i](window.Bokeh);\n",
       "      }if (force === true) {\n",
       "        display_loaded();\n",
       "      }} else if (Date.now() < window._bokeh_timeout) {\n",
       "      setTimeout(run_inline_js, 100);\n",
       "    } else if (!window._bokeh_failed_load) {\n",
       "      console.log(\"Bokeh: BokehJS failed to load within specified timeout.\");\n",
       "      window._bokeh_failed_load = true;\n",
       "    } else if (force !== true) {\n",
       "      var cell = $(document.getElementById(\"82ce5384-e119-4533-af6d-4b11077f0c63\")).parents('.cell').data().cell;\n",
       "      cell.output_area.append_execute_result(NB_LOAD_WARNING)\n",
       "    }\n",
       "\n",
       "  }\n",
       "\n",
       "  if (window._bokeh_is_loading === 0) {\n",
       "    console.log(\"Bokeh: BokehJS loaded, going straight to plotting\");\n",
       "    run_inline_js();\n",
       "  } else {\n",
       "    load_libs(js_urls, function() {\n",
       "      console.log(\"Bokeh: BokehJS plotting callback run at\", now());\n",
       "      run_inline_js();\n",
       "    });\n",
       "  }\n",
       "}(this));"
      ]
     },
     "metadata": {},
     "output_type": "display_data"
    }
   ],
   "source": [
    "from bokeh.plotting import figure, output_notebook, show\n",
    "output_notebook()"
   ]
  },
  {
   "cell_type": "code",
   "execution_count": 3,
   "metadata": {
    "collapsed": true,
    "deletable": true,
    "editable": true
   },
   "outputs": [],
   "source": [
    "import glob"
   ]
  },
  {
   "cell_type": "code",
   "execution_count": 4,
   "metadata": {
    "collapsed": true,
    "deletable": true,
    "editable": true
   },
   "outputs": [],
   "source": [
    "import numpy as np"
   ]
  },
  {
   "cell_type": "code",
   "execution_count": 5,
   "metadata": {
    "collapsed": true,
    "deletable": true,
    "editable": true
   },
   "outputs": [],
   "source": [
    "from scipy.interpolate import interp1d\n",
    "from scipy.interpolate import spline"
   ]
  },
  {
   "cell_type": "code",
   "execution_count": 6,
   "metadata": {
    "collapsed": true,
    "deletable": true,
    "editable": true
   },
   "outputs": [],
   "source": [
    "from tqdm import tqdm"
   ]
  },
  {
   "cell_type": "code",
   "execution_count": 7,
   "metadata": {
    "collapsed": true,
    "deletable": true,
    "editable": true
   },
   "outputs": [],
   "source": [
    "DQN_Rewards_Path = \"/home/tabz/Dropbox/RL/Log_Files/March 2017/Maze_5_Batch_Sizes_Logs/*DQN*/logs/Episode_Rewards.txt\"\n",
    "DQN_Lengths_Path = \"/home/tabz/Dropbox/RL/Log_Files/March 2017/Maze_5_Batch_Sizes_Logs/*DQN*/logs/Episode_Lengths.txt\"\n",
    "DQN_Rewards = []\n",
    "DQN_Lengths = []\n",
    "DQN_Lengths_C = []"
   ]
  },
  {
   "cell_type": "code",
   "execution_count": 8,
   "metadata": {
    "collapsed": true,
    "deletable": true,
    "editable": true
   },
   "outputs": [],
   "source": [
    "for filename in glob.glob(DQN_Rewards_Path):\n",
    "    run_logs = [0]\n",
    "#     print(filename)\n",
    "    with open(filename, \"r\") as f:\n",
    "        for line in f:\n",
    "            try:\n",
    "                ep_r = float(line)\n",
    "            except:\n",
    "                continue\n",
    "            run_logs.append(ep_r)\n",
    "    DQN_Rewards.append(run_logs)"
   ]
  },
  {
   "cell_type": "code",
   "execution_count": 9,
   "metadata": {
    "collapsed": true,
    "deletable": true,
    "editable": true
   },
   "outputs": [],
   "source": [
    "for filename in glob.glob(DQN_Lengths_Path):\n",
    "    run_logs = [0]\n",
    "#     print(filename)\n",
    "    with open(filename, \"r\") as f:\n",
    "        for line in f:\n",
    "            try:\n",
    "                ep_r = float(line)\n",
    "            except:\n",
    "                continue\n",
    "            run_logs.append(ep_r)\n",
    "    DQN_Lengths.append(run_logs)\n",
    "    run_logs_c = np.cumsum(run_logs).astype(np.int32)\n",
    "    DQN_Lengths_C.append(run_logs_c)"
   ]
  },
  {
   "cell_type": "markdown",
   "metadata": {
    "collapsed": false,
    "deletable": true,
    "editable": true
   },
   "source": [
    "for lens, runs in zip(DQN_Lengths_C, DQN_Rewards):\n",
    "    plt.plot(lens, runs)\n",
    "plt.show()"
   ]
  },
  {
   "cell_type": "markdown",
   "metadata": {
    "collapsed": false,
    "deletable": true,
    "editable": true
   },
   "source": [
    "p = figure(width=500, height=500, y_range=(-1,3))\n",
    "for lens, runs in zip(DQN_Lengths_C, DQN_Rewards):\n",
    "    p.line(lens, runs)\n",
    "show(p)"
   ]
  },
  {
   "cell_type": "code",
   "execution_count": null,
   "metadata": {
    "collapsed": true,
    "deletable": true,
    "editable": true
   },
   "outputs": [],
   "source": []
  },
  {
   "cell_type": "markdown",
   "metadata": {
    "collapsed": true,
    "deletable": true,
    "editable": true
   },
   "source": [
    "def plot_averages(names, t_maxs, colors, legends=None, directory=\"Logs/\", step=10):\n",
    "    plt.figure(figsize=(10,10))\n",
    "    plt.ylim(-1, 3)\n",
    "    for name, color, t_max in tqdm(zip(names, colors, t_maxs)):\n",
    "        # TODO: Remove DQN from names\n",
    "        DQN_Rewards_Path = directory + \"*\" + name + \"*/logs/Episode_Rewards.txt\"\n",
    "        DQN_Lengths_Path = directory + \"*\" + name + \"*/logs/Episode_Lengths.txt\"\n",
    "        DQN_Rewards = []\n",
    "        DQN_Lengths = []\n",
    "        DQN_Lengths_C = []\n",
    "        for filename in glob.glob(DQN_Rewards_Path):\n",
    "            run_logs = [0]\n",
    "            with open(filename, \"r\") as f:\n",
    "                for line in f:\n",
    "                    try:\n",
    "                        ep_r = float(line)\n",
    "                    except:\n",
    "                        continue\n",
    "                    run_logs.append(ep_r)\n",
    "            DQN_Rewards.append(run_logs)\n",
    "        for filename in glob.glob(DQN_Lengths_Path):\n",
    "            run_logs = [0]\n",
    "        #     print(filename)\n",
    "            with open(filename, \"r\") as f:\n",
    "                for line in f:\n",
    "                    try:\n",
    "                        ep_r = float(line)\n",
    "                    except:\n",
    "                        continue\n",
    "                    run_logs.append(ep_r)\n",
    "            DQN_Lengths.append(run_logs)\n",
    "            run_logs_c = np.cumsum(run_logs).astype(np.int32)\n",
    "            DQN_Lengths_C.append(run_logs_c)\n",
    "        DQN_Smoothed = []\n",
    "        for times, rewards in zip(DQN_Lengths_C, DQN_Rewards):\n",
    "#             linear = interp1d(times, rewards, kind=\"linear\")\n",
    "#             linear_rewards = linear([i for i in range(500000)])\n",
    "#             DQN_Smoothed.append(linear_rewards)\n",
    "            spline_rewards = spline(times, rewards, [i for i in range(0, t_max, step)])\n",
    "            DQN_Smoothed.append(spline_rewards)\n",
    "        DQN_Means = np.mean(DQN_Smoothed, axis=0)\n",
    "        DQN_Stds = np.std(DQN_Smoothed, axis=0)\n",
    "        plt.fill_between([i for i in range(0, t_max, step)], DQN_Means - DQN_Stds, DQN_Means + DQN_Stds, color=color, alpha=0.2, edgecolor=\"white\")\n",
    "\n",
    "        plt.plot([i for i in range(0, t_max, step)], DQN_Means, color=color)\n",
    "\n",
    "    plt.title(\"Episode_Reward\")\n",
    "    plt.xlabel(\"T\")\n",
    "    plt.ylabel(\"Reward\")\n",
    "    if legends is not None:\n",
    "        plt.legend(legends, bbox_to_anchor=(1.05, 1), loc=2)\n",
    "    plt.show()"
   ]
  },
  {
   "cell_type": "code",
   "execution_count": 10,
   "metadata": {
    "collapsed": true,
    "deletable": true,
    "editable": true
   },
   "outputs": [],
   "source": [
    "from bokeh.models import Legend\n",
    "from bokeh.models.formatters import BasicTickFormatter\n",
    "from bokeh.models import HoverTool, TapTool"
   ]
  },
  {
   "cell_type": "code",
   "execution_count": 11,
   "metadata": {
    "collapsed": false,
    "deletable": true,
    "editable": true
   },
   "outputs": [],
   "source": [
    "def plot_averages_b(names, t_maxs, colors, legends, directories=\"Logs/\", step=10, title=\"\"):\n",
    "#     plt.figure(figsize=(10,10))\n",
    "    p = figure(width=1200, height=800, y_range=(-0.1, 1.1), title=title)\n",
    "    p.toolbar_location = \"above\"\n",
    "    p.yaxis.axis_label = \"Episode Reward\"\n",
    "    p.xaxis.axis_label = \"T\"\n",
    "    p.xaxis.formatter = BasicTickFormatter(use_scientific=False)\n",
    "#     p = figure(width=800, height=500)\n",
    "    lines = []\n",
    "    alpha_lines = []\n",
    "    if isinstance(directories, str):\n",
    "        dd = directories\n",
    "        directories = [dd for _ in names]\n",
    "    for name, color, t_max, legend, directory in zip(names, colors, t_maxs, legends, directories):\n",
    "#         print(directory)\n",
    "        DQN_Rewards_Path = directory + \"*\" + name + \"*/logs/Episode_Rewards.txt\"\n",
    "        DQN_Lengths_Path = directory + \"*\" + name + \"*/logs/Episode_Lengths.txt\"\n",
    "        DQN_Rewards = []\n",
    "        DQN_Lengths = []\n",
    "        DQN_Lengths_C = []\n",
    "        for filename in glob.glob(DQN_Rewards_Path):\n",
    "            run_logs = [0]\n",
    "            with open(filename, \"r\") as f:\n",
    "#                 print(f)\n",
    "                for line in f:\n",
    "                    try:\n",
    "                        ep_r = float(line)\n",
    "                    except:\n",
    "                        print(\"Nothing here for:\", filename)\n",
    "                        continue\n",
    "                    run_logs.append(ep_r)\n",
    "            DQN_Rewards.append(run_logs)\n",
    "        for filename in glob.glob(DQN_Lengths_Path):\n",
    "            run_logs = [0]\n",
    "        #     print(filename)\n",
    "            with open(filename, \"r\") as f:\n",
    "                for line in f:\n",
    "                    try:\n",
    "                        ep_r = float(line)\n",
    "                    except:\n",
    "                        continue\n",
    "                    run_logs.append(ep_r)\n",
    "            DQN_Lengths.append(run_logs)\n",
    "            run_logs_c = np.cumsum(run_logs).astype(np.int32)\n",
    "            DQN_Lengths_C.append(run_logs_c)\n",
    "        DQN_Smoothed = []\n",
    "        for times, rewards in zip(DQN_Lengths_C, DQN_Rewards):\n",
    "#             linear = interp1d(times, rewards, kind=\"linear\")\n",
    "#             linear_rewards = linear([i for i in range(500000)])\n",
    "#             DQN_Smoothed.append(linear_rewards)\n",
    "            spline_rewards = spline(times, rewards, [i for i in range(0, t_max, step)], order=1)\n",
    "            DQN_Smoothed.append(spline_rewards)\n",
    "        DQN_Means = np.mean(DQN_Smoothed, axis=0)\n",
    "        DQN_Stds = np.std(DQN_Smoothed, axis=0)\n",
    "        \n",
    "#         plt.fill_between([i for i in range(0, t_max, step)], DQN_Means - DQN_Stds, DQN_Means + DQN_Stds, color=color, alpha=0.2, edgecolor=\"white\")\n",
    "        # Error bars\n",
    "        xs = [i for i in range(0, t_max, step)]\n",
    "        xs = xs + list(reversed(xs))\n",
    "        ys = np.concatenate([DQN_Means - DQN_Stds, np.flip(DQN_Means + DQN_Stds, axis=0)])\n",
    "        lls = p.patch(xs, ys, color=color, alpha=0.1)\n",
    "\n",
    "        \n",
    "#         for x, y, yerr in zip(range(0, t_max, step), DQN_Means, DQN_Stds):\n",
    "#             lls = p.line([x, x], [y - yerr, y + yerr], color=color, alpha=0.1, hover_alpha=0.8)\n",
    "#             alpha_lines.append(lls)\n",
    "            \n",
    "\n",
    "#         plt.plot([i for i in range(0, t_max, step)], DQN_Means, color=color)\n",
    "        l = p.line([i for i in range(0, t_max, step)], DQN_Means, color=color, line_width=2)\n",
    "        lines.append(l)\n",
    "#         alpha_lines.append(lls)\n",
    "\n",
    "#     plt.title(\"Episode_Reward\")\n",
    "#     plt.xlabel(\"T\")\n",
    "#     plt.ylabel(\"Reward\")\n",
    "#     if legends is not None:\n",
    "#         plt.legend(legends)\n",
    "#     plt.show()\n",
    "#     p.line([0,1], [-1,3])\n",
    "    new_leg = Legend(items=[(name, [line]) for name, line in zip(legends, lines)], location=(0,-30))\n",
    "    p.add_layout(new_leg, \"right\")\n",
    "#     p.add_tools(HoverTool(renderers=alpha_lines))\n",
    "#     p.add_tools(TapTool(renderers=alpha_lines))\n",
    "    show(p)"
   ]
  },
  {
   "cell_type": "code",
   "execution_count": 12,
   "metadata": {
    "collapsed": false,
    "deletable": true,
    "editable": true
   },
   "outputs": [],
   "source": [
    "def plot_states(names, t_maxs, colors, legends, directories=\"Logs/\", step=10, title=\"\"):\n",
    "#     plt.figure(figsize=(10,10))\n",
    "    p = figure(width=1200, height=800, title=title)\n",
    "    p.toolbar_location = \"above\"\n",
    "    p.yaxis.axis_label = \"States visited\"\n",
    "    p.xaxis.axis_label = \"T\"\n",
    "    p.xaxis.formatter = BasicTickFormatter(use_scientific=False)\n",
    "#     p = figure(width=800, height=500)\n",
    "    lines = []\n",
    "    alpha_lines = []\n",
    "    if isinstance(directories, str):\n",
    "        dd = directories\n",
    "        directories = [dd for _ in names]\n",
    "    for name, color, t_max, legend, directory in zip(names, colors, t_maxs, legends, directories):\n",
    "#         print(directory)\n",
    "        States_Path = directory + \"*\" + name + \"*/logs/Player_Positions.txt\"\n",
    "        States = []\n",
    "        for filename in glob.glob(States_Path):\n",
    "            run_logs = []\n",
    "            with open(filename, \"r\") as f:\n",
    "#                 print(f)\n",
    "                for line in f:\n",
    "                    try:\n",
    "                        ep_r = str(line)\n",
    "#                         print(ep_r)\n",
    "                    except:\n",
    "                        print(\"Nothing here for:\", filename)\n",
    "                        continue\n",
    "                    run_logs.append(ep_r)\n",
    "            States.append(run_logs)\n",
    "        States_Visited = []\n",
    "        for run in States:\n",
    "            Visited = []\n",
    "            States_Sets = set()\n",
    "#             print(len(run))\n",
    "            for ii, s in enumerate(run):\n",
    "                if ii >= t_max - 1:\n",
    "                    break\n",
    "#                 print(s)\n",
    "                States_Sets.add(s)\n",
    "                if ii % step == 0:\n",
    "                    Visited.append(len(States_Sets))\n",
    "#             print(len(States_Sets))\n",
    "#             print(len(Visited))\n",
    "            States_Visited.append(Visited)\n",
    "#         print(np.array(States_Visited).shape)\n",
    "        Means = np.mean(States_Visited, axis=0)\n",
    "        Stds = np.std(States_Visited, axis=0)\n",
    "#         print(Means.shape)\n",
    "        \n",
    "#         plt.fill_between([i for i in range(0, t_max, step)], DQN_Means - DQN_Stds, DQN_Means + DQN_Stds, color=color, alpha=0.2, edgecolor=\"white\")\n",
    "        # Error bars\n",
    "        xs = [i for i in range(0, t_max, step)]\n",
    "        xs = xs + list(reversed(xs))\n",
    "        ys = np.concatenate([Means - Stds, np.flip(Means + Stds, axis=0)])\n",
    "        lls = p.patch(xs, ys, color=color, alpha=0.1)\n",
    "\n",
    "        \n",
    "#         for x, y, yerr in zip(range(0, t_max, step), DQN_Means, DQN_Stds):\n",
    "#             lls = p.line([x, x], [y - yerr, y + yerr], color=color, alpha=0.1, hover_alpha=0.8)\n",
    "#             alpha_lines.append(lls)\n",
    "            \n",
    "\n",
    "#         plt.plot([i for i in range(0, t_max, step)], DQN_Means, color=color)\n",
    "        l = p.line([i for i in range(0, t_max, step)], Means, color=color, line_width=2)\n",
    "        lines.append(l)\n",
    "#         alpha_lines.append(lls)\n",
    "\n",
    "#     plt.title(\"Episode_Reward\")\n",
    "#     plt.xlabel(\"T\")\n",
    "#     plt.ylabel(\"Reward\")\n",
    "#     if legends is not None:\n",
    "#         plt.legend(legends)\n",
    "#     plt.show()\n",
    "#     p.line([0,1], [-1,3])\n",
    "    new_leg = Legend(items=[(name, [line]) for name, line in zip(legends, lines)], location=(0,-30))\n",
    "    p.add_layout(new_leg, \"right\")\n",
    "#     p.add_tools(HoverTool(renderers=alpha_lines))\n",
    "#     p.add_tools(TapTool(renderers=alpha_lines))\n",
    "    show(p)"
   ]
  },
  {
   "cell_type": "code",
   "execution_count": null,
   "metadata": {
    "collapsed": true,
    "deletable": true,
    "editable": true
   },
   "outputs": [],
   "source": []
  },
  {
   "cell_type": "code",
   "execution_count": 13,
   "metadata": {
    "collapsed": false,
    "deletable": true,
    "editable": true
   },
   "outputs": [
    {
     "name": "stdout",
     "output_type": "stream",
     "text": [
      "['_10_Step_*DQN_', '_10_Step_*k_Count_', '_10_Step_*_CountEps_']\n",
      "[300001, 300001, 300001]\n"
     ]
    }
   ],
   "source": [
    "names = []\n",
    "legends = []\n",
    "t_maxs = []\n",
    "directories = []\n",
    "\n",
    "            \n",
    "# Frontier stuff\n",
    "for step in [10]:\n",
    "    # DQN\n",
    "    names += [\"_{}_Step_*DQN_\".format(step)]\n",
    "    legends += [\"{}_Step_DQN\".format(step)]\n",
    "    t_maxs += [300001]\n",
    "#     continue\n",
    "    # PseudoCount\n",
    "    names += [\"_{}_Step_*k_Count_\".format(step)]\n",
    "    legends += [\"{}_Step_Count\".format(step)]\n",
    "    t_maxs += [300001]\n",
    "#     continue\n",
    "    # EpsilonScaling\n",
    "    names += [\"_{}_Step_*_CountEps_\".format(step)]\n",
    "    legends += [\"{}_Step_Epsilon_Scaling\".format(step)]\n",
    "    t_maxs += [300001]\n",
    "            \n",
    "    \n",
    "direc = \"/home/tabz/tmp/logfiles/MedMaze10/MedMaze10\"\n",
    "# directories =  [\"{}/{}\".format(dropbox_direc, \"Maze_5_Logs/\")] + 3 * [\"{}/{}\".format(dropbox_direc, \"Maze_5_Batch_Sizes_Logs/\")] \n",
    "directories += [direc + \"/EpsilonLogs/\"] * 3\n",
    "    \n",
    "print(names)\n",
    "print(t_maxs)\n",
    "# colours = [\"red\", \"#3366ff\", \"#66ff33\", \"yellow\"]\n",
    "# colours = rainbow(np.linspace(0, 1, len(names)))"
   ]
  },
  {
   "cell_type": "code",
   "execution_count": 14,
   "metadata": {
    "collapsed": false,
    "deletable": true,
    "editable": true
   },
   "outputs": [
    {
     "name": "stdout",
     "output_type": "stream",
     "text": [
      "['_100_Step*k_Count_', '_100_Step*OptimisticAction', '_100_Step*_CountEps_']\n",
      "[300001, 300001, 300001]\n",
      "/home/scratch/tabhid/Log_Files/Gamma_Logs//\n"
     ]
    }
   ],
   "source": [
    "names = []\n",
    "legends = []\n",
    "t_maxs = []\n",
    "\n",
    "            \n",
    "# Frontier bandit stuff\n",
    "\n",
    "for n in [100]:\n",
    "    \n",
    "    # Count\n",
    "    names += [\"_{}_Step*k_Count_\".format(n)]\n",
    "    legends += [\"{}_Step_Count\".format(n)]\n",
    "    t_maxs += [300001]\n",
    "#     continue\n",
    "    # Optimistic\n",
    "    names += [\"_{}_Step*OptimisticAction\".format(n)]\n",
    "    legends += [\"{}_Step_OptimisticAction\".format(n)]\n",
    "    t_maxs += [300001]\n",
    "#     continue\n",
    "    # Epsilon Scaling\n",
    "    names += [\"_{}_Step*_CountEps_\".format(n)]\n",
    "    legends += [\"{}_Step_EpsilonScaling\".format(n)]\n",
    "    t_maxs += [300001]\n",
    "            \n",
    "    \n",
    "direc = \"/home/scratch/tabhid/Log_Files/Gamma_Logs//\"\n",
    "# directories =  [\"{}/{}\".format(dropbox_direc, \"Maze_5_Logs/\")] + 3 * [\"{}/{}\".format(dropbox_direc, \"Maze_5_Batch_Sizes_Logs/\")] \n",
    "# directories += [direc + \"/BanditLogs/\"] * 3\n",
    "directories = direc\n",
    "    \n",
    "print(names)\n",
    "print(t_maxs)\n",
    "print(directories)\n",
    "# colours = [\"red\", \"#3366ff\", \"#66ff33\", \"yellow\"]\n",
    "# colours = rainbow(np.linspace(0, 1, len(names)))"
   ]
  },
  {
   "cell_type": "code",
   "execution_count": 15,
   "metadata": {
    "collapsed": false,
    "deletable": true,
    "editable": true
   },
   "outputs": [
    {
     "name": "stdout",
     "output_type": "stream",
     "text": [
      "['_0.9_Decay*_Eps_0.1_', '_0.99_Decay*_Eps_0.1_', '_0.9999_Decay*_Eps_0.1_', '_0.9_Decay*_Eps_1_', '_0.99_Decay*_Eps_1_', '_0.9999_Decay*_Eps_1_']\n",
      "[300001, 300001, 300001, 300001, 300001, 300001]\n",
      "/home/tabz/tmp/Epsilon_Decay_Logs/\n"
     ]
    }
   ],
   "source": [
    "names = []\n",
    "legends = []\n",
    "t_maxs = []\n",
    "\n",
    "            \n",
    "# Epsilon Decay Scaling\n",
    "for eps in [0.1, 1]:\n",
    "    for decay in [0.9, 0.99, 0.9999]:\n",
    "    \n",
    "        names += [\"_{}_Decay*_Eps_{}_\".format(decay, eps)]\n",
    "        legends += [\"{}_Decay_EpsilonScaling_{}_Start\".format(decay, eps)]\n",
    "        t_maxs += [300001]\n",
    "            \n",
    "    \n",
    "# direc = \"/home/scratch/tabhid/Log_Files/Epsilon_Decay_Logs/\"\n",
    "direc = \"/home/tabz/tmp/Epsilon_Decay_Logs/\"\n",
    "# directories =  [\"{}/{}\".format(dropbox_direc, \"Maze_5_Logs/\")] + 3 * [\"{}/{}\".format(dropbox_direc, \"Maze_5_Batch_Sizes_Logs/\")] \n",
    "# directories += [direc + \"/BanditLogs/\"] * 3\n",
    "directories = direc\n",
    "    \n",
    "print(names)\n",
    "print(t_maxs)\n",
    "print(directories)"
   ]
  },
  {
   "cell_type": "code",
   "execution_count": 16,
   "metadata": {
    "collapsed": false,
    "deletable": true,
    "editable": true
   },
   "outputs": [
    {
     "name": "stdout",
     "output_type": "stream",
     "text": [
      "['_NegativeReward_0.5_', '_NegativeReward_0.7_', '_NegativeReward_0.9_']\n",
      "[300001, 300001, 300001]\n",
      "/home/tabz/tmp/Big_Negative_Reward_Logs/\n"
     ]
    }
   ],
   "source": [
    "names = []\n",
    "legends = []\n",
    "t_maxs = []\n",
    "\n",
    "            \n",
    "# Negative reward threshold\n",
    "for ns in [0.5, 0.7,  0.9]:\n",
    "    names += [\"_NegativeReward_{}_\".format(ns)]\n",
    "    legends += [\"NegativeReward_{}_Threshold\".format(ns)]\n",
    "    t_maxs += [300001]\n",
    "            \n",
    "    \n",
    "# direc = \"/home/scratch/tabhid/Log_Files/Epsilon_Decay_Logs/\"\n",
    "direc = \"/home/tabz/tmp/Big_Negative_Reward_Logs/\"\n",
    "# directories =  [\"{}/{}\".format(dropbox_direc, \"Maze_5_Logs/\")] + 3 * [\"{}/{}\".format(dropbox_direc, \"Maze_5_Batch_Sizes_Logs/\")] \n",
    "# directories += [direc + \"/BanditLogs/\"] * 3\n",
    "directories = direc\n",
    "    \n",
    "print(names)\n",
    "print(t_maxs)\n",
    "print(directories)"
   ]
  },
  {
   "cell_type": "code",
   "execution_count": 17,
   "metadata": {
    "collapsed": false,
    "deletable": true,
    "editable": true
   },
   "outputs": [
    {
     "name": "stdout",
     "output_type": "stream",
     "text": [
      "['k_OptimisticAction_0.0001_Scaler', 'k_OptimisticAction_0.0005_Scaler', 'k_OptimisticAction_0.001_Scaler', 'k_OptimisticAction_0.005_Scaler']\n",
      "[300001, 300001, 300001, 300001]\n",
      "/home/scratch/tabhid/Log_Files/Bandit_Small_Tau_Logs/\n"
     ]
    }
   ],
   "source": [
    "names = []\n",
    "legends = []\n",
    "t_maxs = []\n",
    "\n",
    "            \n",
    "# Bandit Tau\n",
    "for tau in [0.0001, 0.0005, 0.001, 0.005]:\n",
    "    for negative_reward in [False]:\n",
    "        if negative_reward:\n",
    "            names += [\"NegativeReward_*_OptimisticAction_{}_Scaler\".format(tau)]\n",
    "            legends += [\"Optim Bandit {} Tau Neg Reward\".format(tau)]\n",
    "        else:\n",
    "            names += [\"k_OptimisticAction_{}_Scaler\".format(tau)]\n",
    "            legends += [\"Optim Bandit {} Tau\".format(tau)]\n",
    "        t_maxs += [300001]\n",
    "            \n",
    "    \n",
    "direc = \"/home/scratch/tabhid/Log_Files/Bandit_Small_Tau_Logs/\"\n",
    "# direc = \"/home/tabz/tmp/Bandit_Tau_Logs/\"\n",
    "# directories =  [\"{}/{}\".format(dropbox_direc, \"Maze_5_Logs/\")] + 3 * [\"{}/{}\".format(dropbox_direc, \"Maze_5_Batch_Sizes_Logs/\")] \n",
    "# directories += [direc + \"/BanditLogs/\"] * 3\n",
    "directories = direc\n",
    "    \n",
    "print(names)\n",
    "print(t_maxs)\n",
    "print(directories)"
   ]
  },
  {
   "cell_type": "code",
   "execution_count": 46,
   "metadata": {
    "collapsed": false,
    "deletable": true,
    "editable": true
   },
   "outputs": [
    {
     "name": "stdout",
     "output_type": "stream",
     "text": [
      "['Batch_64_XpSize_600k', 'Batch_128_XpSize_600k', 'Batch_256_XpSize_600k']\n",
      "[600001, 600001, 600001]\n",
      "/home/tabz/tmp/logfiles/MedMaze10/Batch_Size_Logs/\n"
     ]
    }
   ],
   "source": [
    "names = []\n",
    "legends = []\n",
    "t_maxs = []\n",
    "\n",
    "            \n",
    "# Batch Size\n",
    "for xp in [600]:\n",
    "    for bs in [64, 128, 256]:\n",
    "        names += [\"Batch_{}_XpSize_{}k\".format(bs, xp)]\n",
    "        legends += [\"Batch {} Xp {}k\".format(bs, xp)]\n",
    "        t_maxs += [600001]\n",
    "            \n",
    "    \n",
    "# direc = \"/home/scratch/tabhid/Log_Files/Xp_Logs/\"\n",
    "direc = \"/home/tabz/tmp/logfiles/MedMaze10/Batch_Size_Logs/\"\n",
    "# directories =  [\"{}/{}\".format(dropbox_direc, \"Maze_5_Logs/\")] + 3 * [\"{}/{}\".format(dropbox_direc, \"Maze_5_Batch_Sizes_Logs/\")] \n",
    "# directories += [direc + \"/BanditLogs/\"] * 3\n",
    "directories = direc\n",
    "    \n",
    "print(names)\n",
    "print(t_maxs)\n",
    "print(directories)"
   ]
  },
  {
   "cell_type": "code",
   "execution_count": 69,
   "metadata": {
    "collapsed": false,
    "deletable": true,
    "editable": true
   },
   "outputs": [
    {
     "name": "stdout",
     "output_type": "stream",
     "text": [
      "['ETrace_0.7_6_States', 'ETrace_0.9_6_States', 'ETrace_1_6_States']\n",
      "[600001, 600001, 600001]\n",
      "/home/tabz/tmp/logfiles/MedMaze10/Elig_3_Logs/\n"
     ]
    }
   ],
   "source": [
    "names = []\n",
    "legends = []\n",
    "t_maxs = []\n",
    "\n",
    "            \n",
    "# Elig States\n",
    "for lamb in [0.7, 0.9, 1]:\n",
    "    for states in [6]:\n",
    "        names += [\"ETrace_{}_{}_States\".format(lamb, states)]\n",
    "        legends += [\"Traces {} Lambda {} States 3 Gap\".format(lamb, states)]\n",
    "        t_maxs += [600001]\n",
    "            \n",
    "    \n",
    "# direc = \"/home/scratch/tabhid/Log_Files/Xp_Logs/\"\n",
    "direc = \"/home/tabz/tmp/logfiles/MedMaze10/Elig_3_Logs/\"\n",
    "# directories =  [\"{}/{}\".format(dropbox_direc, \"Maze_5_Logs/\")] + 3 * [\"{}/{}\".format(dropbox_direc, \"Maze_5_Batch_Sizes_Logs/\")] \n",
    "# directories += [direc + \"/BanditLogs/\"] * 3\n",
    "directories = direc\n",
    "    \n",
    "print(names)\n",
    "print(t_maxs)\n",
    "print(directories)"
   ]
  },
  {
   "cell_type": "code",
   "execution_count": 25,
   "metadata": {
    "collapsed": false,
    "deletable": true,
    "editable": true
   },
   "outputs": [
    {
     "name": "stdout",
     "output_type": "stream",
     "text": [
      "['Iters_1_', 'Iters_2_', 'Iters_4_', 'Iters_8_', 'Iters_16_']\n",
      "[600001, 600001, 600001, 600001, 600001]\n",
      "/home/tabz/tmp/logfiles/MedMaze10/Iters_Logs/\n"
     ]
    }
   ],
   "source": [
    "names = []\n",
    "legends = []\n",
    "t_maxs = []\n",
    "\n",
    "            \n",
    "# Iterations\n",
    "for i in [1, 2, 4, 8, 16]:\n",
    "    names += [\"Iters_{}_\".format(i)]\n",
    "    legends += [\"{} Iterations\".format(i)]\n",
    "    t_maxs += [600001]\n",
    "            \n",
    "    \n",
    "# direc = \"/home/scratch/tabhid/Log_Files/Xp_Logs/\"\n",
    "direc = \"/home/tabz/tmp/logfiles/MedMaze10/Iters_Logs/\"\n",
    "# directories =  [\"{}/{}\".format(dropbox_direc, \"Maze_5_Logs/\")] + 3 * [\"{}/{}\".format(dropbox_direc, \"Maze_5_Batch_Sizes_Logs/\")] \n",
    "# directories += [direc + \"/BanditLogs/\"] * 3\n",
    "directories = direc\n",
    "    \n",
    "print(names)\n",
    "print(t_maxs)\n",
    "print(directories)"
   ]
  },
  {
   "cell_type": "code",
   "execution_count": 35,
   "metadata": {
    "collapsed": false,
    "deletable": true,
    "editable": true
   },
   "outputs": [
    {
     "name": "stdout",
     "output_type": "stream",
     "text": [
      "['k_CountEps_', 'Trajectory_0.2_', 'Trajectory_0.5_', 'Trajectory_0.75_', 'Trajectory_0.8_', 'Trajectory_0.9_']\n",
      "[600001, 600001, 600001, 600001, 600001, 600001]\n",
      "/home/tabz/tmp/logfiles/MedMaze10/Trajectory_Logs/\n"
     ]
    }
   ],
   "source": [
    "names = []\n",
    "legends = []\n",
    "t_maxs = []\n",
    "\n",
    "names += [\"k_CountEps_\"]\n",
    "legends += [\"No Trajectory\"]\n",
    "t_maxs += [600001]\n",
    "            \n",
    "# Trajectory\n",
    "for t in [0.2, 0.5, 0.75, 0.8, 0.9]:\n",
    "    names += [\"Trajectory_{}_\".format(t)]\n",
    "    legends += [\"Trajectory {} Save\".format(t)]\n",
    "    t_maxs += [600001]\n",
    "            \n",
    "    \n",
    "# direc = \"/home/scratch/tabhid/Log_Files/Xp_Logs/\"\n",
    "direc = \"/home/tabz/tmp/logfiles/MedMaze10/Trajectory_Logs/\"\n",
    "# directories =  [\"{}/{}\".format(dropbox_direc, \"Maze_5_Logs/\")] + 3 * [\"{}/{}\".format(dropbox_direc, \"Maze_5_Batch_Sizes_Logs/\")] \n",
    "# directories += [direc + \"/BanditLogs/\"] * 3\n",
    "directories = direc\n",
    "    \n",
    "print(names)\n",
    "print(t_maxs)\n",
    "print(directories)"
   ]
  },
  {
   "cell_type": "code",
   "execution_count": 36,
   "metadata": {
    "collapsed": true,
    "deletable": true,
    "editable": true
   },
   "outputs": [],
   "source": [
    "import itertools"
   ]
  },
  {
   "cell_type": "code",
   "execution_count": 37,
   "metadata": {
    "collapsed": false,
    "deletable": true,
    "editable": true
   },
   "outputs": [],
   "source": [
    "from bokeh.palettes import magma, inferno, Set1, Set3, Paired, Dark2"
   ]
  },
  {
   "cell_type": "code",
   "execution_count": 38,
   "metadata": {
    "collapsed": true,
    "deletable": true,
    "editable": true
   },
   "outputs": [],
   "source": [
    "colours = Set1[len(names)]"
   ]
  },
  {
   "cell_type": "code",
   "execution_count": 70,
   "metadata": {
    "collapsed": false,
    "deletable": true,
    "editable": true
   },
   "outputs": [
    {
     "data": {
      "text/html": [
       "\n",
       "\n",
       "    <div class=\"bk-root\">\n",
       "        <div class=\"bk-plotdiv\" id=\"a245ba71-729a-4bdf-912c-7ae2391b037b\"></div>\n",
       "    </div>\n",
       "<script type=\"text/javascript\">\n",
       "  \n",
       "  (function(global) {\n",
       "    function now() {\n",
       "      return new Date();\n",
       "    }\n",
       "  \n",
       "    var force = false;\n",
       "  \n",
       "    if (typeof (window._bokeh_onload_callbacks) === \"undefined\" || force === true) {\n",
       "      window._bokeh_onload_callbacks = [];\n",
       "      window._bokeh_is_loading = undefined;\n",
       "    }\n",
       "  \n",
       "  \n",
       "    \n",
       "    if (typeof (window._bokeh_timeout) === \"undefined\" || force === true) {\n",
       "      window._bokeh_timeout = Date.now() + 0;\n",
       "      window._bokeh_failed_load = false;\n",
       "    }\n",
       "  \n",
       "    var NB_LOAD_WARNING = {'data': {'text/html':\n",
       "       \"<div style='background-color: #fdd'>\\n\"+\n",
       "       \"<p>\\n\"+\n",
       "       \"BokehJS does not appear to have successfully loaded. If loading BokehJS from CDN, this \\n\"+\n",
       "       \"may be due to a slow or bad network connection. Possible fixes:\\n\"+\n",
       "       \"</p>\\n\"+\n",
       "       \"<ul>\\n\"+\n",
       "       \"<li>re-rerun `output_notebook()` to attempt to load from CDN again, or</li>\\n\"+\n",
       "       \"<li>use INLINE resources instead, as so:</li>\\n\"+\n",
       "       \"</ul>\\n\"+\n",
       "       \"<code>\\n\"+\n",
       "       \"from bokeh.resources import INLINE\\n\"+\n",
       "       \"output_notebook(resources=INLINE)\\n\"+\n",
       "       \"</code>\\n\"+\n",
       "       \"</div>\"}};\n",
       "  \n",
       "    function display_loaded() {\n",
       "      if (window.Bokeh !== undefined) {\n",
       "        document.getElementById(\"a245ba71-729a-4bdf-912c-7ae2391b037b\").textContent = \"BokehJS successfully loaded.\";\n",
       "      } else if (Date.now() < window._bokeh_timeout) {\n",
       "        setTimeout(display_loaded, 100)\n",
       "      }\n",
       "    }\n",
       "  \n",
       "    function run_callbacks() {\n",
       "      window._bokeh_onload_callbacks.forEach(function(callback) { callback() });\n",
       "      delete window._bokeh_onload_callbacks\n",
       "      console.info(\"Bokeh: all callbacks have finished\");\n",
       "    }\n",
       "  \n",
       "    function load_libs(js_urls, callback) {\n",
       "      window._bokeh_onload_callbacks.push(callback);\n",
       "      if (window._bokeh_is_loading > 0) {\n",
       "        console.log(\"Bokeh: BokehJS is being loaded, scheduling callback at\", now());\n",
       "        return null;\n",
       "      }\n",
       "      if (js_urls == null || js_urls.length === 0) {\n",
       "        run_callbacks();\n",
       "        return null;\n",
       "      }\n",
       "      console.log(\"Bokeh: BokehJS not loaded, scheduling load and callback at\", now());\n",
       "      window._bokeh_is_loading = js_urls.length;\n",
       "      for (var i = 0; i < js_urls.length; i++) {\n",
       "        var url = js_urls[i];\n",
       "        var s = document.createElement('script');\n",
       "        s.src = url;\n",
       "        s.async = false;\n",
       "        s.onreadystatechange = s.onload = function() {\n",
       "          window._bokeh_is_loading--;\n",
       "          if (window._bokeh_is_loading === 0) {\n",
       "            console.log(\"Bokeh: all BokehJS libraries loaded\");\n",
       "            run_callbacks()\n",
       "          }\n",
       "        };\n",
       "        s.onerror = function() {\n",
       "          console.warn(\"failed to load library \" + url);\n",
       "        };\n",
       "        console.log(\"Bokeh: injecting script tag for BokehJS library: \", url);\n",
       "        document.getElementsByTagName(\"head\")[0].appendChild(s);\n",
       "      }\n",
       "    };var element = document.getElementById(\"a245ba71-729a-4bdf-912c-7ae2391b037b\");\n",
       "    if (element == null) {\n",
       "      console.log(\"Bokeh: ERROR: autoload.js configured with elementid 'a245ba71-729a-4bdf-912c-7ae2391b037b' but no matching script tag was found. \")\n",
       "      return false;\n",
       "    }\n",
       "  \n",
       "    var js_urls = [];\n",
       "  \n",
       "    var inline_js = [\n",
       "      function(Bokeh) {\n",
       "        (function() {\n",
       "          var fn = function() {\n",
       "            var docs_json = {\"1c35cfc8-0d4c-4601-8ab2-2f83af307956\":{\"roots\":{\"references\":[{\"attributes\":{\"data_source\":{\"id\":\"fe279229-bf4e-469d-b64b-eafcd4ca5999\",\"type\":\"ColumnDataSource\"},\"glyph\":{\"id\":\"34db8754-8a16-475a-987f-059de8486ae1\",\"type\":\"Patch\"},\"hover_glyph\":null,\"nonselection_glyph\":{\"id\":\"07b878a5-daad-46f0-acb6-615c77ee3137\",\"type\":\"Patch\"},\"selection_glyph\":null},\"id\":\"cb2cabfe-9cb8-4b76-b232-71f112aadbf7\",\"type\":\"GlyphRenderer\"},{\"attributes\":{\"line_color\":{\"value\":\"#e41a1c\"},\"line_width\":{\"value\":2},\"x\":{\"field\":\"x\"},\"y\":{\"field\":\"y\"}},\"id\":\"2d3ba875-2325-47ff-b8fe-2540fed0ca7f\",\"type\":\"Line\"},{\"attributes\":{\"callback\":null},\"id\":\"06d8fcc3-0d82-47b2-9498-5aad4bfc93e0\",\"type\":\"DataRange1d\"},{\"attributes\":{},\"id\":\"8a15e57b-47a8-4fff-af7a-d27b99a25d64\",\"type\":\"ToolEvents\"},{\"attributes\":{\"callback\":null,\"column_names\":[\"x\",\"y\"],\"data\":{\"x\":[0,1000,2000,3000,4000,5000,6000,7000,8000,9000,10000,11000,12000,13000,14000,15000,16000,17000,18000,19000,20000,21000,22000,23000,24000,25000,26000,27000,28000,29000,30000,31000,32000,33000,34000,35000,36000,37000,38000,39000,40000,41000,42000,43000,44000,45000,46000,47000,48000,49000,50000,51000,52000,53000,54000,55000,56000,57000,58000,59000,60000,61000,62000,63000,64000,65000,66000,67000,68000,69000,70000,71000,72000,73000,74000,75000,76000,77000,78000,79000,80000,81000,82000,83000,84000,85000,86000,87000,88000,89000,90000,91000,92000,93000,94000,95000,96000,97000,98000,99000,100000,101000,102000,103000,104000,105000,106000,107000,108000,109000,110000,111000,112000,113000,114000,115000,116000,117000,118000,119000,120000,121000,122000,123000,124000,125000,126000,127000,128000,129000,130000,131000,132000,133000,134000,135000,136000,137000,138000,139000,140000,141000,142000,143000,144000,145000,146000,147000,148000,149000,150000,151000,152000,153000,154000,155000,156000,157000,158000,159000,160000,161000,162000,163000,164000,165000,166000,167000,168000,169000,170000,171000,172000,173000,174000,175000,176000,177000,178000,179000,180000,181000,182000,183000,184000,185000,186000,187000,188000,189000,190000,191000,192000,193000,194000,195000,196000,197000,198000,199000,200000,201000,202000,203000,204000,205000,206000,207000,208000,209000,210000,211000,212000,213000,214000,215000,216000,217000,218000,219000,220000,221000,222000,223000,224000,225000,226000,227000,228000,229000,230000,231000,232000,233000,234000,235000,236000,237000,238000,239000,240000,241000,242000,243000,244000,245000,246000,247000,248000,249000,250000,251000,252000,253000,254000,255000,256000,257000,258000,259000,260000,261000,262000,263000,264000,265000,266000,267000,268000,269000,270000,271000,272000,273000,274000,275000,276000,277000,278000,279000,280000,281000,282000,283000,284000,285000,286000,287000,288000,289000,290000,291000,292000,293000,294000,295000,296000,297000,298000,299000,300000,301000,302000,303000,304000,305000,306000,307000,308000,309000,310000,311000,312000,313000,314000,315000,316000,317000,318000,319000,320000,321000,322000,323000,324000,325000,326000,327000,328000,329000,330000,331000,332000,333000,334000,335000,336000,337000,338000,339000,340000,341000,342000,343000,344000,345000,346000,347000,348000,349000,350000,351000,352000,353000,354000,355000,356000,357000,358000,359000,360000,361000,362000,363000,364000,365000,366000,367000,368000,369000,370000,371000,372000,373000,374000,375000,376000,377000,378000,379000,380000,381000,382000,383000,384000,385000,386000,387000,388000,389000,390000,391000,392000,393000,394000,395000,396000,397000,398000,399000,400000,401000,402000,403000,404000,405000,406000,407000,408000,409000,410000,411000,412000,413000,414000,415000,416000,417000,418000,419000,420000,421000,422000,423000,424000,425000,426000,427000,428000,429000,430000,431000,432000,433000,434000,435000,436000,437000,438000,439000,440000,441000,442000,443000,444000,445000,446000,447000,448000,449000,450000,451000,452000,453000,454000,455000,456000,457000,458000,459000,460000,461000,462000,463000,464000,465000,466000,467000,468000,469000,470000,471000,472000,473000,474000,475000,476000,477000,478000,479000,480000,481000,482000,483000,484000,485000,486000,487000,488000,489000,490000,491000,492000,493000,494000,495000,496000,497000,498000,499000,500000,501000,502000,503000,504000,505000,506000,507000,508000,509000,510000,511000,512000,513000,514000,515000,516000,517000,518000,519000,520000,521000,522000,523000,524000,525000,526000,527000,528000,529000,530000,531000,532000,533000,534000,535000,536000,537000,538000,539000,540000,541000,542000,543000,544000,545000,546000,547000,548000,549000,550000,551000,552000,553000,554000,555000,556000,557000,558000,559000,560000,561000,562000,563000,564000,565000,566000,567000,568000,569000,570000,571000,572000,573000,574000,575000,576000,577000,578000,579000,580000,581000,582000,583000,584000,585000,586000,587000,588000,589000,590000,591000,592000,593000,594000,595000,596000,597000,598000,599000,600000],\"y\":{\"__ndarray__\":\"AAAAAAAAAAAAAAAAAAAAAAAAAAAAAAAAAAAAAAAAAAAAAAAAAAAAAAAAAAAAAAAAAAAAAAAAAAAAAAAAAAAAAAAAAAAAAAAAAAAAAAAAAAAAAAAAAAAAAAAAAAAAAAAAAAAAAAAAAAAAAAAAAAAAAAAAAAAAAAAAAAAAAAAAAAAAAAAAAAAAAAAAAAAAAAAAAAAAAAAAAAAAAAAAAAAAAAAAAAAAAAAAAAAAAAAAAAAAAAAAAAAAAAAAAAAAAAAAAAAAAAAAAAAAAAAAAAAAAAAAAAAAAAAAAAAAAAAAAAAAAAAAAAAAAAAAAAAAAAAAAAAAAAAAAAAAAAAAAAAAAAAAAAAAAAAAAAAAAAAAAAAAAAAAAAAAAAAAAAAAAAAAAAAAAAAAAAAAAAAAAAAAAAAAAAAAAAAAAAAAAAAAAAAAAAAAAAAAAAAAAAAAAAAAAAAAAAAAAAAAAAAAAAAAAAAAAAAAAAAAAAAAAAAAAAAAAAAAAAAAAAAAAAAAAAAAAAAAAAAAAAAAAAAAAAAAAAAAAAAAAAAAAAAAAAAAAAAAAAAAAAAAAAAAAAAAAAAAAAAAAAAAAAAAAAAAAAAAAAAAAAAAAAAAAAAAAAAAAAAAAAAAAAAAAAAAAAAAAAAAAAAAAAAAAAAAAAAAAAAAAAAAAAAAAAAAAAAAAAAAAAAAAAAAAAAAAAAAAAAAAAAAAAAAAAAAAAAAAAAAAAAAAAAAAAAAAAAAAAAAAAAAAAAAAAAAAAAAAAAAAAAAAAAAAAAAAAAAAAAAAAAAAAAAAAAAAAAAAAAAAAAAAAAAAAAAAAAAAAAAAAAAAAAAAAAAAAAAAAAAAAAAAAAAAAAAAAAAAAAAAAAAAAAAAAAAAAAAAAAAAAAAAAAAAAAAAAAAAAAAAAAAAAAAAAAAAAAAAAAAAAAAAAAAAAAAAAAAAAAAAAAAAAAAAAAAAAAAAAAAAAAAAAAAAAAAAAAAAAAAAAAAAAAAAAAAAAAAAAAAAAAAAAAAAAAAAAAAAAAAAAAAAAAAAAAAAAAAAAAAAAAAAAAAAAAAAAAAAAAAAAAAAAAAAAAAAAAAAAAAAAAAAAAAAAAAAAAAAAAAAAAAAAAAAAAAAAAAAAAAAAAAAAAAAAAAAAAAAAAAAAAAAAAAAAAAAAAAAAAAAAAAAAAAAAAAAAAAAAAAAAAAAAAAAAAAAAAAAAAAAAAAAAAAAAAAAAAAAAAAAAAAAAAAAAAAAAAAAAAAAAAAAAAAAAAAAAAAAAAAAAAAAAAAAAAAAAAAAAAAAAAAAAAAAAAAAAAAAAAAAAAAAAAAAAAAAAAAAAAAAAAAAAAAAAAAAAAAAAAAAAAAAAAAAAAAAAAAAAAAAAAAAAAAAAAAAAAAAAAAAAAAAAAAAAAAAAAAAAAAAAAAAAAAAAAAAAAAAAAAAAAAAAAAAAAAAAAAAAAAAAAAAAAAAAAAAAAAAAAAAAAAAAAAAAAAAAAAAAAAAAAAAAAAAAAAAAAAAAAAAAAAAAAAAAAAAAAAAAAAAAAAAAAAAAAAAAAAAAAAAAAAAAAAAAAAAAAAAAAAAAAAAAAAAAAAAAAAAAAAAAAAAAAAAAAAAAAAAAAAAAAAAAAAAAAAAAAAAAAAAAAAAAAAAAAAAAAAAAAAAAAAAAAAAAAAAAAAAAAAAAAAAAAAAAAAAAAAAAAAAAAAAAAAAAAAAAAAAAAAAAAAAAAAAAAAAAAAAAAAAAAAAAAAAAAAAAAAAAAAAAAAAAAAAAAAAAAAAAAAAAAAAAAAAAAAAAAAAAAAAAAAAAAAAAAAAAAAAAAAAAAAAAAAAAAAAAAAAAAAAAAAAAAAAAAAAAAAAAAAAAAAAAAAAAAAAAAAAAAAAAAAAAAAAAAAAAAAAAAAAAAAAAAAAAAAAAAAAAAAAAAAAAAAAAAAAAAAAAAAAAAAAAAAAAAAAAAAAAAAAAAAAAAAAAAAAAAAAAAAAAAAAAAAAAAAAAAAAAAAAAAAAAAAAAAAAAAAAAAAAAAAAAAAAAAAAAAAAAAAAAAAAAAAAAAAAAAAAAAAAAAAAAAAAAAAAAAAAAAAAAAAAAAAAAAAAAAAAAAAAAAAAAAAAAAAAAAAAAAAAAAAAAAAAAAAAAAAAAAAAAAAAAAAAAAAAAAAAAAAAAAAAAAAAAAAAAAAAAAAAAAAAAAAAAAAAAAAAAAAAAAAAAAAAAAAAAAAAAAAAAAAAAAAAAAAAAAAAAAAAAAAAAAAAAAAAAAAAAAAAAAAAAAAAAAAAAAAAAAAAAAAAAAAAAAAAAAAAAAAAAAAAAAAAAAAAAAAAAAAAAAAAAAAAAAAAAAAAAAAAAAAAAAAAAAAAAAAAAAAAAAAAAAAAAAAAAAAAAAAAAAAAAAAAAAAAAAAAAAAAAAAAAAAAAAAAAAAAAAAAAAAAAAAAAAAAAAAAAAAAAAAAAAAAAAAAAAAAAAAAAAAAAAAAAAAAAAAAAAAAAAAAAAAAAAAAAAAAAAAAAAAAAAAAAAAAAAAAAAAAAAAAAAAAAAAAAAAAAAAAAAAAAAAAAAAAAAAAAAAAAAAAAAAAAAAAAAAAAAAAAAAAAAAAAAAAAAAAAAAAAAAAAAAAAAAAAAAAAAAAAAAAAAAAAAAAAAAAAAAAAAAAAAAAAAAAAAAAAAAAAAAAAAAAAAAAAAAAAAAAAAAAAAAAAAAAAAAAENX2w1OipE/Q1fbDU6KoT/lAskUdU+qP0NX2w1OirE/FC1SkeHstT/lAskUdU+6P7bYP5gIsr4/Q1fbDU6KwT8swpbPl7vDPxQtUpHh7MU//ZcNUyseyD+VZ14Ou+/IP1YyAFRx48Y/Fv2hmSfXxD/Wx0Pf3crCP5eS5SSUvsA/rroO1ZRkvT8vUFJgAUy5P7HllettM7U/MnvZdtoasT9lIToEjgSqP2ZMwRpn06E/0e6QYoBEkz+iJvp8lBFnPwAAAAAAAAAAAAAAAAAAAAAAAAAAAAAAAAAAAAAAAAAAAAAAAAAAAAAAAAAAAAAAAAAAAAAAAAAAAAAAAAAAAAAAAAAAAAAAAAAAAAAAAAAAAAAAAAAAAAAAAAAAAAAAAAAAAAAAAAAAAAAAAAAAAAAAAAAAAAAAAAAAAAAAAAAAAAAAAAAAAAAAAAAAAAAAAAAAAAAAAAAAAAAAAAAAAAAAAAAAAAAAAAAAAAAAAAAAAAAAAAAAAAAAAAAAAAAAAAAAAAAAAAAAAAAAAAAAAAAAAAAAAAAAAAAAAAAAAAAAAAAAAAAAAAAAAAAAAAAAAAAAAAAAAAAAAAAAAAAAAAAAAAAAAAAAAAAAAAAAAAAAAAAAAAAAAAAAAAAAAAAAAAAAAAAAAAAAAAAAAAAAAAAAAAAAAAAAAAAAAAAAAAAAAAAAAAAAAAAAAAAAAAAAAAAAAAAAAAAAAAAAAAAAAAAAAAAAAAAAAAAAAAAAAAAAAAAAAAAAAAAAAAAAAAAAAAAAAAAAAAAAAAAAAAAAAAAAAAAAAAAAAAV8TKWzBpo/BXxMpbMGqj8DXfm7BoWzPwV8TKWzBro/gs1PRzBEwD8DXfm7BoXDP4TsojDdxcY/1rDfE+tUyT+We4FZoUjHP1ZGI59XPMU/FxHF5A0wwz/X22YqxCPBPzBNEeD0Lr4/suJUa2EWuj8yeJj2zf21P7MN3IE65bE/aEY/Gk6Zqz9qccYwJ2ijP9Y4m44AbpY/aTum7soueD88HnuHZAOGP3p8gGgkc5w/67ShRkvypj+YKwNZBKuvPyNRsrXeMbQ/egzjPjuOuD/SxxPIl+q8P5RBoih6o8A/P586bajRwj/r/NKx1v/EP5Zaa/YELsc/QrgDOzNcyT+71XPS+8bHP3ygFRiyusU/PGu3XWiuwz/9NVmjHqLBP3oB9tGpK78/+5Y5XRYTuz98LH3ogvq2P/3BwHPv4bI/+64I/reSrT/+2Y8UkWGlP/4JLlbUYJo/BsB4Bg39gz8AAAAAAAAAAAAAAAAAAAAAAAAAAAAAAAAAAAAAAAAAAAAAAAAAAAAAAAAAAAAAAAAvB11VyAuYPy8HXVXIC6g/Y8UFQNYIsj8vB11VyAu4P/tItGq6Dr4/Y8UFQNYIwj9KZrFKTwrFPy8HXVXIC8g/od/3b16cyD9hqpm1FJDGPyJ1O/vKg8Q/4j/dQIF3wj+iCn+GN2vAP8aqQZjbvbw/R0CFI0iluD/I1ciutIy0P0lrDDohdLA/kwGgihu3qD+VLCeh9IWgPy6vXG+bqZA/ZkzBGmfTMT8AAAAAAAAAAAAAAAAAAAAAAAAAAAAAAAAAAAAAAAAAAAAAAAAAAAAAAAAAAAAAAAAAAAAAAAAAAAAAAAAAAAAAAAAAAAAAAAAAAAAAAAAAAAAAAAAAAAAAAAAAAAAAAADMFUkxlveQP1CEnYhCDKo/3D5L/FzOtT+Su0e0mJa+PyMcIjZqr8M/flogEogTyD8iGXJsPUPIP+PjE7LzNsY/o66196kqxD9keVc9YB7CPyVE+YIWEsA/yh02kZkLvD9Ls3kcBvO3P8xIvady2rM/mrwBZr6Drz+b54h8l1KnPzolICbhQp4/e/ZcpibBiz8AAAAAAAAAAAAAAAAAAAAAAAAAAAAAAAAAAAAAAAAAAAAAAAAAAAAAAAAAAAAAAAAAAAAAAAAAAAAAAAAAAAAAAAAAAAAAAAAAAAAAAAAAAAAAAAAAAAAAAAAAAAAAAAAAAAAAAAAAAAAAAAAAAAAAAAAAAAAAAAAAAAAAAAAAAAAAAAAAAAAAAAAAAAAAAAAAAAAAAAAAAAAAAAAAAAAAAAAAAAAAAAAAAAAAAAAAAAAAAAAAAAAAAAAAAAAAAAAAAAAAAAAAAAAAAAAAAAAAAAAAAAAAAAAAAAAAAAAAAAAAAAAAAAAAAAAAAAAAAAAAAAAAAAAAAAAAAAAAAAAAAAAAAAAAAAAAAAAAAAAAAAAAAAAAAAAAAAAAAAAAAAAAAAAAAAAAAAAAAAAAAAAAAAAAAAAAAAAAAAAAAAAAAAAAAAAAAAAAAAAAAAAAAAAAAAAAAAAAAAAAAAAAAAAAAAAAAAAAAAAAAAAAAAAAAAAAAAAAAAAAAAAAAAAAAAAAAAAAAAAAAAAAAAAAAAAAAAAAAAAAAAAAAAAAAAAAAAAAAAAAAAAAAAAAAAAAAAAAAAAAAAAAAAAAAAAAAAAAAAAAAAAAAAAAAAAAAAAAAAAAAAAAAAAAAAAAAAAAAAAAAAAAAAAAAAAAAAAAAAAAAAAAAAAAAAAAAAAAAAAAAAAAAAAAAAAAAAAAAAAAAAAAAAAAAAAAAAAAAAAAAAAAAAAAAAAAAAAAAAAAAAAAAAAAAAAAAAAAAAAAAAAAAAAAAAAAAAAAAAAAAAAAAAAAAAAAAAAAAAAAAAAAAAAAAAAAAAAAAAAAAAAAAAAAAAAAAAAAAAAAAAAAAAAAAAAAAAAAAAAAAAAAAAAAAAAAAAAAAAAAAAAAAAAAAAAAAAAAAAAAAAAAAAAAAAAAAAAAAAAAAAAAAAAAAAAAAAAAAAAAAAAAAAAAAAAAAAAAAAAAAAAAAAAAAAAAAAAAAAAAAAAAAAAAAAAAAAAAAAAAAAAAAAAAAAAAAAAAAAAAAAAAAAAAAAAAAAAAAAAAAAAAAAAAAAAAAAAAAAAAAAAAAAAAAAAAAAAAAAAAAAAAAAAAAAAAAAAAAAAAAAAAAAAAAAAAAAAAAAAAAAAAAAAAAAAAAAAAAAAAAAAAAAAAAAAAAAAAAAAAAAAAAAAAAAAAAAAAAAAAAAAAAAAAAAAAAAAAAAAAAAAAAAAAAAAAAAAAAAAAAAAAAAAAAAAAAAAAAAAAAAAAAAAAAAAAAAAAAAAAAAAAAAAAAAAAAAAAAAAAAAAAAAAAAAAAAAAAAAAAAAAAAAAAAAAAAAAAAAAAAAAAAAAAAAAAAAAAAAAAAAAAAAAAAAAAAAAAAAAAAAAAAAAAAAAAAAAAAAAAAAAAAAAAAAAAAAAAAAAAAAAAAAAAAAAAAAAAAAAAAAAAAAAAAAAAAAAAAAAAAAAAAAAAAAAAAAAAAAAAAAAAAAAAAAAAAAAAAAAAAAAAAAAAAAAAAAAAAAAAAAAAAAAAAAAAAAAAAAAAAAAA1lgRSUOAlD/TOZ41VkSyP3Ad+JibaL8/hwApfnBGxj8XodgKmpbIP9drelBQisY/mDYclgZ+xD9YAb7bvHHCPxnMXyFzZcA/sy0DzlKyvD8zw0ZZv5m4P7VYiuQrgbQ/Nu7Nb5hosD9tByP2CaCoP24yqgzjbqA/4bpiRnh7kD9V5BBxcyoZPwAAAAAAAAAAAAAAAAAAAAAAAAAAAAAAAAAAAAAAAAAAAAAAAAAAAAAAAAAAAAAAAAAAAAAAAAAAAAAAAAAAAAAAAAAAAAAAAAAAAAAAAAAAAAAAAAAAAAAAAAAAAAAAAAAAAAAAAAAAAAAAAAAAAAA=\",\"dtype\":\"float64\",\"shape\":[601]}}},\"id\":\"a3301c21-b2b5-4305-aa2a-b678035cd4b3\",\"type\":\"ColumnDataSource\"},{\"attributes\":{\"active_drag\":\"auto\",\"active_scroll\":\"auto\",\"active_tap\":\"auto\",\"tools\":[{\"id\":\"5609cd94-fc2f-4a87-8d36-33c44506dc7a\",\"type\":\"PanTool\"},{\"id\":\"30ae469a-5e85-419e-8ea5-1a6cfd8ec93f\",\"type\":\"WheelZoomTool\"},{\"id\":\"ae352891-b359-4cb4-b031-460220b41556\",\"type\":\"BoxZoomTool\"},{\"id\":\"b64e08bd-7b02-4457-b37c-6e77607bde17\",\"type\":\"SaveTool\"},{\"id\":\"12f85c97-8f23-4e8f-bcb7-dede982b608b\",\"type\":\"ResetTool\"},{\"id\":\"aaeb8517-7278-4ac9-8ba3-0bdf9870cdd4\",\"type\":\"HelpTool\"}]},\"id\":\"79a85cb2-39ab-4fa3-a335-ad065e256e27\",\"type\":\"Toolbar\"},{\"attributes\":{},\"id\":\"3361fc3b-4dea-4307-95d0-cdd83eaff5a2\",\"type\":\"BasicTickFormatter\"},{\"attributes\":{\"fill_alpha\":{\"value\":0.1},\"fill_color\":{\"value\":\"#4daf4a\"},\"line_alpha\":{\"value\":0.1},\"line_color\":{\"value\":\"#4daf4a\"},\"x\":{\"field\":\"x\"},\"y\":{\"field\":\"y\"}},\"id\":\"8895ed8c-18ec-46c2-80f9-af97f6fbe554\",\"type\":\"Patch\"},{\"attributes\":{\"axis_label\":\"T\",\"formatter\":{\"id\":\"65bf7e3a-bdd0-4b7d-86ed-0744b73e3283\",\"type\":\"BasicTickFormatter\"},\"plot\":{\"id\":\"4ae4105e-0ced-4c21-aece-46698a1e0fbb\",\"subtype\":\"Figure\",\"type\":\"Plot\"},\"ticker\":{\"id\":\"3de24e9c-4a2c-43b4-9492-234d87591f8e\",\"type\":\"BasicTicker\"}},\"id\":\"0af48d5c-fe1b-4b90-9b69-74a50a8f4468\",\"type\":\"LinearAxis\"},{\"attributes\":{\"fill_alpha\":{\"value\":0.1},\"fill_color\":{\"value\":\"#1f77b4\"},\"line_alpha\":{\"value\":0.1},\"line_color\":{\"value\":\"#1f77b4\"},\"x\":{\"field\":\"x\"},\"y\":{\"field\":\"y\"}},\"id\":\"07b878a5-daad-46f0-acb6-615c77ee3137\",\"type\":\"Patch\"},{\"attributes\":{\"callback\":null,\"end\":1.1,\"start\":-0.1},\"id\":\"9e278828-0ff5-4f33-a9e1-2d95c684146f\",\"type\":\"Range1d\"},{\"attributes\":{},\"id\":\"3de24e9c-4a2c-43b4-9492-234d87591f8e\",\"type\":\"BasicTicker\"},{\"attributes\":{\"plot\":{\"id\":\"4ae4105e-0ced-4c21-aece-46698a1e0fbb\",\"subtype\":\"Figure\",\"type\":\"Plot\"},\"ticker\":{\"id\":\"3de24e9c-4a2c-43b4-9492-234d87591f8e\",\"type\":\"BasicTicker\"}},\"id\":\"1dc63fa8-b150-4646-8112-306ac72d3b0b\",\"type\":\"Grid\"},{\"attributes\":{\"axis_label\":\"Episode Reward\",\"formatter\":{\"id\":\"3361fc3b-4dea-4307-95d0-cdd83eaff5a2\",\"type\":\"BasicTickFormatter\"},\"plot\":{\"id\":\"4ae4105e-0ced-4c21-aece-46698a1e0fbb\",\"subtype\":\"Figure\",\"type\":\"Plot\"},\"ticker\":{\"id\":\"a619b2c4-41da-455c-bfd0-378ba8910469\",\"type\":\"BasicTicker\"}},\"id\":\"d3ec5a99-f6a8-4469-b27c-2e9b7ba2626a\",\"type\":\"LinearAxis\"},{\"attributes\":{},\"id\":\"a619b2c4-41da-455c-bfd0-378ba8910469\",\"type\":\"BasicTicker\"},{\"attributes\":{\"dimension\":1,\"plot\":{\"id\":\"4ae4105e-0ced-4c21-aece-46698a1e0fbb\",\"subtype\":\"Figure\",\"type\":\"Plot\"},\"ticker\":{\"id\":\"a619b2c4-41da-455c-bfd0-378ba8910469\",\"type\":\"BasicTicker\"}},\"id\":\"46805dae-8002-495b-8ded-a938168d10d5\",\"type\":\"Grid\"},{\"attributes\":{\"below\":[{\"id\":\"0af48d5c-fe1b-4b90-9b69-74a50a8f4468\",\"type\":\"LinearAxis\"}],\"left\":[{\"id\":\"d3ec5a99-f6a8-4469-b27c-2e9b7ba2626a\",\"type\":\"LinearAxis\"}],\"plot_height\":800,\"plot_width\":1200,\"renderers\":[{\"id\":\"0af48d5c-fe1b-4b90-9b69-74a50a8f4468\",\"type\":\"LinearAxis\"},{\"id\":\"1dc63fa8-b150-4646-8112-306ac72d3b0b\",\"type\":\"Grid\"},{\"id\":\"d3ec5a99-f6a8-4469-b27c-2e9b7ba2626a\",\"type\":\"LinearAxis\"},{\"id\":\"46805dae-8002-495b-8ded-a938168d10d5\",\"type\":\"Grid\"},{\"id\":\"f180435d-9746-413b-80f6-c907970a552a\",\"type\":\"BoxAnnotation\"},{\"id\":\"cb2cabfe-9cb8-4b76-b232-71f112aadbf7\",\"type\":\"GlyphRenderer\"},{\"id\":\"8cccad8c-4292-4f3d-be47-6941d5a56878\",\"type\":\"GlyphRenderer\"},{\"id\":\"3e001da6-76fa-432b-8e70-5aede67942b4\",\"type\":\"GlyphRenderer\"},{\"id\":\"c657fadb-0f98-4dde-ab6d-5e685d052657\",\"type\":\"GlyphRenderer\"},{\"id\":\"8a7ab817-51ad-453b-a34e-fae0e6f7980c\",\"type\":\"GlyphRenderer\"},{\"id\":\"c36b522a-dd2b-4c86-928d-e22aae962aa4\",\"type\":\"GlyphRenderer\"},{\"id\":\"97d0c918-bbb0-45d2-8b72-6f46841c0b82\",\"type\":\"Legend\"}],\"right\":[{\"id\":\"97d0c918-bbb0-45d2-8b72-6f46841c0b82\",\"type\":\"Legend\"}],\"title\":{\"id\":\"3439225d-e2f5-41f7-86a0-5662da51a32e\",\"type\":\"Title\"},\"tool_events\":{\"id\":\"8a15e57b-47a8-4fff-af7a-d27b99a25d64\",\"type\":\"ToolEvents\"},\"toolbar\":{\"id\":\"79a85cb2-39ab-4fa3-a335-ad065e256e27\",\"type\":\"Toolbar\"},\"toolbar_location\":\"above\",\"x_range\":{\"id\":\"06d8fcc3-0d82-47b2-9498-5aad4bfc93e0\",\"type\":\"DataRange1d\"},\"y_range\":{\"id\":\"9e278828-0ff5-4f33-a9e1-2d95c684146f\",\"type\":\"Range1d\"}},\"id\":\"4ae4105e-0ced-4c21-aece-46698a1e0fbb\",\"subtype\":\"Figure\",\"type\":\"Plot\"},{\"attributes\":{\"bottom_units\":\"screen\",\"fill_alpha\":{\"value\":0.5},\"fill_color\":{\"value\":\"lightgrey\"},\"left_units\":\"screen\",\"level\":\"overlay\",\"line_alpha\":{\"value\":1.0},\"line_color\":{\"value\":\"black\"},\"line_dash\":[4,4],\"line_width\":{\"value\":2},\"plot\":null,\"render_mode\":\"css\",\"right_units\":\"screen\",\"top_units\":\"screen\"},\"id\":\"f180435d-9746-413b-80f6-c907970a552a\",\"type\":\"BoxAnnotation\"},{\"attributes\":{\"label\":{\"value\":\"Traces 0.9 Lambda 6 States 3 Gap\"},\"renderers\":[{\"id\":\"c657fadb-0f98-4dde-ab6d-5e685d052657\",\"type\":\"GlyphRenderer\"}]},\"id\":\"87e98a35-199a-409e-9b18-3706fed3af20\",\"type\":\"LegendItem\"},{\"attributes\":{\"plot\":{\"id\":\"4ae4105e-0ced-4c21-aece-46698a1e0fbb\",\"subtype\":\"Figure\",\"type\":\"Plot\"}},\"id\":\"5609cd94-fc2f-4a87-8d36-33c44506dc7a\",\"type\":\"PanTool\"},{\"attributes\":{\"plot\":{\"id\":\"4ae4105e-0ced-4c21-aece-46698a1e0fbb\",\"subtype\":\"Figure\",\"type\":\"Plot\"}},\"id\":\"30ae469a-5e85-419e-8ea5-1a6cfd8ec93f\",\"type\":\"WheelZoomTool\"},{\"attributes\":{\"overlay\":{\"id\":\"f180435d-9746-413b-80f6-c907970a552a\",\"type\":\"BoxAnnotation\"},\"plot\":{\"id\":\"4ae4105e-0ced-4c21-aece-46698a1e0fbb\",\"subtype\":\"Figure\",\"type\":\"Plot\"}},\"id\":\"ae352891-b359-4cb4-b031-460220b41556\",\"type\":\"BoxZoomTool\"},{\"attributes\":{\"plot\":{\"id\":\"4ae4105e-0ced-4c21-aece-46698a1e0fbb\",\"subtype\":\"Figure\",\"type\":\"Plot\"}},\"id\":\"b64e08bd-7b02-4457-b37c-6e77607bde17\",\"type\":\"SaveTool\"},{\"attributes\":{\"plot\":{\"id\":\"4ae4105e-0ced-4c21-aece-46698a1e0fbb\",\"subtype\":\"Figure\",\"type\":\"Plot\"}},\"id\":\"12f85c97-8f23-4e8f-bcb7-dede982b608b\",\"type\":\"ResetTool\"},{\"attributes\":{\"plot\":{\"id\":\"4ae4105e-0ced-4c21-aece-46698a1e0fbb\",\"subtype\":\"Figure\",\"type\":\"Plot\"}},\"id\":\"aaeb8517-7278-4ac9-8ba3-0bdf9870cdd4\",\"type\":\"HelpTool\"},{\"attributes\":{\"fill_alpha\":{\"value\":0.1},\"fill_color\":{\"value\":\"#1f77b4\"},\"line_alpha\":{\"value\":0.1},\"line_color\":{\"value\":\"#1f77b4\"},\"x\":{\"field\":\"x\"},\"y\":{\"field\":\"y\"}},\"id\":\"091040d0-84dc-47fb-a535-76e72819207c\",\"type\":\"Patch\"},{\"attributes\":{\"line_alpha\":{\"value\":0.1},\"line_color\":{\"value\":\"#1f77b4\"},\"line_width\":{\"value\":2},\"x\":{\"field\":\"x\"},\"y\":{\"field\":\"y\"}},\"id\":\"90b0efa3-4748-4bcc-ae7f-9401f6183e36\",\"type\":\"Line\"},{\"attributes\":{\"fill_alpha\":{\"value\":0.1},\"fill_color\":{\"value\":\"#1f77b4\"},\"line_alpha\":{\"value\":0.1},\"line_color\":{\"value\":\"#1f77b4\"},\"x\":{\"field\":\"x\"},\"y\":{\"field\":\"y\"}},\"id\":\"763bb0ba-f886-4167-9281-d945616fde0e\",\"type\":\"Patch\"},{\"attributes\":{\"items\":[{\"id\":\"9d1a5da5-af6c-4a7a-b32e-3e2ddd795d9b\",\"type\":\"LegendItem\"},{\"id\":\"87e98a35-199a-409e-9b18-3706fed3af20\",\"type\":\"LegendItem\"},{\"id\":\"c8f3edfd-1a2b-4170-b0a3-f9578bcaae55\",\"type\":\"LegendItem\"}],\"location\":[0,-30],\"plot\":{\"id\":\"4ae4105e-0ced-4c21-aece-46698a1e0fbb\",\"subtype\":\"Figure\",\"type\":\"Plot\"}},\"id\":\"97d0c918-bbb0-45d2-8b72-6f46841c0b82\",\"type\":\"Legend\"},{\"attributes\":{\"fill_alpha\":{\"value\":0.1},\"fill_color\":{\"value\":\"#377eb8\"},\"line_alpha\":{\"value\":0.1},\"line_color\":{\"value\":\"#377eb8\"},\"x\":{\"field\":\"x\"},\"y\":{\"field\":\"y\"}},\"id\":\"82bcada0-b2eb-4874-9fb9-dbe12cb13c89\",\"type\":\"Patch\"},{\"attributes\":{\"callback\":null,\"column_names\":[\"x\",\"y\"],\"data\":{\"x\":[0,1000,2000,3000,4000,5000,6000,7000,8000,9000,10000,11000,12000,13000,14000,15000,16000,17000,18000,19000,20000,21000,22000,23000,24000,25000,26000,27000,28000,29000,30000,31000,32000,33000,34000,35000,36000,37000,38000,39000,40000,41000,42000,43000,44000,45000,46000,47000,48000,49000,50000,51000,52000,53000,54000,55000,56000,57000,58000,59000,60000,61000,62000,63000,64000,65000,66000,67000,68000,69000,70000,71000,72000,73000,74000,75000,76000,77000,78000,79000,80000,81000,82000,83000,84000,85000,86000,87000,88000,89000,90000,91000,92000,93000,94000,95000,96000,97000,98000,99000,100000,101000,102000,103000,104000,105000,106000,107000,108000,109000,110000,111000,112000,113000,114000,115000,116000,117000,118000,119000,120000,121000,122000,123000,124000,125000,126000,127000,128000,129000,130000,131000,132000,133000,134000,135000,136000,137000,138000,139000,140000,141000,142000,143000,144000,145000,146000,147000,148000,149000,150000,151000,152000,153000,154000,155000,156000,157000,158000,159000,160000,161000,162000,163000,164000,165000,166000,167000,168000,169000,170000,171000,172000,173000,174000,175000,176000,177000,178000,179000,180000,181000,182000,183000,184000,185000,186000,187000,188000,189000,190000,191000,192000,193000,194000,195000,196000,197000,198000,199000,200000,201000,202000,203000,204000,205000,206000,207000,208000,209000,210000,211000,212000,213000,214000,215000,216000,217000,218000,219000,220000,221000,222000,223000,224000,225000,226000,227000,228000,229000,230000,231000,232000,233000,234000,235000,236000,237000,238000,239000,240000,241000,242000,243000,244000,245000,246000,247000,248000,249000,250000,251000,252000,253000,254000,255000,256000,257000,258000,259000,260000,261000,262000,263000,264000,265000,266000,267000,268000,269000,270000,271000,272000,273000,274000,275000,276000,277000,278000,279000,280000,281000,282000,283000,284000,285000,286000,287000,288000,289000,290000,291000,292000,293000,294000,295000,296000,297000,298000,299000,300000,301000,302000,303000,304000,305000,306000,307000,308000,309000,310000,311000,312000,313000,314000,315000,316000,317000,318000,319000,320000,321000,322000,323000,324000,325000,326000,327000,328000,329000,330000,331000,332000,333000,334000,335000,336000,337000,338000,339000,340000,341000,342000,343000,344000,345000,346000,347000,348000,349000,350000,351000,352000,353000,354000,355000,356000,357000,358000,359000,360000,361000,362000,363000,364000,365000,366000,367000,368000,369000,370000,371000,372000,373000,374000,375000,376000,377000,378000,379000,380000,381000,382000,383000,384000,385000,386000,387000,388000,389000,390000,391000,392000,393000,394000,395000,396000,397000,398000,399000,400000,401000,402000,403000,404000,405000,406000,407000,408000,409000,410000,411000,412000,413000,414000,415000,416000,417000,418000,419000,420000,421000,422000,423000,424000,425000,426000,427000,428000,429000,430000,431000,432000,433000,434000,435000,436000,437000,438000,439000,440000,441000,442000,443000,444000,445000,446000,447000,448000,449000,450000,451000,452000,453000,454000,455000,456000,457000,458000,459000,460000,461000,462000,463000,464000,465000,466000,467000,468000,469000,470000,471000,472000,473000,474000,475000,476000,477000,478000,479000,480000,481000,482000,483000,484000,485000,486000,487000,488000,489000,490000,491000,492000,493000,494000,495000,496000,497000,498000,499000,500000,501000,502000,503000,504000,505000,506000,507000,508000,509000,510000,511000,512000,513000,514000,515000,516000,517000,518000,519000,520000,521000,522000,523000,524000,525000,526000,527000,528000,529000,530000,531000,532000,533000,534000,535000,536000,537000,538000,539000,540000,541000,542000,543000,544000,545000,546000,547000,548000,549000,550000,551000,552000,553000,554000,555000,556000,557000,558000,559000,560000,561000,562000,563000,564000,565000,566000,567000,568000,569000,570000,571000,572000,573000,574000,575000,576000,577000,578000,579000,580000,581000,582000,583000,584000,585000,586000,587000,588000,589000,590000,591000,592000,593000,594000,595000,596000,597000,598000,599000,600000],\"y\":{\"__ndarray__\":\"AAAAAAAAAAAAAAAAAAAAAAAAAAAAAAAAAAAAAAAAAAAAAAAAAAAAAAAAAAAAAAAAAAAAAAAAAAAAAAAAAAAAAAAAAAAAAAAAAAAAAAAAAAAAAAAAAAAAAAAAAAAAAAAAAAAAAAAAAAAAAAAAAAAAAAAAAAAAAAAAAAAAAAAAAAAAAAAAAAAAAAAAAAAAAAAAAAAAAAAAAAAAAAAAAAAAAAAAAAAAAAAAAAAAAAAAAAAAAAAAAAAAAAAAAAAAAAAAAAAAAAAAAAAAAAAAAAAAAAAAAAAAAAAAAAAAAAAAAAAAAAAAAAAAAAAAAAAAAAAAAAAAAAAAAAAAAAAAAAAAAAAAAAAAAAAAAAAAAAAAAAAAAAAAAAAAAAAAAAAAAAAAAAAAAAAAAAAAAAAAAAAAAAAAAAAAAAAAAAAAAAAAAAAAAAAAAAAAAAAAAAAAAAAAAAAAAAAAAAAAAAAAAAAAAAAAAAAAAAAAAAAAAAAAAAAAAAAAAAAAAAAAAAAAAAAAAAAAAAAAAAAAAAAAAAAAAAAAAAAAAAAAAAAAAAAAAAAAAAAAAAAAAAAAAAAAAAAAAAAAAAAAAAAAAAAAAAAAAAAAAAAAAAAAAAAAAAAAAAAAAAAAAAAAAAAAAAAAAAAAAAAAAAAAAAAAAAAAAAAAAAAAAAAAAAAAAAAAAAAAAAAAAAAAAAAAAAAAAAAAAAAAAAAAAAAAAAAAAAAAAAAAAAAAAAAAAAAAAAAAAAAAAAAAAAAAAAAAAAAAAAAAAAAAAAAAAAAAAAAAAAAAAAAAAAAAAAAAAAAAAAAAAAAAAAAAAAAAAAAAAAAAAAAAAAAAAAAAAAAAAAAAAAAAAAAAAAAAAAAAAAAAAAAAAAAAAAAAAAAAAAAAAAAAAAAAAAAAAAAAAAAAAAAAAAAAAAAAAAAAAAAAAAAAAAAAAAAAAAAAAAAAAAAAAAAAAAAAAAAAAAAAAAAAAAAAAAAAAAAAAAAAAAAAAAAAAAAAAAAAAAAAAAAAAAAAAAAAAAAAAAAAAAAAAAAAAAAAAAAAAAAAAAAAAAAAAAAAAAAAAAAAAAAAAAAAAAAAAAAAAAAAAAAAAAAAAAAAAAAAAAAAAAAAAAAAAAAAAAAAAAAAAAAAAAAAAAAAAAAAAAAAAAAAAAAAAAAAAAAAAAAAAAAAAAAAAAAAAAAAAAAAAAAAAAAAAAAAAAAAAAAAAAAAAAAAAAAAAAAAAAAAAAAAAAAAAAAAAAAAAAAAAAAAAAAAAAAAAAAAAAAAAAAAAAAAAAAAAAAAAAAAAAAAAAAAAAAAAAAAAAAAAAAAAAAAAAAAAAAAAAAAAAAAAAAAAAAAAAAAAAAAAAAAAAAAAAAAAAAAAAAAAAAAAAAAAAAAAAAAAAAAAAAAAAAAAAAAAAAAAAAAAAAAAAAAAAAAAAAAAAAAAAAAAAAAAAAAAAAAAAAAAAAAAAAAAAAAAAAAAAAAAAAAAAAAAAAAAAAAAAAAAAAAAAAAAAAAAAAAAAAAAAAAAAAAAAAAAAAAAAAAAAAAAAAAAAAAAAAAAAAAAAAAAAAAAAAAAAAAAAAAAAAAAAAAAAAAAAAAAAAAAAAAAAAAAAAAAAAAAAAAAAAAAAAAAAAAAAAAAAAAAAAAAAAAAAAAAAAAAAAAAAAAAAAAAAAAAAAAAAAAAAAAAAAAAAAAAAAAAAAAAAAAAAAAAAAAAAAAAAAAAAAAAAAAAAAAAAAAAAAAAAAAAAAAAAAAAAAAAAAAAAAAAAAAAAAAAAAAAAAAAAAAAAAAAAAAAAAAAAAAAAAAAAAAAAAAAAAAAAAAAAAAAAAAAAAAAAAAAAAAAAAAAAAAAAAAAAAAAAAAAAAAAAAAAAAAAAAAAAAAAAAAAAAAAAAAAAAAAAAAAAAAAAAAAAAAAAAAAAAAAAAAAAAAAAAAAAAAAAAAAAAAAAAAAAAAAAAAAAAAAAAAAAAAAAAAAAAAAAAAAAAAAAAAAAAAAAAAAAAAAAAAAAAAAAAAAAAAAAAAAAAAAAAAAAAAAAAAAAAAAAAAAAAAAAAAAAAAAAAAAAAAAAAAAAAAAAAAAAAAAAAAAAAAAAAAAAAAAAAAAAAAAAAAAAAAAAAAAAAAAAAAAAAAAAAAAAAAAAAAAAAAAAAAAAAAAAAAAAAAAAAAAAAAAAAAAAAAAAAAAAAAAAAAAAAAAAAAAAAAAAAAAAAAAAAAAAAAAAAAAAAAAAAAAAAAAAAAAAAAAAAAAAAAAAAAAAAAAAAAAAAAAAAAAAAAAAAAAAAAAAAAAAAAAAAAAAAAAAAAAAAAAAAAAAAAAAAAAAAAAAAAAAAAAAAAAAAAAAAAAAAAAAAAAAAAAAAAAAAAAAAAAAAAAAAAAAAAAAAAAAAAAAAAAAAAAAAAAAAAAAAAAAAAAAAAAAAAAAAAAAAAAAAAAAAAAAAAAAAAAAAAAAAAAAAAAAAAAAAAAAAAAAAAAAAAAAAAAAAAAAAAAAAAAAAAAAAAAAAAAAAAAAAAAAAAAAAAAAAAAAAAAAAAAAAAAAAAAAAAAAAAAAAAAAAAAAAAAAAAAAAAAAAAAAAAAAAAAAAAAAAAAAAAAAAAAAAAAAAAAAAAAAAAAAAAAAAAAAAAAAAAAAAAAAAAAAAAAAAAAAAAAAAAAAAAAAAAAAAAAAAAAAAAAAAAAAAAAAAAAAAAAAAAAAAAAAAAAAAAAAAAAAAAAAAAAAAAAAAAAAAAAAAAAAAAAAAAAAAAAAAAAAAAAAAAAAAAAAAAAAAAAAAAAAAAAAAAAAAAAAAAAAAAAAAAAAAAAAAAAAAAAAAAAAAAAAAAAAAAAAAAAAAAAAAAAAAAAAAAAAAAAAAAAAAAAAAAAAAAAAAAAAAAAAAAAAAAAAAAAAAAAAAAAAAAAAAAAAAAAAAAAAAAAAAAAAAAAAAAAAAAAAAAAAAAAAAAAAAAAAAAAAAAAAAAAAAAAAAAAAAAAAAAAAAAAAAAAAAAAAAAAAAAAAAAAAAAAAAAAAAAAAAAAAAAAAAAAAAAAAAAAAAAAAAAAAAAAAAAAAAAAAAAAAAAAAAAAAAAAAAAAAAAAAAAAAAAAAAAAAAAAAAAAAAAAAAAAAAAAAAAAAAAAAAAAAAAAAAAAAAAAAAAAAAAAAAAAAAAAAAAAAAAAAAAAAAAAAAAAAAAAAAAAAAAAAAAAAAAAAAAAAAAAAAAAAAAAAAAAAAAAAAAAAAAAAAAAAAAAAAAAAAAAAAAAAAAAAAAAAAAAAAAAAAAAAAAAAAAAAAAAAAAAAAAAAAAAAAAAAAAAAAAAAAAAAAAAAAAAAAAAAAAAAAAAAAAAAAAAAAAAAAAAAAAAAAAAAAAAAAAAAAAAAAAAAAAAAAAAAAAAAAAAAAAAAAAAAAAAAAAAAAAAAAAAAAAAAAAAAAAAAAAAAAAAAAAAAAAAAAAAAAAAAAAAAAAAAAAAAAAAAAAAAAAAAAAAAAAAAAAAAAAAAAAAAAAAAAAAAAAAAAAAAAAAJ2F+dfRIpc/nYX519Eipz82JPthHVqxP52F+dfRIrc/A+f3TYbrvD82JPthHVrBP+lU+px3PsQ/nYX519Eixz+amZmZmZnJP5qZmZmZmck/mpmZmZmZyT+amZmZmZnJP5qZmZmZmck/mpmZmZmZyT+amZmZmZnJP5qZmZmZmck/mpmZmZmZyT+amZmZmZnJPxPVWwNbJcg/1J/9SBEZxj+Vap+OxwzEP1U1QdR9AMI/KwDGM2jovz+rlQm/1M+7Py0rTUpBt7c/rsCQ1a2esz9drKjBNAyvP17XL9gN26Y/wgRu3c1TnT+KtfgUAOOJPwAAAAAAAAAAAAAAAAAAAAAAAAAAAAAAAAAAAAAAAAAAAAAAAAAAAAAAAAAAAAAAAAAAAAAAAAAAAAAAAAAAAAAAAAAAAAAAAAAAAAAAAAAAAAAAAAAAAAAAAAAAAAAAAAAAAAAAAAAAAAAAAAAAAAAAAAAAAAAAAAAAAAAAAAAAAAAAAAAAAAAAAAAAAAAAAAAAAAAAAAAAAAAAAAAAAAAAAAAAAAAAAAAAAAAAAAAAAAAAAAAAAAAAAAAAAAAAAAAAAAAAAAAAAAAAAAAAAAAAAAAAAAAAAAAAAAAAAAAAAAAAAAAAAAAAAAAAAAAAAAAAAAAAAAAAAAAAAAAAAAAAAAAAAAAAAAAAAAAAAAAAAAAAAAAAAAAAAAAAAAAAAAAAAAAAAAAAAAAAAAAAAAAAAAAAAAAAAAAAAAAAAAAAAAAAAAAAAAAAAAAAAAAAAAAAAAAAAAAAAAAAAAAAAAAAAAAAAAAAAAAAAAAAAAAAAAAAAAAAAAAAAAAAAAAAAAAAAAAAAAAAAAAAAAAAAAAAAAAAAAAAAAAAAAAAAAAAAAAAAAAAAAAAAAAAAAAAAAAAAAAAAAAAAAAAAAAAAAAAAAAAAAAAAJU/6pQ/6oQ/YF9fX19fnz96zyR6zySqP6L3TKL3TLI/iIeHh4eHtz9tF8JsF8K8P6lT/qhT/sA/nJubm5ubwz+O4ziO4zjGP4Er1oAr1sg/cuDVcmcmyD8yq3e4HRrGP/N1Gf7TDcQ/tEC7Q4oBwj/oFroSgeq/P2qs/Z3t0bs/6kFBKVq5tz9r14S0xqCzP9jZkH9mEK8/2gQYlj/fpj+4Xz5ZMVydP3ZrmQzH84k/AAAAAAAAAAAAAAAAAAAAAAAAAAAAAAAAAAAAAAAAAAAAAAAAAAAAAAAAAAAAAAAAAAAAAAAAAAAAAAAAAAAAAAAAAAAAAAAAAAAAAAAAAAAAAAAAAAAAAAAAAAAAAAAAAAAAAAAAAAAAAAAAAAAAAAAAAAAAAAAAAAAAAAAAAAAAAAAAAAAAAAAAAAAAAAAAAAAAAAAAAAAAAAAAAAAAAAAAAAAAAAAAAAAAAAAAAAAAAAAAAAAAAAAAAAAAAAAAAAAAAAAAAAB9FJ0JnxiCP4VM9a01Rqo/9anBzCEDuD/C5/2keoDCP3iLVKdKDso/Qm457Bjkzj8PSNa58oDQP/7Yj/3Yj9E/7GlJQb+e0j/a+gKFpa3TP8mLvMiLvNQ/thx2DHLL1T+lrS9QWNrWP5M+6ZM+6dc/gs+i1yT42D8uHXOesS/ZP44CRMGMKdg/7ucU5Gcj1z9OzeUGQx3WP6+ytikeF9U/D5iHTPkQ1D8Rj8TL07nSP9JZZhGKrdA/JUkQroBCzT+l3lM57SnJPyZ0l8RZEcU/pgnbT8b4wD9QPj22ZcC5Pz+QvHMoQ7U/wCUA/5QqsT+CdocUAySqP4ShDivc8qE/C5krg2qDkz96eM+B5QhpPwAAAAAAAAAAAAAAAAAAAAAAAAAAAAAAAAAAAAAAAAAAAAAAAAAAAAAAAAAAAAAAAAAAAAAAAAAAAAAAAAAAAAAAAAAAAAAAAAAAAAAAAAAAAAAAAAAAAAAAAAAAAAAAAAAAAAAAAAAAAAAAAAAAAAAAAAAAAAAAAAAAAAAAAAAAAAAAAAAAAAAAAAAAAAAAAAAAAAAAAAAAAAAAAAAAAAAAAAAAAAAAAAAAAAAAAAAAAAAAAAAAAAAAAAAAAAAAAAAAAAAAAAAAAAAAAAAAAAAAAAAAAAAAAAAAAAAAAAAAAAAAAAAAAAAAAAAAAAAAAAAAAAAAAAAAAAAAAAAAAAAAAAAAAAAAAAAAAAAAAAAAAAAAAAAAAAAAAAAAAAAAAAAAAAAAAAAAAAAAAAAAAAAAAAAAAAAAAAAAAAAAAAAAAAAAAAAAAAAAAAAAAAAAAAAAAAAAAAAAAAAAAAAAAABS6rO/FjeSP6Lkjb6vLqM/HdRBHdRBrT/L4fo9fKqzP4nZVG0OtLg/RdGunKC9vT+CZARmmWPBP2BgsX1i6MM/PlxelSttxj8dWAut9PHIP4UqNXugFcg/RvXWwFYJxj8GwHgGDf3DP8aKGkzD8ME/Dat4I/PIvz+OQLyuX7C7Pw/W/znMl7c/kGtDxTh/sz8iAg6hSs2uPyQtlbcjnKY/S7A4nPnVnD+eDI6SV+eIPwAAAAAAAAAAAAAAAAAAAAAAAAAAAAAAAAAAAAAAAAAAAAAAAAAAAAAAAAAAAAAAAAAAAAAAAAAAAAAAAAAAAAAAAAAAAAAAAAAAAAAAAAAAAAAAAAAAAAAAAAAAAAAAAAAAAAAAAAAAAAAAAAAAAAAAAAAAAAAAAAAAAAAAAAAAAAAAAAAAAAAAAAAAAAAAAAAAAAAAAAAAAAAAAAAAAAAAAAAAAAAAAAAAAAAAAAAAAAAAAAAAAAAAAAAAAAAAAAAAAAAAAAAAAAAAAAAAAAAAAAAAAAAAAAAAAAAAAAAAAAAAAAAAAAAAAAAAAAAAAAAAAAAAAAAAAAAAAAAAAAAAAAAAAAAAAAAAAAAAAAAAAAAAAAAAAAAAAAAAAAAAAAAAAAAAAAAAAAAAAAAAAAAAAAAAAAAAAAAAAAAAAAAAAAAAAAAAAAA=\",\"dtype\":\"float64\",\"shape\":[601]}}},\"id\":\"2db70727-39e9-44d8-90d0-e2528358d852\",\"type\":\"ColumnDataSource\"},{\"attributes\":{\"callback\":null,\"column_names\":[\"x\",\"y\"],\"data\":{\"x\":[0,1000,2000,3000,4000,5000,6000,7000,8000,9000,10000,11000,12000,13000,14000,15000,16000,17000,18000,19000,20000,21000,22000,23000,24000,25000,26000,27000,28000,29000,30000,31000,32000,33000,34000,35000,36000,37000,38000,39000,40000,41000,42000,43000,44000,45000,46000,47000,48000,49000,50000,51000,52000,53000,54000,55000,56000,57000,58000,59000,60000,61000,62000,63000,64000,65000,66000,67000,68000,69000,70000,71000,72000,73000,74000,75000,76000,77000,78000,79000,80000,81000,82000,83000,84000,85000,86000,87000,88000,89000,90000,91000,92000,93000,94000,95000,96000,97000,98000,99000,100000,101000,102000,103000,104000,105000,106000,107000,108000,109000,110000,111000,112000,113000,114000,115000,116000,117000,118000,119000,120000,121000,122000,123000,124000,125000,126000,127000,128000,129000,130000,131000,132000,133000,134000,135000,136000,137000,138000,139000,140000,141000,142000,143000,144000,145000,146000,147000,148000,149000,150000,151000,152000,153000,154000,155000,156000,157000,158000,159000,160000,161000,162000,163000,164000,165000,166000,167000,168000,169000,170000,171000,172000,173000,174000,175000,176000,177000,178000,179000,180000,181000,182000,183000,184000,185000,186000,187000,188000,189000,190000,191000,192000,193000,194000,195000,196000,197000,198000,199000,200000,201000,202000,203000,204000,205000,206000,207000,208000,209000,210000,211000,212000,213000,214000,215000,216000,217000,218000,219000,220000,221000,222000,223000,224000,225000,226000,227000,228000,229000,230000,231000,232000,233000,234000,235000,236000,237000,238000,239000,240000,241000,242000,243000,244000,245000,246000,247000,248000,249000,250000,251000,252000,253000,254000,255000,256000,257000,258000,259000,260000,261000,262000,263000,264000,265000,266000,267000,268000,269000,270000,271000,272000,273000,274000,275000,276000,277000,278000,279000,280000,281000,282000,283000,284000,285000,286000,287000,288000,289000,290000,291000,292000,293000,294000,295000,296000,297000,298000,299000,300000,301000,302000,303000,304000,305000,306000,307000,308000,309000,310000,311000,312000,313000,314000,315000,316000,317000,318000,319000,320000,321000,322000,323000,324000,325000,326000,327000,328000,329000,330000,331000,332000,333000,334000,335000,336000,337000,338000,339000,340000,341000,342000,343000,344000,345000,346000,347000,348000,349000,350000,351000,352000,353000,354000,355000,356000,357000,358000,359000,360000,361000,362000,363000,364000,365000,366000,367000,368000,369000,370000,371000,372000,373000,374000,375000,376000,377000,378000,379000,380000,381000,382000,383000,384000,385000,386000,387000,388000,389000,390000,391000,392000,393000,394000,395000,396000,397000,398000,399000,400000,401000,402000,403000,404000,405000,406000,407000,408000,409000,410000,411000,412000,413000,414000,415000,416000,417000,418000,419000,420000,421000,422000,423000,424000,425000,426000,427000,428000,429000,430000,431000,432000,433000,434000,435000,436000,437000,438000,439000,440000,441000,442000,443000,444000,445000,446000,447000,448000,449000,450000,451000,452000,453000,454000,455000,456000,457000,458000,459000,460000,461000,462000,463000,464000,465000,466000,467000,468000,469000,470000,471000,472000,473000,474000,475000,476000,477000,478000,479000,480000,481000,482000,483000,484000,485000,486000,487000,488000,489000,490000,491000,492000,493000,494000,495000,496000,497000,498000,499000,500000,501000,502000,503000,504000,505000,506000,507000,508000,509000,510000,511000,512000,513000,514000,515000,516000,517000,518000,519000,520000,521000,522000,523000,524000,525000,526000,527000,528000,529000,530000,531000,532000,533000,534000,535000,536000,537000,538000,539000,540000,541000,542000,543000,544000,545000,546000,547000,548000,549000,550000,551000,552000,553000,554000,555000,556000,557000,558000,559000,560000,561000,562000,563000,564000,565000,566000,567000,568000,569000,570000,571000,572000,573000,574000,575000,576000,577000,578000,579000,580000,581000,582000,583000,584000,585000,586000,587000,588000,589000,590000,591000,592000,593000,594000,595000,596000,597000,598000,599000,600000,600000,599000,598000,597000,596000,595000,594000,593000,592000,591000,590000,589000,588000,587000,586000,585000,584000,583000,582000,581000,580000,579000,578000,577000,576000,575000,574000,573000,572000,571000,570000,569000,568000,567000,566000,565000,564000,563000,562000,561000,560000,559000,558000,557000,556000,555000,554000,553000,552000,551000,550000,549000,548000,547000,546000,545000,544000,543000,542000,541000,540000,539000,538000,537000,536000,535000,534000,533000,532000,531000,530000,529000,528000,527000,526000,525000,524000,523000,522000,521000,520000,519000,518000,517000,516000,515000,514000,513000,512000,511000,510000,509000,508000,507000,506000,505000,504000,503000,502000,501000,500000,499000,498000,497000,496000,495000,494000,493000,492000,491000,490000,489000,488000,487000,486000,485000,484000,483000,482000,481000,480000,479000,478000,477000,476000,475000,474000,473000,472000,471000,470000,469000,468000,467000,466000,465000,464000,463000,462000,461000,460000,459000,458000,457000,456000,455000,454000,453000,452000,451000,450000,449000,448000,447000,446000,445000,444000,443000,442000,441000,440000,439000,438000,437000,436000,435000,434000,433000,432000,431000,430000,429000,428000,427000,426000,425000,424000,423000,422000,421000,420000,419000,418000,417000,416000,415000,414000,413000,412000,411000,410000,409000,408000,407000,406000,405000,404000,403000,402000,401000,400000,399000,398000,397000,396000,395000,394000,393000,392000,391000,390000,389000,388000,387000,386000,385000,384000,383000,382000,381000,380000,379000,378000,377000,376000,375000,374000,373000,372000,371000,370000,369000,368000,367000,366000,365000,364000,363000,362000,361000,360000,359000,358000,357000,356000,355000,354000,353000,352000,351000,350000,349000,348000,347000,346000,345000,344000,343000,342000,341000,340000,339000,338000,337000,336000,335000,334000,333000,332000,331000,330000,329000,328000,327000,326000,325000,324000,323000,322000,321000,320000,319000,318000,317000,316000,315000,314000,313000,312000,311000,310000,309000,308000,307000,306000,305000,304000,303000,302000,301000,300000,299000,298000,297000,296000,295000,294000,293000,292000,291000,290000,289000,288000,287000,286000,285000,284000,283000,282000,281000,280000,279000,278000,277000,276000,275000,274000,273000,272000,271000,270000,269000,268000,267000,266000,265000,264000,263000,262000,261000,260000,259000,258000,257000,256000,255000,254000,253000,252000,251000,250000,249000,248000,247000,246000,245000,244000,243000,242000,241000,240000,239000,238000,237000,236000,235000,234000,233000,232000,231000,230000,229000,228000,227000,226000,225000,224000,223000,222000,221000,220000,219000,218000,217000,216000,215000,214000,213000,212000,211000,210000,209000,208000,207000,206000,205000,204000,203000,202000,201000,200000,199000,198000,197000,196000,195000,194000,193000,192000,191000,190000,189000,188000,187000,186000,185000,184000,183000,182000,181000,180000,179000,178000,177000,176000,175000,174000,173000,172000,171000,170000,169000,168000,167000,166000,165000,164000,163000,162000,161000,160000,159000,158000,157000,156000,155000,154000,153000,152000,151000,150000,149000,148000,147000,146000,145000,144000,143000,142000,141000,140000,139000,138000,137000,136000,135000,134000,133000,132000,131000,130000,129000,128000,127000,126000,125000,124000,123000,122000,121000,120000,119000,118000,117000,116000,115000,114000,113000,112000,111000,110000,109000,108000,107000,106000,105000,104000,103000,102000,101000,100000,99000,98000,97000,96000,95000,94000,93000,92000,91000,90000,89000,88000,87000,86000,85000,84000,83000,82000,81000,80000,79000,78000,77000,76000,75000,74000,73000,72000,71000,70000,69000,68000,67000,66000,65000,64000,63000,62000,61000,60000,59000,58000,57000,56000,55000,54000,53000,52000,51000,50000,49000,48000,47000,46000,45000,44000,43000,42000,41000,40000,39000,38000,37000,36000,35000,34000,33000,32000,31000,30000,29000,28000,27000,26000,25000,24000,23000,22000,21000,20000,19000,18000,17000,16000,15000,14000,13000,12000,11000,10000,9000,8000,7000,6000,5000,4000,3000,2000,1000,0],\"y\":{\"__ndarray__\":\"AAAAAAAAAAAAAAAAAAAAAAAAAAAAAAAAAAAAAAAAAAAAAAAAAAAAAAAAAAAAAAAAAAAAAAAAAAAAAAAAAAAAAAAAAAAAAAAAAAAAAAAAAAAAAAAAAAAAAAAAAAAAAAAAAAAAAAAAAAAAAAAAAAAAAAAAAAAAAAAAAAAAAAAAAAAAAAAAAAAAAAAAAAAAAAAAAAAAAAAAAAAAAAAAAAAAAAAAAAAAAAAAAAAAAAAAAAAAAAAAAAAAAAAAAAAAAAAAAAAAAAAAAAAAAAAAAAAAAAAAAAAAAAAAAAAAAAAAAAAAAAAAAAAAAAAAAAAAAAAAAAAAAAAAAAAAAAAAAAAAAAAAAAAAAAAAAAAAAAAAAAAAAAAAAAAAAAAAAAAAAAAAAAAAAAAAAAAAAAAAAAAAAAAAAAAAAAAAAAAAAAAAAAAAAAAAAAAAAAAAAAAAAAAAAAAAAAAAAAAAAAAAAAAAAAAAAAAAAAAAAAAAAAAAAAAAAAAAAAAAAAAAAAAAAAAAAAAAAAAAAAAAAAAAAAAAAAAAAAAAAAAAAAAAAAAAAAAAAAAAAAAAAAAAAAAAAAAAAAAAAAAAAAAAAAAAAAAAAAAAAAAAAAAAAAAAAAAAAAAAAAAAAAAAAAAAAAAAAAAAAAAAAAAAAAAAAAAAAAAAAAAAAAAAAAAAAAAAAAAAAAAAAAAAAAAAAAAAAAAAAAAAAAAAAAAAAAAAAAAAAAAAAAAAAAAAAAAAAAAAAAAAAAAAAAAAAAAAAAAAAAAAAAAAAAAAAAAAAAAAAAAAAAAAAAAAAAAAAAAAAAAAAAAAAAAAAAAAAAAAAAAAAAAAAAAAAAAAAAAAAAAAAAAAAAAAAAAAAAAAAAAAAAAAAAAAAAAAAAAAAAAAAAAAAAAAAAAAAAAAAAAAAAAAAAAAAAAAAAAAAAAAAAAAAAAAAAAAAAAAAAAAAAAAAAAAAAAAAAAAAAAAAAAAAAAAAAAAAAAAAAAAAAAAAAAAAAAAAAAAAAAAAAAAAAAAAAAAAAAAAAAAAAAAAAAAAAAAAAAAAAAAAAAAAAAAAAAAAAAAAAAAAAAAAAAAAAAAAAAAAAAAAAAAAAAAAAAAAAAAAAAAAAAAAAAAAAAAAAAAAAAAAAAAAAAAAAAAAAAAAAAAAAAAAAAAAAAAAAAAAAAAAAAAAAAAAAAAAAAAAAAAAAAAAAAAAAAAAAAAAAAAAAAAAAAAAAAAAAAAAAAAAAAAAAAAAAAAAAAAAAAAAAAAAAAAAAAAAAAAAAAAAAAAAAAAAAAAAAAAAAAAAAAAAAAAAAAAAAAAAAAAAAAAAAAAAAAAAAAAAAAAAAAAAAAAAAAAAAAAAAAAAAAAAAAAAAAAAAAAAAAAAAAAAAAAAAAAAAAAAAAAAAAAAAAAAAAAAAAAAAAAAAAAAAAAAAAAAAAAAAAAAAAAAAAAAAAAAAAAAAAAAAAAAAAAAAAAAAAAAAAAAAAAAAAAAAAAAAAAAAAAAAAAAAAAAAAAAAAAAAAAAAAAAAAAAAAAAAAAAAAAAAAAAAAAAAAAAAAAAAAAAAAAAAAAAAAAAAAAAAAAAAAAAAAAAAAAAAAAAAAAAAAAAAAAAAAAAAAAAAAAAAAAAAAAAAAAAAAAAAAAAAAAAAAAAAAAAAAAAAAAAAAAAAAAAAAAAAAAAAAAAAAAAAAAAAAAAAAAAAAAAAAAAAAAAAAAAAAAAAAAAAAAAAAAAAAAAAAAAAAAAAAAAAAAAAAAAAAAAAAAAAAAAAAAAAAAAAAAAAAAAAAAAAAAAAAAAAAAAAAAAAAAAAAAAAAAAAAAAAAAAAAAAAAAAAAAAAAAAAAAAAAAAAAAAAAAAAAAAAAAAAAAAAAAAAAAAAAAAAAAAAAAAAAAAAAAAAAAAAAAAAAAAAAAAAAAAAAAAAAAAAAAAAAAAAAAAAAAAAAAAAAAAAAAAAAAAAAAAAAAAAAAAAAAAAAAAAAAAAAAAAAAAAAAAAAAAAAAAAAAAAAAAAAAAAAAAAAAAAAAAAAAAAAAAAAAAAAAAAAAAAAAAAAAAAAAAAAAAAAAAAAAAAAAAAAAAAAAAAAAAAAAAAAAAAAAAAAAAAAAAAAAAAAAAAAAAAAAAAAAAAAAAAAAAAAAAAAAAAAAAAAAAAAAAAAAAAAAAAAAAAAAAAAAAAAAAAAAAAAAAAAAAAAAAAAAAAAAAAAAAAAAAAAAAAAAAAAAAAAAAAAAAAAAAAAAAAAAAAAAAAAAAAAAAAAAAAAAAAAAAAAAAAAAAAAAAAAAAAAAAAAAAAAAAAAAAAAAAAAAAAAAAAAAAAAAAAAAAAAAAAAAAAAAAAAAAAAAAAAAAAAAAAAAAAAAAAAAAAAAAAAAAAAAAAAAAAAAAAAAAAAAAAAAAAAAAAAAAAAAAAAAAAAAAAAAAAAAAAAAAAAAAAAAAAAAAAAAAAAAAAAAAAAAAAAAAAAAAAAAAAAAAAAAAAAAAAAAAAAAAAAAAAAAAAAAAAAAAAAAAAAAAAAAAAAAAAAAAAAAAAAAAAAAAAAAAAAAAAAAAAAAAAAAAAAAAAAAAAAAAAAAAAAAAAAAAAAAAAAAAAAAAAAAAAAAAAAAAAAAAAAAAAAAAAAAAAAAAAAAAAAAAAAAAAAAAAAAAAAAAAAAAAAAAAAAAAAAAAAAAAAAAAAAAAAAAAAAAAAAAAAAAAAAAAAAAENX2w1OipG/Q1fbDU6Kob/lAskUdU+qv0NX2w1OirG/FC1SkeHstb/lAskUdU+6v7bYP5gIsr6/Q1fbDU6Kwb8swpbPl7vDvxQtUpHh7MW//ZcNUyseyL+VZ14Ou+/Iv1YyAFRx48a/Fv2hmSfXxL/Ux0Pf3crCv5eS5SSUvsC/rroO1ZRkvb8vUFJgAUy5v7HllettM7W/MnvZdtoasb9lIToEjgSqv2ZMwRpn06G/0e6QYoBEk7+iJvp8lBFnvwAAAAAAAAAAAAAAAAAAAAAAAAAAAAAAAAAAAAAAAAAAAAAAAAAAAAAAAAAAAAAAAAAAAAAAAAAAAAAAAAAAAAAAAAAAAAAAAAAAAAAAAAAAAAAAAAAAAAAAAAAAAAAAAAAAAAAAAAAAAAAAAAAAAAAAAAAAAAAAAAAAAAAAAAAAAAAAAAAAAAAAAAAAAAAAAAAAAAAAAAAAAAAAAAAAAAAAAAAAAAAAAAAAAAAAAAAAAAAAAAAAAAAAAAAAAAAAAAAAAAAAAAAAAAAAAAAAAAAAAAAAAAAAAAAAAAAAAAAAAAAAAAAAAAAAAAAAAAAAAAAAAAAAAAAAAAAAAAAAAAAAAAAAAAAAAAAAAAAAAAAAAAAAAAAAAAAAAAAAAAAAAAAAAAAAAAAAAAAAAAAAAAAAAAAAAAAAAAAAAAAAAAAAAAAAAAAAAAAAAAAAAAAAAAAAAAAAAAAAAAAAAAAAAAAAAAAAAAAAAAAAAAAAAAAAAAAAAAAAAAAAAAAAAAAAAAAAAAAAAAAAAAAAAAAAAAAAAAAAAAAAAAV8TKWzBpq/BXxMpbMGqr8DXfm7BoWzvwV8TKWzBrq/gs1PRzBEwL8DXfm7BoXDv4TsojDdxca/1rDfE+tUyb+We4FZoUjHv1ZGI59XPMW/FxHF5A0ww7/X22YqxCPBvzJNEeD0Lr6/suJUa2EWur8yeJj2zf21v7MN3IE65bG/aEY/Gk6Zq79qccYwJ2ijv9Y4m44Abpa/aTum7soueL88HnuHZAOGv3p8gGgkc5y/67ShRkvypr+aKwNZBKuvvyNRsrXeMbS/egzjPjuOuL/SxxPIl+q8v5RBoih6o8C/P586bajRwr/r/NKx1v/Ev5Zaa/YELse/QrgDOzNcyb+71XPS+8bHv3ygFRiyusW/PGu3XWiuw7/9NVmjHqLBv3oB9tGpK7+/+5Y5XRYTu798LH3ogvq2v/3BwHPv4bK/+64I/reSrb/+2Y8UkWGlv/4JLlbUYJq/BsB4Bg39g78AAAAAAAAAAAAAAAAAAAAAAAAAAAAAAAAAAAAAAAAAAAAAAAAAAAAAAAAAAAAAAAAxB11VyAuYvzEHXVXIC6i/Y8UFQNYIsr8xB11VyAu4v/tItGq6Dr6/Y8UFQNYIwr9KZrFKTwrFvzEHXVXIC8i/od/3b16cyL9jqpm1FJDGvyJ1O/vKg8S/4j/dQIF3wr+gCn+GN2vAv8aqQZjbvby/R0CFI0iluL/I1ciutIy0v0lrDDohdLC/kQGgihu3qL+VLCeh9IWgvzCvXG+bqZC/ZkzBGmfTMb8AAAAAAAAAAAAAAAAAAAAAAAAAAAAAAAAAAAAAAAAAAAAAAAAAAAAAAAAAAAAAAAAAAAAAAAAAAAAAAAAAAAAAAAAAAAAAAAAAAAAAAAAAAAAAAAAAAAAAAAAAAAAAAADMFUkxlveQv06EnYhCDKq/3D5L/FzOtb+Uu0e0mJa+vyMcIjZqr8O/flogEogTyL8iGXJsPUPIv+HjE7LzNsa/oa6196kqxL9keVc9YB7CvyVE+YIWEsC/yh02kZkLvL9Js3kcBvO3v8xIvady2rO/mrwBZr6Dr7+b54h8l1KnvzwlICbhQp6/e/ZcpibBi78AAAAAAAAAAAAAAAAAAAAAAAAAAAAAAAAAAAAAAAAAAAAAAAAAAAAAAAAAAAAAAAAAAAAAAAAAAAAAAAAAAAAAAAAAAAAAAAAAAAAAAAAAAAAAAAAAAAAAAAAAAAAAAAAAAAAAAAAAAAAAAAAAAAAAAAAAAAAAAAAAAAAAAAAAAAAAAAAAAAAAAAAAAAAAAAAAAAAAAAAAAAAAAAAAAAAAAAAAAAAAAAAAAAAAAAAAAAAAAAAAAAAAAAAAAAAAAAAAAAAAAAAAAAAAAAAAAAAAAAAAAAAAAAAAAAAAAAAAAAAAAAAAAAAAAAAAAAAAAAAAAAAAAAAAAAAAAAAAAAAAAAAAAAAAAAAAAAAAAAAAAAAAAAAAAAAAAAAAAAAAAAAAAAAAAAAAAAAAAAAAAAAAAAAAAAAAAAAAAAAAAAAAAAAAAAAAAAAAAAAAAAAAAAAAAAAAAAAAAAAAAAAAAAAAAAAAAAAAAAAAAAAAAAAAAAAAAAAAAAAAAAAAAAAAAAAAAAAAAAAAAAAAAAAAAAAAAAAAAAAAAAAAAAAAAAAAAAAAAAAAAAAAAAAAAAAAAAAAAAAAAAAAAAAAAAAAAAAAAAAAAAAAAAAAAAAAAAAAAAAAAAAAAAAAAAAAAAAAAAAAAAAAAAAAAAAAAAAAAAAAAAAAAAAAAAAAAAAAAAAAAAAAAAAAAAAAAAAAAAAAAAAAAAAAAAAAAAAAAAAAAAAAAAAAAAAAAAAAAAAAAAAAAAAAAAAAAAAAAAAAAAAAAAAAAAAAAAAAAAAAAAAAAAAAAAAAAAAAAAAAAAAAAAAAAAAAAAAAAAAAAAAAAAAAAAAAAAAAAAAAAAAAAAAAAAAAAAAAAAAAAAAAAAAAAAAAAAAAAAAAAAAAAAAAAAAAAAAAAAAAAAAAAAAAAAAAAAAAAAAAAAAAAAAAAAAAAAAAAAAAAAAAAAAAAAAAAAAAAAAAAAAAAAAAAAAAAAAAAAAAAAAAAAAAAAAAAAAAAAAAAAAAAAAAAAAAAAAAAAAAAAAAAAAAAAAAAAAAAAAAAAAAAAAAAAAAAAAAAAAAAAAAAAAAAAAAAAAAAAAAAAAAAAAAAAAAAAAAAAAAAAAAAAAAAAAAAAAAAAAAAAAAAAAAAAAAAAAAAAAAAAAAAAAAAAAAAAAAAAAAAAAAAAAAAAAAAAAAAAAAAAAAAAAAAAAAAAAAAAAAAAAAAAAAAAAAAAAAAAAAAAAAAAAAAAAAAAAAAAAAAAAAAAAAAAAAAAAAAAAAAAAAAAAAAAAAAAAAAAAAAAAAAAAAAAAAAAAAAAAAAAAAAAAAAAAAAAAAAAAAAAAAAAAAAAAAAAAAAAAAAAAAAAAAAAAAAAAAAAAAAAAAAAAAAAAAAAAAAAAAAAAAAAAAAAAAAAAAAAAAAAAAAAAAAAAAAAAAAAAAAAAAAAAAAAAAAAAAAAAAAAAAAAAAAAAAAAAAAAAAAAAAAAAAAAAAAAAAAAAAAAAAAAAAAAAAAAAAAAAAAAAAAAAAAAAAAAAAAAAAAAAA1lgRSUOAlL/TOZ41VkSyv24d+JibaL+/hwApfnBGxr8XodgKmpbIv9drelBQisa/mDYclgZ+xL9YAb7bvHHCvxnMXyFzZcC/sS0DzlKyvL8zw0ZZv5m4v7VYiuQrgbS/Nu7Nb5hosL9tByP2CaCov24yqgzjbqC/4bpiRnh7kL9V5BBxcyoZvwAAAAAAAAAAAAAAAAAAAAAAAAAAAAAAAAAAAAAAAAAAAAAAAAAAAAAAAAAAAAAAAAAAAAAAAAAAAAAAAAAAAAAAAAAAAAAAAAAAAAAAAAAAAAAAAAAAAAAAAAAAAAAAAAAAAAAAAAAAAAAAAAAAAAAAAAAAAAAAAAAAAAAAAAAAAAAAAAAAAAAAAAAAAAAAAAAAAAAAAAAAAAAAAAAAAAAAAAAAAAAAAAAAAAAAAAAAAAAAAAAAAAAAAAAAAAAAAAAAAAAAAAAAAAAAAAAAAAAAAAAAAAAAAAAAAAAAAAAAQKvMlNbfMj9SGJRpNLmoP6VL/5JUprg/kkWaeAd4wj9R5bSn5JzIPxCFz9bBwc4/ZhL1gk9z0j9GYoIavoXVPyayD7IsmNg/BAKdSZuq2z/kUSrhCb3eP+HQWzy85+A/0XgiiPNw4j9lwJ5e1LTgPxQWurJ0jtc/vFZtUIFmyz9BBZrtZMCuPwAAAAAAAAAAAAAAAAAAAAAAAAAAAAAAAAAAAAAAAAAAAAAAAAAAAAAAAAAAAAAAAAAAAAAAAAAAAAAAAAAAAAAAAAAAAAAAAAAAAAAAAAAAAAAAAAAAAAAAAAAAAAAAAAAAAAAAAAAAAAAAAAAAAAAAAAAAAAAAAAAAAAAAAAAAAAAAAAAAAAAAAAAAAAAAAAAAAAAAAAAAAAAAAAAAAAAAAAAAAAAAAAAAAAAAAAAAAAAAAAAAAAAAAAAAAAAAAAAAAAAAAAAAAAAAAAAAAAAAAAAAAAAAAAAAAAAAAAAAAAAAAAAAAAAAAAAAAAAAAAAAAAAAAAAAAAAAAAAAAAAAAAAAAAAAAAAAAAAAAAAAAAAAAAAAAAAAAAAAAAAAAAAAAAAAAAAAAAAAAAAAAAAAAAAAAAAAAAAAAAAAAAAAAAAAAAAAAAAAAAAAAAAAAAAAAAAAAAAAAAAAAAAAAAAAAAAAAAAAAAAAAAAAAAAAAAAAAAAAAAAAAAAAAAAAAAAAAAAAAAAAAAAAAAAAAAAAAAAAAAAAAAAAAAAAAAAAAAAAAAAAAAAAAAAAAAAAAAAAAAAAAAAAAAAAAAAAAAAAAAAAAAAAAAAAAAAAAAAAAAAAAAAAAAAAAAAAAAAAAAAAAAAAAAAAAAAAAAAAAAAAAAAAAAAAAAAAAAAAAAAAAAAAAAAAAAAAAAAAAAAAAAAAAAAAAAAAAAAAAAAAAAAAAAAAAAAAAAAAAAAAAAAAAAAAAAAAAAAAAAAAAAAAAAAAAAAAAAAAAAAAAAAAAAAAAAAAAAAAAAAAAAAAAAAAAAAAAAAAAAAAAAAAAAAAAAAAAAAAAAAAAAAAAAAAAAAAAAAAAAAAAAAAAAAAAAAAAAAAAAAAAAAAAAAAAAAAAAAAAAAAAAAAAAAAAAAAAAAAAAAAAAAAAAAAAAAAAAAAAAAAAAAAAAAAAAAAAAAAAAAAAAAAAAAAAAAAAAAAAAAAAAAAAAAAAAAAAAAAAAAAAAAAAAAAAAAAAAAAAAAAAAAAAAAAAAAAAAAAAAAAAAAAAAAAAAAAAAAAAAAAAAAAAAAAAAAAAAAAAAAAAAAAAAAAAAAAAAAAAAAAAAAAAAAAAAAAAAAAAAAAAAAAAAAAAAAAAAAAAAAAAAAAAAAAAAAAAAAAAAAAAAAAAAAAAAAAAAAAAAAAAAAAAAAAAAAAAAAAAAAAAAAAAAAAAAAAAAAAAAAAAAAAAAAAAAAAAAAAAAAAAAAAAAAAAAAAAAAAAAAAAAAAAAAAAAAAAAAAAAAAAAAAAAAAAAAAAAAAAAAAAAAAAAAAAAAAAAAAAAAAAAAAAAAAAAAAAAAAAAAAAAAAAAAAAAAAAAAAAAAAAAAAAAAAAAAAAAAAAAAAAAAAAAAAAAAAAAAAAAAAAAAAAAAAAAAAAAAAAAAAAAAAAAAAAAAAAAAAAAAAAAAAAAAAAAAAAAAAAAAAAAAAAAAAAAAAAAAAAAAAAAAAAAAAAAAAAAAAAAAAAAAAAAAAAAAAAAAAAAAAAADcuMX83NCkP+wbmNwosrY/tK1mnfF9wT90TYHMzqLHPzLtm/urx80/eEZblUT20T9YlugsswjVPzjmdcQhG9g/FjYDXJAt2z/0hZDz/j/eP+rqjsU2qeA/2pJVEW4y4j/eQ5gNpg7iPzQqM1Efh90/rsw1h/Lw1j8lbzi9xVrQPzwjduYxicM/sqDtSWFzqT8AAAAAAAAAAAAAAAAAAAAAAAAAAAAAAAAAAAAAAAAAAAAAAAAAAAAAAAAAAAAAAAAAAAAAAAAAAAAAAAAAAAAAAAAAAAAAAAAAAAAAAAAAAAAAAAAAAAAAAAAAAAAAAACZ8iGoGr1KP8YGCydp/qg/4MK68e7IuD8uAfinVInCP+6gEtcxrsg/rEAtBg/Tzj818KMa9nvSPxRAMbJkjtU/8o++SdOg2D/T30vhQbPbP7Mv2Xiwxd4/yT8ziA/s4D+55/nTRnXiP2TFBUDWCOI/bxkK8HaP3z8UqAhgQQ3bP7w2B9ALi9Y/ZMUFQNYI0j8UqAhgQQ3LP2TFBUDWCMI/ZMUFQNYIsj8AAAAAAAAAAAAAAAAAAAAAAAAAAAAAAAAAAAAAAAAAAAAAAAAAAAAAAAAAAAAAAAAJILWJk/udP36HokCfyLM/fuNrzywJwD88g4b+CS7GP/wioS3nUsw/XeFdLuI70T88MevFUE7UPxyBeF2/YNc//NAF9S1z2j/aIJOMnIXdP104EJIFTOA/TODW3TzV4T8yykJsJgXjP/CD0LiDYuE/YHu8CsJ/3z/e7tejfDrcP15i8zw39dg/3tUO1vGv1T9cSSpvrGrSP7R5ixDOSs4/smDCQkPAxz+wR/l0uDXBP1xdYE5bVrU/rVacZYuCoD+PrPwyGCOSP6Bq9GqA0rA/H6opyTocvT/OdK+T+rLEP4wUysLX18o/JlryeFp+0D8Gqn8QyZDTP+T5DKg3o9Y/wkmaP6a12T+imSfXFMjcP4HptG6D2t8/sBwhA3l24T+gxOdOsP/iP2MxeuRlFOE/hAv2GYpH3T9DtPdqSGbYPwRd+bsGhdM/hAv2GYpHzT8EXfm7BoXDPwRd+bsGhbM/AAAAAAAAAAAAAAAAAAAAAAAAAAAAAAAAAAAAAAAAAAAAAAAAAAAAAAAAAAAAAAAAAAAAAAAAAAAAAAAAAAAAAAAAAAAAAAAAAAAAAAAAAAAAAAAAAAAAAAAAAAAAAAAAAAAAAAAAAAAAAAAAAAAAAAAAAAAAAAAAAAAAAAAAAAAAAAAAAAAAAAAAAAAAAAAAAAAAAAAAAAAAAAAAAAAAAAAAAAAAAAAAAAAAAAAAAAAAAAAAAAAAAAAAAAAAAAAAAAAAAAAAAAAAAAAAAAAAAAAAAAAAAAAAAAAAAAAAAAAAAAAAAAAAAAAAAAAAAAAAAAAAAAAAAAAAAAAAAAAAAAAAAAAAAAAAAAAAAAAAAAAAAAAAAAAAAAAAAAAAAAAAAAAAAAAAAAAAAAAAAAAAAAAAAAAAAAAAAAAAAAAAAAAAAAAAAAAAAAAAAAAAAAAAAAAAAAAAAAAAAAAAAAAAAAAAAAAAAAAAAAAAAAAAAAAAAAAAAAAAAAAAAAAAAAAAAAAAAAAAAAAAAAAAAAAAAAAAAAAAAAAA+py7XS9NgT86ZtmTwOasP5nyIagavbo/DJkrg2qDwz/LOEayR6jJP4rYYOEkzc8/I7w9CAH50j8CDMufbwvWP+JbWDfeHdk/wKvlzkww3D+h+3Jmu0LfP8AlAP+UKuE/sM3GSsyz4j/+MUp+oBbiP8+h/SypceA/QiNit2OZ3T/kAskUdU/aP4jiL3KGBdc/LMKWz5e70z/Pof0sqXHQP+QCyRR1T8o/LMKWz5e7wz/kAskUdU+6P+QCyRR1T6o/AAAAAAAAAAAAAAAAAAAAAAAAAAAAAAAAAAAAAAAAAAAAAAAAAAAAAAAAAAAAAAAAAAAAAAAAAAAAAAAAAAAAAAAAAAAAAAAAAAAAAAAAAAAAAAAAAAAAAAAAAAAAAAAAAAAAAAAAAAAAAAAAAAAAAAAAAAAAAAAAAAAAAAAAAAAAAAAAAAAAAAAAAAAAAAAAAAAAAAAAAAAAAAAAAAAAAAAAAAAAAAAAAAAAAAAAAAAAAAAAAAAAAAAAAAAAAAAAAAAAAAAAAAAAAAAAAAAAAAAAAAAAAAAAAAAAAAAAAAAAAAAAAAAAAAAAAAAAAAAAAAAAAAAAAAAAAAAAAAAAAAAAAAAAAAAAAAAAAAAAAAAAAAAAAAAAAAAAAAAAAAAAAAAAAAAAAAAAAAAAAAAAAAAAAAAAAAAAAAAAAAAAAAAAAAAAAAAAAAAAAAAAAAAAAAAAAAAAAAAAAAAAAAAAAAAAAAAAAAAAAAAAAAAAAAAAAAAAAAAAAAAAAAAAAAAAAAAAAAAAAAAAAAAAAAAAAAAAAAAAAAAAAAAAAAAAAAAAAAAAAAAAAAAAAAAAAAAAAAAAAAAAAAAAAAAAAAAAAAAAAAAAAAAAAAAAAAAAAAAAAAAAAAAAAAAAAAAAAAAAAAAAAAAAAAAAAAAAAAAAAAAAAAAAAAAAAAAAAAAAAAAAAAAAAAAAAAAAAAAAAAAAAAAAAAAAAAAAAAAAAAAAAAAAAAAAAAAAAAAAAAAAAAAAAAAAAAAAAAAAAAAAAAAAAAAAAAAAAAAAAAAAAAAAAAAAAAAAAAAAAAAAAAAAAAAAAAAAAAAAAAAAAAAAAAAAAAAAAAAAAAAAAAAAAAAAAAAAAAAAAAAAAAAAAAAAAAAAAAAAAAAAAAAAAAAAAAAAAAAAAAAAAAAAAAAAAAAAAAAAAAAAAAAAAAAAAAAAAAAAAAAAAAAAAAAAAAAAAAAAAAAAAAAAAAAAAAAAAAAAAAAAAAAAAAAAAAAAAAAAAAAAAAAAAAAAAAAAAAAAAAAAAAAAAAAAAAAAAAAAAAAAAAAAAAAAAAAAAAAAAAAAAAAAAAAAAAAAAAAAAAAAAAAAAAAAAAAAAAAAAAAAAAAAAAAAAAAAAAAAAAAAAAAAAAAAAAAAAAAAAAAAAAAAAAAAAAAAAAAAAAAAAAAAAAAAAAAAAAAAAAAAAAAAAAAAAAAAAAAAAAAAAAAAAAAAAAAAAAAAAAAAAAAAAAAAAAAAAAAAAAAAAAAAAAAAAAAAAAAAAAAAAAAAAAAAAAAAAAAAAAAAAAAAAAAAAAAAAAAAAAAAAAAAAAAAAAAAAAAAAAAAAAAAAAAAAAAAAAAAAAAAAAAAAAAAAAAAAAAAAAAAAAAAAAAAAAAAAAAAAAAAAAAAAAAAAAAAAAAAAAAAAAAAAAAAAAAAAAAAAAAAAAAAAAAAAAAAAAAAAAAAAAAAAAAAAAAAAAAAAAAAAAAAAAAAAAAAAAAAAAAAAAAAAAAAAAAAAAAAAAAAAAAAAAAAAAAAAAAAAAAAAAAAAAAAAAAAAAAAAAAAAAAAAAAAAAAAAAAAAAAAAAAAAAAAAAAAAAAAAAAAAAAAAAAAAAAAAAAAAAAAAAAAAAAAAAAAAAAAAAAAAAAAAAAAAAAAAAAAAAAAAAAAAAAAAAAAAAAAAAAAAAAAAAAAAAAAAAAAAAAAAAAAAAAAAAAAAAAAAAAAAAAAAAAAAAAAAAAAAAAAAAAAAAAAAAAAAAAAAAAAAAAAAAAAAAAAAAAAAAAAAAAAAAAAAAAAAAAAAAAAAAAAAAAAAAAAAAAAAAAAAAAAAAAAAAAAAAAAAAAAAAAAAAAAAAAAAAAAAAAAAAAAAAAAAAAAAAAAAAAAAAAAAAAAAAAAAAAAAAAAAAAAAAAAAAAAAAAAAAAAAAAAAAAAAAAAAAAAAAAAAAAAAAAAAAAAAAAAAAAAAAAAAAAAAAAAAAAAAAAAAAAAAAAAAAAAAAAAAAAAAAAAAAAAAAAAAAAAAAAAAAAAAAAAAAAAAAAAAAAAAAAAAAAAAAAAAAAAAAAAAAAAAAAAAAAAAAAAAAAAAAAAAAAAAAAAAAAAAAAAAAAAAAAAAAAAAAAAAAAAAAAAAAAAAAAAAAAAAAAAAAAAAAAAAAAAAAAAAAAAAAAAAAAAAAAAAAAAAAAAAAAAAAAAAAAAAAAAAAAAAAAAAAAAAAAAAAAAAAAAAAAAAAAAAAAAAAAAAAAAAAAAAAAAAAAAAAAAAAAAAAAAAAAAAAAAAAAAAAAAAAAAAAAAAAAAAAAAAAAAAAAAAAAAAAAAAAAAAAAAAAAAAAAAAAAAAAAAAAAAAAAAAAAAAAAAAAAAAAAAAAAAAAAAAAAAAAAAAAAAAAAAAAAAAAAAAAAAAAAAAAAAAAAAAAAAAAAAAAAAAAAAAAAAAAAAAAAAAAAAAAAAAAAAAAAAAAAAAAAAAAAAAAAAAAAAAAAAAAAAAAAAAAAAAAAAAAAAAAAAAAAAAAAAAAAAAAAAAAAAAAAAAAAAAAAAAAAAAAAAAAAAAAAAAAAAAAAAAAAAAAAAAAAAAAAAAAAAAAAAAAAAAAAAAAAAAAAAAAAAAAAAAAAAAAAAAAAAAAAAAAAAAAAAAAAAAAAAAAAAAAAAAAAAAAAAAAAAAAAAAAAAAAAAAAAAAAAAAAAAAAAAAAAAAAAAAA==\",\"dtype\":\"float64\",\"shape\":[1202]}}},\"id\":\"fe279229-bf4e-469d-b64b-eafcd4ca5999\",\"type\":\"ColumnDataSource\"},{\"attributes\":{\"label\":{\"value\":\"Traces 1 Lambda 6 States 3 Gap\"},\"renderers\":[{\"id\":\"c36b522a-dd2b-4c86-928d-e22aae962aa4\",\"type\":\"GlyphRenderer\"}]},\"id\":\"c8f3edfd-1a2b-4170-b0a3-f9578bcaae55\",\"type\":\"LegendItem\"},{\"attributes\":{\"data_source\":{\"id\":\"371bb675-52c1-49bd-ba07-70819933e919\",\"type\":\"ColumnDataSource\"},\"glyph\":{\"id\":\"82bcada0-b2eb-4874-9fb9-dbe12cb13c89\",\"type\":\"Patch\"},\"hover_glyph\":null,\"nonselection_glyph\":{\"id\":\"091040d0-84dc-47fb-a535-76e72819207c\",\"type\":\"Patch\"},\"selection_glyph\":null},\"id\":\"3e001da6-76fa-432b-8e70-5aede67942b4\",\"type\":\"GlyphRenderer\"},{\"attributes\":{\"callback\":null,\"column_names\":[\"x\",\"y\"],\"data\":{\"x\":[0,1000,2000,3000,4000,5000,6000,7000,8000,9000,10000,11000,12000,13000,14000,15000,16000,17000,18000,19000,20000,21000,22000,23000,24000,25000,26000,27000,28000,29000,30000,31000,32000,33000,34000,35000,36000,37000,38000,39000,40000,41000,42000,43000,44000,45000,46000,47000,48000,49000,50000,51000,52000,53000,54000,55000,56000,57000,58000,59000,60000,61000,62000,63000,64000,65000,66000,67000,68000,69000,70000,71000,72000,73000,74000,75000,76000,77000,78000,79000,80000,81000,82000,83000,84000,85000,86000,87000,88000,89000,90000,91000,92000,93000,94000,95000,96000,97000,98000,99000,100000,101000,102000,103000,104000,105000,106000,107000,108000,109000,110000,111000,112000,113000,114000,115000,116000,117000,118000,119000,120000,121000,122000,123000,124000,125000,126000,127000,128000,129000,130000,131000,132000,133000,134000,135000,136000,137000,138000,139000,140000,141000,142000,143000,144000,145000,146000,147000,148000,149000,150000,151000,152000,153000,154000,155000,156000,157000,158000,159000,160000,161000,162000,163000,164000,165000,166000,167000,168000,169000,170000,171000,172000,173000,174000,175000,176000,177000,178000,179000,180000,181000,182000,183000,184000,185000,186000,187000,188000,189000,190000,191000,192000,193000,194000,195000,196000,197000,198000,199000,200000,201000,202000,203000,204000,205000,206000,207000,208000,209000,210000,211000,212000,213000,214000,215000,216000,217000,218000,219000,220000,221000,222000,223000,224000,225000,226000,227000,228000,229000,230000,231000,232000,233000,234000,235000,236000,237000,238000,239000,240000,241000,242000,243000,244000,245000,246000,247000,248000,249000,250000,251000,252000,253000,254000,255000,256000,257000,258000,259000,260000,261000,262000,263000,264000,265000,266000,267000,268000,269000,270000,271000,272000,273000,274000,275000,276000,277000,278000,279000,280000,281000,282000,283000,284000,285000,286000,287000,288000,289000,290000,291000,292000,293000,294000,295000,296000,297000,298000,299000,300000,301000,302000,303000,304000,305000,306000,307000,308000,309000,310000,311000,312000,313000,314000,315000,316000,317000,318000,319000,320000,321000,322000,323000,324000,325000,326000,327000,328000,329000,330000,331000,332000,333000,334000,335000,336000,337000,338000,339000,340000,341000,342000,343000,344000,345000,346000,347000,348000,349000,350000,351000,352000,353000,354000,355000,356000,357000,358000,359000,360000,361000,362000,363000,364000,365000,366000,367000,368000,369000,370000,371000,372000,373000,374000,375000,376000,377000,378000,379000,380000,381000,382000,383000,384000,385000,386000,387000,388000,389000,390000,391000,392000,393000,394000,395000,396000,397000,398000,399000,400000,401000,402000,403000,404000,405000,406000,407000,408000,409000,410000,411000,412000,413000,414000,415000,416000,417000,418000,419000,420000,421000,422000,423000,424000,425000,426000,427000,428000,429000,430000,431000,432000,433000,434000,435000,436000,437000,438000,439000,440000,441000,442000,443000,444000,445000,446000,447000,448000,449000,450000,451000,452000,453000,454000,455000,456000,457000,458000,459000,460000,461000,462000,463000,464000,465000,466000,467000,468000,469000,470000,471000,472000,473000,474000,475000,476000,477000,478000,479000,480000,481000,482000,483000,484000,485000,486000,487000,488000,489000,490000,491000,492000,493000,494000,495000,496000,497000,498000,499000,500000,501000,502000,503000,504000,505000,506000,507000,508000,509000,510000,511000,512000,513000,514000,515000,516000,517000,518000,519000,520000,521000,522000,523000,524000,525000,526000,527000,528000,529000,530000,531000,532000,533000,534000,535000,536000,537000,538000,539000,540000,541000,542000,543000,544000,545000,546000,547000,548000,549000,550000,551000,552000,553000,554000,555000,556000,557000,558000,559000,560000,561000,562000,563000,564000,565000,566000,567000,568000,569000,570000,571000,572000,573000,574000,575000,576000,577000,578000,579000,580000,581000,582000,583000,584000,585000,586000,587000,588000,589000,590000,591000,592000,593000,594000,595000,596000,597000,598000,599000,600000,600000,599000,598000,597000,596000,595000,594000,593000,592000,591000,590000,589000,588000,587000,586000,585000,584000,583000,582000,581000,580000,579000,578000,577000,576000,575000,574000,573000,572000,571000,570000,569000,568000,567000,566000,565000,564000,563000,562000,561000,560000,559000,558000,557000,556000,555000,554000,553000,552000,551000,550000,549000,548000,547000,546000,545000,544000,543000,542000,541000,540000,539000,538000,537000,536000,535000,534000,533000,532000,531000,530000,529000,528000,527000,526000,525000,524000,523000,522000,521000,520000,519000,518000,517000,516000,515000,514000,513000,512000,511000,510000,509000,508000,507000,506000,505000,504000,503000,502000,501000,500000,499000,498000,497000,496000,495000,494000,493000,492000,491000,490000,489000,488000,487000,486000,485000,484000,483000,482000,481000,480000,479000,478000,477000,476000,475000,474000,473000,472000,471000,470000,469000,468000,467000,466000,465000,464000,463000,462000,461000,460000,459000,458000,457000,456000,455000,454000,453000,452000,451000,450000,449000,448000,447000,446000,445000,444000,443000,442000,441000,440000,439000,438000,437000,436000,435000,434000,433000,432000,431000,430000,429000,428000,427000,426000,425000,424000,423000,422000,421000,420000,419000,418000,417000,416000,415000,414000,413000,412000,411000,410000,409000,408000,407000,406000,405000,404000,403000,402000,401000,400000,399000,398000,397000,396000,395000,394000,393000,392000,391000,390000,389000,388000,387000,386000,385000,384000,383000,382000,381000,380000,379000,378000,377000,376000,375000,374000,373000,372000,371000,370000,369000,368000,367000,366000,365000,364000,363000,362000,361000,360000,359000,358000,357000,356000,355000,354000,353000,352000,351000,350000,349000,348000,347000,346000,345000,344000,343000,342000,341000,340000,339000,338000,337000,336000,335000,334000,333000,332000,331000,330000,329000,328000,327000,326000,325000,324000,323000,322000,321000,320000,319000,318000,317000,316000,315000,314000,313000,312000,311000,310000,309000,308000,307000,306000,305000,304000,303000,302000,301000,300000,299000,298000,297000,296000,295000,294000,293000,292000,291000,290000,289000,288000,287000,286000,285000,284000,283000,282000,281000,280000,279000,278000,277000,276000,275000,274000,273000,272000,271000,270000,269000,268000,267000,266000,265000,264000,263000,262000,261000,260000,259000,258000,257000,256000,255000,254000,253000,252000,251000,250000,249000,248000,247000,246000,245000,244000,243000,242000,241000,240000,239000,238000,237000,236000,235000,234000,233000,232000,231000,230000,229000,228000,227000,226000,225000,224000,223000,222000,221000,220000,219000,218000,217000,216000,215000,214000,213000,212000,211000,210000,209000,208000,207000,206000,205000,204000,203000,202000,201000,200000,199000,198000,197000,196000,195000,194000,193000,192000,191000,190000,189000,188000,187000,186000,185000,184000,183000,182000,181000,180000,179000,178000,177000,176000,175000,174000,173000,172000,171000,170000,169000,168000,167000,166000,165000,164000,163000,162000,161000,160000,159000,158000,157000,156000,155000,154000,153000,152000,151000,150000,149000,148000,147000,146000,145000,144000,143000,142000,141000,140000,139000,138000,137000,136000,135000,134000,133000,132000,131000,130000,129000,128000,127000,126000,125000,124000,123000,122000,121000,120000,119000,118000,117000,116000,115000,114000,113000,112000,111000,110000,109000,108000,107000,106000,105000,104000,103000,102000,101000,100000,99000,98000,97000,96000,95000,94000,93000,92000,91000,90000,89000,88000,87000,86000,85000,84000,83000,82000,81000,80000,79000,78000,77000,76000,75000,74000,73000,72000,71000,70000,69000,68000,67000,66000,65000,64000,63000,62000,61000,60000,59000,58000,57000,56000,55000,54000,53000,52000,51000,50000,49000,48000,47000,46000,45000,44000,43000,42000,41000,40000,39000,38000,37000,36000,35000,34000,33000,32000,31000,30000,29000,28000,27000,26000,25000,24000,23000,22000,21000,20000,19000,18000,17000,16000,15000,14000,13000,12000,11000,10000,9000,8000,7000,6000,5000,4000,3000,2000,1000,0],\"y\":{\"__ndarray__\":\"AAAAAAAAAAAAAAAAAAAAAAAAAAAAAAAAAAAAAAAAAAAAAAAAAAAAAAAAAAAAAAAAAAAAAAAAAAAAAAAAAAAAAAAAAAAAAAAAAAAAAAAAAAAAAAAAAAAAAAAAAAAAAAAAAAAAAAAAAAAAAAAAAAAAAAAAAAAAAAAAAAAAAAAAAAAAAAAAAAAAAAAAAAAAAAAAAAAAAAAAAAAAAAAAAAAAAAAAAAAAAAAAAAAAAAAAAAAAAAAAAAAAAAAAAAAAAAAAAAAAAAAAAAAAAAAAAAAAAAAAAAAAAAAAAAAAAAAAAAAAAAAAAAAAAAAAAAAAAAAAAAAAAAAAAAAAAAAAAAAAAAAAAAAAAAAAAAAAAAAAAAAAAAAAAAAAAAAAAAAAAAAAAAAAAAAAAAAAAAAAAAAAAAAAAAAAAAAAAAAAAAAAAAAAAAAAAAAAAAAAAAAAAAAAAAAAAAAAAAAAAAAAAAAAAAAAAAAAAAAAAAAAAAAAAAAAAAAAAAAAAAAAAAAAAAAAAAAAAAAAAAAAAAAAAAAAAAAAAAAAAAAAAAAAAAAAAAAAAAAAAAAAAAAAAAAAAAAAAAAAAAAAAAAAAAAAAAAAAAAAAAAAAAAAAAAAAAAAAAAAAAAAAAAAAAAAAAAAAAAAAAAAAAAAAAAAAAAAAAAAAAAAAAAAAAAAAAAAAAAAAAAAAAAAAAAAAAAAAAAAAAAAAAAAAAAAAAAAAAAAAAAAAAAAAAAAAAAAAAAAAAAAAAAAAAAAAAAAAAAAAAAAAAAAAAAAAAAAAAAAAAAAAAAAAAAAAAAAAAAAAAAAAAAAAAAAAAAAAAAAAAAAAAAAAAAAAAAAAAAAAAAAAAAAAAAAAAAAAAAAAAAAAAAAAAAAAAAAAAAAAAAAAAAAAAAAAAAAAAAAAAAAAAAAAAAAAAAAAAAAAAAAAAAAAAAAAAAAAAAAAAAAAAAAAAAAAAAAAAAAAAAAAAAAAAAAAAAAAAAAAAAAAAAAAAAAAAAAAAAAAAAAAAAAAAAAAAAAAAAAAAAAAAAAAAAAAAAAAAAAAAAAAAAAAAAAAAAAAAAAAAAAAAAAAAAAAAAAAAAAAAAAAAAAAAAAAAAAAAAAAAAAAAAAAAAAAAAAAAAAAAAAAAAAAAAAAAAAAAAAAAAAAAAAAAAAAAAAAAAAAAAAAAAAAAAAAAAAAAAAAAAAAAAAAAAAAAAAAAAAAAAAAAAAAAAAAAAAAAAAAAAAAAAAAAAAAAAAAAAAAAAAAAAAAAAAAAAAAAAAAAAAAAAAAAAAAAAAAAAAAAAAAAAAAAAAAAAAAAAAAAAAAAAAAAAAAAAAAAAAAAAAAAAAAAAAAAAAAAAAAAAAAAAAAAAAAAAAAAAAAAAAAAAAAAAAAAAAAAAAAAAAAAAAAAAAAAAAAAAAAAAAAAAAAAAAAAAAAAAAAAAAAAAAAAAAAAAAAAAAAAAAAAAAAAAAAAAAAAAAAAAAAAAAAAAAAAAAAAAAAAAAAAAAAAAAAAAAAAAAAAAAAAAAAAAAAAAAAAAAAAAAAAAAAAAAAAAAAAAAAAAAAAAAAAAAAAAAAAAAAAAAAAAAAAAAAAAAAAAAAAAAAAAAAAAAAAAAAAAAAAAAAAAAAAAAAAAAAAAAAAAAAAAAAAAAAAAAAAAAAAAAAAAAAAAAAAAAAAAAAAAAAAAAAAAAAAAAAAAAAAAAAAAAAAAAAAAAAAAAAAAAAAAAAAAAAAAAAAAAAAAAAAAAAAAAAAAAAAAAAAAAAAAAAAAAAAAAAAAAAAAAAAAAAAAAAAAAAAAAAAAAAAAAAAAAAAAAAAAAAAAAAAAAAAAAAAAAAAAAAAAAAAAAAAAAAAAAAAAAAAAAAAAAAAAAAAAAAAAAAAAAAAAAAAAAAAAAAAAAAAAAAAAAAAAAAAAAAAAAAAAAAAAAAAAAAAAAAAAAAAAAAAAAAAAAAAAAAAAAAAAAAAAAAAAAAAAAAAAAAAAAAAAAAAAAAAAAAAAAAAAAAAAAAAAAAAAAAAAAAAAAAAAAAAAAAAAAAAAAAAAAAAAAAAAAAAAAAAAAAAAAAAAAAAAAAAAAAAAAAAAAAAAAAAAAAAAAAAAAAAAAAAAAAAAAAAAAAAAAAAAAAAAAAAAAAAAAAAAAAAAAAAAAAAAAAAAAAAAAAAAAAAAAAAAAAAAAAAAAAAAAAAAAAAAAAAAAAAAAAAAAAAAAAAAAAAAAAAAAAAAAAAAAAAAAAAAAAAAAAAAAAAAAAAAAAAAAAAAAAAAAAAAAAAAAAAAAAAAAAAAAAAAAAAAAAAAAAAAAAAAAAAAAAAAAAAAAAAAAAAAAAAAAAAAAAAAAAAAAAAAAAAAAAAAAAAAAAAAAAAAAAAAAAAAAAAAAAAAAAAAAAAAAAAAAAAAAAAAAAAAAAAAAAAAAAAAAAAAAAAAAAAAAAAAAAAAAAAAAAAAAAAAAAAAAAAAAAAAAAAAAAAAAAAAAAAAAAAAAAAAAAAAAAAAAAAAAAAAAAAAAAAAAAAAAAAAAAAAAAAAAAAAAAAAAAAAAAAAAAAAAAAAAAAAAAAAAAAAAAAAAAAAAAAAAAAAAAAAAAAAAAAAAAAAAAAAAAAAAAAAAAAAAAAAAAAAAAAAAAAAAAAAAAAAAAAAAAAAAAAAAAAAAAAAAAAAAAAAAAAAAAAAAAAAAAAAAAAAAAAAAAAAAAAAAAAAAAAAAAAAAAAAAAAAAAAAAAAAAAAAAAAAAAAAAAAAAAAAAAAAAAAAAAAAAAAAAAAAAAAAAAAAAAAAAAAAAAAAAAAAAAAAAAAAAAAAAAAAAAAAAAAAAAAAAAAAAAAAAAAAAAEDyJGA0y4C/Yms3kM4wmb/QLi54Af6kv/CnQKibY62/iJAp7Jrksr8WzTIEaBe3v6oJPBw1Sru/NkZFNAJ9v79mQSem59fBv6zfKzJO8cO/9n0wvrQKxr88HDVKGyTIv5yZmZmZmcm/nJmZmZmZyb+cmZmZmZnJv5yZmZmZmcm/nJmZmZmZyb+cmZmZmZnJv5yZmZmZmcm/nJmZmZmZyb+cmZmZmZnJv5yZmZmZmcm/nJmZmZmZyb+dmZmZmZnJv5yZmZmZmcm/nJmZmZmZyb+cmZmZmZnJv5yZmZmZmcm/nJmZmZmZyb+cmZmZmZnJv8il8QuvJMm/iXCTUWUYx79MOzWXGwzFvwoG19zR/8K/zdB4IojzwL8aNzXQfM69v5vMeFvptbm/HGK85lWdtb+d9/9xwoSxvz0ah/pd2Kq/PEUOETenor994CpPIOyUvwra5PBJJ3K/AAAAAAAAAAAAAAAAAAAAAAAAAAAAAAAAAAAAAAAAAAAAAAAAAAAAAAAAAAAAAAAAAAAAAAAAAAAAAAAAAAAAAAAAAAAAAAAAAAAAAAAAAAAAAAAAAAAAAAAAAAAAAAAAAAAAAAAAAAAAAAAAAAAAAAAAAAAAAAAAAAAAAAAAAAAAAAAAAAAAAAAAAAAAAAAAAAAAAAAAAAAAAAAAAAAAAAAAAAAAAAAAAAAAAAAAAAAAAAAAAAAAAAAAAAAAAAAAAAAAAAAAAAAAAAAAAAAAAAAAAAAAAAAAAAAAAAAAAAAAAAAAAAAAAAAAAAAAAAAAAAAAAAAAAAAAAAAAAAAAAAAAAAAAAAAAAAAAAAAAAAAAAAAAAAAAAAAAAAAAAAAAAAAAAAAAAAAAAAAAAAAAAAAAAAAAAAAAAAAAAAAAAAAAAAAAAAAAAAAAAAAAAAAAAAAAAAAAAAAAAAAAAAAAAAAAAAAAAAAAAAAAAAAAAAAAAAAAAAAAAAAAAAAAAAAAAAAAAAAAAAAAAAAAAAAAAAAAAAAAAAAAAAAAAAAAAAAAAAAAAAAAAAAAAAAAAAAAAAAAAAAAAAAAAAAAAAAAAAAAAAAAAAAAAAAAAAAAAAAAAAAAAAAAAAAAAAAAAAAAAAAAAAAAAAAAAAAAAAAAAAAAAAAAAAAAAAAAAAAAAAAAAAAAAAAAAAAAAAAAAAAAAAAAAAAAAAAAAAAAAAAAAAAAAAAAAAAAAAAAAAAAAAAVwxy3V92hvxXDHLdX3bG/nCSrkgPMur8Vwxy3V93Bv9rz46StVMa/96W3PxcNyb+1cFmFzQDHv3Y7+8qD9MS/NgadEDrowr/20D5W8NvAv243wTdNn72/78wEw7mGub9uYkhOJm61v/H3i9mSVbG/4xqfyf55qr/kRSbg10iiv87hWu1hL5S/kL5J06Bobr8AAAAAAAAAAAAAAAAAAAAAAAAAAAAAAAAAAAAAAAAAAAAAAAAAAAAAAAAAAAAAAAAAAAAAAAAAACpy6HMo6ZW/KnLocyjppb+cVe5W3m6wvypy6HMo6bW/so7ikHJju7+cVe5W3m7Av+Vja2UDLMO/KnLocyjpxb9tgGWCTabIvyIZcmw9Q8i/4eMTsvM2xr+hrrX3qSrEv2R5Vz1gHsK/JUT5ghYSwL/KHTaRmQu8v0mzeRwG87e/zEi9p3Las7+avAFmvoOvv5vniHyXUqe/PCUgJuFCnr979lymJsGLvwAAAAAAAAAAAAAAAAAAAAAAAAAAAAAAAAAAAAAAAAAAAAAAAAAAAAAAAAAAAAAAAAAAAAAAAAAAAAAAAAAAAAAAAAAAAAAAAAAAAAAAAAAAAAAAAAAAAAAAAAAAAAAAAAAAAAAAAAAAAAAAAAAAAAAAAAAAAAAAAAAAAAAAAAAAAAAAAAAAAAAAAAAAAAAAAAAAAAAAAAAAAAAAAAAAAAAAAAAAAAAAAAAAAAAAAAAAAAAAAAAAAAAAAAAAAAAAAAAAAAAAAAAAAAAAAAAAAAAAAAAAAAAAAAAAAAAAAAAAAAAAAAAAAAAAAAAAAAAAAAAAAAAAAAAAAAAAAAAAAAAAAAAAAAAAAAAAAAAAAAAAAAAAAAAAAAAAAAAAAAAAAAAAAAAAAAAAAAAAAAAAAAAAAAAAAAAAAAAAAAAAAAAAAAAAAAAAAAAAAAAAAAAAAAAAAAAAAAAAAAAAAAAAAAAAAAAAAAAAAAAAAAAAAAAAAAAAAAAAAAAAAAAAAAAAAAAAAAAAAAAAAAAAAAAAAAAAAAAAAAAAAAAAAAAAAAAAAAAAAAAAAAAAAAAAAAAAAAAAAAAAAAAAAAAAAAAAAAAAAAAAAAAAAAAAAAAAAAAAAAAAAAAAAAAAAAAAAAAAAAAAAAAAAAAAAAAAAAAAAAAAAAAAAAAAAMaiRFzhN5G/Ms9jOQrLpb+DplLiEX2xv2hl86eeFLi/UiSUbSusvr+bcZoZ3KHCvxHRanyi7cW/gzA732g5yb957GexFMnHvzq3CffKvMW/+oGrPIGww7+8TE2CN6TBv/Uu3o/bL7+/dsQhG0gXu7/5WWWmtP62v3jvqDEh5rK/8QnZeRubrb/1NGCQ9Gmlv++/zk2bcZq/4Su69ZoehL853CLnrReRv13QkmrRr66/TBnK8OVpur83ZSWW8b3Cv8W95TPwRsi/IbOz6J0KyL/kfVUuVP7Fv6JI93MK8sO/YhOZucDlwb9DvHX+7bK/v8RRuYlamru/Ref8FMeBt7/IfECgM2mzv5AkCFdAoa6/lE+PbRlwpr8t9SwI5X2cv2KWdmouN4i/AAAAAAAAAAAAAAAAAAAAAAAAAAAAAAAAAAAAAAAAAAAAAAAAAAAAAAAAAAAAAAAAAAAAAAAAAAAAAAAAAAAAAAAAAAAAAAAAAAAAAAAAAAAAAAAAAAAAAAAAAAAAAAAAAAAAAAAAAAAAAAAAAAAAAAAAAAAAAAAAAAAAAAAAAACumP+spueKv4OyvwG9LaS/br8fLMjQsL+apV/XsYq3v8WLn4KbRL6/+bjvlkJ/wr8OrI9sN9zFvySfL0IsOcm/GuHtQQjIx7/aq4+HvrvFv5l2Mc10r8O/W0HTEiujwb84GOqwwi2/v7qtLTwvFbu/OENxx5v8tr+62LRSCOSyv3jc8Lvplq2/eQd40sJlpb/2ZP7RN2mav/N1Gf7TDYS/dlTsswoPfL8hc2pQAhiZv5Lo7PkglqW/k5eky0Cgrr9KI65OMNWzv8v6iTdAWri/S9JlIFDfvL/k1KAEMLLAv6bADvm39MK/Z6x87T83xb8lmOrhx3nHv5mZmZmZmcm/mpmZmZmZyb+amZmZmZnJv5qZmZmZmcm/mpmZmZmZyb+amZmZmZnJv5mZmZmZmcm/mpmZmZmZyb+amZmZmZnJv5qZmZmZmcm/mpmZmZmZyb+ZmZmZmZnJv5mZmZmZmcm/mpmZmZmZyb+amZmZmZnJv5qZmZmZmcm/CsOAJVexyL/KjSJrDaXGv4pYxLDDmMS/SyNm9nmMwr8J7gc8MIDAv5ZxUwPN57y/GQeXjjnPuL+anNoZpra0vxoyHqUSnrC/N4/DYP4Kqb85ukp319mgv3bKoxthUZG/JQ9EFmniTb8AAAAAAAAAAAAAAAAAAAAAAAAAAAAAAAAAAAAAAAAAAAAAAAAAAAAAAAAAAAAAAABcC7PQzmlmP7GvdakR+qk/VhfwMsNGuT9pq5LIPsjCPydLrfcb7cg/5+rHJvkRzz9TRfEqa5vSPzKVfsLZrdU/EOULWkjA2D/wNJnxttLbP8+EJokl5d4/WOpZEMr74D9IkiBcAYXiPzQzMzMzM+M/NDMzMzMz4z80MzMzMzPjPzMzMzMzM+M/MzMzMzMz4z80MzMzMzPjPzQzMzMzM+M/NDMzMzMz4z80MzMzMzPjPzMzMzMzM+M/NDMzMzMz4z80MzMzMzPjPzQzMzMzM+M/NDMzMzMz4z80MzMzMzPjPzMzMzMzM+M/HfJv6VWb4T+aAjvk39LfP/kglvUTb9w/WD/xBkgL2T+4XUwYfKfVPxh8pymwQ9I/7zQFdsi/zT+ucbuYMPjGP26ucbuYMMA/WdZPvAHSsj9YP/EGSAuVP+wwJv29FJ4/uMt+3enOsz+bBdodUgzAP1ql9EwvMcY/F0UPfAxWzD9r8pTVdD3RP0xCIm3jT9Q/KpKvBFJi1z8I4jycwHTaP+gxyjMvh90/5MCr5c5M4D/UaHIxBtbhP1u3ozHh6uI/CsFrkSll4D92lWfi477bP9So96F0s9Y/NLyHYQWo0T8lny9CLDnJP8SLn4KbRL4/grK/Ab0tpD8AAAAAAAAAAAAAAAAAAAAAAAAAAAAAAAAAAAAAAAAAAAAAAAAAAAAAAAAAAAAAAAAAAAAAAAAAAAAAAAAAAAAAAAAAAAAAAAAAAAAAAAAAAAAAAAAAAAAAAAAAAAAAAAAAAAAAAAAAAAAAAAAAAAAAAAAAAAAAAAAAAAAAAAAAAMjw2M9iKaI/4rchxmtetT+veysSE9TAP20bRkHw+MY/LLtgcM0dzT91rb1PVaHRP1T9SufDs9Q/M03YfjLG1z8TnWUWodjaP/Ps8q0P690/ah7AIr9+4D9ZxoZu9gfiP1VO7CY0NeI/0hc4Yeoc3D/6kpd0bM/TP0Yc7g/dA8c/WEq02oSjqT/SQZdw6C2eP/IPW3o01bM/uCdIbHcPwD92x2KbVDTGPzRnfcoxWcw/egPMfAc/0T9YU1kUdlHUPzij5qvkY9c/GPNzQ1N22j/3QgHbwYjdP2xJRzmYTeA/W/ENhc/W4T9iZGynDuviP8wcUN05cuA/aKpnJsry2z88Gy+SIAHXPw6M9v12D9I/wvl705o7yj9m2wqrR1jAPyn0ZgrS06k/AAAAAAAAAAAAAAAAAAAAAAAAAAAAAAAAAAAAAAAAAAAAAAAAAAAAAAAAAAAAAAAAAAAAAAAAAAAAAAAAAAAAAAAAAAAAAAAAAAAAAAAAAAAAAAAAAAAAAAAAAAAAAAAAAAAAAAAAAAAAAAAAAAAAAAAAAAAAAAAAAAAAAAAAAAAAAAAAAAAAAAAAAAAAAAAAAAAAAAAAAAAAAAAAAAAAAAAAAAAAAAAAAAAAAAAAAAAAAAAAAAAAAAAAAAAAAAAAAAAAAAAAAAAAAAAAAAAAAAAAAAAAAAAAAAAAAAAAAAAAAAAAAAAAAAAAAAAAAAAAAAAAAAAAAAAAAAAAAAAAAAAAAAAAAAAAAAAAAAAAAAAAAAAAAAAAAAAAAAAAAAAAAAAAAAAAAAAAAAAAAAAAAAAAAAAAAAAAAAAAAAAAAAAAAAAAAAAAAAAAAAAAAAAAAAAAAAAAAAAAAAAAAAAAAAAAAAAAAAAAAAAAAAAAAAAAAAAAAAAAAAAAAAAAAAAAAAAAAAAAAAAAAAAAAAAAAAAAAAAAAAAAAAAAAAAAAAAAAAAAAAAAAAAAAAAAAAAAAAAAAAAAAAAAAAAAAAAAAAAAAAAAAAAAAAAAAAAAAAAAAAAAAAAAAAAAAAAAAAAAAAAAAAAAAAAAAAAAAAAAAAAAAAAAAAAA3LjF/NzQpD/sG5jcKLK2P7StZp3xfcE/dE2BzM6ixz8y7Zv7q8fNP3hGW5VE9tE/WJboLLMI1T845nXEIRvYPxY2A1yQLds/9IWQ8/4/3j/q6o7FNqngP9qSVRFuMuI/UiDMIbp84j+eVe5W3m7gP9YVIRgFwtw/bIBlgk2m2D8G66nslYrUP55V7lbebtA/bIBlgk2myD+eVe5W3m7AP55V7lbebrA/AAAAAAAAAAAAAAAAAAAAAAAAAAAAAAAAAAAAAAAAAAAAAAAAAAAAAAAAAAAAAAAAAAAAAAAAAADsTneeeM6GP7VSCOQSR64/2Gg50ENtuz8qVDcXf9vDP+rzUUZcAMo/1Em2upwS0D+zmUNSCyXTP5Lp0Ol5N9Y/cTlegehJ2T9RiesYV1zcPzHZeLDFbt8/iBQDJJpA4T94vMlv0cniP+T2qjuCv+A/oCSrkgPM2j92WwCuAhnUP6Akq5IDzMo/oCSrkgPMuj8AAAAAAAAAAAAAAAAAAAAAAAAAAAAAAAAAAAAAAAAAAAAAAAAAAAAAAAAAAAAAAAAAAAAAAAAAAAAAAAAAAAAAAAAAAAAAAAAAAAAAAAAAAAAAAAAAAAAAAAAAAAAAAAAAAAAAAAAAAAAAAAAAAAAAAAAAAAAAAAAAAAAAAAAAAAAAAAAAAAAAAAAAAAAAAAAAAAAAAAAAAAAAAAAAAAAAAAAAAAAAAAAAAAAAAAAAAAAAAAAAAAAAAAAAAAAAAAAAAAAAAAAAAAAAAAAAAAAAAAAAAAAAAAAAAAAAAAAAAAAAAAAAAAAAAAAAAAAAAAAAAAAAAAAAAAAAAAAAAAAAAAAAAAAAAAAAAAAAAAAAAAAAAAAAAAAAAAAAAAAAAAAAAAAAAAAAAAAAAAAAAAAAAAAAAAAAAAAAAAAAAAAAAAAAAAAAAAAAAAAAAAAAAAAAAAAAAAAAAAAAAAAAAAAAAAAAAAAAAAAAAAAAAAAAAAAAAAAAAAAAAAAAAAAAAAAAAAAAAAAAAAAAAAAAAAAAAAAAAAAAAAAAAAAAAAAAAAAAAAAAAAAAAAAAAAAAAAAAAAAAAAAAAAAAAAAAAAAAAAAAAAAAAAAAAAAAAAAAAAAAAAAAAAAAAAAAAAAAAAAAAAAAAAAAAAAAAAAAAAAAAAAAAAAAAAAAAAAAAAAAAAAAAAAAAAAAAAAAAAAAAAAAAAAAAAAAAAAAAAAAAAAAAAAAAAAAAAAAAAAAAAAAAA9HV+nuOos/vlDAdjBirz/cZ5WZ0vq7P61T5XtGIsQ/bPP/qiNHyj+VSQ1tADbQP3SZmgRvSNM/VOknnN1a1j80ObUzTG3ZPxGJQsu6f9w/8tjPYimS3z9olC79S1LhP1c89UiD2+I/NDMzMzMz4z80MzMzMzPjPzQzMzMzM+M/NDMzMzMz4z80MzMzMzPjPzQzMzMzM+M/NTMzMzMz4z80MzMzMzPjPzQzMzMzM+M/NDMzMzMz4z80MzMzMzPjPzQzMzMzM+M/NDMzMzMz4z80MzMzMzPjPzQzMzMzM+M/NDMzMzMz4z80MzMzMzPjPzQzMzMzM+M/LdWndxQb4j94XqSOB4jgP4LPQUv16d0/F+I6edvD2j+q9DOnwZ3XPz4HLdWnd9Q/0hkmA45R0T/MWD5i6FbMP/R9ML60CsY/OEZFNAJ9vz+IkCnsmuSyP2BrN5DOMJk/AAAAAAAAAAAAAAAAAAAAAAAAAAAAAAAAAAAAAAAAAAAAAAAAAAAAAAAAAAAAAAAAAAAAAAAAAAAAAAAAAAAAAAAAAAAAAAAAAAAAAAAAAAAAAAAAAAAAAAAAAAAAAAAAAAAAAAAAAAAAAAAAAAAAAAAAAAAAAAAAAAAAAAAAAAAAAAAAAAAAAAAAAAAAAAAAAAAAAAAAAAAAAAAAAAAAAAAAAAAAAAAAAAAAAAAAAAAAAAAAAAAAAAAAAAAAAAAAAAAAAAAAAAAAAAAAAAAAAAAAAAAAAAAAAAAAAAAAAAAAAAAAAAAAAAAAAAAAAAAAAAAAAAAAAAAAAAAAAAAAAAAAAAAAAAAAAAAAAAAAAAAAAAAAAAAAAAAAAAAAAAAAAAAAAAAAAAAAAAAAAAAAAAAAAAAAAAAAAAAAAAAAAAAAAAAAAAAAAAAAAAAAAAAAAAAAAAAAAAAAAAAAAAAAAAAAAAAAAAAAAAAAAAAAAAAAAAAAAAAAAAAAAAAAAAAAAAAAAAAAAAAAAAAAAAAAAAAAAAAAAAAAAAAAAAAAAAAAAAAAAAAAAAAAAAAAAAAAAAAAAAAAAAAAAAAAAAAAAAAAAAAAAAAAAAAAAAAAAAAAAAAAAAAAAAAAAAAAAAAAAAAAAAAAAAAAAAAAAAAAAAAAAAAAAAAAAAAAAAAAAAAAAAAAAAAAAAAAAAAAAAAAAAAAAAAAAAAAAAAAAAAAAAAAAAAAAAAAAAAAAAAAAAAAAAAAAAAAAAAAAAAAAAAAAAAAAAAAAAAAAAAAAAAAAAAAAAAAAAAAAAAAAAAAAAAAAAAAAAAAAAAAAAAAAAAAAAAAAAAAAAAAAAAAAAAAAAAAAAAAAAAAAAAAAAAAAAAAAAAAAAAAAAAAAAAAAAAAAAAAAAAAAAAAAAAAAAAAAAAAAAAAAAAAAAAAAAAAAAAAAAAAAAAAAAAAAAAAAAAAAAAAAAAAAAAAAAAAAAAAAAAAAAAAAAAAAAAAAAAAAAAAAAAAAAAAAAAAAAAAAAAAAAAAAAAAAAAAAAAAAAAAAAAAAAAAAAAAAAAAAAAAAAAAAAAAAAAAAAAAAAAAAAAAAAAAAAAAAAAAAAAAAAAAAAAAAAAAAAAAAAAAAAAAAAAAAAAAAAAAAAAAAAAAAAAAAAAAAAAAAAAAAAAAAAAAAAAAAAAAAAAAAAAAAAAAAAAAAAAAAAAAAAAAAAAAAAAAAAAAAAAAAAAAAAAAAAAAAAAAAAAAAAAAAAAAAAAAAAAAAAAAAAAAAAAAAAAAAAAAAAAAAAAAAAAAAAAAAAAAAAAAAAAAAAAAAAAAAAAAAAAAAAAAAAAAAAAAAAAAAAAAAAAAAAAAAAAAAAAAAAAAAAAAAAAAAAAAAAAAAAAAAAAAAAAAAAAAAAAAAAAAAAAAAAAAAAAAAAAAAAAAAAAAAAAAAAAAAAAAAAAAAAAAAAAAAAAAAAAAAAAAAAAAAAAAAAAAAAAAAAAAAAAAAAAAAAAAAAAAAAAAAAAAAAAAAAAAAAAAAAAAAAAAAAAAAAAAAAAAAAAAAAAAAAAAAAAAAAAAAAAAAAAAAAAAAAAAAAAAAAAAAAAAAAAAAAAAAAAAAAAAAAAAAAAAAAAAAAAAAAAAAAAAAAAAAAAAAAAAAAAAAAAAAAAAAAAAAAAAAAAAAAAAAAAAAAAAAAAAAAAAAAAAAAAAAAAAAAAAAAAAAAAAAAAAAAAAAAAAAAAAAAAAAAAAAAAAAAAAAAAAAAAAAAAAAAAAAAAAAAAAAAAAAAAAAAAAAAAAAAAAAAAAAAAAAAAAAAAAAAAAAAAAAAAAAAAAAAAAAAAAAAAAAAAAAAAAAAAAAAAAAAAAAAAAAAAAAAAAAAAAAAAAAAAAAAAAAAAAAAAAAAAAAAAAAAAAAAAAAAAAAAAAAAAAAAAAAAAAAAAAAAAAAAAAAAAAAAAAAAAAAAAAAAAAAAAAAAAAAAAAAAAAAAAAAAAAAAAAAAAAAAAAAAAAAAAAAAAAAAAAAAAAAAAAAAAAAAAAAAAAAAAAAAAAAAAAAAAAAAAAAAAAAAAAAAAAAAAAAAAAAAAAAAAAAAAAAAAAAAAAAAAAAAAAAAAAAAAAAAAAAAAAAAAAAAAAAAAAAAAAAAAAAAAAAAAAAAAAAAAAAAAAAAAAAAAAAAAAAAAAAAAAAAAAAAAAAAAAAAAAAAAAAAAAAAAAAAAAAAAAAAAAAAAAAAAAAAAAAAAAAAAAAAAAAAAAAAAAAAAAAAAAAAAAAAAAAAAAAAAAAAAAAAAAAAAAAAAAAAAAAAAAAAAAAAAAAAAAAAAAAAAAAAAAAAAAAAAAAAAAAAAAAAAAAAAAAAAAAAAAAAAAAAAAAAAAAAAAAAAAAAAAAAAAAAAAAAAAAAAAAAAAAAAAAAAAAAAAAAAAAAAAAAAAAAAAAAAAAAAAAAAAAAAAAAAAAAAAAAAAAAAAAAAAAAAAAAAAAAAAAAAAAAAAAAAAAAAAAAAAAAAAAAAAAAAAAAAAAAAAAAAAAAAAAAAAAAAAAAAAAAAAAAAAAAAAAAAAAAAAAAAAAAAAAAAAAAAAAAAAAAAAAAAAAAAAAAAAAAAAAAAAAAAAAAAAAAAAAAAAAAAAAAAAAAAAAAAAAAAAAAAAAAAAAAAAAAAAAAAAAAAAAAAAAAAAAAAAAAAAAAAAAAAAAAAAAAAAAAAAAAAAAAAAAAAAAAAAAAAAAAAAAAAAAAAAAAAAAAAAAAAAAAAAAAAAAAAAAAAAAAAAAAAAAAAAAAAAAAAAAAAAAAAAAAAAAAAAAAAAAAAAAAAAAAAAAAAAAAAAAA==\",\"dtype\":\"float64\",\"shape\":[1202]}}},\"id\":\"92ee2aeb-3f4d-4555-9344-6590b1eb8e55\",\"type\":\"ColumnDataSource\"},{\"attributes\":{\"data_source\":{\"id\":\"92ee2aeb-3f4d-4555-9344-6590b1eb8e55\",\"type\":\"ColumnDataSource\"},\"glyph\":{\"id\":\"8895ed8c-18ec-46c2-80f9-af97f6fbe554\",\"type\":\"Patch\"},\"hover_glyph\":null,\"nonselection_glyph\":{\"id\":\"763bb0ba-f886-4167-9281-d945616fde0e\",\"type\":\"Patch\"},\"selection_glyph\":null},\"id\":\"8a7ab817-51ad-453b-a34e-fae0e6f7980c\",\"type\":\"GlyphRenderer\"},{\"attributes\":{\"line_alpha\":{\"value\":0.1},\"line_color\":{\"value\":\"#1f77b4\"},\"line_width\":{\"value\":2},\"x\":{\"field\":\"x\"},\"y\":{\"field\":\"y\"}},\"id\":\"c8839a89-c7e3-4500-81b2-47b51a71bd4e\",\"type\":\"Line\"},{\"attributes\":{\"data_source\":{\"id\":\"a3301c21-b2b5-4305-aa2a-b678035cd4b3\",\"type\":\"ColumnDataSource\"},\"glyph\":{\"id\":\"2d3ba875-2325-47ff-b8fe-2540fed0ca7f\",\"type\":\"Line\"},\"hover_glyph\":null,\"nonselection_glyph\":{\"id\":\"b5bdecef-5edf-4aac-8ce8-375948d9e637\",\"type\":\"Line\"},\"selection_glyph\":null},\"id\":\"8cccad8c-4292-4f3d-be47-6941d5a56878\",\"type\":\"GlyphRenderer\"},{\"attributes\":{\"data_source\":{\"id\":\"4db61c38-6e73-4411-bd57-4621582e74b0\",\"type\":\"ColumnDataSource\"},\"glyph\":{\"id\":\"470c2ccc-c3a5-4235-ae51-43eda3a56d77\",\"type\":\"Line\"},\"hover_glyph\":null,\"nonselection_glyph\":{\"id\":\"90b0efa3-4748-4bcc-ae7f-9401f6183e36\",\"type\":\"Line\"},\"selection_glyph\":null},\"id\":\"c36b522a-dd2b-4c86-928d-e22aae962aa4\",\"type\":\"GlyphRenderer\"},{\"attributes\":{\"line_alpha\":{\"value\":0.1},\"line_color\":{\"value\":\"#1f77b4\"},\"line_width\":{\"value\":2},\"x\":{\"field\":\"x\"},\"y\":{\"field\":\"y\"}},\"id\":\"b5bdecef-5edf-4aac-8ce8-375948d9e637\",\"type\":\"Line\"},{\"attributes\":{\"label\":{\"value\":\"Traces 0.7 Lambda 6 States 3 Gap\"},\"renderers\":[{\"id\":\"8cccad8c-4292-4f3d-be47-6941d5a56878\",\"type\":\"GlyphRenderer\"}]},\"id\":\"9d1a5da5-af6c-4a7a-b32e-3e2ddd795d9b\",\"type\":\"LegendItem\"},{\"attributes\":{\"callback\":null,\"column_names\":[\"x\",\"y\"],\"data\":{\"x\":[0,1000,2000,3000,4000,5000,6000,7000,8000,9000,10000,11000,12000,13000,14000,15000,16000,17000,18000,19000,20000,21000,22000,23000,24000,25000,26000,27000,28000,29000,30000,31000,32000,33000,34000,35000,36000,37000,38000,39000,40000,41000,42000,43000,44000,45000,46000,47000,48000,49000,50000,51000,52000,53000,54000,55000,56000,57000,58000,59000,60000,61000,62000,63000,64000,65000,66000,67000,68000,69000,70000,71000,72000,73000,74000,75000,76000,77000,78000,79000,80000,81000,82000,83000,84000,85000,86000,87000,88000,89000,90000,91000,92000,93000,94000,95000,96000,97000,98000,99000,100000,101000,102000,103000,104000,105000,106000,107000,108000,109000,110000,111000,112000,113000,114000,115000,116000,117000,118000,119000,120000,121000,122000,123000,124000,125000,126000,127000,128000,129000,130000,131000,132000,133000,134000,135000,136000,137000,138000,139000,140000,141000,142000,143000,144000,145000,146000,147000,148000,149000,150000,151000,152000,153000,154000,155000,156000,157000,158000,159000,160000,161000,162000,163000,164000,165000,166000,167000,168000,169000,170000,171000,172000,173000,174000,175000,176000,177000,178000,179000,180000,181000,182000,183000,184000,185000,186000,187000,188000,189000,190000,191000,192000,193000,194000,195000,196000,197000,198000,199000,200000,201000,202000,203000,204000,205000,206000,207000,208000,209000,210000,211000,212000,213000,214000,215000,216000,217000,218000,219000,220000,221000,222000,223000,224000,225000,226000,227000,228000,229000,230000,231000,232000,233000,234000,235000,236000,237000,238000,239000,240000,241000,242000,243000,244000,245000,246000,247000,248000,249000,250000,251000,252000,253000,254000,255000,256000,257000,258000,259000,260000,261000,262000,263000,264000,265000,266000,267000,268000,269000,270000,271000,272000,273000,274000,275000,276000,277000,278000,279000,280000,281000,282000,283000,284000,285000,286000,287000,288000,289000,290000,291000,292000,293000,294000,295000,296000,297000,298000,299000,300000,301000,302000,303000,304000,305000,306000,307000,308000,309000,310000,311000,312000,313000,314000,315000,316000,317000,318000,319000,320000,321000,322000,323000,324000,325000,326000,327000,328000,329000,330000,331000,332000,333000,334000,335000,336000,337000,338000,339000,340000,341000,342000,343000,344000,345000,346000,347000,348000,349000,350000,351000,352000,353000,354000,355000,356000,357000,358000,359000,360000,361000,362000,363000,364000,365000,366000,367000,368000,369000,370000,371000,372000,373000,374000,375000,376000,377000,378000,379000,380000,381000,382000,383000,384000,385000,386000,387000,388000,389000,390000,391000,392000,393000,394000,395000,396000,397000,398000,399000,400000,401000,402000,403000,404000,405000,406000,407000,408000,409000,410000,411000,412000,413000,414000,415000,416000,417000,418000,419000,420000,421000,422000,423000,424000,425000,426000,427000,428000,429000,430000,431000,432000,433000,434000,435000,436000,437000,438000,439000,440000,441000,442000,443000,444000,445000,446000,447000,448000,449000,450000,451000,452000,453000,454000,455000,456000,457000,458000,459000,460000,461000,462000,463000,464000,465000,466000,467000,468000,469000,470000,471000,472000,473000,474000,475000,476000,477000,478000,479000,480000,481000,482000,483000,484000,485000,486000,487000,488000,489000,490000,491000,492000,493000,494000,495000,496000,497000,498000,499000,500000,501000,502000,503000,504000,505000,506000,507000,508000,509000,510000,511000,512000,513000,514000,515000,516000,517000,518000,519000,520000,521000,522000,523000,524000,525000,526000,527000,528000,529000,530000,531000,532000,533000,534000,535000,536000,537000,538000,539000,540000,541000,542000,543000,544000,545000,546000,547000,548000,549000,550000,551000,552000,553000,554000,555000,556000,557000,558000,559000,560000,561000,562000,563000,564000,565000,566000,567000,568000,569000,570000,571000,572000,573000,574000,575000,576000,577000,578000,579000,580000,581000,582000,583000,584000,585000,586000,587000,588000,589000,590000,591000,592000,593000,594000,595000,596000,597000,598000,599000,600000,600000,599000,598000,597000,596000,595000,594000,593000,592000,591000,590000,589000,588000,587000,586000,585000,584000,583000,582000,581000,580000,579000,578000,577000,576000,575000,574000,573000,572000,571000,570000,569000,568000,567000,566000,565000,564000,563000,562000,561000,560000,559000,558000,557000,556000,555000,554000,553000,552000,551000,550000,549000,548000,547000,546000,545000,544000,543000,542000,541000,540000,539000,538000,537000,536000,535000,534000,533000,532000,531000,530000,529000,528000,527000,526000,525000,524000,523000,522000,521000,520000,519000,518000,517000,516000,515000,514000,513000,512000,511000,510000,509000,508000,507000,506000,505000,504000,503000,502000,501000,500000,499000,498000,497000,496000,495000,494000,493000,492000,491000,490000,489000,488000,487000,486000,485000,484000,483000,482000,481000,480000,479000,478000,477000,476000,475000,474000,473000,472000,471000,470000,469000,468000,467000,466000,465000,464000,463000,462000,461000,460000,459000,458000,457000,456000,455000,454000,453000,452000,451000,450000,449000,448000,447000,446000,445000,444000,443000,442000,441000,440000,439000,438000,437000,436000,435000,434000,433000,432000,431000,430000,429000,428000,427000,426000,425000,424000,423000,422000,421000,420000,419000,418000,417000,416000,415000,414000,413000,412000,411000,410000,409000,408000,407000,406000,405000,404000,403000,402000,401000,400000,399000,398000,397000,396000,395000,394000,393000,392000,391000,390000,389000,388000,387000,386000,385000,384000,383000,382000,381000,380000,379000,378000,377000,376000,375000,374000,373000,372000,371000,370000,369000,368000,367000,366000,365000,364000,363000,362000,361000,360000,359000,358000,357000,356000,355000,354000,353000,352000,351000,350000,349000,348000,347000,346000,345000,344000,343000,342000,341000,340000,339000,338000,337000,336000,335000,334000,333000,332000,331000,330000,329000,328000,327000,326000,325000,324000,323000,322000,321000,320000,319000,318000,317000,316000,315000,314000,313000,312000,311000,310000,309000,308000,307000,306000,305000,304000,303000,302000,301000,300000,299000,298000,297000,296000,295000,294000,293000,292000,291000,290000,289000,288000,287000,286000,285000,284000,283000,282000,281000,280000,279000,278000,277000,276000,275000,274000,273000,272000,271000,270000,269000,268000,267000,266000,265000,264000,263000,262000,261000,260000,259000,258000,257000,256000,255000,254000,253000,252000,251000,250000,249000,248000,247000,246000,245000,244000,243000,242000,241000,240000,239000,238000,237000,236000,235000,234000,233000,232000,231000,230000,229000,228000,227000,226000,225000,224000,223000,222000,221000,220000,219000,218000,217000,216000,215000,214000,213000,212000,211000,210000,209000,208000,207000,206000,205000,204000,203000,202000,201000,200000,199000,198000,197000,196000,195000,194000,193000,192000,191000,190000,189000,188000,187000,186000,185000,184000,183000,182000,181000,180000,179000,178000,177000,176000,175000,174000,173000,172000,171000,170000,169000,168000,167000,166000,165000,164000,163000,162000,161000,160000,159000,158000,157000,156000,155000,154000,153000,152000,151000,150000,149000,148000,147000,146000,145000,144000,143000,142000,141000,140000,139000,138000,137000,136000,135000,134000,133000,132000,131000,130000,129000,128000,127000,126000,125000,124000,123000,122000,121000,120000,119000,118000,117000,116000,115000,114000,113000,112000,111000,110000,109000,108000,107000,106000,105000,104000,103000,102000,101000,100000,99000,98000,97000,96000,95000,94000,93000,92000,91000,90000,89000,88000,87000,86000,85000,84000,83000,82000,81000,80000,79000,78000,77000,76000,75000,74000,73000,72000,71000,70000,69000,68000,67000,66000,65000,64000,63000,62000,61000,60000,59000,58000,57000,56000,55000,54000,53000,52000,51000,50000,49000,48000,47000,46000,45000,44000,43000,42000,41000,40000,39000,38000,37000,36000,35000,34000,33000,32000,31000,30000,29000,28000,27000,26000,25000,24000,23000,22000,21000,20000,19000,18000,17000,16000,15000,14000,13000,12000,11000,10000,9000,8000,7000,6000,5000,4000,3000,2000,1000,0],\"y\":{\"__ndarray__\":\"AAAAAAAAAAAAAAAAAAAAAAAAAAAAAAAAAAAAAAAAAAAAAAAAAAAAAAAAAAAAAAAAAAAAAAAAAAAAAAAAAAAAAAAAAAAAAAAAAAAAAAAAAAAAAAAAAAAAAAAAAAAAAAAAAAAAAAAAAAAAAAAAAAAAAAAAAAAAAAAAAAAAAAAAAAAAAAAAAAAAAAAAAAAAAAAAAAAAAAAAAAAAAAAAAAAAAAAAAAAAAAAAAAAAAAAAAAAAAAAAAAAAAAAAAAAAAAAAAAAAAAAAAAAAAAAAAAAAAAAAAAAAAAAAAAAAAAAAAAAAAAAAAAAAAAAAAAAAAAAAAAAAAAAAAAAAAAAAAAAAAAAAAAAAAAAAAAAAAAAAAAAAAAAAAAAAAAAAAAAAAAAAAAAAAAAAAAAAAAAAAAAAAAAAAAAAAAAAAAAAAAAAAAAAAAAAAAAAAAAAAAAAAAAAAAAAAAAAAAAAAAAAAAAAAAAAAAAAAAAAAAAAAAAAAAAAAAAAAAAAAAAAAAAAAAAAAAAAAAAAAAAAAAAAAAAAAAAAAAAAAAAAAAAAAAAAAAAAAAAAAAAAAAAAAAAAAAAAAAAAAAAAAAAAAAAAAAAAAAAAAAAAAAAAAAAAAAAAAAAAAAAAAAAAAAAAAAAAAAAAAAAAAAAAAAAAAAAAAAAAAAAAAAAAAAAAAAAAAAAAAAAAAAAAAAAAAAAAAAAAAAAAAAAAAAAAAAAAAAAAAAAAAAAAAAAAAAAAAAAAAAAAAAAAAAAAAAAAAAAAAAAAAAAAAAAAAAAAAAAAAAAAAAAAAAAAAAAAAAAAAAAAAAAAAAAAAAAAAAAAAAAAAAAAAAAAAAAAAAAAAAAAAAAAAAAAAAAAAAAAAAAAAAAAAAAAAAAAAAAAAAAAAAAAAAAAAAAAAAAAAAAAAAAAAAAAAAAAAAAAAAAAAAAAAAAAAAAAAAAAAAAAAAAAAAAAAAAAAAAAAAAAAAAAAAAAAAAAAAAAAAAAAAAAAAAAAAAAAAAAAAAAAAAAAAAAAAAAAAAAAAAAAAAAAAAAAAAAAAAAAAAAAAAAAAAAAAAAAAAAAAAAAAAAAAAAAAAAAAAAAAAAAAAAAAAAAAAAAAAAAAAAAAAAAAAAAAAAAAAAAAAAAAAAAAAAAAAAAAAAAAAAAAAAAAAAAAAAAAAAAAAAAAAAAAAAAAAAAAAAAAAAAAAAAAAAAAAAAAAAAAAAAAAAAAAAAAAAAAAAAAAAAAAAAAAAAAAAAAAAAAAAAAAAAAAAAAAAAAAAAAAAAAAAAAAAAAAAAAAAAAAAAAAAAAAAAAAAAAAAAAAAAAAAAAAAAAAAAAAAAAAAAAAAAAAAAAAAAAAAAAAAAAAAAAAAAAAAAAAAAAAAAAAAAAAAAAAAAAAAAAAAAAAAAAAAAAAAAAAAAAAAAAAAAAAAAAAAAAAAAAAAAAAAAAAAAAAAAAAAAAAAAAAAAAAAAAAAAAAAAAAAAAAAAAAAAAAAAAAAAAAAAAAAAAAAAAAAAAAAAAAAAAAAAAAAAAAAAAAAAAAAAAAAAAAAAAAAAAAAAAAAAAAAAAAAAAAAAAAAAAAAAAAAAAAAAAAAAAAAAAAAAAAAAAAAAAAAAAAAAAAAAAAAAAAAAAAAAAAAAAAAAAAAAAAAAAAAAAAAAAAAAAAAAAAAAAAAAAAAAAAAAAAAAAAAAAAAAAAAAAAAAAAAAAAAAAAAAAAAAAAAAAAAAAAAAAAAAAAAAAAAAAAAAAAAAAAAAAAAAAAAAAAAAAAAAAAAAAAAAAAAAAAAAAAAAAAAAAAAAAAAAAAAAAAAAAAAAAAAAAAAAAAAAAAAAAAAAAAAAAAAAAAAAAAAAAAAAAAAAAAAAAAAAAAAAAAAAAAAAAAAAAAAAAAAAAAAAAAAAAAAAAAAAAAAAAAAAAAAAAAAAAAAAAAAAAAAAAAAAAAAAAAAAAAAAAAAAAAAAAAAAAAAAAAAAAAAAAAAAAAAAAAAAAAAAAAAAAAAAAAAAAAAAAAAAAAAAAAAAAAAAAAAAAAAAAAAAAAAAAAAAAAAAAAAAAAAAAAAAAAAAAAAAAAAAAAAAAAAAAAAAAAAAAAAAAAAAAAAAAAAAAAAAAAAAAAAAAAAAAAAAAAAAAAAAAAAAAAAAAAAAAAAAAAAAAAAAAAAAAAAAAAAAAAAAAAAAAAAAAAAAAAAAAAAAAAAAAAAAAAAAAAAAAAAAAAAAAAAAAAAAAAAAAAAAAAAAAAAAAAAAAAAAAAAAAAAAAAAAAAAAAAAAAAAAAAAAAAAAAAAAAAAAAAAAAAAAAAAAAAAAAAAAAAAAAAAAAAAAAAAAAAAAAAAAAAAAAAAAAAAAAAAAAAAAAAAAAAAAAAAAAAAAAAAAAAAAAAAAAAAAAAAAAAAAAAAAAAAAAAAAAAAAAAAAAAAAAAAAAAAAAAAAAAAAAAAAAAAAAAAAAAAAAAAAAAAAAAAAAAAAAAAAAAAAAAAAAAAAAAAAAAAAAAAAAAAAAAAAAAAAAAAAAAAAAAAAAAAAAAAAAAAAAAAAAAAAAAAAAAAAAAAAAAAAAAAAAAAAAAAAAAAAAAAAAAAAAAAAAAAAAAAAAAAAAAAAAAAAAAAAAAAAAAAAAAAAAAAAAAAAAAAAAAAAAAAAAAAAAAAAAAAAAAAAAAAAAAAAAAAAAAAAAAAAAAAAAAAAAAAAAAAAAAAAAAAAAAAAAAAAAAAAAAAAAAAAAAAAAAAAAAAAAAAAAAAAAAAAAAAAAAAAAAAAAAAAAAAAAAAAAAAAAAAAAAAAAAAAAAAAAAAAAAAAAAAAAAAAAAAAAAAAAAAAAAAAAAAAAAAAAAAAAAAAAAAAAAAAAAAAAAAAAAAAAAAAAAAAAAAAAAAAAAAAAAAAAAAAAAAAAAAAAAAAAAAAAAAAAAAAAAAAAAAAAAAAAAAAAAAAAAAAAAAAAAAAAAAAAAAAAAAAAAAAAAAAAAAAAAAAAAAAAAAAAAAAAAAAAAAAAAAAAAAAAAAAAAAAAAAAAAAAAAAAAAAAAAAAAAAAAAAAAAAAAAAAAAAAAAAAAAAAAAAAAAAAAAAAAAAAAAAAAAAAAAAAAAAAAAAAAAAAAAAAAAAAAAAAAAAAAAAAAAAAAAAAAAAAAAAAAAAAAAAAAAAAAAAAAAAAAAAAAAAAAAAAAAAAAAAAAAAAAAAAAAAAAAAAAAAAAAAAAAAAAAAAAAAAAAAAAAAAAAAAAAAAAAAAAAAAAAAAAAAAAAAAAAAAAAAAAAAAAAAAAAAAAAAAAAAAAAAAAAAAAAAAAAAAAAAAAAAAAAAAAAAAAAAAAAAAAAAAAAAAAAAAAAAAAAAAAAAAAAAAAAAAAAAAAAAAAAAAAAAAAAAAAAAAAAAAAAAAAAAAAAAAAAAAAAAAAAAAAAAAAAAAAAAAAAAAAAAAAAAAAAAAAAAAAAAAAAAAAAAAAAAAAAAAAAAAAAAAAAAAAAAAAAAAAAAAAAAAAAAAAAAAAAAAAAAAAAAAAAAAAAAAJ+F+dfRIpe/n4X519Eip782JPthHVqxv5+F+dfRIre/A+f3TYbrvL82JPthHVrBv+dU+px3PsS/n4X519Eix7+cmZmZmZnJv5yZmZmZmcm/nJmZmZmZyb+cmZmZmZnJv5yZmZmZmcm/nJmZmZmZyb+cmZmZmZnJv5yZmZmZmcm/nJmZmZmZyb+cmZmZmZnJvxHVWwNbJci/1J/9SBEZxr+Vap+OxwzEv1U1QdR9AMK/LQDGM2jov7+plQm/1M+7vy0rTUpBt7e/sMCQ1a2es79brKjBNAyvv17XL9gN26a/wARu3c1Tnb+ItfgUAOOJvwAAAAAAAAAAAAAAAAAAAAAAAAAAAAAAAAAAAAAAAAAAAAAAAAAAAAAAAAAAAAAAAAAAAAAAAAAAAAAAAAAAAAAAAAAAAAAAAAAAAAAAAAAAAAAAAAAAAAAAAAAAAAAAAAAAAAAAAAAAAAAAAAAAAAAAAAAAAAAAAAAAAAAAAAAAAAAAAAAAAAAAAAAAAAAAAAAAAAAAAAAAAAAAAAAAAAAAAAAAAAAAAAAAAAAAAAAAAAAAAAAAAAAAAAAAAAAAAAAAAAAAAAAAAAAAAAAAAAAAAAAAAAAAAAAAAAAAAAAAAAAAAAAAAAAAAAAAAAAAAAAAAAAAAAAAAAAAAAAAAAAAAAAAAAAAAAAAAAAAAAAAAAAAAAAAAAAAAAAAAAAAAAAAAAAAAAAAAAAAAAAAAAAAAAAAAAAAAAAAAAAAAAAAAAAAAAAAAAAAAAAAAAAAAAAAAAAAAAAAAAAAAAAAAAAAAAAAAAAAAAAAAAAAAAAAAAAAAAAAAAAAAAAAAAAAAAAAAAAAAAAAAAAAAAAAAAAAAAAAAAAAAAAAAAAAAAAAAAAAAAAAAAAAAAAAAAAAAAAAAAAAAAAAAAAAAAAAAAAAAAAAAAAAAJU/6pQ/6oS/Yl9fX19fn794zyR6zySqv6L3TKL3TLK/iIeHh4eHt79tF8JsF8K8v6tT/qhT/sC/npubm5ubw7+O4ziO4zjGv4Er1oAr1si/dODVcmcmyL80q3e4HRrGv/N1Gf7TDcS/tEC7Q4oBwr/qFroSgeq/v2ys/Z3t0bu/6kFBKVq5t79r14S0xqCzv9bZkH9mEK+/2gQYlj/fpr+6Xz5ZMVydv3ZrmQzH84m/AAAAAAAAAAAAAAAAAAAAAAAAAAAAAAAAAAAAAAAAAAAAAAAAAAAAAAAAAAAAAAAAAAAAAAAAAAAAAAAAAAAAAAAAAAAAAAAAAAAAAAAAAAAAAAAAAAAAAAAAAAAAAAAAAAAAAAAAAAAAAAAAAAAAAAAAAAAAAAAAAAAAAAAAAAAAAAAAAAAAAAAAAAAAAAAAAAAAAAAAAAAAAAAAAAAAAAAAAAAAAAAAAAAAAAAAAAAAAAAAAAAAAAAAAAAAAAAAAAAAAAAAAAB9FJ0JnxiCv4NM9a01Rqq/96nBzCEDuL8c90qQuNW/vyr4/wuHi8K/vDyuFJe7wr8c6+CekpvAv0CFVgVdr72/sLJuxADcur/AGbBvs7W4v2iOBwFFMre/LCu1TJJFtr9UC5zZZ+K1vwTeM1ZJ+7W/tOQj/wyDtr/sVpUEcqu2v1BICZ/0Eba/sG/oV3Xdtb/cFHk/vhm2v/xXS7X/0ra/GOGYPVgVuL/0b+U3Vfe4v8i7MptXB7i/RuFWaJlNt79C+vcs8d22v1RWP6np1ba/9t9Cnixit7+4urVCNca4vz+QvHMoQ7W/wCUA/5Qqsb+AdocUAySqv4ShDivc8qG/C5krg2qDk794eM+B5QhpvwAAAAAAAAAAAAAAAAAAAAAAAAAAAAAAAAAAAAAAAAAAAAAAAAAAAAAAAAAAAAAAAAAAAAAAAAAAAAAAAAAAAAAAAAAAAAAAAAAAAAAAAAAAAAAAAAAAAAAAAAAAAAAAAAAAAAAAAAAAAAAAAAAAAAAAAAAAAAAAAAAAAAAAAAAAAAAAAAAAAAAAAAAAAAAAAAAAAAAAAAAAAAAAAAAAAAAAAAAAAAAAAAAAAAAAAAAAAAAAAAAAAAAAAAAAAAAAAAAAAAAAAAAAAAAAAAAAAAAAAAAAAAAAAAAAAAAAAAAAAAAAAAAAAAAAAAAAAAAAAAAAAAAAAAAAAAAAAAAAAAAAAAAAAAAAAAAAAAAAAAAAAAAAAAAAAAAAAAAAAAAAAAAAAAAAAAAAAAAAAAAAAAAAAAAAAAAAAAAAAAAAAAAAAAAAAAAAAAAAAAAAAAAAAAAAAAAAAAAAAAAAAAAAAABS6rO/FjeSv6Lkjb6vLqO/HdRBHdRBrb/L4fo9fKqzv4nZVG0OtLi/RdGunKC9vb+CZARmmWPBv2BgsX1i6MO/PlxelSttxr8dWAut9PHIv4UqNXugFci/RPXWwFYJxr8GwHgGDf3Dv8aKGkzD8MG/Dat4I/PIv7+OQLyuX7C7vw/W/znMl7e/kGtDxTh/s78iAg6hSs2uvyQtlbcjnKa/S7A4nPnVnL+eDI6SV+eIvwAAAAAAAAAAAAAAAAAAAAAAAAAAAAAAAAAAAAAAAAAAAAAAAAAAAAAAAAAAAAAAAAAAAAAAAAAAAAAAAAAAAAAAAAAAAAAAAAAAAAAAAAAAAAAAAAAAAAAAAAAAAAAAAAAAAAAAAAAAAAAAAAAAAAAAAAAAAAAAAAAAAAAAAAAAAAAAAAAAAAAAAAAAAAAAAAAAAAAAAAAAAAAAAAAAAAAAAAAAAAAAAAAAAAAAAAAAAAAAAAAAAAAAAAAAAAAAAAAAAAAAAAAAAAAAAAAAAAAAAAAAAAAAAAAAAAAAAAAAAAAAAAAAAAAAAAAAAAAAAAAAAAAAAAAAAAAAAAAAAAAAAAAAAAAAAAAAAAAAAAAAAAAAAAAAAAAAAAAAAAAAAAAAAAAAAAAAAAAAAAAAAAAAAAAAAAAAAAAAAAAAAAAAAAAAAAAAAAAAAAAAAAAAAAAAAAAAAAAAAAAAAAAAAAAAAAAAAAAAAAAAAAAAAAAAAAAAAAAAAAAAAAAAAAAAAAAAAAAAAAAAAAAAAAAAAAAAAAAAAAAAAAAAAAAAAAAAAAAAAAAAAAAAAAAAAAAAAAAAAAAAAAAAAAAAAAAAAAAAAAAAAAAAAAAAAAAAAAAAAAAAAAAAAAAAAAAAAAAAAAAAAAAAAAAAAAAAAAAAAAAAAAAAAAAAAAAAAAAAAAAAAAAAAAAAAAAAAAAAAAAAAAAAAAAAAAAAAAAAAAAAAAAAAAAAAAAAAAAAAAAAAAAAAAAAAAAAAAAAAAAAAAAAAAAAAAAAAAAAAAAAAAAAAAAAAAAAAAAAAAAAAAAAAAAAAAAAAAAAAAAAAAAAAAAAAAAAAAAAAAAAAAAAAAAAAAAAAAAAAAAAAAAAAAAAAAAAdonqrYGtoj84hCo1e6C1P9vhr8ka9cA/moHK+PcZxz9YIeUn1T7NP4vgfyvZsdE/ajANw0fE1D9KgJpattbXPynQJ/Ik6do/CSC1iZP73T/0N6EQAYfgP+TfZ1w4EOI/FoLIgXe14j8uxQaw4NHgP5AQiryT3N0/w5YGGWYV2j/0HIN1OE7WPyej/9EKh9I/sFL4XLp/zT8WX/EVX/HFP/PW1J0Hxrw/e9+NH6JSqz8AAAAAAAAAAAAAAAAAAAAAAAAAAAAAAAAAAAAAAAAAAAAAAAAAAAAAAAAAAAAAAAAAAAAAAAAAAAAAAAAAAAAAAAAAAAAAAAAAAAAAAAAAAAAAAAAAAAAAAAAAAAAAAAAAAAAAAAAAAAAAAAAAAAAAAAAAAAAAAAAAAAAAAAAAAAAAAAAAAAAAAAAAAAAAAAAAAAAAAAAAAAAAAAAAAAAAAAAAAAAAAAAAAAAAAAAAAAAAAAAAAAAAAAAAAAAAAAAAAAAAAAAAAAAAAAAAAAAAAAAAAAAAAAAAAAAAAAAAAAAAAAAAAAAAAAAAAAAAAAAAAAAAAAAAAAAAAAAAAAAAAAAAAAAAAAAAAAAAAAAAAAAAAAAAAAAAAAAAAAAAAAAAAAAAAAAAAAAAAAAAAAAAAAAAAAAAAAAAAAAAAAAAAAAAAAAAAAAAAAAAAAAAAAAAAAAAAAAAAAAAAAAAAAAAW5pbIazGgj+QZcHEH0WtP0bylUBK7Lo/4ZhlTwKbwz+gOIB+37/JP17Ymq285M8/1g3MK8AR0z+kwWt3UdHWP7tJ5y7Uxto/Nt2RhGnh3j+7ABOE84rhP0uxzAR1ruM/ED3Bcr7Y5T8ytDpUpBPnP64dYCB+8ec/6u/Uznrg6D/k9RGPFt/pP5grJVXL6+o/DMgF3x8F7D8YTId3hsjrP1S6r76nqOo/EC9jS6WW6T8cwgxWJJToP5Z93WjUouc/Ev748lvE5j9CQNdZP/rlP6apOp7EReU/1oKOYden5D9QRkg78iDkP8ZDqhYHquE/iaUQyeh12j94P5FZWQLSP2P5d0KotMM/vJ5rju4kmz8AAAAAAAAAAAAAAAAAAAAAAAAAAAAAAAAAAAAAAAAAAAAAAAAAAAAAAAAAAAAAAAAAAAAAAAAAAAAAAAAAAAAAAAAAAAAAAAAAAAAAAAAAAAAAAAAAAAAAAAAAAAAAAAAAAAAAAAAAAAAAAAAAAAAAAAAAAAAAAAAAAAAAAAAAAAAAAAAAAAAAAAAAAAAAAAAAAAAAAAAAAAAAAAAAAAAAAAAAAAAAAAAAAAAAAAAAAAAAAAAAAAAAAAAAAAAAAAAAAAAAAAAAAJgQc0nVdqM/ysfuAiUFtj+kA5KwbyfBP2KjrN9MTMc/IEPHDipxzT9w8fCeA8vRP1BBfjZy3dQ/LpELzuDv1z8O4ZhlTwLbP+wwJv29FN4/ZsBZSpaT4D9WaCCWzRziP6GgoKCgoOI/qqqqqqqq4D9raWlpaWndP359fX19fdk/kpGRkZGR1T+mpaWlpaXRP3Nzc3Nzc8s/m5ubm5ubwz+Ih4eHh4e3P2BfX19fX58/AAAAAAAAAAAAAAAAAAAAAAAAAAAAAAAAAAAAAAAAAAAAAAAAAAAAAAAAAAAAAAAAAAAAAAAAAAAAAAAAAAAAAAAAAAAAAAAAAAAAAAAAAAAAAAAAAAAAAAAAAAAAAAAAAAAAAAAAAAAAAAAAAAAAAAAAAAAAAAAAAAAAAAAAAAAAAAAAAAAAAAAAAAAAAAAAAAAAAAAAAAAAAAAAAAAAAAAAAAAAAAAAAAAAAAAAAAAAAAAAAAAAAAAAAAAAAAAAAAAAAAAAAAAAAAAAAAAAAAAAAAAAAAAAAAAAAAAAAAAAAAAAAAAAAAAAAAAAAAAAAAAAAAAAAAAAAAAAAAAAAAAAAAAAAAAAAAAAAAAAAAAAAAAAAAAAAAAAAAAAAAAAAAAAAAAAAAAAAAAAAAAAAAAAAAAAAAAAAAAAAAAAAAAAAAAAAAAAAAAAAAAAAAAAAAAAAAAAAAAAAAAAAAAAAAAAAAAAAAAAAAAAAAAAAAAAAAAAAAAAAAAAAAAAAAAAAAAAAAAAAAAAAAAAAAAAAAAAAAAAAAAAAAAAAAAAAAAAAAAAAAAAAAAAAAAAAAAAAAAAAAAAAAAAAAAAAAAAAAAAAAAAAAAAJ4i6D0Bqoz+RgxJm2v61P4bhI2JKJME/RYE+kSdJxz8GIVnABG7NP2LgufdwydE/QDBHj9/b1D8hgNQmTu7XPwDQYb68ANs/4B/vVSsT3j/fN772zJLgP87fhEIEHOI/NDMzMzMz4z80MzMzMzPjPzQzMzMzM+M/NDMzMzMz4z80MzMzMzPjPzQzMzMzM+M/NDMzMzMz4z80MzMzMzPjPzQzMzMzM+M/NDMzMzMz4z82JPthHVrhP1x/d2uzXd4/Ubb4EiwH2j9C7Xm6pLDVPzYk+2EdWtE/Ubb4EiwHyj82JPthHVrBPzYk+2EdWrE/AAAAAAAAAAAAAAAAAAAAAAAAAAAAAAAAAAAAAAAAAAAAAAAAAAAAAAAAAAAAAAAAAAAAAAAAAAAAAAAAAAAAAAAAAAAAAAAAAAAAAAAAAAAAAAAAAAAAAAAAAAAAAAAAAAAAAAAAAAAAAAAAAAAAAAAAAAAAAAAAAAAAAAAAAAAAAAAAAAAAAAAAAAAAAAAAAAAAAAAAAAAAAAAAAAAAAAAAAAAAAAAAAAAAAAAAAAAAAAAAAAAAAAAAAAAAAAAAAAAAAAAAAAAAAAAAAAAAAAAAAAAAAAAAAAAAAAAAAAAAAAAAAAAAAAAAAAAAAAAAAAAAAAAAAAAAAAAAAAAAAAAAAAAAAAAAAAAAAAAAAAAAAAAAAAAAAAAAAAAAAAAAAAAAAAAAAAAAAAAAAAAAAAAAAAAAAAAAAAAAAAAAAAAAAAAAAAAAAAAAAAAAAAAAAAAAAAAAAAAAAAAAAAAAAAAAAAAAAAAAAAAAAAAAAAAAAAAAAAAAAAAAAAAAAAAAAAAAAAAAAAAAAAAAAAAAAAAAAAAAAAAAAAAAAAAAAAAAAAAAAAAAAAAAAAAAAAAAAAAAAAAAAAAAAAAAAAAAAAAAAAAAAAAAAAAAAAAAAAAAAAAAAAAAAAAAAAAAAAAAAAAAAAAAAAAAAAAAAAAAAAAAAAAAAAAAAAAAAAAAAAAAAAAAAAAAAAAAAAAAAAAAAAAAAAAAAAAAAAAAAAAAAAAAAAAAAAAAAAAAAAAAAAAAAAAAAAAAAAAAAAAAAAAAAAAAAAAAAAAAAAAAAAAAAAAAAAAAAAAAAAAAAAAAAAAAAAAAAAAAAAAAAAAAAAAAAAAAAAAAAAAAAAAAAAAAAAAAAAAAAAAAAAAAAAAAAAAAAAAAAAAAAAAAAAAAAAAAAAAAAAAAAAAAAAAAAAAAAAAAAAAAAAAAAAAAAAAAAAAAAAAAAAAAAAAAAAAAAAAAAAAAAAAAAAAAAAAAAAAAAAAAAAAAAAAAAAAAAAAAAAAAAAAAAAAAAAAAAAAAAAAAAAAAAAAAAAAAAAAAAAAAAAAAAAAAAAAAAAAAAAAAAAAAAAAAAAAAAAAAAAAAAAAAAAAAAAAAAAAAAAAAAAAAAAAAAAAAAAAAAAAAAAAAAAAAAAAAAAAAAAAAAAAAAAAAAAAAAAAAAAAAAAAAAAAAAAAAAAAAAAAAAAAAAAAAAAAAAAAAAAAAAAAAAAAAAAAAAAAAAAAAAAAAAAAAAAAAAAAAAAAAAAAAAAAAAAAAAAAAAAAAAAAAAAAAAAAAAAAAAAAAAAAAAAAAAAAAAAAAAAAAAAAAAAAAAAAAAAAAAAAAAAAAAAAAAAAAAAAAAAAAAAAAAAAAAAAAAAAAAAAAAAAAAAAAAAAAAAAAAAAAAAAAAAAAAAAAAAAAAAAAAAAAAAAAAAAAAAAAAAAAAAAAAAAAAAAAAAAAAAAAAAAAAAAAAAAAAAAAAAAAAAAAAAAAAAAAAAAAAAAAAAAAAAAAAAAAAAAAAAAAAAAAAAAAAAAAAAAAAAAAAAAAAAAAAAAAAAAAAAAAAAAAAAAAAAAAAAAAAAAAAAAAAAAAAAAAAAAAAAAAAAAAAAAAAAAAAAAAAAAAAAAAAAAAAAAAAAAAAAAAAAAAAAAAAAAAAAAAAAAAAAAAAAAAAAAAAAAAAAAAAAAAAAAAAAAAAAAAAAAAAAAAAAAAAAAAAAAAAAAAAAAAAAAAAAAAAAAAAAAAAAAAAAAAAAAAAAAAAAAAAAAAAAAAAAAAAAAAAAAAAAAAAAAAAAAAAAAAAAAAAAAAAAAAAAAAAAAAAAAAAAAAAAAAAAAAAAAAAAAAAAAAAAAAAAAAAAAAAAAAAAAAAAAAAAAAAAAAAAAAAAAAAAAAAAAAAAAAAAAAAAAAAAAAAAAAAAAAAAAAAAAAAAAAAAAAAAAAAAAAAAAAAAAAAAAAAAAAAAAAAAAAAAAAAAAAAAAAAAAAAAAAAAAAAAAAAAAAAAAAAAAAAAAAAAAAAAAAAAAAAAAAAAAAAAAAAAAAAAAAAAAAAAAAAAAAAAAAAAAAAAAAAAAAAAAAAAAAAAAAAAAAAAAAAAAAAAAAAAAAAAAAAAAAAAAAAAAAAAAAAAAAAAAAAAAAAAAAAAAAAAAAAAAAAAAAAAAAAAAAAAAAAAAAAAAAAAAAAAAAAAAAAAAAAAAAAAAAAAAAAAAAAAAAAAAAAAAAAAAAAAAAAAAAAAAAAAAAAAAAAAAAAAAAAAAAAAAAAAAAAAAAAAAAAAAAAAAAAAAAAAAAAAAAAAAAAAAAAAAAAAAAAAAAAAAAAAAAAAAAAAAAAAAAAAAAAAAAAAAAAAAAAAAAAAAAAAAAAAAAAAAAAAAAAAAAAAAAAAAAAAAAAAAAAAAAAAAAAAAAAAAAAAAAAAAAAAAAAAAAAAAAAAAAAAAAAAAAAAAAAAAAAAAAAAAAAAAAAAAAAAAAAAAAAAAAAAAAAAAAAAAAAAAAAAAAAAAAAAAAAAAAAAAAAAAAAAAAAAAAAAAAAAAAAAAAAAAAAAAAAAAAAAAAAAAAAAAAAAAAAAAAAAAAAAAAAAAAAAAAAAAAAAAAAAAAAAAAAAAAAAAAAAAAAAAAAAAAAAAAAAAAAAAAAAAAAAAAAAAAAAAAAAAAAAAAAAAAAAAAAAAAAAAAAAAAAAAAAAAAAAAAAAAAAAAAAAAAAAAAAAAAAAAAAAAAAAAAAAAAAAAAAAAAAAAAAAAAAAAAAAAAAAAAAAAAAAAAAAAAAAAAAAAAAAAAAAAAAAAAAAAAAAAAAAAAAAAAAAAAAAAAAAAAAAAAAAAAAAAAAAAAAAAAAAAAAAAAAAAAAAAAAAAAAAAAAAAAAAAAAAAAAAAAAAAAAAAAAAAAAAAAAAAAAAAAAAAAAAAAAAAAAAAAAAAAAAAAAAAAAAAAAAAAAAAAAAAAAAAAAAAAAAAAAAAAAAAAAAAAAAAAAAAAAAAAAAAAAAAAAAAAAAAAAAAAAAAAAAAAAAAAAAAAAAAAAAAAAAAAAAAAAAAAAAAAAAAAAAAAAAAAAAAAAAAAAAAAAAAAAAAAAAAAAAAAAAAAAAAAAAAAAAAAAAAAAAAAAAAAAAAAAAAAAAAAAAAAAAAAAAAAAAAAAAAAAAAAAAAAAAAAAAAAAAAAAAAAAAAAAAAAAAAAAAAAAAAAAAAAAAAAAAAAAAAAAAAAAAAAAAAAAAAAAAAAAAAAAAAAAAAAAAAAAAAAAAAAAAAAAAAAAAAAAAAAAAAAAAAAAAAAAAAAAAAAAAAAAAAAAAAAAAAAAAAAAAAAAAAAAAAAAAAAAAAAAAAAAAAAAAAAAAAAAAAAAAAAAAAAAAAAAAAAAAAAAAAAAAAAAAAAAAAAAAAAAAAAAAAAAAAAAAAAAAAAAAAAAAAAAAAAAAAAAAAAAAAAAAAAAAAAAAAAAAAAAAAAAAAAAAAAAAAAAAAAAAAAAAAAAAAAAAAAAAAAAAAAAAAAAAAAAAAAAAAAAA==\",\"dtype\":\"float64\",\"shape\":[1202]}}},\"id\":\"371bb675-52c1-49bd-ba07-70819933e919\",\"type\":\"ColumnDataSource\"},{\"attributes\":{\"line_color\":{\"value\":\"#377eb8\"},\"line_width\":{\"value\":2},\"x\":{\"field\":\"x\"},\"y\":{\"field\":\"y\"}},\"id\":\"da57bdca-71e6-47e3-9679-ec3f514fbf56\",\"type\":\"Line\"},{\"attributes\":{\"line_color\":{\"value\":\"#4daf4a\"},\"line_width\":{\"value\":2},\"x\":{\"field\":\"x\"},\"y\":{\"field\":\"y\"}},\"id\":\"470c2ccc-c3a5-4235-ae51-43eda3a56d77\",\"type\":\"Line\"},{\"attributes\":{\"fill_alpha\":{\"value\":0.1},\"fill_color\":{\"value\":\"#e41a1c\"},\"line_alpha\":{\"value\":0.1},\"line_color\":{\"value\":\"#e41a1c\"},\"x\":{\"field\":\"x\"},\"y\":{\"field\":\"y\"}},\"id\":\"34db8754-8a16-475a-987f-059de8486ae1\",\"type\":\"Patch\"},{\"attributes\":{\"plot\":null,\"text\":\"Med Maze 10\"},\"id\":\"3439225d-e2f5-41f7-86a0-5662da51a32e\",\"type\":\"Title\"},{\"attributes\":{\"data_source\":{\"id\":\"2db70727-39e9-44d8-90d0-e2528358d852\",\"type\":\"ColumnDataSource\"},\"glyph\":{\"id\":\"da57bdca-71e6-47e3-9679-ec3f514fbf56\",\"type\":\"Line\"},\"hover_glyph\":null,\"nonselection_glyph\":{\"id\":\"c8839a89-c7e3-4500-81b2-47b51a71bd4e\",\"type\":\"Line\"},\"selection_glyph\":null},\"id\":\"c657fadb-0f98-4dde-ab6d-5e685d052657\",\"type\":\"GlyphRenderer\"},{\"attributes\":{\"callback\":null,\"column_names\":[\"x\",\"y\"],\"data\":{\"x\":[0,1000,2000,3000,4000,5000,6000,7000,8000,9000,10000,11000,12000,13000,14000,15000,16000,17000,18000,19000,20000,21000,22000,23000,24000,25000,26000,27000,28000,29000,30000,31000,32000,33000,34000,35000,36000,37000,38000,39000,40000,41000,42000,43000,44000,45000,46000,47000,48000,49000,50000,51000,52000,53000,54000,55000,56000,57000,58000,59000,60000,61000,62000,63000,64000,65000,66000,67000,68000,69000,70000,71000,72000,73000,74000,75000,76000,77000,78000,79000,80000,81000,82000,83000,84000,85000,86000,87000,88000,89000,90000,91000,92000,93000,94000,95000,96000,97000,98000,99000,100000,101000,102000,103000,104000,105000,106000,107000,108000,109000,110000,111000,112000,113000,114000,115000,116000,117000,118000,119000,120000,121000,122000,123000,124000,125000,126000,127000,128000,129000,130000,131000,132000,133000,134000,135000,136000,137000,138000,139000,140000,141000,142000,143000,144000,145000,146000,147000,148000,149000,150000,151000,152000,153000,154000,155000,156000,157000,158000,159000,160000,161000,162000,163000,164000,165000,166000,167000,168000,169000,170000,171000,172000,173000,174000,175000,176000,177000,178000,179000,180000,181000,182000,183000,184000,185000,186000,187000,188000,189000,190000,191000,192000,193000,194000,195000,196000,197000,198000,199000,200000,201000,202000,203000,204000,205000,206000,207000,208000,209000,210000,211000,212000,213000,214000,215000,216000,217000,218000,219000,220000,221000,222000,223000,224000,225000,226000,227000,228000,229000,230000,231000,232000,233000,234000,235000,236000,237000,238000,239000,240000,241000,242000,243000,244000,245000,246000,247000,248000,249000,250000,251000,252000,253000,254000,255000,256000,257000,258000,259000,260000,261000,262000,263000,264000,265000,266000,267000,268000,269000,270000,271000,272000,273000,274000,275000,276000,277000,278000,279000,280000,281000,282000,283000,284000,285000,286000,287000,288000,289000,290000,291000,292000,293000,294000,295000,296000,297000,298000,299000,300000,301000,302000,303000,304000,305000,306000,307000,308000,309000,310000,311000,312000,313000,314000,315000,316000,317000,318000,319000,320000,321000,322000,323000,324000,325000,326000,327000,328000,329000,330000,331000,332000,333000,334000,335000,336000,337000,338000,339000,340000,341000,342000,343000,344000,345000,346000,347000,348000,349000,350000,351000,352000,353000,354000,355000,356000,357000,358000,359000,360000,361000,362000,363000,364000,365000,366000,367000,368000,369000,370000,371000,372000,373000,374000,375000,376000,377000,378000,379000,380000,381000,382000,383000,384000,385000,386000,387000,388000,389000,390000,391000,392000,393000,394000,395000,396000,397000,398000,399000,400000,401000,402000,403000,404000,405000,406000,407000,408000,409000,410000,411000,412000,413000,414000,415000,416000,417000,418000,419000,420000,421000,422000,423000,424000,425000,426000,427000,428000,429000,430000,431000,432000,433000,434000,435000,436000,437000,438000,439000,440000,441000,442000,443000,444000,445000,446000,447000,448000,449000,450000,451000,452000,453000,454000,455000,456000,457000,458000,459000,460000,461000,462000,463000,464000,465000,466000,467000,468000,469000,470000,471000,472000,473000,474000,475000,476000,477000,478000,479000,480000,481000,482000,483000,484000,485000,486000,487000,488000,489000,490000,491000,492000,493000,494000,495000,496000,497000,498000,499000,500000,501000,502000,503000,504000,505000,506000,507000,508000,509000,510000,511000,512000,513000,514000,515000,516000,517000,518000,519000,520000,521000,522000,523000,524000,525000,526000,527000,528000,529000,530000,531000,532000,533000,534000,535000,536000,537000,538000,539000,540000,541000,542000,543000,544000,545000,546000,547000,548000,549000,550000,551000,552000,553000,554000,555000,556000,557000,558000,559000,560000,561000,562000,563000,564000,565000,566000,567000,568000,569000,570000,571000,572000,573000,574000,575000,576000,577000,578000,579000,580000,581000,582000,583000,584000,585000,586000,587000,588000,589000,590000,591000,592000,593000,594000,595000,596000,597000,598000,599000,600000],\"y\":{\"__ndarray__\":\"AAAAAAAAAAAAAAAAAAAAAAAAAAAAAAAAAAAAAAAAAAAAAAAAAAAAAAAAAAAAAAAAAAAAAAAAAAAAAAAAAAAAAAAAAAAAAAAAAAAAAAAAAAAAAAAAAAAAAAAAAAAAAAAAAAAAAAAAAAAAAAAAAAAAAAAAAAAAAAAAAAAAAAAAAAAAAAAAAAAAAAAAAAAAAAAAAAAAAAAAAAAAAAAAAAAAAAAAAAAAAAAAAAAAAAAAAAAAAAAAAAAAAAAAAAAAAAAAAAAAAAAAAAAAAAAAAAAAAAAAAAAAAAAAAAAAAAAAAAAAAAAAAAAAAAAAAAAAAAAAAAAAAAAAAAAAAAAAAAAAAAAAAAAAAAAAAAAAAAAAAAAAAAAAAAAAAAAAAAAAAAAAAAAAAAAAAAAAAAAAAAAAAAAAAAAAAAAAAAAAAAAAAAAAAAAAAAAAAAAAAAAAAAAAAAAAAAAAAAAAAAAAAAAAAAAAAAAAAAAAAAAAAAAAAAAAAAAAAAAAAAAAAAAAAAAAAAAAAAAAAAAAAAAAAAAAAAAAAAAAAAAAAAAAAAAAAAAAAAAAAAAAAAAAAAAAAAAAAAAAAAAAAAAAAAAAAAAAAAAAAAAAAAAAAAAAAAAAAAAAAAAAAAAAAAAAAAAAAAAAAAAAAAAAAAAAAAAAAAAAAAAAAAAAAAAAAAAAAAAAAAAAAAAAAAAAAAAAAAAAAAAAAAAAAAAAAAAAAAAAAAAAAAAAAAAAAAAAAAAAAAAAAAAAAAAAAAAAAAAAAAAAAAAAAAAAAAAAAAAAAAAAAAAAAAAAAAAAAAAAAAAAAAAAAAAAAAAAAAAAAAAAAAAAAAAAAAAAAAAAAAAAAAAAAAAAAAAAAAAAAAAAAAAAAAAAAAAAAAAAAAAAAAAAAAAAAAAAAAAAAAAAAAAAAAAAAAAAAAAAAAAAAAAAAAAAAAAAAAAAAAAAAAAAAAAAAAAAAAAAAAAAAAAAAAAAAAAAAAAAAAAAAAAAAAAAAAAAAAAAAAAAAAAAAAAAAAAAAAAAAAAAAAAAAAAAAAAAAAAAAAAAAAAAAAAAAAAAAAAAAAAAAAAAAAAAAAAAAAAAAAAAAAAAAAAAAAAAAAAAAAAAAAAAAAAAAAAAAAAAAAAAAAAAAAAAAAAAAAAAAAAAAAAAAAAAAAAAAAAAAAAAAAAAAAAAAAAAAAAAAAAAAAAAAAAAAAAAAAAAAAAAAAAAAAAAAAAAAAAAAAAAAAAAAAAAAAAAAAAAAAAAAAAAAAAAAAAAAAAAAAAAAAAAAAAAAAAAAAAAAAAAAAAAAAAAAAAAAAAAAAAAAAAAAAAAAAAAAAAAAAAAAAAAAAAAAAAAAAAAAAAAAAAAAAAAAAAAAAAAAAAAAAAAAAAAAAAAAAAAAAAAAAAAAAAAAAAAAAAAAAAAAAAAAAAAAAAAAAAAAAAAAAAAAAAAAAAAAAAAAAAAAAAAAAAAAAAAAAAAAAAAAAAAAAAAAAAAAAAAAAAAAAAAAAAAAAAAAAAAAAAAAAAAAAAAAAAAAAAAAAAAAAAAAAAAAAAAAAAAAAAAAAAAAAAAAAAAAAAAAAAAAAAAAAAAAAAAAAAAAAAAAAAAAAAAAAAAAAAAAAAAAAAAAAAAAAAAAAAAAAAAAAAAAAAAAAAAAAAAAAAAAAAAAAAAAAAAAAAAAAAAAAAAAAAAAAAAAAAAAAAAAAAAAAAAAAAAAAAAAAAAAAAAAAAAAAAAAAAAAAAAAAAAAAAAAAAAAAAAAAAAAAAAAAAAAAAAAAAAAAAAAAAAAAAAAAAAAAAAAAAAAAAAAAAAAAAAAAAAAAAAAAAAAAAAAAAAAAAAAAAAAAAAAAAAAAAAAAAAAAAAAAAAAAAAAAAAAAAAAAAAAAAAAAAAAAAAAAAAAAAAAAAAAAAAAAAAAAAAAAAAAAAAAAAAAAAAAAAAAAAAAAAAAAAAAAAAAAAAAAAAAAAAAAAAAAAAAAAAAAAAAAAAAAAAAAAAAAAAAAAAAAAAAAAAAAAAAAAAAAAAAAAAAAAAAAAAAAAAAAAAAAAAAAAAAAAAAAAAAAAAAAAAAAAAAAAAAAAAAAAAAAAAAAAAAAAAAAAAAAAAAAAAAAAAAAAAAAAAAAAAAAAAAAAAAAAAAAAAAAAAAAAAAAAAAAAAAAAAAAAAAAAAAAAAAAAAAAAAAAAAAAAAAAAAAAAAAAAAAAAAAAAAAAAAAAAAAAAAAAAAAAAAAAAAAAAAAAAAAAAAAAAAAAAAAAAAAAAAAAAAAAAAAAAAAAAAAAAAAAAAAAAAAAAAAAAAAAAAAAAAAAAAAAAAAAAAAAAAAAAAAAAAAAAAAAAAAAAAAAAAAAAAAAAAAAAAAAAAAAAAAAAAAAAAAAAAAAAAAAAAAAAAAAAAAAAAAAAAAAAAAAAAAAAAAAAAAAAAAAAAAAAAAAAAAAAAAAAAAAAAAAAAAAAAAAAAAAAAAAAAAAAAAAAAAAAAAAAAAAAAAAAAAAAAAAAAAAAAAAAAAAAAAAAAAAAAAAAAAAAAAAAAAAAAAAAAAAAAAAAAAAAAAAAAAAAAAAAAAAAAAAAAAAAAAAAAAAAAAAAAAAAAAAAAAAAAAAAAAAAAAAAAAAAAAAAAAAAAAAAAAAAAAAAAAAAAAAAAAAAAAAAAAAAAAAAAAAAAAAAAAAAAAAAAAAAAAAAAAAAAAAAAAAAAAAAAAAAAAAAAAAAAAAAAAAAAAAAAAAAAAAAAAAAAAAAAAAAAAAAAAAAAAAAAAAAAAAAAAAAAAAAAAAAAAAAAAAAAAAAAAAAAAAAAAAAAAAAAAAAAAAAAAAAAAAAAAAAAAAAAAEDyJGA0y4A/YGs3kM4wmT/QLi54Af6kP/CnQKibY60/iJAp7Jrksj8YzTIEaBe3P6gJPBw1Srs/OEZFNAJ9vz9kQSem59fBP6zfKzJO8cM/9H0wvrQKxj88HDVKGyTIP5qZmZmZmck/mpmZmZmZyT+amZmZmZnJP5qZmZmZmck/mpmZmZmZyT+amZmZmZnJP5qZmZmZmck/mpmZmZmZyT+amZmZmZnJP5qZmZmZmck/mpmZmZmZyT+bmZmZmZnJP5qZmZmZmck/mpmZmZmZyT+amZmZmZnJP5qZmZmZmck/mpmZmZmZyT+amZmZmZnJP8ql8QuvJMk/i3CTUWUYxz9MOzWXGwzFPwwG19zR/8I/zdB4IojzwD8aNzXQfM69P5vMeFvptbk/HGK85lWdtT+d9/9xwoSxPzsah/pd2Ko/PkUOETenoj9/4CpPIOyUPwra5PBJJ3I/AAAAAAAAAAAAAAAAAAAAAAAAAAAAAAAAAAAAAAAAAAAAAAAAAAAAAAAAAAAAAAAAAAAAAAAAAAAAAAAAAAAAAAAAAAAAAAAAAAAAAAAAAAAAAAAAAAAAAAAAAAAAAAAAAAAAAAAAAAAAAAAAAAAAAAAAAAAAAAAAAAAAAAAAAAAAAAAAAAAAAAAAAAAAAAAAAAAAAAAAAAAAAAAAAAAAAAAAAAAAAAAAAAAAAAAAAAAAAAAAAAAAAAAAAAAAAAAAAAAAAAAAAAAAAAAAAAAAAAAAAAAAAAAAAAAAAAAAAAAAAAAAAAAAAAAAAAAAAAAAAAAAAAAAAAAAAAAAAAAAAAAAAAAAAAAAAAAAAAAAAAAAAAAAAAAAAAAAAAAAAAAAAAAAAAAAAAAAAAAAAAAAAAAAAAAAAAAAAAAAAAAAAAAAAAAAAAAAAAAAAAAAAAAAAAAAAAAAAAAAAAAAAAAAAAAAAAAAAAAAAAAAAAAAAAAAAAAAAAAAAAAAAAAAAAAAAAAAAAAAAAAAAAAAAAAAAAAAAAAAAAAAAAAAAAAAAAAAAAAAAAAAAAAAAAAAAAAAAAAAAAAAAAAAAAAAAAAAAAAAAAAAAAAAAAAAAAAAAAAAAAAAAAAAAAAAAAAAAAAAAAAAAAAAAAAAAAAAAAAAAAAAAAAAAAAAAAAAAAAAAAAAAAAAAAAAAAAAAAAAAAAAAAAAAAAAAAAAAAAAAAAAAAAAAAAAAAAAAAAAAAAAAAAVwxy3V92hPxXDHLdX3bE/niSrkgPMuj8Vwxy3V93BP9rz46StVMY/9aW3PxcNyT+1cFmFzQDHP3Y7+8qD9MQ/NgadEDrowj/20D5W8NvAP243wTdNn70/78wEw7mGuT9wYkhOJm61P/H3i9mSVbE/4xqfyf55qj/mRSbg10iiP87hWu1hL5Q/kL5J06Bobj8AAAAAAAAAAAAAAAAAAAAAAAAAAAAAAAAAAAAAAAAAAAAAAAAAAAAAAAAAAAAAAAAAAAAAAAAAAChy6HMo6ZU/KHLocyjppT+eVe5W3m6wPyhy6HMo6bU/so7ikHJjuz+eVe5W3m7AP+Nja2UDLMM/KHLocyjpxT9tgGWCTabIPyIZcmw9Q8g/4+MTsvM2xj+jrrX3qSrEP2R5Vz1gHsI/JUT5ghYSwD/KHTaRmQu8P0uzeRwG87c/zEi9p3Lasz+avAFmvoOvP5vniHyXUqc/OiUgJuFCnj979lymJsGLPwAAAAAAAAAAAAAAAAAAAAAAAAAAAAAAAAAAAAAAAAAAAAAAAAAAAAAAAAAAAAAAAAAAAAAAAAAAAAAAAAAAAAAAAAAAAAAAAAAAAAAAAAAAAAAAAAAAAAAAAAAAAAAAAAAAAAAAAAAAAAAAAAAAAAAAAAAAAAAAAAAAAAAAAAAAAAAAAAAAAAAAAAAAAAAAAAAAAAAAAAAAAAAAAAAAAAAAAAAAAAAAAAAAAAAAAAAAAAAAAAAAAAAAAAAAAAAAAAAAAAAAAAAAAAAAAAAAAAAAAAAAAAAAAAAAAAAAAAAAAAAAAAAAAAAAAAAAAAAAAAAAAAAAAAAAAAAAAAAAAAAAAAAAAAAAAAAAAAAAAAAAAAAAAAAAAAAAAAAAAAAAAAAAAAAAAAAAAAAAAAAAAAAAAAAAAAAAAAAAAAAAAAAAAAAAAAAAAAAAAAAAAAAAAAAAAAAAAAAAAAAAAAAAAAAAAAAAAAAAAAAAAAAAAAAAAAAAAAAAAAAAAAAAAAAAAAAAAAAAAAAAAAAAAAAAAAAAAAAAAAAAAAAAAAAAAAAAAAAAAAAAAAAAAAAAAAAAAAAAAAAAAAAAAAAAAAAAAAAAAAAAAAAAAAAAAAAAAAAAAAAAAAAAAAAAAAAAAAAAAAAAAAAAAAAAAAAAAAAAAAAAAAAAAAAAAMaiRFzhN5E/Ms9jOQrLpT+BplLiEX2xP2hl86eeFLg/UCSUbSusvj+bcZoZ3KHCPw/Ranyi7cU/gzA732g5yT957GexFMnHPzq3CffKvMU/+oGrPIGwwz+6TE2CN6TBP/Uu3o/bL78/dsQhG0gXuz/3WWWmtP62P3jvqDEh5rI/8wnZeRubrT/1NGCQ9GmlP+2/zk2bcZo/4Su69ZoehD873CLnrReRP13QkmrRr64/ThnK8OVpuj83ZSWW8b3CP8e95TPwRsg/IbOz6J0KyD/ifVUuVP7FP6JI93MK8sM/YhOZucDlwT9FvHX+7bK/P8ZRuYlamrs/R+f8FMeBtz/IfECgM2mzP5IkCFdAoa4/lE+PbRlwpj8t9SwI5X2cP2CWdmouN4g/AAAAAAAAAAAAAAAAAAAAAAAAAAAAAAAAAAAAAAAAAAAAAAAAAAAAAAAAAAAAAAAAAAAAAAAAAAAAAAAAAAAAAAAAAAAAAAAAAAAAAAAAAAAAAAAAAAAAAAAAAAAAAAAAAAAAAAAAAAAAAAAAAAAAAAAAAAAAAAAAAAAAAAAAAACumP+spueKP4OyvwG9LaQ/br8fLMjQsD+apV/XsYq3P8WLn4KbRL4/+bjvlkJ/wj8OrI9sN9zFPySfL0IsOck/GuHtQQjIxz/aq4+HvrvFP5t2Mc10r8M/W0HTEiujwT84GOqwwi2/P7qtLTwvFbs/OkNxx5v8tj+62LRSCOSyP3jc8Lvplq0/eQd40sJlpT/2ZP7RN2maP/N1Gf7TDYQ/dlTsswoPfD8hc2pQAhiZP5Lo7PkglqU/k5eky0Cgrj9KI65OMNWzP8v6iTdAWrg/S9JlIFDfvD/m1KAEMLLAP6bADvm39MI/Z6x87T83xT8nmOrhx3nHP5mZmZmZmck/mpmZmZmZyT+amZmZmZnJP5qZmZmZmck/mpmZmZmZyT+amZmZmZnJP5mZmZmZmck/mpmZmZmZyT+amZmZmZnJP5qZmZmZmck/mpmZmZmZyT+ZmZmZmZnJP5mZmZmZmck/mpmZmZmZyT+amZmZmZnJP5qZmZmZmck/CsOAJVexyD/KjSJrDaXGP4pYxLDDmMQ/SyNm9nmMwj8L7gc8MIDAP5hxUwPN57w/GQeXjjnPuD+anNoZpra0PxoyHqUSnrA/N4/DYP4KqT85ukp319mgP3bKoxthUZE/JQ9EFmniTT8AAAAAAAAAAAAAAAAAAAAAAAAAAAAAAAA=\",\"dtype\":\"float64\",\"shape\":[601]}}},\"id\":\"4db61c38-6e73-4411-bd57-4621582e74b0\",\"type\":\"ColumnDataSource\"},{\"attributes\":{\"use_scientific\":false},\"id\":\"65bf7e3a-bdd0-4b7d-86ed-0744b73e3283\",\"type\":\"BasicTickFormatter\"}],\"root_ids\":[\"4ae4105e-0ced-4c21-aece-46698a1e0fbb\"]},\"title\":\"Bokeh Application\",\"version\":\"0.12.4\"}};\n",
       "            var render_items = [{\"docid\":\"1c35cfc8-0d4c-4601-8ab2-2f83af307956\",\"elementid\":\"a245ba71-729a-4bdf-912c-7ae2391b037b\",\"modelid\":\"4ae4105e-0ced-4c21-aece-46698a1e0fbb\"}];\n",
       "            \n",
       "            Bokeh.embed.embed_items(docs_json, render_items);\n",
       "          };\n",
       "          if (document.readyState != \"loading\") fn();\n",
       "          else document.addEventListener(\"DOMContentLoaded\", fn);\n",
       "        })();\n",
       "      },\n",
       "      function(Bokeh) {\n",
       "      }\n",
       "    ];\n",
       "  \n",
       "    function run_inline_js() {\n",
       "      \n",
       "      if ((window.Bokeh !== undefined) || (force === true)) {\n",
       "        for (var i = 0; i < inline_js.length; i++) {\n",
       "          inline_js[i](window.Bokeh);\n",
       "        }if (force === true) {\n",
       "          display_loaded();\n",
       "        }} else if (Date.now() < window._bokeh_timeout) {\n",
       "        setTimeout(run_inline_js, 100);\n",
       "      } else if (!window._bokeh_failed_load) {\n",
       "        console.log(\"Bokeh: BokehJS failed to load within specified timeout.\");\n",
       "        window._bokeh_failed_load = true;\n",
       "      } else if (force !== true) {\n",
       "        var cell = $(document.getElementById(\"a245ba71-729a-4bdf-912c-7ae2391b037b\")).parents('.cell').data().cell;\n",
       "        cell.output_area.append_execute_result(NB_LOAD_WARNING)\n",
       "      }\n",
       "  \n",
       "    }\n",
       "  \n",
       "    if (window._bokeh_is_loading === 0) {\n",
       "      console.log(\"Bokeh: BokehJS loaded, going straight to plotting\");\n",
       "      run_inline_js();\n",
       "    } else {\n",
       "      load_libs(js_urls, function() {\n",
       "        console.log(\"Bokeh: BokehJS plotting callback run at\", now());\n",
       "        run_inline_js();\n",
       "      });\n",
       "    }\n",
       "  }(this));\n",
       "</script>"
      ]
     },
     "metadata": {},
     "output_type": "display_data"
    },
    {
     "name": "stderr",
     "output_type": "stream",
     "text": [
      "/home/tabz/.local/lib/python3.6/site-packages/bokeh/models/sources.py:81: BokehUserWarning: ColumnDataSource's columns must be of the same length\n",
      "  lambda: warnings.warn(\"ColumnDataSource's columns must be of the same length\", BokehUserWarning))\n",
      "/home/tabz/.local/lib/python3.6/site-packages/bokeh/models/sources.py:81: BokehUserWarning: ColumnDataSource's columns must be of the same length\n",
      "  lambda: warnings.warn(\"ColumnDataSource's columns must be of the same length\", BokehUserWarning))\n",
      "/home/tabz/.local/lib/python3.6/site-packages/bokeh/models/sources.py:81: BokehUserWarning: ColumnDataSource's columns must be of the same length\n",
      "  lambda: warnings.warn(\"ColumnDataSource's columns must be of the same length\", BokehUserWarning))\n",
      "/home/tabz/.local/lib/python3.6/site-packages/bokeh/models/sources.py:81: BokehUserWarning: ColumnDataSource's columns must be of the same length\n",
      "  lambda: warnings.warn(\"ColumnDataSource's columns must be of the same length\", BokehUserWarning))\n",
      "/home/tabz/.local/lib/python3.6/site-packages/bokeh/models/sources.py:81: BokehUserWarning: ColumnDataSource's columns must be of the same length\n",
      "  lambda: warnings.warn(\"ColumnDataSource's columns must be of the same length\", BokehUserWarning))\n",
      "/home/tabz/.local/lib/python3.6/site-packages/bokeh/models/sources.py:81: BokehUserWarning: ColumnDataSource's columns must be of the same length\n",
      "  lambda: warnings.warn(\"ColumnDataSource's columns must be of the same length\", BokehUserWarning))\n"
     ]
    },
    {
     "data": {
      "text/html": [
       "\n",
       "\n",
       "    <div class=\"bk-root\">\n",
       "        <div class=\"bk-plotdiv\" id=\"ef88ac7a-3bcc-4eb1-b3c3-3a9330493940\"></div>\n",
       "    </div>\n",
       "<script type=\"text/javascript\">\n",
       "  \n",
       "  (function(global) {\n",
       "    function now() {\n",
       "      return new Date();\n",
       "    }\n",
       "  \n",
       "    var force = false;\n",
       "  \n",
       "    if (typeof (window._bokeh_onload_callbacks) === \"undefined\" || force === true) {\n",
       "      window._bokeh_onload_callbacks = [];\n",
       "      window._bokeh_is_loading = undefined;\n",
       "    }\n",
       "  \n",
       "  \n",
       "    \n",
       "    if (typeof (window._bokeh_timeout) === \"undefined\" || force === true) {\n",
       "      window._bokeh_timeout = Date.now() + 0;\n",
       "      window._bokeh_failed_load = false;\n",
       "    }\n",
       "  \n",
       "    var NB_LOAD_WARNING = {'data': {'text/html':\n",
       "       \"<div style='background-color: #fdd'>\\n\"+\n",
       "       \"<p>\\n\"+\n",
       "       \"BokehJS does not appear to have successfully loaded. If loading BokehJS from CDN, this \\n\"+\n",
       "       \"may be due to a slow or bad network connection. Possible fixes:\\n\"+\n",
       "       \"</p>\\n\"+\n",
       "       \"<ul>\\n\"+\n",
       "       \"<li>re-rerun `output_notebook()` to attempt to load from CDN again, or</li>\\n\"+\n",
       "       \"<li>use INLINE resources instead, as so:</li>\\n\"+\n",
       "       \"</ul>\\n\"+\n",
       "       \"<code>\\n\"+\n",
       "       \"from bokeh.resources import INLINE\\n\"+\n",
       "       \"output_notebook(resources=INLINE)\\n\"+\n",
       "       \"</code>\\n\"+\n",
       "       \"</div>\"}};\n",
       "  \n",
       "    function display_loaded() {\n",
       "      if (window.Bokeh !== undefined) {\n",
       "        document.getElementById(\"ef88ac7a-3bcc-4eb1-b3c3-3a9330493940\").textContent = \"BokehJS successfully loaded.\";\n",
       "      } else if (Date.now() < window._bokeh_timeout) {\n",
       "        setTimeout(display_loaded, 100)\n",
       "      }\n",
       "    }\n",
       "  \n",
       "    function run_callbacks() {\n",
       "      window._bokeh_onload_callbacks.forEach(function(callback) { callback() });\n",
       "      delete window._bokeh_onload_callbacks\n",
       "      console.info(\"Bokeh: all callbacks have finished\");\n",
       "    }\n",
       "  \n",
       "    function load_libs(js_urls, callback) {\n",
       "      window._bokeh_onload_callbacks.push(callback);\n",
       "      if (window._bokeh_is_loading > 0) {\n",
       "        console.log(\"Bokeh: BokehJS is being loaded, scheduling callback at\", now());\n",
       "        return null;\n",
       "      }\n",
       "      if (js_urls == null || js_urls.length === 0) {\n",
       "        run_callbacks();\n",
       "        return null;\n",
       "      }\n",
       "      console.log(\"Bokeh: BokehJS not loaded, scheduling load and callback at\", now());\n",
       "      window._bokeh_is_loading = js_urls.length;\n",
       "      for (var i = 0; i < js_urls.length; i++) {\n",
       "        var url = js_urls[i];\n",
       "        var s = document.createElement('script');\n",
       "        s.src = url;\n",
       "        s.async = false;\n",
       "        s.onreadystatechange = s.onload = function() {\n",
       "          window._bokeh_is_loading--;\n",
       "          if (window._bokeh_is_loading === 0) {\n",
       "            console.log(\"Bokeh: all BokehJS libraries loaded\");\n",
       "            run_callbacks()\n",
       "          }\n",
       "        };\n",
       "        s.onerror = function() {\n",
       "          console.warn(\"failed to load library \" + url);\n",
       "        };\n",
       "        console.log(\"Bokeh: injecting script tag for BokehJS library: \", url);\n",
       "        document.getElementsByTagName(\"head\")[0].appendChild(s);\n",
       "      }\n",
       "    };var element = document.getElementById(\"ef88ac7a-3bcc-4eb1-b3c3-3a9330493940\");\n",
       "    if (element == null) {\n",
       "      console.log(\"Bokeh: ERROR: autoload.js configured with elementid 'ef88ac7a-3bcc-4eb1-b3c3-3a9330493940' but no matching script tag was found. \")\n",
       "      return false;\n",
       "    }\n",
       "  \n",
       "    var js_urls = [];\n",
       "  \n",
       "    var inline_js = [\n",
       "      function(Bokeh) {\n",
       "        (function() {\n",
       "          var fn = function() {\n",
       "            var docs_json = {\"cfb6a1f0-9cc2-4e6f-be97-d0cce988df07\":{\"roots\":{\"references\":[{\"attributes\":{\"line_alpha\":{\"value\":0.1},\"line_color\":{\"value\":\"#1f77b4\"},\"line_width\":{\"value\":2},\"x\":{\"field\":\"x\"},\"y\":{\"field\":\"y\"}},\"id\":\"c8138d43-88f2-467b-8b49-77338682d34c\",\"type\":\"Line\"},{\"attributes\":{},\"id\":\"b02cd286-a6ec-4fa3-b6f5-2c165c89ac8f\",\"type\":\"BasicTicker\"},{\"attributes\":{\"callback\":null},\"id\":\"5d8b575b-c9ac-42ec-ac00-6f836fc0ac43\",\"type\":\"DataRange1d\"},{\"attributes\":{\"callback\":null},\"id\":\"cbb93d99-7a5f-499c-95a2-8f40c40a0384\",\"type\":\"DataRange1d\"},{\"attributes\":{\"label\":{\"value\":\"Traces 0.9 Lambda 6 States 3 Gap\"},\"renderers\":[{\"id\":\"af996e83-9c38-4ef1-b774-f3afb1275bdb\",\"type\":\"GlyphRenderer\"}]},\"id\":\"4b61cdbe-d50e-45f5-bc1b-f55abee2f450\",\"type\":\"LegendItem\"},{\"attributes\":{\"line_color\":{\"value\":\"#377eb8\"},\"line_width\":{\"value\":2},\"x\":{\"field\":\"x\"},\"y\":{\"field\":\"y\"}},\"id\":\"c0e1b177-310c-4eb4-8919-b49a0ebf7c81\",\"type\":\"Line\"},{\"attributes\":{\"axis_label\":\"States visited\",\"formatter\":{\"id\":\"9898b178-2898-459c-8196-fe728a7c9c78\",\"type\":\"BasicTickFormatter\"},\"plot\":{\"id\":\"58bbd032-fe05-484e-ade8-7a68738ce6de\",\"subtype\":\"Figure\",\"type\":\"Plot\"},\"ticker\":{\"id\":\"b02cd286-a6ec-4fa3-b6f5-2c165c89ac8f\",\"type\":\"BasicTicker\"}},\"id\":\"bf19300a-3b71-4861-b4c8-8c8c2742fafd\",\"type\":\"LinearAxis\"},{\"attributes\":{\"active_drag\":\"auto\",\"active_scroll\":\"auto\",\"active_tap\":\"auto\",\"tools\":[{\"id\":\"3dab7768-8577-418b-a730-5343c445560a\",\"type\":\"PanTool\"},{\"id\":\"e1a86fd9-20d5-46f3-ab22-39d269ed2290\",\"type\":\"WheelZoomTool\"},{\"id\":\"943a9b9f-212a-494e-b210-d421bfede199\",\"type\":\"BoxZoomTool\"},{\"id\":\"817b0e9d-babb-4482-874a-8d81e220f508\",\"type\":\"SaveTool\"},{\"id\":\"1d61698d-39f9-497e-b192-4ebe2ad3591e\",\"type\":\"ResetTool\"},{\"id\":\"6fe4858e-94e7-4aee-b7ec-eff19c36fd5a\",\"type\":\"HelpTool\"}]},\"id\":\"4b828b89-2ec4-40d6-ad6f-e2bdd94936ab\",\"type\":\"Toolbar\"},{\"attributes\":{\"label\":{\"value\":\"Traces 0.7 Lambda 6 States 3 Gap\"},\"renderers\":[{\"id\":\"6ad2c807-5fb8-44ed-a751-ad4f24be3410\",\"type\":\"GlyphRenderer\"}]},\"id\":\"4879081e-1be5-4081-8cc2-184d1e68bc2a\",\"type\":\"LegendItem\"},{\"attributes\":{\"plot\":{\"id\":\"58bbd032-fe05-484e-ade8-7a68738ce6de\",\"subtype\":\"Figure\",\"type\":\"Plot\"},\"ticker\":{\"id\":\"fd31e1a2-de0b-437e-a4b1-f7245bb15120\",\"type\":\"BasicTicker\"}},\"id\":\"33dfef9d-4841-4492-9f0a-9f072536c42e\",\"type\":\"Grid\"},{\"attributes\":{},\"id\":\"fd31e1a2-de0b-437e-a4b1-f7245bb15120\",\"type\":\"BasicTicker\"},{\"attributes\":{\"items\":[{\"id\":\"4879081e-1be5-4081-8cc2-184d1e68bc2a\",\"type\":\"LegendItem\"},{\"id\":\"4b61cdbe-d50e-45f5-bc1b-f55abee2f450\",\"type\":\"LegendItem\"},{\"id\":\"167635b8-4ddd-4afb-9ba2-3372e047ba38\",\"type\":\"LegendItem\"}],\"location\":[0,-30],\"plot\":{\"id\":\"58bbd032-fe05-484e-ade8-7a68738ce6de\",\"subtype\":\"Figure\",\"type\":\"Plot\"}},\"id\":\"71f67601-1959-4d16-9d33-ab48461bf0b5\",\"type\":\"Legend\"},{\"attributes\":{\"dimension\":1,\"plot\":{\"id\":\"58bbd032-fe05-484e-ade8-7a68738ce6de\",\"subtype\":\"Figure\",\"type\":\"Plot\"},\"ticker\":{\"id\":\"b02cd286-a6ec-4fa3-b6f5-2c165c89ac8f\",\"type\":\"BasicTicker\"}},\"id\":\"ba13cbb6-107e-4103-a32a-a9abce2bec06\",\"type\":\"Grid\"},{\"attributes\":{\"plot\":{\"id\":\"58bbd032-fe05-484e-ade8-7a68738ce6de\",\"subtype\":\"Figure\",\"type\":\"Plot\"}},\"id\":\"817b0e9d-babb-4482-874a-8d81e220f508\",\"type\":\"SaveTool\"},{\"attributes\":{\"overlay\":{\"id\":\"1426f63f-033f-4742-8af1-e7cb771d8387\",\"type\":\"BoxAnnotation\"},\"plot\":{\"id\":\"58bbd032-fe05-484e-ade8-7a68738ce6de\",\"subtype\":\"Figure\",\"type\":\"Plot\"}},\"id\":\"943a9b9f-212a-494e-b210-d421bfede199\",\"type\":\"BoxZoomTool\"},{\"attributes\":{\"plot\":{\"id\":\"58bbd032-fe05-484e-ade8-7a68738ce6de\",\"subtype\":\"Figure\",\"type\":\"Plot\"}},\"id\":\"e1a86fd9-20d5-46f3-ab22-39d269ed2290\",\"type\":\"WheelZoomTool\"},{\"attributes\":{},\"id\":\"4eda7f7e-a8fd-4fdb-b0f7-940f50db5661\",\"type\":\"ToolEvents\"},{\"attributes\":{\"plot\":{\"id\":\"58bbd032-fe05-484e-ade8-7a68738ce6de\",\"subtype\":\"Figure\",\"type\":\"Plot\"}},\"id\":\"3dab7768-8577-418b-a730-5343c445560a\",\"type\":\"PanTool\"},{\"attributes\":{\"bottom_units\":\"screen\",\"fill_alpha\":{\"value\":0.5},\"fill_color\":{\"value\":\"lightgrey\"},\"left_units\":\"screen\",\"level\":\"overlay\",\"line_alpha\":{\"value\":1.0},\"line_color\":{\"value\":\"black\"},\"line_dash\":[4,4],\"line_width\":{\"value\":2},\"plot\":null,\"render_mode\":\"css\",\"right_units\":\"screen\",\"top_units\":\"screen\"},\"id\":\"1426f63f-033f-4742-8af1-e7cb771d8387\",\"type\":\"BoxAnnotation\"},{\"attributes\":{\"callback\":null,\"column_names\":[\"x\",\"y\"],\"data\":{\"x\":[0,1000,2000,3000,4000,5000,6000,7000,8000,9000,10000,11000,12000,13000,14000,15000,16000,17000,18000,19000,20000,21000,22000,23000,24000,25000,26000,27000,28000,29000,30000,31000,32000,33000,34000,35000,36000,37000,38000,39000,40000,41000,42000,43000,44000,45000,46000,47000,48000,49000,50000,51000,52000,53000,54000,55000,56000,57000,58000,59000,60000,61000,62000,63000,64000,65000,66000,67000,68000,69000,70000,71000,72000,73000,74000,75000,76000,77000,78000,79000,80000,81000,82000,83000,84000,85000,86000,87000,88000,89000,90000,91000,92000,93000,94000,95000,96000,97000,98000,99000,100000,101000,102000,103000,104000,105000,106000,107000,108000,109000,110000,111000,112000,113000,114000,115000,116000,117000,118000,119000,120000,121000,122000,123000,124000,125000,126000,127000,128000,129000,130000,131000,132000,133000,134000,135000,136000,137000,138000,139000,140000,141000,142000,143000,144000,145000,146000,147000,148000,149000,150000,151000,152000,153000,154000,155000,156000,157000,158000,159000,160000,161000,162000,163000,164000,165000,166000,167000,168000,169000,170000,171000,172000,173000,174000,175000,176000,177000,178000,179000,180000,181000,182000,183000,184000,185000,186000,187000,188000,189000,190000,191000,192000,193000,194000,195000,196000,197000,198000,199000,200000,201000,202000,203000,204000,205000,206000,207000,208000,209000,210000,211000,212000,213000,214000,215000,216000,217000,218000,219000,220000,221000,222000,223000,224000,225000,226000,227000,228000,229000,230000,231000,232000,233000,234000,235000,236000,237000,238000,239000,240000,241000,242000,243000,244000,245000,246000,247000,248000,249000,250000,251000,252000,253000,254000,255000,256000,257000,258000,259000,260000,261000,262000,263000,264000,265000,266000,267000,268000,269000,270000,271000,272000,273000,274000,275000,276000,277000,278000,279000,280000,281000,282000,283000,284000,285000,286000,287000,288000,289000,290000,291000,292000,293000,294000,295000,296000,297000,298000,299000,300000,301000,302000,303000,304000,305000,306000,307000,308000,309000,310000,311000,312000,313000,314000,315000,316000,317000,318000,319000,320000,321000,322000,323000,324000,325000,326000,327000,328000,329000,330000,331000,332000,333000,334000,335000,336000,337000,338000,339000,340000,341000,342000,343000,344000,345000,346000,347000,348000,349000,350000,351000,352000,353000,354000,355000,356000,357000,358000,359000,360000,361000,362000,363000,364000,365000,366000,367000,368000,369000,370000,371000,372000,373000,374000,375000,376000,377000,378000,379000,380000,381000,382000,383000,384000,385000,386000,387000,388000,389000,390000,391000,392000,393000,394000,395000,396000,397000,398000,399000,400000,401000,402000,403000,404000,405000,406000,407000,408000,409000,410000,411000,412000,413000,414000,415000,416000,417000,418000,419000,420000,421000,422000,423000,424000,425000,426000,427000,428000,429000,430000,431000,432000,433000,434000,435000,436000,437000,438000,439000,440000,441000,442000,443000,444000,445000,446000,447000,448000,449000,450000,451000,452000,453000,454000,455000,456000,457000,458000,459000,460000,461000,462000,463000,464000,465000,466000,467000,468000,469000,470000,471000,472000,473000,474000,475000,476000,477000,478000,479000,480000,481000,482000,483000,484000,485000,486000,487000,488000,489000,490000,491000,492000,493000,494000,495000,496000,497000,498000,499000,500000,501000,502000,503000,504000,505000,506000,507000,508000,509000,510000,511000,512000,513000,514000,515000,516000,517000,518000,519000,520000,521000,522000,523000,524000,525000,526000,527000,528000,529000,530000,531000,532000,533000,534000,535000,536000,537000,538000,539000,540000,541000,542000,543000,544000,545000,546000,547000,548000,549000,550000,551000,552000,553000,554000,555000,556000,557000,558000,559000,560000,561000,562000,563000,564000,565000,566000,567000,568000,569000,570000,571000,572000,573000,574000,575000,576000,577000,578000,579000,580000,581000,582000,583000,584000,585000,586000,587000,588000,589000,590000,591000,592000,593000,594000,595000,596000,597000,598000,599000,600000],\"y\":{\"__ndarray__\":\"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\",\"dtype\":\"float64\",\"shape\":[600]}}},\"id\":\"55de4f4c-4d59-4360-8d15-3c535a9fc563\",\"type\":\"ColumnDataSource\"},{\"attributes\":{\"plot\":{\"id\":\"58bbd032-fe05-484e-ade8-7a68738ce6de\",\"subtype\":\"Figure\",\"type\":\"Plot\"}},\"id\":\"6fe4858e-94e7-4aee-b7ec-eff19c36fd5a\",\"type\":\"HelpTool\"},{\"attributes\":{\"plot\":{\"id\":\"58bbd032-fe05-484e-ade8-7a68738ce6de\",\"subtype\":\"Figure\",\"type\":\"Plot\"}},\"id\":\"1d61698d-39f9-497e-b192-4ebe2ad3591e\",\"type\":\"ResetTool\"},{\"attributes\":{\"line_color\":{\"value\":\"#e41a1c\"},\"line_width\":{\"value\":2},\"x\":{\"field\":\"x\"},\"y\":{\"field\":\"y\"}},\"id\":\"3a698688-9e72-47a3-b5c8-09c0b5eda50b\",\"type\":\"Line\"},{\"attributes\":{\"fill_alpha\":{\"value\":0.1},\"fill_color\":{\"value\":\"#e41a1c\"},\"line_alpha\":{\"value\":0.1},\"line_color\":{\"value\":\"#e41a1c\"},\"x\":{\"field\":\"x\"},\"y\":{\"field\":\"y\"}},\"id\":\"8edbbfe4-1f75-43cd-80c6-59b4548a0764\",\"type\":\"Patch\"},{\"attributes\":{\"fill_alpha\":{\"value\":0.1},\"fill_color\":{\"value\":\"#377eb8\"},\"line_alpha\":{\"value\":0.1},\"line_color\":{\"value\":\"#377eb8\"},\"x\":{\"field\":\"x\"},\"y\":{\"field\":\"y\"}},\"id\":\"e6015e28-65ca-4a3b-bfaa-d378b3c23050\",\"type\":\"Patch\"},{\"attributes\":{\"callback\":null,\"column_names\":[\"x\",\"y\"],\"data\":{\"x\":[0,1000,2000,3000,4000,5000,6000,7000,8000,9000,10000,11000,12000,13000,14000,15000,16000,17000,18000,19000,20000,21000,22000,23000,24000,25000,26000,27000,28000,29000,30000,31000,32000,33000,34000,35000,36000,37000,38000,39000,40000,41000,42000,43000,44000,45000,46000,47000,48000,49000,50000,51000,52000,53000,54000,55000,56000,57000,58000,59000,60000,61000,62000,63000,64000,65000,66000,67000,68000,69000,70000,71000,72000,73000,74000,75000,76000,77000,78000,79000,80000,81000,82000,83000,84000,85000,86000,87000,88000,89000,90000,91000,92000,93000,94000,95000,96000,97000,98000,99000,100000,101000,102000,103000,104000,105000,106000,107000,108000,109000,110000,111000,112000,113000,114000,115000,116000,117000,118000,119000,120000,121000,122000,123000,124000,125000,126000,127000,128000,129000,130000,131000,132000,133000,134000,135000,136000,137000,138000,139000,140000,141000,142000,143000,144000,145000,146000,147000,148000,149000,150000,151000,152000,153000,154000,155000,156000,157000,158000,159000,160000,161000,162000,163000,164000,165000,166000,167000,168000,169000,170000,171000,172000,173000,174000,175000,176000,177000,178000,179000,180000,181000,182000,183000,184000,185000,186000,187000,188000,189000,190000,191000,192000,193000,194000,195000,196000,197000,198000,199000,200000,201000,202000,203000,204000,205000,206000,207000,208000,209000,210000,211000,212000,213000,214000,215000,216000,217000,218000,219000,220000,221000,222000,223000,224000,225000,226000,227000,228000,229000,230000,231000,232000,233000,234000,235000,236000,237000,238000,239000,240000,241000,242000,243000,244000,245000,246000,247000,248000,249000,250000,251000,252000,253000,254000,255000,256000,257000,258000,259000,260000,261000,262000,263000,264000,265000,266000,267000,268000,269000,270000,271000,272000,273000,274000,275000,276000,277000,278000,279000,280000,281000,282000,283000,284000,285000,286000,287000,288000,289000,290000,291000,292000,293000,294000,295000,296000,297000,298000,299000,300000,301000,302000,303000,304000,305000,306000,307000,308000,309000,310000,311000,312000,313000,314000,315000,316000,317000,318000,319000,320000,321000,322000,323000,324000,325000,326000,327000,328000,329000,330000,331000,332000,333000,334000,335000,336000,337000,338000,339000,340000,341000,342000,343000,344000,345000,346000,347000,348000,349000,350000,351000,352000,353000,354000,355000,356000,357000,358000,359000,360000,361000,362000,363000,364000,365000,366000,367000,368000,369000,370000,371000,372000,373000,374000,375000,376000,377000,378000,379000,380000,381000,382000,383000,384000,385000,386000,387000,388000,389000,390000,391000,392000,393000,394000,395000,396000,397000,398000,399000,400000,401000,402000,403000,404000,405000,406000,407000,408000,409000,410000,411000,412000,413000,414000,415000,416000,417000,418000,419000,420000,421000,422000,423000,424000,425000,426000,427000,428000,429000,430000,431000,432000,433000,434000,435000,436000,437000,438000,439000,440000,441000,442000,443000,444000,445000,446000,447000,448000,449000,450000,451000,452000,453000,454000,455000,456000,457000,458000,459000,460000,461000,462000,463000,464000,465000,466000,467000,468000,469000,470000,471000,472000,473000,474000,475000,476000,477000,478000,479000,480000,481000,482000,483000,484000,485000,486000,487000,488000,489000,490000,491000,492000,493000,494000,495000,496000,497000,498000,499000,500000,501000,502000,503000,504000,505000,506000,507000,508000,509000,510000,511000,512000,513000,514000,515000,516000,517000,518000,519000,520000,521000,522000,523000,524000,525000,526000,527000,528000,529000,530000,531000,532000,533000,534000,535000,536000,537000,538000,539000,540000,541000,542000,543000,544000,545000,546000,547000,548000,549000,550000,551000,552000,553000,554000,555000,556000,557000,558000,559000,560000,561000,562000,563000,564000,565000,566000,567000,568000,569000,570000,571000,572000,573000,574000,575000,576000,577000,578000,579000,580000,581000,582000,583000,584000,585000,586000,587000,588000,589000,590000,591000,592000,593000,594000,595000,596000,597000,598000,599000,600000,600000,599000,598000,597000,596000,595000,594000,593000,592000,591000,590000,589000,588000,587000,586000,585000,584000,583000,582000,581000,580000,579000,578000,577000,576000,575000,574000,573000,572000,571000,570000,569000,568000,567000,566000,565000,564000,563000,562000,561000,560000,559000,558000,557000,556000,555000,554000,553000,552000,551000,550000,549000,548000,547000,546000,545000,544000,543000,542000,541000,540000,539000,538000,537000,536000,535000,534000,533000,532000,531000,530000,529000,528000,527000,526000,525000,524000,523000,522000,521000,520000,519000,518000,517000,516000,515000,514000,513000,512000,511000,510000,509000,508000,507000,506000,505000,504000,503000,502000,501000,500000,499000,498000,497000,496000,495000,494000,493000,492000,491000,490000,489000,488000,487000,486000,485000,484000,483000,482000,481000,480000,479000,478000,477000,476000,475000,474000,473000,472000,471000,470000,469000,468000,467000,466000,465000,464000,463000,462000,461000,460000,459000,458000,457000,456000,455000,454000,453000,452000,451000,450000,449000,448000,447000,446000,445000,444000,443000,442000,441000,440000,439000,438000,437000,436000,435000,434000,433000,432000,431000,430000,429000,428000,427000,426000,425000,424000,423000,422000,421000,420000,419000,418000,417000,416000,415000,414000,413000,412000,411000,410000,409000,408000,407000,406000,405000,404000,403000,402000,401000,400000,399000,398000,397000,396000,395000,394000,393000,392000,391000,390000,389000,388000,387000,386000,385000,384000,383000,382000,381000,380000,379000,378000,377000,376000,375000,374000,373000,372000,371000,370000,369000,368000,367000,366000,365000,364000,363000,362000,361000,360000,359000,358000,357000,356000,355000,354000,353000,352000,351000,350000,349000,348000,347000,346000,345000,344000,343000,342000,341000,340000,339000,338000,337000,336000,335000,334000,333000,332000,331000,330000,329000,328000,327000,326000,325000,324000,323000,322000,321000,320000,319000,318000,317000,316000,315000,314000,313000,312000,311000,310000,309000,308000,307000,306000,305000,304000,303000,302000,301000,300000,299000,298000,297000,296000,295000,294000,293000,292000,291000,290000,289000,288000,287000,286000,285000,284000,283000,282000,281000,280000,279000,278000,277000,276000,275000,274000,273000,272000,271000,270000,269000,268000,267000,266000,265000,264000,263000,262000,261000,260000,259000,258000,257000,256000,255000,254000,253000,252000,251000,250000,249000,248000,247000,246000,245000,244000,243000,242000,241000,240000,239000,238000,237000,236000,235000,234000,233000,232000,231000,230000,229000,228000,227000,226000,225000,224000,223000,222000,221000,220000,219000,218000,217000,216000,215000,214000,213000,212000,211000,210000,209000,208000,207000,206000,205000,204000,203000,202000,201000,200000,199000,198000,197000,196000,195000,194000,193000,192000,191000,190000,189000,188000,187000,186000,185000,184000,183000,182000,181000,180000,179000,178000,177000,176000,175000,174000,173000,172000,171000,170000,169000,168000,167000,166000,165000,164000,163000,162000,161000,160000,159000,158000,157000,156000,155000,154000,153000,152000,151000,150000,149000,148000,147000,146000,145000,144000,143000,142000,141000,140000,139000,138000,137000,136000,135000,134000,133000,132000,131000,130000,129000,128000,127000,126000,125000,124000,123000,122000,121000,120000,119000,118000,117000,116000,115000,114000,113000,112000,111000,110000,109000,108000,107000,106000,105000,104000,103000,102000,101000,100000,99000,98000,97000,96000,95000,94000,93000,92000,91000,90000,89000,88000,87000,86000,85000,84000,83000,82000,81000,80000,79000,78000,77000,76000,75000,74000,73000,72000,71000,70000,69000,68000,67000,66000,65000,64000,63000,62000,61000,60000,59000,58000,57000,56000,55000,54000,53000,52000,51000,50000,49000,48000,47000,46000,45000,44000,43000,42000,41000,40000,39000,38000,37000,36000,35000,34000,33000,32000,31000,30000,29000,28000,27000,26000,25000,24000,23000,22000,21000,20000,19000,18000,17000,16000,15000,14000,13000,12000,11000,10000,9000,8000,7000,6000,5000,4000,3000,2000,1000,0],\"y\":{\"__ndarray__\":\"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\",\"dtype\":\"float64\",\"shape\":[1200]}}},\"id\":\"d6b523e2-43b4-4979-bc95-806577497008\",\"type\":\"ColumnDataSource\"},{\"attributes\":{\"fill_alpha\":{\"value\":0.1},\"fill_color\":{\"value\":\"#1f77b4\"},\"line_alpha\":{\"value\":0.1},\"line_color\":{\"value\":\"#1f77b4\"},\"x\":{\"field\":\"x\"},\"y\":{\"field\":\"y\"}},\"id\":\"29e9867f-f25f-436c-9fb3-58d7a79adb69\",\"type\":\"Patch\"},{\"attributes\":{\"line_color\":{\"value\":\"#4daf4a\"},\"line_width\":{\"value\":2},\"x\":{\"field\":\"x\"},\"y\":{\"field\":\"y\"}},\"id\":\"866afba7-ed89-4cb3-9bf0-99bfd3581b7a\",\"type\":\"Line\"},{\"attributes\":{\"callback\":null,\"column_names\":[\"x\",\"y\"],\"data\":{\"x\":[0,1000,2000,3000,4000,5000,6000,7000,8000,9000,10000,11000,12000,13000,14000,15000,16000,17000,18000,19000,20000,21000,22000,23000,24000,25000,26000,27000,28000,29000,30000,31000,32000,33000,34000,35000,36000,37000,38000,39000,40000,41000,42000,43000,44000,45000,46000,47000,48000,49000,50000,51000,52000,53000,54000,55000,56000,57000,58000,59000,60000,61000,62000,63000,64000,65000,66000,67000,68000,69000,70000,71000,72000,73000,74000,75000,76000,77000,78000,79000,80000,81000,82000,83000,84000,85000,86000,87000,88000,89000,90000,91000,92000,93000,94000,95000,96000,97000,98000,99000,100000,101000,102000,103000,104000,105000,106000,107000,108000,109000,110000,111000,112000,113000,114000,115000,116000,117000,118000,119000,120000,121000,122000,123000,124000,125000,126000,127000,128000,129000,130000,131000,132000,133000,134000,135000,136000,137000,138000,139000,140000,141000,142000,143000,144000,145000,146000,147000,148000,149000,150000,151000,152000,153000,154000,155000,156000,157000,158000,159000,160000,161000,162000,163000,164000,165000,166000,167000,168000,169000,170000,171000,172000,173000,174000,175000,176000,177000,178000,179000,180000,181000,182000,183000,184000,185000,186000,187000,188000,189000,190000,191000,192000,193000,194000,195000,196000,197000,198000,199000,200000,201000,202000,203000,204000,205000,206000,207000,208000,209000,210000,211000,212000,213000,214000,215000,216000,217000,218000,219000,220000,221000,222000,223000,224000,225000,226000,227000,228000,229000,230000,231000,232000,233000,234000,235000,236000,237000,238000,239000,240000,241000,242000,243000,244000,245000,246000,247000,248000,249000,250000,251000,252000,253000,254000,255000,256000,257000,258000,259000,260000,261000,262000,263000,264000,265000,266000,267000,268000,269000,270000,271000,272000,273000,274000,275000,276000,277000,278000,279000,280000,281000,282000,283000,284000,285000,286000,287000,288000,289000,290000,291000,292000,293000,294000,295000,296000,297000,298000,299000,300000,301000,302000,303000,304000,305000,306000,307000,308000,309000,310000,311000,312000,313000,314000,315000,316000,317000,318000,319000,320000,321000,322000,323000,324000,325000,326000,327000,328000,329000,330000,331000,332000,333000,334000,335000,336000,337000,338000,339000,340000,341000,342000,343000,344000,345000,346000,347000,348000,349000,350000,351000,352000,353000,354000,355000,356000,357000,358000,359000,360000,361000,362000,363000,364000,365000,366000,367000,368000,369000,370000,371000,372000,373000,374000,375000,376000,377000,378000,379000,380000,381000,382000,383000,384000,385000,386000,387000,388000,389000,390000,391000,392000,393000,394000,395000,396000,397000,398000,399000,400000,401000,402000,403000,404000,405000,406000,407000,408000,409000,410000,411000,412000,413000,414000,415000,416000,417000,418000,419000,420000,421000,422000,423000,424000,425000,426000,427000,428000,429000,430000,431000,432000,433000,434000,435000,436000,437000,438000,439000,440000,441000,442000,443000,444000,445000,446000,447000,448000,449000,450000,451000,452000,453000,454000,455000,456000,457000,458000,459000,460000,461000,462000,463000,464000,465000,466000,467000,468000,469000,470000,471000,472000,473000,474000,475000,476000,477000,478000,479000,480000,481000,482000,483000,484000,485000,486000,487000,488000,489000,490000,491000,492000,493000,494000,495000,496000,497000,498000,499000,500000,501000,502000,503000,504000,505000,506000,507000,508000,509000,510000,511000,512000,513000,514000,515000,516000,517000,518000,519000,520000,521000,522000,523000,524000,525000,526000,527000,528000,529000,530000,531000,532000,533000,534000,535000,536000,537000,538000,539000,540000,541000,542000,543000,544000,545000,546000,547000,548000,549000,550000,551000,552000,553000,554000,555000,556000,557000,558000,559000,560000,561000,562000,563000,564000,565000,566000,567000,568000,569000,570000,571000,572000,573000,574000,575000,576000,577000,578000,579000,580000,581000,582000,583000,584000,585000,586000,587000,588000,589000,590000,591000,592000,593000,594000,595000,596000,597000,598000,599000,600000],\"y\":{\"__ndarray__\":\"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\",\"dtype\":\"float64\",\"shape\":[600]}}},\"id\":\"fff3c7e9-296f-4340-903f-5883806b1ec5\",\"type\":\"ColumnDataSource\"},{\"attributes\":{\"data_source\":{\"id\":\"da8c6413-211d-4d26-a0d2-c02582d6894c\",\"type\":\"ColumnDataSource\"},\"glyph\":{\"id\":\"c0e1b177-310c-4eb4-8919-b49a0ebf7c81\",\"type\":\"Line\"},\"hover_glyph\":null,\"nonselection_glyph\":{\"id\":\"c8138d43-88f2-467b-8b49-77338682d34c\",\"type\":\"Line\"},\"selection_glyph\":null},\"id\":\"af996e83-9c38-4ef1-b774-f3afb1275bdb\",\"type\":\"GlyphRenderer\"},{\"attributes\":{},\"id\":\"9898b178-2898-459c-8196-fe728a7c9c78\",\"type\":\"BasicTickFormatter\"},{\"attributes\":{\"data_source\":{\"id\":\"d6b523e2-43b4-4979-bc95-806577497008\",\"type\":\"ColumnDataSource\"},\"glyph\":{\"id\":\"8edbbfe4-1f75-43cd-80c6-59b4548a0764\",\"type\":\"Patch\"},\"hover_glyph\":null,\"nonselection_glyph\":{\"id\":\"29e9867f-f25f-436c-9fb3-58d7a79adb69\",\"type\":\"Patch\"},\"selection_glyph\":null},\"id\":\"d6a5eddb-6235-4d0a-b99d-b18f788db222\",\"type\":\"GlyphRenderer\"},{\"attributes\":{\"line_alpha\":{\"value\":0.1},\"line_color\":{\"value\":\"#1f77b4\"},\"line_width\":{\"value\":2},\"x\":{\"field\":\"x\"},\"y\":{\"field\":\"y\"}},\"id\":\"4b0cd017-9252-494d-95ff-55b96acc6634\",\"type\":\"Line\"},{\"attributes\":{\"data_source\":{\"id\":\"fff3c7e9-296f-4340-903f-5883806b1ec5\",\"type\":\"ColumnDataSource\"},\"glyph\":{\"id\":\"3a698688-9e72-47a3-b5c8-09c0b5eda50b\",\"type\":\"Line\"},\"hover_glyph\":null,\"nonselection_glyph\":{\"id\":\"4b0cd017-9252-494d-95ff-55b96acc6634\",\"type\":\"Line\"},\"selection_glyph\":null},\"id\":\"6ad2c807-5fb8-44ed-a751-ad4f24be3410\",\"type\":\"GlyphRenderer\"},{\"attributes\":{\"data_source\":{\"id\":\"823fb7bd-3810-41bf-89bd-9db8a6dd01a9\",\"type\":\"ColumnDataSource\"},\"glyph\":{\"id\":\"e6015e28-65ca-4a3b-bfaa-d378b3c23050\",\"type\":\"Patch\"},\"hover_glyph\":null,\"nonselection_glyph\":{\"id\":\"62482c89-9fd8-4a9a-b3a1-592b9a5f3ec5\",\"type\":\"Patch\"},\"selection_glyph\":null},\"id\":\"a83df0fe-354a-4853-9391-ade1bdf3ce1b\",\"type\":\"GlyphRenderer\"},{\"attributes\":{\"plot\":null,\"text\":\"Med Maze 10\"},\"id\":\"8337a111-bbbf-4f05-9583-515c10833108\",\"type\":\"Title\"},{\"attributes\":{\"fill_alpha\":{\"value\":0.1},\"fill_color\":{\"value\":\"#4daf4a\"},\"line_alpha\":{\"value\":0.1},\"line_color\":{\"value\":\"#4daf4a\"},\"x\":{\"field\":\"x\"},\"y\":{\"field\":\"y\"}},\"id\":\"13a23f5c-1c5c-475a-a8b8-6cee57242785\",\"type\":\"Patch\"},{\"attributes\":{\"callback\":null,\"column_names\":[\"x\",\"y\"],\"data\":{\"x\":[0,1000,2000,3000,4000,5000,6000,7000,8000,9000,10000,11000,12000,13000,14000,15000,16000,17000,18000,19000,20000,21000,22000,23000,24000,25000,26000,27000,28000,29000,30000,31000,32000,33000,34000,35000,36000,37000,38000,39000,40000,41000,42000,43000,44000,45000,46000,47000,48000,49000,50000,51000,52000,53000,54000,55000,56000,57000,58000,59000,60000,61000,62000,63000,64000,65000,66000,67000,68000,69000,70000,71000,72000,73000,74000,75000,76000,77000,78000,79000,80000,81000,82000,83000,84000,85000,86000,87000,88000,89000,90000,91000,92000,93000,94000,95000,96000,97000,98000,99000,100000,101000,102000,103000,104000,105000,106000,107000,108000,109000,110000,111000,112000,113000,114000,115000,116000,117000,118000,119000,120000,121000,122000,123000,124000,125000,126000,127000,128000,129000,130000,131000,132000,133000,134000,135000,136000,137000,138000,139000,140000,141000,142000,143000,144000,145000,146000,147000,148000,149000,150000,151000,152000,153000,154000,155000,156000,157000,158000,159000,160000,161000,162000,163000,164000,165000,166000,167000,168000,169000,170000,171000,172000,173000,174000,175000,176000,177000,178000,179000,180000,181000,182000,183000,184000,185000,186000,187000,188000,189000,190000,191000,192000,193000,194000,195000,196000,197000,198000,199000,200000,201000,202000,203000,204000,205000,206000,207000,208000,209000,210000,211000,212000,213000,214000,215000,216000,217000,218000,219000,220000,221000,222000,223000,224000,225000,226000,227000,228000,229000,230000,231000,232000,233000,234000,235000,236000,237000,238000,239000,240000,241000,242000,243000,244000,245000,246000,247000,248000,249000,250000,251000,252000,253000,254000,255000,256000,257000,258000,259000,260000,261000,262000,263000,264000,265000,266000,267000,268000,269000,270000,271000,272000,273000,274000,275000,276000,277000,278000,279000,280000,281000,282000,283000,284000,285000,286000,287000,288000,289000,290000,291000,292000,293000,294000,295000,296000,297000,298000,299000,300000,301000,302000,303000,304000,305000,306000,307000,308000,309000,310000,311000,312000,313000,314000,315000,316000,317000,318000,319000,320000,321000,322000,323000,324000,325000,326000,327000,328000,329000,330000,331000,332000,333000,334000,335000,336000,337000,338000,339000,340000,341000,342000,343000,344000,345000,346000,347000,348000,349000,350000,351000,352000,353000,354000,355000,356000,357000,358000,359000,360000,361000,362000,363000,364000,365000,366000,367000,368000,369000,370000,371000,372000,373000,374000,375000,376000,377000,378000,379000,380000,381000,382000,383000,384000,385000,386000,387000,388000,389000,390000,391000,392000,393000,394000,395000,396000,397000,398000,399000,400000,401000,402000,403000,404000,405000,406000,407000,408000,409000,410000,411000,412000,413000,414000,415000,416000,417000,418000,419000,420000,421000,422000,423000,424000,425000,426000,427000,428000,429000,430000,431000,432000,433000,434000,435000,436000,437000,438000,439000,440000,441000,442000,443000,444000,445000,446000,447000,448000,449000,450000,451000,452000,453000,454000,455000,456000,457000,458000,459000,460000,461000,462000,463000,464000,465000,466000,467000,468000,469000,470000,471000,472000,473000,474000,475000,476000,477000,478000,479000,480000,481000,482000,483000,484000,485000,486000,487000,488000,489000,490000,491000,492000,493000,494000,495000,496000,497000,498000,499000,500000,501000,502000,503000,504000,505000,506000,507000,508000,509000,510000,511000,512000,513000,514000,515000,516000,517000,518000,519000,520000,521000,522000,523000,524000,525000,526000,527000,528000,529000,530000,531000,532000,533000,534000,535000,536000,537000,538000,539000,540000,541000,542000,543000,544000,545000,546000,547000,548000,549000,550000,551000,552000,553000,554000,555000,556000,557000,558000,559000,560000,561000,562000,563000,564000,565000,566000,567000,568000,569000,570000,571000,572000,573000,574000,575000,576000,577000,578000,579000,580000,581000,582000,583000,584000,585000,586000,587000,588000,589000,590000,591000,592000,593000,594000,595000,596000,597000,598000,599000,600000,600000,599000,598000,597000,596000,595000,594000,593000,592000,591000,590000,589000,588000,587000,586000,585000,584000,583000,582000,581000,580000,579000,578000,577000,576000,575000,574000,573000,572000,571000,570000,569000,568000,567000,566000,565000,564000,563000,562000,561000,560000,559000,558000,557000,556000,555000,554000,553000,552000,551000,550000,549000,548000,547000,546000,545000,544000,543000,542000,541000,540000,539000,538000,537000,536000,535000,534000,533000,532000,531000,530000,529000,528000,527000,526000,525000,524000,523000,522000,521000,520000,519000,518000,517000,516000,515000,514000,513000,512000,511000,510000,509000,508000,507000,506000,505000,504000,503000,502000,501000,500000,499000,498000,497000,496000,495000,494000,493000,492000,491000,490000,489000,488000,487000,486000,485000,484000,483000,482000,481000,480000,479000,478000,477000,476000,475000,474000,473000,472000,471000,470000,469000,468000,467000,466000,465000,464000,463000,462000,461000,460000,459000,458000,457000,456000,455000,454000,453000,452000,451000,450000,449000,448000,447000,446000,445000,444000,443000,442000,441000,440000,439000,438000,437000,436000,435000,434000,433000,432000,431000,430000,429000,428000,427000,426000,425000,424000,423000,422000,421000,420000,419000,418000,417000,416000,415000,414000,413000,412000,411000,410000,409000,408000,407000,406000,405000,404000,403000,402000,401000,400000,399000,398000,397000,396000,395000,394000,393000,392000,391000,390000,389000,388000,387000,386000,385000,384000,383000,382000,381000,380000,379000,378000,377000,376000,375000,374000,373000,372000,371000,370000,369000,368000,367000,366000,365000,364000,363000,362000,361000,360000,359000,358000,357000,356000,355000,354000,353000,352000,351000,350000,349000,348000,347000,346000,345000,344000,343000,342000,341000,340000,339000,338000,337000,336000,335000,334000,333000,332000,331000,330000,329000,328000,327000,326000,325000,324000,323000,322000,321000,320000,319000,318000,317000,316000,315000,314000,313000,312000,311000,310000,309000,308000,307000,306000,305000,304000,303000,302000,301000,300000,299000,298000,297000,296000,295000,294000,293000,292000,291000,290000,289000,288000,287000,286000,285000,284000,283000,282000,281000,280000,279000,278000,277000,276000,275000,274000,273000,272000,271000,270000,269000,268000,267000,266000,265000,264000,263000,262000,261000,260000,259000,258000,257000,256000,255000,254000,253000,252000,251000,250000,249000,248000,247000,246000,245000,244000,243000,242000,241000,240000,239000,238000,237000,236000,235000,234000,233000,232000,231000,230000,229000,228000,227000,226000,225000,224000,223000,222000,221000,220000,219000,218000,217000,216000,215000,214000,213000,212000,211000,210000,209000,208000,207000,206000,205000,204000,203000,202000,201000,200000,199000,198000,197000,196000,195000,194000,193000,192000,191000,190000,189000,188000,187000,186000,185000,184000,183000,182000,181000,180000,179000,178000,177000,176000,175000,174000,173000,172000,171000,170000,169000,168000,167000,166000,165000,164000,163000,162000,161000,160000,159000,158000,157000,156000,155000,154000,153000,152000,151000,150000,149000,148000,147000,146000,145000,144000,143000,142000,141000,140000,139000,138000,137000,136000,135000,134000,133000,132000,131000,130000,129000,128000,127000,126000,125000,124000,123000,122000,121000,120000,119000,118000,117000,116000,115000,114000,113000,112000,111000,110000,109000,108000,107000,106000,105000,104000,103000,102000,101000,100000,99000,98000,97000,96000,95000,94000,93000,92000,91000,90000,89000,88000,87000,86000,85000,84000,83000,82000,81000,80000,79000,78000,77000,76000,75000,74000,73000,72000,71000,70000,69000,68000,67000,66000,65000,64000,63000,62000,61000,60000,59000,58000,57000,56000,55000,54000,53000,52000,51000,50000,49000,48000,47000,46000,45000,44000,43000,42000,41000,40000,39000,38000,37000,36000,35000,34000,33000,32000,31000,30000,29000,28000,27000,26000,25000,24000,23000,22000,21000,20000,19000,18000,17000,16000,15000,14000,13000,12000,11000,10000,9000,8000,7000,6000,5000,4000,3000,2000,1000,0],\"y\":{\"__ndarray__\":\"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\",\"dtype\":\"float64\",\"shape\":[1200]}}},\"id\":\"823fb7bd-3810-41bf-89bd-9db8a6dd01a9\",\"type\":\"ColumnDataSource\"},{\"attributes\":{\"data_source\":{\"id\":\"dfdcafaf-fc58-45c8-b4f0-a28bf3e28637\",\"type\":\"ColumnDataSource\"},\"glyph\":{\"id\":\"13a23f5c-1c5c-475a-a8b8-6cee57242785\",\"type\":\"Patch\"},\"hover_glyph\":null,\"nonselection_glyph\":{\"id\":\"7f912d4a-8ca8-4d16-bbdc-d20c4d2edb43\",\"type\":\"Patch\"},\"selection_glyph\":null},\"id\":\"229bc514-aaa1-48a3-b2a4-37172c7340b7\",\"type\":\"GlyphRenderer\"},{\"attributes\":{\"fill_alpha\":{\"value\":0.1},\"fill_color\":{\"value\":\"#1f77b4\"},\"line_alpha\":{\"value\":0.1},\"line_color\":{\"value\":\"#1f77b4\"},\"x\":{\"field\":\"x\"},\"y\":{\"field\":\"y\"}},\"id\":\"62482c89-9fd8-4a9a-b3a1-592b9a5f3ec5\",\"type\":\"Patch\"},{\"attributes\":{\"use_scientific\":false},\"id\":\"2e73befc-d146-4da8-a517-a023ed128fee\",\"type\":\"BasicTickFormatter\"},{\"attributes\":{\"callback\":null,\"column_names\":[\"x\",\"y\"],\"data\":{\"x\":[0,1000,2000,3000,4000,5000,6000,7000,8000,9000,10000,11000,12000,13000,14000,15000,16000,17000,18000,19000,20000,21000,22000,23000,24000,25000,26000,27000,28000,29000,30000,31000,32000,33000,34000,35000,36000,37000,38000,39000,40000,41000,42000,43000,44000,45000,46000,47000,48000,49000,50000,51000,52000,53000,54000,55000,56000,57000,58000,59000,60000,61000,62000,63000,64000,65000,66000,67000,68000,69000,70000,71000,72000,73000,74000,75000,76000,77000,78000,79000,80000,81000,82000,83000,84000,85000,86000,87000,88000,89000,90000,91000,92000,93000,94000,95000,96000,97000,98000,99000,100000,101000,102000,103000,104000,105000,106000,107000,108000,109000,110000,111000,112000,113000,114000,115000,116000,117000,118000,119000,120000,121000,122000,123000,124000,125000,126000,127000,128000,129000,130000,131000,132000,133000,134000,135000,136000,137000,138000,139000,140000,141000,142000,143000,144000,145000,146000,147000,148000,149000,150000,151000,152000,153000,154000,155000,156000,157000,158000,159000,160000,161000,162000,163000,164000,165000,166000,167000,168000,169000,170000,171000,172000,173000,174000,175000,176000,177000,178000,179000,180000,181000,182000,183000,184000,185000,186000,187000,188000,189000,190000,191000,192000,193000,194000,195000,196000,197000,198000,199000,200000,201000,202000,203000,204000,205000,206000,207000,208000,209000,210000,211000,212000,213000,214000,215000,216000,217000,218000,219000,220000,221000,222000,223000,224000,225000,226000,227000,228000,229000,230000,231000,232000,233000,234000,235000,236000,237000,238000,239000,240000,241000,242000,243000,244000,245000,246000,247000,248000,249000,250000,251000,252000,253000,254000,255000,256000,257000,258000,259000,260000,261000,262000,263000,264000,265000,266000,267000,268000,269000,270000,271000,272000,273000,274000,275000,276000,277000,278000,279000,280000,281000,282000,283000,284000,285000,286000,287000,288000,289000,290000,291000,292000,293000,294000,295000,296000,297000,298000,299000,300000,301000,302000,303000,304000,305000,306000,307000,308000,309000,310000,311000,312000,313000,314000,315000,316000,317000,318000,319000,320000,321000,322000,323000,324000,325000,326000,327000,328000,329000,330000,331000,332000,333000,334000,335000,336000,337000,338000,339000,340000,341000,342000,343000,344000,345000,346000,347000,348000,349000,350000,351000,352000,353000,354000,355000,356000,357000,358000,359000,360000,361000,362000,363000,364000,365000,366000,367000,368000,369000,370000,371000,372000,373000,374000,375000,376000,377000,378000,379000,380000,381000,382000,383000,384000,385000,386000,387000,388000,389000,390000,391000,392000,393000,394000,395000,396000,397000,398000,399000,400000,401000,402000,403000,404000,405000,406000,407000,408000,409000,410000,411000,412000,413000,414000,415000,416000,417000,418000,419000,420000,421000,422000,423000,424000,425000,426000,427000,428000,429000,430000,431000,432000,433000,434000,435000,436000,437000,438000,439000,440000,441000,442000,443000,444000,445000,446000,447000,448000,449000,450000,451000,452000,453000,454000,455000,456000,457000,458000,459000,460000,461000,462000,463000,464000,465000,466000,467000,468000,469000,470000,471000,472000,473000,474000,475000,476000,477000,478000,479000,480000,481000,482000,483000,484000,485000,486000,487000,488000,489000,490000,491000,492000,493000,494000,495000,496000,497000,498000,499000,500000,501000,502000,503000,504000,505000,506000,507000,508000,509000,510000,511000,512000,513000,514000,515000,516000,517000,518000,519000,520000,521000,522000,523000,524000,525000,526000,527000,528000,529000,530000,531000,532000,533000,534000,535000,536000,537000,538000,539000,540000,541000,542000,543000,544000,545000,546000,547000,548000,549000,550000,551000,552000,553000,554000,555000,556000,557000,558000,559000,560000,561000,562000,563000,564000,565000,566000,567000,568000,569000,570000,571000,572000,573000,574000,575000,576000,577000,578000,579000,580000,581000,582000,583000,584000,585000,586000,587000,588000,589000,590000,591000,592000,593000,594000,595000,596000,597000,598000,599000,600000],\"y\":{\"__ndarray__\":\"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\",\"dtype\":\"float64\",\"shape\":[600]}}},\"id\":\"da8c6413-211d-4d26-a0d2-c02582d6894c\",\"type\":\"ColumnDataSource\"},{\"attributes\":{\"data_source\":{\"id\":\"55de4f4c-4d59-4360-8d15-3c535a9fc563\",\"type\":\"ColumnDataSource\"},\"glyph\":{\"id\":\"866afba7-ed89-4cb3-9bf0-99bfd3581b7a\",\"type\":\"Line\"},\"hover_glyph\":null,\"nonselection_glyph\":{\"id\":\"2ea645f3-9ae9-4f72-aab2-c221efb61124\",\"type\":\"Line\"},\"selection_glyph\":null},\"id\":\"d94beba0-e31d-4f7b-b9b4-842d93cac1f6\",\"type\":\"GlyphRenderer\"},{\"attributes\":{\"fill_alpha\":{\"value\":0.1},\"fill_color\":{\"value\":\"#1f77b4\"},\"line_alpha\":{\"value\":0.1},\"line_color\":{\"value\":\"#1f77b4\"},\"x\":{\"field\":\"x\"},\"y\":{\"field\":\"y\"}},\"id\":\"7f912d4a-8ca8-4d16-bbdc-d20c4d2edb43\",\"type\":\"Patch\"},{\"attributes\":{\"label\":{\"value\":\"Traces 1 Lambda 6 States 3 Gap\"},\"renderers\":[{\"id\":\"d94beba0-e31d-4f7b-b9b4-842d93cac1f6\",\"type\":\"GlyphRenderer\"}]},\"id\":\"167635b8-4ddd-4afb-9ba2-3372e047ba38\",\"type\":\"LegendItem\"},{\"attributes\":{\"line_alpha\":{\"value\":0.1},\"line_color\":{\"value\":\"#1f77b4\"},\"line_width\":{\"value\":2},\"x\":{\"field\":\"x\"},\"y\":{\"field\":\"y\"}},\"id\":\"2ea645f3-9ae9-4f72-aab2-c221efb61124\",\"type\":\"Line\"},{\"attributes\":{\"axis_label\":\"T\",\"formatter\":{\"id\":\"2e73befc-d146-4da8-a517-a023ed128fee\",\"type\":\"BasicTickFormatter\"},\"plot\":{\"id\":\"58bbd032-fe05-484e-ade8-7a68738ce6de\",\"subtype\":\"Figure\",\"type\":\"Plot\"},\"ticker\":{\"id\":\"fd31e1a2-de0b-437e-a4b1-f7245bb15120\",\"type\":\"BasicTicker\"}},\"id\":\"46980d27-b9f6-4171-bfff-1f5c6beb8382\",\"type\":\"LinearAxis\"},{\"attributes\":{\"callback\":null,\"column_names\":[\"x\",\"y\"],\"data\":{\"x\":[0,1000,2000,3000,4000,5000,6000,7000,8000,9000,10000,11000,12000,13000,14000,15000,16000,17000,18000,19000,20000,21000,22000,23000,24000,25000,26000,27000,28000,29000,30000,31000,32000,33000,34000,35000,36000,37000,38000,39000,40000,41000,42000,43000,44000,45000,46000,47000,48000,49000,50000,51000,52000,53000,54000,55000,56000,57000,58000,59000,60000,61000,62000,63000,64000,65000,66000,67000,68000,69000,70000,71000,72000,73000,74000,75000,76000,77000,78000,79000,80000,81000,82000,83000,84000,85000,86000,87000,88000,89000,90000,91000,92000,93000,94000,95000,96000,97000,98000,99000,100000,101000,102000,103000,104000,105000,106000,107000,108000,109000,110000,111000,112000,113000,114000,115000,116000,117000,118000,119000,120000,121000,122000,123000,124000,125000,126000,127000,128000,129000,130000,131000,132000,133000,134000,135000,136000,137000,138000,139000,140000,141000,142000,143000,144000,145000,146000,147000,148000,149000,150000,151000,152000,153000,154000,155000,156000,157000,158000,159000,160000,161000,162000,163000,164000,165000,166000,167000,168000,169000,170000,171000,172000,173000,174000,175000,176000,177000,178000,179000,180000,181000,182000,183000,184000,185000,186000,187000,188000,189000,190000,191000,192000,193000,194000,195000,196000,197000,198000,199000,200000,201000,202000,203000,204000,205000,206000,207000,208000,209000,210000,211000,212000,213000,214000,215000,216000,217000,218000,219000,220000,221000,222000,223000,224000,225000,226000,227000,228000,229000,230000,231000,232000,233000,234000,235000,236000,237000,238000,239000,240000,241000,242000,243000,244000,245000,246000,247000,248000,249000,250000,251000,252000,253000,254000,255000,256000,257000,258000,259000,260000,261000,262000,263000,264000,265000,266000,267000,268000,269000,270000,271000,272000,273000,274000,275000,276000,277000,278000,279000,280000,281000,282000,283000,284000,285000,286000,287000,288000,289000,290000,291000,292000,293000,294000,295000,296000,297000,298000,299000,300000,301000,302000,303000,304000,305000,306000,307000,308000,309000,310000,311000,312000,313000,314000,315000,316000,317000,318000,319000,320000,321000,322000,323000,324000,325000,326000,327000,328000,329000,330000,331000,332000,333000,334000,335000,336000,337000,338000,339000,340000,341000,342000,343000,344000,345000,346000,347000,348000,349000,350000,351000,352000,353000,354000,355000,356000,357000,358000,359000,360000,361000,362000,363000,364000,365000,366000,367000,368000,369000,370000,371000,372000,373000,374000,375000,376000,377000,378000,379000,380000,381000,382000,383000,384000,385000,386000,387000,388000,389000,390000,391000,392000,393000,394000,395000,396000,397000,398000,399000,400000,401000,402000,403000,404000,405000,406000,407000,408000,409000,410000,411000,412000,413000,414000,415000,416000,417000,418000,419000,420000,421000,422000,423000,424000,425000,426000,427000,428000,429000,430000,431000,432000,433000,434000,435000,436000,437000,438000,439000,440000,441000,442000,443000,444000,445000,446000,447000,448000,449000,450000,451000,452000,453000,454000,455000,456000,457000,458000,459000,460000,461000,462000,463000,464000,465000,466000,467000,468000,469000,470000,471000,472000,473000,474000,475000,476000,477000,478000,479000,480000,481000,482000,483000,484000,485000,486000,487000,488000,489000,490000,491000,492000,493000,494000,495000,496000,497000,498000,499000,500000,501000,502000,503000,504000,505000,506000,507000,508000,509000,510000,511000,512000,513000,514000,515000,516000,517000,518000,519000,520000,521000,522000,523000,524000,525000,526000,527000,528000,529000,530000,531000,532000,533000,534000,535000,536000,537000,538000,539000,540000,541000,542000,543000,544000,545000,546000,547000,548000,549000,550000,551000,552000,553000,554000,555000,556000,557000,558000,559000,560000,561000,562000,563000,564000,565000,566000,567000,568000,569000,570000,571000,572000,573000,574000,575000,576000,577000,578000,579000,580000,581000,582000,583000,584000,585000,586000,587000,588000,589000,590000,591000,592000,593000,594000,595000,596000,597000,598000,599000,600000,600000,599000,598000,597000,596000,595000,594000,593000,592000,591000,590000,589000,588000,587000,586000,585000,584000,583000,582000,581000,580000,579000,578000,577000,576000,575000,574000,573000,572000,571000,570000,569000,568000,567000,566000,565000,564000,563000,562000,561000,560000,559000,558000,557000,556000,555000,554000,553000,552000,551000,550000,549000,548000,547000,546000,545000,544000,543000,542000,541000,540000,539000,538000,537000,536000,535000,534000,533000,532000,531000,530000,529000,528000,527000,526000,525000,524000,523000,522000,521000,520000,519000,518000,517000,516000,515000,514000,513000,512000,511000,510000,509000,508000,507000,506000,505000,504000,503000,502000,501000,500000,499000,498000,497000,496000,495000,494000,493000,492000,491000,490000,489000,488000,487000,486000,485000,484000,483000,482000,481000,480000,479000,478000,477000,476000,475000,474000,473000,472000,471000,470000,469000,468000,467000,466000,465000,464000,463000,462000,461000,460000,459000,458000,457000,456000,455000,454000,453000,452000,451000,450000,449000,448000,447000,446000,445000,444000,443000,442000,441000,440000,439000,438000,437000,436000,435000,434000,433000,432000,431000,430000,429000,428000,427000,426000,425000,424000,423000,422000,421000,420000,419000,418000,417000,416000,415000,414000,413000,412000,411000,410000,409000,408000,407000,406000,405000,404000,403000,402000,401000,400000,399000,398000,397000,396000,395000,394000,393000,392000,391000,390000,389000,388000,387000,386000,385000,384000,383000,382000,381000,380000,379000,378000,377000,376000,375000,374000,373000,372000,371000,370000,369000,368000,367000,366000,365000,364000,363000,362000,361000,360000,359000,358000,357000,356000,355000,354000,353000,352000,351000,350000,349000,348000,347000,346000,345000,344000,343000,342000,341000,340000,339000,338000,337000,336000,335000,334000,333000,332000,331000,330000,329000,328000,327000,326000,325000,324000,323000,322000,321000,320000,319000,318000,317000,316000,315000,314000,313000,312000,311000,310000,309000,308000,307000,306000,305000,304000,303000,302000,301000,300000,299000,298000,297000,296000,295000,294000,293000,292000,291000,290000,289000,288000,287000,286000,285000,284000,283000,282000,281000,280000,279000,278000,277000,276000,275000,274000,273000,272000,271000,270000,269000,268000,267000,266000,265000,264000,263000,262000,261000,260000,259000,258000,257000,256000,255000,254000,253000,252000,251000,250000,249000,248000,247000,246000,245000,244000,243000,242000,241000,240000,239000,238000,237000,236000,235000,234000,233000,232000,231000,230000,229000,228000,227000,226000,225000,224000,223000,222000,221000,220000,219000,218000,217000,216000,215000,214000,213000,212000,211000,210000,209000,208000,207000,206000,205000,204000,203000,202000,201000,200000,199000,198000,197000,196000,195000,194000,193000,192000,191000,190000,189000,188000,187000,186000,185000,184000,183000,182000,181000,180000,179000,178000,177000,176000,175000,174000,173000,172000,171000,170000,169000,168000,167000,166000,165000,164000,163000,162000,161000,160000,159000,158000,157000,156000,155000,154000,153000,152000,151000,150000,149000,148000,147000,146000,145000,144000,143000,142000,141000,140000,139000,138000,137000,136000,135000,134000,133000,132000,131000,130000,129000,128000,127000,126000,125000,124000,123000,122000,121000,120000,119000,118000,117000,116000,115000,114000,113000,112000,111000,110000,109000,108000,107000,106000,105000,104000,103000,102000,101000,100000,99000,98000,97000,96000,95000,94000,93000,92000,91000,90000,89000,88000,87000,86000,85000,84000,83000,82000,81000,80000,79000,78000,77000,76000,75000,74000,73000,72000,71000,70000,69000,68000,67000,66000,65000,64000,63000,62000,61000,60000,59000,58000,57000,56000,55000,54000,53000,52000,51000,50000,49000,48000,47000,46000,45000,44000,43000,42000,41000,40000,39000,38000,37000,36000,35000,34000,33000,32000,31000,30000,29000,28000,27000,26000,25000,24000,23000,22000,21000,20000,19000,18000,17000,16000,15000,14000,13000,12000,11000,10000,9000,8000,7000,6000,5000,4000,3000,2000,1000,0],\"y\":{\"__ndarray__\":\"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\",\"dtype\":\"float64\",\"shape\":[1200]}}},\"id\":\"dfdcafaf-fc58-45c8-b4f0-a28bf3e28637\",\"type\":\"ColumnDataSource\"},{\"attributes\":{\"below\":[{\"id\":\"46980d27-b9f6-4171-bfff-1f5c6beb8382\",\"type\":\"LinearAxis\"}],\"left\":[{\"id\":\"bf19300a-3b71-4861-b4c8-8c8c2742fafd\",\"type\":\"LinearAxis\"}],\"plot_height\":800,\"plot_width\":1200,\"renderers\":[{\"id\":\"46980d27-b9f6-4171-bfff-1f5c6beb8382\",\"type\":\"LinearAxis\"},{\"id\":\"33dfef9d-4841-4492-9f0a-9f072536c42e\",\"type\":\"Grid\"},{\"id\":\"bf19300a-3b71-4861-b4c8-8c8c2742fafd\",\"type\":\"LinearAxis\"},{\"id\":\"ba13cbb6-107e-4103-a32a-a9abce2bec06\",\"type\":\"Grid\"},{\"id\":\"1426f63f-033f-4742-8af1-e7cb771d8387\",\"type\":\"BoxAnnotation\"},{\"id\":\"d6a5eddb-6235-4d0a-b99d-b18f788db222\",\"type\":\"GlyphRenderer\"},{\"id\":\"6ad2c807-5fb8-44ed-a751-ad4f24be3410\",\"type\":\"GlyphRenderer\"},{\"id\":\"a83df0fe-354a-4853-9391-ade1bdf3ce1b\",\"type\":\"GlyphRenderer\"},{\"id\":\"af996e83-9c38-4ef1-b774-f3afb1275bdb\",\"type\":\"GlyphRenderer\"},{\"id\":\"229bc514-aaa1-48a3-b2a4-37172c7340b7\",\"type\":\"GlyphRenderer\"},{\"id\":\"d94beba0-e31d-4f7b-b9b4-842d93cac1f6\",\"type\":\"GlyphRenderer\"},{\"id\":\"71f67601-1959-4d16-9d33-ab48461bf0b5\",\"type\":\"Legend\"}],\"right\":[{\"id\":\"71f67601-1959-4d16-9d33-ab48461bf0b5\",\"type\":\"Legend\"}],\"title\":{\"id\":\"8337a111-bbbf-4f05-9583-515c10833108\",\"type\":\"Title\"},\"tool_events\":{\"id\":\"4eda7f7e-a8fd-4fdb-b0f7-940f50db5661\",\"type\":\"ToolEvents\"},\"toolbar\":{\"id\":\"4b828b89-2ec4-40d6-ad6f-e2bdd94936ab\",\"type\":\"Toolbar\"},\"toolbar_location\":\"above\",\"x_range\":{\"id\":\"5d8b575b-c9ac-42ec-ac00-6f836fc0ac43\",\"type\":\"DataRange1d\"},\"y_range\":{\"id\":\"cbb93d99-7a5f-499c-95a2-8f40c40a0384\",\"type\":\"DataRange1d\"}},\"id\":\"58bbd032-fe05-484e-ade8-7a68738ce6de\",\"subtype\":\"Figure\",\"type\":\"Plot\"}],\"root_ids\":[\"58bbd032-fe05-484e-ade8-7a68738ce6de\"]},\"title\":\"Bokeh Application\",\"version\":\"0.12.4\"}};\n",
       "            var render_items = [{\"docid\":\"cfb6a1f0-9cc2-4e6f-be97-d0cce988df07\",\"elementid\":\"ef88ac7a-3bcc-4eb1-b3c3-3a9330493940\",\"modelid\":\"58bbd032-fe05-484e-ade8-7a68738ce6de\"}];\n",
       "            \n",
       "            Bokeh.embed.embed_items(docs_json, render_items);\n",
       "          };\n",
       "          if (document.readyState != \"loading\") fn();\n",
       "          else document.addEventListener(\"DOMContentLoaded\", fn);\n",
       "        })();\n",
       "      },\n",
       "      function(Bokeh) {\n",
       "      }\n",
       "    ];\n",
       "  \n",
       "    function run_inline_js() {\n",
       "      \n",
       "      if ((window.Bokeh !== undefined) || (force === true)) {\n",
       "        for (var i = 0; i < inline_js.length; i++) {\n",
       "          inline_js[i](window.Bokeh);\n",
       "        }if (force === true) {\n",
       "          display_loaded();\n",
       "        }} else if (Date.now() < window._bokeh_timeout) {\n",
       "        setTimeout(run_inline_js, 100);\n",
       "      } else if (!window._bokeh_failed_load) {\n",
       "        console.log(\"Bokeh: BokehJS failed to load within specified timeout.\");\n",
       "        window._bokeh_failed_load = true;\n",
       "      } else if (force !== true) {\n",
       "        var cell = $(document.getElementById(\"ef88ac7a-3bcc-4eb1-b3c3-3a9330493940\")).parents('.cell').data().cell;\n",
       "        cell.output_area.append_execute_result(NB_LOAD_WARNING)\n",
       "      }\n",
       "  \n",
       "    }\n",
       "  \n",
       "    if (window._bokeh_is_loading === 0) {\n",
       "      console.log(\"Bokeh: BokehJS loaded, going straight to plotting\");\n",
       "      run_inline_js();\n",
       "    } else {\n",
       "      load_libs(js_urls, function() {\n",
       "        console.log(\"Bokeh: BokehJS plotting callback run at\", now());\n",
       "        run_inline_js();\n",
       "      });\n",
       "    }\n",
       "  }(this));\n",
       "</script>"
      ]
     },
     "metadata": {},
     "output_type": "display_data"
    }
   ],
   "source": [
    "plot_averages_b(names, t_maxs, colours, legends, directories, step=1000, title=\"Med Maze 10\")\n",
    "plot_states(names, t_maxs, colours, legends, directories, step=1000, title=\"Med Maze 10\")"
   ]
  },
  {
   "cell_type": "code",
   "execution_count": null,
   "metadata": {
    "collapsed": true,
    "deletable": true,
    "editable": true
   },
   "outputs": [],
   "source": []
  },
  {
   "cell_type": "code",
   "execution_count": null,
   "metadata": {
    "collapsed": true,
    "deletable": true,
    "editable": true
   },
   "outputs": [],
   "source": []
  },
  {
   "cell_type": "code",
   "execution_count": null,
   "metadata": {
    "collapsed": true,
    "deletable": true,
    "editable": true
   },
   "outputs": [],
   "source": [
    "DQN_Smoothed = []\n",
    "for times, rewards in zip(DQN_Lengths_C, DQN_Rewards):\n",
    "    linear = interp1d(times, rewards, kind=\"linear\")\n",
    "    linear_rewards = linear([i for i in range(500000)])\n",
    "    DQN_Smoothed.append(linear_rewards)"
   ]
  },
  {
   "cell_type": "code",
   "execution_count": null,
   "metadata": {
    "collapsed": true,
    "deletable": true,
    "editable": true
   },
   "outputs": [],
   "source": [
    "DQN_Means = np.mean(DQN_Smoothed, axis=0)"
   ]
  },
  {
   "cell_type": "code",
   "execution_count": null,
   "metadata": {
    "collapsed": true,
    "deletable": true,
    "editable": true
   },
   "outputs": [],
   "source": [
    "DQN_Stds = np.std(DQN_Smoothed, axis=0)"
   ]
  },
  {
   "cell_type": "code",
   "execution_count": null,
   "metadata": {
    "collapsed": false,
    "deletable": true,
    "editable": true
   },
   "outputs": [],
   "source": [
    "plt.fill_between([i for i in range(500000)], DQN_Means - DQN_Stds, DQN_Means + DQN_Stds, color=\"red\", alpha=0.3, edgecolor=\"white\")\n",
    "\n",
    "plt.plot([i for i in range(500000)], DQN_Means, color=\"red\")"
   ]
  },
  {
   "cell_type": "code",
   "execution_count": null,
   "metadata": {
    "collapsed": false,
    "deletable": true,
    "editable": true
   },
   "outputs": [],
   "source": [
    "len(DQN_Repeat)"
   ]
  },
  {
   "cell_type": "code",
   "execution_count": null,
   "metadata": {
    "collapsed": true,
    "deletable": true,
    "editable": true
   },
   "outputs": [],
   "source": [
    "plt.plot(DQN)"
   ]
  },
  {
   "cell_type": "code",
   "execution_count": null,
   "metadata": {
    "collapsed": true,
    "deletable": true,
    "editable": true
   },
   "outputs": [],
   "source": [
    "directories = [\"Logs/\"]"
   ]
  },
  {
   "cell_type": "code",
   "execution_count": null,
   "metadata": {
    "collapsed": false,
    "deletable": true,
    "editable": true
   },
   "outputs": [],
   "source": [
    "for i in range(0, 10, 2):\n",
    "    print(i)"
   ]
  },
  {
   "cell_type": "code",
   "execution_count": null,
   "metadata": {
    "collapsed": true,
    "deletable": true,
    "editable": true
   },
   "outputs": [],
   "source": []
  }
 ],
 "metadata": {
  "kernelspec": {
   "display_name": "Python 3",
   "language": "python",
   "name": "python3"
  },
  "language_info": {
   "codemirror_mode": {
    "name": "ipython",
    "version": 3
   },
   "file_extension": ".py",
   "mimetype": "text/x-python",
   "name": "python",
   "nbconvert_exporter": "python",
   "pygments_lexer": "ipython3",
   "version": "3.5.3"
  }
 },
 "nbformat": 4,
 "nbformat_minor": 2
}
