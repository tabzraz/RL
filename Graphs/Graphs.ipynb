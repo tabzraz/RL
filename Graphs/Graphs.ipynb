{
 "cells": [
  {
   "cell_type": "code",
   "execution_count": 1,
   "metadata": {
    "collapsed": false,
    "deletable": true,
    "editable": true
   },
   "outputs": [
    {
     "data": {
      "text/html": [
       "\n",
       "    <div class=\"bk-root\">\n",
       "        <a href=\"http://bokeh.pydata.org\" target=\"_blank\" class=\"bk-logo bk-logo-small bk-logo-notebook\"></a>\n",
       "        <span id=\"c32b7a97-cce7-4be5-8105-4bcb705eff55\">Loading BokehJS ...</span>\n",
       "    </div>"
      ]
     },
     "metadata": {},
     "output_type": "display_data"
    },
    {
     "data": {
      "application/javascript": [
       "\n",
       "(function(global) {\n",
       "  function now() {\n",
       "    return new Date();\n",
       "  }\n",
       "\n",
       "  var force = true;\n",
       "\n",
       "  if (typeof (window._bokeh_onload_callbacks) === \"undefined\" || force === true) {\n",
       "    window._bokeh_onload_callbacks = [];\n",
       "    window._bokeh_is_loading = undefined;\n",
       "  }\n",
       "\n",
       "\n",
       "  \n",
       "  if (typeof (window._bokeh_timeout) === \"undefined\" || force === true) {\n",
       "    window._bokeh_timeout = Date.now() + 5000;\n",
       "    window._bokeh_failed_load = false;\n",
       "  }\n",
       "\n",
       "  var NB_LOAD_WARNING = {'data': {'text/html':\n",
       "     \"<div style='background-color: #fdd'>\\n\"+\n",
       "     \"<p>\\n\"+\n",
       "     \"BokehJS does not appear to have successfully loaded. If loading BokehJS from CDN, this \\n\"+\n",
       "     \"may be due to a slow or bad network connection. Possible fixes:\\n\"+\n",
       "     \"</p>\\n\"+\n",
       "     \"<ul>\\n\"+\n",
       "     \"<li>re-rerun `output_notebook()` to attempt to load from CDN again, or</li>\\n\"+\n",
       "     \"<li>use INLINE resources instead, as so:</li>\\n\"+\n",
       "     \"</ul>\\n\"+\n",
       "     \"<code>\\n\"+\n",
       "     \"from bokeh.resources import INLINE\\n\"+\n",
       "     \"output_notebook(resources=INLINE)\\n\"+\n",
       "     \"</code>\\n\"+\n",
       "     \"</div>\"}};\n",
       "\n",
       "  function display_loaded() {\n",
       "    if (window.Bokeh !== undefined) {\n",
       "      document.getElementById(\"c32b7a97-cce7-4be5-8105-4bcb705eff55\").textContent = \"BokehJS successfully loaded.\";\n",
       "    } else if (Date.now() < window._bokeh_timeout) {\n",
       "      setTimeout(display_loaded, 100)\n",
       "    }\n",
       "  }\n",
       "\n",
       "  function run_callbacks() {\n",
       "    window._bokeh_onload_callbacks.forEach(function(callback) { callback() });\n",
       "    delete window._bokeh_onload_callbacks\n",
       "    console.info(\"Bokeh: all callbacks have finished\");\n",
       "  }\n",
       "\n",
       "  function load_libs(js_urls, callback) {\n",
       "    window._bokeh_onload_callbacks.push(callback);\n",
       "    if (window._bokeh_is_loading > 0) {\n",
       "      console.log(\"Bokeh: BokehJS is being loaded, scheduling callback at\", now());\n",
       "      return null;\n",
       "    }\n",
       "    if (js_urls == null || js_urls.length === 0) {\n",
       "      run_callbacks();\n",
       "      return null;\n",
       "    }\n",
       "    console.log(\"Bokeh: BokehJS not loaded, scheduling load and callback at\", now());\n",
       "    window._bokeh_is_loading = js_urls.length;\n",
       "    for (var i = 0; i < js_urls.length; i++) {\n",
       "      var url = js_urls[i];\n",
       "      var s = document.createElement('script');\n",
       "      s.src = url;\n",
       "      s.async = false;\n",
       "      s.onreadystatechange = s.onload = function() {\n",
       "        window._bokeh_is_loading--;\n",
       "        if (window._bokeh_is_loading === 0) {\n",
       "          console.log(\"Bokeh: all BokehJS libraries loaded\");\n",
       "          run_callbacks()\n",
       "        }\n",
       "      };\n",
       "      s.onerror = function() {\n",
       "        console.warn(\"failed to load library \" + url);\n",
       "      };\n",
       "      console.log(\"Bokeh: injecting script tag for BokehJS library: \", url);\n",
       "      document.getElementsByTagName(\"head\")[0].appendChild(s);\n",
       "    }\n",
       "  };var element = document.getElementById(\"c32b7a97-cce7-4be5-8105-4bcb705eff55\");\n",
       "  if (element == null) {\n",
       "    console.log(\"Bokeh: ERROR: autoload.js configured with elementid 'c32b7a97-cce7-4be5-8105-4bcb705eff55' but no matching script tag was found. \")\n",
       "    return false;\n",
       "  }\n",
       "\n",
       "  var js_urls = [\"https://cdn.pydata.org/bokeh/release/bokeh-0.12.4.min.js\", \"https://cdn.pydata.org/bokeh/release/bokeh-widgets-0.12.4.min.js\"];\n",
       "\n",
       "  var inline_js = [\n",
       "    function(Bokeh) {\n",
       "      Bokeh.set_log_level(\"info\");\n",
       "    },\n",
       "    \n",
       "    function(Bokeh) {\n",
       "      \n",
       "      document.getElementById(\"c32b7a97-cce7-4be5-8105-4bcb705eff55\").textContent = \"BokehJS is loading...\";\n",
       "    },\n",
       "    function(Bokeh) {\n",
       "      console.log(\"Bokeh: injecting CSS: https://cdn.pydata.org/bokeh/release/bokeh-0.12.4.min.css\");\n",
       "      Bokeh.embed.inject_css(\"https://cdn.pydata.org/bokeh/release/bokeh-0.12.4.min.css\");\n",
       "      console.log(\"Bokeh: injecting CSS: https://cdn.pydata.org/bokeh/release/bokeh-widgets-0.12.4.min.css\");\n",
       "      Bokeh.embed.inject_css(\"https://cdn.pydata.org/bokeh/release/bokeh-widgets-0.12.4.min.css\");\n",
       "    }\n",
       "  ];\n",
       "\n",
       "  function run_inline_js() {\n",
       "    \n",
       "    if ((window.Bokeh !== undefined) || (force === true)) {\n",
       "      for (var i = 0; i < inline_js.length; i++) {\n",
       "        inline_js[i](window.Bokeh);\n",
       "      }if (force === true) {\n",
       "        display_loaded();\n",
       "      }} else if (Date.now() < window._bokeh_timeout) {\n",
       "      setTimeout(run_inline_js, 100);\n",
       "    } else if (!window._bokeh_failed_load) {\n",
       "      console.log(\"Bokeh: BokehJS failed to load within specified timeout.\");\n",
       "      window._bokeh_failed_load = true;\n",
       "    } else if (force !== true) {\n",
       "      var cell = $(document.getElementById(\"c32b7a97-cce7-4be5-8105-4bcb705eff55\")).parents('.cell').data().cell;\n",
       "      cell.output_area.append_execute_result(NB_LOAD_WARNING)\n",
       "    }\n",
       "\n",
       "  }\n",
       "\n",
       "  if (window._bokeh_is_loading === 0) {\n",
       "    console.log(\"Bokeh: BokehJS loaded, going straight to plotting\");\n",
       "    run_inline_js();\n",
       "  } else {\n",
       "    load_libs(js_urls, function() {\n",
       "      console.log(\"Bokeh: BokehJS plotting callback run at\", now());\n",
       "      run_inline_js();\n",
       "    });\n",
       "  }\n",
       "}(this));"
      ]
     },
     "metadata": {},
     "output_type": "display_data"
    }
   ],
   "source": [
    "from bokeh.plotting import figure, output_notebook, show\n",
    "output_notebook()"
   ]
  },
  {
   "cell_type": "code",
   "execution_count": 2,
   "metadata": {
    "collapsed": true,
    "deletable": true,
    "editable": true
   },
   "outputs": [],
   "source": [
    "import glob"
   ]
  },
  {
   "cell_type": "code",
   "execution_count": 3,
   "metadata": {
    "collapsed": true,
    "deletable": true,
    "editable": true
   },
   "outputs": [],
   "source": [
    "import numpy as np"
   ]
  },
  {
   "cell_type": "code",
   "execution_count": 4,
   "metadata": {
    "collapsed": true,
    "deletable": true,
    "editable": true
   },
   "outputs": [],
   "source": [
    "from scipy.interpolate import interp1d\n",
    "from scipy.interpolate import spline"
   ]
  },
  {
   "cell_type": "code",
   "execution_count": 5,
   "metadata": {
    "collapsed": true,
    "deletable": true,
    "editable": true
   },
   "outputs": [],
   "source": [
    "from tqdm import tqdm"
   ]
  },
  {
   "cell_type": "code",
   "execution_count": 6,
   "metadata": {
    "collapsed": true,
    "deletable": true,
    "editable": true
   },
   "outputs": [],
   "source": [
    "DQN_Rewards_Path = \"/home/tabz/Dropbox/RL/Log_Files/March 2017/Maze_5_Batch_Sizes_Logs/*DQN*/logs/Episode_Rewards.txt\"\n",
    "DQN_Lengths_Path = \"/home/tabz/Dropbox/RL/Log_Files/March 2017/Maze_5_Batch_Sizes_Logs/*DQN*/logs/Episode_Lengths.txt\"\n",
    "DQN_Rewards = []\n",
    "DQN_Lengths = []\n",
    "DQN_Lengths_C = []"
   ]
  },
  {
   "cell_type": "code",
   "execution_count": 7,
   "metadata": {
    "collapsed": true,
    "deletable": true,
    "editable": true
   },
   "outputs": [],
   "source": [
    "for filename in glob.glob(DQN_Rewards_Path):\n",
    "    run_logs = [0]\n",
    "#     print(filename)\n",
    "    with open(filename, \"r\") as f:\n",
    "        for line in f:\n",
    "            try:\n",
    "                ep_r = float(line)\n",
    "            except:\n",
    "                continue\n",
    "            run_logs.append(ep_r)\n",
    "    DQN_Rewards.append(run_logs)"
   ]
  },
  {
   "cell_type": "code",
   "execution_count": 8,
   "metadata": {
    "collapsed": true,
    "deletable": true,
    "editable": true
   },
   "outputs": [],
   "source": [
    "for filename in glob.glob(DQN_Lengths_Path):\n",
    "    run_logs = [0]\n",
    "#     print(filename)\n",
    "    with open(filename, \"r\") as f:\n",
    "        for line in f:\n",
    "            try:\n",
    "                ep_r = float(line)\n",
    "            except:\n",
    "                continue\n",
    "            run_logs.append(ep_r)\n",
    "    DQN_Lengths.append(run_logs)\n",
    "    run_logs_c = np.cumsum(run_logs).astype(np.int32)\n",
    "    DQN_Lengths_C.append(run_logs_c)"
   ]
  },
  {
   "cell_type": "markdown",
   "metadata": {
    "collapsed": false,
    "deletable": true,
    "editable": true
   },
   "source": [
    "for lens, runs in zip(DQN_Lengths_C, DQN_Rewards):\n",
    "    plt.plot(lens, runs)\n",
    "plt.show()"
   ]
  },
  {
   "cell_type": "markdown",
   "metadata": {
    "collapsed": false,
    "deletable": true,
    "editable": true
   },
   "source": [
    "p = figure(width=500, height=500, y_range=(-1,3))\n",
    "for lens, runs in zip(DQN_Lengths_C, DQN_Rewards):\n",
    "    p.line(lens, runs)\n",
    "show(p)"
   ]
  },
  {
   "cell_type": "code",
   "execution_count": null,
   "metadata": {
    "collapsed": true,
    "deletable": true,
    "editable": true
   },
   "outputs": [],
   "source": []
  },
  {
   "cell_type": "markdown",
   "metadata": {
    "collapsed": true,
    "deletable": true,
    "editable": true
   },
   "source": [
    "def plot_averages(names, t_maxs, colors, legends=None, directory=\"Logs/\", step=10):\n",
    "    plt.figure(figsize=(10,10))\n",
    "    plt.ylim(-1, 3)\n",
    "    for name, color, t_max in tqdm(zip(names, colors, t_maxs)):\n",
    "        # TODO: Remove DQN from names\n",
    "        DQN_Rewards_Path = directory + \"*\" + name + \"*/logs/Episode_Rewards.txt\"\n",
    "        DQN_Lengths_Path = directory + \"*\" + name + \"*/logs/Episode_Lengths.txt\"\n",
    "        DQN_Rewards = []\n",
    "        DQN_Lengths = []\n",
    "        DQN_Lengths_C = []\n",
    "        for filename in glob.glob(DQN_Rewards_Path):\n",
    "            run_logs = [0]\n",
    "            with open(filename, \"r\") as f:\n",
    "                for line in f:\n",
    "                    try:\n",
    "                        ep_r = float(line)\n",
    "                    except:\n",
    "                        continue\n",
    "                    run_logs.append(ep_r)\n",
    "            DQN_Rewards.append(run_logs)\n",
    "        for filename in glob.glob(DQN_Lengths_Path):\n",
    "            run_logs = [0]\n",
    "        #     print(filename)\n",
    "            with open(filename, \"r\") as f:\n",
    "                for line in f:\n",
    "                    try:\n",
    "                        ep_r = float(line)\n",
    "                    except:\n",
    "                        continue\n",
    "                    run_logs.append(ep_r)\n",
    "            DQN_Lengths.append(run_logs)\n",
    "            run_logs_c = np.cumsum(run_logs).astype(np.int32)\n",
    "            DQN_Lengths_C.append(run_logs_c)\n",
    "        DQN_Smoothed = []\n",
    "        for times, rewards in zip(DQN_Lengths_C, DQN_Rewards):\n",
    "#             linear = interp1d(times, rewards, kind=\"linear\")\n",
    "#             linear_rewards = linear([i for i in range(500000)])\n",
    "#             DQN_Smoothed.append(linear_rewards)\n",
    "            spline_rewards = spline(times, rewards, [i for i in range(0, t_max, step)])\n",
    "            DQN_Smoothed.append(spline_rewards)\n",
    "        DQN_Means = np.mean(DQN_Smoothed, axis=0)\n",
    "        DQN_Stds = np.std(DQN_Smoothed, axis=0)\n",
    "        plt.fill_between([i for i in range(0, t_max, step)], DQN_Means - DQN_Stds, DQN_Means + DQN_Stds, color=color, alpha=0.2, edgecolor=\"white\")\n",
    "\n",
    "        plt.plot([i for i in range(0, t_max, step)], DQN_Means, color=color)\n",
    "\n",
    "    plt.title(\"Episode_Reward\")\n",
    "    plt.xlabel(\"T\")\n",
    "    plt.ylabel(\"Reward\")\n",
    "    if legends is not None:\n",
    "        plt.legend(legends, bbox_to_anchor=(1.05, 1), loc=2)\n",
    "    plt.show()"
   ]
  },
  {
   "cell_type": "code",
   "execution_count": 9,
   "metadata": {
    "collapsed": true,
    "deletable": true,
    "editable": true
   },
   "outputs": [],
   "source": [
    "from bokeh.models import Legend\n",
    "from bokeh.models.formatters import BasicTickFormatter\n",
    "from bokeh.models import HoverTool, TapTool"
   ]
  },
  {
   "cell_type": "code",
   "execution_count": 10,
   "metadata": {
    "collapsed": false,
    "deletable": true,
    "editable": true
   },
   "outputs": [],
   "source": [
    "def plot_averages_b(names, t_maxs, colors, legends, directories=\"Logs/\", step=10, title=\"\", min_max=True):\n",
    "#     plt.figure(figsize=(10,10))\n",
    "    p = figure(width=1200, height=800, y_range=(-0.1, 1.1), title=title)\n",
    "    p.toolbar_location = \"above\"\n",
    "    p.yaxis.axis_label = \"Episode Reward\"\n",
    "    p.xaxis.axis_label = \"T\"\n",
    "    p.xaxis.formatter = BasicTickFormatter(use_scientific=False)\n",
    "#     p = figure(width=800, height=500)\n",
    "    lines = []\n",
    "    alpha_lines = []\n",
    "    if isinstance(directories, str):\n",
    "        dd = directories\n",
    "        directories = [dd for _ in names]\n",
    "    for name, color, t_max, legend, directory in zip(names, colors, t_maxs, legends, directories):\n",
    "#         print(directory)\n",
    "        DQN_Rewards_Path = directory + \"*\" + name + \"*/logs/Episode_Rewards.txt\"\n",
    "        DQN_Lengths_Path = directory + \"*\" + name + \"*/logs/Episode_Lengths.txt\"\n",
    "        DQN_Rewards = []\n",
    "        DQN_Lengths = []\n",
    "        DQN_Lengths_C = []\n",
    "        for filename in glob.glob(DQN_Rewards_Path):\n",
    "            run_logs = [0]\n",
    "            with open(filename, \"r\") as f:\n",
    "#                 print(f)\n",
    "                for line in f:\n",
    "                    try:\n",
    "                        ep_r = float(line)\n",
    "                    except:\n",
    "                        print(\"Nothing here for:\", filename)\n",
    "                        continue\n",
    "                    run_logs.append(ep_r)\n",
    "            DQN_Rewards.append(run_logs)\n",
    "        for filename in glob.glob(DQN_Lengths_Path):\n",
    "            run_logs = [0]\n",
    "        #     print(filename)\n",
    "            with open(filename, \"r\") as f:\n",
    "                for line in f:\n",
    "                    try:\n",
    "                        ep_r = float(line)\n",
    "                    except:\n",
    "                        continue\n",
    "                    run_logs.append(ep_r)\n",
    "            DQN_Lengths.append(run_logs)\n",
    "            run_logs_c = np.cumsum(run_logs).astype(np.int32)\n",
    "            DQN_Lengths_C.append(run_logs_c)\n",
    "        DQN_Smoothed = []\n",
    "        for times, rewards in zip(DQN_Lengths_C, DQN_Rewards):\n",
    "#             linear = interp1d(times, rewards, kind=\"linear\")\n",
    "#             linear_rewards = linear([i for i in range(500000)])\n",
    "#             DQN_Smoothed.append(linear_rewards)\n",
    "            spline_rewards = spline(times, rewards, [i for i in range(0, t_max, step)], order=1)\n",
    "            DQN_Smoothed.append(spline_rewards)\n",
    "        DQN_Means = np.mean(DQN_Smoothed, axis=0)\n",
    "        DQN_Stds = np.std(DQN_Smoothed, axis=0)\n",
    "        \n",
    "        if min_max:\n",
    "    #         plt.fill_between([i for i in range(0, t_max, step)], DQN_Means - DQN_Stds, DQN_Means + DQN_Stds, color=color, alpha=0.2, edgecolor=\"white\")\n",
    "            # Error bars\n",
    "            xs = [i for i in range(0, t_max, step)]\n",
    "            xs = xs + list(reversed(xs))\n",
    "    #         ys = np.concatenate([DQN_Means - DQN_Stds, np.flip(DQN_Means + DQN_Stds, axis=0)])\n",
    "            ys = np.concatenate([np.min(DQN_Smoothed, axis=0), np.flip(np.max(DQN_Smoothed, axis=0), axis=0)])\n",
    "            lls = p.patch(xs, ys, color=color, alpha=0.1)\n",
    "\n",
    "\n",
    "    #         for x, y, yerr in zip(range(0, t_max, step), DQN_Means, DQN_Stds):\n",
    "    #             lls = p.line([x, x], [y - yerr, y + yerr], color=color, alpha=0.1, hover_alpha=0.8)\n",
    "    #             alpha_lines.append(lls)\n",
    "\n",
    "\n",
    "    #         plt.plot([i for i in range(0, t_max, step)], DQN_Means, color=color)\n",
    "        l = p.line([i for i in range(0, t_max, step)], DQN_Means, color=color, line_width=2)\n",
    "        lines.append(l)\n",
    "    #         alpha_lines.append(lls)\n",
    "\n",
    "#     plt.title(\"Episode_Reward\")\n",
    "#     plt.xlabel(\"T\")\n",
    "#     plt.ylabel(\"Reward\")\n",
    "#     if legends is not None:\n",
    "#         plt.legend(legends)\n",
    "#     plt.show()\n",
    "#     p.line([0,1], [-1,3])\n",
    "    new_leg = Legend(items=[(name, [line]) for name, line in zip(legends, lines)], location=(0,-30))\n",
    "    p.add_layout(new_leg, \"right\")\n",
    "#     p.add_tools(HoverTool(renderers=alpha_lines))\n",
    "#     p.add_tools(TapTool(renderers=alpha_lines))\n",
    "    show(p)"
   ]
  },
  {
   "cell_type": "code",
   "execution_count": 11,
   "metadata": {
    "collapsed": false,
    "deletable": true,
    "editable": true
   },
   "outputs": [],
   "source": [
    "def plot_states(names, t_maxs, colors, legends, directories=\"Logs/\", step=10, title=\"\"):\n",
    "#     plt.figure(figsize=(10,10))\n",
    "    p = figure(width=1200, height=800, title=title)\n",
    "    p.toolbar_location = \"above\"\n",
    "    p.yaxis.axis_label = \"States visited\"\n",
    "    p.xaxis.axis_label = \"T\"\n",
    "    p.xaxis.formatter = BasicTickFormatter(use_scientific=False)\n",
    "#     p = figure(width=800, height=500)\n",
    "    lines = []\n",
    "    alpha_lines = []\n",
    "    if isinstance(directories, str):\n",
    "        dd = directories\n",
    "        directories = [dd for _ in names]\n",
    "    for name, color, t_max, legend, directory in zip(names, colors, t_maxs, legends, directories):\n",
    "#         print(directory)\n",
    "        States_Path = directory + \"*\" + name + \"*/logs/Player_Positions.txt\"\n",
    "        States = []\n",
    "        for filename in glob.glob(States_Path):\n",
    "            run_logs = []\n",
    "            with open(filename, \"r\") as f:\n",
    "#                 print(f)\n",
    "                for line in f:\n",
    "                    try:\n",
    "                        ep_r = str(line)\n",
    "#                         print(ep_r)\n",
    "                    except:\n",
    "                        print(\"Nothing here for:\", filename)\n",
    "                        continue\n",
    "                    run_logs.append(ep_r)\n",
    "            States.append(run_logs)\n",
    "        States_Visited = []\n",
    "        for run in States:\n",
    "            Visited = []\n",
    "            States_Sets = set()\n",
    "#             print(len(run))\n",
    "            for ii, s in enumerate(run):\n",
    "                if ii >= t_max - 1:\n",
    "                    break\n",
    "#                 print(s)\n",
    "                States_Sets.add(s)\n",
    "                if ii % step == 0:\n",
    "                    Visited.append(len(States_Sets))\n",
    "#             print(len(States_Sets))\n",
    "#             print(len(Visited))\n",
    "            States_Visited.append(Visited)\n",
    "#         print(np.array(States_Visited).shape)\n",
    "        Means = np.mean(States_Visited, axis=0)\n",
    "        Stds = np.std(States_Visited, axis=0)\n",
    "#         print(Means.shape)\n",
    "        \n",
    "#         plt.fill_between([i for i in range(0, t_max, step)], DQN_Means - DQN_Stds, DQN_Means + DQN_Stds, color=color, alpha=0.2, edgecolor=\"white\")\n",
    "        # Error bars\n",
    "        xs = [i for i in range(0, t_max, step)]\n",
    "        xs = xs + list(reversed(xs))\n",
    "#         ys = np.concatenate([Means - Stds, np.flip(Means + Stds, axis=0)])\n",
    "        ys = np.concatenate([np.min(States_Visited, axis=0), np.flip(np.max(States_Visited, axis=0), axis=0)])\n",
    "        lls = p.patch(xs, ys, color=color, alpha=0.1)\n",
    "\n",
    "        \n",
    "#         for x, y, yerr in zip(range(0, t_max, step), DQN_Means, DQN_Stds):\n",
    "#             lls = p.line([x, x], [y - yerr, y + yerr], color=color, alpha=0.1, hover_alpha=0.8)\n",
    "#             alpha_lines.append(lls)\n",
    "            \n",
    "\n",
    "#         plt.plot([i for i in range(0, t_max, step)], DQN_Means, color=color)\n",
    "        l = p.line([i for i in range(0, t_max, step)], Means, color=color, line_width=2)\n",
    "        lines.append(l)\n",
    "#         alpha_lines.append(lls)\n",
    "\n",
    "#     plt.title(\"Episode_Reward\")\n",
    "#     plt.xlabel(\"T\")\n",
    "#     plt.ylabel(\"Reward\")\n",
    "#     if legends is not None:\n",
    "#         plt.legend(legends)\n",
    "#     plt.show()\n",
    "#     p.line([0,1], [-1,3])\n",
    "    new_leg = Legend(items=[(name, [line]) for name, line in zip(legends, lines)], location=(0,-30))\n",
    "    p.add_layout(new_leg, \"right\")\n",
    "#     p.add_tools(HoverTool(renderers=alpha_lines))\n",
    "#     p.add_tools(TapTool(renderers=alpha_lines))\n",
    "    show(p)"
   ]
  },
  {
   "cell_type": "code",
   "execution_count": null,
   "metadata": {
    "collapsed": true,
    "deletable": true,
    "editable": true
   },
   "outputs": [],
   "source": []
  },
  {
   "cell_type": "code",
   "execution_count": 12,
   "metadata": {
    "collapsed": false,
    "deletable": true,
    "editable": true
   },
   "outputs": [
    {
     "name": "stdout",
     "output_type": "stream",
     "text": [
      "['_10_Step_*DQN_', '_10_Step_*k_Count_', '_10_Step_*_CountEps_']\n",
      "[300001, 300001, 300001]\n"
     ]
    }
   ],
   "source": [
    "names = []\n",
    "legends = []\n",
    "t_maxs = []\n",
    "directories = []\n",
    "\n",
    "            \n",
    "# Frontier stuff\n",
    "for step in [10]:\n",
    "    # DQN\n",
    "    names += [\"_{}_Step_*DQN_\".format(step)]\n",
    "    legends += [\"{}_Step_DQN\".format(step)]\n",
    "    t_maxs += [300001]\n",
    "#     continue\n",
    "    # PseudoCount\n",
    "    names += [\"_{}_Step_*k_Count_\".format(step)]\n",
    "    legends += [\"{}_Step_Count\".format(step)]\n",
    "    t_maxs += [300001]\n",
    "#     continue\n",
    "    # EpsilonScaling\n",
    "    names += [\"_{}_Step_*_CountEps_\".format(step)]\n",
    "    legends += [\"{}_Step_Epsilon_Scaling\".format(step)]\n",
    "    t_maxs += [300001]\n",
    "            \n",
    "    \n",
    "direc = \"/home/tabz/tmp/logfiles/MedMaze10/MedMaze10\"\n",
    "# directories =  [\"{}/{}\".format(dropbox_direc, \"Maze_5_Logs/\")] + 3 * [\"{}/{}\".format(dropbox_direc, \"Maze_5_Batch_Sizes_Logs/\")] \n",
    "directories += [direc + \"/EpsilonLogs/\"] * 3\n",
    "    \n",
    "print(names)\n",
    "print(t_maxs)\n",
    "# colours = [\"red\", \"#3366ff\", \"#66ff33\", \"yellow\"]\n",
    "# colours = rainbow(np.linspace(0, 1, len(names)))"
   ]
  },
  {
   "cell_type": "code",
   "execution_count": 13,
   "metadata": {
    "collapsed": false,
    "deletable": true,
    "editable": true
   },
   "outputs": [
    {
     "name": "stdout",
     "output_type": "stream",
     "text": [
      "['_100_Step*k_Count_', '_100_Step*OptimisticAction', '_100_Step*_CountEps_']\n",
      "[300001, 300001, 300001]\n",
      "/home/scratch/tabhid/Log_Files/Gamma_Logs//\n"
     ]
    }
   ],
   "source": [
    "names = []\n",
    "legends = []\n",
    "t_maxs = []\n",
    "\n",
    "            \n",
    "# Frontier bandit stuff\n",
    "\n",
    "for n in [100]:\n",
    "    \n",
    "    # Count\n",
    "    names += [\"_{}_Step*k_Count_\".format(n)]\n",
    "    legends += [\"{}_Step_Count\".format(n)]\n",
    "    t_maxs += [300001]\n",
    "#     continue\n",
    "    # Optimistic\n",
    "    names += [\"_{}_Step*OptimisticAction\".format(n)]\n",
    "    legends += [\"{}_Step_OptimisticAction\".format(n)]\n",
    "    t_maxs += [300001]\n",
    "#     continue\n",
    "    # Epsilon Scaling\n",
    "    names += [\"_{}_Step*_CountEps_\".format(n)]\n",
    "    legends += [\"{}_Step_EpsilonScaling\".format(n)]\n",
    "    t_maxs += [300001]\n",
    "            \n",
    "    \n",
    "direc = \"/home/scratch/tabhid/Log_Files/Gamma_Logs//\"\n",
    "# directories =  [\"{}/{}\".format(dropbox_direc, \"Maze_5_Logs/\")] + 3 * [\"{}/{}\".format(dropbox_direc, \"Maze_5_Batch_Sizes_Logs/\")] \n",
    "# directories += [direc + \"/BanditLogs/\"] * 3\n",
    "directories = direc\n",
    "    \n",
    "print(names)\n",
    "print(t_maxs)\n",
    "print(directories)\n",
    "# colours = [\"red\", \"#3366ff\", \"#66ff33\", \"yellow\"]\n",
    "# colours = rainbow(np.linspace(0, 1, len(names)))"
   ]
  },
  {
   "cell_type": "code",
   "execution_count": 14,
   "metadata": {
    "collapsed": false,
    "deletable": true,
    "editable": true
   },
   "outputs": [
    {
     "name": "stdout",
     "output_type": "stream",
     "text": [
      "['_0.9_Decay*_Eps_0.1_', '_0.99_Decay*_Eps_0.1_', '_0.9999_Decay*_Eps_0.1_', '_0.9_Decay*_Eps_1_', '_0.99_Decay*_Eps_1_', '_0.9999_Decay*_Eps_1_']\n",
      "[300001, 300001, 300001, 300001, 300001, 300001]\n",
      "/home/tabz/tmp/Epsilon_Decay_Logs/\n"
     ]
    }
   ],
   "source": [
    "names = []\n",
    "legends = []\n",
    "t_maxs = []\n",
    "\n",
    "            \n",
    "# Epsilon Decay Scaling\n",
    "for eps in [0.1, 1]:\n",
    "    for decay in [0.9, 0.99, 0.9999]:\n",
    "    \n",
    "        names += [\"_{}_Decay*_Eps_{}_\".format(decay, eps)]\n",
    "        legends += [\"{}_Decay_EpsilonScaling_{}_Start\".format(decay, eps)]\n",
    "        t_maxs += [300001]\n",
    "            \n",
    "    \n",
    "# direc = \"/home/scratch/tabhid/Log_Files/Epsilon_Decay_Logs/\"\n",
    "direc = \"/home/tabz/tmp/Epsilon_Decay_Logs/\"\n",
    "# directories =  [\"{}/{}\".format(dropbox_direc, \"Maze_5_Logs/\")] + 3 * [\"{}/{}\".format(dropbox_direc, \"Maze_5_Batch_Sizes_Logs/\")] \n",
    "# directories += [direc + \"/BanditLogs/\"] * 3\n",
    "directories = direc\n",
    "    \n",
    "print(names)\n",
    "print(t_maxs)\n",
    "print(directories)"
   ]
  },
  {
   "cell_type": "code",
   "execution_count": 15,
   "metadata": {
    "collapsed": false,
    "deletable": true,
    "editable": true
   },
   "outputs": [
    {
     "name": "stdout",
     "output_type": "stream",
     "text": [
      "['_NegativeReward_0.5_', '_NegativeReward_0.7_', '_NegativeReward_0.9_']\n",
      "[300001, 300001, 300001]\n",
      "/home/tabz/tmp/Big_Negative_Reward_Logs/\n"
     ]
    }
   ],
   "source": [
    "names = []\n",
    "legends = []\n",
    "t_maxs = []\n",
    "\n",
    "            \n",
    "# Negative reward threshold\n",
    "for ns in [0.5, 0.7,  0.9]:\n",
    "    names += [\"_NegativeReward_{}_\".format(ns)]\n",
    "    legends += [\"NegativeReward_{}_Threshold\".format(ns)]\n",
    "    t_maxs += [300001]\n",
    "            \n",
    "    \n",
    "# direc = \"/home/scratch/tabhid/Log_Files/Epsilon_Decay_Logs/\"\n",
    "direc = \"/home/tabz/tmp/Big_Negative_Reward_Logs/\"\n",
    "# directories =  [\"{}/{}\".format(dropbox_direc, \"Maze_5_Logs/\")] + 3 * [\"{}/{}\".format(dropbox_direc, \"Maze_5_Batch_Sizes_Logs/\")] \n",
    "# directories += [direc + \"/BanditLogs/\"] * 3\n",
    "directories = direc\n",
    "    \n",
    "print(names)\n",
    "print(t_maxs)\n",
    "print(directories)"
   ]
  },
  {
   "cell_type": "code",
   "execution_count": 16,
   "metadata": {
    "collapsed": false,
    "deletable": true,
    "editable": true
   },
   "outputs": [
    {
     "name": "stdout",
     "output_type": "stream",
     "text": [
      "['k_OptimisticAction_0.0001_Scaler', 'k_OptimisticAction_0.0005_Scaler', 'k_OptimisticAction_0.001_Scaler', 'k_OptimisticAction_0.005_Scaler']\n",
      "[300001, 300001, 300001, 300001]\n",
      "/home/scratch/tabhid/Log_Files/Bandit_Small_Tau_Logs/\n"
     ]
    }
   ],
   "source": [
    "names = []\n",
    "legends = []\n",
    "t_maxs = []\n",
    "\n",
    "            \n",
    "# Bandit Tau\n",
    "for tau in [0.0001, 0.0005, 0.001, 0.005]:\n",
    "    for negative_reward in [False]:\n",
    "        if negative_reward:\n",
    "            names += [\"NegativeReward_*_OptimisticAction_{}_Scaler\".format(tau)]\n",
    "            legends += [\"Optim Bandit {} Tau Neg Reward\".format(tau)]\n",
    "        else:\n",
    "            names += [\"k_OptimisticAction_{}_Scaler\".format(tau)]\n",
    "            legends += [\"Optim Bandit {} Tau\".format(tau)]\n",
    "        t_maxs += [300001]\n",
    "            \n",
    "    \n",
    "direc = \"/home/scratch/tabhid/Log_Files/Bandit_Small_Tau_Logs/\"\n",
    "# direc = \"/home/tabz/tmp/Bandit_Tau_Logs/\"\n",
    "# directories =  [\"{}/{}\".format(dropbox_direc, \"Maze_5_Logs/\")] + 3 * [\"{}/{}\".format(dropbox_direc, \"Maze_5_Batch_Sizes_Logs/\")] \n",
    "# directories += [direc + \"/BanditLogs/\"] * 3\n",
    "directories = direc\n",
    "    \n",
    "print(names)\n",
    "print(t_maxs)\n",
    "print(directories)"
   ]
  },
  {
   "cell_type": "code",
   "execution_count": 17,
   "metadata": {
    "collapsed": false,
    "deletable": true,
    "editable": true
   },
   "outputs": [
    {
     "name": "stdout",
     "output_type": "stream",
     "text": [
      "['Batch_64_XpSize_600k', 'Batch_128_XpSize_600k', 'Batch_256_XpSize_600k']\n",
      "[600001, 600001, 600001]\n",
      "/home/tabz/tmp/logfiles/MedMaze10/Batch_Size_Logs/\n"
     ]
    }
   ],
   "source": [
    "names = []\n",
    "legends = []\n",
    "t_maxs = []\n",
    "\n",
    "            \n",
    "# Batch Size\n",
    "for xp in [600]:\n",
    "    for bs in [64, 128, 256]:\n",
    "        names += [\"Batch_{}_XpSize_{}k\".format(bs, xp)]\n",
    "        legends += [\"Batch {} Xp {}k\".format(bs, xp)]\n",
    "        t_maxs += [600001]\n",
    "            \n",
    "    \n",
    "# direc = \"/home/scratch/tabhid/Log_Files/Xp_Logs/\"\n",
    "direc = \"/home/tabz/tmp/logfiles/MedMaze10/Batch_Size_Logs/\"\n",
    "# directories =  [\"{}/{}\".format(dropbox_direc, \"Maze_5_Logs/\")] + 3 * [\"{}/{}\".format(dropbox_direc, \"Maze_5_Batch_Sizes_Logs/\")] \n",
    "# directories += [direc + \"/BanditLogs/\"] * 3\n",
    "directories = direc\n",
    "    \n",
    "print(names)\n",
    "print(t_maxs)\n",
    "print(directories)"
   ]
  },
  {
   "cell_type": "code",
   "execution_count": 18,
   "metadata": {
    "collapsed": false,
    "deletable": true,
    "editable": true
   },
   "outputs": [
    {
     "name": "stdout",
     "output_type": "stream",
     "text": [
      "['ETrace_0.7_6_States', 'ETrace_0.9_6_States', 'ETrace_1_6_States']\n",
      "[600001, 600001, 600001]\n",
      "/home/tabz/tmp/logfiles/MedMaze10/Elig_3_Logs/\n"
     ]
    }
   ],
   "source": [
    "names = []\n",
    "legends = []\n",
    "t_maxs = []\n",
    "\n",
    "            \n",
    "# Elig States\n",
    "for lamb in [0.7, 0.9, 1]:\n",
    "    for states in [6]:\n",
    "        names += [\"ETrace_{}_{}_States\".format(lamb, states)]\n",
    "        legends += [\"Traces {} Lambda {} States 3 Gap\".format(lamb, states)]\n",
    "        t_maxs += [600001]\n",
    "            \n",
    "    \n",
    "# direc = \"/home/scratch/tabhid/Log_Files/Xp_Logs/\"\n",
    "direc = \"/home/tabz/tmp/logfiles/MedMaze10/Elig_3_Logs/\"\n",
    "# directories =  [\"{}/{}\".format(dropbox_direc, \"Maze_5_Logs/\")] + 3 * [\"{}/{}\".format(dropbox_direc, \"Maze_5_Batch_Sizes_Logs/\")] \n",
    "# directories += [direc + \"/BanditLogs/\"] * 3\n",
    "directories = direc\n",
    "    \n",
    "print(names)\n",
    "print(t_maxs)\n",
    "print(directories)"
   ]
  },
  {
   "cell_type": "code",
   "execution_count": 19,
   "metadata": {
    "collapsed": false,
    "deletable": true,
    "editable": true
   },
   "outputs": [
    {
     "name": "stdout",
     "output_type": "stream",
     "text": [
      "['Iters_1_', 'Iters_2_', 'Iters_4_', 'Iters_8_', 'Iters_16_']\n",
      "[600001, 600001, 600001, 600001, 600001]\n",
      "/home/tabz/tmp/logfiles/MedMaze10/Iters_Logs/\n"
     ]
    }
   ],
   "source": [
    "names = []\n",
    "legends = []\n",
    "t_maxs = []\n",
    "\n",
    "            \n",
    "# Iterations\n",
    "for i in [1, 2, 4, 8, 16]:\n",
    "    names += [\"Iters_{}_\".format(i)]\n",
    "    legends += [\"{} Iterations\".format(i)]\n",
    "    t_maxs += [600001]\n",
    "            \n",
    "    \n",
    "# direc = \"/home/scratch/tabhid/Log_Files/Xp_Logs/\"\n",
    "direc = \"/home/tabz/tmp/logfiles/MedMaze10/Iters_Logs/\"\n",
    "# directories =  [\"{}/{}\".format(dropbox_direc, \"Maze_5_Logs/\")] + 3 * [\"{}/{}\".format(dropbox_direc, \"Maze_5_Batch_Sizes_Logs/\")] \n",
    "# directories += [direc + \"/BanditLogs/\"] * 3\n",
    "directories = direc\n",
    "    \n",
    "print(names)\n",
    "print(t_maxs)\n",
    "print(directories)"
   ]
  },
  {
   "cell_type": "code",
   "execution_count": 20,
   "metadata": {
    "collapsed": false,
    "deletable": true,
    "editable": true
   },
   "outputs": [
    {
     "name": "stdout",
     "output_type": "stream",
     "text": [
      "['k_CountEps_', 'Trajectory_0.2_', 'Trajectory_0.5_', 'Trajectory_0.75_', 'Trajectory_0.8_', 'Trajectory_0.9_']\n",
      "[600001, 600001, 600001, 600001, 600001, 600001]\n",
      "/home/tabz/tmp/logfiles/MedMaze10/Trajectory_Logs/\n"
     ]
    }
   ],
   "source": [
    "names = []\n",
    "legends = []\n",
    "t_maxs = []\n",
    "\n",
    "names += [\"k_CountEps_\"]\n",
    "legends += [\"No Trajectory\"]\n",
    "t_maxs += [600001]\n",
    "            \n",
    "# Trajectory\n",
    "for t in [0.2, 0.5, 0.75, 0.8, 0.9]:\n",
    "    names += [\"Trajectory_{}_\".format(t)]\n",
    "    legends += [\"Trajectory {} Save\".format(t)]\n",
    "    t_maxs += [600001]\n",
    "            \n",
    "    \n",
    "# direc = \"/home/scratch/tabhid/Log_Files/Xp_Logs/\"\n",
    "direc = \"/home/tabz/tmp/logfiles/MedMaze10/Trajectory_Logs/\"\n",
    "# directories =  [\"{}/{}\".format(dropbox_direc, \"Maze_5_Logs/\")] + 3 * [\"{}/{}\".format(dropbox_direc, \"Maze_5_Batch_Sizes_Logs/\")] \n",
    "# directories += [direc + \"/BanditLogs/\"] * 3\n",
    "directories = direc\n",
    "    \n",
    "print(names)\n",
    "print(t_maxs)\n",
    "print(directories)"
   ]
  },
  {
   "cell_type": "code",
   "execution_count": 21,
   "metadata": {
    "collapsed": false,
    "deletable": true,
    "editable": true
   },
   "outputs": [
    {
     "name": "stdout",
     "output_type": "stream",
     "text": [
      "['XpSize_30k*CountDecay_0.9999', 'XpSize_30k*CountDecay_0.999999', 'XpSize_30k*CountDecay_1', 'XpSize_60k*CountDecay_0.9999', 'XpSize_60k*CountDecay_0.999999', 'XpSize_60k*CountDecay_1', 'XpSize_100k*CountDecay_0.9999', 'XpSize_100k*CountDecay_0.999999', 'XpSize_100k*CountDecay_1']\n",
      "[600001, 600001, 600001, 600001, 600001, 600001, 600001, 600001, 600001]\n",
      "/home/tabz/tmp/logfiles/CountXpSort/\n"
     ]
    }
   ],
   "source": [
    "names = []\n",
    "legends = []\n",
    "t_maxs = []\n",
    "          \n",
    "# Count Xp Sort\n",
    "for xp in [30, 60, 100]:\n",
    "    for decay in [0.9999, 0.999999, 1]:\n",
    "        names += [\"XpSize_{}k*CountDecay_{}\".format(xp, decay)]\n",
    "        legends += [\"CountXp Sort {}k Xp {} CountDecay\".format(xp, decay)]\n",
    "        t_maxs += [600001]\n",
    "            \n",
    "    \n",
    "# direc = \"/home/scratch/tabhid/Log_Files/Xp_Logs/\"\n",
    "direc = \"/home/tabz/tmp/logfiles/CountXpSort/\"\n",
    "# directories =  [\"{}/{}\".format(dropbox_direc, \"Maze_5_Logs/\")] + 3 * [\"{}/{}\".format(dropbox_direc, \"Maze_5_Batch_Sizes_Logs/\")] \n",
    "# directories += [direc + \"/BanditLogs/\"] * 3\n",
    "directories = direc\n",
    "    \n",
    "print(names)\n",
    "print(t_maxs)\n",
    "print(directories)"
   ]
  },
  {
   "cell_type": "code",
   "execution_count": 22,
   "metadata": {
    "collapsed": false,
    "deletable": true,
    "editable": true
   },
   "outputs": [
    {
     "name": "stdout",
     "output_type": "stream",
     "text": [
      "['OptimisticAction_0.1', 'OptimisticAction_1', 'OptimisticAction_10', 'k_CountEps']\n",
      "[600001, 600001, 600001, 600001]\n",
      "/home/tabz/tmp/logfiles/MedMaze12/\n"
     ]
    }
   ],
   "source": [
    "names = []\n",
    "legends = []\n",
    "t_maxs = []\n",
    "          \n",
    "# MedMaze12\n",
    "\n",
    "#Bandits\n",
    "for os in [0.1, 1, 10]:\n",
    "    names += [\"OptimisticAction_{}\".format(os)]\n",
    "    legends += [\"Bandit {} Scaler\".format(os)]\n",
    "    t_maxs += [600001]\n",
    "    \n",
    "# #-ve reward\n",
    "# for nr in [0.5, 0.7]:\n",
    "#     names += [\"NegativeReward_{}\".format(nr)]\n",
    "#     legends += [\"Negative Reward {}\".format(nr)]\n",
    "#     t_maxs += [600001]\n",
    "    \n",
    "#CountXp\n",
    "names += [\"k_CountEps\"]\n",
    "legends += [\"Counts\"]\n",
    "t_maxs += [600001]\n",
    "            \n",
    "    \n",
    "# direc = \"/home/scratch/tabhid/Log_Files/Xp_Logs/\"\n",
    "direc = \"/home/tabz/tmp/logfiles/MedMaze12/\"\n",
    "# directories =  [\"{}/{}\".format(dropbox_direc, \"Maze_5_Logs/\")] + 3 * [\"{}/{}\".format(dropbox_direc, \"Maze_5_Batch_Sizes_Logs/\")] \n",
    "# directories += [direc + \"/BanditLogs/\"] * 3\n",
    "directories = direc\n",
    "    \n",
    "print(names)\n",
    "print(t_maxs)\n",
    "print(directories)"
   ]
  },
  {
   "cell_type": "code",
   "execution_count": 23,
   "metadata": {
    "collapsed": false,
    "deletable": true,
    "editable": true
   },
   "outputs": [
    {
     "name": "stdout",
     "output_type": "stream",
     "text": [
      "['k_CountEps*Stale_50k', 'Prioritized*Stale_50k', 'Prioritized_IS*Stale_50k', 'k_CountEps*Stale_300k', 'Prioritized*Stale_300k', 'Prioritized_IS*Stale_300k']\n",
      "[600001, 600001, 600001, 600001, 600001, 600001]\n",
      "/home/tabz/tmp/logfiles/Prioritized_Logs/\n"
     ]
    }
   ],
   "source": [
    "names = []\n",
    "legends = []\n",
    "t_maxs = []\n",
    "          \n",
    "# Prioritized replay stuff\n",
    "for fresh in [50, 300]:\n",
    "    for p in [None, \"P\", \"P_IS\"]:\n",
    "        if p is \"P\":\n",
    "            names += [\"Prioritized*Stale_{}k\".format(fresh)]\n",
    "            legends += [\"Prioritized {}k Fresh Counts\".format(fresh)]\n",
    "        elif p is \"P_IS\":\n",
    "            names += [\"Prioritized_IS*Stale_{}k\".format(fresh)]\n",
    "            legends += [\"Prioritized IS {}k Fresh Counts\".format(fresh)]\n",
    "        else:\n",
    "            names += [\"k_CountEps*Stale_{}k\".format(fresh)]\n",
    "            legends += [\"{}k Fresh Counts\".format(fresh)]\n",
    "        t_maxs += [600001]\n",
    "    \n",
    "direc = \"/home/tabz/tmp/logfiles/Prioritized_Logs/\"\n",
    "env = \"Med Maze 10\"\n",
    "directories = direc\n",
    "    \n",
    "print(names)\n",
    "print(t_maxs)\n",
    "print(directories)"
   ]
  },
  {
   "cell_type": "code",
   "execution_count": 24,
   "metadata": {
    "collapsed": false,
    "deletable": true,
    "editable": true
   },
   "outputs": [
    {
     "name": "stdout",
     "output_type": "stream",
     "text": [
      "['_0.1_Mix', '_0.3_Mix', '_0.5_Mix', '_0.7_Mix', '_0.9_Mix']\n",
      "[600001, 600001, 600001, 600001, 600001]\n",
      "/home/tabz/tmp/logfiles/Mixing_Logs/\n"
     ]
    }
   ],
   "source": [
    "names = []\n",
    "legends = []\n",
    "t_maxs = []\n",
    "          \n",
    "# Mixing\n",
    "for mix in [0.1, 0.3, 0.5, 0.7, 0.9]:\n",
    "    names += [\"_{}_Mix\".format(mix)]\n",
    "    legends += [\"{} Mixing\".format(mix)]\n",
    "    t_maxs += [600001]\n",
    "    \n",
    "direc = \"/home/tabz/tmp/logfiles/Mixing_Logs/\"\n",
    "directories = direc\n",
    "\n",
    "env =\"Med Maze 10\"\n",
    "    \n",
    "print(names)\n",
    "print(t_maxs)\n",
    "print(directories)"
   ]
  },
  {
   "cell_type": "code",
   "execution_count": 25,
   "metadata": {
    "collapsed": false,
    "deletable": true,
    "editable": true
   },
   "outputs": [
    {
     "name": "stdout",
     "output_type": "stream",
     "text": [
      "['OptimisticAction_0.1', 'OptimisticAction_0.01', 'OptimisticAction_0.001', 'CountEps_0.9999_', 'CountEps_0.999_', 'CountEps_0.99_', 'CountEps_0.9_']\n",
      "[600001, 600001, 600001, 600001, 600001, 600001, 600001]\n",
      "/home/tabz/tmp/logfiles/Frontier_Logs/\n"
     ]
    }
   ],
   "source": [
    "names = []\n",
    "legends = []\n",
    "t_maxs = []\n",
    "          \n",
    "# MedMaze12\n",
    "\n",
    "#Bandits\n",
    "for os in [0.1, 0.01, 0.001]:\n",
    "    names += [\"OptimisticAction_{}\".format(os)]\n",
    "    legends += [\"Bandit {} Scaler\".format(os)]\n",
    "    t_maxs += [600001]\n",
    "    \n",
    "#Epsilon decay\n",
    "for decay in [0.9999, 0.999, 0.99, 0.9]:\n",
    "    names += [\"CountEps_{}_\".format(decay)]\n",
    "    legends += [\"Epsilon Scaling {} Decay\".format(decay)]\n",
    "    t_maxs += [600001]\n",
    "            \n",
    "    \n",
    "direc = \"/home/tabz/tmp/logfiles/Frontier_Logs/\"\n",
    "directories = direc\n",
    "env = \"Med Maze 12\"\n",
    "    \n",
    "print(names)\n",
    "print(t_maxs)\n",
    "print(directories)"
   ]
  },
  {
   "cell_type": "code",
   "execution_count": 26,
   "metadata": {
    "collapsed": false,
    "deletable": true,
    "editable": true
   },
   "outputs": [
    {
     "name": "stdout",
     "output_type": "stream",
     "text": [
      "['NegativeReward_0.1', 'NegativeReward_0.2']\n",
      "[600001, 600001]\n",
      "/home/tabz/tmp/Neg/\n"
     ]
    }
   ],
   "source": [
    "names = []\n",
    "legends = []\n",
    "t_maxs = []\n",
    "          \n",
    "# MedMaze10 Set replay negative reward\n",
    "\n",
    "for neg_reward in [0.1, 0.2]:\n",
    "    names += [\"NegativeReward_{}\".format(neg_reward)]\n",
    "    legends += [\"Negative Reward {} Set Replay\".format(neg_reward)]\n",
    "    t_maxs += [600001]            \n",
    "    \n",
    "direc = \"/home/tabz/tmp/Neg/\"\n",
    "directories = direc\n",
    "env = \"Med Maze 10 Set Replay Negative Reward\"\n",
    "    \n",
    "print(names)\n",
    "print(t_maxs)\n",
    "print(directories)"
   ]
  },
  {
   "cell_type": "code",
   "execution_count": 27,
   "metadata": {
    "collapsed": false,
    "deletable": true,
    "editable": true
   },
   "outputs": [
    {
     "name": "stdout",
     "output_type": "stream",
     "text": [
      "['_10_Step*_SetReplay_5_', '_10_Step*_SetReplay_10_', '_10_Step*_SetReplay_100_', '_100_Step*_SetReplay_5_', '_100_Step*_SetReplay_10_', '_100_Step*_SetReplay_100_']\n",
      "[600001, 600001, 600001, 600001, 600001, 600001]\n",
      "/home/tabz/tmp/logfiles/SetReplayNum/\n"
     ]
    }
   ],
   "source": [
    "names = []\n",
    "legends = []\n",
    "t_maxs = []\n",
    "          \n",
    "# MedMaze10 Set replay \n",
    "\n",
    "for step in [10, 100]:\n",
    "    for replay_num in [5, 10, 100]:\n",
    "        names += [\"_{}_Step*_SetReplay_{}_\".format(step, replay_num)]\n",
    "        legends += [\"{} Step {} SetReplay\".format(step, replay_num)]\n",
    "        t_maxs += [600001]\n",
    "    \n",
    "direc = \"/home/tabz/tmp/logfiles/SetReplayNum/\"\n",
    "directories = direc\n",
    "env = \"Med Maze 10 Set Replay Num\"\n",
    "    \n",
    "print(names)\n",
    "print(t_maxs)\n",
    "print(directories)"
   ]
  },
  {
   "cell_type": "code",
   "execution_count": 28,
   "metadata": {
    "collapsed": false,
    "deletable": true,
    "editable": true
   },
   "outputs": [
    {
     "name": "stdout",
     "output_type": "stream",
     "text": [
      "['k_BonusClip*Stale_50k', 'Prioritized*Stale_50k', 'Prioritized_OnBonus_IS*Stale_50k', 'k_BonusClip*Stale_300k', 'Prioritized*Stale_300k', 'Prioritized_OnBonus_IS*Stale_300k']\n",
      "[800001, 800001, 800001, 800001, 800001, 800001]\n",
      "/home/tabz/tmp/logfiles/Density/\n"
     ]
    }
   ],
   "source": [
    "names = []\n",
    "legends = []\n",
    "t_maxs = []\n",
    "          \n",
    "# Prioritized replay stuff\n",
    "for fresh in [50, 300]:\n",
    "        names += [\"k_BonusClip*Stale_{}k\".format(fresh)]\n",
    "        legends += [\"Uniform {}k Fresh Counts\".format(fresh)]\n",
    "        t_maxs += [800001]\n",
    "        \n",
    "        names += [\"Prioritized*Stale_{}k\".format(fresh)]\n",
    "        legends += [\"Prioritized {}k Fresh Counts\".format(fresh)]\n",
    "        t_maxs += [800001]\n",
    "\n",
    "        names += [\"Prioritized_OnBonus_IS*Stale_{}k\".format(fresh)]\n",
    "        legends += [\"Prioritized IS {}k Fresh Counts\".format(fresh)]\n",
    "        t_maxs += [800001]\n",
    "    \n",
    "direc = \"/home/tabz/tmp/logfiles/Density/\"\n",
    "env = \"Med Maze 10 Prioritized On Density\"\n",
    "directories = direc\n",
    "    \n",
    "print(names)\n",
    "print(t_maxs)\n",
    "print(directories)"
   ]
  },
  {
   "cell_type": "code",
   "execution_count": 29,
   "metadata": {
    "collapsed": false,
    "deletable": true,
    "editable": true
   },
   "outputs": [
    {
     "name": "stdout",
     "output_type": "stream",
     "text": [
      "['k_BonusClip', 'Prioritized_IS', 'Prioritized_MinusPseudo']\n",
      "[800001, 800001, 800001]\n",
      "/home/tabz/tmp/logfiles/MinusPseudo/\n"
     ]
    }
   ],
   "source": [
    "names = []\n",
    "legends = []\n",
    "t_maxs = []\n",
    "          \n",
    "# Prioritized replay stuff musing pseudo rewards\n",
    "\n",
    "names += [\"k_BonusClip\"]\n",
    "legends += [\"Uniform\"]\n",
    "\n",
    "names += [\"Prioritized_IS\"]\n",
    "legends += [\"Prioritised minus pseudo rewards IS\"]\n",
    "\n",
    "names += [\"Prioritized_MinusPseudo\"]\n",
    "legends += [\"Prioritized minus pseudo rewards\"]\n",
    "\n",
    "t_maxs += [800001 for _ in range(3)]\n",
    "    \n",
    "direc = \"/home/tabz/tmp/logfiles/MinusPseudo/\"\n",
    "env = \"Med Maze 10 Prioritized Minus PseudoReward\"\n",
    "directories = direc\n",
    "    \n",
    "print(names)\n",
    "print(t_maxs)\n",
    "print(directories)"
   ]
  },
  {
   "cell_type": "code",
   "execution_count": 30,
   "metadata": {
    "collapsed": false,
    "deletable": true,
    "editable": true
   },
   "outputs": [
    {
     "name": "stdout",
     "output_type": "stream",
     "text": [
      "['Prioritized_-1_MinusPseudo_*Stale_50k', 'Prioritized_1_MinusPseudo_*Stale_50k', 'Prioritized_-1_MinusPseudo_*Stale_300k', 'Prioritized_1_MinusPseudo_*Stale_300k']\n",
      "[800001, 800001, 800001, 800001]\n",
      "/home/tabz/tmp/FixedP/\n"
     ]
    }
   ],
   "source": [
    "names = []\n",
    "legends = []\n",
    "t_maxs = []\n",
    "          \n",
    "# Prioritized replay stuff\n",
    "for fresh in [50, 300]:\n",
    "    for scaler in [-1, 1]:\n",
    "        \n",
    "        names += [\"Prioritized_{}_MinusPseudo_*Stale_{}k\".format(scaler, fresh)]\n",
    "        legends += [\"{} Prioritized {}k Fresh Counts\".format(scaler, fresh)]\n",
    "        t_maxs += [800001]\n",
    "\n",
    "#         names += [\"Prioritized_IS_{}_MinusPseudo_*Stale_{}k\".format(scaler, fresh)]\n",
    "#         legends += [\"{} Prioritized IS {}k Fresh Counts\".format(scaler, fresh)]\n",
    "#         t_maxs += [800001]\n",
    "    \n",
    "direc = \"/home/tabz/tmp/FixedP/\"\n",
    "env = \"Med Maze 10 Prioritized On TD Error Minus Scaled PseudoReward\"\n",
    "directories = direc\n",
    "    \n",
    "print(names)\n",
    "print(t_maxs)\n",
    "print(directories)"
   ]
  },
  {
   "cell_type": "code",
   "execution_count": 31,
   "metadata": {
    "collapsed": false,
    "deletable": true,
    "editable": true
   },
   "outputs": [
    {
     "name": "stdout",
     "output_type": "stream",
     "text": [
      "['XpSize_100k_BonusClip', 'XpSize_100k_Prioritized_Bonus', 'XpSize_100k_Prioritized_IS', 'XpSize_500k_BonusClip', 'XpSize_500k_Prioritized_Bonus', 'XpSize_500k_Prioritized_IS']\n",
      "[1000001, 1000001, 1000001, 1000001, 1000001, 1000001]\n",
      "/home/tabz/tmp/Maze12Baselines/\n"
     ]
    }
   ],
   "source": [
    "names = []\n",
    "legends = []\n",
    "t_maxs = []\n",
    "          \n",
    "# Prioritized replay stuff\n",
    "for xp in [100, 500]:\n",
    "        names += [\"XpSize_{}k_BonusClip\".format(xp)]\n",
    "        legends += [\"Uniform {}k XP\".format(xp)]\n",
    "        t_maxs += [1000001]\n",
    "        \n",
    "        names += [\"XpSize_{}k_Prioritized_Bonus\".format(xp)]\n",
    "        legends += [\"Prioritized {}k XP\".format(xp)]\n",
    "        t_maxs += [1000001]\n",
    "\n",
    "        names += [\"XpSize_{}k_Prioritized_IS\".format(xp)]\n",
    "        legends += [\"Prioritized IS {}k XP\".format(xp)]\n",
    "        t_maxs += [1000001]\n",
    "    \n",
    "direc = \"/home/tabz/tmp/Maze12Baselines/\"\n",
    "env = \"Med Maze 12\"\n",
    "directories = direc\n",
    "    \n",
    "print(names)\n",
    "print(t_maxs)\n",
    "print(directories)"
   ]
  },
  {
   "cell_type": "code",
   "execution_count": 32,
   "metadata": {
    "collapsed": false,
    "deletable": true,
    "editable": true
   },
   "outputs": [
    {
     "name": "stdout",
     "output_type": "stream",
     "text": [
      "['XpSize_100k_Prioritized_0_NScaler_', 'XpSize_100k_Prioritized_1.5_NScaler_', 'XpSize_100k_Prioritized_-1.5_NScaler_', 'XpSize_500k_Prioritized_0_NScaler_', 'XpSize_500k_Prioritized_1.5_NScaler_', 'XpSize_500k_Prioritized_-1.5_NScaler_']\n",
      "[1000001, 1000001, 1000001, 1000001, 1000001, 1000001]\n",
      "/home/tabz/tmp/Maze12Prioritized/\n"
     ]
    }
   ],
   "source": [
    "names = []\n",
    "legends = []\n",
    "t_maxs = []\n",
    "          \n",
    "# Prioritized replay stuff\n",
    "for xp in [100, 500]:\n",
    "    for nscaler in [0, 1.5, -1.5]:\n",
    "        names += [\"XpSize_{}k_Prioritized_{}_NScaler_\".format(xp, nscaler)]\n",
    "        legends += [\"Prioritized {}k XP {} NScaler\".format(xp, nscaler)]\n",
    "        t_maxs += [1000001]\n",
    "    \n",
    "direc = \"/home/tabz/tmp/Maze12Prioritized/\"\n",
    "env = \"Med Maze 12 50k Fresh Counts Negative TD Error Scaling\"\n",
    "directories = direc\n",
    "    \n",
    "print(names)\n",
    "print(t_maxs)\n",
    "print(directories)"
   ]
  },
  {
   "cell_type": "code",
   "execution_count": 33,
   "metadata": {
    "collapsed": false
   },
   "outputs": [
    {
     "name": "stdout",
     "output_type": "stream",
     "text": [
      "['DensityP_BonusClip', 'DensityP_IS_BonusClip']\n",
      "[800001, 800001]\n",
      "/home/scratch/tabhid/Log_Files/DensityP/\n"
     ]
    }
   ],
   "source": [
    "names = []\n",
    "legends = []\n",
    "t_maxs = []\n",
    "          \n",
    "# Density Prioritization\n",
    "names += [\"DensityP_BonusClip\"]\n",
    "legends += [\"DensityP\"]\n",
    "t_maxs += [800001]\n",
    "\n",
    "names += [\"DensityP_IS_BonusClip\"]\n",
    "legends += [\"DensityP IS\"]\n",
    "t_maxs += [800001]\n",
    "    \n",
    "direc = \"/home/scratch/tabhid/Log_Files/DensityP/\"\n",
    "env = \"Med Maze 10 50k Fresh Counts Density Prioritization\"\n",
    "directories = direc\n",
    "    \n",
    "print(names)\n",
    "print(t_maxs)\n",
    "print(directories)"
   ]
  },
  {
   "cell_type": "code",
   "execution_count": 34,
   "metadata": {
    "collapsed": false
   },
   "outputs": [
    {
     "name": "stdout",
     "output_type": "stream",
     "text": [
      "['_0.1_Alpha', '_0.3_Alpha', '_0.5_Alpha', '_0.7_Alpha', '_0.9_Alpha']\n",
      "[800001, 800001, 800001, 800001, 800001]\n",
      "/home/scratch/tabhid/Log_Files/Alpha/\n"
     ]
    }
   ],
   "source": [
    "names = []\n",
    "legends = []\n",
    "t_maxs = []\n",
    "          \n",
    "# Prioritized replay alpha\n",
    "for alpha in [0.1, 0.3, 0.5, 0.7, 0.9]:\n",
    "    names += [\"_{}_Alpha\".format(alpha)]\n",
    "    legends += [\"{} Alpha\".format(alpha)]\n",
    "    t_maxs += [800001]\n",
    "    \n",
    "direc = \"/home/scratch/tabhid/Log_Files/Alpha/\"\n",
    "env = \"Med Maze 10 50k Fresh Counts 1.5 NScaler Alpha\"\n",
    "directories = direc\n",
    "    \n",
    "print(names)\n",
    "print(t_maxs)\n",
    "print(directories)"
   ]
  },
  {
   "cell_type": "code",
   "execution_count": 37,
   "metadata": {
    "collapsed": false
   },
   "outputs": [
    {
     "name": "stdout",
     "output_type": "stream",
     "text": [
      "['XpSize_100k_*_0.5_NScaler_*Stale_50k_', 'XpSize_100k_*_0.5_NScaler_*Stale_500k_', 'XpSize_100k_*_2_NScaler_*Stale_50k_', 'XpSize_100k_*_2_NScaler_*Stale_500k_', 'XpSize_500k_*_0.5_NScaler_*Stale_50k_', 'XpSize_500k_*_0.5_NScaler_*Stale_500k_', 'XpSize_500k_*_2_NScaler_*Stale_50k_', 'XpSize_500k_*_2_NScaler_*Stale_500k_']\n",
      "[1000001, 1000001, 1000001, 1000001, 1000001, 1000001, 1000001, 1000001]\n",
      "/home/tabz/tmp/Maze12Alpha/\n",
      "\n",
      " 8 Lines\n"
     ]
    }
   ],
   "source": [
    "names = []\n",
    "legends = []\n",
    "t_maxs = []\n",
    "          \n",
    "# Prioritized replay stuff\n",
    "for xp in [100, 500]:\n",
    "    for nscaler in [0.5, 2]:\n",
    "        for fresh in [50, 500]:\n",
    "            names += [\"XpSize_{}k_*_{}_NScaler_*Stale_{}k_\".format(xp, nscaler, fresh)]\n",
    "            legends += [\"Prioritized {}k XP {} NScaler {}k Fresh\".format(xp, nscaler, fresh)]\n",
    "            t_maxs += [1000001]\n",
    "    \n",
    "direc = \"/home/tabz/tmp/Maze12Alpha/\"\n",
    "env = \"Med Maze 12 50k Negative TD Error Scaling Alpha 0.5\"\n",
    "directories = direc\n",
    "    \n",
    "print(names)\n",
    "print(t_maxs)\n",
    "print(directories)\n",
    "print(\"\\n\", \"{} Lines\".format(len(names)))"
   ]
  },
  {
   "cell_type": "code",
   "execution_count": 42,
   "metadata": {
    "collapsed": false
   },
   "outputs": [
    {
     "name": "stdout",
     "output_type": "stream",
     "text": [
      "['_0.3_Alpha*Stale_50k_', '_0.3_Alpha*Stale_500k_', '_0.5_Alpha*Stale_50k_', '_0.5_Alpha*Stale_500k_']\n",
      "[1000001, 1000001, 1000001, 1000001]\n",
      "/home/tabz/tmp/Maze12_Prioritized_Alpha//\n",
      "\n",
      " 4 Lines\n"
     ]
    }
   ],
   "source": [
    "names = []\n",
    "legends = []\n",
    "t_maxs = []\n",
    "          \n",
    "# Prioritized replay stuff\n",
    "for alpha in [0.3, 0.5]:\n",
    "    for fresh in [50, 500]:\n",
    "        names += [\"_{}_Alpha*Stale_{}k_\".format(alpha, fresh)]\n",
    "        legends += [\"Prioritized {} Alpha {}k Fresh\".format(alpha, fresh)]\n",
    "        t_maxs += [1000001]\n",
    "    \n",
    "direc = \"/home/tabz/tmp/Maze12_Prioritized_Alpha//\"\n",
    "env = \"Med Maze 12 Alpha 500k Replay\"\n",
    "directories = direc\n",
    "    \n",
    "print(names)\n",
    "print(t_maxs)\n",
    "print(directories)\n",
    "print(\"\\n\", \"{} Lines\".format(len(names)))"
   ]
  },
  {
   "cell_type": "code",
   "execution_count": 97,
   "metadata": {
    "collapsed": false
   },
   "outputs": [
    {
     "name": "stdout",
     "output_type": "stream",
     "text": [
      "['_100_Step*_1_NScaler', '_100_Step*_2_NScaler', '_100_Step*_4_NScaler', '_100_Step*_8_NScaler']\n",
      "[600001, 600001, 600001, 600001]\n",
      "/home/tabz/tmp/Maze14_Nscaling/\n",
      "\n",
      " 4 Lines\n"
     ]
    }
   ],
   "source": [
    "names = []\n",
    "legends = []\n",
    "t_maxs = []\n",
    "          \n",
    "# Prioritized replay stuff\n",
    "for step in [100]:\n",
    "    for nscaler in [1, 2, 4, 8]:\n",
    "        names += [\"_{}_Step*_{}_NScaler\".format(step, nscaler)]\n",
    "        legends += [\"{} Step {} Nscaling\".format(step, nscaler)]\n",
    "        t_maxs += [600001]\n",
    "    \n",
    "direc = \"/home/tabz/tmp/Maze14_Nscaling/\"\n",
    "env = \"Med Maze 14 Prioritized 300k XP Replay Stale\"\n",
    "directories = direc\n",
    "    \n",
    "print(names)\n",
    "print(t_maxs)\n",
    "print(directories)\n",
    "print(\"\\n\", \"{} Lines\".format(len(names)))"
   ]
  },
  {
   "cell_type": "code",
   "execution_count": 72,
   "metadata": {
    "collapsed": false
   },
   "outputs": [
    {
     "name": "stdout",
     "output_type": "stream",
     "text": [
      "['_OptimisticAction_']\n",
      "[600001]\n",
      "/home/tabz/tmp/Maze14_Frontier/\n",
      "\n",
      " 1 Lines\n"
     ]
    }
   ],
   "source": [
    "names = []\n",
    "legends = []\n",
    "t_maxs = []\n",
    "          \n",
    "# Prioritized replay stuff\n",
    "for eps_decay in [0.9, 0.99, 0.999]:\n",
    "    names += [\"_CountEps_{}_Decay\".format(eps_decay)]\n",
    "    legends += [\"{} Eps Decay\".format(eps_decay)]\n",
    "    t_maxs += [600001]\n",
    "    \n",
    "names += [\"_OptimisticAction_\"]\n",
    "legends += [\"0.1 Bandit\"]\n",
    "t_maxs += [600001]\n",
    "    \n",
    "direc = \"/home/tabz/tmp/Maze14_Frontier/\"\n",
    "env = \"Med Maze 14 Prioritized 300k XP Replay Stale Frontier\"\n",
    "directories = direc\n",
    "    \n",
    "print(names)\n",
    "print(t_maxs)\n",
    "print(directories)\n",
    "print(\"\\n\", \"{} Lines\".format(len(names)))"
   ]
  },
  {
   "cell_type": "code",
   "execution_count": 128,
   "metadata": {
    "collapsed": false
   },
   "outputs": [
    {
     "name": "stdout",
     "output_type": "stream",
     "text": [
      "['_0.1_Alpha_16_NScaler*_OptimisticAction_', '_0.1_Alpha_16_NScaler*_CountEps_', '_0.3_Alpha_16_NScaler*_OptimisticAction_', '_0.3_Alpha_16_NScaler*_CountEps_', '_0.5_Alpha_16_NScaler*_OptimisticAction_', '_0.5_Alpha_16_NScaler*_CountEps_']\n",
      "[600001, 600001, 600001, 600001, 600001, 600001]\n",
      "/home/tabz/tmp/Maze14_Bandit/\n",
      "\n",
      " 6 Lines\n"
     ]
    }
   ],
   "source": [
    "names = []\n",
    "legends = []\n",
    "t_maxs = []\n",
    "          \n",
    "# Prioritized replay stuff\n",
    "for alpha in [0.1, 0.3, 0.5]:\n",
    "    for nscaler in [16]:\n",
    "        for bandit in [True, False]:\n",
    "            \n",
    "            if not bandit:\n",
    "                names += [\"_{}_Alpha_{}_NScaler*_CountEps_\".format(alpha, nscaler)]\n",
    "                legends += [\"{} Alpha {} NScaler Epsilon\".format(alpha, nscaler)]\n",
    "                t_maxs += [600001]\n",
    "            elif bandit:\n",
    "                names += [\"_{}_Alpha_{}_NScaler*_OptimisticAction_\".format(alpha, nscaler)]\n",
    "                legends += [\"{} Alpha {} NScaler 0.1 Bandit\".format(alpha, nscaler)]\n",
    "                t_maxs += [600001]\n",
    "    \n",
    "direc = \"/home/tabz/tmp/Maze14_Bandit/\"\n",
    "env = \"Med Maze 14 Prioritized 300k XP Replay Stale Frontier\"\n",
    "directories = direc\n",
    "    \n",
    "print(names)\n",
    "print(t_maxs)\n",
    "print(directories)\n",
    "print(\"\\n\", \"{} Lines\".format(len(names)))"
   ]
  },
  {
   "cell_type": "code",
   "execution_count": 129,
   "metadata": {
    "collapsed": true,
    "deletable": true,
    "editable": true
   },
   "outputs": [],
   "source": [
    "import itertools"
   ]
  },
  {
   "cell_type": "code",
   "execution_count": 130,
   "metadata": {
    "collapsed": false,
    "deletable": true,
    "editable": true
   },
   "outputs": [],
   "source": [
    "from bokeh.palettes import magma, inferno, Set1, Set3, Paired, Dark2"
   ]
  },
  {
   "cell_type": "code",
   "execution_count": 131,
   "metadata": {
    "collapsed": false,
    "deletable": true,
    "editable": true
   },
   "outputs": [],
   "source": [
    "if len(names) <= 2:\n",
    "    colours = [\"red\", \"green\"]\n",
    "elif len(names) > 10:\n",
    "    colours = Paired[len(names)]\n",
    "else:\n",
    "    colours = Set1[len(names)]"
   ]
  },
  {
   "cell_type": "code",
   "execution_count": 132,
   "metadata": {
    "collapsed": false,
    "deletable": true,
    "editable": true
   },
   "outputs": [
    {
     "data": {
      "text/html": [
       "\n",
       "\n",
       "    <div class=\"bk-root\">\n",
       "        <div class=\"bk-plotdiv\" id=\"bb8e44f7-9d04-4227-8de6-19019959226e\"></div>\n",
       "    </div>\n",
       "<script type=\"text/javascript\">\n",
       "  \n",
       "  (function(global) {\n",
       "    function now() {\n",
       "      return new Date();\n",
       "    }\n",
       "  \n",
       "    var force = false;\n",
       "  \n",
       "    if (typeof (window._bokeh_onload_callbacks) === \"undefined\" || force === true) {\n",
       "      window._bokeh_onload_callbacks = [];\n",
       "      window._bokeh_is_loading = undefined;\n",
       "    }\n",
       "  \n",
       "  \n",
       "    \n",
       "    if (typeof (window._bokeh_timeout) === \"undefined\" || force === true) {\n",
       "      window._bokeh_timeout = Date.now() + 0;\n",
       "      window._bokeh_failed_load = false;\n",
       "    }\n",
       "  \n",
       "    var NB_LOAD_WARNING = {'data': {'text/html':\n",
       "       \"<div style='background-color: #fdd'>\\n\"+\n",
       "       \"<p>\\n\"+\n",
       "       \"BokehJS does not appear to have successfully loaded. If loading BokehJS from CDN, this \\n\"+\n",
       "       \"may be due to a slow or bad network connection. Possible fixes:\\n\"+\n",
       "       \"</p>\\n\"+\n",
       "       \"<ul>\\n\"+\n",
       "       \"<li>re-rerun `output_notebook()` to attempt to load from CDN again, or</li>\\n\"+\n",
       "       \"<li>use INLINE resources instead, as so:</li>\\n\"+\n",
       "       \"</ul>\\n\"+\n",
       "       \"<code>\\n\"+\n",
       "       \"from bokeh.resources import INLINE\\n\"+\n",
       "       \"output_notebook(resources=INLINE)\\n\"+\n",
       "       \"</code>\\n\"+\n",
       "       \"</div>\"}};\n",
       "  \n",
       "    function display_loaded() {\n",
       "      if (window.Bokeh !== undefined) {\n",
       "        document.getElementById(\"bb8e44f7-9d04-4227-8de6-19019959226e\").textContent = \"BokehJS successfully loaded.\";\n",
       "      } else if (Date.now() < window._bokeh_timeout) {\n",
       "        setTimeout(display_loaded, 100)\n",
       "      }\n",
       "    }\n",
       "  \n",
       "    function run_callbacks() {\n",
       "      window._bokeh_onload_callbacks.forEach(function(callback) { callback() });\n",
       "      delete window._bokeh_onload_callbacks\n",
       "      console.info(\"Bokeh: all callbacks have finished\");\n",
       "    }\n",
       "  \n",
       "    function load_libs(js_urls, callback) {\n",
       "      window._bokeh_onload_callbacks.push(callback);\n",
       "      if (window._bokeh_is_loading > 0) {\n",
       "        console.log(\"Bokeh: BokehJS is being loaded, scheduling callback at\", now());\n",
       "        return null;\n",
       "      }\n",
       "      if (js_urls == null || js_urls.length === 0) {\n",
       "        run_callbacks();\n",
       "        return null;\n",
       "      }\n",
       "      console.log(\"Bokeh: BokehJS not loaded, scheduling load and callback at\", now());\n",
       "      window._bokeh_is_loading = js_urls.length;\n",
       "      for (var i = 0; i < js_urls.length; i++) {\n",
       "        var url = js_urls[i];\n",
       "        var s = document.createElement('script');\n",
       "        s.src = url;\n",
       "        s.async = false;\n",
       "        s.onreadystatechange = s.onload = function() {\n",
       "          window._bokeh_is_loading--;\n",
       "          if (window._bokeh_is_loading === 0) {\n",
       "            console.log(\"Bokeh: all BokehJS libraries loaded\");\n",
       "            run_callbacks()\n",
       "          }\n",
       "        };\n",
       "        s.onerror = function() {\n",
       "          console.warn(\"failed to load library \" + url);\n",
       "        };\n",
       "        console.log(\"Bokeh: injecting script tag for BokehJS library: \", url);\n",
       "        document.getElementsByTagName(\"head\")[0].appendChild(s);\n",
       "      }\n",
       "    };var element = document.getElementById(\"bb8e44f7-9d04-4227-8de6-19019959226e\");\n",
       "    if (element == null) {\n",
       "      console.log(\"Bokeh: ERROR: autoload.js configured with elementid 'bb8e44f7-9d04-4227-8de6-19019959226e' but no matching script tag was found. \")\n",
       "      return false;\n",
       "    }\n",
       "  \n",
       "    var js_urls = [];\n",
       "  \n",
       "    var inline_js = [\n",
       "      function(Bokeh) {\n",
       "        (function() {\n",
       "          var fn = function() {\n",
       "            var docs_json = {\"0d02374d-822a-46a0-8ec9-ddd689db4f25\":{\"roots\":{\"references\":[{\"attributes\":{\"plot\":{\"id\":\"fe2c2587-4a9e-4190-a790-8d75e318f62a\",\"subtype\":\"Figure\",\"type\":\"Plot\"}},\"id\":\"1406c8d0-203a-4d63-8df1-2cb6a2d16949\",\"type\":\"HelpTool\"},{\"attributes\":{\"line_color\":{\"value\":\"#ff7f00\"},\"line_width\":{\"value\":2},\"x\":{\"field\":\"x\"},\"y\":{\"field\":\"y\"}},\"id\":\"2afa08b0-e8e2-40e5-9e99-0665103f0f8f\",\"type\":\"Line\"},{\"attributes\":{\"bottom_units\":\"screen\",\"fill_alpha\":{\"value\":0.5},\"fill_color\":{\"value\":\"lightgrey\"},\"left_units\":\"screen\",\"level\":\"overlay\",\"line_alpha\":{\"value\":1.0},\"line_color\":{\"value\":\"black\"},\"line_dash\":[4,4],\"line_width\":{\"value\":2},\"plot\":null,\"render_mode\":\"css\",\"right_units\":\"screen\",\"top_units\":\"screen\"},\"id\":\"ed02852a-5611-4edb-911a-13b66e6c61ee\",\"type\":\"BoxAnnotation\"},{\"attributes\":{\"line_alpha\":{\"value\":0.1},\"line_color\":{\"value\":\"#1f77b4\"},\"line_width\":{\"value\":2},\"x\":{\"field\":\"x\"},\"y\":{\"field\":\"y\"}},\"id\":\"b65bac1e-5985-4081-9dc5-b598b7b38e7f\",\"type\":\"Line\"},{\"attributes\":{\"line_color\":{\"value\":\"#4daf4a\"},\"line_width\":{\"value\":2},\"x\":{\"field\":\"x\"},\"y\":{\"field\":\"y\"}},\"id\":\"38b40588-f86d-4367-854b-1f3e61480ffc\",\"type\":\"Line\"},{\"attributes\":{\"data_source\":{\"id\":\"9d8991ff-927f-4694-a6ca-66e82f837ff8\",\"type\":\"ColumnDataSource\"},\"glyph\":{\"id\":\"38b40588-f86d-4367-854b-1f3e61480ffc\",\"type\":\"Line\"},\"hover_glyph\":null,\"nonselection_glyph\":{\"id\":\"cf5260b4-5b28-49f2-ba0f-414a081d327a\",\"type\":\"Line\"},\"selection_glyph\":null},\"id\":\"21067fbc-e07e-4112-8e5a-f74123406b9f\",\"type\":\"GlyphRenderer\"},{\"attributes\":{},\"id\":\"35346bee-9b4f-44ff-a390-c112140ecd7c\",\"type\":\"BasicTickFormatter\"},{\"attributes\":{\"callback\":null,\"column_names\":[\"x\",\"y\"],\"data\":{\"x\":[0,1000,2000,3000,4000,5000,6000,7000,8000,9000,10000,11000,12000,13000,14000,15000,16000,17000,18000,19000,20000,21000,22000,23000,24000,25000,26000,27000,28000,29000,30000,31000,32000,33000,34000,35000,36000,37000,38000,39000,40000,41000,42000,43000,44000,45000,46000,47000,48000,49000,50000,51000,52000,53000,54000,55000,56000,57000,58000,59000,60000,61000,62000,63000,64000,65000,66000,67000,68000,69000,70000,71000,72000,73000,74000,75000,76000,77000,78000,79000,80000,81000,82000,83000,84000,85000,86000,87000,88000,89000,90000,91000,92000,93000,94000,95000,96000,97000,98000,99000,100000,101000,102000,103000,104000,105000,106000,107000,108000,109000,110000,111000,112000,113000,114000,115000,116000,117000,118000,119000,120000,121000,122000,123000,124000,125000,126000,127000,128000,129000,130000,131000,132000,133000,134000,135000,136000,137000,138000,139000,140000,141000,142000,143000,144000,145000,146000,147000,148000,149000,150000,151000,152000,153000,154000,155000,156000,157000,158000,159000,160000,161000,162000,163000,164000,165000,166000,167000,168000,169000,170000,171000,172000,173000,174000,175000,176000,177000,178000,179000,180000,181000,182000,183000,184000,185000,186000,187000,188000,189000,190000,191000,192000,193000,194000,195000,196000,197000,198000,199000,200000,201000,202000,203000,204000,205000,206000,207000,208000,209000,210000,211000,212000,213000,214000,215000,216000,217000,218000,219000,220000,221000,222000,223000,224000,225000,226000,227000,228000,229000,230000,231000,232000,233000,234000,235000,236000,237000,238000,239000,240000,241000,242000,243000,244000,245000,246000,247000,248000,249000,250000,251000,252000,253000,254000,255000,256000,257000,258000,259000,260000,261000,262000,263000,264000,265000,266000,267000,268000,269000,270000,271000,272000,273000,274000,275000,276000,277000,278000,279000,280000,281000,282000,283000,284000,285000,286000,287000,288000,289000,290000,291000,292000,293000,294000,295000,296000,297000,298000,299000,300000,301000,302000,303000,304000,305000,306000,307000,308000,309000,310000,311000,312000,313000,314000,315000,316000,317000,318000,319000,320000,321000,322000,323000,324000,325000,326000,327000,328000,329000,330000,331000,332000,333000,334000,335000,336000,337000,338000,339000,340000,341000,342000,343000,344000,345000,346000,347000,348000,349000,350000,351000,352000,353000,354000,355000,356000,357000,358000,359000,360000,361000,362000,363000,364000,365000,366000,367000,368000,369000,370000,371000,372000,373000,374000,375000,376000,377000,378000,379000,380000,381000,382000,383000,384000,385000,386000,387000,388000,389000,390000,391000,392000,393000,394000,395000,396000,397000,398000,399000,400000,401000,402000,403000,404000,405000,406000,407000,408000,409000,410000,411000,412000,413000,414000,415000,416000,417000,418000,419000,420000,421000,422000,423000,424000,425000,426000,427000,428000,429000,430000,431000,432000,433000,434000,435000,436000,437000,438000,439000,440000,441000,442000,443000,444000,445000,446000,447000,448000,449000,450000,451000,452000,453000,454000,455000,456000,457000,458000,459000,460000,461000,462000,463000,464000,465000,466000,467000,468000,469000,470000,471000,472000,473000,474000,475000,476000,477000,478000,479000,480000,481000,482000,483000,484000,485000,486000,487000,488000,489000,490000,491000,492000,493000,494000,495000,496000,497000,498000,499000,500000,501000,502000,503000,504000,505000,506000,507000,508000,509000,510000,511000,512000,513000,514000,515000,516000,517000,518000,519000,520000,521000,522000,523000,524000,525000,526000,527000,528000,529000,530000,531000,532000,533000,534000,535000,536000,537000,538000,539000,540000,541000,542000,543000,544000,545000,546000,547000,548000,549000,550000,551000,552000,553000,554000,555000,556000,557000,558000,559000,560000,561000,562000,563000,564000,565000,566000,567000,568000,569000,570000,571000,572000,573000,574000,575000,576000,577000,578000,579000,580000,581000,582000,583000,584000,585000,586000,587000,588000,589000,590000,591000,592000,593000,594000,595000,596000,597000,598000,599000,600000],\"y\":{\"__ndarray__\":\"AAAAAAAAAAAAAAAAAAAAAAAAAAAAAAAAAAAAAAAAAAAAAAAAAAAAAAAAAAAAAAAAAAAAAAAAAAAAAAAAAAAAAAAAAAAAAAAAAAAAAAAAAAAAAAAAAAAAAAAAAAAAAAAAAAAAAAAAAAAAAAAAAAAAAAAAAAAAAAAAAAAAAAAAAAAAAAAAAAAAAAAAAAAAAAAAAAAAAAAAAAAAAAAAAAAAAAAAAAAAAAAAAAAAAAAAAAAAAAAAAAAAAAAAAAAAAAAAAAAAAAAAAAAAAAAAAAAAAAAAAAAAAAAAAAAAAAAAAAAAAAAAAAAAAAAAAAAAAAAAAAAAAAAAAAAAAAAAAAAAAAAAAAAAAAAAAAAAAAAAAAAAAAAAAAAAAAAAAAAAAAAAAAAAAAAAAAAAAAAAAAAAAAAAAAAAAAAAAAAAAAAAAAAAAAAAAAAAAAAAAAAAAAAAAAAAAAAAAAAAAAAAAAAAAAAAAAAAAAAAAAAAAAAAAAAAAAAAAAAAAAAAAAAAAAAAAAAAAAAAAAAAAAAAAAAAAAAAAAAAAAAAAAAAAAAAAAAAAAAAAAAAAAAAAAAAAAAAAAAAAAAAAAAAAAAAAAAAAAAAAAAAAAAAAAAAAAAAAAAAAAAAAAAAAAAAAAAAAAAAAAAAAAAAAAAAAAAAAAAAAAAAAAAAAAAAAAAAAAAAAAAAAAAAAAAAAAAAAAAAAAAAAAAAAAAAAAAAAAAAAAAAAAAAAAAAAAAAAAAAAAAAAAAAAAAAAAAAAAAAAAAAAAAAAAAAAAAAAAAAAAAAAAAAAAAAAAAAAAAAAAAAAAAAAAAAAAAAAAAAAAAAAAAAAAAAAAAAAAAAAAAAAAAAAAAAAAAAAAAAAAAAAAAAAAAAAAAAAAAAAAAAAAAAAAAAAAAAAAAAAAAAAAAAAAAAAAAAAAAAAAAAAAAAAAAAAAAAAAAAAAAAAAAAAAAAAAAAAAAAAAAAAAAAAAAAAAAAAAAAAAAAAAAAAAAAAAAAAAAAAAAAAAAAAAAAAAAAAAAAAAAAAAAAAAAAAAAAAAAAAAAAAAAAAAAAAAAAAAAAAAAAAAAAAAAAAAAAAAAAAAAAAAAAAAAAAAAAAAAAAAAAAAAAAAAAAAAAAAAAAAAAAAAAAAAAAAAAAAAAAAAAAAAAAAAAAAAAAAAAAAAAAAAAAAAAAAAAAAAAAAAAAAAAAAAAAAAAAAAAAAAAAAAAAAAAAAAAAAAAAAAAAAAAAAAAAAAAAAAAAAAAAAAAAAAAAAAAAAAAAAAAAAAAAAAAAAAAAAAAAAAAAAAAAAAAAAAAAAAAAAAAAAAAAAAAAAAAAAAAAAAAAAAAAAAAAAAAAAAAAAAAAAAAAAAAAAAAAAAAAAAAAAAAAAAAAAAAAAAAAAAAAAAAAAAAAAAAAAAAAAAAAAAAAAAAAAAAAAAAAAAAAAAAAAAAAAAAAAAAAAAAAAAAAAAAAAAAAAAAAAAAAAAAAAAAAAAAAAAAAAAAAAAAAAAAAAAAAAAAAAAAAAAAAAAAAAAAAAAAAAAAAAAAAAAAAAAAAAAAAAAAAAAAAAAAAAAAAAAAAAAAAAAAAAAAAAAAAAAAAAAAAAAAAAAAAAAAAAAAAAAAAAAAAAAAAAAAAAAAAAAAAAAAAAAAAAAAAAAAAAAAAAAAAAAAAAAAAAAAAAAAAAAAAAAAAAAAAAAAAAAAAAAAAAAAAAAAAAAAAAAAAAAAAAAAAAAAAAAAAAAAAAAAAAAAAAAAAAAAAAAAAAAAAAAAAAAAAAAAAAAAAAAAAAAAAAAAAAAAAAAAAAAAAAAAAAAAAAAAAAAAAAAAAAAAAAAAAAAAAAAAAAAAAAAAAAAAAAAAAAAAAAAAAAAAAAAAAAAAAAAAAAAAAAAAAAAAAAAAAAAAAAAAAAAAAAAAAAAAAAAAAAAAAAAAAAAAAAAAAAAAAAAAAAAAAAAAAAAAAAAAAAAAAAAAAAAAAAAAAAAAAAAAAAAAAAAAAAAAAAAAAAAAAAAAAAAAAAAAAAAAAAAAAAAAAAAAAAAAAAAAAAAAAAAAAAAAAAAAAAAAAAAAAAAAAAAAAAAAAAAAAAAAAAAAAAAAAAAAAAAAAAAAAAAAAAAAAAAAAAAAAAAAAAAAAAAAAAAAAAAAAAAAAAAAAAAAAAAAAAAAAAAAAAAAAAAAAAAAAAAAAAAAAAAAAAAAAAAAAAAAAAAAAAAAAAAAAAAAAAAAAAAAAAAAAAAAAAAAAAAAAAAAAAAAAAAAAAAAAAAAAAAAAAAAAAAAAAAAAAAAAAAAAAAAAAAAAAAAAAAAAAAAAAAAAAAAAAAAAAAAAAAAAAAAAAAAAAAAAAAAAAAAAAAAAAAAAAAAAAAAAAAAAAAAAAAAAAAAAAAAAAAAAAAAAAAAAAAAAAAAAAAAAAAAAAAAAAAAAAAAAAAAAAAAAAAAAAAAAAAAAAAAAAAAAAAAAAAAAAAAAAAAAAAAAAAAAAAAAAAAAAAAAAAAAAAAAAAAAAAAAAAAAAAAAAAAAAAAAAAAAAAAAAAAAAAAAAAAAAAAAAAAAAAAAAAAAAAAAAAAAAAAAAAAAAAAAAAAAAAAAAAAAAAAAAAAAAAAAAAAAAAAAAAAAAAAAAAAAAAAAAAAAAAAAAAAAAAAAAAAAAAAAAAAAAAAAAAAAAAAAAAAAAAAAAAAAAAAAAAAAAAAAAAAAAAAAAAAAAAAAAAAAAAAAAAAAAAAAAAAAAAAAAAAAAAAAAAAAAAAAAAAAAAAAAAAAAAAAAAAAAAAAAAAAAAAAAAAAAAAAAAAAAAAAAAAAAAAAAAAAAAAAAAAAAAAAAAAAAAAAAAAAAAAAAAAAAAAAAAAAAAAAAAAAAAAAAAAAAAAAAAAAAAAAAAAAAAAAAAAAAAAAAAAAAAAAAAAAAAAAAAAAAAAAAAAAAAAAAAAAAAAAAAAAAAAAAAAAAAAAAAAAAAAAAAAAAAAAAAAAAAAAAAAAAAAAAAAAAAAAAAAAAAAAAAAAAAAAAAAAAAAAAAAAAAAAAAAAAAAAAAAAAAAAAAAAAAAAAAAAAAAAAAAAAAAAAAAAAAAAAAAAAAAAAAAAAAAAAAAAAAAAAAAAAAAAAAAAAAAAAAAAAAAAAAAAAAAAAAAAAAAAAAAAAAAAAAAAAAAAAAAAAAAAAAAAAAAAAAAAACs5r1ZVBScP6zmvVlUFKw/AW1OQz8PtT+s5r1ZVBS8PyywFri0jME/AW1OQz8PxT/XKYbOyZHIP6zmvVlUFMw/gqP15N6Wzz8AAAAAAADQPwAAAAAAANA/AAAAAAAA0D8AAAAAAADQP////////88/AAAAAAAA0D8AAAAAAADQPwAAAAAAANA/AAAAAAAA0D/////////PPwAAAAAAANA/AAAAAAAA0D8AAAAAAADQPwAAAAAAANA/AAAAAAAA0D8AAAAAAADQP////////88/AAAAAAAA0D8AAAAAAADQPwAAAAAAANA/////////zz/////////PPwAAAAAAANA/AAAAAAAA0D8AAAAAAADQPwAAAAAAANA/AAAAAAAA0D8AAAAAAADQPwAAAAAAANA/AAAAAAAA0D8AAAAAAADQPwAAAAAAANA/AAAAAAAA0D8AAAAAAADQPwAAAAAAANA/AAAAAAAA0D8AAAAAAADQPwAAAAAAANA/AAAAAAAA0D8AAAAAAADQPwAAAAAAANA/AAAAAAAA0D8AAAAAAADQPwAAAAAAANA/AAAAAAAA0D8AAAAAAADQPwAAAAAAANA/AAAAAAAA0D8AAAAAAADQPwAAAAAAANA/AAAAAAAA0D8AAAAAAADQPwAAAAAAANA/AAAAAAAA0D8AAAAAAADQPwAAAAAAANA/AAAAAAAA0D8AAAAAAADQPwAAAAAAANA/AAAAAAAA0D8AAAAAAADQPwAAAAAAANA/AAAAAAAA0D/////////PP////////88/AAAAAAAA0D8AAAAAAADQPwAAAAAAANA/AAAAAAAA0D8AAAAAAADQPwAAAAAAANA/AAAAAAAA0D8AAAAAAADQPwAAAAAAANA/////////zz/////////PPwAAAAAAANA/AAAAAAAA0D8AAAAAAADQPwAAAAAAANA/AAAAAAAA0D8AAAAAAADQPwAAAAAAANA/AAAAAAAA0D8AAAAAAADQPwAAAAAAANA/AAAAAAAA0D/////////PPwAAAAAAANA/mNs8Q6Ax0T8vt3mGQGPSP8eStsnglNM/Xm7zDIHG1D/2STBQIfjVP44lbZPBKdc/JgGq1mFb2D+93OYZAo3ZP1S4I12ivto/7JNgoELw2z+Eb53j4iHdPxxL2iaDU94/syYXaiOF3z9BUpAvBpzfPxjaVirX9N4/7mEdJahN3j/D6eMfeabdP5pxqhpK/9w/cPlwFRtY3D9GgTcQ7LDbPxwJ/gq9Cds/85DEBY5i2j/JGIsAX7vZP5+gUfsvFNk/digY9gBt2D9MsN7w0cXXPyI4peuiHtc/+L9r5nN31j/ORzLhRNDVP6TP+NsVKdU/ele/1uaB1D9R34XRt9rTPydnTMyIM9M//e4Sx1mM0j/TdtnBKuXRP6r+n7z7PdE/gIZmt8yW0D8AAAAAAADQPwAAAAAAANA/AAAAAAAA0D8AAAAAAADQPwAAAAAAANA/AAAAAAAA0D8AAAAAAADQPwAAAAAAANA/AAAAAAAA0D8AAAAAAADQPwAAAAAAANA/////////zz/////////PPwAAAAAAANA/////////zz8AAAAAAADQP////////88/////////zz8AAAAAAADQPwAAAAAAANA/////////zz/////////PPwAAAAAAANA/AAAAAAAA0D8AAAAAAADQPwAAAAAAANA/AAAAAAAA0D8AAAAAAADQPwAAAAAAANA/AAAAAAAA0D8AAAAAAADQPwAAAAAAANA/AAAAAAAA0D8AAAAAAADQPwAAAAAAANA/AAAAAAAA0D8AAAAAAADQPwAAAAAAANA/AAAAAAAA0D8AAAAAAADQPwAAAAAAANA/AAAAAAAA0D8AAAAAAADQPwAAAAAAANA/AAAAAAAA0D/////////PPwAAAAAAANA/////////zz8AAAAAAADQP////////88/AAAAAAAA0D8BAAAAAADQPwAAAAAAANA/AAAAAAAA0D8AAAAAAADQPwAAAAAAANA/AAAAAAAA0D8AAAAAAADQPwAAAAAAANA/AAAAAAAA0D8AAAAAAADQPwAAAAAAANA/////////zz/////////PP/7//////88/////////zz8AAAAAAADQPwAAAAAAANA/AAAAAAAA0D8AAAAAAADQPwAAAAAAANA/AAAAAAAA0D8AAAAAAADQPwAAAAAAANA/AAAAAAAA0D8AAAAAAADQPwAAAAAAANA/AAAAAAAA0D8AAAAAAADQPwAAAAAAANA/AAAAAAAA0D8AAAAAAADQPwAAAAAAANA/AAAAAAAA0D8AAAAAAADQPwAAAAAAANA/AAAAAAAA0D8AAAAAAADQPwAAAAAAANA/AAAAAAAA0D8AAAAAAADQPwAAAAAAANA/AAAAAAAA0D8AAAAAAADQPwAAAAAAANA/AAAAAAAA0D8AAAAAAADQPwAAAAAAANA/AAAAAAAA0D8AAAAAAADQPwAAAAAAANA/AAAAAAAA0D8AAAAAAADQPwAAAAAAANA/////////zz/////////PPwAAAAAAANA/AAAAAAAA0D8AAAAAAADQPwAAAAAAANA/uIktQGqT0T9wE1uA1CbTPyediMA+utQ/3ia2AKlN1j+WsONAE+HXP046EYF9dNk/BsQ+wecH2z+9TWwBUpvcP3XXmUG8Lt4/LWHHgSbC3z9ydfpgyKrgP046EYF9dOE/Kv8noTI+4j8GxD7B5wfjP+KIVeGc0eM/vU1sAVKb5D+aEoMhB2XlP3XXmUG8LuY/UJywYXH45j/h6RR8SXrnP1/C4lsA2uc/AAAAAAAA6D8AAAAAAADoPwAAAAAAAOg/AAAAAAAA6D8AAAAAAADoPwAAAAAAAOg/AAAAAAAA6D8AAAAAAADoPwAAAAAAAOg/AAAAAAAA6D8AAAAAAADoPwAAAAAAAOg/AAAAAAAA6D8AAAAAAADoPwAAAAAAAOg/AAAAAAAA6D8AAAAAAADoPwAAAAAAAOg/AAAAAAAA6D8AAAAAAADoPwAAAAAAAOg/AAAAAAAA6D9I/SRX58XnPzRBiNRPcuc/H4XrUbge5z8KyU7PIMvmP/UMskyJd+Y/4FAVyvEj5j/LlHhHWtDlP7bY28TCfOU/oRw/Qisp5T+MYKK/k9XkP3ikBT38geQ/Y+houmQu5D9OLMw3zdrjPzlwL7U1h+M/JLSSMp4z4z8P+PWvBuDiP/o7WS1vjOI/5X+8qtc44j8=\",\"dtype\":\"float64\",\"shape\":[601]}}},\"id\":\"3d294be3-bfc1-40a4-9ff7-67bee71e13f4\",\"type\":\"ColumnDataSource\"},{\"attributes\":{\"callback\":null,\"column_names\":[\"x\",\"y\"],\"data\":{\"x\":[0,1000,2000,3000,4000,5000,6000,7000,8000,9000,10000,11000,12000,13000,14000,15000,16000,17000,18000,19000,20000,21000,22000,23000,24000,25000,26000,27000,28000,29000,30000,31000,32000,33000,34000,35000,36000,37000,38000,39000,40000,41000,42000,43000,44000,45000,46000,47000,48000,49000,50000,51000,52000,53000,54000,55000,56000,57000,58000,59000,60000,61000,62000,63000,64000,65000,66000,67000,68000,69000,70000,71000,72000,73000,74000,75000,76000,77000,78000,79000,80000,81000,82000,83000,84000,85000,86000,87000,88000,89000,90000,91000,92000,93000,94000,95000,96000,97000,98000,99000,100000,101000,102000,103000,104000,105000,106000,107000,108000,109000,110000,111000,112000,113000,114000,115000,116000,117000,118000,119000,120000,121000,122000,123000,124000,125000,126000,127000,128000,129000,130000,131000,132000,133000,134000,135000,136000,137000,138000,139000,140000,141000,142000,143000,144000,145000,146000,147000,148000,149000,150000,151000,152000,153000,154000,155000,156000,157000,158000,159000,160000,161000,162000,163000,164000,165000,166000,167000,168000,169000,170000,171000,172000,173000,174000,175000,176000,177000,178000,179000,180000,181000,182000,183000,184000,185000,186000,187000,188000,189000,190000,191000,192000,193000,194000,195000,196000,197000,198000,199000,200000,201000,202000,203000,204000,205000,206000,207000,208000,209000,210000,211000,212000,213000,214000,215000,216000,217000,218000,219000,220000,221000,222000,223000,224000,225000,226000,227000,228000,229000,230000,231000,232000,233000,234000,235000,236000,237000,238000,239000,240000,241000,242000,243000,244000,245000,246000,247000,248000,249000,250000,251000,252000,253000,254000,255000,256000,257000,258000,259000,260000,261000,262000,263000,264000,265000,266000,267000,268000,269000,270000,271000,272000,273000,274000,275000,276000,277000,278000,279000,280000,281000,282000,283000,284000,285000,286000,287000,288000,289000,290000,291000,292000,293000,294000,295000,296000,297000,298000,299000,300000,301000,302000,303000,304000,305000,306000,307000,308000,309000,310000,311000,312000,313000,314000,315000,316000,317000,318000,319000,320000,321000,322000,323000,324000,325000,326000,327000,328000,329000,330000,331000,332000,333000,334000,335000,336000,337000,338000,339000,340000,341000,342000,343000,344000,345000,346000,347000,348000,349000,350000,351000,352000,353000,354000,355000,356000,357000,358000,359000,360000,361000,362000,363000,364000,365000,366000,367000,368000,369000,370000,371000,372000,373000,374000,375000,376000,377000,378000,379000,380000,381000,382000,383000,384000,385000,386000,387000,388000,389000,390000,391000,392000,393000,394000,395000,396000,397000,398000,399000,400000,401000,402000,403000,404000,405000,406000,407000,408000,409000,410000,411000,412000,413000,414000,415000,416000,417000,418000,419000,420000,421000,422000,423000,424000,425000,426000,427000,428000,429000,430000,431000,432000,433000,434000,435000,436000,437000,438000,439000,440000,441000,442000,443000,444000,445000,446000,447000,448000,449000,450000,451000,452000,453000,454000,455000,456000,457000,458000,459000,460000,461000,462000,463000,464000,465000,466000,467000,468000,469000,470000,471000,472000,473000,474000,475000,476000,477000,478000,479000,480000,481000,482000,483000,484000,485000,486000,487000,488000,489000,490000,491000,492000,493000,494000,495000,496000,497000,498000,499000,500000,501000,502000,503000,504000,505000,506000,507000,508000,509000,510000,511000,512000,513000,514000,515000,516000,517000,518000,519000,520000,521000,522000,523000,524000,525000,526000,527000,528000,529000,530000,531000,532000,533000,534000,535000,536000,537000,538000,539000,540000,541000,542000,543000,544000,545000,546000,547000,548000,549000,550000,551000,552000,553000,554000,555000,556000,557000,558000,559000,560000,561000,562000,563000,564000,565000,566000,567000,568000,569000,570000,571000,572000,573000,574000,575000,576000,577000,578000,579000,580000,581000,582000,583000,584000,585000,586000,587000,588000,589000,590000,591000,592000,593000,594000,595000,596000,597000,598000,599000,600000],\"y\":{\"__ndarray__\":\"AAAAAAAAAAAAAAAAAAAAAAAAAAAAAAAAAAAAAAAAAAAAAAAAAAAAAAAAAAAAAAAAAAAAAAAAAAAAAAAAAAAAAAAAAAAAAAAAAAAAAAAAAAAAAAAAAAAAAAAAAAAAAAAAAAAAAAAAAAAAAAAAAAAAAAAAAAAAAAAAAAAAAAAAAAAAAAAAAAAAAAAAAAAAAAAAAAAAAAAAAAAAAAAAAAAAAAAAAAAAAAAAAAAAAAAAAAAAAAAAAAAAAAAAAAAAAAAAAAAAAAAAAAAAAAAAAAAAAAAAAAAAAAAAAAAAAAAAAAAAAAAAAAAAAAAAAAAAAAAAAAAAAAAAAAAAAAAAAAAAAAAAAAAAAAAAAAAAAAAAAAAAAAAAAAAAAAAAAAAAAAAAAAAAAAAAAAAAAAAAAAAAAAAAAAAAAAAAAAAAAAAAAAAAAAAAAAAAAAAAAAAAAAAAAAAAAAAAAAAAAAAAAAAAAAAAAAAAAAAAAAAAAAAAAAAAAAAAAAAAAAAAAAAAAAAAAAAAAAAAAAAAAAAAAAAAAAAAAAAAAAAAAAAAAAAAAAAAAAAAAAAAAAAAAAAAAAAAAAAAAAAAAAAAAAAAAAAAAAAAAAAAAAAAAAAAAAAAAAAAAAAAAAAAAAAAAAAAAAAAAAAAAAAAAAAAAAAAAAAAAAAAAAAAAAAAAAAAAAAAAAAAAAAAAAAAAAAAAAAAAAAAAAAAAAAAAAAAAAAAAAAAAAAAAAAAAAAAAAAAAAAAAAAAAAAAAAAAAAAAAAAAAAAAAAAAAAAAAAAAAAAAAAAAAAAAAAAAAAAAAAAAAAAAAAAAAAAAAAAAAAAAAAAAAAAAAAAAAAAAAAAAAAAAAAAAAAAAAAAAAAAAAAAAAAAAAAAAAAAAAAAAAAAAAAAAAAAAAAAAAAAAAAAAAAAAAAAAAAAAAAAAAAAAAAAAAAAAAAAAAAAAAAAAAAAAAAAAAAAAAAAAAAAAAAAAAAAAAAAAAAAAAAAAAAAAAAAAAAAAAAAAAAAAAAAAAAAAAAAAAAAAAAAAAAAAAAAAAAAAAAAAAAAAAAAAAAAAAAAAAAAAAAAAAAAAAAAAAAAAAAAAAAAAAAAAAAAAAAAAAAAAAAAAAAAAAAAAAAAAAAAAAAAAAAAAAAAAAAAAAAAAAAAAAAAAAAAAAAAAAAAAAAAAAAAAAAAAAAAAAAAAAAAAAAAAAAAAAAAAAAAAAAAAAAAAAAAAAAAAAAAAAAAAAAAAAAAAAAAAAAAAAAAAAAAAAAAAAAAAAAAAAAAAAAAAAAAAAAAAAAAAAAAAAAAAAAAAAAAAAAAAAAAAAAAAAAAAAAAAAAAAAAAAAAAAAAAAAAAAAAAAAAAAAAAAAAAAAAAAAAAAAAAAAAAAAAAAAAAAAAAAAAAAAAAAAAAAAAAAAAAAAAAAAAAAAAAAAAAAAAAAAAAAAAAAAAAAAAAAAAAAAAAAAAAAAAAAAAAAAAAAAAAAAAAAAAAAAAAAAAAAAAAAAAAAAAAAAAAAAAAAAAAAAAAAAAAAAAAAAAAAAAAAAAAAAAAAAAAAAAAAAAAAAAAAAAAAAAAAAAAAAAAAAAAAAAAAAAAAAAAAAAAAAAAAAAAAAAAAAAAAAAAAAAAAAAAAAAAAAAAAAAAAAAAAAAAAAAAAAAAAAAAAAAAAAAAAAAAAAAAAAAAAAAAAAAAAAAAAAAAAAAAAAAAAAAAAAAAAAAAAAAAAAAAAAAAAAAAAAAAAAAAAAAAAAAAAAAAAAAAAAAAAAAAAAAAAAAAAAAAAAAAAAAAAAAAAAAAAAAAAAAAAAAAAAAAAAAAAAAAAAAAAAAAAAAAAAAAAAAAAAAAAAAAAAAAAAAAAAAAAAAAAAAAAAAAAAAAAAAAAAAAAAAAAAAAAAAAAAAAAAAAAAAAAAAAAAAAAAAAAAAAAAAAAAAAAAAAAAAAAAAAAAAAAAAAAAAAAAAAAAAAAAAAAAAAAAAAAAAAAAAAAAAAAAAAAAAAAAAAAAAAAAAAAAAAAAAAAAAAAAAAAAAAAAAAAAAAAAAAAAAAAAAAAAAAAAAAAAAAAAAAAAAAAAAAAAAAAAAAAAAAAAAAAAAAAAAAAAAAAAAAAAAAAAAAAAAAAAAAAAAAAAAAAAAAAAAAAAAAAAAAAAAAAAAAAAAAAAAAAAAAAAAAAAAAAAAAAAAAAAAAAAAAAAAAAAAAAAAAAAAAAAAAAAAAAAAAAAAAAAAAAAAAAAAAAAAAAAAAAAAAAAAAAAAAAAAAAAAAAAAAAAAAAAAAAAAAAAAAAAAAAAAAAAAAAAAAAAAAAAAAAAAAAAAAAAAAAAAAAAAAAAAAAAAAAAAAAAAAAAAAAAAAAAAAAAAAAAAAAAAAAAAAAAAAAAEjLUeFKsXg/dlj9KPiEkj8aPqaZnd2eP9+RJ4Uhm6U/sQR8PXTHqz/BO+h64/mwPyp1EtcMELQ/k648MzYmtz/852aPXzy6P2UhkeuIUr0/Z63dI1k0wD8cyvLRbb/BP9DmB4CCSsM/hAMdLpfVxD85IDLcq2DGP+08R4rA68c/ollcONV2yT9WdnHm6QHLPwuThpT+jMw/v6+bQhMYzj90zLDwJ6PPP3jAr381AM8/JdA8ddexzT/R38lqeWPMP37vVmAbFcs/Kv/jVb3GyT/WDnFLX3jIP4Me/kABKsc/Ly6LNqPbxT/cPRgsRY3EP4hNpSHnPsM/NF0yF4nwwT/hbL8MK6LAPxv5mASap74/cxiz790KvD/MN83aIW65PyVX58Vl0bY/fnYBsak0tD/XlRuc7ZexP19qaw5j9q0/Eamf5Oq8qD/C59O6coOjP+hMECL1k5w/S8p4zgQhkj+4HoXrUbh+P/LH/an0kHk/rNeLt7mCnj+uHkwim1CrP8MoabTsr7M/L0Ks14u3uT+aW+/6Kr+/P4M6GQ9l48I/Oce6oDTnxT/vU1wyBOvIP6Xg/cPT7ss/W22fVaPyzj8AAAAAAADQPwAAAAAAANA/AAAAAAAA0D8AAAAAAADQPwAAAAAAANA/AAAAAAAA0D8AAAAAAADQPwAAAAAAANA/AAAAAAAA0D8AAAAAAADQPwAAAAAAANA/AAAAAAAA0D8AAAAAAADQPwAAAAAAANA/AAAAAAAA0D8AAAAAAADQPwAAAAAAANA/AAAAAAAA0D8AAAAAAADQPwAAAAAAANA/AAAAAAAA0D8AAAAAAADQPwAAAAAAANA/AAAAAAAA0D8AAAAAAADQPwAAAAAAANA/////////zz8AAAAAAADQPwAAAAAAANA/AAAAAAAA0D/////////PPwAAAAAAANA/AAAAAAAA0D8AAAAAAADQPwAAAAAAANA/AAAAAAAA0D8AAAAAAADQPwAAAAAAANA/AAAAAAAA0D8AAAAAAADQPwAAAAAAANA/AAAAAAAA0D8AAAAAAADQPwAAAAAAANA/////////zz8AAAAAAADQPwAAAAAAANA/AAAAAAAA0D8AAAAAAADQPwAAAAAAANA/////////zz/////////PPwAAAAAAANA/AAAAAAAA0D8AAAAAAADQPwAAAAAAANA/AAAAAAAA0D8AAAAAAADQPwAAAAAAANA/AAAAAAAA0D8AAAAAAADQPwAAAAAAANA/AAAAAAAA0D8AAAAAAADQPwAAAAAAANA/AAAAAAAA0D8AAAAAAADQPwAAAAAAANA/AAAAAAAA0D8AAAAAAADQPwAAAAAAANA/AAAAAAAA0D8AAAAAAADQPwAAAAAAANA/AAAAAAAA0D8AAAAAAADQPwAAAAAAANA/AAAAAAAA0D8AAAAAAADQPwAAAAAAANA/AAAAAAAA0D8AAAAAAADQPwAAAAAAANA/AAAAAAAA0D8AAAAAAADQPwAAAAAAANA/AAAAAAAA0D8AAAAAAADQPwAAAAAAANA/AAAAAAAA0D8AAAAAAADQPwAAAAAAANA/AAAAAAAA0D8AAAAAAADQPwAAAAAAANA/AAAAAAAA0D8AAAAAAADQPwAAAAAAANA/AAAAAAAA0D8AAAAAAADQPwAAAAAAANA/AAAAAAAA0D8AAAAAAADQPwAAAAAAANA/////////zz8AAAAAAADQPwAAAAAAANA/AAAAAAAA0D8AAAAAAADQPwAAAAAAANA/AAAAAAAA0D8AAAAAAADQPwAAAAAAANA/AAAAAAAA0D8AAAAAAADQPwAAAAAAANA/AAAAAAAA0D8AAAAAAADQPwAAAAAAANA/AAAAAAAA0D8AAAAAAADQPwAAAAAAANA/AAAAAAAA0D8AAAAAAADQPwAAAAAAANA/AAAAAAAA0D8AAAAAAADQPwAAAAAAANA/AAAAAAAA0D8AAAAAAADQPwAAAAAAANA/////////zz8AAAAAAADQPwAAAAAAANA/////////zz8AAAAAAADQPwAAAAAAANA/AAAAAAAA0D8AAAAAAADQPwAAAAAAANA/AAAAAAAA0D8AAAAAAADQPwAAAAAAANA/AAAAAAAA0D8AAAAAAADQPwAAAAAAANA/AAAAAAAA0D/////////PP////////88/AAAAAAAA0D/+///////PP////////88/AAAAAAAA0D/////////PP////////88/AAAAAAAA0D8AAAAAAADQPwAAAAAAANA/AAAAAAAA0D8AAAAAAADQP////////88/////////zz8AAAAAAADQP////////88/AAAAAAAA0D/////////PPwAAAAAAANA/AAAAAAAA0D8AAAAAAADQPwAAAAAAANA/AAAAAAAA0D8AAAAAAADQPwAAAAAAANA/AAAAAAAA0D8AAAAAAADQPwAAAAAAANA/AAAAAAAA0D8AAAAAAADQPwAAAAAAANA/AAAAAAAA0D8AAAAAAADQPwAAAAAAANA/AAAAAAAA0D/////////PPwAAAAAAANA/AAAAAAAA0D8AAAAAAADQP////////88/AAAAAAAA0D8AAAAAAADQPwAAAAAAANA/AAAAAAAA0D8AAAAAAADQPwAAAAAAANA/AAAAAAAA0D8AAAAAAADQPwAAAAAAANA/AAAAAAAA0D8AAAAAAADQPwAAAAAAANA/AAAAAAAA0D8AAAAAAADQPwAAAAAAANA/AAAAAAAA0D/////////PP////////88/AAAAAAAA0D8AAAAAAADQPwAAAAAAANA/AAAAAAAA0D8AAAAAAADQPwAAAAAAANA/AAAAAAAA0D8AAAAAAADQPwAAAAAAANA/AAAAAAAA0D8AAAAAAADQPwAAAAAAANA/AAAAAAAA0D8AAAAAAADQPwAAAAAAANA/AAAAAAAA0D8AAAAAAADQPwAAAAAAANA/AAAAAAAA0D8AAAAAAADQPwAAAAAAANA/AAAAAAAA0D8AAAAAAADQPwAAAAAAANA/AAAAAAAA0D8AAAAAAADQPwAAAAAAANA/AAAAAAAA0D8AAAAAAADQPwAAAAAAANA/AAAAAAAA0D/////////PP////////88/////////zz8AAAAAAADQP////////88/////////zz/////////PPwAAAAAAANA/AAAAAAAA0D8AAAAAAADQPwAAAAAAANA/AAAAAAAA0D8AAAAAAADQPwAAAAAAANA/AAAAAAAA0D8AAAAAAADQPwAAAAAAANA/AAAAAAAA0D8AAAAAAADQP////////88/AAAAAAAA0D/////////PP////////88/AAAAAAAA0D/////////PPwAAAAAAANA/AAAAAAAA0D8AAAAAAADQP////////88/////////zz8AAAAAAADQPwAAAAAAANA/AAAAAAAA0D8AAAAAAADQPwAAAAAAANA/AAAAAAAA0D8AAAAAAADQP////////88/AAAAAAAA0D8AAAAAAADQPwAAAAAAANA/AAAAAAAA0D8AAAAAAADQPwAAAAAAANA/AAAAAAAA0D/////////PP////////88/AAAAAAAA0D/////////PPwAAAAAAANA/ElhsT6ki0T82CEXu+2fTP1q4HY1OrdU/fmj2K6Hy1z+iGM/K8zfaP8bIp2lGfdw/6niACJnC3j8AAAAAAADgPwAAAAAAAOA/AAAAAAAA4D8AAAAAAADgPwAAAAAAAOA/AAAAAAAA4D8AAAAAAADgPwAAAAAAAOA/AAAAAAAA4D8AAAAAAADgPwAAAAAAAOA/AAAAAAAA4D8AAAAAAADgPwAAAAAAAOA/AAAAAAAA4D8AAAAAAADgPwAAAAAAAOA/AAAAAAAA4D8AAAAAAADgPwAAAAAAAOA/AAAAAAAA4D8AAAAAAADgPwAAAAAAAOA/AAAAAAAA4D8AAAAAAADgPwAAAAAAAOA/AAAAAAAA4D8AAAAAAADgPwAAAAAAAOA/AAAAAAAA4D8=\",\"dtype\":\"float64\",\"shape\":[601]}}},\"id\":\"1f662457-4119-4a7a-911e-996ce656547b\",\"type\":\"ColumnDataSource\"},{\"attributes\":{\"data_source\":{\"id\":\"703709e9-46ef-48a1-a218-e53bd4249d38\",\"type\":\"ColumnDataSource\"},\"glyph\":{\"id\":\"004aefd4-c788-4afe-be56-d8336ccffb88\",\"type\":\"Line\"},\"hover_glyph\":null,\"nonselection_glyph\":{\"id\":\"b65bac1e-5985-4081-9dc5-b598b7b38e7f\",\"type\":\"Line\"},\"selection_glyph\":null},\"id\":\"bc1a5939-115e-4f78-920f-94fcf7ff5a77\",\"type\":\"GlyphRenderer\"},{\"attributes\":{\"line_alpha\":{\"value\":0.1},\"line_color\":{\"value\":\"#1f77b4\"},\"line_width\":{\"value\":2},\"x\":{\"field\":\"x\"},\"y\":{\"field\":\"y\"}},\"id\":\"cf5260b4-5b28-49f2-ba0f-414a081d327a\",\"type\":\"Line\"},{\"attributes\":{\"line_color\":{\"value\":\"#377eb8\"},\"line_width\":{\"value\":2},\"x\":{\"field\":\"x\"},\"y\":{\"field\":\"y\"}},\"id\":\"d0db7599-7b80-4dff-947f-fabdaed5e7b7\",\"type\":\"Line\"},{\"attributes\":{\"line_alpha\":{\"value\":0.1},\"line_color\":{\"value\":\"#1f77b4\"},\"line_width\":{\"value\":2},\"x\":{\"field\":\"x\"},\"y\":{\"field\":\"y\"}},\"id\":\"687b3c63-ebe7-4435-b38a-7c2dc38a111e\",\"type\":\"Line\"},{\"attributes\":{\"line_color\":{\"value\":\"#984ea3\"},\"line_width\":{\"value\":2},\"x\":{\"field\":\"x\"},\"y\":{\"field\":\"y\"}},\"id\":\"478688ac-be4c-4c73-b654-7a44363f24e8\",\"type\":\"Line\"},{\"attributes\":{\"data_source\":{\"id\":\"3d294be3-bfc1-40a4-9ff7-67bee71e13f4\",\"type\":\"ColumnDataSource\"},\"glyph\":{\"id\":\"d0db7599-7b80-4dff-947f-fabdaed5e7b7\",\"type\":\"Line\"},\"hover_glyph\":null,\"nonselection_glyph\":{\"id\":\"687b3c63-ebe7-4435-b38a-7c2dc38a111e\",\"type\":\"Line\"},\"selection_glyph\":null},\"id\":\"147292ae-7f3b-4c8d-adcc-d34c1e4edf4c\",\"type\":\"GlyphRenderer\"},{\"attributes\":{\"callback\":null,\"column_names\":[\"x\",\"y\"],\"data\":{\"x\":[0,1000,2000,3000,4000,5000,6000,7000,8000,9000,10000,11000,12000,13000,14000,15000,16000,17000,18000,19000,20000,21000,22000,23000,24000,25000,26000,27000,28000,29000,30000,31000,32000,33000,34000,35000,36000,37000,38000,39000,40000,41000,42000,43000,44000,45000,46000,47000,48000,49000,50000,51000,52000,53000,54000,55000,56000,57000,58000,59000,60000,61000,62000,63000,64000,65000,66000,67000,68000,69000,70000,71000,72000,73000,74000,75000,76000,77000,78000,79000,80000,81000,82000,83000,84000,85000,86000,87000,88000,89000,90000,91000,92000,93000,94000,95000,96000,97000,98000,99000,100000,101000,102000,103000,104000,105000,106000,107000,108000,109000,110000,111000,112000,113000,114000,115000,116000,117000,118000,119000,120000,121000,122000,123000,124000,125000,126000,127000,128000,129000,130000,131000,132000,133000,134000,135000,136000,137000,138000,139000,140000,141000,142000,143000,144000,145000,146000,147000,148000,149000,150000,151000,152000,153000,154000,155000,156000,157000,158000,159000,160000,161000,162000,163000,164000,165000,166000,167000,168000,169000,170000,171000,172000,173000,174000,175000,176000,177000,178000,179000,180000,181000,182000,183000,184000,185000,186000,187000,188000,189000,190000,191000,192000,193000,194000,195000,196000,197000,198000,199000,200000,201000,202000,203000,204000,205000,206000,207000,208000,209000,210000,211000,212000,213000,214000,215000,216000,217000,218000,219000,220000,221000,222000,223000,224000,225000,226000,227000,228000,229000,230000,231000,232000,233000,234000,235000,236000,237000,238000,239000,240000,241000,242000,243000,244000,245000,246000,247000,248000,249000,250000,251000,252000,253000,254000,255000,256000,257000,258000,259000,260000,261000,262000,263000,264000,265000,266000,267000,268000,269000,270000,271000,272000,273000,274000,275000,276000,277000,278000,279000,280000,281000,282000,283000,284000,285000,286000,287000,288000,289000,290000,291000,292000,293000,294000,295000,296000,297000,298000,299000,300000,301000,302000,303000,304000,305000,306000,307000,308000,309000,310000,311000,312000,313000,314000,315000,316000,317000,318000,319000,320000,321000,322000,323000,324000,325000,326000,327000,328000,329000,330000,331000,332000,333000,334000,335000,336000,337000,338000,339000,340000,341000,342000,343000,344000,345000,346000,347000,348000,349000,350000,351000,352000,353000,354000,355000,356000,357000,358000,359000,360000,361000,362000,363000,364000,365000,366000,367000,368000,369000,370000,371000,372000,373000,374000,375000,376000,377000,378000,379000,380000,381000,382000,383000,384000,385000,386000,387000,388000,389000,390000,391000,392000,393000,394000,395000,396000,397000,398000,399000,400000,401000,402000,403000,404000,405000,406000,407000,408000,409000,410000,411000,412000,413000,414000,415000,416000,417000,418000,419000,420000,421000,422000,423000,424000,425000,426000,427000,428000,429000,430000,431000,432000,433000,434000,435000,436000,437000,438000,439000,440000,441000,442000,443000,444000,445000,446000,447000,448000,449000,450000,451000,452000,453000,454000,455000,456000,457000,458000,459000,460000,461000,462000,463000,464000,465000,466000,467000,468000,469000,470000,471000,472000,473000,474000,475000,476000,477000,478000,479000,480000,481000,482000,483000,484000,485000,486000,487000,488000,489000,490000,491000,492000,493000,494000,495000,496000,497000,498000,499000,500000,501000,502000,503000,504000,505000,506000,507000,508000,509000,510000,511000,512000,513000,514000,515000,516000,517000,518000,519000,520000,521000,522000,523000,524000,525000,526000,527000,528000,529000,530000,531000,532000,533000,534000,535000,536000,537000,538000,539000,540000,541000,542000,543000,544000,545000,546000,547000,548000,549000,550000,551000,552000,553000,554000,555000,556000,557000,558000,559000,560000,561000,562000,563000,564000,565000,566000,567000,568000,569000,570000,571000,572000,573000,574000,575000,576000,577000,578000,579000,580000,581000,582000,583000,584000,585000,586000,587000,588000,589000,590000,591000,592000,593000,594000,595000,596000,597000,598000,599000,600000],\"y\":{\"__ndarray__\":\"AAAAAAAAAAAAAAAAAAAAAAAAAAAAAAAAAAAAAAAAAAAAAAAAAAAAAAAAAAAAAAAAAAAAAAAAAAAAAAAAAAAAAAAAAAAAAAAAAAAAAAAAAAAAAAAAAAAAAAAAAAAAAAAAAAAAAAAAAAAAAAAAAAAAAAAAAAAAAAAAAAAAAAAAAAAAAAAAAAAAAAAAAAAAAAAAAAAAAAAAAAAAAAAAAAAAAAAAAAAAAAAAAAAAAAAAAAAAAAAAAAAAAAAAAAAAAAAAAAAAAAAAAAAAAAAAAAAAAAAAAAAAAAAAAAAAAAAAAAAAAAAAAAAAAAAAAAAAAAAAAAAAAAAAAAAAAAAAAAAAAAAAAAAAAAAAAAAAAAAAAAAAAAAAAAAAAAAAAAAAAAAAAAAAAAAAAAAAAAAAAAAAAAAAAAAAAAAAAAAAAAAAAAAAAAAAAAAAAAAAAAAAAAAAAAAAAAAAAAAAAAAAAAAAAAAAAAAAAAAAAAAAAAAAAAAAAAAAAAAAAAAAAAAAAAAAAAAAAAAAAAAAAAAAAAAAAAAAAAAAAAAAAAAAAAAAAAAAAAAAAAAAAAAAAAAAAAAAAAAAAAAAAAAAAAAAAAAAAAAAAAAAAAAAAAAAAAAAAAAAAAAAAAAAAAAAAAAAAAAAAAAAAAAAAAAAAAAAAAAAAAAAAAAAAAAAAAAAAAAAAAAAAAAAAAAAAAAAAAAAAAAAAAAAAAAAAAAAAAAAAAAAAAAAAAAAAAAAAAAAAAAAAAAAAAAAAAAAAAAAAAAAAAAAAAAAAAAAAAAAAAAAAAAAAAAAAAAAAAAAAAAAAAAAAAAAAAAAAAAAAAAAAAAAAAAAAAAAAAAAAAAAAAAAAAAAAAAAAAAAAAAAAAAAAAAAAAAAAAAAAAAAAAAAAAAAAAAAAAAAAAAAAAAAAAAAAAAAAAAAAAAAAAAAAAAAAAAAAAAAAAAAAAAAAAAAAAAAAAAAAAAAAAAAAAAAAAAAAAAAAAAAAAAAAAAAAAAAAAAAAAAAAAAAAAAAAAAAAAAAAAAAAAAAAAAAAAAAAAAAAAAAAAAAAAAAAAAAAAAAAAAAAAAAAAAAAAAAAAAAAAAAAAAAAAAAAAAAAAAAAAAAAAAAAAAAAAAAAAAAAAAAAAAAAAAAAAAAAAAAAAAAAAAAAAAAAAAAAAAAAAAAAAAAAAAAAAAAAAAAAAAAAAAAAAAAAAAAAAAAAAAAAAAAAAAAAAAAAAAAAAAAAAAAAAAAAAAAAAAAAAAAAAAAAAAAAAAAAAAAAAAAAAAAAAAAAAAAAAAAAAAAAAAAAAAAAAAAAAAAAAAAAAAAAAAAAAAAAAAAAAAAAAAAAAAAAAAAAAAAAAAAAAAAAAAAAAAAAAAAAAAAAAAAAAAAAAAAAAAAAAAAAAAAAAAAAAAAAAAAAAAAAAAAAAAAAAAAAAAAAAAAAAAAAAAAAAAAAAAAAAAAAAAAAAAAAAAAAAAAAAAAAAAAAAAAAAAAAAAAAAAAAAAAAAAAAAAAAAAAAAAAAAAAAAAAAAAAAAAAAAAAAAAAAAAAAAAAAAAAAAAAAAAAAAAAAAAAAAAAAAAAAAAAAAAAAAAAAAAAAAAAAAAAAAAAAAAAAAAAAAAAAAAAAAAAAAAAAAAAAAAAAAAAAAAAAAAAAAAAAAAAAAAAAAAAAAAAAAAAAAAAAAAAAAAAAAAAAAAAAAAAAAAAAAAAAAAAAAAAAAAAAAAAAAAAAAAAAAAAAAAAAAAAAAAAAAAAAAAAAAAAAAAAAAAAAAAAAAAAAAAAAAAAAAAAAAAAAAAAAAAAAAAAAAAAAAAAAAAAAAAAAAAAAAAAAAAAAAAAAAAAAAAAAAAAAAAAAAAAAAAAAAAAAAAAAAAAAAAAAAAAAAAAAAAAAAAAAAAAAAAAAAAAAAAAAAAAAAAAAAAAAAAAAAAAAAAAAAAAAAAAAAAAAAAAAAAAAAAAAAAAAAAAAAAAAAAAAAAAAAAAAAAAAAAAAAAAAAAAAAAAAAAAAAAAAAAAAAAAAAAAAAAAAAAAAAAAAAAAAAAAAAAAAAAAAAAAAAAAAAAAAAAAAAAAAAAAAAAAAAAAAAAAAAAAAAAAAAAAAAAAAAAAAAAAAAAAAAAAAAAAAAAAAAAAAAAAAAAAAAAAAAAAAAAAAAAAAAAAAAAAAAAAAAAAAAAAAAAAAAAAAAAAAAAAAAAAAAAAAAAAAAAAAAAAAAAAAAAAAAAAAAAAAAAAAAAAAAAAAAAAAAAAAAAAAAAAAAAAAAAAAAAAAAAAAAAAAAAAAAAAAAAAAAAAAAAAAAAAAAAAAAAAAAAAAAAAAAAAAAAAAAAAAAAAAAAAAAAAAAAAAAAAAAAAAAAAAAAAAAAAAAAAAAAAAAAAAAAAAAAAAAAAAAAAAAAAAAAAAAAAAAAAAAAAAAAAAAAAAAAAAAAAAAAAAAAAAAAAAAAAAAAAAAAAAAAAAAAAAAAAAAAAAAAAAAAAAAAAAAAAAAAAAAAAAAAAAAAAAAAAAAAAAAAAAAAAAAAAAAAAAAAAAAAAAAAAAAAAAAAAAAAAAAAAAAAAAAAAAAAAAAAAAAAAAAAAAAAAAAAAAAAAAAAAAAAAAAAAAAAAAAAAAAAAAAAAAAAAAAAAAAAAAAAAAAAAAAAAAAAAvqHiryGYhT++oeKvIZiVP0756UMZMqA/vqHiryGYpT8tStsbKv6qP0756UMZMrA/hk3meR3lsj++oeKvIZi1P/b13uUlS7g/LUrbGyr+uj9lntdRLrG9P0756UMZMsA/aiPoXpuLwT+GTeZ5HeXCP6J35JSfPsQ/vqHiryGYxT/ay+DKo/HGP/b13uUlS8g/ESDdAKikyT8tStsbKv7KP0l02TasV8w/ZZ7XUS6xzT+ByNVssArPPwAAAAAAANA/AAAAAAAA0D8AAAAAAADQPwAAAAAAANA/AAAAAAAA0D8AAAAAAADQPwAAAAAAANA/AAAAAAAA0D8AAAAAAADQPwAAAAAAANA/AAAAAAAA0D8AAAAAAADQPwAAAAAAANA/AAAAAAAA0D8AAAAAAADQPwAAAAAAANA/AAAAAAAA0D8AAAAAAADQPwAAAAAAANA/AAAAAAAA0D/////////PPwAAAAAAANA/AAAAAAAA0D8AAAAAAADQP////////88/AAAAAAAA0D8AAAAAAADQPwAAAAAAANA/AAAAAAAA0D8AAAAAAADQPwAAAAAAANA/AAAAAAAA0D8AAAAAAADQPwAAAAAAANA/AAAAAAAA0D8AAAAAAADQPwAAAAAAANA/AAAAAAAA0D/////////PPwAAAAAAANA/AAAAAAAA0D8AAAAAAADQPwAAAAAAANA/AAAAAAAA0D8AAAAAAADQPwAAAAAAANA/AAAAAAAA0D8AAAAAAADQPwAAAAAAANA/AAAAAAAA0D/////////PPwAAAAAAANA/////////zz8AAAAAAADQPwAAAAAAANA/AAAAAAAA0D8AAAAAAADQPwAAAAAAANA/AAAAAAAA0D8AAAAAAADQPwAAAAAAANA/AAAAAAAA0D8AAAAAAADQPwAAAAAAANA/AAAAAAAA0D/////////PPwAAAAAAANA/AAAAAAAA0D/////////PPwAAAAAAANA/AAAAAAAA0D8AAAAAAADQPwAAAAAAANA/AAAAAAAA0D8AAAAAAADQP6olwTcp0dA/U0uCb1Ki0T/8cEOne3PSP6aWBN+kRNM/ULzFFs4V1D/54YZO9+bUP6IHSIYguNU/TC0JvkmJ1j/2Usr1clrXP594iy2cK9g/SJ5MZcX82D/yww2d7s3ZP5zpztQXn9o/RQ+QDEFw2z/uNFFEakHcP5haEnyTEt0/QoDTs7zj3T/rpZTr5bTeP5TLVSMPht8/AAAAAAAA4D8AAAAAAADgPwAAAAAAAOA/AAAAAAAA4D8AAAAAAADgPwAAAAAAAOA/AAAAAAAA4D8AAAAAAADgPwAAAAAAAOA/AAAAAAAA4D8AAAAAAADgPwAAAAAAAOA/AAAAAAAA4D8AAAAAAADgPwAAAAAAAOA/AAAAAAAA4D8AAAAAAADgPwAAAAAAAOA/AAAAAAAA4D8AAAAAAADgPwAAAAAAAOA/AAAAAAAA4D8AAAAAAADgPwAAAAAAAOA/AAAAAAAA4D8AAAAAAADgPwAAAAAAAOA/AAAAAAAA4D8AAAAAAADgPwAAAAAAAOA/AAAAAAAA4D8AAAAAAADgPwAAAAAAAOA/AAAAAAAA4D8AAAAAAADgPwAAAAAAAOA/AAAAAAAA4D8AAAAAAADgPwAAAAAAAOA/AAAAAAAA4D8AAAAAAADgPwAAAAAAAOA/AAAAAAAA4D8AAAAAAADgPwAAAAAAAOA/AAAAAAAA4D8AAAAAAADgPwAAAAAAAOA/AAAAAAAA4D8AAAAAAADgPwAAAAAAAOA/AAAAAAAA4D8AAAAAAADgPwAAAAAAAOA/AAAAAAAA4D8AAAAAAADgPwAAAAAAAOA/AAAAAAAA4D8AAAAAAADgPwAAAAAAAOA/AAAAAAAA4D8AAAAAAADgPwAAAAAAAOA/AAAAAAAA4D8AAAAAAADgPwAAAAAAAOA/AAAAAAAA4D8AAAAAAADgPwAAAAAAAOA/AAAAAAAA4D8AAAAAAADgPwAAAAAAAOA/AAAAAAAA4D8AAAAAAADgPwAAAAAAAOA/AAAAAAAA4D8AAAAAAADgPwAAAAAAAOA/AAAAAAAA4D8AAAAAAADgPwAAAAAAAOA/AAAAAAAA4D8AAAAAAADgPwAAAAAAAOA/AAAAAAAA4D8AAAAAAADgPwAAAAAAAOA/AAAAAAAA4D8AAAAAAADgPwAAAAAAAOA/AAAAAAAA4D8AAAAAAADgPwAAAAAAAOA/AAAAAAAA4D8AAAAAAADgPwAAAAAAAOA/AAAAAAAA4D8AAAAAAADgPwAAAAAAAOA/AAAAAAAA4D8AAAAAAADgPwAAAAAAAOA/AAAAAAAA4D8AAAAAAADgPwAAAAAAAOA/AAAAAAAA4D8AAAAAAADgPwAAAAAAAOA/AAAAAAAA4D8AAAAAAADgPwAAAAAAAOA/////////3z8AAAAAAADgP////////98/AAAAAAAA4D8AAAAAAADgPwAAAAAAAOA/AAAAAAAA4D8AAAAAAADgPwAAAAAAAOA/AAAAAAAA4D8AAAAAAADgPwAAAAAAAOA/AAAAAAAA4D8AAAAAAADgPwAAAAAAAOA/AAAAAAAA4D8AAAAAAADgPwAAAAAAAOA/AAAAAAAA4D8AAAAAAADgPwAAAAAAAOA/AAAAAAAA4D8AAAAAAADgPwAAAAAAAOA/AAAAAAAA4D8AAAAAAADgPwAAAAAAAOA/AAAAAAAA4D8AAAAAAADgPwAAAAAAAOA/AAAAAAAA4D8AAAAAAADgPwAAAAAAAOA/AAAAAAAA4D8AAAAAAADgPwAAAAAAAOA/AAAAAAAA4D8AAAAAAADgPwAAAAAAAOA/AAAAAAAA4D8AAAAAAADgPwAAAAAAAOA/AAAAAAAA4D8AAAAAAADgPwAAAAAAAOA/AAAAAAAA4D8AAAAAAADgPwAAAAAAAOA/AAAAAAAA4D8AAAAAAADgPwAAAAAAAOA/AAAAAAAA4D8AAAAAAADgPwAAAAAAAOA/AAAAAAAA4D8AAAAAAADgPwAAAAAAAOA/AAAAAAAA4D8AAAAAAADgPwAAAAAAAOA/AAAAAAAA4D8AAAAAAADgPwAAAAAAAOA/AAAAAAAA4D8AAAAAAADgPwAAAAAAAOA/AAAAAAAA4D8AAAAAAADgPwAAAAAAAOA/AAAAAAAA4D8AAAAAAADgPwAAAAAAAOA/AAAAAAAA4D8AAAAAAADgPwAAAAAAAOA/AAAAAAAA4D8AAAAAAADgPwAAAAAAAOA/AAAAAAAA4D8AAAAAAADgPwAAAAAAAOA/AAAAAAAA4D8AAAAAAADgPwAAAAAAAOA/AAAAAAAA4D8AAAAAAADgPwAAAAAAAOA/AAAAAAAA4D8AAAAAAADgPwAAAAAAAOA/AAAAAAAA4D8AAAAAAADgPwAAAAAAAOA/AAAAAAAA4D8AAAAAAADgPwAAAAAAAOA/AAAAAAAA4D8AAAAAAADgPwAAAAAAAOA/AAAAAAAA4D8AAAAAAADgPwAAAAAAAOA/AAAAAAAA4D8AAAAAAADgPwAAAAAAAOA/AAAAAAAA4D8AAAAAAADgPwAAAAAAAOA/AAAAAAAA4D8AAAAAAADgPwAAAAAAAOA/AAAAAAAA4D8AAAAAAADgPwAAAAAAAOA/AAAAAAAA4D8rv6RXBefgP1d+Sa8KzuE/gj3uBhC14j+u/JJeFZzjP9m7N7Yag+Q/BXvcDSBq5T8wOoFlJVHmP1z5Jb0qOOc/AAAAAAAA6D8AAAAAAADoPwAAAAAAAOg/AAAAAAAA6D8=\",\"dtype\":\"float64\",\"shape\":[601]}}},\"id\":\"9d8991ff-927f-4694-a6ca-66e82f837ff8\",\"type\":\"ColumnDataSource\"},{\"attributes\":{\"callback\":null,\"column_names\":[\"x\",\"y\"],\"data\":{\"x\":[0,1000,2000,3000,4000,5000,6000,7000,8000,9000,10000,11000,12000,13000,14000,15000,16000,17000,18000,19000,20000,21000,22000,23000,24000,25000,26000,27000,28000,29000,30000,31000,32000,33000,34000,35000,36000,37000,38000,39000,40000,41000,42000,43000,44000,45000,46000,47000,48000,49000,50000,51000,52000,53000,54000,55000,56000,57000,58000,59000,60000,61000,62000,63000,64000,65000,66000,67000,68000,69000,70000,71000,72000,73000,74000,75000,76000,77000,78000,79000,80000,81000,82000,83000,84000,85000,86000,87000,88000,89000,90000,91000,92000,93000,94000,95000,96000,97000,98000,99000,100000,101000,102000,103000,104000,105000,106000,107000,108000,109000,110000,111000,112000,113000,114000,115000,116000,117000,118000,119000,120000,121000,122000,123000,124000,125000,126000,127000,128000,129000,130000,131000,132000,133000,134000,135000,136000,137000,138000,139000,140000,141000,142000,143000,144000,145000,146000,147000,148000,149000,150000,151000,152000,153000,154000,155000,156000,157000,158000,159000,160000,161000,162000,163000,164000,165000,166000,167000,168000,169000,170000,171000,172000,173000,174000,175000,176000,177000,178000,179000,180000,181000,182000,183000,184000,185000,186000,187000,188000,189000,190000,191000,192000,193000,194000,195000,196000,197000,198000,199000,200000,201000,202000,203000,204000,205000,206000,207000,208000,209000,210000,211000,212000,213000,214000,215000,216000,217000,218000,219000,220000,221000,222000,223000,224000,225000,226000,227000,228000,229000,230000,231000,232000,233000,234000,235000,236000,237000,238000,239000,240000,241000,242000,243000,244000,245000,246000,247000,248000,249000,250000,251000,252000,253000,254000,255000,256000,257000,258000,259000,260000,261000,262000,263000,264000,265000,266000,267000,268000,269000,270000,271000,272000,273000,274000,275000,276000,277000,278000,279000,280000,281000,282000,283000,284000,285000,286000,287000,288000,289000,290000,291000,292000,293000,294000,295000,296000,297000,298000,299000,300000,301000,302000,303000,304000,305000,306000,307000,308000,309000,310000,311000,312000,313000,314000,315000,316000,317000,318000,319000,320000,321000,322000,323000,324000,325000,326000,327000,328000,329000,330000,331000,332000,333000,334000,335000,336000,337000,338000,339000,340000,341000,342000,343000,344000,345000,346000,347000,348000,349000,350000,351000,352000,353000,354000,355000,356000,357000,358000,359000,360000,361000,362000,363000,364000,365000,366000,367000,368000,369000,370000,371000,372000,373000,374000,375000,376000,377000,378000,379000,380000,381000,382000,383000,384000,385000,386000,387000,388000,389000,390000,391000,392000,393000,394000,395000,396000,397000,398000,399000,400000,401000,402000,403000,404000,405000,406000,407000,408000,409000,410000,411000,412000,413000,414000,415000,416000,417000,418000,419000,420000,421000,422000,423000,424000,425000,426000,427000,428000,429000,430000,431000,432000,433000,434000,435000,436000,437000,438000,439000,440000,441000,442000,443000,444000,445000,446000,447000,448000,449000,450000,451000,452000,453000,454000,455000,456000,457000,458000,459000,460000,461000,462000,463000,464000,465000,466000,467000,468000,469000,470000,471000,472000,473000,474000,475000,476000,477000,478000,479000,480000,481000,482000,483000,484000,485000,486000,487000,488000,489000,490000,491000,492000,493000,494000,495000,496000,497000,498000,499000,500000,501000,502000,503000,504000,505000,506000,507000,508000,509000,510000,511000,512000,513000,514000,515000,516000,517000,518000,519000,520000,521000,522000,523000,524000,525000,526000,527000,528000,529000,530000,531000,532000,533000,534000,535000,536000,537000,538000,539000,540000,541000,542000,543000,544000,545000,546000,547000,548000,549000,550000,551000,552000,553000,554000,555000,556000,557000,558000,559000,560000,561000,562000,563000,564000,565000,566000,567000,568000,569000,570000,571000,572000,573000,574000,575000,576000,577000,578000,579000,580000,581000,582000,583000,584000,585000,586000,587000,588000,589000,590000,591000,592000,593000,594000,595000,596000,597000,598000,599000,600000],\"y\":{\"__ndarray__\":\"AAAAAAAAAAAAAAAAAAAAAAAAAAAAAAAAAAAAAAAAAAAAAAAAAAAAAAAAAAAAAAAAAAAAAAAAAAAAAAAAAAAAAAAAAAAAAAAAAAAAAAAAAAAAAAAAAAAAAAAAAAAAAAAAAAAAAAAAAAAAAAAAAAAAAAAAAAAAAAAAAAAAAAAAAAAAAAAAAAAAAAAAAAAAAAAAAAAAAAAAAAAAAAAAAAAAAAAAAAAAAAAAAAAAAAAAAAAAAAAAAAAAAAAAAAAAAAAAAAAAAAAAAAAAAAAAAAAAAAAAAAAAAAAAAAAAAAAAAAAAAAAAAAAAAAAAAAAAAAAAAAAAAAAAAAAAAAAAAAAAAAAAAAAAAAAAAAAAAAAAAAAAAAAAAAAAAAAAAAAAAAAAAAAAAAAAAAAAAAAAAAAAAAAAAAAAAAAAAAAAAAAAAAAAAAAAAAAAAAAAAAAAAAAAAAAAAAAAAAAAAAAAAAAAAAAAAAAAAAAAAAAAAAAAAAAAAAAAAAAAAAAAAAAAAAAAAAAAAAAAAAAAAAAAAAAAAAAAAAAAAAAAAAAAAAAAAAAAAAAAAAAAAAAAAAAAAAAAAAAAAAAAAAAAAAAAAAAAAAAAAAAAAAAAAAAAAAAAAAAAAAAAAAAAAAAAAAAAAAAAAAAAAAAAAAAAAAAAAAAAAAAAAAAAAAAAAAAAAAAAAAAAAAAAAAAAAAAAAAAAAAAAAAAAAAAAAAAAAAAAAAAAAAAAAAAAAAAAAAAAAAAAAAAAAAAAAAAAAAAAAAAAAAAAAAAAAAAAAAAAAAAAAAAAAAAAAAAAAAAAAAAAAAAAAAAAAAAAAAAAAAAAAAAAAAAAAAAAAAAAAAAAAAAAAAAAAAAAAAAAAAAAAAAAAAAAAAAAAAAAAAAAAAAAAAAAAAAAAAAAAAAAAAAAAAAAAAAAAAAAAAAAAAAAAAAAAAAAAAAAAAAAAAAAAAAAAAAAAAAAAAAAAAAAAAAAAAAAAAAAAAAAAAAAAAAAAAAAAAAAAAAAAAAAAAAAAAAAAAAAAAAAAAAAAAAAAAAAAAAAAAAAAAAAAAAAAAAAAAAAAAAAAAAAAAAAAAAAAAAAAAAAAAAAAAAAAAAAAAAAAAAAAAAAAAAAAAAAAAAAAAAAAAAAAAAAAAAAAAAAAAAAAAAAAAAAAAAAAAAAAAAAAAAAAAAAAAAAAAAAAAAAAAAAAAAAAAAAAAAAAAAAAAAAAAAAAAAAAAAAAAAAAAAAAAAAAAAAAAAAAAAAAAAAAAAAAAAAAAAAAAAAAAAAAAAAAAAAAAAAAAAAAAAAAAAAAAAAAAAAAAAAAAAAAAAAAAAAAAAAAAAAAAAAAAAAAAAAAAAAAAAAAAAAAAAAAAAAAAAAAAAAAAAAAAAAAAAAAAAAAAAAAAAAAAAAAAAAAAAAAAAAAAAAAAAAAAAAAAAAAAAAAAAAAAAAAAAAAAAAAAAAAAAAAAAAAAAAAAAAAAAAAAAAAAAAAAAAAAAAAAAAAAAAAAAAAAAAAAAAAAAAAAAAAAAAAAAAAAAAAAAAAAAAAAAAAAAAAAAAAAAAAAAAAAAAAAAAAAAAAAAAAAAAAAAAAAAAAAAAAAAAAAAAAAAAAAAAAAAAAAAAAAAAAAAAAAAAAAAAAAAAAAAAAAAAAAAAAAAAAAAAAAAAAAAAAAAAAAAAAAAAAAAAAAAAAAAAAAAAAAAAAAAAAAAAAAAAAAAAAAAAAAAAAAAAAAAAAAAAAAAAAAAAAAAAAAAAAAAAAAAAAAAAAAAAAAAAAAAAAAAAAAAAAAAAAAAAAAAAAAAAAAAAAAAAAAAAAAAAAAAAAAAAAAAAAAAAAAAAAAAAAAAAAAAAAAAAAAAAAAAAAAAAAAAAAAAAAAAAAAAAAAAAAAAAAAAAAAAAAAAAAAAAAAAAAAAAAAAAAAAAAAAAAAAAAAAAAAAAAAAAAAAAAAAAAAAAAAAAAAAAAAAAAAAAAAAAAAAAAAAAAAAAAAAAAAAAAAAAAAAAAAAAAAAAAAAAAAAAAAAAAAAAAAAAAAAAAAAAAAAAAAAAAAAAAAAAAAAAAAAAAAAAAAAAAAAAAAAAAAAAAAAAAAAAAAAAAAAAAAAAAAAAAAAAAAAAAAAAAAAAAAAAAAAAAAAAAAAAAAAAAAAAAAAAAAAAAAAAAAAAAAAAAAAAAAAAAAAAAAAAAAAAAAAAAAAAAAAAAAAAAAAAAAAAAAAAAAAAAAAAAAAAAAAAAAAAAAAAAAAAAAAAAAAAAAAAAAAAAAAAAAAAAAAAAAAAAAAAAAAAAAAAAAAAAAAAAAAAAAAAAAAAAAAAAAAAAAAAAAAAAAAAAAAAAAAAAAAAAAAAAAAAAAAAAAAAAAAAAAAAAAAAAAAAAAAAAAAAAAAAAAAAAAAAAAAAAAAAAAAAAAAAAAAAAAAAAAAAAAAAAAAAAAAAAAAAAAAAAAAAAAAAAAAAAAAAAAAAAAAAAAAAAAAAAAAAAAAAAAAAAAAAAAAAAAAAAAAAAAAAAAAAAAAAAAAAAAAAAAAAAAAAAAAAAAAAAAAAAAAAAAAAAAAAAAAAAAAAAAAAAAAAAAAAAAAAAAAAAAAAAAAAAAAAAAAAAAAAAAAAAAAAAAAAAAAAAAAAAAAAAAAAAAAAAAAAAAAAAAAAAAAAAAAAAAAAAAAAAAAAAAAAAAAAAAAAAAAAAAAAAAAAAAAAAAAAAAAAAAAAAAAAAAAAAAAAAAAAAAAAAAAAAAAAAAAAAAAAAAAAAAAAAAAAAAAAAAAAAAAAAAAAAAAAAAAAAAAAAAAAAAAAAAAAAAAAAAAAAAAAAAAAAAAAAAAAAAAAAAAAAAAAAAAAAAAAAAAAAAAAAAAAAAAAAAAAAAAAAAAAAAAAAAAAAAAAAAAAAAAAAAAAAAAAAAAAAAAAAAAAAAAAAAAAAAAAAAAAAAAAAAAAAAAAAAAAAAAAAAAAAAAAAAAAAAAAAAAAAAAAAAAAAAAAAAAAAAAAAAAAAAAAAAAAAAAAAAAAAAAAAAAAAAAAAAAAAAAAAAAAAAAAAAAAAAAAAAAAAAAAAAAAAAAAAAAAAAAAAAAAAAAAAAAAAAAAAAAAAAAAAAAAAAAAAAAAAAAAAAAAAAAAAAAAAAAAAAAAAAAAAAAAAAAAAAAAAAAAAAAAAAAAAAAAAAAAAAAAAAAAAAAAAAAAAAAAAAAAAAAAAAAAAAAAAAAAAAAAAAAAAAAAAAAAAAAAAAAAAAAAAAAAAAAAAAAAAAAAAAAAAAAAAAAAAAAAAAAAAAAAAAAAAAAAAAAAAAAAAAAAAAAAAAAAAAAAAAAAAAAAAAAAAAAAAAAAAAAAAAAAAAAAAAAAAAAAAAAAAAAAAAAAAAAAAAAAAAAAAAAAAAAAAAAAAAAAAAAAAAAAAAAAAAAAAAAAAAAAAAAAAAAAAAAAAAAAAAAAAAAAAAAAAAAAAAAAAAAAAAAAAAAAAAAAAAAAAAAAAAAAAAAAAAAAAAAAAAAAAAAAAAAAAAAAAAAAAAAAAAAAAAAAAAAAAAAAAAAAAAAAAAAAAAAAAAAAAAAAAAAAAAAAAAAAAAAAAAAAAAAAAAAAAAAAAAAAAAAAAAAAAAAAAAAAAAAAAAAAAAAAAAAAAAAAAAAAAAAAAAAAAAAAAAAAAAAAAAAAAAAAAAAAAAAAAAAAAAAAAAAAAAAAAAAAAAAAAAAAAAAAAAAAAAAAAAAAAAAAAAAAAAAAAAAAAAAAAAAAAAAAAAAAAAAAAAAAAAAAAAAAAAAAAAAAAAAAAAAAAAAAAAAAAAAAAAAAAAAAAAAAAAAAAAAAAAAAAAAAAAAAAAAAAAAAAAAAAAAAAAAAAAAAAAAAAAAAAAAAAAAAAAAAAAAAAAAAAAAAAAAAAAAAAAAAAAAAAAAAAAAAAAAAAAAAAAAAAAAAAAAAAAAAAAAAAAAAAAAAAAAAAAAAAAAAAAAAAAAAAAAAACotDIfChH0/4CFJ5ZEjlj86nGeU+XKiP4WnKjYq1Kk/aNn2a62asD8NX9i8RUu0P7LkuQ3e+7c/WGqbXnasuz/973yvDl2/P9E6L4DThsE/pP2fqB9fwz92wBDRazfFP0mDgfm3D8c/HEbyIQToyD/uCGNKUMDKP8HL03KcmMw/k45Em+hwzj8AAAAAAADQPwAAAAAAANA/AAAAAAAA0D8AAAAAAADQPwAAAAAAANA/AAAAAAAA0D8AAAAAAADQPwAAAAAAANA/AAAAAAAA0D8AAAAAAADQPwAAAAAAANA/AAAAAAAA0D8AAAAAAADQPwAAAAAAANA/AAAAAAAA0D8AAAAAAADQPwAAAAAAANA/AAAAAAAA0D8BAAAAAADQPwEAAAAAANA/AQAAAAAA0D/////////PPwAAAAAAANA/AAAAAAAA0D8AAAAAAADQPwAAAAAAANA/AAAAAAAA0D8AAAAAAADQP////////88/AAAAAAAA0D8AAAAAAADQPwAAAAAAANA/AAAAAAAA0D8AAAAAAADQPwAAAAAAANA/AAAAAAAA0D8AAAAAAADQPwAAAAAAANA/AAAAAAAA0D8AAAAAAADQPwAAAAAAANA/AAAAAAAA0D8AAAAAAADQPwAAAAAAANA/AAAAAAAA0D/////////PPwAAAAAAANA/AAAAAAAA0D8AAAAAAADQPwAAAAAAANA/////////zz8AAAAAAADQP////////88/AAAAAAAA0D8AAAAAAADQPwAAAAAAANA/////////zz/////////PP////////88/////////zz8AAAAAAADQP////////88/AAAAAAAA0D8AAAAAAADQPwAAAAAAANA/AAAAAAAA0D8AAAAAAADQPwAAAAAAANA/AAAAAAAA0D8AAAAAAADQPwAAAAAAANA/AAAAAAAA0D8AAAAAAADQPwAAAAAAANA/AAAAAAAA0D8AAAAAAADQPwAAAAAAANA/AAAAAAAA0D8AAAAAAADQPwAAAAAAANA/AAAAAAAA0D8AAAAAAADQPwAAAAAAANA/AAAAAAAA0D/////////PPwAAAAAAANA/AAAAAAAA0D8AAAAAAADQPwAAAAAAANA/AAAAAAAA0D8AAAAAAADQPwAAAAAAANA/AAAAAAAA0D8AAAAAAADQPwAAAAAAANA/AAAAAAAA0D8AAAAAAADQPwAAAAAAANA/AAAAAAAA0D8AAAAAAADQPwAAAAAAANA/AAAAAAAA0D8AAAAAAADQPwAAAAAAANA/AAAAAAAA0D8AAAAAAADQP8lxp+l05NA/kuNO0+nI0T9cVfa8Xq3SPyXHnabTkdM/7jhFkEh21D+3qux5vVrVP4AclGMyP9Y/SY47Tacj1z8SAOM2HAjYP9xxiiCR7Ng/pOMxCgbR2T9uVdnzerXaPzfHgN3vmds/ADkox2R+3D/Kqs+w2WLdP5Icd5pOR94/XI4ehMMr3z8AAAAAAADgPwAAAAAAAOA/AAAAAAAA4D/////////fPwAAAAAAAOA/AAAAAAAA4D8AAAAAAADgPwAAAAAAAOA/AAAAAAAA4D8AAAAAAADgPwAAAAAAAOA/AAAAAAAA4D8AAAAAAADgPwAAAAAAAOA/AAAAAAAA4D8AAAAAAADgPwAAAAAAAOA/AAAAAAAA4D8AAAAAAADgPwAAAAAAAOA/AAAAAAAA4D8AAAAAAADgPwAAAAAAAOA/AAAAAAAA4D8AAAAAAADgPwAAAAAAAOA/AAAAAAAA4D8AAAAAAADgPwAAAAAAAOA/AAAAAAAA4D8AAAAAAADgPwAAAAAAAOA/AAAAAAAA4D8AAAAAAADgPwAAAAAAAOA/AAAAAAAA4D8AAAAAAADgPwAAAAAAAOA/AAAAAAAA4D8AAAAAAADgPwAAAAAAAOA/AAAAAAAA4D8AAAAAAADgPwAAAAAAAOA/AAAAAAAA4D8AAAAAAADgPwAAAAAAAOA/AAAAAAAA4D8AAAAAAADgPwAAAAAAAOA/AAAAAAAA4D8AAAAAAADgPwAAAAAAAOA/AAAAAAAA4D8AAAAAAADgPwAAAAAAAOA/AAAAAAAA4D8AAAAAAADgPwAAAAAAAOA/AAAAAAAA4D8AAAAAAADgPwAAAAAAAOA/AAAAAAAA4D8AAAAAAADgPwAAAAAAAOA/AAAAAAAA4D8AAAAAAADgPwAAAAAAAOA/AAAAAAAA4D8AAAAAAADgPwAAAAAAAOA/AAAAAAAA4D8AAAAAAADgPwAAAAAAAOA/AAAAAAAA4D8AAAAAAADgPwAAAAAAAOA/AAAAAAAA4D8AAAAAAADgPwAAAAAAAOA/AAAAAAAA4D8AAAAAAADgPwAAAAAAAOA/AAAAAAAA4D8AAAAAAADgPwAAAAAAAOA/AAAAAAAA4D8AAAAAAADgPwAAAAAAAOA/AAAAAAAA4D8AAAAAAADgPwAAAAAAAOA/AAAAAAAA4D8=\",\"dtype\":\"float64\",\"shape\":[601]}}},\"id\":\"703709e9-46ef-48a1-a218-e53bd4249d38\",\"type\":\"ColumnDataSource\"},{\"attributes\":{\"line_color\":{\"value\":\"#e41a1c\"},\"line_width\":{\"value\":2},\"x\":{\"field\":\"x\"},\"y\":{\"field\":\"y\"}},\"id\":\"004aefd4-c788-4afe-be56-d8336ccffb88\",\"type\":\"Line\"},{\"attributes\":{\"overlay\":{\"id\":\"ed02852a-5611-4edb-911a-13b66e6c61ee\",\"type\":\"BoxAnnotation\"},\"plot\":{\"id\":\"fe2c2587-4a9e-4190-a790-8d75e318f62a\",\"subtype\":\"Figure\",\"type\":\"Plot\"}},\"id\":\"c9da5418-30dd-434f-a148-cff3728b76da\",\"type\":\"BoxZoomTool\"},{\"attributes\":{\"line_alpha\":{\"value\":0.1},\"line_color\":{\"value\":\"#1f77b4\"},\"line_width\":{\"value\":2},\"x\":{\"field\":\"x\"},\"y\":{\"field\":\"y\"}},\"id\":\"8ee32d04-6967-472b-b142-d95b3a980e24\",\"type\":\"Line\"},{\"attributes\":{\"line_color\":{\"value\":\"#ffff33\"},\"line_width\":{\"value\":2},\"x\":{\"field\":\"x\"},\"y\":{\"field\":\"y\"}},\"id\":\"399b6ed4-8783-4c48-a76c-9939fe77bf69\",\"type\":\"Line\"},{\"attributes\":{\"label\":{\"value\":\"0.3 Alpha 16 NScaler Epsilon\"},\"renderers\":[{\"id\":\"a7faa89a-be54-45ca-85a0-eb4dd6a1883d\",\"type\":\"GlyphRenderer\"}]},\"id\":\"bf02db92-e4d0-41e2-a7cb-d321e91eeb20\",\"type\":\"LegendItem\"},{\"attributes\":{\"label\":{\"value\":\"0.3 Alpha 16 NScaler 0.1 Bandit\"},\"renderers\":[{\"id\":\"21067fbc-e07e-4112-8e5a-f74123406b9f\",\"type\":\"GlyphRenderer\"}]},\"id\":\"59a621ec-c452-42be-9890-3a47f31e0f85\",\"type\":\"LegendItem\"},{\"attributes\":{\"line_alpha\":{\"value\":0.1},\"line_color\":{\"value\":\"#1f77b4\"},\"line_width\":{\"value\":2},\"x\":{\"field\":\"x\"},\"y\":{\"field\":\"y\"}},\"id\":\"1c117fed-deb9-4a2b-b86c-7e8ec4dc69ed\",\"type\":\"Line\"},{\"attributes\":{\"data_source\":{\"id\":\"1f662457-4119-4a7a-911e-996ce656547b\",\"type\":\"ColumnDataSource\"},\"glyph\":{\"id\":\"478688ac-be4c-4c73-b654-7a44363f24e8\",\"type\":\"Line\"},\"hover_glyph\":null,\"nonselection_glyph\":{\"id\":\"8ee32d04-6967-472b-b142-d95b3a980e24\",\"type\":\"Line\"},\"selection_glyph\":null},\"id\":\"a7faa89a-be54-45ca-85a0-eb4dd6a1883d\",\"type\":\"GlyphRenderer\"},{\"attributes\":{\"callback\":null,\"column_names\":[\"x\",\"y\"],\"data\":{\"x\":[0,1000,2000,3000,4000,5000,6000,7000,8000,9000,10000,11000,12000,13000,14000,15000,16000,17000,18000,19000,20000,21000,22000,23000,24000,25000,26000,27000,28000,29000,30000,31000,32000,33000,34000,35000,36000,37000,38000,39000,40000,41000,42000,43000,44000,45000,46000,47000,48000,49000,50000,51000,52000,53000,54000,55000,56000,57000,58000,59000,60000,61000,62000,63000,64000,65000,66000,67000,68000,69000,70000,71000,72000,73000,74000,75000,76000,77000,78000,79000,80000,81000,82000,83000,84000,85000,86000,87000,88000,89000,90000,91000,92000,93000,94000,95000,96000,97000,98000,99000,100000,101000,102000,103000,104000,105000,106000,107000,108000,109000,110000,111000,112000,113000,114000,115000,116000,117000,118000,119000,120000,121000,122000,123000,124000,125000,126000,127000,128000,129000,130000,131000,132000,133000,134000,135000,136000,137000,138000,139000,140000,141000,142000,143000,144000,145000,146000,147000,148000,149000,150000,151000,152000,153000,154000,155000,156000,157000,158000,159000,160000,161000,162000,163000,164000,165000,166000,167000,168000,169000,170000,171000,172000,173000,174000,175000,176000,177000,178000,179000,180000,181000,182000,183000,184000,185000,186000,187000,188000,189000,190000,191000,192000,193000,194000,195000,196000,197000,198000,199000,200000,201000,202000,203000,204000,205000,206000,207000,208000,209000,210000,211000,212000,213000,214000,215000,216000,217000,218000,219000,220000,221000,222000,223000,224000,225000,226000,227000,228000,229000,230000,231000,232000,233000,234000,235000,236000,237000,238000,239000,240000,241000,242000,243000,244000,245000,246000,247000,248000,249000,250000,251000,252000,253000,254000,255000,256000,257000,258000,259000,260000,261000,262000,263000,264000,265000,266000,267000,268000,269000,270000,271000,272000,273000,274000,275000,276000,277000,278000,279000,280000,281000,282000,283000,284000,285000,286000,287000,288000,289000,290000,291000,292000,293000,294000,295000,296000,297000,298000,299000,300000,301000,302000,303000,304000,305000,306000,307000,308000,309000,310000,311000,312000,313000,314000,315000,316000,317000,318000,319000,320000,321000,322000,323000,324000,325000,326000,327000,328000,329000,330000,331000,332000,333000,334000,335000,336000,337000,338000,339000,340000,341000,342000,343000,344000,345000,346000,347000,348000,349000,350000,351000,352000,353000,354000,355000,356000,357000,358000,359000,360000,361000,362000,363000,364000,365000,366000,367000,368000,369000,370000,371000,372000,373000,374000,375000,376000,377000,378000,379000,380000,381000,382000,383000,384000,385000,386000,387000,388000,389000,390000,391000,392000,393000,394000,395000,396000,397000,398000,399000,400000,401000,402000,403000,404000,405000,406000,407000,408000,409000,410000,411000,412000,413000,414000,415000,416000,417000,418000,419000,420000,421000,422000,423000,424000,425000,426000,427000,428000,429000,430000,431000,432000,433000,434000,435000,436000,437000,438000,439000,440000,441000,442000,443000,444000,445000,446000,447000,448000,449000,450000,451000,452000,453000,454000,455000,456000,457000,458000,459000,460000,461000,462000,463000,464000,465000,466000,467000,468000,469000,470000,471000,472000,473000,474000,475000,476000,477000,478000,479000,480000,481000,482000,483000,484000,485000,486000,487000,488000,489000,490000,491000,492000,493000,494000,495000,496000,497000,498000,499000,500000,501000,502000,503000,504000,505000,506000,507000,508000,509000,510000,511000,512000,513000,514000,515000,516000,517000,518000,519000,520000,521000,522000,523000,524000,525000,526000,527000,528000,529000,530000,531000,532000,533000,534000,535000,536000,537000,538000,539000,540000,541000,542000,543000,544000,545000,546000,547000,548000,549000,550000,551000,552000,553000,554000,555000,556000,557000,558000,559000,560000,561000,562000,563000,564000,565000,566000,567000,568000,569000,570000,571000,572000,573000,574000,575000,576000,577000,578000,579000,580000,581000,582000,583000,584000,585000,586000,587000,588000,589000,590000,591000,592000,593000,594000,595000,596000,597000,598000,599000,600000],\"y\":{\"__ndarray__\":\"AAAAAAAAAAAAAAAAAAAAAAAAAAAAAAAAAAAAAAAAAAAAAAAAAAAAAAAAAAAAAAAAAAAAAAAAAAAAAAAAAAAAAAAAAAAAAAAAAAAAAAAAAAAAAAAAAAAAAAAAAAAAAAAAAAAAAAAAAAAAAAAAAAAAAAAAAAAAAAAAAAAAAAAAAAAAAAAAAAAAAAAAAAAAAAAAAAAAAAAAAAAAAAAAAAAAAAAAAAAAAAAAAAAAAAAAAAAAAAAAAAAAAAAAAAAAAAAAAAAAAAAAAAAAAAAAAAAAAAAAAAAAAAAAAAAAAAAAAAAAAAAAAAAAAAAAAAAAAAAAAAAAAAAAAAAAAAAAAAAAAAAAAAAAAAAAAAAAAAAAAAAAAAAAAAAAAAAAAAAAAAAAAAAAAAAAAAAAAAAAAAAAAAAAAAAAAAAAAAAAAAAAAAAAAAAAAAAAAAAAAAAAAAAAAAAAAAAAAAAAAAAAAAAAAAAAAAAAAAAAAAAAAAAAAAAAAAAAAAAAAAAAAAAAAAAAAAAAAAAAAAAAAAAAAAAAAAAAAAAAAAAAAAAAAAAAAAAAAAAAAAAAAAAAAAAAAAAAAAAAAAAAAAAAAAAAAAAAAAAAAAAAAAAAAAAAAAAAAAAAAAAAAAAAAAAAAAAAAAAAAAAAAAAAAAAAAAAAAAAAAAAAAAAAAAAAAAAAAAAAAAAAAAAAAAAAAAAAAAAAAAAAAAAAAAAAAAAAAAAAAAAAAAAAAAAAAAAAAAAAAAAAAAAAAAAAAAAAAAAAAAAAAAAAAAAAAAAAAAAAAAAAAAAAAAAAAAAAAAAAAAAAAAAAAAAAAAAAAAAAAAAAAAAAAAAAAAAAAAAAAAAAAAAAAAAAAAAAAAAAAAAAAAAAAAAAAAAAAAAAAAAAAAAAAAAAAAAAAAAAAAAAAAAAAAAAAAAAAAAAAAAAAAAAAAAAAAAAAAAAAAAAAAAAAAAAAAAAAAAAAAAAAAAAAAAAAAAAAAAAAAAAAAAAAAAAAAAAAAAAAAAAAAAAAAAAAAAAAAAAAAAAAAAAAAAAAAAAAAAAAAAAAAAAAAAAAAAAAAAAAAAAAAAAAAAAAAAAAAAAAAAAAAAAAAAAAAAAAAAAAAAAAAAAAAAAAAAAAAAAAAAAAAAAAAAAAAAAAAAAAAAAAAAAAAAAAAAAAAAAAAAAAAAAAAAAAAAAAAAAAAAAAAAAAAAAAAAAAAAAAAAAAAAAAAAAAAAAAAAAAAAAAAAAAAAAAAAAAAAAAAAAAAAAAAAAAAAAAAAAAAAAAAAAAAAAAAAAAAAAAAAAAAAAAAAAAAAAAAAAAAAAAAAAAAAAAAAAAAAAAAAAAAAAAAAAAAAAAAAAAAAAAAAAAAAAAAAAAAAAAAAAAAAAAAAAAAAAAAAAAAAAAAAAAAAAAAAAAAAAAAAAAAAAAAAAAAAAAAAAAAAAAAAAAAAAAAAAAAAAAAAAAAAAAAAAAAAAAAAAAAAAAAAAAAAAAAAAAAAAAAAAAAAAAAAAAAAAAAAAAAAAAAAAAAAAAAAAAAAAAAAAAAAAAAAAAAAAAAAAAAAAAAAAAAAAAAAAAAAAAAAAAAAAAAAAAAAAAADxU+kFi9GLP/FT6QWL0Zs/9f5uRCjdpD/xU+kFi9GrP3fUseP2YrE/9f5uRCjdtD9zKSylWVe4P/FT6QWL0bs/b36mZrxLvz931LHj9mLBP7ZpEJQPIMM/9f5uRCjdxD80lM30QJrGP3MpLKVZV8g/sr6KVXIUyj/xU+kFi9HLPzDpR7ajjs0/b36mZrxLzz8AAAAAAADQPwAAAAAAANA/AAAAAAAA0D8AAAAAAADQPwAAAAAAANA/AAAAAAAA0D8AAAAAAADQPwAAAAAAANA/AAAAAAAA0D8AAAAAAADQPwAAAAAAANA/AAAAAAAA0D8AAAAAAADQPwAAAAAAANA/AAAAAAAA0D8AAAAAAADQPwAAAAAAANA/AAAAAAAA0D8AAAAAAADQPwAAAAAAANA/AAAAAAAA0D8AAAAAAADQPwAAAAAAANA/AAAAAAAA0D8AAAAAAADQPwAAAAAAANA/AAAAAAAA0D8AAAAAAADQPwAAAAAAANA/AAAAAAAA0D8AAAAAAADQPwAAAAAAANA/AAAAAAAA0D8AAAAAAADQPwAAAAAAANA/AAAAAAAA0D/////////PP////////88/AAAAAAAA0D8AAAAAAADQPwAAAAAAANA/////////zz8AAAAAAADQPwAAAAAAANA/AAAAAAAA0D8AAAAAAADQPwAAAAAAANA/AAAAAAAA0D8AAAAAAADQPwAAAAAAANA/AAAAAAAA0D8AAAAAAADQPwAAAAAAANA/AAAAAAAA0D8AAAAAAADQPwAAAAAAANA/AAAAAAAA0D8AAAAAAADQPwAAAAAAANA/AAAAAAAA0D8AAAAAAADQPwAAAAAAANA/AAAAAAAA0D8AAAAAAADQPwAAAAAAANA/AAAAAAAA0D8AAAAAAADQPwAAAAAAANA/AAAAAAAA0D8AAAAAAADQPwAAAAAAANA/AAAAAAAA0D/////////PPwAAAAAAANA/AAAAAAAA0D8AAAAAAADQPwAAAAAAANA/////////zz8AAAAAAADQP////////88/AAAAAAAA0D8AAAAAAADQPwAAAAAAANA/////////zz8AAAAAAADQPwAAAAAAANA/AAAAAAAA0D8AAAAAAADQPwAAAAAAANA/AAAAAAAA0D8AAAAAAADQPwAAAAAAANA/AAAAAAAA0D8AAAAAAADQPwAAAAAAANA/AAAAAAAA0D8AAAAAAADQPwAAAAAAANA/AAAAAAAA0D8AAAAAAADQP////////88/AAAAAAAA0D8AAAAAAADQPwAAAAAAANA/AAAAAAAA0D8AAAAAAADQPwAAAAAAANA/AAAAAAAA0D8AAAAAAADQPwAAAAAAANA/AAAAAAAA0D8AAAAAAADQPwEAAAAAANA/AAAAAAAA0D8AAAAAAADQPwAAAAAAANA/AAAAAAAA0D8AAAAAAADQPwAAAAAAANA/AAAAAAAA0D8AAAAAAADQPwAAAAAAANA/AAAAAAAA0D8AAAAAAADQPwAAAAAAANA/////////zz8AAAAAAADQPwAAAAAAANA/AAAAAAAA0D8AAAAAAADQPwAAAAAAANA/AAAAAAAA0D8AAAAAAADQPwAAAAAAANA/AAAAAAAA0D8AAAAAAADQPwAAAAAAANA/AAAAAAAA0D8AAAAAAADQPwAAAAAAANA/AAAAAAAA0D8AAAAAAADQPwAAAAAAANA/AAAAAAAA0D8AAAAAAADQPwAAAAAAANA/AAAAAAAA0D8AAAAAAADQPwAAAAAAANA/AAAAAAAA0D8AAAAAAADQPwAAAAAAANA/AAAAAAAA0D9ae/LvXA7RPw9y188WK9M/xGi8r9BH1T95X6GPimTXPy5Whm9Egdk/4kxrT/6d2z+XQ1AvuLrdP0w6NQ9y198/AAAAAAAA4D8AAAAAAADgP////////98/AAAAAAAA4D8AAAAAAADgPwAAAAAAAOA/AAAAAAAA4D8AAAAAAADgPwAAAAAAAOA/AAAAAAAA4D8AAAAAAADgPwAAAAAAAOA/AAAAAAAA4D8AAAAAAADgPwAAAAAAAOA/AAAAAAAA4D8AAAAAAADgPwAAAAAAAOA/AAAAAAAA4D8AAAAAAADgPwAAAAAAAOA/AAAAAAAA4D8AAAAAAADgPwAAAAAAAOA/AAAAAAAA4D8AAAAAAADgPwAAAAAAAOA/AAAAAAAA4D8AAAAAAADgPwAAAAAAAOA/3v2eNMm63z+0hWUvmhPfP4oNLCprbN4/YJXyJDzF3T82HbkfDR7dPw6lfxredtw/5CxGFa/P2z+6tAwQgCjbP5A80wpRgdo/ZsSZBSLa2T88TGAA8zLZPxLUJvvDi9g/6Vvt9ZTk1z+/47PwZT3XP5Vreus2ltY/bPNA5gfv1T9Cewfh2EfVPxgDztupoNQ/7oqU1nr50z/EElvRS1LTP5qaIcwcq9I/cSLoxu0D0j9Hqq7BvlzRPxwydbyPtdA/87k7t2AO0D9LohwtYdPQP6EC1valutE/+GKPwOqh0j9Ow0iKL4nTP6UjAlR0cNQ//IO7HblX1T9S5HTn/T7WP6hELrFCJtc//6TneocN2D9WBaFEzPTYP6xlWg4R3Nk/AsYT2FXD2j9ZJs2hmqrbP7CGhmvfkdw/Buc/NSR53T9cR/n+aGDeP7OnssitR98/AAAAAAAA4D8AAAAAAADgPwAAAAAAAOA/AAAAAAAA4D8AAAAAAADgPwAAAAAAAOA/AAAAAAAA4D8AAAAAAADgPwAAAAAAAOA/AAAAAAAA4D8AAAAAAADgPwAAAAAAAOA/AAAAAAAA4D8AAAAAAADgPwAAAAAAAOA/AAAAAAAA4D8AAAAAAADgPwAAAAAAAOA/Jel8M/tP4D9wu3aa8e/gP7qNcAHoj+E/BGBqaN4v4j9PMmTP1M/iP5kEXjbLb+M/5NZXncEP5D8uqVEEuK/kP3h7S2uuT+U/w01F0qTv5T8OID85m4/mP1jyOKCRL+c/osQyB4jP5z8AAAAAAADoPwAAAAAAAOg/AAAAAAAA6D8AAAAAAADoPwAAAAAAAOg/AAAAAAAA6D8AAAAAAADoPwAAAAAAAOg/AAAAAAAA6D8AAAAAAADoPwAAAAAAAOg/AAAAAAAA6D8AAAAAAADoPwAAAAAAAOg/AAAAAAAA6D8AAAAAAADoPwAAAAAAAOg/AAAAAAAA6D8AAAAAAADoP3dFSmu9/Oc/Yomt6CWp5z9NzRBmjlXnPzgRdOP2Aec/JFXXYF+u5j8OmTrex1rmP/rcnVswB+Y/5SAB2Ziz5T/QZGRWAWDlP7uox9NpDOU/puwqUdK45D+RMI7OOmXkP3x08UujEeQ/aLhUyQu+4z9S/LdGdGrjPz5AG8TcFuM/KIR+QUXD4j8UyOG+rW/iP/8LRTwWHOI/6k+ouX7I4T/Vkws353ThP8DXbrRPIeE/qxvSMbjN4D+WXzWvIHrgP4KjmCyJJuA/JLcrTNKB4D/lFAZ6rXLhP6Zy4KeIY+I/ZtC61WNU4z8oLpUDP0XkP+iLbzEaNuU/qelJX/Um5j9qRySN0BfnPwAAAAAAAOg/AAAAAAAA6D8AAAAAAADoPwAAAAAAAOg/AAAAAAAA6D8AAAAAAADoPwAAAAAAAOg/AAAAAAAA6D8AAAAAAADoPwAAAAAAAOg/AAAAAAAA6D8AAAAAAADoPwAAAAAAAOg/AAAAAAAA6D8AAAAAAADoP4TOH0Ni9ec/bhKDwMqh5z9aVuY9M07nP0WaSbub+uY/MN6sOASn5j8bIhC2bFPmPwZmczPV/+U/8anWsD2s5T/c7TkupljlP8gxnasOBeU/snUAKXex5D+euWOm313kP4n9xiNICuQ/dEEqobC24z9fhY0eGWPjP0rJ8JuBD+M/NQ1UGeq74j8gUbeWUmjiP2NJBVYfa+I//vU9V1DE4j+YonZYgR3jPzJPr1myduM/zfvnWuPP4z9oqCBcFCnkPwJVWV1FguQ/VeV/TeJ15T9SmpekXMXmP1BPr/vWFOg/TATHUlFk6T9Kud6py7PqP7fRCpF7k+s/BB5NZC027D9Sao8339jsP6C20QqRe+0/7gIU3kIe7j88T1ax9MDuP4qbmISmY+8/AAAAAAAA8D8AAAAAAADwPwAAAAAAAPA/AAAAAAAA8D8AAAAAAADwPwAAAAAAAPA/AAAAAAAA8D8AAAAAAADwPwAAAAAAAPA/AAAAAAAA8D8AAAAAAADwPwAAAAAAAPA/AAAAAAAA8D8AAAAAAADwPwAAAAAAAPA/AAAAAAAA8D8AAAAAAADwPwAAAAAAAPA/AAAAAAAA8D8AAAAAAADwPwAAAAAAAPA/AAAAAAAA8D8AAAAAAADwPwAAAAAAAPA/AAAAAAAA8D8AAAAAAADwPwAAAAAAAPA/k/xZE9Wu7z9+QL2QPVvvP2mEIA6mB+8/VMiDiw607j8/DOcId2DuPypQSobfDO4/FZStA0i57T8A2BCBsGXtP+wbdP4YEu0/1l/Xe4G+7D/Cozr56WrsP63nnXZSF+w/mCsB9LrD6z+Db2RxI3DrP26zx+6LHOs/WfcqbPTI6j9EO47pXHXqPy9/8WbFIeo/GsNU5C3O6T8GB7hhlnrpP/FKG9/+Juk/3I5+XGfT6D/H0uHZz3/oP7IWRVc4LOg/AZRZnuY26D8slbGSdqvoP1aWCYcGIOk/gJdhe5aU6T+rmLlvJgnqP9WZEWS2feo/AJtpWEby6j8qnMFM1mbrP1SdGUFm2+s/f55xNfZP7D+pn8kphsTsP9SgIR4WOe0//qF5Eqat7T8oo9EGNiLuP1OkKfvFlu4/faWB71UL7z8=\",\"dtype\":\"float64\",\"shape\":[601]}}},\"id\":\"a561702a-3b7d-493b-822a-a21bf3182a29\",\"type\":\"ColumnDataSource\"},{\"attributes\":{\"data_source\":{\"id\":\"a561702a-3b7d-493b-822a-a21bf3182a29\",\"type\":\"ColumnDataSource\"},\"glyph\":{\"id\":\"399b6ed4-8783-4c48-a76c-9939fe77bf69\",\"type\":\"Line\"},\"hover_glyph\":null,\"nonselection_glyph\":{\"id\":\"1c117fed-deb9-4a2b-b86c-7e8ec4dc69ed\",\"type\":\"Line\"},\"selection_glyph\":null},\"id\":\"57b4712e-11c0-4f7a-99ec-31caece020a9\",\"type\":\"GlyphRenderer\"},{\"attributes\":{\"below\":[{\"id\":\"304a1dbc-c292-4104-8e0e-7a07014ae5b0\",\"type\":\"LinearAxis\"}],\"left\":[{\"id\":\"91b39383-4448-44d4-8c83-bc717f7be641\",\"type\":\"LinearAxis\"}],\"plot_height\":800,\"plot_width\":1200,\"renderers\":[{\"id\":\"304a1dbc-c292-4104-8e0e-7a07014ae5b0\",\"type\":\"LinearAxis\"},{\"id\":\"1bee26b4-8dad-4a7e-825f-410955a7a326\",\"type\":\"Grid\"},{\"id\":\"91b39383-4448-44d4-8c83-bc717f7be641\",\"type\":\"LinearAxis\"},{\"id\":\"220192f4-85c0-4cb4-a23b-7e32d78d906c\",\"type\":\"Grid\"},{\"id\":\"ed02852a-5611-4edb-911a-13b66e6c61ee\",\"type\":\"BoxAnnotation\"},{\"id\":\"bc1a5939-115e-4f78-920f-94fcf7ff5a77\",\"type\":\"GlyphRenderer\"},{\"id\":\"147292ae-7f3b-4c8d-adcc-d34c1e4edf4c\",\"type\":\"GlyphRenderer\"},{\"id\":\"21067fbc-e07e-4112-8e5a-f74123406b9f\",\"type\":\"GlyphRenderer\"},{\"id\":\"a7faa89a-be54-45ca-85a0-eb4dd6a1883d\",\"type\":\"GlyphRenderer\"},{\"id\":\"3557a67e-2e13-42f2-b32c-e95d8a36b7d0\",\"type\":\"GlyphRenderer\"},{\"id\":\"57b4712e-11c0-4f7a-99ec-31caece020a9\",\"type\":\"GlyphRenderer\"},{\"id\":\"231278c9-b3db-4506-83ce-07e11adc1a81\",\"type\":\"Legend\"}],\"right\":[{\"id\":\"231278c9-b3db-4506-83ce-07e11adc1a81\",\"type\":\"Legend\"}],\"title\":{\"id\":\"9b983f06-008d-4595-9ab0-4220584aa4b0\",\"type\":\"Title\"},\"tool_events\":{\"id\":\"993fc8c9-d052-4648-bc68-fa174493df91\",\"type\":\"ToolEvents\"},\"toolbar\":{\"id\":\"63fa9400-039b-4210-8e27-c40cfa7e736c\",\"type\":\"Toolbar\"},\"toolbar_location\":\"above\",\"x_range\":{\"id\":\"cccc7902-4717-4b48-ad95-b1c1420567cb\",\"type\":\"DataRange1d\"},\"y_range\":{\"id\":\"d33e6893-397b-468f-8359-f18d2194832b\",\"type\":\"Range1d\"}},\"id\":\"fe2c2587-4a9e-4190-a790-8d75e318f62a\",\"subtype\":\"Figure\",\"type\":\"Plot\"},{\"attributes\":{\"label\":{\"value\":\"0.1 Alpha 16 NScaler 0.1 Bandit\"},\"renderers\":[{\"id\":\"bc1a5939-115e-4f78-920f-94fcf7ff5a77\",\"type\":\"GlyphRenderer\"}]},\"id\":\"4dac5403-aba4-446f-873e-362e898c9a69\",\"type\":\"LegendItem\"},{\"attributes\":{\"plot\":null,\"text\":\"Med Maze 14 Prioritized 300k XP Replay Stale Frontier\"},\"id\":\"9b983f06-008d-4595-9ab0-4220584aa4b0\",\"type\":\"Title\"},{\"attributes\":{\"callback\":null},\"id\":\"cccc7902-4717-4b48-ad95-b1c1420567cb\",\"type\":\"DataRange1d\"},{\"attributes\":{},\"id\":\"993fc8c9-d052-4648-bc68-fa174493df91\",\"type\":\"ToolEvents\"},{\"attributes\":{\"label\":{\"value\":\"0.5 Alpha 16 NScaler 0.1 Bandit\"},\"renderers\":[{\"id\":\"3557a67e-2e13-42f2-b32c-e95d8a36b7d0\",\"type\":\"GlyphRenderer\"}]},\"id\":\"ffb5d82f-e927-4406-ad1c-55320e9748fd\",\"type\":\"LegendItem\"},{\"attributes\":{\"active_drag\":\"auto\",\"active_scroll\":\"auto\",\"active_tap\":\"auto\",\"tools\":[{\"id\":\"05280a39-36eb-433e-b902-46aaf2e9e383\",\"type\":\"PanTool\"},{\"id\":\"79edd593-0309-44d8-ace7-f9b51a951899\",\"type\":\"WheelZoomTool\"},{\"id\":\"c9da5418-30dd-434f-a148-cff3728b76da\",\"type\":\"BoxZoomTool\"},{\"id\":\"e4a9998f-bbcd-4de5-8606-4fd26ed4fc64\",\"type\":\"SaveTool\"},{\"id\":\"8ce54d5e-0d16-43ec-8554-b1bb89520321\",\"type\":\"ResetTool\"},{\"id\":\"1406c8d0-203a-4d63-8df1-2cb6a2d16949\",\"type\":\"HelpTool\"}]},\"id\":\"63fa9400-039b-4210-8e27-c40cfa7e736c\",\"type\":\"Toolbar\"},{\"attributes\":{\"items\":[{\"id\":\"4dac5403-aba4-446f-873e-362e898c9a69\",\"type\":\"LegendItem\"},{\"id\":\"1fe743e6-cb83-41a2-a71a-52ba211435f3\",\"type\":\"LegendItem\"},{\"id\":\"59a621ec-c452-42be-9890-3a47f31e0f85\",\"type\":\"LegendItem\"},{\"id\":\"bf02db92-e4d0-41e2-a7cb-d321e91eeb20\",\"type\":\"LegendItem\"},{\"id\":\"ffb5d82f-e927-4406-ad1c-55320e9748fd\",\"type\":\"LegendItem\"},{\"id\":\"0685f970-be45-4ff4-b887-5f85cd9806da\",\"type\":\"LegendItem\"}],\"location\":[0,-30],\"plot\":{\"id\":\"fe2c2587-4a9e-4190-a790-8d75e318f62a\",\"subtype\":\"Figure\",\"type\":\"Plot\"}},\"id\":\"231278c9-b3db-4506-83ce-07e11adc1a81\",\"type\":\"Legend\"},{\"attributes\":{\"axis_label\":\"T\",\"formatter\":{\"id\":\"342de853-bc6a-463f-a69e-da6c1ab45fbb\",\"type\":\"BasicTickFormatter\"},\"plot\":{\"id\":\"fe2c2587-4a9e-4190-a790-8d75e318f62a\",\"subtype\":\"Figure\",\"type\":\"Plot\"},\"ticker\":{\"id\":\"4b2d71c7-6e5d-4411-87d3-8492aca586da\",\"type\":\"BasicTicker\"}},\"id\":\"304a1dbc-c292-4104-8e0e-7a07014ae5b0\",\"type\":\"LinearAxis\"},{\"attributes\":{\"callback\":null,\"end\":1.1,\"start\":-0.1},\"id\":\"d33e6893-397b-468f-8359-f18d2194832b\",\"type\":\"Range1d\"},{\"attributes\":{},\"id\":\"4b2d71c7-6e5d-4411-87d3-8492aca586da\",\"type\":\"BasicTicker\"},{\"attributes\":{\"plot\":{\"id\":\"fe2c2587-4a9e-4190-a790-8d75e318f62a\",\"subtype\":\"Figure\",\"type\":\"Plot\"},\"ticker\":{\"id\":\"4b2d71c7-6e5d-4411-87d3-8492aca586da\",\"type\":\"BasicTicker\"}},\"id\":\"1bee26b4-8dad-4a7e-825f-410955a7a326\",\"type\":\"Grid\"},{\"attributes\":{\"axis_label\":\"Episode Reward\",\"formatter\":{\"id\":\"35346bee-9b4f-44ff-a390-c112140ecd7c\",\"type\":\"BasicTickFormatter\"},\"plot\":{\"id\":\"fe2c2587-4a9e-4190-a790-8d75e318f62a\",\"subtype\":\"Figure\",\"type\":\"Plot\"},\"ticker\":{\"id\":\"5a330fa8-6a48-4925-b433-f91de735f801\",\"type\":\"BasicTicker\"}},\"id\":\"91b39383-4448-44d4-8c83-bc717f7be641\",\"type\":\"LinearAxis\"},{\"attributes\":{\"data_source\":{\"id\":\"de076a6d-e4f1-4f5b-966f-30adddc1327a\",\"type\":\"ColumnDataSource\"},\"glyph\":{\"id\":\"2afa08b0-e8e2-40e5-9e99-0665103f0f8f\",\"type\":\"Line\"},\"hover_glyph\":null,\"nonselection_glyph\":{\"id\":\"9f79316a-cf5b-4b69-9c9f-5d4eacb09d72\",\"type\":\"Line\"},\"selection_glyph\":null},\"id\":\"3557a67e-2e13-42f2-b32c-e95d8a36b7d0\",\"type\":\"GlyphRenderer\"},{\"attributes\":{},\"id\":\"5a330fa8-6a48-4925-b433-f91de735f801\",\"type\":\"BasicTicker\"},{\"attributes\":{\"dimension\":1,\"plot\":{\"id\":\"fe2c2587-4a9e-4190-a790-8d75e318f62a\",\"subtype\":\"Figure\",\"type\":\"Plot\"},\"ticker\":{\"id\":\"5a330fa8-6a48-4925-b433-f91de735f801\",\"type\":\"BasicTicker\"}},\"id\":\"220192f4-85c0-4cb4-a23b-7e32d78d906c\",\"type\":\"Grid\"},{\"attributes\":{\"label\":{\"value\":\"0.5 Alpha 16 NScaler Epsilon\"},\"renderers\":[{\"id\":\"57b4712e-11c0-4f7a-99ec-31caece020a9\",\"type\":\"GlyphRenderer\"}]},\"id\":\"0685f970-be45-4ff4-b887-5f85cd9806da\",\"type\":\"LegendItem\"},{\"attributes\":{\"use_scientific\":false},\"id\":\"342de853-bc6a-463f-a69e-da6c1ab45fbb\",\"type\":\"BasicTickFormatter\"},{\"attributes\":{\"plot\":{\"id\":\"fe2c2587-4a9e-4190-a790-8d75e318f62a\",\"subtype\":\"Figure\",\"type\":\"Plot\"}},\"id\":\"05280a39-36eb-433e-b902-46aaf2e9e383\",\"type\":\"PanTool\"},{\"attributes\":{\"plot\":{\"id\":\"fe2c2587-4a9e-4190-a790-8d75e318f62a\",\"subtype\":\"Figure\",\"type\":\"Plot\"}},\"id\":\"8ce54d5e-0d16-43ec-8554-b1bb89520321\",\"type\":\"ResetTool\"},{\"attributes\":{\"callback\":null,\"column_names\":[\"x\",\"y\"],\"data\":{\"x\":[0,1000,2000,3000,4000,5000,6000,7000,8000,9000,10000,11000,12000,13000,14000,15000,16000,17000,18000,19000,20000,21000,22000,23000,24000,25000,26000,27000,28000,29000,30000,31000,32000,33000,34000,35000,36000,37000,38000,39000,40000,41000,42000,43000,44000,45000,46000,47000,48000,49000,50000,51000,52000,53000,54000,55000,56000,57000,58000,59000,60000,61000,62000,63000,64000,65000,66000,67000,68000,69000,70000,71000,72000,73000,74000,75000,76000,77000,78000,79000,80000,81000,82000,83000,84000,85000,86000,87000,88000,89000,90000,91000,92000,93000,94000,95000,96000,97000,98000,99000,100000,101000,102000,103000,104000,105000,106000,107000,108000,109000,110000,111000,112000,113000,114000,115000,116000,117000,118000,119000,120000,121000,122000,123000,124000,125000,126000,127000,128000,129000,130000,131000,132000,133000,134000,135000,136000,137000,138000,139000,140000,141000,142000,143000,144000,145000,146000,147000,148000,149000,150000,151000,152000,153000,154000,155000,156000,157000,158000,159000,160000,161000,162000,163000,164000,165000,166000,167000,168000,169000,170000,171000,172000,173000,174000,175000,176000,177000,178000,179000,180000,181000,182000,183000,184000,185000,186000,187000,188000,189000,190000,191000,192000,193000,194000,195000,196000,197000,198000,199000,200000,201000,202000,203000,204000,205000,206000,207000,208000,209000,210000,211000,212000,213000,214000,215000,216000,217000,218000,219000,220000,221000,222000,223000,224000,225000,226000,227000,228000,229000,230000,231000,232000,233000,234000,235000,236000,237000,238000,239000,240000,241000,242000,243000,244000,245000,246000,247000,248000,249000,250000,251000,252000,253000,254000,255000,256000,257000,258000,259000,260000,261000,262000,263000,264000,265000,266000,267000,268000,269000,270000,271000,272000,273000,274000,275000,276000,277000,278000,279000,280000,281000,282000,283000,284000,285000,286000,287000,288000,289000,290000,291000,292000,293000,294000,295000,296000,297000,298000,299000,300000,301000,302000,303000,304000,305000,306000,307000,308000,309000,310000,311000,312000,313000,314000,315000,316000,317000,318000,319000,320000,321000,322000,323000,324000,325000,326000,327000,328000,329000,330000,331000,332000,333000,334000,335000,336000,337000,338000,339000,340000,341000,342000,343000,344000,345000,346000,347000,348000,349000,350000,351000,352000,353000,354000,355000,356000,357000,358000,359000,360000,361000,362000,363000,364000,365000,366000,367000,368000,369000,370000,371000,372000,373000,374000,375000,376000,377000,378000,379000,380000,381000,382000,383000,384000,385000,386000,387000,388000,389000,390000,391000,392000,393000,394000,395000,396000,397000,398000,399000,400000,401000,402000,403000,404000,405000,406000,407000,408000,409000,410000,411000,412000,413000,414000,415000,416000,417000,418000,419000,420000,421000,422000,423000,424000,425000,426000,427000,428000,429000,430000,431000,432000,433000,434000,435000,436000,437000,438000,439000,440000,441000,442000,443000,444000,445000,446000,447000,448000,449000,450000,451000,452000,453000,454000,455000,456000,457000,458000,459000,460000,461000,462000,463000,464000,465000,466000,467000,468000,469000,470000,471000,472000,473000,474000,475000,476000,477000,478000,479000,480000,481000,482000,483000,484000,485000,486000,487000,488000,489000,490000,491000,492000,493000,494000,495000,496000,497000,498000,499000,500000,501000,502000,503000,504000,505000,506000,507000,508000,509000,510000,511000,512000,513000,514000,515000,516000,517000,518000,519000,520000,521000,522000,523000,524000,525000,526000,527000,528000,529000,530000,531000,532000,533000,534000,535000,536000,537000,538000,539000,540000,541000,542000,543000,544000,545000,546000,547000,548000,549000,550000,551000,552000,553000,554000,555000,556000,557000,558000,559000,560000,561000,562000,563000,564000,565000,566000,567000,568000,569000,570000,571000,572000,573000,574000,575000,576000,577000,578000,579000,580000,581000,582000,583000,584000,585000,586000,587000,588000,589000,590000,591000,592000,593000,594000,595000,596000,597000,598000,599000,600000],\"y\":{\"__ndarray__\":\"AAAAAAAAAAAAAAAAAAAAAAAAAAAAAAAAAAAAAAAAAAAAAAAAAAAAAAAAAAAAAAAAAAAAAAAAAAAAAAAAAAAAAAAAAAAAAAAAAAAAAAAAAAAAAAAAAAAAAAAAAAAAAAAAAAAAAAAAAAAAAAAAAAAAAAAAAAAAAAAAAAAAAAAAAAAAAAAAAAAAAAAAAAAAAAAAAAAAAAAAAAAAAAAAAAAAAAAAAAAAAAAAAAAAAAAAAAAAAAAAAAAAAAAAAAAAAAAAAAAAAAAAAAAAAAAAAAAAAAAAAAAAAAAAAAAAAAAAAAAAAAAAAAAAAAAAAAAAAAAAAAAAAAAAAAAAAAAAAAAAAAAAAAAAAAAAAAAAAAAAAAAAAAAAAAAAAAAAAAAAAAAAAAAAAAAAAAAAAAAAAAAAAAAAAAAAAAAAAAAAAAAAAAAAAAAAAAAAAAAAAAAAAAAAAAAAAAAAAAAAAAAAAAAAAAAAAAAAAAAAAAAAAAAAAAAAAAAAAAAAAAAAAAAAAAAAAAAAAAAAAAAAAAAAAAAAAAAAAAAAAAAAAAAAAAAAAAAAAAAAAAAAAAAAAAAAAAAAAAAAAAAAAAAAAAAAAAAAAAAAAAAAAAAAAAAAAAAAAAAAAAAAAAAAAAAAAAAAAAAAAAAAAAAAAAAAAAAAAAAAAAAAAAAAAAAAAAAAAAAAAAAAAAAAAAAAAAAAAAAAAAAAAAAAAAAAAAAAAAAAAAAAAAAAAAAAAAAAAAAAAAAAAAAAAAAAAAAAAAAAAAAAAAAAAAAAAAAAAAAAAAAAAAAAAAAAAAAAAAAAAAAAAAAAAAAAAAAAAAAAAAAAAAAAAAAAAAAAAAAAAAAAAAAAAAAAAAAAAAAAAAAAAAAAAAAAAAAAAAAAAAAAAAAAAAAAAAAAAAAAAAAAAAAAAAAAAAAAAAAAAAAAAAAAAAAAAAAAAAAAAAAAAAAAAAAAAAAAAAAAAAAAAAAAAAAAAAAAAAAAAAAAAAAAAAAAAAAAAAAAAAAAAAAAAAAAAAAAAAAAAAAAAAAAAAAAAAAAAAAAAAAAAAAAAAAAAAAAXoSFUidNlT9ehIVSJ02lP41GyPu6868/XoSFUidNtT925SYncaC6P41GyPu6878/0tM0aIKjwj9ehIVSJ03FP+o01jzM9sc/duUmJ3Ggyj8BlncRFkrNP41GyPu6888/AAAAAAAA0D8AAAAAAADQPwAAAAAAANA/AAAAAAAA0D8AAAAAAADQPwAAAAAAANA/AAAAAAAA0D8AAAAAAADQPwAAAAAAANA/AAAAAAAA0D8AAAAAAADQPwAAAAAAANA/AAAAAAAA0D/////////PP////////88/AAAAAAAA0D8AAAAAAADQP////////88/AAAAAAAA0D8AAAAAAADQP////////88/AAAAAAAA0D8AAAAAAADQPwEAAAAAANA/AAAAAAAA0D8AAAAAAADQPwAAAAAAANA/AAAAAAAA0D8AAAAAAADQPwAAAAAAANA/AAAAAAAA0D8AAAAAAADQPwAAAAAAANA/AAAAAAAA0D8AAAAAAADQPwAAAAAAANA/AAAAAAAA0D8AAAAAAADQP////////88/AAAAAAAA0D8AAAAAAADQPwAAAAAAANA/AAAAAAAA0D8AAAAAAADQPwAAAAAAANA/AAAAAAAA0D8AAAAAAADQPwAAAAAAANA/AAAAAAAA0D8AAAAAAADQPwAAAAAAANA/AAAAAAAA0D8AAAAAAADQPwAAAAAAANA/AAAAAAAA0D/////////PPwAAAAAAANA/AAAAAAAA0D/////////PPwAAAAAAANA/AAAAAAAA0D8AAAAAAADQPwAAAAAAANA/AAAAAAAA0D8AAAAAAADQPwAAAAAAANA/AAAAAAAA0D8AAAAAAADQPwAAAAAAANA/AAAAAAAA0D8AAAAAAADQP+cjmXAi6M4/lDMmZsSZzT9AQ7NbZkvMP+xSQFEI/co/mWLNRqquyT9Fclo8TGDIP/KB5zHuEcc/npF0J5DDxT9KoQEdMnXEP/ewjhLUJsM/o8AbCHbYwT9Q0Kj9F4rAP/i/a+Zzd74/Ud+F0bfauz+q/p+8+z25P5p8rztJNb0/Rn1fXUuWwD8/POcc8pHCPzj7btyYjcQ/MLr2mz+Jxj8peX5b5oTIPyI4BhuNgMo/GveN2jN8zD8TthWa2nfOPwAAAAAAANA/AAAAAAAA0D8AAAAAAADQPwAAAAAAANA/AAAAAAAA0D8AAAAAAADQPwAAAAAAANA/AAAAAAAA0D8AAAAAAADQPwAAAAAAANA/AAAAAAAA0D8AAAAAAADQPwAAAAAAANA/AAAAAAAA0D8AAAAAAADQPwAAAAAAANA/AAAAAAAA0D8AAAAAAADQPwAAAAAAANA/AAAAAAAA0D8AAAAAAADQPwAAAAAAANA/AAAAAAAA0D/////////PP////////88/////////zz/////////PP////////88/////////zz8AAAAAAADQPwAAAAAAANA/AAAAAAAA0D8AAAAAAADQPwAAAAAAANA/AAAAAAAA0D8AAAAAAADQPwAAAAAAANA/AAAAAAAA0D8AAAAAAADQPwAAAAAAANA/AAAAAAAA0D8AAAAAAADQPwAAAAAAANA/AAAAAAAA0D8AAAAAAADQPwAAAAAAANA/AAAAAAAA0D8AAAAAAADQPwAAAAAAANA/AAAAAAAA0D/////////PPwAAAAAAANA/////////zz8AAAAAAADQPwAAAAAAANA/AAAAAAAA0D8AAAAAAADQPwAAAAAAANA/AQAAAAAA0D8AAAAAAADQPwAAAAAAANA/AAAAAAAA0D8AAAAAAADQPwAAAAAAANA/AAAAAAAA0D8AAAAAAADQPwAAAAAAANA/AAAAAAAA0D8AAAAAAADQPwAAAAAAANA/bDfap5AHzz8YR2edMrnNP8VW9JLUasw/cWaBiHYcyz/92Mk4O6jMP3QJGkUwws4/9hy1qBJu0D8yNd0uDXvRP25NBbUHiNI/qmUtOwKV0z/mfVXB/KHUPyGWfUf3rtU/Xa6lzfG71j+WAQIQZQbXP2yJyAo2X9Y/QxGPBQe41T8ZmVUA2BDVP+8gHPuoadQ/xqji9XnC0z+cMKnwShvTP3K4b+sbdNI/SEA25uzM0T8eyPzgvSXRP/VPw9uOftA/IeaNUEqI0D+1aEPbJ7nSP0jr+GUF6tQ/3G2u8OIa1z9w8GN7wEvZPwNzGQaefNs/lvXOkHut3T8qeIQbWd7fPwAAAAAAAOA/AAAAAAAA4D8AAAAAAADgPwAAAAAAAOA/AAAAAAAA4D8AAAAAAADgPwAAAAAAAOA/AAAAAAAA4D8AAAAAAADgPwAAAAAAAOA/AAAAAAAA4D8AAAAAAADgPwAAAAAAAOA/AAAAAAAA4D8AAAAAAADgPwAAAAAAAOA/AAAAAAAA4D8AAAAAAADgPwAAAAAAAOA/AAAAAAAA4D8AAAAAAADgPwAAAAAAAOA/AAAAAAAA4D8AAAAAAADgPwAAAAAAAOA/AAAAAAAA4D8AAAAAAADgPwAAAAAAAOA/AAAAAAAA4D8AAAAAAADgPwAAAAAAAOA/AAAAAAAA4D8AAAAAAADgPwAAAAAAAOA/AAAAAAAA4D8AAAAAAADgPwAAAAAAAOA/AAAAAAAA4D8AAAAAAADgPwAAAAAAAOA/AAAAAAAA4D8AAAAAAADgPwAAAAAAAOA/////////3z8AAAAAAADgPwAAAAAAAOA/AAAAAAAA4D8AAAAAAADgPwAAAAAAAOA/AAAAAAAA4D8AAAAAAADgPwAAAAAAAOA/AAAAAAAA4D8AAAAAAADgPwAAAAAAAOA/AAAAAAAA4D8AAAAAAADgPwAAAAAAAOA/AAAAAAAA4D8AAAAAAADgPwAAAAAAAOA/AAAAAAAA4D8AAAAAAADgPwAAAAAAAOA/AAAAAAAA4D8AAAAAAADgPwAAAAAAAOA/AAAAAAAA4D8AAAAAAADgPwAAAAAAAOA/AAAAAAAA4D8AAAAAAADgPwAAAAAAAOA/AAAAAAAA4D8AAAAAAADgPwAAAAAAAOA/AAAAAAAA4D8AAAAAAADgPwAAAAAAAOA/AAAAAAAA4D8AAAAAAADgPwAAAAAAAOA/AAAAAAAA4D8AAAAAAADgPwAAAAAAAOA/AAAAAAAA4D8AAAAAAADgPxrDVOQtzt8/8Eob3/4m3z/H0uHZz3/eP51aqNSg2N0/dOJuz3Ex3T9KajXKQorcPyDy+8QT49s/9nnCv+Q72z/MAYm6tZTaP6KJT7WG7dk/eBEWsFdG2T9OmdyqKJ/YPyUho6X599c/+6hpoMpQ1z/RMDCbm6nWP6i49pVsAtY/fkC9kD1b1T9UyIOLDrTUPypQSobfDNQ/ANgQgbBl0z/WX9d7gb7SP63nnXZSF9I/g29kcSNw0T9Z9yps9MjQPy9/8WbFIdA/AAAAAAAA0D8AAAAAAADQPwAAAAAAANA/AAAAAAAA0D8AAAAAAADQP4HzdiooW88/LQMEIMoMzj/aEpEVbL7MP4YiHgsOcMs/MjKrALAhyj/fQTj2UdPIP4tRxevzhMc/OGFS4ZU2xj/kcN/WN+jEP5CAbMzZmcM/PZD5wXtLwj/pn4a3Hf3APytfJ1p/Xb8/hH5BRcPAvD/dnVswByS6Pza9dRtLh7c/j9yPBo/qtD/n+6nx0k2yP4E2iLktYq8/b9cYYZzYqz+IbVbOeUisP6ADlDtXuKw/uZnRqDQorT/SLw8WEpitP+rFTIPvB64/KuQ1+66qvj+7I3f1nzbHP2FVU23oF88/hMOXcph80z+PXFl7d0LXP1IPASlzUNc/FcKo1m5e1z/YdFCEamzXP5on+DFmetc/Xtqf32GI1z8hjUeNXZbXP+Q/7zpZpNc/p/KW6FSy1z9qpT6WUMDXPy5Y5kNMztc/8AqO8Ufc1z+0vTWfQ+rXP1SfDNo7CNc/AK+Zz9251T+svibFf2vUP1nOs7ohHdM/Bd5AsMPO0T+y7c2lZYDQP7z6tTYPZM4/FRrQIVPHyz9tOeoMlyrJP8dYBPjajcY/H3ge4x7xwz94lzjOYlTBP9ivGCjun8M/H0rj9MgMyj8z8tbg0TzQP1g/PEc/c9M/0BP+Jd8Z1T+mm8QgsHLUP3wjixuBy9M/UqtRFlIk0z8oMxgRI33SP/+63gv01dE/1EKlBsUu0T+rymsBlofQP5qZmZmZWdA/O1cekKwz0j/cFKOGvw3UP33SJ33S59U/HpCsc+XB1z+/TTFq+JvZP2ELtmALdts/Ask6Vx5Q3T+jhr9NMSrfPwAAAAAAAOA/AAAAAAAA4D8AAAAAAADgPwAAAAAAAOA/AAAAAAAA4D8AAAAAAADgPwAAAAAAAOA/AAAAAAAA4D8AAAAAAADgPwAAAAAAAOA/AAAAAAAA4D8AAAAAAADgPwAAAAAAAOA/AAAAAAAA4D8AAAAAAADgP////////98/AAAAAAAA4D8AAAAAAADgP////////98/wx6gDWJu3z+ZpmYIM8feP3AuLQMEIN4/Rrbz/dR43T8cPrr4pdHcP/LFgPN2Ktw/yE1H7keD2z+e1Q3pGNzaP3Rd1OPpNNo/S+Wa3rqN2T8hbWHZi+bYP/f0J9RcP9g/znzuzi2Y1z+jBLXJ/vDWP3uMe8TPSdY/UBRCv6Ci1T8mnAi6cfvUP/4jz7RCVNQ/0quVrxOt0z+pM1yq5AXTP3+7IqW1XtI/VUPpn4a30T8sy6+aVxDRPwJTdpUoadA/wJEojq5L0D/+kYsTrRfRPzyS7pir49E/e5JRHqqv0j+5krSjqHvTP/eSFymnR9Q/NJN6rqUT1T9yk90zpN/VP7CTQLmiq9Y/75OjPqF31z8tlAbEn0PYP2uUaUmeD9k/qJTMzpzb2T/mlC9Um6faPySVktmZc9s/YpX1Xpg/3D+glVjklgvdP96Vu2mV190/HJYe75Oj3j9bloF0km/fPwAAAAAAAOA/AAAAAAAA4D8AAAAAAADgPwAAAAAAAOA/AAAAAAAA4D8AAAAAAADgPwAAAAAAAOA/AAAAAAAA4D8AAAAAAADgPwAAAAAAAOA/AAAAAAAA4D8AAAAAAADgPwAAAAAAAOA/AAAAAAAA4D8AAAAAAADgPwAAAAAAAOA/AAAAAAAA4D8AAAAAAADgPwAAAAAAAOA/AAAAAAAA4D8AAAAAAADgPwAAAAAAAOA/AAAAAAAA4D8AAAAAAADgPwAAAAAAAOA/AAAAAAAA4D8AAAAAAADgPwAAAAAAAOA/AAAAAAAA4D8AAAAAAADgPxQa0CFTx98/66GWHCQg3z/BKV0X9XjeP5ixIxLG0d0/bjnqDJcq3T9EwbAHaIPcPxpJdwI53Ns/8NA9/Qk12z8=\",\"dtype\":\"float64\",\"shape\":[601]}}},\"id\":\"de076a6d-e4f1-4f5b-966f-30adddc1327a\",\"type\":\"ColumnDataSource\"},{\"attributes\":{\"label\":{\"value\":\"0.1 Alpha 16 NScaler Epsilon\"},\"renderers\":[{\"id\":\"147292ae-7f3b-4c8d-adcc-d34c1e4edf4c\",\"type\":\"GlyphRenderer\"}]},\"id\":\"1fe743e6-cb83-41a2-a71a-52ba211435f3\",\"type\":\"LegendItem\"},{\"attributes\":{\"plot\":{\"id\":\"fe2c2587-4a9e-4190-a790-8d75e318f62a\",\"subtype\":\"Figure\",\"type\":\"Plot\"}},\"id\":\"79edd593-0309-44d8-ace7-f9b51a951899\",\"type\":\"WheelZoomTool\"},{\"attributes\":{\"line_alpha\":{\"value\":0.1},\"line_color\":{\"value\":\"#1f77b4\"},\"line_width\":{\"value\":2},\"x\":{\"field\":\"x\"},\"y\":{\"field\":\"y\"}},\"id\":\"9f79316a-cf5b-4b69-9c9f-5d4eacb09d72\",\"type\":\"Line\"},{\"attributes\":{\"plot\":{\"id\":\"fe2c2587-4a9e-4190-a790-8d75e318f62a\",\"subtype\":\"Figure\",\"type\":\"Plot\"}},\"id\":\"e4a9998f-bbcd-4de5-8606-4fd26ed4fc64\",\"type\":\"SaveTool\"}],\"root_ids\":[\"fe2c2587-4a9e-4190-a790-8d75e318f62a\"]},\"title\":\"Bokeh Application\",\"version\":\"0.12.4\"}};\n",
       "            var render_items = [{\"docid\":\"0d02374d-822a-46a0-8ec9-ddd689db4f25\",\"elementid\":\"bb8e44f7-9d04-4227-8de6-19019959226e\",\"modelid\":\"fe2c2587-4a9e-4190-a790-8d75e318f62a\"}];\n",
       "            \n",
       "            Bokeh.embed.embed_items(docs_json, render_items);\n",
       "          };\n",
       "          if (document.readyState != \"loading\") fn();\n",
       "          else document.addEventListener(\"DOMContentLoaded\", fn);\n",
       "        })();\n",
       "      },\n",
       "      function(Bokeh) {\n",
       "      }\n",
       "    ];\n",
       "  \n",
       "    function run_inline_js() {\n",
       "      \n",
       "      if ((window.Bokeh !== undefined) || (force === true)) {\n",
       "        for (var i = 0; i < inline_js.length; i++) {\n",
       "          inline_js[i](window.Bokeh);\n",
       "        }if (force === true) {\n",
       "          display_loaded();\n",
       "        }} else if (Date.now() < window._bokeh_timeout) {\n",
       "        setTimeout(run_inline_js, 100);\n",
       "      } else if (!window._bokeh_failed_load) {\n",
       "        console.log(\"Bokeh: BokehJS failed to load within specified timeout.\");\n",
       "        window._bokeh_failed_load = true;\n",
       "      } else if (force !== true) {\n",
       "        var cell = $(document.getElementById(\"bb8e44f7-9d04-4227-8de6-19019959226e\")).parents('.cell').data().cell;\n",
       "        cell.output_area.append_execute_result(NB_LOAD_WARNING)\n",
       "      }\n",
       "  \n",
       "    }\n",
       "  \n",
       "    if (window._bokeh_is_loading === 0) {\n",
       "      console.log(\"Bokeh: BokehJS loaded, going straight to plotting\");\n",
       "      run_inline_js();\n",
       "    } else {\n",
       "      load_libs(js_urls, function() {\n",
       "        console.log(\"Bokeh: BokehJS plotting callback run at\", now());\n",
       "        run_inline_js();\n",
       "      });\n",
       "    }\n",
       "  }(this));\n",
       "</script>"
      ]
     },
     "metadata": {},
     "output_type": "display_data"
    },
    {
     "name": "stderr",
     "output_type": "stream",
     "text": [
      "/usr/lib/python3.6/site-packages/bokeh/models/sources.py:81: BokehUserWarning: ColumnDataSource's columns must be of the same length\n",
      "  lambda: warnings.warn(\"ColumnDataSource's columns must be of the same length\", BokehUserWarning))\n",
      "/usr/lib/python3.6/site-packages/bokeh/models/sources.py:81: BokehUserWarning: ColumnDataSource's columns must be of the same length\n",
      "  lambda: warnings.warn(\"ColumnDataSource's columns must be of the same length\", BokehUserWarning))\n",
      "/usr/lib/python3.6/site-packages/bokeh/models/sources.py:81: BokehUserWarning: ColumnDataSource's columns must be of the same length\n",
      "  lambda: warnings.warn(\"ColumnDataSource's columns must be of the same length\", BokehUserWarning))\n",
      "/usr/lib/python3.6/site-packages/bokeh/models/sources.py:81: BokehUserWarning: ColumnDataSource's columns must be of the same length\n",
      "  lambda: warnings.warn(\"ColumnDataSource's columns must be of the same length\", BokehUserWarning))\n",
      "/usr/lib/python3.6/site-packages/bokeh/models/sources.py:81: BokehUserWarning: ColumnDataSource's columns must be of the same length\n",
      "  lambda: warnings.warn(\"ColumnDataSource's columns must be of the same length\", BokehUserWarning))\n",
      "/usr/lib/python3.6/site-packages/bokeh/models/sources.py:81: BokehUserWarning: ColumnDataSource's columns must be of the same length\n",
      "  lambda: warnings.warn(\"ColumnDataSource's columns must be of the same length\", BokehUserWarning))\n",
      "/usr/lib/python3.6/site-packages/bokeh/models/sources.py:81: BokehUserWarning: ColumnDataSource's columns must be of the same length\n",
      "  lambda: warnings.warn(\"ColumnDataSource's columns must be of the same length\", BokehUserWarning))\n",
      "/usr/lib/python3.6/site-packages/bokeh/models/sources.py:81: BokehUserWarning: ColumnDataSource's columns must be of the same length\n",
      "  lambda: warnings.warn(\"ColumnDataSource's columns must be of the same length\", BokehUserWarning))\n",
      "/usr/lib/python3.6/site-packages/bokeh/models/sources.py:81: BokehUserWarning: ColumnDataSource's columns must be of the same length\n",
      "  lambda: warnings.warn(\"ColumnDataSource's columns must be of the same length\", BokehUserWarning))\n",
      "/usr/lib/python3.6/site-packages/bokeh/models/sources.py:81: BokehUserWarning: ColumnDataSource's columns must be of the same length\n",
      "  lambda: warnings.warn(\"ColumnDataSource's columns must be of the same length\", BokehUserWarning))\n",
      "/usr/lib/python3.6/site-packages/bokeh/models/sources.py:81: BokehUserWarning: ColumnDataSource's columns must be of the same length\n",
      "  lambda: warnings.warn(\"ColumnDataSource's columns must be of the same length\", BokehUserWarning))\n",
      "/usr/lib/python3.6/site-packages/bokeh/models/sources.py:81: BokehUserWarning: ColumnDataSource's columns must be of the same length\n",
      "  lambda: warnings.warn(\"ColumnDataSource's columns must be of the same length\", BokehUserWarning))\n"
     ]
    },
    {
     "data": {
      "text/html": [
       "\n",
       "\n",
       "    <div class=\"bk-root\">\n",
       "        <div class=\"bk-plotdiv\" id=\"17a32e45-2096-468e-b3c1-bdbde89b62d3\"></div>\n",
       "    </div>\n",
       "<script type=\"text/javascript\">\n",
       "  \n",
       "  (function(global) {\n",
       "    function now() {\n",
       "      return new Date();\n",
       "    }\n",
       "  \n",
       "    var force = false;\n",
       "  \n",
       "    if (typeof (window._bokeh_onload_callbacks) === \"undefined\" || force === true) {\n",
       "      window._bokeh_onload_callbacks = [];\n",
       "      window._bokeh_is_loading = undefined;\n",
       "    }\n",
       "  \n",
       "  \n",
       "    \n",
       "    if (typeof (window._bokeh_timeout) === \"undefined\" || force === true) {\n",
       "      window._bokeh_timeout = Date.now() + 0;\n",
       "      window._bokeh_failed_load = false;\n",
       "    }\n",
       "  \n",
       "    var NB_LOAD_WARNING = {'data': {'text/html':\n",
       "       \"<div style='background-color: #fdd'>\\n\"+\n",
       "       \"<p>\\n\"+\n",
       "       \"BokehJS does not appear to have successfully loaded. If loading BokehJS from CDN, this \\n\"+\n",
       "       \"may be due to a slow or bad network connection. Possible fixes:\\n\"+\n",
       "       \"</p>\\n\"+\n",
       "       \"<ul>\\n\"+\n",
       "       \"<li>re-rerun `output_notebook()` to attempt to load from CDN again, or</li>\\n\"+\n",
       "       \"<li>use INLINE resources instead, as so:</li>\\n\"+\n",
       "       \"</ul>\\n\"+\n",
       "       \"<code>\\n\"+\n",
       "       \"from bokeh.resources import INLINE\\n\"+\n",
       "       \"output_notebook(resources=INLINE)\\n\"+\n",
       "       \"</code>\\n\"+\n",
       "       \"</div>\"}};\n",
       "  \n",
       "    function display_loaded() {\n",
       "      if (window.Bokeh !== undefined) {\n",
       "        document.getElementById(\"17a32e45-2096-468e-b3c1-bdbde89b62d3\").textContent = \"BokehJS successfully loaded.\";\n",
       "      } else if (Date.now() < window._bokeh_timeout) {\n",
       "        setTimeout(display_loaded, 100)\n",
       "      }\n",
       "    }\n",
       "  \n",
       "    function run_callbacks() {\n",
       "      window._bokeh_onload_callbacks.forEach(function(callback) { callback() });\n",
       "      delete window._bokeh_onload_callbacks\n",
       "      console.info(\"Bokeh: all callbacks have finished\");\n",
       "    }\n",
       "  \n",
       "    function load_libs(js_urls, callback) {\n",
       "      window._bokeh_onload_callbacks.push(callback);\n",
       "      if (window._bokeh_is_loading > 0) {\n",
       "        console.log(\"Bokeh: BokehJS is being loaded, scheduling callback at\", now());\n",
       "        return null;\n",
       "      }\n",
       "      if (js_urls == null || js_urls.length === 0) {\n",
       "        run_callbacks();\n",
       "        return null;\n",
       "      }\n",
       "      console.log(\"Bokeh: BokehJS not loaded, scheduling load and callback at\", now());\n",
       "      window._bokeh_is_loading = js_urls.length;\n",
       "      for (var i = 0; i < js_urls.length; i++) {\n",
       "        var url = js_urls[i];\n",
       "        var s = document.createElement('script');\n",
       "        s.src = url;\n",
       "        s.async = false;\n",
       "        s.onreadystatechange = s.onload = function() {\n",
       "          window._bokeh_is_loading--;\n",
       "          if (window._bokeh_is_loading === 0) {\n",
       "            console.log(\"Bokeh: all BokehJS libraries loaded\");\n",
       "            run_callbacks()\n",
       "          }\n",
       "        };\n",
       "        s.onerror = function() {\n",
       "          console.warn(\"failed to load library \" + url);\n",
       "        };\n",
       "        console.log(\"Bokeh: injecting script tag for BokehJS library: \", url);\n",
       "        document.getElementsByTagName(\"head\")[0].appendChild(s);\n",
       "      }\n",
       "    };var element = document.getElementById(\"17a32e45-2096-468e-b3c1-bdbde89b62d3\");\n",
       "    if (element == null) {\n",
       "      console.log(\"Bokeh: ERROR: autoload.js configured with elementid '17a32e45-2096-468e-b3c1-bdbde89b62d3' but no matching script tag was found. \")\n",
       "      return false;\n",
       "    }\n",
       "  \n",
       "    var js_urls = [];\n",
       "  \n",
       "    var inline_js = [\n",
       "      function(Bokeh) {\n",
       "        (function() {\n",
       "          var fn = function() {\n",
       "            var docs_json = {\"0071f52d-e5af-427e-98ba-7d4b9b69952c\":{\"roots\":{\"references\":[{\"attributes\":{\"line_alpha\":{\"value\":0.1},\"line_color\":{\"value\":\"#1f77b4\"},\"line_width\":{\"value\":2},\"x\":{\"field\":\"x\"},\"y\":{\"field\":\"y\"}},\"id\":\"74757a44-0db9-4b05-86f0-bb5c669cec28\",\"type\":\"Line\"},{\"attributes\":{\"callback\":null,\"column_names\":[\"x\",\"y\"],\"data\":{\"x\":[0,1000,2000,3000,4000,5000,6000,7000,8000,9000,10000,11000,12000,13000,14000,15000,16000,17000,18000,19000,20000,21000,22000,23000,24000,25000,26000,27000,28000,29000,30000,31000,32000,33000,34000,35000,36000,37000,38000,39000,40000,41000,42000,43000,44000,45000,46000,47000,48000,49000,50000,51000,52000,53000,54000,55000,56000,57000,58000,59000,60000,61000,62000,63000,64000,65000,66000,67000,68000,69000,70000,71000,72000,73000,74000,75000,76000,77000,78000,79000,80000,81000,82000,83000,84000,85000,86000,87000,88000,89000,90000,91000,92000,93000,94000,95000,96000,97000,98000,99000,100000,101000,102000,103000,104000,105000,106000,107000,108000,109000,110000,111000,112000,113000,114000,115000,116000,117000,118000,119000,120000,121000,122000,123000,124000,125000,126000,127000,128000,129000,130000,131000,132000,133000,134000,135000,136000,137000,138000,139000,140000,141000,142000,143000,144000,145000,146000,147000,148000,149000,150000,151000,152000,153000,154000,155000,156000,157000,158000,159000,160000,161000,162000,163000,164000,165000,166000,167000,168000,169000,170000,171000,172000,173000,174000,175000,176000,177000,178000,179000,180000,181000,182000,183000,184000,185000,186000,187000,188000,189000,190000,191000,192000,193000,194000,195000,196000,197000,198000,199000,200000,201000,202000,203000,204000,205000,206000,207000,208000,209000,210000,211000,212000,213000,214000,215000,216000,217000,218000,219000,220000,221000,222000,223000,224000,225000,226000,227000,228000,229000,230000,231000,232000,233000,234000,235000,236000,237000,238000,239000,240000,241000,242000,243000,244000,245000,246000,247000,248000,249000,250000,251000,252000,253000,254000,255000,256000,257000,258000,259000,260000,261000,262000,263000,264000,265000,266000,267000,268000,269000,270000,271000,272000,273000,274000,275000,276000,277000,278000,279000,280000,281000,282000,283000,284000,285000,286000,287000,288000,289000,290000,291000,292000,293000,294000,295000,296000,297000,298000,299000,300000,301000,302000,303000,304000,305000,306000,307000,308000,309000,310000,311000,312000,313000,314000,315000,316000,317000,318000,319000,320000,321000,322000,323000,324000,325000,326000,327000,328000,329000,330000,331000,332000,333000,334000,335000,336000,337000,338000,339000,340000,341000,342000,343000,344000,345000,346000,347000,348000,349000,350000,351000,352000,353000,354000,355000,356000,357000,358000,359000,360000,361000,362000,363000,364000,365000,366000,367000,368000,369000,370000,371000,372000,373000,374000,375000,376000,377000,378000,379000,380000,381000,382000,383000,384000,385000,386000,387000,388000,389000,390000,391000,392000,393000,394000,395000,396000,397000,398000,399000,400000,401000,402000,403000,404000,405000,406000,407000,408000,409000,410000,411000,412000,413000,414000,415000,416000,417000,418000,419000,420000,421000,422000,423000,424000,425000,426000,427000,428000,429000,430000,431000,432000,433000,434000,435000,436000,437000,438000,439000,440000,441000,442000,443000,444000,445000,446000,447000,448000,449000,450000,451000,452000,453000,454000,455000,456000,457000,458000,459000,460000,461000,462000,463000,464000,465000,466000,467000,468000,469000,470000,471000,472000,473000,474000,475000,476000,477000,478000,479000,480000,481000,482000,483000,484000,485000,486000,487000,488000,489000,490000,491000,492000,493000,494000,495000,496000,497000,498000,499000,500000,501000,502000,503000,504000,505000,506000,507000,508000,509000,510000,511000,512000,513000,514000,515000,516000,517000,518000,519000,520000,521000,522000,523000,524000,525000,526000,527000,528000,529000,530000,531000,532000,533000,534000,535000,536000,537000,538000,539000,540000,541000,542000,543000,544000,545000,546000,547000,548000,549000,550000,551000,552000,553000,554000,555000,556000,557000,558000,559000,560000,561000,562000,563000,564000,565000,566000,567000,568000,569000,570000,571000,572000,573000,574000,575000,576000,577000,578000,579000,580000,581000,582000,583000,584000,585000,586000,587000,588000,589000,590000,591000,592000,593000,594000,595000,596000,597000,598000,599000,600000],\"y\":{\"__ndarray__\":\"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\",\"dtype\":\"float64\",\"shape\":[600]}}},\"id\":\"d6b6108a-decd-498c-aff3-461596ccfbe4\",\"type\":\"ColumnDataSource\"},{\"attributes\":{\"line_color\":{\"value\":\"#4daf4a\"},\"line_width\":{\"value\":2},\"x\":{\"field\":\"x\"},\"y\":{\"field\":\"y\"}},\"id\":\"dbeef1f1-c2f5-49aa-8eb0-f51f7ecccc93\",\"type\":\"Line\"},{\"attributes\":{\"data_source\":{\"id\":\"e43e9553-60ee-4321-8da8-e117b344d5df\",\"type\":\"ColumnDataSource\"},\"glyph\":{\"id\":\"87589c14-e0fb-4028-8258-6e8eb96b7d0f\",\"type\":\"Line\"},\"hover_glyph\":null,\"nonselection_glyph\":{\"id\":\"74757a44-0db9-4b05-86f0-bb5c669cec28\",\"type\":\"Line\"},\"selection_glyph\":null},\"id\":\"54c41fba-f0ed-4424-bbe8-93731c815746\",\"type\":\"GlyphRenderer\"},{\"attributes\":{\"fill_alpha\":{\"value\":0.1},\"fill_color\":{\"value\":\"#1f77b4\"},\"line_alpha\":{\"value\":0.1},\"line_color\":{\"value\":\"#1f77b4\"},\"x\":{\"field\":\"x\"},\"y\":{\"field\":\"y\"}},\"id\":\"d5553dda-19c2-4599-bb01-1ab6a43e3dce\",\"type\":\"Patch\"},{\"attributes\":{\"data_source\":{\"id\":\"0c8a0757-3d23-4f7a-8738-c3dde92ee99f\",\"type\":\"ColumnDataSource\"},\"glyph\":{\"id\":\"1afa1467-0b89-4edd-8e6c-16480f9cde67\",\"type\":\"Patch\"},\"hover_glyph\":null,\"nonselection_glyph\":{\"id\":\"d5553dda-19c2-4599-bb01-1ab6a43e3dce\",\"type\":\"Patch\"},\"selection_glyph\":null},\"id\":\"08034a13-5da1-4523-b453-01676e84ba04\",\"type\":\"GlyphRenderer\"},{\"attributes\":{\"fill_alpha\":{\"value\":0.1},\"fill_color\":{\"value\":\"#984ea3\"},\"line_alpha\":{\"value\":0.1},\"line_color\":{\"value\":\"#984ea3\"},\"x\":{\"field\":\"x\"},\"y\":{\"field\":\"y\"}},\"id\":\"24682820-de9e-4810-88c7-5794909a1eac\",\"type\":\"Patch\"},{\"attributes\":{\"fill_alpha\":{\"value\":0.1},\"fill_color\":{\"value\":\"#1f77b4\"},\"line_alpha\":{\"value\":0.1},\"line_color\":{\"value\":\"#1f77b4\"},\"x\":{\"field\":\"x\"},\"y\":{\"field\":\"y\"}},\"id\":\"ccd8cb4e-a929-4e63-8066-add496c42d4a\",\"type\":\"Patch\"},{\"attributes\":{\"fill_alpha\":{\"value\":0.1},\"fill_color\":{\"value\":\"#ff7f00\"},\"line_alpha\":{\"value\":0.1},\"line_color\":{\"value\":\"#ff7f00\"},\"x\":{\"field\":\"x\"},\"y\":{\"field\":\"y\"}},\"id\":\"dfdfe149-f126-42a8-a3d6-199007274c67\",\"type\":\"Patch\"},{\"attributes\":{\"callback\":null,\"column_names\":[\"x\",\"y\"],\"data\":{\"x\":[0,1000,2000,3000,4000,5000,6000,7000,8000,9000,10000,11000,12000,13000,14000,15000,16000,17000,18000,19000,20000,21000,22000,23000,24000,25000,26000,27000,28000,29000,30000,31000,32000,33000,34000,35000,36000,37000,38000,39000,40000,41000,42000,43000,44000,45000,46000,47000,48000,49000,50000,51000,52000,53000,54000,55000,56000,57000,58000,59000,60000,61000,62000,63000,64000,65000,66000,67000,68000,69000,70000,71000,72000,73000,74000,75000,76000,77000,78000,79000,80000,81000,82000,83000,84000,85000,86000,87000,88000,89000,90000,91000,92000,93000,94000,95000,96000,97000,98000,99000,100000,101000,102000,103000,104000,105000,106000,107000,108000,109000,110000,111000,112000,113000,114000,115000,116000,117000,118000,119000,120000,121000,122000,123000,124000,125000,126000,127000,128000,129000,130000,131000,132000,133000,134000,135000,136000,137000,138000,139000,140000,141000,142000,143000,144000,145000,146000,147000,148000,149000,150000,151000,152000,153000,154000,155000,156000,157000,158000,159000,160000,161000,162000,163000,164000,165000,166000,167000,168000,169000,170000,171000,172000,173000,174000,175000,176000,177000,178000,179000,180000,181000,182000,183000,184000,185000,186000,187000,188000,189000,190000,191000,192000,193000,194000,195000,196000,197000,198000,199000,200000,201000,202000,203000,204000,205000,206000,207000,208000,209000,210000,211000,212000,213000,214000,215000,216000,217000,218000,219000,220000,221000,222000,223000,224000,225000,226000,227000,228000,229000,230000,231000,232000,233000,234000,235000,236000,237000,238000,239000,240000,241000,242000,243000,244000,245000,246000,247000,248000,249000,250000,251000,252000,253000,254000,255000,256000,257000,258000,259000,260000,261000,262000,263000,264000,265000,266000,267000,268000,269000,270000,271000,272000,273000,274000,275000,276000,277000,278000,279000,280000,281000,282000,283000,284000,285000,286000,287000,288000,289000,290000,291000,292000,293000,294000,295000,296000,297000,298000,299000,300000,301000,302000,303000,304000,305000,306000,307000,308000,309000,310000,311000,312000,313000,314000,315000,316000,317000,318000,319000,320000,321000,322000,323000,324000,325000,326000,327000,328000,329000,330000,331000,332000,333000,334000,335000,336000,337000,338000,339000,340000,341000,342000,343000,344000,345000,346000,347000,348000,349000,350000,351000,352000,353000,354000,355000,356000,357000,358000,359000,360000,361000,362000,363000,364000,365000,366000,367000,368000,369000,370000,371000,372000,373000,374000,375000,376000,377000,378000,379000,380000,381000,382000,383000,384000,385000,386000,387000,388000,389000,390000,391000,392000,393000,394000,395000,396000,397000,398000,399000,400000,401000,402000,403000,404000,405000,406000,407000,408000,409000,410000,411000,412000,413000,414000,415000,416000,417000,418000,419000,420000,421000,422000,423000,424000,425000,426000,427000,428000,429000,430000,431000,432000,433000,434000,435000,436000,437000,438000,439000,440000,441000,442000,443000,444000,445000,446000,447000,448000,449000,450000,451000,452000,453000,454000,455000,456000,457000,458000,459000,460000,461000,462000,463000,464000,465000,466000,467000,468000,469000,470000,471000,472000,473000,474000,475000,476000,477000,478000,479000,480000,481000,482000,483000,484000,485000,486000,487000,488000,489000,490000,491000,492000,493000,494000,495000,496000,497000,498000,499000,500000,501000,502000,503000,504000,505000,506000,507000,508000,509000,510000,511000,512000,513000,514000,515000,516000,517000,518000,519000,520000,521000,522000,523000,524000,525000,526000,527000,528000,529000,530000,531000,532000,533000,534000,535000,536000,537000,538000,539000,540000,541000,542000,543000,544000,545000,546000,547000,548000,549000,550000,551000,552000,553000,554000,555000,556000,557000,558000,559000,560000,561000,562000,563000,564000,565000,566000,567000,568000,569000,570000,571000,572000,573000,574000,575000,576000,577000,578000,579000,580000,581000,582000,583000,584000,585000,586000,587000,588000,589000,590000,591000,592000,593000,594000,595000,596000,597000,598000,599000,600000],\"y\":{\"__ndarray__\":\"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\",\"dtype\":\"float64\",\"shape\":[600]}}},\"id\":\"bff476fa-27b9-4641-b8ce-9f7db5fb6fc7\",\"type\":\"ColumnDataSource\"},{\"attributes\":{\"line_alpha\":{\"value\":0.1},\"line_color\":{\"value\":\"#1f77b4\"},\"line_width\":{\"value\":2},\"x\":{\"field\":\"x\"},\"y\":{\"field\":\"y\"}},\"id\":\"a216ebe1-1e4d-41db-8455-92b0d673c524\",\"type\":\"Line\"},{\"attributes\":{\"data_source\":{\"id\":\"bff476fa-27b9-4641-b8ce-9f7db5fb6fc7\",\"type\":\"ColumnDataSource\"},\"glyph\":{\"id\":\"dbeef1f1-c2f5-49aa-8eb0-f51f7ecccc93\",\"type\":\"Line\"},\"hover_glyph\":null,\"nonselection_glyph\":{\"id\":\"a216ebe1-1e4d-41db-8455-92b0d673c524\",\"type\":\"Line\"},\"selection_glyph\":null},\"id\":\"3badcb9a-0994-439e-9339-cb96a6796a0d\",\"type\":\"GlyphRenderer\"},{\"attributes\":{\"callback\":null,\"column_names\":[\"x\",\"y\"],\"data\":{\"x\":[0,1000,2000,3000,4000,5000,6000,7000,8000,9000,10000,11000,12000,13000,14000,15000,16000,17000,18000,19000,20000,21000,22000,23000,24000,25000,26000,27000,28000,29000,30000,31000,32000,33000,34000,35000,36000,37000,38000,39000,40000,41000,42000,43000,44000,45000,46000,47000,48000,49000,50000,51000,52000,53000,54000,55000,56000,57000,58000,59000,60000,61000,62000,63000,64000,65000,66000,67000,68000,69000,70000,71000,72000,73000,74000,75000,76000,77000,78000,79000,80000,81000,82000,83000,84000,85000,86000,87000,88000,89000,90000,91000,92000,93000,94000,95000,96000,97000,98000,99000,100000,101000,102000,103000,104000,105000,106000,107000,108000,109000,110000,111000,112000,113000,114000,115000,116000,117000,118000,119000,120000,121000,122000,123000,124000,125000,126000,127000,128000,129000,130000,131000,132000,133000,134000,135000,136000,137000,138000,139000,140000,141000,142000,143000,144000,145000,146000,147000,148000,149000,150000,151000,152000,153000,154000,155000,156000,157000,158000,159000,160000,161000,162000,163000,164000,165000,166000,167000,168000,169000,170000,171000,172000,173000,174000,175000,176000,177000,178000,179000,180000,181000,182000,183000,184000,185000,186000,187000,188000,189000,190000,191000,192000,193000,194000,195000,196000,197000,198000,199000,200000,201000,202000,203000,204000,205000,206000,207000,208000,209000,210000,211000,212000,213000,214000,215000,216000,217000,218000,219000,220000,221000,222000,223000,224000,225000,226000,227000,228000,229000,230000,231000,232000,233000,234000,235000,236000,237000,238000,239000,240000,241000,242000,243000,244000,245000,246000,247000,248000,249000,250000,251000,252000,253000,254000,255000,256000,257000,258000,259000,260000,261000,262000,263000,264000,265000,266000,267000,268000,269000,270000,271000,272000,273000,274000,275000,276000,277000,278000,279000,280000,281000,282000,283000,284000,285000,286000,287000,288000,289000,290000,291000,292000,293000,294000,295000,296000,297000,298000,299000,300000,301000,302000,303000,304000,305000,306000,307000,308000,309000,310000,311000,312000,313000,314000,315000,316000,317000,318000,319000,320000,321000,322000,323000,324000,325000,326000,327000,328000,329000,330000,331000,332000,333000,334000,335000,336000,337000,338000,339000,340000,341000,342000,343000,344000,345000,346000,347000,348000,349000,350000,351000,352000,353000,354000,355000,356000,357000,358000,359000,360000,361000,362000,363000,364000,365000,366000,367000,368000,369000,370000,371000,372000,373000,374000,375000,376000,377000,378000,379000,380000,381000,382000,383000,384000,385000,386000,387000,388000,389000,390000,391000,392000,393000,394000,395000,396000,397000,398000,399000,400000,401000,402000,403000,404000,405000,406000,407000,408000,409000,410000,411000,412000,413000,414000,415000,416000,417000,418000,419000,420000,421000,422000,423000,424000,425000,426000,427000,428000,429000,430000,431000,432000,433000,434000,435000,436000,437000,438000,439000,440000,441000,442000,443000,444000,445000,446000,447000,448000,449000,450000,451000,452000,453000,454000,455000,456000,457000,458000,459000,460000,461000,462000,463000,464000,465000,466000,467000,468000,469000,470000,471000,472000,473000,474000,475000,476000,477000,478000,479000,480000,481000,482000,483000,484000,485000,486000,487000,488000,489000,490000,491000,492000,493000,494000,495000,496000,497000,498000,499000,500000,501000,502000,503000,504000,505000,506000,507000,508000,509000,510000,511000,512000,513000,514000,515000,516000,517000,518000,519000,520000,521000,522000,523000,524000,525000,526000,527000,528000,529000,530000,531000,532000,533000,534000,535000,536000,537000,538000,539000,540000,541000,542000,543000,544000,545000,546000,547000,548000,549000,550000,551000,552000,553000,554000,555000,556000,557000,558000,559000,560000,561000,562000,563000,564000,565000,566000,567000,568000,569000,570000,571000,572000,573000,574000,575000,576000,577000,578000,579000,580000,581000,582000,583000,584000,585000,586000,587000,588000,589000,590000,591000,592000,593000,594000,595000,596000,597000,598000,599000,600000,600000,599000,598000,597000,596000,595000,594000,593000,592000,591000,590000,589000,588000,587000,586000,585000,584000,583000,582000,581000,580000,579000,578000,577000,576000,575000,574000,573000,572000,571000,570000,569000,568000,567000,566000,565000,564000,563000,562000,561000,560000,559000,558000,557000,556000,555000,554000,553000,552000,551000,550000,549000,548000,547000,546000,545000,544000,543000,542000,541000,540000,539000,538000,537000,536000,535000,534000,533000,532000,531000,530000,529000,528000,527000,526000,525000,524000,523000,522000,521000,520000,519000,518000,517000,516000,515000,514000,513000,512000,511000,510000,509000,508000,507000,506000,505000,504000,503000,502000,501000,500000,499000,498000,497000,496000,495000,494000,493000,492000,491000,490000,489000,488000,487000,486000,485000,484000,483000,482000,481000,480000,479000,478000,477000,476000,475000,474000,473000,472000,471000,470000,469000,468000,467000,466000,465000,464000,463000,462000,461000,460000,459000,458000,457000,456000,455000,454000,453000,452000,451000,450000,449000,448000,447000,446000,445000,444000,443000,442000,441000,440000,439000,438000,437000,436000,435000,434000,433000,432000,431000,430000,429000,428000,427000,426000,425000,424000,423000,422000,421000,420000,419000,418000,417000,416000,415000,414000,413000,412000,411000,410000,409000,408000,407000,406000,405000,404000,403000,402000,401000,400000,399000,398000,397000,396000,395000,394000,393000,392000,391000,390000,389000,388000,387000,386000,385000,384000,383000,382000,381000,380000,379000,378000,377000,376000,375000,374000,373000,372000,371000,370000,369000,368000,367000,366000,365000,364000,363000,362000,361000,360000,359000,358000,357000,356000,355000,354000,353000,352000,351000,350000,349000,348000,347000,346000,345000,344000,343000,342000,341000,340000,339000,338000,337000,336000,335000,334000,333000,332000,331000,330000,329000,328000,327000,326000,325000,324000,323000,322000,321000,320000,319000,318000,317000,316000,315000,314000,313000,312000,311000,310000,309000,308000,307000,306000,305000,304000,303000,302000,301000,300000,299000,298000,297000,296000,295000,294000,293000,292000,291000,290000,289000,288000,287000,286000,285000,284000,283000,282000,281000,280000,279000,278000,277000,276000,275000,274000,273000,272000,271000,270000,269000,268000,267000,266000,265000,264000,263000,262000,261000,260000,259000,258000,257000,256000,255000,254000,253000,252000,251000,250000,249000,248000,247000,246000,245000,244000,243000,242000,241000,240000,239000,238000,237000,236000,235000,234000,233000,232000,231000,230000,229000,228000,227000,226000,225000,224000,223000,222000,221000,220000,219000,218000,217000,216000,215000,214000,213000,212000,211000,210000,209000,208000,207000,206000,205000,204000,203000,202000,201000,200000,199000,198000,197000,196000,195000,194000,193000,192000,191000,190000,189000,188000,187000,186000,185000,184000,183000,182000,181000,180000,179000,178000,177000,176000,175000,174000,173000,172000,171000,170000,169000,168000,167000,166000,165000,164000,163000,162000,161000,160000,159000,158000,157000,156000,155000,154000,153000,152000,151000,150000,149000,148000,147000,146000,145000,144000,143000,142000,141000,140000,139000,138000,137000,136000,135000,134000,133000,132000,131000,130000,129000,128000,127000,126000,125000,124000,123000,122000,121000,120000,119000,118000,117000,116000,115000,114000,113000,112000,111000,110000,109000,108000,107000,106000,105000,104000,103000,102000,101000,100000,99000,98000,97000,96000,95000,94000,93000,92000,91000,90000,89000,88000,87000,86000,85000,84000,83000,82000,81000,80000,79000,78000,77000,76000,75000,74000,73000,72000,71000,70000,69000,68000,67000,66000,65000,64000,63000,62000,61000,60000,59000,58000,57000,56000,55000,54000,53000,52000,51000,50000,49000,48000,47000,46000,45000,44000,43000,42000,41000,40000,39000,38000,37000,36000,35000,34000,33000,32000,31000,30000,29000,28000,27000,26000,25000,24000,23000,22000,21000,20000,19000,18000,17000,16000,15000,14000,13000,12000,11000,10000,9000,8000,7000,6000,5000,4000,3000,2000,1000,0],\"y\":[1,55,144,150,151,151,153,219,219,219,219,219,219,219,260,346,376,378,378,378,389,394,401,401,401,401,402,402,402,402,402,409,409,409,409,409,409,409,409,409,409,409,409,409,409,409,409,409,409,409,409,409,409,409,409,409,409,409,409,409,409,409,409,409,409,409,409,409,409,409,409,409,409,409,409,409,409,409,409,409,409,409,409,409,409,409,409,409,409,409,409,409,409,409,409,409,409,409,409,409,409,409,409,409,409,409,409,409,409,409,409,409,409,409,409,409,409,409,409,409,409,409,409,409,409,409,409,409,409,409,409,409,409,409,409,409,409,409,409,409,409,409,409,409,409,533,570,579,579,590,599,691,691,691,691,691,691,691,691,691,691,691,738,741,742,742,772,814,842,842,853,858,864,864,864,865,893,937,937,937,937,937,937,937,937,940,940,940,940,940,942,1070,1168,1171,1198,1208,1208,1208,1208,1208,1216,1224,1224,1224,1224,1226,1226,1226,1226,1226,1226,1226,1244,1255,1255,1255,1257,1265,1265,1265,1265,1265,1265,1265,1265,1265,1265,1267,1283,1304,1339,1339,1339,1341,1341,1341,1341,1341,1341,1341,1341,1341,1341,1341,1341,1341,1341,1341,1341,1341,1360,1439,1530,1649,1681,1684,1687,1690,1691,1692,1692,1692,1692,1692,1697,1697,1697,1700,1701,1703,1704,1704,1704,1704,1704,1704,1704,1704,1704,1704,1704,1704,1801,1838,1840,1865,1916,1987,2014,2014,2014,2015,2015,2015,2023,2023,2026,2026,2026,2048,2052,2055,2055,2066,2066,2066,2066,2066,2066,2066,2066,2066,2066,2066,2066,2066,2066,2066,2066,2066,2066,2066,2066,2066,2066,2066,2066,2067,2067,2067,2067,2067,2067,2067,2067,2067,2067,2067,2067,2067,2067,2067,2067,2067,2067,2067,2067,2067,2067,2067,2067,2067,2067,2067,2067,2067,2067,2067,2067,2067,2067,2067,2067,2067,2067,2067,2067,2067,2067,2067,2067,2067,2078,2078,2078,2078,2078,2078,2082,2082,2082,2082,2082,2082,2082,2082,2082,2082,2082,2082,2082,2082,2082,2082,2082,2082,2082,2082,2125,2162,2222,2328,2392,2446,2447,2454,2454,2454,2454,2455,2459,2459,2459,2459,2459,2459,2459,2459,2459,2459,2459,2459,2459,2459,2459,2459,2459,2459,2459,2459,2459,2459,2459,2459,2459,2459,2459,2459,2459,2459,2459,2459,2459,2459,2459,2459,2459,2459,2459,2459,2459,2459,2459,2459,2459,2459,2460,2463,2480,2480,2530,2530,2576,2596,2596,2601,2603,2603,2603,2603,2603,2603,2603,2603,2603,2603,2603,2603,2603,2603,2603,2603,2761,2782,2782,2782,2782,2782,2790,2792,2792,2792,2792,2792,2792,2792,2792,2792,2792,2792,2792,2792,2792,2792,2792,2792,2792,2792,2792,2793,2793,2794,2816,2816,2816,2816,2816,2816,2816,2816,2816,2816,2816,2816,2829,2931,2996,3000,3000,3022,3022,3029,3052,3052,3065,3075,3084,3085,3085,3085,3085,3085,3085,3085,3085,3085,3085,3085,3085,3085,3085,3087,3087,3087,3104,3114,3115,3115,3116,3116,3117,3117,3117,3117,3117,3117,3117,3117,3117,3117,3117,3117,3117,3117,3118,3119,3119,3119,3119,3119,3119,3119,3119,3119,3119,3119,3119,3119,3119,3119,3119,3119,3119,3119,3119,3119,3119,3119,3119,3119,3756,3756,3756,3756,3756,3756,3756,3756,3756,3756,3756,3756,3746,3746,3746,3746,3746,3746,3746,3746,3746,3746,3746,3746,3746,3746,3746,3746,3746,3746,3746,3746,3746,3746,3746,3746,3746,3746,3746,3746,3746,3746,3746,3746,3746,3746,3746,3746,3746,3746,3746,3746,3746,3746,3746,3746,3746,3746,3746,3746,3746,3746,3746,3746,3746,3746,3746,3746,3746,3746,3746,3746,3746,3746,3746,3746,3746,3746,3746,3746,3746,3746,3746,3746,3746,3746,3746,3746,3746,3746,3746,3746,3746,3746,3746,3746,3746,3746,3746,3746,3746,3746,3746,3746,3746,3746,3746,3746,3746,3746,3746,3746,3746,3746,3746,3746,3746,3746,3746,3746,3746,3746,3746,3746,3746,3746,3746,3746,3746,3746,3746,3746,3746,3746,3746,3746,3746,3746,3746,3746,3746,3746,3746,3746,3746,3746,3746,3746,3746,3746,3746,3746,3746,3746,3746,3746,3746,3746,3746,3746,3746,3746,3746,3746,3746,3746,3746,3746,3746,3746,3746,3746,3746,3746,3746,3746,3746,3746,3746,3746,3746,3746,3746,3746,3746,3746,3746,3746,3746,3746,3746,3746,3746,3746,3746,3746,3746,3746,3746,3746,3746,3746,3746,3746,3746,3746,3746,3746,3746,3746,3746,3746,3746,3746,3746,3746,3746,3746,3743,3743,3743,3743,3743,3743,3743,3743,3743,3743,3743,3743,3743,3743,3743,3743,3743,3743,3743,3743,3743,3743,3743,3743,3743,3743,3743,3743,3743,3743,3743,3743,3743,3743,3743,3743,3743,3743,3743,3743,3743,3743,3743,3743,3743,3743,3743,3743,3743,3743,3743,3743,3743,3743,3743,3743,3743,3743,3743,3743,3743,3742,3742,3742,3742,3742,3742,3742,3742,3741,3741,3741,3741,3741,3741,3741,3741,3741,3741,3741,3741,3741,3741,3741,3739,3739,3739,3739,3739,3718,3718,3718,3718,3718,3718,3718,3718,3715,3713,3708,3708,3708,3708,3708,3708,3677,3676,3676,3676,3676,3676,3676,3676,3676,3676,3676,3676,3676,3676,3676,3676,3676,3676,3676,3676,3676,3676,3676,3676,3676,3676,3676,3676,3676,3676,3676,3676,3675,3675,3675,3635,3547,3541,3538,3537,3522,3519,3503,3472,3471,3467,3467,3466,3466,3466,3466,3466,3466,3466,3466,3466,3465,3438,3438,3345,3340,3332,3319,3283,3274,3232,3229,3228,3169,3155,3064,3064,3064,3064,3064,3064,3064,3064,3064,3064,3064,3064,3064,3064,3064,3064,3064,3062,3062,3062,3062,3062,3062,3061,3056,3019,3019,3019,3019,3019,3019,3019,3019,3019,3019,3019,3019,3019,3019,2992,2992,2992,2989,2987,2987,2987,2987,2987,2987,2987,2987,2987,2987,2987,2956,2956,2956,2956,2956,2956,2929,2852,2852,2852,2845,2840,2810,2810,2810,2810,2808,2807,2807,2784,2783,2783,2783,2783,2780,2779,2778,2758,2756,2756,2756,2756,2756,2756,2756,2756,2756,2755,2717,2711,2711,2703,2703,2703,2693,2687,2687,2687,2687,2686,2678,2678,2678,2678,2678,2670,2670,2669,2662,2628,2511,2457,2442,2403,2234,2182,2182,2174,2138,2042,2041,2041,2041,2041,2041,2041,2041,2041,2040,2039,2005,1954,1930,1914,1820,1820,1820,1784,1773,1738,1738,1738,1736,1736,1725,1725,1722,1720,1714,1712,1706,1705,1663,1662,1662,1651,1640,1614,1516,1451,1332,1316,1303,1202,1199,1163,1090,1089,1005,997,991,984,859,812,714,623,571,567,567,567,567,559,559,559,498,439,434,401,401,399,399,381,377,377,377,377,377,377,375,318,192,131,1]}},\"id\":\"640a89b0-67d9-4583-ade7-015e7a849784\",\"type\":\"ColumnDataSource\"},{\"attributes\":{\"line_color\":{\"value\":\"#984ea3\"},\"line_width\":{\"value\":2},\"x\":{\"field\":\"x\"},\"y\":{\"field\":\"y\"}},\"id\":\"00426d49-76cb-4363-aa73-f335bf541c63\",\"type\":\"Line\"},{\"attributes\":{\"data_source\":{\"id\":\"40390c01-1921-452e-9f8c-0a00a55293b5\",\"type\":\"ColumnDataSource\"},\"glyph\":{\"id\":\"40ea5381-6b4a-4bd6-a706-5f39ebf49be3\",\"type\":\"Patch\"},\"hover_glyph\":null,\"nonselection_glyph\":{\"id\":\"44a5d8f4-2263-4094-9f7c-cc6bc9372124\",\"type\":\"Patch\"},\"selection_glyph\":null},\"id\":\"61c9dfe1-de8c-465b-9055-55fcd3810eab\",\"type\":\"GlyphRenderer\"},{\"attributes\":{\"bottom_units\":\"screen\",\"fill_alpha\":{\"value\":0.5},\"fill_color\":{\"value\":\"lightgrey\"},\"left_units\":\"screen\",\"level\":\"overlay\",\"line_alpha\":{\"value\":1.0},\"line_color\":{\"value\":\"black\"},\"line_dash\":[4,4],\"line_width\":{\"value\":2},\"plot\":null,\"render_mode\":\"css\",\"right_units\":\"screen\",\"top_units\":\"screen\"},\"id\":\"9ae5cd1c-490b-4116-9ff2-99fcbccf8156\",\"type\":\"BoxAnnotation\"},{\"attributes\":{\"callback\":null,\"column_names\":[\"x\",\"y\"],\"data\":{\"x\":[0,1000,2000,3000,4000,5000,6000,7000,8000,9000,10000,11000,12000,13000,14000,15000,16000,17000,18000,19000,20000,21000,22000,23000,24000,25000,26000,27000,28000,29000,30000,31000,32000,33000,34000,35000,36000,37000,38000,39000,40000,41000,42000,43000,44000,45000,46000,47000,48000,49000,50000,51000,52000,53000,54000,55000,56000,57000,58000,59000,60000,61000,62000,63000,64000,65000,66000,67000,68000,69000,70000,71000,72000,73000,74000,75000,76000,77000,78000,79000,80000,81000,82000,83000,84000,85000,86000,87000,88000,89000,90000,91000,92000,93000,94000,95000,96000,97000,98000,99000,100000,101000,102000,103000,104000,105000,106000,107000,108000,109000,110000,111000,112000,113000,114000,115000,116000,117000,118000,119000,120000,121000,122000,123000,124000,125000,126000,127000,128000,129000,130000,131000,132000,133000,134000,135000,136000,137000,138000,139000,140000,141000,142000,143000,144000,145000,146000,147000,148000,149000,150000,151000,152000,153000,154000,155000,156000,157000,158000,159000,160000,161000,162000,163000,164000,165000,166000,167000,168000,169000,170000,171000,172000,173000,174000,175000,176000,177000,178000,179000,180000,181000,182000,183000,184000,185000,186000,187000,188000,189000,190000,191000,192000,193000,194000,195000,196000,197000,198000,199000,200000,201000,202000,203000,204000,205000,206000,207000,208000,209000,210000,211000,212000,213000,214000,215000,216000,217000,218000,219000,220000,221000,222000,223000,224000,225000,226000,227000,228000,229000,230000,231000,232000,233000,234000,235000,236000,237000,238000,239000,240000,241000,242000,243000,244000,245000,246000,247000,248000,249000,250000,251000,252000,253000,254000,255000,256000,257000,258000,259000,260000,261000,262000,263000,264000,265000,266000,267000,268000,269000,270000,271000,272000,273000,274000,275000,276000,277000,278000,279000,280000,281000,282000,283000,284000,285000,286000,287000,288000,289000,290000,291000,292000,293000,294000,295000,296000,297000,298000,299000,300000,301000,302000,303000,304000,305000,306000,307000,308000,309000,310000,311000,312000,313000,314000,315000,316000,317000,318000,319000,320000,321000,322000,323000,324000,325000,326000,327000,328000,329000,330000,331000,332000,333000,334000,335000,336000,337000,338000,339000,340000,341000,342000,343000,344000,345000,346000,347000,348000,349000,350000,351000,352000,353000,354000,355000,356000,357000,358000,359000,360000,361000,362000,363000,364000,365000,366000,367000,368000,369000,370000,371000,372000,373000,374000,375000,376000,377000,378000,379000,380000,381000,382000,383000,384000,385000,386000,387000,388000,389000,390000,391000,392000,393000,394000,395000,396000,397000,398000,399000,400000,401000,402000,403000,404000,405000,406000,407000,408000,409000,410000,411000,412000,413000,414000,415000,416000,417000,418000,419000,420000,421000,422000,423000,424000,425000,426000,427000,428000,429000,430000,431000,432000,433000,434000,435000,436000,437000,438000,439000,440000,441000,442000,443000,444000,445000,446000,447000,448000,449000,450000,451000,452000,453000,454000,455000,456000,457000,458000,459000,460000,461000,462000,463000,464000,465000,466000,467000,468000,469000,470000,471000,472000,473000,474000,475000,476000,477000,478000,479000,480000,481000,482000,483000,484000,485000,486000,487000,488000,489000,490000,491000,492000,493000,494000,495000,496000,497000,498000,499000,500000,501000,502000,503000,504000,505000,506000,507000,508000,509000,510000,511000,512000,513000,514000,515000,516000,517000,518000,519000,520000,521000,522000,523000,524000,525000,526000,527000,528000,529000,530000,531000,532000,533000,534000,535000,536000,537000,538000,539000,540000,541000,542000,543000,544000,545000,546000,547000,548000,549000,550000,551000,552000,553000,554000,555000,556000,557000,558000,559000,560000,561000,562000,563000,564000,565000,566000,567000,568000,569000,570000,571000,572000,573000,574000,575000,576000,577000,578000,579000,580000,581000,582000,583000,584000,585000,586000,587000,588000,589000,590000,591000,592000,593000,594000,595000,596000,597000,598000,599000,600000,600000,599000,598000,597000,596000,595000,594000,593000,592000,591000,590000,589000,588000,587000,586000,585000,584000,583000,582000,581000,580000,579000,578000,577000,576000,575000,574000,573000,572000,571000,570000,569000,568000,567000,566000,565000,564000,563000,562000,561000,560000,559000,558000,557000,556000,555000,554000,553000,552000,551000,550000,549000,548000,547000,546000,545000,544000,543000,542000,541000,540000,539000,538000,537000,536000,535000,534000,533000,532000,531000,530000,529000,528000,527000,526000,525000,524000,523000,522000,521000,520000,519000,518000,517000,516000,515000,514000,513000,512000,511000,510000,509000,508000,507000,506000,505000,504000,503000,502000,501000,500000,499000,498000,497000,496000,495000,494000,493000,492000,491000,490000,489000,488000,487000,486000,485000,484000,483000,482000,481000,480000,479000,478000,477000,476000,475000,474000,473000,472000,471000,470000,469000,468000,467000,466000,465000,464000,463000,462000,461000,460000,459000,458000,457000,456000,455000,454000,453000,452000,451000,450000,449000,448000,447000,446000,445000,444000,443000,442000,441000,440000,439000,438000,437000,436000,435000,434000,433000,432000,431000,430000,429000,428000,427000,426000,425000,424000,423000,422000,421000,420000,419000,418000,417000,416000,415000,414000,413000,412000,411000,410000,409000,408000,407000,406000,405000,404000,403000,402000,401000,400000,399000,398000,397000,396000,395000,394000,393000,392000,391000,390000,389000,388000,387000,386000,385000,384000,383000,382000,381000,380000,379000,378000,377000,376000,375000,374000,373000,372000,371000,370000,369000,368000,367000,366000,365000,364000,363000,362000,361000,360000,359000,358000,357000,356000,355000,354000,353000,352000,351000,350000,349000,348000,347000,346000,345000,344000,343000,342000,341000,340000,339000,338000,337000,336000,335000,334000,333000,332000,331000,330000,329000,328000,327000,326000,325000,324000,323000,322000,321000,320000,319000,318000,317000,316000,315000,314000,313000,312000,311000,310000,309000,308000,307000,306000,305000,304000,303000,302000,301000,300000,299000,298000,297000,296000,295000,294000,293000,292000,291000,290000,289000,288000,287000,286000,285000,284000,283000,282000,281000,280000,279000,278000,277000,276000,275000,274000,273000,272000,271000,270000,269000,268000,267000,266000,265000,264000,263000,262000,261000,260000,259000,258000,257000,256000,255000,254000,253000,252000,251000,250000,249000,248000,247000,246000,245000,244000,243000,242000,241000,240000,239000,238000,237000,236000,235000,234000,233000,232000,231000,230000,229000,228000,227000,226000,225000,224000,223000,222000,221000,220000,219000,218000,217000,216000,215000,214000,213000,212000,211000,210000,209000,208000,207000,206000,205000,204000,203000,202000,201000,200000,199000,198000,197000,196000,195000,194000,193000,192000,191000,190000,189000,188000,187000,186000,185000,184000,183000,182000,181000,180000,179000,178000,177000,176000,175000,174000,173000,172000,171000,170000,169000,168000,167000,166000,165000,164000,163000,162000,161000,160000,159000,158000,157000,156000,155000,154000,153000,152000,151000,150000,149000,148000,147000,146000,145000,144000,143000,142000,141000,140000,139000,138000,137000,136000,135000,134000,133000,132000,131000,130000,129000,128000,127000,126000,125000,124000,123000,122000,121000,120000,119000,118000,117000,116000,115000,114000,113000,112000,111000,110000,109000,108000,107000,106000,105000,104000,103000,102000,101000,100000,99000,98000,97000,96000,95000,94000,93000,92000,91000,90000,89000,88000,87000,86000,85000,84000,83000,82000,81000,80000,79000,78000,77000,76000,75000,74000,73000,72000,71000,70000,69000,68000,67000,66000,65000,64000,63000,62000,61000,60000,59000,58000,57000,56000,55000,54000,53000,52000,51000,50000,49000,48000,47000,46000,45000,44000,43000,42000,41000,40000,39000,38000,37000,36000,35000,34000,33000,32000,31000,30000,29000,28000,27000,26000,25000,24000,23000,22000,21000,20000,19000,18000,17000,16000,15000,14000,13000,12000,11000,10000,9000,8000,7000,6000,5000,4000,3000,2000,1000,0],\"y\":[1,62,124,130,149,205,257,260,260,260,260,260,260,260,262,262,294,294,382,386,386,386,386,386,386,386,386,386,386,386,386,386,386,386,386,386,386,386,386,386,386,386,386,386,386,386,386,386,386,386,386,386,386,386,386,386,386,386,386,386,386,386,386,386,386,386,401,401,401,401,401,401,401,401,401,401,401,401,401,401,401,401,401,401,401,401,401,401,401,496,497,497,497,497,497,497,497,497,501,501,502,530,535,535,541,564,565,641,678,687,693,694,694,694,695,755,755,755,755,755,763,772,773,773,773,773,773,782,782,782,782,782,785,785,785,785,785,785,785,785,785,785,785,785,785,785,785,785,785,785,785,785,785,785,785,785,785,785,785,785,785,785,785,785,785,785,785,785,785,785,785,785,785,785,785,785,785,785,785,785,785,785,785,785,785,785,785,785,785,785,785,785,785,785,785,785,785,785,785,785,785,785,785,785,785,785,785,785,785,785,785,785,785,785,785,829,829,829,829,829,829,829,829,829,829,829,829,829,829,829,829,829,829,829,829,829,829,829,829,829,829,829,829,829,829,829,829,829,829,829,829,829,829,833,833,838,838,838,838,843,843,843,886,886,886,886,888,888,888,913,964,964,964,964,964,964,964,964,964,964,964,964,971,971,1022,1061,1083,1083,1084,1084,1084,1084,1085,1107,1112,1112,1112,1127,1148,1189,1202,1202,1259,1351,1365,1365,1367,1367,1367,1497,1597,1600,1699,1778,1802,1807,1841,1855,1869,1869,1869,1869,1869,1869,1869,1872,1872,1882,1893,1902,1912,1912,1912,1913,1913,1913,1913,1913,1913,1913,1913,1913,1913,1913,1913,1913,1913,1963,2015,2039,2039,2041,2041,2041,2041,2041,2117,2157,2157,2157,2157,2157,2157,2246,2282,2286,2286,2307,2307,2307,2307,2307,2307,2307,2307,2307,2307,2309,2309,2309,2320,2324,2324,2324,2324,2324,2324,2325,2329,2330,2330,2330,2330,2330,2330,2330,2330,2343,2343,2479,2494,2494,2494,2494,2494,2494,2494,2494,2494,2494,2499,2564,2570,2573,2573,2584,2584,2627,2627,2627,2627,2627,2659,2712,2750,2750,2750,2750,2750,2751,2792,2792,2792,2792,2792,2794,2794,2822,2822,2823,2825,2825,2825,2825,2825,2825,2825,2825,2825,2825,2825,2825,2825,2825,2825,2825,2831,2831,2831,2832,2886,2886,2886,2886,2886,2894,2894,2894,2894,2894,2894,2894,2910,2959,2961,2961,2961,2961,2964,2964,2964,2964,2964,2964,2964,2964,2964,2964,2964,2964,2964,2964,2964,2964,2964,2964,2964,2964,2964,2964,2965,2965,2965,2965,2965,2965,2965,2965,2965,2965,2965,2966,2966,2966,2966,2974,2974,2974,2974,2974,2974,2974,2974,2974,2974,2974,2974,2974,2974,2974,2974,2974,2974,2974,2974,2974,2974,2974,2974,2974,2974,2974,2974,2974,2974,2974,2974,2974,2974,2974,2974,2974,2974,2974,2974,2974,2974,2974,2974,2974,2974,2974,2974,2974,2974,2974,2974,2974,2974,2974,2974,2974,2974,2974,2974,2974,2974,2974,2974,2974,2974,2974,2974,2974,2974,2974,2974,2974,2974,2974,2974,2974,2974,2974,2974,2974,2974,2974,2974,2974,3769,3769,3769,3769,3769,3769,3769,3769,3769,3769,3769,3769,3769,3769,3769,3769,3769,3769,3769,3769,3769,3769,3769,3769,3769,3769,3769,3769,3769,3769,3769,3769,3769,3769,3769,3769,3769,3769,3769,3769,3769,3769,3769,3769,3769,3769,3769,3769,3769,3769,3769,3769,3768,3768,3768,3768,3768,3768,3768,3768,3768,3768,3755,3755,3755,3755,3755,3755,3755,3755,3755,3755,3755,3755,3755,3755,3755,3755,3755,3755,3755,3755,3755,3755,3755,3755,3755,3755,3755,3755,3755,3755,3755,3755,3755,3755,3755,3755,3755,3755,3755,3755,3755,3755,3755,3755,3755,3755,3755,3755,3755,3755,3755,3755,3755,3755,3755,3755,3755,3755,3755,3755,3755,3755,3755,3755,3755,3755,3755,3755,3755,3755,3755,3755,3755,3755,3755,3755,3755,3755,3755,3755,3755,3755,3755,3755,3755,3755,3755,3755,3755,3755,3753,3753,3753,3753,3753,3753,3753,3753,3753,3753,3753,3753,3753,3753,3753,3753,3753,3753,3753,3753,3753,3753,3753,3753,3753,3753,3753,3752,3752,3752,3752,3752,3752,3752,3752,3752,3752,3752,3734,3734,3734,3734,3734,3734,3734,3734,3734,3734,3734,3730,3730,3730,3730,3730,3730,3730,3730,3730,3730,3730,3730,3730,3730,3730,3730,3730,3730,3730,3730,3730,3730,3730,3730,3730,3730,3730,3730,3730,3730,3730,3730,3730,3730,3730,3730,3730,3730,3730,3730,3730,3730,3730,3729,3729,3729,3729,3729,3729,3729,3727,3724,3724,3724,3724,3724,3724,3724,3724,3711,3691,3688,3670,3667,3643,3577,3548,3548,3548,3548,3548,3548,3532,3452,3356,3277,3277,3277,3277,3277,3277,3277,3277,3277,3277,3277,3277,3277,3277,3277,3277,3277,3277,3277,3277,3277,3277,3277,3277,3277,3277,3277,3277,3277,3277,3206,3206,3206,3206,3206,3206,3201,3201,3201,3200,3197,3196,3196,3194,3191,3161,3079,3079,3074,3074,3074,3074,3074,3074,3074,3074,3074,3074,3074,3074,3064,3054,3021,3018,3018,3018,3018,3018,3018,3018,3017,3002,3002,3002,2973,2973,2973,2973,2973,2973,2973,2973,2973,2973,2973,2973,2973,2973,2973,2973,2973,2967,2956,2955,2955,2955,2955,2955,2936,2936,2936,2936,2936,2935,2903,2895,2891,2825,2825,2825,2825,2825,2825,2825,2825,2825,2825,2822,2822,2822,2822,2821,2818,2818,2818,2818,2812,2812,2812,2810,2810,2762,2762,2762,2762,2756,2752,2732,2731,2725,2725,2725,2724,2723,2721,2721,2721,2721,2721,2721,2721,2721,2721,2721,2721,2721,2721,2721,2718,2717,2716,2715,2715,2715,2713,2679,2465,2386,2356,2354,2337,2337,2337,2337,2337,2337,2337,2299,2299,2299,2299,2299,2298,2284,2231,2231,2231,2231,2231,2231,2231,2231,2231,2231,2231,2231,2231,2231,2231,2225,2178,2178,2178,2178,2178,2178,2178,2178,2178,2178,2178,2178,2178,2178,2178,2178,2178,2178,2170,2170,2170,2108,2102,2102,2102,2102,2102,2102,2102,2102,2102,2102,2102,2102,2102,2102,2101,2101,2101,2101,2101,2101,2090,2090,2090,2090,2090,2090,2090,2090,2090,2090,2090,2090,2090,2089,2077,2071,2071,2071,2032,1980,1970,1928,1926,1855,1822,1794,1794,1794,1794,1792,1788,1773,1773,1766,1748,1726,1715,1627,1523,1419,1419,1418,1418,1418,1394,1360,1360,1346,1344,1336,1334,1333,1331,1321,1315,1307,1300,1273,1261,1258,1258,1258,1207,1191,1191,1189,1142,1108,1093,1077,1075,1065,1013,799,706,525,523,497,321,262,132,1]}},\"id\":\"40390c01-1921-452e-9f8c-0a00a55293b5\",\"type\":\"ColumnDataSource\"},{\"attributes\":{\"overlay\":{\"id\":\"9ae5cd1c-490b-4116-9ff2-99fcbccf8156\",\"type\":\"BoxAnnotation\"},\"plot\":{\"id\":\"39a43dd3-8ec3-4208-bdf1-0a97068a9dee\",\"subtype\":\"Figure\",\"type\":\"Plot\"}},\"id\":\"0421cbfe-4ceb-487a-aa60-29f8eec955f9\",\"type\":\"BoxZoomTool\"},{\"attributes\":{\"line_alpha\":{\"value\":0.1},\"line_color\":{\"value\":\"#1f77b4\"},\"line_width\":{\"value\":2},\"x\":{\"field\":\"x\"},\"y\":{\"field\":\"y\"}},\"id\":\"6222bdae-3552-4a9b-b538-bbbbb4242f0c\",\"type\":\"Line\"},{\"attributes\":{\"plot\":{\"id\":\"39a43dd3-8ec3-4208-bdf1-0a97068a9dee\",\"subtype\":\"Figure\",\"type\":\"Plot\"}},\"id\":\"d7f2f082-f941-4ced-bcf2-9d4e6897011d\",\"type\":\"SaveTool\"},{\"attributes\":{\"callback\":null,\"column_names\":[\"x\",\"y\"],\"data\":{\"x\":[0,1000,2000,3000,4000,5000,6000,7000,8000,9000,10000,11000,12000,13000,14000,15000,16000,17000,18000,19000,20000,21000,22000,23000,24000,25000,26000,27000,28000,29000,30000,31000,32000,33000,34000,35000,36000,37000,38000,39000,40000,41000,42000,43000,44000,45000,46000,47000,48000,49000,50000,51000,52000,53000,54000,55000,56000,57000,58000,59000,60000,61000,62000,63000,64000,65000,66000,67000,68000,69000,70000,71000,72000,73000,74000,75000,76000,77000,78000,79000,80000,81000,82000,83000,84000,85000,86000,87000,88000,89000,90000,91000,92000,93000,94000,95000,96000,97000,98000,99000,100000,101000,102000,103000,104000,105000,106000,107000,108000,109000,110000,111000,112000,113000,114000,115000,116000,117000,118000,119000,120000,121000,122000,123000,124000,125000,126000,127000,128000,129000,130000,131000,132000,133000,134000,135000,136000,137000,138000,139000,140000,141000,142000,143000,144000,145000,146000,147000,148000,149000,150000,151000,152000,153000,154000,155000,156000,157000,158000,159000,160000,161000,162000,163000,164000,165000,166000,167000,168000,169000,170000,171000,172000,173000,174000,175000,176000,177000,178000,179000,180000,181000,182000,183000,184000,185000,186000,187000,188000,189000,190000,191000,192000,193000,194000,195000,196000,197000,198000,199000,200000,201000,202000,203000,204000,205000,206000,207000,208000,209000,210000,211000,212000,213000,214000,215000,216000,217000,218000,219000,220000,221000,222000,223000,224000,225000,226000,227000,228000,229000,230000,231000,232000,233000,234000,235000,236000,237000,238000,239000,240000,241000,242000,243000,244000,245000,246000,247000,248000,249000,250000,251000,252000,253000,254000,255000,256000,257000,258000,259000,260000,261000,262000,263000,264000,265000,266000,267000,268000,269000,270000,271000,272000,273000,274000,275000,276000,277000,278000,279000,280000,281000,282000,283000,284000,285000,286000,287000,288000,289000,290000,291000,292000,293000,294000,295000,296000,297000,298000,299000,300000,301000,302000,303000,304000,305000,306000,307000,308000,309000,310000,311000,312000,313000,314000,315000,316000,317000,318000,319000,320000,321000,322000,323000,324000,325000,326000,327000,328000,329000,330000,331000,332000,333000,334000,335000,336000,337000,338000,339000,340000,341000,342000,343000,344000,345000,346000,347000,348000,349000,350000,351000,352000,353000,354000,355000,356000,357000,358000,359000,360000,361000,362000,363000,364000,365000,366000,367000,368000,369000,370000,371000,372000,373000,374000,375000,376000,377000,378000,379000,380000,381000,382000,383000,384000,385000,386000,387000,388000,389000,390000,391000,392000,393000,394000,395000,396000,397000,398000,399000,400000,401000,402000,403000,404000,405000,406000,407000,408000,409000,410000,411000,412000,413000,414000,415000,416000,417000,418000,419000,420000,421000,422000,423000,424000,425000,426000,427000,428000,429000,430000,431000,432000,433000,434000,435000,436000,437000,438000,439000,440000,441000,442000,443000,444000,445000,446000,447000,448000,449000,450000,451000,452000,453000,454000,455000,456000,457000,458000,459000,460000,461000,462000,463000,464000,465000,466000,467000,468000,469000,470000,471000,472000,473000,474000,475000,476000,477000,478000,479000,480000,481000,482000,483000,484000,485000,486000,487000,488000,489000,490000,491000,492000,493000,494000,495000,496000,497000,498000,499000,500000,501000,502000,503000,504000,505000,506000,507000,508000,509000,510000,511000,512000,513000,514000,515000,516000,517000,518000,519000,520000,521000,522000,523000,524000,525000,526000,527000,528000,529000,530000,531000,532000,533000,534000,535000,536000,537000,538000,539000,540000,541000,542000,543000,544000,545000,546000,547000,548000,549000,550000,551000,552000,553000,554000,555000,556000,557000,558000,559000,560000,561000,562000,563000,564000,565000,566000,567000,568000,569000,570000,571000,572000,573000,574000,575000,576000,577000,578000,579000,580000,581000,582000,583000,584000,585000,586000,587000,588000,589000,590000,591000,592000,593000,594000,595000,596000,597000,598000,599000,600000],\"y\":{\"__ndarray__\":\"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\",\"dtype\":\"float64\",\"shape\":[600]}}},\"id\":\"474af51d-4a60-4c2f-b6bd-1f1e9fcfd6e7\",\"type\":\"ColumnDataSource\"},{\"attributes\":{\"data_source\":{\"id\":\"5c3b27a7-f8ea-4db5-9903-3b80a1015a6e\",\"type\":\"ColumnDataSource\"},\"glyph\":{\"id\":\"a9eb1076-c3fd-4f85-b8c0-337adf40e501\",\"type\":\"Line\"},\"hover_glyph\":null,\"nonselection_glyph\":{\"id\":\"6222bdae-3552-4a9b-b538-bbbbb4242f0c\",\"type\":\"Line\"},\"selection_glyph\":null},\"id\":\"7bfb58bf-6f07-4bcb-9c1f-9b7a127e45d7\",\"type\":\"GlyphRenderer\"},{\"attributes\":{\"plot\":{\"id\":\"39a43dd3-8ec3-4208-bdf1-0a97068a9dee\",\"subtype\":\"Figure\",\"type\":\"Plot\"}},\"id\":\"099db346-e691-4093-bfb7-32930598ee48\",\"type\":\"PanTool\"},{\"attributes\":{\"data_source\":{\"id\":\"7ad1bf0c-475c-4a04-8c81-ec40fd1a20a1\",\"type\":\"ColumnDataSource\"},\"glyph\":{\"id\":\"dfdfe149-f126-42a8-a3d6-199007274c67\",\"type\":\"Patch\"},\"hover_glyph\":null,\"nonselection_glyph\":{\"id\":\"91959ecb-2b2f-48c4-9e6d-895d5b5e4133\",\"type\":\"Patch\"},\"selection_glyph\":null},\"id\":\"6bcf6f7c-c9bb-498c-919b-e5ea02b7a4c5\",\"type\":\"GlyphRenderer\"},{\"attributes\":{\"data_source\":{\"id\":\"38e97c64-990c-4eb4-a694-3259a11d31c3\",\"type\":\"ColumnDataSource\"},\"glyph\":{\"id\":\"4457c581-eb3a-4c0a-8d59-9f7e448a235b\",\"type\":\"Patch\"},\"hover_glyph\":null,\"nonselection_glyph\":{\"id\":\"64d02c17-29a5-48a0-b9bf-fe5502d78eb0\",\"type\":\"Patch\"},\"selection_glyph\":null},\"id\":\"a44b037d-b964-4570-9c31-b9f763e8c99e\",\"type\":\"GlyphRenderer\"},{\"attributes\":{\"line_color\":{\"value\":\"#377eb8\"},\"line_width\":{\"value\":2},\"x\":{\"field\":\"x\"},\"y\":{\"field\":\"y\"}},\"id\":\"87589c14-e0fb-4028-8258-6e8eb96b7d0f\",\"type\":\"Line\"},{\"attributes\":{\"fill_alpha\":{\"value\":0.1},\"fill_color\":{\"value\":\"#1f77b4\"},\"line_alpha\":{\"value\":0.1},\"line_color\":{\"value\":\"#1f77b4\"},\"x\":{\"field\":\"x\"},\"y\":{\"field\":\"y\"}},\"id\":\"91959ecb-2b2f-48c4-9e6d-895d5b5e4133\",\"type\":\"Patch\"},{\"attributes\":{\"fill_alpha\":{\"value\":0.1},\"fill_color\":{\"value\":\"#1f77b4\"},\"line_alpha\":{\"value\":0.1},\"line_color\":{\"value\":\"#1f77b4\"},\"x\":{\"field\":\"x\"},\"y\":{\"field\":\"y\"}},\"id\":\"64d02c17-29a5-48a0-b9bf-fe5502d78eb0\",\"type\":\"Patch\"},{\"attributes\":{\"callback\":null,\"column_names\":[\"x\",\"y\"],\"data\":{\"x\":[0,1000,2000,3000,4000,5000,6000,7000,8000,9000,10000,11000,12000,13000,14000,15000,16000,17000,18000,19000,20000,21000,22000,23000,24000,25000,26000,27000,28000,29000,30000,31000,32000,33000,34000,35000,36000,37000,38000,39000,40000,41000,42000,43000,44000,45000,46000,47000,48000,49000,50000,51000,52000,53000,54000,55000,56000,57000,58000,59000,60000,61000,62000,63000,64000,65000,66000,67000,68000,69000,70000,71000,72000,73000,74000,75000,76000,77000,78000,79000,80000,81000,82000,83000,84000,85000,86000,87000,88000,89000,90000,91000,92000,93000,94000,95000,96000,97000,98000,99000,100000,101000,102000,103000,104000,105000,106000,107000,108000,109000,110000,111000,112000,113000,114000,115000,116000,117000,118000,119000,120000,121000,122000,123000,124000,125000,126000,127000,128000,129000,130000,131000,132000,133000,134000,135000,136000,137000,138000,139000,140000,141000,142000,143000,144000,145000,146000,147000,148000,149000,150000,151000,152000,153000,154000,155000,156000,157000,158000,159000,160000,161000,162000,163000,164000,165000,166000,167000,168000,169000,170000,171000,172000,173000,174000,175000,176000,177000,178000,179000,180000,181000,182000,183000,184000,185000,186000,187000,188000,189000,190000,191000,192000,193000,194000,195000,196000,197000,198000,199000,200000,201000,202000,203000,204000,205000,206000,207000,208000,209000,210000,211000,212000,213000,214000,215000,216000,217000,218000,219000,220000,221000,222000,223000,224000,225000,226000,227000,228000,229000,230000,231000,232000,233000,234000,235000,236000,237000,238000,239000,240000,241000,242000,243000,244000,245000,246000,247000,248000,249000,250000,251000,252000,253000,254000,255000,256000,257000,258000,259000,260000,261000,262000,263000,264000,265000,266000,267000,268000,269000,270000,271000,272000,273000,274000,275000,276000,277000,278000,279000,280000,281000,282000,283000,284000,285000,286000,287000,288000,289000,290000,291000,292000,293000,294000,295000,296000,297000,298000,299000,300000,301000,302000,303000,304000,305000,306000,307000,308000,309000,310000,311000,312000,313000,314000,315000,316000,317000,318000,319000,320000,321000,322000,323000,324000,325000,326000,327000,328000,329000,330000,331000,332000,333000,334000,335000,336000,337000,338000,339000,340000,341000,342000,343000,344000,345000,346000,347000,348000,349000,350000,351000,352000,353000,354000,355000,356000,357000,358000,359000,360000,361000,362000,363000,364000,365000,366000,367000,368000,369000,370000,371000,372000,373000,374000,375000,376000,377000,378000,379000,380000,381000,382000,383000,384000,385000,386000,387000,388000,389000,390000,391000,392000,393000,394000,395000,396000,397000,398000,399000,400000,401000,402000,403000,404000,405000,406000,407000,408000,409000,410000,411000,412000,413000,414000,415000,416000,417000,418000,419000,420000,421000,422000,423000,424000,425000,426000,427000,428000,429000,430000,431000,432000,433000,434000,435000,436000,437000,438000,439000,440000,441000,442000,443000,444000,445000,446000,447000,448000,449000,450000,451000,452000,453000,454000,455000,456000,457000,458000,459000,460000,461000,462000,463000,464000,465000,466000,467000,468000,469000,470000,471000,472000,473000,474000,475000,476000,477000,478000,479000,480000,481000,482000,483000,484000,485000,486000,487000,488000,489000,490000,491000,492000,493000,494000,495000,496000,497000,498000,499000,500000,501000,502000,503000,504000,505000,506000,507000,508000,509000,510000,511000,512000,513000,514000,515000,516000,517000,518000,519000,520000,521000,522000,523000,524000,525000,526000,527000,528000,529000,530000,531000,532000,533000,534000,535000,536000,537000,538000,539000,540000,541000,542000,543000,544000,545000,546000,547000,548000,549000,550000,551000,552000,553000,554000,555000,556000,557000,558000,559000,560000,561000,562000,563000,564000,565000,566000,567000,568000,569000,570000,571000,572000,573000,574000,575000,576000,577000,578000,579000,580000,581000,582000,583000,584000,585000,586000,587000,588000,589000,590000,591000,592000,593000,594000,595000,596000,597000,598000,599000,600000,600000,599000,598000,597000,596000,595000,594000,593000,592000,591000,590000,589000,588000,587000,586000,585000,584000,583000,582000,581000,580000,579000,578000,577000,576000,575000,574000,573000,572000,571000,570000,569000,568000,567000,566000,565000,564000,563000,562000,561000,560000,559000,558000,557000,556000,555000,554000,553000,552000,551000,550000,549000,548000,547000,546000,545000,544000,543000,542000,541000,540000,539000,538000,537000,536000,535000,534000,533000,532000,531000,530000,529000,528000,527000,526000,525000,524000,523000,522000,521000,520000,519000,518000,517000,516000,515000,514000,513000,512000,511000,510000,509000,508000,507000,506000,505000,504000,503000,502000,501000,500000,499000,498000,497000,496000,495000,494000,493000,492000,491000,490000,489000,488000,487000,486000,485000,484000,483000,482000,481000,480000,479000,478000,477000,476000,475000,474000,473000,472000,471000,470000,469000,468000,467000,466000,465000,464000,463000,462000,461000,460000,459000,458000,457000,456000,455000,454000,453000,452000,451000,450000,449000,448000,447000,446000,445000,444000,443000,442000,441000,440000,439000,438000,437000,436000,435000,434000,433000,432000,431000,430000,429000,428000,427000,426000,425000,424000,423000,422000,421000,420000,419000,418000,417000,416000,415000,414000,413000,412000,411000,410000,409000,408000,407000,406000,405000,404000,403000,402000,401000,400000,399000,398000,397000,396000,395000,394000,393000,392000,391000,390000,389000,388000,387000,386000,385000,384000,383000,382000,381000,380000,379000,378000,377000,376000,375000,374000,373000,372000,371000,370000,369000,368000,367000,366000,365000,364000,363000,362000,361000,360000,359000,358000,357000,356000,355000,354000,353000,352000,351000,350000,349000,348000,347000,346000,345000,344000,343000,342000,341000,340000,339000,338000,337000,336000,335000,334000,333000,332000,331000,330000,329000,328000,327000,326000,325000,324000,323000,322000,321000,320000,319000,318000,317000,316000,315000,314000,313000,312000,311000,310000,309000,308000,307000,306000,305000,304000,303000,302000,301000,300000,299000,298000,297000,296000,295000,294000,293000,292000,291000,290000,289000,288000,287000,286000,285000,284000,283000,282000,281000,280000,279000,278000,277000,276000,275000,274000,273000,272000,271000,270000,269000,268000,267000,266000,265000,264000,263000,262000,261000,260000,259000,258000,257000,256000,255000,254000,253000,252000,251000,250000,249000,248000,247000,246000,245000,244000,243000,242000,241000,240000,239000,238000,237000,236000,235000,234000,233000,232000,231000,230000,229000,228000,227000,226000,225000,224000,223000,222000,221000,220000,219000,218000,217000,216000,215000,214000,213000,212000,211000,210000,209000,208000,207000,206000,205000,204000,203000,202000,201000,200000,199000,198000,197000,196000,195000,194000,193000,192000,191000,190000,189000,188000,187000,186000,185000,184000,183000,182000,181000,180000,179000,178000,177000,176000,175000,174000,173000,172000,171000,170000,169000,168000,167000,166000,165000,164000,163000,162000,161000,160000,159000,158000,157000,156000,155000,154000,153000,152000,151000,150000,149000,148000,147000,146000,145000,144000,143000,142000,141000,140000,139000,138000,137000,136000,135000,134000,133000,132000,131000,130000,129000,128000,127000,126000,125000,124000,123000,122000,121000,120000,119000,118000,117000,116000,115000,114000,113000,112000,111000,110000,109000,108000,107000,106000,105000,104000,103000,102000,101000,100000,99000,98000,97000,96000,95000,94000,93000,92000,91000,90000,89000,88000,87000,86000,85000,84000,83000,82000,81000,80000,79000,78000,77000,76000,75000,74000,73000,72000,71000,70000,69000,68000,67000,66000,65000,64000,63000,62000,61000,60000,59000,58000,57000,56000,55000,54000,53000,52000,51000,50000,49000,48000,47000,46000,45000,44000,43000,42000,41000,40000,39000,38000,37000,36000,35000,34000,33000,32000,31000,30000,29000,28000,27000,26000,25000,24000,23000,22000,21000,20000,19000,18000,17000,16000,15000,14000,13000,12000,11000,10000,9000,8000,7000,6000,5000,4000,3000,2000,1000,0],\"y\":[1,52,150,192,243,243,270,270,270,270,270,270,270,270,388,388,388,388,388,388,388,438,490,490,490,490,490,490,490,490,490,490,490,490,490,490,490,490,490,490,490,490,490,490,490,549,552,552,552,552,552,552,577,577,577,577,577,577,577,578,585,585,585,596,596,596,596,596,596,596,597,597,597,597,597,597,597,597,597,597,597,597,597,597,597,597,597,597,597,597,597,597,597,597,597,597,597,597,607,607,607,607,607,607,607,607,607,607,607,607,607,607,607,607,607,607,607,607,607,607,607,607,607,607,607,607,607,607,607,607,607,607,607,607,607,607,607,607,607,607,607,607,607,607,607,607,607,607,607,607,607,607,607,607,607,607,607,607,607,607,607,607,607,607,607,607,607,607,607,607,607,607,607,607,607,607,607,607,607,607,607,607,607,607,607,607,607,607,607,607,607,607,607,607,607,607,607,607,607,607,607,607,607,607,607,607,607,607,607,607,607,607,607,607,607,607,607,607,607,607,607,607,607,607,607,607,607,607,607,607,607,607,607,607,607,607,607,607,612,612,612,612,612,612,612,612,612,612,612,612,612,627,627,627,627,627,627,627,627,627,627,627,627,627,627,627,627,627,627,627,627,627,627,627,627,627,627,627,627,627,627,662,673,676,700,702,716,725,739,762,768,772,775,775,777,777,777,777,777,777,777,777,777,777,777,777,778,778,798,798,798,798,798,798,798,798,814,814,820,824,850,901,901,901,901,901,901,915,915,915,940,1023,1028,1052,1066,1075,1094,1094,1094,1099,1115,1115,1115,1116,1116,1116,1116,1116,1116,1116,1116,1116,1116,1182,1228,1324,1386,1391,1396,1401,1411,1411,1415,1415,1416,1422,1422,1422,1425,1425,1425,1426,1432,1433,1433,1433,1433,1436,1436,1436,1436,1436,1436,1436,1436,1446,1446,1446,1446,1450,1450,1450,1450,1450,1450,1450,1450,1450,1450,1450,1450,1450,1450,1450,1450,1450,1450,1450,1450,1450,1450,1450,1450,1450,1450,1450,1450,1450,1450,1450,1450,1450,1450,1450,1450,1450,1450,1450,1450,1450,1450,1450,1450,1450,1450,1450,1450,1451,1451,1451,1451,1451,1451,1451,1451,1451,1451,1451,1451,1451,1451,1451,1451,1451,1451,1451,1451,1451,1451,1451,1468,1468,1468,1468,1468,1468,1468,1468,1468,1468,1468,1468,1468,1468,1468,1468,1468,1468,1468,1468,1468,1468,1468,1468,1468,1468,1468,1470,1470,1470,1470,1470,1470,1470,1491,1494,1494,1501,1501,1501,1501,1501,1501,1501,1501,1501,1501,1501,1501,1501,1504,1504,1507,1507,1563,1643,1643,1643,1648,1648,1648,1648,1648,1648,1648,1648,1648,1648,1648,1648,1707,1725,1725,1731,1739,1739,1777,1781,1785,1794,1794,1794,1794,1794,1794,1794,1794,1794,1794,1794,1794,1794,1794,1794,1794,1794,1794,1794,1794,1794,1794,1794,1794,1794,1794,1794,1794,1794,1794,1794,1794,1794,1794,1794,1794,1794,1794,1794,1794,1794,1794,1794,1794,1794,1794,1794,1794,1794,1794,1794,1794,1794,1794,1794,1794,1794,1794,1794,1794,1794,3778,3778,3778,3778,3778,3778,3778,3778,3778,3778,3778,3778,3778,3778,3778,3778,3778,3778,3778,3778,3778,3778,3778,3778,3778,3778,3778,3778,3778,3778,3778,3778,3778,3778,3778,3778,3778,3778,3778,3778,3778,3778,3778,3778,3778,3778,3778,3778,3778,3778,3778,3778,3778,3778,3778,3778,3778,3778,3778,3778,3778,3778,3778,3778,3778,3778,3778,3778,3778,3778,3778,3778,3778,3778,3778,3778,3778,3778,3778,3778,3778,3778,3778,3778,3778,3778,3778,3778,3778,3778,3778,3778,3778,3778,3778,3778,3778,3778,3778,3778,3778,3778,3778,3778,3778,3778,3778,3778,3778,3778,3778,3778,3778,3778,3778,3778,3778,3778,3778,3778,3778,3778,3778,3778,3778,3778,3778,3778,3778,3778,3778,3778,3778,3778,3778,3778,3778,3778,3778,3778,3778,3778,3778,3778,3778,3778,3778,3778,3778,3778,3778,3778,3778,3778,3778,3778,3778,3778,3778,3778,3778,3778,3778,3778,3778,3778,3778,3778,3778,3778,3778,3778,3778,3778,3778,3778,3778,3778,3778,3778,3778,3778,3778,3778,3778,3778,3778,3778,3778,3778,3778,3778,3778,3778,3778,3778,3778,3778,3778,3778,3778,3778,3778,3778,3778,3778,3778,3778,3778,3778,3778,3778,3778,3778,3778,3778,3778,3778,3778,3778,3778,3778,3778,3778,3778,3778,3778,3778,3778,3778,3778,3778,3778,3778,3778,3778,3778,3778,3778,3778,3778,3778,3778,3778,3778,3778,3778,3778,3778,3778,3778,3778,3778,3778,3778,3778,3778,3778,3778,3778,3778,3778,3778,3778,3778,3778,3778,3778,3778,3778,3778,3778,3778,3778,3778,3778,3778,3778,3767,3767,3767,3767,3767,3767,3767,3767,3767,3767,3767,3767,3767,3767,3767,3764,3764,3764,3764,3764,3764,3764,3764,3764,3764,3764,3764,3764,3764,3764,3764,3764,3764,3764,3763,3762,3762,3761,3761,3741,3733,3733,3733,3733,3733,3733,3724,3721,3721,3721,3721,3721,3721,3721,3721,3721,3721,3721,3721,3721,3721,3721,3721,3721,3721,3721,3721,3721,3721,3721,3721,3721,3720,3710,3661,3658,3658,3658,3655,3655,3655,3655,3655,3655,3655,3653,3653,3653,3653,3653,3649,3590,3590,3590,3590,3589,3588,3588,3588,3588,3588,3587,3583,3583,3583,3583,3583,3572,3518,3516,3516,3516,3516,3516,3516,3516,3391,3373,3373,3373,3373,3373,3373,3373,3373,3373,3373,3372,3282,3273,3273,3255,3255,3255,3255,3255,3255,3255,3255,3255,3255,3255,3255,3255,3255,3255,3255,3255,3255,3255,3255,3254,3252,3242,3184,3085,3078,3069,3069,3026,2997,2996,2996,2933,2933,2910,2906,2904,2884,2884,2884,2884,2884,2884,2884,2884,2861,2848,2835,2817,2740,2739,2739,2733,2733,2733,2733,2733,2733,2733,2722,2713,2713,2712,2707,2698,2698,2679,2668,2663,2663,2663,2663,2663,2663,2613,2610,2610,2610,2610,2610,2609,2504,2422,2421,2415,2366,2366,2366,2366,2366,2366,2366,2366,2366,2362,2258,2217,2217,2217,2217,2202,2202,2202,2202,2202,2202,2202,2194,2177,2139,2057,2046,2046,2046,2046,2046,2046,2046,2025,1993,1987,1985,1976,1976,1976,1976,1976,1974,1974,1960,1950,1927,1865,1865,1865,1862,1846,1846,1846,1839,1839,1839,1834,1736,1646,1621,1532,1413,1270,1198,1198,1198,1198,1169,1164,1162,1141,1141,1140,1140,1140,1140,1140,1139,1139,1139,1129,1061,1015,966,943,941,939,932,920,835,808,798,789,714,663,626,584,512,415,364,364,274,198,110,1]}},\"id\":\"7ad1bf0c-475c-4a04-8c81-ec40fd1a20a1\",\"type\":\"ColumnDataSource\"},{\"attributes\":{\"callback\":null,\"column_names\":[\"x\",\"y\"],\"data\":{\"x\":[0,1000,2000,3000,4000,5000,6000,7000,8000,9000,10000,11000,12000,13000,14000,15000,16000,17000,18000,19000,20000,21000,22000,23000,24000,25000,26000,27000,28000,29000,30000,31000,32000,33000,34000,35000,36000,37000,38000,39000,40000,41000,42000,43000,44000,45000,46000,47000,48000,49000,50000,51000,52000,53000,54000,55000,56000,57000,58000,59000,60000,61000,62000,63000,64000,65000,66000,67000,68000,69000,70000,71000,72000,73000,74000,75000,76000,77000,78000,79000,80000,81000,82000,83000,84000,85000,86000,87000,88000,89000,90000,91000,92000,93000,94000,95000,96000,97000,98000,99000,100000,101000,102000,103000,104000,105000,106000,107000,108000,109000,110000,111000,112000,113000,114000,115000,116000,117000,118000,119000,120000,121000,122000,123000,124000,125000,126000,127000,128000,129000,130000,131000,132000,133000,134000,135000,136000,137000,138000,139000,140000,141000,142000,143000,144000,145000,146000,147000,148000,149000,150000,151000,152000,153000,154000,155000,156000,157000,158000,159000,160000,161000,162000,163000,164000,165000,166000,167000,168000,169000,170000,171000,172000,173000,174000,175000,176000,177000,178000,179000,180000,181000,182000,183000,184000,185000,186000,187000,188000,189000,190000,191000,192000,193000,194000,195000,196000,197000,198000,199000,200000,201000,202000,203000,204000,205000,206000,207000,208000,209000,210000,211000,212000,213000,214000,215000,216000,217000,218000,219000,220000,221000,222000,223000,224000,225000,226000,227000,228000,229000,230000,231000,232000,233000,234000,235000,236000,237000,238000,239000,240000,241000,242000,243000,244000,245000,246000,247000,248000,249000,250000,251000,252000,253000,254000,255000,256000,257000,258000,259000,260000,261000,262000,263000,264000,265000,266000,267000,268000,269000,270000,271000,272000,273000,274000,275000,276000,277000,278000,279000,280000,281000,282000,283000,284000,285000,286000,287000,288000,289000,290000,291000,292000,293000,294000,295000,296000,297000,298000,299000,300000,301000,302000,303000,304000,305000,306000,307000,308000,309000,310000,311000,312000,313000,314000,315000,316000,317000,318000,319000,320000,321000,322000,323000,324000,325000,326000,327000,328000,329000,330000,331000,332000,333000,334000,335000,336000,337000,338000,339000,340000,341000,342000,343000,344000,345000,346000,347000,348000,349000,350000,351000,352000,353000,354000,355000,356000,357000,358000,359000,360000,361000,362000,363000,364000,365000,366000,367000,368000,369000,370000,371000,372000,373000,374000,375000,376000,377000,378000,379000,380000,381000,382000,383000,384000,385000,386000,387000,388000,389000,390000,391000,392000,393000,394000,395000,396000,397000,398000,399000,400000,401000,402000,403000,404000,405000,406000,407000,408000,409000,410000,411000,412000,413000,414000,415000,416000,417000,418000,419000,420000,421000,422000,423000,424000,425000,426000,427000,428000,429000,430000,431000,432000,433000,434000,435000,436000,437000,438000,439000,440000,441000,442000,443000,444000,445000,446000,447000,448000,449000,450000,451000,452000,453000,454000,455000,456000,457000,458000,459000,460000,461000,462000,463000,464000,465000,466000,467000,468000,469000,470000,471000,472000,473000,474000,475000,476000,477000,478000,479000,480000,481000,482000,483000,484000,485000,486000,487000,488000,489000,490000,491000,492000,493000,494000,495000,496000,497000,498000,499000,500000,501000,502000,503000,504000,505000,506000,507000,508000,509000,510000,511000,512000,513000,514000,515000,516000,517000,518000,519000,520000,521000,522000,523000,524000,525000,526000,527000,528000,529000,530000,531000,532000,533000,534000,535000,536000,537000,538000,539000,540000,541000,542000,543000,544000,545000,546000,547000,548000,549000,550000,551000,552000,553000,554000,555000,556000,557000,558000,559000,560000,561000,562000,563000,564000,565000,566000,567000,568000,569000,570000,571000,572000,573000,574000,575000,576000,577000,578000,579000,580000,581000,582000,583000,584000,585000,586000,587000,588000,589000,590000,591000,592000,593000,594000,595000,596000,597000,598000,599000,600000,600000,599000,598000,597000,596000,595000,594000,593000,592000,591000,590000,589000,588000,587000,586000,585000,584000,583000,582000,581000,580000,579000,578000,577000,576000,575000,574000,573000,572000,571000,570000,569000,568000,567000,566000,565000,564000,563000,562000,561000,560000,559000,558000,557000,556000,555000,554000,553000,552000,551000,550000,549000,548000,547000,546000,545000,544000,543000,542000,541000,540000,539000,538000,537000,536000,535000,534000,533000,532000,531000,530000,529000,528000,527000,526000,525000,524000,523000,522000,521000,520000,519000,518000,517000,516000,515000,514000,513000,512000,511000,510000,509000,508000,507000,506000,505000,504000,503000,502000,501000,500000,499000,498000,497000,496000,495000,494000,493000,492000,491000,490000,489000,488000,487000,486000,485000,484000,483000,482000,481000,480000,479000,478000,477000,476000,475000,474000,473000,472000,471000,470000,469000,468000,467000,466000,465000,464000,463000,462000,461000,460000,459000,458000,457000,456000,455000,454000,453000,452000,451000,450000,449000,448000,447000,446000,445000,444000,443000,442000,441000,440000,439000,438000,437000,436000,435000,434000,433000,432000,431000,430000,429000,428000,427000,426000,425000,424000,423000,422000,421000,420000,419000,418000,417000,416000,415000,414000,413000,412000,411000,410000,409000,408000,407000,406000,405000,404000,403000,402000,401000,400000,399000,398000,397000,396000,395000,394000,393000,392000,391000,390000,389000,388000,387000,386000,385000,384000,383000,382000,381000,380000,379000,378000,377000,376000,375000,374000,373000,372000,371000,370000,369000,368000,367000,366000,365000,364000,363000,362000,361000,360000,359000,358000,357000,356000,355000,354000,353000,352000,351000,350000,349000,348000,347000,346000,345000,344000,343000,342000,341000,340000,339000,338000,337000,336000,335000,334000,333000,332000,331000,330000,329000,328000,327000,326000,325000,324000,323000,322000,321000,320000,319000,318000,317000,316000,315000,314000,313000,312000,311000,310000,309000,308000,307000,306000,305000,304000,303000,302000,301000,300000,299000,298000,297000,296000,295000,294000,293000,292000,291000,290000,289000,288000,287000,286000,285000,284000,283000,282000,281000,280000,279000,278000,277000,276000,275000,274000,273000,272000,271000,270000,269000,268000,267000,266000,265000,264000,263000,262000,261000,260000,259000,258000,257000,256000,255000,254000,253000,252000,251000,250000,249000,248000,247000,246000,245000,244000,243000,242000,241000,240000,239000,238000,237000,236000,235000,234000,233000,232000,231000,230000,229000,228000,227000,226000,225000,224000,223000,222000,221000,220000,219000,218000,217000,216000,215000,214000,213000,212000,211000,210000,209000,208000,207000,206000,205000,204000,203000,202000,201000,200000,199000,198000,197000,196000,195000,194000,193000,192000,191000,190000,189000,188000,187000,186000,185000,184000,183000,182000,181000,180000,179000,178000,177000,176000,175000,174000,173000,172000,171000,170000,169000,168000,167000,166000,165000,164000,163000,162000,161000,160000,159000,158000,157000,156000,155000,154000,153000,152000,151000,150000,149000,148000,147000,146000,145000,144000,143000,142000,141000,140000,139000,138000,137000,136000,135000,134000,133000,132000,131000,130000,129000,128000,127000,126000,125000,124000,123000,122000,121000,120000,119000,118000,117000,116000,115000,114000,113000,112000,111000,110000,109000,108000,107000,106000,105000,104000,103000,102000,101000,100000,99000,98000,97000,96000,95000,94000,93000,92000,91000,90000,89000,88000,87000,86000,85000,84000,83000,82000,81000,80000,79000,78000,77000,76000,75000,74000,73000,72000,71000,70000,69000,68000,67000,66000,65000,64000,63000,62000,61000,60000,59000,58000,57000,56000,55000,54000,53000,52000,51000,50000,49000,48000,47000,46000,45000,44000,43000,42000,41000,40000,39000,38000,37000,36000,35000,34000,33000,32000,31000,30000,29000,28000,27000,26000,25000,24000,23000,22000,21000,20000,19000,18000,17000,16000,15000,14000,13000,12000,11000,10000,9000,8000,7000,6000,5000,4000,3000,2000,1000,0],\"y\":[1,67,115,118,155,179,209,279,279,279,279,279,279,279,328,328,328,328,328,328,328,328,328,328,328,328,328,328,328,328,328,328,328,328,328,328,328,328,328,328,328,328,328,328,328,328,328,328,328,328,328,328,328,328,328,328,328,333,333,333,333,333,333,333,333,333,333,333,333,334,334,334,334,334,334,334,334,334,334,334,334,334,334,334,334,334,334,334,334,334,334,334,334,334,334,334,334,334,334,334,334,334,334,334,336,336,336,336,336,336,336,336,336,336,336,336,336,336,336,336,338,338,338,338,338,338,338,338,338,338,338,338,338,338,338,338,338,338,338,338,338,338,338,338,338,338,338,338,338,338,338,338,338,338,338,338,338,338,338,338,338,338,338,338,338,338,338,338,396,398,399,399,400,400,400,400,402,402,402,402,404,404,404,404,404,404,404,404,404,404,406,413,413,413,413,413,413,413,413,413,413,413,413,413,413,413,413,413,413,413,413,413,413,413,413,413,413,413,413,413,413,413,413,413,413,413,413,413,413,413,413,413,413,413,413,413,413,413,413,413,413,413,413,413,413,413,413,413,413,413,413,413,413,413,413,413,413,413,413,413,413,413,413,413,413,413,413,413,413,413,413,413,413,413,413,413,413,413,413,413,413,413,413,413,413,413,413,413,413,413,413,413,413,413,413,413,413,413,413,413,413,413,415,420,426,426,427,428,428,428,429,438,444,479,479,479,479,480,480,480,480,627,741,774,914,1120,1214,1240,1247,1280,1490,1581,1592,1596,1599,1674,1690,1690,1690,1691,1691,1691,1691,1691,1691,1692,1735,1748,1876,1892,1892,1893,1893,1896,1902,1902,1902,1902,1902,1902,1908,1930,1930,1930,1930,1930,1930,1932,1932,1948,1955,1956,1965,1970,1973,1973,1973,1973,1973,1973,1977,1984,2037,2047,2082,2085,2087,2140,2145,2146,2146,2150,2150,2150,2150,2150,2150,2154,2154,2155,2155,2160,2160,2162,2162,2162,2162,2162,2162,2162,2162,2162,2216,2216,2216,2216,2216,2216,2216,2216,2216,2216,2216,2216,2216,2216,2216,2216,2216,2216,2216,2216,2216,2216,2216,2216,2216,2216,2216,2289,2296,2296,2296,2296,2296,2296,2296,2296,2296,2296,2296,2296,2308,2316,2316,2316,2316,2316,2316,2316,2316,2316,2334,2379,2385,2385,2385,2385,2385,2385,2385,2385,2404,2404,2404,2404,2404,2404,2404,2404,2404,2404,2404,2404,2404,2404,2404,2404,2404,2404,2404,2404,2404,2404,2404,2404,2404,2404,2404,2404,2404,2404,2404,2404,2404,2404,2404,2406,2432,2459,2494,2579,2579,2630,2769,2790,2790,2790,2790,2790,2790,2790,2790,2790,2790,2790,2790,2790,2790,2790,2790,2790,2790,2790,2790,2790,2790,2790,2790,2790,2790,2790,2790,2790,2790,2790,2790,2790,2790,2790,2790,2790,2790,2790,2790,2867,2945,2953,3000,3016,3016,3016,3016,3016,3016,3016,3016,3016,3016,3016,3016,3016,3018,3018,3018,3018,3018,3018,3018,3018,3018,3018,3025,3025,3025,3025,3025,3025,3025,3025,3025,3025,3025,3025,3025,3028,3028,3028,3028,3028,3760,3760,3760,3760,3760,3760,3760,3760,3760,3760,3760,3760,3760,3760,3760,3760,3760,3758,3758,3758,3758,3758,3758,3758,3758,3758,3758,3758,3758,3758,3758,3758,3758,3758,3758,3758,3758,3758,3758,3728,3728,3728,3728,3728,3728,3728,3728,3728,3720,3720,3720,3720,3720,3719,3718,3718,3718,3718,3718,3718,3718,3648,3617,3617,3617,3617,3617,3617,3617,3617,3616,3616,3616,3616,3616,3616,3616,3616,3616,3616,3616,3616,3616,3616,3616,3616,3616,3616,3616,3616,3616,3615,3615,3615,3615,3615,3615,3615,3615,3615,3615,3615,3615,3615,3615,3615,3615,3615,3615,3615,3615,3615,3615,3615,3615,3615,3615,3615,3615,3615,3615,3615,3615,3615,3615,3615,3615,3615,3615,3615,3615,3615,3615,3615,3615,3615,3614,3614,3614,3614,3614,3614,3614,3614,3614,3614,3614,3614,3614,3614,3614,3614,3614,3614,3614,3614,3614,3614,3614,3614,3614,3614,3614,3614,3614,3614,3614,3614,3614,3614,3614,3614,3614,3614,3614,3614,3614,3614,3614,3614,3614,3614,3614,3614,3614,3614,3614,3614,3614,3614,3614,3614,3614,3614,3614,3614,3614,3614,3614,3614,3614,3614,3614,3614,3614,3614,3614,3614,3614,3614,3614,3614,3614,3614,3614,3614,3614,3614,3614,3614,3614,3614,3614,3614,3614,3614,3614,3614,3614,3614,3614,3614,3614,3614,3614,3614,3614,3614,3614,3614,3614,3614,3614,3614,3614,3614,3614,3614,3614,3614,3614,3614,3614,3614,3614,3614,3610,3610,3610,3610,3610,3610,3610,3610,3610,3610,3610,3610,3610,3610,3610,3610,3610,3610,3591,3591,3591,3591,3591,3591,3591,3591,3591,3591,3591,3591,3591,3591,3591,3591,3591,3591,3591,3591,3591,3591,3580,3571,3571,3571,3571,3571,3571,3571,3571,3571,3571,3546,3534,3496,3376,3311,3311,3311,3310,3310,3297,3297,3297,3294,3284,3271,3253,3251,3251,3251,3251,3251,3251,3251,3251,3251,3251,3251,3251,3251,3251,3251,3251,3251,3251,3251,3251,3251,3251,3251,3251,3251,3251,3251,3251,3251,3251,3251,3251,3251,3251,3251,3251,3251,3251,3251,3251,3251,3251,3251,3251,3251,3249,3249,3249,3249,3249,3249,3249,3249,3249,3248,3248,3245,3242,3140,3079,3065,3001,3001,3001,2996,2948,2940,2939,2939,2939,2936,2936,2936,2936,2936,2936,2861,2853,2849,2849,2849,2849,2849,2849,2849,2849,2849,2846,2832,2831,2808,2808,2776,2767,2767,2767,2767,2766,2765,2755,2741,2736,2736,2736,2736,2736,2736,2736,2710,2705,2705,2705,2705,2672,2641,2640,2552,2432,2306,2306,2229,2156,2156,2156,2156,2156,2156,2156,2156,2156,2156,2156,2156,2156,2156,2156,2156,2156,2153,2153,2153,2153,2151,2149,2149,2149,2149,2149,2149,2149,2149,2149,2149,2149,2137,2131,2127,2126,2091,2090,2088,2088,2088,2085,2082,2070,2031,1935,1933,1933,1873,1862,1850,1840,1840,1840,1839,1831,1831,1811,1784,1748,1734,1734,1734,1734,1734,1734,1734,1734,1734,1734,1734,1728,1728,1728,1728,1728,1728,1728,1728,1728,1728,1658,1641,1599,1536,1420,1408,1408,1408,1408,1408,1408,1408,1408,1408,1408,1408,1408,1408,1408,1408,1408,1408,1408,1408,1407,1407,1407,1407,1402,1269,1267,1254,1214,1214,1207,1207,1207,1206,1206,1203,1199,1182,1166,1162,1142,1077,1077,1077,1077,1072,1072,1072,1072,1068,1068,1031,979,979,975,975,975,949,898,794,626,460,430,430,428,416,375,337,196,1]}},\"id\":\"38e97c64-990c-4eb4-a694-3259a11d31c3\",\"type\":\"ColumnDataSource\"},{\"attributes\":{\"line_color\":{\"value\":\"#ff7f00\"},\"line_width\":{\"value\":2},\"x\":{\"field\":\"x\"},\"y\":{\"field\":\"y\"}},\"id\":\"a9eb1076-c3fd-4f85-b8c0-337adf40e501\",\"type\":\"Line\"},{\"attributes\":{\"data_source\":{\"id\":\"386ae79a-6d5a-432f-a4de-b9066241e7d1\",\"type\":\"ColumnDataSource\"},\"glyph\":{\"id\":\"31449bf5-e129-4400-91d4-ae57355c8650\",\"type\":\"Line\"},\"hover_glyph\":null,\"nonselection_glyph\":{\"id\":\"2d01399d-d55f-406d-a328-a76ce6651583\",\"type\":\"Line\"},\"selection_glyph\":null},\"id\":\"55273889-d01b-4c45-8531-00e6c08500fa\",\"type\":\"GlyphRenderer\"},{\"attributes\":{\"data_source\":{\"id\":\"d6b6108a-decd-498c-aff3-461596ccfbe4\",\"type\":\"ColumnDataSource\"},\"glyph\":{\"id\":\"00426d49-76cb-4363-aa73-f335bf541c63\",\"type\":\"Line\"},\"hover_glyph\":null,\"nonselection_glyph\":{\"id\":\"07da78a4-5d60-48ae-afc0-5637ec445938\",\"type\":\"Line\"},\"selection_glyph\":null},\"id\":\"8e4a9ec5-68bc-4157-9437-6d2cad4b7d68\",\"type\":\"GlyphRenderer\"},{\"attributes\":{\"line_color\":{\"value\":\"#ffff33\"},\"line_width\":{\"value\":2},\"x\":{\"field\":\"x\"},\"y\":{\"field\":\"y\"}},\"id\":\"fbe6214b-d1cb-415e-ae86-e2a4269b2b4e\",\"type\":\"Line\"},{\"attributes\":{\"line_alpha\":{\"value\":0.1},\"line_color\":{\"value\":\"#1f77b4\"},\"line_width\":{\"value\":2},\"x\":{\"field\":\"x\"},\"y\":{\"field\":\"y\"}},\"id\":\"07da78a4-5d60-48ae-afc0-5637ec445938\",\"type\":\"Line\"},{\"attributes\":{\"label\":{\"value\":\"0.1 Alpha 16 NScaler 0.1 Bandit\"},\"renderers\":[{\"id\":\"55273889-d01b-4c45-8531-00e6c08500fa\",\"type\":\"GlyphRenderer\"}]},\"id\":\"18850952-5795-4a48-8f8f-6281b0e8f672\",\"type\":\"LegendItem\"},{\"attributes\":{\"callback\":null,\"column_names\":[\"x\",\"y\"],\"data\":{\"x\":[0,1000,2000,3000,4000,5000,6000,7000,8000,9000,10000,11000,12000,13000,14000,15000,16000,17000,18000,19000,20000,21000,22000,23000,24000,25000,26000,27000,28000,29000,30000,31000,32000,33000,34000,35000,36000,37000,38000,39000,40000,41000,42000,43000,44000,45000,46000,47000,48000,49000,50000,51000,52000,53000,54000,55000,56000,57000,58000,59000,60000,61000,62000,63000,64000,65000,66000,67000,68000,69000,70000,71000,72000,73000,74000,75000,76000,77000,78000,79000,80000,81000,82000,83000,84000,85000,86000,87000,88000,89000,90000,91000,92000,93000,94000,95000,96000,97000,98000,99000,100000,101000,102000,103000,104000,105000,106000,107000,108000,109000,110000,111000,112000,113000,114000,115000,116000,117000,118000,119000,120000,121000,122000,123000,124000,125000,126000,127000,128000,129000,130000,131000,132000,133000,134000,135000,136000,137000,138000,139000,140000,141000,142000,143000,144000,145000,146000,147000,148000,149000,150000,151000,152000,153000,154000,155000,156000,157000,158000,159000,160000,161000,162000,163000,164000,165000,166000,167000,168000,169000,170000,171000,172000,173000,174000,175000,176000,177000,178000,179000,180000,181000,182000,183000,184000,185000,186000,187000,188000,189000,190000,191000,192000,193000,194000,195000,196000,197000,198000,199000,200000,201000,202000,203000,204000,205000,206000,207000,208000,209000,210000,211000,212000,213000,214000,215000,216000,217000,218000,219000,220000,221000,222000,223000,224000,225000,226000,227000,228000,229000,230000,231000,232000,233000,234000,235000,236000,237000,238000,239000,240000,241000,242000,243000,244000,245000,246000,247000,248000,249000,250000,251000,252000,253000,254000,255000,256000,257000,258000,259000,260000,261000,262000,263000,264000,265000,266000,267000,268000,269000,270000,271000,272000,273000,274000,275000,276000,277000,278000,279000,280000,281000,282000,283000,284000,285000,286000,287000,288000,289000,290000,291000,292000,293000,294000,295000,296000,297000,298000,299000,300000,301000,302000,303000,304000,305000,306000,307000,308000,309000,310000,311000,312000,313000,314000,315000,316000,317000,318000,319000,320000,321000,322000,323000,324000,325000,326000,327000,328000,329000,330000,331000,332000,333000,334000,335000,336000,337000,338000,339000,340000,341000,342000,343000,344000,345000,346000,347000,348000,349000,350000,351000,352000,353000,354000,355000,356000,357000,358000,359000,360000,361000,362000,363000,364000,365000,366000,367000,368000,369000,370000,371000,372000,373000,374000,375000,376000,377000,378000,379000,380000,381000,382000,383000,384000,385000,386000,387000,388000,389000,390000,391000,392000,393000,394000,395000,396000,397000,398000,399000,400000,401000,402000,403000,404000,405000,406000,407000,408000,409000,410000,411000,412000,413000,414000,415000,416000,417000,418000,419000,420000,421000,422000,423000,424000,425000,426000,427000,428000,429000,430000,431000,432000,433000,434000,435000,436000,437000,438000,439000,440000,441000,442000,443000,444000,445000,446000,447000,448000,449000,450000,451000,452000,453000,454000,455000,456000,457000,458000,459000,460000,461000,462000,463000,464000,465000,466000,467000,468000,469000,470000,471000,472000,473000,474000,475000,476000,477000,478000,479000,480000,481000,482000,483000,484000,485000,486000,487000,488000,489000,490000,491000,492000,493000,494000,495000,496000,497000,498000,499000,500000,501000,502000,503000,504000,505000,506000,507000,508000,509000,510000,511000,512000,513000,514000,515000,516000,517000,518000,519000,520000,521000,522000,523000,524000,525000,526000,527000,528000,529000,530000,531000,532000,533000,534000,535000,536000,537000,538000,539000,540000,541000,542000,543000,544000,545000,546000,547000,548000,549000,550000,551000,552000,553000,554000,555000,556000,557000,558000,559000,560000,561000,562000,563000,564000,565000,566000,567000,568000,569000,570000,571000,572000,573000,574000,575000,576000,577000,578000,579000,580000,581000,582000,583000,584000,585000,586000,587000,588000,589000,590000,591000,592000,593000,594000,595000,596000,597000,598000,599000,600000],\"y\":{\"__ndarray__\":\"AAAAAAAA8D8AAAAAAIBUQAAAAAAAUGZAAAAAAAB4a0AAAAAAADxxQAAAAAAA8HFAAAAAAABodEAAAAAAAGB2QAAAAAAA1HhAAAAAAACQe0AAAAAAAGR8QAAAAAAAsH5AAAAAAABGgEAAAAAAAJaAQAAAAAAA/IFAAAAAAADEgkAAAAAAAHiDQAAAAAAAoINAAAAAAADIg0AAAAAAABiEQAAAAAAAJoRAAAAAAAC4hEAAAAAAAPiFQAAAAAAAfoZAAAAAAAAGh0AAAAAAABqHQAAAAAAAGodAAAAAAAAah0AAAAAAAByHQAAAAAAAHIdAAAAAAAAch0AAAAAAACKHQAAAAAAAIodAAAAAAADSh0AAAAAAAGKIQAAAAAAA+ohAAAAAAAAoiUAAAAAAAEiJQAAAAAAAgolAAAAAAACCiUAAAAAAAIKJQAAAAAAAgolAAAAAAAASikAAAAAAADCLQAAAAAAAeIxAAAAAAADUjkAAAAAAAHaPQAAAAAAAn5BAAAAAAAB5kUAAAAAAAJKRQAAAAAAAkpFAAAAAAACSkUAAAAAAAOiRQAAAAAAAHJJAAAAAAABUkkAAAAAAAOuSQAAAAAAAu5NAAAAAAABXlEAAAAAAALWUQAAAAAAAU5VAAAAAAACFlUAAAAAAALWVQAAAAAAAOJZAAAAAAACZlkAAAAAAAKCWQAAAAAAApZZAAAAAAADOlkAAAAAAAM+WQAAAAAAA45ZAAAAAAAADl0AAAAAAAFaXQAAAAAAAjJdAAAAAAADal0AAAAAAAPSXQAAAAAAA/JdAAAAAAAD9l0AAAAAAAP2XQAAAAAAA/ZdAAAAAAAD9l0AAAAAAAP2XQAAAAAAACJhAAAAAAABbmEAAAAAAAISYQAAAAAAAnZhAAAAAAAClmEAAAAAAAKaYQAAAAAAAp5hAAAAAAACqmEAAAAAAAPCYQAAAAAAANJlAAAAAAABKmUAAAAAAAFmZQAAAAAAAWZlAAAAAAABZmUAAAAAAAFmZQAAAAAAAhplAAAAAAAD7mUAAAAAAAAaaQAAAAAAAFZpAAAAAAAAVmkAAAAAAABWaQAAAAAAAFZpAAAAAAAAWmkAAAAAAABaaQAAAAAAAGJpAAAAAAAAYmkAAAAAAAFyaQAAAAAAAYppAAAAAAABjmkAAAAAAALWaQAAAAAAAHptAAAAAAAAfm0AAAAAAAB+bQAAAAAAAH5tAAAAAAAAfm0AAAAAAAB+bQAAAAAAAIptAAAAAAABUm0AAAAAAAJCbQAAAAAAAvZtAAAAAAADIm0AAAAAAAMibQAAAAAAAyJtAAAAAAADNm0AAAAAAANibQAAAAAAA65tAAAAAAADrm0AAAAAAAPSbQAAAAAAA+ZtAAAAAAAAMnEAAAAAAAKmcQAAAAAAAH51AAAAAAAAqnUAAAAAAAC6dQAAAAAAARp1AAAAAAABPnUAAAAAAAGSdQAAAAAAAZZ1AAAAAAABlnUAAAAAAAH2dQAAAAAAAfZ1AAAAAAADMnUAAAAAAAEWeQAAAAAAAV55AAAAAAABknkAAAAAAAPeeQAAAAAAAFZ9AAAAAAAApn0AAAAAAACmfQAAAAAAANZ9AAAAAAAA1n0AAAAAAADWfQAAAAAAANZ9AAAAAAAA6n0AAAAAAAE6fQAAAAAAAUp9AAAAAAABWn0AAAAAAAG2fQAAAAAAAbZ9AAAAAAACsn0AAAAAAAKyfQAAAAAAArZ9AAAAAAADKn0AAAAAAAPWfQAAAAAAA9Z9AAAAAAAD+n0AAAAAAgAKgQAAAAAAANKBAAAAAAABRoEAAAAAAAFagQAAAAAAAV6BAAAAAAIBXoEAAAAAAgFegQAAAAACAV6BAAAAAAIBXoEAAAAAAgFigQAAAAACAWaBAAAAAAIBZoEAAAAAAgFmgQAAAAACAfaBAAAAAAIB9oEAAAAAAgIGgQAAAAAAAgqBAAAAAAACCoEAAAAAAAIKgQAAAAAAAgqBAAAAAAICdoEAAAAAAAKCgQAAAAAAAoKBAAAAAAICroEAAAAAAAK+gQAAAAACAuaBAAAAAAADCoEAAAAAAAMigQAAAAAAA+aBAAAAAAAD7oEAAAAAAgP2gQAAAAACA/aBAAAAAAID9oEAAAAAAgP2gQAAAAACA/aBAAAAAAID9oEAAAAAAgP2gQAAAAACA/aBAAAAAAID9oEAAAAAAgAahQAAAAAAARaFAAAAAAABFoUAAAAAAAEWhQAAAAAAARaFAAAAAAABFoUAAAAAAAEWhQAAAAAAARaFAAAAAAABGoUAAAAAAAGKhQAAAAACAZ6FAAAAAAABooUAAAAAAAG6hQAAAAAAAbqFAAAAAAABuoUAAAAAAAHChQAAAAACAcKFAAAAAAIBwoUAAAAAAgHChQAAAAACAcKFAAAAAAIBwoUAAAAAAAHGhQAAAAACAcaFAAAAAAIBxoUAAAAAAgHGhQAAAAACAcaFAAAAAAACPoUAAAAAAAJGhQAAAAACAkaFAAAAAAICRoUAAAAAAgJGhQAAAAACAkqFAAAAAAICToUAAAAAAAJahQAAAAAAAlqFAAAAAAACWoUAAAAAAAJahQAAAAAAAlqFAAAAAAACWoUAAAAAAgJehQAAAAACAl6FAAAAAAICXoUAAAAAAAJmhQAAAAACAsaFAAAAAAIC2oUAAAAAAALehQAAAAACAvqFAAAAAAIC+oUAAAAAAgL6hQAAAAACAvqFAAAAAAIC+oUAAAAAAgL6hQAAAAACAvqFAAAAAAIC+oUAAAAAAgL6hQAAAAACAvqFAAAAAAIC+oUAAAAAAgL6hQAAAAACAvqFAAAAAAIC+oUAAAAAAgL6hQAAAAACAvqFAAAAAAIC+oUAAAAAAgMWhQAAAAAAAz6FAAAAAAADQoUAAAAAAANChQAAAAAAA0KFAAAAAAADQoUAAAAAAANChQAAAAACA0aFAAAAAAADWoUAAAAAAANahQAAAAAAA1qFAAAAAAADWoUAAAAAAANahQAAAAACA56FAAAAAAADxoUAAAAAAgPyhQAAAAACACKJAAAAAAAAKokAAAAAAABGiQAAAAAAAFqJAAAAAAIAdokAAAAAAACmiQAAAAAAALKJAAAAAAAAuokAAAAAAgDiiQAAAAACAOKJAAAAAAIA5okAAAAAAgDmiQAAAAACAOaJAAAAAAIA5okAAAAAAgDmiQAAAAACAOaJAAAAAAIA6okAAAAAAgDqiQAAAAACAOqJAAAAAAIA6okAAAAAAgDqiQAAAAACAOqJAAAAAAAA7okAAAAAAgDyiQAAAAACARqJAAAAAAIBGokAAAAAAgEaiQAAAAACARqJAAAAAAIBGokAAAAAAgEaiQAAAAACARqJAAAAAAIBGokAAAAAAgE6iQAAAAACATqJAAAAAAIBRokAAAAAAgFOiQAAAAACAYKJAAAAAAAB6okAAAAAAgH+iQAAAAACAf6JAAAAAAACCokAAAAAAgKiiQAAAAACAsKJAAAAAAAC4okAAAAAAgNyiQAAAAAAADqNAAAAAAIAno0AAAAAAAFGjQAAAAACAZ6NAAAAAAACeo0AAAAAAgL+jQAAAAACAyaNAAAAAAADUo0AAAAAAAOOjQAAAAAAA46NAAAAAAIDlo0AAAAAAgO2jQAAAAACA7aNAAAAAAIDuo0AAAAAAAO+jQAAAAAAA76NAAAAAAADvo0AAAAAAAO+jQAAAAAAA76NAAAAAAADvo0AAAAAAAO+jQAAAAAAA76NAAAAAAADvo0AAAAAAAPOjQAAAAACAFqRAAAAAAAAupEAAAAAAAF6kQAAAAAAAfaRAAAAAAIB/pEAAAAAAAIKkQAAAAAAAh6RAAAAAAACMpEAAAAAAAIykQAAAAACAqqRAAAAAAAC2pEAAAAAAgL2kQAAAAACAwKRAAAAAAIDApEAAAAAAgMCkQAAAAAAAwqRAAAAAAADCpEAAAAAAAMKkQAAAAACAwqRAAAAAAIDFpEAAAAAAgMekQAAAAAAAyaRAAAAAAIDSpEAAAAAAgNKkQAAAAAAA1KRAAAAAAADUpEAAAAAAANSkQAAAAAAA1KRAAAAAAIDXpEAAAAAAgAKlQAAAAAAAFKVAAAAAAAA3pUAAAAAAgGilQAAAAAAAbaVAAAAAAABvpUAAAAAAgHOlQAAAAACAdqVAAAAAAIB2pUAAAAAAgHalQAAAAAAAeaVAAAAAAAB5pUAAAAAAAHmlQAAAAAAAeaVAAAAAAAB5pUAAAAAAAHmlQAAAAAAAeaVAAAAAAAB5pUAAAAAAAHmlQAAAAACAeaVAAAAAAIB7pUAAAAAAAJ+lQAAAAAAApKVAAAAAAACkpUAAAAAAALGlQAAAAAAAtKVAAAAAAAC0pUAAAAAAgMClQAAAAAAAwqVAAAAAAADCpUAAAAAAAMKlQAAAAAAAwqVAAAAAAIDCpUAAAAAAgMKlQAAAAAAAw6VAAAAAAADEpUAAAAAAAMSlQAAAAAAAxKVAAAAAAADEpUAAAAAAAMSlQAAAAACAxaVAAAAAAAAEpkAAAAAAAB6mQAAAAAAAHqZAAAAAAAAepkAAAAAAAB6mQAAAAACAI6ZAAAAAAIAjpkAAAAAAgCOmQAAAAACAI6ZAAAAAAIAjpkAAAAAAACamQAAAAAAANqZAAAAAAIBMpkAAAAAAAFumQAAAAAAAXaZAAAAAAACRpkAAAAAAgJ6mQAAAAAAApaZAAAAAAIClpkAAAAAAgKWmQAAAAACApaZAAAAAAIClpkAAAAAAgKWmQAAAAACAp6ZAAAAAAICnpkAAAAAAgKemQAAAAACAp6ZAAAAAAICnpkAAAAAAgKemQAAAAAAAqaZAAAAAAICqpkAAAAAAgKqmQAAAAACAqqZAAAAAAICqpkAAAAAAgKqmQAAAAAAAr6ZAAAAAAACvpkAAAAAAgLemQAAAAACAt6ZAAAAAAIC3pkAAAAAAgLemQAAAAACAt6ZAAAAAAIC3pkAAAAAAgLemQAAAAACAt6ZAAAAAAIC3pkAAAAAAgLemQAAAAACAt6ZAAAAAAIC3pkAAAAAAgLemQAAAAACAt6ZAAAAAAIC3pkAAAAAAgLemQAAAAACAt6ZAAAAAAIC3pkAAAAAAgLemQAAAAACAt6ZAAAAAAIC3pkAAAAAAgLemQAAAAACAt6ZAAAAAAIC3pkAAAAAAgLemQAAAAACAt6ZAAAAAAIC3pkAAAAAAgLimQAAAAACAuKZAAAAAAIC4pkAAAAAAgLimQAAAAACAuKZAAAAAAIC4pkAAAAAAgLimQAAAAAAAw6ZAAAAAAIDEpkAAAAAAgMSmQAAAAAAAyKZAAAAAAIDPpkAAAAAAgM+mQAAAAACAz6ZAAAAAAIDPpkAAAAAAgM+mQAAAAACAz6ZAAAAAAIDPpkAAAAAAgM+mQAAAAACAz6ZAAAAAAIDPpkAAAAAAgM+mQAAAAACAz6ZAAAAAAADRpkAAAAAAANGmQAAAAACA0qZAAAAAAIDSpkAAAAAAgO6mQAAAAACAFqdAAAAAAIAWp0AAAAAAgBanQAAAAAAAGadAAAAAAAAZp0AAAAAAABmnQAAAAAAAGadAAAAAAAAZp0AAAAAAABmnQAAAAAAAGadAAAAAAAAZp0AAAAAAABmnQAAAAAAAGadAAAAAAAAZp0AAAAAAABmnQAAAAACANqdAAAAAAIA/p0AAAAAAgD+nQAAAAACAQqdAAAAAAIBGp0AAAAAAgEanQAAAAACAWadAAAAAAIBbp0AAAAAAgF2nQAAAAAAAYqdAAAAAAABip0AAAAAAAGKnQAAAAAAAYqdAAAAAAABip0AAAAAAAGKnQAAAAAAAYqdAAAAAAABip0AAAAAAAGKnQAAAAAAAYqdAAAAAAABip0AAAAAAAGKnQAAAAAAAYqdAAAAAAABip0AAAAAAAGKnQAAAAAAAYqdAAAAAAABip0AAAAAAAGKnQAAAAAAAYqdAAAAAAABip0AAAAAAAGKnQAAAAAAAYqdAAAAAAABip0AAAAAAAGKnQAAAAAAAYqdAAAAAAABip0AAAAAAAGKnQAAAAAAAYqdAAAAAAABip0AAAAAAAGKnQAAAAAAAYqdAAAAAAABip0AAAAAAAGKnQAAAAAAAYqdAAAAAAABip0AAAAAAAGKnQAAAAAAAYqdAAAAAAABip0AAAAAAAGKnQAAAAAAAYqdAAAAAAABip0AAAAAAAGKnQAAAAAAAYqdAAAAAAABip0AAAAAAAGKnQAAAAAAAYqdAAAAAAIBjp0AAAAAAgGOnQAAAAACAY6dAAAAAAIBjp0AAAAAAgGOnQAAAAACAY6dAAAAAAIBjp0AAAAAAgGOnQAAAAACAY6dAAAAAAIBjp0AAAAAAgGOnQAAAAACAY6dAAAAAAIBjp0AAAAAAgGOnQAAAAACAY6dA\",\"dtype\":\"float64\",\"shape\":[600]}}},\"id\":\"5c3b27a7-f8ea-4db5-9903-3b80a1015a6e\",\"type\":\"ColumnDataSource\"},{\"attributes\":{\"data_source\":{\"id\":\"640a89b0-67d9-4583-ade7-015e7a849784\",\"type\":\"ColumnDataSource\"},\"glyph\":{\"id\":\"24682820-de9e-4810-88c7-5794909a1eac\",\"type\":\"Patch\"},\"hover_glyph\":null,\"nonselection_glyph\":{\"id\":\"ccd8cb4e-a929-4e63-8066-add496c42d4a\",\"type\":\"Patch\"},\"selection_glyph\":null},\"id\":\"9cd73b43-052c-49fd-9109-8265338705ea\",\"type\":\"GlyphRenderer\"},{\"attributes\":{\"plot\":{\"id\":\"39a43dd3-8ec3-4208-bdf1-0a97068a9dee\",\"subtype\":\"Figure\",\"type\":\"Plot\"}},\"id\":\"9d2fb328-01d4-42b1-a97f-c38b8b5ac81a\",\"type\":\"ResetTool\"},{\"attributes\":{\"fill_alpha\":{\"value\":0.1},\"fill_color\":{\"value\":\"#1f77b4\"},\"line_alpha\":{\"value\":0.1},\"line_color\":{\"value\":\"#1f77b4\"},\"x\":{\"field\":\"x\"},\"y\":{\"field\":\"y\"}},\"id\":\"44a5d8f4-2263-4094-9f7c-cc6bc9372124\",\"type\":\"Patch\"},{\"attributes\":{\"line_color\":{\"value\":\"#e41a1c\"},\"line_width\":{\"value\":2},\"x\":{\"field\":\"x\"},\"y\":{\"field\":\"y\"}},\"id\":\"31449bf5-e129-4400-91d4-ae57355c8650\",\"type\":\"Line\"},{\"attributes\":{\"fill_alpha\":{\"value\":0.1},\"fill_color\":{\"value\":\"#377eb8\"},\"line_alpha\":{\"value\":0.1},\"line_color\":{\"value\":\"#377eb8\"},\"x\":{\"field\":\"x\"},\"y\":{\"field\":\"y\"}},\"id\":\"4457c581-eb3a-4c0a-8d59-9f7e448a235b\",\"type\":\"Patch\"},{\"attributes\":{\"fill_alpha\":{\"value\":0.1},\"fill_color\":{\"value\":\"#ffff33\"},\"line_alpha\":{\"value\":0.1},\"line_color\":{\"value\":\"#ffff33\"},\"x\":{\"field\":\"x\"},\"y\":{\"field\":\"y\"}},\"id\":\"40ea5381-6b4a-4bd6-a706-5f39ebf49be3\",\"type\":\"Patch\"},{\"attributes\":{\"plot\":{\"id\":\"39a43dd3-8ec3-4208-bdf1-0a97068a9dee\",\"subtype\":\"Figure\",\"type\":\"Plot\"}},\"id\":\"227e0ff1-c17e-4fe6-8bcf-fcbcb6605937\",\"type\":\"WheelZoomTool\"},{\"attributes\":{\"label\":{\"value\":\"0.1 Alpha 16 NScaler Epsilon\"},\"renderers\":[{\"id\":\"54c41fba-f0ed-4424-bbe8-93731c815746\",\"type\":\"GlyphRenderer\"}]},\"id\":\"a7290044-de0f-4a49-a7fc-ee7b12f4bbcc\",\"type\":\"LegendItem\"},{\"attributes\":{\"data_source\":{\"id\":\"474af51d-4a60-4c2f-b6bd-1f1e9fcfd6e7\",\"type\":\"ColumnDataSource\"},\"glyph\":{\"id\":\"fbe6214b-d1cb-415e-ae86-e2a4269b2b4e\",\"type\":\"Line\"},\"hover_glyph\":null,\"nonselection_glyph\":{\"id\":\"5fd7dc2e-668f-4ab5-8aee-cd735eb09367\",\"type\":\"Line\"},\"selection_glyph\":null},\"id\":\"bd0b157e-1f72-43d3-bbe0-ac5cb9a247a3\",\"type\":\"GlyphRenderer\"},{\"attributes\":{\"plot\":{\"id\":\"39a43dd3-8ec3-4208-bdf1-0a97068a9dee\",\"subtype\":\"Figure\",\"type\":\"Plot\"}},\"id\":\"17465f25-d466-43de-bf6e-212b4ab6723b\",\"type\":\"HelpTool\"},{\"attributes\":{\"fill_alpha\":{\"value\":0.1},\"fill_color\":{\"value\":\"#e41a1c\"},\"line_alpha\":{\"value\":0.1},\"line_color\":{\"value\":\"#e41a1c\"},\"x\":{\"field\":\"x\"},\"y\":{\"field\":\"y\"}},\"id\":\"6e532701-1c7c-485b-824f-34316d87960a\",\"type\":\"Patch\"},{\"attributes\":{\"line_alpha\":{\"value\":0.1},\"line_color\":{\"value\":\"#1f77b4\"},\"line_width\":{\"value\":2},\"x\":{\"field\":\"x\"},\"y\":{\"field\":\"y\"}},\"id\":\"5fd7dc2e-668f-4ab5-8aee-cd735eb09367\",\"type\":\"Line\"},{\"attributes\":{\"callback\":null,\"column_names\":[\"x\",\"y\"],\"data\":{\"x\":[0,1000,2000,3000,4000,5000,6000,7000,8000,9000,10000,11000,12000,13000,14000,15000,16000,17000,18000,19000,20000,21000,22000,23000,24000,25000,26000,27000,28000,29000,30000,31000,32000,33000,34000,35000,36000,37000,38000,39000,40000,41000,42000,43000,44000,45000,46000,47000,48000,49000,50000,51000,52000,53000,54000,55000,56000,57000,58000,59000,60000,61000,62000,63000,64000,65000,66000,67000,68000,69000,70000,71000,72000,73000,74000,75000,76000,77000,78000,79000,80000,81000,82000,83000,84000,85000,86000,87000,88000,89000,90000,91000,92000,93000,94000,95000,96000,97000,98000,99000,100000,101000,102000,103000,104000,105000,106000,107000,108000,109000,110000,111000,112000,113000,114000,115000,116000,117000,118000,119000,120000,121000,122000,123000,124000,125000,126000,127000,128000,129000,130000,131000,132000,133000,134000,135000,136000,137000,138000,139000,140000,141000,142000,143000,144000,145000,146000,147000,148000,149000,150000,151000,152000,153000,154000,155000,156000,157000,158000,159000,160000,161000,162000,163000,164000,165000,166000,167000,168000,169000,170000,171000,172000,173000,174000,175000,176000,177000,178000,179000,180000,181000,182000,183000,184000,185000,186000,187000,188000,189000,190000,191000,192000,193000,194000,195000,196000,197000,198000,199000,200000,201000,202000,203000,204000,205000,206000,207000,208000,209000,210000,211000,212000,213000,214000,215000,216000,217000,218000,219000,220000,221000,222000,223000,224000,225000,226000,227000,228000,229000,230000,231000,232000,233000,234000,235000,236000,237000,238000,239000,240000,241000,242000,243000,244000,245000,246000,247000,248000,249000,250000,251000,252000,253000,254000,255000,256000,257000,258000,259000,260000,261000,262000,263000,264000,265000,266000,267000,268000,269000,270000,271000,272000,273000,274000,275000,276000,277000,278000,279000,280000,281000,282000,283000,284000,285000,286000,287000,288000,289000,290000,291000,292000,293000,294000,295000,296000,297000,298000,299000,300000,301000,302000,303000,304000,305000,306000,307000,308000,309000,310000,311000,312000,313000,314000,315000,316000,317000,318000,319000,320000,321000,322000,323000,324000,325000,326000,327000,328000,329000,330000,331000,332000,333000,334000,335000,336000,337000,338000,339000,340000,341000,342000,343000,344000,345000,346000,347000,348000,349000,350000,351000,352000,353000,354000,355000,356000,357000,358000,359000,360000,361000,362000,363000,364000,365000,366000,367000,368000,369000,370000,371000,372000,373000,374000,375000,376000,377000,378000,379000,380000,381000,382000,383000,384000,385000,386000,387000,388000,389000,390000,391000,392000,393000,394000,395000,396000,397000,398000,399000,400000,401000,402000,403000,404000,405000,406000,407000,408000,409000,410000,411000,412000,413000,414000,415000,416000,417000,418000,419000,420000,421000,422000,423000,424000,425000,426000,427000,428000,429000,430000,431000,432000,433000,434000,435000,436000,437000,438000,439000,440000,441000,442000,443000,444000,445000,446000,447000,448000,449000,450000,451000,452000,453000,454000,455000,456000,457000,458000,459000,460000,461000,462000,463000,464000,465000,466000,467000,468000,469000,470000,471000,472000,473000,474000,475000,476000,477000,478000,479000,480000,481000,482000,483000,484000,485000,486000,487000,488000,489000,490000,491000,492000,493000,494000,495000,496000,497000,498000,499000,500000,501000,502000,503000,504000,505000,506000,507000,508000,509000,510000,511000,512000,513000,514000,515000,516000,517000,518000,519000,520000,521000,522000,523000,524000,525000,526000,527000,528000,529000,530000,531000,532000,533000,534000,535000,536000,537000,538000,539000,540000,541000,542000,543000,544000,545000,546000,547000,548000,549000,550000,551000,552000,553000,554000,555000,556000,557000,558000,559000,560000,561000,562000,563000,564000,565000,566000,567000,568000,569000,570000,571000,572000,573000,574000,575000,576000,577000,578000,579000,580000,581000,582000,583000,584000,585000,586000,587000,588000,589000,590000,591000,592000,593000,594000,595000,596000,597000,598000,599000,600000],\"y\":{\"__ndarray__\":\"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\",\"dtype\":\"float64\",\"shape\":[600]}}},\"id\":\"e43e9553-60ee-4321-8da8-e117b344d5df\",\"type\":\"ColumnDataSource\"},{\"attributes\":{\"callback\":null,\"column_names\":[\"x\",\"y\"],\"data\":{\"x\":[0,1000,2000,3000,4000,5000,6000,7000,8000,9000,10000,11000,12000,13000,14000,15000,16000,17000,18000,19000,20000,21000,22000,23000,24000,25000,26000,27000,28000,29000,30000,31000,32000,33000,34000,35000,36000,37000,38000,39000,40000,41000,42000,43000,44000,45000,46000,47000,48000,49000,50000,51000,52000,53000,54000,55000,56000,57000,58000,59000,60000,61000,62000,63000,64000,65000,66000,67000,68000,69000,70000,71000,72000,73000,74000,75000,76000,77000,78000,79000,80000,81000,82000,83000,84000,85000,86000,87000,88000,89000,90000,91000,92000,93000,94000,95000,96000,97000,98000,99000,100000,101000,102000,103000,104000,105000,106000,107000,108000,109000,110000,111000,112000,113000,114000,115000,116000,117000,118000,119000,120000,121000,122000,123000,124000,125000,126000,127000,128000,129000,130000,131000,132000,133000,134000,135000,136000,137000,138000,139000,140000,141000,142000,143000,144000,145000,146000,147000,148000,149000,150000,151000,152000,153000,154000,155000,156000,157000,158000,159000,160000,161000,162000,163000,164000,165000,166000,167000,168000,169000,170000,171000,172000,173000,174000,175000,176000,177000,178000,179000,180000,181000,182000,183000,184000,185000,186000,187000,188000,189000,190000,191000,192000,193000,194000,195000,196000,197000,198000,199000,200000,201000,202000,203000,204000,205000,206000,207000,208000,209000,210000,211000,212000,213000,214000,215000,216000,217000,218000,219000,220000,221000,222000,223000,224000,225000,226000,227000,228000,229000,230000,231000,232000,233000,234000,235000,236000,237000,238000,239000,240000,241000,242000,243000,244000,245000,246000,247000,248000,249000,250000,251000,252000,253000,254000,255000,256000,257000,258000,259000,260000,261000,262000,263000,264000,265000,266000,267000,268000,269000,270000,271000,272000,273000,274000,275000,276000,277000,278000,279000,280000,281000,282000,283000,284000,285000,286000,287000,288000,289000,290000,291000,292000,293000,294000,295000,296000,297000,298000,299000,300000,301000,302000,303000,304000,305000,306000,307000,308000,309000,310000,311000,312000,313000,314000,315000,316000,317000,318000,319000,320000,321000,322000,323000,324000,325000,326000,327000,328000,329000,330000,331000,332000,333000,334000,335000,336000,337000,338000,339000,340000,341000,342000,343000,344000,345000,346000,347000,348000,349000,350000,351000,352000,353000,354000,355000,356000,357000,358000,359000,360000,361000,362000,363000,364000,365000,366000,367000,368000,369000,370000,371000,372000,373000,374000,375000,376000,377000,378000,379000,380000,381000,382000,383000,384000,385000,386000,387000,388000,389000,390000,391000,392000,393000,394000,395000,396000,397000,398000,399000,400000,401000,402000,403000,404000,405000,406000,407000,408000,409000,410000,411000,412000,413000,414000,415000,416000,417000,418000,419000,420000,421000,422000,423000,424000,425000,426000,427000,428000,429000,430000,431000,432000,433000,434000,435000,436000,437000,438000,439000,440000,441000,442000,443000,444000,445000,446000,447000,448000,449000,450000,451000,452000,453000,454000,455000,456000,457000,458000,459000,460000,461000,462000,463000,464000,465000,466000,467000,468000,469000,470000,471000,472000,473000,474000,475000,476000,477000,478000,479000,480000,481000,482000,483000,484000,485000,486000,487000,488000,489000,490000,491000,492000,493000,494000,495000,496000,497000,498000,499000,500000,501000,502000,503000,504000,505000,506000,507000,508000,509000,510000,511000,512000,513000,514000,515000,516000,517000,518000,519000,520000,521000,522000,523000,524000,525000,526000,527000,528000,529000,530000,531000,532000,533000,534000,535000,536000,537000,538000,539000,540000,541000,542000,543000,544000,545000,546000,547000,548000,549000,550000,551000,552000,553000,554000,555000,556000,557000,558000,559000,560000,561000,562000,563000,564000,565000,566000,567000,568000,569000,570000,571000,572000,573000,574000,575000,576000,577000,578000,579000,580000,581000,582000,583000,584000,585000,586000,587000,588000,589000,590000,591000,592000,593000,594000,595000,596000,597000,598000,599000,600000,600000,599000,598000,597000,596000,595000,594000,593000,592000,591000,590000,589000,588000,587000,586000,585000,584000,583000,582000,581000,580000,579000,578000,577000,576000,575000,574000,573000,572000,571000,570000,569000,568000,567000,566000,565000,564000,563000,562000,561000,560000,559000,558000,557000,556000,555000,554000,553000,552000,551000,550000,549000,548000,547000,546000,545000,544000,543000,542000,541000,540000,539000,538000,537000,536000,535000,534000,533000,532000,531000,530000,529000,528000,527000,526000,525000,524000,523000,522000,521000,520000,519000,518000,517000,516000,515000,514000,513000,512000,511000,510000,509000,508000,507000,506000,505000,504000,503000,502000,501000,500000,499000,498000,497000,496000,495000,494000,493000,492000,491000,490000,489000,488000,487000,486000,485000,484000,483000,482000,481000,480000,479000,478000,477000,476000,475000,474000,473000,472000,471000,470000,469000,468000,467000,466000,465000,464000,463000,462000,461000,460000,459000,458000,457000,456000,455000,454000,453000,452000,451000,450000,449000,448000,447000,446000,445000,444000,443000,442000,441000,440000,439000,438000,437000,436000,435000,434000,433000,432000,431000,430000,429000,428000,427000,426000,425000,424000,423000,422000,421000,420000,419000,418000,417000,416000,415000,414000,413000,412000,411000,410000,409000,408000,407000,406000,405000,404000,403000,402000,401000,400000,399000,398000,397000,396000,395000,394000,393000,392000,391000,390000,389000,388000,387000,386000,385000,384000,383000,382000,381000,380000,379000,378000,377000,376000,375000,374000,373000,372000,371000,370000,369000,368000,367000,366000,365000,364000,363000,362000,361000,360000,359000,358000,357000,356000,355000,354000,353000,352000,351000,350000,349000,348000,347000,346000,345000,344000,343000,342000,341000,340000,339000,338000,337000,336000,335000,334000,333000,332000,331000,330000,329000,328000,327000,326000,325000,324000,323000,322000,321000,320000,319000,318000,317000,316000,315000,314000,313000,312000,311000,310000,309000,308000,307000,306000,305000,304000,303000,302000,301000,300000,299000,298000,297000,296000,295000,294000,293000,292000,291000,290000,289000,288000,287000,286000,285000,284000,283000,282000,281000,280000,279000,278000,277000,276000,275000,274000,273000,272000,271000,270000,269000,268000,267000,266000,265000,264000,263000,262000,261000,260000,259000,258000,257000,256000,255000,254000,253000,252000,251000,250000,249000,248000,247000,246000,245000,244000,243000,242000,241000,240000,239000,238000,237000,236000,235000,234000,233000,232000,231000,230000,229000,228000,227000,226000,225000,224000,223000,222000,221000,220000,219000,218000,217000,216000,215000,214000,213000,212000,211000,210000,209000,208000,207000,206000,205000,204000,203000,202000,201000,200000,199000,198000,197000,196000,195000,194000,193000,192000,191000,190000,189000,188000,187000,186000,185000,184000,183000,182000,181000,180000,179000,178000,177000,176000,175000,174000,173000,172000,171000,170000,169000,168000,167000,166000,165000,164000,163000,162000,161000,160000,159000,158000,157000,156000,155000,154000,153000,152000,151000,150000,149000,148000,147000,146000,145000,144000,143000,142000,141000,140000,139000,138000,137000,136000,135000,134000,133000,132000,131000,130000,129000,128000,127000,126000,125000,124000,123000,122000,121000,120000,119000,118000,117000,116000,115000,114000,113000,112000,111000,110000,109000,108000,107000,106000,105000,104000,103000,102000,101000,100000,99000,98000,97000,96000,95000,94000,93000,92000,91000,90000,89000,88000,87000,86000,85000,84000,83000,82000,81000,80000,79000,78000,77000,76000,75000,74000,73000,72000,71000,70000,69000,68000,67000,66000,65000,64000,63000,62000,61000,60000,59000,58000,57000,56000,55000,54000,53000,52000,51000,50000,49000,48000,47000,46000,45000,44000,43000,42000,41000,40000,39000,38000,37000,36000,35000,34000,33000,32000,31000,30000,29000,28000,27000,26000,25000,24000,23000,22000,21000,20000,19000,18000,17000,16000,15000,14000,13000,12000,11000,10000,9000,8000,7000,6000,5000,4000,3000,2000,1000,0],\"y\":[1,59,93,205,218,229,249,249,249,249,249,343,383,492,507,507,507,507,507,507,507,507,507,507,507,507,507,507,507,507,507,507,507,513,561,562,562,562,562,562,562,562,562,562,562,567,567,567,567,567,567,567,567,567,567,567,567,567,567,567,567,567,567,567,567,568,568,568,568,568,568,575,575,575,575,575,575,575,594,594,594,594,594,594,594,594,594,594,594,594,594,594,594,594,594,594,594,594,594,594,594,594,594,594,594,594,594,594,594,594,594,594,594,611,611,611,611,611,611,611,611,611,611,611,611,611,611,611,611,611,611,611,611,611,611,611,611,611,611,611,611,611,611,614,619,619,619,624,624,624,624,624,624,624,624,624,635,635,652,680,680,680,680,680,680,680,680,680,680,680,680,694,694,694,694,694,694,694,694,694,694,694,694,694,694,694,708,713,719,724,724,729,734,743,746,754,770,771,774,781,782,850,857,857,857,861,863,863,869,880,887,904,916,917,921,921,921,922,924,928,932,980,980,982,987,992,1004,1008,1012,1013,1013,1026,1027,1059,1142,1174,1186,1192,1228,1256,1291,1294,1294,1294,1294,1294,1294,1294,1294,1366,1366,1378,1389,1390,1390,1392,1421,1452,1579,1651,1747,1764,1766,1790,1791,1794,1800,1805,1805,1805,1805,1805,1805,1806,1806,1806,1806,1862,1901,1940,1940,1940,1940,1940,1940,1940,1940,1940,1940,1940,1940,1940,1940,1940,1940,1940,1940,1940,1940,1940,1940,1940,1940,1940,1940,1940,1940,1940,1940,1940,1940,1940,1940,1940,1940,1940,1940,1940,1940,1940,1940,1945,1945,1945,1945,1945,1945,1945,1945,1945,1945,1945,1945,1945,1945,1945,1945,1945,1945,1945,1945,1945,1945,1945,1945,1945,1957,1960,1960,1960,1960,1960,1960,1960,1960,1960,1960,1960,1960,1960,1960,1960,1960,1960,1960,1960,1960,1960,1960,1960,1960,1997,2017,2027,2065,2069,2069,2069,2069,2069,2069,2069,2069,2069,2071,2071,2071,2071,2071,2071,2078,2078,2078,2078,2078,2078,2078,2078,2078,2078,2078,2078,2078,2078,2078,2078,2078,2078,2078,2078,2078,2078,2078,2078,2078,2078,2078,2078,2078,2078,2078,2078,2078,2078,2078,2078,2078,2078,2078,2078,2078,2078,2078,2078,2078,2078,2078,2078,2078,2078,2078,2078,2078,2078,2078,2078,2078,2078,2078,2078,2078,2078,2078,2078,2078,2078,2078,2078,2078,2078,2078,2078,2078,2078,2078,2078,2078,2078,2078,2078,2078,2078,2078,2078,2081,2081,2081,2081,2081,2081,2081,2081,2081,2081,2081,2081,2081,2081,2081,2081,2081,2081,2081,2081,2081,2081,2081,2082,2082,2082,2082,2082,2082,2082,2082,2082,2082,2082,2082,2082,2082,2082,2082,2082,2082,2082,2082,2082,2082,2082,2082,2082,2082,2082,2082,2082,2082,2082,2082,2082,2082,2082,2082,2082,2082,2082,2082,2082,2082,2082,2082,2082,2082,2082,2082,2082,2082,2082,2082,2082,2082,2082,2082,2082,2082,2082,2082,2082,2082,2082,2082,2082,2082,2082,2082,2082,2082,2082,2082,2082,2082,2082,2082,2082,2082,2082,2082,2082,2082,2082,2082,2082,2082,2082,2082,2082,2082,2082,2082,2082,2082,2082,2082,2082,2082,2082,2082,2082,2082,2082,3781,3781,3781,3781,3781,3781,3781,3781,3781,3781,3781,3781,3781,3781,3781,3781,3781,3781,3781,3781,3781,3781,3781,3781,3781,3781,3781,3781,3781,3781,3781,3781,3781,3781,3781,3781,3781,3781,3781,3781,3781,3781,3781,3781,3781,3781,3781,3781,3781,3781,3781,3781,3781,3781,3781,3781,3781,3781,3781,3781,3781,3781,3781,3781,3781,3781,3781,3781,3781,3781,3781,3781,3781,3781,3781,3781,3781,3781,3781,3781,3781,3781,3781,3781,3781,3781,3781,3781,3781,3781,3781,3781,3781,3781,3781,3781,3781,3781,3781,3781,3781,3781,3781,3781,3781,3781,3781,3781,3781,3781,3781,3781,3781,3781,3781,3781,3781,3781,3781,3781,3781,3781,3781,3781,3781,3781,3781,3781,3781,3781,3781,3781,3781,3781,3781,3781,3781,3781,3781,3781,3781,3781,3781,3781,3781,3781,3781,3781,3781,3781,3781,3781,3781,3781,3781,3781,3781,3781,3781,3781,3781,3781,3781,3781,3781,3781,3781,3781,3781,3781,3781,3781,3781,3781,3781,3781,3781,3781,3781,3781,3781,3781,3781,3781,3781,3781,3781,3781,3781,3781,3781,3781,3781,3781,3781,3781,3781,3781,3781,3781,3781,3781,3781,3781,3781,3781,3781,3781,3781,3781,3781,3781,3781,3781,3781,3781,3781,3781,3781,3781,3781,3781,3781,3781,3781,3781,3781,3781,3781,3781,3781,3781,3781,3781,3781,3781,3781,3781,3781,3781,3781,3781,3781,3781,3781,3781,3781,3781,3775,3775,3775,3775,3775,3775,3775,3775,3775,3775,3775,3775,3775,3775,3775,3775,3775,3775,3775,3775,3775,3775,3775,3775,3775,3749,3749,3749,3749,3749,3749,3749,3749,3749,3749,3748,3743,3743,3743,3743,3743,3743,3743,3743,3743,3743,3743,3743,3743,3743,3743,3743,3743,3743,3743,3743,3743,3743,3743,3743,3743,3742,3742,3742,3742,3741,3741,3741,3741,3741,3741,3741,3735,3735,3735,3735,3735,3729,3724,3713,3713,3713,3713,3673,3611,3611,3611,3611,3609,3607,3589,3508,3447,3400,3394,3386,3298,3249,3176,3176,3176,3176,3176,3176,3176,3176,3176,3176,3176,3176,3176,3176,3176,3176,3176,3174,3174,3174,3174,3174,3174,3174,3173,3171,3171,3168,3168,3168,3168,3168,3168,3160,3132,3132,3132,3129,3123,3123,3123,3123,3123,3123,3123,3123,3123,3123,3123,3123,3123,3123,3123,3123,3123,3123,3123,3123,3114,3111,3111,3111,3111,3111,3111,3064,3057,3042,3024,2966,2966,2966,2966,2966,2966,2966,2966,2966,2966,2966,2966,2966,2966,2962,2962,2962,2962,2962,2962,2962,2962,2962,2962,2962,2962,2962,2962,2957,2957,2957,2940,2937,2937,2937,2937,2937,2937,2937,2912,2912,2911,2911,2910,2910,2909,2882,2774,2701,2701,2682,2674,2673,2657,2595,2563,2537,2454,2286,2283,2283,2283,2283,2283,2283,2283,2283,2283,2283,2283,2283,2283,2283,2283,2282,2280,2233,2227,2212,2211,2211,2211,2181,2181,2181,2181,2181,2118,2099,2099,2099,2099,2074,2069,2068,2068,2068,2068,2035,1998,1994,1994,1994,1994,1994,1994,1994,1994,1994,1994,1994,1994,1994,1994,1994,1984,1984,1983,1983,1974,1834,1796,1796,1796,1796,1796,1796,1796,1796,1796,1796,1796,1796,1796,1796,1796,1796,1796,1796,1789,1713,1654,1590,1590,1590,1590,1549,1488,1488,1477,1467,1357,1294,1223,1210,1209,1209,1207,1207,1207,1207,1207,1168,1155,1140,1053,1008,935,855,819,736,731,703,703,679,638,545,499,477,389,285,216,172,70,1]}},\"id\":\"0c8a0757-3d23-4f7a-8738-c3dde92ee99f\",\"type\":\"ColumnDataSource\"},{\"attributes\":{\"label\":{\"value\":\"0.5 Alpha 16 NScaler 0.1 Bandit\"},\"renderers\":[{\"id\":\"7bfb58bf-6f07-4bcb-9c1f-9b7a127e45d7\",\"type\":\"GlyphRenderer\"}]},\"id\":\"4d0aca52-2f14-486f-8a53-54d76726b614\",\"type\":\"LegendItem\"},{\"attributes\":{\"data_source\":{\"id\":\"5f0e84af-93c8-4ce1-bd2c-27bb7985e90a\",\"type\":\"ColumnDataSource\"},\"glyph\":{\"id\":\"6e532701-1c7c-485b-824f-34316d87960a\",\"type\":\"Patch\"},\"hover_glyph\":null,\"nonselection_glyph\":{\"id\":\"f0775245-6ab7-4825-a21e-605efcaf9a57\",\"type\":\"Patch\"},\"selection_glyph\":null},\"id\":\"fabd5229-c3ff-4e3d-a35c-b4a94c9429d5\",\"type\":\"GlyphRenderer\"},{\"attributes\":{\"label\":{\"value\":\"0.3 Alpha 16 NScaler Epsilon\"},\"renderers\":[{\"id\":\"8e4a9ec5-68bc-4157-9437-6d2cad4b7d68\",\"type\":\"GlyphRenderer\"}]},\"id\":\"a34ceeac-cf5d-4d4e-b522-edaade0c20a7\",\"type\":\"LegendItem\"},{\"attributes\":{\"fill_alpha\":{\"value\":0.1},\"fill_color\":{\"value\":\"#4daf4a\"},\"line_alpha\":{\"value\":0.1},\"line_color\":{\"value\":\"#4daf4a\"},\"x\":{\"field\":\"x\"},\"y\":{\"field\":\"y\"}},\"id\":\"1afa1467-0b89-4edd-8e6c-16480f9cde67\",\"type\":\"Patch\"},{\"attributes\":{\"label\":{\"value\":\"0.3 Alpha 16 NScaler 0.1 Bandit\"},\"renderers\":[{\"id\":\"3badcb9a-0994-439e-9339-cb96a6796a0d\",\"type\":\"GlyphRenderer\"}]},\"id\":\"0338cf55-c97f-424a-98f9-e6c148d377d3\",\"type\":\"LegendItem\"},{\"attributes\":{\"callback\":null,\"column_names\":[\"x\",\"y\"],\"data\":{\"x\":[0,1000,2000,3000,4000,5000,6000,7000,8000,9000,10000,11000,12000,13000,14000,15000,16000,17000,18000,19000,20000,21000,22000,23000,24000,25000,26000,27000,28000,29000,30000,31000,32000,33000,34000,35000,36000,37000,38000,39000,40000,41000,42000,43000,44000,45000,46000,47000,48000,49000,50000,51000,52000,53000,54000,55000,56000,57000,58000,59000,60000,61000,62000,63000,64000,65000,66000,67000,68000,69000,70000,71000,72000,73000,74000,75000,76000,77000,78000,79000,80000,81000,82000,83000,84000,85000,86000,87000,88000,89000,90000,91000,92000,93000,94000,95000,96000,97000,98000,99000,100000,101000,102000,103000,104000,105000,106000,107000,108000,109000,110000,111000,112000,113000,114000,115000,116000,117000,118000,119000,120000,121000,122000,123000,124000,125000,126000,127000,128000,129000,130000,131000,132000,133000,134000,135000,136000,137000,138000,139000,140000,141000,142000,143000,144000,145000,146000,147000,148000,149000,150000,151000,152000,153000,154000,155000,156000,157000,158000,159000,160000,161000,162000,163000,164000,165000,166000,167000,168000,169000,170000,171000,172000,173000,174000,175000,176000,177000,178000,179000,180000,181000,182000,183000,184000,185000,186000,187000,188000,189000,190000,191000,192000,193000,194000,195000,196000,197000,198000,199000,200000,201000,202000,203000,204000,205000,206000,207000,208000,209000,210000,211000,212000,213000,214000,215000,216000,217000,218000,219000,220000,221000,222000,223000,224000,225000,226000,227000,228000,229000,230000,231000,232000,233000,234000,235000,236000,237000,238000,239000,240000,241000,242000,243000,244000,245000,246000,247000,248000,249000,250000,251000,252000,253000,254000,255000,256000,257000,258000,259000,260000,261000,262000,263000,264000,265000,266000,267000,268000,269000,270000,271000,272000,273000,274000,275000,276000,277000,278000,279000,280000,281000,282000,283000,284000,285000,286000,287000,288000,289000,290000,291000,292000,293000,294000,295000,296000,297000,298000,299000,300000,301000,302000,303000,304000,305000,306000,307000,308000,309000,310000,311000,312000,313000,314000,315000,316000,317000,318000,319000,320000,321000,322000,323000,324000,325000,326000,327000,328000,329000,330000,331000,332000,333000,334000,335000,336000,337000,338000,339000,340000,341000,342000,343000,344000,345000,346000,347000,348000,349000,350000,351000,352000,353000,354000,355000,356000,357000,358000,359000,360000,361000,362000,363000,364000,365000,366000,367000,368000,369000,370000,371000,372000,373000,374000,375000,376000,377000,378000,379000,380000,381000,382000,383000,384000,385000,386000,387000,388000,389000,390000,391000,392000,393000,394000,395000,396000,397000,398000,399000,400000,401000,402000,403000,404000,405000,406000,407000,408000,409000,410000,411000,412000,413000,414000,415000,416000,417000,418000,419000,420000,421000,422000,423000,424000,425000,426000,427000,428000,429000,430000,431000,432000,433000,434000,435000,436000,437000,438000,439000,440000,441000,442000,443000,444000,445000,446000,447000,448000,449000,450000,451000,452000,453000,454000,455000,456000,457000,458000,459000,460000,461000,462000,463000,464000,465000,466000,467000,468000,469000,470000,471000,472000,473000,474000,475000,476000,477000,478000,479000,480000,481000,482000,483000,484000,485000,486000,487000,488000,489000,490000,491000,492000,493000,494000,495000,496000,497000,498000,499000,500000,501000,502000,503000,504000,505000,506000,507000,508000,509000,510000,511000,512000,513000,514000,515000,516000,517000,518000,519000,520000,521000,522000,523000,524000,525000,526000,527000,528000,529000,530000,531000,532000,533000,534000,535000,536000,537000,538000,539000,540000,541000,542000,543000,544000,545000,546000,547000,548000,549000,550000,551000,552000,553000,554000,555000,556000,557000,558000,559000,560000,561000,562000,563000,564000,565000,566000,567000,568000,569000,570000,571000,572000,573000,574000,575000,576000,577000,578000,579000,580000,581000,582000,583000,584000,585000,586000,587000,588000,589000,590000,591000,592000,593000,594000,595000,596000,597000,598000,599000,600000],\"y\":{\"__ndarray__\":\"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\",\"dtype\":\"float64\",\"shape\":[600]}}},\"id\":\"386ae79a-6d5a-432f-a4de-b9066241e7d1\",\"type\":\"ColumnDataSource\"},{\"attributes\":{},\"id\":\"869f2a26-c5e9-495e-bc71-112a3e2602f0\",\"type\":\"BasicTickFormatter\"},{\"attributes\":{\"line_alpha\":{\"value\":0.1},\"line_color\":{\"value\":\"#1f77b4\"},\"line_width\":{\"value\":2},\"x\":{\"field\":\"x\"},\"y\":{\"field\":\"y\"}},\"id\":\"2d01399d-d55f-406d-a328-a76ce6651583\",\"type\":\"Line\"},{\"attributes\":{\"label\":{\"value\":\"0.5 Alpha 16 NScaler Epsilon\"},\"renderers\":[{\"id\":\"bd0b157e-1f72-43d3-bbe0-ac5cb9a247a3\",\"type\":\"GlyphRenderer\"}]},\"id\":\"2755bad8-80f6-4dda-88d5-fc8402bed471\",\"type\":\"LegendItem\"},{\"attributes\":{\"fill_alpha\":{\"value\":0.1},\"fill_color\":{\"value\":\"#1f77b4\"},\"line_alpha\":{\"value\":0.1},\"line_color\":{\"value\":\"#1f77b4\"},\"x\":{\"field\":\"x\"},\"y\":{\"field\":\"y\"}},\"id\":\"f0775245-6ab7-4825-a21e-605efcaf9a57\",\"type\":\"Patch\"},{\"attributes\":{\"callback\":null,\"column_names\":[\"x\",\"y\"],\"data\":{\"x\":[0,1000,2000,3000,4000,5000,6000,7000,8000,9000,10000,11000,12000,13000,14000,15000,16000,17000,18000,19000,20000,21000,22000,23000,24000,25000,26000,27000,28000,29000,30000,31000,32000,33000,34000,35000,36000,37000,38000,39000,40000,41000,42000,43000,44000,45000,46000,47000,48000,49000,50000,51000,52000,53000,54000,55000,56000,57000,58000,59000,60000,61000,62000,63000,64000,65000,66000,67000,68000,69000,70000,71000,72000,73000,74000,75000,76000,77000,78000,79000,80000,81000,82000,83000,84000,85000,86000,87000,88000,89000,90000,91000,92000,93000,94000,95000,96000,97000,98000,99000,100000,101000,102000,103000,104000,105000,106000,107000,108000,109000,110000,111000,112000,113000,114000,115000,116000,117000,118000,119000,120000,121000,122000,123000,124000,125000,126000,127000,128000,129000,130000,131000,132000,133000,134000,135000,136000,137000,138000,139000,140000,141000,142000,143000,144000,145000,146000,147000,148000,149000,150000,151000,152000,153000,154000,155000,156000,157000,158000,159000,160000,161000,162000,163000,164000,165000,166000,167000,168000,169000,170000,171000,172000,173000,174000,175000,176000,177000,178000,179000,180000,181000,182000,183000,184000,185000,186000,187000,188000,189000,190000,191000,192000,193000,194000,195000,196000,197000,198000,199000,200000,201000,202000,203000,204000,205000,206000,207000,208000,209000,210000,211000,212000,213000,214000,215000,216000,217000,218000,219000,220000,221000,222000,223000,224000,225000,226000,227000,228000,229000,230000,231000,232000,233000,234000,235000,236000,237000,238000,239000,240000,241000,242000,243000,244000,245000,246000,247000,248000,249000,250000,251000,252000,253000,254000,255000,256000,257000,258000,259000,260000,261000,262000,263000,264000,265000,266000,267000,268000,269000,270000,271000,272000,273000,274000,275000,276000,277000,278000,279000,280000,281000,282000,283000,284000,285000,286000,287000,288000,289000,290000,291000,292000,293000,294000,295000,296000,297000,298000,299000,300000,301000,302000,303000,304000,305000,306000,307000,308000,309000,310000,311000,312000,313000,314000,315000,316000,317000,318000,319000,320000,321000,322000,323000,324000,325000,326000,327000,328000,329000,330000,331000,332000,333000,334000,335000,336000,337000,338000,339000,340000,341000,342000,343000,344000,345000,346000,347000,348000,349000,350000,351000,352000,353000,354000,355000,356000,357000,358000,359000,360000,361000,362000,363000,364000,365000,366000,367000,368000,369000,370000,371000,372000,373000,374000,375000,376000,377000,378000,379000,380000,381000,382000,383000,384000,385000,386000,387000,388000,389000,390000,391000,392000,393000,394000,395000,396000,397000,398000,399000,400000,401000,402000,403000,404000,405000,406000,407000,408000,409000,410000,411000,412000,413000,414000,415000,416000,417000,418000,419000,420000,421000,422000,423000,424000,425000,426000,427000,428000,429000,430000,431000,432000,433000,434000,435000,436000,437000,438000,439000,440000,441000,442000,443000,444000,445000,446000,447000,448000,449000,450000,451000,452000,453000,454000,455000,456000,457000,458000,459000,460000,461000,462000,463000,464000,465000,466000,467000,468000,469000,470000,471000,472000,473000,474000,475000,476000,477000,478000,479000,480000,481000,482000,483000,484000,485000,486000,487000,488000,489000,490000,491000,492000,493000,494000,495000,496000,497000,498000,499000,500000,501000,502000,503000,504000,505000,506000,507000,508000,509000,510000,511000,512000,513000,514000,515000,516000,517000,518000,519000,520000,521000,522000,523000,524000,525000,526000,527000,528000,529000,530000,531000,532000,533000,534000,535000,536000,537000,538000,539000,540000,541000,542000,543000,544000,545000,546000,547000,548000,549000,550000,551000,552000,553000,554000,555000,556000,557000,558000,559000,560000,561000,562000,563000,564000,565000,566000,567000,568000,569000,570000,571000,572000,573000,574000,575000,576000,577000,578000,579000,580000,581000,582000,583000,584000,585000,586000,587000,588000,589000,590000,591000,592000,593000,594000,595000,596000,597000,598000,599000,600000,600000,599000,598000,597000,596000,595000,594000,593000,592000,591000,590000,589000,588000,587000,586000,585000,584000,583000,582000,581000,580000,579000,578000,577000,576000,575000,574000,573000,572000,571000,570000,569000,568000,567000,566000,565000,564000,563000,562000,561000,560000,559000,558000,557000,556000,555000,554000,553000,552000,551000,550000,549000,548000,547000,546000,545000,544000,543000,542000,541000,540000,539000,538000,537000,536000,535000,534000,533000,532000,531000,530000,529000,528000,527000,526000,525000,524000,523000,522000,521000,520000,519000,518000,517000,516000,515000,514000,513000,512000,511000,510000,509000,508000,507000,506000,505000,504000,503000,502000,501000,500000,499000,498000,497000,496000,495000,494000,493000,492000,491000,490000,489000,488000,487000,486000,485000,484000,483000,482000,481000,480000,479000,478000,477000,476000,475000,474000,473000,472000,471000,470000,469000,468000,467000,466000,465000,464000,463000,462000,461000,460000,459000,458000,457000,456000,455000,454000,453000,452000,451000,450000,449000,448000,447000,446000,445000,444000,443000,442000,441000,440000,439000,438000,437000,436000,435000,434000,433000,432000,431000,430000,429000,428000,427000,426000,425000,424000,423000,422000,421000,420000,419000,418000,417000,416000,415000,414000,413000,412000,411000,410000,409000,408000,407000,406000,405000,404000,403000,402000,401000,400000,399000,398000,397000,396000,395000,394000,393000,392000,391000,390000,389000,388000,387000,386000,385000,384000,383000,382000,381000,380000,379000,378000,377000,376000,375000,374000,373000,372000,371000,370000,369000,368000,367000,366000,365000,364000,363000,362000,361000,360000,359000,358000,357000,356000,355000,354000,353000,352000,351000,350000,349000,348000,347000,346000,345000,344000,343000,342000,341000,340000,339000,338000,337000,336000,335000,334000,333000,332000,331000,330000,329000,328000,327000,326000,325000,324000,323000,322000,321000,320000,319000,318000,317000,316000,315000,314000,313000,312000,311000,310000,309000,308000,307000,306000,305000,304000,303000,302000,301000,300000,299000,298000,297000,296000,295000,294000,293000,292000,291000,290000,289000,288000,287000,286000,285000,284000,283000,282000,281000,280000,279000,278000,277000,276000,275000,274000,273000,272000,271000,270000,269000,268000,267000,266000,265000,264000,263000,262000,261000,260000,259000,258000,257000,256000,255000,254000,253000,252000,251000,250000,249000,248000,247000,246000,245000,244000,243000,242000,241000,240000,239000,238000,237000,236000,235000,234000,233000,232000,231000,230000,229000,228000,227000,226000,225000,224000,223000,222000,221000,220000,219000,218000,217000,216000,215000,214000,213000,212000,211000,210000,209000,208000,207000,206000,205000,204000,203000,202000,201000,200000,199000,198000,197000,196000,195000,194000,193000,192000,191000,190000,189000,188000,187000,186000,185000,184000,183000,182000,181000,180000,179000,178000,177000,176000,175000,174000,173000,172000,171000,170000,169000,168000,167000,166000,165000,164000,163000,162000,161000,160000,159000,158000,157000,156000,155000,154000,153000,152000,151000,150000,149000,148000,147000,146000,145000,144000,143000,142000,141000,140000,139000,138000,137000,136000,135000,134000,133000,132000,131000,130000,129000,128000,127000,126000,125000,124000,123000,122000,121000,120000,119000,118000,117000,116000,115000,114000,113000,112000,111000,110000,109000,108000,107000,106000,105000,104000,103000,102000,101000,100000,99000,98000,97000,96000,95000,94000,93000,92000,91000,90000,89000,88000,87000,86000,85000,84000,83000,82000,81000,80000,79000,78000,77000,76000,75000,74000,73000,72000,71000,70000,69000,68000,67000,66000,65000,64000,63000,62000,61000,60000,59000,58000,57000,56000,55000,54000,53000,52000,51000,50000,49000,48000,47000,46000,45000,44000,43000,42000,41000,40000,39000,38000,37000,36000,35000,34000,33000,32000,31000,30000,29000,28000,27000,26000,25000,24000,23000,22000,21000,20000,19000,18000,17000,16000,15000,14000,13000,12000,11000,10000,9000,8000,7000,6000,5000,4000,3000,2000,1000,0],\"y\":[1,42,122,191,216,221,247,282,290,382,382,382,404,457,457,457,478,478,478,478,478,478,478,478,478,478,478,478,478,478,478,478,478,478,478,478,478,480,480,480,480,480,480,480,480,480,480,480,480,480,480,480,480,480,480,480,480,480,480,480,480,480,480,480,480,480,480,480,480,480,480,480,480,480,480,480,480,480,480,481,481,481,481,481,481,481,481,481,481,481,503,503,503,503,503,503,503,503,503,503,503,503,503,503,503,504,505,518,522,522,523,524,524,524,524,524,524,524,524,524,524,524,524,524,524,524,524,524,524,524,524,524,524,524,524,524,524,524,524,524,524,524,524,524,524,524,524,524,524,524,524,524,524,524,524,524,524,524,524,525,525,525,525,525,525,525,525,525,525,525,525,525,525,525,525,525,525,525,525,525,525,525,525,525,525,525,525,540,564,564,571,571,571,571,571,571,571,571,572,572,572,572,572,581,588,589,595,595,595,595,595,595,595,595,595,595,595,595,595,595,595,595,595,595,595,595,595,595,595,595,595,595,595,595,595,595,595,595,595,595,595,595,595,595,595,595,595,595,595,595,595,595,595,595,595,595,595,595,595,595,595,595,598,598,598,598,605,605,605,605,605,605,605,605,605,605,605,605,605,605,605,605,605,605,605,605,605,605,605,605,605,605,605,605,605,605,605,605,605,605,605,605,605,605,605,605,605,605,605,605,605,605,605,605,605,605,605,605,606,606,606,606,606,606,606,606,606,606,611,723,739,739,739,739,739,739,742,749,759,765,765,770,770,773,773,773,773,793,803,804,806,806,814,824,834,834,834,834,834,835,837,837,837,837,837,837,837,837,837,837,840,840,840,840,840,861,897,935,1049,1070,1101,1106,1106,1106,1109,1123,1159,1170,1170,1172,1175,1175,1175,1175,1175,1175,1175,1175,1176,1176,1176,1179,1185,1185,1185,1185,1219,1221,1221,1221,1221,1221,1221,1222,1230,1233,1233,1233,1233,1233,1233,1233,1233,1233,1233,1233,1233,1233,1233,1233,1233,1234,1235,1235,1235,1235,1235,1235,1235,1235,1235,1235,1235,1235,1235,1235,1235,1235,1235,1235,1235,1235,1235,1235,1235,1235,1235,1235,1235,1235,1235,1235,1235,1235,1235,1235,1235,1235,1235,1235,1240,1240,1240,1240,1240,1240,1240,1240,1240,1240,1240,1240,1240,1240,1240,1240,1240,1240,1240,1240,1240,1240,1240,1240,1240,1240,1240,1249,1249,1251,1251,1251,1251,1251,1251,1251,1251,1251,1251,1251,1251,1251,1251,1251,1279,1318,1318,1318,1318,1318,1318,1320,1373,1387,1388,1391,1391,1391,1391,1392,1394,1394,1394,1394,1394,1394,1398,1398,1398,1398,1398,1398,1398,1398,1398,1398,1398,1398,1398,1398,1398,1398,1398,1398,1400,1400,1400,1400,1400,1400,1439,1476,1476,1476,1476,1476,1476,1476,1476,1476,1496,1505,1518,1559,1565,1566,1573,1573,1573,1573,1573,1573,1582,1632,1680,1702,1715,1716,1719,1719,1719,1720,1720,1720,1721,1721,1721,1722,1722,1722,3776,3776,3776,3776,3776,3776,3776,3776,3776,3776,3776,3776,3776,3776,3776,3776,3776,3776,3776,3776,3776,3776,3776,3776,3776,3776,3776,3776,3776,3776,3776,3776,3776,3776,3776,3776,3776,3776,3776,3776,3776,3776,3776,3776,3776,3776,3776,3776,3776,3776,3776,3776,3776,3776,3776,3776,3776,3776,3776,3776,3776,3776,3776,3776,3776,3776,3776,3776,3776,3776,3776,3776,3776,3776,3776,3776,3776,3776,3776,3776,3776,3776,3776,3776,3776,3776,3776,3776,3776,3776,3776,3776,3776,3776,3776,3776,3776,3776,3776,3776,3776,3776,3776,3776,3776,3776,3776,3776,3776,3776,3776,3776,3776,3776,3776,3776,3776,3776,3776,3776,3776,3776,3776,3776,3776,3776,3776,3776,3776,3776,3776,3776,3776,3776,3776,3776,3776,3776,3776,3776,3776,3776,3776,3776,3776,3776,3776,3776,3776,3776,3776,3776,3776,3776,3776,3776,3776,3776,3776,3776,3776,3776,3776,3776,3776,3776,3776,3776,3776,3776,3776,3776,3775,3775,3775,3775,3775,3775,3775,3775,3775,3775,3772,3764,3764,3764,3764,3764,3764,3764,3764,3764,3764,3764,3758,3758,3755,3752,3729,3729,3729,3729,3729,3729,3729,3729,3729,3729,3729,3729,3729,3729,3729,3729,3726,3655,3579,3571,3563,3563,3563,3558,3558,3558,3558,3558,3558,3558,3558,3558,3558,3558,3558,3558,3558,3558,3558,3558,3558,3558,3558,3558,3558,3558,3558,3558,3558,3553,3553,3553,3553,3553,3553,3553,3553,3553,3553,3553,3553,3552,3552,3552,3552,3552,3535,3535,3535,3535,3535,3535,3535,3534,3516,3433,3432,3431,3419,3419,3415,3400,3400,3399,3398,3391,3387,3387,3376,3376,3375,3316,3279,3279,3233,3203,3197,3186,3186,3162,3143,3135,3135,3135,3135,3135,3135,3135,3135,3135,3135,3135,3135,3135,3135,3135,3119,3113,3113,3113,3113,3113,3111,3105,3092,3069,2979,2928,2928,2928,2928,2928,2928,2928,2907,2892,2854,2845,2840,2718,2718,2718,2716,2716,2708,2690,2690,2689,2688,2672,2672,2672,2672,2672,2672,2672,2672,2671,2664,2663,2663,2663,2636,2623,2623,2623,2623,2623,2623,2623,2623,2623,2623,2623,2623,2621,2616,2616,2616,2616,2616,2597,2597,2597,2597,2597,2588,2580,2574,2568,2509,2456,2292,2257,2255,2252,2239,2239,2189,2122,2104,2104,2104,2104,2104,2104,2104,2104,2104,2104,2104,2104,2104,2104,2104,2104,2104,2092,2062,2062,2062,2051,2051,2051,2051,2051,2051,2051,2051,2051,2051,2024,2024,2024,2024,2024,2024,2021,1984,1984,1984,1984,1984,1984,1984,1984,1984,1984,1984,1984,1947,1947,1947,1947,1947,1947,1945,1928,1920,1810,1772,1772,1767,1767,1766,1766,1766,1766,1766,1766,1766,1766,1766,1766,1766,1766,1766,1756,1756,1756,1739,1739,1733,1733,1733,1733,1733,1733,1733,1733,1733,1733,1733,1733,1733,1733,1733,1733,1733,1733,1733,1733,1733,1733,1731,1729,1728,1725,1671,1652,1543,1451,1447,1447,1446,1446,1446,1446,1446,1446,1446,1446,1446,1446,1446,1446,1446,1446,1415,1415,1412,1412,1412,1412,1412,1402,1399,1330,1301,1296,1286,1286,1286,1286,1286,1286,1286,1286,1286,1286,1286,1286,1286,1286,1286,1282,1282,1278,1234,1224,1098,1058,1058,1058,1058,1058,1057,1055,1055,1055,1055,1055,1055,1055,1055,1055,1055,1020,987,898,856,776,748,713,713,688,634,603,581,581,575,487,467,462,402,315,306,306,256,197,84,1]}},\"id\":\"5f0e84af-93c8-4ce1-bd2c-27bb7985e90a\",\"type\":\"ColumnDataSource\"},{\"attributes\":{\"active_drag\":\"auto\",\"active_scroll\":\"auto\",\"active_tap\":\"auto\",\"tools\":[{\"id\":\"099db346-e691-4093-bfb7-32930598ee48\",\"type\":\"PanTool\"},{\"id\":\"227e0ff1-c17e-4fe6-8bcf-fcbcb6605937\",\"type\":\"WheelZoomTool\"},{\"id\":\"0421cbfe-4ceb-487a-aa60-29f8eec955f9\",\"type\":\"BoxZoomTool\"},{\"id\":\"d7f2f082-f941-4ced-bcf2-9d4e6897011d\",\"type\":\"SaveTool\"},{\"id\":\"9d2fb328-01d4-42b1-a97f-c38b8b5ac81a\",\"type\":\"ResetTool\"},{\"id\":\"17465f25-d466-43de-bf6e-212b4ab6723b\",\"type\":\"HelpTool\"}]},\"id\":\"42fa97dc-7d7e-4cff-9f95-c8c24522b8da\",\"type\":\"Toolbar\"},{\"attributes\":{},\"id\":\"1938c95c-2740-4935-9fe7-ffe0abf6508c\",\"type\":\"BasicTicker\"},{\"attributes\":{\"callback\":null},\"id\":\"1368bb3d-3601-4b41-8100-67feddff0714\",\"type\":\"DataRange1d\"},{\"attributes\":{},\"id\":\"42802724-7261-4a2b-9fcf-06ecc1740b37\",\"type\":\"BasicTicker\"},{\"attributes\":{},\"id\":\"3651720d-cb03-44b4-97cd-41493aa15a39\",\"type\":\"ToolEvents\"},{\"attributes\":{\"callback\":null},\"id\":\"4f9c3083-fd2b-4ecf-8b17-f9f708d73225\",\"type\":\"DataRange1d\"},{\"attributes\":{\"plot\":null,\"text\":\"Med Maze 14 Prioritized 300k XP Replay Stale Frontier\"},\"id\":\"4bb3b84c-4865-4d56-8304-80878997883b\",\"type\":\"Title\"},{\"attributes\":{\"use_scientific\":false},\"id\":\"7984190b-05dc-4d4c-8992-aed0f6bb18c1\",\"type\":\"BasicTickFormatter\"},{\"attributes\":{\"axis_label\":\"T\",\"formatter\":{\"id\":\"7984190b-05dc-4d4c-8992-aed0f6bb18c1\",\"type\":\"BasicTickFormatter\"},\"plot\":{\"id\":\"39a43dd3-8ec3-4208-bdf1-0a97068a9dee\",\"subtype\":\"Figure\",\"type\":\"Plot\"},\"ticker\":{\"id\":\"42802724-7261-4a2b-9fcf-06ecc1740b37\",\"type\":\"BasicTicker\"}},\"id\":\"855dc910-5bab-4f92-be26-6edc6a20958c\",\"type\":\"LinearAxis\"},{\"attributes\":{\"dimension\":1,\"plot\":{\"id\":\"39a43dd3-8ec3-4208-bdf1-0a97068a9dee\",\"subtype\":\"Figure\",\"type\":\"Plot\"},\"ticker\":{\"id\":\"1938c95c-2740-4935-9fe7-ffe0abf6508c\",\"type\":\"BasicTicker\"}},\"id\":\"0f24af8d-5d74-4243-952b-e8e83e2343c6\",\"type\":\"Grid\"},{\"attributes\":{\"axis_label\":\"States visited\",\"formatter\":{\"id\":\"869f2a26-c5e9-495e-bc71-112a3e2602f0\",\"type\":\"BasicTickFormatter\"},\"plot\":{\"id\":\"39a43dd3-8ec3-4208-bdf1-0a97068a9dee\",\"subtype\":\"Figure\",\"type\":\"Plot\"},\"ticker\":{\"id\":\"1938c95c-2740-4935-9fe7-ffe0abf6508c\",\"type\":\"BasicTicker\"}},\"id\":\"f9821152-5034-487e-9e2f-005688e9fabd\",\"type\":\"LinearAxis\"},{\"attributes\":{\"plot\":{\"id\":\"39a43dd3-8ec3-4208-bdf1-0a97068a9dee\",\"subtype\":\"Figure\",\"type\":\"Plot\"},\"ticker\":{\"id\":\"42802724-7261-4a2b-9fcf-06ecc1740b37\",\"type\":\"BasicTicker\"}},\"id\":\"86aaab52-fce5-4e88-b617-88a94741b57d\",\"type\":\"Grid\"},{\"attributes\":{\"items\":[{\"id\":\"18850952-5795-4a48-8f8f-6281b0e8f672\",\"type\":\"LegendItem\"},{\"id\":\"a7290044-de0f-4a49-a7fc-ee7b12f4bbcc\",\"type\":\"LegendItem\"},{\"id\":\"0338cf55-c97f-424a-98f9-e6c148d377d3\",\"type\":\"LegendItem\"},{\"id\":\"a34ceeac-cf5d-4d4e-b522-edaade0c20a7\",\"type\":\"LegendItem\"},{\"id\":\"4d0aca52-2f14-486f-8a53-54d76726b614\",\"type\":\"LegendItem\"},{\"id\":\"2755bad8-80f6-4dda-88d5-fc8402bed471\",\"type\":\"LegendItem\"}],\"location\":[0,-30],\"plot\":{\"id\":\"39a43dd3-8ec3-4208-bdf1-0a97068a9dee\",\"subtype\":\"Figure\",\"type\":\"Plot\"}},\"id\":\"552cf871-e50b-4f10-8eb3-64097addf563\",\"type\":\"Legend\"},{\"attributes\":{\"below\":[{\"id\":\"855dc910-5bab-4f92-be26-6edc6a20958c\",\"type\":\"LinearAxis\"}],\"left\":[{\"id\":\"f9821152-5034-487e-9e2f-005688e9fabd\",\"type\":\"LinearAxis\"}],\"plot_height\":800,\"plot_width\":1200,\"renderers\":[{\"id\":\"855dc910-5bab-4f92-be26-6edc6a20958c\",\"type\":\"LinearAxis\"},{\"id\":\"86aaab52-fce5-4e88-b617-88a94741b57d\",\"type\":\"Grid\"},{\"id\":\"f9821152-5034-487e-9e2f-005688e9fabd\",\"type\":\"LinearAxis\"},{\"id\":\"0f24af8d-5d74-4243-952b-e8e83e2343c6\",\"type\":\"Grid\"},{\"id\":\"9ae5cd1c-490b-4116-9ff2-99fcbccf8156\",\"type\":\"BoxAnnotation\"},{\"id\":\"fabd5229-c3ff-4e3d-a35c-b4a94c9429d5\",\"type\":\"GlyphRenderer\"},{\"id\":\"55273889-d01b-4c45-8531-00e6c08500fa\",\"type\":\"GlyphRenderer\"},{\"id\":\"a44b037d-b964-4570-9c31-b9f763e8c99e\",\"type\":\"GlyphRenderer\"},{\"id\":\"54c41fba-f0ed-4424-bbe8-93731c815746\",\"type\":\"GlyphRenderer\"},{\"id\":\"08034a13-5da1-4523-b453-01676e84ba04\",\"type\":\"GlyphRenderer\"},{\"id\":\"3badcb9a-0994-439e-9339-cb96a6796a0d\",\"type\":\"GlyphRenderer\"},{\"id\":\"9cd73b43-052c-49fd-9109-8265338705ea\",\"type\":\"GlyphRenderer\"},{\"id\":\"8e4a9ec5-68bc-4157-9437-6d2cad4b7d68\",\"type\":\"GlyphRenderer\"},{\"id\":\"6bcf6f7c-c9bb-498c-919b-e5ea02b7a4c5\",\"type\":\"GlyphRenderer\"},{\"id\":\"7bfb58bf-6f07-4bcb-9c1f-9b7a127e45d7\",\"type\":\"GlyphRenderer\"},{\"id\":\"61c9dfe1-de8c-465b-9055-55fcd3810eab\",\"type\":\"GlyphRenderer\"},{\"id\":\"bd0b157e-1f72-43d3-bbe0-ac5cb9a247a3\",\"type\":\"GlyphRenderer\"},{\"id\":\"552cf871-e50b-4f10-8eb3-64097addf563\",\"type\":\"Legend\"}],\"right\":[{\"id\":\"552cf871-e50b-4f10-8eb3-64097addf563\",\"type\":\"Legend\"}],\"title\":{\"id\":\"4bb3b84c-4865-4d56-8304-80878997883b\",\"type\":\"Title\"},\"tool_events\":{\"id\":\"3651720d-cb03-44b4-97cd-41493aa15a39\",\"type\":\"ToolEvents\"},\"toolbar\":{\"id\":\"42fa97dc-7d7e-4cff-9f95-c8c24522b8da\",\"type\":\"Toolbar\"},\"toolbar_location\":\"above\",\"x_range\":{\"id\":\"4f9c3083-fd2b-4ecf-8b17-f9f708d73225\",\"type\":\"DataRange1d\"},\"y_range\":{\"id\":\"1368bb3d-3601-4b41-8100-67feddff0714\",\"type\":\"DataRange1d\"}},\"id\":\"39a43dd3-8ec3-4208-bdf1-0a97068a9dee\",\"subtype\":\"Figure\",\"type\":\"Plot\"}],\"root_ids\":[\"39a43dd3-8ec3-4208-bdf1-0a97068a9dee\"]},\"title\":\"Bokeh Application\",\"version\":\"0.12.4\"}};\n",
       "            var render_items = [{\"docid\":\"0071f52d-e5af-427e-98ba-7d4b9b69952c\",\"elementid\":\"17a32e45-2096-468e-b3c1-bdbde89b62d3\",\"modelid\":\"39a43dd3-8ec3-4208-bdf1-0a97068a9dee\"}];\n",
       "            \n",
       "            Bokeh.embed.embed_items(docs_json, render_items);\n",
       "          };\n",
       "          if (document.readyState != \"loading\") fn();\n",
       "          else document.addEventListener(\"DOMContentLoaded\", fn);\n",
       "        })();\n",
       "      },\n",
       "      function(Bokeh) {\n",
       "      }\n",
       "    ];\n",
       "  \n",
       "    function run_inline_js() {\n",
       "      \n",
       "      if ((window.Bokeh !== undefined) || (force === true)) {\n",
       "        for (var i = 0; i < inline_js.length; i++) {\n",
       "          inline_js[i](window.Bokeh);\n",
       "        }if (force === true) {\n",
       "          display_loaded();\n",
       "        }} else if (Date.now() < window._bokeh_timeout) {\n",
       "        setTimeout(run_inline_js, 100);\n",
       "      } else if (!window._bokeh_failed_load) {\n",
       "        console.log(\"Bokeh: BokehJS failed to load within specified timeout.\");\n",
       "        window._bokeh_failed_load = true;\n",
       "      } else if (force !== true) {\n",
       "        var cell = $(document.getElementById(\"17a32e45-2096-468e-b3c1-bdbde89b62d3\")).parents('.cell').data().cell;\n",
       "        cell.output_area.append_execute_result(NB_LOAD_WARNING)\n",
       "      }\n",
       "  \n",
       "    }\n",
       "  \n",
       "    if (window._bokeh_is_loading === 0) {\n",
       "      console.log(\"Bokeh: BokehJS loaded, going straight to plotting\");\n",
       "      run_inline_js();\n",
       "    } else {\n",
       "      load_libs(js_urls, function() {\n",
       "        console.log(\"Bokeh: BokehJS plotting callback run at\", now());\n",
       "        run_inline_js();\n",
       "      });\n",
       "    }\n",
       "  }(this));\n",
       "</script>"
      ]
     },
     "metadata": {},
     "output_type": "display_data"
    }
   ],
   "source": [
    "plot_averages_b(names, t_maxs, colours, legends, directories, step=1000, title=env, min_max=False)\n",
    "plot_states(names, t_maxs, colours, legends, directories, step=1000, title=env)"
   ]
  },
  {
   "cell_type": "code",
   "execution_count": null,
   "metadata": {
    "collapsed": true,
    "deletable": true,
    "editable": true
   },
   "outputs": [],
   "source": []
  },
  {
   "cell_type": "code",
   "execution_count": null,
   "metadata": {
    "collapsed": true,
    "deletable": true,
    "editable": true
   },
   "outputs": [],
   "source": []
  },
  {
   "cell_type": "code",
   "execution_count": null,
   "metadata": {
    "collapsed": true,
    "deletable": true,
    "editable": true
   },
   "outputs": [],
   "source": [
    "DQN_Smoothed = []\n",
    "for times, rewards in zip(DQN_Lengths_C, DQN_Rewards):\n",
    "    linear = interp1d(times, rewards, kind=\"linear\")\n",
    "    linear_rewards = linear([i for i in range(500000)])\n",
    "    DQN_Smoothed.append(linear_rewards)"
   ]
  },
  {
   "cell_type": "code",
   "execution_count": null,
   "metadata": {
    "collapsed": true,
    "deletable": true,
    "editable": true
   },
   "outputs": [],
   "source": [
    "DQN_Means = np.mean(DQN_Smoothed, axis=0)"
   ]
  },
  {
   "cell_type": "code",
   "execution_count": null,
   "metadata": {
    "collapsed": true,
    "deletable": true,
    "editable": true
   },
   "outputs": [],
   "source": [
    "DQN_Stds = np.std(DQN_Smoothed, axis=0)"
   ]
  },
  {
   "cell_type": "code",
   "execution_count": null,
   "metadata": {
    "collapsed": false,
    "deletable": true,
    "editable": true
   },
   "outputs": [],
   "source": [
    "plt.fill_between([i for i in range(500000)], DQN_Means - DQN_Stds, DQN_Means + DQN_Stds, color=\"red\", alpha=0.3, edgecolor=\"white\")\n",
    "\n",
    "plt.plot([i for i in range(500000)], DQN_Means, color=\"red\")"
   ]
  },
  {
   "cell_type": "code",
   "execution_count": null,
   "metadata": {
    "collapsed": false,
    "deletable": true,
    "editable": true
   },
   "outputs": [],
   "source": [
    "len(DQN_Repeat)"
   ]
  },
  {
   "cell_type": "code",
   "execution_count": null,
   "metadata": {
    "collapsed": true,
    "deletable": true,
    "editable": true
   },
   "outputs": [],
   "source": [
    "plt.plot(DQN)"
   ]
  },
  {
   "cell_type": "code",
   "execution_count": null,
   "metadata": {
    "collapsed": true,
    "deletable": true,
    "editable": true
   },
   "outputs": [],
   "source": [
    "directories = [\"Logs/\"]"
   ]
  },
  {
   "cell_type": "code",
   "execution_count": null,
   "metadata": {
    "collapsed": false,
    "deletable": true,
    "editable": true
   },
   "outputs": [],
   "source": [
    "for i in range(0, 10, 2):\n",
    "    print(i)"
   ]
  },
  {
   "cell_type": "code",
   "execution_count": null,
   "metadata": {
    "collapsed": true,
    "deletable": true,
    "editable": true
   },
   "outputs": [],
   "source": []
  }
 ],
 "metadata": {
  "kernelspec": {
   "display_name": "Python 3",
   "language": "python",
   "name": "python3"
  },
  "language_info": {
   "codemirror_mode": {
    "name": "ipython",
    "version": 3
   },
   "file_extension": ".py",
   "mimetype": "text/x-python",
   "name": "python",
   "nbconvert_exporter": "python",
   "pygments_lexer": "ipython3",
   "version": "3.6.0"
  }
 },
 "nbformat": 4,
 "nbformat_minor": 2
}
