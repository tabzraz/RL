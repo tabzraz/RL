{
 "cells": [
  {
   "cell_type": "code",
   "execution_count": 1,
   "metadata": {
    "collapsed": true
   },
   "outputs": [],
   "source": [
    "from matplotlib import pyplot as plt\n",
    "%matplotlib inline"
   ]
  },
  {
   "cell_type": "code",
   "execution_count": 2,
   "metadata": {
    "collapsed": false
   },
   "outputs": [
    {
     "data": {
      "text/html": [
       "\n",
       "    <div class=\"bk-root\">\n",
       "        <a href=\"http://bokeh.pydata.org\" target=\"_blank\" class=\"bk-logo bk-logo-small bk-logo-notebook\"></a>\n",
       "        <span id=\"b281f61c-1ddf-4b15-97b8-03ca8e16e3e9\">Loading BokehJS ...</span>\n",
       "    </div>"
      ]
     },
     "metadata": {},
     "output_type": "display_data"
    },
    {
     "data": {
      "application/javascript": [
       "\n",
       "(function(global) {\n",
       "  function now() {\n",
       "    return new Date();\n",
       "  }\n",
       "\n",
       "  var force = true;\n",
       "\n",
       "  if (typeof (window._bokeh_onload_callbacks) === \"undefined\" || force === true) {\n",
       "    window._bokeh_onload_callbacks = [];\n",
       "    window._bokeh_is_loading = undefined;\n",
       "  }\n",
       "\n",
       "\n",
       "  \n",
       "  if (typeof (window._bokeh_timeout) === \"undefined\" || force === true) {\n",
       "    window._bokeh_timeout = Date.now() + 5000;\n",
       "    window._bokeh_failed_load = false;\n",
       "  }\n",
       "\n",
       "  var NB_LOAD_WARNING = {'data': {'text/html':\n",
       "     \"<div style='background-color: #fdd'>\\n\"+\n",
       "     \"<p>\\n\"+\n",
       "     \"BokehJS does not appear to have successfully loaded. If loading BokehJS from CDN, this \\n\"+\n",
       "     \"may be due to a slow or bad network connection. Possible fixes:\\n\"+\n",
       "     \"</p>\\n\"+\n",
       "     \"<ul>\\n\"+\n",
       "     \"<li>re-rerun `output_notebook()` to attempt to load from CDN again, or</li>\\n\"+\n",
       "     \"<li>use INLINE resources instead, as so:</li>\\n\"+\n",
       "     \"</ul>\\n\"+\n",
       "     \"<code>\\n\"+\n",
       "     \"from bokeh.resources import INLINE\\n\"+\n",
       "     \"output_notebook(resources=INLINE)\\n\"+\n",
       "     \"</code>\\n\"+\n",
       "     \"</div>\"}};\n",
       "\n",
       "  function display_loaded() {\n",
       "    if (window.Bokeh !== undefined) {\n",
       "      document.getElementById(\"b281f61c-1ddf-4b15-97b8-03ca8e16e3e9\").textContent = \"BokehJS successfully loaded.\";\n",
       "    } else if (Date.now() < window._bokeh_timeout) {\n",
       "      setTimeout(display_loaded, 100)\n",
       "    }\n",
       "  }\n",
       "\n",
       "  function run_callbacks() {\n",
       "    window._bokeh_onload_callbacks.forEach(function(callback) { callback() });\n",
       "    delete window._bokeh_onload_callbacks\n",
       "    console.info(\"Bokeh: all callbacks have finished\");\n",
       "  }\n",
       "\n",
       "  function load_libs(js_urls, callback) {\n",
       "    window._bokeh_onload_callbacks.push(callback);\n",
       "    if (window._bokeh_is_loading > 0) {\n",
       "      console.log(\"Bokeh: BokehJS is being loaded, scheduling callback at\", now());\n",
       "      return null;\n",
       "    }\n",
       "    if (js_urls == null || js_urls.length === 0) {\n",
       "      run_callbacks();\n",
       "      return null;\n",
       "    }\n",
       "    console.log(\"Bokeh: BokehJS not loaded, scheduling load and callback at\", now());\n",
       "    window._bokeh_is_loading = js_urls.length;\n",
       "    for (var i = 0; i < js_urls.length; i++) {\n",
       "      var url = js_urls[i];\n",
       "      var s = document.createElement('script');\n",
       "      s.src = url;\n",
       "      s.async = false;\n",
       "      s.onreadystatechange = s.onload = function() {\n",
       "        window._bokeh_is_loading--;\n",
       "        if (window._bokeh_is_loading === 0) {\n",
       "          console.log(\"Bokeh: all BokehJS libraries loaded\");\n",
       "          run_callbacks()\n",
       "        }\n",
       "      };\n",
       "      s.onerror = function() {\n",
       "        console.warn(\"failed to load library \" + url);\n",
       "      };\n",
       "      console.log(\"Bokeh: injecting script tag for BokehJS library: \", url);\n",
       "      document.getElementsByTagName(\"head\")[0].appendChild(s);\n",
       "    }\n",
       "  };var element = document.getElementById(\"b281f61c-1ddf-4b15-97b8-03ca8e16e3e9\");\n",
       "  if (element == null) {\n",
       "    console.log(\"Bokeh: ERROR: autoload.js configured with elementid 'b281f61c-1ddf-4b15-97b8-03ca8e16e3e9' but no matching script tag was found. \")\n",
       "    return false;\n",
       "  }\n",
       "\n",
       "  var js_urls = [\"https://cdn.pydata.org/bokeh/release/bokeh-0.12.4.min.js\", \"https://cdn.pydata.org/bokeh/release/bokeh-widgets-0.12.4.min.js\"];\n",
       "\n",
       "  var inline_js = [\n",
       "    function(Bokeh) {\n",
       "      Bokeh.set_log_level(\"info\");\n",
       "    },\n",
       "    \n",
       "    function(Bokeh) {\n",
       "      \n",
       "      document.getElementById(\"b281f61c-1ddf-4b15-97b8-03ca8e16e3e9\").textContent = \"BokehJS is loading...\";\n",
       "    },\n",
       "    function(Bokeh) {\n",
       "      console.log(\"Bokeh: injecting CSS: https://cdn.pydata.org/bokeh/release/bokeh-0.12.4.min.css\");\n",
       "      Bokeh.embed.inject_css(\"https://cdn.pydata.org/bokeh/release/bokeh-0.12.4.min.css\");\n",
       "      console.log(\"Bokeh: injecting CSS: https://cdn.pydata.org/bokeh/release/bokeh-widgets-0.12.4.min.css\");\n",
       "      Bokeh.embed.inject_css(\"https://cdn.pydata.org/bokeh/release/bokeh-widgets-0.12.4.min.css\");\n",
       "    }\n",
       "  ];\n",
       "\n",
       "  function run_inline_js() {\n",
       "    \n",
       "    if ((window.Bokeh !== undefined) || (force === true)) {\n",
       "      for (var i = 0; i < inline_js.length; i++) {\n",
       "        inline_js[i](window.Bokeh);\n",
       "      }if (force === true) {\n",
       "        display_loaded();\n",
       "      }} else if (Date.now() < window._bokeh_timeout) {\n",
       "      setTimeout(run_inline_js, 100);\n",
       "    } else if (!window._bokeh_failed_load) {\n",
       "      console.log(\"Bokeh: BokehJS failed to load within specified timeout.\");\n",
       "      window._bokeh_failed_load = true;\n",
       "    } else if (force !== true) {\n",
       "      var cell = $(document.getElementById(\"b281f61c-1ddf-4b15-97b8-03ca8e16e3e9\")).parents('.cell').data().cell;\n",
       "      cell.output_area.append_execute_result(NB_LOAD_WARNING)\n",
       "    }\n",
       "\n",
       "  }\n",
       "\n",
       "  if (window._bokeh_is_loading === 0) {\n",
       "    console.log(\"Bokeh: BokehJS loaded, going straight to plotting\");\n",
       "    run_inline_js();\n",
       "  } else {\n",
       "    load_libs(js_urls, function() {\n",
       "      console.log(\"Bokeh: BokehJS plotting callback run at\", now());\n",
       "      run_inline_js();\n",
       "    });\n",
       "  }\n",
       "}(this));"
      ]
     },
     "metadata": {},
     "output_type": "display_data"
    }
   ],
   "source": [
    "from bokeh.plotting import figure, output_notebook, show\n",
    "output_notebook()"
   ]
  },
  {
   "cell_type": "code",
   "execution_count": 3,
   "metadata": {
    "collapsed": true
   },
   "outputs": [],
   "source": [
    "import glob"
   ]
  },
  {
   "cell_type": "code",
   "execution_count": 4,
   "metadata": {
    "collapsed": true
   },
   "outputs": [],
   "source": [
    "import numpy as np"
   ]
  },
  {
   "cell_type": "code",
   "execution_count": 5,
   "metadata": {
    "collapsed": true
   },
   "outputs": [],
   "source": [
    "from scipy.interpolate import interp1d\n",
    "from scipy.interpolate import spline"
   ]
  },
  {
   "cell_type": "code",
   "execution_count": 6,
   "metadata": {
    "collapsed": true
   },
   "outputs": [],
   "source": [
    "from tqdm import tqdm"
   ]
  },
  {
   "cell_type": "code",
   "execution_count": 7,
   "metadata": {
    "collapsed": true
   },
   "outputs": [],
   "source": [
    "DQN_Rewards_Path = \"/home/tabz/Dropbox/RL/Log_Files/March 2017/Maze_5_Batch_Sizes_Logs/*DQN*/logs/Episode_Rewards.txt\"\n",
    "DQN_Lengths_Path = \"/home/tabz/Dropbox/RL/Log_Files/March 2017/Maze_5_Batch_Sizes_Logs/*DQN*/logs/Episode_Lengths.txt\"\n",
    "DQN_Rewards = []\n",
    "DQN_Lengths = []\n",
    "DQN_Lengths_C = []"
   ]
  },
  {
   "cell_type": "code",
   "execution_count": 8,
   "metadata": {
    "collapsed": true
   },
   "outputs": [],
   "source": [
    "for filename in glob.glob(DQN_Rewards_Path):\n",
    "    run_logs = [0]\n",
    "#     print(filename)\n",
    "    with open(filename, \"r\") as f:\n",
    "        for line in f:\n",
    "            try:\n",
    "                ep_r = float(line)\n",
    "            except:\n",
    "                continue\n",
    "            run_logs.append(ep_r)\n",
    "    DQN_Rewards.append(run_logs)"
   ]
  },
  {
   "cell_type": "code",
   "execution_count": 9,
   "metadata": {
    "collapsed": true
   },
   "outputs": [],
   "source": [
    "for filename in glob.glob(DQN_Lengths_Path):\n",
    "    run_logs = [0]\n",
    "#     print(filename)\n",
    "    with open(filename, \"r\") as f:\n",
    "        for line in f:\n",
    "            try:\n",
    "                ep_r = float(line)\n",
    "            except:\n",
    "                continue\n",
    "            run_logs.append(ep_r)\n",
    "    DQN_Lengths.append(run_logs)\n",
    "    run_logs_c = np.cumsum(run_logs).astype(np.int32)\n",
    "    DQN_Lengths_C.append(run_logs_c)"
   ]
  },
  {
   "cell_type": "markdown",
   "metadata": {
    "collapsed": false
   },
   "source": [
    "for lens, runs in zip(DQN_Lengths_C, DQN_Rewards):\n",
    "    plt.plot(lens, runs)\n",
    "plt.show()"
   ]
  },
  {
   "cell_type": "markdown",
   "metadata": {
    "collapsed": false
   },
   "source": [
    "p = figure(width=500, height=500, y_range=(-1,3))\n",
    "for lens, runs in zip(DQN_Lengths_C, DQN_Rewards):\n",
    "    p.line(lens, runs)\n",
    "show(p)"
   ]
  },
  {
   "cell_type": "code",
   "execution_count": null,
   "metadata": {
    "collapsed": true
   },
   "outputs": [],
   "source": []
  },
  {
   "cell_type": "markdown",
   "metadata": {
    "collapsed": true
   },
   "source": [
    "def plot_averages(names, t_maxs, colors, legends=None, directory=\"Logs/\", step=10):\n",
    "    plt.figure(figsize=(10,10))\n",
    "    plt.ylim(-1, 3)\n",
    "    for name, color, t_max in tqdm(zip(names, colors, t_maxs)):\n",
    "        # TODO: Remove DQN from names\n",
    "        DQN_Rewards_Path = directory + \"*\" + name + \"*/logs/Episode_Rewards.txt\"\n",
    "        DQN_Lengths_Path = directory + \"*\" + name + \"*/logs/Episode_Lengths.txt\"\n",
    "        DQN_Rewards = []\n",
    "        DQN_Lengths = []\n",
    "        DQN_Lengths_C = []\n",
    "        for filename in glob.glob(DQN_Rewards_Path):\n",
    "            run_logs = [0]\n",
    "            with open(filename, \"r\") as f:\n",
    "                for line in f:\n",
    "                    try:\n",
    "                        ep_r = float(line)\n",
    "                    except:\n",
    "                        continue\n",
    "                    run_logs.append(ep_r)\n",
    "            DQN_Rewards.append(run_logs)\n",
    "        for filename in glob.glob(DQN_Lengths_Path):\n",
    "            run_logs = [0]\n",
    "        #     print(filename)\n",
    "            with open(filename, \"r\") as f:\n",
    "                for line in f:\n",
    "                    try:\n",
    "                        ep_r = float(line)\n",
    "                    except:\n",
    "                        continue\n",
    "                    run_logs.append(ep_r)\n",
    "            DQN_Lengths.append(run_logs)\n",
    "            run_logs_c = np.cumsum(run_logs).astype(np.int32)\n",
    "            DQN_Lengths_C.append(run_logs_c)\n",
    "        DQN_Smoothed = []\n",
    "        for times, rewards in zip(DQN_Lengths_C, DQN_Rewards):\n",
    "#             linear = interp1d(times, rewards, kind=\"linear\")\n",
    "#             linear_rewards = linear([i for i in range(500000)])\n",
    "#             DQN_Smoothed.append(linear_rewards)\n",
    "            spline_rewards = spline(times, rewards, [i for i in range(0, t_max, step)])\n",
    "            DQN_Smoothed.append(spline_rewards)\n",
    "        DQN_Means = np.mean(DQN_Smoothed, axis=0)\n",
    "        DQN_Stds = np.std(DQN_Smoothed, axis=0)\n",
    "        plt.fill_between([i for i in range(0, t_max, step)], DQN_Means - DQN_Stds, DQN_Means + DQN_Stds, color=color, alpha=0.2, edgecolor=\"white\")\n",
    "\n",
    "        plt.plot([i for i in range(0, t_max, step)], DQN_Means, color=color)\n",
    "\n",
    "    plt.title(\"Episode_Reward\")\n",
    "    plt.xlabel(\"T\")\n",
    "    plt.ylabel(\"Reward\")\n",
    "    if legends is not None:\n",
    "        plt.legend(legends, bbox_to_anchor=(1.05, 1), loc=2)\n",
    "    plt.show()"
   ]
  },
  {
   "cell_type": "code",
   "execution_count": 10,
   "metadata": {
    "collapsed": true
   },
   "outputs": [],
   "source": [
    "from bokeh.models import Legend\n",
    "from bokeh.models.formatters import BasicTickFormatter\n",
    "from bokeh.models import HoverTool, TapTool"
   ]
  },
  {
   "cell_type": "code",
   "execution_count": 32,
   "metadata": {
    "collapsed": false
   },
   "outputs": [],
   "source": [
    "def plot_averages_b(names, t_maxs, colors, legends, directories=\"Logs/\", step=10, title=\"\"):\n",
    "#     plt.figure(figsize=(10,10))\n",
    "    p = figure(width=1200, height=800, y_range=(-1.2, 3.2), title=title)\n",
    "    p.toolbar_location = \"above\"\n",
    "    p.yaxis.axis_label = \"Episode Reward\"\n",
    "    p.xaxis.axis_label = \"T\"\n",
    "    p.xaxis.formatter = BasicTickFormatter(use_scientific=False)\n",
    "#     p = figure(width=800, height=500)\n",
    "    lines = []\n",
    "    alpha_lines = []\n",
    "    if isinstance(directories, str):\n",
    "        dd = directories\n",
    "        directories = [dd for _ in names]\n",
    "    for name, color, t_max, legend, directory in zip(names, colors, t_maxs, legends, directories):\n",
    "#         print(directory)\n",
    "        DQN_Rewards_Path = directory + \"*\" + name + \"*/logs/Episode_Rewards.txt\"\n",
    "        DQN_Lengths_Path = directory + \"*\" + name + \"*/logs/Episode_Lengths.txt\"\n",
    "        DQN_Rewards = []\n",
    "        DQN_Lengths = []\n",
    "        DQN_Lengths_C = []\n",
    "        for filename in glob.glob(DQN_Rewards_Path):\n",
    "            run_logs = [0]\n",
    "            with open(filename, \"r\") as f:\n",
    "                for line in f:\n",
    "                    try:\n",
    "                        ep_r = float(line)\n",
    "                    except:\n",
    "                        continue\n",
    "                    run_logs.append(ep_r)\n",
    "            DQN_Rewards.append(run_logs)\n",
    "        for filename in glob.glob(DQN_Lengths_Path):\n",
    "            run_logs = [0]\n",
    "        #     print(filename)\n",
    "            with open(filename, \"r\") as f:\n",
    "                for line in f:\n",
    "                    try:\n",
    "                        ep_r = float(line)\n",
    "                    except:\n",
    "                        continue\n",
    "                    run_logs.append(ep_r)\n",
    "            DQN_Lengths.append(run_logs)\n",
    "            run_logs_c = np.cumsum(run_logs).astype(np.int32)\n",
    "            DQN_Lengths_C.append(run_logs_c)\n",
    "        DQN_Smoothed = []\n",
    "        for times, rewards in zip(DQN_Lengths_C, DQN_Rewards):\n",
    "#             linear = interp1d(times, rewards, kind=\"linear\")\n",
    "#             linear_rewards = linear([i for i in range(500000)])\n",
    "#             DQN_Smoothed.append(linear_rewards)\n",
    "            spline_rewards = spline(times, rewards, [i for i in range(0, t_max, step)], order=1)\n",
    "            DQN_Smoothed.append(spline_rewards)\n",
    "        DQN_Means = np.mean(DQN_Smoothed, axis=0)\n",
    "        DQN_Stds = np.std(DQN_Smoothed, axis=0)\n",
    "        \n",
    "#         plt.fill_between([i for i in range(0, t_max, step)], DQN_Means - DQN_Stds, DQN_Means + DQN_Stds, color=color, alpha=0.2, edgecolor=\"white\")\n",
    "        # Error bars\n",
    "        xs = [i for i in range(0, t_max, step)]\n",
    "        xs = xs + list(reversed(xs))\n",
    "        ys = np.concatenate([DQN_Means - DQN_Stds, np.flip(DQN_Means + DQN_Stds, axis=0)])\n",
    "        lls = p.patch(xs, ys, color=color, alpha=0.1)\n",
    "\n",
    "        \n",
    "#         for x, y, yerr in zip(range(0, t_max, step), DQN_Means, DQN_Stds):\n",
    "#             lls = p.line([x, x], [y - yerr, y + yerr], color=color, alpha=0.1, hover_alpha=0.8)\n",
    "#             alpha_lines.append(lls)\n",
    "            \n",
    "\n",
    "#         plt.plot([i for i in range(0, t_max, step)], DQN_Means, color=color)\n",
    "        l = p.line([i for i in range(0, t_max, step)], DQN_Means, color=color, line_width=2)\n",
    "        lines.append(l)\n",
    "#         alpha_lines.append(lls)\n",
    "\n",
    "#     plt.title(\"Episode_Reward\")\n",
    "#     plt.xlabel(\"T\")\n",
    "#     plt.ylabel(\"Reward\")\n",
    "#     if legends is not None:\n",
    "#         plt.legend(legends)\n",
    "#     plt.show()\n",
    "#     p.line([0,1], [-1,3])\n",
    "    new_leg = Legend(items=[(name, [line]) for name, line in zip(legends, lines)], location=(0,-30))\n",
    "    p.add_layout(new_leg, \"right\")\n",
    "#     p.add_tools(HoverTool(renderers=alpha_lines))\n",
    "#     p.add_tools(TapTool(renderers=alpha_lines))\n",
    "    show(p)"
   ]
  },
  {
   "cell_type": "code",
   "execution_count": null,
   "metadata": {
    "collapsed": true
   },
   "outputs": [],
   "source": []
  },
  {
   "cell_type": "code",
   "execution_count": 33,
   "metadata": {
    "collapsed": false
   },
   "outputs": [
    {
     "name": "stdout",
     "output_type": "stream",
     "text": [
      "['DQN', 'Count*_Conv_True*_Eps_1', 'Count*_Conv_True*_Eps_0.1', 'Count*_Conv_False*_Eps_1', 'Count*_Conv_False*_Eps_0.1']\n",
      "[1000000, 1000000, 1000000, 1000000, 1000000]\n"
     ]
    }
   ],
   "source": [
    "names = []\n",
    "legends = []\n",
    "t_maxs = []\n",
    "\n",
    "# DQN\n",
    "names += [\"DQN\"]\n",
    "legends += [\"DQN\"]\n",
    "t_maxs += [1000000]\n",
    "\n",
    "for conv in [True, False]:\n",
    "#     break\n",
    "    names.append(\"Count*_Conv_{}*_Eps_1\".format(conv))\n",
    "    legends.append(\"Count_Conv_{}\".format(conv))\n",
    "    t_maxs.append(1000000)\n",
    "#     break\n",
    "    names.append(\"Count*_Conv_{}*_Eps_0.1\".format(conv))\n",
    "    legends.append(\"Count_Conv_{}_Epsilon\".format(conv))\n",
    "    t_maxs.append(1000000)\n",
    "    \n",
    "# Batch size names\n",
    "# names = names + [\"*Batch_{}_{}\".format(b, name) for b in [64, 128, 256] for name in names]\n",
    "# legends = legends + [\"{}_Batch_{}\".format(leg, b) for b in [64, 128, 256] for leg in legends]\n",
    "# t_maxs = t_maxs + [t_max for b in [64, 128, 256] for t_max in t_maxs]\n",
    "    \n",
    "dropbox_direc = \"/home/tabz/Dropbox/RL/Log_Files/March 2017\"\n",
    "# directories =  [\"{}/{}\".format(dropbox_direc, \"Maze_5_Logs/\")] + 3 * [\"{}/{}\".format(dropbox_direc, \"Maze_5_Batch_Sizes_Logs/\")] \n",
    "directories = dropbox_direc + \"/Maze_5_Logs/\"\n",
    "    \n",
    "print(names)\n",
    "print(t_maxs)\n",
    "# colours = [\"red\", \"#3366ff\", \"#66ff33\", \"yellow\"]\n",
    "# colours = rainbow(np.linspace(0, 1, len(names)))"
   ]
  },
  {
   "cell_type": "code",
   "execution_count": 34,
   "metadata": {
    "collapsed": false
   },
   "outputs": [],
   "source": [
    "from bokeh.palettes import Set1_9 as rainbow_colours"
   ]
  },
  {
   "cell_type": "code",
   "execution_count": 35,
   "metadata": {
    "collapsed": true
   },
   "outputs": [],
   "source": [
    "from bokeh.palettes import magma, inferno, Purples, Oranges, Greens, Reds, Set1"
   ]
  },
  {
   "cell_type": "code",
   "execution_count": 36,
   "metadata": {
    "collapsed": true
   },
   "outputs": [],
   "source": [
    "magma_colours = inferno(len(names))"
   ]
  },
  {
   "cell_type": "code",
   "execution_count": 37,
   "metadata": {
    "collapsed": false
   },
   "outputs": [],
   "source": [
    "c_nums = 1\n",
    "triple_colours = Purples[9][:c_nums] + Oranges[9][:c_nums] + Greens[9][:c_nums] + Reds[9][:c_nums]"
   ]
  },
  {
   "cell_type": "code",
   "execution_count": 38,
   "metadata": {
    "collapsed": false
   },
   "outputs": [
    {
     "data": {
      "text/plain": [
       "['#3f007d', '#7f2704', '#00441b', '#67000d']"
      ]
     },
     "execution_count": 38,
     "metadata": {},
     "output_type": "execute_result"
    }
   ],
   "source": [
    "triple_colours"
   ]
  },
  {
   "cell_type": "code",
   "execution_count": 41,
   "metadata": {
    "collapsed": false
   },
   "outputs": [
    {
     "data": {
      "text/html": [
       "\n",
       "\n",
       "    <div class=\"bk-root\">\n",
       "        <div class=\"bk-plotdiv\" id=\"3089cc6c-20c5-4179-94d9-3f57c874bc17\"></div>\n",
       "    </div>\n",
       "<script type=\"text/javascript\">\n",
       "  \n",
       "  (function(global) {\n",
       "    function now() {\n",
       "      return new Date();\n",
       "    }\n",
       "  \n",
       "    var force = false;\n",
       "  \n",
       "    if (typeof (window._bokeh_onload_callbacks) === \"undefined\" || force === true) {\n",
       "      window._bokeh_onload_callbacks = [];\n",
       "      window._bokeh_is_loading = undefined;\n",
       "    }\n",
       "  \n",
       "  \n",
       "    \n",
       "    if (typeof (window._bokeh_timeout) === \"undefined\" || force === true) {\n",
       "      window._bokeh_timeout = Date.now() + 0;\n",
       "      window._bokeh_failed_load = false;\n",
       "    }\n",
       "  \n",
       "    var NB_LOAD_WARNING = {'data': {'text/html':\n",
       "       \"<div style='background-color: #fdd'>\\n\"+\n",
       "       \"<p>\\n\"+\n",
       "       \"BokehJS does not appear to have successfully loaded. If loading BokehJS from CDN, this \\n\"+\n",
       "       \"may be due to a slow or bad network connection. Possible fixes:\\n\"+\n",
       "       \"</p>\\n\"+\n",
       "       \"<ul>\\n\"+\n",
       "       \"<li>re-rerun `output_notebook()` to attempt to load from CDN again, or</li>\\n\"+\n",
       "       \"<li>use INLINE resources instead, as so:</li>\\n\"+\n",
       "       \"</ul>\\n\"+\n",
       "       \"<code>\\n\"+\n",
       "       \"from bokeh.resources import INLINE\\n\"+\n",
       "       \"output_notebook(resources=INLINE)\\n\"+\n",
       "       \"</code>\\n\"+\n",
       "       \"</div>\"}};\n",
       "  \n",
       "    function display_loaded() {\n",
       "      if (window.Bokeh !== undefined) {\n",
       "        document.getElementById(\"3089cc6c-20c5-4179-94d9-3f57c874bc17\").textContent = \"BokehJS successfully loaded.\";\n",
       "      } else if (Date.now() < window._bokeh_timeout) {\n",
       "        setTimeout(display_loaded, 100)\n",
       "      }\n",
       "    }\n",
       "  \n",
       "    function run_callbacks() {\n",
       "      window._bokeh_onload_callbacks.forEach(function(callback) { callback() });\n",
       "      delete window._bokeh_onload_callbacks\n",
       "      console.info(\"Bokeh: all callbacks have finished\");\n",
       "    }\n",
       "  \n",
       "    function load_libs(js_urls, callback) {\n",
       "      window._bokeh_onload_callbacks.push(callback);\n",
       "      if (window._bokeh_is_loading > 0) {\n",
       "        console.log(\"Bokeh: BokehJS is being loaded, scheduling callback at\", now());\n",
       "        return null;\n",
       "      }\n",
       "      if (js_urls == null || js_urls.length === 0) {\n",
       "        run_callbacks();\n",
       "        return null;\n",
       "      }\n",
       "      console.log(\"Bokeh: BokehJS not loaded, scheduling load and callback at\", now());\n",
       "      window._bokeh_is_loading = js_urls.length;\n",
       "      for (var i = 0; i < js_urls.length; i++) {\n",
       "        var url = js_urls[i];\n",
       "        var s = document.createElement('script');\n",
       "        s.src = url;\n",
       "        s.async = false;\n",
       "        s.onreadystatechange = s.onload = function() {\n",
       "          window._bokeh_is_loading--;\n",
       "          if (window._bokeh_is_loading === 0) {\n",
       "            console.log(\"Bokeh: all BokehJS libraries loaded\");\n",
       "            run_callbacks()\n",
       "          }\n",
       "        };\n",
       "        s.onerror = function() {\n",
       "          console.warn(\"failed to load library \" + url);\n",
       "        };\n",
       "        console.log(\"Bokeh: injecting script tag for BokehJS library: \", url);\n",
       "        document.getElementsByTagName(\"head\")[0].appendChild(s);\n",
       "      }\n",
       "    };var element = document.getElementById(\"3089cc6c-20c5-4179-94d9-3f57c874bc17\");\n",
       "    if (element == null) {\n",
       "      console.log(\"Bokeh: ERROR: autoload.js configured with elementid '3089cc6c-20c5-4179-94d9-3f57c874bc17' but no matching script tag was found. \")\n",
       "      return false;\n",
       "    }\n",
       "  \n",
       "    var js_urls = [];\n",
       "  \n",
       "    var inline_js = [\n",
       "      function(Bokeh) {\n",
       "        (function() {\n",
       "          var fn = function() {\n",
       "            var docs_json = {\"55861206-c9c1-488d-8c43-6fe687bd8870\":{\"roots\":{\"references\":[{\"attributes\":{\"plot\":{\"id\":\"cb6b18bb-b198-448c-90c1-404a1a02b8a0\",\"subtype\":\"Figure\",\"type\":\"Plot\"}},\"id\":\"a2a03f99-6936-4c0f-84e5-1c679c2b6656\",\"type\":\"PanTool\"},{\"attributes\":{\"plot\":{\"id\":\"cb6b18bb-b198-448c-90c1-404a1a02b8a0\",\"subtype\":\"Figure\",\"type\":\"Plot\"}},\"id\":\"a985193b-bd46-4a99-8aff-479bedbbf6ef\",\"type\":\"HelpTool\"},{\"attributes\":{\"active_drag\":\"auto\",\"active_scroll\":\"auto\",\"active_tap\":\"auto\",\"tools\":[{\"id\":\"a2a03f99-6936-4c0f-84e5-1c679c2b6656\",\"type\":\"PanTool\"},{\"id\":\"158b55b8-56d7-415a-a13a-7f1fa42b863d\",\"type\":\"WheelZoomTool\"},{\"id\":\"ae4e618c-5169-474d-9449-564673f4511e\",\"type\":\"BoxZoomTool\"},{\"id\":\"8fe93d7d-93fc-4be1-b699-66fc3e4994ec\",\"type\":\"SaveTool\"},{\"id\":\"6aaec42d-ff6f-4fbe-952d-2a5cadce0b27\",\"type\":\"ResetTool\"},{\"id\":\"a985193b-bd46-4a99-8aff-479bedbbf6ef\",\"type\":\"HelpTool\"}]},\"id\":\"073dfe28-250e-4fe8-b49d-effeef4164ea\",\"type\":\"Toolbar\"},{\"attributes\":{\"axis_label\":\"Episode Reward\",\"formatter\":{\"id\":\"8fddfa0b-a6f8-4f0b-8698-1a7f6f89822c\",\"type\":\"BasicTickFormatter\"},\"plot\":{\"id\":\"cb6b18bb-b198-448c-90c1-404a1a02b8a0\",\"subtype\":\"Figure\",\"type\":\"Plot\"},\"ticker\":{\"id\":\"804078b0-604d-4007-a30e-5d9cffe91422\",\"type\":\"BasicTicker\"}},\"id\":\"fcd423d9-fe41-4203-9066-27656891de59\",\"type\":\"LinearAxis\"},{\"attributes\":{},\"id\":\"a4af518f-4626-4190-84f3-fd64a7d3dc1f\",\"type\":\"ToolEvents\"},{\"attributes\":{\"callback\":null,\"end\":3.2,\"start\":-1.2},\"id\":\"00299b0a-b134-49e8-9fa5-5de5b5802337\",\"type\":\"Range1d\"},{\"attributes\":{\"plot\":null,\"text\":\"Maze 5\"},\"id\":\"5b175359-ccf2-4427-8d57-e1844793ec7f\",\"type\":\"Title\"},{\"attributes\":{\"overlay\":{\"id\":\"3d7ddaf3-ddd4-4135-89cc-1b7a030912e8\",\"type\":\"BoxAnnotation\"},\"plot\":{\"id\":\"cb6b18bb-b198-448c-90c1-404a1a02b8a0\",\"subtype\":\"Figure\",\"type\":\"Plot\"}},\"id\":\"ae4e618c-5169-474d-9449-564673f4511e\",\"type\":\"BoxZoomTool\"},{\"attributes\":{},\"id\":\"505f68e8-9277-4430-af8d-6b9dc815216e\",\"type\":\"BasicTicker\"},{\"attributes\":{\"below\":[{\"id\":\"fd195ac8-3bff-46a0-8c39-a99fcdb63cfd\",\"type\":\"LinearAxis\"}],\"left\":[{\"id\":\"fcd423d9-fe41-4203-9066-27656891de59\",\"type\":\"LinearAxis\"}],\"plot_height\":800,\"plot_width\":1200,\"renderers\":[{\"id\":\"fd195ac8-3bff-46a0-8c39-a99fcdb63cfd\",\"type\":\"LinearAxis\"},{\"id\":\"98e47e7f-444a-43a0-86b1-ce732f4f6783\",\"type\":\"Grid\"},{\"id\":\"fcd423d9-fe41-4203-9066-27656891de59\",\"type\":\"LinearAxis\"},{\"id\":\"0a5fdc6f-3fd3-47a2-8036-382b92854fcc\",\"type\":\"Grid\"},{\"id\":\"3d7ddaf3-ddd4-4135-89cc-1b7a030912e8\",\"type\":\"BoxAnnotation\"},{\"id\":\"004c731a-ac18-4e04-993c-78fd72a60bd8\",\"type\":\"GlyphRenderer\"},{\"id\":\"bc05b99c-f97c-4096-b9d5-5b058da6d758\",\"type\":\"GlyphRenderer\"},{\"id\":\"4a809bfa-59c4-4b1f-bfd9-0e4aa206cdbe\",\"type\":\"GlyphRenderer\"},{\"id\":\"da355d1b-6686-48c3-b4b0-ce7912a09a3d\",\"type\":\"GlyphRenderer\"},{\"id\":\"b0953a21-f03c-4c92-b506-ec87bd3e99ce\",\"type\":\"GlyphRenderer\"},{\"id\":\"7d1e738c-cdcf-4c71-a277-5bd06b7eb8a1\",\"type\":\"GlyphRenderer\"},{\"id\":\"4f08510f-b98b-4ddd-ad4e-99ca7c8e9d57\",\"type\":\"GlyphRenderer\"},{\"id\":\"08c49518-ae73-4094-9012-5fef10e6799a\",\"type\":\"GlyphRenderer\"},{\"id\":\"b999f392-cefb-4dd8-a6e1-38d3c4814fc6\",\"type\":\"GlyphRenderer\"},{\"id\":\"3ca33d80-b8ee-4017-84d9-7151014c4416\",\"type\":\"GlyphRenderer\"},{\"id\":\"99471e6d-719c-430b-9e7e-a4cc26c3ed06\",\"type\":\"Legend\"}],\"right\":[{\"id\":\"99471e6d-719c-430b-9e7e-a4cc26c3ed06\",\"type\":\"Legend\"}],\"title\":{\"id\":\"5b175359-ccf2-4427-8d57-e1844793ec7f\",\"type\":\"Title\"},\"tool_events\":{\"id\":\"a4af518f-4626-4190-84f3-fd64a7d3dc1f\",\"type\":\"ToolEvents\"},\"toolbar\":{\"id\":\"073dfe28-250e-4fe8-b49d-effeef4164ea\",\"type\":\"Toolbar\"},\"toolbar_location\":\"above\",\"x_range\":{\"id\":\"02c907a8-1d08-4095-a8fd-f42f52a0ce47\",\"type\":\"DataRange1d\"},\"y_range\":{\"id\":\"00299b0a-b134-49e8-9fa5-5de5b5802337\",\"type\":\"Range1d\"}},\"id\":\"cb6b18bb-b198-448c-90c1-404a1a02b8a0\",\"subtype\":\"Figure\",\"type\":\"Plot\"},{\"attributes\":{\"plot\":{\"id\":\"cb6b18bb-b198-448c-90c1-404a1a02b8a0\",\"subtype\":\"Figure\",\"type\":\"Plot\"}},\"id\":\"158b55b8-56d7-415a-a13a-7f1fa42b863d\",\"type\":\"WheelZoomTool\"},{\"attributes\":{\"dimension\":1,\"plot\":{\"id\":\"cb6b18bb-b198-448c-90c1-404a1a02b8a0\",\"subtype\":\"Figure\",\"type\":\"Plot\"},\"ticker\":{\"id\":\"804078b0-604d-4007-a30e-5d9cffe91422\",\"type\":\"BasicTicker\"}},\"id\":\"0a5fdc6f-3fd3-47a2-8036-382b92854fcc\",\"type\":\"Grid\"},{\"attributes\":{\"data_source\":{\"id\":\"5b10d620-07de-4a68-96bd-aa6936a17452\",\"type\":\"ColumnDataSource\"},\"glyph\":{\"id\":\"f2bb05e9-b5db-491b-98d2-ce8cd58da90c\",\"type\":\"Patch\"},\"hover_glyph\":null,\"nonselection_glyph\":{\"id\":\"e9aaa31f-458f-47bd-8a0b-076928c86212\",\"type\":\"Patch\"},\"selection_glyph\":null},\"id\":\"004c731a-ac18-4e04-993c-78fd72a60bd8\",\"type\":\"GlyphRenderer\"},{\"attributes\":{\"bottom_units\":\"screen\",\"fill_alpha\":{\"value\":0.5},\"fill_color\":{\"value\":\"lightgrey\"},\"left_units\":\"screen\",\"level\":\"overlay\",\"line_alpha\":{\"value\":1.0},\"line_color\":{\"value\":\"black\"},\"line_dash\":[4,4],\"line_width\":{\"value\":2},\"plot\":null,\"render_mode\":\"css\",\"right_units\":\"screen\",\"top_units\":\"screen\"},\"id\":\"3d7ddaf3-ddd4-4135-89cc-1b7a030912e8\",\"type\":\"BoxAnnotation\"},{\"attributes\":{\"fill_alpha\":{\"value\":0.1},\"fill_color\":{\"value\":\"#377eb8\"},\"line_alpha\":{\"value\":0.1},\"line_color\":{\"value\":\"#377eb8\"},\"x\":{\"field\":\"x\"},\"y\":{\"field\":\"y\"}},\"id\":\"4303f821-d71a-4840-8b5a-a45bc714243e\",\"type\":\"Patch\"},{\"attributes\":{\"fill_alpha\":{\"value\":0.1},\"fill_color\":{\"value\":\"#e41a1c\"},\"line_alpha\":{\"value\":0.1},\"line_color\":{\"value\":\"#e41a1c\"},\"x\":{\"field\":\"x\"},\"y\":{\"field\":\"y\"}},\"id\":\"f2bb05e9-b5db-491b-98d2-ce8cd58da90c\",\"type\":\"Patch\"},{\"attributes\":{\"plot\":{\"id\":\"cb6b18bb-b198-448c-90c1-404a1a02b8a0\",\"subtype\":\"Figure\",\"type\":\"Plot\"}},\"id\":\"8fe93d7d-93fc-4be1-b699-66fc3e4994ec\",\"type\":\"SaveTool\"},{\"attributes\":{\"plot\":{\"id\":\"cb6b18bb-b198-448c-90c1-404a1a02b8a0\",\"subtype\":\"Figure\",\"type\":\"Plot\"}},\"id\":\"6aaec42d-ff6f-4fbe-952d-2a5cadce0b27\",\"type\":\"ResetTool\"},{\"attributes\":{\"callback\":null},\"id\":\"02c907a8-1d08-4095-a8fd-f42f52a0ce47\",\"type\":\"DataRange1d\"},{\"attributes\":{\"use_scientific\":false},\"id\":\"0620a6eb-e74a-4b62-9885-641ab255c63e\",\"type\":\"BasicTickFormatter\"},{\"attributes\":{\"plot\":{\"id\":\"cb6b18bb-b198-448c-90c1-404a1a02b8a0\",\"subtype\":\"Figure\",\"type\":\"Plot\"},\"ticker\":{\"id\":\"505f68e8-9277-4430-af8d-6b9dc815216e\",\"type\":\"BasicTicker\"}},\"id\":\"98e47e7f-444a-43a0-86b1-ce732f4f6783\",\"type\":\"Grid\"},{\"attributes\":{\"axis_label\":\"T\",\"formatter\":{\"id\":\"0620a6eb-e74a-4b62-9885-641ab255c63e\",\"type\":\"BasicTickFormatter\"},\"plot\":{\"id\":\"cb6b18bb-b198-448c-90c1-404a1a02b8a0\",\"subtype\":\"Figure\",\"type\":\"Plot\"},\"ticker\":{\"id\":\"505f68e8-9277-4430-af8d-6b9dc815216e\",\"type\":\"BasicTicker\"}},\"id\":\"fd195ac8-3bff-46a0-8c39-a99fcdb63cfd\",\"type\":\"LinearAxis\"},{\"attributes\":{\"items\":[{\"id\":\"49456cf2-bcc8-489a-ab7f-552aa96a67d3\",\"type\":\"LegendItem\"},{\"id\":\"482445bf-7453-4af2-9369-71481addd8b4\",\"type\":\"LegendItem\"},{\"id\":\"b78131e3-41d4-4e3e-9b42-a5d09a63cae8\",\"type\":\"LegendItem\"},{\"id\":\"56d5bf87-b9a5-4b0e-85b8-26e4295e21f7\",\"type\":\"LegendItem\"},{\"id\":\"c448d4b7-9031-412f-8e8c-91b5d0924baa\",\"type\":\"LegendItem\"}],\"location\":[0,-30],\"plot\":{\"id\":\"cb6b18bb-b198-448c-90c1-404a1a02b8a0\",\"subtype\":\"Figure\",\"type\":\"Plot\"}},\"id\":\"99471e6d-719c-430b-9e7e-a4cc26c3ed06\",\"type\":\"Legend\"},{\"attributes\":{},\"id\":\"804078b0-604d-4007-a30e-5d9cffe91422\",\"type\":\"BasicTicker\"},{\"attributes\":{\"fill_alpha\":{\"value\":0.1},\"fill_color\":{\"value\":\"#1f77b4\"},\"line_alpha\":{\"value\":0.1},\"line_color\":{\"value\":\"#1f77b4\"},\"x\":{\"field\":\"x\"},\"y\":{\"field\":\"y\"}},\"id\":\"e9aaa31f-458f-47bd-8a0b-076928c86212\",\"type\":\"Patch\"},{\"attributes\":{\"callback\":null,\"column_names\":[\"x\",\"y\"],\"data\":{\"x\":[0,10000,20000,30000,40000,50000,60000,70000,80000,90000,100000,110000,120000,130000,140000,150000,160000,170000,180000,190000,200000,210000,220000,230000,240000,250000,260000,270000,280000,290000,300000,310000,320000,330000,340000,350000,360000,370000,380000,390000,400000,410000,420000,430000,440000,450000,460000,470000,480000,490000,500000,510000,520000,530000,540000,550000,560000,570000,580000,590000,600000,610000,620000,630000,640000,650000,660000,670000,680000,690000,700000,710000,720000,730000,740000,750000,760000,770000,780000,790000,800000,810000,820000,830000,840000,850000,860000,870000,880000,890000,900000,910000,920000,930000,940000,950000,960000,970000,980000,990000,990000,980000,970000,960000,950000,940000,930000,920000,910000,900000,890000,880000,870000,860000,850000,840000,830000,820000,810000,800000,790000,780000,770000,760000,750000,740000,730000,720000,710000,700000,690000,680000,670000,660000,650000,640000,630000,620000,610000,600000,590000,580000,570000,560000,550000,540000,530000,520000,510000,500000,490000,480000,470000,460000,450000,440000,430000,420000,410000,400000,390000,380000,370000,360000,350000,340000,330000,320000,310000,300000,290000,280000,270000,260000,250000,240000,230000,220000,210000,200000,190000,180000,170000,160000,150000,140000,130000,120000,110000,100000,90000,80000,70000,60000,50000,40000,30000,20000,10000,0],\"y\":{\"__ndarray__\":\"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\",\"dtype\":\"float64\",\"shape\":[200]}}},\"id\":\"6a7af9f4-5bed-4558-b421-c01654e67e22\",\"type\":\"ColumnDataSource\"},{\"attributes\":{\"label\":{\"value\":\"DQN\"},\"renderers\":[{\"id\":\"bc05b99c-f97c-4096-b9d5-5b058da6d758\",\"type\":\"GlyphRenderer\"}]},\"id\":\"49456cf2-bcc8-489a-ab7f-552aa96a67d3\",\"type\":\"LegendItem\"},{\"attributes\":{\"fill_alpha\":{\"value\":0.1},\"fill_color\":{\"value\":\"#1f77b4\"},\"line_alpha\":{\"value\":0.1},\"line_color\":{\"value\":\"#1f77b4\"},\"x\":{\"field\":\"x\"},\"y\":{\"field\":\"y\"}},\"id\":\"bf294b07-7cd2-4245-ba92-64c2a6a288b7\",\"type\":\"Patch\"},{\"attributes\":{\"data_source\":{\"id\":\"eac9a091-cfb8-4804-9d53-a695e5e3bcce\",\"type\":\"ColumnDataSource\"},\"glyph\":{\"id\":\"7f11ef6c-d5bd-4303-bcf9-dff5acfd485a\",\"type\":\"Patch\"},\"hover_glyph\":null,\"nonselection_glyph\":{\"id\":\"9974c4c9-eedf-4563-9b31-58a6c46f9333\",\"type\":\"Patch\"},\"selection_glyph\":null},\"id\":\"4f08510f-b98b-4ddd-ad4e-99ca7c8e9d57\",\"type\":\"GlyphRenderer\"},{\"attributes\":{\"fill_alpha\":{\"value\":0.1},\"fill_color\":{\"value\":\"#1f77b4\"},\"line_alpha\":{\"value\":0.1},\"line_color\":{\"value\":\"#1f77b4\"},\"x\":{\"field\":\"x\"},\"y\":{\"field\":\"y\"}},\"id\":\"0f8c9538-9816-47f9-be35-a9ff7228d499\",\"type\":\"Patch\"},{\"attributes\":{},\"id\":\"8fddfa0b-a6f8-4f0b-8698-1a7f6f89822c\",\"type\":\"BasicTickFormatter\"},{\"attributes\":{\"line_color\":{\"value\":\"#377eb8\"},\"line_width\":{\"value\":2},\"x\":{\"field\":\"x\"},\"y\":{\"field\":\"y\"}},\"id\":\"69479fe2-b1db-423c-85bf-ccea1eb2259d\",\"type\":\"Line\"},{\"attributes\":{\"callback\":null,\"column_names\":[\"x\",\"y\"],\"data\":{\"x\":[0,10000,20000,30000,40000,50000,60000,70000,80000,90000,100000,110000,120000,130000,140000,150000,160000,170000,180000,190000,200000,210000,220000,230000,240000,250000,260000,270000,280000,290000,300000,310000,320000,330000,340000,350000,360000,370000,380000,390000,400000,410000,420000,430000,440000,450000,460000,470000,480000,490000,500000,510000,520000,530000,540000,550000,560000,570000,580000,590000,600000,610000,620000,630000,640000,650000,660000,670000,680000,690000,700000,710000,720000,730000,740000,750000,760000,770000,780000,790000,800000,810000,820000,830000,840000,850000,860000,870000,880000,890000,900000,910000,920000,930000,940000,950000,960000,970000,980000,990000],\"y\":{\"__ndarray__\":\"AAAAAAAAAAC6OL3A6MLmv1TSVlqCXOC/RenSvySV2b9G6dK/JJXZv97e+lFqt+W/wo7Uo/VH5b+OPGhMWknpv+2pYjzsjOu/nuiWEnRT5r9wQbYsX5fpvyQrdnRtoOO/Y0AT2MvP67/WpxyTxf3vv683GmxV++i/iOZQaU3E6r9+7eTyeKHmv9PdV/3W7+e/M/bdXu916b9NWCbR8/PGv/I4DOavkMm/A8z+fQfB17+C+MFqOKvCPyVLzAxiRdS//ZZap3u6wb/yOAzmr5DJv6LQ2d2Hoqm/SE/BGmfTMT89rEZINcLEP5DcZYN8Wtc/7Ulgcw6e2T9SyEJ7XKXeP0v5juNpEYY/vTDQ02it1z+VCw1kYm/TP8ZbP9Pkus8/QPomTYOiyT+bEHzmppHBP3Jlz9LgetQ/IxDaOHFJvD+2ixFpLLrpP3rT/0MBBNI/O5uMSPzF2z/KnOoPlZPlP//9xRfnTNA/LvojQtCt3D9C+iZNg6LJP3rZ0TVSTeM/k7yDX9nUzj+gdLYmJVPgPyaLx3qmZ8A/z9LJwnK+1j/G2QJ2PT/oPwUknw6QSOU/qqmNNh7R4j+AufBx6TbnP6FaEehipdg/diNPLLls3D9TVIU/MHvoPwvxazHTn+4/M+I8QcYf7T9uaNFfqD3vP5LD8lv3vu0//TKwKtiO5T+9MuWM/HjiP+70IGPlju8/WzgPX59/5T/6H+xgUN3pPywETiCOWOc/Ny/+/vxQ2T9c3oZslIPkP71AphL74eI/4okIiSAF2j+vcQ+HLv3YP5SSZnSIANk/7rAvhlei4D9GSSNRiuPiP2HcqCYs5uI/JwR7XLTk4j9uzkdntmbkPxrefwsb5OI/BvkDLH3j4j96eRpmFVLgP7aZSdut+9g/dqb+el7n4j+qdEhNykrpP7KUtFWtTuk/K+3DMBZM6T+DTpfmk/DtP0YQyo2LL+k/fSjx4cHo4j+glyGx0DLrPxDQHIG/s+8/uAJDiMmT7j+Gl5nR+f7uP0vBVNcm5eI/tuCG2cQS8D94+MkR5qbsP97aaDXyt+k/5cJBu67S7D8=\",\"dtype\":\"float64\",\"shape\":[100]}}},\"id\":\"6194f13b-a64e-4736-bb19-af274d2de380\",\"type\":\"ColumnDataSource\"},{\"attributes\":{\"line_alpha\":{\"value\":0.1},\"line_color\":{\"value\":\"#1f77b4\"},\"line_width\":{\"value\":2},\"x\":{\"field\":\"x\"},\"y\":{\"field\":\"y\"}},\"id\":\"194c6e36-6caa-48ea-b7cc-3b2d46725f1b\",\"type\":\"Line\"},{\"attributes\":{\"line_color\":{\"value\":\"#e41a1c\"},\"line_width\":{\"value\":2},\"x\":{\"field\":\"x\"},\"y\":{\"field\":\"y\"}},\"id\":\"df8e0d88-8f4b-4c81-b75e-63068c8c0129\",\"type\":\"Line\"},{\"attributes\":{\"data_source\":{\"id\":\"6194f13b-a64e-4736-bb19-af274d2de380\",\"type\":\"ColumnDataSource\"},\"glyph\":{\"id\":\"df8e0d88-8f4b-4c81-b75e-63068c8c0129\",\"type\":\"Line\"},\"hover_glyph\":null,\"nonselection_glyph\":{\"id\":\"194c6e36-6caa-48ea-b7cc-3b2d46725f1b\",\"type\":\"Line\"},\"selection_glyph\":null},\"id\":\"bc05b99c-f97c-4096-b9d5-5b058da6d758\",\"type\":\"GlyphRenderer\"},{\"attributes\":{\"callback\":null,\"column_names\":[\"x\",\"y\"],\"data\":{\"x\":[0,10000,20000,30000,40000,50000,60000,70000,80000,90000,100000,110000,120000,130000,140000,150000,160000,170000,180000,190000,200000,210000,220000,230000,240000,250000,260000,270000,280000,290000,300000,310000,320000,330000,340000,350000,360000,370000,380000,390000,400000,410000,420000,430000,440000,450000,460000,470000,480000,490000,500000,510000,520000,530000,540000,550000,560000,570000,580000,590000,600000,610000,620000,630000,640000,650000,660000,670000,680000,690000,700000,710000,720000,730000,740000,750000,760000,770000,780000,790000,800000,810000,820000,830000,840000,850000,860000,870000,880000,890000,900000,910000,920000,930000,940000,950000,960000,970000,980000,990000],\"y\":{\"__ndarray__\":\"AAAAAAAAAADWpxyTxf3vv77jSDJvBea/IoDqAudd5L8+k7vcFxDbv8Y5YBV8iuS/to0xT2KA57/G/ApBOM3av3eXzQ9sHOi/q4yO+s646b+QHS8o8n3gv1Pxj37qJ+m/1qcck8X9778QcPZlYibbv8vk64YCzeO/CttPxvgw478mkXUz8YDfvwwiFmEURta/MxY09+Ma2r+iECSJJ53Qv/A4DOavkMm//VaudpJw0L/AASnt3ZWbv1gbphoS/c0/FUzBGmfTMT9eUjWcW97Iv3AlI6L3MMM/Uw1yRq1m2j/ylHmywePXP6ppRD8P0ek/pkFVa7rl6z+72jA35YfPP1seJV60j+M/VWzlmTfE6D9afZ5Lo1nuP4uuyBrdM/Y/lo8r6lXD9T/V4/HCBHfyP4OazGALPfY/qVR8UFcs9j/S7o1aBhX2P7busLIP3vo/Srlo0eUV9D+U9+hmk5bpPwCKrOVpePY/g19U6dq++z/C5Le+OZD3P3XvApAEdfc/0IYEfcot+j9mYuF8z676PwZUt5N+CPw/tUrZbzYg9z/+Jxws6DEAQFucsS0bowBADfRnXa4U/z9bMl46NlQCQJUF4PKHtgBAis7J+bOtAkC7H2dJ+34BQFO6q+rT6wBAIBTRNtmtAkCWTxr6l6sCQJO93vitKQVAfIcifKrqAUDW5c6G18ICQIuSpeT80AJAw88Oj4xzA0D0fm6eMmsEQD4Mf4XFHwNA/OSvpvfVAkAqq3URZt0CQPmc5V7k5AJAs1SzEypsAkCfGFAB3EwBQGOu5QvPVP8/pYgL2mMOA0AFXcpPLer/P+sliM/SMQFAKl+kDGu6AkDyJBXKzN4CQFwVW51U4AJAZ1ir/ZWdAUDy6VCJGUsBQOGR1vMa4gJAm/QWZQwyAUALoZ/77EgBQLLObaUOwQJAzrx8uchEAUCjpowG9Yb/P37iR7KD0QJAyTOU3sagAkAYwt6HafEBQCM7LG9GfQFAJsn5CL7DAkAlcSE+QX/6PwvGGIWa1/o/CX4WXtwPAUBOVgTgGnYCQGXJDU60sP8/7b8ijjon+T8=\",\"dtype\":\"float64\",\"shape\":[100]}}},\"id\":\"9c0cb396-a8a9-4736-b1fc-9b57acbea972\",\"type\":\"ColumnDataSource\"},{\"attributes\":{\"data_source\":{\"id\":\"6a7af9f4-5bed-4558-b421-c01654e67e22\",\"type\":\"ColumnDataSource\"},\"glyph\":{\"id\":\"4303f821-d71a-4840-8b5a-a45bc714243e\",\"type\":\"Patch\"},\"hover_glyph\":null,\"nonselection_glyph\":{\"id\":\"bf294b07-7cd2-4245-ba92-64c2a6a288b7\",\"type\":\"Patch\"},\"selection_glyph\":null},\"id\":\"4a809bfa-59c4-4b1f-bfd9-0e4aa206cdbe\",\"type\":\"GlyphRenderer\"},{\"attributes\":{\"fill_alpha\":{\"value\":0.1},\"fill_color\":{\"value\":\"#4daf4a\"},\"line_alpha\":{\"value\":0.1},\"line_color\":{\"value\":\"#4daf4a\"},\"x\":{\"field\":\"x\"},\"y\":{\"field\":\"y\"}},\"id\":\"92732c28-aef9-4317-adf1-7eac74dedfff\",\"type\":\"Patch\"},{\"attributes\":{\"callback\":null,\"column_names\":[\"x\",\"y\"],\"data\":{\"x\":[0,10000,20000,30000,40000,50000,60000,70000,80000,90000,100000,110000,120000,130000,140000,150000,160000,170000,180000,190000,200000,210000,220000,230000,240000,250000,260000,270000,280000,290000,300000,310000,320000,330000,340000,350000,360000,370000,380000,390000,400000,410000,420000,430000,440000,450000,460000,470000,480000,490000,500000,510000,520000,530000,540000,550000,560000,570000,580000,590000,600000,610000,620000,630000,640000,650000,660000,670000,680000,690000,700000,710000,720000,730000,740000,750000,760000,770000,780000,790000,800000,810000,820000,830000,840000,850000,860000,870000,880000,890000,900000,910000,920000,930000,940000,950000,960000,970000,980000,990000],\"y\":{\"__ndarray__\":\"AAAAAAAAAABwQbYsX5fpvyVKr5jVa+y/+k1aJEfy7r8GMMRUcu7jvwKkcQdUd+2/to0xT2KA57/VpxyTxf3vv2jrnklSEuu/zY93+IgP478K20/G+DDjv1Pxj37qJ+m/YhrASTE50b8iZAg7JB/Dv643GmxV++i/CttPxvgw479tvrcxjJ7Uv2x38ZZwieG/vn+DWwTY2b9G6dK/JJXZv0Xp0r8kldm/ROnSvySV2b8K20/G+DDjv2aH2XLn5N6/dnBdDUWs5b+FH+MvBEPKv9bljtuVlOG/fVFbjIj2t79G6dK/JJXZv6ZlaONB1ZG/5lRozWvh1L+aUcEaZ9MxP/M4DOavkMm/qmzpJH87vr8AUMEaZ9MxP5pRwRpn0zE/AFDBGmfTMT8mi8d6pmfAP/Pf1EmplL6/P/eAs4I957+nnv/7uZ/BP/I4DOavkMm/68O73jpAwr9eNzSPMyviv5uatg0mc+G/6mO5FV1R4L+6WBNZ3WfXv8bc61oNLtq/ph/LG1UwqT9qsINdJwjBv3b0eHykfuK/xoxo492zsr9eWZpyzBDGP05Fijtq+tA/kB/4X1ZTxz8eoiIIhVnYP6OWXlTGt9A/HZ2THHtD4T9N6J2x6Pihv6DaTd5PrNY/mkDRIQOLtD9dQ6NT0s7FP3A2wwesssc/LDMd83WR0T9dbAf19DjIP5MM0r87odo/qkD5lLYIyD+eyzxMRuPgP296PZ/kPdk/Bg9YuRkF2T8KKYJd5l/YP/JYE/at99M/oLhp9QTz1z9m8tWDtKzdP8n7isxqbdU/W1vu9ydr4z/Pfrk90QzoP/tSu30S2uI/NB49fDNO6T+1peDu6OXiP3YxDGC0SeM/O62Q/itW5D+IyfouCuHiP2LPIoafBtA/U5oonaPp4j+H7MRTnj3pP6RMKRSWO+k//i6c8gSg5z8Cbhk+aU3pPyqL+ETUB98/poABVfpX2j+c0mRO0N7mPwCuSDkdXes/EBkkI6GC6D8D4tsgW3DdP/obVpc4kbc/8hAdTtcp1j+GfEx7tQnZPwMFp2Li6eI/AUSwYNHr4j8=\",\"dtype\":\"float64\",\"shape\":[100]}}},\"id\":\"a632b88c-a9b7-4a2e-9dc9-fb3fb386ca1b\",\"type\":\"ColumnDataSource\"},{\"attributes\":{\"data_source\":{\"id\":\"4677f1aa-5fbe-4cc4-9a22-d9dc5ed838e1\",\"type\":\"ColumnDataSource\"},\"glyph\":{\"id\":\"92732c28-aef9-4317-adf1-7eac74dedfff\",\"type\":\"Patch\"},\"hover_glyph\":null,\"nonselection_glyph\":{\"id\":\"0f8c9538-9816-47f9-be35-a9ff7228d499\",\"type\":\"Patch\"},\"selection_glyph\":null},\"id\":\"b0953a21-f03c-4c92-b506-ec87bd3e99ce\",\"type\":\"GlyphRenderer\"},{\"attributes\":{\"data_source\":{\"id\":\"9c0cb396-a8a9-4736-b1fc-9b57acbea972\",\"type\":\"ColumnDataSource\"},\"glyph\":{\"id\":\"69479fe2-b1db-423c-85bf-ccea1eb2259d\",\"type\":\"Line\"},\"hover_glyph\":null,\"nonselection_glyph\":{\"id\":\"363fe382-f146-4dab-8f18-1d90da0e7cb7\",\"type\":\"Line\"},\"selection_glyph\":null},\"id\":\"da355d1b-6686-48c3-b4b0-ce7912a09a3d\",\"type\":\"GlyphRenderer\"},{\"attributes\":{\"line_alpha\":{\"value\":0.1},\"line_color\":{\"value\":\"#1f77b4\"},\"line_width\":{\"value\":2},\"x\":{\"field\":\"x\"},\"y\":{\"field\":\"y\"}},\"id\":\"363fe382-f146-4dab-8f18-1d90da0e7cb7\",\"type\":\"Line\"},{\"attributes\":{\"callback\":null,\"column_names\":[\"x\",\"y\"],\"data\":{\"x\":[0,10000,20000,30000,40000,50000,60000,70000,80000,90000,100000,110000,120000,130000,140000,150000,160000,170000,180000,190000,200000,210000,220000,230000,240000,250000,260000,270000,280000,290000,300000,310000,320000,330000,340000,350000,360000,370000,380000,390000,400000,410000,420000,430000,440000,450000,460000,470000,480000,490000,500000,510000,520000,530000,540000,550000,560000,570000,580000,590000,600000,610000,620000,630000,640000,650000,660000,670000,680000,690000,700000,710000,720000,730000,740000,750000,760000,770000,780000,790000,800000,810000,820000,830000,840000,850000,860000,870000,880000,890000,900000,910000,920000,930000,940000,950000,960000,970000,980000,990000,990000,980000,970000,960000,950000,940000,930000,920000,910000,900000,890000,880000,870000,860000,850000,840000,830000,820000,810000,800000,790000,780000,770000,760000,750000,740000,730000,720000,710000,700000,690000,680000,670000,660000,650000,640000,630000,620000,610000,600000,590000,580000,570000,560000,550000,540000,530000,520000,510000,500000,490000,480000,470000,460000,450000,440000,430000,420000,410000,400000,390000,380000,370000,360000,350000,340000,330000,320000,310000,300000,290000,280000,270000,260000,250000,240000,230000,220000,210000,200000,190000,180000,170000,160000,150000,140000,130000,120000,110000,100000,90000,80000,70000,60000,50000,40000,30000,20000,10000,0],\"y\":{\"__ndarray__\":\"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\",\"dtype\":\"float64\",\"shape\":[200]}}},\"id\":\"4677f1aa-5fbe-4cc4-9a22-d9dc5ed838e1\",\"type\":\"ColumnDataSource\"},{\"attributes\":{\"line_color\":{\"value\":\"#4daf4a\"},\"line_width\":{\"value\":2},\"x\":{\"field\":\"x\"},\"y\":{\"field\":\"y\"}},\"id\":\"5cfda5bf-8ee3-4bad-b9cf-a72081c96cc4\",\"type\":\"Line\"},{\"attributes\":{\"fill_alpha\":{\"value\":0.1},\"fill_color\":{\"value\":\"#1f77b4\"},\"line_alpha\":{\"value\":0.1},\"line_color\":{\"value\":\"#1f77b4\"},\"x\":{\"field\":\"x\"},\"y\":{\"field\":\"y\"}},\"id\":\"927d7419-b7e2-4776-969c-7af26a4f358f\",\"type\":\"Patch\"},{\"attributes\":{\"callback\":null,\"column_names\":[\"x\",\"y\"],\"data\":{\"x\":[0,10000,20000,30000,40000,50000,60000,70000,80000,90000,100000,110000,120000,130000,140000,150000,160000,170000,180000,190000,200000,210000,220000,230000,240000,250000,260000,270000,280000,290000,300000,310000,320000,330000,340000,350000,360000,370000,380000,390000,400000,410000,420000,430000,440000,450000,460000,470000,480000,490000,500000,510000,520000,530000,540000,550000,560000,570000,580000,590000,600000,610000,620000,630000,640000,650000,660000,670000,680000,690000,700000,710000,720000,730000,740000,750000,760000,770000,780000,790000,800000,810000,820000,830000,840000,850000,860000,870000,880000,890000,900000,910000,920000,930000,940000,950000,960000,970000,980000,990000,990000,980000,970000,960000,950000,940000,930000,920000,910000,900000,890000,880000,870000,860000,850000,840000,830000,820000,810000,800000,790000,780000,770000,760000,750000,740000,730000,720000,710000,700000,690000,680000,670000,660000,650000,640000,630000,620000,610000,600000,590000,580000,570000,560000,550000,540000,530000,520000,510000,500000,490000,480000,470000,460000,450000,440000,430000,420000,410000,400000,390000,380000,370000,360000,350000,340000,330000,320000,310000,300000,290000,280000,270000,260000,250000,240000,230000,220000,210000,200000,190000,180000,170000,160000,150000,140000,130000,120000,110000,100000,90000,80000,70000,60000,50000,40000,30000,20000,10000,0],\"y\":{\"__ndarray__\":\"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\",\"dtype\":\"float64\",\"shape\":[200]}}},\"id\":\"5b10d620-07de-4a68-96bd-aa6936a17452\",\"type\":\"ColumnDataSource\"},{\"attributes\":{\"line_color\":{\"value\":\"#ff7f00\"},\"line_width\":{\"value\":2},\"x\":{\"field\":\"x\"},\"y\":{\"field\":\"y\"}},\"id\":\"b079f338-7b4d-4891-a634-531f8b060536\",\"type\":\"Line\"},{\"attributes\":{\"callback\":null,\"column_names\":[\"x\",\"y\"],\"data\":{\"x\":[0,10000,20000,30000,40000,50000,60000,70000,80000,90000,100000,110000,120000,130000,140000,150000,160000,170000,180000,190000,200000,210000,220000,230000,240000,250000,260000,270000,280000,290000,300000,310000,320000,330000,340000,350000,360000,370000,380000,390000,400000,410000,420000,430000,440000,450000,460000,470000,480000,490000,500000,510000,520000,530000,540000,550000,560000,570000,580000,590000,600000,610000,620000,630000,640000,650000,660000,670000,680000,690000,700000,710000,720000,730000,740000,750000,760000,770000,780000,790000,800000,810000,820000,830000,840000,850000,860000,870000,880000,890000,900000,910000,920000,930000,940000,950000,960000,970000,980000,990000],\"y\":{\"__ndarray__\":\"AAAAAAAAAAC6OL3A6MLmvzY9pPkKi9y/RSYolGhS479z7EGe5dnov97e+lFqt+W/KvU6Clyu678J20/G+DDjvxExZ6kFtuG/cEG2LF+X6b/GOWAVfIrkvwnbT8b4MOO/CdtPxvgw478K20/G+DDjv4jHF0Xl+OG/CttPxvgw478DMxuxF3vLv2138ZZwieG/RenSvySV2b/NTMEaZ9MxPwaj8g1+Tqs/vr9+yUj6xT8SuNl0ChXGv+1JYHMOntk/SE/BGmfTMT9b54isv2d3P3IlI6L3MMM/QPomTYOiyT8GE4QT8mPiP7apExclv9g/7Ulgcw6e2T+T5KElUFHoPzkLDfrcB/E/natn1LFG5z+cp5ryIzHgP9lB5al8K+Q/Lk8ZKVYX7T+OCRnbIr/0P9Ktzi6Mrfc/8jx2/2qd9z/Au/2hSRvwP1rn50Lx4+8/ZlK3suCE8T8Tf0Xbgf32P/oyY798NOo/byOzX1bG9T/dUVQ8kfL2P6PzuG0aLPY/NmVNn9Wf9j8iCcnYP/j1P31to4D93vw/47he4Mdb/T/Y0lWBDOD4P9Yip18jUvk/Rcj7IY28+D/TLI8x7Kf3P5sgRi0iCP4/ittE+6cx+j/di+gunPf/P4DsBwPt8fs/WGGJtnLR+D/6deBJhmb/P6/e5432FPk/ErkbnJBM/D/25xXGM0/8P/JPDL3TTvw/CsFf4EUK+j/61YezcBz5P8mCmh3NJfg/YqjD6O7k+T82a362/lj8P9LAcicAtvs/hNNA8Zwj+T+aaOfpmTD7P90HCRKDHfk/omlYSjE29j/L86/xpCf5P8a/jiqxI/k/nr+IrlUj+T/QXrmXmCb5P75lQGXIBPk/0F/ZiiMk+T/uTiShfiH5P+3tSkAAoPk/JlLcOsUL+T/ANsNsSBT6P8gz64fh6/g/U2WMBikg+T+NhzJj4Fj8P+aKe8oMtfk/Le0kanYK+T/nWXCnXSP5P6YgNWgkXPw/xm+JKcDz+D8AqS9QZuX1P7jbuLtBlPc/nmXXPzqu9j+6MEDtcFT5PxYgsFdRKPk/sVJzDAPy9T8=\",\"dtype\":\"float64\",\"shape\":[100]}}},\"id\":\"53b447fc-8f7b-4015-bf58-e43c19610bc2\",\"type\":\"ColumnDataSource\"},{\"attributes\":{\"fill_alpha\":{\"value\":0.1},\"fill_color\":{\"value\":\"#1f77b4\"},\"line_alpha\":{\"value\":0.1},\"line_color\":{\"value\":\"#1f77b4\"},\"x\":{\"field\":\"x\"},\"y\":{\"field\":\"y\"}},\"id\":\"9974c4c9-eedf-4563-9b31-58a6c46f9333\",\"type\":\"Patch\"},{\"attributes\":{\"data_source\":{\"id\":\"a632b88c-a9b7-4a2e-9dc9-fb3fb386ca1b\",\"type\":\"ColumnDataSource\"},\"glyph\":{\"id\":\"5cfda5bf-8ee3-4bad-b9cf-a72081c96cc4\",\"type\":\"Line\"},\"hover_glyph\":null,\"nonselection_glyph\":{\"id\":\"24be1500-337b-498c-8cbe-1a0cff416db3\",\"type\":\"Line\"},\"selection_glyph\":null},\"id\":\"7d1e738c-cdcf-4c71-a277-5bd06b7eb8a1\",\"type\":\"GlyphRenderer\"},{\"attributes\":{\"line_alpha\":{\"value\":0.1},\"line_color\":{\"value\":\"#1f77b4\"},\"line_width\":{\"value\":2},\"x\":{\"field\":\"x\"},\"y\":{\"field\":\"y\"}},\"id\":\"24be1500-337b-498c-8cbe-1a0cff416db3\",\"type\":\"Line\"},{\"attributes\":{\"callback\":null,\"column_names\":[\"x\",\"y\"],\"data\":{\"x\":[0,10000,20000,30000,40000,50000,60000,70000,80000,90000,100000,110000,120000,130000,140000,150000,160000,170000,180000,190000,200000,210000,220000,230000,240000,250000,260000,270000,280000,290000,300000,310000,320000,330000,340000,350000,360000,370000,380000,390000,400000,410000,420000,430000,440000,450000,460000,470000,480000,490000,500000,510000,520000,530000,540000,550000,560000,570000,580000,590000,600000,610000,620000,630000,640000,650000,660000,670000,680000,690000,700000,710000,720000,730000,740000,750000,760000,770000,780000,790000,800000,810000,820000,830000,840000,850000,860000,870000,880000,890000,900000,910000,920000,930000,940000,950000,960000,970000,980000,990000,990000,980000,970000,960000,950000,940000,930000,920000,910000,900000,890000,880000,870000,860000,850000,840000,830000,820000,810000,800000,790000,780000,770000,760000,750000,740000,730000,720000,710000,700000,690000,680000,670000,660000,650000,640000,630000,620000,610000,600000,590000,580000,570000,560000,550000,540000,530000,520000,510000,500000,490000,480000,470000,460000,450000,440000,430000,420000,410000,400000,390000,380000,370000,360000,350000,340000,330000,320000,310000,300000,290000,280000,270000,260000,250000,240000,230000,220000,210000,200000,190000,180000,170000,160000,150000,140000,130000,120000,110000,100000,90000,80000,70000,60000,50000,40000,30000,20000,10000,0],\"y\":{\"__ndarray__\":\"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\",\"dtype\":\"float64\",\"shape\":[200]}}},\"id\":\"eac9a091-cfb8-4804-9d53-a695e5e3bcce\",\"type\":\"ColumnDataSource\"},{\"attributes\":{\"fill_alpha\":{\"value\":0.1},\"fill_color\":{\"value\":\"#984ea3\"},\"line_alpha\":{\"value\":0.1},\"line_color\":{\"value\":\"#984ea3\"},\"x\":{\"field\":\"x\"},\"y\":{\"field\":\"y\"}},\"id\":\"7f11ef6c-d5bd-4303-bcf9-dff5acfd485a\",\"type\":\"Patch\"},{\"attributes\":{\"fill_alpha\":{\"value\":0.1},\"fill_color\":{\"value\":\"#ff7f00\"},\"line_alpha\":{\"value\":0.1},\"line_color\":{\"value\":\"#ff7f00\"},\"x\":{\"field\":\"x\"},\"y\":{\"field\":\"y\"}},\"id\":\"4272bbb4-8011-4b73-b5f7-f979f9face40\",\"type\":\"Patch\"},{\"attributes\":{\"line_color\":{\"value\":\"#984ea3\"},\"line_width\":{\"value\":2},\"x\":{\"field\":\"x\"},\"y\":{\"field\":\"y\"}},\"id\":\"2719d59a-0ce5-47ef-8d86-d2e8d18b04ee\",\"type\":\"Line\"},{\"attributes\":{\"data_source\":{\"id\":\"53b447fc-8f7b-4015-bf58-e43c19610bc2\",\"type\":\"ColumnDataSource\"},\"glyph\":{\"id\":\"2719d59a-0ce5-47ef-8d86-d2e8d18b04ee\",\"type\":\"Line\"},\"hover_glyph\":null,\"nonselection_glyph\":{\"id\":\"70183191-e3cd-4203-b576-54e439c335bb\",\"type\":\"Line\"},\"selection_glyph\":null},\"id\":\"08c49518-ae73-4094-9012-5fef10e6799a\",\"type\":\"GlyphRenderer\"},{\"attributes\":{\"line_alpha\":{\"value\":0.1},\"line_color\":{\"value\":\"#1f77b4\"},\"line_width\":{\"value\":2},\"x\":{\"field\":\"x\"},\"y\":{\"field\":\"y\"}},\"id\":\"70183191-e3cd-4203-b576-54e439c335bb\",\"type\":\"Line\"},{\"attributes\":{\"callback\":null,\"column_names\":[\"x\",\"y\"],\"data\":{\"x\":[0,10000,20000,30000,40000,50000,60000,70000,80000,90000,100000,110000,120000,130000,140000,150000,160000,170000,180000,190000,200000,210000,220000,230000,240000,250000,260000,270000,280000,290000,300000,310000,320000,330000,340000,350000,360000,370000,380000,390000,400000,410000,420000,430000,440000,450000,460000,470000,480000,490000,500000,510000,520000,530000,540000,550000,560000,570000,580000,590000,600000,610000,620000,630000,640000,650000,660000,670000,680000,690000,700000,710000,720000,730000,740000,750000,760000,770000,780000,790000,800000,810000,820000,830000,840000,850000,860000,870000,880000,890000,900000,910000,920000,930000,940000,950000,960000,970000,980000,990000,990000,980000,970000,960000,950000,940000,930000,920000,910000,900000,890000,880000,870000,860000,850000,840000,830000,820000,810000,800000,790000,780000,770000,760000,750000,740000,730000,720000,710000,700000,690000,680000,670000,660000,650000,640000,630000,620000,610000,600000,590000,580000,570000,560000,550000,540000,530000,520000,510000,500000,490000,480000,470000,460000,450000,440000,430000,420000,410000,400000,390000,380000,370000,360000,350000,340000,330000,320000,310000,300000,290000,280000,270000,260000,250000,240000,230000,220000,210000,200000,190000,180000,170000,160000,150000,140000,130000,120000,110000,100000,90000,80000,70000,60000,50000,40000,30000,20000,10000,0],\"y\":{\"__ndarray__\":\"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\",\"dtype\":\"float64\",\"shape\":[200]}}},\"id\":\"2e924742-6d69-4c8d-a5dd-13cdb40b1a1d\",\"type\":\"ColumnDataSource\"},{\"attributes\":{\"callback\":null,\"column_names\":[\"x\",\"y\"],\"data\":{\"x\":[0,10000,20000,30000,40000,50000,60000,70000,80000,90000,100000,110000,120000,130000,140000,150000,160000,170000,180000,190000,200000,210000,220000,230000,240000,250000,260000,270000,280000,290000,300000,310000,320000,330000,340000,350000,360000,370000,380000,390000,400000,410000,420000,430000,440000,450000,460000,470000,480000,490000,500000,510000,520000,530000,540000,550000,560000,570000,580000,590000,600000,610000,620000,630000,640000,650000,660000,670000,680000,690000,700000,710000,720000,730000,740000,750000,760000,770000,780000,790000,800000,810000,820000,830000,840000,850000,860000,870000,880000,890000,900000,910000,920000,930000,940000,950000,960000,970000,980000,990000],\"y\":{\"__ndarray__\":\"AAAAAAAAAABwQbYsX5fpv77jSDJvBea/HfSXtcjm7b/WpxyTxf3vv3BBtixfl+m/w47Uo/VH5b/K5OuGAs3jv3BBtixfl+m/nuiWEnRT5r8K20/G+DDjv29Btixfl+m/MOeMFv4F3r9xIn0I98vgv/ZffOjWAMy/Fp+dRkg7178mkXUz8YDfv/I4DOavkMm/vX+DWwTY2b/KBEIf93HUv1JukYMXL9S/QPomTYOiyT/notckFjLYP2YYeJV35se/hvGitOmW0L8AUMEaZ9MxPxpKh0riKoK/AFDBGmfTMT9ztUtFkV2jv5rSB6B+OtG/Jlrp+NUnzT9ZT2V7WU3XP0bp0r8kldm/PPbvyqRE5796QEkc7Dvlv2Qe4BM+f9W/Zi8vVYBD5b/mfmexwZ7bv/Jj1Lq/CK0/Uuxt840M1D/lIF6VGLvNv/4b1MVLDtK/axl9vNBtyr8694hqXsfSP/I4DOavkMm/kDuaFSlIvD9Z5/iePt7QvwmTQ1sSYMK/QvomTYOiyT+fwRp2cbLWP3uad+Yoz9Q/PrZX7hTG4D/AiNpzDIDGP5N23GpLWsc/wmB2783r1z/V75w9GPvPP+IofFTUxNE/WfB2oIWY4j+7npeJp9bhPyPh2SDazOI/ZjFWQEaz2D9mupJTGgvZP5oKhKQFE+M/OIAW54XT6z/dR8PeekvjP/xqHeVAKOY/NQSdnOPUzz/YHhpwEqLtP/ZM2jFNkdg/idH9T94B2T+KKA3/PDHcP5MKFhDDiuo/kA0UErXn2T8k6PVmjFjJPzWeTdvOfOc/lYpER1uM3j8i6995GePiP/uRLHHO6uM/vg+mtqqUwT+OEKPUEHTZP9iPAMLpsuk/tmhKIILw2D+t6A1hx3rlP9mIRXnvzeE/ZjiAoN015D+WmFURdovbP0L2eV5mst4/2hkRDdvx5D/uhGGLL87lPxVBOw3DMuc/JY1kki+N6D8CT1wqVbfrP4amDbGKS8w/cTiQYi4C5T88nPAAxZzjP9BphFKGWt8/8K20cTCz3z/aj62gK6rrP9nn/M1HveA/ALEA/HxA5z8=\",\"dtype\":\"float64\",\"shape\":[100]}}},\"id\":\"46f33e7d-6568-4bde-b5e3-0a7380310292\",\"type\":\"ColumnDataSource\"},{\"attributes\":{\"data_source\":{\"id\":\"2e924742-6d69-4c8d-a5dd-13cdb40b1a1d\",\"type\":\"ColumnDataSource\"},\"glyph\":{\"id\":\"4272bbb4-8011-4b73-b5f7-f979f9face40\",\"type\":\"Patch\"},\"hover_glyph\":null,\"nonselection_glyph\":{\"id\":\"927d7419-b7e2-4776-969c-7af26a4f358f\",\"type\":\"Patch\"},\"selection_glyph\":null},\"id\":\"b999f392-cefb-4dd8-a6e1-38d3c4814fc6\",\"type\":\"GlyphRenderer\"},{\"attributes\":{\"data_source\":{\"id\":\"46f33e7d-6568-4bde-b5e3-0a7380310292\",\"type\":\"ColumnDataSource\"},\"glyph\":{\"id\":\"b079f338-7b4d-4891-a634-531f8b060536\",\"type\":\"Line\"},\"hover_glyph\":null,\"nonselection_glyph\":{\"id\":\"aa2ddc14-13cf-454b-baff-e828a1a09b04\",\"type\":\"Line\"},\"selection_glyph\":null},\"id\":\"3ca33d80-b8ee-4017-84d9-7151014c4416\",\"type\":\"GlyphRenderer\"},{\"attributes\":{\"line_alpha\":{\"value\":0.1},\"line_color\":{\"value\":\"#1f77b4\"},\"line_width\":{\"value\":2},\"x\":{\"field\":\"x\"},\"y\":{\"field\":\"y\"}},\"id\":\"aa2ddc14-13cf-454b-baff-e828a1a09b04\",\"type\":\"Line\"},{\"attributes\":{\"label\":{\"value\":\"Count_Conv_True\"},\"renderers\":[{\"id\":\"da355d1b-6686-48c3-b4b0-ce7912a09a3d\",\"type\":\"GlyphRenderer\"}]},\"id\":\"482445bf-7453-4af2-9369-71481addd8b4\",\"type\":\"LegendItem\"},{\"attributes\":{\"label\":{\"value\":\"Count_Conv_True_Epsilon\"},\"renderers\":[{\"id\":\"7d1e738c-cdcf-4c71-a277-5bd06b7eb8a1\",\"type\":\"GlyphRenderer\"}]},\"id\":\"b78131e3-41d4-4e3e-9b42-a5d09a63cae8\",\"type\":\"LegendItem\"},{\"attributes\":{\"label\":{\"value\":\"Count_Conv_False\"},\"renderers\":[{\"id\":\"08c49518-ae73-4094-9012-5fef10e6799a\",\"type\":\"GlyphRenderer\"}]},\"id\":\"56d5bf87-b9a5-4b0e-85b8-26e4295e21f7\",\"type\":\"LegendItem\"},{\"attributes\":{\"label\":{\"value\":\"Count_Conv_False_Epsilon\"},\"renderers\":[{\"id\":\"3ca33d80-b8ee-4017-84d9-7151014c4416\",\"type\":\"GlyphRenderer\"}]},\"id\":\"c448d4b7-9031-412f-8e8c-91b5d0924baa\",\"type\":\"LegendItem\"}],\"root_ids\":[\"cb6b18bb-b198-448c-90c1-404a1a02b8a0\"]},\"title\":\"Bokeh Application\",\"version\":\"0.12.4\"}};\n",
       "            var render_items = [{\"docid\":\"55861206-c9c1-488d-8c43-6fe687bd8870\",\"elementid\":\"3089cc6c-20c5-4179-94d9-3f57c874bc17\",\"modelid\":\"cb6b18bb-b198-448c-90c1-404a1a02b8a0\"}];\n",
       "            \n",
       "            Bokeh.embed.embed_items(docs_json, render_items);\n",
       "          };\n",
       "          if (document.readyState != \"loading\") fn();\n",
       "          else document.addEventListener(\"DOMContentLoaded\", fn);\n",
       "        })();\n",
       "      },\n",
       "      function(Bokeh) {\n",
       "      }\n",
       "    ];\n",
       "  \n",
       "    function run_inline_js() {\n",
       "      \n",
       "      if ((window.Bokeh !== undefined) || (force === true)) {\n",
       "        for (var i = 0; i < inline_js.length; i++) {\n",
       "          inline_js[i](window.Bokeh);\n",
       "        }if (force === true) {\n",
       "          display_loaded();\n",
       "        }} else if (Date.now() < window._bokeh_timeout) {\n",
       "        setTimeout(run_inline_js, 100);\n",
       "      } else if (!window._bokeh_failed_load) {\n",
       "        console.log(\"Bokeh: BokehJS failed to load within specified timeout.\");\n",
       "        window._bokeh_failed_load = true;\n",
       "      } else if (force !== true) {\n",
       "        var cell = $(document.getElementById(\"3089cc6c-20c5-4179-94d9-3f57c874bc17\")).parents('.cell').data().cell;\n",
       "        cell.output_area.append_execute_result(NB_LOAD_WARNING)\n",
       "      }\n",
       "  \n",
       "    }\n",
       "  \n",
       "    if (window._bokeh_is_loading === 0) {\n",
       "      console.log(\"Bokeh: BokehJS loaded, going straight to plotting\");\n",
       "      run_inline_js();\n",
       "    } else {\n",
       "      load_libs(js_urls, function() {\n",
       "        console.log(\"Bokeh: BokehJS plotting callback run at\", now());\n",
       "        run_inline_js();\n",
       "      });\n",
       "    }\n",
       "  }(this));\n",
       "</script>"
      ]
     },
     "metadata": {},
     "output_type": "display_data"
    }
   ],
   "source": [
    "plot_averages_b(names, t_maxs, Set1[5], legends, directories, step=10000, title=\"Maze 5\")"
   ]
  },
  {
   "cell_type": "code",
   "execution_count": null,
   "metadata": {
    "collapsed": true
   },
   "outputs": [],
   "source": []
  },
  {
   "cell_type": "code",
   "execution_count": null,
   "metadata": {
    "collapsed": true
   },
   "outputs": [],
   "source": []
  },
  {
   "cell_type": "code",
   "execution_count": null,
   "metadata": {
    "collapsed": true
   },
   "outputs": [],
   "source": []
  },
  {
   "cell_type": "code",
   "execution_count": null,
   "metadata": {
    "collapsed": true
   },
   "outputs": [],
   "source": [
    "DQN_Smoothed = []\n",
    "for times, rewards in zip(DQN_Lengths_C, DQN_Rewards):\n",
    "    linear = interp1d(times, rewards, kind=\"linear\")\n",
    "    linear_rewards = linear([i for i in range(500000)])\n",
    "    DQN_Smoothed.append(linear_rewards)"
   ]
  },
  {
   "cell_type": "code",
   "execution_count": null,
   "metadata": {
    "collapsed": true
   },
   "outputs": [],
   "source": [
    "DQN_Means = np.mean(DQN_Smoothed, axis=0)"
   ]
  },
  {
   "cell_type": "code",
   "execution_count": null,
   "metadata": {
    "collapsed": true
   },
   "outputs": [],
   "source": [
    "DQN_Stds = np.std(DQN_Smoothed, axis=0)"
   ]
  },
  {
   "cell_type": "code",
   "execution_count": null,
   "metadata": {
    "collapsed": false
   },
   "outputs": [],
   "source": [
    "plt.fill_between([i for i in range(500000)], DQN_Means - DQN_Stds, DQN_Means + DQN_Stds, color=\"red\", alpha=0.3, edgecolor=\"white\")\n",
    "\n",
    "plt.plot([i for i in range(500000)], DQN_Means, color=\"red\")"
   ]
  },
  {
   "cell_type": "code",
   "execution_count": null,
   "metadata": {
    "collapsed": false
   },
   "outputs": [],
   "source": [
    "len(DQN_Repeat)"
   ]
  },
  {
   "cell_type": "code",
   "execution_count": null,
   "metadata": {
    "collapsed": true
   },
   "outputs": [],
   "source": [
    "plt.plot(DQN)"
   ]
  },
  {
   "cell_type": "code",
   "execution_count": null,
   "metadata": {
    "collapsed": true
   },
   "outputs": [],
   "source": [
    "directories = [\"Logs/\"]"
   ]
  },
  {
   "cell_type": "code",
   "execution_count": null,
   "metadata": {
    "collapsed": false
   },
   "outputs": [],
   "source": [
    "for i in range(0, 10, 2):\n",
    "    print(i)"
   ]
  },
  {
   "cell_type": "code",
   "execution_count": null,
   "metadata": {
    "collapsed": true
   },
   "outputs": [],
   "source": []
  }
 ],
 "metadata": {
  "kernelspec": {
   "display_name": "Python 3",
   "language": "python",
   "name": "python3"
  },
  "language_info": {
   "codemirror_mode": {
    "name": "ipython",
    "version": 3
   },
   "file_extension": ".py",
   "mimetype": "text/x-python",
   "name": "python",
   "nbconvert_exporter": "python",
   "pygments_lexer": "ipython3",
   "version": "3.6.0"
  }
 },
 "nbformat": 4,
 "nbformat_minor": 2
}
