{
 "cells": [
  {
   "cell_type": "code",
   "execution_count": 1,
   "metadata": {
    "collapsed": false,
    "deletable": true,
    "editable": true
   },
   "outputs": [
    {
     "data": {
      "text/html": [
       "\n",
       "    <div class=\"bk-root\">\n",
       "        <a href=\"http://bokeh.pydata.org\" target=\"_blank\" class=\"bk-logo bk-logo-small bk-logo-notebook\"></a>\n",
       "        <span id=\"0d8bc537-03fe-46fa-89e2-0eb9766402d8\">Loading BokehJS ...</span>\n",
       "    </div>"
      ]
     },
     "metadata": {},
     "output_type": "display_data"
    },
    {
     "data": {
      "application/javascript": [
       "\n",
       "(function(global) {\n",
       "  function now() {\n",
       "    return new Date();\n",
       "  }\n",
       "\n",
       "  var force = true;\n",
       "\n",
       "  if (typeof (window._bokeh_onload_callbacks) === \"undefined\" || force === true) {\n",
       "    window._bokeh_onload_callbacks = [];\n",
       "    window._bokeh_is_loading = undefined;\n",
       "  }\n",
       "\n",
       "\n",
       "  \n",
       "  if (typeof (window._bokeh_timeout) === \"undefined\" || force === true) {\n",
       "    window._bokeh_timeout = Date.now() + 5000;\n",
       "    window._bokeh_failed_load = false;\n",
       "  }\n",
       "\n",
       "  var NB_LOAD_WARNING = {'data': {'text/html':\n",
       "     \"<div style='background-color: #fdd'>\\n\"+\n",
       "     \"<p>\\n\"+\n",
       "     \"BokehJS does not appear to have successfully loaded. If loading BokehJS from CDN, this \\n\"+\n",
       "     \"may be due to a slow or bad network connection. Possible fixes:\\n\"+\n",
       "     \"</p>\\n\"+\n",
       "     \"<ul>\\n\"+\n",
       "     \"<li>re-rerun `output_notebook()` to attempt to load from CDN again, or</li>\\n\"+\n",
       "     \"<li>use INLINE resources instead, as so:</li>\\n\"+\n",
       "     \"</ul>\\n\"+\n",
       "     \"<code>\\n\"+\n",
       "     \"from bokeh.resources import INLINE\\n\"+\n",
       "     \"output_notebook(resources=INLINE)\\n\"+\n",
       "     \"</code>\\n\"+\n",
       "     \"</div>\"}};\n",
       "\n",
       "  function display_loaded() {\n",
       "    if (window.Bokeh !== undefined) {\n",
       "      document.getElementById(\"0d8bc537-03fe-46fa-89e2-0eb9766402d8\").textContent = \"BokehJS successfully loaded.\";\n",
       "    } else if (Date.now() < window._bokeh_timeout) {\n",
       "      setTimeout(display_loaded, 100)\n",
       "    }\n",
       "  }\n",
       "\n",
       "  function run_callbacks() {\n",
       "    window._bokeh_onload_callbacks.forEach(function(callback) { callback() });\n",
       "    delete window._bokeh_onload_callbacks\n",
       "    console.info(\"Bokeh: all callbacks have finished\");\n",
       "  }\n",
       "\n",
       "  function load_libs(js_urls, callback) {\n",
       "    window._bokeh_onload_callbacks.push(callback);\n",
       "    if (window._bokeh_is_loading > 0) {\n",
       "      console.log(\"Bokeh: BokehJS is being loaded, scheduling callback at\", now());\n",
       "      return null;\n",
       "    }\n",
       "    if (js_urls == null || js_urls.length === 0) {\n",
       "      run_callbacks();\n",
       "      return null;\n",
       "    }\n",
       "    console.log(\"Bokeh: BokehJS not loaded, scheduling load and callback at\", now());\n",
       "    window._bokeh_is_loading = js_urls.length;\n",
       "    for (var i = 0; i < js_urls.length; i++) {\n",
       "      var url = js_urls[i];\n",
       "      var s = document.createElement('script');\n",
       "      s.src = url;\n",
       "      s.async = false;\n",
       "      s.onreadystatechange = s.onload = function() {\n",
       "        window._bokeh_is_loading--;\n",
       "        if (window._bokeh_is_loading === 0) {\n",
       "          console.log(\"Bokeh: all BokehJS libraries loaded\");\n",
       "          run_callbacks()\n",
       "        }\n",
       "      };\n",
       "      s.onerror = function() {\n",
       "        console.warn(\"failed to load library \" + url);\n",
       "      };\n",
       "      console.log(\"Bokeh: injecting script tag for BokehJS library: \", url);\n",
       "      document.getElementsByTagName(\"head\")[0].appendChild(s);\n",
       "    }\n",
       "  };var element = document.getElementById(\"0d8bc537-03fe-46fa-89e2-0eb9766402d8\");\n",
       "  if (element == null) {\n",
       "    console.log(\"Bokeh: ERROR: autoload.js configured with elementid '0d8bc537-03fe-46fa-89e2-0eb9766402d8' but no matching script tag was found. \")\n",
       "    return false;\n",
       "  }\n",
       "\n",
       "  var js_urls = [\"https://cdn.pydata.org/bokeh/release/bokeh-0.12.4.min.js\", \"https://cdn.pydata.org/bokeh/release/bokeh-widgets-0.12.4.min.js\"];\n",
       "\n",
       "  var inline_js = [\n",
       "    function(Bokeh) {\n",
       "      Bokeh.set_log_level(\"info\");\n",
       "    },\n",
       "    \n",
       "    function(Bokeh) {\n",
       "      \n",
       "      document.getElementById(\"0d8bc537-03fe-46fa-89e2-0eb9766402d8\").textContent = \"BokehJS is loading...\";\n",
       "    },\n",
       "    function(Bokeh) {\n",
       "      console.log(\"Bokeh: injecting CSS: https://cdn.pydata.org/bokeh/release/bokeh-0.12.4.min.css\");\n",
       "      Bokeh.embed.inject_css(\"https://cdn.pydata.org/bokeh/release/bokeh-0.12.4.min.css\");\n",
       "      console.log(\"Bokeh: injecting CSS: https://cdn.pydata.org/bokeh/release/bokeh-widgets-0.12.4.min.css\");\n",
       "      Bokeh.embed.inject_css(\"https://cdn.pydata.org/bokeh/release/bokeh-widgets-0.12.4.min.css\");\n",
       "    }\n",
       "  ];\n",
       "\n",
       "  function run_inline_js() {\n",
       "    \n",
       "    if ((window.Bokeh !== undefined) || (force === true)) {\n",
       "      for (var i = 0; i < inline_js.length; i++) {\n",
       "        inline_js[i](window.Bokeh);\n",
       "      }if (force === true) {\n",
       "        display_loaded();\n",
       "      }} else if (Date.now() < window._bokeh_timeout) {\n",
       "      setTimeout(run_inline_js, 100);\n",
       "    } else if (!window._bokeh_failed_load) {\n",
       "      console.log(\"Bokeh: BokehJS failed to load within specified timeout.\");\n",
       "      window._bokeh_failed_load = true;\n",
       "    } else if (force !== true) {\n",
       "      var cell = $(document.getElementById(\"0d8bc537-03fe-46fa-89e2-0eb9766402d8\")).parents('.cell').data().cell;\n",
       "      cell.output_area.append_execute_result(NB_LOAD_WARNING)\n",
       "    }\n",
       "\n",
       "  }\n",
       "\n",
       "  if (window._bokeh_is_loading === 0) {\n",
       "    console.log(\"Bokeh: BokehJS loaded, going straight to plotting\");\n",
       "    run_inline_js();\n",
       "  } else {\n",
       "    load_libs(js_urls, function() {\n",
       "      console.log(\"Bokeh: BokehJS plotting callback run at\", now());\n",
       "      run_inline_js();\n",
       "    });\n",
       "  }\n",
       "}(this));"
      ]
     },
     "metadata": {},
     "output_type": "display_data"
    }
   ],
   "source": [
    "from bokeh.plotting import figure, output_notebook, show\n",
    "output_notebook()"
   ]
  },
  {
   "cell_type": "code",
   "execution_count": 2,
   "metadata": {
    "collapsed": true,
    "deletable": true,
    "editable": true
   },
   "outputs": [],
   "source": [
    "import glob"
   ]
  },
  {
   "cell_type": "code",
   "execution_count": 3,
   "metadata": {
    "collapsed": true,
    "deletable": true,
    "editable": true
   },
   "outputs": [],
   "source": [
    "import numpy as np"
   ]
  },
  {
   "cell_type": "code",
   "execution_count": 4,
   "metadata": {
    "collapsed": true,
    "deletable": true,
    "editable": true
   },
   "outputs": [],
   "source": [
    "from scipy.interpolate import interp1d\n",
    "from scipy.interpolate import spline"
   ]
  },
  {
   "cell_type": "code",
   "execution_count": 5,
   "metadata": {
    "collapsed": true,
    "deletable": true,
    "editable": true
   },
   "outputs": [],
   "source": [
    "from tqdm import tqdm"
   ]
  },
  {
   "cell_type": "code",
   "execution_count": 6,
   "metadata": {
    "collapsed": true,
    "deletable": true,
    "editable": true
   },
   "outputs": [],
   "source": [
    "DQN_Rewards_Path = \"/home/tabz/Dropbox/RL/Log_Files/March 2017/Maze_5_Batch_Sizes_Logs/*DQN*/logs/Episode_Rewards.txt\"\n",
    "DQN_Lengths_Path = \"/home/tabz/Dropbox/RL/Log_Files/March 2017/Maze_5_Batch_Sizes_Logs/*DQN*/logs/Episode_Lengths.txt\"\n",
    "DQN_Rewards = []\n",
    "DQN_Lengths = []\n",
    "DQN_Lengths_C = []"
   ]
  },
  {
   "cell_type": "code",
   "execution_count": 7,
   "metadata": {
    "collapsed": true,
    "deletable": true,
    "editable": true
   },
   "outputs": [],
   "source": [
    "for filename in glob.glob(DQN_Rewards_Path):\n",
    "    run_logs = [0]\n",
    "#     print(filename)\n",
    "    with open(filename, \"r\") as f:\n",
    "        for line in f:\n",
    "            try:\n",
    "                ep_r = float(line)\n",
    "            except:\n",
    "                continue\n",
    "            run_logs.append(ep_r)\n",
    "    DQN_Rewards.append(run_logs)"
   ]
  },
  {
   "cell_type": "code",
   "execution_count": 8,
   "metadata": {
    "collapsed": true,
    "deletable": true,
    "editable": true
   },
   "outputs": [],
   "source": [
    "for filename in glob.glob(DQN_Lengths_Path):\n",
    "    run_logs = [0]\n",
    "#     print(filename)\n",
    "    with open(filename, \"r\") as f:\n",
    "        for line in f:\n",
    "            try:\n",
    "                ep_r = float(line)\n",
    "            except:\n",
    "                continue\n",
    "            run_logs.append(ep_r)\n",
    "    DQN_Lengths.append(run_logs)\n",
    "    run_logs_c = np.cumsum(run_logs).astype(np.int32)\n",
    "    DQN_Lengths_C.append(run_logs_c)"
   ]
  },
  {
   "cell_type": "markdown",
   "metadata": {
    "collapsed": false,
    "deletable": true,
    "editable": true
   },
   "source": [
    "for lens, runs in zip(DQN_Lengths_C, DQN_Rewards):\n",
    "    plt.plot(lens, runs)\n",
    "plt.show()"
   ]
  },
  {
   "cell_type": "markdown",
   "metadata": {
    "collapsed": false,
    "deletable": true,
    "editable": true
   },
   "source": [
    "p = figure(width=500, height=500, y_range=(-1,3))\n",
    "for lens, runs in zip(DQN_Lengths_C, DQN_Rewards):\n",
    "    p.line(lens, runs)\n",
    "show(p)"
   ]
  },
  {
   "cell_type": "code",
   "execution_count": null,
   "metadata": {
    "collapsed": true,
    "deletable": true,
    "editable": true
   },
   "outputs": [],
   "source": []
  },
  {
   "cell_type": "markdown",
   "metadata": {
    "collapsed": true,
    "deletable": true,
    "editable": true
   },
   "source": [
    "def plot_averages(names, t_maxs, colors, legends=None, directory=\"Logs/\", step=10):\n",
    "    plt.figure(figsize=(10,10))\n",
    "    plt.ylim(-1, 3)\n",
    "    for name, color, t_max in tqdm(zip(names, colors, t_maxs)):\n",
    "        # TODO: Remove DQN from names\n",
    "        DQN_Rewards_Path = directory + \"*\" + name + \"*/logs/Episode_Rewards.txt\"\n",
    "        DQN_Lengths_Path = directory + \"*\" + name + \"*/logs/Episode_Lengths.txt\"\n",
    "        DQN_Rewards = []\n",
    "        DQN_Lengths = []\n",
    "        DQN_Lengths_C = []\n",
    "        for filename in glob.glob(DQN_Rewards_Path):\n",
    "            run_logs = [0]\n",
    "            with open(filename, \"r\") as f:\n",
    "                for line in f:\n",
    "                    try:\n",
    "                        ep_r = float(line)\n",
    "                    except:\n",
    "                        continue\n",
    "                    run_logs.append(ep_r)\n",
    "            DQN_Rewards.append(run_logs)\n",
    "        for filename in glob.glob(DQN_Lengths_Path):\n",
    "            run_logs = [0]\n",
    "        #     print(filename)\n",
    "            with open(filename, \"r\") as f:\n",
    "                for line in f:\n",
    "                    try:\n",
    "                        ep_r = float(line)\n",
    "                    except:\n",
    "                        continue\n",
    "                    run_logs.append(ep_r)\n",
    "            DQN_Lengths.append(run_logs)\n",
    "            run_logs_c = np.cumsum(run_logs).astype(np.int32)\n",
    "            DQN_Lengths_C.append(run_logs_c)\n",
    "        DQN_Smoothed = []\n",
    "        for times, rewards in zip(DQN_Lengths_C, DQN_Rewards):\n",
    "#             linear = interp1d(times, rewards, kind=\"linear\")\n",
    "#             linear_rewards = linear([i for i in range(500000)])\n",
    "#             DQN_Smoothed.append(linear_rewards)\n",
    "            spline_rewards = spline(times, rewards, [i for i in range(0, t_max, step)])\n",
    "            DQN_Smoothed.append(spline_rewards)\n",
    "        DQN_Means = np.mean(DQN_Smoothed, axis=0)\n",
    "        DQN_Stds = np.std(DQN_Smoothed, axis=0)\n",
    "        plt.fill_between([i for i in range(0, t_max, step)], DQN_Means - DQN_Stds, DQN_Means + DQN_Stds, color=color, alpha=0.2, edgecolor=\"white\")\n",
    "\n",
    "        plt.plot([i for i in range(0, t_max, step)], DQN_Means, color=color)\n",
    "\n",
    "    plt.title(\"Episode_Reward\")\n",
    "    plt.xlabel(\"T\")\n",
    "    plt.ylabel(\"Reward\")\n",
    "    if legends is not None:\n",
    "        plt.legend(legends, bbox_to_anchor=(1.05, 1), loc=2)\n",
    "    plt.show()"
   ]
  },
  {
   "cell_type": "code",
   "execution_count": 9,
   "metadata": {
    "collapsed": true,
    "deletable": true,
    "editable": true
   },
   "outputs": [],
   "source": [
    "from bokeh.models import Legend\n",
    "from bokeh.models.formatters import BasicTickFormatter\n",
    "from bokeh.models import HoverTool, TapTool"
   ]
  },
  {
   "cell_type": "code",
   "execution_count": 10,
   "metadata": {
    "collapsed": false,
    "deletable": true,
    "editable": true
   },
   "outputs": [],
   "source": [
    "def plot_averages_b(names, t_maxs, colors, legends, directories=\"Logs/\", step=10, title=\"\"):\n",
    "#     plt.figure(figsize=(10,10))\n",
    "    p = figure(width=800, height=800, y_range=(-1.2, 3.2), title=title)\n",
    "    p.toolbar_location = \"above\"\n",
    "    p.yaxis.axis_label = \"Episode Reward\"\n",
    "    p.xaxis.axis_label = \"T\"\n",
    "    p.xaxis.formatter = BasicTickFormatter(use_scientific=False)\n",
    "#     p = figure(width=800, height=500)\n",
    "    lines = []\n",
    "    alpha_lines = []\n",
    "    if isinstance(directories, str):\n",
    "        dd = directories\n",
    "        directories = [dd for _ in names]\n",
    "    for name, color, t_max, legend, directory in zip(names, colors, t_maxs, legends, directories):\n",
    "#         print(directory)\n",
    "        DQN_Rewards_Path = directory + \"*\" + name + \"*/logs/Episode_Rewards.txt\"\n",
    "        DQN_Lengths_Path = directory + \"*\" + name + \"*/logs/Episode_Lengths.txt\"\n",
    "        DQN_Rewards = []\n",
    "        DQN_Lengths = []\n",
    "        DQN_Lengths_C = []\n",
    "        for filename in glob.glob(DQN_Rewards_Path):\n",
    "            run_logs = [0]\n",
    "            with open(filename, \"r\") as f:\n",
    "#                 print(f)\n",
    "                for line in f:\n",
    "                    try:\n",
    "                        ep_r = float(line)\n",
    "                    except:\n",
    "                        print(\"Nothing here for:\", filename)\n",
    "                        continue\n",
    "                    run_logs.append(ep_r)\n",
    "            DQN_Rewards.append(run_logs)\n",
    "        for filename in glob.glob(DQN_Lengths_Path):\n",
    "            run_logs = [0]\n",
    "        #     print(filename)\n",
    "            with open(filename, \"r\") as f:\n",
    "                for line in f:\n",
    "                    try:\n",
    "                        ep_r = float(line)\n",
    "                    except:\n",
    "                        continue\n",
    "                    run_logs.append(ep_r)\n",
    "            DQN_Lengths.append(run_logs)\n",
    "            run_logs_c = np.cumsum(run_logs).astype(np.int32)\n",
    "            DQN_Lengths_C.append(run_logs_c)\n",
    "        DQN_Smoothed = []\n",
    "        for times, rewards in zip(DQN_Lengths_C, DQN_Rewards):\n",
    "#             linear = interp1d(times, rewards, kind=\"linear\")\n",
    "#             linear_rewards = linear([i for i in range(500000)])\n",
    "#             DQN_Smoothed.append(linear_rewards)\n",
    "            spline_rewards = spline(times, rewards, [i for i in range(0, t_max, step)], order=1)\n",
    "            DQN_Smoothed.append(spline_rewards)\n",
    "        DQN_Means = np.mean(DQN_Smoothed, axis=0)\n",
    "        DQN_Stds = np.std(DQN_Smoothed, axis=0)\n",
    "        \n",
    "#         plt.fill_between([i for i in range(0, t_max, step)], DQN_Means - DQN_Stds, DQN_Means + DQN_Stds, color=color, alpha=0.2, edgecolor=\"white\")\n",
    "        # Error bars\n",
    "        xs = [i for i in range(0, t_max, step)]\n",
    "        xs = xs + list(reversed(xs))\n",
    "        ys = np.concatenate([DQN_Means - DQN_Stds, np.flip(DQN_Means + DQN_Stds, axis=0)])\n",
    "        lls = p.patch(xs, ys, color=color, alpha=0.1)\n",
    "\n",
    "        \n",
    "#         for x, y, yerr in zip(range(0, t_max, step), DQN_Means, DQN_Stds):\n",
    "#             lls = p.line([x, x], [y - yerr, y + yerr], color=color, alpha=0.1, hover_alpha=0.8)\n",
    "#             alpha_lines.append(lls)\n",
    "            \n",
    "\n",
    "#         plt.plot([i for i in range(0, t_max, step)], DQN_Means, color=color)\n",
    "        l = p.line([i for i in range(0, t_max, step)], DQN_Means, color=color, line_width=2)\n",
    "        lines.append(l)\n",
    "#         alpha_lines.append(lls)\n",
    "\n",
    "#     plt.title(\"Episode_Reward\")\n",
    "#     plt.xlabel(\"T\")\n",
    "#     plt.ylabel(\"Reward\")\n",
    "#     if legends is not None:\n",
    "#         plt.legend(legends)\n",
    "#     plt.show()\n",
    "#     p.line([0,1], [-1,3])\n",
    "    new_leg = Legend(items=[(name, [line]) for name, line in zip(legends, lines)], location=(0,-30))\n",
    "    p.add_layout(new_leg, \"right\")\n",
    "#     p.add_tools(HoverTool(renderers=alpha_lines))\n",
    "#     p.add_tools(TapTool(renderers=alpha_lines))\n",
    "    show(p)"
   ]
  },
  {
   "cell_type": "code",
   "execution_count": 11,
   "metadata": {
    "collapsed": false,
    "deletable": true,
    "editable": true
   },
   "outputs": [],
   "source": [
    "def plot_states(names, t_maxs, colors, legends, directories=\"Logs/\", step=10, title=\"\"):\n",
    "#     plt.figure(figsize=(10,10))\n",
    "    p = figure(width=1200, height=800, title=title)\n",
    "    p.toolbar_location = \"above\"\n",
    "    p.yaxis.axis_label = \"States visited\"\n",
    "    p.xaxis.axis_label = \"T\"\n",
    "    p.xaxis.formatter = BasicTickFormatter(use_scientific=False)\n",
    "#     p = figure(width=800, height=500)\n",
    "    lines = []\n",
    "    alpha_lines = []\n",
    "    if isinstance(directories, str):\n",
    "        dd = directories\n",
    "        directories = [dd for _ in names]\n",
    "    for name, color, t_max, legend, directory in zip(names, colors, t_maxs, legends, directories):\n",
    "#         print(directory)\n",
    "        States_Path = directory + \"*\" + name + \"*/logs/Player_Positions.txt\"\n",
    "        States = []\n",
    "        for filename in glob.glob(States_Path):\n",
    "            run_logs = []\n",
    "            with open(filename, \"r\") as f:\n",
    "#                 print(f)\n",
    "                for line in f:\n",
    "                    try:\n",
    "                        ep_r = str(line)\n",
    "#                         print(ep_r)\n",
    "                    except:\n",
    "                        print(\"Nothing here for:\", filename)\n",
    "                        continue\n",
    "                    run_logs.append(ep_r)\n",
    "            States.append(run_logs)\n",
    "        States_Visited = []\n",
    "        for run in States:\n",
    "            Visited = []\n",
    "            States_Sets = set()\n",
    "#             print(len(run))\n",
    "            for ii, s in enumerate(run):\n",
    "                if ii >= t_max - 1:\n",
    "                    break\n",
    "#                 print(s)\n",
    "                States_Sets.add(s)\n",
    "                if ii % step == 0:\n",
    "                    Visited.append(len(States_Sets))\n",
    "#             print(len(States_Sets))\n",
    "#             print(len(Visited))\n",
    "            States_Visited.append(Visited)\n",
    "#         print(np.array(States_Visited).shape)\n",
    "        Means = np.mean(States_Visited, axis=0)\n",
    "        Stds = np.std(States_Visited, axis=0)\n",
    "#         print(Means.shape)\n",
    "        \n",
    "#         plt.fill_between([i for i in range(0, t_max, step)], DQN_Means - DQN_Stds, DQN_Means + DQN_Stds, color=color, alpha=0.2, edgecolor=\"white\")\n",
    "        # Error bars\n",
    "        xs = [i for i in range(0, t_max, step)]\n",
    "        xs = xs + list(reversed(xs))\n",
    "        ys = np.concatenate([Means - Stds, np.flip(Means + Stds, axis=0)])\n",
    "        lls = p.patch(xs, ys, color=color, alpha=0.1)\n",
    "\n",
    "        \n",
    "#         for x, y, yerr in zip(range(0, t_max, step), DQN_Means, DQN_Stds):\n",
    "#             lls = p.line([x, x], [y - yerr, y + yerr], color=color, alpha=0.1, hover_alpha=0.8)\n",
    "#             alpha_lines.append(lls)\n",
    "            \n",
    "\n",
    "#         plt.plot([i for i in range(0, t_max, step)], DQN_Means, color=color)\n",
    "        l = p.line([i for i in range(0, t_max, step)], Means, color=color, line_width=2)\n",
    "        lines.append(l)\n",
    "#         alpha_lines.append(lls)\n",
    "\n",
    "#     plt.title(\"Episode_Reward\")\n",
    "#     plt.xlabel(\"T\")\n",
    "#     plt.ylabel(\"Reward\")\n",
    "#     if legends is not None:\n",
    "#         plt.legend(legends)\n",
    "#     plt.show()\n",
    "#     p.line([0,1], [-1,3])\n",
    "    new_leg = Legend(items=[(name, [line]) for name, line in zip(legends, lines)], location=(0,-30))\n",
    "    p.add_layout(new_leg, \"right\")\n",
    "#     p.add_tools(HoverTool(renderers=alpha_lines))\n",
    "#     p.add_tools(TapTool(renderers=alpha_lines))\n",
    "    show(p)"
   ]
  },
  {
   "cell_type": "code",
   "execution_count": null,
   "metadata": {
    "collapsed": true,
    "deletable": true,
    "editable": true
   },
   "outputs": [],
   "source": []
  },
  {
   "cell_type": "code",
   "execution_count": 12,
   "metadata": {
    "collapsed": false,
    "deletable": true,
    "editable": true
   },
   "outputs": [
    {
     "name": "stdout",
     "output_type": "stream",
     "text": [
      "['_10_Step_*DQN_', '_10_Step_*k_Count_', '_10_Step_*_CountEps_']\n",
      "[300001, 300001, 300001]\n"
     ]
    }
   ],
   "source": [
    "names = []\n",
    "legends = []\n",
    "t_maxs = []\n",
    "directories = []\n",
    "\n",
    "            \n",
    "# Frontier stuff\n",
    "for step in [10]:\n",
    "    # DQN\n",
    "    names += [\"_{}_Step_*DQN_\".format(step)]\n",
    "    legends += [\"{}_Step_DQN\".format(step)]\n",
    "    t_maxs += [300001]\n",
    "#     continue\n",
    "    # PseudoCount\n",
    "    names += [\"_{}_Step_*k_Count_\".format(step)]\n",
    "    legends += [\"{}_Step_Count\".format(step)]\n",
    "    t_maxs += [300001]\n",
    "#     continue\n",
    "    # EpsilonScaling\n",
    "    names += [\"_{}_Step_*_CountEps_\".format(step)]\n",
    "    legends += [\"{}_Step_Epsilon_Scaling\".format(step)]\n",
    "    t_maxs += [300001]\n",
    "            \n",
    "    \n",
    "direc = \"/home/tabz/tmp/logfiles/MedMaze10/MedMaze10\"\n",
    "# directories =  [\"{}/{}\".format(dropbox_direc, \"Maze_5_Logs/\")] + 3 * [\"{}/{}\".format(dropbox_direc, \"Maze_5_Batch_Sizes_Logs/\")] \n",
    "directories += [direc + \"/EpsilonLogs/\"] * 3\n",
    "    \n",
    "print(names)\n",
    "print(t_maxs)\n",
    "# colours = [\"red\", \"#3366ff\", \"#66ff33\", \"yellow\"]\n",
    "# colours = rainbow(np.linspace(0, 1, len(names)))"
   ]
  },
  {
   "cell_type": "code",
   "execution_count": 13,
   "metadata": {
    "collapsed": false,
    "deletable": true,
    "editable": true
   },
   "outputs": [
    {
     "name": "stdout",
     "output_type": "stream",
     "text": [
      "['_250_Step*k_Count_', '_250_Step*OptimisticAction', '_250_Step*_CountEps_']\n",
      "[300001, 300001, 300001]\n",
      "/home/scratch/tabhid/Log_Files/N_Step_Logs/\n"
     ]
    }
   ],
   "source": [
    "names = []\n",
    "legends = []\n",
    "t_maxs = []\n",
    "\n",
    "            \n",
    "# Frontier bandit stuff\n",
    "\n",
    "for n in [250]:\n",
    "    \n",
    "    # Count\n",
    "    names += [\"_{}_Step*k_Count_\".format(n)]\n",
    "    legends += [\"{}_Step_Count\".format(n)]\n",
    "    t_maxs += [300001]\n",
    "#     continue\n",
    "    # Optimistic\n",
    "    names += [\"_{}_Step*OptimisticAction\".format(n)]\n",
    "    legends += [\"{}_Step_OptimisticAction\".format(n)]\n",
    "    t_maxs += [300001]\n",
    "#     continue\n",
    "    # Epsilon Scaling\n",
    "    names += [\"_{}_Step*_CountEps_\".format(n)]\n",
    "    legends += [\"{}_Step_EpsilonScaling\".format(n)]\n",
    "    t_maxs += [300001]\n",
    "            \n",
    "    \n",
    "direc = \"/home/scratch/tabhid/Log_Files/N_Step_Logs/\"\n",
    "# directories =  [\"{}/{}\".format(dropbox_direc, \"Maze_5_Logs/\")] + 3 * [\"{}/{}\".format(dropbox_direc, \"Maze_5_Batch_Sizes_Logs/\")] \n",
    "# directories += [direc + \"/BanditLogs/\"] * 3\n",
    "directories = direc\n",
    "    \n",
    "print(names)\n",
    "print(t_maxs)\n",
    "print(directories)\n",
    "# colours = [\"red\", \"#3366ff\", \"#66ff33\", \"yellow\"]\n",
    "# colours = rainbow(np.linspace(0, 1, len(names)))"
   ]
  },
  {
   "cell_type": "code",
   "execution_count": 22,
   "metadata": {
    "collapsed": false,
    "deletable": true,
    "editable": true
   },
   "outputs": [
    {
     "name": "stdout",
     "output_type": "stream",
     "text": [
      "['_0.9_Decay*_Eps_1_', '_0.99_Decay*_Eps_1_', '_0.9999_Decay*_Eps_1_']\n",
      "[300001, 300001, 300001]\n",
      "/home/tabz/tmp/Epsilon_Decay_Logs/\n"
     ]
    }
   ],
   "source": [
    "names = []\n",
    "legends = []\n",
    "t_maxs = []\n",
    "\n",
    "            \n",
    "# Epsilon Decay Scaling\n",
    "for eps in [0.1, 1]:\n",
    "    for decay in [0.9, 0.99, 0.9999]:\n",
    "    \n",
    "        names += [\"_{}_Decay*_Eps_{}_\".format(decay, eps)]\n",
    "        legends += [\"{}_Decay_EpsilonScaling_{}_Start\".format(decay, eps)]\n",
    "        t_maxs += [300001]\n",
    "            \n",
    "    \n",
    "# direc = \"/home/scratch/tabhid/Log_Files/Epsilon_Decay_Logs/\"\n",
    "direc = \"/home/tabz/tmp/Epsilon_Decay_Logs/\"\n",
    "# directories =  [\"{}/{}\".format(dropbox_direc, \"Maze_5_Logs/\")] + 3 * [\"{}/{}\".format(dropbox_direc, \"Maze_5_Batch_Sizes_Logs/\")] \n",
    "# directories += [direc + \"/BanditLogs/\"] * 3\n",
    "directories = direc\n",
    "    \n",
    "print(names)\n",
    "print(t_maxs)\n",
    "print(directories)"
   ]
  },
  {
   "cell_type": "code",
   "execution_count": 71,
   "metadata": {
    "collapsed": false
   },
   "outputs": [
    {
     "name": "stdout",
     "output_type": "stream",
     "text": [
      "['_NegativeReward_0.5_', '_NegativeReward_0.7_', '_NegativeReward_0.9_']\n",
      "[300001, 300001, 300001]\n",
      "/home/tabz/tmp/Big_Negative_Reward_Logs/\n"
     ]
    }
   ],
   "source": [
    "names = []\n",
    "legends = []\n",
    "t_maxs = []\n",
    "\n",
    "            \n",
    "# Negative reward threshold\n",
    "for ns in [0.5, 0.7,  0.9]:\n",
    "    names += [\"_NegativeReward_{}_\".format(ns)]\n",
    "    legends += [\"NegativeReward_{}_Threshold\".format(ns)]\n",
    "    t_maxs += [300001]\n",
    "            \n",
    "    \n",
    "# direc = \"/home/scratch/tabhid/Log_Files/Epsilon_Decay_Logs/\"\n",
    "direc = \"/home/tabz/tmp/Big_Negative_Reward_Logs/\"\n",
    "# directories =  [\"{}/{}\".format(dropbox_direc, \"Maze_5_Logs/\")] + 3 * [\"{}/{}\".format(dropbox_direc, \"Maze_5_Batch_Sizes_Logs/\")] \n",
    "# directories += [direc + \"/BanditLogs/\"] * 3\n",
    "directories = direc\n",
    "    \n",
    "print(names)\n",
    "print(t_maxs)\n",
    "print(directories)"
   ]
  },
  {
   "cell_type": "code",
   "execution_count": 67,
   "metadata": {
    "collapsed": false
   },
   "outputs": [
    {
     "name": "stdout",
     "output_type": "stream",
     "text": [
      "['_1_Step*_100_Scaler', '_10_Step*_100_Scaler', '_50_Step*_100_Scaler', '_100_Step*_100_Scaler']\n",
      "[300001, 300001, 300001, 300001]\n",
      "/home/tabz/tmp/Bandit_Tau_Logs/\n"
     ]
    }
   ],
   "source": [
    "names = []\n",
    "legends = []\n",
    "t_maxs = []\n",
    "\n",
    "            \n",
    "# Bandit Tau\n",
    "for tau in [100]:\n",
    "    for step in [1, 10, 50, 100]:\n",
    "        names += [\"_{}_Step*_{}_Scaler\".format(step, tau)]\n",
    "        legends += [\"{}_Step_{}_Scaler\".format(step, tau)]\n",
    "        t_maxs += [300001]\n",
    "            \n",
    "    \n",
    "# direc = \"/home/scratch/tabhid/Log_Files/Epsilon_Decay_Logs/\"\n",
    "direc = \"/home/tabz/tmp/Bandit_Tau_Logs/\"\n",
    "# directories =  [\"{}/{}\".format(dropbox_direc, \"Maze_5_Logs/\")] + 3 * [\"{}/{}\".format(dropbox_direc, \"Maze_5_Batch_Sizes_Logs/\")] \n",
    "# directories += [direc + \"/BanditLogs/\"] * 3\n",
    "directories = direc\n",
    "    \n",
    "print(names)\n",
    "print(t_maxs)\n",
    "print(directories)"
   ]
  },
  {
   "cell_type": "code",
   "execution_count": 72,
   "metadata": {
    "collapsed": true,
    "deletable": true,
    "editable": true
   },
   "outputs": [],
   "source": [
    "import itertools"
   ]
  },
  {
   "cell_type": "code",
   "execution_count": 73,
   "metadata": {
    "collapsed": false,
    "deletable": true,
    "editable": true
   },
   "outputs": [],
   "source": [
    "from bokeh.palettes import magma, inferno, Set1, Set3, Paired, Dark2"
   ]
  },
  {
   "cell_type": "code",
   "execution_count": 74,
   "metadata": {
    "collapsed": false,
    "deletable": true,
    "editable": true
   },
   "outputs": [
    {
     "name": "stderr",
     "output_type": "stream",
     "text": [
      "/usr/lib/python3.6/site-packages/bokeh/models/sources.py:81: BokehUserWarning: ColumnDataSource's columns must be of the same length\n",
      "  lambda: warnings.warn(\"ColumnDataSource's columns must be of the same length\", BokehUserWarning))\n",
      "/usr/lib/python3.6/site-packages/bokeh/models/sources.py:81: BokehUserWarning: ColumnDataSource's columns must be of the same length\n",
      "  lambda: warnings.warn(\"ColumnDataSource's columns must be of the same length\", BokehUserWarning))\n",
      "/usr/lib/python3.6/site-packages/bokeh/models/sources.py:81: BokehUserWarning: ColumnDataSource's columns must be of the same length\n",
      "  lambda: warnings.warn(\"ColumnDataSource's columns must be of the same length\", BokehUserWarning))\n",
      "/usr/lib/python3.6/site-packages/bokeh/models/sources.py:81: BokehUserWarning: ColumnDataSource's columns must be of the same length\n",
      "  lambda: warnings.warn(\"ColumnDataSource's columns must be of the same length\", BokehUserWarning))\n",
      "/usr/lib/python3.6/site-packages/bokeh/models/sources.py:81: BokehUserWarning: ColumnDataSource's columns must be of the same length\n",
      "  lambda: warnings.warn(\"ColumnDataSource's columns must be of the same length\", BokehUserWarning))\n",
      "/usr/lib/python3.6/site-packages/bokeh/models/sources.py:81: BokehUserWarning: ColumnDataSource's columns must be of the same length\n",
      "  lambda: warnings.warn(\"ColumnDataSource's columns must be of the same length\", BokehUserWarning))\n"
     ]
    },
    {
     "data": {
      "text/html": [
       "\n",
       "\n",
       "    <div class=\"bk-root\">\n",
       "        <div class=\"bk-plotdiv\" id=\"acb39c2c-fc6a-4e4f-bd57-d232a1d9ed0c\"></div>\n",
       "    </div>\n",
       "<script type=\"text/javascript\">\n",
       "  \n",
       "  (function(global) {\n",
       "    function now() {\n",
       "      return new Date();\n",
       "    }\n",
       "  \n",
       "    var force = false;\n",
       "  \n",
       "    if (typeof (window._bokeh_onload_callbacks) === \"undefined\" || force === true) {\n",
       "      window._bokeh_onload_callbacks = [];\n",
       "      window._bokeh_is_loading = undefined;\n",
       "    }\n",
       "  \n",
       "  \n",
       "    \n",
       "    if (typeof (window._bokeh_timeout) === \"undefined\" || force === true) {\n",
       "      window._bokeh_timeout = Date.now() + 0;\n",
       "      window._bokeh_failed_load = false;\n",
       "    }\n",
       "  \n",
       "    var NB_LOAD_WARNING = {'data': {'text/html':\n",
       "       \"<div style='background-color: #fdd'>\\n\"+\n",
       "       \"<p>\\n\"+\n",
       "       \"BokehJS does not appear to have successfully loaded. If loading BokehJS from CDN, this \\n\"+\n",
       "       \"may be due to a slow or bad network connection. Possible fixes:\\n\"+\n",
       "       \"</p>\\n\"+\n",
       "       \"<ul>\\n\"+\n",
       "       \"<li>re-rerun `output_notebook()` to attempt to load from CDN again, or</li>\\n\"+\n",
       "       \"<li>use INLINE resources instead, as so:</li>\\n\"+\n",
       "       \"</ul>\\n\"+\n",
       "       \"<code>\\n\"+\n",
       "       \"from bokeh.resources import INLINE\\n\"+\n",
       "       \"output_notebook(resources=INLINE)\\n\"+\n",
       "       \"</code>\\n\"+\n",
       "       \"</div>\"}};\n",
       "  \n",
       "    function display_loaded() {\n",
       "      if (window.Bokeh !== undefined) {\n",
       "        document.getElementById(\"acb39c2c-fc6a-4e4f-bd57-d232a1d9ed0c\").textContent = \"BokehJS successfully loaded.\";\n",
       "      } else if (Date.now() < window._bokeh_timeout) {\n",
       "        setTimeout(display_loaded, 100)\n",
       "      }\n",
       "    }\n",
       "  \n",
       "    function run_callbacks() {\n",
       "      window._bokeh_onload_callbacks.forEach(function(callback) { callback() });\n",
       "      delete window._bokeh_onload_callbacks\n",
       "      console.info(\"Bokeh: all callbacks have finished\");\n",
       "    }\n",
       "  \n",
       "    function load_libs(js_urls, callback) {\n",
       "      window._bokeh_onload_callbacks.push(callback);\n",
       "      if (window._bokeh_is_loading > 0) {\n",
       "        console.log(\"Bokeh: BokehJS is being loaded, scheduling callback at\", now());\n",
       "        return null;\n",
       "      }\n",
       "      if (js_urls == null || js_urls.length === 0) {\n",
       "        run_callbacks();\n",
       "        return null;\n",
       "      }\n",
       "      console.log(\"Bokeh: BokehJS not loaded, scheduling load and callback at\", now());\n",
       "      window._bokeh_is_loading = js_urls.length;\n",
       "      for (var i = 0; i < js_urls.length; i++) {\n",
       "        var url = js_urls[i];\n",
       "        var s = document.createElement('script');\n",
       "        s.src = url;\n",
       "        s.async = false;\n",
       "        s.onreadystatechange = s.onload = function() {\n",
       "          window._bokeh_is_loading--;\n",
       "          if (window._bokeh_is_loading === 0) {\n",
       "            console.log(\"Bokeh: all BokehJS libraries loaded\");\n",
       "            run_callbacks()\n",
       "          }\n",
       "        };\n",
       "        s.onerror = function() {\n",
       "          console.warn(\"failed to load library \" + url);\n",
       "        };\n",
       "        console.log(\"Bokeh: injecting script tag for BokehJS library: \", url);\n",
       "        document.getElementsByTagName(\"head\")[0].appendChild(s);\n",
       "      }\n",
       "    };var element = document.getElementById(\"acb39c2c-fc6a-4e4f-bd57-d232a1d9ed0c\");\n",
       "    if (element == null) {\n",
       "      console.log(\"Bokeh: ERROR: autoload.js configured with elementid 'acb39c2c-fc6a-4e4f-bd57-d232a1d9ed0c' but no matching script tag was found. \")\n",
       "      return false;\n",
       "    }\n",
       "  \n",
       "    var js_urls = [];\n",
       "  \n",
       "    var inline_js = [\n",
       "      function(Bokeh) {\n",
       "        (function() {\n",
       "          var fn = function() {\n",
       "            var docs_json = {\"9b252f10-03db-449f-9003-7d4870fccead\":{\"roots\":{\"references\":[{\"attributes\":{\"plot\":{\"id\":\"5cffed8a-7727-4b1c-8490-a1a0d02392b6\",\"subtype\":\"Figure\",\"type\":\"Plot\"},\"ticker\":{\"id\":\"6ab84078-8f08-48f5-a4ef-b703f31b9e43\",\"type\":\"BasicTicker\"}},\"id\":\"6d9d1e79-c19a-4bd6-bcc8-004089ba5b4a\",\"type\":\"Grid\"},{\"attributes\":{\"axis_label\":\"States visited\",\"formatter\":{\"id\":\"d70e9a98-962b-41b0-bf03-1fc66903fa30\",\"type\":\"BasicTickFormatter\"},\"plot\":{\"id\":\"5cffed8a-7727-4b1c-8490-a1a0d02392b6\",\"subtype\":\"Figure\",\"type\":\"Plot\"},\"ticker\":{\"id\":\"ffd4e62d-0574-40ec-9cf5-42c7ea8d3059\",\"type\":\"BasicTicker\"}},\"id\":\"ec39f5bd-d52b-419a-aab5-e40a53ca8c03\",\"type\":\"LinearAxis\"},{\"attributes\":{},\"id\":\"ffd4e62d-0574-40ec-9cf5-42c7ea8d3059\",\"type\":\"BasicTicker\"},{\"attributes\":{\"dimension\":1,\"plot\":{\"id\":\"5cffed8a-7727-4b1c-8490-a1a0d02392b6\",\"subtype\":\"Figure\",\"type\":\"Plot\"},\"ticker\":{\"id\":\"ffd4e62d-0574-40ec-9cf5-42c7ea8d3059\",\"type\":\"BasicTicker\"}},\"id\":\"9ffa21c8-563e-463f-a506-7250654785df\",\"type\":\"Grid\"},{\"attributes\":{\"label\":{\"value\":\"NegativeReward_0.5_Threshold\"},\"renderers\":[{\"id\":\"1f3761db-5f77-42a0-a714-0076eb53e288\",\"type\":\"GlyphRenderer\"}]},\"id\":\"39f080d6-9928-4e4f-b8ae-561d84fe49d5\",\"type\":\"LegendItem\"},{\"attributes\":{\"items\":[{\"id\":\"39f080d6-9928-4e4f-b8ae-561d84fe49d5\",\"type\":\"LegendItem\"},{\"id\":\"137ef44f-065c-46d9-bb22-292d4764d8b0\",\"type\":\"LegendItem\"},{\"id\":\"9cb05268-7587-4f5c-8b61-85ee8f37f4c0\",\"type\":\"LegendItem\"}],\"location\":[0,-30],\"plot\":{\"id\":\"5cffed8a-7727-4b1c-8490-a1a0d02392b6\",\"subtype\":\"Figure\",\"type\":\"Plot\"}},\"id\":\"b4fdb1d8-1c27-47d5-998b-ffce652f0d19\",\"type\":\"Legend\"},{\"attributes\":{\"axis_label\":\"T\",\"formatter\":{\"id\":\"c7af56c4-3537-47af-841f-8801d637b572\",\"type\":\"BasicTickFormatter\"},\"plot\":{\"id\":\"5cffed8a-7727-4b1c-8490-a1a0d02392b6\",\"subtype\":\"Figure\",\"type\":\"Plot\"},\"ticker\":{\"id\":\"6ab84078-8f08-48f5-a4ef-b703f31b9e43\",\"type\":\"BasicTicker\"}},\"id\":\"d8025ed4-cb20-4d9f-9546-9e8ef5b03a86\",\"type\":\"LinearAxis\"},{\"attributes\":{\"bottom_units\":\"screen\",\"fill_alpha\":{\"value\":0.5},\"fill_color\":{\"value\":\"lightgrey\"},\"left_units\":\"screen\",\"level\":\"overlay\",\"line_alpha\":{\"value\":1.0},\"line_color\":{\"value\":\"black\"},\"line_dash\":[4,4],\"line_width\":{\"value\":2},\"plot\":null,\"render_mode\":\"css\",\"right_units\":\"screen\",\"top_units\":\"screen\"},\"id\":\"a8b085af-df89-4353-a3d1-6d107f1ac7a2\",\"type\":\"BoxAnnotation\"},{\"attributes\":{\"plot\":{\"id\":\"5cffed8a-7727-4b1c-8490-a1a0d02392b6\",\"subtype\":\"Figure\",\"type\":\"Plot\"}},\"id\":\"3da3b87c-732f-403f-a890-16f5874af446\",\"type\":\"PanTool\"},{\"attributes\":{\"callback\":null},\"id\":\"8cd1d231-6482-4c55-b3e3-006264b38abc\",\"type\":\"DataRange1d\"},{\"attributes\":{\"plot\":{\"id\":\"5cffed8a-7727-4b1c-8490-a1a0d02392b6\",\"subtype\":\"Figure\",\"type\":\"Plot\"}},\"id\":\"e4ca337c-a66a-43a5-af53-ae8f6dc03aea\",\"type\":\"WheelZoomTool\"},{\"attributes\":{\"overlay\":{\"id\":\"a8b085af-df89-4353-a3d1-6d107f1ac7a2\",\"type\":\"BoxAnnotation\"},\"plot\":{\"id\":\"5cffed8a-7727-4b1c-8490-a1a0d02392b6\",\"subtype\":\"Figure\",\"type\":\"Plot\"}},\"id\":\"4714170c-d6c3-4e68-b674-f2d181b7c25f\",\"type\":\"BoxZoomTool\"},{\"attributes\":{\"plot\":{\"id\":\"5cffed8a-7727-4b1c-8490-a1a0d02392b6\",\"subtype\":\"Figure\",\"type\":\"Plot\"}},\"id\":\"ec8ce4f9-3cbe-4124-a7f4-98f6bd65bd0e\",\"type\":\"SaveTool\"},{\"attributes\":{\"plot\":{\"id\":\"5cffed8a-7727-4b1c-8490-a1a0d02392b6\",\"subtype\":\"Figure\",\"type\":\"Plot\"}},\"id\":\"f6198c51-edab-43e6-bccc-ae5d2ce9f07a\",\"type\":\"ResetTool\"},{\"attributes\":{\"plot\":{\"id\":\"5cffed8a-7727-4b1c-8490-a1a0d02392b6\",\"subtype\":\"Figure\",\"type\":\"Plot\"}},\"id\":\"51923557-904e-4f26-b7bf-efef2b0f5772\",\"type\":\"HelpTool\"},{\"attributes\":{\"fill_alpha\":{\"value\":0.1},\"fill_color\":{\"value\":\"#1f77b4\"},\"line_alpha\":{\"value\":0.1},\"line_color\":{\"value\":\"#1f77b4\"},\"x\":{\"field\":\"x\"},\"y\":{\"field\":\"y\"}},\"id\":\"0b91064b-8e5e-4362-8327-529c20277ad7\",\"type\":\"Patch\"},{\"attributes\":{},\"id\":\"6ab84078-8f08-48f5-a4ef-b703f31b9e43\",\"type\":\"BasicTicker\"},{\"attributes\":{\"fill_alpha\":{\"value\":0.1},\"fill_color\":{\"value\":\"#377eb8\"},\"line_alpha\":{\"value\":0.1},\"line_color\":{\"value\":\"#377eb8\"},\"x\":{\"field\":\"x\"},\"y\":{\"field\":\"y\"}},\"id\":\"f742e603-b777-415b-9265-a8582ff46755\",\"type\":\"Patch\"},{\"attributes\":{\"fill_alpha\":{\"value\":0.1},\"fill_color\":{\"value\":\"#e41a1c\"},\"line_alpha\":{\"value\":0.1},\"line_color\":{\"value\":\"#e41a1c\"},\"x\":{\"field\":\"x\"},\"y\":{\"field\":\"y\"}},\"id\":\"8f6539ce-437e-4a1c-a301-3852a41c8d7b\",\"type\":\"Patch\"},{\"attributes\":{\"fill_alpha\":{\"value\":0.1},\"fill_color\":{\"value\":\"#1f77b4\"},\"line_alpha\":{\"value\":0.1},\"line_color\":{\"value\":\"#1f77b4\"},\"x\":{\"field\":\"x\"},\"y\":{\"field\":\"y\"}},\"id\":\"e5596919-9ca9-46f0-b308-04c8c9ed54d6\",\"type\":\"Patch\"},{\"attributes\":{\"callback\":null,\"column_names\":[\"x\",\"y\"],\"data\":{\"x\":[0,1000,2000,3000,4000,5000,6000,7000,8000,9000,10000,11000,12000,13000,14000,15000,16000,17000,18000,19000,20000,21000,22000,23000,24000,25000,26000,27000,28000,29000,30000,31000,32000,33000,34000,35000,36000,37000,38000,39000,40000,41000,42000,43000,44000,45000,46000,47000,48000,49000,50000,51000,52000,53000,54000,55000,56000,57000,58000,59000,60000,61000,62000,63000,64000,65000,66000,67000,68000,69000,70000,71000,72000,73000,74000,75000,76000,77000,78000,79000,80000,81000,82000,83000,84000,85000,86000,87000,88000,89000,90000,91000,92000,93000,94000,95000,96000,97000,98000,99000,100000,101000,102000,103000,104000,105000,106000,107000,108000,109000,110000,111000,112000,113000,114000,115000,116000,117000,118000,119000,120000,121000,122000,123000,124000,125000,126000,127000,128000,129000,130000,131000,132000,133000,134000,135000,136000,137000,138000,139000,140000,141000,142000,143000,144000,145000,146000,147000,148000,149000,150000,151000,152000,153000,154000,155000,156000,157000,158000,159000,160000,161000,162000,163000,164000,165000,166000,167000,168000,169000,170000,171000,172000,173000,174000,175000,176000,177000,178000,179000,180000,181000,182000,183000,184000,185000,186000,187000,188000,189000,190000,191000,192000,193000,194000,195000,196000,197000,198000,199000,200000,201000,202000,203000,204000,205000,206000,207000,208000,209000,210000,211000,212000,213000,214000,215000,216000,217000,218000,219000,220000,221000,222000,223000,224000,225000,226000,227000,228000,229000,230000,231000,232000,233000,234000,235000,236000,237000,238000,239000,240000,241000,242000,243000,244000,245000,246000,247000,248000,249000,250000,251000,252000,253000,254000,255000,256000,257000,258000,259000,260000,261000,262000,263000,264000,265000,266000,267000,268000,269000,270000,271000,272000,273000,274000,275000,276000,277000,278000,279000,280000,281000,282000,283000,284000,285000,286000,287000,288000,289000,290000,291000,292000,293000,294000,295000,296000,297000,298000,299000,300000],\"y\":{\"__ndarray__\":\"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\",\"dtype\":\"float64\",\"shape\":[300]}}},\"id\":\"2f0b07d3-8565-40fd-9a3c-533d3226011f\",\"type\":\"ColumnDataSource\"},{\"attributes\":{\"callback\":null,\"column_names\":[\"x\",\"y\"],\"data\":{\"x\":[0,1000,2000,3000,4000,5000,6000,7000,8000,9000,10000,11000,12000,13000,14000,15000,16000,17000,18000,19000,20000,21000,22000,23000,24000,25000,26000,27000,28000,29000,30000,31000,32000,33000,34000,35000,36000,37000,38000,39000,40000,41000,42000,43000,44000,45000,46000,47000,48000,49000,50000,51000,52000,53000,54000,55000,56000,57000,58000,59000,60000,61000,62000,63000,64000,65000,66000,67000,68000,69000,70000,71000,72000,73000,74000,75000,76000,77000,78000,79000,80000,81000,82000,83000,84000,85000,86000,87000,88000,89000,90000,91000,92000,93000,94000,95000,96000,97000,98000,99000,100000,101000,102000,103000,104000,105000,106000,107000,108000,109000,110000,111000,112000,113000,114000,115000,116000,117000,118000,119000,120000,121000,122000,123000,124000,125000,126000,127000,128000,129000,130000,131000,132000,133000,134000,135000,136000,137000,138000,139000,140000,141000,142000,143000,144000,145000,146000,147000,148000,149000,150000,151000,152000,153000,154000,155000,156000,157000,158000,159000,160000,161000,162000,163000,164000,165000,166000,167000,168000,169000,170000,171000,172000,173000,174000,175000,176000,177000,178000,179000,180000,181000,182000,183000,184000,185000,186000,187000,188000,189000,190000,191000,192000,193000,194000,195000,196000,197000,198000,199000,200000,201000,202000,203000,204000,205000,206000,207000,208000,209000,210000,211000,212000,213000,214000,215000,216000,217000,218000,219000,220000,221000,222000,223000,224000,225000,226000,227000,228000,229000,230000,231000,232000,233000,234000,235000,236000,237000,238000,239000,240000,241000,242000,243000,244000,245000,246000,247000,248000,249000,250000,251000,252000,253000,254000,255000,256000,257000,258000,259000,260000,261000,262000,263000,264000,265000,266000,267000,268000,269000,270000,271000,272000,273000,274000,275000,276000,277000,278000,279000,280000,281000,282000,283000,284000,285000,286000,287000,288000,289000,290000,291000,292000,293000,294000,295000,296000,297000,298000,299000,300000],\"y\":{\"__ndarray__\":\"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\",\"dtype\":\"float64\",\"shape\":[300]}}},\"id\":\"db933f05-e494-434b-be70-cfd79ae2d6a8\",\"type\":\"ColumnDataSource\"},{\"attributes\":{\"data_source\":{\"id\":\"a55d6082-1ff3-4107-b460-5a53ddd93e36\",\"type\":\"ColumnDataSource\"},\"glyph\":{\"id\":\"8f6539ce-437e-4a1c-a301-3852a41c8d7b\",\"type\":\"Patch\"},\"hover_glyph\":null,\"nonselection_glyph\":{\"id\":\"e5596919-9ca9-46f0-b308-04c8c9ed54d6\",\"type\":\"Patch\"},\"selection_glyph\":null},\"id\":\"8c7607f8-9cab-4376-8dcb-ba7a9fbb2c4b\",\"type\":\"GlyphRenderer\"},{\"attributes\":{},\"id\":\"d70e9a98-962b-41b0-bf03-1fc66903fa30\",\"type\":\"BasicTickFormatter\"},{\"attributes\":{\"data_source\":{\"id\":\"34b26a4c-2c33-47a9-9c01-f489bc02e7d0\",\"type\":\"ColumnDataSource\"},\"glyph\":{\"id\":\"f742e603-b777-415b-9265-a8582ff46755\",\"type\":\"Patch\"},\"hover_glyph\":null,\"nonselection_glyph\":{\"id\":\"0b91064b-8e5e-4362-8327-529c20277ad7\",\"type\":\"Patch\"},\"selection_glyph\":null},\"id\":\"017f5bae-d98b-448a-88f0-570199925a22\",\"type\":\"GlyphRenderer\"},{\"attributes\":{\"line_alpha\":{\"value\":0.1},\"line_color\":{\"value\":\"#1f77b4\"},\"line_width\":{\"value\":2},\"x\":{\"field\":\"x\"},\"y\":{\"field\":\"y\"}},\"id\":\"afbd874f-9ec4-4719-9dfb-87d65328cc80\",\"type\":\"Line\"},{\"attributes\":{\"line_color\":{\"value\":\"#e41a1c\"},\"line_width\":{\"value\":2},\"x\":{\"field\":\"x\"},\"y\":{\"field\":\"y\"}},\"id\":\"04b45d6a-8b56-4222-887e-8a1bc6a44b5b\",\"type\":\"Line\"},{\"attributes\":{\"line_alpha\":{\"value\":0.1},\"line_color\":{\"value\":\"#1f77b4\"},\"line_width\":{\"value\":2},\"x\":{\"field\":\"x\"},\"y\":{\"field\":\"y\"}},\"id\":\"43d77bdf-a420-4118-8a58-47ea03719c1d\",\"type\":\"Line\"},{\"attributes\":{\"data_source\":{\"id\":\"2f0b07d3-8565-40fd-9a3c-533d3226011f\",\"type\":\"ColumnDataSource\"},\"glyph\":{\"id\":\"04b45d6a-8b56-4222-887e-8a1bc6a44b5b\",\"type\":\"Line\"},\"hover_glyph\":null,\"nonselection_glyph\":{\"id\":\"43d77bdf-a420-4118-8a58-47ea03719c1d\",\"type\":\"Line\"},\"selection_glyph\":null},\"id\":\"1f3761db-5f77-42a0-a714-0076eb53e288\",\"type\":\"GlyphRenderer\"},{\"attributes\":{\"line_color\":{\"value\":\"#377eb8\"},\"line_width\":{\"value\":2},\"x\":{\"field\":\"x\"},\"y\":{\"field\":\"y\"}},\"id\":\"ae1976fa-5a42-45dc-ad54-15d9d63e925c\",\"type\":\"Line\"},{\"attributes\":{\"fill_alpha\":{\"value\":0.1},\"fill_color\":{\"value\":\"#4daf4a\"},\"line_alpha\":{\"value\":0.1},\"line_color\":{\"value\":\"#4daf4a\"},\"x\":{\"field\":\"x\"},\"y\":{\"field\":\"y\"}},\"id\":\"421cb521-b672-4c21-8462-fe564ecdf061\",\"type\":\"Patch\"},{\"attributes\":{\"fill_alpha\":{\"value\":0.1},\"fill_color\":{\"value\":\"#1f77b4\"},\"line_alpha\":{\"value\":0.1},\"line_color\":{\"value\":\"#1f77b4\"},\"x\":{\"field\":\"x\"},\"y\":{\"field\":\"y\"}},\"id\":\"9542ae72-ce06-40ef-8ecf-001c8c4f1039\",\"type\":\"Patch\"},{\"attributes\":{\"line_color\":{\"value\":\"#4daf4a\"},\"line_width\":{\"value\":2},\"x\":{\"field\":\"x\"},\"y\":{\"field\":\"y\"}},\"id\":\"7c12d07c-7b66-43e9-be49-07d1d90411d7\",\"type\":\"Line\"},{\"attributes\":{\"data_source\":{\"id\":\"db933f05-e494-434b-be70-cfd79ae2d6a8\",\"type\":\"ColumnDataSource\"},\"glyph\":{\"id\":\"ae1976fa-5a42-45dc-ad54-15d9d63e925c\",\"type\":\"Line\"},\"hover_glyph\":null,\"nonselection_glyph\":{\"id\":\"afbd874f-9ec4-4719-9dfb-87d65328cc80\",\"type\":\"Line\"},\"selection_glyph\":null},\"id\":\"945e20fc-89d4-4075-b530-b7d711bccc09\",\"type\":\"GlyphRenderer\"},{\"attributes\":{\"callback\":null,\"column_names\":[\"x\",\"y\"],\"data\":{\"x\":[0,1000,2000,3000,4000,5000,6000,7000,8000,9000,10000,11000,12000,13000,14000,15000,16000,17000,18000,19000,20000,21000,22000,23000,24000,25000,26000,27000,28000,29000,30000,31000,32000,33000,34000,35000,36000,37000,38000,39000,40000,41000,42000,43000,44000,45000,46000,47000,48000,49000,50000,51000,52000,53000,54000,55000,56000,57000,58000,59000,60000,61000,62000,63000,64000,65000,66000,67000,68000,69000,70000,71000,72000,73000,74000,75000,76000,77000,78000,79000,80000,81000,82000,83000,84000,85000,86000,87000,88000,89000,90000,91000,92000,93000,94000,95000,96000,97000,98000,99000,100000,101000,102000,103000,104000,105000,106000,107000,108000,109000,110000,111000,112000,113000,114000,115000,116000,117000,118000,119000,120000,121000,122000,123000,124000,125000,126000,127000,128000,129000,130000,131000,132000,133000,134000,135000,136000,137000,138000,139000,140000,141000,142000,143000,144000,145000,146000,147000,148000,149000,150000,151000,152000,153000,154000,155000,156000,157000,158000,159000,160000,161000,162000,163000,164000,165000,166000,167000,168000,169000,170000,171000,172000,173000,174000,175000,176000,177000,178000,179000,180000,181000,182000,183000,184000,185000,186000,187000,188000,189000,190000,191000,192000,193000,194000,195000,196000,197000,198000,199000,200000,201000,202000,203000,204000,205000,206000,207000,208000,209000,210000,211000,212000,213000,214000,215000,216000,217000,218000,219000,220000,221000,222000,223000,224000,225000,226000,227000,228000,229000,230000,231000,232000,233000,234000,235000,236000,237000,238000,239000,240000,241000,242000,243000,244000,245000,246000,247000,248000,249000,250000,251000,252000,253000,254000,255000,256000,257000,258000,259000,260000,261000,262000,263000,264000,265000,266000,267000,268000,269000,270000,271000,272000,273000,274000,275000,276000,277000,278000,279000,280000,281000,282000,283000,284000,285000,286000,287000,288000,289000,290000,291000,292000,293000,294000,295000,296000,297000,298000,299000,300000,300000,299000,298000,297000,296000,295000,294000,293000,292000,291000,290000,289000,288000,287000,286000,285000,284000,283000,282000,281000,280000,279000,278000,277000,276000,275000,274000,273000,272000,271000,270000,269000,268000,267000,266000,265000,264000,263000,262000,261000,260000,259000,258000,257000,256000,255000,254000,253000,252000,251000,250000,249000,248000,247000,246000,245000,244000,243000,242000,241000,240000,239000,238000,237000,236000,235000,234000,233000,232000,231000,230000,229000,228000,227000,226000,225000,224000,223000,222000,221000,220000,219000,218000,217000,216000,215000,214000,213000,212000,211000,210000,209000,208000,207000,206000,205000,204000,203000,202000,201000,200000,199000,198000,197000,196000,195000,194000,193000,192000,191000,190000,189000,188000,187000,186000,185000,184000,183000,182000,181000,180000,179000,178000,177000,176000,175000,174000,173000,172000,171000,170000,169000,168000,167000,166000,165000,164000,163000,162000,161000,160000,159000,158000,157000,156000,155000,154000,153000,152000,151000,150000,149000,148000,147000,146000,145000,144000,143000,142000,141000,140000,139000,138000,137000,136000,135000,134000,133000,132000,131000,130000,129000,128000,127000,126000,125000,124000,123000,122000,121000,120000,119000,118000,117000,116000,115000,114000,113000,112000,111000,110000,109000,108000,107000,106000,105000,104000,103000,102000,101000,100000,99000,98000,97000,96000,95000,94000,93000,92000,91000,90000,89000,88000,87000,86000,85000,84000,83000,82000,81000,80000,79000,78000,77000,76000,75000,74000,73000,72000,71000,70000,69000,68000,67000,66000,65000,64000,63000,62000,61000,60000,59000,58000,57000,56000,55000,54000,53000,52000,51000,50000,49000,48000,47000,46000,45000,44000,43000,42000,41000,40000,39000,38000,37000,36000,35000,34000,33000,32000,31000,30000,29000,28000,27000,26000,25000,24000,23000,22000,21000,20000,19000,18000,17000,16000,15000,14000,13000,12000,11000,10000,9000,8000,7000,6000,5000,4000,3000,2000,1000,0],\"y\":{\"__ndarray__\":\"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\",\"dtype\":\"float64\",\"shape\":[600]}}},\"id\":\"7231a407-b7a2-4d26-a283-df005cdb0256\",\"type\":\"ColumnDataSource\"},{\"attributes\":{\"data_source\":{\"id\":\"7231a407-b7a2-4d26-a283-df005cdb0256\",\"type\":\"ColumnDataSource\"},\"glyph\":{\"id\":\"421cb521-b672-4c21-8462-fe564ecdf061\",\"type\":\"Patch\"},\"hover_glyph\":null,\"nonselection_glyph\":{\"id\":\"9542ae72-ce06-40ef-8ecf-001c8c4f1039\",\"type\":\"Patch\"},\"selection_glyph\":null},\"id\":\"f684544f-0bc9-445b-991e-1a7eace4eec7\",\"type\":\"GlyphRenderer\"},{\"attributes\":{\"use_scientific\":false},\"id\":\"c7af56c4-3537-47af-841f-8801d637b572\",\"type\":\"BasicTickFormatter\"},{\"attributes\":{\"plot\":null,\"text\":\"Med Maze 10\"},\"id\":\"64bdc3d3-a70a-4ae3-801f-aae063afa496\",\"type\":\"Title\"},{\"attributes\":{\"callback\":null,\"column_names\":[\"x\",\"y\"],\"data\":{\"x\":[0,1000,2000,3000,4000,5000,6000,7000,8000,9000,10000,11000,12000,13000,14000,15000,16000,17000,18000,19000,20000,21000,22000,23000,24000,25000,26000,27000,28000,29000,30000,31000,32000,33000,34000,35000,36000,37000,38000,39000,40000,41000,42000,43000,44000,45000,46000,47000,48000,49000,50000,51000,52000,53000,54000,55000,56000,57000,58000,59000,60000,61000,62000,63000,64000,65000,66000,67000,68000,69000,70000,71000,72000,73000,74000,75000,76000,77000,78000,79000,80000,81000,82000,83000,84000,85000,86000,87000,88000,89000,90000,91000,92000,93000,94000,95000,96000,97000,98000,99000,100000,101000,102000,103000,104000,105000,106000,107000,108000,109000,110000,111000,112000,113000,114000,115000,116000,117000,118000,119000,120000,121000,122000,123000,124000,125000,126000,127000,128000,129000,130000,131000,132000,133000,134000,135000,136000,137000,138000,139000,140000,141000,142000,143000,144000,145000,146000,147000,148000,149000,150000,151000,152000,153000,154000,155000,156000,157000,158000,159000,160000,161000,162000,163000,164000,165000,166000,167000,168000,169000,170000,171000,172000,173000,174000,175000,176000,177000,178000,179000,180000,181000,182000,183000,184000,185000,186000,187000,188000,189000,190000,191000,192000,193000,194000,195000,196000,197000,198000,199000,200000,201000,202000,203000,204000,205000,206000,207000,208000,209000,210000,211000,212000,213000,214000,215000,216000,217000,218000,219000,220000,221000,222000,223000,224000,225000,226000,227000,228000,229000,230000,231000,232000,233000,234000,235000,236000,237000,238000,239000,240000,241000,242000,243000,244000,245000,246000,247000,248000,249000,250000,251000,252000,253000,254000,255000,256000,257000,258000,259000,260000,261000,262000,263000,264000,265000,266000,267000,268000,269000,270000,271000,272000,273000,274000,275000,276000,277000,278000,279000,280000,281000,282000,283000,284000,285000,286000,287000,288000,289000,290000,291000,292000,293000,294000,295000,296000,297000,298000,299000,300000],\"y\":{\"__ndarray__\":\"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\",\"dtype\":\"float64\",\"shape\":[300]}}},\"id\":\"6f0a15db-8cb7-4dfd-a269-a1ee3ca32445\",\"type\":\"ColumnDataSource\"},{\"attributes\":{\"line_alpha\":{\"value\":0.1},\"line_color\":{\"value\":\"#1f77b4\"},\"line_width\":{\"value\":2},\"x\":{\"field\":\"x\"},\"y\":{\"field\":\"y\"}},\"id\":\"94b6627e-7eb7-47f6-9e0e-7f5c53cb8bee\",\"type\":\"Line\"},{\"attributes\":{\"data_source\":{\"id\":\"6f0a15db-8cb7-4dfd-a269-a1ee3ca32445\",\"type\":\"ColumnDataSource\"},\"glyph\":{\"id\":\"7c12d07c-7b66-43e9-be49-07d1d90411d7\",\"type\":\"Line\"},\"hover_glyph\":null,\"nonselection_glyph\":{\"id\":\"94b6627e-7eb7-47f6-9e0e-7f5c53cb8bee\",\"type\":\"Line\"},\"selection_glyph\":null},\"id\":\"ccef8123-0343-4e1e-9243-e0940e163f38\",\"type\":\"GlyphRenderer\"},{\"attributes\":{\"label\":{\"value\":\"NegativeReward_0.7_Threshold\"},\"renderers\":[{\"id\":\"945e20fc-89d4-4075-b530-b7d711bccc09\",\"type\":\"GlyphRenderer\"}]},\"id\":\"137ef44f-065c-46d9-bb22-292d4764d8b0\",\"type\":\"LegendItem\"},{\"attributes\":{\"label\":{\"value\":\"NegativeReward_0.9_Threshold\"},\"renderers\":[{\"id\":\"ccef8123-0343-4e1e-9243-e0940e163f38\",\"type\":\"GlyphRenderer\"}]},\"id\":\"9cb05268-7587-4f5c-8b61-85ee8f37f4c0\",\"type\":\"LegendItem\"},{\"attributes\":{\"callback\":null,\"column_names\":[\"x\",\"y\"],\"data\":{\"x\":[0,1000,2000,3000,4000,5000,6000,7000,8000,9000,10000,11000,12000,13000,14000,15000,16000,17000,18000,19000,20000,21000,22000,23000,24000,25000,26000,27000,28000,29000,30000,31000,32000,33000,34000,35000,36000,37000,38000,39000,40000,41000,42000,43000,44000,45000,46000,47000,48000,49000,50000,51000,52000,53000,54000,55000,56000,57000,58000,59000,60000,61000,62000,63000,64000,65000,66000,67000,68000,69000,70000,71000,72000,73000,74000,75000,76000,77000,78000,79000,80000,81000,82000,83000,84000,85000,86000,87000,88000,89000,90000,91000,92000,93000,94000,95000,96000,97000,98000,99000,100000,101000,102000,103000,104000,105000,106000,107000,108000,109000,110000,111000,112000,113000,114000,115000,116000,117000,118000,119000,120000,121000,122000,123000,124000,125000,126000,127000,128000,129000,130000,131000,132000,133000,134000,135000,136000,137000,138000,139000,140000,141000,142000,143000,144000,145000,146000,147000,148000,149000,150000,151000,152000,153000,154000,155000,156000,157000,158000,159000,160000,161000,162000,163000,164000,165000,166000,167000,168000,169000,170000,171000,172000,173000,174000,175000,176000,177000,178000,179000,180000,181000,182000,183000,184000,185000,186000,187000,188000,189000,190000,191000,192000,193000,194000,195000,196000,197000,198000,199000,200000,201000,202000,203000,204000,205000,206000,207000,208000,209000,210000,211000,212000,213000,214000,215000,216000,217000,218000,219000,220000,221000,222000,223000,224000,225000,226000,227000,228000,229000,230000,231000,232000,233000,234000,235000,236000,237000,238000,239000,240000,241000,242000,243000,244000,245000,246000,247000,248000,249000,250000,251000,252000,253000,254000,255000,256000,257000,258000,259000,260000,261000,262000,263000,264000,265000,266000,267000,268000,269000,270000,271000,272000,273000,274000,275000,276000,277000,278000,279000,280000,281000,282000,283000,284000,285000,286000,287000,288000,289000,290000,291000,292000,293000,294000,295000,296000,297000,298000,299000,300000,300000,299000,298000,297000,296000,295000,294000,293000,292000,291000,290000,289000,288000,287000,286000,285000,284000,283000,282000,281000,280000,279000,278000,277000,276000,275000,274000,273000,272000,271000,270000,269000,268000,267000,266000,265000,264000,263000,262000,261000,260000,259000,258000,257000,256000,255000,254000,253000,252000,251000,250000,249000,248000,247000,246000,245000,244000,243000,242000,241000,240000,239000,238000,237000,236000,235000,234000,233000,232000,231000,230000,229000,228000,227000,226000,225000,224000,223000,222000,221000,220000,219000,218000,217000,216000,215000,214000,213000,212000,211000,210000,209000,208000,207000,206000,205000,204000,203000,202000,201000,200000,199000,198000,197000,196000,195000,194000,193000,192000,191000,190000,189000,188000,187000,186000,185000,184000,183000,182000,181000,180000,179000,178000,177000,176000,175000,174000,173000,172000,171000,170000,169000,168000,167000,166000,165000,164000,163000,162000,161000,160000,159000,158000,157000,156000,155000,154000,153000,152000,151000,150000,149000,148000,147000,146000,145000,144000,143000,142000,141000,140000,139000,138000,137000,136000,135000,134000,133000,132000,131000,130000,129000,128000,127000,126000,125000,124000,123000,122000,121000,120000,119000,118000,117000,116000,115000,114000,113000,112000,111000,110000,109000,108000,107000,106000,105000,104000,103000,102000,101000,100000,99000,98000,97000,96000,95000,94000,93000,92000,91000,90000,89000,88000,87000,86000,85000,84000,83000,82000,81000,80000,79000,78000,77000,76000,75000,74000,73000,72000,71000,70000,69000,68000,67000,66000,65000,64000,63000,62000,61000,60000,59000,58000,57000,56000,55000,54000,53000,52000,51000,50000,49000,48000,47000,46000,45000,44000,43000,42000,41000,40000,39000,38000,37000,36000,35000,34000,33000,32000,31000,30000,29000,28000,27000,26000,25000,24000,23000,22000,21000,20000,19000,18000,17000,16000,15000,14000,13000,12000,11000,10000,9000,8000,7000,6000,5000,4000,3000,2000,1000,0],\"y\":{\"__ndarray__\":\"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\",\"dtype\":\"float64\",\"shape\":[600]}}},\"id\":\"34b26a4c-2c33-47a9-9c01-f489bc02e7d0\",\"type\":\"ColumnDataSource\"},{\"attributes\":{\"callback\":null,\"column_names\":[\"x\",\"y\"],\"data\":{\"x\":[0,1000,2000,3000,4000,5000,6000,7000,8000,9000,10000,11000,12000,13000,14000,15000,16000,17000,18000,19000,20000,21000,22000,23000,24000,25000,26000,27000,28000,29000,30000,31000,32000,33000,34000,35000,36000,37000,38000,39000,40000,41000,42000,43000,44000,45000,46000,47000,48000,49000,50000,51000,52000,53000,54000,55000,56000,57000,58000,59000,60000,61000,62000,63000,64000,65000,66000,67000,68000,69000,70000,71000,72000,73000,74000,75000,76000,77000,78000,79000,80000,81000,82000,83000,84000,85000,86000,87000,88000,89000,90000,91000,92000,93000,94000,95000,96000,97000,98000,99000,100000,101000,102000,103000,104000,105000,106000,107000,108000,109000,110000,111000,112000,113000,114000,115000,116000,117000,118000,119000,120000,121000,122000,123000,124000,125000,126000,127000,128000,129000,130000,131000,132000,133000,134000,135000,136000,137000,138000,139000,140000,141000,142000,143000,144000,145000,146000,147000,148000,149000,150000,151000,152000,153000,154000,155000,156000,157000,158000,159000,160000,161000,162000,163000,164000,165000,166000,167000,168000,169000,170000,171000,172000,173000,174000,175000,176000,177000,178000,179000,180000,181000,182000,183000,184000,185000,186000,187000,188000,189000,190000,191000,192000,193000,194000,195000,196000,197000,198000,199000,200000,201000,202000,203000,204000,205000,206000,207000,208000,209000,210000,211000,212000,213000,214000,215000,216000,217000,218000,219000,220000,221000,222000,223000,224000,225000,226000,227000,228000,229000,230000,231000,232000,233000,234000,235000,236000,237000,238000,239000,240000,241000,242000,243000,244000,245000,246000,247000,248000,249000,250000,251000,252000,253000,254000,255000,256000,257000,258000,259000,260000,261000,262000,263000,264000,265000,266000,267000,268000,269000,270000,271000,272000,273000,274000,275000,276000,277000,278000,279000,280000,281000,282000,283000,284000,285000,286000,287000,288000,289000,290000,291000,292000,293000,294000,295000,296000,297000,298000,299000,300000,300000,299000,298000,297000,296000,295000,294000,293000,292000,291000,290000,289000,288000,287000,286000,285000,284000,283000,282000,281000,280000,279000,278000,277000,276000,275000,274000,273000,272000,271000,270000,269000,268000,267000,266000,265000,264000,263000,262000,261000,260000,259000,258000,257000,256000,255000,254000,253000,252000,251000,250000,249000,248000,247000,246000,245000,244000,243000,242000,241000,240000,239000,238000,237000,236000,235000,234000,233000,232000,231000,230000,229000,228000,227000,226000,225000,224000,223000,222000,221000,220000,219000,218000,217000,216000,215000,214000,213000,212000,211000,210000,209000,208000,207000,206000,205000,204000,203000,202000,201000,200000,199000,198000,197000,196000,195000,194000,193000,192000,191000,190000,189000,188000,187000,186000,185000,184000,183000,182000,181000,180000,179000,178000,177000,176000,175000,174000,173000,172000,171000,170000,169000,168000,167000,166000,165000,164000,163000,162000,161000,160000,159000,158000,157000,156000,155000,154000,153000,152000,151000,150000,149000,148000,147000,146000,145000,144000,143000,142000,141000,140000,139000,138000,137000,136000,135000,134000,133000,132000,131000,130000,129000,128000,127000,126000,125000,124000,123000,122000,121000,120000,119000,118000,117000,116000,115000,114000,113000,112000,111000,110000,109000,108000,107000,106000,105000,104000,103000,102000,101000,100000,99000,98000,97000,96000,95000,94000,93000,92000,91000,90000,89000,88000,87000,86000,85000,84000,83000,82000,81000,80000,79000,78000,77000,76000,75000,74000,73000,72000,71000,70000,69000,68000,67000,66000,65000,64000,63000,62000,61000,60000,59000,58000,57000,56000,55000,54000,53000,52000,51000,50000,49000,48000,47000,46000,45000,44000,43000,42000,41000,40000,39000,38000,37000,36000,35000,34000,33000,32000,31000,30000,29000,28000,27000,26000,25000,24000,23000,22000,21000,20000,19000,18000,17000,16000,15000,14000,13000,12000,11000,10000,9000,8000,7000,6000,5000,4000,3000,2000,1000,0],\"y\":{\"__ndarray__\":\"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\",\"dtype\":\"float64\",\"shape\":[600]}}},\"id\":\"a55d6082-1ff3-4107-b460-5a53ddd93e36\",\"type\":\"ColumnDataSource\"},{\"attributes\":{\"callback\":null},\"id\":\"c3540f18-e1a0-4520-b0b4-c615605717de\",\"type\":\"DataRange1d\"},{\"attributes\":{},\"id\":\"becaa134-04e9-49d0-b6a0-d74152cfec50\",\"type\":\"ToolEvents\"},{\"attributes\":{\"active_drag\":\"auto\",\"active_scroll\":\"auto\",\"active_tap\":\"auto\",\"tools\":[{\"id\":\"3da3b87c-732f-403f-a890-16f5874af446\",\"type\":\"PanTool\"},{\"id\":\"e4ca337c-a66a-43a5-af53-ae8f6dc03aea\",\"type\":\"WheelZoomTool\"},{\"id\":\"4714170c-d6c3-4e68-b674-f2d181b7c25f\",\"type\":\"BoxZoomTool\"},{\"id\":\"ec8ce4f9-3cbe-4124-a7f4-98f6bd65bd0e\",\"type\":\"SaveTool\"},{\"id\":\"f6198c51-edab-43e6-bccc-ae5d2ce9f07a\",\"type\":\"ResetTool\"},{\"id\":\"51923557-904e-4f26-b7bf-efef2b0f5772\",\"type\":\"HelpTool\"}]},\"id\":\"2fa3af48-f553-4348-856e-47b8bfbada4d\",\"type\":\"Toolbar\"},{\"attributes\":{\"below\":[{\"id\":\"d8025ed4-cb20-4d9f-9546-9e8ef5b03a86\",\"type\":\"LinearAxis\"}],\"left\":[{\"id\":\"ec39f5bd-d52b-419a-aab5-e40a53ca8c03\",\"type\":\"LinearAxis\"}],\"plot_height\":800,\"plot_width\":1200,\"renderers\":[{\"id\":\"d8025ed4-cb20-4d9f-9546-9e8ef5b03a86\",\"type\":\"LinearAxis\"},{\"id\":\"6d9d1e79-c19a-4bd6-bcc8-004089ba5b4a\",\"type\":\"Grid\"},{\"id\":\"ec39f5bd-d52b-419a-aab5-e40a53ca8c03\",\"type\":\"LinearAxis\"},{\"id\":\"9ffa21c8-563e-463f-a506-7250654785df\",\"type\":\"Grid\"},{\"id\":\"a8b085af-df89-4353-a3d1-6d107f1ac7a2\",\"type\":\"BoxAnnotation\"},{\"id\":\"8c7607f8-9cab-4376-8dcb-ba7a9fbb2c4b\",\"type\":\"GlyphRenderer\"},{\"id\":\"1f3761db-5f77-42a0-a714-0076eb53e288\",\"type\":\"GlyphRenderer\"},{\"id\":\"017f5bae-d98b-448a-88f0-570199925a22\",\"type\":\"GlyphRenderer\"},{\"id\":\"945e20fc-89d4-4075-b530-b7d711bccc09\",\"type\":\"GlyphRenderer\"},{\"id\":\"f684544f-0bc9-445b-991e-1a7eace4eec7\",\"type\":\"GlyphRenderer\"},{\"id\":\"ccef8123-0343-4e1e-9243-e0940e163f38\",\"type\":\"GlyphRenderer\"},{\"id\":\"b4fdb1d8-1c27-47d5-998b-ffce652f0d19\",\"type\":\"Legend\"}],\"right\":[{\"id\":\"b4fdb1d8-1c27-47d5-998b-ffce652f0d19\",\"type\":\"Legend\"}],\"title\":{\"id\":\"64bdc3d3-a70a-4ae3-801f-aae063afa496\",\"type\":\"Title\"},\"tool_events\":{\"id\":\"becaa134-04e9-49d0-b6a0-d74152cfec50\",\"type\":\"ToolEvents\"},\"toolbar\":{\"id\":\"2fa3af48-f553-4348-856e-47b8bfbada4d\",\"type\":\"Toolbar\"},\"toolbar_location\":\"above\",\"x_range\":{\"id\":\"c3540f18-e1a0-4520-b0b4-c615605717de\",\"type\":\"DataRange1d\"},\"y_range\":{\"id\":\"8cd1d231-6482-4c55-b3e3-006264b38abc\",\"type\":\"DataRange1d\"}},\"id\":\"5cffed8a-7727-4b1c-8490-a1a0d02392b6\",\"subtype\":\"Figure\",\"type\":\"Plot\"}],\"root_ids\":[\"5cffed8a-7727-4b1c-8490-a1a0d02392b6\"]},\"title\":\"Bokeh Application\",\"version\":\"0.12.4\"}};\n",
       "            var render_items = [{\"docid\":\"9b252f10-03db-449f-9003-7d4870fccead\",\"elementid\":\"acb39c2c-fc6a-4e4f-bd57-d232a1d9ed0c\",\"modelid\":\"5cffed8a-7727-4b1c-8490-a1a0d02392b6\"}];\n",
       "            \n",
       "            Bokeh.embed.embed_items(docs_json, render_items);\n",
       "          };\n",
       "          if (document.readyState != \"loading\") fn();\n",
       "          else document.addEventListener(\"DOMContentLoaded\", fn);\n",
       "        })();\n",
       "      },\n",
       "      function(Bokeh) {\n",
       "      }\n",
       "    ];\n",
       "  \n",
       "    function run_inline_js() {\n",
       "      \n",
       "      if ((window.Bokeh !== undefined) || (force === true)) {\n",
       "        for (var i = 0; i < inline_js.length; i++) {\n",
       "          inline_js[i](window.Bokeh);\n",
       "        }if (force === true) {\n",
       "          display_loaded();\n",
       "        }} else if (Date.now() < window._bokeh_timeout) {\n",
       "        setTimeout(run_inline_js, 100);\n",
       "      } else if (!window._bokeh_failed_load) {\n",
       "        console.log(\"Bokeh: BokehJS failed to load within specified timeout.\");\n",
       "        window._bokeh_failed_load = true;\n",
       "      } else if (force !== true) {\n",
       "        var cell = $(document.getElementById(\"acb39c2c-fc6a-4e4f-bd57-d232a1d9ed0c\")).parents('.cell').data().cell;\n",
       "        cell.output_area.append_execute_result(NB_LOAD_WARNING)\n",
       "      }\n",
       "  \n",
       "    }\n",
       "  \n",
       "    if (window._bokeh_is_loading === 0) {\n",
       "      console.log(\"Bokeh: BokehJS loaded, going straight to plotting\");\n",
       "      run_inline_js();\n",
       "    } else {\n",
       "      load_libs(js_urls, function() {\n",
       "        console.log(\"Bokeh: BokehJS plotting callback run at\", now());\n",
       "        run_inline_js();\n",
       "      });\n",
       "    }\n",
       "  }(this));\n",
       "</script>"
      ]
     },
     "metadata": {},
     "output_type": "display_data"
    }
   ],
   "source": [
    "plot_states(names, t_maxs, Set1[len(names)], legends, directories, step=1000, title=\"Med Maze 10\")"
   ]
  },
  {
   "cell_type": "code",
   "execution_count": null,
   "metadata": {
    "collapsed": true,
    "deletable": true,
    "editable": true
   },
   "outputs": [],
   "source": []
  },
  {
   "cell_type": "code",
   "execution_count": null,
   "metadata": {
    "collapsed": true,
    "deletable": true,
    "editable": true
   },
   "outputs": [],
   "source": []
  },
  {
   "cell_type": "code",
   "execution_count": null,
   "metadata": {
    "collapsed": true,
    "deletable": true,
    "editable": true
   },
   "outputs": [],
   "source": [
    "DQN_Smoothed = []\n",
    "for times, rewards in zip(DQN_Lengths_C, DQN_Rewards):\n",
    "    linear = interp1d(times, rewards, kind=\"linear\")\n",
    "    linear_rewards = linear([i for i in range(500000)])\n",
    "    DQN_Smoothed.append(linear_rewards)"
   ]
  },
  {
   "cell_type": "code",
   "execution_count": null,
   "metadata": {
    "collapsed": true,
    "deletable": true,
    "editable": true
   },
   "outputs": [],
   "source": [
    "DQN_Means = np.mean(DQN_Smoothed, axis=0)"
   ]
  },
  {
   "cell_type": "code",
   "execution_count": null,
   "metadata": {
    "collapsed": true,
    "deletable": true,
    "editable": true
   },
   "outputs": [],
   "source": [
    "DQN_Stds = np.std(DQN_Smoothed, axis=0)"
   ]
  },
  {
   "cell_type": "code",
   "execution_count": null,
   "metadata": {
    "collapsed": false,
    "deletable": true,
    "editable": true
   },
   "outputs": [],
   "source": [
    "plt.fill_between([i for i in range(500000)], DQN_Means - DQN_Stds, DQN_Means + DQN_Stds, color=\"red\", alpha=0.3, edgecolor=\"white\")\n",
    "\n",
    "plt.plot([i for i in range(500000)], DQN_Means, color=\"red\")"
   ]
  },
  {
   "cell_type": "code",
   "execution_count": null,
   "metadata": {
    "collapsed": false,
    "deletable": true,
    "editable": true
   },
   "outputs": [],
   "source": [
    "len(DQN_Repeat)"
   ]
  },
  {
   "cell_type": "code",
   "execution_count": null,
   "metadata": {
    "collapsed": true,
    "deletable": true,
    "editable": true
   },
   "outputs": [],
   "source": [
    "plt.plot(DQN)"
   ]
  },
  {
   "cell_type": "code",
   "execution_count": null,
   "metadata": {
    "collapsed": true,
    "deletable": true,
    "editable": true
   },
   "outputs": [],
   "source": [
    "directories = [\"Logs/\"]"
   ]
  },
  {
   "cell_type": "code",
   "execution_count": null,
   "metadata": {
    "collapsed": false,
    "deletable": true,
    "editable": true
   },
   "outputs": [],
   "source": [
    "for i in range(0, 10, 2):\n",
    "    print(i)"
   ]
  },
  {
   "cell_type": "code",
   "execution_count": null,
   "metadata": {
    "collapsed": true,
    "deletable": true,
    "editable": true
   },
   "outputs": [],
   "source": []
  }
 ],
 "metadata": {
  "kernelspec": {
   "display_name": "Python 3",
   "language": "python",
   "name": "python3"
  },
  "language_info": {
   "codemirror_mode": {
    "name": "ipython",
    "version": 3
   },
   "file_extension": ".py",
   "mimetype": "text/x-python",
   "name": "python",
   "nbconvert_exporter": "python",
   "pygments_lexer": "ipython3",
   "version": "3.6.0"
  }
 },
 "nbformat": 4,
 "nbformat_minor": 2
}
