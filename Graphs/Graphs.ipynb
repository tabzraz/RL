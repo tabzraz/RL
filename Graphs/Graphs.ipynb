{
 "cells": [
  {
   "cell_type": "code",
   "execution_count": 1,
   "metadata": {
    "collapsed": false,
    "deletable": true,
    "editable": true
   },
   "outputs": [
    {
     "data": {
      "text/html": [
       "\n",
       "    <div class=\"bk-root\">\n",
       "        <a href=\"http://bokeh.pydata.org\" target=\"_blank\" class=\"bk-logo bk-logo-small bk-logo-notebook\"></a>\n",
       "        <span id=\"5bee9b55-f9e1-4793-91fd-60caa5afc53c\">Loading BokehJS ...</span>\n",
       "    </div>"
      ]
     },
     "metadata": {},
     "output_type": "display_data"
    },
    {
     "data": {
      "application/javascript": [
       "\n",
       "(function(global) {\n",
       "  function now() {\n",
       "    return new Date();\n",
       "  }\n",
       "\n",
       "  var force = true;\n",
       "\n",
       "  if (typeof (window._bokeh_onload_callbacks) === \"undefined\" || force === true) {\n",
       "    window._bokeh_onload_callbacks = [];\n",
       "    window._bokeh_is_loading = undefined;\n",
       "  }\n",
       "\n",
       "\n",
       "  \n",
       "  if (typeof (window._bokeh_timeout) === \"undefined\" || force === true) {\n",
       "    window._bokeh_timeout = Date.now() + 5000;\n",
       "    window._bokeh_failed_load = false;\n",
       "  }\n",
       "\n",
       "  var NB_LOAD_WARNING = {'data': {'text/html':\n",
       "     \"<div style='background-color: #fdd'>\\n\"+\n",
       "     \"<p>\\n\"+\n",
       "     \"BokehJS does not appear to have successfully loaded. If loading BokehJS from CDN, this \\n\"+\n",
       "     \"may be due to a slow or bad network connection. Possible fixes:\\n\"+\n",
       "     \"</p>\\n\"+\n",
       "     \"<ul>\\n\"+\n",
       "     \"<li>re-rerun `output_notebook()` to attempt to load from CDN again, or</li>\\n\"+\n",
       "     \"<li>use INLINE resources instead, as so:</li>\\n\"+\n",
       "     \"</ul>\\n\"+\n",
       "     \"<code>\\n\"+\n",
       "     \"from bokeh.resources import INLINE\\n\"+\n",
       "     \"output_notebook(resources=INLINE)\\n\"+\n",
       "     \"</code>\\n\"+\n",
       "     \"</div>\"}};\n",
       "\n",
       "  function display_loaded() {\n",
       "    if (window.Bokeh !== undefined) {\n",
       "      document.getElementById(\"5bee9b55-f9e1-4793-91fd-60caa5afc53c\").textContent = \"BokehJS successfully loaded.\";\n",
       "    } else if (Date.now() < window._bokeh_timeout) {\n",
       "      setTimeout(display_loaded, 100)\n",
       "    }\n",
       "  }\n",
       "\n",
       "  function run_callbacks() {\n",
       "    window._bokeh_onload_callbacks.forEach(function(callback) { callback() });\n",
       "    delete window._bokeh_onload_callbacks\n",
       "    console.info(\"Bokeh: all callbacks have finished\");\n",
       "  }\n",
       "\n",
       "  function load_libs(js_urls, callback) {\n",
       "    window._bokeh_onload_callbacks.push(callback);\n",
       "    if (window._bokeh_is_loading > 0) {\n",
       "      console.log(\"Bokeh: BokehJS is being loaded, scheduling callback at\", now());\n",
       "      return null;\n",
       "    }\n",
       "    if (js_urls == null || js_urls.length === 0) {\n",
       "      run_callbacks();\n",
       "      return null;\n",
       "    }\n",
       "    console.log(\"Bokeh: BokehJS not loaded, scheduling load and callback at\", now());\n",
       "    window._bokeh_is_loading = js_urls.length;\n",
       "    for (var i = 0; i < js_urls.length; i++) {\n",
       "      var url = js_urls[i];\n",
       "      var s = document.createElement('script');\n",
       "      s.src = url;\n",
       "      s.async = false;\n",
       "      s.onreadystatechange = s.onload = function() {\n",
       "        window._bokeh_is_loading--;\n",
       "        if (window._bokeh_is_loading === 0) {\n",
       "          console.log(\"Bokeh: all BokehJS libraries loaded\");\n",
       "          run_callbacks()\n",
       "        }\n",
       "      };\n",
       "      s.onerror = function() {\n",
       "        console.warn(\"failed to load library \" + url);\n",
       "      };\n",
       "      console.log(\"Bokeh: injecting script tag for BokehJS library: \", url);\n",
       "      document.getElementsByTagName(\"head\")[0].appendChild(s);\n",
       "    }\n",
       "  };var element = document.getElementById(\"5bee9b55-f9e1-4793-91fd-60caa5afc53c\");\n",
       "  if (element == null) {\n",
       "    console.log(\"Bokeh: ERROR: autoload.js configured with elementid '5bee9b55-f9e1-4793-91fd-60caa5afc53c' but no matching script tag was found. \")\n",
       "    return false;\n",
       "  }\n",
       "\n",
       "  var js_urls = [\"https://cdn.pydata.org/bokeh/release/bokeh-0.12.4.min.js\", \"https://cdn.pydata.org/bokeh/release/bokeh-widgets-0.12.4.min.js\"];\n",
       "\n",
       "  var inline_js = [\n",
       "    function(Bokeh) {\n",
       "      Bokeh.set_log_level(\"info\");\n",
       "    },\n",
       "    \n",
       "    function(Bokeh) {\n",
       "      \n",
       "      document.getElementById(\"5bee9b55-f9e1-4793-91fd-60caa5afc53c\").textContent = \"BokehJS is loading...\";\n",
       "    },\n",
       "    function(Bokeh) {\n",
       "      console.log(\"Bokeh: injecting CSS: https://cdn.pydata.org/bokeh/release/bokeh-0.12.4.min.css\");\n",
       "      Bokeh.embed.inject_css(\"https://cdn.pydata.org/bokeh/release/bokeh-0.12.4.min.css\");\n",
       "      console.log(\"Bokeh: injecting CSS: https://cdn.pydata.org/bokeh/release/bokeh-widgets-0.12.4.min.css\");\n",
       "      Bokeh.embed.inject_css(\"https://cdn.pydata.org/bokeh/release/bokeh-widgets-0.12.4.min.css\");\n",
       "    }\n",
       "  ];\n",
       "\n",
       "  function run_inline_js() {\n",
       "    \n",
       "    if ((window.Bokeh !== undefined) || (force === true)) {\n",
       "      for (var i = 0; i < inline_js.length; i++) {\n",
       "        inline_js[i](window.Bokeh);\n",
       "      }if (force === true) {\n",
       "        display_loaded();\n",
       "      }} else if (Date.now() < window._bokeh_timeout) {\n",
       "      setTimeout(run_inline_js, 100);\n",
       "    } else if (!window._bokeh_failed_load) {\n",
       "      console.log(\"Bokeh: BokehJS failed to load within specified timeout.\");\n",
       "      window._bokeh_failed_load = true;\n",
       "    } else if (force !== true) {\n",
       "      var cell = $(document.getElementById(\"5bee9b55-f9e1-4793-91fd-60caa5afc53c\")).parents('.cell').data().cell;\n",
       "      cell.output_area.append_execute_result(NB_LOAD_WARNING)\n",
       "    }\n",
       "\n",
       "  }\n",
       "\n",
       "  if (window._bokeh_is_loading === 0) {\n",
       "    console.log(\"Bokeh: BokehJS loaded, going straight to plotting\");\n",
       "    run_inline_js();\n",
       "  } else {\n",
       "    load_libs(js_urls, function() {\n",
       "      console.log(\"Bokeh: BokehJS plotting callback run at\", now());\n",
       "      run_inline_js();\n",
       "    });\n",
       "  }\n",
       "}(this));"
      ]
     },
     "metadata": {},
     "output_type": "display_data"
    }
   ],
   "source": [
    "from bokeh.plotting import figure, output_notebook, show\n",
    "output_notebook()"
   ]
  },
  {
   "cell_type": "code",
   "execution_count": 2,
   "metadata": {
    "collapsed": true,
    "deletable": true,
    "editable": true
   },
   "outputs": [],
   "source": [
    "import glob"
   ]
  },
  {
   "cell_type": "code",
   "execution_count": 3,
   "metadata": {
    "collapsed": true,
    "deletable": true,
    "editable": true
   },
   "outputs": [],
   "source": [
    "import numpy as np"
   ]
  },
  {
   "cell_type": "code",
   "execution_count": 4,
   "metadata": {
    "collapsed": true,
    "deletable": true,
    "editable": true
   },
   "outputs": [],
   "source": [
    "from scipy.interpolate import interp1d\n",
    "from scipy.interpolate import spline"
   ]
  },
  {
   "cell_type": "code",
   "execution_count": 5,
   "metadata": {
    "collapsed": true,
    "deletable": true,
    "editable": true
   },
   "outputs": [],
   "source": [
    "from tqdm import tqdm"
   ]
  },
  {
   "cell_type": "code",
   "execution_count": 6,
   "metadata": {
    "collapsed": true,
    "deletable": true,
    "editable": true
   },
   "outputs": [],
   "source": [
    "DQN_Rewards_Path = \"/home/tabz/Dropbox/RL/Log_Files/March 2017/Maze_5_Batch_Sizes_Logs/*DQN*/logs/Episode_Rewards.txt\"\n",
    "DQN_Lengths_Path = \"/home/tabz/Dropbox/RL/Log_Files/March 2017/Maze_5_Batch_Sizes_Logs/*DQN*/logs/Episode_Lengths.txt\"\n",
    "DQN_Rewards = []\n",
    "DQN_Lengths = []\n",
    "DQN_Lengths_C = []"
   ]
  },
  {
   "cell_type": "code",
   "execution_count": 7,
   "metadata": {
    "collapsed": true,
    "deletable": true,
    "editable": true
   },
   "outputs": [],
   "source": [
    "for filename in glob.glob(DQN_Rewards_Path):\n",
    "    run_logs = [0]\n",
    "#     print(filename)\n",
    "    with open(filename, \"r\") as f:\n",
    "        for line in f:\n",
    "            try:\n",
    "                ep_r = float(line)\n",
    "            except:\n",
    "                continue\n",
    "            run_logs.append(ep_r)\n",
    "    DQN_Rewards.append(run_logs)"
   ]
  },
  {
   "cell_type": "code",
   "execution_count": 8,
   "metadata": {
    "collapsed": true,
    "deletable": true,
    "editable": true
   },
   "outputs": [],
   "source": [
    "for filename in glob.glob(DQN_Lengths_Path):\n",
    "    run_logs = [0]\n",
    "#     print(filename)\n",
    "    with open(filename, \"r\") as f:\n",
    "        for line in f:\n",
    "            try:\n",
    "                ep_r = float(line)\n",
    "            except:\n",
    "                continue\n",
    "            run_logs.append(ep_r)\n",
    "    DQN_Lengths.append(run_logs)\n",
    "    run_logs_c = np.cumsum(run_logs).astype(np.int32)\n",
    "    DQN_Lengths_C.append(run_logs_c)"
   ]
  },
  {
   "cell_type": "markdown",
   "metadata": {
    "collapsed": false,
    "deletable": true,
    "editable": true
   },
   "source": [
    "for lens, runs in zip(DQN_Lengths_C, DQN_Rewards):\n",
    "    plt.plot(lens, runs)\n",
    "plt.show()"
   ]
  },
  {
   "cell_type": "markdown",
   "metadata": {
    "collapsed": false,
    "deletable": true,
    "editable": true
   },
   "source": [
    "p = figure(width=500, height=500, y_range=(-1,3))\n",
    "for lens, runs in zip(DQN_Lengths_C, DQN_Rewards):\n",
    "    p.line(lens, runs)\n",
    "show(p)"
   ]
  },
  {
   "cell_type": "code",
   "execution_count": null,
   "metadata": {
    "collapsed": true,
    "deletable": true,
    "editable": true
   },
   "outputs": [],
   "source": []
  },
  {
   "cell_type": "markdown",
   "metadata": {
    "collapsed": true,
    "deletable": true,
    "editable": true
   },
   "source": [
    "def plot_averages(names, t_maxs, colors, legends=None, directory=\"Logs/\", step=10):\n",
    "    plt.figure(figsize=(10,10))\n",
    "    plt.ylim(-1, 3)\n",
    "    for name, color, t_max in tqdm(zip(names, colors, t_maxs)):\n",
    "        # TODO: Remove DQN from names\n",
    "        DQN_Rewards_Path = directory + \"*\" + name + \"*/logs/Episode_Rewards.txt\"\n",
    "        DQN_Lengths_Path = directory + \"*\" + name + \"*/logs/Episode_Lengths.txt\"\n",
    "        DQN_Rewards = []\n",
    "        DQN_Lengths = []\n",
    "        DQN_Lengths_C = []\n",
    "        for filename in glob.glob(DQN_Rewards_Path):\n",
    "            run_logs = [0]\n",
    "            with open(filename, \"r\") as f:\n",
    "                for line in f:\n",
    "                    try:\n",
    "                        ep_r = float(line)\n",
    "                    except:\n",
    "                        continue\n",
    "                    run_logs.append(ep_r)\n",
    "            DQN_Rewards.append(run_logs)\n",
    "        for filename in glob.glob(DQN_Lengths_Path):\n",
    "            run_logs = [0]\n",
    "        #     print(filename)\n",
    "            with open(filename, \"r\") as f:\n",
    "                for line in f:\n",
    "                    try:\n",
    "                        ep_r = float(line)\n",
    "                    except:\n",
    "                        continue\n",
    "                    run_logs.append(ep_r)\n",
    "            DQN_Lengths.append(run_logs)\n",
    "            run_logs_c = np.cumsum(run_logs).astype(np.int32)\n",
    "            DQN_Lengths_C.append(run_logs_c)\n",
    "        DQN_Smoothed = []\n",
    "        for times, rewards in zip(DQN_Lengths_C, DQN_Rewards):\n",
    "#             linear = interp1d(times, rewards, kind=\"linear\")\n",
    "#             linear_rewards = linear([i for i in range(500000)])\n",
    "#             DQN_Smoothed.append(linear_rewards)\n",
    "            spline_rewards = spline(times, rewards, [i for i in range(0, t_max, step)])\n",
    "            DQN_Smoothed.append(spline_rewards)\n",
    "        DQN_Means = np.mean(DQN_Smoothed, axis=0)\n",
    "        DQN_Stds = np.std(DQN_Smoothed, axis=0)\n",
    "        plt.fill_between([i for i in range(0, t_max, step)], DQN_Means - DQN_Stds, DQN_Means + DQN_Stds, color=color, alpha=0.2, edgecolor=\"white\")\n",
    "\n",
    "        plt.plot([i for i in range(0, t_max, step)], DQN_Means, color=color)\n",
    "\n",
    "    plt.title(\"Episode_Reward\")\n",
    "    plt.xlabel(\"T\")\n",
    "    plt.ylabel(\"Reward\")\n",
    "    if legends is not None:\n",
    "        plt.legend(legends, bbox_to_anchor=(1.05, 1), loc=2)\n",
    "    plt.show()"
   ]
  },
  {
   "cell_type": "code",
   "execution_count": 9,
   "metadata": {
    "collapsed": true,
    "deletable": true,
    "editable": true
   },
   "outputs": [],
   "source": [
    "from bokeh.models import Legend\n",
    "from bokeh.models.formatters import BasicTickFormatter\n",
    "from bokeh.models import HoverTool, TapTool"
   ]
  },
  {
   "cell_type": "code",
   "execution_count": 10,
   "metadata": {
    "collapsed": false,
    "deletable": true,
    "editable": true
   },
   "outputs": [],
   "source": [
    "def plot_averages_b(names, t_maxs, colors, legends, directories=\"Logs/\", step=10, title=\"\", min_max=True):\n",
    "#     plt.figure(figsize=(10,10))\n",
    "    p = figure(width=1200, height=800, y_range=(-0.1, 1.1), title=title)\n",
    "    p.toolbar_location = \"above\"\n",
    "    p.yaxis.axis_label = \"Episode Reward\"\n",
    "    p.xaxis.axis_label = \"T\"\n",
    "    p.xaxis.formatter = BasicTickFormatter(use_scientific=False)\n",
    "#     p = figure(width=800, height=500)\n",
    "    lines = []\n",
    "    alpha_lines = []\n",
    "    if isinstance(directories, str):\n",
    "        dd = directories\n",
    "        directories = [dd for _ in names]\n",
    "    for name, color, t_max, legend, directory in zip(names, colors, t_maxs, legends, directories):\n",
    "#         print(directory)\n",
    "        DQN_Rewards_Path = directory + \"*\" + name + \"*/logs/Episode_Rewards.txt\"\n",
    "        DQN_Lengths_Path = directory + \"*\" + name + \"*/logs/Episode_Lengths.txt\"\n",
    "        DQN_Rewards = []\n",
    "        DQN_Lengths = []\n",
    "        DQN_Lengths_C = []\n",
    "        for filename in glob.glob(DQN_Rewards_Path):\n",
    "            run_logs = [0]\n",
    "            with open(filename, \"r\") as f:\n",
    "#                 print(f)\n",
    "                for line in f:\n",
    "                    try:\n",
    "                        ep_r = float(line)\n",
    "                    except:\n",
    "                        print(\"Nothing here for:\", filename)\n",
    "                        continue\n",
    "                    run_logs.append(ep_r)\n",
    "            DQN_Rewards.append(run_logs)\n",
    "        for filename in glob.glob(DQN_Lengths_Path):\n",
    "            run_logs = [0]\n",
    "        #     print(filename)\n",
    "            with open(filename, \"r\") as f:\n",
    "                for line in f:\n",
    "                    try:\n",
    "                        ep_r = float(line)\n",
    "                    except:\n",
    "                        continue\n",
    "                    run_logs.append(ep_r)\n",
    "            DQN_Lengths.append(run_logs)\n",
    "            run_logs_c = np.cumsum(run_logs).astype(np.int32)\n",
    "            DQN_Lengths_C.append(run_logs_c)\n",
    "        DQN_Smoothed = []\n",
    "        for times, rewards in zip(DQN_Lengths_C, DQN_Rewards):\n",
    "#             linear = interp1d(times, rewards, kind=\"linear\")\n",
    "#             linear_rewards = linear([i for i in range(500000)])\n",
    "#             DQN_Smoothed.append(linear_rewards)\n",
    "            spline_rewards = spline(times, rewards, [i for i in range(0, t_max, step)], order=1)\n",
    "            DQN_Smoothed.append(spline_rewards)\n",
    "        DQN_Means = np.mean(DQN_Smoothed, axis=0)\n",
    "        DQN_Stds = np.std(DQN_Smoothed, axis=0)\n",
    "        \n",
    "        if min_max:\n",
    "    #         plt.fill_between([i for i in range(0, t_max, step)], DQN_Means - DQN_Stds, DQN_Means + DQN_Stds, color=color, alpha=0.2, edgecolor=\"white\")\n",
    "            # Error bars\n",
    "            xs = [i for i in range(0, t_max, step)]\n",
    "            xs = xs + list(reversed(xs))\n",
    "    #         ys = np.concatenate([DQN_Means - DQN_Stds, np.flip(DQN_Means + DQN_Stds, axis=0)])\n",
    "            ys = np.concatenate([np.min(DQN_Smoothed, axis=0), np.flip(np.max(DQN_Smoothed, axis=0), axis=0)])\n",
    "            lls = p.patch(xs, ys, color=color, alpha=0.1)\n",
    "\n",
    "\n",
    "    #         for x, y, yerr in zip(range(0, t_max, step), DQN_Means, DQN_Stds):\n",
    "    #             lls = p.line([x, x], [y - yerr, y + yerr], color=color, alpha=0.1, hover_alpha=0.8)\n",
    "    #             alpha_lines.append(lls)\n",
    "\n",
    "\n",
    "    #         plt.plot([i for i in range(0, t_max, step)], DQN_Means, color=color)\n",
    "        l = p.line([i for i in range(0, t_max, step)], DQN_Means, color=color, line_width=2)\n",
    "        lines.append(l)\n",
    "    #         alpha_lines.append(lls)\n",
    "\n",
    "#     plt.title(\"Episode_Reward\")\n",
    "#     plt.xlabel(\"T\")\n",
    "#     plt.ylabel(\"Reward\")\n",
    "#     if legends is not None:\n",
    "#         plt.legend(legends)\n",
    "#     plt.show()\n",
    "#     p.line([0,1], [-1,3])\n",
    "    new_leg = Legend(items=[(name, [line]) for name, line in zip(legends, lines)], location=(0,-30))\n",
    "    p.add_layout(new_leg, \"right\")\n",
    "#     p.add_tools(HoverTool(renderers=alpha_lines))\n",
    "#     p.add_tools(TapTool(renderers=alpha_lines))\n",
    "    show(p)"
   ]
  },
  {
   "cell_type": "code",
   "execution_count": 11,
   "metadata": {
    "collapsed": false,
    "deletable": true,
    "editable": true
   },
   "outputs": [],
   "source": [
    "def plot_states(names, t_maxs, colors, legends, directories=\"Logs/\", step=10, title=\"\"):\n",
    "#     plt.figure(figsize=(10,10))\n",
    "    p = figure(width=1200, height=800, title=title)\n",
    "    p.toolbar_location = \"above\"\n",
    "    p.yaxis.axis_label = \"States visited\"\n",
    "    p.xaxis.axis_label = \"T\"\n",
    "    p.xaxis.formatter = BasicTickFormatter(use_scientific=False)\n",
    "#     p = figure(width=800, height=500)\n",
    "    lines = []\n",
    "    alpha_lines = []\n",
    "    if isinstance(directories, str):\n",
    "        dd = directories\n",
    "        directories = [dd for _ in names]\n",
    "    for name, color, t_max, legend, directory in zip(names, colors, t_maxs, legends, directories):\n",
    "#         print(directory)\n",
    "        States_Path = directory + \"*\" + name + \"*/logs/Player_Positions.txt\"\n",
    "        States = []\n",
    "        for filename in glob.glob(States_Path):\n",
    "            run_logs = []\n",
    "            with open(filename, \"r\") as f:\n",
    "#                 print(f)\n",
    "                for line in f:\n",
    "                    try:\n",
    "                        ep_r = str(line)\n",
    "#                         print(ep_r)\n",
    "                    except:\n",
    "                        print(\"Nothing here for:\", filename)\n",
    "                        continue\n",
    "                    run_logs.append(ep_r)\n",
    "            States.append(run_logs)\n",
    "        States_Visited = []\n",
    "        for run in States:\n",
    "            Visited = []\n",
    "            States_Sets = set()\n",
    "#             print(len(run))\n",
    "            for ii, s in enumerate(run):\n",
    "                if ii >= t_max - 1:\n",
    "                    break\n",
    "#                 print(s)\n",
    "                States_Sets.add(s)\n",
    "                if ii % step == 0:\n",
    "                    Visited.append(len(States_Sets))\n",
    "#             print(len(States_Sets))\n",
    "#             print(len(Visited))\n",
    "            States_Visited.append(Visited)\n",
    "#         print(np.array(States_Visited).shape)\n",
    "        Means = np.mean(States_Visited, axis=0)\n",
    "        Stds = np.std(States_Visited, axis=0)\n",
    "#         print(Means.shape)\n",
    "        \n",
    "#         plt.fill_between([i for i in range(0, t_max, step)], DQN_Means - DQN_Stds, DQN_Means + DQN_Stds, color=color, alpha=0.2, edgecolor=\"white\")\n",
    "        # Error bars\n",
    "        xs = [i for i in range(0, t_max, step)]\n",
    "        xs = xs + list(reversed(xs))\n",
    "#         ys = np.concatenate([Means - Stds, np.flip(Means + Stds, axis=0)])\n",
    "        ys = np.concatenate([np.min(States_Visited, axis=0), np.flip(np.max(States_Visited, axis=0), axis=0)])\n",
    "        lls = p.patch(xs, ys, color=color, alpha=0.1)\n",
    "\n",
    "        \n",
    "#         for x, y, yerr in zip(range(0, t_max, step), DQN_Means, DQN_Stds):\n",
    "#             lls = p.line([x, x], [y - yerr, y + yerr], color=color, alpha=0.1, hover_alpha=0.8)\n",
    "#             alpha_lines.append(lls)\n",
    "            \n",
    "\n",
    "#         plt.plot([i for i in range(0, t_max, step)], DQN_Means, color=color)\n",
    "        l = p.line([i for i in range(0, t_max, step)], Means, color=color, line_width=2)\n",
    "        lines.append(l)\n",
    "#         alpha_lines.append(lls)\n",
    "\n",
    "#     plt.title(\"Episode_Reward\")\n",
    "#     plt.xlabel(\"T\")\n",
    "#     plt.ylabel(\"Reward\")\n",
    "#     if legends is not None:\n",
    "#         plt.legend(legends)\n",
    "#     plt.show()\n",
    "#     p.line([0,1], [-1,3])\n",
    "    new_leg = Legend(items=[(name, [line]) for name, line in zip(legends, lines)], location=(0,-30))\n",
    "    p.add_layout(new_leg, \"right\")\n",
    "#     p.add_tools(HoverTool(renderers=alpha_lines))\n",
    "#     p.add_tools(TapTool(renderers=alpha_lines))\n",
    "    show(p)"
   ]
  },
  {
   "cell_type": "code",
   "execution_count": null,
   "metadata": {
    "collapsed": true,
    "deletable": true,
    "editable": true
   },
   "outputs": [],
   "source": []
  },
  {
   "cell_type": "code",
   "execution_count": 12,
   "metadata": {
    "collapsed": false,
    "deletable": true,
    "editable": true
   },
   "outputs": [
    {
     "name": "stdout",
     "output_type": "stream",
     "text": [
      "['_10_Step_*DQN_', '_10_Step_*k_Count_', '_10_Step_*_CountEps_']\n",
      "[300001, 300001, 300001]\n"
     ]
    }
   ],
   "source": [
    "names = []\n",
    "legends = []\n",
    "t_maxs = []\n",
    "directories = []\n",
    "\n",
    "            \n",
    "# Frontier stuff\n",
    "for step in [10]:\n",
    "    # DQN\n",
    "    names += [\"_{}_Step_*DQN_\".format(step)]\n",
    "    legends += [\"{}_Step_DQN\".format(step)]\n",
    "    t_maxs += [300001]\n",
    "#     continue\n",
    "    # PseudoCount\n",
    "    names += [\"_{}_Step_*k_Count_\".format(step)]\n",
    "    legends += [\"{}_Step_Count\".format(step)]\n",
    "    t_maxs += [300001]\n",
    "#     continue\n",
    "    # EpsilonScaling\n",
    "    names += [\"_{}_Step_*_CountEps_\".format(step)]\n",
    "    legends += [\"{}_Step_Epsilon_Scaling\".format(step)]\n",
    "    t_maxs += [300001]\n",
    "            \n",
    "    \n",
    "direc = \"/home/tabz/tmp/logfiles/MedMaze10/MedMaze10\"\n",
    "# directories =  [\"{}/{}\".format(dropbox_direc, \"Maze_5_Logs/\")] + 3 * [\"{}/{}\".format(dropbox_direc, \"Maze_5_Batch_Sizes_Logs/\")] \n",
    "directories += [direc + \"/EpsilonLogs/\"] * 3\n",
    "    \n",
    "print(names)\n",
    "print(t_maxs)\n",
    "# colours = [\"red\", \"#3366ff\", \"#66ff33\", \"yellow\"]\n",
    "# colours = rainbow(np.linspace(0, 1, len(names)))"
   ]
  },
  {
   "cell_type": "code",
   "execution_count": 13,
   "metadata": {
    "collapsed": false,
    "deletable": true,
    "editable": true
   },
   "outputs": [
    {
     "name": "stdout",
     "output_type": "stream",
     "text": [
      "['_100_Step*k_Count_', '_100_Step*OptimisticAction', '_100_Step*_CountEps_']\n",
      "[300001, 300001, 300001]\n",
      "/home/scratch/tabhid/Log_Files/Gamma_Logs//\n"
     ]
    }
   ],
   "source": [
    "names = []\n",
    "legends = []\n",
    "t_maxs = []\n",
    "\n",
    "            \n",
    "# Frontier bandit stuff\n",
    "\n",
    "for n in [100]:\n",
    "    \n",
    "    # Count\n",
    "    names += [\"_{}_Step*k_Count_\".format(n)]\n",
    "    legends += [\"{}_Step_Count\".format(n)]\n",
    "    t_maxs += [300001]\n",
    "#     continue\n",
    "    # Optimistic\n",
    "    names += [\"_{}_Step*OptimisticAction\".format(n)]\n",
    "    legends += [\"{}_Step_OptimisticAction\".format(n)]\n",
    "    t_maxs += [300001]\n",
    "#     continue\n",
    "    # Epsilon Scaling\n",
    "    names += [\"_{}_Step*_CountEps_\".format(n)]\n",
    "    legends += [\"{}_Step_EpsilonScaling\".format(n)]\n",
    "    t_maxs += [300001]\n",
    "            \n",
    "    \n",
    "direc = \"/home/scratch/tabhid/Log_Files/Gamma_Logs//\"\n",
    "# directories =  [\"{}/{}\".format(dropbox_direc, \"Maze_5_Logs/\")] + 3 * [\"{}/{}\".format(dropbox_direc, \"Maze_5_Batch_Sizes_Logs/\")] \n",
    "# directories += [direc + \"/BanditLogs/\"] * 3\n",
    "directories = direc\n",
    "    \n",
    "print(names)\n",
    "print(t_maxs)\n",
    "print(directories)\n",
    "# colours = [\"red\", \"#3366ff\", \"#66ff33\", \"yellow\"]\n",
    "# colours = rainbow(np.linspace(0, 1, len(names)))"
   ]
  },
  {
   "cell_type": "code",
   "execution_count": 14,
   "metadata": {
    "collapsed": false,
    "deletable": true,
    "editable": true
   },
   "outputs": [
    {
     "name": "stdout",
     "output_type": "stream",
     "text": [
      "['_0.9_Decay*_Eps_0.1_', '_0.99_Decay*_Eps_0.1_', '_0.9999_Decay*_Eps_0.1_', '_0.9_Decay*_Eps_1_', '_0.99_Decay*_Eps_1_', '_0.9999_Decay*_Eps_1_']\n",
      "[300001, 300001, 300001, 300001, 300001, 300001]\n",
      "/home/tabz/tmp/Epsilon_Decay_Logs/\n"
     ]
    }
   ],
   "source": [
    "names = []\n",
    "legends = []\n",
    "t_maxs = []\n",
    "\n",
    "            \n",
    "# Epsilon Decay Scaling\n",
    "for eps in [0.1, 1]:\n",
    "    for decay in [0.9, 0.99, 0.9999]:\n",
    "    \n",
    "        names += [\"_{}_Decay*_Eps_{}_\".format(decay, eps)]\n",
    "        legends += [\"{}_Decay_EpsilonScaling_{}_Start\".format(decay, eps)]\n",
    "        t_maxs += [300001]\n",
    "            \n",
    "    \n",
    "# direc = \"/home/scratch/tabhid/Log_Files/Epsilon_Decay_Logs/\"\n",
    "direc = \"/home/tabz/tmp/Epsilon_Decay_Logs/\"\n",
    "# directories =  [\"{}/{}\".format(dropbox_direc, \"Maze_5_Logs/\")] + 3 * [\"{}/{}\".format(dropbox_direc, \"Maze_5_Batch_Sizes_Logs/\")] \n",
    "# directories += [direc + \"/BanditLogs/\"] * 3\n",
    "directories = direc\n",
    "    \n",
    "print(names)\n",
    "print(t_maxs)\n",
    "print(directories)"
   ]
  },
  {
   "cell_type": "code",
   "execution_count": 15,
   "metadata": {
    "collapsed": false,
    "deletable": true,
    "editable": true
   },
   "outputs": [
    {
     "name": "stdout",
     "output_type": "stream",
     "text": [
      "['_NegativeReward_0.5_', '_NegativeReward_0.7_', '_NegativeReward_0.9_']\n",
      "[300001, 300001, 300001]\n",
      "/home/tabz/tmp/Big_Negative_Reward_Logs/\n"
     ]
    }
   ],
   "source": [
    "names = []\n",
    "legends = []\n",
    "t_maxs = []\n",
    "\n",
    "            \n",
    "# Negative reward threshold\n",
    "for ns in [0.5, 0.7,  0.9]:\n",
    "    names += [\"_NegativeReward_{}_\".format(ns)]\n",
    "    legends += [\"NegativeReward_{}_Threshold\".format(ns)]\n",
    "    t_maxs += [300001]\n",
    "            \n",
    "    \n",
    "# direc = \"/home/scratch/tabhid/Log_Files/Epsilon_Decay_Logs/\"\n",
    "direc = \"/home/tabz/tmp/Big_Negative_Reward_Logs/\"\n",
    "# directories =  [\"{}/{}\".format(dropbox_direc, \"Maze_5_Logs/\")] + 3 * [\"{}/{}\".format(dropbox_direc, \"Maze_5_Batch_Sizes_Logs/\")] \n",
    "# directories += [direc + \"/BanditLogs/\"] * 3\n",
    "directories = direc\n",
    "    \n",
    "print(names)\n",
    "print(t_maxs)\n",
    "print(directories)"
   ]
  },
  {
   "cell_type": "code",
   "execution_count": 16,
   "metadata": {
    "collapsed": false,
    "deletable": true,
    "editable": true
   },
   "outputs": [
    {
     "name": "stdout",
     "output_type": "stream",
     "text": [
      "['k_OptimisticAction_0.0001_Scaler', 'k_OptimisticAction_0.0005_Scaler', 'k_OptimisticAction_0.001_Scaler', 'k_OptimisticAction_0.005_Scaler']\n",
      "[300001, 300001, 300001, 300001]\n",
      "/home/scratch/tabhid/Log_Files/Bandit_Small_Tau_Logs/\n"
     ]
    }
   ],
   "source": [
    "names = []\n",
    "legends = []\n",
    "t_maxs = []\n",
    "\n",
    "            \n",
    "# Bandit Tau\n",
    "for tau in [0.0001, 0.0005, 0.001, 0.005]:\n",
    "    for negative_reward in [False]:\n",
    "        if negative_reward:\n",
    "            names += [\"NegativeReward_*_OptimisticAction_{}_Scaler\".format(tau)]\n",
    "            legends += [\"Optim Bandit {} Tau Neg Reward\".format(tau)]\n",
    "        else:\n",
    "            names += [\"k_OptimisticAction_{}_Scaler\".format(tau)]\n",
    "            legends += [\"Optim Bandit {} Tau\".format(tau)]\n",
    "        t_maxs += [300001]\n",
    "            \n",
    "    \n",
    "direc = \"/home/scratch/tabhid/Log_Files/Bandit_Small_Tau_Logs/\"\n",
    "# direc = \"/home/tabz/tmp/Bandit_Tau_Logs/\"\n",
    "# directories =  [\"{}/{}\".format(dropbox_direc, \"Maze_5_Logs/\")] + 3 * [\"{}/{}\".format(dropbox_direc, \"Maze_5_Batch_Sizes_Logs/\")] \n",
    "# directories += [direc + \"/BanditLogs/\"] * 3\n",
    "directories = direc\n",
    "    \n",
    "print(names)\n",
    "print(t_maxs)\n",
    "print(directories)"
   ]
  },
  {
   "cell_type": "code",
   "execution_count": 17,
   "metadata": {
    "collapsed": false,
    "deletable": true,
    "editable": true
   },
   "outputs": [
    {
     "name": "stdout",
     "output_type": "stream",
     "text": [
      "['Batch_64_XpSize_600k', 'Batch_128_XpSize_600k', 'Batch_256_XpSize_600k']\n",
      "[600001, 600001, 600001]\n",
      "/home/tabz/tmp/logfiles/MedMaze10/Batch_Size_Logs/\n"
     ]
    }
   ],
   "source": [
    "names = []\n",
    "legends = []\n",
    "t_maxs = []\n",
    "\n",
    "            \n",
    "# Batch Size\n",
    "for xp in [600]:\n",
    "    for bs in [64, 128, 256]:\n",
    "        names += [\"Batch_{}_XpSize_{}k\".format(bs, xp)]\n",
    "        legends += [\"Batch {} Xp {}k\".format(bs, xp)]\n",
    "        t_maxs += [600001]\n",
    "            \n",
    "    \n",
    "# direc = \"/home/scratch/tabhid/Log_Files/Xp_Logs/\"\n",
    "direc = \"/home/tabz/tmp/logfiles/MedMaze10/Batch_Size_Logs/\"\n",
    "# directories =  [\"{}/{}\".format(dropbox_direc, \"Maze_5_Logs/\")] + 3 * [\"{}/{}\".format(dropbox_direc, \"Maze_5_Batch_Sizes_Logs/\")] \n",
    "# directories += [direc + \"/BanditLogs/\"] * 3\n",
    "directories = direc\n",
    "    \n",
    "print(names)\n",
    "print(t_maxs)\n",
    "print(directories)"
   ]
  },
  {
   "cell_type": "code",
   "execution_count": 18,
   "metadata": {
    "collapsed": false,
    "deletable": true,
    "editable": true
   },
   "outputs": [
    {
     "name": "stdout",
     "output_type": "stream",
     "text": [
      "['ETrace_0.7_6_States', 'ETrace_0.9_6_States', 'ETrace_1_6_States']\n",
      "[600001, 600001, 600001]\n",
      "/home/tabz/tmp/logfiles/MedMaze10/Elig_3_Logs/\n"
     ]
    }
   ],
   "source": [
    "names = []\n",
    "legends = []\n",
    "t_maxs = []\n",
    "\n",
    "            \n",
    "# Elig States\n",
    "for lamb in [0.7, 0.9, 1]:\n",
    "    for states in [6]:\n",
    "        names += [\"ETrace_{}_{}_States\".format(lamb, states)]\n",
    "        legends += [\"Traces {} Lambda {} States 3 Gap\".format(lamb, states)]\n",
    "        t_maxs += [600001]\n",
    "            \n",
    "    \n",
    "# direc = \"/home/scratch/tabhid/Log_Files/Xp_Logs/\"\n",
    "direc = \"/home/tabz/tmp/logfiles/MedMaze10/Elig_3_Logs/\"\n",
    "# directories =  [\"{}/{}\".format(dropbox_direc, \"Maze_5_Logs/\")] + 3 * [\"{}/{}\".format(dropbox_direc, \"Maze_5_Batch_Sizes_Logs/\")] \n",
    "# directories += [direc + \"/BanditLogs/\"] * 3\n",
    "directories = direc\n",
    "    \n",
    "print(names)\n",
    "print(t_maxs)\n",
    "print(directories)"
   ]
  },
  {
   "cell_type": "code",
   "execution_count": 19,
   "metadata": {
    "collapsed": false,
    "deletable": true,
    "editable": true
   },
   "outputs": [
    {
     "name": "stdout",
     "output_type": "stream",
     "text": [
      "['Iters_1_', 'Iters_2_', 'Iters_4_', 'Iters_8_', 'Iters_16_']\n",
      "[600001, 600001, 600001, 600001, 600001]\n",
      "/home/tabz/tmp/logfiles/MedMaze10/Iters_Logs/\n"
     ]
    }
   ],
   "source": [
    "names = []\n",
    "legends = []\n",
    "t_maxs = []\n",
    "\n",
    "            \n",
    "# Iterations\n",
    "for i in [1, 2, 4, 8, 16]:\n",
    "    names += [\"Iters_{}_\".format(i)]\n",
    "    legends += [\"{} Iterations\".format(i)]\n",
    "    t_maxs += [600001]\n",
    "            \n",
    "    \n",
    "# direc = \"/home/scratch/tabhid/Log_Files/Xp_Logs/\"\n",
    "direc = \"/home/tabz/tmp/logfiles/MedMaze10/Iters_Logs/\"\n",
    "# directories =  [\"{}/{}\".format(dropbox_direc, \"Maze_5_Logs/\")] + 3 * [\"{}/{}\".format(dropbox_direc, \"Maze_5_Batch_Sizes_Logs/\")] \n",
    "# directories += [direc + \"/BanditLogs/\"] * 3\n",
    "directories = direc\n",
    "    \n",
    "print(names)\n",
    "print(t_maxs)\n",
    "print(directories)"
   ]
  },
  {
   "cell_type": "code",
   "execution_count": 20,
   "metadata": {
    "collapsed": false,
    "deletable": true,
    "editable": true
   },
   "outputs": [
    {
     "name": "stdout",
     "output_type": "stream",
     "text": [
      "['k_CountEps_', 'Trajectory_0.2_', 'Trajectory_0.5_', 'Trajectory_0.75_', 'Trajectory_0.8_', 'Trajectory_0.9_']\n",
      "[600001, 600001, 600001, 600001, 600001, 600001]\n",
      "/home/tabz/tmp/logfiles/MedMaze10/Trajectory_Logs/\n"
     ]
    }
   ],
   "source": [
    "names = []\n",
    "legends = []\n",
    "t_maxs = []\n",
    "\n",
    "names += [\"k_CountEps_\"]\n",
    "legends += [\"No Trajectory\"]\n",
    "t_maxs += [600001]\n",
    "            \n",
    "# Trajectory\n",
    "for t in [0.2, 0.5, 0.75, 0.8, 0.9]:\n",
    "    names += [\"Trajectory_{}_\".format(t)]\n",
    "    legends += [\"Trajectory {} Save\".format(t)]\n",
    "    t_maxs += [600001]\n",
    "            \n",
    "    \n",
    "# direc = \"/home/scratch/tabhid/Log_Files/Xp_Logs/\"\n",
    "direc = \"/home/tabz/tmp/logfiles/MedMaze10/Trajectory_Logs/\"\n",
    "# directories =  [\"{}/{}\".format(dropbox_direc, \"Maze_5_Logs/\")] + 3 * [\"{}/{}\".format(dropbox_direc, \"Maze_5_Batch_Sizes_Logs/\")] \n",
    "# directories += [direc + \"/BanditLogs/\"] * 3\n",
    "directories = direc\n",
    "    \n",
    "print(names)\n",
    "print(t_maxs)\n",
    "print(directories)"
   ]
  },
  {
   "cell_type": "code",
   "execution_count": 21,
   "metadata": {
    "collapsed": false,
    "deletable": true,
    "editable": true
   },
   "outputs": [
    {
     "name": "stdout",
     "output_type": "stream",
     "text": [
      "['XpSize_30k*CountDecay_0.9999', 'XpSize_30k*CountDecay_0.999999', 'XpSize_30k*CountDecay_1', 'XpSize_60k*CountDecay_0.9999', 'XpSize_60k*CountDecay_0.999999', 'XpSize_60k*CountDecay_1', 'XpSize_100k*CountDecay_0.9999', 'XpSize_100k*CountDecay_0.999999', 'XpSize_100k*CountDecay_1']\n",
      "[600001, 600001, 600001, 600001, 600001, 600001, 600001, 600001, 600001]\n",
      "/home/tabz/tmp/logfiles/CountXpSort/\n"
     ]
    }
   ],
   "source": [
    "names = []\n",
    "legends = []\n",
    "t_maxs = []\n",
    "          \n",
    "# Count Xp Sort\n",
    "for xp in [30, 60, 100]:\n",
    "    for decay in [0.9999, 0.999999, 1]:\n",
    "        names += [\"XpSize_{}k*CountDecay_{}\".format(xp, decay)]\n",
    "        legends += [\"CountXp Sort {}k Xp {} CountDecay\".format(xp, decay)]\n",
    "        t_maxs += [600001]\n",
    "            \n",
    "    \n",
    "# direc = \"/home/scratch/tabhid/Log_Files/Xp_Logs/\"\n",
    "direc = \"/home/tabz/tmp/logfiles/CountXpSort/\"\n",
    "# directories =  [\"{}/{}\".format(dropbox_direc, \"Maze_5_Logs/\")] + 3 * [\"{}/{}\".format(dropbox_direc, \"Maze_5_Batch_Sizes_Logs/\")] \n",
    "# directories += [direc + \"/BanditLogs/\"] * 3\n",
    "directories = direc\n",
    "    \n",
    "print(names)\n",
    "print(t_maxs)\n",
    "print(directories)"
   ]
  },
  {
   "cell_type": "code",
   "execution_count": 22,
   "metadata": {
    "collapsed": false,
    "deletable": true,
    "editable": true
   },
   "outputs": [
    {
     "name": "stdout",
     "output_type": "stream",
     "text": [
      "['OptimisticAction_0.1', 'OptimisticAction_1', 'OptimisticAction_10', 'k_CountEps']\n",
      "[600001, 600001, 600001, 600001]\n",
      "/home/tabz/tmp/logfiles/MedMaze12/\n"
     ]
    }
   ],
   "source": [
    "names = []\n",
    "legends = []\n",
    "t_maxs = []\n",
    "          \n",
    "# MedMaze12\n",
    "\n",
    "#Bandits\n",
    "for os in [0.1, 1, 10]:\n",
    "    names += [\"OptimisticAction_{}\".format(os)]\n",
    "    legends += [\"Bandit {} Scaler\".format(os)]\n",
    "    t_maxs += [600001]\n",
    "    \n",
    "# #-ve reward\n",
    "# for nr in [0.5, 0.7]:\n",
    "#     names += [\"NegativeReward_{}\".format(nr)]\n",
    "#     legends += [\"Negative Reward {}\".format(nr)]\n",
    "#     t_maxs += [600001]\n",
    "    \n",
    "#CountXp\n",
    "names += [\"k_CountEps\"]\n",
    "legends += [\"Counts\"]\n",
    "t_maxs += [600001]\n",
    "            \n",
    "    \n",
    "# direc = \"/home/scratch/tabhid/Log_Files/Xp_Logs/\"\n",
    "direc = \"/home/tabz/tmp/logfiles/MedMaze12/\"\n",
    "# directories =  [\"{}/{}\".format(dropbox_direc, \"Maze_5_Logs/\")] + 3 * [\"{}/{}\".format(dropbox_direc, \"Maze_5_Batch_Sizes_Logs/\")] \n",
    "# directories += [direc + \"/BanditLogs/\"] * 3\n",
    "directories = direc\n",
    "    \n",
    "print(names)\n",
    "print(t_maxs)\n",
    "print(directories)"
   ]
  },
  {
   "cell_type": "code",
   "execution_count": 23,
   "metadata": {
    "collapsed": false,
    "deletable": true,
    "editable": true
   },
   "outputs": [
    {
     "name": "stdout",
     "output_type": "stream",
     "text": [
      "['k_CountEps*Stale_50k', 'Prioritized*Stale_50k', 'Prioritized_IS*Stale_50k', 'k_CountEps*Stale_300k', 'Prioritized*Stale_300k', 'Prioritized_IS*Stale_300k']\n",
      "[600001, 600001, 600001, 600001, 600001, 600001]\n",
      "/home/tabz/tmp/logfiles/Prioritized_Logs/\n"
     ]
    }
   ],
   "source": [
    "names = []\n",
    "legends = []\n",
    "t_maxs = []\n",
    "          \n",
    "# Prioritized replay stuff\n",
    "for fresh in [50, 300]:\n",
    "    for p in [None, \"P\", \"P_IS\"]:\n",
    "        if p is \"P\":\n",
    "            names += [\"Prioritized*Stale_{}k\".format(fresh)]\n",
    "            legends += [\"Prioritized {}k Fresh Counts\".format(fresh)]\n",
    "        elif p is \"P_IS\":\n",
    "            names += [\"Prioritized_IS*Stale_{}k\".format(fresh)]\n",
    "            legends += [\"Prioritized IS {}k Fresh Counts\".format(fresh)]\n",
    "        else:\n",
    "            names += [\"k_CountEps*Stale_{}k\".format(fresh)]\n",
    "            legends += [\"{}k Fresh Counts\".format(fresh)]\n",
    "        t_maxs += [600001]\n",
    "    \n",
    "direc = \"/home/tabz/tmp/logfiles/Prioritized_Logs/\"\n",
    "env = \"Med Maze 10\"\n",
    "directories = direc\n",
    "    \n",
    "print(names)\n",
    "print(t_maxs)\n",
    "print(directories)"
   ]
  },
  {
   "cell_type": "code",
   "execution_count": 24,
   "metadata": {
    "collapsed": false,
    "deletable": true,
    "editable": true
   },
   "outputs": [
    {
     "name": "stdout",
     "output_type": "stream",
     "text": [
      "['_0.1_Mix', '_0.3_Mix', '_0.5_Mix', '_0.7_Mix', '_0.9_Mix']\n",
      "[600001, 600001, 600001, 600001, 600001]\n",
      "/home/tabz/tmp/logfiles/Mixing_Logs/\n"
     ]
    }
   ],
   "source": [
    "names = []\n",
    "legends = []\n",
    "t_maxs = []\n",
    "          \n",
    "# Mixing\n",
    "for mix in [0.1, 0.3, 0.5, 0.7, 0.9]:\n",
    "    names += [\"_{}_Mix\".format(mix)]\n",
    "    legends += [\"{} Mixing\".format(mix)]\n",
    "    t_maxs += [600001]\n",
    "    \n",
    "direc = \"/home/tabz/tmp/logfiles/Mixing_Logs/\"\n",
    "directories = direc\n",
    "\n",
    "env =\"Med Maze 10\"\n",
    "    \n",
    "print(names)\n",
    "print(t_maxs)\n",
    "print(directories)"
   ]
  },
  {
   "cell_type": "code",
   "execution_count": 25,
   "metadata": {
    "collapsed": false,
    "deletable": true,
    "editable": true
   },
   "outputs": [
    {
     "name": "stdout",
     "output_type": "stream",
     "text": [
      "['OptimisticAction_0.1', 'OptimisticAction_0.01', 'OptimisticAction_0.001', 'CountEps_0.9999_', 'CountEps_0.999_', 'CountEps_0.99_', 'CountEps_0.9_']\n",
      "[600001, 600001, 600001, 600001, 600001, 600001, 600001]\n",
      "/home/tabz/tmp/logfiles/Frontier_Logs/\n"
     ]
    }
   ],
   "source": [
    "names = []\n",
    "legends = []\n",
    "t_maxs = []\n",
    "          \n",
    "# MedMaze12\n",
    "\n",
    "#Bandits\n",
    "for os in [0.1, 0.01, 0.001]:\n",
    "    names += [\"OptimisticAction_{}\".format(os)]\n",
    "    legends += [\"Bandit {} Scaler\".format(os)]\n",
    "    t_maxs += [600001]\n",
    "    \n",
    "#Epsilon decay\n",
    "for decay in [0.9999, 0.999, 0.99, 0.9]:\n",
    "    names += [\"CountEps_{}_\".format(decay)]\n",
    "    legends += [\"Epsilon Scaling {} Decay\".format(decay)]\n",
    "    t_maxs += [600001]\n",
    "            \n",
    "    \n",
    "direc = \"/home/tabz/tmp/logfiles/Frontier_Logs/\"\n",
    "directories = direc\n",
    "env = \"Med Maze 12\"\n",
    "    \n",
    "print(names)\n",
    "print(t_maxs)\n",
    "print(directories)"
   ]
  },
  {
   "cell_type": "code",
   "execution_count": 26,
   "metadata": {
    "collapsed": false,
    "deletable": true,
    "editable": true
   },
   "outputs": [
    {
     "name": "stdout",
     "output_type": "stream",
     "text": [
      "['NegativeReward_0.1', 'NegativeReward_0.2']\n",
      "[600001, 600001]\n",
      "/home/tabz/tmp/Neg/\n"
     ]
    }
   ],
   "source": [
    "names = []\n",
    "legends = []\n",
    "t_maxs = []\n",
    "          \n",
    "# MedMaze10 Set replay negative reward\n",
    "\n",
    "for neg_reward in [0.1, 0.2]:\n",
    "    names += [\"NegativeReward_{}\".format(neg_reward)]\n",
    "    legends += [\"Negative Reward {} Set Replay\".format(neg_reward)]\n",
    "    t_maxs += [600001]            \n",
    "    \n",
    "direc = \"/home/tabz/tmp/Neg/\"\n",
    "directories = direc\n",
    "env = \"Med Maze 10 Set Replay Negative Reward\"\n",
    "    \n",
    "print(names)\n",
    "print(t_maxs)\n",
    "print(directories)"
   ]
  },
  {
   "cell_type": "code",
   "execution_count": 27,
   "metadata": {
    "collapsed": false,
    "deletable": true,
    "editable": true
   },
   "outputs": [
    {
     "name": "stdout",
     "output_type": "stream",
     "text": [
      "['_10_Step*_SetReplay_5_', '_10_Step*_SetReplay_10_', '_10_Step*_SetReplay_100_', '_100_Step*_SetReplay_5_', '_100_Step*_SetReplay_10_', '_100_Step*_SetReplay_100_']\n",
      "[600001, 600001, 600001, 600001, 600001, 600001]\n",
      "/home/tabz/tmp/logfiles/SetReplayNum/\n"
     ]
    }
   ],
   "source": [
    "names = []\n",
    "legends = []\n",
    "t_maxs = []\n",
    "          \n",
    "# MedMaze10 Set replay \n",
    "\n",
    "for step in [10, 100]:\n",
    "    for replay_num in [5, 10, 100]:\n",
    "        names += [\"_{}_Step*_SetReplay_{}_\".format(step, replay_num)]\n",
    "        legends += [\"{} Step {} SetReplay\".format(step, replay_num)]\n",
    "        t_maxs += [600001]\n",
    "    \n",
    "direc = \"/home/tabz/tmp/logfiles/SetReplayNum/\"\n",
    "directories = direc\n",
    "env = \"Med Maze 10 Set Replay Num\"\n",
    "    \n",
    "print(names)\n",
    "print(t_maxs)\n",
    "print(directories)"
   ]
  },
  {
   "cell_type": "code",
   "execution_count": 28,
   "metadata": {
    "collapsed": false,
    "deletable": true,
    "editable": true
   },
   "outputs": [
    {
     "name": "stdout",
     "output_type": "stream",
     "text": [
      "['k_BonusClip*Stale_50k', 'Prioritized*Stale_50k', 'Prioritized_OnBonus_IS*Stale_50k', 'k_BonusClip*Stale_300k', 'Prioritized*Stale_300k', 'Prioritized_OnBonus_IS*Stale_300k']\n",
      "[800001, 800001, 800001, 800001, 800001, 800001]\n",
      "/home/tabz/tmp/logfiles/Density/\n"
     ]
    }
   ],
   "source": [
    "names = []\n",
    "legends = []\n",
    "t_maxs = []\n",
    "          \n",
    "# Prioritized replay stuff\n",
    "for fresh in [50, 300]:\n",
    "        names += [\"k_BonusClip*Stale_{}k\".format(fresh)]\n",
    "        legends += [\"Uniform {}k Fresh Counts\".format(fresh)]\n",
    "        t_maxs += [800001]\n",
    "        \n",
    "        names += [\"Prioritized*Stale_{}k\".format(fresh)]\n",
    "        legends += [\"Prioritized {}k Fresh Counts\".format(fresh)]\n",
    "        t_maxs += [800001]\n",
    "\n",
    "        names += [\"Prioritized_OnBonus_IS*Stale_{}k\".format(fresh)]\n",
    "        legends += [\"Prioritized IS {}k Fresh Counts\".format(fresh)]\n",
    "        t_maxs += [800001]\n",
    "    \n",
    "direc = \"/home/tabz/tmp/logfiles/Density/\"\n",
    "env = \"Med Maze 10 Prioritized On Density\"\n",
    "directories = direc\n",
    "    \n",
    "print(names)\n",
    "print(t_maxs)\n",
    "print(directories)"
   ]
  },
  {
   "cell_type": "code",
   "execution_count": 29,
   "metadata": {
    "collapsed": false,
    "deletable": true,
    "editable": true
   },
   "outputs": [
    {
     "name": "stdout",
     "output_type": "stream",
     "text": [
      "['k_BonusClip', 'Prioritized_IS', 'Prioritized_MinusPseudo']\n",
      "[800001, 800001, 800001]\n",
      "/home/tabz/tmp/logfiles/MinusPseudo/\n"
     ]
    }
   ],
   "source": [
    "names = []\n",
    "legends = []\n",
    "t_maxs = []\n",
    "          \n",
    "# Prioritized replay stuff musing pseudo rewards\n",
    "\n",
    "names += [\"k_BonusClip\"]\n",
    "legends += [\"Uniform\"]\n",
    "\n",
    "names += [\"Prioritized_IS\"]\n",
    "legends += [\"Prioritised minus pseudo rewards IS\"]\n",
    "\n",
    "names += [\"Prioritized_MinusPseudo\"]\n",
    "legends += [\"Prioritized minus pseudo rewards\"]\n",
    "\n",
    "t_maxs += [800001 for _ in range(3)]\n",
    "    \n",
    "direc = \"/home/tabz/tmp/logfiles/MinusPseudo/\"\n",
    "env = \"Med Maze 10 Prioritized Minus PseudoReward\"\n",
    "directories = direc\n",
    "    \n",
    "print(names)\n",
    "print(t_maxs)\n",
    "print(directories)"
   ]
  },
  {
   "cell_type": "code",
   "execution_count": 30,
   "metadata": {
    "collapsed": false,
    "deletable": true,
    "editable": true
   },
   "outputs": [
    {
     "name": "stdout",
     "output_type": "stream",
     "text": [
      "['Prioritized_-1_MinusPseudo_*Stale_50k', 'Prioritized_1_MinusPseudo_*Stale_50k', 'Prioritized_-1_MinusPseudo_*Stale_300k', 'Prioritized_1_MinusPseudo_*Stale_300k']\n",
      "[800001, 800001, 800001, 800001]\n",
      "/home/tabz/tmp/FixedP/\n"
     ]
    }
   ],
   "source": [
    "names = []\n",
    "legends = []\n",
    "t_maxs = []\n",
    "          \n",
    "# Prioritized replay stuff\n",
    "for fresh in [50, 300]:\n",
    "    for scaler in [-1, 1]:\n",
    "        \n",
    "        names += [\"Prioritized_{}_MinusPseudo_*Stale_{}k\".format(scaler, fresh)]\n",
    "        legends += [\"{} Prioritized {}k Fresh Counts\".format(scaler, fresh)]\n",
    "        t_maxs += [800001]\n",
    "\n",
    "#         names += [\"Prioritized_IS_{}_MinusPseudo_*Stale_{}k\".format(scaler, fresh)]\n",
    "#         legends += [\"{} Prioritized IS {}k Fresh Counts\".format(scaler, fresh)]\n",
    "#         t_maxs += [800001]\n",
    "    \n",
    "direc = \"/home/tabz/tmp/FixedP/\"\n",
    "env = \"Med Maze 10 Prioritized On TD Error Minus Scaled PseudoReward\"\n",
    "directories = direc\n",
    "    \n",
    "print(names)\n",
    "print(t_maxs)\n",
    "print(directories)"
   ]
  },
  {
   "cell_type": "code",
   "execution_count": 31,
   "metadata": {
    "collapsed": false,
    "deletable": true,
    "editable": true
   },
   "outputs": [
    {
     "name": "stdout",
     "output_type": "stream",
     "text": [
      "['XpSize_100k_BonusClip', 'XpSize_100k_Prioritized_Bonus', 'XpSize_100k_Prioritized_IS', 'XpSize_500k_BonusClip', 'XpSize_500k_Prioritized_Bonus', 'XpSize_500k_Prioritized_IS']\n",
      "[1000001, 1000001, 1000001, 1000001, 1000001, 1000001]\n",
      "/home/tabz/tmp/Maze12Baselines/\n"
     ]
    }
   ],
   "source": [
    "names = []\n",
    "legends = []\n",
    "t_maxs = []\n",
    "          \n",
    "# Prioritized replay stuff\n",
    "for xp in [100, 500]:\n",
    "        names += [\"XpSize_{}k_BonusClip\".format(xp)]\n",
    "        legends += [\"Uniform {}k XP\".format(xp)]\n",
    "        t_maxs += [1000001]\n",
    "        \n",
    "        names += [\"XpSize_{}k_Prioritized_Bonus\".format(xp)]\n",
    "        legends += [\"Prioritized {}k XP\".format(xp)]\n",
    "        t_maxs += [1000001]\n",
    "\n",
    "        names += [\"XpSize_{}k_Prioritized_IS\".format(xp)]\n",
    "        legends += [\"Prioritized IS {}k XP\".format(xp)]\n",
    "        t_maxs += [1000001]\n",
    "    \n",
    "direc = \"/home/tabz/tmp/Maze12Baselines/\"\n",
    "env = \"Med Maze 12\"\n",
    "directories = direc\n",
    "    \n",
    "print(names)\n",
    "print(t_maxs)\n",
    "print(directories)"
   ]
  },
  {
   "cell_type": "code",
   "execution_count": 32,
   "metadata": {
    "collapsed": false,
    "deletable": true,
    "editable": true
   },
   "outputs": [
    {
     "name": "stdout",
     "output_type": "stream",
     "text": [
      "['XpSize_100k_Prioritized_0_NScaler_', 'XpSize_100k_Prioritized_1.5_NScaler_', 'XpSize_100k_Prioritized_-1.5_NScaler_', 'XpSize_500k_Prioritized_0_NScaler_', 'XpSize_500k_Prioritized_1.5_NScaler_', 'XpSize_500k_Prioritized_-1.5_NScaler_']\n",
      "[1000001, 1000001, 1000001, 1000001, 1000001, 1000001]\n",
      "/home/tabz/tmp/Maze12Prioritized/\n"
     ]
    }
   ],
   "source": [
    "names = []\n",
    "legends = []\n",
    "t_maxs = []\n",
    "          \n",
    "# Prioritized replay stuff\n",
    "for xp in [100, 500]:\n",
    "    for nscaler in [0, 1.5, -1.5]:\n",
    "        names += [\"XpSize_{}k_Prioritized_{}_NScaler_\".format(xp, nscaler)]\n",
    "        legends += [\"Prioritized {}k XP {} NScaler\".format(xp, nscaler)]\n",
    "        t_maxs += [1000001]\n",
    "    \n",
    "direc = \"/home/tabz/tmp/Maze12Prioritized/\"\n",
    "env = \"Med Maze 12 50k Fresh Counts Negative TD Error Scaling\"\n",
    "directories = direc\n",
    "    \n",
    "print(names)\n",
    "print(t_maxs)\n",
    "print(directories)"
   ]
  },
  {
   "cell_type": "code",
   "execution_count": 33,
   "metadata": {
    "collapsed": false
   },
   "outputs": [
    {
     "name": "stdout",
     "output_type": "stream",
     "text": [
      "['DensityP_BonusClip', 'DensityP_IS_BonusClip']\n",
      "[800001, 800001]\n",
      "/home/scratch/tabhid/Log_Files/DensityP/\n"
     ]
    }
   ],
   "source": [
    "names = []\n",
    "legends = []\n",
    "t_maxs = []\n",
    "          \n",
    "# Density Prioritization\n",
    "names += [\"DensityP_BonusClip\"]\n",
    "legends += [\"DensityP\"]\n",
    "t_maxs += [800001]\n",
    "\n",
    "names += [\"DensityP_IS_BonusClip\"]\n",
    "legends += [\"DensityP IS\"]\n",
    "t_maxs += [800001]\n",
    "    \n",
    "direc = \"/home/scratch/tabhid/Log_Files/DensityP/\"\n",
    "env = \"Med Maze 10 50k Fresh Counts Density Prioritization\"\n",
    "directories = direc\n",
    "    \n",
    "print(names)\n",
    "print(t_maxs)\n",
    "print(directories)"
   ]
  },
  {
   "cell_type": "code",
   "execution_count": 34,
   "metadata": {
    "collapsed": false
   },
   "outputs": [
    {
     "name": "stdout",
     "output_type": "stream",
     "text": [
      "['_0.1_Alpha', '_0.3_Alpha', '_0.5_Alpha', '_0.7_Alpha', '_0.9_Alpha']\n",
      "[800001, 800001, 800001, 800001, 800001]\n",
      "/home/scratch/tabhid/Log_Files/Alpha/\n"
     ]
    }
   ],
   "source": [
    "names = []\n",
    "legends = []\n",
    "t_maxs = []\n",
    "          \n",
    "# Prioritized replay alpha\n",
    "for alpha in [0.1, 0.3, 0.5, 0.7, 0.9]:\n",
    "    names += [\"_{}_Alpha\".format(alpha)]\n",
    "    legends += [\"{} Alpha\".format(alpha)]\n",
    "    t_maxs += [800001]\n",
    "    \n",
    "direc = \"/home/scratch/tabhid/Log_Files/Alpha/\"\n",
    "env = \"Med Maze 10 50k Fresh Counts 1.5 NScaler Alpha\"\n",
    "directories = direc\n",
    "    \n",
    "print(names)\n",
    "print(t_maxs)\n",
    "print(directories)"
   ]
  },
  {
   "cell_type": "code",
   "execution_count": 35,
   "metadata": {
    "collapsed": false
   },
   "outputs": [
    {
     "name": "stdout",
     "output_type": "stream",
     "text": [
      "['XpSize_100k_*_0.5_NScaler_*Stale_50k_', 'XpSize_100k_*_0.5_NScaler_*Stale_500k_', 'XpSize_100k_*_2_NScaler_*Stale_50k_', 'XpSize_100k_*_2_NScaler_*Stale_500k_', 'XpSize_500k_*_0.5_NScaler_*Stale_50k_', 'XpSize_500k_*_0.5_NScaler_*Stale_500k_', 'XpSize_500k_*_2_NScaler_*Stale_50k_', 'XpSize_500k_*_2_NScaler_*Stale_500k_']\n",
      "[1000001, 1000001, 1000001, 1000001, 1000001, 1000001, 1000001, 1000001]\n",
      "/home/tabz/tmp/Maze12Alpha/\n",
      "\n",
      " 8 Lines\n"
     ]
    }
   ],
   "source": [
    "names = []\n",
    "legends = []\n",
    "t_maxs = []\n",
    "          \n",
    "# Prioritized replay stuff\n",
    "for xp in [100, 500]:\n",
    "    for nscaler in [0.5, 2]:\n",
    "        for fresh in [50, 500]:\n",
    "            names += [\"XpSize_{}k_*_{}_NScaler_*Stale_{}k_\".format(xp, nscaler, fresh)]\n",
    "            legends += [\"Prioritized {}k XP {} NScaler {}k Fresh\".format(xp, nscaler, fresh)]\n",
    "            t_maxs += [1000001]\n",
    "    \n",
    "direc = \"/home/tabz/tmp/Maze12Alpha/\"\n",
    "env = \"Med Maze 12 50k Negative TD Error Scaling Alpha 0.5\"\n",
    "directories = direc\n",
    "    \n",
    "print(names)\n",
    "print(t_maxs)\n",
    "print(directories)\n",
    "print(\"\\n\", \"{} Lines\".format(len(names)))"
   ]
  },
  {
   "cell_type": "code",
   "execution_count": 36,
   "metadata": {
    "collapsed": false
   },
   "outputs": [
    {
     "name": "stdout",
     "output_type": "stream",
     "text": [
      "['_0.3_Alpha*Stale_50k_', '_0.3_Alpha*Stale_500k_', '_0.5_Alpha*Stale_50k_', '_0.5_Alpha*Stale_500k_']\n",
      "[1000001, 1000001, 1000001, 1000001]\n",
      "/home/tabz/tmp/Maze12_Prioritized_Alpha//\n",
      "\n",
      " 4 Lines\n"
     ]
    }
   ],
   "source": [
    "names = []\n",
    "legends = []\n",
    "t_maxs = []\n",
    "          \n",
    "# Prioritized replay stuff\n",
    "for alpha in [0.3, 0.5]:\n",
    "    for fresh in [50, 500]:\n",
    "        names += [\"_{}_Alpha*Stale_{}k_\".format(alpha, fresh)]\n",
    "        legends += [\"Prioritized {} Alpha {}k Fresh\".format(alpha, fresh)]\n",
    "        t_maxs += [1000001]\n",
    "    \n",
    "direc = \"/home/tabz/tmp/Maze12_Prioritized_Alpha//\"\n",
    "env = \"Med Maze 12 Alpha 500k Replay\"\n",
    "directories = direc\n",
    "    \n",
    "print(names)\n",
    "print(t_maxs)\n",
    "print(directories)\n",
    "print(\"\\n\", \"{} Lines\".format(len(names)))"
   ]
  },
  {
   "cell_type": "code",
   "execution_count": 37,
   "metadata": {
    "collapsed": false
   },
   "outputs": [
    {
     "name": "stdout",
     "output_type": "stream",
     "text": [
      "['_100_Step*_1_NScaler', '_100_Step*_2_NScaler', '_100_Step*_4_NScaler', '_100_Step*_8_NScaler']\n",
      "[600001, 600001, 600001, 600001]\n",
      "/home/tabz/tmp/Maze14_Nscaling/\n",
      "\n",
      " 4 Lines\n"
     ]
    }
   ],
   "source": [
    "names = []\n",
    "legends = []\n",
    "t_maxs = []\n",
    "          \n",
    "# Prioritized replay stuff\n",
    "for step in [100]:\n",
    "    for nscaler in [1, 2, 4, 8]:\n",
    "        names += [\"_{}_Step*_{}_NScaler\".format(step, nscaler)]\n",
    "        legends += [\"{} Step {} Nscaling\".format(step, nscaler)]\n",
    "        t_maxs += [600001]\n",
    "    \n",
    "direc = \"/home/tabz/tmp/Maze14_Nscaling/\"\n",
    "env = \"Med Maze 14 Prioritized 300k XP Replay Stale\"\n",
    "directories = direc\n",
    "    \n",
    "print(names)\n",
    "print(t_maxs)\n",
    "print(directories)\n",
    "print(\"\\n\", \"{} Lines\".format(len(names)))"
   ]
  },
  {
   "cell_type": "code",
   "execution_count": 38,
   "metadata": {
    "collapsed": false
   },
   "outputs": [
    {
     "name": "stdout",
     "output_type": "stream",
     "text": [
      "['_CountEps_0.9_Decay', '_CountEps_0.99_Decay', '_CountEps_0.999_Decay', '_OptimisticAction_']\n",
      "[600001, 600001, 600001, 600001]\n",
      "/home/tabz/tmp/Maze14_Frontier/\n",
      "\n",
      " 4 Lines\n"
     ]
    }
   ],
   "source": [
    "names = []\n",
    "legends = []\n",
    "t_maxs = []\n",
    "          \n",
    "# Prioritized replay stuff\n",
    "for eps_decay in [0.9, 0.99, 0.999]:\n",
    "    names += [\"_CountEps_{}_Decay\".format(eps_decay)]\n",
    "    legends += [\"{} Eps Decay\".format(eps_decay)]\n",
    "    t_maxs += [600001]\n",
    "    \n",
    "names += [\"_OptimisticAction_\"]\n",
    "legends += [\"0.1 Bandit\"]\n",
    "t_maxs += [600001]\n",
    "    \n",
    "direc = \"/home/tabz/tmp/Maze14_Frontier/\"\n",
    "env = \"Med Maze 14 Prioritized 300k XP Replay Stale Frontier\"\n",
    "directories = direc\n",
    "    \n",
    "print(names)\n",
    "print(t_maxs)\n",
    "print(directories)\n",
    "print(\"\\n\", \"{} Lines\".format(len(names)))"
   ]
  },
  {
   "cell_type": "code",
   "execution_count": 39,
   "metadata": {
    "collapsed": false
   },
   "outputs": [
    {
     "name": "stdout",
     "output_type": "stream",
     "text": [
      "['_0.1_Alpha_16_NScaler*_OptimisticAction_', '_0.1_Alpha_16_NScaler*_CountEps_', '_0.3_Alpha_16_NScaler*_OptimisticAction_', '_0.3_Alpha_16_NScaler*_CountEps_', '_0.5_Alpha_16_NScaler*_OptimisticAction_', '_0.5_Alpha_16_NScaler*_CountEps_']\n",
      "[600001, 600001, 600001, 600001, 600001, 600001]\n",
      "/home/tabz/tmp/Maze14_Bandit/\n",
      "\n",
      " 6 Lines\n"
     ]
    }
   ],
   "source": [
    "names = []\n",
    "legends = []\n",
    "t_maxs = []\n",
    "          \n",
    "# Prioritized replay stuff\n",
    "for alpha in [0.1, 0.3, 0.5]:\n",
    "    for nscaler in [16]:\n",
    "        for bandit in [True, False]:\n",
    "            \n",
    "            if not bandit:\n",
    "                names += [\"_{}_Alpha_{}_NScaler*_CountEps_\".format(alpha, nscaler)]\n",
    "                legends += [\"{} Alpha {} NScaler Epsilon\".format(alpha, nscaler)]\n",
    "                t_maxs += [600001]\n",
    "            elif bandit:\n",
    "                names += [\"_{}_Alpha_{}_NScaler*_OptimisticAction_\".format(alpha, nscaler)]\n",
    "                legends += [\"{} Alpha {} NScaler 0.1 Bandit\".format(alpha, nscaler)]\n",
    "                t_maxs += [600001]\n",
    "    \n",
    "direc = \"/home/tabz/tmp/Maze14_Bandit/\"\n",
    "env = \"Med Maze 14 Prioritized 300k XP Replay Stale Frontier\"\n",
    "directories = direc\n",
    "    \n",
    "print(names)\n",
    "print(t_maxs)\n",
    "print(directories)\n",
    "print(\"\\n\", \"{} Lines\".format(len(names)))"
   ]
  },
  {
   "cell_type": "code",
   "execution_count": 40,
   "metadata": {
    "collapsed": false
   },
   "outputs": [
    {
     "name": "stdout",
     "output_type": "stream",
     "text": [
      "['XpSize_250k', 'XpSize_500k']\n",
      "[1000001, 1000001]\n",
      "/home/tabz/tmp/Maze14_Uniform/\n",
      "\n",
      " 2 Lines\n"
     ]
    }
   ],
   "source": [
    "names = []\n",
    "legends = []\n",
    "t_maxs = []\n",
    "          \n",
    "# Maze14 Uniform Baseline\n",
    "for xp in [250, 500]:\n",
    "    names += [\"XpSize_{}k\".format(xp)]\n",
    "    legends += [\"Uniform {}k XP\".format(xp)]\n",
    "    t_maxs += [1000001]\n",
    "    \n",
    "direc = \"/home/tabz/tmp/Maze14_Uniform/\"\n",
    "env = \"Med Maze 14 Uniform Replay\"\n",
    "directories = direc\n",
    "    \n",
    "print(names)\n",
    "print(t_maxs)\n",
    "print(directories)\n",
    "print(\"\\n\", \"{} Lines\".format(len(names)))"
   ]
  },
  {
   "cell_type": "code",
   "execution_count": 41,
   "metadata": {
    "collapsed": false
   },
   "outputs": [
    {
     "name": "stdout",
     "output_type": "stream",
     "text": [
      "['OptimisticAction_0.01_Scaler', 'OptimisticAction_0.1_Scaler', 'OptimisticAction_1_Scaler', 'OptimisticAction_10_Scaler']\n",
      "[600001, 600001, 600001, 600001]\n",
      "/home/tabz/tmp/Maze14_Bandit_Hyperparams/\n",
      "\n",
      " 4 Lines\n"
     ]
    }
   ],
   "source": [
    "names = []\n",
    "legends = []\n",
    "t_maxs = []\n",
    "          \n",
    "# Prioritized replay stuff\n",
    "for optim in [0.01, 0.1, 1, 10]:\n",
    "    names += [\"OptimisticAction_{}_Scaler\".format(optim)]\n",
    "    legends += [\"0.5 Alpha 8 NScaler {} Bandit\".format(optim)]\n",
    "    t_maxs += [600001]\n",
    "    \n",
    "direc = \"/home/tabz/tmp/Maze14_Bandit_Hyperparams/\"\n",
    "env = \"Med Maze 14 Prioritized Bandit Scaling\"\n",
    "directories = direc\n",
    "    \n",
    "print(names)\n",
    "print(t_maxs)\n",
    "print(directories)\n",
    "print(\"\\n\", \"{} Lines\".format(len(names)))"
   ]
  },
  {
   "cell_type": "code",
   "execution_count": 42,
   "metadata": {
    "collapsed": false
   },
   "outputs": [
    {
     "name": "stdout",
     "output_type": "stream",
     "text": [
      "['OptimisticAction_0.0001_Scaler', 'OptimisticAction_0.001_Scaler']\n",
      "[600001, 600001]\n",
      "/home/tabz/tmp/Maze14_Bandit_MoreHyperparams/\n",
      "\n",
      " 2 Lines\n"
     ]
    }
   ],
   "source": [
    "names = []\n",
    "legends = []\n",
    "t_maxs = []\n",
    "          \n",
    "# Prioritized replay stuff\n",
    "for optim in [0.0001, 0.001]:\n",
    "    names += [\"OptimisticAction_{}_Scaler\".format(optim)]\n",
    "    legends += [\"Uniform {} Bandit\".format(optim)]\n",
    "    t_maxs += [600001]\n",
    "    \n",
    "direc = \"/home/tabz/tmp/Maze14_Bandit_MoreHyperparams/\"\n",
    "env = \"Med Maze 14 Uniform Bandit Scaling\"\n",
    "directories = direc\n",
    "    \n",
    "print(names)\n",
    "print(t_maxs)\n",
    "print(directories)\n",
    "print(\"\\n\", \"{} Lines\".format(len(names)))"
   ]
  },
  {
   "cell_type": "code",
   "execution_count": 43,
   "metadata": {
    "collapsed": false
   },
   "outputs": [
    {
     "name": "stdout",
     "output_type": "stream",
     "text": [
      "['BonusClip_-1_Count', 'BonusClip_-1_NegativeReward', 'BonusClip_0.25_Count', 'BonusClip_0.25_NegativeReward', 'BonusClip_0.5_Count', 'BonusClip_0.5_NegativeReward']\n",
      "[600001, 600001, 600001, 600001, 600001, 600001]\n",
      "/home/tabz/tmp/logfiles/Maze14_RewardClip/\n",
      "\n",
      " 6 Lines\n"
     ]
    }
   ],
   "source": [
    "names = []\n",
    "legends = []\n",
    "t_maxs = []\n",
    "          \n",
    "# Pseudo reward clipping + scaling\n",
    "for bonus_clip in [-1, 0.25, 0.5]:\n",
    "    names += [\"BonusClip_{}_Count\".format(bonus_clip)]\n",
    "    legends += [\"BonusClip {}\".format(bonus_clip)]\n",
    "    t_maxs += [600001]\n",
    "    \n",
    "    names += [\"BonusClip_{}_NegativeReward\".format(bonus_clip)]\n",
    "    legends += [\"BonusClip {} NegativeReward 0.8\".format(bonus_clip)]\n",
    "    t_maxs += [600001]\n",
    "    \n",
    "direc = \"/home/tabz/tmp/logfiles/Maze14_RewardClip/\"\n",
    "env = \"Med Maze 14 Pseudo Reward Clipping\"\n",
    "directories = direc\n",
    "    \n",
    "print(names)\n",
    "print(t_maxs)\n",
    "print(directories)\n",
    "print(\"\\n\", \"{} Lines\".format(len(names)))"
   ]
  },
  {
   "cell_type": "code",
   "execution_count": 106,
   "metadata": {
    "collapsed": false
   },
   "outputs": [
    {
     "name": "stdout",
     "output_type": "stream",
     "text": [
      "['_XpSize_300k*_1_NScaler', '_XpSize_300k*_4_NScaler']\n",
      "[600001, 600001]\n",
      "/home/tabz/tmp/Maze14_NScaler/\n",
      "\n",
      " 2 Lines\n"
     ]
    }
   ],
   "source": [
    "names = []\n",
    "legends = []\n",
    "t_maxs = []\n",
    "          \n",
    "# Prioritized replay stuff\n",
    "for xp in [300]:\n",
    "    for nscaler in [1, 4]:\n",
    "            names += [\"_XpSize_{}k*_{}_NScaler\".format(xp, nscaler)]\n",
    "            legends += [\"{}k Xp {} NScaler\".format(xp, nscaler)]\n",
    "            t_maxs += [600001]\n",
    "    \n",
    "direc = \"/home/tabz/tmp/Maze14_NScaler/\"\n",
    "env = \"Med Maze 14 0.5 Prioritized XP Replay Stale\"\n",
    "directories = direc\n",
    "    \n",
    "print(names)\n",
    "print(t_maxs)\n",
    "print(directories)\n",
    "print(\"\\n\", \"{} Lines\".format(len(names)))"
   ]
  },
  {
   "cell_type": "code",
   "execution_count": 102,
   "metadata": {
    "collapsed": false
   },
   "outputs": [
    {
     "name": "stdout",
     "output_type": "stream",
     "text": [
      "['_0.01_MinusPseudo_', '_0.1_MinusPseudo_', '_1_MinusPseudo_', '_10_MinusPseudo_', '_NScaler_BonusClip']\n",
      "[600001, 600001, 600001, 600001, 600001]\n",
      "/home/tabz/tmp/Maze14_MinusPseudo/\n",
      "\n",
      " 5 Lines\n"
     ]
    }
   ],
   "source": [
    "names = []\n",
    "legends = []\n",
    "t_maxs = []\n",
    "          \n",
    "# Prioritized replay stuff\n",
    "for mp in [0.01, 0.1, 1, 10]:\n",
    "        names += [\"_{}_MinusPseudo_\".format(mp)]\n",
    "        legends += [\"{} MinusPseudo\".format(mp)]\n",
    "        t_maxs += [600001]\n",
    "        \n",
    "names += [\"_NScaler_BonusClip\"]\n",
    "legends += [\"0 MinusPseudo\"]\n",
    "t_maxs += [600001]\n",
    "    \n",
    "direc = \"/home/tabz/tmp/Maze14_MinusPseudo/\"\n",
    "env = \"Med Maze 14 0.5 Prioritized MinusPseudoRewards\"\n",
    "directories = direc\n",
    "    \n",
    "print(names)\n",
    "print(t_maxs)\n",
    "print(directories)\n",
    "print(\"\\n\", \"{} Lines\".format(len(names)))"
   ]
  },
  {
   "cell_type": "code",
   "execution_count": 91,
   "metadata": {
    "collapsed": false
   },
   "outputs": [
    {
     "name": "stdout",
     "output_type": "stream",
     "text": [
      "['_Gamma_0.99*_1_NScaler', '_Gamma_0.99*_2_NScaler', '_Gamma_0.99*_4_NScaler', '_Gamma_0.99*_8_NScaler', '_Gamma_0.99*_16_NScaler', '_Gamma_0.99*_32_NScaler']\n",
      "[300001, 300001, 300001, 300001, 300001, 300001]\n",
      "/home/tabz/tmp/Maze10_Nscaling/\n",
      "\n",
      " 6 Lines\n"
     ]
    }
   ],
   "source": [
    "names = []\n",
    "legends = []\n",
    "t_maxs = []\n",
    "          \n",
    "# Prioritized replay stuff\n",
    "for gamma in [0.99]:\n",
    "    for nscaler in [1, 2, 4, 8, 16, 32]:\n",
    "            names += [\"_Gamma_{}*_{}_NScaler\".format(gamma, nscaler)]\n",
    "            legends += [\"{} Gamma {} NScaler\".format(gamma, nscaler)]\n",
    "            t_maxs += [300001]\n",
    "    \n",
    "direc = \"/home/tabz/tmp/Maze10_Nscaling/\"\n",
    "env = \"Med Maze 10 0.5 Prioritized XP NScaler\"\n",
    "directories = direc\n",
    "    \n",
    "print(names)\n",
    "print(t_maxs)\n",
    "print(directories)\n",
    "print(\"\\n\", \"{} Lines\".format(len(names)))"
   ]
  },
  {
   "cell_type": "code",
   "execution_count": 119,
   "metadata": {
    "collapsed": false
   },
   "outputs": [
    {
     "name": "stdout",
     "output_type": "stream",
     "text": [
      "['XpSize_500k', '0.01_MinusPseudo', 'OptimisticAction', '4_NScaler', '1_NScaler_BonusClip_-1']\n",
      "[600001, 600001, 600001, 600001, 600001]\n",
      "/home/tabz/tmp/Combination/\n",
      "\n",
      " 5 Lines\n"
     ]
    }
   ],
   "source": [
    "names = []\n",
    "legends = []\n",
    "t_maxs = []\n",
    "          \n",
    "# Prioritized replay stuff\n",
    "names += [\"XpSize_500k\"]\n",
    "legends += [\"Uniform\"]\n",
    "t_maxs += [600001]\n",
    "\n",
    "names += [\"0.01_MinusPseudo\"]\n",
    "legends += [\"MinusPseudoReward\"]\n",
    "t_maxs += [600001]\n",
    "\n",
    "names += [\"OptimisticAction\"]\n",
    "legends += [\"Bandit\"]\n",
    "t_maxs += [600001]\n",
    "\n",
    "names += [\"4_NScaler\"]\n",
    "legends += [\"NScaling\"]\n",
    "t_maxs += [600001]\n",
    "\n",
    "names += [\"1_NScaler_BonusClip_-1\"]\n",
    "legends += [\"Prioritised\"]\n",
    "t_maxs += [600001]\n",
    "    \n",
    "direc = \"/home/tabz/tmp/Combination/\"\n",
    "env = \"Med Maze 14\"\n",
    "directories = direc\n",
    "    \n",
    "print(names)\n",
    "print(t_maxs)\n",
    "print(directories)\n",
    "print(\"\\n\", \"{} Lines\".format(len(names)))"
   ]
  },
  {
   "cell_type": "code",
   "execution_count": 125,
   "metadata": {
    "collapsed": false
   },
   "outputs": [
    {
     "name": "stdout",
     "output_type": "stream",
     "text": [
      "['_XpSize_50k_', '_XpSize_100k_', '_XpSize_250k_', '_XpSize_500k_']\n",
      "[1000001, 1000001, 1000001, 1000001]\n",
      "/home/tabz/tmp/Maze10_Uniform_Baselines/\n",
      "\n",
      " 4 Lines\n"
     ]
    }
   ],
   "source": [
    "names = []\n",
    "legends = []\n",
    "t_maxs = []\n",
    "          \n",
    "# Prioritized replay stuff\n",
    "for xp in [50, 100, 250, 500]:\n",
    "    names += [\"_XpSize_{}k_\".format(xp)]\n",
    "    legends += [\"{}k XpSize\".format(xp)]\n",
    "    t_maxs += [1000001]\n",
    "    \n",
    "direc = \"/home/tabz/tmp/Maze10_Uniform_Baselines/\"\n",
    "env = \"Med Maze 10 Uniform Baselines\"\n",
    "directories = direc\n",
    "    \n",
    "print(names)\n",
    "print(t_maxs)\n",
    "print(directories)\n",
    "print(\"\\n\", \"{} Lines\".format(len(names)))"
   ]
  },
  {
   "cell_type": "code",
   "execution_count": 126,
   "metadata": {
    "collapsed": true,
    "deletable": true,
    "editable": true
   },
   "outputs": [],
   "source": [
    "import itertools"
   ]
  },
  {
   "cell_type": "code",
   "execution_count": 127,
   "metadata": {
    "collapsed": false,
    "deletable": true,
    "editable": true
   },
   "outputs": [],
   "source": [
    "from bokeh.palettes import magma, inferno, Set1, Set3, Paired, Dark2"
   ]
  },
  {
   "cell_type": "code",
   "execution_count": 128,
   "metadata": {
    "collapsed": false,
    "deletable": true,
    "editable": true
   },
   "outputs": [],
   "source": [
    "if len(names) <= 2:\n",
    "    colours = [\"red\", \"green\"]\n",
    "elif len(names) > 10:\n",
    "    colours = Paired[len(names)]\n",
    "else:\n",
    "    colours = Set1[len(names)]"
   ]
  },
  {
   "cell_type": "code",
   "execution_count": 130,
   "metadata": {
    "collapsed": false,
    "deletable": true,
    "editable": true
   },
   "outputs": [
    {
     "data": {
      "text/html": [
       "\n",
       "\n",
       "    <div class=\"bk-root\">\n",
       "        <div class=\"bk-plotdiv\" id=\"99011cc4-2930-4826-be89-f4fd1c216545\"></div>\n",
       "    </div>\n",
       "<script type=\"text/javascript\">\n",
       "  \n",
       "  (function(global) {\n",
       "    function now() {\n",
       "      return new Date();\n",
       "    }\n",
       "  \n",
       "    var force = false;\n",
       "  \n",
       "    if (typeof (window._bokeh_onload_callbacks) === \"undefined\" || force === true) {\n",
       "      window._bokeh_onload_callbacks = [];\n",
       "      window._bokeh_is_loading = undefined;\n",
       "    }\n",
       "  \n",
       "  \n",
       "    \n",
       "    if (typeof (window._bokeh_timeout) === \"undefined\" || force === true) {\n",
       "      window._bokeh_timeout = Date.now() + 0;\n",
       "      window._bokeh_failed_load = false;\n",
       "    }\n",
       "  \n",
       "    var NB_LOAD_WARNING = {'data': {'text/html':\n",
       "       \"<div style='background-color: #fdd'>\\n\"+\n",
       "       \"<p>\\n\"+\n",
       "       \"BokehJS does not appear to have successfully loaded. If loading BokehJS from CDN, this \\n\"+\n",
       "       \"may be due to a slow or bad network connection. Possible fixes:\\n\"+\n",
       "       \"</p>\\n\"+\n",
       "       \"<ul>\\n\"+\n",
       "       \"<li>re-rerun `output_notebook()` to attempt to load from CDN again, or</li>\\n\"+\n",
       "       \"<li>use INLINE resources instead, as so:</li>\\n\"+\n",
       "       \"</ul>\\n\"+\n",
       "       \"<code>\\n\"+\n",
       "       \"from bokeh.resources import INLINE\\n\"+\n",
       "       \"output_notebook(resources=INLINE)\\n\"+\n",
       "       \"</code>\\n\"+\n",
       "       \"</div>\"}};\n",
       "  \n",
       "    function display_loaded() {\n",
       "      if (window.Bokeh !== undefined) {\n",
       "        document.getElementById(\"99011cc4-2930-4826-be89-f4fd1c216545\").textContent = \"BokehJS successfully loaded.\";\n",
       "      } else if (Date.now() < window._bokeh_timeout) {\n",
       "        setTimeout(display_loaded, 100)\n",
       "      }\n",
       "    }\n",
       "  \n",
       "    function run_callbacks() {\n",
       "      window._bokeh_onload_callbacks.forEach(function(callback) { callback() });\n",
       "      delete window._bokeh_onload_callbacks\n",
       "      console.info(\"Bokeh: all callbacks have finished\");\n",
       "    }\n",
       "  \n",
       "    function load_libs(js_urls, callback) {\n",
       "      window._bokeh_onload_callbacks.push(callback);\n",
       "      if (window._bokeh_is_loading > 0) {\n",
       "        console.log(\"Bokeh: BokehJS is being loaded, scheduling callback at\", now());\n",
       "        return null;\n",
       "      }\n",
       "      if (js_urls == null || js_urls.length === 0) {\n",
       "        run_callbacks();\n",
       "        return null;\n",
       "      }\n",
       "      console.log(\"Bokeh: BokehJS not loaded, scheduling load and callback at\", now());\n",
       "      window._bokeh_is_loading = js_urls.length;\n",
       "      for (var i = 0; i < js_urls.length; i++) {\n",
       "        var url = js_urls[i];\n",
       "        var s = document.createElement('script');\n",
       "        s.src = url;\n",
       "        s.async = false;\n",
       "        s.onreadystatechange = s.onload = function() {\n",
       "          window._bokeh_is_loading--;\n",
       "          if (window._bokeh_is_loading === 0) {\n",
       "            console.log(\"Bokeh: all BokehJS libraries loaded\");\n",
       "            run_callbacks()\n",
       "          }\n",
       "        };\n",
       "        s.onerror = function() {\n",
       "          console.warn(\"failed to load library \" + url);\n",
       "        };\n",
       "        console.log(\"Bokeh: injecting script tag for BokehJS library: \", url);\n",
       "        document.getElementsByTagName(\"head\")[0].appendChild(s);\n",
       "      }\n",
       "    };var element = document.getElementById(\"99011cc4-2930-4826-be89-f4fd1c216545\");\n",
       "    if (element == null) {\n",
       "      console.log(\"Bokeh: ERROR: autoload.js configured with elementid '99011cc4-2930-4826-be89-f4fd1c216545' but no matching script tag was found. \")\n",
       "      return false;\n",
       "    }\n",
       "  \n",
       "    var js_urls = [];\n",
       "  \n",
       "    var inline_js = [\n",
       "      function(Bokeh) {\n",
       "        (function() {\n",
       "          var fn = function() {\n",
       "            var docs_json = {\"9f1edb5f-58b0-4cf5-b987-ce2bb155abba\":{\"roots\":{\"references\":[{\"attributes\":{\"callback\":null,\"column_names\":[\"x\",\"y\"],\"data\":{\"x\":[0,1000,2000,3000,4000,5000,6000,7000,8000,9000,10000,11000,12000,13000,14000,15000,16000,17000,18000,19000,20000,21000,22000,23000,24000,25000,26000,27000,28000,29000,30000,31000,32000,33000,34000,35000,36000,37000,38000,39000,40000,41000,42000,43000,44000,45000,46000,47000,48000,49000,50000,51000,52000,53000,54000,55000,56000,57000,58000,59000,60000,61000,62000,63000,64000,65000,66000,67000,68000,69000,70000,71000,72000,73000,74000,75000,76000,77000,78000,79000,80000,81000,82000,83000,84000,85000,86000,87000,88000,89000,90000,91000,92000,93000,94000,95000,96000,97000,98000,99000,100000,101000,102000,103000,104000,105000,106000,107000,108000,109000,110000,111000,112000,113000,114000,115000,116000,117000,118000,119000,120000,121000,122000,123000,124000,125000,126000,127000,128000,129000,130000,131000,132000,133000,134000,135000,136000,137000,138000,139000,140000,141000,142000,143000,144000,145000,146000,147000,148000,149000,150000,151000,152000,153000,154000,155000,156000,157000,158000,159000,160000,161000,162000,163000,164000,165000,166000,167000,168000,169000,170000,171000,172000,173000,174000,175000,176000,177000,178000,179000,180000,181000,182000,183000,184000,185000,186000,187000,188000,189000,190000,191000,192000,193000,194000,195000,196000,197000,198000,199000,200000,201000,202000,203000,204000,205000,206000,207000,208000,209000,210000,211000,212000,213000,214000,215000,216000,217000,218000,219000,220000,221000,222000,223000,224000,225000,226000,227000,228000,229000,230000,231000,232000,233000,234000,235000,236000,237000,238000,239000,240000,241000,242000,243000,244000,245000,246000,247000,248000,249000,250000,251000,252000,253000,254000,255000,256000,257000,258000,259000,260000,261000,262000,263000,264000,265000,266000,267000,268000,269000,270000,271000,272000,273000,274000,275000,276000,277000,278000,279000,280000,281000,282000,283000,284000,285000,286000,287000,288000,289000,290000,291000,292000,293000,294000,295000,296000,297000,298000,299000,300000,301000,302000,303000,304000,305000,306000,307000,308000,309000,310000,311000,312000,313000,314000,315000,316000,317000,318000,319000,320000,321000,322000,323000,324000,325000,326000,327000,328000,329000,330000,331000,332000,333000,334000,335000,336000,337000,338000,339000,340000,341000,342000,343000,344000,345000,346000,347000,348000,349000,350000,351000,352000,353000,354000,355000,356000,357000,358000,359000,360000,361000,362000,363000,364000,365000,366000,367000,368000,369000,370000,371000,372000,373000,374000,375000,376000,377000,378000,379000,380000,381000,382000,383000,384000,385000,386000,387000,388000,389000,390000,391000,392000,393000,394000,395000,396000,397000,398000,399000,400000,401000,402000,403000,404000,405000,406000,407000,408000,409000,410000,411000,412000,413000,414000,415000,416000,417000,418000,419000,420000,421000,422000,423000,424000,425000,426000,427000,428000,429000,430000,431000,432000,433000,434000,435000,436000,437000,438000,439000,440000,441000,442000,443000,444000,445000,446000,447000,448000,449000,450000,451000,452000,453000,454000,455000,456000,457000,458000,459000,460000,461000,462000,463000,464000,465000,466000,467000,468000,469000,470000,471000,472000,473000,474000,475000,476000,477000,478000,479000,480000,481000,482000,483000,484000,485000,486000,487000,488000,489000,490000,491000,492000,493000,494000,495000,496000,497000,498000,499000,500000,501000,502000,503000,504000,505000,506000,507000,508000,509000,510000,511000,512000,513000,514000,515000,516000,517000,518000,519000,520000,521000,522000,523000,524000,525000,526000,527000,528000,529000,530000,531000,532000,533000,534000,535000,536000,537000,538000,539000,540000,541000,542000,543000,544000,545000,546000,547000,548000,549000,550000,551000,552000,553000,554000,555000,556000,557000,558000,559000,560000,561000,562000,563000,564000,565000,566000,567000,568000,569000,570000,571000,572000,573000,574000,575000,576000,577000,578000,579000,580000,581000,582000,583000,584000,585000,586000,587000,588000,589000,590000,591000,592000,593000,594000,595000,596000,597000,598000,599000,600000,601000,602000,603000,604000,605000,606000,607000,608000,609000,610000,611000,612000,613000,614000,615000,616000,617000,618000,619000,620000,621000,622000,623000,624000,625000,626000,627000,628000,629000,630000,631000,632000,633000,634000,635000,636000,637000,638000,639000,640000,641000,642000,643000,644000,645000,646000,647000,648000,649000,650000,651000,652000,653000,654000,655000,656000,657000,658000,659000,660000,661000,662000,663000,664000,665000,666000,667000,668000,669000,670000,671000,672000,673000,674000,675000,676000,677000,678000,679000,680000,681000,682000,683000,684000,685000,686000,687000,688000,689000,690000,691000,692000,693000,694000,695000,696000,697000,698000,699000,700000,701000,702000,703000,704000,705000,706000,707000,708000,709000,710000,711000,712000,713000,714000,715000,716000,717000,718000,719000,720000,721000,722000,723000,724000,725000,726000,727000,728000,729000,730000,731000,732000,733000,734000,735000,736000,737000,738000,739000,740000,741000,742000,743000,744000,745000,746000,747000,748000,749000,750000,751000,752000,753000,754000,755000,756000,757000,758000,759000,760000,761000,762000,763000,764000,765000,766000,767000,768000,769000,770000,771000,772000,773000,774000,775000,776000,777000,778000,779000,780000,781000,782000,783000,784000,785000,786000,787000,788000,789000,790000,791000,792000,793000,794000,795000,796000,797000,798000,799000,800000,801000,802000,803000,804000,805000,806000,807000,808000,809000,810000,811000,812000,813000,814000,815000,816000,817000,818000,819000,820000,821000,822000,823000,824000,825000,826000,827000,828000,829000,830000,831000,832000,833000,834000,835000,836000,837000,838000,839000,840000,841000,842000,843000,844000,845000,846000,847000,848000,849000,850000,851000,852000,853000,854000,855000,856000,857000,858000,859000,860000,861000,862000,863000,864000,865000,866000,867000,868000,869000,870000,871000,872000,873000,874000,875000,876000,877000,878000,879000,880000,881000,882000,883000,884000,885000,886000,887000,888000,889000,890000,891000,892000,893000,894000,895000,896000,897000,898000,899000,900000,901000,902000,903000,904000,905000,906000,907000,908000,909000,910000,911000,912000,913000,914000,915000,916000,917000,918000,919000,920000,921000,922000,923000,924000,925000,926000,927000,928000,929000,930000,931000,932000,933000,934000,935000,936000,937000,938000,939000,940000,941000,942000,943000,944000,945000,946000,947000,948000,949000,950000,951000,952000,953000,954000,955000,956000,957000,958000,959000,960000,961000,962000,963000,964000,965000,966000,967000,968000,969000,970000,971000,972000,973000,974000,975000,976000,977000,978000,979000,980000,981000,982000,983000,984000,985000,986000,987000,988000,989000,990000,991000,992000,993000,994000,995000,996000,997000,998000,999000,1000000],\"y\":{\"__ndarray__\":\"AAAAAAAAAAAAAAAAAAAAAAAAAAAAAAAAAAAAAAAAAAAAAAAAAAAAAAAAAAAAAAAAAAAAAAAAAAAAAAAAAAAAAAAAAAAAAAAAAAAAAAAAAAAAAAAAAAAAAAAAAAAAAAAAAAAAAAAAAAAAAAAAAAAAAAAAAAAAAAAAAAAAAAAAAAAAAAAAAAAAAAAAAAAAAAAAAAAAAAAAAAAAAAAAAAAAAAAAAAAAAAAAAAAAAAAAAAAAAAAAAAAAAAAAAAAAAAAAAAAAAAAAAAAAAAAAAAAAAAAAAAAAAAAAAAAAAAAAAAAAAAAAAAAAAAAAAAAAAAAAAAAAAAAAAAAAAAAAAAAAAAAAAAAAAAAAAAAAAAAAAAAAAAAAAAAAAAAAAAAAAAAAAAAAAAAAAAAAAAAAAAAAAAAAAAAAAAAAAAAAAAAAAAAAAAAAAAAAAAAAAAAAAAAAAAAAAAAAAAAAAAAAAAAAAAAAAAAAAAAAAAAAAAAAAAAAAAAAAAAAAAAAAAAAAAAAAAAAAAAAAAAAAAAAAAAAAAAAAAAAAAAAAAAAAAAAAAAAAAAAAAAAAAAAAAAAAAAAAAAAAAAAAAAAAAAAAAAAAAAAAAAAAAAAAAAAAAAAAAAAAAAAAAAAAAAAAAAAAAAAAAAAAAAAAAAAAAAAAAAAAAAAAAAAAAAAAAAAAAAAAAAAAAAAAAAAAAAAAAAAAAAAAAAAAAAAAAAAAAAAAAAAAAAAAAAAAAAAAAAAAAAAAAAAAAAAAAAAAAAAAAAAAAAAAAAAAAAAAAAAAAAAAAAAAAAAAAAAAAAAAAAAAAAAAAAAAAAAAAAAAAAAAAAAAAAAAAAAAAAAAAAAAAAAAAAAAAAAAAAAAAAAAAAAAAAAAAAAAAAAAAAAAAAAAAAAAAAAAAAAAAAAAAAAAAAAAAAAAAAAAAAAAAAAAAAAAAAAAAAAAAAAAAAAAAAAAAAAAAAAAAAAAAAAAAAAAAAAAAAAAAAAAAAAAAAAAAAAAAAAAAAAAAAAAAAAAAAAAAAAAAAAAAAAAAAAAAAAAAAAAAAAAAAAAAAAAAAAAAAAAAAAAAAAAAAAAAAAAAAAAAAAAAAAAAAAAAAAAAAAAAAAAAAAAAAAAAAAAAAAAAAAAAAAAAAAAAAAAAAAAAAAAAAAAAAAAAAAAAAAAAAAAAAAAAAAAAAAAAAAAAAAAAAAAAAAAAAAAAAAAAAAAAAAAAAAAAAAAAAAAAAAAAAAAAAAAAAAAAAAAAAAAAAAAAAAAAAAAAAAAAAAAAAAAAAAAAAAAAAAAAAAAAAAAAAAAAAAAAAAAAAAAAAAAAAAAAAAAAAAAAAAAAAAAAAAAAAAAAAAAAAAAAAAAAAAAAAAAAAAAAAAAAAAAAAAAAAAAAAAAAAAAAAAAAAAAAAAAAAAAAAAAAAAAAAAAAAAAAAAAAAAAAAAAAAAAAAAAAAAAAAAAAAAAAAAAAAAAAAAAAAAAAAAAAAAAAAAAAAAAAAAAAAAAAAAAAAAAAAAAAAAAAAAAAAAAAAAAAAAAAAAAAAAAAAAAAAAAAAAAAAAAAAAAAAAAAAAAAAAAAAAAAAAAAAAAAAAAAAAAAAAAAAAAAAAAAAAAAAAAAAAAAAAAAAYvjO+1TSCPxi+M77VNJI/JJ1NnUBPmz8YvjO+1TSiP5+twC0LwqY/JJ1NnUBPqz+rjNoMdtyvPxi+M77VNLI/2zX6dXB7tD9VVVVVVVW1P1VVVVVVVbU/VVVVVVVVtT8z/7qQiJW2P+9ShgfvFbk/q6ZRflWWuz9l+hz1uxa+P2BNT4AUFMA/ZLYNrtN5wD9nH8zbkt/AP2uIiglSRcE/bfFINxGrwT/bOGItPgXAP0xuJySsoLw/4WqK7ds2uT94Z+22C821Pw1kUIA7Y7I/SMFmk9byrT90uiwmNh+nP6Cz8riVS6A/hSo1e6AVmD+xI/sNAEKRP7s5gkG/3IQ/TLA4nPnVbD8AAAAAAAAAAAAAAAAAAAAAAAAAAAAAAAAAAAAAAAAAAAAAAAAAAAAAAAAAAAAAAAAAAAAAAAAAAAAAAAAAAAAAAAAAAAAAAAAAAAAAAAAAAAAAAAAAAAAAAAAAAAAAAAAAAAAAAAAAAAAAAAAAAAAAAAAAAAAAAAAAAAAAAAAAAAAAAAAAAAAAAAAAAAAAAAAAAAAAAAAAAAAAAAAAAAAAAAAAAAAAAAAAAAAAAAAAAAAAAAAAAAAAAAAAAAAAAAAAAAAAAAAAAAAAAAAAAAAAAAAAAAAAAAAAAAAAAAAAAAAAAAAAAAAAAAAAAAAAAAAAAAAAAAAAAAAAAAAAAAAAAAAAAAAAAAAAAAAAAAAAAAAAAAAAAAAAAAAAAAAAAAAAAAAAAAAAAAAAAAAAAAAAAAAAAAAAAAAAAAAAAAAAAAAAAAAAAAAAAAAAAAAAAAAAAAAAAAAAAAAAAAAAAAAAAAAAAAAAAAAAAAAAAAAAAAAAAAAAAAAAAAAAAAAAAAAAAAAAAAAAAAAAAAAAAAAAAAAAAAAAAAAAAAAAAAAAAAAAAAAAAAAAAAAAAAAAAAB3bA98xPR0P7QiF7omb48/lUcTm/Uxmj/pfo3sK1aiPwdakQtdk6c/JDWVKo7QrD8hiMyk3waxP7B1TjR4pbM/VVVVVVVVtT9VVVVVVVW1P1VVVVVVVbU/VVVVVVVVtT9VVVVVVVW1P1VVVVVVVbU/VVVVVVVVtT9VVVVVVVW1P1VVVVVVVbU/VVVVVVVVtT9VVVVVVVW1P1VVVVVVVbU/VVVVVVVVtT9VVVVVVVW1P1VVVVVVVbU/VVVVVVVVtT9VVVVVVVW1P6csT+mnWLY/S9tCEU1fuD/tiTY58mW6P5A4KmGXbLw/NOcdiTxzvj/ryojY8DzAP28xfy4EtMA/58fRtOLcwD9dXiQ7wQXBP9X0dsGfLsE/TIvJR35XwT/0TEL81mG/P4tJpcUG+Ls/IEYIjzaOuD+2QmtYZiS1P0w/ziGWurE/xXdi1ouhrD/xcChp682lP0BXW7G/7J4/bFAhRB8ZmD+YSefWfkWRP4iFWtO844Q/gd+Z4+/xbD8AAAAAAAAAAAAAAAAAAAAAAAAAAAAAAAAAAAAAAAAAAAAAAAAAAAAAAAAAAAAAAAAAAAAAAAAAAAAAAAAAAAAAAAAAAAAAAAAAAAAAAAAAAAAAAAAAAAAAAAAAAAAAAAAAAAAAAAAAAAAAAAAAAAAAAAAAAAAAAAAAAAAAAAAAAAAAAAAAAAAAAAAAAAAAAAAAAAAAAAAAAAAAAAAAAAAAAAAAAAAAAAAAAAAAAAAAAAAAAAAAAAAAAAAAAAAAAAAAAAAAAAAAAAAAAAAAAAAAAAAAAAAAAAAAAAAAAAAAAAAAAAAAAAAAAAAAAAAAAAAAAAAAAAAAAAAAAAAAAAAAAAAAAAAAAAAAAAAAAAAAAAAAAAAAAAAAAAAAAAAAAAAAAAAAAAAAAAAAAAAAAAAAAAAAAAAAAAAAAAAAAAAAAAAAAAAAAAAAAAAAAAAAAAAAAAAAAAAAAAAAAAAAAAAAAAAAAAAAAAAAAAAAAAAAAAAAAAAAAAAAAAAAAAAAAAAAAAAAAAAAAAAAAAAAAAAAAAAAAAAAAAAAAAAAAAAAAAAAAAAAAAAAAAAAAAAAAAAAAAAAAAAAAAAAAAAAAAAAAAAAAAAAAAAAAAAAAAAAAAAAAAAAAAAAAAAAAAAAAAAAAAAAAAAAAAAAAAAAAAAAAAAAAAAAAAAAAAAAAAAAAAAAAAAAAAAAAAAAAAAAAAAAAAAAAAAAAAAAAAAAAAAAAAAAAAAAAAAAAAAAAAAAAAAAAAAAAAAAAAAAAAAAAAAAAAAAAAAAAAAAAAAAAAAAAAAAAAAAAAAAAAAAAAAAAAAAAAAAAAAAAAAAAAAAAAAAAAAAAAAAAAAAAAAAAAAAAAAAAAAAAAAAAAAAAAAAAAAAAAAAAAAAAAAAAAAAAAAAAAAAAAAAAAAAAAAAAAAAAAAAAAAAAAAAAAAAAAAAAAAAAAAAAAAAAAAAAAAAAAAAAAAAAAAAAAAAAAAAAAAAAAAAAAAAAAAAAAAAAAAAAAAAAAAAAAAAAAAAAAAAAAAAAAAAAAAAAAAAAAAAAAAAAAAAAAAAAAAAAAAAAAAAAAAAAAAAAAAAAAAAAAAAAAAAAAAAAAAAAAAAAAAAAAAAAAAAAAAAAAAAAAAAAAAAAAAAAAAAAAAAAAAAAAAAAAAAAAAAAAAAAAAAAAAAAAAAAAAAAAAAAAAAAAAAAAAAAAAAAAAAAAAAAAAAAAAAAAAAAAAAAAAAAAAAAAAAAAAAAAAAAAAAAAAAAAAAAAAAAAAAAAAAAAAAAAAAAAAAAAAAAAAAAAAAAAAAAAAAAAAAAAAAAAAAAAAAAAAAAAAAAAAAAAAAAAAAAAAAAAAAAAAAAAAAAAAAAAAAAAAAAAAAAAAAAAAAAAAAAAAAAAAAAAAAAAAAAAAAAAAAAAAAAAAAAAAAAAAAAAAAAAAAAAAAAAAAAAAAAAAAAAAAAAAAAAAAAAAAAAAAAAAAAAAAAAAAAAAAAAAAAAAAAAAAAAAAAAAAAAAAAAAAAAAAAAAAAAAAAAAAAAAAAAAAAAAAAAAAAAAAAAAAAAAAAAAAAAAAAAAAAAAAAAAAAAAAAAAAAAAAAAAAAAAAAAAAAAAAAAAAAAAAAAAAAAAAAAAAAAAAAAAAAAAAAAAAAAAAAAAAAAAAAAAAAAAAAAAAAAAAAAAAAAAAAAAAAAAAAAAAAAAAAAAAAAAAAAAAAAAAAAAAAAAAAAAAAAAAAAAAAAAAAAAAAAAAAAAAAAAAAAAAAAAAAAAAAAAAAAAAAAAAAAAAAAAAAAAAAAAAAAAAAAAAAAAAAAAAAAAAAAAAAAAAAAAAAAAAAAAAAAAAAAAAAAAAAAAAAAAAAAAAAAAAAAAAAAAAAAAAAAAAAAAAAAAAAAAAAAAAAAAAAAAAAAAAAAAAAAAAAAAAAAAAAAAAAAAAAAAAAAAAAAAAAAAAAAAAAAAAAAAAAAAAAAAAAAAAAAAAAAAAAAAAAAAAAAAAAAAAAAAAAAAAAAAAAAAAAAAAAAAAAAAAAAAAAAAAAAAAAAAAAAAAAAAAAAAAAAAAAAAAAAAAAAAAAAAAAAAAAAAAAAAAAAAAAAAAAAAAAAAAAAAAAAAAAAAAAAAAAAAAAAAAAAAAAAAAAAAAAAAAAAAAAAAAAAAAAAAAAAAAAAAAAAAAAAAAAAAAAAAAAAAAAAAAAAAAAAAAAAAAAAAAAAAAAAAAAAAAAAAAAAAAAAAAAAAAAAAAAAAAAAAAAAAAAAAAAAAAAAAAAAAAAAAAAAAAAAAAAAAAAAAAAAAAAAAAAAAAAAAAAAAAAAAAAAAAAAAAAAAAAAAAAAAAAAAAAAAAAAAAAAAAAAAAAAAAAAAAAAAAAAAAAAAAAAAAAAAAAAAAAAAAAAAAAAAAAAAAAAAAAAAAAAAAAAAAAAAAAAAAAAAAAAAAAAAAAAAAAAAAAAAAAAAAAAAAAAAAAAAAAAAAAAAAAAAAAAAAAAAAAAAAAAAAAAAAAAAAAAAAAAAAAAAAAAAAAAAAAAAAAAAAAAAAAAAAVPcI4be/fz+UHfdfZBqQP1P9q8faRJg/iW6wl6g3oD9o3orL40ykP0hOZf8eYqg/J74/M1p3rD8DF42zSkawP/NOek3oULI/44Zn54VbtD9BrCSfRHG0P4sq1oNcvLI/16iHaHQHsT9ETnKaGKWuP9lK1WNIO6s/cEc4LXjRpz8GRJv2p2ekP5xA/r/X/aA/ZHrCEg8omz+Qc4ilblSUP3nZnHCcAYs/o5dRLLe0ej8AAAAAAAAAAAAAAAAAAAAAAAAAAAAAAAAAAAAAAAAAAAAAAAAAAAAAAAAAAAAAAAAAAAAAAAAAAAAAAAAAAAAAAAAAAAAAAAAAAAAAAAAAAAAAAAAAAAAAAAAAAAAAAAAAAAAAAAAAAAAAAAAAAAAAAAAAAAAAAAAAAAAAAAAAAAAAAAAAAAAAAAAAAAAAAAAAAAAAAAAAAAAAAAAAAAAAAAAAAAAAAAAAAAAAAAAAAAAAAAAAAAAAAAAAAAAAAAAAAAAAAAAAAAAAAAAAAAAAAAAAAAAAAAAAAAAAAAAAAAAAAAAAAAAAAAAAAAAAAAAAAAAAAAAAAAAAAAAAAAAAAAAAAAAAAAAAAAAAAAAAAAAAAAAAAAAAAAAAAAAAAAAAAAAAAAAAAAAAAAAAAAAAAAAAAAAAAAAAAAAAAAAAAAAAAAAAAAAAAAAAAAAAAAAAAAAAAAAAAAAAAAAAAAAAAAAAAAAAAAAAAAAAAAAAAAAAAAAAAAAAAAAAAAAAAAAAAAAAAAAAAAAAAAAAAAAAAAAAAAAAAAAAAAAAAAAAAAAAAAAAAAAAAAAAAAAAAAAAAAAAAAAAAAAAAAAAAAAAAAAAAAAAAAAAAAAAAAAAAAAAAAAAAAAAAAAAAAAAAAAAAAAAAAAAAAAAAAAAAAAAAAAAAAAAAAAAAAAAAAAAAAAAAAAAAAAAAAAAAAAAAAAAAAAAAAAAAAAAAAAAAAAAAAAAAAAAAAAAAAAAAAAAAAAAAAAAAAAAAAAAAAAAAAAAAAAAAAAAAAAAAAAAAAAAAAAAAAAAAAAAAAAAAAAAAAAAAAAAAAAAAAAAAAAAAAAAAAAAAAAAAAAAAAAAAAAAAAAAAAAAAAAAAAAAAAAAAAAAAAAAAAAAAAAAAAAAAAAAAAAAAAAAAAAAAAAAAAAAAAAAAAAAAAAAAAAAAAAAAAAAAAAAAAAAAAAAAAAAAAAAAAAAAAAAAAAAAAAAAAAAAAAAAAAAAAAAAAAAAAAAAAAAAAAAAAAAAAAAAAAAAAAAAAAAAAAAAAAAAAAAAAAAAAAAAAAAAAAAAAAAAAAAAAAAAAAAAAAAAAAAAAAAAAAAAAAAAAAAAAAAAAAAAAAAAAAAAAAAAAAAAAAAAAAAAAAAAAAAAAAAAAAAAAAAAAAAAAAAAAAAAAAAAAAAAAAAAAAAAAAAAAAAAAAAAAAAAAAAAAAAAAAAAAAAAAAAAAAAAAAAAAAAAAAAAAAAAAAAAAAAAAAAAAAAAAAAAAAAAAAAAAAAAAAAAAAAAAAAAAAAAAAAAAAAAAAAAAAAAAAAAAAAAAAAAAAAAAAAAAAAAAAAAAAAAAAAAAAAAAAAAAAAAAAAAAAAAAAAAAAAAAAAAAAAAAAAAAAAAAAAAAAAAAAAAAAAAAAAAAAAAAAAAAAAAAAAAAAAAAAAAAAAAAAAAAAAAAAAAAAAAAAAAAAAAAAAAAAAAAAAAAAAAAAAAAAAAAAAAAAAAAAAAAAAAAAAAAAAAAAAAAAAAAAAAAAAAAAAAAAAAAAAAAAAAAAAAAAAAAAAAAAAAAAAAAAAAAAAAAAAAAAAAAAAAAAAAAAAAAAAAAAAAAAAAAAAAAAAAAAAAAAAAAAAAAAAAAAAAAAAAAAAAAAAAAAAAAAAAAAAAAAAAAAAAAAAAAAAAAAAAAAAAAAAAAAAAAAAAAAAAAAAAAAAAAAAAAAAAAAAAAAAAAAAAAAAAAAAAAAAAAAAAAAAAAAAAAAAAAAAAAAAAAAAAAAAAAAAAAAAAAAAAAAAAAAAAAAAAAAAAAAAAAAAAAAAAAAAAAAAAAAAAAAAAAAAAAAAAAAAAAAAAAAAAAAAAAAAAAAAAAAAAAAAAAAAAAAAAAAAAAAAAAAAAAAAAAAAAAAAAAAAAAAAAAAAAAAAAAAAAAAAAAAAAAAAAAAAAAAAAAAAAAAAAAAAAAAAAAAAAAAAAAAAAAAAAAAAAAAAAAAAAAAAAAAAAAAAAAAAAAAAAAAAAAAAAAAAAAAAAAAAAAAAAAAAAAAAAAAAAAAAAAAAAAAAAAAAAAAAAAAAAAAAAAAAAAAAAAAAAAAAAAAAAAAAAAAAAAAAAAAAAAAAAAAAAAAAAAAAAAAAAAAAAAAAAAAAAAAAAAAAAAAAAAAAAAAAAAAAAAAAAAAAAAAAAAAAAAAAAAAAAAAAAAAAAAAAAAAAAAAAAAAAAAAAAAAAAAAAAAAAAAAAAAAAAAAAAAAAAAAAAAAAAAAAAAAAAAAAAAAAAAAAAAAAAAAAAAAAAAAAAAAAAAAAAAAAAAAAAAAAAAAAAAAAAAAAAAAAAAAAAAAAAAAAAAAAAAAAAAAAAAAAAAAAAAAAAAAAAAAAAAAAAAAAAAAAAAAAAAAAAAAAAAAAAAAAAAAAAAAAAAAAAAAAAAAAAAAAAAAAAAAAAAAAAAAAAAAAAAAAAAAAAAAAAAAAAAAAAAAAAAAAAAAAAAAAAAAAAAAAAAAAAAAAAAAAAAAAAAAAAAAAAAAAAAAAAAAAAAAAAAAAAAAAAAAAAAAAAAAAAAAAAAAAAAAAAAAAAAAAAAAAAAAAAAAAAAAAAAAAAAAAAAAAAAAAAAAAAAAAAAAAAAAAAAAAAAAAAAAAAAAAAAAAAAAAAAAAAAAAAAAAAAAAAAAAAAAAAAAAAAAAAAAAAAAAAAAAAAAAAAAAAAAAAAAAAAAAAAAAAAAAAAAAAAAAAAAAAAAAAAAAAAAAAAAAAAAAAAAAAAAAAAAAAAAAAAAAAAAAAAAAAAAAAAAAAAAAAAAAAAAAAAAAAAAAAAAAAAAAAAAAAAAAAAAAAAAAAAAAAAAAAAAAAAAAAAAAAAAAAAAAAAAAAAAAAAAAAAAAAAAAAAAAAAAAAAAAAAAAAAAAAAAAAAAAAAAAAAAAAAAAAAAAAAAAAAAAAAAAAAAAAAAAAAAAAAAAAAAAAAAAAAAAAAAAAAAAAAAAAAAAAAAAAAAAAAAAAAAAAAAAAAAAAAAAAAAAAAAAAAAAAAAAAAAAAAAAAAAAAAAAAAAAAAAAAAAAAAAAAAAAAAAAAAAAAAAAAAAAAAAAAAAAAAAAAAAAAAAAAAAAAAAAAAAAAAAAAAAAAAAAAAAAAAAAAAAAAAAAAAAAAAAAAAAAAAAAAAAAAAAAAAAAAAAAAAAAAAAAAAAAAAAAAAAAAAAAAAAAAAAAAAAAAAAAAAAAAAAAAAAAAAAAAAAAAAAAAAAAAAAAAAAAAAAAAAAAAAAAAAAAAAAAAAAAAAAAAAAAAAAAAAAAAAAAAAAAAAAAAAAAAAAAAAAAAAAAAAAAAAAAAAAAAAAAAAAAAAAAAAAAAAAAAAAAAAAAAAAAAAAAAAAAAAAAAAAAAAAAAAAAAAAAAAAAAAAAAAAAAAAAAAAAAAAAAAAAAAAAAAAAAAAAAAAAAAAAAAAAAAAAAAAAAAAAAAAAAAAAAAAAAAAAAAAAAAAAAAAAAAAAAAAAAAAAAAAAAAAAAAAAAAAAAAAAAAAAAAAAAAAAAAAAAAAAAAAAAAAAAAAAAAAAAAAAAAAAAAAAAAAAAAAAAAAAAAAAAAAAAAAAAAAAAAAAAAAAAAAAAAAAAAAAAAAAAAAAAAAAAAAAAAAAAAAAAAAAAAAAAAAAAAAAAAAAAAAAAAAAAAAAAAAAAAAAAAAAAAAAAAAAAAAAAAAAAAAAAAAAAAAAAAAAAAAAAAAAAAAAAAAAAAAAAAAAAAAAAAAAAAAAAAAAAAAAAAAAAAAAAAAAAAAAAAAAAAAAAAAAAAAAAAAAAAAAAAAAAAAAAAAAAAAAAAAAAAAAAAAAAAAAAAAAAAAAAAAAAAAAAAAAAAAAAAAAAAAAAAAAAAAAAAAAAAAAAAAAAAAAAAAAAAAAAAAAAAAAAAAAAAAAAAAAAAAAAAAAAAAAAAAAAAAAAAAAAAAAAAAAAAAAAAAAAAAAAAAAAAAAAAAAAAAAAAAAAAAAAAAAAAAAAAAAAAAAAAAAAAAAAAAAAAAAAAAAAAAAAAAAAAAAAAAAAAAAAAAAAAAAAAAAAAAAAAAAAAAAAAAAAAAAAAAAAAAAAAAAAAAAAAAAAAAAAAAAAAAAAAAAAAAAAAAAAAAAAAAAAAAAAAAAAAAAAAAAAAAAAAAAAAAAAAAAAAAAAAAAAAAAAAAAAAAAAAAAAAAAAAAAAAAAAAAAAAAAAAAAAAAAAAAAAAAAAAAAAAAAAAAAAAAAAAAAAAAAAAAAAAAAAAAAAAAAAAAAAAAAAAAAAAAAAAAAAAAAAAAAAAAAAAAAAAAAAAAAAAAAAAAAAAAAAAAAAAAAAAAAAAAAAAAAAAAAAAAAAAAAAAAAAAAAAAAAAAAAAAAAAAAAAAAAAAAAAAAAAAAAAAAAAAAAAAAAAAAAAAAAAAAAAAAAAAAAAAAAAAAAAAAAAAAAAAAAAAAAAAAAAAAAAAAAAAAAAAAAAAAAAAAAAAAAAAAAAAAAAAAAAAAAAAAAAAAAAAAAAAAAAAAAAAAAAAAAAAAAAAAAAAAAAAAAAAAAAAAAAAAAAAAAAAAAAAAAAAAAAAAAAAAAAAAAAAAAAAAAAAAAAAAAAAAAAAAAAAAAAAAAAAAAAAAAAAAAAAAAAAAAAAAAAAAAAAAAAAAAAAAAAAAAAAAAAAAAAAAAAAAAAAAAAAAAAAAAAAAAAAAAAAAAAAAAAAAAAAAAAAAAAAAAAAAAAAAAAAAAAAAAAAAAAAAAAAAAAAAAAAAAAAAAAAAAAAAAAAAAAAAAAAAAAAAAAAAAAAAAAAAAAAAAAAAAAAAAAAAAAAAAAAAAAAAAAAAAAAAAAAAAAAAAAAAAAAAAAAAAAAAAAAAAAAAAAAAAAAAAAAAAAAAAAAAAAAAAAAAAAAAAAAAAAAAAAAAAAAAAAAAAAAAAAAAAAAAAAA==\",\"dtype\":\"float64\",\"shape\":[1001]}}},\"id\":\"b2cdd55a-5460-4544-9c7b-83306773ab67\",\"type\":\"ColumnDataSource\"},{\"attributes\":{\"label\":{\"value\":\"50k XpSize\"},\"renderers\":[{\"id\":\"1b5757b0-664b-432d-8008-c3a6d8c6b0f3\",\"type\":\"GlyphRenderer\"}]},\"id\":\"faeeae10-0571-44ec-9a11-3e45760169ed\",\"type\":\"LegendItem\"},{\"attributes\":{\"below\":[{\"id\":\"c15dbdcb-1458-4db2-a86c-b49e23047dad\",\"type\":\"LinearAxis\"}],\"left\":[{\"id\":\"dc596e80-ec4b-4c63-b34e-89102ee24921\",\"type\":\"LinearAxis\"}],\"plot_height\":800,\"plot_width\":1200,\"renderers\":[{\"id\":\"c15dbdcb-1458-4db2-a86c-b49e23047dad\",\"type\":\"LinearAxis\"},{\"id\":\"7399a0a3-cc69-4f0d-b7bb-c9b479c2b432\",\"type\":\"Grid\"},{\"id\":\"dc596e80-ec4b-4c63-b34e-89102ee24921\",\"type\":\"LinearAxis\"},{\"id\":\"c9e6d8fd-469f-42c5-9a76-6608c8b0a9d3\",\"type\":\"Grid\"},{\"id\":\"2f89ea00-1272-40a1-818e-578fb3c485d3\",\"type\":\"BoxAnnotation\"},{\"id\":\"1b5757b0-664b-432d-8008-c3a6d8c6b0f3\",\"type\":\"GlyphRenderer\"},{\"id\":\"5f848c6b-9a32-4780-82d3-6a5818b6cbbc\",\"type\":\"GlyphRenderer\"},{\"id\":\"c2d454f7-84e2-4fea-a432-d72d7b7f060c\",\"type\":\"GlyphRenderer\"},{\"id\":\"75387798-fd03-47b5-9d9f-f6dd4982f9cc\",\"type\":\"GlyphRenderer\"},{\"id\":\"b2b2e591-ba98-4c78-8b8a-c1b77681fd37\",\"type\":\"Legend\"}],\"right\":[{\"id\":\"b2b2e591-ba98-4c78-8b8a-c1b77681fd37\",\"type\":\"Legend\"}],\"title\":{\"id\":\"9ff6ad60-3fbe-498e-be29-5fe8d9e5aec7\",\"type\":\"Title\"},\"tool_events\":{\"id\":\"ee845929-6fbd-4ace-8af2-063da9c23e53\",\"type\":\"ToolEvents\"},\"toolbar\":{\"id\":\"00c069d0-ebd7-4b7b-811d-0cf15682d619\",\"type\":\"Toolbar\"},\"toolbar_location\":\"above\",\"x_range\":{\"id\":\"6dc0ddf7-c6b5-45f9-aa3c-065a7d6b7169\",\"type\":\"DataRange1d\"},\"y_range\":{\"id\":\"e8082ba8-e540-410d-a7db-6c3e0f89e5fb\",\"type\":\"Range1d\"}},\"id\":\"e71003b1-06f5-4207-a9bb-9f02f14a78ae\",\"subtype\":\"Figure\",\"type\":\"Plot\"},{\"attributes\":{\"active_drag\":\"auto\",\"active_scroll\":\"auto\",\"active_tap\":\"auto\",\"tools\":[{\"id\":\"c4574452-3e96-4732-919c-235e430673af\",\"type\":\"PanTool\"},{\"id\":\"d04d77a3-10db-4c25-9aa3-a678d702da94\",\"type\":\"WheelZoomTool\"},{\"id\":\"02f24727-5bc4-4047-ab41-337a5a1c2ec8\",\"type\":\"BoxZoomTool\"},{\"id\":\"786863d3-fea1-42ef-bbbc-321921b6626a\",\"type\":\"SaveTool\"},{\"id\":\"8e30213a-8faa-4b62-a34d-562b58b6f78d\",\"type\":\"ResetTool\"},{\"id\":\"d429fb44-37e0-47bb-9fe6-e2e7ae4cd464\",\"type\":\"HelpTool\"}]},\"id\":\"00c069d0-ebd7-4b7b-811d-0cf15682d619\",\"type\":\"Toolbar\"},{\"attributes\":{},\"id\":\"ee845929-6fbd-4ace-8af2-063da9c23e53\",\"type\":\"ToolEvents\"},{\"attributes\":{\"callback\":null},\"id\":\"6dc0ddf7-c6b5-45f9-aa3c-065a7d6b7169\",\"type\":\"DataRange1d\"},{\"attributes\":{\"plot\":null,\"text\":\"Med Maze 10 Uniform Baselines\"},\"id\":\"9ff6ad60-3fbe-498e-be29-5fe8d9e5aec7\",\"type\":\"Title\"},{\"attributes\":{\"data_source\":{\"id\":\"b2cdd55a-5460-4544-9c7b-83306773ab67\",\"type\":\"ColumnDataSource\"},\"glyph\":{\"id\":\"4970e9b5-a72a-4dba-b336-f68646922d86\",\"type\":\"Line\"},\"hover_glyph\":null,\"nonselection_glyph\":{\"id\":\"27148205-89df-4996-ba44-0a7ab2b53196\",\"type\":\"Line\"},\"selection_glyph\":null},\"id\":\"1b5757b0-664b-432d-8008-c3a6d8c6b0f3\",\"type\":\"GlyphRenderer\"},{\"attributes\":{\"axis_label\":\"T\",\"formatter\":{\"id\":\"2b1c7ae6-5b04-473e-ae3b-5a08098a6752\",\"type\":\"BasicTickFormatter\"},\"plot\":{\"id\":\"e71003b1-06f5-4207-a9bb-9f02f14a78ae\",\"subtype\":\"Figure\",\"type\":\"Plot\"},\"ticker\":{\"id\":\"c9aa517f-fc10-4a52-9d6c-0144ca79faaa\",\"type\":\"BasicTicker\"}},\"id\":\"c15dbdcb-1458-4db2-a86c-b49e23047dad\",\"type\":\"LinearAxis\"},{\"attributes\":{\"items\":[{\"id\":\"faeeae10-0571-44ec-9a11-3e45760169ed\",\"type\":\"LegendItem\"},{\"id\":\"dd44adae-54a8-4ff7-a4c6-6b9cbb9a1b2b\",\"type\":\"LegendItem\"},{\"id\":\"ba6eb3a4-9a15-4979-8d46-9d4bd93097e9\",\"type\":\"LegendItem\"},{\"id\":\"bad2ec4a-19d8-4803-935f-392d80c25131\",\"type\":\"LegendItem\"}],\"location\":[0,-30],\"plot\":{\"id\":\"e71003b1-06f5-4207-a9bb-9f02f14a78ae\",\"subtype\":\"Figure\",\"type\":\"Plot\"}},\"id\":\"b2b2e591-ba98-4c78-8b8a-c1b77681fd37\",\"type\":\"Legend\"},{\"attributes\":{\"data_source\":{\"id\":\"d24020b4-a022-40c4-9062-52f7b20f0c42\",\"type\":\"ColumnDataSource\"},\"glyph\":{\"id\":\"034b9cc5-c5d8-4ccb-a9dd-056a99b6a468\",\"type\":\"Line\"},\"hover_glyph\":null,\"nonselection_glyph\":{\"id\":\"ca1b7bfb-486d-41b4-98b0-b4e2c9d1493b\",\"type\":\"Line\"},\"selection_glyph\":null},\"id\":\"75387798-fd03-47b5-9d9f-f6dd4982f9cc\",\"type\":\"GlyphRenderer\"},{\"attributes\":{\"plot\":{\"id\":\"e71003b1-06f5-4207-a9bb-9f02f14a78ae\",\"subtype\":\"Figure\",\"type\":\"Plot\"},\"ticker\":{\"id\":\"c9aa517f-fc10-4a52-9d6c-0144ca79faaa\",\"type\":\"BasicTicker\"}},\"id\":\"7399a0a3-cc69-4f0d-b7bb-c9b479c2b432\",\"type\":\"Grid\"},{\"attributes\":{},\"id\":\"c9aa517f-fc10-4a52-9d6c-0144ca79faaa\",\"type\":\"BasicTicker\"},{\"attributes\":{\"callback\":null,\"end\":1.1,\"start\":-0.1},\"id\":\"e8082ba8-e540-410d-a7db-6c3e0f89e5fb\",\"type\":\"Range1d\"},{\"attributes\":{},\"id\":\"1d7b78e4-9779-4a71-af83-1b343da3b0b6\",\"type\":\"BasicTicker\"},{\"attributes\":{\"axis_label\":\"Episode Reward\",\"formatter\":{\"id\":\"a00641e1-3bd3-4513-9f5a-e8f6da2ca3c9\",\"type\":\"BasicTickFormatter\"},\"plot\":{\"id\":\"e71003b1-06f5-4207-a9bb-9f02f14a78ae\",\"subtype\":\"Figure\",\"type\":\"Plot\"},\"ticker\":{\"id\":\"1d7b78e4-9779-4a71-af83-1b343da3b0b6\",\"type\":\"BasicTicker\"}},\"id\":\"dc596e80-ec4b-4c63-b34e-89102ee24921\",\"type\":\"LinearAxis\"},{\"attributes\":{\"dimension\":1,\"plot\":{\"id\":\"e71003b1-06f5-4207-a9bb-9f02f14a78ae\",\"subtype\":\"Figure\",\"type\":\"Plot\"},\"ticker\":{\"id\":\"1d7b78e4-9779-4a71-af83-1b343da3b0b6\",\"type\":\"BasicTicker\"}},\"id\":\"c9e6d8fd-469f-42c5-9a76-6608c8b0a9d3\",\"type\":\"Grid\"},{\"attributes\":{\"plot\":{\"id\":\"e71003b1-06f5-4207-a9bb-9f02f14a78ae\",\"subtype\":\"Figure\",\"type\":\"Plot\"}},\"id\":\"8e30213a-8faa-4b62-a34d-562b58b6f78d\",\"type\":\"ResetTool\"},{\"attributes\":{\"plot\":{\"id\":\"e71003b1-06f5-4207-a9bb-9f02f14a78ae\",\"subtype\":\"Figure\",\"type\":\"Plot\"}},\"id\":\"786863d3-fea1-42ef-bbbc-321921b6626a\",\"type\":\"SaveTool\"},{\"attributes\":{\"overlay\":{\"id\":\"2f89ea00-1272-40a1-818e-578fb3c485d3\",\"type\":\"BoxAnnotation\"},\"plot\":{\"id\":\"e71003b1-06f5-4207-a9bb-9f02f14a78ae\",\"subtype\":\"Figure\",\"type\":\"Plot\"}},\"id\":\"02f24727-5bc4-4047-ab41-337a5a1c2ec8\",\"type\":\"BoxZoomTool\"},{\"attributes\":{\"plot\":{\"id\":\"e71003b1-06f5-4207-a9bb-9f02f14a78ae\",\"subtype\":\"Figure\",\"type\":\"Plot\"}},\"id\":\"d04d77a3-10db-4c25-9aa3-a678d702da94\",\"type\":\"WheelZoomTool\"},{\"attributes\":{\"plot\":{\"id\":\"e71003b1-06f5-4207-a9bb-9f02f14a78ae\",\"subtype\":\"Figure\",\"type\":\"Plot\"}},\"id\":\"c4574452-3e96-4732-919c-235e430673af\",\"type\":\"PanTool\"},{\"attributes\":{\"bottom_units\":\"screen\",\"fill_alpha\":{\"value\":0.5},\"fill_color\":{\"value\":\"lightgrey\"},\"left_units\":\"screen\",\"level\":\"overlay\",\"line_alpha\":{\"value\":1.0},\"line_color\":{\"value\":\"black\"},\"line_dash\":[4,4],\"line_width\":{\"value\":2},\"plot\":null,\"render_mode\":\"css\",\"right_units\":\"screen\",\"top_units\":\"screen\"},\"id\":\"2f89ea00-1272-40a1-818e-578fb3c485d3\",\"type\":\"BoxAnnotation\"},{\"attributes\":{\"use_scientific\":false},\"id\":\"2b1c7ae6-5b04-473e-ae3b-5a08098a6752\",\"type\":\"BasicTickFormatter\"},{\"attributes\":{\"line_color\":{\"value\":\"#377eb8\"},\"line_width\":{\"value\":2},\"x\":{\"field\":\"x\"},\"y\":{\"field\":\"y\"}},\"id\":\"23cf66d6-0a70-43ae-b553-10ac9ac18f48\",\"type\":\"Line\"},{\"attributes\":{\"line_alpha\":{\"value\":0.1},\"line_color\":{\"value\":\"#1f77b4\"},\"line_width\":{\"value\":2},\"x\":{\"field\":\"x\"},\"y\":{\"field\":\"y\"}},\"id\":\"27148205-89df-4996-ba44-0a7ab2b53196\",\"type\":\"Line\"},{\"attributes\":{\"plot\":{\"id\":\"e71003b1-06f5-4207-a9bb-9f02f14a78ae\",\"subtype\":\"Figure\",\"type\":\"Plot\"}},\"id\":\"d429fb44-37e0-47bb-9fe6-e2e7ae4cd464\",\"type\":\"HelpTool\"},{\"attributes\":{\"line_color\":{\"value\":\"#4daf4a\"},\"line_width\":{\"value\":2},\"x\":{\"field\":\"x\"},\"y\":{\"field\":\"y\"}},\"id\":\"de37083d-494e-4101-8e76-df4050808cba\",\"type\":\"Line\"},{\"attributes\":{},\"id\":\"a00641e1-3bd3-4513-9f5a-e8f6da2ca3c9\",\"type\":\"BasicTickFormatter\"},{\"attributes\":{\"data_source\":{\"id\":\"b37cf7d3-0cb6-48ea-8810-308740e394ce\",\"type\":\"ColumnDataSource\"},\"glyph\":{\"id\":\"de37083d-494e-4101-8e76-df4050808cba\",\"type\":\"Line\"},\"hover_glyph\":null,\"nonselection_glyph\":{\"id\":\"ededa952-4468-483d-8c13-4b0c0a885e4f\",\"type\":\"Line\"},\"selection_glyph\":null},\"id\":\"c2d454f7-84e2-4fea-a432-d72d7b7f060c\",\"type\":\"GlyphRenderer\"},{\"attributes\":{\"callback\":null,\"column_names\":[\"x\",\"y\"],\"data\":{\"x\":[0,1000,2000,3000,4000,5000,6000,7000,8000,9000,10000,11000,12000,13000,14000,15000,16000,17000,18000,19000,20000,21000,22000,23000,24000,25000,26000,27000,28000,29000,30000,31000,32000,33000,34000,35000,36000,37000,38000,39000,40000,41000,42000,43000,44000,45000,46000,47000,48000,49000,50000,51000,52000,53000,54000,55000,56000,57000,58000,59000,60000,61000,62000,63000,64000,65000,66000,67000,68000,69000,70000,71000,72000,73000,74000,75000,76000,77000,78000,79000,80000,81000,82000,83000,84000,85000,86000,87000,88000,89000,90000,91000,92000,93000,94000,95000,96000,97000,98000,99000,100000,101000,102000,103000,104000,105000,106000,107000,108000,109000,110000,111000,112000,113000,114000,115000,116000,117000,118000,119000,120000,121000,122000,123000,124000,125000,126000,127000,128000,129000,130000,131000,132000,133000,134000,135000,136000,137000,138000,139000,140000,141000,142000,143000,144000,145000,146000,147000,148000,149000,150000,151000,152000,153000,154000,155000,156000,157000,158000,159000,160000,161000,162000,163000,164000,165000,166000,167000,168000,169000,170000,171000,172000,173000,174000,175000,176000,177000,178000,179000,180000,181000,182000,183000,184000,185000,186000,187000,188000,189000,190000,191000,192000,193000,194000,195000,196000,197000,198000,199000,200000,201000,202000,203000,204000,205000,206000,207000,208000,209000,210000,211000,212000,213000,214000,215000,216000,217000,218000,219000,220000,221000,222000,223000,224000,225000,226000,227000,228000,229000,230000,231000,232000,233000,234000,235000,236000,237000,238000,239000,240000,241000,242000,243000,244000,245000,246000,247000,248000,249000,250000,251000,252000,253000,254000,255000,256000,257000,258000,259000,260000,261000,262000,263000,264000,265000,266000,267000,268000,269000,270000,271000,272000,273000,274000,275000,276000,277000,278000,279000,280000,281000,282000,283000,284000,285000,286000,287000,288000,289000,290000,291000,292000,293000,294000,295000,296000,297000,298000,299000,300000,301000,302000,303000,304000,305000,306000,307000,308000,309000,310000,311000,312000,313000,314000,315000,316000,317000,318000,319000,320000,321000,322000,323000,324000,325000,326000,327000,328000,329000,330000,331000,332000,333000,334000,335000,336000,337000,338000,339000,340000,341000,342000,343000,344000,345000,346000,347000,348000,349000,350000,351000,352000,353000,354000,355000,356000,357000,358000,359000,360000,361000,362000,363000,364000,365000,366000,367000,368000,369000,370000,371000,372000,373000,374000,375000,376000,377000,378000,379000,380000,381000,382000,383000,384000,385000,386000,387000,388000,389000,390000,391000,392000,393000,394000,395000,396000,397000,398000,399000,400000,401000,402000,403000,404000,405000,406000,407000,408000,409000,410000,411000,412000,413000,414000,415000,416000,417000,418000,419000,420000,421000,422000,423000,424000,425000,426000,427000,428000,429000,430000,431000,432000,433000,434000,435000,436000,437000,438000,439000,440000,441000,442000,443000,444000,445000,446000,447000,448000,449000,450000,451000,452000,453000,454000,455000,456000,457000,458000,459000,460000,461000,462000,463000,464000,465000,466000,467000,468000,469000,470000,471000,472000,473000,474000,475000,476000,477000,478000,479000,480000,481000,482000,483000,484000,485000,486000,487000,488000,489000,490000,491000,492000,493000,494000,495000,496000,497000,498000,499000,500000,501000,502000,503000,504000,505000,506000,507000,508000,509000,510000,511000,512000,513000,514000,515000,516000,517000,518000,519000,520000,521000,522000,523000,524000,525000,526000,527000,528000,529000,530000,531000,532000,533000,534000,535000,536000,537000,538000,539000,540000,541000,542000,543000,544000,545000,546000,547000,548000,549000,550000,551000,552000,553000,554000,555000,556000,557000,558000,559000,560000,561000,562000,563000,564000,565000,566000,567000,568000,569000,570000,571000,572000,573000,574000,575000,576000,577000,578000,579000,580000,581000,582000,583000,584000,585000,586000,587000,588000,589000,590000,591000,592000,593000,594000,595000,596000,597000,598000,599000,600000,601000,602000,603000,604000,605000,606000,607000,608000,609000,610000,611000,612000,613000,614000,615000,616000,617000,618000,619000,620000,621000,622000,623000,624000,625000,626000,627000,628000,629000,630000,631000,632000,633000,634000,635000,636000,637000,638000,639000,640000,641000,642000,643000,644000,645000,646000,647000,648000,649000,650000,651000,652000,653000,654000,655000,656000,657000,658000,659000,660000,661000,662000,663000,664000,665000,666000,667000,668000,669000,670000,671000,672000,673000,674000,675000,676000,677000,678000,679000,680000,681000,682000,683000,684000,685000,686000,687000,688000,689000,690000,691000,692000,693000,694000,695000,696000,697000,698000,699000,700000,701000,702000,703000,704000,705000,706000,707000,708000,709000,710000,711000,712000,713000,714000,715000,716000,717000,718000,719000,720000,721000,722000,723000,724000,725000,726000,727000,728000,729000,730000,731000,732000,733000,734000,735000,736000,737000,738000,739000,740000,741000,742000,743000,744000,745000,746000,747000,748000,749000,750000,751000,752000,753000,754000,755000,756000,757000,758000,759000,760000,761000,762000,763000,764000,765000,766000,767000,768000,769000,770000,771000,772000,773000,774000,775000,776000,777000,778000,779000,780000,781000,782000,783000,784000,785000,786000,787000,788000,789000,790000,791000,792000,793000,794000,795000,796000,797000,798000,799000,800000,801000,802000,803000,804000,805000,806000,807000,808000,809000,810000,811000,812000,813000,814000,815000,816000,817000,818000,819000,820000,821000,822000,823000,824000,825000,826000,827000,828000,829000,830000,831000,832000,833000,834000,835000,836000,837000,838000,839000,840000,841000,842000,843000,844000,845000,846000,847000,848000,849000,850000,851000,852000,853000,854000,855000,856000,857000,858000,859000,860000,861000,862000,863000,864000,865000,866000,867000,868000,869000,870000,871000,872000,873000,874000,875000,876000,877000,878000,879000,880000,881000,882000,883000,884000,885000,886000,887000,888000,889000,890000,891000,892000,893000,894000,895000,896000,897000,898000,899000,900000,901000,902000,903000,904000,905000,906000,907000,908000,909000,910000,911000,912000,913000,914000,915000,916000,917000,918000,919000,920000,921000,922000,923000,924000,925000,926000,927000,928000,929000,930000,931000,932000,933000,934000,935000,936000,937000,938000,939000,940000,941000,942000,943000,944000,945000,946000,947000,948000,949000,950000,951000,952000,953000,954000,955000,956000,957000,958000,959000,960000,961000,962000,963000,964000,965000,966000,967000,968000,969000,970000,971000,972000,973000,974000,975000,976000,977000,978000,979000,980000,981000,982000,983000,984000,985000,986000,987000,988000,989000,990000,991000,992000,993000,994000,995000,996000,997000,998000,999000,1000000],\"y\":{\"__ndarray__\":\"AAAAAAAAAAAAAAAAAAAAAAAAAAAAAAAAAAAAAAAAAAAAAAAAAAAAAAAAAAAAAAAAAAAAAAAAAAAAAAAAAAAAAAAAAAAAAAAAAAAAAAAAAAAAAAAAAAAAAAAAAAAAAAAAAAAAAAAAAAAAAAAAAAAAAAAAAAAAAAAAAAAAAAAAAAAAAAAAAAAAAAAAAAAAAAAAAAAAAAAAAAAAAAAAAAAAAAAAAAAAAAAAAAAAAAAAAAAAAAAAAAAAAAAAAAAAAAAAAAAAAAAAAAAAAAAAAAAAAAAAAAAAAAAAAAAAAAAAAAAAAAAAAAAAAAAAAAAAAAAAAAAAAAAAAAAAAAAAAAAAAAAAAAAAAAAAAAAAAAAAAAAAAAAAAAAAAAAAAAAAAAAAAAAAAAAAAAAAAAAAAAAAAAAAAAAAAAAAAAAAAAAAAAAAAAAAAAAAAAAAAAAAAAAAAAAAAAAAAAAAAAAAAAAAAAAAAAAAAAAAAAAAAAAAAAAAAAAAAAAAAAAAAAAAAAAAAAAAAAAAAAAAAAAAAAAAAAAAAAAAAAAAAAAAAAAAAAAAAAAAAAAAAAAAAAAAAAAAAAAAAAAAAAAAAAAAAAAAAAAAAAAAAAAAAAAAAAAAAAAAAAAAAAAAAAAAAAAAAAAAAAAAAAAAAAAAAAAAAAAAAAAAAAAAAAAAAAAAAAAAAAAAAAAAAAAAAAAAAAAAAAAAAAAAAAAAAAAAAAAAAAAAAAAAAAAAAAAAAAAAAAAAAAAAAAAAAAAAAAAAAAAAAAAAAAAAAAAAAAAAAAAAAAAAAAAAAAAAAAAAAAAAAAAAAABsb6DnVG2FP2xvoOdUbZU/kVO4rf8RoD9sb6DnVG2lP0eLiCGqyKo/kVO4rf8RsD9+YaxKqr+yP1VVVVVVVbU/VVVVVVVVtT9VVVVVVVW1P1VVVVVVVbU/VVVVVVVVtT9VVVVVVVW1P1VVVVVVVbU/VVVVVVVVtT9VVVVVVVW1P1VVVVVVVbU/VVVVVVVVtT8rCznJaWK0P3eJ6q2BrbI/wgeckpn4sD8ZDJvuYoeuP7AI/reSHas/RQVhgcKzpz/cAcRK8kmkP3L+JhQi4KA/EPYTu6Psmj8879lNAxmUP9HQP8HFioo/U4aXzQnHeT8AAAAAAAAAAAAAAAAAAAAAAAAAAAAAAAAAAAAAAAAAAAAAAAAAAAAAAAAAAAAAAAAAAAAAAAAAAAAAAAAAAAAAAAAAAAAAAAAAAAAAAAAAAAAAAAAAAAAAAAAAAAAAAAAAAAAAAAAAABc4KRc4KXc/EFI0EFI0kD8bVp4aVp6aPxMthBIthKI/GC+5Fy+5pz8dMe4cMe6sP5GZEZGZEbE/lBqskxqssz9VVVVVVVW1P1VVVVVVVbU/VVVVVVVVtT9VVVVVVVW1P1VVVVVVVbU/VVVVVVVVtT9VVVVVVVW1P1VVVVVVVbU/VVVVVVVVtT9VVVVVVVW1P1VVVVVVVbU/VVVVVVVVtT9VVVVVVVW1P1VVVVVVVbU/VVVVVVVVtT9VVVVVVVW1P1VVVVVVVbU/VVVVVVVVtT9VVVVVVVW1P1VVVVVVVbU/VVVVVVVVtT9VVVVVVVW1P1VVVVVVVbU/VVVVVVVVtT9VVVVVVVW1P1VVVVVVVbU/VVVVVVVVtT9VVVVVVVW1P1VVVVVVVbU/VVVVVVVVtT9VVVVVVVW1P1VVVVVVVbU/VVVVVVVVtT9VVVVVVVW1P1VVVVVVVbU/VVVVVVVVtT97T5g3gVy2P8RDHvzYarg/DzikwDB5uj9YLCqFiIe8P6MgsEnglb4/dwobBxxSwD+bBF7pR1nBP8D+oMtzYMI/5fjjrZ9nwz8J8yaQy27EP1VVVVVVVcU/VVVVVVVVxT9VVVVVVVXFP1VVVVVVVcU/VVVVVVVVxT9VVVVVVVXFP1VVVVVVVcU/VVVVVVVVxT9VVVVVVVXFP1VVVVVVVcU/VVVVVVVVxT9VVVVVVVXFP1VVVVVVVcU/VVVVVVVVxT9VVVVVVVXFP5C+4W2x8cU/B5H6nmkqxz98YxPQIWPIP/E1LAHam8k/aAhFMpLUyj/d2l1jSg3MP1OtdpQCRs0/yX+Pxbp+zj8/Uqj2crfPPwAAAAAAANA/AAAAAAAA0D8AAAAAAADQPwAAAAAAANA/+FDXFih90D/woa4tUPrQP+jyhUR4d9E/4ENdW6D00T/YlDRyyHHSP9DlC4nw7tI/H8xg9xxr0z+pfGQHC3vTPzQtaBf5itM/v91rJ+ea0z/4aISRcZ/TP4vIsIo3MtM/a2rO8PQi0z+bTt3DqXHTP8ky7JZewNM/+Bb7aRMP1D8n+wk9yF3UP1bfGBB9rNQ/hcMn4zH71D//Hs9BqjvVP5F++zpwztQ/JN4nNDZh1D+JIUxk+c3TP67gpFaF89I/1J/9SBEZ0j/XDvezD6/RP9t98B4ORdE/3uzpiQzb0D/iW+P0CnHQP+XK3F8JB9A/03OslQ86zz/YUZ9rDGbOP/w8cm+ZMs4/3VsMUwo5zj+/eqY2ez/OP2lyJLMr/84/JdJlpBDgzz+3MoBzWbrPPzw4yPl1y88/wT0QgJLczz9HQ1gGr+3PP8xIoIzL/s8/KSd0CfQH0D/sKZhMghDQPxeY8fwhVtA/0GNiQKrW0D+JL9ODMlfRP5TlpeluLtI/WcjXKx2o0z8svWwJxnrUP1PJgmbiEtY/eNWYw/6q1z+g4a4gG0PZP4HOMbj0Ato/m8OGFuuh2j9HB7c/UCPbP/2S65YS3do/tR4g7tSW2j9vqlRFl1DaP3Roke18P9k/LIcW2c731z8jiV5GsdzWP0hItzg9AtY/bgcQK8kn1T+TxmgdVU3UP7mFwQ/hctM/3kQaAm2Y0j8DBHP0+L3RPyqMLQQ5KNE/vetZ/f660D9QS4b2xE3QPwAAAAAAANA/AAAAAAAA0D8spypapkzPP1Fmg0wycs4/dyXcPr6XzT+c5DQxSr3MP8OjjSPW4ss/6GLmFWIIyz8NIj8I7i3KPzPhl/p5U8k/WKDw7AV5yD99X0nfkZ7HP6MeotEdxMY/yN36w6npxT9VVVVVVVXFP1VVVVVVVcU//YvwpyILxj9M+SZNvXbHP5tmXfJX4sg/6dOTl/JNyj84Qco8jbnLP4iuAOInJc0//7z9iK+/zz8XXRTFcYbRP98LznTtDNI/Y7P0G4CQ0j/mWhvDEhTTP2kCQmqll9M/C//80Uo00z+eXinLEMfSPzG+VcTWWdI/wx2CvZzs0T9Xfa62Yn/RP+nc2q8oEtE/fDwHqe6k0D8PnDOitDfQP6X9agRMS9A/2Pj20/bk0D8L9IKjoX7RP1d2XWTcPNI/xSQJ521I0z8z07Rp/1PUP6CBYOyQX9U/DzAMbyJr1j983rfxs3bXPz1jsXI449c/C3b9HuXn1z/ZiEnLkezXP6eblXc+8dc/da7hI+v11z9DwS3Ql/rXP4g7BHs52dc/G5swdP9r1z+t+lxtxf7WP0BaiWaLkdY/07m1X1Ek1j9lGeJYF7fVP7OipVb8ZNU/cP3GSg761T8tWOg+II/WP+myCTMyJNc/pw0rJ0S51z9jaEwbVk7YPyDDbQ9o49g/3B2PA3p42T+ZeLD3iw3aP1XT0eudoto/q6qqqqqq2j+rqqqqqqraP+SoyXnsVNo/eAj2crLn2T8LaCJseHrZP53HTmU+Ddk/lTMBrHtR2D+78lmeB3fXP+CxspCTnNY/BXELgx/C1T8sMGR1q+fUP1HvvGc3DdQ/d64VWsMy0z+cbW5MT1jSPxs1I4UAmtE/6n/b/lYG0j+5ypN4rXLSP4kVTPID39I/IvxXv1Bb0z/J4RX5aWnTP3DH0zKDd9M/F62RbJyF0z+9kk+mtZPTP2R4DeDOodM/Cl7LGeiv0z+xQ4lTAb7TPwkhqsavstQ/49WvEJUf1z+8irVaeozZP197ZkmAmto/89qSQkYt2j+FOr87DMDZPxia6zTSUtk/q/kXLpjl2D89WUQnXnjYP9C4cCAkC9g/YxidGeqd1z/1d8kSsDDXP4jX9Qt2w9Y/GzciBTxW1j+tlk7+AenVP0D2evfHe9U/VVVVVVVV1T9VVVVVVVXVP1VVVVVVVdU/VVVVVVVV1T9VVVVVVVXVP1VVVVVVVdU/VVVVVVVV1T9VVVVVVVXVP1VVVVVVVdU/VVVVVVVV1T9VVVVVVVXVP1VVVVVVVdU/VVVVVVVV1T9VVVVVVVXVP1VVVVVVVdU/VVVVVVVV1T9VVVVVVVXVP1VVVVVVVdU/VVVVVVVV1T9VVVVVVVXVP1VVVVVVVdU/VVVVVVVV1T9VVVVVVVXVP1VVVVVVVdU/VVVVVVVV1T9ZQ00+sNTVP11KSmA5mdY/YFFHgsJd1z9kWESkSyLYP2hfQcbU5tg/a2Y+6F2r2T9wbTsK52/aP3ziDUOOFNs/HVLUc1Xo2z/AwZqkHLzcP2MxYdXjj90/BKEnBqtj3j+nEO42cjffPwAAAAAAAOA/AAAAAAAA4D8AAAAAAADgPwAAAAAAAOA/AAAAAAAA4D8AAAAAAADgPwAAAAAAAOA/AAAAAAAA4D8AAAAAAADgPwAAAAAAAOA/AAAAAAAA4D8AAAAAAADgPwAAAAAAAOA/AAAAAAAA4D8AAAAAAADgP5w755Rtzd8/MJsTjjNg3z/D+j+H+fLeP1VabIC/hd4/6LmYeYUY3j97GcVyS6vdPw158WsRPt0/oNgdZdfQ3D8zOEpenWPcP8WXdldj9ts/WPeiUCmJ2z/rVs9J7xvbP322+0K1rto/a7a5f69m2z9Jbeyr7SncPygkH9gr7dw/B9tRBGqw3T8BcwdHtcLfP3+F3kSA6uA/OSjy987T4T/AyFQ7pkfiPy/NmkUV6+E/wSzHPtt94T9UjPM3oRDhP+frHzFno+A/ektMKi024D8ZVvFG5pHfPz8VSjlyt94/ZdSiK/7c3T+Jk/sdigLdP69SVBAWKNw/5f674HJj2z94xz1i1o/bPwSMthrqTNw/TXh9Dr/N3T+VZEQClE7fP2+oBXu0Z+A/lB7p9B4o4T+4lMxuiejhP13ZyiPWbOI/q6qqqqqq4j+rqqqqqqriP6uqqqqqquI/q6qqqqqq4j8ncxkkao/iP/CiryDNWOI/udJFHTAi4j+DAtwZk+vhP00ychb2tOE/FmIIE1l+4T/fkZ4PvEfhP6nBNAwfEeE/cvHKCILa4D87IWEF5aPgPwVR9wFIbeA/z4CN/qo24D+YsCP7DQDgP4s5AoxZQ+A/dYpFWsSG4D9g24goL8rgP0sszPaZDeE/Nn0PxQRR4T8hzlKTb5ThPwwflmHa1+E/92/ZL0Ub4j/hwBz+r17iP8wRYMwaouI/q6qqqqqq4j+rqqqqqqriP6uqqqqqquI/q6qqqqqq4j+rqqqqqqriP6uqqqqqquI/q6qqqqqq4j9IbeLkfofiPxGdeOHhUOI/28wO3kQa4j+k/KTap+PhP20sO9cKreE/N1zR02124T8AjGfQ0D/hP8m7/cwzCeE/k+uTyZbS4D9dGyrG+ZvgPyZLwMJcZeA/73pWv78u4D8vig8XEArgP+GQwprxT+A/lZd1HtOV4D9IniiitNvgP/uk2yWWIeE/rquOqXdn4T9hskEtWa3hPxS59LA68+E/yL+nNBw54j97xlq4/X7iP6uqqqqqquI/q6qqqqqq4j+rqqqqqqriP6uqqqqqquI/q6qqqqqq4j+rqqqqqqriP6uqqqqqquI/q6qqqqqq4j+rqqqqqqriP6uqqqqqquI/q6qqqqqq4j+rqqqqqqriP6uqqqqqquI/q6qqqqqq4j+rqqqqqqriP6uqqqqqquI/q6qqqqqq4j/9AXyxCsLiPxSqRJA0E+M/K1INb15k4z9C+tVNiLXjP1miniyyBuQ/cEpnC9xX5D+H8i/qBankP56a+Mgv+uQ/tULBp1lL5T/3XRH8byXlP8CNp/jS7uQ/ib099TW45D9T7dPxmIHkPxwdau77SuQ/5UwA614U5D+vfJbnwd3jP3isLOQkp+M/QdzC4Idw4z8LDFnd6jnjP9Q779lNA+M/nWuF1rDM4j+rqqqqqqriP6uqqqqqquI/q6qqqqqq4j+rqqqqqqriP6uqqqqqquI/q6qqqqqq4j+rqqqqqqriP6uqqqqqquI/q6qqqqqq4j+rqqqqqqriP6uqqqqqquI/q6qqqqqq4j+rqqqqqqriP6uqqqqqquI/q6qqqqqq4j+rqqqqqqriP6uqqqqqquI/q6qqqqqq4j+rqqqqqqriP6uqqqqqquI/q6qqqqqq4j+rqqqqqqriP6uqqqqqquI/q6qqqqqq4j+rqqqqqqriP6uqqqqqquI/q6qqqqqq4j+rqqqqqqriP6uqqqqqquI/q6qqqqqq4j+rqqqqqqriP6uqqqqqquI/q6qqqqqq4j+rqqqqqqriP6uqqqqqquI/q6qqqqqq4j+rqqqqqqriP6uqqqqqquI/q6qqqqqq4j+rqqqqqqriP6uqqqqqquI/q6qqqqqq4j+rqqqqqqriP6uqqqqqquI/q6qqqqqq4j+rqqqqqqriP6uqqqqqquI/q6qqqqqq4j+rqqqqqqriP6uqqqqqquI/q6qqqqqq4j+rqqqqqqriP6uqqqqqquI/q6qqqqqq4j+rqqqqqqriP6uqqqqqquI/q6qqqqqq4j+rqqqqqqriP6uqqqqqquI/q6qqqqqq4j+rqqqqqqriP6uqqqqqquI/q6qqqqqq4j+rqqqqqqriP6uqqqqqquI/q6qqqqqq4j+rqqqqqqriP6uqqqqqquI/q6qqqqqq4j+rqqqqqqriP6uqqqqqquI/q6qqqqqq4j+rqqqqqqriP6uqqqqqquI/q6qqqqqq4j+rqqqqqqriP6uqqqqqquI/q6qqqqqq4j+rqqqqqqriP6uqqqqqquI/q6qqqqqq4j+rqqqqqqriP6uqqqqqquI/q6qqqqqq4j+rqqqqqqriP6uqqqqqquI/q6qqqqqq4j+rqqqqqqriP6uqqqqqquI/q6qqqqqq4j+rqqqqqqriP6uqqqqqquI/q6qqqqqq4j+rqqqqqqriP6uqqqqqquI/q6qqqqqq4j+rqqqqqqriP6uqqqqqquI/q6qqqqqq4j+rqqqqqqriP6uqqqqqquI/q6qqqqqq4j+rqqqqqqriP6uqqqqqquI/q6qqqqqq4j+rqqqqqqriP6uqqqqqquI/q6qqqqqq4j+rqqqqqqriP6uqqqqqquI/q6qqqqqq4j+rqqqqqqriP6uqqqqqquI/q6qqqqqq4j+rqqqqqqriP6uqqqqqquI/q6qqqqqq4j+rqqqqqqriP6uqqqqqquI/q6qqqqqq4j+rqqqqqqriP6uqqqqqquI/q6qqqqqq4j+rqqqqqqriP6uqqqqqquI/Q4q9z2DF4j/mi2wgOwzjP4mNG3EVU+M/LY/Kwe+Z4z/RkHkSyuDjP3SSKGOkJ+Q/F5TXs35u5D+7lYYEWbXkP16XNVUz/OQ/ApnkpQ1D5T/pfeNrzyzlP7OteWgy9uQ/fN0PZZW/5D9FDaZh+IjkPw89PF5bUuQ/2GzSWr4b5D+hnGhXIeXjP2vM/lOEruM/NPyUUOd34z/+KytNSkHjP8dbwUmtCuM/kYtXRhDU4j+rqqqqqqriP6uqqqqqquI/q6qqqqqq4j+rqqqqqqriP6uqqqqqquI/q6qqqqqq4j+rqqqqqqriP6uqqqqqquI/q6qqqqqq4j+rqqqqqqriP6uqqqqqquI/q6qqqqqq4j+rqqqqqqriP6uqqqqqquI/q6qqqqqq4j+rqqqqqqriP6uqqqqqquI/q6qqqqqq4j+rqqqqqqriP6uqqqqqquI/q6qqqqqq4j+rqqqqqqriP6uqqqqqquI/q6qqqqqq4j+rqqqqqqriP6uqqqqqquI/q6qqqqqq4j+rqqqqqqriP6uqqqqqquI/q6qqqqqq4j+rqqqqqqriP6uqqqqqquI/q6qqqqqq4j+rqqqqqqriP6uqqqqqquI/q6qqqqqq4j+rqqqqqqriP6uqqqqqquI/q6qqqqqq4j+rqqqqqqriP6uqqqqqquI/q6qqqqqq4j+rqqqqqqriP6uqqqqqquI/q6qqqqqq4j+rqqqqqqriP6uqqqqqquI/q6qqqqqq4j+rqqqqqqriP6uqqqqqquI/q6qqqqqq4j+rqqqqqqriP6uqqqqqquI/q6qqqqqq4j+rqqqqqqriP6uqqqqqquI/q6qqqqqq4j+rqqqqqqriP6uqqqqqquI/q6qqqqqq4j+rqqqqqqriP6uqqqqqquI/q6qqqqqq4j+rqqqqqqriP6uqqqqqquI/q6qqqqqq4j+rqqqqqqriP6uqqqqqquI/q6qqqqqq4j+rqqqqqqriP6uqqqqqquI/q6qqqqqq4j+rqqqqqqriP6uqqqqqquI/q6qqqqqq4j+rqqqqqqriP6uqqqqqquI/q6qqqqqq4j+rqqqqqqriP6uqqqqqquI/q6qqqqqq4j+rqqqqqqriP6uqqqqqquI/q6qqqqqq4j+rqqqqqqriP6uqqqqqquI/q6qqqqqq4j+rqqqqqqriP6uqqqqqquI/q6qqqqqq4j+rqqqqqqriP6uqqqqqquI/q6qqqqqq4j+rqqqqqqriP6uqqqqqquI/q6qqqqqq4j+rqqqqqqriP6uqqqqqquI/q6qqqqqq4j+rqqqqqqriP6uqqqqqquI/q6qqqqqq4j+rqqqqqqriP6uqqqqqquI/q6qqqqqq4j+rqqqqqqriP6uqqqqqquI/q6qqqqqq4j+rqqqqqqriP6uqqqqqquI/q6qqqqqq4j+rqqqqqqriP6uqqqqqquI/q6qqqqqq4j+rqqqqqqriP6uqqqqqquI/q6qqqqqq4j+rqqqqqqriP6uqqqqqquI/q6qqqqqq4j+rqqqqqqriP6uqqqqqquI/q6qqqqqq4j+rqqqqqqriP6uqqqqqquI/q6qqqqqq4j+rqqqqqqriP6uqqqqqquI/q6qqqqqq4j+rqqqqqqriP6uqqqqqquI/q6qqqqqq4j+rqqqqqqriP6uqqqqqquI/q6qqqqqq4j+rqqqqqqriP6uqqqqqquI/q6qqqqqq4j+rqqqqqqriP6uqqqqqquI/q6qqqqqq4j+rqqqqqqriP6uqqqqqquI/q6qqqqqq4j+rqqqqqqriP6uqqqqqquI/q6qqqqqq4j+rqqqqqqriP6uqqqqqquI/q6qqqqqq4j+rqqqqqqriP6uqqqqqquI/q6qqqqqq4j+rqqqqqqriP6uqqqqqquI/q6qqqqqq4j+rqqqqqqriP6uqqqqqquI/q6qqqqqq4j+rqqqqqqriP6uqqqqqquI/q6qqqqqq4j+rqqqqqqriP6uqqqqqquI/q6qqqqqq4j+rqqqqqqriP6uqqqqqquI/q6qqqqqq4j+rqqqqqqriP6uqqqqqquI/q6qqqqqq4j+rqqqqqqriP6uqqqqqquI/q6qqqqqq4j+rqqqqqqriP6uqqqqqquI/q6qqqqqq4j+rqqqqqqriP6uqqqqqquI/q6qqqqqq4j+rqqqqqqriP6uqqqqqquI/q6qqqqqq4j+rqqqqqqriP6uqqqqqquI/q6qqqqqq4j+rqqqqqqriP6uqqqqqquI/q6qqqqqq4j+rqqqqqqriP6uqqqqqquI/q6qqqqqq4j+rqqqqqqriP6uqqqqqquI/q6qqqqqq4j+rqqqqqqriP6uqqqqqquI/k+R/Nj7q4j/15e5BEYbjP1fnXU3kIeQ/uejMWLe95D9YtZHY21PlPyHlJ9U+HeU/6xS+0aHm5D+0RFTOBLDkP3106spneeQ/R6SAx8pC5D8Q1BbELQzkP9oDrcCQ1eM/ozNDvfOe4z9tY9m5VmjjP8dS/x2NdeM/IUIlgsOC4z97MUvm+Y/jP+6o6Uj4ueM/f2h5sMv94z8PKAkYn0HkP6DnmH9yheQ/Maco50XJ5D/BZrhOGQ3lP1MmSLbsUOU/nVv7FUUi5T9ni5ESqOvkPzC7Jw8LteQ/+eq9C25+5D/DGlQI0UfkP4xK6gQ0EeQ/VXqAAZfa4z8fqhb++aPjP+jZrPpcbeM/sQlD97824z97OdnzIgDjP0Rpb/CFyeI/q6qqqqqq4j+rqqqqqqriP6uqqqqqquI/q6qqqqqq4j+rqqqqqqriP6uqqqqqquI/q6qqqqqq4j+rqqqqqqriP6uqqqqqquI/q6qqqqqq4j+rqqqqqqriP6uqqqqqquI/q6qqqqqq4j+rqqqqqqriP6uqqqqqquI/q6qqqqqq4j+rqqqqqqriP6uqqqqqquI/q6qqqqqq4j+rqqqqqqriP6uqqqqqquI/q6qqqqqq4j+rqqqqqqriP6uqqqqqquI/q6qqqqqq4j+rqqqqqqriP6uqqqqqquI/q6qqqqqq4j+rqqqqqqriP6uqqqqqquI/q6qqqqqq4j+rqqqqqqriP6uqqqqqquI/q6qqqqqq4j+rqqqqqqriP6uqqqqqquI/q6qqqqqq4j+rqqqqqqriP6uqqqqqquI/q6qqqqqq4j+rqqqqqqriP6uqqqqqquI/q6qqqqqq4j+rqqqqqqriP6uqqqqqquI/q6qqqqqq4j+rqqqqqqriP6uqqqqqquI/q6qqqqqq4j+rqqqqqqriP6uqqqqqquI/q6qqqqqq4j+rqqqqqqriPw==\",\"dtype\":\"float64\",\"shape\":[1001]}}},\"id\":\"93b4d27a-5c1a-4c76-adea-7348ba370d0e\",\"type\":\"ColumnDataSource\"},{\"attributes\":{\"line_alpha\":{\"value\":0.1},\"line_color\":{\"value\":\"#1f77b4\"},\"line_width\":{\"value\":2},\"x\":{\"field\":\"x\"},\"y\":{\"field\":\"y\"}},\"id\":\"33762882-21b6-4f3e-b980-3fbfaf3ce583\",\"type\":\"Line\"},{\"attributes\":{\"data_source\":{\"id\":\"93b4d27a-5c1a-4c76-adea-7348ba370d0e\",\"type\":\"ColumnDataSource\"},\"glyph\":{\"id\":\"23cf66d6-0a70-43ae-b553-10ac9ac18f48\",\"type\":\"Line\"},\"hover_glyph\":null,\"nonselection_glyph\":{\"id\":\"33762882-21b6-4f3e-b980-3fbfaf3ce583\",\"type\":\"Line\"},\"selection_glyph\":null},\"id\":\"5f848c6b-9a32-4780-82d3-6a5818b6cbbc\",\"type\":\"GlyphRenderer\"},{\"attributes\":{\"callback\":null,\"column_names\":[\"x\",\"y\"],\"data\":{\"x\":[0,1000,2000,3000,4000,5000,6000,7000,8000,9000,10000,11000,12000,13000,14000,15000,16000,17000,18000,19000,20000,21000,22000,23000,24000,25000,26000,27000,28000,29000,30000,31000,32000,33000,34000,35000,36000,37000,38000,39000,40000,41000,42000,43000,44000,45000,46000,47000,48000,49000,50000,51000,52000,53000,54000,55000,56000,57000,58000,59000,60000,61000,62000,63000,64000,65000,66000,67000,68000,69000,70000,71000,72000,73000,74000,75000,76000,77000,78000,79000,80000,81000,82000,83000,84000,85000,86000,87000,88000,89000,90000,91000,92000,93000,94000,95000,96000,97000,98000,99000,100000,101000,102000,103000,104000,105000,106000,107000,108000,109000,110000,111000,112000,113000,114000,115000,116000,117000,118000,119000,120000,121000,122000,123000,124000,125000,126000,127000,128000,129000,130000,131000,132000,133000,134000,135000,136000,137000,138000,139000,140000,141000,142000,143000,144000,145000,146000,147000,148000,149000,150000,151000,152000,153000,154000,155000,156000,157000,158000,159000,160000,161000,162000,163000,164000,165000,166000,167000,168000,169000,170000,171000,172000,173000,174000,175000,176000,177000,178000,179000,180000,181000,182000,183000,184000,185000,186000,187000,188000,189000,190000,191000,192000,193000,194000,195000,196000,197000,198000,199000,200000,201000,202000,203000,204000,205000,206000,207000,208000,209000,210000,211000,212000,213000,214000,215000,216000,217000,218000,219000,220000,221000,222000,223000,224000,225000,226000,227000,228000,229000,230000,231000,232000,233000,234000,235000,236000,237000,238000,239000,240000,241000,242000,243000,244000,245000,246000,247000,248000,249000,250000,251000,252000,253000,254000,255000,256000,257000,258000,259000,260000,261000,262000,263000,264000,265000,266000,267000,268000,269000,270000,271000,272000,273000,274000,275000,276000,277000,278000,279000,280000,281000,282000,283000,284000,285000,286000,287000,288000,289000,290000,291000,292000,293000,294000,295000,296000,297000,298000,299000,300000,301000,302000,303000,304000,305000,306000,307000,308000,309000,310000,311000,312000,313000,314000,315000,316000,317000,318000,319000,320000,321000,322000,323000,324000,325000,326000,327000,328000,329000,330000,331000,332000,333000,334000,335000,336000,337000,338000,339000,340000,341000,342000,343000,344000,345000,346000,347000,348000,349000,350000,351000,352000,353000,354000,355000,356000,357000,358000,359000,360000,361000,362000,363000,364000,365000,366000,367000,368000,369000,370000,371000,372000,373000,374000,375000,376000,377000,378000,379000,380000,381000,382000,383000,384000,385000,386000,387000,388000,389000,390000,391000,392000,393000,394000,395000,396000,397000,398000,399000,400000,401000,402000,403000,404000,405000,406000,407000,408000,409000,410000,411000,412000,413000,414000,415000,416000,417000,418000,419000,420000,421000,422000,423000,424000,425000,426000,427000,428000,429000,430000,431000,432000,433000,434000,435000,436000,437000,438000,439000,440000,441000,442000,443000,444000,445000,446000,447000,448000,449000,450000,451000,452000,453000,454000,455000,456000,457000,458000,459000,460000,461000,462000,463000,464000,465000,466000,467000,468000,469000,470000,471000,472000,473000,474000,475000,476000,477000,478000,479000,480000,481000,482000,483000,484000,485000,486000,487000,488000,489000,490000,491000,492000,493000,494000,495000,496000,497000,498000,499000,500000,501000,502000,503000,504000,505000,506000,507000,508000,509000,510000,511000,512000,513000,514000,515000,516000,517000,518000,519000,520000,521000,522000,523000,524000,525000,526000,527000,528000,529000,530000,531000,532000,533000,534000,535000,536000,537000,538000,539000,540000,541000,542000,543000,544000,545000,546000,547000,548000,549000,550000,551000,552000,553000,554000,555000,556000,557000,558000,559000,560000,561000,562000,563000,564000,565000,566000,567000,568000,569000,570000,571000,572000,573000,574000,575000,576000,577000,578000,579000,580000,581000,582000,583000,584000,585000,586000,587000,588000,589000,590000,591000,592000,593000,594000,595000,596000,597000,598000,599000,600000,601000,602000,603000,604000,605000,606000,607000,608000,609000,610000,611000,612000,613000,614000,615000,616000,617000,618000,619000,620000,621000,622000,623000,624000,625000,626000,627000,628000,629000,630000,631000,632000,633000,634000,635000,636000,637000,638000,639000,640000,641000,642000,643000,644000,645000,646000,647000,648000,649000,650000,651000,652000,653000,654000,655000,656000,657000,658000,659000,660000,661000,662000,663000,664000,665000,666000,667000,668000,669000,670000,671000,672000,673000,674000,675000,676000,677000,678000,679000,680000,681000,682000,683000,684000,685000,686000,687000,688000,689000,690000,691000,692000,693000,694000,695000,696000,697000,698000,699000,700000,701000,702000,703000,704000,705000,706000,707000,708000,709000,710000,711000,712000,713000,714000,715000,716000,717000,718000,719000,720000,721000,722000,723000,724000,725000,726000,727000,728000,729000,730000,731000,732000,733000,734000,735000,736000,737000,738000,739000,740000,741000,742000,743000,744000,745000,746000,747000,748000,749000,750000,751000,752000,753000,754000,755000,756000,757000,758000,759000,760000,761000,762000,763000,764000,765000,766000,767000,768000,769000,770000,771000,772000,773000,774000,775000,776000,777000,778000,779000,780000,781000,782000,783000,784000,785000,786000,787000,788000,789000,790000,791000,792000,793000,794000,795000,796000,797000,798000,799000,800000,801000,802000,803000,804000,805000,806000,807000,808000,809000,810000,811000,812000,813000,814000,815000,816000,817000,818000,819000,820000,821000,822000,823000,824000,825000,826000,827000,828000,829000,830000,831000,832000,833000,834000,835000,836000,837000,838000,839000,840000,841000,842000,843000,844000,845000,846000,847000,848000,849000,850000,851000,852000,853000,854000,855000,856000,857000,858000,859000,860000,861000,862000,863000,864000,865000,866000,867000,868000,869000,870000,871000,872000,873000,874000,875000,876000,877000,878000,879000,880000,881000,882000,883000,884000,885000,886000,887000,888000,889000,890000,891000,892000,893000,894000,895000,896000,897000,898000,899000,900000,901000,902000,903000,904000,905000,906000,907000,908000,909000,910000,911000,912000,913000,914000,915000,916000,917000,918000,919000,920000,921000,922000,923000,924000,925000,926000,927000,928000,929000,930000,931000,932000,933000,934000,935000,936000,937000,938000,939000,940000,941000,942000,943000,944000,945000,946000,947000,948000,949000,950000,951000,952000,953000,954000,955000,956000,957000,958000,959000,960000,961000,962000,963000,964000,965000,966000,967000,968000,969000,970000,971000,972000,973000,974000,975000,976000,977000,978000,979000,980000,981000,982000,983000,984000,985000,986000,987000,988000,989000,990000,991000,992000,993000,994000,995000,996000,997000,998000,999000,1000000],\"y\":{\"__ndarray__\":\"AAAAAAAAAAAAAAAAAAAAAAAAAAAAAAAAAAAAAAAAAAAAAAAAAAAAAAAAAAAAAAAAAAAAAAAAAAAAAAAAAAAAAAAAAAAAAAAAAAAAAAAAAAAAAAAAAAAAAAAAAAAAAAAAAAAAAAAAAAAAAAAAAAAAAAAAAAAAAAAAAAAAAAAAAAAAAAAAAAAAAAAAAAAAAAAAAAAAAAAAAAAAAAAAAAAAAAAAAAAAAAAAAAAAAAAAAAAAAAAAAAAAAAAAAAAAAAAAAAAAAAAAAAAAAAAAAAAAAAAAAAAAAAAAAAAAAAAAAAAAAAAAAAAAAAAAAAAAAAAAAAAAAAAAAAAAAAAAAAAAAAAAAAAAAAAAAAAAAAAAAAAAAAAAAAAAAAAAAAAAAAAAAAAAAAAAAAAAAAAAAAAAAAAAAAAAAAAAAAAAAAAAAAAAAAAAAAAAAAAAAAAAAAAAAAAAAAAAAAAAAAAAAAAAAAAAAAAAAAAAAAAAAAAAAAAAAAAAAAAAAAAAAAAAAAAAAAAAAAAAAAAAAAAAAAAAAAAAAAAAAAAAAAAAAAAAAAAAAAAAAAAAAAAAAAAAAAAAAAAAAAAAAAAAAAAAAAAAAAAAAAAAAAAAAAAAAAAAAAAAAAAAAAAAAAAAAAAAAAAAAAAAAAAAAAAAAAAAAAAAAAAAAAAAAAAAAAAAAAAAAAAAAAAAAAAAAAAAAAAAAAAAAAAAAAAAAAAAAAAAAAAAAAAAAAAAAAAAAAAAAAAAAAAAAAAAAAAAAAAAAAAAAAAAAAAAAAAAAAAAAAAAAAAAAAAAAAAAAAAAAAAAAAAAAAAAAAAAAAAAAAAAAAAAAAAAAAAAAAAAAAAAAAAAAAAAAAAAAAAAAAAAAAAAAAAAAAAAAAAAAAAAAAAAAAAAAAAAAAAAAAAAAAAAAAAAAAAAAAAAAAAAAAAAAAAAAAAAAAAAAAAAAAAAAAAAAAAAAAAAAAAAAAAAAAAAAAAAAAAAAAAAAAAAAAAAAAAAAAAAAAAAAAAAAAAAAAAAAAAAAAAAAAAAAAAAAAAAAAAAAAAAAAAAAAAAAAAAAAAAAAAAAAAAAAAAAAAAAAAAAAAAAAAAAAAAAAAAAAAAAAAAAAAAAAAAAAAAAAAAAAAAAAAAAAAAAAAAAAAAAAAAAAAAAAAAAAAAAAAAAAAAAAAAAAAAAAAAAAAAAAAAAAAAAAAAAAAAAAAAAAAAAAAAAAAAAAAAAAAAAAAAAAAAAAAAAAAAAAAAAAAAAAAAAAAAAAAAAAAAAAAAAAAAAAAAAAAAAAAAAAAAAAAAAAAAAAAAAAAAAAAAAAAAAAAAAAAAAAAAAAAAAAAAAAAAAAAAAAAAAAAAAAAAAAAAAAAAAAAAAAAAAAAAAAAAAAAAAAAAAAAAAAAAAAAAAAAAAAAAAAAAAAAAAAAAAAAAAAAAAAAAAAAAAAAAAAAAAAAAAAAAAAAAAAAAAAAAAAAAAAAAAAAAAAAAAAAAAAAAAAAAAAAAAAAAAAAAAAAAAAAAAAAAAAAAAAAAAAAAAAAAAAAAAAAAAAAAAAAAAAAAAAAAAAAAAAAAAAAAAAAAAAAAAAAAAAAAAAAAAAAAAAAAAAAAAAAAAAAAAAAAAAAAAABFfWO+0vaQP0V9Y77S9qA/5zuVHTxyqT9FfWO+0vawP5Zc/G2HNLU/5zuVHTxyuT84Gy7N8K+9P0V9Y77S9sA/7ewvFq0Vwz+uzD0Zcl7EPx/H/MkFVMU/RYZVvJF5xD/APrwn9w3EP5HwMAw2EcQ/Y6Kl8HQUxD8zVBrVsxfEPwQGj7nyGsQ/1bcDnjEexD+naXiCcCHEP3gb7WavJMQ/Sc1hS+4nxD8af9YvLSvEP+swSxRsLsQ/YBHsijSgxD/VY0g7Wy3FP/hlYaBCL8U/G2h6BSoxxT89apNqETPFP2BsrM/4NMU/g27FNOA2xT+lcN6ZxzjFP8dy9/6uOsU/6nQQZJY8xT8NdynJfT7FPzB5Qi5lQMU/s7aKl9ZDxT+ZC7lgQ0bGP/yVoU4Y08Y/56cPpSn5xj/QuX37Oh/HP7vL61FMRcc/pN1ZqF1rxz+P78f+bpHHP3kBNlWAt8c/ZBOkq5Hdxz9NJRICowPIP+cAwRw9fsc/MX9yAVXJxT99/SPmbBTEP597D5ccd8I/wzpoiaicwT/p+cB7NMLAPx1yM9yAz78/aPDkwJgavj+0bpalsGW8P//sR4rIsLo/SWv5buD7uD+V6apT+Ea3P+BnXDgQkrU/VVVVVVVVtT9VVVVVVVW1P1VVVVVVVbU/hcfApmxDtj/lq5dJmx+4P0WQbuzJ+7k/pXRFj/jXuz8EWRwyJ7S9P2Q989RVkL8/4hDlO0K2wD8Rg1CNWaTBP0H1u95wksI/sPxe49/0wz8Yxs6HPiXGP5QPTAl2R8g/8SWpTkmvyD9NPAaUHBfJP6tSY9nvfsk/CGnAHsPmyT9lfx1klk7KP8OVeqlptso/l7Aj+w0Ayj+9b3ztmSXJP+Mu1d8lS8g/CO4t0rFwxz8trYbEPZbGP1Rs37bJu8U/ITmBCi3dxT9tJUTkiUjIP2UWVPft1Ms/XwdkClJhzz8s/LkO23bRP6j0QRgNPdM/Je3JIT8D1T+g5VErccnWPxze2TSjj9g/UVYwenre2T/c7ia4U1TaP0sxLdfIm9k/cPCFyVTB2D+Vr9674ObXP7tuN65sDNc/4C2QoPgx1j8F7eiShFfVPyusQYUQfdQ/UWuad5yi0z93KvNpKMjSP5zpS1y07dE/waikTkAT0T+WGUmVO0bQP1FoUwunK9A/x81tsO2l0D88M4hVNCDRP4qQUWU1JdI/sS5mpoWI0z/ZzHrn1evUP/9qjygmT9Y/JwmkaXay1z9Np7iqxhXZP3RFzesWedo/nOPhLGfc2z+8EtafXCjdP/0wZIfed94/8IWIRrEC4D+whKHdLK/gPxPmVcTzKeE/LDcv+TB84T9FiAgubs7hP1/Z4WKrIOI/dyq7l+hy4j+rqqqqqqriP6uqqqqqquI/q6qqqqqq4j+rqqqqqqriP6uqqqqqquI/q6qqqqqq4j+rqqqqqqriP6uqqqqqquI/qxAdgP/O4j+r3AErqRfjP6uo5tVSYOM/q3TLgPyo4z+rQLArpvHjP6wMldZPOuQ/rNh5gfmC5D+spF4so8vkP6xwQ9dMFOU/J+exU5lP5T/wFkhQ/BjlP7lG3kxf4uQ/g3Z0ScKr5D9MpgpGJXXkPxXWoEKIPuQ/3wU3P+sH5D+pNc07TtHjP3JlYzixmuM/O5X5NBRk4z8FxY8xdy3jP870JS7a9uI/lyS8Kj3A4j+rqqqqqqriP6uqqqqqquI/q6qqqqqq4j9l/c9a6uDiP9uiGrtpTeM/UEhlG+m54z/G7a97aCbkPzuT+tvnkuQ/sThFPGf/5D9VVVVVVVXlP1VVVVVVVeU/VVVVVVVV5T9VVVVVVVXlP1VVVVVVVeU/VVVVVVVV5T9VVVVVVVXlP1VVVVVVVeU/U1QQFig85T8chKYSiwXlP+WzPA/uzuQ/PUzoG75y5D/RqxQVhAXkP2MLQQ5KmOM/9mptBxAr4z+JypkA1r3iPxwqxvmbUOI/r4ny8mHj4T9B6R7sJ3bhP9RIS+XtCOE/Z6h33rOb4D94lMJAmRbhP7WBcDPqmuE/4c/hZ/Y04j/QF4xFHPPiP13T3wwXMOM/6o4z1BFt4z93SoebDKrjP/8lkICj8eM/FU98DaqT5D8qeGiasDXlP0ChVCe31+U/VcpAtL155j9r8yxBxBvnP4AcGc7Kvec/AAAAAAAA6D8AAAAAAADoPwAAAAAAAOg/AAAAAAAA6D8AAAAAAADoPwAAAAAAAOg/AAAAAAAA6D8AAAAAAADoPwAAAAAAAOg/AAAAAAAA6D9Tk/PYqcznPxvDidUMluc/5PIf0m9f5z+tIrbO0ijnP3dSTMs18uY/QILix5i75j8LsnjE+4TmP9PhDsFeTuY/CC0RlTMB5j+bjD2O+ZPlPy3saYe/JuU/wEuWgIW55D/lLxofU2TkP69fsBu2LeQ/eI9GGBn34z9Bv9wUfMDjPwvvchHfieM/1B4JDkJT4z+eTp8KpRzjP2d+NQcI5uI/Ma7LA2uv4j/d3eJBmgXjP2ebhyo0aeM/8VgsE87M4z98FtH7ZzDkP5wtSS7R+eQ/WVX6/bnJ5T9Qg0FtwpPmP4HtTVQRAOc/tFdaO2Bs5z/lwWYir9jnPwAAAAAAAOg/AAAAAAAA6D8AAAAAAADoPwAAAAAAAOg/AAAAAAAA6D8AAAAAAADoPwAAAAAAAOg/AAAAAAAA6D8AAAAAAADoPwAAAAAAAOg/AAAAAAAA6D8AAAAAAADoPwAAAAAAAOg/AAAAAAAA6D8AAAAAAADoPwAAAAAAAOg/AAAAAAAA6D8AAAAAAADoPwAAAAAAAOg/AAAAAAAA6D8AAAAAAADoPwAAAAAAAOg/AAAAAAAA6D8AAAAAAADoPwAAAAAAAOg/AAAAAAAA6D8AAAAAAADoPwAAAAAAAOg/AAAAAAAA6D8AAAAAAADoPwAAAAAAAOg/AAAAAAAA6D8AAAAAAADoPwAAAAAAAOg/AAAAAAAA6D8AAAAAAADoPwAAAAAAAOg/AAAAAAAA6D8AAAAAAADoPwAAAAAAAOg/AAAAAAAA6D8AAAAAAADoPwAAAAAAAOg/AAAAAAAA6D8AAAAAAADoPwAAAAAAAOg/AAAAAAAA6D8AAAAAAADoPwAAAAAAAOg/AAAAAAAA6D8AAAAAAADoPwAAAAAAAOg/AAAAAAAA6D8AAAAAAADoPwAAAAAAAOg/AAAAAAAA6D8AAAAAAADoPwAAAAAAAOg/AAAAAAAA6D8AAAAAAADoPwAAAAAAAOg/AAAAAAAA6D8AAAAAAADoPwAAAAAAAOg/AAAAAAAA6D8AAAAAAADoPwAAAAAAAOg/AAAAAAAA6D9F75JeiyLoP9HNuBuiZ+g/XKze2Lis6D/nigSWz/HoP3NpKlPmNuk//UdQEP176T+JJnbNE8HpPxQFnIoqBuo/n+PBR0FL6j8rwucEWJDqP6uqqqqqquo/q6qqqqqq6j+rqqqqqqrqP6uqqqqqquo/q6qqqqqq6j+rqqqqqqrqP6uqqqqqquo/q6qqqqqq6j+rqqqqqqrqP6uqqqqqquo/o+nsZHCU6j9sGYNh013qPzVJGV42J+o//3ivWpnw6T/IqEVX/LnpP5HY21Nfg+k/WwhyUMJM6T8kOAhNJRbpP+1nnkmI3+g/t5c0Ruuo6D+Ax8pCTnLoP0v3YD+xO+g/FCf3OxQF6D8AAAAAAADoPwAAAAAAAOg/AAAAAAAA6D8AAAAAAADoPwAAAAAAAOg/AAAAAAAA6D8AAAAAAADoPwAAAAAAAOg/AAAAAAAA6D8AAAAAAADoPwAAAAAAAOg/AAAAAAAA6D9pte7LORjoP/WRSaC/U+g/gW6kdEWP6D8NS/9Iy8roP5knWh1RBuk/JQS18dZB6T+x4A/GXH3pPz29apriuOk/yZnFbmj06T9VdiBD7i/qP+FSexd0a+o/bS/W6/mm6j+rqqqqqqrqP6uqqqqqquo/q6qqqqqq6j+rqqqqqqrqP6uqqqqqquo/q6qqqqqq6j+rqqqqqqrqP6uqqqqqquo/q6qqqqqq6j+rqqqqqqrqP6uqqqqqquo/q6qqqqqq6j+rqqqqqqrqP6uqqqqqquo/eyEKU4GA6j9EUaBP5EnqPw2BNkxHE+o/17DMSKrc6T+g4GJFDabpP2kQ+UFwb+k/M0CPPtM46T/8byU7NgLpP8WfuzeZy+g/j89RNPyU6D9Y/+cwX17oPyEvfi3CJ+g/wDmBMdkx6D9t6HJYHenoPxuXZH9hoOk/x0VWpqVX6j+rqqqqqqrqP6uqqqqqquo/q6qqqqqq6j+rqqqqqqrqP6uqqqqqquo/q6qqqqqq6j+rqqqqqqrqP6uqqqqqquo/q6qqqqqq6j+rqqqqqqrqP6uqqqqqquo/q6qqqqqq6j+rqqqqqqrqP6uqqqqqquo/q6qqqqqq6j+rqqqqqqrqP6uqqqqqquo/q6qqqqqq6j+rqqqqqqrqP6uqqqqqquo/q6qqqqqq6j+oCF2v1nbqP3E486s5QOo/O2iJqJwJ6j8EmB+l/9LpP83HtaFinOk//bBN2Aul6T8tmuUOta3pP1+DfUVetuk/j2wVfAe/6T+/Va2ysMfpP+8+RelZ0Ok/HyjdHwPZ6T+jYXqJOYzqP+F0irq7EOw/r+i77mgj7T9gyOpWz0ntPyn4gFMyE+0/sDWTA5/47D/0gCFnFfrsPzjMr8qL++w/exc+LgL97D+/YsyReP7sPwGuWvXu/+w/RfnoWGUB7T+IRHe82wLtP82PBSBSBO0/ENuTg8gF7T9UJiLnPgftP6jmz8qJL+0/RXTihYdD7T8PpHiC6gztP9jTDn9N1uw/oQOle7Cf7D9rMzt4E2nsPzVj0XR2Muw//ZJncdn76z/Iwv1tPMXrP5Dyk2qfjus/WyIqZwJY6z8jUsBjZSHrP9XJ+VS/9uo/tZ8ostb46j/APn9gCijrP9fkF8G+YOs/7YqwIXOZ6z8EMUmCJ9LrPxnX4eLbCuw/MH16Q5BD7D9HIxOkRHzsP13JqwT5tOw/dG9EZa3t7D+LFd3FYSbtP1VVVVVVVe0/VVVVVVVV7T9VVVVVVVXtP1VVVVVVVe0/VVVVVVVV7T9VVVVVVVXtP1VVVVVVVe0/VVVVVVVV7T9VVVVVVVXtP1VVVVVVVe0/VVVVVVVV7T9VVVVVVVXtP1VVVVVVVe0/VVVVVVVV7T9VVVVVVVXtP1VVVVVVVe0/VVVVVVVV7T9VVVVVVVXtP1VVVVVVVe0/VVVVVVVV7T9VVVVVVVXtP1VVVVVVVe0/VVVVVVVV7T9VVVVVVVXtP1VVVVVVVe0/VVVVVVVV7T9VVVVVVVXtP1VVVVVVVe0/VVVVVVVV7T9VVVVVVVXtP1VVVVVVVe0/VVVVVVVV7T9VVVVVVVXtP1VVVVVVVe0/VVVVVVVV7T9VVVVVVVXtP1VVVVVVVe0/VVVVVVVV7T9VVVVVVVXtP1VVVVVVVe0/VVVVVVVV7T9VVVVVVVXtP1VVVVVVVe0/VVVVVVVV7T9VVVVVVVXtP1VVVVVVVe0/VVVVVVVV7T9VVVVVVVXtP1VVVVVVVe0/VVVVVVVV7T9VVVVVVVXtP1VVVVVVVe0/VVVVVVVV7T9VVVVVVVXtP1VVVVVVVe0/VVVVVVVV7T9VVVVVVVXtP1VVVVVVVe0/VVVVVVVV7T9VVVVVVVXtP1VVVVVVVe0/VVVVVVVV7T9VVVVVVVXtP1VVVVVVVe0/VVVVVVVV7T+TdUCPCJjtP9FkDr/I6O0/EFTc7og57j9PQ6oeSYruP40yeE4J2+4/yyFGfskr7z8LERSuiXzvP0gA4t1Jze8/AAAAAAAA8D8AAAAAAADwPwAAAAAAAPA/AAAAAAAA8D8AAAAAAADwPwAAAAAAAPA/AAAAAAAA8D8AAAAAAADwPwAAAAAAAPA/AAAAAAAA8D8AAAAAAADwPwAAAAAAAPA/LWACt+7m7z/1j5izUbDvP8C/LrC0ee8/iO/ErBdD7z9TH1upegzvPxtP8aXd1e4/5X6HokCf7j+trh2fo2juP3jes5sGMu4/QQ5KmGn77T8LPuCUzMTtP9RtdpEvju0/nZ0MjpJX7T+MlKJSbJXtP2nlEsJA2O0/RTaDMRUb7j8jh/Og6V3uPwDYYxC+oO4/3SjUf5Lj7j+7eUTvZibvP5jKtF47ae8/dRslzg+s7z9TbJU95O7vPwAAAAAAAPA/AAAAAAAA8D8AAAAAAADwPwAAAAAAAPA/AAAAAAAA8D8AAAAAAADwPwAAAAAAAPA/AAAAAAAA8D8AAAAAAADwPwAAAAAAAPA/AAAAAAAA8D8AAAAAAADwPwAAAAAAAPA/AAAAAAAA8D8AAAAAAADwPwAAAAAAAPA/AAAAAAAA8D8AAAAAAADwPwAAAAAAAPA/AAAAAAAA8D8AAAAAAADwPwAAAAAAAPA/AAAAAAAA8D8AAAAAAADwPwAAAAAAAPA/AAAAAAAA8D8AAAAAAADwPwAAAAAAAPA/AAAAAAAA8D8AAAAAAADwPwAAAAAAAPA/AAAAAAAA8D8AAAAAAADwPwAAAAAAAPA/AAAAAAAA8D8AAAAAAADwPwAAAAAAAPA/AAAAAAAA8D8AAAAAAADwPwAAAAAAAPA/AAAAAAAA8D8AAAAAAADwPwAAAAAAAPA/AAAAAAAA8D8AAAAAAADwPwAAAAAAAPA/AAAAAAAA8D8AAAAAAADwPwAAAAAAAPA/AAAAAAAA8D8AAAAAAADwPwAAAAAAAPA/AAAAAAAA8D8AAAAAAADwPwAAAAAAAPA/AAAAAAAA8D8AAAAAAADwPwAAAAAAAPA/AAAAAAAA8D8AAAAAAADwPwAAAAAAAPA/AAAAAAAA8D9jWq6RN9PvPyyKRI6anO8/9bnaiv1l7z+/6XCHYC/vP4gZB4TD+O4/UUmdgCbC7j8beTN9iYvuP+SoyXnsVO4/rdhfdk8e7j93CPZysuftP0A4jG8Vse0/C2gibHh67T+EaNOUIoLtP3RkPfsjDu4/ZWCnYSWa7j9VXBHIJibvP0VYey4osu8/AAAAAAAA8D8AAAAAAADwPwAAAAAAAPA/AAAAAAAA8D8AAAAAAADwPwAAAAAAAPA/AAAAAAAA8D8AAAAAAADwPwAAAAAAAPA/AAAAAAAA8D8AAAAAAADwPwAAAAAAAPA/AAAAAAAA8D8AAAAAAADwPwAAAAAAAPA/AAAAAAAA8D8AAAAAAADwPwAAAAAAAPA/AAAAAAAA8D8AAAAAAADwPwAAAAAAAPA/AAAAAAAA8D8AAAAAAADwPwAAAAAAAPA/AAAAAAAA8D8AAAAAAADwPwAAAAAAAPA/AAAAAAAA8D8AAAAAAADwPwAAAAAAAPA/AAAAAAAA8D8AAAAAAADwPwAAAAAAAPA/AAAAAAAA8D8AAAAAAADwPwAAAAAAAPA/AAAAAAAA8D8AAAAAAADwPwAAAAAAAPA/AAAAAAAA8D8AAAAAAADwPwAAAAAAAPA/AAAAAAAA8D8AAAAAAADwPwAAAAAAAPA/AAAAAAAA8D8AAAAAAADwPwAAAAAAAPA/AAAAAAAA8D8AAAAAAADwPwAAAAAAAPA/AAAAAAAA8D8AAAAAAADwPwAAAAAAAPA/AAAAAAAA8D8AAAAAAADwPwAAAAAAAPA/AAAAAAAA8D8AAAAAAADwPwAAAAAAAPA/AAAAAAAA8D8AAAAAAADwPwAAAAAAAPA/AAAAAAAA8D8AAAAAAADwPwAAAAAAAPA/AAAAAAAA8D8AAAAAAADwPwAAAAAAAPA/AAAAAAAA8D8AAAAAAADwPwAAAAAAAPA/AAAAAAAA8D8AAAAAAADwPwAAAAAAAPA/AAAAAAAA8D8AAAAAAADwPwAAAAAAAPA/AAAAAAAA8D8AAAAAAADwPwAAAAAAAPA/AAAAAAAA8D8AAAAAAADwPwAAAAAAAPA/AAAAAAAA8D8AAAAAAADwPwAAAAAAAPA/AAAAAAAA8D8AAAAAAADwPwAAAAAAAPA/AAAAAAAA8D8AAAAAAADwPwAAAAAAAPA/AAAAAAAA8D8AAAAAAADwPwAAAAAAAPA/AAAAAAAA8D8AAAAAAADwPwAAAAAAAPA/AAAAAAAA8D8AAAAAAADwPwAAAAAAAPA/AAAAAAAA8D8AAAAAAADwPwAAAAAAAPA/AAAAAAAA8D8AAAAAAADwPwAAAAAAAPA/AAAAAAAA8D8AAAAAAADwPwAAAAAAAPA/AAAAAAAA8D8AAAAAAADwPwAAAAAAAPA/AAAAAAAA8D8AAAAAAADwPwAAAAAAAPA/AAAAAAAA8D8AAAAAAADwPwAAAAAAAPA/AAAAAAAA8D8AAAAAAADwPwAAAAAAAPA/AAAAAAAA8D8AAAAAAADwPwAAAAAAAPA/AAAAAAAA8D8AAAAAAADwPwAAAAAAAPA/AAAAAAAA8D8AAAAAAADwPwAAAAAAAPA/AAAAAAAA8D8AAAAAAADwPwAAAAAAAPA/AAAAAAAA8D8AAAAAAADwPwAAAAAAAPA/AAAAAAAA8D8AAAAAAADwPwAAAAAAAPA/AAAAAAAA8D8AAAAAAADwPwAAAAAAAPA/AAAAAAAA8D8AAAAAAADwPwAAAAAAAPA/AAAAAAAA8D8AAAAAAADwPwAAAAAAAPA/AAAAAAAA8D8AAAAAAADwPwAAAAAAAPA/AAAAAAAA8D8AAAAAAADwPwAAAAAAAPA/AAAAAAAA8D8AAAAAAADwPwAAAAAAAPA/AAAAAAAA8D8AAAAAAADwPwAAAAAAAPA/AAAAAAAA8D8AAAAAAADwPwAAAAAAAPA/AAAAAAAA8D8AAAAAAADwPwAAAAAAAPA/AAAAAAAA8D8AAAAAAADwPwAAAAAAAPA/AAAAAAAA8D8AAAAAAADwPwAAAAAAAPA/AAAAAAAA8D8AAAAAAADwPwAAAAAAAPA/AAAAAAAA8D8AAAAAAADwPwAAAAAAAPA/AAAAAAAA8D8AAAAAAADwPwAAAAAAAPA/AAAAAAAA8D8AAAAAAADwPwAAAAAAAPA/AAAAAAAA8D8AAAAAAADwPwAAAAAAAPA/AAAAAAAA8D8AAAAAAADwPw==\",\"dtype\":\"float64\",\"shape\":[1001]}}},\"id\":\"b37cf7d3-0cb6-48ea-8810-308740e394ce\",\"type\":\"ColumnDataSource\"},{\"attributes\":{\"line_alpha\":{\"value\":0.1},\"line_color\":{\"value\":\"#1f77b4\"},\"line_width\":{\"value\":2},\"x\":{\"field\":\"x\"},\"y\":{\"field\":\"y\"}},\"id\":\"ededa952-4468-483d-8c13-4b0c0a885e4f\",\"type\":\"Line\"},{\"attributes\":{\"line_color\":{\"value\":\"#984ea3\"},\"line_width\":{\"value\":2},\"x\":{\"field\":\"x\"},\"y\":{\"field\":\"y\"}},\"id\":\"034b9cc5-c5d8-4ccb-a9dd-056a99b6a468\",\"type\":\"Line\"},{\"attributes\":{\"callback\":null,\"column_names\":[\"x\",\"y\"],\"data\":{\"x\":[0,1000,2000,3000,4000,5000,6000,7000,8000,9000,10000,11000,12000,13000,14000,15000,16000,17000,18000,19000,20000,21000,22000,23000,24000,25000,26000,27000,28000,29000,30000,31000,32000,33000,34000,35000,36000,37000,38000,39000,40000,41000,42000,43000,44000,45000,46000,47000,48000,49000,50000,51000,52000,53000,54000,55000,56000,57000,58000,59000,60000,61000,62000,63000,64000,65000,66000,67000,68000,69000,70000,71000,72000,73000,74000,75000,76000,77000,78000,79000,80000,81000,82000,83000,84000,85000,86000,87000,88000,89000,90000,91000,92000,93000,94000,95000,96000,97000,98000,99000,100000,101000,102000,103000,104000,105000,106000,107000,108000,109000,110000,111000,112000,113000,114000,115000,116000,117000,118000,119000,120000,121000,122000,123000,124000,125000,126000,127000,128000,129000,130000,131000,132000,133000,134000,135000,136000,137000,138000,139000,140000,141000,142000,143000,144000,145000,146000,147000,148000,149000,150000,151000,152000,153000,154000,155000,156000,157000,158000,159000,160000,161000,162000,163000,164000,165000,166000,167000,168000,169000,170000,171000,172000,173000,174000,175000,176000,177000,178000,179000,180000,181000,182000,183000,184000,185000,186000,187000,188000,189000,190000,191000,192000,193000,194000,195000,196000,197000,198000,199000,200000,201000,202000,203000,204000,205000,206000,207000,208000,209000,210000,211000,212000,213000,214000,215000,216000,217000,218000,219000,220000,221000,222000,223000,224000,225000,226000,227000,228000,229000,230000,231000,232000,233000,234000,235000,236000,237000,238000,239000,240000,241000,242000,243000,244000,245000,246000,247000,248000,249000,250000,251000,252000,253000,254000,255000,256000,257000,258000,259000,260000,261000,262000,263000,264000,265000,266000,267000,268000,269000,270000,271000,272000,273000,274000,275000,276000,277000,278000,279000,280000,281000,282000,283000,284000,285000,286000,287000,288000,289000,290000,291000,292000,293000,294000,295000,296000,297000,298000,299000,300000,301000,302000,303000,304000,305000,306000,307000,308000,309000,310000,311000,312000,313000,314000,315000,316000,317000,318000,319000,320000,321000,322000,323000,324000,325000,326000,327000,328000,329000,330000,331000,332000,333000,334000,335000,336000,337000,338000,339000,340000,341000,342000,343000,344000,345000,346000,347000,348000,349000,350000,351000,352000,353000,354000,355000,356000,357000,358000,359000,360000,361000,362000,363000,364000,365000,366000,367000,368000,369000,370000,371000,372000,373000,374000,375000,376000,377000,378000,379000,380000,381000,382000,383000,384000,385000,386000,387000,388000,389000,390000,391000,392000,393000,394000,395000,396000,397000,398000,399000,400000,401000,402000,403000,404000,405000,406000,407000,408000,409000,410000,411000,412000,413000,414000,415000,416000,417000,418000,419000,420000,421000,422000,423000,424000,425000,426000,427000,428000,429000,430000,431000,432000,433000,434000,435000,436000,437000,438000,439000,440000,441000,442000,443000,444000,445000,446000,447000,448000,449000,450000,451000,452000,453000,454000,455000,456000,457000,458000,459000,460000,461000,462000,463000,464000,465000,466000,467000,468000,469000,470000,471000,472000,473000,474000,475000,476000,477000,478000,479000,480000,481000,482000,483000,484000,485000,486000,487000,488000,489000,490000,491000,492000,493000,494000,495000,496000,497000,498000,499000,500000,501000,502000,503000,504000,505000,506000,507000,508000,509000,510000,511000,512000,513000,514000,515000,516000,517000,518000,519000,520000,521000,522000,523000,524000,525000,526000,527000,528000,529000,530000,531000,532000,533000,534000,535000,536000,537000,538000,539000,540000,541000,542000,543000,544000,545000,546000,547000,548000,549000,550000,551000,552000,553000,554000,555000,556000,557000,558000,559000,560000,561000,562000,563000,564000,565000,566000,567000,568000,569000,570000,571000,572000,573000,574000,575000,576000,577000,578000,579000,580000,581000,582000,583000,584000,585000,586000,587000,588000,589000,590000,591000,592000,593000,594000,595000,596000,597000,598000,599000,600000,601000,602000,603000,604000,605000,606000,607000,608000,609000,610000,611000,612000,613000,614000,615000,616000,617000,618000,619000,620000,621000,622000,623000,624000,625000,626000,627000,628000,629000,630000,631000,632000,633000,634000,635000,636000,637000,638000,639000,640000,641000,642000,643000,644000,645000,646000,647000,648000,649000,650000,651000,652000,653000,654000,655000,656000,657000,658000,659000,660000,661000,662000,663000,664000,665000,666000,667000,668000,669000,670000,671000,672000,673000,674000,675000,676000,677000,678000,679000,680000,681000,682000,683000,684000,685000,686000,687000,688000,689000,690000,691000,692000,693000,694000,695000,696000,697000,698000,699000,700000,701000,702000,703000,704000,705000,706000,707000,708000,709000,710000,711000,712000,713000,714000,715000,716000,717000,718000,719000,720000,721000,722000,723000,724000,725000,726000,727000,728000,729000,730000,731000,732000,733000,734000,735000,736000,737000,738000,739000,740000,741000,742000,743000,744000,745000,746000,747000,748000,749000,750000,751000,752000,753000,754000,755000,756000,757000,758000,759000,760000,761000,762000,763000,764000,765000,766000,767000,768000,769000,770000,771000,772000,773000,774000,775000,776000,777000,778000,779000,780000,781000,782000,783000,784000,785000,786000,787000,788000,789000,790000,791000,792000,793000,794000,795000,796000,797000,798000,799000,800000,801000,802000,803000,804000,805000,806000,807000,808000,809000,810000,811000,812000,813000,814000,815000,816000,817000,818000,819000,820000,821000,822000,823000,824000,825000,826000,827000,828000,829000,830000,831000,832000,833000,834000,835000,836000,837000,838000,839000,840000,841000,842000,843000,844000,845000,846000,847000,848000,849000,850000,851000,852000,853000,854000,855000,856000,857000,858000,859000,860000,861000,862000,863000,864000,865000,866000,867000,868000,869000,870000,871000,872000,873000,874000,875000,876000,877000,878000,879000,880000,881000,882000,883000,884000,885000,886000,887000,888000,889000,890000,891000,892000,893000,894000,895000,896000,897000,898000,899000,900000,901000,902000,903000,904000,905000,906000,907000,908000,909000,910000,911000,912000,913000,914000,915000,916000,917000,918000,919000,920000,921000,922000,923000,924000,925000,926000,927000,928000,929000,930000,931000,932000,933000,934000,935000,936000,937000,938000,939000,940000,941000,942000,943000,944000,945000,946000,947000,948000,949000,950000,951000,952000,953000,954000,955000,956000,957000,958000,959000,960000,961000,962000,963000,964000,965000,966000,967000,968000,969000,970000,971000,972000,973000,974000,975000,976000,977000,978000,979000,980000,981000,982000,983000,984000,985000,986000,987000,988000,989000,990000,991000,992000,993000,994000,995000,996000,997000,998000,999000,1000000],\"y\":{\"__ndarray__\":\"AAAAAAAAAAAAAAAAAAAAAAAAAAAAAAAAAAAAAAAAAAAAAAAAAAAAAAAAAAAAAAAAAAAAAAAAAAAAAAAAAAAAAAAAAAAAAAAAAAAAAAAAAAAAAAAAAAAAAAAAAAAAAAAAAAAAAAAAAAAAAAAAAAAAAAAAAAAAAAAAAAAAAAAAAAAAAAAAAAAAAAAAAAAAAAAAAAAAAAAAAAAAAAAAAAAAAAAAAAAAAAAAAAAAAAAAAAAAAAAAAAAAAAAAAAAAAAAAAAAAAAAAAAAAAAAAAAAAAAAAAAAAAAAAAAAAAAAAAAAAAAAAAAAAAAAAAAAAAAAAAAAAAAAAAAAAAAAAAAAAAAAAAAAAAAAAAAAAAAAAAAAAAAAAAAAAAAAAAAAAAAAAAAAAAAAAAAAAAAAAAAAAAAAAAAAAAAAAAAAAAAAAAAAAAAAAAAAAAAAAAAAAAAAAAAAAAAAAAAAAAAAAAAAAAAAAAAAAAAAAAAAAAAAAAAAAAAAAAAAAAAAAAAAAAAAAAAAAAAAAAAAAAAAAAAAAAAAAAAAAAAAAAAAAAAAAAAAAAAAAAAAAAAAAAAAAAAAAAAAAAAAAAAAAAAAAAAAAAAAAAAAAAAAAAAAAAAAAAAAAAAAAAAAAAAAAAAAAAAAAAAAAAAAAAAAAAAAAAAAAAAAAAAAAAAAAAAAAAAAAAAAAAAAAAAAAAAAAAAAAAAAAAAAAAAAAAAAAAAAAAAAAAAAAAAAAAAAAAAAAAAAAAAAAAAAAAAAAAAAAAAAAAAAAAAAAAAAAAAAAAAAAAAAAAAAAAAAAAAAAAAAAAAAAAAAAAAAAAAAAAAAAAAAAAAAAAAAAAAAAAAAAAAAAAAAAAAAAAAAAAAAAAAAAAAAAAAAAAAAAAAAAAAAAAAAAAAAAAAAAAAAAAAAAAAAAAAAAAAAAAAAAAAAAAAAAAAAAAAAAAAAAAAAAAAAAAAAAAAAAAAAAAAAAAAAAAAAAAAAAAAAAAAAAAAAAAAAAAAAAAAAAAAAAAAAAAAAAAAAAAAAAAAAAAAAAAAAAAAAAAAAAAAAAAAAAAAAAAAAAAAAAAAAAAAAAAAAAAAAAAAAAAAAAAAAAAAAAAAAAAAAAAAAAAAAAAAAAAAAAAAAAAAAAAAAAAAAAAAAAAAAAAAAAAAAAAAAAAAAAAAAAAAAAAAAAAAAAAAAAAAAAAAAAAAAAAAAAAAAAAAAAAAAAAAAAAAAAAAAAAAAAAAAAAAAAAAAAAAAAAAAAAAAAAAAAAAAAAAAAAAAAAAAAAAAAAAAAAAAAAAAAAAAAAAAAAAAAAAAAAAAAAAAAAAAAAAAAAAAAAAAAAAAAAAAAAAAAAAAAAAAAAAAAAAAAAAAAAAAAAAAAAAAAAAAAAAAAAAAAAAAAAAAAAAAAAAAAAAAAAAAAAAAAAAAAAAAAAAAAAAAAAAAAAAAAAAAAAAAAAAAAAAAAAAAAAAAAAAAAAAAAAAAAAAAAAAAAAAAAAAAAAAAAAAAAAAAAAAAAAAAAAAAAAAAAAAAAAAAAAAAAAAAAAAAAAAAAAAAAAAAAAAAAAAAAAAAAAAAAAAAAAAAAAAAAAAAAAAAAAAAAAAAAAAAAAAAAAAAAAAAAAAAAAABQGLgsh+qcP1AYuCyH6qw/PBKKYeWvtT9QGLgsh+q8PzMP83uUEsI/PBKKYeWvxT9FFSFHNk3JP1M+jfBh28w/7B8EisFHzj/nKgP06DPNP1hoDcuMpMo/yKUXojAVyD+/RMufi1PGPztFKMSdX8U/tUWF6K9rxD8xRuIMwnfDP61GPzHUg8I/KUecVeaPwT+lR/l5+JvAP0z/pR/nELs/PTkwpoYjtT8Pz72IU+WxP2W+EangNbQ/YPl3JwOltj9cNN6lJRS5P1dvRCRIg7s/FKYCAUU/vT9gJLTlXIq7P6uiZcp01bk/9SAXr4wguD9An8iTpGu2Py2YW8TIqrY/Jc1ZnWtXuj8dAlh2DgS+P4sbq6dY2MA/BzYqFKquwj+DUKmA+4TEP7UfscQg98Y/eLRoo7c6yj85SSCCTn7NP/7ua7DyYNA/X7nHH74C0j+/gyOPiaTTP4hJBhgnE9Q/kk4wwBRV1D9p8jsAPD3UPymqj1ndNNQ/62Hjsn4s1D+sGTcMICTUP23RimXBG9Q/LYnevmIT1D+r1xo3IgXUP9GWcymuKtM/91XMGzpQ0j8cFSUOxnXRP9ThXfAa+dA/gwRLAhYa0T8A+mBLdVHRPxy9IWSq39E/dq5Sicmd0j8o19ZTbJvTP9v/Wh4PmdQ/jSjf6LGW1T8/UWOzVJTWP/F55333kdc/G+VZjNEh2D+xSh0+P5HYP0iw4O+sANk/3xWkoRpw2T91e2dTiN/ZPwvhKgX2Tto/q6qqqqqq2j+rqqqqqqraP6uqqqqqqto/q6qqqqqq2j+rqqqqqqraP6uqqqqqqto/q6qqqqqq2j+rqqqqqqraP6uqqqqqqto/q6qqqqqq2j+rqqqqqqraP/UPB2upyto/65ORTbxm2z/hFxwwzwLcP9ebphLintw/zR8x9fQ63T/Do7vXB9fdP7gnRroac94/r6vQnC0P3z+kL1t/QKvfPwAAAAAAAOA/AAAAAAAA4D8AAAAAAADgPwAAAAAAAOA/AAAAAAAA4D8AAAAAAADgPwAAAAAAAOA/AAAAAAAA4D8AAAAAAADgPwAAAAAAAOA/AAAAAAAA4D8AAAAAAADgPwAAAAAAAOA/AAAAAAAA4D8AAAAAAADgPwAAAAAAAOA/AAAAAAAA4D8AAAAAAADgPwAAAAAAAOA/AAAAAAAA4D8AAAAAAADgP6D6w/8RJOA/4e9L/zVs4D8h5dP+WbTgP2HaW/59/OA/oc/j/aFE4T/hxGv9xYzhPyK68/zp1OE/Yq97/A0d4j+ipAP8MWXiP8Ekgl6lqOI/i1QYWwhy4j9UhK5XazviPx20RFTOBOI/9kF9Tyyi4j/Qz7VKij/jP6ld7kXo3OM/gusmQUZ65D9beV88pBflPzQHmDcCteU/DJXQMmBS5j/lIgkuvu/mP4lgBSchR+c/Xfd3KnNM5z9Y+C1QqlrnP/3KIChfQec/586xfWHe5j/P0kLTY3vmP7jW0yhmGOY/odpkfmi15T+J3vXTalLlP3Pihilt7+Q/XOYXf2+M5D9jSiTRyyjkP2dEaW/wheM/+nAfN04o4z+KWYy1uy3jPxpC+TMpM+M/dNHCk/Rm4z87ipkV/6LjPwFDcJcJ3+M/yPtGGRQb5D+PtB2bHlfkP1Vt9Bwpk+Q/HCbLnjPP5D/j3qEgPgvlP6qXeKJIR+U/U7FCY4aB5T9witdC1tblP5BjbCImLOY/rTwBAnaB5j/MFZbhxdbmP+vuKsEVLOc/Cci/oGWB5z8ooVSAtdbnPwAAAAAAAOg/AAAAAAAA6D8AAAAAAADoPwAAAAAAAOg/AAAAAAAA6D8AAAAAAADoPwAAAAAAAOg/AAAAAAAA6D+rVjFtNTroP9PxaSrFfug/+4yi51TD6D8jKNuk5AfpP0vDE2J0TOk/cV5MHwSR6T+Z+YTck9XpP8CUvZkjGuo/6C/2VrNe6j8Qyy4UQ6PqP2laT5rzeeo/M4rlllZD6j/9uXuTuQzqP8XpEZAc1uk/kBmojH+f6T9YST6J4mjpPyN51IVFMuk/66hqgqj76D+12AB/C8XoP30Il3tujug/SDgteNFX6D8QaMN0NCHoP7+GoLyvIeg/fN7BEJ936D85NuNkjs3oP/eNBLl9I+k/tOUlDW156T9xPUdhXM/pPy+VaLVLJeo/7OyJCTt76j+rqqqqqqrqP6uqqqqqquo/q6qqqqqq6j+rqqqqqqrqP6uqqqqqquo/q6qqqqqq6j+rqqqqqqrqP6uqqqqqquo/q6qqqqqq6j+rqqqqqqrqP6uqqqqqquo/q6qqqqqq6j+rqqqqqqrqP6uqqqqqquo/q6qqqqqq6j+rqqqqqqrqP6uqqqqqquo/q6qqqqqq6j+rqqqqqqrqP6uqqqqqquo/q6qqqqqq6j+rqqqqqqrqP6uqqqqqquo/q6qqqqqq6j+rqqqqqqrqP6uqqqqqquo/q6qqqqqq6j+rqqqqqqrqP6uqqqqqquo/q6qqqqqq6j+rqqqqqqrqP6uqqqqqquo/q6qqqqqq6j+rqqqqqqrqP6uqqqqqquo/q6qqqqqq6j+rqqqqqqrqP6uqqqqqquo/q6qqqqqq6j+rqqqqqqrqP6uqqqqqquo/q6qqqqqq6j+rqqqqqqrqP6uqqqqqquo/q6qqqqqq6j+rqqqqqqrqP6uqqqqqquo/q6qqqqqq6j+rqqqqqqrqP6uqqqqqquo/q6qqqqqq6j+rqqqqqqrqP6uqqqqqquo/q6qqqqqq6j+rqqqqqqrqP6uqqqqqquo/q6qqqqqq6j+rqqqqqqrqP6uqqqqqquo/q6qqqqqq6j+rqqqqqqrqP6uqqqqqquo/q6qqqqqq6j+rqqqqqqrqP6uqqqqqquo/q6qqqqqq6j+rqqqqqqrqP6uqqqqqquo/q6qqqqqq6j+rqqqqqqrqP6uqqqqqquo/q6qqqqqq6j+rqqqqqqrqP6uqqqqqquo/q6qqqqqq6j+rqqqqqqrqP6uqqqqqquo/q6qqqqqq6j+rqqqqqqrqP6uqqqqqquo/q6qqqqqq6j+rqqqqqqrqP6uqqqqqquo/q6qqqqqq6j+rqqqqqqrqP6uqqqqqquo/q6qqqqqq6j+rqqqqqqrqP6uqqqqqquo/q6qqqqqq6j+rqqqqqqrqP6uqqqqqquo/q6qqqqqq6j+rqqqqqqrqP6uqqqqqquo/q6qqqqqq6j+rqqqqqqrqP6uqqqqqquo/q6qqqqqq6j+rqqqqqqrqP6uqqqqqquo/q6qqqqqq6j+rqqqqqqrqP6uqqqqqquo/q6qqqqqq6j+rqqqqqqrqP6uqqqqqquo/q6qqqqqq6j+rqqqqqqrqP6uqqqqqquo/q6qqqqqq6j+rqqqqqqrqP6uqqqqqquo/q6qqqqqq6j+rqqqqqqrqP6uqqqqqquo/q6qqqqqq6j+rqqqqqqrqP6uqqqqqquo/q6qqqqqq6j+rqqqqqqrqP6uqqqqqquo/q6qqqqqq6j+rqqqqqqrqP6uqqqqqquo/q6qqqqqq6j+rqqqqqqrqP6uqqqqqquo/q6qqqqqq6j+rqqqqqqrqP6uqqqqqquo/q6qqqqqq6j+rqqqqqqrqP6uqqqqqquo/q6qqqqqq6j+rqqqqqqrqP6uqqqqqquo/q6qqqqqq6j+rqqqqqqrqP6uqqqqqquo/q6qqqqqq6j+rqqqqqqrqP6uqqqqqquo/q6qqqqqq6j+rqqqqqqrqP6uqqqqqquo/q6qqqqqq6j+rqqqqqqrqP6uqqqqqquo/q6qqqqqq6j+rqqqqqqrqP6uqqqqqquo/q6qqqqqq6j+rqqqqqqrqP6uqqqqqquo/q6qqqqqq6j+rqqqqqqrqP6uqqqqqquo/q6qqqqqq6j+rqqqqqqrqP6uqqqqqquo/q6qqqqqq6j+rqqqqqqrqP6uqqqqqquo/q6qqqqqq6j+rqqqqqqrqP6uqqqqqquo/q6qqqqqq6j+rqqqqqqrqP6uqqqqqquo/q6qqqqqq6j/UoBbrHebqP/2WgiuRIes/J43uawRd6z9Qg1qsd5jrP3h5xuzq0+s/o28yLV4P7D/LZZ5t0UrsP/RbCq5Ehuw/HVJ27rfB7D9HSOIuK/3sP3A+Tm+eOO0/KLNBJhk57T/z4tcifALtP7sSbh/fy+w/hUIEHEKV7D9PcpoYpV7sPxiiMBUIKOw/4dHGEWvx6z+rAV0OzrrrP3Qx8woxhOs/PWGJB5RN6z8HkR8E9xbrP9DAtQBa4Oo/q6qqqqqq6j+rqqqqqqrqP6uqqqqqquo/q6qqqqqq6j+rqqqqqqrqP6uqqqqqquo/q6qqqqqq6j+rqqqqqqrqP6uqqqqqquo/q6qqqqqq6j+rqqqqqqrqP6uqqqqqquo/q6qqqqqq6j+dBdL/F9nqP9WVignlMus/DSZDE7KM6z9Ftvscf+brP39GtCZMQOw/t9ZsMBma7D/wZiU65vPsPyj33UOzTe0/dSfFtFwj7T8/V1uxv+zsPwiH8a0ituw/0baHqoV/7D+b5h2n6EjsP2QWtKNLEuw/LUZKoK7b6z/3deCcEaXrP8Cldpl0bus/idUMltc36z9TBaOSOgHrPx01OY+dyuo/7Z2GAOrC6j8dDc1vV/3qP018E9/EN+s/fetZTjJy6z+tWqC9n6zrP93J5iwN5+s/DTktnHoh7D89qHML6FvsP20XunpVluw/nYYA6sLQ7D/N9UZZMAvtP/1kjcidRe0/bRRsNmkt7T81RAIzzPbsPwB0mC8vwOw/yaMuLJKJ7D+T08Qo9VLsP1wDWyVYHOw/JTPxIbvl6z/vYoceHq/rP7iSHRuBeOs/gcKzF+RB6z9L8kkURwvrPxQi4BCq1Oo/hOlG5SzB6j8cMhOcnSLrP7R631IOhOs/S8OrCX/l6z/jC3jA70bsP3tURHdgqOw/E50QLtEJ7T9VVVVVVVXtP1VVVVVVVe0/VVVVVVVV7T9VVVVVVVXtP1VVVVVVVe0/VVVVVVVV7T9VVVVVVVXtP1VVVVVVVe0/VVVVVVVV7T9VVVVVVVXtP1VVVVVVVe0/VVVVVVVV7T9VVVVVVVXtP1VVVVVVVe0/VVVVVVVV7T9VVVVVVVXtP1VVVVVVVe0/VVVVVVVV7T9VVVVVVVXtP1VVVVVVVe0/VVVVVVVV7T9VVVVVVVXtP1VVVVVVVe0/VVVVVVVV7T9VVVVVVVXtP1VVVVVVVe0/VVVVVVVV7T9VVVVVVVXtP1VVVVVVVe0/VVVVVVVV7T9VVVVVVVXtP1VVVVVVVe0/VVVVVVVV7T9VVVVVVVXtP1VVVVVVVe0/VVVVVVVV7T9VVVVVVVXtP1VVVVVVVe0/VVVVVVVV7T9VVVVVVVXtP1VVVVVVVe0/VVVVVVVV7T9VVVVVVVXtP1VVVVVVVe0/VVVVVVVV7T9VVVVVVVXtP1VVVVVVVe0/VVVVVVVV7T9VVVVVVVXtP1VVVVVVVe0/VVVVVVVV7T9VVVVVVVXtP1VVVVVVVe0/VVVVVVVV7T9VVVVVVVXtP1VVVVVVVe0/VVVVVVVV7T9VVVVVVVXtP1VVVVVVVe0/VVVVVVVV7T9VVVVVVVXtP1VVVVVVVe0/VVVVVVVV7T9VVVVVVVXtP1VVVVVVVe0/VVVVVVVV7T9VVVVVVVXtP1VVVVVVVe0/VVVVVVVV7T9VVVVVVVXtP1VVVVVVVe0/VVVVVVVV7T9VVVVVVVXtP1VVVVVVVe0/VVVVVVVV7T9VVVVVVVXtP1VVVVVVVe0/VVVVVVVV7T9VVVVVVVXtP1VVVVVVVe0/VVVVVVVV7T9VVVVVVVXtP1VVVVVVVe0/VVVVVVVV7T9VVVVVVVXtP1VVVVVVVe0/VVVVVVVV7T9VVVVVVVXtP1VVVVVVVe0/VVVVVVVV7T9VVVVVVVXtP1VVVVVVVe0/VVVVVVVV7T9VVVVVVVXtP1VVVVVVVe0/VVVVVVVV7T9VVVVVVVXtP1VVVVVVVe0/VVVVVVVV7T9VVVVVVVXtP1VVVVVVVe0/VVVVVVVV7T9VVVVVVVXtP1VVVVVVVe0/VVVVVVVV7T9VVVVVVVXtP1VVVVVVVe0/VVVVVVVV7T9VVVVVVVXtP1VVVVVVVe0/VVVVVVVV7T9VVVVVVVXtP1VVVVVVVe0/VVVVVVVV7T9VVVVVVVXtP1VVVVVVVe0/VVVVVVVV7T9VVVVVVVXtP1VVVVVVVe0/VVVVVVVV7T9VVVVVVVXtP1VVVVVVVe0/VVVVVVVV7T9VVVVVVVXtP1VVVVVVVe0/VVVVVVVV7T9VVVVVVVXtP1VVVVVVVe0/VVVVVVVV7T9VVVVVVVXtP1VVVVVVVe0/VVVVVVVV7T9VVVVVVVXtP1VVVVVVVe0/VVVVVVVV7T9VVVVVVVXtP1VVVVVVVe0/VVVVVVVV7T9VVVVVVVXtP1VVVVVVVe0/VVVVVVVV7T9VVVVVVVXtP1VVVVVVVe0/VVVVVVVV7T9VVVVVVVXtP1VVVVVVVe0/VVVVVVVV7T9VVVVVVVXtP1VVVVVVVe0/VVVVVVVV7T9VVVVVVVXtP1VVVVVVVe0/VVVVVVVV7T9VVVVVVVXtP1VVVVVVVe0/VVVVVVVV7T9VVVVVVVXtP1VVVVVVVe0/VVVVVVVV7T9VVVVVVVXtP1VVVVVVVe0/VVVVVVVV7T9VVVVVVVXtP1VVVVVVVe0/VVVVVVVV7T9VVVVVVVXtP1VVVVVVVe0/VVVVVVVV7T9VVVVVVVXtP1VVVVVVVe0/VVVVVVVV7T9VVVVVVVXtP1VVVVVVVe0/VVVVVVVV7T9VVVVVVVXtP1VVVVVVVe0/VVVVVVVV7T9VVVVVVVXtP1VVVVVVVe0/VVVVVVVV7T9VVVVVVVXtP1VVVVVVVe0/VVVVVVVV7T9VVVVVVVXtP1VVVVVVVe0/VVVVVVVV7T9VVVVVVVXtP1VVVVVVVe0/VVVVVVVV7T9VVVVVVVXtP1VVVVVVVe0/VVVVVVVV7T9VVVVVVVXtP1VVVVVVVe0/VVVVVVVV7T9VVVVVVVXtP1VVVVVVVe0/VVVVVVVV7T9VVVVVVVXtP1VVVVVVVe0/VVVVVVVV7T9VVVVVVVXtP1VVVVVVVe0/VVVVVVVV7T9VVVVVVVXtP1VVVVVVVe0/VVVVVVVV7T9VVVVVVVXtP1VVVVVVVe0/VVVVVVVV7T9VVVVVVVXtP1VVVVVVVe0/VVVVVVVV7T9VVVVVVVXtP1VVVVVVVe0/VVVVVVVV7T9VVVVVVVXtP1VVVVVVVe0/VVVVVVVV7T9VVVVVVVXtP1VVVVVVVe0/VVVVVVVV7T9VVVVVVVXtP1VVVVVVVe0/VVVVVVVV7T9VVVVVVVXtP1VVVVVVVe0/VVVVVVVV7T9VVVVVVVXtP1VVVVVVVe0/VVVVVVVV7T9VVVVVVVXtP1VVVVVVVe0/VVVVVVVV7T9VVVVVVVXtP1VVVVVVVe0/VVVVVVVV7T9VVVVVVVXtP1VVVVVVVe0/VVVVVVVV7T9VVVVVVVXtP1VVVVVVVe0/VVVVVVVV7T9VVVVVVVXtP1VVVVVVVe0/VVVVVVVV7T9VVVVVVVXtP1VVVVVVVe0/VVVVVVVV7T9VVVVVVVXtP0hvIb2FdO0/L6O5jOay7T8U11FcR/HtP/sK6iuoL+4/4D6C+whu7j/HchrLaazuP62msprK6u4/k9pKaisp7z94DuM5jGfvP19Cewntpe8/RXYT2U3k7z+7dnyOouHvP4SmEosFq+8/Tdaoh2h07z8XBj+Eyz3vP+A11YAuB+8/qWVrfZHQ7j9zlQF69JnuPzzFl3ZXY+4/BfUtc7os7j/QJMRvHfbtP5hUWmyAv+0/Y4TwaOOI7T9VVVVVVVXtP1VVVVVVVe0/VVVVVVVV7T9VVVVVVVXtP1VVVVVVVe0/VVVVVVVV7T9VVVVVVVXtP1VVVVVVVe0/VVVVVVVV7T9VVVVVVVXtP1VVVVVVVe0/VVVVVVVV7T9VVVVVVVXtPxQ+bEashe0/TfxUXZ3c7T+Iuj10jjPuP8N4Jot/iu4/eWvRaimx7j99WVB+fdHuP4FHz5HR8e4/hTVOpSUS7z+h8xq7RPXuP2sjsbenvu4/NFNHtAqI7j/9gt2wbVHuP8eyc63QGu4/kOIJqjPk7T9ZEqCmlq3tPyNCNqP5du0/HRzXr9EU7j8AAAAAAADwPwAAAAAAAPA/AAAAAAAA8D8AAAAAAADwPwAAAAAAAPA/AAAAAAAA8D8AAAAAAADwPwAAAAAAAPA/AAAAAAAA8D8AAAAAAADwPwAAAAAAAPA/AAAAAAAA8D8AAAAAAADwPwAAAAAAAPA/AAAAAAAA8D8AAAAAAADwPwAAAAAAAPA/AAAAAAAA8D8AAAAAAADwPwAAAAAAAPA/AAAAAAAA8D8AAAAAAADwPwAAAAAAAPA/AAAAAAAA8D8AAAAAAADwPwAAAAAAAPA/AAAAAAAA8D8AAAAAAADwPwAAAAAAAPA/AAAAAAAA8D8AAAAAAADwPwAAAAAAAPA/AAAAAAAA8D8AAAAAAADwPwAAAAAAAPA/AAAAAAAA8D8AAAAAAADwPwAAAAAAAPA/AAAAAAAA8D8AAAAAAADwPwAAAAAAAPA/AAAAAAAA8D8AAAAAAADwPwAAAAAAAPA/AAAAAAAA8D8AAAAAAADwPwAAAAAAAPA/AAAAAAAA8D8AAAAAAADwPwAAAAAAAPA/AAAAAAAA8D8AAAAAAADwPwAAAAAAAPA/AAAAAAAA8D8AAAAAAADwPwAAAAAAAPA/AAAAAAAA8D8AAAAAAADwPwAAAAAAAPA/AAAAAAAA8D8AAAAAAADwPwAAAAAAAPA/AAAAAAAA8D8AAAAAAADwPwAAAAAAAPA/AAAAAAAA8D8AAAAAAADwPwAAAAAAAPA/AAAAAAAA8D8AAAAAAADwPwAAAAAAAPA/AAAAAAAA8D9LB+v/HObvPxQ3gfx/r+8/3WYX+eJ47z+nlq31RULvP3DGQ/KoC+8/OfbZ7gvV7j8DJnDrbp7uP8xVBujRZ+4/lYWc5DQx7j9ftTLhl/rtPyjlyN36w+0/8RRf2l2N7T+7RPXWwFbtPw==\",\"dtype\":\"float64\",\"shape\":[1001]}}},\"id\":\"d24020b4-a022-40c4-9062-52f7b20f0c42\",\"type\":\"ColumnDataSource\"},{\"attributes\":{\"line_alpha\":{\"value\":0.1},\"line_color\":{\"value\":\"#1f77b4\"},\"line_width\":{\"value\":2},\"x\":{\"field\":\"x\"},\"y\":{\"field\":\"y\"}},\"id\":\"ca1b7bfb-486d-41b4-98b0-b4e2c9d1493b\",\"type\":\"Line\"},{\"attributes\":{\"label\":{\"value\":\"100k XpSize\"},\"renderers\":[{\"id\":\"5f848c6b-9a32-4780-82d3-6a5818b6cbbc\",\"type\":\"GlyphRenderer\"}]},\"id\":\"dd44adae-54a8-4ff7-a4c6-6b9cbb9a1b2b\",\"type\":\"LegendItem\"},{\"attributes\":{\"label\":{\"value\":\"250k XpSize\"},\"renderers\":[{\"id\":\"c2d454f7-84e2-4fea-a432-d72d7b7f060c\",\"type\":\"GlyphRenderer\"}]},\"id\":\"ba6eb3a4-9a15-4979-8d46-9d4bd93097e9\",\"type\":\"LegendItem\"},{\"attributes\":{\"line_color\":{\"value\":\"#e41a1c\"},\"line_width\":{\"value\":2},\"x\":{\"field\":\"x\"},\"y\":{\"field\":\"y\"}},\"id\":\"4970e9b5-a72a-4dba-b336-f68646922d86\",\"type\":\"Line\"},{\"attributes\":{\"label\":{\"value\":\"500k XpSize\"},\"renderers\":[{\"id\":\"75387798-fd03-47b5-9d9f-f6dd4982f9cc\",\"type\":\"GlyphRenderer\"}]},\"id\":\"bad2ec4a-19d8-4803-935f-392d80c25131\",\"type\":\"LegendItem\"}],\"root_ids\":[\"e71003b1-06f5-4207-a9bb-9f02f14a78ae\"]},\"title\":\"Bokeh Application\",\"version\":\"0.12.4\"}};\n",
       "            var render_items = [{\"docid\":\"9f1edb5f-58b0-4cf5-b987-ce2bb155abba\",\"elementid\":\"99011cc4-2930-4826-be89-f4fd1c216545\",\"modelid\":\"e71003b1-06f5-4207-a9bb-9f02f14a78ae\"}];\n",
       "            \n",
       "            Bokeh.embed.embed_items(docs_json, render_items);\n",
       "          };\n",
       "          if (document.readyState != \"loading\") fn();\n",
       "          else document.addEventListener(\"DOMContentLoaded\", fn);\n",
       "        })();\n",
       "      },\n",
       "      function(Bokeh) {\n",
       "      }\n",
       "    ];\n",
       "  \n",
       "    function run_inline_js() {\n",
       "      \n",
       "      if ((window.Bokeh !== undefined) || (force === true)) {\n",
       "        for (var i = 0; i < inline_js.length; i++) {\n",
       "          inline_js[i](window.Bokeh);\n",
       "        }if (force === true) {\n",
       "          display_loaded();\n",
       "        }} else if (Date.now() < window._bokeh_timeout) {\n",
       "        setTimeout(run_inline_js, 100);\n",
       "      } else if (!window._bokeh_failed_load) {\n",
       "        console.log(\"Bokeh: BokehJS failed to load within specified timeout.\");\n",
       "        window._bokeh_failed_load = true;\n",
       "      } else if (force !== true) {\n",
       "        var cell = $(document.getElementById(\"99011cc4-2930-4826-be89-f4fd1c216545\")).parents('.cell').data().cell;\n",
       "        cell.output_area.append_execute_result(NB_LOAD_WARNING)\n",
       "      }\n",
       "  \n",
       "    }\n",
       "  \n",
       "    if (window._bokeh_is_loading === 0) {\n",
       "      console.log(\"Bokeh: BokehJS loaded, going straight to plotting\");\n",
       "      run_inline_js();\n",
       "    } else {\n",
       "      load_libs(js_urls, function() {\n",
       "        console.log(\"Bokeh: BokehJS plotting callback run at\", now());\n",
       "        run_inline_js();\n",
       "      });\n",
       "    }\n",
       "  }(this));\n",
       "</script>"
      ]
     },
     "metadata": {},
     "output_type": "display_data"
    },
    {
     "name": "stderr",
     "output_type": "stream",
     "text": [
      "/usr/lib/python3.6/site-packages/bokeh/models/sources.py:81: BokehUserWarning: ColumnDataSource's columns must be of the same length\n",
      "  lambda: warnings.warn(\"ColumnDataSource's columns must be of the same length\", BokehUserWarning))\n",
      "/usr/lib/python3.6/site-packages/bokeh/models/sources.py:81: BokehUserWarning: ColumnDataSource's columns must be of the same length\n",
      "  lambda: warnings.warn(\"ColumnDataSource's columns must be of the same length\", BokehUserWarning))\n",
      "/usr/lib/python3.6/site-packages/bokeh/models/sources.py:81: BokehUserWarning: ColumnDataSource's columns must be of the same length\n",
      "  lambda: warnings.warn(\"ColumnDataSource's columns must be of the same length\", BokehUserWarning))\n",
      "/usr/lib/python3.6/site-packages/bokeh/models/sources.py:81: BokehUserWarning: ColumnDataSource's columns must be of the same length\n",
      "  lambda: warnings.warn(\"ColumnDataSource's columns must be of the same length\", BokehUserWarning))\n",
      "/usr/lib/python3.6/site-packages/bokeh/models/sources.py:81: BokehUserWarning: ColumnDataSource's columns must be of the same length\n",
      "  lambda: warnings.warn(\"ColumnDataSource's columns must be of the same length\", BokehUserWarning))\n",
      "/usr/lib/python3.6/site-packages/bokeh/models/sources.py:81: BokehUserWarning: ColumnDataSource's columns must be of the same length\n",
      "  lambda: warnings.warn(\"ColumnDataSource's columns must be of the same length\", BokehUserWarning))\n",
      "/usr/lib/python3.6/site-packages/bokeh/models/sources.py:81: BokehUserWarning: ColumnDataSource's columns must be of the same length\n",
      "  lambda: warnings.warn(\"ColumnDataSource's columns must be of the same length\", BokehUserWarning))\n",
      "/usr/lib/python3.6/site-packages/bokeh/models/sources.py:81: BokehUserWarning: ColumnDataSource's columns must be of the same length\n",
      "  lambda: warnings.warn(\"ColumnDataSource's columns must be of the same length\", BokehUserWarning))\n"
     ]
    },
    {
     "data": {
      "text/html": [
       "\n",
       "\n",
       "    <div class=\"bk-root\">\n",
       "        <div class=\"bk-plotdiv\" id=\"7d68e71b-0108-45e7-aa1b-98e1075e2974\"></div>\n",
       "    </div>\n",
       "<script type=\"text/javascript\">\n",
       "  \n",
       "  (function(global) {\n",
       "    function now() {\n",
       "      return new Date();\n",
       "    }\n",
       "  \n",
       "    var force = false;\n",
       "  \n",
       "    if (typeof (window._bokeh_onload_callbacks) === \"undefined\" || force === true) {\n",
       "      window._bokeh_onload_callbacks = [];\n",
       "      window._bokeh_is_loading = undefined;\n",
       "    }\n",
       "  \n",
       "  \n",
       "    \n",
       "    if (typeof (window._bokeh_timeout) === \"undefined\" || force === true) {\n",
       "      window._bokeh_timeout = Date.now() + 0;\n",
       "      window._bokeh_failed_load = false;\n",
       "    }\n",
       "  \n",
       "    var NB_LOAD_WARNING = {'data': {'text/html':\n",
       "       \"<div style='background-color: #fdd'>\\n\"+\n",
       "       \"<p>\\n\"+\n",
       "       \"BokehJS does not appear to have successfully loaded. If loading BokehJS from CDN, this \\n\"+\n",
       "       \"may be due to a slow or bad network connection. Possible fixes:\\n\"+\n",
       "       \"</p>\\n\"+\n",
       "       \"<ul>\\n\"+\n",
       "       \"<li>re-rerun `output_notebook()` to attempt to load from CDN again, or</li>\\n\"+\n",
       "       \"<li>use INLINE resources instead, as so:</li>\\n\"+\n",
       "       \"</ul>\\n\"+\n",
       "       \"<code>\\n\"+\n",
       "       \"from bokeh.resources import INLINE\\n\"+\n",
       "       \"output_notebook(resources=INLINE)\\n\"+\n",
       "       \"</code>\\n\"+\n",
       "       \"</div>\"}};\n",
       "  \n",
       "    function display_loaded() {\n",
       "      if (window.Bokeh !== undefined) {\n",
       "        document.getElementById(\"7d68e71b-0108-45e7-aa1b-98e1075e2974\").textContent = \"BokehJS successfully loaded.\";\n",
       "      } else if (Date.now() < window._bokeh_timeout) {\n",
       "        setTimeout(display_loaded, 100)\n",
       "      }\n",
       "    }\n",
       "  \n",
       "    function run_callbacks() {\n",
       "      window._bokeh_onload_callbacks.forEach(function(callback) { callback() });\n",
       "      delete window._bokeh_onload_callbacks\n",
       "      console.info(\"Bokeh: all callbacks have finished\");\n",
       "    }\n",
       "  \n",
       "    function load_libs(js_urls, callback) {\n",
       "      window._bokeh_onload_callbacks.push(callback);\n",
       "      if (window._bokeh_is_loading > 0) {\n",
       "        console.log(\"Bokeh: BokehJS is being loaded, scheduling callback at\", now());\n",
       "        return null;\n",
       "      }\n",
       "      if (js_urls == null || js_urls.length === 0) {\n",
       "        run_callbacks();\n",
       "        return null;\n",
       "      }\n",
       "      console.log(\"Bokeh: BokehJS not loaded, scheduling load and callback at\", now());\n",
       "      window._bokeh_is_loading = js_urls.length;\n",
       "      for (var i = 0; i < js_urls.length; i++) {\n",
       "        var url = js_urls[i];\n",
       "        var s = document.createElement('script');\n",
       "        s.src = url;\n",
       "        s.async = false;\n",
       "        s.onreadystatechange = s.onload = function() {\n",
       "          window._bokeh_is_loading--;\n",
       "          if (window._bokeh_is_loading === 0) {\n",
       "            console.log(\"Bokeh: all BokehJS libraries loaded\");\n",
       "            run_callbacks()\n",
       "          }\n",
       "        };\n",
       "        s.onerror = function() {\n",
       "          console.warn(\"failed to load library \" + url);\n",
       "        };\n",
       "        console.log(\"Bokeh: injecting script tag for BokehJS library: \", url);\n",
       "        document.getElementsByTagName(\"head\")[0].appendChild(s);\n",
       "      }\n",
       "    };var element = document.getElementById(\"7d68e71b-0108-45e7-aa1b-98e1075e2974\");\n",
       "    if (element == null) {\n",
       "      console.log(\"Bokeh: ERROR: autoload.js configured with elementid '7d68e71b-0108-45e7-aa1b-98e1075e2974' but no matching script tag was found. \")\n",
       "      return false;\n",
       "    }\n",
       "  \n",
       "    var js_urls = [];\n",
       "  \n",
       "    var inline_js = [\n",
       "      function(Bokeh) {\n",
       "        (function() {\n",
       "          var fn = function() {\n",
       "            var docs_json = {\"8eb6c651-ad0b-4850-ae08-d14f417d3619\":{\"roots\":{\"references\":[{\"attributes\":{\"label\":{\"value\":\"250k XpSize\"},\"renderers\":[{\"id\":\"61f3d7a4-1f72-457e-91d0-73e2645b1445\",\"type\":\"GlyphRenderer\"}]},\"id\":\"d3c9c239-6bab-4c58-a391-a6655bf34cf1\",\"type\":\"LegendItem\"},{\"attributes\":{\"plot\":{\"id\":\"dc62baf6-188f-46c1-8626-9f8cbd7f7ba1\",\"subtype\":\"Figure\",\"type\":\"Plot\"}},\"id\":\"63a94990-d378-4b1e-b973-d4f57588a31c\",\"type\":\"HelpTool\"},{\"attributes\":{\"fill_alpha\":{\"value\":0.1},\"fill_color\":{\"value\":\"#984ea3\"},\"line_alpha\":{\"value\":0.1},\"line_color\":{\"value\":\"#984ea3\"},\"x\":{\"field\":\"x\"},\"y\":{\"field\":\"y\"}},\"id\":\"fc1cfd9b-616f-4774-93d7-c405f36b159b\",\"type\":\"Patch\"},{\"attributes\":{\"plot\":{\"id\":\"dc62baf6-188f-46c1-8626-9f8cbd7f7ba1\",\"subtype\":\"Figure\",\"type\":\"Plot\"}},\"id\":\"0d78eb50-e7a6-4ce2-94f4-3173d047085f\",\"type\":\"ResetTool\"},{\"attributes\":{\"callback\":null,\"column_names\":[\"x\",\"y\"],\"data\":{\"x\":[0,1000,2000,3000,4000,5000,6000,7000,8000,9000,10000,11000,12000,13000,14000,15000,16000,17000,18000,19000,20000,21000,22000,23000,24000,25000,26000,27000,28000,29000,30000,31000,32000,33000,34000,35000,36000,37000,38000,39000,40000,41000,42000,43000,44000,45000,46000,47000,48000,49000,50000,51000,52000,53000,54000,55000,56000,57000,58000,59000,60000,61000,62000,63000,64000,65000,66000,67000,68000,69000,70000,71000,72000,73000,74000,75000,76000,77000,78000,79000,80000,81000,82000,83000,84000,85000,86000,87000,88000,89000,90000,91000,92000,93000,94000,95000,96000,97000,98000,99000,100000,101000,102000,103000,104000,105000,106000,107000,108000,109000,110000,111000,112000,113000,114000,115000,116000,117000,118000,119000,120000,121000,122000,123000,124000,125000,126000,127000,128000,129000,130000,131000,132000,133000,134000,135000,136000,137000,138000,139000,140000,141000,142000,143000,144000,145000,146000,147000,148000,149000,150000,151000,152000,153000,154000,155000,156000,157000,158000,159000,160000,161000,162000,163000,164000,165000,166000,167000,168000,169000,170000,171000,172000,173000,174000,175000,176000,177000,178000,179000,180000,181000,182000,183000,184000,185000,186000,187000,188000,189000,190000,191000,192000,193000,194000,195000,196000,197000,198000,199000,200000,201000,202000,203000,204000,205000,206000,207000,208000,209000,210000,211000,212000,213000,214000,215000,216000,217000,218000,219000,220000,221000,222000,223000,224000,225000,226000,227000,228000,229000,230000,231000,232000,233000,234000,235000,236000,237000,238000,239000,240000,241000,242000,243000,244000,245000,246000,247000,248000,249000,250000,251000,252000,253000,254000,255000,256000,257000,258000,259000,260000,261000,262000,263000,264000,265000,266000,267000,268000,269000,270000,271000,272000,273000,274000,275000,276000,277000,278000,279000,280000,281000,282000,283000,284000,285000,286000,287000,288000,289000,290000,291000,292000,293000,294000,295000,296000,297000,298000,299000,300000,301000,302000,303000,304000,305000,306000,307000,308000,309000,310000,311000,312000,313000,314000,315000,316000,317000,318000,319000,320000,321000,322000,323000,324000,325000,326000,327000,328000,329000,330000,331000,332000,333000,334000,335000,336000,337000,338000,339000,340000,341000,342000,343000,344000,345000,346000,347000,348000,349000,350000,351000,352000,353000,354000,355000,356000,357000,358000,359000,360000,361000,362000,363000,364000,365000,366000,367000,368000,369000,370000,371000,372000,373000,374000,375000,376000,377000,378000,379000,380000,381000,382000,383000,384000,385000,386000,387000,388000,389000,390000,391000,392000,393000,394000,395000,396000,397000,398000,399000,400000,401000,402000,403000,404000,405000,406000,407000,408000,409000,410000,411000,412000,413000,414000,415000,416000,417000,418000,419000,420000,421000,422000,423000,424000,425000,426000,427000,428000,429000,430000,431000,432000,433000,434000,435000,436000,437000,438000,439000,440000,441000,442000,443000,444000,445000,446000,447000,448000,449000,450000,451000,452000,453000,454000,455000,456000,457000,458000,459000,460000,461000,462000,463000,464000,465000,466000,467000,468000,469000,470000,471000,472000,473000,474000,475000,476000,477000,478000,479000,480000,481000,482000,483000,484000,485000,486000,487000,488000,489000,490000,491000,492000,493000,494000,495000,496000,497000,498000,499000,500000,501000,502000,503000,504000,505000,506000,507000,508000,509000,510000,511000,512000,513000,514000,515000,516000,517000,518000,519000,520000,521000,522000,523000,524000,525000,526000,527000,528000,529000,530000,531000,532000,533000,534000,535000,536000,537000,538000,539000,540000,541000,542000,543000,544000,545000,546000,547000,548000,549000,550000,551000,552000,553000,554000,555000,556000,557000,558000,559000,560000,561000,562000,563000,564000,565000,566000,567000,568000,569000,570000,571000,572000,573000,574000,575000,576000,577000,578000,579000,580000,581000,582000,583000,584000,585000,586000,587000,588000,589000,590000,591000,592000,593000,594000,595000,596000,597000,598000,599000,600000,601000,602000,603000,604000,605000,606000,607000,608000,609000,610000,611000,612000,613000,614000,615000,616000,617000,618000,619000,620000,621000,622000,623000,624000,625000,626000,627000,628000,629000,630000,631000,632000,633000,634000,635000,636000,637000,638000,639000,640000,641000,642000,643000,644000,645000,646000,647000,648000,649000,650000,651000,652000,653000,654000,655000,656000,657000,658000,659000,660000,661000,662000,663000,664000,665000,666000,667000,668000,669000,670000,671000,672000,673000,674000,675000,676000,677000,678000,679000,680000,681000,682000,683000,684000,685000,686000,687000,688000,689000,690000,691000,692000,693000,694000,695000,696000,697000,698000,699000,700000,701000,702000,703000,704000,705000,706000,707000,708000,709000,710000,711000,712000,713000,714000,715000,716000,717000,718000,719000,720000,721000,722000,723000,724000,725000,726000,727000,728000,729000,730000,731000,732000,733000,734000,735000,736000,737000,738000,739000,740000,741000,742000,743000,744000,745000,746000,747000,748000,749000,750000,751000,752000,753000,754000,755000,756000,757000,758000,759000,760000,761000,762000,763000,764000,765000,766000,767000,768000,769000,770000,771000,772000,773000,774000,775000,776000,777000,778000,779000,780000,781000,782000,783000,784000,785000,786000,787000,788000,789000,790000,791000,792000,793000,794000,795000,796000,797000,798000,799000,800000,801000,802000,803000,804000,805000,806000,807000,808000,809000,810000,811000,812000,813000,814000,815000,816000,817000,818000,819000,820000,821000,822000,823000,824000,825000,826000,827000,828000,829000,830000,831000,832000,833000,834000,835000,836000,837000,838000,839000,840000,841000,842000,843000,844000,845000,846000,847000,848000,849000,850000,851000,852000,853000,854000,855000,856000,857000,858000,859000,860000,861000,862000,863000,864000,865000,866000,867000,868000,869000,870000,871000,872000,873000,874000,875000,876000,877000,878000,879000,880000,881000,882000,883000,884000,885000,886000,887000,888000,889000,890000,891000,892000,893000,894000,895000,896000,897000,898000,899000,900000,901000,902000,903000,904000,905000,906000,907000,908000,909000,910000,911000,912000,913000,914000,915000,916000,917000,918000,919000,920000,921000,922000,923000,924000,925000,926000,927000,928000,929000,930000,931000,932000,933000,934000,935000,936000,937000,938000,939000,940000,941000,942000,943000,944000,945000,946000,947000,948000,949000,950000,951000,952000,953000,954000,955000,956000,957000,958000,959000,960000,961000,962000,963000,964000,965000,966000,967000,968000,969000,970000,971000,972000,973000,974000,975000,976000,977000,978000,979000,980000,981000,982000,983000,984000,985000,986000,987000,988000,989000,990000,991000,992000,993000,994000,995000,996000,997000,998000,999000,1000000],\"y\":{\"__ndarray__\":\"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\",\"dtype\":\"float64\",\"shape\":[1000]}}},\"id\":\"21b5f0ba-fd87-4daf-92af-59554643f61d\",\"type\":\"ColumnDataSource\"},{\"attributes\":{\"bottom_units\":\"screen\",\"fill_alpha\":{\"value\":0.5},\"fill_color\":{\"value\":\"lightgrey\"},\"left_units\":\"screen\",\"level\":\"overlay\",\"line_alpha\":{\"value\":1.0},\"line_color\":{\"value\":\"black\"},\"line_dash\":[4,4],\"line_width\":{\"value\":2},\"plot\":null,\"render_mode\":\"css\",\"right_units\":\"screen\",\"top_units\":\"screen\"},\"id\":\"44c6746e-e435-4ac8-987e-8d34d85e16a5\",\"type\":\"BoxAnnotation\"},{\"attributes\":{\"plot\":{\"id\":\"dc62baf6-188f-46c1-8626-9f8cbd7f7ba1\",\"subtype\":\"Figure\",\"type\":\"Plot\"}},\"id\":\"bef6bc9b-4643-4dad-b444-1407f413bd8b\",\"type\":\"SaveTool\"},{\"attributes\":{\"line_alpha\":{\"value\":0.1},\"line_color\":{\"value\":\"#1f77b4\"},\"line_width\":{\"value\":2},\"x\":{\"field\":\"x\"},\"y\":{\"field\":\"y\"}},\"id\":\"3040b92f-c3c6-4c7d-a70e-3866eaf97673\",\"type\":\"Line\"},{\"attributes\":{\"label\":{\"value\":\"500k XpSize\"},\"renderers\":[{\"id\":\"5329c3b5-67f1-4960-b0b8-3a32dfe13caf\",\"type\":\"GlyphRenderer\"}]},\"id\":\"2b69c970-f7e9-433d-94b4-c634f49a5b8c\",\"type\":\"LegendItem\"},{\"attributes\":{},\"id\":\"682942cc-807f-4d69-bf2e-3e5d5ae02663\",\"type\":\"BasicTicker\"},{\"attributes\":{\"plot\":{\"id\":\"dc62baf6-188f-46c1-8626-9f8cbd7f7ba1\",\"subtype\":\"Figure\",\"type\":\"Plot\"},\"ticker\":{\"id\":\"682942cc-807f-4d69-bf2e-3e5d5ae02663\",\"type\":\"BasicTicker\"}},\"id\":\"667d2d54-417e-4c3e-8d98-86e90046ed27\",\"type\":\"Grid\"},{\"attributes\":{\"axis_label\":\"T\",\"formatter\":{\"id\":\"4445b8c5-346c-49ef-af7a-5c0296ae095f\",\"type\":\"BasicTickFormatter\"},\"plot\":{\"id\":\"dc62baf6-188f-46c1-8626-9f8cbd7f7ba1\",\"subtype\":\"Figure\",\"type\":\"Plot\"},\"ticker\":{\"id\":\"682942cc-807f-4d69-bf2e-3e5d5ae02663\",\"type\":\"BasicTicker\"}},\"id\":\"221027e7-0b04-400e-a8e3-a2da59ca77c9\",\"type\":\"LinearAxis\"},{\"attributes\":{\"callback\":null},\"id\":\"edd6a5f6-9f24-4578-b0aa-374715adb632\",\"type\":\"DataRange1d\"},{\"attributes\":{\"label\":{\"value\":\"50k XpSize\"},\"renderers\":[{\"id\":\"8be1da02-f488-490b-9c38-6b9383516d7e\",\"type\":\"GlyphRenderer\"}]},\"id\":\"4179645f-953c-48e3-9250-0eefdbc5ef5d\",\"type\":\"LegendItem\"},{\"attributes\":{\"items\":[{\"id\":\"4179645f-953c-48e3-9250-0eefdbc5ef5d\",\"type\":\"LegendItem\"},{\"id\":\"bc370774-68ed-48b7-ab95-4025c3cd3229\",\"type\":\"LegendItem\"},{\"id\":\"d3c9c239-6bab-4c58-a391-a6655bf34cf1\",\"type\":\"LegendItem\"},{\"id\":\"2b69c970-f7e9-433d-94b4-c634f49a5b8c\",\"type\":\"LegendItem\"}],\"location\":[0,-30],\"plot\":{\"id\":\"dc62baf6-188f-46c1-8626-9f8cbd7f7ba1\",\"subtype\":\"Figure\",\"type\":\"Plot\"}},\"id\":\"113d109b-d675-43ef-9967-e5cf4bfae603\",\"type\":\"Legend\"},{\"attributes\":{\"fill_alpha\":{\"value\":0.1},\"fill_color\":{\"value\":\"#1f77b4\"},\"line_alpha\":{\"value\":0.1},\"line_color\":{\"value\":\"#1f77b4\"},\"x\":{\"field\":\"x\"},\"y\":{\"field\":\"y\"}},\"id\":\"f05be97b-c253-45e5-9cf7-929f3ea50a68\",\"type\":\"Patch\"},{\"attributes\":{\"callback\":null,\"column_names\":[\"x\",\"y\"],\"data\":{\"x\":[0,1000,2000,3000,4000,5000,6000,7000,8000,9000,10000,11000,12000,13000,14000,15000,16000,17000,18000,19000,20000,21000,22000,23000,24000,25000,26000,27000,28000,29000,30000,31000,32000,33000,34000,35000,36000,37000,38000,39000,40000,41000,42000,43000,44000,45000,46000,47000,48000,49000,50000,51000,52000,53000,54000,55000,56000,57000,58000,59000,60000,61000,62000,63000,64000,65000,66000,67000,68000,69000,70000,71000,72000,73000,74000,75000,76000,77000,78000,79000,80000,81000,82000,83000,84000,85000,86000,87000,88000,89000,90000,91000,92000,93000,94000,95000,96000,97000,98000,99000,100000,101000,102000,103000,104000,105000,106000,107000,108000,109000,110000,111000,112000,113000,114000,115000,116000,117000,118000,119000,120000,121000,122000,123000,124000,125000,126000,127000,128000,129000,130000,131000,132000,133000,134000,135000,136000,137000,138000,139000,140000,141000,142000,143000,144000,145000,146000,147000,148000,149000,150000,151000,152000,153000,154000,155000,156000,157000,158000,159000,160000,161000,162000,163000,164000,165000,166000,167000,168000,169000,170000,171000,172000,173000,174000,175000,176000,177000,178000,179000,180000,181000,182000,183000,184000,185000,186000,187000,188000,189000,190000,191000,192000,193000,194000,195000,196000,197000,198000,199000,200000,201000,202000,203000,204000,205000,206000,207000,208000,209000,210000,211000,212000,213000,214000,215000,216000,217000,218000,219000,220000,221000,222000,223000,224000,225000,226000,227000,228000,229000,230000,231000,232000,233000,234000,235000,236000,237000,238000,239000,240000,241000,242000,243000,244000,245000,246000,247000,248000,249000,250000,251000,252000,253000,254000,255000,256000,257000,258000,259000,260000,261000,262000,263000,264000,265000,266000,267000,268000,269000,270000,271000,272000,273000,274000,275000,276000,277000,278000,279000,280000,281000,282000,283000,284000,285000,286000,287000,288000,289000,290000,291000,292000,293000,294000,295000,296000,297000,298000,299000,300000,301000,302000,303000,304000,305000,306000,307000,308000,309000,310000,311000,312000,313000,314000,315000,316000,317000,318000,319000,320000,321000,322000,323000,324000,325000,326000,327000,328000,329000,330000,331000,332000,333000,334000,335000,336000,337000,338000,339000,340000,341000,342000,343000,344000,345000,346000,347000,348000,349000,350000,351000,352000,353000,354000,355000,356000,357000,358000,359000,360000,361000,362000,363000,364000,365000,366000,367000,368000,369000,370000,371000,372000,373000,374000,375000,376000,377000,378000,379000,380000,381000,382000,383000,384000,385000,386000,387000,388000,389000,390000,391000,392000,393000,394000,395000,396000,397000,398000,399000,400000,401000,402000,403000,404000,405000,406000,407000,408000,409000,410000,411000,412000,413000,414000,415000,416000,417000,418000,419000,420000,421000,422000,423000,424000,425000,426000,427000,428000,429000,430000,431000,432000,433000,434000,435000,436000,437000,438000,439000,440000,441000,442000,443000,444000,445000,446000,447000,448000,449000,450000,451000,452000,453000,454000,455000,456000,457000,458000,459000,460000,461000,462000,463000,464000,465000,466000,467000,468000,469000,470000,471000,472000,473000,474000,475000,476000,477000,478000,479000,480000,481000,482000,483000,484000,485000,486000,487000,488000,489000,490000,491000,492000,493000,494000,495000,496000,497000,498000,499000,500000,501000,502000,503000,504000,505000,506000,507000,508000,509000,510000,511000,512000,513000,514000,515000,516000,517000,518000,519000,520000,521000,522000,523000,524000,525000,526000,527000,528000,529000,530000,531000,532000,533000,534000,535000,536000,537000,538000,539000,540000,541000,542000,543000,544000,545000,546000,547000,548000,549000,550000,551000,552000,553000,554000,555000,556000,557000,558000,559000,560000,561000,562000,563000,564000,565000,566000,567000,568000,569000,570000,571000,572000,573000,574000,575000,576000,577000,578000,579000,580000,581000,582000,583000,584000,585000,586000,587000,588000,589000,590000,591000,592000,593000,594000,595000,596000,597000,598000,599000,600000,601000,602000,603000,604000,605000,606000,607000,608000,609000,610000,611000,612000,613000,614000,615000,616000,617000,618000,619000,620000,621000,622000,623000,624000,625000,626000,627000,628000,629000,630000,631000,632000,633000,634000,635000,636000,637000,638000,639000,640000,641000,642000,643000,644000,645000,646000,647000,648000,649000,650000,651000,652000,653000,654000,655000,656000,657000,658000,659000,660000,661000,662000,663000,664000,665000,666000,667000,668000,669000,670000,671000,672000,673000,674000,675000,676000,677000,678000,679000,680000,681000,682000,683000,684000,685000,686000,687000,688000,689000,690000,691000,692000,693000,694000,695000,696000,697000,698000,699000,700000,701000,702000,703000,704000,705000,706000,707000,708000,709000,710000,711000,712000,713000,714000,715000,716000,717000,718000,719000,720000,721000,722000,723000,724000,725000,726000,727000,728000,729000,730000,731000,732000,733000,734000,735000,736000,737000,738000,739000,740000,741000,742000,743000,744000,745000,746000,747000,748000,749000,750000,751000,752000,753000,754000,755000,756000,757000,758000,759000,760000,761000,762000,763000,764000,765000,766000,767000,768000,769000,770000,771000,772000,773000,774000,775000,776000,777000,778000,779000,780000,781000,782000,783000,784000,785000,786000,787000,788000,789000,790000,791000,792000,793000,794000,795000,796000,797000,798000,799000,800000,801000,802000,803000,804000,805000,806000,807000,808000,809000,810000,811000,812000,813000,814000,815000,816000,817000,818000,819000,820000,821000,822000,823000,824000,825000,826000,827000,828000,829000,830000,831000,832000,833000,834000,835000,836000,837000,838000,839000,840000,841000,842000,843000,844000,845000,846000,847000,848000,849000,850000,851000,852000,853000,854000,855000,856000,857000,858000,859000,860000,861000,862000,863000,864000,865000,866000,867000,868000,869000,870000,871000,872000,873000,874000,875000,876000,877000,878000,879000,880000,881000,882000,883000,884000,885000,886000,887000,888000,889000,890000,891000,892000,893000,894000,895000,896000,897000,898000,899000,900000,901000,902000,903000,904000,905000,906000,907000,908000,909000,910000,911000,912000,913000,914000,915000,916000,917000,918000,919000,920000,921000,922000,923000,924000,925000,926000,927000,928000,929000,930000,931000,932000,933000,934000,935000,936000,937000,938000,939000,940000,941000,942000,943000,944000,945000,946000,947000,948000,949000,950000,951000,952000,953000,954000,955000,956000,957000,958000,959000,960000,961000,962000,963000,964000,965000,966000,967000,968000,969000,970000,971000,972000,973000,974000,975000,976000,977000,978000,979000,980000,981000,982000,983000,984000,985000,986000,987000,988000,989000,990000,991000,992000,993000,994000,995000,996000,997000,998000,999000,1000000,1000000,999000,998000,997000,996000,995000,994000,993000,992000,991000,990000,989000,988000,987000,986000,985000,984000,983000,982000,981000,980000,979000,978000,977000,976000,975000,974000,973000,972000,971000,970000,969000,968000,967000,966000,965000,964000,963000,962000,961000,960000,959000,958000,957000,956000,955000,954000,953000,952000,951000,950000,949000,948000,947000,946000,945000,944000,943000,942000,941000,940000,939000,938000,937000,936000,935000,934000,933000,932000,931000,930000,929000,928000,927000,926000,925000,924000,923000,922000,921000,920000,919000,918000,917000,916000,915000,914000,913000,912000,911000,910000,909000,908000,907000,906000,905000,904000,903000,902000,901000,900000,899000,898000,897000,896000,895000,894000,893000,892000,891000,890000,889000,888000,887000,886000,885000,884000,883000,882000,881000,880000,879000,878000,877000,876000,875000,874000,873000,872000,871000,870000,869000,868000,867000,866000,865000,864000,863000,862000,861000,860000,859000,858000,857000,856000,855000,854000,853000,852000,851000,850000,849000,848000,847000,846000,845000,844000,843000,842000,841000,840000,839000,838000,837000,836000,835000,834000,833000,832000,831000,830000,829000,828000,827000,826000,825000,824000,823000,822000,821000,820000,819000,818000,817000,816000,815000,814000,813000,812000,811000,810000,809000,808000,807000,806000,805000,804000,803000,802000,801000,800000,799000,798000,797000,796000,795000,794000,793000,792000,791000,790000,789000,788000,787000,786000,785000,784000,783000,782000,781000,780000,779000,778000,777000,776000,775000,774000,773000,772000,771000,770000,769000,768000,767000,766000,765000,764000,763000,762000,761000,760000,759000,758000,757000,756000,755000,754000,753000,752000,751000,750000,749000,748000,747000,746000,745000,744000,743000,742000,741000,740000,739000,738000,737000,736000,735000,734000,733000,732000,731000,730000,729000,728000,727000,726000,725000,724000,723000,722000,721000,720000,719000,718000,717000,716000,715000,714000,713000,712000,711000,710000,709000,708000,707000,706000,705000,704000,703000,702000,701000,700000,699000,698000,697000,696000,695000,694000,693000,692000,691000,690000,689000,688000,687000,686000,685000,684000,683000,682000,681000,680000,679000,678000,677000,676000,675000,674000,673000,672000,671000,670000,669000,668000,667000,666000,665000,664000,663000,662000,661000,660000,659000,658000,657000,656000,655000,654000,653000,652000,651000,650000,649000,648000,647000,646000,645000,644000,643000,642000,641000,640000,639000,638000,637000,636000,635000,634000,633000,632000,631000,630000,629000,628000,627000,626000,625000,624000,623000,622000,621000,620000,619000,618000,617000,616000,615000,614000,613000,612000,611000,610000,609000,608000,607000,606000,605000,604000,603000,602000,601000,600000,599000,598000,597000,596000,595000,594000,593000,592000,591000,590000,589000,588000,587000,586000,585000,584000,583000,582000,581000,580000,579000,578000,577000,576000,575000,574000,573000,572000,571000,570000,569000,568000,567000,566000,565000,564000,563000,562000,561000,560000,559000,558000,557000,556000,555000,554000,553000,552000,551000,550000,549000,548000,547000,546000,545000,544000,543000,542000,541000,540000,539000,538000,537000,536000,535000,534000,533000,532000,531000,530000,529000,528000,527000,526000,525000,524000,523000,522000,521000,520000,519000,518000,517000,516000,515000,514000,513000,512000,511000,510000,509000,508000,507000,506000,505000,504000,503000,502000,501000,500000,499000,498000,497000,496000,495000,494000,493000,492000,491000,490000,489000,488000,487000,486000,485000,484000,483000,482000,481000,480000,479000,478000,477000,476000,475000,474000,473000,472000,471000,470000,469000,468000,467000,466000,465000,464000,463000,462000,461000,460000,459000,458000,457000,456000,455000,454000,453000,452000,451000,450000,449000,448000,447000,446000,445000,444000,443000,442000,441000,440000,439000,438000,437000,436000,435000,434000,433000,432000,431000,430000,429000,428000,427000,426000,425000,424000,423000,422000,421000,420000,419000,418000,417000,416000,415000,414000,413000,412000,411000,410000,409000,408000,407000,406000,405000,404000,403000,402000,401000,400000,399000,398000,397000,396000,395000,394000,393000,392000,391000,390000,389000,388000,387000,386000,385000,384000,383000,382000,381000,380000,379000,378000,377000,376000,375000,374000,373000,372000,371000,370000,369000,368000,367000,366000,365000,364000,363000,362000,361000,360000,359000,358000,357000,356000,355000,354000,353000,352000,351000,350000,349000,348000,347000,346000,345000,344000,343000,342000,341000,340000,339000,338000,337000,336000,335000,334000,333000,332000,331000,330000,329000,328000,327000,326000,325000,324000,323000,322000,321000,320000,319000,318000,317000,316000,315000,314000,313000,312000,311000,310000,309000,308000,307000,306000,305000,304000,303000,302000,301000,300000,299000,298000,297000,296000,295000,294000,293000,292000,291000,290000,289000,288000,287000,286000,285000,284000,283000,282000,281000,280000,279000,278000,277000,276000,275000,274000,273000,272000,271000,270000,269000,268000,267000,266000,265000,264000,263000,262000,261000,260000,259000,258000,257000,256000,255000,254000,253000,252000,251000,250000,249000,248000,247000,246000,245000,244000,243000,242000,241000,240000,239000,238000,237000,236000,235000,234000,233000,232000,231000,230000,229000,228000,227000,226000,225000,224000,223000,222000,221000,220000,219000,218000,217000,216000,215000,214000,213000,212000,211000,210000,209000,208000,207000,206000,205000,204000,203000,202000,201000,200000,199000,198000,197000,196000,195000,194000,193000,192000,191000,190000,189000,188000,187000,186000,185000,184000,183000,182000,181000,180000,179000,178000,177000,176000,175000,174000,173000,172000,171000,170000,169000,168000,167000,166000,165000,164000,163000,162000,161000,160000,159000,158000,157000,156000,155000,154000,153000,152000,151000,150000,149000,148000,147000,146000,145000,144000,143000,142000,141000,140000,139000,138000,137000,136000,135000,134000,133000,132000,131000,130000,129000,128000,127000,126000,125000,124000,123000,122000,121000,120000,119000,118000,117000,116000,115000,114000,113000,112000,111000,110000,109000,108000,107000,106000,105000,104000,103000,102000,101000,100000,99000,98000,97000,96000,95000,94000,93000,92000,91000,90000,89000,88000,87000,86000,85000,84000,83000,82000,81000,80000,79000,78000,77000,76000,75000,74000,73000,72000,71000,70000,69000,68000,67000,66000,65000,64000,63000,62000,61000,60000,59000,58000,57000,56000,55000,54000,53000,52000,51000,50000,49000,48000,47000,46000,45000,44000,43000,42000,41000,40000,39000,38000,37000,36000,35000,34000,33000,32000,31000,30000,29000,28000,27000,26000,25000,24000,23000,22000,21000,20000,19000,18000,17000,16000,15000,14000,13000,12000,11000,10000,9000,8000,7000,6000,5000,4000,3000,2000,1000,0],\"y\":[1,72,94,128,142,172,179,179,179,179,215,216,217,217,219,219,219,276,329,390,391,391,392,392,392,392,393,420,420,420,421,421,421,421,421,421,421,421,421,421,422,422,422,422,422,461,461,461,461,461,462,462,462,462,462,462,462,462,462,462,463,463,463,463,463,463,463,463,463,463,464,464,464,464,464,464,464,464,464,464,466,466,466,466,466,466,466,466,466,466,467,474,474,474,474,474,474,529,535,535,536,536,536,536,536,635,643,644,676,676,677,677,677,693,693,693,693,693,693,693,694,727,727,727,728,728,728,728,728,728,729,747,753,753,753,753,753,753,753,753,754,754,754,754,754,754,754,754,754,754,755,755,755,755,755,755,755,755,755,755,756,756,756,756,756,756,756,756,756,756,757,757,757,757,757,757,757,757,757,757,758,758,758,758,758,758,758,758,758,758,759,759,759,759,759,759,759,759,759,759,760,760,760,760,760,760,760,760,760,760,761,761,761,761,761,761,761,761,761,761,762,762,762,762,762,762,762,762,762,762,763,763,763,763,763,763,763,763,763,763,764,764,764,764,764,764,764,764,764,764,765,765,765,765,765,765,765,765,765,765,766,766,766,766,766,766,766,766,766,766,767,767,767,767,767,892,892,892,892,892,906,945,946,948,952,952,952,952,952,952,953,953,953,953,953,959,959,959,959,959,960,960,960,960,960,960,960,960,960,960,961,961,961,961,961,961,961,961,961,961,962,962,962,962,962,962,962,962,962,962,963,963,963,963,963,963,963,963,963,963,964,964,964,964,964,964,964,964,964,964,965,965,965,965,965,965,965,965,965,965,966,966,966,966,966,966,966,966,966,966,967,967,967,967,967,967,967,967,967,967,968,968,968,968,968,968,968,968,968,968,969,969,969,969,969,969,969,969,969,969,970,970,970,970,970,970,970,970,970,970,971,971,971,971,971,971,971,971,971,971,972,972,972,972,972,972,972,972,972,972,973,973,973,973,973,973,973,973,973,973,974,974,1021,1117,1120,1121,1121,1121,1122,1201,1272,1272,1272,1272,1272,1272,1272,1272,1272,1272,1273,1273,1273,1273,1273,1273,1273,1273,1273,1273,1274,1274,1274,1275,1277,1277,1277,1277,1277,1277,1278,1278,1278,1278,1278,1278,1278,1278,1278,1278,1279,1279,1279,1279,1279,1279,1279,1279,1279,1279,1281,1281,1281,1281,1281,1281,1281,1281,1333,1501,1509,1518,1519,1519,1519,1519,1519,1519,1519,1520,1523,1523,1523,1523,1523,1528,1528,1528,1528,1528,1529,1529,1529,1529,1539,1539,1550,1550,1550,1550,1551,1551,1551,1551,1551,1551,1551,1551,1551,1551,1552,1552,1552,1552,1552,1552,1552,1552,1552,1552,1553,1553,1553,1553,1553,1553,1553,1553,1553,1553,1554,1554,1554,1554,1554,1554,1554,1554,1554,1554,1555,1555,1555,1555,1555,1555,1555,1555,1555,1555,1556,1556,1556,1556,1556,1556,1556,1556,1556,1556,1557,1557,1557,1557,1557,1557,1557,1557,1557,1557,1558,1558,1558,1558,1558,1558,1558,1558,1558,1558,1559,1559,1559,1559,1559,1559,1559,1559,1559,1559,1560,1560,1560,1560,1560,1560,1560,1560,1560,1560,1561,1561,1561,1561,1561,1561,1561,1561,1561,1561,1562,1562,1562,1562,1562,1562,1562,1562,1562,1562,1563,1563,1563,1563,1563,1563,1563,1563,1563,1563,1564,1564,1564,1564,1564,1564,1564,1564,1564,1564,1565,1565,1565,1565,1565,1565,1565,1565,1565,1565,1566,1566,1566,1566,1566,1566,1566,1566,1566,1566,1567,1567,1567,1567,1567,1567,1567,1567,1567,1567,1568,1568,1568,1568,1568,1568,1568,1568,1568,1568,1569,1569,1569,1569,1569,1569,1569,1569,1569,1569,1570,1570,1570,1570,1570,1570,1570,1570,1570,1570,1571,1571,1571,1571,1571,1571,1571,1571,1571,1571,1572,1572,1572,1572,1572,1572,1572,1572,1572,1572,1573,1573,1573,1573,1573,1573,1573,1573,1573,1573,1574,1574,1574,1574,1574,1574,1574,1574,1574,1574,1575,1575,1575,1575,1575,1575,1575,1575,1575,1575,1576,1576,1576,1576,1576,1576,1576,1576,1576,1576,1577,1577,1577,1577,1577,1577,1577,1577,1577,1577,1578,1578,1578,1578,1578,1578,1578,1578,1578,1578,1579,1579,1579,1579,1579,1579,1579,1579,1579,1579,1580,1580,1580,1580,1580,1580,1580,1580,1580,1580,1581,1581,1581,1581,1581,1581,1581,1581,1581,1581,1582,1582,1582,1582,1582,1582,1582,1582,1582,1582,1583,1583,1583,1583,1583,1583,1583,1583,1583,1583,1584,1584,1584,1584,1584,1584,1584,1584,1584,1584,1585,1585,1585,1585,1585,1585,1585,1585,1585,1585,1586,1586,1586,1586,1586,1586,1586,1586,1586,1586,1587,1587,1587,1587,1587,1587,1587,1587,1587,1587,1588,1588,1588,1588,1588,1588,1588,1588,1588,1588,1589,1589,1589,1589,1589,1589,1589,1589,1589,1589,1590,1590,1590,1590,1590,1590,1590,1590,1590,1590,1591,1591,1591,1591,1591,1591,1591,1591,1591,1591,1592,1592,1592,1592,1592,1592,1592,1592,1592,1592,1593,1593,1593,1593,1593,1593,1593,1593,1593,1593,1594,1594,1594,1594,1594,1594,1594,1594,1594,1594,1595,1595,1595,1595,1595,1595,1595,1595,1595,1595,1596,1596,1596,1596,1596,1596,1596,1596,1596,1596,1996,1996,1996,1996,1996,1996,1996,1996,1996,1996,1995,1995,1995,1995,1995,1995,1995,1995,1995,1995,1994,1994,1994,1994,1994,1994,1994,1994,1994,1994,1993,1993,1993,1993,1993,1993,1993,1993,1993,1993,1992,1992,1992,1992,1992,1992,1992,1992,1992,1992,1992,1992,1992,1992,1992,1992,1992,1992,1992,1992,1991,1991,1991,1991,1991,1991,1991,1991,1991,1991,1990,1990,1990,1990,1990,1990,1990,1990,1990,1990,1990,1990,1990,1990,1990,1990,1990,1990,1990,1990,1989,1989,1989,1989,1989,1989,1989,1989,1989,1989,1988,1988,1988,1988,1988,1988,1988,1988,1988,1988,1987,1987,1987,1987,1987,1987,1987,1987,1987,1987,1986,1986,1986,1986,1986,1986,1986,1986,1986,1986,1985,1985,1985,1985,1985,1985,1985,1985,1985,1985,1984,1984,1984,1984,1984,1984,1984,1984,1984,1984,1983,1983,1983,1983,1983,1983,1983,1983,1983,1983,1982,1982,1982,1982,1982,1982,1982,1982,1982,1982,1981,1981,1981,1981,1981,1981,1981,1981,1981,1981,1980,1980,1980,1980,1980,1980,1980,1980,1980,1980,1979,1979,1979,1979,1979,1979,1979,1979,1979,1979,1978,1978,1978,1978,1978,1978,1978,1978,1978,1978,1977,1977,1977,1977,1977,1977,1977,1977,1977,1977,1976,1976,1976,1976,1976,1976,1976,1976,1976,1976,1975,1975,1975,1975,1975,1975,1975,1975,1975,1975,1974,1974,1974,1974,1974,1974,1974,1974,1974,1974,1973,1973,1973,1973,1973,1973,1973,1973,1973,1973,1973,1973,1973,1973,1973,1973,1973,1973,1973,1973,1972,1972,1972,1972,1972,1972,1972,1972,1972,1972,1971,1971,1971,1971,1971,1971,1971,1971,1971,1971,1970,1970,1970,1970,1970,1970,1970,1970,1970,1970,1969,1969,1969,1969,1969,1969,1969,1969,1969,1969,1968,1968,1968,1968,1968,1968,1968,1968,1968,1968,1967,1967,1967,1967,1967,1967,1967,1967,1967,1967,1966,1966,1966,1966,1966,1966,1966,1966,1966,1966,1965,1965,1965,1965,1965,1965,1965,1965,1965,1965,1964,1964,1964,1964,1964,1964,1964,1964,1964,1964,1963,1963,1963,1963,1963,1963,1963,1963,1963,1963,1962,1962,1962,1962,1962,1962,1962,1962,1962,1962,1961,1961,1961,1961,1961,1961,1961,1961,1961,1961,1960,1960,1960,1960,1960,1960,1960,1960,1960,1960,1959,1959,1959,1959,1959,1959,1959,1959,1959,1959,1958,1958,1958,1958,1958,1958,1958,1958,1958,1958,1957,1957,1957,1957,1957,1957,1957,1957,1957,1957,1956,1956,1956,1956,1956,1956,1956,1956,1956,1956,1955,1955,1955,1955,1955,1955,1955,1955,1955,1955,1954,1954,1954,1954,1954,1954,1954,1954,1954,1954,1953,1953,1953,1953,1953,1953,1953,1953,1953,1953,1952,1952,1952,1952,1952,1952,1952,1952,1952,1952,1951,1951,1951,1951,1951,1951,1951,1951,1951,1951,1950,1950,1950,1950,1950,1950,1950,1950,1950,1950,1949,1949,1949,1949,1949,1949,1949,1949,1949,1949,1948,1948,1948,1948,1948,1948,1948,1948,1948,1948,1947,1947,1947,1947,1947,1947,1947,1947,1947,1947,1946,1946,1946,1946,1946,1946,1946,1946,1946,1946,1945,1945,1945,1945,1945,1945,1945,1945,1945,1945,1944,1944,1944,1944,1944,1944,1944,1944,1944,1944,1943,1943,1943,1943,1943,1943,1943,1943,1943,1943,1942,1942,1942,1942,1942,1942,1942,1942,1942,1942,1941,1941,1941,1941,1941,1941,1941,1941,1941,1941,1940,1940,1940,1940,1940,1940,1940,1940,1940,1940,1939,1939,1939,1939,1939,1939,1939,1939,1939,1939,1938,1938,1938,1938,1938,1938,1938,1938,1938,1938,1937,1937,1937,1937,1937,1937,1937,1937,1937,1937,1936,1936,1936,1936,1936,1936,1936,1936,1936,1936,1935,1935,1935,1935,1935,1935,1935,1935,1935,1935,1934,1934,1934,1934,1934,1934,1934,1934,1934,1934,1933,1933,1933,1933,1933,1933,1933,1933,1933,1933,1932,1932,1932,1932,1932,1932,1932,1932,1932,1932,1931,1931,1931,1931,1931,1931,1930,1926,1926,1926,1925,1925,1925,1925,1925,1925,1925,1925,1925,1925,1924,1924,1924,1924,1924,1924,1924,1924,1924,1924,1923,1923,1923,1923,1923,1923,1923,1923,1923,1923,1922,1922,1922,1922,1922,1922,1922,1922,1922,1922,1921,1921,1921,1921,1921,1921,1921,1921,1921,1921,1920,1920,1920,1920,1920,1920,1919,1916,1916,1916,1915,1915,1915,1915,1910,1910,1910,1910,1910,1910,1909,1909,1909,1909,1909,1909,1909,1909,1909,1909,1908,1908,1908,1908,1908,1905,1900,1900,1900,1900,1899,1899,1899,1899,1899,1899,1899,1899,1899,1899,1898,1898,1898,1898,1898,1898,1898,1898,1898,1898,1897,1897,1897,1897,1897,1897,1897,1897,1897,1897,1896,1896,1896,1896,1896,1896,1896,1896,1896,1896,1895,1895,1895,1895,1895,1895,1895,1895,1895,1895,1894,1894,1894,1894,1894,1877,1877,1877,1877,1877,1858,1770,1761,1761,1761,1761,1761,1761,1761,1761,1721,1721,1721,1720,1718,1714,1642,1629,1629,1629,1628,1628,1628,1628,1628,1628,1628,1628,1628,1628,1627,1627,1627,1627,1627,1627,1627,1627,1627,1627,1626,1626,1626,1626,1626,1626,1626,1621,1559,1538,1522,1501,1501,1501,1501,1501,1501,1501,1501,1501,1496,1492,1492,1489,1489,1489,1477,1477,1477,1476,1401,1323,1265,1223,1223,1223,1223,1218,1218,1218,1217,1207,1207,1207,1207,1207,1207,1207,1207,1207,1204,1204,1204,1187,1187,1187,1187,1178,1169,1116,1115,1115,1115,1115,1115,1115,1115,1115,1115,1115,1110,1099,1030,1030,1030,1003,1003,1003,1002,999,987,987,987,986,986,986,986,970,952,950,927,927,922,921,921,866,835,796,775,688,687,679,679,678,678,678,670,668,652,628,572,572,549,464,446,414,338,256,151,1]}},\"id\":\"c3cbc50e-464c-4367-aa8f-abc416cd4ec8\",\"type\":\"ColumnDataSource\"},{\"attributes\":{\"below\":[{\"id\":\"221027e7-0b04-400e-a8e3-a2da59ca77c9\",\"type\":\"LinearAxis\"}],\"left\":[{\"id\":\"a761974c-ade0-4c6b-94ad-611cb6fd37de\",\"type\":\"LinearAxis\"}],\"plot_height\":800,\"plot_width\":1200,\"renderers\":[{\"id\":\"221027e7-0b04-400e-a8e3-a2da59ca77c9\",\"type\":\"LinearAxis\"},{\"id\":\"667d2d54-417e-4c3e-8d98-86e90046ed27\",\"type\":\"Grid\"},{\"id\":\"a761974c-ade0-4c6b-94ad-611cb6fd37de\",\"type\":\"LinearAxis\"},{\"id\":\"9c82683a-fb67-4388-b71d-ccaaf8473bab\",\"type\":\"Grid\"},{\"id\":\"44c6746e-e435-4ac8-987e-8d34d85e16a5\",\"type\":\"BoxAnnotation\"},{\"id\":\"cfd1ae12-5aad-4c2e-8571-4f11500e768b\",\"type\":\"GlyphRenderer\"},{\"id\":\"8be1da02-f488-490b-9c38-6b9383516d7e\",\"type\":\"GlyphRenderer\"},{\"id\":\"780d5722-d694-47fa-a9b5-89d6eb042bb6\",\"type\":\"GlyphRenderer\"},{\"id\":\"e2b16297-3820-43d4-9390-057e56eaf08d\",\"type\":\"GlyphRenderer\"},{\"id\":\"93ba3af8-0aaa-45b7-99d8-cdd3231b4526\",\"type\":\"GlyphRenderer\"},{\"id\":\"61f3d7a4-1f72-457e-91d0-73e2645b1445\",\"type\":\"GlyphRenderer\"},{\"id\":\"fa565739-4bdc-4b3e-9f58-85fc6444902f\",\"type\":\"GlyphRenderer\"},{\"id\":\"5329c3b5-67f1-4960-b0b8-3a32dfe13caf\",\"type\":\"GlyphRenderer\"},{\"id\":\"113d109b-d675-43ef-9967-e5cf4bfae603\",\"type\":\"Legend\"}],\"right\":[{\"id\":\"113d109b-d675-43ef-9967-e5cf4bfae603\",\"type\":\"Legend\"}],\"title\":{\"id\":\"5b77c9df-079b-4ffe-96fe-4c151aee2b0b\",\"type\":\"Title\"},\"tool_events\":{\"id\":\"610d5c24-ac54-42b2-aba3-336225909acf\",\"type\":\"ToolEvents\"},\"toolbar\":{\"id\":\"232f971a-77a4-4ef2-b71c-467bfb5febd9\",\"type\":\"Toolbar\"},\"toolbar_location\":\"above\",\"x_range\":{\"id\":\"cc2dbe00-584e-4776-bb42-5b35ff5b5a5c\",\"type\":\"DataRange1d\"},\"y_range\":{\"id\":\"edd6a5f6-9f24-4578-b0aa-374715adb632\",\"type\":\"DataRange1d\"}},\"id\":\"dc62baf6-188f-46c1-8626-9f8cbd7f7ba1\",\"subtype\":\"Figure\",\"type\":\"Plot\"},{\"attributes\":{\"use_scientific\":false},\"id\":\"4445b8c5-346c-49ef-af7a-5c0296ae095f\",\"type\":\"BasicTickFormatter\"},{\"attributes\":{\"active_drag\":\"auto\",\"active_scroll\":\"auto\",\"active_tap\":\"auto\",\"tools\":[{\"id\":\"abf1a559-b5ee-4b54-b895-a3b723271820\",\"type\":\"PanTool\"},{\"id\":\"7119585c-4b14-4f39-b4ec-ba5452ea25a3\",\"type\":\"WheelZoomTool\"},{\"id\":\"1767b371-e5d6-4545-a32c-f47bf1cdec43\",\"type\":\"BoxZoomTool\"},{\"id\":\"bef6bc9b-4643-4dad-b444-1407f413bd8b\",\"type\":\"SaveTool\"},{\"id\":\"0d78eb50-e7a6-4ce2-94f4-3173d047085f\",\"type\":\"ResetTool\"},{\"id\":\"63a94990-d378-4b1e-b973-d4f57588a31c\",\"type\":\"HelpTool\"}]},\"id\":\"232f971a-77a4-4ef2-b71c-467bfb5febd9\",\"type\":\"Toolbar\"},{\"attributes\":{},\"id\":\"610d5c24-ac54-42b2-aba3-336225909acf\",\"type\":\"ToolEvents\"},{\"attributes\":{\"callback\":null},\"id\":\"cc2dbe00-584e-4776-bb42-5b35ff5b5a5c\",\"type\":\"DataRange1d\"},{\"attributes\":{\"fill_alpha\":{\"value\":0.1},\"fill_color\":{\"value\":\"#e41a1c\"},\"line_alpha\":{\"value\":0.1},\"line_color\":{\"value\":\"#e41a1c\"},\"x\":{\"field\":\"x\"},\"y\":{\"field\":\"y\"}},\"id\":\"19ec26d9-8ab5-44a2-93ab-216f110187e6\",\"type\":\"Patch\"},{\"attributes\":{\"plot\":null,\"text\":\"Med Maze 10 Uniform Baselines\"},\"id\":\"5b77c9df-079b-4ffe-96fe-4c151aee2b0b\",\"type\":\"Title\"},{\"attributes\":{},\"id\":\"f08a6f20-0c8b-4a5d-96d4-198c2c50be30\",\"type\":\"BasicTicker\"},{\"attributes\":{\"dimension\":1,\"plot\":{\"id\":\"dc62baf6-188f-46c1-8626-9f8cbd7f7ba1\",\"subtype\":\"Figure\",\"type\":\"Plot\"},\"ticker\":{\"id\":\"f08a6f20-0c8b-4a5d-96d4-198c2c50be30\",\"type\":\"BasicTicker\"}},\"id\":\"9c82683a-fb67-4388-b71d-ccaaf8473bab\",\"type\":\"Grid\"},{\"attributes\":{\"data_source\":{\"id\":\"e0bc61eb-486d-4d13-b7fc-65afda33bd5a\",\"type\":\"ColumnDataSource\"},\"glyph\":{\"id\":\"60a52d50-9f28-4b80-b449-e75f9d0f9e49\",\"type\":\"Line\"},\"hover_glyph\":null,\"nonselection_glyph\":{\"id\":\"909397da-a416-4873-8cb4-94a7d5f4896a\",\"type\":\"Line\"},\"selection_glyph\":null},\"id\":\"61f3d7a4-1f72-457e-91d0-73e2645b1445\",\"type\":\"GlyphRenderer\"},{\"attributes\":{\"line_color\":{\"value\":\"#984ea3\"},\"line_width\":{\"value\":2},\"x\":{\"field\":\"x\"},\"y\":{\"field\":\"y\"}},\"id\":\"a78a03bb-e3a7-474a-8110-f406e096cdc9\",\"type\":\"Line\"},{\"attributes\":{\"data_source\":{\"id\":\"1e2a4ca9-968e-485e-8fdc-230018c6b31e\",\"type\":\"ColumnDataSource\"},\"glyph\":{\"id\":\"fc1cfd9b-616f-4774-93d7-c405f36b159b\",\"type\":\"Patch\"},\"hover_glyph\":null,\"nonselection_glyph\":{\"id\":\"e19585de-edd1-46df-84a0-b4e1030c3047\",\"type\":\"Patch\"},\"selection_glyph\":null},\"id\":\"fa565739-4bdc-4b3e-9f58-85fc6444902f\",\"type\":\"GlyphRenderer\"},{\"attributes\":{\"callback\":null,\"column_names\":[\"x\",\"y\"],\"data\":{\"x\":[0,1000,2000,3000,4000,5000,6000,7000,8000,9000,10000,11000,12000,13000,14000,15000,16000,17000,18000,19000,20000,21000,22000,23000,24000,25000,26000,27000,28000,29000,30000,31000,32000,33000,34000,35000,36000,37000,38000,39000,40000,41000,42000,43000,44000,45000,46000,47000,48000,49000,50000,51000,52000,53000,54000,55000,56000,57000,58000,59000,60000,61000,62000,63000,64000,65000,66000,67000,68000,69000,70000,71000,72000,73000,74000,75000,76000,77000,78000,79000,80000,81000,82000,83000,84000,85000,86000,87000,88000,89000,90000,91000,92000,93000,94000,95000,96000,97000,98000,99000,100000,101000,102000,103000,104000,105000,106000,107000,108000,109000,110000,111000,112000,113000,114000,115000,116000,117000,118000,119000,120000,121000,122000,123000,124000,125000,126000,127000,128000,129000,130000,131000,132000,133000,134000,135000,136000,137000,138000,139000,140000,141000,142000,143000,144000,145000,146000,147000,148000,149000,150000,151000,152000,153000,154000,155000,156000,157000,158000,159000,160000,161000,162000,163000,164000,165000,166000,167000,168000,169000,170000,171000,172000,173000,174000,175000,176000,177000,178000,179000,180000,181000,182000,183000,184000,185000,186000,187000,188000,189000,190000,191000,192000,193000,194000,195000,196000,197000,198000,199000,200000,201000,202000,203000,204000,205000,206000,207000,208000,209000,210000,211000,212000,213000,214000,215000,216000,217000,218000,219000,220000,221000,222000,223000,224000,225000,226000,227000,228000,229000,230000,231000,232000,233000,234000,235000,236000,237000,238000,239000,240000,241000,242000,243000,244000,245000,246000,247000,248000,249000,250000,251000,252000,253000,254000,255000,256000,257000,258000,259000,260000,261000,262000,263000,264000,265000,266000,267000,268000,269000,270000,271000,272000,273000,274000,275000,276000,277000,278000,279000,280000,281000,282000,283000,284000,285000,286000,287000,288000,289000,290000,291000,292000,293000,294000,295000,296000,297000,298000,299000,300000,301000,302000,303000,304000,305000,306000,307000,308000,309000,310000,311000,312000,313000,314000,315000,316000,317000,318000,319000,320000,321000,322000,323000,324000,325000,326000,327000,328000,329000,330000,331000,332000,333000,334000,335000,336000,337000,338000,339000,340000,341000,342000,343000,344000,345000,346000,347000,348000,349000,350000,351000,352000,353000,354000,355000,356000,357000,358000,359000,360000,361000,362000,363000,364000,365000,366000,367000,368000,369000,370000,371000,372000,373000,374000,375000,376000,377000,378000,379000,380000,381000,382000,383000,384000,385000,386000,387000,388000,389000,390000,391000,392000,393000,394000,395000,396000,397000,398000,399000,400000,401000,402000,403000,404000,405000,406000,407000,408000,409000,410000,411000,412000,413000,414000,415000,416000,417000,418000,419000,420000,421000,422000,423000,424000,425000,426000,427000,428000,429000,430000,431000,432000,433000,434000,435000,436000,437000,438000,439000,440000,441000,442000,443000,444000,445000,446000,447000,448000,449000,450000,451000,452000,453000,454000,455000,456000,457000,458000,459000,460000,461000,462000,463000,464000,465000,466000,467000,468000,469000,470000,471000,472000,473000,474000,475000,476000,477000,478000,479000,480000,481000,482000,483000,484000,485000,486000,487000,488000,489000,490000,491000,492000,493000,494000,495000,496000,497000,498000,499000,500000,501000,502000,503000,504000,505000,506000,507000,508000,509000,510000,511000,512000,513000,514000,515000,516000,517000,518000,519000,520000,521000,522000,523000,524000,525000,526000,527000,528000,529000,530000,531000,532000,533000,534000,535000,536000,537000,538000,539000,540000,541000,542000,543000,544000,545000,546000,547000,548000,549000,550000,551000,552000,553000,554000,555000,556000,557000,558000,559000,560000,561000,562000,563000,564000,565000,566000,567000,568000,569000,570000,571000,572000,573000,574000,575000,576000,577000,578000,579000,580000,581000,582000,583000,584000,585000,586000,587000,588000,589000,590000,591000,592000,593000,594000,595000,596000,597000,598000,599000,600000,601000,602000,603000,604000,605000,606000,607000,608000,609000,610000,611000,612000,613000,614000,615000,616000,617000,618000,619000,620000,621000,622000,623000,624000,625000,626000,627000,628000,629000,630000,631000,632000,633000,634000,635000,636000,637000,638000,639000,640000,641000,642000,643000,644000,645000,646000,647000,648000,649000,650000,651000,652000,653000,654000,655000,656000,657000,658000,659000,660000,661000,662000,663000,664000,665000,666000,667000,668000,669000,670000,671000,672000,673000,674000,675000,676000,677000,678000,679000,680000,681000,682000,683000,684000,685000,686000,687000,688000,689000,690000,691000,692000,693000,694000,695000,696000,697000,698000,699000,700000,701000,702000,703000,704000,705000,706000,707000,708000,709000,710000,711000,712000,713000,714000,715000,716000,717000,718000,719000,720000,721000,722000,723000,724000,725000,726000,727000,728000,729000,730000,731000,732000,733000,734000,735000,736000,737000,738000,739000,740000,741000,742000,743000,744000,745000,746000,747000,748000,749000,750000,751000,752000,753000,754000,755000,756000,757000,758000,759000,760000,761000,762000,763000,764000,765000,766000,767000,768000,769000,770000,771000,772000,773000,774000,775000,776000,777000,778000,779000,780000,781000,782000,783000,784000,785000,786000,787000,788000,789000,790000,791000,792000,793000,794000,795000,796000,797000,798000,799000,800000,801000,802000,803000,804000,805000,806000,807000,808000,809000,810000,811000,812000,813000,814000,815000,816000,817000,818000,819000,820000,821000,822000,823000,824000,825000,826000,827000,828000,829000,830000,831000,832000,833000,834000,835000,836000,837000,838000,839000,840000,841000,842000,843000,844000,845000,846000,847000,848000,849000,850000,851000,852000,853000,854000,855000,856000,857000,858000,859000,860000,861000,862000,863000,864000,865000,866000,867000,868000,869000,870000,871000,872000,873000,874000,875000,876000,877000,878000,879000,880000,881000,882000,883000,884000,885000,886000,887000,888000,889000,890000,891000,892000,893000,894000,895000,896000,897000,898000,899000,900000,901000,902000,903000,904000,905000,906000,907000,908000,909000,910000,911000,912000,913000,914000,915000,916000,917000,918000,919000,920000,921000,922000,923000,924000,925000,926000,927000,928000,929000,930000,931000,932000,933000,934000,935000,936000,937000,938000,939000,940000,941000,942000,943000,944000,945000,946000,947000,948000,949000,950000,951000,952000,953000,954000,955000,956000,957000,958000,959000,960000,961000,962000,963000,964000,965000,966000,967000,968000,969000,970000,971000,972000,973000,974000,975000,976000,977000,978000,979000,980000,981000,982000,983000,984000,985000,986000,987000,988000,989000,990000,991000,992000,993000,994000,995000,996000,997000,998000,999000,1000000],\"y\":{\"__ndarray__\":\"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\",\"dtype\":\"float64\",\"shape\":[1000]}}},\"id\":\"e0bc61eb-486d-4d13-b7fc-65afda33bd5a\",\"type\":\"ColumnDataSource\"},{\"attributes\":{\"data_source\":{\"id\":\"c3cbc50e-464c-4367-aa8f-abc416cd4ec8\",\"type\":\"ColumnDataSource\"},\"glyph\":{\"id\":\"19ec26d9-8ab5-44a2-93ab-216f110187e6\",\"type\":\"Patch\"},\"hover_glyph\":null,\"nonselection_glyph\":{\"id\":\"f05be97b-c253-45e5-9cf7-929f3ea50a68\",\"type\":\"Patch\"},\"selection_glyph\":null},\"id\":\"cfd1ae12-5aad-4c2e-8571-4f11500e768b\",\"type\":\"GlyphRenderer\"},{\"attributes\":{\"data_source\":{\"id\":\"21b5f0ba-fd87-4daf-92af-59554643f61d\",\"type\":\"ColumnDataSource\"},\"glyph\":{\"id\":\"a78a03bb-e3a7-474a-8110-f406e096cdc9\",\"type\":\"Line\"},\"hover_glyph\":null,\"nonselection_glyph\":{\"id\":\"3040b92f-c3c6-4c7d-a70e-3866eaf97673\",\"type\":\"Line\"},\"selection_glyph\":null},\"id\":\"5329c3b5-67f1-4960-b0b8-3a32dfe13caf\",\"type\":\"GlyphRenderer\"},{\"attributes\":{\"fill_alpha\":{\"value\":0.1},\"fill_color\":{\"value\":\"#1f77b4\"},\"line_alpha\":{\"value\":0.1},\"line_color\":{\"value\":\"#1f77b4\"},\"x\":{\"field\":\"x\"},\"y\":{\"field\":\"y\"}},\"id\":\"e19585de-edd1-46df-84a0-b4e1030c3047\",\"type\":\"Patch\"},{\"attributes\":{\"fill_alpha\":{\"value\":0.1},\"fill_color\":{\"value\":\"#4daf4a\"},\"line_alpha\":{\"value\":0.1},\"line_color\":{\"value\":\"#4daf4a\"},\"x\":{\"field\":\"x\"},\"y\":{\"field\":\"y\"}},\"id\":\"13179cd4-2449-45be-a61f-f45ca4dd4c54\",\"type\":\"Patch\"},{\"attributes\":{\"data_source\":{\"id\":\"c16a68c7-c48a-4082-bd6a-0d977706992e\",\"type\":\"ColumnDataSource\"},\"glyph\":{\"id\":\"555d5f9c-1b13-4b13-8d5a-e2e29c6693e3\",\"type\":\"Patch\"},\"hover_glyph\":null,\"nonselection_glyph\":{\"id\":\"f125de25-43dc-4ab1-9de5-f8c0caa3b299\",\"type\":\"Patch\"},\"selection_glyph\":null},\"id\":\"780d5722-d694-47fa-a9b5-89d6eb042bb6\",\"type\":\"GlyphRenderer\"},{\"attributes\":{\"axis_label\":\"States visited\",\"formatter\":{\"id\":\"f55f0f88-d822-4cc2-b2f3-4a301f82b4a2\",\"type\":\"BasicTickFormatter\"},\"plot\":{\"id\":\"dc62baf6-188f-46c1-8626-9f8cbd7f7ba1\",\"subtype\":\"Figure\",\"type\":\"Plot\"},\"ticker\":{\"id\":\"f08a6f20-0c8b-4a5d-96d4-198c2c50be30\",\"type\":\"BasicTicker\"}},\"id\":\"a761974c-ade0-4c6b-94ad-611cb6fd37de\",\"type\":\"LinearAxis\"},{\"attributes\":{\"line_alpha\":{\"value\":0.1},\"line_color\":{\"value\":\"#1f77b4\"},\"line_width\":{\"value\":2},\"x\":{\"field\":\"x\"},\"y\":{\"field\":\"y\"}},\"id\":\"2a2d266e-7c02-47ff-a41f-2d8da27eddaa\",\"type\":\"Line\"},{\"attributes\":{\"line_color\":{\"value\":\"#e41a1c\"},\"line_width\":{\"value\":2},\"x\":{\"field\":\"x\"},\"y\":{\"field\":\"y\"}},\"id\":\"cb825bfe-7319-4f17-82fb-735eda274818\",\"type\":\"Line\"},{\"attributes\":{\"overlay\":{\"id\":\"44c6746e-e435-4ac8-987e-8d34d85e16a5\",\"type\":\"BoxAnnotation\"},\"plot\":{\"id\":\"dc62baf6-188f-46c1-8626-9f8cbd7f7ba1\",\"subtype\":\"Figure\",\"type\":\"Plot\"}},\"id\":\"1767b371-e5d6-4545-a32c-f47bf1cdec43\",\"type\":\"BoxZoomTool\"},{\"attributes\":{\"line_color\":{\"value\":\"#377eb8\"},\"line_width\":{\"value\":2},\"x\":{\"field\":\"x\"},\"y\":{\"field\":\"y\"}},\"id\":\"cdfcdb1d-535b-4ba5-8ba5-228bb3a8cc04\",\"type\":\"Line\"},{\"attributes\":{\"label\":{\"value\":\"100k XpSize\"},\"renderers\":[{\"id\":\"e2b16297-3820-43d4-9390-057e56eaf08d\",\"type\":\"GlyphRenderer\"}]},\"id\":\"bc370774-68ed-48b7-ab95-4025c3cd3229\",\"type\":\"LegendItem\"},{\"attributes\":{\"line_color\":{\"value\":\"#4daf4a\"},\"line_width\":{\"value\":2},\"x\":{\"field\":\"x\"},\"y\":{\"field\":\"y\"}},\"id\":\"60a52d50-9f28-4b80-b449-e75f9d0f9e49\",\"type\":\"Line\"},{\"attributes\":{\"fill_alpha\":{\"value\":0.1},\"fill_color\":{\"value\":\"#377eb8\"},\"line_alpha\":{\"value\":0.1},\"line_color\":{\"value\":\"#377eb8\"},\"x\":{\"field\":\"x\"},\"y\":{\"field\":\"y\"}},\"id\":\"555d5f9c-1b13-4b13-8d5a-e2e29c6693e3\",\"type\":\"Patch\"},{\"attributes\":{\"line_alpha\":{\"value\":0.1},\"line_color\":{\"value\":\"#1f77b4\"},\"line_width\":{\"value\":2},\"x\":{\"field\":\"x\"},\"y\":{\"field\":\"y\"}},\"id\":\"909397da-a416-4873-8cb4-94a7d5f4896a\",\"type\":\"Line\"},{\"attributes\":{\"callback\":null,\"column_names\":[\"x\",\"y\"],\"data\":{\"x\":[0,1000,2000,3000,4000,5000,6000,7000,8000,9000,10000,11000,12000,13000,14000,15000,16000,17000,18000,19000,20000,21000,22000,23000,24000,25000,26000,27000,28000,29000,30000,31000,32000,33000,34000,35000,36000,37000,38000,39000,40000,41000,42000,43000,44000,45000,46000,47000,48000,49000,50000,51000,52000,53000,54000,55000,56000,57000,58000,59000,60000,61000,62000,63000,64000,65000,66000,67000,68000,69000,70000,71000,72000,73000,74000,75000,76000,77000,78000,79000,80000,81000,82000,83000,84000,85000,86000,87000,88000,89000,90000,91000,92000,93000,94000,95000,96000,97000,98000,99000,100000,101000,102000,103000,104000,105000,106000,107000,108000,109000,110000,111000,112000,113000,114000,115000,116000,117000,118000,119000,120000,121000,122000,123000,124000,125000,126000,127000,128000,129000,130000,131000,132000,133000,134000,135000,136000,137000,138000,139000,140000,141000,142000,143000,144000,145000,146000,147000,148000,149000,150000,151000,152000,153000,154000,155000,156000,157000,158000,159000,160000,161000,162000,163000,164000,165000,166000,167000,168000,169000,170000,171000,172000,173000,174000,175000,176000,177000,178000,179000,180000,181000,182000,183000,184000,185000,186000,187000,188000,189000,190000,191000,192000,193000,194000,195000,196000,197000,198000,199000,200000,201000,202000,203000,204000,205000,206000,207000,208000,209000,210000,211000,212000,213000,214000,215000,216000,217000,218000,219000,220000,221000,222000,223000,224000,225000,226000,227000,228000,229000,230000,231000,232000,233000,234000,235000,236000,237000,238000,239000,240000,241000,242000,243000,244000,245000,246000,247000,248000,249000,250000,251000,252000,253000,254000,255000,256000,257000,258000,259000,260000,261000,262000,263000,264000,265000,266000,267000,268000,269000,270000,271000,272000,273000,274000,275000,276000,277000,278000,279000,280000,281000,282000,283000,284000,285000,286000,287000,288000,289000,290000,291000,292000,293000,294000,295000,296000,297000,298000,299000,300000,301000,302000,303000,304000,305000,306000,307000,308000,309000,310000,311000,312000,313000,314000,315000,316000,317000,318000,319000,320000,321000,322000,323000,324000,325000,326000,327000,328000,329000,330000,331000,332000,333000,334000,335000,336000,337000,338000,339000,340000,341000,342000,343000,344000,345000,346000,347000,348000,349000,350000,351000,352000,353000,354000,355000,356000,357000,358000,359000,360000,361000,362000,363000,364000,365000,366000,367000,368000,369000,370000,371000,372000,373000,374000,375000,376000,377000,378000,379000,380000,381000,382000,383000,384000,385000,386000,387000,388000,389000,390000,391000,392000,393000,394000,395000,396000,397000,398000,399000,400000,401000,402000,403000,404000,405000,406000,407000,408000,409000,410000,411000,412000,413000,414000,415000,416000,417000,418000,419000,420000,421000,422000,423000,424000,425000,426000,427000,428000,429000,430000,431000,432000,433000,434000,435000,436000,437000,438000,439000,440000,441000,442000,443000,444000,445000,446000,447000,448000,449000,450000,451000,452000,453000,454000,455000,456000,457000,458000,459000,460000,461000,462000,463000,464000,465000,466000,467000,468000,469000,470000,471000,472000,473000,474000,475000,476000,477000,478000,479000,480000,481000,482000,483000,484000,485000,486000,487000,488000,489000,490000,491000,492000,493000,494000,495000,496000,497000,498000,499000,500000,501000,502000,503000,504000,505000,506000,507000,508000,509000,510000,511000,512000,513000,514000,515000,516000,517000,518000,519000,520000,521000,522000,523000,524000,525000,526000,527000,528000,529000,530000,531000,532000,533000,534000,535000,536000,537000,538000,539000,540000,541000,542000,543000,544000,545000,546000,547000,548000,549000,550000,551000,552000,553000,554000,555000,556000,557000,558000,559000,560000,561000,562000,563000,564000,565000,566000,567000,568000,569000,570000,571000,572000,573000,574000,575000,576000,577000,578000,579000,580000,581000,582000,583000,584000,585000,586000,587000,588000,589000,590000,591000,592000,593000,594000,595000,596000,597000,598000,599000,600000,601000,602000,603000,604000,605000,606000,607000,608000,609000,610000,611000,612000,613000,614000,615000,616000,617000,618000,619000,620000,621000,622000,623000,624000,625000,626000,627000,628000,629000,630000,631000,632000,633000,634000,635000,636000,637000,638000,639000,640000,641000,642000,643000,644000,645000,646000,647000,648000,649000,650000,651000,652000,653000,654000,655000,656000,657000,658000,659000,660000,661000,662000,663000,664000,665000,666000,667000,668000,669000,670000,671000,672000,673000,674000,675000,676000,677000,678000,679000,680000,681000,682000,683000,684000,685000,686000,687000,688000,689000,690000,691000,692000,693000,694000,695000,696000,697000,698000,699000,700000,701000,702000,703000,704000,705000,706000,707000,708000,709000,710000,711000,712000,713000,714000,715000,716000,717000,718000,719000,720000,721000,722000,723000,724000,725000,726000,727000,728000,729000,730000,731000,732000,733000,734000,735000,736000,737000,738000,739000,740000,741000,742000,743000,744000,745000,746000,747000,748000,749000,750000,751000,752000,753000,754000,755000,756000,757000,758000,759000,760000,761000,762000,763000,764000,765000,766000,767000,768000,769000,770000,771000,772000,773000,774000,775000,776000,777000,778000,779000,780000,781000,782000,783000,784000,785000,786000,787000,788000,789000,790000,791000,792000,793000,794000,795000,796000,797000,798000,799000,800000,801000,802000,803000,804000,805000,806000,807000,808000,809000,810000,811000,812000,813000,814000,815000,816000,817000,818000,819000,820000,821000,822000,823000,824000,825000,826000,827000,828000,829000,830000,831000,832000,833000,834000,835000,836000,837000,838000,839000,840000,841000,842000,843000,844000,845000,846000,847000,848000,849000,850000,851000,852000,853000,854000,855000,856000,857000,858000,859000,860000,861000,862000,863000,864000,865000,866000,867000,868000,869000,870000,871000,872000,873000,874000,875000,876000,877000,878000,879000,880000,881000,882000,883000,884000,885000,886000,887000,888000,889000,890000,891000,892000,893000,894000,895000,896000,897000,898000,899000,900000,901000,902000,903000,904000,905000,906000,907000,908000,909000,910000,911000,912000,913000,914000,915000,916000,917000,918000,919000,920000,921000,922000,923000,924000,925000,926000,927000,928000,929000,930000,931000,932000,933000,934000,935000,936000,937000,938000,939000,940000,941000,942000,943000,944000,945000,946000,947000,948000,949000,950000,951000,952000,953000,954000,955000,956000,957000,958000,959000,960000,961000,962000,963000,964000,965000,966000,967000,968000,969000,970000,971000,972000,973000,974000,975000,976000,977000,978000,979000,980000,981000,982000,983000,984000,985000,986000,987000,988000,989000,990000,991000,992000,993000,994000,995000,996000,997000,998000,999000,1000000,1000000,999000,998000,997000,996000,995000,994000,993000,992000,991000,990000,989000,988000,987000,986000,985000,984000,983000,982000,981000,980000,979000,978000,977000,976000,975000,974000,973000,972000,971000,970000,969000,968000,967000,966000,965000,964000,963000,962000,961000,960000,959000,958000,957000,956000,955000,954000,953000,952000,951000,950000,949000,948000,947000,946000,945000,944000,943000,942000,941000,940000,939000,938000,937000,936000,935000,934000,933000,932000,931000,930000,929000,928000,927000,926000,925000,924000,923000,922000,921000,920000,919000,918000,917000,916000,915000,914000,913000,912000,911000,910000,909000,908000,907000,906000,905000,904000,903000,902000,901000,900000,899000,898000,897000,896000,895000,894000,893000,892000,891000,890000,889000,888000,887000,886000,885000,884000,883000,882000,881000,880000,879000,878000,877000,876000,875000,874000,873000,872000,871000,870000,869000,868000,867000,866000,865000,864000,863000,862000,861000,860000,859000,858000,857000,856000,855000,854000,853000,852000,851000,850000,849000,848000,847000,846000,845000,844000,843000,842000,841000,840000,839000,838000,837000,836000,835000,834000,833000,832000,831000,830000,829000,828000,827000,826000,825000,824000,823000,822000,821000,820000,819000,818000,817000,816000,815000,814000,813000,812000,811000,810000,809000,808000,807000,806000,805000,804000,803000,802000,801000,800000,799000,798000,797000,796000,795000,794000,793000,792000,791000,790000,789000,788000,787000,786000,785000,784000,783000,782000,781000,780000,779000,778000,777000,776000,775000,774000,773000,772000,771000,770000,769000,768000,767000,766000,765000,764000,763000,762000,761000,760000,759000,758000,757000,756000,755000,754000,753000,752000,751000,750000,749000,748000,747000,746000,745000,744000,743000,742000,741000,740000,739000,738000,737000,736000,735000,734000,733000,732000,731000,730000,729000,728000,727000,726000,725000,724000,723000,722000,721000,720000,719000,718000,717000,716000,715000,714000,713000,712000,711000,710000,709000,708000,707000,706000,705000,704000,703000,702000,701000,700000,699000,698000,697000,696000,695000,694000,693000,692000,691000,690000,689000,688000,687000,686000,685000,684000,683000,682000,681000,680000,679000,678000,677000,676000,675000,674000,673000,672000,671000,670000,669000,668000,667000,666000,665000,664000,663000,662000,661000,660000,659000,658000,657000,656000,655000,654000,653000,652000,651000,650000,649000,648000,647000,646000,645000,644000,643000,642000,641000,640000,639000,638000,637000,636000,635000,634000,633000,632000,631000,630000,629000,628000,627000,626000,625000,624000,623000,622000,621000,620000,619000,618000,617000,616000,615000,614000,613000,612000,611000,610000,609000,608000,607000,606000,605000,604000,603000,602000,601000,600000,599000,598000,597000,596000,595000,594000,593000,592000,591000,590000,589000,588000,587000,586000,585000,584000,583000,582000,581000,580000,579000,578000,577000,576000,575000,574000,573000,572000,571000,570000,569000,568000,567000,566000,565000,564000,563000,562000,561000,560000,559000,558000,557000,556000,555000,554000,553000,552000,551000,550000,549000,548000,547000,546000,545000,544000,543000,542000,541000,540000,539000,538000,537000,536000,535000,534000,533000,532000,531000,530000,529000,528000,527000,526000,525000,524000,523000,522000,521000,520000,519000,518000,517000,516000,515000,514000,513000,512000,511000,510000,509000,508000,507000,506000,505000,504000,503000,502000,501000,500000,499000,498000,497000,496000,495000,494000,493000,492000,491000,490000,489000,488000,487000,486000,485000,484000,483000,482000,481000,480000,479000,478000,477000,476000,475000,474000,473000,472000,471000,470000,469000,468000,467000,466000,465000,464000,463000,462000,461000,460000,459000,458000,457000,456000,455000,454000,453000,452000,451000,450000,449000,448000,447000,446000,445000,444000,443000,442000,441000,440000,439000,438000,437000,436000,435000,434000,433000,432000,431000,430000,429000,428000,427000,426000,425000,424000,423000,422000,421000,420000,419000,418000,417000,416000,415000,414000,413000,412000,411000,410000,409000,408000,407000,406000,405000,404000,403000,402000,401000,400000,399000,398000,397000,396000,395000,394000,393000,392000,391000,390000,389000,388000,387000,386000,385000,384000,383000,382000,381000,380000,379000,378000,377000,376000,375000,374000,373000,372000,371000,370000,369000,368000,367000,366000,365000,364000,363000,362000,361000,360000,359000,358000,357000,356000,355000,354000,353000,352000,351000,350000,349000,348000,347000,346000,345000,344000,343000,342000,341000,340000,339000,338000,337000,336000,335000,334000,333000,332000,331000,330000,329000,328000,327000,326000,325000,324000,323000,322000,321000,320000,319000,318000,317000,316000,315000,314000,313000,312000,311000,310000,309000,308000,307000,306000,305000,304000,303000,302000,301000,300000,299000,298000,297000,296000,295000,294000,293000,292000,291000,290000,289000,288000,287000,286000,285000,284000,283000,282000,281000,280000,279000,278000,277000,276000,275000,274000,273000,272000,271000,270000,269000,268000,267000,266000,265000,264000,263000,262000,261000,260000,259000,258000,257000,256000,255000,254000,253000,252000,251000,250000,249000,248000,247000,246000,245000,244000,243000,242000,241000,240000,239000,238000,237000,236000,235000,234000,233000,232000,231000,230000,229000,228000,227000,226000,225000,224000,223000,222000,221000,220000,219000,218000,217000,216000,215000,214000,213000,212000,211000,210000,209000,208000,207000,206000,205000,204000,203000,202000,201000,200000,199000,198000,197000,196000,195000,194000,193000,192000,191000,190000,189000,188000,187000,186000,185000,184000,183000,182000,181000,180000,179000,178000,177000,176000,175000,174000,173000,172000,171000,170000,169000,168000,167000,166000,165000,164000,163000,162000,161000,160000,159000,158000,157000,156000,155000,154000,153000,152000,151000,150000,149000,148000,147000,146000,145000,144000,143000,142000,141000,140000,139000,138000,137000,136000,135000,134000,133000,132000,131000,130000,129000,128000,127000,126000,125000,124000,123000,122000,121000,120000,119000,118000,117000,116000,115000,114000,113000,112000,111000,110000,109000,108000,107000,106000,105000,104000,103000,102000,101000,100000,99000,98000,97000,96000,95000,94000,93000,92000,91000,90000,89000,88000,87000,86000,85000,84000,83000,82000,81000,80000,79000,78000,77000,76000,75000,74000,73000,72000,71000,70000,69000,68000,67000,66000,65000,64000,63000,62000,61000,60000,59000,58000,57000,56000,55000,54000,53000,52000,51000,50000,49000,48000,47000,46000,45000,44000,43000,42000,41000,40000,39000,38000,37000,36000,35000,34000,33000,32000,31000,30000,29000,28000,27000,26000,25000,24000,23000,22000,21000,20000,19000,18000,17000,16000,15000,14000,13000,12000,11000,10000,9000,8000,7000,6000,5000,4000,3000,2000,1000,0],\"y\":[1,72,124,150,172,172,200,202,202,202,203,203,221,221,221,221,221,221,221,221,222,222,222,222,222,222,222,222,222,222,223,223,223,223,223,223,223,223,223,223,224,224,224,224,224,224,224,224,224,224,225,225,225,225,225,225,225,225,225,225,226,226,226,226,226,226,226,226,226,226,227,227,227,227,227,227,227,227,227,227,228,228,228,228,228,228,228,228,228,228,229,229,229,229,229,229,229,229,229,256,257,257,257,257,257,257,257,257,257,257,258,258,258,258,258,258,258,258,258,258,259,259,259,259,260,260,260,260,260,260,261,261,261,261,261,261,261,261,261,261,262,263,263,264,278,320,354,425,461,471,473,473,473,473,473,473,473,473,473,473,474,474,474,474,474,474,474,474,479,480,481,482,482,482,495,495,495,495,495,495,496,496,496,506,508,508,508,508,510,510,511,511,511,511,511,511,511,511,528,613,639,642,659,690,743,781,795,868,930,931,936,936,938,940,941,1010,1026,1049,1052,1052,1053,1053,1053,1053,1053,1053,1053,1053,1053,1053,1054,1054,1054,1054,1054,1056,1155,1170,1170,1170,1171,1171,1171,1171,1171,1171,1172,1195,1205,1205,1206,1206,1208,1220,1220,1220,1221,1222,1222,1224,1225,1225,1225,1225,1225,1225,1226,1226,1244,1261,1262,1262,1262,1262,1265,1265,1265,1265,1265,1265,1266,1266,1266,1266,1266,1266,1266,1279,1279,1279,1280,1280,1355,1420,1432,1432,1432,1461,1461,1461,1468,1468,1468,1468,1468,1468,1468,1468,1471,1499,1604,1698,1772,1776,1776,1776,1776,1776,1776,1776,1777,1777,1777,1778,1778,1779,1779,1779,1779,1779,1780,1780,1780,1780,1780,1780,1780,1780,1780,1780,1781,1781,1781,1781,1781,1781,1781,1781,1782,1782,1783,1783,1783,1783,1783,1783,1783,1783,1783,1790,1813,1813,1813,1813,1813,1813,1813,1813,1813,1813,1814,1814,1814,1814,1814,1814,1814,1814,1814,1814,1815,1815,1815,1815,1815,1815,1815,1815,1815,1815,1816,1816,1816,1816,1816,1816,1816,1816,1816,1816,1817,1817,1817,1817,1817,1817,1817,1817,1817,1817,1818,1818,1818,1818,1818,1818,1818,1818,1818,1818,1819,1819,1819,1819,1819,1819,1819,1819,1819,1819,1820,1820,1820,1820,1820,1820,1820,1820,1820,1820,1821,1821,1821,1821,1821,1821,1821,1821,1821,1821,1822,1822,1822,1822,1822,1822,1822,1822,1822,1822,1823,1823,1823,1823,1823,1823,1823,1823,1823,1823,1824,1824,1824,1824,1824,1824,1824,1824,1824,1824,1825,1825,1825,1825,1825,1825,1825,1825,1825,1825,1826,1826,1826,1826,1826,1826,1826,1826,1826,1826,1827,1827,1827,1827,1827,1827,1827,1827,1827,1827,1828,1828,1828,1828,1828,1828,1828,1828,1828,1828,1829,1829,1829,1829,1829,1829,1829,1829,1829,1829,1830,1830,1830,1830,1830,1830,1830,1830,1830,1830,1831,1831,1831,1831,1831,1831,1831,1831,1831,1831,1832,1832,1832,1832,1832,1832,1832,1832,1832,1832,1833,1833,1833,1833,1833,1833,1833,1833,1833,1833,1834,1834,1834,1834,1834,1834,1834,1834,1834,1834,1835,1835,1835,1835,1835,1835,1835,1835,1835,1835,1836,1836,1836,1836,1836,1836,1836,1836,1836,1836,1837,1837,1837,1837,1837,1837,1837,1837,1837,1837,1838,1838,1838,1838,1838,1838,1838,1838,1838,1838,1839,1839,1839,1839,1839,1839,1839,1839,1839,1839,1840,1840,1840,1840,1840,1840,1840,1840,1840,1840,1841,1841,1841,1841,1841,1841,1841,1841,1841,1841,1842,1842,1842,1842,1842,1842,1842,1842,1842,1842,1843,1843,1843,1843,1843,1843,1843,1843,1843,1843,1844,1844,1844,1844,1844,1844,1844,1844,1844,1844,1845,1845,1845,1845,1845,1845,1845,1845,1845,1845,1846,1846,1846,1846,1846,1846,1846,1846,1846,1846,1847,1847,1847,1847,1847,1847,1847,1847,1847,1847,1848,1848,1848,1848,1848,1848,1848,1848,1848,1848,1849,1849,1849,1849,1849,1849,1849,1849,1849,1849,1850,1850,1850,1850,1850,1850,1850,1850,1850,1850,1851,1851,1851,1851,1851,1851,1851,1851,1851,1851,1852,1852,1852,1852,1852,1852,1852,1852,1852,1852,1853,1853,1853,1853,1853,1853,1853,1853,1853,1853,1854,1854,1854,1854,1854,1854,1854,1854,1854,1854,1855,1855,1855,1855,1855,1855,1855,1855,1855,1855,1856,1856,1856,1856,1856,1856,1856,1856,1856,1856,1857,1857,1857,1857,1857,1857,1857,1857,1857,1857,1858,1858,1858,1858,1858,1858,1858,1858,1858,1858,1859,1859,1859,1859,1859,1859,1859,1859,1859,1859,1860,1860,1860,1860,1860,1860,1860,1860,1860,1860,1861,1861,1861,1861,1861,1861,1861,1861,1861,1861,1862,1862,1862,1862,1862,1862,1862,1862,1862,1862,1863,1863,1863,1863,1863,1863,1863,1863,1863,1863,1864,1864,1864,1864,1864,1864,1864,1864,1864,1864,1865,1865,1865,1865,1865,1865,1865,1865,1865,1865,1866,1866,1866,1866,1866,1866,1866,1866,1866,1866,1867,1867,1867,1867,1867,1867,1867,1867,1867,1867,1868,1868,1868,1868,1868,1868,1868,1868,1868,1868,1869,1869,1869,1869,1869,1869,1869,1869,1869,1869,1881,1915,1915,1915,1915,1915,1915,1915,1915,1915,1916,1916,1916,1916,1916,1916,1916,1916,1916,1916,1917,1917,1917,1917,1917,1917,1917,1917,1917,1917,1918,1918,1918,1918,1918,1918,1918,1918,1918,1918,1919,1919,1919,1919,1919,1919,1919,1919,1919,1919,1920,1920,1920,1920,1920,1920,1920,1920,1920,1920,1922,1923,1929,1929,1929,1929,1929,1929,1929,1929,2000,2000,2000,2000,2000,2000,2000,2000,2000,2000,1999,1999,1999,1999,1999,1999,1999,1999,1999,1999,1998,1998,1998,1998,1998,1998,1998,1998,1998,1998,1997,1997,1997,1997,1997,1997,1997,1997,1997,1997,1996,1996,1996,1996,1996,1996,1996,1996,1996,1996,1995,1995,1995,1995,1995,1995,1995,1995,1995,1995,1994,1994,1994,1994,1994,1994,1994,1994,1994,1994,1993,1993,1993,1993,1993,1993,1993,1993,1993,1993,1992,1992,1992,1992,1992,1992,1992,1992,1992,1992,1991,1991,1991,1991,1991,1991,1991,1991,1991,1991,1990,1990,1990,1990,1990,1990,1990,1990,1990,1990,1989,1989,1989,1989,1989,1989,1989,1989,1989,1989,1988,1988,1988,1988,1988,1988,1988,1988,1988,1988,1987,1987,1987,1987,1987,1987,1987,1987,1987,1987,1986,1986,1986,1986,1986,1986,1986,1986,1986,1986,1985,1985,1985,1985,1985,1985,1985,1985,1985,1985,1984,1984,1984,1984,1984,1984,1984,1984,1984,1984,1983,1983,1983,1983,1983,1983,1983,1983,1983,1983,1982,1982,1982,1982,1982,1982,1982,1982,1982,1982,1981,1981,1981,1981,1981,1981,1981,1981,1981,1981,1980,1980,1980,1980,1980,1980,1980,1980,1980,1980,1979,1979,1979,1979,1979,1979,1979,1979,1979,1979,1978,1978,1978,1978,1978,1978,1978,1978,1978,1978,1977,1977,1977,1977,1977,1977,1977,1977,1977,1977,1976,1976,1976,1976,1976,1976,1976,1976,1976,1976,1975,1975,1975,1975,1975,1975,1975,1975,1975,1975,1974,1974,1974,1974,1974,1974,1974,1974,1974,1974,1973,1973,1973,1973,1973,1973,1973,1973,1973,1973,1972,1972,1972,1972,1972,1972,1972,1972,1972,1972,1971,1971,1971,1971,1971,1971,1971,1971,1971,1971,1970,1970,1970,1970,1970,1970,1970,1970,1970,1970,1969,1969,1969,1969,1969,1969,1969,1969,1969,1969,1968,1968,1968,1968,1968,1968,1968,1968,1968,1968,1967,1967,1967,1967,1967,1967,1967,1967,1967,1967,1966,1966,1966,1966,1966,1966,1966,1966,1966,1966,1965,1965,1965,1965,1965,1965,1965,1965,1965,1965,1964,1964,1964,1964,1964,1964,1964,1964,1964,1964,1963,1963,1963,1963,1963,1963,1963,1963,1963,1963,1962,1962,1962,1962,1962,1962,1962,1962,1962,1962,1961,1961,1961,1961,1961,1961,1961,1961,1961,1961,1960,1960,1960,1960,1960,1960,1960,1960,1960,1960,1959,1959,1959,1959,1959,1959,1959,1959,1959,1959,1958,1958,1958,1958,1958,1958,1958,1958,1958,1958,1957,1957,1957,1957,1957,1957,1957,1957,1957,1957,1956,1956,1956,1956,1956,1956,1956,1956,1956,1956,1955,1955,1955,1955,1955,1955,1955,1955,1955,1955,1954,1954,1954,1954,1954,1954,1954,1954,1954,1954,1953,1953,1953,1953,1953,1953,1953,1953,1953,1953,1952,1952,1952,1952,1952,1952,1952,1952,1952,1952,1951,1951,1951,1951,1951,1951,1951,1951,1951,1951,1950,1950,1950,1950,1950,1950,1950,1950,1950,1950,1949,1949,1949,1949,1949,1949,1949,1949,1949,1949,1948,1948,1948,1948,1948,1948,1948,1948,1948,1948,1947,1947,1947,1947,1947,1947,1947,1947,1947,1947,1946,1946,1946,1946,1946,1946,1946,1946,1946,1946,1945,1945,1945,1945,1945,1945,1945,1945,1945,1945,1944,1944,1944,1944,1944,1944,1944,1944,1944,1944,1943,1943,1943,1943,1943,1943,1943,1943,1943,1943,1942,1942,1942,1942,1942,1942,1942,1942,1942,1942,1941,1941,1941,1941,1941,1941,1941,1941,1941,1941,1940,1940,1940,1940,1940,1940,1940,1940,1940,1940,1939,1939,1939,1939,1939,1939,1939,1939,1939,1939,1938,1938,1938,1938,1938,1938,1938,1938,1938,1938,1937,1937,1937,1937,1937,1937,1937,1937,1937,1937,1936,1936,1936,1936,1936,1936,1936,1936,1936,1936,1935,1935,1935,1935,1935,1935,1935,1935,1935,1935,1934,1934,1934,1934,1934,1934,1934,1934,1934,1934,1933,1933,1933,1933,1933,1933,1933,1933,1933,1933,1932,1932,1932,1932,1932,1932,1932,1932,1932,1932,1931,1931,1931,1931,1931,1931,1931,1931,1931,1931,1930,1930,1930,1930,1930,1930,1930,1930,1930,1930,1929,1929,1929,1929,1929,1929,1929,1929,1929,1929,1928,1928,1928,1928,1928,1928,1928,1928,1928,1928,1927,1927,1927,1927,1927,1927,1927,1927,1927,1927,1926,1926,1926,1926,1926,1926,1926,1926,1926,1926,1925,1925,1925,1925,1925,1925,1925,1925,1925,1925,1924,1924,1924,1924,1924,1924,1924,1924,1924,1924,1923,1923,1923,1923,1923,1923,1923,1923,1923,1923,1922,1922,1922,1922,1922,1922,1922,1922,1922,1922,1921,1921,1921,1921,1921,1921,1921,1921,1921,1921,1920,1920,1920,1920,1920,1920,1920,1920,1920,1920,1919,1919,1919,1919,1919,1919,1919,1919,1919,1919,1918,1918,1918,1918,1918,1918,1918,1918,1918,1918,1917,1917,1917,1917,1917,1917,1917,1917,1917,1917,1916,1916,1916,1916,1916,1916,1916,1916,1916,1916,1915,1915,1915,1915,1915,1915,1915,1915,1915,1915,1914,1914,1914,1914,1914,1914,1914,1914,1913,1913,1912,1912,1912,1912,1912,1912,1912,1912,1912,1912,1911,1911,1911,1908,1908,1908,1908,1908,1908,1908,1907,1907,1907,1907,1904,1894,1894,1894,1894,1894,1892,1891,1891,1891,1891,1891,1890,1884,1867,1865,1863,1858,1858,1858,1858,1858,1858,1777,1716,1559,1498,1493,1493,1493,1493,1493,1474,1467,1467,1467,1466,1466,1466,1466,1465,1465,1465,1412,1335,1335,1300,1300,1300,1300,1300,1300,1300,1300,1300,1300,1299,1299,1295,1295,1294,1280,1279,1277,1260,1120,1091,1091,1091,1086,1086,1086,1086,1083,1082,1077,1056,1034,1031,1031,1031,996,866,836,834,834,833,833,833,809,781,768,768,767,736,600,493,488,462,417,415,375,270,210,154,1]}},\"id\":\"c16a68c7-c48a-4082-bd6a-0d977706992e\",\"type\":\"ColumnDataSource\"},{\"attributes\":{\"data_source\":{\"id\":\"405de8a7-5f83-498c-94a4-c835da09921c\",\"type\":\"ColumnDataSource\"},\"glyph\":{\"id\":\"cb825bfe-7319-4f17-82fb-735eda274818\",\"type\":\"Line\"},\"hover_glyph\":null,\"nonselection_glyph\":{\"id\":\"faa25958-b994-4c5f-809d-71eac198cae2\",\"type\":\"Line\"},\"selection_glyph\":null},\"id\":\"8be1da02-f488-490b-9c38-6b9383516d7e\",\"type\":\"GlyphRenderer\"},{\"attributes\":{\"callback\":null,\"column_names\":[\"x\",\"y\"],\"data\":{\"x\":[0,1000,2000,3000,4000,5000,6000,7000,8000,9000,10000,11000,12000,13000,14000,15000,16000,17000,18000,19000,20000,21000,22000,23000,24000,25000,26000,27000,28000,29000,30000,31000,32000,33000,34000,35000,36000,37000,38000,39000,40000,41000,42000,43000,44000,45000,46000,47000,48000,49000,50000,51000,52000,53000,54000,55000,56000,57000,58000,59000,60000,61000,62000,63000,64000,65000,66000,67000,68000,69000,70000,71000,72000,73000,74000,75000,76000,77000,78000,79000,80000,81000,82000,83000,84000,85000,86000,87000,88000,89000,90000,91000,92000,93000,94000,95000,96000,97000,98000,99000,100000,101000,102000,103000,104000,105000,106000,107000,108000,109000,110000,111000,112000,113000,114000,115000,116000,117000,118000,119000,120000,121000,122000,123000,124000,125000,126000,127000,128000,129000,130000,131000,132000,133000,134000,135000,136000,137000,138000,139000,140000,141000,142000,143000,144000,145000,146000,147000,148000,149000,150000,151000,152000,153000,154000,155000,156000,157000,158000,159000,160000,161000,162000,163000,164000,165000,166000,167000,168000,169000,170000,171000,172000,173000,174000,175000,176000,177000,178000,179000,180000,181000,182000,183000,184000,185000,186000,187000,188000,189000,190000,191000,192000,193000,194000,195000,196000,197000,198000,199000,200000,201000,202000,203000,204000,205000,206000,207000,208000,209000,210000,211000,212000,213000,214000,215000,216000,217000,218000,219000,220000,221000,222000,223000,224000,225000,226000,227000,228000,229000,230000,231000,232000,233000,234000,235000,236000,237000,238000,239000,240000,241000,242000,243000,244000,245000,246000,247000,248000,249000,250000,251000,252000,253000,254000,255000,256000,257000,258000,259000,260000,261000,262000,263000,264000,265000,266000,267000,268000,269000,270000,271000,272000,273000,274000,275000,276000,277000,278000,279000,280000,281000,282000,283000,284000,285000,286000,287000,288000,289000,290000,291000,292000,293000,294000,295000,296000,297000,298000,299000,300000,301000,302000,303000,304000,305000,306000,307000,308000,309000,310000,311000,312000,313000,314000,315000,316000,317000,318000,319000,320000,321000,322000,323000,324000,325000,326000,327000,328000,329000,330000,331000,332000,333000,334000,335000,336000,337000,338000,339000,340000,341000,342000,343000,344000,345000,346000,347000,348000,349000,350000,351000,352000,353000,354000,355000,356000,357000,358000,359000,360000,361000,362000,363000,364000,365000,366000,367000,368000,369000,370000,371000,372000,373000,374000,375000,376000,377000,378000,379000,380000,381000,382000,383000,384000,385000,386000,387000,388000,389000,390000,391000,392000,393000,394000,395000,396000,397000,398000,399000,400000,401000,402000,403000,404000,405000,406000,407000,408000,409000,410000,411000,412000,413000,414000,415000,416000,417000,418000,419000,420000,421000,422000,423000,424000,425000,426000,427000,428000,429000,430000,431000,432000,433000,434000,435000,436000,437000,438000,439000,440000,441000,442000,443000,444000,445000,446000,447000,448000,449000,450000,451000,452000,453000,454000,455000,456000,457000,458000,459000,460000,461000,462000,463000,464000,465000,466000,467000,468000,469000,470000,471000,472000,473000,474000,475000,476000,477000,478000,479000,480000,481000,482000,483000,484000,485000,486000,487000,488000,489000,490000,491000,492000,493000,494000,495000,496000,497000,498000,499000,500000,501000,502000,503000,504000,505000,506000,507000,508000,509000,510000,511000,512000,513000,514000,515000,516000,517000,518000,519000,520000,521000,522000,523000,524000,525000,526000,527000,528000,529000,530000,531000,532000,533000,534000,535000,536000,537000,538000,539000,540000,541000,542000,543000,544000,545000,546000,547000,548000,549000,550000,551000,552000,553000,554000,555000,556000,557000,558000,559000,560000,561000,562000,563000,564000,565000,566000,567000,568000,569000,570000,571000,572000,573000,574000,575000,576000,577000,578000,579000,580000,581000,582000,583000,584000,585000,586000,587000,588000,589000,590000,591000,592000,593000,594000,595000,596000,597000,598000,599000,600000,601000,602000,603000,604000,605000,606000,607000,608000,609000,610000,611000,612000,613000,614000,615000,616000,617000,618000,619000,620000,621000,622000,623000,624000,625000,626000,627000,628000,629000,630000,631000,632000,633000,634000,635000,636000,637000,638000,639000,640000,641000,642000,643000,644000,645000,646000,647000,648000,649000,650000,651000,652000,653000,654000,655000,656000,657000,658000,659000,660000,661000,662000,663000,664000,665000,666000,667000,668000,669000,670000,671000,672000,673000,674000,675000,676000,677000,678000,679000,680000,681000,682000,683000,684000,685000,686000,687000,688000,689000,690000,691000,692000,693000,694000,695000,696000,697000,698000,699000,700000,701000,702000,703000,704000,705000,706000,707000,708000,709000,710000,711000,712000,713000,714000,715000,716000,717000,718000,719000,720000,721000,722000,723000,724000,725000,726000,727000,728000,729000,730000,731000,732000,733000,734000,735000,736000,737000,738000,739000,740000,741000,742000,743000,744000,745000,746000,747000,748000,749000,750000,751000,752000,753000,754000,755000,756000,757000,758000,759000,760000,761000,762000,763000,764000,765000,766000,767000,768000,769000,770000,771000,772000,773000,774000,775000,776000,777000,778000,779000,780000,781000,782000,783000,784000,785000,786000,787000,788000,789000,790000,791000,792000,793000,794000,795000,796000,797000,798000,799000,800000,801000,802000,803000,804000,805000,806000,807000,808000,809000,810000,811000,812000,813000,814000,815000,816000,817000,818000,819000,820000,821000,822000,823000,824000,825000,826000,827000,828000,829000,830000,831000,832000,833000,834000,835000,836000,837000,838000,839000,840000,841000,842000,843000,844000,845000,846000,847000,848000,849000,850000,851000,852000,853000,854000,855000,856000,857000,858000,859000,860000,861000,862000,863000,864000,865000,866000,867000,868000,869000,870000,871000,872000,873000,874000,875000,876000,877000,878000,879000,880000,881000,882000,883000,884000,885000,886000,887000,888000,889000,890000,891000,892000,893000,894000,895000,896000,897000,898000,899000,900000,901000,902000,903000,904000,905000,906000,907000,908000,909000,910000,911000,912000,913000,914000,915000,916000,917000,918000,919000,920000,921000,922000,923000,924000,925000,926000,927000,928000,929000,930000,931000,932000,933000,934000,935000,936000,937000,938000,939000,940000,941000,942000,943000,944000,945000,946000,947000,948000,949000,950000,951000,952000,953000,954000,955000,956000,957000,958000,959000,960000,961000,962000,963000,964000,965000,966000,967000,968000,969000,970000,971000,972000,973000,974000,975000,976000,977000,978000,979000,980000,981000,982000,983000,984000,985000,986000,987000,988000,989000,990000,991000,992000,993000,994000,995000,996000,997000,998000,999000,1000000,1000000,999000,998000,997000,996000,995000,994000,993000,992000,991000,990000,989000,988000,987000,986000,985000,984000,983000,982000,981000,980000,979000,978000,977000,976000,975000,974000,973000,972000,971000,970000,969000,968000,967000,966000,965000,964000,963000,962000,961000,960000,959000,958000,957000,956000,955000,954000,953000,952000,951000,950000,949000,948000,947000,946000,945000,944000,943000,942000,941000,940000,939000,938000,937000,936000,935000,934000,933000,932000,931000,930000,929000,928000,927000,926000,925000,924000,923000,922000,921000,920000,919000,918000,917000,916000,915000,914000,913000,912000,911000,910000,909000,908000,907000,906000,905000,904000,903000,902000,901000,900000,899000,898000,897000,896000,895000,894000,893000,892000,891000,890000,889000,888000,887000,886000,885000,884000,883000,882000,881000,880000,879000,878000,877000,876000,875000,874000,873000,872000,871000,870000,869000,868000,867000,866000,865000,864000,863000,862000,861000,860000,859000,858000,857000,856000,855000,854000,853000,852000,851000,850000,849000,848000,847000,846000,845000,844000,843000,842000,841000,840000,839000,838000,837000,836000,835000,834000,833000,832000,831000,830000,829000,828000,827000,826000,825000,824000,823000,822000,821000,820000,819000,818000,817000,816000,815000,814000,813000,812000,811000,810000,809000,808000,807000,806000,805000,804000,803000,802000,801000,800000,799000,798000,797000,796000,795000,794000,793000,792000,791000,790000,789000,788000,787000,786000,785000,784000,783000,782000,781000,780000,779000,778000,777000,776000,775000,774000,773000,772000,771000,770000,769000,768000,767000,766000,765000,764000,763000,762000,761000,760000,759000,758000,757000,756000,755000,754000,753000,752000,751000,750000,749000,748000,747000,746000,745000,744000,743000,742000,741000,740000,739000,738000,737000,736000,735000,734000,733000,732000,731000,730000,729000,728000,727000,726000,725000,724000,723000,722000,721000,720000,719000,718000,717000,716000,715000,714000,713000,712000,711000,710000,709000,708000,707000,706000,705000,704000,703000,702000,701000,700000,699000,698000,697000,696000,695000,694000,693000,692000,691000,690000,689000,688000,687000,686000,685000,684000,683000,682000,681000,680000,679000,678000,677000,676000,675000,674000,673000,672000,671000,670000,669000,668000,667000,666000,665000,664000,663000,662000,661000,660000,659000,658000,657000,656000,655000,654000,653000,652000,651000,650000,649000,648000,647000,646000,645000,644000,643000,642000,641000,640000,639000,638000,637000,636000,635000,634000,633000,632000,631000,630000,629000,628000,627000,626000,625000,624000,623000,622000,621000,620000,619000,618000,617000,616000,615000,614000,613000,612000,611000,610000,609000,608000,607000,606000,605000,604000,603000,602000,601000,600000,599000,598000,597000,596000,595000,594000,593000,592000,591000,590000,589000,588000,587000,586000,585000,584000,583000,582000,581000,580000,579000,578000,577000,576000,575000,574000,573000,572000,571000,570000,569000,568000,567000,566000,565000,564000,563000,562000,561000,560000,559000,558000,557000,556000,555000,554000,553000,552000,551000,550000,549000,548000,547000,546000,545000,544000,543000,542000,541000,540000,539000,538000,537000,536000,535000,534000,533000,532000,531000,530000,529000,528000,527000,526000,525000,524000,523000,522000,521000,520000,519000,518000,517000,516000,515000,514000,513000,512000,511000,510000,509000,508000,507000,506000,505000,504000,503000,502000,501000,500000,499000,498000,497000,496000,495000,494000,493000,492000,491000,490000,489000,488000,487000,486000,485000,484000,483000,482000,481000,480000,479000,478000,477000,476000,475000,474000,473000,472000,471000,470000,469000,468000,467000,466000,465000,464000,463000,462000,461000,460000,459000,458000,457000,456000,455000,454000,453000,452000,451000,450000,449000,448000,447000,446000,445000,444000,443000,442000,441000,440000,439000,438000,437000,436000,435000,434000,433000,432000,431000,430000,429000,428000,427000,426000,425000,424000,423000,422000,421000,420000,419000,418000,417000,416000,415000,414000,413000,412000,411000,410000,409000,408000,407000,406000,405000,404000,403000,402000,401000,400000,399000,398000,397000,396000,395000,394000,393000,392000,391000,390000,389000,388000,387000,386000,385000,384000,383000,382000,381000,380000,379000,378000,377000,376000,375000,374000,373000,372000,371000,370000,369000,368000,367000,366000,365000,364000,363000,362000,361000,360000,359000,358000,357000,356000,355000,354000,353000,352000,351000,350000,349000,348000,347000,346000,345000,344000,343000,342000,341000,340000,339000,338000,337000,336000,335000,334000,333000,332000,331000,330000,329000,328000,327000,326000,325000,324000,323000,322000,321000,320000,319000,318000,317000,316000,315000,314000,313000,312000,311000,310000,309000,308000,307000,306000,305000,304000,303000,302000,301000,300000,299000,298000,297000,296000,295000,294000,293000,292000,291000,290000,289000,288000,287000,286000,285000,284000,283000,282000,281000,280000,279000,278000,277000,276000,275000,274000,273000,272000,271000,270000,269000,268000,267000,266000,265000,264000,263000,262000,261000,260000,259000,258000,257000,256000,255000,254000,253000,252000,251000,250000,249000,248000,247000,246000,245000,244000,243000,242000,241000,240000,239000,238000,237000,236000,235000,234000,233000,232000,231000,230000,229000,228000,227000,226000,225000,224000,223000,222000,221000,220000,219000,218000,217000,216000,215000,214000,213000,212000,211000,210000,209000,208000,207000,206000,205000,204000,203000,202000,201000,200000,199000,198000,197000,196000,195000,194000,193000,192000,191000,190000,189000,188000,187000,186000,185000,184000,183000,182000,181000,180000,179000,178000,177000,176000,175000,174000,173000,172000,171000,170000,169000,168000,167000,166000,165000,164000,163000,162000,161000,160000,159000,158000,157000,156000,155000,154000,153000,152000,151000,150000,149000,148000,147000,146000,145000,144000,143000,142000,141000,140000,139000,138000,137000,136000,135000,134000,133000,132000,131000,130000,129000,128000,127000,126000,125000,124000,123000,122000,121000,120000,119000,118000,117000,116000,115000,114000,113000,112000,111000,110000,109000,108000,107000,106000,105000,104000,103000,102000,101000,100000,99000,98000,97000,96000,95000,94000,93000,92000,91000,90000,89000,88000,87000,86000,85000,84000,83000,82000,81000,80000,79000,78000,77000,76000,75000,74000,73000,72000,71000,70000,69000,68000,67000,66000,65000,64000,63000,62000,61000,60000,59000,58000,57000,56000,55000,54000,53000,52000,51000,50000,49000,48000,47000,46000,45000,44000,43000,42000,41000,40000,39000,38000,37000,36000,35000,34000,33000,32000,31000,30000,29000,28000,27000,26000,25000,24000,23000,22000,21000,20000,19000,18000,17000,16000,15000,14000,13000,12000,11000,10000,9000,8000,7000,6000,5000,4000,3000,2000,1000,0],\"y\":[1,72,101,146,146,156,202,202,202,202,203,203,235,242,242,242,242,242,242,242,289,289,289,303,303,303,303,303,303,303,304,304,304,304,304,307,307,307,307,307,308,309,309,309,311,391,391,398,400,400,401,401,401,402,421,421,421,421,421,421,422,422,422,422,422,422,422,422,422,422,423,423,423,423,423,423,423,423,423,423,424,424,424,424,424,424,424,424,424,424,425,425,425,425,425,425,425,425,425,425,426,426,426,426,426,426,426,426,426,426,427,427,427,427,427,427,427,427,427,427,428,428,428,428,428,428,428,428,428,428,429,429,429,429,429,429,429,429,429,429,430,430,430,430,430,430,430,430,430,430,431,431,431,431,431,431,431,431,431,431,432,432,432,432,432,432,432,432,432,432,433,433,433,433,433,433,433,433,433,433,434,434,434,434,434,434,434,434,434,434,435,435,435,435,435,435,435,435,435,435,436,436,436,436,436,436,436,436,436,436,437,437,437,437,437,437,437,437,437,437,438,438,438,438,438,438,438,438,438,438,439,439,439,442,442,442,442,442,442,442,443,443,443,443,443,443,443,443,443,443,444,444,444,444,444,444,444,444,444,444,445,445,445,445,445,445,445,445,445,445,446,446,446,446,446,446,446,446,446,446,447,447,447,447,447,447,447,447,447,447,447,447,447,447,447,447,447,447,447,447,448,448,448,448,448,448,448,448,448,448,449,449,449,449,449,449,449,449,449,449,450,450,450,450,450,450,450,450,450,450,451,451,451,465,465,465,465,465,465,465,466,466,466,466,466,466,466,466,466,466,467,467,467,467,467,467,467,467,467,467,468,468,468,468,468,468,468,468,468,468,469,469,469,469,469,469,469,469,469,469,470,470,470,470,470,470,470,470,470,470,471,471,471,471,471,471,471,471,471,471,472,472,472,472,472,472,472,472,472,472,473,473,473,473,473,473,473,473,473,473,473,473,473,473,473,473,473,473,473,473,474,474,474,474,474,474,474,474,474,474,475,475,475,475,475,477,477,477,477,477,478,478,478,478,478,478,478,478,478,478,479,479,479,479,479,479,479,479,479,479,480,480,480,480,480,480,480,480,480,480,481,481,481,481,481,481,481,481,481,481,482,482,482,482,482,482,482,482,485,485,486,486,486,486,518,578,579,579,582,582,583,583,583,606,606,606,606,606,606,606,607,607,607,607,607,607,607,607,607,607,608,608,608,608,608,608,608,608,608,608,609,609,609,609,609,609,609,609,609,609,610,610,610,610,610,610,610,610,610,610,611,693,713,772,772,772,772,772,773,780,817,876,912,913,939,941,941,941,941,944,945,945,1005,1084,1086,1086,1087,1087,1087,1087,1088,1088,1088,1088,1088,1088,1172,1215,1220,1220,1236,1236,1236,1236,1237,1265,1347,1347,1349,1349,1350,1350,1350,1350,1350,1350,1350,1350,1350,1350,1351,1351,1351,1351,1351,1351,1351,1351,1351,1351,1352,1352,1352,1352,1352,1352,1352,1352,1352,1352,1353,1353,1353,1353,1353,1353,1353,1353,1353,1353,1354,1354,1354,1354,1354,1354,1354,1354,1354,1354,1355,1355,1360,1360,1360,1360,1360,1360,1360,1363,1364,1364,1366,1369,1370,1370,1370,1370,1370,1370,1371,1371,1371,1371,1371,1377,1377,1377,1377,1377,1378,1378,1378,1378,1378,1393,1403,1483,1501,1589,1595,1595,1595,1595,1595,1595,1595,1595,1595,1595,1596,1596,1596,1597,1597,1597,1597,1597,1597,1597,1598,1598,1598,1598,1598,1598,1598,1598,1598,1598,1599,1599,1599,1600,1600,1610,1614,1614,1629,1629,1630,1630,1630,1630,1639,1639,1640,1705,1708,1708,1709,1709,1709,1709,1709,1709,1709,1709,1722,1722,1723,1723,1723,1723,1723,1723,1723,1723,1723,1723,1863,1915,1951,1953,1956,1956,1956,1956,1956,1956,1957,1957,1957,1957,1957,1957,1960,1960,1960,1960,1961,1961,1961,1961,1961,1961,1961,1961,1961,1961,1962,1962,1962,1962,1962,1962,1962,1964,1968,1968,1971,1971,1971,1971,1971,1971,1971,1971,1971,1971,1972,1972,1972,1972,1972,1972,1972,1972,1972,1972,1973,1973,1973,1973,1973,1973,1973,1973,1973,1973,1974,1974,1974,1974,1974,1974,1974,1974,1974,1974,1975,1975,1975,1975,1975,1975,1975,1975,1975,1975,1976,1976,1976,1976,1976,1976,1976,1976,1976,1976,1977,1977,1977,1977,1977,1977,1977,1977,1977,1977,1978,1978,1978,1978,1978,1978,1978,1978,1978,1978,1979,1979,1979,1979,1979,1979,1979,1979,1979,1979,1980,1980,1980,1980,1980,1980,1980,1980,1980,1980,1981,1981,1981,1981,1981,1981,1981,1981,1981,1981,1982,1982,1982,1982,1982,1982,1982,1982,1982,1982,1983,1983,1983,1983,1983,1983,1983,1983,1983,1983,1984,1984,1984,1984,1984,1984,1984,1984,1984,1984,1985,1985,1985,1985,1985,1985,1985,1985,1985,1985,1986,1986,1986,1986,1986,1986,1986,1986,1986,1986,1987,1987,1987,1987,1987,1987,1987,1987,1987,1987,1988,1988,1988,1988,1988,1988,1988,1988,1988,1988,1989,1989,1989,1989,1989,1989,1989,1989,1989,1989,1999,1999,1999,1999,1999,1999,1999,1999,1999,1999,1998,1998,1998,1998,1998,1998,1998,1998,1998,1998,1997,1997,1997,1997,1997,1997,1997,1997,1997,1997,1996,1996,1996,1996,1996,1996,1996,1996,1996,1996,1995,1995,1995,1995,1995,1995,1995,1995,1995,1995,1994,1994,1994,1994,1994,1994,1994,1994,1994,1994,1993,1993,1993,1993,1993,1993,1993,1993,1993,1993,1992,1992,1992,1992,1992,1992,1992,1992,1992,1992,1991,1991,1991,1991,1991,1991,1991,1991,1991,1991,1990,1990,1990,1990,1990,1990,1990,1990,1990,1990,1989,1989,1989,1989,1989,1989,1989,1989,1989,1989,1988,1988,1988,1988,1988,1988,1988,1988,1988,1988,1987,1987,1987,1987,1987,1987,1987,1987,1987,1987,1986,1986,1986,1986,1986,1986,1986,1986,1986,1986,1985,1985,1985,1985,1985,1985,1985,1985,1985,1985,1984,1984,1984,1984,1984,1984,1984,1984,1984,1984,1983,1983,1983,1983,1983,1983,1983,1983,1983,1983,1982,1982,1982,1982,1982,1982,1982,1982,1982,1982,1981,1981,1981,1981,1981,1981,1981,1981,1981,1981,1980,1980,1980,1980,1980,1980,1980,1980,1980,1980,1979,1979,1979,1979,1979,1979,1979,1979,1979,1979,1978,1978,1978,1978,1978,1978,1978,1978,1978,1978,1977,1977,1977,1977,1977,1977,1977,1977,1977,1977,1976,1976,1976,1976,1976,1976,1976,1976,1976,1976,1975,1975,1975,1975,1975,1975,1975,1975,1975,1975,1974,1974,1974,1974,1974,1974,1974,1974,1974,1974,1973,1973,1973,1973,1973,1973,1973,1973,1973,1973,1972,1972,1972,1972,1972,1972,1972,1972,1972,1972,1971,1971,1971,1971,1971,1971,1971,1971,1971,1971,1970,1970,1970,1970,1970,1970,1970,1970,1970,1970,1969,1969,1969,1969,1969,1969,1969,1969,1969,1969,1968,1968,1968,1968,1968,1968,1968,1968,1968,1968,1967,1967,1967,1967,1967,1967,1967,1967,1967,1967,1966,1966,1966,1966,1966,1966,1966,1966,1966,1966,1965,1965,1965,1965,1965,1965,1965,1965,1965,1965,1964,1964,1964,1964,1964,1964,1964,1964,1964,1964,1963,1963,1963,1963,1963,1963,1963,1963,1963,1963,1962,1962,1962,1962,1962,1962,1962,1962,1962,1962,1961,1961,1961,1961,1961,1961,1961,1961,1961,1961,1961,1961,1961,1961,1961,1961,1961,1961,1961,1961,1960,1960,1960,1960,1960,1960,1960,1960,1960,1960,1959,1959,1959,1959,1959,1959,1959,1959,1959,1959,1958,1958,1958,1958,1958,1958,1958,1958,1958,1958,1957,1957,1957,1957,1957,1957,1957,1957,1957,1957,1956,1956,1956,1956,1956,1956,1956,1956,1956,1956,1955,1955,1955,1955,1955,1955,1955,1955,1955,1955,1954,1954,1954,1954,1954,1954,1954,1954,1954,1954,1953,1953,1953,1953,1953,1953,1953,1953,1953,1953,1952,1952,1952,1952,1952,1952,1952,1952,1952,1952,1951,1951,1951,1951,1951,1951,1951,1951,1951,1951,1950,1950,1950,1950,1950,1950,1950,1950,1950,1950,1949,1949,1949,1949,1949,1949,1949,1949,1949,1949,1948,1948,1948,1948,1948,1948,1948,1948,1948,1948,1947,1947,1947,1947,1947,1947,1947,1947,1947,1947,1946,1946,1946,1946,1946,1946,1946,1946,1946,1946,1945,1945,1945,1945,1945,1945,1945,1945,1945,1945,1944,1944,1944,1944,1944,1944,1944,1944,1944,1944,1943,1943,1943,1943,1943,1943,1943,1943,1943,1943,1942,1942,1942,1942,1942,1942,1942,1942,1942,1942,1941,1941,1941,1941,1941,1941,1941,1941,1941,1941,1940,1940,1940,1940,1940,1940,1940,1940,1940,1940,1939,1939,1939,1939,1939,1939,1939,1939,1939,1939,1938,1938,1938,1938,1938,1938,1938,1938,1938,1938,1937,1937,1937,1937,1937,1937,1937,1937,1937,1937,1936,1936,1936,1936,1936,1936,1936,1936,1936,1936,1935,1935,1935,1935,1935,1935,1935,1935,1935,1935,1934,1934,1934,1934,1934,1934,1934,1934,1934,1934,1933,1933,1933,1933,1933,1933,1933,1933,1933,1933,1932,1932,1932,1932,1932,1932,1932,1932,1932,1932,1931,1931,1931,1931,1931,1931,1931,1931,1931,1931,1930,1930,1930,1930,1930,1930,1930,1930,1930,1930,1929,1929,1929,1929,1929,1929,1929,1929,1929,1929,1928,1928,1928,1928,1928,1928,1928,1928,1928,1928,1927,1927,1927,1927,1927,1927,1927,1927,1927,1927,1926,1926,1926,1926,1926,1926,1926,1926,1926,1926,1925,1925,1925,1925,1925,1925,1925,1925,1925,1925,1924,1924,1924,1924,1924,1924,1924,1924,1924,1924,1923,1923,1923,1923,1923,1923,1923,1923,1923,1923,1922,1922,1922,1922,1922,1922,1922,1922,1922,1922,1921,1921,1921,1921,1921,1921,1921,1921,1921,1921,1920,1920,1920,1920,1920,1920,1920,1920,1920,1919,1918,1918,1918,1918,1918,1918,1917,1917,1917,1917,1916,1916,1916,1915,1915,1915,1915,1915,1915,1915,1914,1914,1914,1914,1914,1914,1914,1914,1914,1914,1913,1913,1913,1913,1913,1913,1913,1913,1913,1913,1911,1910,1905,1903,1896,1895,1895,1895,1895,1895,1894,1894,1894,1888,1876,1876,1876,1876,1876,1869,1868,1868,1868,1868,1868,1868,1868,1868,1868,1868,1867,1867,1867,1867,1867,1867,1867,1867,1867,1867,1866,1866,1866,1866,1866,1866,1866,1866,1866,1866,1865,1865,1865,1865,1865,1865,1865,1864,1864,1864,1857,1856,1854,1715,1531,1475,1475,1475,1475,1475,1474,1474,1474,1474,1474,1462,1441,1437,1436,1435,1434,1430,1394,1384,1384,1383,1363,1363,1363,1363,1362,1362,1362,1362,1362,1362,1361,1361,1361,1361,1360,1360,1360,1360,1356,1356,1356,1356,1355,1355,1354,1354,1348,1247,1246,1244,1242,1215,1075,1075,997,997,997,997,997,993,931,912,872,872,871,871,866,866,866,857,855,852,746,633,583,511,456,426,406,359,350,210,151,1]}},\"id\":\"1e2a4ca9-968e-485e-8fdc-230018c6b31e\",\"type\":\"ColumnDataSource\"},{\"attributes\":{\"data_source\":{\"id\":\"c1d50062-3468-42f9-894c-2bda0741ae35\",\"type\":\"ColumnDataSource\"},\"glyph\":{\"id\":\"13179cd4-2449-45be-a61f-f45ca4dd4c54\",\"type\":\"Patch\"},\"hover_glyph\":null,\"nonselection_glyph\":{\"id\":\"3150d89e-c1d1-4700-b03c-d1f1e3da132c\",\"type\":\"Patch\"},\"selection_glyph\":null},\"id\":\"93ba3af8-0aaa-45b7-99d8-cdd3231b4526\",\"type\":\"GlyphRenderer\"},{\"attributes\":{\"callback\":null,\"column_names\":[\"x\",\"y\"],\"data\":{\"x\":[0,1000,2000,3000,4000,5000,6000,7000,8000,9000,10000,11000,12000,13000,14000,15000,16000,17000,18000,19000,20000,21000,22000,23000,24000,25000,26000,27000,28000,29000,30000,31000,32000,33000,34000,35000,36000,37000,38000,39000,40000,41000,42000,43000,44000,45000,46000,47000,48000,49000,50000,51000,52000,53000,54000,55000,56000,57000,58000,59000,60000,61000,62000,63000,64000,65000,66000,67000,68000,69000,70000,71000,72000,73000,74000,75000,76000,77000,78000,79000,80000,81000,82000,83000,84000,85000,86000,87000,88000,89000,90000,91000,92000,93000,94000,95000,96000,97000,98000,99000,100000,101000,102000,103000,104000,105000,106000,107000,108000,109000,110000,111000,112000,113000,114000,115000,116000,117000,118000,119000,120000,121000,122000,123000,124000,125000,126000,127000,128000,129000,130000,131000,132000,133000,134000,135000,136000,137000,138000,139000,140000,141000,142000,143000,144000,145000,146000,147000,148000,149000,150000,151000,152000,153000,154000,155000,156000,157000,158000,159000,160000,161000,162000,163000,164000,165000,166000,167000,168000,169000,170000,171000,172000,173000,174000,175000,176000,177000,178000,179000,180000,181000,182000,183000,184000,185000,186000,187000,188000,189000,190000,191000,192000,193000,194000,195000,196000,197000,198000,199000,200000,201000,202000,203000,204000,205000,206000,207000,208000,209000,210000,211000,212000,213000,214000,215000,216000,217000,218000,219000,220000,221000,222000,223000,224000,225000,226000,227000,228000,229000,230000,231000,232000,233000,234000,235000,236000,237000,238000,239000,240000,241000,242000,243000,244000,245000,246000,247000,248000,249000,250000,251000,252000,253000,254000,255000,256000,257000,258000,259000,260000,261000,262000,263000,264000,265000,266000,267000,268000,269000,270000,271000,272000,273000,274000,275000,276000,277000,278000,279000,280000,281000,282000,283000,284000,285000,286000,287000,288000,289000,290000,291000,292000,293000,294000,295000,296000,297000,298000,299000,300000,301000,302000,303000,304000,305000,306000,307000,308000,309000,310000,311000,312000,313000,314000,315000,316000,317000,318000,319000,320000,321000,322000,323000,324000,325000,326000,327000,328000,329000,330000,331000,332000,333000,334000,335000,336000,337000,338000,339000,340000,341000,342000,343000,344000,345000,346000,347000,348000,349000,350000,351000,352000,353000,354000,355000,356000,357000,358000,359000,360000,361000,362000,363000,364000,365000,366000,367000,368000,369000,370000,371000,372000,373000,374000,375000,376000,377000,378000,379000,380000,381000,382000,383000,384000,385000,386000,387000,388000,389000,390000,391000,392000,393000,394000,395000,396000,397000,398000,399000,400000,401000,402000,403000,404000,405000,406000,407000,408000,409000,410000,411000,412000,413000,414000,415000,416000,417000,418000,419000,420000,421000,422000,423000,424000,425000,426000,427000,428000,429000,430000,431000,432000,433000,434000,435000,436000,437000,438000,439000,440000,441000,442000,443000,444000,445000,446000,447000,448000,449000,450000,451000,452000,453000,454000,455000,456000,457000,458000,459000,460000,461000,462000,463000,464000,465000,466000,467000,468000,469000,470000,471000,472000,473000,474000,475000,476000,477000,478000,479000,480000,481000,482000,483000,484000,485000,486000,487000,488000,489000,490000,491000,492000,493000,494000,495000,496000,497000,498000,499000,500000,501000,502000,503000,504000,505000,506000,507000,508000,509000,510000,511000,512000,513000,514000,515000,516000,517000,518000,519000,520000,521000,522000,523000,524000,525000,526000,527000,528000,529000,530000,531000,532000,533000,534000,535000,536000,537000,538000,539000,540000,541000,542000,543000,544000,545000,546000,547000,548000,549000,550000,551000,552000,553000,554000,555000,556000,557000,558000,559000,560000,561000,562000,563000,564000,565000,566000,567000,568000,569000,570000,571000,572000,573000,574000,575000,576000,577000,578000,579000,580000,581000,582000,583000,584000,585000,586000,587000,588000,589000,590000,591000,592000,593000,594000,595000,596000,597000,598000,599000,600000,601000,602000,603000,604000,605000,606000,607000,608000,609000,610000,611000,612000,613000,614000,615000,616000,617000,618000,619000,620000,621000,622000,623000,624000,625000,626000,627000,628000,629000,630000,631000,632000,633000,634000,635000,636000,637000,638000,639000,640000,641000,642000,643000,644000,645000,646000,647000,648000,649000,650000,651000,652000,653000,654000,655000,656000,657000,658000,659000,660000,661000,662000,663000,664000,665000,666000,667000,668000,669000,670000,671000,672000,673000,674000,675000,676000,677000,678000,679000,680000,681000,682000,683000,684000,685000,686000,687000,688000,689000,690000,691000,692000,693000,694000,695000,696000,697000,698000,699000,700000,701000,702000,703000,704000,705000,706000,707000,708000,709000,710000,711000,712000,713000,714000,715000,716000,717000,718000,719000,720000,721000,722000,723000,724000,725000,726000,727000,728000,729000,730000,731000,732000,733000,734000,735000,736000,737000,738000,739000,740000,741000,742000,743000,744000,745000,746000,747000,748000,749000,750000,751000,752000,753000,754000,755000,756000,757000,758000,759000,760000,761000,762000,763000,764000,765000,766000,767000,768000,769000,770000,771000,772000,773000,774000,775000,776000,777000,778000,779000,780000,781000,782000,783000,784000,785000,786000,787000,788000,789000,790000,791000,792000,793000,794000,795000,796000,797000,798000,799000,800000,801000,802000,803000,804000,805000,806000,807000,808000,809000,810000,811000,812000,813000,814000,815000,816000,817000,818000,819000,820000,821000,822000,823000,824000,825000,826000,827000,828000,829000,830000,831000,832000,833000,834000,835000,836000,837000,838000,839000,840000,841000,842000,843000,844000,845000,846000,847000,848000,849000,850000,851000,852000,853000,854000,855000,856000,857000,858000,859000,860000,861000,862000,863000,864000,865000,866000,867000,868000,869000,870000,871000,872000,873000,874000,875000,876000,877000,878000,879000,880000,881000,882000,883000,884000,885000,886000,887000,888000,889000,890000,891000,892000,893000,894000,895000,896000,897000,898000,899000,900000,901000,902000,903000,904000,905000,906000,907000,908000,909000,910000,911000,912000,913000,914000,915000,916000,917000,918000,919000,920000,921000,922000,923000,924000,925000,926000,927000,928000,929000,930000,931000,932000,933000,934000,935000,936000,937000,938000,939000,940000,941000,942000,943000,944000,945000,946000,947000,948000,949000,950000,951000,952000,953000,954000,955000,956000,957000,958000,959000,960000,961000,962000,963000,964000,965000,966000,967000,968000,969000,970000,971000,972000,973000,974000,975000,976000,977000,978000,979000,980000,981000,982000,983000,984000,985000,986000,987000,988000,989000,990000,991000,992000,993000,994000,995000,996000,997000,998000,999000,1000000],\"y\":{\"__ndarray__\":\"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\",\"dtype\":\"float64\",\"shape\":[1000]}}},\"id\":\"405de8a7-5f83-498c-94a4-c835da09921c\",\"type\":\"ColumnDataSource\"},{\"attributes\":{\"fill_alpha\":{\"value\":0.1},\"fill_color\":{\"value\":\"#1f77b4\"},\"line_alpha\":{\"value\":0.1},\"line_color\":{\"value\":\"#1f77b4\"},\"x\":{\"field\":\"x\"},\"y\":{\"field\":\"y\"}},\"id\":\"3150d89e-c1d1-4700-b03c-d1f1e3da132c\",\"type\":\"Patch\"},{\"attributes\":{\"plot\":{\"id\":\"dc62baf6-188f-46c1-8626-9f8cbd7f7ba1\",\"subtype\":\"Figure\",\"type\":\"Plot\"}},\"id\":\"abf1a559-b5ee-4b54-b895-a3b723271820\",\"type\":\"PanTool\"},{\"attributes\":{\"callback\":null,\"column_names\":[\"x\",\"y\"],\"data\":{\"x\":[0,1000,2000,3000,4000,5000,6000,7000,8000,9000,10000,11000,12000,13000,14000,15000,16000,17000,18000,19000,20000,21000,22000,23000,24000,25000,26000,27000,28000,29000,30000,31000,32000,33000,34000,35000,36000,37000,38000,39000,40000,41000,42000,43000,44000,45000,46000,47000,48000,49000,50000,51000,52000,53000,54000,55000,56000,57000,58000,59000,60000,61000,62000,63000,64000,65000,66000,67000,68000,69000,70000,71000,72000,73000,74000,75000,76000,77000,78000,79000,80000,81000,82000,83000,84000,85000,86000,87000,88000,89000,90000,91000,92000,93000,94000,95000,96000,97000,98000,99000,100000,101000,102000,103000,104000,105000,106000,107000,108000,109000,110000,111000,112000,113000,114000,115000,116000,117000,118000,119000,120000,121000,122000,123000,124000,125000,126000,127000,128000,129000,130000,131000,132000,133000,134000,135000,136000,137000,138000,139000,140000,141000,142000,143000,144000,145000,146000,147000,148000,149000,150000,151000,152000,153000,154000,155000,156000,157000,158000,159000,160000,161000,162000,163000,164000,165000,166000,167000,168000,169000,170000,171000,172000,173000,174000,175000,176000,177000,178000,179000,180000,181000,182000,183000,184000,185000,186000,187000,188000,189000,190000,191000,192000,193000,194000,195000,196000,197000,198000,199000,200000,201000,202000,203000,204000,205000,206000,207000,208000,209000,210000,211000,212000,213000,214000,215000,216000,217000,218000,219000,220000,221000,222000,223000,224000,225000,226000,227000,228000,229000,230000,231000,232000,233000,234000,235000,236000,237000,238000,239000,240000,241000,242000,243000,244000,245000,246000,247000,248000,249000,250000,251000,252000,253000,254000,255000,256000,257000,258000,259000,260000,261000,262000,263000,264000,265000,266000,267000,268000,269000,270000,271000,272000,273000,274000,275000,276000,277000,278000,279000,280000,281000,282000,283000,284000,285000,286000,287000,288000,289000,290000,291000,292000,293000,294000,295000,296000,297000,298000,299000,300000,301000,302000,303000,304000,305000,306000,307000,308000,309000,310000,311000,312000,313000,314000,315000,316000,317000,318000,319000,320000,321000,322000,323000,324000,325000,326000,327000,328000,329000,330000,331000,332000,333000,334000,335000,336000,337000,338000,339000,340000,341000,342000,343000,344000,345000,346000,347000,348000,349000,350000,351000,352000,353000,354000,355000,356000,357000,358000,359000,360000,361000,362000,363000,364000,365000,366000,367000,368000,369000,370000,371000,372000,373000,374000,375000,376000,377000,378000,379000,380000,381000,382000,383000,384000,385000,386000,387000,388000,389000,390000,391000,392000,393000,394000,395000,396000,397000,398000,399000,400000,401000,402000,403000,404000,405000,406000,407000,408000,409000,410000,411000,412000,413000,414000,415000,416000,417000,418000,419000,420000,421000,422000,423000,424000,425000,426000,427000,428000,429000,430000,431000,432000,433000,434000,435000,436000,437000,438000,439000,440000,441000,442000,443000,444000,445000,446000,447000,448000,449000,450000,451000,452000,453000,454000,455000,456000,457000,458000,459000,460000,461000,462000,463000,464000,465000,466000,467000,468000,469000,470000,471000,472000,473000,474000,475000,476000,477000,478000,479000,480000,481000,482000,483000,484000,485000,486000,487000,488000,489000,490000,491000,492000,493000,494000,495000,496000,497000,498000,499000,500000,501000,502000,503000,504000,505000,506000,507000,508000,509000,510000,511000,512000,513000,514000,515000,516000,517000,518000,519000,520000,521000,522000,523000,524000,525000,526000,527000,528000,529000,530000,531000,532000,533000,534000,535000,536000,537000,538000,539000,540000,541000,542000,543000,544000,545000,546000,547000,548000,549000,550000,551000,552000,553000,554000,555000,556000,557000,558000,559000,560000,561000,562000,563000,564000,565000,566000,567000,568000,569000,570000,571000,572000,573000,574000,575000,576000,577000,578000,579000,580000,581000,582000,583000,584000,585000,586000,587000,588000,589000,590000,591000,592000,593000,594000,595000,596000,597000,598000,599000,600000,601000,602000,603000,604000,605000,606000,607000,608000,609000,610000,611000,612000,613000,614000,615000,616000,617000,618000,619000,620000,621000,622000,623000,624000,625000,626000,627000,628000,629000,630000,631000,632000,633000,634000,635000,636000,637000,638000,639000,640000,641000,642000,643000,644000,645000,646000,647000,648000,649000,650000,651000,652000,653000,654000,655000,656000,657000,658000,659000,660000,661000,662000,663000,664000,665000,666000,667000,668000,669000,670000,671000,672000,673000,674000,675000,676000,677000,678000,679000,680000,681000,682000,683000,684000,685000,686000,687000,688000,689000,690000,691000,692000,693000,694000,695000,696000,697000,698000,699000,700000,701000,702000,703000,704000,705000,706000,707000,708000,709000,710000,711000,712000,713000,714000,715000,716000,717000,718000,719000,720000,721000,722000,723000,724000,725000,726000,727000,728000,729000,730000,731000,732000,733000,734000,735000,736000,737000,738000,739000,740000,741000,742000,743000,744000,745000,746000,747000,748000,749000,750000,751000,752000,753000,754000,755000,756000,757000,758000,759000,760000,761000,762000,763000,764000,765000,766000,767000,768000,769000,770000,771000,772000,773000,774000,775000,776000,777000,778000,779000,780000,781000,782000,783000,784000,785000,786000,787000,788000,789000,790000,791000,792000,793000,794000,795000,796000,797000,798000,799000,800000,801000,802000,803000,804000,805000,806000,807000,808000,809000,810000,811000,812000,813000,814000,815000,816000,817000,818000,819000,820000,821000,822000,823000,824000,825000,826000,827000,828000,829000,830000,831000,832000,833000,834000,835000,836000,837000,838000,839000,840000,841000,842000,843000,844000,845000,846000,847000,848000,849000,850000,851000,852000,853000,854000,855000,856000,857000,858000,859000,860000,861000,862000,863000,864000,865000,866000,867000,868000,869000,870000,871000,872000,873000,874000,875000,876000,877000,878000,879000,880000,881000,882000,883000,884000,885000,886000,887000,888000,889000,890000,891000,892000,893000,894000,895000,896000,897000,898000,899000,900000,901000,902000,903000,904000,905000,906000,907000,908000,909000,910000,911000,912000,913000,914000,915000,916000,917000,918000,919000,920000,921000,922000,923000,924000,925000,926000,927000,928000,929000,930000,931000,932000,933000,934000,935000,936000,937000,938000,939000,940000,941000,942000,943000,944000,945000,946000,947000,948000,949000,950000,951000,952000,953000,954000,955000,956000,957000,958000,959000,960000,961000,962000,963000,964000,965000,966000,967000,968000,969000,970000,971000,972000,973000,974000,975000,976000,977000,978000,979000,980000,981000,982000,983000,984000,985000,986000,987000,988000,989000,990000,991000,992000,993000,994000,995000,996000,997000,998000,999000,1000000],\"y\":{\"__ndarray__\":\"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\",\"dtype\":\"float64\",\"shape\":[1000]}}},\"id\":\"2d96dc32-2b40-41f0-b581-58f9d01ad054\",\"type\":\"ColumnDataSource\"},{\"attributes\":{\"data_source\":{\"id\":\"2d96dc32-2b40-41f0-b581-58f9d01ad054\",\"type\":\"ColumnDataSource\"},\"glyph\":{\"id\":\"cdfcdb1d-535b-4ba5-8ba5-228bb3a8cc04\",\"type\":\"Line\"},\"hover_glyph\":null,\"nonselection_glyph\":{\"id\":\"2a2d266e-7c02-47ff-a41f-2d8da27eddaa\",\"type\":\"Line\"},\"selection_glyph\":null},\"id\":\"e2b16297-3820-43d4-9390-057e56eaf08d\",\"type\":\"GlyphRenderer\"},{\"attributes\":{},\"id\":\"f55f0f88-d822-4cc2-b2f3-4a301f82b4a2\",\"type\":\"BasicTickFormatter\"},{\"attributes\":{\"plot\":{\"id\":\"dc62baf6-188f-46c1-8626-9f8cbd7f7ba1\",\"subtype\":\"Figure\",\"type\":\"Plot\"}},\"id\":\"7119585c-4b14-4f39-b4ec-ba5452ea25a3\",\"type\":\"WheelZoomTool\"},{\"attributes\":{\"fill_alpha\":{\"value\":0.1},\"fill_color\":{\"value\":\"#1f77b4\"},\"line_alpha\":{\"value\":0.1},\"line_color\":{\"value\":\"#1f77b4\"},\"x\":{\"field\":\"x\"},\"y\":{\"field\":\"y\"}},\"id\":\"f125de25-43dc-4ab1-9de5-f8c0caa3b299\",\"type\":\"Patch\"},{\"attributes\":{\"line_alpha\":{\"value\":0.1},\"line_color\":{\"value\":\"#1f77b4\"},\"line_width\":{\"value\":2},\"x\":{\"field\":\"x\"},\"y\":{\"field\":\"y\"}},\"id\":\"faa25958-b994-4c5f-809d-71eac198cae2\",\"type\":\"Line\"},{\"attributes\":{\"callback\":null,\"column_names\":[\"x\",\"y\"],\"data\":{\"x\":[0,1000,2000,3000,4000,5000,6000,7000,8000,9000,10000,11000,12000,13000,14000,15000,16000,17000,18000,19000,20000,21000,22000,23000,24000,25000,26000,27000,28000,29000,30000,31000,32000,33000,34000,35000,36000,37000,38000,39000,40000,41000,42000,43000,44000,45000,46000,47000,48000,49000,50000,51000,52000,53000,54000,55000,56000,57000,58000,59000,60000,61000,62000,63000,64000,65000,66000,67000,68000,69000,70000,71000,72000,73000,74000,75000,76000,77000,78000,79000,80000,81000,82000,83000,84000,85000,86000,87000,88000,89000,90000,91000,92000,93000,94000,95000,96000,97000,98000,99000,100000,101000,102000,103000,104000,105000,106000,107000,108000,109000,110000,111000,112000,113000,114000,115000,116000,117000,118000,119000,120000,121000,122000,123000,124000,125000,126000,127000,128000,129000,130000,131000,132000,133000,134000,135000,136000,137000,138000,139000,140000,141000,142000,143000,144000,145000,146000,147000,148000,149000,150000,151000,152000,153000,154000,155000,156000,157000,158000,159000,160000,161000,162000,163000,164000,165000,166000,167000,168000,169000,170000,171000,172000,173000,174000,175000,176000,177000,178000,179000,180000,181000,182000,183000,184000,185000,186000,187000,188000,189000,190000,191000,192000,193000,194000,195000,196000,197000,198000,199000,200000,201000,202000,203000,204000,205000,206000,207000,208000,209000,210000,211000,212000,213000,214000,215000,216000,217000,218000,219000,220000,221000,222000,223000,224000,225000,226000,227000,228000,229000,230000,231000,232000,233000,234000,235000,236000,237000,238000,239000,240000,241000,242000,243000,244000,245000,246000,247000,248000,249000,250000,251000,252000,253000,254000,255000,256000,257000,258000,259000,260000,261000,262000,263000,264000,265000,266000,267000,268000,269000,270000,271000,272000,273000,274000,275000,276000,277000,278000,279000,280000,281000,282000,283000,284000,285000,286000,287000,288000,289000,290000,291000,292000,293000,294000,295000,296000,297000,298000,299000,300000,301000,302000,303000,304000,305000,306000,307000,308000,309000,310000,311000,312000,313000,314000,315000,316000,317000,318000,319000,320000,321000,322000,323000,324000,325000,326000,327000,328000,329000,330000,331000,332000,333000,334000,335000,336000,337000,338000,339000,340000,341000,342000,343000,344000,345000,346000,347000,348000,349000,350000,351000,352000,353000,354000,355000,356000,357000,358000,359000,360000,361000,362000,363000,364000,365000,366000,367000,368000,369000,370000,371000,372000,373000,374000,375000,376000,377000,378000,379000,380000,381000,382000,383000,384000,385000,386000,387000,388000,389000,390000,391000,392000,393000,394000,395000,396000,397000,398000,399000,400000,401000,402000,403000,404000,405000,406000,407000,408000,409000,410000,411000,412000,413000,414000,415000,416000,417000,418000,419000,420000,421000,422000,423000,424000,425000,426000,427000,428000,429000,430000,431000,432000,433000,434000,435000,436000,437000,438000,439000,440000,441000,442000,443000,444000,445000,446000,447000,448000,449000,450000,451000,452000,453000,454000,455000,456000,457000,458000,459000,460000,461000,462000,463000,464000,465000,466000,467000,468000,469000,470000,471000,472000,473000,474000,475000,476000,477000,478000,479000,480000,481000,482000,483000,484000,485000,486000,487000,488000,489000,490000,491000,492000,493000,494000,495000,496000,497000,498000,499000,500000,501000,502000,503000,504000,505000,506000,507000,508000,509000,510000,511000,512000,513000,514000,515000,516000,517000,518000,519000,520000,521000,522000,523000,524000,525000,526000,527000,528000,529000,530000,531000,532000,533000,534000,535000,536000,537000,538000,539000,540000,541000,542000,543000,544000,545000,546000,547000,548000,549000,550000,551000,552000,553000,554000,555000,556000,557000,558000,559000,560000,561000,562000,563000,564000,565000,566000,567000,568000,569000,570000,571000,572000,573000,574000,575000,576000,577000,578000,579000,580000,581000,582000,583000,584000,585000,586000,587000,588000,589000,590000,591000,592000,593000,594000,595000,596000,597000,598000,599000,600000,601000,602000,603000,604000,605000,606000,607000,608000,609000,610000,611000,612000,613000,614000,615000,616000,617000,618000,619000,620000,621000,622000,623000,624000,625000,626000,627000,628000,629000,630000,631000,632000,633000,634000,635000,636000,637000,638000,639000,640000,641000,642000,643000,644000,645000,646000,647000,648000,649000,650000,651000,652000,653000,654000,655000,656000,657000,658000,659000,660000,661000,662000,663000,664000,665000,666000,667000,668000,669000,670000,671000,672000,673000,674000,675000,676000,677000,678000,679000,680000,681000,682000,683000,684000,685000,686000,687000,688000,689000,690000,691000,692000,693000,694000,695000,696000,697000,698000,699000,700000,701000,702000,703000,704000,705000,706000,707000,708000,709000,710000,711000,712000,713000,714000,715000,716000,717000,718000,719000,720000,721000,722000,723000,724000,725000,726000,727000,728000,729000,730000,731000,732000,733000,734000,735000,736000,737000,738000,739000,740000,741000,742000,743000,744000,745000,746000,747000,748000,749000,750000,751000,752000,753000,754000,755000,756000,757000,758000,759000,760000,761000,762000,763000,764000,765000,766000,767000,768000,769000,770000,771000,772000,773000,774000,775000,776000,777000,778000,779000,780000,781000,782000,783000,784000,785000,786000,787000,788000,789000,790000,791000,792000,793000,794000,795000,796000,797000,798000,799000,800000,801000,802000,803000,804000,805000,806000,807000,808000,809000,810000,811000,812000,813000,814000,815000,816000,817000,818000,819000,820000,821000,822000,823000,824000,825000,826000,827000,828000,829000,830000,831000,832000,833000,834000,835000,836000,837000,838000,839000,840000,841000,842000,843000,844000,845000,846000,847000,848000,849000,850000,851000,852000,853000,854000,855000,856000,857000,858000,859000,860000,861000,862000,863000,864000,865000,866000,867000,868000,869000,870000,871000,872000,873000,874000,875000,876000,877000,878000,879000,880000,881000,882000,883000,884000,885000,886000,887000,888000,889000,890000,891000,892000,893000,894000,895000,896000,897000,898000,899000,900000,901000,902000,903000,904000,905000,906000,907000,908000,909000,910000,911000,912000,913000,914000,915000,916000,917000,918000,919000,920000,921000,922000,923000,924000,925000,926000,927000,928000,929000,930000,931000,932000,933000,934000,935000,936000,937000,938000,939000,940000,941000,942000,943000,944000,945000,946000,947000,948000,949000,950000,951000,952000,953000,954000,955000,956000,957000,958000,959000,960000,961000,962000,963000,964000,965000,966000,967000,968000,969000,970000,971000,972000,973000,974000,975000,976000,977000,978000,979000,980000,981000,982000,983000,984000,985000,986000,987000,988000,989000,990000,991000,992000,993000,994000,995000,996000,997000,998000,999000,1000000,1000000,999000,998000,997000,996000,995000,994000,993000,992000,991000,990000,989000,988000,987000,986000,985000,984000,983000,982000,981000,980000,979000,978000,977000,976000,975000,974000,973000,972000,971000,970000,969000,968000,967000,966000,965000,964000,963000,962000,961000,960000,959000,958000,957000,956000,955000,954000,953000,952000,951000,950000,949000,948000,947000,946000,945000,944000,943000,942000,941000,940000,939000,938000,937000,936000,935000,934000,933000,932000,931000,930000,929000,928000,927000,926000,925000,924000,923000,922000,921000,920000,919000,918000,917000,916000,915000,914000,913000,912000,911000,910000,909000,908000,907000,906000,905000,904000,903000,902000,901000,900000,899000,898000,897000,896000,895000,894000,893000,892000,891000,890000,889000,888000,887000,886000,885000,884000,883000,882000,881000,880000,879000,878000,877000,876000,875000,874000,873000,872000,871000,870000,869000,868000,867000,866000,865000,864000,863000,862000,861000,860000,859000,858000,857000,856000,855000,854000,853000,852000,851000,850000,849000,848000,847000,846000,845000,844000,843000,842000,841000,840000,839000,838000,837000,836000,835000,834000,833000,832000,831000,830000,829000,828000,827000,826000,825000,824000,823000,822000,821000,820000,819000,818000,817000,816000,815000,814000,813000,812000,811000,810000,809000,808000,807000,806000,805000,804000,803000,802000,801000,800000,799000,798000,797000,796000,795000,794000,793000,792000,791000,790000,789000,788000,787000,786000,785000,784000,783000,782000,781000,780000,779000,778000,777000,776000,775000,774000,773000,772000,771000,770000,769000,768000,767000,766000,765000,764000,763000,762000,761000,760000,759000,758000,757000,756000,755000,754000,753000,752000,751000,750000,749000,748000,747000,746000,745000,744000,743000,742000,741000,740000,739000,738000,737000,736000,735000,734000,733000,732000,731000,730000,729000,728000,727000,726000,725000,724000,723000,722000,721000,720000,719000,718000,717000,716000,715000,714000,713000,712000,711000,710000,709000,708000,707000,706000,705000,704000,703000,702000,701000,700000,699000,698000,697000,696000,695000,694000,693000,692000,691000,690000,689000,688000,687000,686000,685000,684000,683000,682000,681000,680000,679000,678000,677000,676000,675000,674000,673000,672000,671000,670000,669000,668000,667000,666000,665000,664000,663000,662000,661000,660000,659000,658000,657000,656000,655000,654000,653000,652000,651000,650000,649000,648000,647000,646000,645000,644000,643000,642000,641000,640000,639000,638000,637000,636000,635000,634000,633000,632000,631000,630000,629000,628000,627000,626000,625000,624000,623000,622000,621000,620000,619000,618000,617000,616000,615000,614000,613000,612000,611000,610000,609000,608000,607000,606000,605000,604000,603000,602000,601000,600000,599000,598000,597000,596000,595000,594000,593000,592000,591000,590000,589000,588000,587000,586000,585000,584000,583000,582000,581000,580000,579000,578000,577000,576000,575000,574000,573000,572000,571000,570000,569000,568000,567000,566000,565000,564000,563000,562000,561000,560000,559000,558000,557000,556000,555000,554000,553000,552000,551000,550000,549000,548000,547000,546000,545000,544000,543000,542000,541000,540000,539000,538000,537000,536000,535000,534000,533000,532000,531000,530000,529000,528000,527000,526000,525000,524000,523000,522000,521000,520000,519000,518000,517000,516000,515000,514000,513000,512000,511000,510000,509000,508000,507000,506000,505000,504000,503000,502000,501000,500000,499000,498000,497000,496000,495000,494000,493000,492000,491000,490000,489000,488000,487000,486000,485000,484000,483000,482000,481000,480000,479000,478000,477000,476000,475000,474000,473000,472000,471000,470000,469000,468000,467000,466000,465000,464000,463000,462000,461000,460000,459000,458000,457000,456000,455000,454000,453000,452000,451000,450000,449000,448000,447000,446000,445000,444000,443000,442000,441000,440000,439000,438000,437000,436000,435000,434000,433000,432000,431000,430000,429000,428000,427000,426000,425000,424000,423000,422000,421000,420000,419000,418000,417000,416000,415000,414000,413000,412000,411000,410000,409000,408000,407000,406000,405000,404000,403000,402000,401000,400000,399000,398000,397000,396000,395000,394000,393000,392000,391000,390000,389000,388000,387000,386000,385000,384000,383000,382000,381000,380000,379000,378000,377000,376000,375000,374000,373000,372000,371000,370000,369000,368000,367000,366000,365000,364000,363000,362000,361000,360000,359000,358000,357000,356000,355000,354000,353000,352000,351000,350000,349000,348000,347000,346000,345000,344000,343000,342000,341000,340000,339000,338000,337000,336000,335000,334000,333000,332000,331000,330000,329000,328000,327000,326000,325000,324000,323000,322000,321000,320000,319000,318000,317000,316000,315000,314000,313000,312000,311000,310000,309000,308000,307000,306000,305000,304000,303000,302000,301000,300000,299000,298000,297000,296000,295000,294000,293000,292000,291000,290000,289000,288000,287000,286000,285000,284000,283000,282000,281000,280000,279000,278000,277000,276000,275000,274000,273000,272000,271000,270000,269000,268000,267000,266000,265000,264000,263000,262000,261000,260000,259000,258000,257000,256000,255000,254000,253000,252000,251000,250000,249000,248000,247000,246000,245000,244000,243000,242000,241000,240000,239000,238000,237000,236000,235000,234000,233000,232000,231000,230000,229000,228000,227000,226000,225000,224000,223000,222000,221000,220000,219000,218000,217000,216000,215000,214000,213000,212000,211000,210000,209000,208000,207000,206000,205000,204000,203000,202000,201000,200000,199000,198000,197000,196000,195000,194000,193000,192000,191000,190000,189000,188000,187000,186000,185000,184000,183000,182000,181000,180000,179000,178000,177000,176000,175000,174000,173000,172000,171000,170000,169000,168000,167000,166000,165000,164000,163000,162000,161000,160000,159000,158000,157000,156000,155000,154000,153000,152000,151000,150000,149000,148000,147000,146000,145000,144000,143000,142000,141000,140000,139000,138000,137000,136000,135000,134000,133000,132000,131000,130000,129000,128000,127000,126000,125000,124000,123000,122000,121000,120000,119000,118000,117000,116000,115000,114000,113000,112000,111000,110000,109000,108000,107000,106000,105000,104000,103000,102000,101000,100000,99000,98000,97000,96000,95000,94000,93000,92000,91000,90000,89000,88000,87000,86000,85000,84000,83000,82000,81000,80000,79000,78000,77000,76000,75000,74000,73000,72000,71000,70000,69000,68000,67000,66000,65000,64000,63000,62000,61000,60000,59000,58000,57000,56000,55000,54000,53000,52000,51000,50000,49000,48000,47000,46000,45000,44000,43000,42000,41000,40000,39000,38000,37000,36000,35000,34000,33000,32000,31000,30000,29000,28000,27000,26000,25000,24000,23000,22000,21000,20000,19000,18000,17000,16000,15000,14000,13000,12000,11000,10000,9000,8000,7000,6000,5000,4000,3000,2000,1000,0],\"y\":[1,72,101,131,131,172,204,204,223,223,224,224,243,243,243,243,344,344,344,344,345,345,409,409,409,409,409,427,427,427,432,443,443,443,443,443,443,443,443,443,444,444,444,444,444,444,444,444,444,444,445,445,445,445,445,445,445,445,445,445,446,446,446,446,446,446,446,446,446,446,447,447,447,447,447,447,447,447,447,447,448,448,448,448,448,448,448,448,448,448,449,449,449,449,449,449,449,449,449,449,450,450,450,450,450,450,450,450,450,450,451,451,451,451,451,451,451,451,451,451,452,452,452,452,452,452,452,452,452,452,453,453,453,453,453,453,453,453,453,453,454,454,454,454,454,454,454,454,454,454,455,455,455,455,455,455,455,455,455,455,456,456,456,456,456,456,456,456,456,456,457,457,457,457,457,457,457,457,457,457,458,458,458,458,458,458,458,458,458,458,459,459,459,459,459,459,459,459,459,459,460,460,460,460,460,460,460,460,460,460,461,461,461,461,461,461,461,461,461,461,462,462,462,462,462,462,462,462,462,462,463,463,463,463,463,463,463,463,463,463,464,464,464,464,464,464,464,464,464,464,465,465,465,465,465,465,465,465,465,465,466,466,466,467,467,501,510,510,510,510,511,511,511,511,511,512,512,560,560,561,655,662,662,662,662,662,662,662,662,662,663,663,668,680,696,698,698,698,698,698,699,699,699,699,700,700,700,704,707,707,708,708,708,708,708,708,708,713,719,719,720,759,759,759,759,759,759,759,759,759,760,760,760,760,760,760,760,760,760,760,761,824,835,846,846,846,846,846,846,846,847,847,847,955,1055,1055,1055,1063,1127,1256,1345,1347,1348,1348,1348,1348,1348,1367,1370,1370,1371,1371,1371,1371,1371,1371,1371,1371,1371,1371,1372,1379,1379,1379,1379,1379,1383,1385,1387,1387,1388,1388,1388,1388,1388,1388,1388,1388,1388,1388,1397,1397,1397,1397,1397,1397,1397,1397,1397,1397,1398,1398,1398,1398,1398,1398,1398,1398,1398,1398,1399,1399,1399,1399,1399,1399,1399,1399,1399,1399,1400,1400,1400,1400,1400,1400,1400,1400,1400,1400,1401,1401,1401,1401,1401,1401,1401,1408,1408,1408,1413,1413,1413,1413,1413,1413,1413,1413,1416,1416,1417,1417,1417,1434,1434,1434,1434,1434,1434,1434,1435,1500,1568,1583,1583,1583,1583,1583,1583,1583,1584,1584,1584,1584,1584,1584,1584,1584,1584,1584,1585,1585,1585,1585,1585,1585,1585,1585,1585,1585,1589,1589,1589,1589,1589,1589,1589,1589,1589,1643,1649,1650,1655,1661,1661,1661,1661,1661,1673,1685,1686,1686,1686,1686,1686,1686,1686,1686,1686,1686,1687,1687,1687,1687,1687,1687,1687,1687,1687,1687,1688,1688,1688,1688,1688,1688,1689,1689,1689,1689,1699,1699,1699,1699,1699,1699,1699,1699,1705,1839,1840,1840,1840,1840,1840,1840,1840,1840,1840,1840,1841,1841,1841,1841,1841,1841,1841,1841,1841,1841,1842,1842,1842,1842,1842,1842,1842,1842,1842,1842,1843,1843,1843,1843,1843,1843,1843,1843,1843,1843,1850,1850,1850,1850,1850,1850,1850,1850,1850,1850,1851,1851,1851,1851,1851,1851,1851,1866,1921,1921,1922,1922,1922,1922,1922,1922,1922,1922,1922,1922,1923,1923,1923,1923,1923,1923,1923,1923,1923,1923,1924,1924,1924,1924,1924,1924,1924,1924,1924,1924,1924,1924,1924,1924,1924,1924,1924,1924,1924,1924,1925,1925,1925,1925,1925,1925,1925,1925,1925,1925,1926,1926,1926,1926,1926,1926,1926,1926,1926,1926,1927,1927,1927,1927,1927,1927,1927,1927,1927,1927,1928,1928,1928,1928,1928,1928,1928,1928,1928,1928,1929,1929,1929,1929,1929,1929,1929,1929,1929,1929,1930,1930,1930,1930,1930,1930,1930,1930,1930,1930,1931,1931,1931,1931,1931,1931,1931,1931,1931,1931,1932,1932,1932,1932,1932,1932,1932,1932,1932,1932,1933,1933,1933,1933,1933,1933,1933,1933,1933,1933,1934,1934,1934,1934,1934,1934,1934,1934,1934,1934,1935,1935,1935,1935,1935,1935,1935,1935,1935,1935,1936,1936,1936,1936,1936,1936,1936,1936,1936,1936,1937,1937,1937,1937,1937,1937,1937,1937,1937,1937,1938,1938,1938,1938,1938,1938,1938,1938,1938,1938,1939,1939,1939,1939,1939,1939,1939,1939,1939,1939,1940,1940,1940,1940,1940,1940,1940,1940,1940,1940,1941,1941,1941,1941,1941,1941,1941,1941,1941,1941,1942,1942,1942,1942,1942,1942,1942,1942,1942,1942,1943,1943,1943,1943,1943,1943,1943,1943,1943,1943,1944,1944,1944,1944,1944,1944,1944,1944,1944,1944,1945,1945,1945,1945,1945,1945,1945,1945,1945,1945,1946,1946,1946,1946,1946,1946,1946,1946,1946,1946,1947,1947,1947,1947,1947,1947,1947,1947,1947,1947,1948,1948,1948,1948,1948,1948,1948,1948,1948,1948,1949,1949,1949,1949,1949,1949,1949,1949,1949,1949,1950,1950,1950,1950,1950,1950,1950,1950,1950,1950,1951,1951,1951,1951,1951,1951,1951,1951,1951,1951,1952,1952,1952,1952,1952,1952,1952,1952,1952,1952,1953,1953,1953,1953,1953,1953,1953,1953,1953,1953,1954,1954,1954,1954,1954,1954,1954,1954,1954,1954,1955,1955,1955,1955,1955,1955,1955,1955,1955,1955,1956,1956,1956,1956,1956,1956,1956,1956,1956,1956,1957,1957,1957,1957,1957,1957,1957,1957,1957,1957,1958,1958,1958,1958,1958,1958,1958,1958,1958,1958,2000,2000,2000,2000,2000,2000,2000,2000,2000,2000,1999,1999,1999,1999,1999,1999,1999,1999,1999,1999,1998,1998,1998,1998,1998,1998,1998,1998,1998,1998,1997,1997,1997,1997,1997,1997,1997,1997,1997,1997,1996,1996,1996,1996,1996,1996,1996,1996,1996,1996,1995,1995,1995,1995,1995,1995,1995,1995,1995,1995,1994,1994,1994,1994,1994,1994,1994,1994,1994,1994,1993,1993,1993,1993,1993,1993,1993,1993,1993,1993,1992,1992,1992,1992,1992,1992,1992,1992,1992,1992,1991,1991,1991,1991,1991,1991,1991,1991,1991,1991,1990,1990,1990,1990,1990,1990,1990,1990,1990,1990,1989,1989,1989,1989,1989,1989,1989,1989,1989,1989,1988,1988,1988,1988,1988,1988,1988,1988,1988,1988,1987,1987,1987,1987,1987,1987,1987,1987,1987,1987,1986,1986,1986,1986,1986,1986,1986,1986,1986,1986,1985,1985,1985,1985,1985,1985,1985,1985,1985,1985,1984,1984,1984,1984,1984,1984,1984,1984,1984,1984,1983,1983,1983,1983,1983,1983,1983,1983,1983,1983,1982,1982,1982,1982,1982,1982,1982,1982,1982,1982,1981,1981,1981,1981,1981,1981,1981,1981,1981,1981,1980,1980,1980,1980,1980,1980,1980,1980,1980,1980,1979,1979,1979,1979,1979,1979,1979,1979,1979,1979,1978,1978,1978,1978,1978,1978,1978,1978,1978,1978,1977,1977,1977,1977,1977,1977,1977,1977,1977,1977,1976,1976,1976,1976,1976,1976,1976,1976,1976,1976,1975,1975,1975,1975,1975,1975,1975,1975,1975,1975,1974,1974,1974,1974,1974,1974,1974,1974,1974,1974,1973,1973,1973,1973,1973,1973,1973,1973,1973,1973,1972,1972,1972,1972,1972,1972,1972,1972,1972,1972,1971,1971,1971,1971,1971,1971,1971,1971,1971,1971,1970,1970,1970,1970,1970,1970,1970,1970,1970,1970,1969,1969,1969,1969,1969,1969,1969,1969,1969,1969,1968,1968,1968,1968,1968,1968,1968,1968,1968,1968,1967,1967,1967,1967,1967,1967,1967,1967,1967,1967,1966,1966,1966,1966,1966,1966,1966,1966,1966,1966,1965,1965,1965,1965,1965,1965,1965,1965,1965,1965,1964,1964,1964,1964,1964,1964,1964,1964,1964,1964,1963,1963,1963,1963,1963,1963,1963,1963,1963,1963,1962,1962,1962,1962,1962,1962,1962,1962,1962,1962,1961,1961,1961,1961,1961,1961,1961,1961,1961,1961,1960,1960,1960,1960,1960,1960,1960,1960,1960,1960,1959,1959,1959,1959,1959,1959,1959,1959,1959,1959,1958,1958,1958,1958,1958,1958,1958,1958,1958,1958,1957,1957,1957,1957,1957,1957,1957,1957,1957,1957,1956,1956,1956,1956,1956,1956,1956,1956,1956,1956,1955,1955,1955,1955,1955,1955,1955,1955,1955,1955,1954,1954,1954,1954,1954,1954,1954,1954,1954,1954,1953,1953,1953,1953,1953,1953,1953,1953,1953,1953,1952,1952,1952,1952,1952,1952,1952,1952,1952,1952,1951,1951,1951,1951,1951,1951,1951,1951,1951,1951,1950,1950,1950,1950,1950,1950,1950,1950,1950,1950,1949,1949,1949,1949,1949,1949,1949,1949,1949,1949,1948,1948,1948,1948,1948,1948,1948,1948,1948,1948,1947,1947,1947,1947,1947,1947,1947,1947,1947,1947,1946,1946,1946,1946,1946,1946,1946,1946,1946,1946,1945,1945,1945,1945,1945,1945,1945,1945,1945,1945,1944,1944,1944,1944,1944,1944,1944,1944,1944,1944,1943,1943,1943,1943,1943,1943,1943,1943,1943,1943,1942,1942,1942,1942,1942,1942,1942,1942,1942,1942,1941,1941,1941,1941,1941,1941,1941,1941,1941,1941,1940,1940,1940,1940,1940,1940,1940,1940,1940,1940,1939,1939,1939,1939,1939,1939,1939,1939,1939,1939,1938,1938,1938,1938,1938,1938,1938,1938,1938,1938,1937,1937,1937,1937,1937,1937,1937,1937,1937,1937,1936,1936,1936,1936,1936,1936,1936,1936,1936,1936,1935,1935,1935,1935,1935,1935,1935,1935,1935,1935,1934,1934,1934,1934,1934,1934,1934,1934,1934,1934,1933,1933,1933,1933,1933,1933,1933,1933,1933,1933,1932,1932,1932,1932,1932,1932,1932,1932,1932,1932,1931,1931,1931,1931,1931,1931,1931,1931,1931,1931,1930,1930,1930,1930,1930,1930,1930,1930,1930,1930,1929,1929,1929,1929,1929,1929,1929,1929,1929,1929,1928,1928,1928,1928,1928,1928,1928,1928,1928,1928,1927,1927,1927,1927,1927,1927,1927,1927,1927,1927,1926,1926,1926,1926,1926,1926,1926,1926,1926,1926,1925,1925,1925,1925,1925,1925,1925,1925,1925,1925,1924,1924,1924,1924,1924,1924,1924,1924,1924,1924,1923,1923,1923,1923,1923,1923,1923,1923,1923,1923,1922,1922,1922,1922,1922,1922,1922,1922,1922,1922,1921,1921,1921,1921,1921,1921,1921,1921,1921,1921,1920,1920,1920,1920,1914,1914,1914,1914,1914,1914,1913,1913,1913,1913,1913,1913,1913,1913,1913,1913,1912,1912,1912,1912,1912,1912,1912,1912,1901,1901,1900,1878,1859,1859,1859,1859,1859,1859,1859,1859,1811,1803,1768,1768,1768,1768,1768,1768,1768,1768,1749,1719,1699,1654,1651,1651,1651,1651,1651,1651,1650,1650,1647,1647,1625,1553,1553,1553,1553,1553,1552,1552,1552,1552,1552,1552,1544,1542,1512,1507,1506,1506,1501,1501,1501,1501,1501,1501,1501,1501,1500,1500,1500,1500,1465,1465,1465,1465,1465,1465,1464,1464,1464,1464,1464,1464,1464,1464,1464,1464,1463,1463,1463,1463,1463,1438,1416,1401,1401,1401,1400,1389,1363,1316,1316,1212,1207,1207,1191,1191,1190,1183,1166,1166,1166,1166,1166,1166,1166,1166,1165,1165,1165,1161,1161,1161,1161,1161,1161,1161,1158,1107,1062,1062,1062,1062,1062,1061,1061,1055,1054,1054,1048,1025,1015,978,946,946,946,946,945,941,938,936,936,845,785,785,775,774,773,770,770,770,770,770,770,770,742,740,739,696,549,508,484,434,378,294,154,1]}},\"id\":\"c1d50062-3468-42f9-894c-2bda0741ae35\",\"type\":\"ColumnDataSource\"}],\"root_ids\":[\"dc62baf6-188f-46c1-8626-9f8cbd7f7ba1\"]},\"title\":\"Bokeh Application\",\"version\":\"0.12.4\"}};\n",
       "            var render_items = [{\"docid\":\"8eb6c651-ad0b-4850-ae08-d14f417d3619\",\"elementid\":\"7d68e71b-0108-45e7-aa1b-98e1075e2974\",\"modelid\":\"dc62baf6-188f-46c1-8626-9f8cbd7f7ba1\"}];\n",
       "            \n",
       "            Bokeh.embed.embed_items(docs_json, render_items);\n",
       "          };\n",
       "          if (document.readyState != \"loading\") fn();\n",
       "          else document.addEventListener(\"DOMContentLoaded\", fn);\n",
       "        })();\n",
       "      },\n",
       "      function(Bokeh) {\n",
       "      }\n",
       "    ];\n",
       "  \n",
       "    function run_inline_js() {\n",
       "      \n",
       "      if ((window.Bokeh !== undefined) || (force === true)) {\n",
       "        for (var i = 0; i < inline_js.length; i++) {\n",
       "          inline_js[i](window.Bokeh);\n",
       "        }if (force === true) {\n",
       "          display_loaded();\n",
       "        }} else if (Date.now() < window._bokeh_timeout) {\n",
       "        setTimeout(run_inline_js, 100);\n",
       "      } else if (!window._bokeh_failed_load) {\n",
       "        console.log(\"Bokeh: BokehJS failed to load within specified timeout.\");\n",
       "        window._bokeh_failed_load = true;\n",
       "      } else if (force !== true) {\n",
       "        var cell = $(document.getElementById(\"7d68e71b-0108-45e7-aa1b-98e1075e2974\")).parents('.cell').data().cell;\n",
       "        cell.output_area.append_execute_result(NB_LOAD_WARNING)\n",
       "      }\n",
       "  \n",
       "    }\n",
       "  \n",
       "    if (window._bokeh_is_loading === 0) {\n",
       "      console.log(\"Bokeh: BokehJS loaded, going straight to plotting\");\n",
       "      run_inline_js();\n",
       "    } else {\n",
       "      load_libs(js_urls, function() {\n",
       "        console.log(\"Bokeh: BokehJS plotting callback run at\", now());\n",
       "        run_inline_js();\n",
       "      });\n",
       "    }\n",
       "  }(this));\n",
       "</script>"
      ]
     },
     "metadata": {},
     "output_type": "display_data"
    }
   ],
   "source": [
    "plot_averages_b(names, t_maxs, colours, legends, directories, step=1000, title=env, min_max=False)\n",
    "plot_states(names, t_maxs, colours, legends, directories, step=1000, title=env)"
   ]
  },
  {
   "cell_type": "code",
   "execution_count": null,
   "metadata": {
    "collapsed": true,
    "deletable": true,
    "editable": true
   },
   "outputs": [],
   "source": []
  },
  {
   "cell_type": "code",
   "execution_count": null,
   "metadata": {
    "collapsed": true,
    "deletable": true,
    "editable": true
   },
   "outputs": [],
   "source": []
  },
  {
   "cell_type": "code",
   "execution_count": null,
   "metadata": {
    "collapsed": true,
    "deletable": true,
    "editable": true
   },
   "outputs": [],
   "source": [
    "DQN_Smoothed = []\n",
    "for times, rewards in zip(DQN_Lengths_C, DQN_Rewards):\n",
    "    linear = interp1d(times, rewards, kind=\"linear\")\n",
    "    linear_rewards = linear([i for i in range(500000)])\n",
    "    DQN_Smoothed.append(linear_rewards)"
   ]
  },
  {
   "cell_type": "code",
   "execution_count": null,
   "metadata": {
    "collapsed": true,
    "deletable": true,
    "editable": true
   },
   "outputs": [],
   "source": [
    "DQN_Means = np.mean(DQN_Smoothed, axis=0)"
   ]
  },
  {
   "cell_type": "code",
   "execution_count": null,
   "metadata": {
    "collapsed": true,
    "deletable": true,
    "editable": true
   },
   "outputs": [],
   "source": [
    "DQN_Stds = np.std(DQN_Smoothed, axis=0)"
   ]
  },
  {
   "cell_type": "code",
   "execution_count": null,
   "metadata": {
    "collapsed": false,
    "deletable": true,
    "editable": true
   },
   "outputs": [],
   "source": [
    "plt.fill_between([i for i in range(500000)], DQN_Means - DQN_Stds, DQN_Means + DQN_Stds, color=\"red\", alpha=0.3, edgecolor=\"white\")\n",
    "\n",
    "plt.plot([i for i in range(500000)], DQN_Means, color=\"red\")"
   ]
  },
  {
   "cell_type": "code",
   "execution_count": null,
   "metadata": {
    "collapsed": false,
    "deletable": true,
    "editable": true
   },
   "outputs": [],
   "source": [
    "len(DQN_Repeat)"
   ]
  },
  {
   "cell_type": "code",
   "execution_count": null,
   "metadata": {
    "collapsed": true,
    "deletable": true,
    "editable": true
   },
   "outputs": [],
   "source": [
    "plt.plot(DQN)"
   ]
  },
  {
   "cell_type": "code",
   "execution_count": null,
   "metadata": {
    "collapsed": true,
    "deletable": true,
    "editable": true
   },
   "outputs": [],
   "source": [
    "directories = [\"Logs/\"]"
   ]
  },
  {
   "cell_type": "code",
   "execution_count": null,
   "metadata": {
    "collapsed": false,
    "deletable": true,
    "editable": true
   },
   "outputs": [],
   "source": [
    "for i in range(0, 10, 2):\n",
    "    print(i)"
   ]
  },
  {
   "cell_type": "code",
   "execution_count": null,
   "metadata": {
    "collapsed": true,
    "deletable": true,
    "editable": true
   },
   "outputs": [],
   "source": []
  }
 ],
 "metadata": {
  "kernelspec": {
   "display_name": "Python 3",
   "language": "python",
   "name": "python3"
  },
  "language_info": {
   "codemirror_mode": {
    "name": "ipython",
    "version": 3
   },
   "file_extension": ".py",
   "mimetype": "text/x-python",
   "name": "python",
   "nbconvert_exporter": "python",
   "pygments_lexer": "ipython3",
   "version": "3.6.0"
  }
 },
 "nbformat": 4,
 "nbformat_minor": 2
}
