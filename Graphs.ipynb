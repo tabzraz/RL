{
 "cells": [
  {
   "cell_type": "code",
   "execution_count": 1,
   "metadata": {
    "collapsed": false,
    "deletable": true,
    "editable": true
   },
   "outputs": [
    {
     "data": {
      "text/html": [
       "\n",
       "    <div class=\"bk-root\">\n",
       "        <a href=\"http://bokeh.pydata.org\" target=\"_blank\" class=\"bk-logo bk-logo-small bk-logo-notebook\"></a>\n",
       "        <span id=\"5bcb8323-d781-4880-bddb-06f4e6bc0f33\">Loading BokehJS ...</span>\n",
       "    </div>"
      ]
     },
     "metadata": {},
     "output_type": "display_data"
    },
    {
     "data": {
      "application/javascript": [
       "\n",
       "(function(global) {\n",
       "  function now() {\n",
       "    return new Date();\n",
       "  }\n",
       "\n",
       "  var force = \"1\";\n",
       "\n",
       "  if (typeof (window._bokeh_onload_callbacks) === \"undefined\" || force !== \"\") {\n",
       "    window._bokeh_onload_callbacks = [];\n",
       "    window._bokeh_is_loading = undefined;\n",
       "  }\n",
       "\n",
       "\n",
       "  \n",
       "  if (typeof (window._bokeh_timeout) === \"undefined\" || force !== \"\") {\n",
       "    window._bokeh_timeout = Date.now() + 5000;\n",
       "    window._bokeh_failed_load = false;\n",
       "  }\n",
       "\n",
       "  var NB_LOAD_WARNING = {'data': {'text/html':\n",
       "     \"<div style='background-color: #fdd'>\\n\"+\n",
       "     \"<p>\\n\"+\n",
       "     \"BokehJS does not appear to have successfully loaded. If loading BokehJS from CDN, this \\n\"+\n",
       "     \"may be due to a slow or bad network connection. Possible fixes:\\n\"+\n",
       "     \"</p>\\n\"+\n",
       "     \"<ul>\\n\"+\n",
       "     \"<li>re-rerun `output_notebook()` to attempt to load from CDN again, or</li>\\n\"+\n",
       "     \"<li>use INLINE resources instead, as so:</li>\\n\"+\n",
       "     \"</ul>\\n\"+\n",
       "     \"<code>\\n\"+\n",
       "     \"from bokeh.resources import INLINE\\n\"+\n",
       "     \"output_notebook(resources=INLINE)\\n\"+\n",
       "     \"</code>\\n\"+\n",
       "     \"</div>\"}};\n",
       "\n",
       "  function display_loaded() {\n",
       "    if (window.Bokeh !== undefined) {\n",
       "      Bokeh.$(\"#5bcb8323-d781-4880-bddb-06f4e6bc0f33\").text(\"BokehJS successfully loaded.\");\n",
       "    } else if (Date.now() < window._bokeh_timeout) {\n",
       "      setTimeout(display_loaded, 100)\n",
       "    }\n",
       "  }\n",
       "\n",
       "  function run_callbacks() {\n",
       "    window._bokeh_onload_callbacks.forEach(function(callback) { callback() });\n",
       "    delete window._bokeh_onload_callbacks\n",
       "    console.info(\"Bokeh: all callbacks have finished\");\n",
       "  }\n",
       "\n",
       "  function load_libs(js_urls, callback) {\n",
       "    window._bokeh_onload_callbacks.push(callback);\n",
       "    if (window._bokeh_is_loading > 0) {\n",
       "      console.log(\"Bokeh: BokehJS is being loaded, scheduling callback at\", now());\n",
       "      return null;\n",
       "    }\n",
       "    if (js_urls == null || js_urls.length === 0) {\n",
       "      run_callbacks();\n",
       "      return null;\n",
       "    }\n",
       "    console.log(\"Bokeh: BokehJS not loaded, scheduling load and callback at\", now());\n",
       "    window._bokeh_is_loading = js_urls.length;\n",
       "    for (var i = 0; i < js_urls.length; i++) {\n",
       "      var url = js_urls[i];\n",
       "      var s = document.createElement('script');\n",
       "      s.src = url;\n",
       "      s.async = false;\n",
       "      s.onreadystatechange = s.onload = function() {\n",
       "        window._bokeh_is_loading--;\n",
       "        if (window._bokeh_is_loading === 0) {\n",
       "          console.log(\"Bokeh: all BokehJS libraries loaded\");\n",
       "          run_callbacks()\n",
       "        }\n",
       "      };\n",
       "      s.onerror = function() {\n",
       "        console.warn(\"failed to load library \" + url);\n",
       "      };\n",
       "      console.log(\"Bokeh: injecting script tag for BokehJS library: \", url);\n",
       "      document.getElementsByTagName(\"head\")[0].appendChild(s);\n",
       "    }\n",
       "  };var element = document.getElementById(\"5bcb8323-d781-4880-bddb-06f4e6bc0f33\");\n",
       "  if (element == null) {\n",
       "    console.log(\"Bokeh: ERROR: autoload.js configured with elementid '5bcb8323-d781-4880-bddb-06f4e6bc0f33' but no matching script tag was found. \")\n",
       "    return false;\n",
       "  }\n",
       "\n",
       "  var js_urls = ['https://cdn.pydata.org/bokeh/release/bokeh-0.12.3.min.js', 'https://cdn.pydata.org/bokeh/release/bokeh-widgets-0.12.3.min.js'];\n",
       "\n",
       "  var inline_js = [\n",
       "    function(Bokeh) {\n",
       "      Bokeh.set_log_level(\"info\");\n",
       "    },\n",
       "    \n",
       "    function(Bokeh) {\n",
       "      \n",
       "      Bokeh.$(\"#5bcb8323-d781-4880-bddb-06f4e6bc0f33\").text(\"BokehJS is loading...\");\n",
       "    },\n",
       "    function(Bokeh) {\n",
       "      console.log(\"Bokeh: injecting CSS: https://cdn.pydata.org/bokeh/release/bokeh-0.12.3.min.css\");\n",
       "      Bokeh.embed.inject_css(\"https://cdn.pydata.org/bokeh/release/bokeh-0.12.3.min.css\");\n",
       "      console.log(\"Bokeh: injecting CSS: https://cdn.pydata.org/bokeh/release/bokeh-widgets-0.12.3.min.css\");\n",
       "      Bokeh.embed.inject_css(\"https://cdn.pydata.org/bokeh/release/bokeh-widgets-0.12.3.min.css\");\n",
       "    }\n",
       "  ];\n",
       "\n",
       "  function run_inline_js() {\n",
       "    \n",
       "    if ((window.Bokeh !== undefined) || (force === \"1\")) {\n",
       "      for (var i = 0; i < inline_js.length; i++) {\n",
       "        inline_js[i](window.Bokeh);\n",
       "      }if (force === \"1\") {\n",
       "        display_loaded();\n",
       "      }} else if (Date.now() < window._bokeh_timeout) {\n",
       "      setTimeout(run_inline_js, 100);\n",
       "    } else if (!window._bokeh_failed_load) {\n",
       "      console.log(\"Bokeh: BokehJS failed to load within specified timeout.\");\n",
       "      window._bokeh_failed_load = true;\n",
       "    } else if (!force) {\n",
       "      var cell = $(\"#5bcb8323-d781-4880-bddb-06f4e6bc0f33\").parents('.cell').data().cell;\n",
       "      cell.output_area.append_execute_result(NB_LOAD_WARNING)\n",
       "    }\n",
       "\n",
       "  }\n",
       "\n",
       "  if (window._bokeh_is_loading === 0) {\n",
       "    console.log(\"Bokeh: BokehJS loaded, going straight to plotting\");\n",
       "    run_inline_js();\n",
       "  } else {\n",
       "    load_libs(js_urls, function() {\n",
       "      console.log(\"Bokeh: BokehJS plotting callback run at\", now());\n",
       "      run_inline_js();\n",
       "    });\n",
       "  }\n",
       "}(this));"
      ]
     },
     "metadata": {},
     "output_type": "display_data"
    }
   ],
   "source": [
    "from bokeh.plotting import figure, output_notebook, show\n",
    "output_notebook()"
   ]
  },
  {
   "cell_type": "code",
   "execution_count": 2,
   "metadata": {
    "collapsed": true,
    "deletable": true,
    "editable": true
   },
   "outputs": [],
   "source": [
    "import glob"
   ]
  },
  {
   "cell_type": "code",
   "execution_count": 3,
   "metadata": {
    "collapsed": true,
    "deletable": true,
    "editable": true
   },
   "outputs": [],
   "source": [
    "import numpy as np"
   ]
  },
  {
   "cell_type": "code",
   "execution_count": 4,
   "metadata": {
    "collapsed": true,
    "deletable": true,
    "editable": true
   },
   "outputs": [],
   "source": [
    "from scipy.interpolate import interp1d\n",
    "from scipy.interpolate import spline"
   ]
  },
  {
   "cell_type": "code",
   "execution_count": 5,
   "metadata": {
    "collapsed": true,
    "deletable": true,
    "editable": true
   },
   "outputs": [],
   "source": [
    "from tqdm import tqdm"
   ]
  },
  {
   "cell_type": "code",
   "execution_count": 7,
   "metadata": {
    "collapsed": true,
    "deletable": true,
    "editable": true
   },
   "outputs": [],
   "source": [
    "DQN_Rewards_Path = \"/home/tabz/Dropbox/RL/Log_Files/March 2017/Maze_5_Batch_Sizes_Logs/*DQN*/logs/Episode_Rewards.txt\"\n",
    "DQN_Lengths_Path = \"/home/tabz/Dropbox/RL/Log_Files/March 2017/Maze_5_Batch_Sizes_Logs/*DQN*/logs/Episode_Lengths.txt\"\n",
    "DQN_Rewards = []\n",
    "DQN_Lengths = []\n",
    "DQN_Lengths_C = []"
   ]
  },
  {
   "cell_type": "code",
   "execution_count": 8,
   "metadata": {
    "collapsed": true,
    "deletable": true,
    "editable": true
   },
   "outputs": [],
   "source": [
    "for filename in glob.glob(DQN_Rewards_Path):\n",
    "    run_logs = [0]\n",
    "#     print(filename)\n",
    "    with open(filename, \"r\") as f:\n",
    "        for line in f:\n",
    "            try:\n",
    "                ep_r = float(line)\n",
    "            except:\n",
    "                continue\n",
    "            run_logs.append(ep_r)\n",
    "    DQN_Rewards.append(run_logs)"
   ]
  },
  {
   "cell_type": "code",
   "execution_count": 9,
   "metadata": {
    "collapsed": true,
    "deletable": true,
    "editable": true
   },
   "outputs": [],
   "source": [
    "for filename in glob.glob(DQN_Lengths_Path):\n",
    "    run_logs = [0]\n",
    "#     print(filename)\n",
    "    with open(filename, \"r\") as f:\n",
    "        for line in f:\n",
    "            try:\n",
    "                ep_r = float(line)\n",
    "            except:\n",
    "                continue\n",
    "            run_logs.append(ep_r)\n",
    "    DQN_Lengths.append(run_logs)\n",
    "    run_logs_c = np.cumsum(run_logs).astype(np.int32)\n",
    "    DQN_Lengths_C.append(run_logs_c)"
   ]
  },
  {
   "cell_type": "markdown",
   "metadata": {
    "collapsed": false,
    "deletable": true,
    "editable": true
   },
   "source": [
    "for lens, runs in zip(DQN_Lengths_C, DQN_Rewards):\n",
    "    plt.plot(lens, runs)\n",
    "plt.show()"
   ]
  },
  {
   "cell_type": "markdown",
   "metadata": {
    "collapsed": false,
    "deletable": true,
    "editable": true
   },
   "source": [
    "p = figure(width=500, height=500, y_range=(-1,3))\n",
    "for lens, runs in zip(DQN_Lengths_C, DQN_Rewards):\n",
    "    p.line(lens, runs)\n",
    "show(p)"
   ]
  },
  {
   "cell_type": "code",
   "execution_count": null,
   "metadata": {
    "collapsed": true,
    "deletable": true,
    "editable": true
   },
   "outputs": [],
   "source": []
  },
  {
   "cell_type": "markdown",
   "metadata": {
    "collapsed": true,
    "deletable": true,
    "editable": true
   },
   "source": [
    "def plot_averages(names, t_maxs, colors, legends=None, directory=\"Logs/\", step=10):\n",
    "    plt.figure(figsize=(10,10))\n",
    "    plt.ylim(-1, 3)\n",
    "    for name, color, t_max in tqdm(zip(names, colors, t_maxs)):\n",
    "        # TODO: Remove DQN from names\n",
    "        DQN_Rewards_Path = directory + \"*\" + name + \"*/logs/Episode_Rewards.txt\"\n",
    "        DQN_Lengths_Path = directory + \"*\" + name + \"*/logs/Episode_Lengths.txt\"\n",
    "        DQN_Rewards = []\n",
    "        DQN_Lengths = []\n",
    "        DQN_Lengths_C = []\n",
    "        for filename in glob.glob(DQN_Rewards_Path):\n",
    "            run_logs = [0]\n",
    "            with open(filename, \"r\") as f:\n",
    "                for line in f:\n",
    "                    try:\n",
    "                        ep_r = float(line)\n",
    "                    except:\n",
    "                        continue\n",
    "                    run_logs.append(ep_r)\n",
    "            DQN_Rewards.append(run_logs)\n",
    "        for filename in glob.glob(DQN_Lengths_Path):\n",
    "            run_logs = [0]\n",
    "        #     print(filename)\n",
    "            with open(filename, \"r\") as f:\n",
    "                for line in f:\n",
    "                    try:\n",
    "                        ep_r = float(line)\n",
    "                    except:\n",
    "                        continue\n",
    "                    run_logs.append(ep_r)\n",
    "            DQN_Lengths.append(run_logs)\n",
    "            run_logs_c = np.cumsum(run_logs).astype(np.int32)\n",
    "            DQN_Lengths_C.append(run_logs_c)\n",
    "        DQN_Smoothed = []\n",
    "        for times, rewards in zip(DQN_Lengths_C, DQN_Rewards):\n",
    "#             linear = interp1d(times, rewards, kind=\"linear\")\n",
    "#             linear_rewards = linear([i for i in range(500000)])\n",
    "#             DQN_Smoothed.append(linear_rewards)\n",
    "            spline_rewards = spline(times, rewards, [i for i in range(0, t_max, step)])\n",
    "            DQN_Smoothed.append(spline_rewards)\n",
    "        DQN_Means = np.mean(DQN_Smoothed, axis=0)\n",
    "        DQN_Stds = np.std(DQN_Smoothed, axis=0)\n",
    "        plt.fill_between([i for i in range(0, t_max, step)], DQN_Means - DQN_Stds, DQN_Means + DQN_Stds, color=color, alpha=0.2, edgecolor=\"white\")\n",
    "\n",
    "        plt.plot([i for i in range(0, t_max, step)], DQN_Means, color=color)\n",
    "\n",
    "    plt.title(\"Episode_Reward\")\n",
    "    plt.xlabel(\"T\")\n",
    "    plt.ylabel(\"Reward\")\n",
    "    if legends is not None:\n",
    "        plt.legend(legends, bbox_to_anchor=(1.05, 1), loc=2)\n",
    "    plt.show()"
   ]
  },
  {
   "cell_type": "code",
   "execution_count": 6,
   "metadata": {
    "collapsed": true,
    "deletable": true,
    "editable": true
   },
   "outputs": [],
   "source": [
    "from bokeh.models import Legend\n",
    "from bokeh.models.formatters import BasicTickFormatter\n",
    "from bokeh.models import HoverTool, TapTool"
   ]
  },
  {
   "cell_type": "code",
   "execution_count": 7,
   "metadata": {
    "collapsed": false,
    "deletable": true,
    "editable": true
   },
   "outputs": [],
   "source": [
    "def plot_averages_b(names, t_maxs, colors, legends, directories=\"Logs/\", step=10, title=\"\"):\n",
    "#     plt.figure(figsize=(10,10))\n",
    "    p = figure(width=1200, height=800, y_range=(-1.2, 3.2), title=title)\n",
    "    p.toolbar_location = \"above\"\n",
    "    p.yaxis.axis_label = \"Episode Reward\"\n",
    "    p.xaxis.axis_label = \"T\"\n",
    "    p.xaxis.formatter = BasicTickFormatter(use_scientific=False)\n",
    "#     p = figure(width=800, height=500)\n",
    "    lines = []\n",
    "    alpha_lines = []\n",
    "    if isinstance(directories, str):\n",
    "        dd = directories\n",
    "        directories = [dd for _ in names]\n",
    "    for name, color, t_max, legend, directory in zip(names, colors, t_maxs, legends, directories):\n",
    "#         print(directory)\n",
    "        DQN_Rewards_Path = directory + \"*\" + name + \"*/logs/Episode_Rewards.txt\"\n",
    "        DQN_Lengths_Path = directory + \"*\" + name + \"*/logs/Episode_Lengths.txt\"\n",
    "        DQN_Rewards = []\n",
    "        DQN_Lengths = []\n",
    "        DQN_Lengths_C = []\n",
    "        for filename in glob.glob(DQN_Rewards_Path):\n",
    "            run_logs = [0]\n",
    "            with open(filename, \"r\") as f:\n",
    "#                 print(f)\n",
    "                for line in f:\n",
    "                    try:\n",
    "                        ep_r = float(line)\n",
    "                    except:\n",
    "                        print(\"Nothing here for:\", filename)\n",
    "                        continue\n",
    "                    run_logs.append(ep_r)\n",
    "            DQN_Rewards.append(run_logs)\n",
    "        for filename in glob.glob(DQN_Lengths_Path):\n",
    "            run_logs = [0]\n",
    "        #     print(filename)\n",
    "            with open(filename, \"r\") as f:\n",
    "                for line in f:\n",
    "                    try:\n",
    "                        ep_r = float(line)\n",
    "                    except:\n",
    "                        continue\n",
    "                    run_logs.append(ep_r)\n",
    "            DQN_Lengths.append(run_logs)\n",
    "            run_logs_c = np.cumsum(run_logs).astype(np.int32)\n",
    "            DQN_Lengths_C.append(run_logs_c)\n",
    "        DQN_Smoothed = []\n",
    "        for times, rewards in zip(DQN_Lengths_C, DQN_Rewards):\n",
    "#             linear = interp1d(times, rewards, kind=\"linear\")\n",
    "#             linear_rewards = linear([i for i in range(500000)])\n",
    "#             DQN_Smoothed.append(linear_rewards)\n",
    "            spline_rewards = spline(times, rewards, [i for i in range(0, t_max, step)], order=1)\n",
    "            DQN_Smoothed.append(spline_rewards)\n",
    "        DQN_Means = np.mean(DQN_Smoothed, axis=0)\n",
    "        DQN_Stds = np.std(DQN_Smoothed, axis=0)\n",
    "        \n",
    "#         plt.fill_between([i for i in range(0, t_max, step)], DQN_Means - DQN_Stds, DQN_Means + DQN_Stds, color=color, alpha=0.2, edgecolor=\"white\")\n",
    "        # Error bars\n",
    "        xs = [i for i in range(0, t_max, step)]\n",
    "        xs = xs + list(reversed(xs))\n",
    "        ys = np.concatenate([DQN_Means - DQN_Stds, np.flip(DQN_Means + DQN_Stds, axis=0)])\n",
    "        lls = p.patch(xs, ys, color=color, alpha=0.1)\n",
    "\n",
    "        \n",
    "#         for x, y, yerr in zip(range(0, t_max, step), DQN_Means, DQN_Stds):\n",
    "#             lls = p.line([x, x], [y - yerr, y + yerr], color=color, alpha=0.1, hover_alpha=0.8)\n",
    "#             alpha_lines.append(lls)\n",
    "            \n",
    "\n",
    "#         plt.plot([i for i in range(0, t_max, step)], DQN_Means, color=color)\n",
    "        l = p.line([i for i in range(0, t_max, step)], DQN_Means, color=color, line_width=2)\n",
    "        lines.append(l)\n",
    "#         alpha_lines.append(lls)\n",
    "\n",
    "#     plt.title(\"Episode_Reward\")\n",
    "#     plt.xlabel(\"T\")\n",
    "#     plt.ylabel(\"Reward\")\n",
    "#     if legends is not None:\n",
    "#         plt.legend(legends)\n",
    "#     plt.show()\n",
    "#     p.line([0,1], [-1,3])\n",
    "    new_leg = Legend(items=[(name, [line]) for name, line in zip(legends, lines)], location=(0,-30))\n",
    "    p.add_layout(new_leg, \"right\")\n",
    "#     p.add_tools(HoverTool(renderers=alpha_lines))\n",
    "#     p.add_tools(TapTool(renderers=alpha_lines))\n",
    "    show(p)"
   ]
  },
  {
   "cell_type": "code",
   "execution_count": null,
   "metadata": {
    "collapsed": true,
    "deletable": true,
    "editable": true
   },
   "outputs": [],
   "source": []
  },
  {
   "cell_type": "code",
   "execution_count": 43,
   "metadata": {
    "collapsed": false,
    "deletable": true,
    "editable": true
   },
   "outputs": [
    {
     "name": "stdout",
     "output_type": "stream",
     "text": [
      "['LR_0.001*Count_Cts*Beta_0.01*_Eps_0.1', 'LR_0.001*Count_Cts*Beta_0.001*_Eps_0.1', 'LR_0.001*Count_Cts*Beta_0.01*_Eps_1', 'LR_0.001*Count_Cts*Beta_0.001*_Eps_1', 'LR_0.0001*Count_Cts*Beta_0.01*_Eps_0.1', 'LR_0.0001*Count_Cts*Beta_0.001*_Eps_0.1', 'LR_0.0001*Count_Cts*Beta_0.01*_Eps_1', 'LR_0.0001*Count_Cts*Beta_0.001*_Eps_1']\n",
      "[200000, 200000, 200000, 200000, 200000, 200000, 200000, 200000]\n"
     ]
    }
   ],
   "source": [
    "names = []\n",
    "legends = []\n",
    "t_maxs = []\n",
    "\n",
    "\n",
    "for lr in [0.001, 0.0001]:\n",
    "    for eps in [0.1, 1]:\n",
    "        # DQN\n",
    "#         names += [\"LR_{}*DQN_Eps_{}\".format(lr, eps)]\n",
    "#         legends += [\"DQN_{}_Epsilon_{}_Lr\".format(eps, lr)]\n",
    "#         t_maxs += [200000]\n",
    "#         continue\n",
    "        # Count\n",
    "        for beta in [0.01, 0.001]:\n",
    "            # Counts\n",
    "            names += [\"LR_{}*Count_Cts*Beta_{}*_Eps_{}\".format(lr, beta, eps)]\n",
    "            legends += [\"Count_{}_Epsilon_{}_Lr_{}_Beta\".format(eps, lr, beta)]\n",
    "            t_maxs += [200000]\n",
    "            \n",
    "            # Epsilon scaling\n",
    "#             names += [\"LR_{}*CountEps_Count_Cts*Beta_{}*_Eps_{}\".format(lr, beta, eps)]\n",
    "#             legends += [\"Count_Epsilon_{}_Epsilon_{}_Lr_{}_Beta\".format(eps, lr, beta)]\n",
    "#             t_maxs += [200000]\n",
    "\n",
    "# for conv in [True, False]:\n",
    "#     break\n",
    "#     names.append(\"Count*_Conv_{}*_Eps_1\".format(conv))\n",
    "#     legends.append(\"Count_Conv_{}\".format(conv))\n",
    "#     t_maxs.append(200000)\n",
    "#     break\n",
    "#     names.append(\"Count*_Conv_{}*_Eps_0.1\".format(conv))\n",
    "#     legends.append(\"Count_Conv_{}_Epsilon\".format(conv))\n",
    "#     t_maxs.append(1000000)\n",
    "    \n",
    "# Batch size names\n",
    "# names = names + [\"*Batch_{}_{}\".format(b, name) for b in [64, 128, 256] for name in names]\n",
    "# legends = legends + [\"{}_Batch_{}\".format(leg, b) for b in [64, 128, 256] for leg in legends]\n",
    "# t_maxs = t_maxs + [t_max for b in [64, 128, 256] for t_max in t_maxs]\n",
    "    \n",
    "direc = \"/home/scratch/tabhid/Log_Files/\"\n",
    "# directories =  [\"{}/{}\".format(dropbox_direc, \"Maze_5_Logs/\")] + 3 * [\"{}/{}\".format(dropbox_direc, \"Maze_5_Batch_Sizes_Logs/\")] \n",
    "directories = direc + \"/Epsilon_Count_Logs/\"\n",
    "    \n",
    "print(names)\n",
    "print(t_maxs)\n",
    "# colours = [\"red\", \"#3366ff\", \"#66ff33\", \"yellow\"]\n",
    "# colours = rainbow(np.linspace(0, 1, len(names)))"
   ]
  },
  {
   "cell_type": "code",
   "execution_count": 44,
   "metadata": {
    "collapsed": true,
    "deletable": true,
    "editable": true
   },
   "outputs": [],
   "source": [
    "import itertools"
   ]
  },
  {
   "cell_type": "code",
   "execution_count": 45,
   "metadata": {
    "collapsed": false,
    "deletable": true,
    "editable": true
   },
   "outputs": [],
   "source": [
    "from bokeh.palettes import magma, inferno, Purples, Oranges, Greens, Reds, Set1, Set3, Paired, Dark2"
   ]
  },
  {
   "cell_type": "code",
   "execution_count": 48,
   "metadata": {
    "collapsed": false,
    "deletable": true,
    "editable": true
   },
   "outputs": [
    {
     "data": {
      "text/html": [
       "\n",
       "\n",
       "    <div class=\"bk-root\">\n",
       "        <div class=\"plotdiv\" id=\"66c77f1d-6450-4010-b293-bd2d1da35a86\"></div>\n",
       "    </div>\n",
       "<script type=\"text/javascript\">\n",
       "  \n",
       "  (function(global) {\n",
       "    function now() {\n",
       "      return new Date();\n",
       "    }\n",
       "  \n",
       "    var force = \"\";\n",
       "  \n",
       "    if (typeof (window._bokeh_onload_callbacks) === \"undefined\" || force !== \"\") {\n",
       "      window._bokeh_onload_callbacks = [];\n",
       "      window._bokeh_is_loading = undefined;\n",
       "    }\n",
       "  \n",
       "  \n",
       "    \n",
       "    if (typeof (window._bokeh_timeout) === \"undefined\" || force !== \"\") {\n",
       "      window._bokeh_timeout = Date.now() + 0;\n",
       "      window._bokeh_failed_load = false;\n",
       "    }\n",
       "  \n",
       "    var NB_LOAD_WARNING = {'data': {'text/html':\n",
       "       \"<div style='background-color: #fdd'>\\n\"+\n",
       "       \"<p>\\n\"+\n",
       "       \"BokehJS does not appear to have successfully loaded. If loading BokehJS from CDN, this \\n\"+\n",
       "       \"may be due to a slow or bad network connection. Possible fixes:\\n\"+\n",
       "       \"</p>\\n\"+\n",
       "       \"<ul>\\n\"+\n",
       "       \"<li>re-rerun `output_notebook()` to attempt to load from CDN again, or</li>\\n\"+\n",
       "       \"<li>use INLINE resources instead, as so:</li>\\n\"+\n",
       "       \"</ul>\\n\"+\n",
       "       \"<code>\\n\"+\n",
       "       \"from bokeh.resources import INLINE\\n\"+\n",
       "       \"output_notebook(resources=INLINE)\\n\"+\n",
       "       \"</code>\\n\"+\n",
       "       \"</div>\"}};\n",
       "  \n",
       "    function display_loaded() {\n",
       "      if (window.Bokeh !== undefined) {\n",
       "        Bokeh.$(\"#66c77f1d-6450-4010-b293-bd2d1da35a86\").text(\"BokehJS successfully loaded.\");\n",
       "      } else if (Date.now() < window._bokeh_timeout) {\n",
       "        setTimeout(display_loaded, 100)\n",
       "      }\n",
       "    }\n",
       "  \n",
       "    function run_callbacks() {\n",
       "      window._bokeh_onload_callbacks.forEach(function(callback) { callback() });\n",
       "      delete window._bokeh_onload_callbacks\n",
       "      console.info(\"Bokeh: all callbacks have finished\");\n",
       "    }\n",
       "  \n",
       "    function load_libs(js_urls, callback) {\n",
       "      window._bokeh_onload_callbacks.push(callback);\n",
       "      if (window._bokeh_is_loading > 0) {\n",
       "        console.log(\"Bokeh: BokehJS is being loaded, scheduling callback at\", now());\n",
       "        return null;\n",
       "      }\n",
       "      if (js_urls == null || js_urls.length === 0) {\n",
       "        run_callbacks();\n",
       "        return null;\n",
       "      }\n",
       "      console.log(\"Bokeh: BokehJS not loaded, scheduling load and callback at\", now());\n",
       "      window._bokeh_is_loading = js_urls.length;\n",
       "      for (var i = 0; i < js_urls.length; i++) {\n",
       "        var url = js_urls[i];\n",
       "        var s = document.createElement('script');\n",
       "        s.src = url;\n",
       "        s.async = false;\n",
       "        s.onreadystatechange = s.onload = function() {\n",
       "          window._bokeh_is_loading--;\n",
       "          if (window._bokeh_is_loading === 0) {\n",
       "            console.log(\"Bokeh: all BokehJS libraries loaded\");\n",
       "            run_callbacks()\n",
       "          }\n",
       "        };\n",
       "        s.onerror = function() {\n",
       "          console.warn(\"failed to load library \" + url);\n",
       "        };\n",
       "        console.log(\"Bokeh: injecting script tag for BokehJS library: \", url);\n",
       "        document.getElementsByTagName(\"head\")[0].appendChild(s);\n",
       "      }\n",
       "    };var element = document.getElementById(\"66c77f1d-6450-4010-b293-bd2d1da35a86\");\n",
       "    if (element == null) {\n",
       "      console.log(\"Bokeh: ERROR: autoload.js configured with elementid '66c77f1d-6450-4010-b293-bd2d1da35a86' but no matching script tag was found. \")\n",
       "      return false;\n",
       "    }\n",
       "  \n",
       "    var js_urls = [];\n",
       "  \n",
       "    var inline_js = [\n",
       "      function(Bokeh) {\n",
       "        Bokeh.$(function() {\n",
       "            var docs_json = {\"00ecb60f-77b2-4cc2-91bb-fefc93d4ff05\":{\"roots\":{\"references\":[{\"attributes\":{\"fill_alpha\":{\"value\":0.1},\"fill_color\":{\"value\":\"#1f77b4\"},\"line_alpha\":{\"value\":0.1},\"line_color\":{\"value\":\"#1f77b4\"},\"x\":{\"field\":\"x\"},\"y\":{\"field\":\"y\"}},\"id\":\"d92d293a-d8d7-42dc-a03e-bb00df700867\",\"type\":\"Patch\"},{\"attributes\":{\"fill_alpha\":{\"value\":0.1},\"fill_color\":{\"value\":\"#1f77b4\"},\"line_alpha\":{\"value\":0.1},\"line_color\":{\"value\":\"#1f77b4\"},\"x\":{\"field\":\"x\"},\"y\":{\"field\":\"y\"}},\"id\":\"5bf4b6c7-252d-41f0-8863-a0c9f597f550\",\"type\":\"Patch\"},{\"attributes\":{\"callback\":null,\"column_names\":[\"x\",\"y\"],\"data\":{\"x\":[0,10000,20000,30000,40000,50000,60000,70000,80000,90000,100000,110000,120000,130000,140000,150000,160000,170000,180000,190000],\"y\":[0.0,0.22992626212286615,0.13021296296296297,0.018944444444444444,0.0,0.0,0.05995203836930455,0.1598721023181455,0.08037037037037037,0.0,0.0,0.0,0.0,0.0,0.0,0.020054611650485436,0.141697857418887,0.24119056299655242,0.18978703703703703,0.29055214318737205]}},\"id\":\"8cb194c6-b513-457d-8425-2e3f7b039b79\",\"type\":\"ColumnDataSource\"},{\"attributes\":{},\"id\":\"c1f9ca45-056f-4f0a-a87c-ecb4af73203c\",\"type\":\"ToolEvents\"},{\"attributes\":{\"active_drag\":\"auto\",\"active_scroll\":\"auto\",\"active_tap\":\"auto\",\"tools\":[{\"id\":\"43705b45-0085-4c04-8e48-62273c9b83d2\",\"type\":\"PanTool\"},{\"id\":\"9f950cb4-413c-40a0-9e38-47aafca396ea\",\"type\":\"WheelZoomTool\"},{\"id\":\"e43ac2fa-94a2-4d8d-b7a3-09db23e87854\",\"type\":\"BoxZoomTool\"},{\"id\":\"e1c563df-49dc-42ec-8ae2-5c4395aae533\",\"type\":\"SaveTool\"},{\"id\":\"eb3f774b-ff1b-45aa-a758-2357d6b54fcb\",\"type\":\"ResetTool\"},{\"id\":\"fce0c6e1-5f1c-4395-a052-ef01d04e4565\",\"type\":\"HelpTool\"}]},\"id\":\"9759c696-e6c0-4021-b44b-49373fc4f97e\",\"type\":\"Toolbar\"},{\"attributes\":{\"line_color\":{\"value\":\"#b2df8a\"},\"line_width\":{\"value\":2},\"x\":{\"field\":\"x\"},\"y\":{\"field\":\"y\"}},\"id\":\"1893e463-9aa0-4544-a8aa-57083f9d0e85\",\"type\":\"Line\"},{\"attributes\":{\"data_source\":{\"id\":\"d5477c54-528f-4745-b78c-8107ae6ced09\",\"type\":\"ColumnDataSource\"},\"glyph\":{\"id\":\"ea8e4674-c15f-4ad8-afe9-0c463cd8e7cf\",\"type\":\"Patch\"},\"hover_glyph\":null,\"nonselection_glyph\":{\"id\":\"253bc6de-6721-4fa0-8c8b-5d540f0bcde5\",\"type\":\"Patch\"},\"selection_glyph\":null},\"id\":\"32a61ce4-544f-49f7-a4c8-50fe54a1fbf3\",\"type\":\"GlyphRenderer\"},{\"attributes\":{\"label\":{\"value\":\"Count_1_Epsilon_0.001_Lr_0.01_Beta\"},\"renderers\":[{\"id\":\"e4300511-ad98-4767-a197-58f648db84fa\",\"type\":\"GlyphRenderer\"}]},\"id\":\"08010d44-0d4a-4353-9926-8874eb6166cf\",\"type\":\"LegendItem\"},{\"attributes\":{\"data_source\":{\"id\":\"44d6da2e-253d-4d9b-8f2d-eddfe7c88929\",\"type\":\"ColumnDataSource\"},\"glyph\":{\"id\":\"38fd883c-e3c1-4bf3-9507-dc06b3c000e7\",\"type\":\"Patch\"},\"hover_glyph\":null,\"nonselection_glyph\":{\"id\":\"cf13026e-38c5-44f0-a812-a5b45d0a1ed4\",\"type\":\"Patch\"},\"selection_glyph\":null},\"id\":\"ddc4e56a-5bf2-40dd-ae4e-30374b3ec4f9\",\"type\":\"GlyphRenderer\"},{\"attributes\":{\"fill_alpha\":{\"value\":0.1},\"fill_color\":{\"value\":\"#a6cee3\"},\"line_alpha\":{\"value\":0.1},\"line_color\":{\"value\":\"#a6cee3\"},\"x\":{\"field\":\"x\"},\"y\":{\"field\":\"y\"}},\"id\":\"283d3ecf-aed6-4131-80dc-a50b73165b87\",\"type\":\"Patch\"},{\"attributes\":{\"data_source\":{\"id\":\"fccb96ce-d52b-4b3a-ad99-689c14d76bfa\",\"type\":\"ColumnDataSource\"},\"glyph\":{\"id\":\"8b359613-16d9-4357-87ce-73194f448bb1\",\"type\":\"Line\"},\"hover_glyph\":null,\"nonselection_glyph\":{\"id\":\"f8209cd2-6d0c-4bac-9b0d-b99c5939f704\",\"type\":\"Line\"},\"selection_glyph\":null},\"id\":\"1d9ca579-7a6f-486e-ad56-b255b5f82f06\",\"type\":\"GlyphRenderer\"},{\"attributes\":{\"data_source\":{\"id\":\"73e377fd-da37-4f33-bd96-b5e2d15641b8\",\"type\":\"ColumnDataSource\"},\"glyph\":{\"id\":\"7073cb31-31b6-467a-9688-ca2c71a60144\",\"type\":\"Patch\"},\"hover_glyph\":null,\"nonselection_glyph\":{\"id\":\"53f6b360-32b1-4597-8ddf-22315f8cb51d\",\"type\":\"Patch\"},\"selection_glyph\":null},\"id\":\"152f1a3c-fe87-4f72-97e3-855205772789\",\"type\":\"GlyphRenderer\"},{\"attributes\":{\"callback\":null,\"column_names\":[\"x\",\"y\"],\"data\":{\"x\":[0,10000,20000,30000,40000,50000,60000,70000,80000,90000,100000,110000,120000,130000,140000,150000,160000,170000,180000,190000],\"y\":[0.0,0.13539128080151638,0.16666666666666666,0.14355555555555558,0.10336562501819539,0.20670467026627903,0.22844444444444445,0.07361111111111111,0.0,0.0,0.16666666666666666,0.16666666666666666,0.1436388888888889,0.051046296296296305,0.0,0.0,0.10443027785826975,0.10987037037037038,0.017277777777777777,0.0]}},\"id\":\"29ce9f5c-41a5-466f-87ec-6f63567e2cd4\",\"type\":\"ColumnDataSource\"},{\"attributes\":{\"fill_alpha\":{\"value\":0.1},\"fill_color\":{\"value\":\"#1f78b4\"},\"line_alpha\":{\"value\":0.1},\"line_color\":{\"value\":\"#1f78b4\"},\"x\":{\"field\":\"x\"},\"y\":{\"field\":\"y\"}},\"id\":\"c764c4f4-c099-4b50-9b9b-c531260194a5\",\"type\":\"Patch\"},{\"attributes\":{\"fill_alpha\":{\"value\":0.1},\"fill_color\":{\"value\":\"#ff7f00\"},\"line_alpha\":{\"value\":0.1},\"line_color\":{\"value\":\"#ff7f00\"},\"x\":{\"field\":\"x\"},\"y\":{\"field\":\"y\"}},\"id\":\"38fd883c-e3c1-4bf3-9507-dc06b3c000e7\",\"type\":\"Patch\"},{\"attributes\":{\"label\":{\"value\":\"Count_0.1_Epsilon_0.0001_Lr_0.001_Beta\"},\"renderers\":[{\"id\":\"6734f654-0301-4528-98d7-2a91e7d83cc3\",\"type\":\"GlyphRenderer\"}]},\"id\":\"7dbd0074-ec64-4d64-8f90-5d7b1293f17f\",\"type\":\"LegendItem\"},{\"attributes\":{\"data_source\":{\"id\":\"057f1609-86ea-4f65-956b-ee3e6b0e4a59\",\"type\":\"ColumnDataSource\"},\"glyph\":{\"id\":\"835c8c3d-998a-4f32-9117-0aa1cf848c67\",\"type\":\"Patch\"},\"hover_glyph\":null,\"nonselection_glyph\":{\"id\":\"d92d293a-d8d7-42dc-a03e-bb00df700867\",\"type\":\"Patch\"},\"selection_glyph\":null},\"id\":\"6f80be7d-cde8-4966-8a3f-e937ec5fccd9\",\"type\":\"GlyphRenderer\"},{\"attributes\":{\"line_alpha\":{\"value\":0.1},\"line_color\":{\"value\":\"#1f77b4\"},\"line_width\":{\"value\":2},\"x\":{\"field\":\"x\"},\"y\":{\"field\":\"y\"}},\"id\":\"7c7460a1-f968-413d-825b-71f3059054b8\",\"type\":\"Line\"},{\"attributes\":{\"dimension\":1,\"plot\":{\"id\":\"4e9ea4e0-d6c2-4364-8602-63dcaaae0f63\",\"subtype\":\"Figure\",\"type\":\"Plot\"},\"ticker\":{\"id\":\"916620f9-b171-44ec-8db3-e80d7f19b5ef\",\"type\":\"BasicTicker\"}},\"id\":\"a38ca7ae-1317-4de3-b6d2-69f5ab076cf8\",\"type\":\"Grid\"},{\"attributes\":{\"callback\":null,\"column_names\":[\"x\",\"y\"],\"data\":{\"x\":[0,10000,20000,30000,40000,50000,60000,70000,80000,90000,100000,110000,120000,130000,140000,150000,160000,170000,180000,190000,190000,180000,170000,160000,150000,140000,130000,120000,110000,100000,90000,80000,70000,60000,50000,40000,30000,20000,10000,0],\"y\":[0.0,0.0,-0.017855800266678788,-0.10713480160007277,-0.12659915210134343,-0.11063172906501137,-0.023279280242912703,0.0,0.0,0.0,0.0,0.0,0.0,0.0,0.0,0.0,0.0,0.0,0.0,0.0,0.0,0.0,0.0,0.0,0.0,0.0,0.0,0.0,0.0,0.0,0.0,0.0,0.0,0.06094594690957937,0.3776132105464929,0.6892473002494915,0.6211412360444928,0.10352353934074882,0.0,0.0]}},\"id\":\"d5477c54-528f-4745-b78c-8107ae6ced09\",\"type\":\"ColumnDataSource\"},{\"attributes\":{\"items\":[{\"id\":\"f7cab319-612c-4412-8bb3-abd6fda4b012\",\"type\":\"LegendItem\"},{\"id\":\"2ba4af37-78b1-49a4-a7a4-0ae014a3ec1a\",\"type\":\"LegendItem\"},{\"id\":\"08010d44-0d4a-4353-9926-8874eb6166cf\",\"type\":\"LegendItem\"},{\"id\":\"1b275c37-b8b2-46f7-adb0-09518787428f\",\"type\":\"LegendItem\"},{\"id\":\"afae4702-f836-4c64-80d2-b894e4d77a1d\",\"type\":\"LegendItem\"},{\"id\":\"7dbd0074-ec64-4d64-8f90-5d7b1293f17f\",\"type\":\"LegendItem\"},{\"id\":\"6a80eb31-8d20-47eb-948e-788dd6066025\",\"type\":\"LegendItem\"},{\"id\":\"0bd7daac-3e8c-48f0-a7fb-6f0b9a3c59e7\",\"type\":\"LegendItem\"}],\"location\":[0,-30],\"plot\":{\"id\":\"4e9ea4e0-d6c2-4364-8602-63dcaaae0f63\",\"subtype\":\"Figure\",\"type\":\"Plot\"}},\"id\":\"972751a3-3fc6-45ad-ad85-530b9a12482d\",\"type\":\"Legend\"},{\"attributes\":{\"fill_alpha\":{\"value\":0.1},\"fill_color\":{\"value\":\"#1f77b4\"},\"line_alpha\":{\"value\":0.1},\"line_color\":{\"value\":\"#1f77b4\"},\"x\":{\"field\":\"x\"},\"y\":{\"field\":\"y\"}},\"id\":\"27391008-87ec-4f05-bdd2-074b8a97d8bb\",\"type\":\"Patch\"},{\"attributes\":{\"callback\":null},\"id\":\"ce1d8108-13d6-40b5-9477-7ee19c7e4dff\",\"type\":\"DataRange1d\"},{\"attributes\":{\"fill_alpha\":{\"value\":0.1},\"fill_color\":{\"value\":\"#1f77b4\"},\"line_alpha\":{\"value\":0.1},\"line_color\":{\"value\":\"#1f77b4\"},\"x\":{\"field\":\"x\"},\"y\":{\"field\":\"y\"}},\"id\":\"253bc6de-6721-4fa0-8c8b-5d540f0bcde5\",\"type\":\"Patch\"},{\"attributes\":{\"data_source\":{\"id\":\"243ba927-e9ab-410b-9b31-5f8e730970c7\",\"type\":\"ColumnDataSource\"},\"glyph\":{\"id\":\"9806f457-2af2-4236-8699-6706b434bfb9\",\"type\":\"Line\"},\"hover_glyph\":null,\"nonselection_glyph\":{\"id\":\"7c7460a1-f968-413d-825b-71f3059054b8\",\"type\":\"Line\"},\"selection_glyph\":null},\"id\":\"5fd93d26-cc49-48d8-bd38-7e30681fab0b\",\"type\":\"GlyphRenderer\"},{\"attributes\":{\"line_alpha\":{\"value\":0.1},\"line_color\":{\"value\":\"#1f77b4\"},\"line_width\":{\"value\":2},\"x\":{\"field\":\"x\"},\"y\":{\"field\":\"y\"}},\"id\":\"5555330c-a707-4eb4-8213-ddd7acd71f14\",\"type\":\"Line\"},{\"attributes\":{\"line_alpha\":{\"value\":0.1},\"line_color\":{\"value\":\"#1f77b4\"},\"line_width\":{\"value\":2},\"x\":{\"field\":\"x\"},\"y\":{\"field\":\"y\"}},\"id\":\"473cad6c-e84a-43b0-8618-cc1f61c0db75\",\"type\":\"Line\"},{\"attributes\":{\"callback\":null,\"column_names\":[\"x\",\"y\"],\"data\":{\"x\":[0,10000,20000,30000,40000,50000,60000,70000,80000,90000,100000,110000,120000,130000,140000,150000,160000,170000,180000,190000,190000,180000,170000,160000,150000,140000,130000,120000,110000,100000,90000,80000,70000,60000,50000,40000,30000,20000,10000,0],\"y\":[0.0,0.0,0.0,0.0,-0.05283019094327433,-0.18490566830146019,-0.10984981896336093,0.0,0.0,0.0,-0.12850809655249096,-0.160585831410181,-0.046135092752793073,0.0,0.0,0.0,0.0,0.0,0.0,-0.17713785862708367,0.4637529345800788,0.0,0.0,0.0,0.0,0.0,0.0,0.12078324090094122,0.4204191647435144,0.3364385646039746,0.0,0.0,0.0,0.2875905597041017,0.4840893243257368,0.1383112355216391,0.0,0.0,0.0,0.0]}},\"id\":\"057f1609-86ea-4f65-956b-ee3e6b0e4a59\",\"type\":\"ColumnDataSource\"},{\"attributes\":{\"data_source\":{\"id\":\"29ce9f5c-41a5-466f-87ec-6f63567e2cd4\",\"type\":\"ColumnDataSource\"},\"glyph\":{\"id\":\"d237c0cd-4728-4f51-92ca-dbcc71252e1b\",\"type\":\"Line\"},\"hover_glyph\":null,\"nonselection_glyph\":{\"id\":\"5555330c-a707-4eb4-8213-ddd7acd71f14\",\"type\":\"Line\"},\"selection_glyph\":null},\"id\":\"6734f654-0301-4528-98d7-2a91e7d83cc3\",\"type\":\"GlyphRenderer\"},{\"attributes\":{\"data_source\":{\"id\":\"a2a6279f-b539-47ff-ad76-0cea5fe58c57\",\"type\":\"ColumnDataSource\"},\"glyph\":{\"id\":\"666ac2d5-081b-4bff-8395-482769abedd3\",\"type\":\"Patch\"},\"hover_glyph\":null,\"nonselection_glyph\":{\"id\":\"1a6239c4-bb39-43ef-9efa-382c45a2837b\",\"type\":\"Patch\"},\"selection_glyph\":null},\"id\":\"716dde77-4d14-4e90-bac2-e3fbffb62bc5\",\"type\":\"GlyphRenderer\"},{\"attributes\":{\"plot\":{\"id\":\"4e9ea4e0-d6c2-4364-8602-63dcaaae0f63\",\"subtype\":\"Figure\",\"type\":\"Plot\"}},\"id\":\"e1c563df-49dc-42ec-8ae2-5c4395aae533\",\"type\":\"SaveTool\"},{\"attributes\":{\"axis_label\":\"Episode Reward\",\"formatter\":{\"id\":\"191bdb8a-a048-4be3-b960-47a95848a07e\",\"type\":\"BasicTickFormatter\"},\"plot\":{\"id\":\"4e9ea4e0-d6c2-4364-8602-63dcaaae0f63\",\"subtype\":\"Figure\",\"type\":\"Plot\"},\"ticker\":{\"id\":\"916620f9-b171-44ec-8db3-e80d7f19b5ef\",\"type\":\"BasicTicker\"}},\"id\":\"5f6a7efc-b563-460e-9c0d-1bb2b6d845ce\",\"type\":\"LinearAxis\"},{\"attributes\":{},\"id\":\"916620f9-b171-44ec-8db3-e80d7f19b5ef\",\"type\":\"BasicTicker\"},{\"attributes\":{\"use_scientific\":false},\"id\":\"7a0ff529-8e5d-4ade-809e-64c10e6f01ad\",\"type\":\"BasicTickFormatter\"},{\"attributes\":{\"fill_alpha\":{\"value\":0.1},\"fill_color\":{\"value\":\"#b2df8a\"},\"line_alpha\":{\"value\":0.1},\"line_color\":{\"value\":\"#b2df8a\"},\"x\":{\"field\":\"x\"},\"y\":{\"field\":\"y\"}},\"id\":\"666ac2d5-081b-4bff-8395-482769abedd3\",\"type\":\"Patch\"},{\"attributes\":{\"data_source\":{\"id\":\"15bbe71a-0ad7-4cb0-a0ff-5b4346aa6fb3\",\"type\":\"ColumnDataSource\"},\"glyph\":{\"id\":\"224e7a8a-8c51-44dc-bd2f-6ba307fd6ada\",\"type\":\"Line\"},\"hover_glyph\":null,\"nonselection_glyph\":{\"id\":\"1fbbee0c-8225-4000-87c2-60154db26db2\",\"type\":\"Line\"},\"selection_glyph\":null},\"id\":\"0a93c217-d030-4e08-a700-04123c93393b\",\"type\":\"GlyphRenderer\"},{\"attributes\":{\"plot\":null,\"text\":\"Wide Maze 6\"},\"id\":\"958b6eac-a4b6-48f4-ae3e-29409a04c4c9\",\"type\":\"Title\"},{\"attributes\":{\"line_color\":{\"value\":\"#ff7f00\"},\"line_width\":{\"value\":2},\"x\":{\"field\":\"x\"},\"y\":{\"field\":\"y\"}},\"id\":\"0dce836a-6b85-4a0c-a30f-72b9c77f00f3\",\"type\":\"Line\"},{\"attributes\":{\"plot\":{\"id\":\"4e9ea4e0-d6c2-4364-8602-63dcaaae0f63\",\"subtype\":\"Figure\",\"type\":\"Plot\"}},\"id\":\"eb3f774b-ff1b-45aa-a758-2357d6b54fcb\",\"type\":\"ResetTool\"},{\"attributes\":{\"callback\":null,\"column_names\":[\"x\",\"y\"],\"data\":{\"x\":[0,10000,20000,30000,40000,50000,60000,70000,80000,90000,100000,110000,120000,130000,140000,150000,160000,170000,180000,190000,190000,180000,170000,160000,150000,140000,130000,120000,110000,100000,90000,80000,70000,60000,50000,40000,30000,20000,10000,0],\"y\":[0.0,-0.09549035387836546,-0.11428732193985325,-0.023416621129301568,0.0,0.0,-0.07410479481413607,-0.19761278617102954,-0.09934324115461274,0.0,0.0,0.0,0.0,0.0,0.0,-0.024788863262359254,-0.12394096193474982,-0.10032344809018326,-0.1760747625481992,-0.1269784383422507,0.7080827247169947,0.5556488366222733,0.5827045740832881,0.40733667677252383,0.06489808656333013,0.0,0.0,0.0,0.0,0.0,0.0,0.2600839818953535,0.5173569908073206,0.19400887155274515,0.0,0.0,0.06130551001819046,0.3747132478657792,0.5553428781240978,0.0]}},\"id\":\"41f90861-b33a-44bf-b803-bfadcf194507\",\"type\":\"ColumnDataSource\"},{\"attributes\":{\"callback\":null,\"column_names\":[\"x\",\"y\"],\"data\":{\"x\":[0,10000,20000,30000,40000,50000,60000,70000,80000,90000,100000,110000,120000,130000,140000,150000,160000,170000,180000,190000,190000,180000,170000,160000,150000,140000,130000,120000,110000,100000,90000,80000,70000,60000,50000,40000,30000,20000,10000,0],\"y\":[0.0,0.0,0.0,0.0,0.0,0.0,-0.10285037854541806,-0.09615896933457171,-0.06906417445770706,-0.12667053575694787,-0.014862285191688474,-0.13063754793999058,-0.2060113295832983,-0.151910465419951,-0.03745972676256307,0.0,0.0,0.0,0.0,0.0,0.0,0.0,0.0,0.0,0.0,0.09807083787367418,0.3977067617162473,0.5393446629166316,0.5943227331251757,0.848917840747244,0.6823432106453917,0.30326340578626215,0.5236034137790162,0.5441061514991816,0.0,0.0,0.0,0.0,0.0,0.0]}},\"id\":\"44d6da2e-253d-4d9b-8f2d-eddfe7c88929\",\"type\":\"ColumnDataSource\"},{\"attributes\":{\"bottom_units\":\"screen\",\"fill_alpha\":{\"value\":0.5},\"fill_color\":{\"value\":\"lightgrey\"},\"left_units\":\"screen\",\"level\":\"overlay\",\"line_alpha\":{\"value\":1.0},\"line_color\":{\"value\":\"black\"},\"line_dash\":[4,4],\"line_width\":{\"value\":2},\"plot\":null,\"render_mode\":\"css\",\"right_units\":\"screen\",\"top_units\":\"screen\"},\"id\":\"be9bf579-7b94-4f3a-ba9f-24176b81766b\",\"type\":\"BoxAnnotation\"},{\"attributes\":{\"fill_alpha\":{\"value\":0.1},\"fill_color\":{\"value\":\"#1f77b4\"},\"line_alpha\":{\"value\":0.1},\"line_color\":{\"value\":\"#1f77b4\"},\"x\":{\"field\":\"x\"},\"y\":{\"field\":\"y\"}},\"id\":\"1a6239c4-bb39-43ef-9efa-382c45a2837b\",\"type\":\"Patch\"},{\"attributes\":{\"line_color\":{\"value\":\"#fdbf6f\"},\"line_width\":{\"value\":2},\"x\":{\"field\":\"x\"},\"y\":{\"field\":\"y\"}},\"id\":\"9806f457-2af2-4236-8699-6706b434bfb9\",\"type\":\"Line\"},{\"attributes\":{\"fill_alpha\":{\"value\":0.1},\"fill_color\":{\"value\":\"#fdbf6f\"},\"line_alpha\":{\"value\":0.1},\"line_color\":{\"value\":\"#fdbf6f\"},\"x\":{\"field\":\"x\"},\"y\":{\"field\":\"y\"}},\"id\":\"ea8e4674-c15f-4ad8-afe9-0c463cd8e7cf\",\"type\":\"Patch\"},{\"attributes\":{\"fill_alpha\":{\"value\":0.1},\"fill_color\":{\"value\":\"#1f77b4\"},\"line_alpha\":{\"value\":0.1},\"line_color\":{\"value\":\"#1f77b4\"},\"x\":{\"field\":\"x\"},\"y\":{\"field\":\"y\"}},\"id\":\"cf13026e-38c5-44f0-a812-a5b45d0a1ed4\",\"type\":\"Patch\"},{\"attributes\":{},\"id\":\"191bdb8a-a048-4be3-b960-47a95848a07e\",\"type\":\"BasicTickFormatter\"},{\"attributes\":{\"plot\":{\"id\":\"4e9ea4e0-d6c2-4364-8602-63dcaaae0f63\",\"subtype\":\"Figure\",\"type\":\"Plot\"},\"ticker\":{\"id\":\"20ce76f5-c779-4e1f-8830-44f0e8b367a5\",\"type\":\"BasicTicker\"}},\"id\":\"9fae00ff-6c8e-45e4-b86c-74abb75da968\",\"type\":\"Grid\"},{\"attributes\":{\"data_source\":{\"id\":\"c04a7eff-bd7f-421c-809d-a7dab3fc145d\",\"type\":\"ColumnDataSource\"},\"glyph\":{\"id\":\"011b49ff-0a6a-4515-9d5a-fe2fa8c71cb0\",\"type\":\"Patch\"},\"hover_glyph\":null,\"nonselection_glyph\":{\"id\":\"5bf4b6c7-252d-41f0-8863-a0c9f597f550\",\"type\":\"Patch\"},\"selection_glyph\":null},\"id\":\"bb64fd0f-9b66-4f4f-ac3a-361c818d6365\",\"type\":\"GlyphRenderer\"},{\"attributes\":{\"callback\":null,\"column_names\":[\"x\",\"y\"],\"data\":{\"x\":[0,10000,20000,30000,40000,50000,60000,70000,80000,90000,100000,110000,120000,130000,140000,150000,160000,170000,180000,190000,190000,180000,170000,160000,150000,140000,130000,120000,110000,100000,90000,80000,70000,60000,50000,40000,30000,20000,10000,0],\"y\":[0.0,0.0,0.018948673877954778,0.14274937998420945,-0.030750083578611476,-0.18233443470063096,-0.20601132958329835,-0.20601132958329835,-0.20601132958329835,-0.09799272243845558,0.0,0.0,0.0,0.0,-0.11326353354301648,-0.20601132958329835,-0.17551020773110437,-0.061059469073716476,0.0,0.0,0.0,0.0,0.15985576537001278,0.4594916892125859,0.5393446629166316,0.29652778050153095,0.0,0.0,0.0,0.0,0.25654827799401114,0.5393446629166316,0.5393446629166316,0.5393446629166316,0.5512603606265569,0.7088426761712041,0.8379968084657425,0.2448755076855038,0.0,0.0]}},\"id\":\"73e377fd-da37-4f33-bd96-b5e2d15641b8\",\"type\":\"ColumnDataSource\"},{\"attributes\":{\"label\":{\"value\":\"Count_0.1_Epsilon_0.0001_Lr_0.01_Beta\"},\"renderers\":[{\"id\":\"0a93c217-d030-4e08-a700-04123c93393b\",\"type\":\"GlyphRenderer\"}]},\"id\":\"afae4702-f836-4c64-80d2-b894e4d77a1d\",\"type\":\"LegendItem\"},{\"attributes\":{\"line_color\":{\"value\":\"#e31a1c\"},\"line_width\":{\"value\":2},\"x\":{\"field\":\"x\"},\"y\":{\"field\":\"y\"}},\"id\":\"d237c0cd-4728-4f51-92ca-dbcc71252e1b\",\"type\":\"Line\"},{\"attributes\":{\"plot\":{\"id\":\"4e9ea4e0-d6c2-4364-8602-63dcaaae0f63\",\"subtype\":\"Figure\",\"type\":\"Plot\"}},\"id\":\"9f950cb4-413c-40a0-9e38-47aafca396ea\",\"type\":\"WheelZoomTool\"},{\"attributes\":{\"fill_alpha\":{\"value\":0.1},\"fill_color\":{\"value\":\"#1f77b4\"},\"line_alpha\":{\"value\":0.1},\"line_color\":{\"value\":\"#1f77b4\"},\"x\":{\"field\":\"x\"},\"y\":{\"field\":\"y\"}},\"id\":\"3cfe68f9-e07d-4cd2-af42-d841bc93a4e9\",\"type\":\"Patch\"},{\"attributes\":{\"line_alpha\":{\"value\":0.1},\"line_color\":{\"value\":\"#1f77b4\"},\"line_width\":{\"value\":2},\"x\":{\"field\":\"x\"},\"y\":{\"field\":\"y\"}},\"id\":\"f176e6dd-9471-4b87-8498-ba578b690e3e\",\"type\":\"Line\"},{\"attributes\":{\"callback\":null,\"column_names\":[\"x\",\"y\"],\"data\":{\"x\":[0,10000,20000,30000,40000,50000,60000,70000,80000,90000,100000,110000,120000,130000,140000,150000,160000,170000,180000,190000],\"y\":[0.0,0.0,0.0,0.0,0.0,0.0,0.08830801836806783,0.12337037037037037,0.3521397249597307,0.4018425925925926,0.255312845651081,0.38370444788860597,0.2859351851851852,0.08365543148249255,0.4198495402054121,0.26969444444444446,0.06376851851851852,0.0,0.07543844316261726,0.13206481481481483]}},\"id\":\"f556fdd8-a7df-4344-889b-4192d930e522\",\"type\":\"ColumnDataSource\"},{\"attributes\":{\"line_color\":{\"value\":\"#a6cee3\"},\"line_width\":{\"value\":2},\"x\":{\"field\":\"x\"},\"y\":{\"field\":\"y\"}},\"id\":\"8b359613-16d9-4357-87ce-73194f448bb1\",\"type\":\"Line\"},{\"attributes\":{\"below\":[{\"id\":\"5c1b0e90-b469-4c6f-96f3-01f3f0269505\",\"type\":\"LinearAxis\"}],\"left\":[{\"id\":\"5f6a7efc-b563-460e-9c0d-1bb2b6d845ce\",\"type\":\"LinearAxis\"}],\"plot_height\":800,\"plot_width\":1200,\"renderers\":[{\"id\":\"5c1b0e90-b469-4c6f-96f3-01f3f0269505\",\"type\":\"LinearAxis\"},{\"id\":\"9fae00ff-6c8e-45e4-b86c-74abb75da968\",\"type\":\"Grid\"},{\"id\":\"5f6a7efc-b563-460e-9c0d-1bb2b6d845ce\",\"type\":\"LinearAxis\"},{\"id\":\"a38ca7ae-1317-4de3-b6d2-69f5ab076cf8\",\"type\":\"Grid\"},{\"id\":\"be9bf579-7b94-4f3a-ba9f-24176b81766b\",\"type\":\"BoxAnnotation\"},{\"id\":\"27c62cd6-2a22-4c30-aff6-b8727f65afdd\",\"type\":\"GlyphRenderer\"},{\"id\":\"1d9ca579-7a6f-486e-ad56-b255b5f82f06\",\"type\":\"GlyphRenderer\"},{\"id\":\"6c5b4ab1-f79c-42b5-bad3-6cf82aea3893\",\"type\":\"GlyphRenderer\"},{\"id\":\"db87d0ba-b9f0-4040-8006-1f36b495259d\",\"type\":\"GlyphRenderer\"},{\"id\":\"716dde77-4d14-4e90-bac2-e3fbffb62bc5\",\"type\":\"GlyphRenderer\"},{\"id\":\"e4300511-ad98-4767-a197-58f648db84fa\",\"type\":\"GlyphRenderer\"},{\"id\":\"6f80be7d-cde8-4966-8a3f-e937ec5fccd9\",\"type\":\"GlyphRenderer\"},{\"id\":\"29cfe4bd-745e-4f26-adb6-7fed8d97f36a\",\"type\":\"GlyphRenderer\"},{\"id\":\"152f1a3c-fe87-4f72-97e3-855205772789\",\"type\":\"GlyphRenderer\"},{\"id\":\"0a93c217-d030-4e08-a700-04123c93393b\",\"type\":\"GlyphRenderer\"},{\"id\":\"bb64fd0f-9b66-4f4f-ac3a-361c818d6365\",\"type\":\"GlyphRenderer\"},{\"id\":\"6734f654-0301-4528-98d7-2a91e7d83cc3\",\"type\":\"GlyphRenderer\"},{\"id\":\"32a61ce4-544f-49f7-a4c8-50fe54a1fbf3\",\"type\":\"GlyphRenderer\"},{\"id\":\"5fd93d26-cc49-48d8-bd38-7e30681fab0b\",\"type\":\"GlyphRenderer\"},{\"id\":\"ddc4e56a-5bf2-40dd-ae4e-30374b3ec4f9\",\"type\":\"GlyphRenderer\"},{\"id\":\"85973563-0113-47a4-9eb4-fc604945cc84\",\"type\":\"GlyphRenderer\"},{\"id\":\"972751a3-3fc6-45ad-ad85-530b9a12482d\",\"type\":\"Legend\"}],\"right\":[{\"id\":\"972751a3-3fc6-45ad-ad85-530b9a12482d\",\"type\":\"Legend\"}],\"title\":{\"id\":\"958b6eac-a4b6-48f4-ae3e-29409a04c4c9\",\"type\":\"Title\"},\"tool_events\":{\"id\":\"c1f9ca45-056f-4f0a-a87c-ecb4af73203c\",\"type\":\"ToolEvents\"},\"toolbar\":{\"id\":\"9759c696-e6c0-4021-b44b-49373fc4f97e\",\"type\":\"Toolbar\"},\"toolbar_location\":\"above\",\"x_range\":{\"id\":\"ce1d8108-13d6-40b5-9477-7ee19c7e4dff\",\"type\":\"DataRange1d\"},\"y_range\":{\"id\":\"17f6239f-2cbc-4b30-9c98-abc65c8e7d8a\",\"type\":\"Range1d\"}},\"id\":\"4e9ea4e0-d6c2-4364-8602-63dcaaae0f63\",\"subtype\":\"Figure\",\"type\":\"Plot\"},{\"attributes\":{\"callback\":null,\"column_names\":[\"x\",\"y\"],\"data\":{\"x\":[0,10000,20000,30000,40000,50000,60000,70000,80000,90000,100000,110000,120000,130000,140000,150000,160000,170000,180000,190000],\"y\":[0.0,0.0,0.0,0.0,0.042740522289182376,0.1495918280121383,0.08887037037037038,0.0,0.0,0.0,0.1039652340257418,0.12991666666666668,0.03732407407407407,0.0,0.0,0.0,0.0,0.0,0.0,0.14330753797649756]}},\"id\":\"c976bca7-39e2-404b-82f2-0582c594af11\",\"type\":\"ColumnDataSource\"},{\"attributes\":{\"label\":{\"value\":\"Count_1_Epsilon_0.0001_Lr_0.01_Beta\"},\"renderers\":[{\"id\":\"5fd93d26-cc49-48d8-bd38-7e30681fab0b\",\"type\":\"GlyphRenderer\"}]},\"id\":\"6a80eb31-8d20-47eb-948e-788dd6066025\",\"type\":\"LegendItem\"},{\"attributes\":{\"callback\":null,\"column_names\":[\"x\",\"y\"],\"data\":{\"x\":[0,10000,20000,30000,40000,50000,60000,70000,80000,90000,100000,110000,120000,130000,140000,150000,160000,170000,180000,190000,190000,180000,170000,160000,150000,140000,130000,120000,110000,100000,90000,80000,70000,60000,50000,40000,30000,20000,10000,0],\"y\":[0.0,0.0,-0.0011489153551361986,-0.0005869872456532033,0.15953436878728922,-0.13018678367718883,-0.11663170101802683,-0.07039357396749779,-0.07854687751680971,-0.14101234150220232,-0.10705967240503533,-0.03777353811599861,-0.11274229467305846,-0.13897753195166618,-0.024526793294278235,0.0,0.0,0.0,0.0,-0.12780651999708312,0.33460181333620675,0.0,0.0,0.0,0.0,0.06421197847946343,0.36384790232203656,0.29516315942372323,0.17058835293081342,0.6102448575902205,0.6018442765017608,0.20563839504918274,0.19670838878231262,0.6133168862032121,0.7495554628068242,0.534885014578888,0.9137014338306536,0.17415381226299825,0.0,0.0]}},\"id\":\"933991eb-c2e6-452b-92d8-708d00ffcf51\",\"type\":\"ColumnDataSource\"},{\"attributes\":{\"line_color\":{\"value\":\"#33a02c\"},\"line_width\":{\"value\":2},\"x\":{\"field\":\"x\"},\"y\":{\"field\":\"y\"}},\"id\":\"4a3e31f9-cf90-4785-b4d7-2b801ca38da3\",\"type\":\"Line\"},{\"attributes\":{\"fill_alpha\":{\"value\":0.1},\"fill_color\":{\"value\":\"#33a02c\"},\"line_alpha\":{\"value\":0.1},\"line_color\":{\"value\":\"#33a02c\"},\"x\":{\"field\":\"x\"},\"y\":{\"field\":\"y\"}},\"id\":\"835c8c3d-998a-4f32-9117-0aa1cf848c67\",\"type\":\"Patch\"},{\"attributes\":{\"fill_alpha\":{\"value\":0.1},\"fill_color\":{\"value\":\"#e31a1c\"},\"line_alpha\":{\"value\":0.1},\"line_color\":{\"value\":\"#e31a1c\"},\"x\":{\"field\":\"x\"},\"y\":{\"field\":\"y\"}},\"id\":\"011b49ff-0a6a-4515-9d5a-fe2fa8c71cb0\",\"type\":\"Patch\"},{\"attributes\":{\"label\":{\"value\":\"Count_1_Epsilon_0.0001_Lr_0.001_Beta\"},\"renderers\":[{\"id\":\"85973563-0113-47a4-9eb4-fc604945cc84\",\"type\":\"GlyphRenderer\"}]},\"id\":\"0bd7daac-3e8c-48f0-a7fb-6f0b9a3c59e7\",\"type\":\"LegendItem\"},{\"attributes\":{\"label\":{\"value\":\"Count_0.1_Epsilon_0.001_Lr_0.01_Beta\"},\"renderers\":[{\"id\":\"1d9ca579-7a6f-486e-ad56-b255b5f82f06\",\"type\":\"GlyphRenderer\"}]},\"id\":\"f7cab319-612c-4412-8bb3-abd6fda4b012\",\"type\":\"LegendItem\"},{\"attributes\":{\"overlay\":{\"id\":\"be9bf579-7b94-4f3a-ba9f-24176b81766b\",\"type\":\"BoxAnnotation\"},\"plot\":{\"id\":\"4e9ea4e0-d6c2-4364-8602-63dcaaae0f63\",\"subtype\":\"Figure\",\"type\":\"Plot\"}},\"id\":\"e43ac2fa-94a2-4d8d-b7a3-09db23e87854\",\"type\":\"BoxZoomTool\"},{\"attributes\":{\"callback\":null,\"column_names\":[\"x\",\"y\"],\"data\":{\"x\":[0,10000,20000,30000,40000,50000,60000,70000,80000,90000,100000,110000,120000,130000,140000,150000,160000,170000,180000,190000,190000,180000,170000,160000,150000,140000,130000,120000,110000,100000,90000,80000,70000,60000,50000,40000,30000,20000,10000,0],\"y\":[0.0,-0.16735282663143644,-0.20601132958329835,-0.17744442521441425,-0.04283671104806998,-0.13572365731197866,-0.14141853207412647,-0.09098833723262341,0.0,0.0,-0.20601132958329835,-0.20601132958329835,-0.1775474308792059,-0.06309669222181796,0.0,0.0,-0.12908292234201257,-0.13580724649085651,-0.021356507833468586,0.0,0.0,0.055912063389024144,0.35554798723159725,0.33794347805855207,0.0,0.0,0.1651892848144106,0.46482520865698373,0.5393446629166316,0.5393446629166316,0.0,0.0,0.23821055945484565,0.5983074209630154,0.5491329978445367,0.24956796108446078,0.4645555363255254,0.5393446629166316,0.4381353882344692,0.0]}},\"id\":\"c04a7eff-bd7f-421c-809d-a7dab3fc145d\",\"type\":\"ColumnDataSource\"},{\"attributes\":{},\"id\":\"20ce76f5-c779-4e1f-8830-44f0e8b367a5\",\"type\":\"BasicTicker\"},{\"attributes\":{\"line_color\":{\"value\":\"#fb9a99\"},\"line_width\":{\"value\":2},\"x\":{\"field\":\"x\"},\"y\":{\"field\":\"y\"}},\"id\":\"224e7a8a-8c51-44dc-bd2f-6ba307fd6ada\",\"type\":\"Line\"},{\"attributes\":{\"callback\":null,\"end\":3.2,\"start\":-1.2},\"id\":\"17f6239f-2cbc-4b30-9c98-abc65c8e7d8a\",\"type\":\"Range1d\"},{\"attributes\":{\"callback\":null,\"column_names\":[\"x\",\"y\"],\"data\":{\"x\":[0,10000,20000,30000,40000,50000,60000,70000,80000,90000,100000,110000,120000,130000,140000,150000,160000,170000,180000,190000],\"y\":[0.0,0.0,0.1319120907817293,0.490373094224976,0.3390462962962963,0.18446296296296297,0.16666666666666666,0.16666666666666666,0.16666666666666666,0.07927777777777778,0.0,0.0,0.0,0.0,0.09163212347925724,0.16666666666666666,0.14199074074074075,0.049398148148148156,0.0,0.0]}},\"id\":\"15bbe71a-0ad7-4cb0-a0ff-5b4346aa6fb3\",\"type\":\"ColumnDataSource\"},{\"attributes\":{\"fill_alpha\":{\"value\":0.1},\"fill_color\":{\"value\":\"#fb9a99\"},\"line_alpha\":{\"value\":0.1},\"line_color\":{\"value\":\"#fb9a99\"},\"x\":{\"field\":\"x\"},\"y\":{\"field\":\"y\"}},\"id\":\"7073cb31-31b6-467a-9688-ca2c71a60144\",\"type\":\"Patch\"},{\"attributes\":{\"line_color\":{\"value\":\"#1f78b4\"},\"line_width\":{\"value\":2},\"x\":{\"field\":\"x\"},\"y\":{\"field\":\"y\"}},\"id\":\"ce45a1b1-6fca-4219-9ea0-35caf35fe6b8\",\"type\":\"Line\"},{\"attributes\":{\"data_source\":{\"id\":\"f556fdd8-a7df-4344-889b-4192d930e522\",\"type\":\"ColumnDataSource\"},\"glyph\":{\"id\":\"1893e463-9aa0-4544-a8aa-57083f9d0e85\",\"type\":\"Line\"},\"hover_glyph\":null,\"nonselection_glyph\":{\"id\":\"f176e6dd-9471-4b87-8498-ba578b690e3e\",\"type\":\"Line\"},\"selection_glyph\":null},\"id\":\"e4300511-ad98-4767-a197-58f648db84fa\",\"type\":\"GlyphRenderer\"},{\"attributes\":{\"callback\":null,\"column_names\":[\"x\",\"y\"],\"data\":{\"x\":[0,10000,20000,30000,40000,50000,60000,70000,80000,90000,100000,110000,120000,130000,140000,150000,160000,170000,180000,190000,190000,180000,170000,160000,150000,140000,130000,120000,110000,100000,90000,80000,70000,60000,50000,40000,30000,20000,10000,0],\"y\":[0.0,0.0,0.0,0.0,0.0,0.0,-0.10915471366123188,-0.1524941641871037,0.017335614615252126,-0.03407545433658188,-0.10529269769081623,-0.057513885043538826,-0.010790929708575314,-0.027392213940706914,-0.004295645798923109,-0.06645519330771105,-0.07882222371334309,0.0,-0.09324704386574915,-0.16324108854703243,0.42737071817666206,0.24412393019098366,0.0,0.20635926075038014,0.6058440821966,0.8439947262097474,0.194703076905692,0.5826613000789457,0.8249227808207508,0.6159183889929782,0.837760639521767,0.6869438353042093,0.3992349049278444,0.28577075039736755,0.0,0.0,0.0,0.0,0.0,0.0]}},\"id\":\"a2a6279f-b539-47ff-ad76-0cea5fe58c57\",\"type\":\"ColumnDataSource\"},{\"attributes\":{\"line_alpha\":{\"value\":0.1},\"line_color\":{\"value\":\"#1f77b4\"},\"line_width\":{\"value\":2},\"x\":{\"field\":\"x\"},\"y\":{\"field\":\"y\"}},\"id\":\"f8209cd2-6d0c-4bac-9b0d-b99c5939f704\",\"type\":\"Line\"},{\"attributes\":{\"data_source\":{\"id\":\"8cb194c6-b513-457d-8425-2e3f7b039b79\",\"type\":\"ColumnDataSource\"},\"glyph\":{\"id\":\"ce45a1b1-6fca-4219-9ea0-35caf35fe6b8\",\"type\":\"Line\"},\"hover_glyph\":null,\"nonselection_glyph\":{\"id\":\"473cad6c-e84a-43b0-8618-cc1f61c0db75\",\"type\":\"Line\"},\"selection_glyph\":null},\"id\":\"db87d0ba-b9f0-4040-8006-1f36b495259d\",\"type\":\"GlyphRenderer\"},{\"attributes\":{\"plot\":{\"id\":\"4e9ea4e0-d6c2-4364-8602-63dcaaae0f63\",\"subtype\":\"Figure\",\"type\":\"Plot\"}},\"id\":\"fce0c6e1-5f1c-4395-a052-ef01d04e4565\",\"type\":\"HelpTool\"},{\"attributes\":{\"label\":{\"value\":\"Count_0.1_Epsilon_0.001_Lr_0.001_Beta\"},\"renderers\":[{\"id\":\"db87d0ba-b9f0-4040-8006-1f36b495259d\",\"type\":\"GlyphRenderer\"}]},\"id\":\"2ba4af37-78b1-49a4-a7a4-0ae014a3ec1a\",\"type\":\"LegendItem\"},{\"attributes\":{\"callback\":null,\"column_names\":[\"x\",\"y\"],\"data\":{\"x\":[0,10000,20000,30000,40000,50000,60000,70000,80000,90000,100000,110000,120000,130000,140000,150000,160000,170000,180000,190000],\"y\":[0.0,0.0,0.04283386953703502,0.25700321722221003,0.28132407407407406,0.13349074074074074,0.018833333333333334,0.0,0.0,0.0,0.0,0.0,0.0,0.0,0.0,0.0,0.0,0.0,0.0,0.0]}},\"id\":\"243ba927-e9ab-410b-9b31-5f8e730970c7\",\"type\":\"ColumnDataSource\"},{\"attributes\":{\"axis_label\":\"T\",\"formatter\":{\"id\":\"7a0ff529-8e5d-4ade-809e-64c10e6f01ad\",\"type\":\"BasicTickFormatter\"},\"plot\":{\"id\":\"4e9ea4e0-d6c2-4364-8602-63dcaaae0f63\",\"subtype\":\"Figure\",\"type\":\"Plot\"},\"ticker\":{\"id\":\"20ce76f5-c779-4e1f-8830-44f0e8b367a5\",\"type\":\"BasicTicker\"}},\"id\":\"5c1b0e90-b469-4c6f-96f3-01f3f0269505\",\"type\":\"LinearAxis\"},{\"attributes\":{\"fill_alpha\":{\"value\":0.1},\"fill_color\":{\"value\":\"#1f77b4\"},\"line_alpha\":{\"value\":0.1},\"line_color\":{\"value\":\"#1f77b4\"},\"x\":{\"field\":\"x\"},\"y\":{\"field\":\"y\"}},\"id\":\"53f6b360-32b1-4597-8ddf-22315f8cb51d\",\"type\":\"Patch\"},{\"attributes\":{\"line_alpha\":{\"value\":0.1},\"line_color\":{\"value\":\"#1f77b4\"},\"line_width\":{\"value\":2},\"x\":{\"field\":\"x\"},\"y\":{\"field\":\"y\"}},\"id\":\"1fbbee0c-8225-4000-87c2-60154db26db2\",\"type\":\"Line\"},{\"attributes\":{\"label\":{\"value\":\"Count_1_Epsilon_0.001_Lr_0.001_Beta\"},\"renderers\":[{\"id\":\"29cfe4bd-745e-4f26-adb6-7fed8d97f36a\",\"type\":\"GlyphRenderer\"}]},\"id\":\"1b275c37-b8b2-46f7-adb0-09518787428f\",\"type\":\"LegendItem\"},{\"attributes\":{\"line_alpha\":{\"value\":0.1},\"line_color\":{\"value\":\"#1f77b4\"},\"line_width\":{\"value\":2},\"x\":{\"field\":\"x\"},\"y\":{\"field\":\"y\"}},\"id\":\"4da10622-43b3-47b4-b8dd-8bfa3e747088\",\"type\":\"Line\"},{\"attributes\":{\"callback\":null,\"column_names\":[\"x\",\"y\"],\"data\":{\"x\":[0,10000,20000,30000,40000,50000,60000,70000,80000,90000,100000,110000,120000,130000,140000,150000,160000,170000,180000,190000],\"y\":[0.0,0.0,0.08650244845393103,0.4565572232925002,0.34720969168308863,0.30968433956481767,0.24834259259259261,0.06315740740740741,0.06354575876618652,0.23041596749977922,0.2515925925925926,0.0664074074074074,0.09121043237533238,0.1124351851851852,0.019842592592592596,0.0,0.0,0.0,0.0,0.1033976466695618]}},\"id\":\"fccb96ce-d52b-4b3a-ad99-689c14d76bfa\",\"type\":\"ColumnDataSource\"},{\"attributes\":{\"data_source\":{\"id\":\"17314336-bfce-4021-8185-fcb36f5cf984\",\"type\":\"ColumnDataSource\"},\"glyph\":{\"id\":\"0dce836a-6b85-4a0c-a30f-72b9c77f00f3\",\"type\":\"Line\"},\"hover_glyph\":null,\"nonselection_glyph\":{\"id\":\"c88a6613-c8e7-4bf0-911f-233a86fbe15a\",\"type\":\"Line\"},\"selection_glyph\":null},\"id\":\"85973563-0113-47a4-9eb4-fc604945cc84\",\"type\":\"GlyphRenderer\"},{\"attributes\":{\"callback\":null,\"column_names\":[\"x\",\"y\"],\"data\":{\"x\":[0,10000,20000,30000,40000,50000,60000,70000,80000,90000,100000,110000,120000,130000,140000,150000,160000,170000,180000,190000],\"y\":[0.0,0.0,0.0,0.0,0.0,0.0,0.2206278864768818,0.21372222222222223,0.11709961566427755,0.2778363374442219,0.4170277777777778,0.23184259259259257,0.16666666666666666,0.12289814814814815,0.030305555555555558,0.0,0.0,0.0,0.0,0.0]}},\"id\":\"17314336-bfce-4021-8185-fcb36f5cf984\",\"type\":\"ColumnDataSource\"},{\"attributes\":{\"plot\":{\"id\":\"4e9ea4e0-d6c2-4364-8602-63dcaaae0f63\",\"subtype\":\"Figure\",\"type\":\"Plot\"}},\"id\":\"43705b45-0085-4c04-8e48-62273c9b83d2\",\"type\":\"PanTool\"},{\"attributes\":{\"data_source\":{\"id\":\"933991eb-c2e6-452b-92d8-708d00ffcf51\",\"type\":\"ColumnDataSource\"},\"glyph\":{\"id\":\"283d3ecf-aed6-4131-80dc-a50b73165b87\",\"type\":\"Patch\"},\"hover_glyph\":null,\"nonselection_glyph\":{\"id\":\"27391008-87ec-4f05-bdd2-074b8a97d8bb\",\"type\":\"Patch\"},\"selection_glyph\":null},\"id\":\"27c62cd6-2a22-4c30-aff6-b8727f65afdd\",\"type\":\"GlyphRenderer\"},{\"attributes\":{\"line_alpha\":{\"value\":0.1},\"line_color\":{\"value\":\"#1f77b4\"},\"line_width\":{\"value\":2},\"x\":{\"field\":\"x\"},\"y\":{\"field\":\"y\"}},\"id\":\"c88a6613-c8e7-4bf0-911f-233a86fbe15a\",\"type\":\"Line\"},{\"attributes\":{\"data_source\":{\"id\":\"c976bca7-39e2-404b-82f2-0582c594af11\",\"type\":\"ColumnDataSource\"},\"glyph\":{\"id\":\"4a3e31f9-cf90-4785-b4d7-2b801ca38da3\",\"type\":\"Line\"},\"hover_glyph\":null,\"nonselection_glyph\":{\"id\":\"4da10622-43b3-47b4-b8dd-8bfa3e747088\",\"type\":\"Line\"},\"selection_glyph\":null},\"id\":\"29cfe4bd-745e-4f26-adb6-7fed8d97f36a\",\"type\":\"GlyphRenderer\"},{\"attributes\":{\"data_source\":{\"id\":\"41f90861-b33a-44bf-b803-bfadcf194507\",\"type\":\"ColumnDataSource\"},\"glyph\":{\"id\":\"c764c4f4-c099-4b50-9b9b-c531260194a5\",\"type\":\"Patch\"},\"hover_glyph\":null,\"nonselection_glyph\":{\"id\":\"3cfe68f9-e07d-4cd2-af42-d841bc93a4e9\",\"type\":\"Patch\"},\"selection_glyph\":null},\"id\":\"6c5b4ab1-f79c-42b5-bad3-6cf82aea3893\",\"type\":\"GlyphRenderer\"}],\"root_ids\":[\"4e9ea4e0-d6c2-4364-8602-63dcaaae0f63\"]},\"title\":\"Bokeh Application\",\"version\":\"0.12.3\"}};\n",
       "            var render_items = [{\"docid\":\"00ecb60f-77b2-4cc2-91bb-fefc93d4ff05\",\"elementid\":\"66c77f1d-6450-4010-b293-bd2d1da35a86\",\"modelid\":\"4e9ea4e0-d6c2-4364-8602-63dcaaae0f63\"}];\n",
       "            \n",
       "            Bokeh.embed.embed_items(docs_json, render_items);\n",
       "        });\n",
       "      },\n",
       "      function(Bokeh) {\n",
       "      }\n",
       "    ];\n",
       "  \n",
       "    function run_inline_js() {\n",
       "      \n",
       "      if ((window.Bokeh !== undefined) || (force === \"1\")) {\n",
       "        for (var i = 0; i < inline_js.length; i++) {\n",
       "          inline_js[i](window.Bokeh);\n",
       "        }if (force === \"1\") {\n",
       "          display_loaded();\n",
       "        }} else if (Date.now() < window._bokeh_timeout) {\n",
       "        setTimeout(run_inline_js, 100);\n",
       "      } else if (!window._bokeh_failed_load) {\n",
       "        console.log(\"Bokeh: BokehJS failed to load within specified timeout.\");\n",
       "        window._bokeh_failed_load = true;\n",
       "      } else if (!force) {\n",
       "        var cell = $(\"#66c77f1d-6450-4010-b293-bd2d1da35a86\").parents('.cell').data().cell;\n",
       "        cell.output_area.append_execute_result(NB_LOAD_WARNING)\n",
       "      }\n",
       "  \n",
       "    }\n",
       "  \n",
       "    if (window._bokeh_is_loading === 0) {\n",
       "      console.log(\"Bokeh: BokehJS loaded, going straight to plotting\");\n",
       "      run_inline_js();\n",
       "    } else {\n",
       "      load_libs(js_urls, function() {\n",
       "        console.log(\"Bokeh: BokehJS plotting callback run at\", now());\n",
       "        run_inline_js();\n",
       "      });\n",
       "    }\n",
       "  }(this));\n",
       "</script>"
      ]
     },
     "metadata": {},
     "output_type": "display_data"
    }
   ],
   "source": [
    "plot_averages_b(names, t_maxs, Paired[len(names)], legends, directories, step=10000, title=\"Wide Maze 6\")"
   ]
  },
  {
   "cell_type": "code",
   "execution_count": null,
   "metadata": {
    "collapsed": true,
    "deletable": true,
    "editable": true
   },
   "outputs": [],
   "source": []
  },
  {
   "cell_type": "code",
   "execution_count": 56,
   "metadata": {
    "collapsed": false,
    "deletable": true,
    "editable": true
   },
   "outputs": [
    {
     "ename": "IsADirectoryError",
     "evalue": "[Errno 21] Is a directory: '/home/tabz/Dropbox/RL/Log_Files/March 2017/Options_Logs/Maze_10_Batch_32_Options_Count_Cts_7_Conv_True_Beta_0.01_Eps_1_uid_33_2017-03-20_23-57'",
     "output_type": "error",
     "traceback": [
      "\u001b[0;31m---------------------------------------------------------------------------\u001b[0m",
      "\u001b[0;31mIsADirectoryError\u001b[0m                         Traceback (most recent call last)",
      "\u001b[0;32m<ipython-input-56-e3851f8becb5>\u001b[0m in \u001b[0;36m<module>\u001b[0;34m()\u001b[0m\n\u001b[0;32m----> 1\u001b[0;31m \u001b[0;32mwith\u001b[0m \u001b[0mopen\u001b[0m\u001b[0;34m(\u001b[0m\u001b[0;34m\"/home/tabz/Dropbox/RL/Log_Files/March 2017/Options_Logs/Maze_10_Batch_32_Options_Count_Cts_7_Conv_True_Beta_0.01_Eps_1_uid_33_2017-03-20_23-57\"\u001b[0m\u001b[0;34m,\u001b[0m \u001b[0;34m\"r\"\u001b[0m\u001b[0;34m)\u001b[0m \u001b[0;32mas\u001b[0m \u001b[0mf\u001b[0m\u001b[0;34m:\u001b[0m\u001b[0;34m\u001b[0m\u001b[0m\n\u001b[0m\u001b[1;32m      2\u001b[0m     \u001b[0mprint\u001b[0m\u001b[0;34m(\u001b[0m\u001b[0mf\u001b[0m\u001b[0;34m)\u001b[0m\u001b[0;34m\u001b[0m\u001b[0m\n",
      "\u001b[0;31mIsADirectoryError\u001b[0m: [Errno 21] Is a directory: '/home/tabz/Dropbox/RL/Log_Files/March 2017/Options_Logs/Maze_10_Batch_32_Options_Count_Cts_7_Conv_True_Beta_0.01_Eps_1_uid_33_2017-03-20_23-57'"
     ]
    }
   ],
   "source": [
    "with open(\"/home/tabz/Dropbox/RL/Log_Files/March 2017/Options_Logs/Maze_10_Batch_32_Options_Count_Cts_7_Conv_True_Beta_0.01_Eps_1_uid_33_2017-03-20_23-57/logs/\", \"r\") as f:\n",
    "    print(f)"
   ]
  },
  {
   "cell_type": "code",
   "execution_count": null,
   "metadata": {
    "collapsed": true,
    "deletable": true,
    "editable": true
   },
   "outputs": [],
   "source": []
  },
  {
   "cell_type": "code",
   "execution_count": null,
   "metadata": {
    "collapsed": true,
    "deletable": true,
    "editable": true
   },
   "outputs": [],
   "source": [
    "DQN_Smoothed = []\n",
    "for times, rewards in zip(DQN_Lengths_C, DQN_Rewards):\n",
    "    linear = interp1d(times, rewards, kind=\"linear\")\n",
    "    linear_rewards = linear([i for i in range(500000)])\n",
    "    DQN_Smoothed.append(linear_rewards)"
   ]
  },
  {
   "cell_type": "code",
   "execution_count": null,
   "metadata": {
    "collapsed": true,
    "deletable": true,
    "editable": true
   },
   "outputs": [],
   "source": [
    "DQN_Means = np.mean(DQN_Smoothed, axis=0)"
   ]
  },
  {
   "cell_type": "code",
   "execution_count": null,
   "metadata": {
    "collapsed": true,
    "deletable": true,
    "editable": true
   },
   "outputs": [],
   "source": [
    "DQN_Stds = np.std(DQN_Smoothed, axis=0)"
   ]
  },
  {
   "cell_type": "code",
   "execution_count": null,
   "metadata": {
    "collapsed": false,
    "deletable": true,
    "editable": true
   },
   "outputs": [],
   "source": [
    "plt.fill_between([i for i in range(500000)], DQN_Means - DQN_Stds, DQN_Means + DQN_Stds, color=\"red\", alpha=0.3, edgecolor=\"white\")\n",
    "\n",
    "plt.plot([i for i in range(500000)], DQN_Means, color=\"red\")"
   ]
  },
  {
   "cell_type": "code",
   "execution_count": null,
   "metadata": {
    "collapsed": false,
    "deletable": true,
    "editable": true
   },
   "outputs": [],
   "source": [
    "len(DQN_Repeat)"
   ]
  },
  {
   "cell_type": "code",
   "execution_count": null,
   "metadata": {
    "collapsed": true,
    "deletable": true,
    "editable": true
   },
   "outputs": [],
   "source": [
    "plt.plot(DQN)"
   ]
  },
  {
   "cell_type": "code",
   "execution_count": null,
   "metadata": {
    "collapsed": true,
    "deletable": true,
    "editable": true
   },
   "outputs": [],
   "source": [
    "directories = [\"Logs/\"]"
   ]
  },
  {
   "cell_type": "code",
   "execution_count": null,
   "metadata": {
    "collapsed": false,
    "deletable": true,
    "editable": true
   },
   "outputs": [],
   "source": [
    "for i in range(0, 10, 2):\n",
    "    print(i)"
   ]
  },
  {
   "cell_type": "code",
   "execution_count": null,
   "metadata": {
    "collapsed": true,
    "deletable": true,
    "editable": true
   },
   "outputs": [],
   "source": []
  }
 ],
 "metadata": {
  "kernelspec": {
   "display_name": "Python 3",
   "language": "python",
   "name": "python3"
  },
  "language_info": {
   "codemirror_mode": {
    "name": "ipython",
    "version": 3
   },
   "file_extension": ".py",
   "mimetype": "text/x-python",
   "name": "python",
   "nbconvert_exporter": "python",
   "pygments_lexer": "ipython3",
   "version": "3.5.3"
  }
 },
 "nbformat": 4,
 "nbformat_minor": 2
}
