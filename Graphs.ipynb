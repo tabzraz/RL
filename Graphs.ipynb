{
 "cells": [
  {
   "cell_type": "code",
   "execution_count": 1,
   "metadata": {
    "collapsed": false
   },
   "outputs": [
    {
     "data": {
      "text/html": [
       "\n",
       "    <div class=\"bk-root\">\n",
       "        <a href=\"http://bokeh.pydata.org\" target=\"_blank\" class=\"bk-logo bk-logo-small bk-logo-notebook\"></a>\n",
       "        <span id=\"bbaf8e15-c236-4c11-bbff-507ddc96d0fd\">Loading BokehJS ...</span>\n",
       "    </div>"
      ]
     },
     "metadata": {},
     "output_type": "display_data"
    },
    {
     "data": {
      "application/javascript": [
       "\n",
       "(function(global) {\n",
       "  function now() {\n",
       "    return new Date();\n",
       "  }\n",
       "\n",
       "  var force = true;\n",
       "\n",
       "  if (typeof (window._bokeh_onload_callbacks) === \"undefined\" || force === true) {\n",
       "    window._bokeh_onload_callbacks = [];\n",
       "    window._bokeh_is_loading = undefined;\n",
       "  }\n",
       "\n",
       "\n",
       "  \n",
       "  if (typeof (window._bokeh_timeout) === \"undefined\" || force === true) {\n",
       "    window._bokeh_timeout = Date.now() + 5000;\n",
       "    window._bokeh_failed_load = false;\n",
       "  }\n",
       "\n",
       "  var NB_LOAD_WARNING = {'data': {'text/html':\n",
       "     \"<div style='background-color: #fdd'>\\n\"+\n",
       "     \"<p>\\n\"+\n",
       "     \"BokehJS does not appear to have successfully loaded. If loading BokehJS from CDN, this \\n\"+\n",
       "     \"may be due to a slow or bad network connection. Possible fixes:\\n\"+\n",
       "     \"</p>\\n\"+\n",
       "     \"<ul>\\n\"+\n",
       "     \"<li>re-rerun `output_notebook()` to attempt to load from CDN again, or</li>\\n\"+\n",
       "     \"<li>use INLINE resources instead, as so:</li>\\n\"+\n",
       "     \"</ul>\\n\"+\n",
       "     \"<code>\\n\"+\n",
       "     \"from bokeh.resources import INLINE\\n\"+\n",
       "     \"output_notebook(resources=INLINE)\\n\"+\n",
       "     \"</code>\\n\"+\n",
       "     \"</div>\"}};\n",
       "\n",
       "  function display_loaded() {\n",
       "    if (window.Bokeh !== undefined) {\n",
       "      document.getElementById(\"bbaf8e15-c236-4c11-bbff-507ddc96d0fd\").textContent = \"BokehJS successfully loaded.\";\n",
       "    } else if (Date.now() < window._bokeh_timeout) {\n",
       "      setTimeout(display_loaded, 100)\n",
       "    }\n",
       "  }\n",
       "\n",
       "  function run_callbacks() {\n",
       "    window._bokeh_onload_callbacks.forEach(function(callback) { callback() });\n",
       "    delete window._bokeh_onload_callbacks\n",
       "    console.info(\"Bokeh: all callbacks have finished\");\n",
       "  }\n",
       "\n",
       "  function load_libs(js_urls, callback) {\n",
       "    window._bokeh_onload_callbacks.push(callback);\n",
       "    if (window._bokeh_is_loading > 0) {\n",
       "      console.log(\"Bokeh: BokehJS is being loaded, scheduling callback at\", now());\n",
       "      return null;\n",
       "    }\n",
       "    if (js_urls == null || js_urls.length === 0) {\n",
       "      run_callbacks();\n",
       "      return null;\n",
       "    }\n",
       "    console.log(\"Bokeh: BokehJS not loaded, scheduling load and callback at\", now());\n",
       "    window._bokeh_is_loading = js_urls.length;\n",
       "    for (var i = 0; i < js_urls.length; i++) {\n",
       "      var url = js_urls[i];\n",
       "      var s = document.createElement('script');\n",
       "      s.src = url;\n",
       "      s.async = false;\n",
       "      s.onreadystatechange = s.onload = function() {\n",
       "        window._bokeh_is_loading--;\n",
       "        if (window._bokeh_is_loading === 0) {\n",
       "          console.log(\"Bokeh: all BokehJS libraries loaded\");\n",
       "          run_callbacks()\n",
       "        }\n",
       "      };\n",
       "      s.onerror = function() {\n",
       "        console.warn(\"failed to load library \" + url);\n",
       "      };\n",
       "      console.log(\"Bokeh: injecting script tag for BokehJS library: \", url);\n",
       "      document.getElementsByTagName(\"head\")[0].appendChild(s);\n",
       "    }\n",
       "  };var element = document.getElementById(\"bbaf8e15-c236-4c11-bbff-507ddc96d0fd\");\n",
       "  if (element == null) {\n",
       "    console.log(\"Bokeh: ERROR: autoload.js configured with elementid 'bbaf8e15-c236-4c11-bbff-507ddc96d0fd' but no matching script tag was found. \")\n",
       "    return false;\n",
       "  }\n",
       "\n",
       "  var js_urls = [\"https://cdn.pydata.org/bokeh/release/bokeh-0.12.4.min.js\", \"https://cdn.pydata.org/bokeh/release/bokeh-widgets-0.12.4.min.js\"];\n",
       "\n",
       "  var inline_js = [\n",
       "    function(Bokeh) {\n",
       "      Bokeh.set_log_level(\"info\");\n",
       "    },\n",
       "    \n",
       "    function(Bokeh) {\n",
       "      \n",
       "      document.getElementById(\"bbaf8e15-c236-4c11-bbff-507ddc96d0fd\").textContent = \"BokehJS is loading...\";\n",
       "    },\n",
       "    function(Bokeh) {\n",
       "      console.log(\"Bokeh: injecting CSS: https://cdn.pydata.org/bokeh/release/bokeh-0.12.4.min.css\");\n",
       "      Bokeh.embed.inject_css(\"https://cdn.pydata.org/bokeh/release/bokeh-0.12.4.min.css\");\n",
       "      console.log(\"Bokeh: injecting CSS: https://cdn.pydata.org/bokeh/release/bokeh-widgets-0.12.4.min.css\");\n",
       "      Bokeh.embed.inject_css(\"https://cdn.pydata.org/bokeh/release/bokeh-widgets-0.12.4.min.css\");\n",
       "    }\n",
       "  ];\n",
       "\n",
       "  function run_inline_js() {\n",
       "    \n",
       "    if ((window.Bokeh !== undefined) || (force === true)) {\n",
       "      for (var i = 0; i < inline_js.length; i++) {\n",
       "        inline_js[i](window.Bokeh);\n",
       "      }if (force === true) {\n",
       "        display_loaded();\n",
       "      }} else if (Date.now() < window._bokeh_timeout) {\n",
       "      setTimeout(run_inline_js, 100);\n",
       "    } else if (!window._bokeh_failed_load) {\n",
       "      console.log(\"Bokeh: BokehJS failed to load within specified timeout.\");\n",
       "      window._bokeh_failed_load = true;\n",
       "    } else if (force !== true) {\n",
       "      var cell = $(document.getElementById(\"bbaf8e15-c236-4c11-bbff-507ddc96d0fd\")).parents('.cell').data().cell;\n",
       "      cell.output_area.append_execute_result(NB_LOAD_WARNING)\n",
       "    }\n",
       "\n",
       "  }\n",
       "\n",
       "  if (window._bokeh_is_loading === 0) {\n",
       "    console.log(\"Bokeh: BokehJS loaded, going straight to plotting\");\n",
       "    run_inline_js();\n",
       "  } else {\n",
       "    load_libs(js_urls, function() {\n",
       "      console.log(\"Bokeh: BokehJS plotting callback run at\", now());\n",
       "      run_inline_js();\n",
       "    });\n",
       "  }\n",
       "}(this));"
      ]
     },
     "metadata": {},
     "output_type": "display_data"
    }
   ],
   "source": [
    "from bokeh.plotting import figure, output_notebook, show\n",
    "output_notebook()"
   ]
  },
  {
   "cell_type": "code",
   "execution_count": 2,
   "metadata": {
    "collapsed": true
   },
   "outputs": [],
   "source": [
    "import glob"
   ]
  },
  {
   "cell_type": "code",
   "execution_count": 3,
   "metadata": {
    "collapsed": true
   },
   "outputs": [],
   "source": [
    "import numpy as np"
   ]
  },
  {
   "cell_type": "code",
   "execution_count": 4,
   "metadata": {
    "collapsed": true
   },
   "outputs": [],
   "source": [
    "from scipy.interpolate import interp1d\n",
    "from scipy.interpolate import spline"
   ]
  },
  {
   "cell_type": "code",
   "execution_count": 5,
   "metadata": {
    "collapsed": true
   },
   "outputs": [],
   "source": [
    "from tqdm import tqdm"
   ]
  },
  {
   "cell_type": "code",
   "execution_count": 7,
   "metadata": {
    "collapsed": true
   },
   "outputs": [],
   "source": [
    "DQN_Rewards_Path = \"/home/tabz/Dropbox/RL/Log_Files/March 2017/Maze_5_Batch_Sizes_Logs/*DQN*/logs/Episode_Rewards.txt\"\n",
    "DQN_Lengths_Path = \"/home/tabz/Dropbox/RL/Log_Files/March 2017/Maze_5_Batch_Sizes_Logs/*DQN*/logs/Episode_Lengths.txt\"\n",
    "DQN_Rewards = []\n",
    "DQN_Lengths = []\n",
    "DQN_Lengths_C = []"
   ]
  },
  {
   "cell_type": "code",
   "execution_count": 8,
   "metadata": {
    "collapsed": true
   },
   "outputs": [],
   "source": [
    "for filename in glob.glob(DQN_Rewards_Path):\n",
    "    run_logs = [0]\n",
    "#     print(filename)\n",
    "    with open(filename, \"r\") as f:\n",
    "        for line in f:\n",
    "            try:\n",
    "                ep_r = float(line)\n",
    "            except:\n",
    "                continue\n",
    "            run_logs.append(ep_r)\n",
    "    DQN_Rewards.append(run_logs)"
   ]
  },
  {
   "cell_type": "code",
   "execution_count": 9,
   "metadata": {
    "collapsed": true
   },
   "outputs": [],
   "source": [
    "for filename in glob.glob(DQN_Lengths_Path):\n",
    "    run_logs = [0]\n",
    "#     print(filename)\n",
    "    with open(filename, \"r\") as f:\n",
    "        for line in f:\n",
    "            try:\n",
    "                ep_r = float(line)\n",
    "            except:\n",
    "                continue\n",
    "            run_logs.append(ep_r)\n",
    "    DQN_Lengths.append(run_logs)\n",
    "    run_logs_c = np.cumsum(run_logs).astype(np.int32)\n",
    "    DQN_Lengths_C.append(run_logs_c)"
   ]
  },
  {
   "cell_type": "markdown",
   "metadata": {
    "collapsed": false
   },
   "source": [
    "for lens, runs in zip(DQN_Lengths_C, DQN_Rewards):\n",
    "    plt.plot(lens, runs)\n",
    "plt.show()"
   ]
  },
  {
   "cell_type": "markdown",
   "metadata": {
    "collapsed": false
   },
   "source": [
    "p = figure(width=500, height=500, y_range=(-1,3))\n",
    "for lens, runs in zip(DQN_Lengths_C, DQN_Rewards):\n",
    "    p.line(lens, runs)\n",
    "show(p)"
   ]
  },
  {
   "cell_type": "code",
   "execution_count": null,
   "metadata": {
    "collapsed": true
   },
   "outputs": [],
   "source": []
  },
  {
   "cell_type": "markdown",
   "metadata": {
    "collapsed": true
   },
   "source": [
    "def plot_averages(names, t_maxs, colors, legends=None, directory=\"Logs/\", step=10):\n",
    "    plt.figure(figsize=(10,10))\n",
    "    plt.ylim(-1, 3)\n",
    "    for name, color, t_max in tqdm(zip(names, colors, t_maxs)):\n",
    "        # TODO: Remove DQN from names\n",
    "        DQN_Rewards_Path = directory + \"*\" + name + \"*/logs/Episode_Rewards.txt\"\n",
    "        DQN_Lengths_Path = directory + \"*\" + name + \"*/logs/Episode_Lengths.txt\"\n",
    "        DQN_Rewards = []\n",
    "        DQN_Lengths = []\n",
    "        DQN_Lengths_C = []\n",
    "        for filename in glob.glob(DQN_Rewards_Path):\n",
    "            run_logs = [0]\n",
    "            with open(filename, \"r\") as f:\n",
    "                for line in f:\n",
    "                    try:\n",
    "                        ep_r = float(line)\n",
    "                    except:\n",
    "                        continue\n",
    "                    run_logs.append(ep_r)\n",
    "            DQN_Rewards.append(run_logs)\n",
    "        for filename in glob.glob(DQN_Lengths_Path):\n",
    "            run_logs = [0]\n",
    "        #     print(filename)\n",
    "            with open(filename, \"r\") as f:\n",
    "                for line in f:\n",
    "                    try:\n",
    "                        ep_r = float(line)\n",
    "                    except:\n",
    "                        continue\n",
    "                    run_logs.append(ep_r)\n",
    "            DQN_Lengths.append(run_logs)\n",
    "            run_logs_c = np.cumsum(run_logs).astype(np.int32)\n",
    "            DQN_Lengths_C.append(run_logs_c)\n",
    "        DQN_Smoothed = []\n",
    "        for times, rewards in zip(DQN_Lengths_C, DQN_Rewards):\n",
    "#             linear = interp1d(times, rewards, kind=\"linear\")\n",
    "#             linear_rewards = linear([i for i in range(500000)])\n",
    "#             DQN_Smoothed.append(linear_rewards)\n",
    "            spline_rewards = spline(times, rewards, [i for i in range(0, t_max, step)])\n",
    "            DQN_Smoothed.append(spline_rewards)\n",
    "        DQN_Means = np.mean(DQN_Smoothed, axis=0)\n",
    "        DQN_Stds = np.std(DQN_Smoothed, axis=0)\n",
    "        plt.fill_between([i for i in range(0, t_max, step)], DQN_Means - DQN_Stds, DQN_Means + DQN_Stds, color=color, alpha=0.2, edgecolor=\"white\")\n",
    "\n",
    "        plt.plot([i for i in range(0, t_max, step)], DQN_Means, color=color)\n",
    "\n",
    "    plt.title(\"Episode_Reward\")\n",
    "    plt.xlabel(\"T\")\n",
    "    plt.ylabel(\"Reward\")\n",
    "    if legends is not None:\n",
    "        plt.legend(legends, bbox_to_anchor=(1.05, 1), loc=2)\n",
    "    plt.show()"
   ]
  },
  {
   "cell_type": "code",
   "execution_count": 6,
   "metadata": {
    "collapsed": true
   },
   "outputs": [],
   "source": [
    "from bokeh.models import Legend\n",
    "from bokeh.models.formatters import BasicTickFormatter\n",
    "from bokeh.models import HoverTool, TapTool"
   ]
  },
  {
   "cell_type": "code",
   "execution_count": 7,
   "metadata": {
    "collapsed": false
   },
   "outputs": [],
   "source": [
    "def plot_averages_b(names, t_maxs, colors, legends, directories=\"Logs/\", step=10, title=\"\"):\n",
    "#     plt.figure(figsize=(10,10))\n",
    "    p = figure(width=1200, height=800, y_range=(-1.2, 3.2), title=title)\n",
    "    p.toolbar_location = \"above\"\n",
    "    p.yaxis.axis_label = \"Episode Reward\"\n",
    "    p.xaxis.axis_label = \"T\"\n",
    "    p.xaxis.formatter = BasicTickFormatter(use_scientific=False)\n",
    "#     p = figure(width=800, height=500)\n",
    "    lines = []\n",
    "    alpha_lines = []\n",
    "    if isinstance(directories, str):\n",
    "        dd = directories\n",
    "        directories = [dd for _ in names]\n",
    "    for name, color, t_max, legend, directory in zip(names, colors, t_maxs, legends, directories):\n",
    "#         print(directory)\n",
    "        DQN_Rewards_Path = directory + \"*\" + name + \"*/logs/Episode_Rewards.txt\"\n",
    "        DQN_Lengths_Path = directory + \"*\" + name + \"*/logs/Episode_Lengths.txt\"\n",
    "        DQN_Rewards = []\n",
    "        DQN_Lengths = []\n",
    "        DQN_Lengths_C = []\n",
    "        for filename in glob.glob(DQN_Rewards_Path):\n",
    "            run_logs = [0]\n",
    "            with open(filename, \"r\") as f:\n",
    "#                 print(f)\n",
    "                for line in f:\n",
    "                    try:\n",
    "                        ep_r = float(line)\n",
    "                    except:\n",
    "                        print(\"Nothing here for:\", filename)\n",
    "                        continue\n",
    "                    run_logs.append(ep_r)\n",
    "            DQN_Rewards.append(run_logs)\n",
    "        for filename in glob.glob(DQN_Lengths_Path):\n",
    "            run_logs = [0]\n",
    "        #     print(filename)\n",
    "            with open(filename, \"r\") as f:\n",
    "                for line in f:\n",
    "                    try:\n",
    "                        ep_r = float(line)\n",
    "                    except:\n",
    "                        continue\n",
    "                    run_logs.append(ep_r)\n",
    "            DQN_Lengths.append(run_logs)\n",
    "            run_logs_c = np.cumsum(run_logs).astype(np.int32)\n",
    "            DQN_Lengths_C.append(run_logs_c)\n",
    "        DQN_Smoothed = []\n",
    "        for times, rewards in zip(DQN_Lengths_C, DQN_Rewards):\n",
    "#             linear = interp1d(times, rewards, kind=\"linear\")\n",
    "#             linear_rewards = linear([i for i in range(500000)])\n",
    "#             DQN_Smoothed.append(linear_rewards)\n",
    "            spline_rewards = spline(times, rewards, [i for i in range(0, t_max, step)], order=1)\n",
    "            DQN_Smoothed.append(spline_rewards)\n",
    "        DQN_Means = np.mean(DQN_Smoothed, axis=0)\n",
    "        DQN_Stds = np.std(DQN_Smoothed, axis=0)\n",
    "        \n",
    "#         plt.fill_between([i for i in range(0, t_max, step)], DQN_Means - DQN_Stds, DQN_Means + DQN_Stds, color=color, alpha=0.2, edgecolor=\"white\")\n",
    "        # Error bars\n",
    "        xs = [i for i in range(0, t_max, step)]\n",
    "        xs = xs + list(reversed(xs))\n",
    "        ys = np.concatenate([DQN_Means - DQN_Stds, np.flip(DQN_Means + DQN_Stds, axis=0)])\n",
    "        lls = p.patch(xs, ys, color=color, alpha=0.1)\n",
    "\n",
    "        \n",
    "#         for x, y, yerr in zip(range(0, t_max, step), DQN_Means, DQN_Stds):\n",
    "#             lls = p.line([x, x], [y - yerr, y + yerr], color=color, alpha=0.1, hover_alpha=0.8)\n",
    "#             alpha_lines.append(lls)\n",
    "            \n",
    "\n",
    "#         plt.plot([i for i in range(0, t_max, step)], DQN_Means, color=color)\n",
    "        l = p.line([i for i in range(0, t_max, step)], DQN_Means, color=color, line_width=2)\n",
    "        lines.append(l)\n",
    "#         alpha_lines.append(lls)\n",
    "\n",
    "#     plt.title(\"Episode_Reward\")\n",
    "#     plt.xlabel(\"T\")\n",
    "#     plt.ylabel(\"Reward\")\n",
    "#     if legends is not None:\n",
    "#         plt.legend(legends)\n",
    "#     plt.show()\n",
    "#     p.line([0,1], [-1,3])\n",
    "    new_leg = Legend(items=[(name, [line]) for name, line in zip(legends, lines)], location=(0,-30))\n",
    "    p.add_layout(new_leg, \"right\")\n",
    "#     p.add_tools(HoverTool(renderers=alpha_lines))\n",
    "#     p.add_tools(TapTool(renderers=alpha_lines))\n",
    "    show(p)"
   ]
  },
  {
   "cell_type": "code",
   "execution_count": null,
   "metadata": {
    "collapsed": true
   },
   "outputs": [],
   "source": []
  },
  {
   "cell_type": "code",
   "execution_count": 8,
   "metadata": {
    "collapsed": false
   },
   "outputs": [
    {
     "name": "stdout",
     "output_type": "stream",
     "text": [
      "['DQN', 'Count*_Conv_True*_Eps_1', 'Count*_Conv_True*_Eps_0.1', 'Count*_Conv_False*_Eps_1', 'Count*_Conv_False*_Eps_0.1']\n",
      "[1000000, 1000000, 1000000, 1000000, 1000000]\n"
     ]
    }
   ],
   "source": [
    "names = []\n",
    "legends = []\n",
    "t_maxs = []\n",
    "\n",
    "# DQN\n",
    "names += [\"DQN\"]\n",
    "legends += [\"DQN\"]\n",
    "t_maxs += [1000000]\n",
    "\n",
    "for conv in [True, False]:\n",
    "#     break\n",
    "    names.append(\"Count*_Conv_{}*_Eps_1\".format(conv))\n",
    "    legends.append(\"Count_Conv_{}\".format(conv))\n",
    "    t_maxs.append(1000000)\n",
    "#     break\n",
    "    names.append(\"Count*_Conv_{}*_Eps_0.1\".format(conv))\n",
    "    legends.append(\"Count_Conv_{}_Epsilon\".format(conv))\n",
    "    t_maxs.append(1000000)\n",
    "    \n",
    "# Batch size names\n",
    "# names = names + [\"*Batch_{}_{}\".format(b, name) for b in [64, 128, 256] for name in names]\n",
    "# legends = legends + [\"{}_Batch_{}\".format(leg, b) for b in [64, 128, 256] for leg in legends]\n",
    "# t_maxs = t_maxs + [t_max for b in [64, 128, 256] for t_max in t_maxs]\n",
    "    \n",
    "dropbox_direc = \"/home/tabz/Dropbox/RL/Log_Files/March 2017\"\n",
    "# directories =  [\"{}/{}\".format(dropbox_direc, \"Maze_5_Logs/\")] + 3 * [\"{}/{}\".format(dropbox_direc, \"Maze_5_Batch_Sizes_Logs/\")] \n",
    "directories = dropbox_direc + \"/Options_Logs/\"\n",
    "    \n",
    "print(names)\n",
    "print(t_maxs)\n",
    "# colours = [\"red\", \"#3366ff\", \"#66ff33\", \"yellow\"]\n",
    "# colours = rainbow(np.linspace(0, 1, len(names)))"
   ]
  },
  {
   "cell_type": "code",
   "execution_count": 9,
   "metadata": {
    "collapsed": true
   },
   "outputs": [],
   "source": [
    "import itertools"
   ]
  },
  {
   "cell_type": "code",
   "execution_count": 57,
   "metadata": {
    "collapsed": false
   },
   "outputs": [
    {
     "name": "stdout",
     "output_type": "stream",
     "text": [
      "['Macros_200_Length_8_Mseed_5_*Count', 'Macros_200_Length_8_Mseed_6_*Count', 'Macros_200_Length_16_Mseed_5_*Count', 'Macros_200_Length_16_Mseed_6_*Count', 'Macros_200_Length_32_Mseed_5_*Count', 'Macros_200_Length_32_Mseed_6_*Count']\n",
      "[1000000, 1000000, 1000000, 1000000, 1000000, 1000000]\n",
      "6\n"
     ]
    }
   ],
   "source": [
    "names = []\n",
    "legends = []\n",
    "t_maxs = []\n",
    "\n",
    "for macros, lengths, mseed in [(m,l,ms) for m in [200] for l in [8,16,32] for ms in [5,6]]:\n",
    "#     names.append(\"*Count*_uid_{}_*\".format(n))\n",
    "    names.append(\"Macros_{}_Length_{}_Mseed_{}_*Count\".format(macros, lengths, mseed))\n",
    "    legends.append(\"Count_{}_Macros_Upto_{}_Length_{}\".format(macros, lengths, mseed))\n",
    "    t_maxs.append(1000000)\n",
    "\n",
    "#     names.append(\"Maze_{}_*DQN*\".format(s))\n",
    "#     legends.append(\"Maze_{}_DQN\".format(s))\n",
    "#     t_maxs.append(200000)\n",
    "    \n",
    "dropbox_direc = \"/home/tabz/Dropbox/RL/Log_Files/March 2017\"\n",
    "directories = dropbox_direc + \"/Rnd_Macros_and_Primitives_Maze_5_Logs/\"\n",
    "    \n",
    "print(names)\n",
    "print(t_maxs)\n",
    "print(len(legends))"
   ]
  },
  {
   "cell_type": "code",
   "execution_count": 58,
   "metadata": {
    "collapsed": true
   },
   "outputs": [],
   "source": [
    "from bokeh.palettes import magma, inferno, Purples, Oranges, Greens, Reds, Set1, Set3, Paired, Category20"
   ]
  },
  {
   "cell_type": "code",
   "execution_count": 59,
   "metadata": {
    "collapsed": false
   },
   "outputs": [
    {
     "data": {
      "text/html": [
       "\n",
       "\n",
       "    <div class=\"bk-root\">\n",
       "        <div class=\"bk-plotdiv\" id=\"0406e434-4f32-4c6c-a306-7d4d749b8ee4\"></div>\n",
       "    </div>\n",
       "<script type=\"text/javascript\">\n",
       "  \n",
       "  (function(global) {\n",
       "    function now() {\n",
       "      return new Date();\n",
       "    }\n",
       "  \n",
       "    var force = false;\n",
       "  \n",
       "    if (typeof (window._bokeh_onload_callbacks) === \"undefined\" || force === true) {\n",
       "      window._bokeh_onload_callbacks = [];\n",
       "      window._bokeh_is_loading = undefined;\n",
       "    }\n",
       "  \n",
       "  \n",
       "    \n",
       "    if (typeof (window._bokeh_timeout) === \"undefined\" || force === true) {\n",
       "      window._bokeh_timeout = Date.now() + 0;\n",
       "      window._bokeh_failed_load = false;\n",
       "    }\n",
       "  \n",
       "    var NB_LOAD_WARNING = {'data': {'text/html':\n",
       "       \"<div style='background-color: #fdd'>\\n\"+\n",
       "       \"<p>\\n\"+\n",
       "       \"BokehJS does not appear to have successfully loaded. If loading BokehJS from CDN, this \\n\"+\n",
       "       \"may be due to a slow or bad network connection. Possible fixes:\\n\"+\n",
       "       \"</p>\\n\"+\n",
       "       \"<ul>\\n\"+\n",
       "       \"<li>re-rerun `output_notebook()` to attempt to load from CDN again, or</li>\\n\"+\n",
       "       \"<li>use INLINE resources instead, as so:</li>\\n\"+\n",
       "       \"</ul>\\n\"+\n",
       "       \"<code>\\n\"+\n",
       "       \"from bokeh.resources import INLINE\\n\"+\n",
       "       \"output_notebook(resources=INLINE)\\n\"+\n",
       "       \"</code>\\n\"+\n",
       "       \"</div>\"}};\n",
       "  \n",
       "    function display_loaded() {\n",
       "      if (window.Bokeh !== undefined) {\n",
       "        document.getElementById(\"0406e434-4f32-4c6c-a306-7d4d749b8ee4\").textContent = \"BokehJS successfully loaded.\";\n",
       "      } else if (Date.now() < window._bokeh_timeout) {\n",
       "        setTimeout(display_loaded, 100)\n",
       "      }\n",
       "    }\n",
       "  \n",
       "    function run_callbacks() {\n",
       "      window._bokeh_onload_callbacks.forEach(function(callback) { callback() });\n",
       "      delete window._bokeh_onload_callbacks\n",
       "      console.info(\"Bokeh: all callbacks have finished\");\n",
       "    }\n",
       "  \n",
       "    function load_libs(js_urls, callback) {\n",
       "      window._bokeh_onload_callbacks.push(callback);\n",
       "      if (window._bokeh_is_loading > 0) {\n",
       "        console.log(\"Bokeh: BokehJS is being loaded, scheduling callback at\", now());\n",
       "        return null;\n",
       "      }\n",
       "      if (js_urls == null || js_urls.length === 0) {\n",
       "        run_callbacks();\n",
       "        return null;\n",
       "      }\n",
       "      console.log(\"Bokeh: BokehJS not loaded, scheduling load and callback at\", now());\n",
       "      window._bokeh_is_loading = js_urls.length;\n",
       "      for (var i = 0; i < js_urls.length; i++) {\n",
       "        var url = js_urls[i];\n",
       "        var s = document.createElement('script');\n",
       "        s.src = url;\n",
       "        s.async = false;\n",
       "        s.onreadystatechange = s.onload = function() {\n",
       "          window._bokeh_is_loading--;\n",
       "          if (window._bokeh_is_loading === 0) {\n",
       "            console.log(\"Bokeh: all BokehJS libraries loaded\");\n",
       "            run_callbacks()\n",
       "          }\n",
       "        };\n",
       "        s.onerror = function() {\n",
       "          console.warn(\"failed to load library \" + url);\n",
       "        };\n",
       "        console.log(\"Bokeh: injecting script tag for BokehJS library: \", url);\n",
       "        document.getElementsByTagName(\"head\")[0].appendChild(s);\n",
       "      }\n",
       "    };var element = document.getElementById(\"0406e434-4f32-4c6c-a306-7d4d749b8ee4\");\n",
       "    if (element == null) {\n",
       "      console.log(\"Bokeh: ERROR: autoload.js configured with elementid '0406e434-4f32-4c6c-a306-7d4d749b8ee4' but no matching script tag was found. \")\n",
       "      return false;\n",
       "    }\n",
       "  \n",
       "    var js_urls = [];\n",
       "  \n",
       "    var inline_js = [\n",
       "      function(Bokeh) {\n",
       "        (function() {\n",
       "          var fn = function() {\n",
       "            var docs_json = {\"991b9c81-7cb2-4713-940a-d1e97266463a\":{\"roots\":{\"references\":[{\"attributes\":{\"callback\":null,\"column_names\":[\"x\",\"y\"],\"data\":{\"x\":[0,10000,20000,30000,40000,50000,60000,70000,80000,90000,100000,110000,120000,130000,140000,150000,160000,170000,180000,190000,200000,210000,220000,230000,240000,250000,260000,270000,280000,290000,300000,310000,320000,330000,340000,350000,360000,370000,380000,390000,400000,410000,420000,430000,440000,450000,460000,470000,480000,490000,500000,510000,520000,530000,540000,550000,560000,570000,580000,590000,600000,610000,620000,630000,640000,650000,660000,670000,680000,690000,700000,710000,720000,730000,740000,750000,760000,770000,780000,790000,800000,810000,820000,830000,840000,850000,860000,870000,880000,890000,900000,910000,920000,930000,940000,950000,960000,970000,980000,990000],\"y\":{\"__ndarray__\":\"AAAAAAAAAADC+W+YVuHvv/t7KGAvzt+/kHpWZvA/7b8FdZP6ysjhvzcXFB0d7O+/W4HSbQDl77/n8o5997bfv3JVYZMQMOy/A5IViRvZ379CBHu2hvLKv/TpSYBkjZ6/g+zV/RB35b++gtAlFtXvv4fE0tdHvN+/N6vAzSMBx78Ojq7YgnjovwCNxlt66d+/dkSl22Xj3j9CFcRSxkbWv8q+K4L/Lem/t6xA8Lc7278Cgsc6yg6wv2g+q/y8628/E/aBivIbw7+hbGrFs+WDv5POZGUyOsA/MpIO9vC437/5SXQU47vZv556UZeB9e+/P+CBAYQPx7/GkUeBNrTfv8+eBmsGMOG/jv4V9Qjz7786bXcsLdLfvzs/HWWWFey/BFXAtNeb7r9UrGzSbK3Vv83iqGU8Mcm/IuXxByft7b+W5ie8ztmyv/9nMc16VMu/VcjWtfqr1r+jxFBVNeffv7yhwmmXiOu/yDD8CEiLaD9xpfILxty0v8lEJfkw1N+/gi5xSZu86b9+y5wuiwnVv2qbGRuixd+/kFYIz49U7L9eoSzzhennvyv2OGmiL2g/iHOf5jdwrr+CJTicsnXqv3yZ/r7X5t+//H7lsQFLXD/14TptRqjivy2qpDXQz6S/MX1nZRhu17/beh+fZprfv1xY9qI5Meu/JrSoDjejyz/czY+PjJPWP4UgYdDzxO2/lS89wrXq37+OIF+VL/Pvv71yjGlYGou/KO7SPgfz67+O9r1JkuXfv51jI5mmb9m/CONUR4NG7b92AKB/rarlvzOaZOn1NdS/vs26+iHR3T8oPbBJtW24v3LD36HXT+i/nOoeJeinvr9Xmaoze3bevzTnrI6U8Oq/m+OiinHe379yojqDvSfjv5YfuqDDGry/MaYgM72f5L/sjHtxtLzlv79XBk75pu+/lZC8QCvS7L+64ybzR2nnv8ByeaPMF+G/fQzYEjP93r+2twDZkCTIvx54Oydq7O+/n3vlJ969uL90FqOtyh/hv0XokFqIpOa/fNUerndC7L9YoST7JSjfvw7Og5e8Xd2/TGXIwgPn778=\",\"dtype\":\"float64\",\"shape\":[100]}}},\"id\":\"4015c602-0a6e-48d0-adc8-8b2572d4a06b\",\"type\":\"ColumnDataSource\"},{\"attributes\":{\"data_source\":{\"id\":\"64115b35-0bae-4d1c-bd11-3f26e31a770f\",\"type\":\"ColumnDataSource\"},\"glyph\":{\"id\":\"92b7ef88-37ba-4a08-bc65-b4dc458e2087\",\"type\":\"Patch\"},\"hover_glyph\":null,\"nonselection_glyph\":{\"id\":\"66534dcf-e09a-4020-9ece-be784247d1aa\",\"type\":\"Patch\"},\"selection_glyph\":null},\"id\":\"ef0fce03-8432-49b2-8101-227e46629092\",\"type\":\"GlyphRenderer\"},{\"attributes\":{\"data_source\":{\"id\":\"1ec33fff-5c43-48a0-9f6d-c52699b0aad4\",\"type\":\"ColumnDataSource\"},\"glyph\":{\"id\":\"7d040d01-24a5-40b5-88fd-8cd38768501e\",\"type\":\"Patch\"},\"hover_glyph\":null,\"nonselection_glyph\":{\"id\":\"e7c04524-d429-44c3-8db6-cab828ed64d3\",\"type\":\"Patch\"},\"selection_glyph\":null},\"id\":\"6ef07cf6-bba7-49ea-9c94-9393c9d6b76a\",\"type\":\"GlyphRenderer\"},{\"attributes\":{\"line_alpha\":{\"value\":0.1},\"line_color\":{\"value\":\"#1f77b4\"},\"line_width\":{\"value\":2},\"x\":{\"field\":\"x\"},\"y\":{\"field\":\"y\"}},\"id\":\"6e9387c3-aeb3-4f17-a611-6aa17c23e801\",\"type\":\"Line\"},{\"attributes\":{\"below\":[{\"id\":\"3ef342f7-d511-4eee-9ad4-9fe9fa789ab0\",\"type\":\"LinearAxis\"}],\"left\":[{\"id\":\"5a4cf569-0e4f-44a1-a896-32ceb50c7c37\",\"type\":\"LinearAxis\"}],\"plot_height\":800,\"plot_width\":1200,\"renderers\":[{\"id\":\"3ef342f7-d511-4eee-9ad4-9fe9fa789ab0\",\"type\":\"LinearAxis\"},{\"id\":\"abad25aa-04c3-40c3-b214-48835b0ec6c2\",\"type\":\"Grid\"},{\"id\":\"5a4cf569-0e4f-44a1-a896-32ceb50c7c37\",\"type\":\"LinearAxis\"},{\"id\":\"e0f7b550-d55e-44dd-ae44-158dc72b8f43\",\"type\":\"Grid\"},{\"id\":\"16b54499-6f48-4a79-a481-1d768adc1129\",\"type\":\"BoxAnnotation\"},{\"id\":\"cde75d1f-657a-4e7d-a00f-6d175a489756\",\"type\":\"GlyphRenderer\"},{\"id\":\"91e830c6-7463-4037-8cdc-81aec9bc1662\",\"type\":\"GlyphRenderer\"},{\"id\":\"f6fbb05e-51f6-41c3-8e0c-96b9df03375c\",\"type\":\"GlyphRenderer\"},{\"id\":\"513d5e50-7bc1-4b52-af64-5cb7aaf851d1\",\"type\":\"GlyphRenderer\"},{\"id\":\"8daa7451-24a0-4a50-9aa1-7b66ce20081d\",\"type\":\"GlyphRenderer\"},{\"id\":\"567ce7c2-5eb1-4c0b-836b-d2756b85417c\",\"type\":\"GlyphRenderer\"},{\"id\":\"691f71fb-e4ce-4855-b026-6221db0acfc1\",\"type\":\"GlyphRenderer\"},{\"id\":\"f014b79d-543e-4f63-a4e9-e5988ec92d48\",\"type\":\"GlyphRenderer\"},{\"id\":\"6ef07cf6-bba7-49ea-9c94-9393c9d6b76a\",\"type\":\"GlyphRenderer\"},{\"id\":\"eb7d6b2d-0c32-4220-bc6d-d4c2c89b7c4f\",\"type\":\"GlyphRenderer\"},{\"id\":\"ef0fce03-8432-49b2-8101-227e46629092\",\"type\":\"GlyphRenderer\"},{\"id\":\"779fbab9-44f2-4789-b6f9-5c55336881d4\",\"type\":\"GlyphRenderer\"},{\"id\":\"79e8ca3a-e38c-4b8b-9738-ca1f40c4aaf3\",\"type\":\"Legend\"}],\"right\":[{\"id\":\"79e8ca3a-e38c-4b8b-9738-ca1f40c4aaf3\",\"type\":\"Legend\"}],\"title\":{\"id\":\"2ed6cbec-6f9b-4c98-a26c-d65af9440a0f\",\"type\":\"Title\"},\"tool_events\":{\"id\":\"e491db76-90a4-4e44-bc0e-32acdc03111e\",\"type\":\"ToolEvents\"},\"toolbar\":{\"id\":\"a94edd59-5d59-488f-a2db-5cd022b8d154\",\"type\":\"Toolbar\"},\"toolbar_location\":\"above\",\"x_range\":{\"id\":\"01a9f425-1b1c-4c46-b082-667d60b54339\",\"type\":\"DataRange1d\"},\"y_range\":{\"id\":\"af3ed56e-c639-43bf-8aa3-673ce32802e0\",\"type\":\"Range1d\"}},\"id\":\"4bf0c5e8-182f-4e33-b328-139e8e7eb86b\",\"subtype\":\"Figure\",\"type\":\"Plot\"},{\"attributes\":{\"plot\":null,\"text\":\"Random Macros in Maze 5\"},\"id\":\"2ed6cbec-6f9b-4c98-a26c-d65af9440a0f\",\"type\":\"Title\"},{\"attributes\":{\"fill_alpha\":{\"value\":0.1},\"fill_color\":{\"value\":\"#1f77b4\"},\"line_alpha\":{\"value\":0.1},\"line_color\":{\"value\":\"#1f77b4\"},\"x\":{\"field\":\"x\"},\"y\":{\"field\":\"y\"}},\"id\":\"66534dcf-e09a-4020-9ece-be784247d1aa\",\"type\":\"Patch\"},{\"attributes\":{\"fill_alpha\":{\"value\":0.1},\"fill_color\":{\"value\":\"#1f77b4\"},\"line_alpha\":{\"value\":0.1},\"line_color\":{\"value\":\"#1f77b4\"},\"x\":{\"field\":\"x\"},\"y\":{\"field\":\"y\"}},\"id\":\"9b0f4863-2e0f-4703-81ad-427d3afceb57\",\"type\":\"Patch\"},{\"attributes\":{\"fill_alpha\":{\"value\":0.1},\"fill_color\":{\"value\":\"#98df8a\"},\"line_alpha\":{\"value\":0.1},\"line_color\":{\"value\":\"#98df8a\"},\"x\":{\"field\":\"x\"},\"y\":{\"field\":\"y\"}},\"id\":\"92b7ef88-37ba-4a08-bc65-b4dc458e2087\",\"type\":\"Patch\"},{\"attributes\":{\"data_source\":{\"id\":\"015cba6f-e8cb-4cde-ad52-f94e655987f5\",\"type\":\"ColumnDataSource\"},\"glyph\":{\"id\":\"4340ce73-50e6-4126-97d8-86ef2e6625ab\",\"type\":\"Patch\"},\"hover_glyph\":null,\"nonselection_glyph\":{\"id\":\"9b0f4863-2e0f-4703-81ad-427d3afceb57\",\"type\":\"Patch\"},\"selection_glyph\":null},\"id\":\"cde75d1f-657a-4e7d-a00f-6d175a489756\",\"type\":\"GlyphRenderer\"},{\"attributes\":{\"callback\":null},\"id\":\"01a9f425-1b1c-4c46-b082-667d60b54339\",\"type\":\"DataRange1d\"},{\"attributes\":{\"callback\":null,\"column_names\":[\"x\",\"y\"],\"data\":{\"x\":[0,10000,20000,30000,40000,50000,60000,70000,80000,90000,100000,110000,120000,130000,140000,150000,160000,170000,180000,190000,200000,210000,220000,230000,240000,250000,260000,270000,280000,290000,300000,310000,320000,330000,340000,350000,360000,370000,380000,390000,400000,410000,420000,430000,440000,450000,460000,470000,480000,490000,500000,510000,520000,530000,540000,550000,560000,570000,580000,590000,600000,610000,620000,630000,640000,650000,660000,670000,680000,690000,700000,710000,720000,730000,740000,750000,760000,770000,780000,790000,800000,810000,820000,830000,840000,850000,860000,870000,880000,890000,900000,910000,920000,930000,940000,950000,960000,970000,980000,990000,990000,980000,970000,960000,950000,940000,930000,920000,910000,900000,890000,880000,870000,860000,850000,840000,830000,820000,810000,800000,790000,780000,770000,760000,750000,740000,730000,720000,710000,700000,690000,680000,670000,660000,650000,640000,630000,620000,610000,600000,590000,580000,570000,560000,550000,540000,530000,520000,510000,500000,490000,480000,470000,460000,450000,440000,430000,420000,410000,400000,390000,380000,370000,360000,350000,340000,330000,320000,310000,300000,290000,280000,270000,260000,250000,240000,230000,220000,210000,200000,190000,180000,170000,160000,150000,140000,130000,120000,110000,100000,90000,80000,70000,60000,50000,40000,30000,20000,10000,0],\"y\":{\"__ndarray__\":\"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\",\"dtype\":\"float64\",\"shape\":[200]}}},\"id\":\"1ec33fff-5c43-48a0-9f6d-c52699b0aad4\",\"type\":\"ColumnDataSource\"},{\"attributes\":{},\"id\":\"e491db76-90a4-4e44-bc0e-32acdc03111e\",\"type\":\"ToolEvents\"},{\"attributes\":{\"line_alpha\":{\"value\":0.1},\"line_color\":{\"value\":\"#1f77b4\"},\"line_width\":{\"value\":2},\"x\":{\"field\":\"x\"},\"y\":{\"field\":\"y\"}},\"id\":\"34b3c89e-d769-446d-b74b-506b89b1c338\",\"type\":\"Line\"},{\"attributes\":{\"active_drag\":\"auto\",\"active_scroll\":\"auto\",\"active_tap\":\"auto\",\"tools\":[{\"id\":\"5b3bbd3b-16c1-4c26-9fd0-ffc3563aec47\",\"type\":\"PanTool\"},{\"id\":\"0f66fc38-3782-4c1e-8a09-d81188ee8829\",\"type\":\"WheelZoomTool\"},{\"id\":\"a905ac38-930a-4a4e-8d74-2425825a1da4\",\"type\":\"BoxZoomTool\"},{\"id\":\"3f90ed30-716e-4925-8aa5-161a06ff609b\",\"type\":\"SaveTool\"},{\"id\":\"d16bec3c-6bc8-47b5-9015-2ed49c1dca51\",\"type\":\"ResetTool\"},{\"id\":\"ab24217f-292e-4dd7-9bb3-8110283c5231\",\"type\":\"HelpTool\"}]},\"id\":\"a94edd59-5d59-488f-a2db-5cd022b8d154\",\"type\":\"Toolbar\"},{\"attributes\":{\"line_color\":{\"value\":\"#2ca02c\"},\"line_width\":{\"value\":2},\"x\":{\"field\":\"x\"},\"y\":{\"field\":\"y\"}},\"id\":\"c856d111-af87-4777-8d15-e88087a92f6e\",\"type\":\"Line\"},{\"attributes\":{\"axis_label\":\"T\",\"formatter\":{\"id\":\"c807bc66-a84d-493f-806a-6a9a6eddabd4\",\"type\":\"BasicTickFormatter\"},\"plot\":{\"id\":\"4bf0c5e8-182f-4e33-b328-139e8e7eb86b\",\"subtype\":\"Figure\",\"type\":\"Plot\"},\"ticker\":{\"id\":\"d772e6ae-42aa-4e69-bc2e-8fd268245144\",\"type\":\"BasicTicker\"}},\"id\":\"3ef342f7-d511-4eee-9ad4-9fe9fa789ab0\",\"type\":\"LinearAxis\"},{\"attributes\":{\"callback\":null,\"column_names\":[\"x\",\"y\"],\"data\":{\"x\":[0,10000,20000,30000,40000,50000,60000,70000,80000,90000,100000,110000,120000,130000,140000,150000,160000,170000,180000,190000,200000,210000,220000,230000,240000,250000,260000,270000,280000,290000,300000,310000,320000,330000,340000,350000,360000,370000,380000,390000,400000,410000,420000,430000,440000,450000,460000,470000,480000,490000,500000,510000,520000,530000,540000,550000,560000,570000,580000,590000,600000,610000,620000,630000,640000,650000,660000,670000,680000,690000,700000,710000,720000,730000,740000,750000,760000,770000,780000,790000,800000,810000,820000,830000,840000,850000,860000,870000,880000,890000,900000,910000,920000,930000,940000,950000,960000,970000,980000,990000,990000,980000,970000,960000,950000,940000,930000,920000,910000,900000,890000,880000,870000,860000,850000,840000,830000,820000,810000,800000,790000,780000,770000,760000,750000,740000,730000,720000,710000,700000,690000,680000,670000,660000,650000,640000,630000,620000,610000,600000,590000,580000,570000,560000,550000,540000,530000,520000,510000,500000,490000,480000,470000,460000,450000,440000,430000,420000,410000,400000,390000,380000,370000,360000,350000,340000,330000,320000,310000,300000,290000,280000,270000,260000,250000,240000,230000,220000,210000,200000,190000,180000,170000,160000,150000,140000,130000,120000,110000,100000,90000,80000,70000,60000,50000,40000,30000,20000,10000,0],\"y\":{\"__ndarray__\":\"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\",\"dtype\":\"float64\",\"shape\":[200]}}},\"id\":\"64115b35-0bae-4d1c-bd11-3f26e31a770f\",\"type\":\"ColumnDataSource\"},{\"attributes\":{\"callback\":null,\"end\":3.2,\"start\":-1.2},\"id\":\"af3ed56e-c639-43bf-8aa3-673ce32802e0\",\"type\":\"Range1d\"},{\"attributes\":{},\"id\":\"d772e6ae-42aa-4e69-bc2e-8fd268245144\",\"type\":\"BasicTicker\"},{\"attributes\":{\"plot\":{\"id\":\"4bf0c5e8-182f-4e33-b328-139e8e7eb86b\",\"subtype\":\"Figure\",\"type\":\"Plot\"},\"ticker\":{\"id\":\"d772e6ae-42aa-4e69-bc2e-8fd268245144\",\"type\":\"BasicTicker\"}},\"id\":\"abad25aa-04c3-40c3-b214-48835b0ec6c2\",\"type\":\"Grid\"},{\"attributes\":{\"axis_label\":\"Episode Reward\",\"formatter\":{\"id\":\"16955c2c-92d0-427d-bfa4-9eaa938e5900\",\"type\":\"BasicTickFormatter\"},\"plot\":{\"id\":\"4bf0c5e8-182f-4e33-b328-139e8e7eb86b\",\"subtype\":\"Figure\",\"type\":\"Plot\"},\"ticker\":{\"id\":\"008eae93-3f79-4315-8f87-c708930a2ebc\",\"type\":\"BasicTicker\"}},\"id\":\"5a4cf569-0e4f-44a1-a896-32ceb50c7c37\",\"type\":\"LinearAxis\"},{\"attributes\":{\"fill_alpha\":{\"value\":0.1},\"fill_color\":{\"value\":\"#2ca02c\"},\"line_alpha\":{\"value\":0.1},\"line_color\":{\"value\":\"#2ca02c\"},\"x\":{\"field\":\"x\"},\"y\":{\"field\":\"y\"}},\"id\":\"7d040d01-24a5-40b5-88fd-8cd38768501e\",\"type\":\"Patch\"},{\"attributes\":{},\"id\":\"008eae93-3f79-4315-8f87-c708930a2ebc\",\"type\":\"BasicTicker\"},{\"attributes\":{\"dimension\":1,\"plot\":{\"id\":\"4bf0c5e8-182f-4e33-b328-139e8e7eb86b\",\"subtype\":\"Figure\",\"type\":\"Plot\"},\"ticker\":{\"id\":\"008eae93-3f79-4315-8f87-c708930a2ebc\",\"type\":\"BasicTicker\"}},\"id\":\"e0f7b550-d55e-44dd-ae44-158dc72b8f43\",\"type\":\"Grid\"},{\"attributes\":{\"data_source\":{\"id\":\"07e15607-fae1-483c-9fa4-a00daf0056a0\",\"type\":\"ColumnDataSource\"},\"glyph\":{\"id\":\"b2050591-3799-4b7f-9e5f-817cbc502bb7\",\"type\":\"Line\"},\"hover_glyph\":null,\"nonselection_glyph\":{\"id\":\"34b3c89e-d769-446d-b74b-506b89b1c338\",\"type\":\"Line\"},\"selection_glyph\":null},\"id\":\"f014b79d-543e-4f63-a4e9-e5988ec92d48\",\"type\":\"GlyphRenderer\"},{\"attributes\":{\"use_scientific\":false},\"id\":\"c807bc66-a84d-493f-806a-6a9a6eddabd4\",\"type\":\"BasicTickFormatter\"},{\"attributes\":{\"data_source\":{\"id\":\"4015c602-0a6e-48d0-adc8-8b2572d4a06b\",\"type\":\"ColumnDataSource\"},\"glyph\":{\"id\":\"c856d111-af87-4777-8d15-e88087a92f6e\",\"type\":\"Line\"},\"hover_glyph\":null,\"nonselection_glyph\":{\"id\":\"6e9387c3-aeb3-4f17-a611-6aa17c23e801\",\"type\":\"Line\"},\"selection_glyph\":null},\"id\":\"eb7d6b2d-0c32-4220-bc6d-d4c2c89b7c4f\",\"type\":\"GlyphRenderer\"},{\"attributes\":{\"bottom_units\":\"screen\",\"fill_alpha\":{\"value\":0.5},\"fill_color\":{\"value\":\"lightgrey\"},\"left_units\":\"screen\",\"level\":\"overlay\",\"line_alpha\":{\"value\":1.0},\"line_color\":{\"value\":\"black\"},\"line_dash\":[4,4],\"line_width\":{\"value\":2},\"plot\":null,\"render_mode\":\"css\",\"right_units\":\"screen\",\"top_units\":\"screen\"},\"id\":\"16b54499-6f48-4a79-a481-1d768adc1129\",\"type\":\"BoxAnnotation\"},{\"attributes\":{\"plot\":{\"id\":\"4bf0c5e8-182f-4e33-b328-139e8e7eb86b\",\"subtype\":\"Figure\",\"type\":\"Plot\"}},\"id\":\"5b3bbd3b-16c1-4c26-9fd0-ffc3563aec47\",\"type\":\"PanTool\"},{\"attributes\":{\"line_color\":{\"value\":\"#ffbb78\"},\"line_width\":{\"value\":2},\"x\":{\"field\":\"x\"},\"y\":{\"field\":\"y\"}},\"id\":\"b2050591-3799-4b7f-9e5f-817cbc502bb7\",\"type\":\"Line\"},{\"attributes\":{\"plot\":{\"id\":\"4bf0c5e8-182f-4e33-b328-139e8e7eb86b\",\"subtype\":\"Figure\",\"type\":\"Plot\"}},\"id\":\"0f66fc38-3782-4c1e-8a09-d81188ee8829\",\"type\":\"WheelZoomTool\"},{\"attributes\":{\"overlay\":{\"id\":\"16b54499-6f48-4a79-a481-1d768adc1129\",\"type\":\"BoxAnnotation\"},\"plot\":{\"id\":\"4bf0c5e8-182f-4e33-b328-139e8e7eb86b\",\"subtype\":\"Figure\",\"type\":\"Plot\"}},\"id\":\"a905ac38-930a-4a4e-8d74-2425825a1da4\",\"type\":\"BoxZoomTool\"},{\"attributes\":{\"plot\":{\"id\":\"4bf0c5e8-182f-4e33-b328-139e8e7eb86b\",\"subtype\":\"Figure\",\"type\":\"Plot\"}},\"id\":\"3f90ed30-716e-4925-8aa5-161a06ff609b\",\"type\":\"SaveTool\"},{\"attributes\":{\"plot\":{\"id\":\"4bf0c5e8-182f-4e33-b328-139e8e7eb86b\",\"subtype\":\"Figure\",\"type\":\"Plot\"}},\"id\":\"d16bec3c-6bc8-47b5-9015-2ed49c1dca51\",\"type\":\"ResetTool\"},{\"attributes\":{\"plot\":{\"id\":\"4bf0c5e8-182f-4e33-b328-139e8e7eb86b\",\"subtype\":\"Figure\",\"type\":\"Plot\"}},\"id\":\"ab24217f-292e-4dd7-9bb3-8110283c5231\",\"type\":\"HelpTool\"},{\"attributes\":{\"fill_alpha\":{\"value\":0.1},\"fill_color\":{\"value\":\"#1f77b4\"},\"line_alpha\":{\"value\":0.1},\"line_color\":{\"value\":\"#1f77b4\"},\"x\":{\"field\":\"x\"},\"y\":{\"field\":\"y\"}},\"id\":\"4340ce73-50e6-4126-97d8-86ef2e6625ab\",\"type\":\"Patch\"},{\"attributes\":{\"callback\":null,\"column_names\":[\"x\",\"y\"],\"data\":{\"x\":[0,10000,20000,30000,40000,50000,60000,70000,80000,90000,100000,110000,120000,130000,140000,150000,160000,170000,180000,190000,200000,210000,220000,230000,240000,250000,260000,270000,280000,290000,300000,310000,320000,330000,340000,350000,360000,370000,380000,390000,400000,410000,420000,430000,440000,450000,460000,470000,480000,490000,500000,510000,520000,530000,540000,550000,560000,570000,580000,590000,600000,610000,620000,630000,640000,650000,660000,670000,680000,690000,700000,710000,720000,730000,740000,750000,760000,770000,780000,790000,800000,810000,820000,830000,840000,850000,860000,870000,880000,890000,900000,910000,920000,930000,940000,950000,960000,970000,980000,990000],\"y\":{\"__ndarray__\":\"AAAAAAAAAABS5hcgH2bMPwiIT12T9++/MV2I1R9hSD/0Itd9UcRFP9+jFg+QRdO//I86mEZ/5b/Aki3PxPbfv3+X/Nj18t+/tFTlD6zy378ZVM06Zk7ZP75TuTodv92/3xvpVEjc1L8X+foMNvjTv2ZMwRpn00E/1axeHXvm37+4g9PQeB/Rv3l+wuX3asC/ug3Eat0jgr8Afj5ZJRJIP3oojiLE3LO/UKgpBomv7b/+JgIz2EBEP1qPmU5P9N+/9ZgZHVq3wz9CC3P6Gu7fvwCGFTNjZ1I/etiU/G/vzb/869jHiAfgP+dF16J8MO0/AHYVQI9KTT9mTMEaZ9NBPzaZCG+kg92/42drk21p2b8pNOj/xc7Ov7daJy7HK76/ZYO4zKH237+4uJVjZFfEv9qbta2+kLk/UCtlT6/w4b8wCwvWczHEPyDL7Uc2wsu/44Cam/G61r+jyI80iIVov29T85VRXdc/Lk/5eVqS0b8Gt3vLPpbaPwyxgxsQa9y/YxaAjqXyyD8uc7osJjZPP9J8xoA6V1E/aGryyqLM6L+3AzSPv/Pfv8zwDhoomLu/Z4VRKawB3r9Ot7sMsQjVvxu+nC219d+/AOsG31xINz8Me5MByTHOP/VzHb30Cac/HmWVucN5579JwP+quAjfv+ZQt67m8t+/aoaVjKDy37/kLtQD7SLbvwRcd72H79+/JBEBUYMN2r9XYmFHYdrDv4AWWuzZ/JC/rF6Ug2L8779hCfy3ZK3QvyRA+gJvc9M/Vdswk3lL3b/Rr2Xj3vPfvzzchRWH6d+/jeNxbor237+ZDN+HJNDsvwCEbUYKpkw/YiOVuV5g0D9ADJ2gL9WRP9jfw0Ik8uq/8/jzGpfm0r/Wji+iXvzvvxLo6tG4jO2/rjEpwLTp37+PNaAw203rv3YG5TFzHN+/2mx29yS7678C+xCgNg/NvwOaZ4+P9u+/MPJNDSJw6b8oKoaUSw7mv4gIs3m3bOW/e0tEzbj137/GYCX6AMPLv5pRNklI6ue/vlIYmFbF2L+Q12dFA5Grv+TXD7HBQtW/p8iq2eq82L8=\",\"dtype\":\"float64\",\"shape\":[100]}}},\"id\":\"f81e12c4-c64b-4e69-aeed-81b57df96188\",\"type\":\"ColumnDataSource\"},{\"attributes\":{},\"id\":\"16955c2c-92d0-427d-bfa4-9eaa938e5900\",\"type\":\"BasicTickFormatter\"},{\"attributes\":{\"line_color\":{\"value\":\"#1f77b4\"},\"line_width\":{\"value\":2},\"x\":{\"field\":\"x\"},\"y\":{\"field\":\"y\"}},\"id\":\"d64e39e9-b8ac-47e4-a556-1b1fc2e25bed\",\"type\":\"Line\"},{\"attributes\":{\"fill_alpha\":{\"value\":0.1},\"fill_color\":{\"value\":\"#aec7e8\"},\"line_alpha\":{\"value\":0.1},\"line_color\":{\"value\":\"#aec7e8\"},\"x\":{\"field\":\"x\"},\"y\":{\"field\":\"y\"}},\"id\":\"5df87e67-d72e-4015-b6f7-8bc1f6179ddf\",\"type\":\"Patch\"},{\"attributes\":{\"data_source\":{\"id\":\"f81e12c4-c64b-4e69-aeed-81b57df96188\",\"type\":\"ColumnDataSource\"},\"glyph\":{\"id\":\"d64e39e9-b8ac-47e4-a556-1b1fc2e25bed\",\"type\":\"Line\"},\"hover_glyph\":null,\"nonselection_glyph\":{\"id\":\"e76d8c72-0cf4-4cdb-8bd0-303904890388\",\"type\":\"Line\"},\"selection_glyph\":null},\"id\":\"91e830c6-7463-4037-8cdc-81aec9bc1662\",\"type\":\"GlyphRenderer\"},{\"attributes\":{\"line_alpha\":{\"value\":0.1},\"line_color\":{\"value\":\"#1f77b4\"},\"line_width\":{\"value\":2},\"x\":{\"field\":\"x\"},\"y\":{\"field\":\"y\"}},\"id\":\"e76d8c72-0cf4-4cdb-8bd0-303904890388\",\"type\":\"Line\"},{\"attributes\":{\"line_color\":{\"value\":\"#aec7e8\"},\"line_width\":{\"value\":2},\"x\":{\"field\":\"x\"},\"y\":{\"field\":\"y\"}},\"id\":\"4f54c804-4b94-4fd1-b95d-689de5205cab\",\"type\":\"Line\"},{\"attributes\":{\"data_source\":{\"id\":\"5fef0858-63da-4585-aa49-4101ff63db00\",\"type\":\"ColumnDataSource\"},\"glyph\":{\"id\":\"5df87e67-d72e-4015-b6f7-8bc1f6179ddf\",\"type\":\"Patch\"},\"hover_glyph\":null,\"nonselection_glyph\":{\"id\":\"4b567c0c-c0a0-4210-938e-f50f7e288912\",\"type\":\"Patch\"},\"selection_glyph\":null},\"id\":\"f6fbb05e-51f6-41c3-8e0c-96b9df03375c\",\"type\":\"GlyphRenderer\"},{\"attributes\":{\"fill_alpha\":{\"value\":0.1},\"fill_color\":{\"value\":\"#1f77b4\"},\"line_alpha\":{\"value\":0.1},\"line_color\":{\"value\":\"#1f77b4\"},\"x\":{\"field\":\"x\"},\"y\":{\"field\":\"y\"}},\"id\":\"4b567c0c-c0a0-4210-938e-f50f7e288912\",\"type\":\"Patch\"},{\"attributes\":{\"callback\":null,\"column_names\":[\"x\",\"y\"],\"data\":{\"x\":[0,10000,20000,30000,40000,50000,60000,70000,80000,90000,100000,110000,120000,130000,140000,150000,160000,170000,180000,190000,200000,210000,220000,230000,240000,250000,260000,270000,280000,290000,300000,310000,320000,330000,340000,350000,360000,370000,380000,390000,400000,410000,420000,430000,440000,450000,460000,470000,480000,490000,500000,510000,520000,530000,540000,550000,560000,570000,580000,590000,600000,610000,620000,630000,640000,650000,660000,670000,680000,690000,700000,710000,720000,730000,740000,750000,760000,770000,780000,790000,800000,810000,820000,830000,840000,850000,860000,870000,880000,890000,900000,910000,920000,930000,940000,950000,960000,970000,980000,990000],\"y\":{\"__ndarray__\":\"AAAAAAAAAACsfMIiRr5KPx+DrsbVkdw/1E1pvvB0UD+VcX9cj4rYv81gsxk+L8m/siIBq2lB4r+Urf5v0GLIP9CffnUSo6a/87OlyedD0L9hC5UAm6HjP4DPggcym2K/NnmcHQpn6b9FyWwEbkdSP/a+6EA+Kb6/iQdckWiz7j87f1RtnUXRP322A75nsck/l22Vvgnxgr/M+/w2KKw+P0WKwe4dJcs/o0egi7v41j/GEPaicDNRPwsQZn1Hy8O/yj+uQSAfv7+5sRRBVUDVPxttcZN059e/0lLBBgGL07/IK60XIyC4vyP9/g7RYbI/qs0qC9pUyj+FkfcRqKDCvwZLwKb+PNI/9CPyKk3s378/ftMfen7EP5GWfGvQPMi/q1Ci/eHE3j8fgugoldXVP0TJ5GMBQ94/vWUfQX8Btb9VAc+tWh96vwvOnuJkTsQ/M0876zHp4z/LYz4YRshgP8g+GtlrBOA/lOmw80VB3b/U6FoaN8tFP+X2GMHo5N6/cyRl1G7I3L/O1LGEgE/Sv/CzZGGmeNa/bHln3c9F3b8LqYQclU3Nv0w3vT19+O+/wGfbszTbUT9B1Kpiqsnsv7MIOnCT7d+/XO2cwEDy37/A4U+ew8awv/J+U4f1fMo/flJMTZjmwz8EKEH1qhe0vzYJ9U3NkuW/T+niZEkyQT/vUATPu7vcv+cnxVyM4Nq/7CDqp96F1z9fca8FEj3IP/oZe2TIUNI/6y5UCCoS079aBQJ6byziv7yadCvw1+K/yrMiygbO7b/MrBMFaMnVvz0/eg1Cxty/pUwRo34zsD/oTbDogmWdP8zJ7YZuGdK/WIPDQBOx1r+yN9WxbtHvv9YEl+Ima82/aDK9jIiB0b/UY4LD8aPrv4LUU86EKO6/+w98QUd7yL/jwQtmOuvfv01GxI964+C//C4fSG3W2L8njyhiWZPJv0l8li+DstW/WmKyr3EWk79OA55zWGi3v+nEzNH6qtO/5Yd7Xnutub8Yu5MyMpm/v/iElNj27t+/5A+cwHL1379LYDigZP9yvxCi/oAMytm/Tqg7zeiR278=\",\"dtype\":\"float64\",\"shape\":[100]}}},\"id\":\"890bd330-d288-4bae-92b1-af8b1ea915ff\",\"type\":\"ColumnDataSource\"},{\"attributes\":{\"fill_alpha\":{\"value\":0.1},\"fill_color\":{\"value\":\"#ff7f0e\"},\"line_alpha\":{\"value\":0.1},\"line_color\":{\"value\":\"#ff7f0e\"},\"x\":{\"field\":\"x\"},\"y\":{\"field\":\"y\"}},\"id\":\"60da2b97-94e9-4ea5-b042-771651210ccb\",\"type\":\"Patch\"},{\"attributes\":{\"data_source\":{\"id\":\"890bd330-d288-4bae-92b1-af8b1ea915ff\",\"type\":\"ColumnDataSource\"},\"glyph\":{\"id\":\"4f54c804-4b94-4fd1-b95d-689de5205cab\",\"type\":\"Line\"},\"hover_glyph\":null,\"nonselection_glyph\":{\"id\":\"52384b19-eba7-44e8-af0d-1f06bff8ffe9\",\"type\":\"Line\"},\"selection_glyph\":null},\"id\":\"513d5e50-7bc1-4b52-af64-5cb7aaf851d1\",\"type\":\"GlyphRenderer\"},{\"attributes\":{\"line_alpha\":{\"value\":0.1},\"line_color\":{\"value\":\"#1f77b4\"},\"line_width\":{\"value\":2},\"x\":{\"field\":\"x\"},\"y\":{\"field\":\"y\"}},\"id\":\"52384b19-eba7-44e8-af0d-1f06bff8ffe9\",\"type\":\"Line\"},{\"attributes\":{\"line_color\":{\"value\":\"#ff7f0e\"},\"line_width\":{\"value\":2},\"x\":{\"field\":\"x\"},\"y\":{\"field\":\"y\"}},\"id\":\"b7c4e6e3-6c33-46c9-9731-4115033fd7ac\",\"type\":\"Line\"},{\"attributes\":{\"data_source\":{\"id\":\"81c58315-46b9-4f48-a000-15986b6b9ab2\",\"type\":\"ColumnDataSource\"},\"glyph\":{\"id\":\"60da2b97-94e9-4ea5-b042-771651210ccb\",\"type\":\"Patch\"},\"hover_glyph\":null,\"nonselection_glyph\":{\"id\":\"fa4f64eb-64fc-488e-83ec-439cf089dd4d\",\"type\":\"Patch\"},\"selection_glyph\":null},\"id\":\"8daa7451-24a0-4a50-9aa1-7b66ce20081d\",\"type\":\"GlyphRenderer\"},{\"attributes\":{\"fill_alpha\":{\"value\":0.1},\"fill_color\":{\"value\":\"#1f77b4\"},\"line_alpha\":{\"value\":0.1},\"line_color\":{\"value\":\"#1f77b4\"},\"x\":{\"field\":\"x\"},\"y\":{\"field\":\"y\"}},\"id\":\"fa4f64eb-64fc-488e-83ec-439cf089dd4d\",\"type\":\"Patch\"},{\"attributes\":{\"callback\":null,\"column_names\":[\"x\",\"y\"],\"data\":{\"x\":[0,10000,20000,30000,40000,50000,60000,70000,80000,90000,100000,110000,120000,130000,140000,150000,160000,170000,180000,190000,200000,210000,220000,230000,240000,250000,260000,270000,280000,290000,300000,310000,320000,330000,340000,350000,360000,370000,380000,390000,400000,410000,420000,430000,440000,450000,460000,470000,480000,490000,500000,510000,520000,530000,540000,550000,560000,570000,580000,590000,600000,610000,620000,630000,640000,650000,660000,670000,680000,690000,700000,710000,720000,730000,740000,750000,760000,770000,780000,790000,800000,810000,820000,830000,840000,850000,860000,870000,880000,890000,900000,910000,920000,930000,940000,950000,960000,970000,980000,990000],\"y\":{\"__ndarray__\":\"AAAAAAAAAADeXJGvWFi1PygMscRW9N+/gc6SXs3t37+w0HdSmdDhv8JWRKxo6++/hJsKtPro37/ekRyZ87fgv7s41VTzgti/4szTxBDh37/BQp0ySPLfv1aG4b5I1u6/Q8kske5ww7/3QzA+VvLjv3XpC4yl9N+/wSSOqKoI6r9hIi+teR7Rv25/Cxhbpte/2gA2c2zI3j9/r0Q6BVvWv+szLOfoeVc/N43ttaA34r+sTzkmi/vvv0RqHN1RI7+/pM9AmDXp378AtQ2Hn9xcPxacFAoc3mQ/rXmvEt3Qzb+AbsC9BP+3v+g/Q7Nb5t+/lm5zryMz5L8RP99M+ezfv40jjwJtaNs/iAhgT8s0478AjO9zt0pKP4mU+zRCVNi/FnlOpT5EYz9+7dmErGnUv1igMgQjCeA/QMS94zF6XT9mVWWGRtJXPwDYO6ZB9Uo/dMw4i9q81r86oaOKHshwP+aQIqTrlOu/t98xoQ8o578VfcBAUVu1vwwW2YFyaqu/4NZbxgzS37+ehwDNDXPFP3aUKFKkX+2/I2dv/Tg44z+k9BkUAuHhvzIfhCXXamo/v/zaeIKWnL97WzKo7Afcv/4olPrS3M+/4hBCBFuJ2T8F4TlqRgDvvzCE5cYf6cy/RotuCEciWT/ATCwW1AZ5v2KPrZVpS+u/NYhn2vl50b+BUC7/o9/hvwBB31Ox71w/gkgS2htJ0r+ebT5HLRDSv2TwpEOv2Nm/xcP3t0n57b/hX76mKVfov0JGl5I29N+/wWjwmDqb4L+WOZ8tMOvGv5qxXtBPt+W/9jYTeqx/7T/GyjE7o/LvvzKXbAFCAdy/sC6mPF8T6r/Kbb3HCwTuv0XpX23yDdy/tnZrP1f14L8Y7igmNt7tv+tgxvZy5OG/VI3uqILS378G8UHrsKnkvzi4Kjqqc66/FIKeBUQtzj/sCudvV+Wtv5AcgyZ+Leu/+tUcQ4tb7r+6aCQYqi9UP9rxPUq6m+i/7ctjArXK4r9PEYC9jWrjv/LvWBXC8+W/HrQ1RAzT5r9oVJYUbeyqvwDDg19HY9G/wHvr9103z78=\",\"dtype\":\"float64\",\"shape\":[100]}}},\"id\":\"63009355-3b82-46d5-9821-23d96ab58154\",\"type\":\"ColumnDataSource\"},{\"attributes\":{\"fill_alpha\":{\"value\":0.1},\"fill_color\":{\"value\":\"#ffbb78\"},\"line_alpha\":{\"value\":0.1},\"line_color\":{\"value\":\"#ffbb78\"},\"x\":{\"field\":\"x\"},\"y\":{\"field\":\"y\"}},\"id\":\"f4f9fa6d-0fe8-486c-9ee8-5042c3839e28\",\"type\":\"Patch\"},{\"attributes\":{\"data_source\":{\"id\":\"63009355-3b82-46d5-9821-23d96ab58154\",\"type\":\"ColumnDataSource\"},\"glyph\":{\"id\":\"b7c4e6e3-6c33-46c9-9731-4115033fd7ac\",\"type\":\"Line\"},\"hover_glyph\":null,\"nonselection_glyph\":{\"id\":\"95055bbc-27a2-48aa-8e63-c920fcd86375\",\"type\":\"Line\"},\"selection_glyph\":null},\"id\":\"567ce7c2-5eb1-4c0b-836b-d2756b85417c\",\"type\":\"GlyphRenderer\"},{\"attributes\":{\"line_alpha\":{\"value\":0.1},\"line_color\":{\"value\":\"#1f77b4\"},\"line_width\":{\"value\":2},\"x\":{\"field\":\"x\"},\"y\":{\"field\":\"y\"}},\"id\":\"95055bbc-27a2-48aa-8e63-c920fcd86375\",\"type\":\"Line\"},{\"attributes\":{\"data_source\":{\"id\":\"b74b369a-2949-4ab8-b667-322cf4a7c84b\",\"type\":\"ColumnDataSource\"},\"glyph\":{\"id\":\"f4f9fa6d-0fe8-486c-9ee8-5042c3839e28\",\"type\":\"Patch\"},\"hover_glyph\":null,\"nonselection_glyph\":{\"id\":\"78eb18d7-dec9-42bb-b09f-e1b704700ef5\",\"type\":\"Patch\"},\"selection_glyph\":null},\"id\":\"691f71fb-e4ce-4855-b026-6221db0acfc1\",\"type\":\"GlyphRenderer\"},{\"attributes\":{\"fill_alpha\":{\"value\":0.1},\"fill_color\":{\"value\":\"#1f77b4\"},\"line_alpha\":{\"value\":0.1},\"line_color\":{\"value\":\"#1f77b4\"},\"x\":{\"field\":\"x\"},\"y\":{\"field\":\"y\"}},\"id\":\"78eb18d7-dec9-42bb-b09f-e1b704700ef5\",\"type\":\"Patch\"},{\"attributes\":{\"fill_alpha\":{\"value\":0.1},\"fill_color\":{\"value\":\"#1f77b4\"},\"line_alpha\":{\"value\":0.1},\"line_color\":{\"value\":\"#1f77b4\"},\"x\":{\"field\":\"x\"},\"y\":{\"field\":\"y\"}},\"id\":\"e7c04524-d429-44c3-8db6-cab828ed64d3\",\"type\":\"Patch\"},{\"attributes\":{\"callback\":null,\"column_names\":[\"x\",\"y\"],\"data\":{\"x\":[0,10000,20000,30000,40000,50000,60000,70000,80000,90000,100000,110000,120000,130000,140000,150000,160000,170000,180000,190000,200000,210000,220000,230000,240000,250000,260000,270000,280000,290000,300000,310000,320000,330000,340000,350000,360000,370000,380000,390000,400000,410000,420000,430000,440000,450000,460000,470000,480000,490000,500000,510000,520000,530000,540000,550000,560000,570000,580000,590000,600000,610000,620000,630000,640000,650000,660000,670000,680000,690000,700000,710000,720000,730000,740000,750000,760000,770000,780000,790000,800000,810000,820000,830000,840000,850000,860000,870000,880000,890000,900000,910000,920000,930000,940000,950000,960000,970000,980000,990000],\"y\":{\"__ndarray__\":\"AAAAAAAAAAD06l0+lv/mv1JKN6Kx4+i/U3rn0vzy378f1owYvBytv2A5xVjzpOm/kmPSqX7J379Kf0Y92aTgv46gcBYb7++/XKJAsbcb6L8oAAOCu/Dfv/p4DJpr+d+/92vLtoBs6r9F78vIOeffv+GLdAJZzaa/Il3c4ekD7b9AKaUb0dhhP5Ba+ij56u+//ah/fGNA378BBUtAENDfv6KRF+i9Oum/rGtz4QM64r+E2icxJcntv9BPvOnvbNq/LC/D0uTt3793K/hJquGavyBM7swK6N+/5MMtob8R0T+sVtL1Ld/pv3y/fYj2Xd0/KsEqLQYY6r8ZxngHZqPkv5VkBfqjkt2/IsHvGXdh2b9mGY5S8pZWP+RftHMFxN+/rYgR8e9pk7+HSTvjSOjfv/a+edEyFuO/64tDe7jj4b/uz/2GpuPvv4vTBecr/NG/AO1O+RRBXj+jmAirFp7fP2Jgp5pMJcG/kNjKQJDb378lU01fsvrUv3ZRUzW5eOy/HJgy50hHvT8+WR6R3IfFP5IwP5HfDN6/4nFqnWXy37++l726nA/Qv2qX5M3i9u+/fBe952YH7r+S1YFjD37qv9RYwtoYO8i/bvsMBtBb7r8IaN1DAzPav7d9ccHe5d+/Wn/m5gli179afxy0IVLvv2gxG9x2Ruu/cjvz8GG1sb/rVXssEirbv7GjEjTurdu/LkUIctl55r98jDjRedHfvw9tgdCvae+/LKYBnBTT47/CtaxTu/jvv5MjGVNX98i/IP5vTQZX7b8XmMgEi7flvxkd465ps+W/UsLH0Ezq37/EJdmM2pHTP0KTmg9g59+/WDiKLqwc6L+iTY85BEruv6g847jv/OS/Yy0sFrho6b/mGT2qqtfrvwOSM8Ioie2/3CvzVl3H5r88VP+LUJjmv/T4zzyHhu+/v6XW6Z7u77+K69CaPFzRv4JslFQQe8a/qlJvOMvg3D9eS56EKgvmv15ZFwRX6tS/CZ/jUJvt4L8gNmVeh/vYv+3CwWyF3ue/0+BKHMFc7L9Lrs2vkvrfv7ly4wMoM8W/gYkF0JEj5r8=\",\"dtype\":\"float64\",\"shape\":[100]}}},\"id\":\"07e15607-fae1-483c-9fa4-a00daf0056a0\",\"type\":\"ColumnDataSource\"},{\"attributes\":{\"label\":{\"value\":\"Count_200_Macros_Upto_8_Length_6\"},\"renderers\":[{\"id\":\"513d5e50-7bc1-4b52-af64-5cb7aaf851d1\",\"type\":\"GlyphRenderer\"}]},\"id\":\"48433c68-12c0-40cb-a71d-d94d5cf11384\",\"type\":\"LegendItem\"},{\"attributes\":{\"label\":{\"value\":\"Count_200_Macros_Upto_8_Length_5\"},\"renderers\":[{\"id\":\"91e830c6-7463-4037-8cdc-81aec9bc1662\",\"type\":\"GlyphRenderer\"}]},\"id\":\"1d5e1985-e38c-4f42-aa8f-31b64d01dbb0\",\"type\":\"LegendItem\"},{\"attributes\":{\"callback\":null,\"column_names\":[\"x\",\"y\"],\"data\":{\"x\":[0,10000,20000,30000,40000,50000,60000,70000,80000,90000,100000,110000,120000,130000,140000,150000,160000,170000,180000,190000,200000,210000,220000,230000,240000,250000,260000,270000,280000,290000,300000,310000,320000,330000,340000,350000,360000,370000,380000,390000,400000,410000,420000,430000,440000,450000,460000,470000,480000,490000,500000,510000,520000,530000,540000,550000,560000,570000,580000,590000,600000,610000,620000,630000,640000,650000,660000,670000,680000,690000,700000,710000,720000,730000,740000,750000,760000,770000,780000,790000,800000,810000,820000,830000,840000,850000,860000,870000,880000,890000,900000,910000,920000,930000,940000,950000,960000,970000,980000,990000,990000,980000,970000,960000,950000,940000,930000,920000,910000,900000,890000,880000,870000,860000,850000,840000,830000,820000,810000,800000,790000,780000,770000,760000,750000,740000,730000,720000,710000,700000,690000,680000,670000,660000,650000,640000,630000,620000,610000,600000,590000,580000,570000,560000,550000,540000,530000,520000,510000,500000,490000,480000,470000,460000,450000,440000,430000,420000,410000,400000,390000,380000,370000,360000,350000,340000,330000,320000,310000,300000,290000,280000,270000,260000,250000,240000,230000,220000,210000,200000,190000,180000,170000,160000,150000,140000,130000,120000,110000,100000,90000,80000,70000,60000,50000,40000,30000,20000,10000,0],\"y\":{\"__ndarray__\":\"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\",\"dtype\":\"float64\",\"shape\":[200]}}},\"id\":\"015cba6f-e8cb-4cde-ad52-f94e655987f5\",\"type\":\"ColumnDataSource\"},{\"attributes\":{\"label\":{\"value\":\"Count_200_Macros_Upto_16_Length_5\"},\"renderers\":[{\"id\":\"567ce7c2-5eb1-4c0b-836b-d2756b85417c\",\"type\":\"GlyphRenderer\"}]},\"id\":\"72d9852b-3d9d-4951-a7a0-53bf171583ed\",\"type\":\"LegendItem\"},{\"attributes\":{\"line_alpha\":{\"value\":0.1},\"line_color\":{\"value\":\"#1f77b4\"},\"line_width\":{\"value\":2},\"x\":{\"field\":\"x\"},\"y\":{\"field\":\"y\"}},\"id\":\"52a51dec-7c5a-4102-a22b-97ca7c988644\",\"type\":\"Line\"},{\"attributes\":{\"data_source\":{\"id\":\"8a608212-4c5b-4f9b-b7d9-a65d72dd2698\",\"type\":\"ColumnDataSource\"},\"glyph\":{\"id\":\"31717e27-7c17-4099-98a6-d3b13086371a\",\"type\":\"Line\"},\"hover_glyph\":null,\"nonselection_glyph\":{\"id\":\"52a51dec-7c5a-4102-a22b-97ca7c988644\",\"type\":\"Line\"},\"selection_glyph\":null},\"id\":\"779fbab9-44f2-4789-b6f9-5c55336881d4\",\"type\":\"GlyphRenderer\"},{\"attributes\":{\"callback\":null,\"column_names\":[\"x\",\"y\"],\"data\":{\"x\":[0,10000,20000,30000,40000,50000,60000,70000,80000,90000,100000,110000,120000,130000,140000,150000,160000,170000,180000,190000,200000,210000,220000,230000,240000,250000,260000,270000,280000,290000,300000,310000,320000,330000,340000,350000,360000,370000,380000,390000,400000,410000,420000,430000,440000,450000,460000,470000,480000,490000,500000,510000,520000,530000,540000,550000,560000,570000,580000,590000,600000,610000,620000,630000,640000,650000,660000,670000,680000,690000,700000,710000,720000,730000,740000,750000,760000,770000,780000,790000,800000,810000,820000,830000,840000,850000,860000,870000,880000,890000,900000,910000,920000,930000,940000,950000,960000,970000,980000,990000,990000,980000,970000,960000,950000,940000,930000,920000,910000,900000,890000,880000,870000,860000,850000,840000,830000,820000,810000,800000,790000,780000,770000,760000,750000,740000,730000,720000,710000,700000,690000,680000,670000,660000,650000,640000,630000,620000,610000,600000,590000,580000,570000,560000,550000,540000,530000,520000,510000,500000,490000,480000,470000,460000,450000,440000,430000,420000,410000,400000,390000,380000,370000,360000,350000,340000,330000,320000,310000,300000,290000,280000,270000,260000,250000,240000,230000,220000,210000,200000,190000,180000,170000,160000,150000,140000,130000,120000,110000,100000,90000,80000,70000,60000,50000,40000,30000,20000,10000,0],\"y\":{\"__ndarray__\":\"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\",\"dtype\":\"float64\",\"shape\":[200]}}},\"id\":\"b74b369a-2949-4ab8-b667-322cf4a7c84b\",\"type\":\"ColumnDataSource\"},{\"attributes\":{\"label\":{\"value\":\"Count_200_Macros_Upto_32_Length_6\"},\"renderers\":[{\"id\":\"779fbab9-44f2-4789-b6f9-5c55336881d4\",\"type\":\"GlyphRenderer\"}]},\"id\":\"a75a79fe-733c-4035-afb6-52f4d0ee70b0\",\"type\":\"LegendItem\"},{\"attributes\":{\"callback\":null,\"column_names\":[\"x\",\"y\"],\"data\":{\"x\":[0,10000,20000,30000,40000,50000,60000,70000,80000,90000,100000,110000,120000,130000,140000,150000,160000,170000,180000,190000,200000,210000,220000,230000,240000,250000,260000,270000,280000,290000,300000,310000,320000,330000,340000,350000,360000,370000,380000,390000,400000,410000,420000,430000,440000,450000,460000,470000,480000,490000,500000,510000,520000,530000,540000,550000,560000,570000,580000,590000,600000,610000,620000,630000,640000,650000,660000,670000,680000,690000,700000,710000,720000,730000,740000,750000,760000,770000,780000,790000,800000,810000,820000,830000,840000,850000,860000,870000,880000,890000,900000,910000,920000,930000,940000,950000,960000,970000,980000,990000,990000,980000,970000,960000,950000,940000,930000,920000,910000,900000,890000,880000,870000,860000,850000,840000,830000,820000,810000,800000,790000,780000,770000,760000,750000,740000,730000,720000,710000,700000,690000,680000,670000,660000,650000,640000,630000,620000,610000,600000,590000,580000,570000,560000,550000,540000,530000,520000,510000,500000,490000,480000,470000,460000,450000,440000,430000,420000,410000,400000,390000,380000,370000,360000,350000,340000,330000,320000,310000,300000,290000,280000,270000,260000,250000,240000,230000,220000,210000,200000,190000,180000,170000,160000,150000,140000,130000,120000,110000,100000,90000,80000,70000,60000,50000,40000,30000,20000,10000,0],\"y\":{\"__ndarray__\":\"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\",\"dtype\":\"float64\",\"shape\":[200]}}},\"id\":\"5fef0858-63da-4585-aa49-4101ff63db00\",\"type\":\"ColumnDataSource\"},{\"attributes\":{\"items\":[{\"id\":\"1d5e1985-e38c-4f42-aa8f-31b64d01dbb0\",\"type\":\"LegendItem\"},{\"id\":\"48433c68-12c0-40cb-a71d-d94d5cf11384\",\"type\":\"LegendItem\"},{\"id\":\"72d9852b-3d9d-4951-a7a0-53bf171583ed\",\"type\":\"LegendItem\"},{\"id\":\"d69d2430-517b-4f06-976f-46bb758a5f35\",\"type\":\"LegendItem\"},{\"id\":\"838592ee-ca44-42b3-a528-857decbb4588\",\"type\":\"LegendItem\"},{\"id\":\"a75a79fe-733c-4035-afb6-52f4d0ee70b0\",\"type\":\"LegendItem\"}],\"location\":[0,-30],\"plot\":{\"id\":\"4bf0c5e8-182f-4e33-b328-139e8e7eb86b\",\"subtype\":\"Figure\",\"type\":\"Plot\"}},\"id\":\"79e8ca3a-e38c-4b8b-9738-ca1f40c4aaf3\",\"type\":\"Legend\"},{\"attributes\":{\"callback\":null,\"column_names\":[\"x\",\"y\"],\"data\":{\"x\":[0,10000,20000,30000,40000,50000,60000,70000,80000,90000,100000,110000,120000,130000,140000,150000,160000,170000,180000,190000,200000,210000,220000,230000,240000,250000,260000,270000,280000,290000,300000,310000,320000,330000,340000,350000,360000,370000,380000,390000,400000,410000,420000,430000,440000,450000,460000,470000,480000,490000,500000,510000,520000,530000,540000,550000,560000,570000,580000,590000,600000,610000,620000,630000,640000,650000,660000,670000,680000,690000,700000,710000,720000,730000,740000,750000,760000,770000,780000,790000,800000,810000,820000,830000,840000,850000,860000,870000,880000,890000,900000,910000,920000,930000,940000,950000,960000,970000,980000,990000,990000,980000,970000,960000,950000,940000,930000,920000,910000,900000,890000,880000,870000,860000,850000,840000,830000,820000,810000,800000,790000,780000,770000,760000,750000,740000,730000,720000,710000,700000,690000,680000,670000,660000,650000,640000,630000,620000,610000,600000,590000,580000,570000,560000,550000,540000,530000,520000,510000,500000,490000,480000,470000,460000,450000,440000,430000,420000,410000,400000,390000,380000,370000,360000,350000,340000,330000,320000,310000,300000,290000,280000,270000,260000,250000,240000,230000,220000,210000,200000,190000,180000,170000,160000,150000,140000,130000,120000,110000,100000,90000,80000,70000,60000,50000,40000,30000,20000,10000,0],\"y\":{\"__ndarray__\":\"AAAAAAAAAACoclCANb7Rv1JklDGR9u+//tY8pXz077/BxAexkvnvv5onp+yy7O+/lkW0QTGH5b88pO6cvvTvv4BN57tWkOi/rXZYtjdE4L98IosEyfnvvxzBL/x04u+/y+QDGw2N07+ipvRFrvXjv89aefOC9++/F61p8GAS6r/ww70TWo/dv5gJyWZjq+e/wL9I/DCKlL8mJkLsLmjmv2djopNYUVI/RNmYGE3r778Uazz3d/3vv6pBOWfMhNq/nGzUKsT2779WaN9a6fTvvxxjl0PFJmA/s+Y+aFbs3b+ozA5zhiPIvxu5A4yC9e+/IJx+aYfs77+C91W5UPnvvwASxXhzAGM/az0tXM3p77+Enuvj3IXgv4kg+EYcXOi/IDqtdocCRD+nRb3x5mvUvwC4ID1dols/qo24lJkav78Iyb8yGvNHPyp6kSZVCuK/j8i4ZFnx779o79OWESFSP/Zr40qL7O+/rE85Jov7779UcNLsa3rFvyFv3rT6kbu/FckWx0SJ478AXLkEzdRRP1FH8VjbPu6/PVQsILuf4b++STAct6vjv/yylT4tYWY/N5nQxicLrr916bwrV+Thv/eYNLhSA+C/AGhZ3SXLNT/AwyxUI/Dvv8lW2I7mCd2/SBaVmk+/Uj8QIvaSiP3vv6x+U+sU+u+/SPJvpROG4b/6gXsUbDDrv2ZMwRpn01E/SJDXlTj577/7m6SxmBviv3KGjogS2e6/q6IpWFr1778+j+9UrO7vvyI8VSSF+e+/qJtRBUX677/p6WUHpe/Wv+Uk5QMu9u+/kjhEEmri6j+empYcp/Lvv9ADXNFor+C/INjq3uTv778Y3e+dmdHuv0VcVCDK6+W/W/KVt1Lo4r8cg0WYqPzvv4WJxsnMCu+/xPcC9H31778kXhjFdvzvvz6f3DoejO+/AN6a3Vc9Qz9sWr5Fe1HhvwwKNdFq9u+/ErgMd7D977+RRUZy4ldHP0snt8TU+u+/CYWjHpDi778Icf9qLPvvv2Sj/VHH8++/aPi4PdXH6L+0S1lbyuvvvyizQSYZOdW/7jO8qsNf378AF1xo2TJkP6+lizHrGsu/KIHGuDyO7D/Ub7JKQ97kvwF5aLF559e/WMYCQLxny79ES5CYZ8vGv2m8xM+fPOG/rK4l92KzXD/i8ywPZrnsvxQv0XuRZOa/HPKCr6Ap2z+ltK9ZpSPePzZIl/Ooves/zwfXItat0r8AODWKpX1xP0ThGI9k+MK/FFkMtMO/678i9oGOtwTev/8zLjShiMi/fP6K8X027b9AhWGa2Tbkv8QmIWCyo9a/7vrMWZ/y77+tGvFwdw7wP558sDnj8Na/AEzBGmfTMT+YXfPIAsOjvwCA1/dGOkU/hDCN+Ka/4L/f5MUXOf3rvzhYphONAcQ/ALpczNTWVj+Mj4p3OWDbP82afsb9BWQ/ET7C07cd0b8AJtQQljNYPxigB0C+nOa/3HCdQm2Z7z9EAEh2PoVfP4BMafljY2A/Sv5GgGkQ7r+1ZYafoYbpPwB4hOo66WQ/DOTq+CpH1L+Ax1nfVEpnP2iLcgyBdG4/ip8DDE0W4L9CkYWNFgj8P5vhX0ttgOy/Qs77/zhh1T+WG4r+j5HYv4CKrIIZxEM/AD/zEawaTz+E31Q4KKncv9a1Yf1LPee/mkaSr/gHfT82+P+y/WjSPxaYZMfPF+I/JGO1+X/VYT/mPeuRNQPAPypY42w6AvA/VZX2F3Jn1L/S0Xi27cNwPwAAMPJHaE8/SpalPwKT4D+UTksKJf/Jv3teFo9sVes/AOFw7diuWD8XgtDqf/PQvwBm8oCxTV4/ABQvp9pAUj8ABm2PVXlbPxDVkdBylWk/BTsz/eII8D8A8DknJR1bPxAZVvFG5sU/RDQ2VZ7577+qBAlN0Q/Cv28Etjp5olw/AE7t+mNTWj/YRhj7vWzvPwCmKPY6IUQ/SAOCGmW2sr9rnLJg9P7pvwDQims76zY/TOFrNv7u478AiBvXiR5cP5BLk4Ecyu2/AO5+t0cDTj9qrPYcsjnfvwCLKSTOxlo/APinVImyp7/cq6zkksPUv+qF4Wse6u+/+OQ+n/88vb8A9CGoGr1KPwBQwRpn0zE/GCEZ2GFq3D8AAAAAAAAAAA==\",\"dtype\":\"float64\",\"shape\":[200]}}},\"id\":\"81c58315-46b9-4f48-a000-15986b6b9ab2\",\"type\":\"ColumnDataSource\"},{\"attributes\":{\"callback\":null,\"column_names\":[\"x\",\"y\"],\"data\":{\"x\":[0,10000,20000,30000,40000,50000,60000,70000,80000,90000,100000,110000,120000,130000,140000,150000,160000,170000,180000,190000,200000,210000,220000,230000,240000,250000,260000,270000,280000,290000,300000,310000,320000,330000,340000,350000,360000,370000,380000,390000,400000,410000,420000,430000,440000,450000,460000,470000,480000,490000,500000,510000,520000,530000,540000,550000,560000,570000,580000,590000,600000,610000,620000,630000,640000,650000,660000,670000,680000,690000,700000,710000,720000,730000,740000,750000,760000,770000,780000,790000,800000,810000,820000,830000,840000,850000,860000,870000,880000,890000,900000,910000,920000,930000,940000,950000,960000,970000,980000,990000],\"y\":{\"__ndarray__\":\"AAAAAAAAAABStGBAKFvkv1CRHgqF4d+/3KrDhaxJ7b8Atotub8XfvwIXOkjg5ci/dt/eEQo81b/wuMnpbXCbP3pPFd285O+/Jc0f09r077+G48nkkjfpv5ERoi+8od2/SnXdUCPM378mzO631DptP4zig0ba9Ke/XLPsrnlntr+cLbAsXj7Nv6I5svLL4N+/smrIKVfvbz8CE4hNIo/hv64873+i29+/gECHOi7nYz9S26LSq5vrv43JQk9O07Y/CqGVHekg5r8HfcUPwGXgv41O0BSYx9e/kNX3lXdwmr9s7+iWcSjgP3K/wP6e19y/wcsli6hlwL+oVHuwQGTGv0WDqKFVfJ6/kD8CnFVO6b+O93aAY1/gv8sjPvULNdi/Tp8o3inp37/jZdB+8Y3Vv/pFa39VjLi/6jzX0wMR4D/Th85XRZnVv9vMufvm0d+/3PXSFAHO379s3odmJ1RnP7y1pVXSIee/T7pK7t/V37+OWnINLuvfv9ApA2YoZty/TjURL7uByL/Xd1i7AA7Fv7DgkK8L010/6WBQyq90479erPoP6Nvnv6u2BcNZtti/XnZEsEkySz8WGfjVO/XvvxYR72cgAOa/4vI/w+7f378Z2AL2QbHiv71t9th9kaO/zWftki2937+DSxrHU2Tfv14meKGyzd+/aAz1+P4I8D+C+WExxnzbP2+6NV/jx+u/zKIyAmvX4r8LkSE5Fubfv+DUqtucCYu/3hJjInaNzr8yTRXNhU7ov25qWRm2I7i/BtvbUacR3b8TAOXRpcTfv+bdU4dODOq/3ssYWSDY779srlMHouTIvz25/jMcJ86/QPaXVJwD7L93DDzTQN7uvzp2UInr2OW/WI8xJAP177+8+fc2dOLvv/pyoi1d/9q/90/2FPz1yr+cSQGgqNTfvx4KPoEg2++/KBYn10qVzj9B0vTa3Y/ov5ikkTkOHO2/CEFAKh+637+I4m4t8eDfv6xkoX6M1Me/TNcnHRrr7r+gcl0pxofgv901Dvt5vN+/tNqRZRjDu79xCeu3eU94vybIH2BC3O+/XmIQax1+2D8=\",\"dtype\":\"float64\",\"shape\":[100]}}},\"id\":\"8a608212-4c5b-4f9b-b7d9-a65d72dd2698\",\"type\":\"ColumnDataSource\"},{\"attributes\":{\"label\":{\"value\":\"Count_200_Macros_Upto_16_Length_6\"},\"renderers\":[{\"id\":\"f014b79d-543e-4f63-a4e9-e5988ec92d48\",\"type\":\"GlyphRenderer\"}]},\"id\":\"d69d2430-517b-4f06-976f-46bb758a5f35\",\"type\":\"LegendItem\"},{\"attributes\":{\"label\":{\"value\":\"Count_200_Macros_Upto_32_Length_5\"},\"renderers\":[{\"id\":\"eb7d6b2d-0c32-4220-bc6d-d4c2c89b7c4f\",\"type\":\"GlyphRenderer\"}]},\"id\":\"838592ee-ca44-42b3-a528-857decbb4588\",\"type\":\"LegendItem\"},{\"attributes\":{\"line_color\":{\"value\":\"#98df8a\"},\"line_width\":{\"value\":2},\"x\":{\"field\":\"x\"},\"y\":{\"field\":\"y\"}},\"id\":\"31717e27-7c17-4099-98a6-d3b13086371a\",\"type\":\"Line\"}],\"root_ids\":[\"4bf0c5e8-182f-4e33-b328-139e8e7eb86b\"]},\"title\":\"Bokeh Application\",\"version\":\"0.12.4\"}};\n",
       "            var render_items = [{\"docid\":\"991b9c81-7cb2-4713-940a-d1e97266463a\",\"elementid\":\"0406e434-4f32-4c6c-a306-7d4d749b8ee4\",\"modelid\":\"4bf0c5e8-182f-4e33-b328-139e8e7eb86b\"}];\n",
       "            \n",
       "            Bokeh.embed.embed_items(docs_json, render_items);\n",
       "          };\n",
       "          if (document.readyState != \"loading\") fn();\n",
       "          else document.addEventListener(\"DOMContentLoaded\", fn);\n",
       "        })();\n",
       "      },\n",
       "      function(Bokeh) {\n",
       "      }\n",
       "    ];\n",
       "  \n",
       "    function run_inline_js() {\n",
       "      \n",
       "      if ((window.Bokeh !== undefined) || (force === true)) {\n",
       "        for (var i = 0; i < inline_js.length; i++) {\n",
       "          inline_js[i](window.Bokeh);\n",
       "        }if (force === true) {\n",
       "          display_loaded();\n",
       "        }} else if (Date.now() < window._bokeh_timeout) {\n",
       "        setTimeout(run_inline_js, 100);\n",
       "      } else if (!window._bokeh_failed_load) {\n",
       "        console.log(\"Bokeh: BokehJS failed to load within specified timeout.\");\n",
       "        window._bokeh_failed_load = true;\n",
       "      } else if (force !== true) {\n",
       "        var cell = $(document.getElementById(\"0406e434-4f32-4c6c-a306-7d4d749b8ee4\")).parents('.cell').data().cell;\n",
       "        cell.output_area.append_execute_result(NB_LOAD_WARNING)\n",
       "      }\n",
       "  \n",
       "    }\n",
       "  \n",
       "    if (window._bokeh_is_loading === 0) {\n",
       "      console.log(\"Bokeh: BokehJS loaded, going straight to plotting\");\n",
       "      run_inline_js();\n",
       "    } else {\n",
       "      load_libs(js_urls, function() {\n",
       "        console.log(\"Bokeh: BokehJS plotting callback run at\", now());\n",
       "        run_inline_js();\n",
       "      });\n",
       "    }\n",
       "  }(this));\n",
       "</script>"
      ]
     },
     "metadata": {},
     "output_type": "display_data"
    }
   ],
   "source": [
    "plot_averages_b(names, t_maxs, Category20[len(names)], legends, directories, step=10000, title=\"Random Macros in Maze 5\")"
   ]
  },
  {
   "cell_type": "code",
   "execution_count": null,
   "metadata": {
    "collapsed": true
   },
   "outputs": [],
   "source": []
  },
  {
   "cell_type": "code",
   "execution_count": 56,
   "metadata": {
    "collapsed": false
   },
   "outputs": [
    {
     "ename": "IsADirectoryError",
     "evalue": "[Errno 21] Is a directory: '/home/tabz/Dropbox/RL/Log_Files/March 2017/Options_Logs/Maze_10_Batch_32_Options_Count_Cts_7_Conv_True_Beta_0.01_Eps_1_uid_33_2017-03-20_23-57'",
     "output_type": "error",
     "traceback": [
      "\u001b[0;31m---------------------------------------------------------------------------\u001b[0m",
      "\u001b[0;31mIsADirectoryError\u001b[0m                         Traceback (most recent call last)",
      "\u001b[0;32m<ipython-input-56-e3851f8becb5>\u001b[0m in \u001b[0;36m<module>\u001b[0;34m()\u001b[0m\n\u001b[0;32m----> 1\u001b[0;31m \u001b[0;32mwith\u001b[0m \u001b[0mopen\u001b[0m\u001b[0;34m(\u001b[0m\u001b[0;34m\"/home/tabz/Dropbox/RL/Log_Files/March 2017/Options_Logs/Maze_10_Batch_32_Options_Count_Cts_7_Conv_True_Beta_0.01_Eps_1_uid_33_2017-03-20_23-57\"\u001b[0m\u001b[0;34m,\u001b[0m \u001b[0;34m\"r\"\u001b[0m\u001b[0;34m)\u001b[0m \u001b[0;32mas\u001b[0m \u001b[0mf\u001b[0m\u001b[0;34m:\u001b[0m\u001b[0;34m\u001b[0m\u001b[0m\n\u001b[0m\u001b[1;32m      2\u001b[0m     \u001b[0mprint\u001b[0m\u001b[0;34m(\u001b[0m\u001b[0mf\u001b[0m\u001b[0;34m)\u001b[0m\u001b[0;34m\u001b[0m\u001b[0m\n",
      "\u001b[0;31mIsADirectoryError\u001b[0m: [Errno 21] Is a directory: '/home/tabz/Dropbox/RL/Log_Files/March 2017/Options_Logs/Maze_10_Batch_32_Options_Count_Cts_7_Conv_True_Beta_0.01_Eps_1_uid_33_2017-03-20_23-57'"
     ]
    }
   ],
   "source": [
    "with open(\"/home/tabz/Dropbox/RL/Log_Files/March 2017/Options_Logs/Maze_10_Batch_32_Options_Count_Cts_7_Conv_True_Beta_0.01_Eps_1_uid_33_2017-03-20_23-57/logs/\", \"r\") as f:\n",
    "    print(f)"
   ]
  },
  {
   "cell_type": "code",
   "execution_count": null,
   "metadata": {
    "collapsed": true
   },
   "outputs": [],
   "source": []
  },
  {
   "cell_type": "code",
   "execution_count": null,
   "metadata": {
    "collapsed": true
   },
   "outputs": [],
   "source": [
    "DQN_Smoothed = []\n",
    "for times, rewards in zip(DQN_Lengths_C, DQN_Rewards):\n",
    "    linear = interp1d(times, rewards, kind=\"linear\")\n",
    "    linear_rewards = linear([i for i in range(500000)])\n",
    "    DQN_Smoothed.append(linear_rewards)"
   ]
  },
  {
   "cell_type": "code",
   "execution_count": null,
   "metadata": {
    "collapsed": true
   },
   "outputs": [],
   "source": [
    "DQN_Means = np.mean(DQN_Smoothed, axis=0)"
   ]
  },
  {
   "cell_type": "code",
   "execution_count": null,
   "metadata": {
    "collapsed": true
   },
   "outputs": [],
   "source": [
    "DQN_Stds = np.std(DQN_Smoothed, axis=0)"
   ]
  },
  {
   "cell_type": "code",
   "execution_count": null,
   "metadata": {
    "collapsed": false
   },
   "outputs": [],
   "source": [
    "plt.fill_between([i for i in range(500000)], DQN_Means - DQN_Stds, DQN_Means + DQN_Stds, color=\"red\", alpha=0.3, edgecolor=\"white\")\n",
    "\n",
    "plt.plot([i for i in range(500000)], DQN_Means, color=\"red\")"
   ]
  },
  {
   "cell_type": "code",
   "execution_count": null,
   "metadata": {
    "collapsed": false
   },
   "outputs": [],
   "source": [
    "len(DQN_Repeat)"
   ]
  },
  {
   "cell_type": "code",
   "execution_count": null,
   "metadata": {
    "collapsed": true
   },
   "outputs": [],
   "source": [
    "plt.plot(DQN)"
   ]
  },
  {
   "cell_type": "code",
   "execution_count": null,
   "metadata": {
    "collapsed": true
   },
   "outputs": [],
   "source": [
    "directories = [\"Logs/\"]"
   ]
  },
  {
   "cell_type": "code",
   "execution_count": null,
   "metadata": {
    "collapsed": false
   },
   "outputs": [],
   "source": [
    "for i in range(0, 10, 2):\n",
    "    print(i)"
   ]
  },
  {
   "cell_type": "code",
   "execution_count": null,
   "metadata": {
    "collapsed": true
   },
   "outputs": [],
   "source": []
  }
 ],
 "metadata": {
  "kernelspec": {
   "display_name": "Python 3",
   "language": "python",
   "name": "python3"
  },
  "language_info": {
   "codemirror_mode": {
    "name": "ipython",
    "version": 3
   },
   "file_extension": ".py",
   "mimetype": "text/x-python",
   "name": "python",
   "nbconvert_exporter": "python",
   "pygments_lexer": "ipython3",
   "version": "3.6.0"
  }
 },
 "nbformat": 4,
 "nbformat_minor": 2
}
