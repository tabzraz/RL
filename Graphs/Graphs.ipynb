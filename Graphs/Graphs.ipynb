{
 "cells": [
  {
   "cell_type": "code",
   "execution_count": 1,
   "metadata": {
    "collapsed": false,
    "deletable": true,
    "editable": true
   },
   "outputs": [
    {
     "data": {
      "text/html": [
       "\n",
       "    <div class=\"bk-root\">\n",
       "        <a href=\"http://bokeh.pydata.org\" target=\"_blank\" class=\"bk-logo bk-logo-small bk-logo-notebook\"></a>\n",
       "        <span id=\"c32b7a97-cce7-4be5-8105-4bcb705eff55\">Loading BokehJS ...</span>\n",
       "    </div>"
      ]
     },
     "metadata": {},
     "output_type": "display_data"
    },
    {
     "data": {
      "application/javascript": [
       "\n",
       "(function(global) {\n",
       "  function now() {\n",
       "    return new Date();\n",
       "  }\n",
       "\n",
       "  var force = true;\n",
       "\n",
       "  if (typeof (window._bokeh_onload_callbacks) === \"undefined\" || force === true) {\n",
       "    window._bokeh_onload_callbacks = [];\n",
       "    window._bokeh_is_loading = undefined;\n",
       "  }\n",
       "\n",
       "\n",
       "  \n",
       "  if (typeof (window._bokeh_timeout) === \"undefined\" || force === true) {\n",
       "    window._bokeh_timeout = Date.now() + 5000;\n",
       "    window._bokeh_failed_load = false;\n",
       "  }\n",
       "\n",
       "  var NB_LOAD_WARNING = {'data': {'text/html':\n",
       "     \"<div style='background-color: #fdd'>\\n\"+\n",
       "     \"<p>\\n\"+\n",
       "     \"BokehJS does not appear to have successfully loaded. If loading BokehJS from CDN, this \\n\"+\n",
       "     \"may be due to a slow or bad network connection. Possible fixes:\\n\"+\n",
       "     \"</p>\\n\"+\n",
       "     \"<ul>\\n\"+\n",
       "     \"<li>re-rerun `output_notebook()` to attempt to load from CDN again, or</li>\\n\"+\n",
       "     \"<li>use INLINE resources instead, as so:</li>\\n\"+\n",
       "     \"</ul>\\n\"+\n",
       "     \"<code>\\n\"+\n",
       "     \"from bokeh.resources import INLINE\\n\"+\n",
       "     \"output_notebook(resources=INLINE)\\n\"+\n",
       "     \"</code>\\n\"+\n",
       "     \"</div>\"}};\n",
       "\n",
       "  function display_loaded() {\n",
       "    if (window.Bokeh !== undefined) {\n",
       "      document.getElementById(\"c32b7a97-cce7-4be5-8105-4bcb705eff55\").textContent = \"BokehJS successfully loaded.\";\n",
       "    } else if (Date.now() < window._bokeh_timeout) {\n",
       "      setTimeout(display_loaded, 100)\n",
       "    }\n",
       "  }\n",
       "\n",
       "  function run_callbacks() {\n",
       "    window._bokeh_onload_callbacks.forEach(function(callback) { callback() });\n",
       "    delete window._bokeh_onload_callbacks\n",
       "    console.info(\"Bokeh: all callbacks have finished\");\n",
       "  }\n",
       "\n",
       "  function load_libs(js_urls, callback) {\n",
       "    window._bokeh_onload_callbacks.push(callback);\n",
       "    if (window._bokeh_is_loading > 0) {\n",
       "      console.log(\"Bokeh: BokehJS is being loaded, scheduling callback at\", now());\n",
       "      return null;\n",
       "    }\n",
       "    if (js_urls == null || js_urls.length === 0) {\n",
       "      run_callbacks();\n",
       "      return null;\n",
       "    }\n",
       "    console.log(\"Bokeh: BokehJS not loaded, scheduling load and callback at\", now());\n",
       "    window._bokeh_is_loading = js_urls.length;\n",
       "    for (var i = 0; i < js_urls.length; i++) {\n",
       "      var url = js_urls[i];\n",
       "      var s = document.createElement('script');\n",
       "      s.src = url;\n",
       "      s.async = false;\n",
       "      s.onreadystatechange = s.onload = function() {\n",
       "        window._bokeh_is_loading--;\n",
       "        if (window._bokeh_is_loading === 0) {\n",
       "          console.log(\"Bokeh: all BokehJS libraries loaded\");\n",
       "          run_callbacks()\n",
       "        }\n",
       "      };\n",
       "      s.onerror = function() {\n",
       "        console.warn(\"failed to load library \" + url);\n",
       "      };\n",
       "      console.log(\"Bokeh: injecting script tag for BokehJS library: \", url);\n",
       "      document.getElementsByTagName(\"head\")[0].appendChild(s);\n",
       "    }\n",
       "  };var element = document.getElementById(\"c32b7a97-cce7-4be5-8105-4bcb705eff55\");\n",
       "  if (element == null) {\n",
       "    console.log(\"Bokeh: ERROR: autoload.js configured with elementid 'c32b7a97-cce7-4be5-8105-4bcb705eff55' but no matching script tag was found. \")\n",
       "    return false;\n",
       "  }\n",
       "\n",
       "  var js_urls = [\"https://cdn.pydata.org/bokeh/release/bokeh-0.12.4.min.js\", \"https://cdn.pydata.org/bokeh/release/bokeh-widgets-0.12.4.min.js\"];\n",
       "\n",
       "  var inline_js = [\n",
       "    function(Bokeh) {\n",
       "      Bokeh.set_log_level(\"info\");\n",
       "    },\n",
       "    \n",
       "    function(Bokeh) {\n",
       "      \n",
       "      document.getElementById(\"c32b7a97-cce7-4be5-8105-4bcb705eff55\").textContent = \"BokehJS is loading...\";\n",
       "    },\n",
       "    function(Bokeh) {\n",
       "      console.log(\"Bokeh: injecting CSS: https://cdn.pydata.org/bokeh/release/bokeh-0.12.4.min.css\");\n",
       "      Bokeh.embed.inject_css(\"https://cdn.pydata.org/bokeh/release/bokeh-0.12.4.min.css\");\n",
       "      console.log(\"Bokeh: injecting CSS: https://cdn.pydata.org/bokeh/release/bokeh-widgets-0.12.4.min.css\");\n",
       "      Bokeh.embed.inject_css(\"https://cdn.pydata.org/bokeh/release/bokeh-widgets-0.12.4.min.css\");\n",
       "    }\n",
       "  ];\n",
       "\n",
       "  function run_inline_js() {\n",
       "    \n",
       "    if ((window.Bokeh !== undefined) || (force === true)) {\n",
       "      for (var i = 0; i < inline_js.length; i++) {\n",
       "        inline_js[i](window.Bokeh);\n",
       "      }if (force === true) {\n",
       "        display_loaded();\n",
       "      }} else if (Date.now() < window._bokeh_timeout) {\n",
       "      setTimeout(run_inline_js, 100);\n",
       "    } else if (!window._bokeh_failed_load) {\n",
       "      console.log(\"Bokeh: BokehJS failed to load within specified timeout.\");\n",
       "      window._bokeh_failed_load = true;\n",
       "    } else if (force !== true) {\n",
       "      var cell = $(document.getElementById(\"c32b7a97-cce7-4be5-8105-4bcb705eff55\")).parents('.cell').data().cell;\n",
       "      cell.output_area.append_execute_result(NB_LOAD_WARNING)\n",
       "    }\n",
       "\n",
       "  }\n",
       "\n",
       "  if (window._bokeh_is_loading === 0) {\n",
       "    console.log(\"Bokeh: BokehJS loaded, going straight to plotting\");\n",
       "    run_inline_js();\n",
       "  } else {\n",
       "    load_libs(js_urls, function() {\n",
       "      console.log(\"Bokeh: BokehJS plotting callback run at\", now());\n",
       "      run_inline_js();\n",
       "    });\n",
       "  }\n",
       "}(this));"
      ]
     },
     "metadata": {},
     "output_type": "display_data"
    }
   ],
   "source": [
    "from bokeh.plotting import figure, output_notebook, show\n",
    "output_notebook()"
   ]
  },
  {
   "cell_type": "code",
   "execution_count": 2,
   "metadata": {
    "collapsed": true,
    "deletable": true,
    "editable": true
   },
   "outputs": [],
   "source": [
    "import glob"
   ]
  },
  {
   "cell_type": "code",
   "execution_count": 3,
   "metadata": {
    "collapsed": true,
    "deletable": true,
    "editable": true
   },
   "outputs": [],
   "source": [
    "import numpy as np"
   ]
  },
  {
   "cell_type": "code",
   "execution_count": 4,
   "metadata": {
    "collapsed": true,
    "deletable": true,
    "editable": true
   },
   "outputs": [],
   "source": [
    "from scipy.interpolate import interp1d\n",
    "from scipy.interpolate import spline"
   ]
  },
  {
   "cell_type": "code",
   "execution_count": 5,
   "metadata": {
    "collapsed": true,
    "deletable": true,
    "editable": true
   },
   "outputs": [],
   "source": [
    "from tqdm import tqdm"
   ]
  },
  {
   "cell_type": "code",
   "execution_count": 6,
   "metadata": {
    "collapsed": true,
    "deletable": true,
    "editable": true
   },
   "outputs": [],
   "source": [
    "DQN_Rewards_Path = \"/home/tabz/Dropbox/RL/Log_Files/March 2017/Maze_5_Batch_Sizes_Logs/*DQN*/logs/Episode_Rewards.txt\"\n",
    "DQN_Lengths_Path = \"/home/tabz/Dropbox/RL/Log_Files/March 2017/Maze_5_Batch_Sizes_Logs/*DQN*/logs/Episode_Lengths.txt\"\n",
    "DQN_Rewards = []\n",
    "DQN_Lengths = []\n",
    "DQN_Lengths_C = []"
   ]
  },
  {
   "cell_type": "code",
   "execution_count": 7,
   "metadata": {
    "collapsed": true,
    "deletable": true,
    "editable": true
   },
   "outputs": [],
   "source": [
    "for filename in glob.glob(DQN_Rewards_Path):\n",
    "    run_logs = [0]\n",
    "#     print(filename)\n",
    "    with open(filename, \"r\") as f:\n",
    "        for line in f:\n",
    "            try:\n",
    "                ep_r = float(line)\n",
    "            except:\n",
    "                continue\n",
    "            run_logs.append(ep_r)\n",
    "    DQN_Rewards.append(run_logs)"
   ]
  },
  {
   "cell_type": "code",
   "execution_count": 8,
   "metadata": {
    "collapsed": true,
    "deletable": true,
    "editable": true
   },
   "outputs": [],
   "source": [
    "for filename in glob.glob(DQN_Lengths_Path):\n",
    "    run_logs = [0]\n",
    "#     print(filename)\n",
    "    with open(filename, \"r\") as f:\n",
    "        for line in f:\n",
    "            try:\n",
    "                ep_r = float(line)\n",
    "            except:\n",
    "                continue\n",
    "            run_logs.append(ep_r)\n",
    "    DQN_Lengths.append(run_logs)\n",
    "    run_logs_c = np.cumsum(run_logs).astype(np.int32)\n",
    "    DQN_Lengths_C.append(run_logs_c)"
   ]
  },
  {
   "cell_type": "markdown",
   "metadata": {
    "collapsed": false,
    "deletable": true,
    "editable": true
   },
   "source": [
    "for lens, runs in zip(DQN_Lengths_C, DQN_Rewards):\n",
    "    plt.plot(lens, runs)\n",
    "plt.show()"
   ]
  },
  {
   "cell_type": "markdown",
   "metadata": {
    "collapsed": false,
    "deletable": true,
    "editable": true
   },
   "source": [
    "p = figure(width=500, height=500, y_range=(-1,3))\n",
    "for lens, runs in zip(DQN_Lengths_C, DQN_Rewards):\n",
    "    p.line(lens, runs)\n",
    "show(p)"
   ]
  },
  {
   "cell_type": "code",
   "execution_count": null,
   "metadata": {
    "collapsed": true,
    "deletable": true,
    "editable": true
   },
   "outputs": [],
   "source": []
  },
  {
   "cell_type": "markdown",
   "metadata": {
    "collapsed": true,
    "deletable": true,
    "editable": true
   },
   "source": [
    "def plot_averages(names, t_maxs, colors, legends=None, directory=\"Logs/\", step=10):\n",
    "    plt.figure(figsize=(10,10))\n",
    "    plt.ylim(-1, 3)\n",
    "    for name, color, t_max in tqdm(zip(names, colors, t_maxs)):\n",
    "        # TODO: Remove DQN from names\n",
    "        DQN_Rewards_Path = directory + \"*\" + name + \"*/logs/Episode_Rewards.txt\"\n",
    "        DQN_Lengths_Path = directory + \"*\" + name + \"*/logs/Episode_Lengths.txt\"\n",
    "        DQN_Rewards = []\n",
    "        DQN_Lengths = []\n",
    "        DQN_Lengths_C = []\n",
    "        for filename in glob.glob(DQN_Rewards_Path):\n",
    "            run_logs = [0]\n",
    "            with open(filename, \"r\") as f:\n",
    "                for line in f:\n",
    "                    try:\n",
    "                        ep_r = float(line)\n",
    "                    except:\n",
    "                        continue\n",
    "                    run_logs.append(ep_r)\n",
    "            DQN_Rewards.append(run_logs)\n",
    "        for filename in glob.glob(DQN_Lengths_Path):\n",
    "            run_logs = [0]\n",
    "        #     print(filename)\n",
    "            with open(filename, \"r\") as f:\n",
    "                for line in f:\n",
    "                    try:\n",
    "                        ep_r = float(line)\n",
    "                    except:\n",
    "                        continue\n",
    "                    run_logs.append(ep_r)\n",
    "            DQN_Lengths.append(run_logs)\n",
    "            run_logs_c = np.cumsum(run_logs).astype(np.int32)\n",
    "            DQN_Lengths_C.append(run_logs_c)\n",
    "        DQN_Smoothed = []\n",
    "        for times, rewards in zip(DQN_Lengths_C, DQN_Rewards):\n",
    "#             linear = interp1d(times, rewards, kind=\"linear\")\n",
    "#             linear_rewards = linear([i for i in range(500000)])\n",
    "#             DQN_Smoothed.append(linear_rewards)\n",
    "            spline_rewards = spline(times, rewards, [i for i in range(0, t_max, step)])\n",
    "            DQN_Smoothed.append(spline_rewards)\n",
    "        DQN_Means = np.mean(DQN_Smoothed, axis=0)\n",
    "        DQN_Stds = np.std(DQN_Smoothed, axis=0)\n",
    "        plt.fill_between([i for i in range(0, t_max, step)], DQN_Means - DQN_Stds, DQN_Means + DQN_Stds, color=color, alpha=0.2, edgecolor=\"white\")\n",
    "\n",
    "        plt.plot([i for i in range(0, t_max, step)], DQN_Means, color=color)\n",
    "\n",
    "    plt.title(\"Episode_Reward\")\n",
    "    plt.xlabel(\"T\")\n",
    "    plt.ylabel(\"Reward\")\n",
    "    if legends is not None:\n",
    "        plt.legend(legends, bbox_to_anchor=(1.05, 1), loc=2)\n",
    "    plt.show()"
   ]
  },
  {
   "cell_type": "code",
   "execution_count": 9,
   "metadata": {
    "collapsed": true,
    "deletable": true,
    "editable": true
   },
   "outputs": [],
   "source": [
    "from bokeh.models import Legend\n",
    "from bokeh.models.formatters import BasicTickFormatter\n",
    "from bokeh.models import HoverTool, TapTool"
   ]
  },
  {
   "cell_type": "code",
   "execution_count": 10,
   "metadata": {
    "collapsed": false,
    "deletable": true,
    "editable": true
   },
   "outputs": [],
   "source": [
    "def plot_averages_b(names, t_maxs, colors, legends, directories=\"Logs/\", step=10, title=\"\", min_max=True):\n",
    "#     plt.figure(figsize=(10,10))\n",
    "    p = figure(width=1200, height=800, y_range=(-0.1, 1.1), title=title)\n",
    "    p.toolbar_location = \"above\"\n",
    "    p.yaxis.axis_label = \"Episode Reward\"\n",
    "    p.xaxis.axis_label = \"T\"\n",
    "    p.xaxis.formatter = BasicTickFormatter(use_scientific=False)\n",
    "#     p = figure(width=800, height=500)\n",
    "    lines = []\n",
    "    alpha_lines = []\n",
    "    if isinstance(directories, str):\n",
    "        dd = directories\n",
    "        directories = [dd for _ in names]\n",
    "    for name, color, t_max, legend, directory in zip(names, colors, t_maxs, legends, directories):\n",
    "#         print(directory)\n",
    "        DQN_Rewards_Path = directory + \"*\" + name + \"*/logs/Episode_Rewards.txt\"\n",
    "        DQN_Lengths_Path = directory + \"*\" + name + \"*/logs/Episode_Lengths.txt\"\n",
    "        DQN_Rewards = []\n",
    "        DQN_Lengths = []\n",
    "        DQN_Lengths_C = []\n",
    "        for filename in glob.glob(DQN_Rewards_Path):\n",
    "            run_logs = [0]\n",
    "            with open(filename, \"r\") as f:\n",
    "#                 print(f)\n",
    "                for line in f:\n",
    "                    try:\n",
    "                        ep_r = float(line)\n",
    "                    except:\n",
    "                        print(\"Nothing here for:\", filename)\n",
    "                        continue\n",
    "                    run_logs.append(ep_r)\n",
    "            DQN_Rewards.append(run_logs)\n",
    "        for filename in glob.glob(DQN_Lengths_Path):\n",
    "            run_logs = [0]\n",
    "        #     print(filename)\n",
    "            with open(filename, \"r\") as f:\n",
    "                for line in f:\n",
    "                    try:\n",
    "                        ep_r = float(line)\n",
    "                    except:\n",
    "                        continue\n",
    "                    run_logs.append(ep_r)\n",
    "            DQN_Lengths.append(run_logs)\n",
    "            run_logs_c = np.cumsum(run_logs).astype(np.int32)\n",
    "            DQN_Lengths_C.append(run_logs_c)\n",
    "        DQN_Smoothed = []\n",
    "        for times, rewards in zip(DQN_Lengths_C, DQN_Rewards):\n",
    "#             linear = interp1d(times, rewards, kind=\"linear\")\n",
    "#             linear_rewards = linear([i for i in range(500000)])\n",
    "#             DQN_Smoothed.append(linear_rewards)\n",
    "            spline_rewards = spline(times, rewards, [i for i in range(0, t_max, step)], order=1)\n",
    "            DQN_Smoothed.append(spline_rewards)\n",
    "        DQN_Means = np.mean(DQN_Smoothed, axis=0)\n",
    "        DQN_Stds = np.std(DQN_Smoothed, axis=0)\n",
    "        \n",
    "        if min_max:\n",
    "    #         plt.fill_between([i for i in range(0, t_max, step)], DQN_Means - DQN_Stds, DQN_Means + DQN_Stds, color=color, alpha=0.2, edgecolor=\"white\")\n",
    "            # Error bars\n",
    "            xs = [i for i in range(0, t_max, step)]\n",
    "            xs = xs + list(reversed(xs))\n",
    "    #         ys = np.concatenate([DQN_Means - DQN_Stds, np.flip(DQN_Means + DQN_Stds, axis=0)])\n",
    "            ys = np.concatenate([np.min(DQN_Smoothed, axis=0), np.flip(np.max(DQN_Smoothed, axis=0), axis=0)])\n",
    "            lls = p.patch(xs, ys, color=color, alpha=0.1)\n",
    "\n",
    "\n",
    "    #         for x, y, yerr in zip(range(0, t_max, step), DQN_Means, DQN_Stds):\n",
    "    #             lls = p.line([x, x], [y - yerr, y + yerr], color=color, alpha=0.1, hover_alpha=0.8)\n",
    "    #             alpha_lines.append(lls)\n",
    "\n",
    "\n",
    "    #         plt.plot([i for i in range(0, t_max, step)], DQN_Means, color=color)\n",
    "        l = p.line([i for i in range(0, t_max, step)], DQN_Means, color=color, line_width=2)\n",
    "        lines.append(l)\n",
    "    #         alpha_lines.append(lls)\n",
    "\n",
    "#     plt.title(\"Episode_Reward\")\n",
    "#     plt.xlabel(\"T\")\n",
    "#     plt.ylabel(\"Reward\")\n",
    "#     if legends is not None:\n",
    "#         plt.legend(legends)\n",
    "#     plt.show()\n",
    "#     p.line([0,1], [-1,3])\n",
    "    new_leg = Legend(items=[(name, [line]) for name, line in zip(legends, lines)], location=(0,-30))\n",
    "    p.add_layout(new_leg, \"right\")\n",
    "#     p.add_tools(HoverTool(renderers=alpha_lines))\n",
    "#     p.add_tools(TapTool(renderers=alpha_lines))\n",
    "    show(p)"
   ]
  },
  {
   "cell_type": "code",
   "execution_count": 11,
   "metadata": {
    "collapsed": false,
    "deletable": true,
    "editable": true
   },
   "outputs": [],
   "source": [
    "def plot_states(names, t_maxs, colors, legends, directories=\"Logs/\", step=10, title=\"\"):\n",
    "#     plt.figure(figsize=(10,10))\n",
    "    p = figure(width=1200, height=800, title=title)\n",
    "    p.toolbar_location = \"above\"\n",
    "    p.yaxis.axis_label = \"States visited\"\n",
    "    p.xaxis.axis_label = \"T\"\n",
    "    p.xaxis.formatter = BasicTickFormatter(use_scientific=False)\n",
    "#     p = figure(width=800, height=500)\n",
    "    lines = []\n",
    "    alpha_lines = []\n",
    "    if isinstance(directories, str):\n",
    "        dd = directories\n",
    "        directories = [dd for _ in names]\n",
    "    for name, color, t_max, legend, directory in zip(names, colors, t_maxs, legends, directories):\n",
    "#         print(directory)\n",
    "        States_Path = directory + \"*\" + name + \"*/logs/Player_Positions.txt\"\n",
    "        States = []\n",
    "        for filename in glob.glob(States_Path):\n",
    "            run_logs = []\n",
    "            with open(filename, \"r\") as f:\n",
    "#                 print(f)\n",
    "                for line in f:\n",
    "                    try:\n",
    "                        ep_r = str(line)\n",
    "#                         print(ep_r)\n",
    "                    except:\n",
    "                        print(\"Nothing here for:\", filename)\n",
    "                        continue\n",
    "                    run_logs.append(ep_r)\n",
    "            States.append(run_logs)\n",
    "        States_Visited = []\n",
    "        for run in States:\n",
    "            Visited = []\n",
    "            States_Sets = set()\n",
    "#             print(len(run))\n",
    "            for ii, s in enumerate(run):\n",
    "                if ii >= t_max - 1:\n",
    "                    break\n",
    "#                 print(s)\n",
    "                States_Sets.add(s)\n",
    "                if ii % step == 0:\n",
    "                    Visited.append(len(States_Sets))\n",
    "#             print(len(States_Sets))\n",
    "#             print(len(Visited))\n",
    "            States_Visited.append(Visited)\n",
    "#         print(np.array(States_Visited).shape)\n",
    "        Means = np.mean(States_Visited, axis=0)\n",
    "        Stds = np.std(States_Visited, axis=0)\n",
    "#         print(Means.shape)\n",
    "        \n",
    "#         plt.fill_between([i for i in range(0, t_max, step)], DQN_Means - DQN_Stds, DQN_Means + DQN_Stds, color=color, alpha=0.2, edgecolor=\"white\")\n",
    "        # Error bars\n",
    "        xs = [i for i in range(0, t_max, step)]\n",
    "        xs = xs + list(reversed(xs))\n",
    "#         ys = np.concatenate([Means - Stds, np.flip(Means + Stds, axis=0)])\n",
    "        ys = np.concatenate([np.min(States_Visited, axis=0), np.flip(np.max(States_Visited, axis=0), axis=0)])\n",
    "        lls = p.patch(xs, ys, color=color, alpha=0.1)\n",
    "\n",
    "        \n",
    "#         for x, y, yerr in zip(range(0, t_max, step), DQN_Means, DQN_Stds):\n",
    "#             lls = p.line([x, x], [y - yerr, y + yerr], color=color, alpha=0.1, hover_alpha=0.8)\n",
    "#             alpha_lines.append(lls)\n",
    "            \n",
    "\n",
    "#         plt.plot([i for i in range(0, t_max, step)], DQN_Means, color=color)\n",
    "        l = p.line([i for i in range(0, t_max, step)], Means, color=color, line_width=2)\n",
    "        lines.append(l)\n",
    "#         alpha_lines.append(lls)\n",
    "\n",
    "#     plt.title(\"Episode_Reward\")\n",
    "#     plt.xlabel(\"T\")\n",
    "#     plt.ylabel(\"Reward\")\n",
    "#     if legends is not None:\n",
    "#         plt.legend(legends)\n",
    "#     plt.show()\n",
    "#     p.line([0,1], [-1,3])\n",
    "    new_leg = Legend(items=[(name, [line]) for name, line in zip(legends, lines)], location=(0,-30))\n",
    "    p.add_layout(new_leg, \"right\")\n",
    "#     p.add_tools(HoverTool(renderers=alpha_lines))\n",
    "#     p.add_tools(TapTool(renderers=alpha_lines))\n",
    "    show(p)"
   ]
  },
  {
   "cell_type": "code",
   "execution_count": null,
   "metadata": {
    "collapsed": true,
    "deletable": true,
    "editable": true
   },
   "outputs": [],
   "source": []
  },
  {
   "cell_type": "code",
   "execution_count": 12,
   "metadata": {
    "collapsed": false,
    "deletable": true,
    "editable": true
   },
   "outputs": [
    {
     "name": "stdout",
     "output_type": "stream",
     "text": [
      "['_10_Step_*DQN_', '_10_Step_*k_Count_', '_10_Step_*_CountEps_']\n",
      "[300001, 300001, 300001]\n"
     ]
    }
   ],
   "source": [
    "names = []\n",
    "legends = []\n",
    "t_maxs = []\n",
    "directories = []\n",
    "\n",
    "            \n",
    "# Frontier stuff\n",
    "for step in [10]:\n",
    "    # DQN\n",
    "    names += [\"_{}_Step_*DQN_\".format(step)]\n",
    "    legends += [\"{}_Step_DQN\".format(step)]\n",
    "    t_maxs += [300001]\n",
    "#     continue\n",
    "    # PseudoCount\n",
    "    names += [\"_{}_Step_*k_Count_\".format(step)]\n",
    "    legends += [\"{}_Step_Count\".format(step)]\n",
    "    t_maxs += [300001]\n",
    "#     continue\n",
    "    # EpsilonScaling\n",
    "    names += [\"_{}_Step_*_CountEps_\".format(step)]\n",
    "    legends += [\"{}_Step_Epsilon_Scaling\".format(step)]\n",
    "    t_maxs += [300001]\n",
    "            \n",
    "    \n",
    "direc = \"/home/tabz/tmp/logfiles/MedMaze10/MedMaze10\"\n",
    "# directories =  [\"{}/{}\".format(dropbox_direc, \"Maze_5_Logs/\")] + 3 * [\"{}/{}\".format(dropbox_direc, \"Maze_5_Batch_Sizes_Logs/\")] \n",
    "directories += [direc + \"/EpsilonLogs/\"] * 3\n",
    "    \n",
    "print(names)\n",
    "print(t_maxs)\n",
    "# colours = [\"red\", \"#3366ff\", \"#66ff33\", \"yellow\"]\n",
    "# colours = rainbow(np.linspace(0, 1, len(names)))"
   ]
  },
  {
   "cell_type": "code",
   "execution_count": 13,
   "metadata": {
    "collapsed": false,
    "deletable": true,
    "editable": true
   },
   "outputs": [
    {
     "name": "stdout",
     "output_type": "stream",
     "text": [
      "['_100_Step*k_Count_', '_100_Step*OptimisticAction', '_100_Step*_CountEps_']\n",
      "[300001, 300001, 300001]\n",
      "/home/scratch/tabhid/Log_Files/Gamma_Logs//\n"
     ]
    }
   ],
   "source": [
    "names = []\n",
    "legends = []\n",
    "t_maxs = []\n",
    "\n",
    "            \n",
    "# Frontier bandit stuff\n",
    "\n",
    "for n in [100]:\n",
    "    \n",
    "    # Count\n",
    "    names += [\"_{}_Step*k_Count_\".format(n)]\n",
    "    legends += [\"{}_Step_Count\".format(n)]\n",
    "    t_maxs += [300001]\n",
    "#     continue\n",
    "    # Optimistic\n",
    "    names += [\"_{}_Step*OptimisticAction\".format(n)]\n",
    "    legends += [\"{}_Step_OptimisticAction\".format(n)]\n",
    "    t_maxs += [300001]\n",
    "#     continue\n",
    "    # Epsilon Scaling\n",
    "    names += [\"_{}_Step*_CountEps_\".format(n)]\n",
    "    legends += [\"{}_Step_EpsilonScaling\".format(n)]\n",
    "    t_maxs += [300001]\n",
    "            \n",
    "    \n",
    "direc = \"/home/scratch/tabhid/Log_Files/Gamma_Logs//\"\n",
    "# directories =  [\"{}/{}\".format(dropbox_direc, \"Maze_5_Logs/\")] + 3 * [\"{}/{}\".format(dropbox_direc, \"Maze_5_Batch_Sizes_Logs/\")] \n",
    "# directories += [direc + \"/BanditLogs/\"] * 3\n",
    "directories = direc\n",
    "    \n",
    "print(names)\n",
    "print(t_maxs)\n",
    "print(directories)\n",
    "# colours = [\"red\", \"#3366ff\", \"#66ff33\", \"yellow\"]\n",
    "# colours = rainbow(np.linspace(0, 1, len(names)))"
   ]
  },
  {
   "cell_type": "code",
   "execution_count": 14,
   "metadata": {
    "collapsed": false,
    "deletable": true,
    "editable": true
   },
   "outputs": [
    {
     "name": "stdout",
     "output_type": "stream",
     "text": [
      "['_0.9_Decay*_Eps_0.1_', '_0.99_Decay*_Eps_0.1_', '_0.9999_Decay*_Eps_0.1_', '_0.9_Decay*_Eps_1_', '_0.99_Decay*_Eps_1_', '_0.9999_Decay*_Eps_1_']\n",
      "[300001, 300001, 300001, 300001, 300001, 300001]\n",
      "/home/tabz/tmp/Epsilon_Decay_Logs/\n"
     ]
    }
   ],
   "source": [
    "names = []\n",
    "legends = []\n",
    "t_maxs = []\n",
    "\n",
    "            \n",
    "# Epsilon Decay Scaling\n",
    "for eps in [0.1, 1]:\n",
    "    for decay in [0.9, 0.99, 0.9999]:\n",
    "    \n",
    "        names += [\"_{}_Decay*_Eps_{}_\".format(decay, eps)]\n",
    "        legends += [\"{}_Decay_EpsilonScaling_{}_Start\".format(decay, eps)]\n",
    "        t_maxs += [300001]\n",
    "            \n",
    "    \n",
    "# direc = \"/home/scratch/tabhid/Log_Files/Epsilon_Decay_Logs/\"\n",
    "direc = \"/home/tabz/tmp/Epsilon_Decay_Logs/\"\n",
    "# directories =  [\"{}/{}\".format(dropbox_direc, \"Maze_5_Logs/\")] + 3 * [\"{}/{}\".format(dropbox_direc, \"Maze_5_Batch_Sizes_Logs/\")] \n",
    "# directories += [direc + \"/BanditLogs/\"] * 3\n",
    "directories = direc\n",
    "    \n",
    "print(names)\n",
    "print(t_maxs)\n",
    "print(directories)"
   ]
  },
  {
   "cell_type": "code",
   "execution_count": 15,
   "metadata": {
    "collapsed": false,
    "deletable": true,
    "editable": true
   },
   "outputs": [
    {
     "name": "stdout",
     "output_type": "stream",
     "text": [
      "['_NegativeReward_0.5_', '_NegativeReward_0.7_', '_NegativeReward_0.9_']\n",
      "[300001, 300001, 300001]\n",
      "/home/tabz/tmp/Big_Negative_Reward_Logs/\n"
     ]
    }
   ],
   "source": [
    "names = []\n",
    "legends = []\n",
    "t_maxs = []\n",
    "\n",
    "            \n",
    "# Negative reward threshold\n",
    "for ns in [0.5, 0.7,  0.9]:\n",
    "    names += [\"_NegativeReward_{}_\".format(ns)]\n",
    "    legends += [\"NegativeReward_{}_Threshold\".format(ns)]\n",
    "    t_maxs += [300001]\n",
    "            \n",
    "    \n",
    "# direc = \"/home/scratch/tabhid/Log_Files/Epsilon_Decay_Logs/\"\n",
    "direc = \"/home/tabz/tmp/Big_Negative_Reward_Logs/\"\n",
    "# directories =  [\"{}/{}\".format(dropbox_direc, \"Maze_5_Logs/\")] + 3 * [\"{}/{}\".format(dropbox_direc, \"Maze_5_Batch_Sizes_Logs/\")] \n",
    "# directories += [direc + \"/BanditLogs/\"] * 3\n",
    "directories = direc\n",
    "    \n",
    "print(names)\n",
    "print(t_maxs)\n",
    "print(directories)"
   ]
  },
  {
   "cell_type": "code",
   "execution_count": 16,
   "metadata": {
    "collapsed": false,
    "deletable": true,
    "editable": true
   },
   "outputs": [
    {
     "name": "stdout",
     "output_type": "stream",
     "text": [
      "['k_OptimisticAction_0.0001_Scaler', 'k_OptimisticAction_0.0005_Scaler', 'k_OptimisticAction_0.001_Scaler', 'k_OptimisticAction_0.005_Scaler']\n",
      "[300001, 300001, 300001, 300001]\n",
      "/home/scratch/tabhid/Log_Files/Bandit_Small_Tau_Logs/\n"
     ]
    }
   ],
   "source": [
    "names = []\n",
    "legends = []\n",
    "t_maxs = []\n",
    "\n",
    "            \n",
    "# Bandit Tau\n",
    "for tau in [0.0001, 0.0005, 0.001, 0.005]:\n",
    "    for negative_reward in [False]:\n",
    "        if negative_reward:\n",
    "            names += [\"NegativeReward_*_OptimisticAction_{}_Scaler\".format(tau)]\n",
    "            legends += [\"Optim Bandit {} Tau Neg Reward\".format(tau)]\n",
    "        else:\n",
    "            names += [\"k_OptimisticAction_{}_Scaler\".format(tau)]\n",
    "            legends += [\"Optim Bandit {} Tau\".format(tau)]\n",
    "        t_maxs += [300001]\n",
    "            \n",
    "    \n",
    "direc = \"/home/scratch/tabhid/Log_Files/Bandit_Small_Tau_Logs/\"\n",
    "# direc = \"/home/tabz/tmp/Bandit_Tau_Logs/\"\n",
    "# directories =  [\"{}/{}\".format(dropbox_direc, \"Maze_5_Logs/\")] + 3 * [\"{}/{}\".format(dropbox_direc, \"Maze_5_Batch_Sizes_Logs/\")] \n",
    "# directories += [direc + \"/BanditLogs/\"] * 3\n",
    "directories = direc\n",
    "    \n",
    "print(names)\n",
    "print(t_maxs)\n",
    "print(directories)"
   ]
  },
  {
   "cell_type": "code",
   "execution_count": 17,
   "metadata": {
    "collapsed": false,
    "deletable": true,
    "editable": true
   },
   "outputs": [
    {
     "name": "stdout",
     "output_type": "stream",
     "text": [
      "['Batch_64_XpSize_600k', 'Batch_128_XpSize_600k', 'Batch_256_XpSize_600k']\n",
      "[600001, 600001, 600001]\n",
      "/home/tabz/tmp/logfiles/MedMaze10/Batch_Size_Logs/\n"
     ]
    }
   ],
   "source": [
    "names = []\n",
    "legends = []\n",
    "t_maxs = []\n",
    "\n",
    "            \n",
    "# Batch Size\n",
    "for xp in [600]:\n",
    "    for bs in [64, 128, 256]:\n",
    "        names += [\"Batch_{}_XpSize_{}k\".format(bs, xp)]\n",
    "        legends += [\"Batch {} Xp {}k\".format(bs, xp)]\n",
    "        t_maxs += [600001]\n",
    "            \n",
    "    \n",
    "# direc = \"/home/scratch/tabhid/Log_Files/Xp_Logs/\"\n",
    "direc = \"/home/tabz/tmp/logfiles/MedMaze10/Batch_Size_Logs/\"\n",
    "# directories =  [\"{}/{}\".format(dropbox_direc, \"Maze_5_Logs/\")] + 3 * [\"{}/{}\".format(dropbox_direc, \"Maze_5_Batch_Sizes_Logs/\")] \n",
    "# directories += [direc + \"/BanditLogs/\"] * 3\n",
    "directories = direc\n",
    "    \n",
    "print(names)\n",
    "print(t_maxs)\n",
    "print(directories)"
   ]
  },
  {
   "cell_type": "code",
   "execution_count": 18,
   "metadata": {
    "collapsed": false,
    "deletable": true,
    "editable": true
   },
   "outputs": [
    {
     "name": "stdout",
     "output_type": "stream",
     "text": [
      "['ETrace_0.7_6_States', 'ETrace_0.9_6_States', 'ETrace_1_6_States']\n",
      "[600001, 600001, 600001]\n",
      "/home/tabz/tmp/logfiles/MedMaze10/Elig_3_Logs/\n"
     ]
    }
   ],
   "source": [
    "names = []\n",
    "legends = []\n",
    "t_maxs = []\n",
    "\n",
    "            \n",
    "# Elig States\n",
    "for lamb in [0.7, 0.9, 1]:\n",
    "    for states in [6]:\n",
    "        names += [\"ETrace_{}_{}_States\".format(lamb, states)]\n",
    "        legends += [\"Traces {} Lambda {} States 3 Gap\".format(lamb, states)]\n",
    "        t_maxs += [600001]\n",
    "            \n",
    "    \n",
    "# direc = \"/home/scratch/tabhid/Log_Files/Xp_Logs/\"\n",
    "direc = \"/home/tabz/tmp/logfiles/MedMaze10/Elig_3_Logs/\"\n",
    "# directories =  [\"{}/{}\".format(dropbox_direc, \"Maze_5_Logs/\")] + 3 * [\"{}/{}\".format(dropbox_direc, \"Maze_5_Batch_Sizes_Logs/\")] \n",
    "# directories += [direc + \"/BanditLogs/\"] * 3\n",
    "directories = direc\n",
    "    \n",
    "print(names)\n",
    "print(t_maxs)\n",
    "print(directories)"
   ]
  },
  {
   "cell_type": "code",
   "execution_count": 19,
   "metadata": {
    "collapsed": false,
    "deletable": true,
    "editable": true
   },
   "outputs": [
    {
     "name": "stdout",
     "output_type": "stream",
     "text": [
      "['Iters_1_', 'Iters_2_', 'Iters_4_', 'Iters_8_', 'Iters_16_']\n",
      "[600001, 600001, 600001, 600001, 600001]\n",
      "/home/tabz/tmp/logfiles/MedMaze10/Iters_Logs/\n"
     ]
    }
   ],
   "source": [
    "names = []\n",
    "legends = []\n",
    "t_maxs = []\n",
    "\n",
    "            \n",
    "# Iterations\n",
    "for i in [1, 2, 4, 8, 16]:\n",
    "    names += [\"Iters_{}_\".format(i)]\n",
    "    legends += [\"{} Iterations\".format(i)]\n",
    "    t_maxs += [600001]\n",
    "            \n",
    "    \n",
    "# direc = \"/home/scratch/tabhid/Log_Files/Xp_Logs/\"\n",
    "direc = \"/home/tabz/tmp/logfiles/MedMaze10/Iters_Logs/\"\n",
    "# directories =  [\"{}/{}\".format(dropbox_direc, \"Maze_5_Logs/\")] + 3 * [\"{}/{}\".format(dropbox_direc, \"Maze_5_Batch_Sizes_Logs/\")] \n",
    "# directories += [direc + \"/BanditLogs/\"] * 3\n",
    "directories = direc\n",
    "    \n",
    "print(names)\n",
    "print(t_maxs)\n",
    "print(directories)"
   ]
  },
  {
   "cell_type": "code",
   "execution_count": 20,
   "metadata": {
    "collapsed": false,
    "deletable": true,
    "editable": true
   },
   "outputs": [
    {
     "name": "stdout",
     "output_type": "stream",
     "text": [
      "['k_CountEps_', 'Trajectory_0.2_', 'Trajectory_0.5_', 'Trajectory_0.75_', 'Trajectory_0.8_', 'Trajectory_0.9_']\n",
      "[600001, 600001, 600001, 600001, 600001, 600001]\n",
      "/home/tabz/tmp/logfiles/MedMaze10/Trajectory_Logs/\n"
     ]
    }
   ],
   "source": [
    "names = []\n",
    "legends = []\n",
    "t_maxs = []\n",
    "\n",
    "names += [\"k_CountEps_\"]\n",
    "legends += [\"No Trajectory\"]\n",
    "t_maxs += [600001]\n",
    "            \n",
    "# Trajectory\n",
    "for t in [0.2, 0.5, 0.75, 0.8, 0.9]:\n",
    "    names += [\"Trajectory_{}_\".format(t)]\n",
    "    legends += [\"Trajectory {} Save\".format(t)]\n",
    "    t_maxs += [600001]\n",
    "            \n",
    "    \n",
    "# direc = \"/home/scratch/tabhid/Log_Files/Xp_Logs/\"\n",
    "direc = \"/home/tabz/tmp/logfiles/MedMaze10/Trajectory_Logs/\"\n",
    "# directories =  [\"{}/{}\".format(dropbox_direc, \"Maze_5_Logs/\")] + 3 * [\"{}/{}\".format(dropbox_direc, \"Maze_5_Batch_Sizes_Logs/\")] \n",
    "# directories += [direc + \"/BanditLogs/\"] * 3\n",
    "directories = direc\n",
    "    \n",
    "print(names)\n",
    "print(t_maxs)\n",
    "print(directories)"
   ]
  },
  {
   "cell_type": "code",
   "execution_count": 21,
   "metadata": {
    "collapsed": false,
    "deletable": true,
    "editable": true
   },
   "outputs": [
    {
     "name": "stdout",
     "output_type": "stream",
     "text": [
      "['XpSize_30k*CountDecay_0.9999', 'XpSize_30k*CountDecay_0.999999', 'XpSize_30k*CountDecay_1', 'XpSize_60k*CountDecay_0.9999', 'XpSize_60k*CountDecay_0.999999', 'XpSize_60k*CountDecay_1', 'XpSize_100k*CountDecay_0.9999', 'XpSize_100k*CountDecay_0.999999', 'XpSize_100k*CountDecay_1']\n",
      "[600001, 600001, 600001, 600001, 600001, 600001, 600001, 600001, 600001]\n",
      "/home/tabz/tmp/logfiles/CountXpSort/\n"
     ]
    }
   ],
   "source": [
    "names = []\n",
    "legends = []\n",
    "t_maxs = []\n",
    "          \n",
    "# Count Xp Sort\n",
    "for xp in [30, 60, 100]:\n",
    "    for decay in [0.9999, 0.999999, 1]:\n",
    "        names += [\"XpSize_{}k*CountDecay_{}\".format(xp, decay)]\n",
    "        legends += [\"CountXp Sort {}k Xp {} CountDecay\".format(xp, decay)]\n",
    "        t_maxs += [600001]\n",
    "            \n",
    "    \n",
    "# direc = \"/home/scratch/tabhid/Log_Files/Xp_Logs/\"\n",
    "direc = \"/home/tabz/tmp/logfiles/CountXpSort/\"\n",
    "# directories =  [\"{}/{}\".format(dropbox_direc, \"Maze_5_Logs/\")] + 3 * [\"{}/{}\".format(dropbox_direc, \"Maze_5_Batch_Sizes_Logs/\")] \n",
    "# directories += [direc + \"/BanditLogs/\"] * 3\n",
    "directories = direc\n",
    "    \n",
    "print(names)\n",
    "print(t_maxs)\n",
    "print(directories)"
   ]
  },
  {
   "cell_type": "code",
   "execution_count": 22,
   "metadata": {
    "collapsed": false,
    "deletable": true,
    "editable": true
   },
   "outputs": [
    {
     "name": "stdout",
     "output_type": "stream",
     "text": [
      "['OptimisticAction_0.1', 'OptimisticAction_1', 'OptimisticAction_10', 'k_CountEps']\n",
      "[600001, 600001, 600001, 600001]\n",
      "/home/tabz/tmp/logfiles/MedMaze12/\n"
     ]
    }
   ],
   "source": [
    "names = []\n",
    "legends = []\n",
    "t_maxs = []\n",
    "          \n",
    "# MedMaze12\n",
    "\n",
    "#Bandits\n",
    "for os in [0.1, 1, 10]:\n",
    "    names += [\"OptimisticAction_{}\".format(os)]\n",
    "    legends += [\"Bandit {} Scaler\".format(os)]\n",
    "    t_maxs += [600001]\n",
    "    \n",
    "# #-ve reward\n",
    "# for nr in [0.5, 0.7]:\n",
    "#     names += [\"NegativeReward_{}\".format(nr)]\n",
    "#     legends += [\"Negative Reward {}\".format(nr)]\n",
    "#     t_maxs += [600001]\n",
    "    \n",
    "#CountXp\n",
    "names += [\"k_CountEps\"]\n",
    "legends += [\"Counts\"]\n",
    "t_maxs += [600001]\n",
    "            \n",
    "    \n",
    "# direc = \"/home/scratch/tabhid/Log_Files/Xp_Logs/\"\n",
    "direc = \"/home/tabz/tmp/logfiles/MedMaze12/\"\n",
    "# directories =  [\"{}/{}\".format(dropbox_direc, \"Maze_5_Logs/\")] + 3 * [\"{}/{}\".format(dropbox_direc, \"Maze_5_Batch_Sizes_Logs/\")] \n",
    "# directories += [direc + \"/BanditLogs/\"] * 3\n",
    "directories = direc\n",
    "    \n",
    "print(names)\n",
    "print(t_maxs)\n",
    "print(directories)"
   ]
  },
  {
   "cell_type": "code",
   "execution_count": 23,
   "metadata": {
    "collapsed": false,
    "deletable": true,
    "editable": true
   },
   "outputs": [
    {
     "name": "stdout",
     "output_type": "stream",
     "text": [
      "['k_CountEps*Stale_50k', 'Prioritized*Stale_50k', 'Prioritized_IS*Stale_50k', 'k_CountEps*Stale_300k', 'Prioritized*Stale_300k', 'Prioritized_IS*Stale_300k']\n",
      "[600001, 600001, 600001, 600001, 600001, 600001]\n",
      "/home/tabz/tmp/logfiles/Prioritized_Logs/\n"
     ]
    }
   ],
   "source": [
    "names = []\n",
    "legends = []\n",
    "t_maxs = []\n",
    "          \n",
    "# Prioritized replay stuff\n",
    "for fresh in [50, 300]:\n",
    "    for p in [None, \"P\", \"P_IS\"]:\n",
    "        if p is \"P\":\n",
    "            names += [\"Prioritized*Stale_{}k\".format(fresh)]\n",
    "            legends += [\"Prioritized {}k Fresh Counts\".format(fresh)]\n",
    "        elif p is \"P_IS\":\n",
    "            names += [\"Prioritized_IS*Stale_{}k\".format(fresh)]\n",
    "            legends += [\"Prioritized IS {}k Fresh Counts\".format(fresh)]\n",
    "        else:\n",
    "            names += [\"k_CountEps*Stale_{}k\".format(fresh)]\n",
    "            legends += [\"{}k Fresh Counts\".format(fresh)]\n",
    "        t_maxs += [600001]\n",
    "    \n",
    "direc = \"/home/tabz/tmp/logfiles/Prioritized_Logs/\"\n",
    "env = \"Med Maze 10\"\n",
    "directories = direc\n",
    "    \n",
    "print(names)\n",
    "print(t_maxs)\n",
    "print(directories)"
   ]
  },
  {
   "cell_type": "code",
   "execution_count": 24,
   "metadata": {
    "collapsed": false,
    "deletable": true,
    "editable": true
   },
   "outputs": [
    {
     "name": "stdout",
     "output_type": "stream",
     "text": [
      "['_0.1_Mix', '_0.3_Mix', '_0.5_Mix', '_0.7_Mix', '_0.9_Mix']\n",
      "[600001, 600001, 600001, 600001, 600001]\n",
      "/home/tabz/tmp/logfiles/Mixing_Logs/\n"
     ]
    }
   ],
   "source": [
    "names = []\n",
    "legends = []\n",
    "t_maxs = []\n",
    "          \n",
    "# Mixing\n",
    "for mix in [0.1, 0.3, 0.5, 0.7, 0.9]:\n",
    "    names += [\"_{}_Mix\".format(mix)]\n",
    "    legends += [\"{} Mixing\".format(mix)]\n",
    "    t_maxs += [600001]\n",
    "    \n",
    "direc = \"/home/tabz/tmp/logfiles/Mixing_Logs/\"\n",
    "directories = direc\n",
    "\n",
    "env =\"Med Maze 10\"\n",
    "    \n",
    "print(names)\n",
    "print(t_maxs)\n",
    "print(directories)"
   ]
  },
  {
   "cell_type": "code",
   "execution_count": 25,
   "metadata": {
    "collapsed": false,
    "deletable": true,
    "editable": true
   },
   "outputs": [
    {
     "name": "stdout",
     "output_type": "stream",
     "text": [
      "['OptimisticAction_0.1', 'OptimisticAction_0.01', 'OptimisticAction_0.001', 'CountEps_0.9999_', 'CountEps_0.999_', 'CountEps_0.99_', 'CountEps_0.9_']\n",
      "[600001, 600001, 600001, 600001, 600001, 600001, 600001]\n",
      "/home/tabz/tmp/logfiles/Frontier_Logs/\n"
     ]
    }
   ],
   "source": [
    "names = []\n",
    "legends = []\n",
    "t_maxs = []\n",
    "          \n",
    "# MedMaze12\n",
    "\n",
    "#Bandits\n",
    "for os in [0.1, 0.01, 0.001]:\n",
    "    names += [\"OptimisticAction_{}\".format(os)]\n",
    "    legends += [\"Bandit {} Scaler\".format(os)]\n",
    "    t_maxs += [600001]\n",
    "    \n",
    "#Epsilon decay\n",
    "for decay in [0.9999, 0.999, 0.99, 0.9]:\n",
    "    names += [\"CountEps_{}_\".format(decay)]\n",
    "    legends += [\"Epsilon Scaling {} Decay\".format(decay)]\n",
    "    t_maxs += [600001]\n",
    "            \n",
    "    \n",
    "direc = \"/home/tabz/tmp/logfiles/Frontier_Logs/\"\n",
    "directories = direc\n",
    "env = \"Med Maze 12\"\n",
    "    \n",
    "print(names)\n",
    "print(t_maxs)\n",
    "print(directories)"
   ]
  },
  {
   "cell_type": "code",
   "execution_count": 26,
   "metadata": {
    "collapsed": false,
    "deletable": true,
    "editable": true
   },
   "outputs": [
    {
     "name": "stdout",
     "output_type": "stream",
     "text": [
      "['NegativeReward_0.1', 'NegativeReward_0.2']\n",
      "[600001, 600001]\n",
      "/home/tabz/tmp/Neg/\n"
     ]
    }
   ],
   "source": [
    "names = []\n",
    "legends = []\n",
    "t_maxs = []\n",
    "          \n",
    "# MedMaze10 Set replay negative reward\n",
    "\n",
    "for neg_reward in [0.1, 0.2]:\n",
    "    names += [\"NegativeReward_{}\".format(neg_reward)]\n",
    "    legends += [\"Negative Reward {} Set Replay\".format(neg_reward)]\n",
    "    t_maxs += [600001]            \n",
    "    \n",
    "direc = \"/home/tabz/tmp/Neg/\"\n",
    "directories = direc\n",
    "env = \"Med Maze 10 Set Replay Negative Reward\"\n",
    "    \n",
    "print(names)\n",
    "print(t_maxs)\n",
    "print(directories)"
   ]
  },
  {
   "cell_type": "code",
   "execution_count": 27,
   "metadata": {
    "collapsed": false,
    "deletable": true,
    "editable": true
   },
   "outputs": [
    {
     "name": "stdout",
     "output_type": "stream",
     "text": [
      "['_10_Step*_SetReplay_5_', '_10_Step*_SetReplay_10_', '_10_Step*_SetReplay_100_', '_100_Step*_SetReplay_5_', '_100_Step*_SetReplay_10_', '_100_Step*_SetReplay_100_']\n",
      "[600001, 600001, 600001, 600001, 600001, 600001]\n",
      "/home/tabz/tmp/logfiles/SetReplayNum/\n"
     ]
    }
   ],
   "source": [
    "names = []\n",
    "legends = []\n",
    "t_maxs = []\n",
    "          \n",
    "# MedMaze10 Set replay \n",
    "\n",
    "for step in [10, 100]:\n",
    "    for replay_num in [5, 10, 100]:\n",
    "        names += [\"_{}_Step*_SetReplay_{}_\".format(step, replay_num)]\n",
    "        legends += [\"{} Step {} SetReplay\".format(step, replay_num)]\n",
    "        t_maxs += [600001]\n",
    "    \n",
    "direc = \"/home/tabz/tmp/logfiles/SetReplayNum/\"\n",
    "directories = direc\n",
    "env = \"Med Maze 10 Set Replay Num\"\n",
    "    \n",
    "print(names)\n",
    "print(t_maxs)\n",
    "print(directories)"
   ]
  },
  {
   "cell_type": "code",
   "execution_count": 28,
   "metadata": {
    "collapsed": false,
    "deletable": true,
    "editable": true
   },
   "outputs": [
    {
     "name": "stdout",
     "output_type": "stream",
     "text": [
      "['k_BonusClip*Stale_50k', 'Prioritized*Stale_50k', 'Prioritized_OnBonus_IS*Stale_50k', 'k_BonusClip*Stale_300k', 'Prioritized*Stale_300k', 'Prioritized_OnBonus_IS*Stale_300k']\n",
      "[800001, 800001, 800001, 800001, 800001, 800001]\n",
      "/home/tabz/tmp/logfiles/Density/\n"
     ]
    }
   ],
   "source": [
    "names = []\n",
    "legends = []\n",
    "t_maxs = []\n",
    "          \n",
    "# Prioritized replay stuff\n",
    "for fresh in [50, 300]:\n",
    "        names += [\"k_BonusClip*Stale_{}k\".format(fresh)]\n",
    "        legends += [\"Uniform {}k Fresh Counts\".format(fresh)]\n",
    "        t_maxs += [800001]\n",
    "        \n",
    "        names += [\"Prioritized*Stale_{}k\".format(fresh)]\n",
    "        legends += [\"Prioritized {}k Fresh Counts\".format(fresh)]\n",
    "        t_maxs += [800001]\n",
    "\n",
    "        names += [\"Prioritized_OnBonus_IS*Stale_{}k\".format(fresh)]\n",
    "        legends += [\"Prioritized IS {}k Fresh Counts\".format(fresh)]\n",
    "        t_maxs += [800001]\n",
    "    \n",
    "direc = \"/home/tabz/tmp/logfiles/Density/\"\n",
    "env = \"Med Maze 10 Prioritized On Density\"\n",
    "directories = direc\n",
    "    \n",
    "print(names)\n",
    "print(t_maxs)\n",
    "print(directories)"
   ]
  },
  {
   "cell_type": "code",
   "execution_count": 29,
   "metadata": {
    "collapsed": false,
    "deletable": true,
    "editable": true
   },
   "outputs": [
    {
     "name": "stdout",
     "output_type": "stream",
     "text": [
      "['k_BonusClip', 'Prioritized_IS', 'Prioritized_MinusPseudo']\n",
      "[800001, 800001, 800001]\n",
      "/home/tabz/tmp/logfiles/MinusPseudo/\n"
     ]
    }
   ],
   "source": [
    "names = []\n",
    "legends = []\n",
    "t_maxs = []\n",
    "          \n",
    "# Prioritized replay stuff musing pseudo rewards\n",
    "\n",
    "names += [\"k_BonusClip\"]\n",
    "legends += [\"Uniform\"]\n",
    "\n",
    "names += [\"Prioritized_IS\"]\n",
    "legends += [\"Prioritised minus pseudo rewards IS\"]\n",
    "\n",
    "names += [\"Prioritized_MinusPseudo\"]\n",
    "legends += [\"Prioritized minus pseudo rewards\"]\n",
    "\n",
    "t_maxs += [800001 for _ in range(3)]\n",
    "    \n",
    "direc = \"/home/tabz/tmp/logfiles/MinusPseudo/\"\n",
    "env = \"Med Maze 10 Prioritized Minus PseudoReward\"\n",
    "directories = direc\n",
    "    \n",
    "print(names)\n",
    "print(t_maxs)\n",
    "print(directories)"
   ]
  },
  {
   "cell_type": "code",
   "execution_count": 30,
   "metadata": {
    "collapsed": false,
    "deletable": true,
    "editable": true
   },
   "outputs": [
    {
     "name": "stdout",
     "output_type": "stream",
     "text": [
      "['Prioritized_-1_MinusPseudo_*Stale_50k', 'Prioritized_1_MinusPseudo_*Stale_50k', 'Prioritized_-1_MinusPseudo_*Stale_300k', 'Prioritized_1_MinusPseudo_*Stale_300k']\n",
      "[800001, 800001, 800001, 800001]\n",
      "/home/tabz/tmp/FixedP/\n"
     ]
    }
   ],
   "source": [
    "names = []\n",
    "legends = []\n",
    "t_maxs = []\n",
    "          \n",
    "# Prioritized replay stuff\n",
    "for fresh in [50, 300]:\n",
    "    for scaler in [-1, 1]:\n",
    "        \n",
    "        names += [\"Prioritized_{}_MinusPseudo_*Stale_{}k\".format(scaler, fresh)]\n",
    "        legends += [\"{} Prioritized {}k Fresh Counts\".format(scaler, fresh)]\n",
    "        t_maxs += [800001]\n",
    "\n",
    "#         names += [\"Prioritized_IS_{}_MinusPseudo_*Stale_{}k\".format(scaler, fresh)]\n",
    "#         legends += [\"{} Prioritized IS {}k Fresh Counts\".format(scaler, fresh)]\n",
    "#         t_maxs += [800001]\n",
    "    \n",
    "direc = \"/home/tabz/tmp/FixedP/\"\n",
    "env = \"Med Maze 10 Prioritized On TD Error Minus Scaled PseudoReward\"\n",
    "directories = direc\n",
    "    \n",
    "print(names)\n",
    "print(t_maxs)\n",
    "print(directories)"
   ]
  },
  {
   "cell_type": "code",
   "execution_count": 31,
   "metadata": {
    "collapsed": false,
    "deletable": true,
    "editable": true
   },
   "outputs": [
    {
     "name": "stdout",
     "output_type": "stream",
     "text": [
      "['XpSize_100k_BonusClip', 'XpSize_100k_Prioritized_Bonus', 'XpSize_100k_Prioritized_IS', 'XpSize_500k_BonusClip', 'XpSize_500k_Prioritized_Bonus', 'XpSize_500k_Prioritized_IS']\n",
      "[1000001, 1000001, 1000001, 1000001, 1000001, 1000001]\n",
      "/home/tabz/tmp/Maze12Baselines/\n"
     ]
    }
   ],
   "source": [
    "names = []\n",
    "legends = []\n",
    "t_maxs = []\n",
    "          \n",
    "# Prioritized replay stuff\n",
    "for xp in [100, 500]:\n",
    "        names += [\"XpSize_{}k_BonusClip\".format(xp)]\n",
    "        legends += [\"Uniform {}k XP\".format(xp)]\n",
    "        t_maxs += [1000001]\n",
    "        \n",
    "        names += [\"XpSize_{}k_Prioritized_Bonus\".format(xp)]\n",
    "        legends += [\"Prioritized {}k XP\".format(xp)]\n",
    "        t_maxs += [1000001]\n",
    "\n",
    "        names += [\"XpSize_{}k_Prioritized_IS\".format(xp)]\n",
    "        legends += [\"Prioritized IS {}k XP\".format(xp)]\n",
    "        t_maxs += [1000001]\n",
    "    \n",
    "direc = \"/home/tabz/tmp/Maze12Baselines/\"\n",
    "env = \"Med Maze 12\"\n",
    "directories = direc\n",
    "    \n",
    "print(names)\n",
    "print(t_maxs)\n",
    "print(directories)"
   ]
  },
  {
   "cell_type": "code",
   "execution_count": 32,
   "metadata": {
    "collapsed": false,
    "deletable": true,
    "editable": true
   },
   "outputs": [
    {
     "name": "stdout",
     "output_type": "stream",
     "text": [
      "['XpSize_100k_Prioritized_0_NScaler_', 'XpSize_100k_Prioritized_1.5_NScaler_', 'XpSize_100k_Prioritized_-1.5_NScaler_', 'XpSize_500k_Prioritized_0_NScaler_', 'XpSize_500k_Prioritized_1.5_NScaler_', 'XpSize_500k_Prioritized_-1.5_NScaler_']\n",
      "[1000001, 1000001, 1000001, 1000001, 1000001, 1000001]\n",
      "/home/tabz/tmp/Maze12Prioritized/\n"
     ]
    }
   ],
   "source": [
    "names = []\n",
    "legends = []\n",
    "t_maxs = []\n",
    "          \n",
    "# Prioritized replay stuff\n",
    "for xp in [100, 500]:\n",
    "    for nscaler in [0, 1.5, -1.5]:\n",
    "        names += [\"XpSize_{}k_Prioritized_{}_NScaler_\".format(xp, nscaler)]\n",
    "        legends += [\"Prioritized {}k XP {} NScaler\".format(xp, nscaler)]\n",
    "        t_maxs += [1000001]\n",
    "    \n",
    "direc = \"/home/tabz/tmp/Maze12Prioritized/\"\n",
    "env = \"Med Maze 12 50k Fresh Counts Negative TD Error Scaling\"\n",
    "directories = direc\n",
    "    \n",
    "print(names)\n",
    "print(t_maxs)\n",
    "print(directories)"
   ]
  },
  {
   "cell_type": "code",
   "execution_count": 33,
   "metadata": {
    "collapsed": false
   },
   "outputs": [
    {
     "name": "stdout",
     "output_type": "stream",
     "text": [
      "['DensityP_BonusClip', 'DensityP_IS_BonusClip']\n",
      "[800001, 800001]\n",
      "/home/scratch/tabhid/Log_Files/DensityP/\n"
     ]
    }
   ],
   "source": [
    "names = []\n",
    "legends = []\n",
    "t_maxs = []\n",
    "          \n",
    "# Density Prioritization\n",
    "names += [\"DensityP_BonusClip\"]\n",
    "legends += [\"DensityP\"]\n",
    "t_maxs += [800001]\n",
    "\n",
    "names += [\"DensityP_IS_BonusClip\"]\n",
    "legends += [\"DensityP IS\"]\n",
    "t_maxs += [800001]\n",
    "    \n",
    "direc = \"/home/scratch/tabhid/Log_Files/DensityP/\"\n",
    "env = \"Med Maze 10 50k Fresh Counts Density Prioritization\"\n",
    "directories = direc\n",
    "    \n",
    "print(names)\n",
    "print(t_maxs)\n",
    "print(directories)"
   ]
  },
  {
   "cell_type": "code",
   "execution_count": 34,
   "metadata": {
    "collapsed": false
   },
   "outputs": [
    {
     "name": "stdout",
     "output_type": "stream",
     "text": [
      "['_0.1_Alpha', '_0.3_Alpha', '_0.5_Alpha', '_0.7_Alpha', '_0.9_Alpha']\n",
      "[800001, 800001, 800001, 800001, 800001]\n",
      "/home/scratch/tabhid/Log_Files/Alpha/\n"
     ]
    }
   ],
   "source": [
    "names = []\n",
    "legends = []\n",
    "t_maxs = []\n",
    "          \n",
    "# Prioritized replay alpha\n",
    "for alpha in [0.1, 0.3, 0.5, 0.7, 0.9]:\n",
    "    names += [\"_{}_Alpha\".format(alpha)]\n",
    "    legends += [\"{} Alpha\".format(alpha)]\n",
    "    t_maxs += [800001]\n",
    "    \n",
    "direc = \"/home/scratch/tabhid/Log_Files/Alpha/\"\n",
    "env = \"Med Maze 10 50k Fresh Counts 1.5 NScaler Alpha\"\n",
    "directories = direc\n",
    "    \n",
    "print(names)\n",
    "print(t_maxs)\n",
    "print(directories)"
   ]
  },
  {
   "cell_type": "code",
   "execution_count": 37,
   "metadata": {
    "collapsed": false
   },
   "outputs": [
    {
     "name": "stdout",
     "output_type": "stream",
     "text": [
      "['XpSize_100k_*_0.5_NScaler_*Stale_50k_', 'XpSize_100k_*_0.5_NScaler_*Stale_500k_', 'XpSize_100k_*_2_NScaler_*Stale_50k_', 'XpSize_100k_*_2_NScaler_*Stale_500k_', 'XpSize_500k_*_0.5_NScaler_*Stale_50k_', 'XpSize_500k_*_0.5_NScaler_*Stale_500k_', 'XpSize_500k_*_2_NScaler_*Stale_50k_', 'XpSize_500k_*_2_NScaler_*Stale_500k_']\n",
      "[1000001, 1000001, 1000001, 1000001, 1000001, 1000001, 1000001, 1000001]\n",
      "/home/tabz/tmp/Maze12Alpha/\n",
      "\n",
      " 8 Lines\n"
     ]
    }
   ],
   "source": [
    "names = []\n",
    "legends = []\n",
    "t_maxs = []\n",
    "          \n",
    "# Prioritized replay stuff\n",
    "for xp in [100, 500]:\n",
    "    for nscaler in [0.5, 2]:\n",
    "        for fresh in [50, 500]:\n",
    "            names += [\"XpSize_{}k_*_{}_NScaler_*Stale_{}k_\".format(xp, nscaler, fresh)]\n",
    "            legends += [\"Prioritized {}k XP {} NScaler {}k Fresh\".format(xp, nscaler, fresh)]\n",
    "            t_maxs += [1000001]\n",
    "    \n",
    "direc = \"/home/tabz/tmp/Maze12Alpha/\"\n",
    "env = \"Med Maze 12 50k Negative TD Error Scaling Alpha 0.5\"\n",
    "directories = direc\n",
    "    \n",
    "print(names)\n",
    "print(t_maxs)\n",
    "print(directories)\n",
    "print(\"\\n\", \"{} Lines\".format(len(names)))"
   ]
  },
  {
   "cell_type": "code",
   "execution_count": 42,
   "metadata": {
    "collapsed": false
   },
   "outputs": [
    {
     "name": "stdout",
     "output_type": "stream",
     "text": [
      "['_0.3_Alpha*Stale_50k_', '_0.3_Alpha*Stale_500k_', '_0.5_Alpha*Stale_50k_', '_0.5_Alpha*Stale_500k_']\n",
      "[1000001, 1000001, 1000001, 1000001]\n",
      "/home/tabz/tmp/Maze12_Prioritized_Alpha//\n",
      "\n",
      " 4 Lines\n"
     ]
    }
   ],
   "source": [
    "names = []\n",
    "legends = []\n",
    "t_maxs = []\n",
    "          \n",
    "# Prioritized replay stuff\n",
    "for alpha in [0.3, 0.5]:\n",
    "    for fresh in [50, 500]:\n",
    "        names += [\"_{}_Alpha*Stale_{}k_\".format(alpha, fresh)]\n",
    "        legends += [\"Prioritized {} Alpha {}k Fresh\".format(alpha, fresh)]\n",
    "        t_maxs += [1000001]\n",
    "    \n",
    "direc = \"/home/tabz/tmp/Maze12_Prioritized_Alpha//\"\n",
    "env = \"Med Maze 12 Alpha 500k Replay\"\n",
    "directories = direc\n",
    "    \n",
    "print(names)\n",
    "print(t_maxs)\n",
    "print(directories)\n",
    "print(\"\\n\", \"{} Lines\".format(len(names)))"
   ]
  },
  {
   "cell_type": "code",
   "execution_count": 43,
   "metadata": {
    "collapsed": true,
    "deletable": true,
    "editable": true
   },
   "outputs": [],
   "source": [
    "import itertools"
   ]
  },
  {
   "cell_type": "code",
   "execution_count": 44,
   "metadata": {
    "collapsed": false,
    "deletable": true,
    "editable": true
   },
   "outputs": [],
   "source": [
    "from bokeh.palettes import magma, inferno, Set1, Set3, Paired, Dark2"
   ]
  },
  {
   "cell_type": "code",
   "execution_count": 45,
   "metadata": {
    "collapsed": false,
    "deletable": true,
    "editable": true
   },
   "outputs": [],
   "source": [
    "if len(names) <= 2:\n",
    "    colours = [\"red\", \"green\"]\n",
    "elif len(names) > 10:\n",
    "    colours = Paired[len(names)]\n",
    "else:\n",
    "    colours = Set1[len(names)]"
   ]
  },
  {
   "cell_type": "code",
   "execution_count": 46,
   "metadata": {
    "collapsed": false,
    "deletable": true,
    "editable": true
   },
   "outputs": [
    {
     "data": {
      "text/html": [
       "\n",
       "\n",
       "    <div class=\"bk-root\">\n",
       "        <div class=\"bk-plotdiv\" id=\"f5c56a81-30eb-4380-ade3-81f060040230\"></div>\n",
       "    </div>\n",
       "<script type=\"text/javascript\">\n",
       "  \n",
       "  (function(global) {\n",
       "    function now() {\n",
       "      return new Date();\n",
       "    }\n",
       "  \n",
       "    var force = false;\n",
       "  \n",
       "    if (typeof (window._bokeh_onload_callbacks) === \"undefined\" || force === true) {\n",
       "      window._bokeh_onload_callbacks = [];\n",
       "      window._bokeh_is_loading = undefined;\n",
       "    }\n",
       "  \n",
       "  \n",
       "    \n",
       "    if (typeof (window._bokeh_timeout) === \"undefined\" || force === true) {\n",
       "      window._bokeh_timeout = Date.now() + 0;\n",
       "      window._bokeh_failed_load = false;\n",
       "    }\n",
       "  \n",
       "    var NB_LOAD_WARNING = {'data': {'text/html':\n",
       "       \"<div style='background-color: #fdd'>\\n\"+\n",
       "       \"<p>\\n\"+\n",
       "       \"BokehJS does not appear to have successfully loaded. If loading BokehJS from CDN, this \\n\"+\n",
       "       \"may be due to a slow or bad network connection. Possible fixes:\\n\"+\n",
       "       \"</p>\\n\"+\n",
       "       \"<ul>\\n\"+\n",
       "       \"<li>re-rerun `output_notebook()` to attempt to load from CDN again, or</li>\\n\"+\n",
       "       \"<li>use INLINE resources instead, as so:</li>\\n\"+\n",
       "       \"</ul>\\n\"+\n",
       "       \"<code>\\n\"+\n",
       "       \"from bokeh.resources import INLINE\\n\"+\n",
       "       \"output_notebook(resources=INLINE)\\n\"+\n",
       "       \"</code>\\n\"+\n",
       "       \"</div>\"}};\n",
       "  \n",
       "    function display_loaded() {\n",
       "      if (window.Bokeh !== undefined) {\n",
       "        document.getElementById(\"f5c56a81-30eb-4380-ade3-81f060040230\").textContent = \"BokehJS successfully loaded.\";\n",
       "      } else if (Date.now() < window._bokeh_timeout) {\n",
       "        setTimeout(display_loaded, 100)\n",
       "      }\n",
       "    }\n",
       "  \n",
       "    function run_callbacks() {\n",
       "      window._bokeh_onload_callbacks.forEach(function(callback) { callback() });\n",
       "      delete window._bokeh_onload_callbacks\n",
       "      console.info(\"Bokeh: all callbacks have finished\");\n",
       "    }\n",
       "  \n",
       "    function load_libs(js_urls, callback) {\n",
       "      window._bokeh_onload_callbacks.push(callback);\n",
       "      if (window._bokeh_is_loading > 0) {\n",
       "        console.log(\"Bokeh: BokehJS is being loaded, scheduling callback at\", now());\n",
       "        return null;\n",
       "      }\n",
       "      if (js_urls == null || js_urls.length === 0) {\n",
       "        run_callbacks();\n",
       "        return null;\n",
       "      }\n",
       "      console.log(\"Bokeh: BokehJS not loaded, scheduling load and callback at\", now());\n",
       "      window._bokeh_is_loading = js_urls.length;\n",
       "      for (var i = 0; i < js_urls.length; i++) {\n",
       "        var url = js_urls[i];\n",
       "        var s = document.createElement('script');\n",
       "        s.src = url;\n",
       "        s.async = false;\n",
       "        s.onreadystatechange = s.onload = function() {\n",
       "          window._bokeh_is_loading--;\n",
       "          if (window._bokeh_is_loading === 0) {\n",
       "            console.log(\"Bokeh: all BokehJS libraries loaded\");\n",
       "            run_callbacks()\n",
       "          }\n",
       "        };\n",
       "        s.onerror = function() {\n",
       "          console.warn(\"failed to load library \" + url);\n",
       "        };\n",
       "        console.log(\"Bokeh: injecting script tag for BokehJS library: \", url);\n",
       "        document.getElementsByTagName(\"head\")[0].appendChild(s);\n",
       "      }\n",
       "    };var element = document.getElementById(\"f5c56a81-30eb-4380-ade3-81f060040230\");\n",
       "    if (element == null) {\n",
       "      console.log(\"Bokeh: ERROR: autoload.js configured with elementid 'f5c56a81-30eb-4380-ade3-81f060040230' but no matching script tag was found. \")\n",
       "      return false;\n",
       "    }\n",
       "  \n",
       "    var js_urls = [];\n",
       "  \n",
       "    var inline_js = [\n",
       "      function(Bokeh) {\n",
       "        (function() {\n",
       "          var fn = function() {\n",
       "            var docs_json = {\"b45f0927-3476-4a17-83de-f34617c367b7\":{\"roots\":{\"references\":[{\"attributes\":{\"line_alpha\":{\"value\":0.1},\"line_color\":{\"value\":\"#1f77b4\"},\"line_width\":{\"value\":2},\"x\":{\"field\":\"x\"},\"y\":{\"field\":\"y\"}},\"id\":\"5927133d-1859-479d-9531-35b1f865feec\",\"type\":\"Line\"},{\"attributes\":{\"label\":{\"value\":\"Prioritized 0.3 Alpha 500k Fresh\"},\"renderers\":[{\"id\":\"e11873fa-df37-4893-b95c-2079e14af506\",\"type\":\"GlyphRenderer\"}]},\"id\":\"182f1918-11b7-4c23-baee-8a97eed041ca\",\"type\":\"LegendItem\"},{\"attributes\":{\"line_alpha\":{\"value\":0.1},\"line_color\":{\"value\":\"#1f77b4\"},\"line_width\":{\"value\":2},\"x\":{\"field\":\"x\"},\"y\":{\"field\":\"y\"}},\"id\":\"fed9a320-e1bf-4dd1-86f5-d804bcdbdb21\",\"type\":\"Line\"},{\"attributes\":{\"label\":{\"value\":\"Prioritized 0.3 Alpha 50k Fresh\"},\"renderers\":[{\"id\":\"d79fffdb-bec4-4de7-b6fc-cfa9aa208f70\",\"type\":\"GlyphRenderer\"}]},\"id\":\"5564ef28-c90f-4a6c-9120-5c42531733ba\",\"type\":\"LegendItem\"},{\"attributes\":{\"label\":{\"value\":\"Prioritized 0.5 Alpha 50k Fresh\"},\"renderers\":[{\"id\":\"834cf85c-7ebc-4317-80c0-430c9e229114\",\"type\":\"GlyphRenderer\"}]},\"id\":\"b662202b-3a02-4f86-aa2f-5927675e5b68\",\"type\":\"LegendItem\"},{\"attributes\":{\"label\":{\"value\":\"Prioritized 0.5 Alpha 500k Fresh\"},\"renderers\":[{\"id\":\"db8d846b-5907-4d88-9710-df0e3fd0a42a\",\"type\":\"GlyphRenderer\"}]},\"id\":\"3c72f33f-2b58-4555-9ce7-3eb5ee8bae90\",\"type\":\"LegendItem\"},{\"attributes\":{\"below\":[{\"id\":\"b5e1e4ef-31a2-4138-9260-789d7baf3d58\",\"type\":\"LinearAxis\"}],\"left\":[{\"id\":\"a87c0e0c-467b-49ad-aed4-c9f65f179b24\",\"type\":\"LinearAxis\"}],\"plot_height\":800,\"plot_width\":1200,\"renderers\":[{\"id\":\"b5e1e4ef-31a2-4138-9260-789d7baf3d58\",\"type\":\"LinearAxis\"},{\"id\":\"0c365185-7c69-48ea-af05-5c183b540a83\",\"type\":\"Grid\"},{\"id\":\"a87c0e0c-467b-49ad-aed4-c9f65f179b24\",\"type\":\"LinearAxis\"},{\"id\":\"723e78bb-54b0-4cbb-8e4f-af587dfeff66\",\"type\":\"Grid\"},{\"id\":\"dc3e9429-b1b5-43cd-9bb8-4eda7e044bb7\",\"type\":\"BoxAnnotation\"},{\"id\":\"d79fffdb-bec4-4de7-b6fc-cfa9aa208f70\",\"type\":\"GlyphRenderer\"},{\"id\":\"e11873fa-df37-4893-b95c-2079e14af506\",\"type\":\"GlyphRenderer\"},{\"id\":\"834cf85c-7ebc-4317-80c0-430c9e229114\",\"type\":\"GlyphRenderer\"},{\"id\":\"db8d846b-5907-4d88-9710-df0e3fd0a42a\",\"type\":\"GlyphRenderer\"},{\"id\":\"ec0e1ae2-45c5-4c4e-8510-8148eca63cef\",\"type\":\"Legend\"}],\"right\":[{\"id\":\"ec0e1ae2-45c5-4c4e-8510-8148eca63cef\",\"type\":\"Legend\"}],\"title\":{\"id\":\"28dd2bbc-9218-4bd3-b219-09a5e92a81f9\",\"type\":\"Title\"},\"tool_events\":{\"id\":\"ce9b68c0-1f9e-416c-8e86-8c7fcafc768a\",\"type\":\"ToolEvents\"},\"toolbar\":{\"id\":\"c0cf07e7-d4df-4cb6-a591-e97921bf033c\",\"type\":\"Toolbar\"},\"toolbar_location\":\"above\",\"x_range\":{\"id\":\"fe27f63a-45ad-4235-808a-b4e47efff619\",\"type\":\"DataRange1d\"},\"y_range\":{\"id\":\"486fb878-c40e-4fa0-8047-c9aa89ab9ea0\",\"type\":\"Range1d\"}},\"id\":\"a0b18990-dfcc-4c1e-a283-f0efba9e1fd1\",\"subtype\":\"Figure\",\"type\":\"Plot\"},{\"attributes\":{\"plot\":null,\"text\":\"Med Maze 12 Alpha 500k Replay\"},\"id\":\"28dd2bbc-9218-4bd3-b219-09a5e92a81f9\",\"type\":\"Title\"},{\"attributes\":{\"callback\":null,\"column_names\":[\"x\",\"y\"],\"data\":{\"x\":[0,1000,2000,3000,4000,5000,6000,7000,8000,9000,10000,11000,12000,13000,14000,15000,16000,17000,18000,19000,20000,21000,22000,23000,24000,25000,26000,27000,28000,29000,30000,31000,32000,33000,34000,35000,36000,37000,38000,39000,40000,41000,42000,43000,44000,45000,46000,47000,48000,49000,50000,51000,52000,53000,54000,55000,56000,57000,58000,59000,60000,61000,62000,63000,64000,65000,66000,67000,68000,69000,70000,71000,72000,73000,74000,75000,76000,77000,78000,79000,80000,81000,82000,83000,84000,85000,86000,87000,88000,89000,90000,91000,92000,93000,94000,95000,96000,97000,98000,99000,100000,101000,102000,103000,104000,105000,106000,107000,108000,109000,110000,111000,112000,113000,114000,115000,116000,117000,118000,119000,120000,121000,122000,123000,124000,125000,126000,127000,128000,129000,130000,131000,132000,133000,134000,135000,136000,137000,138000,139000,140000,141000,142000,143000,144000,145000,146000,147000,148000,149000,150000,151000,152000,153000,154000,155000,156000,157000,158000,159000,160000,161000,162000,163000,164000,165000,166000,167000,168000,169000,170000,171000,172000,173000,174000,175000,176000,177000,178000,179000,180000,181000,182000,183000,184000,185000,186000,187000,188000,189000,190000,191000,192000,193000,194000,195000,196000,197000,198000,199000,200000,201000,202000,203000,204000,205000,206000,207000,208000,209000,210000,211000,212000,213000,214000,215000,216000,217000,218000,219000,220000,221000,222000,223000,224000,225000,226000,227000,228000,229000,230000,231000,232000,233000,234000,235000,236000,237000,238000,239000,240000,241000,242000,243000,244000,245000,246000,247000,248000,249000,250000,251000,252000,253000,254000,255000,256000,257000,258000,259000,260000,261000,262000,263000,264000,265000,266000,267000,268000,269000,270000,271000,272000,273000,274000,275000,276000,277000,278000,279000,280000,281000,282000,283000,284000,285000,286000,287000,288000,289000,290000,291000,292000,293000,294000,295000,296000,297000,298000,299000,300000,301000,302000,303000,304000,305000,306000,307000,308000,309000,310000,311000,312000,313000,314000,315000,316000,317000,318000,319000,320000,321000,322000,323000,324000,325000,326000,327000,328000,329000,330000,331000,332000,333000,334000,335000,336000,337000,338000,339000,340000,341000,342000,343000,344000,345000,346000,347000,348000,349000,350000,351000,352000,353000,354000,355000,356000,357000,358000,359000,360000,361000,362000,363000,364000,365000,366000,367000,368000,369000,370000,371000,372000,373000,374000,375000,376000,377000,378000,379000,380000,381000,382000,383000,384000,385000,386000,387000,388000,389000,390000,391000,392000,393000,394000,395000,396000,397000,398000,399000,400000,401000,402000,403000,404000,405000,406000,407000,408000,409000,410000,411000,412000,413000,414000,415000,416000,417000,418000,419000,420000,421000,422000,423000,424000,425000,426000,427000,428000,429000,430000,431000,432000,433000,434000,435000,436000,437000,438000,439000,440000,441000,442000,443000,444000,445000,446000,447000,448000,449000,450000,451000,452000,453000,454000,455000,456000,457000,458000,459000,460000,461000,462000,463000,464000,465000,466000,467000,468000,469000,470000,471000,472000,473000,474000,475000,476000,477000,478000,479000,480000,481000,482000,483000,484000,485000,486000,487000,488000,489000,490000,491000,492000,493000,494000,495000,496000,497000,498000,499000,500000,501000,502000,503000,504000,505000,506000,507000,508000,509000,510000,511000,512000,513000,514000,515000,516000,517000,518000,519000,520000,521000,522000,523000,524000,525000,526000,527000,528000,529000,530000,531000,532000,533000,534000,535000,536000,537000,538000,539000,540000,541000,542000,543000,544000,545000,546000,547000,548000,549000,550000,551000,552000,553000,554000,555000,556000,557000,558000,559000,560000,561000,562000,563000,564000,565000,566000,567000,568000,569000,570000,571000,572000,573000,574000,575000,576000,577000,578000,579000,580000,581000,582000,583000,584000,585000,586000,587000,588000,589000,590000,591000,592000,593000,594000,595000,596000,597000,598000,599000,600000,601000,602000,603000,604000,605000,606000,607000,608000,609000,610000,611000,612000,613000,614000,615000,616000,617000,618000,619000,620000,621000,622000,623000,624000,625000,626000,627000,628000,629000,630000,631000,632000,633000,634000,635000,636000,637000,638000,639000,640000,641000,642000,643000,644000,645000,646000,647000,648000,649000,650000,651000,652000,653000,654000,655000,656000,657000,658000,659000,660000,661000,662000,663000,664000,665000,666000,667000,668000,669000,670000,671000,672000,673000,674000,675000,676000,677000,678000,679000,680000,681000,682000,683000,684000,685000,686000,687000,688000,689000,690000,691000,692000,693000,694000,695000,696000,697000,698000,699000,700000,701000,702000,703000,704000,705000,706000,707000,708000,709000,710000,711000,712000,713000,714000,715000,716000,717000,718000,719000,720000,721000,722000,723000,724000,725000,726000,727000,728000,729000,730000,731000,732000,733000,734000,735000,736000,737000,738000,739000,740000,741000,742000,743000,744000,745000,746000,747000,748000,749000,750000,751000,752000,753000,754000,755000,756000,757000,758000,759000,760000,761000,762000,763000,764000,765000,766000,767000,768000,769000,770000,771000,772000,773000,774000,775000,776000,777000,778000,779000,780000,781000,782000,783000,784000,785000,786000,787000,788000,789000,790000,791000,792000,793000,794000,795000,796000,797000,798000,799000,800000,801000,802000,803000,804000,805000,806000,807000,808000,809000,810000,811000,812000,813000,814000,815000,816000,817000,818000,819000,820000,821000,822000,823000,824000,825000,826000,827000,828000,829000,830000,831000,832000,833000,834000,835000,836000,837000,838000,839000,840000,841000,842000,843000,844000,845000,846000,847000,848000,849000,850000,851000,852000,853000,854000,855000,856000,857000,858000,859000,860000,861000,862000,863000,864000,865000,866000,867000,868000,869000,870000,871000,872000,873000,874000,875000,876000,877000,878000,879000,880000,881000,882000,883000,884000,885000,886000,887000,888000,889000,890000,891000,892000,893000,894000,895000,896000,897000,898000,899000,900000,901000,902000,903000,904000,905000,906000,907000,908000,909000,910000,911000,912000,913000,914000,915000,916000,917000,918000,919000,920000,921000,922000,923000,924000,925000,926000,927000,928000,929000,930000,931000,932000,933000,934000,935000,936000,937000,938000,939000,940000,941000,942000,943000,944000,945000,946000,947000,948000,949000,950000,951000,952000,953000,954000,955000,956000,957000,958000,959000,960000,961000,962000,963000,964000,965000,966000,967000,968000,969000,970000,971000,972000,973000,974000,975000,976000,977000,978000,979000,980000,981000,982000,983000,984000,985000,986000,987000,988000,989000,990000,991000,992000,993000,994000,995000,996000,997000,998000,999000,1000000],\"y\":{\"__ndarray__\":\"AAAAAAAAAAAAAAAAAAAAAAAAAAAAAAAAAAAAAAAAAAAAAAAAAAAAAAAAAAAAAAAAAAAAAAAAAAAAAAAAAAAAAAAAAAAAAAAAAAAAAAAAAAAAAAAAAAAAAAAAAAAAAAAAAAAAAAAAAAAAAAAAAAAAAAAAAAAAAAAAAAAAAAAAAAAAAAAAAAAAAAAAAAAAAAAAAAAAAAAAAAAAAAAAAAAAAAAAAAAAAAAAAAAAAAAAAAAAAAAAAAAAAAAAAAAAAAAAAAAAAAAAAAAAAAAAAAAAAAAAAAAAAAAAAAAAAAAAAAAAAAAAAAAAAAAAAAAAAAAAAAAAAAAAAAAAAAAAAAAAAAAAAAAAAAAAAAAAAAAAAAAAAAAAAAAAAAAAAAAAAAAAAAAAAAAAAAAAAAAAAAAAAAAAAAAAAAAAAAAAAAAAAAAAAAAAAAAAAAAAAAAAAAAAAAAAAAAAAAAAAAAAAAAAAAAAAAAAAAAAAAAAAAAAAAAAAAAAAAAAAAAAAAAAAAAAAAAAAAAAAAAAAAAAAAAAAAAAAAAAAAAAAAAAAAAAAAAAAAAAAAAAAAAAAAAAAAAAAAAAAAAAAAAAAAAAAAAAAAAAAAAAAAAAAAAAAAAAAAAAAAAAAAAAAAAAAAAAAAAAAAAAAAAAAAAAAAAAAAAAAAAAAAAAAAAAAAAAAAAAAAAAAAAAAAAAAAAAAAAAAAAAAAAAAAAAAAAAAAAAAAAAAAAAAAAAAAAAAAAAAAAAAAAAAAAAAAAAAAAAAAAAAAAAAAAAAAAAAAAAAAAAAAAAAAAAAAAAAAAAAAAAAAAAAAAAAAAAAAAAAAAAAAAAAAAAAAAAAAAAAAAAAAAAAAAAAAAAAAAAAAAAAAAAAAAAAAAAAAAAAAAAAAAAAAAAAAAAAAAAAAAAAAAAAAAAAAAAAAAAAAAAAAAAAAAAAAAAAAAAAAAAAAAAAAAAAAAAAAAAAAAAAAAAAAAAAAAAAAAAAAAAAAAAAAAAAAAAAAAAAAAAAAAAAAAAAAAAAAAAAAAAAAAAAAAAAAAAAAAAAAAAAAAAAAAAAAAAAAAAAAAAAAAAAAAAAAAAAAAAAAAAAAAAAAAAAAAAAAAAAAAAAAAAAAAAAAAAAAAAAAAAAAAAAAAAAAAAAAAAAAAAAAAAAAAAAAAAAAAAAAAAAAAAAAAAAAAAAAAAAAAAAAAAAAAAAAAAAAAAAAAAAAAAAAAAAAAAAAAAAAAAAAAAAAAAAAAAAAAAAAAAAAAAAAAAAAAAAAAAAAAAAAAAAAAAAAAAAAAAAAAAAAAAAAAAAAAAAAAAAAAAAAAAAAAAAAAAAAAAAAAAAAAAAAAAAAAAAAAAAAAAAAAAAAAAAAAAAAAAAAAAAAAAAAAAAAAAAAAAAAAAAAAAAAAAAAAAAAAAAAAAAAAAAAAAAAAAAAAAAAAAAAAAAAAAAAAAAAAAAAAAAAAAAAAAAAAAAAAAAAAAAAAAAAAAAAAAAAAAAAAAAAAAAAAAAAAAAAAAAAAAAAAAAAAAAAAAAAAAAAAAAAAAAAAAAAAAAAAAAAAAAAAAAAAAAAAAAAAAAAAAAAAAAAAAAAAAAAAAAAAAAAAAAAAAAAAAAAAAAAAAAAAAAAAAAAAAAAAAAAAAAAAAAAAAAAAAAAAAAAAAAAAAAAAAAAAAAAAAAAAAAAAAAAAAAAAAAAAAAAAAAAAAAAAAAAAAAAAAAAAAAAAAAAAAAAAAAAAAAAAAAAAAAAAAAAAAAAAAAAAAAAAAAAAAAAAAAAAAAAAAAAAAAAAAAAAAAAAAAAAAAAAAAAAAAAAAAAAAAAAAAAAAAAAAAAAAAAAAAAAAAAAAAAAAAAAAAAAAAAAAAAAAAAAAAAAAAAAAAAAAAAAAAAAAAAAAAAAAAAAAAAAAAAAAAAAAAAAAAAAAAAAAAAAAAAAAAAAAAAAAAAAAAAAAAAAAAAAAAAAAAAAAAAAAAAAAAAAAAAAAAAAAAAAAAAAAAAAAAAAAAAAAAAAAAAAAAAAAAAAAAAAAAAAAAAAAAAAAAAAAAAAAAAAAAAAAAAAAAAAAAAAAAAAAAAAAAAAAAAAAAAAAAAAAAAAAAAAAAAAAAAAAAAAAAAAAAAAAAAAAAAAAAAAAAAAAAAAAAAAuO7WKhzyQPy47tYqHPKA/xdgPUMtaqD8uO7WKhzywP/qJYm2pS7Q/xdgPUMtauD+RJ70y7Wm8Py47tYqHPMA/lOILfBhEwj/6iWJtqUvEP2AxuV46U8Y/xdgPUMtayD8rgGZBXGLKP5EnvTLtacw/984TJH5xzj8AAAAAAADQPwAAAAAAANA/AAAAAAAA0D8AAAAAAADQPwAAAAAAANA/AAAAAAAA0D8AAAAAAADQPwAAAAAAANA/AAAAAAAA0D8AAAAAAADQPwAAAAAAANA/AAAAAAAA0D8AAAAAAADQP////////88/AAAAAAAA0D8AAAAAAADQPwAAAAAAANA/AAAAAAAA0D/////////PPwAAAAAAANA/AAAAAAAA0D/////////PPwAAAAAAANA/AAAAAAAA0D/////////PPwAAAAAAANA/////////zz8AAAAAAADQPwAAAAAAANA/AAAAAAAA0D8AAAAAAADQPwAAAAAAANA/AAAAAAAA0D8AAAAAAADQPwAAAAAAANA/AAAAAAAA0D8AAAAAAADQPwAAAAAAANA/AAAAAAAA0D8AAAAAAADQPwAAAAAAANA/AAAAAAAA0D8AAAAAAADQPwAAAAAAANA/AAAAAAAA0D8AAAAAAADQPwAAAAAAANA/AAAAAAAA0D8AAAAAAADQPwAAAAAAANA/////////zz8AAAAAAADQPwAAAAAAANA/////////zz8AAAAAAADQPwAAAAAAANA/AAAAAAAA0D8AAAAAAADQPwAAAAAAANA/AAAAAAAA0D8AAAAAAADQPwAAAAAAANA/AAAAAAAA0D8AAAAAAADQPwAAAAAAANA/////////zz8AAAAAAADQP////////88/////////zz8AAAAAAADQPwAAAAAAANA/AAAAAAAA0D8AAAAAAADQPwAAAAAAANA/AAAAAAAA0D8AAAAAAADQPwAAAAAAANA/AAAAAAAA0D8AAAAAAADQPwAAAAAAANA/AAAAAAAA0D8AAAAAAADQP////////88/////////zz/////////PPwAAAAAAANA/AAAAAAAA0D8AAAAAAADQPwAAAAAAANA/AAAAAAAA0D8AAAAAAADQPwAAAAAAANA/AAAAAAAA0D8AAAAAAADQPwAAAAAAANA/AQAAAAAA0D8AAAAAAADQPwAAAAAAANA/AAAAAAAA0D8AAAAAAADQPwAAAAAAANA/////////zz8AAAAAAADQPwAAAAAAANA/AAAAAAAA0D8AAAAAAADQP////////88/AAAAAAAA0D8AAAAAAADQPwAAAAAAANA/AAAAAAAA0D8AAAAAAADQPwAAAAAAANA/AAAAAAAA0D8AAAAAAADQPwAAAAAAANA/AAAAAAAA0D8AAAAAAADQP////////88/AAAAAAAA0D/////////PPwAAAAAAANA/AAAAAAAA0D8AAAAAAADQPwAAAAAAANA/AAAAAAAA0D8AAAAAAADQPwAAAAAAANA/AAAAAAAA0D8AAAAAAADQPwAAAAAAANA/AAAAAAAA0D8AAAAAAADQPwAAAAAAANA/////////zz/////////PPwAAAAAAANA/AAAAAAAA0D8AAAAAAADQP////////88/AAAAAAAA0D8AAAAAAADQPwAAAAAAANA/AAAAAAAA0D8AAAAAAADQPwAAAAAAANA/AAAAAAAA0D+JtHcwSUXRPxFp72CSitI/mh1nkdvP0z8i0t7BJBXVP6uGVvJtWtY/NDvOIref1z+870VTAOXYP0WkvYNJKto/zlg1tJJv2z9WDa3k27TcP9/BJBUl+t0/aHacRW4/3z8AAAAAAADgPwAAAAAAAOA/AAAAAAAA4D8AAAAAAADgPwAAAAAAAOA/AAAAAAAA4D8AAAAAAADgPwAAAAAAAOA/AAAAAAAA4D8AAAAAAADgPwAAAAAAAOA/AAAAAAAA4D8AAAAAAADgPwAAAAAAAOA/AAAAAAAA4D8AAAAAAADgPwAAAAAAAOA/AAAAAAAA4D8AAAAAAADgPwAAAAAAAOA/AAAAAAAA4D8AAAAAAADgPwAAAAAAAOA/AAAAAAAA4D8AAAAAAADgPwAAAAAAAOA/AAAAAAAA4D8AAAAAAADgPwAAAAAAAOA/AAAAAAAA4D8AAAAAAADgPwAAAAAAAOA/AAAAAAAA4D8AAAAAAADgPwAAAAAAAOA/AAAAAAAA4D8AAAAAAADgPwAAAAAAAOA/AAAAAAAA4D8AAAAAAADgPwAAAAAAAOA/AAAAAAAA4D9yWrN9onrgP+O0ZvtE9eA/VA8aeedv4T/Gac32ierhPzfEgHQsZeI/qB408s7f4j8aeedvcVrjP4vTmu0T1eM//S1Oa7ZP5D9uiAHpWMrkP+DitGb7ROU/UT1o5J2/5T/DlxtiQDrmPzTyzt/itOY/pkyCXYUv5z8XpzXbJ6rnP97d3d3d3ec/whZswRZs5z+lT/qkT/rmP4iIiIiIiOY/bMEWbMEW5j9Q+qRP+qTlPzMzMzMzM+U/F2zBFmzB5D/6pE/6pE/kP97d3d3d3eM/whZswRZs4z+lT/qkT/riP4iIiIiIiOI/bMEWbMEW4j9Q+qRP+qThPzMzMzMzM+E/F2zBFmzB4D/6pE/6pE/gPwAAAAAAAOA/AAAAAAAA4D8AAAAAAADgPwAAAAAAAOA/AAAAAAAA4D8AAAAAAADgPwAAAAAAAOA/AAAAAAAA4D8AAAAAAADgPwAAAAAAAOA/AAAAAAAA4D8AAAAAAADgPwAAAAAAAOA/AAAAAAAA4D8AAAAAAADgPwAAAAAAAOA/AAAAAAAA4D8AAAAAAADgPwAAAAAAAOA/AAAAAAAA4D8AAAAAAADgPwAAAAAAAOA/AAAAAAAA4D8AAAAAAADgPwAAAAAAAOA/AAAAAAAA4D8AAAAAAADgPwAAAAAAAOA/AAAAAAAA4D8AAAAAAADgPwAAAAAAAOA/AAAAAAAA4D8AAAAAAADgPwAAAAAAAOA/AAAAAAAA4D8AAAAAAADgP+k1i/PUL+A/SJSwdEXP4D+m8tX1tW7hPwRR+3YmDuI/Yq8g+Jat4j/ADUZ5B03jPx5sa/p37OM/fcqQe+iL5D/bKLb8WCvlPzqH233JyuU/mOUA/zlq5j/2QyaAqgnnP1SiSwEbqec/AAAAAAAA6D8AAAAAAADoPwAAAAAAAOg/AAAAAAAA6D8AAAAAAADoPwAAAAAAAOg/AAAAAAAA6D8AAAAAAADoPwAAAAAAAOg/AAAAAAAA6D8AAAAAAADoPwAAAAAAAOg/AAAAAAAA6D8AAAAAAADoPwAAAAAAAOg/AAAAAAAA6D8AAAAAAADoPwAAAAAAAOg/AAAAAAAA6D8AAAAAAADoPwAAAAAAAOg/AAAAAAAA6D8AAAAAAADoPwAAAAAAAOg/AAAAAAAA6D9wtAIN9IjoP99oBRroEek/R974rV+B6T+Zy4mejJjpP+24Go+5r+k/QKarf+bG6T+TkzxwE97pP+eAzWBA9ek/Om5eUW0M6j+MW+9BmiPqP+BIgDLHOuo/MzYRI/RR6j+GI6ITIWnqP9oQMwROgOo/jCW/WPKL6j9Tl9sfZKjpPxsJ+ObVxOg/4HoUrkfh5z+o7DB1uf3mP3BeTTwrGuY/Pw95fBlQ5T8jSAdgUt7kPwaBlUOLbOQ/6rkjJ8T64z/N8rEK/YjjP7ErQO41F+M/lGTO0W6l4j94nVy1pzPiP1zW6pjgweE/Pw95fBlQ4T8jSAdgUt7gPwaBlUOLbOA/cgrbvf0H4D93lLditrXgP30elAdvY+E/gqhwrCcR4j+IMk1R4L7iP468KfaYbOM/GZI3bdZO5D8k5N2XBOflPzA2hMIyf+c/PIgq7WAX6T9H2tAXj6/qP1Msd0K9R+w/qvvr9EWz7T+ww7V6u53uP7WLfwAxiO8/AAAAAAAA8D8AAAAAAADwPwAAAAAAAPA/AAAAAAAA8D8AAAAAAADwPwAAAAAAAPA/AAAAAAAA8D8AAAAAAADwPwAAAAAAAPA/AAAAAAAA8D8AAAAAAADwPwAAAAAAAPA/AAAAAAAA8D9Ng1O9wN3vPzC84aD5a+8/FPVvhDL67j/4Lf5na4juP9tmjEukFu4/vp8aL92k7T+i2KgSFjPtP4YRN/ZOwew/aUrF2YdP7D9Ng1O9wN3rPzC84aD5a+s/FPVvhDL66j/3Lf5na4jqP9tmjEukFuo/vp8aL92k6T+i2KgSFjPpP4YRN/ZOweg/aUrF2YdP6D+JrDVP3SToP/5IMH9Wn+g/dOUqr88Z6T/qgSXfSJTpP2AeIA/CDuo/1boaPzuJ6j9LVxVvtAPrP8HzD58tfus/NpAKz6b46z+sLAX/H3PsPyLJ/y6Z7ew/mGX6XhJo7T8NAvWOi+LtP4Oe774EXe4/+Drq7n3X7j9u1+Qe91HvP+Rz305wzO8/AAAAAAAA8D8AAAAAAADwPwAAAAAAAPA/AAAAAAAA8D8AAAAAAADwPwAAAAAAAPA/AAAAAAAA8D8AAAAAAADwPwAAAAAAAPA/AAAAAAAA8D8AAAAAAADwPwAAAAAAAPA/AAAAAAAA8D8AAAAAAADwPwAAAAAAAPA/AAAAAAAA8D8AAAAAAADwPwAAAAAAAPA/AAAAAAAA8D8AAAAAAADwPwAAAAAAAPA/AAAAAAAA8D8AAAAAAADwPwAAAAAAAPA/mG4Sg8DK7z97p6Bm+VjvP1/gLkoy5+4/Qhm9LWt17j8lUksRpAPuPwqL2fTcke0/7cNn2BUg7T/Q/PW7Tq7sP7Q1hJ+HPOw/mG4Sg8DK6z97p6Bm+VjrP1/gLkoy5+o/Qhm9LWt16j8mUksRpAPqPwmL2fTckek/7cNn2BUg6T/Q/PW7Tq7oP7Q1hJ+HPOg/AAAAAAAA6D8AAAAAAADoPwAAAAAAAOg/AAAAAAAA6D8AAAAAAADoP6yvTINTvec/kOjaZoxL5z90IWlKxdnmP1da9y3+Z+Y/OpOFETf25T8ezBP1b4TlPwIFotioEuU/5T0wvOGg5D/Jdr6fGi/kP6yvTINTveM/kOjaZoxL4z9zIWlKxdniP1da9y3+Z+I/OpOFETf24T8ezBP1b4ThPwIFotioEuE/5T0wvOGg4D/Jdr6fGi/gPwAAAAAAAOA/AAAAAAAA4D8AAAAAAADgPwAAAAAAAOA/AAAAAAAA4D8AAAAAAADgPwAAAAAAAOA/AAAAAAAA4D8AAAAAAADgPwAAAAAAAOA/AAAAAAAA4D8AAAAAAADgPwAAAAAAAOA/BejxAnJi4D+np6N2zDThP0hnVeomB+I/6iYHXoHZ4j+M5rjR26vjPy6makU2fuQ/0GUcuZBQ5T9xJc4s6yLmPxPlf6BF9eY/taQxFKDH5z8AAAAAAADoPwAAAAAAAOg/AAAAAAAA6D8AAAAAAADoPwAAAAAAAOg/AAAAAAAA6D8AAAAAAADoPwAAAAAAAOg/AAAAAAAA6D8AAAAAAADoPwAAAAAAAOg/AAAAAAAA6D8AAAAAAADoPwAAAAAAAOg/AAAAAAAA6D8AAAAAAADoPwbuoiRzjuc/6iYxCKwc5z/NX7/r5KrmP7GYTc8dOeY/lNHbslbH5T94CmqWj1XlP1tD+HnI4+Q/P3yGXQFy5D8itRRBOgDkPwbuoiRzjuM/6iYxCKwc4z/NX7/r5KriP7CYTc8dOeI/lNHbslbH4T93CmqWj1XhP1tD+HnI4+A/P3yGXQFy4D8itRRBOgDgPwAAAAAAAOA/AAAAAAAA4D8AAAAAAADgPwAAAAAAAOA/AAAAAAAA4D8AAAAAAADgPwAAAAAAAOA/AAAAAAAA4D8AAAAAAADgPwAAAAAAAOA/AAAAAAAA4D8AAAAAAADgPwAAAAAAAOA/AAAAAAAA4D8AAAAAAADgPwAAAAAAAOA/AAAAAAAA4D8AAAAAAADgP99wBv/7iuA/suqDSz8W4T+EZAGYgqHhP1XefuTFLOI/J1j8MAm44j/50Xl9TEPjP8tL98mPzuM/ncV0FtNZ5D9vP/JiFuXkP0G5b69ZcOU/EzPt+5z75T/lrGpI4IbmP7cm6JQjEuc/iaBl4Wad5z9osjDixt7nP0vrvsX/bOc/LiRNqTj75j8SXduMcYnmP/WVaXCqF+Y/2c73U+Ol5T+9B4Y3HDTlP6BAFBtVwuQ/hHmi/o1Q5D9osjDixt7jP0vrvsX/bOM/LiRNqTj74j8SXduMcYniP/aVaXCqF+I/2c73U+Ol4T+8B4Y3HDThP6BAFBtVwuA/hHmi/o1Q4D8AAAAAAADgPwAAAAAAAOA/AAAAAAAA4D8AAAAAAADgPwAAAAAAAOA/AAAAAAAA4D8AAAAAAADgPwAAAAAAAOA/AAAAAAAA4D8AAAAAAADgPwAAAAAAAOA/AAAAAAAA4D8AAAAAAADgPwAAAAAAAOA/AAAAAAAA4D8AAAAAAADgPwAAAAAAAOA/AAAAAAAA4D8AAAAAAADgPwAAAAAAAOA/AAAAAAAA4D8AAAAAAADgPwAAAAAAAOA/AAAAAAAA4D8AAAAAAADgPwAAAAAAAOA/AAAAAAAA4D8AAAAAAADgPwAAAAAAAOA/AAAAAAAA4D8AAAAAAADgPwAAAAAAAOA/AAAAAAAA4D8AAAAAAADgPwAAAAAAAOA/AAAAAAAA4D8CI3JVpHDgPw+BqgfLYeI/9lTT7qOh5D/eKPzVfOHmP8b8JL1VIek/rdBNpC5h6z9LzgHO0yXsP6bZ1CPq4+w/AuWneQCi7T9e8HrPFmDuP7n7TSUtHu8/FQche0Pc7z8AAAAAAADwPwAAAAAAAPA/AAAAAAAA8D8AAAAAAADwPwAAAAAAAPA/AAAAAAAA8D8AAAAAAADwPwAAAAAAAPA/AAAAAAAA8D8AAAAAAADwPwAAAAAAAPA/AAAAAAAA8D8AAAAAAADwPwAAAAAAAPA/AAAAAAAA8D8AAAAAAADwPwAAAAAAAPA/AAAAAAAA8D8AAAAAAADwPwAAAAAAAPA/AAAAAAAA8D8AAAAAAADwPwAAAAAAAPA/AAAAAAAA8D8AAAAAAADwPwAAAAAAAPA/zDnarbTu7z+wcmiR7XzvP5Sr9nQmC+8/d+SEWF+Z7j9bHRM8mCfuPz5WoR/Rte0/Io8vAwpE7T8GyL3mQtLsP+kATMp7YOw/zDnarbTu6z+wcmiR7XzrP5Sr9nQmC+s/d+SEWF+Z6j9aHRM8mCfqPz5WoR/Rtek/Io8vAwpE6T8GyL3mQtLoP+kATMp7YOg/vg+ttnmA6D+T8H1otc3rP2jRThrxGu8/AAAAAAAA8D8AAAAAAADwPwAAAAAAAPA/AAAAAAAA8D8AAAAAAADwPwAAAAAAAPA/AAAAAAAA8D8AAAAAAADwPwAAAAAAAPA/AAAAAAAA8D8AAAAAAADwPwAAAAAAAPA/AAAAAAAA8D8AAAAAAADwPwAAAAAAAPA/AAAAAAAA8D8AAAAAAADwPwAAAAAAAPA/JuU9MLzh7z8KHswT9W/vP+1WWvct/u4/0Y/o2maM7j+0yHa+nxruP5gBBaLYqO0/fDqThRE37T9fcyFpSsXsP0Ksr0yDU+w/JuU9MLzh6z8KHswT9W/rP+1WWvct/uo/0Y/o2maM6j+0yHa+nxrqP5gBBaLYqOk/ezqThRE36T9fcyFpSsXoP0Ksr0yDU+g/LCxu8hsx6D/WddbnuunoP4C/Pt1Zouk/KQmn0vha6j/TUg/IlxPrP32cd702zOs/J+bfstWE7D/RL0iodD3tP3t5sJ0T9u0/JcMYk7Ku7j/PDIGIUWfvPwAAAAAAAPA/AAAAAAAA8D8AAAAAAADwPwAAAAAAAPA/AAAAAAAA8D8AAAAAAADwPwAAAAAAAPA/AAAAAAAA8D8AAAAAAADwPwAAAAAAAPA/AAAAAAAA8D8AAAAAAADwPwAAAAAAAPA/AAAAAAAA8D8AAAAAAADwPwAAAAAAAPA/AAAAAAAA8D8AAAAAAADwPwAAAAAAAPA/AAAAAAAA8D8AAAAAAADwPwAAAAAAAPA/AAAAAAAA8D8AAAAAAADwPwAAAAAAAPA/AAAAAAAA8D8AAAAAAADwPwAAAAAAAPA/AAAAAAAA8D8AAAAAAADwPwAAAAAAAPA/AAAAAAAA8D8AAAAAAADwPwAAAAAAAPA/AAAAAAAA8D8AAAAAAADwPwAAAAAAAPA/AAAAAAAA8D8AAAAAAADwPwAAAAAAAPA/AAAAAAAA8D8AAAAAAADwPwAAAAAAAPA/AAAAAAAA8D8AAAAAAADwPwAAAAAAAPA/AAAAAAAA8D8AAAAAAADwPwAAAAAAAPA/AAAAAAAA8D8AAAAAAADwPwAAAAAAAPA/AAAAAAAA8D8AAAAAAADwPwAAAAAAAPA/AAAAAAAA8D8AAAAAAADwPwAAAAAAAPA/AAAAAAAA8D8AAAAAAADwPwAAAAAAAPA/AAAAAAAA8D8AAAAAAADwPwAAAAAAAPA/AAAAAAAA8D8AAAAAAADwPwAAAAAAAPA/AAAAAAAA8D8AAAAAAADwPw==\",\"dtype\":\"float64\",\"shape\":[1001]}}},\"id\":\"3038e605-b719-44e2-baec-e7862424c7d4\",\"type\":\"ColumnDataSource\"},{\"attributes\":{\"callback\":null},\"id\":\"fe27f63a-45ad-4235-808a-b4e47efff619\",\"type\":\"DataRange1d\"},{\"attributes\":{},\"id\":\"ce9b68c0-1f9e-416c-8e86-8c7fcafc768a\",\"type\":\"ToolEvents\"},{\"attributes\":{\"active_drag\":\"auto\",\"active_scroll\":\"auto\",\"active_tap\":\"auto\",\"tools\":[{\"id\":\"42911a49-82fd-45c8-b8b4-c5413504c0c0\",\"type\":\"PanTool\"},{\"id\":\"77e0a8dd-b19e-4190-b6d5-0694382731ac\",\"type\":\"WheelZoomTool\"},{\"id\":\"4d96afd5-346f-4760-982d-d2a7e1f25b94\",\"type\":\"BoxZoomTool\"},{\"id\":\"285d328c-f24c-4204-9f3c-d8ff77a2bd13\",\"type\":\"SaveTool\"},{\"id\":\"99ebc6ce-7921-49de-87a1-28db7be78c2a\",\"type\":\"ResetTool\"},{\"id\":\"d5354067-f30b-45f1-b781-9c5849c3e490\",\"type\":\"HelpTool\"}]},\"id\":\"c0cf07e7-d4df-4cb6-a591-e97921bf033c\",\"type\":\"Toolbar\"},{\"attributes\":{\"axis_label\":\"T\",\"formatter\":{\"id\":\"5723b324-c5b9-4981-b95d-3b2da14d319c\",\"type\":\"BasicTickFormatter\"},\"plot\":{\"id\":\"a0b18990-dfcc-4c1e-a283-f0efba9e1fd1\",\"subtype\":\"Figure\",\"type\":\"Plot\"},\"ticker\":{\"id\":\"0a9c8580-2d6f-47f6-b58d-ed70223b243c\",\"type\":\"BasicTicker\"}},\"id\":\"b5e1e4ef-31a2-4138-9260-789d7baf3d58\",\"type\":\"LinearAxis\"},{\"attributes\":{\"callback\":null,\"end\":1.1,\"start\":-0.1},\"id\":\"486fb878-c40e-4fa0-8047-c9aa89ab9ea0\",\"type\":\"Range1d\"},{\"attributes\":{\"data_source\":{\"id\":\"902601fe-184e-4c61-81fb-f07206ea0144\",\"type\":\"ColumnDataSource\"},\"glyph\":{\"id\":\"24ea80e4-cf38-44b2-8602-f9bb5663727e\",\"type\":\"Line\"},\"hover_glyph\":null,\"nonselection_glyph\":{\"id\":\"5927133d-1859-479d-9531-35b1f865feec\",\"type\":\"Line\"},\"selection_glyph\":null},\"id\":\"db8d846b-5907-4d88-9710-df0e3fd0a42a\",\"type\":\"GlyphRenderer\"},{\"attributes\":{},\"id\":\"0a9c8580-2d6f-47f6-b58d-ed70223b243c\",\"type\":\"BasicTicker\"},{\"attributes\":{\"plot\":{\"id\":\"a0b18990-dfcc-4c1e-a283-f0efba9e1fd1\",\"subtype\":\"Figure\",\"type\":\"Plot\"},\"ticker\":{\"id\":\"0a9c8580-2d6f-47f6-b58d-ed70223b243c\",\"type\":\"BasicTicker\"}},\"id\":\"0c365185-7c69-48ea-af05-5c183b540a83\",\"type\":\"Grid\"},{\"attributes\":{\"axis_label\":\"Episode Reward\",\"formatter\":{\"id\":\"e88d32ed-3d1e-4eff-ba79-097aae7b5969\",\"type\":\"BasicTickFormatter\"},\"plot\":{\"id\":\"a0b18990-dfcc-4c1e-a283-f0efba9e1fd1\",\"subtype\":\"Figure\",\"type\":\"Plot\"},\"ticker\":{\"id\":\"5c0248a8-45b0-4b3f-ab64-94a7c0e7e899\",\"type\":\"BasicTicker\"}},\"id\":\"a87c0e0c-467b-49ad-aed4-c9f65f179b24\",\"type\":\"LinearAxis\"},{\"attributes\":{\"data_source\":{\"id\":\"d1bd1d7f-7d20-4590-822a-5ba2b9172ab5\",\"type\":\"ColumnDataSource\"},\"glyph\":{\"id\":\"61616294-8d39-44dd-b864-b2509c32ea37\",\"type\":\"Line\"},\"hover_glyph\":null,\"nonselection_glyph\":{\"id\":\"5b596080-7e1a-463e-bcbe-1837f52890d4\",\"type\":\"Line\"},\"selection_glyph\":null},\"id\":\"e11873fa-df37-4893-b95c-2079e14af506\",\"type\":\"GlyphRenderer\"},{\"attributes\":{},\"id\":\"5c0248a8-45b0-4b3f-ab64-94a7c0e7e899\",\"type\":\"BasicTicker\"},{\"attributes\":{\"dimension\":1,\"plot\":{\"id\":\"a0b18990-dfcc-4c1e-a283-f0efba9e1fd1\",\"subtype\":\"Figure\",\"type\":\"Plot\"},\"ticker\":{\"id\":\"5c0248a8-45b0-4b3f-ab64-94a7c0e7e899\",\"type\":\"BasicTicker\"}},\"id\":\"723e78bb-54b0-4cbb-8e4f-af587dfeff66\",\"type\":\"Grid\"},{\"attributes\":{\"line_alpha\":{\"value\":0.1},\"line_color\":{\"value\":\"#1f77b4\"},\"line_width\":{\"value\":2},\"x\":{\"field\":\"x\"},\"y\":{\"field\":\"y\"}},\"id\":\"5b596080-7e1a-463e-bcbe-1837f52890d4\",\"type\":\"Line\"},{\"attributes\":{\"use_scientific\":false},\"id\":\"5723b324-c5b9-4981-b95d-3b2da14d319c\",\"type\":\"BasicTickFormatter\"},{\"attributes\":{\"callback\":null,\"column_names\":[\"x\",\"y\"],\"data\":{\"x\":[0,1000,2000,3000,4000,5000,6000,7000,8000,9000,10000,11000,12000,13000,14000,15000,16000,17000,18000,19000,20000,21000,22000,23000,24000,25000,26000,27000,28000,29000,30000,31000,32000,33000,34000,35000,36000,37000,38000,39000,40000,41000,42000,43000,44000,45000,46000,47000,48000,49000,50000,51000,52000,53000,54000,55000,56000,57000,58000,59000,60000,61000,62000,63000,64000,65000,66000,67000,68000,69000,70000,71000,72000,73000,74000,75000,76000,77000,78000,79000,80000,81000,82000,83000,84000,85000,86000,87000,88000,89000,90000,91000,92000,93000,94000,95000,96000,97000,98000,99000,100000,101000,102000,103000,104000,105000,106000,107000,108000,109000,110000,111000,112000,113000,114000,115000,116000,117000,118000,119000,120000,121000,122000,123000,124000,125000,126000,127000,128000,129000,130000,131000,132000,133000,134000,135000,136000,137000,138000,139000,140000,141000,142000,143000,144000,145000,146000,147000,148000,149000,150000,151000,152000,153000,154000,155000,156000,157000,158000,159000,160000,161000,162000,163000,164000,165000,166000,167000,168000,169000,170000,171000,172000,173000,174000,175000,176000,177000,178000,179000,180000,181000,182000,183000,184000,185000,186000,187000,188000,189000,190000,191000,192000,193000,194000,195000,196000,197000,198000,199000,200000,201000,202000,203000,204000,205000,206000,207000,208000,209000,210000,211000,212000,213000,214000,215000,216000,217000,218000,219000,220000,221000,222000,223000,224000,225000,226000,227000,228000,229000,230000,231000,232000,233000,234000,235000,236000,237000,238000,239000,240000,241000,242000,243000,244000,245000,246000,247000,248000,249000,250000,251000,252000,253000,254000,255000,256000,257000,258000,259000,260000,261000,262000,263000,264000,265000,266000,267000,268000,269000,270000,271000,272000,273000,274000,275000,276000,277000,278000,279000,280000,281000,282000,283000,284000,285000,286000,287000,288000,289000,290000,291000,292000,293000,294000,295000,296000,297000,298000,299000,300000,301000,302000,303000,304000,305000,306000,307000,308000,309000,310000,311000,312000,313000,314000,315000,316000,317000,318000,319000,320000,321000,322000,323000,324000,325000,326000,327000,328000,329000,330000,331000,332000,333000,334000,335000,336000,337000,338000,339000,340000,341000,342000,343000,344000,345000,346000,347000,348000,349000,350000,351000,352000,353000,354000,355000,356000,357000,358000,359000,360000,361000,362000,363000,364000,365000,366000,367000,368000,369000,370000,371000,372000,373000,374000,375000,376000,377000,378000,379000,380000,381000,382000,383000,384000,385000,386000,387000,388000,389000,390000,391000,392000,393000,394000,395000,396000,397000,398000,399000,400000,401000,402000,403000,404000,405000,406000,407000,408000,409000,410000,411000,412000,413000,414000,415000,416000,417000,418000,419000,420000,421000,422000,423000,424000,425000,426000,427000,428000,429000,430000,431000,432000,433000,434000,435000,436000,437000,438000,439000,440000,441000,442000,443000,444000,445000,446000,447000,448000,449000,450000,451000,452000,453000,454000,455000,456000,457000,458000,459000,460000,461000,462000,463000,464000,465000,466000,467000,468000,469000,470000,471000,472000,473000,474000,475000,476000,477000,478000,479000,480000,481000,482000,483000,484000,485000,486000,487000,488000,489000,490000,491000,492000,493000,494000,495000,496000,497000,498000,499000,500000,501000,502000,503000,504000,505000,506000,507000,508000,509000,510000,511000,512000,513000,514000,515000,516000,517000,518000,519000,520000,521000,522000,523000,524000,525000,526000,527000,528000,529000,530000,531000,532000,533000,534000,535000,536000,537000,538000,539000,540000,541000,542000,543000,544000,545000,546000,547000,548000,549000,550000,551000,552000,553000,554000,555000,556000,557000,558000,559000,560000,561000,562000,563000,564000,565000,566000,567000,568000,569000,570000,571000,572000,573000,574000,575000,576000,577000,578000,579000,580000,581000,582000,583000,584000,585000,586000,587000,588000,589000,590000,591000,592000,593000,594000,595000,596000,597000,598000,599000,600000,601000,602000,603000,604000,605000,606000,607000,608000,609000,610000,611000,612000,613000,614000,615000,616000,617000,618000,619000,620000,621000,622000,623000,624000,625000,626000,627000,628000,629000,630000,631000,632000,633000,634000,635000,636000,637000,638000,639000,640000,641000,642000,643000,644000,645000,646000,647000,648000,649000,650000,651000,652000,653000,654000,655000,656000,657000,658000,659000,660000,661000,662000,663000,664000,665000,666000,667000,668000,669000,670000,671000,672000,673000,674000,675000,676000,677000,678000,679000,680000,681000,682000,683000,684000,685000,686000,687000,688000,689000,690000,691000,692000,693000,694000,695000,696000,697000,698000,699000,700000,701000,702000,703000,704000,705000,706000,707000,708000,709000,710000,711000,712000,713000,714000,715000,716000,717000,718000,719000,720000,721000,722000,723000,724000,725000,726000,727000,728000,729000,730000,731000,732000,733000,734000,735000,736000,737000,738000,739000,740000,741000,742000,743000,744000,745000,746000,747000,748000,749000,750000,751000,752000,753000,754000,755000,756000,757000,758000,759000,760000,761000,762000,763000,764000,765000,766000,767000,768000,769000,770000,771000,772000,773000,774000,775000,776000,777000,778000,779000,780000,781000,782000,783000,784000,785000,786000,787000,788000,789000,790000,791000,792000,793000,794000,795000,796000,797000,798000,799000,800000,801000,802000,803000,804000,805000,806000,807000,808000,809000,810000,811000,812000,813000,814000,815000,816000,817000,818000,819000,820000,821000,822000,823000,824000,825000,826000,827000,828000,829000,830000,831000,832000,833000,834000,835000,836000,837000,838000,839000,840000,841000,842000,843000,844000,845000,846000,847000,848000,849000,850000,851000,852000,853000,854000,855000,856000,857000,858000,859000,860000,861000,862000,863000,864000,865000,866000,867000,868000,869000,870000,871000,872000,873000,874000,875000,876000,877000,878000,879000,880000,881000,882000,883000,884000,885000,886000,887000,888000,889000,890000,891000,892000,893000,894000,895000,896000,897000,898000,899000,900000,901000,902000,903000,904000,905000,906000,907000,908000,909000,910000,911000,912000,913000,914000,915000,916000,917000,918000,919000,920000,921000,922000,923000,924000,925000,926000,927000,928000,929000,930000,931000,932000,933000,934000,935000,936000,937000,938000,939000,940000,941000,942000,943000,944000,945000,946000,947000,948000,949000,950000,951000,952000,953000,954000,955000,956000,957000,958000,959000,960000,961000,962000,963000,964000,965000,966000,967000,968000,969000,970000,971000,972000,973000,974000,975000,976000,977000,978000,979000,980000,981000,982000,983000,984000,985000,986000,987000,988000,989000,990000,991000,992000,993000,994000,995000,996000,997000,998000,999000,1000000],\"y\":{\"__ndarray__\":\"AAAAAAAAAAAAAAAAAAAAAAAAAAAAAAAAAAAAAAAAAAAAAAAAAAAAAAAAAAAAAAAAAAAAAAAAAAAAAAAAAAAAAAAAAAAAAAAAAAAAAAAAAAAAAAAAAAAAAAAAAAAAAAAAAAAAAAAAAAAAAAAAAAAAAAAAAAAAAAAAAAAAAAAAAAAAAAAAAAAAAAAAAAAAAAAAAAAAAAAAAAAAAAAAAAAAAAAAAAAAAAAAAAAAAAAAAAAAAAAAAAAAAAAAAAAAAAAAAAAAAAAAAAAAAAAAAAAAAAAAAAAAAAAAAAAAAAAAAAAAAAAAAAAAAAAAAAAAAAAAAAAAAAAAAAAAAAAAAAAAAAAAAAAAAAAAAAAAAAAAAAAAAAAAAAAAAAAAAAAAAAAAAAAAAAAAAAAAAAAAAAAAAAAAAAAAAAAAAAAAAAAAAAAAAAAAAAAAAAAAAAAAAAAAAAAAAAAAAAAAAAAAAAAAAAAAAAAAAAAAAAAAAAAAAAAAAAAAAAAAAAAAAAAAAAAAAAAAAAAAAAAAAAAAAAAAAAAAAAAAAAAAAAAAAAAAAAAAAAAAAAAAAAAAAAAAAAAAAAAAAAAAAAAAAAAAAAAAAAAAAAAAAAAAAAAAAAAAAAAAAAAAAAAAAAAAAAAAAAAAAAAAAAAAAAAAAAAAAAAAAAAAAAAAAAAAAAAAAAAAAAAAAAAAAAAAAAAAAAAAAAAAAAAAAAAAAAAAAAAAAAAAAAAAAAAAAAAAAAAAAAAAAAAAAAAAAAAAAAAAAAAAAAAAAAAAAAAAAAAAAAAAAAAAAAAAAAAAAAAAAAAAAAAAAAAAAAAAAAAAAAAAAAAAAAAAAAAAAAAAAAAAAAAAAAAAAAAAAAAAAAAAAAAAAAAAAAAAAAAAAAAAAAAAAAAAAAAAAAAAAAAAAAAAAAAAAAAAAAAAAAAAAAAAAAAAAAAAAAAAAAAAAAAAAAAAAAAAAAAAAAAAAAAAAAAAAAAAAAAAAAAAAAAAAAAAAAAAAAAAAAAAAAAAAAAAAAAAAAAAAAAAAAAAAAAAAAAAAAAAAAAAAAAAAAAAAAAAAAAAAAAAAAAAAAAAAAAAAAAAAAAAAAAAAAAAAAAAAAAAAAAAAAAAAAAAAAAAAAAAAAAAAAAAAAAAAAAAAAAAAAAAAAAAAAAAAAAAAAAAAABulB8siTWTP26UHyyJNaM/pV4vwk3QrD9ulB8siTWzP4l5J3frArg/pV4vwk3QvD/goZsG2M7AP26UHyyJNcM/+4ajUTqcxT+JeSd36wLIPxdsq5ycaco/pV4vwk3QzD8yUbPn/jbPP1ehH9G1zc4/5YRYX5kGzT9zaJHtfD/LPwFMyntgeMk/jy8DCkSxxz8eEzyYJ+rFP6z2dCYLI8Q/OtqttO5bwj/IveZC0pTAP61CP6Jrm70/yQmxvjINuj/m0CLb+X62PwKYlPfA8LI/Pb4MKBDFrj92TPBgnqinP6/a05ksjKA/z9FupXXfkj8BuddcSJpyP5e+Wn2qhok/HRdnDDa6nz94ZxBti1ipP7Ch9un9abE/pQ9lHbYntj/VAKDjVaO+PwN57dR6j8M/mvEKuErNxz8yaiibGgvMP2bxIj91JNA/sq2xMF1D0j/9aUAiRWLUP0kmzxMtgdY/RidMCklr2D8VSP/uwlrZP+RostM8Sto/s4lluLY52z+CqhidMCncP1DLy4GqGN0/IOx+ZiQI3j/uDDJLnvfeP74t5S8Y598/vQeGNxw03z9kS+Ld2pDfPwyPPoSZ7d8/WmlNFSwl4D8ui3toi1PgPwKtqbvqgeA/1c7XDkqw4D+p8AViqd7gP30SNLUIDeE/UDRiCGg74T8kVpBbx2nhP/h3vq4mmOE/zJnsAYbG4T9s5/up8dLhP1Agio0qYeE/NFkYcWPv4D8XkqZUnH3gP/vKNDjVC+A/Oj1GXGNv4D8ixh2KtOvgPwlP9bcFaOE/8NfM5Vbk4T/YYKQTqGDiP7/pe0H53OI/p3JTb0pZ4z+O+yqdm9XjP3aEAsvsUeQ/XQ3a+D3O5D98suWljPnkP0d0S7cWBOU/EjaxyKAO5T/d9xbaKhnlP6i5fOu0I+U/dHvi/D4u5T+NcYnUUgTlP3CqF7iLkuQ/VOOlm8Qg5D84HDR//a7jPxtVwmI2PeM//o1QRm/L4j/ixt4pqFniP8b/bA3h5+E/qjj78Bl24T+NcYnUUgThP3CqF7iLkuA/VOOlm8Qg4D+CybJu7YHgP+TbaO1oOOE/R+4ebOTu4T9JiBGpbE3iP4/TVQshkuI/1R6abdXW4j8cat7PiRvjP2K1IjI+YOM/pwBnlPKk4z85ZC8qnV3kP8rH979HFuU/npc6dbZ15T/M6EyM5XflP/s5X6MUeuU/KotxukN85T9Z3IPRcn7lP4gtluihgOU/tn6o/9CC5T/mz7oWAIXlPxQhzS0vh+U/Q3LfRF6J5T8hV7A1AcLmP7gx7RzPVeg/TgwqBJ3p6T/l5mbran3rP3zBo9I4Ee0/h/hgAyVX7j+286eaNQXvP4eD5q/f9e4/arx0kxiE7j9O9QJ3URLuPzIukVqKoO0/FWcfPsMu7T/5n60h/LzsP9zYOwU1S+w/wBHK6G3Z6z+jSljMpmfrP4eD5q/f9eo/arx0kxiE6j9O9QJ3URLqPzIukVqKoOk/FWcfPsMu6T/4n60h/LzoP9zYOwU1S+g/AAAAAAAA6D8AAAAAAADoPwAAAAAAAOg/AAAAAAAA6D8AAAAAAADoPwAAAAAAAOg/AAAAAAAA6D8AAAAAAADoPwAAAAAAAOg/AAAAAAAA6D8AAAAAAADoPwAAAAAAAOg/AAAAAAAA6D8AAAAAAADoPwAAAAAAAOg/AAAAAAAA6D8AAAAAAADoPwAAAAAAAOg/ypbC6nFZ6D/vzR5lS2HpPxQFe98kaeo/OTzXWf5w6z9eczPU13jsP4Oqj06xgO0/qOHryIqI7j/NGEhDZJDvPwAAAAAAAPA/AAAAAAAA8D8AAAAAAADwPwAAAAAAAPA/AAAAAAAA8D8AAAAAAADwPwAAAAAAAPA/AAAAAAAA8D8AAAAAAADwPwAAAAAAAPA/AAAAAAAA8D8AAAAAAADwPwAAAAAAAPA/AAAAAAAA8D8AAAAAAADwPwAAAAAAAPA/AAAAAAAA8D8AAAAAAADwPwAAAAAAAPA/AAAAAAAA8D8AAAAAAADwPwAAAAAAAPA/AAAAAAAA8D8AAAAAAADwPwAAAAAAAPA/AAAAAAAA8D8AAAAAAADwPwAAAAAAAPA/AAAAAAAA8D8AAAAAAADwPwAAAAAAAPA/AAAAAAAA8D8AAAAAAADwPwAAAAAAAPA/AAAAAAAA8D8AAAAAAADwPwAAAAAAAPA/AAAAAAAA8D8AAAAAAADwPwAAAAAAAPA/AAAAAAAA8D8AAAAAAADwPwAAAAAAAPA/AAAAAAAA8D8AAAAAAADwPwAAAAAAAPA/AAAAAAAA8D8AAAAAAADwPwAAAAAAAPA/AAAAAAAA8D8AAAAAAADwPwAAAAAAAPA/AAAAAAAA8D8AAAAAAADwPwAAAAAAAPA/AAAAAAAA8D8AAAAAAADwPwAAAAAAAPA/AAAAAAAA8D8AAAAAAADwPwAAAAAAAPA/AAAAAAAA8D8AAAAAAADwPwAAAAAAAPA/AAAAAAAA8D8AAAAAAADwPwAAAAAAAPA/AAAAAAAA8D8AAAAAAADwPwAAAAAAAPA/AAAAAAAA8D8AAAAAAADwPwAAAAAAAPA/AAAAAAAA8D8AAAAAAADwPwAAAAAAAPA/AAAAAAAA8D8AAAAAAADwPwAAAAAAAPA/AAAAAAAA8D8AAAAAAADwPwAAAAAAAPA/AAAAAAAA8D8AAAAAAADwPwAAAAAAAPA/AAAAAAAA8D8AAAAAAADwPwAAAAAAAPA/AAAAAAAA8D8AAAAAAADwPwAAAAAAAPA/AAAAAAAA8D8AAAAAAADwPwAAAAAAAPA/AAAAAAAA8D8AAAAAAADwPwAAAAAAAPA/AAAAAAAA8D8AAAAAAADwPwAAAAAAAPA/AAAAAAAA8D8AAAAAAADwPwAAAAAAAPA/AAAAAAAA8D8AAAAAAADwPwAAAAAAAPA/AAAAAAAA8D8AAAAAAADwPwAAAAAAAPA/AAAAAAAA8D8AAAAAAADwPwAAAAAAAPA/AAAAAAAA8D8AAAAAAADwPwAAAAAAAPA/AAAAAAAA8D8AAAAAAADwPwAAAAAAAPA/AAAAAAAA8D8AAAAAAADwPwAAAAAAAPA/AAAAAAAA8D8AAAAAAADwPwAAAAAAAPA/AAAAAAAA8D8AAAAAAADwPwAAAAAAAPA/AAAAAAAA8D8AAAAAAADwPwAAAAAAAPA/AAAAAAAA8D8AAAAAAADwPwAAAAAAAPA/AAAAAAAA8D8AAAAAAADwPwAAAAAAAPA/AAAAAAAA8D8AAAAAAADwPwAAAAAAAPA/AAAAAAAA8D8AAAAAAADwPwAAAAAAAPA/AAAAAAAA8D8AAAAAAADwPwAAAAAAAPA/AAAAAAAA8D8AAAAAAADwPwAAAAAAAPA/AAAAAAAA8D8AAAAAAADwPwAAAAAAAPA/AAAAAAAA8D8AAAAAAADwPwAAAAAAAPA/AAAAAAAA8D8AAAAAAADwPwAAAAAAAPA/AAAAAAAA8D8AAAAAAADwPwAAAAAAAPA/AAAAAAAA8D8AAAAAAADwPwAAAAAAAPA/AAAAAAAA8D8AAAAAAADwPwAAAAAAAPA/AAAAAAAA8D8AAAAAAADwPwAAAAAAAPA/AAAAAAAA8D8AAAAAAADwPwAAAAAAAPA/AAAAAAAA8D8AAAAAAADwPwAAAAAAAPA/AAAAAAAA8D8AAAAAAADwPwAAAAAAAPA/AAAAAAAA8D8AAAAAAADwPwAAAAAAAPA/AAAAAAAA8D8AAAAAAADwPwAAAAAAAPA/AAAAAAAA8D8AAAAAAADwPwAAAAAAAPA/AAAAAAAA8D8AAAAAAADwPwAAAAAAAPA/AAAAAAAA8D8AAAAAAADwPwAAAAAAAPA/AAAAAAAA8D8AAAAAAADwPwAAAAAAAPA/AAAAAAAA8D8AAAAAAADwPwAAAAAAAPA/AAAAAAAA8D8AAAAAAADwPwAAAAAAAPA/AAAAAAAA8D8AAAAAAADwPwAAAAAAAPA/AAAAAAAA8D8AAAAAAADwPwAAAAAAAPA/AAAAAAAA8D8AAAAAAADwPwAAAAAAAPA/AAAAAAAA8D8AAAAAAADwPwAAAAAAAPA/AAAAAAAA8D8AAAAAAADwPwAAAAAAAPA/AAAAAAAA8D8AAAAAAADwPwAAAAAAAPA/AAAAAAAA8D8AAAAAAADwPwAAAAAAAPA/AAAAAAAA8D8AAAAAAADwPwAAAAAAAPA/AAAAAAAA8D8AAAAAAADwPwAAAAAAAPA/AAAAAAAA8D8AAAAAAADwPwAAAAAAAPA/AAAAAAAA8D8AAAAAAADwPwAAAAAAAPA/AAAAAAAA8D8AAAAAAADwPwAAAAAAAPA/AAAAAAAA8D8AAAAAAADwPwAAAAAAAPA/AAAAAAAA8D8AAAAAAADwPwAAAAAAAPA/AAAAAAAA8D8AAAAAAADwPwAAAAAAAPA/AAAAAAAA8D8AAAAAAADwPwAAAAAAAPA/AAAAAAAA8D8AAAAAAADwPwAAAAAAAPA/AAAAAAAA8D8AAAAAAADwPwAAAAAAAPA/AAAAAAAA8D8AAAAAAADwPwAAAAAAAPA/AAAAAAAA8D8AAAAAAADwPwAAAAAAAPA/AAAAAAAA8D8AAAAAAADwPwAAAAAAAPA/AAAAAAAA8D8AAAAAAADwPwAAAAAAAPA/AAAAAAAA8D8AAAAAAADwPwAAAAAAAPA/AAAAAAAA8D8AAAAAAADwPwAAAAAAAPA/AAAAAAAA8D8AAAAAAADwPwAAAAAAAPA/AAAAAAAA8D8AAAAAAADwPwAAAAAAAPA/AAAAAAAA8D8AAAAAAADwP5oGp3qBu+8/fT81XrpJ7z9geMNB89fuP0SxUSUsZu4/KOrfCGX07T8LI27snYLtP+5b/M/WEO0/0pSKsw+f7D+2zRiXSC3sP5oGp3qBu+s/fT81XrpJ6z9geMNB89fqP0SxUSUsZuo/J+rfCGX06T8LI27snYLpP+9b/M/WEOk/0pSKsw+f6D+2zRiXSC3oP75X36xDrOg/aKso82rK6T8S/3E5kujqP7xSu3+5Buw/ZqYExuAk7T8Q+k0MCEPuP7pNl1IvYe8/AAAAAAAA8D8AAAAAAADwPwAAAAAAAPA/AAAAAAAA8D8AAAAAAADwPwAAAAAAAPA/AAAAAAAA8D8AAAAAAADwPwAAAAAAAPA/AAAAAAAA8D8AAAAAAADwPwAAAAAAAPA/AAAAAAAA8D8AAAAAAADwPwAAAAAAAPA/AAAAAAAA8D8AAAAAAADwPwAAAAAAAPA/AAAAAAAA8D8AAAAAAADwPwAAAAAAAPA/AAAAAAAA8D8AAAAAAADwPwAAAAAAAPA/AAAAAAAA8D8AAAAAAADwPwAAAAAAAPA/AAAAAAAA8D8AAAAAAADwPwAAAAAAAPA/AAAAAAAA8D8AAAAAAADwPwAAAAAAAPA/AAAAAAAA8D8AAAAAAADwPwAAAAAAAPA/AAAAAAAA8D8AAAAAAADwPwAAAAAAAPA/AAAAAAAA8D8AAAAAAADwPwAAAAAAAPA/AAAAAAAA8D8AAAAAAADwPwAAAAAAAPA/AAAAAAAA8D8AAAAAAADwPwAAAAAAAPA/AAAAAAAA8D8AAAAAAADwPwAAAAAAAPA/AAAAAAAA8D8AAAAAAADwPwAAAAAAAPA/AAAAAAAA8D8AAAAAAADwPwAAAAAAAPA/AAAAAAAA8D8AAAAAAADwPwAAAAAAAPA/AAAAAAAA8D8AAAAAAADwPwAAAAAAAPA/AAAAAAAA8D8AAAAAAADwPwAAAAAAAPA/AAAAAAAA8D8AAAAAAADwPwAAAAAAAPA/AAAAAAAA8D8AAAAAAADwPwAAAAAAAPA/AAAAAAAA8D8AAAAAAADwPwAAAAAAAPA/AAAAAAAA8D8AAAAAAADwPwAAAAAAAPA/AAAAAAAA8D8AAAAAAADwP////////+8/AAAAAAAA8D8AAAAAAADwPwAAAAAAAPA/AAAAAAAA8D8AAAAAAADwPwAAAAAAAPA/AAAAAAAA8D8AAAAAAADwPwAAAAAAAPA/AAAAAAAA8D8AAAAAAADwPwAAAAAAAPA/AAAAAAAA8D8AAAAAAADwPwAAAAAAAPA/AAAAAAAA8D8AAAAAAADwPwAAAAAAAPA/AAAAAAAA8D8AAAAAAADwPwAAAAAAAPA/AAAAAAAA8D8AAAAAAADwPwAAAAAAAPA/AAAAAAAA8D9YzKbnjpzvPzwFNcvHKu8/ID7DrgC57j8Dd1GSOUfuP+av33Vy1e0/yuhtWatj7T+uIfw85PHsP5FaiiAdgOw/dZMYBFYO7D9YzKbnjpzrPzwFNcvHKus/ID7DrgC56j8Dd1GSOUfqP+av33Vy1ek/yuhtWatj6T+uIfw85PHoP5FaiiAdgOg/dJMYBFYO6D+B1yhVll/qP10laWPEFu0/OnOpcfLN7z8AAAAAAADwPwAAAAAAAPA/AAAAAAAA8D8AAAAAAADwPwAAAAAAAPA/AAAAAAAA8D8AAAAAAADwPwAAAAAAAPA/AAAAAAAA8D8AAAAAAADwPwAAAAAAAPA/AAAAAAAA8D8AAAAAAADwPwAAAAAAAPA/AAAAAAAA8D8AAAAAAADwPwAAAAAAAPA/AAAAAAAA8D8AAAAAAADwPwAAAAAAAPA/AAAAAAAA8D8AAAAAAADwPwAAAAAAAPA/AAAAAAAA8D8AAAAAAADwPwAAAAAAAPA/AAAAAAAA8D8AAAAAAADwPwAAAAAAAPA/AAAAAAAA8D8AAAAAAADwPwAAAAAAAPA/AAAAAAAA8D8AAAAAAADwPwAAAAAAAPA/AAAAAAAA8D8AAAAAAADwPwAAAAAAAPA/AAAAAAAA8D8AAAAAAADwPwAAAAAAAPA/AAAAAAAA8D8AAAAAAADwPwAAAAAAAPA/AAAAAAAA8D8AAAAAAADwPwAAAAAAAPA/AAAAAAAA8D8AAAAAAADwPwAAAAAAAPA/AAAAAAAA8D8AAAAAAADwPwAAAAAAAPA/AAAAAAAA8D8AAAAAAADwPwAAAAAAAPA/AAAAAAAA8D8AAAAAAADwPwAAAAAAAPA/AAAAAAAA8D8AAAAAAADwPwAAAAAAAPA/AAAAAAAA8D8AAAAAAADwPwAAAAAAAPA/AAAAAAAA8D8AAAAAAADwPwAAAAAAAPA/AAAAAAAA8D8AAAAAAADwPwAAAAAAAPA/AAAAAAAA8D8AAAAAAADwPwAAAAAAAPA/AAAAAAAA8D8AAAAAAADwPwAAAAAAAPA/AAAAAAAA8D8AAAAAAADwPwAAAAAAAPA/AAAAAAAA8D8AAAAAAADwPwAAAAAAAPA/AAAAAAAA8D8AAAAAAADwPwAAAAAAAPA/AAAAAAAA8D8AAAAAAADwPwAAAAAAAPA/AAAAAAAA8D8AAAAAAADwPwAAAAAAAPA/AAAAAAAA8D8AAAAAAADwPwAAAAAAAPA/AAAAAAAA8D8AAAAAAADwPwAAAAAAAPA/AAAAAAAA8D8AAAAAAADwPwAAAAAAAPA/AAAAAAAA8D8AAAAAAADwPwAAAAAAAPA/AAAAAAAA8D8AAAAAAADwPwAAAAAAAPA/AAAAAAAA8D8AAAAAAADwPwAAAAAAAPA/AAAAAAAA8D8AAAAAAADwPwAAAAAAAPA/AAAAAAAA8D8AAAAAAADwPwAAAAAAAPA/AAAAAAAA8D8AAAAAAADwPwAAAAAAAPA/AAAAAAAA8D8AAAAAAADwPwAAAAAAAPA/AAAAAAAA8D8AAAAAAADwPwAAAAAAAPA/AAAAAAAA8D8AAAAAAADwPwAAAAAAAPA/AAAAAAAA8D8AAAAAAADwPwAAAAAAAPA/AAAAAAAA8D8AAAAAAADwPwAAAAAAAPA/AAAAAAAA8D8AAAAAAADwPwAAAAAAAPA/AAAAAAAA8D8AAAAAAADwPwAAAAAAAPA/AAAAAAAA8D8AAAAAAADwPwAAAAAAAPA/AAAAAAAA8D8AAAAAAADwPwAAAAAAAPA/AAAAAAAA8D8AAAAAAADwPwAAAAAAAPA/AAAAAAAA8D8AAAAAAADwPwAAAAAAAPA/AAAAAAAA8D8AAAAAAADwPwAAAAAAAPA/AAAAAAAA8D8AAAAAAADwPwAAAAAAAPA/AAAAAAAA8D8AAAAAAADwPwAAAAAAAPA/AAAAAAAA8D8AAAAAAADwPwAAAAAAAPA/AAAAAAAA8D8AAAAAAADwPwAAAAAAAPA/AAAAAAAA8D8AAAAAAADwPwAAAAAAAPA/AAAAAAAA8D8AAAAAAADwPwAAAAAAAPA/AAAAAAAA8D8AAAAAAADwPwAAAAAAAPA/AAAAAAAA8D8AAAAAAADwPwAAAAAAAPA/AAAAAAAA8D8AAAAAAADwPwAAAAAAAPA/AAAAAAAA8D8AAAAAAADwPwAAAAAAAPA/AAAAAAAA8D8AAAAAAADwPwAAAAAAAPA/AAAAAAAA8D8AAAAAAADwPwAAAAAAAPA/AAAAAAAA8D8AAAAAAADwPwAAAAAAAPA/AAAAAAAA8D8AAAAAAADwPwAAAAAAAPA/AAAAAAAA8D8AAAAAAADwPwAAAAAAAPA/AAAAAAAA8D8AAAAAAADwPwAAAAAAAPA/AAAAAAAA8D8AAAAAAADwPwAAAAAAAPA/AAAAAAAA8D8AAAAAAADwPwAAAAAAAPA/AAAAAAAA8D8AAAAAAADwPwAAAAAAAPA/AAAAAAAA8D8AAAAAAADwPwAAAAAAAPA/AAAAAAAA8D8AAAAAAADwPwAAAAAAAPA/AAAAAAAA8D8AAAAAAADwPwAAAAAAAPA/AAAAAAAA8D8AAAAAAADwPwAAAAAAAPA/AAAAAAAA8D8AAAAAAADwPwAAAAAAAPA/AAAAAAAA8D8AAAAAAADwPwAAAAAAAPA/AAAAAAAA8D8AAAAAAADwPwAAAAAAAPA/AAAAAAAA8D8AAAAAAADwPwAAAAAAAPA/AAAAAAAA8D8AAAAAAADwPwAAAAAAAPA/AAAAAAAA8D8AAAAAAADwPwAAAAAAAPA/AAAAAAAA8D8AAAAAAADwPwAAAAAAAPA/AAAAAAAA8D8AAAAAAADwPwAAAAAAAPA/AAAAAAAA8D8AAAAAAADwPwAAAAAAAPA/AAAAAAAA8D8AAAAAAADwPwAAAAAAAPA/AAAAAAAA8D8AAAAAAADwPwAAAAAAAPA/AAAAAAAA8D8AAAAAAADwPwAAAAAAAPA/AAAAAAAA8D8AAAAAAADwPwAAAAAAAPA/AAAAAAAA8D8AAAAAAADwPwAAAAAAAPA/AAAAAAAA8D8AAAAAAADwPwAAAAAAAPA/AAAAAAAA8D8AAAAAAADwPwAAAAAAAPA/AAAAAAAA8D8AAAAAAADwPwAAAAAAAPA/AAAAAAAA8D8AAAAAAADwPwAAAAAAAPA/AAAAAAAA8D8AAAAAAADwPwAAAAAAAPA/AAAAAAAA8D8AAAAAAADwPwAAAAAAAPA/AAAAAAAA8D8AAAAAAADwPwAAAAAAAPA/AAAAAAAA8D8AAAAAAADwPw==\",\"dtype\":\"float64\",\"shape\":[1001]}}},\"id\":\"902601fe-184e-4c61-81fb-f07206ea0144\",\"type\":\"ColumnDataSource\"},{\"attributes\":{\"bottom_units\":\"screen\",\"fill_alpha\":{\"value\":0.5},\"fill_color\":{\"value\":\"lightgrey\"},\"left_units\":\"screen\",\"level\":\"overlay\",\"line_alpha\":{\"value\":1.0},\"line_color\":{\"value\":\"black\"},\"line_dash\":[4,4],\"line_width\":{\"value\":2},\"plot\":null,\"render_mode\":\"css\",\"right_units\":\"screen\",\"top_units\":\"screen\"},\"id\":\"dc3e9429-b1b5-43cd-9bb8-4eda7e044bb7\",\"type\":\"BoxAnnotation\"},{\"attributes\":{\"plot\":{\"id\":\"a0b18990-dfcc-4c1e-a283-f0efba9e1fd1\",\"subtype\":\"Figure\",\"type\":\"Plot\"}},\"id\":\"42911a49-82fd-45c8-b8b4-c5413504c0c0\",\"type\":\"PanTool\"},{\"attributes\":{\"items\":[{\"id\":\"5564ef28-c90f-4a6c-9120-5c42531733ba\",\"type\":\"LegendItem\"},{\"id\":\"182f1918-11b7-4c23-baee-8a97eed041ca\",\"type\":\"LegendItem\"},{\"id\":\"b662202b-3a02-4f86-aa2f-5927675e5b68\",\"type\":\"LegendItem\"},{\"id\":\"3c72f33f-2b58-4555-9ce7-3eb5ee8bae90\",\"type\":\"LegendItem\"}],\"location\":[0,-30],\"plot\":{\"id\":\"a0b18990-dfcc-4c1e-a283-f0efba9e1fd1\",\"subtype\":\"Figure\",\"type\":\"Plot\"}},\"id\":\"ec0e1ae2-45c5-4c4e-8510-8148eca63cef\",\"type\":\"Legend\"},{\"attributes\":{\"plot\":{\"id\":\"a0b18990-dfcc-4c1e-a283-f0efba9e1fd1\",\"subtype\":\"Figure\",\"type\":\"Plot\"}},\"id\":\"77e0a8dd-b19e-4190-b6d5-0694382731ac\",\"type\":\"WheelZoomTool\"},{\"attributes\":{\"overlay\":{\"id\":\"dc3e9429-b1b5-43cd-9bb8-4eda7e044bb7\",\"type\":\"BoxAnnotation\"},\"plot\":{\"id\":\"a0b18990-dfcc-4c1e-a283-f0efba9e1fd1\",\"subtype\":\"Figure\",\"type\":\"Plot\"}},\"id\":\"4d96afd5-346f-4760-982d-d2a7e1f25b94\",\"type\":\"BoxZoomTool\"},{\"attributes\":{\"line_color\":{\"value\":\"#4daf4a\"},\"line_width\":{\"value\":2},\"x\":{\"field\":\"x\"},\"y\":{\"field\":\"y\"}},\"id\":\"f0d904ce-8c99-4e63-9e3f-ad6c2d3f2fe5\",\"type\":\"Line\"},{\"attributes\":{\"plot\":{\"id\":\"a0b18990-dfcc-4c1e-a283-f0efba9e1fd1\",\"subtype\":\"Figure\",\"type\":\"Plot\"}},\"id\":\"285d328c-f24c-4204-9f3c-d8ff77a2bd13\",\"type\":\"SaveTool\"},{\"attributes\":{\"line_color\":{\"value\":\"#377eb8\"},\"line_width\":{\"value\":2},\"x\":{\"field\":\"x\"},\"y\":{\"field\":\"y\"}},\"id\":\"61616294-8d39-44dd-b864-b2509c32ea37\",\"type\":\"Line\"},{\"attributes\":{\"plot\":{\"id\":\"a0b18990-dfcc-4c1e-a283-f0efba9e1fd1\",\"subtype\":\"Figure\",\"type\":\"Plot\"}},\"id\":\"99ebc6ce-7921-49de-87a1-28db7be78c2a\",\"type\":\"ResetTool\"},{\"attributes\":{\"plot\":{\"id\":\"a0b18990-dfcc-4c1e-a283-f0efba9e1fd1\",\"subtype\":\"Figure\",\"type\":\"Plot\"}},\"id\":\"d5354067-f30b-45f1-b781-9c5849c3e490\",\"type\":\"HelpTool\"},{\"attributes\":{\"callback\":null,\"column_names\":[\"x\",\"y\"],\"data\":{\"x\":[0,1000,2000,3000,4000,5000,6000,7000,8000,9000,10000,11000,12000,13000,14000,15000,16000,17000,18000,19000,20000,21000,22000,23000,24000,25000,26000,27000,28000,29000,30000,31000,32000,33000,34000,35000,36000,37000,38000,39000,40000,41000,42000,43000,44000,45000,46000,47000,48000,49000,50000,51000,52000,53000,54000,55000,56000,57000,58000,59000,60000,61000,62000,63000,64000,65000,66000,67000,68000,69000,70000,71000,72000,73000,74000,75000,76000,77000,78000,79000,80000,81000,82000,83000,84000,85000,86000,87000,88000,89000,90000,91000,92000,93000,94000,95000,96000,97000,98000,99000,100000,101000,102000,103000,104000,105000,106000,107000,108000,109000,110000,111000,112000,113000,114000,115000,116000,117000,118000,119000,120000,121000,122000,123000,124000,125000,126000,127000,128000,129000,130000,131000,132000,133000,134000,135000,136000,137000,138000,139000,140000,141000,142000,143000,144000,145000,146000,147000,148000,149000,150000,151000,152000,153000,154000,155000,156000,157000,158000,159000,160000,161000,162000,163000,164000,165000,166000,167000,168000,169000,170000,171000,172000,173000,174000,175000,176000,177000,178000,179000,180000,181000,182000,183000,184000,185000,186000,187000,188000,189000,190000,191000,192000,193000,194000,195000,196000,197000,198000,199000,200000,201000,202000,203000,204000,205000,206000,207000,208000,209000,210000,211000,212000,213000,214000,215000,216000,217000,218000,219000,220000,221000,222000,223000,224000,225000,226000,227000,228000,229000,230000,231000,232000,233000,234000,235000,236000,237000,238000,239000,240000,241000,242000,243000,244000,245000,246000,247000,248000,249000,250000,251000,252000,253000,254000,255000,256000,257000,258000,259000,260000,261000,262000,263000,264000,265000,266000,267000,268000,269000,270000,271000,272000,273000,274000,275000,276000,277000,278000,279000,280000,281000,282000,283000,284000,285000,286000,287000,288000,289000,290000,291000,292000,293000,294000,295000,296000,297000,298000,299000,300000,301000,302000,303000,304000,305000,306000,307000,308000,309000,310000,311000,312000,313000,314000,315000,316000,317000,318000,319000,320000,321000,322000,323000,324000,325000,326000,327000,328000,329000,330000,331000,332000,333000,334000,335000,336000,337000,338000,339000,340000,341000,342000,343000,344000,345000,346000,347000,348000,349000,350000,351000,352000,353000,354000,355000,356000,357000,358000,359000,360000,361000,362000,363000,364000,365000,366000,367000,368000,369000,370000,371000,372000,373000,374000,375000,376000,377000,378000,379000,380000,381000,382000,383000,384000,385000,386000,387000,388000,389000,390000,391000,392000,393000,394000,395000,396000,397000,398000,399000,400000,401000,402000,403000,404000,405000,406000,407000,408000,409000,410000,411000,412000,413000,414000,415000,416000,417000,418000,419000,420000,421000,422000,423000,424000,425000,426000,427000,428000,429000,430000,431000,432000,433000,434000,435000,436000,437000,438000,439000,440000,441000,442000,443000,444000,445000,446000,447000,448000,449000,450000,451000,452000,453000,454000,455000,456000,457000,458000,459000,460000,461000,462000,463000,464000,465000,466000,467000,468000,469000,470000,471000,472000,473000,474000,475000,476000,477000,478000,479000,480000,481000,482000,483000,484000,485000,486000,487000,488000,489000,490000,491000,492000,493000,494000,495000,496000,497000,498000,499000,500000,501000,502000,503000,504000,505000,506000,507000,508000,509000,510000,511000,512000,513000,514000,515000,516000,517000,518000,519000,520000,521000,522000,523000,524000,525000,526000,527000,528000,529000,530000,531000,532000,533000,534000,535000,536000,537000,538000,539000,540000,541000,542000,543000,544000,545000,546000,547000,548000,549000,550000,551000,552000,553000,554000,555000,556000,557000,558000,559000,560000,561000,562000,563000,564000,565000,566000,567000,568000,569000,570000,571000,572000,573000,574000,575000,576000,577000,578000,579000,580000,581000,582000,583000,584000,585000,586000,587000,588000,589000,590000,591000,592000,593000,594000,595000,596000,597000,598000,599000,600000,601000,602000,603000,604000,605000,606000,607000,608000,609000,610000,611000,612000,613000,614000,615000,616000,617000,618000,619000,620000,621000,622000,623000,624000,625000,626000,627000,628000,629000,630000,631000,632000,633000,634000,635000,636000,637000,638000,639000,640000,641000,642000,643000,644000,645000,646000,647000,648000,649000,650000,651000,652000,653000,654000,655000,656000,657000,658000,659000,660000,661000,662000,663000,664000,665000,666000,667000,668000,669000,670000,671000,672000,673000,674000,675000,676000,677000,678000,679000,680000,681000,682000,683000,684000,685000,686000,687000,688000,689000,690000,691000,692000,693000,694000,695000,696000,697000,698000,699000,700000,701000,702000,703000,704000,705000,706000,707000,708000,709000,710000,711000,712000,713000,714000,715000,716000,717000,718000,719000,720000,721000,722000,723000,724000,725000,726000,727000,728000,729000,730000,731000,732000,733000,734000,735000,736000,737000,738000,739000,740000,741000,742000,743000,744000,745000,746000,747000,748000,749000,750000,751000,752000,753000,754000,755000,756000,757000,758000,759000,760000,761000,762000,763000,764000,765000,766000,767000,768000,769000,770000,771000,772000,773000,774000,775000,776000,777000,778000,779000,780000,781000,782000,783000,784000,785000,786000,787000,788000,789000,790000,791000,792000,793000,794000,795000,796000,797000,798000,799000,800000,801000,802000,803000,804000,805000,806000,807000,808000,809000,810000,811000,812000,813000,814000,815000,816000,817000,818000,819000,820000,821000,822000,823000,824000,825000,826000,827000,828000,829000,830000,831000,832000,833000,834000,835000,836000,837000,838000,839000,840000,841000,842000,843000,844000,845000,846000,847000,848000,849000,850000,851000,852000,853000,854000,855000,856000,857000,858000,859000,860000,861000,862000,863000,864000,865000,866000,867000,868000,869000,870000,871000,872000,873000,874000,875000,876000,877000,878000,879000,880000,881000,882000,883000,884000,885000,886000,887000,888000,889000,890000,891000,892000,893000,894000,895000,896000,897000,898000,899000,900000,901000,902000,903000,904000,905000,906000,907000,908000,909000,910000,911000,912000,913000,914000,915000,916000,917000,918000,919000,920000,921000,922000,923000,924000,925000,926000,927000,928000,929000,930000,931000,932000,933000,934000,935000,936000,937000,938000,939000,940000,941000,942000,943000,944000,945000,946000,947000,948000,949000,950000,951000,952000,953000,954000,955000,956000,957000,958000,959000,960000,961000,962000,963000,964000,965000,966000,967000,968000,969000,970000,971000,972000,973000,974000,975000,976000,977000,978000,979000,980000,981000,982000,983000,984000,985000,986000,987000,988000,989000,990000,991000,992000,993000,994000,995000,996000,997000,998000,999000,1000000],\"y\":{\"__ndarray__\":\"AAAAAAAAAAAAAAAAAAAAAAAAAAAAAAAAAAAAAAAAAAAAAAAAAAAAAAAAAAAAAAAAAAAAAAAAAAAAAAAAAAAAAAAAAAAAAAAAAAAAAAAAAAAAAAAAAAAAAAAAAAAAAAAAAAAAAAAAAAAAAAAAAAAAAAAAAAAAAAAAAAAAAAAAAAAAAAAAAAAAAAAAAAAAAAAAAAAAAAAAAAAAAAAAAAAAAAAAAAAAAAAAAAAAAAAAAAAAAAAAAAAAAAAAAAAAAAAAAAAAAAAAAAAAAAAAAAAAAAAAAAAAAAAAAAAAAAAAAAAAAAAAAAAAAAAAAAAAAAAAAAAAAAAAAAAAAAAAAAAAAAAAAAAAAAAAAAAAAAAAAAAAAAAAAAAAAAAAAAAAAAAAAAAAAAAAAAAAAAAAAAAAAAAAAAAAAAAAAAAAAAAAAAAAAAAAAAAAAAAAAAAAAAAAAAAAAAAAAAAAAAAAAAAAAAAAAAAAAAAAAAAAAAAAAAAAAAAAAAAAAAAAAAAAAAAAAAAAAAAAAAAAAAAAAAAAAAAAAAAAAAAAAAAAAAAAAAAAAAAAAAAAAAAAAAAAAAAAAAAAAAAAAAAAAAAAAAAAAAAAAAAAAAAAAAAAAAAAAAAAAAAAAAAAAAAAAAAAAAAAAAAAAAAAAAAAAAAAAAAAAAAAAAAAAAAAAAAAAAAAAAAAAAAAAAAAAAAAAAAAAAAAAAAAAAAAAAAAAAAAAAAAAAAAAAAAAAAAAAAAAAAAAAAAAAAAAAAAAAAAAAAAAAAAAAAAAAAAAAAAAAAAAAAAAAAAAAAAAAAAAAAAAAAAAAAAAAAAAAAAAAAAAAAAAAAAAAAAAAAAAAAAAAAAAAAAAAAAAAAAAAAAAAAAAAAAAAAAAAAAAAAAAAAAAAAAAAAAAAAAAAAAAAAAAAAAAAAAAAAAAAAAAAAAAAAAAAAAAAAAAAAAAAAAAAAAAAAAAAAAAAAAAAAAAAAAAAAAAAAAAAAAAAAAAAAAAAAAAAAAAAAAAAAAAAAAAAAAAAAAAAAAAAAAAAAAAAAAAAAAAAAAAAAAAAAAAAAAAAAAAAAAAAAAAAAAAAAAAAAAAAAAAAAAAAAAAAAAAAAAAAAAAAAAAAAAAAAAAAAAAAAAAAAAAAAAAAAAAAAAAAAAAAAAAAAAAAAAAAAAAAAAAAAAAAAAAAAAAAAAAAAAAAAAAAAAAAAAAAAAAAAAAAAAAAAAAAAAAAAAAAAAAAAAAAAAAAAAAAAAAAAAAAAAAAAAAAAAAAAAAAAAAAAAAAAAAAAAAAAAAAAAAAAAAAAAAAAAAAAAAAAAAAAAAAAAAAAAAAAAAAAAAAAAAAAAAAAAAAAAAAAAAAAAAAAAAAAAAAAAAAAAAAAAAAAAAAAAAAAAAAAAAAAAAAAAAAAAAAAAAAAAAAAAAAAAAAAAAAAAAAAAAAAAAAAAAAAAAAAAAAAAAAAAAAAAAAAAAAAAAAAAAAAAAAAAAAAAAAAAAAAAAAAAAAAAAAAAAAAAAAAAAAAAAAAAAAAAAAAAAAAAAAAAAAAAAAAAAAAAAAAAAAAAAAAAAAAAAAAAAAAAAAAAAAAAAAAAAAAAAAAAAAAAAAAAAAAAAAAAAAAAAAAAAAAAAAAAAAAAAAAAAAAAAAAAAAAAAAAAAAAAAAAAAAAAAAAAAAAAAAAAAAAAAAAAAAAAAAAAAAAAAAAAAAAAAAAAAAAAAAAAAAAAAAAAAAAAAAAAAAAAAAAAAAAAAAAAAAAAAAAAAAAAAAAAAAAAAAAAAAAAAAAAAAAAAAAAAAAAAAAAAAAAAAAAAAAAAAAAAAAAAAAAAAAAAAAAAAAAAAAAAAAAAAAAAAAAAAAAAAAAAAAAAAAAAAAAAAAAAAAAAAAAAAAAAAAAAAAAAAAAAAAAAAAAAAAAAAAAAAAAAAAAAAAAAAAAAAAAAAAAAAAAAAAAAAAAAAAAAAAAAAAAAAAAAAAAAAAAAAAAAAAAAAAAAAAAAAAAAAAAAAAAAAAAAAAAAAAAAAAAAAAAAAAAAAAAAAAAAAAAAAAAAAAAAAAAAAAAAAAAAAAAAAAAAAAAAAAAAAAAAAAAAAAAAAAAAAAAAAAAAAAAAAAAAAAAAAAAAAAAAAAAAAAAAAAAAAAAAAAAAAAAAAAAAAAAAAAAAAAAAAAAAAAAAAAAAAAAAAAAAAAAAAAAAAAAAAAAAAAAAAAAAAAAAAAAAAAAAAAAAAAAAAAAAAAAAAAAAAAAAAAAAAAAAAAAAAAAAAAAAAAAAAAAAAAAAAAAAAAAAAAAAAAAAAAAAAAAAAAAAAAAAAAAAAAAAAAAAAAAAAAAAAAAAAAAAAAAAAAAAAAAAAAAAAAAAAAAAAAAAAAAAAAAAAAAAAAAAAAAAAAAAAAAAAAAAAAAAAAAAAAAAAAAAAAAAAAAAAAAAAAAAAAAAAAAAAAAAAAAAAAAAAAAAAAAAAAAAAAAAAAAAAAAAAAAAAAAAAAAAAAAAAAAAAAAAAAAAAAAAAAAAAAAAAAAAAAAAAAAAABLLjxOfyWXP0suPE5/Jac/uCKteh9csT9LLjxOfyW3P945yyHf7rw/uCKteh9cwT+CqHRkz0DEP0suPE5/Jcc/FLQDOC8Kyj/eOcsh3+7MP6e/kguP088/qsvtDzJUzj84ryaeFY3MP8aSXyz5xco/VXaYutz+yD/jWdFIwDfHP3E9CtejcMU//yBDZYepwz+NBHzzauLBPxzotIFOG8A/U5fbH2SovD9wXk08Kxq5P4wlv1jyi7U/qewwdbn9sT+KZ0UjAd+sP8P1KFyPwqU/9wcZKjtMnT/SSMA3ryaOP08b6LSBTks/AAAAAAAAAAAAAAAAAAAAAAAAAAAAAAAAAAAAAAAAAAAAAAAAAAAAAAAAAAAAAAAAAAAAAAAAAACic/wZKxeaP6Jz/BkrF6o/ulZ9U2CRsz+ic/wZKxe6P0XIPfB6TsA/ulZ9U2CRwz8u5by2RdTGP6Jz/BkrF8o/FgI8fRBazT8AAAAAAADQPwAAAAAAANA/AAAAAAAA0D8AAAAAAADQPwAAAAAAANA/AAAAAAAA0D8AAAAAAADQPwAAAAAAANA/AAAAAAAA0D8AAAAAAADQPwAAAAAAANA/AAAAAAAA0D8AAAAAAADQPwAAAAAAANA/AAAAAAAA0D8AAAAAAADQPwAAAAAAANA/AAAAAAAA0D8AAAAAAADQPwAAAAAAANA/2UIoWwhl0T841gbH2uDSP5dp5TKtXNQ/9vzDnn/Y1T9VkKIKUlTXP7QjgXYk0Ng/E7df4vZL2j9ySj5OycfbP9HdHLqbQ90/MHH7JW6/3j8AAAAAAADgPwAAAAAAAOA/AAAAAAAA4D8AAAAAAADgPwAAAAAAAOA/AAAAAAAA4D8AAAAAAADgPwAAAAAAAOA/AAAAAAAA4D8AAAAAAADgPwAAAAAAAOA/AAAAAAAA4D8AAAAAAADgPwAAAAAAAOA/AAAAAAAA4D8AAAAAAADgPwAAAAAAAOA/AAAAAAAA4D8AAAAAAADgPwAAAAAAAOA/AAAAAAAA4D8AAAAAAADgPwAAAAAAAOA/AAAAAAAA4D8AAAAAAADgPwAAAAAAAOA/AAAAAAAA4D8AAAAAAADgPwAAAAAAAOA/AAAAAAAA4D8AAAAAAADgPwAAAAAAAOA/AAAAAAAA4D8AAAAAAADgPwAAAAAAAOA/AAAAAAAA4D8AAAAAAADgPwAAAAAAAOA/AAAAAAAA4D8AAAAAAADgPwAAAAAAAOA/AAAAAAAA4D8AAAAAAADgPwAAAAAAAOA/AAAAAAAA4D8AAAAAAADgPwAAAAAAAOA/AAAAAAAA4D8AAAAAAADgPwAAAAAAAOA/AAAAAAAA4D8AAAAAAADgPwAAAAAAAOA/AAAAAAAA4D8AAAAAAADgPwAAAAAAAOA/AAAAAAAA4D8AAAAAAADgPwAAAAAAAOA/AAAAAAAA4D8AAAAAAADgPwAAAAAAAOA/AAAAAAAA4D8AAAAAAADgPwAAAAAAAOA/AAAAAAAA4D8AAAAAAADgPwAAAAAAAOA/AAAAAAAA4D8AAAAAAADgPwAAAAAAAOA/AAAAAAAA4D8AAAAAAADgPwAAAAAAAOA/AAAAAAAA4D8AAAAAAADgPwAAAAAAAOA/AAAAAAAA4D8AAAAAAADgPwAAAAAAAOA/AAAAAAAA4D8AAAAAAADgPwAAAAAAAOA/AAAAAAAA4D8AAAAAAADgPwAAAAAAAOA/AAAAAAAA4D8AAAAAAADgPwAAAAAAAOA/AAAAAAAA4D8AAAAAAADgPwAAAAAAAOA/AAAAAAAA4D8AAAAAAADgPwAAAAAAAOA/AAAAAAAA4D8AAAAAAADgPwAAAAAAAOA/AAAAAAAA4D8AAAAAAADgPwAAAAAAAOA/AAAAAAAA4D8AAAAAAADgPwAAAAAAAOA/AAAAAAAA4D8AAAAAAADgPwAAAAAAAOA/AAAAAAAA4D8AAAAAAADgPwAAAAAAAOA/AAAAAAAA4D8AAAAAAADgPwAAAAAAAOA/AAAAAAAA4D8AAAAAAADgPwAAAAAAAOA/AAAAAAAA4D8AAAAAAADgPwAAAAAAAOA/AAAAAAAA4D8AAAAAAADgPwAAAAAAAOA/AAAAAAAA4D8AAAAAAADgPwAAAAAAAOA/AAAAAAAA4D8AAAAAAADgPwAAAAAAAOA/AAAAAAAA4D8AAAAAAADgPwAAAAAAAOA/AAAAAAAA4D8AAAAAAADgPwAAAAAAAOA/AAAAAAAA4D8AAAAAAADgP////////98/////////3z8AAAAAAADgPwAAAAAAAOA/AAAAAAAA4D8AAAAAAADgPwAAAAAAAOA/AAAAAAAA4D8AAAAAAADgPwAAAAAAAOA/AAAAAAAA4D8AAAAAAADgPwAAAAAAAOA/AAAAAAAA4D8AAAAAAADgPwAAAAAAAOA/AAAAAAAA4D8AAAAAAADgPwAAAAAAAOA/AAAAAAAA4D8AAAAAAADgPwAAAAAAAOA/AAAAAAAA4D8AAAAAAADgPwAAAAAAAOA/AAAAAAAA4D8AAAAAAADgPwAAAAAAAOA/AAAAAAAA4D8AAAAAAADgPwAAAAAAAOA/AAAAAAAA4D8AAAAAAADgPwAAAAAAAOA/AAAAAAAA4D8AAAAAAADgPwAAAAAAAOA/AAAAAAAA4D8AAAAAAADgPwAAAAAAAOA/AAAAAAAA4D8AAAAAAADgPwAAAAAAAOA/////////3z8AAAAAAADgP////////98/AAAAAAAA4D8AAAAAAADgPwAAAAAAAOA/AAAAAAAA4D8AAAAAAADgPwAAAAAAAOA/AAAAAAAA4D/////////fPwAAAAAAAOA/AAAAAAAA4D/////////fPwAAAAAAAOA/AAAAAAAA4D8AAAAAAADgPwAAAAAAAOA/AAAAAAAA4D8AAAAAAADgPwAAAAAAAOA/AAAAAAAA4D8AAAAAAADgPwAAAAAAAOA/AAAAAAAA4D8AAAAAAADgPwAAAAAAAOA/AAAAAAAA4D8AAAAAAADgPwAAAAAAAOA/AAAAAAAA4D8AAAAAAADgP////////98/AAAAAAAA4D8AAAAAAADgPwAAAAAAAOA/AAAAAAAA4D8AAAAAAADgPwAAAAAAAOA/AAAAAAAA4D8AAAAAAADgPwAAAAAAAOA/AAAAAAAA4D8AAAAAAADgPwAAAAAAAOA/AAAAAAAA4D8AAAAAAADgPwAAAAAAAOA/AAAAAAAA4D8AAAAAAADgPwAAAAAAAOA/AAAAAAAA4D8AAAAAAADgPwAAAAAAAOA/AAAAAAAA4D8AAAAAAADgPwAAAAAAAOA/AAAAAAAA4D8AAAAAAADgPwAAAAAAAOA/AAAAAAAA4D8AAAAAAADgPwAAAAAAAOA/AAAAAAAA4D8AAAAAAADgPwAAAAAAAOA/AAAAAAAA4D8AAAAAAADgPwAAAAAAAOA/AAAAAAAA4D8AAAAAAADgPwAAAAAAAOA/AAAAAAAA4D8AAAAAAADgPwAAAAAAAOA/AAAAAAAA4D8AAAAAAADgPwAAAAAAAOA/AAAAAAAA4D8AAAAAAADgPwAAAAAAAOA/AAAAAAAA4D8AAAAAAADgPwAAAAAAAOA/AAAAAAAA4D8AAAAAAADgPwAAAAAAAOA/AAAAAAAA4D8AAAAAAADgPwAAAAAAAOA/////////3z8AAAAAAADgPwAAAAAAAOA/AAAAAAAA4D8AAAAAAADgPwAAAAAAAOA/AAAAAAAA4D8AAAAAAADgPwAAAAAAAOA/AAAAAAAA4D8AAAAAAADgPwAAAAAAAOA/AAAAAAAA4D8AAAAAAADgPwAAAAAAAOA/AAAAAAAA4D8AAAAAAADgPwAAAAAAAOA/AAAAAAAA4D8AAAAAAADgPwAAAAAAAOA/AAAAAAAA4D8AAAAAAADgPwAAAAAAAOA/AAAAAAAA4D8AAAAAAADgPwAAAAAAAOA/AAAAAAAA4D8AAAAAAADgPwAAAAAAAOA/AAAAAAAA4D8AAAAAAADgPwAAAAAAAOA/AAAAAAAA4D8AAAAAAADgPwAAAAAAAOA/AAAAAAAA4D8AAAAAAADgPwAAAAAAAOA/AAAAAAAA4D8AAAAAAADgPwAAAAAAAOA/AAAAAAAA4D8AAAAAAADgPwAAAAAAAOA/AAAAAAAA4D8AAAAAAADgPwAAAAAAAOA/AAAAAAAA4D8AAAAAAADgPwAAAAAAAOA/AAAAAAAA4D8AAAAAAADgPwAAAAAAAOA/AAAAAAAA4D8AAAAAAADgPwAAAAAAAOA/AAAAAAAA4D8AAAAAAADgPwAAAAAAAOA/AAAAAAAA4D8AAAAAAADgPwAAAAAAAOA/AAAAAAAA4D8AAAAAAADgPwAAAAAAAOA/AAAAAAAA4D8AAAAAAADgPwAAAAAAAOA/AAAAAAAA4D8AAAAAAADgPwAAAAAAAOA/AAAAAAAA4D8AAAAAAADgPwAAAAAAAOA/AAAAAAAA4D8AAAAAAADgPwAAAAAAAOA/AAAAAAAA4D8AAAAAAADgPwAAAAAAAOA/AAAAAAAA4D8AAAAAAADgPwAAAAAAAOA/AAAAAAAA4D8AAAAAAADgPwAAAAAAAOA/AAAAAAAA4D8AAAAAAADgPwAAAAAAAOA/AAAAAAAA4D8AAAAAAADgPwAAAAAAAOA/AAAAAAAA4D8AAAAAAADgPwAAAAAAAOA/AAAAAAAA4D8AAAAAAADgPwAAAAAAAOA/AAAAAAAA4D8AAAAAAADgPwAAAAAAAOA/AAAAAAAA4D8AAAAAAADgPwAAAAAAAOA/AAAAAAAA4D8AAAAAAADgPwAAAAAAAOA/AAAAAAAA4D8AAAAAAADgPwAAAAAAAOA/AAAAAAAA4D8AAAAAAADgP////////98/AAAAAAAA4D8AAAAAAADgPwAAAAAAAOA/AAAAAAAA4D8AAAAAAADgPwAAAAAAAOA/AAAAAAAA4D8AAAAAAADgPwAAAAAAAOA/AAAAAAAA4D8AAAAAAADgPwAAAAAAAOA/AAAAAAAA4D8AAAAAAADgPwAAAAAAAOA/AAAAAAAA4D8AAAAAAADgPwAAAAAAAOA/AAAAAAAA4D8AAAAAAADgPwAAAAAAAOA/AAAAAAAA4D8AAAAAAADgPwAAAAAAAOA/AAAAAAAA4D8AAAAAAADgPwAAAAAAAOA/AAAAAAAA4D8AAAAAAADgPwAAAAAAAOA/AAAAAAAA4D8AAAAAAADgPwAAAAAAAOA/AAAAAAAA4D8AAAAAAADgPwAAAAAAAOA/AAAAAAAA4D8AAAAAAADgPwAAAAAAAOA/AAAAAAAA4D8AAAAAAADgPwAAAAAAAOA/AAAAAAAA4D8AAAAAAADgPwAAAAAAAOA/AAAAAAAA4D8AAAAAAADgPwAAAAAAAOA/AAAAAAAA4D8AAAAAAADgPwAAAAAAAOA/AAAAAAAA4D8AAAAAAADgPwAAAAAAAOA/AAAAAAAA4D8AAAAAAADgPwAAAAAAAOA/AAAAAAAA4D8AAAAAAADgPwAAAAAAAOA/AAAAAAAA4D8AAAAAAADgPwAAAAAAAOA/AAAAAAAA4D8AAAAAAADgPwAAAAAAAOA/AAAAAAAA4D8AAAAAAADgPwAAAAAAAOA/AAAAAAAA4D8AAAAAAADgPwAAAAAAAOA/AAAAAAAA4D8AAAAAAADgPwAAAAAAAOA/AAAAAAAA4D8AAAAAAADgPwAAAAAAAOA/AAAAAAAA4D8AAAAAAADgPwAAAAAAAOA/AAAAAAAA4D8AAAAAAADgPwAAAAAAAOA/AAAAAAAA4D8AAAAAAADgPwAAAAAAAOA/AAAAAAAA4D8AAAAAAADgPwAAAAAAAOA/AAAAAAAA4D8AAAAAAADgPwAAAAAAAOA/AAAAAAAA4D8AAAAAAADgPwAAAAAAAOA/AAAAAAAA4D/////////fP////////98/AAAAAAAA4D8AAAAAAADgPwAAAAAAAOA/AAAAAAAA4D8AAAAAAADgPwAAAAAAAOA/AAAAAAAA4D8AAAAAAADgPwAAAAAAAOA/AAAAAAAA4D8AAAAAAADgPwAAAAAAAOA/AAAAAAAA4D8AAAAAAADgPwAAAAAAAOA/AAAAAAAA4D8AAAAAAADgPwAAAAAAAOA/AAAAAAAA4D8AAAAAAADgPwAAAAAAAOA/AAAAAAAA4D8AAAAAAADgPwAAAAAAAOA/AAAAAAAA4D8AAAAAAADgPwAAAAAAAOA/AAAAAAAA4D8AAAAAAADgPwAAAAAAAOA/AAAAAAAA4D8AAAAAAADgPwAAAAAAAOA/AAAAAAAA4D8AAAAAAADgPwAAAAAAAOA/AAAAAAAA4D8AAAAAAADgPwAAAAAAAOA/AAAAAAAA4D8AAAAAAADgPwAAAAAAAOA/AAAAAAAA4D8AAAAAAADgPwAAAAAAAOA/AAAAAAAA4D8AAAAAAADgPwAAAAAAAOA/AAAAAAAA4D8AAAAAAADgPwAAAAAAAOA/AAAAAAAA4D8AAAAAAADgPwAAAAAAAOA/AAAAAAAA4D8AAAAAAADgPwAAAAAAAOA/AAAAAAAA4D8AAAAAAADgPwAAAAAAAOA/AAAAAAAA4D8AAAAAAADgPwAAAAAAAOA/AAAAAAAA4D8AAAAAAADgPwAAAAAAAOA/AAAAAAAA4D8AAAAAAADgPwAAAAAAAOA/AAAAAAAA4D8AAAAAAADgPwAAAAAAAOA/AAAAAAAA4D/w0rUfWpTgP+Claz+0KOE/0HghXw694T/AS9d+aFHiP7EejZ7C5eI/ofFCvhx64z+RxPjddg7kP4GXrv3QouQ/cWpkHSs35T9hPRo9hcvlP1IQ0FzfX+Y/QuOFfDn05j8ytjuck4jnPwAAAAAAAOg/AAAAAAAA6D8AAAAAAADoPwAAAAAAAOg/AAAAAAAA6D8AAAAAAADoPwAAAAAAAOg/AAAAAAAA6D8AAAAAAADoPwAAAAAAAOg/AAAAAAAA6D8AAAAAAADoPwAAAAAAAOg/AAAAAAAA6D8AAAAAAADoPwAAAAAAAOg/AAAAAAAA6D8AAAAAAADoPwAAAAAAAOg/AAAAAAAA6D8AAAAAAADoPwAAAAAAAOg/AAAAAAAA6D+y8sRdIwfqP2XlibtGDuw/F9hOGWoV7j/PikYCvvnvP7PD1OX2h+8/lvxiyS8W7z96NfGsaKTuP15uf5ChMu4/QacNdNrA7T8k4JtXE0/tPwgZKjtM3ew/7FG4HoVr7D/PikYCvvnrP7PD1OX2h+s/lvxiyS8W6z96NfGsaKTqP11uf5ChMuo/SS1FkA7A6T8Qn2FXgNzoP9cQfh7y+Oc/noKa5WMV5z+WaXCqFzjmP3qi/o1QxuU/XduMcYlU5T9BFBtVwuLkPyRNqTj7cOQ/CIY3HDT/4z/rvsX/bI3jP8/3U+OlG+M/sjDixt6p4j+WaXCqFzjiP3qi/o1QxuE/XduMcYlU4T9BFBtVwuLgPyRNqTj7cOA/WJPE/m8B4D8szHa8ys7gPwEFKXolnOE/1j3bN4Bp4j+21U1iIz3jP+DlYza6fOQ/CvZ5ClG85T80BpDe5/vmP18WprJ+O+g/iSa8hhV76T8KaxfzsLPqP19CewntJes/tBnfHymY6z8J8UI2ZQrsP17IpkyhfOw/s58KY93u7D8Id255GWHtP15O0o9V0+0/siU2ppFF7j8I/Zm8zbfuP13U/dIJKu8/sqth6UWc7z/6EV3bjPHvP95K677Ff+8/wYN5ov4N7z+lvAeGN5zuP4j1lWlwKu4/bC4kTam47T9QZ7Iw4kbtPzOgQBQb1ew/FtnO91Nj7D/6EV3bjPHrP95K677Ff+s/wYN5ov4N6z+lvAeGN5zqP4j1lWlwKuo/bC4kTam46T9PZ7Iw4kbpPzOgQBQb1eg/F9nO91Nj6D9Y2r8hHRLoP1dvHfu9oOg/VQR71F4v6T9Tmdit/73pP1IuNoegTOo/UMOTYEHb6j9OWPE54mnrP0ztThOD+Os/SoKs7COH7D9JFwrGxBXtP0esZ59lpO0/RUHFeAYz7j9E1iJSp8HuP0JrgCtIUO8/QADeBOne7z92TPBgnqjvP1mFfkTXNu8/PL4MKBDF7j8g95oLSVPuPwQwKe+B4e0/52i30rpv7T/LoUW28/3sP67a05ksjOw/khNifWUa7D92TPBgnqjrPw==\",\"dtype\":\"float64\",\"shape\":[1001]}}},\"id\":\"25418bd9-b9f3-4f62-9858-1a1ef1cbc176\",\"type\":\"ColumnDataSource\"},{\"attributes\":{},\"id\":\"e88d32ed-3d1e-4eff-ba79-097aae7b5969\",\"type\":\"BasicTickFormatter\"},{\"attributes\":{\"data_source\":{\"id\":\"3038e605-b719-44e2-baec-e7862424c7d4\",\"type\":\"ColumnDataSource\"},\"glyph\":{\"id\":\"f0d904ce-8c99-4e63-9e3f-ad6c2d3f2fe5\",\"type\":\"Line\"},\"hover_glyph\":null,\"nonselection_glyph\":{\"id\":\"fed9a320-e1bf-4dd1-86f5-d804bcdbdb21\",\"type\":\"Line\"},\"selection_glyph\":null},\"id\":\"834cf85c-7ebc-4317-80c0-430c9e229114\",\"type\":\"GlyphRenderer\"},{\"attributes\":{\"line_color\":{\"value\":\"#e41a1c\"},\"line_width\":{\"value\":2},\"x\":{\"field\":\"x\"},\"y\":{\"field\":\"y\"}},\"id\":\"59eb9786-39c9-4c4e-b920-15b27dc08164\",\"type\":\"Line\"},{\"attributes\":{\"line_alpha\":{\"value\":0.1},\"line_color\":{\"value\":\"#1f77b4\"},\"line_width\":{\"value\":2},\"x\":{\"field\":\"x\"},\"y\":{\"field\":\"y\"}},\"id\":\"0d434654-a363-49b7-9cfa-55423f9faffa\",\"type\":\"Line\"},{\"attributes\":{\"data_source\":{\"id\":\"25418bd9-b9f3-4f62-9858-1a1ef1cbc176\",\"type\":\"ColumnDataSource\"},\"glyph\":{\"id\":\"59eb9786-39c9-4c4e-b920-15b27dc08164\",\"type\":\"Line\"},\"hover_glyph\":null,\"nonselection_glyph\":{\"id\":\"0d434654-a363-49b7-9cfa-55423f9faffa\",\"type\":\"Line\"},\"selection_glyph\":null},\"id\":\"d79fffdb-bec4-4de7-b6fc-cfa9aa208f70\",\"type\":\"GlyphRenderer\"},{\"attributes\":{\"line_color\":{\"value\":\"#984ea3\"},\"line_width\":{\"value\":2},\"x\":{\"field\":\"x\"},\"y\":{\"field\":\"y\"}},\"id\":\"24ea80e4-cf38-44b2-8602-f9bb5663727e\",\"type\":\"Line\"},{\"attributes\":{\"callback\":null,\"column_names\":[\"x\",\"y\"],\"data\":{\"x\":[0,1000,2000,3000,4000,5000,6000,7000,8000,9000,10000,11000,12000,13000,14000,15000,16000,17000,18000,19000,20000,21000,22000,23000,24000,25000,26000,27000,28000,29000,30000,31000,32000,33000,34000,35000,36000,37000,38000,39000,40000,41000,42000,43000,44000,45000,46000,47000,48000,49000,50000,51000,52000,53000,54000,55000,56000,57000,58000,59000,60000,61000,62000,63000,64000,65000,66000,67000,68000,69000,70000,71000,72000,73000,74000,75000,76000,77000,78000,79000,80000,81000,82000,83000,84000,85000,86000,87000,88000,89000,90000,91000,92000,93000,94000,95000,96000,97000,98000,99000,100000,101000,102000,103000,104000,105000,106000,107000,108000,109000,110000,111000,112000,113000,114000,115000,116000,117000,118000,119000,120000,121000,122000,123000,124000,125000,126000,127000,128000,129000,130000,131000,132000,133000,134000,135000,136000,137000,138000,139000,140000,141000,142000,143000,144000,145000,146000,147000,148000,149000,150000,151000,152000,153000,154000,155000,156000,157000,158000,159000,160000,161000,162000,163000,164000,165000,166000,167000,168000,169000,170000,171000,172000,173000,174000,175000,176000,177000,178000,179000,180000,181000,182000,183000,184000,185000,186000,187000,188000,189000,190000,191000,192000,193000,194000,195000,196000,197000,198000,199000,200000,201000,202000,203000,204000,205000,206000,207000,208000,209000,210000,211000,212000,213000,214000,215000,216000,217000,218000,219000,220000,221000,222000,223000,224000,225000,226000,227000,228000,229000,230000,231000,232000,233000,234000,235000,236000,237000,238000,239000,240000,241000,242000,243000,244000,245000,246000,247000,248000,249000,250000,251000,252000,253000,254000,255000,256000,257000,258000,259000,260000,261000,262000,263000,264000,265000,266000,267000,268000,269000,270000,271000,272000,273000,274000,275000,276000,277000,278000,279000,280000,281000,282000,283000,284000,285000,286000,287000,288000,289000,290000,291000,292000,293000,294000,295000,296000,297000,298000,299000,300000,301000,302000,303000,304000,305000,306000,307000,308000,309000,310000,311000,312000,313000,314000,315000,316000,317000,318000,319000,320000,321000,322000,323000,324000,325000,326000,327000,328000,329000,330000,331000,332000,333000,334000,335000,336000,337000,338000,339000,340000,341000,342000,343000,344000,345000,346000,347000,348000,349000,350000,351000,352000,353000,354000,355000,356000,357000,358000,359000,360000,361000,362000,363000,364000,365000,366000,367000,368000,369000,370000,371000,372000,373000,374000,375000,376000,377000,378000,379000,380000,381000,382000,383000,384000,385000,386000,387000,388000,389000,390000,391000,392000,393000,394000,395000,396000,397000,398000,399000,400000,401000,402000,403000,404000,405000,406000,407000,408000,409000,410000,411000,412000,413000,414000,415000,416000,417000,418000,419000,420000,421000,422000,423000,424000,425000,426000,427000,428000,429000,430000,431000,432000,433000,434000,435000,436000,437000,438000,439000,440000,441000,442000,443000,444000,445000,446000,447000,448000,449000,450000,451000,452000,453000,454000,455000,456000,457000,458000,459000,460000,461000,462000,463000,464000,465000,466000,467000,468000,469000,470000,471000,472000,473000,474000,475000,476000,477000,478000,479000,480000,481000,482000,483000,484000,485000,486000,487000,488000,489000,490000,491000,492000,493000,494000,495000,496000,497000,498000,499000,500000,501000,502000,503000,504000,505000,506000,507000,508000,509000,510000,511000,512000,513000,514000,515000,516000,517000,518000,519000,520000,521000,522000,523000,524000,525000,526000,527000,528000,529000,530000,531000,532000,533000,534000,535000,536000,537000,538000,539000,540000,541000,542000,543000,544000,545000,546000,547000,548000,549000,550000,551000,552000,553000,554000,555000,556000,557000,558000,559000,560000,561000,562000,563000,564000,565000,566000,567000,568000,569000,570000,571000,572000,573000,574000,575000,576000,577000,578000,579000,580000,581000,582000,583000,584000,585000,586000,587000,588000,589000,590000,591000,592000,593000,594000,595000,596000,597000,598000,599000,600000,601000,602000,603000,604000,605000,606000,607000,608000,609000,610000,611000,612000,613000,614000,615000,616000,617000,618000,619000,620000,621000,622000,623000,624000,625000,626000,627000,628000,629000,630000,631000,632000,633000,634000,635000,636000,637000,638000,639000,640000,641000,642000,643000,644000,645000,646000,647000,648000,649000,650000,651000,652000,653000,654000,655000,656000,657000,658000,659000,660000,661000,662000,663000,664000,665000,666000,667000,668000,669000,670000,671000,672000,673000,674000,675000,676000,677000,678000,679000,680000,681000,682000,683000,684000,685000,686000,687000,688000,689000,690000,691000,692000,693000,694000,695000,696000,697000,698000,699000,700000,701000,702000,703000,704000,705000,706000,707000,708000,709000,710000,711000,712000,713000,714000,715000,716000,717000,718000,719000,720000,721000,722000,723000,724000,725000,726000,727000,728000,729000,730000,731000,732000,733000,734000,735000,736000,737000,738000,739000,740000,741000,742000,743000,744000,745000,746000,747000,748000,749000,750000,751000,752000,753000,754000,755000,756000,757000,758000,759000,760000,761000,762000,763000,764000,765000,766000,767000,768000,769000,770000,771000,772000,773000,774000,775000,776000,777000,778000,779000,780000,781000,782000,783000,784000,785000,786000,787000,788000,789000,790000,791000,792000,793000,794000,795000,796000,797000,798000,799000,800000,801000,802000,803000,804000,805000,806000,807000,808000,809000,810000,811000,812000,813000,814000,815000,816000,817000,818000,819000,820000,821000,822000,823000,824000,825000,826000,827000,828000,829000,830000,831000,832000,833000,834000,835000,836000,837000,838000,839000,840000,841000,842000,843000,844000,845000,846000,847000,848000,849000,850000,851000,852000,853000,854000,855000,856000,857000,858000,859000,860000,861000,862000,863000,864000,865000,866000,867000,868000,869000,870000,871000,872000,873000,874000,875000,876000,877000,878000,879000,880000,881000,882000,883000,884000,885000,886000,887000,888000,889000,890000,891000,892000,893000,894000,895000,896000,897000,898000,899000,900000,901000,902000,903000,904000,905000,906000,907000,908000,909000,910000,911000,912000,913000,914000,915000,916000,917000,918000,919000,920000,921000,922000,923000,924000,925000,926000,927000,928000,929000,930000,931000,932000,933000,934000,935000,936000,937000,938000,939000,940000,941000,942000,943000,944000,945000,946000,947000,948000,949000,950000,951000,952000,953000,954000,955000,956000,957000,958000,959000,960000,961000,962000,963000,964000,965000,966000,967000,968000,969000,970000,971000,972000,973000,974000,975000,976000,977000,978000,979000,980000,981000,982000,983000,984000,985000,986000,987000,988000,989000,990000,991000,992000,993000,994000,995000,996000,997000,998000,999000,1000000],\"y\":{\"__ndarray__\":\"AAAAAAAAAAAAAAAAAAAAAAAAAAAAAAAAAAAAAAAAAAAAAAAAAAAAAAAAAAAAAAAAAAAAAAAAAAAAAAAAAAAAAAAAAAAAAAAAAAAAAAAAAAAAAAAAAAAAAAAAAAAAAAAAAAAAAAAAAAAAAAAAAAAAAAAAAAAAAAAAAAAAAAAAAAAAAAAAAAAAAAAAAAAAAAAAAAAAAAAAAAAAAAAAAAAAAAAAAAAAAAAAAAAAAAAAAAAAAAAAAAAAAAAAAAAAAAAAAAAAAAAAAAAAAAAAAAAAAAAAAAAAAAAAAAAAAAAAAAAAAAAAAAAAAAAAAAAAAAAAAAAAAAAAAAAAAAAAAAAAAAAAAAAAAAAAAAAAAAAAAAAAAAAAAAAAAAAAAAAAAAAAAAAAAAAAAAAAAAAAAAAAAAAAAAAAAAAAAAAAAAAAAAAAAAAAAAAAAAAAAAAAAAAAAAAAAAAAAAAAAAAAAAAAAAAAAAAAAAAAAAAAAAAAAAAAAAAAAAAAAAAAAAAAAAAAAAAAAAAAAAAAAAAAAAAAAAAAAAAAAAAAAAAAAAAAAAAAAAAAAAAAAAAAAAAAAAAAAAAAAAAAAAAAAAAAAAAAAAAAAAAAAAAAAAAAAAAAAAAAAAAAAAAAAAAAAAAAAAAAAAAAAAAAAAAAAAAAAAAAAAAAAAAAAAAAAAAAAAAAAAAAAAAAAAAAAAAAAAAAAAAAAAAAAAAAAAAAAAAAAAAAAAAAAAAAAAAAAAAAAAAAAAAAAAAAAAAAAAAAAAAAAAAAAAAAAAAAAAAAAAAAAAAAAAAAAAAAAAAAAAAAAAAAAAAAAAAAAAAAAAAAAAAAAAAAAAAAAAAAAAAAAAAAAAAAAAAAAAAAAAAAAAAAAAAAAAAAAAAAAAAAAAAAAAAAAAAAAAAAAAAAAAAAAAAAAAAAAAAAAAAAAAAAAAAAAAAAAAAAAAAAAAAAAAAAAAAAAAAAAAAAAAAAAAAAAAAAAAAAAAAAAAAAAAAAAAAAAAAAAAAAAAAAAAAAAAAAAAAAAAAAAAAAAAAAAAAAAAAAAAAAAAAAAAAAAAAAAAAAAAAAAAAAAAAAAAAAAAAAAAAAAAAAAAAAAAAAAAAAAAAAAAAAAAAAAAAAAAAAAAAAAAAAAAAAAAAAAAAAAAAAAAAAAAAAAAAAAAAAAAAAAAAAAAAAAAAAAAAAAAAAAAAAAAAAAAAAAAAAAAAAAAAAAAAAAAAAAAAAAAAAAAAAAAAAAAAAAAAAAAAAAAAAAAAAAAAAAAAAAAAAAAAAAAAAAAAAAAAAAAAAAAAAAAAAAAAAAAAAAAAAAAAAAAAAAAAAAAAAAAAAAAAAAAAAAAAAAAAAAAAAAAAAAAAAAAAAAAAAAAAAAAAAAAAAAAAAAAAAAAAAAAAAAAAAAAAAAAAAAAAAAAAAAAAAAAAAAAAAAAAAAAAAAAAAAAAAAAAAAAAAAAAAAAAAAAAAAAAAAAAAAAAAAAAAAAAAAAAAAAAAAAAAAAAAAAAAAAAAAAAAAAAAAAAAAAAAAAAAAAAAAAAAAAAAAAAAAAAAAAAAAAAAAAAAAAAAAAAAAAAAAAAAAAAAAAAAAAAAAAAAAAAAAAAAAAAAAAAAAAAAAAAAAAAAAAAAAAAAAAAAAAAAAAAAAAAAAAAAAAAAAAAAAAAAAAAAAAAAAAAAAAAAAAAAAAAAAAAAAAAAAAAAAAAAAAAAAAAAAAAAAAAAAAAAAAAAAAAAAAAAAAAAAAAAAAAAAAAAAAAAAAAAAAAAAAAAAAAAAAAAAAAAAAAAAAAAAAAAAAAAAAAAAAAAAAAAAAAAAAAAAAAAAAAAAAAAAAAAAAAAAAAAAAAAAAAAAAAAAAAAAAAAAAAAAAAAAAAAAAAAAAAAAAAAAAAAAAAAAAAAAAAAAAAAAAAAAAAAAAAAAAAAAAAAAAAAAAAAAAAAAAAAAAAAAAAAAAAAAAAAAAAAAAAAAAAAAAAAAAAAAAAAAAAAAAAAAAAAAAAAAAAAAAAAAAAAAAAAAAAAAAAAAAAAAAAAAAAAAAAAAAAAAAAAAAAAAAAAAAAAAAAAAAAAAAAAAAAAAAAAAAAAAAAAAAAAAAAAAAAAAAAAAAAAAAAAAAAAAAAAAAAAAAAAAAAAAAAAAAAAAAAAAAAAAAAAAAAAAAAAAAAAAAAAAAAAAAAAAAAAAAAAAAAAAAAAAAAAAAAAAAAAAAAAAAAAAAAAAAAAAAAAAAAAAAAAAAAAAAAAAAAAAAAAAAAAAAAAAAAAAAAAAAAAAAAAAAAAAAAAAAAAAAAAAAAAAAAAAAAAAAAAAAAAAAAAAAAAAAAAAAAAAAAAAAAAAAAAAAAAAAAAAAAAAAAAAAAAAAAAAAAAAAAAAAAAAAAAAAAAAAAAAAAAAAAAAAAAAAAAAAAAAAAAAAAAAAAAAAAAAAAAAAAAAAAAAAAAAAAAAAAAAAAAAAAAAAAAAAAAAAAAAAAAAAAAAAAAAAAAAAAAAAAAAAAAAAAAAAAAAAAAAAAAAAAAAAAAAAAAAAD3CnvjIfmYP/cKe+Mh+ag/OUicatm6sj/3CnvjIfm4P7XNWVxqN78/OUicatm6wj+YqQun/dnFP/cKe+Mh+cg/VmzqH0YYzD+1zVlcajfPP/AU1Cwfq84/fvgMuwLkzD8M3EVJ5hzLP5q/ftfJVck/KaO3Za2Oxz+3hvDzkMfFP0VqKYJ0AMQ/001iEFg5wj9hMZueO3LAP98pqFk+Vr0//PAZdgXIuT8YuIuSzDm2PzR//a6Tq7I/oozelrU6rj/aGsLPQx6nPxOppQjSAaA/mG4Sg8DKkT9LWMym545sPwAAAAAAAAAAAAAAAAAAAAAAAAAAAAAAAAAAAAAAAAAAAAAAAAAAAAAAAAAAAAAAAAAAAAAAAAAAAAAAAAAAAAAAAAAAAAAAAAAAAAAAAAAAAAAAAAAAAAAAAAAAAAAAAAAAAAAAAAAAAAAAAAAAAAAAAAAAAAAAAAAAAAAAAAAAAAAAAAAAAAAAAAAAAAAAAC/sbq/314o/wkmaeWlXnz+3jr6Na6GoP0b8Vy+Ry7A/MbHQl2xGtT8cZkkASMG5PwYbwmgjPL4/+WedaH9bwT9uwtkc7ZjDP+McFtFa1sU/WXdShcgTyD/O0Y45NlHKP0Msy+2jjsw/uYYHohHMzj8AAAAAAADQPwAAAAAAANA/AAAAAAAA0D8AAAAAAADQPwAAAAAAANA/AAAAAAAA0D8AAAAAAADQPwAAAAAAANA/AAAAAAAA0D8AAAAAAADQPwAAAAAAANA/AAAAAAAA0D8AAAAAAADQPwAAAAAAANA/AAAAAAAA0D8AAAAAAADQPwAAAAAAANA/AAAAAAAA0D8AAAAAAADQPwAAAAAAANA/AAAAAAAA0D8AAAAAAADQPwAAAAAAANA/AAAAAAAA0D8AAAAAAADQPwAAAAAAANA/AAAAAAAA0D8AAAAAAADQPwAAAAAAANA/AAAAAAAA0D8AAAAAAADQPwAAAAAAANA/////////zz8AAAAAAADQPwAAAAAAANA/////////zz8AAAAAAADQPwAAAAAAANA/////////zz8AAAAAAADQPwAAAAAAANA/AAAAAAAA0D8AAAAAAADQPwAAAAAAANA/AAAAAAAA0D8AAAAAAADQPwAAAAAAANA/AAAAAAAA0D9Fv/5GnqHRP4p+/Y08Q9M/zz381Nrk1D8U/fobeYbWP1i8+WIXKNg/nnv4qbXJ2T/iOvfwU2vbPyj69TfyDN0/bLn0fpCu3j87JngwT9TfPwKYlPfA8N4/yQmxvjIN3j+Qe82FpCndP1jt6UwWRtw/Hl8GFIhi2z/m0CLb+X7aP6xCP6Jrm9k/dLRbad232D87JngwT9TXPwKYlPfA8NY/yQmxvjIN1j+Qe82FpCnVP1ft6UwWRtQ/Hl8GFIhi0z/l0CLb+X7SP6xCP6Jrm9E/dLRbad230D+zpfHPnEHQP7TkpjVYl9E/tiNcmxPt0j+4YhEBz0LUP7qhxmaKmNU/u+B7zEXu1j+9HzEyAUTYP79e5pe8mdk/wJ2b/Xfv2j/C3FBjM0XcP8QbBsnumt0/xlq7Lqrw3j8AAAAAAADgPwAAAAAAAOA/AAAAAAAA4D8AAAAAAADgPwAAAAAAAOA/AAAAAAAA4D8AAAAAAADgPwAAAAAAAOA/AAAAAAAA4D8AAAAAAADgPwAAAAAAAOA/AAAAAAAA4D8AAAAAAADgPwAAAAAAAOA/AAAAAAAA4D9QhczPaXngP6AKmZ/T8uA/749lbz1s4T8/FTI/p+XhP4+a/g4RX+I/3x/L3nrY4j8vpZeu5FHjP38qZH5Oy+M/zq8wTrhE5D8eNf0dIr7kP266ye2LN+U/vj+WvfWw5T8OxWKNXyrmP15KL13Jo+Y/rs/7LDMd5z/9VMj8nJbnPyRNqTj78Oc/CIY3HDR/5z/svsX/bA3nP8/3U+Olm+Y/sjDixt4p5j+WaXCqF7jlP3qi/o1QRuU/XduMcYnU5D9BFBtVwmLkPyRNqTj78OM/CIY3HDR/4z/rvsX/bA3jP8/3U+Olm+I/sjDixt4p4j+WaXCqF7jhP3qi/o1QRuE/XduMcYnU4D9BFBtVwmLgPwAAAAAAAOA/AAAAAAAA4D8AAAAAAADgPwAAAAAAAOA/AAAAAAAA4D8AAAAAAADgPwAAAAAAAOA/AAAAAAAA4D8AAAAAAADgPwAAAAAAAOA/AAAAAAAA4D8AAAAAAADgPwAAAAAAAOA/AAAAAAAA4D8AAAAAAADgPwAAAAAAAOA/AAAAAAAA4D8AAAAAAADgP2tqjSvQFuA/b9YZ4qPD4D90QqaYd3DhP3iuMk9LHeI/fBq/BR/K4j+Bhku88nbjP4Xy13LGI+Q/iV5kKZrQ5D+OyvDfbX3lP5I2fZZBKuY/lqIJTRXX5j+aDpYD6YPnPwAAAAAAAOg/AAAAAAAA6D8AAAAAAADoPwAAAAAAAOg/AAAAAAAA6D8AAAAAAADoPwAAAAAAAOg/AAAAAAAA6D8AAAAAAADoPwAAAAAAAOg/AAAAAAAA6D8AAAAAAADoPwAAAAAAAOg/AAAAAAAA6D8AAAAAAADoPwAAAAAAAOg/AAAAAAAA6D8AAAAAAADoPwAAAAAAAOg/AAAAAAAA6D8AAAAAAADoPwAAAAAAAOg/AAAAAAAA6D8AAAAAAADoPwAAAAAAAOg/AAAAAAAA6D8AAAAAAADoPwAAAAAAAOg/AAAAAAAA6D8AAAAAAADoPwAAAAAAAOg/AAAAAAAA6D8AAAAAAADoPwAAAAAAAOg/AAAAAAAA6D8AAAAAAADoPwAAAAAAAOg/AAAAAAAA6D8AAAAAAADoPwAAAAAAAOg/AAAAAAAA6D8AAAAAAADoPwAAAAAAAOg/AAAAAAAA6D8AAAAAAADoPwAAAAAAAOg/AAAAAAAA6D8AAAAAAADoPwAAAAAAAOg/AAAAAAAA6D8AAAAAAADoPwAAAAAAAOg/AAAAAAAA6D8AAAAAAADoPwAAAAAAAOg/AAAAAAAA6D8AAAAAAADoPwAAAAAAAOg/AAAAAAAA6D8AAAAAAADoPwAAAAAAAOg/AAAAAAAA6D8AAAAAAADoPwAAAAAAAOg/AAAAAAAA6D8AAAAAAADoPwAAAAAAAOg/AAAAAAAA6D8AAAAAAADoPwAAAAAAAOg/AAAAAAAA6D8AAAAAAADoPwAAAAAAAOg/AAAAAAAA6D8AAAAAAADoPwAAAAAAAOg/AAAAAAAA6D8AAAAAAADoPwAAAAAAAOg/AAAAAAAA6D8AAAAAAADoPwAAAAAAAOg/AAAAAAAA6D8AAAAAAADoPwAAAAAAAOg/AAAAAAAA6D8AAAAAAADoPwAAAAAAAOg/AAAAAAAA6D8AAAAAAADoPwAAAAAAAOg/AAAAAAAA6D8AAAAAAADoPwAAAAAAAOg/AAAAAAAA6D8AAAAAAADoPwAAAAAAAOg/AAAAAAAA6D8AAAAAAADoPwAAAAAAAOg/AAAAAAAA6D8AAAAAAADoPwAAAAAAAOg/AAAAAAAA6D8AAAAAAADoPwAAAAAAAOg/AAAAAAAA6D8AAAAAAADoPwAAAAAAAOg/AAAAAAAA6D8AAAAAAADoPwAAAAAAAOg/AAAAAAAA6D8AAAAAAADoPwAAAAAAAOg/AAAAAAAA6D8AAAAAAADoPwAAAAAAAOg/AAAAAAAA6D8AAAAAAADoPwAAAAAAAOg/AAAAAAAA6D8AAAAAAADoPwAAAAAAAOg/AAAAAAAA6D8AAAAAAADoPwAAAAAAAOg/AAAAAAAA6D8AAAAAAADoPwAAAAAAAOg/AAAAAAAA6D8AAAAAAADoPwAAAAAAAOg/AAAAAAAA6D8AAAAAAADoPwAAAAAAAOg/AAAAAAAA6D8AAAAAAADoPwAAAAAAAOg/AAAAAAAA6D8AAAAAAADoPwAAAAAAAOg/AAAAAAAA6D8AAAAAAADoPwAAAAAAAOg/AAAAAAAA6D8AAAAAAADoPwAAAAAAAOg/AAAAAAAA6D8AAAAAAADoPwAAAAAAAOg/AAAAAAAA6D8AAAAAAADoPwAAAAAAAOg/AAAAAAAA6D8AAAAAAADoPwAAAAAAAOg/AAAAAAAA6D8AAAAAAADoPwAAAAAAAOg/AAAAAAAA6D8AAAAAAADoPwAAAAAAAOg/AAAAAAAA6D8AAAAAAADoPwAAAAAAAOg/AAAAAAAA6D8AAAAAAADoPwAAAAAAAOg/AAAAAAAA6D8AAAAAAADoPwAAAAAAAOg/AAAAAAAA6D8AAAAAAADoPwAAAAAAAOg/AAAAAAAA6D8AAAAAAADoPwAAAAAAAOg/AAAAAAAA6D8AAAAAAADoPwAAAAAAAOg/AAAAAAAA6D8AAAAAAADoPwAAAAAAAOg/AAAAAAAA6D8AAAAAAADoPwAAAAAAAOg/AAAAAAAA6D8AAAAAAADoPwAAAAAAAOg/AAAAAAAA6D8AAAAAAADoPwAAAAAAAOg/AAAAAAAA6D8AAAAAAADoPwAAAAAAAOg/AAAAAAAA6D8AAAAAAADoPwAAAAAAAOg/AAAAAAAA6D8AAAAAAADoPwAAAAAAAOg/AAAAAAAA6D8AAAAAAADoPwAAAAAAAOg/AAAAAAAA6D8AAAAAAADoPwAAAAAAAOg/AAAAAAAA6D8AAAAAAADoPwAAAAAAAOg/AAAAAAAA6D8AAAAAAADoPwAAAAAAAOg/AAAAAAAA6D8AAAAAAADoPwAAAAAAAOg/AAAAAAAA6D8AAAAAAADoPwAAAAAAAOg/AAAAAAAA6D8AAAAAAADoPwAAAAAAAOg/AAAAAAAA6D8AAAAAAADoPwAAAAAAAOg/AAAAAAAA6D8AAAAAAADoPwAAAAAAAOg/AAAAAAAA6D8AAAAAAADoPwAAAAAAAOg/AAAAAAAA6D8AAAAAAADoPwAAAAAAAOg/AAAAAAAA6D8AAAAAAADoPwAAAAAAAOg/AAAAAAAA6D8AAAAAAADoPwAAAAAAAOg/AAAAAAAA6D8AAAAAAADoPwAAAAAAAOg/AAAAAAAA6D8AAAAAAADoPwAAAAAAAOg/AAAAAAAA6D8AAAAAAADoPwAAAAAAAOg/AAAAAAAA6D8AAAAAAADoPwAAAAAAAOg/AAAAAAAA6D8AAAAAAADoPwAAAAAAAOg/AAAAAAAA6D8AAAAAAADoPwAAAAAAAOg/AAAAAAAA6D8AAAAAAADoPwAAAAAAAOg/AAAAAAAA6D8AAAAAAADoPwAAAAAAAOg/AAAAAAAA6D8AAAAAAADoPwAAAAAAAOg/AAAAAAAA6D8AAAAAAADoPwAAAAAAAOg/AAAAAAAA6D8AAAAAAADoPwAAAAAAAOg/AAAAAAAA6D8AAAAAAADoPwAAAAAAAOg/AAAAAAAA6D8AAAAAAADoPwAAAAAAAOg/AAAAAAAA6D8AAAAAAADoPwAAAAAAAOg/AAAAAAAA6D8AAAAAAADoPwAAAAAAAOg/AAAAAAAA6D8AAAAAAADoPwAAAAAAAOg/AAAAAAAA6D8AAAAAAADoPwAAAAAAAOg/AAAAAAAA6D8AAAAAAADoPwAAAAAAAOg/AAAAAAAA6D8AAAAAAADoPwAAAAAAAOg/AAAAAAAA6D8AAAAAAADoPwAAAAAAAOg/AAAAAAAA6D8AAAAAAADoPwAAAAAAAOg/AAAAAAAA6D8AAAAAAADoPwAAAAAAAOg/AAAAAAAA6D8AAAAAAADoPwAAAAAAAOg/AAAAAAAA6D8AAAAAAADoPwAAAAAAAOg/AAAAAAAA6D+8voVxzeXoP3l9C+Oay+k/NTyRVGix6j/y+hbGNZfrP665nDcDfew/a3giqdBi7T8nN6gankjuP+T1LYxrLu8/GN5w0Pz17z/8Fv+zNYTvP99PjZduEu8/w4gbe6eg7j+mwale4C7uP4r6N0IZve0/bjPGJVJL7T9RbFQJi9nsPzSl4uzDZ+w/GN5w0Pz16z/8Fv+zNYTrP99PjZduEus/w4gbe6eg6j+mwale4C7qP4r6N0IZvek/bjPGJVJL6T9RbFQJi9noPzWl4uzDZ+g/AAAAAAAA6D8AAAAAAADoPwAAAAAAAOg/AAAAAAAA6D8AAAAAAADoPwAAAAAAAOg/AAAAAAAA6D8AAAAAAADoPwAAAAAAAOg/AAAAAAAA6D8AAAAAAADoPwAAAAAAAOg/AAAAAAAA6D8AAAAAAADoPwAAAAAAAOg/AAAAAAAA6D8AAAAAAADoPwAAAAAAAOg/AAAAAAAA6D8AAAAAAADoPwAAAAAAAOg/AAAAAAAA6D8AAAAAAADoPwAAAAAAAOg/AAAAAAAA6D8AAAAAAADoPwAAAAAAAOg/AAAAAAAA6D8AAAAAAADoPwAAAAAAAOg/AAAAAAAA6D8AAAAAAADoPwAAAAAAAOg/AAAAAAAA6D8AAAAAAADoPwAAAAAAAOg/AAAAAAAA6D8AAAAAAADoPwAAAAAAAOg/AAAAAAAA6D8AAAAAAADoPwAAAAAAAOg/AAAAAAAA6D8AAAAAAADoPwAAAAAAAOg/AAAAAAAA6D8AAAAAAADoPwAAAAAAAOg/AAAAAAAA6D8AAAAAAADoPwAAAAAAAOg/AAAAAAAA6D8AAAAAAADoPwAAAAAAAOg/AAAAAAAA6D8AAAAAAADoPwAAAAAAAOg/AAAAAAAA6D8AAAAAAADoPwAAAAAAAOg/AAAAAAAA6D8AAAAAAADoPwAAAAAAAOg/AAAAAAAA6D8AAAAAAADoPwAAAAAAAOg/AAAAAAAA6D8AAAAAAADoPwAAAAAAAOg/AAAAAAAA6D8AAAAAAADoPwAAAAAAAOg/4TfyYIIL6D9q4Wz0S47oP/KK54cVEek/ejRiG9+T6T8D3tyuqBbqP4yHV0Jymeo/FDHS1Tsc6z+c2kxpBZ/rPyWEx/zOIew/ri1CkJik7D8217wjYiftP76AN7crqu0/RyqySvUs7j/Q0yzevq/uP1h9p3GIMu8/4CYiBVK17z+2OiZ4MM/vP5lztFtpXe8/faxCP6Lr7j9g5dAi23nuP0QeXwYUCO4/KFft6UyW7T8LkHvNhSTtP+7ICbG+suw/0gGYlPdA7D+2OiZ4MM/rP5lztFtpXes/faxCP6Lr6j9g5dAi23nqP0QeXwYUCOo/J1ft6UyW6T8LkHvNhSTpP+7ICbG+sug/0gGYlPdA6D9aibVrxEjoP/l1GlBj8ug/mGJ/NAKc6T82T+QYoUXqP9U7Sf0/7+o/dCiu4d6Y6z8TFRPGfULsP7IBeKoc7Ow/Ue7cjruV7T/w2kFzWj/uP4/Hplf56O4/LrQLPJiS7z8AAAAAAADwPwAAAAAAAPA/AAAAAAAA8D8AAAAAAADwPwAAAAAAAPA/AAAAAAAA8D8AAAAAAADwPwAAAAAAAPA/AAAAAAAA8D8AAAAAAADwPwAAAAAAAPA/AAAAAAAA8D8AAAAAAADwPwAAAAAAAPA/AAAAAAAA8D8AAAAAAADwPwAAAAAAAPA/AAAAAAAA8D8AAAAAAADwPwAAAAAAAPA/AAAAAAAA8D8AAAAAAADwPwAAAAAAAPA/AAAAAAAA8D8AAAAAAADwPwAAAAAAAPA/AAAAAAAA8D8AAAAAAADwPwAAAAAAAPA/AAAAAAAA8D8AAAAAAADwPwAAAAAAAPA/AAAAAAAA8D8AAAAAAADwPwAAAAAAAPA/AAAAAAAA8D8AAAAAAADwPwAAAAAAAPA/AAAAAAAA8D8AAAAAAADwPwAAAAAAAPA/AAAAAAAA8D8AAAAAAADwPwAAAAAAAPA/AAAAAAAA8D8AAAAAAADwPwAAAAAAAPA/AAAAAAAA8D8AAAAAAADwPwAAAAAAAPA/AAAAAAAA8D8AAAAAAADwPwAAAAAAAPA/AAAAAAAA8D8AAAAAAADwPwAAAAAAAPA/AAAAAAAA8D8AAAAAAADwPwAAAAAAAPA/AAAAAAAA8D8AAAAAAADwPwAAAAAAAPA/AAAAAAAA8D8AAAAAAADwPwAAAAAAAPA/AAAAAAAA8D8AAAAAAADwPwAAAAAAAPA/AAAAAAAA8D8AAAAAAADwPwAAAAAAAPA/AAAAAAAA8D8AAAAAAADwPwAAAAAAAPA/AAAAAAAA8D8AAAAAAADwPwAAAAAAAPA/AAAAAAAA8D8AAAAAAADwPwAAAAAAAPA/AAAAAAAA8D8AAAAAAADwPw==\",\"dtype\":\"float64\",\"shape\":[1001]}}},\"id\":\"d1bd1d7f-7d20-4590-822a-5ba2b9172ab5\",\"type\":\"ColumnDataSource\"}],\"root_ids\":[\"a0b18990-dfcc-4c1e-a283-f0efba9e1fd1\"]},\"title\":\"Bokeh Application\",\"version\":\"0.12.4\"}};\n",
       "            var render_items = [{\"docid\":\"b45f0927-3476-4a17-83de-f34617c367b7\",\"elementid\":\"f5c56a81-30eb-4380-ade3-81f060040230\",\"modelid\":\"a0b18990-dfcc-4c1e-a283-f0efba9e1fd1\"}];\n",
       "            \n",
       "            Bokeh.embed.embed_items(docs_json, render_items);\n",
       "          };\n",
       "          if (document.readyState != \"loading\") fn();\n",
       "          else document.addEventListener(\"DOMContentLoaded\", fn);\n",
       "        })();\n",
       "      },\n",
       "      function(Bokeh) {\n",
       "      }\n",
       "    ];\n",
       "  \n",
       "    function run_inline_js() {\n",
       "      \n",
       "      if ((window.Bokeh !== undefined) || (force === true)) {\n",
       "        for (var i = 0; i < inline_js.length; i++) {\n",
       "          inline_js[i](window.Bokeh);\n",
       "        }if (force === true) {\n",
       "          display_loaded();\n",
       "        }} else if (Date.now() < window._bokeh_timeout) {\n",
       "        setTimeout(run_inline_js, 100);\n",
       "      } else if (!window._bokeh_failed_load) {\n",
       "        console.log(\"Bokeh: BokehJS failed to load within specified timeout.\");\n",
       "        window._bokeh_failed_load = true;\n",
       "      } else if (force !== true) {\n",
       "        var cell = $(document.getElementById(\"f5c56a81-30eb-4380-ade3-81f060040230\")).parents('.cell').data().cell;\n",
       "        cell.output_area.append_execute_result(NB_LOAD_WARNING)\n",
       "      }\n",
       "  \n",
       "    }\n",
       "  \n",
       "    if (window._bokeh_is_loading === 0) {\n",
       "      console.log(\"Bokeh: BokehJS loaded, going straight to plotting\");\n",
       "      run_inline_js();\n",
       "    } else {\n",
       "      load_libs(js_urls, function() {\n",
       "        console.log(\"Bokeh: BokehJS plotting callback run at\", now());\n",
       "        run_inline_js();\n",
       "      });\n",
       "    }\n",
       "  }(this));\n",
       "</script>"
      ]
     },
     "metadata": {},
     "output_type": "display_data"
    },
    {
     "name": "stderr",
     "output_type": "stream",
     "text": [
      "/usr/lib/python3.6/site-packages/bokeh/models/sources.py:81: BokehUserWarning: ColumnDataSource's columns must be of the same length\n",
      "  lambda: warnings.warn(\"ColumnDataSource's columns must be of the same length\", BokehUserWarning))\n",
      "/usr/lib/python3.6/site-packages/bokeh/models/sources.py:81: BokehUserWarning: ColumnDataSource's columns must be of the same length\n",
      "  lambda: warnings.warn(\"ColumnDataSource's columns must be of the same length\", BokehUserWarning))\n",
      "/usr/lib/python3.6/site-packages/bokeh/models/sources.py:81: BokehUserWarning: ColumnDataSource's columns must be of the same length\n",
      "  lambda: warnings.warn(\"ColumnDataSource's columns must be of the same length\", BokehUserWarning))\n",
      "/usr/lib/python3.6/site-packages/bokeh/models/sources.py:81: BokehUserWarning: ColumnDataSource's columns must be of the same length\n",
      "  lambda: warnings.warn(\"ColumnDataSource's columns must be of the same length\", BokehUserWarning))\n",
      "/usr/lib/python3.6/site-packages/bokeh/models/sources.py:81: BokehUserWarning: ColumnDataSource's columns must be of the same length\n",
      "  lambda: warnings.warn(\"ColumnDataSource's columns must be of the same length\", BokehUserWarning))\n",
      "/usr/lib/python3.6/site-packages/bokeh/models/sources.py:81: BokehUserWarning: ColumnDataSource's columns must be of the same length\n",
      "  lambda: warnings.warn(\"ColumnDataSource's columns must be of the same length\", BokehUserWarning))\n",
      "/usr/lib/python3.6/site-packages/bokeh/models/sources.py:81: BokehUserWarning: ColumnDataSource's columns must be of the same length\n",
      "  lambda: warnings.warn(\"ColumnDataSource's columns must be of the same length\", BokehUserWarning))\n",
      "/usr/lib/python3.6/site-packages/bokeh/models/sources.py:81: BokehUserWarning: ColumnDataSource's columns must be of the same length\n",
      "  lambda: warnings.warn(\"ColumnDataSource's columns must be of the same length\", BokehUserWarning))\n"
     ]
    },
    {
     "data": {
      "text/html": [
       "\n",
       "\n",
       "    <div class=\"bk-root\">\n",
       "        <div class=\"bk-plotdiv\" id=\"eb63b41f-459d-4a51-9826-acca9e9779ee\"></div>\n",
       "    </div>\n",
       "<script type=\"text/javascript\">\n",
       "  \n",
       "  (function(global) {\n",
       "    function now() {\n",
       "      return new Date();\n",
       "    }\n",
       "  \n",
       "    var force = false;\n",
       "  \n",
       "    if (typeof (window._bokeh_onload_callbacks) === \"undefined\" || force === true) {\n",
       "      window._bokeh_onload_callbacks = [];\n",
       "      window._bokeh_is_loading = undefined;\n",
       "    }\n",
       "  \n",
       "  \n",
       "    \n",
       "    if (typeof (window._bokeh_timeout) === \"undefined\" || force === true) {\n",
       "      window._bokeh_timeout = Date.now() + 0;\n",
       "      window._bokeh_failed_load = false;\n",
       "    }\n",
       "  \n",
       "    var NB_LOAD_WARNING = {'data': {'text/html':\n",
       "       \"<div style='background-color: #fdd'>\\n\"+\n",
       "       \"<p>\\n\"+\n",
       "       \"BokehJS does not appear to have successfully loaded. If loading BokehJS from CDN, this \\n\"+\n",
       "       \"may be due to a slow or bad network connection. Possible fixes:\\n\"+\n",
       "       \"</p>\\n\"+\n",
       "       \"<ul>\\n\"+\n",
       "       \"<li>re-rerun `output_notebook()` to attempt to load from CDN again, or</li>\\n\"+\n",
       "       \"<li>use INLINE resources instead, as so:</li>\\n\"+\n",
       "       \"</ul>\\n\"+\n",
       "       \"<code>\\n\"+\n",
       "       \"from bokeh.resources import INLINE\\n\"+\n",
       "       \"output_notebook(resources=INLINE)\\n\"+\n",
       "       \"</code>\\n\"+\n",
       "       \"</div>\"}};\n",
       "  \n",
       "    function display_loaded() {\n",
       "      if (window.Bokeh !== undefined) {\n",
       "        document.getElementById(\"eb63b41f-459d-4a51-9826-acca9e9779ee\").textContent = \"BokehJS successfully loaded.\";\n",
       "      } else if (Date.now() < window._bokeh_timeout) {\n",
       "        setTimeout(display_loaded, 100)\n",
       "      }\n",
       "    }\n",
       "  \n",
       "    function run_callbacks() {\n",
       "      window._bokeh_onload_callbacks.forEach(function(callback) { callback() });\n",
       "      delete window._bokeh_onload_callbacks\n",
       "      console.info(\"Bokeh: all callbacks have finished\");\n",
       "    }\n",
       "  \n",
       "    function load_libs(js_urls, callback) {\n",
       "      window._bokeh_onload_callbacks.push(callback);\n",
       "      if (window._bokeh_is_loading > 0) {\n",
       "        console.log(\"Bokeh: BokehJS is being loaded, scheduling callback at\", now());\n",
       "        return null;\n",
       "      }\n",
       "      if (js_urls == null || js_urls.length === 0) {\n",
       "        run_callbacks();\n",
       "        return null;\n",
       "      }\n",
       "      console.log(\"Bokeh: BokehJS not loaded, scheduling load and callback at\", now());\n",
       "      window._bokeh_is_loading = js_urls.length;\n",
       "      for (var i = 0; i < js_urls.length; i++) {\n",
       "        var url = js_urls[i];\n",
       "        var s = document.createElement('script');\n",
       "        s.src = url;\n",
       "        s.async = false;\n",
       "        s.onreadystatechange = s.onload = function() {\n",
       "          window._bokeh_is_loading--;\n",
       "          if (window._bokeh_is_loading === 0) {\n",
       "            console.log(\"Bokeh: all BokehJS libraries loaded\");\n",
       "            run_callbacks()\n",
       "          }\n",
       "        };\n",
       "        s.onerror = function() {\n",
       "          console.warn(\"failed to load library \" + url);\n",
       "        };\n",
       "        console.log(\"Bokeh: injecting script tag for BokehJS library: \", url);\n",
       "        document.getElementsByTagName(\"head\")[0].appendChild(s);\n",
       "      }\n",
       "    };var element = document.getElementById(\"eb63b41f-459d-4a51-9826-acca9e9779ee\");\n",
       "    if (element == null) {\n",
       "      console.log(\"Bokeh: ERROR: autoload.js configured with elementid 'eb63b41f-459d-4a51-9826-acca9e9779ee' but no matching script tag was found. \")\n",
       "      return false;\n",
       "    }\n",
       "  \n",
       "    var js_urls = [];\n",
       "  \n",
       "    var inline_js = [\n",
       "      function(Bokeh) {\n",
       "        (function() {\n",
       "          var fn = function() {\n",
       "            var docs_json = {\"de92dfb7-db1a-4e59-942e-25b6feb443a9\":{\"roots\":{\"references\":[{\"attributes\":{\"plot\":{\"id\":\"ecaec224-c912-4974-b2d9-e9a39da9b718\",\"subtype\":\"Figure\",\"type\":\"Plot\"}},\"id\":\"983e1fec-ae57-4cdc-8104-99041ea71d8b\",\"type\":\"ResetTool\"},{\"attributes\":{\"items\":[{\"id\":\"96c00130-5713-41d4-b06b-edb2b3867179\",\"type\":\"LegendItem\"},{\"id\":\"ad8dfd0a-24c0-44b1-9e8a-2779ee1f9c0a\",\"type\":\"LegendItem\"},{\"id\":\"bee02987-cdbd-42f7-86aa-51fc84e1b2eb\",\"type\":\"LegendItem\"},{\"id\":\"4075e471-907a-4067-b318-d421ee6bb6bf\",\"type\":\"LegendItem\"}],\"location\":[0,-30],\"plot\":{\"id\":\"ecaec224-c912-4974-b2d9-e9a39da9b718\",\"subtype\":\"Figure\",\"type\":\"Plot\"}},\"id\":\"719807e4-f23d-40ef-be55-669304797143\",\"type\":\"Legend\"},{\"attributes\":{\"callback\":null,\"column_names\":[\"x\",\"y\"],\"data\":{\"x\":[0,1000,2000,3000,4000,5000,6000,7000,8000,9000,10000,11000,12000,13000,14000,15000,16000,17000,18000,19000,20000,21000,22000,23000,24000,25000,26000,27000,28000,29000,30000,31000,32000,33000,34000,35000,36000,37000,38000,39000,40000,41000,42000,43000,44000,45000,46000,47000,48000,49000,50000,51000,52000,53000,54000,55000,56000,57000,58000,59000,60000,61000,62000,63000,64000,65000,66000,67000,68000,69000,70000,71000,72000,73000,74000,75000,76000,77000,78000,79000,80000,81000,82000,83000,84000,85000,86000,87000,88000,89000,90000,91000,92000,93000,94000,95000,96000,97000,98000,99000,100000,101000,102000,103000,104000,105000,106000,107000,108000,109000,110000,111000,112000,113000,114000,115000,116000,117000,118000,119000,120000,121000,122000,123000,124000,125000,126000,127000,128000,129000,130000,131000,132000,133000,134000,135000,136000,137000,138000,139000,140000,141000,142000,143000,144000,145000,146000,147000,148000,149000,150000,151000,152000,153000,154000,155000,156000,157000,158000,159000,160000,161000,162000,163000,164000,165000,166000,167000,168000,169000,170000,171000,172000,173000,174000,175000,176000,177000,178000,179000,180000,181000,182000,183000,184000,185000,186000,187000,188000,189000,190000,191000,192000,193000,194000,195000,196000,197000,198000,199000,200000,201000,202000,203000,204000,205000,206000,207000,208000,209000,210000,211000,212000,213000,214000,215000,216000,217000,218000,219000,220000,221000,222000,223000,224000,225000,226000,227000,228000,229000,230000,231000,232000,233000,234000,235000,236000,237000,238000,239000,240000,241000,242000,243000,244000,245000,246000,247000,248000,249000,250000,251000,252000,253000,254000,255000,256000,257000,258000,259000,260000,261000,262000,263000,264000,265000,266000,267000,268000,269000,270000,271000,272000,273000,274000,275000,276000,277000,278000,279000,280000,281000,282000,283000,284000,285000,286000,287000,288000,289000,290000,291000,292000,293000,294000,295000,296000,297000,298000,299000,300000,301000,302000,303000,304000,305000,306000,307000,308000,309000,310000,311000,312000,313000,314000,315000,316000,317000,318000,319000,320000,321000,322000,323000,324000,325000,326000,327000,328000,329000,330000,331000,332000,333000,334000,335000,336000,337000,338000,339000,340000,341000,342000,343000,344000,345000,346000,347000,348000,349000,350000,351000,352000,353000,354000,355000,356000,357000,358000,359000,360000,361000,362000,363000,364000,365000,366000,367000,368000,369000,370000,371000,372000,373000,374000,375000,376000,377000,378000,379000,380000,381000,382000,383000,384000,385000,386000,387000,388000,389000,390000,391000,392000,393000,394000,395000,396000,397000,398000,399000,400000,401000,402000,403000,404000,405000,406000,407000,408000,409000,410000,411000,412000,413000,414000,415000,416000,417000,418000,419000,420000,421000,422000,423000,424000,425000,426000,427000,428000,429000,430000,431000,432000,433000,434000,435000,436000,437000,438000,439000,440000,441000,442000,443000,444000,445000,446000,447000,448000,449000,450000,451000,452000,453000,454000,455000,456000,457000,458000,459000,460000,461000,462000,463000,464000,465000,466000,467000,468000,469000,470000,471000,472000,473000,474000,475000,476000,477000,478000,479000,480000,481000,482000,483000,484000,485000,486000,487000,488000,489000,490000,491000,492000,493000,494000,495000,496000,497000,498000,499000,500000,501000,502000,503000,504000,505000,506000,507000,508000,509000,510000,511000,512000,513000,514000,515000,516000,517000,518000,519000,520000,521000,522000,523000,524000,525000,526000,527000,528000,529000,530000,531000,532000,533000,534000,535000,536000,537000,538000,539000,540000,541000,542000,543000,544000,545000,546000,547000,548000,549000,550000,551000,552000,553000,554000,555000,556000,557000,558000,559000,560000,561000,562000,563000,564000,565000,566000,567000,568000,569000,570000,571000,572000,573000,574000,575000,576000,577000,578000,579000,580000,581000,582000,583000,584000,585000,586000,587000,588000,589000,590000,591000,592000,593000,594000,595000,596000,597000,598000,599000,600000,601000,602000,603000,604000,605000,606000,607000,608000,609000,610000,611000,612000,613000,614000,615000,616000,617000,618000,619000,620000,621000,622000,623000,624000,625000,626000,627000,628000,629000,630000,631000,632000,633000,634000,635000,636000,637000,638000,639000,640000,641000,642000,643000,644000,645000,646000,647000,648000,649000,650000,651000,652000,653000,654000,655000,656000,657000,658000,659000,660000,661000,662000,663000,664000,665000,666000,667000,668000,669000,670000,671000,672000,673000,674000,675000,676000,677000,678000,679000,680000,681000,682000,683000,684000,685000,686000,687000,688000,689000,690000,691000,692000,693000,694000,695000,696000,697000,698000,699000,700000,701000,702000,703000,704000,705000,706000,707000,708000,709000,710000,711000,712000,713000,714000,715000,716000,717000,718000,719000,720000,721000,722000,723000,724000,725000,726000,727000,728000,729000,730000,731000,732000,733000,734000,735000,736000,737000,738000,739000,740000,741000,742000,743000,744000,745000,746000,747000,748000,749000,750000,751000,752000,753000,754000,755000,756000,757000,758000,759000,760000,761000,762000,763000,764000,765000,766000,767000,768000,769000,770000,771000,772000,773000,774000,775000,776000,777000,778000,779000,780000,781000,782000,783000,784000,785000,786000,787000,788000,789000,790000,791000,792000,793000,794000,795000,796000,797000,798000,799000,800000,801000,802000,803000,804000,805000,806000,807000,808000,809000,810000,811000,812000,813000,814000,815000,816000,817000,818000,819000,820000,821000,822000,823000,824000,825000,826000,827000,828000,829000,830000,831000,832000,833000,834000,835000,836000,837000,838000,839000,840000,841000,842000,843000,844000,845000,846000,847000,848000,849000,850000,851000,852000,853000,854000,855000,856000,857000,858000,859000,860000,861000,862000,863000,864000,865000,866000,867000,868000,869000,870000,871000,872000,873000,874000,875000,876000,877000,878000,879000,880000,881000,882000,883000,884000,885000,886000,887000,888000,889000,890000,891000,892000,893000,894000,895000,896000,897000,898000,899000,900000,901000,902000,903000,904000,905000,906000,907000,908000,909000,910000,911000,912000,913000,914000,915000,916000,917000,918000,919000,920000,921000,922000,923000,924000,925000,926000,927000,928000,929000,930000,931000,932000,933000,934000,935000,936000,937000,938000,939000,940000,941000,942000,943000,944000,945000,946000,947000,948000,949000,950000,951000,952000,953000,954000,955000,956000,957000,958000,959000,960000,961000,962000,963000,964000,965000,966000,967000,968000,969000,970000,971000,972000,973000,974000,975000,976000,977000,978000,979000,980000,981000,982000,983000,984000,985000,986000,987000,988000,989000,990000,991000,992000,993000,994000,995000,996000,997000,998000,999000,1000000],\"y\":{\"__ndarray__\":\"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\",\"dtype\":\"float64\",\"shape\":[1000]}}},\"id\":\"64d7b7ab-885b-4afc-9413-03bbf460c254\",\"type\":\"ColumnDataSource\"},{\"attributes\":{\"plot\":{\"id\":\"ecaec224-c912-4974-b2d9-e9a39da9b718\",\"subtype\":\"Figure\",\"type\":\"Plot\"},\"ticker\":{\"id\":\"a22e235e-bc27-4ed5-8e61-21a178ab5da8\",\"type\":\"BasicTicker\"}},\"id\":\"838b2919-4016-46a7-9a3f-e278d27232ba\",\"type\":\"Grid\"},{\"attributes\":{\"data_source\":{\"id\":\"572cb2c5-639b-4c02-81dd-0e69b54ac3fc\",\"type\":\"ColumnDataSource\"},\"glyph\":{\"id\":\"d0b75014-eedb-4676-a2e2-52092c7d8ab6\",\"type\":\"Line\"},\"hover_glyph\":null,\"nonselection_glyph\":{\"id\":\"84b116e7-0a6a-459c-9168-fe494d40ddb9\",\"type\":\"Line\"},\"selection_glyph\":null},\"id\":\"821f8006-c1f6-41be-8c9a-41a1b1cd6d67\",\"type\":\"GlyphRenderer\"},{\"attributes\":{\"label\":{\"value\":\"Prioritized 0.3 Alpha 500k Fresh\"},\"renderers\":[{\"id\":\"8a7921c5-de25-499b-bbda-d32d9194aa62\",\"type\":\"GlyphRenderer\"}]},\"id\":\"ad8dfd0a-24c0-44b1-9e8a-2779ee1f9c0a\",\"type\":\"LegendItem\"},{\"attributes\":{\"plot\":null,\"text\":\"Med Maze 12 Alpha 500k Replay\"},\"id\":\"e6889dcd-d3e8-4067-99c3-98a250a1b608\",\"type\":\"Title\"},{\"attributes\":{\"plot\":{\"id\":\"ecaec224-c912-4974-b2d9-e9a39da9b718\",\"subtype\":\"Figure\",\"type\":\"Plot\"}},\"id\":\"158d7a06-9ba2-43b1-ba44-e1ad2b5bb665\",\"type\":\"WheelZoomTool\"},{\"attributes\":{\"plot\":{\"id\":\"ecaec224-c912-4974-b2d9-e9a39da9b718\",\"subtype\":\"Figure\",\"type\":\"Plot\"}},\"id\":\"04cbab37-37f1-4ebf-9602-b6774fd1e73a\",\"type\":\"HelpTool\"},{\"attributes\":{\"fill_alpha\":{\"value\":0.1},\"fill_color\":{\"value\":\"#1f77b4\"},\"line_alpha\":{\"value\":0.1},\"line_color\":{\"value\":\"#1f77b4\"},\"x\":{\"field\":\"x\"},\"y\":{\"field\":\"y\"}},\"id\":\"a044458e-4929-4007-9903-a6a38c878109\",\"type\":\"Patch\"},{\"attributes\":{\"line_color\":{\"value\":\"#984ea3\"},\"line_width\":{\"value\":2},\"x\":{\"field\":\"x\"},\"y\":{\"field\":\"y\"}},\"id\":\"d0b75014-eedb-4676-a2e2-52092c7d8ab6\",\"type\":\"Line\"},{\"attributes\":{\"line_color\":{\"value\":\"#377eb8\"},\"line_width\":{\"value\":2},\"x\":{\"field\":\"x\"},\"y\":{\"field\":\"y\"}},\"id\":\"0f8f00c4-5a40-4511-8781-11a48ef9796b\",\"type\":\"Line\"},{\"attributes\":{},\"id\":\"ca6ec150-8287-44bc-ae90-731b3f926dff\",\"type\":\"BasicTicker\"},{\"attributes\":{\"line_alpha\":{\"value\":0.1},\"line_color\":{\"value\":\"#1f77b4\"},\"line_width\":{\"value\":2},\"x\":{\"field\":\"x\"},\"y\":{\"field\":\"y\"}},\"id\":\"4c2f5f9d-acec-4f11-866c-0f6e43ca6f78\",\"type\":\"Line\"},{\"attributes\":{\"callback\":null,\"column_names\":[\"x\",\"y\"],\"data\":{\"x\":[0,1000,2000,3000,4000,5000,6000,7000,8000,9000,10000,11000,12000,13000,14000,15000,16000,17000,18000,19000,20000,21000,22000,23000,24000,25000,26000,27000,28000,29000,30000,31000,32000,33000,34000,35000,36000,37000,38000,39000,40000,41000,42000,43000,44000,45000,46000,47000,48000,49000,50000,51000,52000,53000,54000,55000,56000,57000,58000,59000,60000,61000,62000,63000,64000,65000,66000,67000,68000,69000,70000,71000,72000,73000,74000,75000,76000,77000,78000,79000,80000,81000,82000,83000,84000,85000,86000,87000,88000,89000,90000,91000,92000,93000,94000,95000,96000,97000,98000,99000,100000,101000,102000,103000,104000,105000,106000,107000,108000,109000,110000,111000,112000,113000,114000,115000,116000,117000,118000,119000,120000,121000,122000,123000,124000,125000,126000,127000,128000,129000,130000,131000,132000,133000,134000,135000,136000,137000,138000,139000,140000,141000,142000,143000,144000,145000,146000,147000,148000,149000,150000,151000,152000,153000,154000,155000,156000,157000,158000,159000,160000,161000,162000,163000,164000,165000,166000,167000,168000,169000,170000,171000,172000,173000,174000,175000,176000,177000,178000,179000,180000,181000,182000,183000,184000,185000,186000,187000,188000,189000,190000,191000,192000,193000,194000,195000,196000,197000,198000,199000,200000,201000,202000,203000,204000,205000,206000,207000,208000,209000,210000,211000,212000,213000,214000,215000,216000,217000,218000,219000,220000,221000,222000,223000,224000,225000,226000,227000,228000,229000,230000,231000,232000,233000,234000,235000,236000,237000,238000,239000,240000,241000,242000,243000,244000,245000,246000,247000,248000,249000,250000,251000,252000,253000,254000,255000,256000,257000,258000,259000,260000,261000,262000,263000,264000,265000,266000,267000,268000,269000,270000,271000,272000,273000,274000,275000,276000,277000,278000,279000,280000,281000,282000,283000,284000,285000,286000,287000,288000,289000,290000,291000,292000,293000,294000,295000,296000,297000,298000,299000,300000,301000,302000,303000,304000,305000,306000,307000,308000,309000,310000,311000,312000,313000,314000,315000,316000,317000,318000,319000,320000,321000,322000,323000,324000,325000,326000,327000,328000,329000,330000,331000,332000,333000,334000,335000,336000,337000,338000,339000,340000,341000,342000,343000,344000,345000,346000,347000,348000,349000,350000,351000,352000,353000,354000,355000,356000,357000,358000,359000,360000,361000,362000,363000,364000,365000,366000,367000,368000,369000,370000,371000,372000,373000,374000,375000,376000,377000,378000,379000,380000,381000,382000,383000,384000,385000,386000,387000,388000,389000,390000,391000,392000,393000,394000,395000,396000,397000,398000,399000,400000,401000,402000,403000,404000,405000,406000,407000,408000,409000,410000,411000,412000,413000,414000,415000,416000,417000,418000,419000,420000,421000,422000,423000,424000,425000,426000,427000,428000,429000,430000,431000,432000,433000,434000,435000,436000,437000,438000,439000,440000,441000,442000,443000,444000,445000,446000,447000,448000,449000,450000,451000,452000,453000,454000,455000,456000,457000,458000,459000,460000,461000,462000,463000,464000,465000,466000,467000,468000,469000,470000,471000,472000,473000,474000,475000,476000,477000,478000,479000,480000,481000,482000,483000,484000,485000,486000,487000,488000,489000,490000,491000,492000,493000,494000,495000,496000,497000,498000,499000,500000,501000,502000,503000,504000,505000,506000,507000,508000,509000,510000,511000,512000,513000,514000,515000,516000,517000,518000,519000,520000,521000,522000,523000,524000,525000,526000,527000,528000,529000,530000,531000,532000,533000,534000,535000,536000,537000,538000,539000,540000,541000,542000,543000,544000,545000,546000,547000,548000,549000,550000,551000,552000,553000,554000,555000,556000,557000,558000,559000,560000,561000,562000,563000,564000,565000,566000,567000,568000,569000,570000,571000,572000,573000,574000,575000,576000,577000,578000,579000,580000,581000,582000,583000,584000,585000,586000,587000,588000,589000,590000,591000,592000,593000,594000,595000,596000,597000,598000,599000,600000,601000,602000,603000,604000,605000,606000,607000,608000,609000,610000,611000,612000,613000,614000,615000,616000,617000,618000,619000,620000,621000,622000,623000,624000,625000,626000,627000,628000,629000,630000,631000,632000,633000,634000,635000,636000,637000,638000,639000,640000,641000,642000,643000,644000,645000,646000,647000,648000,649000,650000,651000,652000,653000,654000,655000,656000,657000,658000,659000,660000,661000,662000,663000,664000,665000,666000,667000,668000,669000,670000,671000,672000,673000,674000,675000,676000,677000,678000,679000,680000,681000,682000,683000,684000,685000,686000,687000,688000,689000,690000,691000,692000,693000,694000,695000,696000,697000,698000,699000,700000,701000,702000,703000,704000,705000,706000,707000,708000,709000,710000,711000,712000,713000,714000,715000,716000,717000,718000,719000,720000,721000,722000,723000,724000,725000,726000,727000,728000,729000,730000,731000,732000,733000,734000,735000,736000,737000,738000,739000,740000,741000,742000,743000,744000,745000,746000,747000,748000,749000,750000,751000,752000,753000,754000,755000,756000,757000,758000,759000,760000,761000,762000,763000,764000,765000,766000,767000,768000,769000,770000,771000,772000,773000,774000,775000,776000,777000,778000,779000,780000,781000,782000,783000,784000,785000,786000,787000,788000,789000,790000,791000,792000,793000,794000,795000,796000,797000,798000,799000,800000,801000,802000,803000,804000,805000,806000,807000,808000,809000,810000,811000,812000,813000,814000,815000,816000,817000,818000,819000,820000,821000,822000,823000,824000,825000,826000,827000,828000,829000,830000,831000,832000,833000,834000,835000,836000,837000,838000,839000,840000,841000,842000,843000,844000,845000,846000,847000,848000,849000,850000,851000,852000,853000,854000,855000,856000,857000,858000,859000,860000,861000,862000,863000,864000,865000,866000,867000,868000,869000,870000,871000,872000,873000,874000,875000,876000,877000,878000,879000,880000,881000,882000,883000,884000,885000,886000,887000,888000,889000,890000,891000,892000,893000,894000,895000,896000,897000,898000,899000,900000,901000,902000,903000,904000,905000,906000,907000,908000,909000,910000,911000,912000,913000,914000,915000,916000,917000,918000,919000,920000,921000,922000,923000,924000,925000,926000,927000,928000,929000,930000,931000,932000,933000,934000,935000,936000,937000,938000,939000,940000,941000,942000,943000,944000,945000,946000,947000,948000,949000,950000,951000,952000,953000,954000,955000,956000,957000,958000,959000,960000,961000,962000,963000,964000,965000,966000,967000,968000,969000,970000,971000,972000,973000,974000,975000,976000,977000,978000,979000,980000,981000,982000,983000,984000,985000,986000,987000,988000,989000,990000,991000,992000,993000,994000,995000,996000,997000,998000,999000,1000000,1000000,999000,998000,997000,996000,995000,994000,993000,992000,991000,990000,989000,988000,987000,986000,985000,984000,983000,982000,981000,980000,979000,978000,977000,976000,975000,974000,973000,972000,971000,970000,969000,968000,967000,966000,965000,964000,963000,962000,961000,960000,959000,958000,957000,956000,955000,954000,953000,952000,951000,950000,949000,948000,947000,946000,945000,944000,943000,942000,941000,940000,939000,938000,937000,936000,935000,934000,933000,932000,931000,930000,929000,928000,927000,926000,925000,924000,923000,922000,921000,920000,919000,918000,917000,916000,915000,914000,913000,912000,911000,910000,909000,908000,907000,906000,905000,904000,903000,902000,901000,900000,899000,898000,897000,896000,895000,894000,893000,892000,891000,890000,889000,888000,887000,886000,885000,884000,883000,882000,881000,880000,879000,878000,877000,876000,875000,874000,873000,872000,871000,870000,869000,868000,867000,866000,865000,864000,863000,862000,861000,860000,859000,858000,857000,856000,855000,854000,853000,852000,851000,850000,849000,848000,847000,846000,845000,844000,843000,842000,841000,840000,839000,838000,837000,836000,835000,834000,833000,832000,831000,830000,829000,828000,827000,826000,825000,824000,823000,822000,821000,820000,819000,818000,817000,816000,815000,814000,813000,812000,811000,810000,809000,808000,807000,806000,805000,804000,803000,802000,801000,800000,799000,798000,797000,796000,795000,794000,793000,792000,791000,790000,789000,788000,787000,786000,785000,784000,783000,782000,781000,780000,779000,778000,777000,776000,775000,774000,773000,772000,771000,770000,769000,768000,767000,766000,765000,764000,763000,762000,761000,760000,759000,758000,757000,756000,755000,754000,753000,752000,751000,750000,749000,748000,747000,746000,745000,744000,743000,742000,741000,740000,739000,738000,737000,736000,735000,734000,733000,732000,731000,730000,729000,728000,727000,726000,725000,724000,723000,722000,721000,720000,719000,718000,717000,716000,715000,714000,713000,712000,711000,710000,709000,708000,707000,706000,705000,704000,703000,702000,701000,700000,699000,698000,697000,696000,695000,694000,693000,692000,691000,690000,689000,688000,687000,686000,685000,684000,683000,682000,681000,680000,679000,678000,677000,676000,675000,674000,673000,672000,671000,670000,669000,668000,667000,666000,665000,664000,663000,662000,661000,660000,659000,658000,657000,656000,655000,654000,653000,652000,651000,650000,649000,648000,647000,646000,645000,644000,643000,642000,641000,640000,639000,638000,637000,636000,635000,634000,633000,632000,631000,630000,629000,628000,627000,626000,625000,624000,623000,622000,621000,620000,619000,618000,617000,616000,615000,614000,613000,612000,611000,610000,609000,608000,607000,606000,605000,604000,603000,602000,601000,600000,599000,598000,597000,596000,595000,594000,593000,592000,591000,590000,589000,588000,587000,586000,585000,584000,583000,582000,581000,580000,579000,578000,577000,576000,575000,574000,573000,572000,571000,570000,569000,568000,567000,566000,565000,564000,563000,562000,561000,560000,559000,558000,557000,556000,555000,554000,553000,552000,551000,550000,549000,548000,547000,546000,545000,544000,543000,542000,541000,540000,539000,538000,537000,536000,535000,534000,533000,532000,531000,530000,529000,528000,527000,526000,525000,524000,523000,522000,521000,520000,519000,518000,517000,516000,515000,514000,513000,512000,511000,510000,509000,508000,507000,506000,505000,504000,503000,502000,501000,500000,499000,498000,497000,496000,495000,494000,493000,492000,491000,490000,489000,488000,487000,486000,485000,484000,483000,482000,481000,480000,479000,478000,477000,476000,475000,474000,473000,472000,471000,470000,469000,468000,467000,466000,465000,464000,463000,462000,461000,460000,459000,458000,457000,456000,455000,454000,453000,452000,451000,450000,449000,448000,447000,446000,445000,444000,443000,442000,441000,440000,439000,438000,437000,436000,435000,434000,433000,432000,431000,430000,429000,428000,427000,426000,425000,424000,423000,422000,421000,420000,419000,418000,417000,416000,415000,414000,413000,412000,411000,410000,409000,408000,407000,406000,405000,404000,403000,402000,401000,400000,399000,398000,397000,396000,395000,394000,393000,392000,391000,390000,389000,388000,387000,386000,385000,384000,383000,382000,381000,380000,379000,378000,377000,376000,375000,374000,373000,372000,371000,370000,369000,368000,367000,366000,365000,364000,363000,362000,361000,360000,359000,358000,357000,356000,355000,354000,353000,352000,351000,350000,349000,348000,347000,346000,345000,344000,343000,342000,341000,340000,339000,338000,337000,336000,335000,334000,333000,332000,331000,330000,329000,328000,327000,326000,325000,324000,323000,322000,321000,320000,319000,318000,317000,316000,315000,314000,313000,312000,311000,310000,309000,308000,307000,306000,305000,304000,303000,302000,301000,300000,299000,298000,297000,296000,295000,294000,293000,292000,291000,290000,289000,288000,287000,286000,285000,284000,283000,282000,281000,280000,279000,278000,277000,276000,275000,274000,273000,272000,271000,270000,269000,268000,267000,266000,265000,264000,263000,262000,261000,260000,259000,258000,257000,256000,255000,254000,253000,252000,251000,250000,249000,248000,247000,246000,245000,244000,243000,242000,241000,240000,239000,238000,237000,236000,235000,234000,233000,232000,231000,230000,229000,228000,227000,226000,225000,224000,223000,222000,221000,220000,219000,218000,217000,216000,215000,214000,213000,212000,211000,210000,209000,208000,207000,206000,205000,204000,203000,202000,201000,200000,199000,198000,197000,196000,195000,194000,193000,192000,191000,190000,189000,188000,187000,186000,185000,184000,183000,182000,181000,180000,179000,178000,177000,176000,175000,174000,173000,172000,171000,170000,169000,168000,167000,166000,165000,164000,163000,162000,161000,160000,159000,158000,157000,156000,155000,154000,153000,152000,151000,150000,149000,148000,147000,146000,145000,144000,143000,142000,141000,140000,139000,138000,137000,136000,135000,134000,133000,132000,131000,130000,129000,128000,127000,126000,125000,124000,123000,122000,121000,120000,119000,118000,117000,116000,115000,114000,113000,112000,111000,110000,109000,108000,107000,106000,105000,104000,103000,102000,101000,100000,99000,98000,97000,96000,95000,94000,93000,92000,91000,90000,89000,88000,87000,86000,85000,84000,83000,82000,81000,80000,79000,78000,77000,76000,75000,74000,73000,72000,71000,70000,69000,68000,67000,66000,65000,64000,63000,62000,61000,60000,59000,58000,57000,56000,55000,54000,53000,52000,51000,50000,49000,48000,47000,46000,45000,44000,43000,42000,41000,40000,39000,38000,37000,36000,35000,34000,33000,32000,31000,30000,29000,28000,27000,26000,25000,24000,23000,22000,21000,20000,19000,18000,17000,16000,15000,14000,13000,12000,11000,10000,9000,8000,7000,6000,5000,4000,3000,2000,1000,0],\"y\":[1,108,159,252,254,254,270,404,424,424,424,424,424,490,531,538,566,572,586,586,586,590,590,590,590,590,605,609,609,609,609,609,609,609,652,680,680,680,725,777,779,799,889,1030,1030,1041,1055,1081,1112,1112,1123,1126,1126,1126,1126,1126,1127,1127,1205,1216,1220,1220,1220,1220,1220,1248,1248,1248,1248,1263,1263,1263,1266,1266,1269,1309,1309,1309,1344,1415,1471,1549,1562,1562,1562,1571,1571,1573,1573,1573,1573,1573,1573,1573,1573,1573,1574,1582,1618,1657,1756,1785,1789,1840,1842,1842,1854,1857,1900,1900,1900,1900,1900,1900,1900,1900,1900,1900,1900,1976,2022,2023,2028,2071,2072,2072,2072,2072,2072,2072,2072,2075,2077,2077,2077,2077,2077,2079,2083,2127,2127,2128,2128,2128,2128,2128,2128,2128,2128,2128,2128,2128,2128,2132,2133,2133,2215,2219,2253,2257,2260,2265,2279,2279,2279,2279,2279,2279,2279,2279,2279,2279,2279,2279,2279,2339,2339,2339,2339,2339,2339,2339,2339,2339,2339,2340,2341,2341,2341,2341,2341,2341,2341,2341,2344,2344,2344,2344,2370,2370,2370,2374,2374,2374,2374,2374,2374,2374,2374,2374,2374,2374,2375,2382,2382,2422,2422,2422,2422,2422,2422,2422,2422,2422,2422,2422,2422,2422,2422,2422,2422,2422,2422,2422,2422,2422,2422,2422,2422,2422,2422,2422,2422,2422,2422,2422,2422,2422,2422,2422,2422,2422,2422,2422,2422,2422,2422,2422,2422,2422,2422,2422,2422,2422,2422,2422,2422,2422,2422,2422,2422,2422,2422,2422,2422,2422,2422,2422,2422,2425,2425,2425,2425,2425,2425,2425,2425,2425,2425,2425,2425,2425,2425,2425,2425,2425,2425,2425,2425,2425,2425,2425,2425,2425,2425,2425,2425,2425,2425,2425,2425,2425,2425,2425,2425,2425,2425,2425,2425,2425,2425,2425,2425,2425,2425,2425,2425,2425,2425,2425,2425,2425,2425,2425,2425,2425,2425,2425,2425,2425,2425,2425,2425,2425,2425,2425,2425,2425,2425,2425,2425,2425,2425,2425,2425,2425,2425,2425,2425,2425,2425,2425,2425,2425,2425,2425,2425,2425,2425,2425,2425,2425,2425,2425,2425,2425,2425,2425,2425,2425,2425,2426,2426,2426,2426,2426,2426,2426,2426,2426,2426,2426,2426,2426,2426,2426,2426,2426,2426,2426,2426,2426,2426,2426,2426,2426,2426,2426,2426,2426,2426,2426,2426,2426,2426,2426,2426,2426,2426,2426,2426,2426,2426,2426,2426,2426,2426,2426,2426,2426,2426,2426,2426,2426,2426,2426,2426,2426,2426,2426,2426,2426,2426,2426,2426,2426,2426,2426,2426,2426,2426,2426,2426,2426,2426,2426,2426,2426,2426,2426,2426,2426,2426,2426,2426,2426,2426,2426,2426,2426,2426,2426,2426,2426,2426,2426,2426,2426,2426,2426,2426,2426,2426,2426,2426,2426,2426,2426,2426,2426,2426,2426,2426,2426,2426,2426,2426,2426,2426,2426,2426,2426,2426,2426,2426,2426,2426,2426,2426,2426,2426,2426,2426,2426,2426,2426,2426,2426,2426,2426,2426,2426,2426,2426,2426,2426,2426,2426,2426,2426,2426,2426,2426,2426,2426,2426,2426,2426,2426,2426,2426,2426,2426,2426,2426,2426,2426,2426,2426,2426,2426,2426,2426,2426,2426,2426,2426,2426,2426,2426,2426,2426,2426,2426,2426,2426,2426,2426,2426,2426,2426,2426,2426,2426,2426,2426,2426,2426,2426,2426,2426,2426,2426,2426,2426,2426,2426,2426,2426,2426,2426,2426,2426,2426,2426,2426,2426,2426,2426,2426,2426,2426,2426,2426,2426,2426,2426,2426,2426,2426,2426,2426,2426,2426,2426,2426,2426,2426,2426,2426,2426,2426,2426,2426,2426,2426,2426,2426,2426,2426,2426,2426,2426,2426,2426,2426,2426,2426,2426,2426,2426,2426,2426,2426,2426,2426,2426,2426,2426,2426,2426,2426,2426,2426,2426,2426,2426,2426,2426,2426,2426,2426,2426,2426,2426,2426,2426,2426,2426,2426,2426,2426,2426,2426,2426,2426,2426,2426,2426,2426,2426,2426,2426,2426,2426,2426,2426,2426,2426,2426,2426,2426,2426,2426,2426,2426,2426,2426,2426,2426,2426,2426,2426,2426,2426,2426,2426,2426,2426,2426,2426,2426,2426,2426,2426,2426,2426,2426,2426,2426,2426,2426,2426,2426,2426,2426,2426,2426,2426,2426,2426,2426,2426,2426,2426,2426,2426,2426,2426,2426,2426,2426,2426,2426,2426,2426,2426,2426,2426,2426,2426,2426,2426,2426,2426,2426,2426,2426,2426,2426,2426,2426,2426,2426,2426,2426,2426,2426,2426,2426,2426,2426,2426,2426,2426,2426,2426,2426,2426,2426,2426,2426,2426,2426,2426,2426,2426,2426,2426,2426,2426,2426,2426,2426,2426,2426,2426,2426,2426,2426,2426,2426,2426,2426,2426,2426,2426,2426,2426,2426,2426,2426,2426,2426,2426,2426,2426,2426,2426,2426,2426,2426,2426,2426,2426,2426,2426,2426,2426,2426,2426,2426,2426,2426,2426,2426,2426,2426,2426,2426,2426,2426,2426,2426,2426,2426,2426,2426,2426,2426,2426,2426,2426,2426,2426,2426,2426,2426,2426,2426,2426,2426,2426,2426,2426,2426,2426,2426,2426,2426,2426,2426,2427,2427,2427,2427,2427,2427,2427,2427,2427,2427,2427,2427,2427,2427,2427,2427,2427,2427,2427,2427,2427,2427,2427,2427,2427,2427,2427,2427,2427,2427,2427,2427,2427,2427,2427,2427,2427,2427,2427,2427,2427,2427,2427,2427,2427,2427,2427,2427,2427,2427,2427,2427,2427,2427,2427,2427,2427,2427,2427,2427,2427,2427,2427,2427,2427,2427,2427,2427,2427,2427,2427,2427,2427,2427,2427,2427,2427,2427,2427,2427,2427,2427,2427,2427,2427,2427,2427,2427,2427,2427,2427,2427,2427,2427,2427,2427,2427,2427,2427,2427,2427,2427,2427,2427,2427,2427,2427,2427,2427,2427,2427,2427,2427,2427,2427,2427,2427,2427,2427,2427,2427,2427,2427,2427,2427,2427,2427,2427,2763,2763,2763,2763,2763,2763,2763,2763,2763,2763,2763,2763,2763,2763,2763,2763,2763,2763,2763,2763,2763,2763,2763,2763,2763,2763,2763,2763,2763,2763,2763,2763,2763,2763,2763,2763,2763,2763,2763,2763,2763,2763,2763,2763,2763,2763,2763,2763,2763,2763,2763,2763,2763,2763,2763,2763,2763,2763,2763,2763,2763,2763,2763,2763,2763,2763,2763,2763,2763,2763,2763,2763,2763,2763,2763,2763,2763,2763,2763,2763,2763,2763,2763,2763,2763,2763,2763,2763,2763,2763,2763,2763,2763,2763,2763,2763,2763,2763,2763,2763,2763,2763,2763,2763,2763,2763,2763,2763,2763,2763,2763,2763,2763,2763,2763,2763,2763,2763,2763,2763,2763,2763,2763,2763,2763,2763,2763,2763,2763,2763,2763,2763,2763,2763,2763,2763,2763,2763,2763,2763,2763,2763,2763,2763,2763,2763,2763,2763,2763,2763,2763,2763,2763,2763,2763,2763,2763,2763,2763,2763,2763,2763,2763,2763,2763,2763,2763,2763,2763,2763,2763,2763,2763,2763,2763,2763,2763,2763,2763,2763,2763,2763,2763,2763,2763,2763,2763,2763,2763,2763,2763,2763,2763,2763,2763,2763,2763,2763,2763,2763,2763,2763,2763,2763,2763,2763,2763,2763,2763,2763,2763,2763,2763,2763,2763,2763,2763,2763,2763,2763,2763,2763,2763,2763,2763,2763,2763,2763,2763,2763,2763,2763,2763,2763,2763,2763,2763,2763,2763,2763,2763,2763,2763,2763,2763,2763,2763,2763,2763,2763,2763,2763,2763,2763,2763,2763,2763,2763,2763,2763,2763,2763,2763,2763,2763,2763,2763,2763,2763,2763,2763,2763,2763,2763,2763,2763,2763,2763,2763,2763,2763,2763,2763,2763,2763,2763,2763,2763,2763,2763,2763,2763,2763,2763,2763,2763,2763,2763,2763,2763,2763,2763,2763,2763,2763,2763,2763,2763,2763,2763,2763,2763,2763,2763,2763,2763,2763,2763,2763,2763,2763,2763,2763,2763,2763,2763,2763,2763,2763,2763,2763,2763,2763,2763,2763,2763,2763,2763,2763,2763,2763,2763,2763,2763,2763,2763,2763,2763,2763,2763,2763,2763,2763,2763,2763,2763,2763,2763,2763,2763,2763,2763,2763,2763,2763,2763,2763,2763,2763,2763,2763,2763,2763,2763,2763,2763,2763,2763,2763,2763,2763,2763,2763,2763,2763,2763,2763,2763,2763,2763,2763,2763,2763,2763,2763,2763,2763,2763,2763,2763,2763,2763,2763,2763,2763,2763,2763,2763,2763,2763,2763,2763,2763,2763,2763,2763,2763,2763,2763,2763,2763,2763,2763,2763,2763,2763,2763,2763,2763,2763,2763,2763,2763,2763,2763,2763,2763,2763,2763,2763,2763,2763,2763,2763,2763,2763,2763,2763,2763,2763,2763,2763,2763,2763,2763,2763,2763,2763,2763,2763,2763,2763,2763,2763,2763,2763,2763,2763,2763,2763,2763,2763,2763,2763,2763,2763,2763,2763,2763,2763,2763,2763,2763,2763,2763,2763,2763,2763,2763,2763,2763,2763,2763,2763,2763,2763,2763,2763,2763,2763,2763,2763,2763,2763,2763,2763,2763,2763,2763,2763,2763,2763,2763,2763,2763,2763,2763,2763,2763,2763,2763,2763,2763,2763,2763,2763,2763,2763,2763,2763,2763,2763,2763,2763,2763,2763,2763,2763,2763,2763,2763,2763,2763,2763,2763,2763,2763,2763,2763,2763,2763,2763,2763,2763,2763,2763,2763,2763,2763,2763,2763,2763,2763,2763,2763,2763,2763,2763,2763,2763,2763,2763,2763,2763,2763,2763,2763,2763,2763,2763,2763,2763,2763,2763,2763,2763,2763,2763,2763,2763,2763,2763,2763,2763,2763,2763,2763,2763,2763,2763,2763,2763,2763,2763,2763,2763,2763,2763,2763,2763,2763,2763,2763,2763,2763,2763,2763,2763,2763,2763,2763,2763,2763,2763,2763,2763,2763,2763,2763,2763,2763,2763,2763,2763,2763,2763,2763,2763,2763,2763,2763,2763,2763,2763,2763,2763,2763,2763,2763,2763,2763,2763,2763,2763,2763,2763,2763,2763,2763,2763,2763,2763,2763,2763,2763,2763,2763,2763,2763,2763,2763,2763,2763,2763,2763,2763,2763,2763,2763,2763,2763,2763,2763,2763,2763,2763,2763,2763,2763,2763,2763,2763,2763,2763,2763,2763,2763,2763,2763,2763,2763,2763,2763,2763,2763,2763,2763,2763,2763,2763,2763,2763,2763,2763,2763,2763,2763,2763,2763,2763,2763,2763,2763,2763,2763,2763,2763,2763,2763,2763,2763,2763,2763,2763,2763,2763,2763,2763,2762,2762,2762,2762,2762,2762,2762,2762,2762,2762,2762,2762,2762,2762,2762,2762,2762,2762,2762,2762,2762,2762,2762,2762,2762,2762,2762,2762,2762,2762,2762,2762,2762,2762,2759,2759,2759,2759,2759,2759,2759,2759,2759,2748,2748,2748,2748,2748,2748,2748,2748,2748,2748,2748,2748,2748,2748,2748,2748,2748,2748,2748,2748,2748,2748,2748,2748,2748,2748,2748,2748,2748,2747,2747,2696,2696,2696,2696,2696,2696,2696,2696,2696,2696,2696,2696,2696,2678,2678,2669,2669,2669,2663,2657,2657,2657,2657,2657,2657,2657,2657,2657,2657,2657,2657,2657,2657,2657,2657,2621,2595,2595,2595,2595,2595,2595,2595,2595,2593,2583,2583,2583,2583,2581,2581,2581,2580,2516,2425,2425,2425,2425,2425,2425,2425,2425,2417,2408,2343,2327,2298,2297,2297,2297,2297,2287,2287,2286,2284,2284,2284,2267,2267,2267,2231,2219,2218,2207,2207,2204,2189,2189,2134,2006,1943,1942,1942,1942,1942,1942,1942,1942,1942,1942,1940,1940,1938,1938,1938,1938,1938,1938,1938,1938,1938,1938,1938,1887,1847,1847,1834,1730,1674,1665,1609,1534,1534,1504,1487,1483,1455,1376,1308,1308,1305,1305,1304,1303,1292,1292,1268,1268,1267,1267,1267,1267,1267,1267,1267,1267,1267,1267,1267,1267,1267,1266,1266,1265,1246,1227,1227,1227,1227,1227,1188,1188,1188,1188,1188,1188,1188,1188,1184,1151,1078,935,915,911,909,905,859,672,644,594,532,470,408,400,372,271,201,1]}},\"id\":\"067c8de5-a219-4afb-bdcf-af6c0c581ea7\",\"type\":\"ColumnDataSource\"},{\"attributes\":{\"axis_label\":\"States visited\",\"formatter\":{\"id\":\"7175f3ca-07a7-4413-a921-1928dcced967\",\"type\":\"BasicTickFormatter\"},\"plot\":{\"id\":\"ecaec224-c912-4974-b2d9-e9a39da9b718\",\"subtype\":\"Figure\",\"type\":\"Plot\"},\"ticker\":{\"id\":\"ca6ec150-8287-44bc-ae90-731b3f926dff\",\"type\":\"BasicTicker\"}},\"id\":\"7f74b13e-75d8-40e6-a687-a6e655ce6bde\",\"type\":\"LinearAxis\"},{\"attributes\":{\"fill_alpha\":{\"value\":0.1},\"fill_color\":{\"value\":\"#377eb8\"},\"line_alpha\":{\"value\":0.1},\"line_color\":{\"value\":\"#377eb8\"},\"x\":{\"field\":\"x\"},\"y\":{\"field\":\"y\"}},\"id\":\"e9511d6e-733d-4560-90ed-d97060e3ebc9\",\"type\":\"Patch\"},{\"attributes\":{\"plot\":{\"id\":\"ecaec224-c912-4974-b2d9-e9a39da9b718\",\"subtype\":\"Figure\",\"type\":\"Plot\"}},\"id\":\"508a61b9-52d1-41fe-864a-c34e52075b13\",\"type\":\"SaveTool\"},{\"attributes\":{\"label\":{\"value\":\"Prioritized 0.5 Alpha 500k Fresh\"},\"renderers\":[{\"id\":\"821f8006-c1f6-41be-8c9a-41a1b1cd6d67\",\"type\":\"GlyphRenderer\"}]},\"id\":\"4075e471-907a-4067-b318-d421ee6bb6bf\",\"type\":\"LegendItem\"},{\"attributes\":{\"line_alpha\":{\"value\":0.1},\"line_color\":{\"value\":\"#1f77b4\"},\"line_width\":{\"value\":2},\"x\":{\"field\":\"x\"},\"y\":{\"field\":\"y\"}},\"id\":\"f21e9ab0-cf88-4743-a5c4-06ad587d2030\",\"type\":\"Line\"},{\"attributes\":{},\"id\":\"1b1d447d-dda3-414e-b4ea-29cea480a754\",\"type\":\"ToolEvents\"},{\"attributes\":{\"axis_label\":\"T\",\"formatter\":{\"id\":\"3eb35e76-9a7d-4d56-b89a-6b5891ed109c\",\"type\":\"BasicTickFormatter\"},\"plot\":{\"id\":\"ecaec224-c912-4974-b2d9-e9a39da9b718\",\"subtype\":\"Figure\",\"type\":\"Plot\"},\"ticker\":{\"id\":\"a22e235e-bc27-4ed5-8e61-21a178ab5da8\",\"type\":\"BasicTicker\"}},\"id\":\"625c16fa-d6d4-4093-94d4-1bbb703bfff0\",\"type\":\"LinearAxis\"},{\"attributes\":{\"callback\":null},\"id\":\"99b52352-488c-4443-878e-f65efd764cb1\",\"type\":\"DataRange1d\"},{\"attributes\":{\"callback\":null,\"column_names\":[\"x\",\"y\"],\"data\":{\"x\":[0,1000,2000,3000,4000,5000,6000,7000,8000,9000,10000,11000,12000,13000,14000,15000,16000,17000,18000,19000,20000,21000,22000,23000,24000,25000,26000,27000,28000,29000,30000,31000,32000,33000,34000,35000,36000,37000,38000,39000,40000,41000,42000,43000,44000,45000,46000,47000,48000,49000,50000,51000,52000,53000,54000,55000,56000,57000,58000,59000,60000,61000,62000,63000,64000,65000,66000,67000,68000,69000,70000,71000,72000,73000,74000,75000,76000,77000,78000,79000,80000,81000,82000,83000,84000,85000,86000,87000,88000,89000,90000,91000,92000,93000,94000,95000,96000,97000,98000,99000,100000,101000,102000,103000,104000,105000,106000,107000,108000,109000,110000,111000,112000,113000,114000,115000,116000,117000,118000,119000,120000,121000,122000,123000,124000,125000,126000,127000,128000,129000,130000,131000,132000,133000,134000,135000,136000,137000,138000,139000,140000,141000,142000,143000,144000,145000,146000,147000,148000,149000,150000,151000,152000,153000,154000,155000,156000,157000,158000,159000,160000,161000,162000,163000,164000,165000,166000,167000,168000,169000,170000,171000,172000,173000,174000,175000,176000,177000,178000,179000,180000,181000,182000,183000,184000,185000,186000,187000,188000,189000,190000,191000,192000,193000,194000,195000,196000,197000,198000,199000,200000,201000,202000,203000,204000,205000,206000,207000,208000,209000,210000,211000,212000,213000,214000,215000,216000,217000,218000,219000,220000,221000,222000,223000,224000,225000,226000,227000,228000,229000,230000,231000,232000,233000,234000,235000,236000,237000,238000,239000,240000,241000,242000,243000,244000,245000,246000,247000,248000,249000,250000,251000,252000,253000,254000,255000,256000,257000,258000,259000,260000,261000,262000,263000,264000,265000,266000,267000,268000,269000,270000,271000,272000,273000,274000,275000,276000,277000,278000,279000,280000,281000,282000,283000,284000,285000,286000,287000,288000,289000,290000,291000,292000,293000,294000,295000,296000,297000,298000,299000,300000,301000,302000,303000,304000,305000,306000,307000,308000,309000,310000,311000,312000,313000,314000,315000,316000,317000,318000,319000,320000,321000,322000,323000,324000,325000,326000,327000,328000,329000,330000,331000,332000,333000,334000,335000,336000,337000,338000,339000,340000,341000,342000,343000,344000,345000,346000,347000,348000,349000,350000,351000,352000,353000,354000,355000,356000,357000,358000,359000,360000,361000,362000,363000,364000,365000,366000,367000,368000,369000,370000,371000,372000,373000,374000,375000,376000,377000,378000,379000,380000,381000,382000,383000,384000,385000,386000,387000,388000,389000,390000,391000,392000,393000,394000,395000,396000,397000,398000,399000,400000,401000,402000,403000,404000,405000,406000,407000,408000,409000,410000,411000,412000,413000,414000,415000,416000,417000,418000,419000,420000,421000,422000,423000,424000,425000,426000,427000,428000,429000,430000,431000,432000,433000,434000,435000,436000,437000,438000,439000,440000,441000,442000,443000,444000,445000,446000,447000,448000,449000,450000,451000,452000,453000,454000,455000,456000,457000,458000,459000,460000,461000,462000,463000,464000,465000,466000,467000,468000,469000,470000,471000,472000,473000,474000,475000,476000,477000,478000,479000,480000,481000,482000,483000,484000,485000,486000,487000,488000,489000,490000,491000,492000,493000,494000,495000,496000,497000,498000,499000,500000,501000,502000,503000,504000,505000,506000,507000,508000,509000,510000,511000,512000,513000,514000,515000,516000,517000,518000,519000,520000,521000,522000,523000,524000,525000,526000,527000,528000,529000,530000,531000,532000,533000,534000,535000,536000,537000,538000,539000,540000,541000,542000,543000,544000,545000,546000,547000,548000,549000,550000,551000,552000,553000,554000,555000,556000,557000,558000,559000,560000,561000,562000,563000,564000,565000,566000,567000,568000,569000,570000,571000,572000,573000,574000,575000,576000,577000,578000,579000,580000,581000,582000,583000,584000,585000,586000,587000,588000,589000,590000,591000,592000,593000,594000,595000,596000,597000,598000,599000,600000,601000,602000,603000,604000,605000,606000,607000,608000,609000,610000,611000,612000,613000,614000,615000,616000,617000,618000,619000,620000,621000,622000,623000,624000,625000,626000,627000,628000,629000,630000,631000,632000,633000,634000,635000,636000,637000,638000,639000,640000,641000,642000,643000,644000,645000,646000,647000,648000,649000,650000,651000,652000,653000,654000,655000,656000,657000,658000,659000,660000,661000,662000,663000,664000,665000,666000,667000,668000,669000,670000,671000,672000,673000,674000,675000,676000,677000,678000,679000,680000,681000,682000,683000,684000,685000,686000,687000,688000,689000,690000,691000,692000,693000,694000,695000,696000,697000,698000,699000,700000,701000,702000,703000,704000,705000,706000,707000,708000,709000,710000,711000,712000,713000,714000,715000,716000,717000,718000,719000,720000,721000,722000,723000,724000,725000,726000,727000,728000,729000,730000,731000,732000,733000,734000,735000,736000,737000,738000,739000,740000,741000,742000,743000,744000,745000,746000,747000,748000,749000,750000,751000,752000,753000,754000,755000,756000,757000,758000,759000,760000,761000,762000,763000,764000,765000,766000,767000,768000,769000,770000,771000,772000,773000,774000,775000,776000,777000,778000,779000,780000,781000,782000,783000,784000,785000,786000,787000,788000,789000,790000,791000,792000,793000,794000,795000,796000,797000,798000,799000,800000,801000,802000,803000,804000,805000,806000,807000,808000,809000,810000,811000,812000,813000,814000,815000,816000,817000,818000,819000,820000,821000,822000,823000,824000,825000,826000,827000,828000,829000,830000,831000,832000,833000,834000,835000,836000,837000,838000,839000,840000,841000,842000,843000,844000,845000,846000,847000,848000,849000,850000,851000,852000,853000,854000,855000,856000,857000,858000,859000,860000,861000,862000,863000,864000,865000,866000,867000,868000,869000,870000,871000,872000,873000,874000,875000,876000,877000,878000,879000,880000,881000,882000,883000,884000,885000,886000,887000,888000,889000,890000,891000,892000,893000,894000,895000,896000,897000,898000,899000,900000,901000,902000,903000,904000,905000,906000,907000,908000,909000,910000,911000,912000,913000,914000,915000,916000,917000,918000,919000,920000,921000,922000,923000,924000,925000,926000,927000,928000,929000,930000,931000,932000,933000,934000,935000,936000,937000,938000,939000,940000,941000,942000,943000,944000,945000,946000,947000,948000,949000,950000,951000,952000,953000,954000,955000,956000,957000,958000,959000,960000,961000,962000,963000,964000,965000,966000,967000,968000,969000,970000,971000,972000,973000,974000,975000,976000,977000,978000,979000,980000,981000,982000,983000,984000,985000,986000,987000,988000,989000,990000,991000,992000,993000,994000,995000,996000,997000,998000,999000,1000000],\"y\":{\"__ndarray__\":\"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\",\"dtype\":\"float64\",\"shape\":[1000]}}},\"id\":\"8ee00249-24a2-4e15-a42b-288da9a9ce21\",\"type\":\"ColumnDataSource\"},{\"attributes\":{\"data_source\":{\"id\":\"76a9b598-0afd-4bed-b9b0-c2999fbf0163\",\"type\":\"ColumnDataSource\"},\"glyph\":{\"id\":\"87ed2dbd-bd70-4b9b-8aa2-3888b08c742a\",\"type\":\"Line\"},\"hover_glyph\":null,\"nonselection_glyph\":{\"id\":\"f21e9ab0-cf88-4743-a5c4-06ad587d2030\",\"type\":\"Line\"},\"selection_glyph\":null},\"id\":\"6a4e2ed4-8275-444a-b186-dfe6c03aae5c\",\"type\":\"GlyphRenderer\"},{\"attributes\":{\"data_source\":{\"id\":\"66ab540d-f6cf-48d9-87d1-0dd8b469574e\",\"type\":\"ColumnDataSource\"},\"glyph\":{\"id\":\"deb4c909-4ed5-4841-8698-c9f7367bbd9a\",\"type\":\"Patch\"},\"hover_glyph\":null,\"nonselection_glyph\":{\"id\":\"68bad794-4a93-4b8a-b6df-2fc6dba26c3a\",\"type\":\"Patch\"},\"selection_glyph\":null},\"id\":\"af348b03-f74d-4e4a-a0fe-8c6f9a5336d4\",\"type\":\"GlyphRenderer\"},{\"attributes\":{\"label\":{\"value\":\"Prioritized 0.3 Alpha 50k Fresh\"},\"renderers\":[{\"id\":\"6a4e2ed4-8275-444a-b186-dfe6c03aae5c\",\"type\":\"GlyphRenderer\"}]},\"id\":\"96c00130-5713-41d4-b06b-edb2b3867179\",\"type\":\"LegendItem\"},{\"attributes\":{},\"id\":\"7175f3ca-07a7-4413-a921-1928dcced967\",\"type\":\"BasicTickFormatter\"},{\"attributes\":{\"label\":{\"value\":\"Prioritized 0.5 Alpha 50k Fresh\"},\"renderers\":[{\"id\":\"0aabc08a-7376-4a49-a383-6869f04da483\",\"type\":\"GlyphRenderer\"}]},\"id\":\"bee02987-cdbd-42f7-86aa-51fc84e1b2eb\",\"type\":\"LegendItem\"},{\"attributes\":{\"callback\":null,\"column_names\":[\"x\",\"y\"],\"data\":{\"x\":[0,1000,2000,3000,4000,5000,6000,7000,8000,9000,10000,11000,12000,13000,14000,15000,16000,17000,18000,19000,20000,21000,22000,23000,24000,25000,26000,27000,28000,29000,30000,31000,32000,33000,34000,35000,36000,37000,38000,39000,40000,41000,42000,43000,44000,45000,46000,47000,48000,49000,50000,51000,52000,53000,54000,55000,56000,57000,58000,59000,60000,61000,62000,63000,64000,65000,66000,67000,68000,69000,70000,71000,72000,73000,74000,75000,76000,77000,78000,79000,80000,81000,82000,83000,84000,85000,86000,87000,88000,89000,90000,91000,92000,93000,94000,95000,96000,97000,98000,99000,100000,101000,102000,103000,104000,105000,106000,107000,108000,109000,110000,111000,112000,113000,114000,115000,116000,117000,118000,119000,120000,121000,122000,123000,124000,125000,126000,127000,128000,129000,130000,131000,132000,133000,134000,135000,136000,137000,138000,139000,140000,141000,142000,143000,144000,145000,146000,147000,148000,149000,150000,151000,152000,153000,154000,155000,156000,157000,158000,159000,160000,161000,162000,163000,164000,165000,166000,167000,168000,169000,170000,171000,172000,173000,174000,175000,176000,177000,178000,179000,180000,181000,182000,183000,184000,185000,186000,187000,188000,189000,190000,191000,192000,193000,194000,195000,196000,197000,198000,199000,200000,201000,202000,203000,204000,205000,206000,207000,208000,209000,210000,211000,212000,213000,214000,215000,216000,217000,218000,219000,220000,221000,222000,223000,224000,225000,226000,227000,228000,229000,230000,231000,232000,233000,234000,235000,236000,237000,238000,239000,240000,241000,242000,243000,244000,245000,246000,247000,248000,249000,250000,251000,252000,253000,254000,255000,256000,257000,258000,259000,260000,261000,262000,263000,264000,265000,266000,267000,268000,269000,270000,271000,272000,273000,274000,275000,276000,277000,278000,279000,280000,281000,282000,283000,284000,285000,286000,287000,288000,289000,290000,291000,292000,293000,294000,295000,296000,297000,298000,299000,300000,301000,302000,303000,304000,305000,306000,307000,308000,309000,310000,311000,312000,313000,314000,315000,316000,317000,318000,319000,320000,321000,322000,323000,324000,325000,326000,327000,328000,329000,330000,331000,332000,333000,334000,335000,336000,337000,338000,339000,340000,341000,342000,343000,344000,345000,346000,347000,348000,349000,350000,351000,352000,353000,354000,355000,356000,357000,358000,359000,360000,361000,362000,363000,364000,365000,366000,367000,368000,369000,370000,371000,372000,373000,374000,375000,376000,377000,378000,379000,380000,381000,382000,383000,384000,385000,386000,387000,388000,389000,390000,391000,392000,393000,394000,395000,396000,397000,398000,399000,400000,401000,402000,403000,404000,405000,406000,407000,408000,409000,410000,411000,412000,413000,414000,415000,416000,417000,418000,419000,420000,421000,422000,423000,424000,425000,426000,427000,428000,429000,430000,431000,432000,433000,434000,435000,436000,437000,438000,439000,440000,441000,442000,443000,444000,445000,446000,447000,448000,449000,450000,451000,452000,453000,454000,455000,456000,457000,458000,459000,460000,461000,462000,463000,464000,465000,466000,467000,468000,469000,470000,471000,472000,473000,474000,475000,476000,477000,478000,479000,480000,481000,482000,483000,484000,485000,486000,487000,488000,489000,490000,491000,492000,493000,494000,495000,496000,497000,498000,499000,500000,501000,502000,503000,504000,505000,506000,507000,508000,509000,510000,511000,512000,513000,514000,515000,516000,517000,518000,519000,520000,521000,522000,523000,524000,525000,526000,527000,528000,529000,530000,531000,532000,533000,534000,535000,536000,537000,538000,539000,540000,541000,542000,543000,544000,545000,546000,547000,548000,549000,550000,551000,552000,553000,554000,555000,556000,557000,558000,559000,560000,561000,562000,563000,564000,565000,566000,567000,568000,569000,570000,571000,572000,573000,574000,575000,576000,577000,578000,579000,580000,581000,582000,583000,584000,585000,586000,587000,588000,589000,590000,591000,592000,593000,594000,595000,596000,597000,598000,599000,600000,601000,602000,603000,604000,605000,606000,607000,608000,609000,610000,611000,612000,613000,614000,615000,616000,617000,618000,619000,620000,621000,622000,623000,624000,625000,626000,627000,628000,629000,630000,631000,632000,633000,634000,635000,636000,637000,638000,639000,640000,641000,642000,643000,644000,645000,646000,647000,648000,649000,650000,651000,652000,653000,654000,655000,656000,657000,658000,659000,660000,661000,662000,663000,664000,665000,666000,667000,668000,669000,670000,671000,672000,673000,674000,675000,676000,677000,678000,679000,680000,681000,682000,683000,684000,685000,686000,687000,688000,689000,690000,691000,692000,693000,694000,695000,696000,697000,698000,699000,700000,701000,702000,703000,704000,705000,706000,707000,708000,709000,710000,711000,712000,713000,714000,715000,716000,717000,718000,719000,720000,721000,722000,723000,724000,725000,726000,727000,728000,729000,730000,731000,732000,733000,734000,735000,736000,737000,738000,739000,740000,741000,742000,743000,744000,745000,746000,747000,748000,749000,750000,751000,752000,753000,754000,755000,756000,757000,758000,759000,760000,761000,762000,763000,764000,765000,766000,767000,768000,769000,770000,771000,772000,773000,774000,775000,776000,777000,778000,779000,780000,781000,782000,783000,784000,785000,786000,787000,788000,789000,790000,791000,792000,793000,794000,795000,796000,797000,798000,799000,800000,801000,802000,803000,804000,805000,806000,807000,808000,809000,810000,811000,812000,813000,814000,815000,816000,817000,818000,819000,820000,821000,822000,823000,824000,825000,826000,827000,828000,829000,830000,831000,832000,833000,834000,835000,836000,837000,838000,839000,840000,841000,842000,843000,844000,845000,846000,847000,848000,849000,850000,851000,852000,853000,854000,855000,856000,857000,858000,859000,860000,861000,862000,863000,864000,865000,866000,867000,868000,869000,870000,871000,872000,873000,874000,875000,876000,877000,878000,879000,880000,881000,882000,883000,884000,885000,886000,887000,888000,889000,890000,891000,892000,893000,894000,895000,896000,897000,898000,899000,900000,901000,902000,903000,904000,905000,906000,907000,908000,909000,910000,911000,912000,913000,914000,915000,916000,917000,918000,919000,920000,921000,922000,923000,924000,925000,926000,927000,928000,929000,930000,931000,932000,933000,934000,935000,936000,937000,938000,939000,940000,941000,942000,943000,944000,945000,946000,947000,948000,949000,950000,951000,952000,953000,954000,955000,956000,957000,958000,959000,960000,961000,962000,963000,964000,965000,966000,967000,968000,969000,970000,971000,972000,973000,974000,975000,976000,977000,978000,979000,980000,981000,982000,983000,984000,985000,986000,987000,988000,989000,990000,991000,992000,993000,994000,995000,996000,997000,998000,999000,1000000],\"y\":{\"__ndarray__\":\"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\",\"dtype\":\"float64\",\"shape\":[1000]}}},\"id\":\"76a9b598-0afd-4bed-b9b0-c2999fbf0163\",\"type\":\"ColumnDataSource\"},{\"attributes\":{\"fill_alpha\":{\"value\":0.1},\"fill_color\":{\"value\":\"#e41a1c\"},\"line_alpha\":{\"value\":0.1},\"line_color\":{\"value\":\"#e41a1c\"},\"x\":{\"field\":\"x\"},\"y\":{\"field\":\"y\"}},\"id\":\"deb4c909-4ed5-4841-8698-c9f7367bbd9a\",\"type\":\"Patch\"},{\"attributes\":{\"data_source\":{\"id\":\"067c8de5-a219-4afb-bdcf-af6c0c581ea7\",\"type\":\"ColumnDataSource\"},\"glyph\":{\"id\":\"34ef30b0-9b52-42a4-8170-9b5215ddf88c\",\"type\":\"Patch\"},\"hover_glyph\":null,\"nonselection_glyph\":{\"id\":\"98505c38-2753-4b7f-93e3-d728ff26e84a\",\"type\":\"Patch\"},\"selection_glyph\":null},\"id\":\"2afaa2f6-fce3-4d03-b8ac-17879f8df719\",\"type\":\"GlyphRenderer\"},{\"attributes\":{\"plot\":{\"id\":\"ecaec224-c912-4974-b2d9-e9a39da9b718\",\"subtype\":\"Figure\",\"type\":\"Plot\"}},\"id\":\"4500fe75-e34f-4132-8761-82267b3daffc\",\"type\":\"PanTool\"},{\"attributes\":{\"overlay\":{\"id\":\"7dd8c3a9-1e35-40b5-b322-3a422af946da\",\"type\":\"BoxAnnotation\"},\"plot\":{\"id\":\"ecaec224-c912-4974-b2d9-e9a39da9b718\",\"subtype\":\"Figure\",\"type\":\"Plot\"}},\"id\":\"806c7c4e-4a76-4ae1-bddb-25aed0b212c6\",\"type\":\"BoxZoomTool\"},{\"attributes\":{\"callback\":null},\"id\":\"e3fc1a43-9454-4192-9206-ad8fc0700fc3\",\"type\":\"DataRange1d\"},{\"attributes\":{\"fill_alpha\":{\"value\":0.1},\"fill_color\":{\"value\":\"#1f77b4\"},\"line_alpha\":{\"value\":0.1},\"line_color\":{\"value\":\"#1f77b4\"},\"x\":{\"field\":\"x\"},\"y\":{\"field\":\"y\"}},\"id\":\"ea14e83e-f884-48ae-92f8-1eee83d7aa46\",\"type\":\"Patch\"},{\"attributes\":{\"fill_alpha\":{\"value\":0.1},\"fill_color\":{\"value\":\"#1f77b4\"},\"line_alpha\":{\"value\":0.1},\"line_color\":{\"value\":\"#1f77b4\"},\"x\":{\"field\":\"x\"},\"y\":{\"field\":\"y\"}},\"id\":\"68bad794-4a93-4b8a-b6df-2fc6dba26c3a\",\"type\":\"Patch\"},{\"attributes\":{\"line_color\":{\"value\":\"#e41a1c\"},\"line_width\":{\"value\":2},\"x\":{\"field\":\"x\"},\"y\":{\"field\":\"y\"}},\"id\":\"87ed2dbd-bd70-4b9b-8aa2-3888b08c742a\",\"type\":\"Line\"},{\"attributes\":{\"active_drag\":\"auto\",\"active_scroll\":\"auto\",\"active_tap\":\"auto\",\"tools\":[{\"id\":\"4500fe75-e34f-4132-8761-82267b3daffc\",\"type\":\"PanTool\"},{\"id\":\"158d7a06-9ba2-43b1-ba44-e1ad2b5bb665\",\"type\":\"WheelZoomTool\"},{\"id\":\"806c7c4e-4a76-4ae1-bddb-25aed0b212c6\",\"type\":\"BoxZoomTool\"},{\"id\":\"508a61b9-52d1-41fe-864a-c34e52075b13\",\"type\":\"SaveTool\"},{\"id\":\"983e1fec-ae57-4cdc-8104-99041ea71d8b\",\"type\":\"ResetTool\"},{\"id\":\"04cbab37-37f1-4ebf-9602-b6774fd1e73a\",\"type\":\"HelpTool\"}]},\"id\":\"ce97849d-0f7a-451c-b159-aa5f2c639c11\",\"type\":\"Toolbar\"},{\"attributes\":{\"use_scientific\":false},\"id\":\"3eb35e76-9a7d-4d56-b89a-6b5891ed109c\",\"type\":\"BasicTickFormatter\"},{\"attributes\":{\"fill_alpha\":{\"value\":0.1},\"fill_color\":{\"value\":\"#1f77b4\"},\"line_alpha\":{\"value\":0.1},\"line_color\":{\"value\":\"#1f77b4\"},\"x\":{\"field\":\"x\"},\"y\":{\"field\":\"y\"}},\"id\":\"98505c38-2753-4b7f-93e3-d728ff26e84a\",\"type\":\"Patch\"},{\"attributes\":{\"dimension\":1,\"plot\":{\"id\":\"ecaec224-c912-4974-b2d9-e9a39da9b718\",\"subtype\":\"Figure\",\"type\":\"Plot\"},\"ticker\":{\"id\":\"ca6ec150-8287-44bc-ae90-731b3f926dff\",\"type\":\"BasicTicker\"}},\"id\":\"62d1ccad-5a0a-46b0-9a9d-ddd36ea82d5c\",\"type\":\"Grid\"},{\"attributes\":{\"line_alpha\":{\"value\":0.1},\"line_color\":{\"value\":\"#1f77b4\"},\"line_width\":{\"value\":2},\"x\":{\"field\":\"x\"},\"y\":{\"field\":\"y\"}},\"id\":\"84b116e7-0a6a-459c-9168-fe494d40ddb9\",\"type\":\"Line\"},{\"attributes\":{\"callback\":null,\"column_names\":[\"x\",\"y\"],\"data\":{\"x\":[0,1000,2000,3000,4000,5000,6000,7000,8000,9000,10000,11000,12000,13000,14000,15000,16000,17000,18000,19000,20000,21000,22000,23000,24000,25000,26000,27000,28000,29000,30000,31000,32000,33000,34000,35000,36000,37000,38000,39000,40000,41000,42000,43000,44000,45000,46000,47000,48000,49000,50000,51000,52000,53000,54000,55000,56000,57000,58000,59000,60000,61000,62000,63000,64000,65000,66000,67000,68000,69000,70000,71000,72000,73000,74000,75000,76000,77000,78000,79000,80000,81000,82000,83000,84000,85000,86000,87000,88000,89000,90000,91000,92000,93000,94000,95000,96000,97000,98000,99000,100000,101000,102000,103000,104000,105000,106000,107000,108000,109000,110000,111000,112000,113000,114000,115000,116000,117000,118000,119000,120000,121000,122000,123000,124000,125000,126000,127000,128000,129000,130000,131000,132000,133000,134000,135000,136000,137000,138000,139000,140000,141000,142000,143000,144000,145000,146000,147000,148000,149000,150000,151000,152000,153000,154000,155000,156000,157000,158000,159000,160000,161000,162000,163000,164000,165000,166000,167000,168000,169000,170000,171000,172000,173000,174000,175000,176000,177000,178000,179000,180000,181000,182000,183000,184000,185000,186000,187000,188000,189000,190000,191000,192000,193000,194000,195000,196000,197000,198000,199000,200000,201000,202000,203000,204000,205000,206000,207000,208000,209000,210000,211000,212000,213000,214000,215000,216000,217000,218000,219000,220000,221000,222000,223000,224000,225000,226000,227000,228000,229000,230000,231000,232000,233000,234000,235000,236000,237000,238000,239000,240000,241000,242000,243000,244000,245000,246000,247000,248000,249000,250000,251000,252000,253000,254000,255000,256000,257000,258000,259000,260000,261000,262000,263000,264000,265000,266000,267000,268000,269000,270000,271000,272000,273000,274000,275000,276000,277000,278000,279000,280000,281000,282000,283000,284000,285000,286000,287000,288000,289000,290000,291000,292000,293000,294000,295000,296000,297000,298000,299000,300000,301000,302000,303000,304000,305000,306000,307000,308000,309000,310000,311000,312000,313000,314000,315000,316000,317000,318000,319000,320000,321000,322000,323000,324000,325000,326000,327000,328000,329000,330000,331000,332000,333000,334000,335000,336000,337000,338000,339000,340000,341000,342000,343000,344000,345000,346000,347000,348000,349000,350000,351000,352000,353000,354000,355000,356000,357000,358000,359000,360000,361000,362000,363000,364000,365000,366000,367000,368000,369000,370000,371000,372000,373000,374000,375000,376000,377000,378000,379000,380000,381000,382000,383000,384000,385000,386000,387000,388000,389000,390000,391000,392000,393000,394000,395000,396000,397000,398000,399000,400000,401000,402000,403000,404000,405000,406000,407000,408000,409000,410000,411000,412000,413000,414000,415000,416000,417000,418000,419000,420000,421000,422000,423000,424000,425000,426000,427000,428000,429000,430000,431000,432000,433000,434000,435000,436000,437000,438000,439000,440000,441000,442000,443000,444000,445000,446000,447000,448000,449000,450000,451000,452000,453000,454000,455000,456000,457000,458000,459000,460000,461000,462000,463000,464000,465000,466000,467000,468000,469000,470000,471000,472000,473000,474000,475000,476000,477000,478000,479000,480000,481000,482000,483000,484000,485000,486000,487000,488000,489000,490000,491000,492000,493000,494000,495000,496000,497000,498000,499000,500000,501000,502000,503000,504000,505000,506000,507000,508000,509000,510000,511000,512000,513000,514000,515000,516000,517000,518000,519000,520000,521000,522000,523000,524000,525000,526000,527000,528000,529000,530000,531000,532000,533000,534000,535000,536000,537000,538000,539000,540000,541000,542000,543000,544000,545000,546000,547000,548000,549000,550000,551000,552000,553000,554000,555000,556000,557000,558000,559000,560000,561000,562000,563000,564000,565000,566000,567000,568000,569000,570000,571000,572000,573000,574000,575000,576000,577000,578000,579000,580000,581000,582000,583000,584000,585000,586000,587000,588000,589000,590000,591000,592000,593000,594000,595000,596000,597000,598000,599000,600000,601000,602000,603000,604000,605000,606000,607000,608000,609000,610000,611000,612000,613000,614000,615000,616000,617000,618000,619000,620000,621000,622000,623000,624000,625000,626000,627000,628000,629000,630000,631000,632000,633000,634000,635000,636000,637000,638000,639000,640000,641000,642000,643000,644000,645000,646000,647000,648000,649000,650000,651000,652000,653000,654000,655000,656000,657000,658000,659000,660000,661000,662000,663000,664000,665000,666000,667000,668000,669000,670000,671000,672000,673000,674000,675000,676000,677000,678000,679000,680000,681000,682000,683000,684000,685000,686000,687000,688000,689000,690000,691000,692000,693000,694000,695000,696000,697000,698000,699000,700000,701000,702000,703000,704000,705000,706000,707000,708000,709000,710000,711000,712000,713000,714000,715000,716000,717000,718000,719000,720000,721000,722000,723000,724000,725000,726000,727000,728000,729000,730000,731000,732000,733000,734000,735000,736000,737000,738000,739000,740000,741000,742000,743000,744000,745000,746000,747000,748000,749000,750000,751000,752000,753000,754000,755000,756000,757000,758000,759000,760000,761000,762000,763000,764000,765000,766000,767000,768000,769000,770000,771000,772000,773000,774000,775000,776000,777000,778000,779000,780000,781000,782000,783000,784000,785000,786000,787000,788000,789000,790000,791000,792000,793000,794000,795000,796000,797000,798000,799000,800000,801000,802000,803000,804000,805000,806000,807000,808000,809000,810000,811000,812000,813000,814000,815000,816000,817000,818000,819000,820000,821000,822000,823000,824000,825000,826000,827000,828000,829000,830000,831000,832000,833000,834000,835000,836000,837000,838000,839000,840000,841000,842000,843000,844000,845000,846000,847000,848000,849000,850000,851000,852000,853000,854000,855000,856000,857000,858000,859000,860000,861000,862000,863000,864000,865000,866000,867000,868000,869000,870000,871000,872000,873000,874000,875000,876000,877000,878000,879000,880000,881000,882000,883000,884000,885000,886000,887000,888000,889000,890000,891000,892000,893000,894000,895000,896000,897000,898000,899000,900000,901000,902000,903000,904000,905000,906000,907000,908000,909000,910000,911000,912000,913000,914000,915000,916000,917000,918000,919000,920000,921000,922000,923000,924000,925000,926000,927000,928000,929000,930000,931000,932000,933000,934000,935000,936000,937000,938000,939000,940000,941000,942000,943000,944000,945000,946000,947000,948000,949000,950000,951000,952000,953000,954000,955000,956000,957000,958000,959000,960000,961000,962000,963000,964000,965000,966000,967000,968000,969000,970000,971000,972000,973000,974000,975000,976000,977000,978000,979000,980000,981000,982000,983000,984000,985000,986000,987000,988000,989000,990000,991000,992000,993000,994000,995000,996000,997000,998000,999000,1000000,1000000,999000,998000,997000,996000,995000,994000,993000,992000,991000,990000,989000,988000,987000,986000,985000,984000,983000,982000,981000,980000,979000,978000,977000,976000,975000,974000,973000,972000,971000,970000,969000,968000,967000,966000,965000,964000,963000,962000,961000,960000,959000,958000,957000,956000,955000,954000,953000,952000,951000,950000,949000,948000,947000,946000,945000,944000,943000,942000,941000,940000,939000,938000,937000,936000,935000,934000,933000,932000,931000,930000,929000,928000,927000,926000,925000,924000,923000,922000,921000,920000,919000,918000,917000,916000,915000,914000,913000,912000,911000,910000,909000,908000,907000,906000,905000,904000,903000,902000,901000,900000,899000,898000,897000,896000,895000,894000,893000,892000,891000,890000,889000,888000,887000,886000,885000,884000,883000,882000,881000,880000,879000,878000,877000,876000,875000,874000,873000,872000,871000,870000,869000,868000,867000,866000,865000,864000,863000,862000,861000,860000,859000,858000,857000,856000,855000,854000,853000,852000,851000,850000,849000,848000,847000,846000,845000,844000,843000,842000,841000,840000,839000,838000,837000,836000,835000,834000,833000,832000,831000,830000,829000,828000,827000,826000,825000,824000,823000,822000,821000,820000,819000,818000,817000,816000,815000,814000,813000,812000,811000,810000,809000,808000,807000,806000,805000,804000,803000,802000,801000,800000,799000,798000,797000,796000,795000,794000,793000,792000,791000,790000,789000,788000,787000,786000,785000,784000,783000,782000,781000,780000,779000,778000,777000,776000,775000,774000,773000,772000,771000,770000,769000,768000,767000,766000,765000,764000,763000,762000,761000,760000,759000,758000,757000,756000,755000,754000,753000,752000,751000,750000,749000,748000,747000,746000,745000,744000,743000,742000,741000,740000,739000,738000,737000,736000,735000,734000,733000,732000,731000,730000,729000,728000,727000,726000,725000,724000,723000,722000,721000,720000,719000,718000,717000,716000,715000,714000,713000,712000,711000,710000,709000,708000,707000,706000,705000,704000,703000,702000,701000,700000,699000,698000,697000,696000,695000,694000,693000,692000,691000,690000,689000,688000,687000,686000,685000,684000,683000,682000,681000,680000,679000,678000,677000,676000,675000,674000,673000,672000,671000,670000,669000,668000,667000,666000,665000,664000,663000,662000,661000,660000,659000,658000,657000,656000,655000,654000,653000,652000,651000,650000,649000,648000,647000,646000,645000,644000,643000,642000,641000,640000,639000,638000,637000,636000,635000,634000,633000,632000,631000,630000,629000,628000,627000,626000,625000,624000,623000,622000,621000,620000,619000,618000,617000,616000,615000,614000,613000,612000,611000,610000,609000,608000,607000,606000,605000,604000,603000,602000,601000,600000,599000,598000,597000,596000,595000,594000,593000,592000,591000,590000,589000,588000,587000,586000,585000,584000,583000,582000,581000,580000,579000,578000,577000,576000,575000,574000,573000,572000,571000,570000,569000,568000,567000,566000,565000,564000,563000,562000,561000,560000,559000,558000,557000,556000,555000,554000,553000,552000,551000,550000,549000,548000,547000,546000,545000,544000,543000,542000,541000,540000,539000,538000,537000,536000,535000,534000,533000,532000,531000,530000,529000,528000,527000,526000,525000,524000,523000,522000,521000,520000,519000,518000,517000,516000,515000,514000,513000,512000,511000,510000,509000,508000,507000,506000,505000,504000,503000,502000,501000,500000,499000,498000,497000,496000,495000,494000,493000,492000,491000,490000,489000,488000,487000,486000,485000,484000,483000,482000,481000,480000,479000,478000,477000,476000,475000,474000,473000,472000,471000,470000,469000,468000,467000,466000,465000,464000,463000,462000,461000,460000,459000,458000,457000,456000,455000,454000,453000,452000,451000,450000,449000,448000,447000,446000,445000,444000,443000,442000,441000,440000,439000,438000,437000,436000,435000,434000,433000,432000,431000,430000,429000,428000,427000,426000,425000,424000,423000,422000,421000,420000,419000,418000,417000,416000,415000,414000,413000,412000,411000,410000,409000,408000,407000,406000,405000,404000,403000,402000,401000,400000,399000,398000,397000,396000,395000,394000,393000,392000,391000,390000,389000,388000,387000,386000,385000,384000,383000,382000,381000,380000,379000,378000,377000,376000,375000,374000,373000,372000,371000,370000,369000,368000,367000,366000,365000,364000,363000,362000,361000,360000,359000,358000,357000,356000,355000,354000,353000,352000,351000,350000,349000,348000,347000,346000,345000,344000,343000,342000,341000,340000,339000,338000,337000,336000,335000,334000,333000,332000,331000,330000,329000,328000,327000,326000,325000,324000,323000,322000,321000,320000,319000,318000,317000,316000,315000,314000,313000,312000,311000,310000,309000,308000,307000,306000,305000,304000,303000,302000,301000,300000,299000,298000,297000,296000,295000,294000,293000,292000,291000,290000,289000,288000,287000,286000,285000,284000,283000,282000,281000,280000,279000,278000,277000,276000,275000,274000,273000,272000,271000,270000,269000,268000,267000,266000,265000,264000,263000,262000,261000,260000,259000,258000,257000,256000,255000,254000,253000,252000,251000,250000,249000,248000,247000,246000,245000,244000,243000,242000,241000,240000,239000,238000,237000,236000,235000,234000,233000,232000,231000,230000,229000,228000,227000,226000,225000,224000,223000,222000,221000,220000,219000,218000,217000,216000,215000,214000,213000,212000,211000,210000,209000,208000,207000,206000,205000,204000,203000,202000,201000,200000,199000,198000,197000,196000,195000,194000,193000,192000,191000,190000,189000,188000,187000,186000,185000,184000,183000,182000,181000,180000,179000,178000,177000,176000,175000,174000,173000,172000,171000,170000,169000,168000,167000,166000,165000,164000,163000,162000,161000,160000,159000,158000,157000,156000,155000,154000,153000,152000,151000,150000,149000,148000,147000,146000,145000,144000,143000,142000,141000,140000,139000,138000,137000,136000,135000,134000,133000,132000,131000,130000,129000,128000,127000,126000,125000,124000,123000,122000,121000,120000,119000,118000,117000,116000,115000,114000,113000,112000,111000,110000,109000,108000,107000,106000,105000,104000,103000,102000,101000,100000,99000,98000,97000,96000,95000,94000,93000,92000,91000,90000,89000,88000,87000,86000,85000,84000,83000,82000,81000,80000,79000,78000,77000,76000,75000,74000,73000,72000,71000,70000,69000,68000,67000,66000,65000,64000,63000,62000,61000,60000,59000,58000,57000,56000,55000,54000,53000,52000,51000,50000,49000,48000,47000,46000,45000,44000,43000,42000,41000,40000,39000,38000,37000,36000,35000,34000,33000,32000,31000,30000,29000,28000,27000,26000,25000,24000,23000,22000,21000,20000,19000,18000,17000,16000,15000,14000,13000,12000,11000,10000,9000,8000,7000,6000,5000,4000,3000,2000,1000,0],\"y\":[1,72,92,130,183,184,189,212,212,212,212,212,212,331,353,353,353,353,353,395,425,425,425,425,433,433,433,433,433,433,433,433,433,433,433,433,433,433,433,433,433,433,433,433,433,433,433,433,433,433,433,433,433,433,433,433,433,433,433,433,433,433,433,433,433,433,433,433,433,433,433,433,433,433,433,433,433,433,433,433,433,433,433,433,433,433,433,433,433,433,433,433,433,433,433,433,433,433,433,433,433,433,433,433,433,433,433,433,433,433,433,433,433,433,433,433,433,433,433,433,433,433,433,433,433,433,433,433,433,433,433,433,433,433,433,433,433,433,433,433,433,433,433,433,433,433,433,433,433,433,433,433,433,433,433,433,433,433,433,433,433,433,433,433,433,433,433,433,433,433,433,433,433,433,433,433,433,433,433,433,433,433,433,433,433,433,433,433,433,433,433,433,433,433,433,433,433,433,433,433,433,433,433,433,433,433,433,433,433,433,433,433,433,433,433,433,433,433,433,433,433,433,433,433,433,433,433,433,433,433,433,433,433,433,433,433,433,433,433,433,433,433,433,433,433,433,433,433,433,433,433,433,433,433,433,433,433,433,433,433,433,433,433,433,433,433,433,433,433,433,433,433,433,433,433,433,433,433,433,433,433,433,433,433,433,433,433,433,433,433,433,433,433,433,433,433,433,433,433,433,433,433,433,433,433,433,433,433,433,433,433,433,433,433,433,433,433,433,433,433,433,433,433,433,433,433,433,433,433,433,433,433,433,433,433,433,433,433,433,433,433,433,433,433,433,433,433,433,433,433,433,433,433,433,433,433,433,433,433,433,433,433,433,433,433,433,433,433,433,433,433,433,433,433,433,433,433,433,433,433,433,433,433,433,433,433,433,433,433,433,433,433,433,433,433,433,433,433,433,433,433,433,433,433,433,433,433,433,433,433,433,433,433,433,433,433,433,433,433,433,433,433,433,433,433,433,433,433,433,433,433,433,433,433,433,433,433,433,433,433,433,433,433,433,433,433,433,433,433,433,433,433,433,433,433,433,433,433,433,433,433,433,433,433,433,433,433,433,433,433,433,433,433,433,433,433,433,433,433,433,433,433,433,433,433,433,433,433,433,433,433,433,433,433,433,433,433,433,433,433,433,434,438,438,469,469,469,469,469,471,471,471,471,471,472,472,472,472,472,472,472,472,481,481,481,481,481,481,481,495,495,495,495,497,510,510,517,618,641,647,647,647,659,659,659,661,661,661,712,712,712,712,714,717,717,717,753,753,753,753,755,847,938,1004,1008,1178,1289,1295,1311,1315,1320,1353,1409,1418,1418,1433,1433,1433,1435,1435,1446,1485,1485,1485,1485,1485,1485,1485,1485,1485,1485,1486,1488,1491,1606,1606,1606,1606,1672,1684,1693,1695,1695,1696,1696,1707,1749,1766,1792,1862,1862,1867,1867,1867,1867,1867,1867,1867,1946,1953,1958,1995,2021,2029,2052,2052,2052,2052,2052,2052,2052,2052,2052,2052,2052,2174,2274,2277,2277,2295,2295,2295,2295,2295,2295,2295,2295,2297,2297,2297,2297,2297,2297,2297,2297,2297,2297,2299,2299,2301,2301,2301,2301,2301,2301,2301,2301,2301,2301,2301,2301,2301,2303,2303,2303,2303,2303,2303,2303,2303,2303,2307,2307,2338,2375,2375,2375,2376,2376,2376,2376,2384,2387,2388,2477,2482,2486,2487,2487,2487,2487,2487,2487,2487,2487,2487,2487,2487,2487,2487,2487,2487,2489,2489,2489,2537,2540,2540,2540,2540,2540,2540,2540,2540,2540,2540,2540,2540,2540,2540,2540,2540,2540,2540,2540,2540,2540,2540,2540,2540,2540,2540,2540,2540,2540,2545,2545,2545,2550,2550,2553,2553,2553,2553,2553,2553,2553,2553,2553,2553,2553,2553,2553,2553,2553,2553,2553,2553,2553,2553,2553,2553,2553,2553,2553,2553,2553,2553,2553,2553,2553,2553,2662,2706,2706,2706,2706,2706,2706,2706,2706,2706,2706,2706,2706,2706,2706,2706,2706,2706,2706,2706,2706,2706,2706,2706,2706,2706,2706,2706,2706,2706,2706,2706,2706,2706,2706,2706,2706,2706,2706,2706,2706,2706,2706,2706,2706,2706,2706,2706,2706,2706,2706,2706,2706,2706,2706,2706,2706,2706,2706,2706,2706,2706,2706,2706,2706,2706,2706,2706,2706,2706,2706,2706,2706,2706,2706,2706,2706,2706,2706,2706,2706,2706,2706,2706,2706,2706,2706,2706,2726,2741,2741,2741,2741,2741,2741,2741,2741,2741,2741,2741,2741,2741,2741,2741,2741,2741,2742,2753,2753,2753,2753,2753,2753,2753,2753,2755,2755,2755,2755,2755,2755,2755,2755,2755,2758,2759,2759,2759,2759,2759,2759,2759,2759,2759,2759,2759,2759,2761,2761,2761,2761,2761,2761,2761,2761,2761,2762,2763,2763,2763,2763,2763,2763,2763,2763,2763,2763,2763,2763,2763,2763,2763,2763,2763,2763,2763,2763,2763,2763,2763,2763,2763,2763,2763,2763,2763,2763,2763,2763,2763,2763,2763,2763,2763,2763,2763,2763,2763,2763,2763,2763,2763,2763,2763,2763,2763,2763,2763,2763,2763,2763,2763,2763,2763,2763,2763,2763,2763,2763,2763,2763,2763,2763,2763,2763,2763,2763,2763,2763,2763,2763,2763,2763,2763,2763,2763,2763,2763,2763,2763,2763,2763,2763,2763,2763,2763,2763,2763,2763,2763,2763,2763,2763,2763,2763,2763,2763,2763,2763,2763,2763,2763,2763,2763,2763,2763,2763,2763,2763,2763,2763,2763,2763,2763,2763,2763,2763,2763,2763,2763,2763,2763,2763,2763,2763,2763,2763,2763,2763,2763,2763,2763,2763,2763,2763,2763,2763,2763,2763,2763,2763,2763,2763,2763,2763,2763,2763,2763,2763,2763,2763,2763,2763,2763,2763,2763,2763,2763,2763,2763,2763,2763,2763,2763,2763,2763,2763,2763,2763,2763,2763,2763,2763,2763,2763,2763,2763,2763,2763,2763,2763,2763,2763,2763,2763,2763,2763,2763,2763,2763,2763,2763,2763,2763,2763,2763,2763,2763,2763,2763,2763,2763,2763,2763,2763,2763,2763,2763,2763,2763,2763,2763,2763,2763,2763,2763,2763,2763,2763,2763,2763,2763,2763,2763,2763,2763,2763,2763,2763,2763,2763,2763,2763,2763,2763,2763,2763,2763,2763,2763,2763,2763,2763,2763,2763,2763,2763,2763,2763,2763,2763,2763,2763,2763,2763,2763,2763,2763,2763,2763,2763,2763,2763,2763,2763,2763,2763,2763,2763,2763,2763,2763,2763,2763,2763,2763,2763,2763,2763,2763,2763,2763,2763,2763,2763,2763,2763,2763,2763,2763,2763,2763,2763,2763,2763,2763,2763,2763,2763,2763,2763,2763,2763,2763,2763,2763,2763,2763,2763,2763,2763,2763,2763,2763,2763,2763,2763,2763,2763,2763,2763,2763,2763,2763,2763,2763,2763,2763,2763,2763,2763,2763,2763,2763,2763,2763,2763,2763,2763,2763,2763,2763,2763,2763,2763,2763,2763,2763,2763,2763,2763,2763,2763,2763,2763,2763,2763,2763,2763,2763,2763,2763,2763,2763,2763,2763,2763,2763,2763,2763,2763,2763,2763,2763,2763,2763,2763,2763,2763,2763,2763,2763,2763,2763,2763,2763,2763,2763,2763,2763,2763,2763,2763,2763,2763,2763,2763,2763,2763,2763,2763,2763,2763,2763,2763,2763,2763,2763,2763,2763,2763,2763,2763,2763,2763,2763,2763,2763,2763,2763,2763,2763,2763,2763,2763,2763,2763,2763,2763,2763,2763,2763,2763,2763,2763,2763,2763,2763,2763,2763,2763,2763,2763,2763,2763,2763,2763,2763,2763,2763,2763,2763,2763,2763,2763,2763,2763,2763,2763,2763,2763,2763,2763,2763,2763,2763,2763,2763,2763,2763,2763,2763,2763,2763,2763,2763,2763,2763,2763,2763,2763,2763,2763,2763,2763,2763,2763,2763,2763,2763,2763,2763,2763,2763,2763,2763,2763,2763,2763,2763,2763,2763,2763,2763,2763,2763,2763,2763,2763,2763,2763,2763,2763,2763,2763,2763,2763,2763,2763,2763,2763,2763,2763,2763,2763,2763,2763,2763,2763,2763,2763,2763,2763,2763,2763,2763,2763,2763,2763,2763,2763,2763,2763,2763,2763,2763,2763,2763,2763,2763,2763,2763,2763,2763,2763,2763,2763,2763,2763,2763,2763,2763,2763,2763,2763,2763,2763,2763,2763,2763,2763,2763,2763,2763,2763,2763,2763,2763,2763,2763,2763,2763,2763,2763,2763,2763,2763,2763,2763,2763,2763,2763,2763,2763,2763,2763,2763,2763,2763,2763,2763,2763,2763,2763,2763,2763,2763,2763,2763,2763,2763,2763,2763,2763,2763,2763,2763,2763,2763,2763,2763,2763,2763,2763,2763,2763,2763,2763,2763,2763,2763,2763,2763,2763,2763,2763,2763,2763,2763,2763,2763,2763,2763,2763,2763,2763,2763,2763,2763,2763,2763,2763,2763,2763,2763,2763,2763,2763,2763,2763,2763,2763,2763,2763,2763,2763,2763,2763,2763,2763,2763,2763,2763,2763,2763,2763,2763,2763,2763,2763,2763,2763,2763,2763,2763,2763,2763,2763,2763,2763,2763,2763,2763,2763,2763,2763,2763,2763,2763,2763,2763,2763,2763,2763,2763,2763,2763,2763,2763,2763,2763,2763,2763,2763,2763,2763,2763,2763,2763,2763,2763,2763,2763,2763,2763,2763,2759,2759,2759,2759,2759,2759,2759,2759,2759,2759,2759,2759,2759,2759,2759,2759,2757,2757,2757,2757,2757,2757,2757,2757,2757,2757,2757,2757,2757,2753,2753,2753,2753,2753,2753,2753,2753,2753,2753,2753,2753,2753,2753,2753,2753,2753,2753,2752,2746,2746,2746,2745,2745,2745,2745,2745,2745,2745,2745,2745,2745,2744,2725,2695,2695,2695,2695,2695,2695,2695,2695,2695,2695,2695,2695,2695,2695,2695,2695,2695,2695,2695,2695,2695,2695,2695,2695,2695,2695,2695,2695,2695,2695,2695,2695,2695,2695,2665,2601,2601,2601,2601,2601,2601,2601,2601,2601,2601,2601,2601,2601,2601,2601,2601,2601,2601,2601,2601,2601,2601,2601,2601,2601,2601,2601,2601,2601,2601,2601,2601,2601,2596,2580,2580,2564,2564,2564,2564,2564,2564,2564,2564,2564,2564,2564,2564,2564,2564,2564,2564,2564,2564,2564,2564,2564,2564,2564,2564,2564,2564,2564,2564,2562,2560,2501,2500,2494,2422,2418,2418,2418,2418,2418,2418,2418,2418,2418,2418,2418,2418,2418,2418,2418,2418,2418,2418,2418,2414,2364,2364,2362,2362,2357,2357,2357,2357,2353,2353,2353,2352,2352,2346,2250,2250,2250,2250,2250,2250,2250,2249,2249,2249,2249,2249,2249,2249,2248,2212,2209,2095,2071,2071,2071,2061,2059,2057,2056,2056,2056,2056,2056,2056,2056,2056,2056,2049,2048,2047,2046,2046,2046,2014,1991,1957,1769,1768,1768,1768,1768,1768,1768,1768,1721,1721,1721,1721,1696,1681,1681,1681,1681,1681,1681,1681,1681,1681,1680,1679,1679,1679,1676,1676,1676,1676,1674,1674,1673,1673,1673,1673,1673,1673,1673,1673,1673,1673,1672,1671,1670,1621,1596,1589,1589,1587,1587,1566,1561,1535,1461,1323,1323,1298,1298,1298,1298,1298,1298,1298,1298,1298,1298,1280,1192,1154,1102,1098,1088,1050,990,877,805,786,781,781,724,720,662,544,543,538,538,533,533,533,505,424,422,383,358,250,185,1]}},\"id\":\"4fb389e1-ef21-4f04-b876-34c346b77cb1\",\"type\":\"ColumnDataSource\"},{\"attributes\":{\"data_source\":{\"id\":\"4fb389e1-ef21-4f04-b876-34c346b77cb1\",\"type\":\"ColumnDataSource\"},\"glyph\":{\"id\":\"e9511d6e-733d-4560-90ed-d97060e3ebc9\",\"type\":\"Patch\"},\"hover_glyph\":null,\"nonselection_glyph\":{\"id\":\"ea14e83e-f884-48ae-92f8-1eee83d7aa46\",\"type\":\"Patch\"},\"selection_glyph\":null},\"id\":\"32410a13-222f-4e7f-b53e-02285b8dc18d\",\"type\":\"GlyphRenderer\"},{\"attributes\":{\"callback\":null,\"column_names\":[\"x\",\"y\"],\"data\":{\"x\":[0,1000,2000,3000,4000,5000,6000,7000,8000,9000,10000,11000,12000,13000,14000,15000,16000,17000,18000,19000,20000,21000,22000,23000,24000,25000,26000,27000,28000,29000,30000,31000,32000,33000,34000,35000,36000,37000,38000,39000,40000,41000,42000,43000,44000,45000,46000,47000,48000,49000,50000,51000,52000,53000,54000,55000,56000,57000,58000,59000,60000,61000,62000,63000,64000,65000,66000,67000,68000,69000,70000,71000,72000,73000,74000,75000,76000,77000,78000,79000,80000,81000,82000,83000,84000,85000,86000,87000,88000,89000,90000,91000,92000,93000,94000,95000,96000,97000,98000,99000,100000,101000,102000,103000,104000,105000,106000,107000,108000,109000,110000,111000,112000,113000,114000,115000,116000,117000,118000,119000,120000,121000,122000,123000,124000,125000,126000,127000,128000,129000,130000,131000,132000,133000,134000,135000,136000,137000,138000,139000,140000,141000,142000,143000,144000,145000,146000,147000,148000,149000,150000,151000,152000,153000,154000,155000,156000,157000,158000,159000,160000,161000,162000,163000,164000,165000,166000,167000,168000,169000,170000,171000,172000,173000,174000,175000,176000,177000,178000,179000,180000,181000,182000,183000,184000,185000,186000,187000,188000,189000,190000,191000,192000,193000,194000,195000,196000,197000,198000,199000,200000,201000,202000,203000,204000,205000,206000,207000,208000,209000,210000,211000,212000,213000,214000,215000,216000,217000,218000,219000,220000,221000,222000,223000,224000,225000,226000,227000,228000,229000,230000,231000,232000,233000,234000,235000,236000,237000,238000,239000,240000,241000,242000,243000,244000,245000,246000,247000,248000,249000,250000,251000,252000,253000,254000,255000,256000,257000,258000,259000,260000,261000,262000,263000,264000,265000,266000,267000,268000,269000,270000,271000,272000,273000,274000,275000,276000,277000,278000,279000,280000,281000,282000,283000,284000,285000,286000,287000,288000,289000,290000,291000,292000,293000,294000,295000,296000,297000,298000,299000,300000,301000,302000,303000,304000,305000,306000,307000,308000,309000,310000,311000,312000,313000,314000,315000,316000,317000,318000,319000,320000,321000,322000,323000,324000,325000,326000,327000,328000,329000,330000,331000,332000,333000,334000,335000,336000,337000,338000,339000,340000,341000,342000,343000,344000,345000,346000,347000,348000,349000,350000,351000,352000,353000,354000,355000,356000,357000,358000,359000,360000,361000,362000,363000,364000,365000,366000,367000,368000,369000,370000,371000,372000,373000,374000,375000,376000,377000,378000,379000,380000,381000,382000,383000,384000,385000,386000,387000,388000,389000,390000,391000,392000,393000,394000,395000,396000,397000,398000,399000,400000,401000,402000,403000,404000,405000,406000,407000,408000,409000,410000,411000,412000,413000,414000,415000,416000,417000,418000,419000,420000,421000,422000,423000,424000,425000,426000,427000,428000,429000,430000,431000,432000,433000,434000,435000,436000,437000,438000,439000,440000,441000,442000,443000,444000,445000,446000,447000,448000,449000,450000,451000,452000,453000,454000,455000,456000,457000,458000,459000,460000,461000,462000,463000,464000,465000,466000,467000,468000,469000,470000,471000,472000,473000,474000,475000,476000,477000,478000,479000,480000,481000,482000,483000,484000,485000,486000,487000,488000,489000,490000,491000,492000,493000,494000,495000,496000,497000,498000,499000,500000,501000,502000,503000,504000,505000,506000,507000,508000,509000,510000,511000,512000,513000,514000,515000,516000,517000,518000,519000,520000,521000,522000,523000,524000,525000,526000,527000,528000,529000,530000,531000,532000,533000,534000,535000,536000,537000,538000,539000,540000,541000,542000,543000,544000,545000,546000,547000,548000,549000,550000,551000,552000,553000,554000,555000,556000,557000,558000,559000,560000,561000,562000,563000,564000,565000,566000,567000,568000,569000,570000,571000,572000,573000,574000,575000,576000,577000,578000,579000,580000,581000,582000,583000,584000,585000,586000,587000,588000,589000,590000,591000,592000,593000,594000,595000,596000,597000,598000,599000,600000,601000,602000,603000,604000,605000,606000,607000,608000,609000,610000,611000,612000,613000,614000,615000,616000,617000,618000,619000,620000,621000,622000,623000,624000,625000,626000,627000,628000,629000,630000,631000,632000,633000,634000,635000,636000,637000,638000,639000,640000,641000,642000,643000,644000,645000,646000,647000,648000,649000,650000,651000,652000,653000,654000,655000,656000,657000,658000,659000,660000,661000,662000,663000,664000,665000,666000,667000,668000,669000,670000,671000,672000,673000,674000,675000,676000,677000,678000,679000,680000,681000,682000,683000,684000,685000,686000,687000,688000,689000,690000,691000,692000,693000,694000,695000,696000,697000,698000,699000,700000,701000,702000,703000,704000,705000,706000,707000,708000,709000,710000,711000,712000,713000,714000,715000,716000,717000,718000,719000,720000,721000,722000,723000,724000,725000,726000,727000,728000,729000,730000,731000,732000,733000,734000,735000,736000,737000,738000,739000,740000,741000,742000,743000,744000,745000,746000,747000,748000,749000,750000,751000,752000,753000,754000,755000,756000,757000,758000,759000,760000,761000,762000,763000,764000,765000,766000,767000,768000,769000,770000,771000,772000,773000,774000,775000,776000,777000,778000,779000,780000,781000,782000,783000,784000,785000,786000,787000,788000,789000,790000,791000,792000,793000,794000,795000,796000,797000,798000,799000,800000,801000,802000,803000,804000,805000,806000,807000,808000,809000,810000,811000,812000,813000,814000,815000,816000,817000,818000,819000,820000,821000,822000,823000,824000,825000,826000,827000,828000,829000,830000,831000,832000,833000,834000,835000,836000,837000,838000,839000,840000,841000,842000,843000,844000,845000,846000,847000,848000,849000,850000,851000,852000,853000,854000,855000,856000,857000,858000,859000,860000,861000,862000,863000,864000,865000,866000,867000,868000,869000,870000,871000,872000,873000,874000,875000,876000,877000,878000,879000,880000,881000,882000,883000,884000,885000,886000,887000,888000,889000,890000,891000,892000,893000,894000,895000,896000,897000,898000,899000,900000,901000,902000,903000,904000,905000,906000,907000,908000,909000,910000,911000,912000,913000,914000,915000,916000,917000,918000,919000,920000,921000,922000,923000,924000,925000,926000,927000,928000,929000,930000,931000,932000,933000,934000,935000,936000,937000,938000,939000,940000,941000,942000,943000,944000,945000,946000,947000,948000,949000,950000,951000,952000,953000,954000,955000,956000,957000,958000,959000,960000,961000,962000,963000,964000,965000,966000,967000,968000,969000,970000,971000,972000,973000,974000,975000,976000,977000,978000,979000,980000,981000,982000,983000,984000,985000,986000,987000,988000,989000,990000,991000,992000,993000,994000,995000,996000,997000,998000,999000,1000000,1000000,999000,998000,997000,996000,995000,994000,993000,992000,991000,990000,989000,988000,987000,986000,985000,984000,983000,982000,981000,980000,979000,978000,977000,976000,975000,974000,973000,972000,971000,970000,969000,968000,967000,966000,965000,964000,963000,962000,961000,960000,959000,958000,957000,956000,955000,954000,953000,952000,951000,950000,949000,948000,947000,946000,945000,944000,943000,942000,941000,940000,939000,938000,937000,936000,935000,934000,933000,932000,931000,930000,929000,928000,927000,926000,925000,924000,923000,922000,921000,920000,919000,918000,917000,916000,915000,914000,913000,912000,911000,910000,909000,908000,907000,906000,905000,904000,903000,902000,901000,900000,899000,898000,897000,896000,895000,894000,893000,892000,891000,890000,889000,888000,887000,886000,885000,884000,883000,882000,881000,880000,879000,878000,877000,876000,875000,874000,873000,872000,871000,870000,869000,868000,867000,866000,865000,864000,863000,862000,861000,860000,859000,858000,857000,856000,855000,854000,853000,852000,851000,850000,849000,848000,847000,846000,845000,844000,843000,842000,841000,840000,839000,838000,837000,836000,835000,834000,833000,832000,831000,830000,829000,828000,827000,826000,825000,824000,823000,822000,821000,820000,819000,818000,817000,816000,815000,814000,813000,812000,811000,810000,809000,808000,807000,806000,805000,804000,803000,802000,801000,800000,799000,798000,797000,796000,795000,794000,793000,792000,791000,790000,789000,788000,787000,786000,785000,784000,783000,782000,781000,780000,779000,778000,777000,776000,775000,774000,773000,772000,771000,770000,769000,768000,767000,766000,765000,764000,763000,762000,761000,760000,759000,758000,757000,756000,755000,754000,753000,752000,751000,750000,749000,748000,747000,746000,745000,744000,743000,742000,741000,740000,739000,738000,737000,736000,735000,734000,733000,732000,731000,730000,729000,728000,727000,726000,725000,724000,723000,722000,721000,720000,719000,718000,717000,716000,715000,714000,713000,712000,711000,710000,709000,708000,707000,706000,705000,704000,703000,702000,701000,700000,699000,698000,697000,696000,695000,694000,693000,692000,691000,690000,689000,688000,687000,686000,685000,684000,683000,682000,681000,680000,679000,678000,677000,676000,675000,674000,673000,672000,671000,670000,669000,668000,667000,666000,665000,664000,663000,662000,661000,660000,659000,658000,657000,656000,655000,654000,653000,652000,651000,650000,649000,648000,647000,646000,645000,644000,643000,642000,641000,640000,639000,638000,637000,636000,635000,634000,633000,632000,631000,630000,629000,628000,627000,626000,625000,624000,623000,622000,621000,620000,619000,618000,617000,616000,615000,614000,613000,612000,611000,610000,609000,608000,607000,606000,605000,604000,603000,602000,601000,600000,599000,598000,597000,596000,595000,594000,593000,592000,591000,590000,589000,588000,587000,586000,585000,584000,583000,582000,581000,580000,579000,578000,577000,576000,575000,574000,573000,572000,571000,570000,569000,568000,567000,566000,565000,564000,563000,562000,561000,560000,559000,558000,557000,556000,555000,554000,553000,552000,551000,550000,549000,548000,547000,546000,545000,544000,543000,542000,541000,540000,539000,538000,537000,536000,535000,534000,533000,532000,531000,530000,529000,528000,527000,526000,525000,524000,523000,522000,521000,520000,519000,518000,517000,516000,515000,514000,513000,512000,511000,510000,509000,508000,507000,506000,505000,504000,503000,502000,501000,500000,499000,498000,497000,496000,495000,494000,493000,492000,491000,490000,489000,488000,487000,486000,485000,484000,483000,482000,481000,480000,479000,478000,477000,476000,475000,474000,473000,472000,471000,470000,469000,468000,467000,466000,465000,464000,463000,462000,461000,460000,459000,458000,457000,456000,455000,454000,453000,452000,451000,450000,449000,448000,447000,446000,445000,444000,443000,442000,441000,440000,439000,438000,437000,436000,435000,434000,433000,432000,431000,430000,429000,428000,427000,426000,425000,424000,423000,422000,421000,420000,419000,418000,417000,416000,415000,414000,413000,412000,411000,410000,409000,408000,407000,406000,405000,404000,403000,402000,401000,400000,399000,398000,397000,396000,395000,394000,393000,392000,391000,390000,389000,388000,387000,386000,385000,384000,383000,382000,381000,380000,379000,378000,377000,376000,375000,374000,373000,372000,371000,370000,369000,368000,367000,366000,365000,364000,363000,362000,361000,360000,359000,358000,357000,356000,355000,354000,353000,352000,351000,350000,349000,348000,347000,346000,345000,344000,343000,342000,341000,340000,339000,338000,337000,336000,335000,334000,333000,332000,331000,330000,329000,328000,327000,326000,325000,324000,323000,322000,321000,320000,319000,318000,317000,316000,315000,314000,313000,312000,311000,310000,309000,308000,307000,306000,305000,304000,303000,302000,301000,300000,299000,298000,297000,296000,295000,294000,293000,292000,291000,290000,289000,288000,287000,286000,285000,284000,283000,282000,281000,280000,279000,278000,277000,276000,275000,274000,273000,272000,271000,270000,269000,268000,267000,266000,265000,264000,263000,262000,261000,260000,259000,258000,257000,256000,255000,254000,253000,252000,251000,250000,249000,248000,247000,246000,245000,244000,243000,242000,241000,240000,239000,238000,237000,236000,235000,234000,233000,232000,231000,230000,229000,228000,227000,226000,225000,224000,223000,222000,221000,220000,219000,218000,217000,216000,215000,214000,213000,212000,211000,210000,209000,208000,207000,206000,205000,204000,203000,202000,201000,200000,199000,198000,197000,196000,195000,194000,193000,192000,191000,190000,189000,188000,187000,186000,185000,184000,183000,182000,181000,180000,179000,178000,177000,176000,175000,174000,173000,172000,171000,170000,169000,168000,167000,166000,165000,164000,163000,162000,161000,160000,159000,158000,157000,156000,155000,154000,153000,152000,151000,150000,149000,148000,147000,146000,145000,144000,143000,142000,141000,140000,139000,138000,137000,136000,135000,134000,133000,132000,131000,130000,129000,128000,127000,126000,125000,124000,123000,122000,121000,120000,119000,118000,117000,116000,115000,114000,113000,112000,111000,110000,109000,108000,107000,106000,105000,104000,103000,102000,101000,100000,99000,98000,97000,96000,95000,94000,93000,92000,91000,90000,89000,88000,87000,86000,85000,84000,83000,82000,81000,80000,79000,78000,77000,76000,75000,74000,73000,72000,71000,70000,69000,68000,67000,66000,65000,64000,63000,62000,61000,60000,59000,58000,57000,56000,55000,54000,53000,52000,51000,50000,49000,48000,47000,46000,45000,44000,43000,42000,41000,40000,39000,38000,37000,36000,35000,34000,33000,32000,31000,30000,29000,28000,27000,26000,25000,24000,23000,22000,21000,20000,19000,18000,17000,16000,15000,14000,13000,12000,11000,10000,9000,8000,7000,6000,5000,4000,3000,2000,1000,0],\"y\":[1,72,72,72,72,114,179,207,207,207,259,370,370,370,373,373,373,378,381,381,474,475,475,475,475,475,475,475,483,483,483,562,642,702,704,704,704,704,704,704,704,704,704,705,708,708,708,708,716,716,716,720,720,750,751,751,751,779,910,963,1045,1089,1098,1098,1098,1098,1123,1187,1187,1187,1187,1187,1187,1194,1203,1285,1285,1285,1318,1339,1380,1402,1436,1482,1491,1491,1491,1491,1491,1491,1491,1491,1493,1508,1523,1523,1523,1523,1523,1523,1523,1523,1523,1525,1529,1529,1533,1533,1541,1544,1579,1579,1579,1579,1579,1579,1579,1579,1579,1582,1583,1583,1583,1583,1583,1583,1583,1583,1583,1583,1583,1583,1583,1583,1583,1583,1583,1583,1583,1583,1583,1583,1583,1583,1583,1583,1583,1583,1583,1583,1584,1584,1585,1585,1587,1587,1587,1587,1587,1587,1587,1587,1587,1587,1587,1587,1587,1587,1587,1587,1587,1587,1587,1587,1587,1587,1587,1587,1587,1587,1587,1587,1587,1587,1587,1587,1587,1587,1587,1587,1587,1587,1587,1587,1587,1587,1587,1587,1587,1587,1587,1587,1587,1587,1587,1587,1587,1587,1587,1587,1587,1587,1587,1587,1587,1587,1587,1587,1587,1587,1587,1587,1598,1608,1609,1609,1609,1609,1609,1609,1609,1609,1609,1610,1611,1611,1611,1611,1611,1611,1611,1611,1611,1611,1611,1632,1632,1632,1633,1680,1681,1688,1729,1729,1729,1729,1729,1729,1729,1729,1729,1729,1729,1731,1788,1865,1955,1961,1961,1961,1961,1961,1961,1961,1961,1961,1962,1974,1974,1974,1974,1974,2014,2014,2019,2019,2019,2019,2029,2029,2029,2029,2033,2035,2035,2035,2035,2035,2035,2035,2048,2062,2084,2084,2084,2084,2084,2084,2084,2084,2084,2084,2086,2086,2089,2090,2090,2101,2101,2102,2102,2102,2103,2103,2163,2163,2163,2163,2163,2163,2163,2163,2239,2273,2322,2339,2339,2339,2343,2343,2343,2343,2343,2343,2343,2343,2343,2343,2347,2347,2347,2347,2347,2347,2347,2347,2347,2347,2347,2347,2347,2347,2347,2347,2347,2347,2347,2347,2347,2347,2347,2347,2349,2349,2349,2349,2349,2349,2349,2349,2349,2349,2349,2349,2349,2349,2349,2349,2352,2352,2352,2352,2352,2355,2374,2376,2376,2376,2376,2376,2376,2376,2376,2376,2376,2376,2376,2376,2376,2376,2376,2376,2376,2376,2376,2376,2376,2376,2376,2376,2376,2376,2376,2376,2376,2376,2376,2376,2376,2376,2376,2376,2376,2376,2376,2376,2376,2376,2376,2376,2376,2376,2376,2376,2376,2376,2376,2376,2376,2376,2376,2376,2376,2376,2376,2376,2376,2376,2376,2376,2376,2376,2376,2376,2376,2376,2376,2376,2376,2376,2376,2376,2376,2376,2376,2376,2376,2376,2376,2376,2376,2376,2376,2376,2376,2376,2376,2376,2376,2376,2376,2376,2376,2376,2376,2376,2376,2376,2376,2376,2376,2376,2376,2376,2376,2376,2376,2376,2376,2376,2376,2376,2376,2376,2376,2376,2376,2376,2376,2376,2376,2376,2376,2376,2376,2376,2376,2376,2376,2376,2376,2376,2376,2376,2376,2376,2376,2376,2376,2376,2376,2376,2376,2376,2376,2376,2376,2376,2376,2376,2376,2376,2376,2376,2376,2376,2376,2376,2376,2376,2376,2376,2376,2376,2376,2376,2376,2376,2376,2376,2376,2376,2376,2376,2376,2376,2376,2376,2376,2376,2376,2376,2376,2376,2376,2376,2376,2376,2376,2376,2376,2378,2378,2378,2378,2378,2378,2378,2378,2378,2378,2378,2378,2378,2378,2378,2378,2378,2378,2378,2378,2378,2378,2378,2378,2378,2378,2378,2378,2378,2378,2378,2378,2378,2378,2378,2378,2378,2378,2378,2378,2378,2378,2378,2378,2378,2378,2378,2378,2378,2378,2378,2378,2378,2378,2378,2378,2378,2378,2378,2378,2378,2378,2378,2378,2378,2378,2378,2378,2378,2378,2378,2378,2378,2378,2378,2378,2378,2378,2378,2378,2378,2378,2378,2378,2378,2378,2378,2378,2378,2378,2378,2378,2378,2378,2378,2378,2378,2378,2378,2378,2378,2378,2378,2378,2378,2378,2378,2378,2378,2378,2378,2378,2378,2378,2378,2378,2378,2378,2378,2378,2378,2378,2378,2378,2378,2378,2378,2378,2378,2378,2378,2378,2378,2378,2378,2378,2378,2378,2378,2378,2378,2378,2378,2378,2378,2378,2378,2378,2378,2378,2378,2378,2378,2378,2378,2378,2378,2378,2378,2378,2378,2378,2378,2378,2378,2378,2378,2378,2379,2380,2395,2497,2501,2516,2516,2516,2516,2540,2540,2544,2544,2564,2567,2567,2567,2567,2567,2567,2567,2567,2567,2567,2567,2567,2567,2567,2567,2567,2567,2567,2567,2567,2567,2567,2567,2567,2567,2567,2567,2567,2567,2567,2567,2567,2567,2567,2567,2567,2567,2567,2567,2567,2567,2567,2567,2567,2567,2567,2567,2567,2567,2567,2567,2567,2567,2567,2567,2567,2567,2567,2567,2567,2567,2567,2567,2567,2567,2567,2567,2567,2567,2567,2567,2567,2567,2567,2567,2567,2567,2567,2567,2567,2567,2567,2567,2567,2567,2567,2567,2567,2567,2591,2603,2608,2608,2608,2608,2608,2608,2608,2608,2608,2608,2609,2609,2610,2619,2621,2621,2621,2621,2621,2621,2621,2621,2621,2621,2621,2621,2621,2623,2623,2623,2625,2625,2627,2627,2627,2627,2627,2627,2627,2627,2692,2692,2692,2692,2692,2692,2692,2692,2692,2692,2692,2692,2692,2692,2692,2692,2692,2692,2704,2704,2704,2704,2704,2704,2704,2704,2704,2704,2704,2704,2704,2704,2704,2704,2704,2704,2704,2704,2704,2704,2704,2704,2704,2704,2704,2704,2704,2704,2704,2704,2706,2706,2706,2735,2751,2751,2751,2751,2751,2751,2751,2751,2751,2751,2751,2751,2751,2751,2751,2751,2751,2751,2751,2751,2751,2751,2751,2751,2751,2751,2751,2751,2751,2751,2751,2751,2751,2752,2752,2752,2752,2752,2752,2752,2752,2752,2763,2763,2763,2763,2763,2763,2763,2763,2763,2763,2763,2763,2763,2763,2763,2763,2763,2763,2763,2763,2763,2763,2763,2763,2763,2763,2763,2763,2763,2763,2763,2763,2763,2763,2763,2763,2763,2763,2763,2763,2763,2763,2763,2763,2763,2763,2763,2763,2763,2763,2763,2763,2763,2763,2763,2763,2763,2763,2763,2763,2763,2763,2763,2763,2763,2763,2763,2763,2763,2763,2763,2763,2763,2763,2763,2763,2763,2763,2763,2763,2763,2763,2763,2763,2763,2763,2763,2763,2763,2763,2763,2763,2763,2763,2763,2763,2763,2763,2763,2763,2763,2763,2763,2763,2763,2763,2763,2763,2763,2763,2763,2763,2763,2763,2763,2763,2763,2763,2763,2763,2763,2763,2763,2763,2763,2763,2763,2763,2763,2763,2763,2763,2763,2763,2763,2763,2763,2763,2763,2763,2763,2763,2763,2763,2763,2763,2763,2763,2763,2763,2763,2763,2763,2763,2763,2763,2763,2763,2763,2763,2763,2763,2763,2763,2763,2763,2763,2763,2763,2763,2763,2763,2763,2763,2763,2763,2763,2763,2763,2763,2763,2763,2763,2763,2763,2763,2763,2763,2763,2763,2763,2763,2763,2763,2763,2763,2763,2763,2763,2763,2763,2763,2763,2763,2763,2763,2763,2763,2763,2763,2763,2763,2763,2763,2763,2763,2763,2763,2763,2763,2763,2763,2763,2763,2763,2763,2763,2763,2763,2763,2763,2763,2763,2763,2763,2763,2763,2763,2763,2763,2763,2763,2763,2763,2763,2763,2763,2763,2763,2763,2763,2763,2763,2763,2763,2763,2763,2763,2763,2763,2763,2763,2763,2763,2763,2763,2763,2763,2763,2763,2763,2763,2763,2763,2763,2763,2763,2763,2763,2763,2763,2763,2763,2763,2763,2763,2763,2763,2763,2763,2763,2763,2763,2763,2763,2763,2763,2763,2763,2763,2763,2763,2763,2763,2763,2763,2763,2763,2763,2763,2763,2763,2763,2763,2763,2763,2763,2763,2763,2763,2763,2763,2763,2763,2763,2763,2763,2763,2763,2763,2763,2763,2763,2763,2763,2763,2763,2763,2763,2763,2763,2763,2763,2763,2763,2763,2763,2763,2763,2763,2763,2763,2763,2763,2763,2763,2763,2763,2763,2763,2763,2763,2763,2763,2763,2763,2763,2763,2763,2763,2763,2763,2763,2763,2763,2763,2763,2763,2763,2763,2763,2763,2763,2763,2763,2763,2763,2763,2763,2763,2763,2763,2763,2763,2763,2763,2763,2763,2763,2763,2763,2763,2763,2763,2763,2763,2763,2763,2763,2763,2763,2763,2763,2763,2763,2763,2763,2763,2763,2763,2763,2763,2763,2763,2763,2763,2763,2763,2763,2763,2763,2763,2763,2763,2763,2763,2763,2763,2763,2763,2763,2763,2763,2763,2763,2763,2763,2763,2763,2763,2763,2763,2763,2763,2763,2763,2763,2763,2763,2763,2763,2763,2763,2763,2763,2763,2763,2763,2763,2763,2763,2763,2763,2763,2763,2763,2763,2763,2763,2763,2763,2763,2763,2763,2763,2763,2763,2763,2763,2763,2763,2763,2763,2763,2763,2763,2763,2763,2763,2763,2763,2763,2763,2763,2763,2763,2763,2763,2763,2763,2763,2763,2763,2763,2763,2763,2763,2763,2763,2763,2763,2763,2763,2763,2763,2763,2763,2763,2763,2763,2763,2763,2763,2763,2763,2763,2763,2763,2763,2763,2763,2763,2763,2763,2763,2763,2763,2763,2763,2763,2763,2763,2763,2763,2763,2763,2763,2763,2763,2763,2763,2763,2763,2763,2763,2763,2763,2763,2763,2763,2763,2763,2763,2763,2763,2763,2763,2763,2763,2763,2763,2763,2763,2763,2763,2763,2763,2763,2763,2763,2763,2763,2763,2763,2763,2763,2763,2763,2763,2763,2763,2763,2763,2763,2763,2763,2763,2763,2763,2763,2763,2763,2763,2763,2763,2763,2763,2763,2763,2763,2763,2763,2763,2763,2763,2763,2763,2763,2763,2763,2763,2763,2763,2763,2763,2763,2763,2763,2763,2763,2763,2763,2763,2763,2763,2763,2763,2763,2763,2763,2763,2763,2763,2763,2763,2763,2763,2763,2763,2763,2763,2763,2763,2763,2763,2763,2763,2763,2763,2763,2763,2763,2763,2763,2763,2763,2763,2763,2763,2763,2763,2763,2763,2763,2763,2763,2763,2763,2763,2763,2763,2763,2763,2763,2763,2763,2763,2763,2763,2763,2761,2761,2761,2761,2761,2761,2761,2761,2761,2761,2761,2755,2755,2755,2755,2755,2755,2755,2755,2755,2738,2725,2662,2662,2641,2629,2629,2629,2629,2629,2622,2622,2622,2601,2574,2574,2574,2574,2574,2574,2574,2574,2574,2574,2574,2574,2574,2574,2574,2574,2574,2574,2574,2574,2574,2574,2574,2574,2574,2574,2574,2574,2574,2574,2574,2574,2497,2497,2497,2497,2497,2491,2450,2403,2403,2403,2403,2403,2403,2403,2403,2403,2403,2403,2402,2402,2402,2402,2402,2402,2402,2401,2401,2401,2396,2395,2395,2359,2359,2359,2359,2359,2359,2345,2345,2345,2345,2345,2345,2345,2345,2344,2336,2336,2336,2335,2317,2317,2317,2317,2315,2314,2311,2309,2296,2296,2292,2285,2259,2259,2259,2259,2259,2259,2259,2259,2259,2259,2258,2239,2185,1993,1989,1989,1963,1887,1887,1878,1878,1815,1815,1815,1815,1815,1814,1814,1813,1803,1803,1803,1803,1803,1741,1741,1739,1739,1739,1732,1732,1732,1732,1732,1732,1732,1732,1732,1732,1732,1732,1732,1732,1728,1725,1723,1722,1722,1722,1722,1722,1722,1722,1722,1722,1722,1722,1722,1722,1722,1722,1722,1722,1722,1722,1719,1691,1690,1690,1690,1688,1688,1687,1661,1613,1607,1606,1582,1579,1579,1579,1579,1579,1579,1579,1579,1579,1579,1579,1579,1579,1579,1579,1579,1579,1579,1579,1579,1579,1579,1579,1579,1579,1579,1579,1576,1547,1529,1526,1498,1480,1478,1476,1388,1327,1230,1224,1224,1224,1224,1224,1224,1224,1224,1224,1224,1224,1224,1224,1222,1158,1148,1148,1148,1148,1148,1148,1144,1144,1143,1108,1108,1105,1070,1070,1069,1069,1047,1004,968,896,801,644,592,592,574,574,498,453,323,186,1]}},\"id\":\"66ab540d-f6cf-48d9-87d1-0dd8b469574e\",\"type\":\"ColumnDataSource\"},{\"attributes\":{\"line_color\":{\"value\":\"#4daf4a\"},\"line_width\":{\"value\":2},\"x\":{\"field\":\"x\"},\"y\":{\"field\":\"y\"}},\"id\":\"d0c41fb4-64de-4889-8b8f-b4a9537d39b2\",\"type\":\"Line\"},{\"attributes\":{\"fill_alpha\":{\"value\":0.1},\"fill_color\":{\"value\":\"#984ea3\"},\"line_alpha\":{\"value\":0.1},\"line_color\":{\"value\":\"#984ea3\"},\"x\":{\"field\":\"x\"},\"y\":{\"field\":\"y\"}},\"id\":\"34ef30b0-9b52-42a4-8170-9b5215ddf88c\",\"type\":\"Patch\"},{\"attributes\":{\"fill_alpha\":{\"value\":0.1},\"fill_color\":{\"value\":\"#4daf4a\"},\"line_alpha\":{\"value\":0.1},\"line_color\":{\"value\":\"#4daf4a\"},\"x\":{\"field\":\"x\"},\"y\":{\"field\":\"y\"}},\"id\":\"850d06d1-6980-42f9-a519-6fbb524d9c0f\",\"type\":\"Patch\"},{\"attributes\":{\"callback\":null,\"column_names\":[\"x\",\"y\"],\"data\":{\"x\":[0,1000,2000,3000,4000,5000,6000,7000,8000,9000,10000,11000,12000,13000,14000,15000,16000,17000,18000,19000,20000,21000,22000,23000,24000,25000,26000,27000,28000,29000,30000,31000,32000,33000,34000,35000,36000,37000,38000,39000,40000,41000,42000,43000,44000,45000,46000,47000,48000,49000,50000,51000,52000,53000,54000,55000,56000,57000,58000,59000,60000,61000,62000,63000,64000,65000,66000,67000,68000,69000,70000,71000,72000,73000,74000,75000,76000,77000,78000,79000,80000,81000,82000,83000,84000,85000,86000,87000,88000,89000,90000,91000,92000,93000,94000,95000,96000,97000,98000,99000,100000,101000,102000,103000,104000,105000,106000,107000,108000,109000,110000,111000,112000,113000,114000,115000,116000,117000,118000,119000,120000,121000,122000,123000,124000,125000,126000,127000,128000,129000,130000,131000,132000,133000,134000,135000,136000,137000,138000,139000,140000,141000,142000,143000,144000,145000,146000,147000,148000,149000,150000,151000,152000,153000,154000,155000,156000,157000,158000,159000,160000,161000,162000,163000,164000,165000,166000,167000,168000,169000,170000,171000,172000,173000,174000,175000,176000,177000,178000,179000,180000,181000,182000,183000,184000,185000,186000,187000,188000,189000,190000,191000,192000,193000,194000,195000,196000,197000,198000,199000,200000,201000,202000,203000,204000,205000,206000,207000,208000,209000,210000,211000,212000,213000,214000,215000,216000,217000,218000,219000,220000,221000,222000,223000,224000,225000,226000,227000,228000,229000,230000,231000,232000,233000,234000,235000,236000,237000,238000,239000,240000,241000,242000,243000,244000,245000,246000,247000,248000,249000,250000,251000,252000,253000,254000,255000,256000,257000,258000,259000,260000,261000,262000,263000,264000,265000,266000,267000,268000,269000,270000,271000,272000,273000,274000,275000,276000,277000,278000,279000,280000,281000,282000,283000,284000,285000,286000,287000,288000,289000,290000,291000,292000,293000,294000,295000,296000,297000,298000,299000,300000,301000,302000,303000,304000,305000,306000,307000,308000,309000,310000,311000,312000,313000,314000,315000,316000,317000,318000,319000,320000,321000,322000,323000,324000,325000,326000,327000,328000,329000,330000,331000,332000,333000,334000,335000,336000,337000,338000,339000,340000,341000,342000,343000,344000,345000,346000,347000,348000,349000,350000,351000,352000,353000,354000,355000,356000,357000,358000,359000,360000,361000,362000,363000,364000,365000,366000,367000,368000,369000,370000,371000,372000,373000,374000,375000,376000,377000,378000,379000,380000,381000,382000,383000,384000,385000,386000,387000,388000,389000,390000,391000,392000,393000,394000,395000,396000,397000,398000,399000,400000,401000,402000,403000,404000,405000,406000,407000,408000,409000,410000,411000,412000,413000,414000,415000,416000,417000,418000,419000,420000,421000,422000,423000,424000,425000,426000,427000,428000,429000,430000,431000,432000,433000,434000,435000,436000,437000,438000,439000,440000,441000,442000,443000,444000,445000,446000,447000,448000,449000,450000,451000,452000,453000,454000,455000,456000,457000,458000,459000,460000,461000,462000,463000,464000,465000,466000,467000,468000,469000,470000,471000,472000,473000,474000,475000,476000,477000,478000,479000,480000,481000,482000,483000,484000,485000,486000,487000,488000,489000,490000,491000,492000,493000,494000,495000,496000,497000,498000,499000,500000,501000,502000,503000,504000,505000,506000,507000,508000,509000,510000,511000,512000,513000,514000,515000,516000,517000,518000,519000,520000,521000,522000,523000,524000,525000,526000,527000,528000,529000,530000,531000,532000,533000,534000,535000,536000,537000,538000,539000,540000,541000,542000,543000,544000,545000,546000,547000,548000,549000,550000,551000,552000,553000,554000,555000,556000,557000,558000,559000,560000,561000,562000,563000,564000,565000,566000,567000,568000,569000,570000,571000,572000,573000,574000,575000,576000,577000,578000,579000,580000,581000,582000,583000,584000,585000,586000,587000,588000,589000,590000,591000,592000,593000,594000,595000,596000,597000,598000,599000,600000,601000,602000,603000,604000,605000,606000,607000,608000,609000,610000,611000,612000,613000,614000,615000,616000,617000,618000,619000,620000,621000,622000,623000,624000,625000,626000,627000,628000,629000,630000,631000,632000,633000,634000,635000,636000,637000,638000,639000,640000,641000,642000,643000,644000,645000,646000,647000,648000,649000,650000,651000,652000,653000,654000,655000,656000,657000,658000,659000,660000,661000,662000,663000,664000,665000,666000,667000,668000,669000,670000,671000,672000,673000,674000,675000,676000,677000,678000,679000,680000,681000,682000,683000,684000,685000,686000,687000,688000,689000,690000,691000,692000,693000,694000,695000,696000,697000,698000,699000,700000,701000,702000,703000,704000,705000,706000,707000,708000,709000,710000,711000,712000,713000,714000,715000,716000,717000,718000,719000,720000,721000,722000,723000,724000,725000,726000,727000,728000,729000,730000,731000,732000,733000,734000,735000,736000,737000,738000,739000,740000,741000,742000,743000,744000,745000,746000,747000,748000,749000,750000,751000,752000,753000,754000,755000,756000,757000,758000,759000,760000,761000,762000,763000,764000,765000,766000,767000,768000,769000,770000,771000,772000,773000,774000,775000,776000,777000,778000,779000,780000,781000,782000,783000,784000,785000,786000,787000,788000,789000,790000,791000,792000,793000,794000,795000,796000,797000,798000,799000,800000,801000,802000,803000,804000,805000,806000,807000,808000,809000,810000,811000,812000,813000,814000,815000,816000,817000,818000,819000,820000,821000,822000,823000,824000,825000,826000,827000,828000,829000,830000,831000,832000,833000,834000,835000,836000,837000,838000,839000,840000,841000,842000,843000,844000,845000,846000,847000,848000,849000,850000,851000,852000,853000,854000,855000,856000,857000,858000,859000,860000,861000,862000,863000,864000,865000,866000,867000,868000,869000,870000,871000,872000,873000,874000,875000,876000,877000,878000,879000,880000,881000,882000,883000,884000,885000,886000,887000,888000,889000,890000,891000,892000,893000,894000,895000,896000,897000,898000,899000,900000,901000,902000,903000,904000,905000,906000,907000,908000,909000,910000,911000,912000,913000,914000,915000,916000,917000,918000,919000,920000,921000,922000,923000,924000,925000,926000,927000,928000,929000,930000,931000,932000,933000,934000,935000,936000,937000,938000,939000,940000,941000,942000,943000,944000,945000,946000,947000,948000,949000,950000,951000,952000,953000,954000,955000,956000,957000,958000,959000,960000,961000,962000,963000,964000,965000,966000,967000,968000,969000,970000,971000,972000,973000,974000,975000,976000,977000,978000,979000,980000,981000,982000,983000,984000,985000,986000,987000,988000,989000,990000,991000,992000,993000,994000,995000,996000,997000,998000,999000,1000000],\"y\":{\"__ndarray__\":\"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\",\"dtype\":\"float64\",\"shape\":[1000]}}},\"id\":\"572cb2c5-639b-4c02-81dd-0e69b54ac3fc\",\"type\":\"ColumnDataSource\"},{\"attributes\":{\"callback\":null,\"column_names\":[\"x\",\"y\"],\"data\":{\"x\":[0,1000,2000,3000,4000,5000,6000,7000,8000,9000,10000,11000,12000,13000,14000,15000,16000,17000,18000,19000,20000,21000,22000,23000,24000,25000,26000,27000,28000,29000,30000,31000,32000,33000,34000,35000,36000,37000,38000,39000,40000,41000,42000,43000,44000,45000,46000,47000,48000,49000,50000,51000,52000,53000,54000,55000,56000,57000,58000,59000,60000,61000,62000,63000,64000,65000,66000,67000,68000,69000,70000,71000,72000,73000,74000,75000,76000,77000,78000,79000,80000,81000,82000,83000,84000,85000,86000,87000,88000,89000,90000,91000,92000,93000,94000,95000,96000,97000,98000,99000,100000,101000,102000,103000,104000,105000,106000,107000,108000,109000,110000,111000,112000,113000,114000,115000,116000,117000,118000,119000,120000,121000,122000,123000,124000,125000,126000,127000,128000,129000,130000,131000,132000,133000,134000,135000,136000,137000,138000,139000,140000,141000,142000,143000,144000,145000,146000,147000,148000,149000,150000,151000,152000,153000,154000,155000,156000,157000,158000,159000,160000,161000,162000,163000,164000,165000,166000,167000,168000,169000,170000,171000,172000,173000,174000,175000,176000,177000,178000,179000,180000,181000,182000,183000,184000,185000,186000,187000,188000,189000,190000,191000,192000,193000,194000,195000,196000,197000,198000,199000,200000,201000,202000,203000,204000,205000,206000,207000,208000,209000,210000,211000,212000,213000,214000,215000,216000,217000,218000,219000,220000,221000,222000,223000,224000,225000,226000,227000,228000,229000,230000,231000,232000,233000,234000,235000,236000,237000,238000,239000,240000,241000,242000,243000,244000,245000,246000,247000,248000,249000,250000,251000,252000,253000,254000,255000,256000,257000,258000,259000,260000,261000,262000,263000,264000,265000,266000,267000,268000,269000,270000,271000,272000,273000,274000,275000,276000,277000,278000,279000,280000,281000,282000,283000,284000,285000,286000,287000,288000,289000,290000,291000,292000,293000,294000,295000,296000,297000,298000,299000,300000,301000,302000,303000,304000,305000,306000,307000,308000,309000,310000,311000,312000,313000,314000,315000,316000,317000,318000,319000,320000,321000,322000,323000,324000,325000,326000,327000,328000,329000,330000,331000,332000,333000,334000,335000,336000,337000,338000,339000,340000,341000,342000,343000,344000,345000,346000,347000,348000,349000,350000,351000,352000,353000,354000,355000,356000,357000,358000,359000,360000,361000,362000,363000,364000,365000,366000,367000,368000,369000,370000,371000,372000,373000,374000,375000,376000,377000,378000,379000,380000,381000,382000,383000,384000,385000,386000,387000,388000,389000,390000,391000,392000,393000,394000,395000,396000,397000,398000,399000,400000,401000,402000,403000,404000,405000,406000,407000,408000,409000,410000,411000,412000,413000,414000,415000,416000,417000,418000,419000,420000,421000,422000,423000,424000,425000,426000,427000,428000,429000,430000,431000,432000,433000,434000,435000,436000,437000,438000,439000,440000,441000,442000,443000,444000,445000,446000,447000,448000,449000,450000,451000,452000,453000,454000,455000,456000,457000,458000,459000,460000,461000,462000,463000,464000,465000,466000,467000,468000,469000,470000,471000,472000,473000,474000,475000,476000,477000,478000,479000,480000,481000,482000,483000,484000,485000,486000,487000,488000,489000,490000,491000,492000,493000,494000,495000,496000,497000,498000,499000,500000,501000,502000,503000,504000,505000,506000,507000,508000,509000,510000,511000,512000,513000,514000,515000,516000,517000,518000,519000,520000,521000,522000,523000,524000,525000,526000,527000,528000,529000,530000,531000,532000,533000,534000,535000,536000,537000,538000,539000,540000,541000,542000,543000,544000,545000,546000,547000,548000,549000,550000,551000,552000,553000,554000,555000,556000,557000,558000,559000,560000,561000,562000,563000,564000,565000,566000,567000,568000,569000,570000,571000,572000,573000,574000,575000,576000,577000,578000,579000,580000,581000,582000,583000,584000,585000,586000,587000,588000,589000,590000,591000,592000,593000,594000,595000,596000,597000,598000,599000,600000,601000,602000,603000,604000,605000,606000,607000,608000,609000,610000,611000,612000,613000,614000,615000,616000,617000,618000,619000,620000,621000,622000,623000,624000,625000,626000,627000,628000,629000,630000,631000,632000,633000,634000,635000,636000,637000,638000,639000,640000,641000,642000,643000,644000,645000,646000,647000,648000,649000,650000,651000,652000,653000,654000,655000,656000,657000,658000,659000,660000,661000,662000,663000,664000,665000,666000,667000,668000,669000,670000,671000,672000,673000,674000,675000,676000,677000,678000,679000,680000,681000,682000,683000,684000,685000,686000,687000,688000,689000,690000,691000,692000,693000,694000,695000,696000,697000,698000,699000,700000,701000,702000,703000,704000,705000,706000,707000,708000,709000,710000,711000,712000,713000,714000,715000,716000,717000,718000,719000,720000,721000,722000,723000,724000,725000,726000,727000,728000,729000,730000,731000,732000,733000,734000,735000,736000,737000,738000,739000,740000,741000,742000,743000,744000,745000,746000,747000,748000,749000,750000,751000,752000,753000,754000,755000,756000,757000,758000,759000,760000,761000,762000,763000,764000,765000,766000,767000,768000,769000,770000,771000,772000,773000,774000,775000,776000,777000,778000,779000,780000,781000,782000,783000,784000,785000,786000,787000,788000,789000,790000,791000,792000,793000,794000,795000,796000,797000,798000,799000,800000,801000,802000,803000,804000,805000,806000,807000,808000,809000,810000,811000,812000,813000,814000,815000,816000,817000,818000,819000,820000,821000,822000,823000,824000,825000,826000,827000,828000,829000,830000,831000,832000,833000,834000,835000,836000,837000,838000,839000,840000,841000,842000,843000,844000,845000,846000,847000,848000,849000,850000,851000,852000,853000,854000,855000,856000,857000,858000,859000,860000,861000,862000,863000,864000,865000,866000,867000,868000,869000,870000,871000,872000,873000,874000,875000,876000,877000,878000,879000,880000,881000,882000,883000,884000,885000,886000,887000,888000,889000,890000,891000,892000,893000,894000,895000,896000,897000,898000,899000,900000,901000,902000,903000,904000,905000,906000,907000,908000,909000,910000,911000,912000,913000,914000,915000,916000,917000,918000,919000,920000,921000,922000,923000,924000,925000,926000,927000,928000,929000,930000,931000,932000,933000,934000,935000,936000,937000,938000,939000,940000,941000,942000,943000,944000,945000,946000,947000,948000,949000,950000,951000,952000,953000,954000,955000,956000,957000,958000,959000,960000,961000,962000,963000,964000,965000,966000,967000,968000,969000,970000,971000,972000,973000,974000,975000,976000,977000,978000,979000,980000,981000,982000,983000,984000,985000,986000,987000,988000,989000,990000,991000,992000,993000,994000,995000,996000,997000,998000,999000,1000000,1000000,999000,998000,997000,996000,995000,994000,993000,992000,991000,990000,989000,988000,987000,986000,985000,984000,983000,982000,981000,980000,979000,978000,977000,976000,975000,974000,973000,972000,971000,970000,969000,968000,967000,966000,965000,964000,963000,962000,961000,960000,959000,958000,957000,956000,955000,954000,953000,952000,951000,950000,949000,948000,947000,946000,945000,944000,943000,942000,941000,940000,939000,938000,937000,936000,935000,934000,933000,932000,931000,930000,929000,928000,927000,926000,925000,924000,923000,922000,921000,920000,919000,918000,917000,916000,915000,914000,913000,912000,911000,910000,909000,908000,907000,906000,905000,904000,903000,902000,901000,900000,899000,898000,897000,896000,895000,894000,893000,892000,891000,890000,889000,888000,887000,886000,885000,884000,883000,882000,881000,880000,879000,878000,877000,876000,875000,874000,873000,872000,871000,870000,869000,868000,867000,866000,865000,864000,863000,862000,861000,860000,859000,858000,857000,856000,855000,854000,853000,852000,851000,850000,849000,848000,847000,846000,845000,844000,843000,842000,841000,840000,839000,838000,837000,836000,835000,834000,833000,832000,831000,830000,829000,828000,827000,826000,825000,824000,823000,822000,821000,820000,819000,818000,817000,816000,815000,814000,813000,812000,811000,810000,809000,808000,807000,806000,805000,804000,803000,802000,801000,800000,799000,798000,797000,796000,795000,794000,793000,792000,791000,790000,789000,788000,787000,786000,785000,784000,783000,782000,781000,780000,779000,778000,777000,776000,775000,774000,773000,772000,771000,770000,769000,768000,767000,766000,765000,764000,763000,762000,761000,760000,759000,758000,757000,756000,755000,754000,753000,752000,751000,750000,749000,748000,747000,746000,745000,744000,743000,742000,741000,740000,739000,738000,737000,736000,735000,734000,733000,732000,731000,730000,729000,728000,727000,726000,725000,724000,723000,722000,721000,720000,719000,718000,717000,716000,715000,714000,713000,712000,711000,710000,709000,708000,707000,706000,705000,704000,703000,702000,701000,700000,699000,698000,697000,696000,695000,694000,693000,692000,691000,690000,689000,688000,687000,686000,685000,684000,683000,682000,681000,680000,679000,678000,677000,676000,675000,674000,673000,672000,671000,670000,669000,668000,667000,666000,665000,664000,663000,662000,661000,660000,659000,658000,657000,656000,655000,654000,653000,652000,651000,650000,649000,648000,647000,646000,645000,644000,643000,642000,641000,640000,639000,638000,637000,636000,635000,634000,633000,632000,631000,630000,629000,628000,627000,626000,625000,624000,623000,622000,621000,620000,619000,618000,617000,616000,615000,614000,613000,612000,611000,610000,609000,608000,607000,606000,605000,604000,603000,602000,601000,600000,599000,598000,597000,596000,595000,594000,593000,592000,591000,590000,589000,588000,587000,586000,585000,584000,583000,582000,581000,580000,579000,578000,577000,576000,575000,574000,573000,572000,571000,570000,569000,568000,567000,566000,565000,564000,563000,562000,561000,560000,559000,558000,557000,556000,555000,554000,553000,552000,551000,550000,549000,548000,547000,546000,545000,544000,543000,542000,541000,540000,539000,538000,537000,536000,535000,534000,533000,532000,531000,530000,529000,528000,527000,526000,525000,524000,523000,522000,521000,520000,519000,518000,517000,516000,515000,514000,513000,512000,511000,510000,509000,508000,507000,506000,505000,504000,503000,502000,501000,500000,499000,498000,497000,496000,495000,494000,493000,492000,491000,490000,489000,488000,487000,486000,485000,484000,483000,482000,481000,480000,479000,478000,477000,476000,475000,474000,473000,472000,471000,470000,469000,468000,467000,466000,465000,464000,463000,462000,461000,460000,459000,458000,457000,456000,455000,454000,453000,452000,451000,450000,449000,448000,447000,446000,445000,444000,443000,442000,441000,440000,439000,438000,437000,436000,435000,434000,433000,432000,431000,430000,429000,428000,427000,426000,425000,424000,423000,422000,421000,420000,419000,418000,417000,416000,415000,414000,413000,412000,411000,410000,409000,408000,407000,406000,405000,404000,403000,402000,401000,400000,399000,398000,397000,396000,395000,394000,393000,392000,391000,390000,389000,388000,387000,386000,385000,384000,383000,382000,381000,380000,379000,378000,377000,376000,375000,374000,373000,372000,371000,370000,369000,368000,367000,366000,365000,364000,363000,362000,361000,360000,359000,358000,357000,356000,355000,354000,353000,352000,351000,350000,349000,348000,347000,346000,345000,344000,343000,342000,341000,340000,339000,338000,337000,336000,335000,334000,333000,332000,331000,330000,329000,328000,327000,326000,325000,324000,323000,322000,321000,320000,319000,318000,317000,316000,315000,314000,313000,312000,311000,310000,309000,308000,307000,306000,305000,304000,303000,302000,301000,300000,299000,298000,297000,296000,295000,294000,293000,292000,291000,290000,289000,288000,287000,286000,285000,284000,283000,282000,281000,280000,279000,278000,277000,276000,275000,274000,273000,272000,271000,270000,269000,268000,267000,266000,265000,264000,263000,262000,261000,260000,259000,258000,257000,256000,255000,254000,253000,252000,251000,250000,249000,248000,247000,246000,245000,244000,243000,242000,241000,240000,239000,238000,237000,236000,235000,234000,233000,232000,231000,230000,229000,228000,227000,226000,225000,224000,223000,222000,221000,220000,219000,218000,217000,216000,215000,214000,213000,212000,211000,210000,209000,208000,207000,206000,205000,204000,203000,202000,201000,200000,199000,198000,197000,196000,195000,194000,193000,192000,191000,190000,189000,188000,187000,186000,185000,184000,183000,182000,181000,180000,179000,178000,177000,176000,175000,174000,173000,172000,171000,170000,169000,168000,167000,166000,165000,164000,163000,162000,161000,160000,159000,158000,157000,156000,155000,154000,153000,152000,151000,150000,149000,148000,147000,146000,145000,144000,143000,142000,141000,140000,139000,138000,137000,136000,135000,134000,133000,132000,131000,130000,129000,128000,127000,126000,125000,124000,123000,122000,121000,120000,119000,118000,117000,116000,115000,114000,113000,112000,111000,110000,109000,108000,107000,106000,105000,104000,103000,102000,101000,100000,99000,98000,97000,96000,95000,94000,93000,92000,91000,90000,89000,88000,87000,86000,85000,84000,83000,82000,81000,80000,79000,78000,77000,76000,75000,74000,73000,72000,71000,70000,69000,68000,67000,66000,65000,64000,63000,62000,61000,60000,59000,58000,57000,56000,55000,54000,53000,52000,51000,50000,49000,48000,47000,46000,45000,44000,43000,42000,41000,40000,39000,38000,37000,36000,35000,34000,33000,32000,31000,30000,29000,28000,27000,26000,25000,24000,23000,22000,21000,20000,19000,18000,17000,16000,15000,14000,13000,12000,11000,10000,9000,8000,7000,6000,5000,4000,3000,2000,1000,0],\"y\":[1,108,160,183,183,201,243,243,244,249,263,281,301,301,301,301,301,381,397,397,397,397,397,397,398,398,398,398,398,398,398,398,398,398,398,398,398,398,398,398,398,398,398,398,398,398,398,398,398,398,398,398,455,464,466,466,539,587,608,609,609,609,609,609,609,610,611,613,613,613,613,613,613,613,613,613,613,613,613,619,636,638,638,638,638,638,638,638,655,655,655,655,655,655,655,655,655,655,655,655,655,655,655,655,655,655,656,674,674,674,674,674,675,712,792,847,847,903,945,955,955,955,957,960,1036,1042,1042,1042,1042,1042,1056,1109,1131,1132,1132,1134,1137,1137,1171,1200,1235,1238,1239,1239,1240,1240,1240,1301,1302,1323,1343,1343,1343,1343,1343,1418,1538,1538,1539,1539,1539,1540,1558,1558,1558,1559,1559,1559,1560,1560,1587,1588,1588,1592,1593,1611,1613,1614,1616,1616,1616,1616,1616,1616,1616,1616,1619,1619,1619,1619,1619,1619,1619,1619,1619,1619,1619,1619,1619,1619,1619,1619,1619,1619,1619,1619,1619,1619,1619,1619,1619,1619,1619,1619,1619,1619,1619,1619,1619,1619,1619,1619,1619,1619,1619,1619,1619,1622,1635,1639,1680,1710,1722,1726,1727,1727,1727,1727,1727,1727,1727,1727,1732,1735,1783,1787,1801,1813,1813,1813,1813,1813,1813,1813,1813,1813,1813,1813,1813,1813,1813,1813,1813,1813,1813,1843,1850,1850,1850,1850,1850,1850,1850,1850,1850,1850,1850,1850,1877,1923,1980,1992,1992,1992,1992,1993,1995,2029,2038,2038,2038,2038,2038,2038,2041,2042,2045,2158,2190,2191,2225,2232,2233,2235,2255,2263,2263,2263,2263,2263,2263,2263,2263,2263,2263,2293,2297,2300,2306,2308,2313,2329,2329,2329,2329,2329,2329,2329,2329,2329,2332,2333,2350,2367,2416,2423,2423,2423,2423,2423,2423,2423,2471,2471,2471,2471,2471,2471,2471,2471,2471,2471,2471,2471,2471,2471,2471,2471,2471,2471,2471,2471,2471,2471,2471,2471,2471,2471,2471,2471,2471,2471,2484,2490,2541,2541,2541,2541,2541,2541,2541,2541,2541,2541,2541,2541,2541,2541,2541,2541,2541,2541,2541,2541,2541,2541,2541,2541,2541,2541,2541,2541,2541,2541,2541,2541,2541,2541,2541,2541,2541,2541,2541,2541,2541,2541,2541,2541,2541,2541,2541,2541,2541,2541,2541,2541,2541,2541,2541,2541,2541,2541,2541,2541,2541,2541,2541,2541,2541,2541,2541,2541,2541,2541,2541,2541,2541,2541,2541,2541,2541,2541,2541,2541,2541,2541,2541,2541,2541,2541,2577,2579,2579,2579,2579,2579,2579,2579,2579,2579,2579,2579,2579,2579,2579,2579,2579,2579,2579,2579,2579,2579,2579,2579,2579,2579,2579,2579,2579,2579,2579,2579,2579,2579,2579,2579,2579,2579,2579,2579,2579,2579,2579,2579,2579,2579,2579,2579,2579,2579,2579,2579,2579,2579,2579,2579,2579,2579,2579,2579,2579,2595,2620,2620,2620,2620,2620,2620,2620,2620,2620,2661,2661,2661,2661,2661,2661,2661,2661,2661,2661,2661,2661,2661,2661,2661,2661,2661,2661,2661,2661,2661,2661,2661,2661,2661,2661,2661,2661,2661,2661,2661,2661,2661,2661,2661,2661,2661,2661,2661,2661,2661,2661,2661,2661,2661,2661,2661,2661,2661,2661,2661,2661,2661,2661,2661,2661,2661,2661,2661,2661,2661,2661,2661,2661,2661,2661,2661,2661,2661,2661,2661,2661,2661,2661,2661,2661,2661,2661,2661,2661,2661,2661,2661,2661,2661,2661,2661,2661,2661,2661,2661,2661,2661,2661,2661,2661,2661,2661,2661,2661,2661,2661,2661,2661,2661,2661,2661,2661,2661,2661,2661,2661,2661,2661,2661,2661,2661,2661,2661,2661,2661,2661,2661,2661,2661,2661,2661,2661,2661,2661,2661,2661,2661,2661,2661,2661,2661,2661,2661,2661,2661,2661,2661,2661,2661,2661,2661,2661,2661,2661,2661,2661,2661,2661,2661,2661,2661,2661,2661,2661,2661,2661,2661,2661,2661,2661,2661,2661,2661,2661,2661,2661,2661,2661,2661,2661,2661,2661,2661,2661,2661,2661,2661,2661,2661,2661,2661,2661,2661,2661,2661,2661,2661,2661,2661,2661,2661,2661,2661,2661,2661,2661,2661,2661,2661,2661,2661,2661,2661,2661,2661,2661,2661,2661,2661,2661,2661,2661,2661,2661,2661,2661,2661,2661,2661,2661,2661,2661,2661,2661,2661,2661,2661,2661,2661,2661,2661,2661,2661,2661,2661,2661,2661,2661,2661,2661,2661,2661,2661,2661,2661,2661,2661,2661,2661,2661,2661,2661,2661,2661,2661,2661,2661,2661,2661,2661,2661,2661,2661,2661,2661,2661,2661,2661,2661,2661,2661,2661,2661,2661,2661,2661,2661,2661,2661,2661,2661,2661,2661,2661,2661,2661,2661,2661,2661,2661,2661,2661,2661,2661,2661,2661,2661,2661,2661,2661,2661,2661,2661,2661,2661,2661,2661,2661,2661,2661,2661,2661,2661,2661,2661,2661,2661,2661,2661,2661,2661,2661,2661,2661,2661,2661,2661,2661,2661,2661,2661,2661,2661,2661,2661,2661,2661,2661,2661,2661,2661,2661,2661,2661,2661,2661,2661,2661,2661,2661,2661,2661,2661,2661,2661,2661,2661,2661,2661,2661,2661,2661,2661,2661,2661,2661,2661,2661,2661,2661,2661,2661,2661,2661,2661,2661,2661,2661,2661,2661,2661,2661,2661,2661,2661,2661,2661,2661,2661,2661,2661,2661,2661,2661,2661,2661,2661,2661,2661,2661,2661,2661,2661,2661,2661,2661,2661,2661,2661,2661,2661,2661,2661,2661,2661,2661,2661,2661,2661,2661,2661,2661,2661,2661,2661,2661,2661,2661,2661,2661,2661,2661,2661,2661,2661,2661,2661,2661,2661,2661,2661,2661,2661,2661,2661,2661,2661,2661,2661,2661,2661,2661,2661,2661,2661,2661,2661,2661,2661,2661,2661,2661,2661,2763,2763,2763,2763,2763,2763,2763,2763,2763,2763,2763,2763,2763,2763,2763,2763,2763,2763,2763,2763,2763,2763,2763,2763,2763,2763,2763,2763,2763,2763,2763,2763,2763,2763,2763,2763,2763,2763,2763,2763,2763,2763,2763,2763,2763,2763,2763,2763,2763,2763,2763,2763,2763,2763,2763,2763,2763,2763,2763,2763,2763,2763,2763,2763,2763,2763,2763,2763,2763,2763,2763,2763,2763,2763,2763,2763,2763,2763,2763,2763,2763,2763,2763,2763,2763,2763,2763,2763,2763,2763,2763,2763,2763,2763,2763,2763,2763,2763,2763,2763,2763,2763,2763,2763,2763,2763,2763,2763,2763,2763,2763,2763,2763,2763,2763,2763,2763,2763,2763,2763,2763,2763,2763,2763,2763,2763,2763,2763,2763,2763,2763,2763,2763,2763,2763,2763,2763,2763,2763,2763,2763,2763,2763,2763,2763,2763,2763,2763,2763,2763,2763,2763,2763,2763,2763,2763,2763,2763,2763,2763,2763,2763,2763,2763,2763,2763,2763,2763,2763,2763,2763,2763,2763,2763,2763,2763,2763,2763,2763,2763,2763,2763,2763,2763,2763,2763,2763,2763,2763,2763,2763,2763,2763,2763,2763,2763,2763,2763,2763,2763,2763,2763,2763,2763,2763,2763,2763,2763,2763,2763,2763,2763,2763,2763,2763,2763,2763,2763,2763,2763,2763,2763,2763,2763,2763,2763,2763,2763,2763,2763,2763,2763,2763,2763,2763,2763,2763,2763,2763,2763,2763,2763,2763,2763,2763,2763,2763,2763,2763,2763,2763,2763,2763,2763,2763,2763,2763,2763,2763,2763,2763,2763,2763,2763,2763,2763,2763,2763,2763,2763,2763,2763,2763,2763,2763,2763,2763,2763,2763,2763,2763,2763,2763,2763,2763,2763,2763,2763,2763,2763,2763,2763,2763,2763,2763,2763,2763,2763,2763,2763,2763,2763,2763,2763,2763,2763,2763,2763,2763,2763,2763,2763,2763,2763,2763,2763,2763,2763,2763,2763,2763,2763,2763,2763,2763,2763,2763,2763,2763,2763,2763,2763,2763,2763,2763,2763,2763,2763,2763,2763,2763,2763,2763,2763,2763,2763,2763,2763,2763,2763,2763,2763,2763,2763,2763,2763,2763,2763,2763,2763,2763,2763,2763,2763,2763,2763,2763,2763,2763,2763,2763,2763,2763,2763,2763,2763,2763,2763,2763,2763,2763,2763,2763,2763,2763,2763,2763,2763,2763,2763,2763,2763,2763,2763,2763,2763,2763,2763,2763,2763,2763,2763,2763,2763,2763,2763,2763,2763,2763,2763,2763,2763,2763,2763,2763,2763,2763,2763,2763,2763,2763,2763,2763,2763,2763,2763,2763,2763,2763,2763,2763,2763,2763,2763,2763,2763,2763,2763,2763,2763,2763,2763,2763,2763,2763,2763,2763,2763,2763,2763,2763,2763,2763,2763,2763,2763,2763,2763,2763,2763,2763,2763,2763,2763,2763,2763,2763,2763,2763,2763,2763,2763,2763,2763,2763,2763,2763,2763,2763,2763,2763,2763,2762,2762,2762,2762,2762,2762,2762,2762,2762,2762,2762,2762,2762,2762,2762,2762,2762,2762,2762,2762,2758,2758,2758,2758,2758,2758,2758,2758,2758,2758,2758,2758,2758,2758,2758,2758,2758,2758,2758,2758,2758,2758,2758,2758,2758,2758,2758,2758,2758,2758,2758,2758,2757,2755,2755,2755,2755,2755,2755,2755,2755,2755,2755,2755,2755,2755,2755,2755,2755,2755,2755,2755,2755,2755,2755,2755,2755,2755,2755,2755,2755,2755,2755,2755,2755,2755,2755,2708,2706,2706,2704,2704,2704,2704,2704,2704,2704,2704,2704,2704,2704,2704,2704,2704,2704,2704,2704,2704,2704,2704,2704,2704,2704,2704,2704,2704,2704,2704,2704,2704,2704,2704,2704,2704,2703,2692,2692,2692,2692,2692,2692,2692,2692,2690,2690,2690,2690,2690,2690,2690,2690,2690,2690,2690,2690,2686,2686,2685,2661,2661,2661,2661,2661,2661,2661,2661,2661,2661,2661,2661,2661,2661,2661,2661,2661,2661,2661,2661,2661,2661,2661,2661,2661,2661,2661,2661,2661,2661,2661,2661,2661,2661,2661,2661,2661,2661,2661,2661,2661,2661,2661,2661,2661,2661,2661,2661,2661,2661,2661,2661,2661,2661,2661,2661,2661,2661,2661,2661,2661,2661,2661,2661,2661,2661,2661,2661,2661,2661,2661,2661,2661,2661,2661,2661,2661,2659,2659,2659,2659,2659,2659,2659,2659,2659,2659,2659,2659,2659,2659,2659,2659,2659,2659,2659,2659,2659,2654,2634,2634,2634,2634,2634,2634,2634,2634,2627,2627,2627,2627,2627,2627,2627,2627,2627,2627,2602,2602,2602,2602,2602,2602,2602,2602,2602,2602,2602,2602,2602,2597,2596,2596,2596,2596,2596,2596,2592,2592,2592,2592,2592,2592,2592,2592,2565,2559,2559,2559,2559,2559,2559,2559,2559,2559,2559,2551,2549,2549,2548,2548,2548,2548,2548,2548,2548,2548,2548,2548,2548,2548,2548,2548,2546,2542,2535,2527,2527,2526,2523,2523,2516,2468,2395,2381,2381,2381,2381,2381,2381,2377,2317,2317,2317,2317,2317,2317,2317,2311,2310,2310,2309,2309,2309,2309,2309,2309,2309,2306,2299,2298,2288,2227,2180,2135,2130,2122,2121,2119,2119,2119,2119,2119,2119,2119,2119,2047,2002,1983,1937,1937,1937,1937,1937,1937,1937,1937,1937,1937,1937,1936,1936,1936,1936,1932,1931,1928,1908,1908,1892,1798,1798,1764,1747,1675,1671,1670,1670,1670,1670,1670,1670,1597,1582,1578,1575,1569,1566,1566,1566,1566,1566,1560,1548,1486,1485,1432,1428,1428,1428,1428,1428,1428,1428,1428,1428,1427,1427,1427,1427,1427,1427,1427,1427,1427,1427,1427,1427,1427,1427,1427,1411,1389,1389,1389,1389,1389,1389,1389,1373,1372,1371,1368,1347,1347,1347,1320,1306,1306,1306,1304,1304,1292,1292,1287,1255,1147,1134,1134,1084,1081,1081,1081,1081,1081,1081,1081,1080,1079,963,935,859,804,802,727,713,600,600,600,563,563,563,563,507,488,488,488,488,487,487,487,482,475,456,455,449,433,315,203,1]}},\"id\":\"d31a8971-5189-4d72-82ea-27bedfdeb2dd\",\"type\":\"ColumnDataSource\"},{\"attributes\":{\"data_source\":{\"id\":\"64d7b7ab-885b-4afc-9413-03bbf460c254\",\"type\":\"ColumnDataSource\"},\"glyph\":{\"id\":\"0f8f00c4-5a40-4511-8781-11a48ef9796b\",\"type\":\"Line\"},\"hover_glyph\":null,\"nonselection_glyph\":{\"id\":\"4c2f5f9d-acec-4f11-866c-0f6e43ca6f78\",\"type\":\"Line\"},\"selection_glyph\":null},\"id\":\"8a7921c5-de25-499b-bbda-d32d9194aa62\",\"type\":\"GlyphRenderer\"},{\"attributes\":{\"line_alpha\":{\"value\":0.1},\"line_color\":{\"value\":\"#1f77b4\"},\"line_width\":{\"value\":2},\"x\":{\"field\":\"x\"},\"y\":{\"field\":\"y\"}},\"id\":\"1ec713a1-79e8-48f1-9e0c-0d558a222ed7\",\"type\":\"Line\"},{\"attributes\":{},\"id\":\"a22e235e-bc27-4ed5-8e61-21a178ab5da8\",\"type\":\"BasicTicker\"},{\"attributes\":{\"bottom_units\":\"screen\",\"fill_alpha\":{\"value\":0.5},\"fill_color\":{\"value\":\"lightgrey\"},\"left_units\":\"screen\",\"level\":\"overlay\",\"line_alpha\":{\"value\":1.0},\"line_color\":{\"value\":\"black\"},\"line_dash\":[4,4],\"line_width\":{\"value\":2},\"plot\":null,\"render_mode\":\"css\",\"right_units\":\"screen\",\"top_units\":\"screen\"},\"id\":\"7dd8c3a9-1e35-40b5-b322-3a422af946da\",\"type\":\"BoxAnnotation\"},{\"attributes\":{\"data_source\":{\"id\":\"d31a8971-5189-4d72-82ea-27bedfdeb2dd\",\"type\":\"ColumnDataSource\"},\"glyph\":{\"id\":\"850d06d1-6980-42f9-a519-6fbb524d9c0f\",\"type\":\"Patch\"},\"hover_glyph\":null,\"nonselection_glyph\":{\"id\":\"a044458e-4929-4007-9903-a6a38c878109\",\"type\":\"Patch\"},\"selection_glyph\":null},\"id\":\"d67b4401-58f6-491a-b408-60038c97462b\",\"type\":\"GlyphRenderer\"},{\"attributes\":{\"below\":[{\"id\":\"625c16fa-d6d4-4093-94d4-1bbb703bfff0\",\"type\":\"LinearAxis\"}],\"left\":[{\"id\":\"7f74b13e-75d8-40e6-a687-a6e655ce6bde\",\"type\":\"LinearAxis\"}],\"plot_height\":800,\"plot_width\":1200,\"renderers\":[{\"id\":\"625c16fa-d6d4-4093-94d4-1bbb703bfff0\",\"type\":\"LinearAxis\"},{\"id\":\"838b2919-4016-46a7-9a3f-e278d27232ba\",\"type\":\"Grid\"},{\"id\":\"7f74b13e-75d8-40e6-a687-a6e655ce6bde\",\"type\":\"LinearAxis\"},{\"id\":\"62d1ccad-5a0a-46b0-9a9d-ddd36ea82d5c\",\"type\":\"Grid\"},{\"id\":\"7dd8c3a9-1e35-40b5-b322-3a422af946da\",\"type\":\"BoxAnnotation\"},{\"id\":\"af348b03-f74d-4e4a-a0fe-8c6f9a5336d4\",\"type\":\"GlyphRenderer\"},{\"id\":\"6a4e2ed4-8275-444a-b186-dfe6c03aae5c\",\"type\":\"GlyphRenderer\"},{\"id\":\"32410a13-222f-4e7f-b53e-02285b8dc18d\",\"type\":\"GlyphRenderer\"},{\"id\":\"8a7921c5-de25-499b-bbda-d32d9194aa62\",\"type\":\"GlyphRenderer\"},{\"id\":\"d67b4401-58f6-491a-b408-60038c97462b\",\"type\":\"GlyphRenderer\"},{\"id\":\"0aabc08a-7376-4a49-a383-6869f04da483\",\"type\":\"GlyphRenderer\"},{\"id\":\"2afaa2f6-fce3-4d03-b8ac-17879f8df719\",\"type\":\"GlyphRenderer\"},{\"id\":\"821f8006-c1f6-41be-8c9a-41a1b1cd6d67\",\"type\":\"GlyphRenderer\"},{\"id\":\"719807e4-f23d-40ef-be55-669304797143\",\"type\":\"Legend\"}],\"right\":[{\"id\":\"719807e4-f23d-40ef-be55-669304797143\",\"type\":\"Legend\"}],\"title\":{\"id\":\"e6889dcd-d3e8-4067-99c3-98a250a1b608\",\"type\":\"Title\"},\"tool_events\":{\"id\":\"1b1d447d-dda3-414e-b4ea-29cea480a754\",\"type\":\"ToolEvents\"},\"toolbar\":{\"id\":\"ce97849d-0f7a-451c-b159-aa5f2c639c11\",\"type\":\"Toolbar\"},\"toolbar_location\":\"above\",\"x_range\":{\"id\":\"e3fc1a43-9454-4192-9206-ad8fc0700fc3\",\"type\":\"DataRange1d\"},\"y_range\":{\"id\":\"99b52352-488c-4443-878e-f65efd764cb1\",\"type\":\"DataRange1d\"}},\"id\":\"ecaec224-c912-4974-b2d9-e9a39da9b718\",\"subtype\":\"Figure\",\"type\":\"Plot\"},{\"attributes\":{\"data_source\":{\"id\":\"8ee00249-24a2-4e15-a42b-288da9a9ce21\",\"type\":\"ColumnDataSource\"},\"glyph\":{\"id\":\"d0c41fb4-64de-4889-8b8f-b4a9537d39b2\",\"type\":\"Line\"},\"hover_glyph\":null,\"nonselection_glyph\":{\"id\":\"1ec713a1-79e8-48f1-9e0c-0d558a222ed7\",\"type\":\"Line\"},\"selection_glyph\":null},\"id\":\"0aabc08a-7376-4a49-a383-6869f04da483\",\"type\":\"GlyphRenderer\"}],\"root_ids\":[\"ecaec224-c912-4974-b2d9-e9a39da9b718\"]},\"title\":\"Bokeh Application\",\"version\":\"0.12.4\"}};\n",
       "            var render_items = [{\"docid\":\"de92dfb7-db1a-4e59-942e-25b6feb443a9\",\"elementid\":\"eb63b41f-459d-4a51-9826-acca9e9779ee\",\"modelid\":\"ecaec224-c912-4974-b2d9-e9a39da9b718\"}];\n",
       "            \n",
       "            Bokeh.embed.embed_items(docs_json, render_items);\n",
       "          };\n",
       "          if (document.readyState != \"loading\") fn();\n",
       "          else document.addEventListener(\"DOMContentLoaded\", fn);\n",
       "        })();\n",
       "      },\n",
       "      function(Bokeh) {\n",
       "      }\n",
       "    ];\n",
       "  \n",
       "    function run_inline_js() {\n",
       "      \n",
       "      if ((window.Bokeh !== undefined) || (force === true)) {\n",
       "        for (var i = 0; i < inline_js.length; i++) {\n",
       "          inline_js[i](window.Bokeh);\n",
       "        }if (force === true) {\n",
       "          display_loaded();\n",
       "        }} else if (Date.now() < window._bokeh_timeout) {\n",
       "        setTimeout(run_inline_js, 100);\n",
       "      } else if (!window._bokeh_failed_load) {\n",
       "        console.log(\"Bokeh: BokehJS failed to load within specified timeout.\");\n",
       "        window._bokeh_failed_load = true;\n",
       "      } else if (force !== true) {\n",
       "        var cell = $(document.getElementById(\"eb63b41f-459d-4a51-9826-acca9e9779ee\")).parents('.cell').data().cell;\n",
       "        cell.output_area.append_execute_result(NB_LOAD_WARNING)\n",
       "      }\n",
       "  \n",
       "    }\n",
       "  \n",
       "    if (window._bokeh_is_loading === 0) {\n",
       "      console.log(\"Bokeh: BokehJS loaded, going straight to plotting\");\n",
       "      run_inline_js();\n",
       "    } else {\n",
       "      load_libs(js_urls, function() {\n",
       "        console.log(\"Bokeh: BokehJS plotting callback run at\", now());\n",
       "        run_inline_js();\n",
       "      });\n",
       "    }\n",
       "  }(this));\n",
       "</script>"
      ]
     },
     "metadata": {},
     "output_type": "display_data"
    }
   ],
   "source": [
    "plot_averages_b(names, t_maxs, colours, legends, directories, step=1000, title=env, min_max=False)\n",
    "plot_states(names, t_maxs, colours, legends, directories, step=1000, title=env)"
   ]
  },
  {
   "cell_type": "code",
   "execution_count": null,
   "metadata": {
    "collapsed": true,
    "deletable": true,
    "editable": true
   },
   "outputs": [],
   "source": []
  },
  {
   "cell_type": "code",
   "execution_count": null,
   "metadata": {
    "collapsed": true,
    "deletable": true,
    "editable": true
   },
   "outputs": [],
   "source": []
  },
  {
   "cell_type": "code",
   "execution_count": null,
   "metadata": {
    "collapsed": true,
    "deletable": true,
    "editable": true
   },
   "outputs": [],
   "source": [
    "DQN_Smoothed = []\n",
    "for times, rewards in zip(DQN_Lengths_C, DQN_Rewards):\n",
    "    linear = interp1d(times, rewards, kind=\"linear\")\n",
    "    linear_rewards = linear([i for i in range(500000)])\n",
    "    DQN_Smoothed.append(linear_rewards)"
   ]
  },
  {
   "cell_type": "code",
   "execution_count": null,
   "metadata": {
    "collapsed": true,
    "deletable": true,
    "editable": true
   },
   "outputs": [],
   "source": [
    "DQN_Means = np.mean(DQN_Smoothed, axis=0)"
   ]
  },
  {
   "cell_type": "code",
   "execution_count": null,
   "metadata": {
    "collapsed": true,
    "deletable": true,
    "editable": true
   },
   "outputs": [],
   "source": [
    "DQN_Stds = np.std(DQN_Smoothed, axis=0)"
   ]
  },
  {
   "cell_type": "code",
   "execution_count": null,
   "metadata": {
    "collapsed": false,
    "deletable": true,
    "editable": true
   },
   "outputs": [],
   "source": [
    "plt.fill_between([i for i in range(500000)], DQN_Means - DQN_Stds, DQN_Means + DQN_Stds, color=\"red\", alpha=0.3, edgecolor=\"white\")\n",
    "\n",
    "plt.plot([i for i in range(500000)], DQN_Means, color=\"red\")"
   ]
  },
  {
   "cell_type": "code",
   "execution_count": null,
   "metadata": {
    "collapsed": false,
    "deletable": true,
    "editable": true
   },
   "outputs": [],
   "source": [
    "len(DQN_Repeat)"
   ]
  },
  {
   "cell_type": "code",
   "execution_count": null,
   "metadata": {
    "collapsed": true,
    "deletable": true,
    "editable": true
   },
   "outputs": [],
   "source": [
    "plt.plot(DQN)"
   ]
  },
  {
   "cell_type": "code",
   "execution_count": null,
   "metadata": {
    "collapsed": true,
    "deletable": true,
    "editable": true
   },
   "outputs": [],
   "source": [
    "directories = [\"Logs/\"]"
   ]
  },
  {
   "cell_type": "code",
   "execution_count": null,
   "metadata": {
    "collapsed": false,
    "deletable": true,
    "editable": true
   },
   "outputs": [],
   "source": [
    "for i in range(0, 10, 2):\n",
    "    print(i)"
   ]
  },
  {
   "cell_type": "code",
   "execution_count": null,
   "metadata": {
    "collapsed": true,
    "deletable": true,
    "editable": true
   },
   "outputs": [],
   "source": []
  }
 ],
 "metadata": {
  "kernelspec": {
   "display_name": "Python 3",
   "language": "python",
   "name": "python3"
  },
  "language_info": {
   "codemirror_mode": {
    "name": "ipython",
    "version": 3
   },
   "file_extension": ".py",
   "mimetype": "text/x-python",
   "name": "python",
   "nbconvert_exporter": "python",
   "pygments_lexer": "ipython3",
   "version": "3.6.0"
  }
 },
 "nbformat": 4,
 "nbformat_minor": 2
}
