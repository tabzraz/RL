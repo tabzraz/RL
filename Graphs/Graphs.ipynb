{
 "cells": [
  {
   "cell_type": "code",
   "execution_count": 1,
   "metadata": {
    "collapsed": false,
    "deletable": true,
    "editable": true
   },
   "outputs": [
    {
     "data": {
      "text/html": [
       "\n",
       "    <div class=\"bk-root\">\n",
       "        <a href=\"http://bokeh.pydata.org\" target=\"_blank\" class=\"bk-logo bk-logo-small bk-logo-notebook\"></a>\n",
       "        <span id=\"5bee9b55-f9e1-4793-91fd-60caa5afc53c\">Loading BokehJS ...</span>\n",
       "    </div>"
      ]
     },
     "metadata": {},
     "output_type": "display_data"
    },
    {
     "data": {
      "application/javascript": [
       "\n",
       "(function(global) {\n",
       "  function now() {\n",
       "    return new Date();\n",
       "  }\n",
       "\n",
       "  var force = true;\n",
       "\n",
       "  if (typeof (window._bokeh_onload_callbacks) === \"undefined\" || force === true) {\n",
       "    window._bokeh_onload_callbacks = [];\n",
       "    window._bokeh_is_loading = undefined;\n",
       "  }\n",
       "\n",
       "\n",
       "  \n",
       "  if (typeof (window._bokeh_timeout) === \"undefined\" || force === true) {\n",
       "    window._bokeh_timeout = Date.now() + 5000;\n",
       "    window._bokeh_failed_load = false;\n",
       "  }\n",
       "\n",
       "  var NB_LOAD_WARNING = {'data': {'text/html':\n",
       "     \"<div style='background-color: #fdd'>\\n\"+\n",
       "     \"<p>\\n\"+\n",
       "     \"BokehJS does not appear to have successfully loaded. If loading BokehJS from CDN, this \\n\"+\n",
       "     \"may be due to a slow or bad network connection. Possible fixes:\\n\"+\n",
       "     \"</p>\\n\"+\n",
       "     \"<ul>\\n\"+\n",
       "     \"<li>re-rerun `output_notebook()` to attempt to load from CDN again, or</li>\\n\"+\n",
       "     \"<li>use INLINE resources instead, as so:</li>\\n\"+\n",
       "     \"</ul>\\n\"+\n",
       "     \"<code>\\n\"+\n",
       "     \"from bokeh.resources import INLINE\\n\"+\n",
       "     \"output_notebook(resources=INLINE)\\n\"+\n",
       "     \"</code>\\n\"+\n",
       "     \"</div>\"}};\n",
       "\n",
       "  function display_loaded() {\n",
       "    if (window.Bokeh !== undefined) {\n",
       "      document.getElementById(\"5bee9b55-f9e1-4793-91fd-60caa5afc53c\").textContent = \"BokehJS successfully loaded.\";\n",
       "    } else if (Date.now() < window._bokeh_timeout) {\n",
       "      setTimeout(display_loaded, 100)\n",
       "    }\n",
       "  }\n",
       "\n",
       "  function run_callbacks() {\n",
       "    window._bokeh_onload_callbacks.forEach(function(callback) { callback() });\n",
       "    delete window._bokeh_onload_callbacks\n",
       "    console.info(\"Bokeh: all callbacks have finished\");\n",
       "  }\n",
       "\n",
       "  function load_libs(js_urls, callback) {\n",
       "    window._bokeh_onload_callbacks.push(callback);\n",
       "    if (window._bokeh_is_loading > 0) {\n",
       "      console.log(\"Bokeh: BokehJS is being loaded, scheduling callback at\", now());\n",
       "      return null;\n",
       "    }\n",
       "    if (js_urls == null || js_urls.length === 0) {\n",
       "      run_callbacks();\n",
       "      return null;\n",
       "    }\n",
       "    console.log(\"Bokeh: BokehJS not loaded, scheduling load and callback at\", now());\n",
       "    window._bokeh_is_loading = js_urls.length;\n",
       "    for (var i = 0; i < js_urls.length; i++) {\n",
       "      var url = js_urls[i];\n",
       "      var s = document.createElement('script');\n",
       "      s.src = url;\n",
       "      s.async = false;\n",
       "      s.onreadystatechange = s.onload = function() {\n",
       "        window._bokeh_is_loading--;\n",
       "        if (window._bokeh_is_loading === 0) {\n",
       "          console.log(\"Bokeh: all BokehJS libraries loaded\");\n",
       "          run_callbacks()\n",
       "        }\n",
       "      };\n",
       "      s.onerror = function() {\n",
       "        console.warn(\"failed to load library \" + url);\n",
       "      };\n",
       "      console.log(\"Bokeh: injecting script tag for BokehJS library: \", url);\n",
       "      document.getElementsByTagName(\"head\")[0].appendChild(s);\n",
       "    }\n",
       "  };var element = document.getElementById(\"5bee9b55-f9e1-4793-91fd-60caa5afc53c\");\n",
       "  if (element == null) {\n",
       "    console.log(\"Bokeh: ERROR: autoload.js configured with elementid '5bee9b55-f9e1-4793-91fd-60caa5afc53c' but no matching script tag was found. \")\n",
       "    return false;\n",
       "  }\n",
       "\n",
       "  var js_urls = [\"https://cdn.pydata.org/bokeh/release/bokeh-0.12.4.min.js\", \"https://cdn.pydata.org/bokeh/release/bokeh-widgets-0.12.4.min.js\"];\n",
       "\n",
       "  var inline_js = [\n",
       "    function(Bokeh) {\n",
       "      Bokeh.set_log_level(\"info\");\n",
       "    },\n",
       "    \n",
       "    function(Bokeh) {\n",
       "      \n",
       "      document.getElementById(\"5bee9b55-f9e1-4793-91fd-60caa5afc53c\").textContent = \"BokehJS is loading...\";\n",
       "    },\n",
       "    function(Bokeh) {\n",
       "      console.log(\"Bokeh: injecting CSS: https://cdn.pydata.org/bokeh/release/bokeh-0.12.4.min.css\");\n",
       "      Bokeh.embed.inject_css(\"https://cdn.pydata.org/bokeh/release/bokeh-0.12.4.min.css\");\n",
       "      console.log(\"Bokeh: injecting CSS: https://cdn.pydata.org/bokeh/release/bokeh-widgets-0.12.4.min.css\");\n",
       "      Bokeh.embed.inject_css(\"https://cdn.pydata.org/bokeh/release/bokeh-widgets-0.12.4.min.css\");\n",
       "    }\n",
       "  ];\n",
       "\n",
       "  function run_inline_js() {\n",
       "    \n",
       "    if ((window.Bokeh !== undefined) || (force === true)) {\n",
       "      for (var i = 0; i < inline_js.length; i++) {\n",
       "        inline_js[i](window.Bokeh);\n",
       "      }if (force === true) {\n",
       "        display_loaded();\n",
       "      }} else if (Date.now() < window._bokeh_timeout) {\n",
       "      setTimeout(run_inline_js, 100);\n",
       "    } else if (!window._bokeh_failed_load) {\n",
       "      console.log(\"Bokeh: BokehJS failed to load within specified timeout.\");\n",
       "      window._bokeh_failed_load = true;\n",
       "    } else if (force !== true) {\n",
       "      var cell = $(document.getElementById(\"5bee9b55-f9e1-4793-91fd-60caa5afc53c\")).parents('.cell').data().cell;\n",
       "      cell.output_area.append_execute_result(NB_LOAD_WARNING)\n",
       "    }\n",
       "\n",
       "  }\n",
       "\n",
       "  if (window._bokeh_is_loading === 0) {\n",
       "    console.log(\"Bokeh: BokehJS loaded, going straight to plotting\");\n",
       "    run_inline_js();\n",
       "  } else {\n",
       "    load_libs(js_urls, function() {\n",
       "      console.log(\"Bokeh: BokehJS plotting callback run at\", now());\n",
       "      run_inline_js();\n",
       "    });\n",
       "  }\n",
       "}(this));"
      ]
     },
     "metadata": {},
     "output_type": "display_data"
    }
   ],
   "source": [
    "from bokeh.plotting import figure, output_notebook, show\n",
    "output_notebook()"
   ]
  },
  {
   "cell_type": "code",
   "execution_count": 2,
   "metadata": {
    "collapsed": true,
    "deletable": true,
    "editable": true
   },
   "outputs": [],
   "source": [
    "import glob"
   ]
  },
  {
   "cell_type": "code",
   "execution_count": 3,
   "metadata": {
    "collapsed": true,
    "deletable": true,
    "editable": true
   },
   "outputs": [],
   "source": [
    "import numpy as np"
   ]
  },
  {
   "cell_type": "code",
   "execution_count": 4,
   "metadata": {
    "collapsed": true,
    "deletable": true,
    "editable": true
   },
   "outputs": [],
   "source": [
    "from scipy.interpolate import interp1d\n",
    "from scipy.interpolate import spline"
   ]
  },
  {
   "cell_type": "code",
   "execution_count": 5,
   "metadata": {
    "collapsed": true,
    "deletable": true,
    "editable": true
   },
   "outputs": [],
   "source": [
    "from tqdm import tqdm"
   ]
  },
  {
   "cell_type": "code",
   "execution_count": 6,
   "metadata": {
    "collapsed": true,
    "deletable": true,
    "editable": true
   },
   "outputs": [],
   "source": [
    "DQN_Rewards_Path = \"/home/tabz/Dropbox/RL/Log_Files/March 2017/Maze_5_Batch_Sizes_Logs/*DQN*/logs/Episode_Rewards.txt\"\n",
    "DQN_Lengths_Path = \"/home/tabz/Dropbox/RL/Log_Files/March 2017/Maze_5_Batch_Sizes_Logs/*DQN*/logs/Episode_Lengths.txt\"\n",
    "DQN_Rewards = []\n",
    "DQN_Lengths = []\n",
    "DQN_Lengths_C = []"
   ]
  },
  {
   "cell_type": "code",
   "execution_count": 7,
   "metadata": {
    "collapsed": true,
    "deletable": true,
    "editable": true
   },
   "outputs": [],
   "source": [
    "for filename in glob.glob(DQN_Rewards_Path):\n",
    "    run_logs = [0]\n",
    "#     print(filename)\n",
    "    with open(filename, \"r\") as f:\n",
    "        for line in f:\n",
    "            try:\n",
    "                ep_r = float(line)\n",
    "            except:\n",
    "                continue\n",
    "            run_logs.append(ep_r)\n",
    "    DQN_Rewards.append(run_logs)"
   ]
  },
  {
   "cell_type": "code",
   "execution_count": 8,
   "metadata": {
    "collapsed": true,
    "deletable": true,
    "editable": true
   },
   "outputs": [],
   "source": [
    "for filename in glob.glob(DQN_Lengths_Path):\n",
    "    run_logs = [0]\n",
    "#     print(filename)\n",
    "    with open(filename, \"r\") as f:\n",
    "        for line in f:\n",
    "            try:\n",
    "                ep_r = float(line)\n",
    "            except:\n",
    "                continue\n",
    "            run_logs.append(ep_r)\n",
    "    DQN_Lengths.append(run_logs)\n",
    "    run_logs_c = np.cumsum(run_logs).astype(np.int32)\n",
    "    DQN_Lengths_C.append(run_logs_c)"
   ]
  },
  {
   "cell_type": "markdown",
   "metadata": {
    "collapsed": false,
    "deletable": true,
    "editable": true
   },
   "source": [
    "for lens, runs in zip(DQN_Lengths_C, DQN_Rewards):\n",
    "    plt.plot(lens, runs)\n",
    "plt.show()"
   ]
  },
  {
   "cell_type": "markdown",
   "metadata": {
    "collapsed": false,
    "deletable": true,
    "editable": true
   },
   "source": [
    "p = figure(width=500, height=500, y_range=(-1,3))\n",
    "for lens, runs in zip(DQN_Lengths_C, DQN_Rewards):\n",
    "    p.line(lens, runs)\n",
    "show(p)"
   ]
  },
  {
   "cell_type": "code",
   "execution_count": null,
   "metadata": {
    "collapsed": true,
    "deletable": true,
    "editable": true
   },
   "outputs": [],
   "source": []
  },
  {
   "cell_type": "markdown",
   "metadata": {
    "collapsed": true,
    "deletable": true,
    "editable": true
   },
   "source": [
    "def plot_averages(names, t_maxs, colors, legends=None, directory=\"Logs/\", step=10):\n",
    "    plt.figure(figsize=(10,10))\n",
    "    plt.ylim(-1, 3)\n",
    "    for name, color, t_max in tqdm(zip(names, colors, t_maxs)):\n",
    "        # TODO: Remove DQN from names\n",
    "        DQN_Rewards_Path = directory + \"*\" + name + \"*/logs/Episode_Rewards.txt\"\n",
    "        DQN_Lengths_Path = directory + \"*\" + name + \"*/logs/Episode_Lengths.txt\"\n",
    "        DQN_Rewards = []\n",
    "        DQN_Lengths = []\n",
    "        DQN_Lengths_C = []\n",
    "        for filename in glob.glob(DQN_Rewards_Path):\n",
    "            run_logs = [0]\n",
    "            with open(filename, \"r\") as f:\n",
    "                for line in f:\n",
    "                    try:\n",
    "                        ep_r = float(line)\n",
    "                    except:\n",
    "                        continue\n",
    "                    run_logs.append(ep_r)\n",
    "            DQN_Rewards.append(run_logs)\n",
    "        for filename in glob.glob(DQN_Lengths_Path):\n",
    "            run_logs = [0]\n",
    "        #     print(filename)\n",
    "            with open(filename, \"r\") as f:\n",
    "                for line in f:\n",
    "                    try:\n",
    "                        ep_r = float(line)\n",
    "                    except:\n",
    "                        continue\n",
    "                    run_logs.append(ep_r)\n",
    "            DQN_Lengths.append(run_logs)\n",
    "            run_logs_c = np.cumsum(run_logs).astype(np.int32)\n",
    "            DQN_Lengths_C.append(run_logs_c)\n",
    "        DQN_Smoothed = []\n",
    "        for times, rewards in zip(DQN_Lengths_C, DQN_Rewards):\n",
    "#             linear = interp1d(times, rewards, kind=\"linear\")\n",
    "#             linear_rewards = linear([i for i in range(500000)])\n",
    "#             DQN_Smoothed.append(linear_rewards)\n",
    "            spline_rewards = spline(times, rewards, [i for i in range(0, t_max, step)])\n",
    "            DQN_Smoothed.append(spline_rewards)\n",
    "        DQN_Means = np.mean(DQN_Smoothed, axis=0)\n",
    "        DQN_Stds = np.std(DQN_Smoothed, axis=0)\n",
    "        plt.fill_between([i for i in range(0, t_max, step)], DQN_Means - DQN_Stds, DQN_Means + DQN_Stds, color=color, alpha=0.2, edgecolor=\"white\")\n",
    "\n",
    "        plt.plot([i for i in range(0, t_max, step)], DQN_Means, color=color)\n",
    "\n",
    "    plt.title(\"Episode_Reward\")\n",
    "    plt.xlabel(\"T\")\n",
    "    plt.ylabel(\"Reward\")\n",
    "    if legends is not None:\n",
    "        plt.legend(legends, bbox_to_anchor=(1.05, 1), loc=2)\n",
    "    plt.show()"
   ]
  },
  {
   "cell_type": "code",
   "execution_count": 9,
   "metadata": {
    "collapsed": true,
    "deletable": true,
    "editable": true
   },
   "outputs": [],
   "source": [
    "from bokeh.models import Legend\n",
    "from bokeh.models.formatters import BasicTickFormatter\n",
    "from bokeh.models import HoverTool, TapTool"
   ]
  },
  {
   "cell_type": "code",
   "execution_count": 10,
   "metadata": {
    "collapsed": false,
    "deletable": true,
    "editable": true
   },
   "outputs": [],
   "source": [
    "def plot_averages_b(names, t_maxs, colors, legends, directories=\"Logs/\", step=10, title=\"\", min_max=True):\n",
    "#     plt.figure(figsize=(10,10))\n",
    "    p = figure(width=1200, height=800, y_range=(-0.1, 1.1), title=title)\n",
    "    p.toolbar_location = \"above\"\n",
    "    p.yaxis.axis_label = \"Episode Reward\"\n",
    "    p.xaxis.axis_label = \"T\"\n",
    "    p.xaxis.formatter = BasicTickFormatter(use_scientific=False)\n",
    "#     p = figure(width=800, height=500)\n",
    "    lines = []\n",
    "    alpha_lines = []\n",
    "    if isinstance(directories, str):\n",
    "        dd = directories\n",
    "        directories = [dd for _ in names]\n",
    "    for name, color, t_max, legend, directory in zip(names, colors, t_maxs, legends, directories):\n",
    "#         print(directory)\n",
    "        DQN_Rewards_Path = directory + \"*\" + name + \"*/logs/Episode_Rewards.txt\"\n",
    "        DQN_Lengths_Path = directory + \"*\" + name + \"*/logs/Episode_Lengths.txt\"\n",
    "        DQN_Rewards = []\n",
    "        DQN_Lengths = []\n",
    "        DQN_Lengths_C = []\n",
    "        for filename in glob.glob(DQN_Rewards_Path):\n",
    "            run_logs = [0]\n",
    "            with open(filename, \"r\") as f:\n",
    "#                 print(f)\n",
    "                for line in f:\n",
    "                    try:\n",
    "                        ep_r = float(line)\n",
    "                    except:\n",
    "                        print(\"Nothing here for:\", filename)\n",
    "                        continue\n",
    "                    run_logs.append(ep_r)\n",
    "            DQN_Rewards.append(run_logs)\n",
    "        for filename in glob.glob(DQN_Lengths_Path):\n",
    "            run_logs = [0]\n",
    "        #     print(filename)\n",
    "            with open(filename, \"r\") as f:\n",
    "                for line in f:\n",
    "                    try:\n",
    "                        ep_r = float(line)\n",
    "                    except:\n",
    "                        continue\n",
    "                    run_logs.append(ep_r)\n",
    "            DQN_Lengths.append(run_logs)\n",
    "            run_logs_c = np.cumsum(run_logs).astype(np.int32)\n",
    "            DQN_Lengths_C.append(run_logs_c)\n",
    "        DQN_Smoothed = []\n",
    "        for times, rewards in zip(DQN_Lengths_C, DQN_Rewards):\n",
    "#             linear = interp1d(times, rewards, kind=\"linear\")\n",
    "#             linear_rewards = linear([i for i in range(500000)])\n",
    "#             DQN_Smoothed.append(linear_rewards)\n",
    "            spline_rewards = spline(times, rewards, [i for i in range(0, t_max, step)], order=1)\n",
    "            DQN_Smoothed.append(spline_rewards)\n",
    "        DQN_Means = np.mean(DQN_Smoothed, axis=0)\n",
    "        DQN_Stds = np.std(DQN_Smoothed, axis=0)\n",
    "        \n",
    "        if min_max:\n",
    "    #         plt.fill_between([i for i in range(0, t_max, step)], DQN_Means - DQN_Stds, DQN_Means + DQN_Stds, color=color, alpha=0.2, edgecolor=\"white\")\n",
    "            # Error bars\n",
    "            xs = [i for i in range(0, t_max, step)]\n",
    "            xs = xs + list(reversed(xs))\n",
    "    #         ys = np.concatenate([DQN_Means - DQN_Stds, np.flip(DQN_Means + DQN_Stds, axis=0)])\n",
    "            ys = np.concatenate([np.min(DQN_Smoothed, axis=0), np.flip(np.max(DQN_Smoothed, axis=0), axis=0)])\n",
    "            lls = p.patch(xs, ys, color=color, alpha=0.1)\n",
    "\n",
    "\n",
    "    #         for x, y, yerr in zip(range(0, t_max, step), DQN_Means, DQN_Stds):\n",
    "    #             lls = p.line([x, x], [y - yerr, y + yerr], color=color, alpha=0.1, hover_alpha=0.8)\n",
    "    #             alpha_lines.append(lls)\n",
    "\n",
    "\n",
    "    #         plt.plot([i for i in range(0, t_max, step)], DQN_Means, color=color)\n",
    "        l = p.line([i for i in range(0, t_max, step)], DQN_Means, color=color, line_width=2)\n",
    "        lines.append(l)\n",
    "    #         alpha_lines.append(lls)\n",
    "\n",
    "#     plt.title(\"Episode_Reward\")\n",
    "#     plt.xlabel(\"T\")\n",
    "#     plt.ylabel(\"Reward\")\n",
    "#     if legends is not None:\n",
    "#         plt.legend(legends)\n",
    "#     plt.show()\n",
    "#     p.line([0,1], [-1,3])\n",
    "    new_leg = Legend(items=[(name, [line]) for name, line in zip(legends, lines)], location=(0,-30))\n",
    "    p.add_layout(new_leg, \"right\")\n",
    "#     p.add_tools(HoverTool(renderers=alpha_lines))\n",
    "#     p.add_tools(TapTool(renderers=alpha_lines))\n",
    "    show(p)"
   ]
  },
  {
   "cell_type": "code",
   "execution_count": 11,
   "metadata": {
    "collapsed": false,
    "deletable": true,
    "editable": true
   },
   "outputs": [],
   "source": [
    "def plot_states(names, t_maxs, colors, legends, directories=\"Logs/\", step=10, title=\"\"):\n",
    "#     plt.figure(figsize=(10,10))\n",
    "    p = figure(width=1200, height=800, title=title)\n",
    "    p.toolbar_location = \"above\"\n",
    "    p.yaxis.axis_label = \"States visited\"\n",
    "    p.xaxis.axis_label = \"T\"\n",
    "    p.xaxis.formatter = BasicTickFormatter(use_scientific=False)\n",
    "#     p = figure(width=800, height=500)\n",
    "    lines = []\n",
    "    alpha_lines = []\n",
    "    if isinstance(directories, str):\n",
    "        dd = directories\n",
    "        directories = [dd for _ in names]\n",
    "    for name, color, t_max, legend, directory in zip(names, colors, t_maxs, legends, directories):\n",
    "#         print(directory)\n",
    "        States_Path = directory + \"*\" + name + \"*/logs/Player_Positions.txt\"\n",
    "        States = []\n",
    "        for filename in glob.glob(States_Path):\n",
    "            run_logs = []\n",
    "            with open(filename, \"r\") as f:\n",
    "#                 print(f)\n",
    "                for line in f:\n",
    "                    try:\n",
    "                        ep_r = str(line)\n",
    "#                         print(ep_r)\n",
    "                    except:\n",
    "                        print(\"Nothing here for:\", filename)\n",
    "                        continue\n",
    "                    run_logs.append(ep_r)\n",
    "            States.append(run_logs)\n",
    "        States_Visited = []\n",
    "        for run in States:\n",
    "            Visited = []\n",
    "            States_Sets = set()\n",
    "#             print(len(run))\n",
    "            for ii, s in enumerate(run):\n",
    "                if ii >= t_max - 1:\n",
    "                    break\n",
    "#                 print(s)\n",
    "                States_Sets.add(s)\n",
    "                if ii % step == 0:\n",
    "                    Visited.append(len(States_Sets))\n",
    "#             print(len(States_Sets))\n",
    "#             print(len(Visited))\n",
    "            States_Visited.append(Visited)\n",
    "#         print(np.array(States_Visited).shape)\n",
    "        Means = np.mean(States_Visited, axis=0)\n",
    "        Stds = np.std(States_Visited, axis=0)\n",
    "#         print(Means.shape)\n",
    "        \n",
    "#         plt.fill_between([i for i in range(0, t_max, step)], DQN_Means - DQN_Stds, DQN_Means + DQN_Stds, color=color, alpha=0.2, edgecolor=\"white\")\n",
    "        # Error bars\n",
    "        xs = [i for i in range(0, t_max, step)]\n",
    "        xs = xs + list(reversed(xs))\n",
    "#         ys = np.concatenate([Means - Stds, np.flip(Means + Stds, axis=0)])\n",
    "        ys = np.concatenate([np.min(States_Visited, axis=0), np.flip(np.max(States_Visited, axis=0), axis=0)])\n",
    "        lls = p.patch(xs, ys, color=color, alpha=0.1)\n",
    "\n",
    "        \n",
    "#         for x, y, yerr in zip(range(0, t_max, step), DQN_Means, DQN_Stds):\n",
    "#             lls = p.line([x, x], [y - yerr, y + yerr], color=color, alpha=0.1, hover_alpha=0.8)\n",
    "#             alpha_lines.append(lls)\n",
    "            \n",
    "\n",
    "#         plt.plot([i for i in range(0, t_max, step)], DQN_Means, color=color)\n",
    "        l = p.line([i for i in range(0, t_max, step)], Means, color=color, line_width=2)\n",
    "        lines.append(l)\n",
    "#         alpha_lines.append(lls)\n",
    "\n",
    "#     plt.title(\"Episode_Reward\")\n",
    "#     plt.xlabel(\"T\")\n",
    "#     plt.ylabel(\"Reward\")\n",
    "#     if legends is not None:\n",
    "#         plt.legend(legends)\n",
    "#     plt.show()\n",
    "#     p.line([0,1], [-1,3])\n",
    "    new_leg = Legend(items=[(name, [line]) for name, line in zip(legends, lines)], location=(0,-30))\n",
    "    p.add_layout(new_leg, \"right\")\n",
    "#     p.add_tools(HoverTool(renderers=alpha_lines))\n",
    "#     p.add_tools(TapTool(renderers=alpha_lines))\n",
    "    show(p)"
   ]
  },
  {
   "cell_type": "code",
   "execution_count": null,
   "metadata": {
    "collapsed": true,
    "deletable": true,
    "editable": true
   },
   "outputs": [],
   "source": []
  },
  {
   "cell_type": "code",
   "execution_count": 12,
   "metadata": {
    "collapsed": false,
    "deletable": true,
    "editable": true
   },
   "outputs": [
    {
     "name": "stdout",
     "output_type": "stream",
     "text": [
      "['_10_Step_*DQN_', '_10_Step_*k_Count_', '_10_Step_*_CountEps_']\n",
      "[300001, 300001, 300001]\n"
     ]
    }
   ],
   "source": [
    "names = []\n",
    "legends = []\n",
    "t_maxs = []\n",
    "directories = []\n",
    "\n",
    "            \n",
    "# Frontier stuff\n",
    "for step in [10]:\n",
    "    # DQN\n",
    "    names += [\"_{}_Step_*DQN_\".format(step)]\n",
    "    legends += [\"{}_Step_DQN\".format(step)]\n",
    "    t_maxs += [300001]\n",
    "#     continue\n",
    "    # PseudoCount\n",
    "    names += [\"_{}_Step_*k_Count_\".format(step)]\n",
    "    legends += [\"{}_Step_Count\".format(step)]\n",
    "    t_maxs += [300001]\n",
    "#     continue\n",
    "    # EpsilonScaling\n",
    "    names += [\"_{}_Step_*_CountEps_\".format(step)]\n",
    "    legends += [\"{}_Step_Epsilon_Scaling\".format(step)]\n",
    "    t_maxs += [300001]\n",
    "            \n",
    "    \n",
    "direc = \"/home/tabz/tmp/logfiles/MedMaze10/MedMaze10\"\n",
    "# directories =  [\"{}/{}\".format(dropbox_direc, \"Maze_5_Logs/\")] + 3 * [\"{}/{}\".format(dropbox_direc, \"Maze_5_Batch_Sizes_Logs/\")] \n",
    "directories += [direc + \"/EpsilonLogs/\"] * 3\n",
    "    \n",
    "print(names)\n",
    "print(t_maxs)\n",
    "# colours = [\"red\", \"#3366ff\", \"#66ff33\", \"yellow\"]\n",
    "# colours = rainbow(np.linspace(0, 1, len(names)))"
   ]
  },
  {
   "cell_type": "code",
   "execution_count": 13,
   "metadata": {
    "collapsed": false,
    "deletable": true,
    "editable": true
   },
   "outputs": [
    {
     "name": "stdout",
     "output_type": "stream",
     "text": [
      "['_100_Step*k_Count_', '_100_Step*OptimisticAction', '_100_Step*_CountEps_']\n",
      "[300001, 300001, 300001]\n",
      "/home/scratch/tabhid/Log_Files/Gamma_Logs//\n"
     ]
    }
   ],
   "source": [
    "names = []\n",
    "legends = []\n",
    "t_maxs = []\n",
    "\n",
    "            \n",
    "# Frontier bandit stuff\n",
    "\n",
    "for n in [100]:\n",
    "    \n",
    "    # Count\n",
    "    names += [\"_{}_Step*k_Count_\".format(n)]\n",
    "    legends += [\"{}_Step_Count\".format(n)]\n",
    "    t_maxs += [300001]\n",
    "#     continue\n",
    "    # Optimistic\n",
    "    names += [\"_{}_Step*OptimisticAction\".format(n)]\n",
    "    legends += [\"{}_Step_OptimisticAction\".format(n)]\n",
    "    t_maxs += [300001]\n",
    "#     continue\n",
    "    # Epsilon Scaling\n",
    "    names += [\"_{}_Step*_CountEps_\".format(n)]\n",
    "    legends += [\"{}_Step_EpsilonScaling\".format(n)]\n",
    "    t_maxs += [300001]\n",
    "            \n",
    "    \n",
    "direc = \"/home/scratch/tabhid/Log_Files/Gamma_Logs//\"\n",
    "# directories =  [\"{}/{}\".format(dropbox_direc, \"Maze_5_Logs/\")] + 3 * [\"{}/{}\".format(dropbox_direc, \"Maze_5_Batch_Sizes_Logs/\")] \n",
    "# directories += [direc + \"/BanditLogs/\"] * 3\n",
    "directories = direc\n",
    "    \n",
    "print(names)\n",
    "print(t_maxs)\n",
    "print(directories)\n",
    "# colours = [\"red\", \"#3366ff\", \"#66ff33\", \"yellow\"]\n",
    "# colours = rainbow(np.linspace(0, 1, len(names)))"
   ]
  },
  {
   "cell_type": "code",
   "execution_count": 14,
   "metadata": {
    "collapsed": false,
    "deletable": true,
    "editable": true
   },
   "outputs": [
    {
     "name": "stdout",
     "output_type": "stream",
     "text": [
      "['_0.9_Decay*_Eps_0.1_', '_0.99_Decay*_Eps_0.1_', '_0.9999_Decay*_Eps_0.1_', '_0.9_Decay*_Eps_1_', '_0.99_Decay*_Eps_1_', '_0.9999_Decay*_Eps_1_']\n",
      "[300001, 300001, 300001, 300001, 300001, 300001]\n",
      "/home/tabz/tmp/Epsilon_Decay_Logs/\n"
     ]
    }
   ],
   "source": [
    "names = []\n",
    "legends = []\n",
    "t_maxs = []\n",
    "\n",
    "            \n",
    "# Epsilon Decay Scaling\n",
    "for eps in [0.1, 1]:\n",
    "    for decay in [0.9, 0.99, 0.9999]:\n",
    "    \n",
    "        names += [\"_{}_Decay*_Eps_{}_\".format(decay, eps)]\n",
    "        legends += [\"{}_Decay_EpsilonScaling_{}_Start\".format(decay, eps)]\n",
    "        t_maxs += [300001]\n",
    "            \n",
    "    \n",
    "# direc = \"/home/scratch/tabhid/Log_Files/Epsilon_Decay_Logs/\"\n",
    "direc = \"/home/tabz/tmp/Epsilon_Decay_Logs/\"\n",
    "# directories =  [\"{}/{}\".format(dropbox_direc, \"Maze_5_Logs/\")] + 3 * [\"{}/{}\".format(dropbox_direc, \"Maze_5_Batch_Sizes_Logs/\")] \n",
    "# directories += [direc + \"/BanditLogs/\"] * 3\n",
    "directories = direc\n",
    "    \n",
    "print(names)\n",
    "print(t_maxs)\n",
    "print(directories)"
   ]
  },
  {
   "cell_type": "code",
   "execution_count": 15,
   "metadata": {
    "collapsed": false,
    "deletable": true,
    "editable": true
   },
   "outputs": [
    {
     "name": "stdout",
     "output_type": "stream",
     "text": [
      "['_NegativeReward_0.5_', '_NegativeReward_0.7_', '_NegativeReward_0.9_']\n",
      "[300001, 300001, 300001]\n",
      "/home/tabz/tmp/Big_Negative_Reward_Logs/\n"
     ]
    }
   ],
   "source": [
    "names = []\n",
    "legends = []\n",
    "t_maxs = []\n",
    "\n",
    "            \n",
    "# Negative reward threshold\n",
    "for ns in [0.5, 0.7,  0.9]:\n",
    "    names += [\"_NegativeReward_{}_\".format(ns)]\n",
    "    legends += [\"NegativeReward_{}_Threshold\".format(ns)]\n",
    "    t_maxs += [300001]\n",
    "            \n",
    "    \n",
    "# direc = \"/home/scratch/tabhid/Log_Files/Epsilon_Decay_Logs/\"\n",
    "direc = \"/home/tabz/tmp/Big_Negative_Reward_Logs/\"\n",
    "# directories =  [\"{}/{}\".format(dropbox_direc, \"Maze_5_Logs/\")] + 3 * [\"{}/{}\".format(dropbox_direc, \"Maze_5_Batch_Sizes_Logs/\")] \n",
    "# directories += [direc + \"/BanditLogs/\"] * 3\n",
    "directories = direc\n",
    "    \n",
    "print(names)\n",
    "print(t_maxs)\n",
    "print(directories)"
   ]
  },
  {
   "cell_type": "code",
   "execution_count": 16,
   "metadata": {
    "collapsed": false,
    "deletable": true,
    "editable": true
   },
   "outputs": [
    {
     "name": "stdout",
     "output_type": "stream",
     "text": [
      "['k_OptimisticAction_0.0001_Scaler', 'k_OptimisticAction_0.0005_Scaler', 'k_OptimisticAction_0.001_Scaler', 'k_OptimisticAction_0.005_Scaler']\n",
      "[300001, 300001, 300001, 300001]\n",
      "/home/scratch/tabhid/Log_Files/Bandit_Small_Tau_Logs/\n"
     ]
    }
   ],
   "source": [
    "names = []\n",
    "legends = []\n",
    "t_maxs = []\n",
    "\n",
    "            \n",
    "# Bandit Tau\n",
    "for tau in [0.0001, 0.0005, 0.001, 0.005]:\n",
    "    for negative_reward in [False]:\n",
    "        if negative_reward:\n",
    "            names += [\"NegativeReward_*_OptimisticAction_{}_Scaler\".format(tau)]\n",
    "            legends += [\"Optim Bandit {} Tau Neg Reward\".format(tau)]\n",
    "        else:\n",
    "            names += [\"k_OptimisticAction_{}_Scaler\".format(tau)]\n",
    "            legends += [\"Optim Bandit {} Tau\".format(tau)]\n",
    "        t_maxs += [300001]\n",
    "            \n",
    "    \n",
    "direc = \"/home/scratch/tabhid/Log_Files/Bandit_Small_Tau_Logs/\"\n",
    "# direc = \"/home/tabz/tmp/Bandit_Tau_Logs/\"\n",
    "# directories =  [\"{}/{}\".format(dropbox_direc, \"Maze_5_Logs/\")] + 3 * [\"{}/{}\".format(dropbox_direc, \"Maze_5_Batch_Sizes_Logs/\")] \n",
    "# directories += [direc + \"/BanditLogs/\"] * 3\n",
    "directories = direc\n",
    "    \n",
    "print(names)\n",
    "print(t_maxs)\n",
    "print(directories)"
   ]
  },
  {
   "cell_type": "code",
   "execution_count": 17,
   "metadata": {
    "collapsed": false,
    "deletable": true,
    "editable": true
   },
   "outputs": [
    {
     "name": "stdout",
     "output_type": "stream",
     "text": [
      "['Batch_64_XpSize_600k', 'Batch_128_XpSize_600k', 'Batch_256_XpSize_600k']\n",
      "[600001, 600001, 600001]\n",
      "/home/tabz/tmp/logfiles/MedMaze10/Batch_Size_Logs/\n"
     ]
    }
   ],
   "source": [
    "names = []\n",
    "legends = []\n",
    "t_maxs = []\n",
    "\n",
    "            \n",
    "# Batch Size\n",
    "for xp in [600]:\n",
    "    for bs in [64, 128, 256]:\n",
    "        names += [\"Batch_{}_XpSize_{}k\".format(bs, xp)]\n",
    "        legends += [\"Batch {} Xp {}k\".format(bs, xp)]\n",
    "        t_maxs += [600001]\n",
    "            \n",
    "    \n",
    "# direc = \"/home/scratch/tabhid/Log_Files/Xp_Logs/\"\n",
    "direc = \"/home/tabz/tmp/logfiles/MedMaze10/Batch_Size_Logs/\"\n",
    "# directories =  [\"{}/{}\".format(dropbox_direc, \"Maze_5_Logs/\")] + 3 * [\"{}/{}\".format(dropbox_direc, \"Maze_5_Batch_Sizes_Logs/\")] \n",
    "# directories += [direc + \"/BanditLogs/\"] * 3\n",
    "directories = direc\n",
    "    \n",
    "print(names)\n",
    "print(t_maxs)\n",
    "print(directories)"
   ]
  },
  {
   "cell_type": "code",
   "execution_count": 18,
   "metadata": {
    "collapsed": false,
    "deletable": true,
    "editable": true
   },
   "outputs": [
    {
     "name": "stdout",
     "output_type": "stream",
     "text": [
      "['ETrace_0.7_6_States', 'ETrace_0.9_6_States', 'ETrace_1_6_States']\n",
      "[600001, 600001, 600001]\n",
      "/home/tabz/tmp/logfiles/MedMaze10/Elig_3_Logs/\n"
     ]
    }
   ],
   "source": [
    "names = []\n",
    "legends = []\n",
    "t_maxs = []\n",
    "\n",
    "            \n",
    "# Elig States\n",
    "for lamb in [0.7, 0.9, 1]:\n",
    "    for states in [6]:\n",
    "        names += [\"ETrace_{}_{}_States\".format(lamb, states)]\n",
    "        legends += [\"Traces {} Lambda {} States 3 Gap\".format(lamb, states)]\n",
    "        t_maxs += [600001]\n",
    "            \n",
    "    \n",
    "# direc = \"/home/scratch/tabhid/Log_Files/Xp_Logs/\"\n",
    "direc = \"/home/tabz/tmp/logfiles/MedMaze10/Elig_3_Logs/\"\n",
    "# directories =  [\"{}/{}\".format(dropbox_direc, \"Maze_5_Logs/\")] + 3 * [\"{}/{}\".format(dropbox_direc, \"Maze_5_Batch_Sizes_Logs/\")] \n",
    "# directories += [direc + \"/BanditLogs/\"] * 3\n",
    "directories = direc\n",
    "    \n",
    "print(names)\n",
    "print(t_maxs)\n",
    "print(directories)"
   ]
  },
  {
   "cell_type": "code",
   "execution_count": 19,
   "metadata": {
    "collapsed": false,
    "deletable": true,
    "editable": true
   },
   "outputs": [
    {
     "name": "stdout",
     "output_type": "stream",
     "text": [
      "['Iters_1_', 'Iters_2_', 'Iters_4_', 'Iters_8_', 'Iters_16_']\n",
      "[600001, 600001, 600001, 600001, 600001]\n",
      "/home/tabz/tmp/logfiles/MedMaze10/Iters_Logs/\n"
     ]
    }
   ],
   "source": [
    "names = []\n",
    "legends = []\n",
    "t_maxs = []\n",
    "\n",
    "            \n",
    "# Iterations\n",
    "for i in [1, 2, 4, 8, 16]:\n",
    "    names += [\"Iters_{}_\".format(i)]\n",
    "    legends += [\"{} Iterations\".format(i)]\n",
    "    t_maxs += [600001]\n",
    "            \n",
    "    \n",
    "# direc = \"/home/scratch/tabhid/Log_Files/Xp_Logs/\"\n",
    "direc = \"/home/tabz/tmp/logfiles/MedMaze10/Iters_Logs/\"\n",
    "# directories =  [\"{}/{}\".format(dropbox_direc, \"Maze_5_Logs/\")] + 3 * [\"{}/{}\".format(dropbox_direc, \"Maze_5_Batch_Sizes_Logs/\")] \n",
    "# directories += [direc + \"/BanditLogs/\"] * 3\n",
    "directories = direc\n",
    "    \n",
    "print(names)\n",
    "print(t_maxs)\n",
    "print(directories)"
   ]
  },
  {
   "cell_type": "code",
   "execution_count": 20,
   "metadata": {
    "collapsed": false,
    "deletable": true,
    "editable": true
   },
   "outputs": [
    {
     "name": "stdout",
     "output_type": "stream",
     "text": [
      "['k_CountEps_', 'Trajectory_0.2_', 'Trajectory_0.5_', 'Trajectory_0.75_', 'Trajectory_0.8_', 'Trajectory_0.9_']\n",
      "[600001, 600001, 600001, 600001, 600001, 600001]\n",
      "/home/tabz/tmp/logfiles/MedMaze10/Trajectory_Logs/\n"
     ]
    }
   ],
   "source": [
    "names = []\n",
    "legends = []\n",
    "t_maxs = []\n",
    "\n",
    "names += [\"k_CountEps_\"]\n",
    "legends += [\"No Trajectory\"]\n",
    "t_maxs += [600001]\n",
    "            \n",
    "# Trajectory\n",
    "for t in [0.2, 0.5, 0.75, 0.8, 0.9]:\n",
    "    names += [\"Trajectory_{}_\".format(t)]\n",
    "    legends += [\"Trajectory {} Save\".format(t)]\n",
    "    t_maxs += [600001]\n",
    "            \n",
    "    \n",
    "# direc = \"/home/scratch/tabhid/Log_Files/Xp_Logs/\"\n",
    "direc = \"/home/tabz/tmp/logfiles/MedMaze10/Trajectory_Logs/\"\n",
    "# directories =  [\"{}/{}\".format(dropbox_direc, \"Maze_5_Logs/\")] + 3 * [\"{}/{}\".format(dropbox_direc, \"Maze_5_Batch_Sizes_Logs/\")] \n",
    "# directories += [direc + \"/BanditLogs/\"] * 3\n",
    "directories = direc\n",
    "    \n",
    "print(names)\n",
    "print(t_maxs)\n",
    "print(directories)"
   ]
  },
  {
   "cell_type": "code",
   "execution_count": 21,
   "metadata": {
    "collapsed": false,
    "deletable": true,
    "editable": true
   },
   "outputs": [
    {
     "name": "stdout",
     "output_type": "stream",
     "text": [
      "['XpSize_30k*CountDecay_0.9999', 'XpSize_30k*CountDecay_0.999999', 'XpSize_30k*CountDecay_1', 'XpSize_60k*CountDecay_0.9999', 'XpSize_60k*CountDecay_0.999999', 'XpSize_60k*CountDecay_1', 'XpSize_100k*CountDecay_0.9999', 'XpSize_100k*CountDecay_0.999999', 'XpSize_100k*CountDecay_1']\n",
      "[600001, 600001, 600001, 600001, 600001, 600001, 600001, 600001, 600001]\n",
      "/home/tabz/tmp/logfiles/CountXpSort/\n"
     ]
    }
   ],
   "source": [
    "names = []\n",
    "legends = []\n",
    "t_maxs = []\n",
    "          \n",
    "# Count Xp Sort\n",
    "for xp in [30, 60, 100]:\n",
    "    for decay in [0.9999, 0.999999, 1]:\n",
    "        names += [\"XpSize_{}k*CountDecay_{}\".format(xp, decay)]\n",
    "        legends += [\"CountXp Sort {}k Xp {} CountDecay\".format(xp, decay)]\n",
    "        t_maxs += [600001]\n",
    "            \n",
    "    \n",
    "# direc = \"/home/scratch/tabhid/Log_Files/Xp_Logs/\"\n",
    "direc = \"/home/tabz/tmp/logfiles/CountXpSort/\"\n",
    "# directories =  [\"{}/{}\".format(dropbox_direc, \"Maze_5_Logs/\")] + 3 * [\"{}/{}\".format(dropbox_direc, \"Maze_5_Batch_Sizes_Logs/\")] \n",
    "# directories += [direc + \"/BanditLogs/\"] * 3\n",
    "directories = direc\n",
    "    \n",
    "print(names)\n",
    "print(t_maxs)\n",
    "print(directories)"
   ]
  },
  {
   "cell_type": "code",
   "execution_count": 22,
   "metadata": {
    "collapsed": false,
    "deletable": true,
    "editable": true
   },
   "outputs": [
    {
     "name": "stdout",
     "output_type": "stream",
     "text": [
      "['OptimisticAction_0.1', 'OptimisticAction_1', 'OptimisticAction_10', 'k_CountEps']\n",
      "[600001, 600001, 600001, 600001]\n",
      "/home/tabz/tmp/logfiles/MedMaze12/\n"
     ]
    }
   ],
   "source": [
    "names = []\n",
    "legends = []\n",
    "t_maxs = []\n",
    "          \n",
    "# MedMaze12\n",
    "\n",
    "#Bandits\n",
    "for os in [0.1, 1, 10]:\n",
    "    names += [\"OptimisticAction_{}\".format(os)]\n",
    "    legends += [\"Bandit {} Scaler\".format(os)]\n",
    "    t_maxs += [600001]\n",
    "    \n",
    "# #-ve reward\n",
    "# for nr in [0.5, 0.7]:\n",
    "#     names += [\"NegativeReward_{}\".format(nr)]\n",
    "#     legends += [\"Negative Reward {}\".format(nr)]\n",
    "#     t_maxs += [600001]\n",
    "    \n",
    "#CountXp\n",
    "names += [\"k_CountEps\"]\n",
    "legends += [\"Counts\"]\n",
    "t_maxs += [600001]\n",
    "            \n",
    "    \n",
    "# direc = \"/home/scratch/tabhid/Log_Files/Xp_Logs/\"\n",
    "direc = \"/home/tabz/tmp/logfiles/MedMaze12/\"\n",
    "# directories =  [\"{}/{}\".format(dropbox_direc, \"Maze_5_Logs/\")] + 3 * [\"{}/{}\".format(dropbox_direc, \"Maze_5_Batch_Sizes_Logs/\")] \n",
    "# directories += [direc + \"/BanditLogs/\"] * 3\n",
    "directories = direc\n",
    "    \n",
    "print(names)\n",
    "print(t_maxs)\n",
    "print(directories)"
   ]
  },
  {
   "cell_type": "code",
   "execution_count": 23,
   "metadata": {
    "collapsed": false,
    "deletable": true,
    "editable": true
   },
   "outputs": [
    {
     "name": "stdout",
     "output_type": "stream",
     "text": [
      "['k_CountEps*Stale_50k', 'Prioritized*Stale_50k', 'Prioritized_IS*Stale_50k', 'k_CountEps*Stale_300k', 'Prioritized*Stale_300k', 'Prioritized_IS*Stale_300k']\n",
      "[600001, 600001, 600001, 600001, 600001, 600001]\n",
      "/home/tabz/tmp/logfiles/Prioritized_Logs/\n"
     ]
    }
   ],
   "source": [
    "names = []\n",
    "legends = []\n",
    "t_maxs = []\n",
    "          \n",
    "# Prioritized replay stuff\n",
    "for fresh in [50, 300]:\n",
    "    for p in [None, \"P\", \"P_IS\"]:\n",
    "        if p is \"P\":\n",
    "            names += [\"Prioritized*Stale_{}k\".format(fresh)]\n",
    "            legends += [\"Prioritized {}k Fresh Counts\".format(fresh)]\n",
    "        elif p is \"P_IS\":\n",
    "            names += [\"Prioritized_IS*Stale_{}k\".format(fresh)]\n",
    "            legends += [\"Prioritized IS {}k Fresh Counts\".format(fresh)]\n",
    "        else:\n",
    "            names += [\"k_CountEps*Stale_{}k\".format(fresh)]\n",
    "            legends += [\"{}k Fresh Counts\".format(fresh)]\n",
    "        t_maxs += [600001]\n",
    "    \n",
    "direc = \"/home/tabz/tmp/logfiles/Prioritized_Logs/\"\n",
    "env = \"Med Maze 10\"\n",
    "directories = direc\n",
    "    \n",
    "print(names)\n",
    "print(t_maxs)\n",
    "print(directories)"
   ]
  },
  {
   "cell_type": "code",
   "execution_count": 24,
   "metadata": {
    "collapsed": false,
    "deletable": true,
    "editable": true
   },
   "outputs": [
    {
     "name": "stdout",
     "output_type": "stream",
     "text": [
      "['_0.1_Mix', '_0.3_Mix', '_0.5_Mix', '_0.7_Mix', '_0.9_Mix']\n",
      "[600001, 600001, 600001, 600001, 600001]\n",
      "/home/tabz/tmp/logfiles/Mixing_Logs/\n"
     ]
    }
   ],
   "source": [
    "names = []\n",
    "legends = []\n",
    "t_maxs = []\n",
    "          \n",
    "# Mixing\n",
    "for mix in [0.1, 0.3, 0.5, 0.7, 0.9]:\n",
    "    names += [\"_{}_Mix\".format(mix)]\n",
    "    legends += [\"{} Mixing\".format(mix)]\n",
    "    t_maxs += [600001]\n",
    "    \n",
    "direc = \"/home/tabz/tmp/logfiles/Mixing_Logs/\"\n",
    "directories = direc\n",
    "\n",
    "env =\"Med Maze 10\"\n",
    "    \n",
    "print(names)\n",
    "print(t_maxs)\n",
    "print(directories)"
   ]
  },
  {
   "cell_type": "code",
   "execution_count": 25,
   "metadata": {
    "collapsed": false,
    "deletable": true,
    "editable": true
   },
   "outputs": [
    {
     "name": "stdout",
     "output_type": "stream",
     "text": [
      "['OptimisticAction_0.1', 'OptimisticAction_0.01', 'OptimisticAction_0.001', 'CountEps_0.9999_', 'CountEps_0.999_', 'CountEps_0.99_', 'CountEps_0.9_']\n",
      "[600001, 600001, 600001, 600001, 600001, 600001, 600001]\n",
      "/home/tabz/tmp/logfiles/Frontier_Logs/\n"
     ]
    }
   ],
   "source": [
    "names = []\n",
    "legends = []\n",
    "t_maxs = []\n",
    "          \n",
    "# MedMaze12\n",
    "\n",
    "#Bandits\n",
    "for os in [0.1, 0.01, 0.001]:\n",
    "    names += [\"OptimisticAction_{}\".format(os)]\n",
    "    legends += [\"Bandit {} Scaler\".format(os)]\n",
    "    t_maxs += [600001]\n",
    "    \n",
    "#Epsilon decay\n",
    "for decay in [0.9999, 0.999, 0.99, 0.9]:\n",
    "    names += [\"CountEps_{}_\".format(decay)]\n",
    "    legends += [\"Epsilon Scaling {} Decay\".format(decay)]\n",
    "    t_maxs += [600001]\n",
    "            \n",
    "    \n",
    "direc = \"/home/tabz/tmp/logfiles/Frontier_Logs/\"\n",
    "directories = direc\n",
    "env = \"Med Maze 12\"\n",
    "    \n",
    "print(names)\n",
    "print(t_maxs)\n",
    "print(directories)"
   ]
  },
  {
   "cell_type": "code",
   "execution_count": 26,
   "metadata": {
    "collapsed": false,
    "deletable": true,
    "editable": true
   },
   "outputs": [
    {
     "name": "stdout",
     "output_type": "stream",
     "text": [
      "['NegativeReward_0.1', 'NegativeReward_0.2']\n",
      "[600001, 600001]\n",
      "/home/tabz/tmp/Neg/\n"
     ]
    }
   ],
   "source": [
    "names = []\n",
    "legends = []\n",
    "t_maxs = []\n",
    "          \n",
    "# MedMaze10 Set replay negative reward\n",
    "\n",
    "for neg_reward in [0.1, 0.2]:\n",
    "    names += [\"NegativeReward_{}\".format(neg_reward)]\n",
    "    legends += [\"Negative Reward {} Set Replay\".format(neg_reward)]\n",
    "    t_maxs += [600001]            \n",
    "    \n",
    "direc = \"/home/tabz/tmp/Neg/\"\n",
    "directories = direc\n",
    "env = \"Med Maze 10 Set Replay Negative Reward\"\n",
    "    \n",
    "print(names)\n",
    "print(t_maxs)\n",
    "print(directories)"
   ]
  },
  {
   "cell_type": "code",
   "execution_count": 27,
   "metadata": {
    "collapsed": false,
    "deletable": true,
    "editable": true
   },
   "outputs": [
    {
     "name": "stdout",
     "output_type": "stream",
     "text": [
      "['_10_Step*_SetReplay_5_', '_10_Step*_SetReplay_10_', '_10_Step*_SetReplay_100_', '_100_Step*_SetReplay_5_', '_100_Step*_SetReplay_10_', '_100_Step*_SetReplay_100_']\n",
      "[600001, 600001, 600001, 600001, 600001, 600001]\n",
      "/home/tabz/tmp/logfiles/SetReplayNum/\n"
     ]
    }
   ],
   "source": [
    "names = []\n",
    "legends = []\n",
    "t_maxs = []\n",
    "          \n",
    "# MedMaze10 Set replay \n",
    "\n",
    "for step in [10, 100]:\n",
    "    for replay_num in [5, 10, 100]:\n",
    "        names += [\"_{}_Step*_SetReplay_{}_\".format(step, replay_num)]\n",
    "        legends += [\"{} Step {} SetReplay\".format(step, replay_num)]\n",
    "        t_maxs += [600001]\n",
    "    \n",
    "direc = \"/home/tabz/tmp/logfiles/SetReplayNum/\"\n",
    "directories = direc\n",
    "env = \"Med Maze 10 Set Replay Num\"\n",
    "    \n",
    "print(names)\n",
    "print(t_maxs)\n",
    "print(directories)"
   ]
  },
  {
   "cell_type": "code",
   "execution_count": 28,
   "metadata": {
    "collapsed": false,
    "deletable": true,
    "editable": true
   },
   "outputs": [
    {
     "name": "stdout",
     "output_type": "stream",
     "text": [
      "['k_BonusClip*Stale_50k', 'Prioritized*Stale_50k', 'Prioritized_OnBonus_IS*Stale_50k', 'k_BonusClip*Stale_300k', 'Prioritized*Stale_300k', 'Prioritized_OnBonus_IS*Stale_300k']\n",
      "[800001, 800001, 800001, 800001, 800001, 800001]\n",
      "/home/tabz/tmp/logfiles/Density/\n"
     ]
    }
   ],
   "source": [
    "names = []\n",
    "legends = []\n",
    "t_maxs = []\n",
    "          \n",
    "# Prioritized replay stuff\n",
    "for fresh in [50, 300]:\n",
    "        names += [\"k_BonusClip*Stale_{}k\".format(fresh)]\n",
    "        legends += [\"Uniform {}k Fresh Counts\".format(fresh)]\n",
    "        t_maxs += [800001]\n",
    "        \n",
    "        names += [\"Prioritized*Stale_{}k\".format(fresh)]\n",
    "        legends += [\"Prioritized {}k Fresh Counts\".format(fresh)]\n",
    "        t_maxs += [800001]\n",
    "\n",
    "        names += [\"Prioritized_OnBonus_IS*Stale_{}k\".format(fresh)]\n",
    "        legends += [\"Prioritized IS {}k Fresh Counts\".format(fresh)]\n",
    "        t_maxs += [800001]\n",
    "    \n",
    "direc = \"/home/tabz/tmp/logfiles/Density/\"\n",
    "env = \"Med Maze 10 Prioritized On Density\"\n",
    "directories = direc\n",
    "    \n",
    "print(names)\n",
    "print(t_maxs)\n",
    "print(directories)"
   ]
  },
  {
   "cell_type": "code",
   "execution_count": 29,
   "metadata": {
    "collapsed": false,
    "deletable": true,
    "editable": true
   },
   "outputs": [
    {
     "name": "stdout",
     "output_type": "stream",
     "text": [
      "['k_BonusClip', 'Prioritized_IS', 'Prioritized_MinusPseudo']\n",
      "[800001, 800001, 800001]\n",
      "/home/tabz/tmp/logfiles/MinusPseudo/\n"
     ]
    }
   ],
   "source": [
    "names = []\n",
    "legends = []\n",
    "t_maxs = []\n",
    "          \n",
    "# Prioritized replay stuff musing pseudo rewards\n",
    "\n",
    "names += [\"k_BonusClip\"]\n",
    "legends += [\"Uniform\"]\n",
    "\n",
    "names += [\"Prioritized_IS\"]\n",
    "legends += [\"Prioritised minus pseudo rewards IS\"]\n",
    "\n",
    "names += [\"Prioritized_MinusPseudo\"]\n",
    "legends += [\"Prioritized minus pseudo rewards\"]\n",
    "\n",
    "t_maxs += [800001 for _ in range(3)]\n",
    "    \n",
    "direc = \"/home/tabz/tmp/logfiles/MinusPseudo/\"\n",
    "env = \"Med Maze 10 Prioritized Minus PseudoReward\"\n",
    "directories = direc\n",
    "    \n",
    "print(names)\n",
    "print(t_maxs)\n",
    "print(directories)"
   ]
  },
  {
   "cell_type": "code",
   "execution_count": 30,
   "metadata": {
    "collapsed": false,
    "deletable": true,
    "editable": true
   },
   "outputs": [
    {
     "name": "stdout",
     "output_type": "stream",
     "text": [
      "['Prioritized_-1_MinusPseudo_*Stale_50k', 'Prioritized_1_MinusPseudo_*Stale_50k', 'Prioritized_-1_MinusPseudo_*Stale_300k', 'Prioritized_1_MinusPseudo_*Stale_300k']\n",
      "[800001, 800001, 800001, 800001]\n",
      "/home/tabz/tmp/FixedP/\n"
     ]
    }
   ],
   "source": [
    "names = []\n",
    "legends = []\n",
    "t_maxs = []\n",
    "          \n",
    "# Prioritized replay stuff\n",
    "for fresh in [50, 300]:\n",
    "    for scaler in [-1, 1]:\n",
    "        \n",
    "        names += [\"Prioritized_{}_MinusPseudo_*Stale_{}k\".format(scaler, fresh)]\n",
    "        legends += [\"{} Prioritized {}k Fresh Counts\".format(scaler, fresh)]\n",
    "        t_maxs += [800001]\n",
    "\n",
    "#         names += [\"Prioritized_IS_{}_MinusPseudo_*Stale_{}k\".format(scaler, fresh)]\n",
    "#         legends += [\"{} Prioritized IS {}k Fresh Counts\".format(scaler, fresh)]\n",
    "#         t_maxs += [800001]\n",
    "    \n",
    "direc = \"/home/tabz/tmp/FixedP/\"\n",
    "env = \"Med Maze 10 Prioritized On TD Error Minus Scaled PseudoReward\"\n",
    "directories = direc\n",
    "    \n",
    "print(names)\n",
    "print(t_maxs)\n",
    "print(directories)"
   ]
  },
  {
   "cell_type": "code",
   "execution_count": 31,
   "metadata": {
    "collapsed": false,
    "deletable": true,
    "editable": true
   },
   "outputs": [
    {
     "name": "stdout",
     "output_type": "stream",
     "text": [
      "['XpSize_100k_BonusClip', 'XpSize_100k_Prioritized_Bonus', 'XpSize_100k_Prioritized_IS', 'XpSize_500k_BonusClip', 'XpSize_500k_Prioritized_Bonus', 'XpSize_500k_Prioritized_IS']\n",
      "[1000001, 1000001, 1000001, 1000001, 1000001, 1000001]\n",
      "/home/tabz/tmp/Maze12Baselines/\n"
     ]
    }
   ],
   "source": [
    "names = []\n",
    "legends = []\n",
    "t_maxs = []\n",
    "          \n",
    "# Prioritized replay stuff\n",
    "for xp in [100, 500]:\n",
    "        names += [\"XpSize_{}k_BonusClip\".format(xp)]\n",
    "        legends += [\"Uniform {}k XP\".format(xp)]\n",
    "        t_maxs += [1000001]\n",
    "        \n",
    "        names += [\"XpSize_{}k_Prioritized_Bonus\".format(xp)]\n",
    "        legends += [\"Prioritized {}k XP\".format(xp)]\n",
    "        t_maxs += [1000001]\n",
    "\n",
    "        names += [\"XpSize_{}k_Prioritized_IS\".format(xp)]\n",
    "        legends += [\"Prioritized IS {}k XP\".format(xp)]\n",
    "        t_maxs += [1000001]\n",
    "    \n",
    "direc = \"/home/tabz/tmp/Maze12Baselines/\"\n",
    "env = \"Med Maze 12\"\n",
    "directories = direc\n",
    "    \n",
    "print(names)\n",
    "print(t_maxs)\n",
    "print(directories)"
   ]
  },
  {
   "cell_type": "code",
   "execution_count": 32,
   "metadata": {
    "collapsed": false,
    "deletable": true,
    "editable": true
   },
   "outputs": [
    {
     "name": "stdout",
     "output_type": "stream",
     "text": [
      "['XpSize_100k_Prioritized_0_NScaler_', 'XpSize_100k_Prioritized_1.5_NScaler_', 'XpSize_100k_Prioritized_-1.5_NScaler_', 'XpSize_500k_Prioritized_0_NScaler_', 'XpSize_500k_Prioritized_1.5_NScaler_', 'XpSize_500k_Prioritized_-1.5_NScaler_']\n",
      "[1000001, 1000001, 1000001, 1000001, 1000001, 1000001]\n",
      "/home/tabz/tmp/Maze12Prioritized/\n"
     ]
    }
   ],
   "source": [
    "names = []\n",
    "legends = []\n",
    "t_maxs = []\n",
    "          \n",
    "# Prioritized replay stuff\n",
    "for xp in [100, 500]:\n",
    "    for nscaler in [0, 1.5, -1.5]:\n",
    "        names += [\"XpSize_{}k_Prioritized_{}_NScaler_\".format(xp, nscaler)]\n",
    "        legends += [\"Prioritized {}k XP {} NScaler\".format(xp, nscaler)]\n",
    "        t_maxs += [1000001]\n",
    "    \n",
    "direc = \"/home/tabz/tmp/Maze12Prioritized/\"\n",
    "env = \"Med Maze 12 50k Fresh Counts Negative TD Error Scaling\"\n",
    "directories = direc\n",
    "    \n",
    "print(names)\n",
    "print(t_maxs)\n",
    "print(directories)"
   ]
  },
  {
   "cell_type": "code",
   "execution_count": 33,
   "metadata": {
    "collapsed": false
   },
   "outputs": [
    {
     "name": "stdout",
     "output_type": "stream",
     "text": [
      "['DensityP_BonusClip', 'DensityP_IS_BonusClip']\n",
      "[800001, 800001]\n",
      "/home/scratch/tabhid/Log_Files/DensityP/\n"
     ]
    }
   ],
   "source": [
    "names = []\n",
    "legends = []\n",
    "t_maxs = []\n",
    "          \n",
    "# Density Prioritization\n",
    "names += [\"DensityP_BonusClip\"]\n",
    "legends += [\"DensityP\"]\n",
    "t_maxs += [800001]\n",
    "\n",
    "names += [\"DensityP_IS_BonusClip\"]\n",
    "legends += [\"DensityP IS\"]\n",
    "t_maxs += [800001]\n",
    "    \n",
    "direc = \"/home/scratch/tabhid/Log_Files/DensityP/\"\n",
    "env = \"Med Maze 10 50k Fresh Counts Density Prioritization\"\n",
    "directories = direc\n",
    "    \n",
    "print(names)\n",
    "print(t_maxs)\n",
    "print(directories)"
   ]
  },
  {
   "cell_type": "code",
   "execution_count": 34,
   "metadata": {
    "collapsed": false
   },
   "outputs": [
    {
     "name": "stdout",
     "output_type": "stream",
     "text": [
      "['_0.1_Alpha', '_0.3_Alpha', '_0.5_Alpha', '_0.7_Alpha', '_0.9_Alpha']\n",
      "[800001, 800001, 800001, 800001, 800001]\n",
      "/home/scratch/tabhid/Log_Files/Alpha/\n"
     ]
    }
   ],
   "source": [
    "names = []\n",
    "legends = []\n",
    "t_maxs = []\n",
    "          \n",
    "# Prioritized replay alpha\n",
    "for alpha in [0.1, 0.3, 0.5, 0.7, 0.9]:\n",
    "    names += [\"_{}_Alpha\".format(alpha)]\n",
    "    legends += [\"{} Alpha\".format(alpha)]\n",
    "    t_maxs += [800001]\n",
    "    \n",
    "direc = \"/home/scratch/tabhid/Log_Files/Alpha/\"\n",
    "env = \"Med Maze 10 50k Fresh Counts 1.5 NScaler Alpha\"\n",
    "directories = direc\n",
    "    \n",
    "print(names)\n",
    "print(t_maxs)\n",
    "print(directories)"
   ]
  },
  {
   "cell_type": "code",
   "execution_count": 35,
   "metadata": {
    "collapsed": false
   },
   "outputs": [
    {
     "name": "stdout",
     "output_type": "stream",
     "text": [
      "['XpSize_100k_*_0.5_NScaler_*Stale_50k_', 'XpSize_100k_*_0.5_NScaler_*Stale_500k_', 'XpSize_100k_*_2_NScaler_*Stale_50k_', 'XpSize_100k_*_2_NScaler_*Stale_500k_', 'XpSize_500k_*_0.5_NScaler_*Stale_50k_', 'XpSize_500k_*_0.5_NScaler_*Stale_500k_', 'XpSize_500k_*_2_NScaler_*Stale_50k_', 'XpSize_500k_*_2_NScaler_*Stale_500k_']\n",
      "[1000001, 1000001, 1000001, 1000001, 1000001, 1000001, 1000001, 1000001]\n",
      "/home/tabz/tmp/Maze12Alpha/\n",
      "\n",
      " 8 Lines\n"
     ]
    }
   ],
   "source": [
    "names = []\n",
    "legends = []\n",
    "t_maxs = []\n",
    "          \n",
    "# Prioritized replay stuff\n",
    "for xp in [100, 500]:\n",
    "    for nscaler in [0.5, 2]:\n",
    "        for fresh in [50, 500]:\n",
    "            names += [\"XpSize_{}k_*_{}_NScaler_*Stale_{}k_\".format(xp, nscaler, fresh)]\n",
    "            legends += [\"Prioritized {}k XP {} NScaler {}k Fresh\".format(xp, nscaler, fresh)]\n",
    "            t_maxs += [1000001]\n",
    "    \n",
    "direc = \"/home/tabz/tmp/Maze12Alpha/\"\n",
    "env = \"Med Maze 12 50k Negative TD Error Scaling Alpha 0.5\"\n",
    "directories = direc\n",
    "    \n",
    "print(names)\n",
    "print(t_maxs)\n",
    "print(directories)\n",
    "print(\"\\n\", \"{} Lines\".format(len(names)))"
   ]
  },
  {
   "cell_type": "code",
   "execution_count": 36,
   "metadata": {
    "collapsed": false
   },
   "outputs": [
    {
     "name": "stdout",
     "output_type": "stream",
     "text": [
      "['_0.3_Alpha*Stale_50k_', '_0.3_Alpha*Stale_500k_', '_0.5_Alpha*Stale_50k_', '_0.5_Alpha*Stale_500k_']\n",
      "[1000001, 1000001, 1000001, 1000001]\n",
      "/home/tabz/tmp/Maze12_Prioritized_Alpha//\n",
      "\n",
      " 4 Lines\n"
     ]
    }
   ],
   "source": [
    "names = []\n",
    "legends = []\n",
    "t_maxs = []\n",
    "          \n",
    "# Prioritized replay stuff\n",
    "for alpha in [0.3, 0.5]:\n",
    "    for fresh in [50, 500]:\n",
    "        names += [\"_{}_Alpha*Stale_{}k_\".format(alpha, fresh)]\n",
    "        legends += [\"Prioritized {} Alpha {}k Fresh\".format(alpha, fresh)]\n",
    "        t_maxs += [1000001]\n",
    "    \n",
    "direc = \"/home/tabz/tmp/Maze12_Prioritized_Alpha//\"\n",
    "env = \"Med Maze 12 Alpha 500k Replay\"\n",
    "directories = direc\n",
    "    \n",
    "print(names)\n",
    "print(t_maxs)\n",
    "print(directories)\n",
    "print(\"\\n\", \"{} Lines\".format(len(names)))"
   ]
  },
  {
   "cell_type": "code",
   "execution_count": 37,
   "metadata": {
    "collapsed": false
   },
   "outputs": [
    {
     "name": "stdout",
     "output_type": "stream",
     "text": [
      "['_100_Step*_1_NScaler', '_100_Step*_2_NScaler', '_100_Step*_4_NScaler', '_100_Step*_8_NScaler']\n",
      "[600001, 600001, 600001, 600001]\n",
      "/home/tabz/tmp/Maze14_Nscaling/\n",
      "\n",
      " 4 Lines\n"
     ]
    }
   ],
   "source": [
    "names = []\n",
    "legends = []\n",
    "t_maxs = []\n",
    "          \n",
    "# Prioritized replay stuff\n",
    "for step in [100]:\n",
    "    for nscaler in [1, 2, 4, 8]:\n",
    "        names += [\"_{}_Step*_{}_NScaler\".format(step, nscaler)]\n",
    "        legends += [\"{} Step {} Nscaling\".format(step, nscaler)]\n",
    "        t_maxs += [600001]\n",
    "    \n",
    "direc = \"/home/tabz/tmp/Maze14_Nscaling/\"\n",
    "env = \"Med Maze 14 Prioritized 300k XP Replay Stale\"\n",
    "directories = direc\n",
    "    \n",
    "print(names)\n",
    "print(t_maxs)\n",
    "print(directories)\n",
    "print(\"\\n\", \"{} Lines\".format(len(names)))"
   ]
  },
  {
   "cell_type": "code",
   "execution_count": 38,
   "metadata": {
    "collapsed": false
   },
   "outputs": [
    {
     "name": "stdout",
     "output_type": "stream",
     "text": [
      "['_CountEps_0.9_Decay', '_CountEps_0.99_Decay', '_CountEps_0.999_Decay', '_OptimisticAction_']\n",
      "[600001, 600001, 600001, 600001]\n",
      "/home/tabz/tmp/Maze14_Frontier/\n",
      "\n",
      " 4 Lines\n"
     ]
    }
   ],
   "source": [
    "names = []\n",
    "legends = []\n",
    "t_maxs = []\n",
    "          \n",
    "# Prioritized replay stuff\n",
    "for eps_decay in [0.9, 0.99, 0.999]:\n",
    "    names += [\"_CountEps_{}_Decay\".format(eps_decay)]\n",
    "    legends += [\"{} Eps Decay\".format(eps_decay)]\n",
    "    t_maxs += [600001]\n",
    "    \n",
    "names += [\"_OptimisticAction_\"]\n",
    "legends += [\"0.1 Bandit\"]\n",
    "t_maxs += [600001]\n",
    "    \n",
    "direc = \"/home/tabz/tmp/Maze14_Frontier/\"\n",
    "env = \"Med Maze 14 Prioritized 300k XP Replay Stale Frontier\"\n",
    "directories = direc\n",
    "    \n",
    "print(names)\n",
    "print(t_maxs)\n",
    "print(directories)\n",
    "print(\"\\n\", \"{} Lines\".format(len(names)))"
   ]
  },
  {
   "cell_type": "code",
   "execution_count": 39,
   "metadata": {
    "collapsed": false
   },
   "outputs": [
    {
     "name": "stdout",
     "output_type": "stream",
     "text": [
      "['_0.1_Alpha_16_NScaler*_OptimisticAction_', '_0.1_Alpha_16_NScaler*_CountEps_', '_0.3_Alpha_16_NScaler*_OptimisticAction_', '_0.3_Alpha_16_NScaler*_CountEps_', '_0.5_Alpha_16_NScaler*_OptimisticAction_', '_0.5_Alpha_16_NScaler*_CountEps_']\n",
      "[600001, 600001, 600001, 600001, 600001, 600001]\n",
      "/home/tabz/tmp/Maze14_Bandit/\n",
      "\n",
      " 6 Lines\n"
     ]
    }
   ],
   "source": [
    "names = []\n",
    "legends = []\n",
    "t_maxs = []\n",
    "          \n",
    "# Prioritized replay stuff\n",
    "for alpha in [0.1, 0.3, 0.5]:\n",
    "    for nscaler in [16]:\n",
    "        for bandit in [True, False]:\n",
    "            \n",
    "            if not bandit:\n",
    "                names += [\"_{}_Alpha_{}_NScaler*_CountEps_\".format(alpha, nscaler)]\n",
    "                legends += [\"{} Alpha {} NScaler Epsilon\".format(alpha, nscaler)]\n",
    "                t_maxs += [600001]\n",
    "            elif bandit:\n",
    "                names += [\"_{}_Alpha_{}_NScaler*_OptimisticAction_\".format(alpha, nscaler)]\n",
    "                legends += [\"{} Alpha {} NScaler 0.1 Bandit\".format(alpha, nscaler)]\n",
    "                t_maxs += [600001]\n",
    "    \n",
    "direc = \"/home/tabz/tmp/Maze14_Bandit/\"\n",
    "env = \"Med Maze 14 Prioritized 300k XP Replay Stale Frontier\"\n",
    "directories = direc\n",
    "    \n",
    "print(names)\n",
    "print(t_maxs)\n",
    "print(directories)\n",
    "print(\"\\n\", \"{} Lines\".format(len(names)))"
   ]
  },
  {
   "cell_type": "code",
   "execution_count": 40,
   "metadata": {
    "collapsed": false
   },
   "outputs": [
    {
     "name": "stdout",
     "output_type": "stream",
     "text": [
      "['XpSize_250k', 'XpSize_500k']\n",
      "[1000001, 1000001]\n",
      "/home/tabz/tmp/Maze14_Uniform/\n",
      "\n",
      " 2 Lines\n"
     ]
    }
   ],
   "source": [
    "names = []\n",
    "legends = []\n",
    "t_maxs = []\n",
    "          \n",
    "# Maze14 Uniform Baseline\n",
    "for xp in [250, 500]:\n",
    "    names += [\"XpSize_{}k\".format(xp)]\n",
    "    legends += [\"Uniform {}k XP\".format(xp)]\n",
    "    t_maxs += [1000001]\n",
    "    \n",
    "direc = \"/home/tabz/tmp/Maze14_Uniform/\"\n",
    "env = \"Med Maze 14 Uniform Replay\"\n",
    "directories = direc\n",
    "    \n",
    "print(names)\n",
    "print(t_maxs)\n",
    "print(directories)\n",
    "print(\"\\n\", \"{} Lines\".format(len(names)))"
   ]
  },
  {
   "cell_type": "code",
   "execution_count": 41,
   "metadata": {
    "collapsed": false
   },
   "outputs": [
    {
     "name": "stdout",
     "output_type": "stream",
     "text": [
      "['OptimisticAction_0.01_Scaler', 'OptimisticAction_0.1_Scaler', 'OptimisticAction_1_Scaler', 'OptimisticAction_10_Scaler']\n",
      "[600001, 600001, 600001, 600001]\n",
      "/home/tabz/tmp/Maze14_Bandit_Hyperparams/\n",
      "\n",
      " 4 Lines\n"
     ]
    }
   ],
   "source": [
    "names = []\n",
    "legends = []\n",
    "t_maxs = []\n",
    "          \n",
    "# Prioritized replay stuff\n",
    "for optim in [0.01, 0.1, 1, 10]:\n",
    "    names += [\"OptimisticAction_{}_Scaler\".format(optim)]\n",
    "    legends += [\"0.5 Alpha 8 NScaler {} Bandit\".format(optim)]\n",
    "    t_maxs += [600001]\n",
    "    \n",
    "direc = \"/home/tabz/tmp/Maze14_Bandit_Hyperparams/\"\n",
    "env = \"Med Maze 14 Prioritized Bandit Scaling\"\n",
    "directories = direc\n",
    "    \n",
    "print(names)\n",
    "print(t_maxs)\n",
    "print(directories)\n",
    "print(\"\\n\", \"{} Lines\".format(len(names)))"
   ]
  },
  {
   "cell_type": "code",
   "execution_count": 42,
   "metadata": {
    "collapsed": false
   },
   "outputs": [
    {
     "name": "stdout",
     "output_type": "stream",
     "text": [
      "['OptimisticAction_0.0001_Scaler', 'OptimisticAction_0.001_Scaler']\n",
      "[600001, 600001]\n",
      "/home/tabz/tmp/Maze14_Bandit_MoreHyperparams/\n",
      "\n",
      " 2 Lines\n"
     ]
    }
   ],
   "source": [
    "names = []\n",
    "legends = []\n",
    "t_maxs = []\n",
    "          \n",
    "# Prioritized replay stuff\n",
    "for optim in [0.0001, 0.001]:\n",
    "    names += [\"OptimisticAction_{}_Scaler\".format(optim)]\n",
    "    legends += [\"Uniform {} Bandit\".format(optim)]\n",
    "    t_maxs += [600001]\n",
    "    \n",
    "direc = \"/home/tabz/tmp/Maze14_Bandit_MoreHyperparams/\"\n",
    "env = \"Med Maze 14 Uniform Bandit Scaling\"\n",
    "directories = direc\n",
    "    \n",
    "print(names)\n",
    "print(t_maxs)\n",
    "print(directories)\n",
    "print(\"\\n\", \"{} Lines\".format(len(names)))"
   ]
  },
  {
   "cell_type": "code",
   "execution_count": 43,
   "metadata": {
    "collapsed": false
   },
   "outputs": [
    {
     "name": "stdout",
     "output_type": "stream",
     "text": [
      "['BonusClip_-1_Count', 'BonusClip_-1_NegativeReward', 'BonusClip_0.25_Count', 'BonusClip_0.25_NegativeReward', 'BonusClip_0.5_Count', 'BonusClip_0.5_NegativeReward']\n",
      "[600001, 600001, 600001, 600001, 600001, 600001]\n",
      "/home/tabz/tmp/logfiles/Maze14_RewardClip/\n",
      "\n",
      " 6 Lines\n"
     ]
    }
   ],
   "source": [
    "names = []\n",
    "legends = []\n",
    "t_maxs = []\n",
    "          \n",
    "# Pseudo reward clipping + scaling\n",
    "for bonus_clip in [-1, 0.25, 0.5]:\n",
    "    names += [\"BonusClip_{}_Count\".format(bonus_clip)]\n",
    "    legends += [\"BonusClip {}\".format(bonus_clip)]\n",
    "    t_maxs += [600001]\n",
    "    \n",
    "    names += [\"BonusClip_{}_NegativeReward\".format(bonus_clip)]\n",
    "    legends += [\"BonusClip {} NegativeReward 0.8\".format(bonus_clip)]\n",
    "    t_maxs += [600001]\n",
    "    \n",
    "direc = \"/home/tabz/tmp/logfiles/Maze14_RewardClip/\"\n",
    "env = \"Med Maze 14 Pseudo Reward Clipping\"\n",
    "directories = direc\n",
    "    \n",
    "print(names)\n",
    "print(t_maxs)\n",
    "print(directories)\n",
    "print(\"\\n\", \"{} Lines\".format(len(names)))"
   ]
  },
  {
   "cell_type": "code",
   "execution_count": 106,
   "metadata": {
    "collapsed": false
   },
   "outputs": [
    {
     "name": "stdout",
     "output_type": "stream",
     "text": [
      "['_XpSize_300k*_1_NScaler', '_XpSize_300k*_4_NScaler']\n",
      "[600001, 600001]\n",
      "/home/tabz/tmp/Maze14_NScaler/\n",
      "\n",
      " 2 Lines\n"
     ]
    }
   ],
   "source": [
    "names = []\n",
    "legends = []\n",
    "t_maxs = []\n",
    "          \n",
    "# Prioritized replay stuff\n",
    "for xp in [300]:\n",
    "    for nscaler in [1, 4]:\n",
    "            names += [\"_XpSize_{}k*_{}_NScaler\".format(xp, nscaler)]\n",
    "            legends += [\"{}k Xp {} NScaler\".format(xp, nscaler)]\n",
    "            t_maxs += [600001]\n",
    "    \n",
    "direc = \"/home/tabz/tmp/Maze14_NScaler/\"\n",
    "env = \"Med Maze 14 0.5 Prioritized XP Replay Stale\"\n",
    "directories = direc\n",
    "    \n",
    "print(names)\n",
    "print(t_maxs)\n",
    "print(directories)\n",
    "print(\"\\n\", \"{} Lines\".format(len(names)))"
   ]
  },
  {
   "cell_type": "code",
   "execution_count": 102,
   "metadata": {
    "collapsed": false
   },
   "outputs": [
    {
     "name": "stdout",
     "output_type": "stream",
     "text": [
      "['_0.01_MinusPseudo_', '_0.1_MinusPseudo_', '_1_MinusPseudo_', '_10_MinusPseudo_', '_NScaler_BonusClip']\n",
      "[600001, 600001, 600001, 600001, 600001]\n",
      "/home/tabz/tmp/Maze14_MinusPseudo/\n",
      "\n",
      " 5 Lines\n"
     ]
    }
   ],
   "source": [
    "names = []\n",
    "legends = []\n",
    "t_maxs = []\n",
    "          \n",
    "# Prioritized replay stuff\n",
    "for mp in [0.01, 0.1, 1, 10]:\n",
    "        names += [\"_{}_MinusPseudo_\".format(mp)]\n",
    "        legends += [\"{} MinusPseudo\".format(mp)]\n",
    "        t_maxs += [600001]\n",
    "        \n",
    "names += [\"_NScaler_BonusClip\"]\n",
    "legends += [\"0 MinusPseudo\"]\n",
    "t_maxs += [600001]\n",
    "    \n",
    "direc = \"/home/tabz/tmp/Maze14_MinusPseudo/\"\n",
    "env = \"Med Maze 14 0.5 Prioritized MinusPseudoRewards\"\n",
    "directories = direc\n",
    "    \n",
    "print(names)\n",
    "print(t_maxs)\n",
    "print(directories)\n",
    "print(\"\\n\", \"{} Lines\".format(len(names)))"
   ]
  },
  {
   "cell_type": "code",
   "execution_count": 91,
   "metadata": {
    "collapsed": false
   },
   "outputs": [
    {
     "name": "stdout",
     "output_type": "stream",
     "text": [
      "['_Gamma_0.99*_1_NScaler', '_Gamma_0.99*_2_NScaler', '_Gamma_0.99*_4_NScaler', '_Gamma_0.99*_8_NScaler', '_Gamma_0.99*_16_NScaler', '_Gamma_0.99*_32_NScaler']\n",
      "[300001, 300001, 300001, 300001, 300001, 300001]\n",
      "/home/tabz/tmp/Maze10_Nscaling/\n",
      "\n",
      " 6 Lines\n"
     ]
    }
   ],
   "source": [
    "names = []\n",
    "legends = []\n",
    "t_maxs = []\n",
    "          \n",
    "# Prioritized replay stuff\n",
    "for gamma in [0.99]:\n",
    "    for nscaler in [1, 2, 4, 8, 16, 32]:\n",
    "            names += [\"_Gamma_{}*_{}_NScaler\".format(gamma, nscaler)]\n",
    "            legends += [\"{} Gamma {} NScaler\".format(gamma, nscaler)]\n",
    "            t_maxs += [300001]\n",
    "    \n",
    "direc = \"/home/tabz/tmp/Maze10_Nscaling/\"\n",
    "env = \"Med Maze 10 0.5 Prioritized XP NScaler\"\n",
    "directories = direc\n",
    "    \n",
    "print(names)\n",
    "print(t_maxs)\n",
    "print(directories)\n",
    "print(\"\\n\", \"{} Lines\".format(len(names)))"
   ]
  },
  {
   "cell_type": "code",
   "execution_count": 119,
   "metadata": {
    "collapsed": false
   },
   "outputs": [
    {
     "name": "stdout",
     "output_type": "stream",
     "text": [
      "['XpSize_500k', '0.01_MinusPseudo', 'OptimisticAction', '4_NScaler', '1_NScaler_BonusClip_-1']\n",
      "[600001, 600001, 600001, 600001, 600001]\n",
      "/home/tabz/tmp/Combination/\n",
      "\n",
      " 5 Lines\n"
     ]
    }
   ],
   "source": [
    "names = []\n",
    "legends = []\n",
    "t_maxs = []\n",
    "          \n",
    "# Prioritized replay stuff\n",
    "names += [\"XpSize_500k\"]\n",
    "legends += [\"Uniform\"]\n",
    "t_maxs += [600001]\n",
    "\n",
    "names += [\"0.01_MinusPseudo\"]\n",
    "legends += [\"MinusPseudoReward\"]\n",
    "t_maxs += [600001]\n",
    "\n",
    "names += [\"OptimisticAction\"]\n",
    "legends += [\"Bandit\"]\n",
    "t_maxs += [600001]\n",
    "\n",
    "names += [\"4_NScaler\"]\n",
    "legends += [\"NScaling\"]\n",
    "t_maxs += [600001]\n",
    "\n",
    "names += [\"1_NScaler_BonusClip_-1\"]\n",
    "legends += [\"Prioritised\"]\n",
    "t_maxs += [600001]\n",
    "    \n",
    "direc = \"/home/tabz/tmp/Combination/\"\n",
    "env = \"Med Maze 14\"\n",
    "directories = direc\n",
    "    \n",
    "print(names)\n",
    "print(t_maxs)\n",
    "print(directories)\n",
    "print(\"\\n\", \"{} Lines\".format(len(names)))"
   ]
  },
  {
   "cell_type": "code",
   "execution_count": 120,
   "metadata": {
    "collapsed": true,
    "deletable": true,
    "editable": true
   },
   "outputs": [],
   "source": [
    "import itertools"
   ]
  },
  {
   "cell_type": "code",
   "execution_count": 121,
   "metadata": {
    "collapsed": false,
    "deletable": true,
    "editable": true
   },
   "outputs": [],
   "source": [
    "from bokeh.palettes import magma, inferno, Set1, Set3, Paired, Dark2"
   ]
  },
  {
   "cell_type": "code",
   "execution_count": 122,
   "metadata": {
    "collapsed": false,
    "deletable": true,
    "editable": true
   },
   "outputs": [],
   "source": [
    "if len(names) <= 2:\n",
    "    colours = [\"red\", \"green\"]\n",
    "elif len(names) > 10:\n",
    "    colours = Paired[len(names)]\n",
    "else:\n",
    "    colours = Set1[len(names)]"
   ]
  },
  {
   "cell_type": "code",
   "execution_count": 124,
   "metadata": {
    "collapsed": false,
    "deletable": true,
    "editable": true
   },
   "outputs": [
    {
     "data": {
      "text/html": [
       "\n",
       "\n",
       "    <div class=\"bk-root\">\n",
       "        <div class=\"bk-plotdiv\" id=\"71fcd15e-0d20-4039-aca4-331a6e84d49a\"></div>\n",
       "    </div>\n",
       "<script type=\"text/javascript\">\n",
       "  \n",
       "  (function(global) {\n",
       "    function now() {\n",
       "      return new Date();\n",
       "    }\n",
       "  \n",
       "    var force = false;\n",
       "  \n",
       "    if (typeof (window._bokeh_onload_callbacks) === \"undefined\" || force === true) {\n",
       "      window._bokeh_onload_callbacks = [];\n",
       "      window._bokeh_is_loading = undefined;\n",
       "    }\n",
       "  \n",
       "  \n",
       "    \n",
       "    if (typeof (window._bokeh_timeout) === \"undefined\" || force === true) {\n",
       "      window._bokeh_timeout = Date.now() + 0;\n",
       "      window._bokeh_failed_load = false;\n",
       "    }\n",
       "  \n",
       "    var NB_LOAD_WARNING = {'data': {'text/html':\n",
       "       \"<div style='background-color: #fdd'>\\n\"+\n",
       "       \"<p>\\n\"+\n",
       "       \"BokehJS does not appear to have successfully loaded. If loading BokehJS from CDN, this \\n\"+\n",
       "       \"may be due to a slow or bad network connection. Possible fixes:\\n\"+\n",
       "       \"</p>\\n\"+\n",
       "       \"<ul>\\n\"+\n",
       "       \"<li>re-rerun `output_notebook()` to attempt to load from CDN again, or</li>\\n\"+\n",
       "       \"<li>use INLINE resources instead, as so:</li>\\n\"+\n",
       "       \"</ul>\\n\"+\n",
       "       \"<code>\\n\"+\n",
       "       \"from bokeh.resources import INLINE\\n\"+\n",
       "       \"output_notebook(resources=INLINE)\\n\"+\n",
       "       \"</code>\\n\"+\n",
       "       \"</div>\"}};\n",
       "  \n",
       "    function display_loaded() {\n",
       "      if (window.Bokeh !== undefined) {\n",
       "        document.getElementById(\"71fcd15e-0d20-4039-aca4-331a6e84d49a\").textContent = \"BokehJS successfully loaded.\";\n",
       "      } else if (Date.now() < window._bokeh_timeout) {\n",
       "        setTimeout(display_loaded, 100)\n",
       "      }\n",
       "    }\n",
       "  \n",
       "    function run_callbacks() {\n",
       "      window._bokeh_onload_callbacks.forEach(function(callback) { callback() });\n",
       "      delete window._bokeh_onload_callbacks\n",
       "      console.info(\"Bokeh: all callbacks have finished\");\n",
       "    }\n",
       "  \n",
       "    function load_libs(js_urls, callback) {\n",
       "      window._bokeh_onload_callbacks.push(callback);\n",
       "      if (window._bokeh_is_loading > 0) {\n",
       "        console.log(\"Bokeh: BokehJS is being loaded, scheduling callback at\", now());\n",
       "        return null;\n",
       "      }\n",
       "      if (js_urls == null || js_urls.length === 0) {\n",
       "        run_callbacks();\n",
       "        return null;\n",
       "      }\n",
       "      console.log(\"Bokeh: BokehJS not loaded, scheduling load and callback at\", now());\n",
       "      window._bokeh_is_loading = js_urls.length;\n",
       "      for (var i = 0; i < js_urls.length; i++) {\n",
       "        var url = js_urls[i];\n",
       "        var s = document.createElement('script');\n",
       "        s.src = url;\n",
       "        s.async = false;\n",
       "        s.onreadystatechange = s.onload = function() {\n",
       "          window._bokeh_is_loading--;\n",
       "          if (window._bokeh_is_loading === 0) {\n",
       "            console.log(\"Bokeh: all BokehJS libraries loaded\");\n",
       "            run_callbacks()\n",
       "          }\n",
       "        };\n",
       "        s.onerror = function() {\n",
       "          console.warn(\"failed to load library \" + url);\n",
       "        };\n",
       "        console.log(\"Bokeh: injecting script tag for BokehJS library: \", url);\n",
       "        document.getElementsByTagName(\"head\")[0].appendChild(s);\n",
       "      }\n",
       "    };var element = document.getElementById(\"71fcd15e-0d20-4039-aca4-331a6e84d49a\");\n",
       "    if (element == null) {\n",
       "      console.log(\"Bokeh: ERROR: autoload.js configured with elementid '71fcd15e-0d20-4039-aca4-331a6e84d49a' but no matching script tag was found. \")\n",
       "      return false;\n",
       "    }\n",
       "  \n",
       "    var js_urls = [];\n",
       "  \n",
       "    var inline_js = [\n",
       "      function(Bokeh) {\n",
       "        (function() {\n",
       "          var fn = function() {\n",
       "            var docs_json = {\"7b9d2466-01b5-4892-a05d-be652ad4f5e5\":{\"roots\":{\"references\":[{\"attributes\":{\"active_drag\":\"auto\",\"active_scroll\":\"auto\",\"active_tap\":\"auto\",\"tools\":[{\"id\":\"3452b6b6-4d9a-4298-896b-c7e445d9739b\",\"type\":\"PanTool\"},{\"id\":\"bbf6c97e-7961-48b8-a82b-2f10bd75732f\",\"type\":\"WheelZoomTool\"},{\"id\":\"519eb1ed-5436-4ca9-bb61-976778476a99\",\"type\":\"BoxZoomTool\"},{\"id\":\"83f3d792-f567-497c-abd8-481a7b7695fc\",\"type\":\"SaveTool\"},{\"id\":\"1a6a4d6c-b87b-48f4-868c-f428187f3ca3\",\"type\":\"ResetTool\"},{\"id\":\"96f5a32d-7f20-4b39-94a3-4b5de0435fde\",\"type\":\"HelpTool\"}]},\"id\":\"0ea90e72-53c8-4ee5-936d-fcea43799e33\",\"type\":\"Toolbar\"},{\"attributes\":{\"line_color\":{\"value\":\"#377eb8\"},\"line_width\":{\"value\":2},\"x\":{\"field\":\"x\"},\"y\":{\"field\":\"y\"}},\"id\":\"86fbabd6-b3a4-4237-9d23-cf147ec813dc\",\"type\":\"Line\"},{\"attributes\":{\"line_color\":{\"value\":\"#4daf4a\"},\"line_width\":{\"value\":2},\"x\":{\"field\":\"x\"},\"y\":{\"field\":\"y\"}},\"id\":\"6f769f06-fa96-48b3-9150-855c6302941c\",\"type\":\"Line\"},{\"attributes\":{},\"id\":\"cb652245-7f7d-451d-ab4c-504b0e509a9f\",\"type\":\"BasicTickFormatter\"},{\"attributes\":{\"line_alpha\":{\"value\":0.1},\"line_color\":{\"value\":\"#1f77b4\"},\"line_width\":{\"value\":2},\"x\":{\"field\":\"x\"},\"y\":{\"field\":\"y\"}},\"id\":\"18f8062d-3544-4b94-9837-6a58fed55385\",\"type\":\"Line\"},{\"attributes\":{\"data_source\":{\"id\":\"24b7742b-243a-4f61-b6f7-35bae0b53f46\",\"type\":\"ColumnDataSource\"},\"glyph\":{\"id\":\"5ddd741f-7664-4b5f-a181-0d73b76dd5bd\",\"type\":\"Line\"},\"hover_glyph\":null,\"nonselection_glyph\":{\"id\":\"b86bd7c3-2f4a-4a03-8257-c3e255e276d6\",\"type\":\"Line\"},\"selection_glyph\":null},\"id\":\"59d6f009-c0f7-4784-8dcb-40b35230afd0\",\"type\":\"GlyphRenderer\"},{\"attributes\":{\"callback\":null,\"column_names\":[\"x\",\"y\"],\"data\":{\"x\":[0,1000,2000,3000,4000,5000,6000,7000,8000,9000,10000,11000,12000,13000,14000,15000,16000,17000,18000,19000,20000,21000,22000,23000,24000,25000,26000,27000,28000,29000,30000,31000,32000,33000,34000,35000,36000,37000,38000,39000,40000,41000,42000,43000,44000,45000,46000,47000,48000,49000,50000,51000,52000,53000,54000,55000,56000,57000,58000,59000,60000,61000,62000,63000,64000,65000,66000,67000,68000,69000,70000,71000,72000,73000,74000,75000,76000,77000,78000,79000,80000,81000,82000,83000,84000,85000,86000,87000,88000,89000,90000,91000,92000,93000,94000,95000,96000,97000,98000,99000,100000,101000,102000,103000,104000,105000,106000,107000,108000,109000,110000,111000,112000,113000,114000,115000,116000,117000,118000,119000,120000,121000,122000,123000,124000,125000,126000,127000,128000,129000,130000,131000,132000,133000,134000,135000,136000,137000,138000,139000,140000,141000,142000,143000,144000,145000,146000,147000,148000,149000,150000,151000,152000,153000,154000,155000,156000,157000,158000,159000,160000,161000,162000,163000,164000,165000,166000,167000,168000,169000,170000,171000,172000,173000,174000,175000,176000,177000,178000,179000,180000,181000,182000,183000,184000,185000,186000,187000,188000,189000,190000,191000,192000,193000,194000,195000,196000,197000,198000,199000,200000,201000,202000,203000,204000,205000,206000,207000,208000,209000,210000,211000,212000,213000,214000,215000,216000,217000,218000,219000,220000,221000,222000,223000,224000,225000,226000,227000,228000,229000,230000,231000,232000,233000,234000,235000,236000,237000,238000,239000,240000,241000,242000,243000,244000,245000,246000,247000,248000,249000,250000,251000,252000,253000,254000,255000,256000,257000,258000,259000,260000,261000,262000,263000,264000,265000,266000,267000,268000,269000,270000,271000,272000,273000,274000,275000,276000,277000,278000,279000,280000,281000,282000,283000,284000,285000,286000,287000,288000,289000,290000,291000,292000,293000,294000,295000,296000,297000,298000,299000,300000,301000,302000,303000,304000,305000,306000,307000,308000,309000,310000,311000,312000,313000,314000,315000,316000,317000,318000,319000,320000,321000,322000,323000,324000,325000,326000,327000,328000,329000,330000,331000,332000,333000,334000,335000,336000,337000,338000,339000,340000,341000,342000,343000,344000,345000,346000,347000,348000,349000,350000,351000,352000,353000,354000,355000,356000,357000,358000,359000,360000,361000,362000,363000,364000,365000,366000,367000,368000,369000,370000,371000,372000,373000,374000,375000,376000,377000,378000,379000,380000,381000,382000,383000,384000,385000,386000,387000,388000,389000,390000,391000,392000,393000,394000,395000,396000,397000,398000,399000,400000,401000,402000,403000,404000,405000,406000,407000,408000,409000,410000,411000,412000,413000,414000,415000,416000,417000,418000,419000,420000,421000,422000,423000,424000,425000,426000,427000,428000,429000,430000,431000,432000,433000,434000,435000,436000,437000,438000,439000,440000,441000,442000,443000,444000,445000,446000,447000,448000,449000,450000,451000,452000,453000,454000,455000,456000,457000,458000,459000,460000,461000,462000,463000,464000,465000,466000,467000,468000,469000,470000,471000,472000,473000,474000,475000,476000,477000,478000,479000,480000,481000,482000,483000,484000,485000,486000,487000,488000,489000,490000,491000,492000,493000,494000,495000,496000,497000,498000,499000,500000,501000,502000,503000,504000,505000,506000,507000,508000,509000,510000,511000,512000,513000,514000,515000,516000,517000,518000,519000,520000,521000,522000,523000,524000,525000,526000,527000,528000,529000,530000,531000,532000,533000,534000,535000,536000,537000,538000,539000,540000,541000,542000,543000,544000,545000,546000,547000,548000,549000,550000,551000,552000,553000,554000,555000,556000,557000,558000,559000,560000,561000,562000,563000,564000,565000,566000,567000,568000,569000,570000,571000,572000,573000,574000,575000,576000,577000,578000,579000,580000,581000,582000,583000,584000,585000,586000,587000,588000,589000,590000,591000,592000,593000,594000,595000,596000,597000,598000,599000,600000],\"y\":{\"__ndarray__\":\"AAAAAAAAAAAAAAAAAAAAAAAAAAAAAAAAAAAAAAAAAAAAAAAAAAAAAAAAAAAAAAAAAAAAAAAAAAAAAAAAAAAAAAAAAAAAAAAAAAAAAAAAAAAAAAAAAAAAAAAAAAAAAAAAAAAAAAAAAAAAAAAAAAAAAAAAAAAAAAAAAAAAAAAAAAAAAAAAAAAAAAAAAAAAAAAAAAAAAAAAAAAAAAAAAAAAAAAAAAAAAAAAAAAAAAAAAAAAAAAAAAAAAAAAAAAAAAAAAAAAAAAAAAAAAAAAAAAAAAAAAAAAAAAAAAAAAAAAAAAAAAAAAAAAAAAAAAAAAAAAAAAAAAAAAAAAAAAAAAAAAAAAAAAAAAAAAAAAAAAAAAAAAAAAAAAAAAAAAAAAAAAAAAAAAAAAAAAAAAAAAAAAAAAAAAAAAAAAAAAAAAAAAAAAAAAAAAAAAAAAAAAAAAAAAAAAAAAAAAAAAAAAAAAAAAAAAAAAAAAAAAAAAAAAAAAAAAAAAAAAAAAAAAAAAAAAAAAAAAAAAAAAAAAAAAAAAAAAAAAAAAAAAAAAAAAAAAAAAAAAAAAAAAAAAAAAAAAAAAAAAAAAAAAAAAAAAAAAAAAAAAAAAAAAAAAAAAAAAAAAAAAAAAAAAAAAAAAAAAAAAAAAAAAAAAAAAAAAAAAAAAAAAAAAAAAAAAAAAAAAAAAAAAAAAAAAAAAAAAAAAAAAAAAAAAAAAAAAAAAAAAAAAAAAAAAAAAAAAAAAAAAAAAAAAAAAAAAAAAAAAAAAAAAAAAAAAAAAAAAAAAAAAAAAAAAAAAAAAAAAAAAAAAAAAAAAAAAAAAAAAAAAAAAAAAAAAAAAAAAAAAAAAAAAAAAAAAAAAAAAAAAAAAAAAAAAAAAAAAAAAAAAAAAAAAAAAAAAAAAAAAAAAAAAAAAAAAAAAAAAAAAAAAAAAAAAAAAAAAAAAAAAAAAAAAAAAAAAAAAAAAAAAAAAAAAAAAAAAAAAAAAAAAAAAAAAAAAAAAAAAAAAAAAAAAAAAAAAAAAAAAAAAAAAAAAAAAAAAAAAAAAAAAAAAAAAAAAAAAAAAAAAAAAAAAAAAAAAAAAAAAAAAAAAAAAAAAAAAAAAAAAAAAAAAAAAAAAAAAAAAAAAAAAAAAAAAAAAAAAAAAAAAAAAAAAAAAAAAAAAAAAAAAAAAAAAAAAAAAAAAAAAAAAAAAAAAAAAAAAAAAAAAAAAAAAAAAAAAAAAAAAAAAAAAAAAAAAAAAAAAAAAAAAAAAAAAAAAAAAAAAAAAAAAAAAAAAAAAAAAAAAAAAAAAAAAAAAAAAAAAAAAAAAAAAAAnEfPdseqlz+2dRuZFcCxP4QZg1R5lb0/qV71h261xD+QMKllIKDKPzyBriFpRdA/L2qIEMI60z8jU2L/GjDWPxY8PO5zJdk/CyUW3cwa3D/+DfDLJRDfP3j7ZF2/AuE/8u/R1Gt94j9s5D5MGPjjP+bYq8PEcuU/qi0WWSzo5T8zGcGtl/nlP7wEbAIDC+Y/RPAWV24c5j/N28Gr2S3mPzjbL8OKKOY/Ix+TQPPU5T8OY/a9W4HlP/qmWTvELeU/5eq8uCza5D/QLiA2lYbkP7tyg7P9MuQ/prbmMGbf4z+R+kmuzovjP3w+rSs3OOM/Z4IQqZ/k4j9SxnMmCJHiPz4K16NwPeI/KE46Idnp4T8Ukp2eQZbhP//VAByqQuE/6hlkmRLv4D/VXccWe5vgP8ChKpTjR+A/aHr8bVMN4D8uwL7IgmzgP/MFgSOyy+A/uEtDfuEq4T9+kQXZEIrhP0PXxzNA6eE/CB2Kjm9I4j/NYkzpnqfiP5KoDkTOBuM/WO7Qnv1l4z8dNJP5LMXjP+J5VVRcJOQ/p78Xr4uD5D9tBdoJu+LkPzJLnGTqQeU/95Bevxmh5T+81iAaSQDmP4Ic43R4X+Y/R2Klz6e+5j8MqGcq1x3nP9HtKYUGfec/lzPs3zXc5z8AAAAAAADoPwAAAAAAAOg/AAAAAAAA6D8AAAAAAADoPwAAAAAAAOg/AAAAAAAA6D8AAAAAAADoPwAAAAAAAOg/AAAAAAAA6D8AAAAAAADoPwAAAAAAAOg/AAAAAAAA6D8AAAAAAADoPwAAAAAAAOg/AAAAAAAA6D8AAAAAAADoPwAAAAAAAOg/AAAAAAAA6D8AAAAAAADoPwAAAAAAAOg/AAAAAAAA6D8AAAAAAADoPwAAAAAAAOg/AAAAAAAA6D8AAAAAAADoPwAAAAAAAOg/AAAAAAAA6D8AAAAAAADoPwAAAAAAAOg/AAAAAAAA6D8AAAAAAADoPwAAAAAAAOg/AAAAAAAA6D8AAAAAAADoPwAAAAAAAOg/AAAAAAAA6D8AAAAAAADoPwAAAAAAAOg/AAAAAAAA6D8AAAAAAADoPwAAAAAAAOg/AAAAAAAA6D8AAAAAAADoPwAAAAAAAOg/AAAAAAAA6D8AAAAAAADoPwAAAAAAAOg/AAAAAAAA6D8AAAAAAADoPwAAAAAAAOg/AAAAAAAA6D8AAAAAAADoPwAAAAAAAOg/AAAAAAAA6D8AAAAAAADoPwAAAAAAAOg/AAAAAAAA6D8AAAAAAADoPwAAAAAAAOg/AAAAAAAA6D8AAAAAAADoPwAAAAAAAOg/AAAAAAAA6D8AAAAAAADoPwAAAAAAAOg/AAAAAAAA6D8AAAAAAADoPwAAAAAAAOg/AAAAAAAA6D8AAAAAAADoPwAAAAAAAOg/AAAAAAAA6D8AAAAAAADoPwAAAAAAAOg/AAAAAAAA6D8AAAAAAADoPwAAAAAAAOg/AAAAAAAA6D8AAAAAAADoPwAAAAAAAOg/AAAAAAAA6D8AAAAAAADoPwAAAAAAAOg/AAAAAAAA6D8AAAAAAADoPwAAAAAAAOg/AAAAAAAA6D8AAAAAAADoPwAAAAAAAOg/AAAAAAAA6D8AAAAAAADoPwAAAAAAAOg/AAAAAAAA6D8AAAAAAADoPwAAAAAAAOg/AAAAAAAA6D8AAAAAAADoPwAAAAAAAOg/AAAAAAAA6D8AAAAAAADoPwAAAAAAAOg/AAAAAAAA6D8AAAAAAADoPwAAAAAAAOg/AAAAAAAA6D8AAAAAAADoPwAAAAAAAOg/AAAAAAAA6D8AAAAAAADoPwAAAAAAAOg/AAAAAAAA6D8AAAAAAADoPwAAAAAAAOg/AAAAAAAA6D8AAAAAAADoPwAAAAAAAOg/AAAAAAAA6D8AAAAAAADoPwAAAAAAAOg/AAAAAAAA6D8AAAAAAADoPwAAAAAAAOg/AAAAAAAA6D8AAAAAAADoPwAAAAAAAOg/AAAAAAAA6D8AAAAAAADoPwAAAAAAAOg/AAAAAAAA6D8AAAAAAADoPwAAAAAAAOg/AAAAAAAA6D8AAAAAAADoPwAAAAAAAOg/AAAAAAAA6D8AAAAAAADoPwAAAAAAAOg/AAAAAAAA6D8AAAAAAADoPwAAAAAAAOg/AAAAAAAA6D8AAAAAAADoPwAAAAAAAOg/AAAAAAAA6D8AAAAAAADoPwAAAAAAAOg/AAAAAAAA6D8AAAAAAADoPwAAAAAAAOg/AAAAAAAA6D8AAAAAAADoPwAAAAAAAOg/AAAAAAAA6D8AAAAAAADoPwAAAAAAAOg/AAAAAAAA6D8AAAAAAADoPwAAAAAAAOg/AAAAAAAA6D8AAAAAAADoPwAAAAAAAOg/AAAAAAAA6D8AAAAAAADoPwAAAAAAAOg/AAAAAAAA6D8AAAAAAADoPwAAAAAAAOg/AAAAAAAA6D8AAAAAAADoPwAAAAAAAOg/AAAAAAAA6D8AAAAAAADoPwAAAAAAAOg/AAAAAAAA6D8AAAAAAADoPwAAAAAAAOg/AAAAAAAA6D8AAAAAAADoPwAAAAAAAOg/AAAAAAAA6D8AAAAAAADoPwAAAAAAAOg/AAAAAAAA6D8AAAAAAADoPwAAAAAAAOg/AAAAAAAA6D8AAAAAAADoPwAAAAAAAOg/AAAAAAAA6D8AAAAAAADoPwAAAAAAAOg/AAAAAAAA6D8AAAAAAADoPwAAAAAAAOg/AAAAAAAA6D8AAAAAAADoPwAAAAAAAOg/AAAAAAAA6D8AAAAAAADoPwAAAAAAAOg/AAAAAAAA6D8AAAAAAADoPwAAAAAAAOg/AAAAAAAA6D8AAAAAAADoPwAAAAAAAOg/AAAAAAAA6D8AAAAAAADoPwAAAAAAAOg/AAAAAAAA6D8AAAAAAADoPwAAAAAAAOg/AAAAAAAA6D8AAAAAAADoPwAAAAAAAOg/AAAAAAAA6D8AAAAAAADoPwAAAAAAAOg/AAAAAAAA6D8AAAAAAADoPwAAAAAAAOg/AAAAAAAA6D8AAAAAAADoPwAAAAAAAOg/AAAAAAAA6D8AAAAAAADoPwAAAAAAAOg/AAAAAAAA6D8AAAAAAADoPwAAAAAAAOg/AAAAAAAA6D8AAAAAAADoPwAAAAAAAOg/AAAAAAAA6D8AAAAAAADoPwAAAAAAAOg/AAAAAAAA6D8AAAAAAADoPwAAAAAAAOg/AAAAAAAA6D8AAAAAAADoPwAAAAAAAOg/AAAAAAAA6D8AAAAAAADoPwAAAAAAAOg/AAAAAAAA6D8AAAAAAADoPwAAAAAAAOg/AAAAAAAA6D8AAAAAAADoPwAAAAAAAOg/AAAAAAAA6D8AAAAAAADoPwAAAAAAAOg/AAAAAAAA6D8AAAAAAADoPwAAAAAAAOg/AAAAAAAA6D8AAAAAAADoPwAAAAAAAOg/AAAAAAAA6D8AAAAAAADoPwAAAAAAAOg/AAAAAAAA6D8AAAAAAADoPwAAAAAAAOg/AAAAAAAA6D8AAAAAAADoPwAAAAAAAOg/AAAAAAAA6D8AAAAAAADoPwAAAAAAAOg/E6w3fHTx5z/+75r53J3nP+kz/nZFSuc/1Hdh9K325j+/u8RxFqPmP6r/J+9+T+Y/lkOLbOf75T+Ah+7pT6jlP2zLUWe4VOU/Vw+15CAB5T9CUxhiia3kPy2Xe9/xWeQ/GNveXFoG5D8DH0LawrLjP+5ipVcrX+M/2aYI1ZML4z/E6mtS/LfiP7Auz89kZOI/m3IyTc0Q4j+GtpXKNb3hP3H6+EeeaeE/XD5cxQYW4T9Hgr9Cb8LgPzLGIsDXbuA/HQqGPUAb4D8rWclKVvLgP/KMZzzjWeI/uMAFLnDB4z9+9KMf/SjlP0UoQhGKkOY/DFzgAhf45z8AAAAAAADoPwAAAAAAAOg/AAAAAAAA6D8AAAAAAADoPwAAAAAAAOg/AAAAAAAA6D8AAAAAAADoPwAAAAAAAOg/AAAAAAAA6D8AAAAAAADoPwAAAAAAAOg/AAAAAAAA6D8AAAAAAADoPwAAAAAAAOg/AAAAAAAA6D8AAAAAAADoPwAAAAAAAOg/AAAAAAAA6D8AAAAAAADoPwAAAAAAAOg/AAAAAAAA6D8AAAAAAADoPwAAAAAAAOg/AAAAAAAA6D8AAAAAAADoPwAAAAAAAOg/AAAAAAAA6D8AAAAAAADoPwAAAAAAAOg/AAAAAAAA6D8AAAAAAADoPwAAAAAAAOg/AAAAAAAA6D8AAAAAAADoPwAAAAAAAOg/AAAAAAAA6D8AAAAAAADoPwAAAAAAAOg/AAAAAAAA6D8AAAAAAADoPwAAAAAAAOg/AAAAAAAA6D8AAAAAAADoPwAAAAAAAOg/AAAAAAAA6D8AAAAAAADoPwAAAAAAAOg/AAAAAAAA6D8AAAAAAADoPwAAAAAAAOg/AAAAAAAA6D8AAAAAAADoPwAAAAAAAOg/AAAAAAAA6D8AAAAAAADoPwAAAAAAAOg/AAAAAAAA6D8AAAAAAADoPwAAAAAAAOg/AAAAAAAA6D8AAAAAAADoPwAAAAAAAOg/AAAAAAAA6D8AAAAAAADoPwAAAAAAAOg/AAAAAAAA6D8AAAAAAADoPwAAAAAAAOg/AAAAAAAA6D8AAAAAAADoPwAAAAAAAOg/AAAAAAAA6D8AAAAAAADoPwAAAAAAAOg/////////5z8AAAAAAADoPwAAAAAAAOg/AAAAAAAA6D8AAAAAAADoPwAAAAAAAOg/AAAAAAAA6D8AAAAAAADoPwAAAAAAAOg/AAAAAAAA6D8AAAAAAADoPwAAAAAAAOg/AAAAAAAA6D8AAAAAAADoPwAAAAAAAOg/AAAAAAAA6D8AAAAAAADoPwAAAAAAAOg/AAAAAAAA6D8AAAAAAADoPwAAAAAAAOg/AAAAAAAA6D8AAAAAAADoPwAAAAAAAOg/AAAAAAAA6D8AAAAAAADoPwAAAAAAAOg/AAAAAAAA6D8AAAAAAADoPwAAAAAAAOg/AAAAAAAA6D8AAAAAAADoPwAAAAAAAOg/AAAAAAAA6D8AAAAAAADoPwAAAAAAAOg/AAAAAAAA6D8AAAAAAADoPwAAAAAAAOg/AAAAAAAA6D8=\",\"dtype\":\"float64\",\"shape\":[601]}}},\"id\":\"54885d20-7c31-4457-ba0e-d31cd98d24e8\",\"type\":\"ColumnDataSource\"},{\"attributes\":{},\"id\":\"dc506384-34d2-425f-a671-5a6a3289a111\",\"type\":\"ToolEvents\"},{\"attributes\":{\"line_color\":{\"value\":\"#984ea3\"},\"line_width\":{\"value\":2},\"x\":{\"field\":\"x\"},\"y\":{\"field\":\"y\"}},\"id\":\"5ddd741f-7664-4b5f-a181-0d73b76dd5bd\",\"type\":\"Line\"},{\"attributes\":{\"line_alpha\":{\"value\":0.1},\"line_color\":{\"value\":\"#1f77b4\"},\"line_width\":{\"value\":2},\"x\":{\"field\":\"x\"},\"y\":{\"field\":\"y\"}},\"id\":\"c52f88fe-4acf-4635-bc00-c84b4e821bf7\",\"type\":\"Line\"},{\"attributes\":{\"bottom_units\":\"screen\",\"fill_alpha\":{\"value\":0.5},\"fill_color\":{\"value\":\"lightgrey\"},\"left_units\":\"screen\",\"level\":\"overlay\",\"line_alpha\":{\"value\":1.0},\"line_color\":{\"value\":\"black\"},\"line_dash\":[4,4],\"line_width\":{\"value\":2},\"plot\":null,\"render_mode\":\"css\",\"right_units\":\"screen\",\"top_units\":\"screen\"},\"id\":\"c7414c35-db69-4a0e-bb37-104fe7d73ef2\",\"type\":\"BoxAnnotation\"},{\"attributes\":{\"label\":{\"value\":\"Prioritised\"},\"renderers\":[{\"id\":\"55c42052-2d20-45eb-88a7-072dd4c952c0\",\"type\":\"GlyphRenderer\"}]},\"id\":\"b448909d-fe61-48f3-8cc3-879d4e30674f\",\"type\":\"LegendItem\"},{\"attributes\":{\"data_source\":{\"id\":\"9f7a7da3-b70e-4128-b5e1-3b910cec9a23\",\"type\":\"ColumnDataSource\"},\"glyph\":{\"id\":\"046d90e5-474c-4687-ac41-c68ae3321912\",\"type\":\"Line\"},\"hover_glyph\":null,\"nonselection_glyph\":{\"id\":\"c52f88fe-4acf-4635-bc00-c84b4e821bf7\",\"type\":\"Line\"},\"selection_glyph\":null},\"id\":\"683223a5-ad5e-4d15-99ff-9e843b7f5531\",\"type\":\"GlyphRenderer\"},{\"attributes\":{\"plot\":{\"id\":\"8252cf6d-126a-4cf3-9392-9795fe74116d\",\"subtype\":\"Figure\",\"type\":\"Plot\"}},\"id\":\"83f3d792-f567-497c-abd8-481a7b7695fc\",\"type\":\"SaveTool\"},{\"attributes\":{\"data_source\":{\"id\":\"e8f0de64-fe23-4a15-85c4-4ca3db99d85e\",\"type\":\"ColumnDataSource\"},\"glyph\":{\"id\":\"6f769f06-fa96-48b3-9150-855c6302941c\",\"type\":\"Line\"},\"hover_glyph\":null,\"nonselection_glyph\":{\"id\":\"50b77357-1d29-4b0b-8738-fc60ff116a3f\",\"type\":\"Line\"},\"selection_glyph\":null},\"id\":\"84b1b53c-5634-48ce-9c27-a9b2cdd2d530\",\"type\":\"GlyphRenderer\"},{\"attributes\":{\"label\":{\"value\":\"Uniform\"},\"renderers\":[{\"id\":\"683223a5-ad5e-4d15-99ff-9e843b7f5531\",\"type\":\"GlyphRenderer\"}]},\"id\":\"879a91d5-3e4e-4761-8599-e465806da572\",\"type\":\"LegendItem\"},{\"attributes\":{\"plot\":null,\"text\":\"Med Maze 14\"},\"id\":\"a66897c9-c133-4525-a77d-e5562cb2844c\",\"type\":\"Title\"},{\"attributes\":{\"line_color\":{\"value\":\"#e41a1c\"},\"line_width\":{\"value\":2},\"x\":{\"field\":\"x\"},\"y\":{\"field\":\"y\"}},\"id\":\"046d90e5-474c-4687-ac41-c68ae3321912\",\"type\":\"Line\"},{\"attributes\":{\"callback\":null,\"column_names\":[\"x\",\"y\"],\"data\":{\"x\":[0,1000,2000,3000,4000,5000,6000,7000,8000,9000,10000,11000,12000,13000,14000,15000,16000,17000,18000,19000,20000,21000,22000,23000,24000,25000,26000,27000,28000,29000,30000,31000,32000,33000,34000,35000,36000,37000,38000,39000,40000,41000,42000,43000,44000,45000,46000,47000,48000,49000,50000,51000,52000,53000,54000,55000,56000,57000,58000,59000,60000,61000,62000,63000,64000,65000,66000,67000,68000,69000,70000,71000,72000,73000,74000,75000,76000,77000,78000,79000,80000,81000,82000,83000,84000,85000,86000,87000,88000,89000,90000,91000,92000,93000,94000,95000,96000,97000,98000,99000,100000,101000,102000,103000,104000,105000,106000,107000,108000,109000,110000,111000,112000,113000,114000,115000,116000,117000,118000,119000,120000,121000,122000,123000,124000,125000,126000,127000,128000,129000,130000,131000,132000,133000,134000,135000,136000,137000,138000,139000,140000,141000,142000,143000,144000,145000,146000,147000,148000,149000,150000,151000,152000,153000,154000,155000,156000,157000,158000,159000,160000,161000,162000,163000,164000,165000,166000,167000,168000,169000,170000,171000,172000,173000,174000,175000,176000,177000,178000,179000,180000,181000,182000,183000,184000,185000,186000,187000,188000,189000,190000,191000,192000,193000,194000,195000,196000,197000,198000,199000,200000,201000,202000,203000,204000,205000,206000,207000,208000,209000,210000,211000,212000,213000,214000,215000,216000,217000,218000,219000,220000,221000,222000,223000,224000,225000,226000,227000,228000,229000,230000,231000,232000,233000,234000,235000,236000,237000,238000,239000,240000,241000,242000,243000,244000,245000,246000,247000,248000,249000,250000,251000,252000,253000,254000,255000,256000,257000,258000,259000,260000,261000,262000,263000,264000,265000,266000,267000,268000,269000,270000,271000,272000,273000,274000,275000,276000,277000,278000,279000,280000,281000,282000,283000,284000,285000,286000,287000,288000,289000,290000,291000,292000,293000,294000,295000,296000,297000,298000,299000,300000,301000,302000,303000,304000,305000,306000,307000,308000,309000,310000,311000,312000,313000,314000,315000,316000,317000,318000,319000,320000,321000,322000,323000,324000,325000,326000,327000,328000,329000,330000,331000,332000,333000,334000,335000,336000,337000,338000,339000,340000,341000,342000,343000,344000,345000,346000,347000,348000,349000,350000,351000,352000,353000,354000,355000,356000,357000,358000,359000,360000,361000,362000,363000,364000,365000,366000,367000,368000,369000,370000,371000,372000,373000,374000,375000,376000,377000,378000,379000,380000,381000,382000,383000,384000,385000,386000,387000,388000,389000,390000,391000,392000,393000,394000,395000,396000,397000,398000,399000,400000,401000,402000,403000,404000,405000,406000,407000,408000,409000,410000,411000,412000,413000,414000,415000,416000,417000,418000,419000,420000,421000,422000,423000,424000,425000,426000,427000,428000,429000,430000,431000,432000,433000,434000,435000,436000,437000,438000,439000,440000,441000,442000,443000,444000,445000,446000,447000,448000,449000,450000,451000,452000,453000,454000,455000,456000,457000,458000,459000,460000,461000,462000,463000,464000,465000,466000,467000,468000,469000,470000,471000,472000,473000,474000,475000,476000,477000,478000,479000,480000,481000,482000,483000,484000,485000,486000,487000,488000,489000,490000,491000,492000,493000,494000,495000,496000,497000,498000,499000,500000,501000,502000,503000,504000,505000,506000,507000,508000,509000,510000,511000,512000,513000,514000,515000,516000,517000,518000,519000,520000,521000,522000,523000,524000,525000,526000,527000,528000,529000,530000,531000,532000,533000,534000,535000,536000,537000,538000,539000,540000,541000,542000,543000,544000,545000,546000,547000,548000,549000,550000,551000,552000,553000,554000,555000,556000,557000,558000,559000,560000,561000,562000,563000,564000,565000,566000,567000,568000,569000,570000,571000,572000,573000,574000,575000,576000,577000,578000,579000,580000,581000,582000,583000,584000,585000,586000,587000,588000,589000,590000,591000,592000,593000,594000,595000,596000,597000,598000,599000,600000],\"y\":{\"__ndarray__\":\"AAAAAAAAAAAAAAAAAAAAAAAAAAAAAAAAAAAAAAAAAAAAAAAAAAAAAAAAAAAAAAAAAAAAAAAAAAAAAAAAAAAAAAAAAAAAAAAAAAAAAAAAAAAAAAAAAAAAAAAAAAAAAAAAAAAAAAAAAAAAAAAAAAAAAAAAAAAAAAAAAAAAAAAAAAAAAAAAAAAAAAAAAAAAAAAAAAAAAAAAAAAAAAAAAAAAAAAAAAAAAAAAAAAAAAAAAAAAAAAAAAAAAAAAAAAAAAAAAAAAAAAAAAAAAAAAAAAAAAAAAAAAAAAAAAAAAAAAAAAAAAAAAAAAAAAAAAAAAAAAAAAAAAAAAAAAAAAAAAAAAAAAAAAAAAAAAAAAAAAAAAAAAAAAAAAAAAAAAAAAAAAAAAAAAAAAAAAAAAAAAAAAAAAAAAAAAAAAAAAAAAAAAAAAAAAAAAAAAAAAAAAAAAAAAAAAAAAAAAAAAAAAAAAAAAAAAAAAAAAAAAAAAAAAAAAAAAAAAAAAAAAAAAAAAAAAAAAAAAAAAAAAAAAAAAAAAAAAAAAAAAAAAAAAAAAAAAAAAAAAAAAAAAAAAAAAAAAAAAAAAAAAAAAAAAAAAAAAAAAAAAAAAAAAAAAAAAAAAAAAAAAAAAAAAAAAAAAAAAAAAAAAAAAAAAAAAAAAAAAAAAAAAAAAAAAAAAAAAAAAAAAAAAAAAAAAAAAAAAAAAAAAAAAAAAAAAAAAAAAAAAAAAAAAAAAAAAAAAAAAAAAAAAAAAAAAAAAAAAAAAAAAAAAAAAAAAAAAAAAAAAAAAAAAAAAAAAAAAAAAAAAAAAAAAAAAAAAAAAAAAAAAAAAAAAAAAAAAAAAAAAAAAAAAAAAAAAAAAAAAAAAAAAAAAAAAAAAAAAAAAAAAAAAAAAAAAAAAAAAAAAAAAAAAAAAAAAAAAAAAAAAAAAAAAAAAAAAAAAAAAAAAAAAAAAAAAAAAAAAAAAAAAAAAAAAAAAAAAAAAAAAAAAAAAAAAAAAAAAAAAAAAAAAAAAAAAAAAAAAAAAAAAAAAAAAAAAAAAAAAAAAAAAAAAAAAAAAAsvVi1rA4ij+y9WLWsDiaP0U4yqCEqqM/svVi1rA4qj+P2f2FbmOwP0U4yqCEqrM//JaWu5rxtj+y9WLWsDi6P2hUL/HGf70/j9n9hW5jwD/qCGST+QbCP0U4yqCEqsM/oGcwrg9OxT/8lpa7mvHGP1fG/Mgllcg/svVi1rA4yj8NJcnjO9zLP2hUL/HGf80/w4OV/lEjzz8AAAAAAADQPwAAAAAAANA/AAAAAAAA0D8AAAAAAADQPwAAAAAAANA/AAAAAAAA0D8AAAAAAADQPwAAAAAAANA/AAAAAAAA0D8AAAAAAADQP////////88/AAAAAAAA0D8AAAAAAADQP////////88/AAAAAAAA0D8AAAAAAADQPwAAAAAAANA/AAAAAAAA0D8AAAAAAADQPwAAAAAAANA/AAAAAAAA0D8AAAAAAADQPwAAAAAAANA/AAAAAAAA0D8AAAAAAADQP////////88/AAAAAAAA0D8AAAAAAADQPwAAAAAAANA/AAAAAAAA0D8AAAAAAADQPwAAAAAAANA/AQAAAAAA0D8AAAAAAADQPwAAAAAAANA/AAAAAAAA0D8AAAAAAADQPwAAAAAAANA/AAAAAAAA0D8AAAAAAADQPwAAAAAAANA/AAAAAAAA0D8AAAAAAADQPwAAAAAAANA/AAAAAAAA0D8AAAAAAADQPwAAAAAAANA/AAAAAAAA0D8AAAAAAADQPwAAAAAAANA/AAAAAAAA0D/////////PPwAAAAAAANA/////////zz8AAAAAAADQP////////88/AAAAAAAA0D8AAAAAAADQPwAAAAAAANA/AAAAAAAA0D8AAAAAAADQPwAAAAAAANA/AAAAAAAA0D8AAAAAAADQP////////88/AAAAAAAA0D8AAAAAAADQPwAAAAAAANA/AAAAAAAA0D8AAAAAAADQPwAAAAAAANA/AAAAAAAA0D8AAAAAAADQPwAAAAAAANA/AAAAAAAA0D8AAAAAAADQPwAAAAAAANA/////////zz/////////PPwAAAAAAANA/AAAAAAAA0D8AAAAAAADQPwAAAAAAANA/AAAAAAAA0D8AAAAAAADQP////////88/AAAAAAAA0D8AAAAAAADQPwAAAAAAANA/AAAAAAAA0D8AAAAAAADQPwAAAAAAANA/AAAAAAAA0D8AAAAAAADQPwAAAAAAANA/AAAAAAAA0D8AAAAAAADQPwAAAAAAANA/////////zz8AAAAAAADQPwAAAAAAANA/AAAAAAAA0D8AAAAAAADQP////////88/AAAAAAAA0D/////////PP////////88/AAAAAAAA0D8AAAAAAADQPwAAAAAAANA/AAAAAAAA0D8AAAAAAADQPwAAAAAAANA/////////zz8AAAAAAADQPwAAAAAAANA/AAAAAAAA0D8AAAAAAADQP////////88/////////zz8AAAAAAADQPwAAAAAAANA/AAAAAAAA0D8AAAAAAADQPwAAAAAAANA/AAAAAAAA0D/////////PPwAAAAAAANA/AAAAAAAA0D8AAAAAAADQPwAAAAAAANA/AAAAAAAA0D8AAAAAAADQPwAAAAAAANA/AAAAAAAA0D8AAAAAAADQPwAAAAAAANA/AAAAAAAA0D8AAAAAAADQPwAAAAAAANA/AAAAAAAA0D8AAAAAAADQPwAAAAAAANA/AAAAAAAA0D8AAAAAAADQPwAAAAAAANA/////////zz8AAAAAAADQPwAAAAAAANA/AAAAAAAA0D8AAAAAAADQPwAAAAAAANA/AAAAAAAA0D8AAAAAAADQPwAAAAAAANA/AAAAAAAA0D/////////PPwAAAAAAANA/AAAAAAAA0D8AAAAAAADQPwAAAAAAANA/AAAAAAAA0D8AAAAAAADQP/7//////88/AAAAAAAA0D8AAAAAAADQPwAAAAAAANA/////////zz8AAAAAAADQPwAAAAAAANA/AAAAAAAA0D8AAAAAAADQPwAAAAAAANA/AAAAAAAA0D8AAAAAAADQPwAAAAAAANA/AAAAAAAA0D/////////PPwAAAAAAANA/AAAAAAAA0D8AAAAAAADQPwAAAAAAANA/AAAAAAAA0D8AAAAAAADQPwAAAAAAANA/AAAAAAAA0D/////////PPwAAAAAAANA/AAAAAAAA0D8AAAAAAADQPwAAAAAAANA/AAAAAAAA0D8AAAAAAADQPwAAAAAAANA/AAAAAAAA0D8AAAAAAADQPwAAAAAAANA/AAAAAAAA0D/////////PPwAAAAAAANA/AAAAAAAA0D8AAAAAAADQPwAAAAAAANA/////////zz8AAAAAAADQPwAAAAAAANA/AAAAAAAA0D8AAAAAAADQPwAAAAAAANA/AAAAAAAA0D8AAAAAAADQPwEAAAAAANA/AAAAAAAA0D/////////PPwAAAAAAANA/AAAAAAAA0D8AAAAAAADQPwAAAAAAANA/AAAAAAAA0D8AAAAAAADQPwAAAAAAANA/AAAAAAAA0D8AAAAAAADQPwAAAAAAANA/AAAAAAAA0D/////////PP5QYdv+Ps9A/KDHs/h9n0T+8SWL+rxrSP1Bi2P0/ztI/43pO/c+B0z93k8T8XzXUPwusOvzv6NQ/n8Sw+3+c1T8z3Sb7D1DWP8f1nPqfA9c/Wg4T+i+31z/uJon5v2rYP4I///hPHtk/Flh1+N/R2T+rcOv3b4XaPz6JYff/ONs/0qHX9o/s2z9muk32H6DcP/rSw/WvU90/jus59T8H3j8gBLD0z7reP7QcJvRfbt8/glIy/Gbg3z9Y2vj2NznfPy5iv/EIkt4/BOqF7Nnq3T/acUznqkPdP7D5EuJ7nNw/hoHZ3Ez12z9cCaDXHU7bPzORZtLupto/CRktzb//2T/goPPHkFjZP7YousJhsdg/jLCAvTIK2D9iOEe4A2PXPzjADbPUu9Y/DkjUraUU1j/kz5qodm3VP7tXYaNHxtQ/kN8nnhgf1D9nZ+6Y6XfTPz3vtJO60NI/FHd7josp0j/q/kGJXILRP8CGCIQt29A/lg7Pfv4z0D843PPjQH7QP+Tu9b5+NdE/jwH4mbzs0T86FPp0+qPSP+Um/E84W9M/kDn+KnYS1D86TAAGtMnUP+ZeAuHxgNU/kHEEvC841j87hAaXbe/WP+aWCHKrptc/kakKTeld2D88vAwoJxXZP+fODgNlzNk/kuEQ3qKD2j899BK54DrbP+gGFZQe8ts/khkXb1yp3D8+LBlKmmDdP+g+GyXYF94/lFEdABbP3j8+ZB/bU4bfPwAAAAAAAOA/AAAAAAAA4D8AAAAAAADgPwAAAAAAAOA/AAAAAAAA4D8AAAAAAADgPwAAAAAAAOA/AAAAAAAA4D8AAAAAAADgPwAAAAAAAOA/AAAAAAAA4D8AAAAAAADgPwAAAAAAAOA/AAAAAAAA4D8AAAAAAADgPwAAAAAAAOA/M1sisoLN3z8J4+isUybfP+Bqr6ckf94/tvJ1ovXX3T+MejydxjDdP2ICA5iXidw/OIrJkmji2z8OEpCNOTvbP+SZVogKlNo/uiEdg9vs2T+RqeN9rEXZP2cxqnh9ntg/Pblwc0731z8UQTduH1DXP+nI/WjwqNY/wFDEY8EB1j+W2IpeklrVP2xgUVljs9Q/QugXVDQM1D8ZcN5OBWXTP+/3pEnWvdI/xX9rRKcW0j+bBzI/eG/RP3KP+DlJyNA/SBe/NBoh0D+ISrKovgPRP8Vcf7SdR9I/AW9MwHyL0z8+gRnMW8/UP3uT5tc6E9Y/uKWz4xlX1z/1t4Dv+JrYPzLKTfvX3tk/cNwaB7ci2z+s7ucSlmbcP+oAtR51qt0/JhOCKlTu3j8AAAAAAADgPwAAAAAAAOA/AAAAAAAA4D8AAAAAAADgPwAAAAAAAOA/AAAAAAAA4D8AAAAAAADgPwAAAAAAAOA/AAAAAAAA4D8AAAAAAADgPwAAAAAAAOA/AAAAAAAA4D8AAAAAAADgPwAAAAAAAOA/AAAAAAAA4D8AAAAAAADgPwAAAAAAAOA/AAAAAAAA4D8AAAAAAADgPwAAAAAAAOA/AAAAAAAA4D8AAAAAAADgPwAAAAAAAOA/AAAAAAAA4D8AAAAAAADgPwAAAAAAAOA/AAAAAAAA4D8AAAAAAADgPwAAAAAAAOA/AAAAAAAA4D8AAAAAAADgPwAAAAAAAOA/AAAAAAAA4D8AAAAAAADgP////////98/AAAAAAAA4D8AAAAAAADgPwAAAAAAAOA/AAAAAAAA4D8AAAAAAADgPwAAAAAAAOA/AAAAAAAA4D8AAAAAAADgPwAAAAAAAOA/AAAAAAAA4D8AAAAAAADgPwAAAAAAAOA/AAAAAAAA4D8AAAAAAADgPwAAAAAAAOA/AAAAAAAA4D8AAAAAAADgPwAAAAAAAOA/AAAAAAAA4D8AAAAAAADgPwAAAAAAAOA/AAAAAAAA4D8AAAAAAADgPwAAAAAAAOA/AAAAAAAA4D8AAAAAAADgPwAAAAAAAOA/AAAAAAAA4D8AAAAAAADgPwAAAAAAAOA/AAAAAAAA4D8AAAAAAADgPwAAAAAAAOA/AAAAAAAA4D8AAAAAAADgPwAAAAAAAOA/Mmdn7pjp3z8I7y3paULfP9529OM6m94/tP663gv03T+KhoHZ3EzdP2AOSNStpdw/N5YOz37+2z8NHtXJT1fbP+Slm8QgsNo/ui1iv/EI2j+QtSi6wmHZP2Y977STutg/PMW1r2QT2D8STXyqNWzXP+jUQqUGxdY/v1wJoNcd1j+V5M+aqHbVPzUodimgKNQ/4TcDH0La0j+OR5AU5IvRPzpXHQqGPdA/zs1U/0/ezT8m7W7qk0HLP38MidXXpMg/2CujwBsIxj8eEqc0NhfJP0YwY0BxbM8/N6cPJtbg0j9Mtu2rcwvWP9QZLlXygtc/q6H0T8Pb1j+BKbtKlDTWP1exgUVljdU/LTlIQDbm1D8EwQ47Bz/UP9pI1TXYl9M/r9CbMKnw0j+GWGIreknSP1zgKCZLotE/MmjvIBz70D8I8LUb7VPQPybPBVz9G9Q/Tr+tNGtc3D8AAAAAAADgPwAAAAAAAOA/AAAAAAAA4D8AAAAAAADgPwAAAAAAAOA/AAAAAAAA4D8AAAAAAADgPwAAAAAAAOA/AAAAAAAA4D8AAAAAAADgPwAAAAAAAOA/AAAAAAAA4D8AAAAAAADgPwAAAAAAAOA/AAAAAAAA4D8AAAAAAADgPwAAAAAAAOA/AAAAAAAA4D8AAAAAAADgPwAAAAAAAOA/AAAAAAAA4D8=\",\"dtype\":\"float64\",\"shape\":[601]}}},\"id\":\"24b7742b-243a-4f61-b6f7-35bae0b53f46\",\"type\":\"ColumnDataSource\"},{\"attributes\":{\"below\":[{\"id\":\"65570694-6a6c-4288-8f66-524855c4b615\",\"type\":\"LinearAxis\"}],\"left\":[{\"id\":\"f513d8f0-056e-468d-85fe-24068b55b3c5\",\"type\":\"LinearAxis\"}],\"plot_height\":800,\"plot_width\":1200,\"renderers\":[{\"id\":\"65570694-6a6c-4288-8f66-524855c4b615\",\"type\":\"LinearAxis\"},{\"id\":\"65ff7515-e77c-457d-980b-45a028c8ed60\",\"type\":\"Grid\"},{\"id\":\"f513d8f0-056e-468d-85fe-24068b55b3c5\",\"type\":\"LinearAxis\"},{\"id\":\"ac92b761-4190-45e3-a5bc-d9f4d241448f\",\"type\":\"Grid\"},{\"id\":\"c7414c35-db69-4a0e-bb37-104fe7d73ef2\",\"type\":\"BoxAnnotation\"},{\"id\":\"683223a5-ad5e-4d15-99ff-9e843b7f5531\",\"type\":\"GlyphRenderer\"},{\"id\":\"526327d3-2fd0-4742-be9c-51def039d6dc\",\"type\":\"GlyphRenderer\"},{\"id\":\"84b1b53c-5634-48ce-9c27-a9b2cdd2d530\",\"type\":\"GlyphRenderer\"},{\"id\":\"59d6f009-c0f7-4784-8dcb-40b35230afd0\",\"type\":\"GlyphRenderer\"},{\"id\":\"55c42052-2d20-45eb-88a7-072dd4c952c0\",\"type\":\"GlyphRenderer\"},{\"id\":\"af9aab43-b14f-4710-aea5-6f00af78b2d1\",\"type\":\"Legend\"}],\"right\":[{\"id\":\"af9aab43-b14f-4710-aea5-6f00af78b2d1\",\"type\":\"Legend\"}],\"title\":{\"id\":\"a66897c9-c133-4525-a77d-e5562cb2844c\",\"type\":\"Title\"},\"tool_events\":{\"id\":\"dc506384-34d2-425f-a671-5a6a3289a111\",\"type\":\"ToolEvents\"},\"toolbar\":{\"id\":\"0ea90e72-53c8-4ee5-936d-fcea43799e33\",\"type\":\"Toolbar\"},\"toolbar_location\":\"above\",\"x_range\":{\"id\":\"1861adf1-8d6c-4cf3-8556-19491ef1ea08\",\"type\":\"DataRange1d\"},\"y_range\":{\"id\":\"5f7007f8-13c5-4a98-9450-ea82ab0e723f\",\"type\":\"Range1d\"}},\"id\":\"8252cf6d-126a-4cf3-9392-9795fe74116d\",\"subtype\":\"Figure\",\"type\":\"Plot\"},{\"attributes\":{\"data_source\":{\"id\":\"3d774bff-f67d-4755-a48f-aca94e453835\",\"type\":\"ColumnDataSource\"},\"glyph\":{\"id\":\"4ac00477-eeda-4515-acab-d25c622b8c77\",\"type\":\"Line\"},\"hover_glyph\":null,\"nonselection_glyph\":{\"id\":\"18f8062d-3544-4b94-9837-6a58fed55385\",\"type\":\"Line\"},\"selection_glyph\":null},\"id\":\"55c42052-2d20-45eb-88a7-072dd4c952c0\",\"type\":\"GlyphRenderer\"},{\"attributes\":{\"axis_label\":\"Episode Reward\",\"formatter\":{\"id\":\"cb652245-7f7d-451d-ab4c-504b0e509a9f\",\"type\":\"BasicTickFormatter\"},\"plot\":{\"id\":\"8252cf6d-126a-4cf3-9392-9795fe74116d\",\"subtype\":\"Figure\",\"type\":\"Plot\"},\"ticker\":{\"id\":\"9e45872e-36f3-4e5f-adb2-8f21cdf75dff\",\"type\":\"BasicTicker\"}},\"id\":\"f513d8f0-056e-468d-85fe-24068b55b3c5\",\"type\":\"LinearAxis\"},{\"attributes\":{\"callback\":null},\"id\":\"1861adf1-8d6c-4cf3-8556-19491ef1ea08\",\"type\":\"DataRange1d\"},{\"attributes\":{\"items\":[{\"id\":\"879a91d5-3e4e-4761-8599-e465806da572\",\"type\":\"LegendItem\"},{\"id\":\"7911e53b-82ab-4853-90c3-68e4b740ad4d\",\"type\":\"LegendItem\"},{\"id\":\"4672cfe4-5e99-4a3e-871c-ee1e6fc997af\",\"type\":\"LegendItem\"},{\"id\":\"d7d93c4b-e5b1-42cf-ac07-a2790b07f8fc\",\"type\":\"LegendItem\"},{\"id\":\"b448909d-fe61-48f3-8cc3-879d4e30674f\",\"type\":\"LegendItem\"}],\"location\":[0,-30],\"plot\":{\"id\":\"8252cf6d-126a-4cf3-9392-9795fe74116d\",\"subtype\":\"Figure\",\"type\":\"Plot\"}},\"id\":\"af9aab43-b14f-4710-aea5-6f00af78b2d1\",\"type\":\"Legend\"},{\"attributes\":{},\"id\":\"ed41c126-ab13-417f-bd45-7aaa1ad03d54\",\"type\":\"BasicTicker\"},{\"attributes\":{\"line_alpha\":{\"value\":0.1},\"line_color\":{\"value\":\"#1f77b4\"},\"line_width\":{\"value\":2},\"x\":{\"field\":\"x\"},\"y\":{\"field\":\"y\"}},\"id\":\"b86bd7c3-2f4a-4a03-8257-c3e255e276d6\",\"type\":\"Line\"},{\"attributes\":{\"line_alpha\":{\"value\":0.1},\"line_color\":{\"value\":\"#1f77b4\"},\"line_width\":{\"value\":2},\"x\":{\"field\":\"x\"},\"y\":{\"field\":\"y\"}},\"id\":\"50b77357-1d29-4b0b-8738-fc60ff116a3f\",\"type\":\"Line\"},{\"attributes\":{\"axis_label\":\"T\",\"formatter\":{\"id\":\"06e8f2ca-4e11-4fb4-a79f-ebce25e2e7a6\",\"type\":\"BasicTickFormatter\"},\"plot\":{\"id\":\"8252cf6d-126a-4cf3-9392-9795fe74116d\",\"subtype\":\"Figure\",\"type\":\"Plot\"},\"ticker\":{\"id\":\"ed41c126-ab13-417f-bd45-7aaa1ad03d54\",\"type\":\"BasicTicker\"}},\"id\":\"65570694-6a6c-4288-8f66-524855c4b615\",\"type\":\"LinearAxis\"},{\"attributes\":{\"dimension\":1,\"plot\":{\"id\":\"8252cf6d-126a-4cf3-9392-9795fe74116d\",\"subtype\":\"Figure\",\"type\":\"Plot\"},\"ticker\":{\"id\":\"9e45872e-36f3-4e5f-adb2-8f21cdf75dff\",\"type\":\"BasicTicker\"}},\"id\":\"ac92b761-4190-45e3-a5bc-d9f4d241448f\",\"type\":\"Grid\"},{\"attributes\":{\"plot\":{\"id\":\"8252cf6d-126a-4cf3-9392-9795fe74116d\",\"subtype\":\"Figure\",\"type\":\"Plot\"},\"ticker\":{\"id\":\"ed41c126-ab13-417f-bd45-7aaa1ad03d54\",\"type\":\"BasicTicker\"}},\"id\":\"65ff7515-e77c-457d-980b-45a028c8ed60\",\"type\":\"Grid\"},{\"attributes\":{\"callback\":null,\"end\":1.1,\"start\":-0.1},\"id\":\"5f7007f8-13c5-4a98-9450-ea82ab0e723f\",\"type\":\"Range1d\"},{\"attributes\":{\"line_color\":{\"value\":\"#ff7f00\"},\"line_width\":{\"value\":2},\"x\":{\"field\":\"x\"},\"y\":{\"field\":\"y\"}},\"id\":\"4ac00477-eeda-4515-acab-d25c622b8c77\",\"type\":\"Line\"},{\"attributes\":{},\"id\":\"9e45872e-36f3-4e5f-adb2-8f21cdf75dff\",\"type\":\"BasicTicker\"},{\"attributes\":{\"callback\":null,\"column_names\":[\"x\",\"y\"],\"data\":{\"x\":[0,1000,2000,3000,4000,5000,6000,7000,8000,9000,10000,11000,12000,13000,14000,15000,16000,17000,18000,19000,20000,21000,22000,23000,24000,25000,26000,27000,28000,29000,30000,31000,32000,33000,34000,35000,36000,37000,38000,39000,40000,41000,42000,43000,44000,45000,46000,47000,48000,49000,50000,51000,52000,53000,54000,55000,56000,57000,58000,59000,60000,61000,62000,63000,64000,65000,66000,67000,68000,69000,70000,71000,72000,73000,74000,75000,76000,77000,78000,79000,80000,81000,82000,83000,84000,85000,86000,87000,88000,89000,90000,91000,92000,93000,94000,95000,96000,97000,98000,99000,100000,101000,102000,103000,104000,105000,106000,107000,108000,109000,110000,111000,112000,113000,114000,115000,116000,117000,118000,119000,120000,121000,122000,123000,124000,125000,126000,127000,128000,129000,130000,131000,132000,133000,134000,135000,136000,137000,138000,139000,140000,141000,142000,143000,144000,145000,146000,147000,148000,149000,150000,151000,152000,153000,154000,155000,156000,157000,158000,159000,160000,161000,162000,163000,164000,165000,166000,167000,168000,169000,170000,171000,172000,173000,174000,175000,176000,177000,178000,179000,180000,181000,182000,183000,184000,185000,186000,187000,188000,189000,190000,191000,192000,193000,194000,195000,196000,197000,198000,199000,200000,201000,202000,203000,204000,205000,206000,207000,208000,209000,210000,211000,212000,213000,214000,215000,216000,217000,218000,219000,220000,221000,222000,223000,224000,225000,226000,227000,228000,229000,230000,231000,232000,233000,234000,235000,236000,237000,238000,239000,240000,241000,242000,243000,244000,245000,246000,247000,248000,249000,250000,251000,252000,253000,254000,255000,256000,257000,258000,259000,260000,261000,262000,263000,264000,265000,266000,267000,268000,269000,270000,271000,272000,273000,274000,275000,276000,277000,278000,279000,280000,281000,282000,283000,284000,285000,286000,287000,288000,289000,290000,291000,292000,293000,294000,295000,296000,297000,298000,299000,300000,301000,302000,303000,304000,305000,306000,307000,308000,309000,310000,311000,312000,313000,314000,315000,316000,317000,318000,319000,320000,321000,322000,323000,324000,325000,326000,327000,328000,329000,330000,331000,332000,333000,334000,335000,336000,337000,338000,339000,340000,341000,342000,343000,344000,345000,346000,347000,348000,349000,350000,351000,352000,353000,354000,355000,356000,357000,358000,359000,360000,361000,362000,363000,364000,365000,366000,367000,368000,369000,370000,371000,372000,373000,374000,375000,376000,377000,378000,379000,380000,381000,382000,383000,384000,385000,386000,387000,388000,389000,390000,391000,392000,393000,394000,395000,396000,397000,398000,399000,400000,401000,402000,403000,404000,405000,406000,407000,408000,409000,410000,411000,412000,413000,414000,415000,416000,417000,418000,419000,420000,421000,422000,423000,424000,425000,426000,427000,428000,429000,430000,431000,432000,433000,434000,435000,436000,437000,438000,439000,440000,441000,442000,443000,444000,445000,446000,447000,448000,449000,450000,451000,452000,453000,454000,455000,456000,457000,458000,459000,460000,461000,462000,463000,464000,465000,466000,467000,468000,469000,470000,471000,472000,473000,474000,475000,476000,477000,478000,479000,480000,481000,482000,483000,484000,485000,486000,487000,488000,489000,490000,491000,492000,493000,494000,495000,496000,497000,498000,499000,500000,501000,502000,503000,504000,505000,506000,507000,508000,509000,510000,511000,512000,513000,514000,515000,516000,517000,518000,519000,520000,521000,522000,523000,524000,525000,526000,527000,528000,529000,530000,531000,532000,533000,534000,535000,536000,537000,538000,539000,540000,541000,542000,543000,544000,545000,546000,547000,548000,549000,550000,551000,552000,553000,554000,555000,556000,557000,558000,559000,560000,561000,562000,563000,564000,565000,566000,567000,568000,569000,570000,571000,572000,573000,574000,575000,576000,577000,578000,579000,580000,581000,582000,583000,584000,585000,586000,587000,588000,589000,590000,591000,592000,593000,594000,595000,596000,597000,598000,599000,600000],\"y\":{\"__ndarray__\":\"AAAAAAAAAAAAAAAAAAAAAAAAAAAAAAAAAAAAAAAAAAAAAAAAAAAAAAAAAAAAAAAAAAAAAAAAAAAAAAAAAAAAAAAAAAAAAAAAAAAAAAAAAAAAAAAAAAAAAAAAAAAAAAAAAAAAAAAAAAAAAAAAAAAAAAAAAAAAAAAAAAAAAAAAAAAAAAAAAAAAAAAAAAAAAAAAAAAAAAAAAAAAAAAAAAAAAAAAAAAAAAAAAAAAAAAAAAAAAAAAAAAAAAAAAAAAAAAAAAAAAAAAAAAAAAAAAAAAAAAAAAAAAAAAAAAAAAAAAAAAAAAAAAAAAAAAAAAAAAAAAAAAAAAAAAAAAAAAAAAAAAAAAAAAAAAAAAAAAAAAAAAAAAAAAAAAAAAAAAAAAAAAAAAAAAAAAAAAAAAAAAAAAAAAAAAAAAAAAAAAAAAAAAAAAAAAAAAAAAAAAAAAAAAAAAAAAAAAAAAAAAAAAAAAAAAAAAAAAAAAAAAAAAAAAAAAAAAAAAAAAAAAAAAAAAAAAAAAAAAAAAAAAAAAAAAAAAAAAAAAAAAAAAAAAAAAAAAAAAAAAAAAAAAAAAAAAAAAAAAAAAAAAAAAAAAAAAAAAAAAAAAAAAAAAAAAAAAAAAAAAAAAAAAAAAAAAAAAAAAAAAAAAAAAAAAAAAAAAAAAAAAAAAAAAAAAAAAAAAAAAAAAAAAAAAAAAAAAAAAAAAAAAAAAAAAAAAAAAAAAAAAAAAAAAAAAAAAAAAAAAAAAAAAAAAAAAAAAAAAAAAAAAAAAAAAAAAAAAAAAAAAAAAAAAAAAAAAAAAAAAAAAAAAAAAAAAAAAAAAAAAAAAAAAAAAAAAAAAAAAAAAAAAAAAAAAAAAAAAAAAAAAAAAAAAAAAAAAAAAAAAAAAAAAAAAAAAAAAAAAAAAAAAAAAAAAAAAAAAAAAAAAAAAAAAAAAAAAAAAAAAAAAAAAAAAAAAAAAAAAAAAAAAAAAAAAAAAAAAAAAAAAAAAAAAAAAAAAAAAAAAAAAAAAAAAAAAAAAAAAAAAAAAAAAAAAAAAAAAAAAAAAAAAAAAAAAAAAAAAAAAAAAAAAAAAAAAAAAAAAAAAAAAAAAAAAAAAAAAAAAAAAAAAAAAAAAAAAAAAAAAAAAAAAAAAAAAAAAAAAAAAAAAAAAAAAAAAAAAAAAAAAAAAAAAAAAAAAAAAAAAAAAAAAAAAAAAAAAAAAAAAAAAAAAAAAAAAAAAAAAAAAAAAAAAAAAAAAAAAAAAAAAAAAAAAAAAAAAAAAAAAAAAAAAAAAAAAAAAAAAAAAAAAAAAAAAAAAAAAAAAAAAAAAAAAAAAAAAAAAAAAAAAAAAAAAAAAAAAAAAAAAAAAAAAAAAAAAAAAAAAAAAAAAAAAAAAAAAAAAAAAAAAAAAAAAAAAAAAAAAAAAAAAAAAAAAAAAAAAAAAAAAAAAAAAAAAAAAAAAAAAAAAAAAAAAAAAAAAAAAAAAAAAAAAAAAAAAAAAAAAAAAAAAAAAAAAAAAAAAAAAAAAAAAAAAAAAAAAAAAAAAAAAAAAAAAAAAAAAAAAAAAAAAAAAAAAAAAAAAAAAAAAAAAAAAAAAAAAAAAAAAAAAAAAAAAAAAAAAAAAAAAAAAAAAAAAAAAAAAAAAAAAAAAAAAAAAAAAAAAAAAAAAAAAAAAAAAAAAAAAAAAAAAAAAAAAAAAAAAAAAAAAAAAAAAAAAAAAAAAAAAAAAAAAAAAAAAAAAAAAAAAAAAAAAAAAAAAAAAAAAAAAAAAAAAAAAAAAAAAAAAAAAAAAAAAAAAAAAAAAAAAAAAAAAAAAAAAAAAAAAAAAAAAAAAAAAAAAAAAAAAAAAAAAAAAABcui8smoyAP4qXR0Ln0pg/86g7t8CvpD8hhlPNDfasP6ixtXEtnrI/P6DB/FPBtj/Wjs2HeuS6P2192RKhB78/ArbyzmOVwT9NrXgU96bDP5mk/lmKuMU/5JuEnx3Kxz8wkwrlsNvJP3uKkCpE7cs/x4EWcNf+zT96tfJ1ovXPPyfFf2tEp84/09QMYeZYzT+A5JlWiArMPyz0JkwqvMo/2AO0QcxtyT+FE0E3bh/IPzEjziwQ0cY/3jJbIrKCxT+KQugXVDTEPzZSdQ325cI/42ECA5iXwT+PcY/4OUnAP3cCOdy39b0/0CFTx/tYuz8pQW2yP7y4P4Jgh52DH7Y/23+hiMeCsz8zn7tzC+awPxh9q72ekqw/yrvfkyZZpz98+hNqrh+iP1tykIBszJk/fN/xWfiyjj+EtIVlL5pzP+HOi9TxAIE/MjKdTkqDmD95PnrZDUOkP9rjpYt2RKw/ncTonu8isj9Ol/73oyO2P/5pFFFYJLo/rjwqqgwlvj+vB6CB4BLBPwfxKq46E8M/YNq12pQTxT+4w0AH7xPHPxCtyzNJFMk/aJZWYKMUyz/Af+GM/RTNPxhpbLlXFc8/AAAAAAAA0D8AAAAAAADQPwAAAAAAANA/AAAAAAAA0D8AAAAAAADQPwAAAAAAANA/AAAAAAAA0D8AAAAAAADQPwAAAAAAANA/AAAAAAAA0D8AAAAAAADQPwAAAAAAANA/AAAAAAAA0D8AAAAAAADQPwAAAAAAANA/AAAAAAAA0D8AAAAAAADQPwAAAAAAANA/AAAAAAAA0D8AAAAAAADQPwAAAAAAANA/AAAAAAAA0D8AAAAAAADQPwAAAAAAANA/AAAAAAAA0D8BAAAAAADQPwAAAAAAANA/AAAAAAAA0D8AAAAAAADQPwAAAAAAANA/AAAAAAAA0D8AAAAAAADQP////////88/AAAAAAAA0D8AAAAAAADQPwAAAAAAANA/AAAAAAAA0D8AAAAAAADQPwAAAAAAANA/AAAAAAAA0D8AAAAAAADQPwAAAAAAANA/AAAAAAAA0D8AAAAAAADQPwAAAAAAANA/AAAAAAAA0D8AAAAAAADQPwAAAAAAANA/AAAAAAAA0D8AAAAAAADQPwAAAAAAANA/////////zz8AAAAAAADQPwAAAAAAANA/AAAAAAAA0D8AAAAAAADQPwAAAAAAANA/AAAAAAAA0D8AAAAAAADQPwAAAAAAANA/AAAAAAAA0D/////////PPwAAAAAAANA/AAAAAAAA0D/////////PPwAAAAAAANA/AAAAAAAA0D/MnmP0pqzQP5g9x+hNWdE/ZNwq3fQF0j8we47Rm7LSP/wZ8sVCX9M/yLhVuukL1D+UV7mukLjUP2D2HKM3ZdU/LJWAl94R1j/4M+SLhb7WP8TSR4Asa9c/kHGrdNMX2D9cEA9pesTYPyivcl0hcdk/9E3WUcgd2j/A7DlGb8raP4yLnToWd9s/WCoBL70j3D8kyWQjZNDcP/BnyBcLfd0/uwYsDLIp3j+IpY8AWdbeP1RE8/T/gt8/AAAAAAAA4D8AAAAAAADgPwAAAAAAAOA/AAAAAAAA4D8AAAAAAADgPwAAAAAAAOA/AAAAAAAA4D8AAAAAAADgPwAAAAAAAOA/AAAAAAAA4D8AAAAAAADgPwAAAAAAAOA/AAAAAAAA4D8AAAAAAADgPwAAAAAAAOA/AAAAAAAA4D8AAAAAAADgPwAAAAAAAOA/AAAAAAAA4D8AAAAAAADgPwAAAAAAAOA/AAAAAAAA4D8AAAAAAADgPwAAAAAAAOA/AAAAAAAA4D8AAAAAAADgPwAAAAAAAOA/AAAAAAAA4D8AAAAAAADgPwAAAAAAAOA/AAAAAAAA4D8AAAAAAADgPwAAAAAAAOA/AAAAAAAA4D8AAAAAAADgPwAAAAAAAOA/AAAAAAAA4D8AAAAAAADgPwAAAAAAAOA/AAAAAAAA4D8AAAAAAADgPwAAAAAAAOA/AAAAAAAA4D8AAAAAAADgPwAAAAAAAOA/AAAAAAAA4D8AAAAAAADgPwAAAAAAAOA/AAAAAAAA4D8AAAAAAADgP////////98/AAAAAAAA4D/////////fPwAAAAAAAOA/AAAAAAAA4D8AAAAAAADgPwAAAAAAAOA/AAAAAAAA4D8AAAAAAADgPwAAAAAAAOA/AAAAAAAA4D8AAAAAAADgPwAAAAAAAOA/AAAAAAAA4D8AAAAAAADgPwAAAAAAAOA/AAAAAAAA4D8AAAAAAADgPwAAAAAAAOA/AAAAAAAA4D8AAAAAAADgPwAAAAAAAOA/AAAAAAAA4D8AAAAAAADgPwAAAAAAAOA/AAAAAAAA4D84R7gDY9vfPw7Pfv4zNN8/5VZF+QSN3j+73gv01eXdP5Fm0u6mPt0/aO6Y6XeX3D8+dl/kSPDbPxT+Jd8ZSds/6oXs2eqh2j/ADbPUu/rZP5aVec+MU9k/bB1Ayl2s2D9DpQbFLgXYPxktzb//Xdc/77STutC21j/GPFq1oQ/WP5zEILByaNU/ckznqkPB1D9I1K2lFBrUPx5cdKDlctM/9OM6m7bL0j/LawGWhyTSP6Hzx5BYfdE/d3uOiynW0D9NA1WG+i7QP568dP91HNE/gQ/dVBio0j9jYkWqujPUP0a1rf9cv9U/KQgWVf9K1z8MW36qodbYP+6t5v9DYto/0QBPVebt2z+0U7eqiHndP5amHwArBd8/AAAAAAAA4D8AAAAAAADgPwAAAAAAAOA/AAAAAAAA4D8AAAAAAADgPwAAAAAAAOA/AAAAAAAA4D8AAAAAAADgPwAAAAAAAOA/AAAAAAAA4D8AAAAAAADgPwAAAAAAAOA/AAAAAAAA4D8AAAAAAADgPwAAAAAAAOA/AAAAAAAA4D8AAAAAAADgPwAAAAAAAOA/AAAAAAAA4D8AAAAAAADgPwAAAAAAAOA/AAAAAAAA4D8AAAAAAADgPwAAAAAAAOA/AAAAAAAA4D8AAAAAAADgPwAAAAAAAOA/AAAAAAAA4D8AAAAAAADgPwAAAAAAAOA/AAAAAAAA4D8AAAAAAADgPwAAAAAAAOA/AAAAAAAA4D8AAAAAAADgPwAAAAAAAOA/AAAAAAAA4D8AAAAAAADgPwAAAAAAAOA/AAAAAAAA4D8AAAAAAADgPwAAAAAAAOA/AAAAAAAA4D8AAAAAAADgPwAAAAAAAOA/AAAAAAAA4D8AAAAAAADgPwAAAAAAAOA/AAAAAAAA4D8AAAAAAADgPwAAAAAAAOA/AAAAAAAA4D8AAAAAAADgPwAAAAAAAOA/AAAAAAAA4D8AAAAAAADgPwAAAAAAAOA/AAAAAAAA4D8AAAAAAADgPwAAAAAAAOA/AAAAAAAA4D8AAAAAAADgPwAAAAAAAOA/AAAAAAAA4D8AAAAAAADgPwAAAAAAAOA/AAAAAAAA4D8AAAAAAADgPwAAAAAAAOA/AAAAAAAA4D8AAAAAAADgPwAAAAAAAOA/AAAAAAAA4D8AAAAAAADgPwAAAAAAAOA/AAAAAAAA4D8AAAAAAADgP////////98/AAAAAAAA4D/////////fPwAAAAAAAOA/AAAAAAAA4D8AAAAAAADgPwAAAAAAAOA/AAAAAAAA4D8AAAAAAADgPwAAAAAAAOA/AAAAAAAA4D8AAAAAAADgPwAAAAAAAOA/AAAAAAAA4D8AAAAAAADgPwAAAAAAAOA/AAAAAAAA4D8AAAAAAADgPwAAAAAAAOA/AAAAAAAA4D8AAAAAAADgPwAAAAAAAOA/AAAAAAAA4D8AAAAAAADgPwAAAAAAAOA/AAAAAAAA4D8AAAAAAADgPwAAAAAAAOA/AAAAAAAA4D8AAAAAAADgPwAAAAAAAOA/AAAAAAAA4D8AAAAAAADgPwAAAAAAAOA/AAAAAAAA4D8AAAAAAADgPwAAAAAAAOA/AAAAAAAA4D8AAAAAAADgPwAAAAAAAOA/AAAAAAAA4D8AAAAAAADgPwAAAAAAAOA/AAAAAAAA4D8AAAAAAADgPwAAAAAAAOA/AAAAAAAA4D8AAAAAAADgPwAAAAAAAOA/AAAAAAAA4D8AAAAAAADgPwAAAAAAAOA/AAAAAAAA4D8AAAAAAADgPwAAAAAAAOA/AAAAAAAA4D8AAAAAAADgPwAAAAAAAOA/KrI+gRAt4D99FryDMYfgP9B6OYZS4eA/I9+2iHM74T92QzSLlJXhP8mnsY217+E/HAwvkNZJ4j9wcKyS96PiP8PUKZUY/uI/FjmnlzlY4z9pnSSaWrLjP7wBopx7DOQ/D2Yfn5xm5D9iypyhvcDkP7YuGqTeGuU/CZOXpv905T9c9xSpIM/lP69bkqtBKeY/AsAPrmKD5j9VJI2wg93mP6iICrOkN+c//OyHtcWR5z9PUQW45uvnPwAAAAAAAOg/AAAAAAAA6D8AAAAAAADoPwAAAAAAAOg/AAAAAAAA6D8AAAAAAADoPwAAAAAAAOg/AAAAAAAA6D8AAAAAAADoPwAAAAAAAOg/AAAAAAAA6D8AAAAAAADoPwAAAAAAAOg/AAAAAAAA6D8=\",\"dtype\":\"float64\",\"shape\":[601]}}},\"id\":\"9f7a7da3-b70e-4128-b5e1-3b910cec9a23\",\"type\":\"ColumnDataSource\"},{\"attributes\":{\"callback\":null,\"column_names\":[\"x\",\"y\"],\"data\":{\"x\":[0,1000,2000,3000,4000,5000,6000,7000,8000,9000,10000,11000,12000,13000,14000,15000,16000,17000,18000,19000,20000,21000,22000,23000,24000,25000,26000,27000,28000,29000,30000,31000,32000,33000,34000,35000,36000,37000,38000,39000,40000,41000,42000,43000,44000,45000,46000,47000,48000,49000,50000,51000,52000,53000,54000,55000,56000,57000,58000,59000,60000,61000,62000,63000,64000,65000,66000,67000,68000,69000,70000,71000,72000,73000,74000,75000,76000,77000,78000,79000,80000,81000,82000,83000,84000,85000,86000,87000,88000,89000,90000,91000,92000,93000,94000,95000,96000,97000,98000,99000,100000,101000,102000,103000,104000,105000,106000,107000,108000,109000,110000,111000,112000,113000,114000,115000,116000,117000,118000,119000,120000,121000,122000,123000,124000,125000,126000,127000,128000,129000,130000,131000,132000,133000,134000,135000,136000,137000,138000,139000,140000,141000,142000,143000,144000,145000,146000,147000,148000,149000,150000,151000,152000,153000,154000,155000,156000,157000,158000,159000,160000,161000,162000,163000,164000,165000,166000,167000,168000,169000,170000,171000,172000,173000,174000,175000,176000,177000,178000,179000,180000,181000,182000,183000,184000,185000,186000,187000,188000,189000,190000,191000,192000,193000,194000,195000,196000,197000,198000,199000,200000,201000,202000,203000,204000,205000,206000,207000,208000,209000,210000,211000,212000,213000,214000,215000,216000,217000,218000,219000,220000,221000,222000,223000,224000,225000,226000,227000,228000,229000,230000,231000,232000,233000,234000,235000,236000,237000,238000,239000,240000,241000,242000,243000,244000,245000,246000,247000,248000,249000,250000,251000,252000,253000,254000,255000,256000,257000,258000,259000,260000,261000,262000,263000,264000,265000,266000,267000,268000,269000,270000,271000,272000,273000,274000,275000,276000,277000,278000,279000,280000,281000,282000,283000,284000,285000,286000,287000,288000,289000,290000,291000,292000,293000,294000,295000,296000,297000,298000,299000,300000,301000,302000,303000,304000,305000,306000,307000,308000,309000,310000,311000,312000,313000,314000,315000,316000,317000,318000,319000,320000,321000,322000,323000,324000,325000,326000,327000,328000,329000,330000,331000,332000,333000,334000,335000,336000,337000,338000,339000,340000,341000,342000,343000,344000,345000,346000,347000,348000,349000,350000,351000,352000,353000,354000,355000,356000,357000,358000,359000,360000,361000,362000,363000,364000,365000,366000,367000,368000,369000,370000,371000,372000,373000,374000,375000,376000,377000,378000,379000,380000,381000,382000,383000,384000,385000,386000,387000,388000,389000,390000,391000,392000,393000,394000,395000,396000,397000,398000,399000,400000,401000,402000,403000,404000,405000,406000,407000,408000,409000,410000,411000,412000,413000,414000,415000,416000,417000,418000,419000,420000,421000,422000,423000,424000,425000,426000,427000,428000,429000,430000,431000,432000,433000,434000,435000,436000,437000,438000,439000,440000,441000,442000,443000,444000,445000,446000,447000,448000,449000,450000,451000,452000,453000,454000,455000,456000,457000,458000,459000,460000,461000,462000,463000,464000,465000,466000,467000,468000,469000,470000,471000,472000,473000,474000,475000,476000,477000,478000,479000,480000,481000,482000,483000,484000,485000,486000,487000,488000,489000,490000,491000,492000,493000,494000,495000,496000,497000,498000,499000,500000,501000,502000,503000,504000,505000,506000,507000,508000,509000,510000,511000,512000,513000,514000,515000,516000,517000,518000,519000,520000,521000,522000,523000,524000,525000,526000,527000,528000,529000,530000,531000,532000,533000,534000,535000,536000,537000,538000,539000,540000,541000,542000,543000,544000,545000,546000,547000,548000,549000,550000,551000,552000,553000,554000,555000,556000,557000,558000,559000,560000,561000,562000,563000,564000,565000,566000,567000,568000,569000,570000,571000,572000,573000,574000,575000,576000,577000,578000,579000,580000,581000,582000,583000,584000,585000,586000,587000,588000,589000,590000,591000,592000,593000,594000,595000,596000,597000,598000,599000,600000],\"y\":{\"__ndarray__\":\"AAAAAAAAAAAAAAAAAAAAAAAAAAAAAAAAAAAAAAAAAAAAAAAAAAAAAAAAAAAAAAAAAAAAAAAAAAAAAAAAAAAAAAAAAAAAAAAAAAAAAAAAAAAAAAAAAAAAAAAAAAAAAAAAAAAAAAAAAAAAAAAAAAAAAAAAAAAAAAAAAAAAAAAAAAAAAAAAAAAAAAAAAAAAAAAAAAAAAAAAAAAAAAAAAAAAAAAAAAAAAAAAAAAAAAAAAAAAAAAAAAAAAAAAAAAAAAAAAAAAAAAAAAAAAAAAAAAAAAAAAAAAAAAAAAAAAAAAAAAAAAAAAAAAAAAAAAAAAAAAAAAAAAAAAAAAAAAAAAAAAAAAAAAAAAAAAAAAAAAAAAAAAAAAAAAAAAAAAAAAAAAAAAAAAAAAAAAAAAAAAAAAAAAAAAAAAAAAAAAAAAAAAAAAAAAAAAAAAAAAAAAAAAAAAAAAAAAAAAAAAAAAAAAAAAAAAAAAAAAAAAAAAAAAAAAAAAAAAAAAAAAAAAAAAAAAAAAAAAAAAAAAAAAAAAAAAAAAAAAAAAAAAAAAAAAAAAAAAAAAAAAAAAAAAAAAAAAAAAAAAAAAAAAAAAAAAAAAAAAAAAAAAAAAAAAAAAAAAAAAAAAAAAAAAAAAAAAAAAAAAAAAAAAAAAAAAAAAAAAAAAAAAAAAAAAAAAAAAAAAAAAAAAAAAAAAAAAAAAAAAAAAAAAAAAAAAAAAAAAAAAAAAAAAAAAAAAAAAAAAAAAAAAAAAAAAAAAAAAAAAAAAAAAAAAAAAAAAAAAAAAAAAAAAAAAAAAAAAAAAAAAAAAAAAAAAAAAAAAAAAAAAAAAAAAAAAAAAAAAAAAAAAAAAAAAAAAAAAAAAAAAAAAAAAAAAAAAAAAAAAAAAAAAAAAAAAAAAAAAAAAAAAAAAAAAAAAAAAAAAAAAAAAAAAAAAAAAAAAAAAAAAAAAAAAAAAAAAAAAAAAAAAAAAAAAAAAAAAAAAAAAAAAAAAAAAAAAAAAAAAAAAAAAAAAAAAAAAAAAAAAAAAAAAAAAAAAAAAAAAAAAAAAAAAAAAAAAAAAAAAAAAAAAAAAAAAAAAAAAAAAAAAAAAAAAAAAAAAAAAAAAAAAAAAAAAAAAAAAAAAAAAAAAAAAAAAAAAAAAAAAAAAAAAAAAAAAAAAAAAAAAAAAAAAAAAAAAAAAAAAAAAAAAAAAAAAAAAAAAAAAAAAAAAAAAAAAAAAAAAAAAAAAAAAAAAAAAAAAAAAAAAAAAAAAAAAAAAAAAAAAAAAAAAAAAAAAAAAAAAAAAAAAAAAAAAAAAAAAAAAAAAAAAAAAAAMAvBLASzgD/JkCFDhgyZP/xN8TfF36Q/ldNRTkc5rT+WLFmyZMmyP2Nvib0l9rY/L7K5yOYiuz/79OnTp0+/P+MbjW80vsE/ST0l9ZTUwz+wXr169erFPxaAVQBWAcg/fKHthbYXyj/iwoULFy7MP0jkHZF3RM4/AAAAAAAA0D8AAAAAAADQPwAAAAAAANA/AAAAAAAA0D8AAAAAAADQPwAAAAAAANA/AAAAAAAA0D8AAAAAAADQPwAAAAAAANA/AAAAAAAA0D8AAAAAAADQPwAAAAAAANA/AAAAAAAA0D8AAAAAAADQPwAAAAAAANA/AAAAAAAA0D8AAAAAAADQPwAAAAAAANA/AAAAAAAA0D8AAAAAAADQPwAAAAAAANA/AAAAAAAA0D8AAAAAAADQPwAAAAAAANA/AAAAAAAA0D8AAAAAAADQPwAAAAAAANA/AAAAAAAA0D8AAAAAAADQP////////88/AAAAAAAA0D8AAAAAAADQP////////88/AAAAAAAA0D+PYqkCfF7RP6wn/Ad0G9Q/yexODWzY1j/msaESZJXZPwJ39BdcUtw/IDxHHVQP3z+fAE0RJubgPy5j9hOiROI/vMWfFh6j4z9KKEkZmgHlP8jQ2YUMneU/kl7iJOkl5j9c7OrDxa7mPyZ682KiN+c/8Af8AX/A5z8AAAAAAADoPwAAAAAAAOg/AAAAAAAA6D8AAAAAAADoPwAAAAAAAOg/AAAAAAAA6D8AAAAAAADoPwAAAAAAAOg/AAAAAAAA6D8AAAAAAADoPwAAAAAAAOg/AAAAAAAA6D8AAAAAAADoPwAAAAAAAOg/AAAAAAAA6D8AAAAAAADoPwAAAAAAAOg/AAAAAAAA6D8AAAAAAADoPwAAAAAAAOg/AAAAAAAA6D8AAAAAAADoPwAAAAAAAOg/AAAAAAAA6D8AAAAAAADoPwAAAAAAAOg/AAAAAAAA6D8AAAAAAADoPwAAAAAAAOg/AAAAAAAA6D8AAAAAAADoPwAAAAAAAOg/AAAAAAAA6D8AAAAAAADoPwAAAAAAAOg/AAAAAAAA6D8AAAAAAADoPwAAAAAAAOg/AAAAAAAA6D8AAAAAAADoPwAAAAAAAOg/AAAAAAAA6D8AAAAAAADoPwAAAAAAAOg/AAAAAAAA6D8AAAAAAADoPwAAAAAAAOg/AAAAAAAA6D8AAAAAAADoPwAAAAAAAOg/AAAAAAAA6D8AAAAAAADoPwAAAAAAAOg/AAAAAAAA6D8AAAAAAADoPwAAAAAAAOg/AAAAAAAA6D8AAAAAAADoPwAAAAAAAOg/AAAAAAAA6D8AAAAAAADoPwAAAAAAAOg/AAAAAAAA6D8AAAAAAADoPwAAAAAAAOg/AAAAAAAA6D8AAAAAAADoPwAAAAAAAOg/AAAAAAAA6D8AAAAAAADoPwAAAAAAAOg/AAAAAAAA6D8AAAAAAADoPwAAAAAAAOg/AAAAAAAA6D8AAAAAAADoPwAAAAAAAOg/AAAAAAAA6D8AAAAAAADoPwAAAAAAAOg/AAAAAAAA6D8AAAAAAADoPwAAAAAAAOg/AAAAAAAA6D8AAAAAAADoPwAAAAAAAOg/AAAAAAAA6D8AAAAAAADoPwAAAAAAAOg/AAAAAAAA6D8AAAAAAADoPwAAAAAAAOg/AAAAAAAA6D8AAAAAAADoPwAAAAAAAOg/AAAAAAAA6D8AAAAAAADoPwAAAAAAAOg/AAAAAAAA6D8AAAAAAADoPwAAAAAAAOg/AAAAAAAA6D8AAAAAAADoPwAAAAAAAOg/AAAAAAAA6D8AAAAAAADoPwAAAAAAAOg/AAAAAAAA6D8AAAAAAADoPwAAAAAAAOg/AAAAAAAA6D8AAAAAAADoPwAAAAAAAOg/AAAAAAAA6D8AAAAAAADoPwAAAAAAAOg/AAAAAAAA6D8AAAAAAADoPwAAAAAAAOg/AAAAAAAA6D8AAAAAAADoPwAAAAAAAOg/AAAAAAAA6D8AAAAAAADoPwAAAAAAAOg/AAAAAAAA6D8AAAAAAADoPwAAAAAAAOg/AAAAAAAA6D8AAAAAAADoPwAAAAAAAOg/AAAAAAAA6D8AAAAAAADoPwAAAAAAAOg/AAAAAAAA6D8AAAAAAADoPwAAAAAAAOg/AAAAAAAA6D8AAAAAAADoPwAAAAAAAOg/AAAAAAAA6D8AAAAAAADoPwAAAAAAAOg/AAAAAAAA6D8AAAAAAADoPwAAAAAAAOg/AAAAAAAA6D8AAAAAAADoPwAAAAAAAOg/AAAAAAAA6D8AAAAAAADoPwAAAAAAAOg/AAAAAAAA6D8AAAAAAADoPwAAAAAAAOg/AAAAAAAA6D8AAAAAAADoPwAAAAAAAOg/AAAAAAAA6D8AAAAAAADoPwAAAAAAAOg/AAAAAAAA6D8AAAAAAADoPwAAAAAAAOg/AAAAAAAA6D8AAAAAAADoPwAAAAAAAOg/AAAAAAAA6D8AAAAAAADoPwAAAAAAAOg/AAAAAAAA6D/////////nPwAAAAAAAOg/AAAAAAAA6D8AAAAAAADoPwAAAAAAAOg/AAAAAAAA6D8AAAAAAADoPwAAAAAAAOg/AAAAAAAA6D8AAAAAAADoP+yCsAvCLug/xIgRI0aM6D+djnI6yunoP3WU01FOR+k/TZo0adKk6T8loJWAVgLqP/6l9pfaX+o/1qtXr1696j+usbjG4hrrP4a3Gd5meOs/X7169erV6z83w9sMbzPsPw/JPCTzkOw/6M6dO3fu7D/A1P5S+0vtP5jaX2p/qe0/cODAgQMH7j9I5iGZh2TuPyHsgrALwu4/+fHjx48f7z/R90TfE33vP6r9pfaX2u8/AAAAAAAA8D8AAAAAAADwPwAAAAAAAPA/AAAAAAAA8D8AAAAAAADwPwAAAAAAAPA/AAAAAAAA8D8AAAAAAADwPwAAAAAAAPA/AAAAAAAA8D8AAAAAAADwPwAAAAAAAPA/AAAAAAAA8D8AAAAAAADwPwAAAAAAAPA/AAAAAAAA8D8AAAAAAADwPwAAAAAAAPA/AAAAAAAA8D8AAAAAAADwPwAAAAAAAPA/AAAAAAAA8D8AAAAAAADwPwAAAAAAAPA/AAAAAAAA8D8AAAAAAADwPwAAAAAAAPA/AAAAAAAA8D8AAAAAAADwPwAAAAAAAPA/AAAAAAAA8D8AAAAAAADwPwAAAAAAAPA/AAAAAAAA8D8AAAAAAADwPwAAAAAAAPA/AAAAAAAA8D8AAAAAAADwPyx70Zy42+8/F780GiGI7z8CA5iXiTTvP+5G+xTy4O4/2IpeklqN7j/EzsEPwznuP68SJY0r5u0/mlaICpSS7T+FmuuH/D7tP3DeTgVl6+w/WyKygs2X7D9GZhUANkTsPzGqeH2e8Os/HO7b+gad6z8IMj94b0nrP/N1ovXX9eo/3rkFc0Ci6j/J/WjwqE7qP7RBzG0R++k/n4Uv63mn6T+KyZJo4lPpP3UN9uVKAOk/YFFZY7Os6D9MlbzgG1noPzfZH16EBeg/ub5dC2Vh6D8WtYNo7nvoP0mecM6dkOg/e4ddNE2l6D+ucEqa/LnoP+BZNwCszug/E0MkZlvj6D9FLBHMCvjoP3gV/jG6DOk/qv7ql2kh6T/d59f9GDbpPw/RxGPISuk/QrqxyXdf6T91o54vJ3TpP6eMi5XWiOk/2nV4+4Wd6T8MX2VhNbLpPz5IUsfkxuk/cTE/LZTb6T+dF5dFm9HpP4hb+sIDfuk/dJ9dQGwq6T9f48C91NboP0onJDs9g+g/NWuHuKUv6D8AAAAAAADoPwAAAAAAAOg/AAAAAAAA6D8AAAAAAADoPwAAAAAAAOg/AAAAAAAA6D8AAAAAAADoPwAAAAAAAOg/AAAAAAAA6D8AAAAAAADoPwAAAAAAAOg/AAAAAAAA6D8AAAAAAADoPwAAAAAAAOg/AAAAAAAA6D8AAAAAAADoPwAAAAAAAOg/AAAAAAAA6D8AAAAAAADoPwAAAAAAAOg/AAAAAAAA6D8AAAAAAADoPwAAAAAAAOg/AAAAAAAA6D8AAAAAAADoPwAAAAAAAOg/bPNA5gfv5z9WN6RjcJvnP0J7B+HYR+c/Lb9qXkH05j8YA87bqaDmPwNHMVkSTeY/7oqU1nr55T/ZzvdT46XlP8QSW9FLUuU/r1a+TrT+5D+amiHMHKvkP4behEmFV+Q/cCLoxu0D5D9cZktEVrDjP0eqrsG+XOM/Mu4RPycJ4z8dMnW8j7XiPwh22Dn4YeI/87k7t2AO4j/e/Z40ybrhP8lBArIxZ+E/tIVlL5oT4T+gycisAsDgP4wg7IiFsOA/kpxJEk/74D/sMEGl0r/hP6bUnGfDt+I/X3j4KbSv4z8ZHFTspKfkP9K/r66Vn+U/jGMLcYaX5j9FB2czd4/nP/+qwvVnh+g/uE4euFh/6T9y8nl6SXfqPyuW1Tw6b+s/djy0qWzu6z8A7HjdZPTrP4qbPRFd+us/E0sCRVUA7D+d+sZ4TQbsPyaqi6xFDOw/sFlQ4D0S7D86CRUUNhjsP8O42UcuHuw/TGieeyYk7D/XF2OvHirsP2DHJ+MWMOw/77MLiE2l6z/FO9KCHv7qP5vDmH3vVuo/cUtfeMCv6T9H0yVzkQjpPx1b7G1iYeg/8+KyaDO65z/KanljBBPnP6DyP17Va+Y/d3oGWabE5T9MAs1Tdx3lPyOKk05IduQ/+RFaSRnP4z/r9FY8FkPkP58m2b9bt+Q/VFhbQ6Er5T8Iit3G5p/lP767X0osFOY/c+3hzXGI5j8nH2RRt/zmP9xQ5tT8cOc/kIJoWELl5z9FtOrbh1noPxawV0aBN+g/rMnnBSRC6D/V3ujy/AbpP/7z6d/Vy+k/JwnrzK6Q6j9QHuy5h1XrP3oz7aZgGuw/o0jukznf7D/MXe+AEqTtP/Zy8G3raO4/H4jxWsQt7z9InfJHnfLvPwAAAAAAAPA/AAAAAAAA8D8AAAAAAADwPwAAAAAAAPA/AAAAAAAA8D8AAAAAAADwPwAAAAAAAPA/AAAAAAAA8D8AAAAAAADwPwAAAAAAAPA/AAAAAAAA8D8AAAAAAADwPwAAAAAAAPA/AAAAAAAA8D8=\",\"dtype\":\"float64\",\"shape\":[601]}}},\"id\":\"e8f0de64-fe23-4a15-85c4-4ca3db99d85e\",\"type\":\"ColumnDataSource\"},{\"attributes\":{\"label\":{\"value\":\"Bandit\"},\"renderers\":[{\"id\":\"84b1b53c-5634-48ce-9c27-a9b2cdd2d530\",\"type\":\"GlyphRenderer\"}]},\"id\":\"4672cfe4-5e99-4a3e-871c-ee1e6fc997af\",\"type\":\"LegendItem\"},{\"attributes\":{\"plot\":{\"id\":\"8252cf6d-126a-4cf3-9392-9795fe74116d\",\"subtype\":\"Figure\",\"type\":\"Plot\"}},\"id\":\"bbf6c97e-7961-48b8-a82b-2f10bd75732f\",\"type\":\"WheelZoomTool\"},{\"attributes\":{\"plot\":{\"id\":\"8252cf6d-126a-4cf3-9392-9795fe74116d\",\"subtype\":\"Figure\",\"type\":\"Plot\"}},\"id\":\"3452b6b6-4d9a-4298-896b-c7e445d9739b\",\"type\":\"PanTool\"},{\"attributes\":{\"data_source\":{\"id\":\"54885d20-7c31-4457-ba0e-d31cd98d24e8\",\"type\":\"ColumnDataSource\"},\"glyph\":{\"id\":\"86fbabd6-b3a4-4237-9d23-cf147ec813dc\",\"type\":\"Line\"},\"hover_glyph\":null,\"nonselection_glyph\":{\"id\":\"4ab86376-c655-43fc-a477-c00e0d1eb9f3\",\"type\":\"Line\"},\"selection_glyph\":null},\"id\":\"526327d3-2fd0-4742-be9c-51def039d6dc\",\"type\":\"GlyphRenderer\"},{\"attributes\":{\"use_scientific\":false},\"id\":\"06e8f2ca-4e11-4fb4-a79f-ebce25e2e7a6\",\"type\":\"BasicTickFormatter\"},{\"attributes\":{\"line_alpha\":{\"value\":0.1},\"line_color\":{\"value\":\"#1f77b4\"},\"line_width\":{\"value\":2},\"x\":{\"field\":\"x\"},\"y\":{\"field\":\"y\"}},\"id\":\"4ab86376-c655-43fc-a477-c00e0d1eb9f3\",\"type\":\"Line\"},{\"attributes\":{\"callback\":null,\"column_names\":[\"x\",\"y\"],\"data\":{\"x\":[0,1000,2000,3000,4000,5000,6000,7000,8000,9000,10000,11000,12000,13000,14000,15000,16000,17000,18000,19000,20000,21000,22000,23000,24000,25000,26000,27000,28000,29000,30000,31000,32000,33000,34000,35000,36000,37000,38000,39000,40000,41000,42000,43000,44000,45000,46000,47000,48000,49000,50000,51000,52000,53000,54000,55000,56000,57000,58000,59000,60000,61000,62000,63000,64000,65000,66000,67000,68000,69000,70000,71000,72000,73000,74000,75000,76000,77000,78000,79000,80000,81000,82000,83000,84000,85000,86000,87000,88000,89000,90000,91000,92000,93000,94000,95000,96000,97000,98000,99000,100000,101000,102000,103000,104000,105000,106000,107000,108000,109000,110000,111000,112000,113000,114000,115000,116000,117000,118000,119000,120000,121000,122000,123000,124000,125000,126000,127000,128000,129000,130000,131000,132000,133000,134000,135000,136000,137000,138000,139000,140000,141000,142000,143000,144000,145000,146000,147000,148000,149000,150000,151000,152000,153000,154000,155000,156000,157000,158000,159000,160000,161000,162000,163000,164000,165000,166000,167000,168000,169000,170000,171000,172000,173000,174000,175000,176000,177000,178000,179000,180000,181000,182000,183000,184000,185000,186000,187000,188000,189000,190000,191000,192000,193000,194000,195000,196000,197000,198000,199000,200000,201000,202000,203000,204000,205000,206000,207000,208000,209000,210000,211000,212000,213000,214000,215000,216000,217000,218000,219000,220000,221000,222000,223000,224000,225000,226000,227000,228000,229000,230000,231000,232000,233000,234000,235000,236000,237000,238000,239000,240000,241000,242000,243000,244000,245000,246000,247000,248000,249000,250000,251000,252000,253000,254000,255000,256000,257000,258000,259000,260000,261000,262000,263000,264000,265000,266000,267000,268000,269000,270000,271000,272000,273000,274000,275000,276000,277000,278000,279000,280000,281000,282000,283000,284000,285000,286000,287000,288000,289000,290000,291000,292000,293000,294000,295000,296000,297000,298000,299000,300000,301000,302000,303000,304000,305000,306000,307000,308000,309000,310000,311000,312000,313000,314000,315000,316000,317000,318000,319000,320000,321000,322000,323000,324000,325000,326000,327000,328000,329000,330000,331000,332000,333000,334000,335000,336000,337000,338000,339000,340000,341000,342000,343000,344000,345000,346000,347000,348000,349000,350000,351000,352000,353000,354000,355000,356000,357000,358000,359000,360000,361000,362000,363000,364000,365000,366000,367000,368000,369000,370000,371000,372000,373000,374000,375000,376000,377000,378000,379000,380000,381000,382000,383000,384000,385000,386000,387000,388000,389000,390000,391000,392000,393000,394000,395000,396000,397000,398000,399000,400000,401000,402000,403000,404000,405000,406000,407000,408000,409000,410000,411000,412000,413000,414000,415000,416000,417000,418000,419000,420000,421000,422000,423000,424000,425000,426000,427000,428000,429000,430000,431000,432000,433000,434000,435000,436000,437000,438000,439000,440000,441000,442000,443000,444000,445000,446000,447000,448000,449000,450000,451000,452000,453000,454000,455000,456000,457000,458000,459000,460000,461000,462000,463000,464000,465000,466000,467000,468000,469000,470000,471000,472000,473000,474000,475000,476000,477000,478000,479000,480000,481000,482000,483000,484000,485000,486000,487000,488000,489000,490000,491000,492000,493000,494000,495000,496000,497000,498000,499000,500000,501000,502000,503000,504000,505000,506000,507000,508000,509000,510000,511000,512000,513000,514000,515000,516000,517000,518000,519000,520000,521000,522000,523000,524000,525000,526000,527000,528000,529000,530000,531000,532000,533000,534000,535000,536000,537000,538000,539000,540000,541000,542000,543000,544000,545000,546000,547000,548000,549000,550000,551000,552000,553000,554000,555000,556000,557000,558000,559000,560000,561000,562000,563000,564000,565000,566000,567000,568000,569000,570000,571000,572000,573000,574000,575000,576000,577000,578000,579000,580000,581000,582000,583000,584000,585000,586000,587000,588000,589000,590000,591000,592000,593000,594000,595000,596000,597000,598000,599000,600000],\"y\":{\"__ndarray__\":\"AAAAAAAAAAAAAAAAAAAAAAAAAAAAAAAAAAAAAAAAAAAAAAAAAAAAAAAAAAAAAAAAAAAAAAAAAAAAAAAAAAAAAAAAAAAAAAAAAAAAAAAAAAAAAAAAAAAAAAAAAAAAAAAAAAAAAAAAAAAAAAAAAAAAAAAAAAAAAAAAAAAAAAAAAAAAAAAAAAAAAAAAAAAAAAAAAAAAAAAAAAAAAAAAAAAAAAAAAAAAAAAAAAAAAAAAAAAAAAAAAAAAAAAAAAAAAAAAAAAAAAAAAAAAAAAAAAAAAAAAAAAAAAAAAAAAAAAAAAAAAAAAAAAAAAAAAAAAAAAAAAAAAAAAAAAAAAAAAAAAAAAAAAAAAAAAAAAAAAAAAAAAAAAAAAAAAAAAAAAAAAAAAAAAAAAAAAAAAAAAAAAAAAAAAAAAAAAAAAAAAAAAAAAAAAAAAAAAAAAAAAAAAAAAAAAAAAAAAAAAAAAAAAAAAAAAAAAAAAAAAAAAAAAAAAAAAAAAAAAAAAAAAAAAAAAAAAAAAAAAAAAAAAAAAAAAAAAAAAAAAAAAAAAAAAAAAAAAAAAAAAAAAAAAAAAAAAAAAAAAAAAAAAAAAAAAAAAAAAAAAAAAAAAAAAAAAAAAAAAAAAAAAAAAAAAAAAAAAAAAAAAAAAAAAAAAAAAAAAAAAAAAAAAAAAAAAAAAAAAAAAAAAAAAAAAAAAAAAAAAAAAAAAAAAAAAAAAAAAAAAAAAAAAAAAAAAAAAAAAAAAAAAAAAAAAAAAAAAAAAAAAAAAAAAAAAAAAAAAAAAAAAAAAAAAAAAAAAAAAAAAAAAAAAAAAAAAAAAAAAAAAAAAAAAAAAAAAAAAAAAAAAAAAAAAAAAAAAAAAAAAAAAAAAAAAAAAAAAAAAAAAAAAAAAAAAAAAAAAAAAAAAAAAAAAAAAAAAAAAAAAAAAAAAAAAAAAAAAAAAAAAAAAAAAAAAAAAAAAAAAAAAAAAAAAAAAAAAAAAAAAAAAAAAAAAAAAAAAAAAAAAAAAAAAAAAAAAAAAAAAAAAAAAAAAAAAAAAAAAAAAAAAAAAAAAAAAAAAAAAAAAAAAAAAAAAAAAAAAAAAAAAAAAAAAAAAAAAAAAAAAAAAAAAAAAAAAAAAAAAAAAAAAAAAAAAAAAAAAAAAAAAAAAAAAAAAAAAAAAAAAAAAAAAAAAAAAAAAAAAAAAAAAAAAAAAAAAAAAAAAAAAAAAAAAAAAAAAAAAAAAAAAAAAAAAAAAAAAAAAAAAAAAAAAAAAAAAAAAAAAAAAAAAAAAAAAAAAAAAAAAAAAAAAAAAAAAAAAAAAAAAAAAAAAAAAAAAAAAAAAAAAAAAAAAAAAAAAAAAAAAAAAAAAAAAAAAAAAAAAAAAAAAAAAAAAAAAAAAAAAAAAAAAAAAAAAAAAAAAAAAAAAAAAAAAAAAAAAAAAAAAAAAAAAAAAAAAAAAAAAAAAAAAAAAAAAAAAAAAAAAAAAAAAAAAAAAAAAAAAAAAAAAAAAAAAAAAAAAAAAAAAAAAAAAAAAAAAAAAAAAAAAAAAAAAAAAAAAAAAAAAAAAAAAAAAAAAAAAAAAAAAAAAAAAAAAAAAAAAAAAAAAAAAAAAAAAAAAAAAAAAAAAAAAAAAAAAAAAAAAAAAAAAAAAAAAAAAAAAAAAAAAAAAAAAAAAAAAAAAAAAAAAAAAAAAAAAAAAAAAAAAAAAAAAAAAAAAAAAAAAAAAAAAAAAAAAAAAAAAAAAAAAAAAAAAAAAAAAAAAAAAAAAAAAAAAAAAAAAAAAAAAAAAAAAAAAAAAAAAAAAAAAAAAAAAAAAAAAAAAAAAAAAAAAAAAAAAAAAAAAAAAAAAAAAAAAAAAAAAAAAAAAAAAAAAAAAAAAAAAAAAAAAAAAAAAAAAAAAAAAAAAAAAAAAAAAAAAAAAAAAAAAAAAAAAAAAAAAAAAAAAAAAAAAAAAAAAAAAAAAAAAAAAAAAAAAAAAAAAAAAAAAAAAAAAAAAAAAAAAAAAAAAAAAAAAAAAAAAAAAAAAAAAAAAAAAAAAAAAAAAAAAAAAAAAAAAAAAAAAAAAAAAAAAAAAAAAAAAAAAAAAAAAAAAAAAAAAAAAAAAAAAAAAAAAAAAAAAAAAAAAAAAAAAAAAAAAAAAAAAAAAAAAAAAAAAAAAAAAAAAAAAAAAAAAAAAAAAAAAAAAAAAAAAAAAAAAAAAAAAAAAAAAAAAAAAAAAAAAAAAAAAAAAAAAAAAAAAAAAAAAAAAAAAAAAAAAAAAAAAAAAAAAAAAAAAAAAAAAAAAAAAAAAAAAAAAAAAAAAAAAAAAAAAAAAAAAAAAAAAAAAAAAAAAAAAAAAAAAAAAAAAAAAAAAAAAAAAAAAAAAAAAAAAAAAAAAAGLkBtbuqY4/SiuFIHP/pj++TsRFNSqzP9YHRvuw1Lo/d+BjWJY/wT8EvSQz1BTFP5CZ5Q0S6sg/HHam6E+/zD9UqbPhRkrQP5oXFM/lNNI/4IV0vIQf1D8m9NSpIwrWP2xiNZfC9Nc/s9CVhGHf2T/5PvZxAMrbPz+tVl+ftN0/aa7AA1xb3z9dJUoaV8zfPzStEBUoJd8/CjXXD/l93j/gvJ0KytbdP7ZEZAWbL90/jMwqAGyI3D9jVPH6POHbPznct/UNOts/D2R+8N6S2j/m60Trr+vZP7xzC+aARNk/kvvR4FGd2D9og5jbIvbXPz4LX9bzTtc/FJMl0cSn1j/rGuzLlQDWP8GissZmWdU/lip5wTey1D9tsj+8CAvUP0Q6BrfZY9M/GsLMsaq80j/wSZOsexXSP8bRWadMbtE/nFkgoh3H0D9y4eac7h/QP5UVHcw7vNA/zGoUceik0T8EwAsWlY3SPzsVA7tBdtM/c2r6X+5e1D+qv/EEm0fVP+IU6alHMNY/GmrgTvQY1z9Sv9fzoAHYP4gUz5hN6tg/wGnGPfrS2T/4vr3iprvaPzAUtYdTpNs/Z2msLACN3D+evqPRrHXdP9YTm3ZZXt4/DmmSGwZH3z8AAAAAAADgPwAAAAAAAOA/AAAAAAAA4D8AAAAAAADgPwAAAAAAAOA/AAAAAAAA4D8AAAAAAADgPwAAAAAAAOA/AAAAAAAA4D8AAAAAAADgPwAAAAAAAOA/AAAAAAAA4D8AAAAAAADgPwAAAAAAAOA/AAAAAAAA4D8AAAAAAADgPwAAAAAAAOA/AAAAAAAA4D8AAAAAAADgPwAAAAAAAOA/AAAAAAAA4D8AAAAAAADgPwAAAAAAAOA/AAAAAAAA4D8AAAAAAADgPwAAAAAAAOA/AAAAAAAA4D8AAAAAAADgPwAAAAAAAOA/AAAAAAAA4D8AAAAAAADgPwAAAAAAAOA/AAAAAAAA4D8AAAAAAADgPwAAAAAAAOA/AAAAAAAA4D8AAAAAAADgPwAAAAAAAOA/AAAAAAAA4D8AAAAAAADgPwAAAAAAAOA/AAAAAAAA4D8AAAAAAADgPwAAAAAAAOA/AAAAAAAA4D8AAAAAAADgPwAAAAAAAOA/AAAAAAAA4D8AAAAAAADgPwAAAAAAAOA/AAAAAAAA4D8AAAAAAADgPwAAAAAAAOA/AAAAAAAA4D8AAAAAAADgPwAAAAAAAOA/AAAAAAAA4D8AAAAAAADgPwAAAAAAAOA/AAAAAAAA4D8AAAAAAADgPwAAAAAAAOA/AAAAAAAA4D8AAAAAAADgPwAAAAAAAOA/AAAAAAAA4D8AAAAAAADgPwAAAAAAAOA/AAAAAAAA4D8AAAAAAADgPwAAAAAAAOA/AAAAAAAA4D8AAAAAAADgPwAAAAAAAOA/AAAAAAAA4D8AAAAAAADgPwAAAAAAAOA/AAAAAAAA4D8AAAAAAADgPwAAAAAAAOA/AAAAAAAA4D8AAAAAAADgPwAAAAAAAOA/AAAAAAAA4D8AAAAAAADgPwAAAAAAAOA/AAAAAAAA4D8AAAAAAADgPwAAAAAAAOA/AAAAAAAA4D8AAAAAAADgPwAAAAAAAOA/AAAAAAAA4D8AAAAAAADgPwAAAAAAAOA/AAAAAAAA4D8AAAAAAADgPwAAAAAAAOA/AAAAAAAA4D8AAAAAAADgPwAAAAAAAOA/AAAAAAAA4D8AAAAAAADgPwAAAAAAAOA/AAAAAAAA4D8AAAAAAADgPwAAAAAAAOA/AAAAAAAA4D8AAAAAAADgPwAAAAAAAOA/AAAAAAAA4D8AAAAAAADgPwAAAAAAAOA/AAAAAAAA4D8AAAAAAADgPwAAAAAAAOA/AAAAAAAA4D8AAAAAAADgPwAAAAAAAOA/AAAAAAAA4D8AAAAAAADgPwAAAAAAAOA/AAAAAAAA4D8AAAAAAADgPxNpJu1u6t8/6vDs5z9D3z/AeLPiEJzeP5YAet3h9N0/bIhA2LJN3T9CEAfTg6bcPxiYzc1U/9s/7h+UyCVY2z/Fp1rD9rDaP5svIb7HCdo/cLfnuJhi2T9IP66zabvYPx7HdK46FNg/JKG5E/IM2D9bzXzjj6XYP5H5P7MtPtk/yCUDg8vW2T8AUsZSaW/aPzZ+iSIHCNs/bKpM8qSg2z+j1g/CQjncP9oC05Hg0dw/Ei+WYX5q3T9IW1kxHAPeP36HHAG6m94/AbyK8O9V4D8dWWP+G17hP5T5Zj8INeI/DJpqgPQL4z+DOm7B4OLjP/vacQLNueQ/cnt1Q7mQ5T/qG3mEpWfmP2G8fMWRPuc/AAAAAAAA6D8AAAAAAADoPwAAAAAAAOg/AAAAAAAA6D8AAAAAAADoPwAAAAAAAOg/AAAAAAAA6D8AAAAAAADoPwAAAAAAAOg/AAAAAAAA6D8AAAAAAADoPwAAAAAAAOg/AAAAAAAA6D8AAAAAAADoPwAAAAAAAOg/AAAAAAAA6D8AAAAAAADoPwAAAAAAAOg/AAAAAAAA6D8AAAAAAADoPwAAAAAAAOg/AAAAAAAA6D8AAAAAAADoPwAAAAAAAOg/AAAAAAAA6D8AAAAAAADoPwAAAAAAAOg/aXdTnwza5z9Uu7YcdYbnP0D/GZrdMuc/KkN9F0bf5j8Wh+CUrovmPwHLQxIXOOY/7A6nj3/k5T/XUgoN6JDlPy/4RhY3AuU/BYANEQhb5D/bB9QL2bPjP7KPmgaqDOM/iBdhAXtl4j9enyf8S77hPzUn7vYcF+E/C6+08e1v4D/CbfbYfZHfP259g84fQ94/Go0QxMH03D/GnJ25Y6bbP3SsKq8FWNo/H7y3pKcJ2T/My0SaSbvXP3jb0Y/rbNY/JetehY0e1T+eojDTwczVPx13+9d7k9Y/m0vG3DVa1z8aIJHh7yDYP5n0W+ap59g/GMkm62Ou2T+WnfHvHXXaPybzbFpzXts/zj9xZFzM3D92jHVuRTreP3aYUF+wdN8/Lked4VIl3z8Ez2PcI37eP9pWKtf01t0/sN7w0cUv3T+GZrfMlojcP1zufcdn4ds/M3ZEwjg62z8J/gq9CZPaP+CF0bfa69k/tg2YsqtE2T+MlV6tfJ3YP2IdJahN9tc/OKXroh5P1z8OLbKd76fWP+S0eJjAANY/uzw/k5FZ1T+RxAWOYrLUP2dMzIgzC9Q/PdSSgwRk0z8UXFl+1bzSP+rjH3mmFdI/wGvmc3du0T+W86xuSMfQP2x7c2kZINA/KUV4Ab6s0D92YPs1iILRP8J7fmpSWNI/DpcBnxwu0z9bsoTT5gPUP6fNBwix2dQ/8+iKPHuv1T9ABA5xRYXWP4wfkaUPW9c/2DoU2tkw2D8kVpcOpAbZP3FxGkNu3Nk/voyddziy2j8KqCCsAojbP1bDo+DMXdw/ot4mFZcz3T/v+alJYQnePzwVLX4r394/iDCwsvW03z/////////fPwAAAAAAAOA/1vjCNyBA4D/mUS+e6XXhP/aqmwSzq+I/BwQIa3zh4z8XXXTRRRflPyi24DcPTeY/OA9NntiC5z8AAAAAAADoPwAAAAAAAOg/AAAAAAAA6D8AAAAAAADoPwAAAAAAAOg/AAAAAAAA6D8AAAAAAADoPwAAAAAAAOg/AAAAAAAA6D8AAAAAAADoPwAAAAAAAOg/AAAAAAAA6D8AAAAAAADoPwAAAAAAAOg/AAAAAAAA6D8AAAAAAADoPwAAAAAAAOg/VpRP0Kj95z9A2LJNEarnPywcFst5Vuc/F2B5SOIC5z/B5kuI73HmP5huEoPAyuU/bvbYfZEj5T9Efp94YnzkPxoGZnMz1eM/8I0sbgQu4z/HFfNo1YbiP52duWOm3+E/cyWAXnc44T9JrUZZSJHgPz9qGqgy1N8/7HmnndSF3j+YiTSTdjfdP0SZwYgY6ds/8KhOfrqa2j/CsY+aBqrYP0VJ44p5tNY/x+A2e+y+1D9KeIprX8nSP8wP3lvS09A/n05jmIq8zT9U1ekf7O/LPy8y8hFACMw/C4/6A5QgzD9UKbPkihDNP5s9MmcyYdA/jOYKXB860j8=\",\"dtype\":\"float64\",\"shape\":[601]}}},\"id\":\"3d774bff-f67d-4755-a48f-aca94e453835\",\"type\":\"ColumnDataSource\"},{\"attributes\":{\"overlay\":{\"id\":\"c7414c35-db69-4a0e-bb37-104fe7d73ef2\",\"type\":\"BoxAnnotation\"},\"plot\":{\"id\":\"8252cf6d-126a-4cf3-9392-9795fe74116d\",\"subtype\":\"Figure\",\"type\":\"Plot\"}},\"id\":\"519eb1ed-5436-4ca9-bb61-976778476a99\",\"type\":\"BoxZoomTool\"},{\"attributes\":{\"label\":{\"value\":\"MinusPseudoReward\"},\"renderers\":[{\"id\":\"526327d3-2fd0-4742-be9c-51def039d6dc\",\"type\":\"GlyphRenderer\"}]},\"id\":\"7911e53b-82ab-4853-90c3-68e4b740ad4d\",\"type\":\"LegendItem\"},{\"attributes\":{\"plot\":{\"id\":\"8252cf6d-126a-4cf3-9392-9795fe74116d\",\"subtype\":\"Figure\",\"type\":\"Plot\"}},\"id\":\"96f5a32d-7f20-4b39-94a3-4b5de0435fde\",\"type\":\"HelpTool\"},{\"attributes\":{\"label\":{\"value\":\"NScaling\"},\"renderers\":[{\"id\":\"59d6f009-c0f7-4784-8dcb-40b35230afd0\",\"type\":\"GlyphRenderer\"}]},\"id\":\"d7d93c4b-e5b1-42cf-ac07-a2790b07f8fc\",\"type\":\"LegendItem\"},{\"attributes\":{\"plot\":{\"id\":\"8252cf6d-126a-4cf3-9392-9795fe74116d\",\"subtype\":\"Figure\",\"type\":\"Plot\"}},\"id\":\"1a6a4d6c-b87b-48f4-868c-f428187f3ca3\",\"type\":\"ResetTool\"}],\"root_ids\":[\"8252cf6d-126a-4cf3-9392-9795fe74116d\"]},\"title\":\"Bokeh Application\",\"version\":\"0.12.4\"}};\n",
       "            var render_items = [{\"docid\":\"7b9d2466-01b5-4892-a05d-be652ad4f5e5\",\"elementid\":\"71fcd15e-0d20-4039-aca4-331a6e84d49a\",\"modelid\":\"8252cf6d-126a-4cf3-9392-9795fe74116d\"}];\n",
       "            \n",
       "            Bokeh.embed.embed_items(docs_json, render_items);\n",
       "          };\n",
       "          if (document.readyState != \"loading\") fn();\n",
       "          else document.addEventListener(\"DOMContentLoaded\", fn);\n",
       "        })();\n",
       "      },\n",
       "      function(Bokeh) {\n",
       "      }\n",
       "    ];\n",
       "  \n",
       "    function run_inline_js() {\n",
       "      \n",
       "      if ((window.Bokeh !== undefined) || (force === true)) {\n",
       "        for (var i = 0; i < inline_js.length; i++) {\n",
       "          inline_js[i](window.Bokeh);\n",
       "        }if (force === true) {\n",
       "          display_loaded();\n",
       "        }} else if (Date.now() < window._bokeh_timeout) {\n",
       "        setTimeout(run_inline_js, 100);\n",
       "      } else if (!window._bokeh_failed_load) {\n",
       "        console.log(\"Bokeh: BokehJS failed to load within specified timeout.\");\n",
       "        window._bokeh_failed_load = true;\n",
       "      } else if (force !== true) {\n",
       "        var cell = $(document.getElementById(\"71fcd15e-0d20-4039-aca4-331a6e84d49a\")).parents('.cell').data().cell;\n",
       "        cell.output_area.append_execute_result(NB_LOAD_WARNING)\n",
       "      }\n",
       "  \n",
       "    }\n",
       "  \n",
       "    if (window._bokeh_is_loading === 0) {\n",
       "      console.log(\"Bokeh: BokehJS loaded, going straight to plotting\");\n",
       "      run_inline_js();\n",
       "    } else {\n",
       "      load_libs(js_urls, function() {\n",
       "        console.log(\"Bokeh: BokehJS plotting callback run at\", now());\n",
       "        run_inline_js();\n",
       "      });\n",
       "    }\n",
       "  }(this));\n",
       "</script>"
      ]
     },
     "metadata": {},
     "output_type": "display_data"
    }
   ],
   "source": [
    "plot_averages_b(names, t_maxs, colours, legends, directories, step=1000, title=env, min_max=False)\n",
    "# plot_states(names, t_maxs, colours, legends, directories, step=1000, title=env)"
   ]
  },
  {
   "cell_type": "code",
   "execution_count": null,
   "metadata": {
    "collapsed": true,
    "deletable": true,
    "editable": true
   },
   "outputs": [],
   "source": []
  },
  {
   "cell_type": "code",
   "execution_count": null,
   "metadata": {
    "collapsed": true,
    "deletable": true,
    "editable": true
   },
   "outputs": [],
   "source": []
  },
  {
   "cell_type": "code",
   "execution_count": null,
   "metadata": {
    "collapsed": true,
    "deletable": true,
    "editable": true
   },
   "outputs": [],
   "source": [
    "DQN_Smoothed = []\n",
    "for times, rewards in zip(DQN_Lengths_C, DQN_Rewards):\n",
    "    linear = interp1d(times, rewards, kind=\"linear\")\n",
    "    linear_rewards = linear([i for i in range(500000)])\n",
    "    DQN_Smoothed.append(linear_rewards)"
   ]
  },
  {
   "cell_type": "code",
   "execution_count": null,
   "metadata": {
    "collapsed": true,
    "deletable": true,
    "editable": true
   },
   "outputs": [],
   "source": [
    "DQN_Means = np.mean(DQN_Smoothed, axis=0)"
   ]
  },
  {
   "cell_type": "code",
   "execution_count": null,
   "metadata": {
    "collapsed": true,
    "deletable": true,
    "editable": true
   },
   "outputs": [],
   "source": [
    "DQN_Stds = np.std(DQN_Smoothed, axis=0)"
   ]
  },
  {
   "cell_type": "code",
   "execution_count": null,
   "metadata": {
    "collapsed": false,
    "deletable": true,
    "editable": true
   },
   "outputs": [],
   "source": [
    "plt.fill_between([i for i in range(500000)], DQN_Means - DQN_Stds, DQN_Means + DQN_Stds, color=\"red\", alpha=0.3, edgecolor=\"white\")\n",
    "\n",
    "plt.plot([i for i in range(500000)], DQN_Means, color=\"red\")"
   ]
  },
  {
   "cell_type": "code",
   "execution_count": null,
   "metadata": {
    "collapsed": false,
    "deletable": true,
    "editable": true
   },
   "outputs": [],
   "source": [
    "len(DQN_Repeat)"
   ]
  },
  {
   "cell_type": "code",
   "execution_count": null,
   "metadata": {
    "collapsed": true,
    "deletable": true,
    "editable": true
   },
   "outputs": [],
   "source": [
    "plt.plot(DQN)"
   ]
  },
  {
   "cell_type": "code",
   "execution_count": null,
   "metadata": {
    "collapsed": true,
    "deletable": true,
    "editable": true
   },
   "outputs": [],
   "source": [
    "directories = [\"Logs/\"]"
   ]
  },
  {
   "cell_type": "code",
   "execution_count": null,
   "metadata": {
    "collapsed": false,
    "deletable": true,
    "editable": true
   },
   "outputs": [],
   "source": [
    "for i in range(0, 10, 2):\n",
    "    print(i)"
   ]
  },
  {
   "cell_type": "code",
   "execution_count": null,
   "metadata": {
    "collapsed": true,
    "deletable": true,
    "editable": true
   },
   "outputs": [],
   "source": []
  }
 ],
 "metadata": {
  "kernelspec": {
   "display_name": "Python 3",
   "language": "python",
   "name": "python3"
  },
  "language_info": {
   "codemirror_mode": {
    "name": "ipython",
    "version": 3
   },
   "file_extension": ".py",
   "mimetype": "text/x-python",
   "name": "python",
   "nbconvert_exporter": "python",
   "pygments_lexer": "ipython3",
   "version": "3.6.0"
  }
 },
 "nbformat": 4,
 "nbformat_minor": 2
}
