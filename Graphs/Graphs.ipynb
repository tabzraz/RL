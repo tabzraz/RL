{
 "cells": [
  {
   "cell_type": "code",
   "execution_count": 1,
   "metadata": {
    "collapsed": false,
    "deletable": true,
    "editable": true
   },
   "outputs": [
    {
     "data": {
      "text/html": [
       "\n",
       "    <div class=\"bk-root\">\n",
       "        <a href=\"http://bokeh.pydata.org\" target=\"_blank\" class=\"bk-logo bk-logo-small bk-logo-notebook\"></a>\n",
       "        <span id=\"fbacb596-0433-41bf-a8f7-6c35b06392ec\">Loading BokehJS ...</span>\n",
       "    </div>"
      ]
     },
     "metadata": {},
     "output_type": "display_data"
    },
    {
     "data": {
      "application/javascript": [
       "\n",
       "(function(global) {\n",
       "  function now() {\n",
       "    return new Date();\n",
       "  }\n",
       "\n",
       "  var force = \"1\";\n",
       "\n",
       "  if (typeof (window._bokeh_onload_callbacks) === \"undefined\" || force !== \"\") {\n",
       "    window._bokeh_onload_callbacks = [];\n",
       "    window._bokeh_is_loading = undefined;\n",
       "  }\n",
       "\n",
       "\n",
       "  \n",
       "  if (typeof (window._bokeh_timeout) === \"undefined\" || force !== \"\") {\n",
       "    window._bokeh_timeout = Date.now() + 5000;\n",
       "    window._bokeh_failed_load = false;\n",
       "  }\n",
       "\n",
       "  var NB_LOAD_WARNING = {'data': {'text/html':\n",
       "     \"<div style='background-color: #fdd'>\\n\"+\n",
       "     \"<p>\\n\"+\n",
       "     \"BokehJS does not appear to have successfully loaded. If loading BokehJS from CDN, this \\n\"+\n",
       "     \"may be due to a slow or bad network connection. Possible fixes:\\n\"+\n",
       "     \"</p>\\n\"+\n",
       "     \"<ul>\\n\"+\n",
       "     \"<li>re-rerun `output_notebook()` to attempt to load from CDN again, or</li>\\n\"+\n",
       "     \"<li>use INLINE resources instead, as so:</li>\\n\"+\n",
       "     \"</ul>\\n\"+\n",
       "     \"<code>\\n\"+\n",
       "     \"from bokeh.resources import INLINE\\n\"+\n",
       "     \"output_notebook(resources=INLINE)\\n\"+\n",
       "     \"</code>\\n\"+\n",
       "     \"</div>\"}};\n",
       "\n",
       "  function display_loaded() {\n",
       "    if (window.Bokeh !== undefined) {\n",
       "      Bokeh.$(\"#fbacb596-0433-41bf-a8f7-6c35b06392ec\").text(\"BokehJS successfully loaded.\");\n",
       "    } else if (Date.now() < window._bokeh_timeout) {\n",
       "      setTimeout(display_loaded, 100)\n",
       "    }\n",
       "  }\n",
       "\n",
       "  function run_callbacks() {\n",
       "    window._bokeh_onload_callbacks.forEach(function(callback) { callback() });\n",
       "    delete window._bokeh_onload_callbacks\n",
       "    console.info(\"Bokeh: all callbacks have finished\");\n",
       "  }\n",
       "\n",
       "  function load_libs(js_urls, callback) {\n",
       "    window._bokeh_onload_callbacks.push(callback);\n",
       "    if (window._bokeh_is_loading > 0) {\n",
       "      console.log(\"Bokeh: BokehJS is being loaded, scheduling callback at\", now());\n",
       "      return null;\n",
       "    }\n",
       "    if (js_urls == null || js_urls.length === 0) {\n",
       "      run_callbacks();\n",
       "      return null;\n",
       "    }\n",
       "    console.log(\"Bokeh: BokehJS not loaded, scheduling load and callback at\", now());\n",
       "    window._bokeh_is_loading = js_urls.length;\n",
       "    for (var i = 0; i < js_urls.length; i++) {\n",
       "      var url = js_urls[i];\n",
       "      var s = document.createElement('script');\n",
       "      s.src = url;\n",
       "      s.async = false;\n",
       "      s.onreadystatechange = s.onload = function() {\n",
       "        window._bokeh_is_loading--;\n",
       "        if (window._bokeh_is_loading === 0) {\n",
       "          console.log(\"Bokeh: all BokehJS libraries loaded\");\n",
       "          run_callbacks()\n",
       "        }\n",
       "      };\n",
       "      s.onerror = function() {\n",
       "        console.warn(\"failed to load library \" + url);\n",
       "      };\n",
       "      console.log(\"Bokeh: injecting script tag for BokehJS library: \", url);\n",
       "      document.getElementsByTagName(\"head\")[0].appendChild(s);\n",
       "    }\n",
       "  };var element = document.getElementById(\"fbacb596-0433-41bf-a8f7-6c35b06392ec\");\n",
       "  if (element == null) {\n",
       "    console.log(\"Bokeh: ERROR: autoload.js configured with elementid 'fbacb596-0433-41bf-a8f7-6c35b06392ec' but no matching script tag was found. \")\n",
       "    return false;\n",
       "  }\n",
       "\n",
       "  var js_urls = ['https://cdn.pydata.org/bokeh/release/bokeh-0.12.3.min.js', 'https://cdn.pydata.org/bokeh/release/bokeh-widgets-0.12.3.min.js'];\n",
       "\n",
       "  var inline_js = [\n",
       "    function(Bokeh) {\n",
       "      Bokeh.set_log_level(\"info\");\n",
       "    },\n",
       "    \n",
       "    function(Bokeh) {\n",
       "      \n",
       "      Bokeh.$(\"#fbacb596-0433-41bf-a8f7-6c35b06392ec\").text(\"BokehJS is loading...\");\n",
       "    },\n",
       "    function(Bokeh) {\n",
       "      console.log(\"Bokeh: injecting CSS: https://cdn.pydata.org/bokeh/release/bokeh-0.12.3.min.css\");\n",
       "      Bokeh.embed.inject_css(\"https://cdn.pydata.org/bokeh/release/bokeh-0.12.3.min.css\");\n",
       "      console.log(\"Bokeh: injecting CSS: https://cdn.pydata.org/bokeh/release/bokeh-widgets-0.12.3.min.css\");\n",
       "      Bokeh.embed.inject_css(\"https://cdn.pydata.org/bokeh/release/bokeh-widgets-0.12.3.min.css\");\n",
       "    }\n",
       "  ];\n",
       "\n",
       "  function run_inline_js() {\n",
       "    \n",
       "    if ((window.Bokeh !== undefined) || (force === \"1\")) {\n",
       "      for (var i = 0; i < inline_js.length; i++) {\n",
       "        inline_js[i](window.Bokeh);\n",
       "      }if (force === \"1\") {\n",
       "        display_loaded();\n",
       "      }} else if (Date.now() < window._bokeh_timeout) {\n",
       "      setTimeout(run_inline_js, 100);\n",
       "    } else if (!window._bokeh_failed_load) {\n",
       "      console.log(\"Bokeh: BokehJS failed to load within specified timeout.\");\n",
       "      window._bokeh_failed_load = true;\n",
       "    } else if (!force) {\n",
       "      var cell = $(\"#fbacb596-0433-41bf-a8f7-6c35b06392ec\").parents('.cell').data().cell;\n",
       "      cell.output_area.append_execute_result(NB_LOAD_WARNING)\n",
       "    }\n",
       "\n",
       "  }\n",
       "\n",
       "  if (window._bokeh_is_loading === 0) {\n",
       "    console.log(\"Bokeh: BokehJS loaded, going straight to plotting\");\n",
       "    run_inline_js();\n",
       "  } else {\n",
       "    load_libs(js_urls, function() {\n",
       "      console.log(\"Bokeh: BokehJS plotting callback run at\", now());\n",
       "      run_inline_js();\n",
       "    });\n",
       "  }\n",
       "}(this));"
      ]
     },
     "metadata": {},
     "output_type": "display_data"
    }
   ],
   "source": [
    "from bokeh.plotting import figure, output_notebook, show\n",
    "output_notebook()"
   ]
  },
  {
   "cell_type": "code",
   "execution_count": 2,
   "metadata": {
    "collapsed": true,
    "deletable": true,
    "editable": true
   },
   "outputs": [],
   "source": [
    "import glob"
   ]
  },
  {
   "cell_type": "code",
   "execution_count": 3,
   "metadata": {
    "collapsed": true,
    "deletable": true,
    "editable": true
   },
   "outputs": [],
   "source": [
    "import numpy as np"
   ]
  },
  {
   "cell_type": "code",
   "execution_count": 4,
   "metadata": {
    "collapsed": true,
    "deletable": true,
    "editable": true
   },
   "outputs": [],
   "source": [
    "from scipy.interpolate import interp1d\n",
    "from scipy.interpolate import spline"
   ]
  },
  {
   "cell_type": "code",
   "execution_count": 5,
   "metadata": {
    "collapsed": true,
    "deletable": true,
    "editable": true
   },
   "outputs": [],
   "source": [
    "from tqdm import tqdm"
   ]
  },
  {
   "cell_type": "code",
   "execution_count": 6,
   "metadata": {
    "collapsed": true,
    "deletable": true,
    "editable": true
   },
   "outputs": [],
   "source": [
    "DQN_Rewards_Path = \"/home/tabz/Dropbox/RL/Log_Files/March 2017/Maze_5_Batch_Sizes_Logs/*DQN*/logs/Episode_Rewards.txt\"\n",
    "DQN_Lengths_Path = \"/home/tabz/Dropbox/RL/Log_Files/March 2017/Maze_5_Batch_Sizes_Logs/*DQN*/logs/Episode_Lengths.txt\"\n",
    "DQN_Rewards = []\n",
    "DQN_Lengths = []\n",
    "DQN_Lengths_C = []"
   ]
  },
  {
   "cell_type": "code",
   "execution_count": 7,
   "metadata": {
    "collapsed": true,
    "deletable": true,
    "editable": true
   },
   "outputs": [],
   "source": [
    "for filename in glob.glob(DQN_Rewards_Path):\n",
    "    run_logs = [0]\n",
    "#     print(filename)\n",
    "    with open(filename, \"r\") as f:\n",
    "        for line in f:\n",
    "            try:\n",
    "                ep_r = float(line)\n",
    "            except:\n",
    "                continue\n",
    "            run_logs.append(ep_r)\n",
    "    DQN_Rewards.append(run_logs)"
   ]
  },
  {
   "cell_type": "code",
   "execution_count": 8,
   "metadata": {
    "collapsed": true,
    "deletable": true,
    "editable": true
   },
   "outputs": [],
   "source": [
    "for filename in glob.glob(DQN_Lengths_Path):\n",
    "    run_logs = [0]\n",
    "#     print(filename)\n",
    "    with open(filename, \"r\") as f:\n",
    "        for line in f:\n",
    "            try:\n",
    "                ep_r = float(line)\n",
    "            except:\n",
    "                continue\n",
    "            run_logs.append(ep_r)\n",
    "    DQN_Lengths.append(run_logs)\n",
    "    run_logs_c = np.cumsum(run_logs).astype(np.int32)\n",
    "    DQN_Lengths_C.append(run_logs_c)"
   ]
  },
  {
   "cell_type": "markdown",
   "metadata": {
    "collapsed": false,
    "deletable": true,
    "editable": true
   },
   "source": [
    "for lens, runs in zip(DQN_Lengths_C, DQN_Rewards):\n",
    "    plt.plot(lens, runs)\n",
    "plt.show()"
   ]
  },
  {
   "cell_type": "markdown",
   "metadata": {
    "collapsed": false,
    "deletable": true,
    "editable": true
   },
   "source": [
    "p = figure(width=500, height=500, y_range=(-1,3))\n",
    "for lens, runs in zip(DQN_Lengths_C, DQN_Rewards):\n",
    "    p.line(lens, runs)\n",
    "show(p)"
   ]
  },
  {
   "cell_type": "code",
   "execution_count": null,
   "metadata": {
    "collapsed": true,
    "deletable": true,
    "editable": true
   },
   "outputs": [],
   "source": []
  },
  {
   "cell_type": "markdown",
   "metadata": {
    "collapsed": true,
    "deletable": true,
    "editable": true
   },
   "source": [
    "def plot_averages(names, t_maxs, colors, legends=None, directory=\"Logs/\", step=10):\n",
    "    plt.figure(figsize=(10,10))\n",
    "    plt.ylim(-1, 3)\n",
    "    for name, color, t_max in tqdm(zip(names, colors, t_maxs)):\n",
    "        # TODO: Remove DQN from names\n",
    "        DQN_Rewards_Path = directory + \"*\" + name + \"*/logs/Episode_Rewards.txt\"\n",
    "        DQN_Lengths_Path = directory + \"*\" + name + \"*/logs/Episode_Lengths.txt\"\n",
    "        DQN_Rewards = []\n",
    "        DQN_Lengths = []\n",
    "        DQN_Lengths_C = []\n",
    "        for filename in glob.glob(DQN_Rewards_Path):\n",
    "            run_logs = [0]\n",
    "            with open(filename, \"r\") as f:\n",
    "                for line in f:\n",
    "                    try:\n",
    "                        ep_r = float(line)\n",
    "                    except:\n",
    "                        continue\n",
    "                    run_logs.append(ep_r)\n",
    "            DQN_Rewards.append(run_logs)\n",
    "        for filename in glob.glob(DQN_Lengths_Path):\n",
    "            run_logs = [0]\n",
    "        #     print(filename)\n",
    "            with open(filename, \"r\") as f:\n",
    "                for line in f:\n",
    "                    try:\n",
    "                        ep_r = float(line)\n",
    "                    except:\n",
    "                        continue\n",
    "                    run_logs.append(ep_r)\n",
    "            DQN_Lengths.append(run_logs)\n",
    "            run_logs_c = np.cumsum(run_logs).astype(np.int32)\n",
    "            DQN_Lengths_C.append(run_logs_c)\n",
    "        DQN_Smoothed = []\n",
    "        for times, rewards in zip(DQN_Lengths_C, DQN_Rewards):\n",
    "#             linear = interp1d(times, rewards, kind=\"linear\")\n",
    "#             linear_rewards = linear([i for i in range(500000)])\n",
    "#             DQN_Smoothed.append(linear_rewards)\n",
    "            spline_rewards = spline(times, rewards, [i for i in range(0, t_max, step)])\n",
    "            DQN_Smoothed.append(spline_rewards)\n",
    "        DQN_Means = np.mean(DQN_Smoothed, axis=0)\n",
    "        DQN_Stds = np.std(DQN_Smoothed, axis=0)\n",
    "        plt.fill_between([i for i in range(0, t_max, step)], DQN_Means - DQN_Stds, DQN_Means + DQN_Stds, color=color, alpha=0.2, edgecolor=\"white\")\n",
    "\n",
    "        plt.plot([i for i in range(0, t_max, step)], DQN_Means, color=color)\n",
    "\n",
    "    plt.title(\"Episode_Reward\")\n",
    "    plt.xlabel(\"T\")\n",
    "    plt.ylabel(\"Reward\")\n",
    "    if legends is not None:\n",
    "        plt.legend(legends, bbox_to_anchor=(1.05, 1), loc=2)\n",
    "    plt.show()"
   ]
  },
  {
   "cell_type": "code",
   "execution_count": 9,
   "metadata": {
    "collapsed": true,
    "deletable": true,
    "editable": true
   },
   "outputs": [],
   "source": [
    "from bokeh.models import Legend\n",
    "from bokeh.models.formatters import BasicTickFormatter\n",
    "from bokeh.models import HoverTool, TapTool"
   ]
  },
  {
   "cell_type": "code",
   "execution_count": 10,
   "metadata": {
    "collapsed": false,
    "deletable": true,
    "editable": true
   },
   "outputs": [],
   "source": [
    "def plot_averages_b(names, t_maxs, colors, legends, directories=\"Logs/\", step=10, title=\"\"):\n",
    "#     plt.figure(figsize=(10,10))\n",
    "    p = figure(width=800, height=800, y_range=(-1.2, 3.2), title=title)\n",
    "    p.toolbar_location = \"above\"\n",
    "    p.yaxis.axis_label = \"Episode Reward\"\n",
    "    p.xaxis.axis_label = \"T\"\n",
    "    p.xaxis.formatter = BasicTickFormatter(use_scientific=False)\n",
    "#     p = figure(width=800, height=500)\n",
    "    lines = []\n",
    "    alpha_lines = []\n",
    "    if isinstance(directories, str):\n",
    "        dd = directories\n",
    "        directories = [dd for _ in names]\n",
    "    for name, color, t_max, legend, directory in zip(names, colors, t_maxs, legends, directories):\n",
    "#         print(directory)\n",
    "        DQN_Rewards_Path = directory + \"*\" + name + \"*/logs/Episode_Rewards.txt\"\n",
    "        DQN_Lengths_Path = directory + \"*\" + name + \"*/logs/Episode_Lengths.txt\"\n",
    "        DQN_Rewards = []\n",
    "        DQN_Lengths = []\n",
    "        DQN_Lengths_C = []\n",
    "        for filename in glob.glob(DQN_Rewards_Path):\n",
    "            run_logs = [0]\n",
    "            with open(filename, \"r\") as f:\n",
    "#                 print(f)\n",
    "                for line in f:\n",
    "                    try:\n",
    "                        ep_r = float(line)\n",
    "                    except:\n",
    "                        print(\"Nothing here for:\", filename)\n",
    "                        continue\n",
    "                    run_logs.append(ep_r)\n",
    "            DQN_Rewards.append(run_logs)\n",
    "        for filename in glob.glob(DQN_Lengths_Path):\n",
    "            run_logs = [0]\n",
    "        #     print(filename)\n",
    "            with open(filename, \"r\") as f:\n",
    "                for line in f:\n",
    "                    try:\n",
    "                        ep_r = float(line)\n",
    "                    except:\n",
    "                        continue\n",
    "                    run_logs.append(ep_r)\n",
    "            DQN_Lengths.append(run_logs)\n",
    "            run_logs_c = np.cumsum(run_logs).astype(np.int32)\n",
    "            DQN_Lengths_C.append(run_logs_c)\n",
    "        DQN_Smoothed = []\n",
    "        for times, rewards in zip(DQN_Lengths_C, DQN_Rewards):\n",
    "#             linear = interp1d(times, rewards, kind=\"linear\")\n",
    "#             linear_rewards = linear([i for i in range(500000)])\n",
    "#             DQN_Smoothed.append(linear_rewards)\n",
    "            spline_rewards = spline(times, rewards, [i for i in range(0, t_max, step)], order=1)\n",
    "            DQN_Smoothed.append(spline_rewards)\n",
    "        DQN_Means = np.mean(DQN_Smoothed, axis=0)\n",
    "        DQN_Stds = np.std(DQN_Smoothed, axis=0)\n",
    "        \n",
    "#         plt.fill_between([i for i in range(0, t_max, step)], DQN_Means - DQN_Stds, DQN_Means + DQN_Stds, color=color, alpha=0.2, edgecolor=\"white\")\n",
    "        # Error bars\n",
    "        xs = [i for i in range(0, t_max, step)]\n",
    "        xs = xs + list(reversed(xs))\n",
    "        ys = np.concatenate([DQN_Means - DQN_Stds, np.flip(DQN_Means + DQN_Stds, axis=0)])\n",
    "        lls = p.patch(xs, ys, color=color, alpha=0.1)\n",
    "\n",
    "        \n",
    "#         for x, y, yerr in zip(range(0, t_max, step), DQN_Means, DQN_Stds):\n",
    "#             lls = p.line([x, x], [y - yerr, y + yerr], color=color, alpha=0.1, hover_alpha=0.8)\n",
    "#             alpha_lines.append(lls)\n",
    "            \n",
    "\n",
    "#         plt.plot([i for i in range(0, t_max, step)], DQN_Means, color=color)\n",
    "        l = p.line([i for i in range(0, t_max, step)], DQN_Means, color=color, line_width=2)\n",
    "        lines.append(l)\n",
    "#         alpha_lines.append(lls)\n",
    "\n",
    "#     plt.title(\"Episode_Reward\")\n",
    "#     plt.xlabel(\"T\")\n",
    "#     plt.ylabel(\"Reward\")\n",
    "#     if legends is not None:\n",
    "#         plt.legend(legends)\n",
    "#     plt.show()\n",
    "#     p.line([0,1], [-1,3])\n",
    "    new_leg = Legend(items=[(name, [line]) for name, line in zip(legends, lines)], location=(0,-30))\n",
    "    p.add_layout(new_leg, \"right\")\n",
    "#     p.add_tools(HoverTool(renderers=alpha_lines))\n",
    "#     p.add_tools(TapTool(renderers=alpha_lines))\n",
    "    show(p)"
   ]
  },
  {
   "cell_type": "code",
   "execution_count": 11,
   "metadata": {
    "collapsed": false,
    "deletable": true,
    "editable": true
   },
   "outputs": [],
   "source": [
    "def plot_states(names, t_maxs, colors, legends, directories=\"Logs/\", step=10, title=\"\"):\n",
    "#     plt.figure(figsize=(10,10))\n",
    "    p = figure(width=1200, height=800, title=title)\n",
    "    p.toolbar_location = \"above\"\n",
    "    p.yaxis.axis_label = \"States visited\"\n",
    "    p.xaxis.axis_label = \"T\"\n",
    "    p.xaxis.formatter = BasicTickFormatter(use_scientific=False)\n",
    "#     p = figure(width=800, height=500)\n",
    "    lines = []\n",
    "    alpha_lines = []\n",
    "    if isinstance(directories, str):\n",
    "        dd = directories\n",
    "        directories = [dd for _ in names]\n",
    "    for name, color, t_max, legend, directory in zip(names, colors, t_maxs, legends, directories):\n",
    "#         print(directory)\n",
    "        States_Path = directory + \"*\" + name + \"*/logs/Player_Positions.txt\"\n",
    "        States = []\n",
    "        for filename in glob.glob(States_Path):\n",
    "            run_logs = []\n",
    "            with open(filename, \"r\") as f:\n",
    "#                 print(f)\n",
    "                for line in f:\n",
    "                    try:\n",
    "                        ep_r = str(line)\n",
    "#                         print(ep_r)\n",
    "                    except:\n",
    "                        print(\"Nothing here for:\", filename)\n",
    "                        continue\n",
    "                    run_logs.append(ep_r)\n",
    "            States.append(run_logs)\n",
    "        States_Visited = []\n",
    "        for run in States:\n",
    "            Visited = []\n",
    "            States_Sets = set()\n",
    "#             print(len(run))\n",
    "            for ii, s in enumerate(run):\n",
    "                if ii >= t_max - 1:\n",
    "                    break\n",
    "#                 print(s)\n",
    "                States_Sets.add(s)\n",
    "                if ii % step == 0:\n",
    "                    Visited.append(len(States_Sets))\n",
    "#             print(len(States_Sets))\n",
    "#             print(len(Visited))\n",
    "            States_Visited.append(Visited)\n",
    "#         print(np.array(States_Visited).shape)\n",
    "        Means = np.mean(States_Visited, axis=0)\n",
    "        Stds = np.std(States_Visited, axis=0)\n",
    "#         print(Means.shape)\n",
    "        \n",
    "#         plt.fill_between([i for i in range(0, t_max, step)], DQN_Means - DQN_Stds, DQN_Means + DQN_Stds, color=color, alpha=0.2, edgecolor=\"white\")\n",
    "        # Error bars\n",
    "        xs = [i for i in range(0, t_max, step)]\n",
    "        xs = xs + list(reversed(xs))\n",
    "        ys = np.concatenate([Means - Stds, np.flip(Means + Stds, axis=0)])\n",
    "        lls = p.patch(xs, ys, color=color, alpha=0.1)\n",
    "\n",
    "        \n",
    "#         for x, y, yerr in zip(range(0, t_max, step), DQN_Means, DQN_Stds):\n",
    "#             lls = p.line([x, x], [y - yerr, y + yerr], color=color, alpha=0.1, hover_alpha=0.8)\n",
    "#             alpha_lines.append(lls)\n",
    "            \n",
    "\n",
    "#         plt.plot([i for i in range(0, t_max, step)], DQN_Means, color=color)\n",
    "        l = p.line([i for i in range(0, t_max, step)], Means, color=color, line_width=2)\n",
    "        lines.append(l)\n",
    "#         alpha_lines.append(lls)\n",
    "\n",
    "#     plt.title(\"Episode_Reward\")\n",
    "#     plt.xlabel(\"T\")\n",
    "#     plt.ylabel(\"Reward\")\n",
    "#     if legends is not None:\n",
    "#         plt.legend(legends)\n",
    "#     plt.show()\n",
    "#     p.line([0,1], [-1,3])\n",
    "    new_leg = Legend(items=[(name, [line]) for name, line in zip(legends, lines)], location=(0,-30))\n",
    "    p.add_layout(new_leg, \"right\")\n",
    "#     p.add_tools(HoverTool(renderers=alpha_lines))\n",
    "#     p.add_tools(TapTool(renderers=alpha_lines))\n",
    "    show(p)"
   ]
  },
  {
   "cell_type": "code",
   "execution_count": null,
   "metadata": {
    "collapsed": true,
    "deletable": true,
    "editable": true
   },
   "outputs": [],
   "source": []
  },
  {
   "cell_type": "code",
   "execution_count": 12,
   "metadata": {
    "collapsed": false,
    "deletable": true,
    "editable": true
   },
   "outputs": [
    {
     "name": "stdout",
     "output_type": "stream",
     "text": [
      "['_10_Step_*DQN_', '_10_Step_*k_Count_', '_10_Step_*_CountEps_']\n",
      "[300001, 300001, 300001]\n"
     ]
    }
   ],
   "source": [
    "names = []\n",
    "legends = []\n",
    "t_maxs = []\n",
    "directories = []\n",
    "\n",
    "            \n",
    "# Frontier stuff\n",
    "for step in [10]:\n",
    "    # DQN\n",
    "    names += [\"_{}_Step_*DQN_\".format(step)]\n",
    "    legends += [\"{}_Step_DQN\".format(step)]\n",
    "    t_maxs += [300001]\n",
    "#     continue\n",
    "    # PseudoCount\n",
    "    names += [\"_{}_Step_*k_Count_\".format(step)]\n",
    "    legends += [\"{}_Step_Count\".format(step)]\n",
    "    t_maxs += [300001]\n",
    "#     continue\n",
    "    # EpsilonScaling\n",
    "    names += [\"_{}_Step_*_CountEps_\".format(step)]\n",
    "    legends += [\"{}_Step_Epsilon_Scaling\".format(step)]\n",
    "    t_maxs += [300001]\n",
    "            \n",
    "    \n",
    "direc = \"/home/tabz/tmp/logfiles/MedMaze10/MedMaze10\"\n",
    "# directories =  [\"{}/{}\".format(dropbox_direc, \"Maze_5_Logs/\")] + 3 * [\"{}/{}\".format(dropbox_direc, \"Maze_5_Batch_Sizes_Logs/\")] \n",
    "directories += [direc + \"/EpsilonLogs/\"] * 3\n",
    "    \n",
    "print(names)\n",
    "print(t_maxs)\n",
    "# colours = [\"red\", \"#3366ff\", \"#66ff33\", \"yellow\"]\n",
    "# colours = rainbow(np.linspace(0, 1, len(names)))"
   ]
  },
  {
   "cell_type": "code",
   "execution_count": 30,
   "metadata": {
    "collapsed": false,
    "deletable": true,
    "editable": true
   },
   "outputs": [
    {
     "name": "stdout",
     "output_type": "stream",
     "text": [
      "['_1_Step*_CountEps_', '_10_Step*_CountEps_', '_50_Step*_CountEps_', '_100_Step*_CountEps_', '_250_Step*_CountEps_']\n",
      "[300001, 300001, 300001, 300001, 300001]\n",
      "/home/scratch/tabhid/Log_Files/N_Step_Logs/\n"
     ]
    }
   ],
   "source": [
    "names = []\n",
    "legends = []\n",
    "t_maxs = []\n",
    "\n",
    "            \n",
    "# Frontier bandit stuff\n",
    "\n",
    "for n in [1, 10, 50, 100, 250]:\n",
    "    \n",
    "    # Count\n",
    "#     names += [\"_{}_Step*_Count_\".format(n)]\n",
    "#     legends += [\"{}_Step_Count\".format(n)]\n",
    "#     t_maxs += [300001]\n",
    "#     continue\n",
    "    # Optimistic\n",
    "#     names += [\"_{}_Step*OptimisticAction\".format(n)]\n",
    "#     legends += [\"{}_Step_OptimisticAction\".format(n)]\n",
    "#     t_maxs += [300001]\n",
    "#     continue\n",
    "    # Epsilon Scaling\n",
    "    names += [\"_{}_Step*_CountEps_\".format(n)]\n",
    "    legends += [\"{}_Step_EpsilonScaling\".format(n)]\n",
    "    t_maxs += [300001]\n",
    "            \n",
    "    \n",
    "direc = \"/home/scratch/tabhid/Log_Files/N_Step_Logs/\"\n",
    "# directories =  [\"{}/{}\".format(dropbox_direc, \"Maze_5_Logs/\")] + 3 * [\"{}/{}\".format(dropbox_direc, \"Maze_5_Batch_Sizes_Logs/\")] \n",
    "# directories += [direc + \"/BanditLogs/\"] * 3\n",
    "directories = direc\n",
    "    \n",
    "print(names)\n",
    "print(t_maxs)\n",
    "print(directories)\n",
    "# colours = [\"red\", \"#3366ff\", \"#66ff33\", \"yellow\"]\n",
    "# colours = rainbow(np.linspace(0, 1, len(names)))"
   ]
  },
  {
   "cell_type": "code",
   "execution_count": 31,
   "metadata": {
    "collapsed": false,
    "deletable": true,
    "editable": true
   },
   "outputs": [],
   "source": [
    "# names = []\n",
    "# legends = []\n",
    "# t_maxs = []\n",
    "# directories = []\n",
    "\n",
    "            \n",
    "# # XpSize\n",
    "\n",
    "# for xp in [30, 100, 200, 300]:\n",
    "    \n",
    "#     #Fresh \n",
    "#     names += [\"XpSize_{}k*Stale_k\".format(xp)]\n",
    "#     legends += [\"Fresh {}k Xp\".format(xp)]\n",
    "#     t_maxs += [300001]\n",
    "    \n",
    "#     #Stale\n",
    "#     names += [\"XpSize_{}k*Stale_{}k\".format(xp, xp)]\n",
    "#     legends += [\"Stale {}k Prioritized Xp\".format(xp)]\n",
    "#     t_maxs += [300001]\n",
    "    \n",
    "# direc = \"/home/tabz/tmp/logfiles/MedMaze10/MedMaze10_Xp\"\n",
    "# # directories =  [\"{}/{}\".format(dropbox_direc, \"Maze_5_Logs/\")] + 3 * [\"{}/{}\".format(dropbox_direc, \"Maze_5_Batch_Sizes_Logs/\")] \n",
    "# # directories = direc + \"/XpSize/\"\n",
    "# directories = direc + \"/PXpSize/\"\n",
    "    \n",
    "# print(names)\n",
    "# print(t_maxs)\n",
    "# print(directories)"
   ]
  },
  {
   "cell_type": "code",
   "execution_count": 32,
   "metadata": {
    "collapsed": true,
    "deletable": true,
    "editable": true
   },
   "outputs": [],
   "source": [
    "import itertools"
   ]
  },
  {
   "cell_type": "code",
   "execution_count": 33,
   "metadata": {
    "collapsed": false,
    "deletable": true,
    "editable": true
   },
   "outputs": [],
   "source": [
    "from bokeh.palettes import magma, inferno, Purples, Oranges, Greens, Reds, Set1, Set3, Paired, Dark2"
   ]
  },
  {
   "cell_type": "code",
   "execution_count": 34,
   "metadata": {
    "collapsed": false,
    "deletable": true,
    "editable": true
   },
   "outputs": [
    {
     "data": {
      "text/html": [
       "\n",
       "\n",
       "    <div class=\"bk-root\">\n",
       "        <div class=\"plotdiv\" id=\"28675c31-ca9e-4ade-8bfa-155fd7326a71\"></div>\n",
       "    </div>\n",
       "<script type=\"text/javascript\">\n",
       "  \n",
       "  (function(global) {\n",
       "    function now() {\n",
       "      return new Date();\n",
       "    }\n",
       "  \n",
       "    var force = \"\";\n",
       "  \n",
       "    if (typeof (window._bokeh_onload_callbacks) === \"undefined\" || force !== \"\") {\n",
       "      window._bokeh_onload_callbacks = [];\n",
       "      window._bokeh_is_loading = undefined;\n",
       "    }\n",
       "  \n",
       "  \n",
       "    \n",
       "    if (typeof (window._bokeh_timeout) === \"undefined\" || force !== \"\") {\n",
       "      window._bokeh_timeout = Date.now() + 0;\n",
       "      window._bokeh_failed_load = false;\n",
       "    }\n",
       "  \n",
       "    var NB_LOAD_WARNING = {'data': {'text/html':\n",
       "       \"<div style='background-color: #fdd'>\\n\"+\n",
       "       \"<p>\\n\"+\n",
       "       \"BokehJS does not appear to have successfully loaded. If loading BokehJS from CDN, this \\n\"+\n",
       "       \"may be due to a slow or bad network connection. Possible fixes:\\n\"+\n",
       "       \"</p>\\n\"+\n",
       "       \"<ul>\\n\"+\n",
       "       \"<li>re-rerun `output_notebook()` to attempt to load from CDN again, or</li>\\n\"+\n",
       "       \"<li>use INLINE resources instead, as so:</li>\\n\"+\n",
       "       \"</ul>\\n\"+\n",
       "       \"<code>\\n\"+\n",
       "       \"from bokeh.resources import INLINE\\n\"+\n",
       "       \"output_notebook(resources=INLINE)\\n\"+\n",
       "       \"</code>\\n\"+\n",
       "       \"</div>\"}};\n",
       "  \n",
       "    function display_loaded() {\n",
       "      if (window.Bokeh !== undefined) {\n",
       "        Bokeh.$(\"#28675c31-ca9e-4ade-8bfa-155fd7326a71\").text(\"BokehJS successfully loaded.\");\n",
       "      } else if (Date.now() < window._bokeh_timeout) {\n",
       "        setTimeout(display_loaded, 100)\n",
       "      }\n",
       "    }\n",
       "  \n",
       "    function run_callbacks() {\n",
       "      window._bokeh_onload_callbacks.forEach(function(callback) { callback() });\n",
       "      delete window._bokeh_onload_callbacks\n",
       "      console.info(\"Bokeh: all callbacks have finished\");\n",
       "    }\n",
       "  \n",
       "    function load_libs(js_urls, callback) {\n",
       "      window._bokeh_onload_callbacks.push(callback);\n",
       "      if (window._bokeh_is_loading > 0) {\n",
       "        console.log(\"Bokeh: BokehJS is being loaded, scheduling callback at\", now());\n",
       "        return null;\n",
       "      }\n",
       "      if (js_urls == null || js_urls.length === 0) {\n",
       "        run_callbacks();\n",
       "        return null;\n",
       "      }\n",
       "      console.log(\"Bokeh: BokehJS not loaded, scheduling load and callback at\", now());\n",
       "      window._bokeh_is_loading = js_urls.length;\n",
       "      for (var i = 0; i < js_urls.length; i++) {\n",
       "        var url = js_urls[i];\n",
       "        var s = document.createElement('script');\n",
       "        s.src = url;\n",
       "        s.async = false;\n",
       "        s.onreadystatechange = s.onload = function() {\n",
       "          window._bokeh_is_loading--;\n",
       "          if (window._bokeh_is_loading === 0) {\n",
       "            console.log(\"Bokeh: all BokehJS libraries loaded\");\n",
       "            run_callbacks()\n",
       "          }\n",
       "        };\n",
       "        s.onerror = function() {\n",
       "          console.warn(\"failed to load library \" + url);\n",
       "        };\n",
       "        console.log(\"Bokeh: injecting script tag for BokehJS library: \", url);\n",
       "        document.getElementsByTagName(\"head\")[0].appendChild(s);\n",
       "      }\n",
       "    };var element = document.getElementById(\"28675c31-ca9e-4ade-8bfa-155fd7326a71\");\n",
       "    if (element == null) {\n",
       "      console.log(\"Bokeh: ERROR: autoload.js configured with elementid '28675c31-ca9e-4ade-8bfa-155fd7326a71' but no matching script tag was found. \")\n",
       "      return false;\n",
       "    }\n",
       "  \n",
       "    var js_urls = [];\n",
       "  \n",
       "    var inline_js = [\n",
       "      function(Bokeh) {\n",
       "        Bokeh.$(function() {\n",
       "            var docs_json = {\"20705676-3bcd-4dd9-8f79-306b0c40f271\":{\"roots\":{\"references\":[{\"attributes\":{\"data_source\":{\"id\":\"af951d22-e752-4c80-8acd-b7cdee422b14\",\"type\":\"ColumnDataSource\"},\"glyph\":{\"id\":\"12f0d5ce-61e5-46f9-977e-43e2e9f6825c\",\"type\":\"Patch\"},\"hover_glyph\":null,\"nonselection_glyph\":{\"id\":\"ae21cfd7-41e7-4a79-8976-6485ad0cc84d\",\"type\":\"Patch\"},\"selection_glyph\":null},\"id\":\"83485a44-71b1-496a-897e-5229434b059b\",\"type\":\"GlyphRenderer\"},{\"attributes\":{\"callback\":null,\"column_names\":[\"x\",\"y\"],\"data\":{\"x\":[0,1000,2000,3000,4000,5000,6000,7000,8000,9000,10000,11000,12000,13000,14000,15000,16000,17000,18000,19000,20000,21000,22000,23000,24000,25000,26000,27000,28000,29000,30000,31000,32000,33000,34000,35000,36000,37000,38000,39000,40000,41000,42000,43000,44000,45000,46000,47000,48000,49000,50000,51000,52000,53000,54000,55000,56000,57000,58000,59000,60000,61000,62000,63000,64000,65000,66000,67000,68000,69000,70000,71000,72000,73000,74000,75000,76000,77000,78000,79000,80000,81000,82000,83000,84000,85000,86000,87000,88000,89000,90000,91000,92000,93000,94000,95000,96000,97000,98000,99000,100000,101000,102000,103000,104000,105000,106000,107000,108000,109000,110000,111000,112000,113000,114000,115000,116000,117000,118000,119000,120000,121000,122000,123000,124000,125000,126000,127000,128000,129000,130000,131000,132000,133000,134000,135000,136000,137000,138000,139000,140000,141000,142000,143000,144000,145000,146000,147000,148000,149000,150000,151000,152000,153000,154000,155000,156000,157000,158000,159000,160000,161000,162000,163000,164000,165000,166000,167000,168000,169000,170000,171000,172000,173000,174000,175000,176000,177000,178000,179000,180000,181000,182000,183000,184000,185000,186000,187000,188000,189000,190000,191000,192000,193000,194000,195000,196000,197000,198000,199000,200000,201000,202000,203000,204000,205000,206000,207000,208000,209000,210000,211000,212000,213000,214000,215000,216000,217000,218000,219000,220000,221000,222000,223000,224000,225000,226000,227000,228000,229000,230000,231000,232000,233000,234000,235000,236000,237000,238000,239000,240000,241000,242000,243000,244000,245000,246000,247000,248000,249000,250000,251000,252000,253000,254000,255000,256000,257000,258000,259000,260000,261000,262000,263000,264000,265000,266000,267000,268000,269000,270000,271000,272000,273000,274000,275000,276000,277000,278000,279000,280000,281000,282000,283000,284000,285000,286000,287000,288000,289000,290000,291000,292000,293000,294000,295000,296000,297000,298000,299000,300000,300000,299000,298000,297000,296000,295000,294000,293000,292000,291000,290000,289000,288000,287000,286000,285000,284000,283000,282000,281000,280000,279000,278000,277000,276000,275000,274000,273000,272000,271000,270000,269000,268000,267000,266000,265000,264000,263000,262000,261000,260000,259000,258000,257000,256000,255000,254000,253000,252000,251000,250000,249000,248000,247000,246000,245000,244000,243000,242000,241000,240000,239000,238000,237000,236000,235000,234000,233000,232000,231000,230000,229000,228000,227000,226000,225000,224000,223000,222000,221000,220000,219000,218000,217000,216000,215000,214000,213000,212000,211000,210000,209000,208000,207000,206000,205000,204000,203000,202000,201000,200000,199000,198000,197000,196000,195000,194000,193000,192000,191000,190000,189000,188000,187000,186000,185000,184000,183000,182000,181000,180000,179000,178000,177000,176000,175000,174000,173000,172000,171000,170000,169000,168000,167000,166000,165000,164000,163000,162000,161000,160000,159000,158000,157000,156000,155000,154000,153000,152000,151000,150000,149000,148000,147000,146000,145000,144000,143000,142000,141000,140000,139000,138000,137000,136000,135000,134000,133000,132000,131000,130000,129000,128000,127000,126000,125000,124000,123000,122000,121000,120000,119000,118000,117000,116000,115000,114000,113000,112000,111000,110000,109000,108000,107000,106000,105000,104000,103000,102000,101000,100000,99000,98000,97000,96000,95000,94000,93000,92000,91000,90000,89000,88000,87000,86000,85000,84000,83000,82000,81000,80000,79000,78000,77000,76000,75000,74000,73000,72000,71000,70000,69000,68000,67000,66000,65000,64000,63000,62000,61000,60000,59000,58000,57000,56000,55000,54000,53000,52000,51000,50000,49000,48000,47000,46000,45000,44000,43000,42000,41000,40000,39000,38000,37000,36000,35000,34000,33000,32000,31000,30000,29000,28000,27000,26000,25000,24000,23000,22000,21000,20000,19000,18000,17000,16000,15000,14000,13000,12000,11000,10000,9000,8000,7000,6000,5000,4000,3000,2000,1000,0],\"y\":[1.0,54.1235550412549,80.57053773717014,107.35781159564128,130.8366580092254,151.4077522291524,157.69174963060686,165.60085763608723,205.09013923307594,210.1957037720651,237.41471105652,263.7981233361993,308.53389439060766,312.00811539875554,311.9286997513867,314.37158160396456,378.01666784786204,378.3701911778785,381.113135971377,385.31334286103214,399.8570791652803,416.1347862282058,437.3626628322826,475.31932132624945,497.3651853351612,509.92898748912285,509.92898748912285,509.92898748912285,509.92898748912285,509.92898748912285,509.92898748912285,509.9549259353956,509.93520462241185,555.4595338065495,569.8651317848269,577.6448399668881,594.084649834589,602.6932745781371,605.5826557346288,605.5826557346288,605.5826557346288,605.914507198413,606.2415727721965,606.2415727721965,609.5102404533641,619.6530337995214,636.5569881876445,646.463216279136,657.310452739067,703.8036284947967,718.2805857751142,718.2805857751142,718.2805857751142,718.2805857751142,718.2805857751142,718.2805857751142,718.2805857751142,718.2805857751142,718.2805857751142,718.2805857751142,718.2805857751142,718.2805857751142,718.2805857751142,718.2805857751142,718.2805857751142,718.2805857751142,718.5130774492914,735.4090467048987,747.838638176735,755.2198476118044,759.6251968665003,792.6216342450359,855.8593089645565,857.271900354111,861.871956361766,884.9650689910873,884.9650689910873,884.9650689910873,884.9650689910873,884.9650689910873,884.9650689910873,884.9650689910873,884.9650689910873,884.9650689910873,885.3632641754026,885.3632641754026,885.3632641754026,887.7628626158147,889.7907188852511,889.7907188852511,889.7907188852511,889.7907188852511,889.7907188852511,906.6537093436237,943.0642256685263,970.299273961893,972.4946324125569,984.2293243052271,989.3443941507209,990.2197902099354,997.9339526129011,997.9339526129011,997.9339526129011,997.9339526129011,997.9339526129011,997.9339526129011,998.1070309276823,1000.2898055505988,1031.1224527485683,1065.6795973160545,1077.1335055097568,1082.565304431319,1083.6819600532897,1086.4691510525242,1086.4691510525242,1086.4691510525242,1086.4691510525242,1086.4691510525242,1086.4691510525242,1086.4691510525242,1086.4691510525242,1086.4691510525242,1086.4691510525242,1086.798392293347,1086.798392293347,1121.0961613932698,1121.0961613932698,1121.0961613932698,1121.0961613932698,1121.0961613932698,1121.0961613932698,1122.1283744185628,1123.1050824096365,1125.5744752951562,1128.2329618007548,1128.4281992255467,1128.4281992255467,1128.4281992255467,1128.4281992255467,1128.4281992255467,1128.4281992255467,1128.4281992255467,1128.3533683512624,1128.2365375230193,1128.21012938584,1128.21012938584,1128.21012938584,1128.21012938584,1128.21012938584,1128.21012938584,1128.75213627974,1128.75213627974,1128.75213627974,1128.75213627974,1128.75213627974,1128.8387523143076,1131.128241399016,1131.2744550944005,1131.2744550944005,1131.365194665393,1130.682315938602,1130.2600736067502,1129.890548885558,1129.5463448639064,1129.5463448639064,1129.5463448639064,1129.5463448639064,1129.5463448639064,1132.6200609303155,1155.0795640694766,1155.0795640694766,1155.0795640694766,1155.5652367900695,1157.0183347340103,1157.9837531991564,1162.294225976644,1162.294225976644,1162.294225976644,1162.294225976644,1162.294225976644,1162.294225976644,1162.294225976644,1162.294225976644,1162.294225976644,1162.294225976644,1162.294225976644,1162.294225976644,1162.294225976644,1162.3553931186918,1162.3553931186918,1162.3553931186918,1162.3553931186918,1162.3553931186918,1162.3553931186918,1162.3553931186918,1162.3553931186918,1162.3553931186918,1162.3553931186918,1162.3553931186918,1162.3553931186918,1162.3553931186918,1162.3553931186918,1162.3553931186918,1162.3553931186918,1162.3553931186918,1169.4175892352646,1169.7695690887977,1170.4391078595036,1173.68911694153,1174.3184683919044,1175.304124183067,1177.1894899041372,1177.4746963292864,1177.4059660354885,1177.4059660354885,1177.4059660354885,1177.4059660354885,1177.4059660354885,1177.4059660354885,1177.4059660354885,1177.794736940611,1181.6331451678752,1201.9676963212603,1217.0259995054796,1223.9785847770202,1227.152589708612,1227.152589708612,1227.152589708612,1227.152589708612,1227.152589708612,1227.152589708612,1227.152589708612,1227.152589708612,1227.3087432572304,1227.3087432572304,1227.3087432572304,1227.3087432572304,1227.3087432572304,1227.3087432572304,1227.3087432572304,1227.3087432572304,1227.3087432572304,1227.3087432572304,1227.3087432572304,1227.3087432572304,1227.3087432572304,1227.710677332818,1227.909710291256,1227.909710291256,1231.9184683919043,1238.3679066689797,1238.3679066689797,1238.3679066689797,1238.3679066689797,1238.3679066689797,1238.3679066689797,1238.3679066689797,1238.3679066689797,1238.3679066689797,1238.3679066689797,1238.42247368352,1238.3977777949244,1252.5199051008638,1268.7324942002933,1268.7324942002933,1268.7324942002933,1268.7324942002933,1268.7324942002933,1268.7324942002933,1268.7324942002933,1268.7324942002933,1268.7324942002933,1268.7324942002933,1268.6878708851698,1268.6878708851698,1268.6878708851698,1268.6878708851698,1268.6878708851698,1268.6878708851698,1268.6878708851698,1268.6878708851698,1268.6878708851698,1268.6878708851698,1268.6878708851698,1268.6878708851698,1268.6878708851698,1268.6878708851698,1268.6878708851698,1268.6878708851698,1268.6878708851698,1268.6878708851698,1268.6878708851698,1268.6878708851698,1268.6878708851698,1268.6878708851698,1268.6878708851698,1268.6878708851698,1268.6878708851698,1268.6878708851698,1268.9272211870225,1519.0727788129775,1518.51212911483,1518.51212911483,1518.51212911483,1518.51212911483,1518.51212911483,1518.51212911483,1518.51212911483,1518.51212911483,1518.51212911483,1518.51212911483,1518.51212911483,1518.51212911483,1518.51212911483,1518.51212911483,1518.51212911483,1518.51212911483,1518.51212911483,1518.51212911483,1518.51212911483,1518.51212911483,1518.51212911483,1518.51212911483,1518.51212911483,1518.51212911483,1518.51212911483,1518.51212911483,1517.6675057997068,1517.6675057997068,1517.6675057997068,1517.6675057997068,1517.6675057997068,1517.6675057997068,1517.6675057997068,1517.6675057997068,1517.6675057997068,1517.6675057997068,1522.2800948991364,1526.4022222050758,1523.17752631648,1518.8320933310201,1518.8320933310201,1518.8320933310201,1518.8320933310201,1518.8320933310201,1518.8320933310201,1518.8320933310201,1518.8320933310201,1518.8320933310201,1518.8320933310201,1483.6815316080956,1476.090289708744,1476.090289708744,1475.889322667182,1475.4912567427698,1475.4912567427698,1475.4912567427698,1475.4912567427698,1475.4912567427698,1475.4912567427698,1475.4912567427698,1475.4912567427698,1475.4912567427698,1475.4912567427698,1475.4912567427698,1475.4912567427698,1475.4912567427698,1475.2474102913882,1475.2474102913882,1475.2474102913882,1475.2474102913882,1475.2474102913882,1475.2474102913882,1475.2474102913882,1475.2474102913882,1472.42141522298,1467.7740004945206,1462.0323036787397,1459.166854832125,1459.005263059389,1458.9940339645116,1458.9940339645116,1458.9940339645116,1458.9940339645116,1458.9940339645116,1458.9940339645116,1458.9940339645116,1455.3253036707138,1443.610510095863,1429.8958758169329,1426.0815316080957,1422.71088305847,1410.7608921404963,1409.0304309112025,1408.1824107647353,1396.4446068813083,1396.4446068813083,1396.4446068813083,1396.4446068813083,1396.4446068813083,1396.4446068813083,1396.4446068813083,1396.4446068813083,1396.4446068813083,1396.4446068813083,1396.4446068813083,1396.4446068813083,1396.4446068813083,1396.4446068813083,1396.4446068813083,1396.4446068813083,1396.4446068813083,1396.1057740233562,1396.1057740233562,1396.1057740233562,1396.1057740233562,1396.1057740233562,1396.1057740233562,1396.1057740233562,1396.1057740233562,1396.1057740233562,1396.1057740233562,1396.1057740233562,1396.1057740233562,1396.1057740233562,1396.8162468008438,1396.9816652659897,1397.2347632099306,1397.3204359305234,1397.3204359305234,1397.3204359305234,1401.7799390696846,1402.4536551360936,1402.4536551360936,1402.4536551360936,1402.4536551360936,1402.4536551360936,1399.709451114442,1396.53992639325,1392.5176840613979,1384.234805334607,1359.5255449055996,1359.5255449055996,1358.071758600984,1345.5612476856925,1345.24786372026,1345.24786372026,1345.24786372026,1345.24786372026,1345.24786372026,1345.38987061416,1345.38987061416,1345.38987061416,1345.38987061416,1345.38987061416,1345.38987061416,1344.9634624769806,1342.8466316487375,1341.1718007744532,1341.1718007744532,1341.1718007744532,1341.1718007744532,1341.1718007744532,1341.1718007744532,1341.1718007744532,1340.5670381992454,1334.0255247048437,1329.6949175903637,1328.2716255814373,1326.9038386067302,1326.9038386067302,1326.9038386067302,1326.9038386067302,1326.9038386067302,1326.9038386067302,1335.601607706653,1335.601607706653,1335.1308489474757,1335.1308489474757,1335.1308489474757,1335.1308489474757,1335.1308489474757,1335.1308489474757,1335.1308489474757,1335.1308489474757,1335.1308489474757,1335.1308489474757,1335.9180399467102,1336.2346955686812,1335.2664944902433,1327.9204026839454,1327.2775472514318,1328.910194449401,1329.4929690723175,1328.066047387099,1328.066047387099,1328.066047387099,1328.066047387099,1328.066047387099,1328.066047387099,1293.3802097900646,1281.4556058492792,1243.3706756947727,1209.105367587443,1176.9007260381068,1159.7357743314737,1155.3462906563761,1157.0092811147488,1157.0092811147488,1157.0092811147488,1157.0092811147488,1157.0092811147488,1139.8371373841853,1135.8367358245973,1135.8367358245973,1135.8367358245973,1134.6349310089126,1134.6349310089126,1134.6349310089126,1134.6349310089126,1134.6349310089126,1134.6349310089126,1134.6349310089126,1134.6349310089126,1134.6349310089126,1109.7280436382339,1110.3280996458889,1105.3406910354436,1086.5783657549641,1067.5748031334997,1067.5801523881955,1069.761361823265,1062.5909532951014,1043.4869225507086,1043.3194142248858,1043.3194142248858,1043.3194142248858,1043.3194142248858,1043.3194142248858,1043.3194142248858,1043.3194142248858,1043.3194142248858,1043.3194142248858,1043.3194142248858,1043.3194142248858,1043.3194142248858,1043.3194142248858,1043.3194142248858,1043.3194142248858,1043.3194142248858,979.3963715052033,949.089547260933,931.136783720864,920.2430118123555,903.9469662004785,876.0897595466358,871.7584272278035,871.7584272278035,871.285492801587,870.8173442653713,870.8173442653713,870.8173442653713,862.9067254218628,801.915350165411,739.9551600331118,723.3348682151732,719.3404661934504,726.0647953775882,725.6450740646043,714.4710125108772,714.4710125108772,714.4710125108772,714.4710125108772,714.4710125108772,714.4710125108772,676.6348146648388,666.2806786737505,630.2373371677173,630.2652137717943,617.7429208347197,613.886657138968,613.286864028623,613.2298088221215,613.183332152138,618.4284183960353,618.8713002486132,617.5918846012445,577.8661056093923,562.2018766638007,506.58528894348,480.2042962279349,406.90986076692406,398.7991423639128,379.5082503693932,357.79224777084755,283.5633419907746,212.6421884043587,156.62946226282986,98.67644495874511,1.0]}},\"id\":\"af951d22-e752-4c80-8acd-b7cdee422b14\",\"type\":\"ColumnDataSource\"},{\"attributes\":{\"line_alpha\":{\"value\":0.1},\"line_color\":{\"value\":\"#1f77b4\"},\"line_width\":{\"value\":2},\"x\":{\"field\":\"x\"},\"y\":{\"field\":\"y\"}},\"id\":\"fa196315-504a-4cf5-b773-d0ab731e34b0\",\"type\":\"Line\"},{\"attributes\":{\"callback\":null,\"column_names\":[\"x\",\"y\"],\"data\":{\"x\":[0,1000,2000,3000,4000,5000,6000,7000,8000,9000,10000,11000,12000,13000,14000,15000,16000,17000,18000,19000,20000,21000,22000,23000,24000,25000,26000,27000,28000,29000,30000,31000,32000,33000,34000,35000,36000,37000,38000,39000,40000,41000,42000,43000,44000,45000,46000,47000,48000,49000,50000,51000,52000,53000,54000,55000,56000,57000,58000,59000,60000,61000,62000,63000,64000,65000,66000,67000,68000,69000,70000,71000,72000,73000,74000,75000,76000,77000,78000,79000,80000,81000,82000,83000,84000,85000,86000,87000,88000,89000,90000,91000,92000,93000,94000,95000,96000,97000,98000,99000,100000,101000,102000,103000,104000,105000,106000,107000,108000,109000,110000,111000,112000,113000,114000,115000,116000,117000,118000,119000,120000,121000,122000,123000,124000,125000,126000,127000,128000,129000,130000,131000,132000,133000,134000,135000,136000,137000,138000,139000,140000,141000,142000,143000,144000,145000,146000,147000,148000,149000,150000,151000,152000,153000,154000,155000,156000,157000,158000,159000,160000,161000,162000,163000,164000,165000,166000,167000,168000,169000,170000,171000,172000,173000,174000,175000,176000,177000,178000,179000,180000,181000,182000,183000,184000,185000,186000,187000,188000,189000,190000,191000,192000,193000,194000,195000,196000,197000,198000,199000,200000,201000,202000,203000,204000,205000,206000,207000,208000,209000,210000,211000,212000,213000,214000,215000,216000,217000,218000,219000,220000,221000,222000,223000,224000,225000,226000,227000,228000,229000,230000,231000,232000,233000,234000,235000,236000,237000,238000,239000,240000,241000,242000,243000,244000,245000,246000,247000,248000,249000,250000,251000,252000,253000,254000,255000,256000,257000,258000,259000,260000,261000,262000,263000,264000,265000,266000,267000,268000,269000,270000,271000,272000,273000,274000,275000,276000,277000,278000,279000,280000,281000,282000,283000,284000,285000,286000,287000,288000,289000,290000,291000,292000,293000,294000,295000,296000,297000,298000,299000,300000],\"y\":[1.0,76.4,118.6,160.0,207.2,254.6,268.6,282.2,306.0,345.2,372.0,413.0,443.2,464.8,465.4,466.4,495.6,495.8,497.2,499.6,508.8,523.2,533.8,570.8,587.0,612.2,612.2,612.2,612.2,612.2,612.2,617.8,618.0,637.4,646.6,658.8,698.0,732.8,738.2,738.2,738.2,738.6,739.0,739.0,742.8,761.8,778.4,788.8,803.2,841.6,880.8,880.8,880.8,880.8,880.8,880.8,880.8,880.8,880.8,880.8,880.8,880.8,880.8,880.8,880.8,880.8,881.0,899.0,908.8,911.4,913.6,939.6,980.6,983.8,985.8,1009.8,1009.8,1009.8,1009.8,1009.8,1009.8,1009.8,1009.8,1009.8,1010.6,1010.6,1010.6,1013.8,1023.4,1023.4,1023.4,1023.4,1023.4,1031.0,1051.4,1073.6,1090.8,1113.8,1135.4,1141.8,1163.0,1163.0,1163.0,1163.0,1163.0,1163.0,1163.8,1164.6,1179.2,1196.8,1206.2,1209.4,1209.8,1210.8,1210.8,1210.8,1210.8,1210.8,1210.8,1210.8,1210.8,1210.8,1210.8,1211.2,1211.2,1224.0,1224.0,1224.0,1224.0,1224.0,1224.0,1225.2,1226.4,1229.8,1234.4,1234.8,1234.8,1234.8,1234.8,1234.8,1234.8,1234.8,1235.6,1236.6,1236.8,1236.8,1236.8,1236.8,1236.8,1236.8,1237.0,1237.0,1237.0,1237.0,1237.0,1237.2,1244.6,1245.4,1245.4,1257.8,1261.6,1263.4,1264.8,1266.0,1266.0,1266.0,1266.0,1266.0,1267.2,1276.2,1276.2,1276.2,1276.4,1277.0,1277.4,1279.2,1279.2,1279.2,1279.2,1279.2,1279.2,1279.2,1279.2,1279.2,1279.2,1279.2,1279.2,1279.2,1279.4,1279.4,1279.4,1279.4,1279.4,1279.4,1279.4,1279.4,1279.4,1279.4,1279.4,1279.4,1279.4,1279.4,1279.4,1279.4,1279.4,1288.8,1289.4,1290.6,1298.2,1300.2,1302.6,1310.4,1316.4,1318.2,1318.2,1318.2,1318.2,1318.2,1318.2,1318.2,1318.4,1320.4,1332.0,1342.4,1348.2,1351.2,1351.2,1351.2,1351.2,1351.2,1351.2,1351.2,1351.2,1351.4,1351.4,1351.4,1351.4,1351.4,1351.4,1351.4,1351.4,1351.4,1351.4,1351.4,1351.4,1351.4,1351.8,1352.0,1352.0,1357.8,1378.6,1378.6,1378.6,1378.6,1378.6,1378.6,1378.6,1378.6,1378.6,1378.6,1380.8,1382.4,1387.4,1393.2,1393.2,1393.2,1393.2,1393.2,1393.2,1393.2,1393.2,1393.2,1393.2,1393.6,1393.6,1393.6,1393.6,1393.6,1393.6,1393.6,1393.6,1393.6,1393.6,1393.6,1393.6,1393.6,1393.6,1393.6,1393.6,1393.6,1393.6,1393.6,1393.6,1393.6,1393.6,1393.6,1393.6,1393.6,1393.6,1394.0]}},\"id\":\"94c72fe5-f8a2-4d6b-ba0e-b8350ec24b7c\",\"type\":\"ColumnDataSource\"},{\"attributes\":{\"fill_alpha\":{\"value\":0.1},\"fill_color\":{\"value\":\"#377eb8\"},\"line_alpha\":{\"value\":0.1},\"line_color\":{\"value\":\"#377eb8\"},\"x\":{\"field\":\"x\"},\"y\":{\"field\":\"y\"}},\"id\":\"20d8e625-aedf-4320-b160-a7d8f4582772\",\"type\":\"Patch\"},{\"attributes\":{\"callback\":null,\"column_names\":[\"x\",\"y\"],\"data\":{\"x\":[0,1000,2000,3000,4000,5000,6000,7000,8000,9000,10000,11000,12000,13000,14000,15000,16000,17000,18000,19000,20000,21000,22000,23000,24000,25000,26000,27000,28000,29000,30000,31000,32000,33000,34000,35000,36000,37000,38000,39000,40000,41000,42000,43000,44000,45000,46000,47000,48000,49000,50000,51000,52000,53000,54000,55000,56000,57000,58000,59000,60000,61000,62000,63000,64000,65000,66000,67000,68000,69000,70000,71000,72000,73000,74000,75000,76000,77000,78000,79000,80000,81000,82000,83000,84000,85000,86000,87000,88000,89000,90000,91000,92000,93000,94000,95000,96000,97000,98000,99000,100000,101000,102000,103000,104000,105000,106000,107000,108000,109000,110000,111000,112000,113000,114000,115000,116000,117000,118000,119000,120000,121000,122000,123000,124000,125000,126000,127000,128000,129000,130000,131000,132000,133000,134000,135000,136000,137000,138000,139000,140000,141000,142000,143000,144000,145000,146000,147000,148000,149000,150000,151000,152000,153000,154000,155000,156000,157000,158000,159000,160000,161000,162000,163000,164000,165000,166000,167000,168000,169000,170000,171000,172000,173000,174000,175000,176000,177000,178000,179000,180000,181000,182000,183000,184000,185000,186000,187000,188000,189000,190000,191000,192000,193000,194000,195000,196000,197000,198000,199000,200000,201000,202000,203000,204000,205000,206000,207000,208000,209000,210000,211000,212000,213000,214000,215000,216000,217000,218000,219000,220000,221000,222000,223000,224000,225000,226000,227000,228000,229000,230000,231000,232000,233000,234000,235000,236000,237000,238000,239000,240000,241000,242000,243000,244000,245000,246000,247000,248000,249000,250000,251000,252000,253000,254000,255000,256000,257000,258000,259000,260000,261000,262000,263000,264000,265000,266000,267000,268000,269000,270000,271000,272000,273000,274000,275000,276000,277000,278000,279000,280000,281000,282000,283000,284000,285000,286000,287000,288000,289000,290000,291000,292000,293000,294000,295000,296000,297000,298000,299000,300000,300000,299000,298000,297000,296000,295000,294000,293000,292000,291000,290000,289000,288000,287000,286000,285000,284000,283000,282000,281000,280000,279000,278000,277000,276000,275000,274000,273000,272000,271000,270000,269000,268000,267000,266000,265000,264000,263000,262000,261000,260000,259000,258000,257000,256000,255000,254000,253000,252000,251000,250000,249000,248000,247000,246000,245000,244000,243000,242000,241000,240000,239000,238000,237000,236000,235000,234000,233000,232000,231000,230000,229000,228000,227000,226000,225000,224000,223000,222000,221000,220000,219000,218000,217000,216000,215000,214000,213000,212000,211000,210000,209000,208000,207000,206000,205000,204000,203000,202000,201000,200000,199000,198000,197000,196000,195000,194000,193000,192000,191000,190000,189000,188000,187000,186000,185000,184000,183000,182000,181000,180000,179000,178000,177000,176000,175000,174000,173000,172000,171000,170000,169000,168000,167000,166000,165000,164000,163000,162000,161000,160000,159000,158000,157000,156000,155000,154000,153000,152000,151000,150000,149000,148000,147000,146000,145000,144000,143000,142000,141000,140000,139000,138000,137000,136000,135000,134000,133000,132000,131000,130000,129000,128000,127000,126000,125000,124000,123000,122000,121000,120000,119000,118000,117000,116000,115000,114000,113000,112000,111000,110000,109000,108000,107000,106000,105000,104000,103000,102000,101000,100000,99000,98000,97000,96000,95000,94000,93000,92000,91000,90000,89000,88000,87000,86000,85000,84000,83000,82000,81000,80000,79000,78000,77000,76000,75000,74000,73000,72000,71000,70000,69000,68000,67000,66000,65000,64000,63000,62000,61000,60000,59000,58000,57000,56000,55000,54000,53000,52000,51000,50000,49000,48000,47000,46000,45000,44000,43000,42000,41000,40000,39000,38000,37000,36000,35000,34000,33000,32000,31000,30000,29000,28000,27000,26000,25000,24000,23000,22000,21000,20000,19000,18000,17000,16000,15000,14000,13000,12000,11000,10000,9000,8000,7000,6000,5000,4000,3000,2000,1000,0],\"y\":[1.0,54.1235550412549,80.57053773717014,107.35781159564128,130.8366580092254,151.4077522291524,157.69174963060686,165.6008576360872,205.09013923307594,210.1957037720651,237.41471105652,263.7981233361993,308.53389439060766,312.00811539875554,311.9286997513867,311.9286997513867,311.9286997513867,313.88401265789594,374.0028380970567,403.9845875824371,436.04491332541653,454.3393802903272,471.9835460173009,471.9835460173009,472.13470015119503,472.13470015119503,472.13470015119503,472.13470015119503,472.13470015119503,472.13470015119503,472.13470015119503,472.13470015119503,472.13470015119503,472.13470015119503,474.1888332785258,484.9937672008657,522.8120892504577,540.7961040603717,552.3622809284004,552.3622809284004,552.3622809284004,552.3622809284004,552.3622809284004,552.3622809284004,553.8613651613565,553.8613651613565,553.651848730578,553.6122188834967,568.8908485910239,569.7840602724177,576.8018587681694,576.8018587681694,576.8018587681694,576.8018587681694,576.8018587681694,576.8018587681694,576.8018587681694,576.8018587681694,576.6838286646218,576.6838286646218,576.6838286646218,576.6838286646218,576.6838286646218,576.6838286646218,576.6838286646218,576.6838286646218,576.6838286646218,576.6838286646218,576.6838286646218,576.6838286646218,576.6838286646218,576.6838286646218,576.6838286646218,576.6838286646218,576.6838286646218,576.6838286646218,576.6838286646218,576.6838286646218,576.6838286646218,576.6838286646218,587.9379826694594,594.0436595729165,585.814769082942,585.814769082942,577.4367191796248,578.9300682166975,564.9952737012994,558.6272565483632,555.3486292472797,555.3486292472797,555.3486292472797,555.3486292472797,555.3486292472797,555.3486292472797,555.3486292472797,555.3486292472797,555.3486292472797,555.3486292472797,555.3486292472797,555.3486292472797,555.3486292472797,555.3486292472797,555.3486292472797,555.3486292472797,555.3486292472797,555.3486292472797,555.3486292472797,555.3486292472797,555.3486292472797,555.3486292472797,555.3486292472797,555.3486292472797,555.3486292472797,555.3486292472797,555.3486292472797,555.3486292472797,555.3486292472797,555.3486292472797,555.3486292472797,555.3486292472797,555.3486292472797,555.3486292472797,555.3486292472797,555.3486292472797,555.3486292472797,555.3486292472797,555.3486292472797,555.3486292472797,555.3486292472797,555.3486292472797,555.3486292472797,555.3486292472797,555.3486292472797,555.3486292472797,555.3486292472797,555.3486292472797,555.3486292472797,556.108171640871,557.8922987736903,557.8922987736903,557.8922987736903,557.8922987736903,557.8922987736903,557.8922987736903,557.4351481616524,557.1295443084217,556.9764938258867,556.9764938258867,556.9764938258867,556.9764938258867,556.9764938258867,556.9764938258867,556.9764938258867,556.9764938258867,556.9764938258867,556.9764938258867,556.9764938258867,556.9764938258867,556.9764938258867,556.9764938258867,556.9764938258867,556.9764938258867,556.9764938258867,556.9764938258867,556.9764938258867,556.9764938258867,556.9764938258867,559.9532884192585,559.9532884192585,563.5173909920873,582.0094268436962,608.7803174762654,610.9454618932932,612.1560758374433,650.093192862619,664.7641132936473,664.7641132936473,664.7641132936473,664.7641132936473,664.7641132936473,664.7641132936473,664.7641132936473,664.7641132936473,664.7641132936473,664.7641132936473,664.7641132936473,664.7641132936473,664.7641132936473,664.7641132936473,664.7641132936473,664.7641132936473,664.7641132936473,664.7641132936473,664.7641132936473,664.7641132936473,664.7641132936473,664.7641132936473,664.7641132936473,664.7641132936473,664.7641132936473,664.7641132936473,664.7641132936473,664.7641132936473,664.7641132936473,664.7641132936473,664.7641132936473,664.7641132936473,664.7641132936473,664.7641132936473,664.7641132936473,664.7641132936473,664.7641132936473,664.6868683663225,664.6868683663225,664.6868683663225,664.6868683663225,664.6868683663225,664.6868683663225,664.6868683663225,664.6868683663225,664.6868683663225,664.6868683663225,664.6868683663225,664.6868683663225,664.6868683663225,664.6868683663225,664.6868683663225,664.6868683663225,664.6868683663225,664.6868683663225,664.6868683663225,664.6868683663225,664.6868683663225,664.6868683663225,664.6868683663225,664.6868683663225,664.6868683663225,664.6868683663225,664.6868683663225,664.6868683663225,664.6868683663225,664.6868683663225,665.9719231239187,675.6610195034843,681.4111798076617,681.4111798076617,696.7909287147498,762.3424051412208,769.5173599447112,770.5206347714441,782.075524755073,782.075524755073,782.075524755073,782.075524755073,782.075524755073,782.075524755073,782.075524755073,782.075524755073,782.075524755073,782.075524755073,782.075524755073,782.075524755073,782.075524755073,782.075524755073,782.075524755073,782.075524755073,782.075524755073,782.075524755073,782.075524755073,782.075524755073,782.075524755073,782.075524755073,782.075524755073,782.075524755073,782.075524755073,782.075524755073,782.075524755073,782.075524755073,782.075524755073,782.075524755073,782.075524755073,782.075524755073,782.075524755073,782.075524755073,782.075524755073,782.2148985254237,782.8998217015584,783.6955516517229,783.6955516517229,783.6955516517229,783.6955516517229,783.6955516517229,783.6955516517229,783.6955516517229,783.6955516517229,783.6955516517229,783.6955516517229,783.6955516517229,783.6955516517229,787.2522156789084,1185.5477843210915,1177.104448348277,1177.104448348277,1177.104448348277,1177.104448348277,1177.104448348277,1177.104448348277,1177.104448348277,1177.104448348277,1177.104448348277,1177.104448348277,1177.104448348277,1177.104448348277,1175.5001782984418,1174.1851014745764,1173.924475244927,1173.924475244927,1173.924475244927,1173.924475244927,1173.924475244927,1173.924475244927,1173.924475244927,1173.924475244927,1173.924475244927,1173.924475244927,1173.924475244927,1173.924475244927,1173.924475244927,1173.924475244927,1173.924475244927,1173.924475244927,1173.924475244927,1173.924475244927,1173.924475244927,1173.924475244927,1173.924475244927,1173.924475244927,1173.924475244927,1173.924475244927,1173.924475244927,1173.924475244927,1173.924475244927,1173.924475244927,1173.924475244927,1173.924475244927,1173.924475244927,1173.924475244927,1173.924475244927,1173.924475244927,1173.924475244927,1108.279365228556,1106.4826400552888,1096.4575948587792,1071.6090712852501,1071.3888201923382,1071.3888201923382,1071.5389804965157,1072.0280768760813,1072.1131316336773,1072.1131316336773,1072.1131316336773,1072.1131316336773,1072.1131316336773,1072.1131316336773,1072.1131316336773,1072.1131316336773,1072.1131316336773,1072.1131316336773,1072.1131316336773,1072.1131316336773,1072.1131316336773,1072.1131316336773,1072.1131316336773,1072.1131316336773,1072.1131316336773,1072.1131316336773,1072.1131316336773,1072.1131316336773,1072.1131316336773,1072.1131316336773,1072.1131316336773,1072.1131316336773,1072.1131316336773,1072.1131316336773,1072.1131316336773,1072.1131316336773,1072.1131316336773,1072.1131316336773,1071.6358867063527,1071.6358867063527,1071.6358867063527,1071.6358867063527,1071.6358867063527,1071.6358867063527,1071.6358867063527,1071.6358867063527,1071.6358867063527,1071.6358867063527,1071.6358867063527,1071.6358867063527,1071.6358867063527,1071.6358867063527,1071.6358867063527,1071.6358867063527,1071.6358867063527,1071.6358867063527,1071.6358867063527,1071.6358867063527,1071.6358867063527,1071.6358867063527,1071.6358867063527,1071.6358867063527,1071.6358867063527,1071.6358867063527,1071.6358867063527,1071.6358867063527,1071.6358867063527,1071.6358867063527,1071.6358867063527,1071.6358867063527,1071.6358867063527,1071.6358867063527,1071.6358867063527,1071.6358867063527,1071.6358867063527,1024.7068071373808,1017.4439241625566,1015.8545381067067,1013.2196825237346,993.5905731563037,987.2826090079127,986.4467115807416,986.4467115807416,985.8235061741133,985.8235061741133,985.8235061741133,985.8235061741133,985.8235061741133,985.8235061741133,985.8235061741133,985.8235061741133,985.8235061741133,985.8235061741133,985.8235061741133,985.8235061741133,985.8235061741133,985.8235061741133,985.8235061741133,985.8235061741133,985.8235061741133,985.8235061741133,985.8235061741133,985.8235061741133,985.8235061741133,985.2704556915784,984.1648518383475,982.5077012263098,982.5077012263098,982.5077012263098,982.5077012263098,982.5077012263098,982.5077012263098,978.2918283591291,976.6513707527203,976.6513707527203,976.6513707527203,976.6513707527203,976.6513707527203,976.6513707527203,976.6513707527203,976.6513707527203,976.6513707527203,976.6513707527203,976.6513707527203,976.6513707527203,976.6513707527203,976.6513707527203,976.6513707527203,976.6513707527203,976.6513707527203,976.6513707527203,976.6513707527203,976.6513707527203,976.6513707527203,976.6513707527203,976.6513707527203,976.6513707527203,976.6513707527203,976.6513707527203,976.6513707527203,976.6513707527203,976.6513707527203,976.6513707527203,976.6513707527203,976.6513707527203,976.6513707527203,976.6513707527203,976.6513707527203,976.6513707527203,976.6513707527203,976.6513707527203,976.6513707527203,976.6513707527203,976.6513707527203,976.6513707527203,976.6513707527203,976.6513707527203,976.6513707527203,976.6513707527203,976.6513707527203,976.6513707527203,976.6513707527203,962.1727434516367,886.6047262987005,826.6699317833024,806.1632808203751,775.385230917058,775.385230917058,738.7563404270835,689.2620173305406,684.9161713353781,684.9161713353781,684.9161713353781,684.9161713353781,684.9161713353781,684.9161713353781,684.9161713353781,684.9161713353781,684.9161713353781,684.9161713353781,684.9161713353781,684.9161713353781,684.9161713353781,684.9161713353781,684.9161713353781,684.9161713353781,684.9161713353781,684.9161713353781,684.9161713353781,684.9161713353781,684.9161713353781,684.9161713353781,684.3981412318307,684.3981412318307,684.3981412318307,684.3981412318307,684.3981412318307,684.3981412318307,684.3981412318307,684.3981412318307,680.2159397275823,672.709151408976,641.9877811165032,641.5481512694221,638.5386348386436,638.5386348386436,637.2377190715995,637.2377190715995,637.2377190715995,637.2377190715995,637.2377190715995,637.2377190715995,633.2038959396283,631.9879107495423,632.6062327991342,631.8111667214741,631.4652998488049,631.4652998488049,631.4652998488049,631.4652998488049,631.4652998488049,631.4652998488049,631.4652998488049,631.4652998488049,631.4652998488049,631.4652998488049,630.0164539826991,630.0164539826991,629.2606197096727,620.3550866745836,616.8154124175628,613.5971619029433,618.515987342104,618.8713002486132,618.8713002486132,618.8713002486132,617.5918846012445,577.8661056093923,562.2018766638007,506.58528894348,480.2042962279349,406.90986076692406,398.7991423639128,379.5082503693932,357.79224777084755,283.5633419907746,212.6421884043587,156.62946226282986,98.67644495874511,1.0]}},\"id\":\"9c635f61-3f0a-4044-a6dc-ab74222dca42\",\"type\":\"ColumnDataSource\"},{\"attributes\":{\"fill_alpha\":{\"value\":0.1},\"fill_color\":{\"value\":\"#984ea3\"},\"line_alpha\":{\"value\":0.1},\"line_color\":{\"value\":\"#984ea3\"},\"x\":{\"field\":\"x\"},\"y\":{\"field\":\"y\"}},\"id\":\"31a47e7b-9364-4237-a6eb-7d4e5c4ecccc\",\"type\":\"Patch\"},{\"attributes\":{\"plot\":{\"id\":\"c1b141c1-16e2-41a2-9473-a16bbac33d90\",\"subtype\":\"Figure\",\"type\":\"Plot\"},\"ticker\":{\"id\":\"593a0250-6a59-4f04-b6cd-f432bba999d2\",\"type\":\"BasicTicker\"}},\"id\":\"50984ec0-d879-4304-9359-c785400aa04f\",\"type\":\"Grid\"},{\"attributes\":{\"use_scientific\":false},\"id\":\"dc4d2840-058a-4f06-bcaf-213d20cdf365\",\"type\":\"BasicTickFormatter\"},{\"attributes\":{\"line_alpha\":{\"value\":0.1},\"line_color\":{\"value\":\"#1f77b4\"},\"line_width\":{\"value\":2},\"x\":{\"field\":\"x\"},\"y\":{\"field\":\"y\"}},\"id\":\"7238e862-2bd9-495a-9347-a2367921441f\",\"type\":\"Line\"},{\"attributes\":{\"line_color\":{\"value\":\"#4daf4a\"},\"line_width\":{\"value\":2},\"x\":{\"field\":\"x\"},\"y\":{\"field\":\"y\"}},\"id\":\"a43ed2b3-27dc-478d-ac28-1b1a57616da4\",\"type\":\"Line\"},{\"attributes\":{},\"id\":\"27525bff-9dc3-4f03-8c99-9c407abea2e1\",\"type\":\"ToolEvents\"},{\"attributes\":{\"fill_alpha\":{\"value\":0.1},\"fill_color\":{\"value\":\"#1f77b4\"},\"line_alpha\":{\"value\":0.1},\"line_color\":{\"value\":\"#1f77b4\"},\"x\":{\"field\":\"x\"},\"y\":{\"field\":\"y\"}},\"id\":\"2b2749c3-32fa-4fd7-bd47-7a2fd9129331\",\"type\":\"Patch\"},{\"attributes\":{\"callback\":null,\"column_names\":[\"x\",\"y\"],\"data\":{\"x\":[0,1000,2000,3000,4000,5000,6000,7000,8000,9000,10000,11000,12000,13000,14000,15000,16000,17000,18000,19000,20000,21000,22000,23000,24000,25000,26000,27000,28000,29000,30000,31000,32000,33000,34000,35000,36000,37000,38000,39000,40000,41000,42000,43000,44000,45000,46000,47000,48000,49000,50000,51000,52000,53000,54000,55000,56000,57000,58000,59000,60000,61000,62000,63000,64000,65000,66000,67000,68000,69000,70000,71000,72000,73000,74000,75000,76000,77000,78000,79000,80000,81000,82000,83000,84000,85000,86000,87000,88000,89000,90000,91000,92000,93000,94000,95000,96000,97000,98000,99000,100000,101000,102000,103000,104000,105000,106000,107000,108000,109000,110000,111000,112000,113000,114000,115000,116000,117000,118000,119000,120000,121000,122000,123000,124000,125000,126000,127000,128000,129000,130000,131000,132000,133000,134000,135000,136000,137000,138000,139000,140000,141000,142000,143000,144000,145000,146000,147000,148000,149000,150000,151000,152000,153000,154000,155000,156000,157000,158000,159000,160000,161000,162000,163000,164000,165000,166000,167000,168000,169000,170000,171000,172000,173000,174000,175000,176000,177000,178000,179000,180000,181000,182000,183000,184000,185000,186000,187000,188000,189000,190000,191000,192000,193000,194000,195000,196000,197000,198000,199000,200000,201000,202000,203000,204000,205000,206000,207000,208000,209000,210000,211000,212000,213000,214000,215000,216000,217000,218000,219000,220000,221000,222000,223000,224000,225000,226000,227000,228000,229000,230000,231000,232000,233000,234000,235000,236000,237000,238000,239000,240000,241000,242000,243000,244000,245000,246000,247000,248000,249000,250000,251000,252000,253000,254000,255000,256000,257000,258000,259000,260000,261000,262000,263000,264000,265000,266000,267000,268000,269000,270000,271000,272000,273000,274000,275000,276000,277000,278000,279000,280000,281000,282000,283000,284000,285000,286000,287000,288000,289000,290000,291000,292000,293000,294000,295000,296000,297000,298000,299000,300000,300000,299000,298000,297000,296000,295000,294000,293000,292000,291000,290000,289000,288000,287000,286000,285000,284000,283000,282000,281000,280000,279000,278000,277000,276000,275000,274000,273000,272000,271000,270000,269000,268000,267000,266000,265000,264000,263000,262000,261000,260000,259000,258000,257000,256000,255000,254000,253000,252000,251000,250000,249000,248000,247000,246000,245000,244000,243000,242000,241000,240000,239000,238000,237000,236000,235000,234000,233000,232000,231000,230000,229000,228000,227000,226000,225000,224000,223000,222000,221000,220000,219000,218000,217000,216000,215000,214000,213000,212000,211000,210000,209000,208000,207000,206000,205000,204000,203000,202000,201000,200000,199000,198000,197000,196000,195000,194000,193000,192000,191000,190000,189000,188000,187000,186000,185000,184000,183000,182000,181000,180000,179000,178000,177000,176000,175000,174000,173000,172000,171000,170000,169000,168000,167000,166000,165000,164000,163000,162000,161000,160000,159000,158000,157000,156000,155000,154000,153000,152000,151000,150000,149000,148000,147000,146000,145000,144000,143000,142000,141000,140000,139000,138000,137000,136000,135000,134000,133000,132000,131000,130000,129000,128000,127000,126000,125000,124000,123000,122000,121000,120000,119000,118000,117000,116000,115000,114000,113000,112000,111000,110000,109000,108000,107000,106000,105000,104000,103000,102000,101000,100000,99000,98000,97000,96000,95000,94000,93000,92000,91000,90000,89000,88000,87000,86000,85000,84000,83000,82000,81000,80000,79000,78000,77000,76000,75000,74000,73000,72000,71000,70000,69000,68000,67000,66000,65000,64000,63000,62000,61000,60000,59000,58000,57000,56000,55000,54000,53000,52000,51000,50000,49000,48000,47000,46000,45000,44000,43000,42000,41000,40000,39000,38000,37000,36000,35000,34000,33000,32000,31000,30000,29000,28000,27000,26000,25000,24000,23000,22000,21000,20000,19000,18000,17000,16000,15000,14000,13000,12000,11000,10000,9000,8000,7000,6000,5000,4000,3000,2000,1000,0],\"y\":[1.0,54.1235550412549,80.57053773717014,107.35781159564128,130.8366580092254,151.40775222915238,157.69174963060686,165.6008576360872,205.09013923307594,210.1957037720651,237.41471105652,263.7981233361993,308.53389439060766,312.1039829356938,312.1039829356938,351.6802717729843,374.0893131358301,376.0013513590632,392.4889441460694,402.7751880353407,402.7751880353407,403.18534422445157,417.9151451309583,437.223608140259,447.9838151992671,455.92225580089166,455.92225580089166,455.92225580089166,455.92225580089166,462.2849037192749,469.5271744259776,481.1845785934066,489.5686778263068,489.5686778263068,518.7906759400169,529.1126984347658,538.8776214021368,535.8831533684106,534.1258752872935,534.1258752872935,534.1258752872935,534.1258752872935,544.2583337917629,545.7696630628612,550.3677069950786,551.2396519966805,555.444076139222,568.2773690841219,568.2773690841219,580.5535550548686,627.9864485681438,627.9864485681438,627.9864485681438,627.9864485681438,627.9864485681438,627.9864485681438,634.4485206156448,634.315437506031,635.4500171821327,637.2760744946745,628.2956393692426,626.1560974656752,626.8669975936318,630.2687173093785,630.2687173093785,630.2687173093785,633.214139459911,638.8948875438496,672.5535880439975,680.9447191004559,705.4458863515016,721.4911767399651,738.8876405825814,768.3494622748008,777.820493237612,811.7370189669989,811.7370189669989,811.7370189669989,811.7370189669989,811.7370189669989,811.7370189669989,811.7370189669989,819.3882702990684,828.4372208288,843.4121476919215,849.4076743178723,849.8074800228733,853.0422320384374,851.2002949854646,851.2002949854646,851.2002949854646,851.2002949854646,856.2009940382409,876.591152464709,885.8642741148428,890.899605055703,891.442892096238,893.0531225501726,896.6949337550845,897.4541479086943,911.0344048709807,911.0344048709807,911.0344048709807,911.0344048709807,913.4598833666428,915.005480946331,915.3449099765979,916.6632261244794,916.7927857015184,916.7927857015184,916.7927857015184,916.5036903367549,925.6,925.4027881221505,925.4027881221505,925.4027881221505,925.4027881221505,927.811710355791,927.811710355791,929.548147510875,930.1135861230441,932.1297236275963,939.5946593658434,952.4283546444325,958.3816761251404,965.0418945254796,965.0418945254796,965.0418945254796,965.0418945254796,965.0418945254796,965.0418945254796,965.0418945254796,965.0418945254796,965.8319574101552,966.4793119982744,971.1749587458783,971.7941277329436,972.1668959486772,972.1668959486772,972.1668959486772,972.1668959486772,972.1668959486772,972.1668959486772,972.1668959486772,972.1668959486772,973.6307843275399,973.6307843275399,973.6307843275399,973.6712937187646,973.8276287359047,973.8276287359047,973.8276287359047,973.8276287359047,973.8276287359047,973.8276287359047,973.8276287359047,973.8276287359047,973.8276287359047,973.8276287359047,973.8276287359047,973.8276287359047,973.8276287359047,973.8276287359047,973.9023910404509,973.9023910404509,973.9023910404509,973.9023910404509,973.9023910404509,973.9023910404509,973.9023910404509,973.9023910404509,973.9023910404509,973.9023910404509,973.9023910404509,973.9023910404509,973.9023910404509,973.9023910404509,973.9023910404509,973.9023910404509,973.9023910404509,973.9023910404509,974.0836019231845,976.3779384757204,976.3779384757204,976.5497094867619,987.6614696397771,987.6614696397771,996.1535186911183,996.2195538354997,996.2195538354997,996.2195538354997,996.2195538354997,996.2195538354997,996.2195538354997,996.2195538354997,996.2195538354997,996.2195538354997,996.2195538354997,996.2195538354997,996.2195538354997,1000.9571020950935,1000.9571020950935,1000.9571020950935,1000.9571020950935,1000.9571020950935,1000.9571020950935,1000.9571020950935,1000.9571020950935,1000.9571020950935,1000.9571020950935,1000.9571020950935,1000.9571020950935,1000.9571020950935,1000.9571020950935,1000.9571020950935,1000.9571020950935,1000.9571020950935,1000.9571020950935,1000.9571020950935,1000.9571020950935,1000.9571020950935,1000.9571020950935,1000.9571020950935,1000.9571020950935,1000.9571020950935,1000.9571020950935,1000.9571020950935,1000.9571020950935,1000.9571020950935,1000.9571020950935,1000.9571020950935,1000.9571020950935,1000.9571020950935,1000.9571020950935,1000.9571020950935,1000.9571020950935,1000.9571020950935,1000.9571020950935,1000.9571020950935,1000.9571020950935,1000.9571020950935,1000.9571020950935,1000.9571020950935,1001.3404093479987,1001.41539102259,1001.4898146574047,1002.1346502513272,1002.4069125341457,1002.4069125341457,1002.4736097820414,1002.6704309588504,1002.6704309588504,1002.6704309588504,1002.6704309588504,1002.6704309588504,1002.6704309588504,1002.6704309588504,1002.798928026702,1002.798928026702,1002.798928026702,1002.798928026702,1002.798928026702,1002.798928026702,1002.798928026702,1002.798928026702,1002.798928026702,1002.798928026702,1002.798928026702,1002.798928026702,1002.798928026702,1002.798928026702,1002.798928026702,1002.798928026702,1002.798928026702,1002.798928026702,1002.798928026702,1002.798928026702,1002.798928026702,1002.798928026702,1002.798928026702,1002.798928026702,1002.798928026702,1002.798928026702,1002.798928026702,1002.798928026702,1009.2927015439227,1011.0631039525192,1024.0373814671807,1041.1144345238565,1041.1144345238565,1041.1144345238565,1041.1144345238565,1041.1144345238565,1041.1144345238565,1043.4674158380872,1046.40774539585,1058.158596870479,1065.2005454552218,1065.787067776053,1065.787067776053,1505.0129322239472,1505.0129322239472,1505.1994545447783,1507.441403129521,1511.1922546041499,1512.1325841619127,1512.8855654761435,1512.8855654761435,1512.8855654761435,1512.8855654761435,1512.8855654761435,1512.8855654761435,1518.3626185328194,1522.5368960474807,1523.1072984560774,1525.201071973298,1525.201071973298,1525.201071973298,1525.201071973298,1525.201071973298,1525.201071973298,1525.201071973298,1525.201071973298,1525.201071973298,1525.201071973298,1525.201071973298,1525.201071973298,1525.201071973298,1525.201071973298,1525.201071973298,1525.201071973298,1525.201071973298,1525.201071973298,1525.201071973298,1525.201071973298,1525.201071973298,1525.201071973298,1525.201071973298,1525.201071973298,1525.201071973298,1525.201071973298,1525.201071973298,1525.201071973298,1524.5295690411494,1524.5295690411494,1524.5295690411494,1524.5295690411494,1524.5295690411494,1524.5295690411494,1524.5295690411494,1523.5263902179586,1523.1930874658542,1523.1930874658542,1521.8653497486728,1518.9101853425955,1518.58460897741,1518.2595906520012,1516.6428979049065,1516.6428979049065,1516.6428979049065,1516.6428979049065,1516.6428979049065,1516.6428979049065,1516.6428979049065,1516.6428979049065,1516.6428979049065,1516.6428979049065,1516.6428979049065,1516.6428979049065,1516.6428979049065,1516.6428979049065,1516.6428979049065,1516.6428979049065,1516.6428979049065,1516.6428979049065,1516.6428979049065,1516.6428979049065,1516.6428979049065,1516.6428979049065,1516.6428979049065,1516.6428979049065,1516.6428979049065,1516.6428979049065,1516.6428979049065,1516.6428979049065,1516.6428979049065,1516.6428979049065,1516.6428979049065,1516.6428979049065,1516.6428979049065,1516.6428979049065,1516.6428979049065,1516.6428979049065,1516.6428979049065,1516.6428979049065,1516.6428979049065,1516.6428979049065,1516.6428979049065,1516.6428979049065,1516.6428979049065,1497.3804461645002,1497.3804461645002,1497.3804461645002,1497.3804461645002,1497.3804461645002,1497.3804461645002,1497.3804461645002,1497.3804461645002,1497.3804461645002,1497.3804461645002,1497.3804461645002,1497.3804461645002,1497.0464813088815,1469.138530360223,1469.138530360223,1449.8502905132382,1449.6220615242796,1449.6220615242796,1446.7163980768157,1446.497608959549,1446.497608959549,1446.497608959549,1446.497608959549,1446.497608959549,1446.497608959549,1446.497608959549,1446.497608959549,1446.497608959549,1446.497608959549,1446.497608959549,1446.497608959549,1446.497608959549,1446.497608959549,1446.497608959549,1446.497608959549,1446.497608959549,1446.497608959549,1445.7723712640952,1445.7723712640952,1445.7723712640952,1445.7723712640952,1445.7723712640952,1445.7723712640952,1445.7723712640952,1445.7723712640952,1445.7723712640952,1445.7723712640952,1445.7723712640952,1445.7723712640952,1445.7723712640952,1445.7723712640952,1444.3287062812356,1443.96921567246,1443.96921567246,1443.96921567246,1442.233104051323,1442.233104051323,1442.233104051323,1442.233104051323,1442.233104051323,1442.233104051323,1442.233104051323,1442.233104051323,1441.8058722670562,1440.8250412541217,1433.9206880017257,1430.1680425898448,1426.1581054745202,1426.1581054745202,1426.1581054745202,1426.1581054745202,1426.1581054745202,1426.1581054745202,1426.1581054745202,1426.1581054745202,1416.8183238748595,1396.7716453555672,1374.0053406341565,1363.0702763724034,1360.686413876956,1360.051852489125,1358.188289644209,1358.188289644209,1355.7972118778493,1355.7972118778493,1355.7972118778493,1355.7972118778493,1352.8,1331.096309663245,1316.0072142984818,1316.0072142984818,1316.0072142984818,1314.5367738755206,1303.8550900234018,1301.7945190536693,1294.1401166333571,1285.3655951290193,1285.3655951290193,1285.3655951290193,1285.3655951290193,1274.1458520913056,1273.7050662449155,1271.7468774498277,1270.957107903762,1270.700394944297,1268.5357258851573,1265.408847535291,1258.5990059617593,1257.9997050145353,1257.9997050145353,1257.9997050145353,1257.9997050145353,1215.7577679615626,1197.3925199771268,1188.1923256821276,1169.3878523080784,1109.9627791712,1092.2117297009315,1084.262981033001,1084.262981033001,1084.262981033001,1084.262981033001,1084.262981033001,1084.262981033001,1084.262981033001,1070.579506762388,1061.2505377251991,1042.3123594174185,1010.5088232600349,996.5541136484984,983.4552808995442,974.2464119560025,949.9051124561504,944.3858605400889,944.5312826906214,944.5312826906214,944.5312826906214,922.3330024063682,875.8439025343248,864.5043606307573,800.7239255053255,780.9499828178674,769.684562493969,767.9514793843553,737.2135514318562,737.2135514318562,737.2135514318562,737.2135514318562,737.2135514318562,737.2135514318562,710.6464449451314,705.7226309158781,705.7226309158781,706.9559238607781,707.5603480033194,705.2322930049213,697.4303369371388,695.7416662082371,689.0741247127065,689.0741247127065,689.0741247127065,689.0741247127065,682.5168466315895,670.7223785978631,643.2873015652343,643.2093240599831,649.2313221736931,649.2313221736931,642.0154214065934,637.6728255740225,636.5150962807251,636.0777441991083,636.0777441991083,636.0777441991083,636.0777441991083,628.4161848007329,623.576391859741,619.2848548690417,618.8146557755484,618.8248119646594,618.8248119646594,615.9110558539305,612.7986486409368,612.7106868641698,610.7197282270156,615.8960170643062,615.8960170643062,577.8661056093923,562.2018766638007,506.58528894348,480.2042962279349,406.90986076692406,398.7991423639128,379.5082503693932,357.7922477708476,283.5633419907746,212.6421884043587,156.62946226282986,98.67644495874511,1.0]}},\"id\":\"650463e3-1a39-495d-815d-d85224a9de33\",\"type\":\"ColumnDataSource\"},{\"attributes\":{},\"id\":\"593a0250-6a59-4f04-b6cd-f432bba999d2\",\"type\":\"BasicTicker\"},{\"attributes\":{\"label\":{\"value\":\"1_Step_EpsilonScaling\"},\"renderers\":[{\"id\":\"616392b3-46f5-4e61-96ac-9e7bf63b4aed\",\"type\":\"GlyphRenderer\"}]},\"id\":\"ca6e60a6-dc86-4dfb-8caf-ff4ccc4bc4da\",\"type\":\"LegendItem\"},{\"attributes\":{\"data_source\":{\"id\":\"41c9bcfc-2898-4b65-bb1f-7560bc3e53b1\",\"type\":\"ColumnDataSource\"},\"glyph\":{\"id\":\"5ed8893e-fdcd-42f2-9e94-d78bc9e7644d\",\"type\":\"Line\"},\"hover_glyph\":null,\"nonselection_glyph\":{\"id\":\"9c770483-f515-4a59-8113-61b3fcf49a30\",\"type\":\"Line\"},\"selection_glyph\":null},\"id\":\"60eda4bb-5894-40c2-ae9f-ae318d175a5f\",\"type\":\"GlyphRenderer\"},{\"attributes\":{\"data_source\":{\"id\":\"25243930-02ae-47fd-9ca5-957e19aee62a\",\"type\":\"ColumnDataSource\"},\"glyph\":{\"id\":\"3c33e8a7-a502-444e-9e4d-3d2ac3ca8211\",\"type\":\"Line\"},\"hover_glyph\":null,\"nonselection_glyph\":{\"id\":\"8ac6ac20-1cdd-4982-87c2-5f7c1eee4c3f\",\"type\":\"Line\"},\"selection_glyph\":null},\"id\":\"616392b3-46f5-4e61-96ac-9e7bf63b4aed\",\"type\":\"GlyphRenderer\"},{\"attributes\":{\"fill_alpha\":{\"value\":0.1},\"fill_color\":{\"value\":\"#1f77b4\"},\"line_alpha\":{\"value\":0.1},\"line_color\":{\"value\":\"#1f77b4\"},\"x\":{\"field\":\"x\"},\"y\":{\"field\":\"y\"}},\"id\":\"ae21cfd7-41e7-4a79-8976-6485ad0cc84d\",\"type\":\"Patch\"},{\"attributes\":{\"fill_alpha\":{\"value\":0.1},\"fill_color\":{\"value\":\"#ff7f00\"},\"line_alpha\":{\"value\":0.1},\"line_color\":{\"value\":\"#ff7f00\"},\"x\":{\"field\":\"x\"},\"y\":{\"field\":\"y\"}},\"id\":\"9c2e95f0-71c5-414d-b194-81e90f7f6ff9\",\"type\":\"Patch\"},{\"attributes\":{\"callback\":null,\"column_names\":[\"x\",\"y\"],\"data\":{\"x\":[0,1000,2000,3000,4000,5000,6000,7000,8000,9000,10000,11000,12000,13000,14000,15000,16000,17000,18000,19000,20000,21000,22000,23000,24000,25000,26000,27000,28000,29000,30000,31000,32000,33000,34000,35000,36000,37000,38000,39000,40000,41000,42000,43000,44000,45000,46000,47000,48000,49000,50000,51000,52000,53000,54000,55000,56000,57000,58000,59000,60000,61000,62000,63000,64000,65000,66000,67000,68000,69000,70000,71000,72000,73000,74000,75000,76000,77000,78000,79000,80000,81000,82000,83000,84000,85000,86000,87000,88000,89000,90000,91000,92000,93000,94000,95000,96000,97000,98000,99000,100000,101000,102000,103000,104000,105000,106000,107000,108000,109000,110000,111000,112000,113000,114000,115000,116000,117000,118000,119000,120000,121000,122000,123000,124000,125000,126000,127000,128000,129000,130000,131000,132000,133000,134000,135000,136000,137000,138000,139000,140000,141000,142000,143000,144000,145000,146000,147000,148000,149000,150000,151000,152000,153000,154000,155000,156000,157000,158000,159000,160000,161000,162000,163000,164000,165000,166000,167000,168000,169000,170000,171000,172000,173000,174000,175000,176000,177000,178000,179000,180000,181000,182000,183000,184000,185000,186000,187000,188000,189000,190000,191000,192000,193000,194000,195000,196000,197000,198000,199000,200000,201000,202000,203000,204000,205000,206000,207000,208000,209000,210000,211000,212000,213000,214000,215000,216000,217000,218000,219000,220000,221000,222000,223000,224000,225000,226000,227000,228000,229000,230000,231000,232000,233000,234000,235000,236000,237000,238000,239000,240000,241000,242000,243000,244000,245000,246000,247000,248000,249000,250000,251000,252000,253000,254000,255000,256000,257000,258000,259000,260000,261000,262000,263000,264000,265000,266000,267000,268000,269000,270000,271000,272000,273000,274000,275000,276000,277000,278000,279000,280000,281000,282000,283000,284000,285000,286000,287000,288000,289000,290000,291000,292000,293000,294000,295000,296000,297000,298000,299000,300000],\"y\":[1.0,76.4,118.6,160.0,207.2,254.6,268.6,282.2,306.0,345.2,372.0,413.0,443.2,464.8,465.4,465.4,465.4,466.2,493.8,510.4,528.2,541.8,551.0,551.0,551.8,551.8,551.8,551.8,551.8,551.8,551.8,551.8,551.8,551.8,553.0,558.8,577.4,587.0,594.8,594.8,594.8,594.8,594.8,594.8,596.2,596.2,597.6,597.8,620.8,625.0,630.6,630.6,630.6,630.6,630.6,630.6,630.6,630.6,630.8,630.8,630.8,630.8,630.8,630.8,630.8,630.8,630.8,630.8,630.8,630.8,630.8,630.8,630.8,630.8,630.8,630.8,630.8,630.8,630.8,630.8,638.6,666.4,680.6,680.6,691.8,702.8,725.8,760.4,766.0,766.0,766.0,766.0,766.0,766.0,766.0,766.0,766.0,766.0,766.0,766.0,766.0,766.0,766.0,766.0,766.0,766.0,766.0,766.0,766.0,766.0,766.0,766.0,766.0,766.0,766.0,766.0,766.0,766.0,766.0,766.0,766.0,766.0,766.0,766.0,766.0,766.0,766.0,766.0,766.0,766.0,766.0,766.0,766.0,766.0,766.0,766.0,766.0,767.2,770.2,770.2,770.2,770.2,770.2,770.2,770.8,771.2,771.4,771.4,771.4,771.4,771.4,771.4,771.4,771.4,771.4,771.4,771.4,771.4,771.4,771.4,771.4,771.4,771.4,771.4,771.4,771.4,771.4,773.2,773.2,775.4,787.8,811.0,813.4,814.8,837.4,868.2,868.2,868.2,868.2,868.2,868.2,868.2,868.2,868.2,868.2,868.2,868.2,868.2,868.2,868.2,868.2,868.2,868.2,868.2,868.2,868.2,868.2,868.2,868.2,868.2,868.2,868.2,868.2,868.2,868.2,868.2,868.2,868.2,868.2,868.2,868.2,868.2,868.4,868.4,868.4,868.4,868.4,868.4,868.4,868.4,868.4,868.4,868.4,868.4,868.4,868.4,868.4,868.4,868.4,868.4,868.4,868.4,868.4,868.4,868.4,868.4,868.4,868.4,868.4,868.4,868.4,868.4,869.0,873.6,876.4,876.4,884.2,929.4,938.0,939.4,978.0,978.0,978.0,978.0,978.0,978.0,978.0,978.0,978.0,978.0,978.0,978.0,978.0,978.0,978.0,978.0,978.0,978.0,978.0,978.0,978.0,978.0,978.0,978.0,978.0,978.0,978.0,978.0,978.0,978.0,978.0,978.0,978.0,978.0,978.0,978.2,979.2,980.4,980.4,980.4,980.4,980.4,980.4,980.4,980.4,980.4,980.4,980.4,980.4,986.4]}},\"id\":\"25243930-02ae-47fd-9ca5-957e19aee62a\",\"type\":\"ColumnDataSource\"},{\"attributes\":{\"bottom_units\":\"screen\",\"fill_alpha\":{\"value\":0.5},\"fill_color\":{\"value\":\"lightgrey\"},\"left_units\":\"screen\",\"level\":\"overlay\",\"line_alpha\":{\"value\":1.0},\"line_color\":{\"value\":\"black\"},\"line_dash\":[4,4],\"line_width\":{\"value\":2},\"plot\":null,\"render_mode\":\"css\",\"right_units\":\"screen\",\"top_units\":\"screen\"},\"id\":\"690a62ad-0532-402f-aeba-7fffb0f2a34f\",\"type\":\"BoxAnnotation\"},{\"attributes\":{\"line_color\":{\"value\":\"#ff7f00\"},\"line_width\":{\"value\":2},\"x\":{\"field\":\"x\"},\"y\":{\"field\":\"y\"}},\"id\":\"5ed8893e-fdcd-42f2-9e94-d78bc9e7644d\",\"type\":\"Line\"},{\"attributes\":{\"label\":{\"value\":\"250_Step_EpsilonScaling\"},\"renderers\":[{\"id\":\"60eda4bb-5894-40c2-ae9f-ae318d175a5f\",\"type\":\"GlyphRenderer\"}]},\"id\":\"72e46ccd-19e0-426e-97dd-ae9a734bd279\",\"type\":\"LegendItem\"},{\"attributes\":{\"line_color\":{\"value\":\"#984ea3\"},\"line_width\":{\"value\":2},\"x\":{\"field\":\"x\"},\"y\":{\"field\":\"y\"}},\"id\":\"8370fde7-6441-48d8-9178-6d67f3c0d30e\",\"type\":\"Line\"},{\"attributes\":{\"callback\":null,\"column_names\":[\"x\",\"y\"],\"data\":{\"x\":[0,1000,2000,3000,4000,5000,6000,7000,8000,9000,10000,11000,12000,13000,14000,15000,16000,17000,18000,19000,20000,21000,22000,23000,24000,25000,26000,27000,28000,29000,30000,31000,32000,33000,34000,35000,36000,37000,38000,39000,40000,41000,42000,43000,44000,45000,46000,47000,48000,49000,50000,51000,52000,53000,54000,55000,56000,57000,58000,59000,60000,61000,62000,63000,64000,65000,66000,67000,68000,69000,70000,71000,72000,73000,74000,75000,76000,77000,78000,79000,80000,81000,82000,83000,84000,85000,86000,87000,88000,89000,90000,91000,92000,93000,94000,95000,96000,97000,98000,99000,100000,101000,102000,103000,104000,105000,106000,107000,108000,109000,110000,111000,112000,113000,114000,115000,116000,117000,118000,119000,120000,121000,122000,123000,124000,125000,126000,127000,128000,129000,130000,131000,132000,133000,134000,135000,136000,137000,138000,139000,140000,141000,142000,143000,144000,145000,146000,147000,148000,149000,150000,151000,152000,153000,154000,155000,156000,157000,158000,159000,160000,161000,162000,163000,164000,165000,166000,167000,168000,169000,170000,171000,172000,173000,174000,175000,176000,177000,178000,179000,180000,181000,182000,183000,184000,185000,186000,187000,188000,189000,190000,191000,192000,193000,194000,195000,196000,197000,198000,199000,200000,201000,202000,203000,204000,205000,206000,207000,208000,209000,210000,211000,212000,213000,214000,215000,216000,217000,218000,219000,220000,221000,222000,223000,224000,225000,226000,227000,228000,229000,230000,231000,232000,233000,234000,235000,236000,237000,238000,239000,240000,241000,242000,243000,244000,245000,246000,247000,248000,249000,250000,251000,252000,253000,254000,255000,256000,257000,258000,259000,260000,261000,262000,263000,264000,265000,266000,267000,268000,269000,270000,271000,272000,273000,274000,275000,276000,277000,278000,279000,280000,281000,282000,283000,284000,285000,286000,287000,288000,289000,290000,291000,292000,293000,294000,295000,296000,297000,298000,299000,300000,300000,299000,298000,297000,296000,295000,294000,293000,292000,291000,290000,289000,288000,287000,286000,285000,284000,283000,282000,281000,280000,279000,278000,277000,276000,275000,274000,273000,272000,271000,270000,269000,268000,267000,266000,265000,264000,263000,262000,261000,260000,259000,258000,257000,256000,255000,254000,253000,252000,251000,250000,249000,248000,247000,246000,245000,244000,243000,242000,241000,240000,239000,238000,237000,236000,235000,234000,233000,232000,231000,230000,229000,228000,227000,226000,225000,224000,223000,222000,221000,220000,219000,218000,217000,216000,215000,214000,213000,212000,211000,210000,209000,208000,207000,206000,205000,204000,203000,202000,201000,200000,199000,198000,197000,196000,195000,194000,193000,192000,191000,190000,189000,188000,187000,186000,185000,184000,183000,182000,181000,180000,179000,178000,177000,176000,175000,174000,173000,172000,171000,170000,169000,168000,167000,166000,165000,164000,163000,162000,161000,160000,159000,158000,157000,156000,155000,154000,153000,152000,151000,150000,149000,148000,147000,146000,145000,144000,143000,142000,141000,140000,139000,138000,137000,136000,135000,134000,133000,132000,131000,130000,129000,128000,127000,126000,125000,124000,123000,122000,121000,120000,119000,118000,117000,116000,115000,114000,113000,112000,111000,110000,109000,108000,107000,106000,105000,104000,103000,102000,101000,100000,99000,98000,97000,96000,95000,94000,93000,92000,91000,90000,89000,88000,87000,86000,85000,84000,83000,82000,81000,80000,79000,78000,77000,76000,75000,74000,73000,72000,71000,70000,69000,68000,67000,66000,65000,64000,63000,62000,61000,60000,59000,58000,57000,56000,55000,54000,53000,52000,51000,50000,49000,48000,47000,46000,45000,44000,43000,42000,41000,40000,39000,38000,37000,36000,35000,34000,33000,32000,31000,30000,29000,28000,27000,26000,25000,24000,23000,22000,21000,20000,19000,18000,17000,16000,15000,14000,13000,12000,11000,10000,9000,8000,7000,6000,5000,4000,3000,2000,1000,0],\"y\":[1.0,54.1235550412549,80.57053773717014,107.35781159564128,130.8366580092254,151.4077522291524,157.69174963060686,165.6008576360872,205.09013923307594,210.1957037720651,237.41471105652,263.7981233361993,308.53389439060766,312.03316218784636,311.9286997513867,326.3874488190763,362.4990807387892,381.93565804449497,393.90909539695133,413.8273474017597,452.8287459995991,522.7207988224677,548.6127981492017,556.0799808245489,562.1846436503197,580.2722700704569,580.2722700704569,580.2722700704569,580.2722700704569,580.6938869843563,589.3923080593421,591.8826834954469,587.6706842408851,587.2433587218427,580.3242899561797,575.3403279339772,571.4255667469041,578.0577823050892,605.5551203796039,605.5551203796039,605.5551203796039,605.5551203796039,605.9336670674818,605.9336670674818,606.3038692710595,641.545226708427,668.6651889694169,674.4974366722765,703.9786732274305,714.9355399838607,717.7104447907735,717.7104447907735,717.7104447907735,717.7104447907735,717.7104447907735,717.7104447907735,717.7104447907735,717.8809852747929,720.3182489975519,720.3182489975519,722.0764877952436,733.6701848871201,756.9055803196557,759.8595204190219,759.8595204190219,764.251623927062,766.1118520370071,766.1118520370071,766.1118520370071,766.1118520370071,766.1118520370071,766.1118520370071,766.1118520370071,766.1118520370071,777.4087294922763,780.2677757498692,780.2677757498692,780.2677757498692,780.2677757498692,780.2677757498692,781.2580419914557,782.7528321326296,783.2193975653705,788.2184025726989,809.7903095203746,826.0595567897723,868.071744345216,876.535077430191,880.2987207236695,880.2987207236695,880.2987207236695,880.2987207236695,880.6266583405388,880.6266583405388,896.0158856759178,896.9736413786209,898.0546200266263,902.1215804601097,902.2006821290337,904.4499702532735,917.6969440149426,917.6969440149426,917.6969440149426,917.6969440149426,917.6969440149426,917.9313775752837,961.8708539089373,1015.8715765526161,1083.9726788096768,1106.334086022876,1155.3116419194146,1190.0885600091567,1193.1660728266745,1210.4070131467022,1210.4070131467022,1210.4070131467022,1210.4070131467022,1210.4070131467022,1210.4070131467022,1210.4070131467022,1210.4070131467022,1218.0046980606435,1252.2813847688808,1258.6251659858121,1258.6251659858121,1272.3991181692136,1272.3991181692136,1272.3991181692136,1272.3991181692136,1272.3991181692136,1272.3991181692136,1272.3991181692136,1272.674716971115,1272.674716971115,1272.674716971115,1272.674716971115,1279.2777652271668,1281.7445365556257,1293.8648730371842,1293.8648730371842,1293.8648730371842,1293.8648730371842,1293.8648730371842,1293.8648730371842,1293.8648730371842,1294.2214971266606,1293.3605168995568,1291.0839494318416,1304.0674884230082,1304.884722073254,1354.5343615673564,1354.5343615673564,1354.5343615673564,1354.5343615673564,1354.5343615673564,1354.5343615673564,1354.5343615673564,1354.5343615673564,1355.0527942126007,1355.0527942126007,1355.0527942126007,1355.0527942126007,1355.2936288632548,1355.2936288632548,1355.2936288632548,1355.2936288632548,1355.2936288632548,1358.3963979973173,1361.4805160402123,1369.6063754127774,1369.6063754127774,1379.0474196190992,1396.1777096436306,1400.2752481645994,1403.4033260036713,1404.465433933479,1404.465433933479,1404.465433933479,1404.465433933479,1404.465433933479,1404.465433933479,1404.91028979911,1404.91028979911,1404.91028979911,1404.91028979911,1404.91028979911,1404.91028979911,1404.91028979911,1404.91028979911,1404.91028979911,1404.91028979911,1404.91028979911,1404.91028979911,1404.91028979911,1404.91028979911,1404.91028979911,1404.91028979911,1404.91028979911,1405.2091318674331,1405.2091318674331,1405.2091318674331,1405.2091318674331,1405.2091318674331,1405.2091318674331,1405.2091318674331,1405.2091318674331,1405.2091318674331,1405.2091318674331,1405.2091318674331,1405.2091318674331,1410.0348693570645,1410.0348693570645,1411.3789863832108,1425.0183791037675,1425.0183791037675,1425.0183791037675,1425.0183791037675,1425.0183791037675,1425.0183791037675,1425.0183791037675,1425.0183791037675,1425.0183791037675,1423.4606617840504,1440.6930887158521,1439.9577126419356,1442.1434765117576,1442.1434765117576,1442.1434765117576,1442.1434765117576,1439.5153192756081,1439.1380953680246,1439.1380953680246,1439.1380953680246,1438.3824341698107,1438.1932737961986,1436.2966166028325,1436.2966166028325,1436.2966166028325,1436.2966166028325,1436.2966166028325,1436.2966166028325,1436.2966166028325,1436.2966166028325,1436.2966166028325,1436.2966166028325,1436.2966166028325,1436.2966166028325,1436.2966166028325,1436.2966166028325,1436.2966166028325,1436.2966166028325,1436.2966166028325,1436.2966166028325,1436.2966166028325,1436.2966166028325,1436.2966166028325,1436.2966166028325,1436.2966166028325,1436.2966166028325,1436.2966166028325,1436.2966166028325,1436.2966166028325,1436.2966166028325,1436.2966166028325,1436.2966166028325,1436.2966166028325,1436.2966166028325,1436.2966166028325,1437.9767270561956,1441.0849201481185,1441.5013513612225,1449.0532065475356,1450.038697132495,1455.0930486525297,1456.0164143975396,1459.4683256476699,1459.4683256476699,1459.4683256476699,1459.4683256476699,1459.4683256476699,1459.4683256476699,1459.4683256476699,1459.4683256476699,1459.4683256476699,1459.4683256476699,1459.4683256476699,1459.4683256476699,1459.4683256476699,1459.4683256476699,1459.4683256476699,1459.4683256476699,1459.4683256476699,1459.4683256476699,1459.4683256476699,1459.4683256476699,1459.4683256476699,1459.4683256476699,1459.4683256476699,1459.4683256476699,1459.4683256476699,1719.3316743523303,1719.3316743523303,1719.3316743523303,1719.3316743523303,1719.3316743523303,1719.3316743523303,1719.3316743523303,1719.3316743523303,1719.3316743523303,1719.3316743523303,1719.3316743523303,1719.3316743523303,1719.3316743523303,1719.3316743523303,1719.3316743523303,1719.3316743523303,1719.3316743523303,1719.3316743523303,1719.3316743523303,1719.3316743523303,1719.3316743523303,1719.3316743523303,1719.3316743523303,1719.3316743523303,1719.3316743523303,1719.1835856024602,1649.3069513474704,1639.161302867505,1636.9467934524644,1626.4986486387775,1626.1150798518813,1623.6232729438043,1622.5033833971677,1622.5033833971677,1622.5033833971677,1622.5033833971677,1622.5033833971677,1622.5033833971677,1622.5033833971677,1622.5033833971677,1622.5033833971677,1622.5033833971677,1622.5033833971677,1622.5033833971677,1622.5033833971677,1622.5033833971677,1622.5033833971677,1622.5033833971677,1622.5033833971677,1622.5033833971677,1622.5033833971677,1622.5033833971677,1622.5033833971677,1622.5033833971677,1622.5033833971677,1622.5033833971677,1622.5033833971677,1622.5033833971677,1622.5033833971677,1622.5033833971677,1622.5033833971677,1622.5033833971677,1622.5033833971677,1622.5033833971677,1622.5033833971677,1616.6067262038016,1616.0175658301894,1613.6619046319756,1613.6619046319756,1613.6619046319756,1612.4846807243919,1604.2565234882425,1604.2565234882425,1604.2565234882425,1604.2565234882425,1603.6422873580643,1601.3069112841479,1598.1393382159495,1592.5816208962324,1592.5816208962324,1592.5816208962324,1592.5816208962324,1592.5816208962324,1592.5816208962324,1592.5816208962324,1592.5816208962324,1592.5816208962324,1584.6210136167892,1584.3651306429356,1584.3651306429356,1584.7908681325669,1584.7908681325669,1584.7908681325669,1584.7908681325669,1584.7908681325669,1584.7908681325669,1584.7908681325669,1584.7908681325669,1584.7908681325669,1584.7908681325669,1584.7908681325669,1584.7908681325669,1584.68971020089,1584.68971020089,1584.68971020089,1584.68971020089,1584.68971020089,1584.68971020089,1584.68971020089,1584.68971020089,1584.68971020089,1584.68971020089,1584.68971020089,1584.68971020089,1584.68971020089,1584.68971020089,1584.68971020089,1584.68971020089,1584.68971020089,1584.7345660665208,1584.7345660665208,1584.7345660665208,1584.7345660665208,1584.7345660665208,1584.7345660665208,1583.7966739963285,1584.1247518354007,1584.6222903563696,1587.352580380901,1589.1936245872228,1589.1936245872228,1590.9194839597878,1591.6036020026827,1592.3063711367452,1592.3063711367452,1592.3063711367452,1592.3063711367452,1592.3063711367452,1592.1472057873991,1592.1472057873991,1592.1472057873991,1592.1472057873991,1592.2656384326438,1592.2656384326438,1592.2656384326438,1592.2656384326438,1592.2656384326438,1592.2656384326438,1592.2656384326438,1592.2656384326438,1602.715277926746,1601.5325115769917,1594.5160505681583,1575.0394831004432,1550.9785028733393,1544.1351269628158,1544.1351269628158,1544.1351269628158,1544.1351269628158,1544.1351269628158,1544.1351269628158,1544.1351269628158,1508.2554634443743,1505.5222347728334,1500.1252830288852,1500.1252830288852,1500.1252830288852,1500.1252830288852,1499.2008818307863,1499.2008818307863,1499.2008818307863,1499.2008818307863,1499.2008818307863,1499.2008818307863,1499.2008818307863,1503.3748340141879,1503.3748340141879,1505.318615231119,1515.9953019393565,1518.392986853298,1518.392986853298,1518.392986853298,1518.392986853298,1518.392986853298,1518.392986853298,1518.392986853298,1518.392986853298,1505.6339271733257,1503.9114399908433,1513.4883580805856,1519.665913977124,1518.8273211903233,1513.7284234473836,1529.7291460910626,1542.8686224247165,1542.7030559850575,1542.7030559850575,1542.7030559850575,1542.7030559850575,1542.7030559850575,1492.7500297467263,1488.5993178709664,1488.2784195398904,1474.3453799733738,1470.626358621379,1467.584114324082,1435.7733416594613,1435.7733416594613,1435.3012792763304,1435.3012792763304,1435.3012792763304,1435.3012792763304,1421.864922569809,1354.7282556547843,1251.1404432102277,1197.8096904796253,1168.581597427301,1154.3806024346295,1150.8471678673702,1147.1419580085444,1144.9322242501307,1144.9322242501307,1144.9322242501307,1144.9322242501307,1144.9322242501307,1139.3912705077237,1124.6881479629928,1124.6881479629928,1124.6881479629928,1124.6881479629928,1124.6881479629928,1124.6881479629928,1124.6881479629928,1124.6881479629928,1122.9483760729381,1119.3404795809781,1119.3404795809781,1117.0944196803443,1106.32981511288,1061.9235122047564,1036.4817510024482,1036.4817510024482,1032.919014725207,1032.6895552092265,1032.6895552092265,1032.6895552092265,1032.6895552092265,1032.6895552092265,1032.6895552092265,1032.6895552092265,1019.0644600161393,1017.2213267725696,1013.9025633277236,1008.5348110305831,963.6547732915731,939.6961307289405,938.8663329325182,938.8663329325182,938.044879620396,938.044879620396,938.044879620396,938.044879620396,922.7422176949108,907.7744332530959,879.0596720660229,854.0757100438204,818.7566412781573,811.1293157591149,776.1173165045531,750.6076919406579,736.1061130156437,735.7277299295431,735.7277299295431,735.7277299295431,735.7277299295431,679.4153563496802,639.520019175451,632.9872018507982,630.8792011775322,621.1712540004008,618.5726525982403,614.8909046030486,613.2643419555051,612.7009192612109,616.4125511809236,618.8713002486132,617.1668378121537,577.8661056093923,562.2018766638007,506.58528894348,480.2042962279349,406.90986076692406,398.7991423639128,379.5082503693932,357.79224777084755,283.5633419907746,212.6421884043587,156.62946226282986,98.67644495874511,1.0]}},\"id\":\"e5bfbc42-0e76-4e08-8609-3618ea20f68a\",\"type\":\"ColumnDataSource\"},{\"attributes\":{\"overlay\":{\"id\":\"690a62ad-0532-402f-aeba-7fffb0f2a34f\",\"type\":\"BoxAnnotation\"},\"plot\":{\"id\":\"c1b141c1-16e2-41a2-9473-a16bbac33d90\",\"subtype\":\"Figure\",\"type\":\"Plot\"}},\"id\":\"5a45b9bb-01ee-49e9-9c98-ec8ff4f7b6b0\",\"type\":\"BoxZoomTool\"},{\"attributes\":{\"line_color\":{\"value\":\"#e41a1c\"},\"line_width\":{\"value\":2},\"x\":{\"field\":\"x\"},\"y\":{\"field\":\"y\"}},\"id\":\"3c33e8a7-a502-444e-9e4d-3d2ac3ca8211\",\"type\":\"Line\"},{\"attributes\":{\"label\":{\"value\":\"100_Step_EpsilonScaling\"},\"renderers\":[{\"id\":\"5e6258f5-b6ee-4849-a721-bb3589178bed\",\"type\":\"GlyphRenderer\"}]},\"id\":\"86848a7e-d82e-4100-bebb-c2f4cef30e7a\",\"type\":\"LegendItem\"},{\"attributes\":{\"plot\":{\"id\":\"c1b141c1-16e2-41a2-9473-a16bbac33d90\",\"subtype\":\"Figure\",\"type\":\"Plot\"}},\"id\":\"faf77255-0852-46c7-8066-d58de6120e46\",\"type\":\"ResetTool\"},{\"attributes\":{\"line_alpha\":{\"value\":0.1},\"line_color\":{\"value\":\"#1f77b4\"},\"line_width\":{\"value\":2},\"x\":{\"field\":\"x\"},\"y\":{\"field\":\"y\"}},\"id\":\"abf2ebc9-b011-4064-8c77-5811a78a4ac5\",\"type\":\"Line\"},{\"attributes\":{\"callback\":null,\"column_names\":[\"x\",\"y\"],\"data\":{\"x\":[0,1000,2000,3000,4000,5000,6000,7000,8000,9000,10000,11000,12000,13000,14000,15000,16000,17000,18000,19000,20000,21000,22000,23000,24000,25000,26000,27000,28000,29000,30000,31000,32000,33000,34000,35000,36000,37000,38000,39000,40000,41000,42000,43000,44000,45000,46000,47000,48000,49000,50000,51000,52000,53000,54000,55000,56000,57000,58000,59000,60000,61000,62000,63000,64000,65000,66000,67000,68000,69000,70000,71000,72000,73000,74000,75000,76000,77000,78000,79000,80000,81000,82000,83000,84000,85000,86000,87000,88000,89000,90000,91000,92000,93000,94000,95000,96000,97000,98000,99000,100000,101000,102000,103000,104000,105000,106000,107000,108000,109000,110000,111000,112000,113000,114000,115000,116000,117000,118000,119000,120000,121000,122000,123000,124000,125000,126000,127000,128000,129000,130000,131000,132000,133000,134000,135000,136000,137000,138000,139000,140000,141000,142000,143000,144000,145000,146000,147000,148000,149000,150000,151000,152000,153000,154000,155000,156000,157000,158000,159000,160000,161000,162000,163000,164000,165000,166000,167000,168000,169000,170000,171000,172000,173000,174000,175000,176000,177000,178000,179000,180000,181000,182000,183000,184000,185000,186000,187000,188000,189000,190000,191000,192000,193000,194000,195000,196000,197000,198000,199000,200000,201000,202000,203000,204000,205000,206000,207000,208000,209000,210000,211000,212000,213000,214000,215000,216000,217000,218000,219000,220000,221000,222000,223000,224000,225000,226000,227000,228000,229000,230000,231000,232000,233000,234000,235000,236000,237000,238000,239000,240000,241000,242000,243000,244000,245000,246000,247000,248000,249000,250000,251000,252000,253000,254000,255000,256000,257000,258000,259000,260000,261000,262000,263000,264000,265000,266000,267000,268000,269000,270000,271000,272000,273000,274000,275000,276000,277000,278000,279000,280000,281000,282000,283000,284000,285000,286000,287000,288000,289000,290000,291000,292000,293000,294000,295000,296000,297000,298000,299000,300000],\"y\":[1.0,76.4,118.6,160.0,207.2,254.6,268.6,282.2,306.0,345.2,372.0,413.0,443.2,464.0,464.0,481.2,493.4,494.4,504.2,510.8,510.8,511.0,518.6,530.4,538.2,546.0,546.0,546.0,546.0,549.4,553.6,561.6,569.4,569.4,581.0,586.2,604.8,609.2,611.6,611.6,611.6,611.6,620.0,621.6,627.8,629.4,631.2,637.0,637.0,645.6,682.6,682.6,682.6,682.6,682.6,682.6,701.2,702.0,708.2,719.0,746.4,751.0,774.6,787.4,787.4,787.4,788.8,794.4,823.4,832.2,851.0,866.0,890.6,914.8,924.2,948.0,948.0,948.0,948.0,948.0,948.0,948.0,955.8,969.2,1006.4,1018.8,1023.6,1034.4,1054.6,1054.6,1054.6,1054.6,1057.4,1071.0,1077.2,1080.8,1081.2,1082.4,1085.2,1085.8,1098.2,1098.2,1098.2,1098.2,1103.8,1108.4,1109.6,1115.6,1116.4,1116.4,1116.4,1123.8,1139.2,1140.6,1140.6,1140.6,1140.6,1143.0,1143.0,1144.8,1145.4,1147.6,1156.8,1174.6,1187.6,1195.6,1195.6,1195.6,1195.6,1195.6,1195.6,1195.6,1195.6,1198.0,1200.2,1206.0,1206.8,1207.2,1207.2,1207.2,1207.2,1207.2,1207.2,1207.2,1207.2,1208.8,1208.8,1208.8,1209.0,1209.8,1209.8,1209.8,1209.8,1209.8,1209.8,1209.8,1209.8,1209.8,1209.8,1209.8,1209.8,1209.8,1209.8,1210.2,1210.2,1210.2,1210.2,1210.2,1210.2,1210.2,1210.2,1210.2,1210.2,1210.2,1210.2,1210.2,1210.2,1210.2,1210.2,1210.2,1210.2,1210.4,1213.0,1213.0,1213.2,1228.4,1228.4,1246.6,1246.8,1246.8,1246.8,1246.8,1246.8,1246.8,1246.8,1246.8,1246.8,1246.8,1246.8,1246.8,1258.8,1258.8,1258.8,1258.8,1258.8,1258.8,1258.8,1258.8,1258.8,1258.8,1258.8,1258.8,1258.8,1258.8,1258.8,1258.8,1258.8,1258.8,1258.8,1258.8,1258.8,1258.8,1258.8,1258.8,1258.8,1258.8,1258.8,1258.8,1258.8,1258.8,1258.8,1258.8,1258.8,1258.8,1258.8,1258.8,1258.8,1258.8,1258.8,1258.8,1258.8,1258.8,1258.8,1259.8,1260.0,1260.2,1262.0,1262.8,1262.8,1263.0,1263.6,1263.6,1263.6,1263.6,1263.6,1263.6,1263.6,1264.0,1264.0,1264.0,1264.0,1264.0,1264.0,1264.0,1264.0,1264.0,1264.0,1264.0,1264.0,1264.0,1264.0,1264.0,1264.0,1264.0,1264.0,1264.0,1264.0,1264.0,1264.0,1264.0,1264.0,1264.0,1264.0,1264.0,1264.0,1266.2,1266.8,1271.2,1277.0,1277.0,1277.0,1277.0,1277.0,1277.0,1277.8,1278.8,1282.8,1285.2,1285.4,1285.4]}},\"id\":\"eeece259-f1d4-40e4-a297-ec4138100297\",\"type\":\"ColumnDataSource\"},{\"attributes\":{\"callback\":null,\"column_names\":[\"x\",\"y\"],\"data\":{\"x\":[0,1000,2000,3000,4000,5000,6000,7000,8000,9000,10000,11000,12000,13000,14000,15000,16000,17000,18000,19000,20000,21000,22000,23000,24000,25000,26000,27000,28000,29000,30000,31000,32000,33000,34000,35000,36000,37000,38000,39000,40000,41000,42000,43000,44000,45000,46000,47000,48000,49000,50000,51000,52000,53000,54000,55000,56000,57000,58000,59000,60000,61000,62000,63000,64000,65000,66000,67000,68000,69000,70000,71000,72000,73000,74000,75000,76000,77000,78000,79000,80000,81000,82000,83000,84000,85000,86000,87000,88000,89000,90000,91000,92000,93000,94000,95000,96000,97000,98000,99000,100000,101000,102000,103000,104000,105000,106000,107000,108000,109000,110000,111000,112000,113000,114000,115000,116000,117000,118000,119000,120000,121000,122000,123000,124000,125000,126000,127000,128000,129000,130000,131000,132000,133000,134000,135000,136000,137000,138000,139000,140000,141000,142000,143000,144000,145000,146000,147000,148000,149000,150000,151000,152000,153000,154000,155000,156000,157000,158000,159000,160000,161000,162000,163000,164000,165000,166000,167000,168000,169000,170000,171000,172000,173000,174000,175000,176000,177000,178000,179000,180000,181000,182000,183000,184000,185000,186000,187000,188000,189000,190000,191000,192000,193000,194000,195000,196000,197000,198000,199000,200000,201000,202000,203000,204000,205000,206000,207000,208000,209000,210000,211000,212000,213000,214000,215000,216000,217000,218000,219000,220000,221000,222000,223000,224000,225000,226000,227000,228000,229000,230000,231000,232000,233000,234000,235000,236000,237000,238000,239000,240000,241000,242000,243000,244000,245000,246000,247000,248000,249000,250000,251000,252000,253000,254000,255000,256000,257000,258000,259000,260000,261000,262000,263000,264000,265000,266000,267000,268000,269000,270000,271000,272000,273000,274000,275000,276000,277000,278000,279000,280000,281000,282000,283000,284000,285000,286000,287000,288000,289000,290000,291000,292000,293000,294000,295000,296000,297000,298000,299000,300000,300000,299000,298000,297000,296000,295000,294000,293000,292000,291000,290000,289000,288000,287000,286000,285000,284000,283000,282000,281000,280000,279000,278000,277000,276000,275000,274000,273000,272000,271000,270000,269000,268000,267000,266000,265000,264000,263000,262000,261000,260000,259000,258000,257000,256000,255000,254000,253000,252000,251000,250000,249000,248000,247000,246000,245000,244000,243000,242000,241000,240000,239000,238000,237000,236000,235000,234000,233000,232000,231000,230000,229000,228000,227000,226000,225000,224000,223000,222000,221000,220000,219000,218000,217000,216000,215000,214000,213000,212000,211000,210000,209000,208000,207000,206000,205000,204000,203000,202000,201000,200000,199000,198000,197000,196000,195000,194000,193000,192000,191000,190000,189000,188000,187000,186000,185000,184000,183000,182000,181000,180000,179000,178000,177000,176000,175000,174000,173000,172000,171000,170000,169000,168000,167000,166000,165000,164000,163000,162000,161000,160000,159000,158000,157000,156000,155000,154000,153000,152000,151000,150000,149000,148000,147000,146000,145000,144000,143000,142000,141000,140000,139000,138000,137000,136000,135000,134000,133000,132000,131000,130000,129000,128000,127000,126000,125000,124000,123000,122000,121000,120000,119000,118000,117000,116000,115000,114000,113000,112000,111000,110000,109000,108000,107000,106000,105000,104000,103000,102000,101000,100000,99000,98000,97000,96000,95000,94000,93000,92000,91000,90000,89000,88000,87000,86000,85000,84000,83000,82000,81000,80000,79000,78000,77000,76000,75000,74000,73000,72000,71000,70000,69000,68000,67000,66000,65000,64000,63000,62000,61000,60000,59000,58000,57000,56000,55000,54000,53000,52000,51000,50000,49000,48000,47000,46000,45000,44000,43000,42000,41000,40000,39000,38000,37000,36000,35000,34000,33000,32000,31000,30000,29000,28000,27000,26000,25000,24000,23000,22000,21000,20000,19000,18000,17000,16000,15000,14000,13000,12000,11000,10000,9000,8000,7000,6000,5000,4000,3000,2000,1000,0],\"y\":[1.0,54.1235550412549,80.57053773717014,107.35781159564128,130.8366580092254,151.40775222915238,157.69174963060686,165.6008576360872,205.09013923307594,210.1957037720651,237.41471105652,263.7981233361993,308.53389439060766,312.0810991362349,311.9286997513867,328.27724293913764,367.39494300804716,371.76013948862277,399.0780095664792,409.27671938846134,411.57135114211127,413.7119145548164,414.3894439128166,447.61116140947024,457.9855152442065,459.67708396919386,459.67708396919386,459.67708396919386,459.67708396919386,459.67708396919386,459.67708396919386,459.67708396919386,474.03247438042456,507.9491315650716,516.1729538867191,519.0970410375983,519.6200017546938,533.3712735677069,532.4208346632452,532.4208346632452,532.4208346632452,532.4208346632452,532.4208346632452,532.4208346632452,542.9423278528858,594.4363174544605,606.1120318499161,612.1349259184417,612.3775170977667,614.4997973365405,613.4470584525668,613.4470584525668,613.4470584525668,613.1019342971423,612.977086919243,613.4049526462823,613.6534909356562,613.8149362588819,612.353376480894,611.1581825016337,606.7444509874741,600.242525075141,601.3380059485193,594.5567503109693,594.5567503109693,594.5567503109693,611.8292899960745,631.97981588482,667.3868257411926,679.5177349041653,677.3887466642407,690.9548053098724,691.5817476094358,690.0584023709239,686.824757031876,686.7214597327446,686.7214597327446,686.7214597327446,686.7214597327446,686.7214597327446,686.7214597327446,696.3634047417579,710.7381419779505,725.1960975841904,748.6563819761664,771.8251235159178,794.3133759664742,808.170678825542,811.6787003383661,811.6787003383661,811.6787003383661,811.6787003383661,811.6787003383661,812.8210685488739,832.20036144598,860.5445202136586,870.697802026752,872.9501349583154,873.5129875019246,937.5248403651981,957.7526695309732,957.7526695309732,957.7526695309732,957.7526695309732,957.7526695309732,957.7526695309732,960.2267843054655,962.2148674120499,962.8489109224186,962.9898439514557,963.0544163956755,968.6260092420566,985.9322408911091,987.0077051768222,987.0077051768222,988.6194683423801,996.1176714303764,1019.409945974056,1046.3080363082126,1051.3894844012348,1051.3894844012348,1051.3894844012348,1051.3894844012348,1053.3012207311663,1053.4735720995373,1065.0738823523716,1065.0738823523716,1065.0738823523716,1065.0738823523716,1065.0738823523716,1065.3567949245846,1099.027512982981,1106.944817063269,1107.4042623447203,1116.0529101847965,1126.4846514227906,1130.8225682067484,1130.9353053085645,1130.9353053085645,1130.9353053085645,1130.9353053085645,1130.9353053085645,1146.9052349388924,1185.7548879785438,1196.2898209234424,1228.9752024596721,1229.6272465640036,1232.9770247890788,1281.7607517583908,1324.1827086402952,1344.2813076641535,1344.2813076641535,1344.2813076641535,1344.2813076641535,1344.2813076641535,1344.2813076641535,1344.1200901352536,1344.1200901352536,1344.1200901352536,1346.3489961823304,1359.022162579403,1376.6629703328147,1413.193863155784,1413.5946239148952,1413.5946239148952,1413.5946239148952,1413.5946239148952,1413.5946239148952,1418.4827060404637,1438.2934372681318,1443.7185465981624,1463.0526680779794,1462.818872124494,1461.1677657045898,1460.8003984079555,1457.0108920679631,1457.0108920679631,1457.0108920679631,1455.6575258533107,1454.667504192892,1448.6641154038966,1447.5189259866565,1444.1635629314444,1441.4050001302153,1440.0050506338835,1439.8291793331664,1439.8291793331664,1443.7217526774768,1447.7720873912174,1447.7720873912174,1447.4128107650604,1447.2329273879263,1447.2329273879263,1449.495482971981,1450.75512533265,1451.0662024152389,1451.0662024152389,1451.0662024152389,1451.0662024152389,1451.0662024152389,1451.0662024152389,1451.0662024152389,1451.0662024152389,1451.0662024152389,1451.0662024152389,1451.0662024152389,1451.0662024152389,1451.0662024152389,1451.0662024152389,1451.0662024152389,1451.0662024152389,1451.0662024152389,1451.0662024152389,1451.0662024152389,1451.0662024152389,1451.0662024152389,1451.0662024152389,1451.0662024152389,1451.0662024152389,1451.0662024152389,1451.0662024152389,1451.0662024152389,1451.0662024152389,1451.0662024152389,1451.0662024152389,1451.0662024152389,1451.0662024152389,1451.0662024152389,1451.0662024152389,1451.0662024152389,1451.0662024152389,1451.0662024152389,1451.0662024152389,1451.0662024152389,1451.0662024152389,1451.0662024152389,1451.0662024152389,1451.0662024152389,1451.0662024152389,1451.0662024152389,1451.0662024152389,1451.0662024152389,1451.0662024152389,1451.0662024152389,1451.0662024152389,1451.0662024152389,1451.0662024152389,1451.0662024152389,1451.0662024152389,1451.0662024152389,1451.0662024152389,1451.0662024152389,1451.0662024152389,1451.0662024152389,1451.0662024152389,1451.0662024152389,1451.0662024152389,1451.0662024152389,1451.0662024152389,1451.0662024152389,1451.0662024152389,1451.0662024152389,1451.0662024152389,1451.0662024152389,1451.0662024152389,1451.0662024152389,1451.0662024152389,1451.0662024152389,1451.0662024152389,1451.0662024152389,1451.0662024152389,1451.0662024152389,1451.0662024152389,1456.3703204256692,1457.6082108811502,1458.5934739083677,1458.5934739083677,1458.5934739083677,1458.5934739083677,1458.5934739083677,1458.5934739083677,1458.5934739083677,1458.5934739083677,1458.5934739083677,1458.5934739083677,1458.5934739083677,1458.5934739083677,1458.5934739083677,1458.5934739083677,1458.5934739083677,1458.5934739083677,1458.5934739083677,1458.5934739083677,1458.5934739083677,1458.5934739083677,1458.5934739083677,1458.5934739083677,1458.5934739083677,1458.5934739083677,1458.5934739083677,1648.606526091632,1648.606526091632,1648.606526091632,1648.606526091632,1648.606526091632,1648.606526091632,1648.606526091632,1648.606526091632,1648.606526091632,1648.606526091632,1648.606526091632,1648.606526091632,1648.606526091632,1648.606526091632,1648.606526091632,1648.606526091632,1648.606526091632,1648.606526091632,1648.606526091632,1648.606526091632,1648.606526091632,1648.606526091632,1648.606526091632,1648.606526091632,1648.606526091632,1647.5917891188496,1646.429679574331,1642.533797584761,1642.533797584761,1642.533797584761,1642.533797584761,1642.533797584761,1642.533797584761,1642.533797584761,1642.533797584761,1642.533797584761,1642.533797584761,1642.533797584761,1642.533797584761,1642.533797584761,1642.533797584761,1642.533797584761,1642.533797584761,1642.533797584761,1642.533797584761,1642.533797584761,1642.533797584761,1642.533797584761,1642.533797584761,1642.533797584761,1642.533797584761,1642.533797584761,1642.533797584761,1642.533797584761,1642.533797584761,1642.533797584761,1642.533797584761,1642.533797584761,1642.533797584761,1642.533797584761,1642.533797584761,1642.533797584761,1642.533797584761,1642.533797584761,1642.533797584761,1642.533797584761,1642.533797584761,1642.533797584761,1642.533797584761,1642.533797584761,1642.533797584761,1642.533797584761,1642.533797584761,1642.533797584761,1642.533797584761,1642.533797584761,1642.533797584761,1642.533797584761,1642.533797584761,1642.533797584761,1642.533797584761,1642.533797584761,1642.533797584761,1642.533797584761,1642.533797584761,1642.533797584761,1642.533797584761,1642.533797584761,1642.533797584761,1642.533797584761,1642.533797584761,1642.533797584761,1642.533797584761,1642.533797584761,1642.533797584761,1642.533797584761,1642.533797584761,1642.533797584761,1642.533797584761,1642.533797584761,1642.533797584761,1642.533797584761,1642.533797584761,1642.533797584761,1642.533797584761,1642.4448746673497,1642.104517028019,1641.5670726120738,1641.5670726120738,1640.9871892349397,1639.8279126087825,1639.8279126087825,1639.0782473225233,1638.5708206668337,1638.5708206668337,1637.9949493661165,1633.394999869785,1624.2364370685557,1612.8810740133436,1608.9358845961033,1587.332495807108,1583.542474146689,1578.1891079320367,1578.1891079320367,1578.1891079320367,1561.1996015920445,1559.2322342954103,1547.5811278755061,1538.9473319220206,1521.8814534018375,1522.1065627318683,1524.3172939595365,1525.205376085105,1525.205376085105,1525.205376085105,1525.205376085105,1525.205376085105,1524.006136844216,1512.5370296671852,1499.7778374205973,1503.2510038176695,1503.8799098647464,1503.8799098647464,1503.8799098647464,1502.1186923358466,1502.1186923358466,1502.1186923358466,1502.1186923358466,1502.1186923358466,1502.1186923358466,1483.8172913597048,1475.439248241609,1480.222975210921,1479.1727534359966,1479.0247975403279,1486.1101790765576,1489.0451120214564,1500.2947650611075,1505.0646946914355,1505.0646946914355,1505.0646946914355,1505.0646946914355,1505.0646946914355,1504.7774317932515,1495.9153485772094,1481.1470898152033,1473.3957376552798,1473.055182936731,1465.372487017019,1454.2432050754153,1453.7261176476286,1453.7261176476286,1453.7261176476286,1453.7261176476286,1453.7261176476286,1455.7264279004626,1454.6987792688337,1454.6105155987652,1454.6105155987652,1454.6105155987652,1454.6105155987652,1455.6919636917874,1461.7900540259438,1467.4823285696236,1469.38053165762,1469.7922948231778,1469.7922948231778,1470.0677591088909,1474.5739907579432,1475.3455836043245,1475.0101560485443,1474.7510890775814,1473.38513258795,1464.9732156945342,1460.6473304690269,1460.6473304690269,1460.6473304690269,1460.6473304690269,1460.6473304690269,1460.6473304690269,1466.0751596348018,1484.0870124980752,1484.2498650416844,1484.902197973248,1487.8554797863414,1496.19963855402,1501.9789314511263,1502.321299661634,1502.321299661634,1502.321299661634,1502.321299661634,1502.321299661634,1493.029321174458,1470.8866240335255,1424.5748764840823,1397.7436180238337,1381.2039024158098,1363.2618580220496,1350.0365952582422,1343.2785402672553,1343.2785402672553,1343.2785402672553,1343.2785402672553,1343.2785402672553,1343.2785402672553,1342.775242968124,1318.741597629076,1305.2182523905642,1286.6451946901275,1239.0112533357594,1185.2822650958346,1171.4131742588074,1151.22018411518,1145.7707100039254,1143.0432496890307,1143.0432496890307,1143.0432496890307,1113.061994051481,1110.957474924859,1078.4555490125258,1041.6418174983662,1033.646623519106,1018.1850637411181,1003.9465090643437,992.9950473537178,991.822913080757,990.4980657028576,986.5529415474332,986.5529415474332,986.5529415474332,959.9002026634596,934.4224829022332,933.0650740815584,899.4879681500838,880.7636825455395,860.6576721471141,858.7791653367549,858.7791653367549,858.7791653367549,858.7791653367549,858.7791653367549,858.7791653367549,823.0287264322932,747.5799982453062,650.9029589624017,647.8270461132809,643.2508684349285,627.9675256195754,630.3229160308061,630.3229160308061,630.3229160308061,630.3229160308061,630.3229160308061,630.3229160308061,630.3229160308061,629.2144847557936,626.7888385905298,622.8105560871834,622.6880854451837,622.4286488578887,621.9232806115388,616.9219904335208,612.6398605113772,612.6050569919528,616.1227570608623,618.8713002486132,616.3189008637651,577.8661056093923,562.2018766638007,506.58528894348,480.2042962279349,406.90986076692406,398.7991423639128,379.5082503693932,357.7922477708476,283.5633419907746,212.6421884043587,156.62946226282986,98.67644495874511,1.0]}},\"id\":\"16ccbf00-6c11-4def-8b91-f0f33892de79\",\"type\":\"ColumnDataSource\"},{\"attributes\":{\"data_source\":{\"id\":\"eeece259-f1d4-40e4-a297-ec4138100297\",\"type\":\"ColumnDataSource\"},\"glyph\":{\"id\":\"21c77304-6884-4d82-979c-8c840fb37cea\",\"type\":\"Line\"},\"hover_glyph\":null,\"nonselection_glyph\":{\"id\":\"abf2ebc9-b011-4064-8c77-5811a78a4ac5\",\"type\":\"Line\"},\"selection_glyph\":null},\"id\":\"2e4598e7-064a-4018-8eaa-6c5c6e02363b\",\"type\":\"GlyphRenderer\"},{\"attributes\":{},\"id\":\"a4fc5c98-97ae-42c8-aef9-61bb3034dce6\",\"type\":\"BasicTickFormatter\"},{\"attributes\":{\"callback\":null},\"id\":\"52e8b72a-d204-405b-a3fe-6cfa93f9e274\",\"type\":\"DataRange1d\"},{\"attributes\":{\"data_source\":{\"id\":\"94c72fe5-f8a2-4d6b-ba0e-b8350ec24b7c\",\"type\":\"ColumnDataSource\"},\"glyph\":{\"id\":\"a43ed2b3-27dc-478d-ac28-1b1a57616da4\",\"type\":\"Line\"},\"hover_glyph\":null,\"nonselection_glyph\":{\"id\":\"7238e862-2bd9-495a-9347-a2367921441f\",\"type\":\"Line\"},\"selection_glyph\":null},\"id\":\"6426cc4b-64c2-4f06-9a79-d39c5bbec62b\",\"type\":\"GlyphRenderer\"},{\"attributes\":{\"active_drag\":\"auto\",\"active_scroll\":\"auto\",\"active_tap\":\"auto\",\"tools\":[{\"id\":\"13a3f813-912d-458e-857d-3be8637c2f66\",\"type\":\"PanTool\"},{\"id\":\"124c75bd-3340-4001-8200-af3c9a5239d5\",\"type\":\"WheelZoomTool\"},{\"id\":\"5a45b9bb-01ee-49e9-9c98-ec8ff4f7b6b0\",\"type\":\"BoxZoomTool\"},{\"id\":\"79d37f54-b0cd-4278-900d-6c809e169389\",\"type\":\"SaveTool\"},{\"id\":\"faf77255-0852-46c7-8066-d58de6120e46\",\"type\":\"ResetTool\"},{\"id\":\"a94ae24e-7136-48ab-87d6-8d3e71de4ad4\",\"type\":\"HelpTool\"}]},\"id\":\"c4230e04-3546-4791-ae09-24d9e119d20b\",\"type\":\"Toolbar\"},{\"attributes\":{\"fill_alpha\":{\"value\":0.1},\"fill_color\":{\"value\":\"#1f77b4\"},\"line_alpha\":{\"value\":0.1},\"line_color\":{\"value\":\"#1f77b4\"},\"x\":{\"field\":\"x\"},\"y\":{\"field\":\"y\"}},\"id\":\"1c0afcb8-b527-4652-93f6-ce3b95235ecc\",\"type\":\"Patch\"},{\"attributes\":{\"dimension\":1,\"plot\":{\"id\":\"c1b141c1-16e2-41a2-9473-a16bbac33d90\",\"subtype\":\"Figure\",\"type\":\"Plot\"},\"ticker\":{\"id\":\"5910ddf4-41f5-4475-9aa8-a27a07359a27\",\"type\":\"BasicTicker\"}},\"id\":\"234af081-c8a6-4aec-b739-b60e00c73232\",\"type\":\"Grid\"},{\"attributes\":{\"line_color\":{\"value\":\"#377eb8\"},\"line_width\":{\"value\":2},\"x\":{\"field\":\"x\"},\"y\":{\"field\":\"y\"}},\"id\":\"21c77304-6884-4d82-979c-8c840fb37cea\",\"type\":\"Line\"},{\"attributes\":{\"fill_alpha\":{\"value\":0.1},\"fill_color\":{\"value\":\"#1f77b4\"},\"line_alpha\":{\"value\":0.1},\"line_color\":{\"value\":\"#1f77b4\"},\"x\":{\"field\":\"x\"},\"y\":{\"field\":\"y\"}},\"id\":\"51691bd6-1fb7-4cd8-b856-f9eacff171d7\",\"type\":\"Patch\"},{\"attributes\":{\"fill_alpha\":{\"value\":0.1},\"fill_color\":{\"value\":\"#4daf4a\"},\"line_alpha\":{\"value\":0.1},\"line_color\":{\"value\":\"#4daf4a\"},\"x\":{\"field\":\"x\"},\"y\":{\"field\":\"y\"}},\"id\":\"12f0d5ce-61e5-46f9-977e-43e2e9f6825c\",\"type\":\"Patch\"},{\"attributes\":{\"plot\":null,\"text\":\"Med Maze 10\"},\"id\":\"b9d9a739-6b8d-485e-8eb1-386134888b31\",\"type\":\"Title\"},{\"attributes\":{\"items\":[{\"id\":\"ca6e60a6-dc86-4dfb-8caf-ff4ccc4bc4da\",\"type\":\"LegendItem\"},{\"id\":\"2af77f42-0889-4c84-973c-60004df3045e\",\"type\":\"LegendItem\"},{\"id\":\"4d951d9c-b70d-449f-9d18-b7ac8b48d69d\",\"type\":\"LegendItem\"},{\"id\":\"86848a7e-d82e-4100-bebb-c2f4cef30e7a\",\"type\":\"LegendItem\"},{\"id\":\"72e46ccd-19e0-426e-97dd-ae9a734bd279\",\"type\":\"LegendItem\"}],\"location\":[0,-30],\"plot\":{\"id\":\"c1b141c1-16e2-41a2-9473-a16bbac33d90\",\"subtype\":\"Figure\",\"type\":\"Plot\"}},\"id\":\"2d493619-7d0b-4b25-8af9-8102a9fd4430\",\"type\":\"Legend\"},{\"attributes\":{\"plot\":{\"id\":\"c1b141c1-16e2-41a2-9473-a16bbac33d90\",\"subtype\":\"Figure\",\"type\":\"Plot\"}},\"id\":\"a94ae24e-7136-48ab-87d6-8d3e71de4ad4\",\"type\":\"HelpTool\"},{\"attributes\":{\"line_alpha\":{\"value\":0.1},\"line_color\":{\"value\":\"#1f77b4\"},\"line_width\":{\"value\":2},\"x\":{\"field\":\"x\"},\"y\":{\"field\":\"y\"}},\"id\":\"9c770483-f515-4a59-8113-61b3fcf49a30\",\"type\":\"Line\"},{\"attributes\":{\"data_source\":{\"id\":\"e5bfbc42-0e76-4e08-8609-3618ea20f68a\",\"type\":\"ColumnDataSource\"},\"glyph\":{\"id\":\"31a47e7b-9364-4237-a6eb-7d4e5c4ecccc\",\"type\":\"Patch\"},\"hover_glyph\":null,\"nonselection_glyph\":{\"id\":\"1c0afcb8-b527-4652-93f6-ce3b95235ecc\",\"type\":\"Patch\"},\"selection_glyph\":null},\"id\":\"9d0c0e3f-bd1f-4896-b283-b1d9dc04a7a4\",\"type\":\"GlyphRenderer\"},{\"attributes\":{\"plot\":{\"id\":\"c1b141c1-16e2-41a2-9473-a16bbac33d90\",\"subtype\":\"Figure\",\"type\":\"Plot\"}},\"id\":\"124c75bd-3340-4001-8200-af3c9a5239d5\",\"type\":\"WheelZoomTool\"},{\"attributes\":{\"label\":{\"value\":\"50_Step_EpsilonScaling\"},\"renderers\":[{\"id\":\"6426cc4b-64c2-4f06-9a79-d39c5bbec62b\",\"type\":\"GlyphRenderer\"}]},\"id\":\"4d951d9c-b70d-449f-9d18-b7ac8b48d69d\",\"type\":\"LegendItem\"},{\"attributes\":{\"fill_alpha\":{\"value\":0.1},\"fill_color\":{\"value\":\"#e41a1c\"},\"line_alpha\":{\"value\":0.1},\"line_color\":{\"value\":\"#e41a1c\"},\"x\":{\"field\":\"x\"},\"y\":{\"field\":\"y\"}},\"id\":\"6b17879e-00b7-4ee1-989b-4ddecc2555f2\",\"type\":\"Patch\"},{\"attributes\":{\"line_alpha\":{\"value\":0.1},\"line_color\":{\"value\":\"#1f77b4\"},\"line_width\":{\"value\":2},\"x\":{\"field\":\"x\"},\"y\":{\"field\":\"y\"}},\"id\":\"8ac6ac20-1cdd-4982-87c2-5f7c1eee4c3f\",\"type\":\"Line\"},{\"attributes\":{\"axis_label\":\"T\",\"formatter\":{\"id\":\"dc4d2840-058a-4f06-bcaf-213d20cdf365\",\"type\":\"BasicTickFormatter\"},\"plot\":{\"id\":\"c1b141c1-16e2-41a2-9473-a16bbac33d90\",\"subtype\":\"Figure\",\"type\":\"Plot\"},\"ticker\":{\"id\":\"593a0250-6a59-4f04-b6cd-f432bba999d2\",\"type\":\"BasicTicker\"}},\"id\":\"27cba90a-4760-41a9-a026-a8cb0bd3d4b7\",\"type\":\"LinearAxis\"},{\"attributes\":{\"callback\":null,\"column_names\":[\"x\",\"y\"],\"data\":{\"x\":[0,1000,2000,3000,4000,5000,6000,7000,8000,9000,10000,11000,12000,13000,14000,15000,16000,17000,18000,19000,20000,21000,22000,23000,24000,25000,26000,27000,28000,29000,30000,31000,32000,33000,34000,35000,36000,37000,38000,39000,40000,41000,42000,43000,44000,45000,46000,47000,48000,49000,50000,51000,52000,53000,54000,55000,56000,57000,58000,59000,60000,61000,62000,63000,64000,65000,66000,67000,68000,69000,70000,71000,72000,73000,74000,75000,76000,77000,78000,79000,80000,81000,82000,83000,84000,85000,86000,87000,88000,89000,90000,91000,92000,93000,94000,95000,96000,97000,98000,99000,100000,101000,102000,103000,104000,105000,106000,107000,108000,109000,110000,111000,112000,113000,114000,115000,116000,117000,118000,119000,120000,121000,122000,123000,124000,125000,126000,127000,128000,129000,130000,131000,132000,133000,134000,135000,136000,137000,138000,139000,140000,141000,142000,143000,144000,145000,146000,147000,148000,149000,150000,151000,152000,153000,154000,155000,156000,157000,158000,159000,160000,161000,162000,163000,164000,165000,166000,167000,168000,169000,170000,171000,172000,173000,174000,175000,176000,177000,178000,179000,180000,181000,182000,183000,184000,185000,186000,187000,188000,189000,190000,191000,192000,193000,194000,195000,196000,197000,198000,199000,200000,201000,202000,203000,204000,205000,206000,207000,208000,209000,210000,211000,212000,213000,214000,215000,216000,217000,218000,219000,220000,221000,222000,223000,224000,225000,226000,227000,228000,229000,230000,231000,232000,233000,234000,235000,236000,237000,238000,239000,240000,241000,242000,243000,244000,245000,246000,247000,248000,249000,250000,251000,252000,253000,254000,255000,256000,257000,258000,259000,260000,261000,262000,263000,264000,265000,266000,267000,268000,269000,270000,271000,272000,273000,274000,275000,276000,277000,278000,279000,280000,281000,282000,283000,284000,285000,286000,287000,288000,289000,290000,291000,292000,293000,294000,295000,296000,297000,298000,299000,300000],\"y\":[1.0,76.4,118.6,160.0,207.2,254.6,268.6,282.2,306.0,345.2,372.0,413.0,443.2,464.6,465.4,471.4,487.6,497.6,504.4,516.2,537.0,576.8,590.8,597.8,620.8,658.0,658.0,658.0,658.0,658.4,670.0,684.0,699.4,703.0,717.2,727.2,739.6,750.4,771.8,771.8,771.8,771.8,772.4,772.4,773.0,802.6,838.6,844.2,860.6,867.0,875.2,875.2,875.2,875.2,875.2,875.2,875.2,875.4,878.4,878.4,892.0,920.0,937.0,939.6,939.6,943.6,945.4,945.4,945.4,945.4,945.4,945.4,945.4,945.4,958.4,962.6,962.6,962.6,962.6,962.6,964.2,966.8,968.8,978.4,1003.8,1038.6,1111.4,1149.2,1157.8,1157.8,1157.8,1157.8,1158.2,1158.2,1181.8,1183.8,1186.2,1195.2,1195.4,1198.6,1230.2,1230.2,1230.2,1230.2,1230.2,1230.4,1245.8,1264.8,1301.4,1313.0,1334.4,1347.0,1349.4,1364.4,1364.4,1364.4,1364.4,1364.4,1364.4,1364.4,1364.4,1367.0,1378.8,1381.0,1381.0,1385.8,1385.8,1385.8,1385.8,1385.8,1385.8,1385.8,1386.4,1386.4,1386.4,1386.4,1392.4,1395.0,1419.0,1419.0,1419.0,1419.0,1419.0,1419.0,1419.0,1422.6,1434.2,1442.8,1452.8,1453.8,1473.4,1473.4,1473.4,1473.4,1473.4,1473.4,1473.4,1473.4,1473.6,1473.6,1473.6,1473.6,1473.8,1473.8,1473.8,1473.8,1473.8,1475.0,1476.2,1479.4,1479.4,1483.2,1490.4,1492.2,1493.6,1494.6,1494.6,1494.6,1494.6,1494.6,1494.6,1494.8,1494.8,1494.8,1494.8,1494.8,1494.8,1494.8,1494.8,1494.8,1494.8,1494.8,1494.8,1494.8,1494.8,1494.8,1494.8,1494.8,1495.0,1495.0,1495.0,1495.0,1495.0,1495.0,1495.0,1495.0,1495.0,1495.0,1495.0,1495.0,1497.2,1497.2,1498.0,1508.8,1508.8,1508.8,1508.8,1508.8,1508.8,1508.8,1508.8,1508.8,1510.8,1521.0,1521.8,1523.2,1523.2,1523.2,1523.2,1526.0,1526.4,1526.4,1526.4,1527.2,1527.4,1529.4,1529.4,1529.4,1529.4,1529.4,1529.4,1529.4,1529.4,1529.4,1529.4,1529.4,1529.4,1529.4,1529.4,1529.4,1529.4,1529.4,1529.4,1529.4,1529.4,1529.4,1529.4,1529.4,1529.4,1529.4,1529.4,1529.4,1529.4,1529.4,1529.4,1529.4,1529.4,1529.4,1530.8,1533.6,1534.0,1543.0,1544.6,1552.2,1587.6,1589.4,1589.4,1589.4,1589.4,1589.4,1589.4,1589.4,1589.4,1589.4,1589.4,1589.4,1589.4,1589.4,1589.4,1589.4,1589.4,1589.4,1589.4,1589.4,1589.4,1589.4,1589.4,1589.4,1589.4,1589.4]}},\"id\":\"ea4af2cd-a619-40f7-b2a9-9556b5a2dc72\",\"type\":\"ColumnDataSource\"},{\"attributes\":{\"fill_alpha\":{\"value\":0.1},\"fill_color\":{\"value\":\"#1f77b4\"},\"line_alpha\":{\"value\":0.1},\"line_color\":{\"value\":\"#1f77b4\"},\"x\":{\"field\":\"x\"},\"y\":{\"field\":\"y\"}},\"id\":\"723c9ade-f55f-49b5-8df9-c53e88239321\",\"type\":\"Patch\"},{\"attributes\":{\"data_source\":{\"id\":\"16ccbf00-6c11-4def-8b91-f0f33892de79\",\"type\":\"ColumnDataSource\"},\"glyph\":{\"id\":\"9c2e95f0-71c5-414d-b194-81e90f7f6ff9\",\"type\":\"Patch\"},\"hover_glyph\":null,\"nonselection_glyph\":{\"id\":\"723c9ade-f55f-49b5-8df9-c53e88239321\",\"type\":\"Patch\"},\"selection_glyph\":null},\"id\":\"003995c8-1832-4e54-a198-921bb6d5e72b\",\"type\":\"GlyphRenderer\"},{\"attributes\":{\"below\":[{\"id\":\"27cba90a-4760-41a9-a026-a8cb0bd3d4b7\",\"type\":\"LinearAxis\"}],\"left\":[{\"id\":\"732b3113-5938-4acd-a796-f6dbd3e0e287\",\"type\":\"LinearAxis\"}],\"plot_height\":800,\"plot_width\":1200,\"renderers\":[{\"id\":\"27cba90a-4760-41a9-a026-a8cb0bd3d4b7\",\"type\":\"LinearAxis\"},{\"id\":\"50984ec0-d879-4304-9359-c785400aa04f\",\"type\":\"Grid\"},{\"id\":\"732b3113-5938-4acd-a796-f6dbd3e0e287\",\"type\":\"LinearAxis\"},{\"id\":\"234af081-c8a6-4aec-b739-b60e00c73232\",\"type\":\"Grid\"},{\"id\":\"690a62ad-0532-402f-aeba-7fffb0f2a34f\",\"type\":\"BoxAnnotation\"},{\"id\":\"daed5eec-bce2-4544-a978-93a730e66c82\",\"type\":\"GlyphRenderer\"},{\"id\":\"616392b3-46f5-4e61-96ac-9e7bf63b4aed\",\"type\":\"GlyphRenderer\"},{\"id\":\"dc7385b0-f47b-448e-95b7-38b3da28ab49\",\"type\":\"GlyphRenderer\"},{\"id\":\"2e4598e7-064a-4018-8eaa-6c5c6e02363b\",\"type\":\"GlyphRenderer\"},{\"id\":\"83485a44-71b1-496a-897e-5229434b059b\",\"type\":\"GlyphRenderer\"},{\"id\":\"6426cc4b-64c2-4f06-9a79-d39c5bbec62b\",\"type\":\"GlyphRenderer\"},{\"id\":\"9d0c0e3f-bd1f-4896-b283-b1d9dc04a7a4\",\"type\":\"GlyphRenderer\"},{\"id\":\"5e6258f5-b6ee-4849-a721-bb3589178bed\",\"type\":\"GlyphRenderer\"},{\"id\":\"003995c8-1832-4e54-a198-921bb6d5e72b\",\"type\":\"GlyphRenderer\"},{\"id\":\"60eda4bb-5894-40c2-ae9f-ae318d175a5f\",\"type\":\"GlyphRenderer\"},{\"id\":\"2d493619-7d0b-4b25-8af9-8102a9fd4430\",\"type\":\"Legend\"}],\"right\":[{\"id\":\"2d493619-7d0b-4b25-8af9-8102a9fd4430\",\"type\":\"Legend\"}],\"title\":{\"id\":\"b9d9a739-6b8d-485e-8eb1-386134888b31\",\"type\":\"Title\"},\"tool_events\":{\"id\":\"27525bff-9dc3-4f03-8c99-9c407abea2e1\",\"type\":\"ToolEvents\"},\"toolbar\":{\"id\":\"c4230e04-3546-4791-ae09-24d9e119d20b\",\"type\":\"Toolbar\"},\"toolbar_location\":\"above\",\"x_range\":{\"id\":\"bd229c5f-606e-44f3-a6ef-14650450437d\",\"type\":\"DataRange1d\"},\"y_range\":{\"id\":\"52e8b72a-d204-405b-a3fe-6cfa93f9e274\",\"type\":\"DataRange1d\"}},\"id\":\"c1b141c1-16e2-41a2-9473-a16bbac33d90\",\"subtype\":\"Figure\",\"type\":\"Plot\"},{\"attributes\":{\"data_source\":{\"id\":\"ea4af2cd-a619-40f7-b2a9-9556b5a2dc72\",\"type\":\"ColumnDataSource\"},\"glyph\":{\"id\":\"8370fde7-6441-48d8-9178-6d67f3c0d30e\",\"type\":\"Line\"},\"hover_glyph\":null,\"nonselection_glyph\":{\"id\":\"fa196315-504a-4cf5-b773-d0ab731e34b0\",\"type\":\"Line\"},\"selection_glyph\":null},\"id\":\"5e6258f5-b6ee-4849-a721-bb3589178bed\",\"type\":\"GlyphRenderer\"},{\"attributes\":{\"label\":{\"value\":\"10_Step_EpsilonScaling\"},\"renderers\":[{\"id\":\"2e4598e7-064a-4018-8eaa-6c5c6e02363b\",\"type\":\"GlyphRenderer\"}]},\"id\":\"2af77f42-0889-4c84-973c-60004df3045e\",\"type\":\"LegendItem\"},{\"attributes\":{\"callback\":null,\"column_names\":[\"x\",\"y\"],\"data\":{\"x\":[0,1000,2000,3000,4000,5000,6000,7000,8000,9000,10000,11000,12000,13000,14000,15000,16000,17000,18000,19000,20000,21000,22000,23000,24000,25000,26000,27000,28000,29000,30000,31000,32000,33000,34000,35000,36000,37000,38000,39000,40000,41000,42000,43000,44000,45000,46000,47000,48000,49000,50000,51000,52000,53000,54000,55000,56000,57000,58000,59000,60000,61000,62000,63000,64000,65000,66000,67000,68000,69000,70000,71000,72000,73000,74000,75000,76000,77000,78000,79000,80000,81000,82000,83000,84000,85000,86000,87000,88000,89000,90000,91000,92000,93000,94000,95000,96000,97000,98000,99000,100000,101000,102000,103000,104000,105000,106000,107000,108000,109000,110000,111000,112000,113000,114000,115000,116000,117000,118000,119000,120000,121000,122000,123000,124000,125000,126000,127000,128000,129000,130000,131000,132000,133000,134000,135000,136000,137000,138000,139000,140000,141000,142000,143000,144000,145000,146000,147000,148000,149000,150000,151000,152000,153000,154000,155000,156000,157000,158000,159000,160000,161000,162000,163000,164000,165000,166000,167000,168000,169000,170000,171000,172000,173000,174000,175000,176000,177000,178000,179000,180000,181000,182000,183000,184000,185000,186000,187000,188000,189000,190000,191000,192000,193000,194000,195000,196000,197000,198000,199000,200000,201000,202000,203000,204000,205000,206000,207000,208000,209000,210000,211000,212000,213000,214000,215000,216000,217000,218000,219000,220000,221000,222000,223000,224000,225000,226000,227000,228000,229000,230000,231000,232000,233000,234000,235000,236000,237000,238000,239000,240000,241000,242000,243000,244000,245000,246000,247000,248000,249000,250000,251000,252000,253000,254000,255000,256000,257000,258000,259000,260000,261000,262000,263000,264000,265000,266000,267000,268000,269000,270000,271000,272000,273000,274000,275000,276000,277000,278000,279000,280000,281000,282000,283000,284000,285000,286000,287000,288000,289000,290000,291000,292000,293000,294000,295000,296000,297000,298000,299000,300000],\"y\":[1.0,76.4,118.6,160.0,207.2,254.6,268.6,282.2,306.0,345.2,372.0,413.0,443.2,464.2,465.4,472.2,490.0,492.2,508.0,515.6,517.0,518.2,518.6,537.2,543.6,545.0,545.0,545.0,545.0,545.0,545.0,545.0,551.0,575.6,582.0,585.0,633.6,678.2,695.6,695.6,695.6,695.6,695.6,695.6,701.8,737.6,752.8,772.6,773.4,787.2,800.0,800.0,800.0,801.8,802.4,803.2,808.8,816.0,823.0,826.4,842.6,855.6,857.2,868.8,868.8,868.8,878.8,891.6,919.4,932.4,958.2,988.8,998.4,1004.4,1014.8,1015.0,1015.0,1015.0,1015.0,1015.0,1015.0,1023.2,1037.0,1053.2,1073.2,1098.2,1132.6,1150.6,1157.0,1157.0,1157.0,1157.0,1157.0,1157.4,1164.2,1174.2,1177.8,1178.6,1178.8,1201.8,1209.2,1209.2,1209.2,1209.2,1209.2,1209.2,1212.6,1217.8,1218.8,1219.0,1219.2,1221.6,1228.0,1228.4,1228.4,1229.0,1231.8,1240.6,1251.0,1253.0,1253.0,1253.0,1253.0,1254.0,1254.6,1259.4,1259.4,1259.4,1259.4,1259.4,1259.8,1282.2,1290.0,1290.4,1298.6,1311.2,1317.8,1318.0,1318.0,1318.0,1318.0,1318.0,1323.6,1337.4,1341.2,1354.0,1354.4,1356.6,1378.6,1404.0,1423.2,1423.2,1423.2,1423.2,1423.2,1423.2,1424.0,1424.0,1424.0,1424.8,1429.4,1444.6,1468.6,1469.4,1469.4,1469.4,1469.4,1469.4,1471.4,1480.2,1482.8,1501.0,1505.2,1510.2,1511.0,1517.6,1517.6,1517.6,1519.6,1521.0,1528.8,1530.2,1534.2,1537.4,1539.0,1539.2,1539.2,1541.4,1543.8,1543.8,1544.2,1544.4,1544.4,1545.8,1546.6,1546.8,1546.8,1546.8,1546.8,1546.8,1546.8,1546.8,1546.8,1546.8,1546.8,1546.8,1546.8,1546.8,1546.8,1546.8,1546.8,1546.8,1546.8,1546.8,1546.8,1546.8,1546.8,1546.8,1546.8,1546.8,1546.8,1546.8,1546.8,1546.8,1546.8,1546.8,1546.8,1546.8,1546.8,1546.8,1546.8,1546.8,1546.8,1546.8,1546.8,1546.8,1546.8,1546.8,1546.8,1546.8,1546.8,1546.8,1546.8,1546.8,1546.8,1546.8,1546.8,1546.8,1546.8,1546.8,1546.8,1546.8,1546.8,1546.8,1546.8,1546.8,1546.8,1546.8,1546.8,1546.8,1546.8,1546.8,1546.8,1546.8,1546.8,1546.8,1546.8,1546.8,1546.8,1546.8,1546.8,1546.8,1546.8,1551.4,1552.6,1553.6,1553.6,1553.6,1553.6,1553.6,1553.6,1553.6,1553.6,1553.6,1553.6,1553.6,1553.6,1553.6,1553.6,1553.6,1553.6,1553.6,1553.6,1553.6,1553.6,1553.6,1553.6,1553.6,1553.6,1553.6]}},\"id\":\"41c9bcfc-2898-4b65-bb1f-7560bc3e53b1\",\"type\":\"ColumnDataSource\"},{\"attributes\":{\"callback\":null},\"id\":\"bd229c5f-606e-44f3-a6ef-14650450437d\",\"type\":\"DataRange1d\"},{\"attributes\":{\"data_source\":{\"id\":\"650463e3-1a39-495d-815d-d85224a9de33\",\"type\":\"ColumnDataSource\"},\"glyph\":{\"id\":\"20d8e625-aedf-4320-b160-a7d8f4582772\",\"type\":\"Patch\"},\"hover_glyph\":null,\"nonselection_glyph\":{\"id\":\"2b2749c3-32fa-4fd7-bd47-7a2fd9129331\",\"type\":\"Patch\"},\"selection_glyph\":null},\"id\":\"dc7385b0-f47b-448e-95b7-38b3da28ab49\",\"type\":\"GlyphRenderer\"},{\"attributes\":{\"plot\":{\"id\":\"c1b141c1-16e2-41a2-9473-a16bbac33d90\",\"subtype\":\"Figure\",\"type\":\"Plot\"}},\"id\":\"79d37f54-b0cd-4278-900d-6c809e169389\",\"type\":\"SaveTool\"},{\"attributes\":{\"data_source\":{\"id\":\"9c635f61-3f0a-4044-a6dc-ab74222dca42\",\"type\":\"ColumnDataSource\"},\"glyph\":{\"id\":\"6b17879e-00b7-4ee1-989b-4ddecc2555f2\",\"type\":\"Patch\"},\"hover_glyph\":null,\"nonselection_glyph\":{\"id\":\"51691bd6-1fb7-4cd8-b856-f9eacff171d7\",\"type\":\"Patch\"},\"selection_glyph\":null},\"id\":\"daed5eec-bce2-4544-a978-93a730e66c82\",\"type\":\"GlyphRenderer\"},{\"attributes\":{},\"id\":\"5910ddf4-41f5-4475-9aa8-a27a07359a27\",\"type\":\"BasicTicker\"},{\"attributes\":{\"axis_label\":\"States visited\",\"formatter\":{\"id\":\"a4fc5c98-97ae-42c8-aef9-61bb3034dce6\",\"type\":\"BasicTickFormatter\"},\"plot\":{\"id\":\"c1b141c1-16e2-41a2-9473-a16bbac33d90\",\"subtype\":\"Figure\",\"type\":\"Plot\"},\"ticker\":{\"id\":\"5910ddf4-41f5-4475-9aa8-a27a07359a27\",\"type\":\"BasicTicker\"}},\"id\":\"732b3113-5938-4acd-a796-f6dbd3e0e287\",\"type\":\"LinearAxis\"},{\"attributes\":{\"plot\":{\"id\":\"c1b141c1-16e2-41a2-9473-a16bbac33d90\",\"subtype\":\"Figure\",\"type\":\"Plot\"}},\"id\":\"13a3f813-912d-458e-857d-3be8637c2f66\",\"type\":\"PanTool\"}],\"root_ids\":[\"c1b141c1-16e2-41a2-9473-a16bbac33d90\"]},\"title\":\"Bokeh Application\",\"version\":\"0.12.3\"}};\n",
       "            var render_items = [{\"docid\":\"20705676-3bcd-4dd9-8f79-306b0c40f271\",\"elementid\":\"28675c31-ca9e-4ade-8bfa-155fd7326a71\",\"modelid\":\"c1b141c1-16e2-41a2-9473-a16bbac33d90\"}];\n",
       "            \n",
       "            Bokeh.embed.embed_items(docs_json, render_items);\n",
       "        });\n",
       "      },\n",
       "      function(Bokeh) {\n",
       "      }\n",
       "    ];\n",
       "  \n",
       "    function run_inline_js() {\n",
       "      \n",
       "      if ((window.Bokeh !== undefined) || (force === \"1\")) {\n",
       "        for (var i = 0; i < inline_js.length; i++) {\n",
       "          inline_js[i](window.Bokeh);\n",
       "        }if (force === \"1\") {\n",
       "          display_loaded();\n",
       "        }} else if (Date.now() < window._bokeh_timeout) {\n",
       "        setTimeout(run_inline_js, 100);\n",
       "      } else if (!window._bokeh_failed_load) {\n",
       "        console.log(\"Bokeh: BokehJS failed to load within specified timeout.\");\n",
       "        window._bokeh_failed_load = true;\n",
       "      } else if (!force) {\n",
       "        var cell = $(\"#28675c31-ca9e-4ade-8bfa-155fd7326a71\").parents('.cell').data().cell;\n",
       "        cell.output_area.append_execute_result(NB_LOAD_WARNING)\n",
       "      }\n",
       "  \n",
       "    }\n",
       "  \n",
       "    if (window._bokeh_is_loading === 0) {\n",
       "      console.log(\"Bokeh: BokehJS loaded, going straight to plotting\");\n",
       "      run_inline_js();\n",
       "    } else {\n",
       "      load_libs(js_urls, function() {\n",
       "        console.log(\"Bokeh: BokehJS plotting callback run at\", now());\n",
       "        run_inline_js();\n",
       "      });\n",
       "    }\n",
       "  }(this));\n",
       "</script>"
      ]
     },
     "metadata": {},
     "output_type": "display_data"
    }
   ],
   "source": [
    "plot_states(names, t_maxs, Set1[len(names)], legends, directories, step=1000, title=\"Med Maze 10\")"
   ]
  },
  {
   "cell_type": "code",
   "execution_count": null,
   "metadata": {
    "collapsed": true,
    "deletable": true,
    "editable": true
   },
   "outputs": [],
   "source": []
  },
  {
   "cell_type": "code",
   "execution_count": null,
   "metadata": {
    "collapsed": true,
    "deletable": true,
    "editable": true
   },
   "outputs": [],
   "source": []
  },
  {
   "cell_type": "code",
   "execution_count": null,
   "metadata": {
    "collapsed": true,
    "deletable": true,
    "editable": true
   },
   "outputs": [],
   "source": [
    "DQN_Smoothed = []\n",
    "for times, rewards in zip(DQN_Lengths_C, DQN_Rewards):\n",
    "    linear = interp1d(times, rewards, kind=\"linear\")\n",
    "    linear_rewards = linear([i for i in range(500000)])\n",
    "    DQN_Smoothed.append(linear_rewards)"
   ]
  },
  {
   "cell_type": "code",
   "execution_count": null,
   "metadata": {
    "collapsed": true,
    "deletable": true,
    "editable": true
   },
   "outputs": [],
   "source": [
    "DQN_Means = np.mean(DQN_Smoothed, axis=0)"
   ]
  },
  {
   "cell_type": "code",
   "execution_count": null,
   "metadata": {
    "collapsed": true,
    "deletable": true,
    "editable": true
   },
   "outputs": [],
   "source": [
    "DQN_Stds = np.std(DQN_Smoothed, axis=0)"
   ]
  },
  {
   "cell_type": "code",
   "execution_count": null,
   "metadata": {
    "collapsed": false,
    "deletable": true,
    "editable": true
   },
   "outputs": [],
   "source": [
    "plt.fill_between([i for i in range(500000)], DQN_Means - DQN_Stds, DQN_Means + DQN_Stds, color=\"red\", alpha=0.3, edgecolor=\"white\")\n",
    "\n",
    "plt.plot([i for i in range(500000)], DQN_Means, color=\"red\")"
   ]
  },
  {
   "cell_type": "code",
   "execution_count": null,
   "metadata": {
    "collapsed": false,
    "deletable": true,
    "editable": true
   },
   "outputs": [],
   "source": [
    "len(DQN_Repeat)"
   ]
  },
  {
   "cell_type": "code",
   "execution_count": null,
   "metadata": {
    "collapsed": true,
    "deletable": true,
    "editable": true
   },
   "outputs": [],
   "source": [
    "plt.plot(DQN)"
   ]
  },
  {
   "cell_type": "code",
   "execution_count": null,
   "metadata": {
    "collapsed": true,
    "deletable": true,
    "editable": true
   },
   "outputs": [],
   "source": [
    "directories = [\"Logs/\"]"
   ]
  },
  {
   "cell_type": "code",
   "execution_count": null,
   "metadata": {
    "collapsed": false,
    "deletable": true,
    "editable": true
   },
   "outputs": [],
   "source": [
    "for i in range(0, 10, 2):\n",
    "    print(i)"
   ]
  },
  {
   "cell_type": "code",
   "execution_count": null,
   "metadata": {
    "collapsed": true,
    "deletable": true,
    "editable": true
   },
   "outputs": [],
   "source": []
  }
 ],
 "metadata": {
  "kernelspec": {
   "display_name": "Python 3",
   "language": "python",
   "name": "python3"
  },
  "language_info": {
   "codemirror_mode": {
    "name": "ipython",
    "version": 3
   },
   "file_extension": ".py",
   "mimetype": "text/x-python",
   "name": "python",
   "nbconvert_exporter": "python",
   "pygments_lexer": "ipython3",
   "version": "3.5.3"
  }
 },
 "nbformat": 4,
 "nbformat_minor": 2
}
