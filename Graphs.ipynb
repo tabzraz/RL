{
 "cells": [
  {
   "cell_type": "code",
   "execution_count": null,
   "metadata": {
    "collapsed": true
   },
   "outputs": [],
   "source": [
    "from matplotlib import pyplot as plt\n",
    "%matplotlib inline"
   ]
  },
  {
   "cell_type": "code",
   "execution_count": 1,
   "metadata": {
    "collapsed": false
   },
   "outputs": [
    {
     "data": {
      "text/html": [
       "\n",
       "    <div class=\"bk-root\">\n",
       "        <a href=\"http://bokeh.pydata.org\" target=\"_blank\" class=\"bk-logo bk-logo-small bk-logo-notebook\"></a>\n",
       "        <span id=\"bf5df8ca-dbb8-477a-a097-0a7a6a31e5ba\">Loading BokehJS ...</span>\n",
       "    </div>"
      ]
     },
     "metadata": {},
     "output_type": "display_data"
    },
    {
     "data": {
      "application/javascript": [
       "\n",
       "(function(global) {\n",
       "  function now() {\n",
       "    return new Date();\n",
       "  }\n",
       "\n",
       "  var force = true;\n",
       "\n",
       "  if (typeof (window._bokeh_onload_callbacks) === \"undefined\" || force === true) {\n",
       "    window._bokeh_onload_callbacks = [];\n",
       "    window._bokeh_is_loading = undefined;\n",
       "  }\n",
       "\n",
       "\n",
       "  \n",
       "  if (typeof (window._bokeh_timeout) === \"undefined\" || force === true) {\n",
       "    window._bokeh_timeout = Date.now() + 5000;\n",
       "    window._bokeh_failed_load = false;\n",
       "  }\n",
       "\n",
       "  var NB_LOAD_WARNING = {'data': {'text/html':\n",
       "     \"<div style='background-color: #fdd'>\\n\"+\n",
       "     \"<p>\\n\"+\n",
       "     \"BokehJS does not appear to have successfully loaded. If loading BokehJS from CDN, this \\n\"+\n",
       "     \"may be due to a slow or bad network connection. Possible fixes:\\n\"+\n",
       "     \"</p>\\n\"+\n",
       "     \"<ul>\\n\"+\n",
       "     \"<li>re-rerun `output_notebook()` to attempt to load from CDN again, or</li>\\n\"+\n",
       "     \"<li>use INLINE resources instead, as so:</li>\\n\"+\n",
       "     \"</ul>\\n\"+\n",
       "     \"<code>\\n\"+\n",
       "     \"from bokeh.resources import INLINE\\n\"+\n",
       "     \"output_notebook(resources=INLINE)\\n\"+\n",
       "     \"</code>\\n\"+\n",
       "     \"</div>\"}};\n",
       "\n",
       "  function display_loaded() {\n",
       "    if (window.Bokeh !== undefined) {\n",
       "      document.getElementById(\"bf5df8ca-dbb8-477a-a097-0a7a6a31e5ba\").textContent = \"BokehJS successfully loaded.\";\n",
       "    } else if (Date.now() < window._bokeh_timeout) {\n",
       "      setTimeout(display_loaded, 100)\n",
       "    }\n",
       "  }\n",
       "\n",
       "  function run_callbacks() {\n",
       "    window._bokeh_onload_callbacks.forEach(function(callback) { callback() });\n",
       "    delete window._bokeh_onload_callbacks\n",
       "    console.info(\"Bokeh: all callbacks have finished\");\n",
       "  }\n",
       "\n",
       "  function load_libs(js_urls, callback) {\n",
       "    window._bokeh_onload_callbacks.push(callback);\n",
       "    if (window._bokeh_is_loading > 0) {\n",
       "      console.log(\"Bokeh: BokehJS is being loaded, scheduling callback at\", now());\n",
       "      return null;\n",
       "    }\n",
       "    if (js_urls == null || js_urls.length === 0) {\n",
       "      run_callbacks();\n",
       "      return null;\n",
       "    }\n",
       "    console.log(\"Bokeh: BokehJS not loaded, scheduling load and callback at\", now());\n",
       "    window._bokeh_is_loading = js_urls.length;\n",
       "    for (var i = 0; i < js_urls.length; i++) {\n",
       "      var url = js_urls[i];\n",
       "      var s = document.createElement('script');\n",
       "      s.src = url;\n",
       "      s.async = false;\n",
       "      s.onreadystatechange = s.onload = function() {\n",
       "        window._bokeh_is_loading--;\n",
       "        if (window._bokeh_is_loading === 0) {\n",
       "          console.log(\"Bokeh: all BokehJS libraries loaded\");\n",
       "          run_callbacks()\n",
       "        }\n",
       "      };\n",
       "      s.onerror = function() {\n",
       "        console.warn(\"failed to load library \" + url);\n",
       "      };\n",
       "      console.log(\"Bokeh: injecting script tag for BokehJS library: \", url);\n",
       "      document.getElementsByTagName(\"head\")[0].appendChild(s);\n",
       "    }\n",
       "  };var element = document.getElementById(\"bf5df8ca-dbb8-477a-a097-0a7a6a31e5ba\");\n",
       "  if (element == null) {\n",
       "    console.log(\"Bokeh: ERROR: autoload.js configured with elementid 'bf5df8ca-dbb8-477a-a097-0a7a6a31e5ba' but no matching script tag was found. \")\n",
       "    return false;\n",
       "  }\n",
       "\n",
       "  var js_urls = [\"https://cdn.pydata.org/bokeh/release/bokeh-0.12.4.min.js\", \"https://cdn.pydata.org/bokeh/release/bokeh-widgets-0.12.4.min.js\"];\n",
       "\n",
       "  var inline_js = [\n",
       "    function(Bokeh) {\n",
       "      Bokeh.set_log_level(\"info\");\n",
       "    },\n",
       "    \n",
       "    function(Bokeh) {\n",
       "      \n",
       "      document.getElementById(\"bf5df8ca-dbb8-477a-a097-0a7a6a31e5ba\").textContent = \"BokehJS is loading...\";\n",
       "    },\n",
       "    function(Bokeh) {\n",
       "      console.log(\"Bokeh: injecting CSS: https://cdn.pydata.org/bokeh/release/bokeh-0.12.4.min.css\");\n",
       "      Bokeh.embed.inject_css(\"https://cdn.pydata.org/bokeh/release/bokeh-0.12.4.min.css\");\n",
       "      console.log(\"Bokeh: injecting CSS: https://cdn.pydata.org/bokeh/release/bokeh-widgets-0.12.4.min.css\");\n",
       "      Bokeh.embed.inject_css(\"https://cdn.pydata.org/bokeh/release/bokeh-widgets-0.12.4.min.css\");\n",
       "    }\n",
       "  ];\n",
       "\n",
       "  function run_inline_js() {\n",
       "    \n",
       "    if ((window.Bokeh !== undefined) || (force === true)) {\n",
       "      for (var i = 0; i < inline_js.length; i++) {\n",
       "        inline_js[i](window.Bokeh);\n",
       "      }if (force === true) {\n",
       "        display_loaded();\n",
       "      }} else if (Date.now() < window._bokeh_timeout) {\n",
       "      setTimeout(run_inline_js, 100);\n",
       "    } else if (!window._bokeh_failed_load) {\n",
       "      console.log(\"Bokeh: BokehJS failed to load within specified timeout.\");\n",
       "      window._bokeh_failed_load = true;\n",
       "    } else if (force !== true) {\n",
       "      var cell = $(document.getElementById(\"bf5df8ca-dbb8-477a-a097-0a7a6a31e5ba\")).parents('.cell').data().cell;\n",
       "      cell.output_area.append_execute_result(NB_LOAD_WARNING)\n",
       "    }\n",
       "\n",
       "  }\n",
       "\n",
       "  if (window._bokeh_is_loading === 0) {\n",
       "    console.log(\"Bokeh: BokehJS loaded, going straight to plotting\");\n",
       "    run_inline_js();\n",
       "  } else {\n",
       "    load_libs(js_urls, function() {\n",
       "      console.log(\"Bokeh: BokehJS plotting callback run at\", now());\n",
       "      run_inline_js();\n",
       "    });\n",
       "  }\n",
       "}(this));"
      ]
     },
     "metadata": {},
     "output_type": "display_data"
    }
   ],
   "source": [
    "from bokeh.plotting import figure, output_notebook, show\n",
    "output_notebook()"
   ]
  },
  {
   "cell_type": "code",
   "execution_count": 2,
   "metadata": {
    "collapsed": true
   },
   "outputs": [],
   "source": [
    "import glob"
   ]
  },
  {
   "cell_type": "code",
   "execution_count": 3,
   "metadata": {
    "collapsed": true
   },
   "outputs": [],
   "source": [
    "import numpy as np"
   ]
  },
  {
   "cell_type": "code",
   "execution_count": 4,
   "metadata": {
    "collapsed": true
   },
   "outputs": [],
   "source": [
    "from scipy.interpolate import interp1d\n",
    "from scipy.interpolate import spline"
   ]
  },
  {
   "cell_type": "code",
   "execution_count": 5,
   "metadata": {
    "collapsed": true
   },
   "outputs": [],
   "source": [
    "from tqdm import tqdm"
   ]
  },
  {
   "cell_type": "code",
   "execution_count": 6,
   "metadata": {
    "collapsed": true
   },
   "outputs": [],
   "source": [
    "DQN_Rewards_Path = \"/home/tabz/tmp/LogFiles/Maze_4_Logs/*Count*_Beta_0.01_uid*/logs/Episode_Rewards.txt\"\n",
    "DQN_Lengths_Path = \"/home/tabz/tmp/LogFiles/Maze_4_Logs/*Count*_Beta_0.01_uid*/logs/Episode_Lengths.txt\"\n",
    "DQN_Rewards = []\n",
    "DQN_Lengths = []\n",
    "DQN_Lengths_C = []"
   ]
  },
  {
   "cell_type": "code",
   "execution_count": 7,
   "metadata": {
    "collapsed": false
   },
   "outputs": [],
   "source": [
    "for filename in glob.glob(DQN_Rewards_Path):\n",
    "    run_logs = [0]\n",
    "#     print(filename)\n",
    "    with open(filename, \"r\") as f:\n",
    "        for line in f:\n",
    "            try:\n",
    "                ep_r = float(line)\n",
    "            except:\n",
    "                continue\n",
    "            run_logs.append(ep_r)\n",
    "    DQN_Rewards.append(run_logs)"
   ]
  },
  {
   "cell_type": "code",
   "execution_count": 9,
   "metadata": {
    "collapsed": false
   },
   "outputs": [],
   "source": [
    "for filename in glob.glob(DQN_Lengths_Path):\n",
    "    run_logs = [0]\n",
    "#     print(filename)\n",
    "    with open(filename, \"r\") as f:\n",
    "        for line in f:\n",
    "            try:\n",
    "                ep_r = float(line)\n",
    "            except:\n",
    "                continue\n",
    "            run_logs.append(ep_r)\n",
    "    DQN_Lengths.append(run_logs)\n",
    "    run_logs_c = np.cumsum(run_logs).astype(np.int32)\n",
    "    DQN_Lengths_C.append(run_logs_c)"
   ]
  },
  {
   "cell_type": "code",
   "execution_count": 10,
   "metadata": {
    "collapsed": false
   },
   "outputs": [
    {
     "ename": "NameError",
     "evalue": "name 'plt' is not defined",
     "output_type": "error",
     "traceback": [
      "\u001b[0;31m---------------------------------------------------------------------------\u001b[0m",
      "\u001b[0;31mNameError\u001b[0m                                 Traceback (most recent call last)",
      "\u001b[0;32m<ipython-input-10-62f8d54b9ead>\u001b[0m in \u001b[0;36m<module>\u001b[0;34m()\u001b[0m\n\u001b[1;32m      1\u001b[0m \u001b[0;32mfor\u001b[0m \u001b[0mlens\u001b[0m\u001b[0;34m,\u001b[0m \u001b[0mruns\u001b[0m \u001b[0;32min\u001b[0m \u001b[0mzip\u001b[0m\u001b[0;34m(\u001b[0m\u001b[0mDQN_Lengths_C\u001b[0m\u001b[0;34m,\u001b[0m \u001b[0mDQN_Rewards\u001b[0m\u001b[0;34m)\u001b[0m\u001b[0;34m:\u001b[0m\u001b[0;34m\u001b[0m\u001b[0m\n\u001b[0;32m----> 2\u001b[0;31m     \u001b[0mplt\u001b[0m\u001b[0;34m.\u001b[0m\u001b[0mplot\u001b[0m\u001b[0;34m(\u001b[0m\u001b[0mlens\u001b[0m\u001b[0;34m,\u001b[0m \u001b[0mruns\u001b[0m\u001b[0;34m)\u001b[0m\u001b[0;34m\u001b[0m\u001b[0m\n\u001b[0m\u001b[1;32m      3\u001b[0m \u001b[0mplt\u001b[0m\u001b[0;34m.\u001b[0m\u001b[0mshow\u001b[0m\u001b[0;34m(\u001b[0m\u001b[0;34m)\u001b[0m\u001b[0;34m\u001b[0m\u001b[0m\n",
      "\u001b[0;31mNameError\u001b[0m: name 'plt' is not defined"
     ]
    }
   ],
   "source": [
    "for lens, runs in zip(DQN_Lengths_C, DQN_Rewards):\n",
    "    plt.plot(lens, runs)\n",
    "plt.show()"
   ]
  },
  {
   "cell_type": "code",
   "execution_count": 11,
   "metadata": {
    "collapsed": false
   },
   "outputs": [
    {
     "data": {
      "text/html": [
       "\n",
       "\n",
       "    <div class=\"bk-root\">\n",
       "        <div class=\"bk-plotdiv\" id=\"b5328c9e-f145-4c9f-bb58-5fed512ca744\"></div>\n",
       "    </div>\n",
       "<script type=\"text/javascript\">\n",
       "  \n",
       "  (function(global) {\n",
       "    function now() {\n",
       "      return new Date();\n",
       "    }\n",
       "  \n",
       "    var force = false;\n",
       "  \n",
       "    if (typeof (window._bokeh_onload_callbacks) === \"undefined\" || force === true) {\n",
       "      window._bokeh_onload_callbacks = [];\n",
       "      window._bokeh_is_loading = undefined;\n",
       "    }\n",
       "  \n",
       "  \n",
       "    \n",
       "    if (typeof (window._bokeh_timeout) === \"undefined\" || force === true) {\n",
       "      window._bokeh_timeout = Date.now() + 0;\n",
       "      window._bokeh_failed_load = false;\n",
       "    }\n",
       "  \n",
       "    var NB_LOAD_WARNING = {'data': {'text/html':\n",
       "       \"<div style='background-color: #fdd'>\\n\"+\n",
       "       \"<p>\\n\"+\n",
       "       \"BokehJS does not appear to have successfully loaded. If loading BokehJS from CDN, this \\n\"+\n",
       "       \"may be due to a slow or bad network connection. Possible fixes:\\n\"+\n",
       "       \"</p>\\n\"+\n",
       "       \"<ul>\\n\"+\n",
       "       \"<li>re-rerun `output_notebook()` to attempt to load from CDN again, or</li>\\n\"+\n",
       "       \"<li>use INLINE resources instead, as so:</li>\\n\"+\n",
       "       \"</ul>\\n\"+\n",
       "       \"<code>\\n\"+\n",
       "       \"from bokeh.resources import INLINE\\n\"+\n",
       "       \"output_notebook(resources=INLINE)\\n\"+\n",
       "       \"</code>\\n\"+\n",
       "       \"</div>\"}};\n",
       "  \n",
       "    function display_loaded() {\n",
       "      if (window.Bokeh !== undefined) {\n",
       "        document.getElementById(\"b5328c9e-f145-4c9f-bb58-5fed512ca744\").textContent = \"BokehJS successfully loaded.\";\n",
       "      } else if (Date.now() < window._bokeh_timeout) {\n",
       "        setTimeout(display_loaded, 100)\n",
       "      }\n",
       "    }\n",
       "  \n",
       "    function run_callbacks() {\n",
       "      window._bokeh_onload_callbacks.forEach(function(callback) { callback() });\n",
       "      delete window._bokeh_onload_callbacks\n",
       "      console.info(\"Bokeh: all callbacks have finished\");\n",
       "    }\n",
       "  \n",
       "    function load_libs(js_urls, callback) {\n",
       "      window._bokeh_onload_callbacks.push(callback);\n",
       "      if (window._bokeh_is_loading > 0) {\n",
       "        console.log(\"Bokeh: BokehJS is being loaded, scheduling callback at\", now());\n",
       "        return null;\n",
       "      }\n",
       "      if (js_urls == null || js_urls.length === 0) {\n",
       "        run_callbacks();\n",
       "        return null;\n",
       "      }\n",
       "      console.log(\"Bokeh: BokehJS not loaded, scheduling load and callback at\", now());\n",
       "      window._bokeh_is_loading = js_urls.length;\n",
       "      for (var i = 0; i < js_urls.length; i++) {\n",
       "        var url = js_urls[i];\n",
       "        var s = document.createElement('script');\n",
       "        s.src = url;\n",
       "        s.async = false;\n",
       "        s.onreadystatechange = s.onload = function() {\n",
       "          window._bokeh_is_loading--;\n",
       "          if (window._bokeh_is_loading === 0) {\n",
       "            console.log(\"Bokeh: all BokehJS libraries loaded\");\n",
       "            run_callbacks()\n",
       "          }\n",
       "        };\n",
       "        s.onerror = function() {\n",
       "          console.warn(\"failed to load library \" + url);\n",
       "        };\n",
       "        console.log(\"Bokeh: injecting script tag for BokehJS library: \", url);\n",
       "        document.getElementsByTagName(\"head\")[0].appendChild(s);\n",
       "      }\n",
       "    };var element = document.getElementById(\"b5328c9e-f145-4c9f-bb58-5fed512ca744\");\n",
       "    if (element == null) {\n",
       "      console.log(\"Bokeh: ERROR: autoload.js configured with elementid 'b5328c9e-f145-4c9f-bb58-5fed512ca744' but no matching script tag was found. \")\n",
       "      return false;\n",
       "    }\n",
       "  \n",
       "    var js_urls = [];\n",
       "  \n",
       "    var inline_js = [\n",
       "      function(Bokeh) {\n",
       "        (function() {\n",
       "          var fn = function() {\n",
       "            var docs_json = {\"2097e175-311e-4b35-8d07-f5cf35f8e2a3\":{\"roots\":{\"references\":[{\"attributes\":{\"bottom_units\":\"screen\",\"fill_alpha\":{\"value\":0.5},\"fill_color\":{\"value\":\"lightgrey\"},\"left_units\":\"screen\",\"level\":\"overlay\",\"line_alpha\":{\"value\":1.0},\"line_color\":{\"value\":\"black\"},\"line_dash\":[4,4],\"line_width\":{\"value\":2},\"plot\":null,\"render_mode\":\"css\",\"right_units\":\"screen\",\"top_units\":\"screen\"},\"id\":\"d51e8c9c-1e89-4ed4-98a6-7c280e70e74a\",\"type\":\"BoxAnnotation\"},{\"attributes\":{\"plot\":{\"id\":\"b9152876-32eb-4d9e-baaf-6b12fa60f43f\",\"subtype\":\"Figure\",\"type\":\"Plot\"}},\"id\":\"0efd565f-4afb-410d-b0df-2aea4c65489a\",\"type\":\"WheelZoomTool\"},{\"attributes\":{\"plot\":{\"id\":\"b9152876-32eb-4d9e-baaf-6b12fa60f43f\",\"subtype\":\"Figure\",\"type\":\"Plot\"},\"ticker\":{\"id\":\"dae373be-fe25-4b3c-9a4b-d6d2fdf948b4\",\"type\":\"BasicTicker\"}},\"id\":\"0a81a787-8bcb-483c-8ef7-5d57e71c5915\",\"type\":\"Grid\"},{\"attributes\":{\"line_color\":{\"value\":\"#1f77b4\"},\"x\":{\"field\":\"x\"},\"y\":{\"field\":\"y\"}},\"id\":\"0879f93a-2390-41d0-b204-23911f121a66\",\"type\":\"Line\"},{\"attributes\":{\"callback\":null},\"id\":\"216910ac-2508-4161-a9e4-f1d69dc630cb\",\"type\":\"DataRange1d\"},{\"attributes\":{\"data_source\":{\"id\":\"ef78a3e2-471f-452c-b716-468a4e7c7894\",\"type\":\"ColumnDataSource\"},\"glyph\":{\"id\":\"0879f93a-2390-41d0-b204-23911f121a66\",\"type\":\"Line\"},\"hover_glyph\":null,\"nonselection_glyph\":{\"id\":\"37c997c7-3c32-463d-8177-41a9a6e344aa\",\"type\":\"Line\"},\"selection_glyph\":null},\"id\":\"0ed27554-6a26-4a16-9b97-736e6ac44c47\",\"type\":\"GlyphRenderer\"},{\"attributes\":{},\"id\":\"0f8f49e9-d350-411f-b8d8-561b2f846437\",\"type\":\"BasicTickFormatter\"},{\"attributes\":{},\"id\":\"dae373be-fe25-4b3c-9a4b-d6d2fdf948b4\",\"type\":\"BasicTicker\"},{\"attributes\":{\"formatter\":{\"id\":\"0f8f49e9-d350-411f-b8d8-561b2f846437\",\"type\":\"BasicTickFormatter\"},\"plot\":{\"id\":\"b9152876-32eb-4d9e-baaf-6b12fa60f43f\",\"subtype\":\"Figure\",\"type\":\"Plot\"},\"ticker\":{\"id\":\"0729dba7-3532-406e-ad0b-1c9a5c447624\",\"type\":\"BasicTicker\"}},\"id\":\"71b0fb0a-5ac5-48df-855e-02e42b8c0079\",\"type\":\"LinearAxis\"},{\"attributes\":{\"line_alpha\":{\"value\":0.1},\"line_color\":{\"value\":\"#1f77b4\"},\"x\":{\"field\":\"x\"},\"y\":{\"field\":\"y\"}},\"id\":\"37c997c7-3c32-463d-8177-41a9a6e344aa\",\"type\":\"Line\"},{\"attributes\":{\"dimension\":1,\"plot\":{\"id\":\"b9152876-32eb-4d9e-baaf-6b12fa60f43f\",\"subtype\":\"Figure\",\"type\":\"Plot\"},\"ticker\":{\"id\":\"0729dba7-3532-406e-ad0b-1c9a5c447624\",\"type\":\"BasicTicker\"}},\"id\":\"1198d672-7132-435c-99e2-98a0982bb67b\",\"type\":\"Grid\"},{\"attributes\":{},\"id\":\"0729dba7-3532-406e-ad0b-1c9a5c447624\",\"type\":\"BasicTicker\"},{\"attributes\":{\"plot\":{\"id\":\"b9152876-32eb-4d9e-baaf-6b12fa60f43f\",\"subtype\":\"Figure\",\"type\":\"Plot\"}},\"id\":\"488064d5-4fe1-4417-82d1-84bb5fb9fc24\",\"type\":\"PanTool\"},{\"attributes\":{\"overlay\":{\"id\":\"d51e8c9c-1e89-4ed4-98a6-7c280e70e74a\",\"type\":\"BoxAnnotation\"},\"plot\":{\"id\":\"b9152876-32eb-4d9e-baaf-6b12fa60f43f\",\"subtype\":\"Figure\",\"type\":\"Plot\"}},\"id\":\"25ab95d2-47dc-4e2b-9ebe-ddbe03becfdd\",\"type\":\"BoxZoomTool\"},{\"attributes\":{\"plot\":{\"id\":\"b9152876-32eb-4d9e-baaf-6b12fa60f43f\",\"subtype\":\"Figure\",\"type\":\"Plot\"}},\"id\":\"a8e4be13-7ebb-4359-9c4d-4168991f785e\",\"type\":\"SaveTool\"},{\"attributes\":{\"plot\":{\"id\":\"b9152876-32eb-4d9e-baaf-6b12fa60f43f\",\"subtype\":\"Figure\",\"type\":\"Plot\"}},\"id\":\"eb79973a-f159-43fe-99cb-46b55077f75d\",\"type\":\"ResetTool\"},{\"attributes\":{\"plot\":{\"id\":\"b9152876-32eb-4d9e-baaf-6b12fa60f43f\",\"subtype\":\"Figure\",\"type\":\"Plot\"}},\"id\":\"e07922ef-670a-4ace-a471-ada0c9d6c70c\",\"type\":\"HelpTool\"},{\"attributes\":{\"callback\":null,\"column_names\":[\"x\",\"y\"],\"data\":{\"x\":{\"__ndarray__\":\"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\",\"dtype\":\"int32\",\"shape\":[1741]},\"y\":[0,-0.999575,-0.999575,-0.999575,-0.999575,-0.999575,0.000425,-0.999575,0.000425,-0.999575,-0.999575,0.000425,0.000425,0.000425,-0.999575,0.000425,0.000425,-0.999575,0.000425,-0.999575,0.000425,0.000425,0.000425,0.000425,0.000425,-0.999575,0.000425,-0.999575,-0.999575,0.000425,0.000425,1.000425,0.000425,0.000425,-0.999575,-0.999575,0.000425,1.000425,0.000425,1.000425,0.000425,-0.999575,0.000425,-0.999575,-0.999575,-0.999575,0.000425,0.000425,0.000425,1.000425,2.302296,1.000425,1.000425,0.000425,1.000425,-0.999575,0.000425,1.000425,1.000425,2.197704,1.000425,1.000425,1.000425,2.491497,2.517007,2.731718,2.671769,2.781888,2.77381,2.492347,2.526786,2.620323,2.78699,2.66284,2.203231,1.000425,1.000425,2.71301,2.775935,2.775935,2.791241,1.000425,2.733418,2.791241,2.769133,2.748299,2.75085,2.704507,2.690901,2.803997,2.47534,2.277636,1.000425,0.000425,0.000425,1.000425,1.000425,1.000425,2.490221,2.681122,2.718963,2.758929,2.78699,2.841412,2.846939,2.667517,2.858418,2.872874,2.866071,2.845663,2.858844,2.87415,2.90051,2.854167,2.874575,2.824405,2.862245,2.846939,2.907313,2.859269,2.904337,2.866071,2.871173,2.868197,2.860969,2.903486,2.855867,2.889456,2.910714,2.89966,2.780612,2.88648,2.892432,2.896684,2.900085,2.849915,2.892432,2.898384,2.846514,1.000425,1.000425,1.000425,2.78869,1.000425,1.000425,2.914541,2.88733,1.000425,2.73852,2.889456,2.857143,2.872874,2.880102,2.894983,2.897534,2.873724,2.89966,2.909864,2.895833,2.918793,2.887755,2.884354,2.903912,2.890731,2.899235,2.916241,2.898384,2.906888,2.903486,2.896259,2.906463,2.886905,2.927296,2.89966,2.91369,2.918793,2.91284,2.896259,2.901786,2.897109,2.909439,2.90051,2.892007,2.91369,2.907738,2.903061,2.907738,2.918367,2.918367,2.905187,2.910714,2.900935,2.918367,2.904337,2.904337,2.907738,2.823554,2.917092,2.916667,2.867772,2.901361,2.926446,2.91199,2.919218,2.928571,2.931122,2.914116,2.82483,2.911139,2.928997,2.913265,2.916241,2.718112,2.888605,2.902636,2.911139,2.92602,2.92602,2.92602,2.913265,2.917942,2.915391,2.92517,2.920493,2.917092,2.92602,2.914966,2.91199,2.906888,2.908588,2.929847,2.907313,2.925595,2.906463,2.89966,2.92602,2.914541,2.909864,2.917092,2.919218,2.910714,1.000425,0.000425,0.000425,-0.999575,0.000425,1.000425,2.030187,2.68835,2.595663,2.744473,0.000425,2.832058,2.840561,2.60119,2.890731,2.869898,0.000425,1.000425,1.000425,2.223214,2.892007,2.878827,2.879677,2.89881,2.895833,2.918367,2.872024,2.852891,2.847789,2.848214,2.897959,2.883078,2.897534,2.880527,2.847364,2.883503,2.83716,2.832058,2.839286,2.877551,2.892857,2.894558,2.892857,2.915816,2.915391,2.893282,2.893282,1.000425,2.864796,2.853316,2.887755,2.905187,2.910289,2.883503,2.908588,2.836735,2.908588,2.901361,2.92602,2.93665,2.922194,2.896259,2.916241,2.919218,2.932398,2.913265,2.932823,2.93835,2.906037,2.921769,2.922194,2.934949,2.932823,2.932823,2.902636,2.921769,2.912415,2.907313,2.92602,2.92432,2.927296,2.932398,2.918793,2.904762,2.881378,2.908588,2.914966,2.943878,2.923895,2.936224,2.940901,2.933248,2.940901,2.937925,2.919643,2.934949,2.932823,2.940476,2.932823,2.934099,2.916241,2.913265,2.934524,2.935374,2.921344,2.93665,2.935799,2.733418,2.926446,2.923895,2.917092,2.921769,2.927721,2.937925,2.935374,2.929847,2.935799,2.929847,2.934099,2.914541,2.909014,2.941752,2.911139,2.940476,2.943452,2.943452,2.932823,2.941327,2.939626,2.923895,2.931973,2.935799,2.927296,2.928997,2.929847,2.930272,2.931973,2.925595,2.940051,2.942602,2.939201,2.938776,2.931548,2.942602,2.927296,2.93835,2.941327,2.9375,2.941752,2.925595,2.919218,2.916241,2.936224,2.939201,2.939201,2.934524,2.939201,2.9375,2.936224,2.942177,2.943027,2.93665,2.939626,2.942602,2.945153,2.928571,2.943452,2.921769,2.937925,2.946854,2.935374,2.945578,2.940051,2.942602,2.938776,2.940476,2.939626,2.934949,2.944303,2.946003,2.931973,2.945578,2.943027,2.934099,2.939626,2.938776,2.940901,2.940476,2.931973,2.937075,2.934524,2.932398,2.926871,2.943452,2.940901,2.930272,2.93665,2.943452,2.936224,2.923895,2.940051,2.936224,2.893282,2.935374,2.946003,2.944728,2.945153,2.928146,2.931122,2.940051,2.943027,2.933673,2.938776,2.945578,2.931973,2.93835,2.941327,2.940051,2.935799,2.940051,2.947279,2.943027,2.943452,2.911565,2.939201,2.942602,2.937075,2.940476,2.937075,2.936224,2.942602,2.940476,2.935799,2.938776,2.945153,2.943878,2.939201,2.944303,2.946003,2.941327,2.938776,2.939201,2.941327,2.944303,2.935799,2.93835,2.937925,2.93665,2.93835,2.944303,2.942177,2.935374,2.940901,2.944303,2.940901,2.945578,2.935799,2.943878,2.942602,2.93835,2.940901,2.933673,2.923895,2.93835,2.939201,2.93835,2.937075,2.941752,2.941327,2.937925,2.941752,2.942602,2.939626,2.942177,2.939626,2.937925,2.939626,2.946003,2.92517,2.935374,2.9375,2.942602,2.937925,2.945153,2.937925,2.937925,2.940901,2.942177,2.938776,2.931122,2.936224,2.935374,2.943452,2.929847,2.931973,2.945578,2.944728,2.942177,2.939201,2.946854,2.943452,2.940901,2.944728,2.942177,2.943452,2.93665,2.941327,2.938776,2.946429,2.940476,2.945578,2.942602,2.945153,2.938776,2.937075,2.944303,2.934524,2.9375,2.948554,2.944303,2.939626,2.927721,2.92602,2.946429,2.943027,2.934949,2.9375,2.941327,2.943878,2.937925,2.942602,2.944303,2.940051,2.929847,2.943878,2.936224,2.945578,2.945153,2.932823,2.941327,2.93835,2.940476,2.925595,2.931122,2.930272,2.941327,2.943878,2.943452,2.941752,2.946003,2.92602,2.9375,2.942602,2.940476,2.93835,2.944728,2.927721,2.939626,2.945578,2.939201,2.9375,2.942177,2.942602,2.93665,2.9375,2.936224,2.937925,2.942177,2.943878,2.940476,2.947704,2.943452,2.944728,2.94898,2.93665,2.941327,2.934524,2.921769,2.941327,2.942177,2.945578,2.934099,2.9375,2.937925,2.934524,2.937925,2.941327,2.941327,2.940476,2.934524,2.895833,2.943027,2.944728,2.938776,2.941752,2.941752,2.945578,2.93835,2.938776,2.938776,2.943452,2.936224,2.935799,2.943452,2.92602,2.931973,2.92602,2.935799,2.907738,2.939201,2.945153,2.946003,2.946854,2.944303,2.946003,2.947279,2.943878,2.946003,2.941327,2.941327,2.942602,2.934949,2.935799,2.945153,2.942602,2.944303,2.940476,2.946429,2.941327,2.941752,2.945153,2.935374,2.944303,2.946003,2.942602,2.932823,2.91369,2.920918,2.944728,2.943452,2.941327,2.941327,2.939626,2.939626,2.941752,2.9375,2.943878,2.946429,2.941752,2.939201,2.934524,2.943878,2.945153,2.925595,2.945578,2.929422,2.941327,2.938776,2.941327,2.93665,2.939201,2.940476,2.941327,2.943878,2.943878,2.941752,2.942177,2.940901,2.946429,2.946854,2.934949,2.943027,2.945578,2.933673,2.937925,2.929422,2.932398,2.93835,2.928146,2.948129,2.945153,2.943878,2.923044,2.942177,2.942602,-0.999575,2.93665,2.93665,2.934099,2.933248,2.930272,2.937075,2.927296,2.937925,2.936224,2.939201,2.938776,2.941327,2.941327,2.942177,2.935374,2.940051,2.943027,2.938776,2.944728,2.942177,2.939201,2.939201,2.943878,2.943452,2.941327,2.930697,2.946854,2.945153,2.943027,2.946003,2.940901,2.944303,2.945153,2.946003,2.941752,2.942177,2.940901,2.935799,2.942177,2.944728,2.942177,2.934524,2.940476,2.946003,2.943027,2.947279,2.945578,2.938776,2.944303,2.942177,2.942602,2.943452,2.946429,2.944728,2.929847,2.939626,2.943452,2.938776,2.945153,2.944303,2.944303,2.942177,2.946429,2.945153,2.944303,2.928997,2.937075,2.941327,2.940051,2.946003,2.939626,2.924745,2.940901,2.93665,2.943452,2.947704,2.928997,2.940901,2.942602,2.946003,2.943027,2.940901,2.943878,2.942602,2.9375,2.940901,2.943452,2.943027,2.937925,2.942602,2.940051,2.933673,2.942602,2.946429,2.943452,2.944728,2.940051,2.940476,2.937925,2.937925,2.928146,2.938776,2.938776,2.942177,2.944303,2.947279,2.943452,2.946429,2.941752,2.943878,2.943027,2.943027,2.940051,2.940901,2.906037,2.946003,2.943027,2.938776,2.944728,2.939626,2.941752,2.942602,2.947279,2.928571,2.934524,2.943452,2.933248,2.936224,2.93665,2.938776,2.943452,2.942602,2.934949,2.942177,2.944303,2.946003,2.940901,2.947279,2.943452,2.941327,2.942177,2.936224,2.941752,2.941752,2.928146,2.934949,2.941327,2.93835,2.941752,2.933673,2.946003,2.939201,2.944303,2.935799,2.943027,2.929422,2.941327,2.943878,2.935799,2.943027,2.941752,2.943027,2.944728,2.947279,2.943452,2.924745,2.939626,2.942602,2.93835,2.939201,2.938776,2.937075,2.935799,1.000425,2.939201,2.945578,2.937075,2.943452,2.944303,2.937075,2.944303,2.934949,2.940476,2.906888,2.946429,2.904762,2.926871,2.943878,2.941327,2.943027,2.944728,2.946429,2.943878,2.943452,2.939626,2.939201,2.939201,2.941327,2.940476,2.945153,2.940476,2.942177,2.943878,2.943878,2.937925,2.939626,2.933248,2.946003,2.942177,2.93835,2.943027,2.944728,2.937925,2.940051,2.930272,2.931548,2.943878,2.946429,2.941752,2.945153,2.944303,2.942177,2.943452,2.946429,2.944728,2.931548,2.944303,2.944728,2.89966,2.923469,2.941752,2.945153,2.941752,2.943027,2.943452,2.940476,2.946003,2.944303,2.944728,2.942602,1.000425,2.934524,2.928997,2.934524,2.892857,2.943027,2.938776,2.792517,2.919643,2.939626,2.946003,2.945578,2.946429,2.929422,2.947704,2.928571,2.940901,2.921769,2.942602,2.930272,2.933673,2.946003,2.942602,2.943452,2.946854,2.946003,2.9375,2.937925,2.937925,2.928571,2.943027,2.855867,2.936224,2.917517,2.911565,2.927296,2.93665,2.933248,2.942602,2.942177,2.943878,2.916241,2.936224,2.943452,2.933673,2.889881,2.937925,2.910714,2.945153,2.942177,2.937075,2.939626,2.946429,2.946429,2.9375,2.940476,2.941327,2.942602,2.942177,2.943452,2.931973,2.939201,2.946003,2.942177,2.917092,2.941327,2.934524,2.946003,2.937925,2.935374,2.943027,2.940901,2.883929,2.920068,2.930272,2.943878,2.939201,2.933673,2.936224,2.933673,2.941327,2.942602,2.926446,2.940051,2.9375,2.934524,2.93665,2.9375,2.942602,2.943027,2.944303,2.940476,2.941327,2.932398,2.940901,2.89966,2.937925,2.905612,2.937075,2.922194,2.938776,2.941752,2.895408,2.940901,2.945153,2.937925,2.939626,2.914541,2.946429,2.945153,2.938776,2.944728,2.902636,2.944728,2.943878,2.943027,2.937075,2.935374,2.942602,2.931122,2.934949,2.942602,2.940051,2.919218,2.945153,2.940901,2.933248,2.930697,2.945578,2.944728,2.935799,2.914541,2.947704,2.943878,2.944728,2.943878,2.930697,2.941327,2.935799,2.941327,2.88733,2.946429,2.923895,2.940051,2.937925,2.941752,2.942602,2.940901,2.928146,2.940476,2.937075,2.943878,2.947279,2.943878,2.937075,2.927296,2.928146,2.815051,2.934949,2.926446,2.933248,2.940051,2.929847,2.9375,2.932398,2.921344,2.912415,2.916667,2.934099,2.882228,2.928997,2.932823,2.927296,2.940476,2.941752,2.937075,2.939626,2.923895,2.71131,2.932398,2.902636,2.943878,2.944303,2.943027,2.937075,2.932398,2.932823,2.939201,2.920068,2.945578,2.93665,2.939626,2.93665,2.941752,2.943027,2.9375,2.936224,2.93665,2.944303,2.943452,2.947279,2.941752,2.943027,2.947279,2.940901,2.947279,2.944728,2.940901,2.934524,2.943027,2.941752,2.939201,2.932823,2.942602,2.942177,2.602891,2.911139,2.943027,2.941752,2.939626,2.91369,2.93835,2.943452,2.946003,2.939201,2.925595,2.935374,2.940901,2.944303,2.93665,2.928146,2.943878,2.947279,2.943452,2.941327,2.933673,2.943027,2.93835,2.924745,2.943027,2.946003,2.943452,2.939626,2.943452,2.927296,2.934099,2.945578,2.939626,2.946003,2.934524,2.944303,2.943027,2.947704,2.853316,2.942177,2.934949,2.940051,2.935799,2.933673,2.943027,2.937075,2.914116,2.942602,2.945153,2.945153,2.944303,2.936224,2.936224,2.940051,2.93835,2.937075,2.937075,2.940901,2.941752,2.943452,2.948129,2.9375,2.931973,2.941327,2.939201,2.947279,2.945153,2.946429,2.943027,2.943878,2.942602,2.947704,2.942177,2.944303,2.945153,2.944303,2.931548,2.93835,2.911139,2.943878,2.938776,2.945578,2.940051,2.93835,2.93835,2.937075,2.945578,2.943452,2.93835,2.939626,2.93835,2.933673,2.941752,2.943452,2.941752,2.945578,2.932398,2.945153,2.939201,2.943027,2.945578,2.943027,2.940476,2.943452,2.946854,2.946854,2.947704,2.944728,2.935799,2.945153,2.943452,2.941752,2.944728,2.934949,2.937925,2.943878,2.940901,2.93835,2.943878,2.946854,2.9375,2.947279,2.946854,2.945578,2.931548,2.935374,2.929422,2.938776,2.943878,2.945578,2.940476,2.940476,2.939201,2.946429,2.920068,2.9375,2.942177,2.940901,2.943027,2.943878,2.938776,2.932398,2.93835,2.943452,2.945153,2.941752,2.943452,2.943027,2.942177,2.942177,2.939626,2.942177,2.915816,2.940476,2.942602,2.940476,2.944728,2.943452,2.93835,2.940901,2.934524,2.946854,2.944303,2.943452,2.943027,2.943027,2.948554,2.945578,2.946429,2.947704,2.9375,2.946854,2.948129,2.941327,2.941327,2.943452,2.944303,2.943878,2.932823,2.943027,2.942177,2.944728,2.945153,2.944303,2.937925,2.928146,2.943878,2.946003,2.943452,2.94898,2.934099,2.941752,2.944728,2.942602,2.940901,2.909439,2.939201,2.930697,2.937075,2.946429,2.944303,2.942177,2.943878,2.944303,2.927296,2.946854,2.943878,2.937075,2.942602,2.945153,2.927721,2.946429,2.935799,2.941752,2.947704,2.940051,2.945153,2.937925,2.939201,2.945578,2.942177,2.942177,2.932823,2.942602,2.942602,2.936224,2.945578,2.946429,2.926871,2.928146,2.944303,2.947279,2.946429,2.942602,2.944728,2.940901,2.944303,2.943878,2.946854,2.942602,2.940051,2.942602,2.943027,2.946003,2.944303,2.940476,2.941752,2.939201,2.946854,2.943878,2.945153,2.935799,2.940901,2.945578,2.945578,2.942177,2.943027,2.939626,2.940051,2.942177,2.940901,2.940901,2.93835,2.943027,2.945153,2.941752,2.946429,2.940476,2.944303,2.945578,2.940901,2.942177,2.945578,2.941752,2.942177,2.941327,2.945578,2.943027,2.940901,2.941752,2.943878,2.943027,2.943878,2.927721,2.946854,2.943027,2.944303,2.943452,2.942177,2.940901,2.944728,2.943452,2.943027,2.948554,2.937075,2.943452,2.945153,2.941327,2.93665,2.946429,2.946429,2.943878,2.943027,2.929847,2.947279,2.939201,2.946854,2.941752,2.948554,2.936224,2.946003,2.938776,2.9375,2.940901,2.944303,2.944303,2.943027,2.941327,2.946003,2.946429,2.939626,2.931973,2.943027,2.944303,2.945578,2.938776,2.940901,2.933673,2.941327,2.942602,2.942602,2.947704,2.940476,2.937075,2.942602,2.946003,2.937075,2.940476,2.942177,2.945578,2.943452,2.943878,2.921769,2.944728,2.931122,2.945153,2.9375,2.944728,2.945578,2.941327,2.934099,2.943452,2.945153,2.943027,2.941327,2.934099,2.947279,2.942177,2.944728,2.943027,2.945153,2.941327,2.945578,2.940901,2.946003,2.943027,2.9375,2.943878,2.946003,2.944728,2.933673,2.946854,2.943452,2.943452,2.942177,2.941752,2.946003,2.940051,2.947279,2.943027,2.944728,2.934949,2.943878,2.945578,2.943027,2.941327,2.93835,2.942177,2.946429,2.940476,2.944303,2.93665,2.944303,2.942602,2.946429,2.946003,2.937925,2.941752,2.946429,2.940901,2.946429,2.944303,2.948129,2.939626,2.943452,2.940051,2.943878,2.944728,2.933673,2.940476,2.942602,2.948129,2.948129,2.880527,2.944303,2.945153,2.944303,2.942177,2.942602,2.93835,2.944303,2.943878,2.944303,2.940051,2.945153,2.932398,2.919643,2.941327,2.929422,2.937075,2.944728,2.943878,2.947279,2.942602,2.945153,2.939626,2.941752,2.937925,2.945153,2.945153,2.944728,2.946854,2.928997,2.932823,2.940051,2.944303,2.945578,2.941752,2.947279,2.945578,2.943452,2.942602,2.945578,2.938776,2.937925,2.946854,2.946854,2.943027,2.942177,2.935799,2.943027,2.943878,2.943452,2.942602,2.946003,2.942602,2.940901,2.946854,2.926871,2.946003,2.944303,2.937925,2.946003,2.942602,2.943027,2.948129,2.941752,2.937925,2.942602,2.946003,2.940476,2.943027,2.93665,2.941752,2.941752,2.945153,2.944303,2.942602,2.942602,2.941327,2.943878,2.946003,2.93835,2.946854,2.941327,2.946003,2.944303,2.944728,2.939626,2.940051,2.93835,2.943027,2.942177,2.943878,2.944728,2.944728,2.941752,2.945578,2.934099,2.946854,2.946429,2.945153,2.942602,2.943027,2.943878,2.942602,2.942602,2.945153,2.934524,2.949405,2.946429,2.943452,2.943878,2.945578,2.945153,2.940051,2.944728,2.943452,2.944728,2.940051,2.93835,2.941327,2.942177,2.946854,2.934949,2.940051,2.946003,2.943878,2.946429,2.945578,2.942177,2.943452,2.945153,2.9375,2.941327,2.945578,2.944303,2.944303,2.942602,2.941752,2.937075,2.939626,2.945578,2.945153,2.944303,2.942177,2.942177,2.944303,2.942177]}},\"id\":\"ac846d83-8cd5-49a1-8b62-a3f4a55747b6\",\"type\":\"ColumnDataSource\"},{\"attributes\":{\"line_color\":{\"value\":\"#1f77b4\"},\"x\":{\"field\":\"x\"},\"y\":{\"field\":\"y\"}},\"id\":\"2a10f13d-4704-4f78-b636-748e191dd564\",\"type\":\"Line\"},{\"attributes\":{\"data_source\":{\"id\":\"ac846d83-8cd5-49a1-8b62-a3f4a55747b6\",\"type\":\"ColumnDataSource\"},\"glyph\":{\"id\":\"2a10f13d-4704-4f78-b636-748e191dd564\",\"type\":\"Line\"},\"hover_glyph\":null,\"nonselection_glyph\":{\"id\":\"8231590b-f1f0-4d0e-8a4c-89c088755cc8\",\"type\":\"Line\"},\"selection_glyph\":null},\"id\":\"089bf196-8b20-4064-9047-e89c2543dcd0\",\"type\":\"GlyphRenderer\"},{\"attributes\":{\"line_alpha\":{\"value\":0.1},\"line_color\":{\"value\":\"#1f77b4\"},\"x\":{\"field\":\"x\"},\"y\":{\"field\":\"y\"}},\"id\":\"8231590b-f1f0-4d0e-8a4c-89c088755cc8\",\"type\":\"Line\"},{\"attributes\":{\"callback\":null,\"column_names\":[\"x\",\"y\"],\"data\":{\"x\":{\"__ndarray__\":\"AAAAADAJAABgEgAAkBsAAMAkAADwLQAAIDcAAFBAAACASQAAsFIAAOBbAAAQZQAAQG4AAHB3AACggAAA0IkAAACTAAAwnAAAYKUAAJCuAADAtwAA8MAAACDKAABQ0wAAgNwAALDlAADg7gAAEPgAAEABAQBwCgEAoBMBANAcAQAAJgEAMC8BAGA4AQCQQQEAwEoBAPBTAQAgXQEAUGYBAIBvAQCweAEA4IEBABCLAQBAlAEAcJ0BAKCmAQDQrwEAALkBADDCAQBgywEAkNQBAMDdAQDw5gEAIPABAFD5AQCAAgIAsAsCAOAUAgAQHgIAQCcCAHAwAgCgOQIA0EICAABMAgAwVQIAYF4CAJBnAgDAcAIA8HkCACCDAgBQjAIAFZACAEWZAgB1ogIApasCANW0AgAFvgIANccCAGXQAgCV2QIAxeICAPXrAgAl9QIAVf4CAKECAwDRCwMAARUDADEeAwDiIAMAEioDAA0zAwBQOAMAQjwDAPxAAwBDRwMAnkkDAEBLAwBuTgMAXVEDABhTAwBIXAMAs10DALhfAwBaYQMA5mIDABJlAwBbZwMAy2kDAJtrAwDLdAMAKnYDAIx3AwDdeQMAK3sDAFl8AwCofQMAyX4DAHWAAwAHgwMAYYQDANOFAwDLhgMAvYcDABGLAwAFjAMA0IwDAMONAwDujgMA3Y8DAIeQAwCBkQMAS5IDACiTAwAmlAMALJUDAD+XAwAXmAMAJJkDAPuZAwAImwMA6JsDAN+cAwDCnQMAx54DAIafAwCnoAMA2KEDAKOiAwBIowMALaQDACKlAwAHpgMAwKYDAN6nAwCQqAMAUKkDACyqAwD7qgMArasDAJ2sAwBDrQMAAa4DANuuAwDHrwMAfLADAHqxAwBUsgMA97IDAL2zAwBqtAMAX7UDABu2AwDRtgMAnrcDAFi4AwAVuQMA27kDAJm6AwB7uwMATrwDABu9AwDsvQMAqr4DAJ6/AwBwwAMAL8EDABzCAwDPwgMAdMMDAGPEAwAjxQMA8cUDAKjGAwBexwMAI8gDANTIAwCNyQMASsoDAAHLAwDwywMAocwDAFrNAwANzgMAuM4DAH7PAwAk0AMAvdADAGvRAwAb0gMA4dIDAJXTAwBH1AMACtUDAK7VAwBx1gMADNcDAMrXAwCu2AMAZNkDAHDaAwAh2wMAzNsDAIzcAwAt3QMA9d0DAKLeAwBb3wMAAOADAJrgAwB14QMALeIDAMfiAwBd4wMAKOQDAAflAwDK5QMAkeYDAE3nAwAC6AMAvugDAJDpAwA76gMAIusDAMTrAwB87AMAGe0DANbtAwCF7gMAJe8DADb0AwAW9QMApPUDAFT2AwD69gMAqvcDAKf4AwBF+QMA9PkDAKD6AwBl+wMAJvwDAOP8AwB//QMAH/4DANT+AwB0/wMAFQAEAMIABABRAQQAAAIEAI8CBAA6AwQA3QMEAMUEBABwBQQAIgYEANAGBABvBwQAGQgEALMIBABQCQQA3AkEAHoKBAAvCwQA9AsEAMgMBABpDQQA/w0EAJQOBAAzDwQA3Q8EAMsQBAB3EQQAEhIEAKsSBABKEwQA7RMEAIUUBAAwFQQA4xUEAKYWBABEFwQA6hcEAKkYBACGGQQAbRoEAD0bBAAXHAQAAx0EALEdBABVIAQADCEEAKchBABKIgQA+yIEAKMjBACIJAQAPCUEAMglBAB9JgQACycEAKwnBABbKAQA/igEAJ4pBABxKgQAMysEAOcrBAC9LAQAUi0EAPctBACKLgQAKS8EALgvBABQMAQAATEEAKUxBABIMgQAATMEAJszBAAxNAQA1DQEAG01BAAXNgQArjYEAEA3BADJNwQAXzgEAAQ5BACfOQQAPToEAOA6BAB8OwQAHDwEAKk8BABRPQQA8D0EAOk+BACIPwQARUAEAP5ABACpQQQAQkIEAOVCBABxQwQA/kMEAJdEBAAdRQQA7EUEALVGBACqRwQAOEgEAMFIBAB4SQQAHEoEALFKBABISwQA40sEAIxMBAB2TQQAIE4EANFOBACITwQAKVAEAOdQBAB/UQQAPFIEAMZSBABkUwQAFlQEALlUBABgVQQA+VUEAJFWBAA2VwQA11cEAGdYBAAOWQQAu1kEAF1aBAD+WgQAjVsEACVcBACqXAQAO10EAM5dBABUXgQA5V4EAJ5fBAAsYAQAuWAEADdhBADOYQQAXmIEAPBiBACnYwQAOmQEANVkBABnZQQA/mUEAJlmBAAuZwQA12cEAHRoBAD9aAQAgmkEAClqBADFagQATmsEANFrBABubAQACW0EAKhtBAA6bgQA/G4EAJxvBAAkcAQAuXAEAEhxBADhcQQAinIEAB1zBACycwQANHQEALx0BABKdQQA13UEAG52BAAIdwQAmncEADd4BAC/eAQASHkEANF5BABYegQA23oEAGB7BAD3ewQAinwEABp9BADAfQQAZX4EABx/BACvfwQAO4AEAOqABACTgQQAHoIEALqCBABPgwQA24MEAGGEBADrhAQAe4UEAC6GBADGhgQAWocEAP6HBACQiAQADYkEAI2JBAAVigQAnIoEACeLBAC/iwQAYowEAB6NBADijQQAfo4EABSPBACjjwQAJJAEALKQBABHkQQA2ZEEAGOSBADhkgQAYZMEAPCTBABzlAQABZUEAIuVBAAulgQAvpYEAGaXBADqlwQAlJgEAB+ZBACkmQQAKZoEALOaBAAxmwQAv5sEAECcBADfnAQAd50EACueBADJngQASJ8EAMyfBABXoAQA56AEAHqhBAAIogQAnKIEAB6jBACiowQAbaQEAPKkBAB6pQQAD6YEAJGmBAAYpwQAoacEACaoBAC8qAQAR6kEAMupBABUqgQA56oEAHOrBAABrAQAi6wEAC2tBADDrQQAVa4EANmuBABgrwQA7a8EAHGwBADysAQAi7EEAAuyBACXsgQAHbMEAKKzBAAktAQAorQEAFi1BADwtQQAsrYEAEC3BADQtwQAVLgEANe4BABiuQQA5LkEAHC6BAAHuwQAlbsEABu8BACivAQAMr0EALS9BAA+vgQAvr4EAFG/BADNvwQAXsAEAOjABABywQQABMIEAIPCBAANwwQAj8MEABrEBAC1xAQANsUEALrFBABHxgQA2MYEAGnHBADtxwQAecgEAP3IBACLyQQAPMoEAO/KBABzywQA8MsEAHPMBAAbzQQAnc0EABnOBACmzgQAPs8EAL7PBABS0AQA+dAEAILRBAAI0gQAm9IEACLTBACx0wQAg9QEAA/VBACk1QQAO9YEALrWBAA61wQAw9cEAD/YBADC2AQAQtkEAMXZBABM2gQA19oEAF/bBADl2wQAfdwEABTdBAAA3gQAft4EABTfBACZ3wQAF+AEALfgBABF4QQAzOEEAFTiBAD54gQAiOMEABjkBACs5AQAUuUEANXlBABO5gQA0eYEAG/nBAAC6AQAoOgEACzpBAC56QQAP+oEAO/qBABu6wQA7OsEAHPsBAAE7QQAme0EACDuBAA37wQAue8EAEPwBADB8AQARvEEAO/xBABy8gQA8/IEAHbzBAD/8wQAnvQEACj1BACg9QQAKfYEALf2BABK9wQA0PcEAFD4BADR+AQAWvkEAOz5BABz+gQA/foEAIn7BAAP/AQAm/wEACT9BACn/QQANP4EAL/+BABS/wQA1/8EAGAABQDvAAUAnAEFABgCBQCdAgUALgMFALMDBQBFBAUA0gQFAFUFBQDXBQUAYQYFAOkGBQB6BwUAFwgFAJ0IBQAxCQUAuQkFAD0KBQDECgUATAsFAMsLBQBPDAUA0wwFAF8NBQDiDQUAdA4FAAcPBQCeDwUAIhAFALAQBQBcEQUA5REFAHASBQD6EgUAhBMFAAQUBQCSFAUAFhUFAOkVBQBxFgUA+hYFAHoXBQD4FwUAiBgFAAUZBQCVGQUAIBoFAKkaBQArGwUArxsFADEcBQC1HAUAPx0FAMsdBQBQHgUA/B4FAJIfBQAWIAUAnCAFACshBQC1IQUAMyIFAMIiBQBMIwUA2iMFAIMkBQAbJQUAqCUFADwmBQC+JgUAVycFANYnBQCLKAUAHykFALMpBQCBKgUA/yoFAHgrBQD8KwUAgiwFAAUtBQCCLQUAJC4FAKQuBQAwLwUAwy8FAEcwBQDlMAUAYzEFAOoxBQBpMgUA4jIFAGQzBQDtMwUAfDQFAAc1BQCnNQUAMzYFALU2BQBGNwUA1zcFAGQ4BQDtOAUAnDkFAC46BQC2OgUAOjsFALw7BQA/PAUAyTwFAE09BQDfPQUAXD4FAO0+BQB5PwUABkAFAIhABQAkQQUAtUEFAF1CBQACQwUAlEMFABBEBQCeRAUAP0UFAMhFBQBeRgUA30YFAGlHBQDnRwUAnEgFABdJBQCZSQUAIEoFAKFKBQAoSwUArUsFADFMBQDITAUASk0FAMhNBQBGTgUAyE4FAE1PBQDKTwUARVAFANJQBQBlUQUAG1IFAKBSBQBBUwUAyFMFAFRUBQDXVAUAaFUFAPBVBQBwVgUA71YFAHRXBQDxVwUAf1gFAP1YBQCHWQUACloFAK1aBQAvWwUAt1sFADlcBQC/XAUAVl0FANddBQBbXgUA2V4FAF5fBQDjXwUAamAFAOxgBQBuYQUAAGIFAIdiBQAKYwUAjWMFAA1kBQCQZAUAFWUFAJplBQAZZgUAyWYFAE9nBQDZZwUAa2gFAO5oBQBzaQUA/GkFAH1qBQD/agUAhmsFAARsBQCCbAUAC20FAJhtBQAkbgUApm4FAClvBQDBbwUAQXAFAONwBQB3cQUA/3EFAJtyBQAocwUAu3MFAD90BQDIdAUAS3UFANN1BQBndgUA5XYFAHd3BQASeAUAqHgFACl5BQC1eQUAUXoFANJ6BQBWewUA1nsFAFx8BQD4fAUAcn0FAAZ+BQCRfgUADn8FAKR/BQApgAUAr4AFADCBBQC4gQUAQIIFAM2CBQBegwUA3YMFAGyEBQDshAUAboUFAAWGBQCKhgUAD4cFAJiHBQAniAUApYgFADaJBQDUiQUAUooFANyKBQBqiwUA9osFAH2MBQAxjQUAt40FAEWOBQDMjgUATo8FAOePBQBlkAUA6ZAFAGuRBQD2kQUAfZIFAP2SBQCAkwUA/pMFAJGUBQAWlQUAm5UFACaWBQCrlgUAKJcFALqXBQA9mAUAw5gFAEGZBQC9mQUAS5oFAPKaBQCumwUANZwFALScBQBKnQUA0p0FAFWeBQAMnwUAi58FABKgBQCSoAUAF6EFAJqhBQAYogUAmqIFABmjBQCkowUAVaQFAOCkBQBbpQUA5KUFAGSmBQDvpgUAeacFAPqnBQCDqAUAFakFAJqpBQAjqgUAoqoFACarBQCqqwUAKqwFAKqsBQAtrQUAva0FAGyuBQD1rgUAd68FAP+vBQCBsAUADLEFAImxBQAVsgUAv7IFAEOzBQDMswUAXrQFAOC0BQBgtQUA4LUFAG62BQAJtwUAkbcFABa4BQCbuAUAaLkFAAW6BQCHugUADrsFAI+7BQAXvAUAnLwFABe9BQCWvQUAH74FAKq+BQAsvwUArr8FAEDABQDFwAUAUMEFANnBBQBlwgUA6cIFAHPDBQD9wwUAiMQFAArFBQCQxQUAEMYFAI7GBQAQxwUAkscFABnIBQCiyAUAIMkFALXJBQA3ygUAvcoFAD/LBQDTywUAeswFAAbNBQCGzQUAEM4FAEDXBQAm2AUAFtoFANzaBQBd2wUA4NsFAGvcBQDk3AUAcN0FAPPdBQCX3gUAHt8FAKTfBQAv4AUAuuAFADvhBQDO4QUAT+IFANbiBQBb4wUA7uMFAH3kBQD95AUAfuUFABHmBQCW5gUAGOcFAKXnBQAn6AUArOgFAEHpBQDM6QUATeoFAOvqBQB06wUACuwFAJrsBQAf7QUAy+0FAGTuBQDi7gUAbu8FAPbvBQB38AUAAfEFAJXxBQAh8gUAofIFACfzBQCr8wUAJPQFAKn0BQAw9QUAtPUFADn2BQC29gUAQvcFAMH3BQBC+AUA1vgFAF/5BQDw+QUAgvoFAAT7BQCr+wUAOPwFALr8BQA+/QUAz/0FAE7+BQDp/gUAc/8FAPb/BQBzAAYAAAEGAH0BBgAAAgYAlQIGABoDBgChAwYAHAQGAJ4EBgAgBQYAoQUGACoGBgCmBgYAMwcGALAHBgAwCAYAswgGADcJBgCxCQYAKwoGALEKBgAxCwYAsgsGADIMBgC2DAYASg0GANkNBgBaDgYA1w4GAFcPBgDUDwYAXhAGAOAQBgBgEQYA5xEGAGwSBgDuEgYAcxMGAP0TBgCgFAYAKBUGAHUXBgAQGAYAmhgGABsZBgCiGQYAMhoGALwaBgBMGwYANRwGAMocBgBaHQYA3x0GAF0eBgD3HgYAgh8GAB0gBgCgIAYAJyEGAK0hBgA/IgYA2yIGAFUjBgDdIwYAcSQGAO8kBgB0JQYA+CUGAH0mBgD+JgYAnicGACMoBgCcKAYAHCkGAKApBgAdKgYAuioGAEcrBgDUKwYAYCwGAPYsBgB7LQYAHC4GAJsuBgBDLwYA2y8GAFYwBgDkMAYAZjEGAOMxBgBnMgYA5zIGAGQzBgD0MwYAlTQGACE1BgCxNQYAPDYGAL42BgBANwYAyjcGAFk4BgDaOAYAZzkGAOo5BgBuOgYA8joGAHs7BgAAPAYAgzwGAAs9BgCGPQYAAj4GAIE+BgD8PgYAfT8GAAVABgCMQAYAFkEGAJlBBgAeQgYA2EIGAFxDBgD3QwYAd0QGAPhEBgCJRQYACEYGAIBGBgD/RgYAmkcGADVIBgDJSAYAVUkGANZJBgBVSgYA3koGAGZLBgAHTAYAjEwGAAtNBgCSTQYAGE4GAJlOBgAkTwYAtE8GADlQBgC3UAYAR1EGAN1RBgBcUgYA11IGAFVTBgDaUwYAW1QGAN1UBgBnVQYA6FUGAH9WBgD+VgYAg1cGAAhYBgCTWAYAPVkGANJZBgBmWgYA8loGAHJbBgD3WwYAc1wGAGtdBgDuXQYAbl4GAOZeBgB2XwYA/F8GAIJgBgAIYQYAjGEGAA5iBgCQYgYAFmMGAJljBgAYZAYAl2QGAChlBgDIZQYAS2YGANFmBgBVZwYA1GcGAFloBgDbaAYAamkGAO5pBgBtagYA7GoGAHNrBgD9awYAhGwGAAxtBgCMbQYAEW4GAJZuBgAZbwYAnG8GACZwBgCrcAYANHEGAK5xBgA/cgYAw3IGAExzBgDVcwYAXHQGAON0BgBjdQYA6HUGAJR2BgAZdwYApXcGACp4BgC0eAYAN3kGAMV5BgBcegYA4XoGAGl7BgDoewYAZXwGAPJ8BgB4fQYACn4GAIp+BgAVfwYAl38GAE+ABgDdgAYAYoEGAN+BBgBpggYA8oIGAG6DBgDugwYAcYQGAPGEBgBwhQYA/oUGAH6GBgAChwYAjYcGABKIBgCYiAYAGokGAJaJBgAjigYAtIoGADWLBgC1iwYAPowGANeMBgBZjQYA5I0GAGSOBgDojgYAiI8GABOQBgCVkAYAFZEGAKSRBgAgkgYAo5IGAB+TBgCikwYAJpQGAK2UBgA0lQYAspUGADaWBgDDlgYARpcGAMiXBgBNmAYAzJgGAE6ZBgDbmQYAZ5oGAOeaBgBmmwYABZwGAKScBgA4nQYAAp4GAIeeBgAGnwYAip8GABCgBgCmoAYAOKEGAMShBgBBogYAzKIGAFejBgDhowYAYqQGAOOkBgBhpQYA5aUGAGqmBgDvpgYAcKcGAPKnBgB9qAYA/qgGAIupBgAPqgYAj6oGABOrBgCVqwYAEqwGAJasBgAirQYAp60GACeuBgDfrgYAb68GAP6vBgCIsAYADLEGAI+xBgAVsgYAnLIGACKzBgCcswYAHbQGAJy0BgAktQYAq7UGAEG2BgDctgYAbrcGAPK3BgB9uAYADbkGAI65BgASugYAjboGABa7BgCVuwYARrwGAMi8BgBTvQYA2L0GAF++BgDgvgYAYL8GAOq/BgBxwAYA+sAGAIrBBgAQwgYAnMIGACTDBgCpwwYAPcQGAMLEBgBMxQYAz8UGAFnGBgBbxwYA2McGAF/IBgDqyAYAa8kGAOnJBgBuygYA/MoGAIDLBgANzAYAi8wGABjNBgCdzQYAJc4GAK/OBgA4zwYA5c8GAG7QBgDw0AYAbdEGAPnRBgB10gYA99IGAH7TBgD/0wYA19QGAGnVBgD21QYAfdYGAAXXBgCI1wYADNgGAJPYBgAq2QYAtdkGADbaBgDG2gYAVNsGANXbBgBV3AYA3twGAGbdBgD33QYAc94GAPTeBgBu3wYA8d8GAG7gBgD44AYAf+EGAP/hBgB74gYAAuMGAI3jBgAT5AYAk+QGAA/lBgCU5QYAJ+YGALjmBgA45wYAvucGAEPoBgDB6AYAYOkGAOTpBgBn6gYA5uoGAG3rBgD66wYAe+wGAP3sBgB87QYAiu4GABHvBgCT7wYAE/AGAJrwBgAZ8QYArvEGAC3yBgCo8gYANfMGALXzBgA09AYAuPQGADn1BgC69QYAO/YGAMz2BgBU9wYA0vcGAFH4BgDd+AYAZ/kGAPP5BgBy+gYA+voGAHn7BgD5+wYAePwGAPj8BgB4/QYA/f0GAH7+BgAI/wYAhf8GAP//BgB+AAcABgEHAIwBBwAaAgcAowIHAFYDBwDfAwcAbwQHAO8EBwB6BQcA/AUHAH8GBwABBwcAegcHAAAIBwCACAcADAkHAJEJBwANCgcAmwoHAB4LBwCkCwcAIwwHAKcMBwAxDQcAug0HAEMOBwDDDgcASA8HANkPBwBUEAcA1RAHAGYRBwDjEQcAZhIHAPsSBwB5EwcABhQHAI4UBwANFQcAkBUHABQWBwCjFgcAJxcHAKgXBwA0GAcAshgHADMZBwC0GQcAMhoHALwaBwA8GwcAvRsHADkcBwC0HAcANx0HAMQdBwBMHgcAyh4HAF8fBwDfHwcAYyAHAOYgBwBnIQcA5CEHAG0iBwDwIgcAeCMHAAAkBwB6JAcABCUHAH8lBwAPJgcAjiYHABInBwCZJwcAHygHAKMoBwAfKQcAqCkHADEqBwDEKgcAUSsHAOwrBwB5LAcABS0HAIktBwATLgcAjy4HABYvBwCbLwcAHzAHAKAwBwAkMQcAqzEHADEyBwCwMgcANTMHAN0zBwBqNAcA6zQHAHI1BwDvNQcAeDYHAP42BwCCNwcAKzgHAK44BwA0OQcAsTkHAC86BwCvOgcAOjsHAMk7BwBTPAcA6zwHAG09BwAUPgcAoj4HAB8/BwCwPwcANUAHALpABwAyQQcAtEEHADhCBwC9QgcAQkMHANhDBwBYRAcA4kQHAGtFBwD1RQcAeUYHAPxGBwCLRwcADkgHAI5IBwAUSQcAj0kHABJKBwCkSgcAJ0sHALJLBwBrTAcA8UwHAHdNBwACTgcAhk4HAA5PBwCPTwcAElAHAJJQBwAeUQcA3lEHAGFSBwDjUgcAalMHAO5TBwCCVAcAF1UHAJhVBwAYVgcAmVYHACZXBwCpVwcAKVgHALBYBwA3WQcAwlkHAExaBwDOWgcASlsHANRbBwBVXAcA4FwHAGJdBwDsXQcAa14HAOheBwBqXwcA6V8HAG9gBwDzYAcAhGEHAAhiBwCRYgcAG2MHAJtjBwAcZAcAo2QHACdlBwCvZQcANGYHALNmBwArZwcAt2cHADhoBwC6aAcAOWkHAL5pBwBEagcAxGoHAEZrBwDMawcAT2wHANtsBwBnbQcA7m0HAHRuBwD2bgcAdW8HABRwBwCYcAcAHXEHAJ1xBwAXcgcAl3IHABtzBwCdcwcAF3QHAJZ0BwAddQcAn3UHACB2BwCudgcAKncHAKZ3BwAmeAcArHgHADR5BwC2eQcAOHoHAMZ6BwBKewcAznsHAFp8BwDefAcAYn0HAN59BwBrfgcA8X4HAHt/BwAFgAcAj4AHABiBBwCbgQcALIIHAKiCBwAwgwcAuIMHADuEBwDIhAcAToUHAMqFBwBVhgcA3IYHAFqHBwDjhwcAaYgHAACJBwCAiQcAAooHAH+KBwABiwcAiIsHAB+MBwCzjAcANo0HAMKNBwBRjgcA2I4HAGaPBwDrjwcAd5AHAEKRBwDNkQcATZIHANqSBwBjkwcA7ZMHAGeUBwD0lAcAfpUHAAiWBwCKlgcADpcHAI+XBwATmAcAnZgHAB6ZBwCjmQcAKJoHALGaBwA7mwcAwJsHAF+cBwDunAcAe50HAAqeBwCIngcAFp8HAJGfBwAQoAcAnaAHABuhBwCgoQcA\",\"dtype\":\"int32\",\"shape\":[1932]},\"y\":[0,-0.999575,0.000425,0.000425,-0.999575,-0.999575,-0.999575,0.000425,1.000425,0.000425,0.000425,-0.999575,-0.999575,-0.999575,-0.999575,-0.999575,-0.999575,-0.999575,0.000425,-0.999575,0.000425,-0.999575,-0.999575,-0.999575,-0.999575,-0.999575,0.000425,0.000425,0.000425,0.000425,0.000425,0.000425,-0.999575,0.000425,-0.999575,0.000425,-0.999575,-0.999575,-0.999575,-0.999575,-0.999575,-0.999575,0.000425,0.000425,0.000425,-0.999575,0.000425,0.000425,0.000425,0.000425,0.000425,0.000425,0.000425,0.000425,0.000425,0.000425,1.000425,-0.999575,-0.999575,0.000425,-0.999575,0.000425,-0.999575,-0.999575,0.000425,-0.999575,0.000425,1.000425,-0.999575,0.000425,0.000425,0.000425,2.589711,1.000425,0.000425,1.000425,0.000425,-0.999575,-0.999575,0.000425,-0.999575,0.000425,0.000425,1.000425,1.000425,2.532313,1.000425,1.000425,1.000425,2.707058,1.000425,2.022534,2.427296,2.570578,2.485544,2.316752,2.743622,2.822279,2.653912,2.680697,2.81165,1.000425,2.845663,2.780187,2.822279,2.831633,2.763605,2.751276,2.734694,2.802721,1.000425,2.850765,2.84949,2.747874,2.857993,2.871599,2.857568,2.877126,2.818027,2.720238,2.852891,2.842687,2.894558,2.897109,2.637755,2.896259,2.91369,2.896684,2.872874,2.898384,2.927721,2.893707,2.914116,2.906037,2.892007,2.888605,2.774235,2.908163,2.885629,2.908588,2.885629,2.904762,2.894983,2.903486,2.889031,2.918793,2.877126,2.870323,2.91369,2.929847,2.902636,2.895833,2.902636,2.921344,2.878401,2.92432,2.918367,2.906463,2.91199,2.92432,2.897959,2.929422,2.919218,2.907313,2.89966,2.923044,2.892007,2.907313,2.930697,2.915816,2.926446,2.895833,2.920068,2.922619,2.91284,2.920918,2.919643,2.915816,2.919218,2.903912,2.910289,2.91284,2.911139,2.919218,2.896259,2.910714,2.918793,2.899235,2.923895,2.929847,2.898384,2.918367,2.912415,2.922194,2.922619,2.916241,2.924745,2.921344,2.919643,2.922194,2.898384,2.924745,2.921344,2.923895,2.927296,2.915816,2.929422,2.934949,2.92602,2.92517,2.915816,2.923469,2.92432,2.917092,2.930272,2.917092,2.934099,2.919218,2.903061,2.922619,2.886054,2.924745,2.927296,2.918367,2.931548,2.914966,2.926446,2.921344,2.929847,2.934524,2.906888,2.921769,2.934524,2.936224,2.91369,2.905187,2.917092,2.915391,2.920068,2.923044,2.920068,2.910714,2.927296,2.901786,2.931122,2.921769,2.933248,2.919643,2.925595,2.931973,2.448554,2.904762,2.939626,2.92517,2.929422,2.92517,2.892432,2.932823,2.925595,2.926871,2.916241,2.917942,2.919643,2.933673,2.931973,2.923044,2.931973,2.931548,2.926446,2.939201,2.925595,2.939201,2.927296,2.930697,2.901361,2.927296,2.92432,2.92602,2.932398,2.927721,2.934524,2.933248,2.940476,2.932823,2.923044,2.916241,2.909864,2.931548,2.936224,2.93665,2.932398,2.927721,2.89881,2.926871,2.934099,2.934949,2.932398,2.930697,2.935374,2.927296,2.923895,2.917092,2.932823,2.929422,2.918793,2.906037,2.901786,2.911565,2.907313,2.89966,2.92602,2.712585,2.922194,2.934099,2.930697,2.924745,2.928571,2.902636,2.923469,2.940476,2.923044,2.939626,2.931548,2.925595,2.930697,2.931973,2.910289,2.917517,2.923469,2.909014,2.93665,2.929847,2.9375,2.932398,2.939201,2.935374,2.924745,2.930272,2.930697,2.921344,2.934524,2.936224,2.930697,2.934949,2.927721,2.935799,2.937925,2.941752,2.936224,2.929847,2.934099,2.932823,2.930697,2.933673,2.931973,2.940051,2.928571,2.932398,2.894133,2.932398,2.919643,2.921344,2.927296,2.934949,2.930697,2.940476,2.940051,2.934949,2.943027,2.91199,2.914541,2.895833,2.939626,2.941752,2.922194,2.930272,2.93665,2.935799,2.934099,2.928146,2.90051,2.927721,2.924745,2.922194,2.931548,2.919218,2.935374,2.919643,2.941327,2.932823,2.92432,2.930697,2.928997,2.934949,2.935374,2.929847,2.931548,2.938776,2.928997,2.926446,2.931122,2.931548,2.939201,2.935374,2.943452,2.93835,2.9375,2.943027,2.93835,2.921344,2.939626,2.940051,2.946429,2.935799,2.938776,2.937925,2.922194,2.9375,2.934099,2.937925,2.935799,2.934099,2.93665,2.928146,2.933248,2.941752,2.943452,2.928997,2.933673,2.941752,2.944303,2.933248,2.934099,2.932398,2.937925,2.917517,2.931973,2.942177,2.93665,2.939201,2.934949,2.928146,2.9375,2.93665,2.944728,2.942177,2.939626,2.940051,2.935799,2.934524,2.937925,2.933248,2.942177,2.941752,2.941752,2.942602,2.944303,2.943452,2.935799,2.9375,2.938776,2.929422,2.929847,2.922194,2.9375,2.940476,2.925595,2.928146,2.940901,2.933673,2.93665,2.940476,2.943027,2.941327,2.938776,2.923895,2.935374,2.937075,2.930272,2.937925,2.946854,2.945578,2.942177,2.942602,2.940901,2.935374,2.930697,2.920068,2.916667,2.933673,2.936224,2.939201,2.945153,2.939626,2.93665,2.937925,2.941327,2.946429,2.945578,2.939201,2.944303,2.937925,2.943027,2.930697,2.938776,2.928571,2.943878,2.927721,2.940901,2.943452,2.943452,2.941327,2.946429,2.939626,2.945153,2.932398,2.935374,2.923469,2.932823,2.946003,2.943878,2.940901,2.938776,2.9375,2.939626,2.937075,2.944728,2.943878,2.91369,2.943452,2.942177,2.93665,2.944728,2.942602,2.941752,2.943452,2.936224,2.940901,2.943878,2.941752,2.9375,2.940476,2.939626,2.941327,2.931122,2.936224,2.937925,2.943878,2.942602,2.940051,2.943878,2.945153,2.934949,2.945578,2.940476,2.943027,2.943452,2.944728,2.946429,2.922619,2.935374,2.917517,2.939626,2.938776,2.943878,2.944303,2.940901,2.944728,2.940476,2.935799,2.939626,2.943027,2.942602,2.938776,2.944728,2.941327,2.945578,2.9375,2.947279,2.93835,2.941327,2.941327,2.937925,2.946003,2.941327,2.944728,2.940901,2.934099,2.945153,2.943878,2.940051,2.93835,2.93835,2.943878,2.940476,2.943878,2.939626,2.924745,2.923895,2.943878,2.946854,2.944303,2.928571,2.944728,2.947279,2.940051,2.935374,2.945578,2.937075,2.928997,2.941752,2.943027,2.9375,2.942602,2.939201,2.910714,2.940476,2.93665,2.935799,2.946003,2.945578,2.941752,2.947279,2.944303,2.945578,2.944303,2.942602,2.940901,2.942177,2.943027,2.935374,2.935799,2.89966,2.946429,2.936224,2.943452,2.946429,2.931973,2.939626,2.942602,2.942177,2.929847,2.939201,2.938776,2.937075,2.929422,2.944303,2.948554,2.944303,2.932823,2.9375,2.932823,2.940476,2.940051,2.943027,2.92517,2.946003,2.946429,2.942602,2.93835,2.93665,2.942602,2.881378,2.944728,2.941327,2.946429,2.943452,2.928146,2.944303,2.945153,2.944303,2.941752,2.932398,2.941327,2.94898,2.941752,2.939626,2.9375,2.943027,2.945578,2.945153,2.941752,2.937925,2.942602,2.941327,2.940476,2.943027,2.940476,2.941752,2.944303,2.940051,2.940901,2.9375,2.943452,2.941752,2.939201,2.926446,2.947279,2.943452,2.93835,2.943452,2.937925,2.940051,2.944303,2.944728,2.941327,2.942177,2.93835,2.933248,2.943027,2.937075,2.942177,2.943878,2.942602,2.942177,2.946003,2.943878,2.943878,2.940476,2.944303,2.937925,2.9375,2.935799,2.943878,2.939626,2.926871,2.941752,2.940901,2.941327,2.941327,2.945578,2.939626,2.943878,2.910289,2.942177,2.941752,2.945578,2.946429,2.938776,2.946854,2.938776,2.940901,2.941752,2.944728,2.943878,2.944728,2.943878,2.941327,2.940476,2.943452,2.926871,2.936224,2.943878,2.943027,2.939201,2.941327,2.946429,2.939201,2.941327,2.939626,2.928146,2.935374,2.940051,2.937075,2.944728,2.934949,2.946003,2.923044,2.937075,2.937075,2.912415,2.946429,2.948554,2.943878,2.943027,2.944303,2.946854,2.931122,2.945578,2.940476,2.9375,2.943878,2.932823,2.946429,2.942602,2.946003,2.948554,2.944728,2.941752,2.939201,2.940901,2.931973,2.940476,2.944728,2.93835,2.93835,2.940051,2.941752,2.925595,2.937925,2.942177,2.943878,2.944728,2.944303,2.941327,2.943878,2.937925,2.946854,2.93835,2.940476,2.940051,2.944728,2.933673,2.93835,2.928571,2.929847,2.937925,2.947279,2.939626,2.931548,2.941752,2.936224,2.945153,2.941327,2.946429,2.923044,2.947704,2.944728,2.942602,2.945153,2.942602,2.943452,2.943878,2.935799,2.944728,2.946429,2.946429,2.944728,2.943452,2.946854,2.947704,2.940051,2.9375,2.922619,2.943452,2.931548,2.942602,2.940476,2.944303,2.93835,2.942177,2.945578,2.946003,2.943452,2.946854,2.939626,2.946429,2.941327,2.944303,2.930697,2.944728,2.942177,2.944728,2.943027,2.935799,2.945153,2.943878,2.946429,2.943452,2.943452,2.942602,2.944728,2.944728,2.937925,2.942602,2.944303,2.944303,2.945578,2.944303,2.943452,2.943452,2.946003,2.92517,2.943027,2.941327,2.937925,2.944303,2.943452,2.941752,2.945153,2.944728,2.942602,2.946429,2.946429,2.941752,2.940051,2.940476,2.944728,2.944303,2.935374,2.945578,2.931122,2.937075,2.942177,2.933673,2.940051,2.9375,2.943878,2.941752,2.944303,2.942177,2.937075,2.946429,2.937925,2.934099,2.936224,2.945153,2.940476,2.933673,2.945153,2.943878,2.945578,2.943027,2.933673,2.948129,2.937075,2.940901,2.946854,2.936224,2.943452,2.943027,2.945153,2.942177,2.942177,2.940051,2.93835,2.946003,2.939201,2.945578,2.944728,2.935799,2.943452,2.943452,2.941752,2.939201,2.946429,2.93835,2.932823,2.946429,2.941327,2.939626,2.940476,2.942602,2.923469,2.943027,2.939626,2.942602,2.944728,2.934949,2.946429,2.943878,2.944728,2.940901,2.942602,2.945578,2.944303,2.946429,2.9375,2.943452,2.943452,2.940901,2.943452,2.946854,2.937925,2.944303,2.943027,2.946429,2.947279,2.939626,2.928997,2.920068,2.942602,2.946003,2.936224,2.942177,2.944303,2.922194,2.946003,2.942602,2.945578,2.943452,2.944303,2.946429,2.944728,2.946003,2.940901,2.924745,2.940901,2.947704,2.941752,2.945578,2.940901,2.941327,2.945153,2.941752,2.937925,2.943452,2.941752,2.946003,2.943878,2.943878,2.945578,2.945578,2.944303,2.938776,2.925595,2.941752,2.944728,2.942177,2.944728,2.940901,2.946854,2.940476,2.927721,2.943878,2.941752,2.937925,2.944728,2.945578,2.945578,2.939626,2.934099,2.942177,2.943452,2.943452,2.91284,2.933248,2.944728,2.942602,2.945153,2.942177,2.943452,2.947704,2.946003,2.941752,2.940901,2.944728,2.944728,2.937925,2.943452,2.940901,2.941752,2.940476,2.943878,2.941327,2.941327,2.940901,2.944728,2.943027,2.945578,2.946429,2.944728,2.944728,2.942602,2.941752,2.946429,2.93665,2.944728,2.943027,2.944728,2.937075,2.928997,2.940476,2.945578,2.941327,1.000425,2.902211,2.789116,2.915816,2.945153,2.944303,2.940901,2.948554,2.940476,2.944303,2.930272,2.942602,2.943027,2.940901,2.940901,2.945153,2.9375,2.945153,2.942602,2.943452,2.9375,2.939201,2.945578,2.945153,2.9375,2.943452,2.944728,2.940051,2.944728,2.943452,2.93665,2.940901,2.945153,2.932823,2.941752,2.936224,2.938776,2.943452,2.926871,2.934949,2.946429,2.940476,2.942177,2.945153,2.941327,2.937075,2.940476,2.945578,2.943027,2.943878,2.948554,2.943452,2.942602,2.943878,2.943452,2.946854,2.940476,2.946003,2.945153,2.937075,2.941752,2.93835,2.937925,2.944728,2.928997,2.940051,2.944728,2.943878,2.93835,2.946003,2.934099,2.941327,2.944303,2.946854,2.940051,2.946854,2.944303,2.93665,2.943452,2.942602,2.947704,2.944728,2.944728,2.945153,2.941752,2.947279,2.940051,2.946854,2.945578,2.944303,2.943878,2.948129,2.948129,2.943027,2.945578,2.945153,2.945578,2.943878,2.937075,2.939201,2.945153,2.946854,2.945578,2.946854,2.941327,2.944728,2.945578,2.942602,2.943452,2.944728,2.943452,2.941327,2.930697,2.942177,2.749575,2.934099,2.941327,2.945153,2.942602,2.938776,2.941327,2.938776,2.900935,2.93665,2.938776,2.943452,2.946429,2.934524,2.940901,2.934099,2.944303,2.942602,2.943027,2.937925,2.933673,2.948129,2.942177,2.937075,2.946429,2.943452,2.943878,2.943452,2.945153,2.931973,2.943452,2.948554,2.945578,2.943878,2.946854,2.933248,2.940051,2.940051,2.940476,2.936224,2.943452,2.931548,2.946003,2.928571,2.935374,2.947704,2.939626,2.944728,2.946854,2.943878,2.945578,2.946854,2.938776,2.931548,2.940476,2.938776,2.940901,2.944728,2.944728,2.941327,2.939201,2.945153,2.940051,2.944303,2.943878,2.943878,2.941752,2.943452,2.944303,2.942177,2.947704,2.947279,2.946003,2.947704,2.945153,2.942177,2.942602,2.941327,2.944303,2.943452,2.920918,2.943878,2.934099,2.945578,2.945153,2.93835,2.946003,2.94898,2.946003,2.934099,2.934099,2.937075,2.940476,2.945153,2.946003,2.941752,2.942177,2.931548,2.943452,2.946003,2.942602,2.943027,2.945153,2.940901,2.938776,2.943452,2.946429,2.938776,2.936224,2.946003,2.947704,2.946429,2.943452,2.945153,2.944728,2.941327,2.945153,2.935799,2.946003,2.943452,2.943452,2.940901,2.927721,2.93665,2.937075,2.940476,2.945578,2.943452,2.947279,2.894558,2.944303,2.945578,2.94898,2.938776,2.943027,2.943027,2.943027,2.943878,2.944728,2.944728,2.943027,2.944303,2.946003,2.946003,2.93835,2.931973,2.944303,2.943027,2.943878,2.946003,2.943452,2.944728,2.939201,2.943878,2.946003,2.946003,2.942602,2.941327,2.942602,2.942177,2.945578,2.943452,2.943452,2.944303,2.944303,2.941327,2.943452,2.941752,2.948129,2.93835,2.943878,2.941752,2.941752,2.942602,2.942602,2.945578,2.943452,2.926871,2.943452,2.940476,2.943452,2.941327,2.944303,2.939626,2.935799,2.943452,2.942177,2.946003,2.946854,2.940051,2.943027,2.937925,2.945578,2.940901,2.944728,2.921769,2.939626,2.943452,2.946854,2.941327,2.941752,2.947279,2.945578,2.944303,2.945578,2.946003,2.939626,2.945578,2.943878,2.940901,2.943452,2.943027,2.944728,2.947279,2.940051,2.93835,2.945153,2.945578,2.941752,2.934949,2.944728,2.940901,2.945578,2.943878,2.931973,2.940901,2.944728,2.945578,2.939201,2.947279,2.944303,2.947279,2.944303,2.943878,2.942602,2.942602,2.946429,2.943878,2.940051,2.944303,2.944728,2.943452,2.946003,2.944728,2.940051,2.940476,2.945578,2.946003,2.932398,2.932398,2.937075,2.914116,2.943452,2.946003,2.943878,2.943027,2.936224,2.937925,2.940476,2.946854,2.940901,2.940901,2.941327,2.945153,2.945153,2.946429,2.943878,2.943452,2.943452,2.945153,2.944728,2.940901,2.945153,2.940051,2.943878,2.945578,2.943878,2.944728,2.946854,2.943878,2.940476,2.943452,2.945578,2.921769,2.938776,2.939201,2.941327,2.943878,2.944303,2.943027,2.942602,2.943027,2.948129,2.945153,2.946003,2.942177,2.942602,2.936224,2.934099,2.937925,2.943878,2.940901,2.938776,2.945153,2.943878,2.947704,2.941752,2.946003,2.924745,2.944728,2.940901,2.943452,2.942602,2.945153,2.945578,2.941327,2.942602,2.941752,2.938776,2.943027,2.940476,2.942177,2.943452,2.937075,2.943452,2.941327,2.944303,2.941327,2.890306,2.946854,2.942602,2.940901,2.945153,2.946429,2.943452,2.939626,2.943878,2.940051,2.946429,2.940051,2.943452,2.942177,2.941327,2.941752,2.926446,2.941752,2.944728,2.946854,2.940476,2.947279,2.944728,2.942602,2.945153,2.908163,2.937925,2.940051,2.942602,2.942177,2.944303,2.943878,2.942602,2.935799,2.940901,2.945153,2.938776,2.939626,2.945153,2.945578,2.941752,2.942177,2.93835,2.947279,2.945153,2.948129,2.944303,2.946854,2.941327,2.942602,2.945578,2.947279,2.942602,2.940901,2.943027,2.945578,2.947279,2.943452,2.9375,2.93835,2.945578,2.943027,2.943452,2.946429,2.932398,2.943878,2.944303,2.946003,2.942602,2.940051,2.945153,2.944728,2.946003,2.885204,2.942602,2.944728,2.945578,2.942602,2.946003,2.93665,2.946003,2.947704,2.940051,2.945578,2.946003,2.943878,2.945153,2.945153,2.945153,2.93835,2.942177,2.946429,2.946003,2.940476,2.941327,2.940476,2.946003,2.942177,2.946003,2.945578,2.946003,2.945578,2.945578,2.943452,2.945153,2.941327,2.946854,2.948129,2.946003,2.942177,2.943027,2.939626,2.941752,2.923895,2.941752,2.938776,2.945578,2.940901,2.944728,2.944303,2.944728,2.948554,2.943027,2.945578,2.940476,2.943452,2.947279,2.939626,2.944303,2.943027,2.946003,2.943878,2.941327,2.941752,2.941752,2.945578,2.943452,2.93835,2.947704,2.945153,2.93835,2.946854,2.944303,2.93665,2.946429,2.940051,2.942177,2.946003,2.944303,2.943878,2.939201,2.943878,2.945153,2.940476,2.946429,2.945153,2.945153,2.946429,2.941327,2.945578,2.945153,2.947279,2.947704,2.944303,2.940051,2.942177,2.946429,2.93665,2.945578,2.943878,2.944303,2.945153,2.946854,2.941752,2.944303,2.942177,2.942177,2.948129,2.941327,2.947704,2.938776,2.946003,2.943878,2.942602,2.943027,2.943878,2.947279,2.941752,2.941752,2.9375,2.940051,2.934099,2.940051,2.940476,2.943878,2.941327,2.947279,2.942602,2.943452,2.943878,2.945153,2.943878,2.942602,2.943027,2.946003,2.943452,2.928571,2.940051,2.945153,2.942602,2.946854,2.941752,2.943027,2.943878,2.928146,2.944303,2.943027,2.946854,2.946429,2.945578,2.940901,2.939201,2.941327,2.935374,2.944728,2.928997,2.939626,2.946854,2.93835,2.943452,2.943452,2.94898,2.944728,2.943878,2.943452,2.943452,2.936224,2.945578,2.941327,2.941752,2.941327,2.943878,2.944303,2.939201,2.944303,2.945578,2.943027,2.947704,2.944303,2.937925,2.944303,2.940901,2.921344,2.943027,2.943027,2.940901,2.943878,2.942177,2.945153,2.944303,2.945578,2.940476,2.918367,2.944303,2.944728,2.942602,2.943878,2.937075,2.93665,2.945153,2.945578,2.945153,2.940051,2.944303,2.945578,2.942602,2.942602,2.940901,2.941327,2.944728,2.947279,2.941327,2.945153,2.940901,2.944728,2.941327,2.946003,2.946854,2.944728,2.946003,2.943027,2.943878,2.93835,2.943878,2.941752,2.941327,2.945578,2.945153,2.942602,2.943878,2.942177,2.943452,2.946003,2.94898,2.940476,2.945153,2.944728,2.946003,2.943452,2.943027,2.945578,2.944728,2.943027,2.944303,2.940476,2.940476,2.942602,2.943027,2.944728,2.946003,2.932398,2.943878,2.943452,2.945578,2.948129,2.945578,2.943878,2.944728,2.948129,2.946003,2.942602,2.944728,2.945153,2.939626,2.947279,2.947279,2.945578,2.943027,2.942177,2.944728,2.944728,2.939626,2.943878,2.943878,2.940476,2.943878,2.943878,2.947279,2.940051,2.943027,2.941327,2.941327,2.941327,2.941752,2.944303,2.93835,2.947279,2.942177,2.942177,2.944303,2.940051,2.943027,2.947279,2.940901,2.942602,2.946429,2.941752,2.943027,2.935799,2.945578,2.944728,2.946854,2.944728,2.942602,2.935799,2.937075,2.944303,2.940476,2.939201,2.942602,2.939626,2.943452,2.940476,2.91369,2.940901,2.945578,2.940051,2.941752,2.941327,2.948129,2.940051,2.941327,2.941327,2.944728,2.943878,2.945153,2.943878,2.941327,2.945153,2.943452,2.943452,2.941752,2.941327,2.943452,2.932398,2.939201,2.940051,2.939201,2.946429,2.939626,2.947704,2.946003,2.940051,2.946429,2.943452]}},\"id\":\"684f1642-232c-4b65-b877-d4584855decf\",\"type\":\"ColumnDataSource\"},{\"attributes\":{\"data_source\":{\"id\":\"684f1642-232c-4b65-b877-d4584855decf\",\"type\":\"ColumnDataSource\"},\"glyph\":{\"id\":\"cdbed244-de03-4508-9c17-d80cd5180561\",\"type\":\"Line\"},\"hover_glyph\":null,\"nonselection_glyph\":{\"id\":\"71dd4bb8-deca-47d6-8f51-6527bda5d102\",\"type\":\"Line\"},\"selection_glyph\":null},\"id\":\"a5760ca4-adc1-427f-ad49-ce821e01f2cb\",\"type\":\"GlyphRenderer\"},{\"attributes\":{\"plot\":null,\"text\":\"\"},\"id\":\"d798edec-3bda-4730-a74f-57b66ced7489\",\"type\":\"Title\"},{\"attributes\":{\"line_color\":{\"value\":\"#1f77b4\"},\"x\":{\"field\":\"x\"},\"y\":{\"field\":\"y\"}},\"id\":\"cdbed244-de03-4508-9c17-d80cd5180561\",\"type\":\"Line\"},{\"attributes\":{},\"id\":\"da952922-7d50-4f77-a4ad-b79fb3e95e9c\",\"type\":\"ToolEvents\"},{\"attributes\":{\"below\":[{\"id\":\"81f60f37-9e0f-4ad5-a6ac-790f3a13cf34\",\"type\":\"LinearAxis\"}],\"left\":[{\"id\":\"71b0fb0a-5ac5-48df-855e-02e42b8c0079\",\"type\":\"LinearAxis\"}],\"plot_height\":500,\"plot_width\":500,\"renderers\":[{\"id\":\"81f60f37-9e0f-4ad5-a6ac-790f3a13cf34\",\"type\":\"LinearAxis\"},{\"id\":\"0a81a787-8bcb-483c-8ef7-5d57e71c5915\",\"type\":\"Grid\"},{\"id\":\"71b0fb0a-5ac5-48df-855e-02e42b8c0079\",\"type\":\"LinearAxis\"},{\"id\":\"1198d672-7132-435c-99e2-98a0982bb67b\",\"type\":\"Grid\"},{\"id\":\"d51e8c9c-1e89-4ed4-98a6-7c280e70e74a\",\"type\":\"BoxAnnotation\"},{\"id\":\"0ed27554-6a26-4a16-9b97-736e6ac44c47\",\"type\":\"GlyphRenderer\"},{\"id\":\"089bf196-8b20-4064-9047-e89c2543dcd0\",\"type\":\"GlyphRenderer\"},{\"id\":\"a5760ca4-adc1-427f-ad49-ce821e01f2cb\",\"type\":\"GlyphRenderer\"}],\"title\":{\"id\":\"d798edec-3bda-4730-a74f-57b66ced7489\",\"type\":\"Title\"},\"tool_events\":{\"id\":\"da952922-7d50-4f77-a4ad-b79fb3e95e9c\",\"type\":\"ToolEvents\"},\"toolbar\":{\"id\":\"1abc9dcd-9958-44c9-bd44-dd2a60f6a2ff\",\"type\":\"Toolbar\"},\"x_range\":{\"id\":\"216910ac-2508-4161-a9e4-f1d69dc630cb\",\"type\":\"DataRange1d\"},\"y_range\":{\"id\":\"a02b9805-efd1-42a0-9605-629f94b0bdb2\",\"type\":\"Range1d\"}},\"id\":\"b9152876-32eb-4d9e-baaf-6b12fa60f43f\",\"subtype\":\"Figure\",\"type\":\"Plot\"},{\"attributes\":{\"line_alpha\":{\"value\":0.1},\"line_color\":{\"value\":\"#1f77b4\"},\"x\":{\"field\":\"x\"},\"y\":{\"field\":\"y\"}},\"id\":\"71dd4bb8-deca-47d6-8f51-6527bda5d102\",\"type\":\"Line\"},{\"attributes\":{\"active_drag\":\"auto\",\"active_scroll\":\"auto\",\"active_tap\":\"auto\",\"tools\":[{\"id\":\"488064d5-4fe1-4417-82d1-84bb5fb9fc24\",\"type\":\"PanTool\"},{\"id\":\"0efd565f-4afb-410d-b0df-2aea4c65489a\",\"type\":\"WheelZoomTool\"},{\"id\":\"25ab95d2-47dc-4e2b-9ebe-ddbe03becfdd\",\"type\":\"BoxZoomTool\"},{\"id\":\"a8e4be13-7ebb-4359-9c4d-4168991f785e\",\"type\":\"SaveTool\"},{\"id\":\"eb79973a-f159-43fe-99cb-46b55077f75d\",\"type\":\"ResetTool\"},{\"id\":\"e07922ef-670a-4ace-a471-ada0c9d6c70c\",\"type\":\"HelpTool\"}]},\"id\":\"1abc9dcd-9958-44c9-bd44-dd2a60f6a2ff\",\"type\":\"Toolbar\"},{\"attributes\":{\"callback\":null,\"end\":3,\"start\":-1},\"id\":\"a02b9805-efd1-42a0-9605-629f94b0bdb2\",\"type\":\"Range1d\"},{\"attributes\":{\"formatter\":{\"id\":\"7f2a863b-a870-4708-85c2-30c7e48e43dc\",\"type\":\"BasicTickFormatter\"},\"plot\":{\"id\":\"b9152876-32eb-4d9e-baaf-6b12fa60f43f\",\"subtype\":\"Figure\",\"type\":\"Plot\"},\"ticker\":{\"id\":\"dae373be-fe25-4b3c-9a4b-d6d2fdf948b4\",\"type\":\"BasicTicker\"}},\"id\":\"81f60f37-9e0f-4ad5-a6ac-790f3a13cf34\",\"type\":\"LinearAxis\"},{\"attributes\":{\"callback\":null,\"column_names\":[\"x\",\"y\"],\"data\":{\"x\":{\"__ndarray__\":\"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\",\"dtype\":\"int32\",\"shape\":[1180]},\"y\":[0,-0.999575,0.000425,-0.999575,0.000425,-0.999575,-0.999575,0.000425,-0.999575,0.000425,-0.999575,0.000425,0.000425,1.000425,-0.999575,-0.999575,-0.999575,-0.999575,-0.999575,-0.999575,-0.999575,-0.999575,-0.999575,-0.999575,-0.999575,-0.999575,-0.999575,0.000425,0.000425,0.000425,-0.999575,-0.999575,-0.999575,-0.999575,-0.999575,-0.999575,0.000425,-0.999575,-0.999575,-0.999575,-0.999575,0.000425,0.000425,0.000425,0.000425,0.000425,-0.999575,-0.999575,0.000425,0.000425,0.000425,0.000425,-0.999575,0.000425,0.000425,0.000425,0.000425,0.000425,0.000425,0.000425,0.000425,0.000425,0.000425,0.000425,0.000425,0.000425,0.000425,0.000425,0.000425,0.000425,0.000425,1.000425,0.000425,1.000425,1.000425,0.000425,1.000425,0.000425,0.000425,0.000425,-0.999575,-0.999575,0.000425,-0.999575,-0.999575,-0.999575,0.000425,-0.999575,-0.999575,-0.999575,-0.999575,0.000425,0.000425,0.000425,0.000425,0.000425,0.000425,1.000425,0.000425,0.000425,1.000425,1.000425,0.000425,0.000425,1.000425,1.000425,1.000425,1.000425,0.000425,-0.999575,-0.999575,1.000425,1.000425,1.000425,1.000425,1.000425,1.000425,1.000425,1.000425,1.000425,1.000425,1.000425,2.581207,2.431973,1.000425,1.000425,1.000425,1.000425,1.000425,2.690476,2.691752,2.772959,2.484694,2.26148,2.673895,2.590986,2.223214,2.52466,2.634354,2.835459,2.80102,2.846088,2.866922,2.896684,2.862245,2.846939,2.889031,2.821429,2.921769,2.868197,2.839711,2.901361,2.805272,2.906037,2.926446,2.910714,2.933248,2.928997,2.91199,2.904337,2.891156,2.90051,2.894558,2.907313,2.879677,2.876276,2.916667,2.911139,2.909864,2.918367,2.914541,2.906037,2.933673,2.907313,2.902636,2.936224,2.930272,2.921344,2.923895,2.937925,2.928146,2.927296,2.914966,2.929847,2.868622,2.841412,2.92432,2.916667,2.936224,2.931122,2.936224,2.919643,2.920068,2.934949,2.925595,2.9375,2.905187,2.924745,2.923469,2.923895,2.907313,2.924745,2.930697,2.933248,2.9375,2.933673,2.897959,2.929847,2.897109,2.922619,2.897534,2.881378,2.931548,2.928997,2.910714,2.923895,2.916667,2.926446,2.92432,2.86182,2.909439,2.909439,2.937075,2.869898,2.917517,2.930697,2.902211,2.866497,2.912415,2.915391,2.923044,2.930272,2.931548,2.890731,2.92432,2.923469,2.927296,2.930272,2.908163,2.9375,2.892432,2.935799,2.92602,2.935799,2.922619,2.915816,2.923469,2.915391,2.918367,2.918367,2.934949,2.912415,2.930697,2.930697,2.931548,2.928146,2.921769,2.909864,2.920493,2.92432,2.928146,2.897109,2.931973,2.930272,2.934099,2.937075,2.933673,2.90051,2.91369,2.932398,2.923044,2.928146,2.89966,2.936224,2.934524,2.935799,2.933248,2.933673,2.906037,2.937925,2.93665,2.92602,2.930697,2.913265,2.928146,2.92602,2.920493,2.934524,2.92432,2.918793,2.926871,2.931973,2.927721,2.903912,2.925595,2.918793,2.909864,2.935799,2.914541,2.923469,2.886905,2.917942,2.811224,2.920068,2.921769,2.91369,2.902211,2.934099,2.933673,2.931122,2.921344,2.900085,2.884354,2.931548,2.914966,2.843963,2.929422,2.933248,2.922194,2.923895,2.92432,2.933248,2.928997,2.920918,2.885629,2.923895,2.926871,2.931548,2.894558,2.875,2.918367,2.932823,2.906888,2.930272,2.93665,2.925595,2.931973,2.78784,2.928997,2.937075,2.926871,2.932398,2.925595,2.914966,2.935799,2.928997,2.834184,2.92517,2.928571,2.926871,2.915391,2.928997,2.921344,2.930697,2.923895,2.914541,2.932823,2.903912,2.929422,2.935374,2.927721,2.905612,2.926446,2.89966,2.919218,2.912415,2.92432,2.885204,2.905187,2.928146,2.866922,2.920068,2.93665,2.925595,2.917942,2.919643,2.920493,2.917517,2.920068,2.90051,2.930272,2.91284,2.918367,2.885204,2.924745,2.875425,2.934949,2.932398,2.905612,2.909439,2.934949,2.920068,2.922194,2.915816,2.913265,2.907313,2.927296,2.919643,2.935799,2.935799,2.889031,2.931122,2.929422,2.929422,2.928571,2.931122,2.923044,2.913265,2.917092,2.877551,2.917092,2.937075,2.920493,2.893282,2.923469,2.925595,2.927721,2.907313,2.923895,2.92432,2.918367,2.913265,2.905612,2.940476,2.919643,2.937075,2.918367,2.906463,2.92517,2.933248,2.923044,2.904762,2.936224,2.931548,2.940051,2.928997,2.910714,2.927296,2.92517,2.866071,2.897109,2.932823,2.93665,2.934949,2.923469,2.925595,2.928571,2.92517,2.902636,2.926871,2.934949,2.931973,2.931548,2.929422,2.92432,2.931122,2.908163,2.940051,2.93665,2.931973,2.928571,2.931548,2.900085,2.914966,2.915816,2.931122,2.920068,2.929422,2.928571,2.920068,2.919218,2.930697,2.934524,2.930272,2.925595,2.921769,2.935374,2.932823,2.92517,2.930272,2.919218,2.918367,2.93835,2.930697,2.934524,2.92432,2.934524,2.92432,2.920493,2.933673,2.93835,2.936224,2.936224,2.926446,2.88648,2.936224,2.934949,2.931548,2.934949,2.930272,2.932398,2.930272,2.914116,2.904337,2.931973,2.935799,2.910289,2.930697,2.928571,2.920068,2.92432,2.940476,2.931548,2.923044,2.926446,2.939201,2.870748,2.88733,2.929422,2.931122,2.917092,2.928146,2.937075,2.931973,2.931548,2.932398,2.91284,2.921769,2.906037,2.920918,2.911139,2.936224,2.922619,2.911565,2.9375,2.917942,2.881803,2.919643,2.930272,2.917942,2.925595,2.868197,2.922194,2.934524,2.920918,2.933248,2.935799,2.935799,2.909864,2.931548,2.929847,2.933248,2.934099,2.929847,2.923469,2.940901,2.918793,2.924745,2.929422,2.933673,2.906888,2.927721,2.906463,2.9375,2.932398,2.93665,2.936224,2.931122,2.931973,2.941327,2.914116,2.92432,2.93835,2.924745,2.923895,2.921769,2.89966,2.928571,2.912415,2.922619,2.919643,2.933248,2.935374,2.930697,2.93835,2.918367,2.938776,2.931122,2.883929,2.897109,2.926446,2.934524,2.937925,2.935799,2.940051,2.928146,2.937925,2.927296,2.939201,2.934524,2.931122,2.928146,2.927721,2.935799,2.922619,2.922619,2.920493,2.913265,2.934099,2.933248,2.920493,2.932823,2.93665,2.934524,2.916241,2.917942,2.928997,2.929847,2.928997,2.929847,2.933673,2.92602,2.893707,2.92602,2.93835,2.932398,2.930272,2.931122,2.917517,2.912415,2.931548,2.93835,2.928571,2.934949,2.912415,2.929422,2.929422,2.92432,2.922619,2.935799,2.938776,2.937925,2.928571,2.92602,2.922619,2.935799,2.917942,2.904762,2.928997,2.93835,2.925595,2.92432,2.906037,2.935799,2.936224,2.930272,2.922619,2.917942,2.921344,2.935799,2.928997,2.91284,2.934524,2.931548,2.931122,2.930697,2.930697,2.921344,2.934524,2.919643,2.930272,2.934099,2.931548,2.932823,2.931122,2.929847,2.934099,2.932823,2.933248,2.929422,2.92517,2.919218,2.937925,2.932823,2.920068,2.910289,2.931122,2.938776,2.934099,2.931122,2.918367,2.917092,2.934524,2.942602,2.931973,2.927721,2.929847,2.931973,2.940901,2.927721,2.939626,2.920918,2.933248,2.938776,2.933248,2.942177,2.937925,2.931973,2.930697,2.928146,2.927721,2.940051,2.927296,2.932398,2.932823,2.937075,2.937075,2.920918,2.906037,2.914541,2.906463,2.895408,2.933673,2.930272,2.93665,2.931973,2.934524,2.925595,2.919643,2.919218,2.931548,2.928997,2.877551,2.905612,2.919643,2.935374,2.928571,2.930697,2.932823,2.935799,2.92602,2.919218,2.934524,2.939626,2.914541,2.93835,2.939201,2.928146,2.919643,2.928997,2.919643,2.912415,2.915391,2.923044,2.937925,2.933248,2.939626,2.932398,2.940051,2.936224,2.928997,2.935799,2.930697,2.935374,2.931548,2.937075,2.934099,2.92432,2.92432,2.9375,2.928146,2.934949,2.917092,2.929422,2.937075,2.92602,2.92517,2.920068,2.92432,2.91199,2.934949,2.907313,2.927721,2.928571,2.93665,2.931548,2.931122,2.934099,2.935799,2.931973,2.939201,2.932398,2.935799,2.933248,2.912415,2.827381,2.935799,2.93665,2.928571,2.929422,2.934099,2.940901,2.935374,2.928146,2.934524,2.933673,2.926871,2.926871,2.917092,2.933248,2.933673,2.927296,2.934099,2.931973,2.932823,2.935799,2.931122,2.926871,2.887755,2.910714,2.933248,2.920493,2.885629,2.9375,2.929422,2.928146,2.928571,2.934099,2.937925,2.926871,2.927721,2.934099,2.932823,2.931973,2.935374,2.932398,2.927721,2.932398,2.922619,2.925595,2.921344,2.935374,2.93665,2.932398,2.928997,2.915391,2.930697,2.936224,2.93665,2.932823,2.939201,2.935799,2.9375,2.928146,2.911565,2.908588,2.915816,2.928997,2.934099,2.934524,2.930697,2.937075,2.934949,2.934949,2.934524,2.93835,2.939201,2.927721,2.931548,2.935374,2.933248,2.933673,2.913265,2.921769,2.933248,2.937075,2.927296,2.923895,2.932823,2.931122,2.902211,2.935374,2.93665,2.936224,2.935374,2.920493,2.900085,2.923895,2.932823,2.92517,2.936224,2.877551,2.918793,2.933673,2.935374,2.921769,2.911565,2.934949,2.922619,0.000425,2.906037,2.92602,2.88818,2.890306,2.939201,2.929422,2.932398,2.799745,2.927721,2.920068,2.930697,2.88648,2.92517,2.92517,2.928571,2.926871,2.92432,2.930697,2.929422,2.931548,2.907738,2.927296,2.933248,2.88733,2.926446,2.936224,2.886905,2.936224,2.931122,2.926871,2.914966,2.918793,2.924745,2.936224,2.926871,2.916667,2.927721,2.926446,2.911139,2.912415,2.931122,2.922619,2.934949,2.908588,2.931973,2.920068,2.933673,2.935374,2.931548,2.917092,2.928146,2.941752,2.910289,2.914541,2.907738,2.928146,2.937925,2.922619,2.892432,2.92602,2.894558,2.927296,2.911565,2.932823,2.930697,2.906037,2.938776,2.928146,2.927721,2.923469,2.930697,2.922619,2.921769,2.92432,2.929847,2.915391,2.928997,2.933673,2.934099,2.930272,2.920493,2.939201,2.93665,2.938776,2.929422,2.917942,2.92602,2.9375,2.926446,2.921769,2.935799,2.928997,2.917942,2.941327,2.906888,2.930697,2.92602,2.935374,2.914541,2.938776,2.933673,2.93835,2.918793,2.93835,2.923469,2.932823,2.932823,2.934099,2.936224,2.934524,2.913265,2.92517,2.922619,2.927296,2.933673,2.934099,2.919218,2.928571,2.922194,2.933673,2.933248,2.933673,2.928146,2.926871,2.930697,2.906463,2.930697,2.911565,2.936224,2.939626,2.931122,2.937925,2.93665,2.932823,2.930697,2.93665,2.926871,2.921769,2.92432,2.937925,2.934949,2.933248,2.926446,2.922619,2.934524,2.937075,2.918793,2.916667,2.931973,2.92432,2.940051,2.934524,2.934949,2.930697,2.926446,2.922619,2.940901,2.922619,2.928571,2.939626,2.915816,2.939201,2.931548,2.934099,2.932398,2.939626,2.937925,2.92602,2.936224,2.920918,2.928146,2.940901,2.937925,2.926871,2.928571,2.932823,2.931548,2.929847,2.938776,2.922619,2.92432,2.306973,2.932398,2.930272,2.919218,2.934099,2.923895,2.934524,2.920493,2.915391,2.932398,2.932823,2.937925,2.9375,2.830357,2.928146,2.935374,2.931973,2.923044,2.934099,2.931548,2.928571,2.927721,2.920918,2.917942,2.935799,2.939626,2.934099,2.937075,2.935374,2.932398,2.927296,2.927296,2.935799,2.935799,2.935374,2.938776,2.934099,2.932398,2.929847,2.91284,2.932823,2.931973,2.93665,2.937925,2.940476,2.928997,2.932823,2.917942,2.936224,2.932823,2.939201,2.934524,2.928997,2.927721,2.937925,2.937075,2.938776,2.936224,2.89881,2.934949,2.928997,2.937925,2.917942,2.926446,2.932398,2.927296,2.927721,2.93835,2.932823,2.931548,2.907313,2.917092,2.941327,2.935799,2.928146,2.926871,2.93665,2.933248,2.930697,2.939626,2.93835,2.936224,2.940051,2.928146,2.91199,2.926446,2.929422,2.937925,2.93665,2.937075,2.933673,2.931122,2.930272,2.936224,2.938776,2.93665,2.932398,2.908163,2.936224]}},\"id\":\"ef78a3e2-471f-452c-b716-468a4e7c7894\",\"type\":\"ColumnDataSource\"},{\"attributes\":{},\"id\":\"7f2a863b-a870-4708-85c2-30c7e48e43dc\",\"type\":\"BasicTickFormatter\"}],\"root_ids\":[\"b9152876-32eb-4d9e-baaf-6b12fa60f43f\"]},\"title\":\"Bokeh Application\",\"version\":\"0.12.4\"}};\n",
       "            var render_items = [{\"docid\":\"2097e175-311e-4b35-8d07-f5cf35f8e2a3\",\"elementid\":\"b5328c9e-f145-4c9f-bb58-5fed512ca744\",\"modelid\":\"b9152876-32eb-4d9e-baaf-6b12fa60f43f\"}];\n",
       "            \n",
       "            Bokeh.embed.embed_items(docs_json, render_items);\n",
       "          };\n",
       "          if (document.readyState != \"loading\") fn();\n",
       "          else document.addEventListener(\"DOMContentLoaded\", fn);\n",
       "        })();\n",
       "      },\n",
       "      function(Bokeh) {\n",
       "      }\n",
       "    ];\n",
       "  \n",
       "    function run_inline_js() {\n",
       "      \n",
       "      if ((window.Bokeh !== undefined) || (force === true)) {\n",
       "        for (var i = 0; i < inline_js.length; i++) {\n",
       "          inline_js[i](window.Bokeh);\n",
       "        }if (force === true) {\n",
       "          display_loaded();\n",
       "        }} else if (Date.now() < window._bokeh_timeout) {\n",
       "        setTimeout(run_inline_js, 100);\n",
       "      } else if (!window._bokeh_failed_load) {\n",
       "        console.log(\"Bokeh: BokehJS failed to load within specified timeout.\");\n",
       "        window._bokeh_failed_load = true;\n",
       "      } else if (force !== true) {\n",
       "        var cell = $(document.getElementById(\"b5328c9e-f145-4c9f-bb58-5fed512ca744\")).parents('.cell').data().cell;\n",
       "        cell.output_area.append_execute_result(NB_LOAD_WARNING)\n",
       "      }\n",
       "  \n",
       "    }\n",
       "  \n",
       "    if (window._bokeh_is_loading === 0) {\n",
       "      console.log(\"Bokeh: BokehJS loaded, going straight to plotting\");\n",
       "      run_inline_js();\n",
       "    } else {\n",
       "      load_libs(js_urls, function() {\n",
       "        console.log(\"Bokeh: BokehJS plotting callback run at\", now());\n",
       "        run_inline_js();\n",
       "      });\n",
       "    }\n",
       "  }(this));\n",
       "</script>"
      ]
     },
     "metadata": {},
     "output_type": "display_data"
    }
   ],
   "source": [
    "p = figure(width=500, height=500, y_range=(-1,3))\n",
    "for lens, runs in zip(DQN_Lengths_C, DQN_Rewards):\n",
    "    p.line(lens, runs)\n",
    "show(p)"
   ]
  },
  {
   "cell_type": "code",
   "execution_count": null,
   "metadata": {
    "collapsed": true
   },
   "outputs": [],
   "source": []
  },
  {
   "cell_type": "code",
   "execution_count": 12,
   "metadata": {
    "collapsed": true
   },
   "outputs": [],
   "source": [
    "def plot_averages(names, t_maxs, colors, legends=None, directory=\"Logs/\", step=10):\n",
    "    plt.figure(figsize=(10,10))\n",
    "    plt.ylim(-1, 3)\n",
    "    for name, color, t_max in tqdm(zip(names, colors, t_maxs)):\n",
    "        # TODO: Remove DQN from names\n",
    "        DQN_Rewards_Path = directory + \"*\" + name + \"*/logs/Episode_Rewards.txt\"\n",
    "        DQN_Lengths_Path = directory + \"*\" + name + \"*/logs/Episode_Lengths.txt\"\n",
    "        DQN_Rewards = []\n",
    "        DQN_Lengths = []\n",
    "        DQN_Lengths_C = []\n",
    "        for filename in glob.glob(DQN_Rewards_Path):\n",
    "            run_logs = [0]\n",
    "            with open(filename, \"r\") as f:\n",
    "                for line in f:\n",
    "                    try:\n",
    "                        ep_r = float(line)\n",
    "                    except:\n",
    "                        continue\n",
    "                    run_logs.append(ep_r)\n",
    "            DQN_Rewards.append(run_logs)\n",
    "        for filename in glob.glob(DQN_Lengths_Path):\n",
    "            run_logs = [0]\n",
    "        #     print(filename)\n",
    "            with open(filename, \"r\") as f:\n",
    "                for line in f:\n",
    "                    try:\n",
    "                        ep_r = float(line)\n",
    "                    except:\n",
    "                        continue\n",
    "                    run_logs.append(ep_r)\n",
    "            DQN_Lengths.append(run_logs)\n",
    "            run_logs_c = np.cumsum(run_logs).astype(np.int32)\n",
    "            DQN_Lengths_C.append(run_logs_c)\n",
    "        DQN_Smoothed = []\n",
    "        for times, rewards in zip(DQN_Lengths_C, DQN_Rewards):\n",
    "#             linear = interp1d(times, rewards, kind=\"linear\")\n",
    "#             linear_rewards = linear([i for i in range(500000)])\n",
    "#             DQN_Smoothed.append(linear_rewards)\n",
    "            spline_rewards = spline(times, rewards, [i for i in range(0, t_max, step)])\n",
    "            DQN_Smoothed.append(spline_rewards)\n",
    "        DQN_Means = np.mean(DQN_Smoothed, axis=0)\n",
    "        DQN_Stds = np.std(DQN_Smoothed, axis=0)\n",
    "        plt.fill_between([i for i in range(0, t_max, step)], DQN_Means - DQN_Stds, DQN_Means + DQN_Stds, color=color, alpha=0.2, edgecolor=\"white\")\n",
    "\n",
    "        plt.plot([i for i in range(0, t_max, step)], DQN_Means, color=color)\n",
    "\n",
    "    plt.title(\"Episode_Reward\")\n",
    "    plt.xlabel(\"T\")\n",
    "    plt.ylabel(\"Reward\")\n",
    "    if legends is not None:\n",
    "        plt.legend(legends, bbox_to_anchor=(1.05, 1), loc=2)\n",
    "    plt.show()"
   ]
  },
  {
   "cell_type": "code",
   "execution_count": 155,
   "metadata": {
    "collapsed": true
   },
   "outputs": [],
   "source": [
    "from bokeh.models import Legend\n",
    "from bokeh.models.formatters import BasicTickFormatter\n",
    "from bokeh.models import HoverTool, TapTool"
   ]
  },
  {
   "cell_type": "code",
   "execution_count": 181,
   "metadata": {
    "collapsed": false
   },
   "outputs": [],
   "source": [
    "def plot_averages_b(names, t_maxs, colors, legends, directory=\"Logs/\", step=10):\n",
    "#     plt.figure(figsize=(10,10))\n",
    "    p = figure(width=1200, height=800, y_range=(-1.2, 3.2))\n",
    "    p.toolbar_location = \"above\"\n",
    "    p.yaxis.axis_label = \"Episode Reward\"\n",
    "    p.xaxis.axis_label = \"T\"\n",
    "    p.xaxis.formatter = BasicTickFormatter(use_scientific=False)\n",
    "#     p = figure(width=800, height=500)\n",
    "    lines = []\n",
    "    alpha_lines = []\n",
    "    for name, color, t_max, legend in tqdm(zip(names, colors, t_maxs, legends)):\n",
    "        # TODO: Remove DQN from names\n",
    "        DQN_Rewards_Path = directory + \"*\" + name + \"*/logs/Episode_Rewards.txt\"\n",
    "        DQN_Lengths_Path = directory + \"*\" + name + \"*/logs/Episode_Lengths.txt\"\n",
    "        DQN_Rewards = []\n",
    "        DQN_Lengths = []\n",
    "        DQN_Lengths_C = []\n",
    "        for filename in glob.glob(DQN_Rewards_Path):\n",
    "            run_logs = [0]\n",
    "            with open(filename, \"r\") as f:\n",
    "                for line in f:\n",
    "                    try:\n",
    "                        ep_r = float(line)\n",
    "                    except:\n",
    "                        continue\n",
    "                    run_logs.append(ep_r)\n",
    "            DQN_Rewards.append(run_logs)\n",
    "        for filename in glob.glob(DQN_Lengths_Path):\n",
    "            run_logs = [0]\n",
    "        #     print(filename)\n",
    "            with open(filename, \"r\") as f:\n",
    "                for line in f:\n",
    "                    try:\n",
    "                        ep_r = float(line)\n",
    "                    except:\n",
    "                        continue\n",
    "                    run_logs.append(ep_r)\n",
    "            DQN_Lengths.append(run_logs)\n",
    "            run_logs_c = np.cumsum(run_logs).astype(np.int32)\n",
    "            DQN_Lengths_C.append(run_logs_c)\n",
    "        DQN_Smoothed = []\n",
    "        for times, rewards in zip(DQN_Lengths_C, DQN_Rewards):\n",
    "#             linear = interp1d(times, rewards, kind=\"linear\")\n",
    "#             linear_rewards = linear([i for i in range(500000)])\n",
    "#             DQN_Smoothed.append(linear_rewards)\n",
    "            spline_rewards = spline(times, rewards, [i for i in range(0, t_max, step)], order=1)\n",
    "            DQN_Smoothed.append(spline_rewards)\n",
    "        DQN_Means = np.mean(DQN_Smoothed, axis=0)\n",
    "        DQN_Stds = np.std(DQN_Smoothed, axis=0)\n",
    "        \n",
    "#         plt.fill_between([i for i in range(0, t_max, step)], DQN_Means - DQN_Stds, DQN_Means + DQN_Stds, color=color, alpha=0.2, edgecolor=\"white\")\n",
    "        # Error bars\n",
    "        xs = [i for i in range(0, t_max, step)]\n",
    "        xs = xs + list(reversed(xs))\n",
    "        ys = np.concatenate([DQN_Means - DQN_Stds, np.flip(DQN_Means + DQN_Stds, axis=0)])\n",
    "        lls = p.patch(xs, ys, color=color, alpha=0.1)\n",
    "\n",
    "        \n",
    "#         for x, y, yerr in zip(range(0, t_max, step), DQN_Means, DQN_Stds):\n",
    "#             lls = p.line([x, x], [y - yerr, y + yerr], color=color, alpha=0.1, hover_alpha=0.8)\n",
    "#             alpha_lines.append(lls)\n",
    "            \n",
    "\n",
    "#         plt.plot([i for i in range(0, t_max, step)], DQN_Means, color=color)\n",
    "        l = p.line([i for i in range(0, t_max, step)], DQN_Means, color=color, line_width=2)\n",
    "        lines.append(l)\n",
    "#         alpha_lines.append(lls)\n",
    "\n",
    "#     plt.title(\"Episode_Reward\")\n",
    "#     plt.xlabel(\"T\")\n",
    "#     plt.ylabel(\"Reward\")\n",
    "#     if legends is not None:\n",
    "#         plt.legend(legends)\n",
    "#     plt.show()\n",
    "#     p.line([0,1], [-1,3])\n",
    "    new_leg = Legend(items=[(name, [line]) for name, line in zip(legends, lines)], location=(0,-30))\n",
    "    p.add_layout(new_leg, \"right\")\n",
    "#     p.add_tools(HoverTool(renderers=alpha_lines))\n",
    "#     p.add_tools(TapTool(renderers=alpha_lines))\n",
    "    show(p)"
   ]
  },
  {
   "cell_type": "code",
   "execution_count": null,
   "metadata": {
    "collapsed": true
   },
   "outputs": [],
   "source": []
  },
  {
   "cell_type": "code",
   "execution_count": 15,
   "metadata": {
    "collapsed": true
   },
   "outputs": [],
   "source": [
    "from matplotlib.cm import rainbow"
   ]
  },
  {
   "cell_type": "code",
   "execution_count": 16,
   "metadata": {
    "collapsed": false
   },
   "outputs": [
    {
     "data": {
      "text/plain": [
       "array([[ 0.5       ,  0.        ,  1.        ,  1.        ],\n",
       "       [ 0.49215686,  0.01231966,  0.99998103,  1.        ],\n",
       "       [ 0.48431373,  0.02463745,  0.99992411,  1.        ],\n",
       "       [ 0.47647059,  0.0369515 ,  0.99982925,  1.        ],\n",
       "       [ 0.46862745,  0.04925994,  0.99969645,  1.        ],\n",
       "       [ 0.46078431,  0.06156091,  0.99952572,  1.        ],\n",
       "       [ 0.45294118,  0.07385253,  0.99931706,  1.        ],\n",
       "       [ 0.44509804,  0.08613294,  0.99907048,  1.        ],\n",
       "       [ 0.4372549 ,  0.09840028,  0.99878599,  1.        ],\n",
       "       [ 0.42941176,  0.11065268,  0.9984636 ,  1.        ]])"
      ]
     },
     "execution_count": 16,
     "metadata": {},
     "output_type": "execute_result"
    }
   ],
   "source": [
    "rainbow([i for i in range(10)])"
   ]
  },
  {
   "cell_type": "code",
   "execution_count": 88,
   "metadata": {
    "collapsed": false
   },
   "outputs": [
    {
     "name": "stdout",
     "output_type": "stream",
     "text": [
      "['DQN', 'Count*_Conv_True*_Eps_1', 'Count*_Conv_True*_Eps_0.1', 'Count*_Conv_False*_Eps_1', 'Count*_Conv_False*_Eps_0.1']\n",
      "[1000000, 1000000, 1000000, 1000000, 1000000]\n"
     ]
    }
   ],
   "source": [
    "names = [\"DQN\"]\n",
    "legends = [\"DQN\"]\n",
    "t_maxs = [1000000]\n",
    "for conv in [True, False]:\n",
    "    names.append(\"Count*_Conv_{}*_Eps_1\".format(conv))\n",
    "    legends.append(\"Count_Conv_{}\".format(conv))\n",
    "    t_maxs.append(1000000)\n",
    "    names.append(\"Count*_Conv_{}*_Eps_0.1\".format(conv))\n",
    "    legends.append(\"Count_Conv_{}_Epsilon\".format(conv))\n",
    "    t_maxs.append(1000000)\n",
    "print(names)\n",
    "print(t_maxs)\n",
    "# colours = [\"red\", \"#3366ff\", \"#66ff33\", \"yellow\"]\n",
    "colours = rainbow(np.linspace(0, 1, len(names)))"
   ]
  },
  {
   "cell_type": "code",
   "execution_count": 107,
   "metadata": {
    "collapsed": false
   },
   "outputs": [],
   "source": [
    "from bokeh.palettes import Set1_5 as rainbow_colours"
   ]
  },
  {
   "cell_type": "code",
   "execution_count": 182,
   "metadata": {
    "collapsed": false
   },
   "outputs": [
    {
     "name": "stderr",
     "output_type": "stream",
     "text": [
      "5it [00:00, 99.53it/s]\n"
     ]
    },
    {
     "data": {
      "text/html": [
       "\n",
       "\n",
       "    <div class=\"bk-root\">\n",
       "        <div class=\"bk-plotdiv\" id=\"fc81071f-253a-43cd-a3da-3ca6ffb55028\"></div>\n",
       "    </div>\n",
       "<script type=\"text/javascript\">\n",
       "  \n",
       "  (function(global) {\n",
       "    function now() {\n",
       "      return new Date();\n",
       "    }\n",
       "  \n",
       "    var force = false;\n",
       "  \n",
       "    if (typeof (window._bokeh_onload_callbacks) === \"undefined\" || force === true) {\n",
       "      window._bokeh_onload_callbacks = [];\n",
       "      window._bokeh_is_loading = undefined;\n",
       "    }\n",
       "  \n",
       "  \n",
       "    \n",
       "    if (typeof (window._bokeh_timeout) === \"undefined\" || force === true) {\n",
       "      window._bokeh_timeout = Date.now() + 0;\n",
       "      window._bokeh_failed_load = false;\n",
       "    }\n",
       "  \n",
       "    var NB_LOAD_WARNING = {'data': {'text/html':\n",
       "       \"<div style='background-color: #fdd'>\\n\"+\n",
       "       \"<p>\\n\"+\n",
       "       \"BokehJS does not appear to have successfully loaded. If loading BokehJS from CDN, this \\n\"+\n",
       "       \"may be due to a slow or bad network connection. Possible fixes:\\n\"+\n",
       "       \"</p>\\n\"+\n",
       "       \"<ul>\\n\"+\n",
       "       \"<li>re-rerun `output_notebook()` to attempt to load from CDN again, or</li>\\n\"+\n",
       "       \"<li>use INLINE resources instead, as so:</li>\\n\"+\n",
       "       \"</ul>\\n\"+\n",
       "       \"<code>\\n\"+\n",
       "       \"from bokeh.resources import INLINE\\n\"+\n",
       "       \"output_notebook(resources=INLINE)\\n\"+\n",
       "       \"</code>\\n\"+\n",
       "       \"</div>\"}};\n",
       "  \n",
       "    function display_loaded() {\n",
       "      if (window.Bokeh !== undefined) {\n",
       "        document.getElementById(\"fc81071f-253a-43cd-a3da-3ca6ffb55028\").textContent = \"BokehJS successfully loaded.\";\n",
       "      } else if (Date.now() < window._bokeh_timeout) {\n",
       "        setTimeout(display_loaded, 100)\n",
       "      }\n",
       "    }\n",
       "  \n",
       "    function run_callbacks() {\n",
       "      window._bokeh_onload_callbacks.forEach(function(callback) { callback() });\n",
       "      delete window._bokeh_onload_callbacks\n",
       "      console.info(\"Bokeh: all callbacks have finished\");\n",
       "    }\n",
       "  \n",
       "    function load_libs(js_urls, callback) {\n",
       "      window._bokeh_onload_callbacks.push(callback);\n",
       "      if (window._bokeh_is_loading > 0) {\n",
       "        console.log(\"Bokeh: BokehJS is being loaded, scheduling callback at\", now());\n",
       "        return null;\n",
       "      }\n",
       "      if (js_urls == null || js_urls.length === 0) {\n",
       "        run_callbacks();\n",
       "        return null;\n",
       "      }\n",
       "      console.log(\"Bokeh: BokehJS not loaded, scheduling load and callback at\", now());\n",
       "      window._bokeh_is_loading = js_urls.length;\n",
       "      for (var i = 0; i < js_urls.length; i++) {\n",
       "        var url = js_urls[i];\n",
       "        var s = document.createElement('script');\n",
       "        s.src = url;\n",
       "        s.async = false;\n",
       "        s.onreadystatechange = s.onload = function() {\n",
       "          window._bokeh_is_loading--;\n",
       "          if (window._bokeh_is_loading === 0) {\n",
       "            console.log(\"Bokeh: all BokehJS libraries loaded\");\n",
       "            run_callbacks()\n",
       "          }\n",
       "        };\n",
       "        s.onerror = function() {\n",
       "          console.warn(\"failed to load library \" + url);\n",
       "        };\n",
       "        console.log(\"Bokeh: injecting script tag for BokehJS library: \", url);\n",
       "        document.getElementsByTagName(\"head\")[0].appendChild(s);\n",
       "      }\n",
       "    };var element = document.getElementById(\"fc81071f-253a-43cd-a3da-3ca6ffb55028\");\n",
       "    if (element == null) {\n",
       "      console.log(\"Bokeh: ERROR: autoload.js configured with elementid 'fc81071f-253a-43cd-a3da-3ca6ffb55028' but no matching script tag was found. \")\n",
       "      return false;\n",
       "    }\n",
       "  \n",
       "    var js_urls = [];\n",
       "  \n",
       "    var inline_js = [\n",
       "      function(Bokeh) {\n",
       "        (function() {\n",
       "          var fn = function() {\n",
       "            var docs_json = {\"8bf37ee2-0a58-4e4c-bd7c-9fba98e0cb2a\":{\"roots\":{\"references\":[{\"attributes\":{\"label\":{\"value\":\"Count_Conv_False\"},\"renderers\":[{\"id\":\"455fb819-b78e-4f56-a7ac-1ca3cf5257f6\",\"type\":\"GlyphRenderer\"}]},\"id\":\"5aa11b26-5122-43af-97e4-8ee8812c7081\",\"type\":\"LegendItem\"},{\"attributes\":{\"label\":{\"value\":\"Count_Conv_True_Epsilon\"},\"renderers\":[{\"id\":\"12c2109c-4b7a-43f7-8221-7c1032c17623\",\"type\":\"GlyphRenderer\"}]},\"id\":\"95c4d755-2511-4c64-bbb4-6728ca113088\",\"type\":\"LegendItem\"},{\"attributes\":{\"below\":[{\"id\":\"f977b41c-fc0e-4e37-b532-27d7bd57bcf8\",\"type\":\"LinearAxis\"}],\"left\":[{\"id\":\"2923d352-1c35-4d65-bb69-49853d41ed43\",\"type\":\"LinearAxis\"}],\"plot_height\":800,\"plot_width\":1200,\"renderers\":[{\"id\":\"f977b41c-fc0e-4e37-b532-27d7bd57bcf8\",\"type\":\"LinearAxis\"},{\"id\":\"eeb9f751-7041-4ba1-b0ab-a9729153b8a7\",\"type\":\"Grid\"},{\"id\":\"2923d352-1c35-4d65-bb69-49853d41ed43\",\"type\":\"LinearAxis\"},{\"id\":\"e85b6cc3-a7b9-42f4-9a18-b396109a60eb\",\"type\":\"Grid\"},{\"id\":\"c5ba9e20-5aaa-46a9-8687-99064672caf3\",\"type\":\"BoxAnnotation\"},{\"id\":\"a02c0d48-ddca-4a99-b1bd-512cc96b5e74\",\"type\":\"GlyphRenderer\"},{\"id\":\"56ebf63b-38b5-47d8-bed7-d39ecdc15a5d\",\"type\":\"GlyphRenderer\"},{\"id\":\"ed198edb-65f2-454b-8f72-f6efdf8a99a1\",\"type\":\"GlyphRenderer\"},{\"id\":\"77fdd7ec-ac7d-4cf0-8bb1-e2843f83d4f2\",\"type\":\"GlyphRenderer\"},{\"id\":\"a4c47064-570a-4809-ab49-78134ad27d0b\",\"type\":\"GlyphRenderer\"},{\"id\":\"12c2109c-4b7a-43f7-8221-7c1032c17623\",\"type\":\"GlyphRenderer\"},{\"id\":\"14ce7207-d4be-4343-a05e-2bb61841fd26\",\"type\":\"GlyphRenderer\"},{\"id\":\"455fb819-b78e-4f56-a7ac-1ca3cf5257f6\",\"type\":\"GlyphRenderer\"},{\"id\":\"8afebf11-b0ad-4f83-803a-487091c29367\",\"type\":\"GlyphRenderer\"},{\"id\":\"a8866870-4a8a-4eb8-917f-e28fe9fb5f72\",\"type\":\"GlyphRenderer\"},{\"id\":\"9bb06181-ae98-48f9-bdc8-f3ba815f25f9\",\"type\":\"Legend\"}],\"right\":[{\"id\":\"9bb06181-ae98-48f9-bdc8-f3ba815f25f9\",\"type\":\"Legend\"}],\"title\":{\"id\":\"84df48d8-e0d8-4382-a445-4db1a2839510\",\"type\":\"Title\"},\"tool_events\":{\"id\":\"fa9fc628-e2cc-4a82-a017-c8d9ceaf8d07\",\"type\":\"ToolEvents\"},\"toolbar\":{\"id\":\"7fe6da32-b58f-4a24-85ee-8054a5834a5c\",\"type\":\"Toolbar\"},\"toolbar_location\":\"above\",\"x_range\":{\"id\":\"eb64a374-281e-40ec-92aa-68d60fb4aaaf\",\"type\":\"DataRange1d\"},\"y_range\":{\"id\":\"d318407d-e01f-44a0-b997-8782c79ac804\",\"type\":\"Range1d\"}},\"id\":\"0961ce1c-9b38-4820-a64d-96c3f8b3a045\",\"subtype\":\"Figure\",\"type\":\"Plot\"},{\"attributes\":{\"data_source\":{\"id\":\"eff63ea3-1cad-4600-9671-eb4e7793e68f\",\"type\":\"ColumnDataSource\"},\"glyph\":{\"id\":\"17ba74af-914b-4484-9465-3d14f758f87b\",\"type\":\"Line\"},\"hover_glyph\":null,\"nonselection_glyph\":{\"id\":\"5d1744c7-edda-4738-85b2-c13eccbd3374\",\"type\":\"Line\"},\"selection_glyph\":null},\"id\":\"77fdd7ec-ac7d-4cf0-8bb1-e2843f83d4f2\",\"type\":\"GlyphRenderer\"},{\"attributes\":{\"callback\":null},\"id\":\"eb64a374-281e-40ec-92aa-68d60fb4aaaf\",\"type\":\"DataRange1d\"},{\"attributes\":{\"active_drag\":\"auto\",\"active_scroll\":\"auto\",\"active_tap\":\"auto\",\"tools\":[{\"id\":\"4d9f087d-02c9-4502-b8c0-aa98e756226e\",\"type\":\"PanTool\"},{\"id\":\"be9c62bc-24ff-41ab-8086-93b7a61c3bf7\",\"type\":\"WheelZoomTool\"},{\"id\":\"bd9c8606-98f0-4cd1-a6e5-7ad3eb264a2d\",\"type\":\"BoxZoomTool\"},{\"id\":\"862568c9-d7a1-4eba-865c-b64f6b5e82bb\",\"type\":\"SaveTool\"},{\"id\":\"559335c8-12f7-439c-92c0-d6d87ed09b34\",\"type\":\"ResetTool\"},{\"id\":\"943723eb-fc9e-4f10-a794-77fca9a0cc8b\",\"type\":\"HelpTool\"}]},\"id\":\"7fe6da32-b58f-4a24-85ee-8054a5834a5c\",\"type\":\"Toolbar\"},{\"attributes\":{\"callback\":null,\"column_names\":[\"x\",\"y\"],\"data\":{\"x\":[0,10000,20000,30000,40000,50000,60000,70000,80000,90000,100000,110000,120000,130000,140000,150000,160000,170000,180000,190000,200000,210000,220000,230000,240000,250000,260000,270000,280000,290000,300000,310000,320000,330000,340000,350000,360000,370000,380000,390000,400000,410000,420000,430000,440000,450000,460000,470000,480000,490000,500000,510000,520000,530000,540000,550000,560000,570000,580000,590000,600000,610000,620000,630000,640000,650000,660000,670000,680000,690000,700000,710000,720000,730000,740000,750000,760000,770000,780000,790000,800000,810000,820000,830000,840000,850000,860000,870000,880000,890000,900000,910000,920000,930000,940000,950000,960000,970000,980000,990000,990000,980000,970000,960000,950000,940000,930000,920000,910000,900000,890000,880000,870000,860000,850000,840000,830000,820000,810000,800000,790000,780000,770000,760000,750000,740000,730000,720000,710000,700000,690000,680000,670000,660000,650000,640000,630000,620000,610000,600000,590000,580000,570000,560000,550000,540000,530000,520000,510000,500000,490000,480000,470000,460000,450000,440000,430000,420000,410000,400000,390000,380000,370000,360000,350000,340000,330000,320000,310000,300000,290000,280000,270000,260000,250000,240000,230000,220000,210000,200000,190000,180000,170000,160000,150000,140000,130000,120000,110000,100000,90000,80000,70000,60000,50000,40000,30000,20000,10000,0],\"y\":{\"__ndarray__\":\"AAAAAAAAAAAfh8H8FTLzv8QCxcbax/G/2oDvAKKE8L/WsU6vvV/xv9bVY48bQvG/Sl/BpyGI77/VpxyTxf3vvyIyTW6cdPK/BP4SmuUR77/xgBSUSULwv6UfXQYb4vK/KQJbrDQR5b/euBazrUrVvwi6a9/NBPK/UjMxY2Ri8L/mUVirhufmv69+lXfOivC/aOZTQmt+7L8b2vBySG/pv8coV9bQd+y/HofB/BUy87+Yx16eG2/xv61g3wDrxOm/II837ju57L9L0DVB1Dvuv7JnKW3FjPC/eWytW2Ab6L8eh8H8FTLzvzm0nT3Yj+y/c7CXPw1W8b/l8GT12DrkvyWr1hsCve2/MJfct4rg6r/l8GT12DrkvxivzNety+S/5fBk9dg65L9qi2cHIwjkv8vKJxTz+ey/HM1ApN938r+4bUm/f9riv0ZbnSNWIuy/NgAIJknF6r/mJk9JVMz2v3ACYHk3NPW/+f8J4IeO9L/SvWZ4xkjyvzoxjwChFfO/HHXjh2yW77/MDptD0zjqv/SSgW4T4fW/inUxwgrh9b+UMgSSqmbvv81asc4Tz+2/fxr/bMiE8781E4ylxwTuv+nndKcJ+/G/BZwgdiqK5L+oCwHOmPfjvxqLaQGYeOq/2lNaCOU65L9cgQ9OL+Hzv9h/KgK3oPO/4dHzQPnJ8b8kX+oZtSb0vy5ILl/6uOy/PYA+k8iW87+49VOkQGbnv6D7TUPD8u2/FZZmv2Nu7b9J7UYojeHvv+rUJCg52PC/0B2ZUA0A77+/CmvWkpvrv2dfZmfXEvC/zfeZ9QPT5r/ePyK6u07bvznrH8fK7Oe/3i8W8FWl4L8ZR5YSD+Piv+z+qw5sc+a/Nx2k82KJ4r8iMnttiQbov9Cqsi9NqvS/SzkVL9SB7L8Hg+MWlprgv/q40duNuuC/Sklk3tA44r8ofzLGjRvavw/idzcKGuy/kmaCTknP8L/UPo+20PrivxCAXVWeo9a/shpsYSyb4b84VwQIfRHtvyVWmEdBQve/tC1CMtli8r/5do362Fjuvzv7qd3Z+Oe/j49nuVP657/IC2Q9++j+P6ACfFFP5v4/wPnsOkex+z8stlDZxHf9P6UZg1poNPo/nhxwFOxA/T80E+2pG6gAQAIHUGcCgwBAAznWVBwuAEDkJgN5Rvv9P5w2OD7vkP0/zA2mr0zU/z/SKeewNl4AQJAUCYFuzABABVebr3TFAEB8m1naRpUAQIISxPKcrfw/mWK45U7k/j/Wu2J43Zr9P+wwYmdqg/4/QskreHBX/D8SGyQ6b9AAQJhIS+F30P4/xg5CLIDg/j9CV7vyqdT+P0vdq82Myfo/kn4grSOk/D84awEjiXn7P2KBLiMQ1Po/Kovkwrkg/D+OUl+8vjn7Pwi7RfFTmPs/esZmnmaW/D9n0Hw49pj5P2EqgA8brfs/PDosV/I0+j93a4I6tJL6P3RNGwRijfk/NFL44uNU+T8ApM7QpV3pP92y2+9zkvg/nk7Nt3u44T8g66NXkIj7PzszpNHsVvo/qlrXViYv+z9jIv0Enln5Pw7QHQW/ZPc/oq+oZYg39T/yY8QFj4rzP+zzRJB3E8s/mDbZlL+04T+IbK6VO17xP1wLZUxp+tc/1kV0L19T2j88cEIpq/TQP6w+S12LCM4/Hr5r6IKE0j9AHqq2K6XhP5l9LmH8s94/DD1JvVyq6z+KqAA9jBbTv8+SssHIVOU//lDLRPY77D85oSvPTT/kP2xfk7Ei0OQ/OaErz00/5D8GPKLuqlHjP6uO0Ciq9OA/OaErz00/5D8AGI5jXZXbP98tZx+Ecus/7Elgcw6e2T8ZmJY4vh3iP0TiV+YGfbC/iUBEKVIa4T+YowZZnD7dv+Sa6Mfxf8S/KDcRf9IdvL/uSWBzDp7ZPxD8IbRgFbc/gJUHcSbucr9UNYM2NzO1P5gXf+tD1K+/xJsEzdNHsj/CPfUYo3TGv5f2uTIe2tu/4KVywEtcoT84PtcUG8C+P7lGy+A9F9m/ytDakXl1x79ahnBbsTTMv4xyo7ZrO+G/1acck8X9779DeEPtRfHev1icG/Bwaui/gvGrK6V1xL9BmtVGStvsv8KO1KP1R+W/RenSvySV2b8AAAAAAAAAAA==\",\"dtype\":\"float64\",\"shape\":[200]}}},\"id\":\"6dee9421-6ea4-481d-9e81-967c0c6afd3e\",\"type\":\"ColumnDataSource\"},{\"attributes\":{\"line_color\":{\"value\":\"#4daf4a\"},\"line_width\":{\"value\":2},\"x\":{\"field\":\"x\"},\"y\":{\"field\":\"y\"}},\"id\":\"d9bde7e7-8258-45a3-89ef-98ef91f40900\",\"type\":\"Line\"},{\"attributes\":{},\"id\":\"fa9fc628-e2cc-4a82-a017-c8d9ceaf8d07\",\"type\":\"ToolEvents\"},{\"attributes\":{\"label\":{\"value\":\"DQN\"},\"renderers\":[{\"id\":\"56ebf63b-38b5-47d8-bed7-d39ecdc15a5d\",\"type\":\"GlyphRenderer\"}]},\"id\":\"5696bc3b-8d1b-4ef6-a932-e0f651bce019\",\"type\":\"LegendItem\"},{\"attributes\":{\"items\":[{\"id\":\"5696bc3b-8d1b-4ef6-a932-e0f651bce019\",\"type\":\"LegendItem\"},{\"id\":\"1500573a-8ea1-4ae5-9de3-556a9e4ed6b5\",\"type\":\"LegendItem\"},{\"id\":\"95c4d755-2511-4c64-bbb4-6728ca113088\",\"type\":\"LegendItem\"},{\"id\":\"5aa11b26-5122-43af-97e4-8ee8812c7081\",\"type\":\"LegendItem\"},{\"id\":\"de2f7e57-8a1e-4f53-af5a-97ac9d41dfda\",\"type\":\"LegendItem\"}],\"location\":[0,-30],\"plot\":{\"id\":\"0961ce1c-9b38-4820-a64d-96c3f8b3a045\",\"subtype\":\"Figure\",\"type\":\"Plot\"}},\"id\":\"9bb06181-ae98-48f9-bdc8-f3ba815f25f9\",\"type\":\"Legend\"},{\"attributes\":{\"plot\":{\"id\":\"0961ce1c-9b38-4820-a64d-96c3f8b3a045\",\"subtype\":\"Figure\",\"type\":\"Plot\"},\"ticker\":{\"id\":\"f6d91352-53bd-419a-b488-ff0b2531ed28\",\"type\":\"BasicTicker\"}},\"id\":\"eeb9f751-7041-4ba1-b0ab-a9729153b8a7\",\"type\":\"Grid\"},{\"attributes\":{\"axis_label\":\"T\",\"formatter\":{\"id\":\"c5282163-52f2-4629-bbcb-80db98ea266a\",\"type\":\"BasicTickFormatter\"},\"plot\":{\"id\":\"0961ce1c-9b38-4820-a64d-96c3f8b3a045\",\"subtype\":\"Figure\",\"type\":\"Plot\"},\"ticker\":{\"id\":\"f6d91352-53bd-419a-b488-ff0b2531ed28\",\"type\":\"BasicTicker\"}},\"id\":\"f977b41c-fc0e-4e37-b532-27d7bd57bcf8\",\"type\":\"LinearAxis\"},{\"attributes\":{},\"id\":\"f6d91352-53bd-419a-b488-ff0b2531ed28\",\"type\":\"BasicTicker\"},{\"attributes\":{\"use_scientific\":false},\"id\":\"c5282163-52f2-4629-bbcb-80db98ea266a\",\"type\":\"BasicTickFormatter\"},{\"attributes\":{\"axis_label\":\"Episode Reward\",\"formatter\":{\"id\":\"196ab8ab-a355-4f74-9123-8d7b3ad8905c\",\"type\":\"BasicTickFormatter\"},\"plot\":{\"id\":\"0961ce1c-9b38-4820-a64d-96c3f8b3a045\",\"subtype\":\"Figure\",\"type\":\"Plot\"},\"ticker\":{\"id\":\"842989f0-c2c5-4a5a-9e58-301f37103f50\",\"type\":\"BasicTicker\"}},\"id\":\"2923d352-1c35-4d65-bb69-49853d41ed43\",\"type\":\"LinearAxis\"},{\"attributes\":{\"callback\":null,\"end\":3.2,\"start\":-1.2},\"id\":\"d318407d-e01f-44a0-b997-8782c79ac804\",\"type\":\"Range1d\"},{\"attributes\":{\"dimension\":1,\"plot\":{\"id\":\"0961ce1c-9b38-4820-a64d-96c3f8b3a045\",\"subtype\":\"Figure\",\"type\":\"Plot\"},\"ticker\":{\"id\":\"842989f0-c2c5-4a5a-9e58-301f37103f50\",\"type\":\"BasicTicker\"}},\"id\":\"e85b6cc3-a7b9-42f4-9a18-b396109a60eb\",\"type\":\"Grid\"},{\"attributes\":{\"bottom_units\":\"screen\",\"fill_alpha\":{\"value\":0.5},\"fill_color\":{\"value\":\"lightgrey\"},\"left_units\":\"screen\",\"level\":\"overlay\",\"line_alpha\":{\"value\":1.0},\"line_color\":{\"value\":\"black\"},\"line_dash\":[4,4],\"line_width\":{\"value\":2},\"plot\":null,\"render_mode\":\"css\",\"right_units\":\"screen\",\"top_units\":\"screen\"},\"id\":\"c5ba9e20-5aaa-46a9-8687-99064672caf3\",\"type\":\"BoxAnnotation\"},{\"attributes\":{},\"id\":\"842989f0-c2c5-4a5a-9e58-301f37103f50\",\"type\":\"BasicTicker\"},{\"attributes\":{\"plot\":{\"id\":\"0961ce1c-9b38-4820-a64d-96c3f8b3a045\",\"subtype\":\"Figure\",\"type\":\"Plot\"}},\"id\":\"be9c62bc-24ff-41ab-8086-93b7a61c3bf7\",\"type\":\"WheelZoomTool\"},{\"attributes\":{\"plot\":{\"id\":\"0961ce1c-9b38-4820-a64d-96c3f8b3a045\",\"subtype\":\"Figure\",\"type\":\"Plot\"}},\"id\":\"4d9f087d-02c9-4502-b8c0-aa98e756226e\",\"type\":\"PanTool\"},{\"attributes\":{\"overlay\":{\"id\":\"c5ba9e20-5aaa-46a9-8687-99064672caf3\",\"type\":\"BoxAnnotation\"},\"plot\":{\"id\":\"0961ce1c-9b38-4820-a64d-96c3f8b3a045\",\"subtype\":\"Figure\",\"type\":\"Plot\"}},\"id\":\"bd9c8606-98f0-4cd1-a6e5-7ad3eb264a2d\",\"type\":\"BoxZoomTool\"},{\"attributes\":{\"plot\":{\"id\":\"0961ce1c-9b38-4820-a64d-96c3f8b3a045\",\"subtype\":\"Figure\",\"type\":\"Plot\"}},\"id\":\"862568c9-d7a1-4eba-865c-b64f6b5e82bb\",\"type\":\"SaveTool\"},{\"attributes\":{\"data_source\":{\"id\":\"751fba2e-4f11-47a6-9a85-c90b3e49358e\",\"type\":\"ColumnDataSource\"},\"glyph\":{\"id\":\"8d2f855b-da60-49bb-bc3a-8690ad24e5ed\",\"type\":\"Patch\"},\"hover_glyph\":null,\"nonselection_glyph\":{\"id\":\"44e73aaa-8ca1-4ace-befb-9203b7faa09a\",\"type\":\"Patch\"},\"selection_glyph\":null},\"id\":\"a02c0d48-ddca-4a99-b1bd-512cc96b5e74\",\"type\":\"GlyphRenderer\"},{\"attributes\":{\"plot\":{\"id\":\"0961ce1c-9b38-4820-a64d-96c3f8b3a045\",\"subtype\":\"Figure\",\"type\":\"Plot\"}},\"id\":\"559335c8-12f7-439c-92c0-d6d87ed09b34\",\"type\":\"ResetTool\"},{\"attributes\":{\"callback\":null,\"column_names\":[\"x\",\"y\"],\"data\":{\"x\":[0,10000,20000,30000,40000,50000,60000,70000,80000,90000,100000,110000,120000,130000,140000,150000,160000,170000,180000,190000,200000,210000,220000,230000,240000,250000,260000,270000,280000,290000,300000,310000,320000,330000,340000,350000,360000,370000,380000,390000,400000,410000,420000,430000,440000,450000,460000,470000,480000,490000,500000,510000,520000,530000,540000,550000,560000,570000,580000,590000,600000,610000,620000,630000,640000,650000,660000,670000,680000,690000,700000,710000,720000,730000,740000,750000,760000,770000,780000,790000,800000,810000,820000,830000,840000,850000,860000,870000,880000,890000,900000,910000,920000,930000,940000,950000,960000,970000,980000,990000,990000,980000,970000,960000,950000,940000,930000,920000,910000,900000,890000,880000,870000,860000,850000,840000,830000,820000,810000,800000,790000,780000,770000,760000,750000,740000,730000,720000,710000,700000,690000,680000,670000,660000,650000,640000,630000,620000,610000,600000,590000,580000,570000,560000,550000,540000,530000,520000,510000,500000,490000,480000,470000,460000,450000,440000,430000,420000,410000,400000,390000,380000,370000,360000,350000,340000,330000,320000,310000,300000,290000,280000,270000,260000,250000,240000,230000,220000,210000,200000,190000,180000,170000,160000,150000,140000,130000,120000,110000,100000,90000,80000,70000,60000,50000,40000,30000,20000,10000,0],\"y\":{\"__ndarray__\":\"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\",\"dtype\":\"float64\",\"shape\":[200]}}},\"id\":\"e1ff099c-abca-4229-a061-57e4a87e2c92\",\"type\":\"ColumnDataSource\"},{\"attributes\":{\"fill_alpha\":{\"value\":0.1},\"fill_color\":{\"value\":\"#984ea3\"},\"line_alpha\":{\"value\":0.1},\"line_color\":{\"value\":\"#984ea3\"},\"x\":{\"field\":\"x\"},\"y\":{\"field\":\"y\"}},\"id\":\"8eeab99b-4229-4e72-8da0-bf8d0345279c\",\"type\":\"Patch\"},{\"attributes\":{\"plot\":{\"id\":\"0961ce1c-9b38-4820-a64d-96c3f8b3a045\",\"subtype\":\"Figure\",\"type\":\"Plot\"}},\"id\":\"943723eb-fc9e-4f10-a794-77fca9a0cc8b\",\"type\":\"HelpTool\"},{\"attributes\":{\"data_source\":{\"id\":\"f251cab6-8277-4085-b074-8dff8c2202fe\",\"type\":\"ColumnDataSource\"},\"glyph\":{\"id\":\"c439fb3d-834a-4bb1-a45a-d716f8fab221\",\"type\":\"Line\"},\"hover_glyph\":null,\"nonselection_glyph\":{\"id\":\"4760526c-1e8a-413b-9f76-cf4441f3eee6\",\"type\":\"Line\"},\"selection_glyph\":null},\"id\":\"455fb819-b78e-4f56-a7ac-1ca3cf5257f6\",\"type\":\"GlyphRenderer\"},{\"attributes\":{\"callback\":null,\"column_names\":[\"x\",\"y\"],\"data\":{\"x\":[0,10000,20000,30000,40000,50000,60000,70000,80000,90000,100000,110000,120000,130000,140000,150000,160000,170000,180000,190000,200000,210000,220000,230000,240000,250000,260000,270000,280000,290000,300000,310000,320000,330000,340000,350000,360000,370000,380000,390000,400000,410000,420000,430000,440000,450000,460000,470000,480000,490000,500000,510000,520000,530000,540000,550000,560000,570000,580000,590000,600000,610000,620000,630000,640000,650000,660000,670000,680000,690000,700000,710000,720000,730000,740000,750000,760000,770000,780000,790000,800000,810000,820000,830000,840000,850000,860000,870000,880000,890000,900000,910000,920000,930000,940000,950000,960000,970000,980000,990000],\"y\":{\"__ndarray__\":\"AAAAAAAAAAC6OL3A6MLmvzY9pPkKi9y/RSYolGhS479z7EGe5dnov97e+lFqt+W/KvU6Clyu678J20/G+DDjvxExZ6kFtuG/cEG2LF+X6b/GOWAVfIrkvwnbT8b4MOO/CdtPxvgw478K20/G+DDjv4jHF0Xl+OG/CttPxvgw478DMxuxF3vLv2138ZZwieG/RenSvySV2b/NTMEaZ9MxPwaj8g1+Tqs/vr9+yUj6xT8SuNl0ChXGv+1JYHMOntk/SE/BGmfTMT9b54isv2d3P3IlI6L3MMM/QPomTYOiyT8GE4QT8mPiP7apExclv9g/7Ulgcw6e2T+T5KElUFHoPzkLDfrcB/E/natn1LFG5z+cp5ryIzHgP9lB5al8K+Q/Lk8ZKVYX7T+OCRnbIr/0P9Ktzi6Mrfc/8jx2/2qd9z/Au/2hSRvwP1rn50Lx4+8/ZlK3suCE8T8Tf0Xbgf32P/oyY798NOo/byOzX1bG9T/dUVQ8kfL2P6PzuG0aLPY/NmVNn9Wf9j8iCcnYP/j1P31to4D93vw/47he4Mdb/T/Y0lWBDOD4P9Yip18jUvk/Rcj7IY28+D/TLI8x7Kf3P5sgRi0iCP4/ittE+6cx+j/di+gunPf/P4DsBwPt8fs/WGGJtnLR+D/6deBJhmb/P6/e5432FPk/ErkbnJBM/D/25xXGM0/8P/JPDL3TTvw/CsFf4EUK+j/61YezcBz5P8mCmh3NJfg/YqjD6O7k+T82a362/lj8P9LAcicAtvs/hNNA8Zwj+T+aaOfpmTD7P90HCRKDHfk/omlYSjE29j/L86/xpCf5P8a/jiqxI/k/nr+IrlUj+T/QXrmXmCb5P75lQGXIBPk/0F/ZiiMk+T/uTiShfiH5P+3tSkAAoPk/JlLcOsUL+T/ANsNsSBT6P8gz64fh6/g/U2WMBikg+T+NhzJj4Fj8P+aKe8oMtfk/Le0kanYK+T/nWXCnXSP5P6YgNWgkXPw/xm+JKcDz+D8AqS9QZuX1P7jbuLtBlPc/nmXXPzqu9j+6MEDtcFT5PxYgsFdRKPk/sVJzDAPy9T8=\",\"dtype\":\"float64\",\"shape\":[100]}}},\"id\":\"f251cab6-8277-4085-b074-8dff8c2202fe\",\"type\":\"ColumnDataSource\"},{\"attributes\":{\"line_alpha\":{\"value\":0.1},\"line_color\":{\"value\":\"#1f77b4\"},\"line_width\":{\"value\":2},\"x\":{\"field\":\"x\"},\"y\":{\"field\":\"y\"}},\"id\":\"4760526c-1e8a-413b-9f76-cf4441f3eee6\",\"type\":\"Line\"},{\"attributes\":{\"line_color\":{\"value\":\"#984ea3\"},\"line_width\":{\"value\":2},\"x\":{\"field\":\"x\"},\"y\":{\"field\":\"y\"}},\"id\":\"c439fb3d-834a-4bb1-a45a-d716f8fab221\",\"type\":\"Line\"},{\"attributes\":{\"callback\":null,\"column_names\":[\"x\",\"y\"],\"data\":{\"x\":[0,10000,20000,30000,40000,50000,60000,70000,80000,90000,100000,110000,120000,130000,140000,150000,160000,170000,180000,190000,200000,210000,220000,230000,240000,250000,260000,270000,280000,290000,300000,310000,320000,330000,340000,350000,360000,370000,380000,390000,400000,410000,420000,430000,440000,450000,460000,470000,480000,490000,500000,510000,520000,530000,540000,550000,560000,570000,580000,590000,600000,610000,620000,630000,640000,650000,660000,670000,680000,690000,700000,710000,720000,730000,740000,750000,760000,770000,780000,790000,800000,810000,820000,830000,840000,850000,860000,870000,880000,890000,900000,910000,920000,930000,940000,950000,960000,970000,980000,990000,990000,980000,970000,960000,950000,940000,930000,920000,910000,900000,890000,880000,870000,860000,850000,840000,830000,820000,810000,800000,790000,780000,770000,760000,750000,740000,730000,720000,710000,700000,690000,680000,670000,660000,650000,640000,630000,620000,610000,600000,590000,580000,570000,560000,550000,540000,530000,520000,510000,500000,490000,480000,470000,460000,450000,440000,430000,420000,410000,400000,390000,380000,370000,360000,350000,340000,330000,320000,310000,300000,290000,280000,270000,260000,250000,240000,230000,220000,210000,200000,190000,180000,170000,160000,150000,140000,130000,120000,110000,100000,90000,80000,70000,60000,50000,40000,30000,20000,10000,0],\"y\":{\"__ndarray__\":\"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\",\"dtype\":\"float64\",\"shape\":[200]}}},\"id\":\"bbd8334d-e04e-4ca3-bb36-a8ec062b53ee\",\"type\":\"ColumnDataSource\"},{\"attributes\":{\"data_source\":{\"id\":\"bbd8334d-e04e-4ca3-bb36-a8ec062b53ee\",\"type\":\"ColumnDataSource\"},\"glyph\":{\"id\":\"8eeab99b-4229-4e72-8da0-bf8d0345279c\",\"type\":\"Patch\"},\"hover_glyph\":null,\"nonselection_glyph\":{\"id\":\"d1ed92c2-aa47-468d-ae51-2193bfff0e85\",\"type\":\"Patch\"},\"selection_glyph\":null},\"id\":\"14ce7207-d4be-4343-a05e-2bb61841fd26\",\"type\":\"GlyphRenderer\"},{\"attributes\":{\"fill_alpha\":{\"value\":0.1},\"fill_color\":{\"value\":\"#1f77b4\"},\"line_alpha\":{\"value\":0.1},\"line_color\":{\"value\":\"#1f77b4\"},\"x\":{\"field\":\"x\"},\"y\":{\"field\":\"y\"}},\"id\":\"d1ed92c2-aa47-468d-ae51-2193bfff0e85\",\"type\":\"Patch\"},{\"attributes\":{\"fill_alpha\":{\"value\":0.1},\"fill_color\":{\"value\":\"#ff7f00\"},\"line_alpha\":{\"value\":0.1},\"line_color\":{\"value\":\"#ff7f00\"},\"x\":{\"field\":\"x\"},\"y\":{\"field\":\"y\"}},\"id\":\"f7a9c008-bff0-49b5-92c1-38823f7fa432\",\"type\":\"Patch\"},{\"attributes\":{\"fill_alpha\":{\"value\":0.1},\"fill_color\":{\"value\":\"#1f77b4\"},\"line_alpha\":{\"value\":0.1},\"line_color\":{\"value\":\"#1f77b4\"},\"x\":{\"field\":\"x\"},\"y\":{\"field\":\"y\"}},\"id\":\"0c58ea50-2515-41e1-afe9-70c08f5bd7bb\",\"type\":\"Patch\"},{\"attributes\":{\"data_source\":{\"id\":\"034128a8-6a8a-4b8f-bcf6-b5bca104fdc9\",\"type\":\"ColumnDataSource\"},\"glyph\":{\"id\":\"d9bde7e7-8258-45a3-89ef-98ef91f40900\",\"type\":\"Line\"},\"hover_glyph\":null,\"nonselection_glyph\":{\"id\":\"28df2a07-bc90-460f-8a8b-8ffb2e2d7118\",\"type\":\"Line\"},\"selection_glyph\":null},\"id\":\"12c2109c-4b7a-43f7-8221-7c1032c17623\",\"type\":\"GlyphRenderer\"},{\"attributes\":{\"label\":{\"value\":\"Count_Conv_False_Epsilon\"},\"renderers\":[{\"id\":\"a8866870-4a8a-4eb8-917f-e28fe9fb5f72\",\"type\":\"GlyphRenderer\"}]},\"id\":\"de2f7e57-8a1e-4f53-af5a-97ac9d41dfda\",\"type\":\"LegendItem\"},{\"attributes\":{\"callback\":null,\"column_names\":[\"x\",\"y\"],\"data\":{\"x\":[0,10000,20000,30000,40000,50000,60000,70000,80000,90000,100000,110000,120000,130000,140000,150000,160000,170000,180000,190000,200000,210000,220000,230000,240000,250000,260000,270000,280000,290000,300000,310000,320000,330000,340000,350000,360000,370000,380000,390000,400000,410000,420000,430000,440000,450000,460000,470000,480000,490000,500000,510000,520000,530000,540000,550000,560000,570000,580000,590000,600000,610000,620000,630000,640000,650000,660000,670000,680000,690000,700000,710000,720000,730000,740000,750000,760000,770000,780000,790000,800000,810000,820000,830000,840000,850000,860000,870000,880000,890000,900000,910000,920000,930000,940000,950000,960000,970000,980000,990000],\"y\":{\"__ndarray__\":\"AAAAAAAAAADWpxyTxf3vv77jSDJvBea/IoDqAudd5L8+k7vcFxDbv8Y5YBV8iuS/to0xT2KA57/G/ApBOM3av3eXzQ9sHOi/q4yO+s646b+QHS8o8n3gv1Pxj37qJ+m/1qcck8X9778QcPZlYibbv8vk64YCzeO/CttPxvgw478mkXUz8YDfvwwiFmEURta/MxY09+Ma2r+iECSJJ53Qv/A4DOavkMm//VaudpJw0L/AASnt3ZWbv1gbphoS/c0/FUzBGmfTMT9eUjWcW97Iv3AlI6L3MMM/Uw1yRq1m2j/ylHmywePXP6ppRD8P0ek/pkFVa7rl6z+72jA35YfPP1seJV60j+M/VWzlmTfE6D9afZ5Lo1nuP4uuyBrdM/Y/lo8r6lXD9T/V4/HCBHfyP4OazGALPfY/qVR8UFcs9j/S7o1aBhX2P7busLIP3vo/Srlo0eUV9D+U9+hmk5bpPwCKrOVpePY/g19U6dq++z/C5Le+OZD3P3XvApAEdfc/0IYEfcot+j9mYuF8z676PwZUt5N+CPw/tUrZbzYg9z/+Jxws6DEAQFucsS0bowBADfRnXa4U/z9bMl46NlQCQJUF4PKHtgBAis7J+bOtAkC7H2dJ+34BQFO6q+rT6wBAIBTRNtmtAkCWTxr6l6sCQJO93vitKQVAfIcifKrqAUDW5c6G18ICQIuSpeT80AJAw88Oj4xzA0D0fm6eMmsEQD4Mf4XFHwNA/OSvpvfVAkAqq3URZt0CQPmc5V7k5AJAs1SzEypsAkCfGFAB3EwBQGOu5QvPVP8/pYgL2mMOA0AFXcpPLer/P+sliM/SMQFAKl+kDGu6AkDyJBXKzN4CQFwVW51U4AJAZ1ir/ZWdAUDy6VCJGUsBQOGR1vMa4gJAm/QWZQwyAUALoZ/77EgBQLLObaUOwQJAzrx8uchEAUCjpowG9Yb/P37iR7KD0QJAyTOU3sagAkAYwt6HafEBQCM7LG9GfQFAJsn5CL7DAkAlcSE+QX/6PwvGGIWa1/o/CX4WXtwPAUBOVgTgGnYCQGXJDU60sP8/7b8ijjon+T8=\",\"dtype\":\"float64\",\"shape\":[100]}}},\"id\":\"eff63ea3-1cad-4600-9671-eb4e7793e68f\",\"type\":\"ColumnDataSource\"},{\"attributes\":{\"line_alpha\":{\"value\":0.1},\"line_color\":{\"value\":\"#1f77b4\"},\"line_width\":{\"value\":2},\"x\":{\"field\":\"x\"},\"y\":{\"field\":\"y\"}},\"id\":\"28df2a07-bc90-460f-8a8b-8ffb2e2d7118\",\"type\":\"Line\"},{\"attributes\":{\"line_color\":{\"value\":\"#377eb8\"},\"line_width\":{\"value\":2},\"x\":{\"field\":\"x\"},\"y\":{\"field\":\"y\"}},\"id\":\"17ba74af-914b-4484-9465-3d14f758f87b\",\"type\":\"Line\"},{\"attributes\":{\"callback\":null,\"column_names\":[\"x\",\"y\"],\"data\":{\"x\":[0,10000,20000,30000,40000,50000,60000,70000,80000,90000,100000,110000,120000,130000,140000,150000,160000,170000,180000,190000,200000,210000,220000,230000,240000,250000,260000,270000,280000,290000,300000,310000,320000,330000,340000,350000,360000,370000,380000,390000,400000,410000,420000,430000,440000,450000,460000,470000,480000,490000,500000,510000,520000,530000,540000,550000,560000,570000,580000,590000,600000,610000,620000,630000,640000,650000,660000,670000,680000,690000,700000,710000,720000,730000,740000,750000,760000,770000,780000,790000,800000,810000,820000,830000,840000,850000,860000,870000,880000,890000,900000,910000,920000,930000,940000,950000,960000,970000,980000,990000],\"y\":{\"__ndarray__\":\"AAAAAAAAAAC6OL3A6MLmv1TSVlqCXOC/RenSvySV2b9G6dK/JJXZv97e+lFqt+W/wo7Uo/VH5b+OPGhMWknpv+2pYjzsjOu/nuiWEnRT5r9wQbYsX5fpvyQrdnRtoOO/Y0AT2MvP67/WpxyTxf3vv683GmxV++i/iOZQaU3E6r9+7eTyeKHmv9PdV/3W7+e/M/bdXu916b9NWCbR8/PGv/I4DOavkMm/A8z+fQfB17+C+MFqOKvCPyVLzAxiRdS//ZZap3u6wb/yOAzmr5DJv6LQ2d2Hoqm/SE/BGmfTMT89rEZINcLEP5DcZYN8Wtc/7Ulgcw6e2T9SyEJ7XKXeP0v5juNpEYY/vTDQ02it1z+VCw1kYm/TP8ZbP9Pkus8/QPomTYOiyT+bEHzmppHBP3Jlz9LgetQ/IxDaOHFJvD+2ixFpLLrpP3rT/0MBBNI/O5uMSPzF2z/KnOoPlZPlP//9xRfnTNA/LvojQtCt3D9C+iZNg6LJP3rZ0TVSTeM/k7yDX9nUzj+gdLYmJVPgPyaLx3qmZ8A/z9LJwnK+1j/G2QJ2PT/oPwUknw6QSOU/qqmNNh7R4j+AufBx6TbnP6FaEehipdg/diNPLLls3D9TVIU/MHvoPwvxazHTn+4/M+I8QcYf7T9uaNFfqD3vP5LD8lv3vu0//TKwKtiO5T+9MuWM/HjiP+70IGPlju8/WzgPX59/5T/6H+xgUN3pPywETiCOWOc/Ny/+/vxQ2T9c3oZslIPkP71AphL74eI/4okIiSAF2j+vcQ+HLv3YP5SSZnSIANk/7rAvhlei4D9GSSNRiuPiP2HcqCYs5uI/JwR7XLTk4j9uzkdntmbkPxrefwsb5OI/BvkDLH3j4j96eRpmFVLgP7aZSdut+9g/dqb+el7n4j+qdEhNykrpP7KUtFWtTuk/K+3DMBZM6T+DTpfmk/DtP0YQyo2LL+k/fSjx4cHo4j+glyGx0DLrPxDQHIG/s+8/uAJDiMmT7j+Gl5nR+f7uP0vBVNcm5eI/tuCG2cQS8D94+MkR5qbsP97aaDXyt+k/5cJBu67S7D8=\",\"dtype\":\"float64\",\"shape\":[100]}}},\"id\":\"f1c8a6d4-20c5-4e29-b9e4-5632f8244dd9\",\"type\":\"ColumnDataSource\"},{\"attributes\":{\"plot\":null,\"text\":\"\"},\"id\":\"84df48d8-e0d8-4382-a445-4db1a2839510\",\"type\":\"Title\"},{\"attributes\":{\"callback\":null,\"column_names\":[\"x\",\"y\"],\"data\":{\"x\":[0,10000,20000,30000,40000,50000,60000,70000,80000,90000,100000,110000,120000,130000,140000,150000,160000,170000,180000,190000,200000,210000,220000,230000,240000,250000,260000,270000,280000,290000,300000,310000,320000,330000,340000,350000,360000,370000,380000,390000,400000,410000,420000,430000,440000,450000,460000,470000,480000,490000,500000,510000,520000,530000,540000,550000,560000,570000,580000,590000,600000,610000,620000,630000,640000,650000,660000,670000,680000,690000,700000,710000,720000,730000,740000,750000,760000,770000,780000,790000,800000,810000,820000,830000,840000,850000,860000,870000,880000,890000,900000,910000,920000,930000,940000,950000,960000,970000,980000,990000,990000,980000,970000,960000,950000,940000,930000,920000,910000,900000,890000,880000,870000,860000,850000,840000,830000,820000,810000,800000,790000,780000,770000,760000,750000,740000,730000,720000,710000,700000,690000,680000,670000,660000,650000,640000,630000,620000,610000,600000,590000,580000,570000,560000,550000,540000,530000,520000,510000,500000,490000,480000,470000,460000,450000,440000,430000,420000,410000,400000,390000,380000,370000,360000,350000,340000,330000,320000,310000,300000,290000,280000,270000,260000,250000,240000,230000,220000,210000,200000,190000,180000,170000,160000,150000,140000,130000,120000,110000,100000,90000,80000,70000,60000,50000,40000,30000,20000,10000,0],\"y\":{\"__ndarray__\":\"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\",\"dtype\":\"float64\",\"shape\":[200]}}},\"id\":\"95b2a95c-444b-4363-990a-e7427d71a718\",\"type\":\"ColumnDataSource\"},{\"attributes\":{\"fill_alpha\":{\"value\":0.1},\"fill_color\":{\"value\":\"#1f77b4\"},\"line_alpha\":{\"value\":0.1},\"line_color\":{\"value\":\"#1f77b4\"},\"x\":{\"field\":\"x\"},\"y\":{\"field\":\"y\"}},\"id\":\"44e73aaa-8ca1-4ace-befb-9203b7faa09a\",\"type\":\"Patch\"},{\"attributes\":{\"fill_alpha\":{\"value\":0.1},\"fill_color\":{\"value\":\"#1f77b4\"},\"line_alpha\":{\"value\":0.1},\"line_color\":{\"value\":\"#1f77b4\"},\"x\":{\"field\":\"x\"},\"y\":{\"field\":\"y\"}},\"id\":\"e58169df-85e9-4163-bc98-46fee9a4d788\",\"type\":\"Patch\"},{\"attributes\":{},\"id\":\"196ab8ab-a355-4f74-9123-8d7b3ad8905c\",\"type\":\"BasicTickFormatter\"},{\"attributes\":{\"data_source\":{\"id\":\"f1c8a6d4-20c5-4e29-b9e4-5632f8244dd9\",\"type\":\"ColumnDataSource\"},\"glyph\":{\"id\":\"0baa86b6-1db9-4f84-8466-6f82de9ce338\",\"type\":\"Line\"},\"hover_glyph\":null,\"nonselection_glyph\":{\"id\":\"6f332757-41c9-4adf-9f25-ba4ea3b32704\",\"type\":\"Line\"},\"selection_glyph\":null},\"id\":\"56ebf63b-38b5-47d8-bed7-d39ecdc15a5d\",\"type\":\"GlyphRenderer\"},{\"attributes\":{\"line_alpha\":{\"value\":0.1},\"line_color\":{\"value\":\"#1f77b4\"},\"line_width\":{\"value\":2},\"x\":{\"field\":\"x\"},\"y\":{\"field\":\"y\"}},\"id\":\"5d1744c7-edda-4738-85b2-c13eccbd3374\",\"type\":\"Line\"},{\"attributes\":{\"data_source\":{\"id\":\"95b2a95c-444b-4363-990a-e7427d71a718\",\"type\":\"ColumnDataSource\"},\"glyph\":{\"id\":\"bc2c4668-ae25-427b-9687-335e7d3c4296\",\"type\":\"Patch\"},\"hover_glyph\":null,\"nonselection_glyph\":{\"id\":\"e58169df-85e9-4163-bc98-46fee9a4d788\",\"type\":\"Patch\"},\"selection_glyph\":null},\"id\":\"ed198edb-65f2-454b-8f72-f6efdf8a99a1\",\"type\":\"GlyphRenderer\"},{\"attributes\":{\"line_alpha\":{\"value\":0.1},\"line_color\":{\"value\":\"#1f77b4\"},\"line_width\":{\"value\":2},\"x\":{\"field\":\"x\"},\"y\":{\"field\":\"y\"}},\"id\":\"6f332757-41c9-4adf-9f25-ba4ea3b32704\",\"type\":\"Line\"},{\"attributes\":{\"fill_alpha\":{\"value\":0.1},\"fill_color\":{\"value\":\"#4daf4a\"},\"line_alpha\":{\"value\":0.1},\"line_color\":{\"value\":\"#4daf4a\"},\"x\":{\"field\":\"x\"},\"y\":{\"field\":\"y\"}},\"id\":\"8f7c340c-94bb-477a-9b7e-1d226d486505\",\"type\":\"Patch\"},{\"attributes\":{\"fill_alpha\":{\"value\":0.1},\"fill_color\":{\"value\":\"#377eb8\"},\"line_alpha\":{\"value\":0.1},\"line_color\":{\"value\":\"#377eb8\"},\"x\":{\"field\":\"x\"},\"y\":{\"field\":\"y\"}},\"id\":\"bc2c4668-ae25-427b-9687-335e7d3c4296\",\"type\":\"Patch\"},{\"attributes\":{\"line_color\":{\"value\":\"#e41a1c\"},\"line_width\":{\"value\":2},\"x\":{\"field\":\"x\"},\"y\":{\"field\":\"y\"}},\"id\":\"0baa86b6-1db9-4f84-8466-6f82de9ce338\",\"type\":\"Line\"},{\"attributes\":{\"data_source\":{\"id\":\"6dee9421-6ea4-481d-9e81-967c0c6afd3e\",\"type\":\"ColumnDataSource\"},\"glyph\":{\"id\":\"8f7c340c-94bb-477a-9b7e-1d226d486505\",\"type\":\"Patch\"},\"hover_glyph\":null,\"nonselection_glyph\":{\"id\":\"0c58ea50-2515-41e1-afe9-70c08f5bd7bb\",\"type\":\"Patch\"},\"selection_glyph\":null},\"id\":\"a4c47064-570a-4809-ab49-78134ad27d0b\",\"type\":\"GlyphRenderer\"},{\"attributes\":{\"callback\":null,\"column_names\":[\"x\",\"y\"],\"data\":{\"x\":[0,10000,20000,30000,40000,50000,60000,70000,80000,90000,100000,110000,120000,130000,140000,150000,160000,170000,180000,190000,200000,210000,220000,230000,240000,250000,260000,270000,280000,290000,300000,310000,320000,330000,340000,350000,360000,370000,380000,390000,400000,410000,420000,430000,440000,450000,460000,470000,480000,490000,500000,510000,520000,530000,540000,550000,560000,570000,580000,590000,600000,610000,620000,630000,640000,650000,660000,670000,680000,690000,700000,710000,720000,730000,740000,750000,760000,770000,780000,790000,800000,810000,820000,830000,840000,850000,860000,870000,880000,890000,900000,910000,920000,930000,940000,950000,960000,970000,980000,990000],\"y\":{\"__ndarray__\":\"AAAAAAAAAABwQbYsX5fpvyVKr5jVa+y/+k1aJEfy7r8GMMRUcu7jvwKkcQdUd+2/to0xT2KA57/VpxyTxf3vv2jrnklSEuu/zY93+IgP478K20/G+DDjv1Pxj37qJ+m/YhrASTE50b8iZAg7JB/Dv643GmxV++i/CttPxvgw479tvrcxjJ7Uv2x38ZZwieG/vn+DWwTY2b9G6dK/JJXZv0Xp0r8kldm/ROnSvySV2b8K20/G+DDjv2aH2XLn5N6/dnBdDUWs5b+FH+MvBEPKv9bljtuVlOG/fVFbjIj2t79G6dK/JJXZv6ZlaONB1ZG/5lRozWvh1L+aUcEaZ9MxP/M4DOavkMm/qmzpJH87vr8AUMEaZ9MxP5pRwRpn0zE/AFDBGmfTMT8mi8d6pmfAP/Pf1EmplL6/P/eAs4I957+nnv/7uZ/BP/I4DOavkMm/68O73jpAwr9eNzSPMyviv5uatg0mc+G/6mO5FV1R4L+6WBNZ3WfXv8bc61oNLtq/ph/LG1UwqT9qsINdJwjBv3b0eHykfuK/xoxo492zsr9eWZpyzBDGP05Fijtq+tA/kB/4X1ZTxz8eoiIIhVnYP6OWXlTGt9A/HZ2THHtD4T9N6J2x6Pihv6DaTd5PrNY/mkDRIQOLtD9dQ6NT0s7FP3A2wwesssc/LDMd83WR0T9dbAf19DjIP5MM0r87odo/qkD5lLYIyD+eyzxMRuPgP296PZ/kPdk/Bg9YuRkF2T8KKYJd5l/YP/JYE/at99M/oLhp9QTz1z9m8tWDtKzdP8n7isxqbdU/W1vu9ydr4z/Pfrk90QzoP/tSu30S2uI/NB49fDNO6T+1peDu6OXiP3YxDGC0SeM/O62Q/itW5D+IyfouCuHiP2LPIoafBtA/U5oonaPp4j+H7MRTnj3pP6RMKRSWO+k//i6c8gSg5z8Cbhk+aU3pPyqL+ETUB98/poABVfpX2j+c0mRO0N7mPwCuSDkdXes/EBkkI6GC6D8D4tsgW3DdP/obVpc4kbc/8hAdTtcp1j+GfEx7tQnZPwMFp2Li6eI/AUSwYNHr4j8=\",\"dtype\":\"float64\",\"shape\":[100]}}},\"id\":\"034128a8-6a8a-4b8f-bcf6-b5bca104fdc9\",\"type\":\"ColumnDataSource\"},{\"attributes\":{\"line_color\":{\"value\":\"#ff7f00\"},\"line_width\":{\"value\":2},\"x\":{\"field\":\"x\"},\"y\":{\"field\":\"y\"}},\"id\":\"fa5f9772-6224-4e97-a464-b0603fc92251\",\"type\":\"Line\"},{\"attributes\":{\"label\":{\"value\":\"Count_Conv_True\"},\"renderers\":[{\"id\":\"77fdd7ec-ac7d-4cf0-8bb1-e2843f83d4f2\",\"type\":\"GlyphRenderer\"}]},\"id\":\"1500573a-8ea1-4ae5-9de3-556a9e4ed6b5\",\"type\":\"LegendItem\"},{\"attributes\":{\"fill_alpha\":{\"value\":0.1},\"fill_color\":{\"value\":\"#e41a1c\"},\"line_alpha\":{\"value\":0.1},\"line_color\":{\"value\":\"#e41a1c\"},\"x\":{\"field\":\"x\"},\"y\":{\"field\":\"y\"}},\"id\":\"8d2f855b-da60-49bb-bc3a-8690ad24e5ed\",\"type\":\"Patch\"},{\"attributes\":{\"data_source\":{\"id\":\"e1ff099c-abca-4229-a061-57e4a87e2c92\",\"type\":\"ColumnDataSource\"},\"glyph\":{\"id\":\"f7a9c008-bff0-49b5-92c1-38823f7fa432\",\"type\":\"Patch\"},\"hover_glyph\":null,\"nonselection_glyph\":{\"id\":\"781e6ba2-a32d-431f-bc2b-21d20145ff2a\",\"type\":\"Patch\"},\"selection_glyph\":null},\"id\":\"8afebf11-b0ad-4f83-803a-487091c29367\",\"type\":\"GlyphRenderer\"},{\"attributes\":{\"data_source\":{\"id\":\"d4034b6f-2dee-49dc-8a62-929303501dc1\",\"type\":\"ColumnDataSource\"},\"glyph\":{\"id\":\"fa5f9772-6224-4e97-a464-b0603fc92251\",\"type\":\"Line\"},\"hover_glyph\":null,\"nonselection_glyph\":{\"id\":\"9606a59a-ebf0-402d-a7f8-b52d31afa685\",\"type\":\"Line\"},\"selection_glyph\":null},\"id\":\"a8866870-4a8a-4eb8-917f-e28fe9fb5f72\",\"type\":\"GlyphRenderer\"},{\"attributes\":{\"fill_alpha\":{\"value\":0.1},\"fill_color\":{\"value\":\"#1f77b4\"},\"line_alpha\":{\"value\":0.1},\"line_color\":{\"value\":\"#1f77b4\"},\"x\":{\"field\":\"x\"},\"y\":{\"field\":\"y\"}},\"id\":\"781e6ba2-a32d-431f-bc2b-21d20145ff2a\",\"type\":\"Patch\"},{\"attributes\":{\"callback\":null,\"column_names\":[\"x\",\"y\"],\"data\":{\"x\":[0,10000,20000,30000,40000,50000,60000,70000,80000,90000,100000,110000,120000,130000,140000,150000,160000,170000,180000,190000,200000,210000,220000,230000,240000,250000,260000,270000,280000,290000,300000,310000,320000,330000,340000,350000,360000,370000,380000,390000,400000,410000,420000,430000,440000,450000,460000,470000,480000,490000,500000,510000,520000,530000,540000,550000,560000,570000,580000,590000,600000,610000,620000,630000,640000,650000,660000,670000,680000,690000,700000,710000,720000,730000,740000,750000,760000,770000,780000,790000,800000,810000,820000,830000,840000,850000,860000,870000,880000,890000,900000,910000,920000,930000,940000,950000,960000,970000,980000,990000],\"y\":{\"__ndarray__\":\"AAAAAAAAAABwQbYsX5fpv77jSDJvBea/HfSXtcjm7b/WpxyTxf3vv3BBtixfl+m/w47Uo/VH5b/K5OuGAs3jv3BBtixfl+m/nuiWEnRT5r8K20/G+DDjv29Btixfl+m/MOeMFv4F3r9xIn0I98vgv/ZffOjWAMy/Fp+dRkg7178mkXUz8YDfv/I4DOavkMm/vX+DWwTY2b/KBEIf93HUv1JukYMXL9S/QPomTYOiyT/notckFjLYP2YYeJV35se/hvGitOmW0L8AUMEaZ9MxPxpKh0riKoK/AFDBGmfTMT9ztUtFkV2jv5rSB6B+OtG/Jlrp+NUnzT9ZT2V7WU3XP0bp0r8kldm/PPbvyqRE5796QEkc7Dvlv2Qe4BM+f9W/Zi8vVYBD5b/mfmexwZ7bv/Jj1Lq/CK0/Uuxt840M1D/lIF6VGLvNv/4b1MVLDtK/axl9vNBtyr8694hqXsfSP/I4DOavkMm/kDuaFSlIvD9Z5/iePt7QvwmTQ1sSYMK/QvomTYOiyT+fwRp2cbLWP3uad+Yoz9Q/PrZX7hTG4D/AiNpzDIDGP5N23GpLWsc/wmB2783r1z/V75w9GPvPP+IofFTUxNE/WfB2oIWY4j+7npeJp9bhPyPh2SDazOI/ZjFWQEaz2D9mupJTGgvZP5oKhKQFE+M/OIAW54XT6z/dR8PeekvjP/xqHeVAKOY/NQSdnOPUzz/YHhpwEqLtP/ZM2jFNkdg/idH9T94B2T+KKA3/PDHcP5MKFhDDiuo/kA0UErXn2T8k6PVmjFjJPzWeTdvOfOc/lYpER1uM3j8i6995GePiP/uRLHHO6uM/vg+mtqqUwT+OEKPUEHTZP9iPAMLpsuk/tmhKIILw2D+t6A1hx3rlP9mIRXnvzeE/ZjiAoN015D+WmFURdovbP0L2eV5mst4/2hkRDdvx5D/uhGGLL87lPxVBOw3DMuc/JY1kki+N6D8CT1wqVbfrP4amDbGKS8w/cTiQYi4C5T88nPAAxZzjP9BphFKGWt8/8K20cTCz3z/aj62gK6rrP9nn/M1HveA/ALEA/HxA5z8=\",\"dtype\":\"float64\",\"shape\":[100]}}},\"id\":\"d4034b6f-2dee-49dc-8a62-929303501dc1\",\"type\":\"ColumnDataSource\"},{\"attributes\":{\"line_alpha\":{\"value\":0.1},\"line_color\":{\"value\":\"#1f77b4\"},\"line_width\":{\"value\":2},\"x\":{\"field\":\"x\"},\"y\":{\"field\":\"y\"}},\"id\":\"9606a59a-ebf0-402d-a7f8-b52d31afa685\",\"type\":\"Line\"},{\"attributes\":{\"callback\":null,\"column_names\":[\"x\",\"y\"],\"data\":{\"x\":[0,10000,20000,30000,40000,50000,60000,70000,80000,90000,100000,110000,120000,130000,140000,150000,160000,170000,180000,190000,200000,210000,220000,230000,240000,250000,260000,270000,280000,290000,300000,310000,320000,330000,340000,350000,360000,370000,380000,390000,400000,410000,420000,430000,440000,450000,460000,470000,480000,490000,500000,510000,520000,530000,540000,550000,560000,570000,580000,590000,600000,610000,620000,630000,640000,650000,660000,670000,680000,690000,700000,710000,720000,730000,740000,750000,760000,770000,780000,790000,800000,810000,820000,830000,840000,850000,860000,870000,880000,890000,900000,910000,920000,930000,940000,950000,960000,970000,980000,990000,990000,980000,970000,960000,950000,940000,930000,920000,910000,900000,890000,880000,870000,860000,850000,840000,830000,820000,810000,800000,790000,780000,770000,760000,750000,740000,730000,720000,710000,700000,690000,680000,670000,660000,650000,640000,630000,620000,610000,600000,590000,580000,570000,560000,550000,540000,530000,520000,510000,500000,490000,480000,470000,460000,450000,440000,430000,420000,410000,400000,390000,380000,370000,360000,350000,340000,330000,320000,310000,300000,290000,280000,270000,260000,250000,240000,230000,220000,210000,200000,190000,180000,170000,160000,150000,140000,130000,120000,110000,100000,90000,80000,70000,60000,50000,40000,30000,20000,10000,0],\"y\":{\"__ndarray__\":\"AAAAAAAAAABQ3SkRaAjxv5K5f7j6sO6/c7CTRnmR6r+CN0pptITpv4I05nyYdfG/NlHkqX3r7r8CuoJHVfnyv5jTQPYnLe+/xSPj7oSp8b8fh8H8FTLzvypJAMOVZPG/owcTp98V8r/WpxyTxf3vv1RKQmctxPK/kjR03p6b8r/V+EJd5ajxv2JC9+RaKvK/tOyUblQZ878JBwGhqnPhvwjbT8b4MOO/EFCgzW2B6r9q8HqEfczLvy4Cw1ACQOe/IkOVLqOg2r8oiJ1wscLivzDMd85EZ+O/e55ha4SH4b884h5kJtrQv3yvPV606LS/eHns5bnxtr/4HmpmVMy+v1ufPVW9O+O/5JOpBQrZtb/3ICHEEK3SvznMXn2MS9u/qg1wB7SJ4b+ojDyRvYjhvypuMqrmSNC/uNVNbWC87r9ApvxV0cfbv7ty4nzNLeu/9meFH96Qyb/GiaZuIkrQv1wOKJR+/MC/IMujUGSupT/0OAzmr5DJvyxtLzOH2Mm/0KCF/BkR0L8GEhcK1PDQv4ZpqcTd/+K/r08sRueW2r9UlF+3vs3BP9RdC5QzdMK/zOq4pBuMuz8w1OzlhTy3P4EGdn/5otu/VCSVWeKq1b8GGps2CLzXv/z/t1lJzs6/EuBlfsoz0780LD+cz1XQv9hRVS0WjNS/haLRbLP/5r8BO9xjNKPnv5CERrOrg7a/e8pdGId/5L8goFogqyfgv/wuUo0BceK/WlUNubxH8b9yl3Pjo3fkv1esxkU7L+e/ppGvehrs8L/vZA6eTG3xv+kyhlfpbfG/bNy/uNpl67+intKoAvTnv1uc8rUE9ue/pfAjA+b057+wJe/wq+Tlv1Amgg5x9Oe/6JgFovjz579CnRm6eeTrvzCqKlsGbfG/9joUc+7257+8Y4E5H6Pgv/QdfQylpeC/za7Clfaj4L+Geg+wx2LUv3CgHhwTvOC/iWGi+U2B7L8kzbq6xlbev/TcZnaIldC/+Bwj+b3L0r9MdFIX5QbSv8cgvm0pf+y/oDHJPBj02b/kb8laL3Dov+rwgUyCPuC/8zwTQjAI6b+vsCVuY6sEQKrp1K2Z6wBANViX335vBEDqBiDhR1EDQNfoGcddkgBATBq3i1nAAUD75EWDXKMBQKZDW8+Q7AFAdCXoL0FkAUChLGFvtJQAQD+w7I3KxgBAkpZN6aKEAUBJotK9CM8AQNaR+e2/0ABARJME9SzOAEDxw4i01eL+Pwx3z0jd6v0/G0gnQ1JE/j96xQZ9ed3+P0LxwJJT3v4/RmG/XwxZ/z96/AxeJ9/+P44qooEu4f4/l5iMpYvd/j8kn4/iRFX+PzN8uZEt7v0/xx2W4ePr/T+Y1jO/qu79P+iWibWYef4/FapAXma//j/2bIw4O/D9P9WNe3OHSABABbiM+JL4AECYHT7rYr//P5yuKg+QewBAPlDTvpZK/j8ggozwWIcAQAQMpHP+cAFAvplwI46pAUAcLWtwXPYAQIV4US7OPAFA1BosTTJq/j/Q2owsFaHzP/Eu5tNvO/M/PeyREyHD9T/9GkJ8XBjxP8CPIIEWl/c/POcWn4UF9j9T/e8y8wTyPxovDQKxM+s/Ijk8KVqP9D+xrgSu+XLnPyDHNxxjiPY/XosWoG014z98vRn96VLrP5YB0LwGjOQ/PD+Uqx2m+T+c+jboGRXxPxojcWDnmPY/o1pIXxBWAEDgLMJdXufyP4ec6CdUn+w/9pR6BJFR6j/KigOu9VruPwAUT6g4g+0/EJwdxurF7D86Y4UUimjqPyUXWqRI7OM/GAYIhHM/8T8c2R2wRXzsP4CSLQ+T9+k/PMcy1i3O4j/PTihF+YvhPxySvNLzMuA/uq5d9mXpxz9LWHUOT8zBP0y4tR8C1bc/XLh/lrtI4D9oIAx9MgO2Pz76Jk2Dosk/iWu34cLmxz/6JSTBa3LZv8VtgmHwFde/pNKHVk7i07/rY7kVXVHgv221XxOg3Ni/1qcck8X977+AcQBi2HPjv9APr4u93sG/RenSvySV2b9lE8+OvKfSv0KAhIKw7Oe/LwqWExRA2b+dmIk720jXv3CpUlRHB9G/gMOxiFZwYL/A5RjYkIqfP7BYb+FPQLC/p21NvgLq1r8AAAAAAAAAAA==\",\"dtype\":\"float64\",\"shape\":[200]}}},\"id\":\"751fba2e-4f11-47a6-9a85-c90b3e49358e\",\"type\":\"ColumnDataSource\"}],\"root_ids\":[\"0961ce1c-9b38-4820-a64d-96c3f8b3a045\"]},\"title\":\"Bokeh Application\",\"version\":\"0.12.4\"}};\n",
       "            var render_items = [{\"docid\":\"8bf37ee2-0a58-4e4c-bd7c-9fba98e0cb2a\",\"elementid\":\"fc81071f-253a-43cd-a3da-3ca6ffb55028\",\"modelid\":\"0961ce1c-9b38-4820-a64d-96c3f8b3a045\"}];\n",
       "            \n",
       "            Bokeh.embed.embed_items(docs_json, render_items);\n",
       "          };\n",
       "          if (document.readyState != \"loading\") fn();\n",
       "          else document.addEventListener(\"DOMContentLoaded\", fn);\n",
       "        })();\n",
       "      },\n",
       "      function(Bokeh) {\n",
       "      }\n",
       "    ];\n",
       "  \n",
       "    function run_inline_js() {\n",
       "      \n",
       "      if ((window.Bokeh !== undefined) || (force === true)) {\n",
       "        for (var i = 0; i < inline_js.length; i++) {\n",
       "          inline_js[i](window.Bokeh);\n",
       "        }if (force === true) {\n",
       "          display_loaded();\n",
       "        }} else if (Date.now() < window._bokeh_timeout) {\n",
       "        setTimeout(run_inline_js, 100);\n",
       "      } else if (!window._bokeh_failed_load) {\n",
       "        console.log(\"Bokeh: BokehJS failed to load within specified timeout.\");\n",
       "        window._bokeh_failed_load = true;\n",
       "      } else if (force !== true) {\n",
       "        var cell = $(document.getElementById(\"fc81071f-253a-43cd-a3da-3ca6ffb55028\")).parents('.cell').data().cell;\n",
       "        cell.output_area.append_execute_result(NB_LOAD_WARNING)\n",
       "      }\n",
       "  \n",
       "    }\n",
       "  \n",
       "    if (window._bokeh_is_loading === 0) {\n",
       "      console.log(\"Bokeh: BokehJS loaded, going straight to plotting\");\n",
       "      run_inline_js();\n",
       "    } else {\n",
       "      load_libs(js_urls, function() {\n",
       "        console.log(\"Bokeh: BokehJS plotting callback run at\", now());\n",
       "        run_inline_js();\n",
       "      });\n",
       "    }\n",
       "  }(this));\n",
       "</script>"
      ]
     },
     "metadata": {},
     "output_type": "display_data"
    }
   ],
   "source": [
    "plot_averages_b(names, t_maxs, rainbow_colours, legends, directory=\"/home/tabz/tmp/LogFiles/Maze_5_Logs/\", step=10000)"
   ]
  },
  {
   "cell_type": "code",
   "execution_count": null,
   "metadata": {
    "collapsed": false
   },
   "outputs": [],
   "source": [
    "plot_averages(names, t_maxs, colours, legends, directory=\"/home/tabz/tmp/LogFiles/Maze_4_Logs/\", step=1000)"
   ]
  },
  {
   "cell_type": "code",
   "execution_count": null,
   "metadata": {
    "collapsed": true
   },
   "outputs": [],
   "source": []
  },
  {
   "cell_type": "code",
   "execution_count": null,
   "metadata": {
    "collapsed": true
   },
   "outputs": [],
   "source": []
  },
  {
   "cell_type": "code",
   "execution_count": null,
   "metadata": {
    "collapsed": true
   },
   "outputs": [],
   "source": []
  },
  {
   "cell_type": "code",
   "execution_count": null,
   "metadata": {
    "collapsed": true
   },
   "outputs": [],
   "source": [
    "DQN_Smoothed = []\n",
    "for times, rewards in zip(DQN_Lengths_C, DQN_Rewards):\n",
    "    linear = interp1d(times, rewards, kind=\"linear\")\n",
    "    linear_rewards = linear([i for i in range(500000)])\n",
    "    DQN_Smoothed.append(linear_rewards)"
   ]
  },
  {
   "cell_type": "code",
   "execution_count": null,
   "metadata": {
    "collapsed": true
   },
   "outputs": [],
   "source": [
    "DQN_Means = np.mean(DQN_Smoothed, axis=0)"
   ]
  },
  {
   "cell_type": "code",
   "execution_count": null,
   "metadata": {
    "collapsed": true
   },
   "outputs": [],
   "source": [
    "DQN_Stds = np.std(DQN_Smoothed, axis=0)"
   ]
  },
  {
   "cell_type": "code",
   "execution_count": null,
   "metadata": {
    "collapsed": false
   },
   "outputs": [],
   "source": [
    "plt.fill_between([i for i in range(500000)], DQN_Means - DQN_Stds, DQN_Means + DQN_Stds, color=\"red\", alpha=0.3, edgecolor=\"white\")\n",
    "\n",
    "plt.plot([i for i in range(500000)], DQN_Means, color=\"red\")"
   ]
  },
  {
   "cell_type": "code",
   "execution_count": null,
   "metadata": {
    "collapsed": false
   },
   "outputs": [],
   "source": [
    "len(DQN_Repeat)"
   ]
  },
  {
   "cell_type": "code",
   "execution_count": null,
   "metadata": {
    "collapsed": true
   },
   "outputs": [],
   "source": [
    "plt.plot(DQN)"
   ]
  },
  {
   "cell_type": "code",
   "execution_count": null,
   "metadata": {
    "collapsed": true
   },
   "outputs": [],
   "source": [
    "directories = [\"Logs/\"]"
   ]
  },
  {
   "cell_type": "code",
   "execution_count": null,
   "metadata": {
    "collapsed": false
   },
   "outputs": [],
   "source": [
    "for i in range(0, 10, 2):\n",
    "    print(i)"
   ]
  },
  {
   "cell_type": "code",
   "execution_count": null,
   "metadata": {
    "collapsed": true
   },
   "outputs": [],
   "source": []
  }
 ],
 "metadata": {
  "kernelspec": {
   "display_name": "Python 3",
   "language": "python",
   "name": "python3"
  },
  "language_info": {
   "codemirror_mode": {
    "name": "ipython",
    "version": 3
   },
   "file_extension": ".py",
   "mimetype": "text/x-python",
   "name": "python",
   "nbconvert_exporter": "python",
   "pygments_lexer": "ipython3",
   "version": "3.6.0"
  }
 },
 "nbformat": 4,
 "nbformat_minor": 2
}
