{
 "cells": [
  {
   "cell_type": "code",
   "execution_count": 1,
   "metadata": {
    "collapsed": false,
    "deletable": true,
    "editable": true
   },
   "outputs": [
    {
     "data": {
      "text/html": [
       "\n",
       "    <div class=\"bk-root\">\n",
       "        <a href=\"http://bokeh.pydata.org\" target=\"_blank\" class=\"bk-logo bk-logo-small bk-logo-notebook\"></a>\n",
       "        <span id=\"78c2ac2e-47c3-43d1-a510-ffd681339a2e\">Loading BokehJS ...</span>\n",
       "    </div>"
      ]
     },
     "metadata": {},
     "output_type": "display_data"
    },
    {
     "data": {
      "application/javascript": [
       "\n",
       "(function(global) {\n",
       "  function now() {\n",
       "    return new Date();\n",
       "  }\n",
       "\n",
       "  var force = true;\n",
       "\n",
       "  if (typeof (window._bokeh_onload_callbacks) === \"undefined\" || force === true) {\n",
       "    window._bokeh_onload_callbacks = [];\n",
       "    window._bokeh_is_loading = undefined;\n",
       "  }\n",
       "\n",
       "\n",
       "  \n",
       "  if (typeof (window._bokeh_timeout) === \"undefined\" || force === true) {\n",
       "    window._bokeh_timeout = Date.now() + 5000;\n",
       "    window._bokeh_failed_load = false;\n",
       "  }\n",
       "\n",
       "  var NB_LOAD_WARNING = {'data': {'text/html':\n",
       "     \"<div style='background-color: #fdd'>\\n\"+\n",
       "     \"<p>\\n\"+\n",
       "     \"BokehJS does not appear to have successfully loaded. If loading BokehJS from CDN, this \\n\"+\n",
       "     \"may be due to a slow or bad network connection. Possible fixes:\\n\"+\n",
       "     \"</p>\\n\"+\n",
       "     \"<ul>\\n\"+\n",
       "     \"<li>re-rerun `output_notebook()` to attempt to load from CDN again, or</li>\\n\"+\n",
       "     \"<li>use INLINE resources instead, as so:</li>\\n\"+\n",
       "     \"</ul>\\n\"+\n",
       "     \"<code>\\n\"+\n",
       "     \"from bokeh.resources import INLINE\\n\"+\n",
       "     \"output_notebook(resources=INLINE)\\n\"+\n",
       "     \"</code>\\n\"+\n",
       "     \"</div>\"}};\n",
       "\n",
       "  function display_loaded() {\n",
       "    if (window.Bokeh !== undefined) {\n",
       "      document.getElementById(\"78c2ac2e-47c3-43d1-a510-ffd681339a2e\").textContent = \"BokehJS successfully loaded.\";\n",
       "    } else if (Date.now() < window._bokeh_timeout) {\n",
       "      setTimeout(display_loaded, 100)\n",
       "    }\n",
       "  }\n",
       "\n",
       "  function run_callbacks() {\n",
       "    window._bokeh_onload_callbacks.forEach(function(callback) { callback() });\n",
       "    delete window._bokeh_onload_callbacks\n",
       "    console.info(\"Bokeh: all callbacks have finished\");\n",
       "  }\n",
       "\n",
       "  function load_libs(js_urls, callback) {\n",
       "    window._bokeh_onload_callbacks.push(callback);\n",
       "    if (window._bokeh_is_loading > 0) {\n",
       "      console.log(\"Bokeh: BokehJS is being loaded, scheduling callback at\", now());\n",
       "      return null;\n",
       "    }\n",
       "    if (js_urls == null || js_urls.length === 0) {\n",
       "      run_callbacks();\n",
       "      return null;\n",
       "    }\n",
       "    console.log(\"Bokeh: BokehJS not loaded, scheduling load and callback at\", now());\n",
       "    window._bokeh_is_loading = js_urls.length;\n",
       "    for (var i = 0; i < js_urls.length; i++) {\n",
       "      var url = js_urls[i];\n",
       "      var s = document.createElement('script');\n",
       "      s.src = url;\n",
       "      s.async = false;\n",
       "      s.onreadystatechange = s.onload = function() {\n",
       "        window._bokeh_is_loading--;\n",
       "        if (window._bokeh_is_loading === 0) {\n",
       "          console.log(\"Bokeh: all BokehJS libraries loaded\");\n",
       "          run_callbacks()\n",
       "        }\n",
       "      };\n",
       "      s.onerror = function() {\n",
       "        console.warn(\"failed to load library \" + url);\n",
       "      };\n",
       "      console.log(\"Bokeh: injecting script tag for BokehJS library: \", url);\n",
       "      document.getElementsByTagName(\"head\")[0].appendChild(s);\n",
       "    }\n",
       "  };var element = document.getElementById(\"78c2ac2e-47c3-43d1-a510-ffd681339a2e\");\n",
       "  if (element == null) {\n",
       "    console.log(\"Bokeh: ERROR: autoload.js configured with elementid '78c2ac2e-47c3-43d1-a510-ffd681339a2e' but no matching script tag was found. \")\n",
       "    return false;\n",
       "  }\n",
       "\n",
       "  var js_urls = [\"https://cdn.pydata.org/bokeh/release/bokeh-0.12.4.min.js\", \"https://cdn.pydata.org/bokeh/release/bokeh-widgets-0.12.4.min.js\"];\n",
       "\n",
       "  var inline_js = [\n",
       "    function(Bokeh) {\n",
       "      Bokeh.set_log_level(\"info\");\n",
       "    },\n",
       "    \n",
       "    function(Bokeh) {\n",
       "      \n",
       "      document.getElementById(\"78c2ac2e-47c3-43d1-a510-ffd681339a2e\").textContent = \"BokehJS is loading...\";\n",
       "    },\n",
       "    function(Bokeh) {\n",
       "      console.log(\"Bokeh: injecting CSS: https://cdn.pydata.org/bokeh/release/bokeh-0.12.4.min.css\");\n",
       "      Bokeh.embed.inject_css(\"https://cdn.pydata.org/bokeh/release/bokeh-0.12.4.min.css\");\n",
       "      console.log(\"Bokeh: injecting CSS: https://cdn.pydata.org/bokeh/release/bokeh-widgets-0.12.4.min.css\");\n",
       "      Bokeh.embed.inject_css(\"https://cdn.pydata.org/bokeh/release/bokeh-widgets-0.12.4.min.css\");\n",
       "    }\n",
       "  ];\n",
       "\n",
       "  function run_inline_js() {\n",
       "    \n",
       "    if ((window.Bokeh !== undefined) || (force === true)) {\n",
       "      for (var i = 0; i < inline_js.length; i++) {\n",
       "        inline_js[i](window.Bokeh);\n",
       "      }if (force === true) {\n",
       "        display_loaded();\n",
       "      }} else if (Date.now() < window._bokeh_timeout) {\n",
       "      setTimeout(run_inline_js, 100);\n",
       "    } else if (!window._bokeh_failed_load) {\n",
       "      console.log(\"Bokeh: BokehJS failed to load within specified timeout.\");\n",
       "      window._bokeh_failed_load = true;\n",
       "    } else if (force !== true) {\n",
       "      var cell = $(document.getElementById(\"78c2ac2e-47c3-43d1-a510-ffd681339a2e\")).parents('.cell').data().cell;\n",
       "      cell.output_area.append_execute_result(NB_LOAD_WARNING)\n",
       "    }\n",
       "\n",
       "  }\n",
       "\n",
       "  if (window._bokeh_is_loading === 0) {\n",
       "    console.log(\"Bokeh: BokehJS loaded, going straight to plotting\");\n",
       "    run_inline_js();\n",
       "  } else {\n",
       "    load_libs(js_urls, function() {\n",
       "      console.log(\"Bokeh: BokehJS plotting callback run at\", now());\n",
       "      run_inline_js();\n",
       "    });\n",
       "  }\n",
       "}(this));"
      ]
     },
     "metadata": {},
     "output_type": "display_data"
    }
   ],
   "source": [
    "from bokeh.plotting import figure, output_notebook, show\n",
    "output_notebook()"
   ]
  },
  {
   "cell_type": "code",
   "execution_count": 2,
   "metadata": {
    "collapsed": true,
    "deletable": true,
    "editable": true
   },
   "outputs": [],
   "source": [
    "import glob"
   ]
  },
  {
   "cell_type": "code",
   "execution_count": 3,
   "metadata": {
    "collapsed": true,
    "deletable": true,
    "editable": true
   },
   "outputs": [],
   "source": [
    "import numpy as np"
   ]
  },
  {
   "cell_type": "code",
   "execution_count": 4,
   "metadata": {
    "collapsed": true,
    "deletable": true,
    "editable": true
   },
   "outputs": [],
   "source": [
    "from scipy.interpolate import interp1d\n",
    "from scipy.interpolate import spline"
   ]
  },
  {
   "cell_type": "code",
   "execution_count": 5,
   "metadata": {
    "collapsed": true,
    "deletable": true,
    "editable": true
   },
   "outputs": [],
   "source": [
    "from tqdm import tqdm"
   ]
  },
  {
   "cell_type": "code",
   "execution_count": 6,
   "metadata": {
    "collapsed": true,
    "deletable": true,
    "editable": true
   },
   "outputs": [],
   "source": [
    "DQN_Rewards_Path = \"/home/tabz/Dropbox/RL/Log_Files/March 2017/Maze_5_Batch_Sizes_Logs/*DQN*/logs/Episode_Rewards.txt\"\n",
    "DQN_Lengths_Path = \"/home/tabz/Dropbox/RL/Log_Files/March 2017/Maze_5_Batch_Sizes_Logs/*DQN*/logs/Episode_Lengths.txt\"\n",
    "DQN_Rewards = []\n",
    "DQN_Lengths = []\n",
    "DQN_Lengths_C = []"
   ]
  },
  {
   "cell_type": "code",
   "execution_count": 7,
   "metadata": {
    "collapsed": true,
    "deletable": true,
    "editable": true
   },
   "outputs": [],
   "source": [
    "for filename in glob.glob(DQN_Rewards_Path):\n",
    "    run_logs = [0]\n",
    "#     print(filename)\n",
    "    with open(filename, \"r\") as f:\n",
    "        for line in f:\n",
    "            try:\n",
    "                ep_r = float(line)\n",
    "            except:\n",
    "                continue\n",
    "            run_logs.append(ep_r)\n",
    "    DQN_Rewards.append(run_logs)"
   ]
  },
  {
   "cell_type": "code",
   "execution_count": 8,
   "metadata": {
    "collapsed": true,
    "deletable": true,
    "editable": true
   },
   "outputs": [],
   "source": [
    "for filename in glob.glob(DQN_Lengths_Path):\n",
    "    run_logs = [0]\n",
    "#     print(filename)\n",
    "    with open(filename, \"r\") as f:\n",
    "        for line in f:\n",
    "            try:\n",
    "                ep_r = float(line)\n",
    "            except:\n",
    "                continue\n",
    "            run_logs.append(ep_r)\n",
    "    DQN_Lengths.append(run_logs)\n",
    "    run_logs_c = np.cumsum(run_logs).astype(np.int32)\n",
    "    DQN_Lengths_C.append(run_logs_c)"
   ]
  },
  {
   "cell_type": "markdown",
   "metadata": {
    "collapsed": false,
    "deletable": true,
    "editable": true
   },
   "source": [
    "for lens, runs in zip(DQN_Lengths_C, DQN_Rewards):\n",
    "    plt.plot(lens, runs)\n",
    "plt.show()"
   ]
  },
  {
   "cell_type": "markdown",
   "metadata": {
    "collapsed": false,
    "deletable": true,
    "editable": true
   },
   "source": [
    "p = figure(width=500, height=500, y_range=(-1,3))\n",
    "for lens, runs in zip(DQN_Lengths_C, DQN_Rewards):\n",
    "    p.line(lens, runs)\n",
    "show(p)"
   ]
  },
  {
   "cell_type": "code",
   "execution_count": null,
   "metadata": {
    "collapsed": true,
    "deletable": true,
    "editable": true
   },
   "outputs": [],
   "source": []
  },
  {
   "cell_type": "markdown",
   "metadata": {
    "collapsed": true,
    "deletable": true,
    "editable": true
   },
   "source": [
    "def plot_averages(names, t_maxs, colors, legends=None, directory=\"Logs/\", step=10):\n",
    "    plt.figure(figsize=(10,10))\n",
    "    plt.ylim(-1, 3)\n",
    "    for name, color, t_max in tqdm(zip(names, colors, t_maxs)):\n",
    "        # TODO: Remove DQN from names\n",
    "        DQN_Rewards_Path = directory + \"*\" + name + \"*/logs/Episode_Rewards.txt\"\n",
    "        DQN_Lengths_Path = directory + \"*\" + name + \"*/logs/Episode_Lengths.txt\"\n",
    "        DQN_Rewards = []\n",
    "        DQN_Lengths = []\n",
    "        DQN_Lengths_C = []\n",
    "        for filename in glob.glob(DQN_Rewards_Path):\n",
    "            run_logs = [0]\n",
    "            with open(filename, \"r\") as f:\n",
    "                for line in f:\n",
    "                    try:\n",
    "                        ep_r = float(line)\n",
    "                    except:\n",
    "                        continue\n",
    "                    run_logs.append(ep_r)\n",
    "            DQN_Rewards.append(run_logs)\n",
    "        for filename in glob.glob(DQN_Lengths_Path):\n",
    "            run_logs = [0]\n",
    "        #     print(filename)\n",
    "            with open(filename, \"r\") as f:\n",
    "                for line in f:\n",
    "                    try:\n",
    "                        ep_r = float(line)\n",
    "                    except:\n",
    "                        continue\n",
    "                    run_logs.append(ep_r)\n",
    "            DQN_Lengths.append(run_logs)\n",
    "            run_logs_c = np.cumsum(run_logs).astype(np.int32)\n",
    "            DQN_Lengths_C.append(run_logs_c)\n",
    "        DQN_Smoothed = []\n",
    "        for times, rewards in zip(DQN_Lengths_C, DQN_Rewards):\n",
    "#             linear = interp1d(times, rewards, kind=\"linear\")\n",
    "#             linear_rewards = linear([i for i in range(500000)])\n",
    "#             DQN_Smoothed.append(linear_rewards)\n",
    "            spline_rewards = spline(times, rewards, [i for i in range(0, t_max, step)])\n",
    "            DQN_Smoothed.append(spline_rewards)\n",
    "        DQN_Means = np.mean(DQN_Smoothed, axis=0)\n",
    "        DQN_Stds = np.std(DQN_Smoothed, axis=0)\n",
    "        plt.fill_between([i for i in range(0, t_max, step)], DQN_Means - DQN_Stds, DQN_Means + DQN_Stds, color=color, alpha=0.2, edgecolor=\"white\")\n",
    "\n",
    "        plt.plot([i for i in range(0, t_max, step)], DQN_Means, color=color)\n",
    "\n",
    "    plt.title(\"Episode_Reward\")\n",
    "    plt.xlabel(\"T\")\n",
    "    plt.ylabel(\"Reward\")\n",
    "    if legends is not None:\n",
    "        plt.legend(legends, bbox_to_anchor=(1.05, 1), loc=2)\n",
    "    plt.show()"
   ]
  },
  {
   "cell_type": "code",
   "execution_count": 9,
   "metadata": {
    "collapsed": true,
    "deletable": true,
    "editable": true
   },
   "outputs": [],
   "source": [
    "from bokeh.models import Legend\n",
    "from bokeh.models.formatters import BasicTickFormatter\n",
    "from bokeh.models import HoverTool, TapTool"
   ]
  },
  {
   "cell_type": "code",
   "execution_count": 53,
   "metadata": {
    "collapsed": false,
    "deletable": true,
    "editable": true
   },
   "outputs": [],
   "source": [
    "def plot_averages_b(names, t_maxs, colors, legends, directories=\"Logs/\", step=10, title=\"\", min_max=True):\n",
    "#     plt.figure(figsize=(10,10))\n",
    "    p = figure(width=1200, height=800, y_range=(-0.1, 1.1), title=title)\n",
    "    p.toolbar_location = \"above\"\n",
    "    p.yaxis.axis_label = \"Episode Reward\"\n",
    "    p.xaxis.axis_label = \"T\"\n",
    "    p.xaxis.formatter = BasicTickFormatter(use_scientific=False)\n",
    "#     p = figure(width=800, height=500)\n",
    "    lines = []\n",
    "    alpha_lines = []\n",
    "    if isinstance(directories, str):\n",
    "        dd = directories\n",
    "        directories = [dd for _ in names]\n",
    "    for name, color, t_max, legend, directory in zip(names, colors, t_maxs, legends, directories):\n",
    "#         print(directory)\n",
    "        DQN_Rewards_Path = directory + \"*\" + name + \"*/logs/Episode_Rewards.txt\"\n",
    "        DQN_Lengths_Path = directory + \"*\" + name + \"*/logs/Episode_Lengths.txt\"\n",
    "        DQN_Rewards = []\n",
    "        DQN_Lengths = []\n",
    "        DQN_Lengths_C = []\n",
    "        for filename in glob.glob(DQN_Rewards_Path):\n",
    "            run_logs = [0]\n",
    "            with open(filename, \"r\") as f:\n",
    "#                 print(f)\n",
    "                for line in f:\n",
    "                    try:\n",
    "                        ep_r = float(line)\n",
    "                    except:\n",
    "                        print(\"Nothing here for:\", filename)\n",
    "                        continue\n",
    "                    run_logs.append(ep_r)\n",
    "            DQN_Rewards.append(run_logs)\n",
    "        for filename in glob.glob(DQN_Lengths_Path):\n",
    "            run_logs = [0]\n",
    "        #     print(filename)\n",
    "            with open(filename, \"r\") as f:\n",
    "                for line in f:\n",
    "                    try:\n",
    "                        ep_r = float(line)\n",
    "                    except:\n",
    "                        continue\n",
    "                    run_logs.append(ep_r)\n",
    "            DQN_Lengths.append(run_logs)\n",
    "            run_logs_c = np.cumsum(run_logs).astype(np.int32)\n",
    "            DQN_Lengths_C.append(run_logs_c)\n",
    "        DQN_Smoothed = []\n",
    "        for times, rewards in zip(DQN_Lengths_C, DQN_Rewards):\n",
    "#             linear = interp1d(times, rewards, kind=\"linear\")\n",
    "#             linear_rewards = linear([i for i in range(500000)])\n",
    "#             DQN_Smoothed.append(linear_rewards)\n",
    "            spline_rewards = spline(times, rewards, [i for i in range(0, t_max, step)], order=1)\n",
    "            DQN_Smoothed.append(spline_rewards)\n",
    "        DQN_Means = np.mean(DQN_Smoothed, axis=0)\n",
    "        DQN_Stds = np.std(DQN_Smoothed, axis=0)\n",
    "        \n",
    "        if min_max:\n",
    "    #         plt.fill_between([i for i in range(0, t_max, step)], DQN_Means - DQN_Stds, DQN_Means + DQN_Stds, color=color, alpha=0.2, edgecolor=\"white\")\n",
    "            # Error bars\n",
    "            xs = [i for i in range(0, t_max, step)]\n",
    "            xs = xs + list(reversed(xs))\n",
    "    #         ys = np.concatenate([DQN_Means - DQN_Stds, np.flip(DQN_Means + DQN_Stds, axis=0)])\n",
    "            ys = np.concatenate([np.min(DQN_Smoothed, axis=0), np.flip(np.max(DQN_Smoothed, axis=0), axis=0)])\n",
    "            lls = p.patch(xs, ys, color=color, alpha=0.1)\n",
    "\n",
    "\n",
    "    #         for x, y, yerr in zip(range(0, t_max, step), DQN_Means, DQN_Stds):\n",
    "    #             lls = p.line([x, x], [y - yerr, y + yerr], color=color, alpha=0.1, hover_alpha=0.8)\n",
    "    #             alpha_lines.append(lls)\n",
    "\n",
    "\n",
    "    #         plt.plot([i for i in range(0, t_max, step)], DQN_Means, color=color)\n",
    "        l = p.line([i for i in range(0, t_max, step)], DQN_Means, color=color, line_width=2)\n",
    "        lines.append(l)\n",
    "    #         alpha_lines.append(lls)\n",
    "\n",
    "#     plt.title(\"Episode_Reward\")\n",
    "#     plt.xlabel(\"T\")\n",
    "#     plt.ylabel(\"Reward\")\n",
    "#     if legends is not None:\n",
    "#         plt.legend(legends)\n",
    "#     plt.show()\n",
    "#     p.line([0,1], [-1,3])\n",
    "    new_leg = Legend(items=[(name, [line]) for name, line in zip(legends, lines)], location=(0,-30))\n",
    "    p.add_layout(new_leg, \"right\")\n",
    "#     p.add_tools(HoverTool(renderers=alpha_lines))\n",
    "#     p.add_tools(TapTool(renderers=alpha_lines))\n",
    "    show(p)"
   ]
  },
  {
   "cell_type": "code",
   "execution_count": 51,
   "metadata": {
    "collapsed": false,
    "deletable": true,
    "editable": true
   },
   "outputs": [],
   "source": [
    "def plot_states(names, t_maxs, colors, legends, directories=\"Logs/\", step=10, title=\"\"):\n",
    "#     plt.figure(figsize=(10,10))\n",
    "    p = figure(width=1200, height=800, title=title)\n",
    "    p.toolbar_location = \"above\"\n",
    "    p.yaxis.axis_label = \"States visited\"\n",
    "    p.xaxis.axis_label = \"T\"\n",
    "    p.xaxis.formatter = BasicTickFormatter(use_scientific=False)\n",
    "#     p = figure(width=800, height=500)\n",
    "    lines = []\n",
    "    alpha_lines = []\n",
    "    if isinstance(directories, str):\n",
    "        dd = directories\n",
    "        directories = [dd for _ in names]\n",
    "    for name, color, t_max, legend, directory in zip(names, colors, t_maxs, legends, directories):\n",
    "#         print(directory)\n",
    "        States_Path = directory + \"*\" + name + \"*/logs/Player_Positions.txt\"\n",
    "        States = []\n",
    "        for filename in glob.glob(States_Path):\n",
    "            run_logs = []\n",
    "            with open(filename, \"r\") as f:\n",
    "#                 print(f)\n",
    "                for line in f:\n",
    "                    try:\n",
    "                        ep_r = str(line)\n",
    "#                         print(ep_r)\n",
    "                    except:\n",
    "                        print(\"Nothing here for:\", filename)\n",
    "                        continue\n",
    "                    run_logs.append(ep_r)\n",
    "            States.append(run_logs)\n",
    "        States_Visited = []\n",
    "        for run in States:\n",
    "            Visited = []\n",
    "            States_Sets = set()\n",
    "#             print(len(run))\n",
    "            for ii, s in enumerate(run):\n",
    "                if ii >= t_max - 1:\n",
    "                    break\n",
    "#                 print(s)\n",
    "                States_Sets.add(s)\n",
    "                if ii % step == 0:\n",
    "                    Visited.append(len(States_Sets))\n",
    "#             print(len(States_Sets))\n",
    "#             print(len(Visited))\n",
    "            States_Visited.append(Visited)\n",
    "#         print(np.array(States_Visited).shape)\n",
    "        Means = np.mean(States_Visited, axis=0)\n",
    "        Stds = np.std(States_Visited, axis=0)\n",
    "#         print(Means.shape)\n",
    "        \n",
    "#         plt.fill_between([i for i in range(0, t_max, step)], DQN_Means - DQN_Stds, DQN_Means + DQN_Stds, color=color, alpha=0.2, edgecolor=\"white\")\n",
    "        # Error bars\n",
    "        xs = [i for i in range(0, t_max, step)]\n",
    "        xs = xs + list(reversed(xs))\n",
    "#         ys = np.concatenate([Means - Stds, np.flip(Means + Stds, axis=0)])\n",
    "        ys = np.concatenate([np.min(States_Visited, axis=0), np.flip(np.max(States_Visited, axis=0), axis=0)])\n",
    "        lls = p.patch(xs, ys, color=color, alpha=0.1)\n",
    "\n",
    "        \n",
    "#         for x, y, yerr in zip(range(0, t_max, step), DQN_Means, DQN_Stds):\n",
    "#             lls = p.line([x, x], [y - yerr, y + yerr], color=color, alpha=0.1, hover_alpha=0.8)\n",
    "#             alpha_lines.append(lls)\n",
    "            \n",
    "\n",
    "#         plt.plot([i for i in range(0, t_max, step)], DQN_Means, color=color)\n",
    "        l = p.line([i for i in range(0, t_max, step)], Means, color=color, line_width=2)\n",
    "        lines.append(l)\n",
    "#         alpha_lines.append(lls)\n",
    "\n",
    "#     plt.title(\"Episode_Reward\")\n",
    "#     plt.xlabel(\"T\")\n",
    "#     plt.ylabel(\"Reward\")\n",
    "#     if legends is not None:\n",
    "#         plt.legend(legends)\n",
    "#     plt.show()\n",
    "#     p.line([0,1], [-1,3])\n",
    "    new_leg = Legend(items=[(name, [line]) for name, line in zip(legends, lines)], location=(0,-30))\n",
    "    p.add_layout(new_leg, \"right\")\n",
    "#     p.add_tools(HoverTool(renderers=alpha_lines))\n",
    "#     p.add_tools(TapTool(renderers=alpha_lines))\n",
    "    show(p)"
   ]
  },
  {
   "cell_type": "code",
   "execution_count": null,
   "metadata": {
    "collapsed": true,
    "deletable": true,
    "editable": true
   },
   "outputs": [],
   "source": []
  },
  {
   "cell_type": "code",
   "execution_count": 12,
   "metadata": {
    "collapsed": false,
    "deletable": true,
    "editable": true
   },
   "outputs": [
    {
     "name": "stdout",
     "output_type": "stream",
     "text": [
      "['_10_Step_*DQN_', '_10_Step_*k_Count_', '_10_Step_*_CountEps_']\n",
      "[300001, 300001, 300001]\n"
     ]
    }
   ],
   "source": [
    "names = []\n",
    "legends = []\n",
    "t_maxs = []\n",
    "directories = []\n",
    "\n",
    "            \n",
    "# Frontier stuff\n",
    "for step in [10]:\n",
    "    # DQN\n",
    "    names += [\"_{}_Step_*DQN_\".format(step)]\n",
    "    legends += [\"{}_Step_DQN\".format(step)]\n",
    "    t_maxs += [300001]\n",
    "#     continue\n",
    "    # PseudoCount\n",
    "    names += [\"_{}_Step_*k_Count_\".format(step)]\n",
    "    legends += [\"{}_Step_Count\".format(step)]\n",
    "    t_maxs += [300001]\n",
    "#     continue\n",
    "    # EpsilonScaling\n",
    "    names += [\"_{}_Step_*_CountEps_\".format(step)]\n",
    "    legends += [\"{}_Step_Epsilon_Scaling\".format(step)]\n",
    "    t_maxs += [300001]\n",
    "            \n",
    "    \n",
    "direc = \"/home/tabz/tmp/logfiles/MedMaze10/MedMaze10\"\n",
    "# directories =  [\"{}/{}\".format(dropbox_direc, \"Maze_5_Logs/\")] + 3 * [\"{}/{}\".format(dropbox_direc, \"Maze_5_Batch_Sizes_Logs/\")] \n",
    "directories += [direc + \"/EpsilonLogs/\"] * 3\n",
    "    \n",
    "print(names)\n",
    "print(t_maxs)\n",
    "# colours = [\"red\", \"#3366ff\", \"#66ff33\", \"yellow\"]\n",
    "# colours = rainbow(np.linspace(0, 1, len(names)))"
   ]
  },
  {
   "cell_type": "code",
   "execution_count": 13,
   "metadata": {
    "collapsed": false,
    "deletable": true,
    "editable": true
   },
   "outputs": [
    {
     "name": "stdout",
     "output_type": "stream",
     "text": [
      "['_100_Step*k_Count_', '_100_Step*OptimisticAction', '_100_Step*_CountEps_']\n",
      "[300001, 300001, 300001]\n",
      "/home/scratch/tabhid/Log_Files/Gamma_Logs//\n"
     ]
    }
   ],
   "source": [
    "names = []\n",
    "legends = []\n",
    "t_maxs = []\n",
    "\n",
    "            \n",
    "# Frontier bandit stuff\n",
    "\n",
    "for n in [100]:\n",
    "    \n",
    "    # Count\n",
    "    names += [\"_{}_Step*k_Count_\".format(n)]\n",
    "    legends += [\"{}_Step_Count\".format(n)]\n",
    "    t_maxs += [300001]\n",
    "#     continue\n",
    "    # Optimistic\n",
    "    names += [\"_{}_Step*OptimisticAction\".format(n)]\n",
    "    legends += [\"{}_Step_OptimisticAction\".format(n)]\n",
    "    t_maxs += [300001]\n",
    "#     continue\n",
    "    # Epsilon Scaling\n",
    "    names += [\"_{}_Step*_CountEps_\".format(n)]\n",
    "    legends += [\"{}_Step_EpsilonScaling\".format(n)]\n",
    "    t_maxs += [300001]\n",
    "            \n",
    "    \n",
    "direc = \"/home/scratch/tabhid/Log_Files/Gamma_Logs//\"\n",
    "# directories =  [\"{}/{}\".format(dropbox_direc, \"Maze_5_Logs/\")] + 3 * [\"{}/{}\".format(dropbox_direc, \"Maze_5_Batch_Sizes_Logs/\")] \n",
    "# directories += [direc + \"/BanditLogs/\"] * 3\n",
    "directories = direc\n",
    "    \n",
    "print(names)\n",
    "print(t_maxs)\n",
    "print(directories)\n",
    "# colours = [\"red\", \"#3366ff\", \"#66ff33\", \"yellow\"]\n",
    "# colours = rainbow(np.linspace(0, 1, len(names)))"
   ]
  },
  {
   "cell_type": "code",
   "execution_count": 14,
   "metadata": {
    "collapsed": false,
    "deletable": true,
    "editable": true
   },
   "outputs": [
    {
     "name": "stdout",
     "output_type": "stream",
     "text": [
      "['_0.9_Decay*_Eps_0.1_', '_0.99_Decay*_Eps_0.1_', '_0.9999_Decay*_Eps_0.1_', '_0.9_Decay*_Eps_1_', '_0.99_Decay*_Eps_1_', '_0.9999_Decay*_Eps_1_']\n",
      "[300001, 300001, 300001, 300001, 300001, 300001]\n",
      "/home/tabz/tmp/Epsilon_Decay_Logs/\n"
     ]
    }
   ],
   "source": [
    "names = []\n",
    "legends = []\n",
    "t_maxs = []\n",
    "\n",
    "            \n",
    "# Epsilon Decay Scaling\n",
    "for eps in [0.1, 1]:\n",
    "    for decay in [0.9, 0.99, 0.9999]:\n",
    "    \n",
    "        names += [\"_{}_Decay*_Eps_{}_\".format(decay, eps)]\n",
    "        legends += [\"{}_Decay_EpsilonScaling_{}_Start\".format(decay, eps)]\n",
    "        t_maxs += [300001]\n",
    "            \n",
    "    \n",
    "# direc = \"/home/scratch/tabhid/Log_Files/Epsilon_Decay_Logs/\"\n",
    "direc = \"/home/tabz/tmp/Epsilon_Decay_Logs/\"\n",
    "# directories =  [\"{}/{}\".format(dropbox_direc, \"Maze_5_Logs/\")] + 3 * [\"{}/{}\".format(dropbox_direc, \"Maze_5_Batch_Sizes_Logs/\")] \n",
    "# directories += [direc + \"/BanditLogs/\"] * 3\n",
    "directories = direc\n",
    "    \n",
    "print(names)\n",
    "print(t_maxs)\n",
    "print(directories)"
   ]
  },
  {
   "cell_type": "code",
   "execution_count": 15,
   "metadata": {
    "collapsed": false,
    "deletable": true,
    "editable": true
   },
   "outputs": [
    {
     "name": "stdout",
     "output_type": "stream",
     "text": [
      "['_NegativeReward_0.5_', '_NegativeReward_0.7_', '_NegativeReward_0.9_']\n",
      "[300001, 300001, 300001]\n",
      "/home/tabz/tmp/Big_Negative_Reward_Logs/\n"
     ]
    }
   ],
   "source": [
    "names = []\n",
    "legends = []\n",
    "t_maxs = []\n",
    "\n",
    "            \n",
    "# Negative reward threshold\n",
    "for ns in [0.5, 0.7,  0.9]:\n",
    "    names += [\"_NegativeReward_{}_\".format(ns)]\n",
    "    legends += [\"NegativeReward_{}_Threshold\".format(ns)]\n",
    "    t_maxs += [300001]\n",
    "            \n",
    "    \n",
    "# direc = \"/home/scratch/tabhid/Log_Files/Epsilon_Decay_Logs/\"\n",
    "direc = \"/home/tabz/tmp/Big_Negative_Reward_Logs/\"\n",
    "# directories =  [\"{}/{}\".format(dropbox_direc, \"Maze_5_Logs/\")] + 3 * [\"{}/{}\".format(dropbox_direc, \"Maze_5_Batch_Sizes_Logs/\")] \n",
    "# directories += [direc + \"/BanditLogs/\"] * 3\n",
    "directories = direc\n",
    "    \n",
    "print(names)\n",
    "print(t_maxs)\n",
    "print(directories)"
   ]
  },
  {
   "cell_type": "code",
   "execution_count": 16,
   "metadata": {
    "collapsed": false,
    "deletable": true,
    "editable": true
   },
   "outputs": [
    {
     "name": "stdout",
     "output_type": "stream",
     "text": [
      "['k_OptimisticAction_0.0001_Scaler', 'k_OptimisticAction_0.0005_Scaler', 'k_OptimisticAction_0.001_Scaler', 'k_OptimisticAction_0.005_Scaler']\n",
      "[300001, 300001, 300001, 300001]\n",
      "/home/scratch/tabhid/Log_Files/Bandit_Small_Tau_Logs/\n"
     ]
    }
   ],
   "source": [
    "names = []\n",
    "legends = []\n",
    "t_maxs = []\n",
    "\n",
    "            \n",
    "# Bandit Tau\n",
    "for tau in [0.0001, 0.0005, 0.001, 0.005]:\n",
    "    for negative_reward in [False]:\n",
    "        if negative_reward:\n",
    "            names += [\"NegativeReward_*_OptimisticAction_{}_Scaler\".format(tau)]\n",
    "            legends += [\"Optim Bandit {} Tau Neg Reward\".format(tau)]\n",
    "        else:\n",
    "            names += [\"k_OptimisticAction_{}_Scaler\".format(tau)]\n",
    "            legends += [\"Optim Bandit {} Tau\".format(tau)]\n",
    "        t_maxs += [300001]\n",
    "            \n",
    "    \n",
    "direc = \"/home/scratch/tabhid/Log_Files/Bandit_Small_Tau_Logs/\"\n",
    "# direc = \"/home/tabz/tmp/Bandit_Tau_Logs/\"\n",
    "# directories =  [\"{}/{}\".format(dropbox_direc, \"Maze_5_Logs/\")] + 3 * [\"{}/{}\".format(dropbox_direc, \"Maze_5_Batch_Sizes_Logs/\")] \n",
    "# directories += [direc + \"/BanditLogs/\"] * 3\n",
    "directories = direc\n",
    "    \n",
    "print(names)\n",
    "print(t_maxs)\n",
    "print(directories)"
   ]
  },
  {
   "cell_type": "code",
   "execution_count": 17,
   "metadata": {
    "collapsed": false,
    "deletable": true,
    "editable": true
   },
   "outputs": [
    {
     "name": "stdout",
     "output_type": "stream",
     "text": [
      "['Batch_64_XpSize_600k', 'Batch_128_XpSize_600k', 'Batch_256_XpSize_600k']\n",
      "[600001, 600001, 600001]\n",
      "/home/tabz/tmp/logfiles/MedMaze10/Batch_Size_Logs/\n"
     ]
    }
   ],
   "source": [
    "names = []\n",
    "legends = []\n",
    "t_maxs = []\n",
    "\n",
    "            \n",
    "# Batch Size\n",
    "for xp in [600]:\n",
    "    for bs in [64, 128, 256]:\n",
    "        names += [\"Batch_{}_XpSize_{}k\".format(bs, xp)]\n",
    "        legends += [\"Batch {} Xp {}k\".format(bs, xp)]\n",
    "        t_maxs += [600001]\n",
    "            \n",
    "    \n",
    "# direc = \"/home/scratch/tabhid/Log_Files/Xp_Logs/\"\n",
    "direc = \"/home/tabz/tmp/logfiles/MedMaze10/Batch_Size_Logs/\"\n",
    "# directories =  [\"{}/{}\".format(dropbox_direc, \"Maze_5_Logs/\")] + 3 * [\"{}/{}\".format(dropbox_direc, \"Maze_5_Batch_Sizes_Logs/\")] \n",
    "# directories += [direc + \"/BanditLogs/\"] * 3\n",
    "directories = direc\n",
    "    \n",
    "print(names)\n",
    "print(t_maxs)\n",
    "print(directories)"
   ]
  },
  {
   "cell_type": "code",
   "execution_count": 18,
   "metadata": {
    "collapsed": false,
    "deletable": true,
    "editable": true
   },
   "outputs": [
    {
     "name": "stdout",
     "output_type": "stream",
     "text": [
      "['ETrace_0.7_6_States', 'ETrace_0.9_6_States', 'ETrace_1_6_States']\n",
      "[600001, 600001, 600001]\n",
      "/home/tabz/tmp/logfiles/MedMaze10/Elig_3_Logs/\n"
     ]
    }
   ],
   "source": [
    "names = []\n",
    "legends = []\n",
    "t_maxs = []\n",
    "\n",
    "            \n",
    "# Elig States\n",
    "for lamb in [0.7, 0.9, 1]:\n",
    "    for states in [6]:\n",
    "        names += [\"ETrace_{}_{}_States\".format(lamb, states)]\n",
    "        legends += [\"Traces {} Lambda {} States 3 Gap\".format(lamb, states)]\n",
    "        t_maxs += [600001]\n",
    "            \n",
    "    \n",
    "# direc = \"/home/scratch/tabhid/Log_Files/Xp_Logs/\"\n",
    "direc = \"/home/tabz/tmp/logfiles/MedMaze10/Elig_3_Logs/\"\n",
    "# directories =  [\"{}/{}\".format(dropbox_direc, \"Maze_5_Logs/\")] + 3 * [\"{}/{}\".format(dropbox_direc, \"Maze_5_Batch_Sizes_Logs/\")] \n",
    "# directories += [direc + \"/BanditLogs/\"] * 3\n",
    "directories = direc\n",
    "    \n",
    "print(names)\n",
    "print(t_maxs)\n",
    "print(directories)"
   ]
  },
  {
   "cell_type": "code",
   "execution_count": 19,
   "metadata": {
    "collapsed": false,
    "deletable": true,
    "editable": true
   },
   "outputs": [
    {
     "name": "stdout",
     "output_type": "stream",
     "text": [
      "['Iters_1_', 'Iters_2_', 'Iters_4_', 'Iters_8_', 'Iters_16_']\n",
      "[600001, 600001, 600001, 600001, 600001]\n",
      "/home/tabz/tmp/logfiles/MedMaze10/Iters_Logs/\n"
     ]
    }
   ],
   "source": [
    "names = []\n",
    "legends = []\n",
    "t_maxs = []\n",
    "\n",
    "            \n",
    "# Iterations\n",
    "for i in [1, 2, 4, 8, 16]:\n",
    "    names += [\"Iters_{}_\".format(i)]\n",
    "    legends += [\"{} Iterations\".format(i)]\n",
    "    t_maxs += [600001]\n",
    "            \n",
    "    \n",
    "# direc = \"/home/scratch/tabhid/Log_Files/Xp_Logs/\"\n",
    "direc = \"/home/tabz/tmp/logfiles/MedMaze10/Iters_Logs/\"\n",
    "# directories =  [\"{}/{}\".format(dropbox_direc, \"Maze_5_Logs/\")] + 3 * [\"{}/{}\".format(dropbox_direc, \"Maze_5_Batch_Sizes_Logs/\")] \n",
    "# directories += [direc + \"/BanditLogs/\"] * 3\n",
    "directories = direc\n",
    "    \n",
    "print(names)\n",
    "print(t_maxs)\n",
    "print(directories)"
   ]
  },
  {
   "cell_type": "code",
   "execution_count": 20,
   "metadata": {
    "collapsed": false,
    "deletable": true,
    "editable": true
   },
   "outputs": [
    {
     "name": "stdout",
     "output_type": "stream",
     "text": [
      "['k_CountEps_', 'Trajectory_0.2_', 'Trajectory_0.5_', 'Trajectory_0.75_', 'Trajectory_0.8_', 'Trajectory_0.9_']\n",
      "[600001, 600001, 600001, 600001, 600001, 600001]\n",
      "/home/tabz/tmp/logfiles/MedMaze10/Trajectory_Logs/\n"
     ]
    }
   ],
   "source": [
    "names = []\n",
    "legends = []\n",
    "t_maxs = []\n",
    "\n",
    "names += [\"k_CountEps_\"]\n",
    "legends += [\"No Trajectory\"]\n",
    "t_maxs += [600001]\n",
    "            \n",
    "# Trajectory\n",
    "for t in [0.2, 0.5, 0.75, 0.8, 0.9]:\n",
    "    names += [\"Trajectory_{}_\".format(t)]\n",
    "    legends += [\"Trajectory {} Save\".format(t)]\n",
    "    t_maxs += [600001]\n",
    "            \n",
    "    \n",
    "# direc = \"/home/scratch/tabhid/Log_Files/Xp_Logs/\"\n",
    "direc = \"/home/tabz/tmp/logfiles/MedMaze10/Trajectory_Logs/\"\n",
    "# directories =  [\"{}/{}\".format(dropbox_direc, \"Maze_5_Logs/\")] + 3 * [\"{}/{}\".format(dropbox_direc, \"Maze_5_Batch_Sizes_Logs/\")] \n",
    "# directories += [direc + \"/BanditLogs/\"] * 3\n",
    "directories = direc\n",
    "    \n",
    "print(names)\n",
    "print(t_maxs)\n",
    "print(directories)"
   ]
  },
  {
   "cell_type": "code",
   "execution_count": 21,
   "metadata": {
    "collapsed": false,
    "deletable": true,
    "editable": true
   },
   "outputs": [
    {
     "name": "stdout",
     "output_type": "stream",
     "text": [
      "['XpSize_30k*CountDecay_0.9999', 'XpSize_30k*CountDecay_0.999999', 'XpSize_30k*CountDecay_1', 'XpSize_60k*CountDecay_0.9999', 'XpSize_60k*CountDecay_0.999999', 'XpSize_60k*CountDecay_1', 'XpSize_100k*CountDecay_0.9999', 'XpSize_100k*CountDecay_0.999999', 'XpSize_100k*CountDecay_1']\n",
      "[600001, 600001, 600001, 600001, 600001, 600001, 600001, 600001, 600001]\n",
      "/home/tabz/tmp/logfiles/CountXpSort/\n"
     ]
    }
   ],
   "source": [
    "names = []\n",
    "legends = []\n",
    "t_maxs = []\n",
    "          \n",
    "# Count Xp Sort\n",
    "for xp in [30, 60, 100]:\n",
    "    for decay in [0.9999, 0.999999, 1]:\n",
    "        names += [\"XpSize_{}k*CountDecay_{}\".format(xp, decay)]\n",
    "        legends += [\"CountXp Sort {}k Xp {} CountDecay\".format(xp, decay)]\n",
    "        t_maxs += [600001]\n",
    "            \n",
    "    \n",
    "# direc = \"/home/scratch/tabhid/Log_Files/Xp_Logs/\"\n",
    "direc = \"/home/tabz/tmp/logfiles/CountXpSort/\"\n",
    "# directories =  [\"{}/{}\".format(dropbox_direc, \"Maze_5_Logs/\")] + 3 * [\"{}/{}\".format(dropbox_direc, \"Maze_5_Batch_Sizes_Logs/\")] \n",
    "# directories += [direc + \"/BanditLogs/\"] * 3\n",
    "directories = direc\n",
    "    \n",
    "print(names)\n",
    "print(t_maxs)\n",
    "print(directories)"
   ]
  },
  {
   "cell_type": "code",
   "execution_count": 22,
   "metadata": {
    "collapsed": false,
    "deletable": true,
    "editable": true
   },
   "outputs": [
    {
     "name": "stdout",
     "output_type": "stream",
     "text": [
      "['OptimisticAction_0.1', 'OptimisticAction_1', 'OptimisticAction_10', 'k_CountEps']\n",
      "[600001, 600001, 600001, 600001]\n",
      "/home/tabz/tmp/logfiles/MedMaze12/\n"
     ]
    }
   ],
   "source": [
    "names = []\n",
    "legends = []\n",
    "t_maxs = []\n",
    "          \n",
    "# MedMaze12\n",
    "\n",
    "#Bandits\n",
    "for os in [0.1, 1, 10]:\n",
    "    names += [\"OptimisticAction_{}\".format(os)]\n",
    "    legends += [\"Bandit {} Scaler\".format(os)]\n",
    "    t_maxs += [600001]\n",
    "    \n",
    "# #-ve reward\n",
    "# for nr in [0.5, 0.7]:\n",
    "#     names += [\"NegativeReward_{}\".format(nr)]\n",
    "#     legends += [\"Negative Reward {}\".format(nr)]\n",
    "#     t_maxs += [600001]\n",
    "    \n",
    "#CountXp\n",
    "names += [\"k_CountEps\"]\n",
    "legends += [\"Counts\"]\n",
    "t_maxs += [600001]\n",
    "            \n",
    "    \n",
    "# direc = \"/home/scratch/tabhid/Log_Files/Xp_Logs/\"\n",
    "direc = \"/home/tabz/tmp/logfiles/MedMaze12/\"\n",
    "# directories =  [\"{}/{}\".format(dropbox_direc, \"Maze_5_Logs/\")] + 3 * [\"{}/{}\".format(dropbox_direc, \"Maze_5_Batch_Sizes_Logs/\")] \n",
    "# directories += [direc + \"/BanditLogs/\"] * 3\n",
    "directories = direc\n",
    "    \n",
    "print(names)\n",
    "print(t_maxs)\n",
    "print(directories)"
   ]
  },
  {
   "cell_type": "code",
   "execution_count": 23,
   "metadata": {
    "collapsed": false,
    "deletable": true,
    "editable": true
   },
   "outputs": [
    {
     "name": "stdout",
     "output_type": "stream",
     "text": [
      "['k_CountEps*Stale_50k', 'Prioritized*Stale_50k', 'Prioritized_IS*Stale_50k', 'k_CountEps*Stale_300k', 'Prioritized*Stale_300k', 'Prioritized_IS*Stale_300k']\n",
      "[600001, 600001, 600001, 600001, 600001, 600001]\n",
      "/home/tabz/tmp/logfiles/Prioritized_Logs/\n"
     ]
    }
   ],
   "source": [
    "names = []\n",
    "legends = []\n",
    "t_maxs = []\n",
    "          \n",
    "# Prioritized replay stuff\n",
    "for fresh in [50, 300]:\n",
    "    for p in [None, \"P\", \"P_IS\"]:\n",
    "        if p is \"P\":\n",
    "            names += [\"Prioritized*Stale_{}k\".format(fresh)]\n",
    "            legends += [\"Prioritized {}k Fresh Counts\".format(fresh)]\n",
    "        elif p is \"P_IS\":\n",
    "            names += [\"Prioritized_IS*Stale_{}k\".format(fresh)]\n",
    "            legends += [\"Prioritized IS {}k Fresh Counts\".format(fresh)]\n",
    "        else:\n",
    "            names += [\"k_CountEps*Stale_{}k\".format(fresh)]\n",
    "            legends += [\"{}k Fresh Counts\".format(fresh)]\n",
    "        t_maxs += [600001]\n",
    "    \n",
    "direc = \"/home/tabz/tmp/logfiles/Prioritized_Logs/\"\n",
    "env = \"Med Maze 10\"\n",
    "directories = direc\n",
    "    \n",
    "print(names)\n",
    "print(t_maxs)\n",
    "print(directories)"
   ]
  },
  {
   "cell_type": "code",
   "execution_count": 24,
   "metadata": {
    "collapsed": false,
    "deletable": true,
    "editable": true
   },
   "outputs": [
    {
     "name": "stdout",
     "output_type": "stream",
     "text": [
      "['_0.1_Mix', '_0.3_Mix', '_0.5_Mix', '_0.7_Mix', '_0.9_Mix']\n",
      "[600001, 600001, 600001, 600001, 600001]\n",
      "/home/tabz/tmp/logfiles/Mixing_Logs/\n"
     ]
    }
   ],
   "source": [
    "names = []\n",
    "legends = []\n",
    "t_maxs = []\n",
    "          \n",
    "# Mixing\n",
    "for mix in [0.1, 0.3, 0.5, 0.7, 0.9]:\n",
    "    names += [\"_{}_Mix\".format(mix)]\n",
    "    legends += [\"{} Mixing\".format(mix)]\n",
    "    t_maxs += [600001]\n",
    "    \n",
    "direc = \"/home/tabz/tmp/logfiles/Mixing_Logs/\"\n",
    "directories = direc\n",
    "\n",
    "env =\"Med Maze 10\"\n",
    "    \n",
    "print(names)\n",
    "print(t_maxs)\n",
    "print(directories)"
   ]
  },
  {
   "cell_type": "code",
   "execution_count": 25,
   "metadata": {
    "collapsed": false,
    "deletable": true,
    "editable": true
   },
   "outputs": [
    {
     "name": "stdout",
     "output_type": "stream",
     "text": [
      "['OptimisticAction_0.1', 'OptimisticAction_0.01', 'OptimisticAction_0.001', 'CountEps_0.9999_', 'CountEps_0.999_', 'CountEps_0.99_', 'CountEps_0.9_']\n",
      "[600001, 600001, 600001, 600001, 600001, 600001, 600001]\n",
      "/home/tabz/tmp/logfiles/Frontier_Logs/\n"
     ]
    }
   ],
   "source": [
    "names = []\n",
    "legends = []\n",
    "t_maxs = []\n",
    "          \n",
    "# MedMaze12\n",
    "\n",
    "#Bandits\n",
    "for os in [0.1, 0.01, 0.001]:\n",
    "    names += [\"OptimisticAction_{}\".format(os)]\n",
    "    legends += [\"Bandit {} Scaler\".format(os)]\n",
    "    t_maxs += [600001]\n",
    "    \n",
    "#Epsilon decay\n",
    "for decay in [0.9999, 0.999, 0.99, 0.9]:\n",
    "    names += [\"CountEps_{}_\".format(decay)]\n",
    "    legends += [\"Epsilon Scaling {} Decay\".format(decay)]\n",
    "    t_maxs += [600001]\n",
    "            \n",
    "    \n",
    "direc = \"/home/tabz/tmp/logfiles/Frontier_Logs/\"\n",
    "directories = direc\n",
    "env = \"Med Maze 12\"\n",
    "    \n",
    "print(names)\n",
    "print(t_maxs)\n",
    "print(directories)"
   ]
  },
  {
   "cell_type": "code",
   "execution_count": 26,
   "metadata": {
    "collapsed": false,
    "deletable": true,
    "editable": true
   },
   "outputs": [
    {
     "name": "stdout",
     "output_type": "stream",
     "text": [
      "['NegativeReward_0.1', 'NegativeReward_0.2']\n",
      "[600001, 600001]\n",
      "/home/tabz/tmp/Neg/\n"
     ]
    }
   ],
   "source": [
    "names = []\n",
    "legends = []\n",
    "t_maxs = []\n",
    "          \n",
    "# MedMaze10 Set replay negative reward\n",
    "\n",
    "for neg_reward in [0.1, 0.2]:\n",
    "    names += [\"NegativeReward_{}\".format(neg_reward)]\n",
    "    legends += [\"Negative Reward {} Set Replay\".format(neg_reward)]\n",
    "    t_maxs += [600001]            \n",
    "    \n",
    "direc = \"/home/tabz/tmp/Neg/\"\n",
    "directories = direc\n",
    "env = \"Med Maze 10 Set Replay Negative Reward\"\n",
    "    \n",
    "print(names)\n",
    "print(t_maxs)\n",
    "print(directories)"
   ]
  },
  {
   "cell_type": "code",
   "execution_count": 64,
   "metadata": {
    "collapsed": false,
    "deletable": true,
    "editable": true
   },
   "outputs": [
    {
     "name": "stdout",
     "output_type": "stream",
     "text": [
      "['_10_Step*_SetReplay_5_', '_10_Step*_SetReplay_10_', '_10_Step*_SetReplay_100_', '_100_Step*_SetReplay_5_', '_100_Step*_SetReplay_10_', '_100_Step*_SetReplay_100_']\n",
      "[600001, 600001, 600001, 600001, 600001, 600001]\n",
      "/home/tabz/tmp/logfiles/SetReplayNum/\n"
     ]
    }
   ],
   "source": [
    "names = []\n",
    "legends = []\n",
    "t_maxs = []\n",
    "          \n",
    "# MedMaze10 Set replay \n",
    "\n",
    "for step in [10, 100]:\n",
    "    for replay_num in [5, 10, 100]:\n",
    "        names += [\"_{}_Step*_SetReplay_{}_\".format(step, replay_num)]\n",
    "        legends += [\"{} Step {} SetReplay\".format(step, replay_num)]\n",
    "        t_maxs += [600001]\n",
    "    \n",
    "direc = \"/home/tabz/tmp/logfiles/SetReplayNum/\"\n",
    "directories = direc\n",
    "env = \"Med Maze 10 Set Replay Num\"\n",
    "    \n",
    "print(names)\n",
    "print(t_maxs)\n",
    "print(directories)"
   ]
  },
  {
   "cell_type": "code",
   "execution_count": 54,
   "metadata": {
    "collapsed": false,
    "deletable": true,
    "editable": true
   },
   "outputs": [
    {
     "name": "stdout",
     "output_type": "stream",
     "text": [
      "['k_BonusClip*Stale_50k', 'Prioritized*Stale_50k', 'Prioritized_OnBonus_IS*Stale_50k', 'k_BonusClip*Stale_300k', 'Prioritized*Stale_300k', 'Prioritized_OnBonus_IS*Stale_300k']\n",
      "[800001, 800001, 800001, 800001, 800001, 800001]\n",
      "/home/tabz/tmp/logfiles/Density/\n"
     ]
    }
   ],
   "source": [
    "names = []\n",
    "legends = []\n",
    "t_maxs = []\n",
    "          \n",
    "# Prioritized replay stuff\n",
    "for fresh in [50, 300]:\n",
    "        names += [\"k_BonusClip*Stale_{}k\".format(fresh)]\n",
    "        legends += [\"Uniform {}k Fresh Counts\".format(fresh)]\n",
    "        t_maxs += [800001]\n",
    "        \n",
    "        names += [\"Prioritized*Stale_{}k\".format(fresh)]\n",
    "        legends += [\"Prioritized {}k Fresh Counts\".format(fresh)]\n",
    "        t_maxs += [800001]\n",
    "\n",
    "        names += [\"Prioritized_OnBonus_IS*Stale_{}k\".format(fresh)]\n",
    "        legends += [\"Prioritized IS {}k Fresh Counts\".format(fresh)]\n",
    "        t_maxs += [800001]\n",
    "    \n",
    "direc = \"/home/tabz/tmp/logfiles/Density/\"\n",
    "env = \"Med Maze 10 Prioritized On Density\"\n",
    "directories = direc\n",
    "    \n",
    "print(names)\n",
    "print(t_maxs)\n",
    "print(directories)"
   ]
  },
  {
   "cell_type": "code",
   "execution_count": 49,
   "metadata": {
    "collapsed": false,
    "deletable": true,
    "editable": true
   },
   "outputs": [
    {
     "name": "stdout",
     "output_type": "stream",
     "text": [
      "['k_BonusClip', 'Prioritized_IS', 'Prioritized_MinusPseudo']\n",
      "[800001, 800001, 800001]\n",
      "/home/tabz/tmp/logfiles/MinusPseudo/\n"
     ]
    }
   ],
   "source": [
    "names = []\n",
    "legends = []\n",
    "t_maxs = []\n",
    "          \n",
    "# Prioritized replay stuff musing pseudo rewards\n",
    "\n",
    "names += [\"k_BonusClip\"]\n",
    "legends += [\"Uniform\"]\n",
    "\n",
    "names += [\"Prioritized_IS\"]\n",
    "legends += [\"Prioritised minus pseudo rewards IS\"]\n",
    "\n",
    "names += [\"Prioritized_MinusPseudo\"]\n",
    "legends += [\"Prioritized minus pseudo rewards\"]\n",
    "\n",
    "t_maxs += [800001 for _ in range(3)]\n",
    "    \n",
    "direc = \"/home/tabz/tmp/logfiles/MinusPseudo/\"\n",
    "env = \"Med Maze 10 Prioritized Minus PseudoReward\"\n",
    "directories = direc\n",
    "    \n",
    "print(names)\n",
    "print(t_maxs)\n",
    "print(directories)"
   ]
  },
  {
   "cell_type": "code",
   "execution_count": 108,
   "metadata": {
    "collapsed": false,
    "deletable": true,
    "editable": true
   },
   "outputs": [
    {
     "name": "stdout",
     "output_type": "stream",
     "text": [
      "['Prioritized_-1_MinusPseudo_*Stale_50k', 'Prioritized_1_MinusPseudo_*Stale_50k', 'Prioritized_-1_MinusPseudo_*Stale_300k', 'Prioritized_1_MinusPseudo_*Stale_300k']\n",
      "[800001, 800001, 800001, 800001]\n",
      "/home/tabz/tmp/FixedP/\n"
     ]
    }
   ],
   "source": [
    "names = []\n",
    "legends = []\n",
    "t_maxs = []\n",
    "          \n",
    "# Prioritized replay stuff\n",
    "for fresh in [50, 300]:\n",
    "    for scaler in [-1, 1]:\n",
    "        \n",
    "        names += [\"Prioritized_{}_MinusPseudo_*Stale_{}k\".format(scaler, fresh)]\n",
    "        legends += [\"{} Prioritized {}k Fresh Counts\".format(scaler, fresh)]\n",
    "        t_maxs += [800001]\n",
    "\n",
    "#         names += [\"Prioritized_IS_{}_MinusPseudo_*Stale_{}k\".format(scaler, fresh)]\n",
    "#         legends += [\"{} Prioritized IS {}k Fresh Counts\".format(scaler, fresh)]\n",
    "#         t_maxs += [800001]\n",
    "    \n",
    "direc = \"/home/tabz/tmp/FixedP/\"\n",
    "env = \"Med Maze 10 Prioritized On TD Error Minus Scaled PseudoReward\"\n",
    "directories = direc\n",
    "    \n",
    "print(names)\n",
    "print(t_maxs)\n",
    "print(directories)"
   ]
  },
  {
   "cell_type": "code",
   "execution_count": 118,
   "metadata": {
    "collapsed": false,
    "deletable": true,
    "editable": true
   },
   "outputs": [
    {
     "name": "stdout",
     "output_type": "stream",
     "text": [
      "['XpSize_100k_BonusClip', 'XpSize_100k_Prioritized_Bonus', 'XpSize_100k_Prioritized_IS', 'XpSize_500k_BonusClip', 'XpSize_500k_Prioritized_Bonus', 'XpSize_500k_Prioritized_IS']\n",
      "[1000001, 1000001, 1000001, 1000001, 1000001, 1000001]\n",
      "/home/tabz/tmp/Maze12Baselines/\n"
     ]
    }
   ],
   "source": [
    "names = []\n",
    "legends = []\n",
    "t_maxs = []\n",
    "          \n",
    "# Prioritized replay stuff\n",
    "for xp in [100, 500]:\n",
    "        names += [\"XpSize_{}k_BonusClip\".format(xp)]\n",
    "        legends += [\"Uniform {}k XP\".format(xp)]\n",
    "        t_maxs += [1000001]\n",
    "        \n",
    "        names += [\"XpSize_{}k_Prioritized_Bonus\".format(xp)]\n",
    "        legends += [\"Prioritized {}k XP\".format(xp)]\n",
    "        t_maxs += [1000001]\n",
    "\n",
    "        names += [\"XpSize_{}k_Prioritized_IS\".format(xp)]\n",
    "        legends += [\"Prioritized IS {}k XP\".format(xp)]\n",
    "        t_maxs += [1000001]\n",
    "    \n",
    "direc = \"/home/tabz/tmp/Maze12Baselines/\"\n",
    "env = \"Med Maze 12\"\n",
    "directories = direc\n",
    "    \n",
    "print(names)\n",
    "print(t_maxs)\n",
    "print(directories)"
   ]
  },
  {
   "cell_type": "code",
   "execution_count": 123,
   "metadata": {
    "collapsed": false,
    "deletable": true,
    "editable": true
   },
   "outputs": [
    {
     "name": "stdout",
     "output_type": "stream",
     "text": [
      "['XpSize_100k_Prioritized_0_NScaler_', 'XpSize_100k_Prioritized_1.5_NScaler_', 'XpSize_100k_Prioritized_-1.5_NScaler_', 'XpSize_500k_Prioritized_0_NScaler_', 'XpSize_500k_Prioritized_1.5_NScaler_', 'XpSize_500k_Prioritized_-1.5_NScaler_']\n",
      "[1000001, 1000001, 1000001, 1000001, 1000001, 1000001]\n",
      "/home/tabz/tmp/Maze12Prioritized/\n"
     ]
    }
   ],
   "source": [
    "names = []\n",
    "legends = []\n",
    "t_maxs = []\n",
    "          \n",
    "# Prioritized replay stuff\n",
    "for xp in [100, 500]:\n",
    "    for nscaler in [0, 1.5, -1.5]:\n",
    "        names += [\"XpSize_{}k_Prioritized_{}_NScaler_\".format(xp, nscaler)]\n",
    "        legends += [\"Prioritized {}k XP {} NScaler\".format(xp, nscaler)]\n",
    "        t_maxs += [1000001]\n",
    "    \n",
    "direc = \"/home/tabz/tmp/Maze12Prioritized/\"\n",
    "env = \"Med Maze 12 50k Fresh Counts Negative TD Error Scaling\"\n",
    "directories = direc\n",
    "    \n",
    "print(names)\n",
    "print(t_maxs)\n",
    "print(directories)"
   ]
  },
  {
   "cell_type": "code",
   "execution_count": 24,
   "metadata": {
    "collapsed": false
   },
   "outputs": [
    {
     "name": "stdout",
     "output_type": "stream",
     "text": [
      "['DensityP_BonusClip', 'DensityP_IS_BonusClip']\n",
      "[800001, 800001]\n",
      "/home/scratch/tabhid/Log_Files/DensityP/\n"
     ]
    }
   ],
   "source": [
    "names = []\n",
    "legends = []\n",
    "t_maxs = []\n",
    "          \n",
    "# Density Prioritization\n",
    "names += [\"DensityP_BonusClip\"]\n",
    "legends += [\"DensityP\"]\n",
    "t_maxs += [800001]\n",
    "\n",
    "names += [\"DensityP_IS_BonusClip\"]\n",
    "legends += [\"DensityP IS\"]\n",
    "t_maxs += [800001]\n",
    "    \n",
    "direc = \"/home/scratch/tabhid/Log_Files/DensityP/\"\n",
    "env = \"Med Maze 10 50k Fresh Counts Density Prioritization\"\n",
    "directories = direc\n",
    "    \n",
    "print(names)\n",
    "print(t_maxs)\n",
    "print(directories)"
   ]
  },
  {
   "cell_type": "code",
   "execution_count": 35,
   "metadata": {
    "collapsed": false
   },
   "outputs": [
    {
     "name": "stdout",
     "output_type": "stream",
     "text": [
      "['_0.1_Alpha', '_0.3_Alpha', '_0.5_Alpha', '_0.7_Alpha', '_0.9_Alpha']\n",
      "[800001, 800001, 800001, 800001, 800001]\n",
      "/home/scratch/tabhid/Log_Files/Alpha/\n"
     ]
    }
   ],
   "source": [
    "names = []\n",
    "legends = []\n",
    "t_maxs = []\n",
    "          \n",
    "# Prioritized replay alpha\n",
    "for alpha in [0.1, 0.3, 0.5, 0.7, 0.9]:\n",
    "    names += [\"_{}_Alpha\".format(alpha)]\n",
    "    legends += [\"{} Alpha\".format(alpha)]\n",
    "    t_maxs += [800001]\n",
    "    \n",
    "direc = \"/home/scratch/tabhid/Log_Files/Alpha/\"\n",
    "env = \"Med Maze 10 50k Fresh Counts 1.5 NScaler Alpha\"\n",
    "directories = direc\n",
    "    \n",
    "print(names)\n",
    "print(t_maxs)\n",
    "print(directories)"
   ]
  },
  {
   "cell_type": "code",
   "execution_count": 36,
   "metadata": {
    "collapsed": true,
    "deletable": true,
    "editable": true
   },
   "outputs": [],
   "source": [
    "import itertools"
   ]
  },
  {
   "cell_type": "code",
   "execution_count": 37,
   "metadata": {
    "collapsed": false,
    "deletable": true,
    "editable": true
   },
   "outputs": [],
   "source": [
    "from bokeh.palettes import magma, inferno, Set1, Set3, Paired, Dark2"
   ]
  },
  {
   "cell_type": "code",
   "execution_count": 38,
   "metadata": {
    "collapsed": false,
    "deletable": true,
    "editable": true
   },
   "outputs": [],
   "source": [
    "if len(names) <= 2:\n",
    "    colours = [\"red\", \"green\"]\n",
    "elif len(names) > 10:\n",
    "    colours = Paired[len(names)]\n",
    "else:\n",
    "    colours = Set1[len(names)]"
   ]
  },
  {
   "cell_type": "code",
   "execution_count": 54,
   "metadata": {
    "collapsed": false,
    "deletable": true,
    "editable": true
   },
   "outputs": [
    {
     "data": {
      "text/html": [
       "\n",
       "\n",
       "    <div class=\"bk-root\">\n",
       "        <div class=\"bk-plotdiv\" id=\"6e48f0af-6558-451d-9370-9bf5727b20e6\"></div>\n",
       "    </div>\n",
       "<script type=\"text/javascript\">\n",
       "  \n",
       "  (function(global) {\n",
       "    function now() {\n",
       "      return new Date();\n",
       "    }\n",
       "  \n",
       "    var force = false;\n",
       "  \n",
       "    if (typeof (window._bokeh_onload_callbacks) === \"undefined\" || force === true) {\n",
       "      window._bokeh_onload_callbacks = [];\n",
       "      window._bokeh_is_loading = undefined;\n",
       "    }\n",
       "  \n",
       "  \n",
       "    \n",
       "    if (typeof (window._bokeh_timeout) === \"undefined\" || force === true) {\n",
       "      window._bokeh_timeout = Date.now() + 0;\n",
       "      window._bokeh_failed_load = false;\n",
       "    }\n",
       "  \n",
       "    var NB_LOAD_WARNING = {'data': {'text/html':\n",
       "       \"<div style='background-color: #fdd'>\\n\"+\n",
       "       \"<p>\\n\"+\n",
       "       \"BokehJS does not appear to have successfully loaded. If loading BokehJS from CDN, this \\n\"+\n",
       "       \"may be due to a slow or bad network connection. Possible fixes:\\n\"+\n",
       "       \"</p>\\n\"+\n",
       "       \"<ul>\\n\"+\n",
       "       \"<li>re-rerun `output_notebook()` to attempt to load from CDN again, or</li>\\n\"+\n",
       "       \"<li>use INLINE resources instead, as so:</li>\\n\"+\n",
       "       \"</ul>\\n\"+\n",
       "       \"<code>\\n\"+\n",
       "       \"from bokeh.resources import INLINE\\n\"+\n",
       "       \"output_notebook(resources=INLINE)\\n\"+\n",
       "       \"</code>\\n\"+\n",
       "       \"</div>\"}};\n",
       "  \n",
       "    function display_loaded() {\n",
       "      if (window.Bokeh !== undefined) {\n",
       "        document.getElementById(\"6e48f0af-6558-451d-9370-9bf5727b20e6\").textContent = \"BokehJS successfully loaded.\";\n",
       "      } else if (Date.now() < window._bokeh_timeout) {\n",
       "        setTimeout(display_loaded, 100)\n",
       "      }\n",
       "    }\n",
       "  \n",
       "    function run_callbacks() {\n",
       "      window._bokeh_onload_callbacks.forEach(function(callback) { callback() });\n",
       "      delete window._bokeh_onload_callbacks\n",
       "      console.info(\"Bokeh: all callbacks have finished\");\n",
       "    }\n",
       "  \n",
       "    function load_libs(js_urls, callback) {\n",
       "      window._bokeh_onload_callbacks.push(callback);\n",
       "      if (window._bokeh_is_loading > 0) {\n",
       "        console.log(\"Bokeh: BokehJS is being loaded, scheduling callback at\", now());\n",
       "        return null;\n",
       "      }\n",
       "      if (js_urls == null || js_urls.length === 0) {\n",
       "        run_callbacks();\n",
       "        return null;\n",
       "      }\n",
       "      console.log(\"Bokeh: BokehJS not loaded, scheduling load and callback at\", now());\n",
       "      window._bokeh_is_loading = js_urls.length;\n",
       "      for (var i = 0; i < js_urls.length; i++) {\n",
       "        var url = js_urls[i];\n",
       "        var s = document.createElement('script');\n",
       "        s.src = url;\n",
       "        s.async = false;\n",
       "        s.onreadystatechange = s.onload = function() {\n",
       "          window._bokeh_is_loading--;\n",
       "          if (window._bokeh_is_loading === 0) {\n",
       "            console.log(\"Bokeh: all BokehJS libraries loaded\");\n",
       "            run_callbacks()\n",
       "          }\n",
       "        };\n",
       "        s.onerror = function() {\n",
       "          console.warn(\"failed to load library \" + url);\n",
       "        };\n",
       "        console.log(\"Bokeh: injecting script tag for BokehJS library: \", url);\n",
       "        document.getElementsByTagName(\"head\")[0].appendChild(s);\n",
       "      }\n",
       "    };var element = document.getElementById(\"6e48f0af-6558-451d-9370-9bf5727b20e6\");\n",
       "    if (element == null) {\n",
       "      console.log(\"Bokeh: ERROR: autoload.js configured with elementid '6e48f0af-6558-451d-9370-9bf5727b20e6' but no matching script tag was found. \")\n",
       "      return false;\n",
       "    }\n",
       "  \n",
       "    var js_urls = [];\n",
       "  \n",
       "    var inline_js = [\n",
       "      function(Bokeh) {\n",
       "        (function() {\n",
       "          var fn = function() {\n",
       "            var docs_json = {\"bd9dce7b-078c-40c1-b366-f8b6cbcc0eef\":{\"roots\":{\"references\":[{\"attributes\":{\"axis_label\":\"T\",\"formatter\":{\"id\":\"83e01ad2-c050-41e9-9286-8fcb9edad419\",\"type\":\"BasicTickFormatter\"},\"plot\":{\"id\":\"cf75ce4e-2a13-4333-be4f-a440b43792c1\",\"subtype\":\"Figure\",\"type\":\"Plot\"},\"ticker\":{\"id\":\"de5115a0-8e6f-466c-acd2-57ca4ba033c3\",\"type\":\"BasicTicker\"}},\"id\":\"be319f72-94c0-470f-b1b0-2fb4d29ba3f3\",\"type\":\"LinearAxis\"},{\"attributes\":{\"callback\":null,\"column_names\":[\"x\",\"y\"],\"data\":{\"x\":[0,1000,2000,3000,4000,5000,6000,7000,8000,9000,10000,11000,12000,13000,14000,15000,16000,17000,18000,19000,20000,21000,22000,23000,24000,25000,26000,27000,28000,29000,30000,31000,32000,33000,34000,35000,36000,37000,38000,39000,40000,41000,42000,43000,44000,45000,46000,47000,48000,49000,50000,51000,52000,53000,54000,55000,56000,57000,58000,59000,60000,61000,62000,63000,64000,65000,66000,67000,68000,69000,70000,71000,72000,73000,74000,75000,76000,77000,78000,79000,80000,81000,82000,83000,84000,85000,86000,87000,88000,89000,90000,91000,92000,93000,94000,95000,96000,97000,98000,99000,100000,101000,102000,103000,104000,105000,106000,107000,108000,109000,110000,111000,112000,113000,114000,115000,116000,117000,118000,119000,120000,121000,122000,123000,124000,125000,126000,127000,128000,129000,130000,131000,132000,133000,134000,135000,136000,137000,138000,139000,140000,141000,142000,143000,144000,145000,146000,147000,148000,149000,150000,151000,152000,153000,154000,155000,156000,157000,158000,159000,160000,161000,162000,163000,164000,165000,166000,167000,168000,169000,170000,171000,172000,173000,174000,175000,176000,177000,178000,179000,180000,181000,182000,183000,184000,185000,186000,187000,188000,189000,190000,191000,192000,193000,194000,195000,196000,197000,198000,199000,200000,201000,202000,203000,204000,205000,206000,207000,208000,209000,210000,211000,212000,213000,214000,215000,216000,217000,218000,219000,220000,221000,222000,223000,224000,225000,226000,227000,228000,229000,230000,231000,232000,233000,234000,235000,236000,237000,238000,239000,240000,241000,242000,243000,244000,245000,246000,247000,248000,249000,250000,251000,252000,253000,254000,255000,256000,257000,258000,259000,260000,261000,262000,263000,264000,265000,266000,267000,268000,269000,270000,271000,272000,273000,274000,275000,276000,277000,278000,279000,280000,281000,282000,283000,284000,285000,286000,287000,288000,289000,290000,291000,292000,293000,294000,295000,296000,297000,298000,299000,300000,301000,302000,303000,304000,305000,306000,307000,308000,309000,310000,311000,312000,313000,314000,315000,316000,317000,318000,319000,320000,321000,322000,323000,324000,325000,326000,327000,328000,329000,330000,331000,332000,333000,334000,335000,336000,337000,338000,339000,340000,341000,342000,343000,344000,345000,346000,347000,348000,349000,350000,351000,352000,353000,354000,355000,356000,357000,358000,359000,360000,361000,362000,363000,364000,365000,366000,367000,368000,369000,370000,371000,372000,373000,374000,375000,376000,377000,378000,379000,380000,381000,382000,383000,384000,385000,386000,387000,388000,389000,390000,391000,392000,393000,394000,395000,396000,397000,398000,399000,400000,401000,402000,403000,404000,405000,406000,407000,408000,409000,410000,411000,412000,413000,414000,415000,416000,417000,418000,419000,420000,421000,422000,423000,424000,425000,426000,427000,428000,429000,430000,431000,432000,433000,434000,435000,436000,437000,438000,439000,440000,441000,442000,443000,444000,445000,446000,447000,448000,449000,450000,451000,452000,453000,454000,455000,456000,457000,458000,459000,460000,461000,462000,463000,464000,465000,466000,467000,468000,469000,470000,471000,472000,473000,474000,475000,476000,477000,478000,479000,480000,481000,482000,483000,484000,485000,486000,487000,488000,489000,490000,491000,492000,493000,494000,495000,496000,497000,498000,499000,500000,501000,502000,503000,504000,505000,506000,507000,508000,509000,510000,511000,512000,513000,514000,515000,516000,517000,518000,519000,520000,521000,522000,523000,524000,525000,526000,527000,528000,529000,530000,531000,532000,533000,534000,535000,536000,537000,538000,539000,540000,541000,542000,543000,544000,545000,546000,547000,548000,549000,550000,551000,552000,553000,554000,555000,556000,557000,558000,559000,560000,561000,562000,563000,564000,565000,566000,567000,568000,569000,570000,571000,572000,573000,574000,575000,576000,577000,578000,579000,580000,581000,582000,583000,584000,585000,586000,587000,588000,589000,590000,591000,592000,593000,594000,595000,596000,597000,598000,599000,600000,601000,602000,603000,604000,605000,606000,607000,608000,609000,610000,611000,612000,613000,614000,615000,616000,617000,618000,619000,620000,621000,622000,623000,624000,625000,626000,627000,628000,629000,630000,631000,632000,633000,634000,635000,636000,637000,638000,639000,640000,641000,642000,643000,644000,645000,646000,647000,648000,649000,650000,651000,652000,653000,654000,655000,656000,657000,658000,659000,660000,661000,662000,663000,664000,665000,666000,667000,668000,669000,670000,671000,672000,673000,674000,675000,676000,677000,678000,679000,680000,681000,682000,683000,684000,685000,686000,687000,688000,689000,690000,691000,692000,693000,694000,695000,696000,697000,698000,699000,700000,701000,702000,703000,704000,705000,706000,707000,708000,709000,710000,711000,712000,713000,714000,715000,716000,717000,718000,719000,720000,721000,722000,723000,724000,725000,726000,727000,728000,729000,730000,731000,732000,733000,734000,735000,736000,737000,738000,739000,740000,741000,742000,743000,744000,745000,746000,747000,748000,749000,750000,751000,752000,753000,754000,755000,756000,757000,758000,759000,760000,761000,762000,763000,764000,765000,766000,767000,768000,769000,770000,771000,772000,773000,774000,775000,776000,777000,778000,779000,780000,781000,782000,783000,784000,785000,786000,787000,788000,789000,790000,791000,792000,793000,794000,795000,796000,797000,798000,799000,800000],\"y\":{\"__ndarray__\":\"AAAAAAAAAAAAAAAAAAAAAAAAAAAAAAAAAAAAAAAAAAAAAAAAAAAAAAAAAAAAAAAAAAAAAAAAAAAAAAAAAAAAAAAAAAAAAAAAAAAAAAAAAAAAAAAAAAAAAAAAAAAAAAAAAAAAAAAAAAAAAAAAAAAAAAAAAAAAAAAAAAAAAAAAAAAAAAAAAAAAAAAAAAAAAAAAAAAAAAAAAAAAAAAAAAAAAAAAAAAAAAAAAAAAAAAAAAAAAAAAAAAAAAAAAAAAAAAAAAAAAAAAAAAAAAAAAAAAAAAAAAAAAAAAAAAAAAAAAAAAAAAAAAAAAAAAAAAAAAAAAAAAAAAAAAAAAAAAAAAAAAAAAAAAAAAAAAAAAAAAAAAAAAAAAAAAAAAAAAAAAAAAAAAAAAAAAAAAAAAAAAAAAAAAAAAAAAAAAAAAAAAAAAAAAAAAAAAAAAAAAAAAAAAAAAAAAAAAAAAAAAAAAAAAAAAAAAAAAAAAAAAAAAAAAAAAAAAAAAAAAAAAAAAAAAAAAAAAAAAAAAAAAAAAAAAAAAAAAAAAAAAAAAAAAAAAAAAAAAAAAAAAAAAAAAAAAAAAAAAAAAAAAAAAAAAAAAAAAAAAAAAAAAAAAAAAAAAAAAAAAAAAAAAAAAAAAAAAAAAAAAAAAAAAAAAAAAAAAAAAAAAAAAAAAAAAAAAAAAAAAAAAAAAAAAAAAAAAAAAAAAAAAAAAAAAAAAAAAAAAAAAAAAAAAAAAAAAAAAAAAAAAAAAAAAAAAAAAAAAAAAAAAAAAAAAAAAAAAAAAAAAAAAAAAAAAAAAAAAAAAAAAAAAAAAAAAAAAAAAAAAAAAAAAAAAAAAAAAAAAAAAAAAAAAAAAAAAAAAAAAAAAAAAAAAAAAAAAAAAAAAAAAAAAAAAAAAAAAAAAAAAAAAAAAAAAAAAAAAAAAAAAAAAAAAAAAAAAAAAAAAAAAAAAAAAAAAAAAAAAAAAAAAAAAAAAAAAAAAAAAAAAAAAAAAAAAAAAAAAAAAAAAAAAAAAAAAAAAAAAAAAAAAAAAAAAAAAAAAAAAAAAAAAAAAAAAAAAAAAAAAAAAAAAAAAAAAAAAAAAAAAAAAAAAAAAAAAAAAAAAAAAAAAAAAAAAAAAAAAAAAAAAAAAAAAAAAAAAAAAAAAAAAAAAAAAAAAAAAAAAAAAAAAAAAAAAAAAAAAAAAAAAAAAAAAAAAAAAAAAAAAAAAAAAAAAAAAAAAAAAAAAAAAAAAAAAAAAAAAAAAAAAAAAAAAAAAAAAAAAAAAAAAAAAAAAAAAAAAAAAAAAAAAAAAAAAAAAAAAAAAAAAAAAAAAAAAAAAAAAAAAAAAAAAAAAAAAAAAAAAAAAAAAAAAAAAAAAAAAAAAAAAAAAAAAAAAAAAAAAAAAAAAAAAAAAAAAAAAAAAAAAAAAAAAAAAAAAAAAAAAAAAAAAAAAAAAAAAAAAAAAAAAAAAAAAAAAAAAAAAAAAAAAAAAAAAAAAAAAAAAAAAAAAAAAAAAAAAAAAAAAAAAAAAAAAAAAAAAAAAAAAAAAAAAAAAAAAAAAAAAAAAAAAAAAAAAAAAAAAAAAAAAAAAAAAAAAAAAAAAAAAAAAAAAAAAAAAAAAAAAAAAAAAAACfoNZE7vicP5+g1kTu+Kw/ePigs7K6tT+foNZE7vi8P2QkBuuUG8I/ePigs7K6xT+LzDt80FnJP5+g1kTu+Mw/AAAAAAAA0D8AAAAAAADQP////////88/AAAAAAAA0D/O2vePgg/RP2mQ56+HLtM/BEbXz4xN1T+f+8bvkWzXPzqxtg+Xi9k/1mamL5yq2z9wHJZPocndPwzShW+m6N8/ghd9BWnG3j88NgLxun7dP/NUh9wMN9w/rHMMyF7v2j9kkpGzsKfZPxyxFp8CYNg/1c+bilQY1z+N7iB2ptDVP0YNpmH4iNQ//isrTUpB0z+2SrA4nPnRP25pNSTusdA/7LznFw6j0D8sBVl32QfSP21NytakbNM/rZU7NnDR1D/t3ayVOzbWPy0mHvUGm9c/bm6PVNL/2D+utgC0nWTaP+7+cRNpyds/LkfjcjQu3T9uj1TS/5LeP67XxTHL998/clDCTNu/3j8qb0c4LXjdP+ONzCN/MNw/m6xRD9Ho2j9Uy9b6IqHZPwzqW+Z0Wdg/xAjh0cYR1z98J2a9GMrVPzVG66hqgtQ/7WRwlLw60z+lg/V/DvPRP16iemtgq9A/PV0K50Ao0T+T1VaBVJXTP+hNoxtoAtY/PsbvtXtv2D+TPjxQj9zaP+i2iOqiSd0/Pi/VhLa23z8AAAAAAADgPwAAAAAAAOA/AAAAAAAA4D8AAAAAAADgPwAAAAAAAOA/AAAAAAAA4D8AAAAAAADgPwAAAAAAAOA/AAAAAAAA4D8AAAAAAADgPwAAAAAAAOA/AAAAAAAA4D8AAAAAAADgPwAAAAAAAOA/AAAAAAAA4D8AAAAAAADgPwAAAAAAAOA/AAAAAAAA4D8AAAAAAADgPwAAAAAAAOA/AAAAAAAA4D8AAAAAAADgPwAAAAAAAOA/AAAAAAAA4D8AAAAAAADgPwAAAAAAAOA/AAAAAAAA4D8AAAAAAADgPwAAAAAAAOA/AAAAAAAA4D8AAAAAAADgPwAAAAAAAOA/AAAAAAAA4D8AAAAAAADgPwAAAAAAAOA/AAAAAAAA4D8AAAAAAADgPwAAAAAAAOA/AAAAAAAA4D8AAAAAAADgPwAAAAAAAOA/AAAAAAAA4D8AAAAAAADgPwAAAAAAAOA/////////3z8AAAAAAADgPwAAAAAAAOA/AAAAAAAA4D8AAAAAAADgPwAAAAAAAOA/AAAAAAAA4D8AAAAAAADgPwAAAAAAAOA/AAAAAAAA4D8AAAAAAADgPwAAAAAAAOA/AAAAAAAA4D8AAAAAAADgPwAAAAAAAOA/AAAAAAAA4D8AAAAAAADgPwAAAAAAAOA/AAAAAAAA4D8AAAAAAADgPwAAAAAAAOA/AAAAAAAA4D8AAAAAAADgPwAAAAAAAOA/AAAAAAAA4D8AAAAAAADgPwAAAAAAAOA/AAAAAAAA4D8AAAAAAADgPwAAAAAAAOA/AAAAAAAA4D8AAAAAAADgPwAAAAAAAOA/AAAAAAAA4D8AAAAAAADgPwAAAAAAAOA/AAAAAAAA4D8AAAAAAADgPwAAAAAAAOA/AAAAAAAA4D8AAAAAAADgPwAAAAAAAOA/AAAAAAAA4D8AAAAAAADgPwAAAAAAAOA/AAAAAAAA4D8AAAAAAADgPwAAAAAAAOA/AAAAAAAA4D8AAAAAAADgPwAAAAAAAOA/AAAAAAAA4D8AAAAAAADgPwAAAAAAAOA/AAAAAAAA4D8AAAAAAADgPwAAAAAAAOA/AAAAAAAA4D8AAAAAAADgPwAAAAAAAOA/AAAAAAAA4D8AAAAAAADgPwAAAAAAAOA/AAAAAAAA4D8AAAAAAADgPwAAAAAAAOA/AAAAAAAA4D8AAAAAAADgPwAAAAAAAOA/AAAAAAAA4D8AAAAAAADgPwAAAAAAAOA/AAAAAAAA4D/////////fPwAAAAAAAOA/AAAAAAAA4D8AAAAAAADgPwAAAAAAAOA/AAAAAAAA4D8AAAAAAADgPwAAAAAAAOA/AAAAAAAA4D8AAAAAAADgPwAAAAAAAOA/AAAAAAAA4D8AAAAAAADgPwAAAAAAAOA/AAAAAAAA4D8AAAAAAADgPwAAAAAAAOA/AAAAAAAA4D8AAAAAAADgPwAAAAAAAOA/mJ7mYnuq4D8uPc3F9lThP8bbsyhy/+E/XXqai+2p4j/0GIHuaFTjP4u3Z1Hk/uM/I1ZOtF+p5D+69DQX21PlP1GTG3pW/uU/6TEC3dGo5j+A0Og/TVPnPxdvz6LI/ec/dXYyOEpe5z/RBfUtc7rmPy2VtyOcFuY/iiR6GcVy5T/mszwP7s7kP0JD/wQXK+Q/ntLB+j+H4z/6YYTwaOPiP1bxRuaRP+I/soAJ3Lqb4T8OEMzR4/fgP2qfjscMVOA/AAAAAAAA4D8AAAAAAADgPwAAAAAAAOA/AAAAAAAA4D8AAAAAAADgPwAAAAAAAOA/AAAAAAAA4D8AAAAAAADgPwAAAAAAAOA/AAAAAAAA4D8AAAAAAADgPwAAAAAAAOA/AAAAAAAA4D8AAAAAAADgPwAAAAAAAOA/AAAAAAAA4D8AAAAAAADgPwAAAAAAAOA/AAAAAAAA4D8AAAAAAADgPwAAAAAAAOA/AAAAAAAA4D8AAAAAAADgPwAAAAAAAOA/AAAAAAAA4D8AAAAAAADgPwAAAAAAAOA/AAAAAAAA4D8AAAAAAADgPwAAAAAAAOA/AAAAAAAA4D8AAAAAAADgPwAAAAAAAOA/AAAAAAAA4D8AAAAAAADgPwAAAAAAAOA/AAAAAAAA4D8AAAAAAADgPwAAAAAAAOA/AAAAAAAA4D8AAAAAAADgPwAAAAAAAOA/AAAAAAAA4D8AAAAAAADgPwAAAAAAAOA/AAAAAAAA4D8AAAAAAADgPwAAAAAAAOA/AAAAAAAA4D8AAAAAAADgP0YByJ+JWOA/7jdj8lYO4T+Vbv5EJMThPzylmZfxeeI/5Ns06r4v4z+LEtA8jOXjPzNJa49Zm+Q/2n8G4iZR5T+CtqE09AbmPyntPIfBvOY/0SPY2Y5y5z+WlSaloNvnP/Ik6ZrJN+c/TrSrkPKT5j+qQ26GG/DlPwfTMHxETOU/Y2LzcW2o5D+/8bVnlgTkPxuBeF2/YOM/eBA7U+i84j/Un/1IERniPzAvwD46deE/jL6CNGPR4D/oTUUqjC3gPyHC2AgvoOA/nVM3ewt+4T8a5ZXt51viP5Z29F/EOeM/EghT0qAX5D+OmbFEffXkPworELdZ0+U/h7xuKTax5j8DTs2bEo/nP6znpPeNr+c/CHdn7bYL5z9kBirj32fmP8CV7NgIxOU/HCWvzjEg5T94tHHEWnzkP9RDNLqD2OM/MNP2r6w04z+NYrml1ZDiP+nxe5v+7OE/RYE+kSdJ4T+hEAGHUKXgP/6fw3x5AeA/tDjupHbN4D/kcLr5ypzhPxSphk4fbOI/ROFSo3M74z9zGR/4xwrkP6NR60wc2uQ/0om3oXCp5T8CwoP2xHjmPzL6T0sZSOc/AAAAAAAA6D8AAAAAAADoPwAAAAAAAOg/AAAAAAAA6D8AAAAAAADoPwAAAAAAAOg/AAAAAAAA6D8AAAAAAADoPwAAAAAAAOg/AAAAAAAA6D8AAAAAAADoPwAAAAAAAOg/AAAAAAAA6D8AAAAAAADoPwAAAAAAAOg/AAAAAAAA6D8AAAAAAADoPwAAAAAAAOg/AAAAAAAA6D8AAAAAAADoPwAAAAAAAOg/AAAAAAAA6D8AAAAAAADoPwAAAAAAAOg/AAAAAAAA6D8AAAAAAADoPwAAAAAAAOg/AAAAAAAA6D8AAAAAAADoPwAAAAAAAOg/AAAAAAAA6D8AAAAAAADoPwAAAAAAAOg/AAAAAAAA6D8AAAAAAADoPwAAAAAAAOg/AAAAAAAA6D8AAAAAAADoPwAAAAAAAOg/AAAAAAAA6D8AAAAAAADoPwAAAAAAAOg/AAAAAAAA6D8AAAAAAADoPwAAAAAAAOg/AAAAAAAA6D8AAAAAAADoPwAAAAAAAOg/AAAAAAAA6D8AAAAAAADoPwAAAAAAAOg/AAAAAAAA6D8AAAAAAADoPwAAAAAAAOg/AAAAAAAA6D8AAAAAAADoPwAAAAAAAOg/AAAAAAAA6D8AAAAAAADoPwAAAAAAAOg/AAAAAAAA6D8AAAAAAADoPwAAAAAAAOg/AAAAAAAA6D8AAAAAAADoPwAAAAAAAOg/AAAAAAAA6D8AAAAAAADoPwAAAAAAAOg/AAAAAAAA6D8AAAAAAADoPwAAAAAAAOg/AAAAAAAA6D8AAAAAAADoPwAAAAAAAOg/AAAAAAAA6D8AAAAAAADoPwAAAAAAAOg/AAAAAAAA6D8AAAAAAADoPwAAAAAAAOg/AAAAAAAA6D8AAAAAAADoPwAAAAAAAOg/AAAAAAAA6D8AAAAAAADoPwAAAAAAAOg/AAAAAAAA6D8AAAAAAADoPwAAAAAAAOg/AAAAAAAA6D8AAAAAAADoPwAAAAAAAOg/AAAAAAAA6D8AAAAAAADoPwAAAAAAAOg/Wm+xjki66D+03mIdkXTpPw1OFKzZLuo/aL3FOiLp6j/BLHfJaqPrPxucKFizXew/dQva5vsX7T/Peot1RNLtPyjqPASNjO4/glnuktVG7z9XlX1XBP/vP7QkQE0tW+8/D7QCQ1a37j9rQ8U4fxPuP8jShy6ob+0/JGJKJNHL7D+A8Qwa+ifsP9yAzw8jhOs/OBCSBUzg6j+Un1T7dDzqP/AuF/GdmOk/Tb7Z5sb06D+pTZzc71DoPwAAAAAAAOg/AAAAAAAA6D8AAAAAAADoPwAAAAAAAOg/AAAAAAAA6D8AAAAAAADoPwAAAAAAAOg/AAAAAAAA6D8AAAAAAADoPwAAAAAAAOg/AAAAAAAA6D8AAAAAAADoP1EqOyOIAeg/7LZqaNQA6T+HQ5qtIADqPyLQyfJs/+o/vVz5N7n+6z9Y6Sh9Bf7sP/N1WMJR/e0/jgKIB5787j8pj7dM6vvvPwAAAAAAAPA/AAAAAAAA8D8AAAAAAADwPwAAAAAAAPA/AAAAAAAA8D8AAAAAAADwPwAAAAAAAPA/AAAAAAAA8D8AAAAAAADwPwAAAAAAAPA/AAAAAAAA8D8AAAAAAADwPwAAAAAAAPA/AAAAAAAA8D8AAAAAAADwPwAAAAAAAPA/AAAAAAAA8D8AAAAAAADwPwAAAAAAAPA/AAAAAAAA8D8AAAAAAADwPwAAAAAAAPA/AAAAAAAA8D8AAAAAAADwPwAAAAAAAPA/AAAAAAAA8D8AAAAAAADwPwAAAAAAAPA/AAAAAAAA8D8AAAAAAADwPwAAAAAAAPA/AAAAAAAA8D8AAAAAAADwPwAAAAAAAPA/AAAAAAAA8D8AAAAAAADwPwAAAAAAAPA/AAAAAAAA8D8AAAAAAADwPwAAAAAAAPA/AAAAAAAA8D8AAAAAAADwPwAAAAAAAPA/AAAAAAAA8D8AAAAAAADwPwAAAAAAAPA/AAAAAAAA8D8AAAAAAADwPwAAAAAAAPA/AAAAAAAA8D8AAAAAAADwPwAAAAAAAPA/AAAAAAAA8D8AAAAAAADwPwAAAAAAAPA/AAAAAAAA8D8AAAAAAADwPwAAAAAAAPA/AAAAAAAA8D8AAAAAAADwPwAAAAAAAPA/AAAAAAAA8D8AAAAAAADwPwAAAAAAAPA/AAAAAAAA8D8AAAAAAADwPwAAAAAAAPA/AAAAAAAA8D8AAAAAAADwPwAAAAAAAPA/AAAAAAAA8D8AAAAAAADwPwAAAAAAAPA/AAAAAAAA8D8AAAAAAADwPwAAAAAAAPA/AAAAAAAA8D8AAAAAAADwPwAAAAAAAPA/AAAAAAAA8D8AAAAAAADwPwAAAAAAAPA/AAAAAAAA8D8AAAAAAADwPwAAAAAAAPA/AAAAAAAA8D8AAAAAAADwPwAAAAAAAPA/AAAAAAAA8D8AAAAAAADwPwAAAAAAAPA/AAAAAAAA8D8AAAAAAADwPwAAAAAAAPA/AAAAAAAA8D8AAAAAAADwPwAAAAAAAPA/AAAAAAAA8D8AAAAAAADwPwAAAAAAAPA/AAAAAAAA8D8AAAAAAADwPwAAAAAAAPA/AAAAAAAA8D8AAAAAAADwPwAAAAAAAPA/AAAAAAAA8D8AAAAAAADwPwAAAAAAAPA/AAAAAAAA8D8AAAAAAADwPwAAAAAAAPA/AAAAAAAA8D8AAAAAAADwPwAAAAAAAPA/AAAAAAAA8D8AAAAAAADwPwAAAAAAAPA/AAAAAAAA8D8AAAAAAADwPwAAAAAAAPA/AAAAAAAA8D8AAAAAAADwPwAAAAAAAPA/AAAAAAAA8D8AAAAAAADwPwAAAAAAAPA/AAAAAAAA8D8AAAAAAADwPwAAAAAAAPA/AAAAAAAA8D8AAAAAAADwPwAAAAAAAPA/AAAAAAAA8D8AAAAAAADwPwAAAAAAAPA/AAAAAAAA8D8AAAAAAADwPwAAAAAAAPA/AAAAAAAA8D8AAAAAAADwPwAAAAAAAPA/AAAAAAAA8D8AAAAAAADwPwAAAAAAAPA/AAAAAAAA8D/////////vPwAAAAAAAPA/AAAAAAAA8D8AAAAAAADwPwAAAAAAAPA/AAAAAAAA8D8AAAAAAADwPwAAAAAAAPA/AAAAAAAA8D8AAAAAAADwPwAAAAAAAPA/AAAAAAAA8D8AAAAAAADwPwAAAAAAAPA/AAAAAAAA8D8AAAAAAADwPwAAAAAAAPA/AAAAAAAA8D8AAAAAAADwPwAAAAAAAPA/AAAAAAAA8D8AAAAAAADwPwAAAAAAAPA/AAAAAAAA8D8AAAAAAADwPwAAAAAAAPA/AAAAAAAA8D8AAAAAAADwPwAAAAAAAPA/AAAAAAAA8D8AAAAAAADwPwAAAAAAAPA/AAAAAAAA8D8AAAAAAADwPwAAAAAAAPA/\",\"dtype\":\"float64\",\"shape\":[801]}}},\"id\":\"e161a3a9-b67c-461d-9378-fef72a082958\",\"type\":\"ColumnDataSource\"},{\"attributes\":{\"bottom_units\":\"screen\",\"fill_alpha\":{\"value\":0.5},\"fill_color\":{\"value\":\"lightgrey\"},\"left_units\":\"screen\",\"level\":\"overlay\",\"line_alpha\":{\"value\":1.0},\"line_color\":{\"value\":\"black\"},\"line_dash\":[4,4],\"line_width\":{\"value\":2},\"plot\":null,\"render_mode\":\"css\",\"right_units\":\"screen\",\"top_units\":\"screen\"},\"id\":\"86a7b7ce-3707-4ef8-8d15-f68255c1e8e1\",\"type\":\"BoxAnnotation\"},{\"attributes\":{\"label\":{\"value\":\"0.1 Alpha\"},\"renderers\":[{\"id\":\"fc87e6e7-653e-4361-9cd8-a931b638517a\",\"type\":\"GlyphRenderer\"}]},\"id\":\"acef732e-bbdf-4ab7-8c18-c3d5c38f8348\",\"type\":\"LegendItem\"},{\"attributes\":{\"dimension\":1,\"plot\":{\"id\":\"cf75ce4e-2a13-4333-be4f-a440b43792c1\",\"subtype\":\"Figure\",\"type\":\"Plot\"},\"ticker\":{\"id\":\"88a4ce69-5b8e-4dd4-86d4-2007ee0a10df\",\"type\":\"BasicTicker\"}},\"id\":\"8054d13d-111e-4cbf-b6a2-9393ad2b71b8\",\"type\":\"Grid\"},{\"attributes\":{\"axis_label\":\"Episode Reward\",\"formatter\":{\"id\":\"730f09a5-a3e8-4163-afc1-e41e9b412a58\",\"type\":\"BasicTickFormatter\"},\"plot\":{\"id\":\"cf75ce4e-2a13-4333-be4f-a440b43792c1\",\"subtype\":\"Figure\",\"type\":\"Plot\"},\"ticker\":{\"id\":\"88a4ce69-5b8e-4dd4-86d4-2007ee0a10df\",\"type\":\"BasicTicker\"}},\"id\":\"c1b16b56-88eb-4fa6-b1b8-731681439a16\",\"type\":\"LinearAxis\"},{\"attributes\":{\"data_source\":{\"id\":\"ac633f6a-c946-4b4c-b816-6fe288394d27\",\"type\":\"ColumnDataSource\"},\"glyph\":{\"id\":\"75197f82-3daf-40db-bcf7-c44c0b5f6a07\",\"type\":\"Line\"},\"hover_glyph\":null,\"nonselection_glyph\":{\"id\":\"b2a3ed97-8213-461a-8b31-f18fcefbe39b\",\"type\":\"Line\"},\"selection_glyph\":null},\"id\":\"c6086e5c-b974-477e-ad70-7a0f79fe7e59\",\"type\":\"GlyphRenderer\"},{\"attributes\":{\"plot\":{\"id\":\"cf75ce4e-2a13-4333-be4f-a440b43792c1\",\"subtype\":\"Figure\",\"type\":\"Plot\"}},\"id\":\"ea777e55-e05d-450d-91c3-0f5988993f38\",\"type\":\"SaveTool\"},{\"attributes\":{\"data_source\":{\"id\":\"f98db869-8fc4-4ef4-be07-8eca215cb377\",\"type\":\"ColumnDataSource\"},\"glyph\":{\"id\":\"f509ed7b-756c-47d6-a421-46323f3d180a\",\"type\":\"Line\"},\"hover_glyph\":null,\"nonselection_glyph\":{\"id\":\"6d3b3099-d9a4-4450-8305-409fe8a8a5b9\",\"type\":\"Line\"},\"selection_glyph\":null},\"id\":\"00f6d499-a500-4c28-b03f-ac99ba772c0f\",\"type\":\"GlyphRenderer\"},{\"attributes\":{\"active_drag\":\"auto\",\"active_scroll\":\"auto\",\"active_tap\":\"auto\",\"tools\":[{\"id\":\"4d6ae605-f970-4020-b847-d8368b7cb4fd\",\"type\":\"PanTool\"},{\"id\":\"0ad68fb4-691a-4115-b8ce-1476b77e905d\",\"type\":\"WheelZoomTool\"},{\"id\":\"280b4384-99d0-4933-81d7-6eb88aea230b\",\"type\":\"BoxZoomTool\"},{\"id\":\"ea777e55-e05d-450d-91c3-0f5988993f38\",\"type\":\"SaveTool\"},{\"id\":\"2da1712a-9913-4b2f-82f5-3e72e3feb94d\",\"type\":\"ResetTool\"},{\"id\":\"98fdd5e9-8fe2-4b5f-87b8-f52d96f89f0e\",\"type\":\"HelpTool\"}]},\"id\":\"fbfc565b-8d9a-4547-bf6b-32048d1dc5ce\",\"type\":\"Toolbar\"},{\"attributes\":{},\"id\":\"730f09a5-a3e8-4163-afc1-e41e9b412a58\",\"type\":\"BasicTickFormatter\"},{\"attributes\":{\"plot\":null,\"text\":\"Med Maze 10 50k Fresh Counts 1.5 NScaler Alpha\"},\"id\":\"10c2a839-cc92-4e37-b8e3-0b82fc19180e\",\"type\":\"Title\"},{\"attributes\":{\"line_alpha\":{\"value\":0.1},\"line_color\":{\"value\":\"#1f77b4\"},\"line_width\":{\"value\":2},\"x\":{\"field\":\"x\"},\"y\":{\"field\":\"y\"}},\"id\":\"b2a3ed97-8213-461a-8b31-f18fcefbe39b\",\"type\":\"Line\"},{\"attributes\":{\"plot\":{\"id\":\"cf75ce4e-2a13-4333-be4f-a440b43792c1\",\"subtype\":\"Figure\",\"type\":\"Plot\"}},\"id\":\"98fdd5e9-8fe2-4b5f-87b8-f52d96f89f0e\",\"type\":\"HelpTool\"},{\"attributes\":{\"line_alpha\":{\"value\":0.1},\"line_color\":{\"value\":\"#1f77b4\"},\"line_width\":{\"value\":2},\"x\":{\"field\":\"x\"},\"y\":{\"field\":\"y\"}},\"id\":\"2bb9059b-bdb4-45f0-94ba-3f668bbb632f\",\"type\":\"Line\"},{\"attributes\":{\"line_color\":{\"value\":\"#ff7f00\"},\"line_width\":{\"value\":2},\"x\":{\"field\":\"x\"},\"y\":{\"field\":\"y\"}},\"id\":\"1319f6d7-3804-4bc9-9d16-f56baac9dfce\",\"type\":\"Line\"},{\"attributes\":{\"label\":{\"value\":\"0.9 Alpha\"},\"renderers\":[{\"id\":\"049c817b-21f1-4d2f-9ee9-edc0fdce5028\",\"type\":\"GlyphRenderer\"}]},\"id\":\"773980a9-3006-4576-8c3f-436a8b0f99c7\",\"type\":\"LegendItem\"},{\"attributes\":{\"line_color\":{\"value\":\"#377eb8\"},\"line_width\":{\"value\":2},\"x\":{\"field\":\"x\"},\"y\":{\"field\":\"y\"}},\"id\":\"f509ed7b-756c-47d6-a421-46323f3d180a\",\"type\":\"Line\"},{\"attributes\":{\"line_alpha\":{\"value\":0.1},\"line_color\":{\"value\":\"#1f77b4\"},\"line_width\":{\"value\":2},\"x\":{\"field\":\"x\"},\"y\":{\"field\":\"y\"}},\"id\":\"eeed59a1-42ae-4170-8e5b-0e6a954345c5\",\"type\":\"Line\"},{\"attributes\":{\"data_source\":{\"id\":\"e161a3a9-b67c-461d-9378-fef72a082958\",\"type\":\"ColumnDataSource\"},\"glyph\":{\"id\":\"9971ef20-d9a1-40c6-a9f7-ee2ec24851c4\",\"type\":\"Line\"},\"hover_glyph\":null,\"nonselection_glyph\":{\"id\":\"ca13ee63-50ef-4741-b498-850237fbf3ab\",\"type\":\"Line\"},\"selection_glyph\":null},\"id\":\"fc87e6e7-653e-4361-9cd8-a931b638517a\",\"type\":\"GlyphRenderer\"},{\"attributes\":{\"data_source\":{\"id\":\"6c8590f1-278a-40e3-877e-540c469832fe\",\"type\":\"ColumnDataSource\"},\"glyph\":{\"id\":\"94ad7877-0e2a-4bb6-b41b-bce35252632c\",\"type\":\"Line\"},\"hover_glyph\":null,\"nonselection_glyph\":{\"id\":\"eeed59a1-42ae-4170-8e5b-0e6a954345c5\",\"type\":\"Line\"},\"selection_glyph\":null},\"id\":\"5f8cb483-24f0-456b-b1e7-91ae123afecb\",\"type\":\"GlyphRenderer\"},{\"attributes\":{\"overlay\":{\"id\":\"86a7b7ce-3707-4ef8-8d15-f68255c1e8e1\",\"type\":\"BoxAnnotation\"},\"plot\":{\"id\":\"cf75ce4e-2a13-4333-be4f-a440b43792c1\",\"subtype\":\"Figure\",\"type\":\"Plot\"}},\"id\":\"280b4384-99d0-4933-81d7-6eb88aea230b\",\"type\":\"BoxZoomTool\"},{\"attributes\":{\"items\":[{\"id\":\"acef732e-bbdf-4ab7-8c18-c3d5c38f8348\",\"type\":\"LegendItem\"},{\"id\":\"40e758fe-4d8f-478b-98ec-01a6dbf58fd5\",\"type\":\"LegendItem\"},{\"id\":\"ee7a9140-b66d-4d63-9af1-ca2bb97d456f\",\"type\":\"LegendItem\"},{\"id\":\"761b880b-bc2e-4a30-aa3f-39278e21a21c\",\"type\":\"LegendItem\"},{\"id\":\"773980a9-3006-4576-8c3f-436a8b0f99c7\",\"type\":\"LegendItem\"}],\"location\":[0,-30],\"plot\":{\"id\":\"cf75ce4e-2a13-4333-be4f-a440b43792c1\",\"subtype\":\"Figure\",\"type\":\"Plot\"}},\"id\":\"8c1ec723-d3ce-4fc4-93b2-2516ef5ac3ad\",\"type\":\"Legend\"},{\"attributes\":{\"below\":[{\"id\":\"be319f72-94c0-470f-b1b0-2fb4d29ba3f3\",\"type\":\"LinearAxis\"}],\"left\":[{\"id\":\"c1b16b56-88eb-4fa6-b1b8-731681439a16\",\"type\":\"LinearAxis\"}],\"plot_height\":800,\"plot_width\":1200,\"renderers\":[{\"id\":\"be319f72-94c0-470f-b1b0-2fb4d29ba3f3\",\"type\":\"LinearAxis\"},{\"id\":\"030eb0ed-2871-43e4-b774-954ae862352c\",\"type\":\"Grid\"},{\"id\":\"c1b16b56-88eb-4fa6-b1b8-731681439a16\",\"type\":\"LinearAxis\"},{\"id\":\"8054d13d-111e-4cbf-b6a2-9393ad2b71b8\",\"type\":\"Grid\"},{\"id\":\"86a7b7ce-3707-4ef8-8d15-f68255c1e8e1\",\"type\":\"BoxAnnotation\"},{\"id\":\"fc87e6e7-653e-4361-9cd8-a931b638517a\",\"type\":\"GlyphRenderer\"},{\"id\":\"00f6d499-a500-4c28-b03f-ac99ba772c0f\",\"type\":\"GlyphRenderer\"},{\"id\":\"5f8cb483-24f0-456b-b1e7-91ae123afecb\",\"type\":\"GlyphRenderer\"},{\"id\":\"c6086e5c-b974-477e-ad70-7a0f79fe7e59\",\"type\":\"GlyphRenderer\"},{\"id\":\"049c817b-21f1-4d2f-9ee9-edc0fdce5028\",\"type\":\"GlyphRenderer\"},{\"id\":\"8c1ec723-d3ce-4fc4-93b2-2516ef5ac3ad\",\"type\":\"Legend\"}],\"right\":[{\"id\":\"8c1ec723-d3ce-4fc4-93b2-2516ef5ac3ad\",\"type\":\"Legend\"}],\"title\":{\"id\":\"10c2a839-cc92-4e37-b8e3-0b82fc19180e\",\"type\":\"Title\"},\"tool_events\":{\"id\":\"7bf6723f-6b7c-44d1-9ab1-0dec35dc028c\",\"type\":\"ToolEvents\"},\"toolbar\":{\"id\":\"fbfc565b-8d9a-4547-bf6b-32048d1dc5ce\",\"type\":\"Toolbar\"},\"toolbar_location\":\"above\",\"x_range\":{\"id\":\"eaf66389-a7f9-4fc8-8172-a7bf2541de38\",\"type\":\"DataRange1d\"},\"y_range\":{\"id\":\"a6431a48-52df-47b9-83a8-8f783a14d684\",\"type\":\"Range1d\"}},\"id\":\"cf75ce4e-2a13-4333-be4f-a440b43792c1\",\"subtype\":\"Figure\",\"type\":\"Plot\"},{\"attributes\":{\"line_color\":{\"value\":\"#4daf4a\"},\"line_width\":{\"value\":2},\"x\":{\"field\":\"x\"},\"y\":{\"field\":\"y\"}},\"id\":\"94ad7877-0e2a-4bb6-b41b-bce35252632c\",\"type\":\"Line\"},{\"attributes\":{\"plot\":{\"id\":\"cf75ce4e-2a13-4333-be4f-a440b43792c1\",\"subtype\":\"Figure\",\"type\":\"Plot\"}},\"id\":\"4d6ae605-f970-4020-b847-d8368b7cb4fd\",\"type\":\"PanTool\"},{\"attributes\":{\"callback\":null,\"column_names\":[\"x\",\"y\"],\"data\":{\"x\":[0,1000,2000,3000,4000,5000,6000,7000,8000,9000,10000,11000,12000,13000,14000,15000,16000,17000,18000,19000,20000,21000,22000,23000,24000,25000,26000,27000,28000,29000,30000,31000,32000,33000,34000,35000,36000,37000,38000,39000,40000,41000,42000,43000,44000,45000,46000,47000,48000,49000,50000,51000,52000,53000,54000,55000,56000,57000,58000,59000,60000,61000,62000,63000,64000,65000,66000,67000,68000,69000,70000,71000,72000,73000,74000,75000,76000,77000,78000,79000,80000,81000,82000,83000,84000,85000,86000,87000,88000,89000,90000,91000,92000,93000,94000,95000,96000,97000,98000,99000,100000,101000,102000,103000,104000,105000,106000,107000,108000,109000,110000,111000,112000,113000,114000,115000,116000,117000,118000,119000,120000,121000,122000,123000,124000,125000,126000,127000,128000,129000,130000,131000,132000,133000,134000,135000,136000,137000,138000,139000,140000,141000,142000,143000,144000,145000,146000,147000,148000,149000,150000,151000,152000,153000,154000,155000,156000,157000,158000,159000,160000,161000,162000,163000,164000,165000,166000,167000,168000,169000,170000,171000,172000,173000,174000,175000,176000,177000,178000,179000,180000,181000,182000,183000,184000,185000,186000,187000,188000,189000,190000,191000,192000,193000,194000,195000,196000,197000,198000,199000,200000,201000,202000,203000,204000,205000,206000,207000,208000,209000,210000,211000,212000,213000,214000,215000,216000,217000,218000,219000,220000,221000,222000,223000,224000,225000,226000,227000,228000,229000,230000,231000,232000,233000,234000,235000,236000,237000,238000,239000,240000,241000,242000,243000,244000,245000,246000,247000,248000,249000,250000,251000,252000,253000,254000,255000,256000,257000,258000,259000,260000,261000,262000,263000,264000,265000,266000,267000,268000,269000,270000,271000,272000,273000,274000,275000,276000,277000,278000,279000,280000,281000,282000,283000,284000,285000,286000,287000,288000,289000,290000,291000,292000,293000,294000,295000,296000,297000,298000,299000,300000,301000,302000,303000,304000,305000,306000,307000,308000,309000,310000,311000,312000,313000,314000,315000,316000,317000,318000,319000,320000,321000,322000,323000,324000,325000,326000,327000,328000,329000,330000,331000,332000,333000,334000,335000,336000,337000,338000,339000,340000,341000,342000,343000,344000,345000,346000,347000,348000,349000,350000,351000,352000,353000,354000,355000,356000,357000,358000,359000,360000,361000,362000,363000,364000,365000,366000,367000,368000,369000,370000,371000,372000,373000,374000,375000,376000,377000,378000,379000,380000,381000,382000,383000,384000,385000,386000,387000,388000,389000,390000,391000,392000,393000,394000,395000,396000,397000,398000,399000,400000,401000,402000,403000,404000,405000,406000,407000,408000,409000,410000,411000,412000,413000,414000,415000,416000,417000,418000,419000,420000,421000,422000,423000,424000,425000,426000,427000,428000,429000,430000,431000,432000,433000,434000,435000,436000,437000,438000,439000,440000,441000,442000,443000,444000,445000,446000,447000,448000,449000,450000,451000,452000,453000,454000,455000,456000,457000,458000,459000,460000,461000,462000,463000,464000,465000,466000,467000,468000,469000,470000,471000,472000,473000,474000,475000,476000,477000,478000,479000,480000,481000,482000,483000,484000,485000,486000,487000,488000,489000,490000,491000,492000,493000,494000,495000,496000,497000,498000,499000,500000,501000,502000,503000,504000,505000,506000,507000,508000,509000,510000,511000,512000,513000,514000,515000,516000,517000,518000,519000,520000,521000,522000,523000,524000,525000,526000,527000,528000,529000,530000,531000,532000,533000,534000,535000,536000,537000,538000,539000,540000,541000,542000,543000,544000,545000,546000,547000,548000,549000,550000,551000,552000,553000,554000,555000,556000,557000,558000,559000,560000,561000,562000,563000,564000,565000,566000,567000,568000,569000,570000,571000,572000,573000,574000,575000,576000,577000,578000,579000,580000,581000,582000,583000,584000,585000,586000,587000,588000,589000,590000,591000,592000,593000,594000,595000,596000,597000,598000,599000,600000,601000,602000,603000,604000,605000,606000,607000,608000,609000,610000,611000,612000,613000,614000,615000,616000,617000,618000,619000,620000,621000,622000,623000,624000,625000,626000,627000,628000,629000,630000,631000,632000,633000,634000,635000,636000,637000,638000,639000,640000,641000,642000,643000,644000,645000,646000,647000,648000,649000,650000,651000,652000,653000,654000,655000,656000,657000,658000,659000,660000,661000,662000,663000,664000,665000,666000,667000,668000,669000,670000,671000,672000,673000,674000,675000,676000,677000,678000,679000,680000,681000,682000,683000,684000,685000,686000,687000,688000,689000,690000,691000,692000,693000,694000,695000,696000,697000,698000,699000,700000,701000,702000,703000,704000,705000,706000,707000,708000,709000,710000,711000,712000,713000,714000,715000,716000,717000,718000,719000,720000,721000,722000,723000,724000,725000,726000,727000,728000,729000,730000,731000,732000,733000,734000,735000,736000,737000,738000,739000,740000,741000,742000,743000,744000,745000,746000,747000,748000,749000,750000,751000,752000,753000,754000,755000,756000,757000,758000,759000,760000,761000,762000,763000,764000,765000,766000,767000,768000,769000,770000,771000,772000,773000,774000,775000,776000,777000,778000,779000,780000,781000,782000,783000,784000,785000,786000,787000,788000,789000,790000,791000,792000,793000,794000,795000,796000,797000,798000,799000,800000],\"y\":{\"__ndarray__\":\"AAAAAAAAAAAAAAAAAAAAAAAAAAAAAAAAAAAAAAAAAAAAAAAAAAAAAAAAAAAAAAAAAAAAAAAAAAAAAAAAAAAAAAAAAAAAAAAAAAAAAAAAAAAAAAAAAAAAAAAAAAAAAAAAAAAAAAAAAAAAAAAAAAAAAAAAAAAAAAAAAAAAAAAAAAAAAAAAAAAAAAAAAAAAAAAAAAAAAAAAAAAAAAAAAAAAAAAAAAAAAAAAAAAAAAAAAAAAAAAAAAAAAAAAAAAAAAAAAAAAAAAAAAAAAAAAAAAAAAAAAAAAAAAAAAAAAAAAAAAAAAAAAAAAAAAAAAAAAAAAAAAAAAAAAAAAAAAAAAAAAAAAAAAAAAAAAAAAAAAAAAAAAAAAAAAAAAAAAAAAAAAAAAAAAAAAAAAAAAAAAAAAAAAAAAAAAAAAAAAAAAAAAAAAAAAAAAAAAAAAAAAAAAAAAAAAAAAAAAAAAAAAAAAAAAAAAAAAAAAAAAAAAAAAAAAAAAAAAAAAAAAAAAAAAAAAAAAAAAAAAAAAAAAAAAAAAAAAAAAAAAAAAAAAAAAAAAAAAAAAAAAAAAAAAAAAAAAAAAAAAAAAAAAAAAAAAAAAAAAAAAAAAAAAAAAAAAAAAAAAAAAAAAAAAAAAAAAAAAAAAAAAAAAAAAAAAAAAAAAAAAAAAAAAAAAAAAAAAAAAAAAAAAAAAAAAAAAAAAAAAAAAAAAAAAAAAAAAAAAAAAAAAAAAAAAAAAAAAAAAAAAAAAAAAAAAAAAAAAAAAAAAAAAAAAAAAAAAAAAAAAAAAAAAAAAAAAAAAAAAAAAAAAAAAAAAAAAAAAAAAAAAAAAAAAAAAAAAAAAAAAAAAAAAAAAAAAAAAAAAAAAAAAAAAAAAAAAAAAAAAAAAAAAAAAAAAAAAAAAAAAAAAAAAAAAAAAAAAAAAAAAAAAAAAAAAAAAAAAAAAAAAAAAAAAAAAAAAAAAAAAAAAAAAAAAAAAAAAAAAAAAAAAAAAAAAAAAAAAAAAAAAAAAAAAAAAAAAAAAAAAAAAAAAAAAAAAAAAAAAAAAAAAAAAAAAAAAAAAAAAAAAAAAAAAAAAAAAAAAAAAAAAAAAAAAAAAAAAAAAAAAAAAAAAAAAAAAAAAAAAAAAAAAAAAAAAAAAAAAAAAAAAAAAAAAAAAAAAAAAAAAAAAAAAAAAAAAAAAAAAAAAAAAAAAAAAAAAAAAAAAAAAAAAAAAAAAAAAAAAAAAAAAAAAAAAAAAAAAAAAAAAAAAAAAAAAAAAAAAAAAAAAAAAAAAAAAAAAAAAAAAAAAAAAAAAAAAAAAAAAAAAAAAAAAAAAAAAAAAAAAAAAAAAAAAAAAAAAAAAAAAAAAAAAAAAAAAAAAAAAAAAAAAAAAAAAAAAAAAAAAAAAAAAAAAAAAAAAAAAAAAAAAAAAAAAAAAAAAAAAAAAAAAAAAAAAAAAAAAAAAAAAAAAAAAAAAAAAAAAAAAAAAAAAAAAAAAAAAAAAAAAAAAAAAAAAAAAAAAAAAAAAAAAAAAAAAAAAAAAAAAAAAAAAAAAAAAAAAAAAAAAAAAAAAAAAAAAAAAAAAAAAAAAAAAAAAAAAAAAAAAAAAAAAAAAAAAAAAAAAAAAAAAAAABq/Jo5+g+YP2r8mjn6D6g/UD00q/sLsj9q/Jo5+g+4P4W7Acj4E74/UD00q/sLwj/dnGfy+g3FP2r8mjn6D8g/+FvOgPkRyz+FuwHI+BPOPwAAAAAAANA/////////zz8AAAAAAADQPwAAAAAAANA/AAAAAAAA0D8AAAAAAADQPwAAAAAAANA/AAAAAAAA0D8AAAAAAADQPwAAAAAAANA/AAAAAAAA0D8AAAAAAADQPwAAAAAAANA/AAAAAAAA0D8AAAAAAADQPwAAAAAAANA/AAAAAAAA0D8BAAAAAADQPwAAAAAAANA/AAAAAAAA0D/////////PP////////88/AAAAAAAA0D/////////PPwAAAAAAANA/AAAAAAAA0D8AAAAAAADQPwAAAAAAANA/AAAAAAAA0D8AAAAAAADQP////////88/////////zz8AAAAAAADQPwAAAAAAANA/AAAAAAAA0D8AAAAAAADQPwAAAAAAANA/AAAAAAAA0D/////////PP////////88/AAAAAAAA0D8AAAAAAADQPwAAAAAAANA/AAAAAAAA0D8AAAAAAADQPwAAAAAAANA/AAAAAAAA0D8AAAAAAADQPwAAAAAAANA/////////zz8AAAAAAADQP////////88/AAAAAAAA0D8AAAAAAADQPwAAAAAAANA/AAAAAAAA0D8AAAAAAADQPwAAAAAAANA/AAAAAAAA0D8AAAAAAADQP////////88/AAAAAAAA0D8AAAAAAADQPwAAAAAAANA/AAAAAAAA0D8AAAAAAADQPwEAAAAAANA/AAAAAAAA0D8AAAAAAADQPwAAAAAAANA/AAAAAAAA0D8AAAAAAADQPwAAAAAAANA/AAAAAAAA0D8AAAAAAADQPwAAAAAAANA/AAAAAAAA0D8AAAAAAADQPwAAAAAAANA/AAAAAAAA0D8AAAAAAADQP////////88/AAAAAAAA0D8AAAAAAADQPwAAAAAAANA/AAAAAAAA0D8AAAAAAADQPwAAAAAAANA/AAAAAAAA0D8AAAAAAADQPwAAAAAAANA/AAAAAAAA0D8AAAAAAADQP////////88/AAAAAAAA0D8AAAAAAADQPwAAAAAAANA/AAAAAAAA0D8AAAAAAADQPwAAAAAAANA/AAAAAAAA0D8AAAAAAADQPwAAAAAAANA/AAAAAAAA0D8AAAAAAADQPwAAAAAAANA/////////zz/////////PPwAAAAAAANA/AAAAAAAA0D8AAAAAAADQPwAAAAAAANA/AAAAAAAA0D8AAAAAAADQPwAAAAAAANA/AAAAAAAA0D8AAAAAAADQPwAAAAAAANA/////////zz8AAAAAAADQPwAAAAAAANA/AAAAAAAA0D8AAAAAAADQPwAAAAAAANA/AAAAAAAA0D/////////PPwAAAAAAANA/tgiCnAin0T8iGobVGfXUP40rig4rQ9g/+TyORzyR2z9kTpKATd/eP+gvy1yvFuE/njhN+be94j9UQc+VwGTkPwpKUTLJC+Y/aG3WZm3W5j/sePrPro7nPwAAAAAAAOg/AAAAAAAA6D8AAAAAAADoPwAAAAAAAOg/AAAAAAAA6D8AAAAAAADoPwAAAAAAAOg/AAAAAAAA6D8AAAAAAADoPwAAAAAAAOg/AAAAAAAA6D8AAAAAAADoPwAAAAAAAOg/AAAAAAAA6D8AAAAAAADoPwAAAAAAAOg/AAAAAAAA6D8AAAAAAADoPwAAAAAAAOg/AAAAAAAA6D8AAAAAAADoPwAAAAAAAOg/AAAAAAAA6D8AAAAAAADoPwAAAAAAAOg/AAAAAAAA6D8AAAAAAADoPwAAAAAAAOg/AAAAAAAA6D8AAAAAAADoPwAAAAAAAOg/AAAAAAAA6D8AAAAAAADoPwAAAAAAAOg/AAAAAAAA6D8AAAAAAADoPwAAAAAAAOg/AAAAAAAA6D8AAAAAAADoP8WgK7XYmug/TuKCH4rQ6T/ZI9qJOwbrP2JlMfTsO+w/VSCnOjwn7T878cCaFrntPyHC2vrwSu4/fCdmvRjK7T/YtiizQSbtPzRG66hqguw/kdWtnpPe6z/tZHCUvDrrP0n0Morlluo/pYP1fw7z6T8CE7h1N0/pP16iemtgq+g/ujE9YYkH6D8mO7JAp6/oP0k53bzGZ+k/bDcIOeYf6j+ONTO1BdjqP7IzXjElkOs/1DGJrURI7D/3L7QpZADtPxou36WDuO0/PCwKIqNw7j9fKjWewijvP4IoYBri4O8/fsucLouJ7z/aWl8ktOXuPzbqIRrdQe4/knnkDwae7T/uCKcFL/rsP0qYaftXVuw/pics8YCy6z8Ct+7mqQ7rP15GsdzSauo/u9Vz0vvG6T8XZTbIJCPpPyS5/If02+c/Hj92suFR5j9E44FUVxvmP2qHjfbM5OU/kCuZmEKu5T+2z6Q6uHflP9xzsNwtQeU/Ahi8fqMK5T8pvMcgGdTkPyzZsRGI1+M/5Pc2/dmP4j+cFrzoK0jhP2cKndfYJeA/ulm84Zoj4j84XHOEtOvkP7ZeKifOs+c/dv2C3bBt5z/SjEXT2cnmPy4cCMkCJuY/iqvKviuC5T/nOo20VN7kP0PKT6p9OuQ/n1kSoKaW4z/76NSVz/LiP1d4l4v4TuI/rQZp6LUs4j8G6dpa3TriP2HLTM0ESeI/DPOroRuU4z8vEQFvtsjmP1EvVjxR/ek/6vAqU4ut7D/oQ9rPiV/tP+WWiUyIEe4/4uk4yYbD7j/gPOhFhXXvPwAAAAAAAPA/AAAAAAAA8D9qpKXydoTvP8YzaOif4O4/IsMq3sg87j9+Uu3T8ZjtP9rhr8ka9ew/N3Fyv0NR7D+TADW1bK3rP++P96qVCes/Sx+6oL5l6j+nrnyW58HpPwM+P4wQHuk/YM0Bgjl66D86q3SFMdXoP5y45W/GDuw/mSo7h0ey7j98SWO0jqruP9jYJaq3Bu4/NGjon+Bi7T+Q96qVCb/sP+yGbYsyG+w/SBYwgVt36z+kpfJ2hNPqPwE1tWytL+o/XcR3YtaL6T+5UzpY/+foPxXj/E0oROg/AAAAAAAA6D8AAAAAAADoP0eP39v0Z+c/pB6i0R3E5j8ArmTHRiDmP1w9J71vfOU/uMzpspjY5D8UXKyowTTkP3Drbp7qkOM/zHoxlBPt4j8oCvSJPEniP4WZtn9lpeE/2dwICJEZ4T9mOD15j5PhP2YC9fN5ceM/B9obVRAr5z+osUK2puTqP+6wyPstre0/3X01YNhg7j9q2WnR1truP3UfgNQmTu4/0a5Cyk+q7T8uPgXAeAbtP4rNx7WhYuw/GqiMf59x6z/SxhFr8SnqP4rlllZD4ug/QgQcQpWa5z/7IqEt51LmP7NBJhk5C+U/XaeRlsrb4z+5NlSM8zfjPxXGFoIclOI/clXZd0Xw4T/O5JttbkzhPyp0XmOXqOA/hgMhWcAE4D8Ww68jbLnhPyDvEEYHgOM/KhtyaKJG5T80R9OKPQ3nPwAAAAAAAOg/AAAAAAAA6D8AAAAAAADoPwAAAAAAAOg/AAAAAAAA6D8cCMkCJnDnP3iXi/hOzOY/1SZO7nco5j8xthDkoITlPxZNZyeDo+Q/z2vsEtVb4z+HinH+JhTiPz+p9ul4zOA/74/3qpUJ3z9fzQGCOXrcP9EKDFnd6tk/QUgWMIFb1z91r9FNcdXVP/kBCtXtA9Y/flRCXGoy1j8Cp3rj5mDWP8zzoFYkydU/moFILrqI2T/uhh1uMPvdPyFG+VbTNuE/jdScaL8Y4z8sjfuhJoziP8pFWtuN/+E/NQwfEVMi4T/bVUj5SbXfP0uTUtDtJd0/vNBcp5GW2j8sDmd+NQfYP7XgRV9BmtU/bf/KSpNS1D8mHlA25QrTP9481SE3w9E/lltaDYl70D8AAAAAAADQPwAAAAAAANA/AAAAAAAA0D8AAAAAAADQPwAAAAAAANA/AAAAAAAA0D8AAAAAAADQPwAAAAAAANA/AAAAAAAA0D8AAAAAAADQPwAAAAAAANA/AAAAAAAA0D8AAAAAAADQPwAAAAAAANA/AAAAAAAA0D8AAAAAAADQPwAAAAAAANA/AAAAAAAA0D8AAAAAAADQPwAAAAAAANA/AAAAAAAA0D8AAAAAAADQPwAAAAAAANA/AAAAAAAA0D8AAAAAAADQPwAAAAAAANA/AAAAAAAA0D8AAAAAAADQPwAAAAAAANA/AAAAAAAA0D/////////PPwAAAAAAANA/AAAAAAAA0D8AAAAAAADQP////////88/AAAAAAAA0D/////////PPwAAAAAAANA/AAAAAAAA0D9mOXBE6D3RP2PBwUWBKNM/YEkTRxoT1T9d0WRIs/3WP1pZtklM6Ng/VuEHS+XS2j9TaVlMfr3cP1Dxqk0XqN4/knnkDwae3z9KmGn7V1bePwK37uapDt0/u9Vz0vvG2z909Pi9TX/aPysTfqmfN9k/5DEDlfHv1z+cUIiAQ6jWP1RvDWyVYNU/DY6SV+cY1D/ErBdDOdHSP33LnC6LidE/NuohGt1B0D8AAAAAAADQPwAAAAAAANA/AAAAAAAA0D8AAAAAAADQPwAAAAAAANA/AAAAAAAA0D8AAAAAAADQPwAAAAAAANA/AAAAAAAA0D8AAAAAAADQPwAAAAAAANA/AAAAAAAA0D8AAAAAAADQPwAAAAAAANA/AAAAAAAA0D8AAAAAAADQPwAAAAAAANA/AAAAAAAA0D8AAAAAAADQP////////88/AAAAAAAA0D/////////PPwAAAAAAANA/WK3qedTy0D+ekDetM4TSP+ZzhOCSFdQ/LFfRE/Km1T9zOh5HUTjXP7oda3qwydg/AQG4rQ9b2j9I5AThbuzbP4/HURTOfd0/1qqeRy0P3z+wcmiR7XzfP2mR7Xw/Nd4/IbByaJHt3D/azvdT46XbP5LtfD81Xto/SgwCK4cW2T8CK4cW2c7XP7pJDAIrh9Y/c2iR7Xw/1T8rhxbZzvfTP+Olm8QgsNI/nMQgsHJo0T9U46WbxCDQPwAAAAAAANA/AAAAAAAA0D8AAAAAAADQPwAAAAAAANA/AAAAAAAA0D/////////PP/BVEYMJUdA/YVcGNuDj0j/SWPvotnbVP0Na8JuNCdg/tFvlTmSc2j8kXdoBOy/dP6t3zDArQOA/rtNzyYe44D/8VzKXhgLhP0jc8GSFTOE/lWCvMoSW4T/i5G0Ag+DhPy9pLM6BKuI/fO3qm4B04j/Jcalpf77iPz6RJ0nXTOI/miDqPgCp4T/3r6w0KQXhP1M/bypSYeA/AAAAAAAA4D8AAAAAAADgPwAAAAAAAOA/AAAAAAAA4D8AAAAAAADgPwAAAAAAAOA/AAAAAAAA4D8AAAAAAADgPwAAAAAAAOA/AAAAAAAA4D8AAAAAAADgPwAAAAAAAOA/AAAAAAAA4D8AAAAAAADgPwAAAAAAAOA/AAAAAAAA4D8ihLzvtVDgP4ApJmelXuE/386P3pRs4j8+dPlVhHrjP5wZY81ziOQ/+77MRGOW5T9ZZDa8UqTmP7gJoDNCsuc/AAAAAAAA6D/VNaVBB4noP9qVqF2J2uk/4PWreQss6z/lVa+VjX3sP+q1srEPz+0/8BW2zZEg7z8AAAAAAADwPwAAAAAAAPA/AAAAAAAA8D8AAAAAAADwPwAAAAAAAPA/AAAAAAAA8D8AAAAAAADwPwAAAAAAAPA/AAAAAAAA8D8AAAAAAADwPwAAAAAAAPA/AAAAAAAA8D8AAAAAAADwP/rVHCCYo+8/VmXfFcH/7j+y9KEL6lvuPw6EZAETuO0/ahMn9zsU7T/GounsZHDsPyIyrOKNzOs/f8Fu2LYo6z/bUDHO34TqPzfg88MI4ek/k2+2uTE96T/w/nivWpnoPwAAAAAAAOg/AAAAAAAA6D8AAAAAAADoPwAAAAAAAOg/AAAAAAAA6D8AAAAAAADoPwAAAAAAAOg/AAAAAAAA6D8AAAAAAADoPwAAAAAAAOg/AAAAAAAA6D8AAAAAAADoPwAAAAAAAOg/UEweWWh56D8oEyxZq1DpPwLaOVnuJ+o/2qBHWTH/6j+0Z1VZdNbrP40uY1m3rew/ZvVwWfqE7T8/vH5ZPVzuPxiDjFmAM+8/K4cW2c737z+HFtnO91PvP+Slm8QgsO4/QDVeukkM7j+cxCCwcmjtP/hT46WbxOw/VOOlm8Qg7D+wcmiR7XzrPwwCK4cW2eo/aJHtfD816j/EILByaJHpPyCwcmiR7eg/fT81XrpJ6D8AAAAAAADoPwAAAAAAAOg/AAAAAAAA6D8AAAAAAADoPwAAAAAAAOg/AAAAAAAA6D8AAAAAAADoPwAAAAAAAOg/AAAAAAAA6D8AAAAAAADoPwAAAAAAAOg/AAAAAAAA6D+dEUIkSw3oP+Rxa/kpF+k/LNKUzggh6j9zMr6j5yrrP7qS53jGNOw/OGmaOFPA7D/bWIYDWybtP35Ics5ijO0/SiTRyyiW7T+ns5PBUfLsPwNDVrd6Tuw/X9IYraOq6z+7YduizAbrPxfxnZj1Yuo/c4Bgjh6/6T/QDyOERxvpPyyf5Xlwd+g/AAAAAAAA6D8AAAAAAADoPwAAAAAAAOg/AAAAAAAA6D8AAAAAAADoPwAAAAAAAOg/AAAAAAAA6D8AAAAAAADoPwAAAAAAAOg/AAAAAAAA6D8AAAAAAADoPwAAAAAAAOg/AAAAAAAA6D8AAAAAAADoPwAAAAAAAOg/AAAAAAAA6D8AAAAAAADoPwAAAAAAAOg/AAAAAAAA6D8AAAAAAADoPwAAAAAAAOg/AAAAAAAA6D8AAAAAAADoPwAAAAAAAOg/AAAAAAAA6D+oPOe4h13oP/OL5vCotuk/PtvlKMoP6z+KKuVg62jsP9V55JgMwu0/\",\"dtype\":\"float64\",\"shape\":[801]}}},\"id\":\"ac633f6a-c946-4b4c-b816-6fe288394d27\",\"type\":\"ColumnDataSource\"},{\"attributes\":{\"use_scientific\":false},\"id\":\"83e01ad2-c050-41e9-9286-8fcb9edad419\",\"type\":\"BasicTickFormatter\"},{\"attributes\":{},\"id\":\"de5115a0-8e6f-466c-acd2-57ca4ba033c3\",\"type\":\"BasicTicker\"},{\"attributes\":{\"line_color\":{\"value\":\"#e41a1c\"},\"line_width\":{\"value\":2},\"x\":{\"field\":\"x\"},\"y\":{\"field\":\"y\"}},\"id\":\"9971ef20-d9a1-40c6-a9f7-ee2ec24851c4\",\"type\":\"Line\"},{\"attributes\":{\"label\":{\"value\":\"0.7 Alpha\"},\"renderers\":[{\"id\":\"c6086e5c-b974-477e-ad70-7a0f79fe7e59\",\"type\":\"GlyphRenderer\"}]},\"id\":\"761b880b-bc2e-4a30-aa3f-39278e21a21c\",\"type\":\"LegendItem\"},{\"attributes\":{\"line_alpha\":{\"value\":0.1},\"line_color\":{\"value\":\"#1f77b4\"},\"line_width\":{\"value\":2},\"x\":{\"field\":\"x\"},\"y\":{\"field\":\"y\"}},\"id\":\"6d3b3099-d9a4-4450-8305-409fe8a8a5b9\",\"type\":\"Line\"},{\"attributes\":{\"plot\":{\"id\":\"cf75ce4e-2a13-4333-be4f-a440b43792c1\",\"subtype\":\"Figure\",\"type\":\"Plot\"},\"ticker\":{\"id\":\"de5115a0-8e6f-466c-acd2-57ca4ba033c3\",\"type\":\"BasicTicker\"}},\"id\":\"030eb0ed-2871-43e4-b774-954ae862352c\",\"type\":\"Grid\"},{\"attributes\":{\"callback\":null,\"column_names\":[\"x\",\"y\"],\"data\":{\"x\":[0,1000,2000,3000,4000,5000,6000,7000,8000,9000,10000,11000,12000,13000,14000,15000,16000,17000,18000,19000,20000,21000,22000,23000,24000,25000,26000,27000,28000,29000,30000,31000,32000,33000,34000,35000,36000,37000,38000,39000,40000,41000,42000,43000,44000,45000,46000,47000,48000,49000,50000,51000,52000,53000,54000,55000,56000,57000,58000,59000,60000,61000,62000,63000,64000,65000,66000,67000,68000,69000,70000,71000,72000,73000,74000,75000,76000,77000,78000,79000,80000,81000,82000,83000,84000,85000,86000,87000,88000,89000,90000,91000,92000,93000,94000,95000,96000,97000,98000,99000,100000,101000,102000,103000,104000,105000,106000,107000,108000,109000,110000,111000,112000,113000,114000,115000,116000,117000,118000,119000,120000,121000,122000,123000,124000,125000,126000,127000,128000,129000,130000,131000,132000,133000,134000,135000,136000,137000,138000,139000,140000,141000,142000,143000,144000,145000,146000,147000,148000,149000,150000,151000,152000,153000,154000,155000,156000,157000,158000,159000,160000,161000,162000,163000,164000,165000,166000,167000,168000,169000,170000,171000,172000,173000,174000,175000,176000,177000,178000,179000,180000,181000,182000,183000,184000,185000,186000,187000,188000,189000,190000,191000,192000,193000,194000,195000,196000,197000,198000,199000,200000,201000,202000,203000,204000,205000,206000,207000,208000,209000,210000,211000,212000,213000,214000,215000,216000,217000,218000,219000,220000,221000,222000,223000,224000,225000,226000,227000,228000,229000,230000,231000,232000,233000,234000,235000,236000,237000,238000,239000,240000,241000,242000,243000,244000,245000,246000,247000,248000,249000,250000,251000,252000,253000,254000,255000,256000,257000,258000,259000,260000,261000,262000,263000,264000,265000,266000,267000,268000,269000,270000,271000,272000,273000,274000,275000,276000,277000,278000,279000,280000,281000,282000,283000,284000,285000,286000,287000,288000,289000,290000,291000,292000,293000,294000,295000,296000,297000,298000,299000,300000,301000,302000,303000,304000,305000,306000,307000,308000,309000,310000,311000,312000,313000,314000,315000,316000,317000,318000,319000,320000,321000,322000,323000,324000,325000,326000,327000,328000,329000,330000,331000,332000,333000,334000,335000,336000,337000,338000,339000,340000,341000,342000,343000,344000,345000,346000,347000,348000,349000,350000,351000,352000,353000,354000,355000,356000,357000,358000,359000,360000,361000,362000,363000,364000,365000,366000,367000,368000,369000,370000,371000,372000,373000,374000,375000,376000,377000,378000,379000,380000,381000,382000,383000,384000,385000,386000,387000,388000,389000,390000,391000,392000,393000,394000,395000,396000,397000,398000,399000,400000,401000,402000,403000,404000,405000,406000,407000,408000,409000,410000,411000,412000,413000,414000,415000,416000,417000,418000,419000,420000,421000,422000,423000,424000,425000,426000,427000,428000,429000,430000,431000,432000,433000,434000,435000,436000,437000,438000,439000,440000,441000,442000,443000,444000,445000,446000,447000,448000,449000,450000,451000,452000,453000,454000,455000,456000,457000,458000,459000,460000,461000,462000,463000,464000,465000,466000,467000,468000,469000,470000,471000,472000,473000,474000,475000,476000,477000,478000,479000,480000,481000,482000,483000,484000,485000,486000,487000,488000,489000,490000,491000,492000,493000,494000,495000,496000,497000,498000,499000,500000,501000,502000,503000,504000,505000,506000,507000,508000,509000,510000,511000,512000,513000,514000,515000,516000,517000,518000,519000,520000,521000,522000,523000,524000,525000,526000,527000,528000,529000,530000,531000,532000,533000,534000,535000,536000,537000,538000,539000,540000,541000,542000,543000,544000,545000,546000,547000,548000,549000,550000,551000,552000,553000,554000,555000,556000,557000,558000,559000,560000,561000,562000,563000,564000,565000,566000,567000,568000,569000,570000,571000,572000,573000,574000,575000,576000,577000,578000,579000,580000,581000,582000,583000,584000,585000,586000,587000,588000,589000,590000,591000,592000,593000,594000,595000,596000,597000,598000,599000,600000,601000,602000,603000,604000,605000,606000,607000,608000,609000,610000,611000,612000,613000,614000,615000,616000,617000,618000,619000,620000,621000,622000,623000,624000,625000,626000,627000,628000,629000,630000,631000,632000,633000,634000,635000,636000,637000,638000,639000,640000,641000,642000,643000,644000,645000,646000,647000,648000,649000,650000,651000,652000,653000,654000,655000,656000,657000,658000,659000,660000,661000,662000,663000,664000,665000,666000,667000,668000,669000,670000,671000,672000,673000,674000,675000,676000,677000,678000,679000,680000,681000,682000,683000,684000,685000,686000,687000,688000,689000,690000,691000,692000,693000,694000,695000,696000,697000,698000,699000,700000,701000,702000,703000,704000,705000,706000,707000,708000,709000,710000,711000,712000,713000,714000,715000,716000,717000,718000,719000,720000,721000,722000,723000,724000,725000,726000,727000,728000,729000,730000,731000,732000,733000,734000,735000,736000,737000,738000,739000,740000,741000,742000,743000,744000,745000,746000,747000,748000,749000,750000,751000,752000,753000,754000,755000,756000,757000,758000,759000,760000,761000,762000,763000,764000,765000,766000,767000,768000,769000,770000,771000,772000,773000,774000,775000,776000,777000,778000,779000,780000,781000,782000,783000,784000,785000,786000,787000,788000,789000,790000,791000,792000,793000,794000,795000,796000,797000,798000,799000,800000],\"y\":{\"__ndarray__\":\"AAAAAAAAAAAAAAAAAAAAAAAAAAAAAAAAAAAAAAAAAAAAAAAAAAAAAAAAAAAAAAAAAAAAAAAAAAAAAAAAAAAAAAAAAAAAAAAAAAAAAAAAAAAAAAAAAAAAAAAAAAAAAAAAAAAAAAAAAAAAAAAAAAAAAAAAAAAAAAAAAAAAAAAAAAAAAAAAAAAAAAAAAAAAAAAAAAAAAAAAAAAAAAAAAAAAAAAAAAAAAAAAAAAAAAAAAAAAAAAAAAAAAAAAAAAAAAAAAAAAAAAAAAAAAAAAAAAAAAAAAAAAAAAAAAAAAAAAAAAAAAAAAAAAAAAAAAAAAAAAAAAAAAAAAAAAAAAAAAAAAAAAAAAAAAAAAAAAAAAAAAAAAAAAAAAAAAAAAAAAAAAAAAAAAAAAAAAAAAAAAAAAAAAAAAAAAAAAAAAAAAAAAAAAAAAAAAAAAAAAAAAAAAAAAAAAAAAAAAAAAAAAAAAAAAAAAAAAAAAAAAAAAAAAAAAAAAAAAAAAAAAAAAAAAAAAAAAAAAAAAAAAAAAAAAAAAAAAAAAAAAAAAAAAAAAAAAAAAAAAAAAAAAAAAAAAAAAAAAAAAAAAAAAAAAAAAAAAAAAAAAAAAAAAAAAAAAAAAAAAAAAAAAAAAAAAAAAAAAAAAAAAAAAAAAAAAAAAAAAAAAAAAAAAAAAAAAAAAAAAAAAAAAAAAAAAAAAAAAAAAAAAAAAAAAAAAAAAAAAAAAAAAAAAAAAAAAAAAAAAAAAAAAAAAAAAAAAAAAAAAAAAAAAAAAAAAAAAAAAAAAAAAAAAAAAAAAAAAAAAAAAAAAAAAAAAAAAAAAAAAAAAAAAAAAAAAAAAAAAAAAAAAAAAAAAAAAAAAAAAAAAAAAAAAAAAAAAAAAAAAAAAAAAAAAAAAAAAAAAAAAAAAAAAAAAAAAAAAAAAAAAAAAAAAAAAAAAAAAAAAAAAAAAAAAAAAAAAAAAAAAAAAAAAAAAAAAAAAAAAAAAAAAAAAAAAAAAAAAAAAAAAAAAAAAAAAAAAAAAAAAAAAAAAAAAAAAAAAAAAAAAAAAAAAAAAAAAAAAAAAAAAAAAAAAAAAAAAAAAAAAAAAAAAAAAAAAAAAAAAAAAAAAAAAAAAAAAAAAAAAAAAAAAAAAAAAAAAAAAAAAAAAAAAAAAAAAAAAAAAAAAAAAAAAAAAAAAAAAAAAAAAAAAAAAAAAAAAAAAAAAAAAAAAAAAAAAAAAAAAAAAAAAAAAAAAAAAAAAAAAAAAAAAAAAAAAAAAAAAAAAAAAAAAAAAAAAAAAAAAAAAAAAAAAAAAAAAAAAAAAAAAAAAAAAAAAAAAAAAAAAAAAAAAAAAAAAAAAAAAAAAAAAAAAAAAAAAAAAAAAAAAAAAAAAAAAAAAAAAAAAAAAAAAAAAAAAAAAAAAAAAAAAAAAAAAAAAAAAAAAAAAAAAAAAAAAAAAAAAAAAAAAAAAAAAAAAAAAAAAAAAAAAAAAAAAt4ta/VcSjj/J6AP+wY2mP1KXWP52y7I/QDqv/QxQuj+X7oJ+UerAPw5ALn6crMQ/hJHZfeduyD/74oR9MjHMP3I0MH19888/AAAAAAAA0D8AAAAAAADQPwAAAAAAANA/AAAAAAAA0D/wVmw10kvRP+Ct2Gqkl9I/0ARFoHbj0z/AW7HVSC/VP6+yHQsbe9Y/oAmKQO3G1z+QYPZ1vxLZP4C3YquRXto/bw7P4GOq2z9fZTsWNvbcP0+8p0sIQt4/PxMUgdqN3z8AAAAAAADgPwAAAAAAAOA/AAAAAAAA4D8AAAAAAADgPwAAAAAAAOA/AAAAAAAA4D8AAAAAAADgPwAAAAAAAOA/AAAAAAAA4D8AAAAAAADgPwAAAAAAAOA/AAAAAAAA4D8AAAAAAADgPwAAAAAAAOA/AAAAAAAA4D8AAAAAAADgPwAAAAAAAOA/AAAAAAAA4D8AAAAAAADgPwAAAAAAAOA/AAAAAAAA4D8AAAAAAADgPwAAAAAAAOA/AAAAAAAA4D8AAAAAAADgPwAAAAAAAOA/AAAAAAAA4D8AAAAAAADgPwAAAAAAAOA/AAAAAAAA4D8AAAAAAADgPwAAAAAAAOA/AAAAAAAA4D8AAAAAAADgPwAAAAAAAOA/AAAAAAAA4D8AAAAAAADgPwAAAAAAAOA/AAAAAAAA4D8AAAAAAADgPwAAAAAAAOA/AAAAAAAA4D8AAAAAAADgPwAAAAAAAOA/AAAAAAAA4D8AAAAAAADgPwAAAAAAAOA/AAAAAAAA4D8AAAAAAADgPwAAAAAAAOA/AAAAAAAA4D8AAAAAAADgPwAAAAAAAOA/AAAAAAAA4D8AAAAAAADgPwAAAAAAAOA/AAAAAAAA4D8AAAAAAADgPwAAAAAAAOA/AAAAAAAA4D8AAAAAAADgPwAAAAAAAOA/AAAAAAAA4D8AAAAAAADgPwAAAAAAAOA/AAAAAAAA4D8AAAAAAADgPwAAAAAAAOA/AAAAAAAA4D8AAAAAAADgPwAAAAAAAOA/AAAAAAAA4D8AAAAAAADgPwAAAAAAAOA/AAAAAAAA4D8AAAAAAADgPwAAAAAAAOA/AAAAAAAA4D8AAAAAAADgPwAAAAAAAOA/AAAAAAAA4D8AAAAAAADgPwAAAAAAAOA/AAAAAAAA4D8AAAAAAADgPwAAAAAAAOA/AAAAAAAA4D8AAAAAAADgP1l5sIhareA/svJgEbVa4T8LbBGaDwjiP2TlwSJqteI/vV5yq8Ri4z8W2CI0HxDkP29R07x5veQ/yMqDRdRq5T8hRDTOLhjmP3q95FaJxeY/0zaV3+Ny5z8AAAAAAADoPwAAAAAAAOg/AAAAAAAA6D8AAAAAAADoPwAAAAAAAOg/AAAAAAAA6D8AAAAAAADoPwAAAAAAAOg/1PGYgcr45z8wgVt381TnP4wQHm0cseY/6J/gYkUN5j9FL6NYbmnlP6G+ZU6XxeQ//U0oRMAh5D9Z3eo56X3jP7VsrS8S2uI/EfxvJTs24j9uizIbZJLhP8oa9RCN7uA/Jqq3BrZK4D+l1mOb46fgP2ROzDyC3OE/IsY03iAR4z/hPZ1/v0XkP5+1BSFeeuU/I/exrZYu5z9sAqIlaWLpP9nwUpgBfuo/Y4TabjV96z/tF2JFaXzsP3er6Rude+0/AT9x8tB67j+L0vjIBHrvPwAAAAAAAPA/AAAAAAAA8D8AAAAAAADwPwAAAAAAAPA/AAAAAAAA8D8AAAAAAADwPwAAAAAAAPA/AAAAAAAA8D8AAAAAAADwPwAAAAAAAPA/AAAAAAAA8D8AAAAAAADwPwAAAAAAAPA/AAAAAAAA8D8AAAAAAADwPwAAAAAAAPA/AAAAAAAA8D8AAAAAAADwPwAAAAAAAPA/AAAAAAAA8D8AAAAAAADwPwAAAAAAAPA/AAAAAAAA8D8AAAAAAADwPwAAAAAAAPA/AAAAAAAA8D8AAAAAAADwPwAAAAAAAPA/AAAAAAAA8D8AAAAAAADwPwAAAAAAAPA/AAAAAAAA8D8AAAAAAADwPwAAAAAAAPA/AAAAAAAA8D8AAAAAAADwPwAAAAAAAPA/AAAAAAAA8D8AAAAAAADwPwAAAAAAAPA/AAAAAAAA8D8AAAAAAADwPwAAAAAAAPA/AAAAAAAA8D8AAAAAAADwPwAAAAAAAPA/AAAAAAAA8D8AAAAAAADwPwAAAAAAAPA/AAAAAAAA8D8AAAAAAADwPwAAAAAAAPA/AAAAAAAA8D8AAAAAAADwPwAAAAAAAPA/AAAAAAAA8D8AAAAAAADwPwAAAAAAAPA/AAAAAAAA8D8AAAAAAADwPwAAAAAAAPA/AAAAAAAA8D8AAAAAAADwPwAAAAAAAPA/AAAAAAAA8D8AAAAAAADwPwAAAAAAAPA/AAAAAAAA8D8AAAAAAADwPwAAAAAAAPA/AAAAAAAA8D8AAAAAAADwPwAAAAAAAPA/AAAAAAAA8D8AAAAAAADwPwAAAAAAAPA/AAAAAAAA8D8AAAAAAADwPwAAAAAAAPA/AAAAAAAA8D8AAAAAAADwPwAAAAAAAPA/AAAAAAAA8D8AAAAAAADwPwAAAAAAAPA/AAAAAAAA8D8AAAAAAADwPwAAAAAAAPA/AAAAAAAA8D8AAAAAAADwPwAAAAAAAPA/AAAAAAAA8D8AAAAAAADwPwAAAAAAAPA/AAAAAAAA8D8AAAAAAADwPwAAAAAAAPA/AAAAAAAA8D8AAAAAAADwPwAAAAAAAPA/AAAAAAAA8D8AAAAAAADwPwAAAAAAAPA/AAAAAAAA8D8AAAAAAADwPwAAAAAAAPA/AAAAAAAA8D8AAAAAAADwPwAAAAAAAPA/AAAAAAAA8D8AAAAAAADwPwAAAAAAAPA/AAAAAAAA8D8AAAAAAADwPwAAAAAAAPA/AAAAAAAA8D8AAAAAAADwPwAAAAAAAPA/AAAAAAAA8D8AAAAAAADwPwAAAAAAAPA/AAAAAAAA8D8AAAAAAADwPwAAAAAAAPA/AAAAAAAA8D8AAAAAAADwPwAAAAAAAPA/AAAAAAAA8D8AAAAAAADwPwAAAAAAAPA/AAAAAAAA8D8AAAAAAADwPwAAAAAAAPA/AAAAAAAA8D8AAAAAAADwPwAAAAAAAPA/AAAAAAAA8D8AAAAAAADwPwAAAAAAAPA/AAAAAAAA8D8AAAAAAADwPwAAAAAAAPA/AAAAAAAA8D8AAAAAAADwPwAAAAAAAPA/AAAAAAAA8D8AAAAAAADwPwAAAAAAAPA/AAAAAAAA8D8AAAAAAADwPwAAAAAAAPA/AAAAAAAA8D8AAAAAAADwPwAAAAAAAPA/AAAAAAAA8D8AAAAAAADwPwAAAAAAAPA/AAAAAAAA8D8AAAAAAADwPwAAAAAAAPA/AAAAAAAA8D8AAAAAAADwPwAAAAAAAPA/AAAAAAAA8D8AAAAAAADwPwAAAAAAAPA/AAAAAAAA8D8AAAAAAADwPwAAAAAAAPA/AAAAAAAA8D8AAAAAAADwPwAAAAAAAPA/AAAAAAAA8D8AAAAAAADwPwAAAAAAAPA/AAAAAAAA8D8AAAAAAADwPwAAAAAAAPA/AAAAAAAA8D8AAAAAAADwPwAAAAAAAPA/AAAAAAAA8D8AAAAAAADwPwAAAAAAAPA/AAAAAAAA8D8AAAAAAADwPwAAAAAAAPA/AAAAAAAA8D8AAAAAAADwPwAAAAAAAPA/AAAAAAAA8D8AAAAAAADwPwAAAAAAAPA/AAAAAAAA8D8AAAAAAADwPwAAAAAAAPA/AAAAAAAA8D8AAAAAAADwPwAAAAAAAPA/AAAAAAAA8D8AAAAAAADwPwAAAAAAAPA/AAAAAAAA8D8AAAAAAADwPwAAAAAAAPA/AAAAAAAA8D8AAAAAAADwPwAAAAAAAPA/AAAAAAAA8D8AAAAAAADwPwAAAAAAAPA/AAAAAAAA8D8AAAAAAADwPwAAAAAAAPA/AAAAAAAA8D8AAAAAAADwPwAAAAAAAPA/AAAAAAAA8D8AAAAAAADwPwAAAAAAAPA/AAAAAAAA8D8AAAAAAADwPwAAAAAAAPA/AAAAAAAA8D8AAAAAAADwPwAAAAAAAPA/AAAAAAAA8D8AAAAAAADwPwAAAAAAAPA/AAAAAAAA8D8AAAAAAADwPwAAAAAAAPA/AAAAAAAA8D8AAAAAAADwPwAAAAAAAPA/AAAAAAAA8D8AAAAAAADwPwAAAAAAAPA/AAAAAAAA8D8AAAAAAADwPwAAAAAAAPA/AAAAAAAA8D8AAAAAAADwPwAAAAAAAPA/AAAAAAAA8D8AAAAAAADwPwAAAAAAAPA/AAAAAAAA8D8AAAAAAADwPwAAAAAAAPA/AAAAAAAA8D8AAAAAAADwPwAAAAAAAPA/AAAAAAAA8D8AAAAAAADwPwAAAAAAAPA/AAAAAAAA8D8AAAAAAADwPwAAAAAAAPA/AAAAAAAA8D8AAAAAAADwPwAAAAAAAPA/AAAAAAAA8D8AAAAAAADwPwAAAAAAAPA/AAAAAAAA8D8AAAAAAADwPwAAAAAAAPA/AAAAAAAA8D8AAAAAAADwPwAAAAAAAPA/AAAAAAAA8D8AAAAAAADwPwAAAAAAAPA/AAAAAAAA8D8AAAAAAADwPwAAAAAAAPA/AAAAAAAA8D8AAAAAAADwPwAAAAAAAPA/AAAAAAAA8D8AAAAAAADwPwAAAAAAAPA/AAAAAAAA8D8AAAAAAADwPwAAAAAAAPA/AAAAAAAA8D8AAAAAAADwPwAAAAAAAPA/AAAAAAAA8D8AAAAAAADwPwAAAAAAAPA/AAAAAAAA8D8AAAAAAADwPwAAAAAAAPA/AAAAAAAA8D8AAAAAAADwPwAAAAAAAPA/AAAAAAAA8D8AAAAAAADwPwAAAAAAAPA/AAAAAAAA8D8AAAAAAADwPwAAAAAAAPA/AAAAAAAA8D8AAAAAAADwPwAAAAAAAPA/AAAAAAAA8D8AAAAAAADwPwAAAAAAAPA/AAAAAAAA8D8AAAAAAADwPwAAAAAAAPA/AAAAAAAA8D8AAAAAAADwPwAAAAAAAPA/AAAAAAAA8D8AAAAAAADwPwAAAAAAAPA/AAAAAAAA8D8AAAAAAADwPwAAAAAAAPA/AAAAAAAA8D8AAAAAAADwPwAAAAAAAPA/AAAAAAAA8D8AAAAAAADwPwAAAAAAAPA/AAAAAAAA8D8AAAAAAADwPwAAAAAAAPA/AAAAAAAA8D8AAAAAAADwPwAAAAAAAPA/AAAAAAAA8D8AAAAAAADwPwAAAAAAAPA/AAAAAAAA8D8AAAAAAADwPwAAAAAAAPA/AAAAAAAA8D8AAAAAAADwPwAAAAAAAPA/AAAAAAAA8D8AAAAAAADwPwAAAAAAAPA/AAAAAAAA8D8AAAAAAADwPwAAAAAAAPA/AAAAAAAA8D8AAAAAAADwPwAAAAAAAPA/AAAAAAAA8D8AAAAAAADwPwAAAAAAAPA/AAAAAAAA8D8AAAAAAADwPwAAAAAAAPA/AAAAAAAA8D8AAAAAAADwPwAAAAAAAPA/AAAAAAAA8D8AAAAAAADwPwAAAAAAAPA/AAAAAAAA8D8AAAAAAADwPwAAAAAAAPA/AAAAAAAA8D8AAAAAAADwPwAAAAAAAPA/AAAAAAAA8D8AAAAAAADwPwAAAAAAAPA/AAAAAAAA8D8AAAAAAADwPwAAAAAAAPA/AAAAAAAA8D8AAAAAAADwPwAAAAAAAPA/AAAAAAAA8D8AAAAAAADwPwAAAAAAAPA/AAAAAAAA8D8AAAAAAADwPwAAAAAAAPA/AAAAAAAA8D8AAAAAAADwPwAAAAAAAPA/AAAAAAAA8D8AAAAAAADwPwAAAAAAAPA/AAAAAAAA8D8AAAAAAADwPwAAAAAAAPA/AAAAAAAA8D8AAAAAAADwPwAAAAAAAPA/AAAAAAAA8D8AAAAAAADwPwAAAAAAAPA/AAAAAAAA8D8AAAAAAADwPwAAAAAAAPA/AAAAAAAA8D8AAAAAAADwPwAAAAAAAPA/AAAAAAAA8D8AAAAAAADwPwAAAAAAAPA/AAAAAAAA8D8AAAAAAADwPwAAAAAAAPA/AAAAAAAA8D8AAAAAAADwPwAAAAAAAPA/AAAAAAAA8D8AAAAAAADwPwAAAAAAAPA/AAAAAAAA8D8AAAAAAADwPwAAAAAAAPA/AAAAAAAA8D8AAAAAAADwPwAAAAAAAPA/AAAAAAAA8D8AAAAAAADwPwAAAAAAAPA/AAAAAAAA8D8AAAAAAADwPwAAAAAAAPA/AAAAAAAA8D8AAAAAAADwPwAAAAAAAPA/AAAAAAAA8D8AAAAAAADwPwAAAAAAAPA/AAAAAAAA8D8AAAAAAADwPwAAAAAAAPA/AAAAAAAA8D8AAAAAAADwPwAAAAAAAPA/AAAAAAAA8D8AAAAAAADwPwAAAAAAAPA/AAAAAAAA8D8AAAAAAADwPwAAAAAAAPA/AAAAAAAA8D8AAAAAAADwPwAAAAAAAPA/AAAAAAAA8D8AAAAAAADwPwAAAAAAAPA/AAAAAAAA8D8AAAAAAADwPwAAAAAAAPA/AAAAAAAA8D8AAAAAAADwPwAAAAAAAPA/AAAAAAAA8D8AAAAAAADwPwAAAAAAAPA/AAAAAAAA8D8AAAAAAADwPwAAAAAAAPA/AAAAAAAA8D8AAAAAAADwPwAAAAAAAPA/AAAAAAAA8D8AAAAAAADwPwAAAAAAAPA/AAAAAAAA8D8AAAAAAADwPwAAAAAAAPA/AAAAAAAA8D8AAAAAAADwPwAAAAAAAPA/AAAAAAAA8D8AAAAAAADwPwAAAAAAAPA/AAAAAAAA8D8AAAAAAADwPwAAAAAAAPA/AAAAAAAA8D8AAAAAAADwPwAAAAAAAPA/AAAAAAAA8D8AAAAAAADwPwAAAAAAAPA/AAAAAAAA8D8AAAAAAADwPwAAAAAAAPA/AAAAAAAA8D8AAAAAAADwPwAAAAAAAPA/AAAAAAAA8D8AAAAAAADwPwAAAAAAAPA/AAAAAAAA8D8AAAAAAADwPwAAAAAAAPA/AAAAAAAA8D8AAAAAAADwPwAAAAAAAPA/\",\"dtype\":\"float64\",\"shape\":[801]}}},\"id\":\"f98db869-8fc4-4ef4-be07-8eca215cb377\",\"type\":\"ColumnDataSource\"},{\"attributes\":{\"line_color\":{\"value\":\"#984ea3\"},\"line_width\":{\"value\":2},\"x\":{\"field\":\"x\"},\"y\":{\"field\":\"y\"}},\"id\":\"75197f82-3daf-40db-bcf7-c44c0b5f6a07\",\"type\":\"Line\"},{\"attributes\":{\"callback\":null},\"id\":\"eaf66389-a7f9-4fc8-8172-a7bf2541de38\",\"type\":\"DataRange1d\"},{\"attributes\":{},\"id\":\"88a4ce69-5b8e-4dd4-86d4-2007ee0a10df\",\"type\":\"BasicTicker\"},{\"attributes\":{\"line_alpha\":{\"value\":0.1},\"line_color\":{\"value\":\"#1f77b4\"},\"line_width\":{\"value\":2},\"x\":{\"field\":\"x\"},\"y\":{\"field\":\"y\"}},\"id\":\"ca13ee63-50ef-4741-b498-850237fbf3ab\",\"type\":\"Line\"},{\"attributes\":{\"data_source\":{\"id\":\"b9f28524-bc8b-49dd-a2ef-cb0e3df42cd6\",\"type\":\"ColumnDataSource\"},\"glyph\":{\"id\":\"1319f6d7-3804-4bc9-9d16-f56baac9dfce\",\"type\":\"Line\"},\"hover_glyph\":null,\"nonselection_glyph\":{\"id\":\"2bb9059b-bdb4-45f0-94ba-3f668bbb632f\",\"type\":\"Line\"},\"selection_glyph\":null},\"id\":\"049c817b-21f1-4d2f-9ee9-edc0fdce5028\",\"type\":\"GlyphRenderer\"},{\"attributes\":{\"plot\":{\"id\":\"cf75ce4e-2a13-4333-be4f-a440b43792c1\",\"subtype\":\"Figure\",\"type\":\"Plot\"}},\"id\":\"2da1712a-9913-4b2f-82f5-3e72e3feb94d\",\"type\":\"ResetTool\"},{\"attributes\":{},\"id\":\"7bf6723f-6b7c-44d1-9ab1-0dec35dc028c\",\"type\":\"ToolEvents\"},{\"attributes\":{\"plot\":{\"id\":\"cf75ce4e-2a13-4333-be4f-a440b43792c1\",\"subtype\":\"Figure\",\"type\":\"Plot\"}},\"id\":\"0ad68fb4-691a-4115-b8ce-1476b77e905d\",\"type\":\"WheelZoomTool\"},{\"attributes\":{\"callback\":null,\"end\":1.1,\"start\":-0.1},\"id\":\"a6431a48-52df-47b9-83a8-8f783a14d684\",\"type\":\"Range1d\"},{\"attributes\":{\"label\":{\"value\":\"0.3 Alpha\"},\"renderers\":[{\"id\":\"00f6d499-a500-4c28-b03f-ac99ba772c0f\",\"type\":\"GlyphRenderer\"}]},\"id\":\"40e758fe-4d8f-478b-98ec-01a6dbf58fd5\",\"type\":\"LegendItem\"},{\"attributes\":{\"callback\":null,\"column_names\":[\"x\",\"y\"],\"data\":{\"x\":[0,1000,2000,3000,4000,5000,6000,7000,8000,9000,10000,11000,12000,13000,14000,15000,16000,17000,18000,19000,20000,21000,22000,23000,24000,25000,26000,27000,28000,29000,30000,31000,32000,33000,34000,35000,36000,37000,38000,39000,40000,41000,42000,43000,44000,45000,46000,47000,48000,49000,50000,51000,52000,53000,54000,55000,56000,57000,58000,59000,60000,61000,62000,63000,64000,65000,66000,67000,68000,69000,70000,71000,72000,73000,74000,75000,76000,77000,78000,79000,80000,81000,82000,83000,84000,85000,86000,87000,88000,89000,90000,91000,92000,93000,94000,95000,96000,97000,98000,99000,100000,101000,102000,103000,104000,105000,106000,107000,108000,109000,110000,111000,112000,113000,114000,115000,116000,117000,118000,119000,120000,121000,122000,123000,124000,125000,126000,127000,128000,129000,130000,131000,132000,133000,134000,135000,136000,137000,138000,139000,140000,141000,142000,143000,144000,145000,146000,147000,148000,149000,150000,151000,152000,153000,154000,155000,156000,157000,158000,159000,160000,161000,162000,163000,164000,165000,166000,167000,168000,169000,170000,171000,172000,173000,174000,175000,176000,177000,178000,179000,180000,181000,182000,183000,184000,185000,186000,187000,188000,189000,190000,191000,192000,193000,194000,195000,196000,197000,198000,199000,200000,201000,202000,203000,204000,205000,206000,207000,208000,209000,210000,211000,212000,213000,214000,215000,216000,217000,218000,219000,220000,221000,222000,223000,224000,225000,226000,227000,228000,229000,230000,231000,232000,233000,234000,235000,236000,237000,238000,239000,240000,241000,242000,243000,244000,245000,246000,247000,248000,249000,250000,251000,252000,253000,254000,255000,256000,257000,258000,259000,260000,261000,262000,263000,264000,265000,266000,267000,268000,269000,270000,271000,272000,273000,274000,275000,276000,277000,278000,279000,280000,281000,282000,283000,284000,285000,286000,287000,288000,289000,290000,291000,292000,293000,294000,295000,296000,297000,298000,299000,300000,301000,302000,303000,304000,305000,306000,307000,308000,309000,310000,311000,312000,313000,314000,315000,316000,317000,318000,319000,320000,321000,322000,323000,324000,325000,326000,327000,328000,329000,330000,331000,332000,333000,334000,335000,336000,337000,338000,339000,340000,341000,342000,343000,344000,345000,346000,347000,348000,349000,350000,351000,352000,353000,354000,355000,356000,357000,358000,359000,360000,361000,362000,363000,364000,365000,366000,367000,368000,369000,370000,371000,372000,373000,374000,375000,376000,377000,378000,379000,380000,381000,382000,383000,384000,385000,386000,387000,388000,389000,390000,391000,392000,393000,394000,395000,396000,397000,398000,399000,400000,401000,402000,403000,404000,405000,406000,407000,408000,409000,410000,411000,412000,413000,414000,415000,416000,417000,418000,419000,420000,421000,422000,423000,424000,425000,426000,427000,428000,429000,430000,431000,432000,433000,434000,435000,436000,437000,438000,439000,440000,441000,442000,443000,444000,445000,446000,447000,448000,449000,450000,451000,452000,453000,454000,455000,456000,457000,458000,459000,460000,461000,462000,463000,464000,465000,466000,467000,468000,469000,470000,471000,472000,473000,474000,475000,476000,477000,478000,479000,480000,481000,482000,483000,484000,485000,486000,487000,488000,489000,490000,491000,492000,493000,494000,495000,496000,497000,498000,499000,500000,501000,502000,503000,504000,505000,506000,507000,508000,509000,510000,511000,512000,513000,514000,515000,516000,517000,518000,519000,520000,521000,522000,523000,524000,525000,526000,527000,528000,529000,530000,531000,532000,533000,534000,535000,536000,537000,538000,539000,540000,541000,542000,543000,544000,545000,546000,547000,548000,549000,550000,551000,552000,553000,554000,555000,556000,557000,558000,559000,560000,561000,562000,563000,564000,565000,566000,567000,568000,569000,570000,571000,572000,573000,574000,575000,576000,577000,578000,579000,580000,581000,582000,583000,584000,585000,586000,587000,588000,589000,590000,591000,592000,593000,594000,595000,596000,597000,598000,599000,600000,601000,602000,603000,604000,605000,606000,607000,608000,609000,610000,611000,612000,613000,614000,615000,616000,617000,618000,619000,620000,621000,622000,623000,624000,625000,626000,627000,628000,629000,630000,631000,632000,633000,634000,635000,636000,637000,638000,639000,640000,641000,642000,643000,644000,645000,646000,647000,648000,649000,650000,651000,652000,653000,654000,655000,656000,657000,658000,659000,660000,661000,662000,663000,664000,665000,666000,667000,668000,669000,670000,671000,672000,673000,674000,675000,676000,677000,678000,679000,680000,681000,682000,683000,684000,685000,686000,687000,688000,689000,690000,691000,692000,693000,694000,695000,696000,697000,698000,699000,700000,701000,702000,703000,704000,705000,706000,707000,708000,709000,710000,711000,712000,713000,714000,715000,716000,717000,718000,719000,720000,721000,722000,723000,724000,725000,726000,727000,728000,729000,730000,731000,732000,733000,734000,735000,736000,737000,738000,739000,740000,741000,742000,743000,744000,745000,746000,747000,748000,749000,750000,751000,752000,753000,754000,755000,756000,757000,758000,759000,760000,761000,762000,763000,764000,765000,766000,767000,768000,769000,770000,771000,772000,773000,774000,775000,776000,777000,778000,779000,780000,781000,782000,783000,784000,785000,786000,787000,788000,789000,790000,791000,792000,793000,794000,795000,796000,797000,798000,799000,800000],\"y\":{\"__ndarray__\":\"AAAAAAAAAAAAAAAAAAAAAAAAAAAAAAAAAAAAAAAAAAAAAAAAAAAAAAAAAAAAAAAAAAAAAAAAAAAAAAAAAAAAAAAAAAAAAAAAAAAAAAAAAAAAAAAAAAAAAAAAAAAAAAAAAAAAAAAAAAAAAAAAAAAAAAAAAAAAAAAAAAAAAAAAAAAAAAAAAAAAAAAAAAAAAAAAAAAAAAAAAAAAAAAAAAAAAAAAAAAAAAAAAAAAAAAAAAAAAAAAAAAAAAAAAAAAAAAAAAAAAAAAAAAAAAAAAAAAAAAAAAAAAAAAAAAAAAAAAAAAAAAAAAAAAAAAAAAAAAAAAAAAAAAAAAAAAAAAAAAAAAAAAAAAAAAAAAAAAAAAAAAAAAAAAAAAAAAAAAAAAAAAAAAAAAAAAAAAAAAAAAAAAAAAAAAAAAAAAAAAAAAAAAAAAAAAAAAAAAAAAAAAAAAAAAAAAAAAAAAAAAAAAAAAAAAAAAAAAAAAAAAAAAAAAAAAAAAAAAAAAAAAAAAAAAAAAAAAAAAAAAAAAAAAAAAAAAAAAAAAAAAAAAAAAAAAAAAAAAAAAAAAAAAAAAAAAAAAAAAAAAAAAAAAAAAAAAAAAAAAAAAAAAAAAAAAAAAAAAAAAAAAAAAAAAAAAAAAAAAAAAAAAAAAAAAAAAAAAAAAAAAAAAAAAAAAAAAAAAAAAAAAAAAAAAAAAAAAAAAAAAAAAAAAAAAAAAAAAAAAAAAAAAAAAAAAAAAAAAAAAAAAAAAAAAAAAAAAAAAAAAAAAAAAAAAAAAAAAAAAAAAAAAAAAAAAAAAAAAAAAAAAAAAAAAAAAAAAAAAAAAAAAAAAAAAAAAAAAAAAAAAAAAAAAAAAAAAAAAAAAAAAAAAAAAAAAAAAAAAAAAAAAAAAAAAAAAAAAAAAAAAAAAAAAAAAAAAAAAAAAAAAAAAAAAAAAAAAAAAAAAAAAAAAAAAAAAAAAAAAAAAAAAAAAAAAAAAAAAAAAAAAAAAAAAAAAAAAAAAAAAAAAAAAAAAAAAAAAAAAAAAAAAAAAAAAAAAAAAAAAAAAAAAAAAAAAAAAAAAAAAAAAAAAAAAAAAAAAAAAAAAAAAAAAAAAAAAAAAAAAAAAAAAAAAAAAAAAAAAAAAAAAAAAAAAAAAAAAAAAAAAAAAAAAAAAAAAAAAAAAAAAAAAAAAAAAAAAAAAAAAAAAAAAAAAAAAAAAAAAAAAAAAAAAAAAAAAAAAAAAAAAAAAAAAAAAAAAAAAAAAAAAAAAAAAAAAAAAAAAAAAAAAAAAAAAAAAAAAAAAAAAAAAAAAAAAAAAAAAAAAAAAAAAAAAAAAAAAAAAAAAAAAAAAAAAAAAAAAAAAAAADTBu70O2lD8NMG7vQ7akPxRIJedlEa8/DTBu70O2tD8RvEnr1OO5PxRIJedlEb8/DGqAcXsfwj8NMG7vQ7bEPw/2W20MTcc/EbxJ69TjyT8SgjdpnXrMPxRIJedlEc8/M+pmV67mzz82QlGdxTXQP1QP7w40eNA/cdyMgKK60D+OqSryEP3QP6x2yGN/P9E/yUNm1e2B0T/mEARHXMTRPwPeobjKBtI/Ias/KjlJ0j8aUdobfGHSP9JvXwfOGdE/KzVpyFxa0D+oHjTyzt/SPyYI/xtBZdU/o/HJRbPq1z8h25RvJXDaP57EX5mX9dw/G64qwwl73z8AAAAAAADgPwAAAAAAAOA/AAAAAAAA4D8AAAAAAADgPwAAAAAAAOA/AAAAAAAA4D8AAAAAAADgPwAAAAAAAOA/AAAAAAAA4D8AAAAAAADgPwAAAAAAAOA/AAAAAAAA4D8AAAAAAADgPwAAAAAAAOA/AAAAAAAA4D8AAAAAAADgPwAAAAAAAOA/AAAAAAAA4D8AAAAAAADgPwAAAAAAAOA/AAAAAAAA4D8AAAAAAADgPwAAAAAAAOA/AAAAAAAA4D8AAAAAAADgPwAAAAAAAOA/AAAAAAAA4D8AAAAAAADgPwAAAAAAAOA/////////3z8AAAAAAADgPwAAAAAAAOA/AAAAAAAA4D8AAAAAAADgPwAAAAAAAOA/AAAAAAAA4D8AAAAAAADgPwAAAAAAAOA/AAAAAAAA4D8AAAAAAADgPwAAAAAAAOA/AAAAAAAA4D8AAAAAAADgPwAAAAAAAOA/5v4rIPkS4T/N/VdA8iXiP7P8g2DrOOM/mvuvgORL5D+A+tug3V7lP2b5B8HWceY/Tfgz4c+E5z8AAAAAAADoPwAAAAAAAOg/AAAAAAAA6D8AAAAAAADoPwAAAAAAAOg/4khviDBS6D+l2k2ZkfboP2hsLKrymuk/LP4Ku1M/6j/wj+nLtOPqP7IhyNwViOs/drOm7XYs7D86RYX+19DsP/3WYw85de0/wGhCIJoZ7j+E+iAx+73uP0eM/0FcYu8/AAAAAAAA8D8AAAAAAADwPwAAAAAAAPA/AAAAAAAA8D8AAAAAAADwPwAAAAAAAPA/AAAAAAAA8D9n8s02N6bvP8OBkCxgAu8/HxFTIole7j97oBUYsrrtP9gv2A3bFu0/NL+aAwRz7D+QTl35LM/rP+zdH+9VK+s/SG3i5H6H6j+k/KTap+PpPwCMZ9DQP+k/XBsqxvmb6D8YmcgNIRHoPyq5m1f8dek/PNluodfa6j9P+UHrsj/sP2IZFTWOpO0/dDnofmkJ7z8AAAAAAADwPwAAAAAAAPA/AAAAAAAA8D8AAAAAAADwPwAAAAAAAPA/AAAAAAAA8D8AAAAAAADwPwAAAAAAAPA/AAAAAAAA8D8AAAAAAADwPwAAAAAAAPA/AAAAAAAA8D8AAAAAAADwPwAAAAAAAPA/AAAAAAAA8D8AAAAAAADwPwAAAAAAAPA/AAAAAAAA8D8AAAAAAADwPwAAAAAAAPA/AAAAAAAA8D8AAAAAAADwPwAAAAAAAPA/AAAAAAAA8D8AAAAAAADwPwAAAAAAAPA/AAAAAAAA8D8AAAAAAADwPwAAAAAAAPA/AAAAAAAA8D8AAAAAAADwPwAAAAAAAPA/AAAAAAAA8D8AAAAAAADwPwAAAAAAAPA/AAAAAAAA8D8AAAAAAADwPwAAAAAAAPA/AAAAAAAA8D8AAAAAAADwPwAAAAAAAPA/AAAAAAAA8D8AAAAAAADwPwAAAAAAAPA/AAAAAAAA8D8AAAAAAADwPwAAAAAAAPA/AAAAAAAA8D8AAAAAAADwPwAAAAAAAPA/AAAAAAAA8D8AAAAAAADwPwAAAAAAAPA/AAAAAAAA8D8AAAAAAADwPwAAAAAAAPA/AAAAAAAA8D8AAAAAAADwPwAAAAAAAPA/AAAAAAAA8D8AAAAAAADwPwAAAAAAAPA/AAAAAAAA8D8AAAAAAADwPwAAAAAAAPA/AAAAAAAA8D8AAAAAAADwPwAAAAAAAPA/AAAAAAAA8D8AAAAAAADwPwAAAAAAAPA/AAAAAAAA8D8AAAAAAADwPwAAAAAAAPA/AAAAAAAA8D8AAAAAAADwPwAAAAAAAPA/AAAAAAAA8D8AAAAAAADwPwAAAAAAAPA/AAAAAAAA8D8AAAAAAADwPwAAAAAAAPA/AAAAAAAA8D8AAAAAAADwPwAAAAAAAPA/AAAAAAAA8D8AAAAAAADwPwAAAAAAAPA/AAAAAAAA8D8AAAAAAADwPwAAAAAAAPA/AAAAAAAA8D8AAAAAAADwPwAAAAAAAPA/AAAAAAAA8D8AAAAAAADwPwAAAAAAAPA/AAAAAAAA8D8AAAAAAADwPwAAAAAAAPA/AAAAAAAA8D8AAAAAAADwPwAAAAAAAPA/AAAAAAAA8D8AAAAAAADwPwAAAAAAAPA/AAAAAAAA8D8AAAAAAADwPwAAAAAAAPA/AAAAAAAA8D8AAAAAAADwPwAAAAAAAPA/AAAAAAAA8D8AAAAAAADwPwAAAAAAAPA/AAAAAAAA8D8AAAAAAADwPwAAAAAAAPA/AAAAAAAA8D8AAAAAAADwPwAAAAAAAPA/AAAAAAAA8D8AAAAAAADwPwAAAAAAAPA/AAAAAAAA8D8AAAAAAADwPwAAAAAAAPA/AAAAAAAA8D8AAAAAAADwPwAAAAAAAPA/AAAAAAAA8D8AAAAAAADwPwAAAAAAAPA/AAAAAAAA8D8AAAAAAADwP////////+8/AAAAAAAA8D8AAAAAAADwPwAAAAAAAPA/AAAAAAAA8D8AAAAAAADwPwAAAAAAAPA/AAAAAAAA8D8AAAAAAADwPwAAAAAAAPA/AAAAAAAA8D8AAAAAAADwPwAAAAAAAPA/AAAAAAAA8D8AAAAAAADwPwAAAAAAAPA/AAAAAAAA8D8AAAAAAADwPwAAAAAAAPA/AAAAAAAA8D8AAAAAAADwPwAAAAAAAPA/AAAAAAAA8D8AAAAAAADwPwAAAAAAAPA/AAAAAAAA8D8AAAAAAADwPwAAAAAAAPA/AAAAAAAA8D8AAAAAAADwPwAAAAAAAPA/AAAAAAAA8D8AAAAAAADwPwAAAAAAAPA/AAAAAAAA8D8AAAAAAADwPwAAAAAAAPA/AAAAAAAA8D8AAAAAAADwPwAAAAAAAPA/AAAAAAAA8D8AAAAAAADwPwAAAAAAAPA/AAAAAAAA8D8AAAAAAADwPwAAAAAAAPA/AAAAAAAA8D8AAAAAAADwPwAAAAAAAPA/AAAAAAAA8D8AAAAAAADwP3+HokCfyO8/2xZlNsgk7z83pics8YDuP5Q16iEa3e0/8MSsF0M57T9MVG8NbJXsP6jjMQOV8es/BHP0+L1N6z9gArfu5qnqP7yReeQPBuo/GCE82jhi6T90sP7PYb7oP9E/wcWKGug/cdLK1+c+7D8AAAAAAADwPwAAAAAAAPA/AAAAAAAA8D8AAAAAAADwPwAAAAAAAPA/AAAAAAAA8D8AAAAAAADwPwAAAAAAAPA/AAAAAAAA8D8AAAAAAADwPwAAAAAAAPA/AAAAAAAA8D8AAAAAAADwPwAAAAAAAPA/AAAAAAAA8D8AAAAAAADwPwAAAAAAAPA/AAAAAAAA8D8AAAAAAADwPwAAAAAAAPA/AAAAAAAA8D8AAAAAAADwP////////+8/AAAAAAAA8D8AAAAAAADwPwAAAAAAAPA/AAAAAAAA8D8AAAAAAADwPwAAAAAAAPA/AAAAAAAA8D8AAAAAAADwPwAAAAAAAPA/AAAAAAAA8D8AAAAAAADwPwAAAAAAAPA/AAAAAAAA8D8AAAAAAADwPwAAAAAAAPA/AAAAAAAA8D8AAAAAAADwPwAAAAAAAPA/AAAAAAAA8D8AAAAAAADwPwAAAAAAAPA/AAAAAAAA8D8AAAAAAADwPwAAAAAAAPA/AAAAAAAA8D8AAAAAAADwPwAAAAAAAPA/AAAAAAAA8D8AAAAAAADwPwAAAAAAAPA/AAAAAAAA8D8AAAAAAADwPwAAAAAAAPA/AAAAAAAA8D8AAAAAAADwPwAAAAAAAPA/AAAAAAAA8D8AAAAAAADwPwAAAAAAAPA/AAAAAAAA8D8AAAAAAADwPwAAAAAAAPA/AAAAAAAA8D8AAAAAAADwPwAAAAAAAPA/AAAAAAAA8D8AAAAAAADwPwAAAAAAAPA/AAAAAAAA8D8AAAAAAADwPwAAAAAAAPA/AAAAAAAA8D8AAAAAAADwPwAAAAAAAPA/AAAAAAAA8D8AAAAAAADwPwAAAAAAAPA/AAAAAAAA8D8AAAAAAADwPwAAAAAAAPA/AAAAAAAA8D8AAAAAAADwPwAAAAAAAPA/AAAAAAAA8D8AAAAAAADwPwAAAAAAAPA/AAAAAAAA8D8AAAAAAADwPwAAAAAAAPA/AAAAAAAA8D8AAAAAAADwPwAAAAAAAPA/AAAAAAAA8D8AAAAAAADwPwAAAAAAAPA/AAAAAAAA8D8AAAAAAADwPwAAAAAAAPA/AAAAAAAA8D8AAAAAAADwPwAAAAAAAPA/AAAAAAAA8D8AAAAAAADwPwAAAAAAAPA/AAAAAAAA8D8AAAAAAADwPwAAAAAAAPA/AAAAAAAA8D8AAAAAAADwPwAAAAAAAPA/AAAAAAAA8D8AAAAAAADwPwAAAAAAAPA/AAAAAAAA8D8AAAAAAADwPwAAAAAAAPA/AAAAAAAA8D8AAAAAAADwPwAAAAAAAPA/AAAAAAAA8D8AAAAAAADwPwAAAAAAAPA/AAAAAAAA8D8AAAAAAADwPwAAAAAAAPA/AAAAAAAA8D8AAAAAAADwPwAAAAAAAPA/AAAAAAAA8D8AAAAAAADwPwAAAAAAAPA/AAAAAAAA8D8AAAAAAADwPwAAAAAAAPA/AAAAAAAA8D8AAAAAAADwPwAAAAAAAPA/AAAAAAAA8D8AAAAAAADwPwAAAAAAAPA/AAAAAAAA8D8AAAAAAADwPwAAAAAAAPA/AAAAAAAA8D8AAAAAAADwPwAAAAAAAPA/AAAAAAAA8D8AAAAAAADwPwAAAAAAAPA/AAAAAAAA8D8AAAAAAADwPwAAAAAAAPA/AAAAAAAA8D8AAAAAAADwPwAAAAAAAPA/AAAAAAAA8D8AAAAAAADwPwAAAAAAAPA/AAAAAAAA8D8AAAAAAADwPwAAAAAAAPA/AAAAAAAA8D8AAAAAAADwPwAAAAAAAPA/AAAAAAAA8D8AAAAAAADwPwAAAAAAAPA/AAAAAAAA8D8AAAAAAADwPwAAAAAAAPA/AAAAAAAA8D8AAAAAAADwPwAAAAAAAPA/AAAAAAAA8D8AAAAAAADwPwAAAAAAAPA/AAAAAAAA8D8AAAAAAADwPwAAAAAAAPA/AAAAAAAA8D8AAAAAAADwPwAAAAAAAPA/AAAAAAAA8D8AAAAAAADwPwAAAAAAAPA/AAAAAAAA8D8AAAAAAADwPwAAAAAAAPA/AAAAAAAA8D8AAAAAAADwPwAAAAAAAPA/AAAAAAAA8D8AAAAAAADwPwAAAAAAAPA/AAAAAAAA8D8AAAAAAADwPwAAAAAAAPA/AAAAAAAA8D8AAAAAAADwPwAAAAAAAPA/AAAAAAAA8D8AAAAAAADwPwAAAAAAAPA/AAAAAAAA8D8AAAAAAADwPwAAAAAAAPA/AAAAAAAA8D8AAAAAAADwPwAAAAAAAPA/AAAAAAAA8D8AAAAAAADwPwAAAAAAAPA/AAAAAAAA8D8AAAAAAADwPwAAAAAAAPA/AAAAAAAA8D8AAAAAAADwPwAAAAAAAPA/AAAAAAAA8D8AAAAAAADwPwAAAAAAAPA/AAAAAAAA8D8AAAAAAADwPwAAAAAAAPA/AAAAAAAA8D8AAAAAAADwPwAAAAAAAPA/AAAAAAAA8D8AAAAAAADwPwAAAAAAAPA/AAAAAAAA8D8AAAAAAADwPwAAAAAAAPA/AAAAAAAA8D8AAAAAAADwPwAAAAAAAPA/AAAAAAAA8D8AAAAAAADwPwAAAAAAAPA/AAAAAAAA8D8AAAAAAADwPwAAAAAAAPA/AAAAAAAA8D8AAAAAAADwPwAAAAAAAPA/AAAAAAAA8D8AAAAAAADwPwAAAAAAAPA/AAAAAAAA8D8AAAAAAADwPwAAAAAAAPA/AAAAAAAA8D8AAAAAAADwPwAAAAAAAPA/AAAAAAAA8D8AAAAAAADwPwAAAAAAAPA/AAAAAAAA8D8AAAAAAADwPwAAAAAAAPA/AAAAAAAA8D8AAAAAAADwPwAAAAAAAPA/AAAAAAAA8D8AAAAAAADwPwAAAAAAAPA/AAAAAAAA8D8AAAAAAADwPwAAAAAAAPA/AAAAAAAA8D8AAAAAAADwPwAAAAAAAPA/AAAAAAAA8D8AAAAAAADwPwAAAAAAAPA/AAAAAAAA8D8AAAAAAADwPwAAAAAAAPA/AAAAAAAA8D8AAAAAAADwPwAAAAAAAPA/AAAAAAAA8D8AAAAAAADwPwAAAAAAAPA/AAAAAAAA8D8AAAAAAADwPwAAAAAAAPA/AAAAAAAA8D8AAAAAAADwPwAAAAAAAPA/AAAAAAAA8D8AAAAAAADwPwAAAAAAAPA/AAAAAAAA8D8AAAAAAADwPwAAAAAAAPA/AAAAAAAA8D8AAAAAAADwPwAAAAAAAPA/AAAAAAAA8D8AAAAAAADwPwAAAAAAAPA/AAAAAAAA8D8AAAAAAADwPwAAAAAAAPA/AAAAAAAA8D8AAAAAAADwPwAAAAAAAPA/AAAAAAAA8D8AAAAAAADwPwAAAAAAAPA/AAAAAAAA8D8AAAAAAADwPwAAAAAAAPA/AAAAAAAA8D8AAAAAAADwPwAAAAAAAPA/AAAAAAAA8D8AAAAAAADwPwAAAAAAAPA/AAAAAAAA8D8AAAAAAADwPwAAAAAAAPA/AAAAAAAA8D8AAAAAAADwPwAAAAAAAPA/AAAAAAAA8D8AAAAAAADwPwAAAAAAAPA/AAAAAAAA8D8AAAAAAADwPwAAAAAAAPA/AAAAAAAA8D8AAAAAAADwPwAAAAAAAPA/AAAAAAAA8D8AAAAAAADwPwAAAAAAAPA/AAAAAAAA8D8AAAAAAADwPwAAAAAAAPA/AAAAAAAA8D8AAAAAAADwPwAAAAAAAPA/AAAAAAAA8D8AAAAAAADwPwAAAAAAAPA/\",\"dtype\":\"float64\",\"shape\":[801]}}},\"id\":\"6c8590f1-278a-40e3-877e-540c469832fe\",\"type\":\"ColumnDataSource\"},{\"attributes\":{\"label\":{\"value\":\"0.5 Alpha\"},\"renderers\":[{\"id\":\"5f8cb483-24f0-456b-b1e7-91ae123afecb\",\"type\":\"GlyphRenderer\"}]},\"id\":\"ee7a9140-b66d-4d63-9af1-ca2bb97d456f\",\"type\":\"LegendItem\"},{\"attributes\":{\"callback\":null,\"column_names\":[\"x\",\"y\"],\"data\":{\"x\":[0,1000,2000,3000,4000,5000,6000,7000,8000,9000,10000,11000,12000,13000,14000,15000,16000,17000,18000,19000,20000,21000,22000,23000,24000,25000,26000,27000,28000,29000,30000,31000,32000,33000,34000,35000,36000,37000,38000,39000,40000,41000,42000,43000,44000,45000,46000,47000,48000,49000,50000,51000,52000,53000,54000,55000,56000,57000,58000,59000,60000,61000,62000,63000,64000,65000,66000,67000,68000,69000,70000,71000,72000,73000,74000,75000,76000,77000,78000,79000,80000,81000,82000,83000,84000,85000,86000,87000,88000,89000,90000,91000,92000,93000,94000,95000,96000,97000,98000,99000,100000,101000,102000,103000,104000,105000,106000,107000,108000,109000,110000,111000,112000,113000,114000,115000,116000,117000,118000,119000,120000,121000,122000,123000,124000,125000,126000,127000,128000,129000,130000,131000,132000,133000,134000,135000,136000,137000,138000,139000,140000,141000,142000,143000,144000,145000,146000,147000,148000,149000,150000,151000,152000,153000,154000,155000,156000,157000,158000,159000,160000,161000,162000,163000,164000,165000,166000,167000,168000,169000,170000,171000,172000,173000,174000,175000,176000,177000,178000,179000,180000,181000,182000,183000,184000,185000,186000,187000,188000,189000,190000,191000,192000,193000,194000,195000,196000,197000,198000,199000,200000,201000,202000,203000,204000,205000,206000,207000,208000,209000,210000,211000,212000,213000,214000,215000,216000,217000,218000,219000,220000,221000,222000,223000,224000,225000,226000,227000,228000,229000,230000,231000,232000,233000,234000,235000,236000,237000,238000,239000,240000,241000,242000,243000,244000,245000,246000,247000,248000,249000,250000,251000,252000,253000,254000,255000,256000,257000,258000,259000,260000,261000,262000,263000,264000,265000,266000,267000,268000,269000,270000,271000,272000,273000,274000,275000,276000,277000,278000,279000,280000,281000,282000,283000,284000,285000,286000,287000,288000,289000,290000,291000,292000,293000,294000,295000,296000,297000,298000,299000,300000,301000,302000,303000,304000,305000,306000,307000,308000,309000,310000,311000,312000,313000,314000,315000,316000,317000,318000,319000,320000,321000,322000,323000,324000,325000,326000,327000,328000,329000,330000,331000,332000,333000,334000,335000,336000,337000,338000,339000,340000,341000,342000,343000,344000,345000,346000,347000,348000,349000,350000,351000,352000,353000,354000,355000,356000,357000,358000,359000,360000,361000,362000,363000,364000,365000,366000,367000,368000,369000,370000,371000,372000,373000,374000,375000,376000,377000,378000,379000,380000,381000,382000,383000,384000,385000,386000,387000,388000,389000,390000,391000,392000,393000,394000,395000,396000,397000,398000,399000,400000,401000,402000,403000,404000,405000,406000,407000,408000,409000,410000,411000,412000,413000,414000,415000,416000,417000,418000,419000,420000,421000,422000,423000,424000,425000,426000,427000,428000,429000,430000,431000,432000,433000,434000,435000,436000,437000,438000,439000,440000,441000,442000,443000,444000,445000,446000,447000,448000,449000,450000,451000,452000,453000,454000,455000,456000,457000,458000,459000,460000,461000,462000,463000,464000,465000,466000,467000,468000,469000,470000,471000,472000,473000,474000,475000,476000,477000,478000,479000,480000,481000,482000,483000,484000,485000,486000,487000,488000,489000,490000,491000,492000,493000,494000,495000,496000,497000,498000,499000,500000,501000,502000,503000,504000,505000,506000,507000,508000,509000,510000,511000,512000,513000,514000,515000,516000,517000,518000,519000,520000,521000,522000,523000,524000,525000,526000,527000,528000,529000,530000,531000,532000,533000,534000,535000,536000,537000,538000,539000,540000,541000,542000,543000,544000,545000,546000,547000,548000,549000,550000,551000,552000,553000,554000,555000,556000,557000,558000,559000,560000,561000,562000,563000,564000,565000,566000,567000,568000,569000,570000,571000,572000,573000,574000,575000,576000,577000,578000,579000,580000,581000,582000,583000,584000,585000,586000,587000,588000,589000,590000,591000,592000,593000,594000,595000,596000,597000,598000,599000,600000,601000,602000,603000,604000,605000,606000,607000,608000,609000,610000,611000,612000,613000,614000,615000,616000,617000,618000,619000,620000,621000,622000,623000,624000,625000,626000,627000,628000,629000,630000,631000,632000,633000,634000,635000,636000,637000,638000,639000,640000,641000,642000,643000,644000,645000,646000,647000,648000,649000,650000,651000,652000,653000,654000,655000,656000,657000,658000,659000,660000,661000,662000,663000,664000,665000,666000,667000,668000,669000,670000,671000,672000,673000,674000,675000,676000,677000,678000,679000,680000,681000,682000,683000,684000,685000,686000,687000,688000,689000,690000,691000,692000,693000,694000,695000,696000,697000,698000,699000,700000,701000,702000,703000,704000,705000,706000,707000,708000,709000,710000,711000,712000,713000,714000,715000,716000,717000,718000,719000,720000,721000,722000,723000,724000,725000,726000,727000,728000,729000,730000,731000,732000,733000,734000,735000,736000,737000,738000,739000,740000,741000,742000,743000,744000,745000,746000,747000,748000,749000,750000,751000,752000,753000,754000,755000,756000,757000,758000,759000,760000,761000,762000,763000,764000,765000,766000,767000,768000,769000,770000,771000,772000,773000,774000,775000,776000,777000,778000,779000,780000,781000,782000,783000,784000,785000,786000,787000,788000,789000,790000,791000,792000,793000,794000,795000,796000,797000,798000,799000,800000],\"y\":{\"__ndarray__\":\"AAAAAAAAAAAAAAAAAAAAAAAAAAAAAAAAAAAAAAAAAAAAAAAAAAAAAAAAAAAAAAAAAAAAAAAAAAAAAAAAAAAAAAAAAAAAAAAAAAAAAAAAAAAAAAAAAAAAAAAAAAAAAAAAAAAAAAAAAAAAAAAAAAAAAAAAAAAAAAAAAAAAAAAAAAAAAAAAAAAAAAAAAAAAAAAAAAAAAAAAAAAAAAAAAAAAAAAAAAAAAAAAAAAAAAAAAAAAAAAAAAAAAAAAAAAAAAAAAAAAAAAAAAAAAAAAAAAAAAAAAAAAAAAAAAAAAAAAAAAAAAAAAAAAAAAAAAAAAAAAAAAAAAAAAAAAAAAAAAAAAAAAAAAAAAAAAAAAAAAAAAAAAAAAAAAAAAAAAAAAAAAAAAAAAAAAAAAAAAAAAAAAAAAAAAAAAAAAAAAAAAAAAAAAAAAAAAAAAAAAAAAAAAAAAAAAAAAAAAAAAAAAAAAAAAAAAAAAAAAAAAAAAAAAAAAAAAAAAAAAAAAAAAAAAAAAAAAAAAAAAAAAAAAAAAAAAAAAAAAAAAAAAAAAAAAAAAAAAAAAAAAAAAAAAAAAAAAAAAAAAAAAAAAAAAAAAAAAAAAAAAAAAAAAAAAAAAAAAAAAAAAAAAAAAAAAAAAAAAAAAAAAAAAAAAAAAAAAAAAAAAAAAAAAAAAAAAAAAAAAAAAAAAAAAAAAAAAAAAAAAAAAAAAAAAAAAAAAAAAAAAAAAAAAAAAAAAAAAAAAAAAAAAAAAAAAAAAAAAAAAAAAAAAAAAAAAAAAAAAAAAAAAAAAAAAAAAAAAAAAAAAAAAAAAAAAAAAAAAAAAAAAAAAAAAAAAAAAAAAAAAAAAAAAAAAAAAAAAAAAAAAAAAAAAAAAAAAAAAAAAAAAAAAAAAAAAAAAAAAAAAAAAAAAAAAAAAAAAAAAAAAAAAAAAAAAAAAAAAAAAAAAAAAAAAAAAAAAAAAAAAAAAAAAAAAAAAAAAAAAAAAAAAAAAAAAAAAAAAAAAAAAAAAAAAAAAAAAAAAAAAAAAAAAAAAAAAAAAAAAAAAAAAAAAAAAAAAAAAAAAAAAAAAAAAAAAAAAAAAAAAAAAAAAAAAAAAAAAAAAAAAAAAAAAAAAAAAAAAAAAAAAAAAAAAAAAAAAAAAAAAAAAAAAAAAAAAAAAAAAAAAAAAAAAAAAAAAAAAAAAAAAAAAAAAAAAAAAAAAAAAAAAAAAAAAAAAAAAAAAAAAAAAAAAAAAAAAAAAAAAAAAAAAAAAAAAAAAAAAAAAAAAAAAAAAAAAAAAAAAAAAAAAAAAAAAAAAAAAAAAAAAAAAAAAAAAAAAAAAAAAAAAAAAAAAAAAAAAAAAAAAAXlwnu4winD9eXCe7jCKsP0aFXYzpGbU/Xlwnu4wivD+7mfj0l5XBP0aFXYzpGcU/0nDCIzueyD9eXCe7jCLMP+pHjFLeps8//rypSIWxzT9v+rMfKSLLP983vvbMksg/UHXIzXADxj/AstKkFHTDPzHw3Hu45MA/Q1vOpbiqvD8k1uJTAIy3PwVR9wFIbbI/zZcXYB+dqj+PjUC8rl+gP0YNpmH4iIg/AAAAAAAAAAAAAAAAAAAAAAAAAAAAAAAAAAAAAAAAAAAAAAAAAAAAAAAAAAAAAAAAAAAAAAAAAAAAAAAAAAAAAAAAAAAAAAAAAAAAAAAAAAAAAAAAAAAAAAAAAAAAAAAAAAAAAAAAAAAAAAAAAAAAAAAAAAAAAAAAAAAAAAAAAACsQjLvNR2OPwGyZXPolaY/rGl/tUHSsj9X+ksxj1m6P4FFjFZu8MA/1o1yFBW0xD8s1ljSu3fIP4EeP5BiO8w/12YlTgn/zz+NhLacS3HNP/3BwHPv4co/bv/KSpNSyD/ePNUhN8PFP1MTzL/q08Y/x+nCXZ7kxz87wLn7UfXIP6+WsJkFBso/I22nN7kWyz+YQ57VbCfMPwwalXMgOM0/gPCLEdRIzj+R8pNqn47PPwIwnkFD/8w/c22oGOdvyj/jqrLviuDHP1TovMYuUcU/xCXHndLBwj81Y9F0djLAP0tBt5c0Rrs/LLzLRXwntj8NN+DzwwixP91j6UMX1Kc/PrMkQE0tmz8Me9rhr8l6PwAAAAAAAAAAAAAAAAAAAAAAAAAAAAAAAAAAAAAAAAAAAAAAAAAAAAAAAAAAAAAAAAAAAAAAAAAAAAAAAAAAAAAAAAAAAAAAAAAAAAAAAAAAAAAAAAAAAAAAAAAAAAAAAAAAAAAAAAAAAAAAAAAAAAAAAAAAAAAAAAAAAAAAAAAAAAAAAAAAAAAAAAAAAAAAAAAAAAAAAAAAAAAAAAAAAAAAAAAAAAAAAAAAAAAAAAAAAAAAAAAAAAAAAAAAAAAAAAAAAAAAAAAAAAAAAAAAAAAAAAAAAAAAAAAAAAAAAAAAAAAAAAAAAAAAAAAAAAAAAAAAAAAAAAAAAAAAAAAAAAAAAAAAAAAAAAAAAAAAAAAAAAAAAAAAAAAAAAAAAAAAAAAAAAAAAAAAAAAAAAAAAAAAAAAAAAAAAAAAAAAAAAAAAAAAAAAAAAAAAAAAAAAAAAAAAAAAAAAAAAAAAAAAAAAAAAAAAAAAAAAAAAAAAAAAAAAAAAAAAAAAAAAAAAAAAAAAAAAAAAAAAAAAAAAAAAAAAAAAAAAAAAAAAAAAAAAAAAAAAAAAAAAAAAAAAAAAAAAAAAAAAAAAAAAAAAAAAAAAAAAAAAAAAAAAAAAAAAAAAAAAAAAAAAAAAAAAAAAAAAAAAAAAAAAAAAAAAAAAAAAAAAAAAAAAAAAAAAAAAAAAAAAAAAAAAAAAAAAAAAAAAAAAAAAAAAAAAAAAAAAAAAAAAAAAAAAAAAAAAAAAAAAAAAAAAAAAAAAAAAAAAAAAAAAAAAAAAAAAAAAAAAAAAAAAAAAAAAAAAAAAAAAAAAAAAAAAAAAAAAAAAAAAAAAAAAAAAAAAAAAAAAAAAAAAAAAAAAAAAAAAAAAAAAAAAAAAAAAAAAAAAAAAAAAAAAAAAAAAAAAAAAAAAAAAAAAAAAAAAAAAAAAAAAAAAAAAAAAAAAAAAAAAAAAAAAAAAAAAAAAAAAAAAAAAFRUOB62qiz/Qj0rFAcCkPy3NaCSsSrE/clIsZlc1uD+41++nAiC/P36u2fRWBcM/IXG7lax6xj/EM502AvDJP2b2ftdXZc0/r2THRiBezz8fotEdxM7MP5Df2/RnP8o/AB3mywuwxz9xWvCiryDFP+KX+nlTkcI/UtUEUfcBwD+GJR5QNuW6P2egMv59xrU/SBtHrMWnsD9SLLe0GhKnPylEwCFUqZk/tr5IaMu5dD8AAAAAAAAAAAAAAAAAAAAAAAAAAAAAAAAAAAAAAAAAAAAAAAAAAAAAAAAAAAAAAAAAAAAAAAAAAAAAAAAAAAAAAAAAAAAAAAAAAAAAAAAAAAAAAAAAAAAAAAAAAAAAAAAAAAAAAAAAAAAAAAAAAAAAAAAAAAAAAAAAAAAAAAAAAAAAAAAAAAAAAAAAAAAAAAAAAAAAAAAAAAAAAAAAAAAAAAAAAAAAAAAAAAAAAAAAAAAAAAAAAAAAAAAAAAAAAAAAAAAAAAAAAAAAAAAAAAAAAAAAAAAAAAAAAAAAAAAAAAAAAAAAAAAAAAAAAAAAAAAAAAAAAAAAAAAAAAAAAAAAAAAAAAAAAAAAAAAAAAAAAAAAAAAAAAAAAAAAAAAAAAAAAAAAAAAAAAAAAAAAAAAAAAAAAAAAAAAAAAAAAAAAAAAAAAAAAAAAAAAAAAAAAAAAAAAAAAAAAAAAAAAAAAAAAAAAAAAAAAAAAAAAAAAAAAAAAAAAAAAAAAAAAAAAAAAAAAAAAAAAAAAAAAAAAAAAAAAAAAAAAAAAAAAAAAAAAAAAAAAAAAAAAAAAAAAAAAAAAAAAAAAAAAAAAAAAAAAAAAAAAAAAAAAAAAAAAAAAAAAAAAAAAAAAAAAAAAAAAAAAAAAAAAAAAAAAAAAAAAAAAAAAAAAAAAAAAAAAAAAAAAAAAAAAAAAAAAAAAAAAAAAAAAAAAAAAAAAAAAAAAAAAAAAAAAAAAAAAAAAAAAAAAAAAAAAAAAAAAAAAAAAAAAAAAAAAAAAAAAAAAAAAAAAAAAAAAAAAAAAAAAAAAAAAAAAAAAAAAAAAAAAAAAAAAAAAAAAAAAAAAAAAAAAAAAAAAAAAAAAAAAAAAAAAAAAAAAAAAAAAAAAAAAAAAAAAAAAAAAAAAAAAAAAAAAAAAAAAAAAAAAAAAAAAAAAAAAAAAAAAAAAAAAAAAAAAAAAAAAAAAAAAAAAAAAAAAAAAAAAAAAAAAAAAAAAAAAAAAAAAAAAAAAAAAAAAAAAAAAAAAAAAAAAAAAAAAAAAAAAAAAAAAAAAAAAAAAAAAAAAAAAAAAAAAAAAAAAAAAAAAAAAAAAAAAAAAAAAAAAAAAAAAAAAAAAAAAAAAAAAAAAAAAAAAAAAAAAAAAAAAAAAAAAAAAAAAAAAAAAAAAAAAAAAAAAAAAAAAAAAAAAAAAAAAAAAAAAAAAAAAAAAAAAAAAAAAAAAAAAAAAAAAAAAAAAAAAAAAAAAAAAAAAAAAAAAAAAAAAAAAAAAAAAAAAAAAAAAAAAAAAAAAAAAAAAAAAAAAAAAAAAAAAAAAAAAAAAAAAAAAAAAAAAAAAAAAAAAAAAAAAAAAAAAAAAAAAAAAAAAAAAAAAAAAAAAAAAAAAAAAAAAAAAAAAAAAAAAAAAAAAAAAAAAAAAAAAAAAAAAAAAAAAAAAAAAAAAAAAAAAAAAAAAAAAAAAAAAAAAAAAAAAAAAAAAAAAAAAAAAAAAAAAAAAAAAAAAAAAAAAAAAAAAAAAAAAAAAAAAAAAAAAAAAAAAAAAAAAAAAAAAAAAAAAAAAAAAAAAAAAAAAAAAAAAAAAAAAAAAAAAAAAAAAAAAAAAAAAAAAAAAAAAAAAAAAAAAAAAAAAAAAAAAAAAAAAAAAAAAAAAAAAAAAAAAAAAAAAAAAAAAAAAAAAAAAAAAAAAAAAAAAAAAAAAAAAAAAAAAAAAAAAAAAAAAAAAAAAAAAAAAAAAAAAAAAAAAAAAAAAAAAAAAAAAAAAAAAAAAAAAAAAAAAAAAAAAAAAAAAAAAAAAAAAAAAAAAAAAAAAAAAAAAAAAAAAAAAAAAAAAAAAAAAAAAAAAAAAAAAAAAAAAAAAAAAAAAAAAAAAAAAAAAAAAAAAAAAAAAAAAAAAAAAAAAAAAAAAAAAAAAAAAAAAAAAAAAAAAAAAAAAAAAAAAAAAAAAAAAAAAAAAAAAAAAAAAAAAAAAAAAAAAAAAAAAAAAAAAAAAAAAAAAAAAAAAAAAAAAAAAAAAAAAAAAAAAAAAAAAAAAAAAAAAAAAAAAAAAAAAAAAAAAAAAAAAAAAAAAAAAAAAAAAAAAAAAAAAAAAAAAAAAAAAAAAAAAAAAAAAAAAAAAAAAAAAAAAAAAAAAAAAAAAAAAAAAAAAAAAAAAAAAAAAAAAAAAAAAAAAAAAAAAAAAAAAAAAAAAAAAAAAAAAAAAAAAAAAAAAAAAAAAAAAAAAAAAAAAAAAAAAAAAAAAAAAAAAAAAAAAAAAAAAAAAAAAAAAAAAAAAAAAAAAAAAAAAAAAAAAAAAAAAAAAAAAAAAAAAAAAAAAAAAAAAAAAAAAAAAAAAAAAAAAAAAAAAAAAAAAAAAAAAAAAAAAAAAAAAAAAAAAAAAAAAAAAAAAAAAAAAAAAAAAAAAAAAAAAAAAAAAAAAAAAAAAAAAAAAAAAAAAAAAAAAAAAAAAAAAAAAAAAAAAAAAAAAAAAAAAAAAAAAAAAAAAAAAAAAAAAAAAAAAAAAAAAAAAAAAAAAAAAAAAAAAAAAAAAAAAAAAAAAAAAAAAAAAAAAAAAAAAAAAAAAAAAAAAAAAAAAAAAAAAAAAAAAAAAAAAAAAAAAAAAAAAAAAAAAAAAAAAAAAAAAAAAAAAAAAAAAAAAAAAAAAAAAAAAAAAAAAAAAAAAAAAAAAAAAAAAAAAAAAAAAAAAAAAAAAAAAAAAAAAAAAAAAAAAAAAAAAAAAAAAAAAAAAAAAAAAAAAAAAAAAAAAAAAAAAAAAAAAAAAAAAAAAAAAAAAAAAAAAAAAAAAAAAAAAAAAAAAAAAAAAAAAAAAAAAAAAAAAAAAAAAAAAAAAAAAAAAAAAAAAAAAAAAAAAAAAAAAAAAAAAAAAAAAAAAAAAAAAAAAAAAAAAAAAAAAAAAAAAAAAAAAAAAAAAAAAAAAAAAAAAAAAAAAAAAAAAAAAAAAAAAAAAAAAAAAAAAAAAAAAAAAAAAAAAAAAAAAAAAAAAAAAAAAAAAAAAAAAAAAAAAAAAAAAAAAAAAAAAAAAAAAAAAAAAAAAAAAAAAAAAAAAAAAAAAAAAAAAAAAAAAAAAAAAAAAAAAAAAAAAAAAAAAAAAAAAAAAAAAAAAAAAAAAAAAAAAAAAAAAAAAAAAAAAAAAAAAAAAAAAAAAAAAAAAAAAAAAAAAAAAAAAAAAAAAAAAAAAAAAAAAAAAAAAAAAAAAAAAAAAAAAAAAAAAAAAAAAAAAAAAAAAAAAAAAAAAAAAAAAAAAAAAAAAAAAAAAAAAAAAAAAAAAAAAAAAAAAAAAAAAAAAAAAAAAAAAAAAAAAAAAAAAAAAAAAAAAAAAAAAAAAAAAAAAAAAAAAAAAAAAAAAAAAAAAAAAAAAAAAAAAAAAAAAAAAAAAAAAAAAAAAAAAAAAAAAAAAAAAAAAAAAAAAAAAAAAAAAAAAAAAAAAAAAAAAAAAAAAAAAAAAAAAAAAAAAAAAAAAAAAAAAAAAAAAAAAAAAAAAAAAAAAAAAAAAAAAAAAAAAAAAAAAAAAAAAAAAAAAAAAAAAAAAAAAAAAAAAAAAAAAAAAAAAAAAAAAAAAAAAAAAAAAAAAAAAAAAAAAAAAAAAAAAAAAAAAAAAAAAAAAAAAAAAAAAAAAAAAAAAAAAAAAAAAAAAAAAAAAAAAAAAAAAAAAAAAAAAAAAAAAAAAAAAAAAAAAAAAAAAAAAAAAAAAAAAAAAAAAAAAAAAAAAAAAAAAAAAAAAAAAAAAAAAAAAAAAAAAAAAAAAAAAAAAAAAAAAAAAAAAAAAAAAAAAAAAAAAAAAAAAAAAAAAAAAAAAAAAAAAAAAAAAAAAAAAAAAAAAAAAAAAAAAAAAAAAAAAAAAAAAAAAAAAAAAAAAAAAAAAAAAAAAAAAAAAAAAAAAAAAAAAAAAAAAAAAAAAAAAAAAAAAAAAAAAAAAAAAAAAAAAAAAAAAAAAAAAAAAAAAAAAAAAAAAAAAAAAAAAAAAAAAAAAAAAAAAAAAAAAAAAAAAAAAAAAAAAAAAAAAAAAAAAAAAAAAAAAAAAAAAAAAAAAAAAAAAAAAAAAAAAAAAAAAAAAAAAAAAAAAAAAAAAAAAAAAAAAAAAAAAAAAAAAAAAAAAAAAAAAAAAAAAAAAAAAAAAAAAAAAAAAAAAAAAAAAAAAAAAAAAAAAAAAAAAAAAAAAAAAAAAAAAAAAAAAAAAAAAAAAAAAAAAAAAAAAAAAAAAAAAAAAAAAAAAAAAAAAAAAAAAAAAAAAAAAAAAAAAAAAAAAAAAAAAAAAAAAAAAAAAAAAAAAAAAAAAAAAAAAAAAAAAAAAAAAAAAAAAAAAAAAAAAAAAAAAAAAAAAAAAAAAAAAAAAAAAAAAAAAAAAAAAAAAAAAAAAAAAAAAAAAAAAAAAAAAAAAAAAAAAAAAAAAAAAAAAAAAAAAAAAAAAAAAAAAAAAAAAAAAAAAAAAAAAAAAAAAAAAAAAAAAAAAAAAAAAAAAAAAAAAAAAAAAAAAAAAAAAAAAAAAAAAAAAAAAAAAAAAAAAAAAAAAAAAAAAAAAAAAAAAAAAAAAAAAAAAAAAAAAAAAAAAAAAAAAAAAAAAAAAAAAAAAAAAAAAAAAAAAAAAAAAAAAAAAAAAAAAAAAAAAAAAAAAAAAAAAAAAAAAAAAAAAAAAAAAAAAAAAAAAAAAAAAAAAAAAAAAAAAAAAAAAAAAAAAAAAAAAAAAAAAAAAAAAAAAAAAAAAAAAAAAAAAAAAAAAAAAAAAAAAAAAAAAAAAAAAAAAAAAAAAAAAAAAAAAAAAAAAAAAAAAAAAAAAAAAAAAAAAAAAAAAAAAAAAAAAAAAAAAAAAAAAAAAAAAAAAAAAAAAAAAAAAAAAAAAAAAAAAAAAAAAAAAAAAAAAAAAAAAAAAAAAAAAAAAAAAAAAAAAAAAAAAAAAAAAAAAAAAAAAAAAAAAAAAAAAAAAAAAAAAAAAAAAAAAAAAAAAAAAAAAAAAAAAAAAAAAAAAAAAAAAAAAAAAAAAAAAAAAAAAAAAAAAAAAAAAAAAAAAAAAAAAAAAAAAAAAAAAAAAAAAAAAAAAAAAAAAAAAAAAAAAAAAAAAAAAAAAAAAAAAAAAAAAAAAAAAAAAAAAAAAAAAAAAAAAAAAAAAAAAAAAAAAAAAAAAAAAAAAAAAAAAAAAAAAAAAAAAAAAAAAAAAAAAAAAAAAAAAAAAAAAAAAAAAAAAAAAAAAAAAAAAAAAAAAAAAAAAAAAAAAAAAAAAAAAAAAAAAAAAAAAAAAAAAAAAAAAAAAAAA\",\"dtype\":\"float64\",\"shape\":[801]}}},\"id\":\"b9f28524-bc8b-49dd-a2ef-cb0e3df42cd6\",\"type\":\"ColumnDataSource\"}],\"root_ids\":[\"cf75ce4e-2a13-4333-be4f-a440b43792c1\"]},\"title\":\"Bokeh Application\",\"version\":\"0.12.4\"}};\n",
       "            var render_items = [{\"docid\":\"bd9dce7b-078c-40c1-b366-f8b6cbcc0eef\",\"elementid\":\"6e48f0af-6558-451d-9370-9bf5727b20e6\",\"modelid\":\"cf75ce4e-2a13-4333-be4f-a440b43792c1\"}];\n",
       "            \n",
       "            Bokeh.embed.embed_items(docs_json, render_items);\n",
       "          };\n",
       "          if (document.readyState != \"loading\") fn();\n",
       "          else document.addEventListener(\"DOMContentLoaded\", fn);\n",
       "        })();\n",
       "      },\n",
       "      function(Bokeh) {\n",
       "      }\n",
       "    ];\n",
       "  \n",
       "    function run_inline_js() {\n",
       "      \n",
       "      if ((window.Bokeh !== undefined) || (force === true)) {\n",
       "        for (var i = 0; i < inline_js.length; i++) {\n",
       "          inline_js[i](window.Bokeh);\n",
       "        }if (force === true) {\n",
       "          display_loaded();\n",
       "        }} else if (Date.now() < window._bokeh_timeout) {\n",
       "        setTimeout(run_inline_js, 100);\n",
       "      } else if (!window._bokeh_failed_load) {\n",
       "        console.log(\"Bokeh: BokehJS failed to load within specified timeout.\");\n",
       "        window._bokeh_failed_load = true;\n",
       "      } else if (force !== true) {\n",
       "        var cell = $(document.getElementById(\"6e48f0af-6558-451d-9370-9bf5727b20e6\")).parents('.cell').data().cell;\n",
       "        cell.output_area.append_execute_result(NB_LOAD_WARNING)\n",
       "      }\n",
       "  \n",
       "    }\n",
       "  \n",
       "    if (window._bokeh_is_loading === 0) {\n",
       "      console.log(\"Bokeh: BokehJS loaded, going straight to plotting\");\n",
       "      run_inline_js();\n",
       "    } else {\n",
       "      load_libs(js_urls, function() {\n",
       "        console.log(\"Bokeh: BokehJS plotting callback run at\", now());\n",
       "        run_inline_js();\n",
       "      });\n",
       "    }\n",
       "  }(this));\n",
       "</script>"
      ]
     },
     "metadata": {},
     "output_type": "display_data"
    },
    {
     "name": "stderr",
     "output_type": "stream",
     "text": [
      "/users/tabhid/.local/lib/python3.5/site-packages/bokeh/models/sources.py:81: BokehUserWarning: ColumnDataSource's columns must be of the same length\n",
      "  lambda: warnings.warn(\"ColumnDataSource's columns must be of the same length\", BokehUserWarning))\n",
      "/users/tabhid/.local/lib/python3.5/site-packages/bokeh/models/sources.py:81: BokehUserWarning: ColumnDataSource's columns must be of the same length\n",
      "  lambda: warnings.warn(\"ColumnDataSource's columns must be of the same length\", BokehUserWarning))\n",
      "/users/tabhid/.local/lib/python3.5/site-packages/bokeh/models/sources.py:81: BokehUserWarning: ColumnDataSource's columns must be of the same length\n",
      "  lambda: warnings.warn(\"ColumnDataSource's columns must be of the same length\", BokehUserWarning))\n",
      "/users/tabhid/.local/lib/python3.5/site-packages/bokeh/models/sources.py:81: BokehUserWarning: ColumnDataSource's columns must be of the same length\n",
      "  lambda: warnings.warn(\"ColumnDataSource's columns must be of the same length\", BokehUserWarning))\n",
      "/users/tabhid/.local/lib/python3.5/site-packages/bokeh/models/sources.py:81: BokehUserWarning: ColumnDataSource's columns must be of the same length\n",
      "  lambda: warnings.warn(\"ColumnDataSource's columns must be of the same length\", BokehUserWarning))\n",
      "/users/tabhid/.local/lib/python3.5/site-packages/bokeh/models/sources.py:81: BokehUserWarning: ColumnDataSource's columns must be of the same length\n",
      "  lambda: warnings.warn(\"ColumnDataSource's columns must be of the same length\", BokehUserWarning))\n",
      "/users/tabhid/.local/lib/python3.5/site-packages/bokeh/models/sources.py:81: BokehUserWarning: ColumnDataSource's columns must be of the same length\n",
      "  lambda: warnings.warn(\"ColumnDataSource's columns must be of the same length\", BokehUserWarning))\n",
      "/users/tabhid/.local/lib/python3.5/site-packages/bokeh/models/sources.py:81: BokehUserWarning: ColumnDataSource's columns must be of the same length\n",
      "  lambda: warnings.warn(\"ColumnDataSource's columns must be of the same length\", BokehUserWarning))\n",
      "/users/tabhid/.local/lib/python3.5/site-packages/bokeh/models/sources.py:81: BokehUserWarning: ColumnDataSource's columns must be of the same length\n",
      "  lambda: warnings.warn(\"ColumnDataSource's columns must be of the same length\", BokehUserWarning))\n",
      "/users/tabhid/.local/lib/python3.5/site-packages/bokeh/models/sources.py:81: BokehUserWarning: ColumnDataSource's columns must be of the same length\n",
      "  lambda: warnings.warn(\"ColumnDataSource's columns must be of the same length\", BokehUserWarning))\n"
     ]
    },
    {
     "data": {
      "text/html": [
       "\n",
       "\n",
       "    <div class=\"bk-root\">\n",
       "        <div class=\"bk-plotdiv\" id=\"2339dcbc-0509-417f-83d8-7dd877251d99\"></div>\n",
       "    </div>\n",
       "<script type=\"text/javascript\">\n",
       "  \n",
       "  (function(global) {\n",
       "    function now() {\n",
       "      return new Date();\n",
       "    }\n",
       "  \n",
       "    var force = false;\n",
       "  \n",
       "    if (typeof (window._bokeh_onload_callbacks) === \"undefined\" || force === true) {\n",
       "      window._bokeh_onload_callbacks = [];\n",
       "      window._bokeh_is_loading = undefined;\n",
       "    }\n",
       "  \n",
       "  \n",
       "    \n",
       "    if (typeof (window._bokeh_timeout) === \"undefined\" || force === true) {\n",
       "      window._bokeh_timeout = Date.now() + 0;\n",
       "      window._bokeh_failed_load = false;\n",
       "    }\n",
       "  \n",
       "    var NB_LOAD_WARNING = {'data': {'text/html':\n",
       "       \"<div style='background-color: #fdd'>\\n\"+\n",
       "       \"<p>\\n\"+\n",
       "       \"BokehJS does not appear to have successfully loaded. If loading BokehJS from CDN, this \\n\"+\n",
       "       \"may be due to a slow or bad network connection. Possible fixes:\\n\"+\n",
       "       \"</p>\\n\"+\n",
       "       \"<ul>\\n\"+\n",
       "       \"<li>re-rerun `output_notebook()` to attempt to load from CDN again, or</li>\\n\"+\n",
       "       \"<li>use INLINE resources instead, as so:</li>\\n\"+\n",
       "       \"</ul>\\n\"+\n",
       "       \"<code>\\n\"+\n",
       "       \"from bokeh.resources import INLINE\\n\"+\n",
       "       \"output_notebook(resources=INLINE)\\n\"+\n",
       "       \"</code>\\n\"+\n",
       "       \"</div>\"}};\n",
       "  \n",
       "    function display_loaded() {\n",
       "      if (window.Bokeh !== undefined) {\n",
       "        document.getElementById(\"2339dcbc-0509-417f-83d8-7dd877251d99\").textContent = \"BokehJS successfully loaded.\";\n",
       "      } else if (Date.now() < window._bokeh_timeout) {\n",
       "        setTimeout(display_loaded, 100)\n",
       "      }\n",
       "    }\n",
       "  \n",
       "    function run_callbacks() {\n",
       "      window._bokeh_onload_callbacks.forEach(function(callback) { callback() });\n",
       "      delete window._bokeh_onload_callbacks\n",
       "      console.info(\"Bokeh: all callbacks have finished\");\n",
       "    }\n",
       "  \n",
       "    function load_libs(js_urls, callback) {\n",
       "      window._bokeh_onload_callbacks.push(callback);\n",
       "      if (window._bokeh_is_loading > 0) {\n",
       "        console.log(\"Bokeh: BokehJS is being loaded, scheduling callback at\", now());\n",
       "        return null;\n",
       "      }\n",
       "      if (js_urls == null || js_urls.length === 0) {\n",
       "        run_callbacks();\n",
       "        return null;\n",
       "      }\n",
       "      console.log(\"Bokeh: BokehJS not loaded, scheduling load and callback at\", now());\n",
       "      window._bokeh_is_loading = js_urls.length;\n",
       "      for (var i = 0; i < js_urls.length; i++) {\n",
       "        var url = js_urls[i];\n",
       "        var s = document.createElement('script');\n",
       "        s.src = url;\n",
       "        s.async = false;\n",
       "        s.onreadystatechange = s.onload = function() {\n",
       "          window._bokeh_is_loading--;\n",
       "          if (window._bokeh_is_loading === 0) {\n",
       "            console.log(\"Bokeh: all BokehJS libraries loaded\");\n",
       "            run_callbacks()\n",
       "          }\n",
       "        };\n",
       "        s.onerror = function() {\n",
       "          console.warn(\"failed to load library \" + url);\n",
       "        };\n",
       "        console.log(\"Bokeh: injecting script tag for BokehJS library: \", url);\n",
       "        document.getElementsByTagName(\"head\")[0].appendChild(s);\n",
       "      }\n",
       "    };var element = document.getElementById(\"2339dcbc-0509-417f-83d8-7dd877251d99\");\n",
       "    if (element == null) {\n",
       "      console.log(\"Bokeh: ERROR: autoload.js configured with elementid '2339dcbc-0509-417f-83d8-7dd877251d99' but no matching script tag was found. \")\n",
       "      return false;\n",
       "    }\n",
       "  \n",
       "    var js_urls = [];\n",
       "  \n",
       "    var inline_js = [\n",
       "      function(Bokeh) {\n",
       "        (function() {\n",
       "          var fn = function() {\n",
       "            var docs_json = {\"f4cf98e2-62b1-488a-b7a0-1ad774a762ee\":{\"roots\":{\"references\":[{\"attributes\":{\"line_alpha\":{\"value\":0.1},\"line_color\":{\"value\":\"#1f77b4\"},\"line_width\":{\"value\":2},\"x\":{\"field\":\"x\"},\"y\":{\"field\":\"y\"}},\"id\":\"1f7b4551-2035-43de-9be0-211669c19183\",\"type\":\"Line\"},{\"attributes\":{\"plot\":{\"id\":\"5a18e79e-42be-41f5-9fa9-cf59440ed499\",\"subtype\":\"Figure\",\"type\":\"Plot\"}},\"id\":\"6bf46f4f-f3bd-4c5d-9a9a-5516b02add0d\",\"type\":\"PanTool\"},{\"attributes\":{\"data_source\":{\"id\":\"69894cec-a692-4104-9ac8-76004e61f309\",\"type\":\"ColumnDataSource\"},\"glyph\":{\"id\":\"7d335018-d26e-495a-9404-09a59f81252e\",\"type\":\"Line\"},\"hover_glyph\":null,\"nonselection_glyph\":{\"id\":\"ae716182-3e58-4efc-b428-dda7781b1ed3\",\"type\":\"Line\"},\"selection_glyph\":null},\"id\":\"e1e6e1f0-c1ba-4cd7-ac53-11c283684cca\",\"type\":\"GlyphRenderer\"},{\"attributes\":{\"below\":[{\"id\":\"518413c9-229f-4818-a60f-f91d62d66aca\",\"type\":\"LinearAxis\"}],\"left\":[{\"id\":\"c541798f-981d-491a-94c4-c06dc6f74649\",\"type\":\"LinearAxis\"}],\"plot_height\":800,\"plot_width\":1200,\"renderers\":[{\"id\":\"518413c9-229f-4818-a60f-f91d62d66aca\",\"type\":\"LinearAxis\"},{\"id\":\"fa297535-f28b-4e20-88de-11fe6e5ba8d9\",\"type\":\"Grid\"},{\"id\":\"c541798f-981d-491a-94c4-c06dc6f74649\",\"type\":\"LinearAxis\"},{\"id\":\"95f60a8d-ee09-4ef8-af5c-7f51151d5157\",\"type\":\"Grid\"},{\"id\":\"424a6a86-baff-4e9e-9ed9-b63df42310d0\",\"type\":\"BoxAnnotation\"},{\"id\":\"856dfe4e-a815-4a43-b50a-b9cf64b3e660\",\"type\":\"GlyphRenderer\"},{\"id\":\"e1e6e1f0-c1ba-4cd7-ac53-11c283684cca\",\"type\":\"GlyphRenderer\"},{\"id\":\"d2227669-7de2-42a4-b4b0-beadc273303b\",\"type\":\"GlyphRenderer\"},{\"id\":\"aadaf5fa-7257-42bd-b8eb-c95ab75197c9\",\"type\":\"GlyphRenderer\"},{\"id\":\"46127157-6ea8-4835-aaf2-bdb51037a72f\",\"type\":\"GlyphRenderer\"},{\"id\":\"1fcb443d-0aec-4bd0-b0cc-f741a8855980\",\"type\":\"GlyphRenderer\"},{\"id\":\"d138f573-d85e-45ad-9afa-8eeaf457a375\",\"type\":\"GlyphRenderer\"},{\"id\":\"6ca5006d-df62-4ff6-8efc-ae4e36d58381\",\"type\":\"GlyphRenderer\"},{\"id\":\"14f1f670-aff8-44dc-967e-24838d09145d\",\"type\":\"GlyphRenderer\"},{\"id\":\"3f3f444d-1c51-4093-8f41-4d0830920ed6\",\"type\":\"GlyphRenderer\"},{\"id\":\"c68e5e4d-8291-41ff-8fd5-71b4e5f8a01d\",\"type\":\"Legend\"}],\"right\":[{\"id\":\"c68e5e4d-8291-41ff-8fd5-71b4e5f8a01d\",\"type\":\"Legend\"}],\"title\":{\"id\":\"0cee70ae-96bd-473b-8a16-6c9676f769d1\",\"type\":\"Title\"},\"tool_events\":{\"id\":\"5cd911bd-dc67-44ea-8004-78da7857bee7\",\"type\":\"ToolEvents\"},\"toolbar\":{\"id\":\"18aaea00-cf35-4ad2-85cf-913ccb317ef1\",\"type\":\"Toolbar\"},\"toolbar_location\":\"above\",\"x_range\":{\"id\":\"afb5e07e-af7e-414e-a37e-88dd903cf47a\",\"type\":\"DataRange1d\"},\"y_range\":{\"id\":\"663edc5f-2ad0-4cfd-b92a-a1888aa42b3c\",\"type\":\"DataRange1d\"}},\"id\":\"5a18e79e-42be-41f5-9fa9-cf59440ed499\",\"subtype\":\"Figure\",\"type\":\"Plot\"},{\"attributes\":{\"fill_alpha\":{\"value\":0.1},\"fill_color\":{\"value\":\"#1f77b4\"},\"line_alpha\":{\"value\":0.1},\"line_color\":{\"value\":\"#1f77b4\"},\"x\":{\"field\":\"x\"},\"y\":{\"field\":\"y\"}},\"id\":\"d02bf6a6-8c5e-4c40-93d0-b5abe9a4b613\",\"type\":\"Patch\"},{\"attributes\":{\"callback\":null,\"column_names\":[\"x\",\"y\"],\"data\":{\"x\":[0,1000,2000,3000,4000,5000,6000,7000,8000,9000,10000,11000,12000,13000,14000,15000,16000,17000,18000,19000,20000,21000,22000,23000,24000,25000,26000,27000,28000,29000,30000,31000,32000,33000,34000,35000,36000,37000,38000,39000,40000,41000,42000,43000,44000,45000,46000,47000,48000,49000,50000,51000,52000,53000,54000,55000,56000,57000,58000,59000,60000,61000,62000,63000,64000,65000,66000,67000,68000,69000,70000,71000,72000,73000,74000,75000,76000,77000,78000,79000,80000,81000,82000,83000,84000,85000,86000,87000,88000,89000,90000,91000,92000,93000,94000,95000,96000,97000,98000,99000,100000,101000,102000,103000,104000,105000,106000,107000,108000,109000,110000,111000,112000,113000,114000,115000,116000,117000,118000,119000,120000,121000,122000,123000,124000,125000,126000,127000,128000,129000,130000,131000,132000,133000,134000,135000,136000,137000,138000,139000,140000,141000,142000,143000,144000,145000,146000,147000,148000,149000,150000,151000,152000,153000,154000,155000,156000,157000,158000,159000,160000,161000,162000,163000,164000,165000,166000,167000,168000,169000,170000,171000,172000,173000,174000,175000,176000,177000,178000,179000,180000,181000,182000,183000,184000,185000,186000,187000,188000,189000,190000,191000,192000,193000,194000,195000,196000,197000,198000,199000,200000,201000,202000,203000,204000,205000,206000,207000,208000,209000,210000,211000,212000,213000,214000,215000,216000,217000,218000,219000,220000,221000,222000,223000,224000,225000,226000,227000,228000,229000,230000,231000,232000,233000,234000,235000,236000,237000,238000,239000,240000,241000,242000,243000,244000,245000,246000,247000,248000,249000,250000,251000,252000,253000,254000,255000,256000,257000,258000,259000,260000,261000,262000,263000,264000,265000,266000,267000,268000,269000,270000,271000,272000,273000,274000,275000,276000,277000,278000,279000,280000,281000,282000,283000,284000,285000,286000,287000,288000,289000,290000,291000,292000,293000,294000,295000,296000,297000,298000,299000,300000,301000,302000,303000,304000,305000,306000,307000,308000,309000,310000,311000,312000,313000,314000,315000,316000,317000,318000,319000,320000,321000,322000,323000,324000,325000,326000,327000,328000,329000,330000,331000,332000,333000,334000,335000,336000,337000,338000,339000,340000,341000,342000,343000,344000,345000,346000,347000,348000,349000,350000,351000,352000,353000,354000,355000,356000,357000,358000,359000,360000,361000,362000,363000,364000,365000,366000,367000,368000,369000,370000,371000,372000,373000,374000,375000,376000,377000,378000,379000,380000,381000,382000,383000,384000,385000,386000,387000,388000,389000,390000,391000,392000,393000,394000,395000,396000,397000,398000,399000,400000,401000,402000,403000,404000,405000,406000,407000,408000,409000,410000,411000,412000,413000,414000,415000,416000,417000,418000,419000,420000,421000,422000,423000,424000,425000,426000,427000,428000,429000,430000,431000,432000,433000,434000,435000,436000,437000,438000,439000,440000,441000,442000,443000,444000,445000,446000,447000,448000,449000,450000,451000,452000,453000,454000,455000,456000,457000,458000,459000,460000,461000,462000,463000,464000,465000,466000,467000,468000,469000,470000,471000,472000,473000,474000,475000,476000,477000,478000,479000,480000,481000,482000,483000,484000,485000,486000,487000,488000,489000,490000,491000,492000,493000,494000,495000,496000,497000,498000,499000,500000,501000,502000,503000,504000,505000,506000,507000,508000,509000,510000,511000,512000,513000,514000,515000,516000,517000,518000,519000,520000,521000,522000,523000,524000,525000,526000,527000,528000,529000,530000,531000,532000,533000,534000,535000,536000,537000,538000,539000,540000,541000,542000,543000,544000,545000,546000,547000,548000,549000,550000,551000,552000,553000,554000,555000,556000,557000,558000,559000,560000,561000,562000,563000,564000,565000,566000,567000,568000,569000,570000,571000,572000,573000,574000,575000,576000,577000,578000,579000,580000,581000,582000,583000,584000,585000,586000,587000,588000,589000,590000,591000,592000,593000,594000,595000,596000,597000,598000,599000,600000,601000,602000,603000,604000,605000,606000,607000,608000,609000,610000,611000,612000,613000,614000,615000,616000,617000,618000,619000,620000,621000,622000,623000,624000,625000,626000,627000,628000,629000,630000,631000,632000,633000,634000,635000,636000,637000,638000,639000,640000,641000,642000,643000,644000,645000,646000,647000,648000,649000,650000,651000,652000,653000,654000,655000,656000,657000,658000,659000,660000,661000,662000,663000,664000,665000,666000,667000,668000,669000,670000,671000,672000,673000,674000,675000,676000,677000,678000,679000,680000,681000,682000,683000,684000,685000,686000,687000,688000,689000,690000,691000,692000,693000,694000,695000,696000,697000,698000,699000,700000,701000,702000,703000,704000,705000,706000,707000,708000,709000,710000,711000,712000,713000,714000,715000,716000,717000,718000,719000,720000,721000,722000,723000,724000,725000,726000,727000,728000,729000,730000,731000,732000,733000,734000,735000,736000,737000,738000,739000,740000,741000,742000,743000,744000,745000,746000,747000,748000,749000,750000,751000,752000,753000,754000,755000,756000,757000,758000,759000,760000,761000,762000,763000,764000,765000,766000,767000,768000,769000,770000,771000,772000,773000,774000,775000,776000,777000,778000,779000,780000,781000,782000,783000,784000,785000,786000,787000,788000,789000,790000,791000,792000,793000,794000,795000,796000,797000,798000,799000,800000],\"y\":{\"__ndarray__\":\"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\",\"dtype\":\"float64\",\"shape\":[800]}}},\"id\":\"69894cec-a692-4104-9ac8-76004e61f309\",\"type\":\"ColumnDataSource\"},{\"attributes\":{},\"id\":\"721690ea-73ea-41c8-9172-e365a0d2c2f1\",\"type\":\"BasicTicker\"},{\"attributes\":{\"callback\":null,\"column_names\":[\"x\",\"y\"],\"data\":{\"x\":[0,1000,2000,3000,4000,5000,6000,7000,8000,9000,10000,11000,12000,13000,14000,15000,16000,17000,18000,19000,20000,21000,22000,23000,24000,25000,26000,27000,28000,29000,30000,31000,32000,33000,34000,35000,36000,37000,38000,39000,40000,41000,42000,43000,44000,45000,46000,47000,48000,49000,50000,51000,52000,53000,54000,55000,56000,57000,58000,59000,60000,61000,62000,63000,64000,65000,66000,67000,68000,69000,70000,71000,72000,73000,74000,75000,76000,77000,78000,79000,80000,81000,82000,83000,84000,85000,86000,87000,88000,89000,90000,91000,92000,93000,94000,95000,96000,97000,98000,99000,100000,101000,102000,103000,104000,105000,106000,107000,108000,109000,110000,111000,112000,113000,114000,115000,116000,117000,118000,119000,120000,121000,122000,123000,124000,125000,126000,127000,128000,129000,130000,131000,132000,133000,134000,135000,136000,137000,138000,139000,140000,141000,142000,143000,144000,145000,146000,147000,148000,149000,150000,151000,152000,153000,154000,155000,156000,157000,158000,159000,160000,161000,162000,163000,164000,165000,166000,167000,168000,169000,170000,171000,172000,173000,174000,175000,176000,177000,178000,179000,180000,181000,182000,183000,184000,185000,186000,187000,188000,189000,190000,191000,192000,193000,194000,195000,196000,197000,198000,199000,200000,201000,202000,203000,204000,205000,206000,207000,208000,209000,210000,211000,212000,213000,214000,215000,216000,217000,218000,219000,220000,221000,222000,223000,224000,225000,226000,227000,228000,229000,230000,231000,232000,233000,234000,235000,236000,237000,238000,239000,240000,241000,242000,243000,244000,245000,246000,247000,248000,249000,250000,251000,252000,253000,254000,255000,256000,257000,258000,259000,260000,261000,262000,263000,264000,265000,266000,267000,268000,269000,270000,271000,272000,273000,274000,275000,276000,277000,278000,279000,280000,281000,282000,283000,284000,285000,286000,287000,288000,289000,290000,291000,292000,293000,294000,295000,296000,297000,298000,299000,300000,301000,302000,303000,304000,305000,306000,307000,308000,309000,310000,311000,312000,313000,314000,315000,316000,317000,318000,319000,320000,321000,322000,323000,324000,325000,326000,327000,328000,329000,330000,331000,332000,333000,334000,335000,336000,337000,338000,339000,340000,341000,342000,343000,344000,345000,346000,347000,348000,349000,350000,351000,352000,353000,354000,355000,356000,357000,358000,359000,360000,361000,362000,363000,364000,365000,366000,367000,368000,369000,370000,371000,372000,373000,374000,375000,376000,377000,378000,379000,380000,381000,382000,383000,384000,385000,386000,387000,388000,389000,390000,391000,392000,393000,394000,395000,396000,397000,398000,399000,400000,401000,402000,403000,404000,405000,406000,407000,408000,409000,410000,411000,412000,413000,414000,415000,416000,417000,418000,419000,420000,421000,422000,423000,424000,425000,426000,427000,428000,429000,430000,431000,432000,433000,434000,435000,436000,437000,438000,439000,440000,441000,442000,443000,444000,445000,446000,447000,448000,449000,450000,451000,452000,453000,454000,455000,456000,457000,458000,459000,460000,461000,462000,463000,464000,465000,466000,467000,468000,469000,470000,471000,472000,473000,474000,475000,476000,477000,478000,479000,480000,481000,482000,483000,484000,485000,486000,487000,488000,489000,490000,491000,492000,493000,494000,495000,496000,497000,498000,499000,500000,501000,502000,503000,504000,505000,506000,507000,508000,509000,510000,511000,512000,513000,514000,515000,516000,517000,518000,519000,520000,521000,522000,523000,524000,525000,526000,527000,528000,529000,530000,531000,532000,533000,534000,535000,536000,537000,538000,539000,540000,541000,542000,543000,544000,545000,546000,547000,548000,549000,550000,551000,552000,553000,554000,555000,556000,557000,558000,559000,560000,561000,562000,563000,564000,565000,566000,567000,568000,569000,570000,571000,572000,573000,574000,575000,576000,577000,578000,579000,580000,581000,582000,583000,584000,585000,586000,587000,588000,589000,590000,591000,592000,593000,594000,595000,596000,597000,598000,599000,600000,601000,602000,603000,604000,605000,606000,607000,608000,609000,610000,611000,612000,613000,614000,615000,616000,617000,618000,619000,620000,621000,622000,623000,624000,625000,626000,627000,628000,629000,630000,631000,632000,633000,634000,635000,636000,637000,638000,639000,640000,641000,642000,643000,644000,645000,646000,647000,648000,649000,650000,651000,652000,653000,654000,655000,656000,657000,658000,659000,660000,661000,662000,663000,664000,665000,666000,667000,668000,669000,670000,671000,672000,673000,674000,675000,676000,677000,678000,679000,680000,681000,682000,683000,684000,685000,686000,687000,688000,689000,690000,691000,692000,693000,694000,695000,696000,697000,698000,699000,700000,701000,702000,703000,704000,705000,706000,707000,708000,709000,710000,711000,712000,713000,714000,715000,716000,717000,718000,719000,720000,721000,722000,723000,724000,725000,726000,727000,728000,729000,730000,731000,732000,733000,734000,735000,736000,737000,738000,739000,740000,741000,742000,743000,744000,745000,746000,747000,748000,749000,750000,751000,752000,753000,754000,755000,756000,757000,758000,759000,760000,761000,762000,763000,764000,765000,766000,767000,768000,769000,770000,771000,772000,773000,774000,775000,776000,777000,778000,779000,780000,781000,782000,783000,784000,785000,786000,787000,788000,789000,790000,791000,792000,793000,794000,795000,796000,797000,798000,799000,800000,800000,799000,798000,797000,796000,795000,794000,793000,792000,791000,790000,789000,788000,787000,786000,785000,784000,783000,782000,781000,780000,779000,778000,777000,776000,775000,774000,773000,772000,771000,770000,769000,768000,767000,766000,765000,764000,763000,762000,761000,760000,759000,758000,757000,756000,755000,754000,753000,752000,751000,750000,749000,748000,747000,746000,745000,744000,743000,742000,741000,740000,739000,738000,737000,736000,735000,734000,733000,732000,731000,730000,729000,728000,727000,726000,725000,724000,723000,722000,721000,720000,719000,718000,717000,716000,715000,714000,713000,712000,711000,710000,709000,708000,707000,706000,705000,704000,703000,702000,701000,700000,699000,698000,697000,696000,695000,694000,693000,692000,691000,690000,689000,688000,687000,686000,685000,684000,683000,682000,681000,680000,679000,678000,677000,676000,675000,674000,673000,672000,671000,670000,669000,668000,667000,666000,665000,664000,663000,662000,661000,660000,659000,658000,657000,656000,655000,654000,653000,652000,651000,650000,649000,648000,647000,646000,645000,644000,643000,642000,641000,640000,639000,638000,637000,636000,635000,634000,633000,632000,631000,630000,629000,628000,627000,626000,625000,624000,623000,622000,621000,620000,619000,618000,617000,616000,615000,614000,613000,612000,611000,610000,609000,608000,607000,606000,605000,604000,603000,602000,601000,600000,599000,598000,597000,596000,595000,594000,593000,592000,591000,590000,589000,588000,587000,586000,585000,584000,583000,582000,581000,580000,579000,578000,577000,576000,575000,574000,573000,572000,571000,570000,569000,568000,567000,566000,565000,564000,563000,562000,561000,560000,559000,558000,557000,556000,555000,554000,553000,552000,551000,550000,549000,548000,547000,546000,545000,544000,543000,542000,541000,540000,539000,538000,537000,536000,535000,534000,533000,532000,531000,530000,529000,528000,527000,526000,525000,524000,523000,522000,521000,520000,519000,518000,517000,516000,515000,514000,513000,512000,511000,510000,509000,508000,507000,506000,505000,504000,503000,502000,501000,500000,499000,498000,497000,496000,495000,494000,493000,492000,491000,490000,489000,488000,487000,486000,485000,484000,483000,482000,481000,480000,479000,478000,477000,476000,475000,474000,473000,472000,471000,470000,469000,468000,467000,466000,465000,464000,463000,462000,461000,460000,459000,458000,457000,456000,455000,454000,453000,452000,451000,450000,449000,448000,447000,446000,445000,444000,443000,442000,441000,440000,439000,438000,437000,436000,435000,434000,433000,432000,431000,430000,429000,428000,427000,426000,425000,424000,423000,422000,421000,420000,419000,418000,417000,416000,415000,414000,413000,412000,411000,410000,409000,408000,407000,406000,405000,404000,403000,402000,401000,400000,399000,398000,397000,396000,395000,394000,393000,392000,391000,390000,389000,388000,387000,386000,385000,384000,383000,382000,381000,380000,379000,378000,377000,376000,375000,374000,373000,372000,371000,370000,369000,368000,367000,366000,365000,364000,363000,362000,361000,360000,359000,358000,357000,356000,355000,354000,353000,352000,351000,350000,349000,348000,347000,346000,345000,344000,343000,342000,341000,340000,339000,338000,337000,336000,335000,334000,333000,332000,331000,330000,329000,328000,327000,326000,325000,324000,323000,322000,321000,320000,319000,318000,317000,316000,315000,314000,313000,312000,311000,310000,309000,308000,307000,306000,305000,304000,303000,302000,301000,300000,299000,298000,297000,296000,295000,294000,293000,292000,291000,290000,289000,288000,287000,286000,285000,284000,283000,282000,281000,280000,279000,278000,277000,276000,275000,274000,273000,272000,271000,270000,269000,268000,267000,266000,265000,264000,263000,262000,261000,260000,259000,258000,257000,256000,255000,254000,253000,252000,251000,250000,249000,248000,247000,246000,245000,244000,243000,242000,241000,240000,239000,238000,237000,236000,235000,234000,233000,232000,231000,230000,229000,228000,227000,226000,225000,224000,223000,222000,221000,220000,219000,218000,217000,216000,215000,214000,213000,212000,211000,210000,209000,208000,207000,206000,205000,204000,203000,202000,201000,200000,199000,198000,197000,196000,195000,194000,193000,192000,191000,190000,189000,188000,187000,186000,185000,184000,183000,182000,181000,180000,179000,178000,177000,176000,175000,174000,173000,172000,171000,170000,169000,168000,167000,166000,165000,164000,163000,162000,161000,160000,159000,158000,157000,156000,155000,154000,153000,152000,151000,150000,149000,148000,147000,146000,145000,144000,143000,142000,141000,140000,139000,138000,137000,136000,135000,134000,133000,132000,131000,130000,129000,128000,127000,126000,125000,124000,123000,122000,121000,120000,119000,118000,117000,116000,115000,114000,113000,112000,111000,110000,109000,108000,107000,106000,105000,104000,103000,102000,101000,100000,99000,98000,97000,96000,95000,94000,93000,92000,91000,90000,89000,88000,87000,86000,85000,84000,83000,82000,81000,80000,79000,78000,77000,76000,75000,74000,73000,72000,71000,70000,69000,68000,67000,66000,65000,64000,63000,62000,61000,60000,59000,58000,57000,56000,55000,54000,53000,52000,51000,50000,49000,48000,47000,46000,45000,44000,43000,42000,41000,40000,39000,38000,37000,36000,35000,34000,33000,32000,31000,30000,29000,28000,27000,26000,25000,24000,23000,22000,21000,20000,19000,18000,17000,16000,15000,14000,13000,12000,11000,10000,9000,8000,7000,6000,5000,4000,3000,2000,1000,0],\"y\":[1,57,62,96,125,126,126,160,163,163,169,169,325,355,355,355,355,368,385,385,385,385,385,385,385,385,385,385,386,386,386,386,386,386,386,386,386,386,386,386,386,386,386,386,386,386,386,386,386,386,386,386,386,386,386,386,386,388,388,389,515,558,558,558,558,558,558,558,558,558,558,558,558,558,558,558,558,558,558,558,558,558,558,558,558,558,558,558,558,558,596,623,623,623,623,623,623,623,623,623,623,623,623,623,623,623,623,623,672,712,712,712,712,712,712,712,712,712,712,712,764,789,794,801,803,803,803,804,804,804,804,813,822,822,822,822,827,827,827,827,827,827,830,832,832,832,832,832,862,864,864,864,866,866,866,872,878,953,1019,1022,1022,1022,1022,1041,1041,1061,1074,1085,1090,1090,1090,1095,1095,1095,1097,1097,1097,1097,1097,1097,1097,1104,1104,1104,1104,1104,1116,1116,1116,1116,1116,1116,1116,1116,1116,1116,1116,1116,1116,1116,1116,1116,1121,1245,1313,1313,1314,1314,1315,1315,1315,1315,1341,1342,1342,1342,1342,1356,1363,1363,1364,1364,1364,1411,1411,1411,1411,1411,1448,1448,1465,1507,1507,1597,1644,1645,1656,1657,1657,1657,1657,1657,1657,1657,1660,1665,1665,1665,1665,1665,1665,1665,1665,1665,1693,1738,1738,1757,1759,1761,1761,1761,1786,1786,1786,1786,1786,1787,1788,1788,1799,1799,1799,1799,1799,1799,1799,1799,1799,1799,1799,1799,1799,1807,1807,1807,1807,1807,1807,1809,1809,1809,1809,1809,1809,1810,1810,1810,1810,1810,1810,1810,1810,1810,1810,1810,1810,1810,1810,1810,1810,1810,1810,1810,1810,1810,1810,1810,1810,1810,1810,1810,1810,1810,1810,1810,1810,1810,1810,1810,1810,1810,1810,1810,1810,1810,1810,1810,1810,1810,1810,1810,1810,1810,1810,1810,1810,1810,1810,1810,1810,1810,1810,1810,1810,1810,1810,1810,1810,1810,1810,1810,1810,1810,1810,1810,1810,1810,1810,1810,1810,1810,1810,1810,1810,1810,1810,1810,1810,1810,1810,1810,1810,1810,1810,1810,1810,1810,1810,1810,1810,1810,1810,1810,1810,1810,1810,1810,1810,1810,1810,1810,1810,1810,1810,1810,1810,1810,1810,1810,1810,1810,1810,1810,1810,1810,1810,1810,1810,1810,1810,1810,1810,1810,1810,1810,1810,1810,1810,1810,1810,1810,1810,1810,1810,1810,1810,1810,1810,1810,1810,1810,1810,1810,1810,1810,1810,1810,1810,1810,1810,1810,1810,1810,1812,1812,1812,1812,1812,1812,1812,1812,1812,1812,1812,1812,1812,1812,1812,1812,1812,1812,1812,1812,1812,1812,1812,1812,1812,1812,1812,1812,1812,1812,1812,1812,1812,1812,1812,1812,1812,1812,1812,1812,1812,1812,1812,1812,1812,1812,1812,1812,1812,1812,1812,1812,1812,1812,1812,1812,1812,1812,1812,1812,1812,1812,1812,1812,1812,1812,1812,1812,1812,1812,1812,1812,1812,1812,1812,1812,1812,1812,1812,1812,1812,1812,1812,1812,1812,1812,1812,1812,1812,1812,1812,1812,1812,1812,1812,1812,1812,1812,1812,1812,1812,1812,1812,1812,1812,1812,1812,1812,1812,1812,1812,1812,1812,1812,1812,1812,1812,1812,1812,1812,1812,1812,1812,1812,1812,1812,1812,1812,1812,1812,1812,1812,1812,1812,1812,1812,1812,1812,1812,1812,1812,1812,1812,1812,1812,1812,1812,1812,1812,1812,1812,1812,1812,1812,1812,1812,1812,1812,1812,1812,1812,1812,1812,1812,1812,1812,1812,1812,1812,1812,1812,1812,1812,1812,1812,1812,1812,1812,1812,1812,1812,1812,1812,1812,1812,1812,1812,1812,1812,1812,1812,1812,1812,1812,1812,1812,1812,1812,1812,1812,1812,1812,1812,1812,1812,1812,1812,1812,1812,1812,1812,1812,1812,1812,1812,1812,1812,1812,1812,1812,1812,1812,1812,1812,1812,1812,1812,1812,1812,1812,1812,1812,1812,1812,1812,1812,1812,1812,1812,1812,1812,1812,1812,1812,1812,1812,1812,1812,1812,1812,1812,1812,1812,1812,1812,1812,1812,1812,1812,1812,1812,1812,1812,1812,1812,1812,1812,1812,1812,1812,1812,1812,1812,1812,1812,1812,1812,1812,1812,1812,1812,1812,1812,1812,1812,1812,1812,1812,1812,1812,1812,1812,1812,1812,1812,1812,1812,1812,1812,1812,1812,1812,1812,1812,1812,1812,1812,1812,1812,1812,1812,1812,1812,1812,1812,1812,1812,1812,1812,1812,1812,1812,1812,1812,1812,1812,1812,1812,1812,1812,1812,1812,1812,1812,1812,1812,1812,1812,1812,1812,1812,1812,1812,1812,1812,1812,1901,1901,1901,1901,1901,1901,1901,1901,1901,1901,1901,1901,1901,1901,1901,1901,1901,1901,1901,1901,1901,1901,1901,1901,1901,1901,1901,1901,1901,1901,1901,1901,1901,1901,1901,1901,1901,1901,1901,1901,1901,1901,1901,1901,1901,1901,1901,1901,1901,1901,1901,1901,1901,1901,1901,1901,1901,1901,1901,1901,1901,1901,1901,1901,1901,1901,1901,1901,1901,1901,1901,1901,1901,1901,1901,1901,1901,1901,1901,1901,1901,1901,1901,1901,1901,1901,1901,1901,1901,1901,1901,1901,1901,1901,1901,1901,1901,1901,1901,1901,1901,1901,1901,1901,1901,1901,1901,1901,1901,1901,1901,1901,1901,1901,1901,1901,1901,1901,1901,1901,1901,1901,1901,1901,1901,1901,1901,1901,1901,1901,1901,1901,1901,1901,1901,1901,1901,1901,1901,1901,1901,1901,1901,1901,1901,1901,1901,1901,1901,1901,1901,1901,1901,1901,1901,1901,1901,1901,1901,1901,1901,1901,1901,1901,1901,1901,1901,1901,1901,1901,1901,1901,1901,1901,1901,1901,1901,1901,1901,1901,1901,1901,1901,1901,1901,1901,1901,1901,1901,1901,1901,1901,1901,1901,1901,1901,1901,1901,1901,1901,1901,1901,1901,1901,1901,1901,1901,1901,1901,1901,1901,1901,1901,1901,1901,1901,1901,1901,1901,1901,1901,1901,1901,1901,1901,1901,1901,1901,1901,1901,1901,1901,1901,1901,1901,1901,1901,1901,1901,1901,1901,1901,1901,1901,1901,1901,1901,1901,1901,1901,1901,1901,1901,1901,1901,1901,1901,1901,1901,1901,1901,1901,1901,1901,1901,1901,1901,1901,1901,1901,1901,1901,1901,1901,1901,1901,1901,1901,1901,1901,1901,1901,1901,1901,1901,1901,1901,1901,1901,1901,1901,1901,1901,1901,1901,1901,1901,1901,1901,1901,1901,1901,1901,1901,1901,1901,1901,1901,1901,1901,1901,1901,1901,1901,1901,1901,1901,1901,1901,1901,1901,1901,1901,1901,1901,1901,1901,1901,1901,1901,1901,1901,1901,1901,1901,1901,1901,1901,1901,1901,1901,1901,1901,1901,1901,1901,1901,1901,1901,1901,1901,1901,1901,1901,1901,1901,1901,1901,1901,1901,1901,1901,1901,1901,1901,1901,1901,1901,1901,1901,1901,1901,1901,1901,1901,1901,1901,1901,1901,1901,1901,1901,1901,1901,1901,1901,1901,1901,1901,1901,1901,1901,1901,1901,1901,1901,1901,1901,1901,1901,1901,1901,1901,1901,1901,1901,1901,1901,1901,1901,1901,1901,1901,1901,1901,1901,1901,1901,1901,1901,1901,1901,1901,1901,1901,1901,1901,1901,1901,1901,1901,1901,1901,1901,1901,1901,1901,1901,1901,1901,1901,1901,1901,1901,1901,1901,1901,1901,1901,1901,1901,1901,1901,1901,1901,1901,1901,1901,1901,1901,1901,1901,1901,1901,1901,1901,1901,1901,1901,1901,1901,1901,1901,1901,1901,1901,1901,1901,1901,1901,1901,1901,1901,1901,1901,1901,1901,1901,1901,1901,1901,1901,1901,1901,1901,1901,1901,1901,1901,1901,1901,1901,1901,1901,1901,1901,1901,1901,1901,1901,1901,1901,1901,1901,1901,1901,1901,1901,1901,1901,1901,1901,1901,1901,1901,1901,1901,1901,1901,1901,1901,1901,1901,1901,1901,1901,1901,1901,1901,1901,1901,1901,1901,1901,1901,1901,1901,1901,1901,1901,1901,1901,1901,1901,1901,1901,1901,1901,1901,1901,1901,1901,1901,1901,1901,1901,1901,1901,1901,1901,1901,1901,1901,1901,1901,1901,1901,1901,1901,1901,1901,1901,1901,1901,1901,1901,1901,1901,1901,1901,1901,1901,1901,1901,1901,1901,1901,1901,1901,1901,1901,1900,1900,1900,1900,1900,1900,1900,1900,1900,1900,1900,1900,1900,1900,1900,1900,1900,1900,1900,1900,1896,1893,1893,1891,1891,1891,1891,1891,1891,1891,1889,1889,1889,1889,1889,1889,1889,1889,1889,1887,1887,1887,1887,1884,1884,1884,1884,1884,1884,1884,1884,1884,1879,1879,1876,1876,1876,1876,1876,1876,1876,1874,1874,1862,1769,1769,1760,1753,1677,1629,1570,1559,1559,1559,1559,1559,1550,1549,1549,1544,1534,1533,1494,1440,1440,1440,1440,1438,1388,1382,1382,1382,1382,1382,1382,1353,1284,1283,1283,1283,1283,1283,1283,1283,1283,1283,1261,1261,1223,1223,1223,1223,1212,1203,1071,1071,1071,1071,1071,1071,1071,1071,1071,1071,1071,1058,1058,1058,1058,1041,1041,1041,1026,977,977,977,977,977,977,968,932,932,932,932,922,894,882,880,880,880,880,880,880,880,875,857,857,857,856,848,848,833,744,744,732,631,582,544,544,544,544,544,544,544,494,494,494,494,494,494,494,494,494,494,494,490,486,456,451,451,451,428,334,212,210,196,177,138,1]}},\"id\":\"531813f8-030f-4ce1-b746-69b344716da9\",\"type\":\"ColumnDataSource\"},{\"attributes\":{\"data_source\":{\"id\":\"3cdae19b-de74-4605-acfc-773259fa2140\",\"type\":\"ColumnDataSource\"},\"glyph\":{\"id\":\"d28da1ea-b7ad-469c-a726-f15124ff210f\",\"type\":\"Patch\"},\"hover_glyph\":null,\"nonselection_glyph\":{\"id\":\"d02bf6a6-8c5e-4c40-93d0-b5abe9a4b613\",\"type\":\"Patch\"},\"selection_glyph\":null},\"id\":\"d138f573-d85e-45ad-9afa-8eeaf457a375\",\"type\":\"GlyphRenderer\"},{\"attributes\":{\"overlay\":{\"id\":\"424a6a86-baff-4e9e-9ed9-b63df42310d0\",\"type\":\"BoxAnnotation\"},\"plot\":{\"id\":\"5a18e79e-42be-41f5-9fa9-cf59440ed499\",\"subtype\":\"Figure\",\"type\":\"Plot\"}},\"id\":\"35c66fd8-a967-4c3b-bbcb-abe8a5e692cc\",\"type\":\"BoxZoomTool\"},{\"attributes\":{\"line_alpha\":{\"value\":0.1},\"line_color\":{\"value\":\"#1f77b4\"},\"line_width\":{\"value\":2},\"x\":{\"field\":\"x\"},\"y\":{\"field\":\"y\"}},\"id\":\"66f53ed8-f2a8-4ddf-aa11-3de47db60db8\",\"type\":\"Line\"},{\"attributes\":{\"plot\":{\"id\":\"5a18e79e-42be-41f5-9fa9-cf59440ed499\",\"subtype\":\"Figure\",\"type\":\"Plot\"}},\"id\":\"636ffbfd-2faa-4e26-b150-f5a50336beb5\",\"type\":\"SaveTool\"},{\"attributes\":{\"callback\":null},\"id\":\"663edc5f-2ad0-4cfd-b92a-a1888aa42b3c\",\"type\":\"DataRange1d\"},{\"attributes\":{\"callback\":null,\"column_names\":[\"x\",\"y\"],\"data\":{\"x\":[0,1000,2000,3000,4000,5000,6000,7000,8000,9000,10000,11000,12000,13000,14000,15000,16000,17000,18000,19000,20000,21000,22000,23000,24000,25000,26000,27000,28000,29000,30000,31000,32000,33000,34000,35000,36000,37000,38000,39000,40000,41000,42000,43000,44000,45000,46000,47000,48000,49000,50000,51000,52000,53000,54000,55000,56000,57000,58000,59000,60000,61000,62000,63000,64000,65000,66000,67000,68000,69000,70000,71000,72000,73000,74000,75000,76000,77000,78000,79000,80000,81000,82000,83000,84000,85000,86000,87000,88000,89000,90000,91000,92000,93000,94000,95000,96000,97000,98000,99000,100000,101000,102000,103000,104000,105000,106000,107000,108000,109000,110000,111000,112000,113000,114000,115000,116000,117000,118000,119000,120000,121000,122000,123000,124000,125000,126000,127000,128000,129000,130000,131000,132000,133000,134000,135000,136000,137000,138000,139000,140000,141000,142000,143000,144000,145000,146000,147000,148000,149000,150000,151000,152000,153000,154000,155000,156000,157000,158000,159000,160000,161000,162000,163000,164000,165000,166000,167000,168000,169000,170000,171000,172000,173000,174000,175000,176000,177000,178000,179000,180000,181000,182000,183000,184000,185000,186000,187000,188000,189000,190000,191000,192000,193000,194000,195000,196000,197000,198000,199000,200000,201000,202000,203000,204000,205000,206000,207000,208000,209000,210000,211000,212000,213000,214000,215000,216000,217000,218000,219000,220000,221000,222000,223000,224000,225000,226000,227000,228000,229000,230000,231000,232000,233000,234000,235000,236000,237000,238000,239000,240000,241000,242000,243000,244000,245000,246000,247000,248000,249000,250000,251000,252000,253000,254000,255000,256000,257000,258000,259000,260000,261000,262000,263000,264000,265000,266000,267000,268000,269000,270000,271000,272000,273000,274000,275000,276000,277000,278000,279000,280000,281000,282000,283000,284000,285000,286000,287000,288000,289000,290000,291000,292000,293000,294000,295000,296000,297000,298000,299000,300000,301000,302000,303000,304000,305000,306000,307000,308000,309000,310000,311000,312000,313000,314000,315000,316000,317000,318000,319000,320000,321000,322000,323000,324000,325000,326000,327000,328000,329000,330000,331000,332000,333000,334000,335000,336000,337000,338000,339000,340000,341000,342000,343000,344000,345000,346000,347000,348000,349000,350000,351000,352000,353000,354000,355000,356000,357000,358000,359000,360000,361000,362000,363000,364000,365000,366000,367000,368000,369000,370000,371000,372000,373000,374000,375000,376000,377000,378000,379000,380000,381000,382000,383000,384000,385000,386000,387000,388000,389000,390000,391000,392000,393000,394000,395000,396000,397000,398000,399000,400000,401000,402000,403000,404000,405000,406000,407000,408000,409000,410000,411000,412000,413000,414000,415000,416000,417000,418000,419000,420000,421000,422000,423000,424000,425000,426000,427000,428000,429000,430000,431000,432000,433000,434000,435000,436000,437000,438000,439000,440000,441000,442000,443000,444000,445000,446000,447000,448000,449000,450000,451000,452000,453000,454000,455000,456000,457000,458000,459000,460000,461000,462000,463000,464000,465000,466000,467000,468000,469000,470000,471000,472000,473000,474000,475000,476000,477000,478000,479000,480000,481000,482000,483000,484000,485000,486000,487000,488000,489000,490000,491000,492000,493000,494000,495000,496000,497000,498000,499000,500000,501000,502000,503000,504000,505000,506000,507000,508000,509000,510000,511000,512000,513000,514000,515000,516000,517000,518000,519000,520000,521000,522000,523000,524000,525000,526000,527000,528000,529000,530000,531000,532000,533000,534000,535000,536000,537000,538000,539000,540000,541000,542000,543000,544000,545000,546000,547000,548000,549000,550000,551000,552000,553000,554000,555000,556000,557000,558000,559000,560000,561000,562000,563000,564000,565000,566000,567000,568000,569000,570000,571000,572000,573000,574000,575000,576000,577000,578000,579000,580000,581000,582000,583000,584000,585000,586000,587000,588000,589000,590000,591000,592000,593000,594000,595000,596000,597000,598000,599000,600000,601000,602000,603000,604000,605000,606000,607000,608000,609000,610000,611000,612000,613000,614000,615000,616000,617000,618000,619000,620000,621000,622000,623000,624000,625000,626000,627000,628000,629000,630000,631000,632000,633000,634000,635000,636000,637000,638000,639000,640000,641000,642000,643000,644000,645000,646000,647000,648000,649000,650000,651000,652000,653000,654000,655000,656000,657000,658000,659000,660000,661000,662000,663000,664000,665000,666000,667000,668000,669000,670000,671000,672000,673000,674000,675000,676000,677000,678000,679000,680000,681000,682000,683000,684000,685000,686000,687000,688000,689000,690000,691000,692000,693000,694000,695000,696000,697000,698000,699000,700000,701000,702000,703000,704000,705000,706000,707000,708000,709000,710000,711000,712000,713000,714000,715000,716000,717000,718000,719000,720000,721000,722000,723000,724000,725000,726000,727000,728000,729000,730000,731000,732000,733000,734000,735000,736000,737000,738000,739000,740000,741000,742000,743000,744000,745000,746000,747000,748000,749000,750000,751000,752000,753000,754000,755000,756000,757000,758000,759000,760000,761000,762000,763000,764000,765000,766000,767000,768000,769000,770000,771000,772000,773000,774000,775000,776000,777000,778000,779000,780000,781000,782000,783000,784000,785000,786000,787000,788000,789000,790000,791000,792000,793000,794000,795000,796000,797000,798000,799000,800000,800000,799000,798000,797000,796000,795000,794000,793000,792000,791000,790000,789000,788000,787000,786000,785000,784000,783000,782000,781000,780000,779000,778000,777000,776000,775000,774000,773000,772000,771000,770000,769000,768000,767000,766000,765000,764000,763000,762000,761000,760000,759000,758000,757000,756000,755000,754000,753000,752000,751000,750000,749000,748000,747000,746000,745000,744000,743000,742000,741000,740000,739000,738000,737000,736000,735000,734000,733000,732000,731000,730000,729000,728000,727000,726000,725000,724000,723000,722000,721000,720000,719000,718000,717000,716000,715000,714000,713000,712000,711000,710000,709000,708000,707000,706000,705000,704000,703000,702000,701000,700000,699000,698000,697000,696000,695000,694000,693000,692000,691000,690000,689000,688000,687000,686000,685000,684000,683000,682000,681000,680000,679000,678000,677000,676000,675000,674000,673000,672000,671000,670000,669000,668000,667000,666000,665000,664000,663000,662000,661000,660000,659000,658000,657000,656000,655000,654000,653000,652000,651000,650000,649000,648000,647000,646000,645000,644000,643000,642000,641000,640000,639000,638000,637000,636000,635000,634000,633000,632000,631000,630000,629000,628000,627000,626000,625000,624000,623000,622000,621000,620000,619000,618000,617000,616000,615000,614000,613000,612000,611000,610000,609000,608000,607000,606000,605000,604000,603000,602000,601000,600000,599000,598000,597000,596000,595000,594000,593000,592000,591000,590000,589000,588000,587000,586000,585000,584000,583000,582000,581000,580000,579000,578000,577000,576000,575000,574000,573000,572000,571000,570000,569000,568000,567000,566000,565000,564000,563000,562000,561000,560000,559000,558000,557000,556000,555000,554000,553000,552000,551000,550000,549000,548000,547000,546000,545000,544000,543000,542000,541000,540000,539000,538000,537000,536000,535000,534000,533000,532000,531000,530000,529000,528000,527000,526000,525000,524000,523000,522000,521000,520000,519000,518000,517000,516000,515000,514000,513000,512000,511000,510000,509000,508000,507000,506000,505000,504000,503000,502000,501000,500000,499000,498000,497000,496000,495000,494000,493000,492000,491000,490000,489000,488000,487000,486000,485000,484000,483000,482000,481000,480000,479000,478000,477000,476000,475000,474000,473000,472000,471000,470000,469000,468000,467000,466000,465000,464000,463000,462000,461000,460000,459000,458000,457000,456000,455000,454000,453000,452000,451000,450000,449000,448000,447000,446000,445000,444000,443000,442000,441000,440000,439000,438000,437000,436000,435000,434000,433000,432000,431000,430000,429000,428000,427000,426000,425000,424000,423000,422000,421000,420000,419000,418000,417000,416000,415000,414000,413000,412000,411000,410000,409000,408000,407000,406000,405000,404000,403000,402000,401000,400000,399000,398000,397000,396000,395000,394000,393000,392000,391000,390000,389000,388000,387000,386000,385000,384000,383000,382000,381000,380000,379000,378000,377000,376000,375000,374000,373000,372000,371000,370000,369000,368000,367000,366000,365000,364000,363000,362000,361000,360000,359000,358000,357000,356000,355000,354000,353000,352000,351000,350000,349000,348000,347000,346000,345000,344000,343000,342000,341000,340000,339000,338000,337000,336000,335000,334000,333000,332000,331000,330000,329000,328000,327000,326000,325000,324000,323000,322000,321000,320000,319000,318000,317000,316000,315000,314000,313000,312000,311000,310000,309000,308000,307000,306000,305000,304000,303000,302000,301000,300000,299000,298000,297000,296000,295000,294000,293000,292000,291000,290000,289000,288000,287000,286000,285000,284000,283000,282000,281000,280000,279000,278000,277000,276000,275000,274000,273000,272000,271000,270000,269000,268000,267000,266000,265000,264000,263000,262000,261000,260000,259000,258000,257000,256000,255000,254000,253000,252000,251000,250000,249000,248000,247000,246000,245000,244000,243000,242000,241000,240000,239000,238000,237000,236000,235000,234000,233000,232000,231000,230000,229000,228000,227000,226000,225000,224000,223000,222000,221000,220000,219000,218000,217000,216000,215000,214000,213000,212000,211000,210000,209000,208000,207000,206000,205000,204000,203000,202000,201000,200000,199000,198000,197000,196000,195000,194000,193000,192000,191000,190000,189000,188000,187000,186000,185000,184000,183000,182000,181000,180000,179000,178000,177000,176000,175000,174000,173000,172000,171000,170000,169000,168000,167000,166000,165000,164000,163000,162000,161000,160000,159000,158000,157000,156000,155000,154000,153000,152000,151000,150000,149000,148000,147000,146000,145000,144000,143000,142000,141000,140000,139000,138000,137000,136000,135000,134000,133000,132000,131000,130000,129000,128000,127000,126000,125000,124000,123000,122000,121000,120000,119000,118000,117000,116000,115000,114000,113000,112000,111000,110000,109000,108000,107000,106000,105000,104000,103000,102000,101000,100000,99000,98000,97000,96000,95000,94000,93000,92000,91000,90000,89000,88000,87000,86000,85000,84000,83000,82000,81000,80000,79000,78000,77000,76000,75000,74000,73000,72000,71000,70000,69000,68000,67000,66000,65000,64000,63000,62000,61000,60000,59000,58000,57000,56000,55000,54000,53000,52000,51000,50000,49000,48000,47000,46000,45000,44000,43000,42000,41000,40000,39000,38000,37000,36000,35000,34000,33000,32000,31000,30000,29000,28000,27000,26000,25000,24000,23000,22000,21000,20000,19000,18000,17000,16000,15000,14000,13000,12000,11000,10000,9000,8000,7000,6000,5000,4000,3000,2000,1000,0],\"y\":[1,57,111,111,151,190,190,206,207,207,207,276,277,283,283,283,283,283,283,283,283,283,283,283,283,283,283,283,283,283,283,283,283,283,283,283,283,283,283,283,283,283,283,283,283,283,283,283,283,283,283,283,283,283,284,387,401,401,401,436,436,440,440,440,440,440,476,476,476,476,476,531,587,590,655,735,735,736,740,740,740,740,740,740,740,745,899,923,933,933,933,933,933,933,934,934,934,934,934,934,934,934,934,934,934,934,934,934,934,934,935,941,941,941,941,941,944,944,944,944,944,944,944,944,944,944,944,944,944,944,944,944,944,944,944,944,944,944,944,1050,1051,1051,1053,1057,1057,1058,1058,1058,1058,1058,1058,1058,1061,1061,1070,1144,1181,1181,1181,1187,1189,1191,1191,1191,1191,1191,1192,1192,1192,1214,1214,1214,1214,1214,1272,1297,1297,1297,1298,1298,1298,1298,1298,1298,1298,1299,1299,1299,1299,1299,1300,1312,1362,1596,1703,1707,1708,1709,1709,1709,1709,1709,1709,1709,1709,1709,1709,1709,1709,1709,1709,1709,1709,1709,1709,1709,1709,1709,1709,1709,1709,1709,1709,1709,1709,1709,1709,1709,1709,1709,1709,1709,1709,1709,1709,1709,1709,1709,1709,1709,1709,1709,1709,1709,1709,1709,1709,1709,1709,1709,1709,1709,1709,1709,1709,1709,1709,1709,1709,1709,1709,1709,1709,1709,1709,1709,1709,1709,1709,1709,1709,1709,1709,1709,1709,1709,1709,1709,1709,1709,1709,1709,1709,1709,1709,1709,1709,1709,1709,1709,1709,1709,1709,1709,1709,1709,1709,1709,1709,1709,1709,1709,1709,1709,1709,1709,1709,1709,1709,1709,1709,1709,1709,1709,1709,1709,1709,1709,1709,1709,1709,1709,1709,1709,1709,1709,1709,1709,1709,1709,1709,1709,1709,1709,1709,1709,1709,1709,1709,1709,1709,1709,1709,1709,1709,1709,1709,1709,1709,1709,1709,1709,1709,1709,1709,1709,1709,1709,1709,1709,1709,1709,1709,1709,1709,1709,1709,1709,1709,1709,1709,1709,1709,1709,1709,1709,1709,1709,1709,1709,1709,1709,1709,1709,1709,1709,1713,1713,1713,1713,1713,1713,1713,1713,1713,1713,1713,1713,1713,1713,1713,1713,1713,1713,1713,1714,1714,1714,1714,1714,1714,1714,1714,1714,1714,1714,1714,1714,1714,1715,1715,1715,1715,1715,1715,1715,1715,1715,1715,1715,1715,1715,1715,1715,1715,1715,1715,1715,1859,1888,1890,1893,1894,1900,1900,1900,1900,1900,1900,1900,1900,1900,1900,1900,1900,1900,1900,1900,1900,1900,1900,1900,1900,1900,1900,1900,1900,1900,1900,1900,1900,1900,1900,1900,1900,1900,1900,1900,1900,1900,1900,1900,1900,1900,1900,1900,1900,1900,1900,1900,1900,1900,1900,1900,1900,1900,1900,1900,1900,1900,1900,1900,1900,1900,1900,1900,1900,1900,1900,1900,1900,1900,1900,1900,1900,1900,1900,1900,1900,1900,1900,1900,1900,1900,1900,1900,1900,1900,1900,1900,1900,1900,1900,1900,1900,1900,1900,1900,1900,1900,1900,1900,1900,1900,1900,1900,1900,1900,1900,1900,1900,1900,1900,1900,1900,1900,1900,1900,1900,1900,1900,1900,1900,1900,1900,1900,1900,1900,1900,1900,1900,1900,1900,1900,1900,1900,1900,1900,1900,1900,1900,1900,1900,1900,1900,1900,1900,1900,1900,1900,1900,1900,1900,1900,1900,1900,1900,1900,1900,1900,1900,1900,1900,1900,1900,1900,1900,1900,1900,1900,1900,1900,1900,1900,1900,1900,1900,1900,1900,1900,1900,1900,1900,1900,1900,1900,1900,1900,1900,1900,1900,1900,1900,1900,1900,1900,1900,1900,1900,1900,1900,1900,1900,1900,1900,1900,1900,1900,1900,1900,1900,1900,1900,1900,1900,1900,1900,1900,1900,1900,1900,1900,1900,1900,1900,1900,1900,1900,1900,1900,1900,1900,1900,1900,1900,1900,1900,1900,1900,1900,1900,1900,1900,1900,1900,1900,1900,1900,1900,1900,1900,1900,1900,1900,1900,1900,1900,1900,1900,1900,1900,1900,1900,1900,1900,1900,1900,1900,1900,1900,1900,1900,1900,1900,1900,1900,1900,1900,1900,1900,1900,1900,1900,1900,1900,1900,1900,1900,1900,1900,1900,1900,1900,1900,1900,1900,1900,1900,1900,1900,1900,1900,1900,1900,1900,1900,1900,1900,1900,1900,1900,1900,1900,1900,1900,1900,1900,1900,1900,1900,1900,1900,1900,1900,1900,1900,1900,1900,1900,1900,1900,1900,1900,1900,1900,1900,1900,1900,1900,1900,1900,1900,1900,1900,1900,1900,1900,1900,1900,1900,1900,1900,1900,1900,1900,1900,1900,1900,1900,1900,1901,1901,1901,1901,1901,1901,1901,1901,1901,1901,1901,1901,1901,1901,1901,1901,1901,1901,1901,1901,1901,1901,1901,1901,1901,1901,1901,1901,1901,1901,1901,1901,1901,1901,1901,1901,1901,1901,1901,1901,1901,1901,1901,1901,1901,1901,1901,1901,1901,1901,1901,1901,1901,1901,1901,1901,1901,1901,1901,1901,1901,1901,1901,1901,1901,1901,1901,1901,1901,1901,1901,1901,1901,1901,1901,1901,1901,1901,1901,1901,1901,1901,1901,1901,1901,1901,1901,1901,1901,1901,1901,1901,1901,1901,1901,1901,1901,1901,1901,1901,1901,1901,1901,1901,1901,1901,1901,1901,1901,1901,1901,1901,1901,1901,1901,1901,1901,1901,1901,1901,1901,1901,1901,1901,1901,1901,1901,1901,1901,1901,1901,1901,1901,1901,1901,1901,1901,1901,1901,1901,1901,1901,1901,1901,1901,1901,1901,1901,1901,1901,1901,1901,1901,1901,1901,1901,1901,1901,1901,1901,1901,1901,1901,1901,1901,1901,1901,1901,1901,1901,1901,1901,1901,1901,1901,1901,1901,1901,1901,1901,1901,1901,1901,1901,1901,1901,1901,1901,1901,1901,1901,1901,1901,1901,1901,1901,1901,1901,1901,1901,1901,1901,1901,1901,1901,1901,1901,1901,1901,1901,1901,1901,1901,1901,1901,1901,1901,1901,1901,1901,1901,1901,1901,1901,1901,1901,1901,1901,1901,1901,1901,1901,1901,1901,1901,1901,1901,1901,1901,1901,1901,1901,1901,1901,1901,1901,1901,1901,1901,1901,1901,1901,1901,1901,1901,1901,1901,1901,1901,1901,1901,1901,1901,1901,1901,1901,1901,1901,1901,1901,1901,1901,1901,1901,1901,1901,1901,1901,1901,1901,1901,1901,1901,1901,1901,1901,1901,1901,1901,1901,1901,1901,1901,1901,1901,1901,1901,1901,1901,1901,1901,1901,1901,1901,1901,1901,1901,1901,1901,1901,1901,1901,1901,1901,1901,1901,1901,1901,1901,1901,1901,1901,1901,1901,1901,1901,1901,1901,1901,1901,1901,1901,1901,1901,1901,1901,1901,1901,1901,1901,1901,1901,1901,1901,1901,1901,1901,1901,1901,1901,1901,1901,1901,1901,1901,1901,1901,1901,1901,1901,1901,1901,1901,1901,1901,1901,1901,1901,1901,1901,1901,1901,1901,1901,1901,1901,1901,1901,1901,1901,1901,1901,1901,1901,1901,1901,1901,1901,1901,1901,1901,1901,1901,1901,1901,1901,1901,1901,1901,1901,1901,1901,1901,1901,1901,1901,1901,1901,1901,1901,1901,1901,1901,1901,1901,1901,1901,1901,1901,1901,1901,1901,1901,1901,1901,1901,1901,1901,1901,1901,1901,1901,1901,1901,1901,1901,1901,1901,1901,1901,1901,1901,1901,1901,1901,1901,1901,1901,1901,1901,1901,1901,1901,1901,1901,1901,1901,1901,1901,1901,1901,1901,1901,1901,1901,1901,1901,1901,1901,1901,1901,1901,1901,1901,1901,1901,1901,1901,1901,1901,1901,1901,1901,1901,1901,1901,1901,1901,1901,1901,1901,1901,1901,1901,1901,1901,1901,1901,1901,1901,1901,1901,1901,1901,1901,1901,1901,1901,1901,1901,1901,1901,1901,1901,1901,1901,1901,1901,1901,1901,1901,1901,1901,1901,1901,1901,1901,1901,1901,1901,1901,1901,1901,1901,1901,1901,1901,1901,1901,1901,1901,1901,1901,1901,1901,1901,1901,1901,1901,1901,1901,1901,1901,1901,1901,1901,1901,1901,1901,1901,1901,1901,1901,1901,1901,1901,1901,1901,1901,1901,1901,1901,1901,1901,1901,1901,1901,1901,1901,1901,1901,1901,1901,1901,1901,1901,1901,1901,1901,1901,1901,1901,1901,1901,1900,1900,1900,1900,1900,1900,1900,1900,1900,1900,1900,1900,1900,1900,1900,1900,1900,1900,1900,1900,1900,1900,1900,1900,1900,1900,1900,1900,1900,1900,1900,1900,1900,1900,1900,1900,1900,1900,1896,1896,1896,1895,1895,1895,1895,1895,1895,1895,1895,1895,1895,1895,1895,1892,1892,1892,1892,1892,1879,1879,1879,1879,1879,1879,1879,1879,1879,1879,1879,1879,1879,1879,1812,1812,1812,1812,1812,1812,1812,1812,1812,1784,1783,1783,1773,1773,1773,1773,1773,1773,1773,1773,1773,1773,1718,1649,1649,1642,1642,1642,1640,1637,1636,1589,1589,1589,1587,1537,1537,1537,1537,1537,1536,1536,1534,1534,1506,1506,1506,1506,1504,1503,1498,1494,1450,1435,1426,1416,1343,1343,1343,1343,1343,1343,1343,1343,1342,1328,1325,1325,1308,1283,1283,1252,1221,1220,1220,1220,1220,1220,1220,1220,1214,1165,1165,1165,1132,1132,1132,1132,1107,1095,1014,1004,1004,1001,1001,1001,1001,1001,986,949,949,949,949,949,949,949,949,949,949,940,910,850,847,772,770,770,768,759,758,755,754,751,750,729,726,691,691,606,446,375,263,199,141,1]}},\"id\":\"5476b9c9-6007-4480-aef1-1f4a08059083\",\"type\":\"ColumnDataSource\"},{\"attributes\":{\"fill_alpha\":{\"value\":0.1},\"fill_color\":{\"value\":\"#984ea3\"},\"line_alpha\":{\"value\":0.1},\"line_color\":{\"value\":\"#984ea3\"},\"x\":{\"field\":\"x\"},\"y\":{\"field\":\"y\"}},\"id\":\"d28da1ea-b7ad-469c-a726-f15124ff210f\",\"type\":\"Patch\"},{\"attributes\":{\"data_source\":{\"id\":\"c8f6ca8b-e703-4d87-b8f5-f3aad1a865b2\",\"type\":\"ColumnDataSource\"},\"glyph\":{\"id\":\"2d6f4d43-5ac9-4884-9691-b6742a08284e\",\"type\":\"Patch\"},\"hover_glyph\":null,\"nonselection_glyph\":{\"id\":\"1979e227-cc38-4fb1-9ac1-183fd92f4274\",\"type\":\"Patch\"},\"selection_glyph\":null},\"id\":\"856dfe4e-a815-4a43-b50a-b9cf64b3e660\",\"type\":\"GlyphRenderer\"},{\"attributes\":{\"axis_label\":\"States visited\",\"formatter\":{\"id\":\"f514607a-a2d9-4f27-8426-d1ddf2fd4d17\",\"type\":\"BasicTickFormatter\"},\"plot\":{\"id\":\"5a18e79e-42be-41f5-9fa9-cf59440ed499\",\"subtype\":\"Figure\",\"type\":\"Plot\"},\"ticker\":{\"id\":\"721690ea-73ea-41c8-9172-e365a0d2c2f1\",\"type\":\"BasicTicker\"}},\"id\":\"c541798f-981d-491a-94c4-c06dc6f74649\",\"type\":\"LinearAxis\"},{\"attributes\":{\"label\":{\"value\":\"0.7 Alpha\"},\"renderers\":[{\"id\":\"6ca5006d-df62-4ff6-8efc-ae4e36d58381\",\"type\":\"GlyphRenderer\"}]},\"id\":\"36d1e5f1-16e7-400e-8577-bab1f0a5d50d\",\"type\":\"LegendItem\"},{\"attributes\":{\"plot\":{\"id\":\"5a18e79e-42be-41f5-9fa9-cf59440ed499\",\"subtype\":\"Figure\",\"type\":\"Plot\"}},\"id\":\"11b63d57-a763-444a-a318-6c79ecd76ba0\",\"type\":\"WheelZoomTool\"},{\"attributes\":{\"plot\":{\"id\":\"5a18e79e-42be-41f5-9fa9-cf59440ed499\",\"subtype\":\"Figure\",\"type\":\"Plot\"},\"ticker\":{\"id\":\"fcc4c9bd-c2ad-48a9-930a-da579fd81787\",\"type\":\"BasicTicker\"}},\"id\":\"fa297535-f28b-4e20-88de-11fe6e5ba8d9\",\"type\":\"Grid\"},{\"attributes\":{\"callback\":null,\"column_names\":[\"x\",\"y\"],\"data\":{\"x\":[0,1000,2000,3000,4000,5000,6000,7000,8000,9000,10000,11000,12000,13000,14000,15000,16000,17000,18000,19000,20000,21000,22000,23000,24000,25000,26000,27000,28000,29000,30000,31000,32000,33000,34000,35000,36000,37000,38000,39000,40000,41000,42000,43000,44000,45000,46000,47000,48000,49000,50000,51000,52000,53000,54000,55000,56000,57000,58000,59000,60000,61000,62000,63000,64000,65000,66000,67000,68000,69000,70000,71000,72000,73000,74000,75000,76000,77000,78000,79000,80000,81000,82000,83000,84000,85000,86000,87000,88000,89000,90000,91000,92000,93000,94000,95000,96000,97000,98000,99000,100000,101000,102000,103000,104000,105000,106000,107000,108000,109000,110000,111000,112000,113000,114000,115000,116000,117000,118000,119000,120000,121000,122000,123000,124000,125000,126000,127000,128000,129000,130000,131000,132000,133000,134000,135000,136000,137000,138000,139000,140000,141000,142000,143000,144000,145000,146000,147000,148000,149000,150000,151000,152000,153000,154000,155000,156000,157000,158000,159000,160000,161000,162000,163000,164000,165000,166000,167000,168000,169000,170000,171000,172000,173000,174000,175000,176000,177000,178000,179000,180000,181000,182000,183000,184000,185000,186000,187000,188000,189000,190000,191000,192000,193000,194000,195000,196000,197000,198000,199000,200000,201000,202000,203000,204000,205000,206000,207000,208000,209000,210000,211000,212000,213000,214000,215000,216000,217000,218000,219000,220000,221000,222000,223000,224000,225000,226000,227000,228000,229000,230000,231000,232000,233000,234000,235000,236000,237000,238000,239000,240000,241000,242000,243000,244000,245000,246000,247000,248000,249000,250000,251000,252000,253000,254000,255000,256000,257000,258000,259000,260000,261000,262000,263000,264000,265000,266000,267000,268000,269000,270000,271000,272000,273000,274000,275000,276000,277000,278000,279000,280000,281000,282000,283000,284000,285000,286000,287000,288000,289000,290000,291000,292000,293000,294000,295000,296000,297000,298000,299000,300000,301000,302000,303000,304000,305000,306000,307000,308000,309000,310000,311000,312000,313000,314000,315000,316000,317000,318000,319000,320000,321000,322000,323000,324000,325000,326000,327000,328000,329000,330000,331000,332000,333000,334000,335000,336000,337000,338000,339000,340000,341000,342000,343000,344000,345000,346000,347000,348000,349000,350000,351000,352000,353000,354000,355000,356000,357000,358000,359000,360000,361000,362000,363000,364000,365000,366000,367000,368000,369000,370000,371000,372000,373000,374000,375000,376000,377000,378000,379000,380000,381000,382000,383000,384000,385000,386000,387000,388000,389000,390000,391000,392000,393000,394000,395000,396000,397000,398000,399000,400000,401000,402000,403000,404000,405000,406000,407000,408000,409000,410000,411000,412000,413000,414000,415000,416000,417000,418000,419000,420000,421000,422000,423000,424000,425000,426000,427000,428000,429000,430000,431000,432000,433000,434000,435000,436000,437000,438000,439000,440000,441000,442000,443000,444000,445000,446000,447000,448000,449000,450000,451000,452000,453000,454000,455000,456000,457000,458000,459000,460000,461000,462000,463000,464000,465000,466000,467000,468000,469000,470000,471000,472000,473000,474000,475000,476000,477000,478000,479000,480000,481000,482000,483000,484000,485000,486000,487000,488000,489000,490000,491000,492000,493000,494000,495000,496000,497000,498000,499000,500000,501000,502000,503000,504000,505000,506000,507000,508000,509000,510000,511000,512000,513000,514000,515000,516000,517000,518000,519000,520000,521000,522000,523000,524000,525000,526000,527000,528000,529000,530000,531000,532000,533000,534000,535000,536000,537000,538000,539000,540000,541000,542000,543000,544000,545000,546000,547000,548000,549000,550000,551000,552000,553000,554000,555000,556000,557000,558000,559000,560000,561000,562000,563000,564000,565000,566000,567000,568000,569000,570000,571000,572000,573000,574000,575000,576000,577000,578000,579000,580000,581000,582000,583000,584000,585000,586000,587000,588000,589000,590000,591000,592000,593000,594000,595000,596000,597000,598000,599000,600000,601000,602000,603000,604000,605000,606000,607000,608000,609000,610000,611000,612000,613000,614000,615000,616000,617000,618000,619000,620000,621000,622000,623000,624000,625000,626000,627000,628000,629000,630000,631000,632000,633000,634000,635000,636000,637000,638000,639000,640000,641000,642000,643000,644000,645000,646000,647000,648000,649000,650000,651000,652000,653000,654000,655000,656000,657000,658000,659000,660000,661000,662000,663000,664000,665000,666000,667000,668000,669000,670000,671000,672000,673000,674000,675000,676000,677000,678000,679000,680000,681000,682000,683000,684000,685000,686000,687000,688000,689000,690000,691000,692000,693000,694000,695000,696000,697000,698000,699000,700000,701000,702000,703000,704000,705000,706000,707000,708000,709000,710000,711000,712000,713000,714000,715000,716000,717000,718000,719000,720000,721000,722000,723000,724000,725000,726000,727000,728000,729000,730000,731000,732000,733000,734000,735000,736000,737000,738000,739000,740000,741000,742000,743000,744000,745000,746000,747000,748000,749000,750000,751000,752000,753000,754000,755000,756000,757000,758000,759000,760000,761000,762000,763000,764000,765000,766000,767000,768000,769000,770000,771000,772000,773000,774000,775000,776000,777000,778000,779000,780000,781000,782000,783000,784000,785000,786000,787000,788000,789000,790000,791000,792000,793000,794000,795000,796000,797000,798000,799000,800000],\"y\":{\"__ndarray__\":\"AAAAAAAA8D8AAAAAAIBaQAAAAAAAaGRAAAAAAACoZkAAAAAAABBtQAAAAAAAXHFAAAAAAADcc0AAAAAAAHh1QAAAAAAAFHhAAAAAAAAQeUAAAAAAAIh6QAAAAAAARH5AAAAAAACAfkAAAAAAAKh+QAAAAAAAuH5AAAAAAAAIgEAAAAAAAHyAQAAAAAAACIFAAAAAAAAegUAAAAAAACSBQAAAAAAAKIFAAAAAAAC+gUAAAAAAAMSBQAAAAAAAPIJAAAAAAAB4gkAAAAAAAASDQAAAAAAABINAAAAAAAAEg0AAAAAAAG6DQAAAAAAAuINAAAAAAADIg0AAAAAAAMqDQAAAAAAAaIRAAAAAAACEhEAAAAAAAEyFQAAAAAAA1IVAAAAAAADyhUAAAAAAAPKFQAAAAAAA8oVAAAAAAADyhUAAAAAAAPKFQAAAAAAAGoZAAAAAAABchkAAAAAAAHqGQAAAAAAACohAAAAAAAC8iEAAAAAAAJKJQAAAAAAA0IlAAAAAAADciUAAAAAAAOqJQAAAAAAAvItAAAAAAAC8i0AAAAAAALyLQAAAAAAAHoxAAAAAAAAsjEAAAAAAAPqMQAAAAAAAgI1AAAAAAACAjUAAAAAAAJKNQAAAAAAA2I1AAAAAAADYjUAAAAAAAOKNQAAAAAAAII5AAAAAAABejkAAAAAAAF6OQAAAAAAAkI5AAAAAAAD+jkAAAAAAABKPQAAAAAAAGI9AAAAAAAA6j0AAAAAAAHqPQAAAAAAANZBAAAAAAABvkEAAAAAAAHKQQAAAAAAAs5BAAAAAAAADkUAAAAAAAAORQAAAAAAABJFAAAAAAABRkUAAAAAAAFuRQAAAAAAAZJFAAAAAAABzkUAAAAAAAJ+RQAAAAAAAo5FAAAAAAACokUAAAAAAAK6RQAAAAAAASpJAAAAAAABlkkAAAAAAAG+SQAAAAAAAb5JAAAAAAACLkkAAAAAAAJWSQAAAAAAAl5JAAAAAAACXkkAAAAAAAJmSQAAAAAAApZJAAAAAAACrkkAAAAAAAKuSQAAAAAAArJJAAAAAAADfkkAAAAAAAPKSQAAAAAAA8pJAAAAAAADykkAAAAAAACGTQAAAAAAAbZNAAAAAAAB1k0AAAAAAAICTQAAAAAAAxpNAAAAAAADck0AAAAAAAOOTQAAAAAAAHpRAAAAAAACxlEAAAAAAAOuUQAAAAAAA7JRAAAAAAADtlEAAAAAAAO2UQAAAAAAA8JRAAAAAAAA4lUAAAAAAAFiVQAAAAAAAeZVAAAAAAAB8lUAAAAAAALGVQAAAAAAAvZVAAAAAAADMlUAAAAAAANGVQAAAAAAA7pVAAAAAAADulUAAAAAAAO6VQAAAAAAA7pVAAAAAAADvlUAAAAAAAPmVQAAAAAAABJZAAAAAAAAElkAAAAAAAFaWQAAAAAAAwZZAAAAAAADBlkAAAAAAAOGWQAAAAAAAMZdAAAAAAAA7l0AAAAAAAKWXQAAAAAAAppdAAAAAAACml0AAAAAAAOWXQAAAAAAAG5hAAAAAAAAtmEAAAAAAAEKYQAAAAAAAdJhAAAAAAAB2mEAAAAAAAIaYQAAAAAAAhphAAAAAAAC2mEAAAAAAALaYQAAAAAAAuZhAAAAAAAC8mEAAAAAAAMWYQAAAAAAAD5lAAAAAAAA0mUAAAAAAADWZQAAAAAAAYJlAAAAAAABmmUAAAAAAAHiZQAAAAAAAfZlAAAAAAACCmUAAAAAAAIWZQAAAAAAAhZlAAAAAAACGmUAAAAAAAIeZQAAAAAAAlplAAAAAAACamUAAAAAAALCZQAAAAAAAwplAAAAAAADamUAAAAAAAN2ZQAAAAAAA3ZlAAAAAAAAamkAAAAAAADOaQAAAAAAAM5pAAAAAAAAzmkAAAAAAADSaQAAAAAAANJpAAAAAAAA0mkAAAAAAADSaQAAAAAAANZpAAAAAAAA1mkAAAAAAADWaQAAAAAAANppAAAAAAAA2mkAAAAAAADaaQAAAAAAAOJpAAAAAAAA4mkAAAAAAADmaQAAAAAAAU5pAAAAAAACJmkAAAAAAAHObQAAAAAAA3ptAAAAAAADim0AAAAAAAOObQAAAAAAA6ZtAAAAAAAD/m0AAAAAAAP+bQAAAAAAA/5tAAAAAAAD/m0AAAAAAAP+bQAAAAAAA/5tAAAAAAAD/m0AAAAAAAAqcQAAAAAAAE5xAAAAAAAATnEAAAAAAAECcQAAAAAAAQJxAAAAAAABAnEAAAAAAAFecQAAAAAAAXpxAAAAAAABenEAAAAAAAF6cQAAAAAAAXpxAAAAAAABjnEAAAAAAAGScQAAAAAAAeZxAAAAAAACSnEAAAAAAAKKcQAAAAAAAppxAAAAAAAConEAAAAAAAKycQAAAAAAAyZxAAAAAAADcnEAAAAAAANycQAAAAAAA3JxAAAAAAADcnEAAAAAAANycQAAAAAAA4ZxAAAAAAADknEAAAAAAAOScQAAAAAAA5JxAAAAAAADknEAAAAAAAOScQAAAAAAA5JxAAAAAAADknEAAAAAAAOScQAAAAAAA5JxAAAAAAADknEAAAAAAAOScQAAAAAAA5JxAAAAAAADunEAAAAAAAO6cQAAAAAAA7pxAAAAAAADvnEAAAAAAAO+cQAAAAAAA75xAAAAAAADynEAAAAAAAPOcQAAAAAAA85xAAAAAAADznEAAAAAAAPOcQAAAAAAA85xAAAAAAADznEAAAAAAAPOcQAAAAAAA85xAAAAAAADznEAAAAAAAPOcQAAAAAAA85xAAAAAAADznEAAAAAAAPOcQAAAAAAA85xAAAAAAADznEAAAAAAAPOcQAAAAAAA85xAAAAAAADznEAAAAAAAPOcQAAAAAAA85xAAAAAAADznEAAAAAAAPOcQAAAAAAA85xAAAAAAADznEAAAAAAAPOcQAAAAAAA85xAAAAAAADznEAAAAAAAPOcQAAAAAAA85xAAAAAAADznEAAAAAAAPOcQAAAAAAA85xAAAAAAADznEAAAAAAAPOcQAAAAAAA85xAAAAAAADznEAAAAAAAPOcQAAAAAAA85xAAAAAAADznEAAAAAAAPOcQAAAAAAA85xAAAAAAADznEAAAAAAAPOcQAAAAAAA85xAAAAAAADznEAAAAAAAPOcQAAAAAAA85xAAAAAAADznEAAAAAAAPOcQAAAAAAA85xAAAAAAADznEAAAAAAAPOcQAAAAAAA85xAAAAAAADznEAAAAAAAPOcQAAAAAAA85xAAAAAAADznEAAAAAAAPOcQAAAAAAA85xAAAAAAADznEAAAAAAAPOcQAAAAAAA85xAAAAAAADznEAAAAAAAPOcQAAAAAAA85xAAAAAAADznEAAAAAAAPOcQAAAAAAA85xAAAAAAADznEAAAAAAAPOcQAAAAAAA85xAAAAAAADznEAAAAAAAPOcQAAAAAAA85xAAAAAAADznEAAAAAAAPOcQAAAAAAA85xAAAAAAADznEAAAAAAAPOcQAAAAAAA85xAAAAAAADznEAAAAAAAPOcQAAAAAAA85xAAAAAAADznEAAAAAAAPOcQAAAAAAA85xAAAAAAADznEAAAAAAAPOcQAAAAAAA85xAAAAAAADznEAAAAAAAPOcQAAAAAAA85xAAAAAAADznEAAAAAAAPOcQAAAAAAA85xAAAAAAADznEAAAAAAAPOcQAAAAAAA85xAAAAAAADznEAAAAAAAPOcQAAAAAAA85xAAAAAAADznEAAAAAAAPOcQAAAAAAA85xAAAAAAADznEAAAAAAAPOcQAAAAAAA85xAAAAAAADznEAAAAAAAPOcQAAAAAAA85xAAAAAAADznEAAAAAAAPOcQAAAAAAA85xAAAAAAADznEAAAAAAAPOcQAAAAAAA85xAAAAAAADznEAAAAAAAPOcQAAAAAAA85xAAAAAAADznEAAAAAAAPOcQAAAAAAA85xAAAAAAADznEAAAAAAAPOcQAAAAAAA85xAAAAAAADznEAAAAAAAPOcQAAAAAAA85xAAAAAAADznEAAAAAAAPOcQAAAAAAA85xAAAAAAADznEAAAAAAAPOcQAAAAAAA85xAAAAAAADznEAAAAAAAPOcQAAAAAAA95xAAAAAAAD3nEAAAAAAAPecQAAAAAAA95xAAAAAAAD3nEAAAAAAAPecQAAAAAAA95xAAAAAAAD3nEAAAAAAAPecQAAAAAAA95xAAAAAAAD3nEAAAAAAAPecQAAAAAAA95xAAAAAAAD3nEAAAAAAAPecQAAAAAAA95xAAAAAAAD3nEAAAAAAAPecQAAAAAAA95xAAAAAAAD4nEAAAAAAAPicQAAAAAAA+JxAAAAAAAD4nEAAAAAAAPicQAAAAAAA+JxAAAAAAAD4nEAAAAAAAPicQAAAAAAA+JxAAAAAAAD4nEAAAAAAAPicQAAAAAAA+JxAAAAAAAD4nEAAAAAAAPicQAAAAAAA+ZxAAAAAAAD5nEAAAAAAAPmcQAAAAAAA+ZxAAAAAAAD5nEAAAAAAAPmcQAAAAAAA+ZxAAAAAAAD5nEAAAAAAAPmcQAAAAAAA+ZxAAAAAAAD5nEAAAAAAAPmcQAAAAAAA+ZxAAAAAAAD5nEAAAAAAAPmcQAAAAAAA+ZxAAAAAAAD5nEAAAAAAAPmcQAAAAAAA+ZxAAAAAAACJnUAAAAAAAKadQAAAAAAAqJ1AAAAAAACrnUAAAAAAAKydQAAAAAAAsp1AAAAAAACynUAAAAAAALKdQAAAAAAAsp1AAAAAAACynUAAAAAAALKdQAAAAAAAsp1AAAAAAACynUAAAAAAALKdQAAAAAAAsp1AAAAAAACznUAAAAAAALOdQAAAAAAAs51AAAAAAACznUAAAAAAALOdQAAAAAAAs51AAAAAAACznUAAAAAAALOdQAAAAAAAs51AAAAAAACznUAAAAAAALOdQAAAAAAAs51AAAAAAACznUAAAAAAALOdQAAAAAAAs51AAAAAAACznUAAAAAAALOdQAAAAAAAs51AAAAAAACznUAAAAAAALOdQAAAAAAAs51AAAAAAACznUAAAAAAALOdQAAAAAAAs51AAAAAAACznUAAAAAAALOdQAAAAAAAs51AAAAAAACznUAAAAAAALOdQAAAAAAAs51AAAAAAACznUAAAAAAALOdQAAAAAAAs51AAAAAAACznUAAAAAAALOdQAAAAAAAs51AAAAAAACznUAAAAAAALOdQAAAAAAAs51AAAAAAACznUAAAAAAALOdQAAAAAAAs51AAAAAAACznUAAAAAAALOdQAAAAAAAs51AAAAAAACznUAAAAAAALOdQAAAAAAAs51AAAAAAACznUAAAAAAALOdQAAAAAAAs51AAAAAAACznUAAAAAAALOdQAAAAAAAs51AAAAAAACznUAAAAAAALOdQAAAAAAAs51AAAAAAACznUAAAAAAALOdQAAAAAAAs51AAAAAAACznUAAAAAAALOdQAAAAAAAs51AAAAAAACznUAAAAAAALOdQAAAAAAAs51AAAAAAACznUAAAAAAALOdQAAAAAAAs51AAAAAAACznUAAAAAAALOdQAAAAAAAs51AAAAAAACznUAAAAAAALOdQAAAAAAAs51AAAAAAACznUAAAAAAALOdQAAAAAAAs51AAAAAAACznUAAAAAAALOdQAAAAAAAs51AAAAAAACznUAAAAAAALOdQAAAAAAAs51AAAAAAACznUAAAAAAALOdQAAAAAAAs51AAAAAAACznUAAAAAAALOdQAAAAAAAs51AAAAAAACznUAAAAAAALOdQAAAAAAAs51AAAAAAACznUAAAAAAALOdQAAAAAAAs51AAAAAAACznUAAAAAAALOdQAAAAAAAs51AAAAAAACznUAAAAAAALOdQAAAAAAAs51AAAAAAACznUAAAAAAALOdQAAAAAAAs51AAAAAAACznUAAAAAAALOdQAAAAAAAs51AAAAAAACznUAAAAAAALOdQAAAAAAAs51AAAAAAACznUAAAAAAALOdQAAAAAAAs51AAAAAAACznUAAAAAAALOdQAAAAAAAs51AAAAAAACznUAAAAAAALOdQAAAAAAAs51AAAAAAACznUAAAAAAALOdQAAAAAAAs51AAAAAAACznUAAAAAAALOdQAAAAAAAs51AAAAAAACznUAAAAAAALOdQAAAAAAAs51AAAAAAACznUAAAAAAALOdQAAAAAAAs51AAAAAAACznUAAAAAAALOdQAAAAAAAs51AAAAAAACznUAAAAAAALOdQAAAAAAAs51AAAAAAACznUAAAAAAALOdQAAAAAAAs51AAAAAAACznUAAAAAAALOdQAAAAAAAs51AAAAAAACznUAAAAAAALOdQAAAAAAAs51AAAAAAACznUAAAAAAALOdQAAAAAAAs51AAAAAAACznUAAAAAAALOdQAAAAAAAs51AAAAAAACznUAAAAAAALOdQAAAAAAAs51AAAAAAACznUAAAAAAALOdQAAAAAAAs51AAAAAAACznUAAAAAAALOdQAAAAAAAs51AAAAAAACznUAAAAAAALOdQAAAAAAAs51AAAAAAACznUAAAAAAALOdQAAAAAAAs51AAAAAAACznUAAAAAAALOdQAAAAAAAs51AAAAAAACznUAAAAAAALOdQAAAAAAAs51AAAAAAACznUAAAAAAALOdQAAAAAAAs51AAAAAAACznUAAAAAAALOdQAAAAAAAs51AAAAAAACznUAAAAAAALOdQAAAAAAAs51AAAAAAACznUAAAAAAALOdQAAAAAAAs51AAAAAAACznUAAAAAAALOdQAAAAAAAs51AAAAAAACznUAAAAAAALOdQAAAAAAAs51AAAAAAACznUAAAAAAALOdQAAAAAAAs51AAAAAAACznUAAAAAAALOdQAAAAAAAs51AAAAAAACznUAAAAAAALOdQAAAAAAAs51AAAAAAACznUAAAAAAALOdQAAAAAAAs51AAAAAAACznUAAAAAAALOdQAAAAAAAs51AAAAAAACznUAAAAAAALOdQAAAAAAAs51AAAAAAACznUAAAAAAALOdQAAAAAAAs51AAAAAAACznUAAAAAAALOdQAAAAAAAs51AAAAAAACznUAAAAAAALOdQAAAAAAAs51AAAAAAACznUAAAAAAALOdQAAAAAAAs51AAAAAAACznUAAAAAAALOdQAAAAAAAs51AAAAAAACznUAAAAAAALOdQAAAAAAAs51AAAAAAACznUAAAAAAALOdQAAAAAAAs51AAAAAAACznUAAAAAAALOdQAAAAAAAs51AAAAAAACznUAAAAAAALOdQAAAAAAAs51AAAAAAACznUAAAAAAALOdQAAAAAAAs51AAAAAAACznUAAAAAAALOdQAAAAAAAs51AAAAAAACznUAAAAAAALOdQAAAAAAAs51AAAAAAACznUAAAAAAALOdQAAAAAAAs51AAAAAAACznUAAAAAAALOdQAAAAAAAs51AAAAAAACznUAAAAAAALOdQAAAAAAAs51AAAAAAACznUAAAAAAALOdQAAAAAAAs51AAAAAAACznUAAAAAAALOdQAAAAAAAs51AAAAAAACznUAAAAAAALOdQAAAAAAAs51AAAAAAACznUAAAAAAALOdQAAAAAAAs51AAAAAAACznUAAAAAAALOdQAAAAAAAs51AAAAAAACznUAAAAAAALOdQAAAAAAAs51AAAAAAACznUAAAAAAALOdQAAAAAAAs51AAAAAAACznUAAAAAAALOdQAAAAAAAs51AAAAAAACznUAAAAAAALOdQAAAAAAAs51AAAAAAACznUAAAAAAALOdQAAAAAAAs51AAAAAAACznUAAAAAAALOdQAAAAAAAs51AAAAAAACznUAAAAAAALOdQAAAAAAAs51AAAAAAACznUAAAAAAALOdQAAAAAAAs51AAAAAAACznUAAAAAAALOdQAAAAAAAs51AAAAAAACznUAAAAAAALOdQAAAAAAAs51AAAAAAACznUAAAAAAALOdQAAAAAAAs51AAAAAAACznUAAAAAAALOdQAAAAAAAs51AAAAAAACznUAAAAAAALOdQAAAAAAAs51AAAAAAACznUAAAAAAALOdQAAAAAAAs51AAAAAAACznUAAAAAAALOdQAAAAAAAs51AAAAAAACznUAAAAAAALOdQAAAAAAAs51AAAAAAACznUAAAAAAALOdQAAAAAAAs51AAAAAAACznUAAAAAAALOdQAAAAAAAs51AAAAAAACznUAAAAAAALOdQAAAAAAAs51AAAAAAACznUAAAAAAALOdQAAAAAAAs51AAAAAAACznUAAAAAAALOdQAAAAAAAs51AAAAAAACznUAAAAAAALOdQAAAAAAAs51AAAAAAACznUAAAAAAALOdQAAAAAAAs51AAAAAAACznUAAAAAAALOdQAAAAAAAs51AAAAAAACznUAAAAAAALOdQAAAAAAAs51AAAAAAACznUAAAAAAALOdQA==\",\"dtype\":\"float64\",\"shape\":[800]}}},\"id\":\"523a749a-000d-416a-97c6-b56ed459989e\",\"type\":\"ColumnDataSource\"},{\"attributes\":{},\"id\":\"5cd911bd-dc67-44ea-8004-78da7857bee7\",\"type\":\"ToolEvents\"},{\"attributes\":{\"callback\":null,\"column_names\":[\"x\",\"y\"],\"data\":{\"x\":[0,1000,2000,3000,4000,5000,6000,7000,8000,9000,10000,11000,12000,13000,14000,15000,16000,17000,18000,19000,20000,21000,22000,23000,24000,25000,26000,27000,28000,29000,30000,31000,32000,33000,34000,35000,36000,37000,38000,39000,40000,41000,42000,43000,44000,45000,46000,47000,48000,49000,50000,51000,52000,53000,54000,55000,56000,57000,58000,59000,60000,61000,62000,63000,64000,65000,66000,67000,68000,69000,70000,71000,72000,73000,74000,75000,76000,77000,78000,79000,80000,81000,82000,83000,84000,85000,86000,87000,88000,89000,90000,91000,92000,93000,94000,95000,96000,97000,98000,99000,100000,101000,102000,103000,104000,105000,106000,107000,108000,109000,110000,111000,112000,113000,114000,115000,116000,117000,118000,119000,120000,121000,122000,123000,124000,125000,126000,127000,128000,129000,130000,131000,132000,133000,134000,135000,136000,137000,138000,139000,140000,141000,142000,143000,144000,145000,146000,147000,148000,149000,150000,151000,152000,153000,154000,155000,156000,157000,158000,159000,160000,161000,162000,163000,164000,165000,166000,167000,168000,169000,170000,171000,172000,173000,174000,175000,176000,177000,178000,179000,180000,181000,182000,183000,184000,185000,186000,187000,188000,189000,190000,191000,192000,193000,194000,195000,196000,197000,198000,199000,200000,201000,202000,203000,204000,205000,206000,207000,208000,209000,210000,211000,212000,213000,214000,215000,216000,217000,218000,219000,220000,221000,222000,223000,224000,225000,226000,227000,228000,229000,230000,231000,232000,233000,234000,235000,236000,237000,238000,239000,240000,241000,242000,243000,244000,245000,246000,247000,248000,249000,250000,251000,252000,253000,254000,255000,256000,257000,258000,259000,260000,261000,262000,263000,264000,265000,266000,267000,268000,269000,270000,271000,272000,273000,274000,275000,276000,277000,278000,279000,280000,281000,282000,283000,284000,285000,286000,287000,288000,289000,290000,291000,292000,293000,294000,295000,296000,297000,298000,299000,300000,301000,302000,303000,304000,305000,306000,307000,308000,309000,310000,311000,312000,313000,314000,315000,316000,317000,318000,319000,320000,321000,322000,323000,324000,325000,326000,327000,328000,329000,330000,331000,332000,333000,334000,335000,336000,337000,338000,339000,340000,341000,342000,343000,344000,345000,346000,347000,348000,349000,350000,351000,352000,353000,354000,355000,356000,357000,358000,359000,360000,361000,362000,363000,364000,365000,366000,367000,368000,369000,370000,371000,372000,373000,374000,375000,376000,377000,378000,379000,380000,381000,382000,383000,384000,385000,386000,387000,388000,389000,390000,391000,392000,393000,394000,395000,396000,397000,398000,399000,400000,401000,402000,403000,404000,405000,406000,407000,408000,409000,410000,411000,412000,413000,414000,415000,416000,417000,418000,419000,420000,421000,422000,423000,424000,425000,426000,427000,428000,429000,430000,431000,432000,433000,434000,435000,436000,437000,438000,439000,440000,441000,442000,443000,444000,445000,446000,447000,448000,449000,450000,451000,452000,453000,454000,455000,456000,457000,458000,459000,460000,461000,462000,463000,464000,465000,466000,467000,468000,469000,470000,471000,472000,473000,474000,475000,476000,477000,478000,479000,480000,481000,482000,483000,484000,485000,486000,487000,488000,489000,490000,491000,492000,493000,494000,495000,496000,497000,498000,499000,500000,501000,502000,503000,504000,505000,506000,507000,508000,509000,510000,511000,512000,513000,514000,515000,516000,517000,518000,519000,520000,521000,522000,523000,524000,525000,526000,527000,528000,529000,530000,531000,532000,533000,534000,535000,536000,537000,538000,539000,540000,541000,542000,543000,544000,545000,546000,547000,548000,549000,550000,551000,552000,553000,554000,555000,556000,557000,558000,559000,560000,561000,562000,563000,564000,565000,566000,567000,568000,569000,570000,571000,572000,573000,574000,575000,576000,577000,578000,579000,580000,581000,582000,583000,584000,585000,586000,587000,588000,589000,590000,591000,592000,593000,594000,595000,596000,597000,598000,599000,600000,601000,602000,603000,604000,605000,606000,607000,608000,609000,610000,611000,612000,613000,614000,615000,616000,617000,618000,619000,620000,621000,622000,623000,624000,625000,626000,627000,628000,629000,630000,631000,632000,633000,634000,635000,636000,637000,638000,639000,640000,641000,642000,643000,644000,645000,646000,647000,648000,649000,650000,651000,652000,653000,654000,655000,656000,657000,658000,659000,660000,661000,662000,663000,664000,665000,666000,667000,668000,669000,670000,671000,672000,673000,674000,675000,676000,677000,678000,679000,680000,681000,682000,683000,684000,685000,686000,687000,688000,689000,690000,691000,692000,693000,694000,695000,696000,697000,698000,699000,700000,701000,702000,703000,704000,705000,706000,707000,708000,709000,710000,711000,712000,713000,714000,715000,716000,717000,718000,719000,720000,721000,722000,723000,724000,725000,726000,727000,728000,729000,730000,731000,732000,733000,734000,735000,736000,737000,738000,739000,740000,741000,742000,743000,744000,745000,746000,747000,748000,749000,750000,751000,752000,753000,754000,755000,756000,757000,758000,759000,760000,761000,762000,763000,764000,765000,766000,767000,768000,769000,770000,771000,772000,773000,774000,775000,776000,777000,778000,779000,780000,781000,782000,783000,784000,785000,786000,787000,788000,789000,790000,791000,792000,793000,794000,795000,796000,797000,798000,799000,800000,800000,799000,798000,797000,796000,795000,794000,793000,792000,791000,790000,789000,788000,787000,786000,785000,784000,783000,782000,781000,780000,779000,778000,777000,776000,775000,774000,773000,772000,771000,770000,769000,768000,767000,766000,765000,764000,763000,762000,761000,760000,759000,758000,757000,756000,755000,754000,753000,752000,751000,750000,749000,748000,747000,746000,745000,744000,743000,742000,741000,740000,739000,738000,737000,736000,735000,734000,733000,732000,731000,730000,729000,728000,727000,726000,725000,724000,723000,722000,721000,720000,719000,718000,717000,716000,715000,714000,713000,712000,711000,710000,709000,708000,707000,706000,705000,704000,703000,702000,701000,700000,699000,698000,697000,696000,695000,694000,693000,692000,691000,690000,689000,688000,687000,686000,685000,684000,683000,682000,681000,680000,679000,678000,677000,676000,675000,674000,673000,672000,671000,670000,669000,668000,667000,666000,665000,664000,663000,662000,661000,660000,659000,658000,657000,656000,655000,654000,653000,652000,651000,650000,649000,648000,647000,646000,645000,644000,643000,642000,641000,640000,639000,638000,637000,636000,635000,634000,633000,632000,631000,630000,629000,628000,627000,626000,625000,624000,623000,622000,621000,620000,619000,618000,617000,616000,615000,614000,613000,612000,611000,610000,609000,608000,607000,606000,605000,604000,603000,602000,601000,600000,599000,598000,597000,596000,595000,594000,593000,592000,591000,590000,589000,588000,587000,586000,585000,584000,583000,582000,581000,580000,579000,578000,577000,576000,575000,574000,573000,572000,571000,570000,569000,568000,567000,566000,565000,564000,563000,562000,561000,560000,559000,558000,557000,556000,555000,554000,553000,552000,551000,550000,549000,548000,547000,546000,545000,544000,543000,542000,541000,540000,539000,538000,537000,536000,535000,534000,533000,532000,531000,530000,529000,528000,527000,526000,525000,524000,523000,522000,521000,520000,519000,518000,517000,516000,515000,514000,513000,512000,511000,510000,509000,508000,507000,506000,505000,504000,503000,502000,501000,500000,499000,498000,497000,496000,495000,494000,493000,492000,491000,490000,489000,488000,487000,486000,485000,484000,483000,482000,481000,480000,479000,478000,477000,476000,475000,474000,473000,472000,471000,470000,469000,468000,467000,466000,465000,464000,463000,462000,461000,460000,459000,458000,457000,456000,455000,454000,453000,452000,451000,450000,449000,448000,447000,446000,445000,444000,443000,442000,441000,440000,439000,438000,437000,436000,435000,434000,433000,432000,431000,430000,429000,428000,427000,426000,425000,424000,423000,422000,421000,420000,419000,418000,417000,416000,415000,414000,413000,412000,411000,410000,409000,408000,407000,406000,405000,404000,403000,402000,401000,400000,399000,398000,397000,396000,395000,394000,393000,392000,391000,390000,389000,388000,387000,386000,385000,384000,383000,382000,381000,380000,379000,378000,377000,376000,375000,374000,373000,372000,371000,370000,369000,368000,367000,366000,365000,364000,363000,362000,361000,360000,359000,358000,357000,356000,355000,354000,353000,352000,351000,350000,349000,348000,347000,346000,345000,344000,343000,342000,341000,340000,339000,338000,337000,336000,335000,334000,333000,332000,331000,330000,329000,328000,327000,326000,325000,324000,323000,322000,321000,320000,319000,318000,317000,316000,315000,314000,313000,312000,311000,310000,309000,308000,307000,306000,305000,304000,303000,302000,301000,300000,299000,298000,297000,296000,295000,294000,293000,292000,291000,290000,289000,288000,287000,286000,285000,284000,283000,282000,281000,280000,279000,278000,277000,276000,275000,274000,273000,272000,271000,270000,269000,268000,267000,266000,265000,264000,263000,262000,261000,260000,259000,258000,257000,256000,255000,254000,253000,252000,251000,250000,249000,248000,247000,246000,245000,244000,243000,242000,241000,240000,239000,238000,237000,236000,235000,234000,233000,232000,231000,230000,229000,228000,227000,226000,225000,224000,223000,222000,221000,220000,219000,218000,217000,216000,215000,214000,213000,212000,211000,210000,209000,208000,207000,206000,205000,204000,203000,202000,201000,200000,199000,198000,197000,196000,195000,194000,193000,192000,191000,190000,189000,188000,187000,186000,185000,184000,183000,182000,181000,180000,179000,178000,177000,176000,175000,174000,173000,172000,171000,170000,169000,168000,167000,166000,165000,164000,163000,162000,161000,160000,159000,158000,157000,156000,155000,154000,153000,152000,151000,150000,149000,148000,147000,146000,145000,144000,143000,142000,141000,140000,139000,138000,137000,136000,135000,134000,133000,132000,131000,130000,129000,128000,127000,126000,125000,124000,123000,122000,121000,120000,119000,118000,117000,116000,115000,114000,113000,112000,111000,110000,109000,108000,107000,106000,105000,104000,103000,102000,101000,100000,99000,98000,97000,96000,95000,94000,93000,92000,91000,90000,89000,88000,87000,86000,85000,84000,83000,82000,81000,80000,79000,78000,77000,76000,75000,74000,73000,72000,71000,70000,69000,68000,67000,66000,65000,64000,63000,62000,61000,60000,59000,58000,57000,56000,55000,54000,53000,52000,51000,50000,49000,48000,47000,46000,45000,44000,43000,42000,41000,40000,39000,38000,37000,36000,35000,34000,33000,32000,31000,30000,29000,28000,27000,26000,25000,24000,23000,22000,21000,20000,19000,18000,17000,16000,15000,14000,13000,12000,11000,10000,9000,8000,7000,6000,5000,4000,3000,2000,1000,0],\"y\":[1,60,82,138,138,153,153,213,222,267,267,267,318,372,372,372,372,372,372,372,400,402,405,405,405,405,405,405,405,405,405,405,405,405,405,405,405,405,405,405,405,405,405,405,405,405,405,405,405,405,405,405,454,469,469,540,559,568,569,569,569,569,569,569,569,569,599,661,661,661,661,661,661,661,661,661,661,661,661,661,661,663,663,663,663,663,663,663,663,663,663,663,663,663,663,663,663,663,668,668,668,668,668,668,668,729,793,810,815,854,854,890,893,894,910,924,925,925,925,925,926,926,926,926,926,927,927,932,937,944,944,944,944,944,944,944,944,944,944,944,944,946,946,946,946,1002,1107,1132,1133,1133,1133,1133,1133,1133,1133,1133,1133,1133,1133,1134,1134,1134,1134,1134,1134,1134,1144,1160,1160,1160,1161,1161,1161,1161,1161,1161,1161,1161,1164,1185,1187,1187,1187,1187,1187,1187,1188,1188,1188,1188,1188,1188,1188,1188,1188,1188,1188,1188,1188,1188,1188,1188,1188,1188,1188,1188,1188,1188,1188,1188,1188,1188,1188,1188,1188,1188,1188,1188,1188,1188,1188,1188,1188,1188,1188,1188,1188,1188,1188,1188,1188,1188,1188,1188,1188,1188,1188,1188,1188,1188,1188,1188,1188,1188,1188,1188,1188,1188,1188,1188,1188,1188,1188,1188,1188,1188,1188,1188,1188,1188,1188,1188,1188,1188,1188,1188,1188,1188,1188,1188,1188,1188,1188,1188,1188,1188,1188,1188,1188,1188,1188,1188,1188,1188,1188,1188,1188,1188,1188,1188,1188,1188,1188,1188,1188,1188,1188,1188,1188,1188,1188,1188,1188,1188,1188,1188,1188,1188,1188,1188,1188,1188,1188,1188,1188,1188,1188,1188,1188,1188,1188,1188,1188,1188,1188,1188,1188,1188,1188,1188,1188,1188,1188,1188,1188,1188,1188,1188,1188,1188,1188,1188,1188,1188,1188,1188,1188,1188,1188,1188,1188,1188,1188,1188,1188,1188,1188,1188,1188,1197,1201,1201,1201,1201,1201,1201,1201,1201,1201,1201,1201,1201,1201,1201,1201,1205,1205,1205,1205,1205,1208,1310,1318,1347,1347,1351,1351,1415,1439,1439,1439,1439,1439,1439,1439,1439,1439,1439,1439,1439,1439,1439,1439,1439,1439,1439,1439,1448,1455,1455,1455,1455,1455,1455,1455,1455,1455,1455,1455,1455,1455,1456,1456,1456,1456,1469,1469,1469,1469,1469,1469,1469,1469,1469,1469,1469,1469,1469,1469,1469,1469,1469,1469,1469,1469,1469,1478,1478,1478,1478,1480,1480,1480,1480,1480,1480,1480,1480,1480,1480,1480,1480,1480,1480,1480,1480,1480,1480,1480,1480,1483,1484,1484,1484,1485,1487,1487,1487,1487,1487,1487,1487,1498,1500,1500,1500,1562,1564,1568,1568,1568,1568,1568,1568,1568,1568,1568,1568,1568,1568,1568,1568,1568,1568,1568,1568,1603,1606,1606,1606,1677,1726,1732,1733,1733,1733,1733,1733,1733,1733,1733,1738,1758,1759,1760,1761,1761,1761,1761,1761,1761,1761,1761,1761,1761,1761,1781,1781,1781,1781,1781,1781,1781,1781,1781,1781,1781,1781,1781,1781,1781,1781,1781,1781,1781,1781,1781,1781,1781,1781,1781,1781,1781,1781,1781,1781,1781,1781,1781,1781,1781,1781,1781,1781,1781,1781,1781,1781,1781,1781,1781,1781,1781,1781,1781,1781,1781,1781,1781,1781,1781,1781,1781,1781,1781,1781,1781,1781,1781,1781,1781,1781,1781,1781,1781,1781,1781,1781,1781,1781,1781,1781,1781,1781,1781,1781,1781,1781,1781,1781,1781,1781,1781,1781,1781,1781,1781,1781,1781,1781,1781,1781,1781,1781,1781,1781,1781,1781,1781,1781,1781,1781,1781,1781,1781,1781,1781,1781,1781,1781,1781,1781,1781,1781,1781,1781,1781,1781,1781,1781,1781,1781,1781,1781,1781,1781,1781,1781,1781,1781,1781,1781,1781,1781,1781,1781,1781,1781,1781,1781,1781,1781,1781,1781,1781,1781,1781,1781,1781,1781,1781,1781,1781,1781,1781,1781,1781,1781,1781,1781,1781,1781,1781,1781,1781,1781,1781,1781,1781,1781,1781,1781,1781,1781,1781,1781,1781,1781,1781,1781,1781,1781,1781,1781,1781,1781,1781,1781,1781,1781,1781,1781,1781,1781,1781,1781,1781,1781,1781,1781,1781,1781,1781,1781,1781,1781,1781,1781,1781,1781,1781,1781,1781,1781,1781,1781,1781,1781,1781,1781,1781,1781,1781,1781,1781,1781,1781,1781,1781,1781,1781,1781,1781,1781,1781,1781,1781,1781,1781,1781,1781,1781,1781,1781,1781,1781,1781,1781,1781,1781,1781,1781,1781,1781,1781,1781,1781,1781,1781,1781,1901,1901,1901,1901,1901,1901,1901,1901,1901,1901,1901,1901,1901,1901,1901,1901,1901,1901,1901,1901,1901,1901,1901,1901,1901,1901,1901,1901,1901,1901,1901,1901,1901,1901,1901,1901,1901,1901,1901,1901,1901,1901,1901,1901,1901,1901,1901,1901,1901,1901,1901,1901,1901,1901,1901,1901,1901,1901,1901,1901,1901,1901,1901,1901,1901,1901,1901,1901,1901,1901,1901,1901,1901,1901,1901,1901,1901,1901,1901,1901,1901,1901,1901,1901,1901,1901,1901,1901,1901,1901,1901,1901,1901,1901,1901,1901,1901,1901,1901,1901,1901,1901,1901,1901,1901,1901,1901,1901,1901,1901,1901,1901,1901,1901,1901,1901,1901,1901,1901,1901,1901,1901,1901,1901,1901,1901,1901,1901,1901,1901,1901,1901,1901,1901,1901,1901,1901,1901,1901,1901,1901,1901,1901,1901,1901,1901,1901,1901,1901,1901,1901,1901,1901,1901,1901,1901,1901,1901,1901,1901,1901,1901,1901,1901,1901,1901,1901,1901,1901,1901,1901,1901,1901,1901,1901,1901,1901,1901,1901,1901,1901,1901,1901,1901,1901,1901,1901,1901,1901,1901,1901,1901,1901,1901,1901,1901,1901,1901,1901,1901,1901,1901,1901,1901,1901,1901,1901,1901,1901,1901,1901,1901,1901,1901,1901,1901,1901,1901,1901,1901,1901,1901,1901,1901,1901,1901,1901,1901,1901,1901,1901,1901,1901,1901,1901,1901,1901,1901,1901,1901,1901,1901,1901,1901,1901,1901,1901,1901,1901,1901,1901,1901,1901,1901,1901,1901,1901,1901,1901,1901,1901,1901,1901,1901,1901,1901,1901,1901,1901,1901,1901,1901,1901,1901,1901,1901,1901,1901,1901,1901,1901,1901,1901,1901,1901,1901,1901,1901,1901,1901,1901,1901,1901,1901,1901,1901,1901,1901,1901,1901,1901,1901,1901,1901,1901,1899,1899,1899,1899,1899,1899,1899,1899,1899,1899,1897,1897,1897,1897,1897,1895,1893,1893,1893,1893,1893,1893,1893,1893,1893,1891,1891,1891,1891,1891,1891,1891,1891,1891,1891,1891,1891,1886,1886,1886,1886,1886,1886,1886,1886,1886,1883,1883,1883,1883,1883,1883,1883,1883,1883,1883,1883,1883,1883,1876,1866,1866,1866,1866,1866,1866,1866,1866,1866,1866,1866,1866,1865,1858,1858,1834,1834,1834,1834,1834,1834,1834,1834,1834,1834,1834,1834,1834,1834,1834,1834,1834,1834,1834,1834,1834,1834,1834,1834,1834,1834,1834,1834,1834,1834,1834,1834,1834,1831,1831,1831,1831,1831,1831,1831,1831,1831,1831,1831,1831,1831,1831,1831,1831,1831,1831,1831,1831,1831,1831,1831,1831,1830,1803,1802,1801,1797,1797,1797,1797,1797,1797,1797,1797,1797,1797,1797,1797,1797,1797,1797,1797,1797,1797,1797,1797,1797,1797,1797,1797,1797,1797,1797,1797,1797,1797,1797,1797,1797,1797,1797,1797,1797,1797,1797,1797,1797,1797,1797,1797,1797,1797,1797,1797,1797,1797,1797,1797,1797,1797,1797,1797,1797,1797,1797,1797,1797,1797,1797,1797,1797,1797,1797,1797,1797,1797,1797,1797,1797,1797,1797,1797,1797,1797,1797,1797,1797,1797,1797,1797,1797,1797,1797,1797,1797,1797,1797,1797,1797,1797,1797,1797,1797,1797,1797,1797,1797,1797,1797,1797,1797,1797,1797,1797,1797,1797,1797,1797,1797,1797,1797,1797,1797,1797,1797,1797,1797,1797,1797,1797,1797,1797,1795,1786,1786,1786,1786,1786,1786,1786,1786,1786,1786,1786,1786,1786,1786,1786,1786,1785,1785,1785,1785,1785,1785,1785,1785,1785,1785,1783,1783,1782,1782,1782,1782,1782,1782,1782,1782,1782,1780,1780,1761,1761,1761,1761,1761,1761,1761,1761,1761,1761,1761,1761,1761,1761,1761,1761,1761,1761,1761,1761,1761,1761,1756,1732,1732,1726,1722,1722,1722,1706,1706,1706,1706,1706,1683,1642,1635,1634,1634,1634,1634,1634,1634,1625,1625,1625,1625,1602,1602,1602,1602,1602,1602,1602,1602,1602,1602,1602,1602,1590,1521,1521,1521,1521,1521,1521,1521,1520,1520,1519,1519,1519,1519,1519,1519,1519,1519,1519,1519,1519,1517,1491,1436,1435,1428,1428,1428,1428,1428,1428,1428,1415,1395,1395,1395,1379,1379,1376,1372,1370,1346,1326,1326,1324,1324,1306,1306,1306,1304,1304,1302,1257,1257,1257,1257,1257,1257,1257,1257,1257,1256,1255,1251,1251,1251,1251,1251,1251,1251,1251,1251,1251,1251,1251,1251,1250,1250,1250,1249,1249,1249,1249,1249,1249,1249,1249,1249,1249,1249,1249,1249,1249,1249,1249,1249,1244,1171,1136,1136,1132,1015,968,891,848,847,847,844,841,835,832,832,832,832,826,823,817,802,802,799,792,763,740,573,432,426,362,362,354,310,228,223,135,1]}},\"id\":\"c8f6ca8b-e703-4d87-b8f5-f3aad1a865b2\",\"type\":\"ColumnDataSource\"},{\"attributes\":{\"data_source\":{\"id\":\"818ffeee-81ba-4311-943e-09613556f8c2\",\"type\":\"ColumnDataSource\"},\"glyph\":{\"id\":\"060918db-b72f-4cee-a5b2-27b2cbe9cc94\",\"type\":\"Line\"},\"hover_glyph\":null,\"nonselection_glyph\":{\"id\":\"1f7b4551-2035-43de-9be0-211669c19183\",\"type\":\"Line\"},\"selection_glyph\":null},\"id\":\"3f3f444d-1c51-4093-8f41-4d0830920ed6\",\"type\":\"GlyphRenderer\"},{\"attributes\":{\"line_color\":{\"value\":\"#ff7f00\"},\"line_width\":{\"value\":2},\"x\":{\"field\":\"x\"},\"y\":{\"field\":\"y\"}},\"id\":\"060918db-b72f-4cee-a5b2-27b2cbe9cc94\",\"type\":\"Line\"},{\"attributes\":{},\"id\":\"fcc4c9bd-c2ad-48a9-930a-da579fd81787\",\"type\":\"BasicTicker\"},{\"attributes\":{\"line_color\":{\"value\":\"#4daf4a\"},\"line_width\":{\"value\":2},\"x\":{\"field\":\"x\"},\"y\":{\"field\":\"y\"}},\"id\":\"e4a16c6d-75e0-47b9-a1d1-4705bc99c8a6\",\"type\":\"Line\"},{\"attributes\":{\"dimension\":1,\"plot\":{\"id\":\"5a18e79e-42be-41f5-9fa9-cf59440ed499\",\"subtype\":\"Figure\",\"type\":\"Plot\"},\"ticker\":{\"id\":\"721690ea-73ea-41c8-9172-e365a0d2c2f1\",\"type\":\"BasicTicker\"}},\"id\":\"95f60a8d-ee09-4ef8-af5c-7f51151d5157\",\"type\":\"Grid\"},{\"attributes\":{\"bottom_units\":\"screen\",\"fill_alpha\":{\"value\":0.5},\"fill_color\":{\"value\":\"lightgrey\"},\"left_units\":\"screen\",\"level\":\"overlay\",\"line_alpha\":{\"value\":1.0},\"line_color\":{\"value\":\"black\"},\"line_dash\":[4,4],\"line_width\":{\"value\":2},\"plot\":null,\"render_mode\":\"css\",\"right_units\":\"screen\",\"top_units\":\"screen\"},\"id\":\"424a6a86-baff-4e9e-9ed9-b63df42310d0\",\"type\":\"BoxAnnotation\"},{\"attributes\":{\"line_color\":{\"value\":\"#e41a1c\"},\"line_width\":{\"value\":2},\"x\":{\"field\":\"x\"},\"y\":{\"field\":\"y\"}},\"id\":\"7d335018-d26e-495a-9404-09a59f81252e\",\"type\":\"Line\"},{\"attributes\":{\"callback\":null,\"column_names\":[\"x\",\"y\"],\"data\":{\"x\":[0,1000,2000,3000,4000,5000,6000,7000,8000,9000,10000,11000,12000,13000,14000,15000,16000,17000,18000,19000,20000,21000,22000,23000,24000,25000,26000,27000,28000,29000,30000,31000,32000,33000,34000,35000,36000,37000,38000,39000,40000,41000,42000,43000,44000,45000,46000,47000,48000,49000,50000,51000,52000,53000,54000,55000,56000,57000,58000,59000,60000,61000,62000,63000,64000,65000,66000,67000,68000,69000,70000,71000,72000,73000,74000,75000,76000,77000,78000,79000,80000,81000,82000,83000,84000,85000,86000,87000,88000,89000,90000,91000,92000,93000,94000,95000,96000,97000,98000,99000,100000,101000,102000,103000,104000,105000,106000,107000,108000,109000,110000,111000,112000,113000,114000,115000,116000,117000,118000,119000,120000,121000,122000,123000,124000,125000,126000,127000,128000,129000,130000,131000,132000,133000,134000,135000,136000,137000,138000,139000,140000,141000,142000,143000,144000,145000,146000,147000,148000,149000,150000,151000,152000,153000,154000,155000,156000,157000,158000,159000,160000,161000,162000,163000,164000,165000,166000,167000,168000,169000,170000,171000,172000,173000,174000,175000,176000,177000,178000,179000,180000,181000,182000,183000,184000,185000,186000,187000,188000,189000,190000,191000,192000,193000,194000,195000,196000,197000,198000,199000,200000,201000,202000,203000,204000,205000,206000,207000,208000,209000,210000,211000,212000,213000,214000,215000,216000,217000,218000,219000,220000,221000,222000,223000,224000,225000,226000,227000,228000,229000,230000,231000,232000,233000,234000,235000,236000,237000,238000,239000,240000,241000,242000,243000,244000,245000,246000,247000,248000,249000,250000,251000,252000,253000,254000,255000,256000,257000,258000,259000,260000,261000,262000,263000,264000,265000,266000,267000,268000,269000,270000,271000,272000,273000,274000,275000,276000,277000,278000,279000,280000,281000,282000,283000,284000,285000,286000,287000,288000,289000,290000,291000,292000,293000,294000,295000,296000,297000,298000,299000,300000,301000,302000,303000,304000,305000,306000,307000,308000,309000,310000,311000,312000,313000,314000,315000,316000,317000,318000,319000,320000,321000,322000,323000,324000,325000,326000,327000,328000,329000,330000,331000,332000,333000,334000,335000,336000,337000,338000,339000,340000,341000,342000,343000,344000,345000,346000,347000,348000,349000,350000,351000,352000,353000,354000,355000,356000,357000,358000,359000,360000,361000,362000,363000,364000,365000,366000,367000,368000,369000,370000,371000,372000,373000,374000,375000,376000,377000,378000,379000,380000,381000,382000,383000,384000,385000,386000,387000,388000,389000,390000,391000,392000,393000,394000,395000,396000,397000,398000,399000,400000,401000,402000,403000,404000,405000,406000,407000,408000,409000,410000,411000,412000,413000,414000,415000,416000,417000,418000,419000,420000,421000,422000,423000,424000,425000,426000,427000,428000,429000,430000,431000,432000,433000,434000,435000,436000,437000,438000,439000,440000,441000,442000,443000,444000,445000,446000,447000,448000,449000,450000,451000,452000,453000,454000,455000,456000,457000,458000,459000,460000,461000,462000,463000,464000,465000,466000,467000,468000,469000,470000,471000,472000,473000,474000,475000,476000,477000,478000,479000,480000,481000,482000,483000,484000,485000,486000,487000,488000,489000,490000,491000,492000,493000,494000,495000,496000,497000,498000,499000,500000,501000,502000,503000,504000,505000,506000,507000,508000,509000,510000,511000,512000,513000,514000,515000,516000,517000,518000,519000,520000,521000,522000,523000,524000,525000,526000,527000,528000,529000,530000,531000,532000,533000,534000,535000,536000,537000,538000,539000,540000,541000,542000,543000,544000,545000,546000,547000,548000,549000,550000,551000,552000,553000,554000,555000,556000,557000,558000,559000,560000,561000,562000,563000,564000,565000,566000,567000,568000,569000,570000,571000,572000,573000,574000,575000,576000,577000,578000,579000,580000,581000,582000,583000,584000,585000,586000,587000,588000,589000,590000,591000,592000,593000,594000,595000,596000,597000,598000,599000,600000,601000,602000,603000,604000,605000,606000,607000,608000,609000,610000,611000,612000,613000,614000,615000,616000,617000,618000,619000,620000,621000,622000,623000,624000,625000,626000,627000,628000,629000,630000,631000,632000,633000,634000,635000,636000,637000,638000,639000,640000,641000,642000,643000,644000,645000,646000,647000,648000,649000,650000,651000,652000,653000,654000,655000,656000,657000,658000,659000,660000,661000,662000,663000,664000,665000,666000,667000,668000,669000,670000,671000,672000,673000,674000,675000,676000,677000,678000,679000,680000,681000,682000,683000,684000,685000,686000,687000,688000,689000,690000,691000,692000,693000,694000,695000,696000,697000,698000,699000,700000,701000,702000,703000,704000,705000,706000,707000,708000,709000,710000,711000,712000,713000,714000,715000,716000,717000,718000,719000,720000,721000,722000,723000,724000,725000,726000,727000,728000,729000,730000,731000,732000,733000,734000,735000,736000,737000,738000,739000,740000,741000,742000,743000,744000,745000,746000,747000,748000,749000,750000,751000,752000,753000,754000,755000,756000,757000,758000,759000,760000,761000,762000,763000,764000,765000,766000,767000,768000,769000,770000,771000,772000,773000,774000,775000,776000,777000,778000,779000,780000,781000,782000,783000,784000,785000,786000,787000,788000,789000,790000,791000,792000,793000,794000,795000,796000,797000,798000,799000,800000,800000,799000,798000,797000,796000,795000,794000,793000,792000,791000,790000,789000,788000,787000,786000,785000,784000,783000,782000,781000,780000,779000,778000,777000,776000,775000,774000,773000,772000,771000,770000,769000,768000,767000,766000,765000,764000,763000,762000,761000,760000,759000,758000,757000,756000,755000,754000,753000,752000,751000,750000,749000,748000,747000,746000,745000,744000,743000,742000,741000,740000,739000,738000,737000,736000,735000,734000,733000,732000,731000,730000,729000,728000,727000,726000,725000,724000,723000,722000,721000,720000,719000,718000,717000,716000,715000,714000,713000,712000,711000,710000,709000,708000,707000,706000,705000,704000,703000,702000,701000,700000,699000,698000,697000,696000,695000,694000,693000,692000,691000,690000,689000,688000,687000,686000,685000,684000,683000,682000,681000,680000,679000,678000,677000,676000,675000,674000,673000,672000,671000,670000,669000,668000,667000,666000,665000,664000,663000,662000,661000,660000,659000,658000,657000,656000,655000,654000,653000,652000,651000,650000,649000,648000,647000,646000,645000,644000,643000,642000,641000,640000,639000,638000,637000,636000,635000,634000,633000,632000,631000,630000,629000,628000,627000,626000,625000,624000,623000,622000,621000,620000,619000,618000,617000,616000,615000,614000,613000,612000,611000,610000,609000,608000,607000,606000,605000,604000,603000,602000,601000,600000,599000,598000,597000,596000,595000,594000,593000,592000,591000,590000,589000,588000,587000,586000,585000,584000,583000,582000,581000,580000,579000,578000,577000,576000,575000,574000,573000,572000,571000,570000,569000,568000,567000,566000,565000,564000,563000,562000,561000,560000,559000,558000,557000,556000,555000,554000,553000,552000,551000,550000,549000,548000,547000,546000,545000,544000,543000,542000,541000,540000,539000,538000,537000,536000,535000,534000,533000,532000,531000,530000,529000,528000,527000,526000,525000,524000,523000,522000,521000,520000,519000,518000,517000,516000,515000,514000,513000,512000,511000,510000,509000,508000,507000,506000,505000,504000,503000,502000,501000,500000,499000,498000,497000,496000,495000,494000,493000,492000,491000,490000,489000,488000,487000,486000,485000,484000,483000,482000,481000,480000,479000,478000,477000,476000,475000,474000,473000,472000,471000,470000,469000,468000,467000,466000,465000,464000,463000,462000,461000,460000,459000,458000,457000,456000,455000,454000,453000,452000,451000,450000,449000,448000,447000,446000,445000,444000,443000,442000,441000,440000,439000,438000,437000,436000,435000,434000,433000,432000,431000,430000,429000,428000,427000,426000,425000,424000,423000,422000,421000,420000,419000,418000,417000,416000,415000,414000,413000,412000,411000,410000,409000,408000,407000,406000,405000,404000,403000,402000,401000,400000,399000,398000,397000,396000,395000,394000,393000,392000,391000,390000,389000,388000,387000,386000,385000,384000,383000,382000,381000,380000,379000,378000,377000,376000,375000,374000,373000,372000,371000,370000,369000,368000,367000,366000,365000,364000,363000,362000,361000,360000,359000,358000,357000,356000,355000,354000,353000,352000,351000,350000,349000,348000,347000,346000,345000,344000,343000,342000,341000,340000,339000,338000,337000,336000,335000,334000,333000,332000,331000,330000,329000,328000,327000,326000,325000,324000,323000,322000,321000,320000,319000,318000,317000,316000,315000,314000,313000,312000,311000,310000,309000,308000,307000,306000,305000,304000,303000,302000,301000,300000,299000,298000,297000,296000,295000,294000,293000,292000,291000,290000,289000,288000,287000,286000,285000,284000,283000,282000,281000,280000,279000,278000,277000,276000,275000,274000,273000,272000,271000,270000,269000,268000,267000,266000,265000,264000,263000,262000,261000,260000,259000,258000,257000,256000,255000,254000,253000,252000,251000,250000,249000,248000,247000,246000,245000,244000,243000,242000,241000,240000,239000,238000,237000,236000,235000,234000,233000,232000,231000,230000,229000,228000,227000,226000,225000,224000,223000,222000,221000,220000,219000,218000,217000,216000,215000,214000,213000,212000,211000,210000,209000,208000,207000,206000,205000,204000,203000,202000,201000,200000,199000,198000,197000,196000,195000,194000,193000,192000,191000,190000,189000,188000,187000,186000,185000,184000,183000,182000,181000,180000,179000,178000,177000,176000,175000,174000,173000,172000,171000,170000,169000,168000,167000,166000,165000,164000,163000,162000,161000,160000,159000,158000,157000,156000,155000,154000,153000,152000,151000,150000,149000,148000,147000,146000,145000,144000,143000,142000,141000,140000,139000,138000,137000,136000,135000,134000,133000,132000,131000,130000,129000,128000,127000,126000,125000,124000,123000,122000,121000,120000,119000,118000,117000,116000,115000,114000,113000,112000,111000,110000,109000,108000,107000,106000,105000,104000,103000,102000,101000,100000,99000,98000,97000,96000,95000,94000,93000,92000,91000,90000,89000,88000,87000,86000,85000,84000,83000,82000,81000,80000,79000,78000,77000,76000,75000,74000,73000,72000,71000,70000,69000,68000,67000,66000,65000,64000,63000,62000,61000,60000,59000,58000,57000,56000,55000,54000,53000,52000,51000,50000,49000,48000,47000,46000,45000,44000,43000,42000,41000,40000,39000,38000,37000,36000,35000,34000,33000,32000,31000,30000,29000,28000,27000,26000,25000,24000,23000,22000,21000,20000,19000,18000,17000,16000,15000,14000,13000,12000,11000,10000,9000,8000,7000,6000,5000,4000,3000,2000,1000,0],\"y\":[1,60,155,181,181,181,181,181,214,302,423,455,455,463,463,465,465,472,472,472,472,472,472,484,484,484,484,484,484,484,498,498,498,547,569,569,574,574,574,574,574,615,615,615,732,751,751,751,751,751,751,751,751,751,791,791,791,798,798,814,816,832,886,893,893,983,1009,1027,1029,1029,1032,1054,1055,1055,1056,1056,1056,1056,1056,1056,1056,1056,1056,1056,1056,1056,1056,1056,1056,1056,1056,1056,1056,1056,1056,1056,1056,1056,1081,1181,1185,1185,1185,1185,1188,1188,1196,1197,1197,1197,1197,1197,1197,1197,1197,1197,1197,1197,1197,1197,1197,1197,1197,1199,1199,1199,1199,1199,1199,1199,1199,1199,1199,1199,1203,1203,1203,1203,1203,1203,1203,1203,1203,1203,1203,1203,1203,1203,1203,1203,1203,1203,1203,1203,1203,1203,1203,1203,1203,1206,1206,1206,1206,1206,1206,1206,1206,1206,1206,1206,1206,1206,1206,1206,1206,1206,1206,1206,1206,1206,1206,1206,1210,1221,1223,1319,1343,1343,1343,1343,1343,1343,1343,1343,1343,1358,1358,1358,1358,1358,1363,1363,1363,1363,1363,1363,1371,1371,1371,1373,1373,1373,1373,1373,1373,1373,1373,1377,1377,1377,1396,1396,1396,1396,1396,1396,1396,1396,1396,1417,1417,1417,1417,1441,1441,1473,1483,1483,1483,1483,1483,1483,1483,1519,1519,1527,1527,1527,1527,1635,1717,1717,1717,1717,1717,1721,1740,1740,1744,1744,1747,1747,1747,1747,1747,1747,1747,1747,1747,1747,1747,1778,1778,1778,1778,1778,1778,1778,1778,1778,1778,1778,1778,1778,1778,1782,1782,1782,1782,1782,1782,1782,1782,1819,1856,1856,1856,1873,1873,1873,1873,1873,1873,1873,1873,1873,1873,1873,1873,1873,1873,1873,1873,1873,1873,1873,1873,1873,1873,1873,1873,1873,1873,1873,1873,1873,1873,1873,1873,1873,1873,1873,1873,1873,1873,1873,1873,1873,1873,1873,1873,1873,1873,1873,1873,1873,1873,1873,1873,1873,1873,1873,1873,1873,1873,1873,1873,1873,1873,1873,1873,1873,1873,1873,1873,1873,1873,1873,1873,1873,1873,1873,1873,1873,1873,1873,1873,1873,1873,1873,1873,1873,1873,1873,1873,1873,1873,1873,1873,1873,1873,1873,1873,1873,1873,1873,1873,1873,1873,1873,1873,1873,1873,1873,1873,1873,1873,1873,1873,1873,1873,1873,1873,1873,1873,1873,1873,1873,1873,1873,1873,1873,1873,1873,1873,1873,1873,1873,1873,1873,1873,1873,1873,1873,1873,1873,1873,1873,1873,1873,1873,1873,1873,1873,1873,1873,1873,1873,1873,1873,1873,1873,1873,1873,1873,1873,1873,1873,1873,1873,1873,1873,1873,1873,1873,1873,1873,1873,1873,1873,1873,1873,1873,1873,1873,1873,1873,1873,1873,1873,1873,1873,1873,1873,1873,1873,1873,1873,1873,1873,1873,1873,1873,1873,1873,1873,1873,1873,1873,1873,1873,1873,1873,1873,1873,1873,1873,1873,1873,1873,1873,1873,1873,1873,1873,1873,1873,1873,1873,1873,1873,1873,1873,1873,1873,1873,1873,1873,1873,1873,1873,1873,1873,1873,1873,1873,1873,1873,1873,1873,1873,1873,1873,1873,1873,1873,1873,1873,1873,1873,1873,1873,1873,1873,1873,1873,1873,1873,1873,1873,1873,1873,1873,1873,1873,1873,1873,1873,1873,1873,1873,1873,1873,1873,1873,1873,1873,1873,1873,1873,1873,1873,1873,1873,1873,1873,1873,1873,1873,1873,1873,1873,1873,1873,1873,1873,1873,1873,1873,1873,1873,1873,1873,1873,1873,1873,1873,1873,1873,1873,1873,1873,1873,1873,1873,1873,1873,1873,1873,1873,1873,1873,1873,1873,1873,1873,1873,1873,1873,1873,1873,1873,1873,1873,1873,1873,1873,1873,1873,1873,1873,1873,1873,1873,1873,1873,1873,1873,1873,1873,1873,1873,1873,1873,1873,1873,1873,1873,1873,1873,1873,1873,1873,1873,1873,1873,1873,1873,1873,1873,1873,1873,1873,1873,1873,1873,1873,1873,1873,1873,1873,1873,1873,1873,1873,1873,1873,1873,1873,1873,1873,1873,1873,1873,1873,1873,1873,1873,1873,1873,1873,1873,1873,1873,1873,1873,1873,1873,1873,1873,1873,1873,1873,1873,1873,1873,1873,1873,1873,1873,1873,1873,1873,1873,1873,1873,1873,1873,1873,1873,1873,1873,1873,1873,1873,1873,1873,1873,1873,1873,1873,1873,1873,1873,1873,1873,1873,1873,1873,1873,1873,1873,1873,1873,1873,1873,1873,1873,1873,1873,1873,1873,1873,1873,1873,1873,1873,1873,1873,1873,1873,1873,1873,1873,1873,1873,1873,1873,1873,1873,1873,1873,1873,1873,1873,1873,1873,1873,1873,1873,1873,1873,1873,1873,1873,1873,1873,1873,1873,1873,1891,1891,1891,1891,1891,1891,1891,1891,1891,1891,1891,1891,1891,1891,1891,1891,1891,1891,1891,1891,1891,1891,1891,1891,1891,1891,1891,1891,1891,1891,1891,1891,1891,1891,1891,1891,1891,1891,1891,1891,1891,1890,1890,1890,1890,1890,1890,1890,1890,1890,1890,1890,1890,1890,1890,1890,1890,1890,1890,1890,1890,1890,1890,1890,1890,1890,1890,1890,1890,1890,1890,1890,1890,1890,1890,1890,1890,1890,1890,1890,1890,1890,1890,1890,1890,1890,1890,1890,1890,1890,1890,1890,1890,1890,1890,1890,1890,1890,1890,1890,1890,1890,1890,1890,1890,1890,1890,1890,1890,1890,1890,1890,1890,1890,1890,1890,1890,1890,1890,1890,1890,1890,1890,1890,1890,1890,1890,1890,1890,1890,1890,1890,1890,1890,1890,1890,1890,1890,1890,1890,1890,1890,1890,1890,1890,1890,1890,1890,1890,1890,1890,1890,1890,1890,1890,1890,1890,1890,1890,1890,1890,1890,1890,1890,1890,1890,1890,1890,1890,1890,1890,1890,1890,1890,1890,1890,1890,1890,1890,1890,1890,1890,1890,1890,1890,1890,1890,1890,1890,1890,1890,1890,1890,1890,1890,1890,1890,1890,1890,1890,1890,1890,1890,1890,1890,1890,1890,1890,1890,1890,1890,1890,1890,1890,1890,1890,1890,1890,1890,1890,1890,1890,1890,1890,1890,1890,1890,1890,1890,1890,1890,1890,1890,1890,1890,1890,1890,1890,1890,1890,1890,1890,1890,1890,1890,1890,1890,1890,1890,1890,1890,1890,1890,1890,1890,1890,1890,1890,1890,1890,1890,1890,1890,1890,1890,1890,1890,1890,1890,1890,1890,1890,1890,1890,1890,1890,1890,1890,1890,1890,1890,1890,1890,1890,1890,1890,1890,1890,1890,1890,1890,1890,1890,1890,1890,1890,1890,1890,1890,1890,1890,1890,1890,1890,1890,1890,1890,1890,1890,1890,1890,1890,1890,1890,1890,1890,1890,1890,1890,1890,1890,1890,1890,1890,1890,1890,1890,1890,1890,1890,1890,1890,1890,1890,1890,1890,1890,1890,1890,1890,1890,1890,1890,1890,1890,1890,1890,1890,1890,1890,1890,1890,1890,1890,1890,1890,1890,1890,1890,1890,1890,1890,1890,1890,1890,1890,1890,1890,1890,1890,1890,1890,1890,1890,1890,1890,1890,1890,1890,1890,1890,1890,1890,1890,1890,1890,1890,1890,1890,1890,1890,1890,1890,1890,1890,1890,1890,1890,1890,1890,1890,1890,1890,1890,1890,1890,1890,1890,1890,1890,1890,1890,1890,1890,1890,1890,1890,1890,1890,1890,1890,1890,1890,1890,1890,1890,1890,1890,1890,1890,1890,1890,1890,1890,1890,1890,1890,1890,1890,1890,1890,1890,1890,1890,1890,1890,1890,1890,1890,1890,1890,1890,1890,1890,1890,1890,1890,1890,1890,1890,1890,1890,1890,1890,1890,1890,1890,1890,1890,1890,1890,1890,1890,1890,1890,1890,1890,1890,1890,1890,1890,1890,1890,1890,1890,1890,1890,1890,1890,1890,1890,1890,1890,1890,1890,1890,1890,1890,1890,1890,1890,1890,1890,1890,1890,1890,1890,1890,1890,1890,1890,1890,1890,1890,1890,1890,1890,1890,1890,1890,1890,1890,1890,1890,1890,1890,1890,1890,1890,1890,1890,1890,1890,1890,1890,1890,1890,1890,1890,1890,1890,1890,1890,1890,1890,1890,1890,1890,1890,1890,1890,1890,1890,1890,1890,1890,1890,1890,1890,1890,1890,1890,1890,1890,1890,1890,1890,1890,1890,1890,1890,1890,1890,1890,1890,1890,1890,1890,1890,1890,1890,1890,1890,1890,1890,1890,1890,1890,1890,1890,1890,1890,1890,1890,1890,1890,1890,1890,1890,1890,1890,1890,1890,1890,1890,1890,1890,1890,1890,1890,1890,1890,1890,1890,1890,1890,1890,1890,1890,1890,1890,1890,1890,1890,1890,1890,1890,1890,1890,1873,1873,1873,1873,1873,1873,1873,1873,1873,1873,1873,1873,1873,1873,1873,1873,1873,1873,1873,1873,1873,1873,1873,1873,1873,1873,1873,1873,1873,1873,1873,1873,1873,1873,1873,1873,1860,1848,1848,1848,1848,1848,1848,1848,1848,1848,1848,1847,1843,1832,1817,1817,1817,1817,1817,1817,1817,1817,1817,1816,1815,1808,1675,1558,1545,1545,1545,1545,1545,1545,1545,1545,1508,1494,1494,1494,1493,1469,1416,1366,1366,1366,1366,1366,1366,1365,1365,1351,1345,1336,1312,1312,1312,1308,1308,1308,1298,1224,1205,1197,1197,1197,1197,1197,1197,1197,1197,1197,1197,1197,1197,1197,1197,1197,1194,1171,1171,1171,1171,1171,1171,1165,1148,1059,1059,1059,1059,1059,1059,1059,1059,1059,1059,1059,1059,1059,1058,1045,953,886,885,883,881,881,881,881,830,815,755,713,549,549,549,538,538,538,538,537,518,465,461,455,451,451,450,437,380,296,235,136,1]}},\"id\":\"b49aade9-4e8b-4d62-8468-99f8a132ca5e\",\"type\":\"ColumnDataSource\"},{\"attributes\":{\"callback\":null},\"id\":\"afb5e07e-af7e-414e-a37e-88dd903cf47a\",\"type\":\"DataRange1d\"},{\"attributes\":{\"data_source\":{\"id\":\"872bae5b-3373-4824-b5a0-a8efd5505bff\",\"type\":\"ColumnDataSource\"},\"glyph\":{\"id\":\"bad718f7-1e21-4e26-8fce-7777ee635e93\",\"type\":\"Line\"},\"hover_glyph\":null,\"nonselection_glyph\":{\"id\":\"6cff6748-9a1b-412f-985f-08d37e4889ff\",\"type\":\"Line\"},\"selection_glyph\":null},\"id\":\"aadaf5fa-7257-42bd-b8eb-c95ab75197c9\",\"type\":\"GlyphRenderer\"},{\"attributes\":{\"data_source\":{\"id\":\"b49aade9-4e8b-4d62-8468-99f8a132ca5e\",\"type\":\"ColumnDataSource\"},\"glyph\":{\"id\":\"42c3dbce-ea56-4f77-b233-5f6696d9f98f\",\"type\":\"Patch\"},\"hover_glyph\":null,\"nonselection_glyph\":{\"id\":\"81845a66-1c6e-41bb-9cca-f7d984bea8fe\",\"type\":\"Patch\"},\"selection_glyph\":null},\"id\":\"14f1f670-aff8-44dc-967e-24838d09145d\",\"type\":\"GlyphRenderer\"},{\"attributes\":{\"fill_alpha\":{\"value\":0.1},\"fill_color\":{\"value\":\"#377eb8\"},\"line_alpha\":{\"value\":0.1},\"line_color\":{\"value\":\"#377eb8\"},\"x\":{\"field\":\"x\"},\"y\":{\"field\":\"y\"}},\"id\":\"09ec373b-e14f-4b11-9849-2e0ff0f4b915\",\"type\":\"Patch\"},{\"attributes\":{\"label\":{\"value\":\"0.5 Alpha\"},\"renderers\":[{\"id\":\"1fcb443d-0aec-4bd0-b0cc-f741a8855980\",\"type\":\"GlyphRenderer\"}]},\"id\":\"5e8e4a51-e767-4dac-8bcf-61b8d88cfd84\",\"type\":\"LegendItem\"},{\"attributes\":{\"fill_alpha\":{\"value\":0.1},\"fill_color\":{\"value\":\"#e41a1c\"},\"line_alpha\":{\"value\":0.1},\"line_color\":{\"value\":\"#e41a1c\"},\"x\":{\"field\":\"x\"},\"y\":{\"field\":\"y\"}},\"id\":\"2d6f4d43-5ac9-4884-9691-b6742a08284e\",\"type\":\"Patch\"},{\"attributes\":{\"data_source\":{\"id\":\"531813f8-030f-4ce1-b746-69b344716da9\",\"type\":\"ColumnDataSource\"},\"glyph\":{\"id\":\"09ec373b-e14f-4b11-9849-2e0ff0f4b915\",\"type\":\"Patch\"},\"hover_glyph\":null,\"nonselection_glyph\":{\"id\":\"03f6e9d4-6ad8-4b76-b61c-06582924c6b3\",\"type\":\"Patch\"},\"selection_glyph\":null},\"id\":\"d2227669-7de2-42a4-b4b0-beadc273303b\",\"type\":\"GlyphRenderer\"},{\"attributes\":{\"fill_alpha\":{\"value\":0.1},\"fill_color\":{\"value\":\"#1f77b4\"},\"line_alpha\":{\"value\":0.1},\"line_color\":{\"value\":\"#1f77b4\"},\"x\":{\"field\":\"x\"},\"y\":{\"field\":\"y\"}},\"id\":\"81845a66-1c6e-41bb-9cca-f7d984bea8fe\",\"type\":\"Patch\"},{\"attributes\":{\"line_alpha\":{\"value\":0.1},\"line_color\":{\"value\":\"#1f77b4\"},\"line_width\":{\"value\":2},\"x\":{\"field\":\"x\"},\"y\":{\"field\":\"y\"}},\"id\":\"6cff6748-9a1b-412f-985f-08d37e4889ff\",\"type\":\"Line\"},{\"attributes\":{\"fill_alpha\":{\"value\":0.1},\"fill_color\":{\"value\":\"#1f77b4\"},\"line_alpha\":{\"value\":0.1},\"line_color\":{\"value\":\"#1f77b4\"},\"x\":{\"field\":\"x\"},\"y\":{\"field\":\"y\"}},\"id\":\"66d7ede3-15e2-4d7c-8a29-f7de6395d9a0\",\"type\":\"Patch\"},{\"attributes\":{\"plot\":{\"id\":\"5a18e79e-42be-41f5-9fa9-cf59440ed499\",\"subtype\":\"Figure\",\"type\":\"Plot\"}},\"id\":\"e9421e1b-7f95-4cb6-8683-d2581f324231\",\"type\":\"ResetTool\"},{\"attributes\":{\"active_drag\":\"auto\",\"active_scroll\":\"auto\",\"active_tap\":\"auto\",\"tools\":[{\"id\":\"6bf46f4f-f3bd-4c5d-9a9a-5516b02add0d\",\"type\":\"PanTool\"},{\"id\":\"11b63d57-a763-444a-a318-6c79ecd76ba0\",\"type\":\"WheelZoomTool\"},{\"id\":\"35c66fd8-a967-4c3b-bbcb-abe8a5e692cc\",\"type\":\"BoxZoomTool\"},{\"id\":\"636ffbfd-2faa-4e26-b150-f5a50336beb5\",\"type\":\"SaveTool\"},{\"id\":\"e9421e1b-7f95-4cb6-8683-d2581f324231\",\"type\":\"ResetTool\"},{\"id\":\"e5fd3e59-f695-4150-a435-1b188329fc83\",\"type\":\"HelpTool\"}]},\"id\":\"18aaea00-cf35-4ad2-85cf-913ccb317ef1\",\"type\":\"Toolbar\"},{\"attributes\":{\"line_alpha\":{\"value\":0.1},\"line_color\":{\"value\":\"#1f77b4\"},\"line_width\":{\"value\":2},\"x\":{\"field\":\"x\"},\"y\":{\"field\":\"y\"}},\"id\":\"ae716182-3e58-4efc-b428-dda7781b1ed3\",\"type\":\"Line\"},{\"attributes\":{\"plot\":null,\"text\":\"Med Maze 10 50k Fresh Counts 1.5 NScaler Alpha\"},\"id\":\"0cee70ae-96bd-473b-8a16-6c9676f769d1\",\"type\":\"Title\"},{\"attributes\":{\"callback\":null,\"column_names\":[\"x\",\"y\"],\"data\":{\"x\":[0,1000,2000,3000,4000,5000,6000,7000,8000,9000,10000,11000,12000,13000,14000,15000,16000,17000,18000,19000,20000,21000,22000,23000,24000,25000,26000,27000,28000,29000,30000,31000,32000,33000,34000,35000,36000,37000,38000,39000,40000,41000,42000,43000,44000,45000,46000,47000,48000,49000,50000,51000,52000,53000,54000,55000,56000,57000,58000,59000,60000,61000,62000,63000,64000,65000,66000,67000,68000,69000,70000,71000,72000,73000,74000,75000,76000,77000,78000,79000,80000,81000,82000,83000,84000,85000,86000,87000,88000,89000,90000,91000,92000,93000,94000,95000,96000,97000,98000,99000,100000,101000,102000,103000,104000,105000,106000,107000,108000,109000,110000,111000,112000,113000,114000,115000,116000,117000,118000,119000,120000,121000,122000,123000,124000,125000,126000,127000,128000,129000,130000,131000,132000,133000,134000,135000,136000,137000,138000,139000,140000,141000,142000,143000,144000,145000,146000,147000,148000,149000,150000,151000,152000,153000,154000,155000,156000,157000,158000,159000,160000,161000,162000,163000,164000,165000,166000,167000,168000,169000,170000,171000,172000,173000,174000,175000,176000,177000,178000,179000,180000,181000,182000,183000,184000,185000,186000,187000,188000,189000,190000,191000,192000,193000,194000,195000,196000,197000,198000,199000,200000,201000,202000,203000,204000,205000,206000,207000,208000,209000,210000,211000,212000,213000,214000,215000,216000,217000,218000,219000,220000,221000,222000,223000,224000,225000,226000,227000,228000,229000,230000,231000,232000,233000,234000,235000,236000,237000,238000,239000,240000,241000,242000,243000,244000,245000,246000,247000,248000,249000,250000,251000,252000,253000,254000,255000,256000,257000,258000,259000,260000,261000,262000,263000,264000,265000,266000,267000,268000,269000,270000,271000,272000,273000,274000,275000,276000,277000,278000,279000,280000,281000,282000,283000,284000,285000,286000,287000,288000,289000,290000,291000,292000,293000,294000,295000,296000,297000,298000,299000,300000,301000,302000,303000,304000,305000,306000,307000,308000,309000,310000,311000,312000,313000,314000,315000,316000,317000,318000,319000,320000,321000,322000,323000,324000,325000,326000,327000,328000,329000,330000,331000,332000,333000,334000,335000,336000,337000,338000,339000,340000,341000,342000,343000,344000,345000,346000,347000,348000,349000,350000,351000,352000,353000,354000,355000,356000,357000,358000,359000,360000,361000,362000,363000,364000,365000,366000,367000,368000,369000,370000,371000,372000,373000,374000,375000,376000,377000,378000,379000,380000,381000,382000,383000,384000,385000,386000,387000,388000,389000,390000,391000,392000,393000,394000,395000,396000,397000,398000,399000,400000,401000,402000,403000,404000,405000,406000,407000,408000,409000,410000,411000,412000,413000,414000,415000,416000,417000,418000,419000,420000,421000,422000,423000,424000,425000,426000,427000,428000,429000,430000,431000,432000,433000,434000,435000,436000,437000,438000,439000,440000,441000,442000,443000,444000,445000,446000,447000,448000,449000,450000,451000,452000,453000,454000,455000,456000,457000,458000,459000,460000,461000,462000,463000,464000,465000,466000,467000,468000,469000,470000,471000,472000,473000,474000,475000,476000,477000,478000,479000,480000,481000,482000,483000,484000,485000,486000,487000,488000,489000,490000,491000,492000,493000,494000,495000,496000,497000,498000,499000,500000,501000,502000,503000,504000,505000,506000,507000,508000,509000,510000,511000,512000,513000,514000,515000,516000,517000,518000,519000,520000,521000,522000,523000,524000,525000,526000,527000,528000,529000,530000,531000,532000,533000,534000,535000,536000,537000,538000,539000,540000,541000,542000,543000,544000,545000,546000,547000,548000,549000,550000,551000,552000,553000,554000,555000,556000,557000,558000,559000,560000,561000,562000,563000,564000,565000,566000,567000,568000,569000,570000,571000,572000,573000,574000,575000,576000,577000,578000,579000,580000,581000,582000,583000,584000,585000,586000,587000,588000,589000,590000,591000,592000,593000,594000,595000,596000,597000,598000,599000,600000,601000,602000,603000,604000,605000,606000,607000,608000,609000,610000,611000,612000,613000,614000,615000,616000,617000,618000,619000,620000,621000,622000,623000,624000,625000,626000,627000,628000,629000,630000,631000,632000,633000,634000,635000,636000,637000,638000,639000,640000,641000,642000,643000,644000,645000,646000,647000,648000,649000,650000,651000,652000,653000,654000,655000,656000,657000,658000,659000,660000,661000,662000,663000,664000,665000,666000,667000,668000,669000,670000,671000,672000,673000,674000,675000,676000,677000,678000,679000,680000,681000,682000,683000,684000,685000,686000,687000,688000,689000,690000,691000,692000,693000,694000,695000,696000,697000,698000,699000,700000,701000,702000,703000,704000,705000,706000,707000,708000,709000,710000,711000,712000,713000,714000,715000,716000,717000,718000,719000,720000,721000,722000,723000,724000,725000,726000,727000,728000,729000,730000,731000,732000,733000,734000,735000,736000,737000,738000,739000,740000,741000,742000,743000,744000,745000,746000,747000,748000,749000,750000,751000,752000,753000,754000,755000,756000,757000,758000,759000,760000,761000,762000,763000,764000,765000,766000,767000,768000,769000,770000,771000,772000,773000,774000,775000,776000,777000,778000,779000,780000,781000,782000,783000,784000,785000,786000,787000,788000,789000,790000,791000,792000,793000,794000,795000,796000,797000,798000,799000,800000,800000,799000,798000,797000,796000,795000,794000,793000,792000,791000,790000,789000,788000,787000,786000,785000,784000,783000,782000,781000,780000,779000,778000,777000,776000,775000,774000,773000,772000,771000,770000,769000,768000,767000,766000,765000,764000,763000,762000,761000,760000,759000,758000,757000,756000,755000,754000,753000,752000,751000,750000,749000,748000,747000,746000,745000,744000,743000,742000,741000,740000,739000,738000,737000,736000,735000,734000,733000,732000,731000,730000,729000,728000,727000,726000,725000,724000,723000,722000,721000,720000,719000,718000,717000,716000,715000,714000,713000,712000,711000,710000,709000,708000,707000,706000,705000,704000,703000,702000,701000,700000,699000,698000,697000,696000,695000,694000,693000,692000,691000,690000,689000,688000,687000,686000,685000,684000,683000,682000,681000,680000,679000,678000,677000,676000,675000,674000,673000,672000,671000,670000,669000,668000,667000,666000,665000,664000,663000,662000,661000,660000,659000,658000,657000,656000,655000,654000,653000,652000,651000,650000,649000,648000,647000,646000,645000,644000,643000,642000,641000,640000,639000,638000,637000,636000,635000,634000,633000,632000,631000,630000,629000,628000,627000,626000,625000,624000,623000,622000,621000,620000,619000,618000,617000,616000,615000,614000,613000,612000,611000,610000,609000,608000,607000,606000,605000,604000,603000,602000,601000,600000,599000,598000,597000,596000,595000,594000,593000,592000,591000,590000,589000,588000,587000,586000,585000,584000,583000,582000,581000,580000,579000,578000,577000,576000,575000,574000,573000,572000,571000,570000,569000,568000,567000,566000,565000,564000,563000,562000,561000,560000,559000,558000,557000,556000,555000,554000,553000,552000,551000,550000,549000,548000,547000,546000,545000,544000,543000,542000,541000,540000,539000,538000,537000,536000,535000,534000,533000,532000,531000,530000,529000,528000,527000,526000,525000,524000,523000,522000,521000,520000,519000,518000,517000,516000,515000,514000,513000,512000,511000,510000,509000,508000,507000,506000,505000,504000,503000,502000,501000,500000,499000,498000,497000,496000,495000,494000,493000,492000,491000,490000,489000,488000,487000,486000,485000,484000,483000,482000,481000,480000,479000,478000,477000,476000,475000,474000,473000,472000,471000,470000,469000,468000,467000,466000,465000,464000,463000,462000,461000,460000,459000,458000,457000,456000,455000,454000,453000,452000,451000,450000,449000,448000,447000,446000,445000,444000,443000,442000,441000,440000,439000,438000,437000,436000,435000,434000,433000,432000,431000,430000,429000,428000,427000,426000,425000,424000,423000,422000,421000,420000,419000,418000,417000,416000,415000,414000,413000,412000,411000,410000,409000,408000,407000,406000,405000,404000,403000,402000,401000,400000,399000,398000,397000,396000,395000,394000,393000,392000,391000,390000,389000,388000,387000,386000,385000,384000,383000,382000,381000,380000,379000,378000,377000,376000,375000,374000,373000,372000,371000,370000,369000,368000,367000,366000,365000,364000,363000,362000,361000,360000,359000,358000,357000,356000,355000,354000,353000,352000,351000,350000,349000,348000,347000,346000,345000,344000,343000,342000,341000,340000,339000,338000,337000,336000,335000,334000,333000,332000,331000,330000,329000,328000,327000,326000,325000,324000,323000,322000,321000,320000,319000,318000,317000,316000,315000,314000,313000,312000,311000,310000,309000,308000,307000,306000,305000,304000,303000,302000,301000,300000,299000,298000,297000,296000,295000,294000,293000,292000,291000,290000,289000,288000,287000,286000,285000,284000,283000,282000,281000,280000,279000,278000,277000,276000,275000,274000,273000,272000,271000,270000,269000,268000,267000,266000,265000,264000,263000,262000,261000,260000,259000,258000,257000,256000,255000,254000,253000,252000,251000,250000,249000,248000,247000,246000,245000,244000,243000,242000,241000,240000,239000,238000,237000,236000,235000,234000,233000,232000,231000,230000,229000,228000,227000,226000,225000,224000,223000,222000,221000,220000,219000,218000,217000,216000,215000,214000,213000,212000,211000,210000,209000,208000,207000,206000,205000,204000,203000,202000,201000,200000,199000,198000,197000,196000,195000,194000,193000,192000,191000,190000,189000,188000,187000,186000,185000,184000,183000,182000,181000,180000,179000,178000,177000,176000,175000,174000,173000,172000,171000,170000,169000,168000,167000,166000,165000,164000,163000,162000,161000,160000,159000,158000,157000,156000,155000,154000,153000,152000,151000,150000,149000,148000,147000,146000,145000,144000,143000,142000,141000,140000,139000,138000,137000,136000,135000,134000,133000,132000,131000,130000,129000,128000,127000,126000,125000,124000,123000,122000,121000,120000,119000,118000,117000,116000,115000,114000,113000,112000,111000,110000,109000,108000,107000,106000,105000,104000,103000,102000,101000,100000,99000,98000,97000,96000,95000,94000,93000,92000,91000,90000,89000,88000,87000,86000,85000,84000,83000,82000,81000,80000,79000,78000,77000,76000,75000,74000,73000,72000,71000,70000,69000,68000,67000,66000,65000,64000,63000,62000,61000,60000,59000,58000,57000,56000,55000,54000,53000,52000,51000,50000,49000,48000,47000,46000,45000,44000,43000,42000,41000,40000,39000,38000,37000,36000,35000,34000,33000,32000,31000,30000,29000,28000,27000,26000,25000,24000,23000,22000,21000,20000,19000,18000,17000,16000,15000,14000,13000,12000,11000,10000,9000,8000,7000,6000,5000,4000,3000,2000,1000,0],\"y\":[1,57,64,163,193,203,203,203,212,212,230,230,230,240,240,270,271,271,271,284,407,446,446,446,469,469,469,474,561,561,561,583,583,583,583,593,593,606,606,606,606,606,606,606,606,606,606,607,609,611,623,623,623,623,623,631,634,635,635,635,636,636,636,636,636,683,683,683,683,683,683,683,683,683,683,686,686,718,781,782,782,786,825,825,825,825,825,825,825,825,834,834,834,955,962,962,962,962,962,962,962,962,962,962,962,962,962,962,962,962,962,962,962,962,962,962,962,962,962,962,962,962,962,962,962,962,962,962,962,962,962,962,962,962,962,962,962,962,962,962,962,962,962,962,962,962,962,962,962,962,962,962,962,962,962,962,962,962,967,1011,1011,1011,1011,1011,1011,1011,1011,1011,1011,1011,1011,1011,1013,1013,1013,1013,1013,1013,1013,1020,1025,1025,1025,1040,1040,1088,1131,1131,1131,1131,1131,1131,1131,1162,1162,1167,1227,1227,1227,1227,1227,1227,1227,1227,1227,1227,1228,1228,1228,1228,1234,1234,1234,1234,1234,1234,1234,1245,1246,1246,1246,1263,1263,1263,1275,1275,1275,1275,1275,1277,1278,1338,1338,1338,1338,1338,1338,1338,1338,1338,1338,1338,1341,1344,1360,1360,1362,1362,1362,1362,1362,1362,1362,1362,1362,1362,1362,1362,1362,1362,1363,1363,1363,1363,1363,1363,1363,1363,1363,1363,1363,1363,1363,1363,1364,1365,1365,1365,1365,1367,1371,1371,1371,1371,1371,1371,1371,1371,1371,1371,1371,1371,1371,1371,1371,1371,1410,1491,1522,1529,1529,1529,1529,1529,1529,1529,1529,1529,1529,1620,1624,1676,1682,1682,1682,1682,1682,1682,1682,1682,1682,1682,1682,1682,1682,1690,1690,1690,1690,1690,1690,1690,1690,1698,1698,1700,1700,1700,1700,1700,1700,1700,1700,1700,1829,1834,1834,1834,1834,1834,1834,1834,1834,1834,1834,1834,1879,1887,1887,1887,1887,1887,1895,1895,1898,1898,1898,1898,1898,1898,1898,1898,1898,1898,1898,1898,1898,1898,1898,1898,1898,1898,1898,1898,1901,1901,1901,1901,1901,1901,1901,1901,1901,1901,1901,1901,1901,1901,1901,1901,1901,1901,1901,1901,1901,1901,1901,1901,1901,1901,1901,1901,1901,1901,1901,1901,1901,1901,1901,1901,1901,1901,1901,1901,1901,1901,1901,1901,1901,1901,1901,1901,1901,1901,1901,1901,1901,1901,1901,1901,1901,1901,1901,1901,1901,1901,1901,1901,1901,1901,1901,1901,1901,1901,1901,1901,1901,1901,1901,1901,1901,1901,1901,1901,1901,1901,1901,1901,1901,1901,1901,1901,1901,1901,1901,1901,1901,1901,1901,1901,1901,1901,1901,1901,1901,1901,1901,1901,1901,1901,1901,1901,1901,1901,1901,1901,1901,1901,1901,1901,1901,1901,1901,1901,1901,1901,1901,1901,1901,1901,1901,1901,1901,1901,1901,1901,1901,1901,1901,1901,1901,1901,1901,1901,1901,1901,1901,1901,1901,1901,1901,1901,1901,1901,1901,1901,1901,1901,1901,1901,1901,1901,1901,1901,1901,1901,1901,1901,1901,1901,1901,1901,1901,1901,1901,1901,1901,1901,1901,1901,1901,1901,1901,1901,1901,1901,1901,1901,1901,1901,1901,1901,1901,1901,1901,1901,1901,1901,1901,1901,1901,1901,1901,1901,1901,1901,1901,1901,1901,1901,1901,1901,1901,1901,1901,1901,1901,1901,1901,1901,1901,1901,1901,1901,1901,1901,1901,1901,1901,1901,1901,1901,1901,1901,1901,1901,1901,1901,1901,1901,1901,1901,1901,1901,1901,1901,1901,1901,1901,1901,1901,1901,1901,1901,1901,1901,1901,1901,1901,1901,1901,1901,1901,1901,1901,1901,1901,1901,1901,1901,1901,1901,1901,1901,1901,1901,1901,1901,1901,1901,1901,1901,1901,1901,1901,1901,1901,1901,1901,1901,1901,1901,1901,1901,1901,1901,1901,1901,1901,1901,1901,1901,1901,1901,1901,1901,1901,1901,1901,1901,1901,1901,1901,1901,1901,1901,1901,1901,1901,1901,1901,1901,1901,1901,1901,1901,1901,1901,1901,1901,1901,1901,1901,1901,1901,1901,1901,1901,1901,1901,1901,1901,1901,1901,1901,1901,1901,1901,1901,1901,1901,1901,1901,1901,1901,1901,1901,1901,1901,1901,1901,1901,1901,1901,1901,1901,1901,1901,1901,1901,1901,1901,1901,1901,1901,1901,1901,1901,1901,1901,1901,1901,1901,1901,1901,1901,1901,1901,1901,1901,1901,1901,1901,1901,1901,1901,1901,1901,1901,1901,1901,1901,1901,1901,1901,1901,1901,1901,1901,1901,1901,1901,1901,1901,1901,1901,1901,1901,1901,1901,1901,1901,1901,1901,1901,1901,1901,1901,1901,1901,1901,1901,1901,1901,1901,1901,1901,1901,1901,1901,1901,1901,1901,1901,1901,1901,1901,1901,1901,1901,1901,1901,1901,1901,1901,1901,1901,1901,1901,1901,1901,1901,1901,1901,1901,1901,1901,1901,1901,1901,1901,1901,1901,1901,1901,1901,1901,1901,1901,1901,1901,1901,1901,1901,1901,1901,1901,1901,1901,1901,1901,1901,1901,1901,1901,1901,1901,1901,1901,1901,1901,1901,1901,1901,1901,1901,1901,1901,1901,1901,1901,1901,1901,1901,1901,1901,1901,1901,1901,1901,1901,1901,1901,1901,1901,1901,1901,1901,1901,1901,1901,1901,1901,1901,1901,1901,1901,1901,1901,1901,1901,1901,1901,1901,1901,1901,1901,1901,1901,1901,1901,1901,1901,1901,1901,1901,1901,1901,1901,1901,1901,1901,1901,1901,1901,1901,1901,1901,1901,1901,1901,1901,1901,1901,1901,1901,1901,1901,1901,1901,1901,1901,1901,1901,1901,1901,1901,1901,1901,1901,1901,1901,1901,1901,1901,1901,1901,1901,1901,1901,1901,1901,1901,1901,1901,1901,1901,1901,1901,1901,1901,1901,1901,1901,1901,1901,1901,1901,1901,1901,1901,1901,1901,1901,1901,1901,1901,1901,1901,1901,1901,1901,1901,1901,1901,1901,1901,1901,1901,1901,1901,1901,1901,1901,1901,1901,1901,1901,1901,1901,1901,1901,1901,1901,1901,1901,1901,1901,1901,1901,1901,1901,1901,1901,1901,1901,1901,1901,1901,1901,1901,1901,1901,1901,1901,1901,1901,1901,1901,1901,1901,1901,1901,1901,1901,1901,1901,1901,1901,1901,1901,1901,1901,1901,1901,1901,1901,1901,1901,1901,1901,1901,1901,1901,1901,1901,1901,1901,1901,1901,1901,1901,1901,1901,1901,1901,1901,1901,1901,1901,1901,1901,1901,1901,1901,1901,1901,1901,1901,1901,1901,1901,1901,1901,1901,1901,1901,1901,1901,1901,1901,1901,1901,1901,1901,1901,1901,1901,1901,1901,1901,1901,1901,1901,1901,1901,1901,1901,1901,1901,1901,1901,1901,1901,1901,1901,1901,1901,1901,1901,1901,1901,1901,1901,1901,1901,1901,1901,1901,1901,1901,1901,1901,1901,1901,1901,1901,1901,1901,1901,1901,1901,1901,1901,1901,1901,1901,1901,1901,1901,1901,1901,1901,1901,1901,1901,1901,1901,1901,1901,1901,1901,1901,1901,1901,1901,1901,1901,1901,1901,1901,1901,1901,1901,1901,1901,1901,1901,1901,1901,1901,1901,1901,1901,1901,1901,1901,1901,1901,1901,1901,1901,1901,1901,1901,1901,1901,1901,1901,1901,1901,1901,1901,1901,1901,1901,1901,1901,1901,1901,1901,1901,1901,1901,1901,1901,1901,1901,1901,1901,1901,1901,1901,1901,1901,1901,1901,1901,1901,1901,1901,1901,1901,1901,1901,1901,1901,1901,1901,1901,1901,1901,1901,1901,1901,1901,1901,1901,1901,1901,1901,1901,1901,1901,1901,1901,1901,1901,1901,1901,1901,1901,1901,1901,1901,1901,1901,1901,1901,1901,1901,1901,1901,1901,1901,1901,1901,1901,1901,1901,1901,1901,1901,1901,1901,1901,1901,1901,1901,1901,1901,1901,1901,1901,1901,1901,1901,1901,1901,1901,1901,1901,1901,1901,1901,1901,1901,1901,1901,1901,1901,1901,1901,1901,1901,1901,1901,1901,1901,1901,1901,1901,1901,1901,1901,1901,1901,1901,1901,1901,1901,1901,1901,1901,1901,1901,1901,1901,1901,1901,1901,1901,1901,1901,1901,1901,1901,1901,1901,1901,1901,1901,1901,1901,1901,1901,1901,1901,1901,1901,1901,1901,1901,1901,1901,1901,1901,1901,1901,1901,1901,1901,1901,1901,1901,1901,1901,1901,1901,1901,1901,1901,1900,1900,1900,1900,1900,1900,1900,1898,1898,1897,1897,1897,1897,1895,1895,1895,1895,1895,1895,1895,1895,1895,1889,1889,1889,1889,1889,1883,1818,1814,1775,1775,1775,1775,1775,1775,1775,1775,1774,1774,1770,1768,1767,1762,1759,1759,1759,1759,1759,1759,1759,1759,1759,1759,1759,1759,1759,1759,1759,1759,1759,1759,1759,1758,1720,1641,1630,1626,1622,1622,1622,1622,1622,1622,1622,1622,1622,1622,1622,1618,1617,1595,1523,1514,1469,1469,1469,1469,1469,1469,1469,1450,1433,1433,1433,1433,1431,1431,1431,1431,1431,1423,1422,1422,1366,1316,1259,1259,1259,1259,1259,1259,1259,1259,1219,1219,1219,1211,1184,1184,1184,1184,1184,1184,1184,1184,1184,1184,1184,1184,1184,1184,1184,1184,1184,1114,1099,1099,1099,1083,1081,1009,866,866,866,866,774,748,748,748,745,745,745,745,745,740,725,725,725,725,725,725,725,725,725,725,724,723,722,661,657,657,642,639,619,619,614,529,463,462,456,449,358,358,309,198,135,1]}},\"id\":\"3cdae19b-de74-4605-acfc-773259fa2140\",\"type\":\"ColumnDataSource\"},{\"attributes\":{\"fill_alpha\":{\"value\":0.1},\"fill_color\":{\"value\":\"#1f77b4\"},\"line_alpha\":{\"value\":0.1},\"line_color\":{\"value\":\"#1f77b4\"},\"x\":{\"field\":\"x\"},\"y\":{\"field\":\"y\"}},\"id\":\"1979e227-cc38-4fb1-9ac1-183fd92f4274\",\"type\":\"Patch\"},{\"attributes\":{\"data_source\":{\"id\":\"5476b9c9-6007-4480-aef1-1f4a08059083\",\"type\":\"ColumnDataSource\"},\"glyph\":{\"id\":\"69d3dc25-3a48-429f-aa38-a4cbb1e75f38\",\"type\":\"Patch\"},\"hover_glyph\":null,\"nonselection_glyph\":{\"id\":\"66d7ede3-15e2-4d7c-8a29-f7de6395d9a0\",\"type\":\"Patch\"},\"selection_glyph\":null},\"id\":\"46127157-6ea8-4835-aaf2-bdb51037a72f\",\"type\":\"GlyphRenderer\"},{\"attributes\":{\"data_source\":{\"id\":\"523a749a-000d-416a-97c6-b56ed459989e\",\"type\":\"ColumnDataSource\"},\"glyph\":{\"id\":\"e4a16c6d-75e0-47b9-a1d1-4705bc99c8a6\",\"type\":\"Line\"},\"hover_glyph\":null,\"nonselection_glyph\":{\"id\":\"66f53ed8-f2a8-4ddf-aa11-3de47db60db8\",\"type\":\"Line\"},\"selection_glyph\":null},\"id\":\"1fcb443d-0aec-4bd0-b0cc-f741a8855980\",\"type\":\"GlyphRenderer\"},{\"attributes\":{},\"id\":\"f514607a-a2d9-4f27-8426-d1ddf2fd4d17\",\"type\":\"BasicTickFormatter\"},{\"attributes\":{\"label\":{\"value\":\"0.3 Alpha\"},\"renderers\":[{\"id\":\"aadaf5fa-7257-42bd-b8eb-c95ab75197c9\",\"type\":\"GlyphRenderer\"}]},\"id\":\"95480db0-a4cc-4bf8-a325-8007303cc053\",\"type\":\"LegendItem\"},{\"attributes\":{\"label\":{\"value\":\"0.9 Alpha\"},\"renderers\":[{\"id\":\"3f3f444d-1c51-4093-8f41-4d0830920ed6\",\"type\":\"GlyphRenderer\"}]},\"id\":\"2f5ba49e-de7c-4a05-ab66-57b8eac4e2c5\",\"type\":\"LegendItem\"},{\"attributes\":{\"callback\":null,\"column_names\":[\"x\",\"y\"],\"data\":{\"x\":[0,1000,2000,3000,4000,5000,6000,7000,8000,9000,10000,11000,12000,13000,14000,15000,16000,17000,18000,19000,20000,21000,22000,23000,24000,25000,26000,27000,28000,29000,30000,31000,32000,33000,34000,35000,36000,37000,38000,39000,40000,41000,42000,43000,44000,45000,46000,47000,48000,49000,50000,51000,52000,53000,54000,55000,56000,57000,58000,59000,60000,61000,62000,63000,64000,65000,66000,67000,68000,69000,70000,71000,72000,73000,74000,75000,76000,77000,78000,79000,80000,81000,82000,83000,84000,85000,86000,87000,88000,89000,90000,91000,92000,93000,94000,95000,96000,97000,98000,99000,100000,101000,102000,103000,104000,105000,106000,107000,108000,109000,110000,111000,112000,113000,114000,115000,116000,117000,118000,119000,120000,121000,122000,123000,124000,125000,126000,127000,128000,129000,130000,131000,132000,133000,134000,135000,136000,137000,138000,139000,140000,141000,142000,143000,144000,145000,146000,147000,148000,149000,150000,151000,152000,153000,154000,155000,156000,157000,158000,159000,160000,161000,162000,163000,164000,165000,166000,167000,168000,169000,170000,171000,172000,173000,174000,175000,176000,177000,178000,179000,180000,181000,182000,183000,184000,185000,186000,187000,188000,189000,190000,191000,192000,193000,194000,195000,196000,197000,198000,199000,200000,201000,202000,203000,204000,205000,206000,207000,208000,209000,210000,211000,212000,213000,214000,215000,216000,217000,218000,219000,220000,221000,222000,223000,224000,225000,226000,227000,228000,229000,230000,231000,232000,233000,234000,235000,236000,237000,238000,239000,240000,241000,242000,243000,244000,245000,246000,247000,248000,249000,250000,251000,252000,253000,254000,255000,256000,257000,258000,259000,260000,261000,262000,263000,264000,265000,266000,267000,268000,269000,270000,271000,272000,273000,274000,275000,276000,277000,278000,279000,280000,281000,282000,283000,284000,285000,286000,287000,288000,289000,290000,291000,292000,293000,294000,295000,296000,297000,298000,299000,300000,301000,302000,303000,304000,305000,306000,307000,308000,309000,310000,311000,312000,313000,314000,315000,316000,317000,318000,319000,320000,321000,322000,323000,324000,325000,326000,327000,328000,329000,330000,331000,332000,333000,334000,335000,336000,337000,338000,339000,340000,341000,342000,343000,344000,345000,346000,347000,348000,349000,350000,351000,352000,353000,354000,355000,356000,357000,358000,359000,360000,361000,362000,363000,364000,365000,366000,367000,368000,369000,370000,371000,372000,373000,374000,375000,376000,377000,378000,379000,380000,381000,382000,383000,384000,385000,386000,387000,388000,389000,390000,391000,392000,393000,394000,395000,396000,397000,398000,399000,400000,401000,402000,403000,404000,405000,406000,407000,408000,409000,410000,411000,412000,413000,414000,415000,416000,417000,418000,419000,420000,421000,422000,423000,424000,425000,426000,427000,428000,429000,430000,431000,432000,433000,434000,435000,436000,437000,438000,439000,440000,441000,442000,443000,444000,445000,446000,447000,448000,449000,450000,451000,452000,453000,454000,455000,456000,457000,458000,459000,460000,461000,462000,463000,464000,465000,466000,467000,468000,469000,470000,471000,472000,473000,474000,475000,476000,477000,478000,479000,480000,481000,482000,483000,484000,485000,486000,487000,488000,489000,490000,491000,492000,493000,494000,495000,496000,497000,498000,499000,500000,501000,502000,503000,504000,505000,506000,507000,508000,509000,510000,511000,512000,513000,514000,515000,516000,517000,518000,519000,520000,521000,522000,523000,524000,525000,526000,527000,528000,529000,530000,531000,532000,533000,534000,535000,536000,537000,538000,539000,540000,541000,542000,543000,544000,545000,546000,547000,548000,549000,550000,551000,552000,553000,554000,555000,556000,557000,558000,559000,560000,561000,562000,563000,564000,565000,566000,567000,568000,569000,570000,571000,572000,573000,574000,575000,576000,577000,578000,579000,580000,581000,582000,583000,584000,585000,586000,587000,588000,589000,590000,591000,592000,593000,594000,595000,596000,597000,598000,599000,600000,601000,602000,603000,604000,605000,606000,607000,608000,609000,610000,611000,612000,613000,614000,615000,616000,617000,618000,619000,620000,621000,622000,623000,624000,625000,626000,627000,628000,629000,630000,631000,632000,633000,634000,635000,636000,637000,638000,639000,640000,641000,642000,643000,644000,645000,646000,647000,648000,649000,650000,651000,652000,653000,654000,655000,656000,657000,658000,659000,660000,661000,662000,663000,664000,665000,666000,667000,668000,669000,670000,671000,672000,673000,674000,675000,676000,677000,678000,679000,680000,681000,682000,683000,684000,685000,686000,687000,688000,689000,690000,691000,692000,693000,694000,695000,696000,697000,698000,699000,700000,701000,702000,703000,704000,705000,706000,707000,708000,709000,710000,711000,712000,713000,714000,715000,716000,717000,718000,719000,720000,721000,722000,723000,724000,725000,726000,727000,728000,729000,730000,731000,732000,733000,734000,735000,736000,737000,738000,739000,740000,741000,742000,743000,744000,745000,746000,747000,748000,749000,750000,751000,752000,753000,754000,755000,756000,757000,758000,759000,760000,761000,762000,763000,764000,765000,766000,767000,768000,769000,770000,771000,772000,773000,774000,775000,776000,777000,778000,779000,780000,781000,782000,783000,784000,785000,786000,787000,788000,789000,790000,791000,792000,793000,794000,795000,796000,797000,798000,799000,800000],\"y\":{\"__ndarray__\":\"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\",\"dtype\":\"float64\",\"shape\":[800]}}},\"id\":\"818ffeee-81ba-4311-943e-09613556f8c2\",\"type\":\"ColumnDataSource\"},{\"attributes\":{\"items\":[{\"id\":\"872c4de2-0688-48d2-9ab9-eb9eb26daa89\",\"type\":\"LegendItem\"},{\"id\":\"95480db0-a4cc-4bf8-a325-8007303cc053\",\"type\":\"LegendItem\"},{\"id\":\"5e8e4a51-e767-4dac-8bcf-61b8d88cfd84\",\"type\":\"LegendItem\"},{\"id\":\"36d1e5f1-16e7-400e-8577-bab1f0a5d50d\",\"type\":\"LegendItem\"},{\"id\":\"2f5ba49e-de7c-4a05-ab66-57b8eac4e2c5\",\"type\":\"LegendItem\"}],\"location\":[0,-30],\"plot\":{\"id\":\"5a18e79e-42be-41f5-9fa9-cf59440ed499\",\"subtype\":\"Figure\",\"type\":\"Plot\"}},\"id\":\"c68e5e4d-8291-41ff-8fd5-71b4e5f8a01d\",\"type\":\"Legend\"},{\"attributes\":{\"callback\":null,\"column_names\":[\"x\",\"y\"],\"data\":{\"x\":[0,1000,2000,3000,4000,5000,6000,7000,8000,9000,10000,11000,12000,13000,14000,15000,16000,17000,18000,19000,20000,21000,22000,23000,24000,25000,26000,27000,28000,29000,30000,31000,32000,33000,34000,35000,36000,37000,38000,39000,40000,41000,42000,43000,44000,45000,46000,47000,48000,49000,50000,51000,52000,53000,54000,55000,56000,57000,58000,59000,60000,61000,62000,63000,64000,65000,66000,67000,68000,69000,70000,71000,72000,73000,74000,75000,76000,77000,78000,79000,80000,81000,82000,83000,84000,85000,86000,87000,88000,89000,90000,91000,92000,93000,94000,95000,96000,97000,98000,99000,100000,101000,102000,103000,104000,105000,106000,107000,108000,109000,110000,111000,112000,113000,114000,115000,116000,117000,118000,119000,120000,121000,122000,123000,124000,125000,126000,127000,128000,129000,130000,131000,132000,133000,134000,135000,136000,137000,138000,139000,140000,141000,142000,143000,144000,145000,146000,147000,148000,149000,150000,151000,152000,153000,154000,155000,156000,157000,158000,159000,160000,161000,162000,163000,164000,165000,166000,167000,168000,169000,170000,171000,172000,173000,174000,175000,176000,177000,178000,179000,180000,181000,182000,183000,184000,185000,186000,187000,188000,189000,190000,191000,192000,193000,194000,195000,196000,197000,198000,199000,200000,201000,202000,203000,204000,205000,206000,207000,208000,209000,210000,211000,212000,213000,214000,215000,216000,217000,218000,219000,220000,221000,222000,223000,224000,225000,226000,227000,228000,229000,230000,231000,232000,233000,234000,235000,236000,237000,238000,239000,240000,241000,242000,243000,244000,245000,246000,247000,248000,249000,250000,251000,252000,253000,254000,255000,256000,257000,258000,259000,260000,261000,262000,263000,264000,265000,266000,267000,268000,269000,270000,271000,272000,273000,274000,275000,276000,277000,278000,279000,280000,281000,282000,283000,284000,285000,286000,287000,288000,289000,290000,291000,292000,293000,294000,295000,296000,297000,298000,299000,300000,301000,302000,303000,304000,305000,306000,307000,308000,309000,310000,311000,312000,313000,314000,315000,316000,317000,318000,319000,320000,321000,322000,323000,324000,325000,326000,327000,328000,329000,330000,331000,332000,333000,334000,335000,336000,337000,338000,339000,340000,341000,342000,343000,344000,345000,346000,347000,348000,349000,350000,351000,352000,353000,354000,355000,356000,357000,358000,359000,360000,361000,362000,363000,364000,365000,366000,367000,368000,369000,370000,371000,372000,373000,374000,375000,376000,377000,378000,379000,380000,381000,382000,383000,384000,385000,386000,387000,388000,389000,390000,391000,392000,393000,394000,395000,396000,397000,398000,399000,400000,401000,402000,403000,404000,405000,406000,407000,408000,409000,410000,411000,412000,413000,414000,415000,416000,417000,418000,419000,420000,421000,422000,423000,424000,425000,426000,427000,428000,429000,430000,431000,432000,433000,434000,435000,436000,437000,438000,439000,440000,441000,442000,443000,444000,445000,446000,447000,448000,449000,450000,451000,452000,453000,454000,455000,456000,457000,458000,459000,460000,461000,462000,463000,464000,465000,466000,467000,468000,469000,470000,471000,472000,473000,474000,475000,476000,477000,478000,479000,480000,481000,482000,483000,484000,485000,486000,487000,488000,489000,490000,491000,492000,493000,494000,495000,496000,497000,498000,499000,500000,501000,502000,503000,504000,505000,506000,507000,508000,509000,510000,511000,512000,513000,514000,515000,516000,517000,518000,519000,520000,521000,522000,523000,524000,525000,526000,527000,528000,529000,530000,531000,532000,533000,534000,535000,536000,537000,538000,539000,540000,541000,542000,543000,544000,545000,546000,547000,548000,549000,550000,551000,552000,553000,554000,555000,556000,557000,558000,559000,560000,561000,562000,563000,564000,565000,566000,567000,568000,569000,570000,571000,572000,573000,574000,575000,576000,577000,578000,579000,580000,581000,582000,583000,584000,585000,586000,587000,588000,589000,590000,591000,592000,593000,594000,595000,596000,597000,598000,599000,600000,601000,602000,603000,604000,605000,606000,607000,608000,609000,610000,611000,612000,613000,614000,615000,616000,617000,618000,619000,620000,621000,622000,623000,624000,625000,626000,627000,628000,629000,630000,631000,632000,633000,634000,635000,636000,637000,638000,639000,640000,641000,642000,643000,644000,645000,646000,647000,648000,649000,650000,651000,652000,653000,654000,655000,656000,657000,658000,659000,660000,661000,662000,663000,664000,665000,666000,667000,668000,669000,670000,671000,672000,673000,674000,675000,676000,677000,678000,679000,680000,681000,682000,683000,684000,685000,686000,687000,688000,689000,690000,691000,692000,693000,694000,695000,696000,697000,698000,699000,700000,701000,702000,703000,704000,705000,706000,707000,708000,709000,710000,711000,712000,713000,714000,715000,716000,717000,718000,719000,720000,721000,722000,723000,724000,725000,726000,727000,728000,729000,730000,731000,732000,733000,734000,735000,736000,737000,738000,739000,740000,741000,742000,743000,744000,745000,746000,747000,748000,749000,750000,751000,752000,753000,754000,755000,756000,757000,758000,759000,760000,761000,762000,763000,764000,765000,766000,767000,768000,769000,770000,771000,772000,773000,774000,775000,776000,777000,778000,779000,780000,781000,782000,783000,784000,785000,786000,787000,788000,789000,790000,791000,792000,793000,794000,795000,796000,797000,798000,799000,800000],\"y\":{\"__ndarray__\":\"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\",\"dtype\":\"float64\",\"shape\":[800]}}},\"id\":\"872bae5b-3373-4824-b5a0-a8efd5505bff\",\"type\":\"ColumnDataSource\"},{\"attributes\":{\"callback\":null,\"column_names\":[\"x\",\"y\"],\"data\":{\"x\":[0,1000,2000,3000,4000,5000,6000,7000,8000,9000,10000,11000,12000,13000,14000,15000,16000,17000,18000,19000,20000,21000,22000,23000,24000,25000,26000,27000,28000,29000,30000,31000,32000,33000,34000,35000,36000,37000,38000,39000,40000,41000,42000,43000,44000,45000,46000,47000,48000,49000,50000,51000,52000,53000,54000,55000,56000,57000,58000,59000,60000,61000,62000,63000,64000,65000,66000,67000,68000,69000,70000,71000,72000,73000,74000,75000,76000,77000,78000,79000,80000,81000,82000,83000,84000,85000,86000,87000,88000,89000,90000,91000,92000,93000,94000,95000,96000,97000,98000,99000,100000,101000,102000,103000,104000,105000,106000,107000,108000,109000,110000,111000,112000,113000,114000,115000,116000,117000,118000,119000,120000,121000,122000,123000,124000,125000,126000,127000,128000,129000,130000,131000,132000,133000,134000,135000,136000,137000,138000,139000,140000,141000,142000,143000,144000,145000,146000,147000,148000,149000,150000,151000,152000,153000,154000,155000,156000,157000,158000,159000,160000,161000,162000,163000,164000,165000,166000,167000,168000,169000,170000,171000,172000,173000,174000,175000,176000,177000,178000,179000,180000,181000,182000,183000,184000,185000,186000,187000,188000,189000,190000,191000,192000,193000,194000,195000,196000,197000,198000,199000,200000,201000,202000,203000,204000,205000,206000,207000,208000,209000,210000,211000,212000,213000,214000,215000,216000,217000,218000,219000,220000,221000,222000,223000,224000,225000,226000,227000,228000,229000,230000,231000,232000,233000,234000,235000,236000,237000,238000,239000,240000,241000,242000,243000,244000,245000,246000,247000,248000,249000,250000,251000,252000,253000,254000,255000,256000,257000,258000,259000,260000,261000,262000,263000,264000,265000,266000,267000,268000,269000,270000,271000,272000,273000,274000,275000,276000,277000,278000,279000,280000,281000,282000,283000,284000,285000,286000,287000,288000,289000,290000,291000,292000,293000,294000,295000,296000,297000,298000,299000,300000,301000,302000,303000,304000,305000,306000,307000,308000,309000,310000,311000,312000,313000,314000,315000,316000,317000,318000,319000,320000,321000,322000,323000,324000,325000,326000,327000,328000,329000,330000,331000,332000,333000,334000,335000,336000,337000,338000,339000,340000,341000,342000,343000,344000,345000,346000,347000,348000,349000,350000,351000,352000,353000,354000,355000,356000,357000,358000,359000,360000,361000,362000,363000,364000,365000,366000,367000,368000,369000,370000,371000,372000,373000,374000,375000,376000,377000,378000,379000,380000,381000,382000,383000,384000,385000,386000,387000,388000,389000,390000,391000,392000,393000,394000,395000,396000,397000,398000,399000,400000,401000,402000,403000,404000,405000,406000,407000,408000,409000,410000,411000,412000,413000,414000,415000,416000,417000,418000,419000,420000,421000,422000,423000,424000,425000,426000,427000,428000,429000,430000,431000,432000,433000,434000,435000,436000,437000,438000,439000,440000,441000,442000,443000,444000,445000,446000,447000,448000,449000,450000,451000,452000,453000,454000,455000,456000,457000,458000,459000,460000,461000,462000,463000,464000,465000,466000,467000,468000,469000,470000,471000,472000,473000,474000,475000,476000,477000,478000,479000,480000,481000,482000,483000,484000,485000,486000,487000,488000,489000,490000,491000,492000,493000,494000,495000,496000,497000,498000,499000,500000,501000,502000,503000,504000,505000,506000,507000,508000,509000,510000,511000,512000,513000,514000,515000,516000,517000,518000,519000,520000,521000,522000,523000,524000,525000,526000,527000,528000,529000,530000,531000,532000,533000,534000,535000,536000,537000,538000,539000,540000,541000,542000,543000,544000,545000,546000,547000,548000,549000,550000,551000,552000,553000,554000,555000,556000,557000,558000,559000,560000,561000,562000,563000,564000,565000,566000,567000,568000,569000,570000,571000,572000,573000,574000,575000,576000,577000,578000,579000,580000,581000,582000,583000,584000,585000,586000,587000,588000,589000,590000,591000,592000,593000,594000,595000,596000,597000,598000,599000,600000,601000,602000,603000,604000,605000,606000,607000,608000,609000,610000,611000,612000,613000,614000,615000,616000,617000,618000,619000,620000,621000,622000,623000,624000,625000,626000,627000,628000,629000,630000,631000,632000,633000,634000,635000,636000,637000,638000,639000,640000,641000,642000,643000,644000,645000,646000,647000,648000,649000,650000,651000,652000,653000,654000,655000,656000,657000,658000,659000,660000,661000,662000,663000,664000,665000,666000,667000,668000,669000,670000,671000,672000,673000,674000,675000,676000,677000,678000,679000,680000,681000,682000,683000,684000,685000,686000,687000,688000,689000,690000,691000,692000,693000,694000,695000,696000,697000,698000,699000,700000,701000,702000,703000,704000,705000,706000,707000,708000,709000,710000,711000,712000,713000,714000,715000,716000,717000,718000,719000,720000,721000,722000,723000,724000,725000,726000,727000,728000,729000,730000,731000,732000,733000,734000,735000,736000,737000,738000,739000,740000,741000,742000,743000,744000,745000,746000,747000,748000,749000,750000,751000,752000,753000,754000,755000,756000,757000,758000,759000,760000,761000,762000,763000,764000,765000,766000,767000,768000,769000,770000,771000,772000,773000,774000,775000,776000,777000,778000,779000,780000,781000,782000,783000,784000,785000,786000,787000,788000,789000,790000,791000,792000,793000,794000,795000,796000,797000,798000,799000,800000],\"y\":{\"__ndarray__\":\"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\",\"dtype\":\"float64\",\"shape\":[800]}}},\"id\":\"85097302-607c-428b-9e58-4684e132da1f\",\"type\":\"ColumnDataSource\"},{\"attributes\":{\"line_color\":{\"value\":\"#984ea3\"},\"line_width\":{\"value\":2},\"x\":{\"field\":\"x\"},\"y\":{\"field\":\"y\"}},\"id\":\"98c7c874-6773-4847-8630-9b38cb646d31\",\"type\":\"Line\"},{\"attributes\":{\"line_alpha\":{\"value\":0.1},\"line_color\":{\"value\":\"#1f77b4\"},\"line_width\":{\"value\":2},\"x\":{\"field\":\"x\"},\"y\":{\"field\":\"y\"}},\"id\":\"9a51f726-e72f-46f5-9b3c-27e52361f17d\",\"type\":\"Line\"},{\"attributes\":{\"fill_alpha\":{\"value\":0.1},\"fill_color\":{\"value\":\"#4daf4a\"},\"line_alpha\":{\"value\":0.1},\"line_color\":{\"value\":\"#4daf4a\"},\"x\":{\"field\":\"x\"},\"y\":{\"field\":\"y\"}},\"id\":\"69d3dc25-3a48-429f-aa38-a4cbb1e75f38\",\"type\":\"Patch\"},{\"attributes\":{\"use_scientific\":false},\"id\":\"d19cae62-36ff-4322-8504-bffaa8c76256\",\"type\":\"BasicTickFormatter\"},{\"attributes\":{\"data_source\":{\"id\":\"85097302-607c-428b-9e58-4684e132da1f\",\"type\":\"ColumnDataSource\"},\"glyph\":{\"id\":\"98c7c874-6773-4847-8630-9b38cb646d31\",\"type\":\"Line\"},\"hover_glyph\":null,\"nonselection_glyph\":{\"id\":\"9a51f726-e72f-46f5-9b3c-27e52361f17d\",\"type\":\"Line\"},\"selection_glyph\":null},\"id\":\"6ca5006d-df62-4ff6-8efc-ae4e36d58381\",\"type\":\"GlyphRenderer\"},{\"attributes\":{\"plot\":{\"id\":\"5a18e79e-42be-41f5-9fa9-cf59440ed499\",\"subtype\":\"Figure\",\"type\":\"Plot\"}},\"id\":\"e5fd3e59-f695-4150-a435-1b188329fc83\",\"type\":\"HelpTool\"},{\"attributes\":{\"axis_label\":\"T\",\"formatter\":{\"id\":\"d19cae62-36ff-4322-8504-bffaa8c76256\",\"type\":\"BasicTickFormatter\"},\"plot\":{\"id\":\"5a18e79e-42be-41f5-9fa9-cf59440ed499\",\"subtype\":\"Figure\",\"type\":\"Plot\"},\"ticker\":{\"id\":\"fcc4c9bd-c2ad-48a9-930a-da579fd81787\",\"type\":\"BasicTicker\"}},\"id\":\"518413c9-229f-4818-a60f-f91d62d66aca\",\"type\":\"LinearAxis\"},{\"attributes\":{\"fill_alpha\":{\"value\":0.1},\"fill_color\":{\"value\":\"#ff7f00\"},\"line_alpha\":{\"value\":0.1},\"line_color\":{\"value\":\"#ff7f00\"},\"x\":{\"field\":\"x\"},\"y\":{\"field\":\"y\"}},\"id\":\"42c3dbce-ea56-4f77-b233-5f6696d9f98f\",\"type\":\"Patch\"},{\"attributes\":{\"fill_alpha\":{\"value\":0.1},\"fill_color\":{\"value\":\"#1f77b4\"},\"line_alpha\":{\"value\":0.1},\"line_color\":{\"value\":\"#1f77b4\"},\"x\":{\"field\":\"x\"},\"y\":{\"field\":\"y\"}},\"id\":\"03f6e9d4-6ad8-4b76-b61c-06582924c6b3\",\"type\":\"Patch\"},{\"attributes\":{\"label\":{\"value\":\"0.1 Alpha\"},\"renderers\":[{\"id\":\"e1e6e1f0-c1ba-4cd7-ac53-11c283684cca\",\"type\":\"GlyphRenderer\"}]},\"id\":\"872c4de2-0688-48d2-9ab9-eb9eb26daa89\",\"type\":\"LegendItem\"},{\"attributes\":{\"line_color\":{\"value\":\"#377eb8\"},\"line_width\":{\"value\":2},\"x\":{\"field\":\"x\"},\"y\":{\"field\":\"y\"}},\"id\":\"bad718f7-1e21-4e26-8fce-7777ee635e93\",\"type\":\"Line\"}],\"root_ids\":[\"5a18e79e-42be-41f5-9fa9-cf59440ed499\"]},\"title\":\"Bokeh Application\",\"version\":\"0.12.4\"}};\n",
       "            var render_items = [{\"docid\":\"f4cf98e2-62b1-488a-b7a0-1ad774a762ee\",\"elementid\":\"2339dcbc-0509-417f-83d8-7dd877251d99\",\"modelid\":\"5a18e79e-42be-41f5-9fa9-cf59440ed499\"}];\n",
       "            \n",
       "            Bokeh.embed.embed_items(docs_json, render_items);\n",
       "          };\n",
       "          if (document.readyState != \"loading\") fn();\n",
       "          else document.addEventListener(\"DOMContentLoaded\", fn);\n",
       "        })();\n",
       "      },\n",
       "      function(Bokeh) {\n",
       "      }\n",
       "    ];\n",
       "  \n",
       "    function run_inline_js() {\n",
       "      \n",
       "      if ((window.Bokeh !== undefined) || (force === true)) {\n",
       "        for (var i = 0; i < inline_js.length; i++) {\n",
       "          inline_js[i](window.Bokeh);\n",
       "        }if (force === true) {\n",
       "          display_loaded();\n",
       "        }} else if (Date.now() < window._bokeh_timeout) {\n",
       "        setTimeout(run_inline_js, 100);\n",
       "      } else if (!window._bokeh_failed_load) {\n",
       "        console.log(\"Bokeh: BokehJS failed to load within specified timeout.\");\n",
       "        window._bokeh_failed_load = true;\n",
       "      } else if (force !== true) {\n",
       "        var cell = $(document.getElementById(\"2339dcbc-0509-417f-83d8-7dd877251d99\")).parents('.cell').data().cell;\n",
       "        cell.output_area.append_execute_result(NB_LOAD_WARNING)\n",
       "      }\n",
       "  \n",
       "    }\n",
       "  \n",
       "    if (window._bokeh_is_loading === 0) {\n",
       "      console.log(\"Bokeh: BokehJS loaded, going straight to plotting\");\n",
       "      run_inline_js();\n",
       "    } else {\n",
       "      load_libs(js_urls, function() {\n",
       "        console.log(\"Bokeh: BokehJS plotting callback run at\", now());\n",
       "        run_inline_js();\n",
       "      });\n",
       "    }\n",
       "  }(this));\n",
       "</script>"
      ]
     },
     "metadata": {},
     "output_type": "display_data"
    }
   ],
   "source": [
    "plot_averages_b(names, t_maxs, colours, legends, directories, step=1000, title=env, min_max=False)\n",
    "plot_states(names, t_maxs, colours, legends, directories, step=1000, title=env)"
   ]
  },
  {
   "cell_type": "code",
   "execution_count": null,
   "metadata": {
    "collapsed": true,
    "deletable": true,
    "editable": true
   },
   "outputs": [],
   "source": []
  },
  {
   "cell_type": "code",
   "execution_count": null,
   "metadata": {
    "collapsed": true,
    "deletable": true,
    "editable": true
   },
   "outputs": [],
   "source": []
  },
  {
   "cell_type": "code",
   "execution_count": null,
   "metadata": {
    "collapsed": true,
    "deletable": true,
    "editable": true
   },
   "outputs": [],
   "source": [
    "DQN_Smoothed = []\n",
    "for times, rewards in zip(DQN_Lengths_C, DQN_Rewards):\n",
    "    linear = interp1d(times, rewards, kind=\"linear\")\n",
    "    linear_rewards = linear([i for i in range(500000)])\n",
    "    DQN_Smoothed.append(linear_rewards)"
   ]
  },
  {
   "cell_type": "code",
   "execution_count": null,
   "metadata": {
    "collapsed": true,
    "deletable": true,
    "editable": true
   },
   "outputs": [],
   "source": [
    "DQN_Means = np.mean(DQN_Smoothed, axis=0)"
   ]
  },
  {
   "cell_type": "code",
   "execution_count": null,
   "metadata": {
    "collapsed": true,
    "deletable": true,
    "editable": true
   },
   "outputs": [],
   "source": [
    "DQN_Stds = np.std(DQN_Smoothed, axis=0)"
   ]
  },
  {
   "cell_type": "code",
   "execution_count": null,
   "metadata": {
    "collapsed": false,
    "deletable": true,
    "editable": true
   },
   "outputs": [],
   "source": [
    "plt.fill_between([i for i in range(500000)], DQN_Means - DQN_Stds, DQN_Means + DQN_Stds, color=\"red\", alpha=0.3, edgecolor=\"white\")\n",
    "\n",
    "plt.plot([i for i in range(500000)], DQN_Means, color=\"red\")"
   ]
  },
  {
   "cell_type": "code",
   "execution_count": null,
   "metadata": {
    "collapsed": false,
    "deletable": true,
    "editable": true
   },
   "outputs": [],
   "source": [
    "len(DQN_Repeat)"
   ]
  },
  {
   "cell_type": "code",
   "execution_count": null,
   "metadata": {
    "collapsed": true,
    "deletable": true,
    "editable": true
   },
   "outputs": [],
   "source": [
    "plt.plot(DQN)"
   ]
  },
  {
   "cell_type": "code",
   "execution_count": null,
   "metadata": {
    "collapsed": true,
    "deletable": true,
    "editable": true
   },
   "outputs": [],
   "source": [
    "directories = [\"Logs/\"]"
   ]
  },
  {
   "cell_type": "code",
   "execution_count": null,
   "metadata": {
    "collapsed": false,
    "deletable": true,
    "editable": true
   },
   "outputs": [],
   "source": [
    "for i in range(0, 10, 2):\n",
    "    print(i)"
   ]
  },
  {
   "cell_type": "code",
   "execution_count": null,
   "metadata": {
    "collapsed": true,
    "deletable": true,
    "editable": true
   },
   "outputs": [],
   "source": []
  }
 ],
 "metadata": {
  "kernelspec": {
   "display_name": "Python 3",
   "language": "python",
   "name": "python3"
  },
  "language_info": {
   "codemirror_mode": {
    "name": "ipython",
    "version": 3
   },
   "file_extension": ".py",
   "mimetype": "text/x-python",
   "name": "python",
   "nbconvert_exporter": "python",
   "pygments_lexer": "ipython3",
   "version": "3.5.3"
  }
 },
 "nbformat": 4,
 "nbformat_minor": 2
}
