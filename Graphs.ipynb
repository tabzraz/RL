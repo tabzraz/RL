{
 "cells": [
  {
   "cell_type": "code",
   "execution_count": 3,
   "metadata": {
    "collapsed": false
   },
   "outputs": [
    {
     "data": {
      "text/html": [
       "\n",
       "    <div class=\"bk-root\">\n",
       "        <a href=\"http://bokeh.pydata.org\" target=\"_blank\" class=\"bk-logo bk-logo-small bk-logo-notebook\"></a>\n",
       "        <span id=\"859ccac0-effe-414f-b417-e30160769c66\">Loading BokehJS ...</span>\n",
       "    </div>"
      ]
     },
     "metadata": {},
     "output_type": "display_data"
    },
    {
     "data": {
      "application/javascript": [
       "\n",
       "(function(global) {\n",
       "  function now() {\n",
       "    return new Date();\n",
       "  }\n",
       "\n",
       "  var force = true;\n",
       "\n",
       "  if (typeof (window._bokeh_onload_callbacks) === \"undefined\" || force === true) {\n",
       "    window._bokeh_onload_callbacks = [];\n",
       "    window._bokeh_is_loading = undefined;\n",
       "  }\n",
       "\n",
       "\n",
       "  \n",
       "  if (typeof (window._bokeh_timeout) === \"undefined\" || force === true) {\n",
       "    window._bokeh_timeout = Date.now() + 5000;\n",
       "    window._bokeh_failed_load = false;\n",
       "  }\n",
       "\n",
       "  var NB_LOAD_WARNING = {'data': {'text/html':\n",
       "     \"<div style='background-color: #fdd'>\\n\"+\n",
       "     \"<p>\\n\"+\n",
       "     \"BokehJS does not appear to have successfully loaded. If loading BokehJS from CDN, this \\n\"+\n",
       "     \"may be due to a slow or bad network connection. Possible fixes:\\n\"+\n",
       "     \"</p>\\n\"+\n",
       "     \"<ul>\\n\"+\n",
       "     \"<li>re-rerun `output_notebook()` to attempt to load from CDN again, or</li>\\n\"+\n",
       "     \"<li>use INLINE resources instead, as so:</li>\\n\"+\n",
       "     \"</ul>\\n\"+\n",
       "     \"<code>\\n\"+\n",
       "     \"from bokeh.resources import INLINE\\n\"+\n",
       "     \"output_notebook(resources=INLINE)\\n\"+\n",
       "     \"</code>\\n\"+\n",
       "     \"</div>\"}};\n",
       "\n",
       "  function display_loaded() {\n",
       "    if (window.Bokeh !== undefined) {\n",
       "      document.getElementById(\"859ccac0-effe-414f-b417-e30160769c66\").textContent = \"BokehJS successfully loaded.\";\n",
       "    } else if (Date.now() < window._bokeh_timeout) {\n",
       "      setTimeout(display_loaded, 100)\n",
       "    }\n",
       "  }\n",
       "\n",
       "  function run_callbacks() {\n",
       "    window._bokeh_onload_callbacks.forEach(function(callback) { callback() });\n",
       "    delete window._bokeh_onload_callbacks\n",
       "    console.info(\"Bokeh: all callbacks have finished\");\n",
       "  }\n",
       "\n",
       "  function load_libs(js_urls, callback) {\n",
       "    window._bokeh_onload_callbacks.push(callback);\n",
       "    if (window._bokeh_is_loading > 0) {\n",
       "      console.log(\"Bokeh: BokehJS is being loaded, scheduling callback at\", now());\n",
       "      return null;\n",
       "    }\n",
       "    if (js_urls == null || js_urls.length === 0) {\n",
       "      run_callbacks();\n",
       "      return null;\n",
       "    }\n",
       "    console.log(\"Bokeh: BokehJS not loaded, scheduling load and callback at\", now());\n",
       "    window._bokeh_is_loading = js_urls.length;\n",
       "    for (var i = 0; i < js_urls.length; i++) {\n",
       "      var url = js_urls[i];\n",
       "      var s = document.createElement('script');\n",
       "      s.src = url;\n",
       "      s.async = false;\n",
       "      s.onreadystatechange = s.onload = function() {\n",
       "        window._bokeh_is_loading--;\n",
       "        if (window._bokeh_is_loading === 0) {\n",
       "          console.log(\"Bokeh: all BokehJS libraries loaded\");\n",
       "          run_callbacks()\n",
       "        }\n",
       "      };\n",
       "      s.onerror = function() {\n",
       "        console.warn(\"failed to load library \" + url);\n",
       "      };\n",
       "      console.log(\"Bokeh: injecting script tag for BokehJS library: \", url);\n",
       "      document.getElementsByTagName(\"head\")[0].appendChild(s);\n",
       "    }\n",
       "  };var element = document.getElementById(\"859ccac0-effe-414f-b417-e30160769c66\");\n",
       "  if (element == null) {\n",
       "    console.log(\"Bokeh: ERROR: autoload.js configured with elementid '859ccac0-effe-414f-b417-e30160769c66' but no matching script tag was found. \")\n",
       "    return false;\n",
       "  }\n",
       "\n",
       "  var js_urls = [\"https://cdn.pydata.org/bokeh/release/bokeh-0.12.4.min.js\", \"https://cdn.pydata.org/bokeh/release/bokeh-widgets-0.12.4.min.js\"];\n",
       "\n",
       "  var inline_js = [\n",
       "    function(Bokeh) {\n",
       "      Bokeh.set_log_level(\"info\");\n",
       "    },\n",
       "    \n",
       "    function(Bokeh) {\n",
       "      \n",
       "      document.getElementById(\"859ccac0-effe-414f-b417-e30160769c66\").textContent = \"BokehJS is loading...\";\n",
       "    },\n",
       "    function(Bokeh) {\n",
       "      console.log(\"Bokeh: injecting CSS: https://cdn.pydata.org/bokeh/release/bokeh-0.12.4.min.css\");\n",
       "      Bokeh.embed.inject_css(\"https://cdn.pydata.org/bokeh/release/bokeh-0.12.4.min.css\");\n",
       "      console.log(\"Bokeh: injecting CSS: https://cdn.pydata.org/bokeh/release/bokeh-widgets-0.12.4.min.css\");\n",
       "      Bokeh.embed.inject_css(\"https://cdn.pydata.org/bokeh/release/bokeh-widgets-0.12.4.min.css\");\n",
       "    }\n",
       "  ];\n",
       "\n",
       "  function run_inline_js() {\n",
       "    \n",
       "    if ((window.Bokeh !== undefined) || (force === true)) {\n",
       "      for (var i = 0; i < inline_js.length; i++) {\n",
       "        inline_js[i](window.Bokeh);\n",
       "      }if (force === true) {\n",
       "        display_loaded();\n",
       "      }} else if (Date.now() < window._bokeh_timeout) {\n",
       "      setTimeout(run_inline_js, 100);\n",
       "    } else if (!window._bokeh_failed_load) {\n",
       "      console.log(\"Bokeh: BokehJS failed to load within specified timeout.\");\n",
       "      window._bokeh_failed_load = true;\n",
       "    } else if (force !== true) {\n",
       "      var cell = $(document.getElementById(\"859ccac0-effe-414f-b417-e30160769c66\")).parents('.cell').data().cell;\n",
       "      cell.output_area.append_execute_result(NB_LOAD_WARNING)\n",
       "    }\n",
       "\n",
       "  }\n",
       "\n",
       "  if (window._bokeh_is_loading === 0) {\n",
       "    console.log(\"Bokeh: BokehJS loaded, going straight to plotting\");\n",
       "    run_inline_js();\n",
       "  } else {\n",
       "    load_libs(js_urls, function() {\n",
       "      console.log(\"Bokeh: BokehJS plotting callback run at\", now());\n",
       "      run_inline_js();\n",
       "    });\n",
       "  }\n",
       "}(this));"
      ]
     },
     "metadata": {},
     "output_type": "display_data"
    }
   ],
   "source": [
    "from bokeh.plotting import figure, output_notebook, show\n",
    "output_notebook()"
   ]
  },
  {
   "cell_type": "code",
   "execution_count": 4,
   "metadata": {
    "collapsed": true
   },
   "outputs": [],
   "source": [
    "import glob"
   ]
  },
  {
   "cell_type": "code",
   "execution_count": 5,
   "metadata": {
    "collapsed": true
   },
   "outputs": [],
   "source": [
    "import numpy as np"
   ]
  },
  {
   "cell_type": "code",
   "execution_count": 6,
   "metadata": {
    "collapsed": true
   },
   "outputs": [],
   "source": [
    "from scipy.interpolate import interp1d\n",
    "from scipy.interpolate import spline"
   ]
  },
  {
   "cell_type": "code",
   "execution_count": 7,
   "metadata": {
    "collapsed": true
   },
   "outputs": [],
   "source": [
    "from tqdm import tqdm"
   ]
  },
  {
   "cell_type": "code",
   "execution_count": 7,
   "metadata": {
    "collapsed": true
   },
   "outputs": [],
   "source": [
    "DQN_Rewards_Path = \"/home/tabz/Dropbox/RL/Log_Files/March 2017/Maze_5_Batch_Sizes_Logs/*DQN*/logs/Episode_Rewards.txt\"\n",
    "DQN_Lengths_Path = \"/home/tabz/Dropbox/RL/Log_Files/March 2017/Maze_5_Batch_Sizes_Logs/*DQN*/logs/Episode_Lengths.txt\"\n",
    "DQN_Rewards = []\n",
    "DQN_Lengths = []\n",
    "DQN_Lengths_C = []"
   ]
  },
  {
   "cell_type": "code",
   "execution_count": 8,
   "metadata": {
    "collapsed": true
   },
   "outputs": [],
   "source": [
    "for filename in glob.glob(DQN_Rewards_Path):\n",
    "    run_logs = [0]\n",
    "#     print(filename)\n",
    "    with open(filename, \"r\") as f:\n",
    "        for line in f:\n",
    "            try:\n",
    "                ep_r = float(line)\n",
    "            except:\n",
    "                continue\n",
    "            run_logs.append(ep_r)\n",
    "    DQN_Rewards.append(run_logs)"
   ]
  },
  {
   "cell_type": "code",
   "execution_count": 9,
   "metadata": {
    "collapsed": true
   },
   "outputs": [],
   "source": [
    "for filename in glob.glob(DQN_Lengths_Path):\n",
    "    run_logs = [0]\n",
    "#     print(filename)\n",
    "    with open(filename, \"r\") as f:\n",
    "        for line in f:\n",
    "            try:\n",
    "                ep_r = float(line)\n",
    "            except:\n",
    "                continue\n",
    "            run_logs.append(ep_r)\n",
    "    DQN_Lengths.append(run_logs)\n",
    "    run_logs_c = np.cumsum(run_logs).astype(np.int32)\n",
    "    DQN_Lengths_C.append(run_logs_c)"
   ]
  },
  {
   "cell_type": "markdown",
   "metadata": {
    "collapsed": false
   },
   "source": [
    "for lens, runs in zip(DQN_Lengths_C, DQN_Rewards):\n",
    "    plt.plot(lens, runs)\n",
    "plt.show()"
   ]
  },
  {
   "cell_type": "markdown",
   "metadata": {
    "collapsed": false
   },
   "source": [
    "p = figure(width=500, height=500, y_range=(-1,3))\n",
    "for lens, runs in zip(DQN_Lengths_C, DQN_Rewards):\n",
    "    p.line(lens, runs)\n",
    "show(p)"
   ]
  },
  {
   "cell_type": "code",
   "execution_count": null,
   "metadata": {
    "collapsed": true
   },
   "outputs": [],
   "source": []
  },
  {
   "cell_type": "markdown",
   "metadata": {
    "collapsed": true
   },
   "source": [
    "def plot_averages(names, t_maxs, colors, legends=None, directory=\"Logs/\", step=10):\n",
    "    plt.figure(figsize=(10,10))\n",
    "    plt.ylim(-1, 3)\n",
    "    for name, color, t_max in tqdm(zip(names, colors, t_maxs)):\n",
    "        # TODO: Remove DQN from names\n",
    "        DQN_Rewards_Path = directory + \"*\" + name + \"*/logs/Episode_Rewards.txt\"\n",
    "        DQN_Lengths_Path = directory + \"*\" + name + \"*/logs/Episode_Lengths.txt\"\n",
    "        DQN_Rewards = []\n",
    "        DQN_Lengths = []\n",
    "        DQN_Lengths_C = []\n",
    "        for filename in glob.glob(DQN_Rewards_Path):\n",
    "            run_logs = [0]\n",
    "            with open(filename, \"r\") as f:\n",
    "                for line in f:\n",
    "                    try:\n",
    "                        ep_r = float(line)\n",
    "                    except:\n",
    "                        continue\n",
    "                    run_logs.append(ep_r)\n",
    "            DQN_Rewards.append(run_logs)\n",
    "        for filename in glob.glob(DQN_Lengths_Path):\n",
    "            run_logs = [0]\n",
    "        #     print(filename)\n",
    "            with open(filename, \"r\") as f:\n",
    "                for line in f:\n",
    "                    try:\n",
    "                        ep_r = float(line)\n",
    "                    except:\n",
    "                        continue\n",
    "                    run_logs.append(ep_r)\n",
    "            DQN_Lengths.append(run_logs)\n",
    "            run_logs_c = np.cumsum(run_logs).astype(np.int32)\n",
    "            DQN_Lengths_C.append(run_logs_c)\n",
    "        DQN_Smoothed = []\n",
    "        for times, rewards in zip(DQN_Lengths_C, DQN_Rewards):\n",
    "#             linear = interp1d(times, rewards, kind=\"linear\")\n",
    "#             linear_rewards = linear([i for i in range(500000)])\n",
    "#             DQN_Smoothed.append(linear_rewards)\n",
    "            spline_rewards = spline(times, rewards, [i for i in range(0, t_max, step)])\n",
    "            DQN_Smoothed.append(spline_rewards)\n",
    "        DQN_Means = np.mean(DQN_Smoothed, axis=0)\n",
    "        DQN_Stds = np.std(DQN_Smoothed, axis=0)\n",
    "        plt.fill_between([i for i in range(0, t_max, step)], DQN_Means - DQN_Stds, DQN_Means + DQN_Stds, color=color, alpha=0.2, edgecolor=\"white\")\n",
    "\n",
    "        plt.plot([i for i in range(0, t_max, step)], DQN_Means, color=color)\n",
    "\n",
    "    plt.title(\"Episode_Reward\")\n",
    "    plt.xlabel(\"T\")\n",
    "    plt.ylabel(\"Reward\")\n",
    "    if legends is not None:\n",
    "        plt.legend(legends, bbox_to_anchor=(1.05, 1), loc=2)\n",
    "    plt.show()"
   ]
  },
  {
   "cell_type": "code",
   "execution_count": 8,
   "metadata": {
    "collapsed": true
   },
   "outputs": [],
   "source": [
    "from bokeh.models import Legend\n",
    "from bokeh.models.formatters import BasicTickFormatter\n",
    "from bokeh.models import HoverTool, TapTool"
   ]
  },
  {
   "cell_type": "code",
   "execution_count": 9,
   "metadata": {
    "collapsed": false
   },
   "outputs": [],
   "source": [
    "def plot_averages_b(names, t_maxs, colors, legends, directories=\"Logs/\", step=10, title=\"\"):\n",
    "#     plt.figure(figsize=(10,10))\n",
    "    p = figure(width=1200, height=800, y_range=(-1.2, 3.2), title=title)\n",
    "    p.toolbar_location = \"above\"\n",
    "    p.yaxis.axis_label = \"Episode Reward\"\n",
    "    p.xaxis.axis_label = \"T\"\n",
    "    p.xaxis.formatter = BasicTickFormatter(use_scientific=False)\n",
    "#     p = figure(width=800, height=500)\n",
    "    lines = []\n",
    "    alpha_lines = []\n",
    "    if isinstance(directories, str):\n",
    "        dd = directories\n",
    "        directories = [dd for _ in names]\n",
    "    for name, color, t_max, legend, directory in zip(names, colors, t_maxs, legends, directories):\n",
    "#         print(directory)\n",
    "        DQN_Rewards_Path = directory + \"*\" + name + \"*/logs/Episode_Rewards.txt\"\n",
    "        DQN_Lengths_Path = directory + \"*\" + name + \"*/logs/Episode_Lengths.txt\"\n",
    "        DQN_Rewards = []\n",
    "        DQN_Lengths = []\n",
    "        DQN_Lengths_C = []\n",
    "        for filename in glob.glob(DQN_Rewards_Path):\n",
    "            run_logs = [0]\n",
    "            with open(filename, \"r\") as f:\n",
    "#                 print(f)\n",
    "                for line in f:\n",
    "                    try:\n",
    "                        ep_r = float(line)\n",
    "                    except:\n",
    "                        print(\"Nothing here for:\", filename)\n",
    "                        continue\n",
    "                    run_logs.append(ep_r)\n",
    "            DQN_Rewards.append(run_logs)\n",
    "        for filename in glob.glob(DQN_Lengths_Path):\n",
    "            run_logs = [0]\n",
    "        #     print(filename)\n",
    "            with open(filename, \"r\") as f:\n",
    "                for line in f:\n",
    "                    try:\n",
    "                        ep_r = float(line)\n",
    "                    except:\n",
    "                        continue\n",
    "                    run_logs.append(ep_r)\n",
    "            DQN_Lengths.append(run_logs)\n",
    "            run_logs_c = np.cumsum(run_logs).astype(np.int32)\n",
    "            DQN_Lengths_C.append(run_logs_c)\n",
    "        DQN_Smoothed = []\n",
    "        for times, rewards in zip(DQN_Lengths_C, DQN_Rewards):\n",
    "#             linear = interp1d(times, rewards, kind=\"linear\")\n",
    "#             linear_rewards = linear([i for i in range(500000)])\n",
    "#             DQN_Smoothed.append(linear_rewards)\n",
    "            spline_rewards = spline(times, rewards, [i for i in range(0, t_max, step)], order=1)\n",
    "            DQN_Smoothed.append(spline_rewards)\n",
    "        DQN_Means = np.mean(DQN_Smoothed, axis=0)\n",
    "        DQN_Stds = np.std(DQN_Smoothed, axis=0)\n",
    "        \n",
    "#         plt.fill_between([i for i in range(0, t_max, step)], DQN_Means - DQN_Stds, DQN_Means + DQN_Stds, color=color, alpha=0.2, edgecolor=\"white\")\n",
    "        # Error bars\n",
    "        xs = [i for i in range(0, t_max, step)]\n",
    "        xs = xs + list(reversed(xs))\n",
    "        ys = np.concatenate([DQN_Means - DQN_Stds, np.flip(DQN_Means + DQN_Stds, axis=0)])\n",
    "        lls = p.patch(xs, ys, color=color, alpha=0.1)\n",
    "\n",
    "        \n",
    "#         for x, y, yerr in zip(range(0, t_max, step), DQN_Means, DQN_Stds):\n",
    "#             lls = p.line([x, x], [y - yerr, y + yerr], color=color, alpha=0.1, hover_alpha=0.8)\n",
    "#             alpha_lines.append(lls)\n",
    "            \n",
    "\n",
    "#         plt.plot([i for i in range(0, t_max, step)], DQN_Means, color=color)\n",
    "        l = p.line([i for i in range(0, t_max, step)], DQN_Means, color=color, line_width=2)\n",
    "        lines.append(l)\n",
    "#         alpha_lines.append(lls)\n",
    "\n",
    "#     plt.title(\"Episode_Reward\")\n",
    "#     plt.xlabel(\"T\")\n",
    "#     plt.ylabel(\"Reward\")\n",
    "#     if legends is not None:\n",
    "#         plt.legend(legends)\n",
    "#     plt.show()\n",
    "#     p.line([0,1], [-1,3])\n",
    "    new_leg = Legend(items=[(name, [line]) for name, line in zip(legends, lines)], location=(0,-30))\n",
    "    p.add_layout(new_leg, \"right\")\n",
    "#     p.add_tools(HoverTool(renderers=alpha_lines))\n",
    "#     p.add_tools(TapTool(renderers=alpha_lines))\n",
    "    show(p)"
   ]
  },
  {
   "cell_type": "code",
   "execution_count": null,
   "metadata": {
    "collapsed": true
   },
   "outputs": [],
   "source": []
  },
  {
   "cell_type": "code",
   "execution_count": 10,
   "metadata": {
    "collapsed": false
   },
   "outputs": [
    {
     "name": "stdout",
     "output_type": "stream",
     "text": [
      "['DQN', 'Count*_Conv_True*_Eps_1', 'Count*_Conv_True*_Eps_0.1', 'Count*_Conv_False*_Eps_1', 'Count*_Conv_False*_Eps_0.1']\n",
      "[1000000, 1000000, 1000000, 1000000, 1000000]\n"
     ]
    }
   ],
   "source": [
    "names = []\n",
    "legends = []\n",
    "t_maxs = []\n",
    "\n",
    "# DQN\n",
    "names += [\"DQN\"]\n",
    "legends += [\"DQN\"]\n",
    "t_maxs += [1000000]\n",
    "\n",
    "for conv in [True, False]:\n",
    "#     break\n",
    "    names.append(\"Count*_Conv_{}*_Eps_1\".format(conv))\n",
    "    legends.append(\"Count_Conv_{}\".format(conv))\n",
    "    t_maxs.append(1000000)\n",
    "#     break\n",
    "    names.append(\"Count*_Conv_{}*_Eps_0.1\".format(conv))\n",
    "    legends.append(\"Count_Conv_{}_Epsilon\".format(conv))\n",
    "    t_maxs.append(1000000)\n",
    "    \n",
    "# Batch size names\n",
    "# names = names + [\"*Batch_{}_{}\".format(b, name) for b in [64, 128, 256] for name in names]\n",
    "# legends = legends + [\"{}_Batch_{}\".format(leg, b) for b in [64, 128, 256] for leg in legends]\n",
    "# t_maxs = t_maxs + [t_max for b in [64, 128, 256] for t_max in t_maxs]\n",
    "    \n",
    "dropbox_direc = \"/home/tabz/Dropbox/RL/Log_Files/March 2017\"\n",
    "# directories =  [\"{}/{}\".format(dropbox_direc, \"Maze_5_Logs/\")] + 3 * [\"{}/{}\".format(dropbox_direc, \"Maze_5_Batch_Sizes_Logs/\")] \n",
    "directories = dropbox_direc + \"/Options_Logs/\"\n",
    "    \n",
    "print(names)\n",
    "print(t_maxs)\n",
    "# colours = [\"red\", \"#3366ff\", \"#66ff33\", \"yellow\"]\n",
    "# colours = rainbow(np.linspace(0, 1, len(names)))"
   ]
  },
  {
   "cell_type": "code",
   "execution_count": 32,
   "metadata": {
    "collapsed": true
   },
   "outputs": [],
   "source": [
    "import itertools"
   ]
  },
  {
   "cell_type": "code",
   "execution_count": 49,
   "metadata": {
    "collapsed": false
   },
   "outputs": [
    {
     "name": "stdout",
     "output_type": "stream",
     "text": [
      "['*Count*_uid_36_*', '*Count*_uid_40_*', '*Count*_uid_44_*', '*Count*_uid_48_*', '*Count*_uid_52_*', '*Count*_uid_56_*', '*Count*_uid_60_*', '*Count*_uid_64_*', '*Count*_uid_68_*']\n",
      "[1000000, 1000000, 1000000, 1000000, 1000000, 1000000, 1000000, 1000000, 1000000]\n"
     ]
    }
   ],
   "source": [
    "names = []\n",
    "legends = []\n",
    "t_maxs = []\n",
    "\n",
    "for n, nm, ml in zip(range(36, 72, 4), itertools.cycle([10, 50, 200]), itertools.cycle([8, 16, 32])):\n",
    "    names.append(\"*Count*_uid_{}_*\".format(n))\n",
    "    legends.append(\"DQN_{}_Macros_Upto_{}_Length\".format(nm, ml))\n",
    "    t_maxs.append(1000000)\n",
    "\n",
    "#     names.append(\"Maze_{}_*DQN*\".format(s))\n",
    "#     legends.append(\"Maze_{}_DQN\".format(s))\n",
    "#     t_maxs.append(200000)\n",
    "    \n",
    "dropbox_direc = \"/home/tabz/Dropbox/RL/Log_Files/March 2017\"\n",
    "directories = dropbox_direc + \"/Rnd_Macros_Maze_6_Logs/\"\n",
    "    \n",
    "print(names)\n",
    "print(t_maxs)"
   ]
  },
  {
   "cell_type": "code",
   "execution_count": 50,
   "metadata": {
    "collapsed": true
   },
   "outputs": [],
   "source": [
    "from bokeh.palettes import magma, inferno, Purples, Oranges, Greens, Reds, Set1, Set3, Paired"
   ]
  },
  {
   "cell_type": "code",
   "execution_count": 51,
   "metadata": {
    "collapsed": true
   },
   "outputs": [],
   "source": [
    "magma_colours = inferno(len(names))"
   ]
  },
  {
   "cell_type": "code",
   "execution_count": 52,
   "metadata": {
    "collapsed": false
   },
   "outputs": [],
   "source": [
    "c_nums = 1\n",
    "triple_colours = Purples[9][:c_nums] + Oranges[9][:c_nums] + Greens[9][:c_nums] + Reds[9][:c_nums]"
   ]
  },
  {
   "cell_type": "code",
   "execution_count": 53,
   "metadata": {
    "collapsed": false
   },
   "outputs": [
    {
     "data": {
      "text/plain": [
       "['#3f007d', '#7f2704', '#00441b', '#67000d']"
      ]
     },
     "execution_count": 53,
     "metadata": {},
     "output_type": "execute_result"
    }
   ],
   "source": [
    "triple_colours"
   ]
  },
  {
   "cell_type": "code",
   "execution_count": 54,
   "metadata": {
    "collapsed": false
   },
   "outputs": [
    {
     "data": {
      "text/html": [
       "\n",
       "\n",
       "    <div class=\"bk-root\">\n",
       "        <div class=\"bk-plotdiv\" id=\"8cc84e44-8bd1-436d-8360-c50fb3bb1a4a\"></div>\n",
       "    </div>\n",
       "<script type=\"text/javascript\">\n",
       "  \n",
       "  (function(global) {\n",
       "    function now() {\n",
       "      return new Date();\n",
       "    }\n",
       "  \n",
       "    var force = false;\n",
       "  \n",
       "    if (typeof (window._bokeh_onload_callbacks) === \"undefined\" || force === true) {\n",
       "      window._bokeh_onload_callbacks = [];\n",
       "      window._bokeh_is_loading = undefined;\n",
       "    }\n",
       "  \n",
       "  \n",
       "    \n",
       "    if (typeof (window._bokeh_timeout) === \"undefined\" || force === true) {\n",
       "      window._bokeh_timeout = Date.now() + 0;\n",
       "      window._bokeh_failed_load = false;\n",
       "    }\n",
       "  \n",
       "    var NB_LOAD_WARNING = {'data': {'text/html':\n",
       "       \"<div style='background-color: #fdd'>\\n\"+\n",
       "       \"<p>\\n\"+\n",
       "       \"BokehJS does not appear to have successfully loaded. If loading BokehJS from CDN, this \\n\"+\n",
       "       \"may be due to a slow or bad network connection. Possible fixes:\\n\"+\n",
       "       \"</p>\\n\"+\n",
       "       \"<ul>\\n\"+\n",
       "       \"<li>re-rerun `output_notebook()` to attempt to load from CDN again, or</li>\\n\"+\n",
       "       \"<li>use INLINE resources instead, as so:</li>\\n\"+\n",
       "       \"</ul>\\n\"+\n",
       "       \"<code>\\n\"+\n",
       "       \"from bokeh.resources import INLINE\\n\"+\n",
       "       \"output_notebook(resources=INLINE)\\n\"+\n",
       "       \"</code>\\n\"+\n",
       "       \"</div>\"}};\n",
       "  \n",
       "    function display_loaded() {\n",
       "      if (window.Bokeh !== undefined) {\n",
       "        document.getElementById(\"8cc84e44-8bd1-436d-8360-c50fb3bb1a4a\").textContent = \"BokehJS successfully loaded.\";\n",
       "      } else if (Date.now() < window._bokeh_timeout) {\n",
       "        setTimeout(display_loaded, 100)\n",
       "      }\n",
       "    }\n",
       "  \n",
       "    function run_callbacks() {\n",
       "      window._bokeh_onload_callbacks.forEach(function(callback) { callback() });\n",
       "      delete window._bokeh_onload_callbacks\n",
       "      console.info(\"Bokeh: all callbacks have finished\");\n",
       "    }\n",
       "  \n",
       "    function load_libs(js_urls, callback) {\n",
       "      window._bokeh_onload_callbacks.push(callback);\n",
       "      if (window._bokeh_is_loading > 0) {\n",
       "        console.log(\"Bokeh: BokehJS is being loaded, scheduling callback at\", now());\n",
       "        return null;\n",
       "      }\n",
       "      if (js_urls == null || js_urls.length === 0) {\n",
       "        run_callbacks();\n",
       "        return null;\n",
       "      }\n",
       "      console.log(\"Bokeh: BokehJS not loaded, scheduling load and callback at\", now());\n",
       "      window._bokeh_is_loading = js_urls.length;\n",
       "      for (var i = 0; i < js_urls.length; i++) {\n",
       "        var url = js_urls[i];\n",
       "        var s = document.createElement('script');\n",
       "        s.src = url;\n",
       "        s.async = false;\n",
       "        s.onreadystatechange = s.onload = function() {\n",
       "          window._bokeh_is_loading--;\n",
       "          if (window._bokeh_is_loading === 0) {\n",
       "            console.log(\"Bokeh: all BokehJS libraries loaded\");\n",
       "            run_callbacks()\n",
       "          }\n",
       "        };\n",
       "        s.onerror = function() {\n",
       "          console.warn(\"failed to load library \" + url);\n",
       "        };\n",
       "        console.log(\"Bokeh: injecting script tag for BokehJS library: \", url);\n",
       "        document.getElementsByTagName(\"head\")[0].appendChild(s);\n",
       "      }\n",
       "    };var element = document.getElementById(\"8cc84e44-8bd1-436d-8360-c50fb3bb1a4a\");\n",
       "    if (element == null) {\n",
       "      console.log(\"Bokeh: ERROR: autoload.js configured with elementid '8cc84e44-8bd1-436d-8360-c50fb3bb1a4a' but no matching script tag was found. \")\n",
       "      return false;\n",
       "    }\n",
       "  \n",
       "    var js_urls = [];\n",
       "  \n",
       "    var inline_js = [\n",
       "      function(Bokeh) {\n",
       "        (function() {\n",
       "          var fn = function() {\n",
       "            var docs_json = {\"f8e9c265-9fbb-4003-b913-92c3d20ecb57\":{\"roots\":{\"references\":[{\"attributes\":{},\"id\":\"5476c54a-050c-4e10-84fe-714997462741\",\"type\":\"BasicTickFormatter\"},{\"attributes\":{\"fill_alpha\":{\"value\":0.1},\"fill_color\":{\"value\":\"#8dd3c7\"},\"line_alpha\":{\"value\":0.1},\"line_color\":{\"value\":\"#8dd3c7\"},\"x\":{\"field\":\"x\"},\"y\":{\"field\":\"y\"}},\"id\":\"b6d2d913-b907-4277-840f-73e085434ee9\",\"type\":\"Patch\"},{\"attributes\":{\"fill_alpha\":{\"value\":0.1},\"fill_color\":{\"value\":\"#1f77b4\"},\"line_alpha\":{\"value\":0.1},\"line_color\":{\"value\":\"#1f77b4\"},\"x\":{\"field\":\"x\"},\"y\":{\"field\":\"y\"}},\"id\":\"c505286c-b609-4831-b120-af197a8097db\",\"type\":\"Patch\"},{\"attributes\":{\"callback\":null,\"column_names\":[\"x\",\"y\"],\"data\":{\"x\":[0,10000,20000,30000,40000,50000,60000,70000,80000,90000,100000,110000,120000,130000,140000,150000,160000,170000,180000,190000,200000,210000,220000,230000,240000,250000,260000,270000,280000,290000,300000,310000,320000,330000,340000,350000,360000,370000,380000,390000,400000,410000,420000,430000,440000,450000,460000,470000,480000,490000,500000,510000,520000,530000,540000,550000,560000,570000,580000,590000,600000,610000,620000,630000,640000,650000,660000,670000,680000,690000,700000,710000,720000,730000,740000,750000,760000,770000,780000,790000,800000,810000,820000,830000,840000,850000,860000,870000,880000,890000,900000,910000,920000,930000,940000,950000,960000,970000,980000,990000],\"y\":{\"__ndarray__\":\"AAAAAAAAAAAbdAWaTUNTPyGptDS48+g/IxI1/vwp1b9nKqTeltbhvz5iNRgn/1U/wqBMo8nFOD/PNbOLPvPMv73gkmHYIFE/w6BMo8nFSD92SgP+bn1XP8VlGSOU+++/CMIOUIi61L8naBzmNL7bv/aCT3PyIlM/w6BMo8nFOD9D2ZgYTWtUP1zZAZbaTko/wfkFtpgRi79leXmOB6e4v8OgTKPJxTg/w6BMo8nFSD+luCh289JQPzLigFlgDUM/knh5OleUUj+gQYQ66b5OP2fHyJYmJ0c/R5YN7aBTUj/EoEyjycU4PxJRzlTJAvA/NFZesQQVRD9dSpqA4ZlBP8OgTKPJxTg/gDjK/rpVRD8ogyFuDeo+P6Im+nyUEVc/PF+vb6WaWD/GFCr7bc1JP8SgTKPJxVg/GIwuZzJ+0z8IXBaRJMdLP6qg4yU84kI/f37NUY1M17/DoEyjycU4PyDraJpzr1E/w6BMo8nFOD/EoEyjycU4P8OgTKPJxTg/xBHljdAQQD/DoEyjycVIP+b/FAyqzEI/+KPlgUqZRT/UtbUDcd1CP6/PaRCYa8M/8Cn82KLIOT+5Bc3ryX46PxbIuqIFSeo/SgPBoUW65j/DoEyjycVYP3Y7yLroX+A/X7x7GMJI2D8Fd+GJXRxXP7GrvxWeX8Q/MPMd/MQB8D84zrwqIkSwP02TPlR9PsY/ZFVDYKgC8D/XKZNbFeVDPygVUGdsq0g/yjSaXIwB8D/EoEyjycU4P5RpNLkYA/A/k3h5OleUUj+SeHk6V5RSP8OgTKPJxTg/BwkQg7zdUD/DoEyjycU4Px5H4K9E598/M6QL/gAp2T+v0bPbawLwP3SHE/4YD8Y/wlkC2nMQ7j/DoEyjycU4P1rlgOKr7Oo/1m2tOElQ0T+Q8PoNlYNKPw8DmklWAvA/cZc+9rdFSz9ens4VpQTwP8o0mlyMAfA/TDUxIDqCVz9W8UbmkT9IP8o0mlyMAfA/qjen0zwE8D9Hs/O4rAPwP+M83ftYAvA/UnqNqPAN2j9JoR+sUZfmPxiZgF8jSVA/IalEV+UB8D8=\",\"dtype\":\"float64\",\"shape\":[100]}}},\"id\":\"e29d47da-ea7f-430d-ba8c-d96a41bdcbb3\",\"type\":\"ColumnDataSource\"},{\"attributes\":{\"data_source\":{\"id\":\"c90b018d-523c-43f0-8c52-587b204f3191\",\"type\":\"ColumnDataSource\"},\"glyph\":{\"id\":\"3bcc58fb-a6ca-430f-9f82-599f00d604aa\",\"type\":\"Patch\"},\"hover_glyph\":null,\"nonselection_glyph\":{\"id\":\"dc346718-e196-48b7-ae67-7f9503697524\",\"type\":\"Patch\"},\"selection_glyph\":null},\"id\":\"33b4928d-752e-45c5-907a-aa74bbcd861c\",\"type\":\"GlyphRenderer\"},{\"attributes\":{\"line_alpha\":{\"value\":0.1},\"line_color\":{\"value\":\"#1f77b4\"},\"line_width\":{\"value\":2},\"x\":{\"field\":\"x\"},\"y\":{\"field\":\"y\"}},\"id\":\"ca9c5946-b9af-40de-8885-cafef9850c7f\",\"type\":\"Line\"},{\"attributes\":{\"callback\":null,\"column_names\":[\"x\",\"y\"],\"data\":{\"x\":[0,10000,20000,30000,40000,50000,60000,70000,80000,90000,100000,110000,120000,130000,140000,150000,160000,170000,180000,190000,200000,210000,220000,230000,240000,250000,260000,270000,280000,290000,300000,310000,320000,330000,340000,350000,360000,370000,380000,390000,400000,410000,420000,430000,440000,450000,460000,470000,480000,490000,500000,510000,520000,530000,540000,550000,560000,570000,580000,590000,600000,610000,620000,630000,640000,650000,660000,670000,680000,690000,700000,710000,720000,730000,740000,750000,760000,770000,780000,790000,800000,810000,820000,830000,840000,850000,860000,870000,880000,890000,900000,910000,920000,930000,940000,950000,960000,970000,980000,990000],\"y\":{\"__ndarray__\":\"AAAAAAAAAAAI1gyNSq9IP4mcCGccBnA/PwszHIsZ1b+/cZFxfALcvwels93f0HA/vMtFfCdm1b8mqyLcZFRZP+DOwt+x3GM/AAB+iTewSD9at6WAhYjsv/oIZ8vnMG8/1JPMMllyXD+XUD7lFotsP/vIoVXEt2o/f8cxFLQKTT/b9J9uyZJeP/ej5YFKmUU/0iOHChIcOT81tz4V6hNxP090XfjB+XQ/nqAswgL35T+7RMlHYVriP/PIHww8914/OrzPrYNvZz812yCTNopjP8OgTKPJxTg/U80qL7hkWD8BZaT3mHNsPxFoLjMrWVE/ZX4xGndGWj8MosC8vo3iP1NFfxZCBN4/kOCHBfvw778THcX4rgRhPyB+VT+S1mY/gdJoN5sk7z/9+KAXRnt3P2LBvEUjXlw/dxxArzcuYj+MRycOX6RTPypl2NF9qN4/1IDklAyjZz9tXY+SogrQv/aF9xhA9MG/k3h5OleUUj+lJ8oVJfFyP834+waorXI/6pyK4KHSYj9A+y5rnUJqP+BOTcv4zmw/4mYAP9oK5L+/PGDd9gBsP3B4AAmGMnI/5tCH9O3G7j/DoEyjycVYP0xa5kmmJVg/wfqtWH94Zj/Ch9gcvrpgP+ex5nj5LGk/Uus6lY52TT/UTg4h6+pQP35xykDl52I/spNpXjwrYz8GCoWWI1tjP1ayXzZ/Dz0/sYf6Hy8q0j/nM/MzgkvZP4cvrlZdzt8/g0wLApOzaT9Lz0aMH6JsP2xQqhAayFw/X/tsXJ9erT+EwYCafmmtP/b5bXasgMU/qtUOQMgs5z9X0xeWfg7ZP95zYDlCBuC/DAlXYWwfYT/sRMfR2x1VPzucgiH8I8Y/xKBMo8nFWD8kQfVQXf1JP0YvJc82uUw/t+sCZ51O0T/hxxZFzsDjv1mX1XgqYlU/IkDHyQH8dT8IUslQE0dsP1ouxYqBx2Y/wXpeLiN3ZT/GbTSAt8DuP9ac1YwjgKk/do0YegUkXj8DdtsjtcxZPxzawx3te2M/gr3Gb4yhXT/8MUzNJHfbP7fbXVWqCGw/knh5OleUUj8=\",\"dtype\":\"float64\",\"shape\":[100]}}},\"id\":\"27d9dba8-5891-4584-b152-6f8db8926763\",\"type\":\"ColumnDataSource\"},{\"attributes\":{\"fill_alpha\":{\"value\":0.1},\"fill_color\":{\"value\":\"#1f77b4\"},\"line_alpha\":{\"value\":0.1},\"line_color\":{\"value\":\"#1f77b4\"},\"x\":{\"field\":\"x\"},\"y\":{\"field\":\"y\"}},\"id\":\"dc346718-e196-48b7-ae67-7f9503697524\",\"type\":\"Patch\"},{\"attributes\":{\"data_source\":{\"id\":\"19a472f9-4164-461c-8b48-50f1b710d2e7\",\"type\":\"ColumnDataSource\"},\"glyph\":{\"id\":\"b6d2d913-b907-4277-840f-73e085434ee9\",\"type\":\"Patch\"},\"hover_glyph\":null,\"nonselection_glyph\":{\"id\":\"c505286c-b609-4831-b120-af197a8097db\",\"type\":\"Patch\"},\"selection_glyph\":null},\"id\":\"ac22a1f5-5c75-48e9-9b89-69102472f486\",\"type\":\"GlyphRenderer\"},{\"attributes\":{\"fill_alpha\":{\"value\":0.1},\"fill_color\":{\"value\":\"#ffffb3\"},\"line_alpha\":{\"value\":0.1},\"line_color\":{\"value\":\"#ffffb3\"},\"x\":{\"field\":\"x\"},\"y\":{\"field\":\"y\"}},\"id\":\"3bcc58fb-a6ca-430f-9f82-599f00d604aa\",\"type\":\"Patch\"},{\"attributes\":{\"line_color\":{\"value\":\"#8dd3c7\"},\"line_width\":{\"value\":2},\"x\":{\"field\":\"x\"},\"y\":{\"field\":\"y\"}},\"id\":\"f98b7d6f-cd13-4952-88e5-c86d802e77c7\",\"type\":\"Line\"},{\"attributes\":{\"data_source\":{\"id\":\"e29d47da-ea7f-430d-ba8c-d96a41bdcbb3\",\"type\":\"ColumnDataSource\"},\"glyph\":{\"id\":\"f98b7d6f-cd13-4952-88e5-c86d802e77c7\",\"type\":\"Line\"},\"hover_glyph\":null,\"nonselection_glyph\":{\"id\":\"ca9c5946-b9af-40de-8885-cafef9850c7f\",\"type\":\"Line\"},\"selection_glyph\":null},\"id\":\"1f6e7d33-9e1a-492c-93a4-feb007bab3c6\",\"type\":\"GlyphRenderer\"},{\"attributes\":{\"fill_alpha\":{\"value\":0.1},\"fill_color\":{\"value\":\"#1f77b4\"},\"line_alpha\":{\"value\":0.1},\"line_color\":{\"value\":\"#1f77b4\"},\"x\":{\"field\":\"x\"},\"y\":{\"field\":\"y\"}},\"id\":\"1c89bc6e-4c1c-4478-a875-d0748f84d7b7\",\"type\":\"Patch\"},{\"attributes\":{\"data_source\":{\"id\":\"6007274b-089d-4952-952b-d7f34f405c5d\",\"type\":\"ColumnDataSource\"},\"glyph\":{\"id\":\"59d67f8b-2e69-487d-b0bb-1f199ff7a6b9\",\"type\":\"Line\"},\"hover_glyph\":null,\"nonselection_glyph\":{\"id\":\"1b154093-850b-415c-a0b9-b6286c7b5edb\",\"type\":\"Line\"},\"selection_glyph\":null},\"id\":\"64f1d627-5f86-433b-9778-3dd70c1de5de\",\"type\":\"GlyphRenderer\"},{\"attributes\":{\"callback\":null,\"column_names\":[\"x\",\"y\"],\"data\":{\"x\":[0,10000,20000,30000,40000,50000,60000,70000,80000,90000,100000,110000,120000,130000,140000,150000,160000,170000,180000,190000,200000,210000,220000,230000,240000,250000,260000,270000,280000,290000,300000,310000,320000,330000,340000,350000,360000,370000,380000,390000,400000,410000,420000,430000,440000,450000,460000,470000,480000,490000,500000,510000,520000,530000,540000,550000,560000,570000,580000,590000,600000,610000,620000,630000,640000,650000,660000,670000,680000,690000,700000,710000,720000,730000,740000,750000,760000,770000,780000,790000,800000,810000,820000,830000,840000,850000,860000,870000,880000,890000,900000,910000,920000,930000,940000,950000,960000,970000,980000,990000],\"y\":{\"__ndarray__\":\"AAAAAAAAAADUl2RitiNaP+4IZspKUkc/LGsdWTqhVD/eFJN4+7BPP2zN1Ocp8FE/gE0N0bzVVD/EoEyjycU4P4xHJw5fpEM/S+Lp1u3wOD92SgP+bn1XP6CyCYW4ymQ/a8k8uMw+VD+9G+UfJibiP5G+SdOgaE4/B3pnMt+ARD8A3RW9EsZiP/URt4jr1zs/7yn82KLIOT9X0zaAuy1TPzRWXrEEFUQ/Gn6CrGHRZT9kU+s+gh9WP+UeC+ngg10/8JqUw6kTUT8akhUAJFVIPxW0Ch149lc/eL7gVROFWD/9i6Axk6hXP9ea6go4iFc/fAr+ekTKYj/Go9JLSypWP5J4eTpXlFI/pbgodvPSQD/2EbeI69dLP7Pyy2CMSFQ/4abBcVpyOT+PBJzisoxhP+x2N9HrkD0/MU3kSVNR5j+MRycOX6RDP6qg4yU84lI/aVn3j4XoUD84mIrOtAFJP8OgTKPJxTg/DTBxpzN1Sj+dcPAHQB1BP3LWJabKdUY/V2yPnTU7UT/V89HjvHViP+b/FAyqzEI/FePigsfe1z82BlzVVUA/P+q8ieD9tFA/s3eDqehMSz8rnY1YShRNPwVPIVfqWWA/6K8SMPv3TT+SeHk6V5RSP7NFE6rY2VI/z6HmP8tP2D/DoEyjycVYP5J4eTpXlFI/OBPThVj9YT8yxC+4pVM6PyxzIE1cX8Y/cqVNEgvqVj9MA4DlRWdLPygVUGdsq0g/B81tQEdqXz/jOPBquTNDP+OQjxpUnWI/FEgL1KMrZT/DoEyjycVYP3II1+C+kEI/UXrj5WvTWT80sD1EzZNhP6iSmZ4Qv1s/jmi9HLcaVj9uDwEF2txGP9YzQyiylVU/cx+9InpWUz+GZMTEZG1iP2jF9thZs2M/H/NHBpg/ZD+Q8PoNlYNKPziYis60AUk/FapaUNtFRj+CJ6/SHrFKP/KZAXc15mQ/DjBxpzN1Sj/DoEyjycVYP7/th5sSjjw/w6BMo8nFWD/zyB8MPPdeP+2hvufEX1U/JtMjSry+Uz+SeHk6V5RSP8SgTKPJxVg/BfIpQQEYQD8=\",\"dtype\":\"float64\",\"shape\":[100]}}},\"id\":\"77263901-6f2e-4fbf-8b45-cc0855cc7a09\",\"type\":\"ColumnDataSource\"},{\"attributes\":{\"callback\":null,\"column_names\":[\"x\",\"y\"],\"data\":{\"x\":[0,10000,20000,30000,40000,50000,60000,70000,80000,90000,100000,110000,120000,130000,140000,150000,160000,170000,180000,190000,200000,210000,220000,230000,240000,250000,260000,270000,280000,290000,300000,310000,320000,330000,340000,350000,360000,370000,380000,390000,400000,410000,420000,430000,440000,450000,460000,470000,480000,490000,500000,510000,520000,530000,540000,550000,560000,570000,580000,590000,600000,610000,620000,630000,640000,650000,660000,670000,680000,690000,700000,710000,720000,730000,740000,750000,760000,770000,780000,790000,800000,810000,820000,830000,840000,850000,860000,870000,880000,890000,900000,910000,920000,930000,940000,950000,960000,970000,980000,990000,990000,980000,970000,960000,950000,940000,930000,920000,910000,900000,890000,880000,870000,860000,850000,840000,830000,820000,810000,800000,790000,780000,770000,760000,750000,740000,730000,720000,710000,700000,690000,680000,670000,660000,650000,640000,630000,620000,610000,600000,590000,580000,570000,560000,550000,540000,530000,520000,510000,500000,490000,480000,470000,460000,450000,440000,430000,420000,410000,400000,390000,380000,370000,360000,350000,340000,330000,320000,310000,300000,290000,280000,270000,260000,250000,240000,230000,220000,210000,200000,190000,180000,170000,160000,150000,140000,130000,120000,110000,100000,90000,80000,70000,60000,50000,40000,30000,20000,10000,0],\"y\":{\"__ndarray__\":\"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\",\"dtype\":\"float64\",\"shape\":[200]}}},\"id\":\"dc95367d-b3c4-4a34-b9d9-b1b9554e9bb5\",\"type\":\"ColumnDataSource\"},{\"attributes\":{\"data_source\":{\"id\":\"9bbae4ea-7c74-4992-b452-9a688b87e3ae\",\"type\":\"ColumnDataSource\"},\"glyph\":{\"id\":\"52056962-2db8-452b-8c13-f80a836d8749\",\"type\":\"Patch\"},\"hover_glyph\":null,\"nonselection_glyph\":{\"id\":\"1c89bc6e-4c1c-4478-a875-d0748f84d7b7\",\"type\":\"Patch\"},\"selection_glyph\":null},\"id\":\"37d31fed-410b-4c59-8d41-4e0e7c708312\",\"type\":\"GlyphRenderer\"},{\"attributes\":{\"line_color\":{\"value\":\"#ffffb3\"},\"line_width\":{\"value\":2},\"x\":{\"field\":\"x\"},\"y\":{\"field\":\"y\"}},\"id\":\"429350ab-774b-4fde-b5ae-e7fc143898f2\",\"type\":\"Line\"},{\"attributes\":{\"fill_alpha\":{\"value\":0.1},\"fill_color\":{\"value\":\"#1f77b4\"},\"line_alpha\":{\"value\":0.1},\"line_color\":{\"value\":\"#1f77b4\"},\"x\":{\"field\":\"x\"},\"y\":{\"field\":\"y\"}},\"id\":\"8ba667d4-34c0-478a-9800-56141b0ddd6b\",\"type\":\"Patch\"},{\"attributes\":{\"fill_alpha\":{\"value\":0.1},\"fill_color\":{\"value\":\"#bebada\"},\"line_alpha\":{\"value\":0.1},\"line_color\":{\"value\":\"#bebada\"},\"x\":{\"field\":\"x\"},\"y\":{\"field\":\"y\"}},\"id\":\"52056962-2db8-452b-8c13-f80a836d8749\",\"type\":\"Patch\"},{\"attributes\":{\"line_alpha\":{\"value\":0.1},\"line_color\":{\"value\":\"#1f77b4\"},\"line_width\":{\"value\":2},\"x\":{\"field\":\"x\"},\"y\":{\"field\":\"y\"}},\"id\":\"1b154093-850b-415c-a0b9-b6286c7b5edb\",\"type\":\"Line\"},{\"attributes\":{\"fill_alpha\":{\"value\":0.1},\"fill_color\":{\"value\":\"#80b1d3\"},\"line_alpha\":{\"value\":0.1},\"line_color\":{\"value\":\"#80b1d3\"},\"x\":{\"field\":\"x\"},\"y\":{\"field\":\"y\"}},\"id\":\"eeb13948-0c53-4a35-873a-6cb2298da28f\",\"type\":\"Patch\"},{\"attributes\":{\"data_source\":{\"id\":\"77263901-6f2e-4fbf-8b45-cc0855cc7a09\",\"type\":\"ColumnDataSource\"},\"glyph\":{\"id\":\"429350ab-774b-4fde-b5ae-e7fc143898f2\",\"type\":\"Line\"},\"hover_glyph\":null,\"nonselection_glyph\":{\"id\":\"256e6deb-d3c7-46f5-ba51-f7e4e37e4878\",\"type\":\"Line\"},\"selection_glyph\":null},\"id\":\"eaf9a880-93e4-4ff4-9120-049ae3de413d\",\"type\":\"GlyphRenderer\"},{\"attributes\":{\"line_alpha\":{\"value\":0.1},\"line_color\":{\"value\":\"#1f77b4\"},\"line_width\":{\"value\":2},\"x\":{\"field\":\"x\"},\"y\":{\"field\":\"y\"}},\"id\":\"256e6deb-d3c7-46f5-ba51-f7e4e37e4878\",\"type\":\"Line\"},{\"attributes\":{\"callback\":null,\"column_names\":[\"x\",\"y\"],\"data\":{\"x\":[0,10000,20000,30000,40000,50000,60000,70000,80000,90000,100000,110000,120000,130000,140000,150000,160000,170000,180000,190000,200000,210000,220000,230000,240000,250000,260000,270000,280000,290000,300000,310000,320000,330000,340000,350000,360000,370000,380000,390000,400000,410000,420000,430000,440000,450000,460000,470000,480000,490000,500000,510000,520000,530000,540000,550000,560000,570000,580000,590000,600000,610000,620000,630000,640000,650000,660000,670000,680000,690000,700000,710000,720000,730000,740000,750000,760000,770000,780000,790000,800000,810000,820000,830000,840000,850000,860000,870000,880000,890000,900000,910000,920000,930000,940000,950000,960000,970000,980000,990000,990000,980000,970000,960000,950000,940000,930000,920000,910000,900000,890000,880000,870000,860000,850000,840000,830000,820000,810000,800000,790000,780000,770000,760000,750000,740000,730000,720000,710000,700000,690000,680000,670000,660000,650000,640000,630000,620000,610000,600000,590000,580000,570000,560000,550000,540000,530000,520000,510000,500000,490000,480000,470000,460000,450000,440000,430000,420000,410000,400000,390000,380000,370000,360000,350000,340000,330000,320000,310000,300000,290000,280000,270000,260000,250000,240000,230000,220000,210000,200000,190000,180000,170000,160000,150000,140000,130000,120000,110000,100000,90000,80000,70000,60000,50000,40000,30000,20000,10000,0],\"y\":{\"__ndarray__\":\"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\",\"dtype\":\"float64\",\"shape\":[200]}}},\"id\":\"9bbae4ea-7c74-4992-b452-9a688b87e3ae\",\"type\":\"ColumnDataSource\"},{\"attributes\":{\"callback\":null,\"column_names\":[\"x\",\"y\"],\"data\":{\"x\":[0,10000,20000,30000,40000,50000,60000,70000,80000,90000,100000,110000,120000,130000,140000,150000,160000,170000,180000,190000,200000,210000,220000,230000,240000,250000,260000,270000,280000,290000,300000,310000,320000,330000,340000,350000,360000,370000,380000,390000,400000,410000,420000,430000,440000,450000,460000,470000,480000,490000,500000,510000,520000,530000,540000,550000,560000,570000,580000,590000,600000,610000,620000,630000,640000,650000,660000,670000,680000,690000,700000,710000,720000,730000,740000,750000,760000,770000,780000,790000,800000,810000,820000,830000,840000,850000,860000,870000,880000,890000,900000,910000,920000,930000,940000,950000,960000,970000,980000,990000],\"y\":{\"__ndarray__\":\"AAAAAAAAAADEihZfMtHvvysjEqjD1ei/oHginBlP5b9slstG5/zvv8byXFcWpty/Mke1cyaP1b9BUd8qoGlkPwfa7HjHoL2/qtaHltK7778uJQyFDCVVP97jC9jR9++/ut5te1aL1L/qaZkEQa3bvxgx3CJiYOG/0BQpG8d4bT/i+cUdY33ovyv/1alYCL+/tX+Euo+BUz9UmpCV3Y9qP77nBqI7NW4/c4vYbQWs5b9QhPotXKphP5kXQ2y2QG4/hF2m7IVXZz94EtQFBTrov39N0mXkVkk/DoO48H8GST9kb3owNAJtP2qEPWt6D1U/7TBnOKK8UT+LCph/ctdxP0mZUlo+EFw/XC7ivEyWaD80QPQsvkdqP+pfksoUc2A/VuQVOj1yWT+U15qrsJdDP8OPo+FoKmo/LW0UzxgHcD993/zHxOpwP8Rdadp5YGk/LNrWYW1GWD8Su4JMowBZP4vWjiNYWTw/BbStZp3xnb+jJju4eLmyv/RDaMPf8kc/2gJvAGj+cT+NSeLmGXFlP6RzlLyOomw/xKBMo8nFWD/AR3+X3JNrP1USdXSLBHI/GbNm5gaEeD9yy0s/Y2NvP8UOzANubGU/ZPG7Mq5aXz/xj7pcQgFqPz83sIx/8WU/PhFG8ADRcD9sINv1kdlcPzU8PI39QFI/knh5OleUUj+i5xLNgeE7P5qHjIPFjGU/HERzIfR4bz8/NzRlpx90P6KmvfJvT2c/tDtj3TspQT9Jnuv7cJBgPx5F2gfbjEQ/uLw1bxqeXT9VN1i6v7tXP0bEurMaT2o/znVbpI1kYT+2hz/HiMZXP8OgTKPJxTg/aAawRjlXUj+GF18gNzJwPy8elz1nL3A/cfHXLsBiaD+kwpcHrNs+PxUHUmbEh1Y/VvlYDD/yaT8s5XwHClVoP/625gyIz1s/FapaUNtFVj9bW0ZV0YJyP6rIo1ivpEk/eMroQ9aYcz814Z6kh85lP8EV0RllVHU/RqUVIIzcZD82YoxeG/zjv26eaBrTkU8/nev3g/9wVj/UPXF+hnbmvw7VkzQJymU/OBOSSnRVPj8=\",\"dtype\":\"float64\",\"shape\":[100]}}},\"id\":\"395c7581-771e-49ca-8b62-9ed719eb2850\",\"type\":\"ColumnDataSource\"},{\"attributes\":{\"data_source\":{\"id\":\"68a91a66-ee9b-4f66-96a8-df51758508e7\",\"type\":\"ColumnDataSource\"},\"glyph\":{\"id\":\"e2e915e7-2d20-486b-b1c3-4e3fead7543f\",\"type\":\"Patch\"},\"hover_glyph\":null,\"nonselection_glyph\":{\"id\":\"8ba667d4-34c0-478a-9800-56141b0ddd6b\",\"type\":\"Patch\"},\"selection_glyph\":null},\"id\":\"4e355205-86f9-4ef2-a8c0-91ce546427de\",\"type\":\"GlyphRenderer\"},{\"attributes\":{\"line_color\":{\"value\":\"#bebada\"},\"line_width\":{\"value\":2},\"x\":{\"field\":\"x\"},\"y\":{\"field\":\"y\"}},\"id\":\"fd25cf6b-e34a-45e4-a64f-da24796c9267\",\"type\":\"Line\"},{\"attributes\":{\"fill_alpha\":{\"value\":0.1},\"fill_color\":{\"value\":\"#1f77b4\"},\"line_alpha\":{\"value\":0.1},\"line_color\":{\"value\":\"#1f77b4\"},\"x\":{\"field\":\"x\"},\"y\":{\"field\":\"y\"}},\"id\":\"a11fc57d-0bca-49a7-aab7-40355d195148\",\"type\":\"Patch\"},{\"attributes\":{\"callback\":null,\"column_names\":[\"x\",\"y\"],\"data\":{\"x\":[0,10000,20000,30000,40000,50000,60000,70000,80000,90000,100000,110000,120000,130000,140000,150000,160000,170000,180000,190000,200000,210000,220000,230000,240000,250000,260000,270000,280000,290000,300000,310000,320000,330000,340000,350000,360000,370000,380000,390000,400000,410000,420000,430000,440000,450000,460000,470000,480000,490000,500000,510000,520000,530000,540000,550000,560000,570000,580000,590000,600000,610000,620000,630000,640000,650000,660000,670000,680000,690000,700000,710000,720000,730000,740000,750000,760000,770000,780000,790000,800000,810000,820000,830000,840000,850000,860000,870000,880000,890000,900000,910000,920000,930000,940000,950000,960000,970000,980000,990000,990000,980000,970000,960000,950000,940000,930000,920000,910000,900000,890000,880000,870000,860000,850000,840000,830000,820000,810000,800000,790000,780000,770000,760000,750000,740000,730000,720000,710000,700000,690000,680000,670000,660000,650000,640000,630000,620000,610000,600000,590000,580000,570000,560000,550000,540000,530000,520000,510000,500000,490000,480000,470000,460000,450000,440000,430000,420000,410000,400000,390000,380000,370000,360000,350000,340000,330000,320000,310000,300000,290000,280000,270000,260000,250000,240000,230000,220000,210000,200000,190000,180000,170000,160000,150000,140000,130000,120000,110000,100000,90000,80000,70000,60000,50000,40000,30000,20000,10000,0],\"y\":{\"__ndarray__\":\"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\",\"dtype\":\"float64\",\"shape\":[200]}}},\"id\":\"c558e2b6-d09e-457b-a22a-68ba817300e6\",\"type\":\"ColumnDataSource\"},{\"attributes\":{\"fill_alpha\":{\"value\":0.1},\"fill_color\":{\"value\":\"#fb8072\"},\"line_alpha\":{\"value\":0.1},\"line_color\":{\"value\":\"#fb8072\"},\"x\":{\"field\":\"x\"},\"y\":{\"field\":\"y\"}},\"id\":\"e2e915e7-2d20-486b-b1c3-4e3fead7543f\",\"type\":\"Patch\"},{\"attributes\":{\"data_source\":{\"id\":\"395c7581-771e-49ca-8b62-9ed719eb2850\",\"type\":\"ColumnDataSource\"},\"glyph\":{\"id\":\"fd25cf6b-e34a-45e4-a64f-da24796c9267\",\"type\":\"Line\"},\"hover_glyph\":null,\"nonselection_glyph\":{\"id\":\"ed978349-6720-4a38-a6b4-69bce7d79cf9\",\"type\":\"Line\"},\"selection_glyph\":null},\"id\":\"8ebd9eee-7e3c-4783-90da-257811a9cd47\",\"type\":\"GlyphRenderer\"},{\"attributes\":{\"line_alpha\":{\"value\":0.1},\"line_color\":{\"value\":\"#1f77b4\"},\"line_width\":{\"value\":2},\"x\":{\"field\":\"x\"},\"y\":{\"field\":\"y\"}},\"id\":\"ed978349-6720-4a38-a6b4-69bce7d79cf9\",\"type\":\"Line\"},{\"attributes\":{\"callback\":null,\"column_names\":[\"x\",\"y\"],\"data\":{\"x\":[0,10000,20000,30000,40000,50000,60000,70000,80000,90000,100000,110000,120000,130000,140000,150000,160000,170000,180000,190000,200000,210000,220000,230000,240000,250000,260000,270000,280000,290000,300000,310000,320000,330000,340000,350000,360000,370000,380000,390000,400000,410000,420000,430000,440000,450000,460000,470000,480000,490000,500000,510000,520000,530000,540000,550000,560000,570000,580000,590000,600000,610000,620000,630000,640000,650000,660000,670000,680000,690000,700000,710000,720000,730000,740000,750000,760000,770000,780000,790000,800000,810000,820000,830000,840000,850000,860000,870000,880000,890000,900000,910000,920000,930000,940000,950000,960000,970000,980000,990000,990000,980000,970000,960000,950000,940000,930000,920000,910000,900000,890000,880000,870000,860000,850000,840000,830000,820000,810000,800000,790000,780000,770000,760000,750000,740000,730000,720000,710000,700000,690000,680000,670000,660000,650000,640000,630000,620000,610000,600000,590000,580000,570000,560000,550000,540000,530000,520000,510000,500000,490000,480000,470000,460000,450000,440000,430000,420000,410000,400000,390000,380000,370000,360000,350000,340000,330000,320000,310000,300000,290000,280000,270000,260000,250000,240000,230000,220000,210000,200000,190000,180000,170000,160000,150000,140000,130000,120000,110000,100000,90000,80000,70000,60000,50000,40000,30000,20000,10000,0],\"y\":{\"__ndarray__\":\"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\",\"dtype\":\"float64\",\"shape\":[200]}}},\"id\":\"68a91a66-ee9b-4f66-96a8-df51758508e7\",\"type\":\"ColumnDataSource\"},{\"attributes\":{\"line_color\":{\"value\":\"#fb8072\"},\"line_width\":{\"value\":2},\"x\":{\"field\":\"x\"},\"y\":{\"field\":\"y\"}},\"id\":\"59d67f8b-2e69-487d-b0bb-1f199ff7a6b9\",\"type\":\"Line\"},{\"attributes\":{\"label\":{\"value\":\"DQN_50_Macros_Upto_16_Length\"},\"renderers\":[{\"id\":\"eaf9a880-93e4-4ff4-9120-049ae3de413d\",\"type\":\"GlyphRenderer\"}]},\"id\":\"7d196523-85fd-44bb-97ce-6c21fa607283\",\"type\":\"LegendItem\"},{\"attributes\":{\"label\":{\"value\":\"DQN_200_Macros_Upto_32_Length\"},\"renderers\":[{\"id\":\"8ebd9eee-7e3c-4783-90da-257811a9cd47\",\"type\":\"GlyphRenderer\"}]},\"id\":\"8da26c57-eebc-40b8-9886-c301660b0972\",\"type\":\"LegendItem\"},{\"attributes\":{\"label\":{\"value\":\"DQN_10_Macros_Upto_8_Length\"},\"renderers\":[{\"id\":\"64f1d627-5f86-433b-9778-3dd70c1de5de\",\"type\":\"GlyphRenderer\"}]},\"id\":\"363482d3-b3f3-4397-80e3-23e86decf3c8\",\"type\":\"LegendItem\"},{\"attributes\":{\"label\":{\"value\":\"DQN_50_Macros_Upto_16_Length\"},\"renderers\":[{\"id\":\"8bf76a3a-90df-4023-a097-5d4752980195\",\"type\":\"GlyphRenderer\"}]},\"id\":\"71e8b0b6-941f-4e8b-b10a-06705e19ee47\",\"type\":\"LegendItem\"},{\"attributes\":{\"callback\":null,\"column_names\":[\"x\",\"y\"],\"data\":{\"x\":[0,10000,20000,30000,40000,50000,60000,70000,80000,90000,100000,110000,120000,130000,140000,150000,160000,170000,180000,190000,200000,210000,220000,230000,240000,250000,260000,270000,280000,290000,300000,310000,320000,330000,340000,350000,360000,370000,380000,390000,400000,410000,420000,430000,440000,450000,460000,470000,480000,490000,500000,510000,520000,530000,540000,550000,560000,570000,580000,590000,600000,610000,620000,630000,640000,650000,660000,670000,680000,690000,700000,710000,720000,730000,740000,750000,760000,770000,780000,790000,800000,810000,820000,830000,840000,850000,860000,870000,880000,890000,900000,910000,920000,930000,940000,950000,960000,970000,980000,990000,990000,980000,970000,960000,950000,940000,930000,920000,910000,900000,890000,880000,870000,860000,850000,840000,830000,820000,810000,800000,790000,780000,770000,760000,750000,740000,730000,720000,710000,700000,690000,680000,670000,660000,650000,640000,630000,620000,610000,600000,590000,580000,570000,560000,550000,540000,530000,520000,510000,500000,490000,480000,470000,460000,450000,440000,430000,420000,410000,400000,390000,380000,370000,360000,350000,340000,330000,320000,310000,300000,290000,280000,270000,260000,250000,240000,230000,220000,210000,200000,190000,180000,170000,160000,150000,140000,130000,120000,110000,100000,90000,80000,70000,60000,50000,40000,30000,20000,10000,0],\"y\":{\"__ndarray__\":\"AAAAAAAAAAAbdAWaTUNTPyGptDS48+g/IxI1/vwp1b9nKqTeltbhvz5iNRgn/1U/wqBMo8nFOD/PNbOLPvPMv73gkmHYIFE/w6BMo8nFSD92SgP+bn1XP8VlGSOU+++/CMIOUIi61L8naBzmNL7bv/aCT3PyIlM/w6BMo8nFOD9D2ZgYTWtUP1zZAZbaTko/wfkFtpgRi79leXmOB6e4v8OgTKPJxTg/w6BMo8nFSD+luCh289JQPzLigFlgDUM/knh5OleUUj+gQYQ66b5OP2fHyJYmJ0c/R5YN7aBTUj/EoEyjycU4PxJRzlTJAvA/NFZesQQVRD9dSpqA4ZlBP8OgTKPJxTg/gDjK/rpVRD8ogyFuDeo+P6Im+nyUEVc/PF+vb6WaWD/GFCr7bc1JP8SgTKPJxVg/GIwuZzJ+0z8IXBaRJMdLP6qg4yU84kI/f37NUY1M17/DoEyjycU4PyDraJpzr1E/w6BMo8nFOD/EoEyjycU4P8OgTKPJxTg/xBHljdAQQD/DoEyjycVIP+b/FAyqzEI/+KPlgUqZRT/UtbUDcd1CP6/PaRCYa8M/8Cn82KLIOT+5Bc3ryX46PxbIuqIFSeo/SgPBoUW65j/DoEyjycVYP3Y7yLroX+A/X7x7GMJI2D8Fd+GJXRxXP7GrvxWeX8Q/MPMd/MQB8D84zrwqIkSwP02TPlR9PsY/ZFVDYKgC8D/XKZNbFeVDPygVUGdsq0g/yjSaXIwB8D/EoEyjycU4P5RpNLkYA/A/k3h5OleUUj+SeHk6V5RSP8OgTKPJxTg/BwkQg7zdUD/DoEyjycU4Px5H4K9E598/M6QL/gAp2T+v0bPbawLwP3SHE/4YD8Y/wlkC2nMQ7j/DoEyjycU4P1rlgOKr7Oo/1m2tOElQ0T+Q8PoNlYNKPw8DmklWAvA/cZc+9rdFSz9ens4VpQTwP8o0mlyMAfA/TDUxIDqCVz9W8UbmkT9IP8o0mlyMAfA/qjen0zwE8D9Hs/O4rAPwP+M83ftYAvA/UnqNqPAN2j9JoR+sUZfmPxiZgF8jSVA/IalEV+UB8D8hqURX5QHwPxiZgF8jSVA/SaEfrFGX5j9Seo2o8A3aP+M83ftYAvA/R7PzuKwD8D+qN6fTPATwP8o0mlyMAfA/VvFG5pE/SD9MNTEgOoJXP8o0mlyMAfA/Xp7OFaUE8D9xlz72t0VLPw8DmklWAvA/kPD6DZWDSj/Wba04SVDRP1rlgOKr7Oo/w6BMo8nFOD/CWQLacxDuP3SHE/4YD8Y/r9Gz22sC8D8zpAv+ACnZPx5H4K9E598/w6BMo8nFOD8HCRCDvN1QP8OgTKPJxTg/knh5OleUUj+TeHk6V5RSP5RpNLkYA/A/xKBMo8nFOD/KNJpcjAHwPygVUGdsq0g/1ymTWxXlQz9kVUNgqALwP02TPlR9PsY/OM68KiJEsD8w8x38xAHwP7GrvxWeX8Q/BXfhiV0cVz9fvHsYwkjYP3Y7yLroX+A/w6BMo8nFWD9KA8GhRbrmPxbIuqIFSeo/uQXN68l+Oj/wKfzYosg5P6/PaRCYa8M/1LW1A3HdQj/4o+WBSplFP+b/FAyqzEI/w6BMo8nFSD/EEeWN0BBAP8OgTKPJxTg/xKBMo8nFOD/DoEyjycU4PyDraJpzr1E/w6BMo8nFOD9/fs1RjUzXv6qg4yU84kI/CFwWkSTHSz8YjC5nMn7TP8SgTKPJxVg/xhQq+23NST88X69vpZpYP6Im+nyUEVc/KIMhbg3qPj+AOMr+ulVEP8OgTKPJxTg/XUqagOGZQT80Vl6xBBVEPxJRzlTJAvA/xKBMo8nFOD9Hlg3toFNSP2fHyJYmJ0c/oEGEOum+Tj+SeHk6V5RSPzLigFlgDUM/pbgodvPSUD/DoEyjycVIP8OgTKPJxTg/ZXl5jgenuL/B+QW2mBGLv1zZAZbaTko/Q9mYGE1rVD/DoEyjycU4P/aCT3PyIlM/J2gc5jS+278Iwg5QiLrUv8VlGSOU+++/dkoD/m59Vz/DoEyjycVIP73gkmHYIFE/zzWziz7zzL/CoEyjycU4Pz5iNRgn/1U/Zyqk3pbW4b8jEjX+/CnVvyGptDS48+g/G3QFmk1DUz8AAAAAAAAAAA==\",\"dtype\":\"float64\",\"shape\":[200]}}},\"id\":\"19a472f9-4164-461c-8b48-50f1b710d2e7\",\"type\":\"ColumnDataSource\"},{\"attributes\":{\"label\":{\"value\":\"DQN_50_Macros_Upto_16_Length\"},\"renderers\":[{\"id\":\"e8448258-910a-4536-8e2a-c01066532c4b\",\"type\":\"GlyphRenderer\"}]},\"id\":\"e7424f21-2d77-4190-92c0-4a67016da3b6\",\"type\":\"LegendItem\"},{\"attributes\":{\"label\":{\"value\":\"DQN_10_Macros_Upto_8_Length\"},\"renderers\":[{\"id\":\"030e9a93-68f3-412a-823f-df37bf16f193\",\"type\":\"GlyphRenderer\"}]},\"id\":\"4aa60170-772a-404c-b942-dd4b5ad74149\",\"type\":\"LegendItem\"},{\"attributes\":{\"label\":{\"value\":\"DQN_200_Macros_Upto_32_Length\"},\"renderers\":[{\"id\":\"65a47ee6-83c0-4e9b-b1ee-ef5be3d75b3f\",\"type\":\"GlyphRenderer\"}]},\"id\":\"04ed667b-a1bd-48af-8332-230ccca15ea4\",\"type\":\"LegendItem\"},{\"attributes\":{\"label\":{\"value\":\"DQN_200_Macros_Upto_32_Length\"},\"renderers\":[{\"id\":\"61fef775-62fb-4fd8-bd9b-62ef3d3b1b88\",\"type\":\"GlyphRenderer\"}]},\"id\":\"e8dd896c-c535-4406-bf60-90d971f083a5\",\"type\":\"LegendItem\"},{\"attributes\":{\"items\":[{\"id\":\"e9844273-5b84-4a16-ad94-140128c8a777\",\"type\":\"LegendItem\"},{\"id\":\"7d196523-85fd-44bb-97ce-6c21fa607283\",\"type\":\"LegendItem\"},{\"id\":\"8da26c57-eebc-40b8-9886-c301660b0972\",\"type\":\"LegendItem\"},{\"id\":\"363482d3-b3f3-4397-80e3-23e86decf3c8\",\"type\":\"LegendItem\"},{\"id\":\"e7424f21-2d77-4190-92c0-4a67016da3b6\",\"type\":\"LegendItem\"},{\"id\":\"04ed667b-a1bd-48af-8332-230ccca15ea4\",\"type\":\"LegendItem\"},{\"id\":\"4aa60170-772a-404c-b942-dd4b5ad74149\",\"type\":\"LegendItem\"},{\"id\":\"71e8b0b6-941f-4e8b-b10a-06705e19ee47\",\"type\":\"LegendItem\"},{\"id\":\"e8dd896c-c535-4406-bf60-90d971f083a5\",\"type\":\"LegendItem\"}],\"location\":[0,-30],\"plot\":{\"id\":\"ae7f54b6-9005-4d38-9240-2b52e569715e\",\"subtype\":\"Figure\",\"type\":\"Plot\"}},\"id\":\"9d9cb632-44dc-47df-a40e-d56dc73a369a\",\"type\":\"Legend\"},{\"attributes\":{\"line_color\":{\"value\":\"#d9d9d9\"},\"line_width\":{\"value\":2},\"x\":{\"field\":\"x\"},\"y\":{\"field\":\"y\"}},\"id\":\"898d258e-bab5-4525-b0e9-d6fde8de3c22\",\"type\":\"Line\"},{\"attributes\":{\"line_alpha\":{\"value\":0.1},\"line_color\":{\"value\":\"#1f77b4\"},\"line_width\":{\"value\":2},\"x\":{\"field\":\"x\"},\"y\":{\"field\":\"y\"}},\"id\":\"b9b1ee8d-45be-4102-b1f2-76fb1c3b66b9\",\"type\":\"Line\"},{\"attributes\":{\"callback\":null,\"column_names\":[\"x\",\"y\"],\"data\":{\"x\":[0,10000,20000,30000,40000,50000,60000,70000,80000,90000,100000,110000,120000,130000,140000,150000,160000,170000,180000,190000,200000,210000,220000,230000,240000,250000,260000,270000,280000,290000,300000,310000,320000,330000,340000,350000,360000,370000,380000,390000,400000,410000,420000,430000,440000,450000,460000,470000,480000,490000,500000,510000,520000,530000,540000,550000,560000,570000,580000,590000,600000,610000,620000,630000,640000,650000,660000,670000,680000,690000,700000,710000,720000,730000,740000,750000,760000,770000,780000,790000,800000,810000,820000,830000,840000,850000,860000,870000,880000,890000,900000,910000,920000,930000,940000,950000,960000,970000,980000,990000,990000,980000,970000,960000,950000,940000,930000,920000,910000,900000,890000,880000,870000,860000,850000,840000,830000,820000,810000,800000,790000,780000,770000,760000,750000,740000,730000,720000,710000,700000,690000,680000,670000,660000,650000,640000,630000,620000,610000,600000,590000,580000,570000,560000,550000,540000,530000,520000,510000,500000,490000,480000,470000,460000,450000,440000,430000,420000,410000,400000,390000,380000,370000,360000,350000,340000,330000,320000,310000,300000,290000,280000,270000,260000,250000,240000,230000,220000,210000,200000,190000,180000,170000,160000,150000,140000,130000,120000,110000,100000,90000,80000,70000,60000,50000,40000,30000,20000,10000,0],\"y\":{\"__ndarray__\":\"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\",\"dtype\":\"float64\",\"shape\":[200]}}},\"id\":\"c90b018d-523c-43f0-8c52-587b204f3191\",\"type\":\"ColumnDataSource\"},{\"attributes\":{\"callback\":null,\"column_names\":[\"x\",\"y\"],\"data\":{\"x\":[0,10000,20000,30000,40000,50000,60000,70000,80000,90000,100000,110000,120000,130000,140000,150000,160000,170000,180000,190000,200000,210000,220000,230000,240000,250000,260000,270000,280000,290000,300000,310000,320000,330000,340000,350000,360000,370000,380000,390000,400000,410000,420000,430000,440000,450000,460000,470000,480000,490000,500000,510000,520000,530000,540000,550000,560000,570000,580000,590000,600000,610000,620000,630000,640000,650000,660000,670000,680000,690000,700000,710000,720000,730000,740000,750000,760000,770000,780000,790000,800000,810000,820000,830000,840000,850000,860000,870000,880000,890000,900000,910000,920000,930000,940000,950000,960000,970000,980000,990000,990000,980000,970000,960000,950000,940000,930000,920000,910000,900000,890000,880000,870000,860000,850000,840000,830000,820000,810000,800000,790000,780000,770000,760000,750000,740000,730000,720000,710000,700000,690000,680000,670000,660000,650000,640000,630000,620000,610000,600000,590000,580000,570000,560000,550000,540000,530000,520000,510000,500000,490000,480000,470000,460000,450000,440000,430000,420000,410000,400000,390000,380000,370000,360000,350000,340000,330000,320000,310000,300000,290000,280000,270000,260000,250000,240000,230000,220000,210000,200000,190000,180000,170000,160000,150000,140000,130000,120000,110000,100000,90000,80000,70000,60000,50000,40000,30000,20000,10000,0],\"y\":{\"__ndarray__\":\"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\",\"dtype\":\"float64\",\"shape\":[200]}}},\"id\":\"48c93953-1bfa-4c28-9c16-ccccaf624739\",\"type\":\"ColumnDataSource\"},{\"attributes\":{\"axis_label\":\"T\",\"formatter\":{\"id\":\"dfb0d48e-027d-4a98-aba2-f231aa264770\",\"type\":\"BasicTickFormatter\"},\"plot\":{\"id\":\"ae7f54b6-9005-4d38-9240-2b52e569715e\",\"subtype\":\"Figure\",\"type\":\"Plot\"},\"ticker\":{\"id\":\"005c4b25-c225-4d09-836b-5606bfb96983\",\"type\":\"BasicTicker\"}},\"id\":\"8bd18c95-f448-48b3-ba11-8936c377595f\",\"type\":\"LinearAxis\"},{\"attributes\":{\"plot\":{\"id\":\"ae7f54b6-9005-4d38-9240-2b52e569715e\",\"subtype\":\"Figure\",\"type\":\"Plot\"},\"ticker\":{\"id\":\"005c4b25-c225-4d09-836b-5606bfb96983\",\"type\":\"BasicTicker\"}},\"id\":\"51ede043-e54e-4f48-b7a2-b2a790e52ba7\",\"type\":\"Grid\"},{\"attributes\":{\"plot\":{\"id\":\"ae7f54b6-9005-4d38-9240-2b52e569715e\",\"subtype\":\"Figure\",\"type\":\"Plot\"}},\"id\":\"3f0f2903-95f8-471e-b29e-f3c0914301dd\",\"type\":\"ResetTool\"},{\"attributes\":{\"axis_label\":\"Episode Reward\",\"formatter\":{\"id\":\"5476c54a-050c-4e10-84fe-714997462741\",\"type\":\"BasicTickFormatter\"},\"plot\":{\"id\":\"ae7f54b6-9005-4d38-9240-2b52e569715e\",\"subtype\":\"Figure\",\"type\":\"Plot\"},\"ticker\":{\"id\":\"d8a03c45-ba83-413e-8126-42555faece8c\",\"type\":\"BasicTicker\"}},\"id\":\"b1bbf034-250f-40a1-88c4-edbb0748a9ef\",\"type\":\"LinearAxis\"},{\"attributes\":{\"dimension\":1,\"plot\":{\"id\":\"ae7f54b6-9005-4d38-9240-2b52e569715e\",\"subtype\":\"Figure\",\"type\":\"Plot\"},\"ticker\":{\"id\":\"d8a03c45-ba83-413e-8126-42555faece8c\",\"type\":\"BasicTicker\"}},\"id\":\"847d646b-67c8-4c94-a3b3-6a3906250eab\",\"type\":\"Grid\"},{\"attributes\":{\"data_source\":{\"id\":\"dc95367d-b3c4-4a34-b9d9-b1b9554e9bb5\",\"type\":\"ColumnDataSource\"},\"glyph\":{\"id\":\"d1fa4ae5-366b-4fd2-b57b-b368f5009344\",\"type\":\"Patch\"},\"hover_glyph\":null,\"nonselection_glyph\":{\"id\":\"9885db12-cc14-411d-9fad-b3400744b247\",\"type\":\"Patch\"},\"selection_glyph\":null},\"id\":\"3e6ec0eb-ef03-4fe1-9d7c-39a75904746f\",\"type\":\"GlyphRenderer\"},{\"attributes\":{\"callback\":null,\"column_names\":[\"x\",\"y\"],\"data\":{\"x\":[0,10000,20000,30000,40000,50000,60000,70000,80000,90000,100000,110000,120000,130000,140000,150000,160000,170000,180000,190000,200000,210000,220000,230000,240000,250000,260000,270000,280000,290000,300000,310000,320000,330000,340000,350000,360000,370000,380000,390000,400000,410000,420000,430000,440000,450000,460000,470000,480000,490000,500000,510000,520000,530000,540000,550000,560000,570000,580000,590000,600000,610000,620000,630000,640000,650000,660000,670000,680000,690000,700000,710000,720000,730000,740000,750000,760000,770000,780000,790000,800000,810000,820000,830000,840000,850000,860000,870000,880000,890000,900000,910000,920000,930000,940000,950000,960000,970000,980000,990000],\"y\":{\"__ndarray__\":\"AAAAAAAAAABEw2LUtfbvv2rgtxK/6ei//D7Mi8sj1b+PK69TYy7cv6+uOieBqdy/8+RZx7T177/JluXrMvzvv9cMO3vgnb2/+EZkmCTHeL9tlstG5/zvv7dZJpHoI+m/m3WCqVKw1L9rc3reuA7ivzBuowG8BUI/M/EgYMgA1r/+n4DfNXvov/o/xEdGC1E/eFpJ70uH77+jYV+FB+Tsv/WSMi5Wbsq/FXSEgNlG1L/cSRhpuETivwhp4k6Ohd2/wqBMo8nFOD8+8d1oBFxCPzrkJX0d9++/2CyXjc75778s12ouOtW2vx4vwXYqkum/7y2+ixIK5r8Xmzj8fOXav8OgTKPJxUg/xlip8ZWA5L/ZofhVbqzPvwSV8e8zLjw/Ldx0CF1EWD/DoEyjycU4P4omkf8GLkE/QgcsP2865r+rpEBppWnav3pQD09yRkI/sKL0ZERX17+uxL6hMRU/P6QTbN5KbsK/8XxDIu9ZWD/GNCy4Rovtv87qV1M5z8e/UC8/lily5r++wKxQpPvvv+b/FAyqzEI/d46OPpwQ5L/UtbUDcd1CPxIYLFd8hDw/xKBMo8nFOD8KVexsCXtXP/yLoDGTqFc/xKBMo8nFOD9U5uMzSynjvyJtLsnwUeC/Y53+JMvc47/DoEyjycU4P9Zdfqkr7Oq/46rccp1w7r97Mr6tt4xJPy1b8KpgcOq/BBQnOHf477/XKZNbFeVTPxrpWb3KGOC/dtY4b9SX2L+KxMA8G4jRvysihtyKwFc/TA/6EjtLq7/8KdkmOUCsv724kfOAtkY/kA5Mr089Qz+MCnmVNbjYvxNXewgJEeC/H+ONHRcV2b++C9k8zUdFP5/aHZNHdFA/wsKcxCser78wd2pvcvzvvyJ9VljuyFc/cGJITiZuRT+Q8PoNlYNKP9h82qRhdkI/PH0AEWBUQT/7agojOzJVPxsVLLoKR+q/aOhepX6dST+SeHk6V5RSP/bejX0TZMO/EClHgxgpRj8C5fPL4gJBP+PnXPoHguC//x3PKvJpQT8MRNFAbdZNP1Do9SfxuVM/W7hrh4LYRz8=\",\"dtype\":\"float64\",\"shape\":[100]}}},\"id\":\"6007274b-089d-4952-952b-d7f34f405c5d\",\"type\":\"ColumnDataSource\"},{\"attributes\":{\"line_color\":{\"value\":\"#fccde5\"},\"line_width\":{\"value\":2},\"x\":{\"field\":\"x\"},\"y\":{\"field\":\"y\"}},\"id\":\"2e4a8c81-bb3c-4732-9fdf-f9bbf521b7be\",\"type\":\"Line\"},{\"attributes\":{},\"id\":\"d8a03c45-ba83-413e-8126-42555faece8c\",\"type\":\"BasicTicker\"},{\"attributes\":{\"callback\":null,\"column_names\":[\"x\",\"y\"],\"data\":{\"x\":[0,10000,20000,30000,40000,50000,60000,70000,80000,90000,100000,110000,120000,130000,140000,150000,160000,170000,180000,190000,200000,210000,220000,230000,240000,250000,260000,270000,280000,290000,300000,310000,320000,330000,340000,350000,360000,370000,380000,390000,400000,410000,420000,430000,440000,450000,460000,470000,480000,490000,500000,510000,520000,530000,540000,550000,560000,570000,580000,590000,600000,610000,620000,630000,640000,650000,660000,670000,680000,690000,700000,710000,720000,730000,740000,750000,760000,770000,780000,790000,800000,810000,820000,830000,840000,850000,860000,870000,880000,890000,900000,910000,920000,930000,940000,950000,960000,970000,980000,990000],\"y\":{\"__ndarray__\":\"AAAAAAAAAABtlstG5/zvvxF/D9clEMy/osFBNJTv77+DgPqSTMzhv4HV+fkNpeG/AUVpsCtq1b/jTYaSsOTvv+JMD8kO7e+/rwqH3Qapdb/u1NHpw9Tvv0B+9Tb57O+/rPgm81iW5b8yBeklhffvv64BMf5SE92/HneLQs+nQD+SEm9h4pdzP0Bh6CVzM0o/Kt3b8Hqugr/+Ft5nmYa3v2gGje5P7e+/9/TwqyfS5b8qjxid3PHvv6hINiBPLOG/HxxrsUXL5D9MCYRcJ/Hvv0XBja9+GXI/eL7gVROFSD8FcQUJJgvtv1x8ksbFhcm/HOf1pXrx77905fCKYvbvvzaodkGqimA/BLd4uK9I0j8aT4zi+//nv348BRyGjeu/JMtFO+yBZT873LglIv5nP294Hm2cG8i/dxxArzcuYj/HqGvtfarivyw8bGNu+++/02uzsRLz77+Y79w6fQBhP9zpY4Dh2u+/rXtFXo/k779fzpyqBj2zv+8nlgsYp8e/dyPbtTD30r9J/fUKC+7Zv/wtAfin1O+/VRK/PPiw178CMstZMJznv2pcPP0ipUo/F7qbeO6H7r8KVexsCXtXP7u04bA08O+/FZlsuuB+0r+6Qp21mvPvv6jH+al70WM/huJc2I0Iaj8V93i+D3fnPzyYxbhx1cO/cVSYJal27r/DoEyjycVIPxM3NzQTg+o/qMo4yCgQ5z/YLJeNzvnvvwfGIqe9PeA/35+eT5Zp2L8xqsjqDY3Rvw6B1tAT2lw/l49jaaP577/zRNOYjvzvv09MGslfseo/RfZBlgUT57/jXTFJpprYvxjekkytN+A/ll8GY0SicD8W4rmZLOzmv1UWDaTotcW/NN8x19w/7D/57dOCQdWmv1wiM0hmeMQ/3Sl66Zom0b/EELvzBa9qP78l4ORDR+C/LOnwg2Af47/CyCcnxKPmv010AyTIBsc/4j0HliPk779VwICX7PXvvzQGjCh0+cK/9Z32DAAt3r+vDDj5JK1wP9q9PtrQ32c/L7BxB8/t2b8vg2F1byHTP+7xffsm9em/iCtPW4L2sr8=\",\"dtype\":\"float64\",\"shape\":[100]}}},\"id\":\"4a197af1-4e11-4628-b05e-7866d66c577c\",\"type\":\"ColumnDataSource\"},{\"attributes\":{\"callback\":null,\"end\":3.2,\"start\":-1.2},\"id\":\"b2b964e4-dd45-4bd1-a956-b1a04914d046\",\"type\":\"Range1d\"},{\"attributes\":{},\"id\":\"005c4b25-c225-4d09-836b-5606bfb96983\",\"type\":\"BasicTicker\"},{\"attributes\":{\"callback\":null,\"column_names\":[\"x\",\"y\"],\"data\":{\"x\":[0,10000,20000,30000,40000,50000,60000,70000,80000,90000,100000,110000,120000,130000,140000,150000,160000,170000,180000,190000,200000,210000,220000,230000,240000,250000,260000,270000,280000,290000,300000,310000,320000,330000,340000,350000,360000,370000,380000,390000,400000,410000,420000,430000,440000,450000,460000,470000,480000,490000,500000,510000,520000,530000,540000,550000,560000,570000,580000,590000,600000,610000,620000,630000,640000,650000,660000,670000,680000,690000,700000,710000,720000,730000,740000,750000,760000,770000,780000,790000,800000,810000,820000,830000,840000,850000,860000,870000,880000,890000,900000,910000,920000,930000,940000,950000,960000,970000,980000,990000,990000,980000,970000,960000,950000,940000,930000,920000,910000,900000,890000,880000,870000,860000,850000,840000,830000,820000,810000,800000,790000,780000,770000,760000,750000,740000,730000,720000,710000,700000,690000,680000,670000,660000,650000,640000,630000,620000,610000,600000,590000,580000,570000,560000,550000,540000,530000,520000,510000,500000,490000,480000,470000,460000,450000,440000,430000,420000,410000,400000,390000,380000,370000,360000,350000,340000,330000,320000,310000,300000,290000,280000,270000,260000,250000,240000,230000,220000,210000,200000,190000,180000,170000,160000,150000,140000,130000,120000,110000,100000,90000,80000,70000,60000,50000,40000,30000,20000,10000,0],\"y\":{\"__ndarray__\":\"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\",\"dtype\":\"float64\",\"shape\":[200]}}},\"id\":\"355c607f-c88b-46c2-820d-845e72397078\",\"type\":\"ColumnDataSource\"},{\"attributes\":{\"below\":[{\"id\":\"8bd18c95-f448-48b3-ba11-8936c377595f\",\"type\":\"LinearAxis\"}],\"left\":[{\"id\":\"b1bbf034-250f-40a1-88c4-edbb0748a9ef\",\"type\":\"LinearAxis\"}],\"plot_height\":800,\"plot_width\":1200,\"renderers\":[{\"id\":\"8bd18c95-f448-48b3-ba11-8936c377595f\",\"type\":\"LinearAxis\"},{\"id\":\"51ede043-e54e-4f48-b7a2-b2a790e52ba7\",\"type\":\"Grid\"},{\"id\":\"b1bbf034-250f-40a1-88c4-edbb0748a9ef\",\"type\":\"LinearAxis\"},{\"id\":\"847d646b-67c8-4c94-a3b3-6a3906250eab\",\"type\":\"Grid\"},{\"id\":\"8b9dc17d-d7d6-43a6-9387-4641aa2f5c20\",\"type\":\"BoxAnnotation\"},{\"id\":\"ac22a1f5-5c75-48e9-9b89-69102472f486\",\"type\":\"GlyphRenderer\"},{\"id\":\"1f6e7d33-9e1a-492c-93a4-feb007bab3c6\",\"type\":\"GlyphRenderer\"},{\"id\":\"33b4928d-752e-45c5-907a-aa74bbcd861c\",\"type\":\"GlyphRenderer\"},{\"id\":\"eaf9a880-93e4-4ff4-9120-049ae3de413d\",\"type\":\"GlyphRenderer\"},{\"id\":\"37d31fed-410b-4c59-8d41-4e0e7c708312\",\"type\":\"GlyphRenderer\"},{\"id\":\"8ebd9eee-7e3c-4783-90da-257811a9cd47\",\"type\":\"GlyphRenderer\"},{\"id\":\"4e355205-86f9-4ef2-a8c0-91ce546427de\",\"type\":\"GlyphRenderer\"},{\"id\":\"64f1d627-5f86-433b-9778-3dd70c1de5de\",\"type\":\"GlyphRenderer\"},{\"id\":\"ffa73a03-9b23-424b-8cb1-d013185ea42f\",\"type\":\"GlyphRenderer\"},{\"id\":\"e8448258-910a-4536-8e2a-c01066532c4b\",\"type\":\"GlyphRenderer\"},{\"id\":\"3e6ec0eb-ef03-4fe1-9d7c-39a75904746f\",\"type\":\"GlyphRenderer\"},{\"id\":\"65a47ee6-83c0-4e9b-b1ee-ef5be3d75b3f\",\"type\":\"GlyphRenderer\"},{\"id\":\"de33ad32-681a-47ae-a007-0e0b3861a8ee\",\"type\":\"GlyphRenderer\"},{\"id\":\"030e9a93-68f3-412a-823f-df37bf16f193\",\"type\":\"GlyphRenderer\"},{\"id\":\"6b5e5925-b015-40c9-bfa0-f2e86ec4ff48\",\"type\":\"GlyphRenderer\"},{\"id\":\"8bf76a3a-90df-4023-a097-5d4752980195\",\"type\":\"GlyphRenderer\"},{\"id\":\"0e5abc5f-55e0-4b2f-b512-775f60d0d87b\",\"type\":\"GlyphRenderer\"},{\"id\":\"61fef775-62fb-4fd8-bd9b-62ef3d3b1b88\",\"type\":\"GlyphRenderer\"},{\"id\":\"9d9cb632-44dc-47df-a40e-d56dc73a369a\",\"type\":\"Legend\"}],\"right\":[{\"id\":\"9d9cb632-44dc-47df-a40e-d56dc73a369a\",\"type\":\"Legend\"}],\"title\":{\"id\":\"b8a97463-a10f-4235-b0f6-e00308ef2ecb\",\"type\":\"Title\"},\"tool_events\":{\"id\":\"3c650c89-22c6-479e-9948-e27e399319e9\",\"type\":\"ToolEvents\"},\"toolbar\":{\"id\":\"6a925727-924f-4d05-b009-6ba60e33c26c\",\"type\":\"Toolbar\"},\"toolbar_location\":\"above\",\"x_range\":{\"id\":\"2ea4f745-6d53-43ca-bb23-c45698f4fad8\",\"type\":\"DataRange1d\"},\"y_range\":{\"id\":\"b2b964e4-dd45-4bd1-a956-b1a04914d046\",\"type\":\"Range1d\"}},\"id\":\"ae7f54b6-9005-4d38-9240-2b52e569715e\",\"subtype\":\"Figure\",\"type\":\"Plot\"},{\"attributes\":{\"line_alpha\":{\"value\":0.1},\"line_color\":{\"value\":\"#1f77b4\"},\"line_width\":{\"value\":2},\"x\":{\"field\":\"x\"},\"y\":{\"field\":\"y\"}},\"id\":\"bd79c681-3ad8-4682-a1c6-a99bfe255f62\",\"type\":\"Line\"},{\"attributes\":{\"callback\":null},\"id\":\"2ea4f745-6d53-43ca-bb23-c45698f4fad8\",\"type\":\"DataRange1d\"},{\"attributes\":{\"data_source\":{\"id\":\"c1074935-05f4-4984-a62b-c444833bbcdf\",\"type\":\"ColumnDataSource\"},\"glyph\":{\"id\":\"b3c8ec66-6107-45f2-97ad-e85a6c5fd066\",\"type\":\"Line\"},\"hover_glyph\":null,\"nonselection_glyph\":{\"id\":\"bd79c681-3ad8-4682-a1c6-a99bfe255f62\",\"type\":\"Line\"},\"selection_glyph\":null},\"id\":\"030e9a93-68f3-412a-823f-df37bf16f193\",\"type\":\"GlyphRenderer\"},{\"attributes\":{\"line_alpha\":{\"value\":0.1},\"line_color\":{\"value\":\"#1f77b4\"},\"line_width\":{\"value\":2},\"x\":{\"field\":\"x\"},\"y\":{\"field\":\"y\"}},\"id\":\"0a173897-7a10-4c41-91c6-f1c081d8521e\",\"type\":\"Line\"},{\"attributes\":{},\"id\":\"3c650c89-22c6-479e-9948-e27e399319e9\",\"type\":\"ToolEvents\"},{\"attributes\":{\"fill_alpha\":{\"value\":0.1},\"fill_color\":{\"value\":\"#fccde5\"},\"line_alpha\":{\"value\":0.1},\"line_color\":{\"value\":\"#fccde5\"},\"x\":{\"field\":\"x\"},\"y\":{\"field\":\"y\"}},\"id\":\"ff3fb217-f485-4497-aeaf-cbb148d329fd\",\"type\":\"Patch\"},{\"attributes\":{\"active_drag\":\"auto\",\"active_scroll\":\"auto\",\"active_tap\":\"auto\",\"tools\":[{\"id\":\"6c0a9dc1-ae58-41ec-be67-d599b1be517d\",\"type\":\"PanTool\"},{\"id\":\"05193aaa-1857-424d-a010-c7c8b4e47c7c\",\"type\":\"WheelZoomTool\"},{\"id\":\"ec0a5f0e-501b-44cd-9bf3-4f7a9028aee2\",\"type\":\"BoxZoomTool\"},{\"id\":\"5b0608a7-e37d-4efd-bac4-af6d816ff3e3\",\"type\":\"SaveTool\"},{\"id\":\"3f0f2903-95f8-471e-b29e-f3c0914301dd\",\"type\":\"ResetTool\"},{\"id\":\"3291a98b-ab13-4f6b-b4f1-59aefdd49f72\",\"type\":\"HelpTool\"}]},\"id\":\"6a925727-924f-4d05-b009-6ba60e33c26c\",\"type\":\"Toolbar\"},{\"attributes\":{\"data_source\":{\"id\":\"355c607f-c88b-46c2-820d-845e72397078\",\"type\":\"ColumnDataSource\"},\"glyph\":{\"id\":\"62650985-6229-42f2-8253-d073b0542e6f\",\"type\":\"Patch\"},\"hover_glyph\":null,\"nonselection_glyph\":{\"id\":\"58ff5b38-c331-4665-b10b-53d76b8b8ae8\",\"type\":\"Patch\"},\"selection_glyph\":null},\"id\":\"0e5abc5f-55e0-4b2f-b512-775f60d0d87b\",\"type\":\"GlyphRenderer\"},{\"attributes\":{\"callback\":null,\"column_names\":[\"x\",\"y\"],\"data\":{\"x\":[0,10000,20000,30000,40000,50000,60000,70000,80000,90000,100000,110000,120000,130000,140000,150000,160000,170000,180000,190000,200000,210000,220000,230000,240000,250000,260000,270000,280000,290000,300000,310000,320000,330000,340000,350000,360000,370000,380000,390000,400000,410000,420000,430000,440000,450000,460000,470000,480000,490000,500000,510000,520000,530000,540000,550000,560000,570000,580000,590000,600000,610000,620000,630000,640000,650000,660000,670000,680000,690000,700000,710000,720000,730000,740000,750000,760000,770000,780000,790000,800000,810000,820000,830000,840000,850000,860000,870000,880000,890000,900000,910000,920000,930000,940000,950000,960000,970000,980000,990000],\"y\":{\"__ndarray__\":\"AAAAAAAAAADg2gccyPjvv2VsFwlu6ui/fJq7Y1Xr778qljsVs+zvv0XDYtS19u+/yhHxVIPv778d8PlhhPDvv+4IZspKUkc/ljZNmlSmdb9jUxq2ZzC6v5J4eTpXlFI/ZgX9NYa41L9YYCR3whLiv9PB+j+H+e+/HneLQs+nQD8Gmslq63fov9PjPWa0Auy/Ju3gKcYR77+yVHp8vvO4P6ElfePmcMq/OrhTgN3I5b/spYhNu1PCv8if6ac8+++/mfTAKkNj1r8lmoFMb0Dov0Blu8CoY1M/WQ3YuIdV779qHVVNEHU/P5AnJU9PkOm/MvokHNL/5b9dSpqA4ZlBPwmZ9ryU9N2/1olJe0L07793VIpMBCngPzb4HnIxT0g/WmUkPjZHWT/R3+fOj0ztvyWyZ/v0yem/bOPtTdEx5r92izALqXnavyWT1dyUXd6/9JNz1gRa5D+IirI5C7xVP8Rk65s4+u+/yKDF4OQsob/y/AqFWzezv/9O6arFDOo/yPK4jW935r83VIzzN6FgP4I1QRG8LPk/44TC7Xt61b8RajW3zVteP6YaePIq7UE/xEsznLDAVj/Fnvn0Wrjovwbpp/u/CPA/LaNUgdiVZT8JdCZtqu5RP0xMlessGOm/9oJeenTe1D96TLILCf/hvxRKFLhutrc/egQ3J60P5T/WyMtnc05QP9vhr8ka9UA/87+Z2WmoUj9rZztyrtvsv4ZudJEBHkQ/2+78oi+G1D8+Uy3lO3ZDP6c5vIRfcN2/knh5OleUUj+E7ukm1pbgv1NMN08G3Os/zlFiQ2Zd77/CoEyjycVIP1MUGvLIDMo/0E0MAB0D2L9slstG5/zvvwNPESBUGt4/NGQwKyn177/tLkW5ipDPv4bl5RS6ZcG/jOk/bmaCmr9slstG5/zvv0dEAHW1o8c/w6BMo8nFOD+1yaxMXSrmP24RbUxeNcU/2JOwr4Y83j+sRsDu7XvkP2rVgnoJEdA/BPzjIE0Dwj9M+CMIFiXvPylf0EICRlc/Ne3tyEPs6T94TvC34C7Tv1gNhY6b3Vk/zk5sPPab3j8=\",\"dtype\":\"float64\",\"shape\":[100]}}},\"id\":\"8ce2f09d-d397-4895-8159-c2bf8342e6b1\",\"type\":\"ColumnDataSource\"},{\"attributes\":{\"plot\":null,\"text\":\"Options\"},\"id\":\"b8a97463-a10f-4235-b0f6-e00308ef2ecb\",\"type\":\"Title\"},{\"attributes\":{\"fill_alpha\":{\"value\":0.1},\"fill_color\":{\"value\":\"#1f77b4\"},\"line_alpha\":{\"value\":0.1},\"line_color\":{\"value\":\"#1f77b4\"},\"x\":{\"field\":\"x\"},\"y\":{\"field\":\"y\"}},\"id\":\"58ff5b38-c331-4665-b10b-53d76b8b8ae8\",\"type\":\"Patch\"},{\"attributes\":{\"data_source\":{\"id\":\"48c93953-1bfa-4c28-9c16-ccccaf624739\",\"type\":\"ColumnDataSource\"},\"glyph\":{\"id\":\"ff3fb217-f485-4497-aeaf-cbb148d329fd\",\"type\":\"Patch\"},\"hover_glyph\":null,\"nonselection_glyph\":{\"id\":\"1289c1bc-4ea8-4b41-88c5-b7625b868fc4\",\"type\":\"Patch\"},\"selection_glyph\":null},\"id\":\"6b5e5925-b015-40c9-bfa0-f2e86ec4ff48\",\"type\":\"GlyphRenderer\"},{\"attributes\":{\"callback\":null,\"column_names\":[\"x\",\"y\"],\"data\":{\"x\":[0,10000,20000,30000,40000,50000,60000,70000,80000,90000,100000,110000,120000,130000,140000,150000,160000,170000,180000,190000,200000,210000,220000,230000,240000,250000,260000,270000,280000,290000,300000,310000,320000,330000,340000,350000,360000,370000,380000,390000,400000,410000,420000,430000,440000,450000,460000,470000,480000,490000,500000,510000,520000,530000,540000,550000,560000,570000,580000,590000,600000,610000,620000,630000,640000,650000,660000,670000,680000,690000,700000,710000,720000,730000,740000,750000,760000,770000,780000,790000,800000,810000,820000,830000,840000,850000,860000,870000,880000,890000,900000,910000,920000,930000,940000,950000,960000,970000,980000,990000],\"y\":{\"__ndarray__\":\"AAAAAAAAAAAprqiE5rhWP6CyHCXwCUY/7uLqbtgl1b/yq5eEDdvhv7ojHo2EOEM/xl3Bdx2uVj/Y5CGkh6zov4GOklLIPOy/BNHII4hpfT/UsTglm8e6P5J4eTpXlFI/bJbLRuf8779Pg4B8NB7iPxQtYPfyD92/FfMlY0zx5L/DoEyjycU4P5J4eTpXlFI/SuLp1u3wSD/+RY9dZSxYP/WSMi5Wbsq/mpzjUBxJ1L/GZRkjlPvvv9+Vedxcf92/wqBMo8nFSD9Ew2LUtfbvv24vsXP/yuu/hu7Tcw9KOj9PJ8ClOBvtv3O41AQQvD0/lGk0uRgD8D+OHDViYYDivwmZ9ryU9N2/w6BMo8nFOD8ogyFuDeo+P0SJljyelj8/iyp+kKb877/sIHLkSBO1v6ZZvkE4rsi/iLKzp2ImQD/xmpTDqRNRPxa0T3D2dt4/Fd9Q+GwdTD/OjhOkFZ5FP4vWjiNYWTw/TAeLr/Ll7r/EoEyjycVYP2oT5rtXbFE/QmbVIabv0r/gx6y268zHP8OgTKPJxTg/wnalM0Vz0D/EoEyjycVYP7HHhYWXIUA/1K0Rr0mwpL+zYbHNFbGxv8xjzcggd1E/AOIs6Hz2Pz+SeHk6V5RSP+Rt5hJLC0k/NVZesQQVRD9Ed4rX+fjvv7SgqGDjRMQ//821lnF97j9uQbI/zvdSP8OgTKPJxUg/+F6ELFwZ0r9Kj5dzsEPLP5JilBRfK+A/97dFG4T677+URoj0kpXRv+LnnTXsKcU/OX6XIZM+7r+XdcjaQC/uv62JRiSQPMW/eEem+o+q3D9J6Mp2AbzYv8OgTKPJxTg/IhUkMFZ34z++C9k8zUdFP9AC8fu5pUY/o06PULybrr8gVyvrBuTsP3uymNtk4uq/w6BMo8nFOD87nj5XC0TYvxqZ5qgrVeA/ooYlbmeT2T838feLronSPxgA0lpA6MY/qQ+6DF86sb/zOcO6Ieykv5qHjTT1+++/WkcU2F81VD+WCmSPMO7XP2yWy0bn/O+/xKBMo8nFOD843czjU/DSP5w3icvdD+q/LIktvxCzST8=\",\"dtype\":\"float64\",\"shape\":[100]}}},\"id\":\"c1074935-05f4-4984-a62b-c444833bbcdf\",\"type\":\"ColumnDataSource\"},{\"attributes\":{\"callback\":null,\"column_names\":[\"x\",\"y\"],\"data\":{\"x\":[0,10000,20000,30000,40000,50000,60000,70000,80000,90000,100000,110000,120000,130000,140000,150000,160000,170000,180000,190000,200000,210000,220000,230000,240000,250000,260000,270000,280000,290000,300000,310000,320000,330000,340000,350000,360000,370000,380000,390000,400000,410000,420000,430000,440000,450000,460000,470000,480000,490000,500000,510000,520000,530000,540000,550000,560000,570000,580000,590000,600000,610000,620000,630000,640000,650000,660000,670000,680000,690000,700000,710000,720000,730000,740000,750000,760000,770000,780000,790000,800000,810000,820000,830000,840000,850000,860000,870000,880000,890000,900000,910000,920000,930000,940000,950000,960000,970000,980000,990000,990000,980000,970000,960000,950000,940000,930000,920000,910000,900000,890000,880000,870000,860000,850000,840000,830000,820000,810000,800000,790000,780000,770000,760000,750000,740000,730000,720000,710000,700000,690000,680000,670000,660000,650000,640000,630000,620000,610000,600000,590000,580000,570000,560000,550000,540000,530000,520000,510000,500000,490000,480000,470000,460000,450000,440000,430000,420000,410000,400000,390000,380000,370000,360000,350000,340000,330000,320000,310000,300000,290000,280000,270000,260000,250000,240000,230000,220000,210000,200000,190000,180000,170000,160000,150000,140000,130000,120000,110000,100000,90000,80000,70000,60000,50000,40000,30000,20000,10000,0],\"y\":{\"__ndarray__\":\"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\",\"dtype\":\"float64\",\"shape\":[200]}}},\"id\":\"8fec415b-2c6f-4a15-b935-c01458d4b543\",\"type\":\"ColumnDataSource\"},{\"attributes\":{\"line_color\":{\"value\":\"#b3de69\"},\"line_width\":{\"value\":2},\"x\":{\"field\":\"x\"},\"y\":{\"field\":\"y\"}},\"id\":\"b3c8ec66-6107-45f2-97ad-e85a6c5fd066\",\"type\":\"Line\"},{\"attributes\":{\"fill_alpha\":{\"value\":0.1},\"fill_color\":{\"value\":\"#1f77b4\"},\"line_alpha\":{\"value\":0.1},\"line_color\":{\"value\":\"#1f77b4\"},\"x\":{\"field\":\"x\"},\"y\":{\"field\":\"y\"}},\"id\":\"1289c1bc-4ea8-4b41-88c5-b7625b868fc4\",\"type\":\"Patch\"},{\"attributes\":{\"data_source\":{\"id\":\"27d9dba8-5891-4584-b152-6f8db8926763\",\"type\":\"ColumnDataSource\"},\"glyph\":{\"id\":\"546b0251-95b0-4d76-bfca-a4de3d6eedf7\",\"type\":\"Line\"},\"hover_glyph\":null,\"nonselection_glyph\":{\"id\":\"0a173897-7a10-4c41-91c6-f1c081d8521e\",\"type\":\"Line\"},\"selection_glyph\":null},\"id\":\"65a47ee6-83c0-4e9b-b1ee-ef5be3d75b3f\",\"type\":\"GlyphRenderer\"},{\"attributes\":{\"fill_alpha\":{\"value\":0.1},\"fill_color\":{\"value\":\"#1f77b4\"},\"line_alpha\":{\"value\":0.1},\"line_color\":{\"value\":\"#1f77b4\"},\"x\":{\"field\":\"x\"},\"y\":{\"field\":\"y\"}},\"id\":\"c53086af-8c0d-495a-92cb-c1c9fa1de891\",\"type\":\"Patch\"},{\"attributes\":{\"data_source\":{\"id\":\"8fec415b-2c6f-4a15-b935-c01458d4b543\",\"type\":\"ColumnDataSource\"},\"glyph\":{\"id\":\"a63d8d71-87f5-4d15-aede-31ce5e1b8104\",\"type\":\"Patch\"},\"hover_glyph\":null,\"nonselection_glyph\":{\"id\":\"c53086af-8c0d-495a-92cb-c1c9fa1de891\",\"type\":\"Patch\"},\"selection_glyph\":null},\"id\":\"de33ad32-681a-47ae-a007-0e0b3861a8ee\",\"type\":\"GlyphRenderer\"},{\"attributes\":{\"line_color\":{\"value\":\"#fdb462\"},\"line_width\":{\"value\":2},\"x\":{\"field\":\"x\"},\"y\":{\"field\":\"y\"}},\"id\":\"546b0251-95b0-4d76-bfca-a4de3d6eedf7\",\"type\":\"Line\"},{\"attributes\":{\"data_source\":{\"id\":\"4a197af1-4e11-4628-b05e-7866d66c577c\",\"type\":\"ColumnDataSource\"},\"glyph\":{\"id\":\"898d258e-bab5-4525-b0e9-d6fde8de3c22\",\"type\":\"Line\"},\"hover_glyph\":null,\"nonselection_glyph\":{\"id\":\"b9b1ee8d-45be-4102-b1f2-76fb1c3b66b9\",\"type\":\"Line\"},\"selection_glyph\":null},\"id\":\"61fef775-62fb-4fd8-bd9b-62ef3d3b1b88\",\"type\":\"GlyphRenderer\"},{\"attributes\":{\"fill_alpha\":{\"value\":0.1},\"fill_color\":{\"value\":\"#fdb462\"},\"line_alpha\":{\"value\":0.1},\"line_color\":{\"value\":\"#fdb462\"},\"x\":{\"field\":\"x\"},\"y\":{\"field\":\"y\"}},\"id\":\"d1fa4ae5-366b-4fd2-b57b-b368f5009344\",\"type\":\"Patch\"},{\"attributes\":{\"data_source\":{\"id\":\"8ce2f09d-d397-4895-8159-c2bf8342e6b1\",\"type\":\"ColumnDataSource\"},\"glyph\":{\"id\":\"2e4a8c81-bb3c-4732-9fdf-f9bbf521b7be\",\"type\":\"Line\"},\"hover_glyph\":null,\"nonselection_glyph\":{\"id\":\"d8e6a60c-1e5e-4dc6-88e0-d103a8a8aeb6\",\"type\":\"Line\"},\"selection_glyph\":null},\"id\":\"8bf76a3a-90df-4023-a097-5d4752980195\",\"type\":\"GlyphRenderer\"},{\"attributes\":{\"fill_alpha\":{\"value\":0.1},\"fill_color\":{\"value\":\"#d9d9d9\"},\"line_alpha\":{\"value\":0.1},\"line_color\":{\"value\":\"#d9d9d9\"},\"x\":{\"field\":\"x\"},\"y\":{\"field\":\"y\"}},\"id\":\"62650985-6229-42f2-8253-d073b0542e6f\",\"type\":\"Patch\"},{\"attributes\":{\"line_alpha\":{\"value\":0.1},\"line_color\":{\"value\":\"#1f77b4\"},\"line_width\":{\"value\":2},\"x\":{\"field\":\"x\"},\"y\":{\"field\":\"y\"}},\"id\":\"d8e6a60c-1e5e-4dc6-88e0-d103a8a8aeb6\",\"type\":\"Line\"},{\"attributes\":{\"use_scientific\":false},\"id\":\"dfb0d48e-027d-4a98-aba2-f231aa264770\",\"type\":\"BasicTickFormatter\"},{\"attributes\":{\"callback\":null,\"column_names\":[\"x\",\"y\"],\"data\":{\"x\":[0,10000,20000,30000,40000,50000,60000,70000,80000,90000,100000,110000,120000,130000,140000,150000,160000,170000,180000,190000,200000,210000,220000,230000,240000,250000,260000,270000,280000,290000,300000,310000,320000,330000,340000,350000,360000,370000,380000,390000,400000,410000,420000,430000,440000,450000,460000,470000,480000,490000,500000,510000,520000,530000,540000,550000,560000,570000,580000,590000,600000,610000,620000,630000,640000,650000,660000,670000,680000,690000,700000,710000,720000,730000,740000,750000,760000,770000,780000,790000,800000,810000,820000,830000,840000,850000,860000,870000,880000,890000,900000,910000,920000,930000,940000,950000,960000,970000,980000,990000],\"y\":{\"__ndarray__\":\"AAAAAAAAAADHSLwjg/rvv7kjHo2EOFM/uiZj+iH1TD+IHrPwNvFiP4DHMRS0Ck0/zteqIMV+Uj+SvknToGhOP/RavYdQrWc/hBstSLWMZT81C/V2iMBjP4I7D2xYEj4/Q2gALkYgXT9mx8iWJidXP8xjzcggd1E/B3pnMt+AVD+eaYWoQClZP/o/xEdGC1E/BYpYxLDDaD+83zvdkMVEPyaiHiBbVem/knh5OleUYj/EoEyjycVIPzLigFlgDVM/M7umckS35L/WArHusmtmP8OgTKPJxUg/w6BMo8nFOD/EoEyjycU4P5J4eTpXlGI/xtwN+U07YD8LTm90FClmP3oyvq23jEk/oWwLUcKNVj/EoEyjycVYPwSV8e8zLjw/8Cn82KLIST+V7FaS+5tTP9gLQrpaK0s/Hzvp/1k0Tz+ZqctmT4RBP5NQeMz/KVg/knh5OleUUj+wg0ZvNhlkP8OgTKPJxVg/rDLR47b7WD/SS4h4aYZTP0KuUj1YRGA/TBfgfn/ITj/SQV3fEQHjP24ZsdF2jVg/t7w+J6zbYT+fRh3cGz9jP2pcPP0ipUo/hBstSLWMZT+wak00yjdMPzZ39L9ci1Y/YsG8RSNeTD9CkAGcnYpXPxHt5XuHXVg/JnRlZe7rZD9A9CLWoRhMPwmCRUGvvWI/jqz8MhgjYj87N64BTjBeP4c1258heeo/cEQ46E9cYD8RLIzwteVPPylyR31V7Vg/tDtj3TspQT832s3QdpVfP+9HTXpdgkI/FEgL1KMrZT+qgpKEgShKP85wwgJb5Dw/Hb6ZGiao0b8ev8s6Ny1hP2E6rdug9t8/knh5OleUUj/HNcAJxkNMP5GlQsHGj+o/Tj5PpW2Qrz9iFzG+FF6pP5izezPsNGM/5bZ9j/rrVT9Rl8mxdwPwPxMtHNSIU+A/qvmSpEBI4z+Hl8lwEZbSPxZ5lmFeBPA/QXEcflrfsT+mnTLKkymnP51D2G5+AvA/19OMCIUG8D8R2vC3/AXwP4xIXOvsBN8/KNNocjEG8D8t8fVYxpDmP8SgTKPJxTg/t+3+JmGn7T8=\",\"dtype\":\"float64\",\"shape\":[100]}}},\"id\":\"502af817-61d4-42e0-a4bc-5d015807c939\",\"type\":\"ColumnDataSource\"},{\"attributes\":{\"label\":{\"value\":\"DQN_10_Macros_Upto_8_Length\"},\"renderers\":[{\"id\":\"1f6e7d33-9e1a-492c-93a4-feb007bab3c6\",\"type\":\"GlyphRenderer\"}]},\"id\":\"e9844273-5b84-4a16-ad94-140128c8a777\",\"type\":\"LegendItem\"},{\"attributes\":{\"line_alpha\":{\"value\":0.1},\"line_color\":{\"value\":\"#1f77b4\"},\"line_width\":{\"value\":2},\"x\":{\"field\":\"x\"},\"y\":{\"field\":\"y\"}},\"id\":\"2fb29836-653f-4e25-80aa-4b52fddd8605\",\"type\":\"Line\"},{\"attributes\":{\"plot\":{\"id\":\"ae7f54b6-9005-4d38-9240-2b52e569715e\",\"subtype\":\"Figure\",\"type\":\"Plot\"}},\"id\":\"6c0a9dc1-ae58-41ec-be67-d599b1be517d\",\"type\":\"PanTool\"},{\"attributes\":{\"fill_alpha\":{\"value\":0.1},\"fill_color\":{\"value\":\"#b3de69\"},\"line_alpha\":{\"value\":0.1},\"line_color\":{\"value\":\"#b3de69\"},\"x\":{\"field\":\"x\"},\"y\":{\"field\":\"y\"}},\"id\":\"a63d8d71-87f5-4d15-aede-31ce5e1b8104\",\"type\":\"Patch\"},{\"attributes\":{\"bottom_units\":\"screen\",\"fill_alpha\":{\"value\":0.5},\"fill_color\":{\"value\":\"lightgrey\"},\"left_units\":\"screen\",\"level\":\"overlay\",\"line_alpha\":{\"value\":1.0},\"line_color\":{\"value\":\"black\"},\"line_dash\":[4,4],\"line_width\":{\"value\":2},\"plot\":null,\"render_mode\":\"css\",\"right_units\":\"screen\",\"top_units\":\"screen\"},\"id\":\"8b9dc17d-d7d6-43a6-9387-4641aa2f5c20\",\"type\":\"BoxAnnotation\"},{\"attributes\":{\"data_source\":{\"id\":\"c558e2b6-d09e-457b-a22a-68ba817300e6\",\"type\":\"ColumnDataSource\"},\"glyph\":{\"id\":\"eeb13948-0c53-4a35-873a-6cb2298da28f\",\"type\":\"Patch\"},\"hover_glyph\":null,\"nonselection_glyph\":{\"id\":\"a11fc57d-0bca-49a7-aab7-40355d195148\",\"type\":\"Patch\"},\"selection_glyph\":null},\"id\":\"ffa73a03-9b23-424b-8cb1-d013185ea42f\",\"type\":\"GlyphRenderer\"},{\"attributes\":{\"plot\":{\"id\":\"ae7f54b6-9005-4d38-9240-2b52e569715e\",\"subtype\":\"Figure\",\"type\":\"Plot\"}},\"id\":\"05193aaa-1857-424d-a010-c7c8b4e47c7c\",\"type\":\"WheelZoomTool\"},{\"attributes\":{\"overlay\":{\"id\":\"8b9dc17d-d7d6-43a6-9387-4641aa2f5c20\",\"type\":\"BoxAnnotation\"},\"plot\":{\"id\":\"ae7f54b6-9005-4d38-9240-2b52e569715e\",\"subtype\":\"Figure\",\"type\":\"Plot\"}},\"id\":\"ec0a5f0e-501b-44cd-9bf3-4f7a9028aee2\",\"type\":\"BoxZoomTool\"},{\"attributes\":{\"line_color\":{\"value\":\"#80b1d3\"},\"line_width\":{\"value\":2},\"x\":{\"field\":\"x\"},\"y\":{\"field\":\"y\"}},\"id\":\"2d9dc997-bdfe-44d6-9c52-39effe820a34\",\"type\":\"Line\"},{\"attributes\":{\"plot\":{\"id\":\"ae7f54b6-9005-4d38-9240-2b52e569715e\",\"subtype\":\"Figure\",\"type\":\"Plot\"}},\"id\":\"5b0608a7-e37d-4efd-bac4-af6d816ff3e3\",\"type\":\"SaveTool\"},{\"attributes\":{\"fill_alpha\":{\"value\":0.1},\"fill_color\":{\"value\":\"#1f77b4\"},\"line_alpha\":{\"value\":0.1},\"line_color\":{\"value\":\"#1f77b4\"},\"x\":{\"field\":\"x\"},\"y\":{\"field\":\"y\"}},\"id\":\"9885db12-cc14-411d-9fad-b3400744b247\",\"type\":\"Patch\"},{\"attributes\":{\"data_source\":{\"id\":\"502af817-61d4-42e0-a4bc-5d015807c939\",\"type\":\"ColumnDataSource\"},\"glyph\":{\"id\":\"2d9dc997-bdfe-44d6-9c52-39effe820a34\",\"type\":\"Line\"},\"hover_glyph\":null,\"nonselection_glyph\":{\"id\":\"2fb29836-653f-4e25-80aa-4b52fddd8605\",\"type\":\"Line\"},\"selection_glyph\":null},\"id\":\"e8448258-910a-4536-8e2a-c01066532c4b\",\"type\":\"GlyphRenderer\"},{\"attributes\":{\"plot\":{\"id\":\"ae7f54b6-9005-4d38-9240-2b52e569715e\",\"subtype\":\"Figure\",\"type\":\"Plot\"}},\"id\":\"3291a98b-ab13-4f6b-b4f1-59aefdd49f72\",\"type\":\"HelpTool\"}],\"root_ids\":[\"ae7f54b6-9005-4d38-9240-2b52e569715e\"]},\"title\":\"Bokeh Application\",\"version\":\"0.12.4\"}};\n",
       "            var render_items = [{\"docid\":\"f8e9c265-9fbb-4003-b913-92c3d20ecb57\",\"elementid\":\"8cc84e44-8bd1-436d-8360-c50fb3bb1a4a\",\"modelid\":\"ae7f54b6-9005-4d38-9240-2b52e569715e\"}];\n",
       "            \n",
       "            Bokeh.embed.embed_items(docs_json, render_items);\n",
       "          };\n",
       "          if (document.readyState != \"loading\") fn();\n",
       "          else document.addEventListener(\"DOMContentLoaded\", fn);\n",
       "        })();\n",
       "      },\n",
       "      function(Bokeh) {\n",
       "      }\n",
       "    ];\n",
       "  \n",
       "    function run_inline_js() {\n",
       "      \n",
       "      if ((window.Bokeh !== undefined) || (force === true)) {\n",
       "        for (var i = 0; i < inline_js.length; i++) {\n",
       "          inline_js[i](window.Bokeh);\n",
       "        }if (force === true) {\n",
       "          display_loaded();\n",
       "        }} else if (Date.now() < window._bokeh_timeout) {\n",
       "        setTimeout(run_inline_js, 100);\n",
       "      } else if (!window._bokeh_failed_load) {\n",
       "        console.log(\"Bokeh: BokehJS failed to load within specified timeout.\");\n",
       "        window._bokeh_failed_load = true;\n",
       "      } else if (force !== true) {\n",
       "        var cell = $(document.getElementById(\"8cc84e44-8bd1-436d-8360-c50fb3bb1a4a\")).parents('.cell').data().cell;\n",
       "        cell.output_area.append_execute_result(NB_LOAD_WARNING)\n",
       "      }\n",
       "  \n",
       "    }\n",
       "  \n",
       "    if (window._bokeh_is_loading === 0) {\n",
       "      console.log(\"Bokeh: BokehJS loaded, going straight to plotting\");\n",
       "      run_inline_js();\n",
       "    } else {\n",
       "      load_libs(js_urls, function() {\n",
       "        console.log(\"Bokeh: BokehJS plotting callback run at\", now());\n",
       "        run_inline_js();\n",
       "      });\n",
       "    }\n",
       "  }(this));\n",
       "</script>"
      ]
     },
     "metadata": {},
     "output_type": "display_data"
    }
   ],
   "source": [
    "plot_averages_b(names, t_maxs, Set3[9], legends, directories, step=10000, title=\"Options\")"
   ]
  },
  {
   "cell_type": "code",
   "execution_count": null,
   "metadata": {
    "collapsed": true
   },
   "outputs": [],
   "source": []
  },
  {
   "cell_type": "code",
   "execution_count": 56,
   "metadata": {
    "collapsed": false
   },
   "outputs": [
    {
     "ename": "IsADirectoryError",
     "evalue": "[Errno 21] Is a directory: '/home/tabz/Dropbox/RL/Log_Files/March 2017/Options_Logs/Maze_10_Batch_32_Options_Count_Cts_7_Conv_True_Beta_0.01_Eps_1_uid_33_2017-03-20_23-57'",
     "output_type": "error",
     "traceback": [
      "\u001b[0;31m---------------------------------------------------------------------------\u001b[0m",
      "\u001b[0;31mIsADirectoryError\u001b[0m                         Traceback (most recent call last)",
      "\u001b[0;32m<ipython-input-56-e3851f8becb5>\u001b[0m in \u001b[0;36m<module>\u001b[0;34m()\u001b[0m\n\u001b[0;32m----> 1\u001b[0;31m \u001b[0;32mwith\u001b[0m \u001b[0mopen\u001b[0m\u001b[0;34m(\u001b[0m\u001b[0;34m\"/home/tabz/Dropbox/RL/Log_Files/March 2017/Options_Logs/Maze_10_Batch_32_Options_Count_Cts_7_Conv_True_Beta_0.01_Eps_1_uid_33_2017-03-20_23-57\"\u001b[0m\u001b[0;34m,\u001b[0m \u001b[0;34m\"r\"\u001b[0m\u001b[0;34m)\u001b[0m \u001b[0;32mas\u001b[0m \u001b[0mf\u001b[0m\u001b[0;34m:\u001b[0m\u001b[0;34m\u001b[0m\u001b[0m\n\u001b[0m\u001b[1;32m      2\u001b[0m     \u001b[0mprint\u001b[0m\u001b[0;34m(\u001b[0m\u001b[0mf\u001b[0m\u001b[0;34m)\u001b[0m\u001b[0;34m\u001b[0m\u001b[0m\n",
      "\u001b[0;31mIsADirectoryError\u001b[0m: [Errno 21] Is a directory: '/home/tabz/Dropbox/RL/Log_Files/March 2017/Options_Logs/Maze_10_Batch_32_Options_Count_Cts_7_Conv_True_Beta_0.01_Eps_1_uid_33_2017-03-20_23-57'"
     ]
    }
   ],
   "source": [
    "with open(\"/home/tabz/Dropbox/RL/Log_Files/March 2017/Options_Logs/Maze_10_Batch_32_Options_Count_Cts_7_Conv_True_Beta_0.01_Eps_1_uid_33_2017-03-20_23-57/logs/\", \"r\") as f:\n",
    "    print(f)"
   ]
  },
  {
   "cell_type": "code",
   "execution_count": null,
   "metadata": {
    "collapsed": true
   },
   "outputs": [],
   "source": []
  },
  {
   "cell_type": "code",
   "execution_count": null,
   "metadata": {
    "collapsed": true
   },
   "outputs": [],
   "source": [
    "DQN_Smoothed = []\n",
    "for times, rewards in zip(DQN_Lengths_C, DQN_Rewards):\n",
    "    linear = interp1d(times, rewards, kind=\"linear\")\n",
    "    linear_rewards = linear([i for i in range(500000)])\n",
    "    DQN_Smoothed.append(linear_rewards)"
   ]
  },
  {
   "cell_type": "code",
   "execution_count": null,
   "metadata": {
    "collapsed": true
   },
   "outputs": [],
   "source": [
    "DQN_Means = np.mean(DQN_Smoothed, axis=0)"
   ]
  },
  {
   "cell_type": "code",
   "execution_count": null,
   "metadata": {
    "collapsed": true
   },
   "outputs": [],
   "source": [
    "DQN_Stds = np.std(DQN_Smoothed, axis=0)"
   ]
  },
  {
   "cell_type": "code",
   "execution_count": null,
   "metadata": {
    "collapsed": false
   },
   "outputs": [],
   "source": [
    "plt.fill_between([i for i in range(500000)], DQN_Means - DQN_Stds, DQN_Means + DQN_Stds, color=\"red\", alpha=0.3, edgecolor=\"white\")\n",
    "\n",
    "plt.plot([i for i in range(500000)], DQN_Means, color=\"red\")"
   ]
  },
  {
   "cell_type": "code",
   "execution_count": null,
   "metadata": {
    "collapsed": false
   },
   "outputs": [],
   "source": [
    "len(DQN_Repeat)"
   ]
  },
  {
   "cell_type": "code",
   "execution_count": null,
   "metadata": {
    "collapsed": true
   },
   "outputs": [],
   "source": [
    "plt.plot(DQN)"
   ]
  },
  {
   "cell_type": "code",
   "execution_count": null,
   "metadata": {
    "collapsed": true
   },
   "outputs": [],
   "source": [
    "directories = [\"Logs/\"]"
   ]
  },
  {
   "cell_type": "code",
   "execution_count": null,
   "metadata": {
    "collapsed": false
   },
   "outputs": [],
   "source": [
    "for i in range(0, 10, 2):\n",
    "    print(i)"
   ]
  },
  {
   "cell_type": "code",
   "execution_count": null,
   "metadata": {
    "collapsed": true
   },
   "outputs": [],
   "source": []
  }
 ],
 "metadata": {
  "kernelspec": {
   "display_name": "Python 3",
   "language": "python",
   "name": "python3"
  },
  "language_info": {
   "codemirror_mode": {
    "name": "ipython",
    "version": 3
   },
   "file_extension": ".py",
   "mimetype": "text/x-python",
   "name": "python",
   "nbconvert_exporter": "python",
   "pygments_lexer": "ipython3",
   "version": "3.6.0"
  }
 },
 "nbformat": 4,
 "nbformat_minor": 2
}
