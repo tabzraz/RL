{
 "cells": [
  {
   "cell_type": "code",
   "execution_count": 6,
   "metadata": {
    "collapsed": false,
    "deletable": true,
    "editable": true
   },
   "outputs": [
    {
     "data": {
      "text/html": [
       "\n",
       "    <div class=\"bk-root\">\n",
       "        <a href=\"http://bokeh.pydata.org\" target=\"_blank\" class=\"bk-logo bk-logo-small bk-logo-notebook\"></a>\n",
       "        <span id=\"8af97efb-e938-40a1-8114-0dc87f556417\">Loading BokehJS ...</span>\n",
       "    </div>"
      ]
     },
     "metadata": {},
     "output_type": "display_data"
    },
    {
     "data": {
      "application/javascript": [
       "\n",
       "(function(global) {\n",
       "  function now() {\n",
       "    return new Date();\n",
       "  }\n",
       "\n",
       "  var force = true;\n",
       "\n",
       "  if (typeof (window._bokeh_onload_callbacks) === \"undefined\" || force === true) {\n",
       "    window._bokeh_onload_callbacks = [];\n",
       "    window._bokeh_is_loading = undefined;\n",
       "  }\n",
       "\n",
       "\n",
       "  \n",
       "  if (typeof (window._bokeh_timeout) === \"undefined\" || force === true) {\n",
       "    window._bokeh_timeout = Date.now() + 5000;\n",
       "    window._bokeh_failed_load = false;\n",
       "  }\n",
       "\n",
       "  var NB_LOAD_WARNING = {'data': {'text/html':\n",
       "     \"<div style='background-color: #fdd'>\\n\"+\n",
       "     \"<p>\\n\"+\n",
       "     \"BokehJS does not appear to have successfully loaded. If loading BokehJS from CDN, this \\n\"+\n",
       "     \"may be due to a slow or bad network connection. Possible fixes:\\n\"+\n",
       "     \"</p>\\n\"+\n",
       "     \"<ul>\\n\"+\n",
       "     \"<li>re-rerun `output_notebook()` to attempt to load from CDN again, or</li>\\n\"+\n",
       "     \"<li>use INLINE resources instead, as so:</li>\\n\"+\n",
       "     \"</ul>\\n\"+\n",
       "     \"<code>\\n\"+\n",
       "     \"from bokeh.resources import INLINE\\n\"+\n",
       "     \"output_notebook(resources=INLINE)\\n\"+\n",
       "     \"</code>\\n\"+\n",
       "     \"</div>\"}};\n",
       "\n",
       "  function display_loaded() {\n",
       "    if (window.Bokeh !== undefined) {\n",
       "      document.getElementById(\"8af97efb-e938-40a1-8114-0dc87f556417\").textContent = \"BokehJS successfully loaded.\";\n",
       "    } else if (Date.now() < window._bokeh_timeout) {\n",
       "      setTimeout(display_loaded, 100)\n",
       "    }\n",
       "  }\n",
       "\n",
       "  function run_callbacks() {\n",
       "    window._bokeh_onload_callbacks.forEach(function(callback) { callback() });\n",
       "    delete window._bokeh_onload_callbacks\n",
       "    console.info(\"Bokeh: all callbacks have finished\");\n",
       "  }\n",
       "\n",
       "  function load_libs(js_urls, callback) {\n",
       "    window._bokeh_onload_callbacks.push(callback);\n",
       "    if (window._bokeh_is_loading > 0) {\n",
       "      console.log(\"Bokeh: BokehJS is being loaded, scheduling callback at\", now());\n",
       "      return null;\n",
       "    }\n",
       "    if (js_urls == null || js_urls.length === 0) {\n",
       "      run_callbacks();\n",
       "      return null;\n",
       "    }\n",
       "    console.log(\"Bokeh: BokehJS not loaded, scheduling load and callback at\", now());\n",
       "    window._bokeh_is_loading = js_urls.length;\n",
       "    for (var i = 0; i < js_urls.length; i++) {\n",
       "      var url = js_urls[i];\n",
       "      var s = document.createElement('script');\n",
       "      s.src = url;\n",
       "      s.async = false;\n",
       "      s.onreadystatechange = s.onload = function() {\n",
       "        window._bokeh_is_loading--;\n",
       "        if (window._bokeh_is_loading === 0) {\n",
       "          console.log(\"Bokeh: all BokehJS libraries loaded\");\n",
       "          run_callbacks()\n",
       "        }\n",
       "      };\n",
       "      s.onerror = function() {\n",
       "        console.warn(\"failed to load library \" + url);\n",
       "      };\n",
       "      console.log(\"Bokeh: injecting script tag for BokehJS library: \", url);\n",
       "      document.getElementsByTagName(\"head\")[0].appendChild(s);\n",
       "    }\n",
       "  };var element = document.getElementById(\"8af97efb-e938-40a1-8114-0dc87f556417\");\n",
       "  if (element == null) {\n",
       "    console.log(\"Bokeh: ERROR: autoload.js configured with elementid '8af97efb-e938-40a1-8114-0dc87f556417' but no matching script tag was found. \")\n",
       "    return false;\n",
       "  }\n",
       "\n",
       "  var js_urls = [\"https://cdn.pydata.org/bokeh/release/bokeh-0.12.4.min.js\", \"https://cdn.pydata.org/bokeh/release/bokeh-widgets-0.12.4.min.js\"];\n",
       "\n",
       "  var inline_js = [\n",
       "    function(Bokeh) {\n",
       "      Bokeh.set_log_level(\"info\");\n",
       "    },\n",
       "    \n",
       "    function(Bokeh) {\n",
       "      \n",
       "      document.getElementById(\"8af97efb-e938-40a1-8114-0dc87f556417\").textContent = \"BokehJS is loading...\";\n",
       "    },\n",
       "    function(Bokeh) {\n",
       "      console.log(\"Bokeh: injecting CSS: https://cdn.pydata.org/bokeh/release/bokeh-0.12.4.min.css\");\n",
       "      Bokeh.embed.inject_css(\"https://cdn.pydata.org/bokeh/release/bokeh-0.12.4.min.css\");\n",
       "      console.log(\"Bokeh: injecting CSS: https://cdn.pydata.org/bokeh/release/bokeh-widgets-0.12.4.min.css\");\n",
       "      Bokeh.embed.inject_css(\"https://cdn.pydata.org/bokeh/release/bokeh-widgets-0.12.4.min.css\");\n",
       "    }\n",
       "  ];\n",
       "\n",
       "  function run_inline_js() {\n",
       "    \n",
       "    if ((window.Bokeh !== undefined) || (force === true)) {\n",
       "      for (var i = 0; i < inline_js.length; i++) {\n",
       "        inline_js[i](window.Bokeh);\n",
       "      }if (force === true) {\n",
       "        display_loaded();\n",
       "      }} else if (Date.now() < window._bokeh_timeout) {\n",
       "      setTimeout(run_inline_js, 100);\n",
       "    } else if (!window._bokeh_failed_load) {\n",
       "      console.log(\"Bokeh: BokehJS failed to load within specified timeout.\");\n",
       "      window._bokeh_failed_load = true;\n",
       "    } else if (force !== true) {\n",
       "      var cell = $(document.getElementById(\"8af97efb-e938-40a1-8114-0dc87f556417\")).parents('.cell').data().cell;\n",
       "      cell.output_area.append_execute_result(NB_LOAD_WARNING)\n",
       "    }\n",
       "\n",
       "  }\n",
       "\n",
       "  if (window._bokeh_is_loading === 0) {\n",
       "    console.log(\"Bokeh: BokehJS loaded, going straight to plotting\");\n",
       "    run_inline_js();\n",
       "  } else {\n",
       "    load_libs(js_urls, function() {\n",
       "      console.log(\"Bokeh: BokehJS plotting callback run at\", now());\n",
       "      run_inline_js();\n",
       "    });\n",
       "  }\n",
       "}(this));"
      ]
     },
     "metadata": {},
     "output_type": "display_data"
    }
   ],
   "source": [
    "from bokeh.plotting import figure, output_notebook, show\n",
    "output_notebook()"
   ]
  },
  {
   "cell_type": "code",
   "execution_count": 7,
   "metadata": {
    "collapsed": true,
    "deletable": true,
    "editable": true
   },
   "outputs": [],
   "source": [
    "import glob"
   ]
  },
  {
   "cell_type": "code",
   "execution_count": 8,
   "metadata": {
    "collapsed": true,
    "deletable": true,
    "editable": true
   },
   "outputs": [],
   "source": [
    "import numpy as np"
   ]
  },
  {
   "cell_type": "code",
   "execution_count": 9,
   "metadata": {
    "collapsed": true,
    "deletable": true,
    "editable": true
   },
   "outputs": [],
   "source": [
    "from scipy.interpolate import interp1d\n",
    "from scipy.interpolate import spline"
   ]
  },
  {
   "cell_type": "code",
   "execution_count": 10,
   "metadata": {
    "collapsed": true,
    "deletable": true,
    "editable": true
   },
   "outputs": [],
   "source": [
    "from tqdm import tqdm"
   ]
  },
  {
   "cell_type": "code",
   "execution_count": 11,
   "metadata": {
    "collapsed": true,
    "deletable": true,
    "editable": true
   },
   "outputs": [],
   "source": [
    "DQN_Rewards_Path = \"/home/tabz/Dropbox/RL/Log_Files/March 2017/Maze_5_Batch_Sizes_Logs/*DQN*/logs/Episode_Rewards.txt\"\n",
    "DQN_Lengths_Path = \"/home/tabz/Dropbox/RL/Log_Files/March 2017/Maze_5_Batch_Sizes_Logs/*DQN*/logs/Episode_Lengths.txt\"\n",
    "DQN_Rewards = []\n",
    "DQN_Lengths = []\n",
    "DQN_Lengths_C = []"
   ]
  },
  {
   "cell_type": "code",
   "execution_count": 12,
   "metadata": {
    "collapsed": true,
    "deletable": true,
    "editable": true
   },
   "outputs": [],
   "source": [
    "for filename in glob.glob(DQN_Rewards_Path):\n",
    "    run_logs = [0]\n",
    "#     print(filename)\n",
    "    with open(filename, \"r\") as f:\n",
    "        for line in f:\n",
    "            try:\n",
    "                ep_r = float(line)\n",
    "            except:\n",
    "                continue\n",
    "            run_logs.append(ep_r)\n",
    "    DQN_Rewards.append(run_logs)"
   ]
  },
  {
   "cell_type": "code",
   "execution_count": 13,
   "metadata": {
    "collapsed": true,
    "deletable": true,
    "editable": true
   },
   "outputs": [],
   "source": [
    "for filename in glob.glob(DQN_Lengths_Path):\n",
    "    run_logs = [0]\n",
    "#     print(filename)\n",
    "    with open(filename, \"r\") as f:\n",
    "        for line in f:\n",
    "            try:\n",
    "                ep_r = float(line)\n",
    "            except:\n",
    "                continue\n",
    "            run_logs.append(ep_r)\n",
    "    DQN_Lengths.append(run_logs)\n",
    "    run_logs_c = np.cumsum(run_logs).astype(np.int32)\n",
    "    DQN_Lengths_C.append(run_logs_c)"
   ]
  },
  {
   "cell_type": "markdown",
   "metadata": {
    "collapsed": false,
    "deletable": true,
    "editable": true
   },
   "source": [
    "for lens, runs in zip(DQN_Lengths_C, DQN_Rewards):\n",
    "    plt.plot(lens, runs)\n",
    "plt.show()"
   ]
  },
  {
   "cell_type": "markdown",
   "metadata": {
    "collapsed": false,
    "deletable": true,
    "editable": true
   },
   "source": [
    "p = figure(width=500, height=500, y_range=(-1,3))\n",
    "for lens, runs in zip(DQN_Lengths_C, DQN_Rewards):\n",
    "    p.line(lens, runs)\n",
    "show(p)"
   ]
  },
  {
   "cell_type": "code",
   "execution_count": null,
   "metadata": {
    "collapsed": true,
    "deletable": true,
    "editable": true
   },
   "outputs": [],
   "source": []
  },
  {
   "cell_type": "markdown",
   "metadata": {
    "collapsed": true,
    "deletable": true,
    "editable": true
   },
   "source": [
    "def plot_averages(names, t_maxs, colors, legends=None, directory=\"Logs/\", step=10):\n",
    "    plt.figure(figsize=(10,10))\n",
    "    plt.ylim(-1, 3)\n",
    "    for name, color, t_max in tqdm(zip(names, colors, t_maxs)):\n",
    "        # TODO: Remove DQN from names\n",
    "        DQN_Rewards_Path = directory + \"*\" + name + \"*/logs/Episode_Rewards.txt\"\n",
    "        DQN_Lengths_Path = directory + \"*\" + name + \"*/logs/Episode_Lengths.txt\"\n",
    "        DQN_Rewards = []\n",
    "        DQN_Lengths = []\n",
    "        DQN_Lengths_C = []\n",
    "        for filename in glob.glob(DQN_Rewards_Path):\n",
    "            run_logs = [0]\n",
    "            with open(filename, \"r\") as f:\n",
    "                for line in f:\n",
    "                    try:\n",
    "                        ep_r = float(line)\n",
    "                    except:\n",
    "                        continue\n",
    "                    run_logs.append(ep_r)\n",
    "            DQN_Rewards.append(run_logs)\n",
    "        for filename in glob.glob(DQN_Lengths_Path):\n",
    "            run_logs = [0]\n",
    "        #     print(filename)\n",
    "            with open(filename, \"r\") as f:\n",
    "                for line in f:\n",
    "                    try:\n",
    "                        ep_r = float(line)\n",
    "                    except:\n",
    "                        continue\n",
    "                    run_logs.append(ep_r)\n",
    "            DQN_Lengths.append(run_logs)\n",
    "            run_logs_c = np.cumsum(run_logs).astype(np.int32)\n",
    "            DQN_Lengths_C.append(run_logs_c)\n",
    "        DQN_Smoothed = []\n",
    "        for times, rewards in zip(DQN_Lengths_C, DQN_Rewards):\n",
    "#             linear = interp1d(times, rewards, kind=\"linear\")\n",
    "#             linear_rewards = linear([i for i in range(500000)])\n",
    "#             DQN_Smoothed.append(linear_rewards)\n",
    "            spline_rewards = spline(times, rewards, [i for i in range(0, t_max, step)])\n",
    "            DQN_Smoothed.append(spline_rewards)\n",
    "        DQN_Means = np.mean(DQN_Smoothed, axis=0)\n",
    "        DQN_Stds = np.std(DQN_Smoothed, axis=0)\n",
    "        plt.fill_between([i for i in range(0, t_max, step)], DQN_Means - DQN_Stds, DQN_Means + DQN_Stds, color=color, alpha=0.2, edgecolor=\"white\")\n",
    "\n",
    "        plt.plot([i for i in range(0, t_max, step)], DQN_Means, color=color)\n",
    "\n",
    "    plt.title(\"Episode_Reward\")\n",
    "    plt.xlabel(\"T\")\n",
    "    plt.ylabel(\"Reward\")\n",
    "    if legends is not None:\n",
    "        plt.legend(legends, bbox_to_anchor=(1.05, 1), loc=2)\n",
    "    plt.show()"
   ]
  },
  {
   "cell_type": "code",
   "execution_count": 14,
   "metadata": {
    "collapsed": true,
    "deletable": true,
    "editable": true
   },
   "outputs": [],
   "source": [
    "from bokeh.models import Legend\n",
    "from bokeh.models.formatters import BasicTickFormatter\n",
    "from bokeh.models import HoverTool, TapTool"
   ]
  },
  {
   "cell_type": "code",
   "execution_count": 15,
   "metadata": {
    "collapsed": false,
    "deletable": true,
    "editable": true
   },
   "outputs": [],
   "source": [
    "def plot_averages_b(names, t_maxs, colors, legends, directories=\"Logs/\", step=10, title=\"\"):\n",
    "#     plt.figure(figsize=(10,10))\n",
    "    p = figure(width=800, height=800, y_range=(-1.2, 3.2), title=title)\n",
    "    p.toolbar_location = \"above\"\n",
    "    p.yaxis.axis_label = \"Episode Reward\"\n",
    "    p.xaxis.axis_label = \"T\"\n",
    "    p.xaxis.formatter = BasicTickFormatter(use_scientific=False)\n",
    "#     p = figure(width=800, height=500)\n",
    "    lines = []\n",
    "    alpha_lines = []\n",
    "    if isinstance(directories, str):\n",
    "        dd = directories\n",
    "        directories = [dd for _ in names]\n",
    "    for name, color, t_max, legend, directory in zip(names, colors, t_maxs, legends, directories):\n",
    "#         print(directory)\n",
    "        DQN_Rewards_Path = directory + \"*\" + name + \"*/logs/Episode_Rewards.txt\"\n",
    "        DQN_Lengths_Path = directory + \"*\" + name + \"*/logs/Episode_Lengths.txt\"\n",
    "        DQN_Rewards = []\n",
    "        DQN_Lengths = []\n",
    "        DQN_Lengths_C = []\n",
    "        for filename in glob.glob(DQN_Rewards_Path):\n",
    "            run_logs = [0]\n",
    "            with open(filename, \"r\") as f:\n",
    "#                 print(f)\n",
    "                for line in f:\n",
    "                    try:\n",
    "                        ep_r = float(line)\n",
    "                    except:\n",
    "                        print(\"Nothing here for:\", filename)\n",
    "                        continue\n",
    "                    run_logs.append(ep_r)\n",
    "            DQN_Rewards.append(run_logs)\n",
    "        for filename in glob.glob(DQN_Lengths_Path):\n",
    "            run_logs = [0]\n",
    "        #     print(filename)\n",
    "            with open(filename, \"r\") as f:\n",
    "                for line in f:\n",
    "                    try:\n",
    "                        ep_r = float(line)\n",
    "                    except:\n",
    "                        continue\n",
    "                    run_logs.append(ep_r)\n",
    "            DQN_Lengths.append(run_logs)\n",
    "            run_logs_c = np.cumsum(run_logs).astype(np.int32)\n",
    "            DQN_Lengths_C.append(run_logs_c)\n",
    "        DQN_Smoothed = []\n",
    "        for times, rewards in zip(DQN_Lengths_C, DQN_Rewards):\n",
    "#             linear = interp1d(times, rewards, kind=\"linear\")\n",
    "#             linear_rewards = linear([i for i in range(500000)])\n",
    "#             DQN_Smoothed.append(linear_rewards)\n",
    "            spline_rewards = spline(times, rewards, [i for i in range(0, t_max, step)], order=1)\n",
    "            DQN_Smoothed.append(spline_rewards)\n",
    "        DQN_Means = np.mean(DQN_Smoothed, axis=0)\n",
    "        DQN_Stds = np.std(DQN_Smoothed, axis=0)\n",
    "        \n",
    "#         plt.fill_between([i for i in range(0, t_max, step)], DQN_Means - DQN_Stds, DQN_Means + DQN_Stds, color=color, alpha=0.2, edgecolor=\"white\")\n",
    "        # Error bars\n",
    "        xs = [i for i in range(0, t_max, step)]\n",
    "        xs = xs + list(reversed(xs))\n",
    "        ys = np.concatenate([DQN_Means - DQN_Stds, np.flip(DQN_Means + DQN_Stds, axis=0)])\n",
    "        lls = p.patch(xs, ys, color=color, alpha=0.1)\n",
    "\n",
    "        \n",
    "#         for x, y, yerr in zip(range(0, t_max, step), DQN_Means, DQN_Stds):\n",
    "#             lls = p.line([x, x], [y - yerr, y + yerr], color=color, alpha=0.1, hover_alpha=0.8)\n",
    "#             alpha_lines.append(lls)\n",
    "            \n",
    "\n",
    "#         plt.plot([i for i in range(0, t_max, step)], DQN_Means, color=color)\n",
    "        l = p.line([i for i in range(0, t_max, step)], DQN_Means, color=color, line_width=2)\n",
    "        lines.append(l)\n",
    "#         alpha_lines.append(lls)\n",
    "\n",
    "#     plt.title(\"Episode_Reward\")\n",
    "#     plt.xlabel(\"T\")\n",
    "#     plt.ylabel(\"Reward\")\n",
    "#     if legends is not None:\n",
    "#         plt.legend(legends)\n",
    "#     plt.show()\n",
    "#     p.line([0,1], [-1,3])\n",
    "    new_leg = Legend(items=[(name, [line]) for name, line in zip(legends, lines)], location=(0,-30))\n",
    "    p.add_layout(new_leg, \"right\")\n",
    "#     p.add_tools(HoverTool(renderers=alpha_lines))\n",
    "#     p.add_tools(TapTool(renderers=alpha_lines))\n",
    "    show(p)"
   ]
  },
  {
   "cell_type": "code",
   "execution_count": 16,
   "metadata": {
    "collapsed": false,
    "deletable": true,
    "editable": true
   },
   "outputs": [],
   "source": [
    "def plot_states(names, t_maxs, colors, legends, directories=\"Logs/\", step=10, title=\"\"):\n",
    "#     plt.figure(figsize=(10,10))\n",
    "    p = figure(width=1200, height=800, title=title)\n",
    "    p.toolbar_location = \"above\"\n",
    "    p.yaxis.axis_label = \"States visited\"\n",
    "    p.xaxis.axis_label = \"T\"\n",
    "    p.xaxis.formatter = BasicTickFormatter(use_scientific=False)\n",
    "#     p = figure(width=800, height=500)\n",
    "    lines = []\n",
    "    alpha_lines = []\n",
    "    if isinstance(directories, str):\n",
    "        dd = directories\n",
    "        directories = [dd for _ in names]\n",
    "    for name, color, t_max, legend, directory in zip(names, colors, t_maxs, legends, directories):\n",
    "#         print(directory)\n",
    "        States_Path = directory + \"*\" + name + \"*/logs/Player_Positions.txt\"\n",
    "        States = []\n",
    "        for filename in glob.glob(States_Path):\n",
    "            run_logs = []\n",
    "            with open(filename, \"r\") as f:\n",
    "#                 print(f)\n",
    "                for line in f:\n",
    "                    try:\n",
    "                        ep_r = str(line)\n",
    "#                         print(ep_r)\n",
    "                    except:\n",
    "                        print(\"Nothing here for:\", filename)\n",
    "                        continue\n",
    "                    run_logs.append(ep_r)\n",
    "            States.append(run_logs)\n",
    "        States_Visited = []\n",
    "        for run in States:\n",
    "            Visited = []\n",
    "            States_Sets = set()\n",
    "#             print(len(run))\n",
    "            for ii, s in enumerate(run):\n",
    "                if ii >= t_max - 1:\n",
    "                    break\n",
    "#                 print(s)\n",
    "                States_Sets.add(s)\n",
    "                if ii % step == 0:\n",
    "                    Visited.append(len(States_Sets))\n",
    "#             print(len(States_Sets))\n",
    "#             print(len(Visited))\n",
    "            States_Visited.append(Visited)\n",
    "#         print(np.array(States_Visited).shape)\n",
    "        Means = np.mean(States_Visited, axis=0)\n",
    "        Stds = np.std(States_Visited, axis=0)\n",
    "#         print(Means.shape)\n",
    "        \n",
    "#         plt.fill_between([i for i in range(0, t_max, step)], DQN_Means - DQN_Stds, DQN_Means + DQN_Stds, color=color, alpha=0.2, edgecolor=\"white\")\n",
    "        # Error bars\n",
    "        xs = [i for i in range(0, t_max, step)]\n",
    "        xs = xs + list(reversed(xs))\n",
    "        ys = np.concatenate([Means - Stds, np.flip(Means + Stds, axis=0)])\n",
    "        lls = p.patch(xs, ys, color=color, alpha=0.1)\n",
    "\n",
    "        \n",
    "#         for x, y, yerr in zip(range(0, t_max, step), DQN_Means, DQN_Stds):\n",
    "#             lls = p.line([x, x], [y - yerr, y + yerr], color=color, alpha=0.1, hover_alpha=0.8)\n",
    "#             alpha_lines.append(lls)\n",
    "            \n",
    "\n",
    "#         plt.plot([i for i in range(0, t_max, step)], DQN_Means, color=color)\n",
    "        l = p.line([i for i in range(0, t_max, step)], Means, color=color, line_width=2)\n",
    "        lines.append(l)\n",
    "#         alpha_lines.append(lls)\n",
    "\n",
    "#     plt.title(\"Episode_Reward\")\n",
    "#     plt.xlabel(\"T\")\n",
    "#     plt.ylabel(\"Reward\")\n",
    "#     if legends is not None:\n",
    "#         plt.legend(legends)\n",
    "#     plt.show()\n",
    "#     p.line([0,1], [-1,3])\n",
    "    new_leg = Legend(items=[(name, [line]) for name, line in zip(legends, lines)], location=(0,-30))\n",
    "    p.add_layout(new_leg, \"right\")\n",
    "#     p.add_tools(HoverTool(renderers=alpha_lines))\n",
    "#     p.add_tools(TapTool(renderers=alpha_lines))\n",
    "    show(p)"
   ]
  },
  {
   "cell_type": "code",
   "execution_count": null,
   "metadata": {
    "collapsed": true,
    "deletable": true,
    "editable": true
   },
   "outputs": [],
   "source": []
  },
  {
   "cell_type": "code",
   "execution_count": 17,
   "metadata": {
    "collapsed": false,
    "deletable": true,
    "editable": true
   },
   "outputs": [
    {
     "name": "stdout",
     "output_type": "stream",
     "text": [
      "['_10_Step_*DQN_', '_10_Step_*k_Count_', '_10_Step_*_CountEps_']\n",
      "[300001, 300001, 300001]\n"
     ]
    }
   ],
   "source": [
    "names = []\n",
    "legends = []\n",
    "t_maxs = []\n",
    "directories = []\n",
    "\n",
    "            \n",
    "# Frontier stuff\n",
    "for step in [10]:\n",
    "    # DQN\n",
    "    names += [\"_{}_Step_*DQN_\".format(step)]\n",
    "    legends += [\"{}_Step_DQN\".format(step)]\n",
    "    t_maxs += [300001]\n",
    "#     continue\n",
    "    # PseudoCount\n",
    "    names += [\"_{}_Step_*k_Count_\".format(step)]\n",
    "    legends += [\"{}_Step_Count\".format(step)]\n",
    "    t_maxs += [300001]\n",
    "#     continue\n",
    "    # EpsilonScaling\n",
    "    names += [\"_{}_Step_*_CountEps_\".format(step)]\n",
    "    legends += [\"{}_Step_Epsilon_Scaling\".format(step)]\n",
    "    t_maxs += [300001]\n",
    "            \n",
    "    \n",
    "direc = \"/home/tabz/tmp/logfiles/MedMaze10/MedMaze10\"\n",
    "# directories =  [\"{}/{}\".format(dropbox_direc, \"Maze_5_Logs/\")] + 3 * [\"{}/{}\".format(dropbox_direc, \"Maze_5_Batch_Sizes_Logs/\")] \n",
    "directories += [direc + \"/EpsilonLogs/\"] * 3\n",
    "    \n",
    "print(names)\n",
    "print(t_maxs)\n",
    "# colours = [\"red\", \"#3366ff\", \"#66ff33\", \"yellow\"]\n",
    "# colours = rainbow(np.linspace(0, 1, len(names)))"
   ]
  },
  {
   "cell_type": "code",
   "execution_count": 53,
   "metadata": {
    "collapsed": false,
    "deletable": true,
    "editable": true
   },
   "outputs": [
    {
     "name": "stdout",
     "output_type": "stream",
     "text": [
      "['_250_Step*k_Count_', '_250_Step*OptimisticAction', '_250_Step*_CountEps_']\n",
      "[300001, 300001, 300001]\n",
      "/home/scratch/tabhid/Log_Files/N_Step_Logs/\n"
     ]
    }
   ],
   "source": [
    "names = []\n",
    "legends = []\n",
    "t_maxs = []\n",
    "\n",
    "            \n",
    "# Frontier bandit stuff\n",
    "\n",
    "for n in [250]:\n",
    "    \n",
    "    # Count\n",
    "    names += [\"_{}_Step*k_Count_\".format(n)]\n",
    "    legends += [\"{}_Step_Count\".format(n)]\n",
    "    t_maxs += [300001]\n",
    "#     continue\n",
    "    # Optimistic\n",
    "    names += [\"_{}_Step*OptimisticAction\".format(n)]\n",
    "    legends += [\"{}_Step_OptimisticAction\".format(n)]\n",
    "    t_maxs += [300001]\n",
    "#     continue\n",
    "    # Epsilon Scaling\n",
    "    names += [\"_{}_Step*_CountEps_\".format(n)]\n",
    "    legends += [\"{}_Step_EpsilonScaling\".format(n)]\n",
    "    t_maxs += [300001]\n",
    "            \n",
    "    \n",
    "direc = \"/home/scratch/tabhid/Log_Files/N_Step_Logs/\"\n",
    "# directories =  [\"{}/{}\".format(dropbox_direc, \"Maze_5_Logs/\")] + 3 * [\"{}/{}\".format(dropbox_direc, \"Maze_5_Batch_Sizes_Logs/\")] \n",
    "# directories += [direc + \"/BanditLogs/\"] * 3\n",
    "directories = direc\n",
    "    \n",
    "print(names)\n",
    "print(t_maxs)\n",
    "print(directories)\n",
    "# colours = [\"red\", \"#3366ff\", \"#66ff33\", \"yellow\"]\n",
    "# colours = rainbow(np.linspace(0, 1, len(names)))"
   ]
  },
  {
   "cell_type": "code",
   "execution_count": 76,
   "metadata": {
    "collapsed": false,
    "deletable": true,
    "editable": true
   },
   "outputs": [
    {
     "name": "stdout",
     "output_type": "stream",
     "text": [
      "['_0.9_Decay*_Eps_0.1_', '_0.99_Decay*_Eps_0.1_', '_0.9999_Decay*_Eps_0.1_', '_0.9_Decay*_Eps_1_', '_0.99_Decay*_Eps_1_', '_0.9999_Decay*_Eps_1_']\n",
      "[300001, 300001, 300001, 300001, 300001, 300001]\n",
      "/home/scratch/tabhid/Log_Files/Epsilon_Decay_Logs/\n"
     ]
    }
   ],
   "source": [
    "names = []\n",
    "legends = []\n",
    "t_maxs = []\n",
    "\n",
    "            \n",
    "# Epsilon Decay Scaling\n",
    "for eps in [0.1, 1]:\n",
    "    for decay in [0.9, 0.99, 0.9999]:\n",
    "    \n",
    "        names += [\"_{}_Decay*_Eps_{}_\".format(decay, eps)]\n",
    "        legends += [\"{}_Decay_EpsilonScaling_{}_Start\".format(decay, eps)]\n",
    "        t_maxs += [300001]\n",
    "            \n",
    "    \n",
    "direc = \"/home/scratch/tabhid/Log_Files/Epsilon_Decay_Logs/\"\n",
    "# directories =  [\"{}/{}\".format(dropbox_direc, \"Maze_5_Logs/\")] + 3 * [\"{}/{}\".format(dropbox_direc, \"Maze_5_Batch_Sizes_Logs/\")] \n",
    "# directories += [direc + \"/BanditLogs/\"] * 3\n",
    "directories = direc\n",
    "    \n",
    "print(names)\n",
    "print(t_maxs)\n",
    "print(directories)"
   ]
  },
  {
   "cell_type": "code",
   "execution_count": 77,
   "metadata": {
    "collapsed": true,
    "deletable": true,
    "editable": true
   },
   "outputs": [],
   "source": [
    "import itertools"
   ]
  },
  {
   "cell_type": "code",
   "execution_count": 78,
   "metadata": {
    "collapsed": false,
    "deletable": true,
    "editable": true
   },
   "outputs": [],
   "source": [
    "from bokeh.palettes import magma, inferno, Set1, Set3, Paired, Dark2"
   ]
  },
  {
   "cell_type": "code",
   "execution_count": 79,
   "metadata": {
    "collapsed": false,
    "deletable": true,
    "editable": true
   },
   "outputs": [
    {
     "name": "stderr",
     "output_type": "stream",
     "text": [
      "/users/tabhid/.local/lib/python3.5/site-packages/bokeh/models/sources.py:81: BokehUserWarning: ColumnDataSource's columns must be of the same length\n",
      "  lambda: warnings.warn(\"ColumnDataSource's columns must be of the same length\", BokehUserWarning))\n",
      "/users/tabhid/.local/lib/python3.5/site-packages/bokeh/models/sources.py:81: BokehUserWarning: ColumnDataSource's columns must be of the same length\n",
      "  lambda: warnings.warn(\"ColumnDataSource's columns must be of the same length\", BokehUserWarning))\n",
      "/users/tabhid/.local/lib/python3.5/site-packages/bokeh/models/sources.py:81: BokehUserWarning: ColumnDataSource's columns must be of the same length\n",
      "  lambda: warnings.warn(\"ColumnDataSource's columns must be of the same length\", BokehUserWarning))\n",
      "/users/tabhid/.local/lib/python3.5/site-packages/bokeh/models/sources.py:81: BokehUserWarning: ColumnDataSource's columns must be of the same length\n",
      "  lambda: warnings.warn(\"ColumnDataSource's columns must be of the same length\", BokehUserWarning))\n",
      "/users/tabhid/.local/lib/python3.5/site-packages/bokeh/models/sources.py:81: BokehUserWarning: ColumnDataSource's columns must be of the same length\n",
      "  lambda: warnings.warn(\"ColumnDataSource's columns must be of the same length\", BokehUserWarning))\n",
      "/users/tabhid/.local/lib/python3.5/site-packages/bokeh/models/sources.py:81: BokehUserWarning: ColumnDataSource's columns must be of the same length\n",
      "  lambda: warnings.warn(\"ColumnDataSource's columns must be of the same length\", BokehUserWarning))\n",
      "/users/tabhid/.local/lib/python3.5/site-packages/bokeh/models/sources.py:81: BokehUserWarning: ColumnDataSource's columns must be of the same length\n",
      "  lambda: warnings.warn(\"ColumnDataSource's columns must be of the same length\", BokehUserWarning))\n",
      "/users/tabhid/.local/lib/python3.5/site-packages/bokeh/models/sources.py:81: BokehUserWarning: ColumnDataSource's columns must be of the same length\n",
      "  lambda: warnings.warn(\"ColumnDataSource's columns must be of the same length\", BokehUserWarning))\n",
      "/users/tabhid/.local/lib/python3.5/site-packages/bokeh/models/sources.py:81: BokehUserWarning: ColumnDataSource's columns must be of the same length\n",
      "  lambda: warnings.warn(\"ColumnDataSource's columns must be of the same length\", BokehUserWarning))\n",
      "/users/tabhid/.local/lib/python3.5/site-packages/bokeh/models/sources.py:81: BokehUserWarning: ColumnDataSource's columns must be of the same length\n",
      "  lambda: warnings.warn(\"ColumnDataSource's columns must be of the same length\", BokehUserWarning))\n",
      "/users/tabhid/.local/lib/python3.5/site-packages/bokeh/models/sources.py:81: BokehUserWarning: ColumnDataSource's columns must be of the same length\n",
      "  lambda: warnings.warn(\"ColumnDataSource's columns must be of the same length\", BokehUserWarning))\n",
      "/users/tabhid/.local/lib/python3.5/site-packages/bokeh/models/sources.py:81: BokehUserWarning: ColumnDataSource's columns must be of the same length\n",
      "  lambda: warnings.warn(\"ColumnDataSource's columns must be of the same length\", BokehUserWarning))\n"
     ]
    },
    {
     "data": {
      "text/html": [
       "\n",
       "\n",
       "    <div class=\"bk-root\">\n",
       "        <div class=\"bk-plotdiv\" id=\"f61dcf29-8a1c-4a2a-b396-4958ac71d026\"></div>\n",
       "    </div>\n",
       "<script type=\"text/javascript\">\n",
       "  \n",
       "  (function(global) {\n",
       "    function now() {\n",
       "      return new Date();\n",
       "    }\n",
       "  \n",
       "    var force = false;\n",
       "  \n",
       "    if (typeof (window._bokeh_onload_callbacks) === \"undefined\" || force === true) {\n",
       "      window._bokeh_onload_callbacks = [];\n",
       "      window._bokeh_is_loading = undefined;\n",
       "    }\n",
       "  \n",
       "  \n",
       "    \n",
       "    if (typeof (window._bokeh_timeout) === \"undefined\" || force === true) {\n",
       "      window._bokeh_timeout = Date.now() + 0;\n",
       "      window._bokeh_failed_load = false;\n",
       "    }\n",
       "  \n",
       "    var NB_LOAD_WARNING = {'data': {'text/html':\n",
       "       \"<div style='background-color: #fdd'>\\n\"+\n",
       "       \"<p>\\n\"+\n",
       "       \"BokehJS does not appear to have successfully loaded. If loading BokehJS from CDN, this \\n\"+\n",
       "       \"may be due to a slow or bad network connection. Possible fixes:\\n\"+\n",
       "       \"</p>\\n\"+\n",
       "       \"<ul>\\n\"+\n",
       "       \"<li>re-rerun `output_notebook()` to attempt to load from CDN again, or</li>\\n\"+\n",
       "       \"<li>use INLINE resources instead, as so:</li>\\n\"+\n",
       "       \"</ul>\\n\"+\n",
       "       \"<code>\\n\"+\n",
       "       \"from bokeh.resources import INLINE\\n\"+\n",
       "       \"output_notebook(resources=INLINE)\\n\"+\n",
       "       \"</code>\\n\"+\n",
       "       \"</div>\"}};\n",
       "  \n",
       "    function display_loaded() {\n",
       "      if (window.Bokeh !== undefined) {\n",
       "        document.getElementById(\"f61dcf29-8a1c-4a2a-b396-4958ac71d026\").textContent = \"BokehJS successfully loaded.\";\n",
       "      } else if (Date.now() < window._bokeh_timeout) {\n",
       "        setTimeout(display_loaded, 100)\n",
       "      }\n",
       "    }\n",
       "  \n",
       "    function run_callbacks() {\n",
       "      window._bokeh_onload_callbacks.forEach(function(callback) { callback() });\n",
       "      delete window._bokeh_onload_callbacks\n",
       "      console.info(\"Bokeh: all callbacks have finished\");\n",
       "    }\n",
       "  \n",
       "    function load_libs(js_urls, callback) {\n",
       "      window._bokeh_onload_callbacks.push(callback);\n",
       "      if (window._bokeh_is_loading > 0) {\n",
       "        console.log(\"Bokeh: BokehJS is being loaded, scheduling callback at\", now());\n",
       "        return null;\n",
       "      }\n",
       "      if (js_urls == null || js_urls.length === 0) {\n",
       "        run_callbacks();\n",
       "        return null;\n",
       "      }\n",
       "      console.log(\"Bokeh: BokehJS not loaded, scheduling load and callback at\", now());\n",
       "      window._bokeh_is_loading = js_urls.length;\n",
       "      for (var i = 0; i < js_urls.length; i++) {\n",
       "        var url = js_urls[i];\n",
       "        var s = document.createElement('script');\n",
       "        s.src = url;\n",
       "        s.async = false;\n",
       "        s.onreadystatechange = s.onload = function() {\n",
       "          window._bokeh_is_loading--;\n",
       "          if (window._bokeh_is_loading === 0) {\n",
       "            console.log(\"Bokeh: all BokehJS libraries loaded\");\n",
       "            run_callbacks()\n",
       "          }\n",
       "        };\n",
       "        s.onerror = function() {\n",
       "          console.warn(\"failed to load library \" + url);\n",
       "        };\n",
       "        console.log(\"Bokeh: injecting script tag for BokehJS library: \", url);\n",
       "        document.getElementsByTagName(\"head\")[0].appendChild(s);\n",
       "      }\n",
       "    };var element = document.getElementById(\"f61dcf29-8a1c-4a2a-b396-4958ac71d026\");\n",
       "    if (element == null) {\n",
       "      console.log(\"Bokeh: ERROR: autoload.js configured with elementid 'f61dcf29-8a1c-4a2a-b396-4958ac71d026' but no matching script tag was found. \")\n",
       "      return false;\n",
       "    }\n",
       "  \n",
       "    var js_urls = [];\n",
       "  \n",
       "    var inline_js = [\n",
       "      function(Bokeh) {\n",
       "        (function() {\n",
       "          var fn = function() {\n",
       "            var docs_json = {\"5eb0a30c-6b5f-460f-8cfb-e33f283a6451\":{\"roots\":{\"references\":[{\"attributes\":{\"line_color\":{\"value\":\"#ffff33\"},\"line_width\":{\"value\":2},\"x\":{\"field\":\"x\"},\"y\":{\"field\":\"y\"}},\"id\":\"88043b72-ab6d-4176-aeab-c975a85db9f4\",\"type\":\"Line\"},{\"attributes\":{\"line_alpha\":{\"value\":0.1},\"line_color\":{\"value\":\"#1f77b4\"},\"line_width\":{\"value\":2},\"x\":{\"field\":\"x\"},\"y\":{\"field\":\"y\"}},\"id\":\"aeb62e6d-ef19-4044-a798-24864002053b\",\"type\":\"Line\"},{\"attributes\":{\"callback\":null,\"column_names\":[\"y\",\"x\"],\"data\":{\"x\":[0,1000,2000,3000,4000,5000,6000,7000,8000,9000,10000,11000,12000,13000,14000,15000,16000,17000,18000,19000,20000,21000,22000,23000,24000,25000,26000,27000,28000,29000,30000,31000,32000,33000,34000,35000,36000,37000,38000,39000,40000,41000,42000,43000,44000,45000,46000,47000,48000,49000,50000,51000,52000,53000,54000,55000,56000,57000,58000,59000,60000,61000,62000,63000,64000,65000,66000,67000,68000,69000,70000,71000,72000,73000,74000,75000,76000,77000,78000,79000,80000,81000,82000,83000,84000,85000,86000,87000,88000,89000,90000,91000,92000,93000,94000,95000,96000,97000,98000,99000,100000,101000,102000,103000,104000,105000,106000,107000,108000,109000,110000,111000,112000,113000,114000,115000,116000,117000,118000,119000,120000,121000,122000,123000,124000,125000,126000,127000,128000,129000,130000,131000,132000,133000,134000,135000,136000,137000,138000,139000,140000,141000,142000,143000,144000,145000,146000,147000,148000,149000,150000,151000,152000,153000,154000,155000,156000,157000,158000,159000,160000,161000,162000,163000,164000,165000,166000,167000,168000,169000,170000,171000,172000,173000,174000,175000,176000,177000,178000,179000,180000,181000,182000,183000,184000,185000,186000,187000,188000,189000,190000,191000,192000,193000,194000,195000,196000,197000,198000,199000,200000,201000,202000,203000,204000,205000,206000,207000,208000,209000,210000,211000,212000,213000,214000,215000,216000,217000,218000,219000,220000,221000,222000,223000,224000,225000,226000,227000,228000,229000,230000,231000,232000,233000,234000,235000,236000,237000,238000,239000,240000,241000,242000,243000,244000,245000,246000,247000,248000,249000,250000,251000,252000,253000,254000,255000,256000,257000,258000,259000,260000,261000,262000,263000,264000,265000,266000,267000,268000,269000,270000,271000,272000,273000,274000,275000,276000,277000,278000,279000,280000,281000,282000,283000,284000,285000,286000,287000,288000,289000,290000,291000,292000,293000,294000,295000,296000,297000,298000,299000,300000,300000,299000,298000,297000,296000,295000,294000,293000,292000,291000,290000,289000,288000,287000,286000,285000,284000,283000,282000,281000,280000,279000,278000,277000,276000,275000,274000,273000,272000,271000,270000,269000,268000,267000,266000,265000,264000,263000,262000,261000,260000,259000,258000,257000,256000,255000,254000,253000,252000,251000,250000,249000,248000,247000,246000,245000,244000,243000,242000,241000,240000,239000,238000,237000,236000,235000,234000,233000,232000,231000,230000,229000,228000,227000,226000,225000,224000,223000,222000,221000,220000,219000,218000,217000,216000,215000,214000,213000,212000,211000,210000,209000,208000,207000,206000,205000,204000,203000,202000,201000,200000,199000,198000,197000,196000,195000,194000,193000,192000,191000,190000,189000,188000,187000,186000,185000,184000,183000,182000,181000,180000,179000,178000,177000,176000,175000,174000,173000,172000,171000,170000,169000,168000,167000,166000,165000,164000,163000,162000,161000,160000,159000,158000,157000,156000,155000,154000,153000,152000,151000,150000,149000,148000,147000,146000,145000,144000,143000,142000,141000,140000,139000,138000,137000,136000,135000,134000,133000,132000,131000,130000,129000,128000,127000,126000,125000,124000,123000,122000,121000,120000,119000,118000,117000,116000,115000,114000,113000,112000,111000,110000,109000,108000,107000,106000,105000,104000,103000,102000,101000,100000,99000,98000,97000,96000,95000,94000,93000,92000,91000,90000,89000,88000,87000,86000,85000,84000,83000,82000,81000,80000,79000,78000,77000,76000,75000,74000,73000,72000,71000,70000,69000,68000,67000,66000,65000,64000,63000,62000,61000,60000,59000,58000,57000,56000,55000,54000,53000,52000,51000,50000,49000,48000,47000,46000,45000,44000,43000,42000,41000,40000,39000,38000,37000,36000,35000,34000,33000,32000,31000,30000,29000,28000,27000,26000,25000,24000,23000,22000,21000,20000,19000,18000,17000,16000,15000,14000,13000,12000,11000,10000,9000,8000,7000,6000,5000,4000,3000,2000,1000,0],\"y\":{\"__ndarray__\":\"AAAAAAAA8D8Ouc6m0A9LQOWRtrCDJFRAK1qbYubWWkDocQTnxVpgQJUiZ04M7WJAQA8f0CK2Y0B9Ecs5OrNkQLpErGviomlAJpeONENGakBgIR9QRa1tQGiy+RzFfHBA2DLY1IpIc0A5BBPVh4BzQGjIdmbI63NAwf3BGR+4dEDUABadCy52QMXnFrJVCXhAkPR4tbEEeUDAooFxP9x5QEAsvw1VyXpAXKML9svge0CQg9Xs5LV8QJTvCN2UqH1AkfSc1k+4fUCR9JzWT7h9QHCoOeQkuH1AcKg55CS4fUBwqDnkJLh9QKJTfmpWtn1ACVMgECNmfUAKSG7EUvd9QCK6v0N3bX1AAUaX+pAEgEBukN07VFOAQMn7KCZqV4BA+hMUs4RPgEAjrvlMOR+AQETXsRvbuH9ARNexG9u4f0BE17Eb27h/QETXsRvbuH9ARNexG9u4f0BE17Eb27h/QEgcnS9j3H9AsBMCr3WTgECWwlfPsGiBQKl9JHay94FA5uu8Ce4IhEArtpJuKIiFQOxxtsKIKoZA7HG2wogqhkDscbbCiCqGQOxxtsKIKoZA7HG2wogqhkC6XGDZcEKGQJG8Sxbuy4ZAWP9UlwXghkDdIVuHpRCHQAEwzFuH3IdAAiLeZL7+h0BhA9bP2NyIQKT96oijQolA8uHwe1uQiUDy4fB7W5CJQPLh8HtbkIlA8uHwe1uQiUAcWyFuYY2JQM7nZ7bTiYlADm/0va6EiUAwuZyuwH+JQEqh3iQ/f4lA9MOcAb1+iUCjguabAteJQG6ATkUzTYpADphDUO4ci0AOmENQ7hyLQA6YQ1DuHItADphDUO4ci0AOmENQ7hyLQA6YQ1DuHItADphDUO4ci0C8y/U311iMQKwyKskgb4xArDIqySBvjECsMirJIG+MQOAVrskIroxAIP/hs9ovjUAg/+Gz2i+NQMwoSaRhL41AOomV8ucujUA6iZXy5y6NQKKUOwhtHo1Asu7ywtkHjUAivUDRegKNQDQjyEHFBY1ACNa3VsoJjkCIRDdpKzGOQHRAjZWseY5ArY8FPOi7j0CzmzlMMGCQQLObOUwwYJBAs5s5TDBgkECzmzlMMGCQQLObOUwwYJBAs5s5TDBgkECzmzlMMGCQQCJku27imJBA068ewYhrkUCudzfiy4ORQJ1GdJmelpFAZfItxQSakUDThGqJGp+RQNOEaokan5FA04RqiRqfkUDThGqJGp+RQNOEaokan5FA04RqiRqfkUDThGqJGp+RQCHu7mFCrpFAIe7uYUKukUAh7u5hQq6RQCiFqXUmxZFAeu49EinGkUB67j0SKcaRQAkHzNUsyZFACQfM1SzJkUAJB8zVLMmRQAkHzNUsyZFACQfM1SzJkUAJB8zVLMmRQAkHzNUsyZFA9qS0bBMikkALUIxK4TGSQHImcBMKmpJAUUNtFAShkkDJxPPawgqTQGRvphF/OZNAFX/xVMk7k0AVf/FUyTuTQBV/8VTJO5NAFX/xVMk7k0AVf/FUyTuTQBV/8VTJO5NAFX/xVMk7k0AVf/FUyTuTQBV/8VTJO5NAFX/xVMk7k0Bk44rrUEqTQHXHlhuvWpNAEL4L7Jl+k0AQvgvsmX6TQBC+C+yZfpNAEL4L7Jl+k0AQvgvsmX6TQBC+C+yZfpNAEL4L7Jl+k0AQvgvsmX6TQJtInq6He5NAm0ierod7k0B2Xqja8omTQDkWm3WMiJNAMk6Qa5mzk0AyTpBrmbOTQDJOkGuZs5NAMk6Qa5mzk0AyTpBrmbOTQDJOkGuZs5NAMk6Qa5mzk0AyTpBrmbOTQDJOkGuZs5NATbpDht3Dk0BNukOG3cOTQCXM5oXUzpNAiJ9dzs0HlEBejWrD9rOUQF6NasP2s5RAXo1qw/azlEBejWrD9rOUQF6NasP2s5RAfTHqqTS4lEAvCxoSMbeUQHu51RmCtpRAe7nVGYK2lEAYYIhJabaUQBdmgFTHt5RA7cbAEQK5lEAhjnd4f7mUQJ6vGhmCuZRAnq8aGYK5lECerxoZgrmUQJ6vGhmCuZRAnq8aGYK5lECerxoZgrmUQJ6vGhmCuZRAnq8aGYK5lECerxoZgrmUQJbFAv5+uZRAlsUC/n65lED2BUzpebmUQPYFTOl5uZRA9gVM6Xm5lED2BUzpebmUQPYFTOl5uZRA9gVM6Xm5lED2BUzpebmUQPYFTOl5uZRA9gVM6Xm5lED2BUzpebmUQPYFTOl5uZRA9gVM6Xm5lED2BUzpebmUQPYFTOl5uZRA9gVM6Xm5lED2BUzpebmUQPYFTOl5uZRA9gVM6Xm5lED2BUzpebmUQPYFTOl5uZRA9gVM6Xm5lED2BUzpebmUQPYFTOl5uZRA9gVM6Xm5lED2BUzpebmUQPYFTOl5uZRA9gVM6Xm5lED2BUzpebmUQPYFTOl5uZRA9gVM6Xm5lED2BUzpebmUQPYFTOl5uZRAoT5+EwO7lEB0XY6pi7yUQLrcHqsTvpRAdViQG03vlEBPwjE0sEWVQJYCGkkoW5VAGaX02XbAlUBK8m0WGceVQErybRYZx5VASvJtFhnHlUBK8m0WGceVQErybRYZx5VASvJtFhnHlUBK8m0WGceVQErybRYZx5VASvJtFhnHlUBK8m0WGceVQErybRYZx5VASvJtFhnHlUBK8m0WGceVQErybRYZx5VASvJtFhnHlUBK8m0WGceVQErybRYZx5VASvJtFhnHlUBK8m0WGceVQErybRYZx5VAejuMypw/lkB6O4zKnD+WQGpMCIsXYJZA9g93kgOAlkD5mMAUy6SWQDQLiBhsqJZANAuIGGyolkA0C4gYbKiWQDQLiBhsqJZANAuIGGyolkA0C4gYbKiWQDQLiBhsqJZANAuIGGyolkCutNPjDLWWQM3bF3WL/JZABgeZ75gBl0CXu9Z3ojKXQJu2xrCpTpdAm7bGsKlOl0CbtsawqU6XQJu2xrCpTpdAm7bGsKlOl0CbtsawqU6XQJu2xrCpTpdAm7bGsKlOl0CbtsawqU6XQJu2xrCpTpdAm7bGsKlOl0CbtsawqU6XQJu2xrCpTpdAm7bGsKlOl0CbtsawqU6XQJu2xrCpTpdAm7bGsKlOl0CbtsawqU6XQJu2xrCpTpdAm7bGsKlOl0CbtsawqU6XQJu2xrCpTpdAm7bGsKlOl0CbtsawqU6XQJu2xrCpTpdA/+LS6O/Sm0D/4tLo79KbQP/i0ujv0ptA/+LS6O/Sm0D/4tLo79KbQP/i0ujv0ptA/+LS6O/Sm0D/4tLo79KbQP/i0ujv0ptA/+LS6O/Sm0D/4tLo79KbQP/i0ujv0ptA/+LS6O/Sm0D/4tLo79KbQP/i0ujv0ptA/+LS6O/Sm0D/4tLo79KbQP/i0ujv0ptA/+LS6O/Sm0D/4tLo79KbQP/i0ujv0ptA/+LS6O/Sm0D/4tLo79KbQP/i0ujv0ptA/+LS6O/Sm0A1EfZUKtKbQMbFM90z05tAMyToinTTm0C4sZKCWdmbQAAoqxrH2ptAACirGsfam0AAKKsax9qbQAAoqxrH2ptAACirGsfam0AAKKsax9qbQAAoqxrH2ptAACirGsfam0AHZz/rNNubQArwiG3835tAYoDEQbXkm0AgXg3P/OmbQCBeDc/86ZtAtg2S6eYAnEC2DZLp5gCcQLYNkunmAJxAtg2S6eYAnEC2DZLp5gCcQLYNkunmAJxAtg2S6eYAnEC2DZLp5gCcQLYNkunmAJxAtg2S6eYAnEC2DZLp5gCcQLYNkunmAJxAtg2S6eYAnEC2DZLp5gCcQLYNkunmAJxAtg2S6eYAnEC2DZLp5gCcQLYNkunmAJxAtg2S6eYAnEC2DZLp5gCcQLMn2PJV/JtABJd/UHHOm0AXpDQytsibQCVBCX5MuptAEvCtIbm2m0DA1aSJp7abQPlaG4aWtptACvqzFoa2m0AK+rMWhrabQAr6sxaGtptACvqzFoa2m0AK+rMWhrabQAr6sxaGtptACvqzFoa2m0AK+rMWhrabQAr6sxaGtptACvqzFoa2m0AK+rMWhrabQAr6sxaGtptACvqzFoa2m0AK+rMWhrabQAr6sxaGtptACvqzFoa2m0AK+rMWhrabQAr6sxaGtptACvqzFoa2m0AK+rMWhrabQAr6sxaGtptACvqzFoa2m0AK+rMWhrabQAr6sxaGtptACvqzFoa2m0AK+rMWhrabQAr6sxaGtptACvqzFoa2m0AK+rMWhrabQAr6sxaGtptACvqzFoa2m0AK+rMWhrabQDYHys5Ns5tANgfKzk2zm0AuHbKzSqubQC4dsrNKq5tALh2ys0qrm0AuHbKzSqubQC4dsrNKq5tALh2ys0qrm0AuHbKzSqubQC4dsrNKq5tALh2ys0qrm0B5CyIhGqibQN8FDLvKi5tA6Zl/qzhwm0Ac06rpyVybQOuskEzkV5tA66yQTORXm0AFKBkhAlSbQOk0fLwxTptAPAwv1qIlm0A8DC/WoiWbQDwML9aiJZtAPAwv1qIlm0A8DC/WoiWbQEQtb/7+HJpApwDmRvj1mUAZrCLgiPKZQBmsIuCI8plAaEsJLgDumUBoSwkuAO6ZQGhLCS4A7plAaEsJLgDumUBoSwkuAO6ZQGhLCS4A7plAaEsJLgDumUBoSwkuAO6ZQGhLCS4A7plAYYP+Iw2xmUC+1IpYQKmZQP9Q++oRnplA/1D76hGemUAkdSdHmZSZQCR1J0eZlJlAJHUnR5mUmUAkdSdHmZSZQCR1J0eZlJlAJHUnR5mUmUAkdSdHmZSZQCR1J0eZlJlAv2ucF4R4mUCcHHUUr22ZQB+0Qd5pZ5lAH7RB3mlnmUAftEHeaWeZQB+0Qd5pZ5lAH7RB3mlnmUAftEHeaWeZQB+0Qd5pZ5lAH7RB3mlnmUAftEHeaWeZQB+0Qd5pZ5lAnJBZ7oBmmUA3OwwlPVWZQOPvxR4vOplAwgzDHyk5mUAp46boUTGZQD6OfsYfMZlAw8UA958zmUDDxQD3nzOZQMPFAPefM5lAw8UA958zmUDDxQD3nzOZQMPFAPefM5lAw8UA958zmUCGEcLt1jGZQIYRwu3WMZlAPuG88D8xmUATRUTR8CSZQBNFRNHwJJlAE0VE0fAkmUD5R2JDsiWZQPlHYkOyJZlA+UdiQ7IlmUD5R2JDsiWZQPlHYkOyJZlA+UdiQ7IlmUD5R2JDsiWZQJsN0jr7JZlAL4ZYMy4mmUCGu/tQZyeZQPkcrgtEKZlAqmgRXupDmUCBl/nmAkuZQIGX+eYCS5lAgZf55gJLmUCBl/nmAkuZQIGX+eYCS5lAgZf55gJLmUCBl/nmAkuZQF5rMBU/VZlAxl85tSlrmUCIKjEYNxyZQPwUpNQaw5hAAIi1+LbWmEDVB8b9KK2YQEEiILisfZhAewKvSJY1mED91E6gJfqXQP3UTqAl+pdAmmvbLU/4l0DWZnUMefaXQNZmdQx59pdAEPUom/sImEBEgAQ1CRKYQESABDUJEphARIAENQkSmEDu5tEwYQiYQMUAq6RVNphAxQCrpFU2mEDFAKukVTaYQMUAq6RVNphAxQCrpFU2mEDFAKukVTaYQMUAq6RVNphA/fKLkJlUl0CuvgyyfuyWQNJq/ktubZZAj+LDoJNrlkACPUtCuWmWQBNinzpCV5ZAGQzMJBZDlkCmhSJ8gjSWQAePB0LSJ5ZAB48HQtInlkAHjwdC0ieWQAePB0LSJ5ZA+k1XCHvDlUCEMUjLxvSUQMy7XZpt1ZJAZU6AuCJwkkASb1I8rbeRQLrmu5pjnpFAuCHa9AhikUBwnhxglMuQQHAtCwUiwZBAcC0LBSLBkEBwLQsFIsGQQHAtCwUiwZBAcC0LBSLBkEAe2On7Ho+QQObgD8Pec49AV4LbiU3YjkAE10HK6DCOQIQfMYS9741AQtiXzjTYjUCSR1qlxdaNQJJHWqXF1o1AkkdapcXWjUCSR1qlxdaNQJJHWqXF1o1AkkdapcXWjUDdUQazxtCMQAbs60x78ItANwTX2ZWIi0BePO+QeMmKQJlTAp8IVYpAI1ZTkXcsiEDHqJVqIyGGQEejvES7KYVAlTwnMTv7g0DIK+ON7eODQMgr443t44NAyCvjje3jg0CEUn7hpOCDQIRSfuGk4INANoh7kbXbg0AEC2JW2rGDQOzHk54zqYNAFJ1TrIheg0DUYXJ6E0WDQB7sqYsNRINAUb8nWogug0AwmQ7LkzKDQIZnhdlWSoNA/873/05Ng0B+FxCvVUmDQMcZx8jtDoJAzCaDcZ2RgUBQb/BXXal/QNMaH8xEA35Ao90pyo5ueUCo3YBJyex4QJSrI8shuHdA6KH/C61cdkByLeRyA7lxQOpSss6MlGpAdB0LjiSUY0Ct1svfSqtYQAAAAAAAAPA/\",\"dtype\":\"float64\",\"shape\":[600]}}},\"id\":\"b3d6307a-1714-4e94-a5b2-405e7845db18\",\"type\":\"ColumnDataSource\"},{\"attributes\":{\"line_color\":{\"value\":\"#e41a1c\"},\"line_width\":{\"value\":2},\"x\":{\"field\":\"x\"},\"y\":{\"field\":\"y\"}},\"id\":\"372e9d50-b289-4bd0-a8b4-f2f5eb89bfaf\",\"type\":\"Line\"},{\"attributes\":{\"callback\":null,\"column_names\":[\"y\",\"x\"],\"data\":{\"x\":[0,1000,2000,3000,4000,5000,6000,7000,8000,9000,10000,11000,12000,13000,14000,15000,16000,17000,18000,19000,20000,21000,22000,23000,24000,25000,26000,27000,28000,29000,30000,31000,32000,33000,34000,35000,36000,37000,38000,39000,40000,41000,42000,43000,44000,45000,46000,47000,48000,49000,50000,51000,52000,53000,54000,55000,56000,57000,58000,59000,60000,61000,62000,63000,64000,65000,66000,67000,68000,69000,70000,71000,72000,73000,74000,75000,76000,77000,78000,79000,80000,81000,82000,83000,84000,85000,86000,87000,88000,89000,90000,91000,92000,93000,94000,95000,96000,97000,98000,99000,100000,101000,102000,103000,104000,105000,106000,107000,108000,109000,110000,111000,112000,113000,114000,115000,116000,117000,118000,119000,120000,121000,122000,123000,124000,125000,126000,127000,128000,129000,130000,131000,132000,133000,134000,135000,136000,137000,138000,139000,140000,141000,142000,143000,144000,145000,146000,147000,148000,149000,150000,151000,152000,153000,154000,155000,156000,157000,158000,159000,160000,161000,162000,163000,164000,165000,166000,167000,168000,169000,170000,171000,172000,173000,174000,175000,176000,177000,178000,179000,180000,181000,182000,183000,184000,185000,186000,187000,188000,189000,190000,191000,192000,193000,194000,195000,196000,197000,198000,199000,200000,201000,202000,203000,204000,205000,206000,207000,208000,209000,210000,211000,212000,213000,214000,215000,216000,217000,218000,219000,220000,221000,222000,223000,224000,225000,226000,227000,228000,229000,230000,231000,232000,233000,234000,235000,236000,237000,238000,239000,240000,241000,242000,243000,244000,245000,246000,247000,248000,249000,250000,251000,252000,253000,254000,255000,256000,257000,258000,259000,260000,261000,262000,263000,264000,265000,266000,267000,268000,269000,270000,271000,272000,273000,274000,275000,276000,277000,278000,279000,280000,281000,282000,283000,284000,285000,286000,287000,288000,289000,290000,291000,292000,293000,294000,295000,296000,297000,298000,299000,300000,300000,299000,298000,297000,296000,295000,294000,293000,292000,291000,290000,289000,288000,287000,286000,285000,284000,283000,282000,281000,280000,279000,278000,277000,276000,275000,274000,273000,272000,271000,270000,269000,268000,267000,266000,265000,264000,263000,262000,261000,260000,259000,258000,257000,256000,255000,254000,253000,252000,251000,250000,249000,248000,247000,246000,245000,244000,243000,242000,241000,240000,239000,238000,237000,236000,235000,234000,233000,232000,231000,230000,229000,228000,227000,226000,225000,224000,223000,222000,221000,220000,219000,218000,217000,216000,215000,214000,213000,212000,211000,210000,209000,208000,207000,206000,205000,204000,203000,202000,201000,200000,199000,198000,197000,196000,195000,194000,193000,192000,191000,190000,189000,188000,187000,186000,185000,184000,183000,182000,181000,180000,179000,178000,177000,176000,175000,174000,173000,172000,171000,170000,169000,168000,167000,166000,165000,164000,163000,162000,161000,160000,159000,158000,157000,156000,155000,154000,153000,152000,151000,150000,149000,148000,147000,146000,145000,144000,143000,142000,141000,140000,139000,138000,137000,136000,135000,134000,133000,132000,131000,130000,129000,128000,127000,126000,125000,124000,123000,122000,121000,120000,119000,118000,117000,116000,115000,114000,113000,112000,111000,110000,109000,108000,107000,106000,105000,104000,103000,102000,101000,100000,99000,98000,97000,96000,95000,94000,93000,92000,91000,90000,89000,88000,87000,86000,85000,84000,83000,82000,81000,80000,79000,78000,77000,76000,75000,74000,73000,72000,71000,70000,69000,68000,67000,66000,65000,64000,63000,62000,61000,60000,59000,58000,57000,56000,55000,54000,53000,52000,51000,50000,49000,48000,47000,46000,45000,44000,43000,42000,41000,40000,39000,38000,37000,36000,35000,34000,33000,32000,31000,30000,29000,28000,27000,26000,25000,24000,23000,22000,21000,20000,19000,18000,17000,16000,15000,14000,13000,12000,11000,10000,9000,8000,7000,6000,5000,4000,3000,2000,1000,0],\"y\":{\"__ndarray__\":\"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\",\"dtype\":\"float64\",\"shape\":[600]}}},\"id\":\"067d65ec-e6d1-42b9-a122-a8b2fd6f9f12\",\"type\":\"ColumnDataSource\"},{\"attributes\":{},\"id\":\"218cd796-82c0-4a8c-9ce0-342dd5b2a0cf\",\"type\":\"ToolEvents\"},{\"attributes\":{\"callback\":null,\"column_names\":[\"y\",\"x\"],\"data\":{\"x\":[0,1000,2000,3000,4000,5000,6000,7000,8000,9000,10000,11000,12000,13000,14000,15000,16000,17000,18000,19000,20000,21000,22000,23000,24000,25000,26000,27000,28000,29000,30000,31000,32000,33000,34000,35000,36000,37000,38000,39000,40000,41000,42000,43000,44000,45000,46000,47000,48000,49000,50000,51000,52000,53000,54000,55000,56000,57000,58000,59000,60000,61000,62000,63000,64000,65000,66000,67000,68000,69000,70000,71000,72000,73000,74000,75000,76000,77000,78000,79000,80000,81000,82000,83000,84000,85000,86000,87000,88000,89000,90000,91000,92000,93000,94000,95000,96000,97000,98000,99000,100000,101000,102000,103000,104000,105000,106000,107000,108000,109000,110000,111000,112000,113000,114000,115000,116000,117000,118000,119000,120000,121000,122000,123000,124000,125000,126000,127000,128000,129000,130000,131000,132000,133000,134000,135000,136000,137000,138000,139000,140000,141000,142000,143000,144000,145000,146000,147000,148000,149000,150000,151000,152000,153000,154000,155000,156000,157000,158000,159000,160000,161000,162000,163000,164000,165000,166000,167000,168000,169000,170000,171000,172000,173000,174000,175000,176000,177000,178000,179000,180000,181000,182000,183000,184000,185000,186000,187000,188000,189000,190000,191000,192000,193000,194000,195000,196000,197000,198000,199000,200000,201000,202000,203000,204000,205000,206000,207000,208000,209000,210000,211000,212000,213000,214000,215000,216000,217000,218000,219000,220000,221000,222000,223000,224000,225000,226000,227000,228000,229000,230000,231000,232000,233000,234000,235000,236000,237000,238000,239000,240000,241000,242000,243000,244000,245000,246000,247000,248000,249000,250000,251000,252000,253000,254000,255000,256000,257000,258000,259000,260000,261000,262000,263000,264000,265000,266000,267000,268000,269000,270000,271000,272000,273000,274000,275000,276000,277000,278000,279000,280000,281000,282000,283000,284000,285000,286000,287000,288000,289000,290000,291000,292000,293000,294000,295000,296000,297000,298000,299000,300000],\"y\":{\"__ndarray__\":\"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\",\"dtype\":\"float64\",\"shape\":[300]}}},\"id\":\"63a5857f-210e-434d-8253-92c48641776c\",\"type\":\"ColumnDataSource\"},{\"attributes\":{\"data_source\":{\"id\":\"fbd2d262-0dcb-456b-9519-e57d3c5c4593\",\"type\":\"ColumnDataSource\"},\"glyph\":{\"id\":\"b43b4df2-5d2d-4f9f-9843-2f30d9cedb3b\",\"type\":\"Patch\"},\"hover_glyph\":null,\"nonselection_glyph\":{\"id\":\"6150812d-bccd-45cd-ab25-657a38df71ea\",\"type\":\"Patch\"},\"selection_glyph\":null},\"id\":\"cff62b37-457b-414f-94f0-ade83bbabf10\",\"type\":\"GlyphRenderer\"},{\"attributes\":{\"callback\":null,\"column_names\":[\"y\",\"x\"],\"data\":{\"x\":[0,1000,2000,3000,4000,5000,6000,7000,8000,9000,10000,11000,12000,13000,14000,15000,16000,17000,18000,19000,20000,21000,22000,23000,24000,25000,26000,27000,28000,29000,30000,31000,32000,33000,34000,35000,36000,37000,38000,39000,40000,41000,42000,43000,44000,45000,46000,47000,48000,49000,50000,51000,52000,53000,54000,55000,56000,57000,58000,59000,60000,61000,62000,63000,64000,65000,66000,67000,68000,69000,70000,71000,72000,73000,74000,75000,76000,77000,78000,79000,80000,81000,82000,83000,84000,85000,86000,87000,88000,89000,90000,91000,92000,93000,94000,95000,96000,97000,98000,99000,100000,101000,102000,103000,104000,105000,106000,107000,108000,109000,110000,111000,112000,113000,114000,115000,116000,117000,118000,119000,120000,121000,122000,123000,124000,125000,126000,127000,128000,129000,130000,131000,132000,133000,134000,135000,136000,137000,138000,139000,140000,141000,142000,143000,144000,145000,146000,147000,148000,149000,150000,151000,152000,153000,154000,155000,156000,157000,158000,159000,160000,161000,162000,163000,164000,165000,166000,167000,168000,169000,170000,171000,172000,173000,174000,175000,176000,177000,178000,179000,180000,181000,182000,183000,184000,185000,186000,187000,188000,189000,190000,191000,192000,193000,194000,195000,196000,197000,198000,199000,200000,201000,202000,203000,204000,205000,206000,207000,208000,209000,210000,211000,212000,213000,214000,215000,216000,217000,218000,219000,220000,221000,222000,223000,224000,225000,226000,227000,228000,229000,230000,231000,232000,233000,234000,235000,236000,237000,238000,239000,240000,241000,242000,243000,244000,245000,246000,247000,248000,249000,250000,251000,252000,253000,254000,255000,256000,257000,258000,259000,260000,261000,262000,263000,264000,265000,266000,267000,268000,269000,270000,271000,272000,273000,274000,275000,276000,277000,278000,279000,280000,281000,282000,283000,284000,285000,286000,287000,288000,289000,290000,291000,292000,293000,294000,295000,296000,297000,298000,299000,300000],\"y\":{\"__ndarray__\":\"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\",\"dtype\":\"float64\",\"shape\":[300]}}},\"id\":\"adfcf854-d2b6-45d3-b1be-b666ac063e5f\",\"type\":\"ColumnDataSource\"},{\"attributes\":{\"items\":[{\"id\":\"23f360b4-8053-4df8-92fc-e0940701cb9c\",\"type\":\"LegendItem\"},{\"id\":\"7af2cd9f-e2e1-4db3-a027-ae2c4792dca0\",\"type\":\"LegendItem\"},{\"id\":\"0ece8d61-5527-417c-bbe8-273a79239889\",\"type\":\"LegendItem\"},{\"id\":\"b8b68c10-155c-4a72-a20f-f118f2f2b4f6\",\"type\":\"LegendItem\"},{\"id\":\"432c21e7-b4d5-4ba9-b783-c23e391fc7bc\",\"type\":\"LegendItem\"},{\"id\":\"993e1a6c-e455-44f4-8e55-608ab2f63e07\",\"type\":\"LegendItem\"}],\"location\":[0,-30],\"plot\":{\"id\":\"1c7b8343-3c33-4ddc-997f-3568ae80c3aa\",\"subtype\":\"Figure\",\"type\":\"Plot\"}},\"id\":\"d76a5125-91ed-4108-af23-b48194764b56\",\"type\":\"Legend\"},{\"attributes\":{\"line_alpha\":{\"value\":0.1},\"line_color\":{\"value\":\"#1f77b4\"},\"line_width\":{\"value\":2},\"x\":{\"field\":\"x\"},\"y\":{\"field\":\"y\"}},\"id\":\"1016c867-2352-4772-b3c9-0b04e82f78c8\",\"type\":\"Line\"},{\"attributes\":{\"callback\":null,\"column_names\":[\"y\",\"x\"],\"data\":{\"x\":[0,1000,2000,3000,4000,5000,6000,7000,8000,9000,10000,11000,12000,13000,14000,15000,16000,17000,18000,19000,20000,21000,22000,23000,24000,25000,26000,27000,28000,29000,30000,31000,32000,33000,34000,35000,36000,37000,38000,39000,40000,41000,42000,43000,44000,45000,46000,47000,48000,49000,50000,51000,52000,53000,54000,55000,56000,57000,58000,59000,60000,61000,62000,63000,64000,65000,66000,67000,68000,69000,70000,71000,72000,73000,74000,75000,76000,77000,78000,79000,80000,81000,82000,83000,84000,85000,86000,87000,88000,89000,90000,91000,92000,93000,94000,95000,96000,97000,98000,99000,100000,101000,102000,103000,104000,105000,106000,107000,108000,109000,110000,111000,112000,113000,114000,115000,116000,117000,118000,119000,120000,121000,122000,123000,124000,125000,126000,127000,128000,129000,130000,131000,132000,133000,134000,135000,136000,137000,138000,139000,140000,141000,142000,143000,144000,145000,146000,147000,148000,149000,150000,151000,152000,153000,154000,155000,156000,157000,158000,159000,160000,161000,162000,163000,164000,165000,166000,167000,168000,169000,170000,171000,172000,173000,174000,175000,176000,177000,178000,179000,180000,181000,182000,183000,184000,185000,186000,187000,188000,189000,190000,191000,192000,193000,194000,195000,196000,197000,198000,199000,200000,201000,202000,203000,204000,205000,206000,207000,208000,209000,210000,211000,212000,213000,214000,215000,216000,217000,218000,219000,220000,221000,222000,223000,224000,225000,226000,227000,228000,229000,230000,231000,232000,233000,234000,235000,236000,237000,238000,239000,240000,241000,242000,243000,244000,245000,246000,247000,248000,249000,250000,251000,252000,253000,254000,255000,256000,257000,258000,259000,260000,261000,262000,263000,264000,265000,266000,267000,268000,269000,270000,271000,272000,273000,274000,275000,276000,277000,278000,279000,280000,281000,282000,283000,284000,285000,286000,287000,288000,289000,290000,291000,292000,293000,294000,295000,296000,297000,298000,299000,300000,300000,299000,298000,297000,296000,295000,294000,293000,292000,291000,290000,289000,288000,287000,286000,285000,284000,283000,282000,281000,280000,279000,278000,277000,276000,275000,274000,273000,272000,271000,270000,269000,268000,267000,266000,265000,264000,263000,262000,261000,260000,259000,258000,257000,256000,255000,254000,253000,252000,251000,250000,249000,248000,247000,246000,245000,244000,243000,242000,241000,240000,239000,238000,237000,236000,235000,234000,233000,232000,231000,230000,229000,228000,227000,226000,225000,224000,223000,222000,221000,220000,219000,218000,217000,216000,215000,214000,213000,212000,211000,210000,209000,208000,207000,206000,205000,204000,203000,202000,201000,200000,199000,198000,197000,196000,195000,194000,193000,192000,191000,190000,189000,188000,187000,186000,185000,184000,183000,182000,181000,180000,179000,178000,177000,176000,175000,174000,173000,172000,171000,170000,169000,168000,167000,166000,165000,164000,163000,162000,161000,160000,159000,158000,157000,156000,155000,154000,153000,152000,151000,150000,149000,148000,147000,146000,145000,144000,143000,142000,141000,140000,139000,138000,137000,136000,135000,134000,133000,132000,131000,130000,129000,128000,127000,126000,125000,124000,123000,122000,121000,120000,119000,118000,117000,116000,115000,114000,113000,112000,111000,110000,109000,108000,107000,106000,105000,104000,103000,102000,101000,100000,99000,98000,97000,96000,95000,94000,93000,92000,91000,90000,89000,88000,87000,86000,85000,84000,83000,82000,81000,80000,79000,78000,77000,76000,75000,74000,73000,72000,71000,70000,69000,68000,67000,66000,65000,64000,63000,62000,61000,60000,59000,58000,57000,56000,55000,54000,53000,52000,51000,50000,49000,48000,47000,46000,45000,44000,43000,42000,41000,40000,39000,38000,37000,36000,35000,34000,33000,32000,31000,30000,29000,28000,27000,26000,25000,24000,23000,22000,21000,20000,19000,18000,17000,16000,15000,14000,13000,12000,11000,10000,9000,8000,7000,6000,5000,4000,3000,2000,1000,0],\"y\":{\"__ndarray__\":\"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\",\"dtype\":\"float64\",\"shape\":[600]}}},\"id\":\"88e189d0-8f0b-404a-8a9b-358a375b3397\",\"type\":\"ColumnDataSource\"},{\"attributes\":{\"line_alpha\":{\"value\":0.1},\"line_color\":{\"value\":\"#1f77b4\"},\"line_width\":{\"value\":2},\"x\":{\"field\":\"x\"},\"y\":{\"field\":\"y\"}},\"id\":\"be479380-db18-4eca-992f-082a51e17f3e\",\"type\":\"Line\"},{\"attributes\":{\"callback\":null,\"column_names\":[\"y\",\"x\"],\"data\":{\"x\":[0,1000,2000,3000,4000,5000,6000,7000,8000,9000,10000,11000,12000,13000,14000,15000,16000,17000,18000,19000,20000,21000,22000,23000,24000,25000,26000,27000,28000,29000,30000,31000,32000,33000,34000,35000,36000,37000,38000,39000,40000,41000,42000,43000,44000,45000,46000,47000,48000,49000,50000,51000,52000,53000,54000,55000,56000,57000,58000,59000,60000,61000,62000,63000,64000,65000,66000,67000,68000,69000,70000,71000,72000,73000,74000,75000,76000,77000,78000,79000,80000,81000,82000,83000,84000,85000,86000,87000,88000,89000,90000,91000,92000,93000,94000,95000,96000,97000,98000,99000,100000,101000,102000,103000,104000,105000,106000,107000,108000,109000,110000,111000,112000,113000,114000,115000,116000,117000,118000,119000,120000,121000,122000,123000,124000,125000,126000,127000,128000,129000,130000,131000,132000,133000,134000,135000,136000,137000,138000,139000,140000,141000,142000,143000,144000,145000,146000,147000,148000,149000,150000,151000,152000,153000,154000,155000,156000,157000,158000,159000,160000,161000,162000,163000,164000,165000,166000,167000,168000,169000,170000,171000,172000,173000,174000,175000,176000,177000,178000,179000,180000,181000,182000,183000,184000,185000,186000,187000,188000,189000,190000,191000,192000,193000,194000,195000,196000,197000,198000,199000,200000,201000,202000,203000,204000,205000,206000,207000,208000,209000,210000,211000,212000,213000,214000,215000,216000,217000,218000,219000,220000,221000,222000,223000,224000,225000,226000,227000,228000,229000,230000,231000,232000,233000,234000,235000,236000,237000,238000,239000,240000,241000,242000,243000,244000,245000,246000,247000,248000,249000,250000,251000,252000,253000,254000,255000,256000,257000,258000,259000,260000,261000,262000,263000,264000,265000,266000,267000,268000,269000,270000,271000,272000,273000,274000,275000,276000,277000,278000,279000,280000,281000,282000,283000,284000,285000,286000,287000,288000,289000,290000,291000,292000,293000,294000,295000,296000,297000,298000,299000,300000,300000,299000,298000,297000,296000,295000,294000,293000,292000,291000,290000,289000,288000,287000,286000,285000,284000,283000,282000,281000,280000,279000,278000,277000,276000,275000,274000,273000,272000,271000,270000,269000,268000,267000,266000,265000,264000,263000,262000,261000,260000,259000,258000,257000,256000,255000,254000,253000,252000,251000,250000,249000,248000,247000,246000,245000,244000,243000,242000,241000,240000,239000,238000,237000,236000,235000,234000,233000,232000,231000,230000,229000,228000,227000,226000,225000,224000,223000,222000,221000,220000,219000,218000,217000,216000,215000,214000,213000,212000,211000,210000,209000,208000,207000,206000,205000,204000,203000,202000,201000,200000,199000,198000,197000,196000,195000,194000,193000,192000,191000,190000,189000,188000,187000,186000,185000,184000,183000,182000,181000,180000,179000,178000,177000,176000,175000,174000,173000,172000,171000,170000,169000,168000,167000,166000,165000,164000,163000,162000,161000,160000,159000,158000,157000,156000,155000,154000,153000,152000,151000,150000,149000,148000,147000,146000,145000,144000,143000,142000,141000,140000,139000,138000,137000,136000,135000,134000,133000,132000,131000,130000,129000,128000,127000,126000,125000,124000,123000,122000,121000,120000,119000,118000,117000,116000,115000,114000,113000,112000,111000,110000,109000,108000,107000,106000,105000,104000,103000,102000,101000,100000,99000,98000,97000,96000,95000,94000,93000,92000,91000,90000,89000,88000,87000,86000,85000,84000,83000,82000,81000,80000,79000,78000,77000,76000,75000,74000,73000,72000,71000,70000,69000,68000,67000,66000,65000,64000,63000,62000,61000,60000,59000,58000,57000,56000,55000,54000,53000,52000,51000,50000,49000,48000,47000,46000,45000,44000,43000,42000,41000,40000,39000,38000,37000,36000,35000,34000,33000,32000,31000,30000,29000,28000,27000,26000,25000,24000,23000,22000,21000,20000,19000,18000,17000,16000,15000,14000,13000,12000,11000,10000,9000,8000,7000,6000,5000,4000,3000,2000,1000,0],\"y\":{\"__ndarray__\":\"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\",\"dtype\":\"float64\",\"shape\":[600]}}},\"id\":\"af9c6fb3-eecf-4db8-9bc9-2eb88eeda51b\",\"type\":\"ColumnDataSource\"},{\"attributes\":{\"label\":{\"value\":\"0.9999_Decay_EpsilonScaling_1_Start\"},\"renderers\":[{\"id\":\"82661cee-7a15-4908-b647-ab0505e6d499\",\"type\":\"GlyphRenderer\"}]},\"id\":\"993e1a6c-e455-44f4-8e55-608ab2f63e07\",\"type\":\"LegendItem\"},{\"attributes\":{\"fill_alpha\":{\"value\":0.1},\"fill_color\":{\"value\":\"#1f77b4\"},\"line_alpha\":{\"value\":0.1},\"line_color\":{\"value\":\"#1f77b4\"},\"x\":{\"field\":\"x\"},\"y\":{\"field\":\"y\"}},\"id\":\"1950fd73-b5dc-4826-aca6-3335526a8111\",\"type\":\"Patch\"},{\"attributes\":{\"fill_alpha\":{\"value\":0.1},\"fill_color\":{\"value\":\"#ff7f00\"},\"line_alpha\":{\"value\":0.1},\"line_color\":{\"value\":\"#ff7f00\"},\"x\":{\"field\":\"x\"},\"y\":{\"field\":\"y\"}},\"id\":\"22f6055c-e547-4762-a280-75bb8fcfbd55\",\"type\":\"Patch\"},{\"attributes\":{\"axis_label\":\"T\",\"formatter\":{\"id\":\"1d6a4776-7979-42a7-b5b2-be2a6c3515f9\",\"type\":\"BasicTickFormatter\"},\"plot\":{\"id\":\"1c7b8343-3c33-4ddc-997f-3568ae80c3aa\",\"subtype\":\"Figure\",\"type\":\"Plot\"},\"ticker\":{\"id\":\"c62d2895-967a-4bac-a4ba-497cf56662a4\",\"type\":\"BasicTicker\"}},\"id\":\"6155a35d-e2af-4ee9-833c-f638bca65ff0\",\"type\":\"LinearAxis\"},{\"attributes\":{\"overlay\":{\"id\":\"eec42d06-86c2-434e-b6dc-26ddda50917d\",\"type\":\"BoxAnnotation\"},\"plot\":{\"id\":\"1c7b8343-3c33-4ddc-997f-3568ae80c3aa\",\"subtype\":\"Figure\",\"type\":\"Plot\"}},\"id\":\"80889961-8010-481d-8546-4055cab109b5\",\"type\":\"BoxZoomTool\"},{\"attributes\":{\"label\":{\"value\":\"0.9_Decay_EpsilonScaling_1_Start\"},\"renderers\":[{\"id\":\"01b0e002-0caa-4ef3-a26b-ccda3463e690\",\"type\":\"GlyphRenderer\"}]},\"id\":\"b8b68c10-155c-4a72-a20f-f118f2f2b4f6\",\"type\":\"LegendItem\"},{\"attributes\":{\"plot\":{\"id\":\"1c7b8343-3c33-4ddc-997f-3568ae80c3aa\",\"subtype\":\"Figure\",\"type\":\"Plot\"},\"ticker\":{\"id\":\"c62d2895-967a-4bac-a4ba-497cf56662a4\",\"type\":\"BasicTicker\"}},\"id\":\"d7def0b5-641d-49b7-a09c-25d78f4ae2ea\",\"type\":\"Grid\"},{\"attributes\":{\"below\":[{\"id\":\"6155a35d-e2af-4ee9-833c-f638bca65ff0\",\"type\":\"LinearAxis\"}],\"left\":[{\"id\":\"6f8bb008-477c-4b7e-a512-84684ea83113\",\"type\":\"LinearAxis\"}],\"plot_height\":800,\"plot_width\":1200,\"renderers\":[{\"id\":\"6155a35d-e2af-4ee9-833c-f638bca65ff0\",\"type\":\"LinearAxis\"},{\"id\":\"d7def0b5-641d-49b7-a09c-25d78f4ae2ea\",\"type\":\"Grid\"},{\"id\":\"6f8bb008-477c-4b7e-a512-84684ea83113\",\"type\":\"LinearAxis\"},{\"id\":\"1de8a89e-c806-41b8-b422-4358f8e88b2c\",\"type\":\"Grid\"},{\"id\":\"eec42d06-86c2-434e-b6dc-26ddda50917d\",\"type\":\"BoxAnnotation\"},{\"id\":\"29669896-25c4-4637-b370-a36ee376dcd7\",\"type\":\"GlyphRenderer\"},{\"id\":\"54f3449b-8c91-4152-b5fd-a045be7afb10\",\"type\":\"GlyphRenderer\"},{\"id\":\"e08aef5e-ef55-4ee4-9926-02348e51c3a0\",\"type\":\"GlyphRenderer\"},{\"id\":\"02961905-5b10-42c7-bb1a-08631ec99899\",\"type\":\"GlyphRenderer\"},{\"id\":\"a189bfd6-5f54-46a4-af5d-6c19fa0eb2be\",\"type\":\"GlyphRenderer\"},{\"id\":\"0152c978-53e4-4263-83b9-14aa1adac8a0\",\"type\":\"GlyphRenderer\"},{\"id\":\"cff62b37-457b-414f-94f0-ade83bbabf10\",\"type\":\"GlyphRenderer\"},{\"id\":\"01b0e002-0caa-4ef3-a26b-ccda3463e690\",\"type\":\"GlyphRenderer\"},{\"id\":\"b3f92436-0f53-45ca-aa2d-802021f3991b\",\"type\":\"GlyphRenderer\"},{\"id\":\"317ca3ec-48f6-469a-8754-db899dab564a\",\"type\":\"GlyphRenderer\"},{\"id\":\"31bb0f51-4246-405c-b0d9-c41b718deb56\",\"type\":\"GlyphRenderer\"},{\"id\":\"82661cee-7a15-4908-b647-ab0505e6d499\",\"type\":\"GlyphRenderer\"},{\"id\":\"d76a5125-91ed-4108-af23-b48194764b56\",\"type\":\"Legend\"}],\"right\":[{\"id\":\"d76a5125-91ed-4108-af23-b48194764b56\",\"type\":\"Legend\"}],\"title\":{\"id\":\"56159605-0a28-453a-a522-dff29bf55373\",\"type\":\"Title\"},\"tool_events\":{\"id\":\"218cd796-82c0-4a8c-9ce0-342dd5b2a0cf\",\"type\":\"ToolEvents\"},\"toolbar\":{\"id\":\"9f6b786b-50c6-4091-bea7-7de710e9250d\",\"type\":\"Toolbar\"},\"toolbar_location\":\"above\",\"x_range\":{\"id\":\"309f6ba5-4633-48d1-835b-0b62ff22482e\",\"type\":\"DataRange1d\"},\"y_range\":{\"id\":\"6869e89e-fd92-42f2-a8d9-fdfa9244e041\",\"type\":\"DataRange1d\"}},\"id\":\"1c7b8343-3c33-4ddc-997f-3568ae80c3aa\",\"subtype\":\"Figure\",\"type\":\"Plot\"},{\"attributes\":{\"data_source\":{\"id\":\"be66d83f-00f1-4967-a08e-231b9092d461\",\"type\":\"ColumnDataSource\"},\"glyph\":{\"id\":\"95883f37-caf5-4a75-aa87-3659f81228e8\",\"type\":\"Line\"},\"hover_glyph\":null,\"nonselection_glyph\":{\"id\":\"f8ba3f6e-e7b2-42b5-a3b9-b65836dab103\",\"type\":\"Line\"},\"selection_glyph\":null},\"id\":\"02961905-5b10-42c7-bb1a-08631ec99899\",\"type\":\"GlyphRenderer\"},{\"attributes\":{\"data_source\":{\"id\":\"281c4d9f-45a7-4f7c-912f-01afce7869f4\",\"type\":\"ColumnDataSource\"},\"glyph\":{\"id\":\"372e9d50-b289-4bd0-a8b4-f2f5eb89bfaf\",\"type\":\"Line\"},\"hover_glyph\":null,\"nonselection_glyph\":{\"id\":\"ed1e4941-a417-43bd-b03e-5a3bfcd00cdf\",\"type\":\"Line\"},\"selection_glyph\":null},\"id\":\"54f3449b-8c91-4152-b5fd-a045be7afb10\",\"type\":\"GlyphRenderer\"},{\"attributes\":{\"label\":{\"value\":\"0.9_Decay_EpsilonScaling_0.1_Start\"},\"renderers\":[{\"id\":\"54f3449b-8c91-4152-b5fd-a045be7afb10\",\"type\":\"GlyphRenderer\"}]},\"id\":\"23f360b4-8053-4df8-92fc-e0940701cb9c\",\"type\":\"LegendItem\"},{\"attributes\":{\"line_alpha\":{\"value\":0.1},\"line_color\":{\"value\":\"#1f77b4\"},\"line_width\":{\"value\":2},\"x\":{\"field\":\"x\"},\"y\":{\"field\":\"y\"}},\"id\":\"ed1e4941-a417-43bd-b03e-5a3bfcd00cdf\",\"type\":\"Line\"},{\"attributes\":{\"callback\":null,\"column_names\":[\"y\",\"x\"],\"data\":{\"x\":[0,1000,2000,3000,4000,5000,6000,7000,8000,9000,10000,11000,12000,13000,14000,15000,16000,17000,18000,19000,20000,21000,22000,23000,24000,25000,26000,27000,28000,29000,30000,31000,32000,33000,34000,35000,36000,37000,38000,39000,40000,41000,42000,43000,44000,45000,46000,47000,48000,49000,50000,51000,52000,53000,54000,55000,56000,57000,58000,59000,60000,61000,62000,63000,64000,65000,66000,67000,68000,69000,70000,71000,72000,73000,74000,75000,76000,77000,78000,79000,80000,81000,82000,83000,84000,85000,86000,87000,88000,89000,90000,91000,92000,93000,94000,95000,96000,97000,98000,99000,100000,101000,102000,103000,104000,105000,106000,107000,108000,109000,110000,111000,112000,113000,114000,115000,116000,117000,118000,119000,120000,121000,122000,123000,124000,125000,126000,127000,128000,129000,130000,131000,132000,133000,134000,135000,136000,137000,138000,139000,140000,141000,142000,143000,144000,145000,146000,147000,148000,149000,150000,151000,152000,153000,154000,155000,156000,157000,158000,159000,160000,161000,162000,163000,164000,165000,166000,167000,168000,169000,170000,171000,172000,173000,174000,175000,176000,177000,178000,179000,180000,181000,182000,183000,184000,185000,186000,187000,188000,189000,190000,191000,192000,193000,194000,195000,196000,197000,198000,199000,200000,201000,202000,203000,204000,205000,206000,207000,208000,209000,210000,211000,212000,213000,214000,215000,216000,217000,218000,219000,220000,221000,222000,223000,224000,225000,226000,227000,228000,229000,230000,231000,232000,233000,234000,235000,236000,237000,238000,239000,240000,241000,242000,243000,244000,245000,246000,247000,248000,249000,250000,251000,252000,253000,254000,255000,256000,257000,258000,259000,260000,261000,262000,263000,264000,265000,266000,267000,268000,269000,270000,271000,272000,273000,274000,275000,276000,277000,278000,279000,280000,281000,282000,283000,284000,285000,286000,287000,288000,289000,290000,291000,292000,293000,294000,295000,296000,297000,298000,299000,300000,300000,299000,298000,297000,296000,295000,294000,293000,292000,291000,290000,289000,288000,287000,286000,285000,284000,283000,282000,281000,280000,279000,278000,277000,276000,275000,274000,273000,272000,271000,270000,269000,268000,267000,266000,265000,264000,263000,262000,261000,260000,259000,258000,257000,256000,255000,254000,253000,252000,251000,250000,249000,248000,247000,246000,245000,244000,243000,242000,241000,240000,239000,238000,237000,236000,235000,234000,233000,232000,231000,230000,229000,228000,227000,226000,225000,224000,223000,222000,221000,220000,219000,218000,217000,216000,215000,214000,213000,212000,211000,210000,209000,208000,207000,206000,205000,204000,203000,202000,201000,200000,199000,198000,197000,196000,195000,194000,193000,192000,191000,190000,189000,188000,187000,186000,185000,184000,183000,182000,181000,180000,179000,178000,177000,176000,175000,174000,173000,172000,171000,170000,169000,168000,167000,166000,165000,164000,163000,162000,161000,160000,159000,158000,157000,156000,155000,154000,153000,152000,151000,150000,149000,148000,147000,146000,145000,144000,143000,142000,141000,140000,139000,138000,137000,136000,135000,134000,133000,132000,131000,130000,129000,128000,127000,126000,125000,124000,123000,122000,121000,120000,119000,118000,117000,116000,115000,114000,113000,112000,111000,110000,109000,108000,107000,106000,105000,104000,103000,102000,101000,100000,99000,98000,97000,96000,95000,94000,93000,92000,91000,90000,89000,88000,87000,86000,85000,84000,83000,82000,81000,80000,79000,78000,77000,76000,75000,74000,73000,72000,71000,70000,69000,68000,67000,66000,65000,64000,63000,62000,61000,60000,59000,58000,57000,56000,55000,54000,53000,52000,51000,50000,49000,48000,47000,46000,45000,44000,43000,42000,41000,40000,39000,38000,37000,36000,35000,34000,33000,32000,31000,30000,29000,28000,27000,26000,25000,24000,23000,22000,21000,20000,19000,18000,17000,16000,15000,14000,13000,12000,11000,10000,9000,8000,7000,6000,5000,4000,3000,2000,1000,0],\"y\":{\"__ndarray__\":\"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\",\"dtype\":\"float64\",\"shape\":[600]}}},\"id\":\"f11c5b10-5388-4433-920e-7bddb6b99d71\",\"type\":\"ColumnDataSource\"},{\"attributes\":{\"data_source\":{\"id\":\"adfcf854-d2b6-45d3-b1be-b666ac063e5f\",\"type\":\"ColumnDataSource\"},\"glyph\":{\"id\":\"88043b72-ab6d-4176-aeab-c975a85db9f4\",\"type\":\"Line\"},\"hover_glyph\":null,\"nonselection_glyph\":{\"id\":\"aeb62e6d-ef19-4044-a798-24864002053b\",\"type\":\"Line\"},\"selection_glyph\":null},\"id\":\"82661cee-7a15-4908-b647-ab0505e6d499\",\"type\":\"GlyphRenderer\"},{\"attributes\":{\"dimension\":1,\"plot\":{\"id\":\"1c7b8343-3c33-4ddc-997f-3568ae80c3aa\",\"subtype\":\"Figure\",\"type\":\"Plot\"},\"ticker\":{\"id\":\"319a9d05-f7cb-4e2e-a2f2-745007b3b35a\",\"type\":\"BasicTicker\"}},\"id\":\"1de8a89e-c806-41b8-b422-4358f8e88b2c\",\"type\":\"Grid\"},{\"attributes\":{\"fill_alpha\":{\"value\":0.1},\"fill_color\":{\"value\":\"#984ea3\"},\"line_alpha\":{\"value\":0.1},\"line_color\":{\"value\":\"#984ea3\"},\"x\":{\"field\":\"x\"},\"y\":{\"field\":\"y\"}},\"id\":\"b43b4df2-5d2d-4f9f-9843-2f30d9cedb3b\",\"type\":\"Patch\"},{\"attributes\":{},\"id\":\"319a9d05-f7cb-4e2e-a2f2-745007b3b35a\",\"type\":\"BasicTicker\"},{\"attributes\":{\"data_source\":{\"id\":\"067d65ec-e6d1-42b9-a122-a8b2fd6f9f12\",\"type\":\"ColumnDataSource\"},\"glyph\":{\"id\":\"72b3028e-db5c-441b-bfe7-c05296b33e77\",\"type\":\"Patch\"},\"hover_glyph\":null,\"nonselection_glyph\":{\"id\":\"b799587c-2a9d-40e3-945a-9f1ba6b0dd6c\",\"type\":\"Patch\"},\"selection_glyph\":null},\"id\":\"e08aef5e-ef55-4ee4-9926-02348e51c3a0\",\"type\":\"GlyphRenderer\"},{\"attributes\":{\"callback\":null},\"id\":\"6869e89e-fd92-42f2-a8d9-fdfa9244e041\",\"type\":\"DataRange1d\"},{\"attributes\":{\"plot\":{\"id\":\"1c7b8343-3c33-4ddc-997f-3568ae80c3aa\",\"subtype\":\"Figure\",\"type\":\"Plot\"}},\"id\":\"2e83b25a-52db-4382-9c6a-2996bbbf3e5e\",\"type\":\"ResetTool\"},{\"attributes\":{\"data_source\":{\"id\":\"af9c6fb3-eecf-4db8-9bc9-2eb88eeda51b\",\"type\":\"ColumnDataSource\"},\"glyph\":{\"id\":\"d1e621ea-401d-40d9-aa21-4dcfbabbaf96\",\"type\":\"Patch\"},\"hover_glyph\":null,\"nonselection_glyph\":{\"id\":\"d3a388d3-039c-4b77-b44f-f5aa582e7ab1\",\"type\":\"Patch\"},\"selection_glyph\":null},\"id\":\"29669896-25c4-4637-b370-a36ee376dcd7\",\"type\":\"GlyphRenderer\"},{\"attributes\":{\"line_color\":{\"value\":\"#ff7f00\"},\"line_width\":{\"value\":2},\"x\":{\"field\":\"x\"},\"y\":{\"field\":\"y\"}},\"id\":\"17417d06-3e0a-45bf-b64f-cef28c087d82\",\"type\":\"Line\"},{\"attributes\":{\"data_source\":{\"id\":\"bf17b31f-9758-4797-ab4c-d9d80c7c766a\",\"type\":\"ColumnDataSource\"},\"glyph\":{\"id\":\"07f624f8-beb6-4889-a51e-0794fdeb8a60\",\"type\":\"Line\"},\"hover_glyph\":null,\"nonselection_glyph\":{\"id\":\"cee3a963-e4f4-46ee-a27a-7e7d6f6757ae\",\"type\":\"Line\"},\"selection_glyph\":null},\"id\":\"01b0e002-0caa-4ef3-a26b-ccda3463e690\",\"type\":\"GlyphRenderer\"},{\"attributes\":{\"callback\":null,\"column_names\":[\"y\",\"x\"],\"data\":{\"x\":[0,1000,2000,3000,4000,5000,6000,7000,8000,9000,10000,11000,12000,13000,14000,15000,16000,17000,18000,19000,20000,21000,22000,23000,24000,25000,26000,27000,28000,29000,30000,31000,32000,33000,34000,35000,36000,37000,38000,39000,40000,41000,42000,43000,44000,45000,46000,47000,48000,49000,50000,51000,52000,53000,54000,55000,56000,57000,58000,59000,60000,61000,62000,63000,64000,65000,66000,67000,68000,69000,70000,71000,72000,73000,74000,75000,76000,77000,78000,79000,80000,81000,82000,83000,84000,85000,86000,87000,88000,89000,90000,91000,92000,93000,94000,95000,96000,97000,98000,99000,100000,101000,102000,103000,104000,105000,106000,107000,108000,109000,110000,111000,112000,113000,114000,115000,116000,117000,118000,119000,120000,121000,122000,123000,124000,125000,126000,127000,128000,129000,130000,131000,132000,133000,134000,135000,136000,137000,138000,139000,140000,141000,142000,143000,144000,145000,146000,147000,148000,149000,150000,151000,152000,153000,154000,155000,156000,157000,158000,159000,160000,161000,162000,163000,164000,165000,166000,167000,168000,169000,170000,171000,172000,173000,174000,175000,176000,177000,178000,179000,180000,181000,182000,183000,184000,185000,186000,187000,188000,189000,190000,191000,192000,193000,194000,195000,196000,197000,198000,199000,200000,201000,202000,203000,204000,205000,206000,207000,208000,209000,210000,211000,212000,213000,214000,215000,216000,217000,218000,219000,220000,221000,222000,223000,224000,225000,226000,227000,228000,229000,230000,231000,232000,233000,234000,235000,236000,237000,238000,239000,240000,241000,242000,243000,244000,245000,246000,247000,248000,249000,250000,251000,252000,253000,254000,255000,256000,257000,258000,259000,260000,261000,262000,263000,264000,265000,266000,267000,268000,269000,270000,271000,272000,273000,274000,275000,276000,277000,278000,279000,280000,281000,282000,283000,284000,285000,286000,287000,288000,289000,290000,291000,292000,293000,294000,295000,296000,297000,298000,299000,300000],\"y\":{\"__ndarray__\":\"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\",\"dtype\":\"float64\",\"shape\":[300]}}},\"id\":\"bf17b31f-9758-4797-ab4c-d9d80c7c766a\",\"type\":\"ColumnDataSource\"},{\"attributes\":{\"label\":{\"value\":\"0.99_Decay_EpsilonScaling_1_Start\"},\"renderers\":[{\"id\":\"317ca3ec-48f6-469a-8754-db899dab564a\",\"type\":\"GlyphRenderer\"}]},\"id\":\"432c21e7-b4d5-4ba9-b783-c23e391fc7bc\",\"type\":\"LegendItem\"},{\"attributes\":{\"fill_alpha\":{\"value\":0.1},\"fill_color\":{\"value\":\"#377eb8\"},\"line_alpha\":{\"value\":0.1},\"line_color\":{\"value\":\"#377eb8\"},\"x\":{\"field\":\"x\"},\"y\":{\"field\":\"y\"}},\"id\":\"72b3028e-db5c-441b-bfe7-c05296b33e77\",\"type\":\"Patch\"},{\"attributes\":{\"label\":{\"value\":\"0.9999_Decay_EpsilonScaling_0.1_Start\"},\"renderers\":[{\"id\":\"0152c978-53e4-4263-83b9-14aa1adac8a0\",\"type\":\"GlyphRenderer\"}]},\"id\":\"0ece8d61-5527-417c-bbe8-273a79239889\",\"type\":\"LegendItem\"},{\"attributes\":{\"use_scientific\":false},\"id\":\"1d6a4776-7979-42a7-b5b2-be2a6c3515f9\",\"type\":\"BasicTickFormatter\"},{\"attributes\":{\"plot\":{\"id\":\"1c7b8343-3c33-4ddc-997f-3568ae80c3aa\",\"subtype\":\"Figure\",\"type\":\"Plot\"}},\"id\":\"3c09c055-3927-4385-9c4c-367f292a9382\",\"type\":\"WheelZoomTool\"},{\"attributes\":{\"fill_alpha\":{\"value\":0.1},\"fill_color\":{\"value\":\"#1f77b4\"},\"line_alpha\":{\"value\":0.1},\"line_color\":{\"value\":\"#1f77b4\"},\"x\":{\"field\":\"x\"},\"y\":{\"field\":\"y\"}},\"id\":\"a2b79972-d77c-42d7-950e-650f76811ad4\",\"type\":\"Patch\"},{\"attributes\":{\"callback\":null},\"id\":\"309f6ba5-4633-48d1-835b-0b62ff22482e\",\"type\":\"DataRange1d\"},{\"attributes\":{\"plot\":null,\"text\":\"Med Maze 10\"},\"id\":\"56159605-0a28-453a-a522-dff29bf55373\",\"type\":\"Title\"},{\"attributes\":{\"callback\":null,\"column_names\":[\"y\",\"x\"],\"data\":{\"x\":[0,1000,2000,3000,4000,5000,6000,7000,8000,9000,10000,11000,12000,13000,14000,15000,16000,17000,18000,19000,20000,21000,22000,23000,24000,25000,26000,27000,28000,29000,30000,31000,32000,33000,34000,35000,36000,37000,38000,39000,40000,41000,42000,43000,44000,45000,46000,47000,48000,49000,50000,51000,52000,53000,54000,55000,56000,57000,58000,59000,60000,61000,62000,63000,64000,65000,66000,67000,68000,69000,70000,71000,72000,73000,74000,75000,76000,77000,78000,79000,80000,81000,82000,83000,84000,85000,86000,87000,88000,89000,90000,91000,92000,93000,94000,95000,96000,97000,98000,99000,100000,101000,102000,103000,104000,105000,106000,107000,108000,109000,110000,111000,112000,113000,114000,115000,116000,117000,118000,119000,120000,121000,122000,123000,124000,125000,126000,127000,128000,129000,130000,131000,132000,133000,134000,135000,136000,137000,138000,139000,140000,141000,142000,143000,144000,145000,146000,147000,148000,149000,150000,151000,152000,153000,154000,155000,156000,157000,158000,159000,160000,161000,162000,163000,164000,165000,166000,167000,168000,169000,170000,171000,172000,173000,174000,175000,176000,177000,178000,179000,180000,181000,182000,183000,184000,185000,186000,187000,188000,189000,190000,191000,192000,193000,194000,195000,196000,197000,198000,199000,200000,201000,202000,203000,204000,205000,206000,207000,208000,209000,210000,211000,212000,213000,214000,215000,216000,217000,218000,219000,220000,221000,222000,223000,224000,225000,226000,227000,228000,229000,230000,231000,232000,233000,234000,235000,236000,237000,238000,239000,240000,241000,242000,243000,244000,245000,246000,247000,248000,249000,250000,251000,252000,253000,254000,255000,256000,257000,258000,259000,260000,261000,262000,263000,264000,265000,266000,267000,268000,269000,270000,271000,272000,273000,274000,275000,276000,277000,278000,279000,280000,281000,282000,283000,284000,285000,286000,287000,288000,289000,290000,291000,292000,293000,294000,295000,296000,297000,298000,299000,300000],\"y\":{\"__ndarray__\":\"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\",\"dtype\":\"float64\",\"shape\":[300]}}},\"id\":\"281c4d9f-45a7-4f7c-912f-01afce7869f4\",\"type\":\"ColumnDataSource\"},{\"attributes\":{\"callback\":null,\"column_names\":[\"y\",\"x\"],\"data\":{\"x\":[0,1000,2000,3000,4000,5000,6000,7000,8000,9000,10000,11000,12000,13000,14000,15000,16000,17000,18000,19000,20000,21000,22000,23000,24000,25000,26000,27000,28000,29000,30000,31000,32000,33000,34000,35000,36000,37000,38000,39000,40000,41000,42000,43000,44000,45000,46000,47000,48000,49000,50000,51000,52000,53000,54000,55000,56000,57000,58000,59000,60000,61000,62000,63000,64000,65000,66000,67000,68000,69000,70000,71000,72000,73000,74000,75000,76000,77000,78000,79000,80000,81000,82000,83000,84000,85000,86000,87000,88000,89000,90000,91000,92000,93000,94000,95000,96000,97000,98000,99000,100000,101000,102000,103000,104000,105000,106000,107000,108000,109000,110000,111000,112000,113000,114000,115000,116000,117000,118000,119000,120000,121000,122000,123000,124000,125000,126000,127000,128000,129000,130000,131000,132000,133000,134000,135000,136000,137000,138000,139000,140000,141000,142000,143000,144000,145000,146000,147000,148000,149000,150000,151000,152000,153000,154000,155000,156000,157000,158000,159000,160000,161000,162000,163000,164000,165000,166000,167000,168000,169000,170000,171000,172000,173000,174000,175000,176000,177000,178000,179000,180000,181000,182000,183000,184000,185000,186000,187000,188000,189000,190000,191000,192000,193000,194000,195000,196000,197000,198000,199000,200000,201000,202000,203000,204000,205000,206000,207000,208000,209000,210000,211000,212000,213000,214000,215000,216000,217000,218000,219000,220000,221000,222000,223000,224000,225000,226000,227000,228000,229000,230000,231000,232000,233000,234000,235000,236000,237000,238000,239000,240000,241000,242000,243000,244000,245000,246000,247000,248000,249000,250000,251000,252000,253000,254000,255000,256000,257000,258000,259000,260000,261000,262000,263000,264000,265000,266000,267000,268000,269000,270000,271000,272000,273000,274000,275000,276000,277000,278000,279000,280000,281000,282000,283000,284000,285000,286000,287000,288000,289000,290000,291000,292000,293000,294000,295000,296000,297000,298000,299000,300000,300000,299000,298000,297000,296000,295000,294000,293000,292000,291000,290000,289000,288000,287000,286000,285000,284000,283000,282000,281000,280000,279000,278000,277000,276000,275000,274000,273000,272000,271000,270000,269000,268000,267000,266000,265000,264000,263000,262000,261000,260000,259000,258000,257000,256000,255000,254000,253000,252000,251000,250000,249000,248000,247000,246000,245000,244000,243000,242000,241000,240000,239000,238000,237000,236000,235000,234000,233000,232000,231000,230000,229000,228000,227000,226000,225000,224000,223000,222000,221000,220000,219000,218000,217000,216000,215000,214000,213000,212000,211000,210000,209000,208000,207000,206000,205000,204000,203000,202000,201000,200000,199000,198000,197000,196000,195000,194000,193000,192000,191000,190000,189000,188000,187000,186000,185000,184000,183000,182000,181000,180000,179000,178000,177000,176000,175000,174000,173000,172000,171000,170000,169000,168000,167000,166000,165000,164000,163000,162000,161000,160000,159000,158000,157000,156000,155000,154000,153000,152000,151000,150000,149000,148000,147000,146000,145000,144000,143000,142000,141000,140000,139000,138000,137000,136000,135000,134000,133000,132000,131000,130000,129000,128000,127000,126000,125000,124000,123000,122000,121000,120000,119000,118000,117000,116000,115000,114000,113000,112000,111000,110000,109000,108000,107000,106000,105000,104000,103000,102000,101000,100000,99000,98000,97000,96000,95000,94000,93000,92000,91000,90000,89000,88000,87000,86000,85000,84000,83000,82000,81000,80000,79000,78000,77000,76000,75000,74000,73000,72000,71000,70000,69000,68000,67000,66000,65000,64000,63000,62000,61000,60000,59000,58000,57000,56000,55000,54000,53000,52000,51000,50000,49000,48000,47000,46000,45000,44000,43000,42000,41000,40000,39000,38000,37000,36000,35000,34000,33000,32000,31000,30000,29000,28000,27000,26000,25000,24000,23000,22000,21000,20000,19000,18000,17000,16000,15000,14000,13000,12000,11000,10000,9000,8000,7000,6000,5000,4000,3000,2000,1000,0],\"y\":{\"__ndarray__\":\"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\",\"dtype\":\"float64\",\"shape\":[600]}}},\"id\":\"fbd2d262-0dcb-456b-9519-e57d3c5c4593\",\"type\":\"ColumnDataSource\"},{\"attributes\":{\"fill_alpha\":{\"value\":0.1},\"fill_color\":{\"value\":\"#e41a1c\"},\"line_alpha\":{\"value\":0.1},\"line_color\":{\"value\":\"#e41a1c\"},\"x\":{\"field\":\"x\"},\"y\":{\"field\":\"y\"}},\"id\":\"d1e621ea-401d-40d9-aa21-4dcfbabbaf96\",\"type\":\"Patch\"},{\"attributes\":{\"label\":{\"value\":\"0.99_Decay_EpsilonScaling_0.1_Start\"},\"renderers\":[{\"id\":\"02961905-5b10-42c7-bb1a-08631ec99899\",\"type\":\"GlyphRenderer\"}]},\"id\":\"7af2cd9f-e2e1-4db3-a027-ae2c4792dca0\",\"type\":\"LegendItem\"},{\"attributes\":{\"fill_alpha\":{\"value\":0.1},\"fill_color\":{\"value\":\"#1f77b4\"},\"line_alpha\":{\"value\":0.1},\"line_color\":{\"value\":\"#1f77b4\"},\"x\":{\"field\":\"x\"},\"y\":{\"field\":\"y\"}},\"id\":\"d3a388d3-039c-4b77-b44f-f5aa582e7ab1\",\"type\":\"Patch\"},{\"attributes\":{\"callback\":null,\"column_names\":[\"y\",\"x\"],\"data\":{\"x\":[0,1000,2000,3000,4000,5000,6000,7000,8000,9000,10000,11000,12000,13000,14000,15000,16000,17000,18000,19000,20000,21000,22000,23000,24000,25000,26000,27000,28000,29000,30000,31000,32000,33000,34000,35000,36000,37000,38000,39000,40000,41000,42000,43000,44000,45000,46000,47000,48000,49000,50000,51000,52000,53000,54000,55000,56000,57000,58000,59000,60000,61000,62000,63000,64000,65000,66000,67000,68000,69000,70000,71000,72000,73000,74000,75000,76000,77000,78000,79000,80000,81000,82000,83000,84000,85000,86000,87000,88000,89000,90000,91000,92000,93000,94000,95000,96000,97000,98000,99000,100000,101000,102000,103000,104000,105000,106000,107000,108000,109000,110000,111000,112000,113000,114000,115000,116000,117000,118000,119000,120000,121000,122000,123000,124000,125000,126000,127000,128000,129000,130000,131000,132000,133000,134000,135000,136000,137000,138000,139000,140000,141000,142000,143000,144000,145000,146000,147000,148000,149000,150000,151000,152000,153000,154000,155000,156000,157000,158000,159000,160000,161000,162000,163000,164000,165000,166000,167000,168000,169000,170000,171000,172000,173000,174000,175000,176000,177000,178000,179000,180000,181000,182000,183000,184000,185000,186000,187000,188000,189000,190000,191000,192000,193000,194000,195000,196000,197000,198000,199000,200000,201000,202000,203000,204000,205000,206000,207000,208000,209000,210000,211000,212000,213000,214000,215000,216000,217000,218000,219000,220000,221000,222000,223000,224000,225000,226000,227000,228000,229000,230000,231000,232000,233000,234000,235000,236000,237000,238000,239000,240000,241000,242000,243000,244000,245000,246000,247000,248000,249000,250000,251000,252000,253000,254000,255000,256000,257000,258000,259000,260000,261000,262000,263000,264000,265000,266000,267000,268000,269000,270000,271000,272000,273000,274000,275000,276000,277000,278000,279000,280000,281000,282000,283000,284000,285000,286000,287000,288000,289000,290000,291000,292000,293000,294000,295000,296000,297000,298000,299000,300000],\"y\":{\"__ndarray__\":\"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\",\"dtype\":\"float64\",\"shape\":[300]}}},\"id\":\"3c630bc0-54b2-4ed6-af1f-d8ad165f4629\",\"type\":\"ColumnDataSource\"},{\"attributes\":{\"data_source\":{\"id\":\"63a5857f-210e-434d-8253-92c48641776c\",\"type\":\"ColumnDataSource\"},\"glyph\":{\"id\":\"17417d06-3e0a-45bf-b64f-cef28c087d82\",\"type\":\"Line\"},\"hover_glyph\":null,\"nonselection_glyph\":{\"id\":\"be479380-db18-4eca-992f-082a51e17f3e\",\"type\":\"Line\"},\"selection_glyph\":null},\"id\":\"317ca3ec-48f6-469a-8754-db899dab564a\",\"type\":\"GlyphRenderer\"},{\"attributes\":{\"fill_alpha\":{\"value\":0.1},\"fill_color\":{\"value\":\"#ffff33\"},\"line_alpha\":{\"value\":0.1},\"line_color\":{\"value\":\"#ffff33\"},\"x\":{\"field\":\"x\"},\"y\":{\"field\":\"y\"}},\"id\":\"3ee23adb-9b6e-42ae-b716-f66d2d5a2241\",\"type\":\"Patch\"},{\"attributes\":{\"fill_alpha\":{\"value\":0.1},\"fill_color\":{\"value\":\"#1f77b4\"},\"line_alpha\":{\"value\":0.1},\"line_color\":{\"value\":\"#1f77b4\"},\"x\":{\"field\":\"x\"},\"y\":{\"field\":\"y\"}},\"id\":\"b799587c-2a9d-40e3-945a-9f1ba6b0dd6c\",\"type\":\"Patch\"},{\"attributes\":{\"bottom_units\":\"screen\",\"fill_alpha\":{\"value\":0.5},\"fill_color\":{\"value\":\"lightgrey\"},\"left_units\":\"screen\",\"level\":\"overlay\",\"line_alpha\":{\"value\":1.0},\"line_color\":{\"value\":\"black\"},\"line_dash\":[4,4],\"line_width\":{\"value\":2},\"plot\":null,\"render_mode\":\"css\",\"right_units\":\"screen\",\"top_units\":\"screen\"},\"id\":\"eec42d06-86c2-434e-b6dc-26ddda50917d\",\"type\":\"BoxAnnotation\"},{\"attributes\":{\"line_color\":{\"value\":\"#4daf4a\"},\"line_width\":{\"value\":2},\"x\":{\"field\":\"x\"},\"y\":{\"field\":\"y\"}},\"id\":\"cac3ef78-b7ea-4ed5-b8ae-011864e3eaac\",\"type\":\"Line\"},{\"attributes\":{\"plot\":{\"id\":\"1c7b8343-3c33-4ddc-997f-3568ae80c3aa\",\"subtype\":\"Figure\",\"type\":\"Plot\"}},\"id\":\"2da7ef52-0f7b-47ea-a380-d723a1a69dad\",\"type\":\"HelpTool\"},{\"attributes\":{\"line_alpha\":{\"value\":0.1},\"line_color\":{\"value\":\"#1f77b4\"},\"line_width\":{\"value\":2},\"x\":{\"field\":\"x\"},\"y\":{\"field\":\"y\"}},\"id\":\"f8ba3f6e-e7b2-42b5-a3b9-b65836dab103\",\"type\":\"Line\"},{\"attributes\":{\"line_alpha\":{\"value\":0.1},\"line_color\":{\"value\":\"#1f77b4\"},\"line_width\":{\"value\":2},\"x\":{\"field\":\"x\"},\"y\":{\"field\":\"y\"}},\"id\":\"cee3a963-e4f4-46ee-a27a-7e7d6f6757ae\",\"type\":\"Line\"},{\"attributes\":{\"active_drag\":\"auto\",\"active_scroll\":\"auto\",\"active_tap\":\"auto\",\"tools\":[{\"id\":\"2dcca8fc-7fac-455e-9aad-bf610b61865a\",\"type\":\"PanTool\"},{\"id\":\"3c09c055-3927-4385-9c4c-367f292a9382\",\"type\":\"WheelZoomTool\"},{\"id\":\"80889961-8010-481d-8546-4055cab109b5\",\"type\":\"BoxZoomTool\"},{\"id\":\"48788613-53b1-4909-ba89-f8c1d58475ba\",\"type\":\"SaveTool\"},{\"id\":\"2e83b25a-52db-4382-9c6a-2996bbbf3e5e\",\"type\":\"ResetTool\"},{\"id\":\"2da7ef52-0f7b-47ea-a380-d723a1a69dad\",\"type\":\"HelpTool\"}]},\"id\":\"9f6b786b-50c6-4091-bea7-7de710e9250d\",\"type\":\"Toolbar\"},{\"attributes\":{\"data_source\":{\"id\":\"3c630bc0-54b2-4ed6-af1f-d8ad165f4629\",\"type\":\"ColumnDataSource\"},\"glyph\":{\"id\":\"cac3ef78-b7ea-4ed5-b8ae-011864e3eaac\",\"type\":\"Line\"},\"hover_glyph\":null,\"nonselection_glyph\":{\"id\":\"1016c867-2352-4772-b3c9-0b04e82f78c8\",\"type\":\"Line\"},\"selection_glyph\":null},\"id\":\"0152c978-53e4-4263-83b9-14aa1adac8a0\",\"type\":\"GlyphRenderer\"},{\"attributes\":{\"fill_alpha\":{\"value\":0.1},\"fill_color\":{\"value\":\"#1f77b4\"},\"line_alpha\":{\"value\":0.1},\"line_color\":{\"value\":\"#1f77b4\"},\"x\":{\"field\":\"x\"},\"y\":{\"field\":\"y\"}},\"id\":\"6150812d-bccd-45cd-ab25-657a38df71ea\",\"type\":\"Patch\"},{\"attributes\":{\"line_color\":{\"value\":\"#984ea3\"},\"line_width\":{\"value\":2},\"x\":{\"field\":\"x\"},\"y\":{\"field\":\"y\"}},\"id\":\"07f624f8-beb6-4889-a51e-0794fdeb8a60\",\"type\":\"Line\"},{\"attributes\":{},\"id\":\"48568dcc-7a7a-4055-a8fc-b233d42374c3\",\"type\":\"BasicTickFormatter\"},{\"attributes\":{\"fill_alpha\":{\"value\":0.1},\"fill_color\":{\"value\":\"#4daf4a\"},\"line_alpha\":{\"value\":0.1},\"line_color\":{\"value\":\"#4daf4a\"},\"x\":{\"field\":\"x\"},\"y\":{\"field\":\"y\"}},\"id\":\"4b25ecd1-9678-40b4-a7db-18b010ab2451\",\"type\":\"Patch\"},{\"attributes\":{\"plot\":{\"id\":\"1c7b8343-3c33-4ddc-997f-3568ae80c3aa\",\"subtype\":\"Figure\",\"type\":\"Plot\"}},\"id\":\"2dcca8fc-7fac-455e-9aad-bf610b61865a\",\"type\":\"PanTool\"},{\"attributes\":{\"line_color\":{\"value\":\"#377eb8\"},\"line_width\":{\"value\":2},\"x\":{\"field\":\"x\"},\"y\":{\"field\":\"y\"}},\"id\":\"95883f37-caf5-4a75-aa87-3659f81228e8\",\"type\":\"Line\"},{\"attributes\":{\"callback\":null,\"column_names\":[\"y\",\"x\"],\"data\":{\"x\":[0,1000,2000,3000,4000,5000,6000,7000,8000,9000,10000,11000,12000,13000,14000,15000,16000,17000,18000,19000,20000,21000,22000,23000,24000,25000,26000,27000,28000,29000,30000,31000,32000,33000,34000,35000,36000,37000,38000,39000,40000,41000,42000,43000,44000,45000,46000,47000,48000,49000,50000,51000,52000,53000,54000,55000,56000,57000,58000,59000,60000,61000,62000,63000,64000,65000,66000,67000,68000,69000,70000,71000,72000,73000,74000,75000,76000,77000,78000,79000,80000,81000,82000,83000,84000,85000,86000,87000,88000,89000,90000,91000,92000,93000,94000,95000,96000,97000,98000,99000,100000,101000,102000,103000,104000,105000,106000,107000,108000,109000,110000,111000,112000,113000,114000,115000,116000,117000,118000,119000,120000,121000,122000,123000,124000,125000,126000,127000,128000,129000,130000,131000,132000,133000,134000,135000,136000,137000,138000,139000,140000,141000,142000,143000,144000,145000,146000,147000,148000,149000,150000,151000,152000,153000,154000,155000,156000,157000,158000,159000,160000,161000,162000,163000,164000,165000,166000,167000,168000,169000,170000,171000,172000,173000,174000,175000,176000,177000,178000,179000,180000,181000,182000,183000,184000,185000,186000,187000,188000,189000,190000,191000,192000,193000,194000,195000,196000,197000,198000,199000,200000,201000,202000,203000,204000,205000,206000,207000,208000,209000,210000,211000,212000,213000,214000,215000,216000,217000,218000,219000,220000,221000,222000,223000,224000,225000,226000,227000,228000,229000,230000,231000,232000,233000,234000,235000,236000,237000,238000,239000,240000,241000,242000,243000,244000,245000,246000,247000,248000,249000,250000,251000,252000,253000,254000,255000,256000,257000,258000,259000,260000,261000,262000,263000,264000,265000,266000,267000,268000,269000,270000,271000,272000,273000,274000,275000,276000,277000,278000,279000,280000,281000,282000,283000,284000,285000,286000,287000,288000,289000,290000,291000,292000,293000,294000,295000,296000,297000,298000,299000,300000],\"y\":{\"__ndarray__\":\"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\",\"dtype\":\"float64\",\"shape\":[300]}}},\"id\":\"be66d83f-00f1-4967-a08e-231b9092d461\",\"type\":\"ColumnDataSource\"},{\"attributes\":{\"fill_alpha\":{\"value\":0.1},\"fill_color\":{\"value\":\"#1f77b4\"},\"line_alpha\":{\"value\":0.1},\"line_color\":{\"value\":\"#1f77b4\"},\"x\":{\"field\":\"x\"},\"y\":{\"field\":\"y\"}},\"id\":\"47a7741f-7500-48f5-8532-8fb66f11aa48\",\"type\":\"Patch\"},{\"attributes\":{\"plot\":{\"id\":\"1c7b8343-3c33-4ddc-997f-3568ae80c3aa\",\"subtype\":\"Figure\",\"type\":\"Plot\"}},\"id\":\"48788613-53b1-4909-ba89-f8c1d58475ba\",\"type\":\"SaveTool\"},{\"attributes\":{\"data_source\":{\"id\":\"88e189d0-8f0b-404a-8a9b-358a375b3397\",\"type\":\"ColumnDataSource\"},\"glyph\":{\"id\":\"4b25ecd1-9678-40b4-a7db-18b010ab2451\",\"type\":\"Patch\"},\"hover_glyph\":null,\"nonselection_glyph\":{\"id\":\"1950fd73-b5dc-4826-aca6-3335526a8111\",\"type\":\"Patch\"},\"selection_glyph\":null},\"id\":\"a189bfd6-5f54-46a4-af5d-6c19fa0eb2be\",\"type\":\"GlyphRenderer\"},{\"attributes\":{\"axis_label\":\"States visited\",\"formatter\":{\"id\":\"48568dcc-7a7a-4055-a8fc-b233d42374c3\",\"type\":\"BasicTickFormatter\"},\"plot\":{\"id\":\"1c7b8343-3c33-4ddc-997f-3568ae80c3aa\",\"subtype\":\"Figure\",\"type\":\"Plot\"},\"ticker\":{\"id\":\"319a9d05-f7cb-4e2e-a2f2-745007b3b35a\",\"type\":\"BasicTicker\"}},\"id\":\"6f8bb008-477c-4b7e-a512-84684ea83113\",\"type\":\"LinearAxis\"},{\"attributes\":{\"data_source\":{\"id\":\"f11c5b10-5388-4433-920e-7bddb6b99d71\",\"type\":\"ColumnDataSource\"},\"glyph\":{\"id\":\"3ee23adb-9b6e-42ae-b716-f66d2d5a2241\",\"type\":\"Patch\"},\"hover_glyph\":null,\"nonselection_glyph\":{\"id\":\"47a7741f-7500-48f5-8532-8fb66f11aa48\",\"type\":\"Patch\"},\"selection_glyph\":null},\"id\":\"31bb0f51-4246-405c-b0d9-c41b718deb56\",\"type\":\"GlyphRenderer\"},{\"attributes\":{\"data_source\":{\"id\":\"b3d6307a-1714-4e94-a5b2-405e7845db18\",\"type\":\"ColumnDataSource\"},\"glyph\":{\"id\":\"22f6055c-e547-4762-a280-75bb8fcfbd55\",\"type\":\"Patch\"},\"hover_glyph\":null,\"nonselection_glyph\":{\"id\":\"a2b79972-d77c-42d7-950e-650f76811ad4\",\"type\":\"Patch\"},\"selection_glyph\":null},\"id\":\"b3f92436-0f53-45ca-aa2d-802021f3991b\",\"type\":\"GlyphRenderer\"},{\"attributes\":{},\"id\":\"c62d2895-967a-4bac-a4ba-497cf56662a4\",\"type\":\"BasicTicker\"}],\"root_ids\":[\"1c7b8343-3c33-4ddc-997f-3568ae80c3aa\"]},\"title\":\"Bokeh Application\",\"version\":\"0.12.4\"}};\n",
       "            var render_items = [{\"docid\":\"5eb0a30c-6b5f-460f-8cfb-e33f283a6451\",\"elementid\":\"f61dcf29-8a1c-4a2a-b396-4958ac71d026\",\"modelid\":\"1c7b8343-3c33-4ddc-997f-3568ae80c3aa\"}];\n",
       "            \n",
       "            Bokeh.embed.embed_items(docs_json, render_items);\n",
       "          };\n",
       "          if (document.readyState != \"loading\") fn();\n",
       "          else document.addEventListener(\"DOMContentLoaded\", fn);\n",
       "        })();\n",
       "      },\n",
       "      function(Bokeh) {\n",
       "      }\n",
       "    ];\n",
       "  \n",
       "    function run_inline_js() {\n",
       "      \n",
       "      if ((window.Bokeh !== undefined) || (force === true)) {\n",
       "        for (var i = 0; i < inline_js.length; i++) {\n",
       "          inline_js[i](window.Bokeh);\n",
       "        }if (force === true) {\n",
       "          display_loaded();\n",
       "        }} else if (Date.now() < window._bokeh_timeout) {\n",
       "        setTimeout(run_inline_js, 100);\n",
       "      } else if (!window._bokeh_failed_load) {\n",
       "        console.log(\"Bokeh: BokehJS failed to load within specified timeout.\");\n",
       "        window._bokeh_failed_load = true;\n",
       "      } else if (force !== true) {\n",
       "        var cell = $(document.getElementById(\"f61dcf29-8a1c-4a2a-b396-4958ac71d026\")).parents('.cell').data().cell;\n",
       "        cell.output_area.append_execute_result(NB_LOAD_WARNING)\n",
       "      }\n",
       "  \n",
       "    }\n",
       "  \n",
       "    if (window._bokeh_is_loading === 0) {\n",
       "      console.log(\"Bokeh: BokehJS loaded, going straight to plotting\");\n",
       "      run_inline_js();\n",
       "    } else {\n",
       "      load_libs(js_urls, function() {\n",
       "        console.log(\"Bokeh: BokehJS plotting callback run at\", now());\n",
       "        run_inline_js();\n",
       "      });\n",
       "    }\n",
       "  }(this));\n",
       "</script>"
      ]
     },
     "metadata": {},
     "output_type": "display_data"
    }
   ],
   "source": [
    "plot_states(names, t_maxs, Set1[len(names)], legends, directories, step=1000, title=\"Med Maze 10\")"
   ]
  },
  {
   "cell_type": "code",
   "execution_count": null,
   "metadata": {
    "collapsed": true,
    "deletable": true,
    "editable": true
   },
   "outputs": [],
   "source": []
  },
  {
   "cell_type": "code",
   "execution_count": null,
   "metadata": {
    "collapsed": true,
    "deletable": true,
    "editable": true
   },
   "outputs": [],
   "source": []
  },
  {
   "cell_type": "code",
   "execution_count": null,
   "metadata": {
    "collapsed": true,
    "deletable": true,
    "editable": true
   },
   "outputs": [],
   "source": [
    "DQN_Smoothed = []\n",
    "for times, rewards in zip(DQN_Lengths_C, DQN_Rewards):\n",
    "    linear = interp1d(times, rewards, kind=\"linear\")\n",
    "    linear_rewards = linear([i for i in range(500000)])\n",
    "    DQN_Smoothed.append(linear_rewards)"
   ]
  },
  {
   "cell_type": "code",
   "execution_count": null,
   "metadata": {
    "collapsed": true,
    "deletable": true,
    "editable": true
   },
   "outputs": [],
   "source": [
    "DQN_Means = np.mean(DQN_Smoothed, axis=0)"
   ]
  },
  {
   "cell_type": "code",
   "execution_count": null,
   "metadata": {
    "collapsed": true,
    "deletable": true,
    "editable": true
   },
   "outputs": [],
   "source": [
    "DQN_Stds = np.std(DQN_Smoothed, axis=0)"
   ]
  },
  {
   "cell_type": "code",
   "execution_count": null,
   "metadata": {
    "collapsed": false,
    "deletable": true,
    "editable": true
   },
   "outputs": [],
   "source": [
    "plt.fill_between([i for i in range(500000)], DQN_Means - DQN_Stds, DQN_Means + DQN_Stds, color=\"red\", alpha=0.3, edgecolor=\"white\")\n",
    "\n",
    "plt.plot([i for i in range(500000)], DQN_Means, color=\"red\")"
   ]
  },
  {
   "cell_type": "code",
   "execution_count": null,
   "metadata": {
    "collapsed": false,
    "deletable": true,
    "editable": true
   },
   "outputs": [],
   "source": [
    "len(DQN_Repeat)"
   ]
  },
  {
   "cell_type": "code",
   "execution_count": null,
   "metadata": {
    "collapsed": true,
    "deletable": true,
    "editable": true
   },
   "outputs": [],
   "source": [
    "plt.plot(DQN)"
   ]
  },
  {
   "cell_type": "code",
   "execution_count": null,
   "metadata": {
    "collapsed": true,
    "deletable": true,
    "editable": true
   },
   "outputs": [],
   "source": [
    "directories = [\"Logs/\"]"
   ]
  },
  {
   "cell_type": "code",
   "execution_count": null,
   "metadata": {
    "collapsed": false,
    "deletable": true,
    "editable": true
   },
   "outputs": [],
   "source": [
    "for i in range(0, 10, 2):\n",
    "    print(i)"
   ]
  },
  {
   "cell_type": "code",
   "execution_count": null,
   "metadata": {
    "collapsed": true,
    "deletable": true,
    "editable": true
   },
   "outputs": [],
   "source": []
  }
 ],
 "metadata": {
  "kernelspec": {
   "display_name": "Python 3",
   "language": "python",
   "name": "python3"
  },
  "language_info": {
   "codemirror_mode": {
    "name": "ipython",
    "version": 3
   },
   "file_extension": ".py",
   "mimetype": "text/x-python",
   "name": "python",
   "nbconvert_exporter": "python",
   "pygments_lexer": "ipython3",
   "version": "3.5.3"
  }
 },
 "nbformat": 4,
 "nbformat_minor": 2
}
