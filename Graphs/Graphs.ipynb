{
 "cells": [
  {
   "cell_type": "code",
   "execution_count": 1,
   "metadata": {
    "collapsed": false,
    "deletable": true,
    "editable": true
   },
   "outputs": [
    {
     "data": {
      "text/html": [
       "\n",
       "    <div class=\"bk-root\">\n",
       "        <a href=\"http://bokeh.pydata.org\" target=\"_blank\" class=\"bk-logo bk-logo-small bk-logo-notebook\"></a>\n",
       "        <span id=\"4103a5e0-6608-47ad-861f-a3828c321f68\">Loading BokehJS ...</span>\n",
       "    </div>"
      ]
     },
     "metadata": {},
     "output_type": "display_data"
    },
    {
     "data": {
      "application/javascript": [
       "\n",
       "(function(global) {\n",
       "  function now() {\n",
       "    return new Date();\n",
       "  }\n",
       "\n",
       "  var force = true;\n",
       "\n",
       "  if (typeof (window._bokeh_onload_callbacks) === \"undefined\" || force === true) {\n",
       "    window._bokeh_onload_callbacks = [];\n",
       "    window._bokeh_is_loading = undefined;\n",
       "  }\n",
       "\n",
       "\n",
       "  \n",
       "  if (typeof (window._bokeh_timeout) === \"undefined\" || force === true) {\n",
       "    window._bokeh_timeout = Date.now() + 5000;\n",
       "    window._bokeh_failed_load = false;\n",
       "  }\n",
       "\n",
       "  var NB_LOAD_WARNING = {'data': {'text/html':\n",
       "     \"<div style='background-color: #fdd'>\\n\"+\n",
       "     \"<p>\\n\"+\n",
       "     \"BokehJS does not appear to have successfully loaded. If loading BokehJS from CDN, this \\n\"+\n",
       "     \"may be due to a slow or bad network connection. Possible fixes:\\n\"+\n",
       "     \"</p>\\n\"+\n",
       "     \"<ul>\\n\"+\n",
       "     \"<li>re-rerun `output_notebook()` to attempt to load from CDN again, or</li>\\n\"+\n",
       "     \"<li>use INLINE resources instead, as so:</li>\\n\"+\n",
       "     \"</ul>\\n\"+\n",
       "     \"<code>\\n\"+\n",
       "     \"from bokeh.resources import INLINE\\n\"+\n",
       "     \"output_notebook(resources=INLINE)\\n\"+\n",
       "     \"</code>\\n\"+\n",
       "     \"</div>\"}};\n",
       "\n",
       "  function display_loaded() {\n",
       "    if (window.Bokeh !== undefined) {\n",
       "      document.getElementById(\"4103a5e0-6608-47ad-861f-a3828c321f68\").textContent = \"BokehJS successfully loaded.\";\n",
       "    } else if (Date.now() < window._bokeh_timeout) {\n",
       "      setTimeout(display_loaded, 100)\n",
       "    }\n",
       "  }\n",
       "\n",
       "  function run_callbacks() {\n",
       "    window._bokeh_onload_callbacks.forEach(function(callback) { callback() });\n",
       "    delete window._bokeh_onload_callbacks\n",
       "    console.info(\"Bokeh: all callbacks have finished\");\n",
       "  }\n",
       "\n",
       "  function load_libs(js_urls, callback) {\n",
       "    window._bokeh_onload_callbacks.push(callback);\n",
       "    if (window._bokeh_is_loading > 0) {\n",
       "      console.log(\"Bokeh: BokehJS is being loaded, scheduling callback at\", now());\n",
       "      return null;\n",
       "    }\n",
       "    if (js_urls == null || js_urls.length === 0) {\n",
       "      run_callbacks();\n",
       "      return null;\n",
       "    }\n",
       "    console.log(\"Bokeh: BokehJS not loaded, scheduling load and callback at\", now());\n",
       "    window._bokeh_is_loading = js_urls.length;\n",
       "    for (var i = 0; i < js_urls.length; i++) {\n",
       "      var url = js_urls[i];\n",
       "      var s = document.createElement('script');\n",
       "      s.src = url;\n",
       "      s.async = false;\n",
       "      s.onreadystatechange = s.onload = function() {\n",
       "        window._bokeh_is_loading--;\n",
       "        if (window._bokeh_is_loading === 0) {\n",
       "          console.log(\"Bokeh: all BokehJS libraries loaded\");\n",
       "          run_callbacks()\n",
       "        }\n",
       "      };\n",
       "      s.onerror = function() {\n",
       "        console.warn(\"failed to load library \" + url);\n",
       "      };\n",
       "      console.log(\"Bokeh: injecting script tag for BokehJS library: \", url);\n",
       "      document.getElementsByTagName(\"head\")[0].appendChild(s);\n",
       "    }\n",
       "  };var element = document.getElementById(\"4103a5e0-6608-47ad-861f-a3828c321f68\");\n",
       "  if (element == null) {\n",
       "    console.log(\"Bokeh: ERROR: autoload.js configured with elementid '4103a5e0-6608-47ad-861f-a3828c321f68' but no matching script tag was found. \")\n",
       "    return false;\n",
       "  }\n",
       "\n",
       "  var js_urls = [\"https://cdn.pydata.org/bokeh/release/bokeh-0.12.4.min.js\", \"https://cdn.pydata.org/bokeh/release/bokeh-widgets-0.12.4.min.js\"];\n",
       "\n",
       "  var inline_js = [\n",
       "    function(Bokeh) {\n",
       "      Bokeh.set_log_level(\"info\");\n",
       "    },\n",
       "    \n",
       "    function(Bokeh) {\n",
       "      \n",
       "      document.getElementById(\"4103a5e0-6608-47ad-861f-a3828c321f68\").textContent = \"BokehJS is loading...\";\n",
       "    },\n",
       "    function(Bokeh) {\n",
       "      console.log(\"Bokeh: injecting CSS: https://cdn.pydata.org/bokeh/release/bokeh-0.12.4.min.css\");\n",
       "      Bokeh.embed.inject_css(\"https://cdn.pydata.org/bokeh/release/bokeh-0.12.4.min.css\");\n",
       "      console.log(\"Bokeh: injecting CSS: https://cdn.pydata.org/bokeh/release/bokeh-widgets-0.12.4.min.css\");\n",
       "      Bokeh.embed.inject_css(\"https://cdn.pydata.org/bokeh/release/bokeh-widgets-0.12.4.min.css\");\n",
       "    }\n",
       "  ];\n",
       "\n",
       "  function run_inline_js() {\n",
       "    \n",
       "    if ((window.Bokeh !== undefined) || (force === true)) {\n",
       "      for (var i = 0; i < inline_js.length; i++) {\n",
       "        inline_js[i](window.Bokeh);\n",
       "      }if (force === true) {\n",
       "        display_loaded();\n",
       "      }} else if (Date.now() < window._bokeh_timeout) {\n",
       "      setTimeout(run_inline_js, 100);\n",
       "    } else if (!window._bokeh_failed_load) {\n",
       "      console.log(\"Bokeh: BokehJS failed to load within specified timeout.\");\n",
       "      window._bokeh_failed_load = true;\n",
       "    } else if (force !== true) {\n",
       "      var cell = $(document.getElementById(\"4103a5e0-6608-47ad-861f-a3828c321f68\")).parents('.cell').data().cell;\n",
       "      cell.output_area.append_execute_result(NB_LOAD_WARNING)\n",
       "    }\n",
       "\n",
       "  }\n",
       "\n",
       "  if (window._bokeh_is_loading === 0) {\n",
       "    console.log(\"Bokeh: BokehJS loaded, going straight to plotting\");\n",
       "    run_inline_js();\n",
       "  } else {\n",
       "    load_libs(js_urls, function() {\n",
       "      console.log(\"Bokeh: BokehJS plotting callback run at\", now());\n",
       "      run_inline_js();\n",
       "    });\n",
       "  }\n",
       "}(this));"
      ]
     },
     "metadata": {},
     "output_type": "display_data"
    }
   ],
   "source": [
    "from bokeh.plotting import figure, output_notebook, show\n",
    "output_notebook()"
   ]
  },
  {
   "cell_type": "code",
   "execution_count": 2,
   "metadata": {
    "collapsed": true,
    "deletable": true,
    "editable": true
   },
   "outputs": [],
   "source": [
    "import glob"
   ]
  },
  {
   "cell_type": "code",
   "execution_count": 3,
   "metadata": {
    "collapsed": true,
    "deletable": true,
    "editable": true
   },
   "outputs": [],
   "source": [
    "import numpy as np"
   ]
  },
  {
   "cell_type": "code",
   "execution_count": 4,
   "metadata": {
    "collapsed": true,
    "deletable": true,
    "editable": true
   },
   "outputs": [],
   "source": [
    "from scipy.interpolate import interp1d\n",
    "from scipy.interpolate import spline"
   ]
  },
  {
   "cell_type": "code",
   "execution_count": 5,
   "metadata": {
    "collapsed": true,
    "deletable": true,
    "editable": true
   },
   "outputs": [],
   "source": [
    "from tqdm import tqdm"
   ]
  },
  {
   "cell_type": "code",
   "execution_count": 6,
   "metadata": {
    "collapsed": true,
    "deletable": true,
    "editable": true
   },
   "outputs": [],
   "source": [
    "DQN_Rewards_Path = \"/home/tabz/Dropbox/RL/Log_Files/March 2017/Maze_5_Batch_Sizes_Logs/*DQN*/logs/Episode_Rewards.txt\"\n",
    "DQN_Lengths_Path = \"/home/tabz/Dropbox/RL/Log_Files/March 2017/Maze_5_Batch_Sizes_Logs/*DQN*/logs/Episode_Lengths.txt\"\n",
    "DQN_Rewards = []\n",
    "DQN_Lengths = []\n",
    "DQN_Lengths_C = []"
   ]
  },
  {
   "cell_type": "code",
   "execution_count": 7,
   "metadata": {
    "collapsed": true,
    "deletable": true,
    "editable": true
   },
   "outputs": [],
   "source": [
    "for filename in glob.glob(DQN_Rewards_Path):\n",
    "    run_logs = [0]\n",
    "#     print(filename)\n",
    "    with open(filename, \"r\") as f:\n",
    "        for line in f:\n",
    "            try:\n",
    "                ep_r = float(line)\n",
    "            except:\n",
    "                continue\n",
    "            run_logs.append(ep_r)\n",
    "    DQN_Rewards.append(run_logs)"
   ]
  },
  {
   "cell_type": "code",
   "execution_count": 8,
   "metadata": {
    "collapsed": true,
    "deletable": true,
    "editable": true
   },
   "outputs": [],
   "source": [
    "for filename in glob.glob(DQN_Lengths_Path):\n",
    "    run_logs = [0]\n",
    "#     print(filename)\n",
    "    with open(filename, \"r\") as f:\n",
    "        for line in f:\n",
    "            try:\n",
    "                ep_r = float(line)\n",
    "            except:\n",
    "                continue\n",
    "            run_logs.append(ep_r)\n",
    "    DQN_Lengths.append(run_logs)\n",
    "    run_logs_c = np.cumsum(run_logs).astype(np.int32)\n",
    "    DQN_Lengths_C.append(run_logs_c)"
   ]
  },
  {
   "cell_type": "markdown",
   "metadata": {
    "collapsed": false,
    "deletable": true,
    "editable": true
   },
   "source": [
    "for lens, runs in zip(DQN_Lengths_C, DQN_Rewards):\n",
    "    plt.plot(lens, runs)\n",
    "plt.show()"
   ]
  },
  {
   "cell_type": "markdown",
   "metadata": {
    "collapsed": false,
    "deletable": true,
    "editable": true
   },
   "source": [
    "p = figure(width=500, height=500, y_range=(-1,3))\n",
    "for lens, runs in zip(DQN_Lengths_C, DQN_Rewards):\n",
    "    p.line(lens, runs)\n",
    "show(p)"
   ]
  },
  {
   "cell_type": "code",
   "execution_count": null,
   "metadata": {
    "collapsed": true,
    "deletable": true,
    "editable": true
   },
   "outputs": [],
   "source": []
  },
  {
   "cell_type": "markdown",
   "metadata": {
    "collapsed": true,
    "deletable": true,
    "editable": true
   },
   "source": [
    "def plot_averages(names, t_maxs, colors, legends=None, directory=\"Logs/\", step=10):\n",
    "    plt.figure(figsize=(10,10))\n",
    "    plt.ylim(-1, 3)\n",
    "    for name, color, t_max in tqdm(zip(names, colors, t_maxs)):\n",
    "        # TODO: Remove DQN from names\n",
    "        DQN_Rewards_Path = directory + \"*\" + name + \"*/logs/Episode_Rewards.txt\"\n",
    "        DQN_Lengths_Path = directory + \"*\" + name + \"*/logs/Episode_Lengths.txt\"\n",
    "        DQN_Rewards = []\n",
    "        DQN_Lengths = []\n",
    "        DQN_Lengths_C = []\n",
    "        for filename in glob.glob(DQN_Rewards_Path):\n",
    "            run_logs = [0]\n",
    "            with open(filename, \"r\") as f:\n",
    "                for line in f:\n",
    "                    try:\n",
    "                        ep_r = float(line)\n",
    "                    except:\n",
    "                        continue\n",
    "                    run_logs.append(ep_r)\n",
    "            DQN_Rewards.append(run_logs)\n",
    "        for filename in glob.glob(DQN_Lengths_Path):\n",
    "            run_logs = [0]\n",
    "        #     print(filename)\n",
    "            with open(filename, \"r\") as f:\n",
    "                for line in f:\n",
    "                    try:\n",
    "                        ep_r = float(line)\n",
    "                    except:\n",
    "                        continue\n",
    "                    run_logs.append(ep_r)\n",
    "            DQN_Lengths.append(run_logs)\n",
    "            run_logs_c = np.cumsum(run_logs).astype(np.int32)\n",
    "            DQN_Lengths_C.append(run_logs_c)\n",
    "        DQN_Smoothed = []\n",
    "        for times, rewards in zip(DQN_Lengths_C, DQN_Rewards):\n",
    "#             linear = interp1d(times, rewards, kind=\"linear\")\n",
    "#             linear_rewards = linear([i for i in range(500000)])\n",
    "#             DQN_Smoothed.append(linear_rewards)\n",
    "            spline_rewards = spline(times, rewards, [i for i in range(0, t_max, step)])\n",
    "            DQN_Smoothed.append(spline_rewards)\n",
    "        DQN_Means = np.mean(DQN_Smoothed, axis=0)\n",
    "        DQN_Stds = np.std(DQN_Smoothed, axis=0)\n",
    "        plt.fill_between([i for i in range(0, t_max, step)], DQN_Means - DQN_Stds, DQN_Means + DQN_Stds, color=color, alpha=0.2, edgecolor=\"white\")\n",
    "\n",
    "        plt.plot([i for i in range(0, t_max, step)], DQN_Means, color=color)\n",
    "\n",
    "    plt.title(\"Episode_Reward\")\n",
    "    plt.xlabel(\"T\")\n",
    "    plt.ylabel(\"Reward\")\n",
    "    if legends is not None:\n",
    "        plt.legend(legends, bbox_to_anchor=(1.05, 1), loc=2)\n",
    "    plt.show()"
   ]
  },
  {
   "cell_type": "code",
   "execution_count": 9,
   "metadata": {
    "collapsed": true,
    "deletable": true,
    "editable": true
   },
   "outputs": [],
   "source": [
    "from bokeh.models import Legend\n",
    "from bokeh.models.formatters import BasicTickFormatter\n",
    "from bokeh.models import HoverTool, TapTool"
   ]
  },
  {
   "cell_type": "code",
   "execution_count": 10,
   "metadata": {
    "collapsed": false,
    "deletable": true,
    "editable": true
   },
   "outputs": [],
   "source": [
    "def plot_averages_b(names, t_maxs, colors, legends, directories=\"Logs/\", step=10, title=\"\", min_max=True):\n",
    "#     plt.figure(figsize=(10,10))\n",
    "    p = figure(width=1200, height=800, y_range=(-0.1, 1.1), title=title)\n",
    "    p.toolbar_location = \"above\"\n",
    "    p.yaxis.axis_label = \"Episode Reward\"\n",
    "    p.xaxis.axis_label = \"T\"\n",
    "    p.xaxis.formatter = BasicTickFormatter(use_scientific=False)\n",
    "#     p = figure(width=800, height=500)\n",
    "    lines = []\n",
    "    alpha_lines = []\n",
    "    if isinstance(directories, str):\n",
    "        dd = directories\n",
    "        directories = [dd for _ in names]\n",
    "    for name, color, t_max, legend, directory in zip(names, colors, t_maxs, legends, directories):\n",
    "#         print(directory)\n",
    "        DQN_Rewards_Path = directory + \"*\" + name + \"*/logs/Episode_Rewards.txt\"\n",
    "        DQN_Lengths_Path = directory + \"*\" + name + \"*/logs/Episode_Lengths.txt\"\n",
    "        DQN_Rewards = []\n",
    "        DQN_Lengths = []\n",
    "        DQN_Lengths_C = []\n",
    "        for filename in glob.glob(DQN_Rewards_Path):\n",
    "            run_logs = [0]\n",
    "            with open(filename, \"r\") as f:\n",
    "#                 print(f)\n",
    "                for line in f:\n",
    "                    try:\n",
    "                        ep_r = float(line)\n",
    "                    except:\n",
    "                        print(\"Nothing here for:\", filename)\n",
    "                        continue\n",
    "                    run_logs.append(ep_r)\n",
    "            DQN_Rewards.append(run_logs)\n",
    "        for filename in glob.glob(DQN_Lengths_Path):\n",
    "            run_logs = [0]\n",
    "        #     print(filename)\n",
    "            with open(filename, \"r\") as f:\n",
    "                for line in f:\n",
    "                    try:\n",
    "                        ep_r = float(line)\n",
    "                    except:\n",
    "                        continue\n",
    "                    run_logs.append(ep_r)\n",
    "            DQN_Lengths.append(run_logs)\n",
    "            run_logs_c = np.cumsum(run_logs).astype(np.int32)\n",
    "            DQN_Lengths_C.append(run_logs_c)\n",
    "        DQN_Smoothed = []\n",
    "        for times, rewards in zip(DQN_Lengths_C, DQN_Rewards):\n",
    "#             linear = interp1d(times, rewards, kind=\"linear\")\n",
    "#             linear_rewards = linear([i for i in range(500000)])\n",
    "#             DQN_Smoothed.append(linear_rewards)\n",
    "            spline_rewards = spline(times, rewards, [i for i in range(0, t_max, step)], order=1)\n",
    "            DQN_Smoothed.append(spline_rewards)\n",
    "        DQN_Means = np.mean(DQN_Smoothed, axis=0)\n",
    "        DQN_Stds = np.std(DQN_Smoothed, axis=0)\n",
    "        \n",
    "        if min_max:\n",
    "    #         plt.fill_between([i for i in range(0, t_max, step)], DQN_Means - DQN_Stds, DQN_Means + DQN_Stds, color=color, alpha=0.2, edgecolor=\"white\")\n",
    "            # Error bars\n",
    "            xs = [i for i in range(0, t_max, step)]\n",
    "            xs = xs + list(reversed(xs))\n",
    "    #         ys = np.concatenate([DQN_Means - DQN_Stds, np.flip(DQN_Means + DQN_Stds, axis=0)])\n",
    "            ys = np.concatenate([np.min(DQN_Smoothed, axis=0), np.flip(np.max(DQN_Smoothed, axis=0), axis=0)])\n",
    "            lls = p.patch(xs, ys, color=color, alpha=0.1)\n",
    "\n",
    "\n",
    "    #         for x, y, yerr in zip(range(0, t_max, step), DQN_Means, DQN_Stds):\n",
    "    #             lls = p.line([x, x], [y - yerr, y + yerr], color=color, alpha=0.1, hover_alpha=0.8)\n",
    "    #             alpha_lines.append(lls)\n",
    "\n",
    "\n",
    "    #         plt.plot([i for i in range(0, t_max, step)], DQN_Means, color=color)\n",
    "        l = p.line([i for i in range(0, t_max, step)], DQN_Means, color=color, line_width=2)\n",
    "        lines.append(l)\n",
    "    #         alpha_lines.append(lls)\n",
    "\n",
    "#     plt.title(\"Episode_Reward\")\n",
    "#     plt.xlabel(\"T\")\n",
    "#     plt.ylabel(\"Reward\")\n",
    "#     if legends is not None:\n",
    "#         plt.legend(legends)\n",
    "#     plt.show()\n",
    "#     p.line([0,1], [-1,3])\n",
    "    new_leg = Legend(items=[(name, [line]) for name, line in zip(legends, lines)], location=(0,-30))\n",
    "    p.add_layout(new_leg, \"right\")\n",
    "#     p.add_tools(HoverTool(renderers=alpha_lines))\n",
    "#     p.add_tools(TapTool(renderers=alpha_lines))\n",
    "    show(p)"
   ]
  },
  {
   "cell_type": "code",
   "execution_count": 11,
   "metadata": {
    "collapsed": false,
    "deletable": true,
    "editable": true
   },
   "outputs": [],
   "source": [
    "def plot_states(names, t_maxs, colors, legends, directories=\"Logs/\", step=10, title=\"\"):\n",
    "#     plt.figure(figsize=(10,10))\n",
    "    p = figure(width=1200, height=800, title=title)\n",
    "    p.toolbar_location = \"above\"\n",
    "    p.yaxis.axis_label = \"States visited\"\n",
    "    p.xaxis.axis_label = \"T\"\n",
    "    p.xaxis.formatter = BasicTickFormatter(use_scientific=False)\n",
    "#     p = figure(width=800, height=500)\n",
    "    lines = []\n",
    "    alpha_lines = []\n",
    "    if isinstance(directories, str):\n",
    "        dd = directories\n",
    "        directories = [dd for _ in names]\n",
    "    for name, color, t_max, legend, directory in zip(names, colors, t_maxs, legends, directories):\n",
    "#         print(directory)\n",
    "        States_Path = directory + \"*\" + name + \"*/logs/Player_Positions.txt\"\n",
    "        States = []\n",
    "        for filename in glob.glob(States_Path):\n",
    "            run_logs = []\n",
    "            with open(filename, \"r\") as f:\n",
    "#                 print(f)\n",
    "                for line in f:\n",
    "                    try:\n",
    "                        ep_r = str(line)\n",
    "#                         print(ep_r)\n",
    "                    except:\n",
    "                        print(\"Nothing here for:\", filename)\n",
    "                        continue\n",
    "                    run_logs.append(ep_r)\n",
    "            States.append(run_logs)\n",
    "        States_Visited = []\n",
    "        for run in States:\n",
    "            Visited = []\n",
    "            States_Sets = set()\n",
    "#             print(len(run))\n",
    "            for ii, s in enumerate(run):\n",
    "                if ii >= t_max - 1:\n",
    "                    break\n",
    "#                 print(s)\n",
    "                States_Sets.add(s)\n",
    "                if ii % step == 0:\n",
    "                    Visited.append(len(States_Sets))\n",
    "#             print(len(States_Sets))\n",
    "#             print(len(Visited))\n",
    "            States_Visited.append(Visited)\n",
    "#         print(np.array(States_Visited).shape)\n",
    "        Means = np.mean(States_Visited, axis=0)\n",
    "        Stds = np.std(States_Visited, axis=0)\n",
    "#         print(Means.shape)\n",
    "        \n",
    "#         plt.fill_between([i for i in range(0, t_max, step)], DQN_Means - DQN_Stds, DQN_Means + DQN_Stds, color=color, alpha=0.2, edgecolor=\"white\")\n",
    "        # Error bars\n",
    "        xs = [i for i in range(0, t_max, step)]\n",
    "        xs = xs + list(reversed(xs))\n",
    "#         ys = np.concatenate([Means - Stds, np.flip(Means + Stds, axis=0)])\n",
    "        ys = np.concatenate([np.min(States_Visited, axis=0), np.flip(np.max(States_Visited, axis=0), axis=0)])\n",
    "        lls = p.patch(xs, ys, color=color, alpha=0.1)\n",
    "\n",
    "        \n",
    "#         for x, y, yerr in zip(range(0, t_max, step), DQN_Means, DQN_Stds):\n",
    "#             lls = p.line([x, x], [y - yerr, y + yerr], color=color, alpha=0.1, hover_alpha=0.8)\n",
    "#             alpha_lines.append(lls)\n",
    "            \n",
    "\n",
    "#         plt.plot([i for i in range(0, t_max, step)], DQN_Means, color=color)\n",
    "        l = p.line([i for i in range(0, t_max, step)], Means, color=color, line_width=2)\n",
    "        lines.append(l)\n",
    "#         alpha_lines.append(lls)\n",
    "\n",
    "#     plt.title(\"Episode_Reward\")\n",
    "#     plt.xlabel(\"T\")\n",
    "#     plt.ylabel(\"Reward\")\n",
    "#     if legends is not None:\n",
    "#         plt.legend(legends)\n",
    "#     plt.show()\n",
    "#     p.line([0,1], [-1,3])\n",
    "    new_leg = Legend(items=[(name, [line]) for name, line in zip(legends, lines)], location=(0,-30))\n",
    "    p.add_layout(new_leg, \"right\")\n",
    "#     p.add_tools(HoverTool(renderers=alpha_lines))\n",
    "#     p.add_tools(TapTool(renderers=alpha_lines))\n",
    "    show(p)"
   ]
  },
  {
   "cell_type": "code",
   "execution_count": null,
   "metadata": {
    "collapsed": true,
    "deletable": true,
    "editable": true
   },
   "outputs": [],
   "source": []
  },
  {
   "cell_type": "code",
   "execution_count": 12,
   "metadata": {
    "collapsed": false,
    "deletable": true,
    "editable": true
   },
   "outputs": [
    {
     "name": "stdout",
     "output_type": "stream",
     "text": [
      "['_10_Step_*DQN_', '_10_Step_*k_Count_', '_10_Step_*_CountEps_']\n",
      "[300001, 300001, 300001]\n"
     ]
    }
   ],
   "source": [
    "names = []\n",
    "legends = []\n",
    "t_maxs = []\n",
    "directories = []\n",
    "\n",
    "            \n",
    "# Frontier stuff\n",
    "for step in [10]:\n",
    "    # DQN\n",
    "    names += [\"_{}_Step_*DQN_\".format(step)]\n",
    "    legends += [\"{}_Step_DQN\".format(step)]\n",
    "    t_maxs += [300001]\n",
    "#     continue\n",
    "    # PseudoCount\n",
    "    names += [\"_{}_Step_*k_Count_\".format(step)]\n",
    "    legends += [\"{}_Step_Count\".format(step)]\n",
    "    t_maxs += [300001]\n",
    "#     continue\n",
    "    # EpsilonScaling\n",
    "    names += [\"_{}_Step_*_CountEps_\".format(step)]\n",
    "    legends += [\"{}_Step_Epsilon_Scaling\".format(step)]\n",
    "    t_maxs += [300001]\n",
    "            \n",
    "    \n",
    "direc = \"/home/tabz/tmp/logfiles/MedMaze10/MedMaze10\"\n",
    "# directories =  [\"{}/{}\".format(dropbox_direc, \"Maze_5_Logs/\")] + 3 * [\"{}/{}\".format(dropbox_direc, \"Maze_5_Batch_Sizes_Logs/\")] \n",
    "directories += [direc + \"/EpsilonLogs/\"] * 3\n",
    "    \n",
    "print(names)\n",
    "print(t_maxs)\n",
    "# colours = [\"red\", \"#3366ff\", \"#66ff33\", \"yellow\"]\n",
    "# colours = rainbow(np.linspace(0, 1, len(names)))"
   ]
  },
  {
   "cell_type": "code",
   "execution_count": 13,
   "metadata": {
    "collapsed": false,
    "deletable": true,
    "editable": true
   },
   "outputs": [
    {
     "name": "stdout",
     "output_type": "stream",
     "text": [
      "['_100_Step*k_Count_', '_100_Step*OptimisticAction', '_100_Step*_CountEps_']\n",
      "[300001, 300001, 300001]\n",
      "/home/scratch/tabhid/Log_Files/Gamma_Logs//\n"
     ]
    }
   ],
   "source": [
    "names = []\n",
    "legends = []\n",
    "t_maxs = []\n",
    "\n",
    "            \n",
    "# Frontier bandit stuff\n",
    "\n",
    "for n in [100]:\n",
    "    \n",
    "    # Count\n",
    "    names += [\"_{}_Step*k_Count_\".format(n)]\n",
    "    legends += [\"{}_Step_Count\".format(n)]\n",
    "    t_maxs += [300001]\n",
    "#     continue\n",
    "    # Optimistic\n",
    "    names += [\"_{}_Step*OptimisticAction\".format(n)]\n",
    "    legends += [\"{}_Step_OptimisticAction\".format(n)]\n",
    "    t_maxs += [300001]\n",
    "#     continue\n",
    "    # Epsilon Scaling\n",
    "    names += [\"_{}_Step*_CountEps_\".format(n)]\n",
    "    legends += [\"{}_Step_EpsilonScaling\".format(n)]\n",
    "    t_maxs += [300001]\n",
    "            \n",
    "    \n",
    "direc = \"/home/scratch/tabhid/Log_Files/Gamma_Logs//\"\n",
    "# directories =  [\"{}/{}\".format(dropbox_direc, \"Maze_5_Logs/\")] + 3 * [\"{}/{}\".format(dropbox_direc, \"Maze_5_Batch_Sizes_Logs/\")] \n",
    "# directories += [direc + \"/BanditLogs/\"] * 3\n",
    "directories = direc\n",
    "    \n",
    "print(names)\n",
    "print(t_maxs)\n",
    "print(directories)\n",
    "# colours = [\"red\", \"#3366ff\", \"#66ff33\", \"yellow\"]\n",
    "# colours = rainbow(np.linspace(0, 1, len(names)))"
   ]
  },
  {
   "cell_type": "code",
   "execution_count": 14,
   "metadata": {
    "collapsed": false,
    "deletable": true,
    "editable": true
   },
   "outputs": [
    {
     "name": "stdout",
     "output_type": "stream",
     "text": [
      "['_0.9_Decay*_Eps_0.1_', '_0.99_Decay*_Eps_0.1_', '_0.9999_Decay*_Eps_0.1_', '_0.9_Decay*_Eps_1_', '_0.99_Decay*_Eps_1_', '_0.9999_Decay*_Eps_1_']\n",
      "[300001, 300001, 300001, 300001, 300001, 300001]\n",
      "/home/tabz/tmp/Epsilon_Decay_Logs/\n"
     ]
    }
   ],
   "source": [
    "names = []\n",
    "legends = []\n",
    "t_maxs = []\n",
    "\n",
    "            \n",
    "# Epsilon Decay Scaling\n",
    "for eps in [0.1, 1]:\n",
    "    for decay in [0.9, 0.99, 0.9999]:\n",
    "    \n",
    "        names += [\"_{}_Decay*_Eps_{}_\".format(decay, eps)]\n",
    "        legends += [\"{}_Decay_EpsilonScaling_{}_Start\".format(decay, eps)]\n",
    "        t_maxs += [300001]\n",
    "            \n",
    "    \n",
    "# direc = \"/home/scratch/tabhid/Log_Files/Epsilon_Decay_Logs/\"\n",
    "direc = \"/home/tabz/tmp/Epsilon_Decay_Logs/\"\n",
    "# directories =  [\"{}/{}\".format(dropbox_direc, \"Maze_5_Logs/\")] + 3 * [\"{}/{}\".format(dropbox_direc, \"Maze_5_Batch_Sizes_Logs/\")] \n",
    "# directories += [direc + \"/BanditLogs/\"] * 3\n",
    "directories = direc\n",
    "    \n",
    "print(names)\n",
    "print(t_maxs)\n",
    "print(directories)"
   ]
  },
  {
   "cell_type": "code",
   "execution_count": 15,
   "metadata": {
    "collapsed": false,
    "deletable": true,
    "editable": true
   },
   "outputs": [
    {
     "name": "stdout",
     "output_type": "stream",
     "text": [
      "['_NegativeReward_0.5_', '_NegativeReward_0.7_', '_NegativeReward_0.9_']\n",
      "[300001, 300001, 300001]\n",
      "/home/tabz/tmp/Big_Negative_Reward_Logs/\n"
     ]
    }
   ],
   "source": [
    "names = []\n",
    "legends = []\n",
    "t_maxs = []\n",
    "\n",
    "            \n",
    "# Negative reward threshold\n",
    "for ns in [0.5, 0.7,  0.9]:\n",
    "    names += [\"_NegativeReward_{}_\".format(ns)]\n",
    "    legends += [\"NegativeReward_{}_Threshold\".format(ns)]\n",
    "    t_maxs += [300001]\n",
    "            \n",
    "    \n",
    "# direc = \"/home/scratch/tabhid/Log_Files/Epsilon_Decay_Logs/\"\n",
    "direc = \"/home/tabz/tmp/Big_Negative_Reward_Logs/\"\n",
    "# directories =  [\"{}/{}\".format(dropbox_direc, \"Maze_5_Logs/\")] + 3 * [\"{}/{}\".format(dropbox_direc, \"Maze_5_Batch_Sizes_Logs/\")] \n",
    "# directories += [direc + \"/BanditLogs/\"] * 3\n",
    "directories = direc\n",
    "    \n",
    "print(names)\n",
    "print(t_maxs)\n",
    "print(directories)"
   ]
  },
  {
   "cell_type": "code",
   "execution_count": 16,
   "metadata": {
    "collapsed": false,
    "deletable": true,
    "editable": true
   },
   "outputs": [
    {
     "name": "stdout",
     "output_type": "stream",
     "text": [
      "['k_OptimisticAction_0.0001_Scaler', 'k_OptimisticAction_0.0005_Scaler', 'k_OptimisticAction_0.001_Scaler', 'k_OptimisticAction_0.005_Scaler']\n",
      "[300001, 300001, 300001, 300001]\n",
      "/home/scratch/tabhid/Log_Files/Bandit_Small_Tau_Logs/\n"
     ]
    }
   ],
   "source": [
    "names = []\n",
    "legends = []\n",
    "t_maxs = []\n",
    "\n",
    "            \n",
    "# Bandit Tau\n",
    "for tau in [0.0001, 0.0005, 0.001, 0.005]:\n",
    "    for negative_reward in [False]:\n",
    "        if negative_reward:\n",
    "            names += [\"NegativeReward_*_OptimisticAction_{}_Scaler\".format(tau)]\n",
    "            legends += [\"Optim Bandit {} Tau Neg Reward\".format(tau)]\n",
    "        else:\n",
    "            names += [\"k_OptimisticAction_{}_Scaler\".format(tau)]\n",
    "            legends += [\"Optim Bandit {} Tau\".format(tau)]\n",
    "        t_maxs += [300001]\n",
    "            \n",
    "    \n",
    "direc = \"/home/scratch/tabhid/Log_Files/Bandit_Small_Tau_Logs/\"\n",
    "# direc = \"/home/tabz/tmp/Bandit_Tau_Logs/\"\n",
    "# directories =  [\"{}/{}\".format(dropbox_direc, \"Maze_5_Logs/\")] + 3 * [\"{}/{}\".format(dropbox_direc, \"Maze_5_Batch_Sizes_Logs/\")] \n",
    "# directories += [direc + \"/BanditLogs/\"] * 3\n",
    "directories = direc\n",
    "    \n",
    "print(names)\n",
    "print(t_maxs)\n",
    "print(directories)"
   ]
  },
  {
   "cell_type": "code",
   "execution_count": 17,
   "metadata": {
    "collapsed": false,
    "deletable": true,
    "editable": true
   },
   "outputs": [
    {
     "name": "stdout",
     "output_type": "stream",
     "text": [
      "['Batch_64_XpSize_600k', 'Batch_128_XpSize_600k', 'Batch_256_XpSize_600k']\n",
      "[600001, 600001, 600001]\n",
      "/home/tabz/tmp/logfiles/MedMaze10/Batch_Size_Logs/\n"
     ]
    }
   ],
   "source": [
    "names = []\n",
    "legends = []\n",
    "t_maxs = []\n",
    "\n",
    "            \n",
    "# Batch Size\n",
    "for xp in [600]:\n",
    "    for bs in [64, 128, 256]:\n",
    "        names += [\"Batch_{}_XpSize_{}k\".format(bs, xp)]\n",
    "        legends += [\"Batch {} Xp {}k\".format(bs, xp)]\n",
    "        t_maxs += [600001]\n",
    "            \n",
    "    \n",
    "# direc = \"/home/scratch/tabhid/Log_Files/Xp_Logs/\"\n",
    "direc = \"/home/tabz/tmp/logfiles/MedMaze10/Batch_Size_Logs/\"\n",
    "# directories =  [\"{}/{}\".format(dropbox_direc, \"Maze_5_Logs/\")] + 3 * [\"{}/{}\".format(dropbox_direc, \"Maze_5_Batch_Sizes_Logs/\")] \n",
    "# directories += [direc + \"/BanditLogs/\"] * 3\n",
    "directories = direc\n",
    "    \n",
    "print(names)\n",
    "print(t_maxs)\n",
    "print(directories)"
   ]
  },
  {
   "cell_type": "code",
   "execution_count": 18,
   "metadata": {
    "collapsed": false,
    "deletable": true,
    "editable": true
   },
   "outputs": [
    {
     "name": "stdout",
     "output_type": "stream",
     "text": [
      "['ETrace_0.7_6_States', 'ETrace_0.9_6_States', 'ETrace_1_6_States']\n",
      "[600001, 600001, 600001]\n",
      "/home/tabz/tmp/logfiles/MedMaze10/Elig_3_Logs/\n"
     ]
    }
   ],
   "source": [
    "names = []\n",
    "legends = []\n",
    "t_maxs = []\n",
    "\n",
    "            \n",
    "# Elig States\n",
    "for lamb in [0.7, 0.9, 1]:\n",
    "    for states in [6]:\n",
    "        names += [\"ETrace_{}_{}_States\".format(lamb, states)]\n",
    "        legends += [\"Traces {} Lambda {} States 3 Gap\".format(lamb, states)]\n",
    "        t_maxs += [600001]\n",
    "            \n",
    "    \n",
    "# direc = \"/home/scratch/tabhid/Log_Files/Xp_Logs/\"\n",
    "direc = \"/home/tabz/tmp/logfiles/MedMaze10/Elig_3_Logs/\"\n",
    "# directories =  [\"{}/{}\".format(dropbox_direc, \"Maze_5_Logs/\")] + 3 * [\"{}/{}\".format(dropbox_direc, \"Maze_5_Batch_Sizes_Logs/\")] \n",
    "# directories += [direc + \"/BanditLogs/\"] * 3\n",
    "directories = direc\n",
    "    \n",
    "print(names)\n",
    "print(t_maxs)\n",
    "print(directories)"
   ]
  },
  {
   "cell_type": "code",
   "execution_count": 19,
   "metadata": {
    "collapsed": false,
    "deletable": true,
    "editable": true
   },
   "outputs": [
    {
     "name": "stdout",
     "output_type": "stream",
     "text": [
      "['Iters_1_', 'Iters_2_', 'Iters_4_', 'Iters_8_', 'Iters_16_']\n",
      "[600001, 600001, 600001, 600001, 600001]\n",
      "/home/tabz/tmp/logfiles/MedMaze10/Iters_Logs/\n"
     ]
    }
   ],
   "source": [
    "names = []\n",
    "legends = []\n",
    "t_maxs = []\n",
    "\n",
    "            \n",
    "# Iterations\n",
    "for i in [1, 2, 4, 8, 16]:\n",
    "    names += [\"Iters_{}_\".format(i)]\n",
    "    legends += [\"{} Iterations\".format(i)]\n",
    "    t_maxs += [600001]\n",
    "            \n",
    "    \n",
    "# direc = \"/home/scratch/tabhid/Log_Files/Xp_Logs/\"\n",
    "direc = \"/home/tabz/tmp/logfiles/MedMaze10/Iters_Logs/\"\n",
    "# directories =  [\"{}/{}\".format(dropbox_direc, \"Maze_5_Logs/\")] + 3 * [\"{}/{}\".format(dropbox_direc, \"Maze_5_Batch_Sizes_Logs/\")] \n",
    "# directories += [direc + \"/BanditLogs/\"] * 3\n",
    "directories = direc\n",
    "    \n",
    "print(names)\n",
    "print(t_maxs)\n",
    "print(directories)"
   ]
  },
  {
   "cell_type": "code",
   "execution_count": 20,
   "metadata": {
    "collapsed": false,
    "deletable": true,
    "editable": true
   },
   "outputs": [
    {
     "name": "stdout",
     "output_type": "stream",
     "text": [
      "['k_CountEps_', 'Trajectory_0.2_', 'Trajectory_0.5_', 'Trajectory_0.75_', 'Trajectory_0.8_', 'Trajectory_0.9_']\n",
      "[600001, 600001, 600001, 600001, 600001, 600001]\n",
      "/home/tabz/tmp/logfiles/MedMaze10/Trajectory_Logs/\n"
     ]
    }
   ],
   "source": [
    "names = []\n",
    "legends = []\n",
    "t_maxs = []\n",
    "\n",
    "names += [\"k_CountEps_\"]\n",
    "legends += [\"No Trajectory\"]\n",
    "t_maxs += [600001]\n",
    "            \n",
    "# Trajectory\n",
    "for t in [0.2, 0.5, 0.75, 0.8, 0.9]:\n",
    "    names += [\"Trajectory_{}_\".format(t)]\n",
    "    legends += [\"Trajectory {} Save\".format(t)]\n",
    "    t_maxs += [600001]\n",
    "            \n",
    "    \n",
    "# direc = \"/home/scratch/tabhid/Log_Files/Xp_Logs/\"\n",
    "direc = \"/home/tabz/tmp/logfiles/MedMaze10/Trajectory_Logs/\"\n",
    "# directories =  [\"{}/{}\".format(dropbox_direc, \"Maze_5_Logs/\")] + 3 * [\"{}/{}\".format(dropbox_direc, \"Maze_5_Batch_Sizes_Logs/\")] \n",
    "# directories += [direc + \"/BanditLogs/\"] * 3\n",
    "directories = direc\n",
    "    \n",
    "print(names)\n",
    "print(t_maxs)\n",
    "print(directories)"
   ]
  },
  {
   "cell_type": "code",
   "execution_count": 21,
   "metadata": {
    "collapsed": false,
    "deletable": true,
    "editable": true
   },
   "outputs": [
    {
     "name": "stdout",
     "output_type": "stream",
     "text": [
      "['XpSize_30k*CountDecay_0.9999', 'XpSize_30k*CountDecay_0.999999', 'XpSize_30k*CountDecay_1', 'XpSize_60k*CountDecay_0.9999', 'XpSize_60k*CountDecay_0.999999', 'XpSize_60k*CountDecay_1', 'XpSize_100k*CountDecay_0.9999', 'XpSize_100k*CountDecay_0.999999', 'XpSize_100k*CountDecay_1']\n",
      "[600001, 600001, 600001, 600001, 600001, 600001, 600001, 600001, 600001]\n",
      "/home/tabz/tmp/logfiles/CountXpSort/\n"
     ]
    }
   ],
   "source": [
    "names = []\n",
    "legends = []\n",
    "t_maxs = []\n",
    "          \n",
    "# Count Xp Sort\n",
    "for xp in [30, 60, 100]:\n",
    "    for decay in [0.9999, 0.999999, 1]:\n",
    "        names += [\"XpSize_{}k*CountDecay_{}\".format(xp, decay)]\n",
    "        legends += [\"CountXp Sort {}k Xp {} CountDecay\".format(xp, decay)]\n",
    "        t_maxs += [600001]\n",
    "            \n",
    "    \n",
    "# direc = \"/home/scratch/tabhid/Log_Files/Xp_Logs/\"\n",
    "direc = \"/home/tabz/tmp/logfiles/CountXpSort/\"\n",
    "# directories =  [\"{}/{}\".format(dropbox_direc, \"Maze_5_Logs/\")] + 3 * [\"{}/{}\".format(dropbox_direc, \"Maze_5_Batch_Sizes_Logs/\")] \n",
    "# directories += [direc + \"/BanditLogs/\"] * 3\n",
    "directories = direc\n",
    "    \n",
    "print(names)\n",
    "print(t_maxs)\n",
    "print(directories)"
   ]
  },
  {
   "cell_type": "code",
   "execution_count": 22,
   "metadata": {
    "collapsed": false,
    "deletable": true,
    "editable": true
   },
   "outputs": [
    {
     "name": "stdout",
     "output_type": "stream",
     "text": [
      "['OptimisticAction_0.1', 'OptimisticAction_1', 'OptimisticAction_10', 'k_CountEps']\n",
      "[600001, 600001, 600001, 600001]\n",
      "/home/tabz/tmp/logfiles/MedMaze12/\n"
     ]
    }
   ],
   "source": [
    "names = []\n",
    "legends = []\n",
    "t_maxs = []\n",
    "          \n",
    "# MedMaze12\n",
    "\n",
    "#Bandits\n",
    "for os in [0.1, 1, 10]:\n",
    "    names += [\"OptimisticAction_{}\".format(os)]\n",
    "    legends += [\"Bandit {} Scaler\".format(os)]\n",
    "    t_maxs += [600001]\n",
    "    \n",
    "# #-ve reward\n",
    "# for nr in [0.5, 0.7]:\n",
    "#     names += [\"NegativeReward_{}\".format(nr)]\n",
    "#     legends += [\"Negative Reward {}\".format(nr)]\n",
    "#     t_maxs += [600001]\n",
    "    \n",
    "#CountXp\n",
    "names += [\"k_CountEps\"]\n",
    "legends += [\"Counts\"]\n",
    "t_maxs += [600001]\n",
    "            \n",
    "    \n",
    "# direc = \"/home/scratch/tabhid/Log_Files/Xp_Logs/\"\n",
    "direc = \"/home/tabz/tmp/logfiles/MedMaze12/\"\n",
    "# directories =  [\"{}/{}\".format(dropbox_direc, \"Maze_5_Logs/\")] + 3 * [\"{}/{}\".format(dropbox_direc, \"Maze_5_Batch_Sizes_Logs/\")] \n",
    "# directories += [direc + \"/BanditLogs/\"] * 3\n",
    "directories = direc\n",
    "    \n",
    "print(names)\n",
    "print(t_maxs)\n",
    "print(directories)"
   ]
  },
  {
   "cell_type": "code",
   "execution_count": 23,
   "metadata": {
    "collapsed": false,
    "deletable": true,
    "editable": true
   },
   "outputs": [
    {
     "name": "stdout",
     "output_type": "stream",
     "text": [
      "['k_CountEps*Stale_50k', 'Prioritized*Stale_50k', 'Prioritized_IS*Stale_50k', 'k_CountEps*Stale_300k', 'Prioritized*Stale_300k', 'Prioritized_IS*Stale_300k']\n",
      "[600001, 600001, 600001, 600001, 600001, 600001]\n",
      "/home/tabz/tmp/logfiles/Prioritized_Logs/\n"
     ]
    }
   ],
   "source": [
    "names = []\n",
    "legends = []\n",
    "t_maxs = []\n",
    "          \n",
    "# Prioritized replay stuff\n",
    "for fresh in [50, 300]:\n",
    "    for p in [None, \"P\", \"P_IS\"]:\n",
    "        if p is \"P\":\n",
    "            names += [\"Prioritized*Stale_{}k\".format(fresh)]\n",
    "            legends += [\"Prioritized {}k Fresh Counts\".format(fresh)]\n",
    "        elif p is \"P_IS\":\n",
    "            names += [\"Prioritized_IS*Stale_{}k\".format(fresh)]\n",
    "            legends += [\"Prioritized IS {}k Fresh Counts\".format(fresh)]\n",
    "        else:\n",
    "            names += [\"k_CountEps*Stale_{}k\".format(fresh)]\n",
    "            legends += [\"{}k Fresh Counts\".format(fresh)]\n",
    "        t_maxs += [600001]\n",
    "    \n",
    "direc = \"/home/tabz/tmp/logfiles/Prioritized_Logs/\"\n",
    "env = \"Med Maze 10\"\n",
    "directories = direc\n",
    "    \n",
    "print(names)\n",
    "print(t_maxs)\n",
    "print(directories)"
   ]
  },
  {
   "cell_type": "code",
   "execution_count": 24,
   "metadata": {
    "collapsed": false,
    "deletable": true,
    "editable": true
   },
   "outputs": [
    {
     "name": "stdout",
     "output_type": "stream",
     "text": [
      "['_0.1_Mix', '_0.3_Mix', '_0.5_Mix', '_0.7_Mix', '_0.9_Mix']\n",
      "[600001, 600001, 600001, 600001, 600001]\n",
      "/home/tabz/tmp/logfiles/Mixing_Logs/\n"
     ]
    }
   ],
   "source": [
    "names = []\n",
    "legends = []\n",
    "t_maxs = []\n",
    "          \n",
    "# Mixing\n",
    "for mix in [0.1, 0.3, 0.5, 0.7, 0.9]:\n",
    "    names += [\"_{}_Mix\".format(mix)]\n",
    "    legends += [\"{} Mixing\".format(mix)]\n",
    "    t_maxs += [600001]\n",
    "    \n",
    "direc = \"/home/tabz/tmp/logfiles/Mixing_Logs/\"\n",
    "directories = direc\n",
    "\n",
    "env =\"Med Maze 10\"\n",
    "    \n",
    "print(names)\n",
    "print(t_maxs)\n",
    "print(directories)"
   ]
  },
  {
   "cell_type": "code",
   "execution_count": 25,
   "metadata": {
    "collapsed": false,
    "deletable": true,
    "editable": true
   },
   "outputs": [
    {
     "name": "stdout",
     "output_type": "stream",
     "text": [
      "['OptimisticAction_0.1', 'OptimisticAction_0.01', 'OptimisticAction_0.001', 'CountEps_0.9999_', 'CountEps_0.999_', 'CountEps_0.99_', 'CountEps_0.9_']\n",
      "[600001, 600001, 600001, 600001, 600001, 600001, 600001]\n",
      "/home/tabz/tmp/logfiles/Frontier_Logs/\n"
     ]
    }
   ],
   "source": [
    "names = []\n",
    "legends = []\n",
    "t_maxs = []\n",
    "          \n",
    "# MedMaze12\n",
    "\n",
    "#Bandits\n",
    "for os in [0.1, 0.01, 0.001]:\n",
    "    names += [\"OptimisticAction_{}\".format(os)]\n",
    "    legends += [\"Bandit {} Scaler\".format(os)]\n",
    "    t_maxs += [600001]\n",
    "    \n",
    "#Epsilon decay\n",
    "for decay in [0.9999, 0.999, 0.99, 0.9]:\n",
    "    names += [\"CountEps_{}_\".format(decay)]\n",
    "    legends += [\"Epsilon Scaling {} Decay\".format(decay)]\n",
    "    t_maxs += [600001]\n",
    "            \n",
    "    \n",
    "direc = \"/home/tabz/tmp/logfiles/Frontier_Logs/\"\n",
    "directories = direc\n",
    "env = \"Med Maze 12\"\n",
    "    \n",
    "print(names)\n",
    "print(t_maxs)\n",
    "print(directories)"
   ]
  },
  {
   "cell_type": "code",
   "execution_count": 26,
   "metadata": {
    "collapsed": false,
    "deletable": true,
    "editable": true
   },
   "outputs": [
    {
     "name": "stdout",
     "output_type": "stream",
     "text": [
      "['NegativeReward_0.1', 'NegativeReward_0.2']\n",
      "[600001, 600001]\n",
      "/home/tabz/tmp/Neg/\n"
     ]
    }
   ],
   "source": [
    "names = []\n",
    "legends = []\n",
    "t_maxs = []\n",
    "          \n",
    "# MedMaze10 Set replay negative reward\n",
    "\n",
    "for neg_reward in [0.1, 0.2]:\n",
    "    names += [\"NegativeReward_{}\".format(neg_reward)]\n",
    "    legends += [\"Negative Reward {} Set Replay\".format(neg_reward)]\n",
    "    t_maxs += [600001]            \n",
    "    \n",
    "direc = \"/home/tabz/tmp/Neg/\"\n",
    "directories = direc\n",
    "env = \"Med Maze 10 Set Replay Negative Reward\"\n",
    "    \n",
    "print(names)\n",
    "print(t_maxs)\n",
    "print(directories)"
   ]
  },
  {
   "cell_type": "code",
   "execution_count": 27,
   "metadata": {
    "collapsed": false,
    "deletable": true,
    "editable": true
   },
   "outputs": [
    {
     "name": "stdout",
     "output_type": "stream",
     "text": [
      "['_10_Step*_SetReplay_5_', '_10_Step*_SetReplay_10_', '_10_Step*_SetReplay_100_', '_100_Step*_SetReplay_5_', '_100_Step*_SetReplay_10_', '_100_Step*_SetReplay_100_']\n",
      "[600001, 600001, 600001, 600001, 600001, 600001]\n",
      "/home/tabz/tmp/logfiles/SetReplayNum/\n"
     ]
    }
   ],
   "source": [
    "names = []\n",
    "legends = []\n",
    "t_maxs = []\n",
    "          \n",
    "# MedMaze10 Set replay \n",
    "\n",
    "for step in [10, 100]:\n",
    "    for replay_num in [5, 10, 100]:\n",
    "        names += [\"_{}_Step*_SetReplay_{}_\".format(step, replay_num)]\n",
    "        legends += [\"{} Step {} SetReplay\".format(step, replay_num)]\n",
    "        t_maxs += [600001]\n",
    "    \n",
    "direc = \"/home/tabz/tmp/logfiles/SetReplayNum/\"\n",
    "directories = direc\n",
    "env = \"Med Maze 10 Set Replay Num\"\n",
    "    \n",
    "print(names)\n",
    "print(t_maxs)\n",
    "print(directories)"
   ]
  },
  {
   "cell_type": "code",
   "execution_count": 28,
   "metadata": {
    "collapsed": false,
    "deletable": true,
    "editable": true
   },
   "outputs": [
    {
     "name": "stdout",
     "output_type": "stream",
     "text": [
      "['k_BonusClip*Stale_50k', 'Prioritized*Stale_50k', 'Prioritized_OnBonus_IS*Stale_50k', 'k_BonusClip*Stale_300k', 'Prioritized*Stale_300k', 'Prioritized_OnBonus_IS*Stale_300k']\n",
      "[800001, 800001, 800001, 800001, 800001, 800001]\n",
      "/home/tabz/tmp/logfiles/Density/\n"
     ]
    }
   ],
   "source": [
    "names = []\n",
    "legends = []\n",
    "t_maxs = []\n",
    "          \n",
    "# Prioritized replay stuff\n",
    "for fresh in [50, 300]:\n",
    "        names += [\"k_BonusClip*Stale_{}k\".format(fresh)]\n",
    "        legends += [\"Uniform {}k Fresh Counts\".format(fresh)]\n",
    "        t_maxs += [800001]\n",
    "        \n",
    "        names += [\"Prioritized*Stale_{}k\".format(fresh)]\n",
    "        legends += [\"Prioritized {}k Fresh Counts\".format(fresh)]\n",
    "        t_maxs += [800001]\n",
    "\n",
    "        names += [\"Prioritized_OnBonus_IS*Stale_{}k\".format(fresh)]\n",
    "        legends += [\"Prioritized IS {}k Fresh Counts\".format(fresh)]\n",
    "        t_maxs += [800001]\n",
    "    \n",
    "direc = \"/home/tabz/tmp/logfiles/Density/\"\n",
    "env = \"Med Maze 10 Prioritized On Density\"\n",
    "directories = direc\n",
    "    \n",
    "print(names)\n",
    "print(t_maxs)\n",
    "print(directories)"
   ]
  },
  {
   "cell_type": "code",
   "execution_count": 29,
   "metadata": {
    "collapsed": false,
    "deletable": true,
    "editable": true
   },
   "outputs": [
    {
     "name": "stdout",
     "output_type": "stream",
     "text": [
      "['k_BonusClip', 'Prioritized_IS', 'Prioritized_MinusPseudo']\n",
      "[800001, 800001, 800001]\n",
      "/home/tabz/tmp/logfiles/MinusPseudo/\n"
     ]
    }
   ],
   "source": [
    "names = []\n",
    "legends = []\n",
    "t_maxs = []\n",
    "          \n",
    "# Prioritized replay stuff musing pseudo rewards\n",
    "\n",
    "names += [\"k_BonusClip\"]\n",
    "legends += [\"Uniform\"]\n",
    "\n",
    "names += [\"Prioritized_IS\"]\n",
    "legends += [\"Prioritised minus pseudo rewards IS\"]\n",
    "\n",
    "names += [\"Prioritized_MinusPseudo\"]\n",
    "legends += [\"Prioritized minus pseudo rewards\"]\n",
    "\n",
    "t_maxs += [800001 for _ in range(3)]\n",
    "    \n",
    "direc = \"/home/tabz/tmp/logfiles/MinusPseudo/\"\n",
    "env = \"Med Maze 10 Prioritized Minus PseudoReward\"\n",
    "directories = direc\n",
    "    \n",
    "print(names)\n",
    "print(t_maxs)\n",
    "print(directories)"
   ]
  },
  {
   "cell_type": "code",
   "execution_count": 30,
   "metadata": {
    "collapsed": false,
    "deletable": true,
    "editable": true
   },
   "outputs": [
    {
     "name": "stdout",
     "output_type": "stream",
     "text": [
      "['Prioritized_-1_MinusPseudo_*Stale_50k', 'Prioritized_1_MinusPseudo_*Stale_50k', 'Prioritized_-1_MinusPseudo_*Stale_300k', 'Prioritized_1_MinusPseudo_*Stale_300k']\n",
      "[800001, 800001, 800001, 800001]\n",
      "/home/tabz/tmp/FixedP/\n"
     ]
    }
   ],
   "source": [
    "names = []\n",
    "legends = []\n",
    "t_maxs = []\n",
    "          \n",
    "# Prioritized replay stuff\n",
    "for fresh in [50, 300]:\n",
    "    for scaler in [-1, 1]:\n",
    "        \n",
    "        names += [\"Prioritized_{}_MinusPseudo_*Stale_{}k\".format(scaler, fresh)]\n",
    "        legends += [\"{} Prioritized {}k Fresh Counts\".format(scaler, fresh)]\n",
    "        t_maxs += [800001]\n",
    "\n",
    "#         names += [\"Prioritized_IS_{}_MinusPseudo_*Stale_{}k\".format(scaler, fresh)]\n",
    "#         legends += [\"{} Prioritized IS {}k Fresh Counts\".format(scaler, fresh)]\n",
    "#         t_maxs += [800001]\n",
    "    \n",
    "direc = \"/home/tabz/tmp/FixedP/\"\n",
    "env = \"Med Maze 10 Prioritized On TD Error Minus Scaled PseudoReward\"\n",
    "directories = direc\n",
    "    \n",
    "print(names)\n",
    "print(t_maxs)\n",
    "print(directories)"
   ]
  },
  {
   "cell_type": "code",
   "execution_count": 31,
   "metadata": {
    "collapsed": false,
    "deletable": true,
    "editable": true
   },
   "outputs": [
    {
     "name": "stdout",
     "output_type": "stream",
     "text": [
      "['XpSize_100k_BonusClip', 'XpSize_100k_Prioritized_Bonus', 'XpSize_100k_Prioritized_IS', 'XpSize_500k_BonusClip', 'XpSize_500k_Prioritized_Bonus', 'XpSize_500k_Prioritized_IS']\n",
      "[1000001, 1000001, 1000001, 1000001, 1000001, 1000001]\n",
      "/home/tabz/tmp/Maze12Baselines/\n"
     ]
    }
   ],
   "source": [
    "names = []\n",
    "legends = []\n",
    "t_maxs = []\n",
    "          \n",
    "# Prioritized replay stuff\n",
    "for xp in [100, 500]:\n",
    "        names += [\"XpSize_{}k_BonusClip\".format(xp)]\n",
    "        legends += [\"Uniform {}k XP\".format(xp)]\n",
    "        t_maxs += [1000001]\n",
    "        \n",
    "        names += [\"XpSize_{}k_Prioritized_Bonus\".format(xp)]\n",
    "        legends += [\"Prioritized {}k XP\".format(xp)]\n",
    "        t_maxs += [1000001]\n",
    "\n",
    "        names += [\"XpSize_{}k_Prioritized_IS\".format(xp)]\n",
    "        legends += [\"Prioritized IS {}k XP\".format(xp)]\n",
    "        t_maxs += [1000001]\n",
    "    \n",
    "direc = \"/home/tabz/tmp/Maze12Baselines/\"\n",
    "env = \"Med Maze 12\"\n",
    "directories = direc\n",
    "    \n",
    "print(names)\n",
    "print(t_maxs)\n",
    "print(directories)"
   ]
  },
  {
   "cell_type": "code",
   "execution_count": 32,
   "metadata": {
    "collapsed": false,
    "deletable": true,
    "editable": true
   },
   "outputs": [
    {
     "name": "stdout",
     "output_type": "stream",
     "text": [
      "['XpSize_100k_Prioritized_0_NScaler_', 'XpSize_100k_Prioritized_1.5_NScaler_', 'XpSize_100k_Prioritized_-1.5_NScaler_', 'XpSize_500k_Prioritized_0_NScaler_', 'XpSize_500k_Prioritized_1.5_NScaler_', 'XpSize_500k_Prioritized_-1.5_NScaler_']\n",
      "[1000001, 1000001, 1000001, 1000001, 1000001, 1000001]\n",
      "/home/tabz/tmp/Maze12Prioritized/\n"
     ]
    }
   ],
   "source": [
    "names = []\n",
    "legends = []\n",
    "t_maxs = []\n",
    "          \n",
    "# Prioritized replay stuff\n",
    "for xp in [100, 500]:\n",
    "    for nscaler in [0, 1.5, -1.5]:\n",
    "        names += [\"XpSize_{}k_Prioritized_{}_NScaler_\".format(xp, nscaler)]\n",
    "        legends += [\"Prioritized {}k XP {} NScaler\".format(xp, nscaler)]\n",
    "        t_maxs += [1000001]\n",
    "    \n",
    "direc = \"/home/tabz/tmp/Maze12Prioritized/\"\n",
    "env = \"Med Maze 12 50k Fresh Counts Negative TD Error Scaling\"\n",
    "directories = direc\n",
    "    \n",
    "print(names)\n",
    "print(t_maxs)\n",
    "print(directories)"
   ]
  },
  {
   "cell_type": "code",
   "execution_count": 33,
   "metadata": {
    "collapsed": false
   },
   "outputs": [
    {
     "name": "stdout",
     "output_type": "stream",
     "text": [
      "['DensityP_BonusClip', 'DensityP_IS_BonusClip']\n",
      "[800001, 800001]\n",
      "/home/scratch/tabhid/Log_Files/DensityP/\n"
     ]
    }
   ],
   "source": [
    "names = []\n",
    "legends = []\n",
    "t_maxs = []\n",
    "          \n",
    "# Density Prioritization\n",
    "names += [\"DensityP_BonusClip\"]\n",
    "legends += [\"DensityP\"]\n",
    "t_maxs += [800001]\n",
    "\n",
    "names += [\"DensityP_IS_BonusClip\"]\n",
    "legends += [\"DensityP IS\"]\n",
    "t_maxs += [800001]\n",
    "    \n",
    "direc = \"/home/scratch/tabhid/Log_Files/DensityP/\"\n",
    "env = \"Med Maze 10 50k Fresh Counts Density Prioritization\"\n",
    "directories = direc\n",
    "    \n",
    "print(names)\n",
    "print(t_maxs)\n",
    "print(directories)"
   ]
  },
  {
   "cell_type": "code",
   "execution_count": 34,
   "metadata": {
    "collapsed": false
   },
   "outputs": [
    {
     "name": "stdout",
     "output_type": "stream",
     "text": [
      "['_0.1_Alpha', '_0.3_Alpha', '_0.5_Alpha', '_0.7_Alpha', '_0.9_Alpha']\n",
      "[800001, 800001, 800001, 800001, 800001]\n",
      "/home/scratch/tabhid/Log_Files/Alpha/\n"
     ]
    }
   ],
   "source": [
    "names = []\n",
    "legends = []\n",
    "t_maxs = []\n",
    "          \n",
    "# Prioritized replay alpha\n",
    "for alpha in [0.1, 0.3, 0.5, 0.7, 0.9]:\n",
    "    names += [\"_{}_Alpha\".format(alpha)]\n",
    "    legends += [\"{} Alpha\".format(alpha)]\n",
    "    t_maxs += [800001]\n",
    "    \n",
    "direc = \"/home/scratch/tabhid/Log_Files/Alpha/\"\n",
    "env = \"Med Maze 10 50k Fresh Counts 1.5 NScaler Alpha\"\n",
    "directories = direc\n",
    "    \n",
    "print(names)\n",
    "print(t_maxs)\n",
    "print(directories)"
   ]
  },
  {
   "cell_type": "code",
   "execution_count": 35,
   "metadata": {
    "collapsed": false
   },
   "outputs": [
    {
     "name": "stdout",
     "output_type": "stream",
     "text": [
      "['XpSize_100k_*_0.5_NScaler_*Stale_50k_', 'XpSize_100k_*_0.5_NScaler_*Stale_500k_', 'XpSize_100k_*_2_NScaler_*Stale_50k_', 'XpSize_100k_*_2_NScaler_*Stale_500k_', 'XpSize_500k_*_0.5_NScaler_*Stale_50k_', 'XpSize_500k_*_0.5_NScaler_*Stale_500k_', 'XpSize_500k_*_2_NScaler_*Stale_50k_', 'XpSize_500k_*_2_NScaler_*Stale_500k_']\n",
      "[1000001, 1000001, 1000001, 1000001, 1000001, 1000001, 1000001, 1000001]\n",
      "/home/tabz/tmp/Maze12Alpha/\n",
      "\n",
      " 8 Lines\n"
     ]
    }
   ],
   "source": [
    "names = []\n",
    "legends = []\n",
    "t_maxs = []\n",
    "          \n",
    "# Prioritized replay stuff\n",
    "for xp in [100, 500]:\n",
    "    for nscaler in [0.5, 2]:\n",
    "        for fresh in [50, 500]:\n",
    "            names += [\"XpSize_{}k_*_{}_NScaler_*Stale_{}k_\".format(xp, nscaler, fresh)]\n",
    "            legends += [\"Prioritized {}k XP {} NScaler {}k Fresh\".format(xp, nscaler, fresh)]\n",
    "            t_maxs += [1000001]\n",
    "    \n",
    "direc = \"/home/tabz/tmp/Maze12Alpha/\"\n",
    "env = \"Med Maze 12 50k Negative TD Error Scaling Alpha 0.5\"\n",
    "directories = direc\n",
    "    \n",
    "print(names)\n",
    "print(t_maxs)\n",
    "print(directories)\n",
    "print(\"\\n\", \"{} Lines\".format(len(names)))"
   ]
  },
  {
   "cell_type": "code",
   "execution_count": 36,
   "metadata": {
    "collapsed": false
   },
   "outputs": [
    {
     "name": "stdout",
     "output_type": "stream",
     "text": [
      "['_0.3_Alpha*Stale_50k_', '_0.3_Alpha*Stale_500k_', '_0.5_Alpha*Stale_50k_', '_0.5_Alpha*Stale_500k_']\n",
      "[1000001, 1000001, 1000001, 1000001]\n",
      "/home/tabz/tmp/Maze12_Prioritized_Alpha//\n",
      "\n",
      " 4 Lines\n"
     ]
    }
   ],
   "source": [
    "names = []\n",
    "legends = []\n",
    "t_maxs = []\n",
    "          \n",
    "# Prioritized replay stuff\n",
    "for alpha in [0.3, 0.5]:\n",
    "    for fresh in [50, 500]:\n",
    "        names += [\"_{}_Alpha*Stale_{}k_\".format(alpha, fresh)]\n",
    "        legends += [\"Prioritized {} Alpha {}k Fresh\".format(alpha, fresh)]\n",
    "        t_maxs += [1000001]\n",
    "    \n",
    "direc = \"/home/tabz/tmp/Maze12_Prioritized_Alpha//\"\n",
    "env = \"Med Maze 12 Alpha 500k Replay\"\n",
    "directories = direc\n",
    "    \n",
    "print(names)\n",
    "print(t_maxs)\n",
    "print(directories)\n",
    "print(\"\\n\", \"{} Lines\".format(len(names)))"
   ]
  },
  {
   "cell_type": "code",
   "execution_count": 37,
   "metadata": {
    "collapsed": false
   },
   "outputs": [
    {
     "name": "stdout",
     "output_type": "stream",
     "text": [
      "['_100_Step*_1_NScaler', '_100_Step*_2_NScaler', '_100_Step*_4_NScaler', '_100_Step*_8_NScaler']\n",
      "[600001, 600001, 600001, 600001]\n",
      "/home/tabz/tmp/Maze14_Nscaling/\n",
      "\n",
      " 4 Lines\n"
     ]
    }
   ],
   "source": [
    "names = []\n",
    "legends = []\n",
    "t_maxs = []\n",
    "          \n",
    "# Prioritized replay stuff\n",
    "for step in [100]:\n",
    "    for nscaler in [1, 2, 4, 8]:\n",
    "        names += [\"_{}_Step*_{}_NScaler\".format(step, nscaler)]\n",
    "        legends += [\"{} Step {} Nscaling\".format(step, nscaler)]\n",
    "        t_maxs += [600001]\n",
    "    \n",
    "direc = \"/home/tabz/tmp/Maze14_Nscaling/\"\n",
    "env = \"Med Maze 14 Prioritized 300k XP Replay Stale\"\n",
    "directories = direc\n",
    "    \n",
    "print(names)\n",
    "print(t_maxs)\n",
    "print(directories)\n",
    "print(\"\\n\", \"{} Lines\".format(len(names)))"
   ]
  },
  {
   "cell_type": "code",
   "execution_count": 38,
   "metadata": {
    "collapsed": false
   },
   "outputs": [
    {
     "name": "stdout",
     "output_type": "stream",
     "text": [
      "['_CountEps_0.9_Decay', '_CountEps_0.99_Decay', '_CountEps_0.999_Decay', '_OptimisticAction_']\n",
      "[600001, 600001, 600001, 600001]\n",
      "/home/tabz/tmp/Maze14_Frontier/\n",
      "\n",
      " 4 Lines\n"
     ]
    }
   ],
   "source": [
    "names = []\n",
    "legends = []\n",
    "t_maxs = []\n",
    "          \n",
    "# Prioritized replay stuff\n",
    "for eps_decay in [0.9, 0.99, 0.999]:\n",
    "    names += [\"_CountEps_{}_Decay\".format(eps_decay)]\n",
    "    legends += [\"{} Eps Decay\".format(eps_decay)]\n",
    "    t_maxs += [600001]\n",
    "    \n",
    "names += [\"_OptimisticAction_\"]\n",
    "legends += [\"0.1 Bandit\"]\n",
    "t_maxs += [600001]\n",
    "    \n",
    "direc = \"/home/tabz/tmp/Maze14_Frontier/\"\n",
    "env = \"Med Maze 14 Prioritized 300k XP Replay Stale Frontier\"\n",
    "directories = direc\n",
    "    \n",
    "print(names)\n",
    "print(t_maxs)\n",
    "print(directories)\n",
    "print(\"\\n\", \"{} Lines\".format(len(names)))"
   ]
  },
  {
   "cell_type": "code",
   "execution_count": 39,
   "metadata": {
    "collapsed": false
   },
   "outputs": [
    {
     "name": "stdout",
     "output_type": "stream",
     "text": [
      "['_0.1_Alpha_16_NScaler*_OptimisticAction_', '_0.1_Alpha_16_NScaler*_CountEps_', '_0.3_Alpha_16_NScaler*_OptimisticAction_', '_0.3_Alpha_16_NScaler*_CountEps_', '_0.5_Alpha_16_NScaler*_OptimisticAction_', '_0.5_Alpha_16_NScaler*_CountEps_']\n",
      "[600001, 600001, 600001, 600001, 600001, 600001]\n",
      "/home/tabz/tmp/Maze14_Bandit/\n",
      "\n",
      " 6 Lines\n"
     ]
    }
   ],
   "source": [
    "names = []\n",
    "legends = []\n",
    "t_maxs = []\n",
    "          \n",
    "# Prioritized replay stuff\n",
    "for alpha in [0.1, 0.3, 0.5]:\n",
    "    for nscaler in [16]:\n",
    "        for bandit in [True, False]:\n",
    "            \n",
    "            if not bandit:\n",
    "                names += [\"_{}_Alpha_{}_NScaler*_CountEps_\".format(alpha, nscaler)]\n",
    "                legends += [\"{} Alpha {} NScaler Epsilon\".format(alpha, nscaler)]\n",
    "                t_maxs += [600001]\n",
    "            elif bandit:\n",
    "                names += [\"_{}_Alpha_{}_NScaler*_OptimisticAction_\".format(alpha, nscaler)]\n",
    "                legends += [\"{} Alpha {} NScaler 0.1 Bandit\".format(alpha, nscaler)]\n",
    "                t_maxs += [600001]\n",
    "    \n",
    "direc = \"/home/tabz/tmp/Maze14_Bandit/\"\n",
    "env = \"Med Maze 14 Prioritized 300k XP Replay Stale Frontier\"\n",
    "directories = direc\n",
    "    \n",
    "print(names)\n",
    "print(t_maxs)\n",
    "print(directories)\n",
    "print(\"\\n\", \"{} Lines\".format(len(names)))"
   ]
  },
  {
   "cell_type": "code",
   "execution_count": 40,
   "metadata": {
    "collapsed": false
   },
   "outputs": [
    {
     "name": "stdout",
     "output_type": "stream",
     "text": [
      "['XpSize_250k', 'XpSize_500k']\n",
      "[1000001, 1000001]\n",
      "/home/tabz/tmp/Maze14_Uniform/\n",
      "\n",
      " 2 Lines\n"
     ]
    }
   ],
   "source": [
    "names = []\n",
    "legends = []\n",
    "t_maxs = []\n",
    "          \n",
    "# Maze14 Uniform Baseline\n",
    "for xp in [250, 500]:\n",
    "    names += [\"XpSize_{}k\".format(xp)]\n",
    "    legends += [\"Uniform {}k XP\".format(xp)]\n",
    "    t_maxs += [1000001]\n",
    "    \n",
    "direc = \"/home/tabz/tmp/Maze14_Uniform/\"\n",
    "env = \"Med Maze 14 Uniform Replay\"\n",
    "directories = direc\n",
    "    \n",
    "print(names)\n",
    "print(t_maxs)\n",
    "print(directories)\n",
    "print(\"\\n\", \"{} Lines\".format(len(names)))"
   ]
  },
  {
   "cell_type": "code",
   "execution_count": 41,
   "metadata": {
    "collapsed": false
   },
   "outputs": [
    {
     "name": "stdout",
     "output_type": "stream",
     "text": [
      "['OptimisticAction_0.01_Scaler', 'OptimisticAction_0.1_Scaler', 'OptimisticAction_1_Scaler', 'OptimisticAction_10_Scaler']\n",
      "[600001, 600001, 600001, 600001]\n",
      "/home/tabz/tmp/Maze14_Bandit_Hyperparams/\n",
      "\n",
      " 4 Lines\n"
     ]
    }
   ],
   "source": [
    "names = []\n",
    "legends = []\n",
    "t_maxs = []\n",
    "          \n",
    "# Prioritized replay stuff\n",
    "for optim in [0.01, 0.1, 1, 10]:\n",
    "    names += [\"OptimisticAction_{}_Scaler\".format(optim)]\n",
    "    legends += [\"0.5 Alpha 8 NScaler {} Bandit\".format(optim)]\n",
    "    t_maxs += [600001]\n",
    "    \n",
    "direc = \"/home/tabz/tmp/Maze14_Bandit_Hyperparams/\"\n",
    "env = \"Med Maze 14 Prioritized Bandit Scaling\"\n",
    "directories = direc\n",
    "    \n",
    "print(names)\n",
    "print(t_maxs)\n",
    "print(directories)\n",
    "print(\"\\n\", \"{} Lines\".format(len(names)))"
   ]
  },
  {
   "cell_type": "code",
   "execution_count": 42,
   "metadata": {
    "collapsed": false
   },
   "outputs": [
    {
     "name": "stdout",
     "output_type": "stream",
     "text": [
      "['OptimisticAction_0.0001_Scaler', 'OptimisticAction_0.001_Scaler']\n",
      "[600001, 600001]\n",
      "/home/tabz/tmp/Maze14_Bandit_MoreHyperparams/\n",
      "\n",
      " 2 Lines\n"
     ]
    }
   ],
   "source": [
    "names = []\n",
    "legends = []\n",
    "t_maxs = []\n",
    "          \n",
    "# Prioritized replay stuff\n",
    "for optim in [0.0001, 0.001]:\n",
    "    names += [\"OptimisticAction_{}_Scaler\".format(optim)]\n",
    "    legends += [\"Uniform {} Bandit\".format(optim)]\n",
    "    t_maxs += [600001]\n",
    "    \n",
    "direc = \"/home/tabz/tmp/Maze14_Bandit_MoreHyperparams/\"\n",
    "env = \"Med Maze 14 Uniform Bandit Scaling\"\n",
    "directories = direc\n",
    "    \n",
    "print(names)\n",
    "print(t_maxs)\n",
    "print(directories)\n",
    "print(\"\\n\", \"{} Lines\".format(len(names)))"
   ]
  },
  {
   "cell_type": "code",
   "execution_count": 43,
   "metadata": {
    "collapsed": false
   },
   "outputs": [
    {
     "name": "stdout",
     "output_type": "stream",
     "text": [
      "['BonusClip_-1_Count', 'BonusClip_-1_NegativeReward', 'BonusClip_0.25_Count', 'BonusClip_0.25_NegativeReward', 'BonusClip_0.5_Count', 'BonusClip_0.5_NegativeReward']\n",
      "[600001, 600001, 600001, 600001, 600001, 600001]\n",
      "/home/tabz/tmp/logfiles/Maze14_RewardClip/\n",
      "\n",
      " 6 Lines\n"
     ]
    }
   ],
   "source": [
    "names = []\n",
    "legends = []\n",
    "t_maxs = []\n",
    "          \n",
    "# Pseudo reward clipping + scaling\n",
    "for bonus_clip in [-1, 0.25, 0.5]:\n",
    "    names += [\"BonusClip_{}_Count\".format(bonus_clip)]\n",
    "    legends += [\"BonusClip {}\".format(bonus_clip)]\n",
    "    t_maxs += [600001]\n",
    "    \n",
    "    names += [\"BonusClip_{}_NegativeReward\".format(bonus_clip)]\n",
    "    legends += [\"BonusClip {} NegativeReward 0.8\".format(bonus_clip)]\n",
    "    t_maxs += [600001]\n",
    "    \n",
    "direc = \"/home/tabz/tmp/logfiles/Maze14_RewardClip/\"\n",
    "env = \"Med Maze 14 Pseudo Reward Clipping\"\n",
    "directories = direc\n",
    "    \n",
    "print(names)\n",
    "print(t_maxs)\n",
    "print(directories)\n",
    "print(\"\\n\", \"{} Lines\".format(len(names)))"
   ]
  },
  {
   "cell_type": "code",
   "execution_count": 49,
   "metadata": {
    "collapsed": false
   },
   "outputs": [
    {
     "name": "stdout",
     "output_type": "stream",
     "text": [
      "['_0.5_Alpha_1_NScaler', '_0.5_Alpha_8_NScaler', '_0.7_Alpha_1_NScaler', '_0.7_Alpha_8_NScaler']\n",
      "[600001, 600001, 600001, 600001]\n",
      "/home/tabz/tmp/logfiles/Maze14_Alpha_Nscaling/\n",
      "\n",
      " 4 Lines\n"
     ]
    }
   ],
   "source": [
    "names = []\n",
    "legends = []\n",
    "t_maxs = []\n",
    "          \n",
    "# Prioritized replay stuff\n",
    "for alpha in [0.5, 0.7]:\n",
    "    for nscaler in [1, 8]:\n",
    "            names += [\"_{}_Alpha_{}_NScaler\".format(alpha, nscaler)]\n",
    "            legends += [\"{} Alpha {} NScaler\".format(alpha, nscaler)]\n",
    "            t_maxs += [600001]\n",
    "    \n",
    "direc = \"/home/tabz/tmp/logfiles/Maze14_Alpha_Nscaling/\"\n",
    "env = \"Med Maze 14 Prioritized 250k XP Replay Stale\"\n",
    "directories = direc\n",
    "    \n",
    "print(names)\n",
    "print(t_maxs)\n",
    "print(directories)\n",
    "print(\"\\n\", \"{} Lines\".format(len(names)))"
   ]
  },
  {
   "cell_type": "code",
   "execution_count": 50,
   "metadata": {
    "collapsed": true,
    "deletable": true,
    "editable": true
   },
   "outputs": [],
   "source": [
    "import itertools"
   ]
  },
  {
   "cell_type": "code",
   "execution_count": 51,
   "metadata": {
    "collapsed": false,
    "deletable": true,
    "editable": true
   },
   "outputs": [],
   "source": [
    "from bokeh.palettes import magma, inferno, Set1, Set3, Paired, Dark2"
   ]
  },
  {
   "cell_type": "code",
   "execution_count": 52,
   "metadata": {
    "collapsed": false,
    "deletable": true,
    "editable": true
   },
   "outputs": [],
   "source": [
    "if len(names) <= 2:\n",
    "    colours = [\"red\", \"green\"]\n",
    "elif len(names) > 10:\n",
    "    colours = Paired[len(names)]\n",
    "else:\n",
    "    colours = Set1[len(names)]"
   ]
  },
  {
   "cell_type": "code",
   "execution_count": 53,
   "metadata": {
    "collapsed": false,
    "deletable": true,
    "editable": true
   },
   "outputs": [
    {
     "data": {
      "text/html": [
       "\n",
       "\n",
       "    <div class=\"bk-root\">\n",
       "        <div class=\"bk-plotdiv\" id=\"95d9ec36-9f7b-4ec9-bca6-2959ce455dc5\"></div>\n",
       "    </div>\n",
       "<script type=\"text/javascript\">\n",
       "  \n",
       "  (function(global) {\n",
       "    function now() {\n",
       "      return new Date();\n",
       "    }\n",
       "  \n",
       "    var force = false;\n",
       "  \n",
       "    if (typeof (window._bokeh_onload_callbacks) === \"undefined\" || force === true) {\n",
       "      window._bokeh_onload_callbacks = [];\n",
       "      window._bokeh_is_loading = undefined;\n",
       "    }\n",
       "  \n",
       "  \n",
       "    \n",
       "    if (typeof (window._bokeh_timeout) === \"undefined\" || force === true) {\n",
       "      window._bokeh_timeout = Date.now() + 0;\n",
       "      window._bokeh_failed_load = false;\n",
       "    }\n",
       "  \n",
       "    var NB_LOAD_WARNING = {'data': {'text/html':\n",
       "       \"<div style='background-color: #fdd'>\\n\"+\n",
       "       \"<p>\\n\"+\n",
       "       \"BokehJS does not appear to have successfully loaded. If loading BokehJS from CDN, this \\n\"+\n",
       "       \"may be due to a slow or bad network connection. Possible fixes:\\n\"+\n",
       "       \"</p>\\n\"+\n",
       "       \"<ul>\\n\"+\n",
       "       \"<li>re-rerun `output_notebook()` to attempt to load from CDN again, or</li>\\n\"+\n",
       "       \"<li>use INLINE resources instead, as so:</li>\\n\"+\n",
       "       \"</ul>\\n\"+\n",
       "       \"<code>\\n\"+\n",
       "       \"from bokeh.resources import INLINE\\n\"+\n",
       "       \"output_notebook(resources=INLINE)\\n\"+\n",
       "       \"</code>\\n\"+\n",
       "       \"</div>\"}};\n",
       "  \n",
       "    function display_loaded() {\n",
       "      if (window.Bokeh !== undefined) {\n",
       "        document.getElementById(\"95d9ec36-9f7b-4ec9-bca6-2959ce455dc5\").textContent = \"BokehJS successfully loaded.\";\n",
       "      } else if (Date.now() < window._bokeh_timeout) {\n",
       "        setTimeout(display_loaded, 100)\n",
       "      }\n",
       "    }\n",
       "  \n",
       "    function run_callbacks() {\n",
       "      window._bokeh_onload_callbacks.forEach(function(callback) { callback() });\n",
       "      delete window._bokeh_onload_callbacks\n",
       "      console.info(\"Bokeh: all callbacks have finished\");\n",
       "    }\n",
       "  \n",
       "    function load_libs(js_urls, callback) {\n",
       "      window._bokeh_onload_callbacks.push(callback);\n",
       "      if (window._bokeh_is_loading > 0) {\n",
       "        console.log(\"Bokeh: BokehJS is being loaded, scheduling callback at\", now());\n",
       "        return null;\n",
       "      }\n",
       "      if (js_urls == null || js_urls.length === 0) {\n",
       "        run_callbacks();\n",
       "        return null;\n",
       "      }\n",
       "      console.log(\"Bokeh: BokehJS not loaded, scheduling load and callback at\", now());\n",
       "      window._bokeh_is_loading = js_urls.length;\n",
       "      for (var i = 0; i < js_urls.length; i++) {\n",
       "        var url = js_urls[i];\n",
       "        var s = document.createElement('script');\n",
       "        s.src = url;\n",
       "        s.async = false;\n",
       "        s.onreadystatechange = s.onload = function() {\n",
       "          window._bokeh_is_loading--;\n",
       "          if (window._bokeh_is_loading === 0) {\n",
       "            console.log(\"Bokeh: all BokehJS libraries loaded\");\n",
       "            run_callbacks()\n",
       "          }\n",
       "        };\n",
       "        s.onerror = function() {\n",
       "          console.warn(\"failed to load library \" + url);\n",
       "        };\n",
       "        console.log(\"Bokeh: injecting script tag for BokehJS library: \", url);\n",
       "        document.getElementsByTagName(\"head\")[0].appendChild(s);\n",
       "      }\n",
       "    };var element = document.getElementById(\"95d9ec36-9f7b-4ec9-bca6-2959ce455dc5\");\n",
       "    if (element == null) {\n",
       "      console.log(\"Bokeh: ERROR: autoload.js configured with elementid '95d9ec36-9f7b-4ec9-bca6-2959ce455dc5' but no matching script tag was found. \")\n",
       "      return false;\n",
       "    }\n",
       "  \n",
       "    var js_urls = [];\n",
       "  \n",
       "    var inline_js = [\n",
       "      function(Bokeh) {\n",
       "        (function() {\n",
       "          var fn = function() {\n",
       "            var docs_json = {\"e2d51803-2614-4e4a-bf71-5b4ce0698f63\":{\"roots\":{\"references\":[{\"attributes\":{\"items\":[{\"id\":\"be803504-5457-44b5-8df1-821016219833\",\"type\":\"LegendItem\"},{\"id\":\"89ab4adc-7c37-48cb-a48d-b0c04879dc50\",\"type\":\"LegendItem\"},{\"id\":\"d141f4f5-00d5-4040-ab33-6f95c532ee5a\",\"type\":\"LegendItem\"},{\"id\":\"286fafae-7597-47ac-bff3-2cf9e1cdbab2\",\"type\":\"LegendItem\"}],\"location\":[0,-30],\"plot\":{\"id\":\"c4165746-77ff-4e8a-8f6a-3b65be401c59\",\"subtype\":\"Figure\",\"type\":\"Plot\"}},\"id\":\"7fdbd7df-0015-4d94-9545-a36d429fe661\",\"type\":\"Legend\"},{\"attributes\":{},\"id\":\"7514023d-ab89-4eb0-a10d-8e99afb3c554\",\"type\":\"BasicTickFormatter\"},{\"attributes\":{\"callback\":null,\"end\":1.1,\"start\":-0.1},\"id\":\"841176da-fc88-428a-8475-dc0644af00c1\",\"type\":\"Range1d\"},{\"attributes\":{\"data_source\":{\"id\":\"ad659a50-0431-40b5-8b7f-8ee9acf5a575\",\"type\":\"ColumnDataSource\"},\"glyph\":{\"id\":\"17f40049-c582-4ba0-8533-04495d1dd42c\",\"type\":\"Line\"},\"hover_glyph\":null,\"nonselection_glyph\":{\"id\":\"721ab013-581b-4d0c-bb1c-14518a8bccc8\",\"type\":\"Line\"},\"selection_glyph\":null},\"id\":\"217d473a-c303-46c1-8840-4195fd1615df\",\"type\":\"GlyphRenderer\"},{\"attributes\":{\"label\":{\"value\":\"0.7 Alpha 8 NScaler\"},\"renderers\":[{\"id\":\"217d473a-c303-46c1-8840-4195fd1615df\",\"type\":\"GlyphRenderer\"}]},\"id\":\"286fafae-7597-47ac-bff3-2cf9e1cdbab2\",\"type\":\"LegendItem\"},{\"attributes\":{\"label\":{\"value\":\"0.5 Alpha 8 NScaler\"},\"renderers\":[{\"id\":\"dee63e0d-ce61-4470-b1c9-5be473dacd2c\",\"type\":\"GlyphRenderer\"}]},\"id\":\"89ab4adc-7c37-48cb-a48d-b0c04879dc50\",\"type\":\"LegendItem\"},{\"attributes\":{\"bottom_units\":\"screen\",\"fill_alpha\":{\"value\":0.5},\"fill_color\":{\"value\":\"lightgrey\"},\"left_units\":\"screen\",\"level\":\"overlay\",\"line_alpha\":{\"value\":1.0},\"line_color\":{\"value\":\"black\"},\"line_dash\":[4,4],\"line_width\":{\"value\":2},\"plot\":null,\"render_mode\":\"css\",\"right_units\":\"screen\",\"top_units\":\"screen\"},\"id\":\"bcef1cca-ca6c-4bef-907f-ef1e55b58618\",\"type\":\"BoxAnnotation\"},{\"attributes\":{\"callback\":null},\"id\":\"120b00d3-e3da-46ec-ba18-0245be597ada\",\"type\":\"DataRange1d\"},{\"attributes\":{\"plot\":{\"id\":\"c4165746-77ff-4e8a-8f6a-3b65be401c59\",\"subtype\":\"Figure\",\"type\":\"Plot\"}},\"id\":\"94dd9239-4664-44ea-a907-ceadfe868414\",\"type\":\"PanTool\"},{\"attributes\":{\"overlay\":{\"id\":\"bcef1cca-ca6c-4bef-907f-ef1e55b58618\",\"type\":\"BoxAnnotation\"},\"plot\":{\"id\":\"c4165746-77ff-4e8a-8f6a-3b65be401c59\",\"subtype\":\"Figure\",\"type\":\"Plot\"}},\"id\":\"e4b17f6e-8ded-433c-a406-c29a45575aa1\",\"type\":\"BoxZoomTool\"},{\"attributes\":{\"callback\":null,\"column_names\":[\"x\",\"y\"],\"data\":{\"x\":[0,1000,2000,3000,4000,5000,6000,7000,8000,9000,10000,11000,12000,13000,14000,15000,16000,17000,18000,19000,20000,21000,22000,23000,24000,25000,26000,27000,28000,29000,30000,31000,32000,33000,34000,35000,36000,37000,38000,39000,40000,41000,42000,43000,44000,45000,46000,47000,48000,49000,50000,51000,52000,53000,54000,55000,56000,57000,58000,59000,60000,61000,62000,63000,64000,65000,66000,67000,68000,69000,70000,71000,72000,73000,74000,75000,76000,77000,78000,79000,80000,81000,82000,83000,84000,85000,86000,87000,88000,89000,90000,91000,92000,93000,94000,95000,96000,97000,98000,99000,100000,101000,102000,103000,104000,105000,106000,107000,108000,109000,110000,111000,112000,113000,114000,115000,116000,117000,118000,119000,120000,121000,122000,123000,124000,125000,126000,127000,128000,129000,130000,131000,132000,133000,134000,135000,136000,137000,138000,139000,140000,141000,142000,143000,144000,145000,146000,147000,148000,149000,150000,151000,152000,153000,154000,155000,156000,157000,158000,159000,160000,161000,162000,163000,164000,165000,166000,167000,168000,169000,170000,171000,172000,173000,174000,175000,176000,177000,178000,179000,180000,181000,182000,183000,184000,185000,186000,187000,188000,189000,190000,191000,192000,193000,194000,195000,196000,197000,198000,199000,200000,201000,202000,203000,204000,205000,206000,207000,208000,209000,210000,211000,212000,213000,214000,215000,216000,217000,218000,219000,220000,221000,222000,223000,224000,225000,226000,227000,228000,229000,230000,231000,232000,233000,234000,235000,236000,237000,238000,239000,240000,241000,242000,243000,244000,245000,246000,247000,248000,249000,250000,251000,252000,253000,254000,255000,256000,257000,258000,259000,260000,261000,262000,263000,264000,265000,266000,267000,268000,269000,270000,271000,272000,273000,274000,275000,276000,277000,278000,279000,280000,281000,282000,283000,284000,285000,286000,287000,288000,289000,290000,291000,292000,293000,294000,295000,296000,297000,298000,299000,300000,301000,302000,303000,304000,305000,306000,307000,308000,309000,310000,311000,312000,313000,314000,315000,316000,317000,318000,319000,320000,321000,322000,323000,324000,325000,326000,327000,328000,329000,330000,331000,332000,333000,334000,335000,336000,337000,338000,339000,340000,341000,342000,343000,344000,345000,346000,347000,348000,349000,350000,351000,352000,353000,354000,355000,356000,357000,358000,359000,360000,361000,362000,363000,364000,365000,366000,367000,368000,369000,370000,371000,372000,373000,374000,375000,376000,377000,378000,379000,380000,381000,382000,383000,384000,385000,386000,387000,388000,389000,390000,391000,392000,393000,394000,395000,396000,397000,398000,399000,400000,401000,402000,403000,404000,405000,406000,407000,408000,409000,410000,411000,412000,413000,414000,415000,416000,417000,418000,419000,420000,421000,422000,423000,424000,425000,426000,427000,428000,429000,430000,431000,432000,433000,434000,435000,436000,437000,438000,439000,440000,441000,442000,443000,444000,445000,446000,447000,448000,449000,450000,451000,452000,453000,454000,455000,456000,457000,458000,459000,460000,461000,462000,463000,464000,465000,466000,467000,468000,469000,470000,471000,472000,473000,474000,475000,476000,477000,478000,479000,480000,481000,482000,483000,484000,485000,486000,487000,488000,489000,490000,491000,492000,493000,494000,495000,496000,497000,498000,499000,500000,501000,502000,503000,504000,505000,506000,507000,508000,509000,510000,511000,512000,513000,514000,515000,516000,517000,518000,519000,520000,521000,522000,523000,524000,525000,526000,527000,528000,529000,530000,531000,532000,533000,534000,535000,536000,537000,538000,539000,540000,541000,542000,543000,544000,545000,546000,547000,548000,549000,550000,551000,552000,553000,554000,555000,556000,557000,558000,559000,560000,561000,562000,563000,564000,565000,566000,567000,568000,569000,570000,571000,572000,573000,574000,575000,576000,577000,578000,579000,580000,581000,582000,583000,584000,585000,586000,587000,588000,589000,590000,591000,592000,593000,594000,595000,596000,597000,598000,599000,600000],\"y\":{\"__ndarray__\":\"AAAAAAAAAAAAAAAAAAAAAAAAAAAAAAAAAAAAAAAAAAAAAAAAAAAAAAAAAAAAAAAAAAAAAAAAAAAAAAAAAAAAAAAAAAAAAAAAAAAAAAAAAAAAAAAAAAAAAAAAAAAAAAAAAAAAAAAAAAAAAAAAAAAAAAAAAAAAAAAAAAAAAAAAAAAAAAAAAAAAAAAAAAAAAAAAAAAAAAAAAAAAAAAAAAAAAAAAAAAAAAAAAAAAAAAAAAAAAAAAAAAAAAAAAAAAAAAAAAAAAAAAAAAAAAAAAAAAAAAAAAAAAAAAAAAAAAAAAAAAAAAAAAAAAAAAAAAAAAAAAAAAAAAAAAAAAAAAAAAAAAAAAAAAAAAAAAAAAAAAAAAAAAAAAAAAAAAAAAAAAAAAAAAAAAAAAAAAAAAAAAAAAAAAAAAAAAAAAAAAAAAAAAAAAAAAAAAAAAAAAAAAAAAAAAAAAAAAAAAAAAAAAAAAAAAAAAAAAAAAAAAAAAAAAAAAAAAAAAAAAAAAAAAAAAAAAAAAAAAAAAAAAAAAAAAAAAAAAAAAAAAAAAAAAAAAAAAAAAAAAAAAAAAAAAAAAAAAAAAAAAAAAAAAAAAAAAAAAAAAAAAAAAAAAAAAAAAAAAAAAAAAAAAAAAAAAAAAAAAAAAAAAAAAAAAAAAAAAAAAAAAAAAAAAAAAAAAAAAAAAAAAAAAAAAAAAAAAAAAAAAAAAAAAAAAAAAAAAAAAAAAAAAAAAAAAAAAAAAAAAAAAAAAAAAAAAAAAAAAAAAAAAAAAAAAAAAAAAAAAAAAAAAAAAAAAAAAAAAAAAAAAAAAAAAAAAAAAAAAAAAAAAAAAAAAAAAAAAAAAAAAAAAAAAAAAAAAAAAAAAAAAAAAAAAAAAAAAAAAAAAAAAAAAAAAAAAAAAAAAAAAAAAAAAAAAAAAAAAAAAAAAAAAAAAAAAAAAAAAAAAAAAAAAAAAAAAAAAAAAAAAAAAAAAAAAAAAAAAAAAAAAAAAAAAAAAAAAAAAAAAAAAAAAAAAAAAAAAAAAAAAAAAAAAAAAAAAAAAAAAAAAAAAAAAAAAAAAAAAAAAAAAAAAAAAAAAAAAAAAAAAAAAAAAAAAAAAAAAAAAAAAAAAAAAAAAAAAAAAAAAAAAAAAAAAAAAAAAAAAAAAAAAAAAAAAAAAAAAAAAAAAAAAAAAAAAAAAAAAAAAAAAAAAAAAAAAAAAAAAAAAAAAAAAAAAAAAAAAAAAAAAAAAAAAAAAAAAAAAAAAAAAAAAAAAAAAAAAAAAAAAAAAAAAAAAAAAAAAAAAAAAAAAAAAAAAAAAAAAAAAAAAAAAAAAAN/ouWWLhcz9Sd8aFE9KNP8W4eu+62Zg/8BoJDjZloT9+2VSkjl2mPwuYoDrnVas/TSt26B8nsD+TCpwzTKOyP9rpwX54H7U/IcnnyaSbtz9oqA0V0Re6P6+HM2D9k7w/9mZZqykQvz8AAAAAAADAPwAAAAAAAMA/AAAAAAAAwD////////+/P////////78/AAAAAAAAwD////////+/P////////78/AAAAAAAAwD8AAAAAAADAP////////78/////////vz8AAAAAAADAPwAAAAAAAMA/AAAAAAAAwD8AAAAAAADAPwAAAAAAAMA/AAAAAAAAwD8AAAAAAADAPwAAAAAAAMA/AAAAAAAAwD8AAAAAAADAPwAAAAAAAMA/AAAAAAAAwD8AAAAAAADAPwAAAAAAAMA/AAAAAAAAwD8AAAAAAADAPwAAAAAAAMA/AAAAAAAAwD////////+/P////////78/AAAAAAAAwD8AAAAAAADAPwAAAAAAAMA/AAAAAAAAwD80m9+ylnPAP5/RnhjEWsE/CAhefvFBwj9yPh3kHinDP9x03ElMEMQ/Rqubr3n3xD+w4VoVp97FPxoYGnvUxcY/g07Z4AGtxz/thJhGL5TIP1e7V6xce8k/wPEWEopiyj8qKNZ3t0nLP5Reld3kMMw//pRUQxIYzT9oyxOpP//NP9IB0w5t5s4/PDiSdJrNzz+kpoEqQ33PP3ouSCUU1s4/ULYOIOUuzj8mPtUatofNP/3FmxWH4Mw/001iEFg5zD+p1SgLKZLLPzAaf81H1sw/uF7Vj2Yazj8/oytShV7PP+PzQApSUdA/JhZsa2Hz0D9qOJfMcJXRP65awi2AN9I/8Xztjo/Z0j8AawAOVaHSP9byxggm+tE/rHqNA/dS0T+CAlT+x6vQP1iKGvmYBNA/XSTC59O6zj8INE/ddWzNP7RD3NIXHsw/Y1NpyLnPyj8VokRygPHJP51IUlLOMMo/Ju9fMhxwyj+vlW0Saq/KPzg8e/K37so/weKI0gUuyz9KiZayU23LP9MvpJKhrMs/XNaxcu/ryz/lfL9SPSvMP24jzTKLasw/9snaEtmpzD9/cOjyJunMPwgX9tJ0KM0/kL0Ds8JnzT8aIqdEiv7NP+ZtNWJAK9A/v0oXojtX0T9wwsIhU0jSP+8PAe8PAdM/bl0/vMy50z/uqn2JiXLUP234u1ZGK9U/7EX6IwPk1T9skzjxv5zWP+vgdr58Vdc/AAAAAAAA2D8AAAAAAADYPwAAAAAAANg/AAAAAAAA2D8AAAAAAADYPwAAAAAAANg/AAAAAAAA2D8AAAAAAADYPwAAAAAAANg/AAAAAAAA2D8AAAAAAADYPwAAAAAAANg/AAAAAAAA2D8AAAAAAADYPwAAAAAAANg/AAAAAAAA2D8AAAAAAADYPwAAAAAAANg/AAAAAAAA2D8AAAAAAADYP7Qzd8z0u9c/n3faSV1o1z+Kuz3HxRTXP3X/oEQuwdY/YEMEwpZt1j9Mh2c//xnWPzbLyrxnxtU/IQ8uOtBy1T8MU5G3OB/VP/iW9DShy9Q/4tpXsgl41D/OHrsvciTUP7liHq3a0NM/pKaBKkN90z+P6uSnqynTP3ouSCUU1tI/ZXKronyC0j9Qtg4g5S7SP1xmS0RWsNE/Mu4RPycJ0T8Idtg5+GHQP737PWmSdc8/agvLXjQnzj8WG1hU1tjMP0YHWi73vss/HI8gKcgXyz/yFucjmXDKP8ierR5qyck/niZ0GTsiyT91rjoUDHvIP0s2AQ/d08c/Ib7HCa4sxz/4RY4Ef4XGP87NVP9P3sU/pFUb+iA3xT963eH08Y/EP1BlqO/C6MM/Ju1u6pNBwz/9dDXlZJrCP9P8+98188E/qYTC2gZMwT9/DInV16TAPyj54/SyAsA/A37t/3zDwD/eAvcKR4TBP7mHABYRRcI/lAwKIdsFwz9wkRMspcbDP0sWHTdvh8Q/JpsmQjlIxT8BIDBNAwnGP9ykOVjNycY/tylDY5eKxz+SrkxuYUvIP24zVnkrDMk/SLhfhPXMyT8kPWmPv43KP/7BcpqJTss/2kZ8pVMPzD+1y4WwHdDMP5BQj7vnkM0/a9WYxrFRzj9GWqLRexLPPyLfq9xF088/ThIyWpp/zz8kmvhUa9jOP/shv088Mc4/7CnJnzVRzT+YOVaV1wLMP0RJ44p5tMo/8VhwgBtmyT+eaP11vRfIP0p4imtfycY/el/UJve7xT/Ga2QrejzFPxR49C/9vMQ/YISENIA9xD+tkBQ5A77DP/mcpD2GPsM/Rqk0Qgm/wj+StcRGjD/CP97BVEsPwME/K87kT5JAwT932nRUFcHAP8TmBFmYQcA/IOYpuzaEvz+5/knEPIW+P1IXas1Chr0/JJPsHOXgvD8QnH8wSTC9P/6kEkStf70/6q2lVxHPvT+Lw55LxFbAPx7oHtS+Q8E/pu00uU17wT8u80qe3LLBP7f4YINr6sE/P/52aPohwj/IA41NiVnCP1AJozIYkcI/2A65F6fIwj9hFM/8NQDDP+kZ5eHEN8M/ch/7xlNvwz/6JBGs4qbDP4IqJ5Fx3sM/CzA9dgAWxD+TNVNbj03EPxs7aUAehcQ/pEB/Ja28xD+AQ1Uox4/EP1bLGyOY6MM/LFPiHWlBwz8D26gYOprCP9libxML88E/r+o1DtxLwT+FcvwIraTAPwAAAAAAAMA/AAAAAAAAwD8AAAAAAADAPwAAAAAAAMA/AAAAAAAAwD8AAAAAAADAPwAAAAAAAMA/AAAAAAAAwD8AAAAAAADAPwAAAAAAAMA/AAAAAAAAwD8AAAAAAADAPwAAAAAAAMA/AAAAAAAAwD/g8Vn4sp6/P4wB5+1UUL4/gCB1aIfzvz+7n4HxXMvAPzWvyC72nME/sL4PbI9uwj/U2P9Dz8LDP042R0Tpe8Y/ypOORAM1yT9E8dVEHe7LP75OHUU3p84/HFayoiiw0D/SGhM1aPTRP76F9hORlNI/qfDZ8rk00z+QBxcdaLnSP2eP3Rc5EtI/PRekEgpr0T8Tn2oN28PQP+omMQisHNA/gF3vBfrqzj8sbXz7m5zNP9h8CfE9Tsw/hIyW5t//yj8xnCPcgbHJPwJvINhh58g/2fbm0jJAyD+vfq3NA5nHP4UGdMjU8cY/W446w6VKxj8yFgG+dqPFPwiex7hH/MQ/3iWOsxhVxD+0rVSu6a3DP4o1G6m6BsM/MmVnbcdowj8DoVE4KinEP9PcOwON6cU/pBgmzu+pxz+6dxQKg6fJP7QrONoUD8w/rt9bqqZ2zj+b3rqNpcPPP3FmgYh2HM8/SO5Hg0d1zj8edg5+GM7NP/T91HjpJs0/yoWbc7p/zD+gDWJui9jLP2zdrsfuess/hp6NrZLQyz9AWAN7eBzNP/wReUheaM4/tsvuFUS0zz+4QrLxFIDQP5YfbdgHJtE/c/wnv/rL0T9Q2eKl7XHSPy62nYzgF9M/CpNYc9O90z/obxNaxmPUP8VMzkC5CdU/oymJJ6yv1T+ABkQOn1XWP0f9QmWHX9c/9lyZ0ABm2D/z4oLAX63YP8oxiuKdFdo/PLM6heM12z+wNOsnKVbcPyS2m8pudt0/mDdMbbSW3j8LufwP+rbfP8bxRcRNut8/c/tjwIuG3z8gBYK8yVLfP84OoLgHH98/exi+tEXr3j8oItywg7feP9Ur+qzBg94/gjUYqf9P3j//hSIeCw7eP9YN6RjcZt0/rJWvE62/3D+CHXYOfhjcP1ilPAlPcds/Li0DBCDK2j8Ftcn+8CLaP9s8kPnBe9k/scRW9JLU2D/sS/cEx57YP4Y24XLGt9g/zN3hQD8Z2T96hGgx1oXZPyor7yFt8tk/2tF1EgRf2j+JePwCm8vaPzgfg/MxONs/6MUJ5Mik2z+XbJDUXxHcP0YTF8X2fdw/9rmdtY3q3D+lYCSmJFfdP1QHq5a7w90/BK4xh1Iw3j+zVLh36ZzeP2L7PmiACd8/EqLFWBd23z/BSExJruLfPwAAAAAAAOA/AAAAAAAA4D8AAAAAAADgPwAAAAAAAOA/AAAAAAAA4D8AAAAAAADgPwAAAAAAAOA/54rMpzz53z/sIMPL1wDgP2b8n0MRBeA/3td8u0oJ4D9Ys1kzhA3gP9CONqu9EeA/SmoTI/cV4D8o071NYwngPy6hmAiix98/DJy1dX183z/pltLiWDHfP8aR70805t4/o4wMvQ+b3j+Bhykq60/eP16CRpfGBN4/O31jBKK53T8YeIBxfW7dP/Zynd5YI90/1W26SzTY3D+yaNe4D43cP49j9CXrQdw/bF4Rk8b22z/vLelpQpfbP7D5EuJ7nNo/ccU8WrWh2T9LUQf9WpbZPzxN7gGmjtk/LEnVBvGG2T8aRbwLPH/ZPwtBoxCHd9k/+jyKFdJv2T/pOHEaHWjZPxl4C3vOq9k/HTCPArH32T8i6BKKk0PaPyaglhF2j9o/KlgamVjb2j8oGPYAbRDbPxRcWX7VvNo//5+8+z1p2j/q4x95phXaP9Ung/YOwtk/wGvmc3du2T+rr0nx3xrZP5bzrG5Ix9g/gTcQ7LBz2D9se3NpGSDYPwAAAAAAANg/AAAAAAAA2D8AAAAAAADYPwAAAAAAANg/AAAAAAAA2D8AAAAAAADYPwAAAAAAANg/AAAAAAAA2D8AAAAAAADYPwAAAAAAANg/AAAAAAAA2D8AAAAAAADYPwAAAAAAANg/AAAAAAAA2D8AAAAAAADYPwAAAAAAANg/AAAAAAAA2D8AAAAAAADYPwAAAAAAANg/AAAAAAAA2D8AAAAAAADYPwAAAAAAANg/AAAAAAAA2D8AAAAAAADYPwAAAAAAANg/AAAAAAAA2D8AAAAAAADYPwAAAAAAANg/AAAAAAAA2D8AAAAAAADYPwAAAAAAANg/AAAAAAAA2D8AAAAAAADYPwAAAAAAANg/kqIjvG+S2D8uXqlqyDTZP8sZLxkh19k/aNW0x3l52j8EkTp20hvbP6FMwCQrvts/PQhG04Ng3D/aw8uB3ALdP3Z/UTA1pd0/EzvX3o1H3j+v9lyN5uneP0yy4js/jN8/AAAAAAAA4D8=\",\"dtype\":\"float64\",\"shape\":[601]}}},\"id\":\"e68d41a3-732d-4b38-a45c-03f18bf9a97f\",\"type\":\"ColumnDataSource\"},{\"attributes\":{\"line_alpha\":{\"value\":0.1},\"line_color\":{\"value\":\"#1f77b4\"},\"line_width\":{\"value\":2},\"x\":{\"field\":\"x\"},\"y\":{\"field\":\"y\"}},\"id\":\"7c2a8a2b-b40b-438d-a7d9-063761c0dfaf\",\"type\":\"Line\"},{\"attributes\":{\"use_scientific\":false},\"id\":\"5e5c4655-d8b4-46f6-b5be-7aad36d199ef\",\"type\":\"BasicTickFormatter\"},{\"attributes\":{\"below\":[{\"id\":\"0e128a5e-8785-4db1-9997-4d4f756568fc\",\"type\":\"LinearAxis\"}],\"left\":[{\"id\":\"3389cd58-ddd0-4cdc-b263-6e7c989bef9e\",\"type\":\"LinearAxis\"}],\"plot_height\":800,\"plot_width\":1200,\"renderers\":[{\"id\":\"0e128a5e-8785-4db1-9997-4d4f756568fc\",\"type\":\"LinearAxis\"},{\"id\":\"edeb51da-c2be-4f38-9d41-e0113dd6039e\",\"type\":\"Grid\"},{\"id\":\"3389cd58-ddd0-4cdc-b263-6e7c989bef9e\",\"type\":\"LinearAxis\"},{\"id\":\"ef2bd38a-19a0-469d-8cfe-4762d96251d0\",\"type\":\"Grid\"},{\"id\":\"bcef1cca-ca6c-4bef-907f-ef1e55b58618\",\"type\":\"BoxAnnotation\"},{\"id\":\"5ddfa5ee-85d3-4a22-9ce8-6eb969ec5ef1\",\"type\":\"GlyphRenderer\"},{\"id\":\"dee63e0d-ce61-4470-b1c9-5be473dacd2c\",\"type\":\"GlyphRenderer\"},{\"id\":\"9d7858ba-bcb9-415f-b9d6-bb72d7cf51dd\",\"type\":\"GlyphRenderer\"},{\"id\":\"217d473a-c303-46c1-8840-4195fd1615df\",\"type\":\"GlyphRenderer\"},{\"id\":\"7fdbd7df-0015-4d94-9545-a36d429fe661\",\"type\":\"Legend\"}],\"right\":[{\"id\":\"7fdbd7df-0015-4d94-9545-a36d429fe661\",\"type\":\"Legend\"}],\"title\":{\"id\":\"4c795e87-2b23-4ba6-84c3-f9ca4988588b\",\"type\":\"Title\"},\"tool_events\":{\"id\":\"f410288d-a8e2-47f0-8b59-9d31ba44c277\",\"type\":\"ToolEvents\"},\"toolbar\":{\"id\":\"92183a77-6576-45f7-a242-6b08e7c3e7be\",\"type\":\"Toolbar\"},\"toolbar_location\":\"above\",\"x_range\":{\"id\":\"120b00d3-e3da-46ec-ba18-0245be597ada\",\"type\":\"DataRange1d\"},\"y_range\":{\"id\":\"841176da-fc88-428a-8475-dc0644af00c1\",\"type\":\"Range1d\"}},\"id\":\"c4165746-77ff-4e8a-8f6a-3b65be401c59\",\"subtype\":\"Figure\",\"type\":\"Plot\"},{\"attributes\":{\"plot\":{\"id\":\"c4165746-77ff-4e8a-8f6a-3b65be401c59\",\"subtype\":\"Figure\",\"type\":\"Plot\"}},\"id\":\"84ce89d2-2da1-41d0-982c-001181fddcc4\",\"type\":\"HelpTool\"},{\"attributes\":{\"plot\":null,\"text\":\"Med Maze 14 Prioritized 250k XP Replay Stale\"},\"id\":\"4c795e87-2b23-4ba6-84c3-f9ca4988588b\",\"type\":\"Title\"},{\"attributes\":{\"callback\":null,\"column_names\":[\"x\",\"y\"],\"data\":{\"x\":[0,1000,2000,3000,4000,5000,6000,7000,8000,9000,10000,11000,12000,13000,14000,15000,16000,17000,18000,19000,20000,21000,22000,23000,24000,25000,26000,27000,28000,29000,30000,31000,32000,33000,34000,35000,36000,37000,38000,39000,40000,41000,42000,43000,44000,45000,46000,47000,48000,49000,50000,51000,52000,53000,54000,55000,56000,57000,58000,59000,60000,61000,62000,63000,64000,65000,66000,67000,68000,69000,70000,71000,72000,73000,74000,75000,76000,77000,78000,79000,80000,81000,82000,83000,84000,85000,86000,87000,88000,89000,90000,91000,92000,93000,94000,95000,96000,97000,98000,99000,100000,101000,102000,103000,104000,105000,106000,107000,108000,109000,110000,111000,112000,113000,114000,115000,116000,117000,118000,119000,120000,121000,122000,123000,124000,125000,126000,127000,128000,129000,130000,131000,132000,133000,134000,135000,136000,137000,138000,139000,140000,141000,142000,143000,144000,145000,146000,147000,148000,149000,150000,151000,152000,153000,154000,155000,156000,157000,158000,159000,160000,161000,162000,163000,164000,165000,166000,167000,168000,169000,170000,171000,172000,173000,174000,175000,176000,177000,178000,179000,180000,181000,182000,183000,184000,185000,186000,187000,188000,189000,190000,191000,192000,193000,194000,195000,196000,197000,198000,199000,200000,201000,202000,203000,204000,205000,206000,207000,208000,209000,210000,211000,212000,213000,214000,215000,216000,217000,218000,219000,220000,221000,222000,223000,224000,225000,226000,227000,228000,229000,230000,231000,232000,233000,234000,235000,236000,237000,238000,239000,240000,241000,242000,243000,244000,245000,246000,247000,248000,249000,250000,251000,252000,253000,254000,255000,256000,257000,258000,259000,260000,261000,262000,263000,264000,265000,266000,267000,268000,269000,270000,271000,272000,273000,274000,275000,276000,277000,278000,279000,280000,281000,282000,283000,284000,285000,286000,287000,288000,289000,290000,291000,292000,293000,294000,295000,296000,297000,298000,299000,300000,301000,302000,303000,304000,305000,306000,307000,308000,309000,310000,311000,312000,313000,314000,315000,316000,317000,318000,319000,320000,321000,322000,323000,324000,325000,326000,327000,328000,329000,330000,331000,332000,333000,334000,335000,336000,337000,338000,339000,340000,341000,342000,343000,344000,345000,346000,347000,348000,349000,350000,351000,352000,353000,354000,355000,356000,357000,358000,359000,360000,361000,362000,363000,364000,365000,366000,367000,368000,369000,370000,371000,372000,373000,374000,375000,376000,377000,378000,379000,380000,381000,382000,383000,384000,385000,386000,387000,388000,389000,390000,391000,392000,393000,394000,395000,396000,397000,398000,399000,400000,401000,402000,403000,404000,405000,406000,407000,408000,409000,410000,411000,412000,413000,414000,415000,416000,417000,418000,419000,420000,421000,422000,423000,424000,425000,426000,427000,428000,429000,430000,431000,432000,433000,434000,435000,436000,437000,438000,439000,440000,441000,442000,443000,444000,445000,446000,447000,448000,449000,450000,451000,452000,453000,454000,455000,456000,457000,458000,459000,460000,461000,462000,463000,464000,465000,466000,467000,468000,469000,470000,471000,472000,473000,474000,475000,476000,477000,478000,479000,480000,481000,482000,483000,484000,485000,486000,487000,488000,489000,490000,491000,492000,493000,494000,495000,496000,497000,498000,499000,500000,501000,502000,503000,504000,505000,506000,507000,508000,509000,510000,511000,512000,513000,514000,515000,516000,517000,518000,519000,520000,521000,522000,523000,524000,525000,526000,527000,528000,529000,530000,531000,532000,533000,534000,535000,536000,537000,538000,539000,540000,541000,542000,543000,544000,545000,546000,547000,548000,549000,550000,551000,552000,553000,554000,555000,556000,557000,558000,559000,560000,561000,562000,563000,564000,565000,566000,567000,568000,569000,570000,571000,572000,573000,574000,575000,576000,577000,578000,579000,580000,581000,582000,583000,584000,585000,586000,587000,588000,589000,590000,591000,592000,593000,594000,595000,596000,597000,598000,599000,600000],\"y\":{\"__ndarray__\":\"AAAAAAAAAAAAAAAAAAAAAAAAAAAAAAAAAAAAAAAAAAAAAAAAAAAAAAAAAAAAAAAAAAAAAAAAAAAAAAAAAAAAAAAAAAAAAAAAAAAAAAAAAAAAAAAAAAAAAAAAAAAAAAAAAAAAAAAAAAAAAAAAAAAAAAAAAAAAAAAAAAAAAAAAAAAAAAAAAAAAAAAAAAAAAAAAAAAAAAAAAAAAAAAAAAAAAAAAAAAAAAAAAAAAAAAAAAAAAAAAAAAAAAAAAAAAAAAAAAAAAAAAAAAAAAAAAAAAAAAAAAAAAAAAAAAAAAAAAAAAAAAAAAAAAAAAAAAAAAAAAAAAAAAAAAAAAAAAAAAAAAAAAAAAAAAAAAAAAAAAAAAAAAAAAAAAAAAAAAAAAAAAAAAAAAAAAAAAAAAAAAAAAAAAAAAAAAAAAAAAAAAAAAAAAAAAAAAAAAAAAAAAAAAAAAAAAAAAAAAAAAAAAAAAAAAAAAAAAAAAAAAAAAAAAAAAAAAAAAAAAAAAAAAAAAAAAAAAAAAAAAAAAAAAAAAAAAAAAAAAAAAAAAAAAAAAAAAAAAAAAAAAAAAAAAAAAAAAAAAAAAAAAAAAAAAAAAAAAAAAAAAAAAAAAAAAAAAAAAAAAAAAAAAAAAAAAAAAAAAAAAAAAAAAAAAAAAAAAAAAAAAAAAAAAAAAAAAAAAAAAAAAAAAAAAAAAAAAAAAAAAAAAAAAAAAAAAAAAAAAAAAAAAAAAAAAAAAAAAAAAAAAAAAAAAAAAAAAAAAAAAAAAAAAAAAAAAAAAAAAAAAAAAAAAAAAAAAAAAAAAAAAAAAAAAAAAAAAAAAAAAAAAAAAAAAAAAAAAAAAAAAAAAAAAAAAAAAAAAAAAAAAAAAAAAAAAAAAAAAAAAAAAAAAAAAAAAAAAAAAAAAAAAAAAAAAAAAAAAAAAAAAAAAAAAAAAAAAAAAAAAAAAAAAAAAAAAAAAAAAAAAAAAAAAAAAAAAAAAAAAAAAAAAAAAAAAAAAAAAAAAAAAAAAAAAAAAAAAAAAAAAAAAAAAAAAAAAAAAAAAAAAAAAAAAAAAAAAOmf+cbL4kz86Z/5xsvijP9ea/aoL9a0/Omf+cbL4sz8JAX4O3/a4P9ea/aoL9b0/U5q+I5x5wT86Z/5xsvjDPyI0PsDId8Y/qIhpem6SyD9Zw3kMkcnIPwr+iZ6zAMk/uziaMNY3yT9sc6rC+G7JPx6uulQbpsk/z+jK5j3dyT+AI9t4YBTKPzFe6wqDS8o/XOAoJkuiyT8I8LUb7VPIP7b/QhGPBcc/Yg/QBjG3xT8OH1380mjEP7ou6vF0GsM/cGzZ9eRjwj8u2CoII0XCP+xDfBphJsI/qq/NLJ8Hwj9pGx8/3ejBPyeHcFEbysE/5fLBY1mrwT+kXhN2l4zBP2LKZIjVbcE/IDa2mhNPwT/a0RueqqDBP8G1prUXKcI/qpkxzYSxwj/YOHAvtTXDP4RI/SRX58E/MViKGvmYwD+6zy4gNpW+PxPvSAt6+Ls/zHreaSd1uT94imtfySa4PyWa+FRr2LY/0amFSg2KtT9+uRJArzu0PyrJnzVR7bI/1tgsK/OesT+D6LkglVCwP17wjSxuBK4/tw+oF7Jnqz8QL8IC9sqoP2lO3O05LqY/wm322H2Roz8ajRDEwfSgP+ZYVV4LsJw/mJeJNJN2lz9K1r0KGz2SP/cp5MFFB4o/tE6Z3Koofz/0ktRqlIVkPwAAAAAAAAAAAAAAAAAAAAAAAAAAAAAAAAAAAAAAAAAAAAAAAAAAAAAAAAAAAAAAAAAAAAAAAAAAAAAAAAAAAAAAAAAAAAAAAAAAAAAAAAAAAAAAAAAAAAAAAAAAAAAAAAAAAAAAAAAAAAAAAAAAAAAAAAAAAAAAAAAAAAAAAAAAAAAAAAAAAAAAAAAAAAAAAAAAAAAAAAAAAAAAAAAAAAAAAAAAAAAAAAAAAAAAAAAAAAAAAAAAAAAAAAAAAAAAAAAAAAAAAAAAAAAAAAAAAAAAAAAAAAAAAAAAAAAAAAAAAAAAAAAAAAAAAAAAAAAAAAAAAAAAAAAAAAAAAAAAAAAAAAAAAAAAAAAAAAAAAAAAAAAAAAAAAAAAAAAAAAAAAAZfmWajt30/Bl+ZZqO3jT9EB/OMukmWPwZfmWajt50/Y9sfIMaSoj9EB/OMukmmPyUzxvmuAKo/Bl+ZZqO3rT9zRbbpS7ewP2PbHyDGkrI/VHGJVkButD9EB/OMukm2PzSdXMM0Jbg/JTPG+a4Auj8VyS8wKdy7PwZfmWajt70/9vQCnR2Tvz8AAAAAAADAPwAAAAAAAMA/AAAAAAAAwD8AAAAAAADAPwAAAAAAAMA/AAAAAAAAwD8AAAAAAADAP3kDOq/UX8A/bAquDX4fwT9fESJsJ9/BP1EYlsrQnsI/RB8KKXpewz82Jn6HIx7EPykt8uXM3cQ/HDRmRHadxT8OO9qiH13GPwFCTgHJHMc/9EjCX3Lcxz/mTza+G5zIP9lWqhzFW8k/zF0ee24byj++ZJLZF9vKP7BrBjjBmss/pHJ6lmpazD+Wee70ExrNP4iAYlO92c0/e4fWsWaZzj9ujkoQEFnPPxNpJu1u6s8/6vDs5z9Dzz/AeLPiEJzOP5YAet3h9M0/bIhA2LJNzT9CEAfTg6bMPxiYzc1U/8s/7h+UyCVYyz/Fp1rD9rDKP5svIb7HCco/cbfnuJhiyT9IP66zabvIPx7HdK46FMg/9E47qQttxz/K1gGk3MXGP6BeyJ6tHsY/duaOmX53xT9NblWUT9DEPyP2G48gKcQ/+X3iifGBwz/PBamEwtrCP6aNb3+TM8I/fBU2emSMwT9Snfx0NeXAPyglw28GPsA/AAAAAAAAwD8AAAAAAADAP////////78/////////vz8AAAAAAADAPwAAAAAAAMA/AAAAAAAAwD8AAAAAAADAPwAAAAAAAMA/AAAAAAAAwD////////+/P////////78/AAAAAAAAwD8AAAAAAADAPwAAAAAAAMA/AAAAAAAAwD8AAAAAAADAPwAAAAAAAMA/AAAAAAAAwD8AAAAAAADAPwAAAAAAAMA/AAAAAAAAwD8AAAAAAADAPwAAAAAAAMA/AAAAAAAAwD8AAAAAAADAPwAAAAAAAMA/AAAAAAAAwD8AAAAAAADAPwAAAAAAAMA/AAAAAAAAwD8AAAAAAADAPwAAAAAAAMA/++t6L9BXvz+n+wclcgm+P1QLlRoUu7w/ABsiELZsuz+sKq8FWB66P1k6PPv5z7g/BUrJ8JuBtz+yWVbmPTO2P15p49vf5LQ/C3lw0YGWsz+3iP3GI0iyP2OYirzF+bA/H1AvZM9Wrz94b0lPE7qsP9GOYzpXHao/Kq59JZuApz+DzZcQ3+OkP9zssfsiR6I/aRiYzc1Unz8aV8yjVRuaP8yVAHrd4ZQ/+6hpoMpQjz9eJtJM2t2EP4NHdfLT1XQ/AAAAAAAAAAAAAAAAAAAAAAAAAAAAAAAAAAAAAAAAAAAAAAAAAAAAAAAAAAAAAAAAAAAAAAAAAAAAAAAAAAAAAAAAAAAAAAAAAAAAAAAAAAAAAAAAAAAAAAAAAAAAAAAAAAAAAAAAAAAAAAAAAAAAAAAAAAAAAAAAAAAAAAAAAAAAAAAAAAAAAAAAAAAAAAAAAAAAAAAAAAAAAAAAAAAAAAAAAAAAAAAAAAAAAAAAAAAAAAAAAAAAAAAAAAAAAAAAAAAAAAAAAAAAAAAAAAAAAAAAAAAAAAAAAAAAAAAAAAAAAAAAAAAAAAAAAAAAAAAAAAAAAAAAAAAAAAAAAAAAAAAAAAAAAAAAAAAAAAAAAAAAAAAAAAAAAAAAAAAAAAAAAAAAAAAAAAAAAAAAAAAAAAAAAAAAAAAAAAAAAAAAAAAAAAAAAAAAAAAAAAAAAAAAAAAAAAAAAAAAAAAAAAAAAAAAAAAAAAAAAAAAAAAAAAAAAAAAAAAAAAAAAAAAAAAAAAAAAAAAAAAAAAAAAAAAAAAAAAAAAAAAAAAAAAAAAAAAAAAAAAAAAAAAAAAAAAAAAAAAAAAAAAAAAAAAAAAAAAAAAAAAAAAAAAAAAAAAAAAAAAAAAAAAAAAAAAAAAAAAAAAAAAAAAAAAAAAAAAAAAAAAAAAAAAAAAAAAAAAAAAAAAAAAAAAAAAAAAAAAAAAAAAAAAAAAAAAAAAAAAAAAAAAAAAAAAAAAAAAAAAAAAAAAAAAAAAAAAAAAAAAAAAAAAAAAAAAAAAAAAAAAAAAAAAAAAAAAAAAAAAAAAAAAAAAAAAAAAAAAAAAAAAAAAAAAAAAAAAAAAAAAAAAAAAAAAAAAAAAAAAAAAAAAAAAAAAAAAAAAAAAAAAAAAAAAAAAAAAAAAAAAAAAAAAAAAAAAAAAAAAAAAAAAAAAAAAAAAAAAAAAAAAAAAAAAAAAAAAAAAAAAAAAAAAAAAAAAAAAAAAAAAAAAAAAAAAAAAAAAAAAAAAAAAAAAAAAAAAAAAAAAAAAAAAAAAAAAAAAAAAAAAAAAAAAAAAAAAAAAAAAAAAAAAAAAAAAAAAAAAAAAAAAAAAAAAAAAAAAAAAAAAAAAAAAAAAAAAAAAAAAAAAAAAAAAAAAAAAAAAAAAAAAAAAAAAAAAAAAAAAAAAAAAAAAAAAAAAAAAAAAAAAAAAAAAAAAAAAAAAAAAAAAAAAAAAAAAAAAAAAAAAAAAAAAAAAAAAAAAAAAAAAAAAAAAAAAAAAAAAAAAAAAAAAAAAAAAAAAAAAAAAAAAAAAAAAAAAAAAAAAAAAAAAAAAAAAAAAAAAAAAAAAAAAAAAAAAAAAAAAAAAAAAAAAAAAAAAAAAAAAAAAAAAAAAAAAAAAAAAAAAAAAAAAAAAAAAAAAAAAAAAAAAAAAAAAAAAAAAAAAAAAAAAAAAAAAAAAAAAAAAAAAAAAAAAAAAAAAAAAAAAAAAAAAAAAAAAAAAAAAAAAAAAAAAAAAAAAAAAAAAAAAAAAAAAAAAAAAAAAAAAAAAAAAAAAAAAAAAAAAAAAAAAAAAAAAAAAAAAAAAAAAAAAAAAAAAAAAAAAAAAAAAAAAAAAAAAAAAAAAAAAAAAAAAAAAAAAAAAAAAAAAAAAAAAAAAAAAAAAAAAAAAAAAAAAAAAAAAAAAAAAAAAAAAAAAAAAAAAAAAAAAAAAAAAAAAAAAAAAAAAAAAAAAAAAAAAAAAAAAAAAAAAAAAAAAAAAAAAAAAAAAAAAAAAAAAAAAAAAAAAAAAAAAAAAAAAAAAAAAAAAAAAAAAAAAAAAAAAAAAAAAAAAAAAAAAAAAAAAAAAAAAAAAAAAAAAAAAAAAAAAAAAAAAAAAAAAAAAAAAAAAAAAAAAAAAAAAAAAAAAAAAAAAAAAAAAAAAAAAAAAAAAAAAAAAAAAAAAAAAAAAAAAAAAAAAAAAAAAAAAAAAAAAAAAAAAAAAAAAAAAAAAAAAAAAAAAAAAAAAAAAAAAAAAAAAAAAAAAAAAAAAAAAAAAAAAAAAAAAAAAAAAAAAAAAAAAAAAAAAAAAAAAAAAAAAAAAAAAAAAAAAAAAAAAAAAAAAAAAAAAAAAAAAAAAAAAAAAAAAAAAAAAAAAAAAAAAAAAAAAAAAAAAAAAAAAAAAAAAAAAAAAAAAAAAAAAAAAAAAAAAAAAAAAAAAAAAAAAAAAAAAAAAAAAAAAAAAAAAAAAAAAAAAAAAAAAAAAAAAAAAAAAAAAAAAAAAAAAAAAAAAAAAAAAAAAAAAAAAAAAAAAAAAAAAAAAAAAAAAAAAAAAAAAAAAAAAAAAAAAAAAAAAAAAAAAAAAAAAAAAAAAAAAAAAAAAAAAAAAAAAAAAAAAAAAAAAAAAAAAAAAAAAAAAAAAAAAAAAAAAAAAAAAAAAAAAAAAAAAAAAAAAAAAAAAAAAAAAAAAAAAAAAAAAAAAAAAAAAAAAAAAAAAAAAAAAAAAAAAAAAAAAAAAAAAAAAAAAAAAAAAAAAAAAAAAAAAAAAAAAAAAAAAAAAAAAAAAAAAAAAAAAAAAAAAAAAAAAAAAAAAAAAAAAAAAAAAAAAAAAAAAAAAAAAAAAAAAAAAAAAAAAAAAAAAAAAAAAAAAAAAAAAAAAAAAAAAAAAAAAAAAAAAAAAAAAAAAAAAAAAAAAAAAAAAAAAAAAAAAAAAAAAAAAAAAAAAAAAAAAAAAAAAAAAAAAAAAAAAAAAAAAAAAAAAAAAAAAAAAAAAAAAAAAAAAAAAAAAAAAAAAAAAAAAAAAAAAAAAAAAAAAAAAAAAAAAAAAAAAAAAAAAAAAAAAAAAAAAAAAAAAAAAAAAAAAAAAAAAAAAAAAAAAAAAAAAAAAAAAAAAAAAAAAAAAAAAAAAAAAAAAAAAAAAAAAAAAAAAAAAAAAAAAAAAAAAAAAAAAAAAAAAAAAAAAAAAAAAAAAAAAAAAAAAAAAAAAAAAAAAAAAAAAAA=\",\"dtype\":\"float64\",\"shape\":[601]}}},\"id\":\"ad659a50-0431-40b5-8b7f-8ee9acf5a575\",\"type\":\"ColumnDataSource\"},{\"attributes\":{},\"id\":\"f410288d-a8e2-47f0-8b59-9d31ba44c277\",\"type\":\"ToolEvents\"},{\"attributes\":{\"active_drag\":\"auto\",\"active_scroll\":\"auto\",\"active_tap\":\"auto\",\"tools\":[{\"id\":\"94dd9239-4664-44ea-a907-ceadfe868414\",\"type\":\"PanTool\"},{\"id\":\"aeb4ce31-a37a-4bae-8402-f2cb9686881c\",\"type\":\"WheelZoomTool\"},{\"id\":\"e4b17f6e-8ded-433c-a406-c29a45575aa1\",\"type\":\"BoxZoomTool\"},{\"id\":\"1ba1165b-987b-4e2d-a414-c88d6a5baa81\",\"type\":\"SaveTool\"},{\"id\":\"e94517a4-8a71-4893-9c04-4f7bac7e0767\",\"type\":\"ResetTool\"},{\"id\":\"84ce89d2-2da1-41d0-982c-001181fddcc4\",\"type\":\"HelpTool\"}]},\"id\":\"92183a77-6576-45f7-a242-6b08e7c3e7be\",\"type\":\"Toolbar\"},{\"attributes\":{\"line_color\":{\"value\":\"#984ea3\"},\"line_width\":{\"value\":2},\"x\":{\"field\":\"x\"},\"y\":{\"field\":\"y\"}},\"id\":\"17f40049-c582-4ba0-8533-04495d1dd42c\",\"type\":\"Line\"},{\"attributes\":{\"plot\":{\"id\":\"c4165746-77ff-4e8a-8f6a-3b65be401c59\",\"subtype\":\"Figure\",\"type\":\"Plot\"}},\"id\":\"e94517a4-8a71-4893-9c04-4f7bac7e0767\",\"type\":\"ResetTool\"},{\"attributes\":{\"plot\":{\"id\":\"c4165746-77ff-4e8a-8f6a-3b65be401c59\",\"subtype\":\"Figure\",\"type\":\"Plot\"},\"ticker\":{\"id\":\"1d955d2d-e2b2-4d71-8a68-2990451cd05c\",\"type\":\"BasicTicker\"}},\"id\":\"edeb51da-c2be-4f38-9d41-e0113dd6039e\",\"type\":\"Grid\"},{\"attributes\":{\"plot\":{\"id\":\"c4165746-77ff-4e8a-8f6a-3b65be401c59\",\"subtype\":\"Figure\",\"type\":\"Plot\"}},\"id\":\"1ba1165b-987b-4e2d-a414-c88d6a5baa81\",\"type\":\"SaveTool\"},{\"attributes\":{\"plot\":{\"id\":\"c4165746-77ff-4e8a-8f6a-3b65be401c59\",\"subtype\":\"Figure\",\"type\":\"Plot\"}},\"id\":\"aeb4ce31-a37a-4bae-8402-f2cb9686881c\",\"type\":\"WheelZoomTool\"},{\"attributes\":{},\"id\":\"1d955d2d-e2b2-4d71-8a68-2990451cd05c\",\"type\":\"BasicTicker\"},{\"attributes\":{\"line_color\":{\"value\":\"#4daf4a\"},\"line_width\":{\"value\":2},\"x\":{\"field\":\"x\"},\"y\":{\"field\":\"y\"}},\"id\":\"04728241-9ada-4eeb-9c48-4b3d99a53683\",\"type\":\"Line\"},{\"attributes\":{\"dimension\":1,\"plot\":{\"id\":\"c4165746-77ff-4e8a-8f6a-3b65be401c59\",\"subtype\":\"Figure\",\"type\":\"Plot\"},\"ticker\":{\"id\":\"1aaba754-5ef2-49f8-8a9e-c7b8d071323b\",\"type\":\"BasicTicker\"}},\"id\":\"ef2bd38a-19a0-469d-8cfe-4762d96251d0\",\"type\":\"Grid\"},{\"attributes\":{},\"id\":\"1aaba754-5ef2-49f8-8a9e-c7b8d071323b\",\"type\":\"BasicTicker\"},{\"attributes\":{\"axis_label\":\"T\",\"formatter\":{\"id\":\"5e5c4655-d8b4-46f6-b5be-7aad36d199ef\",\"type\":\"BasicTickFormatter\"},\"plot\":{\"id\":\"c4165746-77ff-4e8a-8f6a-3b65be401c59\",\"subtype\":\"Figure\",\"type\":\"Plot\"},\"ticker\":{\"id\":\"1d955d2d-e2b2-4d71-8a68-2990451cd05c\",\"type\":\"BasicTicker\"}},\"id\":\"0e128a5e-8785-4db1-9997-4d4f756568fc\",\"type\":\"LinearAxis\"},{\"attributes\":{\"line_color\":{\"value\":\"#e41a1c\"},\"line_width\":{\"value\":2},\"x\":{\"field\":\"x\"},\"y\":{\"field\":\"y\"}},\"id\":\"a6d3dda9-5df4-452a-bf80-2e2ee40fa376\",\"type\":\"Line\"},{\"attributes\":{\"callback\":null,\"column_names\":[\"x\",\"y\"],\"data\":{\"x\":[0,1000,2000,3000,4000,5000,6000,7000,8000,9000,10000,11000,12000,13000,14000,15000,16000,17000,18000,19000,20000,21000,22000,23000,24000,25000,26000,27000,28000,29000,30000,31000,32000,33000,34000,35000,36000,37000,38000,39000,40000,41000,42000,43000,44000,45000,46000,47000,48000,49000,50000,51000,52000,53000,54000,55000,56000,57000,58000,59000,60000,61000,62000,63000,64000,65000,66000,67000,68000,69000,70000,71000,72000,73000,74000,75000,76000,77000,78000,79000,80000,81000,82000,83000,84000,85000,86000,87000,88000,89000,90000,91000,92000,93000,94000,95000,96000,97000,98000,99000,100000,101000,102000,103000,104000,105000,106000,107000,108000,109000,110000,111000,112000,113000,114000,115000,116000,117000,118000,119000,120000,121000,122000,123000,124000,125000,126000,127000,128000,129000,130000,131000,132000,133000,134000,135000,136000,137000,138000,139000,140000,141000,142000,143000,144000,145000,146000,147000,148000,149000,150000,151000,152000,153000,154000,155000,156000,157000,158000,159000,160000,161000,162000,163000,164000,165000,166000,167000,168000,169000,170000,171000,172000,173000,174000,175000,176000,177000,178000,179000,180000,181000,182000,183000,184000,185000,186000,187000,188000,189000,190000,191000,192000,193000,194000,195000,196000,197000,198000,199000,200000,201000,202000,203000,204000,205000,206000,207000,208000,209000,210000,211000,212000,213000,214000,215000,216000,217000,218000,219000,220000,221000,222000,223000,224000,225000,226000,227000,228000,229000,230000,231000,232000,233000,234000,235000,236000,237000,238000,239000,240000,241000,242000,243000,244000,245000,246000,247000,248000,249000,250000,251000,252000,253000,254000,255000,256000,257000,258000,259000,260000,261000,262000,263000,264000,265000,266000,267000,268000,269000,270000,271000,272000,273000,274000,275000,276000,277000,278000,279000,280000,281000,282000,283000,284000,285000,286000,287000,288000,289000,290000,291000,292000,293000,294000,295000,296000,297000,298000,299000,300000,301000,302000,303000,304000,305000,306000,307000,308000,309000,310000,311000,312000,313000,314000,315000,316000,317000,318000,319000,320000,321000,322000,323000,324000,325000,326000,327000,328000,329000,330000,331000,332000,333000,334000,335000,336000,337000,338000,339000,340000,341000,342000,343000,344000,345000,346000,347000,348000,349000,350000,351000,352000,353000,354000,355000,356000,357000,358000,359000,360000,361000,362000,363000,364000,365000,366000,367000,368000,369000,370000,371000,372000,373000,374000,375000,376000,377000,378000,379000,380000,381000,382000,383000,384000,385000,386000,387000,388000,389000,390000,391000,392000,393000,394000,395000,396000,397000,398000,399000,400000,401000,402000,403000,404000,405000,406000,407000,408000,409000,410000,411000,412000,413000,414000,415000,416000,417000,418000,419000,420000,421000,422000,423000,424000,425000,426000,427000,428000,429000,430000,431000,432000,433000,434000,435000,436000,437000,438000,439000,440000,441000,442000,443000,444000,445000,446000,447000,448000,449000,450000,451000,452000,453000,454000,455000,456000,457000,458000,459000,460000,461000,462000,463000,464000,465000,466000,467000,468000,469000,470000,471000,472000,473000,474000,475000,476000,477000,478000,479000,480000,481000,482000,483000,484000,485000,486000,487000,488000,489000,490000,491000,492000,493000,494000,495000,496000,497000,498000,499000,500000,501000,502000,503000,504000,505000,506000,507000,508000,509000,510000,511000,512000,513000,514000,515000,516000,517000,518000,519000,520000,521000,522000,523000,524000,525000,526000,527000,528000,529000,530000,531000,532000,533000,534000,535000,536000,537000,538000,539000,540000,541000,542000,543000,544000,545000,546000,547000,548000,549000,550000,551000,552000,553000,554000,555000,556000,557000,558000,559000,560000,561000,562000,563000,564000,565000,566000,567000,568000,569000,570000,571000,572000,573000,574000,575000,576000,577000,578000,579000,580000,581000,582000,583000,584000,585000,586000,587000,588000,589000,590000,591000,592000,593000,594000,595000,596000,597000,598000,599000,600000],\"y\":{\"__ndarray__\":\"AAAAAAAAAAAAAAAAAAAAAAAAAAAAAAAAAAAAAAAAAAAAAAAAAAAAAAAAAAAAAAAAAAAAAAAAAAAAAAAAAAAAAAAAAAAAAAAAAAAAAAAAAAAAAAAAAAAAAAAAAAAAAAAAAAAAAAAAAAAAAAAAAAAAAAAAAAAAAAAAAAAAAAAAAAAAAAAAAAAAAAAAAAAAAAAAAAAAAAAAAAAAAAAAAAAAAAAAAAAAAAAAAAAAAAAAAAAAAAAAAAAAAAAAAAAAAAAAAAAAAAAAAAAAAAAAAAAAAAAAAAAAAAAAAAAAAAAAAAAAAAAAAAAAAAAAAAAAAAAAAAAAAAAAAAAAAAAAAAAAAAAAAAAAAAAAAAAAAAAAAAAAAAAAAAAAAAAAAAAAAAAAAAAAAAAAAAAAAAAAAAAAAAAAAAAAAAAAAAAAAAAAAAAAAAAAAAAAAAAAAAAAAAAAAAAAAAAAAAAAAAAAAAAAAAAAAAAAAAAAAAAAAAAAAAAAAAAAAAAAAAAAAAAAAAAAAAAAAAAAAAAAAAAAAAAAAL0CBI+adIg/vQIEj5p0mD8OAkPrc1eiP70CBI+adKg/bAPFMsGRrj8OAkPrc1eyP2aCIz0HZrU/vQIEj5p0uD8Vg+TgLYO7P2wDxTLBkb4/AAAAAAAAwD8AAAAAAADAPwAAAAAAAMA/AAAAAAAAwD8AAAAAAADAPwAAAAAAAMA/AAAAAAAAwD8AAAAAAADAPwAAAAAAAMA/AAAAAAAAwD8AAAAAAADAPwAAAAAAAMA/2PVeoK8uvz+EBeyVUeC9PzEVeYvzkbw/3SQGgZVDuz+KNJN2N/W5PzZEIGzZprg/4lOtYXtYtz+PYzpXHQq2Pztzx0y/u7Q/6IJUQmFtsz+UkuE3Ax+yP0Cibi2l0LA/2mP3RY4Erz8zgxEx0mesP4uiKxwWy6k/5MFFB1oupz894V/ynZGkP5YAet3h9KE/3T8okUuwnj+Pflxn03aZP0G9kD1bPZQ/5PeJJ8YHjj9IdfLT1ZSDP1bltQDLQ3I/AAAAAAAAAAAAAAAAAAAAAAAAAAAAAAAAzsCTth8viT/OwJO2Hy+ZP5rQ7shX46I/zsCTth8vqT8CsTik53qvP5rQ7shX47I/tEjBvzsJtj/OwJO2Hy+5P+c4Zq0DVbw/ArE4pOd6vz+OlIXNZVDBP5rQ7shX48I/pwxYxEl2xD+0SMG/OwnGP8CEKrstnMc/zsCTth8vyT/b/PyxEcLKP/c77IaT78s/aAaknFSZzD/a0FuyFUPNP0ubE8jW7M0/vGXL3ZeWzj8uMIPzWEDPP5/6Ogka6s8/AAAAAAAA0D8AAAAAAADQPwAAAAAAANA/AAAAAAAA0D8AAAAAAADQPwAAAAAAANA/AAAAAAAA0D8AAAAAAADQPwAAAAAAANA/AAAAAAAA0D8AAAAAAADQPwAAAAAAANA/AAAAAAAA0D8AAAAAAADQPwAAAAAAANA/AAAAAAAA0D8AAAAAAADQPwAAAAAAANA/AAAAAAAA0D8AAAAAAADQPwAAAAAAANA/AAAAAAAA0D8AAAAAAADQPwAAAAAAANA/AAAAAAAA0D8AAAAAAADQPwAAAAAAANA/AAAAAAAA0D8AAAAAAADQPwAAAAAAANA/AAAAAAAA0D8AAAAAAADQPwAAAAAAANA/AAAAAAAA0D8AAAAAAADQPwAAAAAAANA/AAAAAAAA0D8AAAAAAADQPwAAAAAAANA/AAAAAAAA0D8AAAAAAADQPwAAAAAAANA/AAAAAAAA0D8AAAAAAADQPwAAAAAAANA/AAAAAAAA0D8AAAAAAADQP6z8d5ZK59A/rJf0MMRY0j+qMnHLPcrTP6nN7WW3O9U/p2hqADGt1j8AAAAAAADYPwAAAAAAANg/AAAAAAAA2D8AAAAAAADYPwAAAAAAANg/AAAAAAAA2D8AAAAAAADYPwAAAAAAANg/AAAAAAAA2D8AAAAAAADYPwAAAAAAANg/AAAAAAAA2D8AAAAAAADYPwAAAAAAANg/AAAAAAAA2D8AAAAAAADYPwAAAAAAANg/AAAAAAAA2D8AAAAAAADYPwAAAAAAANg/AAAAAAAA2D8AAAAAAADYPwAAAAAAANg/AAAAAAAA2D8AAAAAAADYPwAAAAAAANg/AAAAAAAA2D8AAAAAAADYPwAAAAAAANg/AAAAAAAA2D8AAAAAAADYPwAAAAAAANg/AAAAAAAA2D8AAAAAAADYPwAAAAAAANg/AAAAAAAA2D8AAAAAAADYPwAAAAAAANg/AAAAAAAA2D8AAAAAAADYPwAAAAAAANg/AAAAAAAA2D8AAAAAAADYPwAAAAAAANg/AAAAAAAA2D8AAAAAAADYPwAAAAAAANg/AAAAAAAA2D8AAAAAAADYPwAAAAAAANg/AAAAAAAA2D8AAAAAAADYPwAAAAAAANg/AAAAAAAA2D8AAAAAAADYPwAAAAAAANg/AAAAAAAA2D8AAAAAAADYPwAAAAAAANg/AAAAAAAA2D8AAAAAAADYPwAAAAAAANg/AAAAAAAA2D8AAAAAAADYPwAAAAAAANg/AAAAAAAA2D8AAAAAAADYPwAAAAAAANg/AAAAAAAA2D8AAAAAAADYPwAAAAAAANg/1HV78WuV2T+n6/bi1yrbP3thctRDwNw/Ttftxa9V3j8iTWm3G+vfP3thctRDwOA/ZBwwzfmK4T9O1+3Fr1XiPziSq75lIOM/ptn89MXB4z+a64f8PvHjP5CNOTtzx+M/hi/reaed4z970Zy423PjP3yBvro8P+M/ZsUhOKXr4j9SCYW1DZjiP8f7WIuiK+I/qOFtRz+u4T+Jx4ID3DDhP2mtl794s+A/SpOsexU24D9V8oJvZHHfPxe+rOeddt4/14nWX9d73T+ZVQDYEIHcP1ohKlBKhts/HO1TyIOL2j/euH1AvZDZP5+Ep7j2ldg/YFDRMDCb1z8hHPuoaaDWP+PnJCGjpdU/o7NOmdyq1D9lf3gRFrDTPzNP7Vu+O9M/rQqRDhjn0j8nxjTBcZLSP6CB2HPLPdI/D3/qYJco0j+d9iqWiCfSPwE/6RdWPNI/wV4dZdYj0z+BflGyVgvUP0Gehf/W8tQ/Ar65TFfa1T/C3e2Z18HWP9uSO5UgUtc/48L1p4CT1z/s8q+64NTXP/Qias1AFtg//FIk4KBX2D8Dg97yAJnYPwuzmAVh2tg/E+NSGMEb2T+SnZ5BlinZP33hAb/+1dg/aCVlPGeC2D9ilwKKQujXP/pxnU3bZdc/5bUAy0MS1z/Q+WNIrL7WP7w9x8UUa9Y/lr1oTtzt1T9sRS9JrUbVP0PN9UN+n9Q/GVW8Pk/40z/v3II5IFHTP8VkSTTxqdI/m+wPL8IC0j9ydNYpk1vRP0j8nCRktNA/HYRjHzUN0D/oF1Q0DMzOP5Un4Smufc0/QTduH1AvzD/uRvsU8uDKP5pWiAqUksk/RmYVADZEyD/zdaL11/XGP56FL+t5p8U/TJW84BtZxD/RMDCbm6nCP35AvZA9W8E/KlBKht8MwD+tv673An29PwbfyOJG4Lo/X/7izYpDuD/UDhnyUqu4P8H3gWinFLk/reDq3vt9uT+byVNVUOe5P4eyvMukULo/dJslQvm5uj9hhI64TSO7P05t9y6ijLs/O1Zgpfb1uz8nP8kbS1+8P0uC03AdOr4/t+Lu4ncKwD9JBHQN4ffAP9sl+TdK5cE/bEd+YrPSwj/+aAONHMDDP5CKiLeFrcQ/IqwN4u6axT+2WEUsW0HGP6eNXBbrUsY/mcJzAHtkxj+K94rqCnbGP3wsotSah8Y/bmG5viqZxj9fltCouqrGP1DL55JKvMY/QgD/fNrNxj80NRZnat/GPyVqLVH68MY/F59EO4oCxz8I1FslGhTHP/oIcw+qJcc/drBKeRKexj9MOBF04/bFPyPA1260T8U/+UeeaYWoxD/Pz2RkVgHEP6VXK18nWsM/fN/xWfiywj9SZ7hUyQvCPyjvfk+aZME//nZFSmu9wD/U/gtFPBbAP48jFntC7cA/bnoLtMHtwT9N0QDtQO7CPywo9iXA7sM/DH/rXj/vxD/r1eCXvu/FP8os1tA98MY/qoPLCb3wxz+J2sBCPPHIP2gxtnu78ck/SIirtDryyj8n36DtufLLPwY2liY588w/5oyLX7jzzT/F44CYN/TOP6Q6dtG29M8/yv7wIixgzz+ghrcd/bjOP3YOfhjOEc4/TJZEE59qzT8iHgsOcMPMP/il0QhBHMw/zy2YAxJ1yz+ltV7+4s3KP3w9JfmzJso/dHO0TsAyyj8MFodz7V/KP6S4WZgajco/PFssvUe6yj/U/f7hdOfKP2yg0QaiFMs/BEOkK89Byz+d5XZQ/G7LPzWISXUpnMs/zSocmlbJyz9lze6+g/bLP/1vweOwI8w/lBKUCN5QzD8ttWYtC37MP8ZXOVI4q8w/fj9+0aEkzT9AWor7/fjNPwJ1liVazc4/xI+iT7ahzz9AlaG+C6PPPxcdaLnc+84/7aQutK1Uzj/DLPWufq3NP5m0u6lPBs0/cDyCpCBfzD9GxEif8bfLPxxMD5rCEMs/8tPVlJNpyj/IW5yPZMLJP57jYoo1G8k/dWsphQZ0yD9L8+9/18zHPyJ7tnqoJcc/+AJ9dXl+xj/OikNwStfFP6QSCmsbMMU/eprQZeyIxD9QIpdgveHDPyeqXVuOOsM//DEkVl+Twj/TuepQMOzBP6lBsUsBRcE/gMl3RtKdwD////////+/PwAAAAAAAMA/AAAAAAAAwD8AAAAAAADAPwAAAAAAAMA/////////vz8AAAAAAADAPwAAAAAAAMA/AAAAAAAAwD8AAAAAAADAPwAAAAAAAMA/AAAAAAAAwD8AAAAAAADAPwAAAAAAAMA/AAAAAAAAwD8AAAAAAADAPwAAAAAAAMA/AAAAAAAAwD8AAAAAAADAPwAAAAAAAMA/AAAAAAAAwD8AAAAAAADAPwAAAAAAAMA/AAAAAAAAwD8AAAAAAADAPwAAAAAAAMA/AAAAAAAAwD8AAAAAAADAPwAAAAAAAMA/AAAAAAAAwD8AAAAAAADAPwAAAAAAAMA/AAAAAAAAwD8AAAAAAADAPwAAAAAAAMA/AAAAAAAAwD8AAAAAAADAPwAAAAAAAMA/AAAAAAAAwD////////+/PwAAAAAAAMA/AAAAAAAAwD8AAAAAAADAPwAAAAAAAMA/AAAAAAAAwD8AAAAAAADAPysfAEt4dME/RjhpLxX6wj9iUdITsn/EP3xqO/hOBcY/ECkyTGsexz8BymEr2fzHP/JqkQpH28g/5AvB6bS5yT+OzlfZOuDKP5EpR7kZg8w/6fbMak8vzT+nwBlhYqXMP2SKZld1G8w/IlSzTYiRyz/eHQBEmwfLP53nTDqufco/WrGZMMHzyT8Ye+Ym1GnJP9VEMx3n38g/kg6AE/pVyD9Q2MwJDczHPw6iGQAgQsc/zGtm9jK4xj+INbPsRS7GP0b//+JYpMU/BMlM2WsaxT/BkpnPfpDEP39c5sWRBsQ/r8QIyo2Vwz91oW2lck3DP0spNKBDpsI/IbH6mhT/wT/3OMGV5VfBP87Ah5C2sMA/pEhOi4cJwD8AAAAAAADAP////////78//v//////vz////////+/PwAAAAAAAMA/////////vz8AAAAAAADAP////////78/////////vz8AAAAAAADAPwAAAAAAAMA/AAAAAAAAwD8AAAAAAADAPwAAAAAAAMA/AAAAAAAAwD8AAAAAAADAPwAAAAAAAMA/AAAAAAAAwD8AAAAAAADAPwAAAAAAAMA/AAAAAAAAwD9GZY3NsjK/P/J0GsNU5L0/noSnuPaVvD9LlDSumEe7P/ejwaM6+bk/pLNOmdyquD9Qw9uOfly3P/zSaIQgDrY/qeL1ecK/tD9V8oJvZHGzPwICEGUGI7I/rhGdWqjUsD+1QlSglAyvPw5ibovYb6w/ZoGIdhzTqT+/oKJhYDanPxjAvEykmaQ/cd/WN+j8oT+T/eFFWMCeP0U8Fhzghpk/93pK8mdNlD9Rc/2Q3yeOP7TwZT3vtIM/Ltyc0/2Dcj/NIrBZfvxKP3epDgdVe4A/wVCCKOJGjz8F/PqkNwmXP0QWLK6EDKM/LQNj47nPqj8L+EyMd0mxP4Bu6CYSK7U/9OSDwawMuT9pWx9cR+68P+5oXfvwZ8A/KCSrSL5Ywj9k3/iVi0nEP56aRuNYOsY/2FWUMCYryD8SEeJ98xvKP0zML8vADMw/hod9GI79zT/Aq2MgyqbOPyu9Wvk60c4/AUUh9Asqzj/YzOfu3ILNP61Urumt28w/hNx05H40zD9aZDvfT43LPzDsAdog5so/BnTI1PE+yj/c+47PwpfJP7ODVcqT8Mg/iQscxWRJyD8=\",\"dtype\":\"float64\",\"shape\":[601]}}},\"id\":\"00bd2d6e-0a22-4dcf-a6e3-d47e3aaa4a69\",\"type\":\"ColumnDataSource\"},{\"attributes\":{\"data_source\":{\"id\":\"37a905ab-83a2-43e6-bf8d-f97a06a83a73\",\"type\":\"ColumnDataSource\"},\"glyph\":{\"id\":\"a99bdebd-c6fa-4546-86ac-d22e03e55c19\",\"type\":\"Line\"},\"hover_glyph\":null,\"nonselection_glyph\":{\"id\":\"aebd3981-8c0b-4460-8e06-7e6a7c261d0b\",\"type\":\"Line\"},\"selection_glyph\":null},\"id\":\"dee63e0d-ce61-4470-b1c9-5be473dacd2c\",\"type\":\"GlyphRenderer\"},{\"attributes\":{\"line_alpha\":{\"value\":0.1},\"line_color\":{\"value\":\"#1f77b4\"},\"line_width\":{\"value\":2},\"x\":{\"field\":\"x\"},\"y\":{\"field\":\"y\"}},\"id\":\"aebd3981-8c0b-4460-8e06-7e6a7c261d0b\",\"type\":\"Line\"},{\"attributes\":{\"label\":{\"value\":\"0.5 Alpha 1 NScaler\"},\"renderers\":[{\"id\":\"5ddfa5ee-85d3-4a22-9ce8-6eb969ec5ef1\",\"type\":\"GlyphRenderer\"}]},\"id\":\"be803504-5457-44b5-8df1-821016219833\",\"type\":\"LegendItem\"},{\"attributes\":{\"data_source\":{\"id\":\"e68d41a3-732d-4b38-a45c-03f18bf9a97f\",\"type\":\"ColumnDataSource\"},\"glyph\":{\"id\":\"a6d3dda9-5df4-452a-bf80-2e2ee40fa376\",\"type\":\"Line\"},\"hover_glyph\":null,\"nonselection_glyph\":{\"id\":\"41c5c11a-e9ad-4100-8b57-f3a34c92925a\",\"type\":\"Line\"},\"selection_glyph\":null},\"id\":\"5ddfa5ee-85d3-4a22-9ce8-6eb969ec5ef1\",\"type\":\"GlyphRenderer\"},{\"attributes\":{\"label\":{\"value\":\"0.7 Alpha 1 NScaler\"},\"renderers\":[{\"id\":\"9d7858ba-bcb9-415f-b9d6-bb72d7cf51dd\",\"type\":\"GlyphRenderer\"}]},\"id\":\"d141f4f5-00d5-4040-ab33-6f95c532ee5a\",\"type\":\"LegendItem\"},{\"attributes\":{\"data_source\":{\"id\":\"00bd2d6e-0a22-4dcf-a6e3-d47e3aaa4a69\",\"type\":\"ColumnDataSource\"},\"glyph\":{\"id\":\"04728241-9ada-4eeb-9c48-4b3d99a53683\",\"type\":\"Line\"},\"hover_glyph\":null,\"nonselection_glyph\":{\"id\":\"7c2a8a2b-b40b-438d-a7d9-063761c0dfaf\",\"type\":\"Line\"},\"selection_glyph\":null},\"id\":\"9d7858ba-bcb9-415f-b9d6-bb72d7cf51dd\",\"type\":\"GlyphRenderer\"},{\"attributes\":{\"line_alpha\":{\"value\":0.1},\"line_color\":{\"value\":\"#1f77b4\"},\"line_width\":{\"value\":2},\"x\":{\"field\":\"x\"},\"y\":{\"field\":\"y\"}},\"id\":\"41c5c11a-e9ad-4100-8b57-f3a34c92925a\",\"type\":\"Line\"},{\"attributes\":{\"line_alpha\":{\"value\":0.1},\"line_color\":{\"value\":\"#1f77b4\"},\"line_width\":{\"value\":2},\"x\":{\"field\":\"x\"},\"y\":{\"field\":\"y\"}},\"id\":\"721ab013-581b-4d0c-bb1c-14518a8bccc8\",\"type\":\"Line\"},{\"attributes\":{\"line_color\":{\"value\":\"#377eb8\"},\"line_width\":{\"value\":2},\"x\":{\"field\":\"x\"},\"y\":{\"field\":\"y\"}},\"id\":\"a99bdebd-c6fa-4546-86ac-d22e03e55c19\",\"type\":\"Line\"},{\"attributes\":{\"callback\":null,\"column_names\":[\"x\",\"y\"],\"data\":{\"x\":[0,1000,2000,3000,4000,5000,6000,7000,8000,9000,10000,11000,12000,13000,14000,15000,16000,17000,18000,19000,20000,21000,22000,23000,24000,25000,26000,27000,28000,29000,30000,31000,32000,33000,34000,35000,36000,37000,38000,39000,40000,41000,42000,43000,44000,45000,46000,47000,48000,49000,50000,51000,52000,53000,54000,55000,56000,57000,58000,59000,60000,61000,62000,63000,64000,65000,66000,67000,68000,69000,70000,71000,72000,73000,74000,75000,76000,77000,78000,79000,80000,81000,82000,83000,84000,85000,86000,87000,88000,89000,90000,91000,92000,93000,94000,95000,96000,97000,98000,99000,100000,101000,102000,103000,104000,105000,106000,107000,108000,109000,110000,111000,112000,113000,114000,115000,116000,117000,118000,119000,120000,121000,122000,123000,124000,125000,126000,127000,128000,129000,130000,131000,132000,133000,134000,135000,136000,137000,138000,139000,140000,141000,142000,143000,144000,145000,146000,147000,148000,149000,150000,151000,152000,153000,154000,155000,156000,157000,158000,159000,160000,161000,162000,163000,164000,165000,166000,167000,168000,169000,170000,171000,172000,173000,174000,175000,176000,177000,178000,179000,180000,181000,182000,183000,184000,185000,186000,187000,188000,189000,190000,191000,192000,193000,194000,195000,196000,197000,198000,199000,200000,201000,202000,203000,204000,205000,206000,207000,208000,209000,210000,211000,212000,213000,214000,215000,216000,217000,218000,219000,220000,221000,222000,223000,224000,225000,226000,227000,228000,229000,230000,231000,232000,233000,234000,235000,236000,237000,238000,239000,240000,241000,242000,243000,244000,245000,246000,247000,248000,249000,250000,251000,252000,253000,254000,255000,256000,257000,258000,259000,260000,261000,262000,263000,264000,265000,266000,267000,268000,269000,270000,271000,272000,273000,274000,275000,276000,277000,278000,279000,280000,281000,282000,283000,284000,285000,286000,287000,288000,289000,290000,291000,292000,293000,294000,295000,296000,297000,298000,299000,300000,301000,302000,303000,304000,305000,306000,307000,308000,309000,310000,311000,312000,313000,314000,315000,316000,317000,318000,319000,320000,321000,322000,323000,324000,325000,326000,327000,328000,329000,330000,331000,332000,333000,334000,335000,336000,337000,338000,339000,340000,341000,342000,343000,344000,345000,346000,347000,348000,349000,350000,351000,352000,353000,354000,355000,356000,357000,358000,359000,360000,361000,362000,363000,364000,365000,366000,367000,368000,369000,370000,371000,372000,373000,374000,375000,376000,377000,378000,379000,380000,381000,382000,383000,384000,385000,386000,387000,388000,389000,390000,391000,392000,393000,394000,395000,396000,397000,398000,399000,400000,401000,402000,403000,404000,405000,406000,407000,408000,409000,410000,411000,412000,413000,414000,415000,416000,417000,418000,419000,420000,421000,422000,423000,424000,425000,426000,427000,428000,429000,430000,431000,432000,433000,434000,435000,436000,437000,438000,439000,440000,441000,442000,443000,444000,445000,446000,447000,448000,449000,450000,451000,452000,453000,454000,455000,456000,457000,458000,459000,460000,461000,462000,463000,464000,465000,466000,467000,468000,469000,470000,471000,472000,473000,474000,475000,476000,477000,478000,479000,480000,481000,482000,483000,484000,485000,486000,487000,488000,489000,490000,491000,492000,493000,494000,495000,496000,497000,498000,499000,500000,501000,502000,503000,504000,505000,506000,507000,508000,509000,510000,511000,512000,513000,514000,515000,516000,517000,518000,519000,520000,521000,522000,523000,524000,525000,526000,527000,528000,529000,530000,531000,532000,533000,534000,535000,536000,537000,538000,539000,540000,541000,542000,543000,544000,545000,546000,547000,548000,549000,550000,551000,552000,553000,554000,555000,556000,557000,558000,559000,560000,561000,562000,563000,564000,565000,566000,567000,568000,569000,570000,571000,572000,573000,574000,575000,576000,577000,578000,579000,580000,581000,582000,583000,584000,585000,586000,587000,588000,589000,590000,591000,592000,593000,594000,595000,596000,597000,598000,599000,600000],\"y\":{\"__ndarray__\":\"AAAAAAAAAAAAAAAAAAAAAAAAAAAAAAAAAAAAAAAAAAAAAAAAAAAAAAAAAAAAAAAAAAAAAAAAAAAAAAAAAAAAAAAAAAAAAAAAAAAAAAAAAAAAAAAAAAAAAAAAAAAAAAAAAAAAAAAAAAAAAAAAAAAAAAAAAAAAAAAAAAAAAAAAAAAAAAAAAAAAAAAAAAAAAAAAAAAAAAAAAAAAAAAAAAAAAAAAAAAAAAAAAAAAAAAAAAAAAAAAAAAAAAAAAAAAAAAAAAAAAAAAAAAAAAAAAAAAAAAAAAAAAAAAAAAAAAAAAAAAAAAAAAAAAAAAAAAAAAAAAAAAAAAAAAAAAAAAAAAAAAAAAAAAAAAAAAAAAAAAAAAAAAAAAAAAAAAAAAAAAAAAAAAAAAAAAAAAAAAAAAAAAAAAAAAAAAAAAAAAAAAAAAAAAAAAAAAAAAAAAAAAAAAAAAAAAAAAAAAAAAAAAAAAAAAAAAAAAAAAAAAAAAAAAAAAAAAAAAAAAAAAAAAAAAAAAAAAAAAAAAAAAAAAAAAAAAAAAAAAAAAAAAAAAAAAAAAAAAAAAAAAAAAAAAAAAAAAAAAAAAAAAAAAAAAAAAAAAAAAAAAAAAAAAAAAAAAAAAAAAAAAAAAAAAAAAAAAAAAAAAAAAAAAAAAAAAAAAAAAAAAAAAAAAAAAAAAAAAAAAAAAAAAAAAAAAAAAAAAAAAAAAAAAAAAAAAAAAAAAAAAAAAAAAAAAAAAAAAAAAAAAAAAAAAAAAAAAAAAAAAAAAAAAAAAAAAAAAAAAAAAAAAAAAAAAAAAAAAAAAAAAAAAAAAAAAAAAAAAAAAAAAAAAAAAAAAAAAAAAAAAAAAAAAAAAAAAAAAAAAAAAAAAAAAAAAAAAAAAAAAAAAAAAAAAAAAAAAAAAAAAAAAAAAAAAAAAAAAAAAAAAAAAAAAAAAAAAAAAAAAAAAAAAAAAAAAAAAAAAAAAAAAAAAAAAAAAAAAAAAAAAAAAAAAAAAAAAAAAAAAAAAAAAAAAAAAAAAAAAAAAAAAAAAAAAAAAAAAAAAAAAAAAAAAAAAAAAqZ5TxjEQhj+pnlPGMRCWP/62vlQljKA/qZ5TxjEQpj9Thug3PpSrP/62vlQljLA/1CqJjStOsz+pnlPGMRC2P34SHv830rg/U4boNz6Uuz8o+rJwRFa+PwAAAAAAAMA/AAAAAAAAwD8AAAAAAADAPwAAAAAAAMA/AAAAAAAAwD8AAAAAAADAPwAAAAAAAMA/AAAAAAAAwD8AAAAAAADAPwAAAAAAAMA/AAAAAAAAwD8AAAAAAADAPwAAAAAAAMA/AAAAAAAAwD8AAAAAAADAPwAAAAAAAMA/AAAAAAAAwD8AAAAAAADAPwAAAAAAAMA/AAAAAAAAwD8AAAAAAADAPwAAAAAAAMA/AAAAAAAAwD8AAAAAAADAPwAAAAAAAMA/AAAAAAAAwD8AAAAAAADAP////////78/AAAAAAAAwD8AAAAAAADAPwAAAAAAAMA/AAAAAAAAwD////////+/PwAAAAAAAMA/AAAAAAAAwD////////+/PwAAAAAAAMA/////////vz8AAAAAAADAPwAAAAAAAMA/AAAAAAAAwD8AAAAAAADAPwAAAAAAAMA/////////vz8AAAAAAADAPwAAAAAAAMA/////////vz8AAAAAAADAPwAAAAAAAMA/AAAAAAAAwD8AAAAAAADAPwAAAAAAAMA/AAAAAAAAwD8AAAAAAADAPwAAAAAAAMA/AAAAAAAAwD8AAAAAAADAPwAAAAAAAMA/AAAAAAAAwD8AAAAAAADAP////////78/AAAAAAAAwD8T8xJxqs/APzjZOFP/bsI/Xb9eNVQOxD+CpYQXqa3FP6iLqvn9TMc/zXHQ21LsyD/yV/a9p4vKPxg+HKD8Ksw/PSRCglHKzT9iCmhkpmnPPwAAAAAAANA/AAAAAAAA0D8AAAAAAADQPwAAAAAAANA/AAAAAAAA0D8AAAAAAADQPwAAAAAAANA/AAAAAAAA0D8AAAAAAADQPwAAAAAAANA/AAAAAAAA0D8AAAAAAADQPwAAAAAAANA/AAAAAAAA0D8AAAAAAADQPwAAAAAAANA/AAAAAAAA0D8AAAAAAADQPwAAAAAAANA/AAAAAAAA0D8AAAAAAADQPwAAAAAAANA/AAAAAAAA0D8AAAAAAADQPwAAAAAAANA/AAAAAAAA0D8AAAAAAADQPwAAAAAAANA/AAAAAAAA0D8AAAAAAADQPwAAAAAAANA/AAAAAAAA0D8AAAAAAADQPwAAAAAAANA/AAAAAAAA0D8AAAAAAADQPwAAAAAAANA/AAAAAAAA0D8AAAAAAADQP8GkPahSbNA/Q+64+PdE0T/GNzRJnR3SP0iBr5lC9tI/ysoq6ufO0z9NFKY6jafUP89dIYsygNU/Uaec29dY1j/U8BcsfTHXP1Y6k3wiCtg/2IMOzcfi2D9azYkdbbvZP90WBW4SlNo/YGCAvrds2z/iqfsOXUXcP2Tzdl8CHt0/5jzyr6f23T9phm0ATc/eP6wRsHKYA98/H5IuPskU3z+ouX7I7xPfP5T94UVYwN4/fkFFw8Bs3j9qhahAKRneP1XJC76Rxd0/QA1vO/px3T8rUdK4Yh7dPxaVNTbLytw/AdmYszN33D/sHPwwnCPcP9hgX64E0Ns/wqTCK2182z+u6CWp1SjbP5gsiSY+1do/hHDso6aB2j9vtE8hDy7aP1r4sp532tk/RTwWHOCG2T8wgHmZSDPZPxvE3Bax39g/BghAlBmM2D/yS6MRgjjYP3eAgSovL9g/727uitDA2D9oXVvrcVLZP99LyEsT5Nk/WDo1rLR12j/QKKIMVgfbP0gXD233mNs/wQV8zZgq3D859OgtOrzcP7HiVY7bTd0/KtHC7nzf3T+ivy9PHnHePxqunK+/At8/kpwJEGGU3z8AAAAAAADgPwAAAAAAAOA/AAAAAAAA4D8AAAAAAADgPwAAAAAAAOA/AAAAAAAA4D8AAAAAAADgPwAAAAAAAOA/AAAAAAAA4D8AAAAAAADgPwAAAAAAAOA/AAAAAAAA4D8AAAAAAADgPwAAAAAAAOA/AAAAAAAA4D8AAAAAAADgP6UutK1Urt8/kHIXK71a3z97tnqoJQffP2b63SWOs94/UT5Bo/Zf3j88gqQgXwzePyjGB57HuN0/EwprGzBl3T/+Tc6YmBHdP+mRMRYBvtw/1NWUk2lq3D+/GfgQ0hbcP6pdW446w9s/laG+C6Nv2z+A5SGJCxzbP2wphQZ0yNo/Vm3og9x02j9CsUsBRSHaPy31rn6tzdk/GDkS/BV62T8DfXV5fibZP+7A2Pbm0tg/2QQ8dE9/2D/ESJ/xtyvYP+q6GrAAfdg/nip9FRCD2T9Smt96H4naPwYKQuAuj9s/unmkRT6V3D9u6QarTZvdPyJZaRBdod4/1sjLdWyn3z8AAAAAAADgPwAAAAAAAOA/AAAAAAAA4D8AAAAAAADgPwAAAAAAAOA/AAAAAAAA4D8AAAAAAADgPwAAAAAAAOA/AAAAAAAA4D8AAAAAAADgPwAAAAAAAOA/AAAAAAAA4D8AAAAAAADgPwAAAAAAAOA/AAAAAAAA4D8AAAAAAADgPwAAAAAAAOA/AAAAAAAA4D8AAAAAAADgPwAAAAAAAOA/AAAAAAAA4D8AAAAAAADgPwAAAAAAAOA/AAAAAAAA4D8AAAAAAADgPwAAAAAAAOA/AAAAAAAA4D8AAAAAAADgPwAAAAAAAOA/AAAAAAAA4D8AAAAAAADgPwAAAAAAAOA/AAAAAAAA4D8AAAAAAADgPwAAAAAAAOA/AAAAAAAA4D8AAAAAAADgP8gk0Dx1198/s2gzut2D3z+erJY3RjDfP4nw+bSu3N4/dDRdMheJ3j9feMCvfzXeP62MuYdUL94/XXFIupV23j8NVtfs1r3eP706Zh8YBd8/bR/1UVlM3z8eBISEmpPfP83oErfb2t8/v+bQdA4R4D8XWRgOrzTgP2/LX6dPWOA/xz2nQPB74D8fsO7ZkJ/gP3ciNnMxw+A/nReXRZvR4D+TuUiEz6fgP4hb+sIDfuA/fv2rAThU4D90n11AbCrgP2lBD3+gAOA/gPL+Eixc4D+8gL96v7ngP/kOgOJSF+E/NZ1ASuZ04T9xKwGyedLhP665wRkNMOI/6keCgaCN4j8m1kLpM+viP2JkA1HHSOM/nvLDuFqm4z8AAAAAAADkPwAAAAAAAOQ/7keDR3Xy4z/k6TSGqcjjP9mL5sTdnuM/zy2YAxJ14z/Ez0lCRkvjP7px+4B6IeM/sBOtv6734j+ltV7+4s3iP5tXED0XpOI/kPnBe0t64j+Gm3O6f1DiP3s9JfmzJuI/cd/WN+j84T9mgYh2HNPhP1wjOrVQqeE/UsXr84R/4T9HZ50yuVXhPz0JT3HtK+E/MqsAsCEC4T8oTbLuVdjgPx3vYy2KruA/E5EVbL6E4D8IM8eq8lrgP/7UeOkmMeA/9HYqKFsH4D8AAAAAAADgPwAAAAAAAOA/AAAAAAAA4D8AAAAAAADgPwAAAAAAAOA/cY5wB8a23z9c0tOELmPfP0cWNwKXD98/Mlqaf/+73j8dnv38Z2jePwjiYHrQFN4/9CXE9zjB3T/eaSd1oW3dP8mtivIJGt0/tfHtb3LG3D+gNVHt2nLcP4t5tGpDH9w/dr0X6KvL2z9hAXtlFHjbP0xF3uJ8JNs/N4lBYOXQ2j8izaTdTX3aPw4RCFu2Kdo/+FRr2B7W2T9YScJKcN3ZPxXtQeVuoto/0pDBf21n2z+PNEEabCzcP0zYwLRq8dw/jo+BhtfV3T9g752jbe7ePwAAAAAAAOA/AAAAAAAA4D8AAAAAAADgPwAAAAAAAOA/AAAAAAAA4D8AAAAAAADgPwAAAAAAAOA/AAAAAAAA4D8AAAAAAADgPwAAAAAAAOA/AAAAAAAA4D8AAAAAAADgPwAAAAAAAOA/AAAAAAAA4D8AAAAAAADgPwAAAAAAAOA/AAAAAAAA4D8AAAAAAADgPwAAAAAAAOA/AAAAAAAA4D8AAAAAAADgPwAAAAAAAOA/AAAAAAAA4D+fAM4vCEDgPzJoirogieA/xs9GRTnS4D9aNwPQURvhP+6ev1pqZOE/ggZ85YKt4T8Vbjhwm/bhP6nV9PqzP+I/PD2xhcyI4j/QpG0Q5dHiP2QMKpv9GuM/+HPmJRZk4z+L26KwLq3jP1WOmEVCR+Q/bJZyFPah5D+i4ase8fLkP9gs5SjsQ+U/DngeM+eU5T9Ew1c94uXlP3oOkUfdNuY/sFnKUdiH5j/mpANc09jmPxzwPGbOKec/WKHpo5565z8Mf86hfH7nPw7bwzpKUOc/7sDY9ubS5j/Ppu2yg1XmP6+MAm8g2OU/kHIXK71a5T9xWCznWd3kP1E+QaP2X+Q/MiRWX5Pi4z8SCmsbMGXjP/Lvf9fM5+I/1NWUk2lq4j+1u6lPBu3hP9kzUZpljuE/QD6Lc4dO4T+oSMVMqQ7hPxBT/yXLzuA/d105/+yO4D/fZ3PYDk/gP0hyrbEwD+A/XvnOFaWe3z8tDkPI6B7fP/wit3osn94/yzcrLXAf3j8zVjIi+VPePzgUEu9Qed8/hnleqBBz4D+SthxQiC/hP5/z2vf/6+E/qzCZn3eo4j8U3ud+mQzjP5CYMkjAYeM/ClN9Eee24z+FDcjaDQzkPwDIEqQ0YeQ/fIJdbVu25D/3PKg2ggvlP3H38v+oYOU/7bE9yc+15T/vcaSYoOjlP37K6EeE+eU/DSMt92cK5j8bB+6ltublPxCpn+TqvOU/BktRIx+T5T/87AJiU2nlP/GOtKCHP+U/5zBm37sV5T/c0hce8OvkP9J0yVwkwuQ/xxZ7m1iY5D+9uCzajG7kP7Ja3hjBROQ/qPyPV/Ua5D8AAAAAAADkPwAAAAAAAOQ/AAAAAAAA5D8AAAAAAADkPwAAAAAAAOQ/AAAAAAAA5D8AAAAAAADkPwAAAAAAAOQ/AAAAAAAA5D8AAAAAAADkPwAAAAAAAOQ/AAAAAAAA5D8AAAAAAADkPwAAAAAAAOQ/AAAAAAAA5D8AAAAAAADkPwAAAAAAAOQ/AAAAAAAA5D8AAAAAAADkPwAAAAAAAOQ/AAAAAAAA5D8AAAAAAADkPwAAAAAAAOQ/AAAAAAAA5D8AAAAAAADkPwAAAAAAAOQ/AAAAAAAA5D8AAAAAAADkPwAAAAAAAOQ/AAAAAAAA5D8AAAAAAADkPwAAAAAAAOQ/AAAAAAAA5D8AAAAAAADkPwAAAAAAAOQ/AAAAAAAA5D8AAAAAAADkPwAAAAAAAOQ/AAAAAAAA5D8AAAAAAADkPwAAAAAAAOQ/AAAAAAAA5D8AAAAAAADkPwAAAAAAAOQ/AAAAAAAA5D8=\",\"dtype\":\"float64\",\"shape\":[601]}}},\"id\":\"37a905ab-83a2-43e6-bf8d-f97a06a83a73\",\"type\":\"ColumnDataSource\"},{\"attributes\":{\"axis_label\":\"Episode Reward\",\"formatter\":{\"id\":\"7514023d-ab89-4eb0-a10d-8e99afb3c554\",\"type\":\"BasicTickFormatter\"},\"plot\":{\"id\":\"c4165746-77ff-4e8a-8f6a-3b65be401c59\",\"subtype\":\"Figure\",\"type\":\"Plot\"},\"ticker\":{\"id\":\"1aaba754-5ef2-49f8-8a9e-c7b8d071323b\",\"type\":\"BasicTicker\"}},\"id\":\"3389cd58-ddd0-4cdc-b263-6e7c989bef9e\",\"type\":\"LinearAxis\"}],\"root_ids\":[\"c4165746-77ff-4e8a-8f6a-3b65be401c59\"]},\"title\":\"Bokeh Application\",\"version\":\"0.12.4\"}};\n",
       "            var render_items = [{\"docid\":\"e2d51803-2614-4e4a-bf71-5b4ce0698f63\",\"elementid\":\"95d9ec36-9f7b-4ec9-bca6-2959ce455dc5\",\"modelid\":\"c4165746-77ff-4e8a-8f6a-3b65be401c59\"}];\n",
       "            \n",
       "            Bokeh.embed.embed_items(docs_json, render_items);\n",
       "          };\n",
       "          if (document.readyState != \"loading\") fn();\n",
       "          else document.addEventListener(\"DOMContentLoaded\", fn);\n",
       "        })();\n",
       "      },\n",
       "      function(Bokeh) {\n",
       "      }\n",
       "    ];\n",
       "  \n",
       "    function run_inline_js() {\n",
       "      \n",
       "      if ((window.Bokeh !== undefined) || (force === true)) {\n",
       "        for (var i = 0; i < inline_js.length; i++) {\n",
       "          inline_js[i](window.Bokeh);\n",
       "        }if (force === true) {\n",
       "          display_loaded();\n",
       "        }} else if (Date.now() < window._bokeh_timeout) {\n",
       "        setTimeout(run_inline_js, 100);\n",
       "      } else if (!window._bokeh_failed_load) {\n",
       "        console.log(\"Bokeh: BokehJS failed to load within specified timeout.\");\n",
       "        window._bokeh_failed_load = true;\n",
       "      } else if (force !== true) {\n",
       "        var cell = $(document.getElementById(\"95d9ec36-9f7b-4ec9-bca6-2959ce455dc5\")).parents('.cell').data().cell;\n",
       "        cell.output_area.append_execute_result(NB_LOAD_WARNING)\n",
       "      }\n",
       "  \n",
       "    }\n",
       "  \n",
       "    if (window._bokeh_is_loading === 0) {\n",
       "      console.log(\"Bokeh: BokehJS loaded, going straight to plotting\");\n",
       "      run_inline_js();\n",
       "    } else {\n",
       "      load_libs(js_urls, function() {\n",
       "        console.log(\"Bokeh: BokehJS plotting callback run at\", now());\n",
       "        run_inline_js();\n",
       "      });\n",
       "    }\n",
       "  }(this));\n",
       "</script>"
      ]
     },
     "metadata": {},
     "output_type": "display_data"
    },
    {
     "name": "stderr",
     "output_type": "stream",
     "text": [
      "/home/tabz/.local/lib/python3.6/site-packages/bokeh/models/sources.py:81: BokehUserWarning: ColumnDataSource's columns must be of the same length\n",
      "  lambda: warnings.warn(\"ColumnDataSource's columns must be of the same length\", BokehUserWarning))\n",
      "/home/tabz/.local/lib/python3.6/site-packages/bokeh/models/sources.py:81: BokehUserWarning: ColumnDataSource's columns must be of the same length\n",
      "  lambda: warnings.warn(\"ColumnDataSource's columns must be of the same length\", BokehUserWarning))\n",
      "/home/tabz/.local/lib/python3.6/site-packages/bokeh/models/sources.py:81: BokehUserWarning: ColumnDataSource's columns must be of the same length\n",
      "  lambda: warnings.warn(\"ColumnDataSource's columns must be of the same length\", BokehUserWarning))\n",
      "/home/tabz/.local/lib/python3.6/site-packages/bokeh/models/sources.py:81: BokehUserWarning: ColumnDataSource's columns must be of the same length\n",
      "  lambda: warnings.warn(\"ColumnDataSource's columns must be of the same length\", BokehUserWarning))\n",
      "/home/tabz/.local/lib/python3.6/site-packages/bokeh/models/sources.py:81: BokehUserWarning: ColumnDataSource's columns must be of the same length\n",
      "  lambda: warnings.warn(\"ColumnDataSource's columns must be of the same length\", BokehUserWarning))\n",
      "/home/tabz/.local/lib/python3.6/site-packages/bokeh/models/sources.py:81: BokehUserWarning: ColumnDataSource's columns must be of the same length\n",
      "  lambda: warnings.warn(\"ColumnDataSource's columns must be of the same length\", BokehUserWarning))\n",
      "/home/tabz/.local/lib/python3.6/site-packages/bokeh/models/sources.py:81: BokehUserWarning: ColumnDataSource's columns must be of the same length\n",
      "  lambda: warnings.warn(\"ColumnDataSource's columns must be of the same length\", BokehUserWarning))\n",
      "/home/tabz/.local/lib/python3.6/site-packages/bokeh/models/sources.py:81: BokehUserWarning: ColumnDataSource's columns must be of the same length\n",
      "  lambda: warnings.warn(\"ColumnDataSource's columns must be of the same length\", BokehUserWarning))\n"
     ]
    },
    {
     "data": {
      "text/html": [
       "\n",
       "\n",
       "    <div class=\"bk-root\">\n",
       "        <div class=\"bk-plotdiv\" id=\"d686baf2-efd1-4eba-a393-f21689d5d90a\"></div>\n",
       "    </div>\n",
       "<script type=\"text/javascript\">\n",
       "  \n",
       "  (function(global) {\n",
       "    function now() {\n",
       "      return new Date();\n",
       "    }\n",
       "  \n",
       "    var force = false;\n",
       "  \n",
       "    if (typeof (window._bokeh_onload_callbacks) === \"undefined\" || force === true) {\n",
       "      window._bokeh_onload_callbacks = [];\n",
       "      window._bokeh_is_loading = undefined;\n",
       "    }\n",
       "  \n",
       "  \n",
       "    \n",
       "    if (typeof (window._bokeh_timeout) === \"undefined\" || force === true) {\n",
       "      window._bokeh_timeout = Date.now() + 0;\n",
       "      window._bokeh_failed_load = false;\n",
       "    }\n",
       "  \n",
       "    var NB_LOAD_WARNING = {'data': {'text/html':\n",
       "       \"<div style='background-color: #fdd'>\\n\"+\n",
       "       \"<p>\\n\"+\n",
       "       \"BokehJS does not appear to have successfully loaded. If loading BokehJS from CDN, this \\n\"+\n",
       "       \"may be due to a slow or bad network connection. Possible fixes:\\n\"+\n",
       "       \"</p>\\n\"+\n",
       "       \"<ul>\\n\"+\n",
       "       \"<li>re-rerun `output_notebook()` to attempt to load from CDN again, or</li>\\n\"+\n",
       "       \"<li>use INLINE resources instead, as so:</li>\\n\"+\n",
       "       \"</ul>\\n\"+\n",
       "       \"<code>\\n\"+\n",
       "       \"from bokeh.resources import INLINE\\n\"+\n",
       "       \"output_notebook(resources=INLINE)\\n\"+\n",
       "       \"</code>\\n\"+\n",
       "       \"</div>\"}};\n",
       "  \n",
       "    function display_loaded() {\n",
       "      if (window.Bokeh !== undefined) {\n",
       "        document.getElementById(\"d686baf2-efd1-4eba-a393-f21689d5d90a\").textContent = \"BokehJS successfully loaded.\";\n",
       "      } else if (Date.now() < window._bokeh_timeout) {\n",
       "        setTimeout(display_loaded, 100)\n",
       "      }\n",
       "    }\n",
       "  \n",
       "    function run_callbacks() {\n",
       "      window._bokeh_onload_callbacks.forEach(function(callback) { callback() });\n",
       "      delete window._bokeh_onload_callbacks\n",
       "      console.info(\"Bokeh: all callbacks have finished\");\n",
       "    }\n",
       "  \n",
       "    function load_libs(js_urls, callback) {\n",
       "      window._bokeh_onload_callbacks.push(callback);\n",
       "      if (window._bokeh_is_loading > 0) {\n",
       "        console.log(\"Bokeh: BokehJS is being loaded, scheduling callback at\", now());\n",
       "        return null;\n",
       "      }\n",
       "      if (js_urls == null || js_urls.length === 0) {\n",
       "        run_callbacks();\n",
       "        return null;\n",
       "      }\n",
       "      console.log(\"Bokeh: BokehJS not loaded, scheduling load and callback at\", now());\n",
       "      window._bokeh_is_loading = js_urls.length;\n",
       "      for (var i = 0; i < js_urls.length; i++) {\n",
       "        var url = js_urls[i];\n",
       "        var s = document.createElement('script');\n",
       "        s.src = url;\n",
       "        s.async = false;\n",
       "        s.onreadystatechange = s.onload = function() {\n",
       "          window._bokeh_is_loading--;\n",
       "          if (window._bokeh_is_loading === 0) {\n",
       "            console.log(\"Bokeh: all BokehJS libraries loaded\");\n",
       "            run_callbacks()\n",
       "          }\n",
       "        };\n",
       "        s.onerror = function() {\n",
       "          console.warn(\"failed to load library \" + url);\n",
       "        };\n",
       "        console.log(\"Bokeh: injecting script tag for BokehJS library: \", url);\n",
       "        document.getElementsByTagName(\"head\")[0].appendChild(s);\n",
       "      }\n",
       "    };var element = document.getElementById(\"d686baf2-efd1-4eba-a393-f21689d5d90a\");\n",
       "    if (element == null) {\n",
       "      console.log(\"Bokeh: ERROR: autoload.js configured with elementid 'd686baf2-efd1-4eba-a393-f21689d5d90a' but no matching script tag was found. \")\n",
       "      return false;\n",
       "    }\n",
       "  \n",
       "    var js_urls = [];\n",
       "  \n",
       "    var inline_js = [\n",
       "      function(Bokeh) {\n",
       "        (function() {\n",
       "          var fn = function() {\n",
       "            var docs_json = {\"38d8785e-76ba-4138-a141-fd1991c55b2d\":{\"roots\":{\"references\":[{\"attributes\":{\"data_source\":{\"id\":\"8d440db7-b525-4cb7-9615-9d879297c2df\",\"type\":\"ColumnDataSource\"},\"glyph\":{\"id\":\"88095d24-d464-4309-8a90-432345d62c32\",\"type\":\"Patch\"},\"hover_glyph\":null,\"nonselection_glyph\":{\"id\":\"385065bd-bf14-403c-bb18-556849bf1a57\",\"type\":\"Patch\"},\"selection_glyph\":null},\"id\":\"0b09b87c-c91a-411f-9ea4-b58ff8d657cc\",\"type\":\"GlyphRenderer\"},{\"attributes\":{\"line_color\":{\"value\":\"#4daf4a\"},\"line_width\":{\"value\":2},\"x\":{\"field\":\"x\"},\"y\":{\"field\":\"y\"}},\"id\":\"3b7e2a89-f842-4361-965e-5f7b2e89e4b8\",\"type\":\"Line\"},{\"attributes\":{\"active_drag\":\"auto\",\"active_scroll\":\"auto\",\"active_tap\":\"auto\",\"tools\":[{\"id\":\"cb62a603-b35a-470e-9a6b-f0df81f8a925\",\"type\":\"PanTool\"},{\"id\":\"289816f8-7036-4325-ac11-8f997bc023fa\",\"type\":\"WheelZoomTool\"},{\"id\":\"a40fb085-9d61-424e-8868-5438451d80d4\",\"type\":\"BoxZoomTool\"},{\"id\":\"a6a896a4-13c4-43ed-a83f-3c5f7be5306b\",\"type\":\"SaveTool\"},{\"id\":\"4ac36693-c2ec-4096-b9cb-83e416b0c354\",\"type\":\"ResetTool\"},{\"id\":\"aa061351-6243-4f90-8fa5-9e9e98a9d723\",\"type\":\"HelpTool\"}]},\"id\":\"b70ec211-b598-476a-8643-b975212361ca\",\"type\":\"Toolbar\"},{\"attributes\":{\"data_source\":{\"id\":\"b7bce30f-b9db-407c-a2cb-da239c074811\",\"type\":\"ColumnDataSource\"},\"glyph\":{\"id\":\"df9d8fd0-c684-47ca-b279-0c32fd597ccd\",\"type\":\"Patch\"},\"hover_glyph\":null,\"nonselection_glyph\":{\"id\":\"6dc86bcd-e4c1-4bca-bd26-e740090a63a6\",\"type\":\"Patch\"},\"selection_glyph\":null},\"id\":\"2bba3ebb-7538-4292-84a1-209a91ce0c97\",\"type\":\"GlyphRenderer\"},{\"attributes\":{\"callback\":null,\"column_names\":[\"x\",\"y\"],\"data\":{\"x\":[0,1000,2000,3000,4000,5000,6000,7000,8000,9000,10000,11000,12000,13000,14000,15000,16000,17000,18000,19000,20000,21000,22000,23000,24000,25000,26000,27000,28000,29000,30000,31000,32000,33000,34000,35000,36000,37000,38000,39000,40000,41000,42000,43000,44000,45000,46000,47000,48000,49000,50000,51000,52000,53000,54000,55000,56000,57000,58000,59000,60000,61000,62000,63000,64000,65000,66000,67000,68000,69000,70000,71000,72000,73000,74000,75000,76000,77000,78000,79000,80000,81000,82000,83000,84000,85000,86000,87000,88000,89000,90000,91000,92000,93000,94000,95000,96000,97000,98000,99000,100000,101000,102000,103000,104000,105000,106000,107000,108000,109000,110000,111000,112000,113000,114000,115000,116000,117000,118000,119000,120000,121000,122000,123000,124000,125000,126000,127000,128000,129000,130000,131000,132000,133000,134000,135000,136000,137000,138000,139000,140000,141000,142000,143000,144000,145000,146000,147000,148000,149000,150000,151000,152000,153000,154000,155000,156000,157000,158000,159000,160000,161000,162000,163000,164000,165000,166000,167000,168000,169000,170000,171000,172000,173000,174000,175000,176000,177000,178000,179000,180000,181000,182000,183000,184000,185000,186000,187000,188000,189000,190000,191000,192000,193000,194000,195000,196000,197000,198000,199000,200000,201000,202000,203000,204000,205000,206000,207000,208000,209000,210000,211000,212000,213000,214000,215000,216000,217000,218000,219000,220000,221000,222000,223000,224000,225000,226000,227000,228000,229000,230000,231000,232000,233000,234000,235000,236000,237000,238000,239000,240000,241000,242000,243000,244000,245000,246000,247000,248000,249000,250000,251000,252000,253000,254000,255000,256000,257000,258000,259000,260000,261000,262000,263000,264000,265000,266000,267000,268000,269000,270000,271000,272000,273000,274000,275000,276000,277000,278000,279000,280000,281000,282000,283000,284000,285000,286000,287000,288000,289000,290000,291000,292000,293000,294000,295000,296000,297000,298000,299000,300000,301000,302000,303000,304000,305000,306000,307000,308000,309000,310000,311000,312000,313000,314000,315000,316000,317000,318000,319000,320000,321000,322000,323000,324000,325000,326000,327000,328000,329000,330000,331000,332000,333000,334000,335000,336000,337000,338000,339000,340000,341000,342000,343000,344000,345000,346000,347000,348000,349000,350000,351000,352000,353000,354000,355000,356000,357000,358000,359000,360000,361000,362000,363000,364000,365000,366000,367000,368000,369000,370000,371000,372000,373000,374000,375000,376000,377000,378000,379000,380000,381000,382000,383000,384000,385000,386000,387000,388000,389000,390000,391000,392000,393000,394000,395000,396000,397000,398000,399000,400000,401000,402000,403000,404000,405000,406000,407000,408000,409000,410000,411000,412000,413000,414000,415000,416000,417000,418000,419000,420000,421000,422000,423000,424000,425000,426000,427000,428000,429000,430000,431000,432000,433000,434000,435000,436000,437000,438000,439000,440000,441000,442000,443000,444000,445000,446000,447000,448000,449000,450000,451000,452000,453000,454000,455000,456000,457000,458000,459000,460000,461000,462000,463000,464000,465000,466000,467000,468000,469000,470000,471000,472000,473000,474000,475000,476000,477000,478000,479000,480000,481000,482000,483000,484000,485000,486000,487000,488000,489000,490000,491000,492000,493000,494000,495000,496000,497000,498000,499000,500000,501000,502000,503000,504000,505000,506000,507000,508000,509000,510000,511000,512000,513000,514000,515000,516000,517000,518000,519000,520000,521000,522000,523000,524000,525000,526000,527000,528000,529000,530000,531000,532000,533000,534000,535000,536000,537000,538000,539000,540000,541000,542000,543000,544000,545000,546000,547000,548000,549000,550000,551000,552000,553000,554000,555000,556000,557000,558000,559000,560000,561000,562000,563000,564000,565000,566000,567000,568000,569000,570000,571000,572000,573000,574000,575000,576000,577000,578000,579000,580000,581000,582000,583000,584000,585000,586000,587000,588000,589000,590000,591000,592000,593000,594000,595000,596000,597000,598000,599000,600000,600000,599000,598000,597000,596000,595000,594000,593000,592000,591000,590000,589000,588000,587000,586000,585000,584000,583000,582000,581000,580000,579000,578000,577000,576000,575000,574000,573000,572000,571000,570000,569000,568000,567000,566000,565000,564000,563000,562000,561000,560000,559000,558000,557000,556000,555000,554000,553000,552000,551000,550000,549000,548000,547000,546000,545000,544000,543000,542000,541000,540000,539000,538000,537000,536000,535000,534000,533000,532000,531000,530000,529000,528000,527000,526000,525000,524000,523000,522000,521000,520000,519000,518000,517000,516000,515000,514000,513000,512000,511000,510000,509000,508000,507000,506000,505000,504000,503000,502000,501000,500000,499000,498000,497000,496000,495000,494000,493000,492000,491000,490000,489000,488000,487000,486000,485000,484000,483000,482000,481000,480000,479000,478000,477000,476000,475000,474000,473000,472000,471000,470000,469000,468000,467000,466000,465000,464000,463000,462000,461000,460000,459000,458000,457000,456000,455000,454000,453000,452000,451000,450000,449000,448000,447000,446000,445000,444000,443000,442000,441000,440000,439000,438000,437000,436000,435000,434000,433000,432000,431000,430000,429000,428000,427000,426000,425000,424000,423000,422000,421000,420000,419000,418000,417000,416000,415000,414000,413000,412000,411000,410000,409000,408000,407000,406000,405000,404000,403000,402000,401000,400000,399000,398000,397000,396000,395000,394000,393000,392000,391000,390000,389000,388000,387000,386000,385000,384000,383000,382000,381000,380000,379000,378000,377000,376000,375000,374000,373000,372000,371000,370000,369000,368000,367000,366000,365000,364000,363000,362000,361000,360000,359000,358000,357000,356000,355000,354000,353000,352000,351000,350000,349000,348000,347000,346000,345000,344000,343000,342000,341000,340000,339000,338000,337000,336000,335000,334000,333000,332000,331000,330000,329000,328000,327000,326000,325000,324000,323000,322000,321000,320000,319000,318000,317000,316000,315000,314000,313000,312000,311000,310000,309000,308000,307000,306000,305000,304000,303000,302000,301000,300000,299000,298000,297000,296000,295000,294000,293000,292000,291000,290000,289000,288000,287000,286000,285000,284000,283000,282000,281000,280000,279000,278000,277000,276000,275000,274000,273000,272000,271000,270000,269000,268000,267000,266000,265000,264000,263000,262000,261000,260000,259000,258000,257000,256000,255000,254000,253000,252000,251000,250000,249000,248000,247000,246000,245000,244000,243000,242000,241000,240000,239000,238000,237000,236000,235000,234000,233000,232000,231000,230000,229000,228000,227000,226000,225000,224000,223000,222000,221000,220000,219000,218000,217000,216000,215000,214000,213000,212000,211000,210000,209000,208000,207000,206000,205000,204000,203000,202000,201000,200000,199000,198000,197000,196000,195000,194000,193000,192000,191000,190000,189000,188000,187000,186000,185000,184000,183000,182000,181000,180000,179000,178000,177000,176000,175000,174000,173000,172000,171000,170000,169000,168000,167000,166000,165000,164000,163000,162000,161000,160000,159000,158000,157000,156000,155000,154000,153000,152000,151000,150000,149000,148000,147000,146000,145000,144000,143000,142000,141000,140000,139000,138000,137000,136000,135000,134000,133000,132000,131000,130000,129000,128000,127000,126000,125000,124000,123000,122000,121000,120000,119000,118000,117000,116000,115000,114000,113000,112000,111000,110000,109000,108000,107000,106000,105000,104000,103000,102000,101000,100000,99000,98000,97000,96000,95000,94000,93000,92000,91000,90000,89000,88000,87000,86000,85000,84000,83000,82000,81000,80000,79000,78000,77000,76000,75000,74000,73000,72000,71000,70000,69000,68000,67000,66000,65000,64000,63000,62000,61000,60000,59000,58000,57000,56000,55000,54000,53000,52000,51000,50000,49000,48000,47000,46000,45000,44000,43000,42000,41000,40000,39000,38000,37000,36000,35000,34000,33000,32000,31000,30000,29000,28000,27000,26000,25000,24000,23000,22000,21000,20000,19000,18000,17000,16000,15000,14000,13000,12000,11000,10000,9000,8000,7000,6000,5000,4000,3000,2000,1000,0],\"y\":[1,73,110,121,160,203,203,203,203,204,228,228,228,231,231,231,231,231,231,231,231,231,231,285,285,285,285,285,285,285,285,285,285,285,285,285,285,285,285,285,285,328,328,328,328,353,353,353,353,353,353,353,353,353,353,353,356,356,356,356,356,356,356,356,356,356,356,356,356,356,356,356,356,356,356,356,356,356,356,356,356,356,356,356,356,356,356,356,382,382,382,382,382,382,382,382,382,382,382,382,382,382,382,382,382,382,382,382,382,382,382,382,382,382,382,382,382,382,382,382,382,382,382,382,382,382,382,382,382,382,382,382,382,382,382,382,382,382,382,382,382,382,382,382,382,382,382,382,382,382,382,382,382,382,382,382,382,382,382,382,382,382,382,402,402,402,402,402,402,402,402,402,402,402,404,404,404,404,410,417,439,454,468,472,490,492,504,504,504,504,504,504,504,504,504,504,504,504,504,504,504,504,504,504,576,681,681,681,681,681,681,681,681,687,688,689,819,850,851,851,851,851,851,851,851,896,974,1065,1083,1092,1092,1094,1104,1104,1104,1104,1104,1104,1105,1105,1171,1365,1411,1431,1445,1445,1445,1445,1445,1445,1454,1454,1454,1454,1454,1454,1455,1459,1467,1493,1518,1519,1522,1568,1570,1570,1570,1570,1570,1691,1770,1770,1770,1772,1772,1772,1772,1772,1772,1779,1828,1848,1860,1860,1864,1864,1864,1864,1864,1864,1864,1864,1864,1864,1864,1864,1864,1864,1866,1866,1866,1866,1866,1866,1866,1866,1866,1866,1866,1866,1871,1871,1871,1871,1871,1903,1917,1917,1917,1917,1917,1917,1917,1917,1917,1917,1917,1917,1917,1917,1917,1917,1917,1917,1917,1917,1917,1917,1917,1917,1917,1925,1925,1925,1925,1925,1925,1925,1925,1925,1925,1925,1925,1925,1925,1925,1925,1925,1925,1925,1925,1925,1925,1925,1925,1925,1925,1925,1925,1925,1925,1925,1925,1925,1925,1925,1925,1925,1925,1925,1925,1925,1925,1925,1925,1925,1925,1925,1925,1925,1925,1925,1925,1925,1925,1925,1925,1926,1926,1926,1926,1926,1926,1926,1926,1926,1926,1926,1926,1926,1926,1926,1926,1926,1926,1926,1926,1926,1926,1926,1926,1943,1954,1954,1954,1954,1954,1954,1954,1954,1954,1954,1954,1954,1954,1954,1954,1954,1954,1954,1954,1954,1954,1954,1954,1954,1954,1954,1954,1954,1954,1954,1954,1954,1954,1954,1954,1954,1954,1954,1954,1954,1954,1954,1954,1954,1954,1954,1954,1954,1954,1954,1954,1954,1954,1954,1954,1954,1954,1954,1954,1954,1954,1954,1954,1954,1954,1954,1954,1954,1954,1954,1954,1954,1954,1954,1954,1954,1954,1954,1954,1954,1954,1954,1954,1954,1954,1954,1954,1954,1954,1954,1954,1954,1954,1954,1954,1954,1954,1954,1954,1954,1954,1954,1954,1954,1954,1954,1954,1954,1954,1954,1954,1954,1954,1954,1954,1954,1954,1954,1954,1954,1954,1954,1954,1954,1954,1966,1999,2006,2010,2019,2085,2085,2085,2085,2085,2085,2085,2085,2085,2085,2085,2085,2085,2085,2085,2085,2085,2085,2085,2085,2085,2085,2085,2085,2085,2085,2085,2085,2085,2085,2085,2085,2085,2085,2085,2085,2085,2085,2085,2085,2085,2085,2085,2085,2085,2085,2085,2085,3445,3443,3443,3443,3443,3443,3443,3443,3443,3443,3443,3443,3443,3443,3443,3443,3443,3443,3443,3443,3443,3443,3443,3443,3443,3443,3443,3443,3443,3443,3443,3443,3443,3443,3443,3443,3443,3443,3443,3443,3443,3443,3443,3438,3438,3415,3415,3411,3407,3407,3407,3407,3407,3407,3407,3407,3407,3407,3407,3407,3407,3407,3407,3407,3407,3407,3407,3407,3407,3407,3407,3407,3407,3407,3407,3407,3407,3407,3407,3407,3407,3407,3407,3407,3407,3407,3407,3407,3407,3407,3407,3407,3407,3407,3407,3407,3407,3407,3407,3407,3407,3407,3407,3407,3407,3407,3407,3407,3407,3407,3407,3407,3407,3407,3407,3407,3407,3407,3407,3407,3407,3407,3407,3407,3407,3407,3407,3407,3407,3407,3407,3407,3407,3407,3407,3407,3407,3407,3407,3407,3407,3407,3407,3407,3407,3407,3407,3407,3407,3407,3407,3407,3407,3407,3407,3407,3407,3407,3407,3407,3407,3407,3407,3407,3407,3407,3407,3407,3407,3407,3407,3407,3407,3407,3407,3407,3407,3407,3407,3407,3407,3407,3407,3407,3407,3407,3407,3407,3407,3407,3407,3407,3407,3407,3407,3407,3407,3407,3407,3407,3407,3407,3407,3407,3407,3407,3407,3407,3407,3407,3407,3407,3407,3407,3407,3407,3407,3407,3407,3407,3407,3407,3407,3407,3407,3407,3407,3407,3407,3407,3407,3407,3407,3407,3407,3407,3407,3407,3407,3407,3407,3407,3407,3407,3407,3407,3407,3407,3407,3407,3407,3407,3407,3407,3407,3407,3407,3407,3407,3407,3407,3407,3407,3407,3407,3407,3407,3407,3407,3407,3407,3407,3407,3407,3407,3407,3407,3407,3407,3407,3407,3407,3407,3407,3407,3407,3407,3407,3407,3407,3407,3407,3407,3407,3407,3407,3407,3407,3407,3407,3407,3407,3407,3407,3407,3407,3407,3407,3407,3407,3407,3407,3407,3407,3407,3407,3407,3407,3407,3407,3407,3407,3407,3407,3407,3407,3407,3407,3407,3407,3407,3407,3407,3407,3407,3407,3407,3407,3407,3407,3407,3407,3407,3407,3407,3407,3407,3407,3407,3407,3407,3407,3407,3407,3407,3407,3383,3342,3266,3266,3266,3266,3266,3266,3266,3266,3266,3266,3266,3266,3266,3266,3265,3265,3265,3265,3265,3265,3265,3265,3265,3265,3265,3261,3261,3261,3261,3261,3257,3257,3193,3193,3193,3193,3191,3121,3116,3116,3116,3115,3115,3111,3111,3105,3105,3105,3105,3105,3105,3105,3105,3105,3105,3105,3105,3105,3105,3105,3105,3105,3105,3105,3105,3105,3105,3105,3105,3105,3105,3105,3105,3105,3101,3095,3095,3095,3095,3095,3095,3095,3095,3095,3095,3095,3095,3095,3095,3095,3095,3095,3095,3095,3095,3095,3095,3095,3095,3094,3094,3094,3094,3094,3094,3094,3094,3094,3094,3094,3094,3094,3094,3093,3093,3093,3092,3071,3069,3069,3069,3069,3069,3069,3068,2958,2917,2808,2808,2808,2803,2766,2730,2730,2730,2730,2730,2730,2730,2730,2730,2707,2700,2694,2694,2694,2694,2694,2694,2694,2694,2691,2690,2685,2626,2620,2587,2587,2585,2585,2585,2585,2585,2580,2575,2575,2575,2570,2570,2557,2553,2553,2510,2507,2462,2369,2359,2296,2296,2279,2268,2262,2210,2210,2202,2202,2202,2202,2195,2195,2188,2188,2188,2127,2124,2065,2065,2065,2065,2064,2057,2049,2044,2043,2042,2041,2031,1947,1941,1862,1724,1695,1681,1669,1664,1664,1655,1644,1631,1580,1580,1559,1543,1531,1492,1374,1239,1118,1108,1048,911,818,703,629,608,578,570,482,414,302,204,1]}},\"id\":\"8d440db7-b525-4cb7-9615-9d879297c2df\",\"type\":\"ColumnDataSource\"},{\"attributes\":{\"label\":{\"value\":\"0.7 Alpha 8 NScaler\"},\"renderers\":[{\"id\":\"e63a05e6-3d09-4a7d-b5fc-9c60a2480ed6\",\"type\":\"GlyphRenderer\"}]},\"id\":\"a51932aa-571b-451b-bf57-6462559fd25b\",\"type\":\"LegendItem\"},{\"attributes\":{\"data_source\":{\"id\":\"f2beecc9-ee68-4002-b10d-bb97dbf5d029\",\"type\":\"ColumnDataSource\"},\"glyph\":{\"id\":\"738d5383-730e-4ca2-9d50-31a5b5b79aed\",\"type\":\"Line\"},\"hover_glyph\":null,\"nonselection_glyph\":{\"id\":\"fbb4e45f-6d2b-43f5-8694-c0d509a70725\",\"type\":\"Line\"},\"selection_glyph\":null},\"id\":\"f95354aa-3825-4de7-a766-c5b9f78560de\",\"type\":\"GlyphRenderer\"},{\"attributes\":{\"items\":[{\"id\":\"4ea8d590-3eca-478a-ab9c-e4cbefa43e06\",\"type\":\"LegendItem\"},{\"id\":\"1df40fa9-14d3-433b-bcff-d6cef1857c9e\",\"type\":\"LegendItem\"},{\"id\":\"fcfe1eb8-4785-4014-84de-ffce721197e6\",\"type\":\"LegendItem\"},{\"id\":\"a51932aa-571b-451b-bf57-6462559fd25b\",\"type\":\"LegendItem\"}],\"location\":[0,-30],\"plot\":{\"id\":\"36b65396-88f5-487d-8fe3-0385f550f234\",\"subtype\":\"Figure\",\"type\":\"Plot\"}},\"id\":\"1c583c6f-8ac9-4702-87c4-2f6958a9048d\",\"type\":\"Legend\"},{\"attributes\":{\"callback\":null,\"column_names\":[\"x\",\"y\"],\"data\":{\"x\":[0,1000,2000,3000,4000,5000,6000,7000,8000,9000,10000,11000,12000,13000,14000,15000,16000,17000,18000,19000,20000,21000,22000,23000,24000,25000,26000,27000,28000,29000,30000,31000,32000,33000,34000,35000,36000,37000,38000,39000,40000,41000,42000,43000,44000,45000,46000,47000,48000,49000,50000,51000,52000,53000,54000,55000,56000,57000,58000,59000,60000,61000,62000,63000,64000,65000,66000,67000,68000,69000,70000,71000,72000,73000,74000,75000,76000,77000,78000,79000,80000,81000,82000,83000,84000,85000,86000,87000,88000,89000,90000,91000,92000,93000,94000,95000,96000,97000,98000,99000,100000,101000,102000,103000,104000,105000,106000,107000,108000,109000,110000,111000,112000,113000,114000,115000,116000,117000,118000,119000,120000,121000,122000,123000,124000,125000,126000,127000,128000,129000,130000,131000,132000,133000,134000,135000,136000,137000,138000,139000,140000,141000,142000,143000,144000,145000,146000,147000,148000,149000,150000,151000,152000,153000,154000,155000,156000,157000,158000,159000,160000,161000,162000,163000,164000,165000,166000,167000,168000,169000,170000,171000,172000,173000,174000,175000,176000,177000,178000,179000,180000,181000,182000,183000,184000,185000,186000,187000,188000,189000,190000,191000,192000,193000,194000,195000,196000,197000,198000,199000,200000,201000,202000,203000,204000,205000,206000,207000,208000,209000,210000,211000,212000,213000,214000,215000,216000,217000,218000,219000,220000,221000,222000,223000,224000,225000,226000,227000,228000,229000,230000,231000,232000,233000,234000,235000,236000,237000,238000,239000,240000,241000,242000,243000,244000,245000,246000,247000,248000,249000,250000,251000,252000,253000,254000,255000,256000,257000,258000,259000,260000,261000,262000,263000,264000,265000,266000,267000,268000,269000,270000,271000,272000,273000,274000,275000,276000,277000,278000,279000,280000,281000,282000,283000,284000,285000,286000,287000,288000,289000,290000,291000,292000,293000,294000,295000,296000,297000,298000,299000,300000,301000,302000,303000,304000,305000,306000,307000,308000,309000,310000,311000,312000,313000,314000,315000,316000,317000,318000,319000,320000,321000,322000,323000,324000,325000,326000,327000,328000,329000,330000,331000,332000,333000,334000,335000,336000,337000,338000,339000,340000,341000,342000,343000,344000,345000,346000,347000,348000,349000,350000,351000,352000,353000,354000,355000,356000,357000,358000,359000,360000,361000,362000,363000,364000,365000,366000,367000,368000,369000,370000,371000,372000,373000,374000,375000,376000,377000,378000,379000,380000,381000,382000,383000,384000,385000,386000,387000,388000,389000,390000,391000,392000,393000,394000,395000,396000,397000,398000,399000,400000,401000,402000,403000,404000,405000,406000,407000,408000,409000,410000,411000,412000,413000,414000,415000,416000,417000,418000,419000,420000,421000,422000,423000,424000,425000,426000,427000,428000,429000,430000,431000,432000,433000,434000,435000,436000,437000,438000,439000,440000,441000,442000,443000,444000,445000,446000,447000,448000,449000,450000,451000,452000,453000,454000,455000,456000,457000,458000,459000,460000,461000,462000,463000,464000,465000,466000,467000,468000,469000,470000,471000,472000,473000,474000,475000,476000,477000,478000,479000,480000,481000,482000,483000,484000,485000,486000,487000,488000,489000,490000,491000,492000,493000,494000,495000,496000,497000,498000,499000,500000,501000,502000,503000,504000,505000,506000,507000,508000,509000,510000,511000,512000,513000,514000,515000,516000,517000,518000,519000,520000,521000,522000,523000,524000,525000,526000,527000,528000,529000,530000,531000,532000,533000,534000,535000,536000,537000,538000,539000,540000,541000,542000,543000,544000,545000,546000,547000,548000,549000,550000,551000,552000,553000,554000,555000,556000,557000,558000,559000,560000,561000,562000,563000,564000,565000,566000,567000,568000,569000,570000,571000,572000,573000,574000,575000,576000,577000,578000,579000,580000,581000,582000,583000,584000,585000,586000,587000,588000,589000,590000,591000,592000,593000,594000,595000,596000,597000,598000,599000,600000,600000,599000,598000,597000,596000,595000,594000,593000,592000,591000,590000,589000,588000,587000,586000,585000,584000,583000,582000,581000,580000,579000,578000,577000,576000,575000,574000,573000,572000,571000,570000,569000,568000,567000,566000,565000,564000,563000,562000,561000,560000,559000,558000,557000,556000,555000,554000,553000,552000,551000,550000,549000,548000,547000,546000,545000,544000,543000,542000,541000,540000,539000,538000,537000,536000,535000,534000,533000,532000,531000,530000,529000,528000,527000,526000,525000,524000,523000,522000,521000,520000,519000,518000,517000,516000,515000,514000,513000,512000,511000,510000,509000,508000,507000,506000,505000,504000,503000,502000,501000,500000,499000,498000,497000,496000,495000,494000,493000,492000,491000,490000,489000,488000,487000,486000,485000,484000,483000,482000,481000,480000,479000,478000,477000,476000,475000,474000,473000,472000,471000,470000,469000,468000,467000,466000,465000,464000,463000,462000,461000,460000,459000,458000,457000,456000,455000,454000,453000,452000,451000,450000,449000,448000,447000,446000,445000,444000,443000,442000,441000,440000,439000,438000,437000,436000,435000,434000,433000,432000,431000,430000,429000,428000,427000,426000,425000,424000,423000,422000,421000,420000,419000,418000,417000,416000,415000,414000,413000,412000,411000,410000,409000,408000,407000,406000,405000,404000,403000,402000,401000,400000,399000,398000,397000,396000,395000,394000,393000,392000,391000,390000,389000,388000,387000,386000,385000,384000,383000,382000,381000,380000,379000,378000,377000,376000,375000,374000,373000,372000,371000,370000,369000,368000,367000,366000,365000,364000,363000,362000,361000,360000,359000,358000,357000,356000,355000,354000,353000,352000,351000,350000,349000,348000,347000,346000,345000,344000,343000,342000,341000,340000,339000,338000,337000,336000,335000,334000,333000,332000,331000,330000,329000,328000,327000,326000,325000,324000,323000,322000,321000,320000,319000,318000,317000,316000,315000,314000,313000,312000,311000,310000,309000,308000,307000,306000,305000,304000,303000,302000,301000,300000,299000,298000,297000,296000,295000,294000,293000,292000,291000,290000,289000,288000,287000,286000,285000,284000,283000,282000,281000,280000,279000,278000,277000,276000,275000,274000,273000,272000,271000,270000,269000,268000,267000,266000,265000,264000,263000,262000,261000,260000,259000,258000,257000,256000,255000,254000,253000,252000,251000,250000,249000,248000,247000,246000,245000,244000,243000,242000,241000,240000,239000,238000,237000,236000,235000,234000,233000,232000,231000,230000,229000,228000,227000,226000,225000,224000,223000,222000,221000,220000,219000,218000,217000,216000,215000,214000,213000,212000,211000,210000,209000,208000,207000,206000,205000,204000,203000,202000,201000,200000,199000,198000,197000,196000,195000,194000,193000,192000,191000,190000,189000,188000,187000,186000,185000,184000,183000,182000,181000,180000,179000,178000,177000,176000,175000,174000,173000,172000,171000,170000,169000,168000,167000,166000,165000,164000,163000,162000,161000,160000,159000,158000,157000,156000,155000,154000,153000,152000,151000,150000,149000,148000,147000,146000,145000,144000,143000,142000,141000,140000,139000,138000,137000,136000,135000,134000,133000,132000,131000,130000,129000,128000,127000,126000,125000,124000,123000,122000,121000,120000,119000,118000,117000,116000,115000,114000,113000,112000,111000,110000,109000,108000,107000,106000,105000,104000,103000,102000,101000,100000,99000,98000,97000,96000,95000,94000,93000,92000,91000,90000,89000,88000,87000,86000,85000,84000,83000,82000,81000,80000,79000,78000,77000,76000,75000,74000,73000,72000,71000,70000,69000,68000,67000,66000,65000,64000,63000,62000,61000,60000,59000,58000,57000,56000,55000,54000,53000,52000,51000,50000,49000,48000,47000,46000,45000,44000,43000,42000,41000,40000,39000,38000,37000,36000,35000,34000,33000,32000,31000,30000,29000,28000,27000,26000,25000,24000,23000,22000,21000,20000,19000,18000,17000,16000,15000,14000,13000,12000,11000,10000,9000,8000,7000,6000,5000,4000,3000,2000,1000,0],\"y\":[1,62,106,106,118,137,137,137,200,241,241,268,339,373,373,400,434,455,455,455,455,455,455,455,469,469,475,516,516,516,516,516,516,516,516,540,635,691,691,691,691,691,691,691,691,691,691,691,691,691,691,691,691,691,691,691,691,691,691,691,691,691,691,691,691,691,691,691,691,691,691,691,691,691,691,691,691,691,691,691,691,691,691,691,691,691,691,691,691,691,691,691,691,691,691,691,691,691,691,691,691,691,691,691,691,691,691,691,691,691,691,691,691,691,691,691,691,691,691,691,691,691,691,691,691,691,691,691,691,691,691,691,691,691,691,692,692,692,692,692,692,692,692,692,692,692,692,692,692,692,692,692,692,692,692,692,692,692,692,692,692,692,692,692,692,692,692,692,692,692,692,692,692,692,692,692,692,692,692,692,692,692,692,692,692,692,692,692,692,692,692,692,692,692,692,693,693,693,693,693,693,693,693,693,693,693,693,693,693,693,693,693,693,693,693,693,693,693,693,693,693,693,693,693,693,693,693,693,693,693,693,693,693,693,693,693,693,693,694,694,694,694,694,694,694,694,694,694,694,694,694,694,694,694,694,694,695,695,695,696,697,721,817,831,841,850,850,853,855,855,855,855,861,864,864,864,875,878,886,886,886,886,887,887,887,901,901,920,923,923,936,953,1074,1167,1191,1191,1191,1251,1269,1282,1282,1282,1307,1307,1320,1320,1333,1362,1497,1515,1544,1544,1544,1544,1544,1544,1544,1546,1550,1550,1550,1560,1561,1561,1565,1567,1569,1570,1570,1570,1570,1570,1570,1570,1570,1570,1572,1578,1578,1579,1587,1587,1587,1587,1587,1587,1587,1587,1644,1777,1885,1953,2004,2004,2004,2004,2010,2010,2010,2010,2010,2010,2018,2018,2027,2046,2046,2046,2046,2046,2046,2046,2046,2046,2050,2050,2050,2050,2053,2057,2111,2227,2227,2227,2269,2270,2270,2270,2270,2270,2270,2270,2270,2270,2270,2270,2270,2270,2283,2302,2302,2302,2304,2318,2319,2319,2319,2319,2322,2323,2326,2327,2343,2354,2355,2356,2356,2356,2356,2356,2356,2356,2356,2356,2356,2356,2356,2356,2356,2356,2356,2359,2359,2360,2360,2360,2360,2360,2360,2360,2361,2366,2366,2366,2366,2366,2516,2516,2516,2516,2516,2516,2516,2516,2516,2516,2516,2516,2516,2516,2516,2516,2516,2516,2516,2516,2516,2516,2516,2516,2516,2516,2516,2516,2516,2516,2516,2516,2516,2516,2516,2516,2516,2516,2516,2516,2516,2516,2516,2516,2516,2516,2516,2516,2516,2516,2516,2516,2516,2516,2516,2516,2516,2516,2516,2516,2516,2516,2516,2516,2516,2516,2516,2516,2516,2516,2516,2516,2516,2516,2516,2516,2516,2516,2520,2520,2521,2523,2577,2652,2654,2654,2658,2668,2668,2668,2668,2841,2842,2842,2842,2842,2842,2842,2842,2842,2842,2842,2842,2842,2842,2842,2842,2842,2842,2842,2842,2842,2842,2842,2842,2842,2842,2842,2842,2842,2842,2842,2842,2842,2842,2842,2842,2842,2842,2842,2842,2842,2842,2842,2842,2842,2842,2842,2842,2842,2842,2842,2842,2842,2842,2842,2842,2842,2842,2842,2842,2842,2842,2842,3620,3620,3620,3620,3620,3620,3620,3620,3620,3620,3620,3620,3620,3620,3620,3620,3620,3620,3620,3620,3620,3620,3620,3620,3620,3620,3620,3620,3620,3620,3620,3620,3620,3620,3620,3620,3620,3620,3620,3620,3620,3620,3620,3620,3620,3620,3620,3620,3620,3620,3620,3620,3620,3620,3620,3620,3620,3620,3620,3620,3620,3620,3620,3620,3620,3620,3620,3620,3620,3620,3620,3599,3599,3593,3576,3576,3576,3576,3576,3576,3576,3576,3576,3576,3576,3576,3576,3576,3576,3576,3576,3576,3576,3576,3576,3576,3576,3576,3576,3576,3576,3576,3576,3576,3576,3576,3576,3576,3576,3576,3576,3576,3576,3576,3569,3567,3567,3544,3544,3544,3544,3544,3544,3544,3544,3544,3544,3544,3544,3544,3544,3544,3544,3544,3544,3544,3544,3544,3544,3544,3544,3544,3544,3544,3544,3544,3544,3544,3544,3544,3544,3544,3544,3544,3544,3544,3544,3544,3543,3543,3543,3543,3543,3543,3543,3543,3543,3543,3543,3543,3543,3543,3541,3539,3539,3539,3539,3539,3539,3539,3514,3514,3514,3514,3514,3514,3514,3514,3514,3514,3514,3514,3514,3514,3514,3514,3514,3514,3514,3514,3514,3514,3514,3514,3514,3514,3514,3514,3514,3514,3514,3514,3514,3514,3514,3514,3514,3514,3514,3513,3507,3507,3507,3507,3507,3507,3507,3507,3507,3507,3507,3507,3507,3507,3507,3507,3506,3506,3506,3505,3505,3505,3504,3458,3406,3402,3371,3367,3365,3365,3365,3365,3365,3365,3365,3365,3365,3365,3365,3354,3354,3354,3354,3354,3354,3354,3351,3351,3351,3351,3351,3351,3351,3351,3351,3351,3351,3351,3351,3351,3351,3351,3350,3350,3344,3315,3314,3295,3292,3292,3292,3292,3292,3292,3292,3292,3292,3292,3292,3292,3292,3292,3292,3292,3292,3292,3291,3272,3267,3207,3207,3199,3197,3192,3150,3070,3070,3070,3070,3070,3070,3070,3070,3070,3070,3070,3070,3070,3070,3070,3070,3070,3070,3070,3070,3070,3070,3070,3070,3070,3070,3070,3070,3069,3031,2979,2979,2979,2977,2977,2977,2977,2977,2977,2977,2977,2977,2977,2977,2977,2967,2956,2956,2956,2956,2956,2956,2956,2955,2954,2954,2954,2954,2954,2954,2954,2954,2954,2954,2954,2954,2954,2954,2954,2954,2954,2954,2954,2954,2954,2954,2954,2954,2954,2954,2936,2936,2936,2936,2936,2936,2934,2934,2934,2932,2931,2931,2931,2927,2887,2865,2859,2859,2859,2859,2859,2859,2859,2859,2859,2859,2858,2850,2840,2840,2840,2840,2840,2840,2840,2840,2840,2840,2840,2837,2823,2805,2698,2695,2670,2670,2670,2670,2670,2670,2670,2670,2670,2670,2670,2670,2645,2645,2645,2645,2645,2645,2645,2645,2645,2645,2645,2645,2645,2606,2553,2473,2426,2426,2401,2390,2387,2387,2387,2387,2387,2387,2387,2387,2387,2387,2387,2387,2387,2387,2387,2383,2383,2383,2383,2383,2380,2374,2364,2364,2364,2359,2359,2359,2359,2358,2358,2355,2351,2345,2287,2251,2226,2225,2221,2221,2221,2188,2135,2135,2135,2135,2135,2124,2124,2123,2108,2101,2097,2097,2097,2097,2096,2054,2037,2030,1948,1854,1852,1852,1802,1802,1782,1708,1708,1708,1708,1708,1708,1708,1707,1707,1707,1706,1697,1695,1680,1671,1671,1670,1668,1608,1608,1572,1571,1482,1370,1370,1308,1277,1244,1196,1127,1127,1127,1126,1114,1113,1107,1091,1079,1079,1060,1057,1056,1046,1015,1015,1001,945,840,810,781,770,767,671,571,467,440,425,425,388,333,161,1]}},\"id\":\"b7bce30f-b9db-407c-a2cb-da239c074811\",\"type\":\"ColumnDataSource\"},{\"attributes\":{\"callback\":null,\"column_names\":[\"x\",\"y\"],\"data\":{\"x\":[0,1000,2000,3000,4000,5000,6000,7000,8000,9000,10000,11000,12000,13000,14000,15000,16000,17000,18000,19000,20000,21000,22000,23000,24000,25000,26000,27000,28000,29000,30000,31000,32000,33000,34000,35000,36000,37000,38000,39000,40000,41000,42000,43000,44000,45000,46000,47000,48000,49000,50000,51000,52000,53000,54000,55000,56000,57000,58000,59000,60000,61000,62000,63000,64000,65000,66000,67000,68000,69000,70000,71000,72000,73000,74000,75000,76000,77000,78000,79000,80000,81000,82000,83000,84000,85000,86000,87000,88000,89000,90000,91000,92000,93000,94000,95000,96000,97000,98000,99000,100000,101000,102000,103000,104000,105000,106000,107000,108000,109000,110000,111000,112000,113000,114000,115000,116000,117000,118000,119000,120000,121000,122000,123000,124000,125000,126000,127000,128000,129000,130000,131000,132000,133000,134000,135000,136000,137000,138000,139000,140000,141000,142000,143000,144000,145000,146000,147000,148000,149000,150000,151000,152000,153000,154000,155000,156000,157000,158000,159000,160000,161000,162000,163000,164000,165000,166000,167000,168000,169000,170000,171000,172000,173000,174000,175000,176000,177000,178000,179000,180000,181000,182000,183000,184000,185000,186000,187000,188000,189000,190000,191000,192000,193000,194000,195000,196000,197000,198000,199000,200000,201000,202000,203000,204000,205000,206000,207000,208000,209000,210000,211000,212000,213000,214000,215000,216000,217000,218000,219000,220000,221000,222000,223000,224000,225000,226000,227000,228000,229000,230000,231000,232000,233000,234000,235000,236000,237000,238000,239000,240000,241000,242000,243000,244000,245000,246000,247000,248000,249000,250000,251000,252000,253000,254000,255000,256000,257000,258000,259000,260000,261000,262000,263000,264000,265000,266000,267000,268000,269000,270000,271000,272000,273000,274000,275000,276000,277000,278000,279000,280000,281000,282000,283000,284000,285000,286000,287000,288000,289000,290000,291000,292000,293000,294000,295000,296000,297000,298000,299000,300000,301000,302000,303000,304000,305000,306000,307000,308000,309000,310000,311000,312000,313000,314000,315000,316000,317000,318000,319000,320000,321000,322000,323000,324000,325000,326000,327000,328000,329000,330000,331000,332000,333000,334000,335000,336000,337000,338000,339000,340000,341000,342000,343000,344000,345000,346000,347000,348000,349000,350000,351000,352000,353000,354000,355000,356000,357000,358000,359000,360000,361000,362000,363000,364000,365000,366000,367000,368000,369000,370000,371000,372000,373000,374000,375000,376000,377000,378000,379000,380000,381000,382000,383000,384000,385000,386000,387000,388000,389000,390000,391000,392000,393000,394000,395000,396000,397000,398000,399000,400000,401000,402000,403000,404000,405000,406000,407000,408000,409000,410000,411000,412000,413000,414000,415000,416000,417000,418000,419000,420000,421000,422000,423000,424000,425000,426000,427000,428000,429000,430000,431000,432000,433000,434000,435000,436000,437000,438000,439000,440000,441000,442000,443000,444000,445000,446000,447000,448000,449000,450000,451000,452000,453000,454000,455000,456000,457000,458000,459000,460000,461000,462000,463000,464000,465000,466000,467000,468000,469000,470000,471000,472000,473000,474000,475000,476000,477000,478000,479000,480000,481000,482000,483000,484000,485000,486000,487000,488000,489000,490000,491000,492000,493000,494000,495000,496000,497000,498000,499000,500000,501000,502000,503000,504000,505000,506000,507000,508000,509000,510000,511000,512000,513000,514000,515000,516000,517000,518000,519000,520000,521000,522000,523000,524000,525000,526000,527000,528000,529000,530000,531000,532000,533000,534000,535000,536000,537000,538000,539000,540000,541000,542000,543000,544000,545000,546000,547000,548000,549000,550000,551000,552000,553000,554000,555000,556000,557000,558000,559000,560000,561000,562000,563000,564000,565000,566000,567000,568000,569000,570000,571000,572000,573000,574000,575000,576000,577000,578000,579000,580000,581000,582000,583000,584000,585000,586000,587000,588000,589000,590000,591000,592000,593000,594000,595000,596000,597000,598000,599000,600000],\"y\":{\"__ndarray__\":\"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\",\"dtype\":\"float64\",\"shape\":[600]}}},\"id\":\"83b2691e-0ce4-49cf-bd81-864bcb35daeb\",\"type\":\"ColumnDataSource\"},{\"attributes\":{\"label\":{\"value\":\"0.5 Alpha 1 NScaler\"},\"renderers\":[{\"id\":\"db1666fb-df1e-43c6-8d94-3c60acb7388e\",\"type\":\"GlyphRenderer\"}]},\"id\":\"4ea8d590-3eca-478a-ab9c-e4cbefa43e06\",\"type\":\"LegendItem\"},{\"attributes\":{\"data_source\":{\"id\":\"06a225e9-d349-4dae-b286-2b4d9c947f47\",\"type\":\"ColumnDataSource\"},\"glyph\":{\"id\":\"3b7e2a89-f842-4361-965e-5f7b2e89e4b8\",\"type\":\"Line\"},\"hover_glyph\":null,\"nonselection_glyph\":{\"id\":\"5bd7026f-819b-4a81-bb1c-72bf5df9d657\",\"type\":\"Line\"},\"selection_glyph\":null},\"id\":\"217d368c-04a5-4b33-b2cc-29bc91cbd69a\",\"type\":\"GlyphRenderer\"},{\"attributes\":{\"callback\":null,\"column_names\":[\"x\",\"y\"],\"data\":{\"x\":[0,1000,2000,3000,4000,5000,6000,7000,8000,9000,10000,11000,12000,13000,14000,15000,16000,17000,18000,19000,20000,21000,22000,23000,24000,25000,26000,27000,28000,29000,30000,31000,32000,33000,34000,35000,36000,37000,38000,39000,40000,41000,42000,43000,44000,45000,46000,47000,48000,49000,50000,51000,52000,53000,54000,55000,56000,57000,58000,59000,60000,61000,62000,63000,64000,65000,66000,67000,68000,69000,70000,71000,72000,73000,74000,75000,76000,77000,78000,79000,80000,81000,82000,83000,84000,85000,86000,87000,88000,89000,90000,91000,92000,93000,94000,95000,96000,97000,98000,99000,100000,101000,102000,103000,104000,105000,106000,107000,108000,109000,110000,111000,112000,113000,114000,115000,116000,117000,118000,119000,120000,121000,122000,123000,124000,125000,126000,127000,128000,129000,130000,131000,132000,133000,134000,135000,136000,137000,138000,139000,140000,141000,142000,143000,144000,145000,146000,147000,148000,149000,150000,151000,152000,153000,154000,155000,156000,157000,158000,159000,160000,161000,162000,163000,164000,165000,166000,167000,168000,169000,170000,171000,172000,173000,174000,175000,176000,177000,178000,179000,180000,181000,182000,183000,184000,185000,186000,187000,188000,189000,190000,191000,192000,193000,194000,195000,196000,197000,198000,199000,200000,201000,202000,203000,204000,205000,206000,207000,208000,209000,210000,211000,212000,213000,214000,215000,216000,217000,218000,219000,220000,221000,222000,223000,224000,225000,226000,227000,228000,229000,230000,231000,232000,233000,234000,235000,236000,237000,238000,239000,240000,241000,242000,243000,244000,245000,246000,247000,248000,249000,250000,251000,252000,253000,254000,255000,256000,257000,258000,259000,260000,261000,262000,263000,264000,265000,266000,267000,268000,269000,270000,271000,272000,273000,274000,275000,276000,277000,278000,279000,280000,281000,282000,283000,284000,285000,286000,287000,288000,289000,290000,291000,292000,293000,294000,295000,296000,297000,298000,299000,300000,301000,302000,303000,304000,305000,306000,307000,308000,309000,310000,311000,312000,313000,314000,315000,316000,317000,318000,319000,320000,321000,322000,323000,324000,325000,326000,327000,328000,329000,330000,331000,332000,333000,334000,335000,336000,337000,338000,339000,340000,341000,342000,343000,344000,345000,346000,347000,348000,349000,350000,351000,352000,353000,354000,355000,356000,357000,358000,359000,360000,361000,362000,363000,364000,365000,366000,367000,368000,369000,370000,371000,372000,373000,374000,375000,376000,377000,378000,379000,380000,381000,382000,383000,384000,385000,386000,387000,388000,389000,390000,391000,392000,393000,394000,395000,396000,397000,398000,399000,400000,401000,402000,403000,404000,405000,406000,407000,408000,409000,410000,411000,412000,413000,414000,415000,416000,417000,418000,419000,420000,421000,422000,423000,424000,425000,426000,427000,428000,429000,430000,431000,432000,433000,434000,435000,436000,437000,438000,439000,440000,441000,442000,443000,444000,445000,446000,447000,448000,449000,450000,451000,452000,453000,454000,455000,456000,457000,458000,459000,460000,461000,462000,463000,464000,465000,466000,467000,468000,469000,470000,471000,472000,473000,474000,475000,476000,477000,478000,479000,480000,481000,482000,483000,484000,485000,486000,487000,488000,489000,490000,491000,492000,493000,494000,495000,496000,497000,498000,499000,500000,501000,502000,503000,504000,505000,506000,507000,508000,509000,510000,511000,512000,513000,514000,515000,516000,517000,518000,519000,520000,521000,522000,523000,524000,525000,526000,527000,528000,529000,530000,531000,532000,533000,534000,535000,536000,537000,538000,539000,540000,541000,542000,543000,544000,545000,546000,547000,548000,549000,550000,551000,552000,553000,554000,555000,556000,557000,558000,559000,560000,561000,562000,563000,564000,565000,566000,567000,568000,569000,570000,571000,572000,573000,574000,575000,576000,577000,578000,579000,580000,581000,582000,583000,584000,585000,586000,587000,588000,589000,590000,591000,592000,593000,594000,595000,596000,597000,598000,599000,600000,600000,599000,598000,597000,596000,595000,594000,593000,592000,591000,590000,589000,588000,587000,586000,585000,584000,583000,582000,581000,580000,579000,578000,577000,576000,575000,574000,573000,572000,571000,570000,569000,568000,567000,566000,565000,564000,563000,562000,561000,560000,559000,558000,557000,556000,555000,554000,553000,552000,551000,550000,549000,548000,547000,546000,545000,544000,543000,542000,541000,540000,539000,538000,537000,536000,535000,534000,533000,532000,531000,530000,529000,528000,527000,526000,525000,524000,523000,522000,521000,520000,519000,518000,517000,516000,515000,514000,513000,512000,511000,510000,509000,508000,507000,506000,505000,504000,503000,502000,501000,500000,499000,498000,497000,496000,495000,494000,493000,492000,491000,490000,489000,488000,487000,486000,485000,484000,483000,482000,481000,480000,479000,478000,477000,476000,475000,474000,473000,472000,471000,470000,469000,468000,467000,466000,465000,464000,463000,462000,461000,460000,459000,458000,457000,456000,455000,454000,453000,452000,451000,450000,449000,448000,447000,446000,445000,444000,443000,442000,441000,440000,439000,438000,437000,436000,435000,434000,433000,432000,431000,430000,429000,428000,427000,426000,425000,424000,423000,422000,421000,420000,419000,418000,417000,416000,415000,414000,413000,412000,411000,410000,409000,408000,407000,406000,405000,404000,403000,402000,401000,400000,399000,398000,397000,396000,395000,394000,393000,392000,391000,390000,389000,388000,387000,386000,385000,384000,383000,382000,381000,380000,379000,378000,377000,376000,375000,374000,373000,372000,371000,370000,369000,368000,367000,366000,365000,364000,363000,362000,361000,360000,359000,358000,357000,356000,355000,354000,353000,352000,351000,350000,349000,348000,347000,346000,345000,344000,343000,342000,341000,340000,339000,338000,337000,336000,335000,334000,333000,332000,331000,330000,329000,328000,327000,326000,325000,324000,323000,322000,321000,320000,319000,318000,317000,316000,315000,314000,313000,312000,311000,310000,309000,308000,307000,306000,305000,304000,303000,302000,301000,300000,299000,298000,297000,296000,295000,294000,293000,292000,291000,290000,289000,288000,287000,286000,285000,284000,283000,282000,281000,280000,279000,278000,277000,276000,275000,274000,273000,272000,271000,270000,269000,268000,267000,266000,265000,264000,263000,262000,261000,260000,259000,258000,257000,256000,255000,254000,253000,252000,251000,250000,249000,248000,247000,246000,245000,244000,243000,242000,241000,240000,239000,238000,237000,236000,235000,234000,233000,232000,231000,230000,229000,228000,227000,226000,225000,224000,223000,222000,221000,220000,219000,218000,217000,216000,215000,214000,213000,212000,211000,210000,209000,208000,207000,206000,205000,204000,203000,202000,201000,200000,199000,198000,197000,196000,195000,194000,193000,192000,191000,190000,189000,188000,187000,186000,185000,184000,183000,182000,181000,180000,179000,178000,177000,176000,175000,174000,173000,172000,171000,170000,169000,168000,167000,166000,165000,164000,163000,162000,161000,160000,159000,158000,157000,156000,155000,154000,153000,152000,151000,150000,149000,148000,147000,146000,145000,144000,143000,142000,141000,140000,139000,138000,137000,136000,135000,134000,133000,132000,131000,130000,129000,128000,127000,126000,125000,124000,123000,122000,121000,120000,119000,118000,117000,116000,115000,114000,113000,112000,111000,110000,109000,108000,107000,106000,105000,104000,103000,102000,101000,100000,99000,98000,97000,96000,95000,94000,93000,92000,91000,90000,89000,88000,87000,86000,85000,84000,83000,82000,81000,80000,79000,78000,77000,76000,75000,74000,73000,72000,71000,70000,69000,68000,67000,66000,65000,64000,63000,62000,61000,60000,59000,58000,57000,56000,55000,54000,53000,52000,51000,50000,49000,48000,47000,46000,45000,44000,43000,42000,41000,40000,39000,38000,37000,36000,35000,34000,33000,32000,31000,30000,29000,28000,27000,26000,25000,24000,23000,22000,21000,20000,19000,18000,17000,16000,15000,14000,13000,12000,11000,10000,9000,8000,7000,6000,5000,4000,3000,2000,1000,0],\"y\":[1,63,116,122,139,145,155,197,259,259,259,310,310,316,316,316,376,401,402,421,435,435,435,435,435,435,435,435,435,435,435,435,435,435,435,435,435,435,435,435,475,475,475,475,475,475,475,477,477,477,477,477,480,480,480,480,480,480,480,480,480,480,480,480,480,480,480,480,480,480,480,480,480,480,480,480,480,485,491,494,494,494,494,494,494,494,715,770,802,811,811,811,811,811,811,811,811,811,811,811,811,811,811,811,811,811,817,817,817,817,817,817,817,817,817,817,817,817,817,817,817,817,817,817,817,817,817,817,817,817,817,817,817,817,817,817,817,817,817,817,817,817,817,817,817,817,817,817,817,817,817,817,817,817,817,817,817,817,817,817,817,817,817,817,817,817,817,817,817,817,817,817,817,817,817,817,817,817,817,817,817,817,817,817,817,817,817,817,817,817,817,817,817,817,817,817,817,817,817,817,817,817,817,817,817,817,817,817,817,817,817,817,817,817,817,817,817,817,817,817,817,817,817,817,817,817,817,817,817,817,817,817,817,817,817,817,817,817,817,817,817,817,817,817,817,817,817,817,817,817,817,817,823,827,828,841,843,843,843,843,843,846,846,846,846,846,846,854,858,858,905,905,905,949,962,962,1034,1044,1044,1044,1044,1054,1058,1058,1060,1060,1060,1062,1102,1102,1104,1113,1113,1113,1113,1113,1115,1115,1115,1327,1391,1434,1451,1570,1749,1866,1899,1899,1916,1923,1923,1923,1923,1923,1923,1923,1923,1923,1923,1923,1923,1923,1923,1923,1989,2004,2020,2022,2023,2025,2056,2068,2117,2119,2120,2120,2122,2132,2132,2132,2132,2132,2132,2132,2132,2132,2132,2132,2132,2132,2132,2132,2132,2132,2132,2132,2132,2132,2132,2132,2132,2132,2132,2132,2132,2132,2132,2132,2132,2132,2132,2132,2132,2153,2156,2160,2173,2181,2181,2181,2181,2181,2181,2196,2196,2196,2202,2202,2202,2202,2208,2208,2208,2208,2208,2208,2208,2209,2215,2215,2215,2215,2215,2215,2215,2215,2256,2256,2257,2257,2257,2294,2297,2297,2297,2297,2297,2297,2297,2297,2297,2297,2297,2297,2297,2297,2297,2309,2311,2312,2312,2312,2312,2312,2312,2312,2312,2312,2315,2317,2321,2325,2325,2325,2325,2325,2325,2325,2325,2325,2325,2326,2326,2326,2326,2326,2326,2326,2326,2326,2326,2326,2326,2326,2326,2326,2326,2326,2326,2326,2326,2326,2326,2326,2326,2326,2326,2331,2331,2331,2331,2331,2331,2331,2331,2331,2331,2331,2331,2331,2331,2331,2331,2331,2331,2331,2331,2331,2331,2331,2331,2331,2331,2331,2331,2331,2331,2331,2331,2331,2331,2331,2331,2331,2331,2331,2331,2331,2331,2331,2331,2331,2331,2331,2331,2331,2331,2342,2357,2470,2584,2608,2608,2608,2608,2608,2608,2608,2608,2608,2608,2608,2608,2608,2608,2608,2608,2608,2608,2608,2608,2608,2608,2608,2608,2608,2608,2608,2608,2608,2608,2608,2608,2608,2608,2608,2608,2608,2608,2608,2608,2608,2608,2608,2608,2608,2608,2608,2608,2608,2608,2608,2608,2608,2608,2618,2618,2630,2630,2630,2630,2630,2630,2630,2630,2630,2630,2630,2630,2654,3774,3774,3774,3772,3771,3771,3771,3771,3771,3771,3771,3768,3768,3768,3768,3768,3768,3768,3768,3768,3768,3768,3768,3768,3768,3768,3768,3768,3768,3768,3768,3768,3768,3768,3768,3768,3768,3768,3768,3768,3768,3768,3768,3768,3768,3768,3768,3768,3768,3768,3768,3768,3768,3768,3768,3768,3768,3768,3768,3768,3763,3763,3763,3763,3763,3763,3763,3763,3763,3763,3763,3763,3763,3763,3763,3763,3763,3763,3763,3763,3763,3763,3763,3763,3763,3763,3763,3763,3763,3763,3763,3763,3763,3763,3763,3763,3763,3763,3763,3763,3763,3763,3763,3763,3763,3763,3763,3763,3763,3763,3763,3763,3763,3763,3763,3763,3763,3763,3763,3763,3763,3763,3763,3763,3763,3763,3763,3763,3763,3763,3763,3763,3763,3763,3763,3763,3763,3763,3763,3763,3763,3763,3763,3763,3763,3763,3763,3763,3763,3763,3763,3763,3763,3763,3763,3763,3763,3763,3763,3763,3763,3763,3763,3763,3763,3763,3763,3763,3763,3763,3763,3763,3763,3763,3763,3763,3763,3763,3763,3763,3763,3763,3763,3763,3763,3763,3763,3763,3763,3763,3763,3763,3763,3763,3763,3763,3763,3763,3763,3763,3763,3763,3763,3763,3763,3763,3763,3763,3763,3763,3763,3763,3763,3763,3763,3763,3763,3763,3763,3763,3763,3763,3763,3763,3763,3763,3763,3763,3763,3763,3763,3763,3763,3763,3763,3763,3763,3763,3763,3763,3763,3763,3763,3763,3763,3763,3763,3763,3763,3763,3763,3763,3763,3763,3763,3763,3763,3763,3763,3763,3763,3763,3763,3763,3763,3763,3763,3763,3763,3763,3763,3763,3763,3763,3763,3763,3763,3763,3763,3763,3763,3763,3763,3763,3763,3763,3763,3763,3763,3763,3763,3763,3763,3763,3763,3763,3763,3763,3763,3763,3763,3763,3763,3763,3763,3763,3763,3763,3763,3763,3763,3763,3763,3763,3763,3763,3763,3763,3763,3763,3763,3763,3763,3763,3763,3763,3763,3763,3763,3763,3763,3763,3763,3763,3763,3763,3763,3762,3762,3762,3761,3761,3761,3745,3740,3737,3736,3725,3725,3725,3725,3725,3724,3724,3724,3724,3724,3724,3724,3648,3593,3570,3570,3570,3570,3570,3570,3570,3570,3570,3570,3570,3570,3567,3567,3567,3567,3567,3567,3567,3567,3562,3562,3562,3562,3562,3562,3562,3562,3562,3562,3562,3562,3562,3562,3562,3562,3562,3562,3562,3562,3562,3562,3562,3543,3543,3543,3539,3519,3517,3510,3500,3499,3499,3499,3496,3490,3489,3484,3470,3411,3408,3404,3404,3404,3404,3404,3404,3403,3397,3386,3216,3192,3192,3183,3183,3183,3172,3170,3170,3166,3145,3113,2995,2983,2983,2983,2983,2981,2981,2981,2981,2981,2981,2980,2972,2972,2955,2938,2938,2937,2937,2937,2928,2894,2894,2894,2894,2891,2891,2891,2891,2890,2890,2886,2886,2886,2886,2886,2884,2884,2884,2883,2883,2883,2883,2883,2883,2883,2883,2883,2883,2879,2877,2873,2779,2682,2655,2619,2618,2602,2602,2601,2599,2598,2582,2570,2545,2543,2538,2536,2486,2447,2444,2441,2441,2441,2441,2441,2437,2437,2434,2430,2430,2428,2424,2424,2424,2424,2411,2407,2407,2343,2336,2336,2327,2296,2281,2188,2080,2052,2009,2006,2006,2006,2006,2006,2006,2006,2006,2006,1994,1980,1820,1694,1641,1631,1631,1588,1561,1526,1515,1514,1514,1486,1482,1482,1482,1482,1482,1482,1481,1462,1462,1461,1425,1400,1319,1261,1246,1174,1163,1163,1163,1163,1157,1147,1064,1003,845,737,703,679,590,532,399,336,313,161,1]}},\"id\":\"c9111a62-f4ab-43c3-be7b-b1d7e11a871b\",\"type\":\"ColumnDataSource\"},{\"attributes\":{\"use_scientific\":false},\"id\":\"caa0f2fa-bfee-46d0-b908-a88ecda10178\",\"type\":\"BasicTickFormatter\"},{\"attributes\":{\"line_color\":{\"value\":\"#377eb8\"},\"line_width\":{\"value\":2},\"x\":{\"field\":\"x\"},\"y\":{\"field\":\"y\"}},\"id\":\"738d5383-730e-4ca2-9d50-31a5b5b79aed\",\"type\":\"Line\"},{\"attributes\":{},\"id\":\"3a5d35b4-5c0b-42b0-9222-08c6c5b171ea\",\"type\":\"ToolEvents\"},{\"attributes\":{\"fill_alpha\":{\"value\":0.1},\"fill_color\":{\"value\":\"#1f77b4\"},\"line_alpha\":{\"value\":0.1},\"line_color\":{\"value\":\"#1f77b4\"},\"x\":{\"field\":\"x\"},\"y\":{\"field\":\"y\"}},\"id\":\"6dc86bcd-e4c1-4bca-bd26-e740090a63a6\",\"type\":\"Patch\"},{\"attributes\":{\"line_alpha\":{\"value\":0.1},\"line_color\":{\"value\":\"#1f77b4\"},\"line_width\":{\"value\":2},\"x\":{\"field\":\"x\"},\"y\":{\"field\":\"y\"}},\"id\":\"fbb4e45f-6d2b-43f5-8694-c0d509a70725\",\"type\":\"Line\"},{\"attributes\":{\"below\":[{\"id\":\"1d0c9d92-6c0c-4b07-9b42-0f99efc6f3a5\",\"type\":\"LinearAxis\"}],\"left\":[{\"id\":\"e7b38ed2-fab3-4da8-b6ba-15a94275c7c2\",\"type\":\"LinearAxis\"}],\"plot_height\":800,\"plot_width\":1200,\"renderers\":[{\"id\":\"1d0c9d92-6c0c-4b07-9b42-0f99efc6f3a5\",\"type\":\"LinearAxis\"},{\"id\":\"247ecb45-5593-4ff6-ab5f-fce752f238fa\",\"type\":\"Grid\"},{\"id\":\"e7b38ed2-fab3-4da8-b6ba-15a94275c7c2\",\"type\":\"LinearAxis\"},{\"id\":\"765c528e-3377-407c-b592-64eb1373c293\",\"type\":\"Grid\"},{\"id\":\"2802c99c-e730-45c2-9e03-03d157ba3879\",\"type\":\"BoxAnnotation\"},{\"id\":\"2bba3ebb-7538-4292-84a1-209a91ce0c97\",\"type\":\"GlyphRenderer\"},{\"id\":\"db1666fb-df1e-43c6-8d94-3c60acb7388e\",\"type\":\"GlyphRenderer\"},{\"id\":\"ca817e35-f416-4ece-815f-696a05a671ab\",\"type\":\"GlyphRenderer\"},{\"id\":\"f95354aa-3825-4de7-a766-c5b9f78560de\",\"type\":\"GlyphRenderer\"},{\"id\":\"67a1d730-f85c-4e69-9894-c219cfa66c9b\",\"type\":\"GlyphRenderer\"},{\"id\":\"217d368c-04a5-4b33-b2cc-29bc91cbd69a\",\"type\":\"GlyphRenderer\"},{\"id\":\"0b09b87c-c91a-411f-9ea4-b58ff8d657cc\",\"type\":\"GlyphRenderer\"},{\"id\":\"e63a05e6-3d09-4a7d-b5fc-9c60a2480ed6\",\"type\":\"GlyphRenderer\"},{\"id\":\"1c583c6f-8ac9-4702-87c4-2f6958a9048d\",\"type\":\"Legend\"}],\"right\":[{\"id\":\"1c583c6f-8ac9-4702-87c4-2f6958a9048d\",\"type\":\"Legend\"}],\"title\":{\"id\":\"6b010ca6-bed7-4ea9-aaaa-1fb93fff7f95\",\"type\":\"Title\"},\"tool_events\":{\"id\":\"3a5d35b4-5c0b-42b0-9222-08c6c5b171ea\",\"type\":\"ToolEvents\"},\"toolbar\":{\"id\":\"b70ec211-b598-476a-8643-b975212361ca\",\"type\":\"Toolbar\"},\"toolbar_location\":\"above\",\"x_range\":{\"id\":\"7a3a99c1-0a25-4282-96b9-76c0e3669474\",\"type\":\"DataRange1d\"},\"y_range\":{\"id\":\"1cf80607-84d5-4a9d-b98d-efe2ebeab017\",\"type\":\"DataRange1d\"}},\"id\":\"36b65396-88f5-487d-8fe3-0385f550f234\",\"subtype\":\"Figure\",\"type\":\"Plot\"},{\"attributes\":{\"callback\":null,\"column_names\":[\"x\",\"y\"],\"data\":{\"x\":[0,1000,2000,3000,4000,5000,6000,7000,8000,9000,10000,11000,12000,13000,14000,15000,16000,17000,18000,19000,20000,21000,22000,23000,24000,25000,26000,27000,28000,29000,30000,31000,32000,33000,34000,35000,36000,37000,38000,39000,40000,41000,42000,43000,44000,45000,46000,47000,48000,49000,50000,51000,52000,53000,54000,55000,56000,57000,58000,59000,60000,61000,62000,63000,64000,65000,66000,67000,68000,69000,70000,71000,72000,73000,74000,75000,76000,77000,78000,79000,80000,81000,82000,83000,84000,85000,86000,87000,88000,89000,90000,91000,92000,93000,94000,95000,96000,97000,98000,99000,100000,101000,102000,103000,104000,105000,106000,107000,108000,109000,110000,111000,112000,113000,114000,115000,116000,117000,118000,119000,120000,121000,122000,123000,124000,125000,126000,127000,128000,129000,130000,131000,132000,133000,134000,135000,136000,137000,138000,139000,140000,141000,142000,143000,144000,145000,146000,147000,148000,149000,150000,151000,152000,153000,154000,155000,156000,157000,158000,159000,160000,161000,162000,163000,164000,165000,166000,167000,168000,169000,170000,171000,172000,173000,174000,175000,176000,177000,178000,179000,180000,181000,182000,183000,184000,185000,186000,187000,188000,189000,190000,191000,192000,193000,194000,195000,196000,197000,198000,199000,200000,201000,202000,203000,204000,205000,206000,207000,208000,209000,210000,211000,212000,213000,214000,215000,216000,217000,218000,219000,220000,221000,222000,223000,224000,225000,226000,227000,228000,229000,230000,231000,232000,233000,234000,235000,236000,237000,238000,239000,240000,241000,242000,243000,244000,245000,246000,247000,248000,249000,250000,251000,252000,253000,254000,255000,256000,257000,258000,259000,260000,261000,262000,263000,264000,265000,266000,267000,268000,269000,270000,271000,272000,273000,274000,275000,276000,277000,278000,279000,280000,281000,282000,283000,284000,285000,286000,287000,288000,289000,290000,291000,292000,293000,294000,295000,296000,297000,298000,299000,300000,301000,302000,303000,304000,305000,306000,307000,308000,309000,310000,311000,312000,313000,314000,315000,316000,317000,318000,319000,320000,321000,322000,323000,324000,325000,326000,327000,328000,329000,330000,331000,332000,333000,334000,335000,336000,337000,338000,339000,340000,341000,342000,343000,344000,345000,346000,347000,348000,349000,350000,351000,352000,353000,354000,355000,356000,357000,358000,359000,360000,361000,362000,363000,364000,365000,366000,367000,368000,369000,370000,371000,372000,373000,374000,375000,376000,377000,378000,379000,380000,381000,382000,383000,384000,385000,386000,387000,388000,389000,390000,391000,392000,393000,394000,395000,396000,397000,398000,399000,400000,401000,402000,403000,404000,405000,406000,407000,408000,409000,410000,411000,412000,413000,414000,415000,416000,417000,418000,419000,420000,421000,422000,423000,424000,425000,426000,427000,428000,429000,430000,431000,432000,433000,434000,435000,436000,437000,438000,439000,440000,441000,442000,443000,444000,445000,446000,447000,448000,449000,450000,451000,452000,453000,454000,455000,456000,457000,458000,459000,460000,461000,462000,463000,464000,465000,466000,467000,468000,469000,470000,471000,472000,473000,474000,475000,476000,477000,478000,479000,480000,481000,482000,483000,484000,485000,486000,487000,488000,489000,490000,491000,492000,493000,494000,495000,496000,497000,498000,499000,500000,501000,502000,503000,504000,505000,506000,507000,508000,509000,510000,511000,512000,513000,514000,515000,516000,517000,518000,519000,520000,521000,522000,523000,524000,525000,526000,527000,528000,529000,530000,531000,532000,533000,534000,535000,536000,537000,538000,539000,540000,541000,542000,543000,544000,545000,546000,547000,548000,549000,550000,551000,552000,553000,554000,555000,556000,557000,558000,559000,560000,561000,562000,563000,564000,565000,566000,567000,568000,569000,570000,571000,572000,573000,574000,575000,576000,577000,578000,579000,580000,581000,582000,583000,584000,585000,586000,587000,588000,589000,590000,591000,592000,593000,594000,595000,596000,597000,598000,599000,600000],\"y\":{\"__ndarray__\":\"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\",\"dtype\":\"float64\",\"shape\":[600]}}},\"id\":\"f2beecc9-ee68-4002-b10d-bb97dbf5d029\",\"type\":\"ColumnDataSource\"},{\"attributes\":{},\"id\":\"4a6568b1-d0e1-4151-890e-660f46d043e6\",\"type\":\"BasicTickFormatter\"},{\"attributes\":{\"callback\":null,\"column_names\":[\"x\",\"y\"],\"data\":{\"x\":[0,1000,2000,3000,4000,5000,6000,7000,8000,9000,10000,11000,12000,13000,14000,15000,16000,17000,18000,19000,20000,21000,22000,23000,24000,25000,26000,27000,28000,29000,30000,31000,32000,33000,34000,35000,36000,37000,38000,39000,40000,41000,42000,43000,44000,45000,46000,47000,48000,49000,50000,51000,52000,53000,54000,55000,56000,57000,58000,59000,60000,61000,62000,63000,64000,65000,66000,67000,68000,69000,70000,71000,72000,73000,74000,75000,76000,77000,78000,79000,80000,81000,82000,83000,84000,85000,86000,87000,88000,89000,90000,91000,92000,93000,94000,95000,96000,97000,98000,99000,100000,101000,102000,103000,104000,105000,106000,107000,108000,109000,110000,111000,112000,113000,114000,115000,116000,117000,118000,119000,120000,121000,122000,123000,124000,125000,126000,127000,128000,129000,130000,131000,132000,133000,134000,135000,136000,137000,138000,139000,140000,141000,142000,143000,144000,145000,146000,147000,148000,149000,150000,151000,152000,153000,154000,155000,156000,157000,158000,159000,160000,161000,162000,163000,164000,165000,166000,167000,168000,169000,170000,171000,172000,173000,174000,175000,176000,177000,178000,179000,180000,181000,182000,183000,184000,185000,186000,187000,188000,189000,190000,191000,192000,193000,194000,195000,196000,197000,198000,199000,200000,201000,202000,203000,204000,205000,206000,207000,208000,209000,210000,211000,212000,213000,214000,215000,216000,217000,218000,219000,220000,221000,222000,223000,224000,225000,226000,227000,228000,229000,230000,231000,232000,233000,234000,235000,236000,237000,238000,239000,240000,241000,242000,243000,244000,245000,246000,247000,248000,249000,250000,251000,252000,253000,254000,255000,256000,257000,258000,259000,260000,261000,262000,263000,264000,265000,266000,267000,268000,269000,270000,271000,272000,273000,274000,275000,276000,277000,278000,279000,280000,281000,282000,283000,284000,285000,286000,287000,288000,289000,290000,291000,292000,293000,294000,295000,296000,297000,298000,299000,300000,301000,302000,303000,304000,305000,306000,307000,308000,309000,310000,311000,312000,313000,314000,315000,316000,317000,318000,319000,320000,321000,322000,323000,324000,325000,326000,327000,328000,329000,330000,331000,332000,333000,334000,335000,336000,337000,338000,339000,340000,341000,342000,343000,344000,345000,346000,347000,348000,349000,350000,351000,352000,353000,354000,355000,356000,357000,358000,359000,360000,361000,362000,363000,364000,365000,366000,367000,368000,369000,370000,371000,372000,373000,374000,375000,376000,377000,378000,379000,380000,381000,382000,383000,384000,385000,386000,387000,388000,389000,390000,391000,392000,393000,394000,395000,396000,397000,398000,399000,400000,401000,402000,403000,404000,405000,406000,407000,408000,409000,410000,411000,412000,413000,414000,415000,416000,417000,418000,419000,420000,421000,422000,423000,424000,425000,426000,427000,428000,429000,430000,431000,432000,433000,434000,435000,436000,437000,438000,439000,440000,441000,442000,443000,444000,445000,446000,447000,448000,449000,450000,451000,452000,453000,454000,455000,456000,457000,458000,459000,460000,461000,462000,463000,464000,465000,466000,467000,468000,469000,470000,471000,472000,473000,474000,475000,476000,477000,478000,479000,480000,481000,482000,483000,484000,485000,486000,487000,488000,489000,490000,491000,492000,493000,494000,495000,496000,497000,498000,499000,500000,501000,502000,503000,504000,505000,506000,507000,508000,509000,510000,511000,512000,513000,514000,515000,516000,517000,518000,519000,520000,521000,522000,523000,524000,525000,526000,527000,528000,529000,530000,531000,532000,533000,534000,535000,536000,537000,538000,539000,540000,541000,542000,543000,544000,545000,546000,547000,548000,549000,550000,551000,552000,553000,554000,555000,556000,557000,558000,559000,560000,561000,562000,563000,564000,565000,566000,567000,568000,569000,570000,571000,572000,573000,574000,575000,576000,577000,578000,579000,580000,581000,582000,583000,584000,585000,586000,587000,588000,589000,590000,591000,592000,593000,594000,595000,596000,597000,598000,599000,600000],\"y\":{\"__ndarray__\":\"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\",\"dtype\":\"float64\",\"shape\":[600]}}},\"id\":\"84894098-0ca3-46fa-8d87-a501eaeee1ed\",\"type\":\"ColumnDataSource\"},{\"attributes\":{\"fill_alpha\":{\"value\":0.1},\"fill_color\":{\"value\":\"#377eb8\"},\"line_alpha\":{\"value\":0.1},\"line_color\":{\"value\":\"#377eb8\"},\"x\":{\"field\":\"x\"},\"y\":{\"field\":\"y\"}},\"id\":\"7bde96a8-12af-4351-a0a0-5edebb2c01c9\",\"type\":\"Patch\"},{\"attributes\":{\"line_alpha\":{\"value\":0.1},\"line_color\":{\"value\":\"#1f77b4\"},\"line_width\":{\"value\":2},\"x\":{\"field\":\"x\"},\"y\":{\"field\":\"y\"}},\"id\":\"33ec1f80-2139-4ba4-b0b5-d17001cd5c9d\",\"type\":\"Line\"},{\"attributes\":{\"callback\":null,\"column_names\":[\"x\",\"y\"],\"data\":{\"x\":[0,1000,2000,3000,4000,5000,6000,7000,8000,9000,10000,11000,12000,13000,14000,15000,16000,17000,18000,19000,20000,21000,22000,23000,24000,25000,26000,27000,28000,29000,30000,31000,32000,33000,34000,35000,36000,37000,38000,39000,40000,41000,42000,43000,44000,45000,46000,47000,48000,49000,50000,51000,52000,53000,54000,55000,56000,57000,58000,59000,60000,61000,62000,63000,64000,65000,66000,67000,68000,69000,70000,71000,72000,73000,74000,75000,76000,77000,78000,79000,80000,81000,82000,83000,84000,85000,86000,87000,88000,89000,90000,91000,92000,93000,94000,95000,96000,97000,98000,99000,100000,101000,102000,103000,104000,105000,106000,107000,108000,109000,110000,111000,112000,113000,114000,115000,116000,117000,118000,119000,120000,121000,122000,123000,124000,125000,126000,127000,128000,129000,130000,131000,132000,133000,134000,135000,136000,137000,138000,139000,140000,141000,142000,143000,144000,145000,146000,147000,148000,149000,150000,151000,152000,153000,154000,155000,156000,157000,158000,159000,160000,161000,162000,163000,164000,165000,166000,167000,168000,169000,170000,171000,172000,173000,174000,175000,176000,177000,178000,179000,180000,181000,182000,183000,184000,185000,186000,187000,188000,189000,190000,191000,192000,193000,194000,195000,196000,197000,198000,199000,200000,201000,202000,203000,204000,205000,206000,207000,208000,209000,210000,211000,212000,213000,214000,215000,216000,217000,218000,219000,220000,221000,222000,223000,224000,225000,226000,227000,228000,229000,230000,231000,232000,233000,234000,235000,236000,237000,238000,239000,240000,241000,242000,243000,244000,245000,246000,247000,248000,249000,250000,251000,252000,253000,254000,255000,256000,257000,258000,259000,260000,261000,262000,263000,264000,265000,266000,267000,268000,269000,270000,271000,272000,273000,274000,275000,276000,277000,278000,279000,280000,281000,282000,283000,284000,285000,286000,287000,288000,289000,290000,291000,292000,293000,294000,295000,296000,297000,298000,299000,300000,301000,302000,303000,304000,305000,306000,307000,308000,309000,310000,311000,312000,313000,314000,315000,316000,317000,318000,319000,320000,321000,322000,323000,324000,325000,326000,327000,328000,329000,330000,331000,332000,333000,334000,335000,336000,337000,338000,339000,340000,341000,342000,343000,344000,345000,346000,347000,348000,349000,350000,351000,352000,353000,354000,355000,356000,357000,358000,359000,360000,361000,362000,363000,364000,365000,366000,367000,368000,369000,370000,371000,372000,373000,374000,375000,376000,377000,378000,379000,380000,381000,382000,383000,384000,385000,386000,387000,388000,389000,390000,391000,392000,393000,394000,395000,396000,397000,398000,399000,400000,401000,402000,403000,404000,405000,406000,407000,408000,409000,410000,411000,412000,413000,414000,415000,416000,417000,418000,419000,420000,421000,422000,423000,424000,425000,426000,427000,428000,429000,430000,431000,432000,433000,434000,435000,436000,437000,438000,439000,440000,441000,442000,443000,444000,445000,446000,447000,448000,449000,450000,451000,452000,453000,454000,455000,456000,457000,458000,459000,460000,461000,462000,463000,464000,465000,466000,467000,468000,469000,470000,471000,472000,473000,474000,475000,476000,477000,478000,479000,480000,481000,482000,483000,484000,485000,486000,487000,488000,489000,490000,491000,492000,493000,494000,495000,496000,497000,498000,499000,500000,501000,502000,503000,504000,505000,506000,507000,508000,509000,510000,511000,512000,513000,514000,515000,516000,517000,518000,519000,520000,521000,522000,523000,524000,525000,526000,527000,528000,529000,530000,531000,532000,533000,534000,535000,536000,537000,538000,539000,540000,541000,542000,543000,544000,545000,546000,547000,548000,549000,550000,551000,552000,553000,554000,555000,556000,557000,558000,559000,560000,561000,562000,563000,564000,565000,566000,567000,568000,569000,570000,571000,572000,573000,574000,575000,576000,577000,578000,579000,580000,581000,582000,583000,584000,585000,586000,587000,588000,589000,590000,591000,592000,593000,594000,595000,596000,597000,598000,599000,600000,600000,599000,598000,597000,596000,595000,594000,593000,592000,591000,590000,589000,588000,587000,586000,585000,584000,583000,582000,581000,580000,579000,578000,577000,576000,575000,574000,573000,572000,571000,570000,569000,568000,567000,566000,565000,564000,563000,562000,561000,560000,559000,558000,557000,556000,555000,554000,553000,552000,551000,550000,549000,548000,547000,546000,545000,544000,543000,542000,541000,540000,539000,538000,537000,536000,535000,534000,533000,532000,531000,530000,529000,528000,527000,526000,525000,524000,523000,522000,521000,520000,519000,518000,517000,516000,515000,514000,513000,512000,511000,510000,509000,508000,507000,506000,505000,504000,503000,502000,501000,500000,499000,498000,497000,496000,495000,494000,493000,492000,491000,490000,489000,488000,487000,486000,485000,484000,483000,482000,481000,480000,479000,478000,477000,476000,475000,474000,473000,472000,471000,470000,469000,468000,467000,466000,465000,464000,463000,462000,461000,460000,459000,458000,457000,456000,455000,454000,453000,452000,451000,450000,449000,448000,447000,446000,445000,444000,443000,442000,441000,440000,439000,438000,437000,436000,435000,434000,433000,432000,431000,430000,429000,428000,427000,426000,425000,424000,423000,422000,421000,420000,419000,418000,417000,416000,415000,414000,413000,412000,411000,410000,409000,408000,407000,406000,405000,404000,403000,402000,401000,400000,399000,398000,397000,396000,395000,394000,393000,392000,391000,390000,389000,388000,387000,386000,385000,384000,383000,382000,381000,380000,379000,378000,377000,376000,375000,374000,373000,372000,371000,370000,369000,368000,367000,366000,365000,364000,363000,362000,361000,360000,359000,358000,357000,356000,355000,354000,353000,352000,351000,350000,349000,348000,347000,346000,345000,344000,343000,342000,341000,340000,339000,338000,337000,336000,335000,334000,333000,332000,331000,330000,329000,328000,327000,326000,325000,324000,323000,322000,321000,320000,319000,318000,317000,316000,315000,314000,313000,312000,311000,310000,309000,308000,307000,306000,305000,304000,303000,302000,301000,300000,299000,298000,297000,296000,295000,294000,293000,292000,291000,290000,289000,288000,287000,286000,285000,284000,283000,282000,281000,280000,279000,278000,277000,276000,275000,274000,273000,272000,271000,270000,269000,268000,267000,266000,265000,264000,263000,262000,261000,260000,259000,258000,257000,256000,255000,254000,253000,252000,251000,250000,249000,248000,247000,246000,245000,244000,243000,242000,241000,240000,239000,238000,237000,236000,235000,234000,233000,232000,231000,230000,229000,228000,227000,226000,225000,224000,223000,222000,221000,220000,219000,218000,217000,216000,215000,214000,213000,212000,211000,210000,209000,208000,207000,206000,205000,204000,203000,202000,201000,200000,199000,198000,197000,196000,195000,194000,193000,192000,191000,190000,189000,188000,187000,186000,185000,184000,183000,182000,181000,180000,179000,178000,177000,176000,175000,174000,173000,172000,171000,170000,169000,168000,167000,166000,165000,164000,163000,162000,161000,160000,159000,158000,157000,156000,155000,154000,153000,152000,151000,150000,149000,148000,147000,146000,145000,144000,143000,142000,141000,140000,139000,138000,137000,136000,135000,134000,133000,132000,131000,130000,129000,128000,127000,126000,125000,124000,123000,122000,121000,120000,119000,118000,117000,116000,115000,114000,113000,112000,111000,110000,109000,108000,107000,106000,105000,104000,103000,102000,101000,100000,99000,98000,97000,96000,95000,94000,93000,92000,91000,90000,89000,88000,87000,86000,85000,84000,83000,82000,81000,80000,79000,78000,77000,76000,75000,74000,73000,72000,71000,70000,69000,68000,67000,66000,65000,64000,63000,62000,61000,60000,59000,58000,57000,56000,55000,54000,53000,52000,51000,50000,49000,48000,47000,46000,45000,44000,43000,42000,41000,40000,39000,38000,37000,36000,35000,34000,33000,32000,31000,30000,29000,28000,27000,26000,25000,24000,23000,22000,21000,20000,19000,18000,17000,16000,15000,14000,13000,12000,11000,10000,9000,8000,7000,6000,5000,4000,3000,2000,1000,0],\"y\":[1,72,101,118,142,184,184,192,192,243,243,243,243,243,243,243,243,245,261,304,322,322,322,322,322,322,322,322,322,322,322,322,353,353,353,353,353,353,353,353,353,353,353,353,353,353,353,353,353,353,353,353,353,353,353,353,353,353,353,353,353,419,419,419,419,419,419,419,419,419,419,419,419,419,419,419,419,419,419,419,419,419,419,419,419,419,419,419,419,419,419,419,419,419,419,419,419,419,419,419,419,419,419,419,419,419,419,419,419,419,419,419,419,419,419,419,419,419,419,419,419,419,419,419,419,419,419,419,419,419,419,419,419,419,419,419,419,419,419,419,419,419,419,419,419,419,419,419,419,419,419,419,419,419,419,419,419,419,419,419,419,419,419,419,419,419,419,419,419,419,419,419,419,419,419,419,419,419,419,419,419,419,419,419,419,419,419,419,419,419,419,419,419,419,419,419,419,419,419,419,419,419,419,419,419,419,419,419,419,419,419,419,419,419,419,419,419,419,419,419,419,419,419,419,419,419,419,419,419,419,419,419,419,419,419,419,419,468,478,478,478,478,511,524,525,525,525,535,603,618,661,750,765,887,1023,1094,1138,1144,1149,1157,1158,1158,1158,1158,1158,1158,1158,1192,1210,1210,1210,1210,1210,1221,1226,1228,1340,1348,1411,1411,1422,1422,1429,1445,1454,1460,1462,1475,1509,1524,1525,1525,1526,1526,1528,1528,1530,1530,1530,1530,1531,1531,1531,1531,1593,1705,1721,1729,1729,1729,1729,1763,1768,1768,1768,1776,1800,1841,1852,1862,1862,1862,1862,1862,1862,1862,1862,1897,1898,1898,1898,1898,1899,1899,1899,1899,1905,1923,1927,1927,1927,1927,1927,1927,1927,1927,1927,1927,1927,1927,2012,2014,2014,2014,2014,2014,2014,2014,2014,2014,2014,2014,2014,2014,2014,2014,2014,2014,2014,2014,2014,2014,2054,2061,2061,2061,2061,2061,2061,2061,2061,2061,2061,2061,2061,2061,2061,2061,2061,2061,2061,2061,2061,2061,2061,2061,2061,2061,2061,2073,2073,2073,2073,2073,2073,2073,2073,2073,2073,2073,2073,2073,2073,2073,2073,2073,2073,2073,2073,2073,2073,2073,2073,2108,2118,2118,2183,2247,2260,2261,2281,2281,2281,2281,2281,2281,2281,2281,2281,2283,2283,2283,2283,2283,2283,2283,2283,2292,2383,2383,2383,2434,2439,2439,2441,2441,2441,2441,2441,2441,2441,2441,2444,2445,2445,2445,2445,2445,2445,2445,2445,2461,2465,2465,2466,2466,2473,2476,2476,2476,2476,2627,2671,2682,2718,2742,2747,2857,2857,2857,2857,2857,2857,2857,2857,2857,2857,2857,2857,2857,2857,2857,2857,2857,2857,2857,2857,2857,2857,2857,2857,2857,2857,2857,2857,2857,2857,2857,2857,2857,2857,2857,2858,2858,2858,2858,2858,2858,2858,2858,2858,2858,2858,2858,2858,2858,2858,2858,2858,2858,2858,2858,2858,2858,2858,2858,2858,2858,2858,2858,2858,2858,2858,2858,2858,2858,2858,2858,2858,2858,2858,2858,2858,2858,2860,2860,2866,2866,2866,2866,2866,2866,2866,2866,2866,2866,2866,2866,2866,2866,2866,2866,2866,2866,2866,2866,2866,2866,2866,2866,2866,2866,2866,2866,2866,2866,2866,2866,2866,2866,3717,3717,3717,3717,3717,3661,3661,3661,3661,3661,3661,3661,3661,3661,3661,3661,3661,3661,3661,3661,3661,3661,3661,3661,3661,3661,3661,3661,3661,3661,3661,3661,3661,3661,3661,3661,3661,3661,3661,3661,3661,3661,3661,3661,3661,3661,3661,3661,3661,3661,3661,3661,3661,3661,3661,3661,3661,3661,3661,3661,3661,3661,3661,3661,3661,3661,3661,3661,3661,3661,3661,3661,3661,3661,3661,3661,3661,3661,3661,3661,3661,3661,3661,3661,3661,3661,3661,3661,3661,3661,3661,3661,3661,3661,3661,3661,3661,3661,3661,3661,3661,3661,3661,3661,3661,3661,3661,3661,3661,3661,3661,3661,3661,3661,3661,3661,3661,3661,3661,3661,3661,3661,3661,3661,3661,3661,3661,3661,3661,3661,3661,3661,3661,3661,3661,3661,3661,3661,3661,3661,3661,3661,3661,3661,3661,3661,3661,3661,3661,3661,3661,3661,3661,3661,3661,3661,3661,3661,3661,3661,3661,3661,3661,3661,3661,3661,3661,3661,3661,3661,3661,3661,3661,3661,3661,3661,3661,3661,3661,3661,3661,3661,3661,3661,3661,3661,3661,3661,3661,3661,3661,3661,3661,3661,3661,3661,3661,3661,3661,3661,3661,3661,3661,3661,3661,3661,3661,3661,3661,3661,3661,3661,3661,3661,3661,3661,3661,3661,3661,3661,3661,3661,3661,3661,3661,3661,3661,3661,3661,3661,3661,3661,3661,3661,3661,3661,3661,3661,3661,3661,3661,3661,3661,3661,3661,3661,3661,3661,3661,3661,3661,3661,3661,3661,3661,3661,3661,3661,3661,3661,3661,3661,3661,3661,3661,3661,3661,3661,3661,3661,3661,3661,3661,3661,3661,3661,3661,3661,3661,3661,3661,3661,3645,3645,3645,3629,3629,3629,3629,3629,3629,3629,3629,3629,3629,3629,3627,3626,3626,3626,3626,3626,3626,3626,3626,3626,3626,3626,3626,3626,3626,3609,3581,3581,3575,3575,3575,3575,3575,3575,3575,3575,3575,3575,3575,3575,3575,3575,3575,3539,3506,3501,3498,3498,3498,3498,3498,3498,3498,3498,3498,3498,3498,3498,3494,3419,3367,3367,3367,3367,3367,3367,3367,3367,3367,3367,3367,3367,3367,3367,3367,3367,3367,3367,3367,3367,3367,3364,3364,3364,3364,3364,3364,3364,3363,3363,3363,3363,3363,3363,3363,3363,3357,3357,3357,3355,3320,3318,3318,3318,3318,3318,3318,3318,3318,3318,3318,3318,3318,3318,3318,3318,3318,3318,3318,3318,3318,3318,3318,3318,3318,3318,3318,3318,3318,3318,3318,3318,3318,3318,3318,3318,3318,3318,3318,3318,3318,3318,3318,3318,3318,3318,3318,3318,3311,3308,3308,3308,3308,3305,3305,3305,3305,3305,3305,3305,3304,3292,3290,3286,3286,3286,3286,3286,3286,3270,3263,3253,3252,3252,3252,3251,3251,3250,3249,3240,3178,3177,3140,3123,2986,2978,2978,2978,2978,2978,2978,2963,2830,2830,2830,2830,2830,2830,2830,2830,2830,2830,2830,2830,2830,2830,2830,2830,2830,2830,2830,2830,2830,2830,2830,2830,2830,2830,2830,2828,2817,2783,2671,2650,2540,2540,2537,2528,2524,2523,2522,2503,2438,2438,2438,2438,2425,2420,2373,2323,2254,2254,2241,2236,2231,2231,2231,2231,2231,2231,2231,2231,2231,2231,2219,2089,2018,1973,1952,1939,1939,1939,1938,1934,1934,1934,1930,1903,1744,1740,1711,1688,1674,1657,1523,1477,1360,1356,1338,1287,1287,1287,1209,1207,1159,1159,1156,1156,1156,1148,1083,977,976,949,920,917,880,836,816,815,712,711,711,710,687,660,641,487,412,385,380,275,131,1]}},\"id\":\"b853cc25-0260-4434-b11f-4ba88191fcfa\",\"type\":\"ColumnDataSource\"},{\"attributes\":{\"data_source\":{\"id\":\"84894098-0ca3-46fa-8d87-a501eaeee1ed\",\"type\":\"ColumnDataSource\"},\"glyph\":{\"id\":\"aaa65f7f-5464-4ed2-bfe4-a27b6b09ce68\",\"type\":\"Line\"},\"hover_glyph\":null,\"nonselection_glyph\":{\"id\":\"4dcf782a-443d-4cf8-b79a-20ace87757e3\",\"type\":\"Line\"},\"selection_glyph\":null},\"id\":\"db1666fb-df1e-43c6-8d94-3c60acb7388e\",\"type\":\"GlyphRenderer\"},{\"attributes\":{\"data_source\":{\"id\":\"c9111a62-f4ab-43c3-be7b-b1d7e11a871b\",\"type\":\"ColumnDataSource\"},\"glyph\":{\"id\":\"7bde96a8-12af-4351-a0a0-5edebb2c01c9\",\"type\":\"Patch\"},\"hover_glyph\":null,\"nonselection_glyph\":{\"id\":\"511a70ed-b048-436f-ab31-b82b51e78984\",\"type\":\"Patch\"},\"selection_glyph\":null},\"id\":\"ca817e35-f416-4ece-815f-696a05a671ab\",\"type\":\"GlyphRenderer\"},{\"attributes\":{\"fill_alpha\":{\"value\":0.1},\"fill_color\":{\"value\":\"#1f77b4\"},\"line_alpha\":{\"value\":0.1},\"line_color\":{\"value\":\"#1f77b4\"},\"x\":{\"field\":\"x\"},\"y\":{\"field\":\"y\"}},\"id\":\"385065bd-bf14-403c-bb18-556849bf1a57\",\"type\":\"Patch\"},{\"attributes\":{\"line_alpha\":{\"value\":0.1},\"line_color\":{\"value\":\"#1f77b4\"},\"line_width\":{\"value\":2},\"x\":{\"field\":\"x\"},\"y\":{\"field\":\"y\"}},\"id\":\"4dcf782a-443d-4cf8-b79a-20ace87757e3\",\"type\":\"Line\"},{\"attributes\":{\"callback\":null},\"id\":\"1cf80607-84d5-4a9d-b98d-efe2ebeab017\",\"type\":\"DataRange1d\"},{\"attributes\":{\"data_source\":{\"id\":\"b853cc25-0260-4434-b11f-4ba88191fcfa\",\"type\":\"ColumnDataSource\"},\"glyph\":{\"id\":\"3dbf518c-0ba4-4d17-af1a-747c27c0dd0a\",\"type\":\"Patch\"},\"hover_glyph\":null,\"nonselection_glyph\":{\"id\":\"d3273f03-0c4e-4d60-a555-ec7bb7f48110\",\"type\":\"Patch\"},\"selection_glyph\":null},\"id\":\"67a1d730-f85c-4e69-9894-c219cfa66c9b\",\"type\":\"GlyphRenderer\"},{\"attributes\":{\"line_color\":{\"value\":\"#e41a1c\"},\"line_width\":{\"value\":2},\"x\":{\"field\":\"x\"},\"y\":{\"field\":\"y\"}},\"id\":\"aaa65f7f-5464-4ed2-bfe4-a27b6b09ce68\",\"type\":\"Line\"},{\"attributes\":{\"plot\":{\"id\":\"36b65396-88f5-487d-8fe3-0385f550f234\",\"subtype\":\"Figure\",\"type\":\"Plot\"}},\"id\":\"aa061351-6243-4f90-8fa5-9e9e98a9d723\",\"type\":\"HelpTool\"},{\"attributes\":{\"fill_alpha\":{\"value\":0.1},\"fill_color\":{\"value\":\"#1f77b4\"},\"line_alpha\":{\"value\":0.1},\"line_color\":{\"value\":\"#1f77b4\"},\"x\":{\"field\":\"x\"},\"y\":{\"field\":\"y\"}},\"id\":\"511a70ed-b048-436f-ab31-b82b51e78984\",\"type\":\"Patch\"},{\"attributes\":{\"plot\":{\"id\":\"36b65396-88f5-487d-8fe3-0385f550f234\",\"subtype\":\"Figure\",\"type\":\"Plot\"}},\"id\":\"4ac36693-c2ec-4096-b9cb-83e416b0c354\",\"type\":\"ResetTool\"},{\"attributes\":{\"label\":{\"value\":\"0.5 Alpha 8 NScaler\"},\"renderers\":[{\"id\":\"f95354aa-3825-4de7-a766-c5b9f78560de\",\"type\":\"GlyphRenderer\"}]},\"id\":\"1df40fa9-14d3-433b-bcff-d6cef1857c9e\",\"type\":\"LegendItem\"},{\"attributes\":{\"fill_alpha\":{\"value\":0.1},\"fill_color\":{\"value\":\"#e41a1c\"},\"line_alpha\":{\"value\":0.1},\"line_color\":{\"value\":\"#e41a1c\"},\"x\":{\"field\":\"x\"},\"y\":{\"field\":\"y\"}},\"id\":\"df9d8fd0-c684-47ca-b279-0c32fd597ccd\",\"type\":\"Patch\"},{\"attributes\":{\"plot\":{\"id\":\"36b65396-88f5-487d-8fe3-0385f550f234\",\"subtype\":\"Figure\",\"type\":\"Plot\"}},\"id\":\"289816f8-7036-4325-ac11-8f997bc023fa\",\"type\":\"WheelZoomTool\"},{\"attributes\":{\"overlay\":{\"id\":\"2802c99c-e730-45c2-9e03-03d157ba3879\",\"type\":\"BoxAnnotation\"},\"plot\":{\"id\":\"36b65396-88f5-487d-8fe3-0385f550f234\",\"subtype\":\"Figure\",\"type\":\"Plot\"}},\"id\":\"a40fb085-9d61-424e-8868-5438451d80d4\",\"type\":\"BoxZoomTool\"},{\"attributes\":{\"plot\":{\"id\":\"36b65396-88f5-487d-8fe3-0385f550f234\",\"subtype\":\"Figure\",\"type\":\"Plot\"}},\"id\":\"a6a896a4-13c4-43ed-a83f-3c5f7be5306b\",\"type\":\"SaveTool\"},{\"attributes\":{\"line_color\":{\"value\":\"#984ea3\"},\"line_width\":{\"value\":2},\"x\":{\"field\":\"x\"},\"y\":{\"field\":\"y\"}},\"id\":\"eefae375-c942-4e52-bf44-4044c226bbf3\",\"type\":\"Line\"},{\"attributes\":{\"plot\":{\"id\":\"36b65396-88f5-487d-8fe3-0385f550f234\",\"subtype\":\"Figure\",\"type\":\"Plot\"}},\"id\":\"cb62a603-b35a-470e-9a6b-f0df81f8a925\",\"type\":\"PanTool\"},{\"attributes\":{\"fill_alpha\":{\"value\":0.1},\"fill_color\":{\"value\":\"#4daf4a\"},\"line_alpha\":{\"value\":0.1},\"line_color\":{\"value\":\"#4daf4a\"},\"x\":{\"field\":\"x\"},\"y\":{\"field\":\"y\"}},\"id\":\"3dbf518c-0ba4-4d17-af1a-747c27c0dd0a\",\"type\":\"Patch\"},{\"attributes\":{\"bottom_units\":\"screen\",\"fill_alpha\":{\"value\":0.5},\"fill_color\":{\"value\":\"lightgrey\"},\"left_units\":\"screen\",\"level\":\"overlay\",\"line_alpha\":{\"value\":1.0},\"line_color\":{\"value\":\"black\"},\"line_dash\":[4,4],\"line_width\":{\"value\":2},\"plot\":null,\"render_mode\":\"css\",\"right_units\":\"screen\",\"top_units\":\"screen\"},\"id\":\"2802c99c-e730-45c2-9e03-03d157ba3879\",\"type\":\"BoxAnnotation\"},{\"attributes\":{\"axis_label\":\"T\",\"formatter\":{\"id\":\"caa0f2fa-bfee-46d0-b908-a88ecda10178\",\"type\":\"BasicTickFormatter\"},\"plot\":{\"id\":\"36b65396-88f5-487d-8fe3-0385f550f234\",\"subtype\":\"Figure\",\"type\":\"Plot\"},\"ticker\":{\"id\":\"9542c41e-eefd-4182-96c9-639a7542d24e\",\"type\":\"BasicTicker\"}},\"id\":\"1d0c9d92-6c0c-4b07-9b42-0f99efc6f3a5\",\"type\":\"LinearAxis\"},{\"attributes\":{\"plot\":{\"id\":\"36b65396-88f5-487d-8fe3-0385f550f234\",\"subtype\":\"Figure\",\"type\":\"Plot\"},\"ticker\":{\"id\":\"9542c41e-eefd-4182-96c9-639a7542d24e\",\"type\":\"BasicTicker\"}},\"id\":\"247ecb45-5593-4ff6-ab5f-fce752f238fa\",\"type\":\"Grid\"},{\"attributes\":{\"axis_label\":\"States visited\",\"formatter\":{\"id\":\"4a6568b1-d0e1-4151-890e-660f46d043e6\",\"type\":\"BasicTickFormatter\"},\"plot\":{\"id\":\"36b65396-88f5-487d-8fe3-0385f550f234\",\"subtype\":\"Figure\",\"type\":\"Plot\"},\"ticker\":{\"id\":\"5ab45399-9a73-4c30-8ee1-2080941f7395\",\"type\":\"BasicTicker\"}},\"id\":\"e7b38ed2-fab3-4da8-b6ba-15a94275c7c2\",\"type\":\"LinearAxis\"},{\"attributes\":{},\"id\":\"9542c41e-eefd-4182-96c9-639a7542d24e\",\"type\":\"BasicTicker\"},{\"attributes\":{},\"id\":\"5ab45399-9a73-4c30-8ee1-2080941f7395\",\"type\":\"BasicTicker\"},{\"attributes\":{\"dimension\":1,\"plot\":{\"id\":\"36b65396-88f5-487d-8fe3-0385f550f234\",\"subtype\":\"Figure\",\"type\":\"Plot\"},\"ticker\":{\"id\":\"5ab45399-9a73-4c30-8ee1-2080941f7395\",\"type\":\"BasicTicker\"}},\"id\":\"765c528e-3377-407c-b592-64eb1373c293\",\"type\":\"Grid\"},{\"attributes\":{\"label\":{\"value\":\"0.7 Alpha 1 NScaler\"},\"renderers\":[{\"id\":\"217d368c-04a5-4b33-b2cc-29bc91cbd69a\",\"type\":\"GlyphRenderer\"}]},\"id\":\"fcfe1eb8-4785-4014-84de-ffce721197e6\",\"type\":\"LegendItem\"},{\"attributes\":{\"plot\":null,\"text\":\"Med Maze 14 Prioritized 250k XP Replay Stale\"},\"id\":\"6b010ca6-bed7-4ea9-aaaa-1fb93fff7f95\",\"type\":\"Title\"},{\"attributes\":{\"callback\":null},\"id\":\"7a3a99c1-0a25-4282-96b9-76c0e3669474\",\"type\":\"DataRange1d\"},{\"attributes\":{\"line_alpha\":{\"value\":0.1},\"line_color\":{\"value\":\"#1f77b4\"},\"line_width\":{\"value\":2},\"x\":{\"field\":\"x\"},\"y\":{\"field\":\"y\"}},\"id\":\"5bd7026f-819b-4a81-bb1c-72bf5df9d657\",\"type\":\"Line\"},{\"attributes\":{\"data_source\":{\"id\":\"83b2691e-0ce4-49cf-bd81-864bcb35daeb\",\"type\":\"ColumnDataSource\"},\"glyph\":{\"id\":\"eefae375-c942-4e52-bf44-4044c226bbf3\",\"type\":\"Line\"},\"hover_glyph\":null,\"nonselection_glyph\":{\"id\":\"33ec1f80-2139-4ba4-b0b5-d17001cd5c9d\",\"type\":\"Line\"},\"selection_glyph\":null},\"id\":\"e63a05e6-3d09-4a7d-b5fc-9c60a2480ed6\",\"type\":\"GlyphRenderer\"},{\"attributes\":{\"fill_alpha\":{\"value\":0.1},\"fill_color\":{\"value\":\"#984ea3\"},\"line_alpha\":{\"value\":0.1},\"line_color\":{\"value\":\"#984ea3\"},\"x\":{\"field\":\"x\"},\"y\":{\"field\":\"y\"}},\"id\":\"88095d24-d464-4309-8a90-432345d62c32\",\"type\":\"Patch\"},{\"attributes\":{\"callback\":null,\"column_names\":[\"x\",\"y\"],\"data\":{\"x\":[0,1000,2000,3000,4000,5000,6000,7000,8000,9000,10000,11000,12000,13000,14000,15000,16000,17000,18000,19000,20000,21000,22000,23000,24000,25000,26000,27000,28000,29000,30000,31000,32000,33000,34000,35000,36000,37000,38000,39000,40000,41000,42000,43000,44000,45000,46000,47000,48000,49000,50000,51000,52000,53000,54000,55000,56000,57000,58000,59000,60000,61000,62000,63000,64000,65000,66000,67000,68000,69000,70000,71000,72000,73000,74000,75000,76000,77000,78000,79000,80000,81000,82000,83000,84000,85000,86000,87000,88000,89000,90000,91000,92000,93000,94000,95000,96000,97000,98000,99000,100000,101000,102000,103000,104000,105000,106000,107000,108000,109000,110000,111000,112000,113000,114000,115000,116000,117000,118000,119000,120000,121000,122000,123000,124000,125000,126000,127000,128000,129000,130000,131000,132000,133000,134000,135000,136000,137000,138000,139000,140000,141000,142000,143000,144000,145000,146000,147000,148000,149000,150000,151000,152000,153000,154000,155000,156000,157000,158000,159000,160000,161000,162000,163000,164000,165000,166000,167000,168000,169000,170000,171000,172000,173000,174000,175000,176000,177000,178000,179000,180000,181000,182000,183000,184000,185000,186000,187000,188000,189000,190000,191000,192000,193000,194000,195000,196000,197000,198000,199000,200000,201000,202000,203000,204000,205000,206000,207000,208000,209000,210000,211000,212000,213000,214000,215000,216000,217000,218000,219000,220000,221000,222000,223000,224000,225000,226000,227000,228000,229000,230000,231000,232000,233000,234000,235000,236000,237000,238000,239000,240000,241000,242000,243000,244000,245000,246000,247000,248000,249000,250000,251000,252000,253000,254000,255000,256000,257000,258000,259000,260000,261000,262000,263000,264000,265000,266000,267000,268000,269000,270000,271000,272000,273000,274000,275000,276000,277000,278000,279000,280000,281000,282000,283000,284000,285000,286000,287000,288000,289000,290000,291000,292000,293000,294000,295000,296000,297000,298000,299000,300000,301000,302000,303000,304000,305000,306000,307000,308000,309000,310000,311000,312000,313000,314000,315000,316000,317000,318000,319000,320000,321000,322000,323000,324000,325000,326000,327000,328000,329000,330000,331000,332000,333000,334000,335000,336000,337000,338000,339000,340000,341000,342000,343000,344000,345000,346000,347000,348000,349000,350000,351000,352000,353000,354000,355000,356000,357000,358000,359000,360000,361000,362000,363000,364000,365000,366000,367000,368000,369000,370000,371000,372000,373000,374000,375000,376000,377000,378000,379000,380000,381000,382000,383000,384000,385000,386000,387000,388000,389000,390000,391000,392000,393000,394000,395000,396000,397000,398000,399000,400000,401000,402000,403000,404000,405000,406000,407000,408000,409000,410000,411000,412000,413000,414000,415000,416000,417000,418000,419000,420000,421000,422000,423000,424000,425000,426000,427000,428000,429000,430000,431000,432000,433000,434000,435000,436000,437000,438000,439000,440000,441000,442000,443000,444000,445000,446000,447000,448000,449000,450000,451000,452000,453000,454000,455000,456000,457000,458000,459000,460000,461000,462000,463000,464000,465000,466000,467000,468000,469000,470000,471000,472000,473000,474000,475000,476000,477000,478000,479000,480000,481000,482000,483000,484000,485000,486000,487000,488000,489000,490000,491000,492000,493000,494000,495000,496000,497000,498000,499000,500000,501000,502000,503000,504000,505000,506000,507000,508000,509000,510000,511000,512000,513000,514000,515000,516000,517000,518000,519000,520000,521000,522000,523000,524000,525000,526000,527000,528000,529000,530000,531000,532000,533000,534000,535000,536000,537000,538000,539000,540000,541000,542000,543000,544000,545000,546000,547000,548000,549000,550000,551000,552000,553000,554000,555000,556000,557000,558000,559000,560000,561000,562000,563000,564000,565000,566000,567000,568000,569000,570000,571000,572000,573000,574000,575000,576000,577000,578000,579000,580000,581000,582000,583000,584000,585000,586000,587000,588000,589000,590000,591000,592000,593000,594000,595000,596000,597000,598000,599000,600000],\"y\":{\"__ndarray__\":\"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\",\"dtype\":\"float64\",\"shape\":[600]}}},\"id\":\"06a225e9-d349-4dae-b286-2b4d9c947f47\",\"type\":\"ColumnDataSource\"},{\"attributes\":{\"fill_alpha\":{\"value\":0.1},\"fill_color\":{\"value\":\"#1f77b4\"},\"line_alpha\":{\"value\":0.1},\"line_color\":{\"value\":\"#1f77b4\"},\"x\":{\"field\":\"x\"},\"y\":{\"field\":\"y\"}},\"id\":\"d3273f03-0c4e-4d60-a555-ec7bb7f48110\",\"type\":\"Patch\"}],\"root_ids\":[\"36b65396-88f5-487d-8fe3-0385f550f234\"]},\"title\":\"Bokeh Application\",\"version\":\"0.12.4\"}};\n",
       "            var render_items = [{\"docid\":\"38d8785e-76ba-4138-a141-fd1991c55b2d\",\"elementid\":\"d686baf2-efd1-4eba-a393-f21689d5d90a\",\"modelid\":\"36b65396-88f5-487d-8fe3-0385f550f234\"}];\n",
       "            \n",
       "            Bokeh.embed.embed_items(docs_json, render_items);\n",
       "          };\n",
       "          if (document.readyState != \"loading\") fn();\n",
       "          else document.addEventListener(\"DOMContentLoaded\", fn);\n",
       "        })();\n",
       "      },\n",
       "      function(Bokeh) {\n",
       "      }\n",
       "    ];\n",
       "  \n",
       "    function run_inline_js() {\n",
       "      \n",
       "      if ((window.Bokeh !== undefined) || (force === true)) {\n",
       "        for (var i = 0; i < inline_js.length; i++) {\n",
       "          inline_js[i](window.Bokeh);\n",
       "        }if (force === true) {\n",
       "          display_loaded();\n",
       "        }} else if (Date.now() < window._bokeh_timeout) {\n",
       "        setTimeout(run_inline_js, 100);\n",
       "      } else if (!window._bokeh_failed_load) {\n",
       "        console.log(\"Bokeh: BokehJS failed to load within specified timeout.\");\n",
       "        window._bokeh_failed_load = true;\n",
       "      } else if (force !== true) {\n",
       "        var cell = $(document.getElementById(\"d686baf2-efd1-4eba-a393-f21689d5d90a\")).parents('.cell').data().cell;\n",
       "        cell.output_area.append_execute_result(NB_LOAD_WARNING)\n",
       "      }\n",
       "  \n",
       "    }\n",
       "  \n",
       "    if (window._bokeh_is_loading === 0) {\n",
       "      console.log(\"Bokeh: BokehJS loaded, going straight to plotting\");\n",
       "      run_inline_js();\n",
       "    } else {\n",
       "      load_libs(js_urls, function() {\n",
       "        console.log(\"Bokeh: BokehJS plotting callback run at\", now());\n",
       "        run_inline_js();\n",
       "      });\n",
       "    }\n",
       "  }(this));\n",
       "</script>"
      ]
     },
     "metadata": {},
     "output_type": "display_data"
    }
   ],
   "source": [
    "plot_averages_b(names, t_maxs, colours, legends, directories, step=1000, title=env, min_max=False)\n",
    "plot_states(names, t_maxs, colours, legends, directories, step=1000, title=env)"
   ]
  },
  {
   "cell_type": "code",
   "execution_count": null,
   "metadata": {
    "collapsed": true,
    "deletable": true,
    "editable": true
   },
   "outputs": [],
   "source": []
  },
  {
   "cell_type": "code",
   "execution_count": null,
   "metadata": {
    "collapsed": true,
    "deletable": true,
    "editable": true
   },
   "outputs": [],
   "source": []
  },
  {
   "cell_type": "code",
   "execution_count": null,
   "metadata": {
    "collapsed": true,
    "deletable": true,
    "editable": true
   },
   "outputs": [],
   "source": [
    "DQN_Smoothed = []\n",
    "for times, rewards in zip(DQN_Lengths_C, DQN_Rewards):\n",
    "    linear = interp1d(times, rewards, kind=\"linear\")\n",
    "    linear_rewards = linear([i for i in range(500000)])\n",
    "    DQN_Smoothed.append(linear_rewards)"
   ]
  },
  {
   "cell_type": "code",
   "execution_count": null,
   "metadata": {
    "collapsed": true,
    "deletable": true,
    "editable": true
   },
   "outputs": [],
   "source": [
    "DQN_Means = np.mean(DQN_Smoothed, axis=0)"
   ]
  },
  {
   "cell_type": "code",
   "execution_count": null,
   "metadata": {
    "collapsed": true,
    "deletable": true,
    "editable": true
   },
   "outputs": [],
   "source": [
    "DQN_Stds = np.std(DQN_Smoothed, axis=0)"
   ]
  },
  {
   "cell_type": "code",
   "execution_count": null,
   "metadata": {
    "collapsed": false,
    "deletable": true,
    "editable": true
   },
   "outputs": [],
   "source": [
    "plt.fill_between([i for i in range(500000)], DQN_Means - DQN_Stds, DQN_Means + DQN_Stds, color=\"red\", alpha=0.3, edgecolor=\"white\")\n",
    "\n",
    "plt.plot([i for i in range(500000)], DQN_Means, color=\"red\")"
   ]
  },
  {
   "cell_type": "code",
   "execution_count": null,
   "metadata": {
    "collapsed": false,
    "deletable": true,
    "editable": true
   },
   "outputs": [],
   "source": [
    "len(DQN_Repeat)"
   ]
  },
  {
   "cell_type": "code",
   "execution_count": null,
   "metadata": {
    "collapsed": true,
    "deletable": true,
    "editable": true
   },
   "outputs": [],
   "source": [
    "plt.plot(DQN)"
   ]
  },
  {
   "cell_type": "code",
   "execution_count": null,
   "metadata": {
    "collapsed": true,
    "deletable": true,
    "editable": true
   },
   "outputs": [],
   "source": [
    "directories = [\"Logs/\"]"
   ]
  },
  {
   "cell_type": "code",
   "execution_count": null,
   "metadata": {
    "collapsed": false,
    "deletable": true,
    "editable": true
   },
   "outputs": [],
   "source": [
    "for i in range(0, 10, 2):\n",
    "    print(i)"
   ]
  },
  {
   "cell_type": "code",
   "execution_count": null,
   "metadata": {
    "collapsed": true,
    "deletable": true,
    "editable": true
   },
   "outputs": [],
   "source": []
  }
 ],
 "metadata": {
  "kernelspec": {
   "display_name": "Python 3",
   "language": "python",
   "name": "python3"
  },
  "language_info": {
   "codemirror_mode": {
    "name": "ipython",
    "version": 3
   },
   "file_extension": ".py",
   "mimetype": "text/x-python",
   "name": "python",
   "nbconvert_exporter": "python",
   "pygments_lexer": "ipython3",
   "version": "3.6.0"
  }
 },
 "nbformat": 4,
 "nbformat_minor": 2
}
